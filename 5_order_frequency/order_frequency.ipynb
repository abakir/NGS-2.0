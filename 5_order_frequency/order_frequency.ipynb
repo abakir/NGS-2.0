{
 "metadata": {
  "name": "",
  "signature": "sha256:41819f4e6379e19ef7512dc39433e0b518f73ec36ac78f17427c6cf5f4be604e"
 },
 "nbformat": 3,
 "nbformat_minor": 0,
 "worksheets": [
  {
   "cells": [
    {
     "cell_type": "code",
     "collapsed": false,
     "input": [
      "#!/home/cloudera/local/lib/python2.6/site-packages/bin/python\n",
      "\n",
      "# Author : Sai Sree Kamineni\n",
      "# Date created : Jan 10, 2016\n",
      "# Execution frequency : Weekly\n",
      "# Inputs refresh frequency : Weekly\n",
      "\n",
      "# Input : data_input/shopify/export_orders.csv\n",
      "# Output : data_output/order_frequency.csv\n",
      "# Purpose : Gives the count of customers whose average days between orders fall in the given ranges\n",
      "\n",
      "import pandas as pd\n",
      "import numpy as np\n",
      "import yaml\n",
      "import logging\n",
      "import time\n",
      "import os\n",
      "\n",
      "with open(\"../config.yaml\", 'r') as ymlfile:\n",
      "        cfg = yaml.load(ymlfile)\n",
      "        \n",
      "def make_sure_path_exists(path):\n",
      "    if (os.path.isdir(path) == False):\n",
      "        os.makedirs(path)\n",
      "\n",
      "make_sure_path_exists(cfg['root'] + cfg['dir_logs'])\n",
      "make_sure_path_exists(cfg['root']+cfg['dir_data_output'])\n",
      "\n",
      "# create logger\n",
      "logger = logging.getLogger(cfg['log_order_frequency'])\n",
      "logger.setLevel(logging.DEBUG)\n",
      "# create console handler and set level to debug\n",
      "ch = logging.FileHandler(cfg['root'] + cfg['dir_logs'] + cfg['log_order_frequency'] + \"_\" + time.strftime(\"%Y_%m_%d_%H_%M_%S\") + \".log\" )\n",
      "ch.setLevel(logging.DEBUG)\n",
      "# create formatter\n",
      "formatter = logging.Formatter(\"%(asctime)s - %(name)s - %(levelname)s - %(message)s\")\n",
      "# add formatter to ch\n",
      "ch.setFormatter(formatter)\n",
      "# add ch to logger\n",
      "logger.addHandler(ch)\n",
      "\n",
      "df = pd.read_csv(cfg['root']+cfg['dir_data_shopify']+cfg[\"input_orders\"],low_memory=False)\n",
      "logger.debug(\"Data Frame df created\")"
     ],
     "language": "python",
     "metadata": {},
     "outputs": [],
     "prompt_number": 1
    },
    {
     "cell_type": "code",
     "collapsed": false,
     "input": [
      "# take required fields\n",
      "df1=df[['Email', 'Created at' ]]\n",
      "\n",
      "#let there be only one row for each order\n",
      "df1=df1.drop_duplicates().reset_index().drop('index',1)\n",
      "\n",
      "#getting only date from created at field\n",
      "df1['Created at'] = df1.apply(lambda x: x['Created at'][:10], axis = 1)\n",
      "    \n",
      "df1=df1.drop_duplicates().reset_index().drop('index',1)\n",
      "df1.head()"
     ],
     "language": "python",
     "metadata": {},
     "outputs": [
      {
       "html": [
        "<div style=\"max-height:1000px;max-width:1500px;overflow:auto;\">\n",
        "<table border=\"1\" class=\"dataframe\">\n",
        "  <thead>\n",
        "    <tr style=\"text-align: right;\">\n",
        "      <th></th>\n",
        "      <th>Email</th>\n",
        "      <th>Created at</th>\n",
        "    </tr>\n",
        "  </thead>\n",
        "  <tbody>\n",
        "    <tr>\n",
        "      <th>0</th>\n",
        "      <td> hassankhorshid@hotmail.com</td>\n",
        "      <td> 2016-01-06</td>\n",
        "    </tr>\n",
        "    <tr>\n",
        "      <th>1</th>\n",
        "      <td>         dashba@hotmail.com</td>\n",
        "      <td> 2016-01-06</td>\n",
        "    </tr>\n",
        "    <tr>\n",
        "      <th>2</th>\n",
        "      <td>   carla_rjanho@hotmail.com</td>\n",
        "      <td> 2016-01-06</td>\n",
        "    </tr>\n",
        "    <tr>\n",
        "      <th>3</th>\n",
        "      <td>      safiramlawy@yahoo.com</td>\n",
        "      <td> 2016-01-06</td>\n",
        "    </tr>\n",
        "    <tr>\n",
        "      <th>4</th>\n",
        "      <td>        alia__0@hotmail.com</td>\n",
        "      <td> 2016-01-06</td>\n",
        "    </tr>\n",
        "  </tbody>\n",
        "</table>\n",
        "</div>"
       ],
       "metadata": {},
       "output_type": "pyout",
       "prompt_number": 3,
       "text": [
        "                        Email  Created at\n",
        "0  hassankhorshid@hotmail.com  2016-01-06\n",
        "1          dashba@hotmail.com  2016-01-06\n",
        "2    carla_rjanho@hotmail.com  2016-01-06\n",
        "3       safiramlawy@yahoo.com  2016-01-06\n",
        "4         alia__0@hotmail.com  2016-01-06"
       ]
      }
     ],
     "prompt_number": 3
    },
    {
     "cell_type": "code",
     "collapsed": false,
     "input": [
      "df1.columns=['Email', 'Date']\n",
      "df1['Difference'] = 0\n",
      "df1['Count'] = 0\n",
      "\n",
      "df1['Date'] =pd.to_datetime(df1.Date)\n",
      "df1=df1.sort(['Email', 'Date']).reset_index().drop('index',1)\n",
      "df1.head()"
     ],
     "language": "python",
     "metadata": {},
     "outputs": [
      {
       "html": [
        "<div style=\"max-height:1000px;max-width:1500px;overflow:auto;\">\n",
        "<table border=\"1\" class=\"dataframe\">\n",
        "  <thead>\n",
        "    <tr style=\"text-align: right;\">\n",
        "      <th></th>\n",
        "      <th>Email</th>\n",
        "      <th>Date</th>\n",
        "      <th>Difference</th>\n",
        "      <th>Count</th>\n",
        "    </tr>\n",
        "  </thead>\n",
        "  <tbody>\n",
        "    <tr>\n",
        "      <th>0</th>\n",
        "      <td> 11435mail@mkallenberger.de</td>\n",
        "      <td>2013-05-26</td>\n",
        "      <td> 0</td>\n",
        "      <td> 0</td>\n",
        "    </tr>\n",
        "    <tr>\n",
        "      <th>1</th>\n",
        "      <td>              1@gargour.com</td>\n",
        "      <td>2015-01-03</td>\n",
        "      <td> 0</td>\n",
        "      <td> 0</td>\n",
        "    </tr>\n",
        "    <tr>\n",
        "      <th>2</th>\n",
        "      <td>              1@gargour.com</td>\n",
        "      <td>2015-04-07</td>\n",
        "      <td> 0</td>\n",
        "      <td> 0</td>\n",
        "    </tr>\n",
        "    <tr>\n",
        "      <th>3</th>\n",
        "      <td>          1kttate@gmail.com</td>\n",
        "      <td>2015-08-09</td>\n",
        "      <td> 0</td>\n",
        "      <td> 0</td>\n",
        "    </tr>\n",
        "    <tr>\n",
        "      <th>4</th>\n",
        "      <td>          1kttate@gmail.com</td>\n",
        "      <td>2015-08-13</td>\n",
        "      <td> 0</td>\n",
        "      <td> 0</td>\n",
        "    </tr>\n",
        "  </tbody>\n",
        "</table>\n",
        "</div>"
       ],
       "metadata": {},
       "output_type": "pyout",
       "prompt_number": 4,
       "text": [
        "                        Email       Date  Difference  Count\n",
        "0  11435mail@mkallenberger.de 2013-05-26           0      0\n",
        "1               1@gargour.com 2015-01-03           0      0\n",
        "2               1@gargour.com 2015-04-07           0      0\n",
        "3           1kttate@gmail.com 2015-08-09           0      0\n",
        "4           1kttate@gmail.com 2015-08-13           0      0"
       ]
      }
     ],
     "prompt_number": 4
    },
    {
     "cell_type": "code",
     "collapsed": false,
     "input": [
      "n = 1\n",
      "for i in range(0,max(df1.index)):\n",
      "    if(df1.iloc[i,0]==df1.iloc[i+1,0]):\n",
      "        n = n + 1 #count total number of orders\n",
      "        df1.iloc[i+1,2]=(df1.iloc[i+1,1]-df1.iloc[i,1]).days #count days between orders\n",
      "        if (i == max(df1.index) - 1):\n",
      "            df1.iloc[i + 1,3] = n\n",
      "    else:\n",
      "        df1.iloc[i,3] = n\n",
      "        n = 1\n",
      "\n",
      "df1 = df1.groupby('Email', axis=0, as_index=False).sum()\n",
      "df1.head()"
     ],
     "language": "python",
     "metadata": {},
     "outputs": [
      {
       "html": [
        "<div style=\"max-height:1000px;max-width:1500px;overflow:auto;\">\n",
        "<table border=\"1\" class=\"dataframe\">\n",
        "  <thead>\n",
        "    <tr style=\"text-align: right;\">\n",
        "      <th></th>\n",
        "      <th>Email</th>\n",
        "      <th>Difference</th>\n",
        "      <th>Count</th>\n",
        "    </tr>\n",
        "  </thead>\n",
        "  <tbody>\n",
        "    <tr>\n",
        "      <th>0</th>\n",
        "      <td> 11435mail@mkallenberger.de</td>\n",
        "      <td>   0</td>\n",
        "      <td> 1</td>\n",
        "    </tr>\n",
        "    <tr>\n",
        "      <th>1</th>\n",
        "      <td>              1@gargour.com</td>\n",
        "      <td>  94</td>\n",
        "      <td> 2</td>\n",
        "    </tr>\n",
        "    <tr>\n",
        "      <th>2</th>\n",
        "      <td>          1kttate@gmail.com</td>\n",
        "      <td> 145</td>\n",
        "      <td> 5</td>\n",
        "    </tr>\n",
        "    <tr>\n",
        "      <th>3</th>\n",
        "      <td>  1youniqueflower@gmail.com</td>\n",
        "      <td> 375</td>\n",
        "      <td> 3</td>\n",
        "    </tr>\n",
        "    <tr>\n",
        "      <th>4</th>\n",
        "      <td>         3aliaa.h@gmail.com</td>\n",
        "      <td>  22</td>\n",
        "      <td> 3</td>\n",
        "    </tr>\n",
        "  </tbody>\n",
        "</table>\n",
        "</div>"
       ],
       "metadata": {},
       "output_type": "pyout",
       "prompt_number": 5,
       "text": [
        "                        Email  Difference  Count\n",
        "0  11435mail@mkallenberger.de           0      1\n",
        "1               1@gargour.com          94      2\n",
        "2           1kttate@gmail.com         145      5\n",
        "3   1youniqueflower@gmail.com         375      3\n",
        "4          3aliaa.h@gmail.com          22      3"
       ]
      }
     ],
     "prompt_number": 5
    },
    {
     "cell_type": "code",
     "collapsed": false,
     "input": [
      "\n",
      "#calculate average days between orders\n",
      "df1.loc[:,'Average'] = df1.apply(lambda x: x['Difference']/float(x['Count']), axis = 1)\n",
      "df1.head()"
     ],
     "language": "python",
     "metadata": {},
     "outputs": [
      {
       "html": [
        "<div style=\"max-height:1000px;max-width:1500px;overflow:auto;\">\n",
        "<table border=\"1\" class=\"dataframe\">\n",
        "  <thead>\n",
        "    <tr style=\"text-align: right;\">\n",
        "      <th></th>\n",
        "      <th>Email</th>\n",
        "      <th>Difference</th>\n",
        "      <th>Count</th>\n",
        "      <th>Average</th>\n",
        "    </tr>\n",
        "  </thead>\n",
        "  <tbody>\n",
        "    <tr>\n",
        "      <th>0</th>\n",
        "      <td> 11435mail@mkallenberger.de</td>\n",
        "      <td>   0</td>\n",
        "      <td> 1</td>\n",
        "      <td>   0.000000</td>\n",
        "    </tr>\n",
        "    <tr>\n",
        "      <th>1</th>\n",
        "      <td>              1@gargour.com</td>\n",
        "      <td>  94</td>\n",
        "      <td> 2</td>\n",
        "      <td>  47.000000</td>\n",
        "    </tr>\n",
        "    <tr>\n",
        "      <th>2</th>\n",
        "      <td>          1kttate@gmail.com</td>\n",
        "      <td> 145</td>\n",
        "      <td> 5</td>\n",
        "      <td>  29.000000</td>\n",
        "    </tr>\n",
        "    <tr>\n",
        "      <th>3</th>\n",
        "      <td>  1youniqueflower@gmail.com</td>\n",
        "      <td> 375</td>\n",
        "      <td> 3</td>\n",
        "      <td> 125.000000</td>\n",
        "    </tr>\n",
        "    <tr>\n",
        "      <th>4</th>\n",
        "      <td>         3aliaa.h@gmail.com</td>\n",
        "      <td>  22</td>\n",
        "      <td> 3</td>\n",
        "      <td>   7.333333</td>\n",
        "    </tr>\n",
        "  </tbody>\n",
        "</table>\n",
        "</div>"
       ],
       "metadata": {},
       "output_type": "pyout",
       "prompt_number": 6,
       "text": [
        "                        Email  Difference  Count     Average\n",
        "0  11435mail@mkallenberger.de           0      1    0.000000\n",
        "1               1@gargour.com          94      2   47.000000\n",
        "2           1kttate@gmail.com         145      5   29.000000\n",
        "3   1youniqueflower@gmail.com         375      3  125.000000\n",
        "4          3aliaa.h@gmail.com          22      3    7.333333"
       ]
      }
     ],
     "prompt_number": 6
    },
    {
     "cell_type": "code",
     "collapsed": false,
     "input": [
      "df2 = df1[['Average']]\n",
      "df2 = df2[df2.Average != 0] #retain average > 0\n",
      "df2 = df2.reset_index().drop('index',1)\n",
      "a = df2['Average'].tolist()\n",
      "a = np.asarray(a)\n",
      "df2.head()"
     ],
     "language": "python",
     "metadata": {},
     "outputs": [
      {
       "html": [
        "<div style=\"max-height:1000px;max-width:1500px;overflow:auto;\">\n",
        "<table border=\"1\" class=\"dataframe\">\n",
        "  <thead>\n",
        "    <tr style=\"text-align: right;\">\n",
        "      <th></th>\n",
        "      <th>Average</th>\n",
        "    </tr>\n",
        "  </thead>\n",
        "  <tbody>\n",
        "    <tr>\n",
        "      <th>0</th>\n",
        "      <td>  47.000000</td>\n",
        "    </tr>\n",
        "    <tr>\n",
        "      <th>1</th>\n",
        "      <td>  29.000000</td>\n",
        "    </tr>\n",
        "    <tr>\n",
        "      <th>2</th>\n",
        "      <td> 125.000000</td>\n",
        "    </tr>\n",
        "    <tr>\n",
        "      <th>3</th>\n",
        "      <td>   7.333333</td>\n",
        "    </tr>\n",
        "    <tr>\n",
        "      <th>4</th>\n",
        "      <td>   2.500000</td>\n",
        "    </tr>\n",
        "  </tbody>\n",
        "</table>\n",
        "</div>"
       ],
       "metadata": {},
       "output_type": "pyout",
       "prompt_number": 14,
       "text": [
        "      Average\n",
        "0   47.000000\n",
        "1   29.000000\n",
        "2  125.000000\n",
        "3    7.333333\n",
        "4    2.500000"
       ]
      }
     ],
     "prompt_number": 14
    },
    {
     "cell_type": "code",
     "collapsed": false,
     "input": [
      "df4 = pd.DataFrame(columns = ['Days between orders', 'Customers'])\n",
      "df4['Days between orders'] = pd.Series(['1 to 4', '4 to 7', '7 to 15', '15 to 30', '30 to 60', '60 to 100', '100+'])\n",
      "df4.head()"
     ],
     "language": "python",
     "metadata": {},
     "outputs": [
      {
       "html": [
        "<div style=\"max-height:1000px;max-width:1500px;overflow:auto;\">\n",
        "<table border=\"1\" class=\"dataframe\">\n",
        "  <thead>\n",
        "    <tr style=\"text-align: right;\">\n",
        "      <th></th>\n",
        "      <th>Days between orders</th>\n",
        "      <th>Customers</th>\n",
        "    </tr>\n",
        "  </thead>\n",
        "  <tbody>\n",
        "    <tr>\n",
        "      <th>0</th>\n",
        "      <td>   1 to 4</td>\n",
        "      <td> NaN</td>\n",
        "    </tr>\n",
        "    <tr>\n",
        "      <th>1</th>\n",
        "      <td>   4 to 7</td>\n",
        "      <td> NaN</td>\n",
        "    </tr>\n",
        "    <tr>\n",
        "      <th>2</th>\n",
        "      <td>  7 to 15</td>\n",
        "      <td> NaN</td>\n",
        "    </tr>\n",
        "    <tr>\n",
        "      <th>3</th>\n",
        "      <td> 15 to 30</td>\n",
        "      <td> NaN</td>\n",
        "    </tr>\n",
        "    <tr>\n",
        "      <th>4</th>\n",
        "      <td> 30 to 60</td>\n",
        "      <td> NaN</td>\n",
        "    </tr>\n",
        "  </tbody>\n",
        "</table>\n",
        "</div>"
       ],
       "metadata": {},
       "output_type": "pyout",
       "prompt_number": 15,
       "text": [
        "  Days between orders Customers\n",
        "0              1 to 4       NaN\n",
        "1              4 to 7       NaN\n",
        "2             7 to 15       NaN\n",
        "3            15 to 30       NaN\n",
        "4            30 to 60       NaN"
       ]
      }
     ],
     "prompt_number": 15
    },
    {
     "cell_type": "code",
     "collapsed": false,
     "input": [
      "#count orders in given range\n",
      "df4.iloc[0, 1] = np.compress((0 < a) & (a < 4), a).size\n",
      "df4.iloc[1, 1] = np.compress((4 <= a) & (a < 7), a).size\n",
      "df4.iloc[2, 1] = np.compress((7 <= a) & (a < 15), a).size\n",
      "df4.iloc[3, 1] = np.compress((15 <= a) & (a < 30), a).size\n",
      "df4.iloc[4, 1] = np.compress((30 <= a) & (a < 60), a).size\n",
      "df4.iloc[5, 1] = np.compress((60 <= a) & (a < 100), a).size\n",
      "df4.iloc[6, 1] = np.compress((100 <= a), a).size\n",
      "df4"
     ],
     "language": "python",
     "metadata": {},
     "outputs": [
      {
       "html": [
        "<div style=\"max-height:1000px;max-width:1500px;overflow:auto;\">\n",
        "<table border=\"1\" class=\"dataframe\">\n",
        "  <thead>\n",
        "    <tr style=\"text-align: right;\">\n",
        "      <th></th>\n",
        "      <th>Days between orders</th>\n",
        "      <th>Customers</th>\n",
        "    </tr>\n",
        "  </thead>\n",
        "  <tbody>\n",
        "    <tr>\n",
        "      <th>0</th>\n",
        "      <td>    1 to 4</td>\n",
        "      <td> 169</td>\n",
        "    </tr>\n",
        "    <tr>\n",
        "      <th>1</th>\n",
        "      <td>    4 to 7</td>\n",
        "      <td>  72</td>\n",
        "    </tr>\n",
        "    <tr>\n",
        "      <th>2</th>\n",
        "      <td>   7 to 15</td>\n",
        "      <td> 158</td>\n",
        "    </tr>\n",
        "    <tr>\n",
        "      <th>3</th>\n",
        "      <td>  15 to 30</td>\n",
        "      <td> 202</td>\n",
        "    </tr>\n",
        "    <tr>\n",
        "      <th>4</th>\n",
        "      <td>  30 to 60</td>\n",
        "      <td> 221</td>\n",
        "    </tr>\n",
        "    <tr>\n",
        "      <th>5</th>\n",
        "      <td> 60 to 100</td>\n",
        "      <td> 129</td>\n",
        "    </tr>\n",
        "    <tr>\n",
        "      <th>6</th>\n",
        "      <td>      100+</td>\n",
        "      <td> 153</td>\n",
        "    </tr>\n",
        "  </tbody>\n",
        "</table>\n",
        "</div>"
       ],
       "metadata": {},
       "output_type": "pyout",
       "prompt_number": 16,
       "text": [
        "  Days between orders Customers\n",
        "0              1 to 4       169\n",
        "1              4 to 7        72\n",
        "2             7 to 15       158\n",
        "3            15 to 30       202\n",
        "4            30 to 60       221\n",
        "5           60 to 100       129\n",
        "6                100+       153"
       ]
      }
     ],
     "prompt_number": 16
    },
    {
     "cell_type": "code",
     "collapsed": false,
     "input": [],
     "language": "python",
     "metadata": {},
     "outputs": []
    }
   ],
   "metadata": {}
  }
 ]
}
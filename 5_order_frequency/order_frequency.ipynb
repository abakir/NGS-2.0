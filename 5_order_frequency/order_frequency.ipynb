{
 "metadata": {
  "name": "",
  "signature": "sha256:c7311b3580f5ac5dce8e3880ac828ed3dbf95db586fd2ea70198dccb65661ab7"
 },
 "nbformat": 3,
 "nbformat_minor": 0,
 "worksheets": [
  {
   "cells": [
    {
     "cell_type": "code",
     "collapsed": false,
     "input": [
      "#!/home/cloudera/local/lib/python2.6/site-packages/bin/python\n",
      "\n",
      "import pandas as pd\n",
      "import numpy as np\n",
      "import yaml\n",
      "import logging\n",
      "import time\n",
      "\n",
      "with open(\"/home/cloudera/Documents/12_dashboard_tables/config.yaml\", 'r') as ymlfile:\n",
      "        cfg = yaml.load(ymlfile)\n",
      "\n",
      "# create logger\n",
      "logger = logging.getLogger(cfg['log_order_frequency'])\n",
      "logger.setLevel(logging.DEBUG)\n",
      "# create console handler and set level to debug\n",
      "ch = logging.FileHandler(cfg['root'] + cfg['dir_logs'] + cfg['log_order_frequency'] + \"_\" + time.strftime(\"%Y_%m_%d_%H_%M_%S\") + \".log\" )\n",
      "ch.setLevel(logging.DEBUG)\n",
      "# create formatter\n",
      "formatter = logging.Formatter(\"%(asctime)s - %(name)s - %(levelname)s - %(message)s\")\n",
      "# add formatter to ch\n",
      "ch.setFormatter(formatter)\n",
      "# add ch to logger\n",
      "logger.addHandler(ch)\n",
      "\n",
      "df = pd.read_csv(cfg['root']+cfg['dir_data_shopify']+cfg[\"ip_orders\"],low_memory=False)\n",
      "logger.debug(\"Data Frame df created\")"
     ],
     "language": "python",
     "metadata": {},
     "outputs": [],
     "prompt_number": 1
    },
    {
     "cell_type": "code",
     "collapsed": false,
     "input": [
      "# take required fields\n",
      "df1=df[['Email', 'Created at' ]]\n",
      "\n",
      "#let there be only one row for each order\n",
      "df1=df1.drop_duplicates().reset_index().drop('index',1)\n",
      "\n",
      "#getting only date from created at field\n",
      "df1['Created at'] = df1.apply(lambda x: x['Created at'][:10], axis = 1)\n",
      "    \n",
      "df1=df1.drop_duplicates().reset_index().drop('index',1)\n",
      "df1.head()"
     ],
     "language": "python",
     "metadata": {},
     "outputs": [
      {
       "html": [
        "<div style=\"max-height:1000px;max-width:1500px;overflow:auto;\">\n",
        "<table border=\"1\" class=\"dataframe\">\n",
        "  <thead>\n",
        "    <tr style=\"text-align: right;\">\n",
        "      <th></th>\n",
        "      <th>Email</th>\n",
        "      <th>Created at</th>\n",
        "    </tr>\n",
        "  </thead>\n",
        "  <tbody>\n",
        "    <tr>\n",
        "      <th>0</th>\n",
        "      <td> rehabmansour@gmail.com</td>\n",
        "      <td> 2015-12-23</td>\n",
        "    </tr>\n",
        "    <tr>\n",
        "      <th>1</th>\n",
        "      <td>    nabouheif@yahoo.com</td>\n",
        "      <td> 2015-12-23</td>\n",
        "    </tr>\n",
        "    <tr>\n",
        "      <th>2</th>\n",
        "      <td> fracicardi@hotmail.com</td>\n",
        "      <td> 2015-12-23</td>\n",
        "    </tr>\n",
        "    <tr>\n",
        "      <th>3</th>\n",
        "      <td> ahmed.fakhry@gmail.com</td>\n",
        "      <td> 2015-12-23</td>\n",
        "    </tr>\n",
        "    <tr>\n",
        "      <th>4</th>\n",
        "      <td>   Missilou11@yahoo.com</td>\n",
        "      <td> 2015-12-23</td>\n",
        "    </tr>\n",
        "  </tbody>\n",
        "</table>\n",
        "</div>"
       ],
       "metadata": {},
       "output_type": "pyout",
       "prompt_number": 2,
       "text": [
        "                    Email  Created at\n",
        "0  rehabmansour@gmail.com  2015-12-23\n",
        "1     nabouheif@yahoo.com  2015-12-23\n",
        "2  fracicardi@hotmail.com  2015-12-23\n",
        "3  ahmed.fakhry@gmail.com  2015-12-23\n",
        "4    Missilou11@yahoo.com  2015-12-23"
       ]
      }
     ],
     "prompt_number": 2
    },
    {
     "cell_type": "code",
     "collapsed": false,
     "input": [
      "df1.columns=['Email', 'Date']\n",
      "df1['Difference'] = 0\n",
      "df1['Count'] = 0\n",
      "\n",
      "df1['Date'] =pd.to_datetime(df1.Date)\n",
      "df1=df1.sort(['Email', 'Date']).reset_index().drop('index',1)\n",
      "df1.head()"
     ],
     "language": "python",
     "metadata": {},
     "outputs": [
      {
       "html": [
        "<div style=\"max-height:1000px;max-width:1500px;overflow:auto;\">\n",
        "<table border=\"1\" class=\"dataframe\">\n",
        "  <thead>\n",
        "    <tr style=\"text-align: right;\">\n",
        "      <th></th>\n",
        "      <th>Email</th>\n",
        "      <th>Date</th>\n",
        "      <th>Difference</th>\n",
        "      <th>Count</th>\n",
        "    </tr>\n",
        "  </thead>\n",
        "  <tbody>\n",
        "    <tr>\n",
        "      <th>0</th>\n",
        "      <td> 11435mail@mkallenberger.de</td>\n",
        "      <td>2013-05-26</td>\n",
        "      <td> 0</td>\n",
        "      <td> 0</td>\n",
        "    </tr>\n",
        "    <tr>\n",
        "      <th>1</th>\n",
        "      <td>              1@gargour.com</td>\n",
        "      <td>2015-01-03</td>\n",
        "      <td> 0</td>\n",
        "      <td> 0</td>\n",
        "    </tr>\n",
        "    <tr>\n",
        "      <th>2</th>\n",
        "      <td>              1@gargour.com</td>\n",
        "      <td>2015-04-07</td>\n",
        "      <td> 0</td>\n",
        "      <td> 0</td>\n",
        "    </tr>\n",
        "    <tr>\n",
        "      <th>3</th>\n",
        "      <td>          1kttate@gmail.com</td>\n",
        "      <td>2015-08-09</td>\n",
        "      <td> 0</td>\n",
        "      <td> 0</td>\n",
        "    </tr>\n",
        "    <tr>\n",
        "      <th>4</th>\n",
        "      <td>          1kttate@gmail.com</td>\n",
        "      <td>2015-08-13</td>\n",
        "      <td> 0</td>\n",
        "      <td> 0</td>\n",
        "    </tr>\n",
        "  </tbody>\n",
        "</table>\n",
        "</div>"
       ],
       "metadata": {},
       "output_type": "pyout",
       "prompt_number": 3,
       "text": [
        "                        Email       Date  Difference  Count\n",
        "0  11435mail@mkallenberger.de 2013-05-26           0      0\n",
        "1               1@gargour.com 2015-01-03           0      0\n",
        "2               1@gargour.com 2015-04-07           0      0\n",
        "3           1kttate@gmail.com 2015-08-09           0      0\n",
        "4           1kttate@gmail.com 2015-08-13           0      0"
       ]
      }
     ],
     "prompt_number": 3
    },
    {
     "cell_type": "code",
     "collapsed": false,
     "input": [
      "n = 1\n",
      "for i in range(0,max(df1.index)):\n",
      "    if(df1.iloc[i,0]==df1.iloc[i+1,0]):\n",
      "        n = n + 1 #count total number of orders\n",
      "        df1.iloc[i+1,2]=(df1.iloc[i+1,1]-df1.iloc[i,1]).days #count days between orders\n",
      "        if (i == max(df1.index) - 1):\n",
      "            df1.iloc[i + 1,3] = n\n",
      "    else:\n",
      "        df1.iloc[i,3] = n\n",
      "        n = 1\n",
      "\n",
      "df1 = df1.groupby('Email', axis=0, as_index=False).sum()\n",
      "df1.head()"
     ],
     "language": "python",
     "metadata": {},
     "outputs": [
      {
       "html": [
        "<div style=\"max-height:1000px;max-width:1500px;overflow:auto;\">\n",
        "<table border=\"1\" class=\"dataframe\">\n",
        "  <thead>\n",
        "    <tr style=\"text-align: right;\">\n",
        "      <th></th>\n",
        "      <th>Email</th>\n",
        "      <th>Difference</th>\n",
        "      <th>Count</th>\n",
        "    </tr>\n",
        "  </thead>\n",
        "  <tbody>\n",
        "    <tr>\n",
        "      <th>0</th>\n",
        "      <td> 11435mail@mkallenberger.de</td>\n",
        "      <td>   0</td>\n",
        "      <td> 1</td>\n",
        "    </tr>\n",
        "    <tr>\n",
        "      <th>1</th>\n",
        "      <td>              1@gargour.com</td>\n",
        "      <td>  94</td>\n",
        "      <td> 2</td>\n",
        "    </tr>\n",
        "    <tr>\n",
        "      <th>2</th>\n",
        "      <td>          1kttate@gmail.com</td>\n",
        "      <td>  22</td>\n",
        "      <td> 4</td>\n",
        "    </tr>\n",
        "    <tr>\n",
        "      <th>3</th>\n",
        "      <td>  1youniqueflower@gmail.com</td>\n",
        "      <td> 375</td>\n",
        "      <td> 3</td>\n",
        "    </tr>\n",
        "    <tr>\n",
        "      <th>4</th>\n",
        "      <td>         3aliaa.h@gmail.com</td>\n",
        "      <td>  22</td>\n",
        "      <td> 3</td>\n",
        "    </tr>\n",
        "  </tbody>\n",
        "</table>\n",
        "</div>"
       ],
       "metadata": {},
       "output_type": "pyout",
       "prompt_number": 4,
       "text": [
        "                        Email  Difference  Count\n",
        "0  11435mail@mkallenberger.de           0      1\n",
        "1               1@gargour.com          94      2\n",
        "2           1kttate@gmail.com          22      4\n",
        "3   1youniqueflower@gmail.com         375      3\n",
        "4          3aliaa.h@gmail.com          22      3"
       ]
      }
     ],
     "prompt_number": 4
    },
    {
     "cell_type": "code",
     "collapsed": false,
     "input": [
      "\n",
      "#calculate average days between orders\n",
      "df1.loc[:,'Average'] = df1.apply(lambda x: x['Difference']/float(x['Count']), axis = 1)\n",
      "df1.head()"
     ],
     "language": "python",
     "metadata": {},
     "outputs": [
      {
       "html": [
        "<div style=\"max-height:1000px;max-width:1500px;overflow:auto;\">\n",
        "<table border=\"1\" class=\"dataframe\">\n",
        "  <thead>\n",
        "    <tr style=\"text-align: right;\">\n",
        "      <th></th>\n",
        "      <th>Email</th>\n",
        "      <th>Difference</th>\n",
        "      <th>Count</th>\n",
        "      <th>Average</th>\n",
        "    </tr>\n",
        "  </thead>\n",
        "  <tbody>\n",
        "    <tr>\n",
        "      <th>0</th>\n",
        "      <td> 11435mail@mkallenberger.de</td>\n",
        "      <td>   0</td>\n",
        "      <td> 1</td>\n",
        "      <td>   0.000000</td>\n",
        "    </tr>\n",
        "    <tr>\n",
        "      <th>1</th>\n",
        "      <td>              1@gargour.com</td>\n",
        "      <td>  94</td>\n",
        "      <td> 2</td>\n",
        "      <td>  47.000000</td>\n",
        "    </tr>\n",
        "    <tr>\n",
        "      <th>2</th>\n",
        "      <td>          1kttate@gmail.com</td>\n",
        "      <td>  22</td>\n",
        "      <td> 4</td>\n",
        "      <td>   5.500000</td>\n",
        "    </tr>\n",
        "    <tr>\n",
        "      <th>3</th>\n",
        "      <td>  1youniqueflower@gmail.com</td>\n",
        "      <td> 375</td>\n",
        "      <td> 3</td>\n",
        "      <td> 125.000000</td>\n",
        "    </tr>\n",
        "    <tr>\n",
        "      <th>4</th>\n",
        "      <td>         3aliaa.h@gmail.com</td>\n",
        "      <td>  22</td>\n",
        "      <td> 3</td>\n",
        "      <td>   7.333333</td>\n",
        "    </tr>\n",
        "  </tbody>\n",
        "</table>\n",
        "</div>"
       ],
       "metadata": {},
       "output_type": "pyout",
       "prompt_number": 5,
       "text": [
        "                        Email  Difference  Count     Average\n",
        "0  11435mail@mkallenberger.de           0      1    0.000000\n",
        "1               1@gargour.com          94      2   47.000000\n",
        "2           1kttate@gmail.com          22      4    5.500000\n",
        "3   1youniqueflower@gmail.com         375      3  125.000000\n",
        "4          3aliaa.h@gmail.com          22      3    7.333333"
       ]
      }
     ],
     "prompt_number": 5
    },
    {
     "cell_type": "code",
     "collapsed": false,
     "input": [
      "df2 = pd.read_csv('C:\\Users\\saisree849\\Documents\\GitHub\\NGS-2.0\\data_input\\shopify\\customers_export.csv', low_memory=False)\n",
      "df2 = df1.merge(df2, on = ['Email'], how = 'inner')\n",
      "df2.head()"
     ],
     "language": "python",
     "metadata": {},
     "outputs": [
      {
       "html": [
        "<div style=\"max-height:1000px;max-width:1500px;overflow:auto;\">\n",
        "<table border=\"1\" class=\"dataframe\">\n",
        "  <thead>\n",
        "    <tr style=\"text-align: right;\">\n",
        "      <th></th>\n",
        "      <th>Email</th>\n",
        "      <th>Difference</th>\n",
        "      <th>Count</th>\n",
        "      <th>Average</th>\n",
        "      <th>First Name</th>\n",
        "      <th>Last Name</th>\n",
        "      <th>Company</th>\n",
        "      <th>Address1</th>\n",
        "      <th>Address2</th>\n",
        "      <th>City</th>\n",
        "      <th>...</th>\n",
        "      <th>Country</th>\n",
        "      <th>Country Code</th>\n",
        "      <th>Zip</th>\n",
        "      <th>Phone</th>\n",
        "      <th>Accepts Marketing</th>\n",
        "      <th>Total Spent</th>\n",
        "      <th>Total Orders</th>\n",
        "      <th>Tags</th>\n",
        "      <th>Note</th>\n",
        "      <th>Tax Exempt</th>\n",
        "    </tr>\n",
        "  </thead>\n",
        "  <tbody>\n",
        "    <tr>\n",
        "      <th>0</th>\n",
        "      <td> 11435mail@mkallenberger.de</td>\n",
        "      <td>   0</td>\n",
        "      <td> 1</td>\n",
        "      <td>   0.000000</td>\n",
        "      <td> Magdalena</td>\n",
        "      <td> Kallenberger</td>\n",
        "      <td>      NaN</td>\n",
        "      <td>                    3/4, road 221, El Maadi, Cairo</td>\n",
        "      <td>                         NaN</td>\n",
        "      <td>                          Cairo</td>\n",
        "      <td>...</td>\n",
        "      <td> Egypt</td>\n",
        "      <td> EG</td>\n",
        "      <td> 11435</td>\n",
        "      <td> 01090904137</td>\n",
        "      <td> yes</td>\n",
        "      <td>  277.17</td>\n",
        "      <td> 1</td>\n",
        "      <td> NaN</td>\n",
        "      <td> NaN</td>\n",
        "      <td> no</td>\n",
        "    </tr>\n",
        "    <tr>\n",
        "      <th>1</th>\n",
        "      <td>              1@gargour.com</td>\n",
        "      <td>  94</td>\n",
        "      <td> 2</td>\n",
        "      <td>  47.000000</td>\n",
        "      <td>    Alain </td>\n",
        "      <td>       Phar\u00e8s</td>\n",
        "      <td> Gargour </td>\n",
        "      <td>                                   31 golf street </td>\n",
        "      <td>                  app 69/6th</td>\n",
        "      <td>                          maadi</td>\n",
        "      <td>...</td>\n",
        "      <td> Egypt</td>\n",
        "      <td> EG</td>\n",
        "      <td> 11511</td>\n",
        "      <td> 01222160835</td>\n",
        "      <td>  no</td>\n",
        "      <td> 1021.10</td>\n",
        "      <td> 2</td>\n",
        "      <td> NaN</td>\n",
        "      <td> NaN</td>\n",
        "      <td> no</td>\n",
        "    </tr>\n",
        "    <tr>\n",
        "      <th>2</th>\n",
        "      <td>          1kttate@gmail.com</td>\n",
        "      <td>  22</td>\n",
        "      <td> 4</td>\n",
        "      <td>   5.500000</td>\n",
        "      <td>     Kelly</td>\n",
        "      <td>         Tate</td>\n",
        "      <td>      NaN</td>\n",
        "      <td> Street 33, Building 154, Area 1, Group 2, Taga...</td>\n",
        "      <td>                       Apt 3</td>\n",
        "      <td>                      New Cairo</td>\n",
        "      <td>...</td>\n",
        "      <td> Egypt</td>\n",
        "      <td> EG</td>\n",
        "      <td> 00000</td>\n",
        "      <td> 01023063292</td>\n",
        "      <td>  no</td>\n",
        "      <td>  399.00</td>\n",
        "      <td> 4</td>\n",
        "      <td> NaN</td>\n",
        "      <td> NaN</td>\n",
        "      <td> no</td>\n",
        "    </tr>\n",
        "    <tr>\n",
        "      <th>3</th>\n",
        "      <td>  1youniqueflower@gmail.com</td>\n",
        "      <td> 375</td>\n",
        "      <td> 3</td>\n",
        "      <td> 125.000000</td>\n",
        "      <td>      Lara</td>\n",
        "      <td>        Scott</td>\n",
        "      <td>      NaN</td>\n",
        "      <td>                             23 Abdalla Deraz St. </td>\n",
        "      <td> #203 - 2nd Floor, left side</td>\n",
        "      <td> Ard el Golf, Heliopolis, Cairo</td>\n",
        "      <td>...</td>\n",
        "      <td> Egypt</td>\n",
        "      <td> EG</td>\n",
        "      <td> 11341</td>\n",
        "      <td> 01221124426</td>\n",
        "      <td>  no</td>\n",
        "      <td>  936.00</td>\n",
        "      <td> 3</td>\n",
        "      <td> NaN</td>\n",
        "      <td> NaN</td>\n",
        "      <td> no</td>\n",
        "    </tr>\n",
        "    <tr>\n",
        "      <th>4</th>\n",
        "      <td>         3aliaa.h@gmail.com</td>\n",
        "      <td>  22</td>\n",
        "      <td> 3</td>\n",
        "      <td>   7.333333</td>\n",
        "      <td>   mohamed</td>\n",
        "      <td>        tolba</td>\n",
        "      <td>      NaN</td>\n",
        "      <td>                      11 shams el din el koufy st </td>\n",
        "      <td>                          17</td>\n",
        "      <td>                     heliopolis</td>\n",
        "      <td>...</td>\n",
        "      <td> Egypt</td>\n",
        "      <td> EG</td>\n",
        "      <td> 11371</td>\n",
        "      <td> 01001436666</td>\n",
        "      <td>  no</td>\n",
        "      <td>  187.00</td>\n",
        "      <td> 3</td>\n",
        "      <td> NaN</td>\n",
        "      <td> NaN</td>\n",
        "      <td> no</td>\n",
        "    </tr>\n",
        "  </tbody>\n",
        "</table>\n",
        "<p>5 rows \u00d7 22 columns</p>\n",
        "</div>"
       ],
       "metadata": {},
       "output_type": "pyout",
       "prompt_number": 6,
       "text": [
        "                        Email  Difference  Count     Average First Name  \\\n",
        "0  11435mail@mkallenberger.de           0      1    0.000000  Magdalena   \n",
        "1               1@gargour.com          94      2   47.000000     Alain    \n",
        "2           1kttate@gmail.com          22      4    5.500000      Kelly   \n",
        "3   1youniqueflower@gmail.com         375      3  125.000000       Lara   \n",
        "4          3aliaa.h@gmail.com          22      3    7.333333    mohamed   \n",
        "\n",
        "      Last Name   Company                                           Address1  \\\n",
        "0  Kallenberger       NaN                     3/4, road 221, El Maadi, Cairo   \n",
        "1        Phar\u00e8s  Gargour                                     31 golf street    \n",
        "2          Tate       NaN  Street 33, Building 154, Area 1, Group 2, Taga...   \n",
        "3         Scott       NaN                              23 Abdalla Deraz St.    \n",
        "4         tolba       NaN                       11 shams el din el koufy st    \n",
        "\n",
        "                      Address2                            City    ...      \\\n",
        "0                          NaN                           Cairo    ...       \n",
        "1                   app 69/6th                           maadi    ...       \n",
        "2                        Apt 3                       New Cairo    ...       \n",
        "3  #203 - 2nd Floor, left side  Ard el Golf, Heliopolis, Cairo    ...       \n",
        "4                           17                      heliopolis    ...       \n",
        "\n",
        "  Country Country Code    Zip        Phone Accepts Marketing Total Spent  \\\n",
        "0   Egypt           EG  11435  01090904137               yes      277.17   \n",
        "1   Egypt           EG  11511  01222160835                no     1021.10   \n",
        "2   Egypt           EG  00000  01023063292                no      399.00   \n",
        "3   Egypt           EG  11341  01221124426                no      936.00   \n",
        "4   Egypt           EG  11371  01001436666                no      187.00   \n",
        "\n",
        "  Total Orders  Tags  Note Tax Exempt  \n",
        "0            1   NaN   NaN         no  \n",
        "1            2   NaN   NaN         no  \n",
        "2            4   NaN   NaN         no  \n",
        "3            3   NaN   NaN         no  \n",
        "4            3   NaN   NaN         no  \n",
        "\n",
        "[5 rows x 22 columns]"
       ]
      }
     ],
     "prompt_number": 6
    },
    {
     "cell_type": "code",
     "collapsed": false,
     "input": [
      "df2 = df2[['Average']]\n",
      "df2 = df2[df2.Average != 0] #retain average > 0\n",
      "df2 = df2.reset_index().drop('index',1)\n",
      "a = df2['Average'].tolist()\n",
      "a = np.asarray(a)\n",
      "df2.head()"
     ],
     "language": "python",
     "metadata": {},
     "outputs": [
      {
       "html": [
        "<div style=\"max-height:1000px;max-width:1500px;overflow:auto;\">\n",
        "<table border=\"1\" class=\"dataframe\">\n",
        "  <thead>\n",
        "    <tr style=\"text-align: right;\">\n",
        "      <th></th>\n",
        "      <th>Average</th>\n",
        "    </tr>\n",
        "  </thead>\n",
        "  <tbody>\n",
        "    <tr>\n",
        "      <th>0</th>\n",
        "      <td>  47.000000</td>\n",
        "    </tr>\n",
        "    <tr>\n",
        "      <th>1</th>\n",
        "      <td>   5.500000</td>\n",
        "    </tr>\n",
        "    <tr>\n",
        "      <th>2</th>\n",
        "      <td> 125.000000</td>\n",
        "    </tr>\n",
        "    <tr>\n",
        "      <th>3</th>\n",
        "      <td>   7.333333</td>\n",
        "    </tr>\n",
        "    <tr>\n",
        "      <th>4</th>\n",
        "      <td>   2.500000</td>\n",
        "    </tr>\n",
        "  </tbody>\n",
        "</table>\n",
        "</div>"
       ],
       "metadata": {},
       "output_type": "pyout",
       "prompt_number": 7,
       "text": [
        "      Average\n",
        "0   47.000000\n",
        "1    5.500000\n",
        "2  125.000000\n",
        "3    7.333333\n",
        "4    2.500000"
       ]
      }
     ],
     "prompt_number": 7
    },
    {
     "cell_type": "code",
     "collapsed": false,
     "input": [
      "df4 = pd.DataFrame(columns = ['Days between orders', 'Customers'])\n",
      "df4['Days between orders'] = pd.Series(['1 to 4', '4 to 7', '7 to 15', '15 to 30', '30 to 60', '60 to 100', '100+'])\n",
      "df4.head()"
     ],
     "language": "python",
     "metadata": {},
     "outputs": [
      {
       "html": [
        "<div style=\"max-height:1000px;max-width:1500px;overflow:auto;\">\n",
        "<table border=\"1\" class=\"dataframe\">\n",
        "  <thead>\n",
        "    <tr style=\"text-align: right;\">\n",
        "      <th></th>\n",
        "      <th>Days between orders</th>\n",
        "      <th>Customers</th>\n",
        "    </tr>\n",
        "  </thead>\n",
        "  <tbody>\n",
        "    <tr>\n",
        "      <th>0</th>\n",
        "      <td>   1 to 4</td>\n",
        "      <td> NaN</td>\n",
        "    </tr>\n",
        "    <tr>\n",
        "      <th>1</th>\n",
        "      <td>   4 to 7</td>\n",
        "      <td> NaN</td>\n",
        "    </tr>\n",
        "    <tr>\n",
        "      <th>2</th>\n",
        "      <td>  7 to 15</td>\n",
        "      <td> NaN</td>\n",
        "    </tr>\n",
        "    <tr>\n",
        "      <th>3</th>\n",
        "      <td> 15 to 30</td>\n",
        "      <td> NaN</td>\n",
        "    </tr>\n",
        "    <tr>\n",
        "      <th>4</th>\n",
        "      <td> 30 to 60</td>\n",
        "      <td> NaN</td>\n",
        "    </tr>\n",
        "  </tbody>\n",
        "</table>\n",
        "</div>"
       ],
       "metadata": {},
       "output_type": "pyout",
       "prompt_number": 8,
       "text": [
        "  Days between orders Customers\n",
        "0              1 to 4       NaN\n",
        "1              4 to 7       NaN\n",
        "2             7 to 15       NaN\n",
        "3            15 to 30       NaN\n",
        "4            30 to 60       NaN"
       ]
      }
     ],
     "prompt_number": 8
    },
    {
     "cell_type": "code",
     "collapsed": false,
     "input": [
      "#count orders in given range\n",
      "df4.iloc[0, 1] = np.compress((0 < a) & (a < 4), a).size\n",
      "df4.iloc[1, 1] = np.compress((4 <= a) & (a < 7), a).size\n",
      "df4.iloc[2, 1] = np.compress((7 <= a) & (a < 15), a).size\n",
      "df4.iloc[3, 1] = np.compress((15 <= a) & (a < 30), a).size\n",
      "df4.iloc[4, 1] = np.compress((30 <= a) & (a < 60), a).size\n",
      "df4.iloc[5, 1] = np.compress((60 <= a) & (a < 100), a).size\n",
      "df4.iloc[6, 1] = np.compress((100 <= a), a).size\n",
      "df4"
     ],
     "language": "python",
     "metadata": {},
     "outputs": [
      {
       "html": [
        "<div style=\"max-height:1000px;max-width:1500px;overflow:auto;\">\n",
        "<table border=\"1\" class=\"dataframe\">\n",
        "  <thead>\n",
        "    <tr style=\"text-align: right;\">\n",
        "      <th></th>\n",
        "      <th>Days between orders</th>\n",
        "      <th>Customers</th>\n",
        "    </tr>\n",
        "  </thead>\n",
        "  <tbody>\n",
        "    <tr>\n",
        "      <th>0</th>\n",
        "      <td>    1 to 4</td>\n",
        "      <td> 165</td>\n",
        "    </tr>\n",
        "    <tr>\n",
        "      <th>1</th>\n",
        "      <td>    4 to 7</td>\n",
        "      <td>  72</td>\n",
        "    </tr>\n",
        "    <tr>\n",
        "      <th>2</th>\n",
        "      <td>   7 to 15</td>\n",
        "      <td> 157</td>\n",
        "    </tr>\n",
        "    <tr>\n",
        "      <th>3</th>\n",
        "      <td>  15 to 30</td>\n",
        "      <td> 189</td>\n",
        "    </tr>\n",
        "    <tr>\n",
        "      <th>4</th>\n",
        "      <td>  30 to 60</td>\n",
        "      <td> 217</td>\n",
        "    </tr>\n",
        "    <tr>\n",
        "      <th>5</th>\n",
        "      <td> 60 to 100</td>\n",
        "      <td> 121</td>\n",
        "    </tr>\n",
        "    <tr>\n",
        "      <th>6</th>\n",
        "      <td>      100+</td>\n",
        "      <td> 141</td>\n",
        "    </tr>\n",
        "  </tbody>\n",
        "</table>\n",
        "</div>"
       ],
       "metadata": {},
       "output_type": "pyout",
       "prompt_number": 10,
       "text": [
        "  Days between orders Customers\n",
        "0              1 to 4       165\n",
        "1              4 to 7        72\n",
        "2             7 to 15       157\n",
        "3            15 to 30       189\n",
        "4            30 to 60       217\n",
        "5           60 to 100       121\n",
        "6                100+       141"
       ]
      }
     ],
     "prompt_number": 10
    },
    {
     "cell_type": "code",
     "collapsed": false,
     "input": [],
     "language": "python",
     "metadata": {},
     "outputs": []
    }
   ],
   "metadata": {}
  }
 ]
}
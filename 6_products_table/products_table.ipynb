{
 "metadata": {
  "name": "",
  "signature": "sha256:4df31a74d66a20ee0dadad1436a9ad430cca79b1e931a118f7f54fd33913061a"
 },
 "nbformat": 3,
 "nbformat_minor": 0,
 "worksheets": [
  {
   "cells": [
    {
     "cell_type": "code",
     "collapsed": false,
     "input": [
      "#!/home/cloudera/local/lib/python2.6/site-packages/bin/python\n",
      "\n",
      "import pandas as pd\n",
      "import yaml\n",
      "import logging\n",
      "import time\n",
      "import os\n",
      "\n",
      "with open(\"/home/cloudera/Documents/12_dashboard_tables/config.yaml\", 'r') as ymlfile:\n",
      "        cfg = yaml.load(ymlfile)\n",
      "        \n",
      "def make_sure_path_exists(path):\n",
      "    if (os.path.isdir(path) == False):\n",
      "        os.makedirs(path)\n",
      "\n",
      "make_sure_path_exists(cfg['root'] + cfg['dir_logs'])\n",
      "make_sure_path_exists(cfg['root']+cfg['dir_data_output'])\n",
      "\n",
      "# create logger\n",
      "logger = logging.getLogger(cfg['log_products'])\n",
      "logger.setLevel(logging.DEBUG)\n",
      "# create console handler and set level to debug\n",
      "ch = logging.FileHandler(cfg['root'] + cfg['dir_logs'] + cfg['log_products'] + \"_\" + time.strftime(\"%Y_%m_%d_%H_%M_%S\") + \".log\" )\n",
      "ch.setLevel(logging.DEBUG)\n",
      "# create formatter\n",
      "formatter = logging.Formatter(\"%(asctime)s - %(name)s - %(levelname)s - %(message)s\")\n",
      "# add formatter to ch\n",
      "ch.setFormatter(formatter)\n",
      "# add ch to logger\n",
      "logger.addHandler(ch)\n",
      "\n",
      "df = pd.read_csv(cfg['root']+cfg['dir_data_vend']+cfg[\"ip_total_revenue_prod\"])\n",
      "logger.debug(\"Data Frame df created\")"
     ],
     "language": "python",
     "metadata": {},
     "outputs": [],
     "prompt_number": 11
    },
    {
     "cell_type": "code",
     "collapsed": false,
     "input": [
      "#remove the last rows which are aggregated values\n",
      "df = df[:max(df.index)-4]\n",
      "\n",
      "#remove null products, change to upper case\n",
      "df = df[pd.notnull(df['Product'])]\n",
      "df['Product'] = df['Product'].apply(lambda x: x.upper())\n",
      "df = df.sort('Product')\n",
      "df.fillna(0, inplace=True) #replace na values with 0\n",
      "df = df[~df['Product'].str.contains(\"CAIRO\")] #remove unnecessary rows\n",
      "df = df.reset_index().drop('index',1)\n",
      "df = df.groupby(['Product', 'Brand', 'Type'], axis=0, as_index=False).sum()\n",
      "df.head()"
     ],
     "language": "python",
     "metadata": {},
     "outputs": [
      {
       "html": [
        "<div style=\"max-height:1000px;max-width:1500px;overflow:auto;\">\n",
        "<table border=\"1\" class=\"dataframe\">\n",
        "  <thead>\n",
        "    <tr style=\"text-align: right;\">\n",
        "      <th></th>\n",
        "      <th>Product</th>\n",
        "      <th>Brand</th>\n",
        "      <th>Type</th>\n",
        "      <th>Supplier Code</th>\n",
        "      <th>May 2012</th>\n",
        "      <th>Jun 2012</th>\n",
        "      <th>Jul 2012</th>\n",
        "      <th>Aug 2012</th>\n",
        "      <th>Sep 2012</th>\n",
        "      <th>Oct 2012</th>\n",
        "      <th>...</th>\n",
        "      <th>Aug 2015</th>\n",
        "      <th>Sep 2015</th>\n",
        "      <th>Oct 2015</th>\n",
        "      <th>Nov 2015</th>\n",
        "      <th>Dec 2015</th>\n",
        "      <th>Revenue</th>\n",
        "      <th>Cost of Goods</th>\n",
        "      <th>Gross Profit</th>\n",
        "      <th>Margin</th>\n",
        "      <th>Tax</th>\n",
        "    </tr>\n",
        "  </thead>\n",
        "  <tbody>\n",
        "    <tr>\n",
        "      <th>0</th>\n",
        "      <td>    7 GRAIN MILK / 946ML</td>\n",
        "      <td> Pacific Natural Foods</td>\n",
        "      <td>      Milk</td>\n",
        "      <td> 0</td>\n",
        "      <td> 0</td>\n",
        "      <td> 0</td>\n",
        "      <td> 0</td>\n",
        "      <td> 0</td>\n",
        "      <td> 0</td>\n",
        "      <td> 0</td>\n",
        "      <td>...</td>\n",
        "      <td> 0</td>\n",
        "      <td> 0</td>\n",
        "      <td> 0</td>\n",
        "      <td> 0</td>\n",
        "      <td>  0</td>\n",
        "      <td> 1492.9</td>\n",
        "      <td> 1221</td>\n",
        "      <td> 271.9</td>\n",
        "      <td> 0.182129</td>\n",
        "      <td> 0</td>\n",
        "    </tr>\n",
        "    <tr>\n",
        "      <th>1</th>\n",
        "      <td>        ACAI BERRY JUICE</td>\n",
        "      <td>                     0</td>\n",
        "      <td> Beverages</td>\n",
        "      <td> 0</td>\n",
        "      <td> 0</td>\n",
        "      <td> 0</td>\n",
        "      <td> 0</td>\n",
        "      <td> 0</td>\n",
        "      <td> 0</td>\n",
        "      <td> 0</td>\n",
        "      <td>...</td>\n",
        "      <td> 0</td>\n",
        "      <td> 0</td>\n",
        "      <td> 0</td>\n",
        "      <td> 0</td>\n",
        "      <td> 60</td>\n",
        "      <td>   60.0</td>\n",
        "      <td>   48</td>\n",
        "      <td>  12.0</td>\n",
        "      <td> 0.200000</td>\n",
        "      <td> 0</td>\n",
        "    </tr>\n",
        "    <tr>\n",
        "      <th>2</th>\n",
        "      <td>        ACAI BERRY JUICE</td>\n",
        "      <td>         Berry company</td>\n",
        "      <td>    Juices</td>\n",
        "      <td> 0</td>\n",
        "      <td> 0</td>\n",
        "      <td> 0</td>\n",
        "      <td> 0</td>\n",
        "      <td> 0</td>\n",
        "      <td> 0</td>\n",
        "      <td> 0</td>\n",
        "      <td>...</td>\n",
        "      <td> 0</td>\n",
        "      <td> 0</td>\n",
        "      <td> 0</td>\n",
        "      <td> 0</td>\n",
        "      <td>  0</td>\n",
        "      <td>  308.0</td>\n",
        "      <td>  230</td>\n",
        "      <td>  78.0</td>\n",
        "      <td> 0.253247</td>\n",
        "      <td> 0</td>\n",
        "    </tr>\n",
        "    <tr>\n",
        "      <th>3</th>\n",
        "      <td>        ACNE FACIAL SOAP</td>\n",
        "      <td>         Healing Herbs</td>\n",
        "      <td> Cosmetics</td>\n",
        "      <td> 0</td>\n",
        "      <td> 0</td>\n",
        "      <td> 0</td>\n",
        "      <td> 0</td>\n",
        "      <td> 0</td>\n",
        "      <td> 0</td>\n",
        "      <td> 0</td>\n",
        "      <td>...</td>\n",
        "      <td> 0</td>\n",
        "      <td> 0</td>\n",
        "      <td> 0</td>\n",
        "      <td> 0</td>\n",
        "      <td>  0</td>\n",
        "      <td>  110.0</td>\n",
        "      <td>   88</td>\n",
        "      <td>  22.0</td>\n",
        "      <td> 0.200000</td>\n",
        "      <td> 0</td>\n",
        "    </tr>\n",
        "    <tr>\n",
        "      <th>4</th>\n",
        "      <td> ACQUA PANA WATER 1000ML</td>\n",
        "      <td>                   NGS</td>\n",
        "      <td> Beverages</td>\n",
        "      <td> 0</td>\n",
        "      <td> 0</td>\n",
        "      <td> 0</td>\n",
        "      <td> 0</td>\n",
        "      <td> 0</td>\n",
        "      <td> 0</td>\n",
        "      <td> 0</td>\n",
        "      <td>...</td>\n",
        "      <td> 0</td>\n",
        "      <td> 0</td>\n",
        "      <td> 0</td>\n",
        "      <td> 0</td>\n",
        "      <td>  0</td>\n",
        "      <td>   10.0</td>\n",
        "      <td>    0</td>\n",
        "      <td>  10.0</td>\n",
        "      <td> 1.000000</td>\n",
        "      <td> 0</td>\n",
        "    </tr>\n",
        "  </tbody>\n",
        "</table>\n",
        "<p>5 rows \u00d7 53 columns</p>\n",
        "</div>"
       ],
       "metadata": {},
       "output_type": "pyout",
       "prompt_number": 12,
       "text": [
        "                   Product                  Brand       Type  Supplier Code  \\\n",
        "0     7 GRAIN MILK / 946ML  Pacific Natural Foods       Milk              0   \n",
        "1         ACAI BERRY JUICE                      0  Beverages              0   \n",
        "2         ACAI BERRY JUICE          Berry company     Juices              0   \n",
        "3         ACNE FACIAL SOAP          Healing Herbs  Cosmetics              0   \n",
        "4  ACQUA PANA WATER 1000ML                    NGS  Beverages              0   \n",
        "\n",
        "   May 2012  Jun 2012  Jul 2012  Aug 2012  Sep 2012  Oct 2012 ...   Aug 2015  \\\n",
        "0         0         0         0         0         0         0 ...          0   \n",
        "1         0         0         0         0         0         0 ...          0   \n",
        "2         0         0         0         0         0         0 ...          0   \n",
        "3         0         0         0         0         0         0 ...          0   \n",
        "4         0         0         0         0         0         0 ...          0   \n",
        "\n",
        "   Sep 2015  Oct 2015  Nov 2015  Dec 2015  Revenue  Cost of Goods  \\\n",
        "0         0         0         0         0   1492.9           1221   \n",
        "1         0         0         0        60     60.0             48   \n",
        "2         0         0         0         0    308.0            230   \n",
        "3         0         0         0         0    110.0             88   \n",
        "4         0         0         0         0     10.0              0   \n",
        "\n",
        "   Gross Profit    Margin  Tax  \n",
        "0         271.9  0.182129    0  \n",
        "1          12.0  0.200000    0  \n",
        "2          78.0  0.253247    0  \n",
        "3          22.0  0.200000    0  \n",
        "4          10.0  1.000000    0  \n",
        "\n",
        "[5 rows x 53 columns]"
       ]
      }
     ],
     "prompt_number": 12
    },
    {
     "cell_type": "code",
     "collapsed": false,
     "input": [
      "\n",
      "#list of column numbers\n",
      "n=range(4,len(df.columns)-4)\n",
      "n=[0]+[1]+[2]+n\n",
      "n.append(len(df.columns)-3)\n",
      "\n",
      "#subset the columns\n",
      "df=df[n]\n",
      "df.head()"
     ],
     "language": "python",
     "metadata": {},
     "outputs": [
      {
       "html": [
        "<div style=\"max-height:1000px;max-width:1500px;overflow:auto;\">\n",
        "<table border=\"1\" class=\"dataframe\">\n",
        "  <thead>\n",
        "    <tr style=\"text-align: right;\">\n",
        "      <th></th>\n",
        "      <th>Product</th>\n",
        "      <th>Brand</th>\n",
        "      <th>Type</th>\n",
        "      <th>May 2012</th>\n",
        "      <th>Jun 2012</th>\n",
        "      <th>Jul 2012</th>\n",
        "      <th>Aug 2012</th>\n",
        "      <th>Sep 2012</th>\n",
        "      <th>Oct 2012</th>\n",
        "      <th>Nov 2012</th>\n",
        "      <th>...</th>\n",
        "      <th>May 2015</th>\n",
        "      <th>Jun 2015</th>\n",
        "      <th>Jul 2015</th>\n",
        "      <th>Aug 2015</th>\n",
        "      <th>Sep 2015</th>\n",
        "      <th>Oct 2015</th>\n",
        "      <th>Nov 2015</th>\n",
        "      <th>Dec 2015</th>\n",
        "      <th>Revenue</th>\n",
        "      <th>Gross Profit</th>\n",
        "    </tr>\n",
        "  </thead>\n",
        "  <tbody>\n",
        "    <tr>\n",
        "      <th>0</th>\n",
        "      <td>    7 GRAIN MILK / 946ML</td>\n",
        "      <td> Pacific Natural Foods</td>\n",
        "      <td>      Milk</td>\n",
        "      <td> 0</td>\n",
        "      <td> 0</td>\n",
        "      <td> 0</td>\n",
        "      <td> 0</td>\n",
        "      <td> 0</td>\n",
        "      <td> 0</td>\n",
        "      <td> 0</td>\n",
        "      <td>...</td>\n",
        "      <td> 0</td>\n",
        "      <td> 0</td>\n",
        "      <td> 0</td>\n",
        "      <td> 0</td>\n",
        "      <td> 0</td>\n",
        "      <td> 0</td>\n",
        "      <td> 0</td>\n",
        "      <td>  0</td>\n",
        "      <td> 1492.9</td>\n",
        "      <td> 271.9</td>\n",
        "    </tr>\n",
        "    <tr>\n",
        "      <th>1</th>\n",
        "      <td>        ACAI BERRY JUICE</td>\n",
        "      <td>                     0</td>\n",
        "      <td> Beverages</td>\n",
        "      <td> 0</td>\n",
        "      <td> 0</td>\n",
        "      <td> 0</td>\n",
        "      <td> 0</td>\n",
        "      <td> 0</td>\n",
        "      <td> 0</td>\n",
        "      <td> 0</td>\n",
        "      <td>...</td>\n",
        "      <td> 0</td>\n",
        "      <td> 0</td>\n",
        "      <td> 0</td>\n",
        "      <td> 0</td>\n",
        "      <td> 0</td>\n",
        "      <td> 0</td>\n",
        "      <td> 0</td>\n",
        "      <td> 60</td>\n",
        "      <td>   60.0</td>\n",
        "      <td>  12.0</td>\n",
        "    </tr>\n",
        "    <tr>\n",
        "      <th>2</th>\n",
        "      <td>        ACAI BERRY JUICE</td>\n",
        "      <td>         Berry company</td>\n",
        "      <td>    Juices</td>\n",
        "      <td> 0</td>\n",
        "      <td> 0</td>\n",
        "      <td> 0</td>\n",
        "      <td> 0</td>\n",
        "      <td> 0</td>\n",
        "      <td> 0</td>\n",
        "      <td> 0</td>\n",
        "      <td>...</td>\n",
        "      <td> 0</td>\n",
        "      <td> 0</td>\n",
        "      <td> 0</td>\n",
        "      <td> 0</td>\n",
        "      <td> 0</td>\n",
        "      <td> 0</td>\n",
        "      <td> 0</td>\n",
        "      <td>  0</td>\n",
        "      <td>  308.0</td>\n",
        "      <td>  78.0</td>\n",
        "    </tr>\n",
        "    <tr>\n",
        "      <th>3</th>\n",
        "      <td>        ACNE FACIAL SOAP</td>\n",
        "      <td>         Healing Herbs</td>\n",
        "      <td> Cosmetics</td>\n",
        "      <td> 0</td>\n",
        "      <td> 0</td>\n",
        "      <td> 0</td>\n",
        "      <td> 0</td>\n",
        "      <td> 0</td>\n",
        "      <td> 0</td>\n",
        "      <td> 0</td>\n",
        "      <td>...</td>\n",
        "      <td> 0</td>\n",
        "      <td> 0</td>\n",
        "      <td> 0</td>\n",
        "      <td> 0</td>\n",
        "      <td> 0</td>\n",
        "      <td> 0</td>\n",
        "      <td> 0</td>\n",
        "      <td>  0</td>\n",
        "      <td>  110.0</td>\n",
        "      <td>  22.0</td>\n",
        "    </tr>\n",
        "    <tr>\n",
        "      <th>4</th>\n",
        "      <td> ACQUA PANA WATER 1000ML</td>\n",
        "      <td>                   NGS</td>\n",
        "      <td> Beverages</td>\n",
        "      <td> 0</td>\n",
        "      <td> 0</td>\n",
        "      <td> 0</td>\n",
        "      <td> 0</td>\n",
        "      <td> 0</td>\n",
        "      <td> 0</td>\n",
        "      <td> 0</td>\n",
        "      <td>...</td>\n",
        "      <td> 0</td>\n",
        "      <td> 0</td>\n",
        "      <td> 0</td>\n",
        "      <td> 0</td>\n",
        "      <td> 0</td>\n",
        "      <td> 0</td>\n",
        "      <td> 0</td>\n",
        "      <td>  0</td>\n",
        "      <td>   10.0</td>\n",
        "      <td>  10.0</td>\n",
        "    </tr>\n",
        "  </tbody>\n",
        "</table>\n",
        "<p>5 rows \u00d7 49 columns</p>\n",
        "</div>"
       ],
       "metadata": {},
       "output_type": "pyout",
       "prompt_number": 13,
       "text": [
        "                   Product                  Brand       Type  May 2012  \\\n",
        "0     7 GRAIN MILK / 946ML  Pacific Natural Foods       Milk         0   \n",
        "1         ACAI BERRY JUICE                      0  Beverages         0   \n",
        "2         ACAI BERRY JUICE          Berry company     Juices         0   \n",
        "3         ACNE FACIAL SOAP          Healing Herbs  Cosmetics         0   \n",
        "4  ACQUA PANA WATER 1000ML                    NGS  Beverages         0   \n",
        "\n",
        "   Jun 2012  Jul 2012  Aug 2012  Sep 2012  Oct 2012  Nov 2012      ...       \\\n",
        "0         0         0         0         0         0         0      ...        \n",
        "1         0         0         0         0         0         0      ...        \n",
        "2         0         0         0         0         0         0      ...        \n",
        "3         0         0         0         0         0         0      ...        \n",
        "4         0         0         0         0         0         0      ...        \n",
        "\n",
        "   May 2015  Jun 2015  Jul 2015  Aug 2015  Sep 2015  Oct 2015  Nov 2015  \\\n",
        "0         0         0         0         0         0         0         0   \n",
        "1         0         0         0         0         0         0         0   \n",
        "2         0         0         0         0         0         0         0   \n",
        "3         0         0         0         0         0         0         0   \n",
        "4         0         0         0         0         0         0         0   \n",
        "\n",
        "   Dec 2015  Revenue  Gross Profit  \n",
        "0         0   1492.9         271.9  \n",
        "1        60     60.0          12.0  \n",
        "2         0    308.0          78.0  \n",
        "3         0    110.0          22.0  \n",
        "4         0     10.0          10.0  \n",
        "\n",
        "[5 rows x 49 columns]"
       ]
      }
     ],
     "prompt_number": 13
    },
    {
     "cell_type": "code",
     "collapsed": false,
     "input": [
      "for i in range(0,max(df.index)+1):\n",
      "    for j in range(3,len(df.columns)-1):\n",
      "        #To get the first non zero revenue month\n",
      "        if(df.iloc[i,j]!=0):\n",
      "            t=1\n",
      "            break\n",
      "    #TO get the total no of months        \n",
      "    n=len(df.columns)-1-j\n",
      "    m=n**(-1)\n",
      "    y=df.loc[i, 'Revenue']/df.iloc[i,j]\n",
      "    df.loc[i,'CMGR']=(pow(y,m)-1)*100\n",
      "    df.loc[i,'Period'] = n\n",
      "df.head()"
     ],
     "language": "python",
     "metadata": {},
     "outputs": [
      {
       "html": [
        "<div style=\"max-height:1000px;max-width:1500px;overflow:auto;\">\n",
        "<table border=\"1\" class=\"dataframe\">\n",
        "  <thead>\n",
        "    <tr style=\"text-align: right;\">\n",
        "      <th></th>\n",
        "      <th>Product</th>\n",
        "      <th>Brand</th>\n",
        "      <th>Type</th>\n",
        "      <th>May 2012</th>\n",
        "      <th>Jun 2012</th>\n",
        "      <th>Jul 2012</th>\n",
        "      <th>Aug 2012</th>\n",
        "      <th>Sep 2012</th>\n",
        "      <th>Oct 2012</th>\n",
        "      <th>Nov 2012</th>\n",
        "      <th>...</th>\n",
        "      <th>Jul 2015</th>\n",
        "      <th>Aug 2015</th>\n",
        "      <th>Sep 2015</th>\n",
        "      <th>Oct 2015</th>\n",
        "      <th>Nov 2015</th>\n",
        "      <th>Dec 2015</th>\n",
        "      <th>Revenue</th>\n",
        "      <th>Gross Profit</th>\n",
        "      <th>CMGR</th>\n",
        "      <th>Period</th>\n",
        "    </tr>\n",
        "  </thead>\n",
        "  <tbody>\n",
        "    <tr>\n",
        "      <th>0</th>\n",
        "      <td>    7 GRAIN MILK / 946ML</td>\n",
        "      <td> Pacific Natural Foods</td>\n",
        "      <td>      Milk</td>\n",
        "      <td> 0</td>\n",
        "      <td> 0</td>\n",
        "      <td> 0</td>\n",
        "      <td> 0</td>\n",
        "      <td> 0</td>\n",
        "      <td> 0</td>\n",
        "      <td> 0</td>\n",
        "      <td>...</td>\n",
        "      <td> 0</td>\n",
        "      <td> 0</td>\n",
        "      <td> 0</td>\n",
        "      <td> 0</td>\n",
        "      <td> 0</td>\n",
        "      <td>  0</td>\n",
        "      <td> 1492.9</td>\n",
        "      <td> 271.9</td>\n",
        "      <td> 10.650578</td>\n",
        "      <td> 38</td>\n",
        "    </tr>\n",
        "    <tr>\n",
        "      <th>1</th>\n",
        "      <td>        ACAI BERRY JUICE</td>\n",
        "      <td>                     0</td>\n",
        "      <td> Beverages</td>\n",
        "      <td> 0</td>\n",
        "      <td> 0</td>\n",
        "      <td> 0</td>\n",
        "      <td> 0</td>\n",
        "      <td> 0</td>\n",
        "      <td> 0</td>\n",
        "      <td> 0</td>\n",
        "      <td>...</td>\n",
        "      <td> 0</td>\n",
        "      <td> 0</td>\n",
        "      <td> 0</td>\n",
        "      <td> 0</td>\n",
        "      <td> 0</td>\n",
        "      <td> 60</td>\n",
        "      <td>   60.0</td>\n",
        "      <td>  12.0</td>\n",
        "      <td>  0.000000</td>\n",
        "      <td>  4</td>\n",
        "    </tr>\n",
        "    <tr>\n",
        "      <th>2</th>\n",
        "      <td>        ACAI BERRY JUICE</td>\n",
        "      <td>         Berry company</td>\n",
        "      <td>    Juices</td>\n",
        "      <td> 0</td>\n",
        "      <td> 0</td>\n",
        "      <td> 0</td>\n",
        "      <td> 0</td>\n",
        "      <td> 0</td>\n",
        "      <td> 0</td>\n",
        "      <td> 0</td>\n",
        "      <td>...</td>\n",
        "      <td> 0</td>\n",
        "      <td> 0</td>\n",
        "      <td> 0</td>\n",
        "      <td> 0</td>\n",
        "      <td> 0</td>\n",
        "      <td>  0</td>\n",
        "      <td>  308.0</td>\n",
        "      <td>  78.0</td>\n",
        "      <td>  9.232890</td>\n",
        "      <td> 26</td>\n",
        "    </tr>\n",
        "    <tr>\n",
        "      <th>3</th>\n",
        "      <td>        ACNE FACIAL SOAP</td>\n",
        "      <td>         Healing Herbs</td>\n",
        "      <td> Cosmetics</td>\n",
        "      <td> 0</td>\n",
        "      <td> 0</td>\n",
        "      <td> 0</td>\n",
        "      <td> 0</td>\n",
        "      <td> 0</td>\n",
        "      <td> 0</td>\n",
        "      <td> 0</td>\n",
        "      <td>...</td>\n",
        "      <td> 0</td>\n",
        "      <td> 0</td>\n",
        "      <td> 0</td>\n",
        "      <td> 0</td>\n",
        "      <td> 0</td>\n",
        "      <td>  0</td>\n",
        "      <td>  110.0</td>\n",
        "      <td>  22.0</td>\n",
        "      <td>  3.355778</td>\n",
        "      <td> 21</td>\n",
        "    </tr>\n",
        "    <tr>\n",
        "      <th>4</th>\n",
        "      <td> ACQUA PANA WATER 1000ML</td>\n",
        "      <td>                   NGS</td>\n",
        "      <td> Beverages</td>\n",
        "      <td> 0</td>\n",
        "      <td> 0</td>\n",
        "      <td> 0</td>\n",
        "      <td> 0</td>\n",
        "      <td> 0</td>\n",
        "      <td> 0</td>\n",
        "      <td> 0</td>\n",
        "      <td>...</td>\n",
        "      <td> 0</td>\n",
        "      <td> 0</td>\n",
        "      <td> 0</td>\n",
        "      <td> 0</td>\n",
        "      <td> 0</td>\n",
        "      <td>  0</td>\n",
        "      <td>   10.0</td>\n",
        "      <td>  10.0</td>\n",
        "      <td>  0.000000</td>\n",
        "      <td> 24</td>\n",
        "    </tr>\n",
        "  </tbody>\n",
        "</table>\n",
        "<p>5 rows \u00d7 51 columns</p>\n",
        "</div>"
       ],
       "metadata": {},
       "output_type": "pyout",
       "prompt_number": 14,
       "text": [
        "                   Product                  Brand       Type  May 2012  \\\n",
        "0     7 GRAIN MILK / 946ML  Pacific Natural Foods       Milk         0   \n",
        "1         ACAI BERRY JUICE                      0  Beverages         0   \n",
        "2         ACAI BERRY JUICE          Berry company     Juices         0   \n",
        "3         ACNE FACIAL SOAP          Healing Herbs  Cosmetics         0   \n",
        "4  ACQUA PANA WATER 1000ML                    NGS  Beverages         0   \n",
        "\n",
        "   Jun 2012  Jul 2012  Aug 2012  Sep 2012  Oct 2012  Nov 2012   ...    \\\n",
        "0         0         0         0         0         0         0   ...     \n",
        "1         0         0         0         0         0         0   ...     \n",
        "2         0         0         0         0         0         0   ...     \n",
        "3         0         0         0         0         0         0   ...     \n",
        "4         0         0         0         0         0         0   ...     \n",
        "\n",
        "   Jul 2015  Aug 2015  Sep 2015  Oct 2015  Nov 2015  Dec 2015  Revenue  \\\n",
        "0         0         0         0         0         0         0   1492.9   \n",
        "1         0         0         0         0         0        60     60.0   \n",
        "2         0         0         0         0         0         0    308.0   \n",
        "3         0         0         0         0         0         0    110.0   \n",
        "4         0         0         0         0         0         0     10.0   \n",
        "\n",
        "   Gross Profit       CMGR  Period  \n",
        "0         271.9  10.650578      38  \n",
        "1          12.0   0.000000       4  \n",
        "2          78.0   9.232890      26  \n",
        "3          22.0   3.355778      21  \n",
        "4          10.0   0.000000      24  \n",
        "\n",
        "[5 rows x 51 columns]"
       ]
      }
     ],
     "prompt_number": 14
    },
    {
     "cell_type": "code",
     "collapsed": false,
     "input": [
      "gprofit = df[['Product', 'Brand', 'Type', 'Revenue' , 'Gross Profit', 'CMGR', 'Period']]\n",
      "gprofit.head()\n"
     ],
     "language": "python",
     "metadata": {},
     "outputs": [
      {
       "html": [
        "<div style=\"max-height:1000px;max-width:1500px;overflow:auto;\">\n",
        "<table border=\"1\" class=\"dataframe\">\n",
        "  <thead>\n",
        "    <tr style=\"text-align: right;\">\n",
        "      <th></th>\n",
        "      <th>Product</th>\n",
        "      <th>Brand</th>\n",
        "      <th>Type</th>\n",
        "      <th>Revenue</th>\n",
        "      <th>Gross Profit</th>\n",
        "      <th>CMGR</th>\n",
        "      <th>Period</th>\n",
        "    </tr>\n",
        "  </thead>\n",
        "  <tbody>\n",
        "    <tr>\n",
        "      <th>0</th>\n",
        "      <td>    7 GRAIN MILK / 946ML</td>\n",
        "      <td> Pacific Natural Foods</td>\n",
        "      <td>      Milk</td>\n",
        "      <td> 1492.9</td>\n",
        "      <td> 271.9</td>\n",
        "      <td> 10.650578</td>\n",
        "      <td> 38</td>\n",
        "    </tr>\n",
        "    <tr>\n",
        "      <th>1</th>\n",
        "      <td>        ACAI BERRY JUICE</td>\n",
        "      <td>                     0</td>\n",
        "      <td> Beverages</td>\n",
        "      <td>   60.0</td>\n",
        "      <td>  12.0</td>\n",
        "      <td>  0.000000</td>\n",
        "      <td>  4</td>\n",
        "    </tr>\n",
        "    <tr>\n",
        "      <th>2</th>\n",
        "      <td>        ACAI BERRY JUICE</td>\n",
        "      <td>         Berry company</td>\n",
        "      <td>    Juices</td>\n",
        "      <td>  308.0</td>\n",
        "      <td>  78.0</td>\n",
        "      <td>  9.232890</td>\n",
        "      <td> 26</td>\n",
        "    </tr>\n",
        "    <tr>\n",
        "      <th>3</th>\n",
        "      <td>        ACNE FACIAL SOAP</td>\n",
        "      <td>         Healing Herbs</td>\n",
        "      <td> Cosmetics</td>\n",
        "      <td>  110.0</td>\n",
        "      <td>  22.0</td>\n",
        "      <td>  3.355778</td>\n",
        "      <td> 21</td>\n",
        "    </tr>\n",
        "    <tr>\n",
        "      <th>4</th>\n",
        "      <td> ACQUA PANA WATER 1000ML</td>\n",
        "      <td>                   NGS</td>\n",
        "      <td> Beverages</td>\n",
        "      <td>   10.0</td>\n",
        "      <td>  10.0</td>\n",
        "      <td>  0.000000</td>\n",
        "      <td> 24</td>\n",
        "    </tr>\n",
        "  </tbody>\n",
        "</table>\n",
        "</div>"
       ],
       "metadata": {},
       "output_type": "pyout",
       "prompt_number": 15,
       "text": [
        "                   Product                  Brand       Type  Revenue  \\\n",
        "0     7 GRAIN MILK / 946ML  Pacific Natural Foods       Milk   1492.9   \n",
        "1         ACAI BERRY JUICE                      0  Beverages     60.0   \n",
        "2         ACAI BERRY JUICE          Berry company     Juices    308.0   \n",
        "3         ACNE FACIAL SOAP          Healing Herbs  Cosmetics    110.0   \n",
        "4  ACQUA PANA WATER 1000ML                    NGS  Beverages     10.0   \n",
        "\n",
        "   Gross Profit       CMGR  Period  \n",
        "0         271.9  10.650578      38  \n",
        "1          12.0   0.000000       4  \n",
        "2          78.0   9.232890      26  \n",
        "3          22.0   3.355778      21  \n",
        "4          10.0   0.000000      24  "
       ]
      }
     ],
     "prompt_number": 15
    },
    {
     "cell_type": "code",
     "collapsed": false,
     "input": [
      "total = gprofit['Revenue'].sum() #total revenue\n",
      "total\n"
     ],
     "language": "python",
     "metadata": {},
     "outputs": [
      {
       "metadata": {},
       "output_type": "pyout",
       "prompt_number": 16,
       "text": [
        "2327024.7624569973"
       ]
      }
     ],
     "prompt_number": 16
    },
    {
     "cell_type": "code",
     "collapsed": false,
     "input": [
      "totalgp = gprofit['Gross Profit'].sum() #total gross profit\n",
      "totalgp\n"
     ],
     "language": "python",
     "metadata": {},
     "outputs": [
      {
       "metadata": {},
       "output_type": "pyout",
       "prompt_number": 17,
       "text": [
        "592493.76406700094"
       ]
      }
     ],
     "prompt_number": 17
    },
    {
     "cell_type": "code",
     "collapsed": false,
     "input": [
      "gprofit.loc[:, '%Total Revenue'] = gprofit['Revenue'].apply(lambda x: x*100/total) #%total revenue\n",
      "totprods = max(gprofit.index) + 1\n",
      "temp = total/totprods #total revenue / total products\n",
      "gprofit.loc[:, 'Average Revenue'] = temp #avg revenue\n",
      "gprofit.loc[:, 'Average Gross Profit'] = totalgp/totprods #avg gross profit\n",
      "gprofit.head()"
     ],
     "language": "python",
     "metadata": {},
     "outputs": [
      {
       "html": [
        "<div style=\"max-height:1000px;max-width:1500px;overflow:auto;\">\n",
        "<table border=\"1\" class=\"dataframe\">\n",
        "  <thead>\n",
        "    <tr style=\"text-align: right;\">\n",
        "      <th></th>\n",
        "      <th>Product</th>\n",
        "      <th>Brand</th>\n",
        "      <th>Type</th>\n",
        "      <th>Revenue</th>\n",
        "      <th>Gross Profit</th>\n",
        "      <th>CMGR</th>\n",
        "      <th>Period</th>\n",
        "      <th>%Total Revenue</th>\n",
        "      <th>Average Revenue</th>\n",
        "      <th>Average Gross Profit</th>\n",
        "    </tr>\n",
        "  </thead>\n",
        "  <tbody>\n",
        "    <tr>\n",
        "      <th>0</th>\n",
        "      <td>    7 GRAIN MILK / 946ML</td>\n",
        "      <td> Pacific Natural Foods</td>\n",
        "      <td>      Milk</td>\n",
        "      <td> 1492.9</td>\n",
        "      <td> 271.9</td>\n",
        "      <td> 10.650578</td>\n",
        "      <td> 38</td>\n",
        "      <td> 0.064155</td>\n",
        "      <td> 1246.397837</td>\n",
        "      <td> 317.350704</td>\n",
        "    </tr>\n",
        "    <tr>\n",
        "      <th>1</th>\n",
        "      <td>        ACAI BERRY JUICE</td>\n",
        "      <td>                     0</td>\n",
        "      <td> Beverages</td>\n",
        "      <td>   60.0</td>\n",
        "      <td>  12.0</td>\n",
        "      <td>  0.000000</td>\n",
        "      <td>  4</td>\n",
        "      <td> 0.002578</td>\n",
        "      <td> 1246.397837</td>\n",
        "      <td> 317.350704</td>\n",
        "    </tr>\n",
        "    <tr>\n",
        "      <th>2</th>\n",
        "      <td>        ACAI BERRY JUICE</td>\n",
        "      <td>         Berry company</td>\n",
        "      <td>    Juices</td>\n",
        "      <td>  308.0</td>\n",
        "      <td>  78.0</td>\n",
        "      <td>  9.232890</td>\n",
        "      <td> 26</td>\n",
        "      <td> 0.013236</td>\n",
        "      <td> 1246.397837</td>\n",
        "      <td> 317.350704</td>\n",
        "    </tr>\n",
        "    <tr>\n",
        "      <th>3</th>\n",
        "      <td>        ACNE FACIAL SOAP</td>\n",
        "      <td>         Healing Herbs</td>\n",
        "      <td> Cosmetics</td>\n",
        "      <td>  110.0</td>\n",
        "      <td>  22.0</td>\n",
        "      <td>  3.355778</td>\n",
        "      <td> 21</td>\n",
        "      <td> 0.004727</td>\n",
        "      <td> 1246.397837</td>\n",
        "      <td> 317.350704</td>\n",
        "    </tr>\n",
        "    <tr>\n",
        "      <th>4</th>\n",
        "      <td> ACQUA PANA WATER 1000ML</td>\n",
        "      <td>                   NGS</td>\n",
        "      <td> Beverages</td>\n",
        "      <td>   10.0</td>\n",
        "      <td>  10.0</td>\n",
        "      <td>  0.000000</td>\n",
        "      <td> 24</td>\n",
        "      <td> 0.000430</td>\n",
        "      <td> 1246.397837</td>\n",
        "      <td> 317.350704</td>\n",
        "    </tr>\n",
        "  </tbody>\n",
        "</table>\n",
        "</div>"
       ],
       "metadata": {},
       "output_type": "pyout",
       "prompt_number": 18,
       "text": [
        "                   Product                  Brand       Type  Revenue  \\\n",
        "0     7 GRAIN MILK / 946ML  Pacific Natural Foods       Milk   1492.9   \n",
        "1         ACAI BERRY JUICE                      0  Beverages     60.0   \n",
        "2         ACAI BERRY JUICE          Berry company     Juices    308.0   \n",
        "3         ACNE FACIAL SOAP          Healing Herbs  Cosmetics    110.0   \n",
        "4  ACQUA PANA WATER 1000ML                    NGS  Beverages     10.0   \n",
        "\n",
        "   Gross Profit       CMGR  Period  %Total Revenue  Average Revenue  \\\n",
        "0         271.9  10.650578      38        0.064155      1246.397837   \n",
        "1          12.0   0.000000       4        0.002578      1246.397837   \n",
        "2          78.0   9.232890      26        0.013236      1246.397837   \n",
        "3          22.0   3.355778      21        0.004727      1246.397837   \n",
        "4          10.0   0.000000      24        0.000430      1246.397837   \n",
        "\n",
        "   Average Gross Profit  \n",
        "0            317.350704  \n",
        "1            317.350704  \n",
        "2            317.350704  \n",
        "3            317.350704  \n",
        "4            317.350704  "
       ]
      }
     ],
     "prompt_number": 18
    },
    {
     "cell_type": "code",
     "collapsed": false,
     "input": [
      "gprofit.loc[:, '% Variation from Average'] = gprofit['Revenue'].apply(lambda x: (x-temp)*100/temp)\n",
      "total = gprofit['Gross Profit'].sum()\n",
      "gprofit.loc[:, '%Total Gross Profit'] = gprofit['Gross Profit'].apply(lambda x: x*100/total)\n",
      "gprofit.head()"
     ],
     "language": "python",
     "metadata": {},
     "outputs": [
      {
       "html": [
        "<div style=\"max-height:1000px;max-width:1500px;overflow:auto;\">\n",
        "<table border=\"1\" class=\"dataframe\">\n",
        "  <thead>\n",
        "    <tr style=\"text-align: right;\">\n",
        "      <th></th>\n",
        "      <th>Product</th>\n",
        "      <th>Brand</th>\n",
        "      <th>Type</th>\n",
        "      <th>Revenue</th>\n",
        "      <th>Gross Profit</th>\n",
        "      <th>CMGR</th>\n",
        "      <th>Period</th>\n",
        "      <th>%Total Revenue</th>\n",
        "      <th>Average Revenue</th>\n",
        "      <th>Average Gross Profit</th>\n",
        "      <th>% Variation from Average</th>\n",
        "      <th>%Total Gross Profit</th>\n",
        "    </tr>\n",
        "  </thead>\n",
        "  <tbody>\n",
        "    <tr>\n",
        "      <th>0</th>\n",
        "      <td>    7 GRAIN MILK / 946ML</td>\n",
        "      <td> Pacific Natural Foods</td>\n",
        "      <td>      Milk</td>\n",
        "      <td> 1492.9</td>\n",
        "      <td> 271.9</td>\n",
        "      <td> 10.650578</td>\n",
        "      <td> 38</td>\n",
        "      <td> 0.064155</td>\n",
        "      <td> 1246.397837</td>\n",
        "      <td> 317.350704</td>\n",
        "      <td> 19.777165</td>\n",
        "      <td> 0.045891</td>\n",
        "    </tr>\n",
        "    <tr>\n",
        "      <th>1</th>\n",
        "      <td>        ACAI BERRY JUICE</td>\n",
        "      <td>                     0</td>\n",
        "      <td> Beverages</td>\n",
        "      <td>   60.0</td>\n",
        "      <td>  12.0</td>\n",
        "      <td>  0.000000</td>\n",
        "      <td>  4</td>\n",
        "      <td> 0.002578</td>\n",
        "      <td> 1246.397837</td>\n",
        "      <td> 317.350704</td>\n",
        "      <td>-95.186128</td>\n",
        "      <td> 0.002025</td>\n",
        "    </tr>\n",
        "    <tr>\n",
        "      <th>2</th>\n",
        "      <td>        ACAI BERRY JUICE</td>\n",
        "      <td>         Berry company</td>\n",
        "      <td>    Juices</td>\n",
        "      <td>  308.0</td>\n",
        "      <td>  78.0</td>\n",
        "      <td>  9.232890</td>\n",
        "      <td> 26</td>\n",
        "      <td> 0.013236</td>\n",
        "      <td> 1246.397837</td>\n",
        "      <td> 317.350704</td>\n",
        "      <td>-75.288789</td>\n",
        "      <td> 0.013165</td>\n",
        "    </tr>\n",
        "    <tr>\n",
        "      <th>3</th>\n",
        "      <td>        ACNE FACIAL SOAP</td>\n",
        "      <td>         Healing Herbs</td>\n",
        "      <td> Cosmetics</td>\n",
        "      <td>  110.0</td>\n",
        "      <td>  22.0</td>\n",
        "      <td>  3.355778</td>\n",
        "      <td> 21</td>\n",
        "      <td> 0.004727</td>\n",
        "      <td> 1246.397837</td>\n",
        "      <td> 317.350704</td>\n",
        "      <td>-91.174567</td>\n",
        "      <td> 0.003713</td>\n",
        "    </tr>\n",
        "    <tr>\n",
        "      <th>4</th>\n",
        "      <td> ACQUA PANA WATER 1000ML</td>\n",
        "      <td>                   NGS</td>\n",
        "      <td> Beverages</td>\n",
        "      <td>   10.0</td>\n",
        "      <td>  10.0</td>\n",
        "      <td>  0.000000</td>\n",
        "      <td> 24</td>\n",
        "      <td> 0.000430</td>\n",
        "      <td> 1246.397837</td>\n",
        "      <td> 317.350704</td>\n",
        "      <td>-99.197688</td>\n",
        "      <td> 0.001688</td>\n",
        "    </tr>\n",
        "  </tbody>\n",
        "</table>\n",
        "</div>"
       ],
       "metadata": {},
       "output_type": "pyout",
       "prompt_number": 19,
       "text": [
        "                   Product                  Brand       Type  Revenue  \\\n",
        "0     7 GRAIN MILK / 946ML  Pacific Natural Foods       Milk   1492.9   \n",
        "1         ACAI BERRY JUICE                      0  Beverages     60.0   \n",
        "2         ACAI BERRY JUICE          Berry company     Juices    308.0   \n",
        "3         ACNE FACIAL SOAP          Healing Herbs  Cosmetics    110.0   \n",
        "4  ACQUA PANA WATER 1000ML                    NGS  Beverages     10.0   \n",
        "\n",
        "   Gross Profit       CMGR  Period  %Total Revenue  Average Revenue  \\\n",
        "0         271.9  10.650578      38        0.064155      1246.397837   \n",
        "1          12.0   0.000000       4        0.002578      1246.397837   \n",
        "2          78.0   9.232890      26        0.013236      1246.397837   \n",
        "3          22.0   3.355778      21        0.004727      1246.397837   \n",
        "4          10.0   0.000000      24        0.000430      1246.397837   \n",
        "\n",
        "   Average Gross Profit  % Variation from Average  %Total Gross Profit  \n",
        "0            317.350704                 19.777165             0.045891  \n",
        "1            317.350704                -95.186128             0.002025  \n",
        "2            317.350704                -75.288789             0.013165  \n",
        "3            317.350704                -91.174567             0.003713  \n",
        "4            317.350704                -99.197688             0.001688  "
       ]
      }
     ],
     "prompt_number": 19
    },
    {
     "cell_type": "code",
     "collapsed": false,
     "input": [],
     "language": "python",
     "metadata": {},
     "outputs": []
    }
   ],
   "metadata": {}
  }
 ]
}
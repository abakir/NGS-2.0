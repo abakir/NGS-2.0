{
 "metadata": {
  "name": "",
  "signature": "sha256:aefc1b33245bf86912088a9a44bb6d30ec4db7cfc96ef15acb0df4a33a7ec339"
 },
 "nbformat": 3,
 "nbformat_minor": 0,
 "worksheets": [
  {
   "cells": [
    {
     "cell_type": "code",
     "collapsed": false,
     "input": [
      "import pandas as pd\n",
      "import re\n",
      "from datetime import datetime\n",
      "import datetime as DT\n",
      "#import yaml\n",
      "\n",
      "#with open(\"config.yaml\", 'r') as ymlfile:\n",
      "#        cfg = yaml.load(ymlfile)\n",
      "\n",
      "#df = pd.read_csv(cfg['root']+cfg['dir_data_shopify']+cfg[\"ip_orders\"], low_memory=False)\n",
      "df = pd.read_csv('C:\\Users\\saisree849\\Documents\\GitHub\\NGS-2.0\\\\12_dashboard_tables\\data_input\\shopify\\orders_export.csv', low_memory=False)\n",
      "df"
     ],
     "language": "python",
     "metadata": {},
     "outputs": [
      {
       "html": [
        "<div style=\"max-height:1000px;max-width:1500px;overflow:auto;\">\n",
        "<table border=\"1\" class=\"dataframe\">\n",
        "  <thead>\n",
        "    <tr style=\"text-align: right;\">\n",
        "      <th></th>\n",
        "      <th>Name</th>\n",
        "      <th>Email</th>\n",
        "      <th>Financial Status</th>\n",
        "      <th>Paid at</th>\n",
        "      <th>Fulfillment Status</th>\n",
        "      <th>Fulfilled at</th>\n",
        "      <th>Accepts Marketing</th>\n",
        "      <th>Currency</th>\n",
        "      <th>Subtotal</th>\n",
        "      <th>Shipping</th>\n",
        "      <th>...</th>\n",
        "      <th>Tax 1 Name</th>\n",
        "      <th>Tax 1 Value</th>\n",
        "      <th>Tax 2 Name</th>\n",
        "      <th>Tax 2 Value</th>\n",
        "      <th>Tax 3 Name</th>\n",
        "      <th>Tax 3 Value</th>\n",
        "      <th>Tax 4 Name</th>\n",
        "      <th>Tax 4 Value</th>\n",
        "      <th>Tax 5 Name</th>\n",
        "      <th>Tax 5 Value</th>\n",
        "    </tr>\n",
        "  </thead>\n",
        "  <tbody>\n",
        "    <tr>\n",
        "      <th>0    </th>\n",
        "      <td> #10367</td>\n",
        "      <td>  rehabmansour@gmail.com</td>\n",
        "      <td> pending</td>\n",
        "      <td>                       NaN</td>\n",
        "      <td> unfulfilled</td>\n",
        "      <td>                       NaN</td>\n",
        "      <td>  no</td>\n",
        "      <td> EGP</td>\n",
        "      <td> 375.30</td>\n",
        "      <td> 10</td>\n",
        "      <td>...</td>\n",
        "      <td>NaN</td>\n",
        "      <td>NaN</td>\n",
        "      <td>NaN</td>\n",
        "      <td>NaN</td>\n",
        "      <td>NaN</td>\n",
        "      <td>NaN</td>\n",
        "      <td>NaN</td>\n",
        "      <td>NaN</td>\n",
        "      <td>NaN</td>\n",
        "      <td>NaN</td>\n",
        "    </tr>\n",
        "    <tr>\n",
        "      <th>1    </th>\n",
        "      <td> #10367</td>\n",
        "      <td>  rehabmansour@gmail.com</td>\n",
        "      <td>     NaN</td>\n",
        "      <td>                       NaN</td>\n",
        "      <td>         NaN</td>\n",
        "      <td>                       NaN</td>\n",
        "      <td> NaN</td>\n",
        "      <td> NaN</td>\n",
        "      <td>    NaN</td>\n",
        "      <td>NaN</td>\n",
        "      <td>...</td>\n",
        "      <td>NaN</td>\n",
        "      <td>NaN</td>\n",
        "      <td>NaN</td>\n",
        "      <td>NaN</td>\n",
        "      <td>NaN</td>\n",
        "      <td>NaN</td>\n",
        "      <td>NaN</td>\n",
        "      <td>NaN</td>\n",
        "      <td>NaN</td>\n",
        "      <td>NaN</td>\n",
        "    </tr>\n",
        "    <tr>\n",
        "      <th>2    </th>\n",
        "      <td> #10367</td>\n",
        "      <td>  rehabmansour@gmail.com</td>\n",
        "      <td>     NaN</td>\n",
        "      <td>                       NaN</td>\n",
        "      <td>         NaN</td>\n",
        "      <td>                       NaN</td>\n",
        "      <td> NaN</td>\n",
        "      <td> NaN</td>\n",
        "      <td>    NaN</td>\n",
        "      <td>NaN</td>\n",
        "      <td>...</td>\n",
        "      <td>NaN</td>\n",
        "      <td>NaN</td>\n",
        "      <td>NaN</td>\n",
        "      <td>NaN</td>\n",
        "      <td>NaN</td>\n",
        "      <td>NaN</td>\n",
        "      <td>NaN</td>\n",
        "      <td>NaN</td>\n",
        "      <td>NaN</td>\n",
        "      <td>NaN</td>\n",
        "    </tr>\n",
        "    <tr>\n",
        "      <th>3    </th>\n",
        "      <td> #10366</td>\n",
        "      <td>     nabouheif@yahoo.com</td>\n",
        "      <td> pending</td>\n",
        "      <td>                       NaN</td>\n",
        "      <td> unfulfilled</td>\n",
        "      <td>                       NaN</td>\n",
        "      <td>  no</td>\n",
        "      <td> EGP</td>\n",
        "      <td> 162.90</td>\n",
        "      <td> 10</td>\n",
        "      <td>...</td>\n",
        "      <td>NaN</td>\n",
        "      <td>NaN</td>\n",
        "      <td>NaN</td>\n",
        "      <td>NaN</td>\n",
        "      <td>NaN</td>\n",
        "      <td>NaN</td>\n",
        "      <td>NaN</td>\n",
        "      <td>NaN</td>\n",
        "      <td>NaN</td>\n",
        "      <td>NaN</td>\n",
        "    </tr>\n",
        "    <tr>\n",
        "      <th>4    </th>\n",
        "      <td> #10366</td>\n",
        "      <td>     nabouheif@yahoo.com</td>\n",
        "      <td>     NaN</td>\n",
        "      <td>                       NaN</td>\n",
        "      <td>         NaN</td>\n",
        "      <td>                       NaN</td>\n",
        "      <td> NaN</td>\n",
        "      <td> NaN</td>\n",
        "      <td>    NaN</td>\n",
        "      <td>NaN</td>\n",
        "      <td>...</td>\n",
        "      <td>NaN</td>\n",
        "      <td>NaN</td>\n",
        "      <td>NaN</td>\n",
        "      <td>NaN</td>\n",
        "      <td>NaN</td>\n",
        "      <td>NaN</td>\n",
        "      <td>NaN</td>\n",
        "      <td>NaN</td>\n",
        "      <td>NaN</td>\n",
        "      <td>NaN</td>\n",
        "    </tr>\n",
        "    <tr>\n",
        "      <th>5    </th>\n",
        "      <td> #10366</td>\n",
        "      <td>     nabouheif@yahoo.com</td>\n",
        "      <td>     NaN</td>\n",
        "      <td>                       NaN</td>\n",
        "      <td>         NaN</td>\n",
        "      <td>                       NaN</td>\n",
        "      <td> NaN</td>\n",
        "      <td> NaN</td>\n",
        "      <td>    NaN</td>\n",
        "      <td>NaN</td>\n",
        "      <td>...</td>\n",
        "      <td>NaN</td>\n",
        "      <td>NaN</td>\n",
        "      <td>NaN</td>\n",
        "      <td>NaN</td>\n",
        "      <td>NaN</td>\n",
        "      <td>NaN</td>\n",
        "      <td>NaN</td>\n",
        "      <td>NaN</td>\n",
        "      <td>NaN</td>\n",
        "      <td>NaN</td>\n",
        "    </tr>\n",
        "    <tr>\n",
        "      <th>6    </th>\n",
        "      <td> #10365</td>\n",
        "      <td>  fracicardi@hotmail.com</td>\n",
        "      <td> pending</td>\n",
        "      <td>                       NaN</td>\n",
        "      <td> unfulfilled</td>\n",
        "      <td>                       NaN</td>\n",
        "      <td>  no</td>\n",
        "      <td> EGP</td>\n",
        "      <td> 129.00</td>\n",
        "      <td> 15</td>\n",
        "      <td>...</td>\n",
        "      <td>NaN</td>\n",
        "      <td>NaN</td>\n",
        "      <td>NaN</td>\n",
        "      <td>NaN</td>\n",
        "      <td>NaN</td>\n",
        "      <td>NaN</td>\n",
        "      <td>NaN</td>\n",
        "      <td>NaN</td>\n",
        "      <td>NaN</td>\n",
        "      <td>NaN</td>\n",
        "    </tr>\n",
        "    <tr>\n",
        "      <th>7    </th>\n",
        "      <td> #10365</td>\n",
        "      <td>  fracicardi@hotmail.com</td>\n",
        "      <td>     NaN</td>\n",
        "      <td>                       NaN</td>\n",
        "      <td>         NaN</td>\n",
        "      <td>                       NaN</td>\n",
        "      <td> NaN</td>\n",
        "      <td> NaN</td>\n",
        "      <td>    NaN</td>\n",
        "      <td>NaN</td>\n",
        "      <td>...</td>\n",
        "      <td>NaN</td>\n",
        "      <td>NaN</td>\n",
        "      <td>NaN</td>\n",
        "      <td>NaN</td>\n",
        "      <td>NaN</td>\n",
        "      <td>NaN</td>\n",
        "      <td>NaN</td>\n",
        "      <td>NaN</td>\n",
        "      <td>NaN</td>\n",
        "      <td>NaN</td>\n",
        "    </tr>\n",
        "    <tr>\n",
        "      <th>8    </th>\n",
        "      <td> #10365</td>\n",
        "      <td>  fracicardi@hotmail.com</td>\n",
        "      <td>     NaN</td>\n",
        "      <td>                       NaN</td>\n",
        "      <td>         NaN</td>\n",
        "      <td>                       NaN</td>\n",
        "      <td> NaN</td>\n",
        "      <td> NaN</td>\n",
        "      <td>    NaN</td>\n",
        "      <td>NaN</td>\n",
        "      <td>...</td>\n",
        "      <td>NaN</td>\n",
        "      <td>NaN</td>\n",
        "      <td>NaN</td>\n",
        "      <td>NaN</td>\n",
        "      <td>NaN</td>\n",
        "      <td>NaN</td>\n",
        "      <td>NaN</td>\n",
        "      <td>NaN</td>\n",
        "      <td>NaN</td>\n",
        "      <td>NaN</td>\n",
        "    </tr>\n",
        "    <tr>\n",
        "      <th>9    </th>\n",
        "      <td> #10365</td>\n",
        "      <td>  fracicardi@hotmail.com</td>\n",
        "      <td>     NaN</td>\n",
        "      <td>                       NaN</td>\n",
        "      <td>         NaN</td>\n",
        "      <td>                       NaN</td>\n",
        "      <td> NaN</td>\n",
        "      <td> NaN</td>\n",
        "      <td>    NaN</td>\n",
        "      <td>NaN</td>\n",
        "      <td>...</td>\n",
        "      <td>NaN</td>\n",
        "      <td>NaN</td>\n",
        "      <td>NaN</td>\n",
        "      <td>NaN</td>\n",
        "      <td>NaN</td>\n",
        "      <td>NaN</td>\n",
        "      <td>NaN</td>\n",
        "      <td>NaN</td>\n",
        "      <td>NaN</td>\n",
        "      <td>NaN</td>\n",
        "    </tr>\n",
        "    <tr>\n",
        "      <th>10   </th>\n",
        "      <td> #10365</td>\n",
        "      <td>  fracicardi@hotmail.com</td>\n",
        "      <td>     NaN</td>\n",
        "      <td>                       NaN</td>\n",
        "      <td>         NaN</td>\n",
        "      <td>                       NaN</td>\n",
        "      <td> NaN</td>\n",
        "      <td> NaN</td>\n",
        "      <td>    NaN</td>\n",
        "      <td>NaN</td>\n",
        "      <td>...</td>\n",
        "      <td>NaN</td>\n",
        "      <td>NaN</td>\n",
        "      <td>NaN</td>\n",
        "      <td>NaN</td>\n",
        "      <td>NaN</td>\n",
        "      <td>NaN</td>\n",
        "      <td>NaN</td>\n",
        "      <td>NaN</td>\n",
        "      <td>NaN</td>\n",
        "      <td>NaN</td>\n",
        "    </tr>\n",
        "    <tr>\n",
        "      <th>11   </th>\n",
        "      <td> #10365</td>\n",
        "      <td>  fracicardi@hotmail.com</td>\n",
        "      <td>     NaN</td>\n",
        "      <td>                       NaN</td>\n",
        "      <td>         NaN</td>\n",
        "      <td>                       NaN</td>\n",
        "      <td> NaN</td>\n",
        "      <td> NaN</td>\n",
        "      <td>    NaN</td>\n",
        "      <td>NaN</td>\n",
        "      <td>...</td>\n",
        "      <td>NaN</td>\n",
        "      <td>NaN</td>\n",
        "      <td>NaN</td>\n",
        "      <td>NaN</td>\n",
        "      <td>NaN</td>\n",
        "      <td>NaN</td>\n",
        "      <td>NaN</td>\n",
        "      <td>NaN</td>\n",
        "      <td>NaN</td>\n",
        "      <td>NaN</td>\n",
        "    </tr>\n",
        "    <tr>\n",
        "      <th>12   </th>\n",
        "      <td> #10364</td>\n",
        "      <td>  ahmed.fakhry@gmail.com</td>\n",
        "      <td> pending</td>\n",
        "      <td>                       NaN</td>\n",
        "      <td> unfulfilled</td>\n",
        "      <td>                       NaN</td>\n",
        "      <td>  no</td>\n",
        "      <td> EGP</td>\n",
        "      <td> 660.10</td>\n",
        "      <td> 10</td>\n",
        "      <td>...</td>\n",
        "      <td>NaN</td>\n",
        "      <td>NaN</td>\n",
        "      <td>NaN</td>\n",
        "      <td>NaN</td>\n",
        "      <td>NaN</td>\n",
        "      <td>NaN</td>\n",
        "      <td>NaN</td>\n",
        "      <td>NaN</td>\n",
        "      <td>NaN</td>\n",
        "      <td>NaN</td>\n",
        "    </tr>\n",
        "    <tr>\n",
        "      <th>13   </th>\n",
        "      <td> #10364</td>\n",
        "      <td>  ahmed.fakhry@gmail.com</td>\n",
        "      <td>     NaN</td>\n",
        "      <td>                       NaN</td>\n",
        "      <td>         NaN</td>\n",
        "      <td>                       NaN</td>\n",
        "      <td> NaN</td>\n",
        "      <td> NaN</td>\n",
        "      <td>    NaN</td>\n",
        "      <td>NaN</td>\n",
        "      <td>...</td>\n",
        "      <td>NaN</td>\n",
        "      <td>NaN</td>\n",
        "      <td>NaN</td>\n",
        "      <td>NaN</td>\n",
        "      <td>NaN</td>\n",
        "      <td>NaN</td>\n",
        "      <td>NaN</td>\n",
        "      <td>NaN</td>\n",
        "      <td>NaN</td>\n",
        "      <td>NaN</td>\n",
        "    </tr>\n",
        "    <tr>\n",
        "      <th>14   </th>\n",
        "      <td> #10364</td>\n",
        "      <td>  ahmed.fakhry@gmail.com</td>\n",
        "      <td>     NaN</td>\n",
        "      <td>                       NaN</td>\n",
        "      <td>         NaN</td>\n",
        "      <td>                       NaN</td>\n",
        "      <td> NaN</td>\n",
        "      <td> NaN</td>\n",
        "      <td>    NaN</td>\n",
        "      <td>NaN</td>\n",
        "      <td>...</td>\n",
        "      <td>NaN</td>\n",
        "      <td>NaN</td>\n",
        "      <td>NaN</td>\n",
        "      <td>NaN</td>\n",
        "      <td>NaN</td>\n",
        "      <td>NaN</td>\n",
        "      <td>NaN</td>\n",
        "      <td>NaN</td>\n",
        "      <td>NaN</td>\n",
        "      <td>NaN</td>\n",
        "    </tr>\n",
        "    <tr>\n",
        "      <th>15   </th>\n",
        "      <td> #10364</td>\n",
        "      <td>  ahmed.fakhry@gmail.com</td>\n",
        "      <td>     NaN</td>\n",
        "      <td>                       NaN</td>\n",
        "      <td>         NaN</td>\n",
        "      <td>                       NaN</td>\n",
        "      <td> NaN</td>\n",
        "      <td> NaN</td>\n",
        "      <td>    NaN</td>\n",
        "      <td>NaN</td>\n",
        "      <td>...</td>\n",
        "      <td>NaN</td>\n",
        "      <td>NaN</td>\n",
        "      <td>NaN</td>\n",
        "      <td>NaN</td>\n",
        "      <td>NaN</td>\n",
        "      <td>NaN</td>\n",
        "      <td>NaN</td>\n",
        "      <td>NaN</td>\n",
        "      <td>NaN</td>\n",
        "      <td>NaN</td>\n",
        "    </tr>\n",
        "    <tr>\n",
        "      <th>16   </th>\n",
        "      <td> #10364</td>\n",
        "      <td>  ahmed.fakhry@gmail.com</td>\n",
        "      <td>     NaN</td>\n",
        "      <td>                       NaN</td>\n",
        "      <td>         NaN</td>\n",
        "      <td>                       NaN</td>\n",
        "      <td> NaN</td>\n",
        "      <td> NaN</td>\n",
        "      <td>    NaN</td>\n",
        "      <td>NaN</td>\n",
        "      <td>...</td>\n",
        "      <td>NaN</td>\n",
        "      <td>NaN</td>\n",
        "      <td>NaN</td>\n",
        "      <td>NaN</td>\n",
        "      <td>NaN</td>\n",
        "      <td>NaN</td>\n",
        "      <td>NaN</td>\n",
        "      <td>NaN</td>\n",
        "      <td>NaN</td>\n",
        "      <td>NaN</td>\n",
        "    </tr>\n",
        "    <tr>\n",
        "      <th>17   </th>\n",
        "      <td> #10364</td>\n",
        "      <td>  ahmed.fakhry@gmail.com</td>\n",
        "      <td>     NaN</td>\n",
        "      <td>                       NaN</td>\n",
        "      <td>         NaN</td>\n",
        "      <td>                       NaN</td>\n",
        "      <td> NaN</td>\n",
        "      <td> NaN</td>\n",
        "      <td>    NaN</td>\n",
        "      <td>NaN</td>\n",
        "      <td>...</td>\n",
        "      <td>NaN</td>\n",
        "      <td>NaN</td>\n",
        "      <td>NaN</td>\n",
        "      <td>NaN</td>\n",
        "      <td>NaN</td>\n",
        "      <td>NaN</td>\n",
        "      <td>NaN</td>\n",
        "      <td>NaN</td>\n",
        "      <td>NaN</td>\n",
        "      <td>NaN</td>\n",
        "    </tr>\n",
        "    <tr>\n",
        "      <th>18   </th>\n",
        "      <td> #10364</td>\n",
        "      <td>  ahmed.fakhry@gmail.com</td>\n",
        "      <td>     NaN</td>\n",
        "      <td>                       NaN</td>\n",
        "      <td>         NaN</td>\n",
        "      <td>                       NaN</td>\n",
        "      <td> NaN</td>\n",
        "      <td> NaN</td>\n",
        "      <td>    NaN</td>\n",
        "      <td>NaN</td>\n",
        "      <td>...</td>\n",
        "      <td>NaN</td>\n",
        "      <td>NaN</td>\n",
        "      <td>NaN</td>\n",
        "      <td>NaN</td>\n",
        "      <td>NaN</td>\n",
        "      <td>NaN</td>\n",
        "      <td>NaN</td>\n",
        "      <td>NaN</td>\n",
        "      <td>NaN</td>\n",
        "      <td>NaN</td>\n",
        "    </tr>\n",
        "    <tr>\n",
        "      <th>19   </th>\n",
        "      <td> #10364</td>\n",
        "      <td>  ahmed.fakhry@gmail.com</td>\n",
        "      <td>     NaN</td>\n",
        "      <td>                       NaN</td>\n",
        "      <td>         NaN</td>\n",
        "      <td>                       NaN</td>\n",
        "      <td> NaN</td>\n",
        "      <td> NaN</td>\n",
        "      <td>    NaN</td>\n",
        "      <td>NaN</td>\n",
        "      <td>...</td>\n",
        "      <td>NaN</td>\n",
        "      <td>NaN</td>\n",
        "      <td>NaN</td>\n",
        "      <td>NaN</td>\n",
        "      <td>NaN</td>\n",
        "      <td>NaN</td>\n",
        "      <td>NaN</td>\n",
        "      <td>NaN</td>\n",
        "      <td>NaN</td>\n",
        "      <td>NaN</td>\n",
        "    </tr>\n",
        "    <tr>\n",
        "      <th>20   </th>\n",
        "      <td> #10364</td>\n",
        "      <td>  ahmed.fakhry@gmail.com</td>\n",
        "      <td>     NaN</td>\n",
        "      <td>                       NaN</td>\n",
        "      <td>         NaN</td>\n",
        "      <td>                       NaN</td>\n",
        "      <td> NaN</td>\n",
        "      <td> NaN</td>\n",
        "      <td>    NaN</td>\n",
        "      <td>NaN</td>\n",
        "      <td>...</td>\n",
        "      <td>NaN</td>\n",
        "      <td>NaN</td>\n",
        "      <td>NaN</td>\n",
        "      <td>NaN</td>\n",
        "      <td>NaN</td>\n",
        "      <td>NaN</td>\n",
        "      <td>NaN</td>\n",
        "      <td>NaN</td>\n",
        "      <td>NaN</td>\n",
        "      <td>NaN</td>\n",
        "    </tr>\n",
        "    <tr>\n",
        "      <th>21   </th>\n",
        "      <td> #10363</td>\n",
        "      <td>  ahmed.fakhry@gmail.com</td>\n",
        "      <td> pending</td>\n",
        "      <td>                       NaN</td>\n",
        "      <td> unfulfilled</td>\n",
        "      <td>                       NaN</td>\n",
        "      <td>  no</td>\n",
        "      <td> EGP</td>\n",
        "      <td> 592.00</td>\n",
        "      <td> 10</td>\n",
        "      <td>...</td>\n",
        "      <td>NaN</td>\n",
        "      <td>NaN</td>\n",
        "      <td>NaN</td>\n",
        "      <td>NaN</td>\n",
        "      <td>NaN</td>\n",
        "      <td>NaN</td>\n",
        "      <td>NaN</td>\n",
        "      <td>NaN</td>\n",
        "      <td>NaN</td>\n",
        "      <td>NaN</td>\n",
        "    </tr>\n",
        "    <tr>\n",
        "      <th>22   </th>\n",
        "      <td> #10362</td>\n",
        "      <td>    Missilou11@yahoo.com</td>\n",
        "      <td> pending</td>\n",
        "      <td>                       NaN</td>\n",
        "      <td> unfulfilled</td>\n",
        "      <td>                       NaN</td>\n",
        "      <td>  no</td>\n",
        "      <td> EGP</td>\n",
        "      <td>  70.20</td>\n",
        "      <td> 15</td>\n",
        "      <td>...</td>\n",
        "      <td>NaN</td>\n",
        "      <td>NaN</td>\n",
        "      <td>NaN</td>\n",
        "      <td>NaN</td>\n",
        "      <td>NaN</td>\n",
        "      <td>NaN</td>\n",
        "      <td>NaN</td>\n",
        "      <td>NaN</td>\n",
        "      <td>NaN</td>\n",
        "      <td>NaN</td>\n",
        "    </tr>\n",
        "    <tr>\n",
        "      <th>23   </th>\n",
        "      <td> #10361</td>\n",
        "      <td> sallysalem123@gmail.com</td>\n",
        "      <td> pending</td>\n",
        "      <td>                       NaN</td>\n",
        "      <td> unfulfilled</td>\n",
        "      <td>                       NaN</td>\n",
        "      <td>  no</td>\n",
        "      <td> EGP</td>\n",
        "      <td> 432.00</td>\n",
        "      <td> 10</td>\n",
        "      <td>...</td>\n",
        "      <td>NaN</td>\n",
        "      <td>NaN</td>\n",
        "      <td>NaN</td>\n",
        "      <td>NaN</td>\n",
        "      <td>NaN</td>\n",
        "      <td>NaN</td>\n",
        "      <td>NaN</td>\n",
        "      <td>NaN</td>\n",
        "      <td>NaN</td>\n",
        "      <td>NaN</td>\n",
        "    </tr>\n",
        "    <tr>\n",
        "      <th>24   </th>\n",
        "      <td> #10361</td>\n",
        "      <td> sallysalem123@gmail.com</td>\n",
        "      <td>     NaN</td>\n",
        "      <td>                       NaN</td>\n",
        "      <td>         NaN</td>\n",
        "      <td>                       NaN</td>\n",
        "      <td> NaN</td>\n",
        "      <td> NaN</td>\n",
        "      <td>    NaN</td>\n",
        "      <td>NaN</td>\n",
        "      <td>...</td>\n",
        "      <td>NaN</td>\n",
        "      <td>NaN</td>\n",
        "      <td>NaN</td>\n",
        "      <td>NaN</td>\n",
        "      <td>NaN</td>\n",
        "      <td>NaN</td>\n",
        "      <td>NaN</td>\n",
        "      <td>NaN</td>\n",
        "      <td>NaN</td>\n",
        "      <td>NaN</td>\n",
        "    </tr>\n",
        "    <tr>\n",
        "      <th>25   </th>\n",
        "      <td> #10361</td>\n",
        "      <td> sallysalem123@gmail.com</td>\n",
        "      <td>     NaN</td>\n",
        "      <td>                       NaN</td>\n",
        "      <td>         NaN</td>\n",
        "      <td>                       NaN</td>\n",
        "      <td> NaN</td>\n",
        "      <td> NaN</td>\n",
        "      <td>    NaN</td>\n",
        "      <td>NaN</td>\n",
        "      <td>...</td>\n",
        "      <td>NaN</td>\n",
        "      <td>NaN</td>\n",
        "      <td>NaN</td>\n",
        "      <td>NaN</td>\n",
        "      <td>NaN</td>\n",
        "      <td>NaN</td>\n",
        "      <td>NaN</td>\n",
        "      <td>NaN</td>\n",
        "      <td>NaN</td>\n",
        "      <td>NaN</td>\n",
        "    </tr>\n",
        "    <tr>\n",
        "      <th>26   </th>\n",
        "      <td> #10361</td>\n",
        "      <td> sallysalem123@gmail.com</td>\n",
        "      <td>     NaN</td>\n",
        "      <td>                       NaN</td>\n",
        "      <td>         NaN</td>\n",
        "      <td>                       NaN</td>\n",
        "      <td> NaN</td>\n",
        "      <td> NaN</td>\n",
        "      <td>    NaN</td>\n",
        "      <td>NaN</td>\n",
        "      <td>...</td>\n",
        "      <td>NaN</td>\n",
        "      <td>NaN</td>\n",
        "      <td>NaN</td>\n",
        "      <td>NaN</td>\n",
        "      <td>NaN</td>\n",
        "      <td>NaN</td>\n",
        "      <td>NaN</td>\n",
        "      <td>NaN</td>\n",
        "      <td>NaN</td>\n",
        "      <td>NaN</td>\n",
        "    </tr>\n",
        "    <tr>\n",
        "      <th>27   </th>\n",
        "      <td> #10361</td>\n",
        "      <td> sallysalem123@gmail.com</td>\n",
        "      <td>     NaN</td>\n",
        "      <td>                       NaN</td>\n",
        "      <td>         NaN</td>\n",
        "      <td>                       NaN</td>\n",
        "      <td> NaN</td>\n",
        "      <td> NaN</td>\n",
        "      <td>    NaN</td>\n",
        "      <td>NaN</td>\n",
        "      <td>...</td>\n",
        "      <td>NaN</td>\n",
        "      <td>NaN</td>\n",
        "      <td>NaN</td>\n",
        "      <td>NaN</td>\n",
        "      <td>NaN</td>\n",
        "      <td>NaN</td>\n",
        "      <td>NaN</td>\n",
        "      <td>NaN</td>\n",
        "      <td>NaN</td>\n",
        "      <td>NaN</td>\n",
        "    </tr>\n",
        "    <tr>\n",
        "      <th>28   </th>\n",
        "      <td> #10361</td>\n",
        "      <td> sallysalem123@gmail.com</td>\n",
        "      <td>     NaN</td>\n",
        "      <td>                       NaN</td>\n",
        "      <td>         NaN</td>\n",
        "      <td>                       NaN</td>\n",
        "      <td> NaN</td>\n",
        "      <td> NaN</td>\n",
        "      <td>    NaN</td>\n",
        "      <td>NaN</td>\n",
        "      <td>...</td>\n",
        "      <td>NaN</td>\n",
        "      <td>NaN</td>\n",
        "      <td>NaN</td>\n",
        "      <td>NaN</td>\n",
        "      <td>NaN</td>\n",
        "      <td>NaN</td>\n",
        "      <td>NaN</td>\n",
        "      <td>NaN</td>\n",
        "      <td>NaN</td>\n",
        "      <td>NaN</td>\n",
        "    </tr>\n",
        "    <tr>\n",
        "      <th>29   </th>\n",
        "      <td> #10361</td>\n",
        "      <td> sallysalem123@gmail.com</td>\n",
        "      <td>     NaN</td>\n",
        "      <td>                       NaN</td>\n",
        "      <td>         NaN</td>\n",
        "      <td>                       NaN</td>\n",
        "      <td> NaN</td>\n",
        "      <td> NaN</td>\n",
        "      <td>    NaN</td>\n",
        "      <td>NaN</td>\n",
        "      <td>...</td>\n",
        "      <td>NaN</td>\n",
        "      <td>NaN</td>\n",
        "      <td>NaN</td>\n",
        "      <td>NaN</td>\n",
        "      <td>NaN</td>\n",
        "      <td>NaN</td>\n",
        "      <td>NaN</td>\n",
        "      <td>NaN</td>\n",
        "      <td>NaN</td>\n",
        "      <td>NaN</td>\n",
        "    </tr>\n",
        "    <tr>\n",
        "      <th>...</th>\n",
        "      <td>...</td>\n",
        "      <td>...</td>\n",
        "      <td>...</td>\n",
        "      <td>...</td>\n",
        "      <td>...</td>\n",
        "      <td>...</td>\n",
        "      <td>...</td>\n",
        "      <td>...</td>\n",
        "      <td>...</td>\n",
        "      <td>...</td>\n",
        "      <td>...</td>\n",
        "      <td>...</td>\n",
        "      <td>...</td>\n",
        "      <td>...</td>\n",
        "      <td>...</td>\n",
        "      <td>...</td>\n",
        "      <td>...</td>\n",
        "      <td>...</td>\n",
        "      <td>...</td>\n",
        "      <td>...</td>\n",
        "      <td>...</td>\n",
        "    </tr>\n",
        "    <tr>\n",
        "      <th>60742</th>\n",
        "      <td>  #1013</td>\n",
        "      <td>  lik-novikova@yandex.ru</td>\n",
        "      <td>     NaN</td>\n",
        "      <td>                       NaN</td>\n",
        "      <td>         NaN</td>\n",
        "      <td>                       NaN</td>\n",
        "      <td> NaN</td>\n",
        "      <td> NaN</td>\n",
        "      <td>    NaN</td>\n",
        "      <td>NaN</td>\n",
        "      <td>...</td>\n",
        "      <td>NaN</td>\n",
        "      <td>NaN</td>\n",
        "      <td>NaN</td>\n",
        "      <td>NaN</td>\n",
        "      <td>NaN</td>\n",
        "      <td>NaN</td>\n",
        "      <td>NaN</td>\n",
        "      <td>NaN</td>\n",
        "      <td>NaN</td>\n",
        "      <td>NaN</td>\n",
        "    </tr>\n",
        "    <tr>\n",
        "      <th>60743</th>\n",
        "      <td>  #1012</td>\n",
        "      <td>     bettyhedrich@gmx.de</td>\n",
        "      <td>    paid</td>\n",
        "      <td> 2012-05-27 13:15:42 +0200</td>\n",
        "      <td>   fulfilled</td>\n",
        "      <td> 2012-05-27 13:15:14 +0200</td>\n",
        "      <td>  no</td>\n",
        "      <td> EGP</td>\n",
        "      <td>  41.93</td>\n",
        "      <td>  5</td>\n",
        "      <td>...</td>\n",
        "      <td>NaN</td>\n",
        "      <td>NaN</td>\n",
        "      <td>NaN</td>\n",
        "      <td>NaN</td>\n",
        "      <td>NaN</td>\n",
        "      <td>NaN</td>\n",
        "      <td>NaN</td>\n",
        "      <td>NaN</td>\n",
        "      <td>NaN</td>\n",
        "      <td>NaN</td>\n",
        "    </tr>\n",
        "    <tr>\n",
        "      <th>60744</th>\n",
        "      <td>  #1012</td>\n",
        "      <td>     bettyhedrich@gmx.de</td>\n",
        "      <td>     NaN</td>\n",
        "      <td>                       NaN</td>\n",
        "      <td>         NaN</td>\n",
        "      <td>                       NaN</td>\n",
        "      <td> NaN</td>\n",
        "      <td> NaN</td>\n",
        "      <td>    NaN</td>\n",
        "      <td>NaN</td>\n",
        "      <td>...</td>\n",
        "      <td>NaN</td>\n",
        "      <td>NaN</td>\n",
        "      <td>NaN</td>\n",
        "      <td>NaN</td>\n",
        "      <td>NaN</td>\n",
        "      <td>NaN</td>\n",
        "      <td>NaN</td>\n",
        "      <td>NaN</td>\n",
        "      <td>NaN</td>\n",
        "      <td>NaN</td>\n",
        "    </tr>\n",
        "    <tr>\n",
        "      <th>60745</th>\n",
        "      <td>  #1011</td>\n",
        "      <td>           rulah@msn.com</td>\n",
        "      <td>    paid</td>\n",
        "      <td> 2012-05-21 18:33:13 +0200</td>\n",
        "      <td>   fulfilled</td>\n",
        "      <td> 2012-05-21 18:33:43 +0200</td>\n",
        "      <td> yes</td>\n",
        "      <td> EGP</td>\n",
        "      <td> 222.30</td>\n",
        "      <td>  5</td>\n",
        "      <td>...</td>\n",
        "      <td>NaN</td>\n",
        "      <td>NaN</td>\n",
        "      <td>NaN</td>\n",
        "      <td>NaN</td>\n",
        "      <td>NaN</td>\n",
        "      <td>NaN</td>\n",
        "      <td>NaN</td>\n",
        "      <td>NaN</td>\n",
        "      <td>NaN</td>\n",
        "      <td>NaN</td>\n",
        "    </tr>\n",
        "    <tr>\n",
        "      <th>60746</th>\n",
        "      <td>  #1010</td>\n",
        "      <td>     milda_b@hotmail.com</td>\n",
        "      <td>    paid</td>\n",
        "      <td> 2012-05-09 11:09:12 +0200</td>\n",
        "      <td>   fulfilled</td>\n",
        "      <td> 2012-05-09 11:09:06 +0200</td>\n",
        "      <td> yes</td>\n",
        "      <td> EGP</td>\n",
        "      <td> 155.55</td>\n",
        "      <td>  5</td>\n",
        "      <td>...</td>\n",
        "      <td>NaN</td>\n",
        "      <td>NaN</td>\n",
        "      <td>NaN</td>\n",
        "      <td>NaN</td>\n",
        "      <td>NaN</td>\n",
        "      <td>NaN</td>\n",
        "      <td>NaN</td>\n",
        "      <td>NaN</td>\n",
        "      <td>NaN</td>\n",
        "      <td>NaN</td>\n",
        "    </tr>\n",
        "    <tr>\n",
        "      <th>60747</th>\n",
        "      <td>  #1010</td>\n",
        "      <td>     milda_b@hotmail.com</td>\n",
        "      <td>     NaN</td>\n",
        "      <td>                       NaN</td>\n",
        "      <td>         NaN</td>\n",
        "      <td>                       NaN</td>\n",
        "      <td> NaN</td>\n",
        "      <td> NaN</td>\n",
        "      <td>    NaN</td>\n",
        "      <td>NaN</td>\n",
        "      <td>...</td>\n",
        "      <td>NaN</td>\n",
        "      <td>NaN</td>\n",
        "      <td>NaN</td>\n",
        "      <td>NaN</td>\n",
        "      <td>NaN</td>\n",
        "      <td>NaN</td>\n",
        "      <td>NaN</td>\n",
        "      <td>NaN</td>\n",
        "      <td>NaN</td>\n",
        "      <td>NaN</td>\n",
        "    </tr>\n",
        "    <tr>\n",
        "      <th>60748</th>\n",
        "      <td>  #1010</td>\n",
        "      <td>     milda_b@hotmail.com</td>\n",
        "      <td>     NaN</td>\n",
        "      <td>                       NaN</td>\n",
        "      <td>         NaN</td>\n",
        "      <td>                       NaN</td>\n",
        "      <td> NaN</td>\n",
        "      <td> NaN</td>\n",
        "      <td>    NaN</td>\n",
        "      <td>NaN</td>\n",
        "      <td>...</td>\n",
        "      <td>NaN</td>\n",
        "      <td>NaN</td>\n",
        "      <td>NaN</td>\n",
        "      <td>NaN</td>\n",
        "      <td>NaN</td>\n",
        "      <td>NaN</td>\n",
        "      <td>NaN</td>\n",
        "      <td>NaN</td>\n",
        "      <td>NaN</td>\n",
        "      <td>NaN</td>\n",
        "    </tr>\n",
        "    <tr>\n",
        "      <th>60749</th>\n",
        "      <td>  #1010</td>\n",
        "      <td>     milda_b@hotmail.com</td>\n",
        "      <td>     NaN</td>\n",
        "      <td>                       NaN</td>\n",
        "      <td>         NaN</td>\n",
        "      <td>                       NaN</td>\n",
        "      <td> NaN</td>\n",
        "      <td> NaN</td>\n",
        "      <td>    NaN</td>\n",
        "      <td>NaN</td>\n",
        "      <td>...</td>\n",
        "      <td>NaN</td>\n",
        "      <td>NaN</td>\n",
        "      <td>NaN</td>\n",
        "      <td>NaN</td>\n",
        "      <td>NaN</td>\n",
        "      <td>NaN</td>\n",
        "      <td>NaN</td>\n",
        "      <td>NaN</td>\n",
        "      <td>NaN</td>\n",
        "      <td>NaN</td>\n",
        "    </tr>\n",
        "    <tr>\n",
        "      <th>60750</th>\n",
        "      <td>  #1010</td>\n",
        "      <td>     milda_b@hotmail.com</td>\n",
        "      <td>     NaN</td>\n",
        "      <td>                       NaN</td>\n",
        "      <td>         NaN</td>\n",
        "      <td>                       NaN</td>\n",
        "      <td> NaN</td>\n",
        "      <td> NaN</td>\n",
        "      <td>    NaN</td>\n",
        "      <td>NaN</td>\n",
        "      <td>...</td>\n",
        "      <td>NaN</td>\n",
        "      <td>NaN</td>\n",
        "      <td>NaN</td>\n",
        "      <td>NaN</td>\n",
        "      <td>NaN</td>\n",
        "      <td>NaN</td>\n",
        "      <td>NaN</td>\n",
        "      <td>NaN</td>\n",
        "      <td>NaN</td>\n",
        "      <td>NaN</td>\n",
        "    </tr>\n",
        "    <tr>\n",
        "      <th>60751</th>\n",
        "      <td>  #1010</td>\n",
        "      <td>     milda_b@hotmail.com</td>\n",
        "      <td>     NaN</td>\n",
        "      <td>                       NaN</td>\n",
        "      <td>         NaN</td>\n",
        "      <td>                       NaN</td>\n",
        "      <td> NaN</td>\n",
        "      <td> NaN</td>\n",
        "      <td>    NaN</td>\n",
        "      <td>NaN</td>\n",
        "      <td>...</td>\n",
        "      <td>NaN</td>\n",
        "      <td>NaN</td>\n",
        "      <td>NaN</td>\n",
        "      <td>NaN</td>\n",
        "      <td>NaN</td>\n",
        "      <td>NaN</td>\n",
        "      <td>NaN</td>\n",
        "      <td>NaN</td>\n",
        "      <td>NaN</td>\n",
        "      <td>NaN</td>\n",
        "    </tr>\n",
        "    <tr>\n",
        "      <th>60752</th>\n",
        "      <td>  #1010</td>\n",
        "      <td>     milda_b@hotmail.com</td>\n",
        "      <td>     NaN</td>\n",
        "      <td>                       NaN</td>\n",
        "      <td>         NaN</td>\n",
        "      <td>                       NaN</td>\n",
        "      <td> NaN</td>\n",
        "      <td> NaN</td>\n",
        "      <td>    NaN</td>\n",
        "      <td>NaN</td>\n",
        "      <td>...</td>\n",
        "      <td>NaN</td>\n",
        "      <td>NaN</td>\n",
        "      <td>NaN</td>\n",
        "      <td>NaN</td>\n",
        "      <td>NaN</td>\n",
        "      <td>NaN</td>\n",
        "      <td>NaN</td>\n",
        "      <td>NaN</td>\n",
        "      <td>NaN</td>\n",
        "      <td>NaN</td>\n",
        "    </tr>\n",
        "    <tr>\n",
        "      <th>60753</th>\n",
        "      <td>  #1009</td>\n",
        "      <td>     bente.ring@yahoo.no</td>\n",
        "      <td>    paid</td>\n",
        "      <td> 2012-05-10 19:12:35 +0200</td>\n",
        "      <td>   fulfilled</td>\n",
        "      <td> 2012-05-10 19:12:32 +0200</td>\n",
        "      <td> yes</td>\n",
        "      <td> EGP</td>\n",
        "      <td>  45.50</td>\n",
        "      <td>  5</td>\n",
        "      <td>...</td>\n",
        "      <td>NaN</td>\n",
        "      <td>NaN</td>\n",
        "      <td>NaN</td>\n",
        "      <td>NaN</td>\n",
        "      <td>NaN</td>\n",
        "      <td>NaN</td>\n",
        "      <td>NaN</td>\n",
        "      <td>NaN</td>\n",
        "      <td>NaN</td>\n",
        "      <td>NaN</td>\n",
        "    </tr>\n",
        "    <tr>\n",
        "      <th>60754</th>\n",
        "      <td>  #1008</td>\n",
        "      <td>     bente.ring@yahoo.no</td>\n",
        "      <td>    paid</td>\n",
        "      <td> 2012-05-10 19:13:35 +0200</td>\n",
        "      <td>   fulfilled</td>\n",
        "      <td> 2012-05-10 19:13:32 +0200</td>\n",
        "      <td> yes</td>\n",
        "      <td> EGP</td>\n",
        "      <td> 357.53</td>\n",
        "      <td>  5</td>\n",
        "      <td>...</td>\n",
        "      <td>NaN</td>\n",
        "      <td>NaN</td>\n",
        "      <td>NaN</td>\n",
        "      <td>NaN</td>\n",
        "      <td>NaN</td>\n",
        "      <td>NaN</td>\n",
        "      <td>NaN</td>\n",
        "      <td>NaN</td>\n",
        "      <td>NaN</td>\n",
        "      <td>NaN</td>\n",
        "    </tr>\n",
        "    <tr>\n",
        "      <th>60755</th>\n",
        "      <td>  #1008</td>\n",
        "      <td>     bente.ring@yahoo.no</td>\n",
        "      <td>     NaN</td>\n",
        "      <td>                       NaN</td>\n",
        "      <td>         NaN</td>\n",
        "      <td>                       NaN</td>\n",
        "      <td> NaN</td>\n",
        "      <td> NaN</td>\n",
        "      <td>    NaN</td>\n",
        "      <td>NaN</td>\n",
        "      <td>...</td>\n",
        "      <td>NaN</td>\n",
        "      <td>NaN</td>\n",
        "      <td>NaN</td>\n",
        "      <td>NaN</td>\n",
        "      <td>NaN</td>\n",
        "      <td>NaN</td>\n",
        "      <td>NaN</td>\n",
        "      <td>NaN</td>\n",
        "      <td>NaN</td>\n",
        "      <td>NaN</td>\n",
        "    </tr>\n",
        "    <tr>\n",
        "      <th>60756</th>\n",
        "      <td>  #1008</td>\n",
        "      <td>     bente.ring@yahoo.no</td>\n",
        "      <td>     NaN</td>\n",
        "      <td>                       NaN</td>\n",
        "      <td>         NaN</td>\n",
        "      <td>                       NaN</td>\n",
        "      <td> NaN</td>\n",
        "      <td> NaN</td>\n",
        "      <td>    NaN</td>\n",
        "      <td>NaN</td>\n",
        "      <td>...</td>\n",
        "      <td>NaN</td>\n",
        "      <td>NaN</td>\n",
        "      <td>NaN</td>\n",
        "      <td>NaN</td>\n",
        "      <td>NaN</td>\n",
        "      <td>NaN</td>\n",
        "      <td>NaN</td>\n",
        "      <td>NaN</td>\n",
        "      <td>NaN</td>\n",
        "      <td>NaN</td>\n",
        "    </tr>\n",
        "    <tr>\n",
        "      <th>60757</th>\n",
        "      <td>  #1008</td>\n",
        "      <td>     bente.ring@yahoo.no</td>\n",
        "      <td>     NaN</td>\n",
        "      <td>                       NaN</td>\n",
        "      <td>         NaN</td>\n",
        "      <td>                       NaN</td>\n",
        "      <td> NaN</td>\n",
        "      <td> NaN</td>\n",
        "      <td>    NaN</td>\n",
        "      <td>NaN</td>\n",
        "      <td>...</td>\n",
        "      <td>NaN</td>\n",
        "      <td>NaN</td>\n",
        "      <td>NaN</td>\n",
        "      <td>NaN</td>\n",
        "      <td>NaN</td>\n",
        "      <td>NaN</td>\n",
        "      <td>NaN</td>\n",
        "      <td>NaN</td>\n",
        "      <td>NaN</td>\n",
        "      <td>NaN</td>\n",
        "    </tr>\n",
        "    <tr>\n",
        "      <th>60758</th>\n",
        "      <td>  #1008</td>\n",
        "      <td>     bente.ring@yahoo.no</td>\n",
        "      <td>     NaN</td>\n",
        "      <td>                       NaN</td>\n",
        "      <td>         NaN</td>\n",
        "      <td>                       NaN</td>\n",
        "      <td> NaN</td>\n",
        "      <td> NaN</td>\n",
        "      <td>    NaN</td>\n",
        "      <td>NaN</td>\n",
        "      <td>...</td>\n",
        "      <td>NaN</td>\n",
        "      <td>NaN</td>\n",
        "      <td>NaN</td>\n",
        "      <td>NaN</td>\n",
        "      <td>NaN</td>\n",
        "      <td>NaN</td>\n",
        "      <td>NaN</td>\n",
        "      <td>NaN</td>\n",
        "      <td>NaN</td>\n",
        "      <td>NaN</td>\n",
        "    </tr>\n",
        "    <tr>\n",
        "      <th>60759</th>\n",
        "      <td>  #1007</td>\n",
        "      <td>  lik-novikova@yandex.ru</td>\n",
        "      <td>    paid</td>\n",
        "      <td> 2012-05-04 18:36:50 +0200</td>\n",
        "      <td>   fulfilled</td>\n",
        "      <td> 2012-05-04 18:33:47 +0200</td>\n",
        "      <td> yes</td>\n",
        "      <td> EGP</td>\n",
        "      <td> 110.83</td>\n",
        "      <td>  5</td>\n",
        "      <td>...</td>\n",
        "      <td>NaN</td>\n",
        "      <td>NaN</td>\n",
        "      <td>NaN</td>\n",
        "      <td>NaN</td>\n",
        "      <td>NaN</td>\n",
        "      <td>NaN</td>\n",
        "      <td>NaN</td>\n",
        "      <td>NaN</td>\n",
        "      <td>NaN</td>\n",
        "      <td>NaN</td>\n",
        "    </tr>\n",
        "    <tr>\n",
        "      <th>60760</th>\n",
        "      <td>  #1007</td>\n",
        "      <td>  lik-novikova@yandex.ru</td>\n",
        "      <td>     NaN</td>\n",
        "      <td>                       NaN</td>\n",
        "      <td>         NaN</td>\n",
        "      <td>                       NaN</td>\n",
        "      <td> NaN</td>\n",
        "      <td> NaN</td>\n",
        "      <td>    NaN</td>\n",
        "      <td>NaN</td>\n",
        "      <td>...</td>\n",
        "      <td>NaN</td>\n",
        "      <td>NaN</td>\n",
        "      <td>NaN</td>\n",
        "      <td>NaN</td>\n",
        "      <td>NaN</td>\n",
        "      <td>NaN</td>\n",
        "      <td>NaN</td>\n",
        "      <td>NaN</td>\n",
        "      <td>NaN</td>\n",
        "      <td>NaN</td>\n",
        "    </tr>\n",
        "    <tr>\n",
        "      <th>60761</th>\n",
        "      <td>  #1007</td>\n",
        "      <td>  lik-novikova@yandex.ru</td>\n",
        "      <td>     NaN</td>\n",
        "      <td>                       NaN</td>\n",
        "      <td>         NaN</td>\n",
        "      <td>                       NaN</td>\n",
        "      <td> NaN</td>\n",
        "      <td> NaN</td>\n",
        "      <td>    NaN</td>\n",
        "      <td>NaN</td>\n",
        "      <td>...</td>\n",
        "      <td>NaN</td>\n",
        "      <td>NaN</td>\n",
        "      <td>NaN</td>\n",
        "      <td>NaN</td>\n",
        "      <td>NaN</td>\n",
        "      <td>NaN</td>\n",
        "      <td>NaN</td>\n",
        "      <td>NaN</td>\n",
        "      <td>NaN</td>\n",
        "      <td>NaN</td>\n",
        "    </tr>\n",
        "    <tr>\n",
        "      <th>60762</th>\n",
        "      <td>  #1007</td>\n",
        "      <td>  lik-novikova@yandex.ru</td>\n",
        "      <td>     NaN</td>\n",
        "      <td>                       NaN</td>\n",
        "      <td>         NaN</td>\n",
        "      <td>                       NaN</td>\n",
        "      <td> NaN</td>\n",
        "      <td> NaN</td>\n",
        "      <td>    NaN</td>\n",
        "      <td>NaN</td>\n",
        "      <td>...</td>\n",
        "      <td>NaN</td>\n",
        "      <td>NaN</td>\n",
        "      <td>NaN</td>\n",
        "      <td>NaN</td>\n",
        "      <td>NaN</td>\n",
        "      <td>NaN</td>\n",
        "      <td>NaN</td>\n",
        "      <td>NaN</td>\n",
        "      <td>NaN</td>\n",
        "      <td>NaN</td>\n",
        "    </tr>\n",
        "    <tr>\n",
        "      <th>60763</th>\n",
        "      <td>  #1006</td>\n",
        "      <td>     bente.ring@yahoo.no</td>\n",
        "      <td>    paid</td>\n",
        "      <td> 2012-05-04 18:37:13 +0200</td>\n",
        "      <td>   fulfilled</td>\n",
        "      <td> 2012-05-03 10:57:23 +0200</td>\n",
        "      <td> yes</td>\n",
        "      <td> EGP</td>\n",
        "      <td> 201.51</td>\n",
        "      <td>  5</td>\n",
        "      <td>...</td>\n",
        "      <td>NaN</td>\n",
        "      <td>NaN</td>\n",
        "      <td>NaN</td>\n",
        "      <td>NaN</td>\n",
        "      <td>NaN</td>\n",
        "      <td>NaN</td>\n",
        "      <td>NaN</td>\n",
        "      <td>NaN</td>\n",
        "      <td>NaN</td>\n",
        "      <td>NaN</td>\n",
        "    </tr>\n",
        "    <tr>\n",
        "      <th>60764</th>\n",
        "      <td>  #1006</td>\n",
        "      <td>     bente.ring@yahoo.no</td>\n",
        "      <td>     NaN</td>\n",
        "      <td>                       NaN</td>\n",
        "      <td>         NaN</td>\n",
        "      <td>                       NaN</td>\n",
        "      <td> NaN</td>\n",
        "      <td> NaN</td>\n",
        "      <td>    NaN</td>\n",
        "      <td>NaN</td>\n",
        "      <td>...</td>\n",
        "      <td>NaN</td>\n",
        "      <td>NaN</td>\n",
        "      <td>NaN</td>\n",
        "      <td>NaN</td>\n",
        "      <td>NaN</td>\n",
        "      <td>NaN</td>\n",
        "      <td>NaN</td>\n",
        "      <td>NaN</td>\n",
        "      <td>NaN</td>\n",
        "      <td>NaN</td>\n",
        "    </tr>\n",
        "    <tr>\n",
        "      <th>60765</th>\n",
        "      <td>  #1006</td>\n",
        "      <td>     bente.ring@yahoo.no</td>\n",
        "      <td>     NaN</td>\n",
        "      <td>                       NaN</td>\n",
        "      <td>         NaN</td>\n",
        "      <td>                       NaN</td>\n",
        "      <td> NaN</td>\n",
        "      <td> NaN</td>\n",
        "      <td>    NaN</td>\n",
        "      <td>NaN</td>\n",
        "      <td>...</td>\n",
        "      <td>NaN</td>\n",
        "      <td>NaN</td>\n",
        "      <td>NaN</td>\n",
        "      <td>NaN</td>\n",
        "      <td>NaN</td>\n",
        "      <td>NaN</td>\n",
        "      <td>NaN</td>\n",
        "      <td>NaN</td>\n",
        "      <td>NaN</td>\n",
        "      <td>NaN</td>\n",
        "    </tr>\n",
        "    <tr>\n",
        "      <th>60766</th>\n",
        "      <td>  #1006</td>\n",
        "      <td>     bente.ring@yahoo.no</td>\n",
        "      <td>     NaN</td>\n",
        "      <td>                       NaN</td>\n",
        "      <td>         NaN</td>\n",
        "      <td>                       NaN</td>\n",
        "      <td> NaN</td>\n",
        "      <td> NaN</td>\n",
        "      <td>    NaN</td>\n",
        "      <td>NaN</td>\n",
        "      <td>...</td>\n",
        "      <td>NaN</td>\n",
        "      <td>NaN</td>\n",
        "      <td>NaN</td>\n",
        "      <td>NaN</td>\n",
        "      <td>NaN</td>\n",
        "      <td>NaN</td>\n",
        "      <td>NaN</td>\n",
        "      <td>NaN</td>\n",
        "      <td>NaN</td>\n",
        "      <td>NaN</td>\n",
        "    </tr>\n",
        "    <tr>\n",
        "      <th>60767</th>\n",
        "      <td>  #1006</td>\n",
        "      <td>     bente.ring@yahoo.no</td>\n",
        "      <td>     NaN</td>\n",
        "      <td>                       NaN</td>\n",
        "      <td>         NaN</td>\n",
        "      <td>                       NaN</td>\n",
        "      <td> NaN</td>\n",
        "      <td> NaN</td>\n",
        "      <td>    NaN</td>\n",
        "      <td>NaN</td>\n",
        "      <td>...</td>\n",
        "      <td>NaN</td>\n",
        "      <td>NaN</td>\n",
        "      <td>NaN</td>\n",
        "      <td>NaN</td>\n",
        "      <td>NaN</td>\n",
        "      <td>NaN</td>\n",
        "      <td>NaN</td>\n",
        "      <td>NaN</td>\n",
        "      <td>NaN</td>\n",
        "      <td>NaN</td>\n",
        "    </tr>\n",
        "    <tr>\n",
        "      <th>60768</th>\n",
        "      <td>  #1005</td>\n",
        "      <td>    cathypod@hotmail.com</td>\n",
        "      <td>    paid</td>\n",
        "      <td> 2012-05-04 18:37:35 +0200</td>\n",
        "      <td>   fulfilled</td>\n",
        "      <td> 2012-05-03 11:03:44 +0200</td>\n",
        "      <td> yes</td>\n",
        "      <td> EGP</td>\n",
        "      <td>  54.60</td>\n",
        "      <td>  5</td>\n",
        "      <td>...</td>\n",
        "      <td>NaN</td>\n",
        "      <td>NaN</td>\n",
        "      <td>NaN</td>\n",
        "      <td>NaN</td>\n",
        "      <td>NaN</td>\n",
        "      <td>NaN</td>\n",
        "      <td>NaN</td>\n",
        "      <td>NaN</td>\n",
        "      <td>NaN</td>\n",
        "      <td>NaN</td>\n",
        "    </tr>\n",
        "    <tr>\n",
        "      <th>60769</th>\n",
        "      <td>  #1005</td>\n",
        "      <td>    cathypod@hotmail.com</td>\n",
        "      <td>     NaN</td>\n",
        "      <td>                       NaN</td>\n",
        "      <td>         NaN</td>\n",
        "      <td>                       NaN</td>\n",
        "      <td> NaN</td>\n",
        "      <td> NaN</td>\n",
        "      <td>    NaN</td>\n",
        "      <td>NaN</td>\n",
        "      <td>...</td>\n",
        "      <td>NaN</td>\n",
        "      <td>NaN</td>\n",
        "      <td>NaN</td>\n",
        "      <td>NaN</td>\n",
        "      <td>NaN</td>\n",
        "      <td>NaN</td>\n",
        "      <td>NaN</td>\n",
        "      <td>NaN</td>\n",
        "      <td>NaN</td>\n",
        "      <td>NaN</td>\n",
        "    </tr>\n",
        "    <tr>\n",
        "      <th>60770</th>\n",
        "      <td>  #1005</td>\n",
        "      <td>    cathypod@hotmail.com</td>\n",
        "      <td>     NaN</td>\n",
        "      <td>                       NaN</td>\n",
        "      <td>         NaN</td>\n",
        "      <td>                       NaN</td>\n",
        "      <td> NaN</td>\n",
        "      <td> NaN</td>\n",
        "      <td>    NaN</td>\n",
        "      <td>NaN</td>\n",
        "      <td>...</td>\n",
        "      <td>NaN</td>\n",
        "      <td>NaN</td>\n",
        "      <td>NaN</td>\n",
        "      <td>NaN</td>\n",
        "      <td>NaN</td>\n",
        "      <td>NaN</td>\n",
        "      <td>NaN</td>\n",
        "      <td>NaN</td>\n",
        "      <td>NaN</td>\n",
        "      <td>NaN</td>\n",
        "    </tr>\n",
        "    <tr>\n",
        "      <th>60771</th>\n",
        "      <td>  #1005</td>\n",
        "      <td>    cathypod@hotmail.com</td>\n",
        "      <td>     NaN</td>\n",
        "      <td>                       NaN</td>\n",
        "      <td>         NaN</td>\n",
        "      <td>                       NaN</td>\n",
        "      <td> NaN</td>\n",
        "      <td> NaN</td>\n",
        "      <td>    NaN</td>\n",
        "      <td>NaN</td>\n",
        "      <td>...</td>\n",
        "      <td>NaN</td>\n",
        "      <td>NaN</td>\n",
        "      <td>NaN</td>\n",
        "      <td>NaN</td>\n",
        "      <td>NaN</td>\n",
        "      <td>NaN</td>\n",
        "      <td>NaN</td>\n",
        "      <td>NaN</td>\n",
        "      <td>NaN</td>\n",
        "      <td>NaN</td>\n",
        "    </tr>\n",
        "  </tbody>\n",
        "</table>\n",
        "<p>60772 rows \u00d7 66 columns</p>\n",
        "</div>"
       ],
       "metadata": {},
       "output_type": "pyout",
       "prompt_number": 1,
       "text": [
        "         Name                    Email Financial Status  \\\n",
        "0      #10367   rehabmansour@gmail.com          pending   \n",
        "1      #10367   rehabmansour@gmail.com              NaN   \n",
        "2      #10367   rehabmansour@gmail.com              NaN   \n",
        "3      #10366      nabouheif@yahoo.com          pending   \n",
        "4      #10366      nabouheif@yahoo.com              NaN   \n",
        "5      #10366      nabouheif@yahoo.com              NaN   \n",
        "6      #10365   fracicardi@hotmail.com          pending   \n",
        "7      #10365   fracicardi@hotmail.com              NaN   \n",
        "8      #10365   fracicardi@hotmail.com              NaN   \n",
        "9      #10365   fracicardi@hotmail.com              NaN   \n",
        "10     #10365   fracicardi@hotmail.com              NaN   \n",
        "11     #10365   fracicardi@hotmail.com              NaN   \n",
        "12     #10364   ahmed.fakhry@gmail.com          pending   \n",
        "13     #10364   ahmed.fakhry@gmail.com              NaN   \n",
        "14     #10364   ahmed.fakhry@gmail.com              NaN   \n",
        "15     #10364   ahmed.fakhry@gmail.com              NaN   \n",
        "16     #10364   ahmed.fakhry@gmail.com              NaN   \n",
        "17     #10364   ahmed.fakhry@gmail.com              NaN   \n",
        "18     #10364   ahmed.fakhry@gmail.com              NaN   \n",
        "19     #10364   ahmed.fakhry@gmail.com              NaN   \n",
        "20     #10364   ahmed.fakhry@gmail.com              NaN   \n",
        "21     #10363   ahmed.fakhry@gmail.com          pending   \n",
        "22     #10362     Missilou11@yahoo.com          pending   \n",
        "23     #10361  sallysalem123@gmail.com          pending   \n",
        "24     #10361  sallysalem123@gmail.com              NaN   \n",
        "25     #10361  sallysalem123@gmail.com              NaN   \n",
        "26     #10361  sallysalem123@gmail.com              NaN   \n",
        "27     #10361  sallysalem123@gmail.com              NaN   \n",
        "28     #10361  sallysalem123@gmail.com              NaN   \n",
        "29     #10361  sallysalem123@gmail.com              NaN   \n",
        "...       ...                      ...              ...   \n",
        "60742   #1013   lik-novikova@yandex.ru              NaN   \n",
        "60743   #1012      bettyhedrich@gmx.de             paid   \n",
        "60744   #1012      bettyhedrich@gmx.de              NaN   \n",
        "60745   #1011            rulah@msn.com             paid   \n",
        "60746   #1010      milda_b@hotmail.com             paid   \n",
        "60747   #1010      milda_b@hotmail.com              NaN   \n",
        "60748   #1010      milda_b@hotmail.com              NaN   \n",
        "60749   #1010      milda_b@hotmail.com              NaN   \n",
        "60750   #1010      milda_b@hotmail.com              NaN   \n",
        "60751   #1010      milda_b@hotmail.com              NaN   \n",
        "60752   #1010      milda_b@hotmail.com              NaN   \n",
        "60753   #1009      bente.ring@yahoo.no             paid   \n",
        "60754   #1008      bente.ring@yahoo.no             paid   \n",
        "60755   #1008      bente.ring@yahoo.no              NaN   \n",
        "60756   #1008      bente.ring@yahoo.no              NaN   \n",
        "60757   #1008      bente.ring@yahoo.no              NaN   \n",
        "60758   #1008      bente.ring@yahoo.no              NaN   \n",
        "60759   #1007   lik-novikova@yandex.ru             paid   \n",
        "60760   #1007   lik-novikova@yandex.ru              NaN   \n",
        "60761   #1007   lik-novikova@yandex.ru              NaN   \n",
        "60762   #1007   lik-novikova@yandex.ru              NaN   \n",
        "60763   #1006      bente.ring@yahoo.no             paid   \n",
        "60764   #1006      bente.ring@yahoo.no              NaN   \n",
        "60765   #1006      bente.ring@yahoo.no              NaN   \n",
        "60766   #1006      bente.ring@yahoo.no              NaN   \n",
        "60767   #1006      bente.ring@yahoo.no              NaN   \n",
        "60768   #1005     cathypod@hotmail.com             paid   \n",
        "60769   #1005     cathypod@hotmail.com              NaN   \n",
        "60770   #1005     cathypod@hotmail.com              NaN   \n",
        "60771   #1005     cathypod@hotmail.com              NaN   \n",
        "\n",
        "                         Paid at Fulfillment Status  \\\n",
        "0                            NaN        unfulfilled   \n",
        "1                            NaN                NaN   \n",
        "2                            NaN                NaN   \n",
        "3                            NaN        unfulfilled   \n",
        "4                            NaN                NaN   \n",
        "5                            NaN                NaN   \n",
        "6                            NaN        unfulfilled   \n",
        "7                            NaN                NaN   \n",
        "8                            NaN                NaN   \n",
        "9                            NaN                NaN   \n",
        "10                           NaN                NaN   \n",
        "11                           NaN                NaN   \n",
        "12                           NaN        unfulfilled   \n",
        "13                           NaN                NaN   \n",
        "14                           NaN                NaN   \n",
        "15                           NaN                NaN   \n",
        "16                           NaN                NaN   \n",
        "17                           NaN                NaN   \n",
        "18                           NaN                NaN   \n",
        "19                           NaN                NaN   \n",
        "20                           NaN                NaN   \n",
        "21                           NaN        unfulfilled   \n",
        "22                           NaN        unfulfilled   \n",
        "23                           NaN        unfulfilled   \n",
        "24                           NaN                NaN   \n",
        "25                           NaN                NaN   \n",
        "26                           NaN                NaN   \n",
        "27                           NaN                NaN   \n",
        "28                           NaN                NaN   \n",
        "29                           NaN                NaN   \n",
        "...                          ...                ...   \n",
        "60742                        NaN                NaN   \n",
        "60743  2012-05-27 13:15:42 +0200          fulfilled   \n",
        "60744                        NaN                NaN   \n",
        "60745  2012-05-21 18:33:13 +0200          fulfilled   \n",
        "60746  2012-05-09 11:09:12 +0200          fulfilled   \n",
        "60747                        NaN                NaN   \n",
        "60748                        NaN                NaN   \n",
        "60749                        NaN                NaN   \n",
        "60750                        NaN                NaN   \n",
        "60751                        NaN                NaN   \n",
        "60752                        NaN                NaN   \n",
        "60753  2012-05-10 19:12:35 +0200          fulfilled   \n",
        "60754  2012-05-10 19:13:35 +0200          fulfilled   \n",
        "60755                        NaN                NaN   \n",
        "60756                        NaN                NaN   \n",
        "60757                        NaN                NaN   \n",
        "60758                        NaN                NaN   \n",
        "60759  2012-05-04 18:36:50 +0200          fulfilled   \n",
        "60760                        NaN                NaN   \n",
        "60761                        NaN                NaN   \n",
        "60762                        NaN                NaN   \n",
        "60763  2012-05-04 18:37:13 +0200          fulfilled   \n",
        "60764                        NaN                NaN   \n",
        "60765                        NaN                NaN   \n",
        "60766                        NaN                NaN   \n",
        "60767                        NaN                NaN   \n",
        "60768  2012-05-04 18:37:35 +0200          fulfilled   \n",
        "60769                        NaN                NaN   \n",
        "60770                        NaN                NaN   \n",
        "60771                        NaN                NaN   \n",
        "\n",
        "                    Fulfilled at Accepts Marketing Currency  Subtotal  \\\n",
        "0                            NaN                no      EGP    375.30   \n",
        "1                            NaN               NaN      NaN       NaN   \n",
        "2                            NaN               NaN      NaN       NaN   \n",
        "3                            NaN                no      EGP    162.90   \n",
        "4                            NaN               NaN      NaN       NaN   \n",
        "5                            NaN               NaN      NaN       NaN   \n",
        "6                            NaN                no      EGP    129.00   \n",
        "7                            NaN               NaN      NaN       NaN   \n",
        "8                            NaN               NaN      NaN       NaN   \n",
        "9                            NaN               NaN      NaN       NaN   \n",
        "10                           NaN               NaN      NaN       NaN   \n",
        "11                           NaN               NaN      NaN       NaN   \n",
        "12                           NaN                no      EGP    660.10   \n",
        "13                           NaN               NaN      NaN       NaN   \n",
        "14                           NaN               NaN      NaN       NaN   \n",
        "15                           NaN               NaN      NaN       NaN   \n",
        "16                           NaN               NaN      NaN       NaN   \n",
        "17                           NaN               NaN      NaN       NaN   \n",
        "18                           NaN               NaN      NaN       NaN   \n",
        "19                           NaN               NaN      NaN       NaN   \n",
        "20                           NaN               NaN      NaN       NaN   \n",
        "21                           NaN                no      EGP    592.00   \n",
        "22                           NaN                no      EGP     70.20   \n",
        "23                           NaN                no      EGP    432.00   \n",
        "24                           NaN               NaN      NaN       NaN   \n",
        "25                           NaN               NaN      NaN       NaN   \n",
        "26                           NaN               NaN      NaN       NaN   \n",
        "27                           NaN               NaN      NaN       NaN   \n",
        "28                           NaN               NaN      NaN       NaN   \n",
        "29                           NaN               NaN      NaN       NaN   \n",
        "...                          ...               ...      ...       ...   \n",
        "60742                        NaN               NaN      NaN       NaN   \n",
        "60743  2012-05-27 13:15:14 +0200                no      EGP     41.93   \n",
        "60744                        NaN               NaN      NaN       NaN   \n",
        "60745  2012-05-21 18:33:43 +0200               yes      EGP    222.30   \n",
        "60746  2012-05-09 11:09:06 +0200               yes      EGP    155.55   \n",
        "60747                        NaN               NaN      NaN       NaN   \n",
        "60748                        NaN               NaN      NaN       NaN   \n",
        "60749                        NaN               NaN      NaN       NaN   \n",
        "60750                        NaN               NaN      NaN       NaN   \n",
        "60751                        NaN               NaN      NaN       NaN   \n",
        "60752                        NaN               NaN      NaN       NaN   \n",
        "60753  2012-05-10 19:12:32 +0200               yes      EGP     45.50   \n",
        "60754  2012-05-10 19:13:32 +0200               yes      EGP    357.53   \n",
        "60755                        NaN               NaN      NaN       NaN   \n",
        "60756                        NaN               NaN      NaN       NaN   \n",
        "60757                        NaN               NaN      NaN       NaN   \n",
        "60758                        NaN               NaN      NaN       NaN   \n",
        "60759  2012-05-04 18:33:47 +0200               yes      EGP    110.83   \n",
        "60760                        NaN               NaN      NaN       NaN   \n",
        "60761                        NaN               NaN      NaN       NaN   \n",
        "60762                        NaN               NaN      NaN       NaN   \n",
        "60763  2012-05-03 10:57:23 +0200               yes      EGP    201.51   \n",
        "60764                        NaN               NaN      NaN       NaN   \n",
        "60765                        NaN               NaN      NaN       NaN   \n",
        "60766                        NaN               NaN      NaN       NaN   \n",
        "60767                        NaN               NaN      NaN       NaN   \n",
        "60768  2012-05-03 11:03:44 +0200               yes      EGP     54.60   \n",
        "60769                        NaN               NaN      NaN       NaN   \n",
        "60770                        NaN               NaN      NaN       NaN   \n",
        "60771                        NaN               NaN      NaN       NaN   \n",
        "\n",
        "       Shipping     ...       Tax 1 Name  Tax 1 Value Tax 2 Name  Tax 2 Value  \\\n",
        "0            10     ...              NaN          NaN        NaN          NaN   \n",
        "1           NaN     ...              NaN          NaN        NaN          NaN   \n",
        "2           NaN     ...              NaN          NaN        NaN          NaN   \n",
        "3            10     ...              NaN          NaN        NaN          NaN   \n",
        "4           NaN     ...              NaN          NaN        NaN          NaN   \n",
        "5           NaN     ...              NaN          NaN        NaN          NaN   \n",
        "6            15     ...              NaN          NaN        NaN          NaN   \n",
        "7           NaN     ...              NaN          NaN        NaN          NaN   \n",
        "8           NaN     ...              NaN          NaN        NaN          NaN   \n",
        "9           NaN     ...              NaN          NaN        NaN          NaN   \n",
        "10          NaN     ...              NaN          NaN        NaN          NaN   \n",
        "11          NaN     ...              NaN          NaN        NaN          NaN   \n",
        "12           10     ...              NaN          NaN        NaN          NaN   \n",
        "13          NaN     ...              NaN          NaN        NaN          NaN   \n",
        "14          NaN     ...              NaN          NaN        NaN          NaN   \n",
        "15          NaN     ...              NaN          NaN        NaN          NaN   \n",
        "16          NaN     ...              NaN          NaN        NaN          NaN   \n",
        "17          NaN     ...              NaN          NaN        NaN          NaN   \n",
        "18          NaN     ...              NaN          NaN        NaN          NaN   \n",
        "19          NaN     ...              NaN          NaN        NaN          NaN   \n",
        "20          NaN     ...              NaN          NaN        NaN          NaN   \n",
        "21           10     ...              NaN          NaN        NaN          NaN   \n",
        "22           15     ...              NaN          NaN        NaN          NaN   \n",
        "23           10     ...              NaN          NaN        NaN          NaN   \n",
        "24          NaN     ...              NaN          NaN        NaN          NaN   \n",
        "25          NaN     ...              NaN          NaN        NaN          NaN   \n",
        "26          NaN     ...              NaN          NaN        NaN          NaN   \n",
        "27          NaN     ...              NaN          NaN        NaN          NaN   \n",
        "28          NaN     ...              NaN          NaN        NaN          NaN   \n",
        "29          NaN     ...              NaN          NaN        NaN          NaN   \n",
        "...         ...     ...              ...          ...        ...          ...   \n",
        "60742       NaN     ...              NaN          NaN        NaN          NaN   \n",
        "60743         5     ...              NaN          NaN        NaN          NaN   \n",
        "60744       NaN     ...              NaN          NaN        NaN          NaN   \n",
        "60745         5     ...              NaN          NaN        NaN          NaN   \n",
        "60746         5     ...              NaN          NaN        NaN          NaN   \n",
        "60747       NaN     ...              NaN          NaN        NaN          NaN   \n",
        "60748       NaN     ...              NaN          NaN        NaN          NaN   \n",
        "60749       NaN     ...              NaN          NaN        NaN          NaN   \n",
        "60750       NaN     ...              NaN          NaN        NaN          NaN   \n",
        "60751       NaN     ...              NaN          NaN        NaN          NaN   \n",
        "60752       NaN     ...              NaN          NaN        NaN          NaN   \n",
        "60753         5     ...              NaN          NaN        NaN          NaN   \n",
        "60754         5     ...              NaN          NaN        NaN          NaN   \n",
        "60755       NaN     ...              NaN          NaN        NaN          NaN   \n",
        "60756       NaN     ...              NaN          NaN        NaN          NaN   \n",
        "60757       NaN     ...              NaN          NaN        NaN          NaN   \n",
        "60758       NaN     ...              NaN          NaN        NaN          NaN   \n",
        "60759         5     ...              NaN          NaN        NaN          NaN   \n",
        "60760       NaN     ...              NaN          NaN        NaN          NaN   \n",
        "60761       NaN     ...              NaN          NaN        NaN          NaN   \n",
        "60762       NaN     ...              NaN          NaN        NaN          NaN   \n",
        "60763         5     ...              NaN          NaN        NaN          NaN   \n",
        "60764       NaN     ...              NaN          NaN        NaN          NaN   \n",
        "60765       NaN     ...              NaN          NaN        NaN          NaN   \n",
        "60766       NaN     ...              NaN          NaN        NaN          NaN   \n",
        "60767       NaN     ...              NaN          NaN        NaN          NaN   \n",
        "60768         5     ...              NaN          NaN        NaN          NaN   \n",
        "60769       NaN     ...              NaN          NaN        NaN          NaN   \n",
        "60770       NaN     ...              NaN          NaN        NaN          NaN   \n",
        "60771       NaN     ...              NaN          NaN        NaN          NaN   \n",
        "\n",
        "      Tax 3 Name Tax 3 Value  Tax 4 Name Tax 4 Value  Tax 5 Name  Tax 5 Value  \n",
        "0            NaN         NaN         NaN         NaN         NaN          NaN  \n",
        "1            NaN         NaN         NaN         NaN         NaN          NaN  \n",
        "2            NaN         NaN         NaN         NaN         NaN          NaN  \n",
        "3            NaN         NaN         NaN         NaN         NaN          NaN  \n",
        "4            NaN         NaN         NaN         NaN         NaN          NaN  \n",
        "5            NaN         NaN         NaN         NaN         NaN          NaN  \n",
        "6            NaN         NaN         NaN         NaN         NaN          NaN  \n",
        "7            NaN         NaN         NaN         NaN         NaN          NaN  \n",
        "8            NaN         NaN         NaN         NaN         NaN          NaN  \n",
        "9            NaN         NaN         NaN         NaN         NaN          NaN  \n",
        "10           NaN         NaN         NaN         NaN         NaN          NaN  \n",
        "11           NaN         NaN         NaN         NaN         NaN          NaN  \n",
        "12           NaN         NaN         NaN         NaN         NaN          NaN  \n",
        "13           NaN         NaN         NaN         NaN         NaN          NaN  \n",
        "14           NaN         NaN         NaN         NaN         NaN          NaN  \n",
        "15           NaN         NaN         NaN         NaN         NaN          NaN  \n",
        "16           NaN         NaN         NaN         NaN         NaN          NaN  \n",
        "17           NaN         NaN         NaN         NaN         NaN          NaN  \n",
        "18           NaN         NaN         NaN         NaN         NaN          NaN  \n",
        "19           NaN         NaN         NaN         NaN         NaN          NaN  \n",
        "20           NaN         NaN         NaN         NaN         NaN          NaN  \n",
        "21           NaN         NaN         NaN         NaN         NaN          NaN  \n",
        "22           NaN         NaN         NaN         NaN         NaN          NaN  \n",
        "23           NaN         NaN         NaN         NaN         NaN          NaN  \n",
        "24           NaN         NaN         NaN         NaN         NaN          NaN  \n",
        "25           NaN         NaN         NaN         NaN         NaN          NaN  \n",
        "26           NaN         NaN         NaN         NaN         NaN          NaN  \n",
        "27           NaN         NaN         NaN         NaN         NaN          NaN  \n",
        "28           NaN         NaN         NaN         NaN         NaN          NaN  \n",
        "29           NaN         NaN         NaN         NaN         NaN          NaN  \n",
        "...          ...         ...         ...         ...         ...          ...  \n",
        "60742        NaN         NaN         NaN         NaN         NaN          NaN  \n",
        "60743        NaN         NaN         NaN         NaN         NaN          NaN  \n",
        "60744        NaN         NaN         NaN         NaN         NaN          NaN  \n",
        "60745        NaN         NaN         NaN         NaN         NaN          NaN  \n",
        "60746        NaN         NaN         NaN         NaN         NaN          NaN  \n",
        "60747        NaN         NaN         NaN         NaN         NaN          NaN  \n",
        "60748        NaN         NaN         NaN         NaN         NaN          NaN  \n",
        "60749        NaN         NaN         NaN         NaN         NaN          NaN  \n",
        "60750        NaN         NaN         NaN         NaN         NaN          NaN  \n",
        "60751        NaN         NaN         NaN         NaN         NaN          NaN  \n",
        "60752        NaN         NaN         NaN         NaN         NaN          NaN  \n",
        "60753        NaN         NaN         NaN         NaN         NaN          NaN  \n",
        "60754        NaN         NaN         NaN         NaN         NaN          NaN  \n",
        "60755        NaN         NaN         NaN         NaN         NaN          NaN  \n",
        "60756        NaN         NaN         NaN         NaN         NaN          NaN  \n",
        "60757        NaN         NaN         NaN         NaN         NaN          NaN  \n",
        "60758        NaN         NaN         NaN         NaN         NaN          NaN  \n",
        "60759        NaN         NaN         NaN         NaN         NaN          NaN  \n",
        "60760        NaN         NaN         NaN         NaN         NaN          NaN  \n",
        "60761        NaN         NaN         NaN         NaN         NaN          NaN  \n",
        "60762        NaN         NaN         NaN         NaN         NaN          NaN  \n",
        "60763        NaN         NaN         NaN         NaN         NaN          NaN  \n",
        "60764        NaN         NaN         NaN         NaN         NaN          NaN  \n",
        "60765        NaN         NaN         NaN         NaN         NaN          NaN  \n",
        "60766        NaN         NaN         NaN         NaN         NaN          NaN  \n",
        "60767        NaN         NaN         NaN         NaN         NaN          NaN  \n",
        "60768        NaN         NaN         NaN         NaN         NaN          NaN  \n",
        "60769        NaN         NaN         NaN         NaN         NaN          NaN  \n",
        "60770        NaN         NaN         NaN         NaN         NaN          NaN  \n",
        "60771        NaN         NaN         NaN         NaN         NaN          NaN  \n",
        "\n",
        "[60772 rows x 66 columns]"
       ]
      }
     ],
     "prompt_number": 1
    },
    {
     "cell_type": "code",
     "collapsed": false,
     "input": [
      "df = df[['Name', 'Fulfillment Status', 'Created at']]\n",
      "\n",
      "#get date\n",
      "def getDate(data):\n",
      "    matchobj = re.match(r'(.*) (.*) (.*).*',data)\n",
      "    return matchobj.group(1)\n",
      "df['Created at'] = df.apply(lambda x: getDate(x['Created at']), axis=1)\n",
      "df"
     ],
     "language": "python",
     "metadata": {},
     "outputs": [
      {
       "output_type": "stream",
       "stream": "stderr",
       "text": [
        "-c:7: SettingWithCopyWarning: \n",
        "A value is trying to be set on a copy of a slice from a DataFrame.\n",
        "Try using .loc[row_indexer,col_indexer] = value instead\n",
        "\n",
        "See the the caveats in the documentation: http://pandas.pydata.org/pandas-docs/stable/indexing.html#indexing-view-versus-copy\n"
       ]
      },
      {
       "html": [
        "<div style=\"max-height:1000px;max-width:1500px;overflow:auto;\">\n",
        "<table border=\"1\" class=\"dataframe\">\n",
        "  <thead>\n",
        "    <tr style=\"text-align: right;\">\n",
        "      <th></th>\n",
        "      <th>Name</th>\n",
        "      <th>Fulfillment Status</th>\n",
        "      <th>Created at</th>\n",
        "    </tr>\n",
        "  </thead>\n",
        "  <tbody>\n",
        "    <tr>\n",
        "      <th>0    </th>\n",
        "      <td> #10367</td>\n",
        "      <td> unfulfilled</td>\n",
        "      <td> 2015-12-23</td>\n",
        "    </tr>\n",
        "    <tr>\n",
        "      <th>1    </th>\n",
        "      <td> #10367</td>\n",
        "      <td>         NaN</td>\n",
        "      <td> 2015-12-23</td>\n",
        "    </tr>\n",
        "    <tr>\n",
        "      <th>2    </th>\n",
        "      <td> #10367</td>\n",
        "      <td>         NaN</td>\n",
        "      <td> 2015-12-23</td>\n",
        "    </tr>\n",
        "    <tr>\n",
        "      <th>3    </th>\n",
        "      <td> #10366</td>\n",
        "      <td> unfulfilled</td>\n",
        "      <td> 2015-12-23</td>\n",
        "    </tr>\n",
        "    <tr>\n",
        "      <th>4    </th>\n",
        "      <td> #10366</td>\n",
        "      <td>         NaN</td>\n",
        "      <td> 2015-12-23</td>\n",
        "    </tr>\n",
        "    <tr>\n",
        "      <th>5    </th>\n",
        "      <td> #10366</td>\n",
        "      <td>         NaN</td>\n",
        "      <td> 2015-12-23</td>\n",
        "    </tr>\n",
        "    <tr>\n",
        "      <th>6    </th>\n",
        "      <td> #10365</td>\n",
        "      <td> unfulfilled</td>\n",
        "      <td> 2015-12-23</td>\n",
        "    </tr>\n",
        "    <tr>\n",
        "      <th>7    </th>\n",
        "      <td> #10365</td>\n",
        "      <td>         NaN</td>\n",
        "      <td> 2015-12-23</td>\n",
        "    </tr>\n",
        "    <tr>\n",
        "      <th>8    </th>\n",
        "      <td> #10365</td>\n",
        "      <td>         NaN</td>\n",
        "      <td> 2015-12-23</td>\n",
        "    </tr>\n",
        "    <tr>\n",
        "      <th>9    </th>\n",
        "      <td> #10365</td>\n",
        "      <td>         NaN</td>\n",
        "      <td> 2015-12-23</td>\n",
        "    </tr>\n",
        "    <tr>\n",
        "      <th>10   </th>\n",
        "      <td> #10365</td>\n",
        "      <td>         NaN</td>\n",
        "      <td> 2015-12-23</td>\n",
        "    </tr>\n",
        "    <tr>\n",
        "      <th>11   </th>\n",
        "      <td> #10365</td>\n",
        "      <td>         NaN</td>\n",
        "      <td> 2015-12-23</td>\n",
        "    </tr>\n",
        "    <tr>\n",
        "      <th>12   </th>\n",
        "      <td> #10364</td>\n",
        "      <td> unfulfilled</td>\n",
        "      <td> 2015-12-23</td>\n",
        "    </tr>\n",
        "    <tr>\n",
        "      <th>13   </th>\n",
        "      <td> #10364</td>\n",
        "      <td>         NaN</td>\n",
        "      <td> 2015-12-23</td>\n",
        "    </tr>\n",
        "    <tr>\n",
        "      <th>14   </th>\n",
        "      <td> #10364</td>\n",
        "      <td>         NaN</td>\n",
        "      <td> 2015-12-23</td>\n",
        "    </tr>\n",
        "    <tr>\n",
        "      <th>15   </th>\n",
        "      <td> #10364</td>\n",
        "      <td>         NaN</td>\n",
        "      <td> 2015-12-23</td>\n",
        "    </tr>\n",
        "    <tr>\n",
        "      <th>16   </th>\n",
        "      <td> #10364</td>\n",
        "      <td>         NaN</td>\n",
        "      <td> 2015-12-23</td>\n",
        "    </tr>\n",
        "    <tr>\n",
        "      <th>17   </th>\n",
        "      <td> #10364</td>\n",
        "      <td>         NaN</td>\n",
        "      <td> 2015-12-23</td>\n",
        "    </tr>\n",
        "    <tr>\n",
        "      <th>18   </th>\n",
        "      <td> #10364</td>\n",
        "      <td>         NaN</td>\n",
        "      <td> 2015-12-23</td>\n",
        "    </tr>\n",
        "    <tr>\n",
        "      <th>19   </th>\n",
        "      <td> #10364</td>\n",
        "      <td>         NaN</td>\n",
        "      <td> 2015-12-23</td>\n",
        "    </tr>\n",
        "    <tr>\n",
        "      <th>20   </th>\n",
        "      <td> #10364</td>\n",
        "      <td>         NaN</td>\n",
        "      <td> 2015-12-23</td>\n",
        "    </tr>\n",
        "    <tr>\n",
        "      <th>21   </th>\n",
        "      <td> #10363</td>\n",
        "      <td> unfulfilled</td>\n",
        "      <td> 2015-12-23</td>\n",
        "    </tr>\n",
        "    <tr>\n",
        "      <th>22   </th>\n",
        "      <td> #10362</td>\n",
        "      <td> unfulfilled</td>\n",
        "      <td> 2015-12-23</td>\n",
        "    </tr>\n",
        "    <tr>\n",
        "      <th>23   </th>\n",
        "      <td> #10361</td>\n",
        "      <td> unfulfilled</td>\n",
        "      <td> 2015-12-23</td>\n",
        "    </tr>\n",
        "    <tr>\n",
        "      <th>24   </th>\n",
        "      <td> #10361</td>\n",
        "      <td>         NaN</td>\n",
        "      <td> 2015-12-23</td>\n",
        "    </tr>\n",
        "    <tr>\n",
        "      <th>25   </th>\n",
        "      <td> #10361</td>\n",
        "      <td>         NaN</td>\n",
        "      <td> 2015-12-23</td>\n",
        "    </tr>\n",
        "    <tr>\n",
        "      <th>26   </th>\n",
        "      <td> #10361</td>\n",
        "      <td>         NaN</td>\n",
        "      <td> 2015-12-23</td>\n",
        "    </tr>\n",
        "    <tr>\n",
        "      <th>27   </th>\n",
        "      <td> #10361</td>\n",
        "      <td>         NaN</td>\n",
        "      <td> 2015-12-23</td>\n",
        "    </tr>\n",
        "    <tr>\n",
        "      <th>28   </th>\n",
        "      <td> #10361</td>\n",
        "      <td>         NaN</td>\n",
        "      <td> 2015-12-23</td>\n",
        "    </tr>\n",
        "    <tr>\n",
        "      <th>29   </th>\n",
        "      <td> #10361</td>\n",
        "      <td>         NaN</td>\n",
        "      <td> 2015-12-23</td>\n",
        "    </tr>\n",
        "    <tr>\n",
        "      <th>...</th>\n",
        "      <td>...</td>\n",
        "      <td>...</td>\n",
        "      <td>...</td>\n",
        "    </tr>\n",
        "    <tr>\n",
        "      <th>60742</th>\n",
        "      <td>  #1013</td>\n",
        "      <td>         NaN</td>\n",
        "      <td> 2012-05-21</td>\n",
        "    </tr>\n",
        "    <tr>\n",
        "      <th>60743</th>\n",
        "      <td>  #1012</td>\n",
        "      <td>   fulfilled</td>\n",
        "      <td> 2012-05-18</td>\n",
        "    </tr>\n",
        "    <tr>\n",
        "      <th>60744</th>\n",
        "      <td>  #1012</td>\n",
        "      <td>         NaN</td>\n",
        "      <td> 2012-05-18</td>\n",
        "    </tr>\n",
        "    <tr>\n",
        "      <th>60745</th>\n",
        "      <td>  #1011</td>\n",
        "      <td>   fulfilled</td>\n",
        "      <td> 2012-05-10</td>\n",
        "    </tr>\n",
        "    <tr>\n",
        "      <th>60746</th>\n",
        "      <td>  #1010</td>\n",
        "      <td>   fulfilled</td>\n",
        "      <td> 2012-05-08</td>\n",
        "    </tr>\n",
        "    <tr>\n",
        "      <th>60747</th>\n",
        "      <td>  #1010</td>\n",
        "      <td>         NaN</td>\n",
        "      <td> 2012-05-08</td>\n",
        "    </tr>\n",
        "    <tr>\n",
        "      <th>60748</th>\n",
        "      <td>  #1010</td>\n",
        "      <td>         NaN</td>\n",
        "      <td> 2012-05-08</td>\n",
        "    </tr>\n",
        "    <tr>\n",
        "      <th>60749</th>\n",
        "      <td>  #1010</td>\n",
        "      <td>         NaN</td>\n",
        "      <td> 2012-05-08</td>\n",
        "    </tr>\n",
        "    <tr>\n",
        "      <th>60750</th>\n",
        "      <td>  #1010</td>\n",
        "      <td>         NaN</td>\n",
        "      <td> 2012-05-08</td>\n",
        "    </tr>\n",
        "    <tr>\n",
        "      <th>60751</th>\n",
        "      <td>  #1010</td>\n",
        "      <td>         NaN</td>\n",
        "      <td> 2012-05-08</td>\n",
        "    </tr>\n",
        "    <tr>\n",
        "      <th>60752</th>\n",
        "      <td>  #1010</td>\n",
        "      <td>         NaN</td>\n",
        "      <td> 2012-05-08</td>\n",
        "    </tr>\n",
        "    <tr>\n",
        "      <th>60753</th>\n",
        "      <td>  #1009</td>\n",
        "      <td>   fulfilled</td>\n",
        "      <td> 2012-05-08</td>\n",
        "    </tr>\n",
        "    <tr>\n",
        "      <th>60754</th>\n",
        "      <td>  #1008</td>\n",
        "      <td>   fulfilled</td>\n",
        "      <td> 2012-05-07</td>\n",
        "    </tr>\n",
        "    <tr>\n",
        "      <th>60755</th>\n",
        "      <td>  #1008</td>\n",
        "      <td>         NaN</td>\n",
        "      <td> 2012-05-07</td>\n",
        "    </tr>\n",
        "    <tr>\n",
        "      <th>60756</th>\n",
        "      <td>  #1008</td>\n",
        "      <td>         NaN</td>\n",
        "      <td> 2012-05-07</td>\n",
        "    </tr>\n",
        "    <tr>\n",
        "      <th>60757</th>\n",
        "      <td>  #1008</td>\n",
        "      <td>         NaN</td>\n",
        "      <td> 2012-05-07</td>\n",
        "    </tr>\n",
        "    <tr>\n",
        "      <th>60758</th>\n",
        "      <td>  #1008</td>\n",
        "      <td>         NaN</td>\n",
        "      <td> 2012-05-07</td>\n",
        "    </tr>\n",
        "    <tr>\n",
        "      <th>60759</th>\n",
        "      <td>  #1007</td>\n",
        "      <td>   fulfilled</td>\n",
        "      <td> 2012-05-03</td>\n",
        "    </tr>\n",
        "    <tr>\n",
        "      <th>60760</th>\n",
        "      <td>  #1007</td>\n",
        "      <td>         NaN</td>\n",
        "      <td> 2012-05-03</td>\n",
        "    </tr>\n",
        "    <tr>\n",
        "      <th>60761</th>\n",
        "      <td>  #1007</td>\n",
        "      <td>         NaN</td>\n",
        "      <td> 2012-05-03</td>\n",
        "    </tr>\n",
        "    <tr>\n",
        "      <th>60762</th>\n",
        "      <td>  #1007</td>\n",
        "      <td>         NaN</td>\n",
        "      <td> 2012-05-03</td>\n",
        "    </tr>\n",
        "    <tr>\n",
        "      <th>60763</th>\n",
        "      <td>  #1006</td>\n",
        "      <td>   fulfilled</td>\n",
        "      <td> 2012-05-02</td>\n",
        "    </tr>\n",
        "    <tr>\n",
        "      <th>60764</th>\n",
        "      <td>  #1006</td>\n",
        "      <td>         NaN</td>\n",
        "      <td> 2012-05-02</td>\n",
        "    </tr>\n",
        "    <tr>\n",
        "      <th>60765</th>\n",
        "      <td>  #1006</td>\n",
        "      <td>         NaN</td>\n",
        "      <td> 2012-05-02</td>\n",
        "    </tr>\n",
        "    <tr>\n",
        "      <th>60766</th>\n",
        "      <td>  #1006</td>\n",
        "      <td>         NaN</td>\n",
        "      <td> 2012-05-02</td>\n",
        "    </tr>\n",
        "    <tr>\n",
        "      <th>60767</th>\n",
        "      <td>  #1006</td>\n",
        "      <td>         NaN</td>\n",
        "      <td> 2012-05-02</td>\n",
        "    </tr>\n",
        "    <tr>\n",
        "      <th>60768</th>\n",
        "      <td>  #1005</td>\n",
        "      <td>   fulfilled</td>\n",
        "      <td> 2012-05-01</td>\n",
        "    </tr>\n",
        "    <tr>\n",
        "      <th>60769</th>\n",
        "      <td>  #1005</td>\n",
        "      <td>         NaN</td>\n",
        "      <td> 2012-05-01</td>\n",
        "    </tr>\n",
        "    <tr>\n",
        "      <th>60770</th>\n",
        "      <td>  #1005</td>\n",
        "      <td>         NaN</td>\n",
        "      <td> 2012-05-01</td>\n",
        "    </tr>\n",
        "    <tr>\n",
        "      <th>60771</th>\n",
        "      <td>  #1005</td>\n",
        "      <td>         NaN</td>\n",
        "      <td> 2012-05-01</td>\n",
        "    </tr>\n",
        "  </tbody>\n",
        "</table>\n",
        "<p>60772 rows \u00d7 3 columns</p>\n",
        "</div>"
       ],
       "metadata": {},
       "output_type": "pyout",
       "prompt_number": 2,
       "text": [
        "         Name Fulfillment Status  Created at\n",
        "0      #10367        unfulfilled  2015-12-23\n",
        "1      #10367                NaN  2015-12-23\n",
        "2      #10367                NaN  2015-12-23\n",
        "3      #10366        unfulfilled  2015-12-23\n",
        "4      #10366                NaN  2015-12-23\n",
        "5      #10366                NaN  2015-12-23\n",
        "6      #10365        unfulfilled  2015-12-23\n",
        "7      #10365                NaN  2015-12-23\n",
        "8      #10365                NaN  2015-12-23\n",
        "9      #10365                NaN  2015-12-23\n",
        "10     #10365                NaN  2015-12-23\n",
        "11     #10365                NaN  2015-12-23\n",
        "12     #10364        unfulfilled  2015-12-23\n",
        "13     #10364                NaN  2015-12-23\n",
        "14     #10364                NaN  2015-12-23\n",
        "15     #10364                NaN  2015-12-23\n",
        "16     #10364                NaN  2015-12-23\n",
        "17     #10364                NaN  2015-12-23\n",
        "18     #10364                NaN  2015-12-23\n",
        "19     #10364                NaN  2015-12-23\n",
        "20     #10364                NaN  2015-12-23\n",
        "21     #10363        unfulfilled  2015-12-23\n",
        "22     #10362        unfulfilled  2015-12-23\n",
        "23     #10361        unfulfilled  2015-12-23\n",
        "24     #10361                NaN  2015-12-23\n",
        "25     #10361                NaN  2015-12-23\n",
        "26     #10361                NaN  2015-12-23\n",
        "27     #10361                NaN  2015-12-23\n",
        "28     #10361                NaN  2015-12-23\n",
        "29     #10361                NaN  2015-12-23\n",
        "...       ...                ...         ...\n",
        "60742   #1013                NaN  2012-05-21\n",
        "60743   #1012          fulfilled  2012-05-18\n",
        "60744   #1012                NaN  2012-05-18\n",
        "60745   #1011          fulfilled  2012-05-10\n",
        "60746   #1010          fulfilled  2012-05-08\n",
        "60747   #1010                NaN  2012-05-08\n",
        "60748   #1010                NaN  2012-05-08\n",
        "60749   #1010                NaN  2012-05-08\n",
        "60750   #1010                NaN  2012-05-08\n",
        "60751   #1010                NaN  2012-05-08\n",
        "60752   #1010                NaN  2012-05-08\n",
        "60753   #1009          fulfilled  2012-05-08\n",
        "60754   #1008          fulfilled  2012-05-07\n",
        "60755   #1008                NaN  2012-05-07\n",
        "60756   #1008                NaN  2012-05-07\n",
        "60757   #1008                NaN  2012-05-07\n",
        "60758   #1008                NaN  2012-05-07\n",
        "60759   #1007          fulfilled  2012-05-03\n",
        "60760   #1007                NaN  2012-05-03\n",
        "60761   #1007                NaN  2012-05-03\n",
        "60762   #1007                NaN  2012-05-03\n",
        "60763   #1006          fulfilled  2012-05-02\n",
        "60764   #1006                NaN  2012-05-02\n",
        "60765   #1006                NaN  2012-05-02\n",
        "60766   #1006                NaN  2012-05-02\n",
        "60767   #1006                NaN  2012-05-02\n",
        "60768   #1005          fulfilled  2012-05-01\n",
        "60769   #1005                NaN  2012-05-01\n",
        "60770   #1005                NaN  2012-05-01\n",
        "60771   #1005                NaN  2012-05-01\n",
        "\n",
        "[60772 rows x 3 columns]"
       ]
      }
     ],
     "prompt_number": 2
    },
    {
     "cell_type": "code",
     "collapsed": false,
     "input": [
      "#take last item of the total order\n",
      "df1 = df.drop_duplicates(cols='Name', take_last=False).reset_index().drop('index', 1)\n",
      "df1"
     ],
     "language": "python",
     "metadata": {},
     "outputs": [
      {
       "output_type": "stream",
       "stream": "stderr",
       "text": [
        "C:\\Users\\saisree849\\AppData\\Local\\Enthought\\Canopy\\User\\lib\\site-packages\\pandas\\util\\decorators.py:81: FutureWarning: the 'cols' keyword is deprecated, use 'subset' instead\n",
        "  warnings.warn(msg, FutureWarning)\n"
       ]
      },
      {
       "html": [
        "<div style=\"max-height:1000px;max-width:1500px;overflow:auto;\">\n",
        "<table border=\"1\" class=\"dataframe\">\n",
        "  <thead>\n",
        "    <tr style=\"text-align: right;\">\n",
        "      <th></th>\n",
        "      <th>Name</th>\n",
        "      <th>Fulfillment Status</th>\n",
        "      <th>Created at</th>\n",
        "    </tr>\n",
        "  </thead>\n",
        "  <tbody>\n",
        "    <tr>\n",
        "      <th>0   </th>\n",
        "      <td> #10367</td>\n",
        "      <td> unfulfilled</td>\n",
        "      <td> 2015-12-23</td>\n",
        "    </tr>\n",
        "    <tr>\n",
        "      <th>1   </th>\n",
        "      <td> #10366</td>\n",
        "      <td> unfulfilled</td>\n",
        "      <td> 2015-12-23</td>\n",
        "    </tr>\n",
        "    <tr>\n",
        "      <th>2   </th>\n",
        "      <td> #10365</td>\n",
        "      <td> unfulfilled</td>\n",
        "      <td> 2015-12-23</td>\n",
        "    </tr>\n",
        "    <tr>\n",
        "      <th>3   </th>\n",
        "      <td> #10364</td>\n",
        "      <td> unfulfilled</td>\n",
        "      <td> 2015-12-23</td>\n",
        "    </tr>\n",
        "    <tr>\n",
        "      <th>4   </th>\n",
        "      <td> #10363</td>\n",
        "      <td> unfulfilled</td>\n",
        "      <td> 2015-12-23</td>\n",
        "    </tr>\n",
        "    <tr>\n",
        "      <th>5   </th>\n",
        "      <td> #10362</td>\n",
        "      <td> unfulfilled</td>\n",
        "      <td> 2015-12-23</td>\n",
        "    </tr>\n",
        "    <tr>\n",
        "      <th>6   </th>\n",
        "      <td> #10361</td>\n",
        "      <td> unfulfilled</td>\n",
        "      <td> 2015-12-23</td>\n",
        "    </tr>\n",
        "    <tr>\n",
        "      <th>7   </th>\n",
        "      <td> #10360</td>\n",
        "      <td> unfulfilled</td>\n",
        "      <td> 2015-12-23</td>\n",
        "    </tr>\n",
        "    <tr>\n",
        "      <th>8   </th>\n",
        "      <td> #10359</td>\n",
        "      <td> unfulfilled</td>\n",
        "      <td> 2015-12-23</td>\n",
        "    </tr>\n",
        "    <tr>\n",
        "      <th>9   </th>\n",
        "      <td> #10358</td>\n",
        "      <td> unfulfilled</td>\n",
        "      <td> 2015-12-23</td>\n",
        "    </tr>\n",
        "    <tr>\n",
        "      <th>10  </th>\n",
        "      <td> #10357</td>\n",
        "      <td> unfulfilled</td>\n",
        "      <td> 2015-12-23</td>\n",
        "    </tr>\n",
        "    <tr>\n",
        "      <th>11  </th>\n",
        "      <td> #10356</td>\n",
        "      <td> unfulfilled</td>\n",
        "      <td> 2015-12-23</td>\n",
        "    </tr>\n",
        "    <tr>\n",
        "      <th>12  </th>\n",
        "      <td> #10355</td>\n",
        "      <td> unfulfilled</td>\n",
        "      <td> 2015-12-23</td>\n",
        "    </tr>\n",
        "    <tr>\n",
        "      <th>13  </th>\n",
        "      <td> #10354</td>\n",
        "      <td> unfulfilled</td>\n",
        "      <td> 2015-12-23</td>\n",
        "    </tr>\n",
        "    <tr>\n",
        "      <th>14  </th>\n",
        "      <td> #10353</td>\n",
        "      <td> unfulfilled</td>\n",
        "      <td> 2015-12-23</td>\n",
        "    </tr>\n",
        "    <tr>\n",
        "      <th>15  </th>\n",
        "      <td> #10352</td>\n",
        "      <td> unfulfilled</td>\n",
        "      <td> 2015-12-23</td>\n",
        "    </tr>\n",
        "    <tr>\n",
        "      <th>16  </th>\n",
        "      <td> #10351</td>\n",
        "      <td> unfulfilled</td>\n",
        "      <td> 2015-12-23</td>\n",
        "    </tr>\n",
        "    <tr>\n",
        "      <th>17  </th>\n",
        "      <td> #10350</td>\n",
        "      <td> unfulfilled</td>\n",
        "      <td> 2015-12-23</td>\n",
        "    </tr>\n",
        "    <tr>\n",
        "      <th>18  </th>\n",
        "      <td> #10349</td>\n",
        "      <td> unfulfilled</td>\n",
        "      <td> 2015-12-22</td>\n",
        "    </tr>\n",
        "    <tr>\n",
        "      <th>19  </th>\n",
        "      <td> #10348</td>\n",
        "      <td> unfulfilled</td>\n",
        "      <td> 2015-12-22</td>\n",
        "    </tr>\n",
        "    <tr>\n",
        "      <th>20  </th>\n",
        "      <td> #10347</td>\n",
        "      <td> unfulfilled</td>\n",
        "      <td> 2015-12-22</td>\n",
        "    </tr>\n",
        "    <tr>\n",
        "      <th>21  </th>\n",
        "      <td> #10346</td>\n",
        "      <td> unfulfilled</td>\n",
        "      <td> 2015-12-22</td>\n",
        "    </tr>\n",
        "    <tr>\n",
        "      <th>22  </th>\n",
        "      <td> #10345</td>\n",
        "      <td> unfulfilled</td>\n",
        "      <td> 2015-12-22</td>\n",
        "    </tr>\n",
        "    <tr>\n",
        "      <th>23  </th>\n",
        "      <td> #10344</td>\n",
        "      <td> unfulfilled</td>\n",
        "      <td> 2015-12-22</td>\n",
        "    </tr>\n",
        "    <tr>\n",
        "      <th>24  </th>\n",
        "      <td> #10343</td>\n",
        "      <td> unfulfilled</td>\n",
        "      <td> 2015-12-22</td>\n",
        "    </tr>\n",
        "    <tr>\n",
        "      <th>25  </th>\n",
        "      <td> #10342</td>\n",
        "      <td> unfulfilled</td>\n",
        "      <td> 2015-12-22</td>\n",
        "    </tr>\n",
        "    <tr>\n",
        "      <th>26  </th>\n",
        "      <td> #10341</td>\n",
        "      <td> unfulfilled</td>\n",
        "      <td> 2015-12-22</td>\n",
        "    </tr>\n",
        "    <tr>\n",
        "      <th>27  </th>\n",
        "      <td> #10340</td>\n",
        "      <td> unfulfilled</td>\n",
        "      <td> 2015-12-22</td>\n",
        "    </tr>\n",
        "    <tr>\n",
        "      <th>28  </th>\n",
        "      <td> #10339</td>\n",
        "      <td> unfulfilled</td>\n",
        "      <td> 2015-12-22</td>\n",
        "    </tr>\n",
        "    <tr>\n",
        "      <th>29  </th>\n",
        "      <td> #10338</td>\n",
        "      <td> unfulfilled</td>\n",
        "      <td> 2015-12-22</td>\n",
        "    </tr>\n",
        "    <tr>\n",
        "      <th>...</th>\n",
        "      <td>...</td>\n",
        "      <td>...</td>\n",
        "      <td>...</td>\n",
        "    </tr>\n",
        "    <tr>\n",
        "      <th>9286</th>\n",
        "      <td>  #1035</td>\n",
        "      <td>   fulfilled</td>\n",
        "      <td> 2012-07-09</td>\n",
        "    </tr>\n",
        "    <tr>\n",
        "      <th>9287</th>\n",
        "      <td>  #1034</td>\n",
        "      <td>   fulfilled</td>\n",
        "      <td> 2012-07-09</td>\n",
        "    </tr>\n",
        "    <tr>\n",
        "      <th>9288</th>\n",
        "      <td>  #1033</td>\n",
        "      <td>   fulfilled</td>\n",
        "      <td> 2012-07-09</td>\n",
        "    </tr>\n",
        "    <tr>\n",
        "      <th>9289</th>\n",
        "      <td>  #1032</td>\n",
        "      <td>   fulfilled</td>\n",
        "      <td> 2012-07-09</td>\n",
        "    </tr>\n",
        "    <tr>\n",
        "      <th>9290</th>\n",
        "      <td>  #1031</td>\n",
        "      <td>   fulfilled</td>\n",
        "      <td> 2012-07-09</td>\n",
        "    </tr>\n",
        "    <tr>\n",
        "      <th>9291</th>\n",
        "      <td>  #1030</td>\n",
        "      <td>   fulfilled</td>\n",
        "      <td> 2012-07-09</td>\n",
        "    </tr>\n",
        "    <tr>\n",
        "      <th>9292</th>\n",
        "      <td>  #1029</td>\n",
        "      <td>     partial</td>\n",
        "      <td> 2012-07-08</td>\n",
        "    </tr>\n",
        "    <tr>\n",
        "      <th>9293</th>\n",
        "      <td>  #1028</td>\n",
        "      <td>   fulfilled</td>\n",
        "      <td> 2012-07-08</td>\n",
        "    </tr>\n",
        "    <tr>\n",
        "      <th>9294</th>\n",
        "      <td>  #1027</td>\n",
        "      <td>   fulfilled</td>\n",
        "      <td> 2012-07-08</td>\n",
        "    </tr>\n",
        "    <tr>\n",
        "      <th>9295</th>\n",
        "      <td>  #1026</td>\n",
        "      <td>   fulfilled</td>\n",
        "      <td> 2012-07-07</td>\n",
        "    </tr>\n",
        "    <tr>\n",
        "      <th>9296</th>\n",
        "      <td>  #1025</td>\n",
        "      <td>   fulfilled</td>\n",
        "      <td> 2012-07-05</td>\n",
        "    </tr>\n",
        "    <tr>\n",
        "      <th>9297</th>\n",
        "      <td>  #1024</td>\n",
        "      <td>     partial</td>\n",
        "      <td> 2012-07-05</td>\n",
        "    </tr>\n",
        "    <tr>\n",
        "      <th>9298</th>\n",
        "      <td>  #1023</td>\n",
        "      <td> unfulfilled</td>\n",
        "      <td> 2012-07-04</td>\n",
        "    </tr>\n",
        "    <tr>\n",
        "      <th>9299</th>\n",
        "      <td>  #1022</td>\n",
        "      <td>   fulfilled</td>\n",
        "      <td> 2012-07-01</td>\n",
        "    </tr>\n",
        "    <tr>\n",
        "      <th>9300</th>\n",
        "      <td>  #1021</td>\n",
        "      <td>   fulfilled</td>\n",
        "      <td> 2012-06-13</td>\n",
        "    </tr>\n",
        "    <tr>\n",
        "      <th>9301</th>\n",
        "      <td>  #1020</td>\n",
        "      <td>   fulfilled</td>\n",
        "      <td> 2012-06-06</td>\n",
        "    </tr>\n",
        "    <tr>\n",
        "      <th>9302</th>\n",
        "      <td>  #1019</td>\n",
        "      <td>   restocked</td>\n",
        "      <td> 2012-06-06</td>\n",
        "    </tr>\n",
        "    <tr>\n",
        "      <th>9303</th>\n",
        "      <td>  #1017</td>\n",
        "      <td>   fulfilled</td>\n",
        "      <td> 2012-05-29</td>\n",
        "    </tr>\n",
        "    <tr>\n",
        "      <th>9304</th>\n",
        "      <td>  #1016</td>\n",
        "      <td>     partial</td>\n",
        "      <td> 2012-05-27</td>\n",
        "    </tr>\n",
        "    <tr>\n",
        "      <th>9305</th>\n",
        "      <td>  #1015</td>\n",
        "      <td>   fulfilled</td>\n",
        "      <td> 2012-05-25</td>\n",
        "    </tr>\n",
        "    <tr>\n",
        "      <th>9306</th>\n",
        "      <td>  #1014</td>\n",
        "      <td>   fulfilled</td>\n",
        "      <td> 2012-05-21</td>\n",
        "    </tr>\n",
        "    <tr>\n",
        "      <th>9307</th>\n",
        "      <td>  #1013</td>\n",
        "      <td>   fulfilled</td>\n",
        "      <td> 2012-05-21</td>\n",
        "    </tr>\n",
        "    <tr>\n",
        "      <th>9308</th>\n",
        "      <td>  #1012</td>\n",
        "      <td>   fulfilled</td>\n",
        "      <td> 2012-05-18</td>\n",
        "    </tr>\n",
        "    <tr>\n",
        "      <th>9309</th>\n",
        "      <td>  #1011</td>\n",
        "      <td>   fulfilled</td>\n",
        "      <td> 2012-05-10</td>\n",
        "    </tr>\n",
        "    <tr>\n",
        "      <th>9310</th>\n",
        "      <td>  #1010</td>\n",
        "      <td>   fulfilled</td>\n",
        "      <td> 2012-05-08</td>\n",
        "    </tr>\n",
        "    <tr>\n",
        "      <th>9311</th>\n",
        "      <td>  #1009</td>\n",
        "      <td>   fulfilled</td>\n",
        "      <td> 2012-05-08</td>\n",
        "    </tr>\n",
        "    <tr>\n",
        "      <th>9312</th>\n",
        "      <td>  #1008</td>\n",
        "      <td>   fulfilled</td>\n",
        "      <td> 2012-05-07</td>\n",
        "    </tr>\n",
        "    <tr>\n",
        "      <th>9313</th>\n",
        "      <td>  #1007</td>\n",
        "      <td>   fulfilled</td>\n",
        "      <td> 2012-05-03</td>\n",
        "    </tr>\n",
        "    <tr>\n",
        "      <th>9314</th>\n",
        "      <td>  #1006</td>\n",
        "      <td>   fulfilled</td>\n",
        "      <td> 2012-05-02</td>\n",
        "    </tr>\n",
        "    <tr>\n",
        "      <th>9315</th>\n",
        "      <td>  #1005</td>\n",
        "      <td>   fulfilled</td>\n",
        "      <td> 2012-05-01</td>\n",
        "    </tr>\n",
        "  </tbody>\n",
        "</table>\n",
        "<p>9316 rows \u00d7 3 columns</p>\n",
        "</div>"
       ],
       "metadata": {},
       "output_type": "pyout",
       "prompt_number": 3,
       "text": [
        "        Name Fulfillment Status  Created at\n",
        "0     #10367        unfulfilled  2015-12-23\n",
        "1     #10366        unfulfilled  2015-12-23\n",
        "2     #10365        unfulfilled  2015-12-23\n",
        "3     #10364        unfulfilled  2015-12-23\n",
        "4     #10363        unfulfilled  2015-12-23\n",
        "5     #10362        unfulfilled  2015-12-23\n",
        "6     #10361        unfulfilled  2015-12-23\n",
        "7     #10360        unfulfilled  2015-12-23\n",
        "8     #10359        unfulfilled  2015-12-23\n",
        "9     #10358        unfulfilled  2015-12-23\n",
        "10    #10357        unfulfilled  2015-12-23\n",
        "11    #10356        unfulfilled  2015-12-23\n",
        "12    #10355        unfulfilled  2015-12-23\n",
        "13    #10354        unfulfilled  2015-12-23\n",
        "14    #10353        unfulfilled  2015-12-23\n",
        "15    #10352        unfulfilled  2015-12-23\n",
        "16    #10351        unfulfilled  2015-12-23\n",
        "17    #10350        unfulfilled  2015-12-23\n",
        "18    #10349        unfulfilled  2015-12-22\n",
        "19    #10348        unfulfilled  2015-12-22\n",
        "20    #10347        unfulfilled  2015-12-22\n",
        "21    #10346        unfulfilled  2015-12-22\n",
        "22    #10345        unfulfilled  2015-12-22\n",
        "23    #10344        unfulfilled  2015-12-22\n",
        "24    #10343        unfulfilled  2015-12-22\n",
        "25    #10342        unfulfilled  2015-12-22\n",
        "26    #10341        unfulfilled  2015-12-22\n",
        "27    #10340        unfulfilled  2015-12-22\n",
        "28    #10339        unfulfilled  2015-12-22\n",
        "29    #10338        unfulfilled  2015-12-22\n",
        "...      ...                ...         ...\n",
        "9286   #1035          fulfilled  2012-07-09\n",
        "9287   #1034          fulfilled  2012-07-09\n",
        "9288   #1033          fulfilled  2012-07-09\n",
        "9289   #1032          fulfilled  2012-07-09\n",
        "9290   #1031          fulfilled  2012-07-09\n",
        "9291   #1030          fulfilled  2012-07-09\n",
        "9292   #1029            partial  2012-07-08\n",
        "9293   #1028          fulfilled  2012-07-08\n",
        "9294   #1027          fulfilled  2012-07-08\n",
        "9295   #1026          fulfilled  2012-07-07\n",
        "9296   #1025          fulfilled  2012-07-05\n",
        "9297   #1024            partial  2012-07-05\n",
        "9298   #1023        unfulfilled  2012-07-04\n",
        "9299   #1022          fulfilled  2012-07-01\n",
        "9300   #1021          fulfilled  2012-06-13\n",
        "9301   #1020          fulfilled  2012-06-06\n",
        "9302   #1019          restocked  2012-06-06\n",
        "9303   #1017          fulfilled  2012-05-29\n",
        "9304   #1016            partial  2012-05-27\n",
        "9305   #1015          fulfilled  2012-05-25\n",
        "9306   #1014          fulfilled  2012-05-21\n",
        "9307   #1013          fulfilled  2012-05-21\n",
        "9308   #1012          fulfilled  2012-05-18\n",
        "9309   #1011          fulfilled  2012-05-10\n",
        "9310   #1010          fulfilled  2012-05-08\n",
        "9311   #1009          fulfilled  2012-05-08\n",
        "9312   #1008          fulfilled  2012-05-07\n",
        "9313   #1007          fulfilled  2012-05-03\n",
        "9314   #1006          fulfilled  2012-05-02\n",
        "9315   #1005          fulfilled  2012-05-01\n",
        "\n",
        "[9316 rows x 3 columns]"
       ]
      }
     ],
     "prompt_number": 3
    },
    {
     "cell_type": "code",
     "collapsed": false,
     "input": [
      "#get todays date\n",
      "today = DT.date.today()\n",
      "dt = today - DT.timedelta(days=8) #Wednesday date\n",
      "df1['Yes'] = df1.apply(lambda x: datetime.strptime(x['Created at'], '%Y-%m-%d').date() > dt, axis = 1) #update rows by comparing dates\n",
      "\n",
      "df2 = df1.loc[df1['Yes'] == True] #get orders within last week\n",
      "df2"
     ],
     "language": "python",
     "metadata": {},
     "outputs": [
      {
       "html": [
        "<div style=\"max-height:1000px;max-width:1500px;overflow:auto;\">\n",
        "<table border=\"1\" class=\"dataframe\">\n",
        "  <thead>\n",
        "    <tr style=\"text-align: right;\">\n",
        "      <th></th>\n",
        "      <th>Name</th>\n",
        "      <th>Fulfillment Status</th>\n",
        "      <th>Created at</th>\n",
        "      <th>Yes</th>\n",
        "    </tr>\n",
        "  </thead>\n",
        "  <tbody>\n",
        "    <tr>\n",
        "      <th>0  </th>\n",
        "      <td> #10367</td>\n",
        "      <td> unfulfilled</td>\n",
        "      <td> 2015-12-23</td>\n",
        "      <td> True</td>\n",
        "    </tr>\n",
        "    <tr>\n",
        "      <th>1  </th>\n",
        "      <td> #10366</td>\n",
        "      <td> unfulfilled</td>\n",
        "      <td> 2015-12-23</td>\n",
        "      <td> True</td>\n",
        "    </tr>\n",
        "    <tr>\n",
        "      <th>2  </th>\n",
        "      <td> #10365</td>\n",
        "      <td> unfulfilled</td>\n",
        "      <td> 2015-12-23</td>\n",
        "      <td> True</td>\n",
        "    </tr>\n",
        "    <tr>\n",
        "      <th>3  </th>\n",
        "      <td> #10364</td>\n",
        "      <td> unfulfilled</td>\n",
        "      <td> 2015-12-23</td>\n",
        "      <td> True</td>\n",
        "    </tr>\n",
        "    <tr>\n",
        "      <th>4  </th>\n",
        "      <td> #10363</td>\n",
        "      <td> unfulfilled</td>\n",
        "      <td> 2015-12-23</td>\n",
        "      <td> True</td>\n",
        "    </tr>\n",
        "    <tr>\n",
        "      <th>5  </th>\n",
        "      <td> #10362</td>\n",
        "      <td> unfulfilled</td>\n",
        "      <td> 2015-12-23</td>\n",
        "      <td> True</td>\n",
        "    </tr>\n",
        "    <tr>\n",
        "      <th>6  </th>\n",
        "      <td> #10361</td>\n",
        "      <td> unfulfilled</td>\n",
        "      <td> 2015-12-23</td>\n",
        "      <td> True</td>\n",
        "    </tr>\n",
        "    <tr>\n",
        "      <th>7  </th>\n",
        "      <td> #10360</td>\n",
        "      <td> unfulfilled</td>\n",
        "      <td> 2015-12-23</td>\n",
        "      <td> True</td>\n",
        "    </tr>\n",
        "    <tr>\n",
        "      <th>8  </th>\n",
        "      <td> #10359</td>\n",
        "      <td> unfulfilled</td>\n",
        "      <td> 2015-12-23</td>\n",
        "      <td> True</td>\n",
        "    </tr>\n",
        "    <tr>\n",
        "      <th>9  </th>\n",
        "      <td> #10358</td>\n",
        "      <td> unfulfilled</td>\n",
        "      <td> 2015-12-23</td>\n",
        "      <td> True</td>\n",
        "    </tr>\n",
        "    <tr>\n",
        "      <th>10 </th>\n",
        "      <td> #10357</td>\n",
        "      <td> unfulfilled</td>\n",
        "      <td> 2015-12-23</td>\n",
        "      <td> True</td>\n",
        "    </tr>\n",
        "    <tr>\n",
        "      <th>11 </th>\n",
        "      <td> #10356</td>\n",
        "      <td> unfulfilled</td>\n",
        "      <td> 2015-12-23</td>\n",
        "      <td> True</td>\n",
        "    </tr>\n",
        "    <tr>\n",
        "      <th>12 </th>\n",
        "      <td> #10355</td>\n",
        "      <td> unfulfilled</td>\n",
        "      <td> 2015-12-23</td>\n",
        "      <td> True</td>\n",
        "    </tr>\n",
        "    <tr>\n",
        "      <th>13 </th>\n",
        "      <td> #10354</td>\n",
        "      <td> unfulfilled</td>\n",
        "      <td> 2015-12-23</td>\n",
        "      <td> True</td>\n",
        "    </tr>\n",
        "    <tr>\n",
        "      <th>14 </th>\n",
        "      <td> #10353</td>\n",
        "      <td> unfulfilled</td>\n",
        "      <td> 2015-12-23</td>\n",
        "      <td> True</td>\n",
        "    </tr>\n",
        "    <tr>\n",
        "      <th>15 </th>\n",
        "      <td> #10352</td>\n",
        "      <td> unfulfilled</td>\n",
        "      <td> 2015-12-23</td>\n",
        "      <td> True</td>\n",
        "    </tr>\n",
        "    <tr>\n",
        "      <th>16 </th>\n",
        "      <td> #10351</td>\n",
        "      <td> unfulfilled</td>\n",
        "      <td> 2015-12-23</td>\n",
        "      <td> True</td>\n",
        "    </tr>\n",
        "    <tr>\n",
        "      <th>17 </th>\n",
        "      <td> #10350</td>\n",
        "      <td> unfulfilled</td>\n",
        "      <td> 2015-12-23</td>\n",
        "      <td> True</td>\n",
        "    </tr>\n",
        "    <tr>\n",
        "      <th>18 </th>\n",
        "      <td> #10349</td>\n",
        "      <td> unfulfilled</td>\n",
        "      <td> 2015-12-22</td>\n",
        "      <td> True</td>\n",
        "    </tr>\n",
        "    <tr>\n",
        "      <th>19 </th>\n",
        "      <td> #10348</td>\n",
        "      <td> unfulfilled</td>\n",
        "      <td> 2015-12-22</td>\n",
        "      <td> True</td>\n",
        "    </tr>\n",
        "    <tr>\n",
        "      <th>20 </th>\n",
        "      <td> #10347</td>\n",
        "      <td> unfulfilled</td>\n",
        "      <td> 2015-12-22</td>\n",
        "      <td> True</td>\n",
        "    </tr>\n",
        "    <tr>\n",
        "      <th>21 </th>\n",
        "      <td> #10346</td>\n",
        "      <td> unfulfilled</td>\n",
        "      <td> 2015-12-22</td>\n",
        "      <td> True</td>\n",
        "    </tr>\n",
        "    <tr>\n",
        "      <th>22 </th>\n",
        "      <td> #10345</td>\n",
        "      <td> unfulfilled</td>\n",
        "      <td> 2015-12-22</td>\n",
        "      <td> True</td>\n",
        "    </tr>\n",
        "    <tr>\n",
        "      <th>23 </th>\n",
        "      <td> #10344</td>\n",
        "      <td> unfulfilled</td>\n",
        "      <td> 2015-12-22</td>\n",
        "      <td> True</td>\n",
        "    </tr>\n",
        "    <tr>\n",
        "      <th>24 </th>\n",
        "      <td> #10343</td>\n",
        "      <td> unfulfilled</td>\n",
        "      <td> 2015-12-22</td>\n",
        "      <td> True</td>\n",
        "    </tr>\n",
        "    <tr>\n",
        "      <th>25 </th>\n",
        "      <td> #10342</td>\n",
        "      <td> unfulfilled</td>\n",
        "      <td> 2015-12-22</td>\n",
        "      <td> True</td>\n",
        "    </tr>\n",
        "    <tr>\n",
        "      <th>26 </th>\n",
        "      <td> #10341</td>\n",
        "      <td> unfulfilled</td>\n",
        "      <td> 2015-12-22</td>\n",
        "      <td> True</td>\n",
        "    </tr>\n",
        "    <tr>\n",
        "      <th>27 </th>\n",
        "      <td> #10340</td>\n",
        "      <td> unfulfilled</td>\n",
        "      <td> 2015-12-22</td>\n",
        "      <td> True</td>\n",
        "    </tr>\n",
        "    <tr>\n",
        "      <th>28 </th>\n",
        "      <td> #10339</td>\n",
        "      <td> unfulfilled</td>\n",
        "      <td> 2015-12-22</td>\n",
        "      <td> True</td>\n",
        "    </tr>\n",
        "    <tr>\n",
        "      <th>29 </th>\n",
        "      <td> #10338</td>\n",
        "      <td> unfulfilled</td>\n",
        "      <td> 2015-12-22</td>\n",
        "      <td> True</td>\n",
        "    </tr>\n",
        "    <tr>\n",
        "      <th>...</th>\n",
        "      <td>...</td>\n",
        "      <td>...</td>\n",
        "      <td>...</td>\n",
        "      <td>...</td>\n",
        "    </tr>\n",
        "    <tr>\n",
        "      <th>91 </th>\n",
        "      <td> #10276</td>\n",
        "      <td> unfulfilled</td>\n",
        "      <td> 2015-12-19</td>\n",
        "      <td> True</td>\n",
        "    </tr>\n",
        "    <tr>\n",
        "      <th>92 </th>\n",
        "      <td> #10275</td>\n",
        "      <td> unfulfilled</td>\n",
        "      <td> 2015-12-19</td>\n",
        "      <td> True</td>\n",
        "    </tr>\n",
        "    <tr>\n",
        "      <th>93 </th>\n",
        "      <td> #10274</td>\n",
        "      <td> unfulfilled</td>\n",
        "      <td> 2015-12-18</td>\n",
        "      <td> True</td>\n",
        "    </tr>\n",
        "    <tr>\n",
        "      <th>94 </th>\n",
        "      <td> #10273</td>\n",
        "      <td> unfulfilled</td>\n",
        "      <td> 2015-12-18</td>\n",
        "      <td> True</td>\n",
        "    </tr>\n",
        "    <tr>\n",
        "      <th>95 </th>\n",
        "      <td> #10272</td>\n",
        "      <td> unfulfilled</td>\n",
        "      <td> 2015-12-18</td>\n",
        "      <td> True</td>\n",
        "    </tr>\n",
        "    <tr>\n",
        "      <th>96 </th>\n",
        "      <td> #10271</td>\n",
        "      <td> unfulfilled</td>\n",
        "      <td> 2015-12-18</td>\n",
        "      <td> True</td>\n",
        "    </tr>\n",
        "    <tr>\n",
        "      <th>97 </th>\n",
        "      <td> #10270</td>\n",
        "      <td>   fulfilled</td>\n",
        "      <td> 2015-12-18</td>\n",
        "      <td> True</td>\n",
        "    </tr>\n",
        "    <tr>\n",
        "      <th>98 </th>\n",
        "      <td> #10269</td>\n",
        "      <td>   fulfilled</td>\n",
        "      <td> 2015-12-18</td>\n",
        "      <td> True</td>\n",
        "    </tr>\n",
        "    <tr>\n",
        "      <th>99 </th>\n",
        "      <td> #10268</td>\n",
        "      <td>   fulfilled</td>\n",
        "      <td> 2015-12-18</td>\n",
        "      <td> True</td>\n",
        "    </tr>\n",
        "    <tr>\n",
        "      <th>100</th>\n",
        "      <td> #10267</td>\n",
        "      <td>   fulfilled</td>\n",
        "      <td> 2015-12-18</td>\n",
        "      <td> True</td>\n",
        "    </tr>\n",
        "    <tr>\n",
        "      <th>101</th>\n",
        "      <td> #10266</td>\n",
        "      <td>   fulfilled</td>\n",
        "      <td> 2015-12-18</td>\n",
        "      <td> True</td>\n",
        "    </tr>\n",
        "    <tr>\n",
        "      <th>102</th>\n",
        "      <td> #10265</td>\n",
        "      <td> unfulfilled</td>\n",
        "      <td> 2015-12-18</td>\n",
        "      <td> True</td>\n",
        "    </tr>\n",
        "    <tr>\n",
        "      <th>103</th>\n",
        "      <td> #10264</td>\n",
        "      <td> unfulfilled</td>\n",
        "      <td> 2015-12-18</td>\n",
        "      <td> True</td>\n",
        "    </tr>\n",
        "    <tr>\n",
        "      <th>104</th>\n",
        "      <td> #10263</td>\n",
        "      <td> unfulfilled</td>\n",
        "      <td> 2015-12-18</td>\n",
        "      <td> True</td>\n",
        "    </tr>\n",
        "    <tr>\n",
        "      <th>105</th>\n",
        "      <td> #10262</td>\n",
        "      <td> unfulfilled</td>\n",
        "      <td> 2015-12-18</td>\n",
        "      <td> True</td>\n",
        "    </tr>\n",
        "    <tr>\n",
        "      <th>106</th>\n",
        "      <td> #10261</td>\n",
        "      <td> unfulfilled</td>\n",
        "      <td> 2015-12-18</td>\n",
        "      <td> True</td>\n",
        "    </tr>\n",
        "    <tr>\n",
        "      <th>107</th>\n",
        "      <td> #10260</td>\n",
        "      <td>   fulfilled</td>\n",
        "      <td> 2015-12-18</td>\n",
        "      <td> True</td>\n",
        "    </tr>\n",
        "    <tr>\n",
        "      <th>108</th>\n",
        "      <td> #10259</td>\n",
        "      <td>   fulfilled</td>\n",
        "      <td> 2015-12-17</td>\n",
        "      <td> True</td>\n",
        "    </tr>\n",
        "    <tr>\n",
        "      <th>109</th>\n",
        "      <td> #10258</td>\n",
        "      <td>   fulfilled</td>\n",
        "      <td> 2015-12-17</td>\n",
        "      <td> True</td>\n",
        "    </tr>\n",
        "    <tr>\n",
        "      <th>110</th>\n",
        "      <td> #10257</td>\n",
        "      <td> unfulfilled</td>\n",
        "      <td> 2015-12-17</td>\n",
        "      <td> True</td>\n",
        "    </tr>\n",
        "    <tr>\n",
        "      <th>111</th>\n",
        "      <td> #10256</td>\n",
        "      <td> unfulfilled</td>\n",
        "      <td> 2015-12-17</td>\n",
        "      <td> True</td>\n",
        "    </tr>\n",
        "    <tr>\n",
        "      <th>112</th>\n",
        "      <td> #10255</td>\n",
        "      <td>   fulfilled</td>\n",
        "      <td> 2015-12-17</td>\n",
        "      <td> True</td>\n",
        "    </tr>\n",
        "    <tr>\n",
        "      <th>113</th>\n",
        "      <td> #10254</td>\n",
        "      <td>   fulfilled</td>\n",
        "      <td> 2015-12-17</td>\n",
        "      <td> True</td>\n",
        "    </tr>\n",
        "    <tr>\n",
        "      <th>114</th>\n",
        "      <td> #10253</td>\n",
        "      <td> unfulfilled</td>\n",
        "      <td> 2015-12-17</td>\n",
        "      <td> True</td>\n",
        "    </tr>\n",
        "    <tr>\n",
        "      <th>115</th>\n",
        "      <td> #10252</td>\n",
        "      <td>   fulfilled</td>\n",
        "      <td> 2015-12-17</td>\n",
        "      <td> True</td>\n",
        "    </tr>\n",
        "    <tr>\n",
        "      <th>116</th>\n",
        "      <td> #10251</td>\n",
        "      <td>   fulfilled</td>\n",
        "      <td> 2015-12-17</td>\n",
        "      <td> True</td>\n",
        "    </tr>\n",
        "    <tr>\n",
        "      <th>117</th>\n",
        "      <td> #10250</td>\n",
        "      <td>   fulfilled</td>\n",
        "      <td> 2015-12-17</td>\n",
        "      <td> True</td>\n",
        "    </tr>\n",
        "    <tr>\n",
        "      <th>118</th>\n",
        "      <td> #10249</td>\n",
        "      <td> unfulfilled</td>\n",
        "      <td> 2015-12-17</td>\n",
        "      <td> True</td>\n",
        "    </tr>\n",
        "    <tr>\n",
        "      <th>119</th>\n",
        "      <td> #10248</td>\n",
        "      <td>   fulfilled</td>\n",
        "      <td> 2015-12-17</td>\n",
        "      <td> True</td>\n",
        "    </tr>\n",
        "    <tr>\n",
        "      <th>120</th>\n",
        "      <td> #10247</td>\n",
        "      <td>     partial</td>\n",
        "      <td> 2015-12-17</td>\n",
        "      <td> True</td>\n",
        "    </tr>\n",
        "  </tbody>\n",
        "</table>\n",
        "<p>121 rows \u00d7 4 columns</p>\n",
        "</div>"
       ],
       "metadata": {},
       "output_type": "pyout",
       "prompt_number": 4,
       "text": [
        "       Name Fulfillment Status  Created at   Yes\n",
        "0    #10367        unfulfilled  2015-12-23  True\n",
        "1    #10366        unfulfilled  2015-12-23  True\n",
        "2    #10365        unfulfilled  2015-12-23  True\n",
        "3    #10364        unfulfilled  2015-12-23  True\n",
        "4    #10363        unfulfilled  2015-12-23  True\n",
        "5    #10362        unfulfilled  2015-12-23  True\n",
        "6    #10361        unfulfilled  2015-12-23  True\n",
        "7    #10360        unfulfilled  2015-12-23  True\n",
        "8    #10359        unfulfilled  2015-12-23  True\n",
        "9    #10358        unfulfilled  2015-12-23  True\n",
        "10   #10357        unfulfilled  2015-12-23  True\n",
        "11   #10356        unfulfilled  2015-12-23  True\n",
        "12   #10355        unfulfilled  2015-12-23  True\n",
        "13   #10354        unfulfilled  2015-12-23  True\n",
        "14   #10353        unfulfilled  2015-12-23  True\n",
        "15   #10352        unfulfilled  2015-12-23  True\n",
        "16   #10351        unfulfilled  2015-12-23  True\n",
        "17   #10350        unfulfilled  2015-12-23  True\n",
        "18   #10349        unfulfilled  2015-12-22  True\n",
        "19   #10348        unfulfilled  2015-12-22  True\n",
        "20   #10347        unfulfilled  2015-12-22  True\n",
        "21   #10346        unfulfilled  2015-12-22  True\n",
        "22   #10345        unfulfilled  2015-12-22  True\n",
        "23   #10344        unfulfilled  2015-12-22  True\n",
        "24   #10343        unfulfilled  2015-12-22  True\n",
        "25   #10342        unfulfilled  2015-12-22  True\n",
        "26   #10341        unfulfilled  2015-12-22  True\n",
        "27   #10340        unfulfilled  2015-12-22  True\n",
        "28   #10339        unfulfilled  2015-12-22  True\n",
        "29   #10338        unfulfilled  2015-12-22  True\n",
        "..      ...                ...         ...   ...\n",
        "91   #10276        unfulfilled  2015-12-19  True\n",
        "92   #10275        unfulfilled  2015-12-19  True\n",
        "93   #10274        unfulfilled  2015-12-18  True\n",
        "94   #10273        unfulfilled  2015-12-18  True\n",
        "95   #10272        unfulfilled  2015-12-18  True\n",
        "96   #10271        unfulfilled  2015-12-18  True\n",
        "97   #10270          fulfilled  2015-12-18  True\n",
        "98   #10269          fulfilled  2015-12-18  True\n",
        "99   #10268          fulfilled  2015-12-18  True\n",
        "100  #10267          fulfilled  2015-12-18  True\n",
        "101  #10266          fulfilled  2015-12-18  True\n",
        "102  #10265        unfulfilled  2015-12-18  True\n",
        "103  #10264        unfulfilled  2015-12-18  True\n",
        "104  #10263        unfulfilled  2015-12-18  True\n",
        "105  #10262        unfulfilled  2015-12-18  True\n",
        "106  #10261        unfulfilled  2015-12-18  True\n",
        "107  #10260          fulfilled  2015-12-18  True\n",
        "108  #10259          fulfilled  2015-12-17  True\n",
        "109  #10258          fulfilled  2015-12-17  True\n",
        "110  #10257        unfulfilled  2015-12-17  True\n",
        "111  #10256        unfulfilled  2015-12-17  True\n",
        "112  #10255          fulfilled  2015-12-17  True\n",
        "113  #10254          fulfilled  2015-12-17  True\n",
        "114  #10253        unfulfilled  2015-12-17  True\n",
        "115  #10252          fulfilled  2015-12-17  True\n",
        "116  #10251          fulfilled  2015-12-17  True\n",
        "117  #10250          fulfilled  2015-12-17  True\n",
        "118  #10249        unfulfilled  2015-12-17  True\n",
        "119  #10248          fulfilled  2015-12-17  True\n",
        "120  #10247            partial  2015-12-17  True\n",
        "\n",
        "[121 rows x 4 columns]"
       ]
      }
     ],
     "prompt_number": 4
    },
    {
     "cell_type": "code",
     "collapsed": false,
     "input": [
      "df2 = df2[['Name', 'Fulfillment Status', 'Created at']]\n",
      "\n",
      "df2['All'] = 1\n",
      "df2['Unfulfilled'] = df2.apply(lambda x: 1 if x['Fulfillment Status'] == 'unfulfilled' else 0 , axis = 1) #update column based on fulfillement status\n",
      "df2"
     ],
     "language": "python",
     "metadata": {},
     "outputs": [
      {
       "output_type": "stream",
       "stream": "stderr",
       "text": [
        "-c:3: SettingWithCopyWarning: \n",
        "A value is trying to be set on a copy of a slice from a DataFrame.\n",
        "Try using .loc[row_indexer,col_indexer] = value instead\n",
        "\n",
        "See the the caveats in the documentation: http://pandas.pydata.org/pandas-docs/stable/indexing.html#indexing-view-versus-copy\n",
        "-c:4: SettingWithCopyWarning: \n",
        "A value is trying to be set on a copy of a slice from a DataFrame.\n",
        "Try using .loc[row_indexer,col_indexer] = value instead\n",
        "\n",
        "See the the caveats in the documentation: http://pandas.pydata.org/pandas-docs/stable/indexing.html#indexing-view-versus-copy\n"
       ]
      },
      {
       "html": [
        "<div style=\"max-height:1000px;max-width:1500px;overflow:auto;\">\n",
        "<table border=\"1\" class=\"dataframe\">\n",
        "  <thead>\n",
        "    <tr style=\"text-align: right;\">\n",
        "      <th></th>\n",
        "      <th>Name</th>\n",
        "      <th>Fulfillment Status</th>\n",
        "      <th>Created at</th>\n",
        "      <th>All</th>\n",
        "      <th>Unfulfilled</th>\n",
        "    </tr>\n",
        "  </thead>\n",
        "  <tbody>\n",
        "    <tr>\n",
        "      <th>0  </th>\n",
        "      <td> #10367</td>\n",
        "      <td> unfulfilled</td>\n",
        "      <td> 2015-12-23</td>\n",
        "      <td> 1</td>\n",
        "      <td> 1</td>\n",
        "    </tr>\n",
        "    <tr>\n",
        "      <th>1  </th>\n",
        "      <td> #10366</td>\n",
        "      <td> unfulfilled</td>\n",
        "      <td> 2015-12-23</td>\n",
        "      <td> 1</td>\n",
        "      <td> 1</td>\n",
        "    </tr>\n",
        "    <tr>\n",
        "      <th>2  </th>\n",
        "      <td> #10365</td>\n",
        "      <td> unfulfilled</td>\n",
        "      <td> 2015-12-23</td>\n",
        "      <td> 1</td>\n",
        "      <td> 1</td>\n",
        "    </tr>\n",
        "    <tr>\n",
        "      <th>3  </th>\n",
        "      <td> #10364</td>\n",
        "      <td> unfulfilled</td>\n",
        "      <td> 2015-12-23</td>\n",
        "      <td> 1</td>\n",
        "      <td> 1</td>\n",
        "    </tr>\n",
        "    <tr>\n",
        "      <th>4  </th>\n",
        "      <td> #10363</td>\n",
        "      <td> unfulfilled</td>\n",
        "      <td> 2015-12-23</td>\n",
        "      <td> 1</td>\n",
        "      <td> 1</td>\n",
        "    </tr>\n",
        "    <tr>\n",
        "      <th>5  </th>\n",
        "      <td> #10362</td>\n",
        "      <td> unfulfilled</td>\n",
        "      <td> 2015-12-23</td>\n",
        "      <td> 1</td>\n",
        "      <td> 1</td>\n",
        "    </tr>\n",
        "    <tr>\n",
        "      <th>6  </th>\n",
        "      <td> #10361</td>\n",
        "      <td> unfulfilled</td>\n",
        "      <td> 2015-12-23</td>\n",
        "      <td> 1</td>\n",
        "      <td> 1</td>\n",
        "    </tr>\n",
        "    <tr>\n",
        "      <th>7  </th>\n",
        "      <td> #10360</td>\n",
        "      <td> unfulfilled</td>\n",
        "      <td> 2015-12-23</td>\n",
        "      <td> 1</td>\n",
        "      <td> 1</td>\n",
        "    </tr>\n",
        "    <tr>\n",
        "      <th>8  </th>\n",
        "      <td> #10359</td>\n",
        "      <td> unfulfilled</td>\n",
        "      <td> 2015-12-23</td>\n",
        "      <td> 1</td>\n",
        "      <td> 1</td>\n",
        "    </tr>\n",
        "    <tr>\n",
        "      <th>9  </th>\n",
        "      <td> #10358</td>\n",
        "      <td> unfulfilled</td>\n",
        "      <td> 2015-12-23</td>\n",
        "      <td> 1</td>\n",
        "      <td> 1</td>\n",
        "    </tr>\n",
        "    <tr>\n",
        "      <th>10 </th>\n",
        "      <td> #10357</td>\n",
        "      <td> unfulfilled</td>\n",
        "      <td> 2015-12-23</td>\n",
        "      <td> 1</td>\n",
        "      <td> 1</td>\n",
        "    </tr>\n",
        "    <tr>\n",
        "      <th>11 </th>\n",
        "      <td> #10356</td>\n",
        "      <td> unfulfilled</td>\n",
        "      <td> 2015-12-23</td>\n",
        "      <td> 1</td>\n",
        "      <td> 1</td>\n",
        "    </tr>\n",
        "    <tr>\n",
        "      <th>12 </th>\n",
        "      <td> #10355</td>\n",
        "      <td> unfulfilled</td>\n",
        "      <td> 2015-12-23</td>\n",
        "      <td> 1</td>\n",
        "      <td> 1</td>\n",
        "    </tr>\n",
        "    <tr>\n",
        "      <th>13 </th>\n",
        "      <td> #10354</td>\n",
        "      <td> unfulfilled</td>\n",
        "      <td> 2015-12-23</td>\n",
        "      <td> 1</td>\n",
        "      <td> 1</td>\n",
        "    </tr>\n",
        "    <tr>\n",
        "      <th>14 </th>\n",
        "      <td> #10353</td>\n",
        "      <td> unfulfilled</td>\n",
        "      <td> 2015-12-23</td>\n",
        "      <td> 1</td>\n",
        "      <td> 1</td>\n",
        "    </tr>\n",
        "    <tr>\n",
        "      <th>15 </th>\n",
        "      <td> #10352</td>\n",
        "      <td> unfulfilled</td>\n",
        "      <td> 2015-12-23</td>\n",
        "      <td> 1</td>\n",
        "      <td> 1</td>\n",
        "    </tr>\n",
        "    <tr>\n",
        "      <th>16 </th>\n",
        "      <td> #10351</td>\n",
        "      <td> unfulfilled</td>\n",
        "      <td> 2015-12-23</td>\n",
        "      <td> 1</td>\n",
        "      <td> 1</td>\n",
        "    </tr>\n",
        "    <tr>\n",
        "      <th>17 </th>\n",
        "      <td> #10350</td>\n",
        "      <td> unfulfilled</td>\n",
        "      <td> 2015-12-23</td>\n",
        "      <td> 1</td>\n",
        "      <td> 1</td>\n",
        "    </tr>\n",
        "    <tr>\n",
        "      <th>18 </th>\n",
        "      <td> #10349</td>\n",
        "      <td> unfulfilled</td>\n",
        "      <td> 2015-12-22</td>\n",
        "      <td> 1</td>\n",
        "      <td> 1</td>\n",
        "    </tr>\n",
        "    <tr>\n",
        "      <th>19 </th>\n",
        "      <td> #10348</td>\n",
        "      <td> unfulfilled</td>\n",
        "      <td> 2015-12-22</td>\n",
        "      <td> 1</td>\n",
        "      <td> 1</td>\n",
        "    </tr>\n",
        "    <tr>\n",
        "      <th>20 </th>\n",
        "      <td> #10347</td>\n",
        "      <td> unfulfilled</td>\n",
        "      <td> 2015-12-22</td>\n",
        "      <td> 1</td>\n",
        "      <td> 1</td>\n",
        "    </tr>\n",
        "    <tr>\n",
        "      <th>21 </th>\n",
        "      <td> #10346</td>\n",
        "      <td> unfulfilled</td>\n",
        "      <td> 2015-12-22</td>\n",
        "      <td> 1</td>\n",
        "      <td> 1</td>\n",
        "    </tr>\n",
        "    <tr>\n",
        "      <th>22 </th>\n",
        "      <td> #10345</td>\n",
        "      <td> unfulfilled</td>\n",
        "      <td> 2015-12-22</td>\n",
        "      <td> 1</td>\n",
        "      <td> 1</td>\n",
        "    </tr>\n",
        "    <tr>\n",
        "      <th>23 </th>\n",
        "      <td> #10344</td>\n",
        "      <td> unfulfilled</td>\n",
        "      <td> 2015-12-22</td>\n",
        "      <td> 1</td>\n",
        "      <td> 1</td>\n",
        "    </tr>\n",
        "    <tr>\n",
        "      <th>24 </th>\n",
        "      <td> #10343</td>\n",
        "      <td> unfulfilled</td>\n",
        "      <td> 2015-12-22</td>\n",
        "      <td> 1</td>\n",
        "      <td> 1</td>\n",
        "    </tr>\n",
        "    <tr>\n",
        "      <th>25 </th>\n",
        "      <td> #10342</td>\n",
        "      <td> unfulfilled</td>\n",
        "      <td> 2015-12-22</td>\n",
        "      <td> 1</td>\n",
        "      <td> 1</td>\n",
        "    </tr>\n",
        "    <tr>\n",
        "      <th>26 </th>\n",
        "      <td> #10341</td>\n",
        "      <td> unfulfilled</td>\n",
        "      <td> 2015-12-22</td>\n",
        "      <td> 1</td>\n",
        "      <td> 1</td>\n",
        "    </tr>\n",
        "    <tr>\n",
        "      <th>27 </th>\n",
        "      <td> #10340</td>\n",
        "      <td> unfulfilled</td>\n",
        "      <td> 2015-12-22</td>\n",
        "      <td> 1</td>\n",
        "      <td> 1</td>\n",
        "    </tr>\n",
        "    <tr>\n",
        "      <th>28 </th>\n",
        "      <td> #10339</td>\n",
        "      <td> unfulfilled</td>\n",
        "      <td> 2015-12-22</td>\n",
        "      <td> 1</td>\n",
        "      <td> 1</td>\n",
        "    </tr>\n",
        "    <tr>\n",
        "      <th>29 </th>\n",
        "      <td> #10338</td>\n",
        "      <td> unfulfilled</td>\n",
        "      <td> 2015-12-22</td>\n",
        "      <td> 1</td>\n",
        "      <td> 1</td>\n",
        "    </tr>\n",
        "    <tr>\n",
        "      <th>...</th>\n",
        "      <td>...</td>\n",
        "      <td>...</td>\n",
        "      <td>...</td>\n",
        "      <td>...</td>\n",
        "      <td>...</td>\n",
        "    </tr>\n",
        "    <tr>\n",
        "      <th>91 </th>\n",
        "      <td> #10276</td>\n",
        "      <td> unfulfilled</td>\n",
        "      <td> 2015-12-19</td>\n",
        "      <td> 1</td>\n",
        "      <td> 1</td>\n",
        "    </tr>\n",
        "    <tr>\n",
        "      <th>92 </th>\n",
        "      <td> #10275</td>\n",
        "      <td> unfulfilled</td>\n",
        "      <td> 2015-12-19</td>\n",
        "      <td> 1</td>\n",
        "      <td> 1</td>\n",
        "    </tr>\n",
        "    <tr>\n",
        "      <th>93 </th>\n",
        "      <td> #10274</td>\n",
        "      <td> unfulfilled</td>\n",
        "      <td> 2015-12-18</td>\n",
        "      <td> 1</td>\n",
        "      <td> 1</td>\n",
        "    </tr>\n",
        "    <tr>\n",
        "      <th>94 </th>\n",
        "      <td> #10273</td>\n",
        "      <td> unfulfilled</td>\n",
        "      <td> 2015-12-18</td>\n",
        "      <td> 1</td>\n",
        "      <td> 1</td>\n",
        "    </tr>\n",
        "    <tr>\n",
        "      <th>95 </th>\n",
        "      <td> #10272</td>\n",
        "      <td> unfulfilled</td>\n",
        "      <td> 2015-12-18</td>\n",
        "      <td> 1</td>\n",
        "      <td> 1</td>\n",
        "    </tr>\n",
        "    <tr>\n",
        "      <th>96 </th>\n",
        "      <td> #10271</td>\n",
        "      <td> unfulfilled</td>\n",
        "      <td> 2015-12-18</td>\n",
        "      <td> 1</td>\n",
        "      <td> 1</td>\n",
        "    </tr>\n",
        "    <tr>\n",
        "      <th>97 </th>\n",
        "      <td> #10270</td>\n",
        "      <td>   fulfilled</td>\n",
        "      <td> 2015-12-18</td>\n",
        "      <td> 1</td>\n",
        "      <td> 0</td>\n",
        "    </tr>\n",
        "    <tr>\n",
        "      <th>98 </th>\n",
        "      <td> #10269</td>\n",
        "      <td>   fulfilled</td>\n",
        "      <td> 2015-12-18</td>\n",
        "      <td> 1</td>\n",
        "      <td> 0</td>\n",
        "    </tr>\n",
        "    <tr>\n",
        "      <th>99 </th>\n",
        "      <td> #10268</td>\n",
        "      <td>   fulfilled</td>\n",
        "      <td> 2015-12-18</td>\n",
        "      <td> 1</td>\n",
        "      <td> 0</td>\n",
        "    </tr>\n",
        "    <tr>\n",
        "      <th>100</th>\n",
        "      <td> #10267</td>\n",
        "      <td>   fulfilled</td>\n",
        "      <td> 2015-12-18</td>\n",
        "      <td> 1</td>\n",
        "      <td> 0</td>\n",
        "    </tr>\n",
        "    <tr>\n",
        "      <th>101</th>\n",
        "      <td> #10266</td>\n",
        "      <td>   fulfilled</td>\n",
        "      <td> 2015-12-18</td>\n",
        "      <td> 1</td>\n",
        "      <td> 0</td>\n",
        "    </tr>\n",
        "    <tr>\n",
        "      <th>102</th>\n",
        "      <td> #10265</td>\n",
        "      <td> unfulfilled</td>\n",
        "      <td> 2015-12-18</td>\n",
        "      <td> 1</td>\n",
        "      <td> 1</td>\n",
        "    </tr>\n",
        "    <tr>\n",
        "      <th>103</th>\n",
        "      <td> #10264</td>\n",
        "      <td> unfulfilled</td>\n",
        "      <td> 2015-12-18</td>\n",
        "      <td> 1</td>\n",
        "      <td> 1</td>\n",
        "    </tr>\n",
        "    <tr>\n",
        "      <th>104</th>\n",
        "      <td> #10263</td>\n",
        "      <td> unfulfilled</td>\n",
        "      <td> 2015-12-18</td>\n",
        "      <td> 1</td>\n",
        "      <td> 1</td>\n",
        "    </tr>\n",
        "    <tr>\n",
        "      <th>105</th>\n",
        "      <td> #10262</td>\n",
        "      <td> unfulfilled</td>\n",
        "      <td> 2015-12-18</td>\n",
        "      <td> 1</td>\n",
        "      <td> 1</td>\n",
        "    </tr>\n",
        "    <tr>\n",
        "      <th>106</th>\n",
        "      <td> #10261</td>\n",
        "      <td> unfulfilled</td>\n",
        "      <td> 2015-12-18</td>\n",
        "      <td> 1</td>\n",
        "      <td> 1</td>\n",
        "    </tr>\n",
        "    <tr>\n",
        "      <th>107</th>\n",
        "      <td> #10260</td>\n",
        "      <td>   fulfilled</td>\n",
        "      <td> 2015-12-18</td>\n",
        "      <td> 1</td>\n",
        "      <td> 0</td>\n",
        "    </tr>\n",
        "    <tr>\n",
        "      <th>108</th>\n",
        "      <td> #10259</td>\n",
        "      <td>   fulfilled</td>\n",
        "      <td> 2015-12-17</td>\n",
        "      <td> 1</td>\n",
        "      <td> 0</td>\n",
        "    </tr>\n",
        "    <tr>\n",
        "      <th>109</th>\n",
        "      <td> #10258</td>\n",
        "      <td>   fulfilled</td>\n",
        "      <td> 2015-12-17</td>\n",
        "      <td> 1</td>\n",
        "      <td> 0</td>\n",
        "    </tr>\n",
        "    <tr>\n",
        "      <th>110</th>\n",
        "      <td> #10257</td>\n",
        "      <td> unfulfilled</td>\n",
        "      <td> 2015-12-17</td>\n",
        "      <td> 1</td>\n",
        "      <td> 1</td>\n",
        "    </tr>\n",
        "    <tr>\n",
        "      <th>111</th>\n",
        "      <td> #10256</td>\n",
        "      <td> unfulfilled</td>\n",
        "      <td> 2015-12-17</td>\n",
        "      <td> 1</td>\n",
        "      <td> 1</td>\n",
        "    </tr>\n",
        "    <tr>\n",
        "      <th>112</th>\n",
        "      <td> #10255</td>\n",
        "      <td>   fulfilled</td>\n",
        "      <td> 2015-12-17</td>\n",
        "      <td> 1</td>\n",
        "      <td> 0</td>\n",
        "    </tr>\n",
        "    <tr>\n",
        "      <th>113</th>\n",
        "      <td> #10254</td>\n",
        "      <td>   fulfilled</td>\n",
        "      <td> 2015-12-17</td>\n",
        "      <td> 1</td>\n",
        "      <td> 0</td>\n",
        "    </tr>\n",
        "    <tr>\n",
        "      <th>114</th>\n",
        "      <td> #10253</td>\n",
        "      <td> unfulfilled</td>\n",
        "      <td> 2015-12-17</td>\n",
        "      <td> 1</td>\n",
        "      <td> 1</td>\n",
        "    </tr>\n",
        "    <tr>\n",
        "      <th>115</th>\n",
        "      <td> #10252</td>\n",
        "      <td>   fulfilled</td>\n",
        "      <td> 2015-12-17</td>\n",
        "      <td> 1</td>\n",
        "      <td> 0</td>\n",
        "    </tr>\n",
        "    <tr>\n",
        "      <th>116</th>\n",
        "      <td> #10251</td>\n",
        "      <td>   fulfilled</td>\n",
        "      <td> 2015-12-17</td>\n",
        "      <td> 1</td>\n",
        "      <td> 0</td>\n",
        "    </tr>\n",
        "    <tr>\n",
        "      <th>117</th>\n",
        "      <td> #10250</td>\n",
        "      <td>   fulfilled</td>\n",
        "      <td> 2015-12-17</td>\n",
        "      <td> 1</td>\n",
        "      <td> 0</td>\n",
        "    </tr>\n",
        "    <tr>\n",
        "      <th>118</th>\n",
        "      <td> #10249</td>\n",
        "      <td> unfulfilled</td>\n",
        "      <td> 2015-12-17</td>\n",
        "      <td> 1</td>\n",
        "      <td> 1</td>\n",
        "    </tr>\n",
        "    <tr>\n",
        "      <th>119</th>\n",
        "      <td> #10248</td>\n",
        "      <td>   fulfilled</td>\n",
        "      <td> 2015-12-17</td>\n",
        "      <td> 1</td>\n",
        "      <td> 0</td>\n",
        "    </tr>\n",
        "    <tr>\n",
        "      <th>120</th>\n",
        "      <td> #10247</td>\n",
        "      <td>     partial</td>\n",
        "      <td> 2015-12-17</td>\n",
        "      <td> 1</td>\n",
        "      <td> 0</td>\n",
        "    </tr>\n",
        "  </tbody>\n",
        "</table>\n",
        "<p>121 rows \u00d7 5 columns</p>\n",
        "</div>"
       ],
       "metadata": {},
       "output_type": "pyout",
       "prompt_number": 5,
       "text": [
        "       Name Fulfillment Status  Created at  All  Unfulfilled\n",
        "0    #10367        unfulfilled  2015-12-23    1            1\n",
        "1    #10366        unfulfilled  2015-12-23    1            1\n",
        "2    #10365        unfulfilled  2015-12-23    1            1\n",
        "3    #10364        unfulfilled  2015-12-23    1            1\n",
        "4    #10363        unfulfilled  2015-12-23    1            1\n",
        "5    #10362        unfulfilled  2015-12-23    1            1\n",
        "6    #10361        unfulfilled  2015-12-23    1            1\n",
        "7    #10360        unfulfilled  2015-12-23    1            1\n",
        "8    #10359        unfulfilled  2015-12-23    1            1\n",
        "9    #10358        unfulfilled  2015-12-23    1            1\n",
        "10   #10357        unfulfilled  2015-12-23    1            1\n",
        "11   #10356        unfulfilled  2015-12-23    1            1\n",
        "12   #10355        unfulfilled  2015-12-23    1            1\n",
        "13   #10354        unfulfilled  2015-12-23    1            1\n",
        "14   #10353        unfulfilled  2015-12-23    1            1\n",
        "15   #10352        unfulfilled  2015-12-23    1            1\n",
        "16   #10351        unfulfilled  2015-12-23    1            1\n",
        "17   #10350        unfulfilled  2015-12-23    1            1\n",
        "18   #10349        unfulfilled  2015-12-22    1            1\n",
        "19   #10348        unfulfilled  2015-12-22    1            1\n",
        "20   #10347        unfulfilled  2015-12-22    1            1\n",
        "21   #10346        unfulfilled  2015-12-22    1            1\n",
        "22   #10345        unfulfilled  2015-12-22    1            1\n",
        "23   #10344        unfulfilled  2015-12-22    1            1\n",
        "24   #10343        unfulfilled  2015-12-22    1            1\n",
        "25   #10342        unfulfilled  2015-12-22    1            1\n",
        "26   #10341        unfulfilled  2015-12-22    1            1\n",
        "27   #10340        unfulfilled  2015-12-22    1            1\n",
        "28   #10339        unfulfilled  2015-12-22    1            1\n",
        "29   #10338        unfulfilled  2015-12-22    1            1\n",
        "..      ...                ...         ...  ...          ...\n",
        "91   #10276        unfulfilled  2015-12-19    1            1\n",
        "92   #10275        unfulfilled  2015-12-19    1            1\n",
        "93   #10274        unfulfilled  2015-12-18    1            1\n",
        "94   #10273        unfulfilled  2015-12-18    1            1\n",
        "95   #10272        unfulfilled  2015-12-18    1            1\n",
        "96   #10271        unfulfilled  2015-12-18    1            1\n",
        "97   #10270          fulfilled  2015-12-18    1            0\n",
        "98   #10269          fulfilled  2015-12-18    1            0\n",
        "99   #10268          fulfilled  2015-12-18    1            0\n",
        "100  #10267          fulfilled  2015-12-18    1            0\n",
        "101  #10266          fulfilled  2015-12-18    1            0\n",
        "102  #10265        unfulfilled  2015-12-18    1            1\n",
        "103  #10264        unfulfilled  2015-12-18    1            1\n",
        "104  #10263        unfulfilled  2015-12-18    1            1\n",
        "105  #10262        unfulfilled  2015-12-18    1            1\n",
        "106  #10261        unfulfilled  2015-12-18    1            1\n",
        "107  #10260          fulfilled  2015-12-18    1            0\n",
        "108  #10259          fulfilled  2015-12-17    1            0\n",
        "109  #10258          fulfilled  2015-12-17    1            0\n",
        "110  #10257        unfulfilled  2015-12-17    1            1\n",
        "111  #10256        unfulfilled  2015-12-17    1            1\n",
        "112  #10255          fulfilled  2015-12-17    1            0\n",
        "113  #10254          fulfilled  2015-12-17    1            0\n",
        "114  #10253        unfulfilled  2015-12-17    1            1\n",
        "115  #10252          fulfilled  2015-12-17    1            0\n",
        "116  #10251          fulfilled  2015-12-17    1            0\n",
        "117  #10250          fulfilled  2015-12-17    1            0\n",
        "118  #10249        unfulfilled  2015-12-17    1            1\n",
        "119  #10248          fulfilled  2015-12-17    1            0\n",
        "120  #10247            partial  2015-12-17    1            0\n",
        "\n",
        "[121 rows x 5 columns]"
       ]
      }
     ],
     "prompt_number": 5
    },
    {
     "cell_type": "code",
     "collapsed": false,
     "input": [
      "df2 = df2.groupby(['Created at'], axis=0, as_index=False).sum() #count total unfulfilled orders\n",
      "df2['% Unfulfilled'] = df2.apply(lambda x: x['Unfulfilled']*100/float(x['All']), axis = 1)\n",
      "df2"
     ],
     "language": "python",
     "metadata": {},
     "outputs": [
      {
       "html": [
        "<div style=\"max-height:1000px;max-width:1500px;overflow:auto;\">\n",
        "<table border=\"1\" class=\"dataframe\">\n",
        "  <thead>\n",
        "    <tr style=\"text-align: right;\">\n",
        "      <th></th>\n",
        "      <th>Created at</th>\n",
        "      <th>All</th>\n",
        "      <th>Unfulfilled</th>\n",
        "      <th>% Unfulfilled</th>\n",
        "    </tr>\n",
        "  </thead>\n",
        "  <tbody>\n",
        "    <tr>\n",
        "      <th>0</th>\n",
        "      <td> 2015-12-17</td>\n",
        "      <td> 13</td>\n",
        "      <td>  4</td>\n",
        "      <td>  30.769231</td>\n",
        "    </tr>\n",
        "    <tr>\n",
        "      <th>1</th>\n",
        "      <td> 2015-12-18</td>\n",
        "      <td> 15</td>\n",
        "      <td>  9</td>\n",
        "      <td>  60.000000</td>\n",
        "    </tr>\n",
        "    <tr>\n",
        "      <th>2</th>\n",
        "      <td> 2015-12-19</td>\n",
        "      <td> 15</td>\n",
        "      <td> 15</td>\n",
        "      <td> 100.000000</td>\n",
        "    </tr>\n",
        "    <tr>\n",
        "      <th>3</th>\n",
        "      <td> 2015-12-20</td>\n",
        "      <td> 18</td>\n",
        "      <td> 18</td>\n",
        "      <td> 100.000000</td>\n",
        "    </tr>\n",
        "    <tr>\n",
        "      <th>4</th>\n",
        "      <td> 2015-12-21</td>\n",
        "      <td> 25</td>\n",
        "      <td> 25</td>\n",
        "      <td> 100.000000</td>\n",
        "    </tr>\n",
        "    <tr>\n",
        "      <th>5</th>\n",
        "      <td> 2015-12-22</td>\n",
        "      <td> 17</td>\n",
        "      <td> 17</td>\n",
        "      <td> 100.000000</td>\n",
        "    </tr>\n",
        "    <tr>\n",
        "      <th>6</th>\n",
        "      <td> 2015-12-23</td>\n",
        "      <td> 18</td>\n",
        "      <td> 18</td>\n",
        "      <td> 100.000000</td>\n",
        "    </tr>\n",
        "  </tbody>\n",
        "</table>\n",
        "</div>"
       ],
       "metadata": {},
       "output_type": "pyout",
       "prompt_number": 6,
       "text": [
        "   Created at  All  Unfulfilled  % Unfulfilled\n",
        "0  2015-12-17   13            4      30.769231\n",
        "1  2015-12-18   15            9      60.000000\n",
        "2  2015-12-19   15           15     100.000000\n",
        "3  2015-12-20   18           18     100.000000\n",
        "4  2015-12-21   25           25     100.000000\n",
        "5  2015-12-22   17           17     100.000000\n",
        "6  2015-12-23   18           18     100.000000"
       ]
      }
     ],
     "prompt_number": 6
    },
    {
     "cell_type": "code",
     "collapsed": false,
     "input": [],
     "language": "python",
     "metadata": {},
     "outputs": []
    }
   ],
   "metadata": {}
  }
 ]
}
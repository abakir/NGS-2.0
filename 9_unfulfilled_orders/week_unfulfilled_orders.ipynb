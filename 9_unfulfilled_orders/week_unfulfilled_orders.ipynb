{
 "metadata": {
  "name": "",
  "signature": "sha256:229501176be4f9af0c54c3cc12e6636dc8a1daf9d7fcd4fdd3532705084b2c1f"
 },
 "nbformat": 3,
 "nbformat_minor": 0,
 "worksheets": [
  {
   "cells": [
    {
     "cell_type": "code",
     "collapsed": false,
     "input": [
      "import pandas as pd\n",
      "import re\n",
      "from datetime import datetime\n",
      "import datetime as DT\n",
      "#import yaml\n",
      "\n",
      "#with open(\"config.yaml\", 'r') as ymlfile:\n",
      "#        cfg = yaml.load(ymlfile)\n",
      "\n",
      "#df = pd.read_csv(cfg['root']+cfg['dir_data_shopify']+cfg[\"ip_orders\"], low_memory=False)\n",
      "df = pd.read_csv('C:\\Users\\saisree849\\Documents\\GitHub\\NGS-2.0\\data_input\\shopify\\orders_export.csv', low_memory=False)"
     ],
     "language": "python",
     "metadata": {},
     "outputs": [],
     "prompt_number": 7
    },
    {
     "cell_type": "code",
     "collapsed": false,
     "input": [
      "df = df[['Name', 'Fulfillment Status', 'Created at']]\n",
      "\n",
      "#get date\n",
      "def getDate(data):\n",
      "    matchobj = re.match(r'(.*) (.*) (.*).*',data)\n",
      "    return matchobj.group(1)\n",
      "df.loc[:, 'Created at'] = df.apply(lambda x: getDate(x['Created at']), axis=1)\n",
      "df.head()"
     ],
     "language": "python",
     "metadata": {},
     "outputs": [
      {
       "html": [
        "<div style=\"max-height:1000px;max-width:1500px;overflow:auto;\">\n",
        "<table border=\"1\" class=\"dataframe\">\n",
        "  <thead>\n",
        "    <tr style=\"text-align: right;\">\n",
        "      <th></th>\n",
        "      <th>Name</th>\n",
        "      <th>Fulfillment Status</th>\n",
        "      <th>Created at</th>\n",
        "    </tr>\n",
        "  </thead>\n",
        "  <tbody>\n",
        "    <tr>\n",
        "      <th>0</th>\n",
        "      <td> #10367</td>\n",
        "      <td> unfulfilled</td>\n",
        "      <td> 2015-12-23</td>\n",
        "    </tr>\n",
        "    <tr>\n",
        "      <th>1</th>\n",
        "      <td> #10367</td>\n",
        "      <td>         NaN</td>\n",
        "      <td> 2015-12-23</td>\n",
        "    </tr>\n",
        "    <tr>\n",
        "      <th>2</th>\n",
        "      <td> #10367</td>\n",
        "      <td>         NaN</td>\n",
        "      <td> 2015-12-23</td>\n",
        "    </tr>\n",
        "    <tr>\n",
        "      <th>3</th>\n",
        "      <td> #10366</td>\n",
        "      <td> unfulfilled</td>\n",
        "      <td> 2015-12-23</td>\n",
        "    </tr>\n",
        "    <tr>\n",
        "      <th>4</th>\n",
        "      <td> #10366</td>\n",
        "      <td>         NaN</td>\n",
        "      <td> 2015-12-23</td>\n",
        "    </tr>\n",
        "  </tbody>\n",
        "</table>\n",
        "</div>"
       ],
       "metadata": {},
       "output_type": "pyout",
       "prompt_number": 8,
       "text": [
        "     Name Fulfillment Status  Created at\n",
        "0  #10367        unfulfilled  2015-12-23\n",
        "1  #10367                NaN  2015-12-23\n",
        "2  #10367                NaN  2015-12-23\n",
        "3  #10366        unfulfilled  2015-12-23\n",
        "4  #10366                NaN  2015-12-23"
       ]
      }
     ],
     "prompt_number": 8
    },
    {
     "cell_type": "code",
     "collapsed": false,
     "input": [
      "#take last item of the total order\n",
      "df1 = df.drop_duplicates('Name', take_last=False).reset_index().drop('index', 1)\n",
      "df1.head()"
     ],
     "language": "python",
     "metadata": {},
     "outputs": [
      {
       "html": [
        "<div style=\"max-height:1000px;max-width:1500px;overflow:auto;\">\n",
        "<table border=\"1\" class=\"dataframe\">\n",
        "  <thead>\n",
        "    <tr style=\"text-align: right;\">\n",
        "      <th></th>\n",
        "      <th>Name</th>\n",
        "      <th>Fulfillment Status</th>\n",
        "      <th>Created at</th>\n",
        "    </tr>\n",
        "  </thead>\n",
        "  <tbody>\n",
        "    <tr>\n",
        "      <th>0</th>\n",
        "      <td> #10367</td>\n",
        "      <td> unfulfilled</td>\n",
        "      <td> 2015-12-23</td>\n",
        "    </tr>\n",
        "    <tr>\n",
        "      <th>1</th>\n",
        "      <td> #10366</td>\n",
        "      <td> unfulfilled</td>\n",
        "      <td> 2015-12-23</td>\n",
        "    </tr>\n",
        "    <tr>\n",
        "      <th>2</th>\n",
        "      <td> #10365</td>\n",
        "      <td> unfulfilled</td>\n",
        "      <td> 2015-12-23</td>\n",
        "    </tr>\n",
        "    <tr>\n",
        "      <th>3</th>\n",
        "      <td> #10364</td>\n",
        "      <td> unfulfilled</td>\n",
        "      <td> 2015-12-23</td>\n",
        "    </tr>\n",
        "    <tr>\n",
        "      <th>4</th>\n",
        "      <td> #10363</td>\n",
        "      <td> unfulfilled</td>\n",
        "      <td> 2015-12-23</td>\n",
        "    </tr>\n",
        "  </tbody>\n",
        "</table>\n",
        "</div>"
       ],
       "metadata": {},
       "output_type": "pyout",
       "prompt_number": 9,
       "text": [
        "     Name Fulfillment Status  Created at\n",
        "0  #10367        unfulfilled  2015-12-23\n",
        "1  #10366        unfulfilled  2015-12-23\n",
        "2  #10365        unfulfilled  2015-12-23\n",
        "3  #10364        unfulfilled  2015-12-23\n",
        "4  #10363        unfulfilled  2015-12-23"
       ]
      }
     ],
     "prompt_number": 9
    },
    {
     "cell_type": "code",
     "collapsed": false,
     "input": [
      "#get todays date\n",
      "today = DT.date.today()\n",
      "dt = today - DT.timedelta(days=8) #Wednesday date\n",
      "df1.loc[:, 'Yes'] = df1.apply(lambda x: datetime.strptime(x['Created at'], '%Y-%m-%d').date() > dt, axis = 1) #update rows by comparing dates\n",
      "\n",
      "df2 = df1.loc[df1['Yes'] == True] #get orders within last week\n",
      "df2.head()"
     ],
     "language": "python",
     "metadata": {},
     "outputs": [
      {
       "html": [
        "<div style=\"max-height:1000px;max-width:1500px;overflow:auto;\">\n",
        "<table border=\"1\" class=\"dataframe\">\n",
        "  <thead>\n",
        "    <tr style=\"text-align: right;\">\n",
        "      <th></th>\n",
        "      <th>Name</th>\n",
        "      <th>Fulfillment Status</th>\n",
        "      <th>Created at</th>\n",
        "      <th>Yes</th>\n",
        "    </tr>\n",
        "  </thead>\n",
        "  <tbody>\n",
        "    <tr>\n",
        "      <th>0</th>\n",
        "      <td> #10367</td>\n",
        "      <td> unfulfilled</td>\n",
        "      <td> 2015-12-23</td>\n",
        "      <td> True</td>\n",
        "    </tr>\n",
        "    <tr>\n",
        "      <th>1</th>\n",
        "      <td> #10366</td>\n",
        "      <td> unfulfilled</td>\n",
        "      <td> 2015-12-23</td>\n",
        "      <td> True</td>\n",
        "    </tr>\n",
        "    <tr>\n",
        "      <th>2</th>\n",
        "      <td> #10365</td>\n",
        "      <td> unfulfilled</td>\n",
        "      <td> 2015-12-23</td>\n",
        "      <td> True</td>\n",
        "    </tr>\n",
        "    <tr>\n",
        "      <th>3</th>\n",
        "      <td> #10364</td>\n",
        "      <td> unfulfilled</td>\n",
        "      <td> 2015-12-23</td>\n",
        "      <td> True</td>\n",
        "    </tr>\n",
        "    <tr>\n",
        "      <th>4</th>\n",
        "      <td> #10363</td>\n",
        "      <td> unfulfilled</td>\n",
        "      <td> 2015-12-23</td>\n",
        "      <td> True</td>\n",
        "    </tr>\n",
        "  </tbody>\n",
        "</table>\n",
        "</div>"
       ],
       "metadata": {},
       "output_type": "pyout",
       "prompt_number": 10,
       "text": [
        "     Name Fulfillment Status  Created at   Yes\n",
        "0  #10367        unfulfilled  2015-12-23  True\n",
        "1  #10366        unfulfilled  2015-12-23  True\n",
        "2  #10365        unfulfilled  2015-12-23  True\n",
        "3  #10364        unfulfilled  2015-12-23  True\n",
        "4  #10363        unfulfilled  2015-12-23  True"
       ]
      }
     ],
     "prompt_number": 10
    },
    {
     "cell_type": "code",
     "collapsed": false,
     "input": [
      "df2 = df2[['Name', 'Fulfillment Status', 'Created at']]\n",
      "\n",
      "df2.loc[:, 'All'] = 1\n",
      "df2.loc[:, 'Unfulfilled'] = df2.apply(lambda x: 1 if x['Fulfillment Status'] == 'unfulfilled' else 0 , axis = 1) #update column based on fulfillement status\n",
      "df2.head()"
     ],
     "language": "python",
     "metadata": {},
     "outputs": [
      {
       "html": [
        "<div style=\"max-height:1000px;max-width:1500px;overflow:auto;\">\n",
        "<table border=\"1\" class=\"dataframe\">\n",
        "  <thead>\n",
        "    <tr style=\"text-align: right;\">\n",
        "      <th></th>\n",
        "      <th>Name</th>\n",
        "      <th>Fulfillment Status</th>\n",
        "      <th>Created at</th>\n",
        "      <th>All</th>\n",
        "      <th>Unfulfilled</th>\n",
        "    </tr>\n",
        "  </thead>\n",
        "  <tbody>\n",
        "    <tr>\n",
        "      <th>0</th>\n",
        "      <td> #10367</td>\n",
        "      <td> unfulfilled</td>\n",
        "      <td> 2015-12-23</td>\n",
        "      <td> 1</td>\n",
        "      <td> 1</td>\n",
        "    </tr>\n",
        "    <tr>\n",
        "      <th>1</th>\n",
        "      <td> #10366</td>\n",
        "      <td> unfulfilled</td>\n",
        "      <td> 2015-12-23</td>\n",
        "      <td> 1</td>\n",
        "      <td> 1</td>\n",
        "    </tr>\n",
        "    <tr>\n",
        "      <th>2</th>\n",
        "      <td> #10365</td>\n",
        "      <td> unfulfilled</td>\n",
        "      <td> 2015-12-23</td>\n",
        "      <td> 1</td>\n",
        "      <td> 1</td>\n",
        "    </tr>\n",
        "    <tr>\n",
        "      <th>3</th>\n",
        "      <td> #10364</td>\n",
        "      <td> unfulfilled</td>\n",
        "      <td> 2015-12-23</td>\n",
        "      <td> 1</td>\n",
        "      <td> 1</td>\n",
        "    </tr>\n",
        "    <tr>\n",
        "      <th>4</th>\n",
        "      <td> #10363</td>\n",
        "      <td> unfulfilled</td>\n",
        "      <td> 2015-12-23</td>\n",
        "      <td> 1</td>\n",
        "      <td> 1</td>\n",
        "    </tr>\n",
        "  </tbody>\n",
        "</table>\n",
        "</div>"
       ],
       "metadata": {},
       "output_type": "pyout",
       "prompt_number": 11,
       "text": [
        "     Name Fulfillment Status  Created at  All  Unfulfilled\n",
        "0  #10367        unfulfilled  2015-12-23    1            1\n",
        "1  #10366        unfulfilled  2015-12-23    1            1\n",
        "2  #10365        unfulfilled  2015-12-23    1            1\n",
        "3  #10364        unfulfilled  2015-12-23    1            1\n",
        "4  #10363        unfulfilled  2015-12-23    1            1"
       ]
      }
     ],
     "prompt_number": 11
    },
    {
     "cell_type": "code",
     "collapsed": false,
     "input": [
      "df2 = df2.groupby(['Created at'], axis=0, as_index=False).sum() #count total unfulfilled orders\n",
      "df2.loc[:, '% Unfulfilled'] = df2.apply(lambda x: x['Unfulfilled']*100/float(x['All']), axis = 1)\n",
      "df2.head()"
     ],
     "language": "python",
     "metadata": {},
     "outputs": [
      {
       "html": [
        "<div style=\"max-height:1000px;max-width:1500px;overflow:auto;\">\n",
        "<table border=\"1\" class=\"dataframe\">\n",
        "  <thead>\n",
        "    <tr style=\"text-align: right;\">\n",
        "      <th></th>\n",
        "      <th>Created at</th>\n",
        "      <th>All</th>\n",
        "      <th>Unfulfilled</th>\n",
        "      <th>% Unfulfilled</th>\n",
        "    </tr>\n",
        "  </thead>\n",
        "  <tbody>\n",
        "    <tr>\n",
        "      <th>0</th>\n",
        "      <td> 2015-12-22</td>\n",
        "      <td> 17</td>\n",
        "      <td> 17</td>\n",
        "      <td> 100</td>\n",
        "    </tr>\n",
        "    <tr>\n",
        "      <th>1</th>\n",
        "      <td> 2015-12-23</td>\n",
        "      <td> 18</td>\n",
        "      <td> 18</td>\n",
        "      <td> 100</td>\n",
        "    </tr>\n",
        "  </tbody>\n",
        "</table>\n",
        "</div>"
       ],
       "metadata": {},
       "output_type": "pyout",
       "prompt_number": 12,
       "text": [
        "   Created at  All  Unfulfilled  % Unfulfilled\n",
        "0  2015-12-22   17           17            100\n",
        "1  2015-12-23   18           18            100"
       ]
      }
     ],
     "prompt_number": 12
    },
    {
     "cell_type": "code",
     "collapsed": false,
     "input": [],
     "language": "python",
     "metadata": {},
     "outputs": []
    }
   ],
   "metadata": {}
  }
 ]
}
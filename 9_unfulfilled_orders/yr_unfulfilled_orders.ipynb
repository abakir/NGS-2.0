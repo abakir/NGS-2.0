{
 "metadata": {
  "name": "",
  "signature": "sha256:79187eefb91d69ae9de018d18aa038d613161104acbde1be6b8ae741b3562a82"
 },
 "nbformat": 3,
 "nbformat_minor": 0,
 "worksheets": [
  {
   "cells": [
    {
     "cell_type": "code",
     "collapsed": false,
     "input": [
      "import pandas as pd\n",
      "import re\n",
      "from datetime import datetime\n",
      "import datetime as DT\n",
      "#import yaml\n",
      "\n",
      "#with open(\"config.yaml\", 'r') as ymlfile:\n",
      "#        cfg = yaml.load(ymlfile)\n",
      "\n",
      "#df = pd.read_csv(cfg['root']+cfg['dir_data_shopify']+cfg[\"ip_orders\"], low_memory=False)\n",
      "df = pd.read_csv('C:\\Users\\saisree849\\Documents\\GitHub\\NGS-2.0\\data_input\\shopify\\orders_export.csv', low_memory=False)"
     ],
     "language": "python",
     "metadata": {},
     "outputs": [],
     "prompt_number": 1
    },
    {
     "cell_type": "code",
     "collapsed": false,
     "input": [
      "df = df[['Name', 'Fulfillment Status', 'Created at']]\n",
      "df.columns = ['Name', 'Fulfillment Status', 'Created']\n",
      "df.head()"
     ],
     "language": "python",
     "metadata": {},
     "outputs": [
      {
       "html": [
        "<div style=\"max-height:1000px;max-width:1500px;overflow:auto;\">\n",
        "<table border=\"1\" class=\"dataframe\">\n",
        "  <thead>\n",
        "    <tr style=\"text-align: right;\">\n",
        "      <th></th>\n",
        "      <th>Name</th>\n",
        "      <th>Fulfillment Status</th>\n",
        "      <th>Created</th>\n",
        "    </tr>\n",
        "  </thead>\n",
        "  <tbody>\n",
        "    <tr>\n",
        "      <th>0</th>\n",
        "      <td> #10367</td>\n",
        "      <td> unfulfilled</td>\n",
        "      <td> 2015-12-23 20:33:51 +0200</td>\n",
        "    </tr>\n",
        "    <tr>\n",
        "      <th>1</th>\n",
        "      <td> #10367</td>\n",
        "      <td>         NaN</td>\n",
        "      <td> 2015-12-23 20:33:51 +0200</td>\n",
        "    </tr>\n",
        "    <tr>\n",
        "      <th>2</th>\n",
        "      <td> #10367</td>\n",
        "      <td>         NaN</td>\n",
        "      <td> 2015-12-23 20:33:51 +0200</td>\n",
        "    </tr>\n",
        "    <tr>\n",
        "      <th>3</th>\n",
        "      <td> #10366</td>\n",
        "      <td> unfulfilled</td>\n",
        "      <td> 2015-12-23 20:00:17 +0200</td>\n",
        "    </tr>\n",
        "    <tr>\n",
        "      <th>4</th>\n",
        "      <td> #10366</td>\n",
        "      <td>         NaN</td>\n",
        "      <td> 2015-12-23 20:00:17 +0200</td>\n",
        "    </tr>\n",
        "  </tbody>\n",
        "</table>\n",
        "</div>"
       ],
       "metadata": {},
       "output_type": "pyout",
       "prompt_number": 2,
       "text": [
        "     Name Fulfillment Status                    Created\n",
        "0  #10367        unfulfilled  2015-12-23 20:33:51 +0200\n",
        "1  #10367                NaN  2015-12-23 20:33:51 +0200\n",
        "2  #10367                NaN  2015-12-23 20:33:51 +0200\n",
        "3  #10366        unfulfilled  2015-12-23 20:00:17 +0200\n",
        "4  #10366                NaN  2015-12-23 20:00:17 +0200"
       ]
      }
     ],
     "prompt_number": 2
    },
    {
     "cell_type": "code",
     "collapsed": false,
     "input": [
      "#get date\n",
      "def getDate(data):\n",
      "    matchobj = re.match(r'(.*) (.*) (.*).*',data)\n",
      "    return matchobj.group(1)\n",
      "\n",
      "#get month\n",
      "def getMonth(data):\n",
      "    matchobj = re.match(r'(.*)-(.*).*',data)\n",
      "    return matchobj.group(1)\n",
      "    \n",
      "df.loc[:, 'Created'] = df.Created.apply(getDate)\n",
      "df.head()"
     ],
     "language": "python",
     "metadata": {},
     "outputs": [
      {
       "html": [
        "<div style=\"max-height:1000px;max-width:1500px;overflow:auto;\">\n",
        "<table border=\"1\" class=\"dataframe\">\n",
        "  <thead>\n",
        "    <tr style=\"text-align: right;\">\n",
        "      <th></th>\n",
        "      <th>Name</th>\n",
        "      <th>Fulfillment Status</th>\n",
        "      <th>Created</th>\n",
        "    </tr>\n",
        "  </thead>\n",
        "  <tbody>\n",
        "    <tr>\n",
        "      <th>0</th>\n",
        "      <td> #10367</td>\n",
        "      <td> unfulfilled</td>\n",
        "      <td> 2015-12-23</td>\n",
        "    </tr>\n",
        "    <tr>\n",
        "      <th>1</th>\n",
        "      <td> #10367</td>\n",
        "      <td>         NaN</td>\n",
        "      <td> 2015-12-23</td>\n",
        "    </tr>\n",
        "    <tr>\n",
        "      <th>2</th>\n",
        "      <td> #10367</td>\n",
        "      <td>         NaN</td>\n",
        "      <td> 2015-12-23</td>\n",
        "    </tr>\n",
        "    <tr>\n",
        "      <th>3</th>\n",
        "      <td> #10366</td>\n",
        "      <td> unfulfilled</td>\n",
        "      <td> 2015-12-23</td>\n",
        "    </tr>\n",
        "    <tr>\n",
        "      <th>4</th>\n",
        "      <td> #10366</td>\n",
        "      <td>         NaN</td>\n",
        "      <td> 2015-12-23</td>\n",
        "    </tr>\n",
        "  </tbody>\n",
        "</table>\n",
        "</div>"
       ],
       "metadata": {},
       "output_type": "pyout",
       "prompt_number": 3,
       "text": [
        "     Name Fulfillment Status     Created\n",
        "0  #10367        unfulfilled  2015-12-23\n",
        "1  #10367                NaN  2015-12-23\n",
        "2  #10367                NaN  2015-12-23\n",
        "3  #10366        unfulfilled  2015-12-23\n",
        "4  #10366                NaN  2015-12-23"
       ]
      }
     ],
     "prompt_number": 3
    },
    {
     "cell_type": "code",
     "collapsed": false,
     "input": [
      "df1 = df.drop_duplicates('Name', take_last=False).reset_index().drop('index', 1)\n",
      "df1.head()"
     ],
     "language": "python",
     "metadata": {},
     "outputs": [
      {
       "html": [
        "<div style=\"max-height:1000px;max-width:1500px;overflow:auto;\">\n",
        "<table border=\"1\" class=\"dataframe\">\n",
        "  <thead>\n",
        "    <tr style=\"text-align: right;\">\n",
        "      <th></th>\n",
        "      <th>Name</th>\n",
        "      <th>Fulfillment Status</th>\n",
        "      <th>Created</th>\n",
        "    </tr>\n",
        "  </thead>\n",
        "  <tbody>\n",
        "    <tr>\n",
        "      <th>0</th>\n",
        "      <td> #10367</td>\n",
        "      <td> unfulfilled</td>\n",
        "      <td> 2015-12-23</td>\n",
        "    </tr>\n",
        "    <tr>\n",
        "      <th>1</th>\n",
        "      <td> #10366</td>\n",
        "      <td> unfulfilled</td>\n",
        "      <td> 2015-12-23</td>\n",
        "    </tr>\n",
        "    <tr>\n",
        "      <th>2</th>\n",
        "      <td> #10365</td>\n",
        "      <td> unfulfilled</td>\n",
        "      <td> 2015-12-23</td>\n",
        "    </tr>\n",
        "    <tr>\n",
        "      <th>3</th>\n",
        "      <td> #10364</td>\n",
        "      <td> unfulfilled</td>\n",
        "      <td> 2015-12-23</td>\n",
        "    </tr>\n",
        "    <tr>\n",
        "      <th>4</th>\n",
        "      <td> #10363</td>\n",
        "      <td> unfulfilled</td>\n",
        "      <td> 2015-12-23</td>\n",
        "    </tr>\n",
        "  </tbody>\n",
        "</table>\n",
        "</div>"
       ],
       "metadata": {},
       "output_type": "pyout",
       "prompt_number": 4,
       "text": [
        "     Name Fulfillment Status     Created\n",
        "0  #10367        unfulfilled  2015-12-23\n",
        "1  #10366        unfulfilled  2015-12-23\n",
        "2  #10365        unfulfilled  2015-12-23\n",
        "3  #10364        unfulfilled  2015-12-23\n",
        "4  #10363        unfulfilled  2015-12-23"
       ]
      }
     ],
     "prompt_number": 4
    },
    {
     "cell_type": "code",
     "collapsed": false,
     "input": [
      "today = DT.date.today() #today's date\n",
      "dt = today - DT.timedelta(days=1) #wednesday date\n",
      "dt1 = datetime.strptime('2015-01-01', '%Y-%m-%d').date() #1st day of year\n",
      "dt1"
     ],
     "language": "python",
     "metadata": {},
     "outputs": [
      {
       "metadata": {},
       "output_type": "pyout",
       "prompt_number": 5,
       "text": [
        "datetime.date(2015, 1, 1)"
       ]
      }
     ],
     "prompt_number": 5
    },
    {
     "cell_type": "code",
     "collapsed": false,
     "input": [
      "#update rows by comparing dates\n",
      "df1.loc[:, 'Yes'] = df1.apply(lambda x: (datetime.strptime(x['Created'], '%Y-%m-%d').date() <= dt) & (datetime.strptime(x['Created'], '%Y-%m-%d').date() >= dt1), axis = 1)\n",
      "\n",
      "df2 = df1.loc[df1['Yes'] == True] #get orders within last week\n",
      "df2.head()"
     ],
     "language": "python",
     "metadata": {},
     "outputs": [
      {
       "html": [
        "<div style=\"max-height:1000px;max-width:1500px;overflow:auto;\">\n",
        "<table border=\"1\" class=\"dataframe\">\n",
        "  <thead>\n",
        "    <tr style=\"text-align: right;\">\n",
        "      <th></th>\n",
        "      <th>Name</th>\n",
        "      <th>Fulfillment Status</th>\n",
        "      <th>Created</th>\n",
        "      <th>Yes</th>\n",
        "    </tr>\n",
        "  </thead>\n",
        "  <tbody>\n",
        "    <tr>\n",
        "      <th>0</th>\n",
        "      <td> #10367</td>\n",
        "      <td> unfulfilled</td>\n",
        "      <td> 2015-12-23</td>\n",
        "      <td> True</td>\n",
        "    </tr>\n",
        "    <tr>\n",
        "      <th>1</th>\n",
        "      <td> #10366</td>\n",
        "      <td> unfulfilled</td>\n",
        "      <td> 2015-12-23</td>\n",
        "      <td> True</td>\n",
        "    </tr>\n",
        "    <tr>\n",
        "      <th>2</th>\n",
        "      <td> #10365</td>\n",
        "      <td> unfulfilled</td>\n",
        "      <td> 2015-12-23</td>\n",
        "      <td> True</td>\n",
        "    </tr>\n",
        "    <tr>\n",
        "      <th>3</th>\n",
        "      <td> #10364</td>\n",
        "      <td> unfulfilled</td>\n",
        "      <td> 2015-12-23</td>\n",
        "      <td> True</td>\n",
        "    </tr>\n",
        "    <tr>\n",
        "      <th>4</th>\n",
        "      <td> #10363</td>\n",
        "      <td> unfulfilled</td>\n",
        "      <td> 2015-12-23</td>\n",
        "      <td> True</td>\n",
        "    </tr>\n",
        "  </tbody>\n",
        "</table>\n",
        "</div>"
       ],
       "metadata": {},
       "output_type": "pyout",
       "prompt_number": 6,
       "text": [
        "     Name Fulfillment Status     Created   Yes\n",
        "0  #10367        unfulfilled  2015-12-23  True\n",
        "1  #10366        unfulfilled  2015-12-23  True\n",
        "2  #10365        unfulfilled  2015-12-23  True\n",
        "3  #10364        unfulfilled  2015-12-23  True\n",
        "4  #10363        unfulfilled  2015-12-23  True"
       ]
      }
     ],
     "prompt_number": 6
    },
    {
     "cell_type": "code",
     "collapsed": false,
     "input": [
      "df2 = df2[['Name', 'Fulfillment Status', 'Created']]\n",
      "df2 = df2.reset_index().drop('index', 1)\n",
      "df2.loc[:, 'Created'] = df2.Created.apply(getMonth)    \n",
      "df2.loc[:, 'All'] = 1\n",
      "df2.loc[:, 'Unfulfilled'] = df2.apply(lambda x: 1 if x['Fulfillment Status'] == 'unfulfilled' else 0 , axis = 1) #update column based on fulfillement status\n",
      "df2.head()"
     ],
     "language": "python",
     "metadata": {},
     "outputs": [
      {
       "html": [
        "<div style=\"max-height:1000px;max-width:1500px;overflow:auto;\">\n",
        "<table border=\"1\" class=\"dataframe\">\n",
        "  <thead>\n",
        "    <tr style=\"text-align: right;\">\n",
        "      <th></th>\n",
        "      <th>Name</th>\n",
        "      <th>Fulfillment Status</th>\n",
        "      <th>Created</th>\n",
        "      <th>All</th>\n",
        "      <th>Unfulfilled</th>\n",
        "    </tr>\n",
        "  </thead>\n",
        "  <tbody>\n",
        "    <tr>\n",
        "      <th>0</th>\n",
        "      <td> #10367</td>\n",
        "      <td> unfulfilled</td>\n",
        "      <td> 2015-12</td>\n",
        "      <td> 1</td>\n",
        "      <td> 1</td>\n",
        "    </tr>\n",
        "    <tr>\n",
        "      <th>1</th>\n",
        "      <td> #10366</td>\n",
        "      <td> unfulfilled</td>\n",
        "      <td> 2015-12</td>\n",
        "      <td> 1</td>\n",
        "      <td> 1</td>\n",
        "    </tr>\n",
        "    <tr>\n",
        "      <th>2</th>\n",
        "      <td> #10365</td>\n",
        "      <td> unfulfilled</td>\n",
        "      <td> 2015-12</td>\n",
        "      <td> 1</td>\n",
        "      <td> 1</td>\n",
        "    </tr>\n",
        "    <tr>\n",
        "      <th>3</th>\n",
        "      <td> #10364</td>\n",
        "      <td> unfulfilled</td>\n",
        "      <td> 2015-12</td>\n",
        "      <td> 1</td>\n",
        "      <td> 1</td>\n",
        "    </tr>\n",
        "    <tr>\n",
        "      <th>4</th>\n",
        "      <td> #10363</td>\n",
        "      <td> unfulfilled</td>\n",
        "      <td> 2015-12</td>\n",
        "      <td> 1</td>\n",
        "      <td> 1</td>\n",
        "    </tr>\n",
        "  </tbody>\n",
        "</table>\n",
        "</div>"
       ],
       "metadata": {},
       "output_type": "pyout",
       "prompt_number": 7,
       "text": [
        "     Name Fulfillment Status  Created  All  Unfulfilled\n",
        "0  #10367        unfulfilled  2015-12    1            1\n",
        "1  #10366        unfulfilled  2015-12    1            1\n",
        "2  #10365        unfulfilled  2015-12    1            1\n",
        "3  #10364        unfulfilled  2015-12    1            1\n",
        "4  #10363        unfulfilled  2015-12    1            1"
       ]
      }
     ],
     "prompt_number": 7
    },
    {
     "cell_type": "code",
     "collapsed": false,
     "input": [
      "df2 = df2.groupby(['Created'], axis=0, as_index=False).sum() #count total unfulfilled orders\n",
      "df2.loc[:, '% Unfulfilled'] = df2.apply(lambda x: x['Unfulfilled']*100/float(x['All']), axis = 1)\n",
      "df2.head()"
     ],
     "language": "python",
     "metadata": {},
     "outputs": [
      {
       "html": [
        "<div style=\"max-height:1000px;max-width:1500px;overflow:auto;\">\n",
        "<table border=\"1\" class=\"dataframe\">\n",
        "  <thead>\n",
        "    <tr style=\"text-align: right;\">\n",
        "      <th></th>\n",
        "      <th>Created</th>\n",
        "      <th>All</th>\n",
        "      <th>Unfulfilled</th>\n",
        "      <th>% Unfulfilled</th>\n",
        "    </tr>\n",
        "  </thead>\n",
        "  <tbody>\n",
        "    <tr>\n",
        "      <th>0</th>\n",
        "      <td> 2015-01</td>\n",
        "      <td> 413</td>\n",
        "      <td> 10</td>\n",
        "      <td> 2.421308</td>\n",
        "    </tr>\n",
        "    <tr>\n",
        "      <th>1</th>\n",
        "      <td> 2015-02</td>\n",
        "      <td> 493</td>\n",
        "      <td> 10</td>\n",
        "      <td> 2.028398</td>\n",
        "    </tr>\n",
        "    <tr>\n",
        "      <th>2</th>\n",
        "      <td> 2015-03</td>\n",
        "      <td> 606</td>\n",
        "      <td> 13</td>\n",
        "      <td> 2.145215</td>\n",
        "    </tr>\n",
        "    <tr>\n",
        "      <th>3</th>\n",
        "      <td> 2015-04</td>\n",
        "      <td> 555</td>\n",
        "      <td>  5</td>\n",
        "      <td> 0.900901</td>\n",
        "    </tr>\n",
        "    <tr>\n",
        "      <th>4</th>\n",
        "      <td> 2015-05</td>\n",
        "      <td> 665</td>\n",
        "      <td> 13</td>\n",
        "      <td> 1.954887</td>\n",
        "    </tr>\n",
        "  </tbody>\n",
        "</table>\n",
        "</div>"
       ],
       "metadata": {},
       "output_type": "pyout",
       "prompt_number": 8,
       "text": [
        "   Created  All  Unfulfilled  % Unfulfilled\n",
        "0  2015-01  413           10       2.421308\n",
        "1  2015-02  493           10       2.028398\n",
        "2  2015-03  606           13       2.145215\n",
        "3  2015-04  555            5       0.900901\n",
        "4  2015-05  665           13       1.954887"
       ]
      }
     ],
     "prompt_number": 8
    },
    {
     "cell_type": "code",
     "collapsed": false,
     "input": [],
     "language": "python",
     "metadata": {},
     "outputs": []
    }
   ],
   "metadata": {}
  }
 ]
}
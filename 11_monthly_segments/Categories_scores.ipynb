{
 "metadata": {
  "name": "",
  "signature": "sha256:793e7ea68cc5c0aa14cc04d437b50df0bdf984df421304121c0b29e23f3da609"
 },
 "nbformat": 3,
 "nbformat_minor": 0,
 "worksheets": [
  {
   "cells": [
    {
     "cell_type": "code",
     "collapsed": false,
     "input": [
      "import pandas as pd\n",
      "import numpy as np\n",
      "import re\n",
      "import os\n",
      "df = pd.read_csv(os.path.split(os.path.abspath(os.getcwd()))[0]+'\\data_input\\shopify\\orders_export.csv',dtype={'Lineitem sku': np.str}, low_memory=False)\n",
      "df1 = pd.read_csv(os.path.split(os.path.abspath(os.getcwd()))[0]+'\\data_input\\shopify\\\\products_export.csv')\n",
      "dfv = pd.read_csv(os.path.split(os.path.abspath(os.getcwd()))[0]+'\\data_input\\\\vend\\\\vend-total_revenue-for-product_variant-by-month.csv')"
     ],
     "language": "python",
     "metadata": {},
     "outputs": [],
     "prompt_number": 13
    },
    {
     "cell_type": "code",
     "collapsed": false,
     "input": [
      "df1 = df1[['Handle', 'Type']]\n",
      "df1.columns = ['SKU', 'Type']\n",
      "dfv = dfv[['SKU', 'Type']]\n",
      "df1 = df1[pd.notnull(df1['Type'])]\n",
      "dfv = dfv[pd.notnull(dfv['Type'])]\n",
      "df1 = df1.append(dfv).sort('SKU').drop_duplicates(['SKU']).reset_index().drop('index',1)"
     ],
     "language": "python",
     "metadata": {},
     "outputs": [],
     "prompt_number": 14
    },
    {
     "cell_type": "code",
     "collapsed": false,
     "input": [
      "SKU = ['chiaseedsorganic','organicbrownricepenne','rawshelledsunflowerseed','pomegranatefruit',\n",
      "       'redpearsamericanimported','coconutoilskinandhair','rolandwildrice']\n",
      "Type = ['Seeds','Pasta','Seeds','Fresh fruits','Fresh fruits','Cosmetics','Rice']\n",
      "dfn = pd.DataFrame(columns = ['SKU', 'Type'])\n",
      "dfn['SKU'] = SKU\n",
      "dfn['Type']= Type\n",
      "df1 = df1.append(dfn).sort('SKU').drop_duplicates(['SKU']).reset_index().drop('index',1)"
     ],
     "language": "python",
     "metadata": {},
     "outputs": [],
     "prompt_number": 15
    },
    {
     "cell_type": "code",
     "collapsed": false,
     "input": [
      "df['Revenue'] = df.apply(lambda x: x['Lineitem quantity'] * x['Lineitem price'], axis=1) #Calculate revenue\n",
      "df = df[['Email', 'Lineitem sku', 'Revenue']] #get required columns\n",
      "df.columns=['Email', 'SKU', 'Revenue']\n",
      "df = df[pd.notnull(df['SKU'])]\n",
      "df= df.reset_index().drop('index',1)\n",
      "#max(df.index)\n",
      "df2 = df.merge(df1, on=['SKU'], how='left').sort('Type')\n",
      "df4 = df2[pd.notnull(df2['Type'])]\n",
      "df3 = df2[df2.isnull().any(axis=1)]\n",
      "df3 = df3[['Email','SKU','Revenue']]\n",
      "df3['SKU'] = df3.apply(lambda x: re.sub('[()%]', '', str(x['SKU'])), axis=1)\n",
      "df3.SKU=[str(c).lower() for c in df3.SKU]\n",
      "df1.SKU=[str(c).lower() for c in df1.SKU]\n",
      "df3 = df3.merge(df1, on=['SKU'], how='inner')\n",
      "df3 = df4.append(df3).reset_index().drop('index',1)"
     ],
     "language": "python",
     "metadata": {},
     "outputs": [],
     "prompt_number": 16
    },
    {
     "cell_type": "code",
     "collapsed": false,
     "input": [
      "df2 = pd.read_csv('C:\\Users\\saisree849\\Documents\\GitHub\\NGS-2.0\\\\data_input\\enodos\\categories.csv')\n",
      "df4 = df3.merge(df2, on=['Type'], how='inner')"
     ],
     "language": "python",
     "metadata": {},
     "outputs": [],
     "prompt_number": 17
    },
    {
     "cell_type": "code",
     "collapsed": false,
     "input": [
      "dft = df3.groupby(['Email'], as_index=False).sum() #calculate total revnue for each customer\n",
      "dft.columns = ['Email', 'Total Revenue']\n",
      "\n",
      "df4 = df4.groupby(['Email', 'Category'], as_index=False).sum() #Calculate total revenue for each customer by type\n",
      "df4 = df4.merge(dft, on=['Email'], how = 'inner') #join total revenue for each customer\n",
      "\n",
      "df4['Score'] = df4.apply(lambda x: x['Revenue']/ float(x['Total Revenue']), axis=1) #calculate the score\n",
      "df4 = df4[['Email', 'Category', 'Score']]"
     ],
     "language": "python",
     "metadata": {},
     "outputs": [],
     "prompt_number": 18
    },
    {
     "cell_type": "code",
     "collapsed": false,
     "input": [
      "types_all = df4['Category'].tolist()\n",
      "types = ['Email']\n",
      "for i in types_all:\n",
      "    if i not in types:\n",
      "        types.append(i)\n",
      "\n",
      "email_all = df4['Email'].tolist()\n",
      "emails = []\n",
      "for i in email_all:\n",
      "    if i not in emails:\n",
      "        emails.append(i)"
     ],
     "language": "python",
     "metadata": {},
     "outputs": [],
     "prompt_number": 19
    },
    {
     "cell_type": "code",
     "collapsed": false,
     "input": [
      "import numpy as np\n",
      "df_segments = pd.DataFrame(0, index = np.arange(len(emails)), columns = types) #new dataframe with all 0s\n",
      "df_segments['Email'] = emails\n",
      "df_segments = df_segments.set_index('Email') #set email column as index\n",
      "df_segments.index.name = None #remove index column name for convenience"
     ],
     "language": "python",
     "metadata": {},
     "outputs": [],
     "prompt_number": 20
    },
    {
     "cell_type": "code",
     "collapsed": false,
     "input": [
      "for i in range(0, max(df4.index) + 1):\n",
      "    df_segments.loc[df4.loc[i, 'Email'], df4.loc[i, 'Category']] = df4.loc[i, 'Score']"
     ],
     "language": "python",
     "metadata": {},
     "outputs": [],
     "prompt_number": 21
    },
    {
     "cell_type": "code",
     "collapsed": false,
     "input": [
      "df_segments.to_csv('C:\\Users\\saisree849\\Documents\\GitHub\\NGS-2.0\\\\11_monthly_segments\\cust_score.csv')"
     ],
     "language": "python",
     "metadata": {},
     "outputs": [],
     "prompt_number": 23
    },
    {
     "cell_type": "code",
     "collapsed": false,
     "input": [],
     "language": "python",
     "metadata": {},
     "outputs": []
    }
   ],
   "metadata": {}
  }
 ]
}
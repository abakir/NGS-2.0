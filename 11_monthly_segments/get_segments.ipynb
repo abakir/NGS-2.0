{
 "metadata": {
  "name": "",
  "signature": "sha256:cf4cc498352d51d224ee813150a94cd80e45b065bbdf7f419a103613d10d0cb9"
 },
 "nbformat": 3,
 "nbformat_minor": 0,
 "worksheets": [
  {
   "cells": [
    {
     "cell_type": "code",
     "collapsed": false,
     "input": [
      "import pandas as pd\n",
      "\n",
      "df = pd.read_csv(\"C:\\Users\\saisree849\\Documents\\GitHub\\NGS-2.0\\data_input\\enodos\\segment_number.csv\",names=['Cluster', 'Segment'])\n",
      "df1 = pd.read_csv(\"C:\\Users\\saisree849\\Documents\\GitHub\\NGS-2.0\\data_input\\enodos\\cust_type_membership.csv\",skiprows=1)\n",
      "df1 = df1.set_index('Case Number')\n",
      "df1.index.name = None\n",
      "df1 = df1.reset_index().drop('index',1)"
     ],
     "language": "python",
     "metadata": {},
     "outputs": [],
     "prompt_number": 4
    },
    {
     "cell_type": "code",
     "collapsed": false,
     "input": [
      "df2 = df1.merge(df, on=['Cluster'], how = 'outer')\n",
      "df2 = df2[['Customer', 'Segment', 'Distance']]\n",
      "df2.columns = ['Email', 'Segment', 'Score']"
     ],
     "language": "python",
     "metadata": {},
     "outputs": [],
     "prompt_number": 5
    },
    {
     "cell_type": "code",
     "collapsed": false,
     "input": [
      "df2.to_csv('C:\\Users\\saisree849\\Documents\\GitHub\\NGS-2.0\\data_input\\enodos\\segments.csv', index=False)"
     ],
     "language": "python",
     "metadata": {},
     "outputs": [],
     "prompt_number": 8
    },
    {
     "cell_type": "code",
     "collapsed": false,
     "input": [],
     "language": "python",
     "metadata": {},
     "outputs": []
    }
   ],
   "metadata": {}
  }
 ]
}
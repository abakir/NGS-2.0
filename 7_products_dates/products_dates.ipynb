{
 "metadata": {
  "name": "",
  "signature": "sha256:7d846ee195704f851f7bdb9d468fadbf6f2768118be2aa7830a5f0b61f14a11d"
 },
 "nbformat": 3,
 "nbformat_minor": 0,
 "worksheets": [
  {
   "cells": [
    {
     "cell_type": "code",
     "collapsed": false,
     "input": [
      "#!/home/cloudera/local/lib/python2.6/site-packages/bin/python\n",
      "\n",
      "import pandas as pd\n",
      "from datetime import datetime\n",
      "import re\n",
      "import datetime as DT\n",
      "import yaml\n",
      "import logging\n",
      "import time\n",
      "import os\n",
      "\n",
      "def make_sure_path_exists(path):\n",
      "    if (!os.path.isdir(path)):\n",
      "        os.makedirs(path)\n",
      "\n",
      "make_sure_path_exists(cfg['root'] + cfg['dir_logs'])\n",
      "make_sure_path_exists(cfg['root']+cfg['dir_data_output'])\n",
      "\n",
      "with open(\"/home/cloudera/Documents/12_dashboard_tables/config.yaml\", 'r') as ymlfile:\n",
      "        cfg = yaml.load(ymlfile)\n",
      "\n",
      "# create logger\n",
      "logger = logging.getLogger(cfg['log_products_dates'])\n",
      "logger.setLevel(logging.DEBUG)\n",
      "# create console handler and set level to debug\n",
      "ch = logging.FileHandler(cfg['root'] + cfg['dir_logs'] + cfg['log_products_dates'] + \"_\" + time.strftime(\"%Y_%m_%d_%H_%M_%S\") + \".log\" )\n",
      "ch.setLevel(logging.DEBUG)\n",
      "# create formatter\n",
      "formatter = logging.Formatter(\"%(asctime)s - %(name)s - %(levelname)s - %(message)s\")\n",
      "# add formatter to ch\n",
      "ch.setFormatter(formatter)\n",
      "# add ch to logger\n",
      "logger.addHandler(ch)\n",
      "\n",
      "df = pd.read_csv(cfg['root'] + cfg['dir_data_shopify'] + cfg[\"ip_orders\"], low_memory=False)\n",
      "logger.debug(\"Data Frame df created\")"
     ],
     "language": "python",
     "metadata": {},
     "outputs": [],
     "prompt_number": 1
    },
    {
     "cell_type": "code",
     "collapsed": false,
     "input": [
      "def changeDate(data):\n",
      "    matchobj = re.match(r'(.*) (.*) (.*).*',data)\n",
      "    if (pd.to_datetime(datetime.strptime(matchobj.group(1), '%Y-%m-%d')).date().strftime(\"%A\") == 'Wednesday'):\n",
      "        return datetime.strptime(matchobj.group(1), '%Y-%m-%d').date() - DT.timedelta(days=6)\n",
      "    if (pd.to_datetime(datetime.strptime(matchobj.group(1), '%Y-%m-%d')).date().strftime(\"%A\") == 'Tuesday'):\n",
      "        return datetime.strptime(matchobj.group(1), '%Y-%m-%d').date() - DT.timedelta(days=5)\n",
      "    if (pd.to_datetime(datetime.strptime(matchobj.group(1), '%Y-%m-%d')).date().strftime(\"%A\") == 'Monday'):\n",
      "        return datetime.strptime(matchobj.group(1), '%Y-%m-%d').date() - DT.timedelta(days=4)\n",
      "    if (pd.to_datetime(datetime.strptime(matchobj.group(1), '%Y-%m-%d')).date().strftime(\"%A\") == 'Sunday'):\n",
      "        return datetime.strptime(matchobj.group(1), '%Y-%m-%d').date() - DT.timedelta(days=3)\n",
      "    if (pd.to_datetime(datetime.strptime(matchobj.group(1), '%Y-%m-%d')).date().strftime(\"%A\") == 'Saturday'):\n",
      "        return datetime.strptime(matchobj.group(1), '%Y-%m-%d').date() - DT.timedelta(days=2)\n",
      "    if (pd.to_datetime(datetime.strptime(matchobj.group(1), '%Y-%m-%d')).date().strftime(\"%A\") == 'Friday'):\n",
      "        return datetime.strptime(matchobj.group(1), '%Y-%m-%d').date() - DT.timedelta(days=1)\n",
      "    if (pd.to_datetime(datetime.strptime(matchobj.group(1), '%Y-%m-%d')).date().strftime(\"%A\") == 'Thursday'):\n",
      "        return datetime.strptime(matchobj.group(1), '%Y-%m-%d').date() - DT.timedelta(days=0)\n",
      "\n",
      "def cutDate(data):\n",
      "    matchobj = re.match(r'(.*) (.*) (.*).*',data)\n",
      "    data = matchobj.group(1)\n",
      "    matchobj = re.match(r'(.*)-(.*)-(.*).*',data)\n",
      "    return matchobj.group(1) + \"-\" + matchobj.group(2) + \"-01\""
     ],
     "language": "python",
     "metadata": {},
     "outputs": [],
     "prompt_number": 2
    },
    {
     "cell_type": "code",
     "collapsed": false,
     "input": [
      "df = df[['Lineitem name', 'Lineitem sku', 'Created at', 'Lineitem quantity', 'Lineitem price']]\n",
      "df.loc[:, 'Revenue'] = df['Lineitem quantity'] * df['Lineitem price']\n",
      "df.head()"
     ],
     "language": "python",
     "metadata": {},
     "outputs": [
      {
       "html": [
        "<div style=\"max-height:1000px;max-width:1500px;overflow:auto;\">\n",
        "<table border=\"1\" class=\"dataframe\">\n",
        "  <thead>\n",
        "    <tr style=\"text-align: right;\">\n",
        "      <th></th>\n",
        "      <th>Lineitem name</th>\n",
        "      <th>Lineitem sku</th>\n",
        "      <th>Created at</th>\n",
        "      <th>Lineitem quantity</th>\n",
        "      <th>Lineitem price</th>\n",
        "      <th>Revenue</th>\n",
        "    </tr>\n",
        "  </thead>\n",
        "  <tbody>\n",
        "    <tr>\n",
        "      <th>0</th>\n",
        "      <td>    Balady Whole Chicken(chemical free)</td>\n",
        "      <td> 501005</td>\n",
        "      <td> 2015-12-23 20:33:51 +0200</td>\n",
        "      <td> 4</td>\n",
        "      <td> 45.0</td>\n",
        "      <td> 180.0</td>\n",
        "    </tr>\n",
        "    <tr>\n",
        "      <th>1</th>\n",
        "      <td>           Baby spinach (chemical free)</td>\n",
        "      <td> 341004</td>\n",
        "      <td> 2015-12-23 20:33:51 +0200</td>\n",
        "      <td> 2</td>\n",
        "      <td>  7.2</td>\n",
        "      <td>  14.4</td>\n",
        "    </tr>\n",
        "    <tr>\n",
        "      <th>2</th>\n",
        "      <td> Chicken breast - Hormone free (frozen)</td>\n",
        "      <td>  80001</td>\n",
        "      <td> 2015-12-23 20:33:51 +0200</td>\n",
        "      <td> 3</td>\n",
        "      <td> 60.3</td>\n",
        "      <td> 180.9</td>\n",
        "    </tr>\n",
        "    <tr>\n",
        "      <th>3</th>\n",
        "      <td>                    Avocados (imported)</td>\n",
        "      <td>  20002</td>\n",
        "      <td> 2015-12-23 20:00:17 +0200</td>\n",
        "      <td> 1</td>\n",
        "      <td> 30.6</td>\n",
        "      <td>  30.6</td>\n",
        "    </tr>\n",
        "    <tr>\n",
        "      <th>4</th>\n",
        "      <td>            Aubergene (Roumy) - organic</td>\n",
        "      <td> 461001</td>\n",
        "      <td> 2015-12-23 20:00:17 +0200</td>\n",
        "      <td> 1</td>\n",
        "      <td> 10.8</td>\n",
        "      <td>  10.8</td>\n",
        "    </tr>\n",
        "  </tbody>\n",
        "</table>\n",
        "</div>"
       ],
       "metadata": {},
       "output_type": "pyout",
       "prompt_number": 3,
       "text": [
        "                            Lineitem name Lineitem sku  \\\n",
        "0     Balady Whole Chicken(chemical free)       501005   \n",
        "1            Baby spinach (chemical free)       341004   \n",
        "2  Chicken breast - Hormone free (frozen)        80001   \n",
        "3                     Avocados (imported)        20002   \n",
        "4             Aubergene (Roumy) - organic       461001   \n",
        "\n",
        "                  Created at  Lineitem quantity  Lineitem price  Revenue  \n",
        "0  2015-12-23 20:33:51 +0200                  4            45.0    180.0  \n",
        "1  2015-12-23 20:33:51 +0200                  2             7.2     14.4  \n",
        "2  2015-12-23 20:33:51 +0200                  3            60.3    180.9  \n",
        "3  2015-12-23 20:00:17 +0200                  1            30.6     30.6  \n",
        "4  2015-12-23 20:00:17 +0200                  1            10.8     10.8  "
       ]
      }
     ],
     "prompt_number": 3
    },
    {
     "cell_type": "code",
     "collapsed": false,
     "input": [
      "df = df[['Lineitem name', 'Lineitem sku', 'Created at', 'Revenue']]\n",
      "df.columns = ['Product', 'SKU', 'Date', 'Revenue']\n",
      "df['Product'] = df['Product'].apply(lambda x: x.upper())\n",
      "df['SKU'] = df['SKU'].apply(lambda x: str(x).upper())\n",
      "prods = df[['Product', 'SKU', 'Revenue']]\n",
      "df['Date1'] = df['Date']\n",
      "df.head()"
     ],
     "language": "python",
     "metadata": {},
     "outputs": [
      {
       "html": [
        "<div style=\"max-height:1000px;max-width:1500px;overflow:auto;\">\n",
        "<table border=\"1\" class=\"dataframe\">\n",
        "  <thead>\n",
        "    <tr style=\"text-align: right;\">\n",
        "      <th></th>\n",
        "      <th>Product</th>\n",
        "      <th>SKU</th>\n",
        "      <th>Date</th>\n",
        "      <th>Revenue</th>\n",
        "      <th>Date1</th>\n",
        "    </tr>\n",
        "  </thead>\n",
        "  <tbody>\n",
        "    <tr>\n",
        "      <th>0</th>\n",
        "      <td>    BALADY WHOLE CHICKEN(CHEMICAL FREE)</td>\n",
        "      <td> 501005</td>\n",
        "      <td> 2015-12-23 20:33:51 +0200</td>\n",
        "      <td> 180.0</td>\n",
        "      <td> 2015-12-23 20:33:51 +0200</td>\n",
        "    </tr>\n",
        "    <tr>\n",
        "      <th>1</th>\n",
        "      <td>           BABY SPINACH (CHEMICAL FREE)</td>\n",
        "      <td> 341004</td>\n",
        "      <td> 2015-12-23 20:33:51 +0200</td>\n",
        "      <td>  14.4</td>\n",
        "      <td> 2015-12-23 20:33:51 +0200</td>\n",
        "    </tr>\n",
        "    <tr>\n",
        "      <th>2</th>\n",
        "      <td> CHICKEN BREAST - HORMONE FREE (FROZEN)</td>\n",
        "      <td>  80001</td>\n",
        "      <td> 2015-12-23 20:33:51 +0200</td>\n",
        "      <td> 180.9</td>\n",
        "      <td> 2015-12-23 20:33:51 +0200</td>\n",
        "    </tr>\n",
        "    <tr>\n",
        "      <th>3</th>\n",
        "      <td>                    AVOCADOS (IMPORTED)</td>\n",
        "      <td>  20002</td>\n",
        "      <td> 2015-12-23 20:00:17 +0200</td>\n",
        "      <td>  30.6</td>\n",
        "      <td> 2015-12-23 20:00:17 +0200</td>\n",
        "    </tr>\n",
        "    <tr>\n",
        "      <th>4</th>\n",
        "      <td>            AUBERGENE (ROUMY) - ORGANIC</td>\n",
        "      <td> 461001</td>\n",
        "      <td> 2015-12-23 20:00:17 +0200</td>\n",
        "      <td>  10.8</td>\n",
        "      <td> 2015-12-23 20:00:17 +0200</td>\n",
        "    </tr>\n",
        "  </tbody>\n",
        "</table>\n",
        "</div>"
       ],
       "metadata": {},
       "output_type": "pyout",
       "prompt_number": 4,
       "text": [
        "                                  Product     SKU                       Date  \\\n",
        "0     BALADY WHOLE CHICKEN(CHEMICAL FREE)  501005  2015-12-23 20:33:51 +0200   \n",
        "1            BABY SPINACH (CHEMICAL FREE)  341004  2015-12-23 20:33:51 +0200   \n",
        "2  CHICKEN BREAST - HORMONE FREE (FROZEN)   80001  2015-12-23 20:33:51 +0200   \n",
        "3                     AVOCADOS (IMPORTED)   20002  2015-12-23 20:00:17 +0200   \n",
        "4             AUBERGENE (ROUMY) - ORGANIC  461001  2015-12-23 20:00:17 +0200   \n",
        "\n",
        "   Revenue                      Date1  \n",
        "0    180.0  2015-12-23 20:33:51 +0200  \n",
        "1     14.4  2015-12-23 20:33:51 +0200  \n",
        "2    180.9  2015-12-23 20:33:51 +0200  \n",
        "3     30.6  2015-12-23 20:00:17 +0200  \n",
        "4     10.8  2015-12-23 20:00:17 +0200  "
       ]
      }
     ],
     "prompt_number": 4
    },
    {
     "cell_type": "code",
     "collapsed": false,
     "input": [
      "df.loc[:, 'Date'] = df.Date.apply(changeDate)\n",
      "df.head()"
     ],
     "language": "python",
     "metadata": {},
     "outputs": [
      {
       "html": [
        "<div style=\"max-height:1000px;max-width:1500px;overflow:auto;\">\n",
        "<table border=\"1\" class=\"dataframe\">\n",
        "  <thead>\n",
        "    <tr style=\"text-align: right;\">\n",
        "      <th></th>\n",
        "      <th>Product</th>\n",
        "      <th>SKU</th>\n",
        "      <th>Date</th>\n",
        "      <th>Revenue</th>\n",
        "      <th>Date1</th>\n",
        "    </tr>\n",
        "  </thead>\n",
        "  <tbody>\n",
        "    <tr>\n",
        "      <th>0</th>\n",
        "      <td>    BALADY WHOLE CHICKEN(CHEMICAL FREE)</td>\n",
        "      <td> 501005</td>\n",
        "      <td> 2015-12-17</td>\n",
        "      <td> 180.0</td>\n",
        "      <td> 2015-12-23 20:33:51 +0200</td>\n",
        "    </tr>\n",
        "    <tr>\n",
        "      <th>1</th>\n",
        "      <td>           BABY SPINACH (CHEMICAL FREE)</td>\n",
        "      <td> 341004</td>\n",
        "      <td> 2015-12-17</td>\n",
        "      <td>  14.4</td>\n",
        "      <td> 2015-12-23 20:33:51 +0200</td>\n",
        "    </tr>\n",
        "    <tr>\n",
        "      <th>2</th>\n",
        "      <td> CHICKEN BREAST - HORMONE FREE (FROZEN)</td>\n",
        "      <td>  80001</td>\n",
        "      <td> 2015-12-17</td>\n",
        "      <td> 180.9</td>\n",
        "      <td> 2015-12-23 20:33:51 +0200</td>\n",
        "    </tr>\n",
        "    <tr>\n",
        "      <th>3</th>\n",
        "      <td>                    AVOCADOS (IMPORTED)</td>\n",
        "      <td>  20002</td>\n",
        "      <td> 2015-12-17</td>\n",
        "      <td>  30.6</td>\n",
        "      <td> 2015-12-23 20:00:17 +0200</td>\n",
        "    </tr>\n",
        "    <tr>\n",
        "      <th>4</th>\n",
        "      <td>            AUBERGENE (ROUMY) - ORGANIC</td>\n",
        "      <td> 461001</td>\n",
        "      <td> 2015-12-17</td>\n",
        "      <td>  10.8</td>\n",
        "      <td> 2015-12-23 20:00:17 +0200</td>\n",
        "    </tr>\n",
        "  </tbody>\n",
        "</table>\n",
        "</div>"
       ],
       "metadata": {},
       "output_type": "pyout",
       "prompt_number": 6,
       "text": [
        "                                  Product     SKU        Date  Revenue  \\\n",
        "0     BALADY WHOLE CHICKEN(CHEMICAL FREE)  501005  2015-12-17    180.0   \n",
        "1            BABY SPINACH (CHEMICAL FREE)  341004  2015-12-17     14.4   \n",
        "2  CHICKEN BREAST - HORMONE FREE (FROZEN)   80001  2015-12-17    180.9   \n",
        "3                     AVOCADOS (IMPORTED)   20002  2015-12-17     30.6   \n",
        "4             AUBERGENE (ROUMY) - ORGANIC  461001  2015-12-17     10.8   \n",
        "\n",
        "                       Date1  \n",
        "0  2015-12-23 20:33:51 +0200  \n",
        "1  2015-12-23 20:33:51 +0200  \n",
        "2  2015-12-23 20:33:51 +0200  \n",
        "3  2015-12-23 20:00:17 +0200  \n",
        "4  2015-12-23 20:00:17 +0200  "
       ]
      }
     ],
     "prompt_number": 6
    },
    {
     "cell_type": "code",
     "collapsed": false,
     "input": [
      "df1 = df[['Product', 'SKU', 'Revenue', 'Date1']]\n",
      "\n",
      "df1.loc[:, 'Date1'] = df1.Date1.apply(cutDate)\n",
      "df1.head()"
     ],
     "language": "python",
     "metadata": {},
     "outputs": [
      {
       "output_type": "stream",
       "stream": "stderr",
       "text": [
        "C:\\Users\\saisree849\\AppData\\Local\\Enthought\\Canopy\\User\\lib\\site-packages\\pandas\\core\\indexing.py:415: SettingWithCopyWarning: \n",
        "A value is trying to be set on a copy of a slice from a DataFrame.\n",
        "Try using .loc[row_indexer,col_indexer] = value instead\n",
        "\n",
        "See the the caveats in the documentation: http://pandas.pydata.org/pandas-docs/stable/indexing.html#indexing-view-versus-copy\n",
        "  self.obj[item] = s\n"
       ]
      },
      {
       "html": [
        "<div style=\"max-height:1000px;max-width:1500px;overflow:auto;\">\n",
        "<table border=\"1\" class=\"dataframe\">\n",
        "  <thead>\n",
        "    <tr style=\"text-align: right;\">\n",
        "      <th></th>\n",
        "      <th>Product</th>\n",
        "      <th>SKU</th>\n",
        "      <th>Revenue</th>\n",
        "      <th>Date1</th>\n",
        "    </tr>\n",
        "  </thead>\n",
        "  <tbody>\n",
        "    <tr>\n",
        "      <th>0</th>\n",
        "      <td>    BALADY WHOLE CHICKEN(CHEMICAL FREE)</td>\n",
        "      <td> 501005</td>\n",
        "      <td> 180.0</td>\n",
        "      <td> 2015-12-01</td>\n",
        "    </tr>\n",
        "    <tr>\n",
        "      <th>1</th>\n",
        "      <td>           BABY SPINACH (CHEMICAL FREE)</td>\n",
        "      <td> 341004</td>\n",
        "      <td>  14.4</td>\n",
        "      <td> 2015-12-01</td>\n",
        "    </tr>\n",
        "    <tr>\n",
        "      <th>2</th>\n",
        "      <td> CHICKEN BREAST - HORMONE FREE (FROZEN)</td>\n",
        "      <td>  80001</td>\n",
        "      <td> 180.9</td>\n",
        "      <td> 2015-12-01</td>\n",
        "    </tr>\n",
        "    <tr>\n",
        "      <th>3</th>\n",
        "      <td>                    AVOCADOS (IMPORTED)</td>\n",
        "      <td>  20002</td>\n",
        "      <td>  30.6</td>\n",
        "      <td> 2015-12-01</td>\n",
        "    </tr>\n",
        "    <tr>\n",
        "      <th>4</th>\n",
        "      <td>            AUBERGENE (ROUMY) - ORGANIC</td>\n",
        "      <td> 461001</td>\n",
        "      <td>  10.8</td>\n",
        "      <td> 2015-12-01</td>\n",
        "    </tr>\n",
        "  </tbody>\n",
        "</table>\n",
        "</div>"
       ],
       "metadata": {},
       "output_type": "pyout",
       "prompt_number": 7,
       "text": [
        "                                  Product     SKU  Revenue       Date1\n",
        "0     BALADY WHOLE CHICKEN(CHEMICAL FREE)  501005    180.0  2015-12-01\n",
        "1            BABY SPINACH (CHEMICAL FREE)  341004     14.4  2015-12-01\n",
        "2  CHICKEN BREAST - HORMONE FREE (FROZEN)   80001    180.9  2015-12-01\n",
        "3                     AVOCADOS (IMPORTED)   20002     30.6  2015-12-01\n",
        "4             AUBERGENE (ROUMY) - ORGANIC  461001     10.8  2015-12-01"
       ]
      }
     ],
     "prompt_number": 7
    },
    {
     "cell_type": "code",
     "collapsed": false,
     "input": [
      "df = df[['Product', 'SKU', 'Revenue', 'Date']]\n",
      "df = df.groupby(['Date','Product', 'SKU'], as_index=False).sum()\n",
      "df.head()"
     ],
     "language": "python",
     "metadata": {},
     "outputs": [
      {
       "html": [
        "<div style=\"max-height:1000px;max-width:1500px;overflow:auto;\">\n",
        "<table border=\"1\" class=\"dataframe\">\n",
        "  <thead>\n",
        "    <tr style=\"text-align: right;\">\n",
        "      <th></th>\n",
        "      <th>Date</th>\n",
        "      <th>Product</th>\n",
        "      <th>SKU</th>\n",
        "      <th>Revenue</th>\n",
        "    </tr>\n",
        "  </thead>\n",
        "  <tbody>\n",
        "    <tr>\n",
        "      <th>0</th>\n",
        "      <td> 2012-04-26</td>\n",
        "      <td>               BROWN RICE</td>\n",
        "      <td> 6221078144296</td>\n",
        "      <td> 10.40</td>\n",
        "    </tr>\n",
        "    <tr>\n",
        "      <th>1</th>\n",
        "      <td> 2012-04-26</td>\n",
        "      <td>       LIVER WELLNESS TEA</td>\n",
        "      <td> 6221078744045</td>\n",
        "      <td>  8.19</td>\n",
        "    </tr>\n",
        "    <tr>\n",
        "      <th>2</th>\n",
        "      <td> 2012-04-26</td>\n",
        "      <td> POWER PROTEIN BAR PEANUT</td>\n",
        "      <td> 6221078185121</td>\n",
        "      <td>  9.10</td>\n",
        "    </tr>\n",
        "    <tr>\n",
        "      <th>3</th>\n",
        "      <td> 2012-04-26</td>\n",
        "      <td>            PUMPKIN SEEDS</td>\n",
        "      <td> 6221078447144</td>\n",
        "      <td>  9.36</td>\n",
        "    </tr>\n",
        "    <tr>\n",
        "      <th>4</th>\n",
        "      <td> 2012-04-26</td>\n",
        "      <td>               RAW CASHEW</td>\n",
        "      <td>         20014</td>\n",
        "      <td> 56.88</td>\n",
        "    </tr>\n",
        "  </tbody>\n",
        "</table>\n",
        "</div>"
       ],
       "metadata": {},
       "output_type": "pyout",
       "prompt_number": 8,
       "text": [
        "         Date                   Product            SKU  Revenue\n",
        "0  2012-04-26                BROWN RICE  6221078144296    10.40\n",
        "1  2012-04-26        LIVER WELLNESS TEA  6221078744045     8.19\n",
        "2  2012-04-26  POWER PROTEIN BAR PEANUT  6221078185121     9.10\n",
        "3  2012-04-26             PUMPKIN SEEDS  6221078447144     9.36\n",
        "4  2012-04-26                RAW CASHEW          20014    56.88"
       ]
      }
     ],
     "prompt_number": 8
    },
    {
     "cell_type": "code",
     "collapsed": false,
     "input": [
      "df1 = df1.groupby(['Date1','Product', 'SKU'], as_index=False).sum()\n",
      "df1.head()"
     ],
     "language": "python",
     "metadata": {},
     "outputs": [
      {
       "html": [
        "<div style=\"max-height:1000px;max-width:1500px;overflow:auto;\">\n",
        "<table border=\"1\" class=\"dataframe\">\n",
        "  <thead>\n",
        "    <tr style=\"text-align: right;\">\n",
        "      <th></th>\n",
        "      <th>Date1</th>\n",
        "      <th>Product</th>\n",
        "      <th>SKU</th>\n",
        "      <th>Revenue</th>\n",
        "    </tr>\n",
        "  </thead>\n",
        "  <tbody>\n",
        "    <tr>\n",
        "      <th>0</th>\n",
        "      <td> 2012-05-01</td>\n",
        "      <td>   BED TIME TEA</td>\n",
        "      <td> 6221078624033</td>\n",
        "      <td>  8.19</td>\n",
        "    </tr>\n",
        "    <tr>\n",
        "      <th>1</th>\n",
        "      <td> 2012-05-01</td>\n",
        "      <td> BLACK SEED OIL</td>\n",
        "      <td> 6221078931117</td>\n",
        "      <td> 81.90</td>\n",
        "    </tr>\n",
        "    <tr>\n",
        "      <th>2</th>\n",
        "      <td> 2012-05-01</td>\n",
        "      <td>   BREATHE WELL</td>\n",
        "      <td> 6221078354077</td>\n",
        "      <td> 24.57</td>\n",
        "    </tr>\n",
        "    <tr>\n",
        "      <th>3</th>\n",
        "      <td> 2012-05-01</td>\n",
        "      <td>     BROWN RICE</td>\n",
        "      <td> 6221078144296</td>\n",
        "      <td> 62.40</td>\n",
        "    </tr>\n",
        "    <tr>\n",
        "      <th>4</th>\n",
        "      <td> 2012-05-01</td>\n",
        "      <td>    COCONUT OIL</td>\n",
        "      <td> 6221078061111</td>\n",
        "      <td> 20.16</td>\n",
        "    </tr>\n",
        "  </tbody>\n",
        "</table>\n",
        "</div>"
       ],
       "metadata": {},
       "output_type": "pyout",
       "prompt_number": 9,
       "text": [
        "        Date1         Product            SKU  Revenue\n",
        "0  2012-05-01    BED TIME TEA  6221078624033     8.19\n",
        "1  2012-05-01  BLACK SEED OIL  6221078931117    81.90\n",
        "2  2012-05-01    BREATHE WELL  6221078354077    24.57\n",
        "3  2012-05-01      BROWN RICE  6221078144296    62.40\n",
        "4  2012-05-01     COCONUT OIL  6221078061111    20.16"
       ]
      }
     ],
     "prompt_number": 9
    },
    {
     "cell_type": "code",
     "collapsed": false,
     "input": [
      "prods = prods.groupby(['Product', 'SKU'], as_index=False).sum()\n",
      "prods = prods.drop_duplicates().reset_index().drop('index',1)\n",
      "prods.head()"
     ],
     "language": "python",
     "metadata": {},
     "outputs": [
      {
       "html": [
        "<div style=\"max-height:1000px;max-width:1500px;overflow:auto;\">\n",
        "<table border=\"1\" class=\"dataframe\">\n",
        "  <thead>\n",
        "    <tr style=\"text-align: right;\">\n",
        "      <th></th>\n",
        "      <th>Product</th>\n",
        "      <th>SKU</th>\n",
        "      <th>Revenue</th>\n",
        "    </tr>\n",
        "  </thead>\n",
        "  <tbody>\n",
        "    <tr>\n",
        "      <th>0</th>\n",
        "      <td>         7 GRAIN MILK</td>\n",
        "      <td>        065917OG7</td>\n",
        "      <td> 1257.7</td>\n",
        "    </tr>\n",
        "    <tr>\n",
        "      <th>1</th>\n",
        "      <td> 7 GRAIN MILK - 946ML</td>\n",
        "      <td>        065917OG7</td>\n",
        "      <td>  235.2</td>\n",
        "    </tr>\n",
        "    <tr>\n",
        "      <th>2</th>\n",
        "      <td>     ACAI BERRY JUICE</td>\n",
        "      <td>           361001</td>\n",
        "      <td>   60.0</td>\n",
        "    </tr>\n",
        "    <tr>\n",
        "      <th>3</th>\n",
        "      <td>     ACAI BERRY JUICE</td>\n",
        "      <td> NATURALACAIBERRY</td>\n",
        "      <td>   29.0</td>\n",
        "    </tr>\n",
        "    <tr>\n",
        "      <th>4</th>\n",
        "      <td>     ACNE FACIAL SOAP</td>\n",
        "      <td>   ACNEFACIALSOAP</td>\n",
        "      <td>  110.0</td>\n",
        "    </tr>\n",
        "  </tbody>\n",
        "</table>\n",
        "</div>"
       ],
       "metadata": {},
       "output_type": "pyout",
       "prompt_number": 10,
       "text": [
        "                Product               SKU  Revenue\n",
        "0          7 GRAIN MILK         065917OG7   1257.7\n",
        "1  7 GRAIN MILK - 946ML         065917OG7    235.2\n",
        "2      ACAI BERRY JUICE            361001     60.0\n",
        "3      ACAI BERRY JUICE  NATURALACAIBERRY     29.0\n",
        "4      ACNE FACIAL SOAP    ACNEFACIALSOAP    110.0"
       ]
      }
     ],
     "prompt_number": 10
    },
    {
     "cell_type": "code",
     "collapsed": false,
     "input": [
      "final = pd.DataFrame(columns = ['Product', 'SKU'] + df1['Date1'].drop_duplicates().tolist()+ ['Revenue'] )\n",
      "final[['Product']] = prods[['Product']]\n",
      "final[['Revenue']] = prods[['Revenue']]\n",
      "final[['SKU']] = prods[['SKU']]\n",
      "final.fillna(0, inplace=True)\n",
      "\n",
      "final.head()"
     ],
     "language": "python",
     "metadata": {},
     "outputs": [
      {
       "html": [
        "<div style=\"max-height:1000px;max-width:1500px;overflow:auto;\">\n",
        "<table border=\"1\" class=\"dataframe\">\n",
        "  <thead>\n",
        "    <tr style=\"text-align: right;\">\n",
        "      <th></th>\n",
        "      <th>Product</th>\n",
        "      <th>SKU</th>\n",
        "      <th>2012-05-01</th>\n",
        "      <th>2012-06-01</th>\n",
        "      <th>2012-07-01</th>\n",
        "      <th>2012-08-01</th>\n",
        "      <th>2012-09-01</th>\n",
        "      <th>2012-10-01</th>\n",
        "      <th>2012-11-01</th>\n",
        "      <th>2012-12-01</th>\n",
        "      <th>...</th>\n",
        "      <th>2015-04-01</th>\n",
        "      <th>2015-05-01</th>\n",
        "      <th>2015-06-01</th>\n",
        "      <th>2015-07-01</th>\n",
        "      <th>2015-08-01</th>\n",
        "      <th>2015-09-01</th>\n",
        "      <th>2015-10-01</th>\n",
        "      <th>2015-11-01</th>\n",
        "      <th>2015-12-01</th>\n",
        "      <th>Revenue</th>\n",
        "    </tr>\n",
        "  </thead>\n",
        "  <tbody>\n",
        "    <tr>\n",
        "      <th>0</th>\n",
        "      <td>         7 GRAIN MILK</td>\n",
        "      <td>        065917OG7</td>\n",
        "      <td> 0</td>\n",
        "      <td> 0</td>\n",
        "      <td> 0</td>\n",
        "      <td> 0</td>\n",
        "      <td> 0</td>\n",
        "      <td> 0</td>\n",
        "      <td> 0</td>\n",
        "      <td> 0</td>\n",
        "      <td>...</td>\n",
        "      <td> 0</td>\n",
        "      <td> 0</td>\n",
        "      <td> 0</td>\n",
        "      <td> 0</td>\n",
        "      <td> 0</td>\n",
        "      <td> 0</td>\n",
        "      <td> 0</td>\n",
        "      <td> 0</td>\n",
        "      <td> 0</td>\n",
        "      <td> 1257.7</td>\n",
        "    </tr>\n",
        "    <tr>\n",
        "      <th>1</th>\n",
        "      <td> 7 GRAIN MILK - 946ML</td>\n",
        "      <td>        065917OG7</td>\n",
        "      <td> 0</td>\n",
        "      <td> 0</td>\n",
        "      <td> 0</td>\n",
        "      <td> 0</td>\n",
        "      <td> 0</td>\n",
        "      <td> 0</td>\n",
        "      <td> 0</td>\n",
        "      <td> 0</td>\n",
        "      <td>...</td>\n",
        "      <td> 0</td>\n",
        "      <td> 0</td>\n",
        "      <td> 0</td>\n",
        "      <td> 0</td>\n",
        "      <td> 0</td>\n",
        "      <td> 0</td>\n",
        "      <td> 0</td>\n",
        "      <td> 0</td>\n",
        "      <td> 0</td>\n",
        "      <td>  235.2</td>\n",
        "    </tr>\n",
        "    <tr>\n",
        "      <th>2</th>\n",
        "      <td>     ACAI BERRY JUICE</td>\n",
        "      <td>           361001</td>\n",
        "      <td> 0</td>\n",
        "      <td> 0</td>\n",
        "      <td> 0</td>\n",
        "      <td> 0</td>\n",
        "      <td> 0</td>\n",
        "      <td> 0</td>\n",
        "      <td> 0</td>\n",
        "      <td> 0</td>\n",
        "      <td>...</td>\n",
        "      <td> 0</td>\n",
        "      <td> 0</td>\n",
        "      <td> 0</td>\n",
        "      <td> 0</td>\n",
        "      <td> 0</td>\n",
        "      <td> 0</td>\n",
        "      <td> 0</td>\n",
        "      <td> 0</td>\n",
        "      <td> 0</td>\n",
        "      <td>   60.0</td>\n",
        "    </tr>\n",
        "    <tr>\n",
        "      <th>3</th>\n",
        "      <td>     ACAI BERRY JUICE</td>\n",
        "      <td> NATURALACAIBERRY</td>\n",
        "      <td> 0</td>\n",
        "      <td> 0</td>\n",
        "      <td> 0</td>\n",
        "      <td> 0</td>\n",
        "      <td> 0</td>\n",
        "      <td> 0</td>\n",
        "      <td> 0</td>\n",
        "      <td> 0</td>\n",
        "      <td>...</td>\n",
        "      <td> 0</td>\n",
        "      <td> 0</td>\n",
        "      <td> 0</td>\n",
        "      <td> 0</td>\n",
        "      <td> 0</td>\n",
        "      <td> 0</td>\n",
        "      <td> 0</td>\n",
        "      <td> 0</td>\n",
        "      <td> 0</td>\n",
        "      <td>   29.0</td>\n",
        "    </tr>\n",
        "    <tr>\n",
        "      <th>4</th>\n",
        "      <td>     ACNE FACIAL SOAP</td>\n",
        "      <td>   ACNEFACIALSOAP</td>\n",
        "      <td> 0</td>\n",
        "      <td> 0</td>\n",
        "      <td> 0</td>\n",
        "      <td> 0</td>\n",
        "      <td> 0</td>\n",
        "      <td> 0</td>\n",
        "      <td> 0</td>\n",
        "      <td> 0</td>\n",
        "      <td>...</td>\n",
        "      <td> 0</td>\n",
        "      <td> 0</td>\n",
        "      <td> 0</td>\n",
        "      <td> 0</td>\n",
        "      <td> 0</td>\n",
        "      <td> 0</td>\n",
        "      <td> 0</td>\n",
        "      <td> 0</td>\n",
        "      <td> 0</td>\n",
        "      <td>  110.0</td>\n",
        "    </tr>\n",
        "  </tbody>\n",
        "</table>\n",
        "<p>5 rows \u00d7 47 columns</p>\n",
        "</div>"
       ],
       "metadata": {},
       "output_type": "pyout",
       "prompt_number": 11,
       "text": [
        "                Product               SKU  2012-05-01  2012-06-01  2012-07-01  \\\n",
        "0          7 GRAIN MILK         065917OG7           0           0           0   \n",
        "1  7 GRAIN MILK - 946ML         065917OG7           0           0           0   \n",
        "2      ACAI BERRY JUICE            361001           0           0           0   \n",
        "3      ACAI BERRY JUICE  NATURALACAIBERRY           0           0           0   \n",
        "4      ACNE FACIAL SOAP    ACNEFACIALSOAP           0           0           0   \n",
        "\n",
        "   2012-08-01  2012-09-01  2012-10-01  2012-11-01  2012-12-01   ...     \\\n",
        "0           0           0           0           0           0   ...      \n",
        "1           0           0           0           0           0   ...      \n",
        "2           0           0           0           0           0   ...      \n",
        "3           0           0           0           0           0   ...      \n",
        "4           0           0           0           0           0   ...      \n",
        "\n",
        "   2015-04-01  2015-05-01  2015-06-01  2015-07-01  2015-08-01  2015-09-01  \\\n",
        "0           0           0           0           0           0           0   \n",
        "1           0           0           0           0           0           0   \n",
        "2           0           0           0           0           0           0   \n",
        "3           0           0           0           0           0           0   \n",
        "4           0           0           0           0           0           0   \n",
        "\n",
        "   2015-10-01  2015-11-01  2015-12-01  Revenue  \n",
        "0           0           0           0   1257.7  \n",
        "1           0           0           0    235.2  \n",
        "2           0           0           0     60.0  \n",
        "3           0           0           0     29.0  \n",
        "4           0           0           0    110.0  \n",
        "\n",
        "[5 rows x 47 columns]"
       ]
      }
     ],
     "prompt_number": 11
    },
    {
     "cell_type": "code",
     "collapsed": false,
     "input": [
      "final['New'] = final.apply(lambda x: str(x['Product']) +\",\"+ str(x['SKU']), axis=1)\n",
      "final = final.set_index('New')\n",
      "final.index.name = None\n",
      "final.head()"
     ],
     "language": "python",
     "metadata": {},
     "outputs": [
      {
       "html": [
        "<div style=\"max-height:1000px;max-width:1500px;overflow:auto;\">\n",
        "<table border=\"1\" class=\"dataframe\">\n",
        "  <thead>\n",
        "    <tr style=\"text-align: right;\">\n",
        "      <th></th>\n",
        "      <th>Product</th>\n",
        "      <th>SKU</th>\n",
        "      <th>2012-05-01</th>\n",
        "      <th>2012-06-01</th>\n",
        "      <th>2012-07-01</th>\n",
        "      <th>2012-08-01</th>\n",
        "      <th>2012-09-01</th>\n",
        "      <th>2012-10-01</th>\n",
        "      <th>2012-11-01</th>\n",
        "      <th>2012-12-01</th>\n",
        "      <th>...</th>\n",
        "      <th>2015-04-01</th>\n",
        "      <th>2015-05-01</th>\n",
        "      <th>2015-06-01</th>\n",
        "      <th>2015-07-01</th>\n",
        "      <th>2015-08-01</th>\n",
        "      <th>2015-09-01</th>\n",
        "      <th>2015-10-01</th>\n",
        "      <th>2015-11-01</th>\n",
        "      <th>2015-12-01</th>\n",
        "      <th>Revenue</th>\n",
        "    </tr>\n",
        "  </thead>\n",
        "  <tbody>\n",
        "    <tr>\n",
        "      <th>7 GRAIN MILK,065917OG7</th>\n",
        "      <td>         7 GRAIN MILK</td>\n",
        "      <td>        065917OG7</td>\n",
        "      <td> 0</td>\n",
        "      <td> 0</td>\n",
        "      <td> 0</td>\n",
        "      <td> 0</td>\n",
        "      <td> 0</td>\n",
        "      <td> 0</td>\n",
        "      <td> 0</td>\n",
        "      <td> 0</td>\n",
        "      <td>...</td>\n",
        "      <td> 0</td>\n",
        "      <td> 0</td>\n",
        "      <td> 0</td>\n",
        "      <td> 0</td>\n",
        "      <td> 0</td>\n",
        "      <td> 0</td>\n",
        "      <td> 0</td>\n",
        "      <td> 0</td>\n",
        "      <td> 0</td>\n",
        "      <td> 1257.7</td>\n",
        "    </tr>\n",
        "    <tr>\n",
        "      <th>7 GRAIN MILK - 946ML,065917OG7</th>\n",
        "      <td> 7 GRAIN MILK - 946ML</td>\n",
        "      <td>        065917OG7</td>\n",
        "      <td> 0</td>\n",
        "      <td> 0</td>\n",
        "      <td> 0</td>\n",
        "      <td> 0</td>\n",
        "      <td> 0</td>\n",
        "      <td> 0</td>\n",
        "      <td> 0</td>\n",
        "      <td> 0</td>\n",
        "      <td>...</td>\n",
        "      <td> 0</td>\n",
        "      <td> 0</td>\n",
        "      <td> 0</td>\n",
        "      <td> 0</td>\n",
        "      <td> 0</td>\n",
        "      <td> 0</td>\n",
        "      <td> 0</td>\n",
        "      <td> 0</td>\n",
        "      <td> 0</td>\n",
        "      <td>  235.2</td>\n",
        "    </tr>\n",
        "    <tr>\n",
        "      <th>ACAI BERRY JUICE,361001</th>\n",
        "      <td>     ACAI BERRY JUICE</td>\n",
        "      <td>           361001</td>\n",
        "      <td> 0</td>\n",
        "      <td> 0</td>\n",
        "      <td> 0</td>\n",
        "      <td> 0</td>\n",
        "      <td> 0</td>\n",
        "      <td> 0</td>\n",
        "      <td> 0</td>\n",
        "      <td> 0</td>\n",
        "      <td>...</td>\n",
        "      <td> 0</td>\n",
        "      <td> 0</td>\n",
        "      <td> 0</td>\n",
        "      <td> 0</td>\n",
        "      <td> 0</td>\n",
        "      <td> 0</td>\n",
        "      <td> 0</td>\n",
        "      <td> 0</td>\n",
        "      <td> 0</td>\n",
        "      <td>   60.0</td>\n",
        "    </tr>\n",
        "    <tr>\n",
        "      <th>ACAI BERRY JUICE,NATURALACAIBERRY</th>\n",
        "      <td>     ACAI BERRY JUICE</td>\n",
        "      <td> NATURALACAIBERRY</td>\n",
        "      <td> 0</td>\n",
        "      <td> 0</td>\n",
        "      <td> 0</td>\n",
        "      <td> 0</td>\n",
        "      <td> 0</td>\n",
        "      <td> 0</td>\n",
        "      <td> 0</td>\n",
        "      <td> 0</td>\n",
        "      <td>...</td>\n",
        "      <td> 0</td>\n",
        "      <td> 0</td>\n",
        "      <td> 0</td>\n",
        "      <td> 0</td>\n",
        "      <td> 0</td>\n",
        "      <td> 0</td>\n",
        "      <td> 0</td>\n",
        "      <td> 0</td>\n",
        "      <td> 0</td>\n",
        "      <td>   29.0</td>\n",
        "    </tr>\n",
        "    <tr>\n",
        "      <th>ACNE FACIAL SOAP,ACNEFACIALSOAP</th>\n",
        "      <td>     ACNE FACIAL SOAP</td>\n",
        "      <td>   ACNEFACIALSOAP</td>\n",
        "      <td> 0</td>\n",
        "      <td> 0</td>\n",
        "      <td> 0</td>\n",
        "      <td> 0</td>\n",
        "      <td> 0</td>\n",
        "      <td> 0</td>\n",
        "      <td> 0</td>\n",
        "      <td> 0</td>\n",
        "      <td>...</td>\n",
        "      <td> 0</td>\n",
        "      <td> 0</td>\n",
        "      <td> 0</td>\n",
        "      <td> 0</td>\n",
        "      <td> 0</td>\n",
        "      <td> 0</td>\n",
        "      <td> 0</td>\n",
        "      <td> 0</td>\n",
        "      <td> 0</td>\n",
        "      <td>  110.0</td>\n",
        "    </tr>\n",
        "  </tbody>\n",
        "</table>\n",
        "<p>5 rows \u00d7 47 columns</p>\n",
        "</div>"
       ],
       "metadata": {},
       "output_type": "pyout",
       "prompt_number": 12,
       "text": [
        "                                                Product               SKU  \\\n",
        "7 GRAIN MILK,065917OG7                     7 GRAIN MILK         065917OG7   \n",
        "7 GRAIN MILK - 946ML,065917OG7     7 GRAIN MILK - 946ML         065917OG7   \n",
        "ACAI BERRY JUICE,361001                ACAI BERRY JUICE            361001   \n",
        "ACAI BERRY JUICE,NATURALACAIBERRY      ACAI BERRY JUICE  NATURALACAIBERRY   \n",
        "ACNE FACIAL SOAP,ACNEFACIALSOAP        ACNE FACIAL SOAP    ACNEFACIALSOAP   \n",
        "\n",
        "                                   2012-05-01  2012-06-01  2012-07-01  \\\n",
        "7 GRAIN MILK,065917OG7                      0           0           0   \n",
        "7 GRAIN MILK - 946ML,065917OG7              0           0           0   \n",
        "ACAI BERRY JUICE,361001                     0           0           0   \n",
        "ACAI BERRY JUICE,NATURALACAIBERRY           0           0           0   \n",
        "ACNE FACIAL SOAP,ACNEFACIALSOAP             0           0           0   \n",
        "\n",
        "                                   2012-08-01  2012-09-01  2012-10-01  \\\n",
        "7 GRAIN MILK,065917OG7                      0           0           0   \n",
        "7 GRAIN MILK - 946ML,065917OG7              0           0           0   \n",
        "ACAI BERRY JUICE,361001                     0           0           0   \n",
        "ACAI BERRY JUICE,NATURALACAIBERRY           0           0           0   \n",
        "ACNE FACIAL SOAP,ACNEFACIALSOAP             0           0           0   \n",
        "\n",
        "                                   2012-11-01  2012-12-01   ...     \\\n",
        "7 GRAIN MILK,065917OG7                      0           0   ...      \n",
        "7 GRAIN MILK - 946ML,065917OG7              0           0   ...      \n",
        "ACAI BERRY JUICE,361001                     0           0   ...      \n",
        "ACAI BERRY JUICE,NATURALACAIBERRY           0           0   ...      \n",
        "ACNE FACIAL SOAP,ACNEFACIALSOAP             0           0   ...      \n",
        "\n",
        "                                   2015-04-01  2015-05-01  2015-06-01  \\\n",
        "7 GRAIN MILK,065917OG7                      0           0           0   \n",
        "7 GRAIN MILK - 946ML,065917OG7              0           0           0   \n",
        "ACAI BERRY JUICE,361001                     0           0           0   \n",
        "ACAI BERRY JUICE,NATURALACAIBERRY           0           0           0   \n",
        "ACNE FACIAL SOAP,ACNEFACIALSOAP             0           0           0   \n",
        "\n",
        "                                   2015-07-01  2015-08-01  2015-09-01  \\\n",
        "7 GRAIN MILK,065917OG7                      0           0           0   \n",
        "7 GRAIN MILK - 946ML,065917OG7              0           0           0   \n",
        "ACAI BERRY JUICE,361001                     0           0           0   \n",
        "ACAI BERRY JUICE,NATURALACAIBERRY           0           0           0   \n",
        "ACNE FACIAL SOAP,ACNEFACIALSOAP             0           0           0   \n",
        "\n",
        "                                   2015-10-01  2015-11-01  2015-12-01  Revenue  \n",
        "7 GRAIN MILK,065917OG7                      0           0           0   1257.7  \n",
        "7 GRAIN MILK - 946ML,065917OG7              0           0           0    235.2  \n",
        "ACAI BERRY JUICE,361001                     0           0           0     60.0  \n",
        "ACAI BERRY JUICE,NATURALACAIBERRY           0           0           0     29.0  \n",
        "ACNE FACIAL SOAP,ACNEFACIALSOAP             0           0           0    110.0  \n",
        "\n",
        "[5 rows x 47 columns]"
       ]
      }
     ],
     "prompt_number": 12
    },
    {
     "cell_type": "code",
     "collapsed": false,
     "input": [
      "df1['New'] = df1.apply(lambda x: str(x['Product']) +\",\"+ str(x['SKU']), axis=1)\n",
      "df.head()"
     ],
     "language": "python",
     "metadata": {},
     "outputs": [
      {
       "html": [
        "<div style=\"max-height:1000px;max-width:1500px;overflow:auto;\">\n",
        "<table border=\"1\" class=\"dataframe\">\n",
        "  <thead>\n",
        "    <tr style=\"text-align: right;\">\n",
        "      <th></th>\n",
        "      <th>Date</th>\n",
        "      <th>Product</th>\n",
        "      <th>SKU</th>\n",
        "      <th>Revenue</th>\n",
        "    </tr>\n",
        "  </thead>\n",
        "  <tbody>\n",
        "    <tr>\n",
        "      <th>0</th>\n",
        "      <td> 2012-04-26</td>\n",
        "      <td>               BROWN RICE</td>\n",
        "      <td> 6221078144296</td>\n",
        "      <td> 10.40</td>\n",
        "    </tr>\n",
        "    <tr>\n",
        "      <th>1</th>\n",
        "      <td> 2012-04-26</td>\n",
        "      <td>       LIVER WELLNESS TEA</td>\n",
        "      <td> 6221078744045</td>\n",
        "      <td>  8.19</td>\n",
        "    </tr>\n",
        "    <tr>\n",
        "      <th>2</th>\n",
        "      <td> 2012-04-26</td>\n",
        "      <td> POWER PROTEIN BAR PEANUT</td>\n",
        "      <td> 6221078185121</td>\n",
        "      <td>  9.10</td>\n",
        "    </tr>\n",
        "    <tr>\n",
        "      <th>3</th>\n",
        "      <td> 2012-04-26</td>\n",
        "      <td>            PUMPKIN SEEDS</td>\n",
        "      <td> 6221078447144</td>\n",
        "      <td>  9.36</td>\n",
        "    </tr>\n",
        "    <tr>\n",
        "      <th>4</th>\n",
        "      <td> 2012-04-26</td>\n",
        "      <td>               RAW CASHEW</td>\n",
        "      <td>         20014</td>\n",
        "      <td> 56.88</td>\n",
        "    </tr>\n",
        "  </tbody>\n",
        "</table>\n",
        "</div>"
       ],
       "metadata": {},
       "output_type": "pyout",
       "prompt_number": 13,
       "text": [
        "         Date                   Product            SKU  Revenue\n",
        "0  2012-04-26                BROWN RICE  6221078144296    10.40\n",
        "1  2012-04-26        LIVER WELLNESS TEA  6221078744045     8.19\n",
        "2  2012-04-26  POWER PROTEIN BAR PEANUT  6221078185121     9.10\n",
        "3  2012-04-26             PUMPKIN SEEDS  6221078447144     9.36\n",
        "4  2012-04-26                RAW CASHEW          20014    56.88"
       ]
      }
     ],
     "prompt_number": 13
    },
    {
     "cell_type": "code",
     "collapsed": false,
     "input": [
      "for i in range(0, max(df1.index)+1):\n",
      "    final.loc[df1.loc[i, 'New'],df1.loc[i, 'Date1']] = df1.loc[i, 'Revenue']\n",
      "    \n",
      "final.head()"
     ],
     "language": "python",
     "metadata": {},
     "outputs": [
      {
       "html": [
        "<div style=\"max-height:1000px;max-width:1500px;overflow:auto;\">\n",
        "<table border=\"1\" class=\"dataframe\">\n",
        "  <thead>\n",
        "    <tr style=\"text-align: right;\">\n",
        "      <th></th>\n",
        "      <th>Product</th>\n",
        "      <th>SKU</th>\n",
        "      <th>2012-05-01</th>\n",
        "      <th>2012-06-01</th>\n",
        "      <th>2012-07-01</th>\n",
        "      <th>2012-08-01</th>\n",
        "      <th>2012-09-01</th>\n",
        "      <th>2012-10-01</th>\n",
        "      <th>2012-11-01</th>\n",
        "      <th>2012-12-01</th>\n",
        "      <th>...</th>\n",
        "      <th>2015-04-01</th>\n",
        "      <th>2015-05-01</th>\n",
        "      <th>2015-06-01</th>\n",
        "      <th>2015-07-01</th>\n",
        "      <th>2015-08-01</th>\n",
        "      <th>2015-09-01</th>\n",
        "      <th>2015-10-01</th>\n",
        "      <th>2015-11-01</th>\n",
        "      <th>2015-12-01</th>\n",
        "      <th>Revenue</th>\n",
        "    </tr>\n",
        "  </thead>\n",
        "  <tbody>\n",
        "    <tr>\n",
        "      <th>7 GRAIN MILK,065917OG7</th>\n",
        "      <td>         7 GRAIN MILK</td>\n",
        "      <td>        065917OG7</td>\n",
        "      <td> 0</td>\n",
        "      <td> 0</td>\n",
        "      <td> 0</td>\n",
        "      <td> 0</td>\n",
        "      <td> 0</td>\n",
        "      <td> 0</td>\n",
        "      <td> 0</td>\n",
        "      <td> 31.9</td>\n",
        "      <td>...</td>\n",
        "      <td> 0</td>\n",
        "      <td> 0</td>\n",
        "      <td> 0</td>\n",
        "      <td> 0</td>\n",
        "      <td> 0</td>\n",
        "      <td> 0</td>\n",
        "      <td> 0</td>\n",
        "      <td> 0</td>\n",
        "      <td>  0</td>\n",
        "      <td> 1257.7</td>\n",
        "    </tr>\n",
        "    <tr>\n",
        "      <th>7 GRAIN MILK - 946ML,065917OG7</th>\n",
        "      <td> 7 GRAIN MILK - 946ML</td>\n",
        "      <td>        065917OG7</td>\n",
        "      <td> 0</td>\n",
        "      <td> 0</td>\n",
        "      <td> 0</td>\n",
        "      <td> 0</td>\n",
        "      <td> 0</td>\n",
        "      <td> 0</td>\n",
        "      <td> 0</td>\n",
        "      <td>  0.0</td>\n",
        "      <td>...</td>\n",
        "      <td> 0</td>\n",
        "      <td> 0</td>\n",
        "      <td> 0</td>\n",
        "      <td> 0</td>\n",
        "      <td> 0</td>\n",
        "      <td> 0</td>\n",
        "      <td> 0</td>\n",
        "      <td> 0</td>\n",
        "      <td>  0</td>\n",
        "      <td>  235.2</td>\n",
        "    </tr>\n",
        "    <tr>\n",
        "      <th>ACAI BERRY JUICE,361001</th>\n",
        "      <td>     ACAI BERRY JUICE</td>\n",
        "      <td>           361001</td>\n",
        "      <td> 0</td>\n",
        "      <td> 0</td>\n",
        "      <td> 0</td>\n",
        "      <td> 0</td>\n",
        "      <td> 0</td>\n",
        "      <td> 0</td>\n",
        "      <td> 0</td>\n",
        "      <td>  0.0</td>\n",
        "      <td>...</td>\n",
        "      <td> 0</td>\n",
        "      <td> 0</td>\n",
        "      <td> 0</td>\n",
        "      <td> 0</td>\n",
        "      <td> 0</td>\n",
        "      <td> 0</td>\n",
        "      <td> 0</td>\n",
        "      <td> 0</td>\n",
        "      <td> 60</td>\n",
        "      <td>   60.0</td>\n",
        "    </tr>\n",
        "    <tr>\n",
        "      <th>ACAI BERRY JUICE,NATURALACAIBERRY</th>\n",
        "      <td>     ACAI BERRY JUICE</td>\n",
        "      <td> NATURALACAIBERRY</td>\n",
        "      <td> 0</td>\n",
        "      <td> 0</td>\n",
        "      <td> 0</td>\n",
        "      <td> 0</td>\n",
        "      <td> 0</td>\n",
        "      <td> 0</td>\n",
        "      <td> 0</td>\n",
        "      <td>  0.0</td>\n",
        "      <td>...</td>\n",
        "      <td> 0</td>\n",
        "      <td> 0</td>\n",
        "      <td> 0</td>\n",
        "      <td> 0</td>\n",
        "      <td> 0</td>\n",
        "      <td> 0</td>\n",
        "      <td> 0</td>\n",
        "      <td> 0</td>\n",
        "      <td>  0</td>\n",
        "      <td>   29.0</td>\n",
        "    </tr>\n",
        "    <tr>\n",
        "      <th>ACNE FACIAL SOAP,ACNEFACIALSOAP</th>\n",
        "      <td>     ACNE FACIAL SOAP</td>\n",
        "      <td>   ACNEFACIALSOAP</td>\n",
        "      <td> 0</td>\n",
        "      <td> 0</td>\n",
        "      <td> 0</td>\n",
        "      <td> 0</td>\n",
        "      <td> 0</td>\n",
        "      <td> 0</td>\n",
        "      <td> 0</td>\n",
        "      <td>  0.0</td>\n",
        "      <td>...</td>\n",
        "      <td> 0</td>\n",
        "      <td> 0</td>\n",
        "      <td> 0</td>\n",
        "      <td> 0</td>\n",
        "      <td> 0</td>\n",
        "      <td> 0</td>\n",
        "      <td> 0</td>\n",
        "      <td> 0</td>\n",
        "      <td>  0</td>\n",
        "      <td>  110.0</td>\n",
        "    </tr>\n",
        "  </tbody>\n",
        "</table>\n",
        "<p>5 rows \u00d7 47 columns</p>\n",
        "</div>"
       ],
       "metadata": {},
       "output_type": "pyout",
       "prompt_number": 14,
       "text": [
        "                                                Product               SKU  \\\n",
        "7 GRAIN MILK,065917OG7                     7 GRAIN MILK         065917OG7   \n",
        "7 GRAIN MILK - 946ML,065917OG7     7 GRAIN MILK - 946ML         065917OG7   \n",
        "ACAI BERRY JUICE,361001                ACAI BERRY JUICE            361001   \n",
        "ACAI BERRY JUICE,NATURALACAIBERRY      ACAI BERRY JUICE  NATURALACAIBERRY   \n",
        "ACNE FACIAL SOAP,ACNEFACIALSOAP        ACNE FACIAL SOAP    ACNEFACIALSOAP   \n",
        "\n",
        "                                   2012-05-01  2012-06-01  2012-07-01  \\\n",
        "7 GRAIN MILK,065917OG7                      0           0           0   \n",
        "7 GRAIN MILK - 946ML,065917OG7              0           0           0   \n",
        "ACAI BERRY JUICE,361001                     0           0           0   \n",
        "ACAI BERRY JUICE,NATURALACAIBERRY           0           0           0   \n",
        "ACNE FACIAL SOAP,ACNEFACIALSOAP             0           0           0   \n",
        "\n",
        "                                   2012-08-01  2012-09-01  2012-10-01  \\\n",
        "7 GRAIN MILK,065917OG7                      0           0           0   \n",
        "7 GRAIN MILK - 946ML,065917OG7              0           0           0   \n",
        "ACAI BERRY JUICE,361001                     0           0           0   \n",
        "ACAI BERRY JUICE,NATURALACAIBERRY           0           0           0   \n",
        "ACNE FACIAL SOAP,ACNEFACIALSOAP             0           0           0   \n",
        "\n",
        "                                   2012-11-01  2012-12-01   ...     \\\n",
        "7 GRAIN MILK,065917OG7                      0        31.9   ...      \n",
        "7 GRAIN MILK - 946ML,065917OG7              0         0.0   ...      \n",
        "ACAI BERRY JUICE,361001                     0         0.0   ...      \n",
        "ACAI BERRY JUICE,NATURALACAIBERRY           0         0.0   ...      \n",
        "ACNE FACIAL SOAP,ACNEFACIALSOAP             0         0.0   ...      \n",
        "\n",
        "                                   2015-04-01  2015-05-01  2015-06-01  \\\n",
        "7 GRAIN MILK,065917OG7                      0           0           0   \n",
        "7 GRAIN MILK - 946ML,065917OG7              0           0           0   \n",
        "ACAI BERRY JUICE,361001                     0           0           0   \n",
        "ACAI BERRY JUICE,NATURALACAIBERRY           0           0           0   \n",
        "ACNE FACIAL SOAP,ACNEFACIALSOAP             0           0           0   \n",
        "\n",
        "                                   2015-07-01  2015-08-01  2015-09-01  \\\n",
        "7 GRAIN MILK,065917OG7                      0           0           0   \n",
        "7 GRAIN MILK - 946ML,065917OG7              0           0           0   \n",
        "ACAI BERRY JUICE,361001                     0           0           0   \n",
        "ACAI BERRY JUICE,NATURALACAIBERRY           0           0           0   \n",
        "ACNE FACIAL SOAP,ACNEFACIALSOAP             0           0           0   \n",
        "\n",
        "                                   2015-10-01  2015-11-01  2015-12-01  Revenue  \n",
        "7 GRAIN MILK,065917OG7                      0           0           0   1257.7  \n",
        "7 GRAIN MILK - 946ML,065917OG7              0           0           0    235.2  \n",
        "ACAI BERRY JUICE,361001                     0           0          60     60.0  \n",
        "ACAI BERRY JUICE,NATURALACAIBERRY           0           0           0     29.0  \n",
        "ACNE FACIAL SOAP,ACNEFACIALSOAP             0           0           0    110.0  \n",
        "\n",
        "[5 rows x 47 columns]"
       ]
      }
     ],
     "prompt_number": 14
    },
    {
     "cell_type": "code",
     "collapsed": false,
     "input": [
      "final = final.reset_index().drop('index',1)\n",
      "final.head()"
     ],
     "language": "python",
     "metadata": {},
     "outputs": [
      {
       "html": [
        "<div style=\"max-height:1000px;max-width:1500px;overflow:auto;\">\n",
        "<table border=\"1\" class=\"dataframe\">\n",
        "  <thead>\n",
        "    <tr style=\"text-align: right;\">\n",
        "      <th></th>\n",
        "      <th>Product</th>\n",
        "      <th>SKU</th>\n",
        "      <th>2012-05-01</th>\n",
        "      <th>2012-06-01</th>\n",
        "      <th>2012-07-01</th>\n",
        "      <th>2012-08-01</th>\n",
        "      <th>2012-09-01</th>\n",
        "      <th>2012-10-01</th>\n",
        "      <th>2012-11-01</th>\n",
        "      <th>2012-12-01</th>\n",
        "      <th>...</th>\n",
        "      <th>2015-04-01</th>\n",
        "      <th>2015-05-01</th>\n",
        "      <th>2015-06-01</th>\n",
        "      <th>2015-07-01</th>\n",
        "      <th>2015-08-01</th>\n",
        "      <th>2015-09-01</th>\n",
        "      <th>2015-10-01</th>\n",
        "      <th>2015-11-01</th>\n",
        "      <th>2015-12-01</th>\n",
        "      <th>Revenue</th>\n",
        "    </tr>\n",
        "  </thead>\n",
        "  <tbody>\n",
        "    <tr>\n",
        "      <th>0</th>\n",
        "      <td>         7 GRAIN MILK</td>\n",
        "      <td>        065917OG7</td>\n",
        "      <td> 0</td>\n",
        "      <td> 0</td>\n",
        "      <td> 0</td>\n",
        "      <td> 0</td>\n",
        "      <td> 0</td>\n",
        "      <td> 0</td>\n",
        "      <td> 0</td>\n",
        "      <td> 31.9</td>\n",
        "      <td>...</td>\n",
        "      <td> 0</td>\n",
        "      <td> 0</td>\n",
        "      <td> 0</td>\n",
        "      <td> 0</td>\n",
        "      <td> 0</td>\n",
        "      <td> 0</td>\n",
        "      <td> 0</td>\n",
        "      <td> 0</td>\n",
        "      <td>  0</td>\n",
        "      <td> 1257.7</td>\n",
        "    </tr>\n",
        "    <tr>\n",
        "      <th>1</th>\n",
        "      <td> 7 GRAIN MILK - 946ML</td>\n",
        "      <td>        065917OG7</td>\n",
        "      <td> 0</td>\n",
        "      <td> 0</td>\n",
        "      <td> 0</td>\n",
        "      <td> 0</td>\n",
        "      <td> 0</td>\n",
        "      <td> 0</td>\n",
        "      <td> 0</td>\n",
        "      <td>  0.0</td>\n",
        "      <td>...</td>\n",
        "      <td> 0</td>\n",
        "      <td> 0</td>\n",
        "      <td> 0</td>\n",
        "      <td> 0</td>\n",
        "      <td> 0</td>\n",
        "      <td> 0</td>\n",
        "      <td> 0</td>\n",
        "      <td> 0</td>\n",
        "      <td>  0</td>\n",
        "      <td>  235.2</td>\n",
        "    </tr>\n",
        "    <tr>\n",
        "      <th>2</th>\n",
        "      <td>     ACAI BERRY JUICE</td>\n",
        "      <td>           361001</td>\n",
        "      <td> 0</td>\n",
        "      <td> 0</td>\n",
        "      <td> 0</td>\n",
        "      <td> 0</td>\n",
        "      <td> 0</td>\n",
        "      <td> 0</td>\n",
        "      <td> 0</td>\n",
        "      <td>  0.0</td>\n",
        "      <td>...</td>\n",
        "      <td> 0</td>\n",
        "      <td> 0</td>\n",
        "      <td> 0</td>\n",
        "      <td> 0</td>\n",
        "      <td> 0</td>\n",
        "      <td> 0</td>\n",
        "      <td> 0</td>\n",
        "      <td> 0</td>\n",
        "      <td> 60</td>\n",
        "      <td>   60.0</td>\n",
        "    </tr>\n",
        "    <tr>\n",
        "      <th>3</th>\n",
        "      <td>     ACAI BERRY JUICE</td>\n",
        "      <td> NATURALACAIBERRY</td>\n",
        "      <td> 0</td>\n",
        "      <td> 0</td>\n",
        "      <td> 0</td>\n",
        "      <td> 0</td>\n",
        "      <td> 0</td>\n",
        "      <td> 0</td>\n",
        "      <td> 0</td>\n",
        "      <td>  0.0</td>\n",
        "      <td>...</td>\n",
        "      <td> 0</td>\n",
        "      <td> 0</td>\n",
        "      <td> 0</td>\n",
        "      <td> 0</td>\n",
        "      <td> 0</td>\n",
        "      <td> 0</td>\n",
        "      <td> 0</td>\n",
        "      <td> 0</td>\n",
        "      <td>  0</td>\n",
        "      <td>   29.0</td>\n",
        "    </tr>\n",
        "    <tr>\n",
        "      <th>4</th>\n",
        "      <td>     ACNE FACIAL SOAP</td>\n",
        "      <td>   ACNEFACIALSOAP</td>\n",
        "      <td> 0</td>\n",
        "      <td> 0</td>\n",
        "      <td> 0</td>\n",
        "      <td> 0</td>\n",
        "      <td> 0</td>\n",
        "      <td> 0</td>\n",
        "      <td> 0</td>\n",
        "      <td>  0.0</td>\n",
        "      <td>...</td>\n",
        "      <td> 0</td>\n",
        "      <td> 0</td>\n",
        "      <td> 0</td>\n",
        "      <td> 0</td>\n",
        "      <td> 0</td>\n",
        "      <td> 0</td>\n",
        "      <td> 0</td>\n",
        "      <td> 0</td>\n",
        "      <td>  0</td>\n",
        "      <td>  110.0</td>\n",
        "    </tr>\n",
        "  </tbody>\n",
        "</table>\n",
        "<p>5 rows \u00d7 47 columns</p>\n",
        "</div>"
       ],
       "metadata": {},
       "output_type": "pyout",
       "prompt_number": 15,
       "text": [
        "                Product               SKU  2012-05-01  2012-06-01  2012-07-01  \\\n",
        "0          7 GRAIN MILK         065917OG7           0           0           0   \n",
        "1  7 GRAIN MILK - 946ML         065917OG7           0           0           0   \n",
        "2      ACAI BERRY JUICE            361001           0           0           0   \n",
        "3      ACAI BERRY JUICE  NATURALACAIBERRY           0           0           0   \n",
        "4      ACNE FACIAL SOAP    ACNEFACIALSOAP           0           0           0   \n",
        "\n",
        "   2012-08-01  2012-09-01  2012-10-01  2012-11-01  2012-12-01   ...     \\\n",
        "0           0           0           0           0        31.9   ...      \n",
        "1           0           0           0           0         0.0   ...      \n",
        "2           0           0           0           0         0.0   ...      \n",
        "3           0           0           0           0         0.0   ...      \n",
        "4           0           0           0           0         0.0   ...      \n",
        "\n",
        "   2015-04-01  2015-05-01  2015-06-01  2015-07-01  2015-08-01  2015-09-01  \\\n",
        "0           0           0           0           0           0           0   \n",
        "1           0           0           0           0           0           0   \n",
        "2           0           0           0           0           0           0   \n",
        "3           0           0           0           0           0           0   \n",
        "4           0           0           0           0           0           0   \n",
        "\n",
        "   2015-10-01  2015-11-01  2015-12-01  Revenue  \n",
        "0           0           0           0   1257.7  \n",
        "1           0           0           0    235.2  \n",
        "2           0           0          60     60.0  \n",
        "3           0           0           0     29.0  \n",
        "4           0           0           0    110.0  \n",
        "\n",
        "[5 rows x 47 columns]"
       ]
      }
     ],
     "prompt_number": 15
    },
    {
     "cell_type": "code",
     "collapsed": false,
     "input": [
      "for i in range(0,max(final.index)+1):\n",
      "    for j in range(2,len(final.columns)-1):\n",
      "        #To get the first non zero revenue month\n",
      "        if(final.iloc[i,j]!=0):\n",
      "            t=1\n",
      "            break\n",
      "    #TO get the total no of months        \n",
      "    n=len(final.columns)-1-j\n",
      "    m=n**(-1)\n",
      "    y=final.loc[i, 'Revenue']/final.iloc[i,j]\n",
      "    final.loc[i,'CMGR']=(pow(y,m)-1)*100\n",
      "    final.loc[i,'Period'] = n\n",
      "    \n",
      "final.head()"
     ],
     "language": "python",
     "metadata": {},
     "outputs": [
      {
       "html": [
        "<div style=\"max-height:1000px;max-width:1500px;overflow:auto;\">\n",
        "<table border=\"1\" class=\"dataframe\">\n",
        "  <thead>\n",
        "    <tr style=\"text-align: right;\">\n",
        "      <th></th>\n",
        "      <th>Product</th>\n",
        "      <th>SKU</th>\n",
        "      <th>2012-05-01</th>\n",
        "      <th>2012-06-01</th>\n",
        "      <th>2012-07-01</th>\n",
        "      <th>2012-08-01</th>\n",
        "      <th>2012-09-01</th>\n",
        "      <th>2012-10-01</th>\n",
        "      <th>2012-11-01</th>\n",
        "      <th>2012-12-01</th>\n",
        "      <th>...</th>\n",
        "      <th>2015-06-01</th>\n",
        "      <th>2015-07-01</th>\n",
        "      <th>2015-08-01</th>\n",
        "      <th>2015-09-01</th>\n",
        "      <th>2015-10-01</th>\n",
        "      <th>2015-11-01</th>\n",
        "      <th>2015-12-01</th>\n",
        "      <th>Revenue</th>\n",
        "      <th>CMGR</th>\n",
        "      <th>Period</th>\n",
        "    </tr>\n",
        "  </thead>\n",
        "  <tbody>\n",
        "    <tr>\n",
        "      <th>0</th>\n",
        "      <td>         7 GRAIN MILK</td>\n",
        "      <td>        065917OG7</td>\n",
        "      <td> 0</td>\n",
        "      <td> 0</td>\n",
        "      <td> 0</td>\n",
        "      <td> 0</td>\n",
        "      <td> 0</td>\n",
        "      <td> 0</td>\n",
        "      <td> 0</td>\n",
        "      <td> 31.9</td>\n",
        "      <td>...</td>\n",
        "      <td> 0</td>\n",
        "      <td> 0</td>\n",
        "      <td> 0</td>\n",
        "      <td> 0</td>\n",
        "      <td> 0</td>\n",
        "      <td> 0</td>\n",
        "      <td>  0</td>\n",
        "      <td> 1257.7</td>\n",
        "      <td> 10.440754</td>\n",
        "      <td> 37</td>\n",
        "    </tr>\n",
        "    <tr>\n",
        "      <th>1</th>\n",
        "      <td> 7 GRAIN MILK - 946ML</td>\n",
        "      <td>        065917OG7</td>\n",
        "      <td> 0</td>\n",
        "      <td> 0</td>\n",
        "      <td> 0</td>\n",
        "      <td> 0</td>\n",
        "      <td> 0</td>\n",
        "      <td> 0</td>\n",
        "      <td> 0</td>\n",
        "      <td>  0.0</td>\n",
        "      <td>...</td>\n",
        "      <td> 0</td>\n",
        "      <td> 0</td>\n",
        "      <td> 0</td>\n",
        "      <td> 0</td>\n",
        "      <td> 0</td>\n",
        "      <td> 0</td>\n",
        "      <td>  0</td>\n",
        "      <td>  235.2</td>\n",
        "      <td>  6.701355</td>\n",
        "      <td> 30</td>\n",
        "    </tr>\n",
        "    <tr>\n",
        "      <th>2</th>\n",
        "      <td>     ACAI BERRY JUICE</td>\n",
        "      <td>           361001</td>\n",
        "      <td> 0</td>\n",
        "      <td> 0</td>\n",
        "      <td> 0</td>\n",
        "      <td> 0</td>\n",
        "      <td> 0</td>\n",
        "      <td> 0</td>\n",
        "      <td> 0</td>\n",
        "      <td>  0.0</td>\n",
        "      <td>...</td>\n",
        "      <td> 0</td>\n",
        "      <td> 0</td>\n",
        "      <td> 0</td>\n",
        "      <td> 0</td>\n",
        "      <td> 0</td>\n",
        "      <td> 0</td>\n",
        "      <td> 60</td>\n",
        "      <td>   60.0</td>\n",
        "      <td>  0.000000</td>\n",
        "      <td>  3</td>\n",
        "    </tr>\n",
        "    <tr>\n",
        "      <th>3</th>\n",
        "      <td>     ACAI BERRY JUICE</td>\n",
        "      <td> NATURALACAIBERRY</td>\n",
        "      <td> 0</td>\n",
        "      <td> 0</td>\n",
        "      <td> 0</td>\n",
        "      <td> 0</td>\n",
        "      <td> 0</td>\n",
        "      <td> 0</td>\n",
        "      <td> 0</td>\n",
        "      <td>  0.0</td>\n",
        "      <td>...</td>\n",
        "      <td> 0</td>\n",
        "      <td> 0</td>\n",
        "      <td> 0</td>\n",
        "      <td> 0</td>\n",
        "      <td> 0</td>\n",
        "      <td> 0</td>\n",
        "      <td>  0</td>\n",
        "      <td>   29.0</td>\n",
        "      <td>  0.000000</td>\n",
        "      <td> 21</td>\n",
        "    </tr>\n",
        "    <tr>\n",
        "      <th>4</th>\n",
        "      <td>     ACNE FACIAL SOAP</td>\n",
        "      <td>   ACNEFACIALSOAP</td>\n",
        "      <td> 0</td>\n",
        "      <td> 0</td>\n",
        "      <td> 0</td>\n",
        "      <td> 0</td>\n",
        "      <td> 0</td>\n",
        "      <td> 0</td>\n",
        "      <td> 0</td>\n",
        "      <td>  0.0</td>\n",
        "      <td>...</td>\n",
        "      <td> 0</td>\n",
        "      <td> 0</td>\n",
        "      <td> 0</td>\n",
        "      <td> 0</td>\n",
        "      <td> 0</td>\n",
        "      <td> 0</td>\n",
        "      <td>  0</td>\n",
        "      <td>  110.0</td>\n",
        "      <td>  3.526492</td>\n",
        "      <td> 20</td>\n",
        "    </tr>\n",
        "  </tbody>\n",
        "</table>\n",
        "<p>5 rows \u00d7 49 columns</p>\n",
        "</div>"
       ],
       "metadata": {},
       "output_type": "pyout",
       "prompt_number": 16,
       "text": [
        "                Product               SKU  2012-05-01  2012-06-01  2012-07-01  \\\n",
        "0          7 GRAIN MILK         065917OG7           0           0           0   \n",
        "1  7 GRAIN MILK - 946ML         065917OG7           0           0           0   \n",
        "2      ACAI BERRY JUICE            361001           0           0           0   \n",
        "3      ACAI BERRY JUICE  NATURALACAIBERRY           0           0           0   \n",
        "4      ACNE FACIAL SOAP    ACNEFACIALSOAP           0           0           0   \n",
        "\n",
        "   2012-08-01  2012-09-01  2012-10-01  2012-11-01  2012-12-01   ...    \\\n",
        "0           0           0           0           0        31.9   ...     \n",
        "1           0           0           0           0         0.0   ...     \n",
        "2           0           0           0           0         0.0   ...     \n",
        "3           0           0           0           0         0.0   ...     \n",
        "4           0           0           0           0         0.0   ...     \n",
        "\n",
        "   2015-06-01  2015-07-01  2015-08-01  2015-09-01  2015-10-01  2015-11-01  \\\n",
        "0           0           0           0           0           0           0   \n",
        "1           0           0           0           0           0           0   \n",
        "2           0           0           0           0           0           0   \n",
        "3           0           0           0           0           0           0   \n",
        "4           0           0           0           0           0           0   \n",
        "\n",
        "   2015-12-01  Revenue       CMGR  Period  \n",
        "0           0   1257.7  10.440754      37  \n",
        "1           0    235.2   6.701355      30  \n",
        "2          60     60.0   0.000000       3  \n",
        "3           0     29.0   0.000000      21  \n",
        "4           0    110.0   3.526492      20  \n",
        "\n",
        "[5 rows x 49 columns]"
       ]
      }
     ],
     "prompt_number": 16
    },
    {
     "cell_type": "code",
     "collapsed": false,
     "input": [
      "final = final[['Product', 'SKU', 'CMGR', 'Period']]\n",
      "\n",
      "final['New'] = final.apply(lambda x: str(x['Product']) +\",\"+ str(x['SKU']), axis=1)\n",
      "final = final.set_index('New')\n",
      "final.index.name = None\n",
      "\n",
      "final.head()"
     ],
     "language": "python",
     "metadata": {},
     "outputs": [
      {
       "html": [
        "<div style=\"max-height:1000px;max-width:1500px;overflow:auto;\">\n",
        "<table border=\"1\" class=\"dataframe\">\n",
        "  <thead>\n",
        "    <tr style=\"text-align: right;\">\n",
        "      <th></th>\n",
        "      <th>Product</th>\n",
        "      <th>SKU</th>\n",
        "      <th>CMGR</th>\n",
        "      <th>Period</th>\n",
        "    </tr>\n",
        "  </thead>\n",
        "  <tbody>\n",
        "    <tr>\n",
        "      <th>7 GRAIN MILK,065917OG7</th>\n",
        "      <td>         7 GRAIN MILK</td>\n",
        "      <td>        065917OG7</td>\n",
        "      <td> 10.440754</td>\n",
        "      <td> 37</td>\n",
        "    </tr>\n",
        "    <tr>\n",
        "      <th>7 GRAIN MILK - 946ML,065917OG7</th>\n",
        "      <td> 7 GRAIN MILK - 946ML</td>\n",
        "      <td>        065917OG7</td>\n",
        "      <td>  6.701355</td>\n",
        "      <td> 30</td>\n",
        "    </tr>\n",
        "    <tr>\n",
        "      <th>ACAI BERRY JUICE,361001</th>\n",
        "      <td>     ACAI BERRY JUICE</td>\n",
        "      <td>           361001</td>\n",
        "      <td>  0.000000</td>\n",
        "      <td>  3</td>\n",
        "    </tr>\n",
        "    <tr>\n",
        "      <th>ACAI BERRY JUICE,NATURALACAIBERRY</th>\n",
        "      <td>     ACAI BERRY JUICE</td>\n",
        "      <td> NATURALACAIBERRY</td>\n",
        "      <td>  0.000000</td>\n",
        "      <td> 21</td>\n",
        "    </tr>\n",
        "    <tr>\n",
        "      <th>ACNE FACIAL SOAP,ACNEFACIALSOAP</th>\n",
        "      <td>     ACNE FACIAL SOAP</td>\n",
        "      <td>   ACNEFACIALSOAP</td>\n",
        "      <td>  3.526492</td>\n",
        "      <td> 20</td>\n",
        "    </tr>\n",
        "  </tbody>\n",
        "</table>\n",
        "</div>"
       ],
       "metadata": {},
       "output_type": "pyout",
       "prompt_number": 17,
       "text": [
        "                                                Product               SKU  \\\n",
        "7 GRAIN MILK,065917OG7                     7 GRAIN MILK         065917OG7   \n",
        "7 GRAIN MILK - 946ML,065917OG7     7 GRAIN MILK - 946ML         065917OG7   \n",
        "ACAI BERRY JUICE,361001                ACAI BERRY JUICE            361001   \n",
        "ACAI BERRY JUICE,NATURALACAIBERRY      ACAI BERRY JUICE  NATURALACAIBERRY   \n",
        "ACNE FACIAL SOAP,ACNEFACIALSOAP        ACNE FACIAL SOAP    ACNEFACIALSOAP   \n",
        "\n",
        "                                        CMGR  Period  \n",
        "7 GRAIN MILK,065917OG7             10.440754      37  \n",
        "7 GRAIN MILK - 946ML,065917OG7      6.701355      30  \n",
        "ACAI BERRY JUICE,361001             0.000000       3  \n",
        "ACAI BERRY JUICE,NATURALACAIBERRY   0.000000      21  \n",
        "ACNE FACIAL SOAP,ACNEFACIALSOAP     3.526492      20  "
       ]
      }
     ],
     "prompt_number": 17
    },
    {
     "cell_type": "code",
     "collapsed": false,
     "input": [
      "df['New'] = df.apply(lambda x: str(x['Product']) +\",\"+ str(x['SKU']), axis=1)\n",
      "df.head()"
     ],
     "language": "python",
     "metadata": {},
     "outputs": [
      {
       "html": [
        "<div style=\"max-height:1000px;max-width:1500px;overflow:auto;\">\n",
        "<table border=\"1\" class=\"dataframe\">\n",
        "  <thead>\n",
        "    <tr style=\"text-align: right;\">\n",
        "      <th></th>\n",
        "      <th>Date</th>\n",
        "      <th>Product</th>\n",
        "      <th>SKU</th>\n",
        "      <th>Revenue</th>\n",
        "      <th>New</th>\n",
        "    </tr>\n",
        "  </thead>\n",
        "  <tbody>\n",
        "    <tr>\n",
        "      <th>0</th>\n",
        "      <td> 2012-04-26</td>\n",
        "      <td>               BROWN RICE</td>\n",
        "      <td> 6221078144296</td>\n",
        "      <td> 10.40</td>\n",
        "      <td>               BROWN RICE,6221078144296</td>\n",
        "    </tr>\n",
        "    <tr>\n",
        "      <th>1</th>\n",
        "      <td> 2012-04-26</td>\n",
        "      <td>       LIVER WELLNESS TEA</td>\n",
        "      <td> 6221078744045</td>\n",
        "      <td>  8.19</td>\n",
        "      <td>       LIVER WELLNESS TEA,6221078744045</td>\n",
        "    </tr>\n",
        "    <tr>\n",
        "      <th>2</th>\n",
        "      <td> 2012-04-26</td>\n",
        "      <td> POWER PROTEIN BAR PEANUT</td>\n",
        "      <td> 6221078185121</td>\n",
        "      <td>  9.10</td>\n",
        "      <td> POWER PROTEIN BAR PEANUT,6221078185121</td>\n",
        "    </tr>\n",
        "    <tr>\n",
        "      <th>3</th>\n",
        "      <td> 2012-04-26</td>\n",
        "      <td>            PUMPKIN SEEDS</td>\n",
        "      <td> 6221078447144</td>\n",
        "      <td>  9.36</td>\n",
        "      <td>            PUMPKIN SEEDS,6221078447144</td>\n",
        "    </tr>\n",
        "    <tr>\n",
        "      <th>4</th>\n",
        "      <td> 2012-04-26</td>\n",
        "      <td>               RAW CASHEW</td>\n",
        "      <td>         20014</td>\n",
        "      <td> 56.88</td>\n",
        "      <td>                       RAW CASHEW,20014</td>\n",
        "    </tr>\n",
        "  </tbody>\n",
        "</table>\n",
        "</div>"
       ],
       "metadata": {},
       "output_type": "pyout",
       "prompt_number": 18,
       "text": [
        "         Date                   Product            SKU  Revenue  \\\n",
        "0  2012-04-26                BROWN RICE  6221078144296    10.40   \n",
        "1  2012-04-26        LIVER WELLNESS TEA  6221078744045     8.19   \n",
        "2  2012-04-26  POWER PROTEIN BAR PEANUT  6221078185121     9.10   \n",
        "3  2012-04-26             PUMPKIN SEEDS  6221078447144     9.36   \n",
        "4  2012-04-26                RAW CASHEW          20014    56.88   \n",
        "\n",
        "                                      New  \n",
        "0                BROWN RICE,6221078144296  \n",
        "1        LIVER WELLNESS TEA,6221078744045  \n",
        "2  POWER PROTEIN BAR PEANUT,6221078185121  \n",
        "3             PUMPKIN SEEDS,6221078447144  \n",
        "4                        RAW CASHEW,20014  "
       ]
      }
     ],
     "prompt_number": 18
    },
    {
     "cell_type": "code",
     "collapsed": false,
     "input": [
      "for i in range(0, max(df.index)+1):\n",
      "    df.loc[i, 'CMGR'] = final.loc[df.loc[i, 'New'], 'CMGR']\n",
      "    df.loc[i, 'Period'] = final.loc[df.loc[i, 'New'], 'Period']\n",
      "df.head()"
     ],
     "language": "python",
     "metadata": {},
     "outputs": [
      {
       "html": [
        "<div style=\"max-height:1000px;max-width:1500px;overflow:auto;\">\n",
        "<table border=\"1\" class=\"dataframe\">\n",
        "  <thead>\n",
        "    <tr style=\"text-align: right;\">\n",
        "      <th></th>\n",
        "      <th>Date</th>\n",
        "      <th>Product</th>\n",
        "      <th>SKU</th>\n",
        "      <th>Revenue</th>\n",
        "      <th>New</th>\n",
        "      <th>CMGR</th>\n",
        "      <th>Period</th>\n",
        "    </tr>\n",
        "  </thead>\n",
        "  <tbody>\n",
        "    <tr>\n",
        "      <th>0</th>\n",
        "      <td> 2012-04-26</td>\n",
        "      <td>               BROWN RICE</td>\n",
        "      <td> 6221078144296</td>\n",
        "      <td> 10.40</td>\n",
        "      <td>               BROWN RICE,6221078144296</td>\n",
        "      <td> 0.000000</td>\n",
        "      <td> 46</td>\n",
        "    </tr>\n",
        "    <tr>\n",
        "      <th>1</th>\n",
        "      <td> 2012-04-26</td>\n",
        "      <td>       LIVER WELLNESS TEA</td>\n",
        "      <td> 6221078744045</td>\n",
        "      <td>  8.19</td>\n",
        "      <td>       LIVER WELLNESS TEA,6221078744045</td>\n",
        "      <td> 0.000000</td>\n",
        "      <td> 46</td>\n",
        "    </tr>\n",
        "    <tr>\n",
        "      <th>2</th>\n",
        "      <td> 2012-04-26</td>\n",
        "      <td> POWER PROTEIN BAR PEANUT</td>\n",
        "      <td> 6221078185121</td>\n",
        "      <td>  9.10</td>\n",
        "      <td> POWER PROTEIN BAR PEANUT,6221078185121</td>\n",
        "      <td> 0.000000</td>\n",
        "      <td> 46</td>\n",
        "    </tr>\n",
        "    <tr>\n",
        "      <th>3</th>\n",
        "      <td> 2012-04-26</td>\n",
        "      <td>            PUMPKIN SEEDS</td>\n",
        "      <td> 6221078447144</td>\n",
        "      <td>  9.36</td>\n",
        "      <td>            PUMPKIN SEEDS,6221078447144</td>\n",
        "      <td> 1.116679</td>\n",
        "      <td> 46</td>\n",
        "    </tr>\n",
        "    <tr>\n",
        "      <th>4</th>\n",
        "      <td> 2012-04-26</td>\n",
        "      <td>               RAW CASHEW</td>\n",
        "      <td>         20014</td>\n",
        "      <td> 56.88</td>\n",
        "      <td>                       RAW CASHEW,20014</td>\n",
        "      <td> 0.000000</td>\n",
        "      <td> 46</td>\n",
        "    </tr>\n",
        "  </tbody>\n",
        "</table>\n",
        "</div>"
       ],
       "metadata": {},
       "output_type": "pyout",
       "prompt_number": 19,
       "text": [
        "         Date                   Product            SKU  Revenue  \\\n",
        "0  2012-04-26                BROWN RICE  6221078144296    10.40   \n",
        "1  2012-04-26        LIVER WELLNESS TEA  6221078744045     8.19   \n",
        "2  2012-04-26  POWER PROTEIN BAR PEANUT  6221078185121     9.10   \n",
        "3  2012-04-26             PUMPKIN SEEDS  6221078447144     9.36   \n",
        "4  2012-04-26                RAW CASHEW          20014    56.88   \n",
        "\n",
        "                                      New      CMGR  Period  \n",
        "0                BROWN RICE,6221078144296  0.000000      46  \n",
        "1        LIVER WELLNESS TEA,6221078744045  0.000000      46  \n",
        "2  POWER PROTEIN BAR PEANUT,6221078185121  0.000000      46  \n",
        "3             PUMPKIN SEEDS,6221078447144  1.116679      46  \n",
        "4                        RAW CASHEW,20014  0.000000      46  "
       ]
      }
     ],
     "prompt_number": 19
    },
    {
     "cell_type": "code",
     "collapsed": false,
     "input": [
      "total = df['Revenue'].sum() #total revenue\n",
      "df['%Total Revenue'] = df['Revenue'].apply(lambda x: x*100/total) #%total revenue\n",
      "totprods = max(df.index) + 1\n",
      "temp = total/totprods #total revenue / total products\n",
      "df.loc[:, 'Average Revenue'] = temp #avg revenue\n",
      "df.head()"
     ],
     "language": "python",
     "metadata": {},
     "outputs": [
      {
       "html": [
        "<div style=\"max-height:1000px;max-width:1500px;overflow:auto;\">\n",
        "<table border=\"1\" class=\"dataframe\">\n",
        "  <thead>\n",
        "    <tr style=\"text-align: right;\">\n",
        "      <th></th>\n",
        "      <th>Date</th>\n",
        "      <th>Product</th>\n",
        "      <th>SKU</th>\n",
        "      <th>Revenue</th>\n",
        "      <th>New</th>\n",
        "      <th>CMGR</th>\n",
        "      <th>Period</th>\n",
        "      <th>%Total Revenue</th>\n",
        "      <th>Average Revenue</th>\n",
        "    </tr>\n",
        "  </thead>\n",
        "  <tbody>\n",
        "    <tr>\n",
        "      <th>0</th>\n",
        "      <td> 2012-04-26</td>\n",
        "      <td>               BROWN RICE</td>\n",
        "      <td> 6221078144296</td>\n",
        "      <td> 10.40</td>\n",
        "      <td>               BROWN RICE,6221078144296</td>\n",
        "      <td> 0.000000</td>\n",
        "      <td> 46</td>\n",
        "      <td> 0.000376</td>\n",
        "      <td> 120.037098</td>\n",
        "    </tr>\n",
        "    <tr>\n",
        "      <th>1</th>\n",
        "      <td> 2012-04-26</td>\n",
        "      <td>       LIVER WELLNESS TEA</td>\n",
        "      <td> 6221078744045</td>\n",
        "      <td>  8.19</td>\n",
        "      <td>       LIVER WELLNESS TEA,6221078744045</td>\n",
        "      <td> 0.000000</td>\n",
        "      <td> 46</td>\n",
        "      <td> 0.000296</td>\n",
        "      <td> 120.037098</td>\n",
        "    </tr>\n",
        "    <tr>\n",
        "      <th>2</th>\n",
        "      <td> 2012-04-26</td>\n",
        "      <td> POWER PROTEIN BAR PEANUT</td>\n",
        "      <td> 6221078185121</td>\n",
        "      <td>  9.10</td>\n",
        "      <td> POWER PROTEIN BAR PEANUT,6221078185121</td>\n",
        "      <td> 0.000000</td>\n",
        "      <td> 46</td>\n",
        "      <td> 0.000329</td>\n",
        "      <td> 120.037098</td>\n",
        "    </tr>\n",
        "    <tr>\n",
        "      <th>3</th>\n",
        "      <td> 2012-04-26</td>\n",
        "      <td>            PUMPKIN SEEDS</td>\n",
        "      <td> 6221078447144</td>\n",
        "      <td>  9.36</td>\n",
        "      <td>            PUMPKIN SEEDS,6221078447144</td>\n",
        "      <td> 1.116679</td>\n",
        "      <td> 46</td>\n",
        "      <td> 0.000338</td>\n",
        "      <td> 120.037098</td>\n",
        "    </tr>\n",
        "    <tr>\n",
        "      <th>4</th>\n",
        "      <td> 2012-04-26</td>\n",
        "      <td>               RAW CASHEW</td>\n",
        "      <td>         20014</td>\n",
        "      <td> 56.88</td>\n",
        "      <td>                       RAW CASHEW,20014</td>\n",
        "      <td> 0.000000</td>\n",
        "      <td> 46</td>\n",
        "      <td> 0.002054</td>\n",
        "      <td> 120.037098</td>\n",
        "    </tr>\n",
        "  </tbody>\n",
        "</table>\n",
        "</div>"
       ],
       "metadata": {},
       "output_type": "pyout",
       "prompt_number": 20,
       "text": [
        "         Date                   Product            SKU  Revenue  \\\n",
        "0  2012-04-26                BROWN RICE  6221078144296    10.40   \n",
        "1  2012-04-26        LIVER WELLNESS TEA  6221078744045     8.19   \n",
        "2  2012-04-26  POWER PROTEIN BAR PEANUT  6221078185121     9.10   \n",
        "3  2012-04-26             PUMPKIN SEEDS  6221078447144     9.36   \n",
        "4  2012-04-26                RAW CASHEW          20014    56.88   \n",
        "\n",
        "                                      New      CMGR  Period  %Total Revenue  \\\n",
        "0                BROWN RICE,6221078144296  0.000000      46        0.000376   \n",
        "1        LIVER WELLNESS TEA,6221078744045  0.000000      46        0.000296   \n",
        "2  POWER PROTEIN BAR PEANUT,6221078185121  0.000000      46        0.000329   \n",
        "3             PUMPKIN SEEDS,6221078447144  1.116679      46        0.000338   \n",
        "4                        RAW CASHEW,20014  0.000000      46        0.002054   \n",
        "\n",
        "   Average Revenue  \n",
        "0       120.037098  \n",
        "1       120.037098  \n",
        "2       120.037098  \n",
        "3       120.037098  \n",
        "4       120.037098  "
       ]
      }
     ],
     "prompt_number": 20
    },
    {
     "cell_type": "code",
     "collapsed": false,
     "input": [
      "df = df[['Product', 'SKU', 'Date', 'Revenue', 'CMGR', 'Period', '%Total Revenue', 'Average Revenue']]\n",
      "df.head()"
     ],
     "language": "python",
     "metadata": {},
     "outputs": [
      {
       "html": [
        "<div style=\"max-height:1000px;max-width:1500px;overflow:auto;\">\n",
        "<table border=\"1\" class=\"dataframe\">\n",
        "  <thead>\n",
        "    <tr style=\"text-align: right;\">\n",
        "      <th></th>\n",
        "      <th>Product</th>\n",
        "      <th>SKU</th>\n",
        "      <th>Date</th>\n",
        "      <th>Revenue</th>\n",
        "      <th>CMGR</th>\n",
        "      <th>Period</th>\n",
        "      <th>%Total Revenue</th>\n",
        "      <th>Average Revenue</th>\n",
        "    </tr>\n",
        "  </thead>\n",
        "  <tbody>\n",
        "    <tr>\n",
        "      <th>0</th>\n",
        "      <td>               BROWN RICE</td>\n",
        "      <td> 6221078144296</td>\n",
        "      <td> 2012-04-26</td>\n",
        "      <td> 10.40</td>\n",
        "      <td> 0.000000</td>\n",
        "      <td> 46</td>\n",
        "      <td> 0.000376</td>\n",
        "      <td> 120.037098</td>\n",
        "    </tr>\n",
        "    <tr>\n",
        "      <th>1</th>\n",
        "      <td>       LIVER WELLNESS TEA</td>\n",
        "      <td> 6221078744045</td>\n",
        "      <td> 2012-04-26</td>\n",
        "      <td>  8.19</td>\n",
        "      <td> 0.000000</td>\n",
        "      <td> 46</td>\n",
        "      <td> 0.000296</td>\n",
        "      <td> 120.037098</td>\n",
        "    </tr>\n",
        "    <tr>\n",
        "      <th>2</th>\n",
        "      <td> POWER PROTEIN BAR PEANUT</td>\n",
        "      <td> 6221078185121</td>\n",
        "      <td> 2012-04-26</td>\n",
        "      <td>  9.10</td>\n",
        "      <td> 0.000000</td>\n",
        "      <td> 46</td>\n",
        "      <td> 0.000329</td>\n",
        "      <td> 120.037098</td>\n",
        "    </tr>\n",
        "    <tr>\n",
        "      <th>3</th>\n",
        "      <td>            PUMPKIN SEEDS</td>\n",
        "      <td> 6221078447144</td>\n",
        "      <td> 2012-04-26</td>\n",
        "      <td>  9.36</td>\n",
        "      <td> 1.116679</td>\n",
        "      <td> 46</td>\n",
        "      <td> 0.000338</td>\n",
        "      <td> 120.037098</td>\n",
        "    </tr>\n",
        "    <tr>\n",
        "      <th>4</th>\n",
        "      <td>               RAW CASHEW</td>\n",
        "      <td>         20014</td>\n",
        "      <td> 2012-04-26</td>\n",
        "      <td> 56.88</td>\n",
        "      <td> 0.000000</td>\n",
        "      <td> 46</td>\n",
        "      <td> 0.002054</td>\n",
        "      <td> 120.037098</td>\n",
        "    </tr>\n",
        "  </tbody>\n",
        "</table>\n",
        "</div>"
       ],
       "metadata": {},
       "output_type": "pyout",
       "prompt_number": 21,
       "text": [
        "                    Product            SKU        Date  Revenue      CMGR  \\\n",
        "0                BROWN RICE  6221078144296  2012-04-26    10.40  0.000000   \n",
        "1        LIVER WELLNESS TEA  6221078744045  2012-04-26     8.19  0.000000   \n",
        "2  POWER PROTEIN BAR PEANUT  6221078185121  2012-04-26     9.10  0.000000   \n",
        "3             PUMPKIN SEEDS  6221078447144  2012-04-26     9.36  1.116679   \n",
        "4                RAW CASHEW          20014  2012-04-26    56.88  0.000000   \n",
        "\n",
        "   Period  %Total Revenue  Average Revenue  \n",
        "0      46        0.000376       120.037098  \n",
        "1      46        0.000296       120.037098  \n",
        "2      46        0.000329       120.037098  \n",
        "3      46        0.000338       120.037098  \n",
        "4      46        0.002054       120.037098  "
       ]
      }
     ],
     "prompt_number": 21
    },
    {
     "cell_type": "code",
     "collapsed": false,
     "input": [],
     "language": "python",
     "metadata": {},
     "outputs": []
    }
   ],
   "metadata": {}
  }
 ]
}
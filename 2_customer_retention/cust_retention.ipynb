{
 "metadata": {
  "name": "",
  "signature": "sha256:da82a00e83d5cc53403c47992fed50b4bea5dc2c9753b45bd2d91da7a7ca9c55"
 },
 "nbformat": 3,
 "nbformat_minor": 0,
 "worksheets": [
  {
   "cells": [
    {
     "cell_type": "code",
     "collapsed": false,
     "input": [
      "import pandas as pd\n",
      "from datetime import datetime, timedelta\n",
      "import re\n",
      "#import yaml\n",
      "\n",
      "#with open(\"config.yaml\", 'r') as ymlfile:\n",
      "#        cfg = yaml.load(ymlfile)\n",
      "\n",
      "#df = pd.read_csv(cfg['root']+cfg['dir_data_shopify']+cfg[\"ip_orders\"], low_memory=False)\n",
      "df = pd.read_csv('C:\\Users\\saisree849\\Documents\\GitHub\\NGS-2.0\\\\12_dashboard_tables\\data_input\\shopify\\orders_export.csv', low_memory=False)\n",
      "df"
     ],
     "language": "python",
     "metadata": {},
     "outputs": [
      {
       "html": [
        "<div style=\"max-height:1000px;max-width:1500px;overflow:auto;\">\n",
        "<table border=\"1\" class=\"dataframe\">\n",
        "  <thead>\n",
        "    <tr style=\"text-align: right;\">\n",
        "      <th></th>\n",
        "      <th>Name</th>\n",
        "      <th>Email</th>\n",
        "      <th>Financial Status</th>\n",
        "      <th>Paid at</th>\n",
        "      <th>Fulfillment Status</th>\n",
        "      <th>Fulfilled at</th>\n",
        "      <th>Accepts Marketing</th>\n",
        "      <th>Currency</th>\n",
        "      <th>Subtotal</th>\n",
        "      <th>Shipping</th>\n",
        "      <th>...</th>\n",
        "      <th>Tax 1 Name</th>\n",
        "      <th>Tax 1 Value</th>\n",
        "      <th>Tax 2 Name</th>\n",
        "      <th>Tax 2 Value</th>\n",
        "      <th>Tax 3 Name</th>\n",
        "      <th>Tax 3 Value</th>\n",
        "      <th>Tax 4 Name</th>\n",
        "      <th>Tax 4 Value</th>\n",
        "      <th>Tax 5 Name</th>\n",
        "      <th>Tax 5 Value</th>\n",
        "    </tr>\n",
        "  </thead>\n",
        "  <tbody>\n",
        "    <tr>\n",
        "      <th>0    </th>\n",
        "      <td> #10367</td>\n",
        "      <td>  rehabmansour@gmail.com</td>\n",
        "      <td> pending</td>\n",
        "      <td>                       NaN</td>\n",
        "      <td> unfulfilled</td>\n",
        "      <td>                       NaN</td>\n",
        "      <td>  no</td>\n",
        "      <td> EGP</td>\n",
        "      <td> 375.30</td>\n",
        "      <td> 10</td>\n",
        "      <td>...</td>\n",
        "      <td>NaN</td>\n",
        "      <td>NaN</td>\n",
        "      <td>NaN</td>\n",
        "      <td>NaN</td>\n",
        "      <td>NaN</td>\n",
        "      <td>NaN</td>\n",
        "      <td>NaN</td>\n",
        "      <td>NaN</td>\n",
        "      <td>NaN</td>\n",
        "      <td>NaN</td>\n",
        "    </tr>\n",
        "    <tr>\n",
        "      <th>1    </th>\n",
        "      <td> #10367</td>\n",
        "      <td>  rehabmansour@gmail.com</td>\n",
        "      <td>     NaN</td>\n",
        "      <td>                       NaN</td>\n",
        "      <td>         NaN</td>\n",
        "      <td>                       NaN</td>\n",
        "      <td> NaN</td>\n",
        "      <td> NaN</td>\n",
        "      <td>    NaN</td>\n",
        "      <td>NaN</td>\n",
        "      <td>...</td>\n",
        "      <td>NaN</td>\n",
        "      <td>NaN</td>\n",
        "      <td>NaN</td>\n",
        "      <td>NaN</td>\n",
        "      <td>NaN</td>\n",
        "      <td>NaN</td>\n",
        "      <td>NaN</td>\n",
        "      <td>NaN</td>\n",
        "      <td>NaN</td>\n",
        "      <td>NaN</td>\n",
        "    </tr>\n",
        "    <tr>\n",
        "      <th>2    </th>\n",
        "      <td> #10367</td>\n",
        "      <td>  rehabmansour@gmail.com</td>\n",
        "      <td>     NaN</td>\n",
        "      <td>                       NaN</td>\n",
        "      <td>         NaN</td>\n",
        "      <td>                       NaN</td>\n",
        "      <td> NaN</td>\n",
        "      <td> NaN</td>\n",
        "      <td>    NaN</td>\n",
        "      <td>NaN</td>\n",
        "      <td>...</td>\n",
        "      <td>NaN</td>\n",
        "      <td>NaN</td>\n",
        "      <td>NaN</td>\n",
        "      <td>NaN</td>\n",
        "      <td>NaN</td>\n",
        "      <td>NaN</td>\n",
        "      <td>NaN</td>\n",
        "      <td>NaN</td>\n",
        "      <td>NaN</td>\n",
        "      <td>NaN</td>\n",
        "    </tr>\n",
        "    <tr>\n",
        "      <th>3    </th>\n",
        "      <td> #10366</td>\n",
        "      <td>     nabouheif@yahoo.com</td>\n",
        "      <td> pending</td>\n",
        "      <td>                       NaN</td>\n",
        "      <td> unfulfilled</td>\n",
        "      <td>                       NaN</td>\n",
        "      <td>  no</td>\n",
        "      <td> EGP</td>\n",
        "      <td> 162.90</td>\n",
        "      <td> 10</td>\n",
        "      <td>...</td>\n",
        "      <td>NaN</td>\n",
        "      <td>NaN</td>\n",
        "      <td>NaN</td>\n",
        "      <td>NaN</td>\n",
        "      <td>NaN</td>\n",
        "      <td>NaN</td>\n",
        "      <td>NaN</td>\n",
        "      <td>NaN</td>\n",
        "      <td>NaN</td>\n",
        "      <td>NaN</td>\n",
        "    </tr>\n",
        "    <tr>\n",
        "      <th>4    </th>\n",
        "      <td> #10366</td>\n",
        "      <td>     nabouheif@yahoo.com</td>\n",
        "      <td>     NaN</td>\n",
        "      <td>                       NaN</td>\n",
        "      <td>         NaN</td>\n",
        "      <td>                       NaN</td>\n",
        "      <td> NaN</td>\n",
        "      <td> NaN</td>\n",
        "      <td>    NaN</td>\n",
        "      <td>NaN</td>\n",
        "      <td>...</td>\n",
        "      <td>NaN</td>\n",
        "      <td>NaN</td>\n",
        "      <td>NaN</td>\n",
        "      <td>NaN</td>\n",
        "      <td>NaN</td>\n",
        "      <td>NaN</td>\n",
        "      <td>NaN</td>\n",
        "      <td>NaN</td>\n",
        "      <td>NaN</td>\n",
        "      <td>NaN</td>\n",
        "    </tr>\n",
        "    <tr>\n",
        "      <th>5    </th>\n",
        "      <td> #10366</td>\n",
        "      <td>     nabouheif@yahoo.com</td>\n",
        "      <td>     NaN</td>\n",
        "      <td>                       NaN</td>\n",
        "      <td>         NaN</td>\n",
        "      <td>                       NaN</td>\n",
        "      <td> NaN</td>\n",
        "      <td> NaN</td>\n",
        "      <td>    NaN</td>\n",
        "      <td>NaN</td>\n",
        "      <td>...</td>\n",
        "      <td>NaN</td>\n",
        "      <td>NaN</td>\n",
        "      <td>NaN</td>\n",
        "      <td>NaN</td>\n",
        "      <td>NaN</td>\n",
        "      <td>NaN</td>\n",
        "      <td>NaN</td>\n",
        "      <td>NaN</td>\n",
        "      <td>NaN</td>\n",
        "      <td>NaN</td>\n",
        "    </tr>\n",
        "    <tr>\n",
        "      <th>6    </th>\n",
        "      <td> #10365</td>\n",
        "      <td>  fracicardi@hotmail.com</td>\n",
        "      <td> pending</td>\n",
        "      <td>                       NaN</td>\n",
        "      <td> unfulfilled</td>\n",
        "      <td>                       NaN</td>\n",
        "      <td>  no</td>\n",
        "      <td> EGP</td>\n",
        "      <td> 129.00</td>\n",
        "      <td> 15</td>\n",
        "      <td>...</td>\n",
        "      <td>NaN</td>\n",
        "      <td>NaN</td>\n",
        "      <td>NaN</td>\n",
        "      <td>NaN</td>\n",
        "      <td>NaN</td>\n",
        "      <td>NaN</td>\n",
        "      <td>NaN</td>\n",
        "      <td>NaN</td>\n",
        "      <td>NaN</td>\n",
        "      <td>NaN</td>\n",
        "    </tr>\n",
        "    <tr>\n",
        "      <th>7    </th>\n",
        "      <td> #10365</td>\n",
        "      <td>  fracicardi@hotmail.com</td>\n",
        "      <td>     NaN</td>\n",
        "      <td>                       NaN</td>\n",
        "      <td>         NaN</td>\n",
        "      <td>                       NaN</td>\n",
        "      <td> NaN</td>\n",
        "      <td> NaN</td>\n",
        "      <td>    NaN</td>\n",
        "      <td>NaN</td>\n",
        "      <td>...</td>\n",
        "      <td>NaN</td>\n",
        "      <td>NaN</td>\n",
        "      <td>NaN</td>\n",
        "      <td>NaN</td>\n",
        "      <td>NaN</td>\n",
        "      <td>NaN</td>\n",
        "      <td>NaN</td>\n",
        "      <td>NaN</td>\n",
        "      <td>NaN</td>\n",
        "      <td>NaN</td>\n",
        "    </tr>\n",
        "    <tr>\n",
        "      <th>8    </th>\n",
        "      <td> #10365</td>\n",
        "      <td>  fracicardi@hotmail.com</td>\n",
        "      <td>     NaN</td>\n",
        "      <td>                       NaN</td>\n",
        "      <td>         NaN</td>\n",
        "      <td>                       NaN</td>\n",
        "      <td> NaN</td>\n",
        "      <td> NaN</td>\n",
        "      <td>    NaN</td>\n",
        "      <td>NaN</td>\n",
        "      <td>...</td>\n",
        "      <td>NaN</td>\n",
        "      <td>NaN</td>\n",
        "      <td>NaN</td>\n",
        "      <td>NaN</td>\n",
        "      <td>NaN</td>\n",
        "      <td>NaN</td>\n",
        "      <td>NaN</td>\n",
        "      <td>NaN</td>\n",
        "      <td>NaN</td>\n",
        "      <td>NaN</td>\n",
        "    </tr>\n",
        "    <tr>\n",
        "      <th>9    </th>\n",
        "      <td> #10365</td>\n",
        "      <td>  fracicardi@hotmail.com</td>\n",
        "      <td>     NaN</td>\n",
        "      <td>                       NaN</td>\n",
        "      <td>         NaN</td>\n",
        "      <td>                       NaN</td>\n",
        "      <td> NaN</td>\n",
        "      <td> NaN</td>\n",
        "      <td>    NaN</td>\n",
        "      <td>NaN</td>\n",
        "      <td>...</td>\n",
        "      <td>NaN</td>\n",
        "      <td>NaN</td>\n",
        "      <td>NaN</td>\n",
        "      <td>NaN</td>\n",
        "      <td>NaN</td>\n",
        "      <td>NaN</td>\n",
        "      <td>NaN</td>\n",
        "      <td>NaN</td>\n",
        "      <td>NaN</td>\n",
        "      <td>NaN</td>\n",
        "    </tr>\n",
        "    <tr>\n",
        "      <th>10   </th>\n",
        "      <td> #10365</td>\n",
        "      <td>  fracicardi@hotmail.com</td>\n",
        "      <td>     NaN</td>\n",
        "      <td>                       NaN</td>\n",
        "      <td>         NaN</td>\n",
        "      <td>                       NaN</td>\n",
        "      <td> NaN</td>\n",
        "      <td> NaN</td>\n",
        "      <td>    NaN</td>\n",
        "      <td>NaN</td>\n",
        "      <td>...</td>\n",
        "      <td>NaN</td>\n",
        "      <td>NaN</td>\n",
        "      <td>NaN</td>\n",
        "      <td>NaN</td>\n",
        "      <td>NaN</td>\n",
        "      <td>NaN</td>\n",
        "      <td>NaN</td>\n",
        "      <td>NaN</td>\n",
        "      <td>NaN</td>\n",
        "      <td>NaN</td>\n",
        "    </tr>\n",
        "    <tr>\n",
        "      <th>11   </th>\n",
        "      <td> #10365</td>\n",
        "      <td>  fracicardi@hotmail.com</td>\n",
        "      <td>     NaN</td>\n",
        "      <td>                       NaN</td>\n",
        "      <td>         NaN</td>\n",
        "      <td>                       NaN</td>\n",
        "      <td> NaN</td>\n",
        "      <td> NaN</td>\n",
        "      <td>    NaN</td>\n",
        "      <td>NaN</td>\n",
        "      <td>...</td>\n",
        "      <td>NaN</td>\n",
        "      <td>NaN</td>\n",
        "      <td>NaN</td>\n",
        "      <td>NaN</td>\n",
        "      <td>NaN</td>\n",
        "      <td>NaN</td>\n",
        "      <td>NaN</td>\n",
        "      <td>NaN</td>\n",
        "      <td>NaN</td>\n",
        "      <td>NaN</td>\n",
        "    </tr>\n",
        "    <tr>\n",
        "      <th>12   </th>\n",
        "      <td> #10364</td>\n",
        "      <td>  ahmed.fakhry@gmail.com</td>\n",
        "      <td> pending</td>\n",
        "      <td>                       NaN</td>\n",
        "      <td> unfulfilled</td>\n",
        "      <td>                       NaN</td>\n",
        "      <td>  no</td>\n",
        "      <td> EGP</td>\n",
        "      <td> 660.10</td>\n",
        "      <td> 10</td>\n",
        "      <td>...</td>\n",
        "      <td>NaN</td>\n",
        "      <td>NaN</td>\n",
        "      <td>NaN</td>\n",
        "      <td>NaN</td>\n",
        "      <td>NaN</td>\n",
        "      <td>NaN</td>\n",
        "      <td>NaN</td>\n",
        "      <td>NaN</td>\n",
        "      <td>NaN</td>\n",
        "      <td>NaN</td>\n",
        "    </tr>\n",
        "    <tr>\n",
        "      <th>13   </th>\n",
        "      <td> #10364</td>\n",
        "      <td>  ahmed.fakhry@gmail.com</td>\n",
        "      <td>     NaN</td>\n",
        "      <td>                       NaN</td>\n",
        "      <td>         NaN</td>\n",
        "      <td>                       NaN</td>\n",
        "      <td> NaN</td>\n",
        "      <td> NaN</td>\n",
        "      <td>    NaN</td>\n",
        "      <td>NaN</td>\n",
        "      <td>...</td>\n",
        "      <td>NaN</td>\n",
        "      <td>NaN</td>\n",
        "      <td>NaN</td>\n",
        "      <td>NaN</td>\n",
        "      <td>NaN</td>\n",
        "      <td>NaN</td>\n",
        "      <td>NaN</td>\n",
        "      <td>NaN</td>\n",
        "      <td>NaN</td>\n",
        "      <td>NaN</td>\n",
        "    </tr>\n",
        "    <tr>\n",
        "      <th>14   </th>\n",
        "      <td> #10364</td>\n",
        "      <td>  ahmed.fakhry@gmail.com</td>\n",
        "      <td>     NaN</td>\n",
        "      <td>                       NaN</td>\n",
        "      <td>         NaN</td>\n",
        "      <td>                       NaN</td>\n",
        "      <td> NaN</td>\n",
        "      <td> NaN</td>\n",
        "      <td>    NaN</td>\n",
        "      <td>NaN</td>\n",
        "      <td>...</td>\n",
        "      <td>NaN</td>\n",
        "      <td>NaN</td>\n",
        "      <td>NaN</td>\n",
        "      <td>NaN</td>\n",
        "      <td>NaN</td>\n",
        "      <td>NaN</td>\n",
        "      <td>NaN</td>\n",
        "      <td>NaN</td>\n",
        "      <td>NaN</td>\n",
        "      <td>NaN</td>\n",
        "    </tr>\n",
        "    <tr>\n",
        "      <th>15   </th>\n",
        "      <td> #10364</td>\n",
        "      <td>  ahmed.fakhry@gmail.com</td>\n",
        "      <td>     NaN</td>\n",
        "      <td>                       NaN</td>\n",
        "      <td>         NaN</td>\n",
        "      <td>                       NaN</td>\n",
        "      <td> NaN</td>\n",
        "      <td> NaN</td>\n",
        "      <td>    NaN</td>\n",
        "      <td>NaN</td>\n",
        "      <td>...</td>\n",
        "      <td>NaN</td>\n",
        "      <td>NaN</td>\n",
        "      <td>NaN</td>\n",
        "      <td>NaN</td>\n",
        "      <td>NaN</td>\n",
        "      <td>NaN</td>\n",
        "      <td>NaN</td>\n",
        "      <td>NaN</td>\n",
        "      <td>NaN</td>\n",
        "      <td>NaN</td>\n",
        "    </tr>\n",
        "    <tr>\n",
        "      <th>16   </th>\n",
        "      <td> #10364</td>\n",
        "      <td>  ahmed.fakhry@gmail.com</td>\n",
        "      <td>     NaN</td>\n",
        "      <td>                       NaN</td>\n",
        "      <td>         NaN</td>\n",
        "      <td>                       NaN</td>\n",
        "      <td> NaN</td>\n",
        "      <td> NaN</td>\n",
        "      <td>    NaN</td>\n",
        "      <td>NaN</td>\n",
        "      <td>...</td>\n",
        "      <td>NaN</td>\n",
        "      <td>NaN</td>\n",
        "      <td>NaN</td>\n",
        "      <td>NaN</td>\n",
        "      <td>NaN</td>\n",
        "      <td>NaN</td>\n",
        "      <td>NaN</td>\n",
        "      <td>NaN</td>\n",
        "      <td>NaN</td>\n",
        "      <td>NaN</td>\n",
        "    </tr>\n",
        "    <tr>\n",
        "      <th>17   </th>\n",
        "      <td> #10364</td>\n",
        "      <td>  ahmed.fakhry@gmail.com</td>\n",
        "      <td>     NaN</td>\n",
        "      <td>                       NaN</td>\n",
        "      <td>         NaN</td>\n",
        "      <td>                       NaN</td>\n",
        "      <td> NaN</td>\n",
        "      <td> NaN</td>\n",
        "      <td>    NaN</td>\n",
        "      <td>NaN</td>\n",
        "      <td>...</td>\n",
        "      <td>NaN</td>\n",
        "      <td>NaN</td>\n",
        "      <td>NaN</td>\n",
        "      <td>NaN</td>\n",
        "      <td>NaN</td>\n",
        "      <td>NaN</td>\n",
        "      <td>NaN</td>\n",
        "      <td>NaN</td>\n",
        "      <td>NaN</td>\n",
        "      <td>NaN</td>\n",
        "    </tr>\n",
        "    <tr>\n",
        "      <th>18   </th>\n",
        "      <td> #10364</td>\n",
        "      <td>  ahmed.fakhry@gmail.com</td>\n",
        "      <td>     NaN</td>\n",
        "      <td>                       NaN</td>\n",
        "      <td>         NaN</td>\n",
        "      <td>                       NaN</td>\n",
        "      <td> NaN</td>\n",
        "      <td> NaN</td>\n",
        "      <td>    NaN</td>\n",
        "      <td>NaN</td>\n",
        "      <td>...</td>\n",
        "      <td>NaN</td>\n",
        "      <td>NaN</td>\n",
        "      <td>NaN</td>\n",
        "      <td>NaN</td>\n",
        "      <td>NaN</td>\n",
        "      <td>NaN</td>\n",
        "      <td>NaN</td>\n",
        "      <td>NaN</td>\n",
        "      <td>NaN</td>\n",
        "      <td>NaN</td>\n",
        "    </tr>\n",
        "    <tr>\n",
        "      <th>19   </th>\n",
        "      <td> #10364</td>\n",
        "      <td>  ahmed.fakhry@gmail.com</td>\n",
        "      <td>     NaN</td>\n",
        "      <td>                       NaN</td>\n",
        "      <td>         NaN</td>\n",
        "      <td>                       NaN</td>\n",
        "      <td> NaN</td>\n",
        "      <td> NaN</td>\n",
        "      <td>    NaN</td>\n",
        "      <td>NaN</td>\n",
        "      <td>...</td>\n",
        "      <td>NaN</td>\n",
        "      <td>NaN</td>\n",
        "      <td>NaN</td>\n",
        "      <td>NaN</td>\n",
        "      <td>NaN</td>\n",
        "      <td>NaN</td>\n",
        "      <td>NaN</td>\n",
        "      <td>NaN</td>\n",
        "      <td>NaN</td>\n",
        "      <td>NaN</td>\n",
        "    </tr>\n",
        "    <tr>\n",
        "      <th>20   </th>\n",
        "      <td> #10364</td>\n",
        "      <td>  ahmed.fakhry@gmail.com</td>\n",
        "      <td>     NaN</td>\n",
        "      <td>                       NaN</td>\n",
        "      <td>         NaN</td>\n",
        "      <td>                       NaN</td>\n",
        "      <td> NaN</td>\n",
        "      <td> NaN</td>\n",
        "      <td>    NaN</td>\n",
        "      <td>NaN</td>\n",
        "      <td>...</td>\n",
        "      <td>NaN</td>\n",
        "      <td>NaN</td>\n",
        "      <td>NaN</td>\n",
        "      <td>NaN</td>\n",
        "      <td>NaN</td>\n",
        "      <td>NaN</td>\n",
        "      <td>NaN</td>\n",
        "      <td>NaN</td>\n",
        "      <td>NaN</td>\n",
        "      <td>NaN</td>\n",
        "    </tr>\n",
        "    <tr>\n",
        "      <th>21   </th>\n",
        "      <td> #10363</td>\n",
        "      <td>  ahmed.fakhry@gmail.com</td>\n",
        "      <td> pending</td>\n",
        "      <td>                       NaN</td>\n",
        "      <td> unfulfilled</td>\n",
        "      <td>                       NaN</td>\n",
        "      <td>  no</td>\n",
        "      <td> EGP</td>\n",
        "      <td> 592.00</td>\n",
        "      <td> 10</td>\n",
        "      <td>...</td>\n",
        "      <td>NaN</td>\n",
        "      <td>NaN</td>\n",
        "      <td>NaN</td>\n",
        "      <td>NaN</td>\n",
        "      <td>NaN</td>\n",
        "      <td>NaN</td>\n",
        "      <td>NaN</td>\n",
        "      <td>NaN</td>\n",
        "      <td>NaN</td>\n",
        "      <td>NaN</td>\n",
        "    </tr>\n",
        "    <tr>\n",
        "      <th>22   </th>\n",
        "      <td> #10362</td>\n",
        "      <td>    Missilou11@yahoo.com</td>\n",
        "      <td> pending</td>\n",
        "      <td>                       NaN</td>\n",
        "      <td> unfulfilled</td>\n",
        "      <td>                       NaN</td>\n",
        "      <td>  no</td>\n",
        "      <td> EGP</td>\n",
        "      <td>  70.20</td>\n",
        "      <td> 15</td>\n",
        "      <td>...</td>\n",
        "      <td>NaN</td>\n",
        "      <td>NaN</td>\n",
        "      <td>NaN</td>\n",
        "      <td>NaN</td>\n",
        "      <td>NaN</td>\n",
        "      <td>NaN</td>\n",
        "      <td>NaN</td>\n",
        "      <td>NaN</td>\n",
        "      <td>NaN</td>\n",
        "      <td>NaN</td>\n",
        "    </tr>\n",
        "    <tr>\n",
        "      <th>23   </th>\n",
        "      <td> #10361</td>\n",
        "      <td> sallysalem123@gmail.com</td>\n",
        "      <td> pending</td>\n",
        "      <td>                       NaN</td>\n",
        "      <td> unfulfilled</td>\n",
        "      <td>                       NaN</td>\n",
        "      <td>  no</td>\n",
        "      <td> EGP</td>\n",
        "      <td> 432.00</td>\n",
        "      <td> 10</td>\n",
        "      <td>...</td>\n",
        "      <td>NaN</td>\n",
        "      <td>NaN</td>\n",
        "      <td>NaN</td>\n",
        "      <td>NaN</td>\n",
        "      <td>NaN</td>\n",
        "      <td>NaN</td>\n",
        "      <td>NaN</td>\n",
        "      <td>NaN</td>\n",
        "      <td>NaN</td>\n",
        "      <td>NaN</td>\n",
        "    </tr>\n",
        "    <tr>\n",
        "      <th>24   </th>\n",
        "      <td> #10361</td>\n",
        "      <td> sallysalem123@gmail.com</td>\n",
        "      <td>     NaN</td>\n",
        "      <td>                       NaN</td>\n",
        "      <td>         NaN</td>\n",
        "      <td>                       NaN</td>\n",
        "      <td> NaN</td>\n",
        "      <td> NaN</td>\n",
        "      <td>    NaN</td>\n",
        "      <td>NaN</td>\n",
        "      <td>...</td>\n",
        "      <td>NaN</td>\n",
        "      <td>NaN</td>\n",
        "      <td>NaN</td>\n",
        "      <td>NaN</td>\n",
        "      <td>NaN</td>\n",
        "      <td>NaN</td>\n",
        "      <td>NaN</td>\n",
        "      <td>NaN</td>\n",
        "      <td>NaN</td>\n",
        "      <td>NaN</td>\n",
        "    </tr>\n",
        "    <tr>\n",
        "      <th>25   </th>\n",
        "      <td> #10361</td>\n",
        "      <td> sallysalem123@gmail.com</td>\n",
        "      <td>     NaN</td>\n",
        "      <td>                       NaN</td>\n",
        "      <td>         NaN</td>\n",
        "      <td>                       NaN</td>\n",
        "      <td> NaN</td>\n",
        "      <td> NaN</td>\n",
        "      <td>    NaN</td>\n",
        "      <td>NaN</td>\n",
        "      <td>...</td>\n",
        "      <td>NaN</td>\n",
        "      <td>NaN</td>\n",
        "      <td>NaN</td>\n",
        "      <td>NaN</td>\n",
        "      <td>NaN</td>\n",
        "      <td>NaN</td>\n",
        "      <td>NaN</td>\n",
        "      <td>NaN</td>\n",
        "      <td>NaN</td>\n",
        "      <td>NaN</td>\n",
        "    </tr>\n",
        "    <tr>\n",
        "      <th>26   </th>\n",
        "      <td> #10361</td>\n",
        "      <td> sallysalem123@gmail.com</td>\n",
        "      <td>     NaN</td>\n",
        "      <td>                       NaN</td>\n",
        "      <td>         NaN</td>\n",
        "      <td>                       NaN</td>\n",
        "      <td> NaN</td>\n",
        "      <td> NaN</td>\n",
        "      <td>    NaN</td>\n",
        "      <td>NaN</td>\n",
        "      <td>...</td>\n",
        "      <td>NaN</td>\n",
        "      <td>NaN</td>\n",
        "      <td>NaN</td>\n",
        "      <td>NaN</td>\n",
        "      <td>NaN</td>\n",
        "      <td>NaN</td>\n",
        "      <td>NaN</td>\n",
        "      <td>NaN</td>\n",
        "      <td>NaN</td>\n",
        "      <td>NaN</td>\n",
        "    </tr>\n",
        "    <tr>\n",
        "      <th>27   </th>\n",
        "      <td> #10361</td>\n",
        "      <td> sallysalem123@gmail.com</td>\n",
        "      <td>     NaN</td>\n",
        "      <td>                       NaN</td>\n",
        "      <td>         NaN</td>\n",
        "      <td>                       NaN</td>\n",
        "      <td> NaN</td>\n",
        "      <td> NaN</td>\n",
        "      <td>    NaN</td>\n",
        "      <td>NaN</td>\n",
        "      <td>...</td>\n",
        "      <td>NaN</td>\n",
        "      <td>NaN</td>\n",
        "      <td>NaN</td>\n",
        "      <td>NaN</td>\n",
        "      <td>NaN</td>\n",
        "      <td>NaN</td>\n",
        "      <td>NaN</td>\n",
        "      <td>NaN</td>\n",
        "      <td>NaN</td>\n",
        "      <td>NaN</td>\n",
        "    </tr>\n",
        "    <tr>\n",
        "      <th>28   </th>\n",
        "      <td> #10361</td>\n",
        "      <td> sallysalem123@gmail.com</td>\n",
        "      <td>     NaN</td>\n",
        "      <td>                       NaN</td>\n",
        "      <td>         NaN</td>\n",
        "      <td>                       NaN</td>\n",
        "      <td> NaN</td>\n",
        "      <td> NaN</td>\n",
        "      <td>    NaN</td>\n",
        "      <td>NaN</td>\n",
        "      <td>...</td>\n",
        "      <td>NaN</td>\n",
        "      <td>NaN</td>\n",
        "      <td>NaN</td>\n",
        "      <td>NaN</td>\n",
        "      <td>NaN</td>\n",
        "      <td>NaN</td>\n",
        "      <td>NaN</td>\n",
        "      <td>NaN</td>\n",
        "      <td>NaN</td>\n",
        "      <td>NaN</td>\n",
        "    </tr>\n",
        "    <tr>\n",
        "      <th>29   </th>\n",
        "      <td> #10361</td>\n",
        "      <td> sallysalem123@gmail.com</td>\n",
        "      <td>     NaN</td>\n",
        "      <td>                       NaN</td>\n",
        "      <td>         NaN</td>\n",
        "      <td>                       NaN</td>\n",
        "      <td> NaN</td>\n",
        "      <td> NaN</td>\n",
        "      <td>    NaN</td>\n",
        "      <td>NaN</td>\n",
        "      <td>...</td>\n",
        "      <td>NaN</td>\n",
        "      <td>NaN</td>\n",
        "      <td>NaN</td>\n",
        "      <td>NaN</td>\n",
        "      <td>NaN</td>\n",
        "      <td>NaN</td>\n",
        "      <td>NaN</td>\n",
        "      <td>NaN</td>\n",
        "      <td>NaN</td>\n",
        "      <td>NaN</td>\n",
        "    </tr>\n",
        "    <tr>\n",
        "      <th>...</th>\n",
        "      <td>...</td>\n",
        "      <td>...</td>\n",
        "      <td>...</td>\n",
        "      <td>...</td>\n",
        "      <td>...</td>\n",
        "      <td>...</td>\n",
        "      <td>...</td>\n",
        "      <td>...</td>\n",
        "      <td>...</td>\n",
        "      <td>...</td>\n",
        "      <td>...</td>\n",
        "      <td>...</td>\n",
        "      <td>...</td>\n",
        "      <td>...</td>\n",
        "      <td>...</td>\n",
        "      <td>...</td>\n",
        "      <td>...</td>\n",
        "      <td>...</td>\n",
        "      <td>...</td>\n",
        "      <td>...</td>\n",
        "      <td>...</td>\n",
        "    </tr>\n",
        "    <tr>\n",
        "      <th>60742</th>\n",
        "      <td>  #1013</td>\n",
        "      <td>  lik-novikova@yandex.ru</td>\n",
        "      <td>     NaN</td>\n",
        "      <td>                       NaN</td>\n",
        "      <td>         NaN</td>\n",
        "      <td>                       NaN</td>\n",
        "      <td> NaN</td>\n",
        "      <td> NaN</td>\n",
        "      <td>    NaN</td>\n",
        "      <td>NaN</td>\n",
        "      <td>...</td>\n",
        "      <td>NaN</td>\n",
        "      <td>NaN</td>\n",
        "      <td>NaN</td>\n",
        "      <td>NaN</td>\n",
        "      <td>NaN</td>\n",
        "      <td>NaN</td>\n",
        "      <td>NaN</td>\n",
        "      <td>NaN</td>\n",
        "      <td>NaN</td>\n",
        "      <td>NaN</td>\n",
        "    </tr>\n",
        "    <tr>\n",
        "      <th>60743</th>\n",
        "      <td>  #1012</td>\n",
        "      <td>     bettyhedrich@gmx.de</td>\n",
        "      <td>    paid</td>\n",
        "      <td> 2012-05-27 13:15:42 +0200</td>\n",
        "      <td>   fulfilled</td>\n",
        "      <td> 2012-05-27 13:15:14 +0200</td>\n",
        "      <td>  no</td>\n",
        "      <td> EGP</td>\n",
        "      <td>  41.93</td>\n",
        "      <td>  5</td>\n",
        "      <td>...</td>\n",
        "      <td>NaN</td>\n",
        "      <td>NaN</td>\n",
        "      <td>NaN</td>\n",
        "      <td>NaN</td>\n",
        "      <td>NaN</td>\n",
        "      <td>NaN</td>\n",
        "      <td>NaN</td>\n",
        "      <td>NaN</td>\n",
        "      <td>NaN</td>\n",
        "      <td>NaN</td>\n",
        "    </tr>\n",
        "    <tr>\n",
        "      <th>60744</th>\n",
        "      <td>  #1012</td>\n",
        "      <td>     bettyhedrich@gmx.de</td>\n",
        "      <td>     NaN</td>\n",
        "      <td>                       NaN</td>\n",
        "      <td>         NaN</td>\n",
        "      <td>                       NaN</td>\n",
        "      <td> NaN</td>\n",
        "      <td> NaN</td>\n",
        "      <td>    NaN</td>\n",
        "      <td>NaN</td>\n",
        "      <td>...</td>\n",
        "      <td>NaN</td>\n",
        "      <td>NaN</td>\n",
        "      <td>NaN</td>\n",
        "      <td>NaN</td>\n",
        "      <td>NaN</td>\n",
        "      <td>NaN</td>\n",
        "      <td>NaN</td>\n",
        "      <td>NaN</td>\n",
        "      <td>NaN</td>\n",
        "      <td>NaN</td>\n",
        "    </tr>\n",
        "    <tr>\n",
        "      <th>60745</th>\n",
        "      <td>  #1011</td>\n",
        "      <td>           rulah@msn.com</td>\n",
        "      <td>    paid</td>\n",
        "      <td> 2012-05-21 18:33:13 +0200</td>\n",
        "      <td>   fulfilled</td>\n",
        "      <td> 2012-05-21 18:33:43 +0200</td>\n",
        "      <td> yes</td>\n",
        "      <td> EGP</td>\n",
        "      <td> 222.30</td>\n",
        "      <td>  5</td>\n",
        "      <td>...</td>\n",
        "      <td>NaN</td>\n",
        "      <td>NaN</td>\n",
        "      <td>NaN</td>\n",
        "      <td>NaN</td>\n",
        "      <td>NaN</td>\n",
        "      <td>NaN</td>\n",
        "      <td>NaN</td>\n",
        "      <td>NaN</td>\n",
        "      <td>NaN</td>\n",
        "      <td>NaN</td>\n",
        "    </tr>\n",
        "    <tr>\n",
        "      <th>60746</th>\n",
        "      <td>  #1010</td>\n",
        "      <td>     milda_b@hotmail.com</td>\n",
        "      <td>    paid</td>\n",
        "      <td> 2012-05-09 11:09:12 +0200</td>\n",
        "      <td>   fulfilled</td>\n",
        "      <td> 2012-05-09 11:09:06 +0200</td>\n",
        "      <td> yes</td>\n",
        "      <td> EGP</td>\n",
        "      <td> 155.55</td>\n",
        "      <td>  5</td>\n",
        "      <td>...</td>\n",
        "      <td>NaN</td>\n",
        "      <td>NaN</td>\n",
        "      <td>NaN</td>\n",
        "      <td>NaN</td>\n",
        "      <td>NaN</td>\n",
        "      <td>NaN</td>\n",
        "      <td>NaN</td>\n",
        "      <td>NaN</td>\n",
        "      <td>NaN</td>\n",
        "      <td>NaN</td>\n",
        "    </tr>\n",
        "    <tr>\n",
        "      <th>60747</th>\n",
        "      <td>  #1010</td>\n",
        "      <td>     milda_b@hotmail.com</td>\n",
        "      <td>     NaN</td>\n",
        "      <td>                       NaN</td>\n",
        "      <td>         NaN</td>\n",
        "      <td>                       NaN</td>\n",
        "      <td> NaN</td>\n",
        "      <td> NaN</td>\n",
        "      <td>    NaN</td>\n",
        "      <td>NaN</td>\n",
        "      <td>...</td>\n",
        "      <td>NaN</td>\n",
        "      <td>NaN</td>\n",
        "      <td>NaN</td>\n",
        "      <td>NaN</td>\n",
        "      <td>NaN</td>\n",
        "      <td>NaN</td>\n",
        "      <td>NaN</td>\n",
        "      <td>NaN</td>\n",
        "      <td>NaN</td>\n",
        "      <td>NaN</td>\n",
        "    </tr>\n",
        "    <tr>\n",
        "      <th>60748</th>\n",
        "      <td>  #1010</td>\n",
        "      <td>     milda_b@hotmail.com</td>\n",
        "      <td>     NaN</td>\n",
        "      <td>                       NaN</td>\n",
        "      <td>         NaN</td>\n",
        "      <td>                       NaN</td>\n",
        "      <td> NaN</td>\n",
        "      <td> NaN</td>\n",
        "      <td>    NaN</td>\n",
        "      <td>NaN</td>\n",
        "      <td>...</td>\n",
        "      <td>NaN</td>\n",
        "      <td>NaN</td>\n",
        "      <td>NaN</td>\n",
        "      <td>NaN</td>\n",
        "      <td>NaN</td>\n",
        "      <td>NaN</td>\n",
        "      <td>NaN</td>\n",
        "      <td>NaN</td>\n",
        "      <td>NaN</td>\n",
        "      <td>NaN</td>\n",
        "    </tr>\n",
        "    <tr>\n",
        "      <th>60749</th>\n",
        "      <td>  #1010</td>\n",
        "      <td>     milda_b@hotmail.com</td>\n",
        "      <td>     NaN</td>\n",
        "      <td>                       NaN</td>\n",
        "      <td>         NaN</td>\n",
        "      <td>                       NaN</td>\n",
        "      <td> NaN</td>\n",
        "      <td> NaN</td>\n",
        "      <td>    NaN</td>\n",
        "      <td>NaN</td>\n",
        "      <td>...</td>\n",
        "      <td>NaN</td>\n",
        "      <td>NaN</td>\n",
        "      <td>NaN</td>\n",
        "      <td>NaN</td>\n",
        "      <td>NaN</td>\n",
        "      <td>NaN</td>\n",
        "      <td>NaN</td>\n",
        "      <td>NaN</td>\n",
        "      <td>NaN</td>\n",
        "      <td>NaN</td>\n",
        "    </tr>\n",
        "    <tr>\n",
        "      <th>60750</th>\n",
        "      <td>  #1010</td>\n",
        "      <td>     milda_b@hotmail.com</td>\n",
        "      <td>     NaN</td>\n",
        "      <td>                       NaN</td>\n",
        "      <td>         NaN</td>\n",
        "      <td>                       NaN</td>\n",
        "      <td> NaN</td>\n",
        "      <td> NaN</td>\n",
        "      <td>    NaN</td>\n",
        "      <td>NaN</td>\n",
        "      <td>...</td>\n",
        "      <td>NaN</td>\n",
        "      <td>NaN</td>\n",
        "      <td>NaN</td>\n",
        "      <td>NaN</td>\n",
        "      <td>NaN</td>\n",
        "      <td>NaN</td>\n",
        "      <td>NaN</td>\n",
        "      <td>NaN</td>\n",
        "      <td>NaN</td>\n",
        "      <td>NaN</td>\n",
        "    </tr>\n",
        "    <tr>\n",
        "      <th>60751</th>\n",
        "      <td>  #1010</td>\n",
        "      <td>     milda_b@hotmail.com</td>\n",
        "      <td>     NaN</td>\n",
        "      <td>                       NaN</td>\n",
        "      <td>         NaN</td>\n",
        "      <td>                       NaN</td>\n",
        "      <td> NaN</td>\n",
        "      <td> NaN</td>\n",
        "      <td>    NaN</td>\n",
        "      <td>NaN</td>\n",
        "      <td>...</td>\n",
        "      <td>NaN</td>\n",
        "      <td>NaN</td>\n",
        "      <td>NaN</td>\n",
        "      <td>NaN</td>\n",
        "      <td>NaN</td>\n",
        "      <td>NaN</td>\n",
        "      <td>NaN</td>\n",
        "      <td>NaN</td>\n",
        "      <td>NaN</td>\n",
        "      <td>NaN</td>\n",
        "    </tr>\n",
        "    <tr>\n",
        "      <th>60752</th>\n",
        "      <td>  #1010</td>\n",
        "      <td>     milda_b@hotmail.com</td>\n",
        "      <td>     NaN</td>\n",
        "      <td>                       NaN</td>\n",
        "      <td>         NaN</td>\n",
        "      <td>                       NaN</td>\n",
        "      <td> NaN</td>\n",
        "      <td> NaN</td>\n",
        "      <td>    NaN</td>\n",
        "      <td>NaN</td>\n",
        "      <td>...</td>\n",
        "      <td>NaN</td>\n",
        "      <td>NaN</td>\n",
        "      <td>NaN</td>\n",
        "      <td>NaN</td>\n",
        "      <td>NaN</td>\n",
        "      <td>NaN</td>\n",
        "      <td>NaN</td>\n",
        "      <td>NaN</td>\n",
        "      <td>NaN</td>\n",
        "      <td>NaN</td>\n",
        "    </tr>\n",
        "    <tr>\n",
        "      <th>60753</th>\n",
        "      <td>  #1009</td>\n",
        "      <td>     bente.ring@yahoo.no</td>\n",
        "      <td>    paid</td>\n",
        "      <td> 2012-05-10 19:12:35 +0200</td>\n",
        "      <td>   fulfilled</td>\n",
        "      <td> 2012-05-10 19:12:32 +0200</td>\n",
        "      <td> yes</td>\n",
        "      <td> EGP</td>\n",
        "      <td>  45.50</td>\n",
        "      <td>  5</td>\n",
        "      <td>...</td>\n",
        "      <td>NaN</td>\n",
        "      <td>NaN</td>\n",
        "      <td>NaN</td>\n",
        "      <td>NaN</td>\n",
        "      <td>NaN</td>\n",
        "      <td>NaN</td>\n",
        "      <td>NaN</td>\n",
        "      <td>NaN</td>\n",
        "      <td>NaN</td>\n",
        "      <td>NaN</td>\n",
        "    </tr>\n",
        "    <tr>\n",
        "      <th>60754</th>\n",
        "      <td>  #1008</td>\n",
        "      <td>     bente.ring@yahoo.no</td>\n",
        "      <td>    paid</td>\n",
        "      <td> 2012-05-10 19:13:35 +0200</td>\n",
        "      <td>   fulfilled</td>\n",
        "      <td> 2012-05-10 19:13:32 +0200</td>\n",
        "      <td> yes</td>\n",
        "      <td> EGP</td>\n",
        "      <td> 357.53</td>\n",
        "      <td>  5</td>\n",
        "      <td>...</td>\n",
        "      <td>NaN</td>\n",
        "      <td>NaN</td>\n",
        "      <td>NaN</td>\n",
        "      <td>NaN</td>\n",
        "      <td>NaN</td>\n",
        "      <td>NaN</td>\n",
        "      <td>NaN</td>\n",
        "      <td>NaN</td>\n",
        "      <td>NaN</td>\n",
        "      <td>NaN</td>\n",
        "    </tr>\n",
        "    <tr>\n",
        "      <th>60755</th>\n",
        "      <td>  #1008</td>\n",
        "      <td>     bente.ring@yahoo.no</td>\n",
        "      <td>     NaN</td>\n",
        "      <td>                       NaN</td>\n",
        "      <td>         NaN</td>\n",
        "      <td>                       NaN</td>\n",
        "      <td> NaN</td>\n",
        "      <td> NaN</td>\n",
        "      <td>    NaN</td>\n",
        "      <td>NaN</td>\n",
        "      <td>...</td>\n",
        "      <td>NaN</td>\n",
        "      <td>NaN</td>\n",
        "      <td>NaN</td>\n",
        "      <td>NaN</td>\n",
        "      <td>NaN</td>\n",
        "      <td>NaN</td>\n",
        "      <td>NaN</td>\n",
        "      <td>NaN</td>\n",
        "      <td>NaN</td>\n",
        "      <td>NaN</td>\n",
        "    </tr>\n",
        "    <tr>\n",
        "      <th>60756</th>\n",
        "      <td>  #1008</td>\n",
        "      <td>     bente.ring@yahoo.no</td>\n",
        "      <td>     NaN</td>\n",
        "      <td>                       NaN</td>\n",
        "      <td>         NaN</td>\n",
        "      <td>                       NaN</td>\n",
        "      <td> NaN</td>\n",
        "      <td> NaN</td>\n",
        "      <td>    NaN</td>\n",
        "      <td>NaN</td>\n",
        "      <td>...</td>\n",
        "      <td>NaN</td>\n",
        "      <td>NaN</td>\n",
        "      <td>NaN</td>\n",
        "      <td>NaN</td>\n",
        "      <td>NaN</td>\n",
        "      <td>NaN</td>\n",
        "      <td>NaN</td>\n",
        "      <td>NaN</td>\n",
        "      <td>NaN</td>\n",
        "      <td>NaN</td>\n",
        "    </tr>\n",
        "    <tr>\n",
        "      <th>60757</th>\n",
        "      <td>  #1008</td>\n",
        "      <td>     bente.ring@yahoo.no</td>\n",
        "      <td>     NaN</td>\n",
        "      <td>                       NaN</td>\n",
        "      <td>         NaN</td>\n",
        "      <td>                       NaN</td>\n",
        "      <td> NaN</td>\n",
        "      <td> NaN</td>\n",
        "      <td>    NaN</td>\n",
        "      <td>NaN</td>\n",
        "      <td>...</td>\n",
        "      <td>NaN</td>\n",
        "      <td>NaN</td>\n",
        "      <td>NaN</td>\n",
        "      <td>NaN</td>\n",
        "      <td>NaN</td>\n",
        "      <td>NaN</td>\n",
        "      <td>NaN</td>\n",
        "      <td>NaN</td>\n",
        "      <td>NaN</td>\n",
        "      <td>NaN</td>\n",
        "    </tr>\n",
        "    <tr>\n",
        "      <th>60758</th>\n",
        "      <td>  #1008</td>\n",
        "      <td>     bente.ring@yahoo.no</td>\n",
        "      <td>     NaN</td>\n",
        "      <td>                       NaN</td>\n",
        "      <td>         NaN</td>\n",
        "      <td>                       NaN</td>\n",
        "      <td> NaN</td>\n",
        "      <td> NaN</td>\n",
        "      <td>    NaN</td>\n",
        "      <td>NaN</td>\n",
        "      <td>...</td>\n",
        "      <td>NaN</td>\n",
        "      <td>NaN</td>\n",
        "      <td>NaN</td>\n",
        "      <td>NaN</td>\n",
        "      <td>NaN</td>\n",
        "      <td>NaN</td>\n",
        "      <td>NaN</td>\n",
        "      <td>NaN</td>\n",
        "      <td>NaN</td>\n",
        "      <td>NaN</td>\n",
        "    </tr>\n",
        "    <tr>\n",
        "      <th>60759</th>\n",
        "      <td>  #1007</td>\n",
        "      <td>  lik-novikova@yandex.ru</td>\n",
        "      <td>    paid</td>\n",
        "      <td> 2012-05-04 18:36:50 +0200</td>\n",
        "      <td>   fulfilled</td>\n",
        "      <td> 2012-05-04 18:33:47 +0200</td>\n",
        "      <td> yes</td>\n",
        "      <td> EGP</td>\n",
        "      <td> 110.83</td>\n",
        "      <td>  5</td>\n",
        "      <td>...</td>\n",
        "      <td>NaN</td>\n",
        "      <td>NaN</td>\n",
        "      <td>NaN</td>\n",
        "      <td>NaN</td>\n",
        "      <td>NaN</td>\n",
        "      <td>NaN</td>\n",
        "      <td>NaN</td>\n",
        "      <td>NaN</td>\n",
        "      <td>NaN</td>\n",
        "      <td>NaN</td>\n",
        "    </tr>\n",
        "    <tr>\n",
        "      <th>60760</th>\n",
        "      <td>  #1007</td>\n",
        "      <td>  lik-novikova@yandex.ru</td>\n",
        "      <td>     NaN</td>\n",
        "      <td>                       NaN</td>\n",
        "      <td>         NaN</td>\n",
        "      <td>                       NaN</td>\n",
        "      <td> NaN</td>\n",
        "      <td> NaN</td>\n",
        "      <td>    NaN</td>\n",
        "      <td>NaN</td>\n",
        "      <td>...</td>\n",
        "      <td>NaN</td>\n",
        "      <td>NaN</td>\n",
        "      <td>NaN</td>\n",
        "      <td>NaN</td>\n",
        "      <td>NaN</td>\n",
        "      <td>NaN</td>\n",
        "      <td>NaN</td>\n",
        "      <td>NaN</td>\n",
        "      <td>NaN</td>\n",
        "      <td>NaN</td>\n",
        "    </tr>\n",
        "    <tr>\n",
        "      <th>60761</th>\n",
        "      <td>  #1007</td>\n",
        "      <td>  lik-novikova@yandex.ru</td>\n",
        "      <td>     NaN</td>\n",
        "      <td>                       NaN</td>\n",
        "      <td>         NaN</td>\n",
        "      <td>                       NaN</td>\n",
        "      <td> NaN</td>\n",
        "      <td> NaN</td>\n",
        "      <td>    NaN</td>\n",
        "      <td>NaN</td>\n",
        "      <td>...</td>\n",
        "      <td>NaN</td>\n",
        "      <td>NaN</td>\n",
        "      <td>NaN</td>\n",
        "      <td>NaN</td>\n",
        "      <td>NaN</td>\n",
        "      <td>NaN</td>\n",
        "      <td>NaN</td>\n",
        "      <td>NaN</td>\n",
        "      <td>NaN</td>\n",
        "      <td>NaN</td>\n",
        "    </tr>\n",
        "    <tr>\n",
        "      <th>60762</th>\n",
        "      <td>  #1007</td>\n",
        "      <td>  lik-novikova@yandex.ru</td>\n",
        "      <td>     NaN</td>\n",
        "      <td>                       NaN</td>\n",
        "      <td>         NaN</td>\n",
        "      <td>                       NaN</td>\n",
        "      <td> NaN</td>\n",
        "      <td> NaN</td>\n",
        "      <td>    NaN</td>\n",
        "      <td>NaN</td>\n",
        "      <td>...</td>\n",
        "      <td>NaN</td>\n",
        "      <td>NaN</td>\n",
        "      <td>NaN</td>\n",
        "      <td>NaN</td>\n",
        "      <td>NaN</td>\n",
        "      <td>NaN</td>\n",
        "      <td>NaN</td>\n",
        "      <td>NaN</td>\n",
        "      <td>NaN</td>\n",
        "      <td>NaN</td>\n",
        "    </tr>\n",
        "    <tr>\n",
        "      <th>60763</th>\n",
        "      <td>  #1006</td>\n",
        "      <td>     bente.ring@yahoo.no</td>\n",
        "      <td>    paid</td>\n",
        "      <td> 2012-05-04 18:37:13 +0200</td>\n",
        "      <td>   fulfilled</td>\n",
        "      <td> 2012-05-03 10:57:23 +0200</td>\n",
        "      <td> yes</td>\n",
        "      <td> EGP</td>\n",
        "      <td> 201.51</td>\n",
        "      <td>  5</td>\n",
        "      <td>...</td>\n",
        "      <td>NaN</td>\n",
        "      <td>NaN</td>\n",
        "      <td>NaN</td>\n",
        "      <td>NaN</td>\n",
        "      <td>NaN</td>\n",
        "      <td>NaN</td>\n",
        "      <td>NaN</td>\n",
        "      <td>NaN</td>\n",
        "      <td>NaN</td>\n",
        "      <td>NaN</td>\n",
        "    </tr>\n",
        "    <tr>\n",
        "      <th>60764</th>\n",
        "      <td>  #1006</td>\n",
        "      <td>     bente.ring@yahoo.no</td>\n",
        "      <td>     NaN</td>\n",
        "      <td>                       NaN</td>\n",
        "      <td>         NaN</td>\n",
        "      <td>                       NaN</td>\n",
        "      <td> NaN</td>\n",
        "      <td> NaN</td>\n",
        "      <td>    NaN</td>\n",
        "      <td>NaN</td>\n",
        "      <td>...</td>\n",
        "      <td>NaN</td>\n",
        "      <td>NaN</td>\n",
        "      <td>NaN</td>\n",
        "      <td>NaN</td>\n",
        "      <td>NaN</td>\n",
        "      <td>NaN</td>\n",
        "      <td>NaN</td>\n",
        "      <td>NaN</td>\n",
        "      <td>NaN</td>\n",
        "      <td>NaN</td>\n",
        "    </tr>\n",
        "    <tr>\n",
        "      <th>60765</th>\n",
        "      <td>  #1006</td>\n",
        "      <td>     bente.ring@yahoo.no</td>\n",
        "      <td>     NaN</td>\n",
        "      <td>                       NaN</td>\n",
        "      <td>         NaN</td>\n",
        "      <td>                       NaN</td>\n",
        "      <td> NaN</td>\n",
        "      <td> NaN</td>\n",
        "      <td>    NaN</td>\n",
        "      <td>NaN</td>\n",
        "      <td>...</td>\n",
        "      <td>NaN</td>\n",
        "      <td>NaN</td>\n",
        "      <td>NaN</td>\n",
        "      <td>NaN</td>\n",
        "      <td>NaN</td>\n",
        "      <td>NaN</td>\n",
        "      <td>NaN</td>\n",
        "      <td>NaN</td>\n",
        "      <td>NaN</td>\n",
        "      <td>NaN</td>\n",
        "    </tr>\n",
        "    <tr>\n",
        "      <th>60766</th>\n",
        "      <td>  #1006</td>\n",
        "      <td>     bente.ring@yahoo.no</td>\n",
        "      <td>     NaN</td>\n",
        "      <td>                       NaN</td>\n",
        "      <td>         NaN</td>\n",
        "      <td>                       NaN</td>\n",
        "      <td> NaN</td>\n",
        "      <td> NaN</td>\n",
        "      <td>    NaN</td>\n",
        "      <td>NaN</td>\n",
        "      <td>...</td>\n",
        "      <td>NaN</td>\n",
        "      <td>NaN</td>\n",
        "      <td>NaN</td>\n",
        "      <td>NaN</td>\n",
        "      <td>NaN</td>\n",
        "      <td>NaN</td>\n",
        "      <td>NaN</td>\n",
        "      <td>NaN</td>\n",
        "      <td>NaN</td>\n",
        "      <td>NaN</td>\n",
        "    </tr>\n",
        "    <tr>\n",
        "      <th>60767</th>\n",
        "      <td>  #1006</td>\n",
        "      <td>     bente.ring@yahoo.no</td>\n",
        "      <td>     NaN</td>\n",
        "      <td>                       NaN</td>\n",
        "      <td>         NaN</td>\n",
        "      <td>                       NaN</td>\n",
        "      <td> NaN</td>\n",
        "      <td> NaN</td>\n",
        "      <td>    NaN</td>\n",
        "      <td>NaN</td>\n",
        "      <td>...</td>\n",
        "      <td>NaN</td>\n",
        "      <td>NaN</td>\n",
        "      <td>NaN</td>\n",
        "      <td>NaN</td>\n",
        "      <td>NaN</td>\n",
        "      <td>NaN</td>\n",
        "      <td>NaN</td>\n",
        "      <td>NaN</td>\n",
        "      <td>NaN</td>\n",
        "      <td>NaN</td>\n",
        "    </tr>\n",
        "    <tr>\n",
        "      <th>60768</th>\n",
        "      <td>  #1005</td>\n",
        "      <td>    cathypod@hotmail.com</td>\n",
        "      <td>    paid</td>\n",
        "      <td> 2012-05-04 18:37:35 +0200</td>\n",
        "      <td>   fulfilled</td>\n",
        "      <td> 2012-05-03 11:03:44 +0200</td>\n",
        "      <td> yes</td>\n",
        "      <td> EGP</td>\n",
        "      <td>  54.60</td>\n",
        "      <td>  5</td>\n",
        "      <td>...</td>\n",
        "      <td>NaN</td>\n",
        "      <td>NaN</td>\n",
        "      <td>NaN</td>\n",
        "      <td>NaN</td>\n",
        "      <td>NaN</td>\n",
        "      <td>NaN</td>\n",
        "      <td>NaN</td>\n",
        "      <td>NaN</td>\n",
        "      <td>NaN</td>\n",
        "      <td>NaN</td>\n",
        "    </tr>\n",
        "    <tr>\n",
        "      <th>60769</th>\n",
        "      <td>  #1005</td>\n",
        "      <td>    cathypod@hotmail.com</td>\n",
        "      <td>     NaN</td>\n",
        "      <td>                       NaN</td>\n",
        "      <td>         NaN</td>\n",
        "      <td>                       NaN</td>\n",
        "      <td> NaN</td>\n",
        "      <td> NaN</td>\n",
        "      <td>    NaN</td>\n",
        "      <td>NaN</td>\n",
        "      <td>...</td>\n",
        "      <td>NaN</td>\n",
        "      <td>NaN</td>\n",
        "      <td>NaN</td>\n",
        "      <td>NaN</td>\n",
        "      <td>NaN</td>\n",
        "      <td>NaN</td>\n",
        "      <td>NaN</td>\n",
        "      <td>NaN</td>\n",
        "      <td>NaN</td>\n",
        "      <td>NaN</td>\n",
        "    </tr>\n",
        "    <tr>\n",
        "      <th>60770</th>\n",
        "      <td>  #1005</td>\n",
        "      <td>    cathypod@hotmail.com</td>\n",
        "      <td>     NaN</td>\n",
        "      <td>                       NaN</td>\n",
        "      <td>         NaN</td>\n",
        "      <td>                       NaN</td>\n",
        "      <td> NaN</td>\n",
        "      <td> NaN</td>\n",
        "      <td>    NaN</td>\n",
        "      <td>NaN</td>\n",
        "      <td>...</td>\n",
        "      <td>NaN</td>\n",
        "      <td>NaN</td>\n",
        "      <td>NaN</td>\n",
        "      <td>NaN</td>\n",
        "      <td>NaN</td>\n",
        "      <td>NaN</td>\n",
        "      <td>NaN</td>\n",
        "      <td>NaN</td>\n",
        "      <td>NaN</td>\n",
        "      <td>NaN</td>\n",
        "    </tr>\n",
        "    <tr>\n",
        "      <th>60771</th>\n",
        "      <td>  #1005</td>\n",
        "      <td>    cathypod@hotmail.com</td>\n",
        "      <td>     NaN</td>\n",
        "      <td>                       NaN</td>\n",
        "      <td>         NaN</td>\n",
        "      <td>                       NaN</td>\n",
        "      <td> NaN</td>\n",
        "      <td> NaN</td>\n",
        "      <td>    NaN</td>\n",
        "      <td>NaN</td>\n",
        "      <td>...</td>\n",
        "      <td>NaN</td>\n",
        "      <td>NaN</td>\n",
        "      <td>NaN</td>\n",
        "      <td>NaN</td>\n",
        "      <td>NaN</td>\n",
        "      <td>NaN</td>\n",
        "      <td>NaN</td>\n",
        "      <td>NaN</td>\n",
        "      <td>NaN</td>\n",
        "      <td>NaN</td>\n",
        "    </tr>\n",
        "  </tbody>\n",
        "</table>\n",
        "<p>60772 rows \u00d7 66 columns</p>\n",
        "</div>"
       ],
       "metadata": {},
       "output_type": "pyout",
       "prompt_number": 1,
       "text": [
        "         Name                    Email Financial Status  \\\n",
        "0      #10367   rehabmansour@gmail.com          pending   \n",
        "1      #10367   rehabmansour@gmail.com              NaN   \n",
        "2      #10367   rehabmansour@gmail.com              NaN   \n",
        "3      #10366      nabouheif@yahoo.com          pending   \n",
        "4      #10366      nabouheif@yahoo.com              NaN   \n",
        "5      #10366      nabouheif@yahoo.com              NaN   \n",
        "6      #10365   fracicardi@hotmail.com          pending   \n",
        "7      #10365   fracicardi@hotmail.com              NaN   \n",
        "8      #10365   fracicardi@hotmail.com              NaN   \n",
        "9      #10365   fracicardi@hotmail.com              NaN   \n",
        "10     #10365   fracicardi@hotmail.com              NaN   \n",
        "11     #10365   fracicardi@hotmail.com              NaN   \n",
        "12     #10364   ahmed.fakhry@gmail.com          pending   \n",
        "13     #10364   ahmed.fakhry@gmail.com              NaN   \n",
        "14     #10364   ahmed.fakhry@gmail.com              NaN   \n",
        "15     #10364   ahmed.fakhry@gmail.com              NaN   \n",
        "16     #10364   ahmed.fakhry@gmail.com              NaN   \n",
        "17     #10364   ahmed.fakhry@gmail.com              NaN   \n",
        "18     #10364   ahmed.fakhry@gmail.com              NaN   \n",
        "19     #10364   ahmed.fakhry@gmail.com              NaN   \n",
        "20     #10364   ahmed.fakhry@gmail.com              NaN   \n",
        "21     #10363   ahmed.fakhry@gmail.com          pending   \n",
        "22     #10362     Missilou11@yahoo.com          pending   \n",
        "23     #10361  sallysalem123@gmail.com          pending   \n",
        "24     #10361  sallysalem123@gmail.com              NaN   \n",
        "25     #10361  sallysalem123@gmail.com              NaN   \n",
        "26     #10361  sallysalem123@gmail.com              NaN   \n",
        "27     #10361  sallysalem123@gmail.com              NaN   \n",
        "28     #10361  sallysalem123@gmail.com              NaN   \n",
        "29     #10361  sallysalem123@gmail.com              NaN   \n",
        "...       ...                      ...              ...   \n",
        "60742   #1013   lik-novikova@yandex.ru              NaN   \n",
        "60743   #1012      bettyhedrich@gmx.de             paid   \n",
        "60744   #1012      bettyhedrich@gmx.de              NaN   \n",
        "60745   #1011            rulah@msn.com             paid   \n",
        "60746   #1010      milda_b@hotmail.com             paid   \n",
        "60747   #1010      milda_b@hotmail.com              NaN   \n",
        "60748   #1010      milda_b@hotmail.com              NaN   \n",
        "60749   #1010      milda_b@hotmail.com              NaN   \n",
        "60750   #1010      milda_b@hotmail.com              NaN   \n",
        "60751   #1010      milda_b@hotmail.com              NaN   \n",
        "60752   #1010      milda_b@hotmail.com              NaN   \n",
        "60753   #1009      bente.ring@yahoo.no             paid   \n",
        "60754   #1008      bente.ring@yahoo.no             paid   \n",
        "60755   #1008      bente.ring@yahoo.no              NaN   \n",
        "60756   #1008      bente.ring@yahoo.no              NaN   \n",
        "60757   #1008      bente.ring@yahoo.no              NaN   \n",
        "60758   #1008      bente.ring@yahoo.no              NaN   \n",
        "60759   #1007   lik-novikova@yandex.ru             paid   \n",
        "60760   #1007   lik-novikova@yandex.ru              NaN   \n",
        "60761   #1007   lik-novikova@yandex.ru              NaN   \n",
        "60762   #1007   lik-novikova@yandex.ru              NaN   \n",
        "60763   #1006      bente.ring@yahoo.no             paid   \n",
        "60764   #1006      bente.ring@yahoo.no              NaN   \n",
        "60765   #1006      bente.ring@yahoo.no              NaN   \n",
        "60766   #1006      bente.ring@yahoo.no              NaN   \n",
        "60767   #1006      bente.ring@yahoo.no              NaN   \n",
        "60768   #1005     cathypod@hotmail.com             paid   \n",
        "60769   #1005     cathypod@hotmail.com              NaN   \n",
        "60770   #1005     cathypod@hotmail.com              NaN   \n",
        "60771   #1005     cathypod@hotmail.com              NaN   \n",
        "\n",
        "                         Paid at Fulfillment Status  \\\n",
        "0                            NaN        unfulfilled   \n",
        "1                            NaN                NaN   \n",
        "2                            NaN                NaN   \n",
        "3                            NaN        unfulfilled   \n",
        "4                            NaN                NaN   \n",
        "5                            NaN                NaN   \n",
        "6                            NaN        unfulfilled   \n",
        "7                            NaN                NaN   \n",
        "8                            NaN                NaN   \n",
        "9                            NaN                NaN   \n",
        "10                           NaN                NaN   \n",
        "11                           NaN                NaN   \n",
        "12                           NaN        unfulfilled   \n",
        "13                           NaN                NaN   \n",
        "14                           NaN                NaN   \n",
        "15                           NaN                NaN   \n",
        "16                           NaN                NaN   \n",
        "17                           NaN                NaN   \n",
        "18                           NaN                NaN   \n",
        "19                           NaN                NaN   \n",
        "20                           NaN                NaN   \n",
        "21                           NaN        unfulfilled   \n",
        "22                           NaN        unfulfilled   \n",
        "23                           NaN        unfulfilled   \n",
        "24                           NaN                NaN   \n",
        "25                           NaN                NaN   \n",
        "26                           NaN                NaN   \n",
        "27                           NaN                NaN   \n",
        "28                           NaN                NaN   \n",
        "29                           NaN                NaN   \n",
        "...                          ...                ...   \n",
        "60742                        NaN                NaN   \n",
        "60743  2012-05-27 13:15:42 +0200          fulfilled   \n",
        "60744                        NaN                NaN   \n",
        "60745  2012-05-21 18:33:13 +0200          fulfilled   \n",
        "60746  2012-05-09 11:09:12 +0200          fulfilled   \n",
        "60747                        NaN                NaN   \n",
        "60748                        NaN                NaN   \n",
        "60749                        NaN                NaN   \n",
        "60750                        NaN                NaN   \n",
        "60751                        NaN                NaN   \n",
        "60752                        NaN                NaN   \n",
        "60753  2012-05-10 19:12:35 +0200          fulfilled   \n",
        "60754  2012-05-10 19:13:35 +0200          fulfilled   \n",
        "60755                        NaN                NaN   \n",
        "60756                        NaN                NaN   \n",
        "60757                        NaN                NaN   \n",
        "60758                        NaN                NaN   \n",
        "60759  2012-05-04 18:36:50 +0200          fulfilled   \n",
        "60760                        NaN                NaN   \n",
        "60761                        NaN                NaN   \n",
        "60762                        NaN                NaN   \n",
        "60763  2012-05-04 18:37:13 +0200          fulfilled   \n",
        "60764                        NaN                NaN   \n",
        "60765                        NaN                NaN   \n",
        "60766                        NaN                NaN   \n",
        "60767                        NaN                NaN   \n",
        "60768  2012-05-04 18:37:35 +0200          fulfilled   \n",
        "60769                        NaN                NaN   \n",
        "60770                        NaN                NaN   \n",
        "60771                        NaN                NaN   \n",
        "\n",
        "                    Fulfilled at Accepts Marketing Currency  Subtotal  \\\n",
        "0                            NaN                no      EGP    375.30   \n",
        "1                            NaN               NaN      NaN       NaN   \n",
        "2                            NaN               NaN      NaN       NaN   \n",
        "3                            NaN                no      EGP    162.90   \n",
        "4                            NaN               NaN      NaN       NaN   \n",
        "5                            NaN               NaN      NaN       NaN   \n",
        "6                            NaN                no      EGP    129.00   \n",
        "7                            NaN               NaN      NaN       NaN   \n",
        "8                            NaN               NaN      NaN       NaN   \n",
        "9                            NaN               NaN      NaN       NaN   \n",
        "10                           NaN               NaN      NaN       NaN   \n",
        "11                           NaN               NaN      NaN       NaN   \n",
        "12                           NaN                no      EGP    660.10   \n",
        "13                           NaN               NaN      NaN       NaN   \n",
        "14                           NaN               NaN      NaN       NaN   \n",
        "15                           NaN               NaN      NaN       NaN   \n",
        "16                           NaN               NaN      NaN       NaN   \n",
        "17                           NaN               NaN      NaN       NaN   \n",
        "18                           NaN               NaN      NaN       NaN   \n",
        "19                           NaN               NaN      NaN       NaN   \n",
        "20                           NaN               NaN      NaN       NaN   \n",
        "21                           NaN                no      EGP    592.00   \n",
        "22                           NaN                no      EGP     70.20   \n",
        "23                           NaN                no      EGP    432.00   \n",
        "24                           NaN               NaN      NaN       NaN   \n",
        "25                           NaN               NaN      NaN       NaN   \n",
        "26                           NaN               NaN      NaN       NaN   \n",
        "27                           NaN               NaN      NaN       NaN   \n",
        "28                           NaN               NaN      NaN       NaN   \n",
        "29                           NaN               NaN      NaN       NaN   \n",
        "...                          ...               ...      ...       ...   \n",
        "60742                        NaN               NaN      NaN       NaN   \n",
        "60743  2012-05-27 13:15:14 +0200                no      EGP     41.93   \n",
        "60744                        NaN               NaN      NaN       NaN   \n",
        "60745  2012-05-21 18:33:43 +0200               yes      EGP    222.30   \n",
        "60746  2012-05-09 11:09:06 +0200               yes      EGP    155.55   \n",
        "60747                        NaN               NaN      NaN       NaN   \n",
        "60748                        NaN               NaN      NaN       NaN   \n",
        "60749                        NaN               NaN      NaN       NaN   \n",
        "60750                        NaN               NaN      NaN       NaN   \n",
        "60751                        NaN               NaN      NaN       NaN   \n",
        "60752                        NaN               NaN      NaN       NaN   \n",
        "60753  2012-05-10 19:12:32 +0200               yes      EGP     45.50   \n",
        "60754  2012-05-10 19:13:32 +0200               yes      EGP    357.53   \n",
        "60755                        NaN               NaN      NaN       NaN   \n",
        "60756                        NaN               NaN      NaN       NaN   \n",
        "60757                        NaN               NaN      NaN       NaN   \n",
        "60758                        NaN               NaN      NaN       NaN   \n",
        "60759  2012-05-04 18:33:47 +0200               yes      EGP    110.83   \n",
        "60760                        NaN               NaN      NaN       NaN   \n",
        "60761                        NaN               NaN      NaN       NaN   \n",
        "60762                        NaN               NaN      NaN       NaN   \n",
        "60763  2012-05-03 10:57:23 +0200               yes      EGP    201.51   \n",
        "60764                        NaN               NaN      NaN       NaN   \n",
        "60765                        NaN               NaN      NaN       NaN   \n",
        "60766                        NaN               NaN      NaN       NaN   \n",
        "60767                        NaN               NaN      NaN       NaN   \n",
        "60768  2012-05-03 11:03:44 +0200               yes      EGP     54.60   \n",
        "60769                        NaN               NaN      NaN       NaN   \n",
        "60770                        NaN               NaN      NaN       NaN   \n",
        "60771                        NaN               NaN      NaN       NaN   \n",
        "\n",
        "       Shipping     ...       Tax 1 Name  Tax 1 Value Tax 2 Name  Tax 2 Value  \\\n",
        "0            10     ...              NaN          NaN        NaN          NaN   \n",
        "1           NaN     ...              NaN          NaN        NaN          NaN   \n",
        "2           NaN     ...              NaN          NaN        NaN          NaN   \n",
        "3            10     ...              NaN          NaN        NaN          NaN   \n",
        "4           NaN     ...              NaN          NaN        NaN          NaN   \n",
        "5           NaN     ...              NaN          NaN        NaN          NaN   \n",
        "6            15     ...              NaN          NaN        NaN          NaN   \n",
        "7           NaN     ...              NaN          NaN        NaN          NaN   \n",
        "8           NaN     ...              NaN          NaN        NaN          NaN   \n",
        "9           NaN     ...              NaN          NaN        NaN          NaN   \n",
        "10          NaN     ...              NaN          NaN        NaN          NaN   \n",
        "11          NaN     ...              NaN          NaN        NaN          NaN   \n",
        "12           10     ...              NaN          NaN        NaN          NaN   \n",
        "13          NaN     ...              NaN          NaN        NaN          NaN   \n",
        "14          NaN     ...              NaN          NaN        NaN          NaN   \n",
        "15          NaN     ...              NaN          NaN        NaN          NaN   \n",
        "16          NaN     ...              NaN          NaN        NaN          NaN   \n",
        "17          NaN     ...              NaN          NaN        NaN          NaN   \n",
        "18          NaN     ...              NaN          NaN        NaN          NaN   \n",
        "19          NaN     ...              NaN          NaN        NaN          NaN   \n",
        "20          NaN     ...              NaN          NaN        NaN          NaN   \n",
        "21           10     ...              NaN          NaN        NaN          NaN   \n",
        "22           15     ...              NaN          NaN        NaN          NaN   \n",
        "23           10     ...              NaN          NaN        NaN          NaN   \n",
        "24          NaN     ...              NaN          NaN        NaN          NaN   \n",
        "25          NaN     ...              NaN          NaN        NaN          NaN   \n",
        "26          NaN     ...              NaN          NaN        NaN          NaN   \n",
        "27          NaN     ...              NaN          NaN        NaN          NaN   \n",
        "28          NaN     ...              NaN          NaN        NaN          NaN   \n",
        "29          NaN     ...              NaN          NaN        NaN          NaN   \n",
        "...         ...     ...              ...          ...        ...          ...   \n",
        "60742       NaN     ...              NaN          NaN        NaN          NaN   \n",
        "60743         5     ...              NaN          NaN        NaN          NaN   \n",
        "60744       NaN     ...              NaN          NaN        NaN          NaN   \n",
        "60745         5     ...              NaN          NaN        NaN          NaN   \n",
        "60746         5     ...              NaN          NaN        NaN          NaN   \n",
        "60747       NaN     ...              NaN          NaN        NaN          NaN   \n",
        "60748       NaN     ...              NaN          NaN        NaN          NaN   \n",
        "60749       NaN     ...              NaN          NaN        NaN          NaN   \n",
        "60750       NaN     ...              NaN          NaN        NaN          NaN   \n",
        "60751       NaN     ...              NaN          NaN        NaN          NaN   \n",
        "60752       NaN     ...              NaN          NaN        NaN          NaN   \n",
        "60753         5     ...              NaN          NaN        NaN          NaN   \n",
        "60754         5     ...              NaN          NaN        NaN          NaN   \n",
        "60755       NaN     ...              NaN          NaN        NaN          NaN   \n",
        "60756       NaN     ...              NaN          NaN        NaN          NaN   \n",
        "60757       NaN     ...              NaN          NaN        NaN          NaN   \n",
        "60758       NaN     ...              NaN          NaN        NaN          NaN   \n",
        "60759         5     ...              NaN          NaN        NaN          NaN   \n",
        "60760       NaN     ...              NaN          NaN        NaN          NaN   \n",
        "60761       NaN     ...              NaN          NaN        NaN          NaN   \n",
        "60762       NaN     ...              NaN          NaN        NaN          NaN   \n",
        "60763         5     ...              NaN          NaN        NaN          NaN   \n",
        "60764       NaN     ...              NaN          NaN        NaN          NaN   \n",
        "60765       NaN     ...              NaN          NaN        NaN          NaN   \n",
        "60766       NaN     ...              NaN          NaN        NaN          NaN   \n",
        "60767       NaN     ...              NaN          NaN        NaN          NaN   \n",
        "60768         5     ...              NaN          NaN        NaN          NaN   \n",
        "60769       NaN     ...              NaN          NaN        NaN          NaN   \n",
        "60770       NaN     ...              NaN          NaN        NaN          NaN   \n",
        "60771       NaN     ...              NaN          NaN        NaN          NaN   \n",
        "\n",
        "      Tax 3 Name Tax 3 Value  Tax 4 Name Tax 4 Value  Tax 5 Name  Tax 5 Value  \n",
        "0            NaN         NaN         NaN         NaN         NaN          NaN  \n",
        "1            NaN         NaN         NaN         NaN         NaN          NaN  \n",
        "2            NaN         NaN         NaN         NaN         NaN          NaN  \n",
        "3            NaN         NaN         NaN         NaN         NaN          NaN  \n",
        "4            NaN         NaN         NaN         NaN         NaN          NaN  \n",
        "5            NaN         NaN         NaN         NaN         NaN          NaN  \n",
        "6            NaN         NaN         NaN         NaN         NaN          NaN  \n",
        "7            NaN         NaN         NaN         NaN         NaN          NaN  \n",
        "8            NaN         NaN         NaN         NaN         NaN          NaN  \n",
        "9            NaN         NaN         NaN         NaN         NaN          NaN  \n",
        "10           NaN         NaN         NaN         NaN         NaN          NaN  \n",
        "11           NaN         NaN         NaN         NaN         NaN          NaN  \n",
        "12           NaN         NaN         NaN         NaN         NaN          NaN  \n",
        "13           NaN         NaN         NaN         NaN         NaN          NaN  \n",
        "14           NaN         NaN         NaN         NaN         NaN          NaN  \n",
        "15           NaN         NaN         NaN         NaN         NaN          NaN  \n",
        "16           NaN         NaN         NaN         NaN         NaN          NaN  \n",
        "17           NaN         NaN         NaN         NaN         NaN          NaN  \n",
        "18           NaN         NaN         NaN         NaN         NaN          NaN  \n",
        "19           NaN         NaN         NaN         NaN         NaN          NaN  \n",
        "20           NaN         NaN         NaN         NaN         NaN          NaN  \n",
        "21           NaN         NaN         NaN         NaN         NaN          NaN  \n",
        "22           NaN         NaN         NaN         NaN         NaN          NaN  \n",
        "23           NaN         NaN         NaN         NaN         NaN          NaN  \n",
        "24           NaN         NaN         NaN         NaN         NaN          NaN  \n",
        "25           NaN         NaN         NaN         NaN         NaN          NaN  \n",
        "26           NaN         NaN         NaN         NaN         NaN          NaN  \n",
        "27           NaN         NaN         NaN         NaN         NaN          NaN  \n",
        "28           NaN         NaN         NaN         NaN         NaN          NaN  \n",
        "29           NaN         NaN         NaN         NaN         NaN          NaN  \n",
        "...          ...         ...         ...         ...         ...          ...  \n",
        "60742        NaN         NaN         NaN         NaN         NaN          NaN  \n",
        "60743        NaN         NaN         NaN         NaN         NaN          NaN  \n",
        "60744        NaN         NaN         NaN         NaN         NaN          NaN  \n",
        "60745        NaN         NaN         NaN         NaN         NaN          NaN  \n",
        "60746        NaN         NaN         NaN         NaN         NaN          NaN  \n",
        "60747        NaN         NaN         NaN         NaN         NaN          NaN  \n",
        "60748        NaN         NaN         NaN         NaN         NaN          NaN  \n",
        "60749        NaN         NaN         NaN         NaN         NaN          NaN  \n",
        "60750        NaN         NaN         NaN         NaN         NaN          NaN  \n",
        "60751        NaN         NaN         NaN         NaN         NaN          NaN  \n",
        "60752        NaN         NaN         NaN         NaN         NaN          NaN  \n",
        "60753        NaN         NaN         NaN         NaN         NaN          NaN  \n",
        "60754        NaN         NaN         NaN         NaN         NaN          NaN  \n",
        "60755        NaN         NaN         NaN         NaN         NaN          NaN  \n",
        "60756        NaN         NaN         NaN         NaN         NaN          NaN  \n",
        "60757        NaN         NaN         NaN         NaN         NaN          NaN  \n",
        "60758        NaN         NaN         NaN         NaN         NaN          NaN  \n",
        "60759        NaN         NaN         NaN         NaN         NaN          NaN  \n",
        "60760        NaN         NaN         NaN         NaN         NaN          NaN  \n",
        "60761        NaN         NaN         NaN         NaN         NaN          NaN  \n",
        "60762        NaN         NaN         NaN         NaN         NaN          NaN  \n",
        "60763        NaN         NaN         NaN         NaN         NaN          NaN  \n",
        "60764        NaN         NaN         NaN         NaN         NaN          NaN  \n",
        "60765        NaN         NaN         NaN         NaN         NaN          NaN  \n",
        "60766        NaN         NaN         NaN         NaN         NaN          NaN  \n",
        "60767        NaN         NaN         NaN         NaN         NaN          NaN  \n",
        "60768        NaN         NaN         NaN         NaN         NaN          NaN  \n",
        "60769        NaN         NaN         NaN         NaN         NaN          NaN  \n",
        "60770        NaN         NaN         NaN         NaN         NaN          NaN  \n",
        "60771        NaN         NaN         NaN         NaN         NaN          NaN  \n",
        "\n",
        "[60772 rows x 66 columns]"
       ]
      }
     ],
     "prompt_number": 1
    },
    {
     "cell_type": "code",
     "collapsed": false,
     "input": [
      "#get required columns and rename\n",
      "df = df[['Email', 'Created at']] \n",
      "df.columns = ['Email', 'Date'] \n",
      "df"
     ],
     "language": "python",
     "metadata": {},
     "outputs": [
      {
       "html": [
        "<div style=\"max-height:1000px;max-width:1500px;overflow:auto;\">\n",
        "<table border=\"1\" class=\"dataframe\">\n",
        "  <thead>\n",
        "    <tr style=\"text-align: right;\">\n",
        "      <th></th>\n",
        "      <th>Email</th>\n",
        "      <th>Date</th>\n",
        "    </tr>\n",
        "  </thead>\n",
        "  <tbody>\n",
        "    <tr>\n",
        "      <th>0    </th>\n",
        "      <td>  rehabmansour@gmail.com</td>\n",
        "      <td> 2015-12-23 20:33:51 +0200</td>\n",
        "    </tr>\n",
        "    <tr>\n",
        "      <th>1    </th>\n",
        "      <td>  rehabmansour@gmail.com</td>\n",
        "      <td> 2015-12-23 20:33:51 +0200</td>\n",
        "    </tr>\n",
        "    <tr>\n",
        "      <th>2    </th>\n",
        "      <td>  rehabmansour@gmail.com</td>\n",
        "      <td> 2015-12-23 20:33:51 +0200</td>\n",
        "    </tr>\n",
        "    <tr>\n",
        "      <th>3    </th>\n",
        "      <td>     nabouheif@yahoo.com</td>\n",
        "      <td> 2015-12-23 20:00:17 +0200</td>\n",
        "    </tr>\n",
        "    <tr>\n",
        "      <th>4    </th>\n",
        "      <td>     nabouheif@yahoo.com</td>\n",
        "      <td> 2015-12-23 20:00:17 +0200</td>\n",
        "    </tr>\n",
        "    <tr>\n",
        "      <th>5    </th>\n",
        "      <td>     nabouheif@yahoo.com</td>\n",
        "      <td> 2015-12-23 20:00:17 +0200</td>\n",
        "    </tr>\n",
        "    <tr>\n",
        "      <th>6    </th>\n",
        "      <td>  fracicardi@hotmail.com</td>\n",
        "      <td> 2015-12-23 18:36:17 +0200</td>\n",
        "    </tr>\n",
        "    <tr>\n",
        "      <th>7    </th>\n",
        "      <td>  fracicardi@hotmail.com</td>\n",
        "      <td> 2015-12-23 18:36:17 +0200</td>\n",
        "    </tr>\n",
        "    <tr>\n",
        "      <th>8    </th>\n",
        "      <td>  fracicardi@hotmail.com</td>\n",
        "      <td> 2015-12-23 18:36:17 +0200</td>\n",
        "    </tr>\n",
        "    <tr>\n",
        "      <th>9    </th>\n",
        "      <td>  fracicardi@hotmail.com</td>\n",
        "      <td> 2015-12-23 18:36:17 +0200</td>\n",
        "    </tr>\n",
        "    <tr>\n",
        "      <th>10   </th>\n",
        "      <td>  fracicardi@hotmail.com</td>\n",
        "      <td> 2015-12-23 18:36:17 +0200</td>\n",
        "    </tr>\n",
        "    <tr>\n",
        "      <th>11   </th>\n",
        "      <td>  fracicardi@hotmail.com</td>\n",
        "      <td> 2015-12-23 18:36:17 +0200</td>\n",
        "    </tr>\n",
        "    <tr>\n",
        "      <th>12   </th>\n",
        "      <td>  ahmed.fakhry@gmail.com</td>\n",
        "      <td> 2015-12-23 16:06:49 +0200</td>\n",
        "    </tr>\n",
        "    <tr>\n",
        "      <th>13   </th>\n",
        "      <td>  ahmed.fakhry@gmail.com</td>\n",
        "      <td> 2015-12-23 16:06:49 +0200</td>\n",
        "    </tr>\n",
        "    <tr>\n",
        "      <th>14   </th>\n",
        "      <td>  ahmed.fakhry@gmail.com</td>\n",
        "      <td> 2015-12-23 16:06:49 +0200</td>\n",
        "    </tr>\n",
        "    <tr>\n",
        "      <th>15   </th>\n",
        "      <td>  ahmed.fakhry@gmail.com</td>\n",
        "      <td> 2015-12-23 16:06:49 +0200</td>\n",
        "    </tr>\n",
        "    <tr>\n",
        "      <th>16   </th>\n",
        "      <td>  ahmed.fakhry@gmail.com</td>\n",
        "      <td> 2015-12-23 16:06:49 +0200</td>\n",
        "    </tr>\n",
        "    <tr>\n",
        "      <th>17   </th>\n",
        "      <td>  ahmed.fakhry@gmail.com</td>\n",
        "      <td> 2015-12-23 16:06:49 +0200</td>\n",
        "    </tr>\n",
        "    <tr>\n",
        "      <th>18   </th>\n",
        "      <td>  ahmed.fakhry@gmail.com</td>\n",
        "      <td> 2015-12-23 16:06:49 +0200</td>\n",
        "    </tr>\n",
        "    <tr>\n",
        "      <th>19   </th>\n",
        "      <td>  ahmed.fakhry@gmail.com</td>\n",
        "      <td> 2015-12-23 16:06:49 +0200</td>\n",
        "    </tr>\n",
        "    <tr>\n",
        "      <th>20   </th>\n",
        "      <td>  ahmed.fakhry@gmail.com</td>\n",
        "      <td> 2015-12-23 16:06:49 +0200</td>\n",
        "    </tr>\n",
        "    <tr>\n",
        "      <th>21   </th>\n",
        "      <td>  ahmed.fakhry@gmail.com</td>\n",
        "      <td> 2015-12-23 16:01:32 +0200</td>\n",
        "    </tr>\n",
        "    <tr>\n",
        "      <th>22   </th>\n",
        "      <td>    Missilou11@yahoo.com</td>\n",
        "      <td> 2015-12-23 14:25:09 +0200</td>\n",
        "    </tr>\n",
        "    <tr>\n",
        "      <th>23   </th>\n",
        "      <td> sallysalem123@gmail.com</td>\n",
        "      <td> 2015-12-23 13:13:34 +0200</td>\n",
        "    </tr>\n",
        "    <tr>\n",
        "      <th>24   </th>\n",
        "      <td> sallysalem123@gmail.com</td>\n",
        "      <td> 2015-12-23 13:13:34 +0200</td>\n",
        "    </tr>\n",
        "    <tr>\n",
        "      <th>25   </th>\n",
        "      <td> sallysalem123@gmail.com</td>\n",
        "      <td> 2015-12-23 13:13:34 +0200</td>\n",
        "    </tr>\n",
        "    <tr>\n",
        "      <th>26   </th>\n",
        "      <td> sallysalem123@gmail.com</td>\n",
        "      <td> 2015-12-23 13:13:34 +0200</td>\n",
        "    </tr>\n",
        "    <tr>\n",
        "      <th>27   </th>\n",
        "      <td> sallysalem123@gmail.com</td>\n",
        "      <td> 2015-12-23 13:13:34 +0200</td>\n",
        "    </tr>\n",
        "    <tr>\n",
        "      <th>28   </th>\n",
        "      <td> sallysalem123@gmail.com</td>\n",
        "      <td> 2015-12-23 13:13:34 +0200</td>\n",
        "    </tr>\n",
        "    <tr>\n",
        "      <th>29   </th>\n",
        "      <td> sallysalem123@gmail.com</td>\n",
        "      <td> 2015-12-23 13:13:34 +0200</td>\n",
        "    </tr>\n",
        "    <tr>\n",
        "      <th>...</th>\n",
        "      <td>...</td>\n",
        "      <td>...</td>\n",
        "    </tr>\n",
        "    <tr>\n",
        "      <th>60742</th>\n",
        "      <td>  lik-novikova@yandex.ru</td>\n",
        "      <td> 2012-05-21 16:11:25 +0200</td>\n",
        "    </tr>\n",
        "    <tr>\n",
        "      <th>60743</th>\n",
        "      <td>     bettyhedrich@gmx.de</td>\n",
        "      <td> 2012-05-18 18:08:41 +0200</td>\n",
        "    </tr>\n",
        "    <tr>\n",
        "      <th>60744</th>\n",
        "      <td>     bettyhedrich@gmx.de</td>\n",
        "      <td> 2012-05-18 18:08:41 +0200</td>\n",
        "    </tr>\n",
        "    <tr>\n",
        "      <th>60745</th>\n",
        "      <td>           rulah@msn.com</td>\n",
        "      <td> 2012-05-10 19:36:02 +0200</td>\n",
        "    </tr>\n",
        "    <tr>\n",
        "      <th>60746</th>\n",
        "      <td>     milda_b@hotmail.com</td>\n",
        "      <td> 2012-05-08 13:52:24 +0200</td>\n",
        "    </tr>\n",
        "    <tr>\n",
        "      <th>60747</th>\n",
        "      <td>     milda_b@hotmail.com</td>\n",
        "      <td> 2012-05-08 13:52:24 +0200</td>\n",
        "    </tr>\n",
        "    <tr>\n",
        "      <th>60748</th>\n",
        "      <td>     milda_b@hotmail.com</td>\n",
        "      <td> 2012-05-08 13:52:24 +0200</td>\n",
        "    </tr>\n",
        "    <tr>\n",
        "      <th>60749</th>\n",
        "      <td>     milda_b@hotmail.com</td>\n",
        "      <td> 2012-05-08 13:52:24 +0200</td>\n",
        "    </tr>\n",
        "    <tr>\n",
        "      <th>60750</th>\n",
        "      <td>     milda_b@hotmail.com</td>\n",
        "      <td> 2012-05-08 13:52:24 +0200</td>\n",
        "    </tr>\n",
        "    <tr>\n",
        "      <th>60751</th>\n",
        "      <td>     milda_b@hotmail.com</td>\n",
        "      <td> 2012-05-08 13:52:24 +0200</td>\n",
        "    </tr>\n",
        "    <tr>\n",
        "      <th>60752</th>\n",
        "      <td>     milda_b@hotmail.com</td>\n",
        "      <td> 2012-05-08 13:52:24 +0200</td>\n",
        "    </tr>\n",
        "    <tr>\n",
        "      <th>60753</th>\n",
        "      <td>     bente.ring@yahoo.no</td>\n",
        "      <td> 2012-05-08 13:20:05 +0200</td>\n",
        "    </tr>\n",
        "    <tr>\n",
        "      <th>60754</th>\n",
        "      <td>     bente.ring@yahoo.no</td>\n",
        "      <td> 2012-05-07 10:49:42 +0200</td>\n",
        "    </tr>\n",
        "    <tr>\n",
        "      <th>60755</th>\n",
        "      <td>     bente.ring@yahoo.no</td>\n",
        "      <td> 2012-05-07 10:49:42 +0200</td>\n",
        "    </tr>\n",
        "    <tr>\n",
        "      <th>60756</th>\n",
        "      <td>     bente.ring@yahoo.no</td>\n",
        "      <td> 2012-05-07 10:49:42 +0200</td>\n",
        "    </tr>\n",
        "    <tr>\n",
        "      <th>60757</th>\n",
        "      <td>     bente.ring@yahoo.no</td>\n",
        "      <td> 2012-05-07 10:49:42 +0200</td>\n",
        "    </tr>\n",
        "    <tr>\n",
        "      <th>60758</th>\n",
        "      <td>     bente.ring@yahoo.no</td>\n",
        "      <td> 2012-05-07 10:49:42 +0200</td>\n",
        "    </tr>\n",
        "    <tr>\n",
        "      <th>60759</th>\n",
        "      <td>  lik-novikova@yandex.ru</td>\n",
        "      <td> 2012-05-03 11:34:14 +0200</td>\n",
        "    </tr>\n",
        "    <tr>\n",
        "      <th>60760</th>\n",
        "      <td>  lik-novikova@yandex.ru</td>\n",
        "      <td> 2012-05-03 11:34:14 +0200</td>\n",
        "    </tr>\n",
        "    <tr>\n",
        "      <th>60761</th>\n",
        "      <td>  lik-novikova@yandex.ru</td>\n",
        "      <td> 2012-05-03 11:34:14 +0200</td>\n",
        "    </tr>\n",
        "    <tr>\n",
        "      <th>60762</th>\n",
        "      <td>  lik-novikova@yandex.ru</td>\n",
        "      <td> 2012-05-03 11:34:14 +0200</td>\n",
        "    </tr>\n",
        "    <tr>\n",
        "      <th>60763</th>\n",
        "      <td>     bente.ring@yahoo.no</td>\n",
        "      <td> 2012-05-02 17:38:40 +0200</td>\n",
        "    </tr>\n",
        "    <tr>\n",
        "      <th>60764</th>\n",
        "      <td>     bente.ring@yahoo.no</td>\n",
        "      <td> 2012-05-02 17:38:40 +0200</td>\n",
        "    </tr>\n",
        "    <tr>\n",
        "      <th>60765</th>\n",
        "      <td>     bente.ring@yahoo.no</td>\n",
        "      <td> 2012-05-02 17:38:40 +0200</td>\n",
        "    </tr>\n",
        "    <tr>\n",
        "      <th>60766</th>\n",
        "      <td>     bente.ring@yahoo.no</td>\n",
        "      <td> 2012-05-02 17:38:40 +0200</td>\n",
        "    </tr>\n",
        "    <tr>\n",
        "      <th>60767</th>\n",
        "      <td>     bente.ring@yahoo.no</td>\n",
        "      <td> 2012-05-02 17:38:40 +0200</td>\n",
        "    </tr>\n",
        "    <tr>\n",
        "      <th>60768</th>\n",
        "      <td>    cathypod@hotmail.com</td>\n",
        "      <td> 2012-05-01 22:08:45 +0200</td>\n",
        "    </tr>\n",
        "    <tr>\n",
        "      <th>60769</th>\n",
        "      <td>    cathypod@hotmail.com</td>\n",
        "      <td> 2012-05-01 22:08:45 +0200</td>\n",
        "    </tr>\n",
        "    <tr>\n",
        "      <th>60770</th>\n",
        "      <td>    cathypod@hotmail.com</td>\n",
        "      <td> 2012-05-01 22:08:45 +0200</td>\n",
        "    </tr>\n",
        "    <tr>\n",
        "      <th>60771</th>\n",
        "      <td>    cathypod@hotmail.com</td>\n",
        "      <td> 2012-05-01 22:08:45 +0200</td>\n",
        "    </tr>\n",
        "  </tbody>\n",
        "</table>\n",
        "<p>60772 rows \u00d7 2 columns</p>\n",
        "</div>"
       ],
       "metadata": {},
       "output_type": "pyout",
       "prompt_number": 2,
       "text": [
        "                         Email                       Date\n",
        "0       rehabmansour@gmail.com  2015-12-23 20:33:51 +0200\n",
        "1       rehabmansour@gmail.com  2015-12-23 20:33:51 +0200\n",
        "2       rehabmansour@gmail.com  2015-12-23 20:33:51 +0200\n",
        "3          nabouheif@yahoo.com  2015-12-23 20:00:17 +0200\n",
        "4          nabouheif@yahoo.com  2015-12-23 20:00:17 +0200\n",
        "5          nabouheif@yahoo.com  2015-12-23 20:00:17 +0200\n",
        "6       fracicardi@hotmail.com  2015-12-23 18:36:17 +0200\n",
        "7       fracicardi@hotmail.com  2015-12-23 18:36:17 +0200\n",
        "8       fracicardi@hotmail.com  2015-12-23 18:36:17 +0200\n",
        "9       fracicardi@hotmail.com  2015-12-23 18:36:17 +0200\n",
        "10      fracicardi@hotmail.com  2015-12-23 18:36:17 +0200\n",
        "11      fracicardi@hotmail.com  2015-12-23 18:36:17 +0200\n",
        "12      ahmed.fakhry@gmail.com  2015-12-23 16:06:49 +0200\n",
        "13      ahmed.fakhry@gmail.com  2015-12-23 16:06:49 +0200\n",
        "14      ahmed.fakhry@gmail.com  2015-12-23 16:06:49 +0200\n",
        "15      ahmed.fakhry@gmail.com  2015-12-23 16:06:49 +0200\n",
        "16      ahmed.fakhry@gmail.com  2015-12-23 16:06:49 +0200\n",
        "17      ahmed.fakhry@gmail.com  2015-12-23 16:06:49 +0200\n",
        "18      ahmed.fakhry@gmail.com  2015-12-23 16:06:49 +0200\n",
        "19      ahmed.fakhry@gmail.com  2015-12-23 16:06:49 +0200\n",
        "20      ahmed.fakhry@gmail.com  2015-12-23 16:06:49 +0200\n",
        "21      ahmed.fakhry@gmail.com  2015-12-23 16:01:32 +0200\n",
        "22        Missilou11@yahoo.com  2015-12-23 14:25:09 +0200\n",
        "23     sallysalem123@gmail.com  2015-12-23 13:13:34 +0200\n",
        "24     sallysalem123@gmail.com  2015-12-23 13:13:34 +0200\n",
        "25     sallysalem123@gmail.com  2015-12-23 13:13:34 +0200\n",
        "26     sallysalem123@gmail.com  2015-12-23 13:13:34 +0200\n",
        "27     sallysalem123@gmail.com  2015-12-23 13:13:34 +0200\n",
        "28     sallysalem123@gmail.com  2015-12-23 13:13:34 +0200\n",
        "29     sallysalem123@gmail.com  2015-12-23 13:13:34 +0200\n",
        "...                        ...                        ...\n",
        "60742   lik-novikova@yandex.ru  2012-05-21 16:11:25 +0200\n",
        "60743      bettyhedrich@gmx.de  2012-05-18 18:08:41 +0200\n",
        "60744      bettyhedrich@gmx.de  2012-05-18 18:08:41 +0200\n",
        "60745            rulah@msn.com  2012-05-10 19:36:02 +0200\n",
        "60746      milda_b@hotmail.com  2012-05-08 13:52:24 +0200\n",
        "60747      milda_b@hotmail.com  2012-05-08 13:52:24 +0200\n",
        "60748      milda_b@hotmail.com  2012-05-08 13:52:24 +0200\n",
        "60749      milda_b@hotmail.com  2012-05-08 13:52:24 +0200\n",
        "60750      milda_b@hotmail.com  2012-05-08 13:52:24 +0200\n",
        "60751      milda_b@hotmail.com  2012-05-08 13:52:24 +0200\n",
        "60752      milda_b@hotmail.com  2012-05-08 13:52:24 +0200\n",
        "60753      bente.ring@yahoo.no  2012-05-08 13:20:05 +0200\n",
        "60754      bente.ring@yahoo.no  2012-05-07 10:49:42 +0200\n",
        "60755      bente.ring@yahoo.no  2012-05-07 10:49:42 +0200\n",
        "60756      bente.ring@yahoo.no  2012-05-07 10:49:42 +0200\n",
        "60757      bente.ring@yahoo.no  2012-05-07 10:49:42 +0200\n",
        "60758      bente.ring@yahoo.no  2012-05-07 10:49:42 +0200\n",
        "60759   lik-novikova@yandex.ru  2012-05-03 11:34:14 +0200\n",
        "60760   lik-novikova@yandex.ru  2012-05-03 11:34:14 +0200\n",
        "60761   lik-novikova@yandex.ru  2012-05-03 11:34:14 +0200\n",
        "60762   lik-novikova@yandex.ru  2012-05-03 11:34:14 +0200\n",
        "60763      bente.ring@yahoo.no  2012-05-02 17:38:40 +0200\n",
        "60764      bente.ring@yahoo.no  2012-05-02 17:38:40 +0200\n",
        "60765      bente.ring@yahoo.no  2012-05-02 17:38:40 +0200\n",
        "60766      bente.ring@yahoo.no  2012-05-02 17:38:40 +0200\n",
        "60767      bente.ring@yahoo.no  2012-05-02 17:38:40 +0200\n",
        "60768     cathypod@hotmail.com  2012-05-01 22:08:45 +0200\n",
        "60769     cathypod@hotmail.com  2012-05-01 22:08:45 +0200\n",
        "60770     cathypod@hotmail.com  2012-05-01 22:08:45 +0200\n",
        "60771     cathypod@hotmail.com  2012-05-01 22:08:45 +0200\n",
        "\n",
        "[60772 rows x 2 columns]"
       ]
      }
     ],
     "prompt_number": 2
    },
    {
     "cell_type": "code",
     "collapsed": false,
     "input": [
      "#get only date from date in df\n",
      "def convertDate(data):\n",
      "    matchobj = re.match(r'(.*) (.*) (.*).*',data)\n",
      "    return matchobj.group(1)\n",
      "\n",
      "#get only date from new date created\n",
      "def convertNewDate(data):\n",
      "    matchobj = re.match(r'(.*) (.*).*',data)\n",
      "    return matchobj.group(1)\n",
      "\n",
      "#calculate days between two dates\n",
      "def days_between(d1, d2):\n",
      "    d1 = datetime.strptime(d1, \"%Y-%m-%d\")\n",
      "    d2 = datetime.strptime(d2, \"%Y-%m-%d\")\n",
      "    return (d2 - d1).days"
     ],
     "language": "python",
     "metadata": {},
     "outputs": [],
     "prompt_number": 4
    },
    {
     "cell_type": "code",
     "collapsed": false,
     "input": [
      "df['Date'] = df.Date.apply(convertDate) \n",
      "df = df.drop_duplicates().reset_index().drop('index',1) #remove products with same names in single order\n",
      "df"
     ],
     "language": "python",
     "metadata": {},
     "outputs": [
      {
       "output_type": "stream",
       "stream": "stderr",
       "text": [
        "-c:1: SettingWithCopyWarning: \n",
        "A value is trying to be set on a copy of a slice from a DataFrame.\n",
        "Try using .loc[row_indexer,col_indexer] = value instead\n",
        "\n",
        "See the the caveats in the documentation: http://pandas.pydata.org/pandas-docs/stable/indexing.html#indexing-view-versus-copy\n"
       ]
      },
      {
       "html": [
        "<div style=\"max-height:1000px;max-width:1500px;overflow:auto;\">\n",
        "<table border=\"1\" class=\"dataframe\">\n",
        "  <thead>\n",
        "    <tr style=\"text-align: right;\">\n",
        "      <th></th>\n",
        "      <th>Email</th>\n",
        "      <th>Date</th>\n",
        "    </tr>\n",
        "  </thead>\n",
        "  <tbody>\n",
        "    <tr>\n",
        "      <th>0   </th>\n",
        "      <td>       rehabmansour@gmail.com</td>\n",
        "      <td> 2015-12-23</td>\n",
        "    </tr>\n",
        "    <tr>\n",
        "      <th>1   </th>\n",
        "      <td>          nabouheif@yahoo.com</td>\n",
        "      <td> 2015-12-23</td>\n",
        "    </tr>\n",
        "    <tr>\n",
        "      <th>2   </th>\n",
        "      <td>       fracicardi@hotmail.com</td>\n",
        "      <td> 2015-12-23</td>\n",
        "    </tr>\n",
        "    <tr>\n",
        "      <th>3   </th>\n",
        "      <td>       ahmed.fakhry@gmail.com</td>\n",
        "      <td> 2015-12-23</td>\n",
        "    </tr>\n",
        "    <tr>\n",
        "      <th>4   </th>\n",
        "      <td>         Missilou11@yahoo.com</td>\n",
        "      <td> 2015-12-23</td>\n",
        "    </tr>\n",
        "    <tr>\n",
        "      <th>5   </th>\n",
        "      <td>      sallysalem123@gmail.com</td>\n",
        "      <td> 2015-12-23</td>\n",
        "    </tr>\n",
        "    <tr>\n",
        "      <th>6   </th>\n",
        "      <td>     nayera_fadel@hotmail.com</td>\n",
        "      <td> 2015-12-23</td>\n",
        "    </tr>\n",
        "    <tr>\n",
        "      <th>7   </th>\n",
        "      <td>        raoufzdn553@gmail.com</td>\n",
        "      <td> 2015-12-23</td>\n",
        "    </tr>\n",
        "    <tr>\n",
        "      <th>8   </th>\n",
        "      <td>       gaylynmbogho@yahoo.com</td>\n",
        "      <td> 2015-12-23</td>\n",
        "    </tr>\n",
        "    <tr>\n",
        "      <th>9   </th>\n",
        "      <td>         oshahavi13@gmail.com</td>\n",
        "      <td> 2015-12-23</td>\n",
        "    </tr>\n",
        "    <tr>\n",
        "      <th>10  </th>\n",
        "      <td>         Daiieldeeb@gmail.com</td>\n",
        "      <td> 2015-12-23</td>\n",
        "    </tr>\n",
        "    <tr>\n",
        "      <th>11  </th>\n",
        "      <td>          yara.azam@gmail.com</td>\n",
        "      <td> 2015-12-23</td>\n",
        "    </tr>\n",
        "    <tr>\n",
        "      <th>12  </th>\n",
        "      <td>        dalia_allam@yahoo.com</td>\n",
        "      <td> 2015-12-23</td>\n",
        "    </tr>\n",
        "    <tr>\n",
        "      <th>13  </th>\n",
        "      <td>        elhanem52@hotmail.com</td>\n",
        "      <td> 2015-12-23</td>\n",
        "    </tr>\n",
        "    <tr>\n",
        "      <th>14  </th>\n",
        "      <td>     tarek_seddik@hotmail.com</td>\n",
        "      <td> 2015-12-23</td>\n",
        "    </tr>\n",
        "    <tr>\n",
        "      <th>15  </th>\n",
        "      <td>      maie.nomrossy@gmail.com</td>\n",
        "      <td> 2015-12-23</td>\n",
        "    </tr>\n",
        "    <tr>\n",
        "      <th>16  </th>\n",
        "      <td>        hazem.shamy@gmail.com</td>\n",
        "      <td> 2015-12-23</td>\n",
        "    </tr>\n",
        "    <tr>\n",
        "      <th>17  </th>\n",
        "      <td>       maya.p.nawal@gmail.com</td>\n",
        "      <td> 2015-12-22</td>\n",
        "    </tr>\n",
        "    <tr>\n",
        "      <th>18  </th>\n",
        "      <td>    jamesmorgan0091@gmail.com</td>\n",
        "      <td> 2015-12-22</td>\n",
        "    </tr>\n",
        "    <tr>\n",
        "      <th>19  </th>\n",
        "      <td>         israa_s@aucegypt.edu</td>\n",
        "      <td> 2015-12-22</td>\n",
        "    </tr>\n",
        "    <tr>\n",
        "      <th>20  </th>\n",
        "      <td>       RODY.DOVE123@GMAIL.COM</td>\n",
        "      <td> 2015-12-22</td>\n",
        "    </tr>\n",
        "    <tr>\n",
        "      <th>21  </th>\n",
        "      <td>       amaghraby@mediawave.me</td>\n",
        "      <td> 2015-12-22</td>\n",
        "    </tr>\n",
        "    <tr>\n",
        "      <th>22  </th>\n",
        "      <td>          hibba_b@hotmail.com</td>\n",
        "      <td> 2015-12-22</td>\n",
        "    </tr>\n",
        "    <tr>\n",
        "      <th>23  </th>\n",
        "      <td>       pascalenader@gmail.com</td>\n",
        "      <td> 2015-12-22</td>\n",
        "    </tr>\n",
        "    <tr>\n",
        "      <th>24  </th>\n",
        "      <td>       doaa.khattab@gmail.com</td>\n",
        "      <td> 2015-12-22</td>\n",
        "    </tr>\n",
        "    <tr>\n",
        "      <th>25  </th>\n",
        "      <td>       sunset_456@hotmail.com</td>\n",
        "      <td> 2015-12-22</td>\n",
        "    </tr>\n",
        "    <tr>\n",
        "      <th>26  </th>\n",
        "      <td>   colleen_lovely@hotmail.com</td>\n",
        "      <td> 2015-12-22</td>\n",
        "    </tr>\n",
        "    <tr>\n",
        "      <th>27  </th>\n",
        "      <td>             imrhazi@yahoo.fr</td>\n",
        "      <td> 2015-12-22</td>\n",
        "    </tr>\n",
        "    <tr>\n",
        "      <th>28  </th>\n",
        "      <td>    nadyagamaleldin@gmail.com</td>\n",
        "      <td> 2015-12-22</td>\n",
        "    </tr>\n",
        "    <tr>\n",
        "      <th>29  </th>\n",
        "      <td>          engywasfy@gmail.com</td>\n",
        "      <td> 2015-12-22</td>\n",
        "    </tr>\n",
        "    <tr>\n",
        "      <th>...</th>\n",
        "      <td>...</td>\n",
        "      <td>...</td>\n",
        "    </tr>\n",
        "    <tr>\n",
        "      <th>8231</th>\n",
        "      <td>     faridahelmyiba@gmail.com</td>\n",
        "      <td> 2012-07-09</td>\n",
        "    </tr>\n",
        "    <tr>\n",
        "      <th>8232</th>\n",
        "      <td>       mireilleamin@yahoo.com</td>\n",
        "      <td> 2012-07-09</td>\n",
        "    </tr>\n",
        "    <tr>\n",
        "      <th>8233</th>\n",
        "      <td>   Ihab.derias@laroche.com.eg</td>\n",
        "      <td> 2012-07-09</td>\n",
        "    </tr>\n",
        "    <tr>\n",
        "      <th>8234</th>\n",
        "      <td>         Adhamada@hotmail.com</td>\n",
        "      <td> 2012-07-09</td>\n",
        "    </tr>\n",
        "    <tr>\n",
        "      <th>8235</th>\n",
        "      <td>     houssam.elokda@gmail.com</td>\n",
        "      <td> 2012-07-09</td>\n",
        "    </tr>\n",
        "    <tr>\n",
        "      <th>8236</th>\n",
        "      <td>          Hania7894@gmail.com</td>\n",
        "      <td> 2012-07-09</td>\n",
        "    </tr>\n",
        "    <tr>\n",
        "      <th>8237</th>\n",
        "      <td>            Mamazzz@gmail.com</td>\n",
        "      <td> 2012-07-08</td>\n",
        "    </tr>\n",
        "    <tr>\n",
        "      <th>8238</th>\n",
        "      <td>            asony11@yahoo.com</td>\n",
        "      <td> 2012-07-08</td>\n",
        "    </tr>\n",
        "    <tr>\n",
        "      <th>8239</th>\n",
        "      <td>      salwa_saiid@hotmail.com</td>\n",
        "      <td> 2012-07-08</td>\n",
        "    </tr>\n",
        "    <tr>\n",
        "      <th>8240</th>\n",
        "      <td> djamila.benderbous@gmail.com</td>\n",
        "      <td> 2012-07-07</td>\n",
        "    </tr>\n",
        "    <tr>\n",
        "      <th>8241</th>\n",
        "      <td>      milomilogindi@yahoo.com</td>\n",
        "      <td> 2012-07-05</td>\n",
        "    </tr>\n",
        "    <tr>\n",
        "      <th>8242</th>\n",
        "      <td>     raghebelgammal@yahoo.com</td>\n",
        "      <td> 2012-07-05</td>\n",
        "    </tr>\n",
        "    <tr>\n",
        "      <th>8243</th>\n",
        "      <td>      t_el_gammal@hotmail.com</td>\n",
        "      <td> 2012-07-04</td>\n",
        "    </tr>\n",
        "    <tr>\n",
        "      <th>8244</th>\n",
        "      <td>       lik-novikova@yandex.ru</td>\n",
        "      <td> 2012-07-01</td>\n",
        "    </tr>\n",
        "    <tr>\n",
        "      <th>8245</th>\n",
        "      <td>        fairymaid82@yahoo.com</td>\n",
        "      <td> 2012-06-13</td>\n",
        "    </tr>\n",
        "    <tr>\n",
        "      <th>8246</th>\n",
        "      <td>      milomilogindi@yahoo.com</td>\n",
        "      <td> 2012-06-06</td>\n",
        "    </tr>\n",
        "    <tr>\n",
        "      <th>8247</th>\n",
        "      <td>      t_el_gammal@hotmail.com</td>\n",
        "      <td> 2012-06-06</td>\n",
        "    </tr>\n",
        "    <tr>\n",
        "      <th>8248</th>\n",
        "      <td>      t_el_gammal@hotmail.com</td>\n",
        "      <td> 2012-05-29</td>\n",
        "    </tr>\n",
        "    <tr>\n",
        "      <th>8249</th>\n",
        "      <td>       lik-novikova@yandex.ru</td>\n",
        "      <td> 2012-05-27</td>\n",
        "    </tr>\n",
        "    <tr>\n",
        "      <th>8250</th>\n",
        "      <td>             Biro5s@yahoo.com</td>\n",
        "      <td> 2012-05-25</td>\n",
        "    </tr>\n",
        "    <tr>\n",
        "      <th>8251</th>\n",
        "      <td>         nini.etoile@voila.fr</td>\n",
        "      <td> 2012-05-21</td>\n",
        "    </tr>\n",
        "    <tr>\n",
        "      <th>8252</th>\n",
        "      <td>       lik-novikova@yandex.ru</td>\n",
        "      <td> 2012-05-21</td>\n",
        "    </tr>\n",
        "    <tr>\n",
        "      <th>8253</th>\n",
        "      <td>          bettyhedrich@gmx.de</td>\n",
        "      <td> 2012-05-18</td>\n",
        "    </tr>\n",
        "    <tr>\n",
        "      <th>8254</th>\n",
        "      <td>                rulah@msn.com</td>\n",
        "      <td> 2012-05-10</td>\n",
        "    </tr>\n",
        "    <tr>\n",
        "      <th>8255</th>\n",
        "      <td>          milda_b@hotmail.com</td>\n",
        "      <td> 2012-05-08</td>\n",
        "    </tr>\n",
        "    <tr>\n",
        "      <th>8256</th>\n",
        "      <td>          bente.ring@yahoo.no</td>\n",
        "      <td> 2012-05-08</td>\n",
        "    </tr>\n",
        "    <tr>\n",
        "      <th>8257</th>\n",
        "      <td>          bente.ring@yahoo.no</td>\n",
        "      <td> 2012-05-07</td>\n",
        "    </tr>\n",
        "    <tr>\n",
        "      <th>8258</th>\n",
        "      <td>       lik-novikova@yandex.ru</td>\n",
        "      <td> 2012-05-03</td>\n",
        "    </tr>\n",
        "    <tr>\n",
        "      <th>8259</th>\n",
        "      <td>          bente.ring@yahoo.no</td>\n",
        "      <td> 2012-05-02</td>\n",
        "    </tr>\n",
        "    <tr>\n",
        "      <th>8260</th>\n",
        "      <td>         cathypod@hotmail.com</td>\n",
        "      <td> 2012-05-01</td>\n",
        "    </tr>\n",
        "  </tbody>\n",
        "</table>\n",
        "<p>8261 rows \u00d7 2 columns</p>\n",
        "</div>"
       ],
       "metadata": {},
       "output_type": "pyout",
       "prompt_number": 5,
       "text": [
        "                             Email        Date\n",
        "0           rehabmansour@gmail.com  2015-12-23\n",
        "1              nabouheif@yahoo.com  2015-12-23\n",
        "2           fracicardi@hotmail.com  2015-12-23\n",
        "3           ahmed.fakhry@gmail.com  2015-12-23\n",
        "4             Missilou11@yahoo.com  2015-12-23\n",
        "5          sallysalem123@gmail.com  2015-12-23\n",
        "6         nayera_fadel@hotmail.com  2015-12-23\n",
        "7            raoufzdn553@gmail.com  2015-12-23\n",
        "8           gaylynmbogho@yahoo.com  2015-12-23\n",
        "9             oshahavi13@gmail.com  2015-12-23\n",
        "10            Daiieldeeb@gmail.com  2015-12-23\n",
        "11             yara.azam@gmail.com  2015-12-23\n",
        "12           dalia_allam@yahoo.com  2015-12-23\n",
        "13           elhanem52@hotmail.com  2015-12-23\n",
        "14        tarek_seddik@hotmail.com  2015-12-23\n",
        "15         maie.nomrossy@gmail.com  2015-12-23\n",
        "16           hazem.shamy@gmail.com  2015-12-23\n",
        "17          maya.p.nawal@gmail.com  2015-12-22\n",
        "18       jamesmorgan0091@gmail.com  2015-12-22\n",
        "19            israa_s@aucegypt.edu  2015-12-22\n",
        "20          RODY.DOVE123@GMAIL.COM  2015-12-22\n",
        "21          amaghraby@mediawave.me  2015-12-22\n",
        "22             hibba_b@hotmail.com  2015-12-22\n",
        "23          pascalenader@gmail.com  2015-12-22\n",
        "24          doaa.khattab@gmail.com  2015-12-22\n",
        "25          sunset_456@hotmail.com  2015-12-22\n",
        "26      colleen_lovely@hotmail.com  2015-12-22\n",
        "27                imrhazi@yahoo.fr  2015-12-22\n",
        "28       nadyagamaleldin@gmail.com  2015-12-22\n",
        "29             engywasfy@gmail.com  2015-12-22\n",
        "...                            ...         ...\n",
        "8231      faridahelmyiba@gmail.com  2012-07-09\n",
        "8232        mireilleamin@yahoo.com  2012-07-09\n",
        "8233    Ihab.derias@laroche.com.eg  2012-07-09\n",
        "8234          Adhamada@hotmail.com  2012-07-09\n",
        "8235      houssam.elokda@gmail.com  2012-07-09\n",
        "8236           Hania7894@gmail.com  2012-07-09\n",
        "8237             Mamazzz@gmail.com  2012-07-08\n",
        "8238             asony11@yahoo.com  2012-07-08\n",
        "8239       salwa_saiid@hotmail.com  2012-07-08\n",
        "8240  djamila.benderbous@gmail.com  2012-07-07\n",
        "8241       milomilogindi@yahoo.com  2012-07-05\n",
        "8242      raghebelgammal@yahoo.com  2012-07-05\n",
        "8243       t_el_gammal@hotmail.com  2012-07-04\n",
        "8244        lik-novikova@yandex.ru  2012-07-01\n",
        "8245         fairymaid82@yahoo.com  2012-06-13\n",
        "8246       milomilogindi@yahoo.com  2012-06-06\n",
        "8247       t_el_gammal@hotmail.com  2012-06-06\n",
        "8248       t_el_gammal@hotmail.com  2012-05-29\n",
        "8249        lik-novikova@yandex.ru  2012-05-27\n",
        "8250              Biro5s@yahoo.com  2012-05-25\n",
        "8251          nini.etoile@voila.fr  2012-05-21\n",
        "8252        lik-novikova@yandex.ru  2012-05-21\n",
        "8253           bettyhedrich@gmx.de  2012-05-18\n",
        "8254                 rulah@msn.com  2012-05-10\n",
        "8255           milda_b@hotmail.com  2012-05-08\n",
        "8256           bente.ring@yahoo.no  2012-05-08\n",
        "8257           bente.ring@yahoo.no  2012-05-07\n",
        "8258        lik-novikova@yandex.ru  2012-05-03\n",
        "8259           bente.ring@yahoo.no  2012-05-02\n",
        "8260          cathypod@hotmail.com  2012-05-01\n",
        "\n",
        "[8261 rows x 2 columns]"
       ]
      }
     ],
     "prompt_number": 5
    },
    {
     "cell_type": "code",
     "collapsed": false,
     "input": [
      "df['YearBefore'] = (str)(datetime.now() - timedelta(days=366)) #366 days from today(Thursday)\n",
      "df['YearBefore'] = df.YearBefore.apply(convertNewDate) #call function\n",
      "df"
     ],
     "language": "python",
     "metadata": {},
     "outputs": [
      {
       "html": [
        "<div style=\"max-height:1000px;max-width:1500px;overflow:auto;\">\n",
        "<table border=\"1\" class=\"dataframe\">\n",
        "  <thead>\n",
        "    <tr style=\"text-align: right;\">\n",
        "      <th></th>\n",
        "      <th>Email</th>\n",
        "      <th>Date</th>\n",
        "      <th>YearBefore</th>\n",
        "    </tr>\n",
        "  </thead>\n",
        "  <tbody>\n",
        "    <tr>\n",
        "      <th>0   </th>\n",
        "      <td>       rehabmansour@gmail.com</td>\n",
        "      <td> 2015-12-23</td>\n",
        "      <td> 2014-12-23</td>\n",
        "    </tr>\n",
        "    <tr>\n",
        "      <th>1   </th>\n",
        "      <td>          nabouheif@yahoo.com</td>\n",
        "      <td> 2015-12-23</td>\n",
        "      <td> 2014-12-23</td>\n",
        "    </tr>\n",
        "    <tr>\n",
        "      <th>2   </th>\n",
        "      <td>       fracicardi@hotmail.com</td>\n",
        "      <td> 2015-12-23</td>\n",
        "      <td> 2014-12-23</td>\n",
        "    </tr>\n",
        "    <tr>\n",
        "      <th>3   </th>\n",
        "      <td>       ahmed.fakhry@gmail.com</td>\n",
        "      <td> 2015-12-23</td>\n",
        "      <td> 2014-12-23</td>\n",
        "    </tr>\n",
        "    <tr>\n",
        "      <th>4   </th>\n",
        "      <td>         Missilou11@yahoo.com</td>\n",
        "      <td> 2015-12-23</td>\n",
        "      <td> 2014-12-23</td>\n",
        "    </tr>\n",
        "    <tr>\n",
        "      <th>5   </th>\n",
        "      <td>      sallysalem123@gmail.com</td>\n",
        "      <td> 2015-12-23</td>\n",
        "      <td> 2014-12-23</td>\n",
        "    </tr>\n",
        "    <tr>\n",
        "      <th>6   </th>\n",
        "      <td>     nayera_fadel@hotmail.com</td>\n",
        "      <td> 2015-12-23</td>\n",
        "      <td> 2014-12-23</td>\n",
        "    </tr>\n",
        "    <tr>\n",
        "      <th>7   </th>\n",
        "      <td>        raoufzdn553@gmail.com</td>\n",
        "      <td> 2015-12-23</td>\n",
        "      <td> 2014-12-23</td>\n",
        "    </tr>\n",
        "    <tr>\n",
        "      <th>8   </th>\n",
        "      <td>       gaylynmbogho@yahoo.com</td>\n",
        "      <td> 2015-12-23</td>\n",
        "      <td> 2014-12-23</td>\n",
        "    </tr>\n",
        "    <tr>\n",
        "      <th>9   </th>\n",
        "      <td>         oshahavi13@gmail.com</td>\n",
        "      <td> 2015-12-23</td>\n",
        "      <td> 2014-12-23</td>\n",
        "    </tr>\n",
        "    <tr>\n",
        "      <th>10  </th>\n",
        "      <td>         Daiieldeeb@gmail.com</td>\n",
        "      <td> 2015-12-23</td>\n",
        "      <td> 2014-12-23</td>\n",
        "    </tr>\n",
        "    <tr>\n",
        "      <th>11  </th>\n",
        "      <td>          yara.azam@gmail.com</td>\n",
        "      <td> 2015-12-23</td>\n",
        "      <td> 2014-12-23</td>\n",
        "    </tr>\n",
        "    <tr>\n",
        "      <th>12  </th>\n",
        "      <td>        dalia_allam@yahoo.com</td>\n",
        "      <td> 2015-12-23</td>\n",
        "      <td> 2014-12-23</td>\n",
        "    </tr>\n",
        "    <tr>\n",
        "      <th>13  </th>\n",
        "      <td>        elhanem52@hotmail.com</td>\n",
        "      <td> 2015-12-23</td>\n",
        "      <td> 2014-12-23</td>\n",
        "    </tr>\n",
        "    <tr>\n",
        "      <th>14  </th>\n",
        "      <td>     tarek_seddik@hotmail.com</td>\n",
        "      <td> 2015-12-23</td>\n",
        "      <td> 2014-12-23</td>\n",
        "    </tr>\n",
        "    <tr>\n",
        "      <th>15  </th>\n",
        "      <td>      maie.nomrossy@gmail.com</td>\n",
        "      <td> 2015-12-23</td>\n",
        "      <td> 2014-12-23</td>\n",
        "    </tr>\n",
        "    <tr>\n",
        "      <th>16  </th>\n",
        "      <td>        hazem.shamy@gmail.com</td>\n",
        "      <td> 2015-12-23</td>\n",
        "      <td> 2014-12-23</td>\n",
        "    </tr>\n",
        "    <tr>\n",
        "      <th>17  </th>\n",
        "      <td>       maya.p.nawal@gmail.com</td>\n",
        "      <td> 2015-12-22</td>\n",
        "      <td> 2014-12-23</td>\n",
        "    </tr>\n",
        "    <tr>\n",
        "      <th>18  </th>\n",
        "      <td>    jamesmorgan0091@gmail.com</td>\n",
        "      <td> 2015-12-22</td>\n",
        "      <td> 2014-12-23</td>\n",
        "    </tr>\n",
        "    <tr>\n",
        "      <th>19  </th>\n",
        "      <td>         israa_s@aucegypt.edu</td>\n",
        "      <td> 2015-12-22</td>\n",
        "      <td> 2014-12-23</td>\n",
        "    </tr>\n",
        "    <tr>\n",
        "      <th>20  </th>\n",
        "      <td>       RODY.DOVE123@GMAIL.COM</td>\n",
        "      <td> 2015-12-22</td>\n",
        "      <td> 2014-12-23</td>\n",
        "    </tr>\n",
        "    <tr>\n",
        "      <th>21  </th>\n",
        "      <td>       amaghraby@mediawave.me</td>\n",
        "      <td> 2015-12-22</td>\n",
        "      <td> 2014-12-23</td>\n",
        "    </tr>\n",
        "    <tr>\n",
        "      <th>22  </th>\n",
        "      <td>          hibba_b@hotmail.com</td>\n",
        "      <td> 2015-12-22</td>\n",
        "      <td> 2014-12-23</td>\n",
        "    </tr>\n",
        "    <tr>\n",
        "      <th>23  </th>\n",
        "      <td>       pascalenader@gmail.com</td>\n",
        "      <td> 2015-12-22</td>\n",
        "      <td> 2014-12-23</td>\n",
        "    </tr>\n",
        "    <tr>\n",
        "      <th>24  </th>\n",
        "      <td>       doaa.khattab@gmail.com</td>\n",
        "      <td> 2015-12-22</td>\n",
        "      <td> 2014-12-23</td>\n",
        "    </tr>\n",
        "    <tr>\n",
        "      <th>25  </th>\n",
        "      <td>       sunset_456@hotmail.com</td>\n",
        "      <td> 2015-12-22</td>\n",
        "      <td> 2014-12-23</td>\n",
        "    </tr>\n",
        "    <tr>\n",
        "      <th>26  </th>\n",
        "      <td>   colleen_lovely@hotmail.com</td>\n",
        "      <td> 2015-12-22</td>\n",
        "      <td> 2014-12-23</td>\n",
        "    </tr>\n",
        "    <tr>\n",
        "      <th>27  </th>\n",
        "      <td>             imrhazi@yahoo.fr</td>\n",
        "      <td> 2015-12-22</td>\n",
        "      <td> 2014-12-23</td>\n",
        "    </tr>\n",
        "    <tr>\n",
        "      <th>28  </th>\n",
        "      <td>    nadyagamaleldin@gmail.com</td>\n",
        "      <td> 2015-12-22</td>\n",
        "      <td> 2014-12-23</td>\n",
        "    </tr>\n",
        "    <tr>\n",
        "      <th>29  </th>\n",
        "      <td>          engywasfy@gmail.com</td>\n",
        "      <td> 2015-12-22</td>\n",
        "      <td> 2014-12-23</td>\n",
        "    </tr>\n",
        "    <tr>\n",
        "      <th>...</th>\n",
        "      <td>...</td>\n",
        "      <td>...</td>\n",
        "      <td>...</td>\n",
        "    </tr>\n",
        "    <tr>\n",
        "      <th>8231</th>\n",
        "      <td>     faridahelmyiba@gmail.com</td>\n",
        "      <td> 2012-07-09</td>\n",
        "      <td> 2014-12-23</td>\n",
        "    </tr>\n",
        "    <tr>\n",
        "      <th>8232</th>\n",
        "      <td>       mireilleamin@yahoo.com</td>\n",
        "      <td> 2012-07-09</td>\n",
        "      <td> 2014-12-23</td>\n",
        "    </tr>\n",
        "    <tr>\n",
        "      <th>8233</th>\n",
        "      <td>   Ihab.derias@laroche.com.eg</td>\n",
        "      <td> 2012-07-09</td>\n",
        "      <td> 2014-12-23</td>\n",
        "    </tr>\n",
        "    <tr>\n",
        "      <th>8234</th>\n",
        "      <td>         Adhamada@hotmail.com</td>\n",
        "      <td> 2012-07-09</td>\n",
        "      <td> 2014-12-23</td>\n",
        "    </tr>\n",
        "    <tr>\n",
        "      <th>8235</th>\n",
        "      <td>     houssam.elokda@gmail.com</td>\n",
        "      <td> 2012-07-09</td>\n",
        "      <td> 2014-12-23</td>\n",
        "    </tr>\n",
        "    <tr>\n",
        "      <th>8236</th>\n",
        "      <td>          Hania7894@gmail.com</td>\n",
        "      <td> 2012-07-09</td>\n",
        "      <td> 2014-12-23</td>\n",
        "    </tr>\n",
        "    <tr>\n",
        "      <th>8237</th>\n",
        "      <td>            Mamazzz@gmail.com</td>\n",
        "      <td> 2012-07-08</td>\n",
        "      <td> 2014-12-23</td>\n",
        "    </tr>\n",
        "    <tr>\n",
        "      <th>8238</th>\n",
        "      <td>            asony11@yahoo.com</td>\n",
        "      <td> 2012-07-08</td>\n",
        "      <td> 2014-12-23</td>\n",
        "    </tr>\n",
        "    <tr>\n",
        "      <th>8239</th>\n",
        "      <td>      salwa_saiid@hotmail.com</td>\n",
        "      <td> 2012-07-08</td>\n",
        "      <td> 2014-12-23</td>\n",
        "    </tr>\n",
        "    <tr>\n",
        "      <th>8240</th>\n",
        "      <td> djamila.benderbous@gmail.com</td>\n",
        "      <td> 2012-07-07</td>\n",
        "      <td> 2014-12-23</td>\n",
        "    </tr>\n",
        "    <tr>\n",
        "      <th>8241</th>\n",
        "      <td>      milomilogindi@yahoo.com</td>\n",
        "      <td> 2012-07-05</td>\n",
        "      <td> 2014-12-23</td>\n",
        "    </tr>\n",
        "    <tr>\n",
        "      <th>8242</th>\n",
        "      <td>     raghebelgammal@yahoo.com</td>\n",
        "      <td> 2012-07-05</td>\n",
        "      <td> 2014-12-23</td>\n",
        "    </tr>\n",
        "    <tr>\n",
        "      <th>8243</th>\n",
        "      <td>      t_el_gammal@hotmail.com</td>\n",
        "      <td> 2012-07-04</td>\n",
        "      <td> 2014-12-23</td>\n",
        "    </tr>\n",
        "    <tr>\n",
        "      <th>8244</th>\n",
        "      <td>       lik-novikova@yandex.ru</td>\n",
        "      <td> 2012-07-01</td>\n",
        "      <td> 2014-12-23</td>\n",
        "    </tr>\n",
        "    <tr>\n",
        "      <th>8245</th>\n",
        "      <td>        fairymaid82@yahoo.com</td>\n",
        "      <td> 2012-06-13</td>\n",
        "      <td> 2014-12-23</td>\n",
        "    </tr>\n",
        "    <tr>\n",
        "      <th>8246</th>\n",
        "      <td>      milomilogindi@yahoo.com</td>\n",
        "      <td> 2012-06-06</td>\n",
        "      <td> 2014-12-23</td>\n",
        "    </tr>\n",
        "    <tr>\n",
        "      <th>8247</th>\n",
        "      <td>      t_el_gammal@hotmail.com</td>\n",
        "      <td> 2012-06-06</td>\n",
        "      <td> 2014-12-23</td>\n",
        "    </tr>\n",
        "    <tr>\n",
        "      <th>8248</th>\n",
        "      <td>      t_el_gammal@hotmail.com</td>\n",
        "      <td> 2012-05-29</td>\n",
        "      <td> 2014-12-23</td>\n",
        "    </tr>\n",
        "    <tr>\n",
        "      <th>8249</th>\n",
        "      <td>       lik-novikova@yandex.ru</td>\n",
        "      <td> 2012-05-27</td>\n",
        "      <td> 2014-12-23</td>\n",
        "    </tr>\n",
        "    <tr>\n",
        "      <th>8250</th>\n",
        "      <td>             Biro5s@yahoo.com</td>\n",
        "      <td> 2012-05-25</td>\n",
        "      <td> 2014-12-23</td>\n",
        "    </tr>\n",
        "    <tr>\n",
        "      <th>8251</th>\n",
        "      <td>         nini.etoile@voila.fr</td>\n",
        "      <td> 2012-05-21</td>\n",
        "      <td> 2014-12-23</td>\n",
        "    </tr>\n",
        "    <tr>\n",
        "      <th>8252</th>\n",
        "      <td>       lik-novikova@yandex.ru</td>\n",
        "      <td> 2012-05-21</td>\n",
        "      <td> 2014-12-23</td>\n",
        "    </tr>\n",
        "    <tr>\n",
        "      <th>8253</th>\n",
        "      <td>          bettyhedrich@gmx.de</td>\n",
        "      <td> 2012-05-18</td>\n",
        "      <td> 2014-12-23</td>\n",
        "    </tr>\n",
        "    <tr>\n",
        "      <th>8254</th>\n",
        "      <td>                rulah@msn.com</td>\n",
        "      <td> 2012-05-10</td>\n",
        "      <td> 2014-12-23</td>\n",
        "    </tr>\n",
        "    <tr>\n",
        "      <th>8255</th>\n",
        "      <td>          milda_b@hotmail.com</td>\n",
        "      <td> 2012-05-08</td>\n",
        "      <td> 2014-12-23</td>\n",
        "    </tr>\n",
        "    <tr>\n",
        "      <th>8256</th>\n",
        "      <td>          bente.ring@yahoo.no</td>\n",
        "      <td> 2012-05-08</td>\n",
        "      <td> 2014-12-23</td>\n",
        "    </tr>\n",
        "    <tr>\n",
        "      <th>8257</th>\n",
        "      <td>          bente.ring@yahoo.no</td>\n",
        "      <td> 2012-05-07</td>\n",
        "      <td> 2014-12-23</td>\n",
        "    </tr>\n",
        "    <tr>\n",
        "      <th>8258</th>\n",
        "      <td>       lik-novikova@yandex.ru</td>\n",
        "      <td> 2012-05-03</td>\n",
        "      <td> 2014-12-23</td>\n",
        "    </tr>\n",
        "    <tr>\n",
        "      <th>8259</th>\n",
        "      <td>          bente.ring@yahoo.no</td>\n",
        "      <td> 2012-05-02</td>\n",
        "      <td> 2014-12-23</td>\n",
        "    </tr>\n",
        "    <tr>\n",
        "      <th>8260</th>\n",
        "      <td>         cathypod@hotmail.com</td>\n",
        "      <td> 2012-05-01</td>\n",
        "      <td> 2014-12-23</td>\n",
        "    </tr>\n",
        "  </tbody>\n",
        "</table>\n",
        "<p>8261 rows \u00d7 3 columns</p>\n",
        "</div>"
       ],
       "metadata": {},
       "output_type": "pyout",
       "prompt_number": 6,
       "text": [
        "                             Email        Date  YearBefore\n",
        "0           rehabmansour@gmail.com  2015-12-23  2014-12-23\n",
        "1              nabouheif@yahoo.com  2015-12-23  2014-12-23\n",
        "2           fracicardi@hotmail.com  2015-12-23  2014-12-23\n",
        "3           ahmed.fakhry@gmail.com  2015-12-23  2014-12-23\n",
        "4             Missilou11@yahoo.com  2015-12-23  2014-12-23\n",
        "5          sallysalem123@gmail.com  2015-12-23  2014-12-23\n",
        "6         nayera_fadel@hotmail.com  2015-12-23  2014-12-23\n",
        "7            raoufzdn553@gmail.com  2015-12-23  2014-12-23\n",
        "8           gaylynmbogho@yahoo.com  2015-12-23  2014-12-23\n",
        "9             oshahavi13@gmail.com  2015-12-23  2014-12-23\n",
        "10            Daiieldeeb@gmail.com  2015-12-23  2014-12-23\n",
        "11             yara.azam@gmail.com  2015-12-23  2014-12-23\n",
        "12           dalia_allam@yahoo.com  2015-12-23  2014-12-23\n",
        "13           elhanem52@hotmail.com  2015-12-23  2014-12-23\n",
        "14        tarek_seddik@hotmail.com  2015-12-23  2014-12-23\n",
        "15         maie.nomrossy@gmail.com  2015-12-23  2014-12-23\n",
        "16           hazem.shamy@gmail.com  2015-12-23  2014-12-23\n",
        "17          maya.p.nawal@gmail.com  2015-12-22  2014-12-23\n",
        "18       jamesmorgan0091@gmail.com  2015-12-22  2014-12-23\n",
        "19            israa_s@aucegypt.edu  2015-12-22  2014-12-23\n",
        "20          RODY.DOVE123@GMAIL.COM  2015-12-22  2014-12-23\n",
        "21          amaghraby@mediawave.me  2015-12-22  2014-12-23\n",
        "22             hibba_b@hotmail.com  2015-12-22  2014-12-23\n",
        "23          pascalenader@gmail.com  2015-12-22  2014-12-23\n",
        "24          doaa.khattab@gmail.com  2015-12-22  2014-12-23\n",
        "25          sunset_456@hotmail.com  2015-12-22  2014-12-23\n",
        "26      colleen_lovely@hotmail.com  2015-12-22  2014-12-23\n",
        "27                imrhazi@yahoo.fr  2015-12-22  2014-12-23\n",
        "28       nadyagamaleldin@gmail.com  2015-12-22  2014-12-23\n",
        "29             engywasfy@gmail.com  2015-12-22  2014-12-23\n",
        "...                            ...         ...         ...\n",
        "8231      faridahelmyiba@gmail.com  2012-07-09  2014-12-23\n",
        "8232        mireilleamin@yahoo.com  2012-07-09  2014-12-23\n",
        "8233    Ihab.derias@laroche.com.eg  2012-07-09  2014-12-23\n",
        "8234          Adhamada@hotmail.com  2012-07-09  2014-12-23\n",
        "8235      houssam.elokda@gmail.com  2012-07-09  2014-12-23\n",
        "8236           Hania7894@gmail.com  2012-07-09  2014-12-23\n",
        "8237             Mamazzz@gmail.com  2012-07-08  2014-12-23\n",
        "8238             asony11@yahoo.com  2012-07-08  2014-12-23\n",
        "8239       salwa_saiid@hotmail.com  2012-07-08  2014-12-23\n",
        "8240  djamila.benderbous@gmail.com  2012-07-07  2014-12-23\n",
        "8241       milomilogindi@yahoo.com  2012-07-05  2014-12-23\n",
        "8242      raghebelgammal@yahoo.com  2012-07-05  2014-12-23\n",
        "8243       t_el_gammal@hotmail.com  2012-07-04  2014-12-23\n",
        "8244        lik-novikova@yandex.ru  2012-07-01  2014-12-23\n",
        "8245         fairymaid82@yahoo.com  2012-06-13  2014-12-23\n",
        "8246       milomilogindi@yahoo.com  2012-06-06  2014-12-23\n",
        "8247       t_el_gammal@hotmail.com  2012-06-06  2014-12-23\n",
        "8248       t_el_gammal@hotmail.com  2012-05-29  2014-12-23\n",
        "8249        lik-novikova@yandex.ru  2012-05-27  2014-12-23\n",
        "8250              Biro5s@yahoo.com  2012-05-25  2014-12-23\n",
        "8251          nini.etoile@voila.fr  2012-05-21  2014-12-23\n",
        "8252        lik-novikova@yandex.ru  2012-05-21  2014-12-23\n",
        "8253           bettyhedrich@gmx.de  2012-05-18  2014-12-23\n",
        "8254                 rulah@msn.com  2012-05-10  2014-12-23\n",
        "8255           milda_b@hotmail.com  2012-05-08  2014-12-23\n",
        "8256           bente.ring@yahoo.no  2012-05-08  2014-12-23\n",
        "8257           bente.ring@yahoo.no  2012-05-07  2014-12-23\n",
        "8258        lik-novikova@yandex.ru  2012-05-03  2014-12-23\n",
        "8259           bente.ring@yahoo.no  2012-05-02  2014-12-23\n",
        "8260          cathypod@hotmail.com  2012-05-01  2014-12-23\n",
        "\n",
        "[8261 rows x 3 columns]"
       ]
      }
     ],
     "prompt_number": 6
    },
    {
     "cell_type": "code",
     "collapsed": false,
     "input": [
      "df['DaysBetween'] = df.apply(lambda x: days_between(x['YearBefore'], x['Date']), axis=1)\n",
      "df = df[(df.DaysBetween <= 365) & (df.DaysBetween >= 0)] #get rows whose order is with in 365 days\n",
      "df"
     ],
     "language": "python",
     "metadata": {},
     "outputs": [
      {
       "html": [
        "<div style=\"max-height:1000px;max-width:1500px;overflow:auto;\">\n",
        "<table border=\"1\" class=\"dataframe\">\n",
        "  <thead>\n",
        "    <tr style=\"text-align: right;\">\n",
        "      <th></th>\n",
        "      <th>Email</th>\n",
        "      <th>Date</th>\n",
        "      <th>YearBefore</th>\n",
        "      <th>DaysBetween</th>\n",
        "    </tr>\n",
        "  </thead>\n",
        "  <tbody>\n",
        "    <tr>\n",
        "      <th>0   </th>\n",
        "      <td>         rehabmansour@gmail.com</td>\n",
        "      <td> 2015-12-23</td>\n",
        "      <td> 2014-12-23</td>\n",
        "      <td> 365</td>\n",
        "    </tr>\n",
        "    <tr>\n",
        "      <th>1   </th>\n",
        "      <td>            nabouheif@yahoo.com</td>\n",
        "      <td> 2015-12-23</td>\n",
        "      <td> 2014-12-23</td>\n",
        "      <td> 365</td>\n",
        "    </tr>\n",
        "    <tr>\n",
        "      <th>2   </th>\n",
        "      <td>         fracicardi@hotmail.com</td>\n",
        "      <td> 2015-12-23</td>\n",
        "      <td> 2014-12-23</td>\n",
        "      <td> 365</td>\n",
        "    </tr>\n",
        "    <tr>\n",
        "      <th>3   </th>\n",
        "      <td>         ahmed.fakhry@gmail.com</td>\n",
        "      <td> 2015-12-23</td>\n",
        "      <td> 2014-12-23</td>\n",
        "      <td> 365</td>\n",
        "    </tr>\n",
        "    <tr>\n",
        "      <th>4   </th>\n",
        "      <td>           Missilou11@yahoo.com</td>\n",
        "      <td> 2015-12-23</td>\n",
        "      <td> 2014-12-23</td>\n",
        "      <td> 365</td>\n",
        "    </tr>\n",
        "    <tr>\n",
        "      <th>5   </th>\n",
        "      <td>        sallysalem123@gmail.com</td>\n",
        "      <td> 2015-12-23</td>\n",
        "      <td> 2014-12-23</td>\n",
        "      <td> 365</td>\n",
        "    </tr>\n",
        "    <tr>\n",
        "      <th>6   </th>\n",
        "      <td>       nayera_fadel@hotmail.com</td>\n",
        "      <td> 2015-12-23</td>\n",
        "      <td> 2014-12-23</td>\n",
        "      <td> 365</td>\n",
        "    </tr>\n",
        "    <tr>\n",
        "      <th>7   </th>\n",
        "      <td>          raoufzdn553@gmail.com</td>\n",
        "      <td> 2015-12-23</td>\n",
        "      <td> 2014-12-23</td>\n",
        "      <td> 365</td>\n",
        "    </tr>\n",
        "    <tr>\n",
        "      <th>8   </th>\n",
        "      <td>         gaylynmbogho@yahoo.com</td>\n",
        "      <td> 2015-12-23</td>\n",
        "      <td> 2014-12-23</td>\n",
        "      <td> 365</td>\n",
        "    </tr>\n",
        "    <tr>\n",
        "      <th>9   </th>\n",
        "      <td>           oshahavi13@gmail.com</td>\n",
        "      <td> 2015-12-23</td>\n",
        "      <td> 2014-12-23</td>\n",
        "      <td> 365</td>\n",
        "    </tr>\n",
        "    <tr>\n",
        "      <th>10  </th>\n",
        "      <td>           Daiieldeeb@gmail.com</td>\n",
        "      <td> 2015-12-23</td>\n",
        "      <td> 2014-12-23</td>\n",
        "      <td> 365</td>\n",
        "    </tr>\n",
        "    <tr>\n",
        "      <th>11  </th>\n",
        "      <td>            yara.azam@gmail.com</td>\n",
        "      <td> 2015-12-23</td>\n",
        "      <td> 2014-12-23</td>\n",
        "      <td> 365</td>\n",
        "    </tr>\n",
        "    <tr>\n",
        "      <th>12  </th>\n",
        "      <td>          dalia_allam@yahoo.com</td>\n",
        "      <td> 2015-12-23</td>\n",
        "      <td> 2014-12-23</td>\n",
        "      <td> 365</td>\n",
        "    </tr>\n",
        "    <tr>\n",
        "      <th>13  </th>\n",
        "      <td>          elhanem52@hotmail.com</td>\n",
        "      <td> 2015-12-23</td>\n",
        "      <td> 2014-12-23</td>\n",
        "      <td> 365</td>\n",
        "    </tr>\n",
        "    <tr>\n",
        "      <th>14  </th>\n",
        "      <td>       tarek_seddik@hotmail.com</td>\n",
        "      <td> 2015-12-23</td>\n",
        "      <td> 2014-12-23</td>\n",
        "      <td> 365</td>\n",
        "    </tr>\n",
        "    <tr>\n",
        "      <th>15  </th>\n",
        "      <td>        maie.nomrossy@gmail.com</td>\n",
        "      <td> 2015-12-23</td>\n",
        "      <td> 2014-12-23</td>\n",
        "      <td> 365</td>\n",
        "    </tr>\n",
        "    <tr>\n",
        "      <th>16  </th>\n",
        "      <td>          hazem.shamy@gmail.com</td>\n",
        "      <td> 2015-12-23</td>\n",
        "      <td> 2014-12-23</td>\n",
        "      <td> 365</td>\n",
        "    </tr>\n",
        "    <tr>\n",
        "      <th>17  </th>\n",
        "      <td>         maya.p.nawal@gmail.com</td>\n",
        "      <td> 2015-12-22</td>\n",
        "      <td> 2014-12-23</td>\n",
        "      <td> 364</td>\n",
        "    </tr>\n",
        "    <tr>\n",
        "      <th>18  </th>\n",
        "      <td>      jamesmorgan0091@gmail.com</td>\n",
        "      <td> 2015-12-22</td>\n",
        "      <td> 2014-12-23</td>\n",
        "      <td> 364</td>\n",
        "    </tr>\n",
        "    <tr>\n",
        "      <th>19  </th>\n",
        "      <td>           israa_s@aucegypt.edu</td>\n",
        "      <td> 2015-12-22</td>\n",
        "      <td> 2014-12-23</td>\n",
        "      <td> 364</td>\n",
        "    </tr>\n",
        "    <tr>\n",
        "      <th>20  </th>\n",
        "      <td>         RODY.DOVE123@GMAIL.COM</td>\n",
        "      <td> 2015-12-22</td>\n",
        "      <td> 2014-12-23</td>\n",
        "      <td> 364</td>\n",
        "    </tr>\n",
        "    <tr>\n",
        "      <th>21  </th>\n",
        "      <td>         amaghraby@mediawave.me</td>\n",
        "      <td> 2015-12-22</td>\n",
        "      <td> 2014-12-23</td>\n",
        "      <td> 364</td>\n",
        "    </tr>\n",
        "    <tr>\n",
        "      <th>22  </th>\n",
        "      <td>            hibba_b@hotmail.com</td>\n",
        "      <td> 2015-12-22</td>\n",
        "      <td> 2014-12-23</td>\n",
        "      <td> 364</td>\n",
        "    </tr>\n",
        "    <tr>\n",
        "      <th>23  </th>\n",
        "      <td>         pascalenader@gmail.com</td>\n",
        "      <td> 2015-12-22</td>\n",
        "      <td> 2014-12-23</td>\n",
        "      <td> 364</td>\n",
        "    </tr>\n",
        "    <tr>\n",
        "      <th>24  </th>\n",
        "      <td>         doaa.khattab@gmail.com</td>\n",
        "      <td> 2015-12-22</td>\n",
        "      <td> 2014-12-23</td>\n",
        "      <td> 364</td>\n",
        "    </tr>\n",
        "    <tr>\n",
        "      <th>25  </th>\n",
        "      <td>         sunset_456@hotmail.com</td>\n",
        "      <td> 2015-12-22</td>\n",
        "      <td> 2014-12-23</td>\n",
        "      <td> 364</td>\n",
        "    </tr>\n",
        "    <tr>\n",
        "      <th>26  </th>\n",
        "      <td>     colleen_lovely@hotmail.com</td>\n",
        "      <td> 2015-12-22</td>\n",
        "      <td> 2014-12-23</td>\n",
        "      <td> 364</td>\n",
        "    </tr>\n",
        "    <tr>\n",
        "      <th>27  </th>\n",
        "      <td>               imrhazi@yahoo.fr</td>\n",
        "      <td> 2015-12-22</td>\n",
        "      <td> 2014-12-23</td>\n",
        "      <td> 364</td>\n",
        "    </tr>\n",
        "    <tr>\n",
        "      <th>28  </th>\n",
        "      <td>      nadyagamaleldin@gmail.com</td>\n",
        "      <td> 2015-12-22</td>\n",
        "      <td> 2014-12-23</td>\n",
        "      <td> 364</td>\n",
        "    </tr>\n",
        "    <tr>\n",
        "      <th>29  </th>\n",
        "      <td>            engywasfy@gmail.com</td>\n",
        "      <td> 2015-12-22</td>\n",
        "      <td> 2014-12-23</td>\n",
        "      <td> 364</td>\n",
        "    </tr>\n",
        "    <tr>\n",
        "      <th>...</th>\n",
        "      <td>...</td>\n",
        "      <td>...</td>\n",
        "      <td>...</td>\n",
        "      <td>...</td>\n",
        "    </tr>\n",
        "    <tr>\n",
        "      <th>4509</th>\n",
        "      <td>         rihamzahra@hotmail.com</td>\n",
        "      <td> 2014-12-28</td>\n",
        "      <td> 2014-12-23</td>\n",
        "      <td>   5</td>\n",
        "    </tr>\n",
        "    <tr>\n",
        "      <th>4510</th>\n",
        "      <td>             info@ngs-egypt.com</td>\n",
        "      <td> 2014-12-27</td>\n",
        "      <td> 2014-12-23</td>\n",
        "      <td>   4</td>\n",
        "    </tr>\n",
        "    <tr>\n",
        "      <th>4511</th>\n",
        "      <td>              yhalima@gmail.com</td>\n",
        "      <td> 2014-12-27</td>\n",
        "      <td> 2014-12-23</td>\n",
        "      <td>   4</td>\n",
        "    </tr>\n",
        "    <tr>\n",
        "      <th>4512</th>\n",
        "      <td>     nathaliemanadily@gmail.com</td>\n",
        "      <td> 2014-12-27</td>\n",
        "      <td> 2014-12-23</td>\n",
        "      <td>   4</td>\n",
        "    </tr>\n",
        "    <tr>\n",
        "      <th>4513</th>\n",
        "      <td>           rehamzahed@yahoo.com</td>\n",
        "      <td> 2014-12-27</td>\n",
        "      <td> 2014-12-23</td>\n",
        "      <td>   4</td>\n",
        "    </tr>\n",
        "    <tr>\n",
        "      <th>4514</th>\n",
        "      <td>            nohae25@hotmail.com</td>\n",
        "      <td> 2014-12-26</td>\n",
        "      <td> 2014-12-23</td>\n",
        "      <td>   3</td>\n",
        "    </tr>\n",
        "    <tr>\n",
        "      <th>4515</th>\n",
        "      <td>         marisa7777@hotmail.com</td>\n",
        "      <td> 2014-12-26</td>\n",
        "      <td> 2014-12-23</td>\n",
        "      <td>   3</td>\n",
        "    </tr>\n",
        "    <tr>\n",
        "      <th>4516</th>\n",
        "      <td> sarahhelmy@alumni.concordia.ca</td>\n",
        "      <td> 2014-12-25</td>\n",
        "      <td> 2014-12-23</td>\n",
        "      <td>   2</td>\n",
        "    </tr>\n",
        "    <tr>\n",
        "      <th>4517</th>\n",
        "      <td>         salma.tammam@gmail.com</td>\n",
        "      <td> 2014-12-25</td>\n",
        "      <td> 2014-12-23</td>\n",
        "      <td>   2</td>\n",
        "    </tr>\n",
        "    <tr>\n",
        "      <th>4518</th>\n",
        "      <td>            basmasaad@gmail.com</td>\n",
        "      <td> 2014-12-25</td>\n",
        "      <td> 2014-12-23</td>\n",
        "      <td>   2</td>\n",
        "    </tr>\n",
        "    <tr>\n",
        "      <th>4519</th>\n",
        "      <td>        naglahassan27@gmail.com</td>\n",
        "      <td> 2014-12-25</td>\n",
        "      <td> 2014-12-23</td>\n",
        "      <td>   2</td>\n",
        "    </tr>\n",
        "    <tr>\n",
        "      <th>4520</th>\n",
        "      <td>               ayads@icloud.com</td>\n",
        "      <td> 2014-12-25</td>\n",
        "      <td> 2014-12-23</td>\n",
        "      <td>   2</td>\n",
        "    </tr>\n",
        "    <tr>\n",
        "      <th>4521</th>\n",
        "      <td>         sameh_fmcg@hotmail.com</td>\n",
        "      <td> 2014-12-25</td>\n",
        "      <td> 2014-12-23</td>\n",
        "      <td>   2</td>\n",
        "    </tr>\n",
        "    <tr>\n",
        "      <th>4522</th>\n",
        "      <td>          bboylan14@hotmail.com</td>\n",
        "      <td> 2014-12-24</td>\n",
        "      <td> 2014-12-23</td>\n",
        "      <td>   1</td>\n",
        "    </tr>\n",
        "    <tr>\n",
        "      <th>4523</th>\n",
        "      <td>       hisham.khairat@cibeg.com</td>\n",
        "      <td> 2014-12-24</td>\n",
        "      <td> 2014-12-23</td>\n",
        "      <td>   1</td>\n",
        "    </tr>\n",
        "    <tr>\n",
        "      <th>4524</th>\n",
        "      <td>        farida.tawfik@gmail.com</td>\n",
        "      <td> 2014-12-24</td>\n",
        "      <td> 2014-12-23</td>\n",
        "      <td>   1</td>\n",
        "    </tr>\n",
        "    <tr>\n",
        "      <th>4525</th>\n",
        "      <td>             info@ngs-egypt.com</td>\n",
        "      <td> 2014-12-24</td>\n",
        "      <td> 2014-12-23</td>\n",
        "      <td>   1</td>\n",
        "    </tr>\n",
        "    <tr>\n",
        "      <th>4526</th>\n",
        "      <td>        angiemakhlouf@gmail.com</td>\n",
        "      <td> 2014-12-24</td>\n",
        "      <td> 2014-12-23</td>\n",
        "      <td>   1</td>\n",
        "    </tr>\n",
        "    <tr>\n",
        "      <th>4527</th>\n",
        "      <td>          ronsbatal@hotmail.com</td>\n",
        "      <td> 2014-12-24</td>\n",
        "      <td> 2014-12-23</td>\n",
        "      <td>   1</td>\n",
        "    </tr>\n",
        "    <tr>\n",
        "      <th>4528</th>\n",
        "      <td>         hebahassan62@yahoo.com</td>\n",
        "      <td> 2014-12-24</td>\n",
        "      <td> 2014-12-23</td>\n",
        "      <td>   1</td>\n",
        "    </tr>\n",
        "    <tr>\n",
        "      <th>4529</th>\n",
        "      <td>     Dina_hamada009@hotmail.com</td>\n",
        "      <td> 2014-12-24</td>\n",
        "      <td> 2014-12-23</td>\n",
        "      <td>   1</td>\n",
        "    </tr>\n",
        "    <tr>\n",
        "      <th>4530</th>\n",
        "      <td>    yassine_shokeir@hotmail.com</td>\n",
        "      <td> 2014-12-24</td>\n",
        "      <td> 2014-12-23</td>\n",
        "      <td>   1</td>\n",
        "    </tr>\n",
        "    <tr>\n",
        "      <th>4531</th>\n",
        "      <td>         laila.meligy@gmail.com</td>\n",
        "      <td> 2014-12-23</td>\n",
        "      <td> 2014-12-23</td>\n",
        "      <td>   0</td>\n",
        "    </tr>\n",
        "    <tr>\n",
        "      <th>4532</th>\n",
        "      <td>             info@ngs-egypt.com</td>\n",
        "      <td> 2014-12-23</td>\n",
        "      <td> 2014-12-23</td>\n",
        "      <td>   0</td>\n",
        "    </tr>\n",
        "    <tr>\n",
        "      <th>4533</th>\n",
        "      <td>           omzeinab@hotmail.com</td>\n",
        "      <td> 2014-12-23</td>\n",
        "      <td> 2014-12-23</td>\n",
        "      <td>   0</td>\n",
        "    </tr>\n",
        "    <tr>\n",
        "      <th>4534</th>\n",
        "      <td>             cherine7@gmail.com</td>\n",
        "      <td> 2014-12-23</td>\n",
        "      <td> 2014-12-23</td>\n",
        "      <td>   0</td>\n",
        "    </tr>\n",
        "    <tr>\n",
        "      <th>4535</th>\n",
        "      <td>          salmagenena@gmail.com</td>\n",
        "      <td> 2014-12-23</td>\n",
        "      <td> 2014-12-23</td>\n",
        "      <td>   0</td>\n",
        "    </tr>\n",
        "    <tr>\n",
        "      <th>4536</th>\n",
        "      <td>        sandra.atteya@gmail.com</td>\n",
        "      <td> 2014-12-23</td>\n",
        "      <td> 2014-12-23</td>\n",
        "      <td>   0</td>\n",
        "    </tr>\n",
        "    <tr>\n",
        "      <th>4537</th>\n",
        "      <td>        hadir.maghrby@yahoo.com</td>\n",
        "      <td> 2014-12-23</td>\n",
        "      <td> 2014-12-23</td>\n",
        "      <td>   0</td>\n",
        "    </tr>\n",
        "    <tr>\n",
        "      <th>4538</th>\n",
        "      <td>          mennariad82@gmail.com</td>\n",
        "      <td> 2014-12-23</td>\n",
        "      <td> 2014-12-23</td>\n",
        "      <td>   0</td>\n",
        "    </tr>\n",
        "  </tbody>\n",
        "</table>\n",
        "<p>4539 rows \u00d7 4 columns</p>\n",
        "</div>"
       ],
       "metadata": {},
       "output_type": "pyout",
       "prompt_number": 7,
       "text": [
        "                               Email        Date  YearBefore  DaysBetween\n",
        "0             rehabmansour@gmail.com  2015-12-23  2014-12-23          365\n",
        "1                nabouheif@yahoo.com  2015-12-23  2014-12-23          365\n",
        "2             fracicardi@hotmail.com  2015-12-23  2014-12-23          365\n",
        "3             ahmed.fakhry@gmail.com  2015-12-23  2014-12-23          365\n",
        "4               Missilou11@yahoo.com  2015-12-23  2014-12-23          365\n",
        "5            sallysalem123@gmail.com  2015-12-23  2014-12-23          365\n",
        "6           nayera_fadel@hotmail.com  2015-12-23  2014-12-23          365\n",
        "7              raoufzdn553@gmail.com  2015-12-23  2014-12-23          365\n",
        "8             gaylynmbogho@yahoo.com  2015-12-23  2014-12-23          365\n",
        "9               oshahavi13@gmail.com  2015-12-23  2014-12-23          365\n",
        "10              Daiieldeeb@gmail.com  2015-12-23  2014-12-23          365\n",
        "11               yara.azam@gmail.com  2015-12-23  2014-12-23          365\n",
        "12             dalia_allam@yahoo.com  2015-12-23  2014-12-23          365\n",
        "13             elhanem52@hotmail.com  2015-12-23  2014-12-23          365\n",
        "14          tarek_seddik@hotmail.com  2015-12-23  2014-12-23          365\n",
        "15           maie.nomrossy@gmail.com  2015-12-23  2014-12-23          365\n",
        "16             hazem.shamy@gmail.com  2015-12-23  2014-12-23          365\n",
        "17            maya.p.nawal@gmail.com  2015-12-22  2014-12-23          364\n",
        "18         jamesmorgan0091@gmail.com  2015-12-22  2014-12-23          364\n",
        "19              israa_s@aucegypt.edu  2015-12-22  2014-12-23          364\n",
        "20            RODY.DOVE123@GMAIL.COM  2015-12-22  2014-12-23          364\n",
        "21            amaghraby@mediawave.me  2015-12-22  2014-12-23          364\n",
        "22               hibba_b@hotmail.com  2015-12-22  2014-12-23          364\n",
        "23            pascalenader@gmail.com  2015-12-22  2014-12-23          364\n",
        "24            doaa.khattab@gmail.com  2015-12-22  2014-12-23          364\n",
        "25            sunset_456@hotmail.com  2015-12-22  2014-12-23          364\n",
        "26        colleen_lovely@hotmail.com  2015-12-22  2014-12-23          364\n",
        "27                  imrhazi@yahoo.fr  2015-12-22  2014-12-23          364\n",
        "28         nadyagamaleldin@gmail.com  2015-12-22  2014-12-23          364\n",
        "29               engywasfy@gmail.com  2015-12-22  2014-12-23          364\n",
        "...                              ...         ...         ...          ...\n",
        "4509          rihamzahra@hotmail.com  2014-12-28  2014-12-23            5\n",
        "4510              info@ngs-egypt.com  2014-12-27  2014-12-23            4\n",
        "4511               yhalima@gmail.com  2014-12-27  2014-12-23            4\n",
        "4512      nathaliemanadily@gmail.com  2014-12-27  2014-12-23            4\n",
        "4513            rehamzahed@yahoo.com  2014-12-27  2014-12-23            4\n",
        "4514             nohae25@hotmail.com  2014-12-26  2014-12-23            3\n",
        "4515          marisa7777@hotmail.com  2014-12-26  2014-12-23            3\n",
        "4516  sarahhelmy@alumni.concordia.ca  2014-12-25  2014-12-23            2\n",
        "4517          salma.tammam@gmail.com  2014-12-25  2014-12-23            2\n",
        "4518             basmasaad@gmail.com  2014-12-25  2014-12-23            2\n",
        "4519         naglahassan27@gmail.com  2014-12-25  2014-12-23            2\n",
        "4520                ayads@icloud.com  2014-12-25  2014-12-23            2\n",
        "4521          sameh_fmcg@hotmail.com  2014-12-25  2014-12-23            2\n",
        "4522           bboylan14@hotmail.com  2014-12-24  2014-12-23            1\n",
        "4523        hisham.khairat@cibeg.com  2014-12-24  2014-12-23            1\n",
        "4524         farida.tawfik@gmail.com  2014-12-24  2014-12-23            1\n",
        "4525              info@ngs-egypt.com  2014-12-24  2014-12-23            1\n",
        "4526         angiemakhlouf@gmail.com  2014-12-24  2014-12-23            1\n",
        "4527           ronsbatal@hotmail.com  2014-12-24  2014-12-23            1\n",
        "4528          hebahassan62@yahoo.com  2014-12-24  2014-12-23            1\n",
        "4529      Dina_hamada009@hotmail.com  2014-12-24  2014-12-23            1\n",
        "4530     yassine_shokeir@hotmail.com  2014-12-24  2014-12-23            1\n",
        "4531          laila.meligy@gmail.com  2014-12-23  2014-12-23            0\n",
        "4532              info@ngs-egypt.com  2014-12-23  2014-12-23            0\n",
        "4533            omzeinab@hotmail.com  2014-12-23  2014-12-23            0\n",
        "4534              cherine7@gmail.com  2014-12-23  2014-12-23            0\n",
        "4535           salmagenena@gmail.com  2014-12-23  2014-12-23            0\n",
        "4536         sandra.atteya@gmail.com  2014-12-23  2014-12-23            0\n",
        "4537         hadir.maghrby@yahoo.com  2014-12-23  2014-12-23            0\n",
        "4538           mennariad82@gmail.com  2014-12-23  2014-12-23            0\n",
        "\n",
        "[4539 rows x 4 columns]"
       ]
      }
     ],
     "prompt_number": 7
    },
    {
     "cell_type": "code",
     "collapsed": false,
     "input": [
      "df1 = df[['Email']] #create new df with emails\n",
      "df1 = df1.drop_duplicates().reset_index().drop('index',1)\n",
      "df1"
     ],
     "language": "python",
     "metadata": {},
     "outputs": [
      {
       "html": [
        "<div style=\"max-height:1000px;max-width:1500px;overflow:auto;\">\n",
        "<table border=\"1\" class=\"dataframe\">\n",
        "  <thead>\n",
        "    <tr style=\"text-align: right;\">\n",
        "      <th></th>\n",
        "      <th>Email</th>\n",
        "    </tr>\n",
        "  </thead>\n",
        "  <tbody>\n",
        "    <tr>\n",
        "      <th>0   </th>\n",
        "      <td>       rehabmansour@gmail.com</td>\n",
        "    </tr>\n",
        "    <tr>\n",
        "      <th>1   </th>\n",
        "      <td>          nabouheif@yahoo.com</td>\n",
        "    </tr>\n",
        "    <tr>\n",
        "      <th>2   </th>\n",
        "      <td>       fracicardi@hotmail.com</td>\n",
        "    </tr>\n",
        "    <tr>\n",
        "      <th>3   </th>\n",
        "      <td>       ahmed.fakhry@gmail.com</td>\n",
        "    </tr>\n",
        "    <tr>\n",
        "      <th>4   </th>\n",
        "      <td>         Missilou11@yahoo.com</td>\n",
        "    </tr>\n",
        "    <tr>\n",
        "      <th>5   </th>\n",
        "      <td>      sallysalem123@gmail.com</td>\n",
        "    </tr>\n",
        "    <tr>\n",
        "      <th>6   </th>\n",
        "      <td>     nayera_fadel@hotmail.com</td>\n",
        "    </tr>\n",
        "    <tr>\n",
        "      <th>7   </th>\n",
        "      <td>        raoufzdn553@gmail.com</td>\n",
        "    </tr>\n",
        "    <tr>\n",
        "      <th>8   </th>\n",
        "      <td>       gaylynmbogho@yahoo.com</td>\n",
        "    </tr>\n",
        "    <tr>\n",
        "      <th>9   </th>\n",
        "      <td>         oshahavi13@gmail.com</td>\n",
        "    </tr>\n",
        "    <tr>\n",
        "      <th>10  </th>\n",
        "      <td>         Daiieldeeb@gmail.com</td>\n",
        "    </tr>\n",
        "    <tr>\n",
        "      <th>11  </th>\n",
        "      <td>          yara.azam@gmail.com</td>\n",
        "    </tr>\n",
        "    <tr>\n",
        "      <th>12  </th>\n",
        "      <td>        dalia_allam@yahoo.com</td>\n",
        "    </tr>\n",
        "    <tr>\n",
        "      <th>13  </th>\n",
        "      <td>        elhanem52@hotmail.com</td>\n",
        "    </tr>\n",
        "    <tr>\n",
        "      <th>14  </th>\n",
        "      <td>     tarek_seddik@hotmail.com</td>\n",
        "    </tr>\n",
        "    <tr>\n",
        "      <th>15  </th>\n",
        "      <td>      maie.nomrossy@gmail.com</td>\n",
        "    </tr>\n",
        "    <tr>\n",
        "      <th>16  </th>\n",
        "      <td>        hazem.shamy@gmail.com</td>\n",
        "    </tr>\n",
        "    <tr>\n",
        "      <th>17  </th>\n",
        "      <td>       maya.p.nawal@gmail.com</td>\n",
        "    </tr>\n",
        "    <tr>\n",
        "      <th>18  </th>\n",
        "      <td>    jamesmorgan0091@gmail.com</td>\n",
        "    </tr>\n",
        "    <tr>\n",
        "      <th>19  </th>\n",
        "      <td>         israa_s@aucegypt.edu</td>\n",
        "    </tr>\n",
        "    <tr>\n",
        "      <th>20  </th>\n",
        "      <td>       RODY.DOVE123@GMAIL.COM</td>\n",
        "    </tr>\n",
        "    <tr>\n",
        "      <th>21  </th>\n",
        "      <td>       amaghraby@mediawave.me</td>\n",
        "    </tr>\n",
        "    <tr>\n",
        "      <th>22  </th>\n",
        "      <td>          hibba_b@hotmail.com</td>\n",
        "    </tr>\n",
        "    <tr>\n",
        "      <th>23  </th>\n",
        "      <td>       pascalenader@gmail.com</td>\n",
        "    </tr>\n",
        "    <tr>\n",
        "      <th>24  </th>\n",
        "      <td>       doaa.khattab@gmail.com</td>\n",
        "    </tr>\n",
        "    <tr>\n",
        "      <th>25  </th>\n",
        "      <td>       sunset_456@hotmail.com</td>\n",
        "    </tr>\n",
        "    <tr>\n",
        "      <th>26  </th>\n",
        "      <td>   colleen_lovely@hotmail.com</td>\n",
        "    </tr>\n",
        "    <tr>\n",
        "      <th>27  </th>\n",
        "      <td>             imrhazi@yahoo.fr</td>\n",
        "    </tr>\n",
        "    <tr>\n",
        "      <th>28  </th>\n",
        "      <td>    nadyagamaleldin@gmail.com</td>\n",
        "    </tr>\n",
        "    <tr>\n",
        "      <th>29  </th>\n",
        "      <td>          engywasfy@gmail.com</td>\n",
        "    </tr>\n",
        "    <tr>\n",
        "      <th>...</th>\n",
        "      <td>...</td>\n",
        "    </tr>\n",
        "    <tr>\n",
        "      <th>1478</th>\n",
        "      <td>       relbatanouny@yahoo.com</td>\n",
        "    </tr>\n",
        "    <tr>\n",
        "      <th>1479</th>\n",
        "      <td>     shorook.uk93@hotmail.com</td>\n",
        "    </tr>\n",
        "    <tr>\n",
        "      <th>1480</th>\n",
        "      <td>          nagwaemad@gmail.com</td>\n",
        "    </tr>\n",
        "    <tr>\n",
        "      <th>1481</th>\n",
        "      <td>       m_shaltout@outlook.com</td>\n",
        "    </tr>\n",
        "    <tr>\n",
        "      <th>1482</th>\n",
        "      <td>    mahitab.marzouk@gmail.com</td>\n",
        "    </tr>\n",
        "    <tr>\n",
        "      <th>1483</th>\n",
        "      <td>       allana.haist@gmail.com</td>\n",
        "    </tr>\n",
        "    <tr>\n",
        "      <th>1484</th>\n",
        "      <td>     norane.mahmoud@gmail.com</td>\n",
        "    </tr>\n",
        "    <tr>\n",
        "      <th>1485</th>\n",
        "      <td>           shewekar@yahoo.com</td>\n",
        "    </tr>\n",
        "    <tr>\n",
        "      <th>1486</th>\n",
        "      <td> mohamedabdsatar@aucegypt.edu</td>\n",
        "    </tr>\n",
        "    <tr>\n",
        "      <th>1487</th>\n",
        "      <td>        menamagdi@hotmail.com</td>\n",
        "    </tr>\n",
        "    <tr>\n",
        "      <th>1488</th>\n",
        "      <td>  sofia.elzaabalawy@gmail.com</td>\n",
        "    </tr>\n",
        "    <tr>\n",
        "      <th>1489</th>\n",
        "      <td>            mbembee@gmail.com</td>\n",
        "    </tr>\n",
        "    <tr>\n",
        "      <th>1490</th>\n",
        "      <td>        hamada_8383@yahoo.com</td>\n",
        "    </tr>\n",
        "    <tr>\n",
        "      <th>1491</th>\n",
        "      <td>      amaged@mantracegypt.com</td>\n",
        "    </tr>\n",
        "    <tr>\n",
        "      <th>1492</th>\n",
        "      <td>           cherine7@gmail.com</td>\n",
        "    </tr>\n",
        "    <tr>\n",
        "      <th>1493</th>\n",
        "      <td>           almelegi@gmail.com</td>\n",
        "    </tr>\n",
        "    <tr>\n",
        "      <th>1494</th>\n",
        "      <td>    yasmindanmaliki@yahoo.com</td>\n",
        "    </tr>\n",
        "    <tr>\n",
        "      <th>1495</th>\n",
        "      <td>          f_lauwalu@yahoo.com</td>\n",
        "    </tr>\n",
        "    <tr>\n",
        "      <th>1496</th>\n",
        "      <td>      Hanaa.Shaalan@gmail.com</td>\n",
        "    </tr>\n",
        "    <tr>\n",
        "      <th>1497</th>\n",
        "      <td>    marionmccarty04@gmail.com</td>\n",
        "    </tr>\n",
        "    <tr>\n",
        "      <th>1498</th>\n",
        "      <td>     lallylolly_1@hotmail.com</td>\n",
        "    </tr>\n",
        "    <tr>\n",
        "      <th>1499</th>\n",
        "      <td>       khadijahuazu@gmail.com</td>\n",
        "    </tr>\n",
        "    <tr>\n",
        "      <th>1500</th>\n",
        "      <td>       asmaafattouh@gmail.com</td>\n",
        "    </tr>\n",
        "    <tr>\n",
        "      <th>1501</th>\n",
        "      <td>       rihamzahra@hotmail.com</td>\n",
        "    </tr>\n",
        "    <tr>\n",
        "      <th>1502</th>\n",
        "      <td>            yhalima@gmail.com</td>\n",
        "    </tr>\n",
        "    <tr>\n",
        "      <th>1503</th>\n",
        "      <td>   nathaliemanadily@gmail.com</td>\n",
        "    </tr>\n",
        "    <tr>\n",
        "      <th>1504</th>\n",
        "      <td>          basmasaad@gmail.com</td>\n",
        "    </tr>\n",
        "    <tr>\n",
        "      <th>1505</th>\n",
        "      <td>   Dina_hamada009@hotmail.com</td>\n",
        "    </tr>\n",
        "    <tr>\n",
        "      <th>1506</th>\n",
        "      <td>       laila.meligy@gmail.com</td>\n",
        "    </tr>\n",
        "    <tr>\n",
        "      <th>1507</th>\n",
        "      <td>        salmagenena@gmail.com</td>\n",
        "    </tr>\n",
        "  </tbody>\n",
        "</table>\n",
        "<p>1508 rows \u00d7 1 columns</p>\n",
        "</div>"
       ],
       "metadata": {},
       "output_type": "pyout",
       "prompt_number": 8,
       "text": [
        "                             Email\n",
        "0           rehabmansour@gmail.com\n",
        "1              nabouheif@yahoo.com\n",
        "2           fracicardi@hotmail.com\n",
        "3           ahmed.fakhry@gmail.com\n",
        "4             Missilou11@yahoo.com\n",
        "5          sallysalem123@gmail.com\n",
        "6         nayera_fadel@hotmail.com\n",
        "7            raoufzdn553@gmail.com\n",
        "8           gaylynmbogho@yahoo.com\n",
        "9             oshahavi13@gmail.com\n",
        "10            Daiieldeeb@gmail.com\n",
        "11             yara.azam@gmail.com\n",
        "12           dalia_allam@yahoo.com\n",
        "13           elhanem52@hotmail.com\n",
        "14        tarek_seddik@hotmail.com\n",
        "15         maie.nomrossy@gmail.com\n",
        "16           hazem.shamy@gmail.com\n",
        "17          maya.p.nawal@gmail.com\n",
        "18       jamesmorgan0091@gmail.com\n",
        "19            israa_s@aucegypt.edu\n",
        "20          RODY.DOVE123@GMAIL.COM\n",
        "21          amaghraby@mediawave.me\n",
        "22             hibba_b@hotmail.com\n",
        "23          pascalenader@gmail.com\n",
        "24          doaa.khattab@gmail.com\n",
        "25          sunset_456@hotmail.com\n",
        "26      colleen_lovely@hotmail.com\n",
        "27                imrhazi@yahoo.fr\n",
        "28       nadyagamaleldin@gmail.com\n",
        "29             engywasfy@gmail.com\n",
        "...                            ...\n",
        "1478        relbatanouny@yahoo.com\n",
        "1479      shorook.uk93@hotmail.com\n",
        "1480           nagwaemad@gmail.com\n",
        "1481        m_shaltout@outlook.com\n",
        "1482     mahitab.marzouk@gmail.com\n",
        "1483        allana.haist@gmail.com\n",
        "1484      norane.mahmoud@gmail.com\n",
        "1485            shewekar@yahoo.com\n",
        "1486  mohamedabdsatar@aucegypt.edu\n",
        "1487         menamagdi@hotmail.com\n",
        "1488   sofia.elzaabalawy@gmail.com\n",
        "1489             mbembee@gmail.com\n",
        "1490         hamada_8383@yahoo.com\n",
        "1491       amaged@mantracegypt.com\n",
        "1492            cherine7@gmail.com\n",
        "1493            almelegi@gmail.com\n",
        "1494     yasmindanmaliki@yahoo.com\n",
        "1495           f_lauwalu@yahoo.com\n",
        "1496       Hanaa.Shaalan@gmail.com\n",
        "1497     marionmccarty04@gmail.com\n",
        "1498      lallylolly_1@hotmail.com\n",
        "1499        khadijahuazu@gmail.com\n",
        "1500        asmaafattouh@gmail.com\n",
        "1501        rihamzahra@hotmail.com\n",
        "1502             yhalima@gmail.com\n",
        "1503    nathaliemanadily@gmail.com\n",
        "1504           basmasaad@gmail.com\n",
        "1505    Dina_hamada009@hotmail.com\n",
        "1506        laila.meligy@gmail.com\n",
        "1507         salmagenena@gmail.com\n",
        "\n",
        "[1508 rows x 1 columns]"
       ]
      }
     ],
     "prompt_number": 8
    },
    {
     "cell_type": "code",
     "collapsed": false,
     "input": [
      "df2 = df[['Email', 'Date']] #create new df with emails, dates\n",
      "df2"
     ],
     "language": "python",
     "metadata": {},
     "outputs": [
      {
       "html": [
        "<div style=\"max-height:1000px;max-width:1500px;overflow:auto;\">\n",
        "<table border=\"1\" class=\"dataframe\">\n",
        "  <thead>\n",
        "    <tr style=\"text-align: right;\">\n",
        "      <th></th>\n",
        "      <th>Email</th>\n",
        "      <th>Date</th>\n",
        "    </tr>\n",
        "  </thead>\n",
        "  <tbody>\n",
        "    <tr>\n",
        "      <th>0   </th>\n",
        "      <td>         rehabmansour@gmail.com</td>\n",
        "      <td> 2015-12-23</td>\n",
        "    </tr>\n",
        "    <tr>\n",
        "      <th>1   </th>\n",
        "      <td>            nabouheif@yahoo.com</td>\n",
        "      <td> 2015-12-23</td>\n",
        "    </tr>\n",
        "    <tr>\n",
        "      <th>2   </th>\n",
        "      <td>         fracicardi@hotmail.com</td>\n",
        "      <td> 2015-12-23</td>\n",
        "    </tr>\n",
        "    <tr>\n",
        "      <th>3   </th>\n",
        "      <td>         ahmed.fakhry@gmail.com</td>\n",
        "      <td> 2015-12-23</td>\n",
        "    </tr>\n",
        "    <tr>\n",
        "      <th>4   </th>\n",
        "      <td>           Missilou11@yahoo.com</td>\n",
        "      <td> 2015-12-23</td>\n",
        "    </tr>\n",
        "    <tr>\n",
        "      <th>5   </th>\n",
        "      <td>        sallysalem123@gmail.com</td>\n",
        "      <td> 2015-12-23</td>\n",
        "    </tr>\n",
        "    <tr>\n",
        "      <th>6   </th>\n",
        "      <td>       nayera_fadel@hotmail.com</td>\n",
        "      <td> 2015-12-23</td>\n",
        "    </tr>\n",
        "    <tr>\n",
        "      <th>7   </th>\n",
        "      <td>          raoufzdn553@gmail.com</td>\n",
        "      <td> 2015-12-23</td>\n",
        "    </tr>\n",
        "    <tr>\n",
        "      <th>8   </th>\n",
        "      <td>         gaylynmbogho@yahoo.com</td>\n",
        "      <td> 2015-12-23</td>\n",
        "    </tr>\n",
        "    <tr>\n",
        "      <th>9   </th>\n",
        "      <td>           oshahavi13@gmail.com</td>\n",
        "      <td> 2015-12-23</td>\n",
        "    </tr>\n",
        "    <tr>\n",
        "      <th>10  </th>\n",
        "      <td>           Daiieldeeb@gmail.com</td>\n",
        "      <td> 2015-12-23</td>\n",
        "    </tr>\n",
        "    <tr>\n",
        "      <th>11  </th>\n",
        "      <td>            yara.azam@gmail.com</td>\n",
        "      <td> 2015-12-23</td>\n",
        "    </tr>\n",
        "    <tr>\n",
        "      <th>12  </th>\n",
        "      <td>          dalia_allam@yahoo.com</td>\n",
        "      <td> 2015-12-23</td>\n",
        "    </tr>\n",
        "    <tr>\n",
        "      <th>13  </th>\n",
        "      <td>          elhanem52@hotmail.com</td>\n",
        "      <td> 2015-12-23</td>\n",
        "    </tr>\n",
        "    <tr>\n",
        "      <th>14  </th>\n",
        "      <td>       tarek_seddik@hotmail.com</td>\n",
        "      <td> 2015-12-23</td>\n",
        "    </tr>\n",
        "    <tr>\n",
        "      <th>15  </th>\n",
        "      <td>        maie.nomrossy@gmail.com</td>\n",
        "      <td> 2015-12-23</td>\n",
        "    </tr>\n",
        "    <tr>\n",
        "      <th>16  </th>\n",
        "      <td>          hazem.shamy@gmail.com</td>\n",
        "      <td> 2015-12-23</td>\n",
        "    </tr>\n",
        "    <tr>\n",
        "      <th>17  </th>\n",
        "      <td>         maya.p.nawal@gmail.com</td>\n",
        "      <td> 2015-12-22</td>\n",
        "    </tr>\n",
        "    <tr>\n",
        "      <th>18  </th>\n",
        "      <td>      jamesmorgan0091@gmail.com</td>\n",
        "      <td> 2015-12-22</td>\n",
        "    </tr>\n",
        "    <tr>\n",
        "      <th>19  </th>\n",
        "      <td>           israa_s@aucegypt.edu</td>\n",
        "      <td> 2015-12-22</td>\n",
        "    </tr>\n",
        "    <tr>\n",
        "      <th>20  </th>\n",
        "      <td>         RODY.DOVE123@GMAIL.COM</td>\n",
        "      <td> 2015-12-22</td>\n",
        "    </tr>\n",
        "    <tr>\n",
        "      <th>21  </th>\n",
        "      <td>         amaghraby@mediawave.me</td>\n",
        "      <td> 2015-12-22</td>\n",
        "    </tr>\n",
        "    <tr>\n",
        "      <th>22  </th>\n",
        "      <td>            hibba_b@hotmail.com</td>\n",
        "      <td> 2015-12-22</td>\n",
        "    </tr>\n",
        "    <tr>\n",
        "      <th>23  </th>\n",
        "      <td>         pascalenader@gmail.com</td>\n",
        "      <td> 2015-12-22</td>\n",
        "    </tr>\n",
        "    <tr>\n",
        "      <th>24  </th>\n",
        "      <td>         doaa.khattab@gmail.com</td>\n",
        "      <td> 2015-12-22</td>\n",
        "    </tr>\n",
        "    <tr>\n",
        "      <th>25  </th>\n",
        "      <td>         sunset_456@hotmail.com</td>\n",
        "      <td> 2015-12-22</td>\n",
        "    </tr>\n",
        "    <tr>\n",
        "      <th>26  </th>\n",
        "      <td>     colleen_lovely@hotmail.com</td>\n",
        "      <td> 2015-12-22</td>\n",
        "    </tr>\n",
        "    <tr>\n",
        "      <th>27  </th>\n",
        "      <td>               imrhazi@yahoo.fr</td>\n",
        "      <td> 2015-12-22</td>\n",
        "    </tr>\n",
        "    <tr>\n",
        "      <th>28  </th>\n",
        "      <td>      nadyagamaleldin@gmail.com</td>\n",
        "      <td> 2015-12-22</td>\n",
        "    </tr>\n",
        "    <tr>\n",
        "      <th>29  </th>\n",
        "      <td>            engywasfy@gmail.com</td>\n",
        "      <td> 2015-12-22</td>\n",
        "    </tr>\n",
        "    <tr>\n",
        "      <th>...</th>\n",
        "      <td>...</td>\n",
        "      <td>...</td>\n",
        "    </tr>\n",
        "    <tr>\n",
        "      <th>4509</th>\n",
        "      <td>         rihamzahra@hotmail.com</td>\n",
        "      <td> 2014-12-28</td>\n",
        "    </tr>\n",
        "    <tr>\n",
        "      <th>4510</th>\n",
        "      <td>             info@ngs-egypt.com</td>\n",
        "      <td> 2014-12-27</td>\n",
        "    </tr>\n",
        "    <tr>\n",
        "      <th>4511</th>\n",
        "      <td>              yhalima@gmail.com</td>\n",
        "      <td> 2014-12-27</td>\n",
        "    </tr>\n",
        "    <tr>\n",
        "      <th>4512</th>\n",
        "      <td>     nathaliemanadily@gmail.com</td>\n",
        "      <td> 2014-12-27</td>\n",
        "    </tr>\n",
        "    <tr>\n",
        "      <th>4513</th>\n",
        "      <td>           rehamzahed@yahoo.com</td>\n",
        "      <td> 2014-12-27</td>\n",
        "    </tr>\n",
        "    <tr>\n",
        "      <th>4514</th>\n",
        "      <td>            nohae25@hotmail.com</td>\n",
        "      <td> 2014-12-26</td>\n",
        "    </tr>\n",
        "    <tr>\n",
        "      <th>4515</th>\n",
        "      <td>         marisa7777@hotmail.com</td>\n",
        "      <td> 2014-12-26</td>\n",
        "    </tr>\n",
        "    <tr>\n",
        "      <th>4516</th>\n",
        "      <td> sarahhelmy@alumni.concordia.ca</td>\n",
        "      <td> 2014-12-25</td>\n",
        "    </tr>\n",
        "    <tr>\n",
        "      <th>4517</th>\n",
        "      <td>         salma.tammam@gmail.com</td>\n",
        "      <td> 2014-12-25</td>\n",
        "    </tr>\n",
        "    <tr>\n",
        "      <th>4518</th>\n",
        "      <td>            basmasaad@gmail.com</td>\n",
        "      <td> 2014-12-25</td>\n",
        "    </tr>\n",
        "    <tr>\n",
        "      <th>4519</th>\n",
        "      <td>        naglahassan27@gmail.com</td>\n",
        "      <td> 2014-12-25</td>\n",
        "    </tr>\n",
        "    <tr>\n",
        "      <th>4520</th>\n",
        "      <td>               ayads@icloud.com</td>\n",
        "      <td> 2014-12-25</td>\n",
        "    </tr>\n",
        "    <tr>\n",
        "      <th>4521</th>\n",
        "      <td>         sameh_fmcg@hotmail.com</td>\n",
        "      <td> 2014-12-25</td>\n",
        "    </tr>\n",
        "    <tr>\n",
        "      <th>4522</th>\n",
        "      <td>          bboylan14@hotmail.com</td>\n",
        "      <td> 2014-12-24</td>\n",
        "    </tr>\n",
        "    <tr>\n",
        "      <th>4523</th>\n",
        "      <td>       hisham.khairat@cibeg.com</td>\n",
        "      <td> 2014-12-24</td>\n",
        "    </tr>\n",
        "    <tr>\n",
        "      <th>4524</th>\n",
        "      <td>        farida.tawfik@gmail.com</td>\n",
        "      <td> 2014-12-24</td>\n",
        "    </tr>\n",
        "    <tr>\n",
        "      <th>4525</th>\n",
        "      <td>             info@ngs-egypt.com</td>\n",
        "      <td> 2014-12-24</td>\n",
        "    </tr>\n",
        "    <tr>\n",
        "      <th>4526</th>\n",
        "      <td>        angiemakhlouf@gmail.com</td>\n",
        "      <td> 2014-12-24</td>\n",
        "    </tr>\n",
        "    <tr>\n",
        "      <th>4527</th>\n",
        "      <td>          ronsbatal@hotmail.com</td>\n",
        "      <td> 2014-12-24</td>\n",
        "    </tr>\n",
        "    <tr>\n",
        "      <th>4528</th>\n",
        "      <td>         hebahassan62@yahoo.com</td>\n",
        "      <td> 2014-12-24</td>\n",
        "    </tr>\n",
        "    <tr>\n",
        "      <th>4529</th>\n",
        "      <td>     Dina_hamada009@hotmail.com</td>\n",
        "      <td> 2014-12-24</td>\n",
        "    </tr>\n",
        "    <tr>\n",
        "      <th>4530</th>\n",
        "      <td>    yassine_shokeir@hotmail.com</td>\n",
        "      <td> 2014-12-24</td>\n",
        "    </tr>\n",
        "    <tr>\n",
        "      <th>4531</th>\n",
        "      <td>         laila.meligy@gmail.com</td>\n",
        "      <td> 2014-12-23</td>\n",
        "    </tr>\n",
        "    <tr>\n",
        "      <th>4532</th>\n",
        "      <td>             info@ngs-egypt.com</td>\n",
        "      <td> 2014-12-23</td>\n",
        "    </tr>\n",
        "    <tr>\n",
        "      <th>4533</th>\n",
        "      <td>           omzeinab@hotmail.com</td>\n",
        "      <td> 2014-12-23</td>\n",
        "    </tr>\n",
        "    <tr>\n",
        "      <th>4534</th>\n",
        "      <td>             cherine7@gmail.com</td>\n",
        "      <td> 2014-12-23</td>\n",
        "    </tr>\n",
        "    <tr>\n",
        "      <th>4535</th>\n",
        "      <td>          salmagenena@gmail.com</td>\n",
        "      <td> 2014-12-23</td>\n",
        "    </tr>\n",
        "    <tr>\n",
        "      <th>4536</th>\n",
        "      <td>        sandra.atteya@gmail.com</td>\n",
        "      <td> 2014-12-23</td>\n",
        "    </tr>\n",
        "    <tr>\n",
        "      <th>4537</th>\n",
        "      <td>        hadir.maghrby@yahoo.com</td>\n",
        "      <td> 2014-12-23</td>\n",
        "    </tr>\n",
        "    <tr>\n",
        "      <th>4538</th>\n",
        "      <td>          mennariad82@gmail.com</td>\n",
        "      <td> 2014-12-23</td>\n",
        "    </tr>\n",
        "  </tbody>\n",
        "</table>\n",
        "<p>4539 rows \u00d7 2 columns</p>\n",
        "</div>"
       ],
       "metadata": {},
       "output_type": "pyout",
       "prompt_number": 9,
       "text": [
        "                               Email        Date\n",
        "0             rehabmansour@gmail.com  2015-12-23\n",
        "1                nabouheif@yahoo.com  2015-12-23\n",
        "2             fracicardi@hotmail.com  2015-12-23\n",
        "3             ahmed.fakhry@gmail.com  2015-12-23\n",
        "4               Missilou11@yahoo.com  2015-12-23\n",
        "5            sallysalem123@gmail.com  2015-12-23\n",
        "6           nayera_fadel@hotmail.com  2015-12-23\n",
        "7              raoufzdn553@gmail.com  2015-12-23\n",
        "8             gaylynmbogho@yahoo.com  2015-12-23\n",
        "9               oshahavi13@gmail.com  2015-12-23\n",
        "10              Daiieldeeb@gmail.com  2015-12-23\n",
        "11               yara.azam@gmail.com  2015-12-23\n",
        "12             dalia_allam@yahoo.com  2015-12-23\n",
        "13             elhanem52@hotmail.com  2015-12-23\n",
        "14          tarek_seddik@hotmail.com  2015-12-23\n",
        "15           maie.nomrossy@gmail.com  2015-12-23\n",
        "16             hazem.shamy@gmail.com  2015-12-23\n",
        "17            maya.p.nawal@gmail.com  2015-12-22\n",
        "18         jamesmorgan0091@gmail.com  2015-12-22\n",
        "19              israa_s@aucegypt.edu  2015-12-22\n",
        "20            RODY.DOVE123@GMAIL.COM  2015-12-22\n",
        "21            amaghraby@mediawave.me  2015-12-22\n",
        "22               hibba_b@hotmail.com  2015-12-22\n",
        "23            pascalenader@gmail.com  2015-12-22\n",
        "24            doaa.khattab@gmail.com  2015-12-22\n",
        "25            sunset_456@hotmail.com  2015-12-22\n",
        "26        colleen_lovely@hotmail.com  2015-12-22\n",
        "27                  imrhazi@yahoo.fr  2015-12-22\n",
        "28         nadyagamaleldin@gmail.com  2015-12-22\n",
        "29               engywasfy@gmail.com  2015-12-22\n",
        "...                              ...         ...\n",
        "4509          rihamzahra@hotmail.com  2014-12-28\n",
        "4510              info@ngs-egypt.com  2014-12-27\n",
        "4511               yhalima@gmail.com  2014-12-27\n",
        "4512      nathaliemanadily@gmail.com  2014-12-27\n",
        "4513            rehamzahed@yahoo.com  2014-12-27\n",
        "4514             nohae25@hotmail.com  2014-12-26\n",
        "4515          marisa7777@hotmail.com  2014-12-26\n",
        "4516  sarahhelmy@alumni.concordia.ca  2014-12-25\n",
        "4517          salma.tammam@gmail.com  2014-12-25\n",
        "4518             basmasaad@gmail.com  2014-12-25\n",
        "4519         naglahassan27@gmail.com  2014-12-25\n",
        "4520                ayads@icloud.com  2014-12-25\n",
        "4521          sameh_fmcg@hotmail.com  2014-12-25\n",
        "4522           bboylan14@hotmail.com  2014-12-24\n",
        "4523        hisham.khairat@cibeg.com  2014-12-24\n",
        "4524         farida.tawfik@gmail.com  2014-12-24\n",
        "4525              info@ngs-egypt.com  2014-12-24\n",
        "4526         angiemakhlouf@gmail.com  2014-12-24\n",
        "4527           ronsbatal@hotmail.com  2014-12-24\n",
        "4528          hebahassan62@yahoo.com  2014-12-24\n",
        "4529      Dina_hamada009@hotmail.com  2014-12-24\n",
        "4530     yassine_shokeir@hotmail.com  2014-12-24\n",
        "4531          laila.meligy@gmail.com  2014-12-23\n",
        "4532              info@ngs-egypt.com  2014-12-23\n",
        "4533            omzeinab@hotmail.com  2014-12-23\n",
        "4534              cherine7@gmail.com  2014-12-23\n",
        "4535           salmagenena@gmail.com  2014-12-23\n",
        "4536         sandra.atteya@gmail.com  2014-12-23\n",
        "4537         hadir.maghrby@yahoo.com  2014-12-23\n",
        "4538           mennariad82@gmail.com  2014-12-23\n",
        "\n",
        "[4539 rows x 2 columns]"
       ]
      }
     ],
     "prompt_number": 9
    },
    {
     "cell_type": "code",
     "collapsed": false,
     "input": [
      "df['Days30Before'] = (str)(datetime.now() - timedelta(days=31)) #31 days from today(Thursday)\n",
      "df['Days30Before'] = df.Days30Before.apply(convertNewDate) \n",
      "df"
     ],
     "language": "python",
     "metadata": {},
     "outputs": [
      {
       "output_type": "stream",
       "stream": "stderr",
       "text": [
        "-c:2: SettingWithCopyWarning: \n",
        "A value is trying to be set on a copy of a slice from a DataFrame.\n",
        "Try using .loc[row_indexer,col_indexer] = value instead\n",
        "\n",
        "See the the caveats in the documentation: http://pandas.pydata.org/pandas-docs/stable/indexing.html#indexing-view-versus-copy\n"
       ]
      },
      {
       "html": [
        "<div style=\"max-height:1000px;max-width:1500px;overflow:auto;\">\n",
        "<table border=\"1\" class=\"dataframe\">\n",
        "  <thead>\n",
        "    <tr style=\"text-align: right;\">\n",
        "      <th></th>\n",
        "      <th>Email</th>\n",
        "      <th>Date</th>\n",
        "      <th>YearBefore</th>\n",
        "      <th>DaysBetween</th>\n",
        "      <th>Days30Before</th>\n",
        "    </tr>\n",
        "  </thead>\n",
        "  <tbody>\n",
        "    <tr>\n",
        "      <th>0   </th>\n",
        "      <td>         rehabmansour@gmail.com</td>\n",
        "      <td> 2015-12-23</td>\n",
        "      <td> 2014-12-23</td>\n",
        "      <td> 365</td>\n",
        "      <td> 2015-11-23</td>\n",
        "    </tr>\n",
        "    <tr>\n",
        "      <th>1   </th>\n",
        "      <td>            nabouheif@yahoo.com</td>\n",
        "      <td> 2015-12-23</td>\n",
        "      <td> 2014-12-23</td>\n",
        "      <td> 365</td>\n",
        "      <td> 2015-11-23</td>\n",
        "    </tr>\n",
        "    <tr>\n",
        "      <th>2   </th>\n",
        "      <td>         fracicardi@hotmail.com</td>\n",
        "      <td> 2015-12-23</td>\n",
        "      <td> 2014-12-23</td>\n",
        "      <td> 365</td>\n",
        "      <td> 2015-11-23</td>\n",
        "    </tr>\n",
        "    <tr>\n",
        "      <th>3   </th>\n",
        "      <td>         ahmed.fakhry@gmail.com</td>\n",
        "      <td> 2015-12-23</td>\n",
        "      <td> 2014-12-23</td>\n",
        "      <td> 365</td>\n",
        "      <td> 2015-11-23</td>\n",
        "    </tr>\n",
        "    <tr>\n",
        "      <th>4   </th>\n",
        "      <td>           Missilou11@yahoo.com</td>\n",
        "      <td> 2015-12-23</td>\n",
        "      <td> 2014-12-23</td>\n",
        "      <td> 365</td>\n",
        "      <td> 2015-11-23</td>\n",
        "    </tr>\n",
        "    <tr>\n",
        "      <th>5   </th>\n",
        "      <td>        sallysalem123@gmail.com</td>\n",
        "      <td> 2015-12-23</td>\n",
        "      <td> 2014-12-23</td>\n",
        "      <td> 365</td>\n",
        "      <td> 2015-11-23</td>\n",
        "    </tr>\n",
        "    <tr>\n",
        "      <th>6   </th>\n",
        "      <td>       nayera_fadel@hotmail.com</td>\n",
        "      <td> 2015-12-23</td>\n",
        "      <td> 2014-12-23</td>\n",
        "      <td> 365</td>\n",
        "      <td> 2015-11-23</td>\n",
        "    </tr>\n",
        "    <tr>\n",
        "      <th>7   </th>\n",
        "      <td>          raoufzdn553@gmail.com</td>\n",
        "      <td> 2015-12-23</td>\n",
        "      <td> 2014-12-23</td>\n",
        "      <td> 365</td>\n",
        "      <td> 2015-11-23</td>\n",
        "    </tr>\n",
        "    <tr>\n",
        "      <th>8   </th>\n",
        "      <td>         gaylynmbogho@yahoo.com</td>\n",
        "      <td> 2015-12-23</td>\n",
        "      <td> 2014-12-23</td>\n",
        "      <td> 365</td>\n",
        "      <td> 2015-11-23</td>\n",
        "    </tr>\n",
        "    <tr>\n",
        "      <th>9   </th>\n",
        "      <td>           oshahavi13@gmail.com</td>\n",
        "      <td> 2015-12-23</td>\n",
        "      <td> 2014-12-23</td>\n",
        "      <td> 365</td>\n",
        "      <td> 2015-11-23</td>\n",
        "    </tr>\n",
        "    <tr>\n",
        "      <th>10  </th>\n",
        "      <td>           Daiieldeeb@gmail.com</td>\n",
        "      <td> 2015-12-23</td>\n",
        "      <td> 2014-12-23</td>\n",
        "      <td> 365</td>\n",
        "      <td> 2015-11-23</td>\n",
        "    </tr>\n",
        "    <tr>\n",
        "      <th>11  </th>\n",
        "      <td>            yara.azam@gmail.com</td>\n",
        "      <td> 2015-12-23</td>\n",
        "      <td> 2014-12-23</td>\n",
        "      <td> 365</td>\n",
        "      <td> 2015-11-23</td>\n",
        "    </tr>\n",
        "    <tr>\n",
        "      <th>12  </th>\n",
        "      <td>          dalia_allam@yahoo.com</td>\n",
        "      <td> 2015-12-23</td>\n",
        "      <td> 2014-12-23</td>\n",
        "      <td> 365</td>\n",
        "      <td> 2015-11-23</td>\n",
        "    </tr>\n",
        "    <tr>\n",
        "      <th>13  </th>\n",
        "      <td>          elhanem52@hotmail.com</td>\n",
        "      <td> 2015-12-23</td>\n",
        "      <td> 2014-12-23</td>\n",
        "      <td> 365</td>\n",
        "      <td> 2015-11-23</td>\n",
        "    </tr>\n",
        "    <tr>\n",
        "      <th>14  </th>\n",
        "      <td>       tarek_seddik@hotmail.com</td>\n",
        "      <td> 2015-12-23</td>\n",
        "      <td> 2014-12-23</td>\n",
        "      <td> 365</td>\n",
        "      <td> 2015-11-23</td>\n",
        "    </tr>\n",
        "    <tr>\n",
        "      <th>15  </th>\n",
        "      <td>        maie.nomrossy@gmail.com</td>\n",
        "      <td> 2015-12-23</td>\n",
        "      <td> 2014-12-23</td>\n",
        "      <td> 365</td>\n",
        "      <td> 2015-11-23</td>\n",
        "    </tr>\n",
        "    <tr>\n",
        "      <th>16  </th>\n",
        "      <td>          hazem.shamy@gmail.com</td>\n",
        "      <td> 2015-12-23</td>\n",
        "      <td> 2014-12-23</td>\n",
        "      <td> 365</td>\n",
        "      <td> 2015-11-23</td>\n",
        "    </tr>\n",
        "    <tr>\n",
        "      <th>17  </th>\n",
        "      <td>         maya.p.nawal@gmail.com</td>\n",
        "      <td> 2015-12-22</td>\n",
        "      <td> 2014-12-23</td>\n",
        "      <td> 364</td>\n",
        "      <td> 2015-11-23</td>\n",
        "    </tr>\n",
        "    <tr>\n",
        "      <th>18  </th>\n",
        "      <td>      jamesmorgan0091@gmail.com</td>\n",
        "      <td> 2015-12-22</td>\n",
        "      <td> 2014-12-23</td>\n",
        "      <td> 364</td>\n",
        "      <td> 2015-11-23</td>\n",
        "    </tr>\n",
        "    <tr>\n",
        "      <th>19  </th>\n",
        "      <td>           israa_s@aucegypt.edu</td>\n",
        "      <td> 2015-12-22</td>\n",
        "      <td> 2014-12-23</td>\n",
        "      <td> 364</td>\n",
        "      <td> 2015-11-23</td>\n",
        "    </tr>\n",
        "    <tr>\n",
        "      <th>20  </th>\n",
        "      <td>         RODY.DOVE123@GMAIL.COM</td>\n",
        "      <td> 2015-12-22</td>\n",
        "      <td> 2014-12-23</td>\n",
        "      <td> 364</td>\n",
        "      <td> 2015-11-23</td>\n",
        "    </tr>\n",
        "    <tr>\n",
        "      <th>21  </th>\n",
        "      <td>         amaghraby@mediawave.me</td>\n",
        "      <td> 2015-12-22</td>\n",
        "      <td> 2014-12-23</td>\n",
        "      <td> 364</td>\n",
        "      <td> 2015-11-23</td>\n",
        "    </tr>\n",
        "    <tr>\n",
        "      <th>22  </th>\n",
        "      <td>            hibba_b@hotmail.com</td>\n",
        "      <td> 2015-12-22</td>\n",
        "      <td> 2014-12-23</td>\n",
        "      <td> 364</td>\n",
        "      <td> 2015-11-23</td>\n",
        "    </tr>\n",
        "    <tr>\n",
        "      <th>23  </th>\n",
        "      <td>         pascalenader@gmail.com</td>\n",
        "      <td> 2015-12-22</td>\n",
        "      <td> 2014-12-23</td>\n",
        "      <td> 364</td>\n",
        "      <td> 2015-11-23</td>\n",
        "    </tr>\n",
        "    <tr>\n",
        "      <th>24  </th>\n",
        "      <td>         doaa.khattab@gmail.com</td>\n",
        "      <td> 2015-12-22</td>\n",
        "      <td> 2014-12-23</td>\n",
        "      <td> 364</td>\n",
        "      <td> 2015-11-23</td>\n",
        "    </tr>\n",
        "    <tr>\n",
        "      <th>25  </th>\n",
        "      <td>         sunset_456@hotmail.com</td>\n",
        "      <td> 2015-12-22</td>\n",
        "      <td> 2014-12-23</td>\n",
        "      <td> 364</td>\n",
        "      <td> 2015-11-23</td>\n",
        "    </tr>\n",
        "    <tr>\n",
        "      <th>26  </th>\n",
        "      <td>     colleen_lovely@hotmail.com</td>\n",
        "      <td> 2015-12-22</td>\n",
        "      <td> 2014-12-23</td>\n",
        "      <td> 364</td>\n",
        "      <td> 2015-11-23</td>\n",
        "    </tr>\n",
        "    <tr>\n",
        "      <th>27  </th>\n",
        "      <td>               imrhazi@yahoo.fr</td>\n",
        "      <td> 2015-12-22</td>\n",
        "      <td> 2014-12-23</td>\n",
        "      <td> 364</td>\n",
        "      <td> 2015-11-23</td>\n",
        "    </tr>\n",
        "    <tr>\n",
        "      <th>28  </th>\n",
        "      <td>      nadyagamaleldin@gmail.com</td>\n",
        "      <td> 2015-12-22</td>\n",
        "      <td> 2014-12-23</td>\n",
        "      <td> 364</td>\n",
        "      <td> 2015-11-23</td>\n",
        "    </tr>\n",
        "    <tr>\n",
        "      <th>29  </th>\n",
        "      <td>            engywasfy@gmail.com</td>\n",
        "      <td> 2015-12-22</td>\n",
        "      <td> 2014-12-23</td>\n",
        "      <td> 364</td>\n",
        "      <td> 2015-11-23</td>\n",
        "    </tr>\n",
        "    <tr>\n",
        "      <th>...</th>\n",
        "      <td>...</td>\n",
        "      <td>...</td>\n",
        "      <td>...</td>\n",
        "      <td>...</td>\n",
        "      <td>...</td>\n",
        "    </tr>\n",
        "    <tr>\n",
        "      <th>4509</th>\n",
        "      <td>         rihamzahra@hotmail.com</td>\n",
        "      <td> 2014-12-28</td>\n",
        "      <td> 2014-12-23</td>\n",
        "      <td>   5</td>\n",
        "      <td> 2015-11-23</td>\n",
        "    </tr>\n",
        "    <tr>\n",
        "      <th>4510</th>\n",
        "      <td>             info@ngs-egypt.com</td>\n",
        "      <td> 2014-12-27</td>\n",
        "      <td> 2014-12-23</td>\n",
        "      <td>   4</td>\n",
        "      <td> 2015-11-23</td>\n",
        "    </tr>\n",
        "    <tr>\n",
        "      <th>4511</th>\n",
        "      <td>              yhalima@gmail.com</td>\n",
        "      <td> 2014-12-27</td>\n",
        "      <td> 2014-12-23</td>\n",
        "      <td>   4</td>\n",
        "      <td> 2015-11-23</td>\n",
        "    </tr>\n",
        "    <tr>\n",
        "      <th>4512</th>\n",
        "      <td>     nathaliemanadily@gmail.com</td>\n",
        "      <td> 2014-12-27</td>\n",
        "      <td> 2014-12-23</td>\n",
        "      <td>   4</td>\n",
        "      <td> 2015-11-23</td>\n",
        "    </tr>\n",
        "    <tr>\n",
        "      <th>4513</th>\n",
        "      <td>           rehamzahed@yahoo.com</td>\n",
        "      <td> 2014-12-27</td>\n",
        "      <td> 2014-12-23</td>\n",
        "      <td>   4</td>\n",
        "      <td> 2015-11-23</td>\n",
        "    </tr>\n",
        "    <tr>\n",
        "      <th>4514</th>\n",
        "      <td>            nohae25@hotmail.com</td>\n",
        "      <td> 2014-12-26</td>\n",
        "      <td> 2014-12-23</td>\n",
        "      <td>   3</td>\n",
        "      <td> 2015-11-23</td>\n",
        "    </tr>\n",
        "    <tr>\n",
        "      <th>4515</th>\n",
        "      <td>         marisa7777@hotmail.com</td>\n",
        "      <td> 2014-12-26</td>\n",
        "      <td> 2014-12-23</td>\n",
        "      <td>   3</td>\n",
        "      <td> 2015-11-23</td>\n",
        "    </tr>\n",
        "    <tr>\n",
        "      <th>4516</th>\n",
        "      <td> sarahhelmy@alumni.concordia.ca</td>\n",
        "      <td> 2014-12-25</td>\n",
        "      <td> 2014-12-23</td>\n",
        "      <td>   2</td>\n",
        "      <td> 2015-11-23</td>\n",
        "    </tr>\n",
        "    <tr>\n",
        "      <th>4517</th>\n",
        "      <td>         salma.tammam@gmail.com</td>\n",
        "      <td> 2014-12-25</td>\n",
        "      <td> 2014-12-23</td>\n",
        "      <td>   2</td>\n",
        "      <td> 2015-11-23</td>\n",
        "    </tr>\n",
        "    <tr>\n",
        "      <th>4518</th>\n",
        "      <td>            basmasaad@gmail.com</td>\n",
        "      <td> 2014-12-25</td>\n",
        "      <td> 2014-12-23</td>\n",
        "      <td>   2</td>\n",
        "      <td> 2015-11-23</td>\n",
        "    </tr>\n",
        "    <tr>\n",
        "      <th>4519</th>\n",
        "      <td>        naglahassan27@gmail.com</td>\n",
        "      <td> 2014-12-25</td>\n",
        "      <td> 2014-12-23</td>\n",
        "      <td>   2</td>\n",
        "      <td> 2015-11-23</td>\n",
        "    </tr>\n",
        "    <tr>\n",
        "      <th>4520</th>\n",
        "      <td>               ayads@icloud.com</td>\n",
        "      <td> 2014-12-25</td>\n",
        "      <td> 2014-12-23</td>\n",
        "      <td>   2</td>\n",
        "      <td> 2015-11-23</td>\n",
        "    </tr>\n",
        "    <tr>\n",
        "      <th>4521</th>\n",
        "      <td>         sameh_fmcg@hotmail.com</td>\n",
        "      <td> 2014-12-25</td>\n",
        "      <td> 2014-12-23</td>\n",
        "      <td>   2</td>\n",
        "      <td> 2015-11-23</td>\n",
        "    </tr>\n",
        "    <tr>\n",
        "      <th>4522</th>\n",
        "      <td>          bboylan14@hotmail.com</td>\n",
        "      <td> 2014-12-24</td>\n",
        "      <td> 2014-12-23</td>\n",
        "      <td>   1</td>\n",
        "      <td> 2015-11-23</td>\n",
        "    </tr>\n",
        "    <tr>\n",
        "      <th>4523</th>\n",
        "      <td>       hisham.khairat@cibeg.com</td>\n",
        "      <td> 2014-12-24</td>\n",
        "      <td> 2014-12-23</td>\n",
        "      <td>   1</td>\n",
        "      <td> 2015-11-23</td>\n",
        "    </tr>\n",
        "    <tr>\n",
        "      <th>4524</th>\n",
        "      <td>        farida.tawfik@gmail.com</td>\n",
        "      <td> 2014-12-24</td>\n",
        "      <td> 2014-12-23</td>\n",
        "      <td>   1</td>\n",
        "      <td> 2015-11-23</td>\n",
        "    </tr>\n",
        "    <tr>\n",
        "      <th>4525</th>\n",
        "      <td>             info@ngs-egypt.com</td>\n",
        "      <td> 2014-12-24</td>\n",
        "      <td> 2014-12-23</td>\n",
        "      <td>   1</td>\n",
        "      <td> 2015-11-23</td>\n",
        "    </tr>\n",
        "    <tr>\n",
        "      <th>4526</th>\n",
        "      <td>        angiemakhlouf@gmail.com</td>\n",
        "      <td> 2014-12-24</td>\n",
        "      <td> 2014-12-23</td>\n",
        "      <td>   1</td>\n",
        "      <td> 2015-11-23</td>\n",
        "    </tr>\n",
        "    <tr>\n",
        "      <th>4527</th>\n",
        "      <td>          ronsbatal@hotmail.com</td>\n",
        "      <td> 2014-12-24</td>\n",
        "      <td> 2014-12-23</td>\n",
        "      <td>   1</td>\n",
        "      <td> 2015-11-23</td>\n",
        "    </tr>\n",
        "    <tr>\n",
        "      <th>4528</th>\n",
        "      <td>         hebahassan62@yahoo.com</td>\n",
        "      <td> 2014-12-24</td>\n",
        "      <td> 2014-12-23</td>\n",
        "      <td>   1</td>\n",
        "      <td> 2015-11-23</td>\n",
        "    </tr>\n",
        "    <tr>\n",
        "      <th>4529</th>\n",
        "      <td>     Dina_hamada009@hotmail.com</td>\n",
        "      <td> 2014-12-24</td>\n",
        "      <td> 2014-12-23</td>\n",
        "      <td>   1</td>\n",
        "      <td> 2015-11-23</td>\n",
        "    </tr>\n",
        "    <tr>\n",
        "      <th>4530</th>\n",
        "      <td>    yassine_shokeir@hotmail.com</td>\n",
        "      <td> 2014-12-24</td>\n",
        "      <td> 2014-12-23</td>\n",
        "      <td>   1</td>\n",
        "      <td> 2015-11-23</td>\n",
        "    </tr>\n",
        "    <tr>\n",
        "      <th>4531</th>\n",
        "      <td>         laila.meligy@gmail.com</td>\n",
        "      <td> 2014-12-23</td>\n",
        "      <td> 2014-12-23</td>\n",
        "      <td>   0</td>\n",
        "      <td> 2015-11-23</td>\n",
        "    </tr>\n",
        "    <tr>\n",
        "      <th>4532</th>\n",
        "      <td>             info@ngs-egypt.com</td>\n",
        "      <td> 2014-12-23</td>\n",
        "      <td> 2014-12-23</td>\n",
        "      <td>   0</td>\n",
        "      <td> 2015-11-23</td>\n",
        "    </tr>\n",
        "    <tr>\n",
        "      <th>4533</th>\n",
        "      <td>           omzeinab@hotmail.com</td>\n",
        "      <td> 2014-12-23</td>\n",
        "      <td> 2014-12-23</td>\n",
        "      <td>   0</td>\n",
        "      <td> 2015-11-23</td>\n",
        "    </tr>\n",
        "    <tr>\n",
        "      <th>4534</th>\n",
        "      <td>             cherine7@gmail.com</td>\n",
        "      <td> 2014-12-23</td>\n",
        "      <td> 2014-12-23</td>\n",
        "      <td>   0</td>\n",
        "      <td> 2015-11-23</td>\n",
        "    </tr>\n",
        "    <tr>\n",
        "      <th>4535</th>\n",
        "      <td>          salmagenena@gmail.com</td>\n",
        "      <td> 2014-12-23</td>\n",
        "      <td> 2014-12-23</td>\n",
        "      <td>   0</td>\n",
        "      <td> 2015-11-23</td>\n",
        "    </tr>\n",
        "    <tr>\n",
        "      <th>4536</th>\n",
        "      <td>        sandra.atteya@gmail.com</td>\n",
        "      <td> 2014-12-23</td>\n",
        "      <td> 2014-12-23</td>\n",
        "      <td>   0</td>\n",
        "      <td> 2015-11-23</td>\n",
        "    </tr>\n",
        "    <tr>\n",
        "      <th>4537</th>\n",
        "      <td>        hadir.maghrby@yahoo.com</td>\n",
        "      <td> 2014-12-23</td>\n",
        "      <td> 2014-12-23</td>\n",
        "      <td>   0</td>\n",
        "      <td> 2015-11-23</td>\n",
        "    </tr>\n",
        "    <tr>\n",
        "      <th>4538</th>\n",
        "      <td>          mennariad82@gmail.com</td>\n",
        "      <td> 2014-12-23</td>\n",
        "      <td> 2014-12-23</td>\n",
        "      <td>   0</td>\n",
        "      <td> 2015-11-23</td>\n",
        "    </tr>\n",
        "  </tbody>\n",
        "</table>\n",
        "<p>4539 rows \u00d7 5 columns</p>\n",
        "</div>"
       ],
       "metadata": {},
       "output_type": "pyout",
       "prompt_number": 10,
       "text": [
        "                               Email        Date  YearBefore  DaysBetween  \\\n",
        "0             rehabmansour@gmail.com  2015-12-23  2014-12-23          365   \n",
        "1                nabouheif@yahoo.com  2015-12-23  2014-12-23          365   \n",
        "2             fracicardi@hotmail.com  2015-12-23  2014-12-23          365   \n",
        "3             ahmed.fakhry@gmail.com  2015-12-23  2014-12-23          365   \n",
        "4               Missilou11@yahoo.com  2015-12-23  2014-12-23          365   \n",
        "5            sallysalem123@gmail.com  2015-12-23  2014-12-23          365   \n",
        "6           nayera_fadel@hotmail.com  2015-12-23  2014-12-23          365   \n",
        "7              raoufzdn553@gmail.com  2015-12-23  2014-12-23          365   \n",
        "8             gaylynmbogho@yahoo.com  2015-12-23  2014-12-23          365   \n",
        "9               oshahavi13@gmail.com  2015-12-23  2014-12-23          365   \n",
        "10              Daiieldeeb@gmail.com  2015-12-23  2014-12-23          365   \n",
        "11               yara.azam@gmail.com  2015-12-23  2014-12-23          365   \n",
        "12             dalia_allam@yahoo.com  2015-12-23  2014-12-23          365   \n",
        "13             elhanem52@hotmail.com  2015-12-23  2014-12-23          365   \n",
        "14          tarek_seddik@hotmail.com  2015-12-23  2014-12-23          365   \n",
        "15           maie.nomrossy@gmail.com  2015-12-23  2014-12-23          365   \n",
        "16             hazem.shamy@gmail.com  2015-12-23  2014-12-23          365   \n",
        "17            maya.p.nawal@gmail.com  2015-12-22  2014-12-23          364   \n",
        "18         jamesmorgan0091@gmail.com  2015-12-22  2014-12-23          364   \n",
        "19              israa_s@aucegypt.edu  2015-12-22  2014-12-23          364   \n",
        "20            RODY.DOVE123@GMAIL.COM  2015-12-22  2014-12-23          364   \n",
        "21            amaghraby@mediawave.me  2015-12-22  2014-12-23          364   \n",
        "22               hibba_b@hotmail.com  2015-12-22  2014-12-23          364   \n",
        "23            pascalenader@gmail.com  2015-12-22  2014-12-23          364   \n",
        "24            doaa.khattab@gmail.com  2015-12-22  2014-12-23          364   \n",
        "25            sunset_456@hotmail.com  2015-12-22  2014-12-23          364   \n",
        "26        colleen_lovely@hotmail.com  2015-12-22  2014-12-23          364   \n",
        "27                  imrhazi@yahoo.fr  2015-12-22  2014-12-23          364   \n",
        "28         nadyagamaleldin@gmail.com  2015-12-22  2014-12-23          364   \n",
        "29               engywasfy@gmail.com  2015-12-22  2014-12-23          364   \n",
        "...                              ...         ...         ...          ...   \n",
        "4509          rihamzahra@hotmail.com  2014-12-28  2014-12-23            5   \n",
        "4510              info@ngs-egypt.com  2014-12-27  2014-12-23            4   \n",
        "4511               yhalima@gmail.com  2014-12-27  2014-12-23            4   \n",
        "4512      nathaliemanadily@gmail.com  2014-12-27  2014-12-23            4   \n",
        "4513            rehamzahed@yahoo.com  2014-12-27  2014-12-23            4   \n",
        "4514             nohae25@hotmail.com  2014-12-26  2014-12-23            3   \n",
        "4515          marisa7777@hotmail.com  2014-12-26  2014-12-23            3   \n",
        "4516  sarahhelmy@alumni.concordia.ca  2014-12-25  2014-12-23            2   \n",
        "4517          salma.tammam@gmail.com  2014-12-25  2014-12-23            2   \n",
        "4518             basmasaad@gmail.com  2014-12-25  2014-12-23            2   \n",
        "4519         naglahassan27@gmail.com  2014-12-25  2014-12-23            2   \n",
        "4520                ayads@icloud.com  2014-12-25  2014-12-23            2   \n",
        "4521          sameh_fmcg@hotmail.com  2014-12-25  2014-12-23            2   \n",
        "4522           bboylan14@hotmail.com  2014-12-24  2014-12-23            1   \n",
        "4523        hisham.khairat@cibeg.com  2014-12-24  2014-12-23            1   \n",
        "4524         farida.tawfik@gmail.com  2014-12-24  2014-12-23            1   \n",
        "4525              info@ngs-egypt.com  2014-12-24  2014-12-23            1   \n",
        "4526         angiemakhlouf@gmail.com  2014-12-24  2014-12-23            1   \n",
        "4527           ronsbatal@hotmail.com  2014-12-24  2014-12-23            1   \n",
        "4528          hebahassan62@yahoo.com  2014-12-24  2014-12-23            1   \n",
        "4529      Dina_hamada009@hotmail.com  2014-12-24  2014-12-23            1   \n",
        "4530     yassine_shokeir@hotmail.com  2014-12-24  2014-12-23            1   \n",
        "4531          laila.meligy@gmail.com  2014-12-23  2014-12-23            0   \n",
        "4532              info@ngs-egypt.com  2014-12-23  2014-12-23            0   \n",
        "4533            omzeinab@hotmail.com  2014-12-23  2014-12-23            0   \n",
        "4534              cherine7@gmail.com  2014-12-23  2014-12-23            0   \n",
        "4535           salmagenena@gmail.com  2014-12-23  2014-12-23            0   \n",
        "4536         sandra.atteya@gmail.com  2014-12-23  2014-12-23            0   \n",
        "4537         hadir.maghrby@yahoo.com  2014-12-23  2014-12-23            0   \n",
        "4538           mennariad82@gmail.com  2014-12-23  2014-12-23            0   \n",
        "\n",
        "     Days30Before  \n",
        "0      2015-11-23  \n",
        "1      2015-11-23  \n",
        "2      2015-11-23  \n",
        "3      2015-11-23  \n",
        "4      2015-11-23  \n",
        "5      2015-11-23  \n",
        "6      2015-11-23  \n",
        "7      2015-11-23  \n",
        "8      2015-11-23  \n",
        "9      2015-11-23  \n",
        "10     2015-11-23  \n",
        "11     2015-11-23  \n",
        "12     2015-11-23  \n",
        "13     2015-11-23  \n",
        "14     2015-11-23  \n",
        "15     2015-11-23  \n",
        "16     2015-11-23  \n",
        "17     2015-11-23  \n",
        "18     2015-11-23  \n",
        "19     2015-11-23  \n",
        "20     2015-11-23  \n",
        "21     2015-11-23  \n",
        "22     2015-11-23  \n",
        "23     2015-11-23  \n",
        "24     2015-11-23  \n",
        "25     2015-11-23  \n",
        "26     2015-11-23  \n",
        "27     2015-11-23  \n",
        "28     2015-11-23  \n",
        "29     2015-11-23  \n",
        "...           ...  \n",
        "4509   2015-11-23  \n",
        "4510   2015-11-23  \n",
        "4511   2015-11-23  \n",
        "4512   2015-11-23  \n",
        "4513   2015-11-23  \n",
        "4514   2015-11-23  \n",
        "4515   2015-11-23  \n",
        "4516   2015-11-23  \n",
        "4517   2015-11-23  \n",
        "4518   2015-11-23  \n",
        "4519   2015-11-23  \n",
        "4520   2015-11-23  \n",
        "4521   2015-11-23  \n",
        "4522   2015-11-23  \n",
        "4523   2015-11-23  \n",
        "4524   2015-11-23  \n",
        "4525   2015-11-23  \n",
        "4526   2015-11-23  \n",
        "4527   2015-11-23  \n",
        "4528   2015-11-23  \n",
        "4529   2015-11-23  \n",
        "4530   2015-11-23  \n",
        "4531   2015-11-23  \n",
        "4532   2015-11-23  \n",
        "4533   2015-11-23  \n",
        "4534   2015-11-23  \n",
        "4535   2015-11-23  \n",
        "4536   2015-11-23  \n",
        "4537   2015-11-23  \n",
        "4538   2015-11-23  \n",
        "\n",
        "[4539 rows x 5 columns]"
       ]
      }
     ],
     "prompt_number": 10
    },
    {
     "cell_type": "code",
     "collapsed": false,
     "input": [
      "df2['Days20Before'] = (str)(datetime.now() - timedelta(days=21)) #21 days from today(Thursday)\n",
      "df2['Days20Before'] = df2.Days20Before.apply(convertNewDate)\n",
      "df2"
     ],
     "language": "python",
     "metadata": {},
     "outputs": [
      {
       "html": [
        "<div style=\"max-height:1000px;max-width:1500px;overflow:auto;\">\n",
        "<table border=\"1\" class=\"dataframe\">\n",
        "  <thead>\n",
        "    <tr style=\"text-align: right;\">\n",
        "      <th></th>\n",
        "      <th>Email</th>\n",
        "      <th>Date</th>\n",
        "      <th>Days20Before</th>\n",
        "    </tr>\n",
        "  </thead>\n",
        "  <tbody>\n",
        "    <tr>\n",
        "      <th>0   </th>\n",
        "      <td>         rehabmansour@gmail.com</td>\n",
        "      <td> 2015-12-23</td>\n",
        "      <td> 2015-12-03</td>\n",
        "    </tr>\n",
        "    <tr>\n",
        "      <th>1   </th>\n",
        "      <td>            nabouheif@yahoo.com</td>\n",
        "      <td> 2015-12-23</td>\n",
        "      <td> 2015-12-03</td>\n",
        "    </tr>\n",
        "    <tr>\n",
        "      <th>2   </th>\n",
        "      <td>         fracicardi@hotmail.com</td>\n",
        "      <td> 2015-12-23</td>\n",
        "      <td> 2015-12-03</td>\n",
        "    </tr>\n",
        "    <tr>\n",
        "      <th>3   </th>\n",
        "      <td>         ahmed.fakhry@gmail.com</td>\n",
        "      <td> 2015-12-23</td>\n",
        "      <td> 2015-12-03</td>\n",
        "    </tr>\n",
        "    <tr>\n",
        "      <th>4   </th>\n",
        "      <td>           Missilou11@yahoo.com</td>\n",
        "      <td> 2015-12-23</td>\n",
        "      <td> 2015-12-03</td>\n",
        "    </tr>\n",
        "    <tr>\n",
        "      <th>5   </th>\n",
        "      <td>        sallysalem123@gmail.com</td>\n",
        "      <td> 2015-12-23</td>\n",
        "      <td> 2015-12-03</td>\n",
        "    </tr>\n",
        "    <tr>\n",
        "      <th>6   </th>\n",
        "      <td>       nayera_fadel@hotmail.com</td>\n",
        "      <td> 2015-12-23</td>\n",
        "      <td> 2015-12-03</td>\n",
        "    </tr>\n",
        "    <tr>\n",
        "      <th>7   </th>\n",
        "      <td>          raoufzdn553@gmail.com</td>\n",
        "      <td> 2015-12-23</td>\n",
        "      <td> 2015-12-03</td>\n",
        "    </tr>\n",
        "    <tr>\n",
        "      <th>8   </th>\n",
        "      <td>         gaylynmbogho@yahoo.com</td>\n",
        "      <td> 2015-12-23</td>\n",
        "      <td> 2015-12-03</td>\n",
        "    </tr>\n",
        "    <tr>\n",
        "      <th>9   </th>\n",
        "      <td>           oshahavi13@gmail.com</td>\n",
        "      <td> 2015-12-23</td>\n",
        "      <td> 2015-12-03</td>\n",
        "    </tr>\n",
        "    <tr>\n",
        "      <th>10  </th>\n",
        "      <td>           Daiieldeeb@gmail.com</td>\n",
        "      <td> 2015-12-23</td>\n",
        "      <td> 2015-12-03</td>\n",
        "    </tr>\n",
        "    <tr>\n",
        "      <th>11  </th>\n",
        "      <td>            yara.azam@gmail.com</td>\n",
        "      <td> 2015-12-23</td>\n",
        "      <td> 2015-12-03</td>\n",
        "    </tr>\n",
        "    <tr>\n",
        "      <th>12  </th>\n",
        "      <td>          dalia_allam@yahoo.com</td>\n",
        "      <td> 2015-12-23</td>\n",
        "      <td> 2015-12-03</td>\n",
        "    </tr>\n",
        "    <tr>\n",
        "      <th>13  </th>\n",
        "      <td>          elhanem52@hotmail.com</td>\n",
        "      <td> 2015-12-23</td>\n",
        "      <td> 2015-12-03</td>\n",
        "    </tr>\n",
        "    <tr>\n",
        "      <th>14  </th>\n",
        "      <td>       tarek_seddik@hotmail.com</td>\n",
        "      <td> 2015-12-23</td>\n",
        "      <td> 2015-12-03</td>\n",
        "    </tr>\n",
        "    <tr>\n",
        "      <th>15  </th>\n",
        "      <td>        maie.nomrossy@gmail.com</td>\n",
        "      <td> 2015-12-23</td>\n",
        "      <td> 2015-12-03</td>\n",
        "    </tr>\n",
        "    <tr>\n",
        "      <th>16  </th>\n",
        "      <td>          hazem.shamy@gmail.com</td>\n",
        "      <td> 2015-12-23</td>\n",
        "      <td> 2015-12-03</td>\n",
        "    </tr>\n",
        "    <tr>\n",
        "      <th>17  </th>\n",
        "      <td>         maya.p.nawal@gmail.com</td>\n",
        "      <td> 2015-12-22</td>\n",
        "      <td> 2015-12-03</td>\n",
        "    </tr>\n",
        "    <tr>\n",
        "      <th>18  </th>\n",
        "      <td>      jamesmorgan0091@gmail.com</td>\n",
        "      <td> 2015-12-22</td>\n",
        "      <td> 2015-12-03</td>\n",
        "    </tr>\n",
        "    <tr>\n",
        "      <th>19  </th>\n",
        "      <td>           israa_s@aucegypt.edu</td>\n",
        "      <td> 2015-12-22</td>\n",
        "      <td> 2015-12-03</td>\n",
        "    </tr>\n",
        "    <tr>\n",
        "      <th>20  </th>\n",
        "      <td>         RODY.DOVE123@GMAIL.COM</td>\n",
        "      <td> 2015-12-22</td>\n",
        "      <td> 2015-12-03</td>\n",
        "    </tr>\n",
        "    <tr>\n",
        "      <th>21  </th>\n",
        "      <td>         amaghraby@mediawave.me</td>\n",
        "      <td> 2015-12-22</td>\n",
        "      <td> 2015-12-03</td>\n",
        "    </tr>\n",
        "    <tr>\n",
        "      <th>22  </th>\n",
        "      <td>            hibba_b@hotmail.com</td>\n",
        "      <td> 2015-12-22</td>\n",
        "      <td> 2015-12-03</td>\n",
        "    </tr>\n",
        "    <tr>\n",
        "      <th>23  </th>\n",
        "      <td>         pascalenader@gmail.com</td>\n",
        "      <td> 2015-12-22</td>\n",
        "      <td> 2015-12-03</td>\n",
        "    </tr>\n",
        "    <tr>\n",
        "      <th>24  </th>\n",
        "      <td>         doaa.khattab@gmail.com</td>\n",
        "      <td> 2015-12-22</td>\n",
        "      <td> 2015-12-03</td>\n",
        "    </tr>\n",
        "    <tr>\n",
        "      <th>25  </th>\n",
        "      <td>         sunset_456@hotmail.com</td>\n",
        "      <td> 2015-12-22</td>\n",
        "      <td> 2015-12-03</td>\n",
        "    </tr>\n",
        "    <tr>\n",
        "      <th>26  </th>\n",
        "      <td>     colleen_lovely@hotmail.com</td>\n",
        "      <td> 2015-12-22</td>\n",
        "      <td> 2015-12-03</td>\n",
        "    </tr>\n",
        "    <tr>\n",
        "      <th>27  </th>\n",
        "      <td>               imrhazi@yahoo.fr</td>\n",
        "      <td> 2015-12-22</td>\n",
        "      <td> 2015-12-03</td>\n",
        "    </tr>\n",
        "    <tr>\n",
        "      <th>28  </th>\n",
        "      <td>      nadyagamaleldin@gmail.com</td>\n",
        "      <td> 2015-12-22</td>\n",
        "      <td> 2015-12-03</td>\n",
        "    </tr>\n",
        "    <tr>\n",
        "      <th>29  </th>\n",
        "      <td>            engywasfy@gmail.com</td>\n",
        "      <td> 2015-12-22</td>\n",
        "      <td> 2015-12-03</td>\n",
        "    </tr>\n",
        "    <tr>\n",
        "      <th>...</th>\n",
        "      <td>...</td>\n",
        "      <td>...</td>\n",
        "      <td>...</td>\n",
        "    </tr>\n",
        "    <tr>\n",
        "      <th>4509</th>\n",
        "      <td>         rihamzahra@hotmail.com</td>\n",
        "      <td> 2014-12-28</td>\n",
        "      <td> 2015-12-03</td>\n",
        "    </tr>\n",
        "    <tr>\n",
        "      <th>4510</th>\n",
        "      <td>             info@ngs-egypt.com</td>\n",
        "      <td> 2014-12-27</td>\n",
        "      <td> 2015-12-03</td>\n",
        "    </tr>\n",
        "    <tr>\n",
        "      <th>4511</th>\n",
        "      <td>              yhalima@gmail.com</td>\n",
        "      <td> 2014-12-27</td>\n",
        "      <td> 2015-12-03</td>\n",
        "    </tr>\n",
        "    <tr>\n",
        "      <th>4512</th>\n",
        "      <td>     nathaliemanadily@gmail.com</td>\n",
        "      <td> 2014-12-27</td>\n",
        "      <td> 2015-12-03</td>\n",
        "    </tr>\n",
        "    <tr>\n",
        "      <th>4513</th>\n",
        "      <td>           rehamzahed@yahoo.com</td>\n",
        "      <td> 2014-12-27</td>\n",
        "      <td> 2015-12-03</td>\n",
        "    </tr>\n",
        "    <tr>\n",
        "      <th>4514</th>\n",
        "      <td>            nohae25@hotmail.com</td>\n",
        "      <td> 2014-12-26</td>\n",
        "      <td> 2015-12-03</td>\n",
        "    </tr>\n",
        "    <tr>\n",
        "      <th>4515</th>\n",
        "      <td>         marisa7777@hotmail.com</td>\n",
        "      <td> 2014-12-26</td>\n",
        "      <td> 2015-12-03</td>\n",
        "    </tr>\n",
        "    <tr>\n",
        "      <th>4516</th>\n",
        "      <td> sarahhelmy@alumni.concordia.ca</td>\n",
        "      <td> 2014-12-25</td>\n",
        "      <td> 2015-12-03</td>\n",
        "    </tr>\n",
        "    <tr>\n",
        "      <th>4517</th>\n",
        "      <td>         salma.tammam@gmail.com</td>\n",
        "      <td> 2014-12-25</td>\n",
        "      <td> 2015-12-03</td>\n",
        "    </tr>\n",
        "    <tr>\n",
        "      <th>4518</th>\n",
        "      <td>            basmasaad@gmail.com</td>\n",
        "      <td> 2014-12-25</td>\n",
        "      <td> 2015-12-03</td>\n",
        "    </tr>\n",
        "    <tr>\n",
        "      <th>4519</th>\n",
        "      <td>        naglahassan27@gmail.com</td>\n",
        "      <td> 2014-12-25</td>\n",
        "      <td> 2015-12-03</td>\n",
        "    </tr>\n",
        "    <tr>\n",
        "      <th>4520</th>\n",
        "      <td>               ayads@icloud.com</td>\n",
        "      <td> 2014-12-25</td>\n",
        "      <td> 2015-12-03</td>\n",
        "    </tr>\n",
        "    <tr>\n",
        "      <th>4521</th>\n",
        "      <td>         sameh_fmcg@hotmail.com</td>\n",
        "      <td> 2014-12-25</td>\n",
        "      <td> 2015-12-03</td>\n",
        "    </tr>\n",
        "    <tr>\n",
        "      <th>4522</th>\n",
        "      <td>          bboylan14@hotmail.com</td>\n",
        "      <td> 2014-12-24</td>\n",
        "      <td> 2015-12-03</td>\n",
        "    </tr>\n",
        "    <tr>\n",
        "      <th>4523</th>\n",
        "      <td>       hisham.khairat@cibeg.com</td>\n",
        "      <td> 2014-12-24</td>\n",
        "      <td> 2015-12-03</td>\n",
        "    </tr>\n",
        "    <tr>\n",
        "      <th>4524</th>\n",
        "      <td>        farida.tawfik@gmail.com</td>\n",
        "      <td> 2014-12-24</td>\n",
        "      <td> 2015-12-03</td>\n",
        "    </tr>\n",
        "    <tr>\n",
        "      <th>4525</th>\n",
        "      <td>             info@ngs-egypt.com</td>\n",
        "      <td> 2014-12-24</td>\n",
        "      <td> 2015-12-03</td>\n",
        "    </tr>\n",
        "    <tr>\n",
        "      <th>4526</th>\n",
        "      <td>        angiemakhlouf@gmail.com</td>\n",
        "      <td> 2014-12-24</td>\n",
        "      <td> 2015-12-03</td>\n",
        "    </tr>\n",
        "    <tr>\n",
        "      <th>4527</th>\n",
        "      <td>          ronsbatal@hotmail.com</td>\n",
        "      <td> 2014-12-24</td>\n",
        "      <td> 2015-12-03</td>\n",
        "    </tr>\n",
        "    <tr>\n",
        "      <th>4528</th>\n",
        "      <td>         hebahassan62@yahoo.com</td>\n",
        "      <td> 2014-12-24</td>\n",
        "      <td> 2015-12-03</td>\n",
        "    </tr>\n",
        "    <tr>\n",
        "      <th>4529</th>\n",
        "      <td>     Dina_hamada009@hotmail.com</td>\n",
        "      <td> 2014-12-24</td>\n",
        "      <td> 2015-12-03</td>\n",
        "    </tr>\n",
        "    <tr>\n",
        "      <th>4530</th>\n",
        "      <td>    yassine_shokeir@hotmail.com</td>\n",
        "      <td> 2014-12-24</td>\n",
        "      <td> 2015-12-03</td>\n",
        "    </tr>\n",
        "    <tr>\n",
        "      <th>4531</th>\n",
        "      <td>         laila.meligy@gmail.com</td>\n",
        "      <td> 2014-12-23</td>\n",
        "      <td> 2015-12-03</td>\n",
        "    </tr>\n",
        "    <tr>\n",
        "      <th>4532</th>\n",
        "      <td>             info@ngs-egypt.com</td>\n",
        "      <td> 2014-12-23</td>\n",
        "      <td> 2015-12-03</td>\n",
        "    </tr>\n",
        "    <tr>\n",
        "      <th>4533</th>\n",
        "      <td>           omzeinab@hotmail.com</td>\n",
        "      <td> 2014-12-23</td>\n",
        "      <td> 2015-12-03</td>\n",
        "    </tr>\n",
        "    <tr>\n",
        "      <th>4534</th>\n",
        "      <td>             cherine7@gmail.com</td>\n",
        "      <td> 2014-12-23</td>\n",
        "      <td> 2015-12-03</td>\n",
        "    </tr>\n",
        "    <tr>\n",
        "      <th>4535</th>\n",
        "      <td>          salmagenena@gmail.com</td>\n",
        "      <td> 2014-12-23</td>\n",
        "      <td> 2015-12-03</td>\n",
        "    </tr>\n",
        "    <tr>\n",
        "      <th>4536</th>\n",
        "      <td>        sandra.atteya@gmail.com</td>\n",
        "      <td> 2014-12-23</td>\n",
        "      <td> 2015-12-03</td>\n",
        "    </tr>\n",
        "    <tr>\n",
        "      <th>4537</th>\n",
        "      <td>        hadir.maghrby@yahoo.com</td>\n",
        "      <td> 2014-12-23</td>\n",
        "      <td> 2015-12-03</td>\n",
        "    </tr>\n",
        "    <tr>\n",
        "      <th>4538</th>\n",
        "      <td>          mennariad82@gmail.com</td>\n",
        "      <td> 2014-12-23</td>\n",
        "      <td> 2015-12-03</td>\n",
        "    </tr>\n",
        "  </tbody>\n",
        "</table>\n",
        "<p>4539 rows \u00d7 3 columns</p>\n",
        "</div>"
       ],
       "metadata": {},
       "output_type": "pyout",
       "prompt_number": 11,
       "text": [
        "                               Email        Date Days20Before\n",
        "0             rehabmansour@gmail.com  2015-12-23   2015-12-03\n",
        "1                nabouheif@yahoo.com  2015-12-23   2015-12-03\n",
        "2             fracicardi@hotmail.com  2015-12-23   2015-12-03\n",
        "3             ahmed.fakhry@gmail.com  2015-12-23   2015-12-03\n",
        "4               Missilou11@yahoo.com  2015-12-23   2015-12-03\n",
        "5            sallysalem123@gmail.com  2015-12-23   2015-12-03\n",
        "6           nayera_fadel@hotmail.com  2015-12-23   2015-12-03\n",
        "7              raoufzdn553@gmail.com  2015-12-23   2015-12-03\n",
        "8             gaylynmbogho@yahoo.com  2015-12-23   2015-12-03\n",
        "9               oshahavi13@gmail.com  2015-12-23   2015-12-03\n",
        "10              Daiieldeeb@gmail.com  2015-12-23   2015-12-03\n",
        "11               yara.azam@gmail.com  2015-12-23   2015-12-03\n",
        "12             dalia_allam@yahoo.com  2015-12-23   2015-12-03\n",
        "13             elhanem52@hotmail.com  2015-12-23   2015-12-03\n",
        "14          tarek_seddik@hotmail.com  2015-12-23   2015-12-03\n",
        "15           maie.nomrossy@gmail.com  2015-12-23   2015-12-03\n",
        "16             hazem.shamy@gmail.com  2015-12-23   2015-12-03\n",
        "17            maya.p.nawal@gmail.com  2015-12-22   2015-12-03\n",
        "18         jamesmorgan0091@gmail.com  2015-12-22   2015-12-03\n",
        "19              israa_s@aucegypt.edu  2015-12-22   2015-12-03\n",
        "20            RODY.DOVE123@GMAIL.COM  2015-12-22   2015-12-03\n",
        "21            amaghraby@mediawave.me  2015-12-22   2015-12-03\n",
        "22               hibba_b@hotmail.com  2015-12-22   2015-12-03\n",
        "23            pascalenader@gmail.com  2015-12-22   2015-12-03\n",
        "24            doaa.khattab@gmail.com  2015-12-22   2015-12-03\n",
        "25            sunset_456@hotmail.com  2015-12-22   2015-12-03\n",
        "26        colleen_lovely@hotmail.com  2015-12-22   2015-12-03\n",
        "27                  imrhazi@yahoo.fr  2015-12-22   2015-12-03\n",
        "28         nadyagamaleldin@gmail.com  2015-12-22   2015-12-03\n",
        "29               engywasfy@gmail.com  2015-12-22   2015-12-03\n",
        "...                              ...         ...          ...\n",
        "4509          rihamzahra@hotmail.com  2014-12-28   2015-12-03\n",
        "4510              info@ngs-egypt.com  2014-12-27   2015-12-03\n",
        "4511               yhalima@gmail.com  2014-12-27   2015-12-03\n",
        "4512      nathaliemanadily@gmail.com  2014-12-27   2015-12-03\n",
        "4513            rehamzahed@yahoo.com  2014-12-27   2015-12-03\n",
        "4514             nohae25@hotmail.com  2014-12-26   2015-12-03\n",
        "4515          marisa7777@hotmail.com  2014-12-26   2015-12-03\n",
        "4516  sarahhelmy@alumni.concordia.ca  2014-12-25   2015-12-03\n",
        "4517          salma.tammam@gmail.com  2014-12-25   2015-12-03\n",
        "4518             basmasaad@gmail.com  2014-12-25   2015-12-03\n",
        "4519         naglahassan27@gmail.com  2014-12-25   2015-12-03\n",
        "4520                ayads@icloud.com  2014-12-25   2015-12-03\n",
        "4521          sameh_fmcg@hotmail.com  2014-12-25   2015-12-03\n",
        "4522           bboylan14@hotmail.com  2014-12-24   2015-12-03\n",
        "4523        hisham.khairat@cibeg.com  2014-12-24   2015-12-03\n",
        "4524         farida.tawfik@gmail.com  2014-12-24   2015-12-03\n",
        "4525              info@ngs-egypt.com  2014-12-24   2015-12-03\n",
        "4526         angiemakhlouf@gmail.com  2014-12-24   2015-12-03\n",
        "4527           ronsbatal@hotmail.com  2014-12-24   2015-12-03\n",
        "4528          hebahassan62@yahoo.com  2014-12-24   2015-12-03\n",
        "4529      Dina_hamada009@hotmail.com  2014-12-24   2015-12-03\n",
        "4530     yassine_shokeir@hotmail.com  2014-12-24   2015-12-03\n",
        "4531          laila.meligy@gmail.com  2014-12-23   2015-12-03\n",
        "4532              info@ngs-egypt.com  2014-12-23   2015-12-03\n",
        "4533            omzeinab@hotmail.com  2014-12-23   2015-12-03\n",
        "4534              cherine7@gmail.com  2014-12-23   2015-12-03\n",
        "4535           salmagenena@gmail.com  2014-12-23   2015-12-03\n",
        "4536         sandra.atteya@gmail.com  2014-12-23   2015-12-03\n",
        "4537         hadir.maghrby@yahoo.com  2014-12-23   2015-12-03\n",
        "4538           mennariad82@gmail.com  2014-12-23   2015-12-03\n",
        "\n",
        "[4539 rows x 3 columns]"
       ]
      }
     ],
     "prompt_number": 11
    },
    {
     "cell_type": "code",
     "collapsed": false,
     "input": [
      "df['DaysBetween'] = df.apply(lambda x: days_between(x['Days30Before'], x['Date']), axis=1)\n",
      "df = df[(df.DaysBetween <= 30) & (df.DaysBetween >= 0)] #get rows whose order is with in 30 days\n",
      "df"
     ],
     "language": "python",
     "metadata": {},
     "outputs": [
      {
       "html": [
        "<div style=\"max-height:1000px;max-width:1500px;overflow:auto;\">\n",
        "<table border=\"1\" class=\"dataframe\">\n",
        "  <thead>\n",
        "    <tr style=\"text-align: right;\">\n",
        "      <th></th>\n",
        "      <th>Email</th>\n",
        "      <th>Date</th>\n",
        "      <th>YearBefore</th>\n",
        "      <th>DaysBetween</th>\n",
        "      <th>Days30Before</th>\n",
        "    </tr>\n",
        "  </thead>\n",
        "  <tbody>\n",
        "    <tr>\n",
        "      <th>0  </th>\n",
        "      <td>     rehabmansour@gmail.com</td>\n",
        "      <td> 2015-12-23</td>\n",
        "      <td> 2014-12-23</td>\n",
        "      <td> 30</td>\n",
        "      <td> 2015-11-23</td>\n",
        "    </tr>\n",
        "    <tr>\n",
        "      <th>1  </th>\n",
        "      <td>        nabouheif@yahoo.com</td>\n",
        "      <td> 2015-12-23</td>\n",
        "      <td> 2014-12-23</td>\n",
        "      <td> 30</td>\n",
        "      <td> 2015-11-23</td>\n",
        "    </tr>\n",
        "    <tr>\n",
        "      <th>2  </th>\n",
        "      <td>     fracicardi@hotmail.com</td>\n",
        "      <td> 2015-12-23</td>\n",
        "      <td> 2014-12-23</td>\n",
        "      <td> 30</td>\n",
        "      <td> 2015-11-23</td>\n",
        "    </tr>\n",
        "    <tr>\n",
        "      <th>3  </th>\n",
        "      <td>     ahmed.fakhry@gmail.com</td>\n",
        "      <td> 2015-12-23</td>\n",
        "      <td> 2014-12-23</td>\n",
        "      <td> 30</td>\n",
        "      <td> 2015-11-23</td>\n",
        "    </tr>\n",
        "    <tr>\n",
        "      <th>4  </th>\n",
        "      <td>       Missilou11@yahoo.com</td>\n",
        "      <td> 2015-12-23</td>\n",
        "      <td> 2014-12-23</td>\n",
        "      <td> 30</td>\n",
        "      <td> 2015-11-23</td>\n",
        "    </tr>\n",
        "    <tr>\n",
        "      <th>5  </th>\n",
        "      <td>    sallysalem123@gmail.com</td>\n",
        "      <td> 2015-12-23</td>\n",
        "      <td> 2014-12-23</td>\n",
        "      <td> 30</td>\n",
        "      <td> 2015-11-23</td>\n",
        "    </tr>\n",
        "    <tr>\n",
        "      <th>6  </th>\n",
        "      <td>   nayera_fadel@hotmail.com</td>\n",
        "      <td> 2015-12-23</td>\n",
        "      <td> 2014-12-23</td>\n",
        "      <td> 30</td>\n",
        "      <td> 2015-11-23</td>\n",
        "    </tr>\n",
        "    <tr>\n",
        "      <th>7  </th>\n",
        "      <td>      raoufzdn553@gmail.com</td>\n",
        "      <td> 2015-12-23</td>\n",
        "      <td> 2014-12-23</td>\n",
        "      <td> 30</td>\n",
        "      <td> 2015-11-23</td>\n",
        "    </tr>\n",
        "    <tr>\n",
        "      <th>8  </th>\n",
        "      <td>     gaylynmbogho@yahoo.com</td>\n",
        "      <td> 2015-12-23</td>\n",
        "      <td> 2014-12-23</td>\n",
        "      <td> 30</td>\n",
        "      <td> 2015-11-23</td>\n",
        "    </tr>\n",
        "    <tr>\n",
        "      <th>9  </th>\n",
        "      <td>       oshahavi13@gmail.com</td>\n",
        "      <td> 2015-12-23</td>\n",
        "      <td> 2014-12-23</td>\n",
        "      <td> 30</td>\n",
        "      <td> 2015-11-23</td>\n",
        "    </tr>\n",
        "    <tr>\n",
        "      <th>10 </th>\n",
        "      <td>       Daiieldeeb@gmail.com</td>\n",
        "      <td> 2015-12-23</td>\n",
        "      <td> 2014-12-23</td>\n",
        "      <td> 30</td>\n",
        "      <td> 2015-11-23</td>\n",
        "    </tr>\n",
        "    <tr>\n",
        "      <th>11 </th>\n",
        "      <td>        yara.azam@gmail.com</td>\n",
        "      <td> 2015-12-23</td>\n",
        "      <td> 2014-12-23</td>\n",
        "      <td> 30</td>\n",
        "      <td> 2015-11-23</td>\n",
        "    </tr>\n",
        "    <tr>\n",
        "      <th>12 </th>\n",
        "      <td>      dalia_allam@yahoo.com</td>\n",
        "      <td> 2015-12-23</td>\n",
        "      <td> 2014-12-23</td>\n",
        "      <td> 30</td>\n",
        "      <td> 2015-11-23</td>\n",
        "    </tr>\n",
        "    <tr>\n",
        "      <th>13 </th>\n",
        "      <td>      elhanem52@hotmail.com</td>\n",
        "      <td> 2015-12-23</td>\n",
        "      <td> 2014-12-23</td>\n",
        "      <td> 30</td>\n",
        "      <td> 2015-11-23</td>\n",
        "    </tr>\n",
        "    <tr>\n",
        "      <th>14 </th>\n",
        "      <td>   tarek_seddik@hotmail.com</td>\n",
        "      <td> 2015-12-23</td>\n",
        "      <td> 2014-12-23</td>\n",
        "      <td> 30</td>\n",
        "      <td> 2015-11-23</td>\n",
        "    </tr>\n",
        "    <tr>\n",
        "      <th>15 </th>\n",
        "      <td>    maie.nomrossy@gmail.com</td>\n",
        "      <td> 2015-12-23</td>\n",
        "      <td> 2014-12-23</td>\n",
        "      <td> 30</td>\n",
        "      <td> 2015-11-23</td>\n",
        "    </tr>\n",
        "    <tr>\n",
        "      <th>16 </th>\n",
        "      <td>      hazem.shamy@gmail.com</td>\n",
        "      <td> 2015-12-23</td>\n",
        "      <td> 2014-12-23</td>\n",
        "      <td> 30</td>\n",
        "      <td> 2015-11-23</td>\n",
        "    </tr>\n",
        "    <tr>\n",
        "      <th>17 </th>\n",
        "      <td>     maya.p.nawal@gmail.com</td>\n",
        "      <td> 2015-12-22</td>\n",
        "      <td> 2014-12-23</td>\n",
        "      <td> 29</td>\n",
        "      <td> 2015-11-23</td>\n",
        "    </tr>\n",
        "    <tr>\n",
        "      <th>18 </th>\n",
        "      <td>  jamesmorgan0091@gmail.com</td>\n",
        "      <td> 2015-12-22</td>\n",
        "      <td> 2014-12-23</td>\n",
        "      <td> 29</td>\n",
        "      <td> 2015-11-23</td>\n",
        "    </tr>\n",
        "    <tr>\n",
        "      <th>19 </th>\n",
        "      <td>       israa_s@aucegypt.edu</td>\n",
        "      <td> 2015-12-22</td>\n",
        "      <td> 2014-12-23</td>\n",
        "      <td> 29</td>\n",
        "      <td> 2015-11-23</td>\n",
        "    </tr>\n",
        "    <tr>\n",
        "      <th>20 </th>\n",
        "      <td>     RODY.DOVE123@GMAIL.COM</td>\n",
        "      <td> 2015-12-22</td>\n",
        "      <td> 2014-12-23</td>\n",
        "      <td> 29</td>\n",
        "      <td> 2015-11-23</td>\n",
        "    </tr>\n",
        "    <tr>\n",
        "      <th>21 </th>\n",
        "      <td>     amaghraby@mediawave.me</td>\n",
        "      <td> 2015-12-22</td>\n",
        "      <td> 2014-12-23</td>\n",
        "      <td> 29</td>\n",
        "      <td> 2015-11-23</td>\n",
        "    </tr>\n",
        "    <tr>\n",
        "      <th>22 </th>\n",
        "      <td>        hibba_b@hotmail.com</td>\n",
        "      <td> 2015-12-22</td>\n",
        "      <td> 2014-12-23</td>\n",
        "      <td> 29</td>\n",
        "      <td> 2015-11-23</td>\n",
        "    </tr>\n",
        "    <tr>\n",
        "      <th>23 </th>\n",
        "      <td>     pascalenader@gmail.com</td>\n",
        "      <td> 2015-12-22</td>\n",
        "      <td> 2014-12-23</td>\n",
        "      <td> 29</td>\n",
        "      <td> 2015-11-23</td>\n",
        "    </tr>\n",
        "    <tr>\n",
        "      <th>24 </th>\n",
        "      <td>     doaa.khattab@gmail.com</td>\n",
        "      <td> 2015-12-22</td>\n",
        "      <td> 2014-12-23</td>\n",
        "      <td> 29</td>\n",
        "      <td> 2015-11-23</td>\n",
        "    </tr>\n",
        "    <tr>\n",
        "      <th>25 </th>\n",
        "      <td>     sunset_456@hotmail.com</td>\n",
        "      <td> 2015-12-22</td>\n",
        "      <td> 2014-12-23</td>\n",
        "      <td> 29</td>\n",
        "      <td> 2015-11-23</td>\n",
        "    </tr>\n",
        "    <tr>\n",
        "      <th>26 </th>\n",
        "      <td> colleen_lovely@hotmail.com</td>\n",
        "      <td> 2015-12-22</td>\n",
        "      <td> 2014-12-23</td>\n",
        "      <td> 29</td>\n",
        "      <td> 2015-11-23</td>\n",
        "    </tr>\n",
        "    <tr>\n",
        "      <th>27 </th>\n",
        "      <td>           imrhazi@yahoo.fr</td>\n",
        "      <td> 2015-12-22</td>\n",
        "      <td> 2014-12-23</td>\n",
        "      <td> 29</td>\n",
        "      <td> 2015-11-23</td>\n",
        "    </tr>\n",
        "    <tr>\n",
        "      <th>28 </th>\n",
        "      <td>  nadyagamaleldin@gmail.com</td>\n",
        "      <td> 2015-12-22</td>\n",
        "      <td> 2014-12-23</td>\n",
        "      <td> 29</td>\n",
        "      <td> 2015-11-23</td>\n",
        "    </tr>\n",
        "    <tr>\n",
        "      <th>29 </th>\n",
        "      <td>        engywasfy@gmail.com</td>\n",
        "      <td> 2015-12-22</td>\n",
        "      <td> 2014-12-23</td>\n",
        "      <td> 29</td>\n",
        "      <td> 2015-11-23</td>\n",
        "    </tr>\n",
        "    <tr>\n",
        "      <th>...</th>\n",
        "      <td>...</td>\n",
        "      <td>...</td>\n",
        "      <td>...</td>\n",
        "      <td>...</td>\n",
        "      <td>...</td>\n",
        "    </tr>\n",
        "    <tr>\n",
        "      <th>423</th>\n",
        "      <td>           krisyg@gmail.com</td>\n",
        "      <td> 2015-11-24</td>\n",
        "      <td> 2014-12-23</td>\n",
        "      <td>  1</td>\n",
        "      <td> 2015-11-23</td>\n",
        "    </tr>\n",
        "    <tr>\n",
        "      <th>424</th>\n",
        "      <td>         carodoss@gmail.com</td>\n",
        "      <td> 2015-11-24</td>\n",
        "      <td> 2014-12-23</td>\n",
        "      <td>  1</td>\n",
        "      <td> 2015-11-23</td>\n",
        "    </tr>\n",
        "    <tr>\n",
        "      <th>425</th>\n",
        "      <td>        marwasami@gmail.com</td>\n",
        "      <td> 2015-11-24</td>\n",
        "      <td> 2014-12-23</td>\n",
        "      <td>  1</td>\n",
        "      <td> 2015-11-23</td>\n",
        "    </tr>\n",
        "    <tr>\n",
        "      <th>426</th>\n",
        "      <td>         smorayef@gmail.com</td>\n",
        "      <td> 2015-11-24</td>\n",
        "      <td> 2014-12-23</td>\n",
        "      <td>  1</td>\n",
        "      <td> 2015-11-23</td>\n",
        "    </tr>\n",
        "    <tr>\n",
        "      <th>427</th>\n",
        "      <td>    sarahelderini@gmail.com</td>\n",
        "      <td> 2015-11-24</td>\n",
        "      <td> 2014-12-23</td>\n",
        "      <td>  1</td>\n",
        "      <td> 2015-11-23</td>\n",
        "    </tr>\n",
        "    <tr>\n",
        "      <th>428</th>\n",
        "      <td>  shazasalaheldin@gmail.com</td>\n",
        "      <td> 2015-11-24</td>\n",
        "      <td> 2014-12-23</td>\n",
        "      <td>  1</td>\n",
        "      <td> 2015-11-23</td>\n",
        "    </tr>\n",
        "    <tr>\n",
        "      <th>429</th>\n",
        "      <td>        zeinriham@gmail.com</td>\n",
        "      <td> 2015-11-24</td>\n",
        "      <td> 2014-12-23</td>\n",
        "      <td>  1</td>\n",
        "      <td> 2015-11-23</td>\n",
        "    </tr>\n",
        "    <tr>\n",
        "      <th>430</th>\n",
        "      <td>    nadaosman24@hotmail.com</td>\n",
        "      <td> 2015-11-24</td>\n",
        "      <td> 2014-12-23</td>\n",
        "      <td>  1</td>\n",
        "      <td> 2015-11-23</td>\n",
        "    </tr>\n",
        "    <tr>\n",
        "      <th>431</th>\n",
        "      <td>        hahased@hotmail.com</td>\n",
        "      <td> 2015-11-24</td>\n",
        "      <td> 2014-12-23</td>\n",
        "      <td>  1</td>\n",
        "      <td> 2015-11-23</td>\n",
        "    </tr>\n",
        "    <tr>\n",
        "      <th>432</th>\n",
        "      <td>      lilybadrawy@yahoo.com</td>\n",
        "      <td> 2015-11-24</td>\n",
        "      <td> 2014-12-23</td>\n",
        "      <td>  1</td>\n",
        "      <td> 2015-11-23</td>\n",
        "    </tr>\n",
        "    <tr>\n",
        "      <th>433</th>\n",
        "      <td> hassankhorshid@hotmail.com</td>\n",
        "      <td> 2015-11-24</td>\n",
        "      <td> 2014-12-23</td>\n",
        "      <td>  1</td>\n",
        "      <td> 2015-11-23</td>\n",
        "    </tr>\n",
        "    <tr>\n",
        "      <th>434</th>\n",
        "      <td>       h.abulnaga@gmail.com</td>\n",
        "      <td> 2015-11-24</td>\n",
        "      <td> 2014-12-23</td>\n",
        "      <td>  1</td>\n",
        "      <td> 2015-11-23</td>\n",
        "    </tr>\n",
        "    <tr>\n",
        "      <th>435</th>\n",
        "      <td>       relghannam@yahoo.com</td>\n",
        "      <td> 2015-11-23</td>\n",
        "      <td> 2014-12-23</td>\n",
        "      <td>  0</td>\n",
        "      <td> 2015-11-23</td>\n",
        "    </tr>\n",
        "    <tr>\n",
        "      <th>436</th>\n",
        "      <td> mostafa.yamany88@gmail.com</td>\n",
        "      <td> 2015-11-23</td>\n",
        "      <td> 2014-12-23</td>\n",
        "      <td>  0</td>\n",
        "      <td> 2015-11-23</td>\n",
        "    </tr>\n",
        "    <tr>\n",
        "      <th>437</th>\n",
        "      <td>        dokany@aucegypt.edu</td>\n",
        "      <td> 2015-11-23</td>\n",
        "      <td> 2014-12-23</td>\n",
        "      <td>  0</td>\n",
        "      <td> 2015-11-23</td>\n",
        "    </tr>\n",
        "    <tr>\n",
        "      <th>438</th>\n",
        "      <td>      alaa_dief@hotmail.com</td>\n",
        "      <td> 2015-11-23</td>\n",
        "      <td> 2014-12-23</td>\n",
        "      <td>  0</td>\n",
        "      <td> 2015-11-23</td>\n",
        "    </tr>\n",
        "    <tr>\n",
        "      <th>439</th>\n",
        "      <td>       mibzaki@aucegypt.edu</td>\n",
        "      <td> 2015-11-23</td>\n",
        "      <td> 2014-12-23</td>\n",
        "      <td>  0</td>\n",
        "      <td> 2015-11-23</td>\n",
        "    </tr>\n",
        "    <tr>\n",
        "      <th>440</th>\n",
        "      <td>         sedkyaly@gmail.com</td>\n",
        "      <td> 2015-11-23</td>\n",
        "      <td> 2014-12-23</td>\n",
        "      <td>  0</td>\n",
        "      <td> 2015-11-23</td>\n",
        "    </tr>\n",
        "    <tr>\n",
        "      <th>441</th>\n",
        "      <td>         info@ngs-egypt.com</td>\n",
        "      <td> 2015-11-23</td>\n",
        "      <td> 2014-12-23</td>\n",
        "      <td>  0</td>\n",
        "      <td> 2015-11-23</td>\n",
        "    </tr>\n",
        "    <tr>\n",
        "      <th>442</th>\n",
        "      <td>   heba.mohamed97@gmail.com</td>\n",
        "      <td> 2015-11-23</td>\n",
        "      <td> 2014-12-23</td>\n",
        "      <td>  0</td>\n",
        "      <td> 2015-11-23</td>\n",
        "    </tr>\n",
        "    <tr>\n",
        "      <th>443</th>\n",
        "      <td>      hasan.yueel@yesim.com</td>\n",
        "      <td> 2015-11-23</td>\n",
        "      <td> 2014-12-23</td>\n",
        "      <td>  0</td>\n",
        "      <td> 2015-11-23</td>\n",
        "    </tr>\n",
        "    <tr>\n",
        "      <th>444</th>\n",
        "      <td>    angiemakhlouf@gmail.com</td>\n",
        "      <td> 2015-11-23</td>\n",
        "      <td> 2014-12-23</td>\n",
        "      <td>  0</td>\n",
        "      <td> 2015-11-23</td>\n",
        "    </tr>\n",
        "    <tr>\n",
        "      <th>445</th>\n",
        "      <td>         yehyar@yahoo.co.uk</td>\n",
        "      <td> 2015-11-23</td>\n",
        "      <td> 2014-12-23</td>\n",
        "      <td>  0</td>\n",
        "      <td> 2015-11-23</td>\n",
        "    </tr>\n",
        "    <tr>\n",
        "      <th>446</th>\n",
        "      <td>        rashahome@yahoo.com</td>\n",
        "      <td> 2015-11-23</td>\n",
        "      <td> 2014-12-23</td>\n",
        "      <td>  0</td>\n",
        "      <td> 2015-11-23</td>\n",
        "    </tr>\n",
        "    <tr>\n",
        "      <th>447</th>\n",
        "      <td>         maha-s2004@mail.ru</td>\n",
        "      <td> 2015-11-23</td>\n",
        "      <td> 2014-12-23</td>\n",
        "      <td>  0</td>\n",
        "      <td> 2015-11-23</td>\n",
        "    </tr>\n",
        "    <tr>\n",
        "      <th>448</th>\n",
        "      <td>       nadandnad@myself.com</td>\n",
        "      <td> 2015-11-23</td>\n",
        "      <td> 2014-12-23</td>\n",
        "      <td>  0</td>\n",
        "      <td> 2015-11-23</td>\n",
        "    </tr>\n",
        "    <tr>\n",
        "      <th>449</th>\n",
        "      <td>            sand4@yandex.ru</td>\n",
        "      <td> 2015-11-23</td>\n",
        "      <td> 2014-12-23</td>\n",
        "      <td>  0</td>\n",
        "      <td> 2015-11-23</td>\n",
        "    </tr>\n",
        "    <tr>\n",
        "      <th>450</th>\n",
        "      <td>     hussein.maha@gmail.com</td>\n",
        "      <td> 2015-11-23</td>\n",
        "      <td> 2014-12-23</td>\n",
        "      <td>  0</td>\n",
        "      <td> 2015-11-23</td>\n",
        "    </tr>\n",
        "    <tr>\n",
        "      <th>451</th>\n",
        "      <td>        tarek@ngs-egypt.com</td>\n",
        "      <td> 2015-11-23</td>\n",
        "      <td> 2014-12-23</td>\n",
        "      <td>  0</td>\n",
        "      <td> 2015-11-23</td>\n",
        "    </tr>\n",
        "    <tr>\n",
        "      <th>452</th>\n",
        "      <td>     wahibhunter@icloud.com</td>\n",
        "      <td> 2015-11-23</td>\n",
        "      <td> 2014-12-23</td>\n",
        "      <td>  0</td>\n",
        "      <td> 2015-11-23</td>\n",
        "    </tr>\n",
        "  </tbody>\n",
        "</table>\n",
        "<p>453 rows \u00d7 5 columns</p>\n",
        "</div>"
       ],
       "metadata": {},
       "output_type": "pyout",
       "prompt_number": 12,
       "text": [
        "                          Email        Date  YearBefore  DaysBetween  \\\n",
        "0        rehabmansour@gmail.com  2015-12-23  2014-12-23           30   \n",
        "1           nabouheif@yahoo.com  2015-12-23  2014-12-23           30   \n",
        "2        fracicardi@hotmail.com  2015-12-23  2014-12-23           30   \n",
        "3        ahmed.fakhry@gmail.com  2015-12-23  2014-12-23           30   \n",
        "4          Missilou11@yahoo.com  2015-12-23  2014-12-23           30   \n",
        "5       sallysalem123@gmail.com  2015-12-23  2014-12-23           30   \n",
        "6      nayera_fadel@hotmail.com  2015-12-23  2014-12-23           30   \n",
        "7         raoufzdn553@gmail.com  2015-12-23  2014-12-23           30   \n",
        "8        gaylynmbogho@yahoo.com  2015-12-23  2014-12-23           30   \n",
        "9          oshahavi13@gmail.com  2015-12-23  2014-12-23           30   \n",
        "10         Daiieldeeb@gmail.com  2015-12-23  2014-12-23           30   \n",
        "11          yara.azam@gmail.com  2015-12-23  2014-12-23           30   \n",
        "12        dalia_allam@yahoo.com  2015-12-23  2014-12-23           30   \n",
        "13        elhanem52@hotmail.com  2015-12-23  2014-12-23           30   \n",
        "14     tarek_seddik@hotmail.com  2015-12-23  2014-12-23           30   \n",
        "15      maie.nomrossy@gmail.com  2015-12-23  2014-12-23           30   \n",
        "16        hazem.shamy@gmail.com  2015-12-23  2014-12-23           30   \n",
        "17       maya.p.nawal@gmail.com  2015-12-22  2014-12-23           29   \n",
        "18    jamesmorgan0091@gmail.com  2015-12-22  2014-12-23           29   \n",
        "19         israa_s@aucegypt.edu  2015-12-22  2014-12-23           29   \n",
        "20       RODY.DOVE123@GMAIL.COM  2015-12-22  2014-12-23           29   \n",
        "21       amaghraby@mediawave.me  2015-12-22  2014-12-23           29   \n",
        "22          hibba_b@hotmail.com  2015-12-22  2014-12-23           29   \n",
        "23       pascalenader@gmail.com  2015-12-22  2014-12-23           29   \n",
        "24       doaa.khattab@gmail.com  2015-12-22  2014-12-23           29   \n",
        "25       sunset_456@hotmail.com  2015-12-22  2014-12-23           29   \n",
        "26   colleen_lovely@hotmail.com  2015-12-22  2014-12-23           29   \n",
        "27             imrhazi@yahoo.fr  2015-12-22  2014-12-23           29   \n",
        "28    nadyagamaleldin@gmail.com  2015-12-22  2014-12-23           29   \n",
        "29          engywasfy@gmail.com  2015-12-22  2014-12-23           29   \n",
        "..                          ...         ...         ...          ...   \n",
        "423            krisyg@gmail.com  2015-11-24  2014-12-23            1   \n",
        "424          carodoss@gmail.com  2015-11-24  2014-12-23            1   \n",
        "425         marwasami@gmail.com  2015-11-24  2014-12-23            1   \n",
        "426          smorayef@gmail.com  2015-11-24  2014-12-23            1   \n",
        "427     sarahelderini@gmail.com  2015-11-24  2014-12-23            1   \n",
        "428   shazasalaheldin@gmail.com  2015-11-24  2014-12-23            1   \n",
        "429         zeinriham@gmail.com  2015-11-24  2014-12-23            1   \n",
        "430     nadaosman24@hotmail.com  2015-11-24  2014-12-23            1   \n",
        "431         hahased@hotmail.com  2015-11-24  2014-12-23            1   \n",
        "432       lilybadrawy@yahoo.com  2015-11-24  2014-12-23            1   \n",
        "433  hassankhorshid@hotmail.com  2015-11-24  2014-12-23            1   \n",
        "434        h.abulnaga@gmail.com  2015-11-24  2014-12-23            1   \n",
        "435        relghannam@yahoo.com  2015-11-23  2014-12-23            0   \n",
        "436  mostafa.yamany88@gmail.com  2015-11-23  2014-12-23            0   \n",
        "437         dokany@aucegypt.edu  2015-11-23  2014-12-23            0   \n",
        "438       alaa_dief@hotmail.com  2015-11-23  2014-12-23            0   \n",
        "439        mibzaki@aucegypt.edu  2015-11-23  2014-12-23            0   \n",
        "440          sedkyaly@gmail.com  2015-11-23  2014-12-23            0   \n",
        "441          info@ngs-egypt.com  2015-11-23  2014-12-23            0   \n",
        "442    heba.mohamed97@gmail.com  2015-11-23  2014-12-23            0   \n",
        "443       hasan.yueel@yesim.com  2015-11-23  2014-12-23            0   \n",
        "444     angiemakhlouf@gmail.com  2015-11-23  2014-12-23            0   \n",
        "445          yehyar@yahoo.co.uk  2015-11-23  2014-12-23            0   \n",
        "446         rashahome@yahoo.com  2015-11-23  2014-12-23            0   \n",
        "447          maha-s2004@mail.ru  2015-11-23  2014-12-23            0   \n",
        "448        nadandnad@myself.com  2015-11-23  2014-12-23            0   \n",
        "449             sand4@yandex.ru  2015-11-23  2014-12-23            0   \n",
        "450      hussein.maha@gmail.com  2015-11-23  2014-12-23            0   \n",
        "451         tarek@ngs-egypt.com  2015-11-23  2014-12-23            0   \n",
        "452      wahibhunter@icloud.com  2015-11-23  2014-12-23            0   \n",
        "\n",
        "    Days30Before  \n",
        "0     2015-11-23  \n",
        "1     2015-11-23  \n",
        "2     2015-11-23  \n",
        "3     2015-11-23  \n",
        "4     2015-11-23  \n",
        "5     2015-11-23  \n",
        "6     2015-11-23  \n",
        "7     2015-11-23  \n",
        "8     2015-11-23  \n",
        "9     2015-11-23  \n",
        "10    2015-11-23  \n",
        "11    2015-11-23  \n",
        "12    2015-11-23  \n",
        "13    2015-11-23  \n",
        "14    2015-11-23  \n",
        "15    2015-11-23  \n",
        "16    2015-11-23  \n",
        "17    2015-11-23  \n",
        "18    2015-11-23  \n",
        "19    2015-11-23  \n",
        "20    2015-11-23  \n",
        "21    2015-11-23  \n",
        "22    2015-11-23  \n",
        "23    2015-11-23  \n",
        "24    2015-11-23  \n",
        "25    2015-11-23  \n",
        "26    2015-11-23  \n",
        "27    2015-11-23  \n",
        "28    2015-11-23  \n",
        "29    2015-11-23  \n",
        "..           ...  \n",
        "423   2015-11-23  \n",
        "424   2015-11-23  \n",
        "425   2015-11-23  \n",
        "426   2015-11-23  \n",
        "427   2015-11-23  \n",
        "428   2015-11-23  \n",
        "429   2015-11-23  \n",
        "430   2015-11-23  \n",
        "431   2015-11-23  \n",
        "432   2015-11-23  \n",
        "433   2015-11-23  \n",
        "434   2015-11-23  \n",
        "435   2015-11-23  \n",
        "436   2015-11-23  \n",
        "437   2015-11-23  \n",
        "438   2015-11-23  \n",
        "439   2015-11-23  \n",
        "440   2015-11-23  \n",
        "441   2015-11-23  \n",
        "442   2015-11-23  \n",
        "443   2015-11-23  \n",
        "444   2015-11-23  \n",
        "445   2015-11-23  \n",
        "446   2015-11-23  \n",
        "447   2015-11-23  \n",
        "448   2015-11-23  \n",
        "449   2015-11-23  \n",
        "450   2015-11-23  \n",
        "451   2015-11-23  \n",
        "452   2015-11-23  \n",
        "\n",
        "[453 rows x 5 columns]"
       ]
      }
     ],
     "prompt_number": 12
    },
    {
     "cell_type": "code",
     "collapsed": false,
     "input": [
      "df2['DaysBetween'] = df2.apply(lambda x: days_between(x['Days20Before'], x['Date']), axis=1)\n",
      "df2 = df2[(df2.DaysBetween <= 20) & (df2.DaysBetween >= 0)] #get rows whose order is with in 20 days\n",
      "df2"
     ],
     "language": "python",
     "metadata": {},
     "outputs": [
      {
       "html": [
        "<div style=\"max-height:1000px;max-width:1500px;overflow:auto;\">\n",
        "<table border=\"1\" class=\"dataframe\">\n",
        "  <thead>\n",
        "    <tr style=\"text-align: right;\">\n",
        "      <th></th>\n",
        "      <th>Email</th>\n",
        "      <th>Date</th>\n",
        "      <th>Days20Before</th>\n",
        "      <th>DaysBetween</th>\n",
        "    </tr>\n",
        "  </thead>\n",
        "  <tbody>\n",
        "    <tr>\n",
        "      <th>0  </th>\n",
        "      <td>       rehabmansour@gmail.com</td>\n",
        "      <td> 2015-12-23</td>\n",
        "      <td> 2015-12-03</td>\n",
        "      <td> 20</td>\n",
        "    </tr>\n",
        "    <tr>\n",
        "      <th>1  </th>\n",
        "      <td>          nabouheif@yahoo.com</td>\n",
        "      <td> 2015-12-23</td>\n",
        "      <td> 2015-12-03</td>\n",
        "      <td> 20</td>\n",
        "    </tr>\n",
        "    <tr>\n",
        "      <th>2  </th>\n",
        "      <td>       fracicardi@hotmail.com</td>\n",
        "      <td> 2015-12-23</td>\n",
        "      <td> 2015-12-03</td>\n",
        "      <td> 20</td>\n",
        "    </tr>\n",
        "    <tr>\n",
        "      <th>3  </th>\n",
        "      <td>       ahmed.fakhry@gmail.com</td>\n",
        "      <td> 2015-12-23</td>\n",
        "      <td> 2015-12-03</td>\n",
        "      <td> 20</td>\n",
        "    </tr>\n",
        "    <tr>\n",
        "      <th>4  </th>\n",
        "      <td>         Missilou11@yahoo.com</td>\n",
        "      <td> 2015-12-23</td>\n",
        "      <td> 2015-12-03</td>\n",
        "      <td> 20</td>\n",
        "    </tr>\n",
        "    <tr>\n",
        "      <th>5  </th>\n",
        "      <td>      sallysalem123@gmail.com</td>\n",
        "      <td> 2015-12-23</td>\n",
        "      <td> 2015-12-03</td>\n",
        "      <td> 20</td>\n",
        "    </tr>\n",
        "    <tr>\n",
        "      <th>6  </th>\n",
        "      <td>     nayera_fadel@hotmail.com</td>\n",
        "      <td> 2015-12-23</td>\n",
        "      <td> 2015-12-03</td>\n",
        "      <td> 20</td>\n",
        "    </tr>\n",
        "    <tr>\n",
        "      <th>7  </th>\n",
        "      <td>        raoufzdn553@gmail.com</td>\n",
        "      <td> 2015-12-23</td>\n",
        "      <td> 2015-12-03</td>\n",
        "      <td> 20</td>\n",
        "    </tr>\n",
        "    <tr>\n",
        "      <th>8  </th>\n",
        "      <td>       gaylynmbogho@yahoo.com</td>\n",
        "      <td> 2015-12-23</td>\n",
        "      <td> 2015-12-03</td>\n",
        "      <td> 20</td>\n",
        "    </tr>\n",
        "    <tr>\n",
        "      <th>9  </th>\n",
        "      <td>         oshahavi13@gmail.com</td>\n",
        "      <td> 2015-12-23</td>\n",
        "      <td> 2015-12-03</td>\n",
        "      <td> 20</td>\n",
        "    </tr>\n",
        "    <tr>\n",
        "      <th>10 </th>\n",
        "      <td>         Daiieldeeb@gmail.com</td>\n",
        "      <td> 2015-12-23</td>\n",
        "      <td> 2015-12-03</td>\n",
        "      <td> 20</td>\n",
        "    </tr>\n",
        "    <tr>\n",
        "      <th>11 </th>\n",
        "      <td>          yara.azam@gmail.com</td>\n",
        "      <td> 2015-12-23</td>\n",
        "      <td> 2015-12-03</td>\n",
        "      <td> 20</td>\n",
        "    </tr>\n",
        "    <tr>\n",
        "      <th>12 </th>\n",
        "      <td>        dalia_allam@yahoo.com</td>\n",
        "      <td> 2015-12-23</td>\n",
        "      <td> 2015-12-03</td>\n",
        "      <td> 20</td>\n",
        "    </tr>\n",
        "    <tr>\n",
        "      <th>13 </th>\n",
        "      <td>        elhanem52@hotmail.com</td>\n",
        "      <td> 2015-12-23</td>\n",
        "      <td> 2015-12-03</td>\n",
        "      <td> 20</td>\n",
        "    </tr>\n",
        "    <tr>\n",
        "      <th>14 </th>\n",
        "      <td>     tarek_seddik@hotmail.com</td>\n",
        "      <td> 2015-12-23</td>\n",
        "      <td> 2015-12-03</td>\n",
        "      <td> 20</td>\n",
        "    </tr>\n",
        "    <tr>\n",
        "      <th>15 </th>\n",
        "      <td>      maie.nomrossy@gmail.com</td>\n",
        "      <td> 2015-12-23</td>\n",
        "      <td> 2015-12-03</td>\n",
        "      <td> 20</td>\n",
        "    </tr>\n",
        "    <tr>\n",
        "      <th>16 </th>\n",
        "      <td>        hazem.shamy@gmail.com</td>\n",
        "      <td> 2015-12-23</td>\n",
        "      <td> 2015-12-03</td>\n",
        "      <td> 20</td>\n",
        "    </tr>\n",
        "    <tr>\n",
        "      <th>17 </th>\n",
        "      <td>       maya.p.nawal@gmail.com</td>\n",
        "      <td> 2015-12-22</td>\n",
        "      <td> 2015-12-03</td>\n",
        "      <td> 19</td>\n",
        "    </tr>\n",
        "    <tr>\n",
        "      <th>18 </th>\n",
        "      <td>    jamesmorgan0091@gmail.com</td>\n",
        "      <td> 2015-12-22</td>\n",
        "      <td> 2015-12-03</td>\n",
        "      <td> 19</td>\n",
        "    </tr>\n",
        "    <tr>\n",
        "      <th>19 </th>\n",
        "      <td>         israa_s@aucegypt.edu</td>\n",
        "      <td> 2015-12-22</td>\n",
        "      <td> 2015-12-03</td>\n",
        "      <td> 19</td>\n",
        "    </tr>\n",
        "    <tr>\n",
        "      <th>20 </th>\n",
        "      <td>       RODY.DOVE123@GMAIL.COM</td>\n",
        "      <td> 2015-12-22</td>\n",
        "      <td> 2015-12-03</td>\n",
        "      <td> 19</td>\n",
        "    </tr>\n",
        "    <tr>\n",
        "      <th>21 </th>\n",
        "      <td>       amaghraby@mediawave.me</td>\n",
        "      <td> 2015-12-22</td>\n",
        "      <td> 2015-12-03</td>\n",
        "      <td> 19</td>\n",
        "    </tr>\n",
        "    <tr>\n",
        "      <th>22 </th>\n",
        "      <td>          hibba_b@hotmail.com</td>\n",
        "      <td> 2015-12-22</td>\n",
        "      <td> 2015-12-03</td>\n",
        "      <td> 19</td>\n",
        "    </tr>\n",
        "    <tr>\n",
        "      <th>23 </th>\n",
        "      <td>       pascalenader@gmail.com</td>\n",
        "      <td> 2015-12-22</td>\n",
        "      <td> 2015-12-03</td>\n",
        "      <td> 19</td>\n",
        "    </tr>\n",
        "    <tr>\n",
        "      <th>24 </th>\n",
        "      <td>       doaa.khattab@gmail.com</td>\n",
        "      <td> 2015-12-22</td>\n",
        "      <td> 2015-12-03</td>\n",
        "      <td> 19</td>\n",
        "    </tr>\n",
        "    <tr>\n",
        "      <th>25 </th>\n",
        "      <td>       sunset_456@hotmail.com</td>\n",
        "      <td> 2015-12-22</td>\n",
        "      <td> 2015-12-03</td>\n",
        "      <td> 19</td>\n",
        "    </tr>\n",
        "    <tr>\n",
        "      <th>26 </th>\n",
        "      <td>   colleen_lovely@hotmail.com</td>\n",
        "      <td> 2015-12-22</td>\n",
        "      <td> 2015-12-03</td>\n",
        "      <td> 19</td>\n",
        "    </tr>\n",
        "    <tr>\n",
        "      <th>27 </th>\n",
        "      <td>             imrhazi@yahoo.fr</td>\n",
        "      <td> 2015-12-22</td>\n",
        "      <td> 2015-12-03</td>\n",
        "      <td> 19</td>\n",
        "    </tr>\n",
        "    <tr>\n",
        "      <th>28 </th>\n",
        "      <td>    nadyagamaleldin@gmail.com</td>\n",
        "      <td> 2015-12-22</td>\n",
        "      <td> 2015-12-03</td>\n",
        "      <td> 19</td>\n",
        "    </tr>\n",
        "    <tr>\n",
        "      <th>29 </th>\n",
        "      <td>          engywasfy@gmail.com</td>\n",
        "      <td> 2015-12-22</td>\n",
        "      <td> 2015-12-03</td>\n",
        "      <td> 19</td>\n",
        "    </tr>\n",
        "    <tr>\n",
        "      <th>...</th>\n",
        "      <td>...</td>\n",
        "      <td>...</td>\n",
        "      <td>...</td>\n",
        "      <td>...</td>\n",
        "    </tr>\n",
        "    <tr>\n",
        "      <th>261</th>\n",
        "      <td>           noura@aucegypt.edu</td>\n",
        "      <td> 2015-12-05</td>\n",
        "      <td> 2015-12-03</td>\n",
        "      <td>  2</td>\n",
        "    </tr>\n",
        "    <tr>\n",
        "      <th>262</th>\n",
        "      <td>      sandra.atteya@gmail.com</td>\n",
        "      <td> 2015-12-05</td>\n",
        "      <td> 2015-12-03</td>\n",
        "      <td>  2</td>\n",
        "    </tr>\n",
        "    <tr>\n",
        "      <th>263</th>\n",
        "      <td>          ziadusama@ymail.com</td>\n",
        "      <td> 2015-12-05</td>\n",
        "      <td> 2015-12-03</td>\n",
        "      <td>  2</td>\n",
        "    </tr>\n",
        "    <tr>\n",
        "      <th>264</th>\n",
        "      <td>     tarek_seddik@hotmail.com</td>\n",
        "      <td> 2015-12-05</td>\n",
        "      <td> 2015-12-03</td>\n",
        "      <td>  2</td>\n",
        "    </tr>\n",
        "    <tr>\n",
        "      <th>265</th>\n",
        "      <td>          digadooga@gmail.com</td>\n",
        "      <td> 2015-12-04</td>\n",
        "      <td> 2015-12-03</td>\n",
        "      <td>  1</td>\n",
        "    </tr>\n",
        "    <tr>\n",
        "      <th>266</th>\n",
        "      <td>            afmansour@msn.com</td>\n",
        "      <td> 2015-12-04</td>\n",
        "      <td> 2015-12-03</td>\n",
        "      <td>  1</td>\n",
        "    </tr>\n",
        "    <tr>\n",
        "      <th>267</th>\n",
        "      <td>    walton.jennifer@gmail.com</td>\n",
        "      <td> 2015-12-04</td>\n",
        "      <td> 2015-12-03</td>\n",
        "      <td>  1</td>\n",
        "    </tr>\n",
        "    <tr>\n",
        "      <th>268</th>\n",
        "      <td> mohamedtawfik90.mt@gmail.com</td>\n",
        "      <td> 2015-12-04</td>\n",
        "      <td> 2015-12-03</td>\n",
        "      <td>  1</td>\n",
        "    </tr>\n",
        "    <tr>\n",
        "      <th>269</th>\n",
        "      <td>     marinaphilip28@gmail.com</td>\n",
        "      <td> 2015-12-04</td>\n",
        "      <td> 2015-12-03</td>\n",
        "      <td>  1</td>\n",
        "    </tr>\n",
        "    <tr>\n",
        "      <th>270</th>\n",
        "      <td>    roudyelboghdady@gmail.com</td>\n",
        "      <td> 2015-12-04</td>\n",
        "      <td> 2015-12-03</td>\n",
        "      <td>  1</td>\n",
        "    </tr>\n",
        "    <tr>\n",
        "      <th>271</th>\n",
        "      <td>       marlis.seves@gmail.com</td>\n",
        "      <td> 2015-12-04</td>\n",
        "      <td> 2015-12-03</td>\n",
        "      <td>  1</td>\n",
        "    </tr>\n",
        "    <tr>\n",
        "      <th>272</th>\n",
        "      <td>          nabouheif@yahoo.com</td>\n",
        "      <td> 2015-12-04</td>\n",
        "      <td> 2015-12-03</td>\n",
        "      <td>  1</td>\n",
        "    </tr>\n",
        "    <tr>\n",
        "      <th>273</th>\n",
        "      <td>     noura_gwanny@hotmail.com</td>\n",
        "      <td> 2015-12-04</td>\n",
        "      <td> 2015-12-03</td>\n",
        "      <td>  1</td>\n",
        "    </tr>\n",
        "    <tr>\n",
        "      <th>274</th>\n",
        "      <td>       manouna_82@hotmail.com</td>\n",
        "      <td> 2015-12-04</td>\n",
        "      <td> 2015-12-03</td>\n",
        "      <td>  1</td>\n",
        "    </tr>\n",
        "    <tr>\n",
        "      <th>275</th>\n",
        "      <td>             flynat@gmail.com</td>\n",
        "      <td> 2015-12-04</td>\n",
        "      <td> 2015-12-03</td>\n",
        "      <td>  1</td>\n",
        "    </tr>\n",
        "    <tr>\n",
        "      <th>276</th>\n",
        "      <td>   nadiaaboutaleb@hotmail.com</td>\n",
        "      <td> 2015-12-03</td>\n",
        "      <td> 2015-12-03</td>\n",
        "      <td>  0</td>\n",
        "    </tr>\n",
        "    <tr>\n",
        "      <th>277</th>\n",
        "      <td>          alia__0@hotmail.com</td>\n",
        "      <td> 2015-12-03</td>\n",
        "      <td> 2015-12-03</td>\n",
        "      <td>  0</td>\n",
        "    </tr>\n",
        "    <tr>\n",
        "      <th>278</th>\n",
        "      <td>     noura_gwanny@hotmail.com</td>\n",
        "      <td> 2015-12-03</td>\n",
        "      <td> 2015-12-03</td>\n",
        "      <td>  0</td>\n",
        "    </tr>\n",
        "    <tr>\n",
        "      <th>279</th>\n",
        "      <td>      shahindasaudi@yahoo.com</td>\n",
        "      <td> 2015-12-03</td>\n",
        "      <td> 2015-12-03</td>\n",
        "      <td>  0</td>\n",
        "    </tr>\n",
        "    <tr>\n",
        "      <th>280</th>\n",
        "      <td>        miral.wagdy@gmail.com</td>\n",
        "      <td> 2015-12-03</td>\n",
        "      <td> 2015-12-03</td>\n",
        "      <td>  0</td>\n",
        "    </tr>\n",
        "    <tr>\n",
        "      <th>281</th>\n",
        "      <td>        danadinnawi@gmail.com</td>\n",
        "      <td> 2015-12-03</td>\n",
        "      <td> 2015-12-03</td>\n",
        "      <td>  0</td>\n",
        "    </tr>\n",
        "    <tr>\n",
        "      <th>282</th>\n",
        "      <td>       thefairy1727@gmail.com</td>\n",
        "      <td> 2015-12-03</td>\n",
        "      <td> 2015-12-03</td>\n",
        "      <td>  0</td>\n",
        "    </tr>\n",
        "    <tr>\n",
        "      <th>283</th>\n",
        "      <td>          engywasfy@gmail.com</td>\n",
        "      <td> 2015-12-03</td>\n",
        "      <td> 2015-12-03</td>\n",
        "      <td>  0</td>\n",
        "    </tr>\n",
        "    <tr>\n",
        "      <th>284</th>\n",
        "      <td>         moelgammal@gmail.com</td>\n",
        "      <td> 2015-12-03</td>\n",
        "      <td> 2015-12-03</td>\n",
        "      <td>  0</td>\n",
        "    </tr>\n",
        "    <tr>\n",
        "      <th>285</th>\n",
        "      <td>          ranaheiba@gmail.com</td>\n",
        "      <td> 2015-12-03</td>\n",
        "      <td> 2015-12-03</td>\n",
        "      <td>  0</td>\n",
        "    </tr>\n",
        "    <tr>\n",
        "      <th>286</th>\n",
        "      <td>          zshafei@outlook.com</td>\n",
        "      <td> 2015-12-03</td>\n",
        "      <td> 2015-12-03</td>\n",
        "      <td>  0</td>\n",
        "    </tr>\n",
        "    <tr>\n",
        "      <th>287</th>\n",
        "      <td>       aurelierab@hotmail.com</td>\n",
        "      <td> 2015-12-03</td>\n",
        "      <td> 2015-12-03</td>\n",
        "      <td>  0</td>\n",
        "    </tr>\n",
        "    <tr>\n",
        "      <th>288</th>\n",
        "      <td>         nabil.doss@gmail.com</td>\n",
        "      <td> 2015-12-03</td>\n",
        "      <td> 2015-12-03</td>\n",
        "      <td>  0</td>\n",
        "    </tr>\n",
        "    <tr>\n",
        "      <th>289</th>\n",
        "      <td>       maya.p.nawal@gmail.com</td>\n",
        "      <td> 2015-12-03</td>\n",
        "      <td> 2015-12-03</td>\n",
        "      <td>  0</td>\n",
        "    </tr>\n",
        "    <tr>\n",
        "      <th>290</th>\n",
        "      <td>            akehela@gmail.com</td>\n",
        "      <td> 2015-12-03</td>\n",
        "      <td> 2015-12-03</td>\n",
        "      <td>  0</td>\n",
        "    </tr>\n",
        "  </tbody>\n",
        "</table>\n",
        "<p>291 rows \u00d7 4 columns</p>\n",
        "</div>"
       ],
       "metadata": {},
       "output_type": "pyout",
       "prompt_number": 13,
       "text": [
        "                            Email        Date Days20Before  DaysBetween\n",
        "0          rehabmansour@gmail.com  2015-12-23   2015-12-03           20\n",
        "1             nabouheif@yahoo.com  2015-12-23   2015-12-03           20\n",
        "2          fracicardi@hotmail.com  2015-12-23   2015-12-03           20\n",
        "3          ahmed.fakhry@gmail.com  2015-12-23   2015-12-03           20\n",
        "4            Missilou11@yahoo.com  2015-12-23   2015-12-03           20\n",
        "5         sallysalem123@gmail.com  2015-12-23   2015-12-03           20\n",
        "6        nayera_fadel@hotmail.com  2015-12-23   2015-12-03           20\n",
        "7           raoufzdn553@gmail.com  2015-12-23   2015-12-03           20\n",
        "8          gaylynmbogho@yahoo.com  2015-12-23   2015-12-03           20\n",
        "9            oshahavi13@gmail.com  2015-12-23   2015-12-03           20\n",
        "10           Daiieldeeb@gmail.com  2015-12-23   2015-12-03           20\n",
        "11            yara.azam@gmail.com  2015-12-23   2015-12-03           20\n",
        "12          dalia_allam@yahoo.com  2015-12-23   2015-12-03           20\n",
        "13          elhanem52@hotmail.com  2015-12-23   2015-12-03           20\n",
        "14       tarek_seddik@hotmail.com  2015-12-23   2015-12-03           20\n",
        "15        maie.nomrossy@gmail.com  2015-12-23   2015-12-03           20\n",
        "16          hazem.shamy@gmail.com  2015-12-23   2015-12-03           20\n",
        "17         maya.p.nawal@gmail.com  2015-12-22   2015-12-03           19\n",
        "18      jamesmorgan0091@gmail.com  2015-12-22   2015-12-03           19\n",
        "19           israa_s@aucegypt.edu  2015-12-22   2015-12-03           19\n",
        "20         RODY.DOVE123@GMAIL.COM  2015-12-22   2015-12-03           19\n",
        "21         amaghraby@mediawave.me  2015-12-22   2015-12-03           19\n",
        "22            hibba_b@hotmail.com  2015-12-22   2015-12-03           19\n",
        "23         pascalenader@gmail.com  2015-12-22   2015-12-03           19\n",
        "24         doaa.khattab@gmail.com  2015-12-22   2015-12-03           19\n",
        "25         sunset_456@hotmail.com  2015-12-22   2015-12-03           19\n",
        "26     colleen_lovely@hotmail.com  2015-12-22   2015-12-03           19\n",
        "27               imrhazi@yahoo.fr  2015-12-22   2015-12-03           19\n",
        "28      nadyagamaleldin@gmail.com  2015-12-22   2015-12-03           19\n",
        "29            engywasfy@gmail.com  2015-12-22   2015-12-03           19\n",
        "..                            ...         ...          ...          ...\n",
        "261            noura@aucegypt.edu  2015-12-05   2015-12-03            2\n",
        "262       sandra.atteya@gmail.com  2015-12-05   2015-12-03            2\n",
        "263           ziadusama@ymail.com  2015-12-05   2015-12-03            2\n",
        "264      tarek_seddik@hotmail.com  2015-12-05   2015-12-03            2\n",
        "265           digadooga@gmail.com  2015-12-04   2015-12-03            1\n",
        "266             afmansour@msn.com  2015-12-04   2015-12-03            1\n",
        "267     walton.jennifer@gmail.com  2015-12-04   2015-12-03            1\n",
        "268  mohamedtawfik90.mt@gmail.com  2015-12-04   2015-12-03            1\n",
        "269      marinaphilip28@gmail.com  2015-12-04   2015-12-03            1\n",
        "270     roudyelboghdady@gmail.com  2015-12-04   2015-12-03            1\n",
        "271        marlis.seves@gmail.com  2015-12-04   2015-12-03            1\n",
        "272           nabouheif@yahoo.com  2015-12-04   2015-12-03            1\n",
        "273      noura_gwanny@hotmail.com  2015-12-04   2015-12-03            1\n",
        "274        manouna_82@hotmail.com  2015-12-04   2015-12-03            1\n",
        "275              flynat@gmail.com  2015-12-04   2015-12-03            1\n",
        "276    nadiaaboutaleb@hotmail.com  2015-12-03   2015-12-03            0\n",
        "277           alia__0@hotmail.com  2015-12-03   2015-12-03            0\n",
        "278      noura_gwanny@hotmail.com  2015-12-03   2015-12-03            0\n",
        "279       shahindasaudi@yahoo.com  2015-12-03   2015-12-03            0\n",
        "280         miral.wagdy@gmail.com  2015-12-03   2015-12-03            0\n",
        "281         danadinnawi@gmail.com  2015-12-03   2015-12-03            0\n",
        "282        thefairy1727@gmail.com  2015-12-03   2015-12-03            0\n",
        "283           engywasfy@gmail.com  2015-12-03   2015-12-03            0\n",
        "284          moelgammal@gmail.com  2015-12-03   2015-12-03            0\n",
        "285           ranaheiba@gmail.com  2015-12-03   2015-12-03            0\n",
        "286           zshafei@outlook.com  2015-12-03   2015-12-03            0\n",
        "287        aurelierab@hotmail.com  2015-12-03   2015-12-03            0\n",
        "288          nabil.doss@gmail.com  2015-12-03   2015-12-03            0\n",
        "289        maya.p.nawal@gmail.com  2015-12-03   2015-12-03            0\n",
        "290             akehela@gmail.com  2015-12-03   2015-12-03            0\n",
        "\n",
        "[291 rows x 4 columns]"
       ]
      }
     ],
     "prompt_number": 13
    },
    {
     "cell_type": "code",
     "collapsed": false,
     "input": [
      "#count number of times a customer has ordered\n",
      "df['Count'] = 1\n",
      "df = df[['Email', 'Count']]\n",
      "df = df.groupby(['Email'], axis = 0, as_index=False).sum()\n",
      "df"
     ],
     "language": "python",
     "metadata": {},
     "outputs": [
      {
       "html": [
        "<div style=\"max-height:1000px;max-width:1500px;overflow:auto;\">\n",
        "<table border=\"1\" class=\"dataframe\">\n",
        "  <thead>\n",
        "    <tr style=\"text-align: right;\">\n",
        "      <th></th>\n",
        "      <th>Email</th>\n",
        "      <th>Count</th>\n",
        "    </tr>\n",
        "  </thead>\n",
        "  <tbody>\n",
        "    <tr>\n",
        "      <th>0  </th>\n",
        "      <td>   1youniqueflower@gmail.com</td>\n",
        "      <td> 1</td>\n",
        "    </tr>\n",
        "    <tr>\n",
        "      <th>1  </th>\n",
        "      <td>     Aliamossallam@gmail.com</td>\n",
        "      <td> 1</td>\n",
        "    </tr>\n",
        "    <tr>\n",
        "      <th>2  </th>\n",
        "      <td> Camillia.Marmoush@gmail.com</td>\n",
        "      <td> 1</td>\n",
        "    </tr>\n",
        "    <tr>\n",
        "      <th>3  </th>\n",
        "      <td>        Daiieldeeb@gmail.com</td>\n",
        "      <td> 1</td>\n",
        "    </tr>\n",
        "    <tr>\n",
        "      <th>4  </th>\n",
        "      <td>      Eng_kozman@hotmail.com</td>\n",
        "      <td> 1</td>\n",
        "    </tr>\n",
        "    <tr>\n",
        "      <th>5  </th>\n",
        "      <td>     Hananadel17@hotmail.com</td>\n",
        "      <td> 2</td>\n",
        "    </tr>\n",
        "    <tr>\n",
        "      <th>6  </th>\n",
        "      <td>        Missilou11@yahoo.com</td>\n",
        "      <td> 1</td>\n",
        "    </tr>\n",
        "    <tr>\n",
        "      <th>7  </th>\n",
        "      <td>      RODY.DOVE123@GMAIL.COM</td>\n",
        "      <td> 1</td>\n",
        "    </tr>\n",
        "    <tr>\n",
        "      <th>8  </th>\n",
        "      <td>      Rajvinderk@hotmail.com</td>\n",
        "      <td> 1</td>\n",
        "    </tr>\n",
        "    <tr>\n",
        "      <th>9  </th>\n",
        "      <td>         Tarek@ngs-egypt.com</td>\n",
        "      <td> 1</td>\n",
        "    </tr>\n",
        "    <tr>\n",
        "      <th>10 </th>\n",
        "      <td>        YOUSRA21@HOTMAIL.COM</td>\n",
        "      <td> 3</td>\n",
        "    </tr>\n",
        "    <tr>\n",
        "      <th>11 </th>\n",
        "      <td>     a.hamza@unicare-hmo.com</td>\n",
        "      <td> 1</td>\n",
        "    </tr>\n",
        "    <tr>\n",
        "      <th>12 </th>\n",
        "      <td>           afmansour@msn.com</td>\n",
        "      <td> 2</td>\n",
        "    </tr>\n",
        "    <tr>\n",
        "      <th>13 </th>\n",
        "      <td>      agaber.cairo@gmail.com</td>\n",
        "      <td> 1</td>\n",
        "    </tr>\n",
        "    <tr>\n",
        "      <th>14 </th>\n",
        "      <td>     ahmadtarek255@yahoo.com</td>\n",
        "      <td> 1</td>\n",
        "    </tr>\n",
        "    <tr>\n",
        "      <th>15 </th>\n",
        "      <td>      ahmed.fakhry@gmail.com</td>\n",
        "      <td> 1</td>\n",
        "    </tr>\n",
        "    <tr>\n",
        "      <th>16 </th>\n",
        "      <td>       ahmed_gaafar@live.com</td>\n",
        "      <td> 1</td>\n",
        "    </tr>\n",
        "    <tr>\n",
        "      <th>17 </th>\n",
        "      <td>           akehela@gmail.com</td>\n",
        "      <td> 4</td>\n",
        "    </tr>\n",
        "    <tr>\n",
        "      <th>18 </th>\n",
        "      <td>       alaa_dief@hotmail.com</td>\n",
        "      <td> 1</td>\n",
        "    </tr>\n",
        "    <tr>\n",
        "      <th>19 </th>\n",
        "      <td>           aleheta@gmail.com</td>\n",
        "      <td> 1</td>\n",
        "    </tr>\n",
        "    <tr>\n",
        "      <th>20 </th>\n",
        "      <td>         alia__0@hotmail.com</td>\n",
        "      <td> 2</td>\n",
        "    </tr>\n",
        "    <tr>\n",
        "      <th>21 </th>\n",
        "      <td>       alinicola92@gmail.com</td>\n",
        "      <td> 1</td>\n",
        "    </tr>\n",
        "    <tr>\n",
        "      <th>22 </th>\n",
        "      <td>      amaghraby@mediawave.me</td>\n",
        "      <td> 2</td>\n",
        "    </tr>\n",
        "    <tr>\n",
        "      <th>23 </th>\n",
        "      <td>      amalakhnoukh@gmail.com</td>\n",
        "      <td> 1</td>\n",
        "    </tr>\n",
        "    <tr>\n",
        "      <th>24 </th>\n",
        "      <td> amani_alshorafa@hotmail.com</td>\n",
        "      <td> 1</td>\n",
        "    </tr>\n",
        "    <tr>\n",
        "      <th>25 </th>\n",
        "      <td>      ambergacosta@yahoo.com</td>\n",
        "      <td> 1</td>\n",
        "    </tr>\n",
        "    <tr>\n",
        "      <th>26 </th>\n",
        "      <td>     amiraelsawy17@gmail.com</td>\n",
        "      <td> 1</td>\n",
        "    </tr>\n",
        "    <tr>\n",
        "      <th>27 </th>\n",
        "      <td>         amirmatar@gmail.com</td>\n",
        "      <td> 1</td>\n",
        "    </tr>\n",
        "    <tr>\n",
        "      <th>28 </th>\n",
        "      <td>          amzaher3@yahoo.com</td>\n",
        "      <td> 2</td>\n",
        "    </tr>\n",
        "    <tr>\n",
        "      <th>29 </th>\n",
        "      <td>    andreameza5683@yahoo.com</td>\n",
        "      <td> 3</td>\n",
        "    </tr>\n",
        "    <tr>\n",
        "      <th>...</th>\n",
        "      <td>...</td>\n",
        "      <td>...</td>\n",
        "    </tr>\n",
        "    <tr>\n",
        "      <th>286</th>\n",
        "      <td>        soraya_w@hotmail.com</td>\n",
        "      <td> 1</td>\n",
        "    </tr>\n",
        "    <tr>\n",
        "      <th>287</th>\n",
        "      <td>          sserag83@gmail.com</td>\n",
        "      <td> 1</td>\n",
        "    </tr>\n",
        "    <tr>\n",
        "      <th>288</th>\n",
        "      <td>      sunset_456@hotmail.com</td>\n",
        "      <td> 2</td>\n",
        "    </tr>\n",
        "    <tr>\n",
        "      <th>289</th>\n",
        "      <td>        suzieagami@gmail.com</td>\n",
        "      <td> 1</td>\n",
        "    </tr>\n",
        "    <tr>\n",
        "      <th>290</th>\n",
        "      <td>       t.sarhan@ntsegypt.com</td>\n",
        "      <td> 1</td>\n",
        "    </tr>\n",
        "    <tr>\n",
        "      <th>291</th>\n",
        "      <td>        tamerafifi@ymail.com</td>\n",
        "      <td> 1</td>\n",
        "    </tr>\n",
        "    <tr>\n",
        "      <th>292</th>\n",
        "      <td>         tarek@ngs-egypt.com</td>\n",
        "      <td> 4</td>\n",
        "    </tr>\n",
        "    <tr>\n",
        "      <th>293</th>\n",
        "      <td>    tarek_seddik@hotmail.com</td>\n",
        "      <td> 2</td>\n",
        "    </tr>\n",
        "    <tr>\n",
        "      <th>294</th>\n",
        "      <td>    tawakol.noreen@gmail.com</td>\n",
        "      <td> 1</td>\n",
        "    </tr>\n",
        "    <tr>\n",
        "      <th>295</th>\n",
        "      <td>      thefairy1727@gmail.com</td>\n",
        "      <td> 1</td>\n",
        "    </tr>\n",
        "    <tr>\n",
        "      <th>296</th>\n",
        "      <td>      thisisjbrown@gmail.com</td>\n",
        "      <td> 1</td>\n",
        "    </tr>\n",
        "    <tr>\n",
        "      <th>297</th>\n",
        "      <td>          tyomna@hotmail.com</td>\n",
        "      <td> 1</td>\n",
        "    </tr>\n",
        "    <tr>\n",
        "      <th>298</th>\n",
        "      <td>          viebelle@yahoo.com</td>\n",
        "      <td> 1</td>\n",
        "    </tr>\n",
        "    <tr>\n",
        "      <th>299</th>\n",
        "      <td>      wahibhunter@icloud.com</td>\n",
        "      <td> 3</td>\n",
        "    </tr>\n",
        "    <tr>\n",
        "      <th>300</th>\n",
        "      <td>   walaaessameldin@gmail.com</td>\n",
        "      <td> 1</td>\n",
        "    </tr>\n",
        "    <tr>\n",
        "      <th>301</th>\n",
        "      <td>   walton.jennifer@gmail.com</td>\n",
        "      <td> 2</td>\n",
        "    </tr>\n",
        "    <tr>\n",
        "      <th>302</th>\n",
        "      <td>       wessam.alfy@gmail.com</td>\n",
        "      <td> 1</td>\n",
        "    </tr>\n",
        "    <tr>\n",
        "      <th>303</th>\n",
        "      <td>            whomsy@gmail.com</td>\n",
        "      <td> 1</td>\n",
        "    </tr>\n",
        "    <tr>\n",
        "      <th>304</th>\n",
        "      <td>       yaboulenein@gmail.com</td>\n",
        "      <td> 1</td>\n",
        "    </tr>\n",
        "    <tr>\n",
        "      <th>305</th>\n",
        "      <td>         yara.azam@gmail.com</td>\n",
        "      <td> 1</td>\n",
        "    </tr>\n",
        "    <tr>\n",
        "      <th>306</th>\n",
        "      <td>       yarahmed@aucegypt.edu</td>\n",
        "      <td> 1</td>\n",
        "    </tr>\n",
        "    <tr>\n",
        "      <th>307</th>\n",
        "      <td>          yehyar@yahoo.co.uk</td>\n",
        "      <td> 1</td>\n",
        "    </tr>\n",
        "    <tr>\n",
        "      <th>308</th>\n",
        "      <td>        ygabbas9@hotmail.com</td>\n",
        "      <td> 3</td>\n",
        "    </tr>\n",
        "    <tr>\n",
        "      <th>309</th>\n",
        "      <td>  youssef.r@ramses-group.com</td>\n",
        "      <td> 1</td>\n",
        "    </tr>\n",
        "    <tr>\n",
        "      <th>310</th>\n",
        "      <td>     youssra_kamal@yahoo.com</td>\n",
        "      <td> 1</td>\n",
        "    </tr>\n",
        "    <tr>\n",
        "      <th>311</th>\n",
        "      <td>     yoyothetricky@gmail.com</td>\n",
        "      <td> 2</td>\n",
        "    </tr>\n",
        "    <tr>\n",
        "      <th>312</th>\n",
        "      <td>         yulbiba@hotmail.com</td>\n",
        "      <td> 1</td>\n",
        "    </tr>\n",
        "    <tr>\n",
        "      <th>313</th>\n",
        "      <td>         zeinriham@gmail.com</td>\n",
        "      <td> 1</td>\n",
        "    </tr>\n",
        "    <tr>\n",
        "      <th>314</th>\n",
        "      <td>         ziadusama@ymail.com</td>\n",
        "      <td> 1</td>\n",
        "    </tr>\n",
        "    <tr>\n",
        "      <th>315</th>\n",
        "      <td>         zshafei@outlook.com</td>\n",
        "      <td> 1</td>\n",
        "    </tr>\n",
        "  </tbody>\n",
        "</table>\n",
        "<p>316 rows \u00d7 2 columns</p>\n",
        "</div>"
       ],
       "metadata": {},
       "output_type": "pyout",
       "prompt_number": 14,
       "text": [
        "                           Email  Count\n",
        "0      1youniqueflower@gmail.com      1\n",
        "1        Aliamossallam@gmail.com      1\n",
        "2    Camillia.Marmoush@gmail.com      1\n",
        "3           Daiieldeeb@gmail.com      1\n",
        "4         Eng_kozman@hotmail.com      1\n",
        "5        Hananadel17@hotmail.com      2\n",
        "6           Missilou11@yahoo.com      1\n",
        "7         RODY.DOVE123@GMAIL.COM      1\n",
        "8         Rajvinderk@hotmail.com      1\n",
        "9            Tarek@ngs-egypt.com      1\n",
        "10          YOUSRA21@HOTMAIL.COM      3\n",
        "11       a.hamza@unicare-hmo.com      1\n",
        "12             afmansour@msn.com      2\n",
        "13        agaber.cairo@gmail.com      1\n",
        "14       ahmadtarek255@yahoo.com      1\n",
        "15        ahmed.fakhry@gmail.com      1\n",
        "16         ahmed_gaafar@live.com      1\n",
        "17             akehela@gmail.com      4\n",
        "18         alaa_dief@hotmail.com      1\n",
        "19             aleheta@gmail.com      1\n",
        "20           alia__0@hotmail.com      2\n",
        "21         alinicola92@gmail.com      1\n",
        "22        amaghraby@mediawave.me      2\n",
        "23        amalakhnoukh@gmail.com      1\n",
        "24   amani_alshorafa@hotmail.com      1\n",
        "25        ambergacosta@yahoo.com      1\n",
        "26       amiraelsawy17@gmail.com      1\n",
        "27           amirmatar@gmail.com      1\n",
        "28            amzaher3@yahoo.com      2\n",
        "29      andreameza5683@yahoo.com      3\n",
        "..                           ...    ...\n",
        "286         soraya_w@hotmail.com      1\n",
        "287           sserag83@gmail.com      1\n",
        "288       sunset_456@hotmail.com      2\n",
        "289         suzieagami@gmail.com      1\n",
        "290        t.sarhan@ntsegypt.com      1\n",
        "291         tamerafifi@ymail.com      1\n",
        "292          tarek@ngs-egypt.com      4\n",
        "293     tarek_seddik@hotmail.com      2\n",
        "294     tawakol.noreen@gmail.com      1\n",
        "295       thefairy1727@gmail.com      1\n",
        "296       thisisjbrown@gmail.com      1\n",
        "297           tyomna@hotmail.com      1\n",
        "298           viebelle@yahoo.com      1\n",
        "299       wahibhunter@icloud.com      3\n",
        "300    walaaessameldin@gmail.com      1\n",
        "301    walton.jennifer@gmail.com      2\n",
        "302        wessam.alfy@gmail.com      1\n",
        "303             whomsy@gmail.com      1\n",
        "304        yaboulenein@gmail.com      1\n",
        "305          yara.azam@gmail.com      1\n",
        "306        yarahmed@aucegypt.edu      1\n",
        "307           yehyar@yahoo.co.uk      1\n",
        "308         ygabbas9@hotmail.com      3\n",
        "309   youssef.r@ramses-group.com      1\n",
        "310      youssra_kamal@yahoo.com      1\n",
        "311      yoyothetricky@gmail.com      2\n",
        "312          yulbiba@hotmail.com      1\n",
        "313          zeinriham@gmail.com      1\n",
        "314          ziadusama@ymail.com      1\n",
        "315          zshafei@outlook.com      1\n",
        "\n",
        "[316 rows x 2 columns]"
       ]
      }
     ],
     "prompt_number": 14
    },
    {
     "cell_type": "code",
     "collapsed": false,
     "input": [
      "#count number of times a customer has ordered\n",
      "df2['Count'] = 1\n",
      "df2 = df2[['Email', 'Count']]\n",
      "df2 = df2.groupby(['Email'], axis = 0, as_index=False).sum()\n",
      "df2"
     ],
     "language": "python",
     "metadata": {},
     "outputs": [
      {
       "html": [
        "<div style=\"max-height:1000px;max-width:1500px;overflow:auto;\">\n",
        "<table border=\"1\" class=\"dataframe\">\n",
        "  <thead>\n",
        "    <tr style=\"text-align: right;\">\n",
        "      <th></th>\n",
        "      <th>Email</th>\n",
        "      <th>Count</th>\n",
        "    </tr>\n",
        "  </thead>\n",
        "  <tbody>\n",
        "    <tr>\n",
        "      <th>0  </th>\n",
        "      <td>         Aliamossallam@gmail.com</td>\n",
        "      <td> 1</td>\n",
        "    </tr>\n",
        "    <tr>\n",
        "      <th>1  </th>\n",
        "      <td>            Daiieldeeb@gmail.com</td>\n",
        "      <td> 1</td>\n",
        "    </tr>\n",
        "    <tr>\n",
        "      <th>2  </th>\n",
        "      <td>          Eng_kozman@hotmail.com</td>\n",
        "      <td> 1</td>\n",
        "    </tr>\n",
        "    <tr>\n",
        "      <th>3  </th>\n",
        "      <td>         Hananadel17@hotmail.com</td>\n",
        "      <td> 2</td>\n",
        "    </tr>\n",
        "    <tr>\n",
        "      <th>4  </th>\n",
        "      <td>            Missilou11@yahoo.com</td>\n",
        "      <td> 1</td>\n",
        "    </tr>\n",
        "    <tr>\n",
        "      <th>5  </th>\n",
        "      <td>          RODY.DOVE123@GMAIL.COM</td>\n",
        "      <td> 1</td>\n",
        "    </tr>\n",
        "    <tr>\n",
        "      <th>6  </th>\n",
        "      <td>         a.hamza@unicare-hmo.com</td>\n",
        "      <td> 1</td>\n",
        "    </tr>\n",
        "    <tr>\n",
        "      <th>7  </th>\n",
        "      <td>               afmansour@msn.com</td>\n",
        "      <td> 2</td>\n",
        "    </tr>\n",
        "    <tr>\n",
        "      <th>8  </th>\n",
        "      <td>         ahmadtarek255@yahoo.com</td>\n",
        "      <td> 1</td>\n",
        "    </tr>\n",
        "    <tr>\n",
        "      <th>9  </th>\n",
        "      <td>          ahmed.fakhry@gmail.com</td>\n",
        "      <td> 1</td>\n",
        "    </tr>\n",
        "    <tr>\n",
        "      <th>10 </th>\n",
        "      <td>           ahmed_gaafar@live.com</td>\n",
        "      <td> 1</td>\n",
        "    </tr>\n",
        "    <tr>\n",
        "      <th>11 </th>\n",
        "      <td>               akehela@gmail.com</td>\n",
        "      <td> 2</td>\n",
        "    </tr>\n",
        "    <tr>\n",
        "      <th>12 </th>\n",
        "      <td>             alia__0@hotmail.com</td>\n",
        "      <td> 2</td>\n",
        "    </tr>\n",
        "    <tr>\n",
        "      <th>13 </th>\n",
        "      <td>           alinicola92@gmail.com</td>\n",
        "      <td> 1</td>\n",
        "    </tr>\n",
        "    <tr>\n",
        "      <th>14 </th>\n",
        "      <td>          amaghraby@mediawave.me</td>\n",
        "      <td> 1</td>\n",
        "    </tr>\n",
        "    <tr>\n",
        "      <th>15 </th>\n",
        "      <td>          amalakhnoukh@gmail.com</td>\n",
        "      <td> 1</td>\n",
        "    </tr>\n",
        "    <tr>\n",
        "      <th>16 </th>\n",
        "      <td>     amani_alshorafa@hotmail.com</td>\n",
        "      <td> 1</td>\n",
        "    </tr>\n",
        "    <tr>\n",
        "      <th>17 </th>\n",
        "      <td>         amiraelsawy17@gmail.com</td>\n",
        "      <td> 1</td>\n",
        "    </tr>\n",
        "    <tr>\n",
        "      <th>18 </th>\n",
        "      <td>             amirmatar@gmail.com</td>\n",
        "      <td> 1</td>\n",
        "    </tr>\n",
        "    <tr>\n",
        "      <th>19 </th>\n",
        "      <td>        andreameza5683@yahoo.com</td>\n",
        "      <td> 2</td>\n",
        "    </tr>\n",
        "    <tr>\n",
        "      <th>20 </th>\n",
        "      <td>                angaka@gmail.com</td>\n",
        "      <td> 1</td>\n",
        "    </tr>\n",
        "    <tr>\n",
        "      <th>21 </th>\n",
        "      <td>           anne.hafez@icloud.com</td>\n",
        "      <td> 1</td>\n",
        "    </tr>\n",
        "    <tr>\n",
        "      <th>22 </th>\n",
        "      <td>           asooome1415@gmail.com</td>\n",
        "      <td> 1</td>\n",
        "    </tr>\n",
        "    <tr>\n",
        "      <th>23 </th>\n",
        "      <td>          aurelierab@hotmail.com</td>\n",
        "      <td> 1</td>\n",
        "    </tr>\n",
        "    <tr>\n",
        "      <th>24 </th>\n",
        "      <td>                ayads@icloud.com</td>\n",
        "      <td> 1</td>\n",
        "    </tr>\n",
        "    <tr>\n",
        "      <th>25 </th>\n",
        "      <td>             azhary@aucegypt.edu</td>\n",
        "      <td> 1</td>\n",
        "    </tr>\n",
        "    <tr>\n",
        "      <th>26 </th>\n",
        "      <td>                bebz69@gmail.com</td>\n",
        "      <td> 3</td>\n",
        "    </tr>\n",
        "    <tr>\n",
        "      <th>27 </th>\n",
        "      <td>      berylegibson@hotmail.co.uk</td>\n",
        "      <td> 1</td>\n",
        "    </tr>\n",
        "    <tr>\n",
        "      <th>28 </th>\n",
        "      <td>             blackie98@yahoo.com</td>\n",
        "      <td> 1</td>\n",
        "    </tr>\n",
        "    <tr>\n",
        "      <th>29 </th>\n",
        "      <td>              carodoss@gmail.com</td>\n",
        "      <td> 6</td>\n",
        "    </tr>\n",
        "    <tr>\n",
        "      <th>...</th>\n",
        "      <td>...</td>\n",
        "      <td>...</td>\n",
        "    </tr>\n",
        "    <tr>\n",
        "      <th>198</th>\n",
        "      <td>              saraseif7@live.com</td>\n",
        "      <td> 1</td>\n",
        "    </tr>\n",
        "    <tr>\n",
        "      <th>199</th>\n",
        "      <td>         shahindasaudi@yahoo.com</td>\n",
        "      <td> 1</td>\n",
        "    </tr>\n",
        "    <tr>\n",
        "      <th>200</th>\n",
        "      <td> shaimaa.abdelhameed37@gmail.com</td>\n",
        "      <td> 1</td>\n",
        "    </tr>\n",
        "    <tr>\n",
        "      <th>201</th>\n",
        "      <td>          shamanadia@hotmail.com</td>\n",
        "      <td> 1</td>\n",
        "    </tr>\n",
        "    <tr>\n",
        "      <th>202</th>\n",
        "      <td>       shazasalaheldin@gmail.com</td>\n",
        "      <td> 2</td>\n",
        "    </tr>\n",
        "    <tr>\n",
        "      <th>203</th>\n",
        "      <td>          sherine789@hotmail.com</td>\n",
        "      <td> 1</td>\n",
        "    </tr>\n",
        "    <tr>\n",
        "      <th>204</th>\n",
        "      <td>           skyandapple@gmail.com</td>\n",
        "      <td> 1</td>\n",
        "    </tr>\n",
        "    <tr>\n",
        "      <th>205</th>\n",
        "      <td>              smorayef@gmail.com</td>\n",
        "      <td> 1</td>\n",
        "    </tr>\n",
        "    <tr>\n",
        "      <th>206</th>\n",
        "      <td>         soha.abdelaty@gmail.com</td>\n",
        "      <td> 1</td>\n",
        "    </tr>\n",
        "    <tr>\n",
        "      <th>207</th>\n",
        "      <td>         sonja.langweb@gmail.com</td>\n",
        "      <td> 1</td>\n",
        "    </tr>\n",
        "    <tr>\n",
        "      <th>208</th>\n",
        "      <td>            soraya_w@hotmail.com</td>\n",
        "      <td> 1</td>\n",
        "    </tr>\n",
        "    <tr>\n",
        "      <th>209</th>\n",
        "      <td>              sserag83@gmail.com</td>\n",
        "      <td> 1</td>\n",
        "    </tr>\n",
        "    <tr>\n",
        "      <th>210</th>\n",
        "      <td>          sunset_456@hotmail.com</td>\n",
        "      <td> 2</td>\n",
        "    </tr>\n",
        "    <tr>\n",
        "      <th>211</th>\n",
        "      <td>             tarek@ngs-egypt.com</td>\n",
        "      <td> 3</td>\n",
        "    </tr>\n",
        "    <tr>\n",
        "      <th>212</th>\n",
        "      <td>        tarek_seddik@hotmail.com</td>\n",
        "      <td> 2</td>\n",
        "    </tr>\n",
        "    <tr>\n",
        "      <th>213</th>\n",
        "      <td>        tawakol.noreen@gmail.com</td>\n",
        "      <td> 1</td>\n",
        "    </tr>\n",
        "    <tr>\n",
        "      <th>214</th>\n",
        "      <td>          thefairy1727@gmail.com</td>\n",
        "      <td> 1</td>\n",
        "    </tr>\n",
        "    <tr>\n",
        "      <th>215</th>\n",
        "      <td>              tyomna@hotmail.com</td>\n",
        "      <td> 1</td>\n",
        "    </tr>\n",
        "    <tr>\n",
        "      <th>216</th>\n",
        "      <td>              viebelle@yahoo.com</td>\n",
        "      <td> 1</td>\n",
        "    </tr>\n",
        "    <tr>\n",
        "      <th>217</th>\n",
        "      <td>          wahibhunter@icloud.com</td>\n",
        "      <td> 1</td>\n",
        "    </tr>\n",
        "    <tr>\n",
        "      <th>218</th>\n",
        "      <td>       walton.jennifer@gmail.com</td>\n",
        "      <td> 2</td>\n",
        "    </tr>\n",
        "    <tr>\n",
        "      <th>219</th>\n",
        "      <td>                whomsy@gmail.com</td>\n",
        "      <td> 1</td>\n",
        "    </tr>\n",
        "    <tr>\n",
        "      <th>220</th>\n",
        "      <td>             yara.azam@gmail.com</td>\n",
        "      <td> 1</td>\n",
        "    </tr>\n",
        "    <tr>\n",
        "      <th>221</th>\n",
        "      <td>           yarahmed@aucegypt.edu</td>\n",
        "      <td> 1</td>\n",
        "    </tr>\n",
        "    <tr>\n",
        "      <th>222</th>\n",
        "      <td>            ygabbas9@hotmail.com</td>\n",
        "      <td> 3</td>\n",
        "    </tr>\n",
        "    <tr>\n",
        "      <th>223</th>\n",
        "      <td>      youssef.r@ramses-group.com</td>\n",
        "      <td> 1</td>\n",
        "    </tr>\n",
        "    <tr>\n",
        "      <th>224</th>\n",
        "      <td>         yoyothetricky@gmail.com</td>\n",
        "      <td> 2</td>\n",
        "    </tr>\n",
        "    <tr>\n",
        "      <th>225</th>\n",
        "      <td>             yulbiba@hotmail.com</td>\n",
        "      <td> 1</td>\n",
        "    </tr>\n",
        "    <tr>\n",
        "      <th>226</th>\n",
        "      <td>             ziadusama@ymail.com</td>\n",
        "      <td> 1</td>\n",
        "    </tr>\n",
        "    <tr>\n",
        "      <th>227</th>\n",
        "      <td>             zshafei@outlook.com</td>\n",
        "      <td> 1</td>\n",
        "    </tr>\n",
        "  </tbody>\n",
        "</table>\n",
        "<p>228 rows \u00d7 2 columns</p>\n",
        "</div>"
       ],
       "metadata": {},
       "output_type": "pyout",
       "prompt_number": 15,
       "text": [
        "                               Email  Count\n",
        "0            Aliamossallam@gmail.com      1\n",
        "1               Daiieldeeb@gmail.com      1\n",
        "2             Eng_kozman@hotmail.com      1\n",
        "3            Hananadel17@hotmail.com      2\n",
        "4               Missilou11@yahoo.com      1\n",
        "5             RODY.DOVE123@GMAIL.COM      1\n",
        "6            a.hamza@unicare-hmo.com      1\n",
        "7                  afmansour@msn.com      2\n",
        "8            ahmadtarek255@yahoo.com      1\n",
        "9             ahmed.fakhry@gmail.com      1\n",
        "10             ahmed_gaafar@live.com      1\n",
        "11                 akehela@gmail.com      2\n",
        "12               alia__0@hotmail.com      2\n",
        "13             alinicola92@gmail.com      1\n",
        "14            amaghraby@mediawave.me      1\n",
        "15            amalakhnoukh@gmail.com      1\n",
        "16       amani_alshorafa@hotmail.com      1\n",
        "17           amiraelsawy17@gmail.com      1\n",
        "18               amirmatar@gmail.com      1\n",
        "19          andreameza5683@yahoo.com      2\n",
        "20                  angaka@gmail.com      1\n",
        "21             anne.hafez@icloud.com      1\n",
        "22             asooome1415@gmail.com      1\n",
        "23            aurelierab@hotmail.com      1\n",
        "24                  ayads@icloud.com      1\n",
        "25               azhary@aucegypt.edu      1\n",
        "26                  bebz69@gmail.com      3\n",
        "27        berylegibson@hotmail.co.uk      1\n",
        "28               blackie98@yahoo.com      1\n",
        "29                carodoss@gmail.com      6\n",
        "..                               ...    ...\n",
        "198               saraseif7@live.com      1\n",
        "199          shahindasaudi@yahoo.com      1\n",
        "200  shaimaa.abdelhameed37@gmail.com      1\n",
        "201           shamanadia@hotmail.com      1\n",
        "202        shazasalaheldin@gmail.com      2\n",
        "203           sherine789@hotmail.com      1\n",
        "204            skyandapple@gmail.com      1\n",
        "205               smorayef@gmail.com      1\n",
        "206          soha.abdelaty@gmail.com      1\n",
        "207          sonja.langweb@gmail.com      1\n",
        "208             soraya_w@hotmail.com      1\n",
        "209               sserag83@gmail.com      1\n",
        "210           sunset_456@hotmail.com      2\n",
        "211              tarek@ngs-egypt.com      3\n",
        "212         tarek_seddik@hotmail.com      2\n",
        "213         tawakol.noreen@gmail.com      1\n",
        "214           thefairy1727@gmail.com      1\n",
        "215               tyomna@hotmail.com      1\n",
        "216               viebelle@yahoo.com      1\n",
        "217           wahibhunter@icloud.com      1\n",
        "218        walton.jennifer@gmail.com      2\n",
        "219                 whomsy@gmail.com      1\n",
        "220              yara.azam@gmail.com      1\n",
        "221            yarahmed@aucegypt.edu      1\n",
        "222             ygabbas9@hotmail.com      3\n",
        "223       youssef.r@ramses-group.com      1\n",
        "224          yoyothetricky@gmail.com      2\n",
        "225              yulbiba@hotmail.com      1\n",
        "226              ziadusama@ymail.com      1\n",
        "227              zshafei@outlook.com      1\n",
        "\n",
        "[228 rows x 2 columns]"
       ]
      }
     ],
     "prompt_number": 15
    },
    {
     "cell_type": "code",
     "collapsed": false,
     "input": [
      "#retain all cutomers who ordered more than once\n",
      "df = df[(df.Count > 1)]\n",
      "df = df.drop_duplicates().reset_index().drop('index',1)\n",
      "df"
     ],
     "language": "python",
     "metadata": {},
     "outputs": [
      {
       "html": [
        "<div style=\"max-height:1000px;max-width:1500px;overflow:auto;\">\n",
        "<table border=\"1\" class=\"dataframe\">\n",
        "  <thead>\n",
        "    <tr style=\"text-align: right;\">\n",
        "      <th></th>\n",
        "      <th>Email</th>\n",
        "      <th>Count</th>\n",
        "    </tr>\n",
        "  </thead>\n",
        "  <tbody>\n",
        "    <tr>\n",
        "      <th>0 </th>\n",
        "      <td>    Hananadel17@hotmail.com</td>\n",
        "      <td> 2</td>\n",
        "    </tr>\n",
        "    <tr>\n",
        "      <th>1 </th>\n",
        "      <td>       YOUSRA21@HOTMAIL.COM</td>\n",
        "      <td> 3</td>\n",
        "    </tr>\n",
        "    <tr>\n",
        "      <th>2 </th>\n",
        "      <td>          afmansour@msn.com</td>\n",
        "      <td> 2</td>\n",
        "    </tr>\n",
        "    <tr>\n",
        "      <th>3 </th>\n",
        "      <td>          akehela@gmail.com</td>\n",
        "      <td> 4</td>\n",
        "    </tr>\n",
        "    <tr>\n",
        "      <th>4 </th>\n",
        "      <td>        alia__0@hotmail.com</td>\n",
        "      <td> 2</td>\n",
        "    </tr>\n",
        "    <tr>\n",
        "      <th>5 </th>\n",
        "      <td>     amaghraby@mediawave.me</td>\n",
        "      <td> 2</td>\n",
        "    </tr>\n",
        "    <tr>\n",
        "      <th>6 </th>\n",
        "      <td>         amzaher3@yahoo.com</td>\n",
        "      <td> 2</td>\n",
        "    </tr>\n",
        "    <tr>\n",
        "      <th>7 </th>\n",
        "      <td>   andreameza5683@yahoo.com</td>\n",
        "      <td> 3</td>\n",
        "    </tr>\n",
        "    <tr>\n",
        "      <th>8 </th>\n",
        "      <td>      anne.hafez@icloud.com</td>\n",
        "      <td> 2</td>\n",
        "    </tr>\n",
        "    <tr>\n",
        "      <th>9 </th>\n",
        "      <td>     aurelierab@hotmail.com</td>\n",
        "      <td> 2</td>\n",
        "    </tr>\n",
        "    <tr>\n",
        "      <th>10</th>\n",
        "      <td>           ayads@icloud.com</td>\n",
        "      <td> 2</td>\n",
        "    </tr>\n",
        "    <tr>\n",
        "      <th>11</th>\n",
        "      <td>           bebz69@gmail.com</td>\n",
        "      <td> 4</td>\n",
        "    </tr>\n",
        "    <tr>\n",
        "      <th>12</th>\n",
        "      <td>         carodoss@gmail.com</td>\n",
        "      <td> 9</td>\n",
        "    </tr>\n",
        "    <tr>\n",
        "      <th>13</th>\n",
        "      <td>      danadinnawi@gmail.com</td>\n",
        "      <td> 2</td>\n",
        "    </tr>\n",
        "    <tr>\n",
        "      <th>14</th>\n",
        "      <td>    dinahamama@aucegypt.edu</td>\n",
        "      <td> 2</td>\n",
        "    </tr>\n",
        "    <tr>\n",
        "      <th>15</th>\n",
        "      <td>     doaa.khattab@gmail.com</td>\n",
        "      <td> 2</td>\n",
        "    </tr>\n",
        "    <tr>\n",
        "      <th>16</th>\n",
        "      <td>      ehabsheikal@gmail.com</td>\n",
        "      <td> 2</td>\n",
        "    </tr>\n",
        "    <tr>\n",
        "      <th>17</th>\n",
        "      <td>       ekramegypt@gmail.com</td>\n",
        "      <td> 2</td>\n",
        "    </tr>\n",
        "    <tr>\n",
        "      <th>18</th>\n",
        "      <td>       elalaily@hotmail.com</td>\n",
        "      <td> 2</td>\n",
        "    </tr>\n",
        "    <tr>\n",
        "      <th>19</th>\n",
        "      <td>      elkadyrasha@gmail.com</td>\n",
        "      <td> 2</td>\n",
        "    </tr>\n",
        "    <tr>\n",
        "      <th>20</th>\n",
        "      <td>     eltoukhy.ali@gmail.com</td>\n",
        "      <td> 2</td>\n",
        "    </tr>\n",
        "    <tr>\n",
        "      <th>21</th>\n",
        "      <td>     enasbary2014@gmail.com</td>\n",
        "      <td> 7</td>\n",
        "    </tr>\n",
        "    <tr>\n",
        "      <th>22</th>\n",
        "      <td>        engywasfy@gmail.com</td>\n",
        "      <td> 5</td>\n",
        "    </tr>\n",
        "    <tr>\n",
        "      <th>23</th>\n",
        "      <td>     esmat_diab@hotmail.com</td>\n",
        "      <td> 2</td>\n",
        "    </tr>\n",
        "    <tr>\n",
        "      <th>24</th>\n",
        "      <td>    farida.tawfik@gmail.com</td>\n",
        "      <td> 2</td>\n",
        "    </tr>\n",
        "    <tr>\n",
        "      <th>25</th>\n",
        "      <td>           flynat@gmail.com</td>\n",
        "      <td> 2</td>\n",
        "    </tr>\n",
        "    <tr>\n",
        "      <th>26</th>\n",
        "      <td>      hasan.yueel@yesim.com</td>\n",
        "      <td> 2</td>\n",
        "    </tr>\n",
        "    <tr>\n",
        "      <th>27</th>\n",
        "      <td>   heba.mohamed97@gmail.com</td>\n",
        "      <td> 4</td>\n",
        "    </tr>\n",
        "    <tr>\n",
        "      <th>28</th>\n",
        "      <td>     hebahassan62@yahoo.com</td>\n",
        "      <td> 3</td>\n",
        "    </tr>\n",
        "    <tr>\n",
        "      <th>29</th>\n",
        "      <td>   hebahebaheba90@gmail.com</td>\n",
        "      <td> 2</td>\n",
        "    </tr>\n",
        "    <tr>\n",
        "      <th>...</th>\n",
        "      <td>...</td>\n",
        "      <td>...</td>\n",
        "    </tr>\n",
        "    <tr>\n",
        "      <th>50</th>\n",
        "      <td>   nadaelsheikh10@gmail.com</td>\n",
        "      <td> 2</td>\n",
        "    </tr>\n",
        "    <tr>\n",
        "      <th>51</th>\n",
        "      <td> nadiaaboutaleb@hotmail.com</td>\n",
        "      <td> 4</td>\n",
        "    </tr>\n",
        "    <tr>\n",
        "      <th>52</th>\n",
        "      <td>      nadine_w@aucegypt.edu</td>\n",
        "      <td> 2</td>\n",
        "    </tr>\n",
        "    <tr>\n",
        "      <th>53</th>\n",
        "      <td>        nhalbouny@yahoo.com</td>\n",
        "      <td> 2</td>\n",
        "    </tr>\n",
        "    <tr>\n",
        "      <th>54</th>\n",
        "      <td>    nohaismail@aucegypt.edu</td>\n",
        "      <td> 3</td>\n",
        "    </tr>\n",
        "    <tr>\n",
        "      <th>55</th>\n",
        "      <td>   noura_gwanny@hotmail.com</td>\n",
        "      <td> 3</td>\n",
        "    </tr>\n",
        "    <tr>\n",
        "      <th>56</th>\n",
        "      <td>      ola.mahfouz@gmail.com</td>\n",
        "      <td> 2</td>\n",
        "    </tr>\n",
        "    <tr>\n",
        "      <th>57</th>\n",
        "      <td>       oshahavi13@gmail.com</td>\n",
        "      <td> 3</td>\n",
        "    </tr>\n",
        "    <tr>\n",
        "      <th>58</th>\n",
        "      <td>  passantalaa87@hotmail.com</td>\n",
        "      <td> 3</td>\n",
        "    </tr>\n",
        "    <tr>\n",
        "      <th>59</th>\n",
        "      <td>         persefia@yahoo.com</td>\n",
        "      <td> 3</td>\n",
        "    </tr>\n",
        "    <tr>\n",
        "      <th>60</th>\n",
        "      <td>   petrameyer11@hotmail.com</td>\n",
        "      <td> 2</td>\n",
        "    </tr>\n",
        "    <tr>\n",
        "      <th>61</th>\n",
        "      <td>     purloveple@hotmail.com</td>\n",
        "      <td> 4</td>\n",
        "    </tr>\n",
        "    <tr>\n",
        "      <th>62</th>\n",
        "      <td>        rasha@lilandkim.com</td>\n",
        "      <td> 2</td>\n",
        "    </tr>\n",
        "    <tr>\n",
        "      <th>63</th>\n",
        "      <td>        rashahome@yahoo.com</td>\n",
        "      <td> 2</td>\n",
        "    </tr>\n",
        "    <tr>\n",
        "      <th>64</th>\n",
        "      <td>        rawiasalem@yahoo.fr</td>\n",
        "      <td> 2</td>\n",
        "    </tr>\n",
        "    <tr>\n",
        "      <th>65</th>\n",
        "      <td>     reem-selim@hotmail.com</td>\n",
        "      <td> 2</td>\n",
        "    </tr>\n",
        "    <tr>\n",
        "      <th>66</th>\n",
        "      <td>          rseoudi@gmail.com</td>\n",
        "      <td> 2</td>\n",
        "    </tr>\n",
        "    <tr>\n",
        "      <th>67</th>\n",
        "      <td>       sally779@hotmail.com</td>\n",
        "      <td> 2</td>\n",
        "    </tr>\n",
        "    <tr>\n",
        "      <th>68</th>\n",
        "      <td>            sand4@yandex.ru</td>\n",
        "      <td> 3</td>\n",
        "    </tr>\n",
        "    <tr>\n",
        "      <th>69</th>\n",
        "      <td>    sandra.atteya@gmail.com</td>\n",
        "      <td> 4</td>\n",
        "    </tr>\n",
        "    <tr>\n",
        "      <th>70</th>\n",
        "      <td>    sarahelderini@gmail.com</td>\n",
        "      <td> 3</td>\n",
        "    </tr>\n",
        "    <tr>\n",
        "      <th>71</th>\n",
        "      <td>  shazasalaheldin@gmail.com</td>\n",
        "      <td> 4</td>\n",
        "    </tr>\n",
        "    <tr>\n",
        "      <th>72</th>\n",
        "      <td>         smorayef@gmail.com</td>\n",
        "      <td> 2</td>\n",
        "    </tr>\n",
        "    <tr>\n",
        "      <th>73</th>\n",
        "      <td>     sunset_456@hotmail.com</td>\n",
        "      <td> 2</td>\n",
        "    </tr>\n",
        "    <tr>\n",
        "      <th>74</th>\n",
        "      <td>        tarek@ngs-egypt.com</td>\n",
        "      <td> 4</td>\n",
        "    </tr>\n",
        "    <tr>\n",
        "      <th>75</th>\n",
        "      <td>   tarek_seddik@hotmail.com</td>\n",
        "      <td> 2</td>\n",
        "    </tr>\n",
        "    <tr>\n",
        "      <th>76</th>\n",
        "      <td>     wahibhunter@icloud.com</td>\n",
        "      <td> 3</td>\n",
        "    </tr>\n",
        "    <tr>\n",
        "      <th>77</th>\n",
        "      <td>  walton.jennifer@gmail.com</td>\n",
        "      <td> 2</td>\n",
        "    </tr>\n",
        "    <tr>\n",
        "      <th>78</th>\n",
        "      <td>       ygabbas9@hotmail.com</td>\n",
        "      <td> 3</td>\n",
        "    </tr>\n",
        "    <tr>\n",
        "      <th>79</th>\n",
        "      <td>    yoyothetricky@gmail.com</td>\n",
        "      <td> 2</td>\n",
        "    </tr>\n",
        "  </tbody>\n",
        "</table>\n",
        "<p>80 rows \u00d7 2 columns</p>\n",
        "</div>"
       ],
       "metadata": {},
       "output_type": "pyout",
       "prompt_number": 16,
       "text": [
        "                         Email  Count\n",
        "0      Hananadel17@hotmail.com      2\n",
        "1         YOUSRA21@HOTMAIL.COM      3\n",
        "2            afmansour@msn.com      2\n",
        "3            akehela@gmail.com      4\n",
        "4          alia__0@hotmail.com      2\n",
        "5       amaghraby@mediawave.me      2\n",
        "6           amzaher3@yahoo.com      2\n",
        "7     andreameza5683@yahoo.com      3\n",
        "8        anne.hafez@icloud.com      2\n",
        "9       aurelierab@hotmail.com      2\n",
        "10            ayads@icloud.com      2\n",
        "11            bebz69@gmail.com      4\n",
        "12          carodoss@gmail.com      9\n",
        "13       danadinnawi@gmail.com      2\n",
        "14     dinahamama@aucegypt.edu      2\n",
        "15      doaa.khattab@gmail.com      2\n",
        "16       ehabsheikal@gmail.com      2\n",
        "17        ekramegypt@gmail.com      2\n",
        "18        elalaily@hotmail.com      2\n",
        "19       elkadyrasha@gmail.com      2\n",
        "20      eltoukhy.ali@gmail.com      2\n",
        "21      enasbary2014@gmail.com      7\n",
        "22         engywasfy@gmail.com      5\n",
        "23      esmat_diab@hotmail.com      2\n",
        "24     farida.tawfik@gmail.com      2\n",
        "25            flynat@gmail.com      2\n",
        "26       hasan.yueel@yesim.com      2\n",
        "27    heba.mohamed97@gmail.com      4\n",
        "28      hebahassan62@yahoo.com      3\n",
        "29    hebahebaheba90@gmail.com      2\n",
        "..                         ...    ...\n",
        "50    nadaelsheikh10@gmail.com      2\n",
        "51  nadiaaboutaleb@hotmail.com      4\n",
        "52       nadine_w@aucegypt.edu      2\n",
        "53         nhalbouny@yahoo.com      2\n",
        "54     nohaismail@aucegypt.edu      3\n",
        "55    noura_gwanny@hotmail.com      3\n",
        "56       ola.mahfouz@gmail.com      2\n",
        "57        oshahavi13@gmail.com      3\n",
        "58   passantalaa87@hotmail.com      3\n",
        "59          persefia@yahoo.com      3\n",
        "60    petrameyer11@hotmail.com      2\n",
        "61      purloveple@hotmail.com      4\n",
        "62         rasha@lilandkim.com      2\n",
        "63         rashahome@yahoo.com      2\n",
        "64         rawiasalem@yahoo.fr      2\n",
        "65      reem-selim@hotmail.com      2\n",
        "66           rseoudi@gmail.com      2\n",
        "67        sally779@hotmail.com      2\n",
        "68             sand4@yandex.ru      3\n",
        "69     sandra.atteya@gmail.com      4\n",
        "70     sarahelderini@gmail.com      3\n",
        "71   shazasalaheldin@gmail.com      4\n",
        "72          smorayef@gmail.com      2\n",
        "73      sunset_456@hotmail.com      2\n",
        "74         tarek@ngs-egypt.com      4\n",
        "75    tarek_seddik@hotmail.com      2\n",
        "76      wahibhunter@icloud.com      3\n",
        "77   walton.jennifer@gmail.com      2\n",
        "78        ygabbas9@hotmail.com      3\n",
        "79     yoyothetricky@gmail.com      2\n",
        "\n",
        "[80 rows x 2 columns]"
       ]
      }
     ],
     "prompt_number": 16
    },
    {
     "cell_type": "code",
     "collapsed": false,
     "input": [
      "#new df with all required columns, assign values to columns\n",
      "df3 = pd.DataFrame(columns = ['Cutomers 30 days', 'Cutomers 20 days', 'Total Count', 'Retention Rate', 'Regular Customers'])\n",
      "df3.loc[0, 'Cutomers 30 days'] = max(df.index) + 1\n",
      "df3.loc[0, 'Cutomers 20 days'] = max(df2.index) + 1\n",
      "df3.loc[0, 'Total Count'] = max(df1.index) + 1\n",
      "df3.loc[0, 'Retention Rate'] = df3.loc[0, 'Cutomers 30 days']/float(df3.loc[0, 'Total Count'])\n",
      "df3.loc[0, 'Regular Customers'] = df3.loc[0, 'Cutomers 20 days']/float(df3.loc[0, 'Total Count'])\n",
      "df3"
     ],
     "language": "python",
     "metadata": {},
     "outputs": [
      {
       "html": [
        "<div style=\"max-height:1000px;max-width:1500px;overflow:auto;\">\n",
        "<table border=\"1\" class=\"dataframe\">\n",
        "  <thead>\n",
        "    <tr style=\"text-align: right;\">\n",
        "      <th></th>\n",
        "      <th>Cutomers 30 days</th>\n",
        "      <th>Cutomers 20 days</th>\n",
        "      <th>Total Count</th>\n",
        "      <th>Retention Rate</th>\n",
        "      <th>Regular Customers</th>\n",
        "    </tr>\n",
        "  </thead>\n",
        "  <tbody>\n",
        "    <tr>\n",
        "      <th>0</th>\n",
        "      <td> 80</td>\n",
        "      <td> 228</td>\n",
        "      <td> 1508</td>\n",
        "      <td> 0.0530504</td>\n",
        "      <td> 0.1511936</td>\n",
        "    </tr>\n",
        "  </tbody>\n",
        "</table>\n",
        "</div>"
       ],
       "metadata": {},
       "output_type": "pyout",
       "prompt_number": 17,
       "text": [
        "  Cutomers 30 days Cutomers 20 days Total Count Retention Rate  \\\n",
        "0               80              228        1508      0.0530504   \n",
        "\n",
        "  Regular Customers  \n",
        "0         0.1511936  "
       ]
      }
     ],
     "prompt_number": 17
    },
    {
     "cell_type": "code",
     "collapsed": false,
     "input": [],
     "language": "python",
     "metadata": {},
     "outputs": []
    }
   ],
   "metadata": {}
  }
 ]
}
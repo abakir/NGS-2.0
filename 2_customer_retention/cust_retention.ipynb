{
 "metadata": {
  "name": "",
  "signature": "sha256:5e9a35b15a36df745e28824d052f178362c71a88d7079fb7329ad9f76e7883e9"
 },
 "nbformat": 3,
 "nbformat_minor": 0,
 "worksheets": [
  {
   "cells": [
    {
     "cell_type": "code",
     "collapsed": false,
     "input": [
      "#!/home/cloudera/local/lib/python2.6/site-packages/bin/python\n",
      "\n",
      "import pandas as pd\n",
      "from datetime import datetime, timedelta\n",
      "import re\n",
      "import yaml\n",
      "import logging\n",
      "import time\n",
      "import os\n",
      "\n",
      "with open(\"/home/cloudera/Documents/12_dashboard_tables/config.yaml\", 'r') as ymlfile:\n",
      "        cfg = yaml.load(ymlfile)\n",
      "        \n",
      "def make_sure_path_exists(path):\n",
      "    if (os.path.isdir(path) == False):\n",
      "        os.makedirs(path)\n",
      "\n",
      "make_sure_path_exists(cfg['root'] + cfg['dir_logs'])\n",
      "make_sure_path_exists(cfg['root']+cfg['dir_data_output'])\n",
      "\n",
      "# create logger\n",
      "logger = logging.getLogger(cfg['log_cust_retention'])\n",
      "logger.setLevel(logging.DEBUG)\n",
      "# create console handler and set level to debug\n",
      "ch = logging.FileHandler(cfg['root'] + cfg['dir_logs'] + cfg['log_cust_retention'] + \"_\" + time.strftime(\"%Y_%m_%d_%H_%M_%S\") + \".log\" )\n",
      "ch.setLevel(logging.DEBUG)\n",
      "# create formatter\n",
      "formatter = logging.Formatter(\"%(asctime)s - %(name)s - %(levelname)s - %(message)s\")\n",
      "# add formatter to ch\n",
      "ch.setFormatter(formatter)\n",
      "# add ch to logger\n",
      "logger.addHandler(ch)\n",
      "\n",
      "df = pd.read_csv(cfg['root']+cfg['dir_data_shopify']+cfg[\"ip_orders\"], low_memory=False)\n",
      "logger.debug(\"Data Frame df created\")"
     ],
     "language": "python",
     "metadata": {},
     "outputs": [],
     "prompt_number": 38
    },
    {
     "cell_type": "code",
     "collapsed": false,
     "input": [
      "#get required columns and rename\n",
      "df = df[['Email', 'Created at']] \n",
      "df.columns = ['Email', 'Date'] \n",
      "df.head()"
     ],
     "language": "python",
     "metadata": {},
     "outputs": [
      {
       "html": [
        "<div style=\"max-height:1000px;max-width:1500px;overflow:auto;\">\n",
        "<table border=\"1\" class=\"dataframe\">\n",
        "  <thead>\n",
        "    <tr style=\"text-align: right;\">\n",
        "      <th></th>\n",
        "      <th>Email</th>\n",
        "      <th>Date</th>\n",
        "    </tr>\n",
        "  </thead>\n",
        "  <tbody>\n",
        "    <tr>\n",
        "      <th>0</th>\n",
        "      <td> rehabmansour@gmail.com</td>\n",
        "      <td> 2015-12-23 20:33:51 +0200</td>\n",
        "    </tr>\n",
        "    <tr>\n",
        "      <th>1</th>\n",
        "      <td> rehabmansour@gmail.com</td>\n",
        "      <td> 2015-12-23 20:33:51 +0200</td>\n",
        "    </tr>\n",
        "    <tr>\n",
        "      <th>2</th>\n",
        "      <td> rehabmansour@gmail.com</td>\n",
        "      <td> 2015-12-23 20:33:51 +0200</td>\n",
        "    </tr>\n",
        "    <tr>\n",
        "      <th>3</th>\n",
        "      <td>    nabouheif@yahoo.com</td>\n",
        "      <td> 2015-12-23 20:00:17 +0200</td>\n",
        "    </tr>\n",
        "    <tr>\n",
        "      <th>4</th>\n",
        "      <td>    nabouheif@yahoo.com</td>\n",
        "      <td> 2015-12-23 20:00:17 +0200</td>\n",
        "    </tr>\n",
        "  </tbody>\n",
        "</table>\n",
        "</div>"
       ],
       "metadata": {},
       "output_type": "pyout",
       "prompt_number": 39,
       "text": [
        "                    Email                       Date\n",
        "0  rehabmansour@gmail.com  2015-12-23 20:33:51 +0200\n",
        "1  rehabmansour@gmail.com  2015-12-23 20:33:51 +0200\n",
        "2  rehabmansour@gmail.com  2015-12-23 20:33:51 +0200\n",
        "3     nabouheif@yahoo.com  2015-12-23 20:00:17 +0200\n",
        "4     nabouheif@yahoo.com  2015-12-23 20:00:17 +0200"
       ]
      }
     ],
     "prompt_number": 39
    },
    {
     "cell_type": "code",
     "collapsed": false,
     "input": [
      "#get only date from date in df\n",
      "def convertDate(data):\n",
      "    matchobj = re.match(r'(.*) (.*) (.*).*',data)\n",
      "    return matchobj.group(1)\n",
      "\n",
      "#get only date from new date created\n",
      "def convertNewDate(data):\n",
      "    matchobj = re.match(r'(.*) (.*).*',data)\n",
      "    return matchobj.group(1)\n",
      "\n",
      "#calculate days between two dates\n",
      "def days_between(d1, d2):\n",
      "    d1 = datetime.strptime(d1, \"%Y-%m-%d\")\n",
      "    d2 = datetime.strptime(d2, \"%Y-%m-%d\")\n",
      "    return (d2 - d1).days"
     ],
     "language": "python",
     "metadata": {},
     "outputs": [],
     "prompt_number": 40
    },
    {
     "cell_type": "code",
     "collapsed": false,
     "input": [
      "df.loc[:, 'Date'] = df.Date.apply(convertDate) \n",
      "df = df.drop_duplicates().reset_index().drop('index',1) #remove products with same names in single order\n",
      "df.head()"
     ],
     "language": "python",
     "metadata": {},
     "outputs": [
      {
       "html": [
        "<div style=\"max-height:1000px;max-width:1500px;overflow:auto;\">\n",
        "<table border=\"1\" class=\"dataframe\">\n",
        "  <thead>\n",
        "    <tr style=\"text-align: right;\">\n",
        "      <th></th>\n",
        "      <th>Email</th>\n",
        "      <th>Date</th>\n",
        "    </tr>\n",
        "  </thead>\n",
        "  <tbody>\n",
        "    <tr>\n",
        "      <th>0</th>\n",
        "      <td> rehabmansour@gmail.com</td>\n",
        "      <td> 2015-12-23</td>\n",
        "    </tr>\n",
        "    <tr>\n",
        "      <th>1</th>\n",
        "      <td>    nabouheif@yahoo.com</td>\n",
        "      <td> 2015-12-23</td>\n",
        "    </tr>\n",
        "    <tr>\n",
        "      <th>2</th>\n",
        "      <td> fracicardi@hotmail.com</td>\n",
        "      <td> 2015-12-23</td>\n",
        "    </tr>\n",
        "    <tr>\n",
        "      <th>3</th>\n",
        "      <td> ahmed.fakhry@gmail.com</td>\n",
        "      <td> 2015-12-23</td>\n",
        "    </tr>\n",
        "    <tr>\n",
        "      <th>4</th>\n",
        "      <td>   Missilou11@yahoo.com</td>\n",
        "      <td> 2015-12-23</td>\n",
        "    </tr>\n",
        "  </tbody>\n",
        "</table>\n",
        "</div>"
       ],
       "metadata": {},
       "output_type": "pyout",
       "prompt_number": 41,
       "text": [
        "                    Email        Date\n",
        "0  rehabmansour@gmail.com  2015-12-23\n",
        "1     nabouheif@yahoo.com  2015-12-23\n",
        "2  fracicardi@hotmail.com  2015-12-23\n",
        "3  ahmed.fakhry@gmail.com  2015-12-23\n",
        "4    Missilou11@yahoo.com  2015-12-23"
       ]
      }
     ],
     "prompt_number": 41
    },
    {
     "cell_type": "code",
     "collapsed": false,
     "input": [
      "df['YearBefore'] = (str)(datetime.now() - timedelta(days=365)) #365 days from today(Wednesday)\n",
      "df['YearBefore'] = df.YearBefore.apply(convertNewDate) #call function\n",
      "df.head()"
     ],
     "language": "python",
     "metadata": {},
     "outputs": [
      {
       "html": [
        "<div style=\"max-height:1000px;max-width:1500px;overflow:auto;\">\n",
        "<table border=\"1\" class=\"dataframe\">\n",
        "  <thead>\n",
        "    <tr style=\"text-align: right;\">\n",
        "      <th></th>\n",
        "      <th>Email</th>\n",
        "      <th>Date</th>\n",
        "      <th>YearBefore</th>\n",
        "    </tr>\n",
        "  </thead>\n",
        "  <tbody>\n",
        "    <tr>\n",
        "      <th>0</th>\n",
        "      <td> rehabmansour@gmail.com</td>\n",
        "      <td> 2015-12-23</td>\n",
        "      <td> 2014-12-28</td>\n",
        "    </tr>\n",
        "    <tr>\n",
        "      <th>1</th>\n",
        "      <td>    nabouheif@yahoo.com</td>\n",
        "      <td> 2015-12-23</td>\n",
        "      <td> 2014-12-28</td>\n",
        "    </tr>\n",
        "    <tr>\n",
        "      <th>2</th>\n",
        "      <td> fracicardi@hotmail.com</td>\n",
        "      <td> 2015-12-23</td>\n",
        "      <td> 2014-12-28</td>\n",
        "    </tr>\n",
        "    <tr>\n",
        "      <th>3</th>\n",
        "      <td> ahmed.fakhry@gmail.com</td>\n",
        "      <td> 2015-12-23</td>\n",
        "      <td> 2014-12-28</td>\n",
        "    </tr>\n",
        "    <tr>\n",
        "      <th>4</th>\n",
        "      <td>   Missilou11@yahoo.com</td>\n",
        "      <td> 2015-12-23</td>\n",
        "      <td> 2014-12-28</td>\n",
        "    </tr>\n",
        "  </tbody>\n",
        "</table>\n",
        "</div>"
       ],
       "metadata": {},
       "output_type": "pyout",
       "prompt_number": 42,
       "text": [
        "                    Email        Date  YearBefore\n",
        "0  rehabmansour@gmail.com  2015-12-23  2014-12-28\n",
        "1     nabouheif@yahoo.com  2015-12-23  2014-12-28\n",
        "2  fracicardi@hotmail.com  2015-12-23  2014-12-28\n",
        "3  ahmed.fakhry@gmail.com  2015-12-23  2014-12-28\n",
        "4    Missilou11@yahoo.com  2015-12-23  2014-12-28"
       ]
      }
     ],
     "prompt_number": 42
    },
    {
     "cell_type": "code",
     "collapsed": false,
     "input": [
      "df['DaysBetween'] = df.apply(lambda x: days_between(x['YearBefore'], x['Date']), axis=1)\n",
      "df = df[(df.DaysBetween <= 365) & (df.DaysBetween >= 0)] #get rows whose order is with in 365 days\n",
      "df.head()"
     ],
     "language": "python",
     "metadata": {},
     "outputs": [
      {
       "html": [
        "<div style=\"max-height:1000px;max-width:1500px;overflow:auto;\">\n",
        "<table border=\"1\" class=\"dataframe\">\n",
        "  <thead>\n",
        "    <tr style=\"text-align: right;\">\n",
        "      <th></th>\n",
        "      <th>Email</th>\n",
        "      <th>Date</th>\n",
        "      <th>YearBefore</th>\n",
        "      <th>DaysBetween</th>\n",
        "    </tr>\n",
        "  </thead>\n",
        "  <tbody>\n",
        "    <tr>\n",
        "      <th>0</th>\n",
        "      <td> rehabmansour@gmail.com</td>\n",
        "      <td> 2015-12-23</td>\n",
        "      <td> 2014-12-28</td>\n",
        "      <td> 360</td>\n",
        "    </tr>\n",
        "    <tr>\n",
        "      <th>1</th>\n",
        "      <td>    nabouheif@yahoo.com</td>\n",
        "      <td> 2015-12-23</td>\n",
        "      <td> 2014-12-28</td>\n",
        "      <td> 360</td>\n",
        "    </tr>\n",
        "    <tr>\n",
        "      <th>2</th>\n",
        "      <td> fracicardi@hotmail.com</td>\n",
        "      <td> 2015-12-23</td>\n",
        "      <td> 2014-12-28</td>\n",
        "      <td> 360</td>\n",
        "    </tr>\n",
        "    <tr>\n",
        "      <th>3</th>\n",
        "      <td> ahmed.fakhry@gmail.com</td>\n",
        "      <td> 2015-12-23</td>\n",
        "      <td> 2014-12-28</td>\n",
        "      <td> 360</td>\n",
        "    </tr>\n",
        "    <tr>\n",
        "      <th>4</th>\n",
        "      <td>   Missilou11@yahoo.com</td>\n",
        "      <td> 2015-12-23</td>\n",
        "      <td> 2014-12-28</td>\n",
        "      <td> 360</td>\n",
        "    </tr>\n",
        "  </tbody>\n",
        "</table>\n",
        "</div>"
       ],
       "metadata": {},
       "output_type": "pyout",
       "prompt_number": 43,
       "text": [
        "                    Email        Date  YearBefore  DaysBetween\n",
        "0  rehabmansour@gmail.com  2015-12-23  2014-12-28          360\n",
        "1     nabouheif@yahoo.com  2015-12-23  2014-12-28          360\n",
        "2  fracicardi@hotmail.com  2015-12-23  2014-12-28          360\n",
        "3  ahmed.fakhry@gmail.com  2015-12-23  2014-12-28          360\n",
        "4    Missilou11@yahoo.com  2015-12-23  2014-12-28          360"
       ]
      }
     ],
     "prompt_number": 43
    },
    {
     "cell_type": "code",
     "collapsed": false,
     "input": [
      "df1 = df[['Email']] #create new df with emails\n",
      "df1 = df1.drop_duplicates().reset_index().drop('index',1)\n",
      "df1.head()"
     ],
     "language": "python",
     "metadata": {},
     "outputs": [
      {
       "html": [
        "<div style=\"max-height:1000px;max-width:1500px;overflow:auto;\">\n",
        "<table border=\"1\" class=\"dataframe\">\n",
        "  <thead>\n",
        "    <tr style=\"text-align: right;\">\n",
        "      <th></th>\n",
        "      <th>Email</th>\n",
        "    </tr>\n",
        "  </thead>\n",
        "  <tbody>\n",
        "    <tr>\n",
        "      <th>0</th>\n",
        "      <td> rehabmansour@gmail.com</td>\n",
        "    </tr>\n",
        "    <tr>\n",
        "      <th>1</th>\n",
        "      <td>    nabouheif@yahoo.com</td>\n",
        "    </tr>\n",
        "    <tr>\n",
        "      <th>2</th>\n",
        "      <td> fracicardi@hotmail.com</td>\n",
        "    </tr>\n",
        "    <tr>\n",
        "      <th>3</th>\n",
        "      <td> ahmed.fakhry@gmail.com</td>\n",
        "    </tr>\n",
        "    <tr>\n",
        "      <th>4</th>\n",
        "      <td>   Missilou11@yahoo.com</td>\n",
        "    </tr>\n",
        "  </tbody>\n",
        "</table>\n",
        "</div>"
       ],
       "metadata": {},
       "output_type": "pyout",
       "prompt_number": 44,
       "text": [
        "                    Email\n",
        "0  rehabmansour@gmail.com\n",
        "1     nabouheif@yahoo.com\n",
        "2  fracicardi@hotmail.com\n",
        "3  ahmed.fakhry@gmail.com\n",
        "4    Missilou11@yahoo.com"
       ]
      }
     ],
     "prompt_number": 44
    },
    {
     "cell_type": "code",
     "collapsed": false,
     "input": [
      "df2 = df[['Email', 'Date']] #create new df with emails, dates\n",
      "df2.head()"
     ],
     "language": "python",
     "metadata": {},
     "outputs": [
      {
       "html": [
        "<div style=\"max-height:1000px;max-width:1500px;overflow:auto;\">\n",
        "<table border=\"1\" class=\"dataframe\">\n",
        "  <thead>\n",
        "    <tr style=\"text-align: right;\">\n",
        "      <th></th>\n",
        "      <th>Email</th>\n",
        "      <th>Date</th>\n",
        "    </tr>\n",
        "  </thead>\n",
        "  <tbody>\n",
        "    <tr>\n",
        "      <th>0</th>\n",
        "      <td> rehabmansour@gmail.com</td>\n",
        "      <td> 2015-12-23</td>\n",
        "    </tr>\n",
        "    <tr>\n",
        "      <th>1</th>\n",
        "      <td>    nabouheif@yahoo.com</td>\n",
        "      <td> 2015-12-23</td>\n",
        "    </tr>\n",
        "    <tr>\n",
        "      <th>2</th>\n",
        "      <td> fracicardi@hotmail.com</td>\n",
        "      <td> 2015-12-23</td>\n",
        "    </tr>\n",
        "    <tr>\n",
        "      <th>3</th>\n",
        "      <td> ahmed.fakhry@gmail.com</td>\n",
        "      <td> 2015-12-23</td>\n",
        "    </tr>\n",
        "    <tr>\n",
        "      <th>4</th>\n",
        "      <td>   Missilou11@yahoo.com</td>\n",
        "      <td> 2015-12-23</td>\n",
        "    </tr>\n",
        "  </tbody>\n",
        "</table>\n",
        "</div>"
       ],
       "metadata": {},
       "output_type": "pyout",
       "prompt_number": 45,
       "text": [
        "                    Email        Date\n",
        "0  rehabmansour@gmail.com  2015-12-23\n",
        "1     nabouheif@yahoo.com  2015-12-23\n",
        "2  fracicardi@hotmail.com  2015-12-23\n",
        "3  ahmed.fakhry@gmail.com  2015-12-23\n",
        "4    Missilou11@yahoo.com  2015-12-23"
       ]
      }
     ],
     "prompt_number": 45
    },
    {
     "cell_type": "code",
     "collapsed": false,
     "input": [
      "df['Days30Before'] = (str)(datetime.now() - timedelta(days=30)) #30 days from today(Wednesday)\n",
      "df.loc[:, 'Days30Before'] = df.Days30Before.apply(convertNewDate) \n",
      "df.head()"
     ],
     "language": "python",
     "metadata": {},
     "outputs": [
      {
       "html": [
        "<div style=\"max-height:1000px;max-width:1500px;overflow:auto;\">\n",
        "<table border=\"1\" class=\"dataframe\">\n",
        "  <thead>\n",
        "    <tr style=\"text-align: right;\">\n",
        "      <th></th>\n",
        "      <th>Email</th>\n",
        "      <th>Date</th>\n",
        "      <th>YearBefore</th>\n",
        "      <th>DaysBetween</th>\n",
        "      <th>Days30Before</th>\n",
        "    </tr>\n",
        "  </thead>\n",
        "  <tbody>\n",
        "    <tr>\n",
        "      <th>0</th>\n",
        "      <td> rehabmansour@gmail.com</td>\n",
        "      <td> 2015-12-23</td>\n",
        "      <td> 2014-12-28</td>\n",
        "      <td> 360</td>\n",
        "      <td> 2015-11-28</td>\n",
        "    </tr>\n",
        "    <tr>\n",
        "      <th>1</th>\n",
        "      <td>    nabouheif@yahoo.com</td>\n",
        "      <td> 2015-12-23</td>\n",
        "      <td> 2014-12-28</td>\n",
        "      <td> 360</td>\n",
        "      <td> 2015-11-28</td>\n",
        "    </tr>\n",
        "    <tr>\n",
        "      <th>2</th>\n",
        "      <td> fracicardi@hotmail.com</td>\n",
        "      <td> 2015-12-23</td>\n",
        "      <td> 2014-12-28</td>\n",
        "      <td> 360</td>\n",
        "      <td> 2015-11-28</td>\n",
        "    </tr>\n",
        "    <tr>\n",
        "      <th>3</th>\n",
        "      <td> ahmed.fakhry@gmail.com</td>\n",
        "      <td> 2015-12-23</td>\n",
        "      <td> 2014-12-28</td>\n",
        "      <td> 360</td>\n",
        "      <td> 2015-11-28</td>\n",
        "    </tr>\n",
        "    <tr>\n",
        "      <th>4</th>\n",
        "      <td>   Missilou11@yahoo.com</td>\n",
        "      <td> 2015-12-23</td>\n",
        "      <td> 2014-12-28</td>\n",
        "      <td> 360</td>\n",
        "      <td> 2015-11-28</td>\n",
        "    </tr>\n",
        "  </tbody>\n",
        "</table>\n",
        "</div>"
       ],
       "metadata": {},
       "output_type": "pyout",
       "prompt_number": 46,
       "text": [
        "                    Email        Date  YearBefore  DaysBetween Days30Before\n",
        "0  rehabmansour@gmail.com  2015-12-23  2014-12-28          360   2015-11-28\n",
        "1     nabouheif@yahoo.com  2015-12-23  2014-12-28          360   2015-11-28\n",
        "2  fracicardi@hotmail.com  2015-12-23  2014-12-28          360   2015-11-28\n",
        "3  ahmed.fakhry@gmail.com  2015-12-23  2014-12-28          360   2015-11-28\n",
        "4    Missilou11@yahoo.com  2015-12-23  2014-12-28          360   2015-11-28"
       ]
      }
     ],
     "prompt_number": 46
    },
    {
     "cell_type": "code",
     "collapsed": false,
     "input": [
      "df2['Days20Before'] = (str)(datetime.now() - timedelta(days=20)) #20 days from today(Wednesday)\n",
      "df2.loc[:, 'Days20Before'] = df2.Days20Before.apply(convertNewDate)\n",
      "df2.head()"
     ],
     "language": "python",
     "metadata": {},
     "outputs": [
      {
       "html": [
        "<div style=\"max-height:1000px;max-width:1500px;overflow:auto;\">\n",
        "<table border=\"1\" class=\"dataframe\">\n",
        "  <thead>\n",
        "    <tr style=\"text-align: right;\">\n",
        "      <th></th>\n",
        "      <th>Email</th>\n",
        "      <th>Date</th>\n",
        "      <th>Days20Before</th>\n",
        "    </tr>\n",
        "  </thead>\n",
        "  <tbody>\n",
        "    <tr>\n",
        "      <th>0</th>\n",
        "      <td> rehabmansour@gmail.com</td>\n",
        "      <td> 2015-12-23</td>\n",
        "      <td> 2015-12-08</td>\n",
        "    </tr>\n",
        "    <tr>\n",
        "      <th>1</th>\n",
        "      <td>    nabouheif@yahoo.com</td>\n",
        "      <td> 2015-12-23</td>\n",
        "      <td> 2015-12-08</td>\n",
        "    </tr>\n",
        "    <tr>\n",
        "      <th>2</th>\n",
        "      <td> fracicardi@hotmail.com</td>\n",
        "      <td> 2015-12-23</td>\n",
        "      <td> 2015-12-08</td>\n",
        "    </tr>\n",
        "    <tr>\n",
        "      <th>3</th>\n",
        "      <td> ahmed.fakhry@gmail.com</td>\n",
        "      <td> 2015-12-23</td>\n",
        "      <td> 2015-12-08</td>\n",
        "    </tr>\n",
        "    <tr>\n",
        "      <th>4</th>\n",
        "      <td>   Missilou11@yahoo.com</td>\n",
        "      <td> 2015-12-23</td>\n",
        "      <td> 2015-12-08</td>\n",
        "    </tr>\n",
        "  </tbody>\n",
        "</table>\n",
        "</div>"
       ],
       "metadata": {},
       "output_type": "pyout",
       "prompt_number": 47,
       "text": [
        "                    Email        Date Days20Before\n",
        "0  rehabmansour@gmail.com  2015-12-23   2015-12-08\n",
        "1     nabouheif@yahoo.com  2015-12-23   2015-12-08\n",
        "2  fracicardi@hotmail.com  2015-12-23   2015-12-08\n",
        "3  ahmed.fakhry@gmail.com  2015-12-23   2015-12-08\n",
        "4    Missilou11@yahoo.com  2015-12-23   2015-12-08"
       ]
      }
     ],
     "prompt_number": 47
    },
    {
     "cell_type": "code",
     "collapsed": false,
     "input": [
      "df['DaysBetween'] = df.apply(lambda x: days_between(x['Days30Before'], x['Date']), axis=1)\n",
      "df = df[(df.DaysBetween <= 30) & (df.DaysBetween >= 0)] #get rows whose order is with in 30 days\n",
      "df.head()"
     ],
     "language": "python",
     "metadata": {},
     "outputs": [
      {
       "html": [
        "<div style=\"max-height:1000px;max-width:1500px;overflow:auto;\">\n",
        "<table border=\"1\" class=\"dataframe\">\n",
        "  <thead>\n",
        "    <tr style=\"text-align: right;\">\n",
        "      <th></th>\n",
        "      <th>Email</th>\n",
        "      <th>Date</th>\n",
        "      <th>YearBefore</th>\n",
        "      <th>DaysBetween</th>\n",
        "      <th>Days30Before</th>\n",
        "    </tr>\n",
        "  </thead>\n",
        "  <tbody>\n",
        "    <tr>\n",
        "      <th>0</th>\n",
        "      <td> rehabmansour@gmail.com</td>\n",
        "      <td> 2015-12-23</td>\n",
        "      <td> 2014-12-28</td>\n",
        "      <td> 25</td>\n",
        "      <td> 2015-11-28</td>\n",
        "    </tr>\n",
        "    <tr>\n",
        "      <th>1</th>\n",
        "      <td>    nabouheif@yahoo.com</td>\n",
        "      <td> 2015-12-23</td>\n",
        "      <td> 2014-12-28</td>\n",
        "      <td> 25</td>\n",
        "      <td> 2015-11-28</td>\n",
        "    </tr>\n",
        "    <tr>\n",
        "      <th>2</th>\n",
        "      <td> fracicardi@hotmail.com</td>\n",
        "      <td> 2015-12-23</td>\n",
        "      <td> 2014-12-28</td>\n",
        "      <td> 25</td>\n",
        "      <td> 2015-11-28</td>\n",
        "    </tr>\n",
        "    <tr>\n",
        "      <th>3</th>\n",
        "      <td> ahmed.fakhry@gmail.com</td>\n",
        "      <td> 2015-12-23</td>\n",
        "      <td> 2014-12-28</td>\n",
        "      <td> 25</td>\n",
        "      <td> 2015-11-28</td>\n",
        "    </tr>\n",
        "    <tr>\n",
        "      <th>4</th>\n",
        "      <td>   Missilou11@yahoo.com</td>\n",
        "      <td> 2015-12-23</td>\n",
        "      <td> 2014-12-28</td>\n",
        "      <td> 25</td>\n",
        "      <td> 2015-11-28</td>\n",
        "    </tr>\n",
        "  </tbody>\n",
        "</table>\n",
        "</div>"
       ],
       "metadata": {},
       "output_type": "pyout",
       "prompt_number": 48,
       "text": [
        "                    Email        Date  YearBefore  DaysBetween Days30Before\n",
        "0  rehabmansour@gmail.com  2015-12-23  2014-12-28           25   2015-11-28\n",
        "1     nabouheif@yahoo.com  2015-12-23  2014-12-28           25   2015-11-28\n",
        "2  fracicardi@hotmail.com  2015-12-23  2014-12-28           25   2015-11-28\n",
        "3  ahmed.fakhry@gmail.com  2015-12-23  2014-12-28           25   2015-11-28\n",
        "4    Missilou11@yahoo.com  2015-12-23  2014-12-28           25   2015-11-28"
       ]
      }
     ],
     "prompt_number": 48
    },
    {
     "cell_type": "code",
     "collapsed": false,
     "input": [
      "df2['DaysBetween'] = df2.apply(lambda x: days_between(x['Days20Before'], x['Date']), axis=1)\n",
      "df2 = df2[(df2.DaysBetween <= 20) & (df2.DaysBetween >= 0)] #get rows whose order is with in 20 days\n",
      "df2.head()"
     ],
     "language": "python",
     "metadata": {},
     "outputs": [
      {
       "html": [
        "<div style=\"max-height:1000px;max-width:1500px;overflow:auto;\">\n",
        "<table border=\"1\" class=\"dataframe\">\n",
        "  <thead>\n",
        "    <tr style=\"text-align: right;\">\n",
        "      <th></th>\n",
        "      <th>Email</th>\n",
        "      <th>Date</th>\n",
        "      <th>Days20Before</th>\n",
        "      <th>DaysBetween</th>\n",
        "    </tr>\n",
        "  </thead>\n",
        "  <tbody>\n",
        "    <tr>\n",
        "      <th>0</th>\n",
        "      <td> rehabmansour@gmail.com</td>\n",
        "      <td> 2015-12-23</td>\n",
        "      <td> 2015-12-08</td>\n",
        "      <td> 15</td>\n",
        "    </tr>\n",
        "    <tr>\n",
        "      <th>1</th>\n",
        "      <td>    nabouheif@yahoo.com</td>\n",
        "      <td> 2015-12-23</td>\n",
        "      <td> 2015-12-08</td>\n",
        "      <td> 15</td>\n",
        "    </tr>\n",
        "    <tr>\n",
        "      <th>2</th>\n",
        "      <td> fracicardi@hotmail.com</td>\n",
        "      <td> 2015-12-23</td>\n",
        "      <td> 2015-12-08</td>\n",
        "      <td> 15</td>\n",
        "    </tr>\n",
        "    <tr>\n",
        "      <th>3</th>\n",
        "      <td> ahmed.fakhry@gmail.com</td>\n",
        "      <td> 2015-12-23</td>\n",
        "      <td> 2015-12-08</td>\n",
        "      <td> 15</td>\n",
        "    </tr>\n",
        "    <tr>\n",
        "      <th>4</th>\n",
        "      <td>   Missilou11@yahoo.com</td>\n",
        "      <td> 2015-12-23</td>\n",
        "      <td> 2015-12-08</td>\n",
        "      <td> 15</td>\n",
        "    </tr>\n",
        "  </tbody>\n",
        "</table>\n",
        "</div>"
       ],
       "metadata": {},
       "output_type": "pyout",
       "prompt_number": 49,
       "text": [
        "                    Email        Date Days20Before  DaysBetween\n",
        "0  rehabmansour@gmail.com  2015-12-23   2015-12-08           15\n",
        "1     nabouheif@yahoo.com  2015-12-23   2015-12-08           15\n",
        "2  fracicardi@hotmail.com  2015-12-23   2015-12-08           15\n",
        "3  ahmed.fakhry@gmail.com  2015-12-23   2015-12-08           15\n",
        "4    Missilou11@yahoo.com  2015-12-23   2015-12-08           15"
       ]
      }
     ],
     "prompt_number": 49
    },
    {
     "cell_type": "code",
     "collapsed": false,
     "input": [
      "#count number of times a customer has ordered\n",
      "df['Count'] = 1\n",
      "df = df[['Email', 'Count']]\n",
      "df = df.groupby(['Email'], axis = 0, as_index=False).sum()\n",
      "df.head()"
     ],
     "language": "python",
     "metadata": {},
     "outputs": [
      {
       "html": [
        "<div style=\"max-height:1000px;max-width:1500px;overflow:auto;\">\n",
        "<table border=\"1\" class=\"dataframe\">\n",
        "  <thead>\n",
        "    <tr style=\"text-align: right;\">\n",
        "      <th></th>\n",
        "      <th>Email</th>\n",
        "      <th>Count</th>\n",
        "    </tr>\n",
        "  </thead>\n",
        "  <tbody>\n",
        "    <tr>\n",
        "      <th>0</th>\n",
        "      <td>   1youniqueflower@gmail.com</td>\n",
        "      <td> 1</td>\n",
        "    </tr>\n",
        "    <tr>\n",
        "      <th>1</th>\n",
        "      <td>     Aliamossallam@gmail.com</td>\n",
        "      <td> 1</td>\n",
        "    </tr>\n",
        "    <tr>\n",
        "      <th>2</th>\n",
        "      <td> Camillia.Marmoush@gmail.com</td>\n",
        "      <td> 1</td>\n",
        "    </tr>\n",
        "    <tr>\n",
        "      <th>3</th>\n",
        "      <td>        Daiieldeeb@gmail.com</td>\n",
        "      <td> 1</td>\n",
        "    </tr>\n",
        "    <tr>\n",
        "      <th>4</th>\n",
        "      <td>      Eng_kozman@hotmail.com</td>\n",
        "      <td> 1</td>\n",
        "    </tr>\n",
        "  </tbody>\n",
        "</table>\n",
        "</div>"
       ],
       "metadata": {},
       "output_type": "pyout",
       "prompt_number": 50,
       "text": [
        "                         Email  Count\n",
        "0    1youniqueflower@gmail.com      1\n",
        "1      Aliamossallam@gmail.com      1\n",
        "2  Camillia.Marmoush@gmail.com      1\n",
        "3         Daiieldeeb@gmail.com      1\n",
        "4       Eng_kozman@hotmail.com      1"
       ]
      }
     ],
     "prompt_number": 50
    },
    {
     "cell_type": "code",
     "collapsed": false,
     "input": [
      "#count number of times a customer has ordered\n",
      "df2['Count'] = 1\n",
      "df2 = df2[['Email', 'Count']]\n",
      "df2 = df2.groupby(['Email'], axis = 0, as_index=False).sum()\n",
      "df2.head()"
     ],
     "language": "python",
     "metadata": {},
     "outputs": [
      {
       "html": [
        "<div style=\"max-height:1000px;max-width:1500px;overflow:auto;\">\n",
        "<table border=\"1\" class=\"dataframe\">\n",
        "  <thead>\n",
        "    <tr style=\"text-align: right;\">\n",
        "      <th></th>\n",
        "      <th>Email</th>\n",
        "      <th>Count</th>\n",
        "    </tr>\n",
        "  </thead>\n",
        "  <tbody>\n",
        "    <tr>\n",
        "      <th>0</th>\n",
        "      <td> Aliamossallam@gmail.com</td>\n",
        "      <td> 1</td>\n",
        "    </tr>\n",
        "    <tr>\n",
        "      <th>1</th>\n",
        "      <td>    Daiieldeeb@gmail.com</td>\n",
        "      <td> 1</td>\n",
        "    </tr>\n",
        "    <tr>\n",
        "      <th>2</th>\n",
        "      <td>  Eng_kozman@hotmail.com</td>\n",
        "      <td> 1</td>\n",
        "    </tr>\n",
        "    <tr>\n",
        "      <th>3</th>\n",
        "      <td> Hananadel17@hotmail.com</td>\n",
        "      <td> 2</td>\n",
        "    </tr>\n",
        "    <tr>\n",
        "      <th>4</th>\n",
        "      <td>    Missilou11@yahoo.com</td>\n",
        "      <td> 1</td>\n",
        "    </tr>\n",
        "  </tbody>\n",
        "</table>\n",
        "</div>"
       ],
       "metadata": {},
       "output_type": "pyout",
       "prompt_number": 51,
       "text": [
        "                     Email  Count\n",
        "0  Aliamossallam@gmail.com      1\n",
        "1     Daiieldeeb@gmail.com      1\n",
        "2   Eng_kozman@hotmail.com      1\n",
        "3  Hananadel17@hotmail.com      2\n",
        "4     Missilou11@yahoo.com      1"
       ]
      }
     ],
     "prompt_number": 51
    },
    {
     "cell_type": "code",
     "collapsed": false,
     "input": [
      "#retain all cutomers who ordered more than once\n",
      "df = df[(df.Count > 1)]\n",
      "df = df.drop_duplicates().reset_index().drop('index',1)\n",
      "df.head()"
     ],
     "language": "python",
     "metadata": {},
     "outputs": [
      {
       "html": [
        "<div style=\"max-height:1000px;max-width:1500px;overflow:auto;\">\n",
        "<table border=\"1\" class=\"dataframe\">\n",
        "  <thead>\n",
        "    <tr style=\"text-align: right;\">\n",
        "      <th></th>\n",
        "      <th>Email</th>\n",
        "      <th>Count</th>\n",
        "    </tr>\n",
        "  </thead>\n",
        "  <tbody>\n",
        "    <tr>\n",
        "      <th>0</th>\n",
        "      <td> Hananadel17@hotmail.com</td>\n",
        "      <td> 2</td>\n",
        "    </tr>\n",
        "    <tr>\n",
        "      <th>1</th>\n",
        "      <td>    YOUSRA21@HOTMAIL.COM</td>\n",
        "      <td> 2</td>\n",
        "    </tr>\n",
        "    <tr>\n",
        "      <th>2</th>\n",
        "      <td>       afmansour@msn.com</td>\n",
        "      <td> 2</td>\n",
        "    </tr>\n",
        "    <tr>\n",
        "      <th>3</th>\n",
        "      <td>       akehela@gmail.com</td>\n",
        "      <td> 4</td>\n",
        "    </tr>\n",
        "    <tr>\n",
        "      <th>4</th>\n",
        "      <td>     alia__0@hotmail.com</td>\n",
        "      <td> 2</td>\n",
        "    </tr>\n",
        "  </tbody>\n",
        "</table>\n",
        "</div>"
       ],
       "metadata": {},
       "output_type": "pyout",
       "prompt_number": 52,
       "text": [
        "                     Email  Count\n",
        "0  Hananadel17@hotmail.com      2\n",
        "1     YOUSRA21@HOTMAIL.COM      2\n",
        "2        afmansour@msn.com      2\n",
        "3        akehela@gmail.com      4\n",
        "4      alia__0@hotmail.com      2"
       ]
      }
     ],
     "prompt_number": 52
    },
    {
     "cell_type": "code",
     "collapsed": false,
     "input": [
      "#new df with all required columns, assign values to columns\n",
      "df3 = pd.DataFrame(columns = ['Cutomers 30 days', 'Cutomers 20 days', 'Total Count', 'Retention Rate', 'Regular Customers'])\n",
      "df3.loc[0, 'Cutomers 30 days'] = max(df.index) + 1\n",
      "df3.loc[0, 'Cutomers 20 days'] = max(df2.index) + 1\n",
      "df3.loc[0, 'Total Count'] = max(df1.index) + 1\n",
      "df3.loc[0, 'Retention Rate'] = df3.loc[0, 'Cutomers 30 days']/float(df3.loc[0, 'Total Count'])\n",
      "df3.head()\n"
     ],
     "language": "python",
     "metadata": {},
     "outputs": [
      {
       "html": [
        "<div style=\"max-height:1000px;max-width:1500px;overflow:auto;\">\n",
        "<table border=\"1\" class=\"dataframe\">\n",
        "  <thead>\n",
        "    <tr style=\"text-align: right;\">\n",
        "      <th></th>\n",
        "      <th>Cutomers 30 days</th>\n",
        "      <th>Cutomers 20 days</th>\n",
        "      <th>Total Count</th>\n",
        "      <th>Retention Rate</th>\n",
        "      <th>Regular Customers</th>\n",
        "    </tr>\n",
        "  </thead>\n",
        "  <tbody>\n",
        "    <tr>\n",
        "      <th>0</th>\n",
        "      <td> 66</td>\n",
        "      <td> 188</td>\n",
        "      <td> 1502</td>\n",
        "      <td> 0.04394141</td>\n",
        "      <td> NaN</td>\n",
        "    </tr>\n",
        "  </tbody>\n",
        "</table>\n",
        "</div>"
       ],
       "metadata": {},
       "output_type": "pyout",
       "prompt_number": 53,
       "text": [
        "  Cutomers 30 days Cutomers 20 days Total Count Retention Rate  \\\n",
        "0               66              188        1502     0.04394141   \n",
        "\n",
        "  Regular Customers  \n",
        "0               NaN  "
       ]
      }
     ],
     "prompt_number": 53
    },
    {
     "cell_type": "code",
     "collapsed": false,
     "input": [
      "df3.loc[0, 'Regular Customers'] = df3.loc[0, 'Cutomers 20 days']/float(df3.loc[0, 'Total Count'])\n",
      "df3.head()"
     ],
     "language": "python",
     "metadata": {},
     "outputs": [
      {
       "html": [
        "<div style=\"max-height:1000px;max-width:1500px;overflow:auto;\">\n",
        "<table border=\"1\" class=\"dataframe\">\n",
        "  <thead>\n",
        "    <tr style=\"text-align: right;\">\n",
        "      <th></th>\n",
        "      <th>Cutomers 30 days</th>\n",
        "      <th>Cutomers 20 days</th>\n",
        "      <th>Total Count</th>\n",
        "      <th>Retention Rate</th>\n",
        "      <th>Regular Customers</th>\n",
        "    </tr>\n",
        "  </thead>\n",
        "  <tbody>\n",
        "    <tr>\n",
        "      <th>0</th>\n",
        "      <td> 66</td>\n",
        "      <td> 188</td>\n",
        "      <td> 1502</td>\n",
        "      <td> 0.04394141</td>\n",
        "      <td> 0.1251664</td>\n",
        "    </tr>\n",
        "  </tbody>\n",
        "</table>\n",
        "</div>"
       ],
       "metadata": {},
       "output_type": "pyout",
       "prompt_number": 54,
       "text": [
        "  Cutomers 30 days Cutomers 20 days Total Count Retention Rate  \\\n",
        "0               66              188        1502     0.04394141   \n",
        "\n",
        "  Regular Customers  \n",
        "0         0.1251664  "
       ]
      }
     ],
     "prompt_number": 54
    },
    {
     "cell_type": "code",
     "collapsed": false,
     "input": [],
     "language": "python",
     "metadata": {},
     "outputs": []
    }
   ],
   "metadata": {}
  }
 ]
}
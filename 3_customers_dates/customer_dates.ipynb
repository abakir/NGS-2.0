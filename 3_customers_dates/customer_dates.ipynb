{
 "metadata": {
  "name": "",
  "signature": "sha256:82dab3195864b5063638c7cea47d2981aad79d69d14e986a1b9f4b729d8608d3"
 },
 "nbformat": 3,
 "nbformat_minor": 0,
 "worksheets": [
  {
   "cells": [
    {
     "cell_type": "code",
     "collapsed": false,
     "input": [
      "import pandas as pd\n",
      "from datetime import datetime\n",
      "import datetime as DT\n",
      "import re\n",
      "#import yaml\n",
      "\n",
      "#with open(\"config.yaml\", 'r') as ymlfile:\n",
      "#        cfg = yaml.load(ymlfile)\n",
      "\n",
      "#df = pd.read_csv(cfg['root']+cfg['dir_data_shopify']+cfg[\"ip_orders\"], low_memory=False)\n",
      "df = pd.read_csv('C:\\Users\\saisree849\\Documents\\GitHub\\NGS-2.0\\\\12_dashboard_tables\\data_input\\shopify\\orders_export.csv', low_memory=False)\n",
      "df"
     ],
     "language": "python",
     "metadata": {},
     "outputs": [
      {
       "html": [
        "<div style=\"max-height:1000px;max-width:1500px;overflow:auto;\">\n",
        "<table border=\"1\" class=\"dataframe\">\n",
        "  <thead>\n",
        "    <tr style=\"text-align: right;\">\n",
        "      <th></th>\n",
        "      <th>Name</th>\n",
        "      <th>Email</th>\n",
        "      <th>Financial Status</th>\n",
        "      <th>Paid at</th>\n",
        "      <th>Fulfillment Status</th>\n",
        "      <th>Fulfilled at</th>\n",
        "      <th>Accepts Marketing</th>\n",
        "      <th>Currency</th>\n",
        "      <th>Subtotal</th>\n",
        "      <th>Shipping</th>\n",
        "      <th>...</th>\n",
        "      <th>Tax 1 Name</th>\n",
        "      <th>Tax 1 Value</th>\n",
        "      <th>Tax 2 Name</th>\n",
        "      <th>Tax 2 Value</th>\n",
        "      <th>Tax 3 Name</th>\n",
        "      <th>Tax 3 Value</th>\n",
        "      <th>Tax 4 Name</th>\n",
        "      <th>Tax 4 Value</th>\n",
        "      <th>Tax 5 Name</th>\n",
        "      <th>Tax 5 Value</th>\n",
        "    </tr>\n",
        "  </thead>\n",
        "  <tbody>\n",
        "    <tr>\n",
        "      <th>0    </th>\n",
        "      <td> #10367</td>\n",
        "      <td>  rehabmansour@gmail.com</td>\n",
        "      <td> pending</td>\n",
        "      <td>                       NaN</td>\n",
        "      <td> unfulfilled</td>\n",
        "      <td>                       NaN</td>\n",
        "      <td>  no</td>\n",
        "      <td> EGP</td>\n",
        "      <td> 375.30</td>\n",
        "      <td> 10</td>\n",
        "      <td>...</td>\n",
        "      <td>NaN</td>\n",
        "      <td>NaN</td>\n",
        "      <td>NaN</td>\n",
        "      <td>NaN</td>\n",
        "      <td>NaN</td>\n",
        "      <td>NaN</td>\n",
        "      <td>NaN</td>\n",
        "      <td>NaN</td>\n",
        "      <td>NaN</td>\n",
        "      <td>NaN</td>\n",
        "    </tr>\n",
        "    <tr>\n",
        "      <th>1    </th>\n",
        "      <td> #10367</td>\n",
        "      <td>  rehabmansour@gmail.com</td>\n",
        "      <td>     NaN</td>\n",
        "      <td>                       NaN</td>\n",
        "      <td>         NaN</td>\n",
        "      <td>                       NaN</td>\n",
        "      <td> NaN</td>\n",
        "      <td> NaN</td>\n",
        "      <td>    NaN</td>\n",
        "      <td>NaN</td>\n",
        "      <td>...</td>\n",
        "      <td>NaN</td>\n",
        "      <td>NaN</td>\n",
        "      <td>NaN</td>\n",
        "      <td>NaN</td>\n",
        "      <td>NaN</td>\n",
        "      <td>NaN</td>\n",
        "      <td>NaN</td>\n",
        "      <td>NaN</td>\n",
        "      <td>NaN</td>\n",
        "      <td>NaN</td>\n",
        "    </tr>\n",
        "    <tr>\n",
        "      <th>2    </th>\n",
        "      <td> #10367</td>\n",
        "      <td>  rehabmansour@gmail.com</td>\n",
        "      <td>     NaN</td>\n",
        "      <td>                       NaN</td>\n",
        "      <td>         NaN</td>\n",
        "      <td>                       NaN</td>\n",
        "      <td> NaN</td>\n",
        "      <td> NaN</td>\n",
        "      <td>    NaN</td>\n",
        "      <td>NaN</td>\n",
        "      <td>...</td>\n",
        "      <td>NaN</td>\n",
        "      <td>NaN</td>\n",
        "      <td>NaN</td>\n",
        "      <td>NaN</td>\n",
        "      <td>NaN</td>\n",
        "      <td>NaN</td>\n",
        "      <td>NaN</td>\n",
        "      <td>NaN</td>\n",
        "      <td>NaN</td>\n",
        "      <td>NaN</td>\n",
        "    </tr>\n",
        "    <tr>\n",
        "      <th>3    </th>\n",
        "      <td> #10366</td>\n",
        "      <td>     nabouheif@yahoo.com</td>\n",
        "      <td> pending</td>\n",
        "      <td>                       NaN</td>\n",
        "      <td> unfulfilled</td>\n",
        "      <td>                       NaN</td>\n",
        "      <td>  no</td>\n",
        "      <td> EGP</td>\n",
        "      <td> 162.90</td>\n",
        "      <td> 10</td>\n",
        "      <td>...</td>\n",
        "      <td>NaN</td>\n",
        "      <td>NaN</td>\n",
        "      <td>NaN</td>\n",
        "      <td>NaN</td>\n",
        "      <td>NaN</td>\n",
        "      <td>NaN</td>\n",
        "      <td>NaN</td>\n",
        "      <td>NaN</td>\n",
        "      <td>NaN</td>\n",
        "      <td>NaN</td>\n",
        "    </tr>\n",
        "    <tr>\n",
        "      <th>4    </th>\n",
        "      <td> #10366</td>\n",
        "      <td>     nabouheif@yahoo.com</td>\n",
        "      <td>     NaN</td>\n",
        "      <td>                       NaN</td>\n",
        "      <td>         NaN</td>\n",
        "      <td>                       NaN</td>\n",
        "      <td> NaN</td>\n",
        "      <td> NaN</td>\n",
        "      <td>    NaN</td>\n",
        "      <td>NaN</td>\n",
        "      <td>...</td>\n",
        "      <td>NaN</td>\n",
        "      <td>NaN</td>\n",
        "      <td>NaN</td>\n",
        "      <td>NaN</td>\n",
        "      <td>NaN</td>\n",
        "      <td>NaN</td>\n",
        "      <td>NaN</td>\n",
        "      <td>NaN</td>\n",
        "      <td>NaN</td>\n",
        "      <td>NaN</td>\n",
        "    </tr>\n",
        "    <tr>\n",
        "      <th>5    </th>\n",
        "      <td> #10366</td>\n",
        "      <td>     nabouheif@yahoo.com</td>\n",
        "      <td>     NaN</td>\n",
        "      <td>                       NaN</td>\n",
        "      <td>         NaN</td>\n",
        "      <td>                       NaN</td>\n",
        "      <td> NaN</td>\n",
        "      <td> NaN</td>\n",
        "      <td>    NaN</td>\n",
        "      <td>NaN</td>\n",
        "      <td>...</td>\n",
        "      <td>NaN</td>\n",
        "      <td>NaN</td>\n",
        "      <td>NaN</td>\n",
        "      <td>NaN</td>\n",
        "      <td>NaN</td>\n",
        "      <td>NaN</td>\n",
        "      <td>NaN</td>\n",
        "      <td>NaN</td>\n",
        "      <td>NaN</td>\n",
        "      <td>NaN</td>\n",
        "    </tr>\n",
        "    <tr>\n",
        "      <th>6    </th>\n",
        "      <td> #10365</td>\n",
        "      <td>  fracicardi@hotmail.com</td>\n",
        "      <td> pending</td>\n",
        "      <td>                       NaN</td>\n",
        "      <td> unfulfilled</td>\n",
        "      <td>                       NaN</td>\n",
        "      <td>  no</td>\n",
        "      <td> EGP</td>\n",
        "      <td> 129.00</td>\n",
        "      <td> 15</td>\n",
        "      <td>...</td>\n",
        "      <td>NaN</td>\n",
        "      <td>NaN</td>\n",
        "      <td>NaN</td>\n",
        "      <td>NaN</td>\n",
        "      <td>NaN</td>\n",
        "      <td>NaN</td>\n",
        "      <td>NaN</td>\n",
        "      <td>NaN</td>\n",
        "      <td>NaN</td>\n",
        "      <td>NaN</td>\n",
        "    </tr>\n",
        "    <tr>\n",
        "      <th>7    </th>\n",
        "      <td> #10365</td>\n",
        "      <td>  fracicardi@hotmail.com</td>\n",
        "      <td>     NaN</td>\n",
        "      <td>                       NaN</td>\n",
        "      <td>         NaN</td>\n",
        "      <td>                       NaN</td>\n",
        "      <td> NaN</td>\n",
        "      <td> NaN</td>\n",
        "      <td>    NaN</td>\n",
        "      <td>NaN</td>\n",
        "      <td>...</td>\n",
        "      <td>NaN</td>\n",
        "      <td>NaN</td>\n",
        "      <td>NaN</td>\n",
        "      <td>NaN</td>\n",
        "      <td>NaN</td>\n",
        "      <td>NaN</td>\n",
        "      <td>NaN</td>\n",
        "      <td>NaN</td>\n",
        "      <td>NaN</td>\n",
        "      <td>NaN</td>\n",
        "    </tr>\n",
        "    <tr>\n",
        "      <th>8    </th>\n",
        "      <td> #10365</td>\n",
        "      <td>  fracicardi@hotmail.com</td>\n",
        "      <td>     NaN</td>\n",
        "      <td>                       NaN</td>\n",
        "      <td>         NaN</td>\n",
        "      <td>                       NaN</td>\n",
        "      <td> NaN</td>\n",
        "      <td> NaN</td>\n",
        "      <td>    NaN</td>\n",
        "      <td>NaN</td>\n",
        "      <td>...</td>\n",
        "      <td>NaN</td>\n",
        "      <td>NaN</td>\n",
        "      <td>NaN</td>\n",
        "      <td>NaN</td>\n",
        "      <td>NaN</td>\n",
        "      <td>NaN</td>\n",
        "      <td>NaN</td>\n",
        "      <td>NaN</td>\n",
        "      <td>NaN</td>\n",
        "      <td>NaN</td>\n",
        "    </tr>\n",
        "    <tr>\n",
        "      <th>9    </th>\n",
        "      <td> #10365</td>\n",
        "      <td>  fracicardi@hotmail.com</td>\n",
        "      <td>     NaN</td>\n",
        "      <td>                       NaN</td>\n",
        "      <td>         NaN</td>\n",
        "      <td>                       NaN</td>\n",
        "      <td> NaN</td>\n",
        "      <td> NaN</td>\n",
        "      <td>    NaN</td>\n",
        "      <td>NaN</td>\n",
        "      <td>...</td>\n",
        "      <td>NaN</td>\n",
        "      <td>NaN</td>\n",
        "      <td>NaN</td>\n",
        "      <td>NaN</td>\n",
        "      <td>NaN</td>\n",
        "      <td>NaN</td>\n",
        "      <td>NaN</td>\n",
        "      <td>NaN</td>\n",
        "      <td>NaN</td>\n",
        "      <td>NaN</td>\n",
        "    </tr>\n",
        "    <tr>\n",
        "      <th>10   </th>\n",
        "      <td> #10365</td>\n",
        "      <td>  fracicardi@hotmail.com</td>\n",
        "      <td>     NaN</td>\n",
        "      <td>                       NaN</td>\n",
        "      <td>         NaN</td>\n",
        "      <td>                       NaN</td>\n",
        "      <td> NaN</td>\n",
        "      <td> NaN</td>\n",
        "      <td>    NaN</td>\n",
        "      <td>NaN</td>\n",
        "      <td>...</td>\n",
        "      <td>NaN</td>\n",
        "      <td>NaN</td>\n",
        "      <td>NaN</td>\n",
        "      <td>NaN</td>\n",
        "      <td>NaN</td>\n",
        "      <td>NaN</td>\n",
        "      <td>NaN</td>\n",
        "      <td>NaN</td>\n",
        "      <td>NaN</td>\n",
        "      <td>NaN</td>\n",
        "    </tr>\n",
        "    <tr>\n",
        "      <th>11   </th>\n",
        "      <td> #10365</td>\n",
        "      <td>  fracicardi@hotmail.com</td>\n",
        "      <td>     NaN</td>\n",
        "      <td>                       NaN</td>\n",
        "      <td>         NaN</td>\n",
        "      <td>                       NaN</td>\n",
        "      <td> NaN</td>\n",
        "      <td> NaN</td>\n",
        "      <td>    NaN</td>\n",
        "      <td>NaN</td>\n",
        "      <td>...</td>\n",
        "      <td>NaN</td>\n",
        "      <td>NaN</td>\n",
        "      <td>NaN</td>\n",
        "      <td>NaN</td>\n",
        "      <td>NaN</td>\n",
        "      <td>NaN</td>\n",
        "      <td>NaN</td>\n",
        "      <td>NaN</td>\n",
        "      <td>NaN</td>\n",
        "      <td>NaN</td>\n",
        "    </tr>\n",
        "    <tr>\n",
        "      <th>12   </th>\n",
        "      <td> #10364</td>\n",
        "      <td>  ahmed.fakhry@gmail.com</td>\n",
        "      <td> pending</td>\n",
        "      <td>                       NaN</td>\n",
        "      <td> unfulfilled</td>\n",
        "      <td>                       NaN</td>\n",
        "      <td>  no</td>\n",
        "      <td> EGP</td>\n",
        "      <td> 660.10</td>\n",
        "      <td> 10</td>\n",
        "      <td>...</td>\n",
        "      <td>NaN</td>\n",
        "      <td>NaN</td>\n",
        "      <td>NaN</td>\n",
        "      <td>NaN</td>\n",
        "      <td>NaN</td>\n",
        "      <td>NaN</td>\n",
        "      <td>NaN</td>\n",
        "      <td>NaN</td>\n",
        "      <td>NaN</td>\n",
        "      <td>NaN</td>\n",
        "    </tr>\n",
        "    <tr>\n",
        "      <th>13   </th>\n",
        "      <td> #10364</td>\n",
        "      <td>  ahmed.fakhry@gmail.com</td>\n",
        "      <td>     NaN</td>\n",
        "      <td>                       NaN</td>\n",
        "      <td>         NaN</td>\n",
        "      <td>                       NaN</td>\n",
        "      <td> NaN</td>\n",
        "      <td> NaN</td>\n",
        "      <td>    NaN</td>\n",
        "      <td>NaN</td>\n",
        "      <td>...</td>\n",
        "      <td>NaN</td>\n",
        "      <td>NaN</td>\n",
        "      <td>NaN</td>\n",
        "      <td>NaN</td>\n",
        "      <td>NaN</td>\n",
        "      <td>NaN</td>\n",
        "      <td>NaN</td>\n",
        "      <td>NaN</td>\n",
        "      <td>NaN</td>\n",
        "      <td>NaN</td>\n",
        "    </tr>\n",
        "    <tr>\n",
        "      <th>14   </th>\n",
        "      <td> #10364</td>\n",
        "      <td>  ahmed.fakhry@gmail.com</td>\n",
        "      <td>     NaN</td>\n",
        "      <td>                       NaN</td>\n",
        "      <td>         NaN</td>\n",
        "      <td>                       NaN</td>\n",
        "      <td> NaN</td>\n",
        "      <td> NaN</td>\n",
        "      <td>    NaN</td>\n",
        "      <td>NaN</td>\n",
        "      <td>...</td>\n",
        "      <td>NaN</td>\n",
        "      <td>NaN</td>\n",
        "      <td>NaN</td>\n",
        "      <td>NaN</td>\n",
        "      <td>NaN</td>\n",
        "      <td>NaN</td>\n",
        "      <td>NaN</td>\n",
        "      <td>NaN</td>\n",
        "      <td>NaN</td>\n",
        "      <td>NaN</td>\n",
        "    </tr>\n",
        "    <tr>\n",
        "      <th>15   </th>\n",
        "      <td> #10364</td>\n",
        "      <td>  ahmed.fakhry@gmail.com</td>\n",
        "      <td>     NaN</td>\n",
        "      <td>                       NaN</td>\n",
        "      <td>         NaN</td>\n",
        "      <td>                       NaN</td>\n",
        "      <td> NaN</td>\n",
        "      <td> NaN</td>\n",
        "      <td>    NaN</td>\n",
        "      <td>NaN</td>\n",
        "      <td>...</td>\n",
        "      <td>NaN</td>\n",
        "      <td>NaN</td>\n",
        "      <td>NaN</td>\n",
        "      <td>NaN</td>\n",
        "      <td>NaN</td>\n",
        "      <td>NaN</td>\n",
        "      <td>NaN</td>\n",
        "      <td>NaN</td>\n",
        "      <td>NaN</td>\n",
        "      <td>NaN</td>\n",
        "    </tr>\n",
        "    <tr>\n",
        "      <th>16   </th>\n",
        "      <td> #10364</td>\n",
        "      <td>  ahmed.fakhry@gmail.com</td>\n",
        "      <td>     NaN</td>\n",
        "      <td>                       NaN</td>\n",
        "      <td>         NaN</td>\n",
        "      <td>                       NaN</td>\n",
        "      <td> NaN</td>\n",
        "      <td> NaN</td>\n",
        "      <td>    NaN</td>\n",
        "      <td>NaN</td>\n",
        "      <td>...</td>\n",
        "      <td>NaN</td>\n",
        "      <td>NaN</td>\n",
        "      <td>NaN</td>\n",
        "      <td>NaN</td>\n",
        "      <td>NaN</td>\n",
        "      <td>NaN</td>\n",
        "      <td>NaN</td>\n",
        "      <td>NaN</td>\n",
        "      <td>NaN</td>\n",
        "      <td>NaN</td>\n",
        "    </tr>\n",
        "    <tr>\n",
        "      <th>17   </th>\n",
        "      <td> #10364</td>\n",
        "      <td>  ahmed.fakhry@gmail.com</td>\n",
        "      <td>     NaN</td>\n",
        "      <td>                       NaN</td>\n",
        "      <td>         NaN</td>\n",
        "      <td>                       NaN</td>\n",
        "      <td> NaN</td>\n",
        "      <td> NaN</td>\n",
        "      <td>    NaN</td>\n",
        "      <td>NaN</td>\n",
        "      <td>...</td>\n",
        "      <td>NaN</td>\n",
        "      <td>NaN</td>\n",
        "      <td>NaN</td>\n",
        "      <td>NaN</td>\n",
        "      <td>NaN</td>\n",
        "      <td>NaN</td>\n",
        "      <td>NaN</td>\n",
        "      <td>NaN</td>\n",
        "      <td>NaN</td>\n",
        "      <td>NaN</td>\n",
        "    </tr>\n",
        "    <tr>\n",
        "      <th>18   </th>\n",
        "      <td> #10364</td>\n",
        "      <td>  ahmed.fakhry@gmail.com</td>\n",
        "      <td>     NaN</td>\n",
        "      <td>                       NaN</td>\n",
        "      <td>         NaN</td>\n",
        "      <td>                       NaN</td>\n",
        "      <td> NaN</td>\n",
        "      <td> NaN</td>\n",
        "      <td>    NaN</td>\n",
        "      <td>NaN</td>\n",
        "      <td>...</td>\n",
        "      <td>NaN</td>\n",
        "      <td>NaN</td>\n",
        "      <td>NaN</td>\n",
        "      <td>NaN</td>\n",
        "      <td>NaN</td>\n",
        "      <td>NaN</td>\n",
        "      <td>NaN</td>\n",
        "      <td>NaN</td>\n",
        "      <td>NaN</td>\n",
        "      <td>NaN</td>\n",
        "    </tr>\n",
        "    <tr>\n",
        "      <th>19   </th>\n",
        "      <td> #10364</td>\n",
        "      <td>  ahmed.fakhry@gmail.com</td>\n",
        "      <td>     NaN</td>\n",
        "      <td>                       NaN</td>\n",
        "      <td>         NaN</td>\n",
        "      <td>                       NaN</td>\n",
        "      <td> NaN</td>\n",
        "      <td> NaN</td>\n",
        "      <td>    NaN</td>\n",
        "      <td>NaN</td>\n",
        "      <td>...</td>\n",
        "      <td>NaN</td>\n",
        "      <td>NaN</td>\n",
        "      <td>NaN</td>\n",
        "      <td>NaN</td>\n",
        "      <td>NaN</td>\n",
        "      <td>NaN</td>\n",
        "      <td>NaN</td>\n",
        "      <td>NaN</td>\n",
        "      <td>NaN</td>\n",
        "      <td>NaN</td>\n",
        "    </tr>\n",
        "    <tr>\n",
        "      <th>20   </th>\n",
        "      <td> #10364</td>\n",
        "      <td>  ahmed.fakhry@gmail.com</td>\n",
        "      <td>     NaN</td>\n",
        "      <td>                       NaN</td>\n",
        "      <td>         NaN</td>\n",
        "      <td>                       NaN</td>\n",
        "      <td> NaN</td>\n",
        "      <td> NaN</td>\n",
        "      <td>    NaN</td>\n",
        "      <td>NaN</td>\n",
        "      <td>...</td>\n",
        "      <td>NaN</td>\n",
        "      <td>NaN</td>\n",
        "      <td>NaN</td>\n",
        "      <td>NaN</td>\n",
        "      <td>NaN</td>\n",
        "      <td>NaN</td>\n",
        "      <td>NaN</td>\n",
        "      <td>NaN</td>\n",
        "      <td>NaN</td>\n",
        "      <td>NaN</td>\n",
        "    </tr>\n",
        "    <tr>\n",
        "      <th>21   </th>\n",
        "      <td> #10363</td>\n",
        "      <td>  ahmed.fakhry@gmail.com</td>\n",
        "      <td> pending</td>\n",
        "      <td>                       NaN</td>\n",
        "      <td> unfulfilled</td>\n",
        "      <td>                       NaN</td>\n",
        "      <td>  no</td>\n",
        "      <td> EGP</td>\n",
        "      <td> 592.00</td>\n",
        "      <td> 10</td>\n",
        "      <td>...</td>\n",
        "      <td>NaN</td>\n",
        "      <td>NaN</td>\n",
        "      <td>NaN</td>\n",
        "      <td>NaN</td>\n",
        "      <td>NaN</td>\n",
        "      <td>NaN</td>\n",
        "      <td>NaN</td>\n",
        "      <td>NaN</td>\n",
        "      <td>NaN</td>\n",
        "      <td>NaN</td>\n",
        "    </tr>\n",
        "    <tr>\n",
        "      <th>22   </th>\n",
        "      <td> #10362</td>\n",
        "      <td>    Missilou11@yahoo.com</td>\n",
        "      <td> pending</td>\n",
        "      <td>                       NaN</td>\n",
        "      <td> unfulfilled</td>\n",
        "      <td>                       NaN</td>\n",
        "      <td>  no</td>\n",
        "      <td> EGP</td>\n",
        "      <td>  70.20</td>\n",
        "      <td> 15</td>\n",
        "      <td>...</td>\n",
        "      <td>NaN</td>\n",
        "      <td>NaN</td>\n",
        "      <td>NaN</td>\n",
        "      <td>NaN</td>\n",
        "      <td>NaN</td>\n",
        "      <td>NaN</td>\n",
        "      <td>NaN</td>\n",
        "      <td>NaN</td>\n",
        "      <td>NaN</td>\n",
        "      <td>NaN</td>\n",
        "    </tr>\n",
        "    <tr>\n",
        "      <th>23   </th>\n",
        "      <td> #10361</td>\n",
        "      <td> sallysalem123@gmail.com</td>\n",
        "      <td> pending</td>\n",
        "      <td>                       NaN</td>\n",
        "      <td> unfulfilled</td>\n",
        "      <td>                       NaN</td>\n",
        "      <td>  no</td>\n",
        "      <td> EGP</td>\n",
        "      <td> 432.00</td>\n",
        "      <td> 10</td>\n",
        "      <td>...</td>\n",
        "      <td>NaN</td>\n",
        "      <td>NaN</td>\n",
        "      <td>NaN</td>\n",
        "      <td>NaN</td>\n",
        "      <td>NaN</td>\n",
        "      <td>NaN</td>\n",
        "      <td>NaN</td>\n",
        "      <td>NaN</td>\n",
        "      <td>NaN</td>\n",
        "      <td>NaN</td>\n",
        "    </tr>\n",
        "    <tr>\n",
        "      <th>24   </th>\n",
        "      <td> #10361</td>\n",
        "      <td> sallysalem123@gmail.com</td>\n",
        "      <td>     NaN</td>\n",
        "      <td>                       NaN</td>\n",
        "      <td>         NaN</td>\n",
        "      <td>                       NaN</td>\n",
        "      <td> NaN</td>\n",
        "      <td> NaN</td>\n",
        "      <td>    NaN</td>\n",
        "      <td>NaN</td>\n",
        "      <td>...</td>\n",
        "      <td>NaN</td>\n",
        "      <td>NaN</td>\n",
        "      <td>NaN</td>\n",
        "      <td>NaN</td>\n",
        "      <td>NaN</td>\n",
        "      <td>NaN</td>\n",
        "      <td>NaN</td>\n",
        "      <td>NaN</td>\n",
        "      <td>NaN</td>\n",
        "      <td>NaN</td>\n",
        "    </tr>\n",
        "    <tr>\n",
        "      <th>25   </th>\n",
        "      <td> #10361</td>\n",
        "      <td> sallysalem123@gmail.com</td>\n",
        "      <td>     NaN</td>\n",
        "      <td>                       NaN</td>\n",
        "      <td>         NaN</td>\n",
        "      <td>                       NaN</td>\n",
        "      <td> NaN</td>\n",
        "      <td> NaN</td>\n",
        "      <td>    NaN</td>\n",
        "      <td>NaN</td>\n",
        "      <td>...</td>\n",
        "      <td>NaN</td>\n",
        "      <td>NaN</td>\n",
        "      <td>NaN</td>\n",
        "      <td>NaN</td>\n",
        "      <td>NaN</td>\n",
        "      <td>NaN</td>\n",
        "      <td>NaN</td>\n",
        "      <td>NaN</td>\n",
        "      <td>NaN</td>\n",
        "      <td>NaN</td>\n",
        "    </tr>\n",
        "    <tr>\n",
        "      <th>26   </th>\n",
        "      <td> #10361</td>\n",
        "      <td> sallysalem123@gmail.com</td>\n",
        "      <td>     NaN</td>\n",
        "      <td>                       NaN</td>\n",
        "      <td>         NaN</td>\n",
        "      <td>                       NaN</td>\n",
        "      <td> NaN</td>\n",
        "      <td> NaN</td>\n",
        "      <td>    NaN</td>\n",
        "      <td>NaN</td>\n",
        "      <td>...</td>\n",
        "      <td>NaN</td>\n",
        "      <td>NaN</td>\n",
        "      <td>NaN</td>\n",
        "      <td>NaN</td>\n",
        "      <td>NaN</td>\n",
        "      <td>NaN</td>\n",
        "      <td>NaN</td>\n",
        "      <td>NaN</td>\n",
        "      <td>NaN</td>\n",
        "      <td>NaN</td>\n",
        "    </tr>\n",
        "    <tr>\n",
        "      <th>27   </th>\n",
        "      <td> #10361</td>\n",
        "      <td> sallysalem123@gmail.com</td>\n",
        "      <td>     NaN</td>\n",
        "      <td>                       NaN</td>\n",
        "      <td>         NaN</td>\n",
        "      <td>                       NaN</td>\n",
        "      <td> NaN</td>\n",
        "      <td> NaN</td>\n",
        "      <td>    NaN</td>\n",
        "      <td>NaN</td>\n",
        "      <td>...</td>\n",
        "      <td>NaN</td>\n",
        "      <td>NaN</td>\n",
        "      <td>NaN</td>\n",
        "      <td>NaN</td>\n",
        "      <td>NaN</td>\n",
        "      <td>NaN</td>\n",
        "      <td>NaN</td>\n",
        "      <td>NaN</td>\n",
        "      <td>NaN</td>\n",
        "      <td>NaN</td>\n",
        "    </tr>\n",
        "    <tr>\n",
        "      <th>28   </th>\n",
        "      <td> #10361</td>\n",
        "      <td> sallysalem123@gmail.com</td>\n",
        "      <td>     NaN</td>\n",
        "      <td>                       NaN</td>\n",
        "      <td>         NaN</td>\n",
        "      <td>                       NaN</td>\n",
        "      <td> NaN</td>\n",
        "      <td> NaN</td>\n",
        "      <td>    NaN</td>\n",
        "      <td>NaN</td>\n",
        "      <td>...</td>\n",
        "      <td>NaN</td>\n",
        "      <td>NaN</td>\n",
        "      <td>NaN</td>\n",
        "      <td>NaN</td>\n",
        "      <td>NaN</td>\n",
        "      <td>NaN</td>\n",
        "      <td>NaN</td>\n",
        "      <td>NaN</td>\n",
        "      <td>NaN</td>\n",
        "      <td>NaN</td>\n",
        "    </tr>\n",
        "    <tr>\n",
        "      <th>29   </th>\n",
        "      <td> #10361</td>\n",
        "      <td> sallysalem123@gmail.com</td>\n",
        "      <td>     NaN</td>\n",
        "      <td>                       NaN</td>\n",
        "      <td>         NaN</td>\n",
        "      <td>                       NaN</td>\n",
        "      <td> NaN</td>\n",
        "      <td> NaN</td>\n",
        "      <td>    NaN</td>\n",
        "      <td>NaN</td>\n",
        "      <td>...</td>\n",
        "      <td>NaN</td>\n",
        "      <td>NaN</td>\n",
        "      <td>NaN</td>\n",
        "      <td>NaN</td>\n",
        "      <td>NaN</td>\n",
        "      <td>NaN</td>\n",
        "      <td>NaN</td>\n",
        "      <td>NaN</td>\n",
        "      <td>NaN</td>\n",
        "      <td>NaN</td>\n",
        "    </tr>\n",
        "    <tr>\n",
        "      <th>...</th>\n",
        "      <td>...</td>\n",
        "      <td>...</td>\n",
        "      <td>...</td>\n",
        "      <td>...</td>\n",
        "      <td>...</td>\n",
        "      <td>...</td>\n",
        "      <td>...</td>\n",
        "      <td>...</td>\n",
        "      <td>...</td>\n",
        "      <td>...</td>\n",
        "      <td>...</td>\n",
        "      <td>...</td>\n",
        "      <td>...</td>\n",
        "      <td>...</td>\n",
        "      <td>...</td>\n",
        "      <td>...</td>\n",
        "      <td>...</td>\n",
        "      <td>...</td>\n",
        "      <td>...</td>\n",
        "      <td>...</td>\n",
        "      <td>...</td>\n",
        "    </tr>\n",
        "    <tr>\n",
        "      <th>60742</th>\n",
        "      <td>  #1013</td>\n",
        "      <td>  lik-novikova@yandex.ru</td>\n",
        "      <td>     NaN</td>\n",
        "      <td>                       NaN</td>\n",
        "      <td>         NaN</td>\n",
        "      <td>                       NaN</td>\n",
        "      <td> NaN</td>\n",
        "      <td> NaN</td>\n",
        "      <td>    NaN</td>\n",
        "      <td>NaN</td>\n",
        "      <td>...</td>\n",
        "      <td>NaN</td>\n",
        "      <td>NaN</td>\n",
        "      <td>NaN</td>\n",
        "      <td>NaN</td>\n",
        "      <td>NaN</td>\n",
        "      <td>NaN</td>\n",
        "      <td>NaN</td>\n",
        "      <td>NaN</td>\n",
        "      <td>NaN</td>\n",
        "      <td>NaN</td>\n",
        "    </tr>\n",
        "    <tr>\n",
        "      <th>60743</th>\n",
        "      <td>  #1012</td>\n",
        "      <td>     bettyhedrich@gmx.de</td>\n",
        "      <td>    paid</td>\n",
        "      <td> 2012-05-27 13:15:42 +0200</td>\n",
        "      <td>   fulfilled</td>\n",
        "      <td> 2012-05-27 13:15:14 +0200</td>\n",
        "      <td>  no</td>\n",
        "      <td> EGP</td>\n",
        "      <td>  41.93</td>\n",
        "      <td>  5</td>\n",
        "      <td>...</td>\n",
        "      <td>NaN</td>\n",
        "      <td>NaN</td>\n",
        "      <td>NaN</td>\n",
        "      <td>NaN</td>\n",
        "      <td>NaN</td>\n",
        "      <td>NaN</td>\n",
        "      <td>NaN</td>\n",
        "      <td>NaN</td>\n",
        "      <td>NaN</td>\n",
        "      <td>NaN</td>\n",
        "    </tr>\n",
        "    <tr>\n",
        "      <th>60744</th>\n",
        "      <td>  #1012</td>\n",
        "      <td>     bettyhedrich@gmx.de</td>\n",
        "      <td>     NaN</td>\n",
        "      <td>                       NaN</td>\n",
        "      <td>         NaN</td>\n",
        "      <td>                       NaN</td>\n",
        "      <td> NaN</td>\n",
        "      <td> NaN</td>\n",
        "      <td>    NaN</td>\n",
        "      <td>NaN</td>\n",
        "      <td>...</td>\n",
        "      <td>NaN</td>\n",
        "      <td>NaN</td>\n",
        "      <td>NaN</td>\n",
        "      <td>NaN</td>\n",
        "      <td>NaN</td>\n",
        "      <td>NaN</td>\n",
        "      <td>NaN</td>\n",
        "      <td>NaN</td>\n",
        "      <td>NaN</td>\n",
        "      <td>NaN</td>\n",
        "    </tr>\n",
        "    <tr>\n",
        "      <th>60745</th>\n",
        "      <td>  #1011</td>\n",
        "      <td>           rulah@msn.com</td>\n",
        "      <td>    paid</td>\n",
        "      <td> 2012-05-21 18:33:13 +0200</td>\n",
        "      <td>   fulfilled</td>\n",
        "      <td> 2012-05-21 18:33:43 +0200</td>\n",
        "      <td> yes</td>\n",
        "      <td> EGP</td>\n",
        "      <td> 222.30</td>\n",
        "      <td>  5</td>\n",
        "      <td>...</td>\n",
        "      <td>NaN</td>\n",
        "      <td>NaN</td>\n",
        "      <td>NaN</td>\n",
        "      <td>NaN</td>\n",
        "      <td>NaN</td>\n",
        "      <td>NaN</td>\n",
        "      <td>NaN</td>\n",
        "      <td>NaN</td>\n",
        "      <td>NaN</td>\n",
        "      <td>NaN</td>\n",
        "    </tr>\n",
        "    <tr>\n",
        "      <th>60746</th>\n",
        "      <td>  #1010</td>\n",
        "      <td>     milda_b@hotmail.com</td>\n",
        "      <td>    paid</td>\n",
        "      <td> 2012-05-09 11:09:12 +0200</td>\n",
        "      <td>   fulfilled</td>\n",
        "      <td> 2012-05-09 11:09:06 +0200</td>\n",
        "      <td> yes</td>\n",
        "      <td> EGP</td>\n",
        "      <td> 155.55</td>\n",
        "      <td>  5</td>\n",
        "      <td>...</td>\n",
        "      <td>NaN</td>\n",
        "      <td>NaN</td>\n",
        "      <td>NaN</td>\n",
        "      <td>NaN</td>\n",
        "      <td>NaN</td>\n",
        "      <td>NaN</td>\n",
        "      <td>NaN</td>\n",
        "      <td>NaN</td>\n",
        "      <td>NaN</td>\n",
        "      <td>NaN</td>\n",
        "    </tr>\n",
        "    <tr>\n",
        "      <th>60747</th>\n",
        "      <td>  #1010</td>\n",
        "      <td>     milda_b@hotmail.com</td>\n",
        "      <td>     NaN</td>\n",
        "      <td>                       NaN</td>\n",
        "      <td>         NaN</td>\n",
        "      <td>                       NaN</td>\n",
        "      <td> NaN</td>\n",
        "      <td> NaN</td>\n",
        "      <td>    NaN</td>\n",
        "      <td>NaN</td>\n",
        "      <td>...</td>\n",
        "      <td>NaN</td>\n",
        "      <td>NaN</td>\n",
        "      <td>NaN</td>\n",
        "      <td>NaN</td>\n",
        "      <td>NaN</td>\n",
        "      <td>NaN</td>\n",
        "      <td>NaN</td>\n",
        "      <td>NaN</td>\n",
        "      <td>NaN</td>\n",
        "      <td>NaN</td>\n",
        "    </tr>\n",
        "    <tr>\n",
        "      <th>60748</th>\n",
        "      <td>  #1010</td>\n",
        "      <td>     milda_b@hotmail.com</td>\n",
        "      <td>     NaN</td>\n",
        "      <td>                       NaN</td>\n",
        "      <td>         NaN</td>\n",
        "      <td>                       NaN</td>\n",
        "      <td> NaN</td>\n",
        "      <td> NaN</td>\n",
        "      <td>    NaN</td>\n",
        "      <td>NaN</td>\n",
        "      <td>...</td>\n",
        "      <td>NaN</td>\n",
        "      <td>NaN</td>\n",
        "      <td>NaN</td>\n",
        "      <td>NaN</td>\n",
        "      <td>NaN</td>\n",
        "      <td>NaN</td>\n",
        "      <td>NaN</td>\n",
        "      <td>NaN</td>\n",
        "      <td>NaN</td>\n",
        "      <td>NaN</td>\n",
        "    </tr>\n",
        "    <tr>\n",
        "      <th>60749</th>\n",
        "      <td>  #1010</td>\n",
        "      <td>     milda_b@hotmail.com</td>\n",
        "      <td>     NaN</td>\n",
        "      <td>                       NaN</td>\n",
        "      <td>         NaN</td>\n",
        "      <td>                       NaN</td>\n",
        "      <td> NaN</td>\n",
        "      <td> NaN</td>\n",
        "      <td>    NaN</td>\n",
        "      <td>NaN</td>\n",
        "      <td>...</td>\n",
        "      <td>NaN</td>\n",
        "      <td>NaN</td>\n",
        "      <td>NaN</td>\n",
        "      <td>NaN</td>\n",
        "      <td>NaN</td>\n",
        "      <td>NaN</td>\n",
        "      <td>NaN</td>\n",
        "      <td>NaN</td>\n",
        "      <td>NaN</td>\n",
        "      <td>NaN</td>\n",
        "    </tr>\n",
        "    <tr>\n",
        "      <th>60750</th>\n",
        "      <td>  #1010</td>\n",
        "      <td>     milda_b@hotmail.com</td>\n",
        "      <td>     NaN</td>\n",
        "      <td>                       NaN</td>\n",
        "      <td>         NaN</td>\n",
        "      <td>                       NaN</td>\n",
        "      <td> NaN</td>\n",
        "      <td> NaN</td>\n",
        "      <td>    NaN</td>\n",
        "      <td>NaN</td>\n",
        "      <td>...</td>\n",
        "      <td>NaN</td>\n",
        "      <td>NaN</td>\n",
        "      <td>NaN</td>\n",
        "      <td>NaN</td>\n",
        "      <td>NaN</td>\n",
        "      <td>NaN</td>\n",
        "      <td>NaN</td>\n",
        "      <td>NaN</td>\n",
        "      <td>NaN</td>\n",
        "      <td>NaN</td>\n",
        "    </tr>\n",
        "    <tr>\n",
        "      <th>60751</th>\n",
        "      <td>  #1010</td>\n",
        "      <td>     milda_b@hotmail.com</td>\n",
        "      <td>     NaN</td>\n",
        "      <td>                       NaN</td>\n",
        "      <td>         NaN</td>\n",
        "      <td>                       NaN</td>\n",
        "      <td> NaN</td>\n",
        "      <td> NaN</td>\n",
        "      <td>    NaN</td>\n",
        "      <td>NaN</td>\n",
        "      <td>...</td>\n",
        "      <td>NaN</td>\n",
        "      <td>NaN</td>\n",
        "      <td>NaN</td>\n",
        "      <td>NaN</td>\n",
        "      <td>NaN</td>\n",
        "      <td>NaN</td>\n",
        "      <td>NaN</td>\n",
        "      <td>NaN</td>\n",
        "      <td>NaN</td>\n",
        "      <td>NaN</td>\n",
        "    </tr>\n",
        "    <tr>\n",
        "      <th>60752</th>\n",
        "      <td>  #1010</td>\n",
        "      <td>     milda_b@hotmail.com</td>\n",
        "      <td>     NaN</td>\n",
        "      <td>                       NaN</td>\n",
        "      <td>         NaN</td>\n",
        "      <td>                       NaN</td>\n",
        "      <td> NaN</td>\n",
        "      <td> NaN</td>\n",
        "      <td>    NaN</td>\n",
        "      <td>NaN</td>\n",
        "      <td>...</td>\n",
        "      <td>NaN</td>\n",
        "      <td>NaN</td>\n",
        "      <td>NaN</td>\n",
        "      <td>NaN</td>\n",
        "      <td>NaN</td>\n",
        "      <td>NaN</td>\n",
        "      <td>NaN</td>\n",
        "      <td>NaN</td>\n",
        "      <td>NaN</td>\n",
        "      <td>NaN</td>\n",
        "    </tr>\n",
        "    <tr>\n",
        "      <th>60753</th>\n",
        "      <td>  #1009</td>\n",
        "      <td>     bente.ring@yahoo.no</td>\n",
        "      <td>    paid</td>\n",
        "      <td> 2012-05-10 19:12:35 +0200</td>\n",
        "      <td>   fulfilled</td>\n",
        "      <td> 2012-05-10 19:12:32 +0200</td>\n",
        "      <td> yes</td>\n",
        "      <td> EGP</td>\n",
        "      <td>  45.50</td>\n",
        "      <td>  5</td>\n",
        "      <td>...</td>\n",
        "      <td>NaN</td>\n",
        "      <td>NaN</td>\n",
        "      <td>NaN</td>\n",
        "      <td>NaN</td>\n",
        "      <td>NaN</td>\n",
        "      <td>NaN</td>\n",
        "      <td>NaN</td>\n",
        "      <td>NaN</td>\n",
        "      <td>NaN</td>\n",
        "      <td>NaN</td>\n",
        "    </tr>\n",
        "    <tr>\n",
        "      <th>60754</th>\n",
        "      <td>  #1008</td>\n",
        "      <td>     bente.ring@yahoo.no</td>\n",
        "      <td>    paid</td>\n",
        "      <td> 2012-05-10 19:13:35 +0200</td>\n",
        "      <td>   fulfilled</td>\n",
        "      <td> 2012-05-10 19:13:32 +0200</td>\n",
        "      <td> yes</td>\n",
        "      <td> EGP</td>\n",
        "      <td> 357.53</td>\n",
        "      <td>  5</td>\n",
        "      <td>...</td>\n",
        "      <td>NaN</td>\n",
        "      <td>NaN</td>\n",
        "      <td>NaN</td>\n",
        "      <td>NaN</td>\n",
        "      <td>NaN</td>\n",
        "      <td>NaN</td>\n",
        "      <td>NaN</td>\n",
        "      <td>NaN</td>\n",
        "      <td>NaN</td>\n",
        "      <td>NaN</td>\n",
        "    </tr>\n",
        "    <tr>\n",
        "      <th>60755</th>\n",
        "      <td>  #1008</td>\n",
        "      <td>     bente.ring@yahoo.no</td>\n",
        "      <td>     NaN</td>\n",
        "      <td>                       NaN</td>\n",
        "      <td>         NaN</td>\n",
        "      <td>                       NaN</td>\n",
        "      <td> NaN</td>\n",
        "      <td> NaN</td>\n",
        "      <td>    NaN</td>\n",
        "      <td>NaN</td>\n",
        "      <td>...</td>\n",
        "      <td>NaN</td>\n",
        "      <td>NaN</td>\n",
        "      <td>NaN</td>\n",
        "      <td>NaN</td>\n",
        "      <td>NaN</td>\n",
        "      <td>NaN</td>\n",
        "      <td>NaN</td>\n",
        "      <td>NaN</td>\n",
        "      <td>NaN</td>\n",
        "      <td>NaN</td>\n",
        "    </tr>\n",
        "    <tr>\n",
        "      <th>60756</th>\n",
        "      <td>  #1008</td>\n",
        "      <td>     bente.ring@yahoo.no</td>\n",
        "      <td>     NaN</td>\n",
        "      <td>                       NaN</td>\n",
        "      <td>         NaN</td>\n",
        "      <td>                       NaN</td>\n",
        "      <td> NaN</td>\n",
        "      <td> NaN</td>\n",
        "      <td>    NaN</td>\n",
        "      <td>NaN</td>\n",
        "      <td>...</td>\n",
        "      <td>NaN</td>\n",
        "      <td>NaN</td>\n",
        "      <td>NaN</td>\n",
        "      <td>NaN</td>\n",
        "      <td>NaN</td>\n",
        "      <td>NaN</td>\n",
        "      <td>NaN</td>\n",
        "      <td>NaN</td>\n",
        "      <td>NaN</td>\n",
        "      <td>NaN</td>\n",
        "    </tr>\n",
        "    <tr>\n",
        "      <th>60757</th>\n",
        "      <td>  #1008</td>\n",
        "      <td>     bente.ring@yahoo.no</td>\n",
        "      <td>     NaN</td>\n",
        "      <td>                       NaN</td>\n",
        "      <td>         NaN</td>\n",
        "      <td>                       NaN</td>\n",
        "      <td> NaN</td>\n",
        "      <td> NaN</td>\n",
        "      <td>    NaN</td>\n",
        "      <td>NaN</td>\n",
        "      <td>...</td>\n",
        "      <td>NaN</td>\n",
        "      <td>NaN</td>\n",
        "      <td>NaN</td>\n",
        "      <td>NaN</td>\n",
        "      <td>NaN</td>\n",
        "      <td>NaN</td>\n",
        "      <td>NaN</td>\n",
        "      <td>NaN</td>\n",
        "      <td>NaN</td>\n",
        "      <td>NaN</td>\n",
        "    </tr>\n",
        "    <tr>\n",
        "      <th>60758</th>\n",
        "      <td>  #1008</td>\n",
        "      <td>     bente.ring@yahoo.no</td>\n",
        "      <td>     NaN</td>\n",
        "      <td>                       NaN</td>\n",
        "      <td>         NaN</td>\n",
        "      <td>                       NaN</td>\n",
        "      <td> NaN</td>\n",
        "      <td> NaN</td>\n",
        "      <td>    NaN</td>\n",
        "      <td>NaN</td>\n",
        "      <td>...</td>\n",
        "      <td>NaN</td>\n",
        "      <td>NaN</td>\n",
        "      <td>NaN</td>\n",
        "      <td>NaN</td>\n",
        "      <td>NaN</td>\n",
        "      <td>NaN</td>\n",
        "      <td>NaN</td>\n",
        "      <td>NaN</td>\n",
        "      <td>NaN</td>\n",
        "      <td>NaN</td>\n",
        "    </tr>\n",
        "    <tr>\n",
        "      <th>60759</th>\n",
        "      <td>  #1007</td>\n",
        "      <td>  lik-novikova@yandex.ru</td>\n",
        "      <td>    paid</td>\n",
        "      <td> 2012-05-04 18:36:50 +0200</td>\n",
        "      <td>   fulfilled</td>\n",
        "      <td> 2012-05-04 18:33:47 +0200</td>\n",
        "      <td> yes</td>\n",
        "      <td> EGP</td>\n",
        "      <td> 110.83</td>\n",
        "      <td>  5</td>\n",
        "      <td>...</td>\n",
        "      <td>NaN</td>\n",
        "      <td>NaN</td>\n",
        "      <td>NaN</td>\n",
        "      <td>NaN</td>\n",
        "      <td>NaN</td>\n",
        "      <td>NaN</td>\n",
        "      <td>NaN</td>\n",
        "      <td>NaN</td>\n",
        "      <td>NaN</td>\n",
        "      <td>NaN</td>\n",
        "    </tr>\n",
        "    <tr>\n",
        "      <th>60760</th>\n",
        "      <td>  #1007</td>\n",
        "      <td>  lik-novikova@yandex.ru</td>\n",
        "      <td>     NaN</td>\n",
        "      <td>                       NaN</td>\n",
        "      <td>         NaN</td>\n",
        "      <td>                       NaN</td>\n",
        "      <td> NaN</td>\n",
        "      <td> NaN</td>\n",
        "      <td>    NaN</td>\n",
        "      <td>NaN</td>\n",
        "      <td>...</td>\n",
        "      <td>NaN</td>\n",
        "      <td>NaN</td>\n",
        "      <td>NaN</td>\n",
        "      <td>NaN</td>\n",
        "      <td>NaN</td>\n",
        "      <td>NaN</td>\n",
        "      <td>NaN</td>\n",
        "      <td>NaN</td>\n",
        "      <td>NaN</td>\n",
        "      <td>NaN</td>\n",
        "    </tr>\n",
        "    <tr>\n",
        "      <th>60761</th>\n",
        "      <td>  #1007</td>\n",
        "      <td>  lik-novikova@yandex.ru</td>\n",
        "      <td>     NaN</td>\n",
        "      <td>                       NaN</td>\n",
        "      <td>         NaN</td>\n",
        "      <td>                       NaN</td>\n",
        "      <td> NaN</td>\n",
        "      <td> NaN</td>\n",
        "      <td>    NaN</td>\n",
        "      <td>NaN</td>\n",
        "      <td>...</td>\n",
        "      <td>NaN</td>\n",
        "      <td>NaN</td>\n",
        "      <td>NaN</td>\n",
        "      <td>NaN</td>\n",
        "      <td>NaN</td>\n",
        "      <td>NaN</td>\n",
        "      <td>NaN</td>\n",
        "      <td>NaN</td>\n",
        "      <td>NaN</td>\n",
        "      <td>NaN</td>\n",
        "    </tr>\n",
        "    <tr>\n",
        "      <th>60762</th>\n",
        "      <td>  #1007</td>\n",
        "      <td>  lik-novikova@yandex.ru</td>\n",
        "      <td>     NaN</td>\n",
        "      <td>                       NaN</td>\n",
        "      <td>         NaN</td>\n",
        "      <td>                       NaN</td>\n",
        "      <td> NaN</td>\n",
        "      <td> NaN</td>\n",
        "      <td>    NaN</td>\n",
        "      <td>NaN</td>\n",
        "      <td>...</td>\n",
        "      <td>NaN</td>\n",
        "      <td>NaN</td>\n",
        "      <td>NaN</td>\n",
        "      <td>NaN</td>\n",
        "      <td>NaN</td>\n",
        "      <td>NaN</td>\n",
        "      <td>NaN</td>\n",
        "      <td>NaN</td>\n",
        "      <td>NaN</td>\n",
        "      <td>NaN</td>\n",
        "    </tr>\n",
        "    <tr>\n",
        "      <th>60763</th>\n",
        "      <td>  #1006</td>\n",
        "      <td>     bente.ring@yahoo.no</td>\n",
        "      <td>    paid</td>\n",
        "      <td> 2012-05-04 18:37:13 +0200</td>\n",
        "      <td>   fulfilled</td>\n",
        "      <td> 2012-05-03 10:57:23 +0200</td>\n",
        "      <td> yes</td>\n",
        "      <td> EGP</td>\n",
        "      <td> 201.51</td>\n",
        "      <td>  5</td>\n",
        "      <td>...</td>\n",
        "      <td>NaN</td>\n",
        "      <td>NaN</td>\n",
        "      <td>NaN</td>\n",
        "      <td>NaN</td>\n",
        "      <td>NaN</td>\n",
        "      <td>NaN</td>\n",
        "      <td>NaN</td>\n",
        "      <td>NaN</td>\n",
        "      <td>NaN</td>\n",
        "      <td>NaN</td>\n",
        "    </tr>\n",
        "    <tr>\n",
        "      <th>60764</th>\n",
        "      <td>  #1006</td>\n",
        "      <td>     bente.ring@yahoo.no</td>\n",
        "      <td>     NaN</td>\n",
        "      <td>                       NaN</td>\n",
        "      <td>         NaN</td>\n",
        "      <td>                       NaN</td>\n",
        "      <td> NaN</td>\n",
        "      <td> NaN</td>\n",
        "      <td>    NaN</td>\n",
        "      <td>NaN</td>\n",
        "      <td>...</td>\n",
        "      <td>NaN</td>\n",
        "      <td>NaN</td>\n",
        "      <td>NaN</td>\n",
        "      <td>NaN</td>\n",
        "      <td>NaN</td>\n",
        "      <td>NaN</td>\n",
        "      <td>NaN</td>\n",
        "      <td>NaN</td>\n",
        "      <td>NaN</td>\n",
        "      <td>NaN</td>\n",
        "    </tr>\n",
        "    <tr>\n",
        "      <th>60765</th>\n",
        "      <td>  #1006</td>\n",
        "      <td>     bente.ring@yahoo.no</td>\n",
        "      <td>     NaN</td>\n",
        "      <td>                       NaN</td>\n",
        "      <td>         NaN</td>\n",
        "      <td>                       NaN</td>\n",
        "      <td> NaN</td>\n",
        "      <td> NaN</td>\n",
        "      <td>    NaN</td>\n",
        "      <td>NaN</td>\n",
        "      <td>...</td>\n",
        "      <td>NaN</td>\n",
        "      <td>NaN</td>\n",
        "      <td>NaN</td>\n",
        "      <td>NaN</td>\n",
        "      <td>NaN</td>\n",
        "      <td>NaN</td>\n",
        "      <td>NaN</td>\n",
        "      <td>NaN</td>\n",
        "      <td>NaN</td>\n",
        "      <td>NaN</td>\n",
        "    </tr>\n",
        "    <tr>\n",
        "      <th>60766</th>\n",
        "      <td>  #1006</td>\n",
        "      <td>     bente.ring@yahoo.no</td>\n",
        "      <td>     NaN</td>\n",
        "      <td>                       NaN</td>\n",
        "      <td>         NaN</td>\n",
        "      <td>                       NaN</td>\n",
        "      <td> NaN</td>\n",
        "      <td> NaN</td>\n",
        "      <td>    NaN</td>\n",
        "      <td>NaN</td>\n",
        "      <td>...</td>\n",
        "      <td>NaN</td>\n",
        "      <td>NaN</td>\n",
        "      <td>NaN</td>\n",
        "      <td>NaN</td>\n",
        "      <td>NaN</td>\n",
        "      <td>NaN</td>\n",
        "      <td>NaN</td>\n",
        "      <td>NaN</td>\n",
        "      <td>NaN</td>\n",
        "      <td>NaN</td>\n",
        "    </tr>\n",
        "    <tr>\n",
        "      <th>60767</th>\n",
        "      <td>  #1006</td>\n",
        "      <td>     bente.ring@yahoo.no</td>\n",
        "      <td>     NaN</td>\n",
        "      <td>                       NaN</td>\n",
        "      <td>         NaN</td>\n",
        "      <td>                       NaN</td>\n",
        "      <td> NaN</td>\n",
        "      <td> NaN</td>\n",
        "      <td>    NaN</td>\n",
        "      <td>NaN</td>\n",
        "      <td>...</td>\n",
        "      <td>NaN</td>\n",
        "      <td>NaN</td>\n",
        "      <td>NaN</td>\n",
        "      <td>NaN</td>\n",
        "      <td>NaN</td>\n",
        "      <td>NaN</td>\n",
        "      <td>NaN</td>\n",
        "      <td>NaN</td>\n",
        "      <td>NaN</td>\n",
        "      <td>NaN</td>\n",
        "    </tr>\n",
        "    <tr>\n",
        "      <th>60768</th>\n",
        "      <td>  #1005</td>\n",
        "      <td>    cathypod@hotmail.com</td>\n",
        "      <td>    paid</td>\n",
        "      <td> 2012-05-04 18:37:35 +0200</td>\n",
        "      <td>   fulfilled</td>\n",
        "      <td> 2012-05-03 11:03:44 +0200</td>\n",
        "      <td> yes</td>\n",
        "      <td> EGP</td>\n",
        "      <td>  54.60</td>\n",
        "      <td>  5</td>\n",
        "      <td>...</td>\n",
        "      <td>NaN</td>\n",
        "      <td>NaN</td>\n",
        "      <td>NaN</td>\n",
        "      <td>NaN</td>\n",
        "      <td>NaN</td>\n",
        "      <td>NaN</td>\n",
        "      <td>NaN</td>\n",
        "      <td>NaN</td>\n",
        "      <td>NaN</td>\n",
        "      <td>NaN</td>\n",
        "    </tr>\n",
        "    <tr>\n",
        "      <th>60769</th>\n",
        "      <td>  #1005</td>\n",
        "      <td>    cathypod@hotmail.com</td>\n",
        "      <td>     NaN</td>\n",
        "      <td>                       NaN</td>\n",
        "      <td>         NaN</td>\n",
        "      <td>                       NaN</td>\n",
        "      <td> NaN</td>\n",
        "      <td> NaN</td>\n",
        "      <td>    NaN</td>\n",
        "      <td>NaN</td>\n",
        "      <td>...</td>\n",
        "      <td>NaN</td>\n",
        "      <td>NaN</td>\n",
        "      <td>NaN</td>\n",
        "      <td>NaN</td>\n",
        "      <td>NaN</td>\n",
        "      <td>NaN</td>\n",
        "      <td>NaN</td>\n",
        "      <td>NaN</td>\n",
        "      <td>NaN</td>\n",
        "      <td>NaN</td>\n",
        "    </tr>\n",
        "    <tr>\n",
        "      <th>60770</th>\n",
        "      <td>  #1005</td>\n",
        "      <td>    cathypod@hotmail.com</td>\n",
        "      <td>     NaN</td>\n",
        "      <td>                       NaN</td>\n",
        "      <td>         NaN</td>\n",
        "      <td>                       NaN</td>\n",
        "      <td> NaN</td>\n",
        "      <td> NaN</td>\n",
        "      <td>    NaN</td>\n",
        "      <td>NaN</td>\n",
        "      <td>...</td>\n",
        "      <td>NaN</td>\n",
        "      <td>NaN</td>\n",
        "      <td>NaN</td>\n",
        "      <td>NaN</td>\n",
        "      <td>NaN</td>\n",
        "      <td>NaN</td>\n",
        "      <td>NaN</td>\n",
        "      <td>NaN</td>\n",
        "      <td>NaN</td>\n",
        "      <td>NaN</td>\n",
        "    </tr>\n",
        "    <tr>\n",
        "      <th>60771</th>\n",
        "      <td>  #1005</td>\n",
        "      <td>    cathypod@hotmail.com</td>\n",
        "      <td>     NaN</td>\n",
        "      <td>                       NaN</td>\n",
        "      <td>         NaN</td>\n",
        "      <td>                       NaN</td>\n",
        "      <td> NaN</td>\n",
        "      <td> NaN</td>\n",
        "      <td>    NaN</td>\n",
        "      <td>NaN</td>\n",
        "      <td>...</td>\n",
        "      <td>NaN</td>\n",
        "      <td>NaN</td>\n",
        "      <td>NaN</td>\n",
        "      <td>NaN</td>\n",
        "      <td>NaN</td>\n",
        "      <td>NaN</td>\n",
        "      <td>NaN</td>\n",
        "      <td>NaN</td>\n",
        "      <td>NaN</td>\n",
        "      <td>NaN</td>\n",
        "    </tr>\n",
        "  </tbody>\n",
        "</table>\n",
        "<p>60772 rows \u00d7 66 columns</p>\n",
        "</div>"
       ],
       "metadata": {},
       "output_type": "pyout",
       "prompt_number": 1,
       "text": [
        "         Name                    Email Financial Status  \\\n",
        "0      #10367   rehabmansour@gmail.com          pending   \n",
        "1      #10367   rehabmansour@gmail.com              NaN   \n",
        "2      #10367   rehabmansour@gmail.com              NaN   \n",
        "3      #10366      nabouheif@yahoo.com          pending   \n",
        "4      #10366      nabouheif@yahoo.com              NaN   \n",
        "5      #10366      nabouheif@yahoo.com              NaN   \n",
        "6      #10365   fracicardi@hotmail.com          pending   \n",
        "7      #10365   fracicardi@hotmail.com              NaN   \n",
        "8      #10365   fracicardi@hotmail.com              NaN   \n",
        "9      #10365   fracicardi@hotmail.com              NaN   \n",
        "10     #10365   fracicardi@hotmail.com              NaN   \n",
        "11     #10365   fracicardi@hotmail.com              NaN   \n",
        "12     #10364   ahmed.fakhry@gmail.com          pending   \n",
        "13     #10364   ahmed.fakhry@gmail.com              NaN   \n",
        "14     #10364   ahmed.fakhry@gmail.com              NaN   \n",
        "15     #10364   ahmed.fakhry@gmail.com              NaN   \n",
        "16     #10364   ahmed.fakhry@gmail.com              NaN   \n",
        "17     #10364   ahmed.fakhry@gmail.com              NaN   \n",
        "18     #10364   ahmed.fakhry@gmail.com              NaN   \n",
        "19     #10364   ahmed.fakhry@gmail.com              NaN   \n",
        "20     #10364   ahmed.fakhry@gmail.com              NaN   \n",
        "21     #10363   ahmed.fakhry@gmail.com          pending   \n",
        "22     #10362     Missilou11@yahoo.com          pending   \n",
        "23     #10361  sallysalem123@gmail.com          pending   \n",
        "24     #10361  sallysalem123@gmail.com              NaN   \n",
        "25     #10361  sallysalem123@gmail.com              NaN   \n",
        "26     #10361  sallysalem123@gmail.com              NaN   \n",
        "27     #10361  sallysalem123@gmail.com              NaN   \n",
        "28     #10361  sallysalem123@gmail.com              NaN   \n",
        "29     #10361  sallysalem123@gmail.com              NaN   \n",
        "...       ...                      ...              ...   \n",
        "60742   #1013   lik-novikova@yandex.ru              NaN   \n",
        "60743   #1012      bettyhedrich@gmx.de             paid   \n",
        "60744   #1012      bettyhedrich@gmx.de              NaN   \n",
        "60745   #1011            rulah@msn.com             paid   \n",
        "60746   #1010      milda_b@hotmail.com             paid   \n",
        "60747   #1010      milda_b@hotmail.com              NaN   \n",
        "60748   #1010      milda_b@hotmail.com              NaN   \n",
        "60749   #1010      milda_b@hotmail.com              NaN   \n",
        "60750   #1010      milda_b@hotmail.com              NaN   \n",
        "60751   #1010      milda_b@hotmail.com              NaN   \n",
        "60752   #1010      milda_b@hotmail.com              NaN   \n",
        "60753   #1009      bente.ring@yahoo.no             paid   \n",
        "60754   #1008      bente.ring@yahoo.no             paid   \n",
        "60755   #1008      bente.ring@yahoo.no              NaN   \n",
        "60756   #1008      bente.ring@yahoo.no              NaN   \n",
        "60757   #1008      bente.ring@yahoo.no              NaN   \n",
        "60758   #1008      bente.ring@yahoo.no              NaN   \n",
        "60759   #1007   lik-novikova@yandex.ru             paid   \n",
        "60760   #1007   lik-novikova@yandex.ru              NaN   \n",
        "60761   #1007   lik-novikova@yandex.ru              NaN   \n",
        "60762   #1007   lik-novikova@yandex.ru              NaN   \n",
        "60763   #1006      bente.ring@yahoo.no             paid   \n",
        "60764   #1006      bente.ring@yahoo.no              NaN   \n",
        "60765   #1006      bente.ring@yahoo.no              NaN   \n",
        "60766   #1006      bente.ring@yahoo.no              NaN   \n",
        "60767   #1006      bente.ring@yahoo.no              NaN   \n",
        "60768   #1005     cathypod@hotmail.com             paid   \n",
        "60769   #1005     cathypod@hotmail.com              NaN   \n",
        "60770   #1005     cathypod@hotmail.com              NaN   \n",
        "60771   #1005     cathypod@hotmail.com              NaN   \n",
        "\n",
        "                         Paid at Fulfillment Status  \\\n",
        "0                            NaN        unfulfilled   \n",
        "1                            NaN                NaN   \n",
        "2                            NaN                NaN   \n",
        "3                            NaN        unfulfilled   \n",
        "4                            NaN                NaN   \n",
        "5                            NaN                NaN   \n",
        "6                            NaN        unfulfilled   \n",
        "7                            NaN                NaN   \n",
        "8                            NaN                NaN   \n",
        "9                            NaN                NaN   \n",
        "10                           NaN                NaN   \n",
        "11                           NaN                NaN   \n",
        "12                           NaN        unfulfilled   \n",
        "13                           NaN                NaN   \n",
        "14                           NaN                NaN   \n",
        "15                           NaN                NaN   \n",
        "16                           NaN                NaN   \n",
        "17                           NaN                NaN   \n",
        "18                           NaN                NaN   \n",
        "19                           NaN                NaN   \n",
        "20                           NaN                NaN   \n",
        "21                           NaN        unfulfilled   \n",
        "22                           NaN        unfulfilled   \n",
        "23                           NaN        unfulfilled   \n",
        "24                           NaN                NaN   \n",
        "25                           NaN                NaN   \n",
        "26                           NaN                NaN   \n",
        "27                           NaN                NaN   \n",
        "28                           NaN                NaN   \n",
        "29                           NaN                NaN   \n",
        "...                          ...                ...   \n",
        "60742                        NaN                NaN   \n",
        "60743  2012-05-27 13:15:42 +0200          fulfilled   \n",
        "60744                        NaN                NaN   \n",
        "60745  2012-05-21 18:33:13 +0200          fulfilled   \n",
        "60746  2012-05-09 11:09:12 +0200          fulfilled   \n",
        "60747                        NaN                NaN   \n",
        "60748                        NaN                NaN   \n",
        "60749                        NaN                NaN   \n",
        "60750                        NaN                NaN   \n",
        "60751                        NaN                NaN   \n",
        "60752                        NaN                NaN   \n",
        "60753  2012-05-10 19:12:35 +0200          fulfilled   \n",
        "60754  2012-05-10 19:13:35 +0200          fulfilled   \n",
        "60755                        NaN                NaN   \n",
        "60756                        NaN                NaN   \n",
        "60757                        NaN                NaN   \n",
        "60758                        NaN                NaN   \n",
        "60759  2012-05-04 18:36:50 +0200          fulfilled   \n",
        "60760                        NaN                NaN   \n",
        "60761                        NaN                NaN   \n",
        "60762                        NaN                NaN   \n",
        "60763  2012-05-04 18:37:13 +0200          fulfilled   \n",
        "60764                        NaN                NaN   \n",
        "60765                        NaN                NaN   \n",
        "60766                        NaN                NaN   \n",
        "60767                        NaN                NaN   \n",
        "60768  2012-05-04 18:37:35 +0200          fulfilled   \n",
        "60769                        NaN                NaN   \n",
        "60770                        NaN                NaN   \n",
        "60771                        NaN                NaN   \n",
        "\n",
        "                    Fulfilled at Accepts Marketing Currency  Subtotal  \\\n",
        "0                            NaN                no      EGP    375.30   \n",
        "1                            NaN               NaN      NaN       NaN   \n",
        "2                            NaN               NaN      NaN       NaN   \n",
        "3                            NaN                no      EGP    162.90   \n",
        "4                            NaN               NaN      NaN       NaN   \n",
        "5                            NaN               NaN      NaN       NaN   \n",
        "6                            NaN                no      EGP    129.00   \n",
        "7                            NaN               NaN      NaN       NaN   \n",
        "8                            NaN               NaN      NaN       NaN   \n",
        "9                            NaN               NaN      NaN       NaN   \n",
        "10                           NaN               NaN      NaN       NaN   \n",
        "11                           NaN               NaN      NaN       NaN   \n",
        "12                           NaN                no      EGP    660.10   \n",
        "13                           NaN               NaN      NaN       NaN   \n",
        "14                           NaN               NaN      NaN       NaN   \n",
        "15                           NaN               NaN      NaN       NaN   \n",
        "16                           NaN               NaN      NaN       NaN   \n",
        "17                           NaN               NaN      NaN       NaN   \n",
        "18                           NaN               NaN      NaN       NaN   \n",
        "19                           NaN               NaN      NaN       NaN   \n",
        "20                           NaN               NaN      NaN       NaN   \n",
        "21                           NaN                no      EGP    592.00   \n",
        "22                           NaN                no      EGP     70.20   \n",
        "23                           NaN                no      EGP    432.00   \n",
        "24                           NaN               NaN      NaN       NaN   \n",
        "25                           NaN               NaN      NaN       NaN   \n",
        "26                           NaN               NaN      NaN       NaN   \n",
        "27                           NaN               NaN      NaN       NaN   \n",
        "28                           NaN               NaN      NaN       NaN   \n",
        "29                           NaN               NaN      NaN       NaN   \n",
        "...                          ...               ...      ...       ...   \n",
        "60742                        NaN               NaN      NaN       NaN   \n",
        "60743  2012-05-27 13:15:14 +0200                no      EGP     41.93   \n",
        "60744                        NaN               NaN      NaN       NaN   \n",
        "60745  2012-05-21 18:33:43 +0200               yes      EGP    222.30   \n",
        "60746  2012-05-09 11:09:06 +0200               yes      EGP    155.55   \n",
        "60747                        NaN               NaN      NaN       NaN   \n",
        "60748                        NaN               NaN      NaN       NaN   \n",
        "60749                        NaN               NaN      NaN       NaN   \n",
        "60750                        NaN               NaN      NaN       NaN   \n",
        "60751                        NaN               NaN      NaN       NaN   \n",
        "60752                        NaN               NaN      NaN       NaN   \n",
        "60753  2012-05-10 19:12:32 +0200               yes      EGP     45.50   \n",
        "60754  2012-05-10 19:13:32 +0200               yes      EGP    357.53   \n",
        "60755                        NaN               NaN      NaN       NaN   \n",
        "60756                        NaN               NaN      NaN       NaN   \n",
        "60757                        NaN               NaN      NaN       NaN   \n",
        "60758                        NaN               NaN      NaN       NaN   \n",
        "60759  2012-05-04 18:33:47 +0200               yes      EGP    110.83   \n",
        "60760                        NaN               NaN      NaN       NaN   \n",
        "60761                        NaN               NaN      NaN       NaN   \n",
        "60762                        NaN               NaN      NaN       NaN   \n",
        "60763  2012-05-03 10:57:23 +0200               yes      EGP    201.51   \n",
        "60764                        NaN               NaN      NaN       NaN   \n",
        "60765                        NaN               NaN      NaN       NaN   \n",
        "60766                        NaN               NaN      NaN       NaN   \n",
        "60767                        NaN               NaN      NaN       NaN   \n",
        "60768  2012-05-03 11:03:44 +0200               yes      EGP     54.60   \n",
        "60769                        NaN               NaN      NaN       NaN   \n",
        "60770                        NaN               NaN      NaN       NaN   \n",
        "60771                        NaN               NaN      NaN       NaN   \n",
        "\n",
        "       Shipping     ...       Tax 1 Name  Tax 1 Value Tax 2 Name  Tax 2 Value  \\\n",
        "0            10     ...              NaN          NaN        NaN          NaN   \n",
        "1           NaN     ...              NaN          NaN        NaN          NaN   \n",
        "2           NaN     ...              NaN          NaN        NaN          NaN   \n",
        "3            10     ...              NaN          NaN        NaN          NaN   \n",
        "4           NaN     ...              NaN          NaN        NaN          NaN   \n",
        "5           NaN     ...              NaN          NaN        NaN          NaN   \n",
        "6            15     ...              NaN          NaN        NaN          NaN   \n",
        "7           NaN     ...              NaN          NaN        NaN          NaN   \n",
        "8           NaN     ...              NaN          NaN        NaN          NaN   \n",
        "9           NaN     ...              NaN          NaN        NaN          NaN   \n",
        "10          NaN     ...              NaN          NaN        NaN          NaN   \n",
        "11          NaN     ...              NaN          NaN        NaN          NaN   \n",
        "12           10     ...              NaN          NaN        NaN          NaN   \n",
        "13          NaN     ...              NaN          NaN        NaN          NaN   \n",
        "14          NaN     ...              NaN          NaN        NaN          NaN   \n",
        "15          NaN     ...              NaN          NaN        NaN          NaN   \n",
        "16          NaN     ...              NaN          NaN        NaN          NaN   \n",
        "17          NaN     ...              NaN          NaN        NaN          NaN   \n",
        "18          NaN     ...              NaN          NaN        NaN          NaN   \n",
        "19          NaN     ...              NaN          NaN        NaN          NaN   \n",
        "20          NaN     ...              NaN          NaN        NaN          NaN   \n",
        "21           10     ...              NaN          NaN        NaN          NaN   \n",
        "22           15     ...              NaN          NaN        NaN          NaN   \n",
        "23           10     ...              NaN          NaN        NaN          NaN   \n",
        "24          NaN     ...              NaN          NaN        NaN          NaN   \n",
        "25          NaN     ...              NaN          NaN        NaN          NaN   \n",
        "26          NaN     ...              NaN          NaN        NaN          NaN   \n",
        "27          NaN     ...              NaN          NaN        NaN          NaN   \n",
        "28          NaN     ...              NaN          NaN        NaN          NaN   \n",
        "29          NaN     ...              NaN          NaN        NaN          NaN   \n",
        "...         ...     ...              ...          ...        ...          ...   \n",
        "60742       NaN     ...              NaN          NaN        NaN          NaN   \n",
        "60743         5     ...              NaN          NaN        NaN          NaN   \n",
        "60744       NaN     ...              NaN          NaN        NaN          NaN   \n",
        "60745         5     ...              NaN          NaN        NaN          NaN   \n",
        "60746         5     ...              NaN          NaN        NaN          NaN   \n",
        "60747       NaN     ...              NaN          NaN        NaN          NaN   \n",
        "60748       NaN     ...              NaN          NaN        NaN          NaN   \n",
        "60749       NaN     ...              NaN          NaN        NaN          NaN   \n",
        "60750       NaN     ...              NaN          NaN        NaN          NaN   \n",
        "60751       NaN     ...              NaN          NaN        NaN          NaN   \n",
        "60752       NaN     ...              NaN          NaN        NaN          NaN   \n",
        "60753         5     ...              NaN          NaN        NaN          NaN   \n",
        "60754         5     ...              NaN          NaN        NaN          NaN   \n",
        "60755       NaN     ...              NaN          NaN        NaN          NaN   \n",
        "60756       NaN     ...              NaN          NaN        NaN          NaN   \n",
        "60757       NaN     ...              NaN          NaN        NaN          NaN   \n",
        "60758       NaN     ...              NaN          NaN        NaN          NaN   \n",
        "60759         5     ...              NaN          NaN        NaN          NaN   \n",
        "60760       NaN     ...              NaN          NaN        NaN          NaN   \n",
        "60761       NaN     ...              NaN          NaN        NaN          NaN   \n",
        "60762       NaN     ...              NaN          NaN        NaN          NaN   \n",
        "60763         5     ...              NaN          NaN        NaN          NaN   \n",
        "60764       NaN     ...              NaN          NaN        NaN          NaN   \n",
        "60765       NaN     ...              NaN          NaN        NaN          NaN   \n",
        "60766       NaN     ...              NaN          NaN        NaN          NaN   \n",
        "60767       NaN     ...              NaN          NaN        NaN          NaN   \n",
        "60768         5     ...              NaN          NaN        NaN          NaN   \n",
        "60769       NaN     ...              NaN          NaN        NaN          NaN   \n",
        "60770       NaN     ...              NaN          NaN        NaN          NaN   \n",
        "60771       NaN     ...              NaN          NaN        NaN          NaN   \n",
        "\n",
        "      Tax 3 Name Tax 3 Value  Tax 4 Name Tax 4 Value  Tax 5 Name  Tax 5 Value  \n",
        "0            NaN         NaN         NaN         NaN         NaN          NaN  \n",
        "1            NaN         NaN         NaN         NaN         NaN          NaN  \n",
        "2            NaN         NaN         NaN         NaN         NaN          NaN  \n",
        "3            NaN         NaN         NaN         NaN         NaN          NaN  \n",
        "4            NaN         NaN         NaN         NaN         NaN          NaN  \n",
        "5            NaN         NaN         NaN         NaN         NaN          NaN  \n",
        "6            NaN         NaN         NaN         NaN         NaN          NaN  \n",
        "7            NaN         NaN         NaN         NaN         NaN          NaN  \n",
        "8            NaN         NaN         NaN         NaN         NaN          NaN  \n",
        "9            NaN         NaN         NaN         NaN         NaN          NaN  \n",
        "10           NaN         NaN         NaN         NaN         NaN          NaN  \n",
        "11           NaN         NaN         NaN         NaN         NaN          NaN  \n",
        "12           NaN         NaN         NaN         NaN         NaN          NaN  \n",
        "13           NaN         NaN         NaN         NaN         NaN          NaN  \n",
        "14           NaN         NaN         NaN         NaN         NaN          NaN  \n",
        "15           NaN         NaN         NaN         NaN         NaN          NaN  \n",
        "16           NaN         NaN         NaN         NaN         NaN          NaN  \n",
        "17           NaN         NaN         NaN         NaN         NaN          NaN  \n",
        "18           NaN         NaN         NaN         NaN         NaN          NaN  \n",
        "19           NaN         NaN         NaN         NaN         NaN          NaN  \n",
        "20           NaN         NaN         NaN         NaN         NaN          NaN  \n",
        "21           NaN         NaN         NaN         NaN         NaN          NaN  \n",
        "22           NaN         NaN         NaN         NaN         NaN          NaN  \n",
        "23           NaN         NaN         NaN         NaN         NaN          NaN  \n",
        "24           NaN         NaN         NaN         NaN         NaN          NaN  \n",
        "25           NaN         NaN         NaN         NaN         NaN          NaN  \n",
        "26           NaN         NaN         NaN         NaN         NaN          NaN  \n",
        "27           NaN         NaN         NaN         NaN         NaN          NaN  \n",
        "28           NaN         NaN         NaN         NaN         NaN          NaN  \n",
        "29           NaN         NaN         NaN         NaN         NaN          NaN  \n",
        "...          ...         ...         ...         ...         ...          ...  \n",
        "60742        NaN         NaN         NaN         NaN         NaN          NaN  \n",
        "60743        NaN         NaN         NaN         NaN         NaN          NaN  \n",
        "60744        NaN         NaN         NaN         NaN         NaN          NaN  \n",
        "60745        NaN         NaN         NaN         NaN         NaN          NaN  \n",
        "60746        NaN         NaN         NaN         NaN         NaN          NaN  \n",
        "60747        NaN         NaN         NaN         NaN         NaN          NaN  \n",
        "60748        NaN         NaN         NaN         NaN         NaN          NaN  \n",
        "60749        NaN         NaN         NaN         NaN         NaN          NaN  \n",
        "60750        NaN         NaN         NaN         NaN         NaN          NaN  \n",
        "60751        NaN         NaN         NaN         NaN         NaN          NaN  \n",
        "60752        NaN         NaN         NaN         NaN         NaN          NaN  \n",
        "60753        NaN         NaN         NaN         NaN         NaN          NaN  \n",
        "60754        NaN         NaN         NaN         NaN         NaN          NaN  \n",
        "60755        NaN         NaN         NaN         NaN         NaN          NaN  \n",
        "60756        NaN         NaN         NaN         NaN         NaN          NaN  \n",
        "60757        NaN         NaN         NaN         NaN         NaN          NaN  \n",
        "60758        NaN         NaN         NaN         NaN         NaN          NaN  \n",
        "60759        NaN         NaN         NaN         NaN         NaN          NaN  \n",
        "60760        NaN         NaN         NaN         NaN         NaN          NaN  \n",
        "60761        NaN         NaN         NaN         NaN         NaN          NaN  \n",
        "60762        NaN         NaN         NaN         NaN         NaN          NaN  \n",
        "60763        NaN         NaN         NaN         NaN         NaN          NaN  \n",
        "60764        NaN         NaN         NaN         NaN         NaN          NaN  \n",
        "60765        NaN         NaN         NaN         NaN         NaN          NaN  \n",
        "60766        NaN         NaN         NaN         NaN         NaN          NaN  \n",
        "60767        NaN         NaN         NaN         NaN         NaN          NaN  \n",
        "60768        NaN         NaN         NaN         NaN         NaN          NaN  \n",
        "60769        NaN         NaN         NaN         NaN         NaN          NaN  \n",
        "60770        NaN         NaN         NaN         NaN         NaN          NaN  \n",
        "60771        NaN         NaN         NaN         NaN         NaN          NaN  \n",
        "\n",
        "[60772 rows x 66 columns]"
       ]
      }
     ],
     "prompt_number": 1
    },
    {
     "cell_type": "code",
     "collapsed": false,
     "input": [
      "df = df[['Name', 'Email', 'Created at', 'Lineitem quantity', 'Lineitem price']]\n",
      "#calculate revenue\n",
      "df['Revenue'] = df.apply(lambda x: x['Lineitem quantity']*x['Lineitem price'], axis=1)\n",
      "df"
     ],
     "language": "python",
     "metadata": {},
     "outputs": [
      {
       "output_type": "stream",
       "stream": "stderr",
       "text": [
        "-c:3: SettingWithCopyWarning: \n",
        "A value is trying to be set on a copy of a slice from a DataFrame.\n",
        "Try using .loc[row_indexer,col_indexer] = value instead\n",
        "\n",
        "See the the caveats in the documentation: http://pandas.pydata.org/pandas-docs/stable/indexing.html#indexing-view-versus-copy\n"
       ]
      },
      {
       "html": [
        "<div style=\"max-height:1000px;max-width:1500px;overflow:auto;\">\n",
        "<table border=\"1\" class=\"dataframe\">\n",
        "  <thead>\n",
        "    <tr style=\"text-align: right;\">\n",
        "      <th></th>\n",
        "      <th>Name</th>\n",
        "      <th>Email</th>\n",
        "      <th>Created at</th>\n",
        "      <th>Lineitem quantity</th>\n",
        "      <th>Lineitem price</th>\n",
        "      <th>Revenue</th>\n",
        "    </tr>\n",
        "  </thead>\n",
        "  <tbody>\n",
        "    <tr>\n",
        "      <th>0    </th>\n",
        "      <td> #10367</td>\n",
        "      <td>  rehabmansour@gmail.com</td>\n",
        "      <td> 2015-12-23 20:33:51 +0200</td>\n",
        "      <td> 4</td>\n",
        "      <td>  45.00</td>\n",
        "      <td> 180.00</td>\n",
        "    </tr>\n",
        "    <tr>\n",
        "      <th>1    </th>\n",
        "      <td> #10367</td>\n",
        "      <td>  rehabmansour@gmail.com</td>\n",
        "      <td> 2015-12-23 20:33:51 +0200</td>\n",
        "      <td> 2</td>\n",
        "      <td>   7.20</td>\n",
        "      <td>  14.40</td>\n",
        "    </tr>\n",
        "    <tr>\n",
        "      <th>2    </th>\n",
        "      <td> #10367</td>\n",
        "      <td>  rehabmansour@gmail.com</td>\n",
        "      <td> 2015-12-23 20:33:51 +0200</td>\n",
        "      <td> 3</td>\n",
        "      <td>  60.30</td>\n",
        "      <td> 180.90</td>\n",
        "    </tr>\n",
        "    <tr>\n",
        "      <th>3    </th>\n",
        "      <td> #10366</td>\n",
        "      <td>     nabouheif@yahoo.com</td>\n",
        "      <td> 2015-12-23 20:00:17 +0200</td>\n",
        "      <td> 1</td>\n",
        "      <td>  30.60</td>\n",
        "      <td>  30.60</td>\n",
        "    </tr>\n",
        "    <tr>\n",
        "      <th>4    </th>\n",
        "      <td> #10366</td>\n",
        "      <td>     nabouheif@yahoo.com</td>\n",
        "      <td> 2015-12-23 20:00:17 +0200</td>\n",
        "      <td> 1</td>\n",
        "      <td>  10.80</td>\n",
        "      <td>  10.80</td>\n",
        "    </tr>\n",
        "    <tr>\n",
        "      <th>5    </th>\n",
        "      <td> #10366</td>\n",
        "      <td>     nabouheif@yahoo.com</td>\n",
        "      <td> 2015-12-23 20:00:17 +0200</td>\n",
        "      <td> 3</td>\n",
        "      <td>  40.50</td>\n",
        "      <td> 121.50</td>\n",
        "    </tr>\n",
        "    <tr>\n",
        "      <th>6    </th>\n",
        "      <td> #10365</td>\n",
        "      <td>  fracicardi@hotmail.com</td>\n",
        "      <td> 2015-12-23 18:36:17 +0200</td>\n",
        "      <td> 1</td>\n",
        "      <td>   2.10</td>\n",
        "      <td>   2.10</td>\n",
        "    </tr>\n",
        "    <tr>\n",
        "      <th>7    </th>\n",
        "      <td> #10365</td>\n",
        "      <td>  fracicardi@hotmail.com</td>\n",
        "      <td> 2015-12-23 18:36:17 +0200</td>\n",
        "      <td> 1</td>\n",
        "      <td>   7.20</td>\n",
        "      <td>   7.20</td>\n",
        "    </tr>\n",
        "    <tr>\n",
        "      <th>8    </th>\n",
        "      <td> #10365</td>\n",
        "      <td>  fracicardi@hotmail.com</td>\n",
        "      <td> 2015-12-23 18:36:17 +0200</td>\n",
        "      <td> 1</td>\n",
        "      <td>   7.20</td>\n",
        "      <td>   7.20</td>\n",
        "    </tr>\n",
        "    <tr>\n",
        "      <th>9    </th>\n",
        "      <td> #10365</td>\n",
        "      <td>  fracicardi@hotmail.com</td>\n",
        "      <td> 2015-12-23 18:36:17 +0200</td>\n",
        "      <td> 1</td>\n",
        "      <td>  60.30</td>\n",
        "      <td>  60.30</td>\n",
        "    </tr>\n",
        "    <tr>\n",
        "      <th>10   </th>\n",
        "      <td> #10365</td>\n",
        "      <td>  fracicardi@hotmail.com</td>\n",
        "      <td> 2015-12-23 18:36:17 +0200</td>\n",
        "      <td> 1</td>\n",
        "      <td>   7.20</td>\n",
        "      <td>   7.20</td>\n",
        "    </tr>\n",
        "    <tr>\n",
        "      <th>11   </th>\n",
        "      <td> #10365</td>\n",
        "      <td>  fracicardi@hotmail.com</td>\n",
        "      <td> 2015-12-23 18:36:17 +0200</td>\n",
        "      <td> 1</td>\n",
        "      <td>  45.00</td>\n",
        "      <td>  45.00</td>\n",
        "    </tr>\n",
        "    <tr>\n",
        "      <th>12   </th>\n",
        "      <td> #10364</td>\n",
        "      <td>  ahmed.fakhry@gmail.com</td>\n",
        "      <td> 2015-12-23 16:06:49 +0200</td>\n",
        "      <td> 1</td>\n",
        "      <td>  60.30</td>\n",
        "      <td>  60.30</td>\n",
        "    </tr>\n",
        "    <tr>\n",
        "      <th>13   </th>\n",
        "      <td> #10364</td>\n",
        "      <td>  ahmed.fakhry@gmail.com</td>\n",
        "      <td> 2015-12-23 16:06:49 +0200</td>\n",
        "      <td> 1</td>\n",
        "      <td>  33.30</td>\n",
        "      <td>  33.30</td>\n",
        "    </tr>\n",
        "    <tr>\n",
        "      <th>14   </th>\n",
        "      <td> #10364</td>\n",
        "      <td>  ahmed.fakhry@gmail.com</td>\n",
        "      <td> 2015-12-23 16:06:49 +0200</td>\n",
        "      <td> 1</td>\n",
        "      <td>  60.30</td>\n",
        "      <td>  60.30</td>\n",
        "    </tr>\n",
        "    <tr>\n",
        "      <th>15   </th>\n",
        "      <td> #10364</td>\n",
        "      <td>  ahmed.fakhry@gmail.com</td>\n",
        "      <td> 2015-12-23 16:06:49 +0200</td>\n",
        "      <td> 1</td>\n",
        "      <td> 114.00</td>\n",
        "      <td> 114.00</td>\n",
        "    </tr>\n",
        "    <tr>\n",
        "      <th>16   </th>\n",
        "      <td> #10364</td>\n",
        "      <td>  ahmed.fakhry@gmail.com</td>\n",
        "      <td> 2015-12-23 16:06:49 +0200</td>\n",
        "      <td> 1</td>\n",
        "      <td> 114.00</td>\n",
        "      <td> 114.00</td>\n",
        "    </tr>\n",
        "    <tr>\n",
        "      <th>17   </th>\n",
        "      <td> #10364</td>\n",
        "      <td>  ahmed.fakhry@gmail.com</td>\n",
        "      <td> 2015-12-23 16:06:49 +0200</td>\n",
        "      <td> 1</td>\n",
        "      <td>  98.00</td>\n",
        "      <td>  98.00</td>\n",
        "    </tr>\n",
        "    <tr>\n",
        "      <th>18   </th>\n",
        "      <td> #10364</td>\n",
        "      <td>  ahmed.fakhry@gmail.com</td>\n",
        "      <td> 2015-12-23 16:06:49 +0200</td>\n",
        "      <td> 1</td>\n",
        "      <td>  65.00</td>\n",
        "      <td>  65.00</td>\n",
        "    </tr>\n",
        "    <tr>\n",
        "      <th>19   </th>\n",
        "      <td> #10364</td>\n",
        "      <td>  ahmed.fakhry@gmail.com</td>\n",
        "      <td> 2015-12-23 16:06:49 +0200</td>\n",
        "      <td> 1</td>\n",
        "      <td>  57.60</td>\n",
        "      <td>  57.60</td>\n",
        "    </tr>\n",
        "    <tr>\n",
        "      <th>20   </th>\n",
        "      <td> #10364</td>\n",
        "      <td>  ahmed.fakhry@gmail.com</td>\n",
        "      <td> 2015-12-23 16:06:49 +0200</td>\n",
        "      <td> 1</td>\n",
        "      <td>  57.60</td>\n",
        "      <td>  57.60</td>\n",
        "    </tr>\n",
        "    <tr>\n",
        "      <th>21   </th>\n",
        "      <td> #10363</td>\n",
        "      <td>  ahmed.fakhry@gmail.com</td>\n",
        "      <td> 2015-12-23 16:01:32 +0200</td>\n",
        "      <td> 4</td>\n",
        "      <td> 148.00</td>\n",
        "      <td> 592.00</td>\n",
        "    </tr>\n",
        "    <tr>\n",
        "      <th>22   </th>\n",
        "      <td> #10362</td>\n",
        "      <td>    Missilou11@yahoo.com</td>\n",
        "      <td> 2015-12-23 14:25:09 +0200</td>\n",
        "      <td> 1</td>\n",
        "      <td>  70.20</td>\n",
        "      <td>  70.20</td>\n",
        "    </tr>\n",
        "    <tr>\n",
        "      <th>23   </th>\n",
        "      <td> #10361</td>\n",
        "      <td> sallysalem123@gmail.com</td>\n",
        "      <td> 2015-12-23 13:13:34 +0200</td>\n",
        "      <td> 1</td>\n",
        "      <td>  41.00</td>\n",
        "      <td>  41.00</td>\n",
        "    </tr>\n",
        "    <tr>\n",
        "      <th>24   </th>\n",
        "      <td> #10361</td>\n",
        "      <td> sallysalem123@gmail.com</td>\n",
        "      <td> 2015-12-23 13:13:34 +0200</td>\n",
        "      <td> 2</td>\n",
        "      <td>   4.25</td>\n",
        "      <td>   8.50</td>\n",
        "    </tr>\n",
        "    <tr>\n",
        "      <th>25   </th>\n",
        "      <td> #10361</td>\n",
        "      <td> sallysalem123@gmail.com</td>\n",
        "      <td> 2015-12-23 13:13:34 +0200</td>\n",
        "      <td> 1</td>\n",
        "      <td>  10.80</td>\n",
        "      <td>  10.80</td>\n",
        "    </tr>\n",
        "    <tr>\n",
        "      <th>26   </th>\n",
        "      <td> #10361</td>\n",
        "      <td> sallysalem123@gmail.com</td>\n",
        "      <td> 2015-12-23 13:13:34 +0200</td>\n",
        "      <td> 2</td>\n",
        "      <td>  57.60</td>\n",
        "      <td> 115.20</td>\n",
        "    </tr>\n",
        "    <tr>\n",
        "      <th>27   </th>\n",
        "      <td> #10361</td>\n",
        "      <td> sallysalem123@gmail.com</td>\n",
        "      <td> 2015-12-23 13:13:34 +0200</td>\n",
        "      <td> 2</td>\n",
        "      <td>  57.60</td>\n",
        "      <td> 115.20</td>\n",
        "    </tr>\n",
        "    <tr>\n",
        "      <th>28   </th>\n",
        "      <td> #10361</td>\n",
        "      <td> sallysalem123@gmail.com</td>\n",
        "      <td> 2015-12-23 13:13:34 +0200</td>\n",
        "      <td> 2</td>\n",
        "      <td>  40.50</td>\n",
        "      <td>  81.00</td>\n",
        "    </tr>\n",
        "    <tr>\n",
        "      <th>29   </th>\n",
        "      <td> #10361</td>\n",
        "      <td> sallysalem123@gmail.com</td>\n",
        "      <td> 2015-12-23 13:13:34 +0200</td>\n",
        "      <td> 1</td>\n",
        "      <td>  60.30</td>\n",
        "      <td>  60.30</td>\n",
        "    </tr>\n",
        "    <tr>\n",
        "      <th>...</th>\n",
        "      <td>...</td>\n",
        "      <td>...</td>\n",
        "      <td>...</td>\n",
        "      <td>...</td>\n",
        "      <td>...</td>\n",
        "      <td>...</td>\n",
        "    </tr>\n",
        "    <tr>\n",
        "      <th>60742</th>\n",
        "      <td>  #1013</td>\n",
        "      <td>  lik-novikova@yandex.ru</td>\n",
        "      <td> 2012-05-21 16:11:25 +0200</td>\n",
        "      <td> 1</td>\n",
        "      <td>  11.38</td>\n",
        "      <td>  11.38</td>\n",
        "    </tr>\n",
        "    <tr>\n",
        "      <th>60743</th>\n",
        "      <td>  #1012</td>\n",
        "      <td>     bettyhedrich@gmx.de</td>\n",
        "      <td> 2012-05-18 18:08:41 +0200</td>\n",
        "      <td> 1</td>\n",
        "      <td>  21.13</td>\n",
        "      <td>  21.13</td>\n",
        "    </tr>\n",
        "    <tr>\n",
        "      <th>60744</th>\n",
        "      <td>  #1012</td>\n",
        "      <td>     bettyhedrich@gmx.de</td>\n",
        "      <td> 2012-05-18 18:08:41 +0200</td>\n",
        "      <td> 2</td>\n",
        "      <td>  10.40</td>\n",
        "      <td>  20.80</td>\n",
        "    </tr>\n",
        "    <tr>\n",
        "      <th>60745</th>\n",
        "      <td>  #1011</td>\n",
        "      <td>           rulah@msn.com</td>\n",
        "      <td> 2012-05-10 19:36:02 +0200</td>\n",
        "      <td> 5</td>\n",
        "      <td>  44.46</td>\n",
        "      <td> 222.30</td>\n",
        "    </tr>\n",
        "    <tr>\n",
        "      <th>60746</th>\n",
        "      <td>  #1010</td>\n",
        "      <td>     milda_b@hotmail.com</td>\n",
        "      <td> 2012-05-08 13:52:24 +0200</td>\n",
        "      <td> 1</td>\n",
        "      <td>   8.19</td>\n",
        "      <td>   8.19</td>\n",
        "    </tr>\n",
        "    <tr>\n",
        "      <th>60747</th>\n",
        "      <td>  #1010</td>\n",
        "      <td>     milda_b@hotmail.com</td>\n",
        "      <td> 2012-05-08 13:52:24 +0200</td>\n",
        "      <td> 1</td>\n",
        "      <td>  45.50</td>\n",
        "      <td>  45.50</td>\n",
        "    </tr>\n",
        "    <tr>\n",
        "      <th>60748</th>\n",
        "      <td>  #1010</td>\n",
        "      <td>     milda_b@hotmail.com</td>\n",
        "      <td> 2012-05-08 13:52:24 +0200</td>\n",
        "      <td> 1</td>\n",
        "      <td>  10.40</td>\n",
        "      <td>  10.40</td>\n",
        "    </tr>\n",
        "    <tr>\n",
        "      <th>60749</th>\n",
        "      <td>  #1010</td>\n",
        "      <td>     milda_b@hotmail.com</td>\n",
        "      <td> 2012-05-08 13:52:24 +0200</td>\n",
        "      <td> 1</td>\n",
        "      <td>  16.58</td>\n",
        "      <td>  16.58</td>\n",
        "    </tr>\n",
        "    <tr>\n",
        "      <th>60750</th>\n",
        "      <td>  #1010</td>\n",
        "      <td>     milda_b@hotmail.com</td>\n",
        "      <td> 2012-05-08 13:52:24 +0200</td>\n",
        "      <td> 1</td>\n",
        "      <td>   9.36</td>\n",
        "      <td>   9.36</td>\n",
        "    </tr>\n",
        "    <tr>\n",
        "      <th>60751</th>\n",
        "      <td>  #1010</td>\n",
        "      <td>     milda_b@hotmail.com</td>\n",
        "      <td> 2012-05-08 13:52:24 +0200</td>\n",
        "      <td> 1</td>\n",
        "      <td>  26.00</td>\n",
        "      <td>  26.00</td>\n",
        "    </tr>\n",
        "    <tr>\n",
        "      <th>60752</th>\n",
        "      <td>  #1010</td>\n",
        "      <td>     milda_b@hotmail.com</td>\n",
        "      <td> 2012-05-08 13:52:24 +0200</td>\n",
        "      <td> 1</td>\n",
        "      <td>  39.52</td>\n",
        "      <td>  39.52</td>\n",
        "    </tr>\n",
        "    <tr>\n",
        "      <th>60753</th>\n",
        "      <td>  #1009</td>\n",
        "      <td>     bente.ring@yahoo.no</td>\n",
        "      <td> 2012-05-08 13:20:05 +0200</td>\n",
        "      <td> 5</td>\n",
        "      <td>   9.10</td>\n",
        "      <td>  45.50</td>\n",
        "    </tr>\n",
        "    <tr>\n",
        "      <th>60754</th>\n",
        "      <td>  #1008</td>\n",
        "      <td>     bente.ring@yahoo.no</td>\n",
        "      <td> 2012-05-07 10:49:42 +0200</td>\n",
        "      <td> 3</td>\n",
        "      <td>  26.65</td>\n",
        "      <td>  79.95</td>\n",
        "    </tr>\n",
        "    <tr>\n",
        "      <th>60755</th>\n",
        "      <td>  #1008</td>\n",
        "      <td>     bente.ring@yahoo.no</td>\n",
        "      <td> 2012-05-07 10:49:42 +0200</td>\n",
        "      <td> 2</td>\n",
        "      <td>  56.88</td>\n",
        "      <td> 113.76</td>\n",
        "    </tr>\n",
        "    <tr>\n",
        "      <th>60756</th>\n",
        "      <td>  #1008</td>\n",
        "      <td>     bente.ring@yahoo.no</td>\n",
        "      <td> 2012-05-07 10:49:42 +0200</td>\n",
        "      <td> 2</td>\n",
        "      <td>  56.88</td>\n",
        "      <td> 113.76</td>\n",
        "    </tr>\n",
        "    <tr>\n",
        "      <th>60757</th>\n",
        "      <td>  #1008</td>\n",
        "      <td>     bente.ring@yahoo.no</td>\n",
        "      <td> 2012-05-07 10:49:42 +0200</td>\n",
        "      <td> 2</td>\n",
        "      <td>  21.13</td>\n",
        "      <td>  42.26</td>\n",
        "    </tr>\n",
        "    <tr>\n",
        "      <th>60758</th>\n",
        "      <td>  #1008</td>\n",
        "      <td>     bente.ring@yahoo.no</td>\n",
        "      <td> 2012-05-07 10:49:42 +0200</td>\n",
        "      <td> 1</td>\n",
        "      <td>   7.80</td>\n",
        "      <td>   7.80</td>\n",
        "    </tr>\n",
        "    <tr>\n",
        "      <th>60759</th>\n",
        "      <td>  #1007</td>\n",
        "      <td>  lik-novikova@yandex.ru</td>\n",
        "      <td> 2012-05-03 11:34:14 +0200</td>\n",
        "      <td> 1</td>\n",
        "      <td>  22.10</td>\n",
        "      <td>  22.10</td>\n",
        "    </tr>\n",
        "    <tr>\n",
        "      <th>60760</th>\n",
        "      <td>  #1007</td>\n",
        "      <td>  lik-novikova@yandex.ru</td>\n",
        "      <td> 2012-05-03 11:34:14 +0200</td>\n",
        "      <td> 1</td>\n",
        "      <td>  40.95</td>\n",
        "      <td>  40.95</td>\n",
        "    </tr>\n",
        "    <tr>\n",
        "      <th>60761</th>\n",
        "      <td>  #1007</td>\n",
        "      <td>  lik-novikova@yandex.ru</td>\n",
        "      <td> 2012-05-03 11:34:14 +0200</td>\n",
        "      <td> 1</td>\n",
        "      <td>  26.65</td>\n",
        "      <td>  26.65</td>\n",
        "    </tr>\n",
        "    <tr>\n",
        "      <th>60762</th>\n",
        "      <td>  #1007</td>\n",
        "      <td>  lik-novikova@yandex.ru</td>\n",
        "      <td> 2012-05-03 11:34:14 +0200</td>\n",
        "      <td> 1</td>\n",
        "      <td>  21.13</td>\n",
        "      <td>  21.13</td>\n",
        "    </tr>\n",
        "    <tr>\n",
        "      <th>60763</th>\n",
        "      <td>  #1006</td>\n",
        "      <td>     bente.ring@yahoo.no</td>\n",
        "      <td> 2012-05-02 17:38:40 +0200</td>\n",
        "      <td> 1</td>\n",
        "      <td>   9.10</td>\n",
        "      <td>   9.10</td>\n",
        "    </tr>\n",
        "    <tr>\n",
        "      <th>60764</th>\n",
        "      <td>  #1006</td>\n",
        "      <td>     bente.ring@yahoo.no</td>\n",
        "      <td> 2012-05-02 17:38:40 +0200</td>\n",
        "      <td> 1</td>\n",
        "      <td>  26.65</td>\n",
        "      <td>  26.65</td>\n",
        "    </tr>\n",
        "    <tr>\n",
        "      <th>60765</th>\n",
        "      <td>  #1006</td>\n",
        "      <td>     bente.ring@yahoo.no</td>\n",
        "      <td> 2012-05-02 17:38:40 +0200</td>\n",
        "      <td> 1</td>\n",
        "      <td>  52.00</td>\n",
        "      <td>  52.00</td>\n",
        "    </tr>\n",
        "    <tr>\n",
        "      <th>60766</th>\n",
        "      <td>  #1006</td>\n",
        "      <td>     bente.ring@yahoo.no</td>\n",
        "      <td> 2012-05-02 17:38:40 +0200</td>\n",
        "      <td> 1</td>\n",
        "      <td>  56.88</td>\n",
        "      <td>  56.88</td>\n",
        "    </tr>\n",
        "    <tr>\n",
        "      <th>60767</th>\n",
        "      <td>  #1006</td>\n",
        "      <td>     bente.ring@yahoo.no</td>\n",
        "      <td> 2012-05-02 17:38:40 +0200</td>\n",
        "      <td> 1</td>\n",
        "      <td>  56.88</td>\n",
        "      <td>  56.88</td>\n",
        "    </tr>\n",
        "    <tr>\n",
        "      <th>60768</th>\n",
        "      <td>  #1005</td>\n",
        "      <td>    cathypod@hotmail.com</td>\n",
        "      <td> 2012-05-01 22:08:45 +0200</td>\n",
        "      <td> 1</td>\n",
        "      <td>   8.19</td>\n",
        "      <td>   8.19</td>\n",
        "    </tr>\n",
        "    <tr>\n",
        "      <th>60769</th>\n",
        "      <td>  #1005</td>\n",
        "      <td>    cathypod@hotmail.com</td>\n",
        "      <td> 2012-05-01 22:08:45 +0200</td>\n",
        "      <td> 1</td>\n",
        "      <td>  10.40</td>\n",
        "      <td>  10.40</td>\n",
        "    </tr>\n",
        "    <tr>\n",
        "      <th>60770</th>\n",
        "      <td>  #1005</td>\n",
        "      <td>    cathypod@hotmail.com</td>\n",
        "      <td> 2012-05-01 22:08:45 +0200</td>\n",
        "      <td> 1</td>\n",
        "      <td>  26.65</td>\n",
        "      <td>  26.65</td>\n",
        "    </tr>\n",
        "    <tr>\n",
        "      <th>60771</th>\n",
        "      <td>  #1005</td>\n",
        "      <td>    cathypod@hotmail.com</td>\n",
        "      <td> 2012-05-01 22:08:45 +0200</td>\n",
        "      <td> 1</td>\n",
        "      <td>   9.36</td>\n",
        "      <td>   9.36</td>\n",
        "    </tr>\n",
        "  </tbody>\n",
        "</table>\n",
        "<p>60772 rows \u00d7 6 columns</p>\n",
        "</div>"
       ],
       "metadata": {},
       "output_type": "pyout",
       "prompt_number": 2,
       "text": [
        "         Name                    Email                 Created at  \\\n",
        "0      #10367   rehabmansour@gmail.com  2015-12-23 20:33:51 +0200   \n",
        "1      #10367   rehabmansour@gmail.com  2015-12-23 20:33:51 +0200   \n",
        "2      #10367   rehabmansour@gmail.com  2015-12-23 20:33:51 +0200   \n",
        "3      #10366      nabouheif@yahoo.com  2015-12-23 20:00:17 +0200   \n",
        "4      #10366      nabouheif@yahoo.com  2015-12-23 20:00:17 +0200   \n",
        "5      #10366      nabouheif@yahoo.com  2015-12-23 20:00:17 +0200   \n",
        "6      #10365   fracicardi@hotmail.com  2015-12-23 18:36:17 +0200   \n",
        "7      #10365   fracicardi@hotmail.com  2015-12-23 18:36:17 +0200   \n",
        "8      #10365   fracicardi@hotmail.com  2015-12-23 18:36:17 +0200   \n",
        "9      #10365   fracicardi@hotmail.com  2015-12-23 18:36:17 +0200   \n",
        "10     #10365   fracicardi@hotmail.com  2015-12-23 18:36:17 +0200   \n",
        "11     #10365   fracicardi@hotmail.com  2015-12-23 18:36:17 +0200   \n",
        "12     #10364   ahmed.fakhry@gmail.com  2015-12-23 16:06:49 +0200   \n",
        "13     #10364   ahmed.fakhry@gmail.com  2015-12-23 16:06:49 +0200   \n",
        "14     #10364   ahmed.fakhry@gmail.com  2015-12-23 16:06:49 +0200   \n",
        "15     #10364   ahmed.fakhry@gmail.com  2015-12-23 16:06:49 +0200   \n",
        "16     #10364   ahmed.fakhry@gmail.com  2015-12-23 16:06:49 +0200   \n",
        "17     #10364   ahmed.fakhry@gmail.com  2015-12-23 16:06:49 +0200   \n",
        "18     #10364   ahmed.fakhry@gmail.com  2015-12-23 16:06:49 +0200   \n",
        "19     #10364   ahmed.fakhry@gmail.com  2015-12-23 16:06:49 +0200   \n",
        "20     #10364   ahmed.fakhry@gmail.com  2015-12-23 16:06:49 +0200   \n",
        "21     #10363   ahmed.fakhry@gmail.com  2015-12-23 16:01:32 +0200   \n",
        "22     #10362     Missilou11@yahoo.com  2015-12-23 14:25:09 +0200   \n",
        "23     #10361  sallysalem123@gmail.com  2015-12-23 13:13:34 +0200   \n",
        "24     #10361  sallysalem123@gmail.com  2015-12-23 13:13:34 +0200   \n",
        "25     #10361  sallysalem123@gmail.com  2015-12-23 13:13:34 +0200   \n",
        "26     #10361  sallysalem123@gmail.com  2015-12-23 13:13:34 +0200   \n",
        "27     #10361  sallysalem123@gmail.com  2015-12-23 13:13:34 +0200   \n",
        "28     #10361  sallysalem123@gmail.com  2015-12-23 13:13:34 +0200   \n",
        "29     #10361  sallysalem123@gmail.com  2015-12-23 13:13:34 +0200   \n",
        "...       ...                      ...                        ...   \n",
        "60742   #1013   lik-novikova@yandex.ru  2012-05-21 16:11:25 +0200   \n",
        "60743   #1012      bettyhedrich@gmx.de  2012-05-18 18:08:41 +0200   \n",
        "60744   #1012      bettyhedrich@gmx.de  2012-05-18 18:08:41 +0200   \n",
        "60745   #1011            rulah@msn.com  2012-05-10 19:36:02 +0200   \n",
        "60746   #1010      milda_b@hotmail.com  2012-05-08 13:52:24 +0200   \n",
        "60747   #1010      milda_b@hotmail.com  2012-05-08 13:52:24 +0200   \n",
        "60748   #1010      milda_b@hotmail.com  2012-05-08 13:52:24 +0200   \n",
        "60749   #1010      milda_b@hotmail.com  2012-05-08 13:52:24 +0200   \n",
        "60750   #1010      milda_b@hotmail.com  2012-05-08 13:52:24 +0200   \n",
        "60751   #1010      milda_b@hotmail.com  2012-05-08 13:52:24 +0200   \n",
        "60752   #1010      milda_b@hotmail.com  2012-05-08 13:52:24 +0200   \n",
        "60753   #1009      bente.ring@yahoo.no  2012-05-08 13:20:05 +0200   \n",
        "60754   #1008      bente.ring@yahoo.no  2012-05-07 10:49:42 +0200   \n",
        "60755   #1008      bente.ring@yahoo.no  2012-05-07 10:49:42 +0200   \n",
        "60756   #1008      bente.ring@yahoo.no  2012-05-07 10:49:42 +0200   \n",
        "60757   #1008      bente.ring@yahoo.no  2012-05-07 10:49:42 +0200   \n",
        "60758   #1008      bente.ring@yahoo.no  2012-05-07 10:49:42 +0200   \n",
        "60759   #1007   lik-novikova@yandex.ru  2012-05-03 11:34:14 +0200   \n",
        "60760   #1007   lik-novikova@yandex.ru  2012-05-03 11:34:14 +0200   \n",
        "60761   #1007   lik-novikova@yandex.ru  2012-05-03 11:34:14 +0200   \n",
        "60762   #1007   lik-novikova@yandex.ru  2012-05-03 11:34:14 +0200   \n",
        "60763   #1006      bente.ring@yahoo.no  2012-05-02 17:38:40 +0200   \n",
        "60764   #1006      bente.ring@yahoo.no  2012-05-02 17:38:40 +0200   \n",
        "60765   #1006      bente.ring@yahoo.no  2012-05-02 17:38:40 +0200   \n",
        "60766   #1006      bente.ring@yahoo.no  2012-05-02 17:38:40 +0200   \n",
        "60767   #1006      bente.ring@yahoo.no  2012-05-02 17:38:40 +0200   \n",
        "60768   #1005     cathypod@hotmail.com  2012-05-01 22:08:45 +0200   \n",
        "60769   #1005     cathypod@hotmail.com  2012-05-01 22:08:45 +0200   \n",
        "60770   #1005     cathypod@hotmail.com  2012-05-01 22:08:45 +0200   \n",
        "60771   #1005     cathypod@hotmail.com  2012-05-01 22:08:45 +0200   \n",
        "\n",
        "       Lineitem quantity  Lineitem price  Revenue  \n",
        "0                      4           45.00   180.00  \n",
        "1                      2            7.20    14.40  \n",
        "2                      3           60.30   180.90  \n",
        "3                      1           30.60    30.60  \n",
        "4                      1           10.80    10.80  \n",
        "5                      3           40.50   121.50  \n",
        "6                      1            2.10     2.10  \n",
        "7                      1            7.20     7.20  \n",
        "8                      1            7.20     7.20  \n",
        "9                      1           60.30    60.30  \n",
        "10                     1            7.20     7.20  \n",
        "11                     1           45.00    45.00  \n",
        "12                     1           60.30    60.30  \n",
        "13                     1           33.30    33.30  \n",
        "14                     1           60.30    60.30  \n",
        "15                     1          114.00   114.00  \n",
        "16                     1          114.00   114.00  \n",
        "17                     1           98.00    98.00  \n",
        "18                     1           65.00    65.00  \n",
        "19                     1           57.60    57.60  \n",
        "20                     1           57.60    57.60  \n",
        "21                     4          148.00   592.00  \n",
        "22                     1           70.20    70.20  \n",
        "23                     1           41.00    41.00  \n",
        "24                     2            4.25     8.50  \n",
        "25                     1           10.80    10.80  \n",
        "26                     2           57.60   115.20  \n",
        "27                     2           57.60   115.20  \n",
        "28                     2           40.50    81.00  \n",
        "29                     1           60.30    60.30  \n",
        "...                  ...             ...      ...  \n",
        "60742                  1           11.38    11.38  \n",
        "60743                  1           21.13    21.13  \n",
        "60744                  2           10.40    20.80  \n",
        "60745                  5           44.46   222.30  \n",
        "60746                  1            8.19     8.19  \n",
        "60747                  1           45.50    45.50  \n",
        "60748                  1           10.40    10.40  \n",
        "60749                  1           16.58    16.58  \n",
        "60750                  1            9.36     9.36  \n",
        "60751                  1           26.00    26.00  \n",
        "60752                  1           39.52    39.52  \n",
        "60753                  5            9.10    45.50  \n",
        "60754                  3           26.65    79.95  \n",
        "60755                  2           56.88   113.76  \n",
        "60756                  2           56.88   113.76  \n",
        "60757                  2           21.13    42.26  \n",
        "60758                  1            7.80     7.80  \n",
        "60759                  1           22.10    22.10  \n",
        "60760                  1           40.95    40.95  \n",
        "60761                  1           26.65    26.65  \n",
        "60762                  1           21.13    21.13  \n",
        "60763                  1            9.10     9.10  \n",
        "60764                  1           26.65    26.65  \n",
        "60765                  1           52.00    52.00  \n",
        "60766                  1           56.88    56.88  \n",
        "60767                  1           56.88    56.88  \n",
        "60768                  1            8.19     8.19  \n",
        "60769                  1           10.40    10.40  \n",
        "60770                  1           26.65    26.65  \n",
        "60771                  1            9.36     9.36  \n",
        "\n",
        "[60772 rows x 6 columns]"
       ]
      }
     ],
     "prompt_number": 2
    },
    {
     "cell_type": "code",
     "collapsed": false,
     "input": [
      "#get required columns and rename\n",
      "df = df[['Name', 'Email', 'Created at', 'Revenue']]\n",
      "df.columns = ['Name', 'Email', 'Date', 'Revenue']\n",
      "df['Date1'] = df['Date']\n",
      "df"
     ],
     "language": "python",
     "metadata": {},
     "outputs": [
      {
       "output_type": "stream",
       "stream": "stderr",
       "text": [
        "-c:4: SettingWithCopyWarning: \n",
        "A value is trying to be set on a copy of a slice from a DataFrame.\n",
        "Try using .loc[row_indexer,col_indexer] = value instead\n",
        "\n",
        "See the the caveats in the documentation: http://pandas.pydata.org/pandas-docs/stable/indexing.html#indexing-view-versus-copy\n"
       ]
      },
      {
       "html": [
        "<div style=\"max-height:1000px;max-width:1500px;overflow:auto;\">\n",
        "<table border=\"1\" class=\"dataframe\">\n",
        "  <thead>\n",
        "    <tr style=\"text-align: right;\">\n",
        "      <th></th>\n",
        "      <th>Name</th>\n",
        "      <th>Email</th>\n",
        "      <th>Date</th>\n",
        "      <th>Revenue</th>\n",
        "      <th>Date1</th>\n",
        "    </tr>\n",
        "  </thead>\n",
        "  <tbody>\n",
        "    <tr>\n",
        "      <th>0    </th>\n",
        "      <td> #10367</td>\n",
        "      <td>  rehabmansour@gmail.com</td>\n",
        "      <td> 2015-12-23 20:33:51 +0200</td>\n",
        "      <td> 180.00</td>\n",
        "      <td> 2015-12-23 20:33:51 +0200</td>\n",
        "    </tr>\n",
        "    <tr>\n",
        "      <th>1    </th>\n",
        "      <td> #10367</td>\n",
        "      <td>  rehabmansour@gmail.com</td>\n",
        "      <td> 2015-12-23 20:33:51 +0200</td>\n",
        "      <td>  14.40</td>\n",
        "      <td> 2015-12-23 20:33:51 +0200</td>\n",
        "    </tr>\n",
        "    <tr>\n",
        "      <th>2    </th>\n",
        "      <td> #10367</td>\n",
        "      <td>  rehabmansour@gmail.com</td>\n",
        "      <td> 2015-12-23 20:33:51 +0200</td>\n",
        "      <td> 180.90</td>\n",
        "      <td> 2015-12-23 20:33:51 +0200</td>\n",
        "    </tr>\n",
        "    <tr>\n",
        "      <th>3    </th>\n",
        "      <td> #10366</td>\n",
        "      <td>     nabouheif@yahoo.com</td>\n",
        "      <td> 2015-12-23 20:00:17 +0200</td>\n",
        "      <td>  30.60</td>\n",
        "      <td> 2015-12-23 20:00:17 +0200</td>\n",
        "    </tr>\n",
        "    <tr>\n",
        "      <th>4    </th>\n",
        "      <td> #10366</td>\n",
        "      <td>     nabouheif@yahoo.com</td>\n",
        "      <td> 2015-12-23 20:00:17 +0200</td>\n",
        "      <td>  10.80</td>\n",
        "      <td> 2015-12-23 20:00:17 +0200</td>\n",
        "    </tr>\n",
        "    <tr>\n",
        "      <th>5    </th>\n",
        "      <td> #10366</td>\n",
        "      <td>     nabouheif@yahoo.com</td>\n",
        "      <td> 2015-12-23 20:00:17 +0200</td>\n",
        "      <td> 121.50</td>\n",
        "      <td> 2015-12-23 20:00:17 +0200</td>\n",
        "    </tr>\n",
        "    <tr>\n",
        "      <th>6    </th>\n",
        "      <td> #10365</td>\n",
        "      <td>  fracicardi@hotmail.com</td>\n",
        "      <td> 2015-12-23 18:36:17 +0200</td>\n",
        "      <td>   2.10</td>\n",
        "      <td> 2015-12-23 18:36:17 +0200</td>\n",
        "    </tr>\n",
        "    <tr>\n",
        "      <th>7    </th>\n",
        "      <td> #10365</td>\n",
        "      <td>  fracicardi@hotmail.com</td>\n",
        "      <td> 2015-12-23 18:36:17 +0200</td>\n",
        "      <td>   7.20</td>\n",
        "      <td> 2015-12-23 18:36:17 +0200</td>\n",
        "    </tr>\n",
        "    <tr>\n",
        "      <th>8    </th>\n",
        "      <td> #10365</td>\n",
        "      <td>  fracicardi@hotmail.com</td>\n",
        "      <td> 2015-12-23 18:36:17 +0200</td>\n",
        "      <td>   7.20</td>\n",
        "      <td> 2015-12-23 18:36:17 +0200</td>\n",
        "    </tr>\n",
        "    <tr>\n",
        "      <th>9    </th>\n",
        "      <td> #10365</td>\n",
        "      <td>  fracicardi@hotmail.com</td>\n",
        "      <td> 2015-12-23 18:36:17 +0200</td>\n",
        "      <td>  60.30</td>\n",
        "      <td> 2015-12-23 18:36:17 +0200</td>\n",
        "    </tr>\n",
        "    <tr>\n",
        "      <th>10   </th>\n",
        "      <td> #10365</td>\n",
        "      <td>  fracicardi@hotmail.com</td>\n",
        "      <td> 2015-12-23 18:36:17 +0200</td>\n",
        "      <td>   7.20</td>\n",
        "      <td> 2015-12-23 18:36:17 +0200</td>\n",
        "    </tr>\n",
        "    <tr>\n",
        "      <th>11   </th>\n",
        "      <td> #10365</td>\n",
        "      <td>  fracicardi@hotmail.com</td>\n",
        "      <td> 2015-12-23 18:36:17 +0200</td>\n",
        "      <td>  45.00</td>\n",
        "      <td> 2015-12-23 18:36:17 +0200</td>\n",
        "    </tr>\n",
        "    <tr>\n",
        "      <th>12   </th>\n",
        "      <td> #10364</td>\n",
        "      <td>  ahmed.fakhry@gmail.com</td>\n",
        "      <td> 2015-12-23 16:06:49 +0200</td>\n",
        "      <td>  60.30</td>\n",
        "      <td> 2015-12-23 16:06:49 +0200</td>\n",
        "    </tr>\n",
        "    <tr>\n",
        "      <th>13   </th>\n",
        "      <td> #10364</td>\n",
        "      <td>  ahmed.fakhry@gmail.com</td>\n",
        "      <td> 2015-12-23 16:06:49 +0200</td>\n",
        "      <td>  33.30</td>\n",
        "      <td> 2015-12-23 16:06:49 +0200</td>\n",
        "    </tr>\n",
        "    <tr>\n",
        "      <th>14   </th>\n",
        "      <td> #10364</td>\n",
        "      <td>  ahmed.fakhry@gmail.com</td>\n",
        "      <td> 2015-12-23 16:06:49 +0200</td>\n",
        "      <td>  60.30</td>\n",
        "      <td> 2015-12-23 16:06:49 +0200</td>\n",
        "    </tr>\n",
        "    <tr>\n",
        "      <th>15   </th>\n",
        "      <td> #10364</td>\n",
        "      <td>  ahmed.fakhry@gmail.com</td>\n",
        "      <td> 2015-12-23 16:06:49 +0200</td>\n",
        "      <td> 114.00</td>\n",
        "      <td> 2015-12-23 16:06:49 +0200</td>\n",
        "    </tr>\n",
        "    <tr>\n",
        "      <th>16   </th>\n",
        "      <td> #10364</td>\n",
        "      <td>  ahmed.fakhry@gmail.com</td>\n",
        "      <td> 2015-12-23 16:06:49 +0200</td>\n",
        "      <td> 114.00</td>\n",
        "      <td> 2015-12-23 16:06:49 +0200</td>\n",
        "    </tr>\n",
        "    <tr>\n",
        "      <th>17   </th>\n",
        "      <td> #10364</td>\n",
        "      <td>  ahmed.fakhry@gmail.com</td>\n",
        "      <td> 2015-12-23 16:06:49 +0200</td>\n",
        "      <td>  98.00</td>\n",
        "      <td> 2015-12-23 16:06:49 +0200</td>\n",
        "    </tr>\n",
        "    <tr>\n",
        "      <th>18   </th>\n",
        "      <td> #10364</td>\n",
        "      <td>  ahmed.fakhry@gmail.com</td>\n",
        "      <td> 2015-12-23 16:06:49 +0200</td>\n",
        "      <td>  65.00</td>\n",
        "      <td> 2015-12-23 16:06:49 +0200</td>\n",
        "    </tr>\n",
        "    <tr>\n",
        "      <th>19   </th>\n",
        "      <td> #10364</td>\n",
        "      <td>  ahmed.fakhry@gmail.com</td>\n",
        "      <td> 2015-12-23 16:06:49 +0200</td>\n",
        "      <td>  57.60</td>\n",
        "      <td> 2015-12-23 16:06:49 +0200</td>\n",
        "    </tr>\n",
        "    <tr>\n",
        "      <th>20   </th>\n",
        "      <td> #10364</td>\n",
        "      <td>  ahmed.fakhry@gmail.com</td>\n",
        "      <td> 2015-12-23 16:06:49 +0200</td>\n",
        "      <td>  57.60</td>\n",
        "      <td> 2015-12-23 16:06:49 +0200</td>\n",
        "    </tr>\n",
        "    <tr>\n",
        "      <th>21   </th>\n",
        "      <td> #10363</td>\n",
        "      <td>  ahmed.fakhry@gmail.com</td>\n",
        "      <td> 2015-12-23 16:01:32 +0200</td>\n",
        "      <td> 592.00</td>\n",
        "      <td> 2015-12-23 16:01:32 +0200</td>\n",
        "    </tr>\n",
        "    <tr>\n",
        "      <th>22   </th>\n",
        "      <td> #10362</td>\n",
        "      <td>    Missilou11@yahoo.com</td>\n",
        "      <td> 2015-12-23 14:25:09 +0200</td>\n",
        "      <td>  70.20</td>\n",
        "      <td> 2015-12-23 14:25:09 +0200</td>\n",
        "    </tr>\n",
        "    <tr>\n",
        "      <th>23   </th>\n",
        "      <td> #10361</td>\n",
        "      <td> sallysalem123@gmail.com</td>\n",
        "      <td> 2015-12-23 13:13:34 +0200</td>\n",
        "      <td>  41.00</td>\n",
        "      <td> 2015-12-23 13:13:34 +0200</td>\n",
        "    </tr>\n",
        "    <tr>\n",
        "      <th>24   </th>\n",
        "      <td> #10361</td>\n",
        "      <td> sallysalem123@gmail.com</td>\n",
        "      <td> 2015-12-23 13:13:34 +0200</td>\n",
        "      <td>   8.50</td>\n",
        "      <td> 2015-12-23 13:13:34 +0200</td>\n",
        "    </tr>\n",
        "    <tr>\n",
        "      <th>25   </th>\n",
        "      <td> #10361</td>\n",
        "      <td> sallysalem123@gmail.com</td>\n",
        "      <td> 2015-12-23 13:13:34 +0200</td>\n",
        "      <td>  10.80</td>\n",
        "      <td> 2015-12-23 13:13:34 +0200</td>\n",
        "    </tr>\n",
        "    <tr>\n",
        "      <th>26   </th>\n",
        "      <td> #10361</td>\n",
        "      <td> sallysalem123@gmail.com</td>\n",
        "      <td> 2015-12-23 13:13:34 +0200</td>\n",
        "      <td> 115.20</td>\n",
        "      <td> 2015-12-23 13:13:34 +0200</td>\n",
        "    </tr>\n",
        "    <tr>\n",
        "      <th>27   </th>\n",
        "      <td> #10361</td>\n",
        "      <td> sallysalem123@gmail.com</td>\n",
        "      <td> 2015-12-23 13:13:34 +0200</td>\n",
        "      <td> 115.20</td>\n",
        "      <td> 2015-12-23 13:13:34 +0200</td>\n",
        "    </tr>\n",
        "    <tr>\n",
        "      <th>28   </th>\n",
        "      <td> #10361</td>\n",
        "      <td> sallysalem123@gmail.com</td>\n",
        "      <td> 2015-12-23 13:13:34 +0200</td>\n",
        "      <td>  81.00</td>\n",
        "      <td> 2015-12-23 13:13:34 +0200</td>\n",
        "    </tr>\n",
        "    <tr>\n",
        "      <th>29   </th>\n",
        "      <td> #10361</td>\n",
        "      <td> sallysalem123@gmail.com</td>\n",
        "      <td> 2015-12-23 13:13:34 +0200</td>\n",
        "      <td>  60.30</td>\n",
        "      <td> 2015-12-23 13:13:34 +0200</td>\n",
        "    </tr>\n",
        "    <tr>\n",
        "      <th>...</th>\n",
        "      <td>...</td>\n",
        "      <td>...</td>\n",
        "      <td>...</td>\n",
        "      <td>...</td>\n",
        "      <td>...</td>\n",
        "    </tr>\n",
        "    <tr>\n",
        "      <th>60742</th>\n",
        "      <td>  #1013</td>\n",
        "      <td>  lik-novikova@yandex.ru</td>\n",
        "      <td> 2012-05-21 16:11:25 +0200</td>\n",
        "      <td>  11.38</td>\n",
        "      <td> 2012-05-21 16:11:25 +0200</td>\n",
        "    </tr>\n",
        "    <tr>\n",
        "      <th>60743</th>\n",
        "      <td>  #1012</td>\n",
        "      <td>     bettyhedrich@gmx.de</td>\n",
        "      <td> 2012-05-18 18:08:41 +0200</td>\n",
        "      <td>  21.13</td>\n",
        "      <td> 2012-05-18 18:08:41 +0200</td>\n",
        "    </tr>\n",
        "    <tr>\n",
        "      <th>60744</th>\n",
        "      <td>  #1012</td>\n",
        "      <td>     bettyhedrich@gmx.de</td>\n",
        "      <td> 2012-05-18 18:08:41 +0200</td>\n",
        "      <td>  20.80</td>\n",
        "      <td> 2012-05-18 18:08:41 +0200</td>\n",
        "    </tr>\n",
        "    <tr>\n",
        "      <th>60745</th>\n",
        "      <td>  #1011</td>\n",
        "      <td>           rulah@msn.com</td>\n",
        "      <td> 2012-05-10 19:36:02 +0200</td>\n",
        "      <td> 222.30</td>\n",
        "      <td> 2012-05-10 19:36:02 +0200</td>\n",
        "    </tr>\n",
        "    <tr>\n",
        "      <th>60746</th>\n",
        "      <td>  #1010</td>\n",
        "      <td>     milda_b@hotmail.com</td>\n",
        "      <td> 2012-05-08 13:52:24 +0200</td>\n",
        "      <td>   8.19</td>\n",
        "      <td> 2012-05-08 13:52:24 +0200</td>\n",
        "    </tr>\n",
        "    <tr>\n",
        "      <th>60747</th>\n",
        "      <td>  #1010</td>\n",
        "      <td>     milda_b@hotmail.com</td>\n",
        "      <td> 2012-05-08 13:52:24 +0200</td>\n",
        "      <td>  45.50</td>\n",
        "      <td> 2012-05-08 13:52:24 +0200</td>\n",
        "    </tr>\n",
        "    <tr>\n",
        "      <th>60748</th>\n",
        "      <td>  #1010</td>\n",
        "      <td>     milda_b@hotmail.com</td>\n",
        "      <td> 2012-05-08 13:52:24 +0200</td>\n",
        "      <td>  10.40</td>\n",
        "      <td> 2012-05-08 13:52:24 +0200</td>\n",
        "    </tr>\n",
        "    <tr>\n",
        "      <th>60749</th>\n",
        "      <td>  #1010</td>\n",
        "      <td>     milda_b@hotmail.com</td>\n",
        "      <td> 2012-05-08 13:52:24 +0200</td>\n",
        "      <td>  16.58</td>\n",
        "      <td> 2012-05-08 13:52:24 +0200</td>\n",
        "    </tr>\n",
        "    <tr>\n",
        "      <th>60750</th>\n",
        "      <td>  #1010</td>\n",
        "      <td>     milda_b@hotmail.com</td>\n",
        "      <td> 2012-05-08 13:52:24 +0200</td>\n",
        "      <td>   9.36</td>\n",
        "      <td> 2012-05-08 13:52:24 +0200</td>\n",
        "    </tr>\n",
        "    <tr>\n",
        "      <th>60751</th>\n",
        "      <td>  #1010</td>\n",
        "      <td>     milda_b@hotmail.com</td>\n",
        "      <td> 2012-05-08 13:52:24 +0200</td>\n",
        "      <td>  26.00</td>\n",
        "      <td> 2012-05-08 13:52:24 +0200</td>\n",
        "    </tr>\n",
        "    <tr>\n",
        "      <th>60752</th>\n",
        "      <td>  #1010</td>\n",
        "      <td>     milda_b@hotmail.com</td>\n",
        "      <td> 2012-05-08 13:52:24 +0200</td>\n",
        "      <td>  39.52</td>\n",
        "      <td> 2012-05-08 13:52:24 +0200</td>\n",
        "    </tr>\n",
        "    <tr>\n",
        "      <th>60753</th>\n",
        "      <td>  #1009</td>\n",
        "      <td>     bente.ring@yahoo.no</td>\n",
        "      <td> 2012-05-08 13:20:05 +0200</td>\n",
        "      <td>  45.50</td>\n",
        "      <td> 2012-05-08 13:20:05 +0200</td>\n",
        "    </tr>\n",
        "    <tr>\n",
        "      <th>60754</th>\n",
        "      <td>  #1008</td>\n",
        "      <td>     bente.ring@yahoo.no</td>\n",
        "      <td> 2012-05-07 10:49:42 +0200</td>\n",
        "      <td>  79.95</td>\n",
        "      <td> 2012-05-07 10:49:42 +0200</td>\n",
        "    </tr>\n",
        "    <tr>\n",
        "      <th>60755</th>\n",
        "      <td>  #1008</td>\n",
        "      <td>     bente.ring@yahoo.no</td>\n",
        "      <td> 2012-05-07 10:49:42 +0200</td>\n",
        "      <td> 113.76</td>\n",
        "      <td> 2012-05-07 10:49:42 +0200</td>\n",
        "    </tr>\n",
        "    <tr>\n",
        "      <th>60756</th>\n",
        "      <td>  #1008</td>\n",
        "      <td>     bente.ring@yahoo.no</td>\n",
        "      <td> 2012-05-07 10:49:42 +0200</td>\n",
        "      <td> 113.76</td>\n",
        "      <td> 2012-05-07 10:49:42 +0200</td>\n",
        "    </tr>\n",
        "    <tr>\n",
        "      <th>60757</th>\n",
        "      <td>  #1008</td>\n",
        "      <td>     bente.ring@yahoo.no</td>\n",
        "      <td> 2012-05-07 10:49:42 +0200</td>\n",
        "      <td>  42.26</td>\n",
        "      <td> 2012-05-07 10:49:42 +0200</td>\n",
        "    </tr>\n",
        "    <tr>\n",
        "      <th>60758</th>\n",
        "      <td>  #1008</td>\n",
        "      <td>     bente.ring@yahoo.no</td>\n",
        "      <td> 2012-05-07 10:49:42 +0200</td>\n",
        "      <td>   7.80</td>\n",
        "      <td> 2012-05-07 10:49:42 +0200</td>\n",
        "    </tr>\n",
        "    <tr>\n",
        "      <th>60759</th>\n",
        "      <td>  #1007</td>\n",
        "      <td>  lik-novikova@yandex.ru</td>\n",
        "      <td> 2012-05-03 11:34:14 +0200</td>\n",
        "      <td>  22.10</td>\n",
        "      <td> 2012-05-03 11:34:14 +0200</td>\n",
        "    </tr>\n",
        "    <tr>\n",
        "      <th>60760</th>\n",
        "      <td>  #1007</td>\n",
        "      <td>  lik-novikova@yandex.ru</td>\n",
        "      <td> 2012-05-03 11:34:14 +0200</td>\n",
        "      <td>  40.95</td>\n",
        "      <td> 2012-05-03 11:34:14 +0200</td>\n",
        "    </tr>\n",
        "    <tr>\n",
        "      <th>60761</th>\n",
        "      <td>  #1007</td>\n",
        "      <td>  lik-novikova@yandex.ru</td>\n",
        "      <td> 2012-05-03 11:34:14 +0200</td>\n",
        "      <td>  26.65</td>\n",
        "      <td> 2012-05-03 11:34:14 +0200</td>\n",
        "    </tr>\n",
        "    <tr>\n",
        "      <th>60762</th>\n",
        "      <td>  #1007</td>\n",
        "      <td>  lik-novikova@yandex.ru</td>\n",
        "      <td> 2012-05-03 11:34:14 +0200</td>\n",
        "      <td>  21.13</td>\n",
        "      <td> 2012-05-03 11:34:14 +0200</td>\n",
        "    </tr>\n",
        "    <tr>\n",
        "      <th>60763</th>\n",
        "      <td>  #1006</td>\n",
        "      <td>     bente.ring@yahoo.no</td>\n",
        "      <td> 2012-05-02 17:38:40 +0200</td>\n",
        "      <td>   9.10</td>\n",
        "      <td> 2012-05-02 17:38:40 +0200</td>\n",
        "    </tr>\n",
        "    <tr>\n",
        "      <th>60764</th>\n",
        "      <td>  #1006</td>\n",
        "      <td>     bente.ring@yahoo.no</td>\n",
        "      <td> 2012-05-02 17:38:40 +0200</td>\n",
        "      <td>  26.65</td>\n",
        "      <td> 2012-05-02 17:38:40 +0200</td>\n",
        "    </tr>\n",
        "    <tr>\n",
        "      <th>60765</th>\n",
        "      <td>  #1006</td>\n",
        "      <td>     bente.ring@yahoo.no</td>\n",
        "      <td> 2012-05-02 17:38:40 +0200</td>\n",
        "      <td>  52.00</td>\n",
        "      <td> 2012-05-02 17:38:40 +0200</td>\n",
        "    </tr>\n",
        "    <tr>\n",
        "      <th>60766</th>\n",
        "      <td>  #1006</td>\n",
        "      <td>     bente.ring@yahoo.no</td>\n",
        "      <td> 2012-05-02 17:38:40 +0200</td>\n",
        "      <td>  56.88</td>\n",
        "      <td> 2012-05-02 17:38:40 +0200</td>\n",
        "    </tr>\n",
        "    <tr>\n",
        "      <th>60767</th>\n",
        "      <td>  #1006</td>\n",
        "      <td>     bente.ring@yahoo.no</td>\n",
        "      <td> 2012-05-02 17:38:40 +0200</td>\n",
        "      <td>  56.88</td>\n",
        "      <td> 2012-05-02 17:38:40 +0200</td>\n",
        "    </tr>\n",
        "    <tr>\n",
        "      <th>60768</th>\n",
        "      <td>  #1005</td>\n",
        "      <td>    cathypod@hotmail.com</td>\n",
        "      <td> 2012-05-01 22:08:45 +0200</td>\n",
        "      <td>   8.19</td>\n",
        "      <td> 2012-05-01 22:08:45 +0200</td>\n",
        "    </tr>\n",
        "    <tr>\n",
        "      <th>60769</th>\n",
        "      <td>  #1005</td>\n",
        "      <td>    cathypod@hotmail.com</td>\n",
        "      <td> 2012-05-01 22:08:45 +0200</td>\n",
        "      <td>  10.40</td>\n",
        "      <td> 2012-05-01 22:08:45 +0200</td>\n",
        "    </tr>\n",
        "    <tr>\n",
        "      <th>60770</th>\n",
        "      <td>  #1005</td>\n",
        "      <td>    cathypod@hotmail.com</td>\n",
        "      <td> 2012-05-01 22:08:45 +0200</td>\n",
        "      <td>  26.65</td>\n",
        "      <td> 2012-05-01 22:08:45 +0200</td>\n",
        "    </tr>\n",
        "    <tr>\n",
        "      <th>60771</th>\n",
        "      <td>  #1005</td>\n",
        "      <td>    cathypod@hotmail.com</td>\n",
        "      <td> 2012-05-01 22:08:45 +0200</td>\n",
        "      <td>   9.36</td>\n",
        "      <td> 2012-05-01 22:08:45 +0200</td>\n",
        "    </tr>\n",
        "  </tbody>\n",
        "</table>\n",
        "<p>60772 rows \u00d7 5 columns</p>\n",
        "</div>"
       ],
       "metadata": {},
       "output_type": "pyout",
       "prompt_number": 3,
       "text": [
        "         Name                    Email                       Date  Revenue  \\\n",
        "0      #10367   rehabmansour@gmail.com  2015-12-23 20:33:51 +0200   180.00   \n",
        "1      #10367   rehabmansour@gmail.com  2015-12-23 20:33:51 +0200    14.40   \n",
        "2      #10367   rehabmansour@gmail.com  2015-12-23 20:33:51 +0200   180.90   \n",
        "3      #10366      nabouheif@yahoo.com  2015-12-23 20:00:17 +0200    30.60   \n",
        "4      #10366      nabouheif@yahoo.com  2015-12-23 20:00:17 +0200    10.80   \n",
        "5      #10366      nabouheif@yahoo.com  2015-12-23 20:00:17 +0200   121.50   \n",
        "6      #10365   fracicardi@hotmail.com  2015-12-23 18:36:17 +0200     2.10   \n",
        "7      #10365   fracicardi@hotmail.com  2015-12-23 18:36:17 +0200     7.20   \n",
        "8      #10365   fracicardi@hotmail.com  2015-12-23 18:36:17 +0200     7.20   \n",
        "9      #10365   fracicardi@hotmail.com  2015-12-23 18:36:17 +0200    60.30   \n",
        "10     #10365   fracicardi@hotmail.com  2015-12-23 18:36:17 +0200     7.20   \n",
        "11     #10365   fracicardi@hotmail.com  2015-12-23 18:36:17 +0200    45.00   \n",
        "12     #10364   ahmed.fakhry@gmail.com  2015-12-23 16:06:49 +0200    60.30   \n",
        "13     #10364   ahmed.fakhry@gmail.com  2015-12-23 16:06:49 +0200    33.30   \n",
        "14     #10364   ahmed.fakhry@gmail.com  2015-12-23 16:06:49 +0200    60.30   \n",
        "15     #10364   ahmed.fakhry@gmail.com  2015-12-23 16:06:49 +0200   114.00   \n",
        "16     #10364   ahmed.fakhry@gmail.com  2015-12-23 16:06:49 +0200   114.00   \n",
        "17     #10364   ahmed.fakhry@gmail.com  2015-12-23 16:06:49 +0200    98.00   \n",
        "18     #10364   ahmed.fakhry@gmail.com  2015-12-23 16:06:49 +0200    65.00   \n",
        "19     #10364   ahmed.fakhry@gmail.com  2015-12-23 16:06:49 +0200    57.60   \n",
        "20     #10364   ahmed.fakhry@gmail.com  2015-12-23 16:06:49 +0200    57.60   \n",
        "21     #10363   ahmed.fakhry@gmail.com  2015-12-23 16:01:32 +0200   592.00   \n",
        "22     #10362     Missilou11@yahoo.com  2015-12-23 14:25:09 +0200    70.20   \n",
        "23     #10361  sallysalem123@gmail.com  2015-12-23 13:13:34 +0200    41.00   \n",
        "24     #10361  sallysalem123@gmail.com  2015-12-23 13:13:34 +0200     8.50   \n",
        "25     #10361  sallysalem123@gmail.com  2015-12-23 13:13:34 +0200    10.80   \n",
        "26     #10361  sallysalem123@gmail.com  2015-12-23 13:13:34 +0200   115.20   \n",
        "27     #10361  sallysalem123@gmail.com  2015-12-23 13:13:34 +0200   115.20   \n",
        "28     #10361  sallysalem123@gmail.com  2015-12-23 13:13:34 +0200    81.00   \n",
        "29     #10361  sallysalem123@gmail.com  2015-12-23 13:13:34 +0200    60.30   \n",
        "...       ...                      ...                        ...      ...   \n",
        "60742   #1013   lik-novikova@yandex.ru  2012-05-21 16:11:25 +0200    11.38   \n",
        "60743   #1012      bettyhedrich@gmx.de  2012-05-18 18:08:41 +0200    21.13   \n",
        "60744   #1012      bettyhedrich@gmx.de  2012-05-18 18:08:41 +0200    20.80   \n",
        "60745   #1011            rulah@msn.com  2012-05-10 19:36:02 +0200   222.30   \n",
        "60746   #1010      milda_b@hotmail.com  2012-05-08 13:52:24 +0200     8.19   \n",
        "60747   #1010      milda_b@hotmail.com  2012-05-08 13:52:24 +0200    45.50   \n",
        "60748   #1010      milda_b@hotmail.com  2012-05-08 13:52:24 +0200    10.40   \n",
        "60749   #1010      milda_b@hotmail.com  2012-05-08 13:52:24 +0200    16.58   \n",
        "60750   #1010      milda_b@hotmail.com  2012-05-08 13:52:24 +0200     9.36   \n",
        "60751   #1010      milda_b@hotmail.com  2012-05-08 13:52:24 +0200    26.00   \n",
        "60752   #1010      milda_b@hotmail.com  2012-05-08 13:52:24 +0200    39.52   \n",
        "60753   #1009      bente.ring@yahoo.no  2012-05-08 13:20:05 +0200    45.50   \n",
        "60754   #1008      bente.ring@yahoo.no  2012-05-07 10:49:42 +0200    79.95   \n",
        "60755   #1008      bente.ring@yahoo.no  2012-05-07 10:49:42 +0200   113.76   \n",
        "60756   #1008      bente.ring@yahoo.no  2012-05-07 10:49:42 +0200   113.76   \n",
        "60757   #1008      bente.ring@yahoo.no  2012-05-07 10:49:42 +0200    42.26   \n",
        "60758   #1008      bente.ring@yahoo.no  2012-05-07 10:49:42 +0200     7.80   \n",
        "60759   #1007   lik-novikova@yandex.ru  2012-05-03 11:34:14 +0200    22.10   \n",
        "60760   #1007   lik-novikova@yandex.ru  2012-05-03 11:34:14 +0200    40.95   \n",
        "60761   #1007   lik-novikova@yandex.ru  2012-05-03 11:34:14 +0200    26.65   \n",
        "60762   #1007   lik-novikova@yandex.ru  2012-05-03 11:34:14 +0200    21.13   \n",
        "60763   #1006      bente.ring@yahoo.no  2012-05-02 17:38:40 +0200     9.10   \n",
        "60764   #1006      bente.ring@yahoo.no  2012-05-02 17:38:40 +0200    26.65   \n",
        "60765   #1006      bente.ring@yahoo.no  2012-05-02 17:38:40 +0200    52.00   \n",
        "60766   #1006      bente.ring@yahoo.no  2012-05-02 17:38:40 +0200    56.88   \n",
        "60767   #1006      bente.ring@yahoo.no  2012-05-02 17:38:40 +0200    56.88   \n",
        "60768   #1005     cathypod@hotmail.com  2012-05-01 22:08:45 +0200     8.19   \n",
        "60769   #1005     cathypod@hotmail.com  2012-05-01 22:08:45 +0200    10.40   \n",
        "60770   #1005     cathypod@hotmail.com  2012-05-01 22:08:45 +0200    26.65   \n",
        "60771   #1005     cathypod@hotmail.com  2012-05-01 22:08:45 +0200     9.36   \n",
        "\n",
        "                           Date1  \n",
        "0      2015-12-23 20:33:51 +0200  \n",
        "1      2015-12-23 20:33:51 +0200  \n",
        "2      2015-12-23 20:33:51 +0200  \n",
        "3      2015-12-23 20:00:17 +0200  \n",
        "4      2015-12-23 20:00:17 +0200  \n",
        "5      2015-12-23 20:00:17 +0200  \n",
        "6      2015-12-23 18:36:17 +0200  \n",
        "7      2015-12-23 18:36:17 +0200  \n",
        "8      2015-12-23 18:36:17 +0200  \n",
        "9      2015-12-23 18:36:17 +0200  \n",
        "10     2015-12-23 18:36:17 +0200  \n",
        "11     2015-12-23 18:36:17 +0200  \n",
        "12     2015-12-23 16:06:49 +0200  \n",
        "13     2015-12-23 16:06:49 +0200  \n",
        "14     2015-12-23 16:06:49 +0200  \n",
        "15     2015-12-23 16:06:49 +0200  \n",
        "16     2015-12-23 16:06:49 +0200  \n",
        "17     2015-12-23 16:06:49 +0200  \n",
        "18     2015-12-23 16:06:49 +0200  \n",
        "19     2015-12-23 16:06:49 +0200  \n",
        "20     2015-12-23 16:06:49 +0200  \n",
        "21     2015-12-23 16:01:32 +0200  \n",
        "22     2015-12-23 14:25:09 +0200  \n",
        "23     2015-12-23 13:13:34 +0200  \n",
        "24     2015-12-23 13:13:34 +0200  \n",
        "25     2015-12-23 13:13:34 +0200  \n",
        "26     2015-12-23 13:13:34 +0200  \n",
        "27     2015-12-23 13:13:34 +0200  \n",
        "28     2015-12-23 13:13:34 +0200  \n",
        "29     2015-12-23 13:13:34 +0200  \n",
        "...                          ...  \n",
        "60742  2012-05-21 16:11:25 +0200  \n",
        "60743  2012-05-18 18:08:41 +0200  \n",
        "60744  2012-05-18 18:08:41 +0200  \n",
        "60745  2012-05-10 19:36:02 +0200  \n",
        "60746  2012-05-08 13:52:24 +0200  \n",
        "60747  2012-05-08 13:52:24 +0200  \n",
        "60748  2012-05-08 13:52:24 +0200  \n",
        "60749  2012-05-08 13:52:24 +0200  \n",
        "60750  2012-05-08 13:52:24 +0200  \n",
        "60751  2012-05-08 13:52:24 +0200  \n",
        "60752  2012-05-08 13:52:24 +0200  \n",
        "60753  2012-05-08 13:20:05 +0200  \n",
        "60754  2012-05-07 10:49:42 +0200  \n",
        "60755  2012-05-07 10:49:42 +0200  \n",
        "60756  2012-05-07 10:49:42 +0200  \n",
        "60757  2012-05-07 10:49:42 +0200  \n",
        "60758  2012-05-07 10:49:42 +0200  \n",
        "60759  2012-05-03 11:34:14 +0200  \n",
        "60760  2012-05-03 11:34:14 +0200  \n",
        "60761  2012-05-03 11:34:14 +0200  \n",
        "60762  2012-05-03 11:34:14 +0200  \n",
        "60763  2012-05-02 17:38:40 +0200  \n",
        "60764  2012-05-02 17:38:40 +0200  \n",
        "60765  2012-05-02 17:38:40 +0200  \n",
        "60766  2012-05-02 17:38:40 +0200  \n",
        "60767  2012-05-02 17:38:40 +0200  \n",
        "60768  2012-05-01 22:08:45 +0200  \n",
        "60769  2012-05-01 22:08:45 +0200  \n",
        "60770  2012-05-01 22:08:45 +0200  \n",
        "60771  2012-05-01 22:08:45 +0200  \n",
        "\n",
        "[60772 rows x 5 columns]"
       ]
      }
     ],
     "prompt_number": 3
    },
    {
     "cell_type": "code",
     "collapsed": false,
     "input": [
      "#get date as day\n",
      "def getDay(data):\n",
      "    matchobj = re.match(r'(.*) (.*) (.*).*',data)\n",
      "    data = matchobj.group(1)\n",
      "    return pd.to_datetime(datetime.strptime(data, '%Y-%m-%d')).date().strftime(\"%A\")\n",
      "\n",
      "#get hours of the order\n",
      "def getHours(data):\n",
      "    matchobj = re.match(r'(.*) (.*) (.*).*',data)\n",
      "    data = matchobj.group(2)\n",
      "    num = pd.to_datetime(datetime.strptime(data, '%H:%M:%S')).hour\n",
      "    if(num < 2):\n",
      "        return 0\n",
      "    elif((num >= 2) & (num < 4)):\n",
      "        return 2\n",
      "    elif((num >= 4) & (num < 6)):\n",
      "        return 4\n",
      "    elif((num >= 6) & (num < 8)):\n",
      "        return 6\n",
      "    elif((num >= 8) & (num < 10)):\n",
      "        return 8\n",
      "    elif((num >= 10) & (num < 12)):\n",
      "        return 10\n",
      "    elif((num >= 12) & (num < 14)):\n",
      "        return 12\n",
      "    elif((num >= 14) & (num < 16)):\n",
      "        return 14\n",
      "    elif((num >= 16) & (num < 18)):\n",
      "        return 16\n",
      "    elif((num >= 18) & (num < 20)):\n",
      "        return 18\n",
      "    elif((num >= 20) & (num < 22)):\n",
      "        return 20\n",
      "    elif(num >= 22):\n",
      "        return 22\n",
      "        \n",
      "df['Day'] = df.Date1.apply(getDay)\n",
      "df['Hours'] = df.Date1.apply(getHours)\n",
      "\n",
      "df = df[['Name', 'Email', 'Date', 'Revenue', 'Day', 'Hours']]\n",
      "df"
     ],
     "language": "python",
     "metadata": {},
     "outputs": [
      {
       "output_type": "stream",
       "stream": "stderr",
       "text": [
        "-c:37: SettingWithCopyWarning: \n",
        "A value is trying to be set on a copy of a slice from a DataFrame.\n",
        "Try using .loc[row_indexer,col_indexer] = value instead\n",
        "\n",
        "See the the caveats in the documentation: http://pandas.pydata.org/pandas-docs/stable/indexing.html#indexing-view-versus-copy\n",
        "-c:38: SettingWithCopyWarning: \n",
        "A value is trying to be set on a copy of a slice from a DataFrame.\n",
        "Try using .loc[row_indexer,col_indexer] = value instead\n",
        "\n",
        "See the the caveats in the documentation: http://pandas.pydata.org/pandas-docs/stable/indexing.html#indexing-view-versus-copy\n"
       ]
      },
      {
       "html": [
        "<div style=\"max-height:1000px;max-width:1500px;overflow:auto;\">\n",
        "<table border=\"1\" class=\"dataframe\">\n",
        "  <thead>\n",
        "    <tr style=\"text-align: right;\">\n",
        "      <th></th>\n",
        "      <th>Name</th>\n",
        "      <th>Email</th>\n",
        "      <th>Date</th>\n",
        "      <th>Revenue</th>\n",
        "      <th>Day</th>\n",
        "      <th>Hours</th>\n",
        "    </tr>\n",
        "  </thead>\n",
        "  <tbody>\n",
        "    <tr>\n",
        "      <th>0    </th>\n",
        "      <td> #10367</td>\n",
        "      <td>  rehabmansour@gmail.com</td>\n",
        "      <td> 2015-12-23 20:33:51 +0200</td>\n",
        "      <td> 180.00</td>\n",
        "      <td> Wednesday</td>\n",
        "      <td> 20</td>\n",
        "    </tr>\n",
        "    <tr>\n",
        "      <th>1    </th>\n",
        "      <td> #10367</td>\n",
        "      <td>  rehabmansour@gmail.com</td>\n",
        "      <td> 2015-12-23 20:33:51 +0200</td>\n",
        "      <td>  14.40</td>\n",
        "      <td> Wednesday</td>\n",
        "      <td> 20</td>\n",
        "    </tr>\n",
        "    <tr>\n",
        "      <th>2    </th>\n",
        "      <td> #10367</td>\n",
        "      <td>  rehabmansour@gmail.com</td>\n",
        "      <td> 2015-12-23 20:33:51 +0200</td>\n",
        "      <td> 180.90</td>\n",
        "      <td> Wednesday</td>\n",
        "      <td> 20</td>\n",
        "    </tr>\n",
        "    <tr>\n",
        "      <th>3    </th>\n",
        "      <td> #10366</td>\n",
        "      <td>     nabouheif@yahoo.com</td>\n",
        "      <td> 2015-12-23 20:00:17 +0200</td>\n",
        "      <td>  30.60</td>\n",
        "      <td> Wednesday</td>\n",
        "      <td> 20</td>\n",
        "    </tr>\n",
        "    <tr>\n",
        "      <th>4    </th>\n",
        "      <td> #10366</td>\n",
        "      <td>     nabouheif@yahoo.com</td>\n",
        "      <td> 2015-12-23 20:00:17 +0200</td>\n",
        "      <td>  10.80</td>\n",
        "      <td> Wednesday</td>\n",
        "      <td> 20</td>\n",
        "    </tr>\n",
        "    <tr>\n",
        "      <th>5    </th>\n",
        "      <td> #10366</td>\n",
        "      <td>     nabouheif@yahoo.com</td>\n",
        "      <td> 2015-12-23 20:00:17 +0200</td>\n",
        "      <td> 121.50</td>\n",
        "      <td> Wednesday</td>\n",
        "      <td> 20</td>\n",
        "    </tr>\n",
        "    <tr>\n",
        "      <th>6    </th>\n",
        "      <td> #10365</td>\n",
        "      <td>  fracicardi@hotmail.com</td>\n",
        "      <td> 2015-12-23 18:36:17 +0200</td>\n",
        "      <td>   2.10</td>\n",
        "      <td> Wednesday</td>\n",
        "      <td> 18</td>\n",
        "    </tr>\n",
        "    <tr>\n",
        "      <th>7    </th>\n",
        "      <td> #10365</td>\n",
        "      <td>  fracicardi@hotmail.com</td>\n",
        "      <td> 2015-12-23 18:36:17 +0200</td>\n",
        "      <td>   7.20</td>\n",
        "      <td> Wednesday</td>\n",
        "      <td> 18</td>\n",
        "    </tr>\n",
        "    <tr>\n",
        "      <th>8    </th>\n",
        "      <td> #10365</td>\n",
        "      <td>  fracicardi@hotmail.com</td>\n",
        "      <td> 2015-12-23 18:36:17 +0200</td>\n",
        "      <td>   7.20</td>\n",
        "      <td> Wednesday</td>\n",
        "      <td> 18</td>\n",
        "    </tr>\n",
        "    <tr>\n",
        "      <th>9    </th>\n",
        "      <td> #10365</td>\n",
        "      <td>  fracicardi@hotmail.com</td>\n",
        "      <td> 2015-12-23 18:36:17 +0200</td>\n",
        "      <td>  60.30</td>\n",
        "      <td> Wednesday</td>\n",
        "      <td> 18</td>\n",
        "    </tr>\n",
        "    <tr>\n",
        "      <th>10   </th>\n",
        "      <td> #10365</td>\n",
        "      <td>  fracicardi@hotmail.com</td>\n",
        "      <td> 2015-12-23 18:36:17 +0200</td>\n",
        "      <td>   7.20</td>\n",
        "      <td> Wednesday</td>\n",
        "      <td> 18</td>\n",
        "    </tr>\n",
        "    <tr>\n",
        "      <th>11   </th>\n",
        "      <td> #10365</td>\n",
        "      <td>  fracicardi@hotmail.com</td>\n",
        "      <td> 2015-12-23 18:36:17 +0200</td>\n",
        "      <td>  45.00</td>\n",
        "      <td> Wednesday</td>\n",
        "      <td> 18</td>\n",
        "    </tr>\n",
        "    <tr>\n",
        "      <th>12   </th>\n",
        "      <td> #10364</td>\n",
        "      <td>  ahmed.fakhry@gmail.com</td>\n",
        "      <td> 2015-12-23 16:06:49 +0200</td>\n",
        "      <td>  60.30</td>\n",
        "      <td> Wednesday</td>\n",
        "      <td> 16</td>\n",
        "    </tr>\n",
        "    <tr>\n",
        "      <th>13   </th>\n",
        "      <td> #10364</td>\n",
        "      <td>  ahmed.fakhry@gmail.com</td>\n",
        "      <td> 2015-12-23 16:06:49 +0200</td>\n",
        "      <td>  33.30</td>\n",
        "      <td> Wednesday</td>\n",
        "      <td> 16</td>\n",
        "    </tr>\n",
        "    <tr>\n",
        "      <th>14   </th>\n",
        "      <td> #10364</td>\n",
        "      <td>  ahmed.fakhry@gmail.com</td>\n",
        "      <td> 2015-12-23 16:06:49 +0200</td>\n",
        "      <td>  60.30</td>\n",
        "      <td> Wednesday</td>\n",
        "      <td> 16</td>\n",
        "    </tr>\n",
        "    <tr>\n",
        "      <th>15   </th>\n",
        "      <td> #10364</td>\n",
        "      <td>  ahmed.fakhry@gmail.com</td>\n",
        "      <td> 2015-12-23 16:06:49 +0200</td>\n",
        "      <td> 114.00</td>\n",
        "      <td> Wednesday</td>\n",
        "      <td> 16</td>\n",
        "    </tr>\n",
        "    <tr>\n",
        "      <th>16   </th>\n",
        "      <td> #10364</td>\n",
        "      <td>  ahmed.fakhry@gmail.com</td>\n",
        "      <td> 2015-12-23 16:06:49 +0200</td>\n",
        "      <td> 114.00</td>\n",
        "      <td> Wednesday</td>\n",
        "      <td> 16</td>\n",
        "    </tr>\n",
        "    <tr>\n",
        "      <th>17   </th>\n",
        "      <td> #10364</td>\n",
        "      <td>  ahmed.fakhry@gmail.com</td>\n",
        "      <td> 2015-12-23 16:06:49 +0200</td>\n",
        "      <td>  98.00</td>\n",
        "      <td> Wednesday</td>\n",
        "      <td> 16</td>\n",
        "    </tr>\n",
        "    <tr>\n",
        "      <th>18   </th>\n",
        "      <td> #10364</td>\n",
        "      <td>  ahmed.fakhry@gmail.com</td>\n",
        "      <td> 2015-12-23 16:06:49 +0200</td>\n",
        "      <td>  65.00</td>\n",
        "      <td> Wednesday</td>\n",
        "      <td> 16</td>\n",
        "    </tr>\n",
        "    <tr>\n",
        "      <th>19   </th>\n",
        "      <td> #10364</td>\n",
        "      <td>  ahmed.fakhry@gmail.com</td>\n",
        "      <td> 2015-12-23 16:06:49 +0200</td>\n",
        "      <td>  57.60</td>\n",
        "      <td> Wednesday</td>\n",
        "      <td> 16</td>\n",
        "    </tr>\n",
        "    <tr>\n",
        "      <th>20   </th>\n",
        "      <td> #10364</td>\n",
        "      <td>  ahmed.fakhry@gmail.com</td>\n",
        "      <td> 2015-12-23 16:06:49 +0200</td>\n",
        "      <td>  57.60</td>\n",
        "      <td> Wednesday</td>\n",
        "      <td> 16</td>\n",
        "    </tr>\n",
        "    <tr>\n",
        "      <th>21   </th>\n",
        "      <td> #10363</td>\n",
        "      <td>  ahmed.fakhry@gmail.com</td>\n",
        "      <td> 2015-12-23 16:01:32 +0200</td>\n",
        "      <td> 592.00</td>\n",
        "      <td> Wednesday</td>\n",
        "      <td> 16</td>\n",
        "    </tr>\n",
        "    <tr>\n",
        "      <th>22   </th>\n",
        "      <td> #10362</td>\n",
        "      <td>    Missilou11@yahoo.com</td>\n",
        "      <td> 2015-12-23 14:25:09 +0200</td>\n",
        "      <td>  70.20</td>\n",
        "      <td> Wednesday</td>\n",
        "      <td> 14</td>\n",
        "    </tr>\n",
        "    <tr>\n",
        "      <th>23   </th>\n",
        "      <td> #10361</td>\n",
        "      <td> sallysalem123@gmail.com</td>\n",
        "      <td> 2015-12-23 13:13:34 +0200</td>\n",
        "      <td>  41.00</td>\n",
        "      <td> Wednesday</td>\n",
        "      <td> 12</td>\n",
        "    </tr>\n",
        "    <tr>\n",
        "      <th>24   </th>\n",
        "      <td> #10361</td>\n",
        "      <td> sallysalem123@gmail.com</td>\n",
        "      <td> 2015-12-23 13:13:34 +0200</td>\n",
        "      <td>   8.50</td>\n",
        "      <td> Wednesday</td>\n",
        "      <td> 12</td>\n",
        "    </tr>\n",
        "    <tr>\n",
        "      <th>25   </th>\n",
        "      <td> #10361</td>\n",
        "      <td> sallysalem123@gmail.com</td>\n",
        "      <td> 2015-12-23 13:13:34 +0200</td>\n",
        "      <td>  10.80</td>\n",
        "      <td> Wednesday</td>\n",
        "      <td> 12</td>\n",
        "    </tr>\n",
        "    <tr>\n",
        "      <th>26   </th>\n",
        "      <td> #10361</td>\n",
        "      <td> sallysalem123@gmail.com</td>\n",
        "      <td> 2015-12-23 13:13:34 +0200</td>\n",
        "      <td> 115.20</td>\n",
        "      <td> Wednesday</td>\n",
        "      <td> 12</td>\n",
        "    </tr>\n",
        "    <tr>\n",
        "      <th>27   </th>\n",
        "      <td> #10361</td>\n",
        "      <td> sallysalem123@gmail.com</td>\n",
        "      <td> 2015-12-23 13:13:34 +0200</td>\n",
        "      <td> 115.20</td>\n",
        "      <td> Wednesday</td>\n",
        "      <td> 12</td>\n",
        "    </tr>\n",
        "    <tr>\n",
        "      <th>28   </th>\n",
        "      <td> #10361</td>\n",
        "      <td> sallysalem123@gmail.com</td>\n",
        "      <td> 2015-12-23 13:13:34 +0200</td>\n",
        "      <td>  81.00</td>\n",
        "      <td> Wednesday</td>\n",
        "      <td> 12</td>\n",
        "    </tr>\n",
        "    <tr>\n",
        "      <th>29   </th>\n",
        "      <td> #10361</td>\n",
        "      <td> sallysalem123@gmail.com</td>\n",
        "      <td> 2015-12-23 13:13:34 +0200</td>\n",
        "      <td>  60.30</td>\n",
        "      <td> Wednesday</td>\n",
        "      <td> 12</td>\n",
        "    </tr>\n",
        "    <tr>\n",
        "      <th>...</th>\n",
        "      <td>...</td>\n",
        "      <td>...</td>\n",
        "      <td>...</td>\n",
        "      <td>...</td>\n",
        "      <td>...</td>\n",
        "      <td>...</td>\n",
        "    </tr>\n",
        "    <tr>\n",
        "      <th>60742</th>\n",
        "      <td>  #1013</td>\n",
        "      <td>  lik-novikova@yandex.ru</td>\n",
        "      <td> 2012-05-21 16:11:25 +0200</td>\n",
        "      <td>  11.38</td>\n",
        "      <td>    Monday</td>\n",
        "      <td> 16</td>\n",
        "    </tr>\n",
        "    <tr>\n",
        "      <th>60743</th>\n",
        "      <td>  #1012</td>\n",
        "      <td>     bettyhedrich@gmx.de</td>\n",
        "      <td> 2012-05-18 18:08:41 +0200</td>\n",
        "      <td>  21.13</td>\n",
        "      <td>    Friday</td>\n",
        "      <td> 18</td>\n",
        "    </tr>\n",
        "    <tr>\n",
        "      <th>60744</th>\n",
        "      <td>  #1012</td>\n",
        "      <td>     bettyhedrich@gmx.de</td>\n",
        "      <td> 2012-05-18 18:08:41 +0200</td>\n",
        "      <td>  20.80</td>\n",
        "      <td>    Friday</td>\n",
        "      <td> 18</td>\n",
        "    </tr>\n",
        "    <tr>\n",
        "      <th>60745</th>\n",
        "      <td>  #1011</td>\n",
        "      <td>           rulah@msn.com</td>\n",
        "      <td> 2012-05-10 19:36:02 +0200</td>\n",
        "      <td> 222.30</td>\n",
        "      <td>  Thursday</td>\n",
        "      <td> 18</td>\n",
        "    </tr>\n",
        "    <tr>\n",
        "      <th>60746</th>\n",
        "      <td>  #1010</td>\n",
        "      <td>     milda_b@hotmail.com</td>\n",
        "      <td> 2012-05-08 13:52:24 +0200</td>\n",
        "      <td>   8.19</td>\n",
        "      <td>   Tuesday</td>\n",
        "      <td> 12</td>\n",
        "    </tr>\n",
        "    <tr>\n",
        "      <th>60747</th>\n",
        "      <td>  #1010</td>\n",
        "      <td>     milda_b@hotmail.com</td>\n",
        "      <td> 2012-05-08 13:52:24 +0200</td>\n",
        "      <td>  45.50</td>\n",
        "      <td>   Tuesday</td>\n",
        "      <td> 12</td>\n",
        "    </tr>\n",
        "    <tr>\n",
        "      <th>60748</th>\n",
        "      <td>  #1010</td>\n",
        "      <td>     milda_b@hotmail.com</td>\n",
        "      <td> 2012-05-08 13:52:24 +0200</td>\n",
        "      <td>  10.40</td>\n",
        "      <td>   Tuesday</td>\n",
        "      <td> 12</td>\n",
        "    </tr>\n",
        "    <tr>\n",
        "      <th>60749</th>\n",
        "      <td>  #1010</td>\n",
        "      <td>     milda_b@hotmail.com</td>\n",
        "      <td> 2012-05-08 13:52:24 +0200</td>\n",
        "      <td>  16.58</td>\n",
        "      <td>   Tuesday</td>\n",
        "      <td> 12</td>\n",
        "    </tr>\n",
        "    <tr>\n",
        "      <th>60750</th>\n",
        "      <td>  #1010</td>\n",
        "      <td>     milda_b@hotmail.com</td>\n",
        "      <td> 2012-05-08 13:52:24 +0200</td>\n",
        "      <td>   9.36</td>\n",
        "      <td>   Tuesday</td>\n",
        "      <td> 12</td>\n",
        "    </tr>\n",
        "    <tr>\n",
        "      <th>60751</th>\n",
        "      <td>  #1010</td>\n",
        "      <td>     milda_b@hotmail.com</td>\n",
        "      <td> 2012-05-08 13:52:24 +0200</td>\n",
        "      <td>  26.00</td>\n",
        "      <td>   Tuesday</td>\n",
        "      <td> 12</td>\n",
        "    </tr>\n",
        "    <tr>\n",
        "      <th>60752</th>\n",
        "      <td>  #1010</td>\n",
        "      <td>     milda_b@hotmail.com</td>\n",
        "      <td> 2012-05-08 13:52:24 +0200</td>\n",
        "      <td>  39.52</td>\n",
        "      <td>   Tuesday</td>\n",
        "      <td> 12</td>\n",
        "    </tr>\n",
        "    <tr>\n",
        "      <th>60753</th>\n",
        "      <td>  #1009</td>\n",
        "      <td>     bente.ring@yahoo.no</td>\n",
        "      <td> 2012-05-08 13:20:05 +0200</td>\n",
        "      <td>  45.50</td>\n",
        "      <td>   Tuesday</td>\n",
        "      <td> 12</td>\n",
        "    </tr>\n",
        "    <tr>\n",
        "      <th>60754</th>\n",
        "      <td>  #1008</td>\n",
        "      <td>     bente.ring@yahoo.no</td>\n",
        "      <td> 2012-05-07 10:49:42 +0200</td>\n",
        "      <td>  79.95</td>\n",
        "      <td>    Monday</td>\n",
        "      <td> 10</td>\n",
        "    </tr>\n",
        "    <tr>\n",
        "      <th>60755</th>\n",
        "      <td>  #1008</td>\n",
        "      <td>     bente.ring@yahoo.no</td>\n",
        "      <td> 2012-05-07 10:49:42 +0200</td>\n",
        "      <td> 113.76</td>\n",
        "      <td>    Monday</td>\n",
        "      <td> 10</td>\n",
        "    </tr>\n",
        "    <tr>\n",
        "      <th>60756</th>\n",
        "      <td>  #1008</td>\n",
        "      <td>     bente.ring@yahoo.no</td>\n",
        "      <td> 2012-05-07 10:49:42 +0200</td>\n",
        "      <td> 113.76</td>\n",
        "      <td>    Monday</td>\n",
        "      <td> 10</td>\n",
        "    </tr>\n",
        "    <tr>\n",
        "      <th>60757</th>\n",
        "      <td>  #1008</td>\n",
        "      <td>     bente.ring@yahoo.no</td>\n",
        "      <td> 2012-05-07 10:49:42 +0200</td>\n",
        "      <td>  42.26</td>\n",
        "      <td>    Monday</td>\n",
        "      <td> 10</td>\n",
        "    </tr>\n",
        "    <tr>\n",
        "      <th>60758</th>\n",
        "      <td>  #1008</td>\n",
        "      <td>     bente.ring@yahoo.no</td>\n",
        "      <td> 2012-05-07 10:49:42 +0200</td>\n",
        "      <td>   7.80</td>\n",
        "      <td>    Monday</td>\n",
        "      <td> 10</td>\n",
        "    </tr>\n",
        "    <tr>\n",
        "      <th>60759</th>\n",
        "      <td>  #1007</td>\n",
        "      <td>  lik-novikova@yandex.ru</td>\n",
        "      <td> 2012-05-03 11:34:14 +0200</td>\n",
        "      <td>  22.10</td>\n",
        "      <td>  Thursday</td>\n",
        "      <td> 10</td>\n",
        "    </tr>\n",
        "    <tr>\n",
        "      <th>60760</th>\n",
        "      <td>  #1007</td>\n",
        "      <td>  lik-novikova@yandex.ru</td>\n",
        "      <td> 2012-05-03 11:34:14 +0200</td>\n",
        "      <td>  40.95</td>\n",
        "      <td>  Thursday</td>\n",
        "      <td> 10</td>\n",
        "    </tr>\n",
        "    <tr>\n",
        "      <th>60761</th>\n",
        "      <td>  #1007</td>\n",
        "      <td>  lik-novikova@yandex.ru</td>\n",
        "      <td> 2012-05-03 11:34:14 +0200</td>\n",
        "      <td>  26.65</td>\n",
        "      <td>  Thursday</td>\n",
        "      <td> 10</td>\n",
        "    </tr>\n",
        "    <tr>\n",
        "      <th>60762</th>\n",
        "      <td>  #1007</td>\n",
        "      <td>  lik-novikova@yandex.ru</td>\n",
        "      <td> 2012-05-03 11:34:14 +0200</td>\n",
        "      <td>  21.13</td>\n",
        "      <td>  Thursday</td>\n",
        "      <td> 10</td>\n",
        "    </tr>\n",
        "    <tr>\n",
        "      <th>60763</th>\n",
        "      <td>  #1006</td>\n",
        "      <td>     bente.ring@yahoo.no</td>\n",
        "      <td> 2012-05-02 17:38:40 +0200</td>\n",
        "      <td>   9.10</td>\n",
        "      <td> Wednesday</td>\n",
        "      <td> 16</td>\n",
        "    </tr>\n",
        "    <tr>\n",
        "      <th>60764</th>\n",
        "      <td>  #1006</td>\n",
        "      <td>     bente.ring@yahoo.no</td>\n",
        "      <td> 2012-05-02 17:38:40 +0200</td>\n",
        "      <td>  26.65</td>\n",
        "      <td> Wednesday</td>\n",
        "      <td> 16</td>\n",
        "    </tr>\n",
        "    <tr>\n",
        "      <th>60765</th>\n",
        "      <td>  #1006</td>\n",
        "      <td>     bente.ring@yahoo.no</td>\n",
        "      <td> 2012-05-02 17:38:40 +0200</td>\n",
        "      <td>  52.00</td>\n",
        "      <td> Wednesday</td>\n",
        "      <td> 16</td>\n",
        "    </tr>\n",
        "    <tr>\n",
        "      <th>60766</th>\n",
        "      <td>  #1006</td>\n",
        "      <td>     bente.ring@yahoo.no</td>\n",
        "      <td> 2012-05-02 17:38:40 +0200</td>\n",
        "      <td>  56.88</td>\n",
        "      <td> Wednesday</td>\n",
        "      <td> 16</td>\n",
        "    </tr>\n",
        "    <tr>\n",
        "      <th>60767</th>\n",
        "      <td>  #1006</td>\n",
        "      <td>     bente.ring@yahoo.no</td>\n",
        "      <td> 2012-05-02 17:38:40 +0200</td>\n",
        "      <td>  56.88</td>\n",
        "      <td> Wednesday</td>\n",
        "      <td> 16</td>\n",
        "    </tr>\n",
        "    <tr>\n",
        "      <th>60768</th>\n",
        "      <td>  #1005</td>\n",
        "      <td>    cathypod@hotmail.com</td>\n",
        "      <td> 2012-05-01 22:08:45 +0200</td>\n",
        "      <td>   8.19</td>\n",
        "      <td>   Tuesday</td>\n",
        "      <td> 22</td>\n",
        "    </tr>\n",
        "    <tr>\n",
        "      <th>60769</th>\n",
        "      <td>  #1005</td>\n",
        "      <td>    cathypod@hotmail.com</td>\n",
        "      <td> 2012-05-01 22:08:45 +0200</td>\n",
        "      <td>  10.40</td>\n",
        "      <td>   Tuesday</td>\n",
        "      <td> 22</td>\n",
        "    </tr>\n",
        "    <tr>\n",
        "      <th>60770</th>\n",
        "      <td>  #1005</td>\n",
        "      <td>    cathypod@hotmail.com</td>\n",
        "      <td> 2012-05-01 22:08:45 +0200</td>\n",
        "      <td>  26.65</td>\n",
        "      <td>   Tuesday</td>\n",
        "      <td> 22</td>\n",
        "    </tr>\n",
        "    <tr>\n",
        "      <th>60771</th>\n",
        "      <td>  #1005</td>\n",
        "      <td>    cathypod@hotmail.com</td>\n",
        "      <td> 2012-05-01 22:08:45 +0200</td>\n",
        "      <td>   9.36</td>\n",
        "      <td>   Tuesday</td>\n",
        "      <td> 22</td>\n",
        "    </tr>\n",
        "  </tbody>\n",
        "</table>\n",
        "<p>60772 rows \u00d7 6 columns</p>\n",
        "</div>"
       ],
       "metadata": {},
       "output_type": "pyout",
       "prompt_number": 4,
       "text": [
        "         Name                    Email                       Date  Revenue  \\\n",
        "0      #10367   rehabmansour@gmail.com  2015-12-23 20:33:51 +0200   180.00   \n",
        "1      #10367   rehabmansour@gmail.com  2015-12-23 20:33:51 +0200    14.40   \n",
        "2      #10367   rehabmansour@gmail.com  2015-12-23 20:33:51 +0200   180.90   \n",
        "3      #10366      nabouheif@yahoo.com  2015-12-23 20:00:17 +0200    30.60   \n",
        "4      #10366      nabouheif@yahoo.com  2015-12-23 20:00:17 +0200    10.80   \n",
        "5      #10366      nabouheif@yahoo.com  2015-12-23 20:00:17 +0200   121.50   \n",
        "6      #10365   fracicardi@hotmail.com  2015-12-23 18:36:17 +0200     2.10   \n",
        "7      #10365   fracicardi@hotmail.com  2015-12-23 18:36:17 +0200     7.20   \n",
        "8      #10365   fracicardi@hotmail.com  2015-12-23 18:36:17 +0200     7.20   \n",
        "9      #10365   fracicardi@hotmail.com  2015-12-23 18:36:17 +0200    60.30   \n",
        "10     #10365   fracicardi@hotmail.com  2015-12-23 18:36:17 +0200     7.20   \n",
        "11     #10365   fracicardi@hotmail.com  2015-12-23 18:36:17 +0200    45.00   \n",
        "12     #10364   ahmed.fakhry@gmail.com  2015-12-23 16:06:49 +0200    60.30   \n",
        "13     #10364   ahmed.fakhry@gmail.com  2015-12-23 16:06:49 +0200    33.30   \n",
        "14     #10364   ahmed.fakhry@gmail.com  2015-12-23 16:06:49 +0200    60.30   \n",
        "15     #10364   ahmed.fakhry@gmail.com  2015-12-23 16:06:49 +0200   114.00   \n",
        "16     #10364   ahmed.fakhry@gmail.com  2015-12-23 16:06:49 +0200   114.00   \n",
        "17     #10364   ahmed.fakhry@gmail.com  2015-12-23 16:06:49 +0200    98.00   \n",
        "18     #10364   ahmed.fakhry@gmail.com  2015-12-23 16:06:49 +0200    65.00   \n",
        "19     #10364   ahmed.fakhry@gmail.com  2015-12-23 16:06:49 +0200    57.60   \n",
        "20     #10364   ahmed.fakhry@gmail.com  2015-12-23 16:06:49 +0200    57.60   \n",
        "21     #10363   ahmed.fakhry@gmail.com  2015-12-23 16:01:32 +0200   592.00   \n",
        "22     #10362     Missilou11@yahoo.com  2015-12-23 14:25:09 +0200    70.20   \n",
        "23     #10361  sallysalem123@gmail.com  2015-12-23 13:13:34 +0200    41.00   \n",
        "24     #10361  sallysalem123@gmail.com  2015-12-23 13:13:34 +0200     8.50   \n",
        "25     #10361  sallysalem123@gmail.com  2015-12-23 13:13:34 +0200    10.80   \n",
        "26     #10361  sallysalem123@gmail.com  2015-12-23 13:13:34 +0200   115.20   \n",
        "27     #10361  sallysalem123@gmail.com  2015-12-23 13:13:34 +0200   115.20   \n",
        "28     #10361  sallysalem123@gmail.com  2015-12-23 13:13:34 +0200    81.00   \n",
        "29     #10361  sallysalem123@gmail.com  2015-12-23 13:13:34 +0200    60.30   \n",
        "...       ...                      ...                        ...      ...   \n",
        "60742   #1013   lik-novikova@yandex.ru  2012-05-21 16:11:25 +0200    11.38   \n",
        "60743   #1012      bettyhedrich@gmx.de  2012-05-18 18:08:41 +0200    21.13   \n",
        "60744   #1012      bettyhedrich@gmx.de  2012-05-18 18:08:41 +0200    20.80   \n",
        "60745   #1011            rulah@msn.com  2012-05-10 19:36:02 +0200   222.30   \n",
        "60746   #1010      milda_b@hotmail.com  2012-05-08 13:52:24 +0200     8.19   \n",
        "60747   #1010      milda_b@hotmail.com  2012-05-08 13:52:24 +0200    45.50   \n",
        "60748   #1010      milda_b@hotmail.com  2012-05-08 13:52:24 +0200    10.40   \n",
        "60749   #1010      milda_b@hotmail.com  2012-05-08 13:52:24 +0200    16.58   \n",
        "60750   #1010      milda_b@hotmail.com  2012-05-08 13:52:24 +0200     9.36   \n",
        "60751   #1010      milda_b@hotmail.com  2012-05-08 13:52:24 +0200    26.00   \n",
        "60752   #1010      milda_b@hotmail.com  2012-05-08 13:52:24 +0200    39.52   \n",
        "60753   #1009      bente.ring@yahoo.no  2012-05-08 13:20:05 +0200    45.50   \n",
        "60754   #1008      bente.ring@yahoo.no  2012-05-07 10:49:42 +0200    79.95   \n",
        "60755   #1008      bente.ring@yahoo.no  2012-05-07 10:49:42 +0200   113.76   \n",
        "60756   #1008      bente.ring@yahoo.no  2012-05-07 10:49:42 +0200   113.76   \n",
        "60757   #1008      bente.ring@yahoo.no  2012-05-07 10:49:42 +0200    42.26   \n",
        "60758   #1008      bente.ring@yahoo.no  2012-05-07 10:49:42 +0200     7.80   \n",
        "60759   #1007   lik-novikova@yandex.ru  2012-05-03 11:34:14 +0200    22.10   \n",
        "60760   #1007   lik-novikova@yandex.ru  2012-05-03 11:34:14 +0200    40.95   \n",
        "60761   #1007   lik-novikova@yandex.ru  2012-05-03 11:34:14 +0200    26.65   \n",
        "60762   #1007   lik-novikova@yandex.ru  2012-05-03 11:34:14 +0200    21.13   \n",
        "60763   #1006      bente.ring@yahoo.no  2012-05-02 17:38:40 +0200     9.10   \n",
        "60764   #1006      bente.ring@yahoo.no  2012-05-02 17:38:40 +0200    26.65   \n",
        "60765   #1006      bente.ring@yahoo.no  2012-05-02 17:38:40 +0200    52.00   \n",
        "60766   #1006      bente.ring@yahoo.no  2012-05-02 17:38:40 +0200    56.88   \n",
        "60767   #1006      bente.ring@yahoo.no  2012-05-02 17:38:40 +0200    56.88   \n",
        "60768   #1005     cathypod@hotmail.com  2012-05-01 22:08:45 +0200     8.19   \n",
        "60769   #1005     cathypod@hotmail.com  2012-05-01 22:08:45 +0200    10.40   \n",
        "60770   #1005     cathypod@hotmail.com  2012-05-01 22:08:45 +0200    26.65   \n",
        "60771   #1005     cathypod@hotmail.com  2012-05-01 22:08:45 +0200     9.36   \n",
        "\n",
        "             Day  Hours  \n",
        "0      Wednesday     20  \n",
        "1      Wednesday     20  \n",
        "2      Wednesday     20  \n",
        "3      Wednesday     20  \n",
        "4      Wednesday     20  \n",
        "5      Wednesday     20  \n",
        "6      Wednesday     18  \n",
        "7      Wednesday     18  \n",
        "8      Wednesday     18  \n",
        "9      Wednesday     18  \n",
        "10     Wednesday     18  \n",
        "11     Wednesday     18  \n",
        "12     Wednesday     16  \n",
        "13     Wednesday     16  \n",
        "14     Wednesday     16  \n",
        "15     Wednesday     16  \n",
        "16     Wednesday     16  \n",
        "17     Wednesday     16  \n",
        "18     Wednesday     16  \n",
        "19     Wednesday     16  \n",
        "20     Wednesday     16  \n",
        "21     Wednesday     16  \n",
        "22     Wednesday     14  \n",
        "23     Wednesday     12  \n",
        "24     Wednesday     12  \n",
        "25     Wednesday     12  \n",
        "26     Wednesday     12  \n",
        "27     Wednesday     12  \n",
        "28     Wednesday     12  \n",
        "29     Wednesday     12  \n",
        "...          ...    ...  \n",
        "60742     Monday     16  \n",
        "60743     Friday     18  \n",
        "60744     Friday     18  \n",
        "60745   Thursday     18  \n",
        "60746    Tuesday     12  \n",
        "60747    Tuesday     12  \n",
        "60748    Tuesday     12  \n",
        "60749    Tuesday     12  \n",
        "60750    Tuesday     12  \n",
        "60751    Tuesday     12  \n",
        "60752    Tuesday     12  \n",
        "60753    Tuesday     12  \n",
        "60754     Monday     10  \n",
        "60755     Monday     10  \n",
        "60756     Monday     10  \n",
        "60757     Monday     10  \n",
        "60758     Monday     10  \n",
        "60759   Thursday     10  \n",
        "60760   Thursday     10  \n",
        "60761   Thursday     10  \n",
        "60762   Thursday     10  \n",
        "60763  Wednesday     16  \n",
        "60764  Wednesday     16  \n",
        "60765  Wednesday     16  \n",
        "60766  Wednesday     16  \n",
        "60767  Wednesday     16  \n",
        "60768    Tuesday     22  \n",
        "60769    Tuesday     22  \n",
        "60770    Tuesday     22  \n",
        "60771    Tuesday     22  \n",
        "\n",
        "[60772 rows x 6 columns]"
       ]
      }
     ],
     "prompt_number": 4
    },
    {
     "cell_type": "code",
     "collapsed": false,
     "input": [
      "def changeDate(data):\n",
      "    matchobj = re.match(r'(.*) (.*) (.*).*',data)\n",
      "    if (pd.to_datetime(datetime.strptime(matchobj.group(1), '%Y-%m-%d')).date().strftime(\"%A\") == 'Wednesday'):\n",
      "        return datetime.strptime(matchobj.group(1), '%Y-%m-%d').date() - DT.timedelta(days=6)\n",
      "    if (pd.to_datetime(datetime.strptime(matchobj.group(1), '%Y-%m-%d')).date().strftime(\"%A\") == 'Tuesday'):\n",
      "        return datetime.strptime(matchobj.group(1), '%Y-%m-%d').date() - DT.timedelta(days=5)\n",
      "    if (pd.to_datetime(datetime.strptime(matchobj.group(1), '%Y-%m-%d')).date().strftime(\"%A\") == 'Monday'):\n",
      "        return datetime.strptime(matchobj.group(1), '%Y-%m-%d').date() - DT.timedelta(days=4)\n",
      "    if (pd.to_datetime(datetime.strptime(matchobj.group(1), '%Y-%m-%d')).date().strftime(\"%A\") == 'Sunday'):\n",
      "        return datetime.strptime(matchobj.group(1), '%Y-%m-%d').date() - DT.timedelta(days=3)\n",
      "    if (pd.to_datetime(datetime.strptime(matchobj.group(1), '%Y-%m-%d')).date().strftime(\"%A\") == 'Saturday'):\n",
      "        return datetime.strptime(matchobj.group(1), '%Y-%m-%d').date() - DT.timedelta(days=2)\n",
      "    if (pd.to_datetime(datetime.strptime(matchobj.group(1), '%Y-%m-%d')).date().strftime(\"%A\") == 'Friday'):\n",
      "        return datetime.strptime(matchobj.group(1), '%Y-%m-%d').date() - DT.timedelta(days=1)\n",
      "df['Date'] = df.Date.apply(changeDate)\n",
      "df"
     ],
     "language": "python",
     "metadata": {},
     "outputs": [
      {
       "output_type": "stream",
       "stream": "stderr",
       "text": [
        "-c:15: SettingWithCopyWarning: \n",
        "A value is trying to be set on a copy of a slice from a DataFrame.\n",
        "Try using .loc[row_indexer,col_indexer] = value instead\n",
        "\n",
        "See the the caveats in the documentation: http://pandas.pydata.org/pandas-docs/stable/indexing.html#indexing-view-versus-copy\n"
       ]
      },
      {
       "html": [
        "<div style=\"max-height:1000px;max-width:1500px;overflow:auto;\">\n",
        "<table border=\"1\" class=\"dataframe\">\n",
        "  <thead>\n",
        "    <tr style=\"text-align: right;\">\n",
        "      <th></th>\n",
        "      <th>Name</th>\n",
        "      <th>Email</th>\n",
        "      <th>Date</th>\n",
        "      <th>Revenue</th>\n",
        "      <th>Day</th>\n",
        "      <th>Hours</th>\n",
        "    </tr>\n",
        "  </thead>\n",
        "  <tbody>\n",
        "    <tr>\n",
        "      <th>0    </th>\n",
        "      <td> #10367</td>\n",
        "      <td>  rehabmansour@gmail.com</td>\n",
        "      <td> 2015-12-17</td>\n",
        "      <td> 180.00</td>\n",
        "      <td> Wednesday</td>\n",
        "      <td> 20</td>\n",
        "    </tr>\n",
        "    <tr>\n",
        "      <th>1    </th>\n",
        "      <td> #10367</td>\n",
        "      <td>  rehabmansour@gmail.com</td>\n",
        "      <td> 2015-12-17</td>\n",
        "      <td>  14.40</td>\n",
        "      <td> Wednesday</td>\n",
        "      <td> 20</td>\n",
        "    </tr>\n",
        "    <tr>\n",
        "      <th>2    </th>\n",
        "      <td> #10367</td>\n",
        "      <td>  rehabmansour@gmail.com</td>\n",
        "      <td> 2015-12-17</td>\n",
        "      <td> 180.90</td>\n",
        "      <td> Wednesday</td>\n",
        "      <td> 20</td>\n",
        "    </tr>\n",
        "    <tr>\n",
        "      <th>3    </th>\n",
        "      <td> #10366</td>\n",
        "      <td>     nabouheif@yahoo.com</td>\n",
        "      <td> 2015-12-17</td>\n",
        "      <td>  30.60</td>\n",
        "      <td> Wednesday</td>\n",
        "      <td> 20</td>\n",
        "    </tr>\n",
        "    <tr>\n",
        "      <th>4    </th>\n",
        "      <td> #10366</td>\n",
        "      <td>     nabouheif@yahoo.com</td>\n",
        "      <td> 2015-12-17</td>\n",
        "      <td>  10.80</td>\n",
        "      <td> Wednesday</td>\n",
        "      <td> 20</td>\n",
        "    </tr>\n",
        "    <tr>\n",
        "      <th>5    </th>\n",
        "      <td> #10366</td>\n",
        "      <td>     nabouheif@yahoo.com</td>\n",
        "      <td> 2015-12-17</td>\n",
        "      <td> 121.50</td>\n",
        "      <td> Wednesday</td>\n",
        "      <td> 20</td>\n",
        "    </tr>\n",
        "    <tr>\n",
        "      <th>6    </th>\n",
        "      <td> #10365</td>\n",
        "      <td>  fracicardi@hotmail.com</td>\n",
        "      <td> 2015-12-17</td>\n",
        "      <td>   2.10</td>\n",
        "      <td> Wednesday</td>\n",
        "      <td> 18</td>\n",
        "    </tr>\n",
        "    <tr>\n",
        "      <th>7    </th>\n",
        "      <td> #10365</td>\n",
        "      <td>  fracicardi@hotmail.com</td>\n",
        "      <td> 2015-12-17</td>\n",
        "      <td>   7.20</td>\n",
        "      <td> Wednesday</td>\n",
        "      <td> 18</td>\n",
        "    </tr>\n",
        "    <tr>\n",
        "      <th>8    </th>\n",
        "      <td> #10365</td>\n",
        "      <td>  fracicardi@hotmail.com</td>\n",
        "      <td> 2015-12-17</td>\n",
        "      <td>   7.20</td>\n",
        "      <td> Wednesday</td>\n",
        "      <td> 18</td>\n",
        "    </tr>\n",
        "    <tr>\n",
        "      <th>9    </th>\n",
        "      <td> #10365</td>\n",
        "      <td>  fracicardi@hotmail.com</td>\n",
        "      <td> 2015-12-17</td>\n",
        "      <td>  60.30</td>\n",
        "      <td> Wednesday</td>\n",
        "      <td> 18</td>\n",
        "    </tr>\n",
        "    <tr>\n",
        "      <th>10   </th>\n",
        "      <td> #10365</td>\n",
        "      <td>  fracicardi@hotmail.com</td>\n",
        "      <td> 2015-12-17</td>\n",
        "      <td>   7.20</td>\n",
        "      <td> Wednesday</td>\n",
        "      <td> 18</td>\n",
        "    </tr>\n",
        "    <tr>\n",
        "      <th>11   </th>\n",
        "      <td> #10365</td>\n",
        "      <td>  fracicardi@hotmail.com</td>\n",
        "      <td> 2015-12-17</td>\n",
        "      <td>  45.00</td>\n",
        "      <td> Wednesday</td>\n",
        "      <td> 18</td>\n",
        "    </tr>\n",
        "    <tr>\n",
        "      <th>12   </th>\n",
        "      <td> #10364</td>\n",
        "      <td>  ahmed.fakhry@gmail.com</td>\n",
        "      <td> 2015-12-17</td>\n",
        "      <td>  60.30</td>\n",
        "      <td> Wednesday</td>\n",
        "      <td> 16</td>\n",
        "    </tr>\n",
        "    <tr>\n",
        "      <th>13   </th>\n",
        "      <td> #10364</td>\n",
        "      <td>  ahmed.fakhry@gmail.com</td>\n",
        "      <td> 2015-12-17</td>\n",
        "      <td>  33.30</td>\n",
        "      <td> Wednesday</td>\n",
        "      <td> 16</td>\n",
        "    </tr>\n",
        "    <tr>\n",
        "      <th>14   </th>\n",
        "      <td> #10364</td>\n",
        "      <td>  ahmed.fakhry@gmail.com</td>\n",
        "      <td> 2015-12-17</td>\n",
        "      <td>  60.30</td>\n",
        "      <td> Wednesday</td>\n",
        "      <td> 16</td>\n",
        "    </tr>\n",
        "    <tr>\n",
        "      <th>15   </th>\n",
        "      <td> #10364</td>\n",
        "      <td>  ahmed.fakhry@gmail.com</td>\n",
        "      <td> 2015-12-17</td>\n",
        "      <td> 114.00</td>\n",
        "      <td> Wednesday</td>\n",
        "      <td> 16</td>\n",
        "    </tr>\n",
        "    <tr>\n",
        "      <th>16   </th>\n",
        "      <td> #10364</td>\n",
        "      <td>  ahmed.fakhry@gmail.com</td>\n",
        "      <td> 2015-12-17</td>\n",
        "      <td> 114.00</td>\n",
        "      <td> Wednesday</td>\n",
        "      <td> 16</td>\n",
        "    </tr>\n",
        "    <tr>\n",
        "      <th>17   </th>\n",
        "      <td> #10364</td>\n",
        "      <td>  ahmed.fakhry@gmail.com</td>\n",
        "      <td> 2015-12-17</td>\n",
        "      <td>  98.00</td>\n",
        "      <td> Wednesday</td>\n",
        "      <td> 16</td>\n",
        "    </tr>\n",
        "    <tr>\n",
        "      <th>18   </th>\n",
        "      <td> #10364</td>\n",
        "      <td>  ahmed.fakhry@gmail.com</td>\n",
        "      <td> 2015-12-17</td>\n",
        "      <td>  65.00</td>\n",
        "      <td> Wednesday</td>\n",
        "      <td> 16</td>\n",
        "    </tr>\n",
        "    <tr>\n",
        "      <th>19   </th>\n",
        "      <td> #10364</td>\n",
        "      <td>  ahmed.fakhry@gmail.com</td>\n",
        "      <td> 2015-12-17</td>\n",
        "      <td>  57.60</td>\n",
        "      <td> Wednesday</td>\n",
        "      <td> 16</td>\n",
        "    </tr>\n",
        "    <tr>\n",
        "      <th>20   </th>\n",
        "      <td> #10364</td>\n",
        "      <td>  ahmed.fakhry@gmail.com</td>\n",
        "      <td> 2015-12-17</td>\n",
        "      <td>  57.60</td>\n",
        "      <td> Wednesday</td>\n",
        "      <td> 16</td>\n",
        "    </tr>\n",
        "    <tr>\n",
        "      <th>21   </th>\n",
        "      <td> #10363</td>\n",
        "      <td>  ahmed.fakhry@gmail.com</td>\n",
        "      <td> 2015-12-17</td>\n",
        "      <td> 592.00</td>\n",
        "      <td> Wednesday</td>\n",
        "      <td> 16</td>\n",
        "    </tr>\n",
        "    <tr>\n",
        "      <th>22   </th>\n",
        "      <td> #10362</td>\n",
        "      <td>    Missilou11@yahoo.com</td>\n",
        "      <td> 2015-12-17</td>\n",
        "      <td>  70.20</td>\n",
        "      <td> Wednesday</td>\n",
        "      <td> 14</td>\n",
        "    </tr>\n",
        "    <tr>\n",
        "      <th>23   </th>\n",
        "      <td> #10361</td>\n",
        "      <td> sallysalem123@gmail.com</td>\n",
        "      <td> 2015-12-17</td>\n",
        "      <td>  41.00</td>\n",
        "      <td> Wednesday</td>\n",
        "      <td> 12</td>\n",
        "    </tr>\n",
        "    <tr>\n",
        "      <th>24   </th>\n",
        "      <td> #10361</td>\n",
        "      <td> sallysalem123@gmail.com</td>\n",
        "      <td> 2015-12-17</td>\n",
        "      <td>   8.50</td>\n",
        "      <td> Wednesday</td>\n",
        "      <td> 12</td>\n",
        "    </tr>\n",
        "    <tr>\n",
        "      <th>25   </th>\n",
        "      <td> #10361</td>\n",
        "      <td> sallysalem123@gmail.com</td>\n",
        "      <td> 2015-12-17</td>\n",
        "      <td>  10.80</td>\n",
        "      <td> Wednesday</td>\n",
        "      <td> 12</td>\n",
        "    </tr>\n",
        "    <tr>\n",
        "      <th>26   </th>\n",
        "      <td> #10361</td>\n",
        "      <td> sallysalem123@gmail.com</td>\n",
        "      <td> 2015-12-17</td>\n",
        "      <td> 115.20</td>\n",
        "      <td> Wednesday</td>\n",
        "      <td> 12</td>\n",
        "    </tr>\n",
        "    <tr>\n",
        "      <th>27   </th>\n",
        "      <td> #10361</td>\n",
        "      <td> sallysalem123@gmail.com</td>\n",
        "      <td> 2015-12-17</td>\n",
        "      <td> 115.20</td>\n",
        "      <td> Wednesday</td>\n",
        "      <td> 12</td>\n",
        "    </tr>\n",
        "    <tr>\n",
        "      <th>28   </th>\n",
        "      <td> #10361</td>\n",
        "      <td> sallysalem123@gmail.com</td>\n",
        "      <td> 2015-12-17</td>\n",
        "      <td>  81.00</td>\n",
        "      <td> Wednesday</td>\n",
        "      <td> 12</td>\n",
        "    </tr>\n",
        "    <tr>\n",
        "      <th>29   </th>\n",
        "      <td> #10361</td>\n",
        "      <td> sallysalem123@gmail.com</td>\n",
        "      <td> 2015-12-17</td>\n",
        "      <td>  60.30</td>\n",
        "      <td> Wednesday</td>\n",
        "      <td> 12</td>\n",
        "    </tr>\n",
        "    <tr>\n",
        "      <th>...</th>\n",
        "      <td>...</td>\n",
        "      <td>...</td>\n",
        "      <td>...</td>\n",
        "      <td>...</td>\n",
        "      <td>...</td>\n",
        "      <td>...</td>\n",
        "    </tr>\n",
        "    <tr>\n",
        "      <th>60742</th>\n",
        "      <td>  #1013</td>\n",
        "      <td>  lik-novikova@yandex.ru</td>\n",
        "      <td> 2012-05-17</td>\n",
        "      <td>  11.38</td>\n",
        "      <td>    Monday</td>\n",
        "      <td> 16</td>\n",
        "    </tr>\n",
        "    <tr>\n",
        "      <th>60743</th>\n",
        "      <td>  #1012</td>\n",
        "      <td>     bettyhedrich@gmx.de</td>\n",
        "      <td> 2012-05-17</td>\n",
        "      <td>  21.13</td>\n",
        "      <td>    Friday</td>\n",
        "      <td> 18</td>\n",
        "    </tr>\n",
        "    <tr>\n",
        "      <th>60744</th>\n",
        "      <td>  #1012</td>\n",
        "      <td>     bettyhedrich@gmx.de</td>\n",
        "      <td> 2012-05-17</td>\n",
        "      <td>  20.80</td>\n",
        "      <td>    Friday</td>\n",
        "      <td> 18</td>\n",
        "    </tr>\n",
        "    <tr>\n",
        "      <th>60745</th>\n",
        "      <td>  #1011</td>\n",
        "      <td>           rulah@msn.com</td>\n",
        "      <td>       None</td>\n",
        "      <td> 222.30</td>\n",
        "      <td>  Thursday</td>\n",
        "      <td> 18</td>\n",
        "    </tr>\n",
        "    <tr>\n",
        "      <th>60746</th>\n",
        "      <td>  #1010</td>\n",
        "      <td>     milda_b@hotmail.com</td>\n",
        "      <td> 2012-05-03</td>\n",
        "      <td>   8.19</td>\n",
        "      <td>   Tuesday</td>\n",
        "      <td> 12</td>\n",
        "    </tr>\n",
        "    <tr>\n",
        "      <th>60747</th>\n",
        "      <td>  #1010</td>\n",
        "      <td>     milda_b@hotmail.com</td>\n",
        "      <td> 2012-05-03</td>\n",
        "      <td>  45.50</td>\n",
        "      <td>   Tuesday</td>\n",
        "      <td> 12</td>\n",
        "    </tr>\n",
        "    <tr>\n",
        "      <th>60748</th>\n",
        "      <td>  #1010</td>\n",
        "      <td>     milda_b@hotmail.com</td>\n",
        "      <td> 2012-05-03</td>\n",
        "      <td>  10.40</td>\n",
        "      <td>   Tuesday</td>\n",
        "      <td> 12</td>\n",
        "    </tr>\n",
        "    <tr>\n",
        "      <th>60749</th>\n",
        "      <td>  #1010</td>\n",
        "      <td>     milda_b@hotmail.com</td>\n",
        "      <td> 2012-05-03</td>\n",
        "      <td>  16.58</td>\n",
        "      <td>   Tuesday</td>\n",
        "      <td> 12</td>\n",
        "    </tr>\n",
        "    <tr>\n",
        "      <th>60750</th>\n",
        "      <td>  #1010</td>\n",
        "      <td>     milda_b@hotmail.com</td>\n",
        "      <td> 2012-05-03</td>\n",
        "      <td>   9.36</td>\n",
        "      <td>   Tuesday</td>\n",
        "      <td> 12</td>\n",
        "    </tr>\n",
        "    <tr>\n",
        "      <th>60751</th>\n",
        "      <td>  #1010</td>\n",
        "      <td>     milda_b@hotmail.com</td>\n",
        "      <td> 2012-05-03</td>\n",
        "      <td>  26.00</td>\n",
        "      <td>   Tuesday</td>\n",
        "      <td> 12</td>\n",
        "    </tr>\n",
        "    <tr>\n",
        "      <th>60752</th>\n",
        "      <td>  #1010</td>\n",
        "      <td>     milda_b@hotmail.com</td>\n",
        "      <td> 2012-05-03</td>\n",
        "      <td>  39.52</td>\n",
        "      <td>   Tuesday</td>\n",
        "      <td> 12</td>\n",
        "    </tr>\n",
        "    <tr>\n",
        "      <th>60753</th>\n",
        "      <td>  #1009</td>\n",
        "      <td>     bente.ring@yahoo.no</td>\n",
        "      <td> 2012-05-03</td>\n",
        "      <td>  45.50</td>\n",
        "      <td>   Tuesday</td>\n",
        "      <td> 12</td>\n",
        "    </tr>\n",
        "    <tr>\n",
        "      <th>60754</th>\n",
        "      <td>  #1008</td>\n",
        "      <td>     bente.ring@yahoo.no</td>\n",
        "      <td> 2012-05-03</td>\n",
        "      <td>  79.95</td>\n",
        "      <td>    Monday</td>\n",
        "      <td> 10</td>\n",
        "    </tr>\n",
        "    <tr>\n",
        "      <th>60755</th>\n",
        "      <td>  #1008</td>\n",
        "      <td>     bente.ring@yahoo.no</td>\n",
        "      <td> 2012-05-03</td>\n",
        "      <td> 113.76</td>\n",
        "      <td>    Monday</td>\n",
        "      <td> 10</td>\n",
        "    </tr>\n",
        "    <tr>\n",
        "      <th>60756</th>\n",
        "      <td>  #1008</td>\n",
        "      <td>     bente.ring@yahoo.no</td>\n",
        "      <td> 2012-05-03</td>\n",
        "      <td> 113.76</td>\n",
        "      <td>    Monday</td>\n",
        "      <td> 10</td>\n",
        "    </tr>\n",
        "    <tr>\n",
        "      <th>60757</th>\n",
        "      <td>  #1008</td>\n",
        "      <td>     bente.ring@yahoo.no</td>\n",
        "      <td> 2012-05-03</td>\n",
        "      <td>  42.26</td>\n",
        "      <td>    Monday</td>\n",
        "      <td> 10</td>\n",
        "    </tr>\n",
        "    <tr>\n",
        "      <th>60758</th>\n",
        "      <td>  #1008</td>\n",
        "      <td>     bente.ring@yahoo.no</td>\n",
        "      <td> 2012-05-03</td>\n",
        "      <td>   7.80</td>\n",
        "      <td>    Monday</td>\n",
        "      <td> 10</td>\n",
        "    </tr>\n",
        "    <tr>\n",
        "      <th>60759</th>\n",
        "      <td>  #1007</td>\n",
        "      <td>  lik-novikova@yandex.ru</td>\n",
        "      <td>       None</td>\n",
        "      <td>  22.10</td>\n",
        "      <td>  Thursday</td>\n",
        "      <td> 10</td>\n",
        "    </tr>\n",
        "    <tr>\n",
        "      <th>60760</th>\n",
        "      <td>  #1007</td>\n",
        "      <td>  lik-novikova@yandex.ru</td>\n",
        "      <td>       None</td>\n",
        "      <td>  40.95</td>\n",
        "      <td>  Thursday</td>\n",
        "      <td> 10</td>\n",
        "    </tr>\n",
        "    <tr>\n",
        "      <th>60761</th>\n",
        "      <td>  #1007</td>\n",
        "      <td>  lik-novikova@yandex.ru</td>\n",
        "      <td>       None</td>\n",
        "      <td>  26.65</td>\n",
        "      <td>  Thursday</td>\n",
        "      <td> 10</td>\n",
        "    </tr>\n",
        "    <tr>\n",
        "      <th>60762</th>\n",
        "      <td>  #1007</td>\n",
        "      <td>  lik-novikova@yandex.ru</td>\n",
        "      <td>       None</td>\n",
        "      <td>  21.13</td>\n",
        "      <td>  Thursday</td>\n",
        "      <td> 10</td>\n",
        "    </tr>\n",
        "    <tr>\n",
        "      <th>60763</th>\n",
        "      <td>  #1006</td>\n",
        "      <td>     bente.ring@yahoo.no</td>\n",
        "      <td> 2012-04-26</td>\n",
        "      <td>   9.10</td>\n",
        "      <td> Wednesday</td>\n",
        "      <td> 16</td>\n",
        "    </tr>\n",
        "    <tr>\n",
        "      <th>60764</th>\n",
        "      <td>  #1006</td>\n",
        "      <td>     bente.ring@yahoo.no</td>\n",
        "      <td> 2012-04-26</td>\n",
        "      <td>  26.65</td>\n",
        "      <td> Wednesday</td>\n",
        "      <td> 16</td>\n",
        "    </tr>\n",
        "    <tr>\n",
        "      <th>60765</th>\n",
        "      <td>  #1006</td>\n",
        "      <td>     bente.ring@yahoo.no</td>\n",
        "      <td> 2012-04-26</td>\n",
        "      <td>  52.00</td>\n",
        "      <td> Wednesday</td>\n",
        "      <td> 16</td>\n",
        "    </tr>\n",
        "    <tr>\n",
        "      <th>60766</th>\n",
        "      <td>  #1006</td>\n",
        "      <td>     bente.ring@yahoo.no</td>\n",
        "      <td> 2012-04-26</td>\n",
        "      <td>  56.88</td>\n",
        "      <td> Wednesday</td>\n",
        "      <td> 16</td>\n",
        "    </tr>\n",
        "    <tr>\n",
        "      <th>60767</th>\n",
        "      <td>  #1006</td>\n",
        "      <td>     bente.ring@yahoo.no</td>\n",
        "      <td> 2012-04-26</td>\n",
        "      <td>  56.88</td>\n",
        "      <td> Wednesday</td>\n",
        "      <td> 16</td>\n",
        "    </tr>\n",
        "    <tr>\n",
        "      <th>60768</th>\n",
        "      <td>  #1005</td>\n",
        "      <td>    cathypod@hotmail.com</td>\n",
        "      <td> 2012-04-26</td>\n",
        "      <td>   8.19</td>\n",
        "      <td>   Tuesday</td>\n",
        "      <td> 22</td>\n",
        "    </tr>\n",
        "    <tr>\n",
        "      <th>60769</th>\n",
        "      <td>  #1005</td>\n",
        "      <td>    cathypod@hotmail.com</td>\n",
        "      <td> 2012-04-26</td>\n",
        "      <td>  10.40</td>\n",
        "      <td>   Tuesday</td>\n",
        "      <td> 22</td>\n",
        "    </tr>\n",
        "    <tr>\n",
        "      <th>60770</th>\n",
        "      <td>  #1005</td>\n",
        "      <td>    cathypod@hotmail.com</td>\n",
        "      <td> 2012-04-26</td>\n",
        "      <td>  26.65</td>\n",
        "      <td>   Tuesday</td>\n",
        "      <td> 22</td>\n",
        "    </tr>\n",
        "    <tr>\n",
        "      <th>60771</th>\n",
        "      <td>  #1005</td>\n",
        "      <td>    cathypod@hotmail.com</td>\n",
        "      <td> 2012-04-26</td>\n",
        "      <td>   9.36</td>\n",
        "      <td>   Tuesday</td>\n",
        "      <td> 22</td>\n",
        "    </tr>\n",
        "  </tbody>\n",
        "</table>\n",
        "<p>60772 rows \u00d7 6 columns</p>\n",
        "</div>"
       ],
       "metadata": {},
       "output_type": "pyout",
       "prompt_number": 5,
       "text": [
        "         Name                    Email        Date  Revenue        Day  Hours\n",
        "0      #10367   rehabmansour@gmail.com  2015-12-17   180.00  Wednesday     20\n",
        "1      #10367   rehabmansour@gmail.com  2015-12-17    14.40  Wednesday     20\n",
        "2      #10367   rehabmansour@gmail.com  2015-12-17   180.90  Wednesday     20\n",
        "3      #10366      nabouheif@yahoo.com  2015-12-17    30.60  Wednesday     20\n",
        "4      #10366      nabouheif@yahoo.com  2015-12-17    10.80  Wednesday     20\n",
        "5      #10366      nabouheif@yahoo.com  2015-12-17   121.50  Wednesday     20\n",
        "6      #10365   fracicardi@hotmail.com  2015-12-17     2.10  Wednesday     18\n",
        "7      #10365   fracicardi@hotmail.com  2015-12-17     7.20  Wednesday     18\n",
        "8      #10365   fracicardi@hotmail.com  2015-12-17     7.20  Wednesday     18\n",
        "9      #10365   fracicardi@hotmail.com  2015-12-17    60.30  Wednesday     18\n",
        "10     #10365   fracicardi@hotmail.com  2015-12-17     7.20  Wednesday     18\n",
        "11     #10365   fracicardi@hotmail.com  2015-12-17    45.00  Wednesday     18\n",
        "12     #10364   ahmed.fakhry@gmail.com  2015-12-17    60.30  Wednesday     16\n",
        "13     #10364   ahmed.fakhry@gmail.com  2015-12-17    33.30  Wednesday     16\n",
        "14     #10364   ahmed.fakhry@gmail.com  2015-12-17    60.30  Wednesday     16\n",
        "15     #10364   ahmed.fakhry@gmail.com  2015-12-17   114.00  Wednesday     16\n",
        "16     #10364   ahmed.fakhry@gmail.com  2015-12-17   114.00  Wednesday     16\n",
        "17     #10364   ahmed.fakhry@gmail.com  2015-12-17    98.00  Wednesday     16\n",
        "18     #10364   ahmed.fakhry@gmail.com  2015-12-17    65.00  Wednesday     16\n",
        "19     #10364   ahmed.fakhry@gmail.com  2015-12-17    57.60  Wednesday     16\n",
        "20     #10364   ahmed.fakhry@gmail.com  2015-12-17    57.60  Wednesday     16\n",
        "21     #10363   ahmed.fakhry@gmail.com  2015-12-17   592.00  Wednesday     16\n",
        "22     #10362     Missilou11@yahoo.com  2015-12-17    70.20  Wednesday     14\n",
        "23     #10361  sallysalem123@gmail.com  2015-12-17    41.00  Wednesday     12\n",
        "24     #10361  sallysalem123@gmail.com  2015-12-17     8.50  Wednesday     12\n",
        "25     #10361  sallysalem123@gmail.com  2015-12-17    10.80  Wednesday     12\n",
        "26     #10361  sallysalem123@gmail.com  2015-12-17   115.20  Wednesday     12\n",
        "27     #10361  sallysalem123@gmail.com  2015-12-17   115.20  Wednesday     12\n",
        "28     #10361  sallysalem123@gmail.com  2015-12-17    81.00  Wednesday     12\n",
        "29     #10361  sallysalem123@gmail.com  2015-12-17    60.30  Wednesday     12\n",
        "...       ...                      ...         ...      ...        ...    ...\n",
        "60742   #1013   lik-novikova@yandex.ru  2012-05-17    11.38     Monday     16\n",
        "60743   #1012      bettyhedrich@gmx.de  2012-05-17    21.13     Friday     18\n",
        "60744   #1012      bettyhedrich@gmx.de  2012-05-17    20.80     Friday     18\n",
        "60745   #1011            rulah@msn.com        None   222.30   Thursday     18\n",
        "60746   #1010      milda_b@hotmail.com  2012-05-03     8.19    Tuesday     12\n",
        "60747   #1010      milda_b@hotmail.com  2012-05-03    45.50    Tuesday     12\n",
        "60748   #1010      milda_b@hotmail.com  2012-05-03    10.40    Tuesday     12\n",
        "60749   #1010      milda_b@hotmail.com  2012-05-03    16.58    Tuesday     12\n",
        "60750   #1010      milda_b@hotmail.com  2012-05-03     9.36    Tuesday     12\n",
        "60751   #1010      milda_b@hotmail.com  2012-05-03    26.00    Tuesday     12\n",
        "60752   #1010      milda_b@hotmail.com  2012-05-03    39.52    Tuesday     12\n",
        "60753   #1009      bente.ring@yahoo.no  2012-05-03    45.50    Tuesday     12\n",
        "60754   #1008      bente.ring@yahoo.no  2012-05-03    79.95     Monday     10\n",
        "60755   #1008      bente.ring@yahoo.no  2012-05-03   113.76     Monday     10\n",
        "60756   #1008      bente.ring@yahoo.no  2012-05-03   113.76     Monday     10\n",
        "60757   #1008      bente.ring@yahoo.no  2012-05-03    42.26     Monday     10\n",
        "60758   #1008      bente.ring@yahoo.no  2012-05-03     7.80     Monday     10\n",
        "60759   #1007   lik-novikova@yandex.ru        None    22.10   Thursday     10\n",
        "60760   #1007   lik-novikova@yandex.ru        None    40.95   Thursday     10\n",
        "60761   #1007   lik-novikova@yandex.ru        None    26.65   Thursday     10\n",
        "60762   #1007   lik-novikova@yandex.ru        None    21.13   Thursday     10\n",
        "60763   #1006      bente.ring@yahoo.no  2012-04-26     9.10  Wednesday     16\n",
        "60764   #1006      bente.ring@yahoo.no  2012-04-26    26.65  Wednesday     16\n",
        "60765   #1006      bente.ring@yahoo.no  2012-04-26    52.00  Wednesday     16\n",
        "60766   #1006      bente.ring@yahoo.no  2012-04-26    56.88  Wednesday     16\n",
        "60767   #1006      bente.ring@yahoo.no  2012-04-26    56.88  Wednesday     16\n",
        "60768   #1005     cathypod@hotmail.com  2012-04-26     8.19    Tuesday     22\n",
        "60769   #1005     cathypod@hotmail.com  2012-04-26    10.40    Tuesday     22\n",
        "60770   #1005     cathypod@hotmail.com  2012-04-26    26.65    Tuesday     22\n",
        "60771   #1005     cathypod@hotmail.com  2012-04-26     9.36    Tuesday     22\n",
        "\n",
        "[60772 rows x 6 columns]"
       ]
      }
     ],
     "prompt_number": 5
    },
    {
     "cell_type": "code",
     "collapsed": false,
     "input": [
      "df = df.drop_duplicates().reset_index().drop('index',1)\n",
      "df"
     ],
     "language": "python",
     "metadata": {},
     "outputs": [
      {
       "html": [
        "<div style=\"max-height:1000px;max-width:1500px;overflow:auto;\">\n",
        "<table border=\"1\" class=\"dataframe\">\n",
        "  <thead>\n",
        "    <tr style=\"text-align: right;\">\n",
        "      <th></th>\n",
        "      <th>Name</th>\n",
        "      <th>Email</th>\n",
        "      <th>Date</th>\n",
        "      <th>Revenue</th>\n",
        "      <th>Day</th>\n",
        "      <th>Hours</th>\n",
        "    </tr>\n",
        "  </thead>\n",
        "  <tbody>\n",
        "    <tr>\n",
        "      <th>0    </th>\n",
        "      <td> #10367</td>\n",
        "      <td>   rehabmansour@gmail.com</td>\n",
        "      <td> 2015-12-17</td>\n",
        "      <td> 180.00</td>\n",
        "      <td> Wednesday</td>\n",
        "      <td> 20</td>\n",
        "    </tr>\n",
        "    <tr>\n",
        "      <th>1    </th>\n",
        "      <td> #10367</td>\n",
        "      <td>   rehabmansour@gmail.com</td>\n",
        "      <td> 2015-12-17</td>\n",
        "      <td>  14.40</td>\n",
        "      <td> Wednesday</td>\n",
        "      <td> 20</td>\n",
        "    </tr>\n",
        "    <tr>\n",
        "      <th>2    </th>\n",
        "      <td> #10367</td>\n",
        "      <td>   rehabmansour@gmail.com</td>\n",
        "      <td> 2015-12-17</td>\n",
        "      <td> 180.90</td>\n",
        "      <td> Wednesday</td>\n",
        "      <td> 20</td>\n",
        "    </tr>\n",
        "    <tr>\n",
        "      <th>3    </th>\n",
        "      <td> #10366</td>\n",
        "      <td>      nabouheif@yahoo.com</td>\n",
        "      <td> 2015-12-17</td>\n",
        "      <td>  30.60</td>\n",
        "      <td> Wednesday</td>\n",
        "      <td> 20</td>\n",
        "    </tr>\n",
        "    <tr>\n",
        "      <th>4    </th>\n",
        "      <td> #10366</td>\n",
        "      <td>      nabouheif@yahoo.com</td>\n",
        "      <td> 2015-12-17</td>\n",
        "      <td>  10.80</td>\n",
        "      <td> Wednesday</td>\n",
        "      <td> 20</td>\n",
        "    </tr>\n",
        "    <tr>\n",
        "      <th>5    </th>\n",
        "      <td> #10366</td>\n",
        "      <td>      nabouheif@yahoo.com</td>\n",
        "      <td> 2015-12-17</td>\n",
        "      <td> 121.50</td>\n",
        "      <td> Wednesday</td>\n",
        "      <td> 20</td>\n",
        "    </tr>\n",
        "    <tr>\n",
        "      <th>6    </th>\n",
        "      <td> #10365</td>\n",
        "      <td>   fracicardi@hotmail.com</td>\n",
        "      <td> 2015-12-17</td>\n",
        "      <td>   2.10</td>\n",
        "      <td> Wednesday</td>\n",
        "      <td> 18</td>\n",
        "    </tr>\n",
        "    <tr>\n",
        "      <th>7    </th>\n",
        "      <td> #10365</td>\n",
        "      <td>   fracicardi@hotmail.com</td>\n",
        "      <td> 2015-12-17</td>\n",
        "      <td>   7.20</td>\n",
        "      <td> Wednesday</td>\n",
        "      <td> 18</td>\n",
        "    </tr>\n",
        "    <tr>\n",
        "      <th>8    </th>\n",
        "      <td> #10365</td>\n",
        "      <td>   fracicardi@hotmail.com</td>\n",
        "      <td> 2015-12-17</td>\n",
        "      <td>  60.30</td>\n",
        "      <td> Wednesday</td>\n",
        "      <td> 18</td>\n",
        "    </tr>\n",
        "    <tr>\n",
        "      <th>9    </th>\n",
        "      <td> #10365</td>\n",
        "      <td>   fracicardi@hotmail.com</td>\n",
        "      <td> 2015-12-17</td>\n",
        "      <td>  45.00</td>\n",
        "      <td> Wednesday</td>\n",
        "      <td> 18</td>\n",
        "    </tr>\n",
        "    <tr>\n",
        "      <th>10   </th>\n",
        "      <td> #10364</td>\n",
        "      <td>   ahmed.fakhry@gmail.com</td>\n",
        "      <td> 2015-12-17</td>\n",
        "      <td>  60.30</td>\n",
        "      <td> Wednesday</td>\n",
        "      <td> 16</td>\n",
        "    </tr>\n",
        "    <tr>\n",
        "      <th>11   </th>\n",
        "      <td> #10364</td>\n",
        "      <td>   ahmed.fakhry@gmail.com</td>\n",
        "      <td> 2015-12-17</td>\n",
        "      <td>  33.30</td>\n",
        "      <td> Wednesday</td>\n",
        "      <td> 16</td>\n",
        "    </tr>\n",
        "    <tr>\n",
        "      <th>12   </th>\n",
        "      <td> #10364</td>\n",
        "      <td>   ahmed.fakhry@gmail.com</td>\n",
        "      <td> 2015-12-17</td>\n",
        "      <td> 114.00</td>\n",
        "      <td> Wednesday</td>\n",
        "      <td> 16</td>\n",
        "    </tr>\n",
        "    <tr>\n",
        "      <th>13   </th>\n",
        "      <td> #10364</td>\n",
        "      <td>   ahmed.fakhry@gmail.com</td>\n",
        "      <td> 2015-12-17</td>\n",
        "      <td>  98.00</td>\n",
        "      <td> Wednesday</td>\n",
        "      <td> 16</td>\n",
        "    </tr>\n",
        "    <tr>\n",
        "      <th>14   </th>\n",
        "      <td> #10364</td>\n",
        "      <td>   ahmed.fakhry@gmail.com</td>\n",
        "      <td> 2015-12-17</td>\n",
        "      <td>  65.00</td>\n",
        "      <td> Wednesday</td>\n",
        "      <td> 16</td>\n",
        "    </tr>\n",
        "    <tr>\n",
        "      <th>15   </th>\n",
        "      <td> #10364</td>\n",
        "      <td>   ahmed.fakhry@gmail.com</td>\n",
        "      <td> 2015-12-17</td>\n",
        "      <td>  57.60</td>\n",
        "      <td> Wednesday</td>\n",
        "      <td> 16</td>\n",
        "    </tr>\n",
        "    <tr>\n",
        "      <th>16   </th>\n",
        "      <td> #10363</td>\n",
        "      <td>   ahmed.fakhry@gmail.com</td>\n",
        "      <td> 2015-12-17</td>\n",
        "      <td> 592.00</td>\n",
        "      <td> Wednesday</td>\n",
        "      <td> 16</td>\n",
        "    </tr>\n",
        "    <tr>\n",
        "      <th>17   </th>\n",
        "      <td> #10362</td>\n",
        "      <td>     Missilou11@yahoo.com</td>\n",
        "      <td> 2015-12-17</td>\n",
        "      <td>  70.20</td>\n",
        "      <td> Wednesday</td>\n",
        "      <td> 14</td>\n",
        "    </tr>\n",
        "    <tr>\n",
        "      <th>18   </th>\n",
        "      <td> #10361</td>\n",
        "      <td>  sallysalem123@gmail.com</td>\n",
        "      <td> 2015-12-17</td>\n",
        "      <td>  41.00</td>\n",
        "      <td> Wednesday</td>\n",
        "      <td> 12</td>\n",
        "    </tr>\n",
        "    <tr>\n",
        "      <th>19   </th>\n",
        "      <td> #10361</td>\n",
        "      <td>  sallysalem123@gmail.com</td>\n",
        "      <td> 2015-12-17</td>\n",
        "      <td>   8.50</td>\n",
        "      <td> Wednesday</td>\n",
        "      <td> 12</td>\n",
        "    </tr>\n",
        "    <tr>\n",
        "      <th>20   </th>\n",
        "      <td> #10361</td>\n",
        "      <td>  sallysalem123@gmail.com</td>\n",
        "      <td> 2015-12-17</td>\n",
        "      <td>  10.80</td>\n",
        "      <td> Wednesday</td>\n",
        "      <td> 12</td>\n",
        "    </tr>\n",
        "    <tr>\n",
        "      <th>21   </th>\n",
        "      <td> #10361</td>\n",
        "      <td>  sallysalem123@gmail.com</td>\n",
        "      <td> 2015-12-17</td>\n",
        "      <td> 115.20</td>\n",
        "      <td> Wednesday</td>\n",
        "      <td> 12</td>\n",
        "    </tr>\n",
        "    <tr>\n",
        "      <th>22   </th>\n",
        "      <td> #10361</td>\n",
        "      <td>  sallysalem123@gmail.com</td>\n",
        "      <td> 2015-12-17</td>\n",
        "      <td>  81.00</td>\n",
        "      <td> Wednesday</td>\n",
        "      <td> 12</td>\n",
        "    </tr>\n",
        "    <tr>\n",
        "      <th>23   </th>\n",
        "      <td> #10361</td>\n",
        "      <td>  sallysalem123@gmail.com</td>\n",
        "      <td> 2015-12-17</td>\n",
        "      <td>  60.30</td>\n",
        "      <td> Wednesday</td>\n",
        "      <td> 12</td>\n",
        "    </tr>\n",
        "    <tr>\n",
        "      <th>24   </th>\n",
        "      <td> #10360</td>\n",
        "      <td> nayera_fadel@hotmail.com</td>\n",
        "      <td> 2015-12-17</td>\n",
        "      <td>  19.80</td>\n",
        "      <td> Wednesday</td>\n",
        "      <td> 12</td>\n",
        "    </tr>\n",
        "    <tr>\n",
        "      <th>25   </th>\n",
        "      <td> #10360</td>\n",
        "      <td> nayera_fadel@hotmail.com</td>\n",
        "      <td> 2015-12-17</td>\n",
        "      <td> 124.00</td>\n",
        "      <td> Wednesday</td>\n",
        "      <td> 12</td>\n",
        "    </tr>\n",
        "    <tr>\n",
        "      <th>26   </th>\n",
        "      <td> #10360</td>\n",
        "      <td> nayera_fadel@hotmail.com</td>\n",
        "      <td> 2015-12-17</td>\n",
        "      <td>  66.60</td>\n",
        "      <td> Wednesday</td>\n",
        "      <td> 12</td>\n",
        "    </tr>\n",
        "    <tr>\n",
        "      <th>27   </th>\n",
        "      <td> #10360</td>\n",
        "      <td> nayera_fadel@hotmail.com</td>\n",
        "      <td> 2015-12-17</td>\n",
        "      <td> 111.60</td>\n",
        "      <td> Wednesday</td>\n",
        "      <td> 12</td>\n",
        "    </tr>\n",
        "    <tr>\n",
        "      <th>28   </th>\n",
        "      <td> #10360</td>\n",
        "      <td> nayera_fadel@hotmail.com</td>\n",
        "      <td> 2015-12-17</td>\n",
        "      <td>  15.30</td>\n",
        "      <td> Wednesday</td>\n",
        "      <td> 12</td>\n",
        "    </tr>\n",
        "    <tr>\n",
        "      <th>29   </th>\n",
        "      <td> #10360</td>\n",
        "      <td> nayera_fadel@hotmail.com</td>\n",
        "      <td> 2015-12-17</td>\n",
        "      <td> 167.40</td>\n",
        "      <td> Wednesday</td>\n",
        "      <td> 12</td>\n",
        "    </tr>\n",
        "    <tr>\n",
        "      <th>...</th>\n",
        "      <td>...</td>\n",
        "      <td>...</td>\n",
        "      <td>...</td>\n",
        "      <td>...</td>\n",
        "      <td>...</td>\n",
        "      <td>...</td>\n",
        "    </tr>\n",
        "    <tr>\n",
        "      <th>54844</th>\n",
        "      <td>  #1013</td>\n",
        "      <td>   lik-novikova@yandex.ru</td>\n",
        "      <td> 2012-05-17</td>\n",
        "      <td>  20.16</td>\n",
        "      <td>    Monday</td>\n",
        "      <td> 16</td>\n",
        "    </tr>\n",
        "    <tr>\n",
        "      <th>54845</th>\n",
        "      <td>  #1013</td>\n",
        "      <td>   lik-novikova@yandex.ru</td>\n",
        "      <td> 2012-05-17</td>\n",
        "      <td>  25.00</td>\n",
        "      <td>    Monday</td>\n",
        "      <td> 16</td>\n",
        "    </tr>\n",
        "    <tr>\n",
        "      <th>54846</th>\n",
        "      <td>  #1013</td>\n",
        "      <td>   lik-novikova@yandex.ru</td>\n",
        "      <td> 2012-05-17</td>\n",
        "      <td>  11.38</td>\n",
        "      <td>    Monday</td>\n",
        "      <td> 16</td>\n",
        "    </tr>\n",
        "    <tr>\n",
        "      <th>54847</th>\n",
        "      <td>  #1012</td>\n",
        "      <td>      bettyhedrich@gmx.de</td>\n",
        "      <td> 2012-05-17</td>\n",
        "      <td>  21.13</td>\n",
        "      <td>    Friday</td>\n",
        "      <td> 18</td>\n",
        "    </tr>\n",
        "    <tr>\n",
        "      <th>54848</th>\n",
        "      <td>  #1012</td>\n",
        "      <td>      bettyhedrich@gmx.de</td>\n",
        "      <td> 2012-05-17</td>\n",
        "      <td>  20.80</td>\n",
        "      <td>    Friday</td>\n",
        "      <td> 18</td>\n",
        "    </tr>\n",
        "    <tr>\n",
        "      <th>54849</th>\n",
        "      <td>  #1011</td>\n",
        "      <td>            rulah@msn.com</td>\n",
        "      <td>       None</td>\n",
        "      <td> 222.30</td>\n",
        "      <td>  Thursday</td>\n",
        "      <td> 18</td>\n",
        "    </tr>\n",
        "    <tr>\n",
        "      <th>54850</th>\n",
        "      <td>  #1010</td>\n",
        "      <td>      milda_b@hotmail.com</td>\n",
        "      <td> 2012-05-03</td>\n",
        "      <td>   8.19</td>\n",
        "      <td>   Tuesday</td>\n",
        "      <td> 12</td>\n",
        "    </tr>\n",
        "    <tr>\n",
        "      <th>54851</th>\n",
        "      <td>  #1010</td>\n",
        "      <td>      milda_b@hotmail.com</td>\n",
        "      <td> 2012-05-03</td>\n",
        "      <td>  45.50</td>\n",
        "      <td>   Tuesday</td>\n",
        "      <td> 12</td>\n",
        "    </tr>\n",
        "    <tr>\n",
        "      <th>54852</th>\n",
        "      <td>  #1010</td>\n",
        "      <td>      milda_b@hotmail.com</td>\n",
        "      <td> 2012-05-03</td>\n",
        "      <td>  10.40</td>\n",
        "      <td>   Tuesday</td>\n",
        "      <td> 12</td>\n",
        "    </tr>\n",
        "    <tr>\n",
        "      <th>54853</th>\n",
        "      <td>  #1010</td>\n",
        "      <td>      milda_b@hotmail.com</td>\n",
        "      <td> 2012-05-03</td>\n",
        "      <td>  16.58</td>\n",
        "      <td>   Tuesday</td>\n",
        "      <td> 12</td>\n",
        "    </tr>\n",
        "    <tr>\n",
        "      <th>54854</th>\n",
        "      <td>  #1010</td>\n",
        "      <td>      milda_b@hotmail.com</td>\n",
        "      <td> 2012-05-03</td>\n",
        "      <td>   9.36</td>\n",
        "      <td>   Tuesday</td>\n",
        "      <td> 12</td>\n",
        "    </tr>\n",
        "    <tr>\n",
        "      <th>54855</th>\n",
        "      <td>  #1010</td>\n",
        "      <td>      milda_b@hotmail.com</td>\n",
        "      <td> 2012-05-03</td>\n",
        "      <td>  26.00</td>\n",
        "      <td>   Tuesday</td>\n",
        "      <td> 12</td>\n",
        "    </tr>\n",
        "    <tr>\n",
        "      <th>54856</th>\n",
        "      <td>  #1010</td>\n",
        "      <td>      milda_b@hotmail.com</td>\n",
        "      <td> 2012-05-03</td>\n",
        "      <td>  39.52</td>\n",
        "      <td>   Tuesday</td>\n",
        "      <td> 12</td>\n",
        "    </tr>\n",
        "    <tr>\n",
        "      <th>54857</th>\n",
        "      <td>  #1009</td>\n",
        "      <td>      bente.ring@yahoo.no</td>\n",
        "      <td> 2012-05-03</td>\n",
        "      <td>  45.50</td>\n",
        "      <td>   Tuesday</td>\n",
        "      <td> 12</td>\n",
        "    </tr>\n",
        "    <tr>\n",
        "      <th>54858</th>\n",
        "      <td>  #1008</td>\n",
        "      <td>      bente.ring@yahoo.no</td>\n",
        "      <td> 2012-05-03</td>\n",
        "      <td>  79.95</td>\n",
        "      <td>    Monday</td>\n",
        "      <td> 10</td>\n",
        "    </tr>\n",
        "    <tr>\n",
        "      <th>54859</th>\n",
        "      <td>  #1008</td>\n",
        "      <td>      bente.ring@yahoo.no</td>\n",
        "      <td> 2012-05-03</td>\n",
        "      <td> 113.76</td>\n",
        "      <td>    Monday</td>\n",
        "      <td> 10</td>\n",
        "    </tr>\n",
        "    <tr>\n",
        "      <th>54860</th>\n",
        "      <td>  #1008</td>\n",
        "      <td>      bente.ring@yahoo.no</td>\n",
        "      <td> 2012-05-03</td>\n",
        "      <td>  42.26</td>\n",
        "      <td>    Monday</td>\n",
        "      <td> 10</td>\n",
        "    </tr>\n",
        "    <tr>\n",
        "      <th>54861</th>\n",
        "      <td>  #1008</td>\n",
        "      <td>      bente.ring@yahoo.no</td>\n",
        "      <td> 2012-05-03</td>\n",
        "      <td>   7.80</td>\n",
        "      <td>    Monday</td>\n",
        "      <td> 10</td>\n",
        "    </tr>\n",
        "    <tr>\n",
        "      <th>54862</th>\n",
        "      <td>  #1007</td>\n",
        "      <td>   lik-novikova@yandex.ru</td>\n",
        "      <td>       None</td>\n",
        "      <td>  22.10</td>\n",
        "      <td>  Thursday</td>\n",
        "      <td> 10</td>\n",
        "    </tr>\n",
        "    <tr>\n",
        "      <th>54863</th>\n",
        "      <td>  #1007</td>\n",
        "      <td>   lik-novikova@yandex.ru</td>\n",
        "      <td>       None</td>\n",
        "      <td>  40.95</td>\n",
        "      <td>  Thursday</td>\n",
        "      <td> 10</td>\n",
        "    </tr>\n",
        "    <tr>\n",
        "      <th>54864</th>\n",
        "      <td>  #1007</td>\n",
        "      <td>   lik-novikova@yandex.ru</td>\n",
        "      <td>       None</td>\n",
        "      <td>  26.65</td>\n",
        "      <td>  Thursday</td>\n",
        "      <td> 10</td>\n",
        "    </tr>\n",
        "    <tr>\n",
        "      <th>54865</th>\n",
        "      <td>  #1007</td>\n",
        "      <td>   lik-novikova@yandex.ru</td>\n",
        "      <td>       None</td>\n",
        "      <td>  21.13</td>\n",
        "      <td>  Thursday</td>\n",
        "      <td> 10</td>\n",
        "    </tr>\n",
        "    <tr>\n",
        "      <th>54866</th>\n",
        "      <td>  #1006</td>\n",
        "      <td>      bente.ring@yahoo.no</td>\n",
        "      <td> 2012-04-26</td>\n",
        "      <td>   9.10</td>\n",
        "      <td> Wednesday</td>\n",
        "      <td> 16</td>\n",
        "    </tr>\n",
        "    <tr>\n",
        "      <th>54867</th>\n",
        "      <td>  #1006</td>\n",
        "      <td>      bente.ring@yahoo.no</td>\n",
        "      <td> 2012-04-26</td>\n",
        "      <td>  26.65</td>\n",
        "      <td> Wednesday</td>\n",
        "      <td> 16</td>\n",
        "    </tr>\n",
        "    <tr>\n",
        "      <th>54868</th>\n",
        "      <td>  #1006</td>\n",
        "      <td>      bente.ring@yahoo.no</td>\n",
        "      <td> 2012-04-26</td>\n",
        "      <td>  52.00</td>\n",
        "      <td> Wednesday</td>\n",
        "      <td> 16</td>\n",
        "    </tr>\n",
        "    <tr>\n",
        "      <th>54869</th>\n",
        "      <td>  #1006</td>\n",
        "      <td>      bente.ring@yahoo.no</td>\n",
        "      <td> 2012-04-26</td>\n",
        "      <td>  56.88</td>\n",
        "      <td> Wednesday</td>\n",
        "      <td> 16</td>\n",
        "    </tr>\n",
        "    <tr>\n",
        "      <th>54870</th>\n",
        "      <td>  #1005</td>\n",
        "      <td>     cathypod@hotmail.com</td>\n",
        "      <td> 2012-04-26</td>\n",
        "      <td>   8.19</td>\n",
        "      <td>   Tuesday</td>\n",
        "      <td> 22</td>\n",
        "    </tr>\n",
        "    <tr>\n",
        "      <th>54871</th>\n",
        "      <td>  #1005</td>\n",
        "      <td>     cathypod@hotmail.com</td>\n",
        "      <td> 2012-04-26</td>\n",
        "      <td>  10.40</td>\n",
        "      <td>   Tuesday</td>\n",
        "      <td> 22</td>\n",
        "    </tr>\n",
        "    <tr>\n",
        "      <th>54872</th>\n",
        "      <td>  #1005</td>\n",
        "      <td>     cathypod@hotmail.com</td>\n",
        "      <td> 2012-04-26</td>\n",
        "      <td>  26.65</td>\n",
        "      <td>   Tuesday</td>\n",
        "      <td> 22</td>\n",
        "    </tr>\n",
        "    <tr>\n",
        "      <th>54873</th>\n",
        "      <td>  #1005</td>\n",
        "      <td>     cathypod@hotmail.com</td>\n",
        "      <td> 2012-04-26</td>\n",
        "      <td>   9.36</td>\n",
        "      <td>   Tuesday</td>\n",
        "      <td> 22</td>\n",
        "    </tr>\n",
        "  </tbody>\n",
        "</table>\n",
        "<p>54874 rows \u00d7 6 columns</p>\n",
        "</div>"
       ],
       "metadata": {},
       "output_type": "pyout",
       "prompt_number": 6,
       "text": [
        "         Name                     Email        Date  Revenue        Day  Hours\n",
        "0      #10367    rehabmansour@gmail.com  2015-12-17   180.00  Wednesday     20\n",
        "1      #10367    rehabmansour@gmail.com  2015-12-17    14.40  Wednesday     20\n",
        "2      #10367    rehabmansour@gmail.com  2015-12-17   180.90  Wednesday     20\n",
        "3      #10366       nabouheif@yahoo.com  2015-12-17    30.60  Wednesday     20\n",
        "4      #10366       nabouheif@yahoo.com  2015-12-17    10.80  Wednesday     20\n",
        "5      #10366       nabouheif@yahoo.com  2015-12-17   121.50  Wednesday     20\n",
        "6      #10365    fracicardi@hotmail.com  2015-12-17     2.10  Wednesday     18\n",
        "7      #10365    fracicardi@hotmail.com  2015-12-17     7.20  Wednesday     18\n",
        "8      #10365    fracicardi@hotmail.com  2015-12-17    60.30  Wednesday     18\n",
        "9      #10365    fracicardi@hotmail.com  2015-12-17    45.00  Wednesday     18\n",
        "10     #10364    ahmed.fakhry@gmail.com  2015-12-17    60.30  Wednesday     16\n",
        "11     #10364    ahmed.fakhry@gmail.com  2015-12-17    33.30  Wednesday     16\n",
        "12     #10364    ahmed.fakhry@gmail.com  2015-12-17   114.00  Wednesday     16\n",
        "13     #10364    ahmed.fakhry@gmail.com  2015-12-17    98.00  Wednesday     16\n",
        "14     #10364    ahmed.fakhry@gmail.com  2015-12-17    65.00  Wednesday     16\n",
        "15     #10364    ahmed.fakhry@gmail.com  2015-12-17    57.60  Wednesday     16\n",
        "16     #10363    ahmed.fakhry@gmail.com  2015-12-17   592.00  Wednesday     16\n",
        "17     #10362      Missilou11@yahoo.com  2015-12-17    70.20  Wednesday     14\n",
        "18     #10361   sallysalem123@gmail.com  2015-12-17    41.00  Wednesday     12\n",
        "19     #10361   sallysalem123@gmail.com  2015-12-17     8.50  Wednesday     12\n",
        "20     #10361   sallysalem123@gmail.com  2015-12-17    10.80  Wednesday     12\n",
        "21     #10361   sallysalem123@gmail.com  2015-12-17   115.20  Wednesday     12\n",
        "22     #10361   sallysalem123@gmail.com  2015-12-17    81.00  Wednesday     12\n",
        "23     #10361   sallysalem123@gmail.com  2015-12-17    60.30  Wednesday     12\n",
        "24     #10360  nayera_fadel@hotmail.com  2015-12-17    19.80  Wednesday     12\n",
        "25     #10360  nayera_fadel@hotmail.com  2015-12-17   124.00  Wednesday     12\n",
        "26     #10360  nayera_fadel@hotmail.com  2015-12-17    66.60  Wednesday     12\n",
        "27     #10360  nayera_fadel@hotmail.com  2015-12-17   111.60  Wednesday     12\n",
        "28     #10360  nayera_fadel@hotmail.com  2015-12-17    15.30  Wednesday     12\n",
        "29     #10360  nayera_fadel@hotmail.com  2015-12-17   167.40  Wednesday     12\n",
        "...       ...                       ...         ...      ...        ...    ...\n",
        "54844   #1013    lik-novikova@yandex.ru  2012-05-17    20.16     Monday     16\n",
        "54845   #1013    lik-novikova@yandex.ru  2012-05-17    25.00     Monday     16\n",
        "54846   #1013    lik-novikova@yandex.ru  2012-05-17    11.38     Monday     16\n",
        "54847   #1012       bettyhedrich@gmx.de  2012-05-17    21.13     Friday     18\n",
        "54848   #1012       bettyhedrich@gmx.de  2012-05-17    20.80     Friday     18\n",
        "54849   #1011             rulah@msn.com        None   222.30   Thursday     18\n",
        "54850   #1010       milda_b@hotmail.com  2012-05-03     8.19    Tuesday     12\n",
        "54851   #1010       milda_b@hotmail.com  2012-05-03    45.50    Tuesday     12\n",
        "54852   #1010       milda_b@hotmail.com  2012-05-03    10.40    Tuesday     12\n",
        "54853   #1010       milda_b@hotmail.com  2012-05-03    16.58    Tuesday     12\n",
        "54854   #1010       milda_b@hotmail.com  2012-05-03     9.36    Tuesday     12\n",
        "54855   #1010       milda_b@hotmail.com  2012-05-03    26.00    Tuesday     12\n",
        "54856   #1010       milda_b@hotmail.com  2012-05-03    39.52    Tuesday     12\n",
        "54857   #1009       bente.ring@yahoo.no  2012-05-03    45.50    Tuesday     12\n",
        "54858   #1008       bente.ring@yahoo.no  2012-05-03    79.95     Monday     10\n",
        "54859   #1008       bente.ring@yahoo.no  2012-05-03   113.76     Monday     10\n",
        "54860   #1008       bente.ring@yahoo.no  2012-05-03    42.26     Monday     10\n",
        "54861   #1008       bente.ring@yahoo.no  2012-05-03     7.80     Monday     10\n",
        "54862   #1007    lik-novikova@yandex.ru        None    22.10   Thursday     10\n",
        "54863   #1007    lik-novikova@yandex.ru        None    40.95   Thursday     10\n",
        "54864   #1007    lik-novikova@yandex.ru        None    26.65   Thursday     10\n",
        "54865   #1007    lik-novikova@yandex.ru        None    21.13   Thursday     10\n",
        "54866   #1006       bente.ring@yahoo.no  2012-04-26     9.10  Wednesday     16\n",
        "54867   #1006       bente.ring@yahoo.no  2012-04-26    26.65  Wednesday     16\n",
        "54868   #1006       bente.ring@yahoo.no  2012-04-26    52.00  Wednesday     16\n",
        "54869   #1006       bente.ring@yahoo.no  2012-04-26    56.88  Wednesday     16\n",
        "54870   #1005      cathypod@hotmail.com  2012-04-26     8.19    Tuesday     22\n",
        "54871   #1005      cathypod@hotmail.com  2012-04-26    10.40    Tuesday     22\n",
        "54872   #1005      cathypod@hotmail.com  2012-04-26    26.65    Tuesday     22\n",
        "54873   #1005      cathypod@hotmail.com  2012-04-26     9.36    Tuesday     22\n",
        "\n",
        "[54874 rows x 6 columns]"
       ]
      }
     ],
     "prompt_number": 6
    },
    {
     "cell_type": "code",
     "collapsed": false,
     "input": [
      "data = df[['Email', 'Date', 'Revenue']]\n",
      "data"
     ],
     "language": "python",
     "metadata": {},
     "outputs": [
      {
       "html": [
        "<div style=\"max-height:1000px;max-width:1500px;overflow:auto;\">\n",
        "<table border=\"1\" class=\"dataframe\">\n",
        "  <thead>\n",
        "    <tr style=\"text-align: right;\">\n",
        "      <th></th>\n",
        "      <th>Email</th>\n",
        "      <th>Date</th>\n",
        "      <th>Revenue</th>\n",
        "    </tr>\n",
        "  </thead>\n",
        "  <tbody>\n",
        "    <tr>\n",
        "      <th>0    </th>\n",
        "      <td>   rehabmansour@gmail.com</td>\n",
        "      <td> 2015-12-17</td>\n",
        "      <td> 180.00</td>\n",
        "    </tr>\n",
        "    <tr>\n",
        "      <th>1    </th>\n",
        "      <td>   rehabmansour@gmail.com</td>\n",
        "      <td> 2015-12-17</td>\n",
        "      <td>  14.40</td>\n",
        "    </tr>\n",
        "    <tr>\n",
        "      <th>2    </th>\n",
        "      <td>   rehabmansour@gmail.com</td>\n",
        "      <td> 2015-12-17</td>\n",
        "      <td> 180.90</td>\n",
        "    </tr>\n",
        "    <tr>\n",
        "      <th>3    </th>\n",
        "      <td>      nabouheif@yahoo.com</td>\n",
        "      <td> 2015-12-17</td>\n",
        "      <td>  30.60</td>\n",
        "    </tr>\n",
        "    <tr>\n",
        "      <th>4    </th>\n",
        "      <td>      nabouheif@yahoo.com</td>\n",
        "      <td> 2015-12-17</td>\n",
        "      <td>  10.80</td>\n",
        "    </tr>\n",
        "    <tr>\n",
        "      <th>5    </th>\n",
        "      <td>      nabouheif@yahoo.com</td>\n",
        "      <td> 2015-12-17</td>\n",
        "      <td> 121.50</td>\n",
        "    </tr>\n",
        "    <tr>\n",
        "      <th>6    </th>\n",
        "      <td>   fracicardi@hotmail.com</td>\n",
        "      <td> 2015-12-17</td>\n",
        "      <td>   2.10</td>\n",
        "    </tr>\n",
        "    <tr>\n",
        "      <th>7    </th>\n",
        "      <td>   fracicardi@hotmail.com</td>\n",
        "      <td> 2015-12-17</td>\n",
        "      <td>   7.20</td>\n",
        "    </tr>\n",
        "    <tr>\n",
        "      <th>8    </th>\n",
        "      <td>   fracicardi@hotmail.com</td>\n",
        "      <td> 2015-12-17</td>\n",
        "      <td>  60.30</td>\n",
        "    </tr>\n",
        "    <tr>\n",
        "      <th>9    </th>\n",
        "      <td>   fracicardi@hotmail.com</td>\n",
        "      <td> 2015-12-17</td>\n",
        "      <td>  45.00</td>\n",
        "    </tr>\n",
        "    <tr>\n",
        "      <th>10   </th>\n",
        "      <td>   ahmed.fakhry@gmail.com</td>\n",
        "      <td> 2015-12-17</td>\n",
        "      <td>  60.30</td>\n",
        "    </tr>\n",
        "    <tr>\n",
        "      <th>11   </th>\n",
        "      <td>   ahmed.fakhry@gmail.com</td>\n",
        "      <td> 2015-12-17</td>\n",
        "      <td>  33.30</td>\n",
        "    </tr>\n",
        "    <tr>\n",
        "      <th>12   </th>\n",
        "      <td>   ahmed.fakhry@gmail.com</td>\n",
        "      <td> 2015-12-17</td>\n",
        "      <td> 114.00</td>\n",
        "    </tr>\n",
        "    <tr>\n",
        "      <th>13   </th>\n",
        "      <td>   ahmed.fakhry@gmail.com</td>\n",
        "      <td> 2015-12-17</td>\n",
        "      <td>  98.00</td>\n",
        "    </tr>\n",
        "    <tr>\n",
        "      <th>14   </th>\n",
        "      <td>   ahmed.fakhry@gmail.com</td>\n",
        "      <td> 2015-12-17</td>\n",
        "      <td>  65.00</td>\n",
        "    </tr>\n",
        "    <tr>\n",
        "      <th>15   </th>\n",
        "      <td>   ahmed.fakhry@gmail.com</td>\n",
        "      <td> 2015-12-17</td>\n",
        "      <td>  57.60</td>\n",
        "    </tr>\n",
        "    <tr>\n",
        "      <th>16   </th>\n",
        "      <td>   ahmed.fakhry@gmail.com</td>\n",
        "      <td> 2015-12-17</td>\n",
        "      <td> 592.00</td>\n",
        "    </tr>\n",
        "    <tr>\n",
        "      <th>17   </th>\n",
        "      <td>     Missilou11@yahoo.com</td>\n",
        "      <td> 2015-12-17</td>\n",
        "      <td>  70.20</td>\n",
        "    </tr>\n",
        "    <tr>\n",
        "      <th>18   </th>\n",
        "      <td>  sallysalem123@gmail.com</td>\n",
        "      <td> 2015-12-17</td>\n",
        "      <td>  41.00</td>\n",
        "    </tr>\n",
        "    <tr>\n",
        "      <th>19   </th>\n",
        "      <td>  sallysalem123@gmail.com</td>\n",
        "      <td> 2015-12-17</td>\n",
        "      <td>   8.50</td>\n",
        "    </tr>\n",
        "    <tr>\n",
        "      <th>20   </th>\n",
        "      <td>  sallysalem123@gmail.com</td>\n",
        "      <td> 2015-12-17</td>\n",
        "      <td>  10.80</td>\n",
        "    </tr>\n",
        "    <tr>\n",
        "      <th>21   </th>\n",
        "      <td>  sallysalem123@gmail.com</td>\n",
        "      <td> 2015-12-17</td>\n",
        "      <td> 115.20</td>\n",
        "    </tr>\n",
        "    <tr>\n",
        "      <th>22   </th>\n",
        "      <td>  sallysalem123@gmail.com</td>\n",
        "      <td> 2015-12-17</td>\n",
        "      <td>  81.00</td>\n",
        "    </tr>\n",
        "    <tr>\n",
        "      <th>23   </th>\n",
        "      <td>  sallysalem123@gmail.com</td>\n",
        "      <td> 2015-12-17</td>\n",
        "      <td>  60.30</td>\n",
        "    </tr>\n",
        "    <tr>\n",
        "      <th>24   </th>\n",
        "      <td> nayera_fadel@hotmail.com</td>\n",
        "      <td> 2015-12-17</td>\n",
        "      <td>  19.80</td>\n",
        "    </tr>\n",
        "    <tr>\n",
        "      <th>25   </th>\n",
        "      <td> nayera_fadel@hotmail.com</td>\n",
        "      <td> 2015-12-17</td>\n",
        "      <td> 124.00</td>\n",
        "    </tr>\n",
        "    <tr>\n",
        "      <th>26   </th>\n",
        "      <td> nayera_fadel@hotmail.com</td>\n",
        "      <td> 2015-12-17</td>\n",
        "      <td>  66.60</td>\n",
        "    </tr>\n",
        "    <tr>\n",
        "      <th>27   </th>\n",
        "      <td> nayera_fadel@hotmail.com</td>\n",
        "      <td> 2015-12-17</td>\n",
        "      <td> 111.60</td>\n",
        "    </tr>\n",
        "    <tr>\n",
        "      <th>28   </th>\n",
        "      <td> nayera_fadel@hotmail.com</td>\n",
        "      <td> 2015-12-17</td>\n",
        "      <td>  15.30</td>\n",
        "    </tr>\n",
        "    <tr>\n",
        "      <th>29   </th>\n",
        "      <td> nayera_fadel@hotmail.com</td>\n",
        "      <td> 2015-12-17</td>\n",
        "      <td> 167.40</td>\n",
        "    </tr>\n",
        "    <tr>\n",
        "      <th>...</th>\n",
        "      <td>...</td>\n",
        "      <td>...</td>\n",
        "      <td>...</td>\n",
        "    </tr>\n",
        "    <tr>\n",
        "      <th>54844</th>\n",
        "      <td>   lik-novikova@yandex.ru</td>\n",
        "      <td> 2012-05-17</td>\n",
        "      <td>  20.16</td>\n",
        "    </tr>\n",
        "    <tr>\n",
        "      <th>54845</th>\n",
        "      <td>   lik-novikova@yandex.ru</td>\n",
        "      <td> 2012-05-17</td>\n",
        "      <td>  25.00</td>\n",
        "    </tr>\n",
        "    <tr>\n",
        "      <th>54846</th>\n",
        "      <td>   lik-novikova@yandex.ru</td>\n",
        "      <td> 2012-05-17</td>\n",
        "      <td>  11.38</td>\n",
        "    </tr>\n",
        "    <tr>\n",
        "      <th>54847</th>\n",
        "      <td>      bettyhedrich@gmx.de</td>\n",
        "      <td> 2012-05-17</td>\n",
        "      <td>  21.13</td>\n",
        "    </tr>\n",
        "    <tr>\n",
        "      <th>54848</th>\n",
        "      <td>      bettyhedrich@gmx.de</td>\n",
        "      <td> 2012-05-17</td>\n",
        "      <td>  20.80</td>\n",
        "    </tr>\n",
        "    <tr>\n",
        "      <th>54849</th>\n",
        "      <td>            rulah@msn.com</td>\n",
        "      <td>       None</td>\n",
        "      <td> 222.30</td>\n",
        "    </tr>\n",
        "    <tr>\n",
        "      <th>54850</th>\n",
        "      <td>      milda_b@hotmail.com</td>\n",
        "      <td> 2012-05-03</td>\n",
        "      <td>   8.19</td>\n",
        "    </tr>\n",
        "    <tr>\n",
        "      <th>54851</th>\n",
        "      <td>      milda_b@hotmail.com</td>\n",
        "      <td> 2012-05-03</td>\n",
        "      <td>  45.50</td>\n",
        "    </tr>\n",
        "    <tr>\n",
        "      <th>54852</th>\n",
        "      <td>      milda_b@hotmail.com</td>\n",
        "      <td> 2012-05-03</td>\n",
        "      <td>  10.40</td>\n",
        "    </tr>\n",
        "    <tr>\n",
        "      <th>54853</th>\n",
        "      <td>      milda_b@hotmail.com</td>\n",
        "      <td> 2012-05-03</td>\n",
        "      <td>  16.58</td>\n",
        "    </tr>\n",
        "    <tr>\n",
        "      <th>54854</th>\n",
        "      <td>      milda_b@hotmail.com</td>\n",
        "      <td> 2012-05-03</td>\n",
        "      <td>   9.36</td>\n",
        "    </tr>\n",
        "    <tr>\n",
        "      <th>54855</th>\n",
        "      <td>      milda_b@hotmail.com</td>\n",
        "      <td> 2012-05-03</td>\n",
        "      <td>  26.00</td>\n",
        "    </tr>\n",
        "    <tr>\n",
        "      <th>54856</th>\n",
        "      <td>      milda_b@hotmail.com</td>\n",
        "      <td> 2012-05-03</td>\n",
        "      <td>  39.52</td>\n",
        "    </tr>\n",
        "    <tr>\n",
        "      <th>54857</th>\n",
        "      <td>      bente.ring@yahoo.no</td>\n",
        "      <td> 2012-05-03</td>\n",
        "      <td>  45.50</td>\n",
        "    </tr>\n",
        "    <tr>\n",
        "      <th>54858</th>\n",
        "      <td>      bente.ring@yahoo.no</td>\n",
        "      <td> 2012-05-03</td>\n",
        "      <td>  79.95</td>\n",
        "    </tr>\n",
        "    <tr>\n",
        "      <th>54859</th>\n",
        "      <td>      bente.ring@yahoo.no</td>\n",
        "      <td> 2012-05-03</td>\n",
        "      <td> 113.76</td>\n",
        "    </tr>\n",
        "    <tr>\n",
        "      <th>54860</th>\n",
        "      <td>      bente.ring@yahoo.no</td>\n",
        "      <td> 2012-05-03</td>\n",
        "      <td>  42.26</td>\n",
        "    </tr>\n",
        "    <tr>\n",
        "      <th>54861</th>\n",
        "      <td>      bente.ring@yahoo.no</td>\n",
        "      <td> 2012-05-03</td>\n",
        "      <td>   7.80</td>\n",
        "    </tr>\n",
        "    <tr>\n",
        "      <th>54862</th>\n",
        "      <td>   lik-novikova@yandex.ru</td>\n",
        "      <td>       None</td>\n",
        "      <td>  22.10</td>\n",
        "    </tr>\n",
        "    <tr>\n",
        "      <th>54863</th>\n",
        "      <td>   lik-novikova@yandex.ru</td>\n",
        "      <td>       None</td>\n",
        "      <td>  40.95</td>\n",
        "    </tr>\n",
        "    <tr>\n",
        "      <th>54864</th>\n",
        "      <td>   lik-novikova@yandex.ru</td>\n",
        "      <td>       None</td>\n",
        "      <td>  26.65</td>\n",
        "    </tr>\n",
        "    <tr>\n",
        "      <th>54865</th>\n",
        "      <td>   lik-novikova@yandex.ru</td>\n",
        "      <td>       None</td>\n",
        "      <td>  21.13</td>\n",
        "    </tr>\n",
        "    <tr>\n",
        "      <th>54866</th>\n",
        "      <td>      bente.ring@yahoo.no</td>\n",
        "      <td> 2012-04-26</td>\n",
        "      <td>   9.10</td>\n",
        "    </tr>\n",
        "    <tr>\n",
        "      <th>54867</th>\n",
        "      <td>      bente.ring@yahoo.no</td>\n",
        "      <td> 2012-04-26</td>\n",
        "      <td>  26.65</td>\n",
        "    </tr>\n",
        "    <tr>\n",
        "      <th>54868</th>\n",
        "      <td>      bente.ring@yahoo.no</td>\n",
        "      <td> 2012-04-26</td>\n",
        "      <td>  52.00</td>\n",
        "    </tr>\n",
        "    <tr>\n",
        "      <th>54869</th>\n",
        "      <td>      bente.ring@yahoo.no</td>\n",
        "      <td> 2012-04-26</td>\n",
        "      <td>  56.88</td>\n",
        "    </tr>\n",
        "    <tr>\n",
        "      <th>54870</th>\n",
        "      <td>     cathypod@hotmail.com</td>\n",
        "      <td> 2012-04-26</td>\n",
        "      <td>   8.19</td>\n",
        "    </tr>\n",
        "    <tr>\n",
        "      <th>54871</th>\n",
        "      <td>     cathypod@hotmail.com</td>\n",
        "      <td> 2012-04-26</td>\n",
        "      <td>  10.40</td>\n",
        "    </tr>\n",
        "    <tr>\n",
        "      <th>54872</th>\n",
        "      <td>     cathypod@hotmail.com</td>\n",
        "      <td> 2012-04-26</td>\n",
        "      <td>  26.65</td>\n",
        "    </tr>\n",
        "    <tr>\n",
        "      <th>54873</th>\n",
        "      <td>     cathypod@hotmail.com</td>\n",
        "      <td> 2012-04-26</td>\n",
        "      <td>   9.36</td>\n",
        "    </tr>\n",
        "  </tbody>\n",
        "</table>\n",
        "<p>54874 rows \u00d7 3 columns</p>\n",
        "</div>"
       ],
       "metadata": {},
       "output_type": "pyout",
       "prompt_number": 7,
       "text": [
        "                          Email        Date  Revenue\n",
        "0        rehabmansour@gmail.com  2015-12-17   180.00\n",
        "1        rehabmansour@gmail.com  2015-12-17    14.40\n",
        "2        rehabmansour@gmail.com  2015-12-17   180.90\n",
        "3           nabouheif@yahoo.com  2015-12-17    30.60\n",
        "4           nabouheif@yahoo.com  2015-12-17    10.80\n",
        "5           nabouheif@yahoo.com  2015-12-17   121.50\n",
        "6        fracicardi@hotmail.com  2015-12-17     2.10\n",
        "7        fracicardi@hotmail.com  2015-12-17     7.20\n",
        "8        fracicardi@hotmail.com  2015-12-17    60.30\n",
        "9        fracicardi@hotmail.com  2015-12-17    45.00\n",
        "10       ahmed.fakhry@gmail.com  2015-12-17    60.30\n",
        "11       ahmed.fakhry@gmail.com  2015-12-17    33.30\n",
        "12       ahmed.fakhry@gmail.com  2015-12-17   114.00\n",
        "13       ahmed.fakhry@gmail.com  2015-12-17    98.00\n",
        "14       ahmed.fakhry@gmail.com  2015-12-17    65.00\n",
        "15       ahmed.fakhry@gmail.com  2015-12-17    57.60\n",
        "16       ahmed.fakhry@gmail.com  2015-12-17   592.00\n",
        "17         Missilou11@yahoo.com  2015-12-17    70.20\n",
        "18      sallysalem123@gmail.com  2015-12-17    41.00\n",
        "19      sallysalem123@gmail.com  2015-12-17     8.50\n",
        "20      sallysalem123@gmail.com  2015-12-17    10.80\n",
        "21      sallysalem123@gmail.com  2015-12-17   115.20\n",
        "22      sallysalem123@gmail.com  2015-12-17    81.00\n",
        "23      sallysalem123@gmail.com  2015-12-17    60.30\n",
        "24     nayera_fadel@hotmail.com  2015-12-17    19.80\n",
        "25     nayera_fadel@hotmail.com  2015-12-17   124.00\n",
        "26     nayera_fadel@hotmail.com  2015-12-17    66.60\n",
        "27     nayera_fadel@hotmail.com  2015-12-17   111.60\n",
        "28     nayera_fadel@hotmail.com  2015-12-17    15.30\n",
        "29     nayera_fadel@hotmail.com  2015-12-17   167.40\n",
        "...                         ...         ...      ...\n",
        "54844    lik-novikova@yandex.ru  2012-05-17    20.16\n",
        "54845    lik-novikova@yandex.ru  2012-05-17    25.00\n",
        "54846    lik-novikova@yandex.ru  2012-05-17    11.38\n",
        "54847       bettyhedrich@gmx.de  2012-05-17    21.13\n",
        "54848       bettyhedrich@gmx.de  2012-05-17    20.80\n",
        "54849             rulah@msn.com        None   222.30\n",
        "54850       milda_b@hotmail.com  2012-05-03     8.19\n",
        "54851       milda_b@hotmail.com  2012-05-03    45.50\n",
        "54852       milda_b@hotmail.com  2012-05-03    10.40\n",
        "54853       milda_b@hotmail.com  2012-05-03    16.58\n",
        "54854       milda_b@hotmail.com  2012-05-03     9.36\n",
        "54855       milda_b@hotmail.com  2012-05-03    26.00\n",
        "54856       milda_b@hotmail.com  2012-05-03    39.52\n",
        "54857       bente.ring@yahoo.no  2012-05-03    45.50\n",
        "54858       bente.ring@yahoo.no  2012-05-03    79.95\n",
        "54859       bente.ring@yahoo.no  2012-05-03   113.76\n",
        "54860       bente.ring@yahoo.no  2012-05-03    42.26\n",
        "54861       bente.ring@yahoo.no  2012-05-03     7.80\n",
        "54862    lik-novikova@yandex.ru        None    22.10\n",
        "54863    lik-novikova@yandex.ru        None    40.95\n",
        "54864    lik-novikova@yandex.ru        None    26.65\n",
        "54865    lik-novikova@yandex.ru        None    21.13\n",
        "54866       bente.ring@yahoo.no  2012-04-26     9.10\n",
        "54867       bente.ring@yahoo.no  2012-04-26    26.65\n",
        "54868       bente.ring@yahoo.no  2012-04-26    52.00\n",
        "54869       bente.ring@yahoo.no  2012-04-26    56.88\n",
        "54870      cathypod@hotmail.com  2012-04-26     8.19\n",
        "54871      cathypod@hotmail.com  2012-04-26    10.40\n",
        "54872      cathypod@hotmail.com  2012-04-26    26.65\n",
        "54873      cathypod@hotmail.com  2012-04-26     9.36\n",
        "\n",
        "[54874 rows x 3 columns]"
       ]
      }
     ],
     "prompt_number": 7
    },
    {
     "cell_type": "code",
     "collapsed": false,
     "input": [
      "\n",
      "df = df[['Email', 'Date', 'Day', 'Hours']]\n",
      "\n",
      "df = df.drop_duplicates().reset_index().drop('index',1)\n",
      "df"
     ],
     "language": "python",
     "metadata": {},
     "outputs": [
      {
       "html": [
        "<div style=\"max-height:1000px;max-width:1500px;overflow:auto;\">\n",
        "<table border=\"1\" class=\"dataframe\">\n",
        "  <thead>\n",
        "    <tr style=\"text-align: right;\">\n",
        "      <th></th>\n",
        "      <th>Email</th>\n",
        "      <th>Date</th>\n",
        "      <th>Day</th>\n",
        "      <th>Hours</th>\n",
        "    </tr>\n",
        "  </thead>\n",
        "  <tbody>\n",
        "    <tr>\n",
        "      <th>0   </th>\n",
        "      <td>       rehabmansour@gmail.com</td>\n",
        "      <td> 2015-12-17</td>\n",
        "      <td> Wednesday</td>\n",
        "      <td> 20</td>\n",
        "    </tr>\n",
        "    <tr>\n",
        "      <th>1   </th>\n",
        "      <td>          nabouheif@yahoo.com</td>\n",
        "      <td> 2015-12-17</td>\n",
        "      <td> Wednesday</td>\n",
        "      <td> 20</td>\n",
        "    </tr>\n",
        "    <tr>\n",
        "      <th>2   </th>\n",
        "      <td>       fracicardi@hotmail.com</td>\n",
        "      <td> 2015-12-17</td>\n",
        "      <td> Wednesday</td>\n",
        "      <td> 18</td>\n",
        "    </tr>\n",
        "    <tr>\n",
        "      <th>3   </th>\n",
        "      <td>       ahmed.fakhry@gmail.com</td>\n",
        "      <td> 2015-12-17</td>\n",
        "      <td> Wednesday</td>\n",
        "      <td> 16</td>\n",
        "    </tr>\n",
        "    <tr>\n",
        "      <th>4   </th>\n",
        "      <td>         Missilou11@yahoo.com</td>\n",
        "      <td> 2015-12-17</td>\n",
        "      <td> Wednesday</td>\n",
        "      <td> 14</td>\n",
        "    </tr>\n",
        "    <tr>\n",
        "      <th>5   </th>\n",
        "      <td>      sallysalem123@gmail.com</td>\n",
        "      <td> 2015-12-17</td>\n",
        "      <td> Wednesday</td>\n",
        "      <td> 12</td>\n",
        "    </tr>\n",
        "    <tr>\n",
        "      <th>6   </th>\n",
        "      <td>     nayera_fadel@hotmail.com</td>\n",
        "      <td> 2015-12-17</td>\n",
        "      <td> Wednesday</td>\n",
        "      <td> 12</td>\n",
        "    </tr>\n",
        "    <tr>\n",
        "      <th>7   </th>\n",
        "      <td>        raoufzdn553@gmail.com</td>\n",
        "      <td> 2015-12-17</td>\n",
        "      <td> Wednesday</td>\n",
        "      <td> 12</td>\n",
        "    </tr>\n",
        "    <tr>\n",
        "      <th>8   </th>\n",
        "      <td>       gaylynmbogho@yahoo.com</td>\n",
        "      <td> 2015-12-17</td>\n",
        "      <td> Wednesday</td>\n",
        "      <td> 12</td>\n",
        "    </tr>\n",
        "    <tr>\n",
        "      <th>9   </th>\n",
        "      <td>         oshahavi13@gmail.com</td>\n",
        "      <td> 2015-12-17</td>\n",
        "      <td> Wednesday</td>\n",
        "      <td> 12</td>\n",
        "    </tr>\n",
        "    <tr>\n",
        "      <th>10  </th>\n",
        "      <td>         Daiieldeeb@gmail.com</td>\n",
        "      <td> 2015-12-17</td>\n",
        "      <td> Wednesday</td>\n",
        "      <td> 10</td>\n",
        "    </tr>\n",
        "    <tr>\n",
        "      <th>11  </th>\n",
        "      <td>          yara.azam@gmail.com</td>\n",
        "      <td> 2015-12-17</td>\n",
        "      <td> Wednesday</td>\n",
        "      <td> 10</td>\n",
        "    </tr>\n",
        "    <tr>\n",
        "      <th>12  </th>\n",
        "      <td>        dalia_allam@yahoo.com</td>\n",
        "      <td> 2015-12-17</td>\n",
        "      <td> Wednesday</td>\n",
        "      <td>  6</td>\n",
        "    </tr>\n",
        "    <tr>\n",
        "      <th>13  </th>\n",
        "      <td>        elhanem52@hotmail.com</td>\n",
        "      <td> 2015-12-17</td>\n",
        "      <td> Wednesday</td>\n",
        "      <td>  6</td>\n",
        "    </tr>\n",
        "    <tr>\n",
        "      <th>14  </th>\n",
        "      <td>     tarek_seddik@hotmail.com</td>\n",
        "      <td> 2015-12-17</td>\n",
        "      <td> Wednesday</td>\n",
        "      <td>  2</td>\n",
        "    </tr>\n",
        "    <tr>\n",
        "      <th>15  </th>\n",
        "      <td>      maie.nomrossy@gmail.com</td>\n",
        "      <td> 2015-12-17</td>\n",
        "      <td> Wednesday</td>\n",
        "      <td>  0</td>\n",
        "    </tr>\n",
        "    <tr>\n",
        "      <th>16  </th>\n",
        "      <td>        hazem.shamy@gmail.com</td>\n",
        "      <td> 2015-12-17</td>\n",
        "      <td> Wednesday</td>\n",
        "      <td>  0</td>\n",
        "    </tr>\n",
        "    <tr>\n",
        "      <th>17  </th>\n",
        "      <td>       maya.p.nawal@gmail.com</td>\n",
        "      <td> 2015-12-17</td>\n",
        "      <td>   Tuesday</td>\n",
        "      <td> 20</td>\n",
        "    </tr>\n",
        "    <tr>\n",
        "      <th>18  </th>\n",
        "      <td>    jamesmorgan0091@gmail.com</td>\n",
        "      <td> 2015-12-17</td>\n",
        "      <td>   Tuesday</td>\n",
        "      <td> 18</td>\n",
        "    </tr>\n",
        "    <tr>\n",
        "      <th>19  </th>\n",
        "      <td>         israa_s@aucegypt.edu</td>\n",
        "      <td> 2015-12-17</td>\n",
        "      <td>   Tuesday</td>\n",
        "      <td> 16</td>\n",
        "    </tr>\n",
        "    <tr>\n",
        "      <th>20  </th>\n",
        "      <td>       RODY.DOVE123@GMAIL.COM</td>\n",
        "      <td> 2015-12-17</td>\n",
        "      <td>   Tuesday</td>\n",
        "      <td> 16</td>\n",
        "    </tr>\n",
        "    <tr>\n",
        "      <th>21  </th>\n",
        "      <td>       amaghraby@mediawave.me</td>\n",
        "      <td> 2015-12-17</td>\n",
        "      <td>   Tuesday</td>\n",
        "      <td> 16</td>\n",
        "    </tr>\n",
        "    <tr>\n",
        "      <th>22  </th>\n",
        "      <td>          hibba_b@hotmail.com</td>\n",
        "      <td> 2015-12-17</td>\n",
        "      <td>   Tuesday</td>\n",
        "      <td> 14</td>\n",
        "    </tr>\n",
        "    <tr>\n",
        "      <th>23  </th>\n",
        "      <td>       pascalenader@gmail.com</td>\n",
        "      <td> 2015-12-17</td>\n",
        "      <td>   Tuesday</td>\n",
        "      <td> 14</td>\n",
        "    </tr>\n",
        "    <tr>\n",
        "      <th>24  </th>\n",
        "      <td>       doaa.khattab@gmail.com</td>\n",
        "      <td> 2015-12-17</td>\n",
        "      <td>   Tuesday</td>\n",
        "      <td> 14</td>\n",
        "    </tr>\n",
        "    <tr>\n",
        "      <th>25  </th>\n",
        "      <td>       sunset_456@hotmail.com</td>\n",
        "      <td> 2015-12-17</td>\n",
        "      <td>   Tuesday</td>\n",
        "      <td> 12</td>\n",
        "    </tr>\n",
        "    <tr>\n",
        "      <th>26  </th>\n",
        "      <td>   colleen_lovely@hotmail.com</td>\n",
        "      <td> 2015-12-17</td>\n",
        "      <td>   Tuesday</td>\n",
        "      <td> 12</td>\n",
        "    </tr>\n",
        "    <tr>\n",
        "      <th>27  </th>\n",
        "      <td>             imrhazi@yahoo.fr</td>\n",
        "      <td> 2015-12-17</td>\n",
        "      <td>   Tuesday</td>\n",
        "      <td> 12</td>\n",
        "    </tr>\n",
        "    <tr>\n",
        "      <th>28  </th>\n",
        "      <td>    nadyagamaleldin@gmail.com</td>\n",
        "      <td> 2015-12-17</td>\n",
        "      <td>   Tuesday</td>\n",
        "      <td> 12</td>\n",
        "    </tr>\n",
        "    <tr>\n",
        "      <th>29  </th>\n",
        "      <td>          engywasfy@gmail.com</td>\n",
        "      <td> 2015-12-17</td>\n",
        "      <td>   Tuesday</td>\n",
        "      <td> 12</td>\n",
        "    </tr>\n",
        "    <tr>\n",
        "      <th>...</th>\n",
        "      <td>...</td>\n",
        "      <td>...</td>\n",
        "      <td>...</td>\n",
        "      <td>...</td>\n",
        "    </tr>\n",
        "    <tr>\n",
        "      <th>8639</th>\n",
        "      <td>     faridahelmyiba@gmail.com</td>\n",
        "      <td> 2012-07-05</td>\n",
        "      <td>    Monday</td>\n",
        "      <td> 20</td>\n",
        "    </tr>\n",
        "    <tr>\n",
        "      <th>8640</th>\n",
        "      <td>       mireilleamin@yahoo.com</td>\n",
        "      <td> 2012-07-05</td>\n",
        "      <td>    Monday</td>\n",
        "      <td> 18</td>\n",
        "    </tr>\n",
        "    <tr>\n",
        "      <th>8641</th>\n",
        "      <td>   Ihab.derias@laroche.com.eg</td>\n",
        "      <td> 2012-07-05</td>\n",
        "      <td>    Monday</td>\n",
        "      <td> 18</td>\n",
        "    </tr>\n",
        "    <tr>\n",
        "      <th>8642</th>\n",
        "      <td>         Adhamada@hotmail.com</td>\n",
        "      <td> 2012-07-05</td>\n",
        "      <td>    Monday</td>\n",
        "      <td> 18</td>\n",
        "    </tr>\n",
        "    <tr>\n",
        "      <th>8643</th>\n",
        "      <td>     houssam.elokda@gmail.com</td>\n",
        "      <td> 2012-07-05</td>\n",
        "      <td>    Monday</td>\n",
        "      <td> 18</td>\n",
        "    </tr>\n",
        "    <tr>\n",
        "      <th>8644</th>\n",
        "      <td>          Hania7894@gmail.com</td>\n",
        "      <td> 2012-07-05</td>\n",
        "      <td>    Monday</td>\n",
        "      <td> 14</td>\n",
        "    </tr>\n",
        "    <tr>\n",
        "      <th>8645</th>\n",
        "      <td>          Hania7894@gmail.com</td>\n",
        "      <td> 2012-07-05</td>\n",
        "      <td>    Monday</td>\n",
        "      <td> 12</td>\n",
        "    </tr>\n",
        "    <tr>\n",
        "      <th>8646</th>\n",
        "      <td>            Mamazzz@gmail.com</td>\n",
        "      <td> 2012-07-05</td>\n",
        "      <td>    Sunday</td>\n",
        "      <td> 20</td>\n",
        "    </tr>\n",
        "    <tr>\n",
        "      <th>8647</th>\n",
        "      <td>            asony11@yahoo.com</td>\n",
        "      <td> 2012-07-05</td>\n",
        "      <td>    Sunday</td>\n",
        "      <td> 18</td>\n",
        "    </tr>\n",
        "    <tr>\n",
        "      <th>8648</th>\n",
        "      <td>      salwa_saiid@hotmail.com</td>\n",
        "      <td> 2012-07-05</td>\n",
        "      <td>    Sunday</td>\n",
        "      <td> 16</td>\n",
        "    </tr>\n",
        "    <tr>\n",
        "      <th>8649</th>\n",
        "      <td> djamila.benderbous@gmail.com</td>\n",
        "      <td> 2012-07-05</td>\n",
        "      <td>  Saturday</td>\n",
        "      <td> 18</td>\n",
        "    </tr>\n",
        "    <tr>\n",
        "      <th>8650</th>\n",
        "      <td>     raghebelgammal@yahoo.com</td>\n",
        "      <td>       None</td>\n",
        "      <td>  Thursday</td>\n",
        "      <td> 14</td>\n",
        "    </tr>\n",
        "    <tr>\n",
        "      <th>8651</th>\n",
        "      <td>      t_el_gammal@hotmail.com</td>\n",
        "      <td> 2012-06-28</td>\n",
        "      <td> Wednesday</td>\n",
        "      <td> 14</td>\n",
        "    </tr>\n",
        "    <tr>\n",
        "      <th>8652</th>\n",
        "      <td>       lik-novikova@yandex.ru</td>\n",
        "      <td> 2012-06-28</td>\n",
        "      <td>    Sunday</td>\n",
        "      <td> 14</td>\n",
        "    </tr>\n",
        "    <tr>\n",
        "      <th>8653</th>\n",
        "      <td>        fairymaid82@yahoo.com</td>\n",
        "      <td> 2012-06-07</td>\n",
        "      <td> Wednesday</td>\n",
        "      <td>  6</td>\n",
        "    </tr>\n",
        "    <tr>\n",
        "      <th>8654</th>\n",
        "      <td>      milomilogindi@yahoo.com</td>\n",
        "      <td> 2012-05-31</td>\n",
        "      <td> Wednesday</td>\n",
        "      <td> 22</td>\n",
        "    </tr>\n",
        "    <tr>\n",
        "      <th>8655</th>\n",
        "      <td>      t_el_gammal@hotmail.com</td>\n",
        "      <td> 2012-05-31</td>\n",
        "      <td> Wednesday</td>\n",
        "      <td> 20</td>\n",
        "    </tr>\n",
        "    <tr>\n",
        "      <th>8656</th>\n",
        "      <td>      t_el_gammal@hotmail.com</td>\n",
        "      <td> 2012-05-24</td>\n",
        "      <td>   Tuesday</td>\n",
        "      <td>  2</td>\n",
        "    </tr>\n",
        "    <tr>\n",
        "      <th>8657</th>\n",
        "      <td>       lik-novikova@yandex.ru</td>\n",
        "      <td> 2012-05-24</td>\n",
        "      <td>    Sunday</td>\n",
        "      <td> 18</td>\n",
        "    </tr>\n",
        "    <tr>\n",
        "      <th>8658</th>\n",
        "      <td>             Biro5s@yahoo.com</td>\n",
        "      <td> 2012-05-24</td>\n",
        "      <td>    Friday</td>\n",
        "      <td> 18</td>\n",
        "    </tr>\n",
        "    <tr>\n",
        "      <th>8659</th>\n",
        "      <td>         nini.etoile@voila.fr</td>\n",
        "      <td> 2012-05-17</td>\n",
        "      <td>    Monday</td>\n",
        "      <td> 16</td>\n",
        "    </tr>\n",
        "    <tr>\n",
        "      <th>8660</th>\n",
        "      <td>       lik-novikova@yandex.ru</td>\n",
        "      <td> 2012-05-17</td>\n",
        "      <td>    Monday</td>\n",
        "      <td> 16</td>\n",
        "    </tr>\n",
        "    <tr>\n",
        "      <th>8661</th>\n",
        "      <td>          bettyhedrich@gmx.de</td>\n",
        "      <td> 2012-05-17</td>\n",
        "      <td>    Friday</td>\n",
        "      <td> 18</td>\n",
        "    </tr>\n",
        "    <tr>\n",
        "      <th>8662</th>\n",
        "      <td>                rulah@msn.com</td>\n",
        "      <td>       None</td>\n",
        "      <td>  Thursday</td>\n",
        "      <td> 18</td>\n",
        "    </tr>\n",
        "    <tr>\n",
        "      <th>8663</th>\n",
        "      <td>          milda_b@hotmail.com</td>\n",
        "      <td> 2012-05-03</td>\n",
        "      <td>   Tuesday</td>\n",
        "      <td> 12</td>\n",
        "    </tr>\n",
        "    <tr>\n",
        "      <th>8664</th>\n",
        "      <td>          bente.ring@yahoo.no</td>\n",
        "      <td> 2012-05-03</td>\n",
        "      <td>   Tuesday</td>\n",
        "      <td> 12</td>\n",
        "    </tr>\n",
        "    <tr>\n",
        "      <th>8665</th>\n",
        "      <td>          bente.ring@yahoo.no</td>\n",
        "      <td> 2012-05-03</td>\n",
        "      <td>    Monday</td>\n",
        "      <td> 10</td>\n",
        "    </tr>\n",
        "    <tr>\n",
        "      <th>8666</th>\n",
        "      <td>       lik-novikova@yandex.ru</td>\n",
        "      <td>       None</td>\n",
        "      <td>  Thursday</td>\n",
        "      <td> 10</td>\n",
        "    </tr>\n",
        "    <tr>\n",
        "      <th>8667</th>\n",
        "      <td>          bente.ring@yahoo.no</td>\n",
        "      <td> 2012-04-26</td>\n",
        "      <td> Wednesday</td>\n",
        "      <td> 16</td>\n",
        "    </tr>\n",
        "    <tr>\n",
        "      <th>8668</th>\n",
        "      <td>         cathypod@hotmail.com</td>\n",
        "      <td> 2012-04-26</td>\n",
        "      <td>   Tuesday</td>\n",
        "      <td> 22</td>\n",
        "    </tr>\n",
        "  </tbody>\n",
        "</table>\n",
        "<p>8669 rows \u00d7 4 columns</p>\n",
        "</div>"
       ],
       "metadata": {},
       "output_type": "pyout",
       "prompt_number": 8,
       "text": [
        "                             Email        Date        Day  Hours\n",
        "0           rehabmansour@gmail.com  2015-12-17  Wednesday     20\n",
        "1              nabouheif@yahoo.com  2015-12-17  Wednesday     20\n",
        "2           fracicardi@hotmail.com  2015-12-17  Wednesday     18\n",
        "3           ahmed.fakhry@gmail.com  2015-12-17  Wednesday     16\n",
        "4             Missilou11@yahoo.com  2015-12-17  Wednesday     14\n",
        "5          sallysalem123@gmail.com  2015-12-17  Wednesday     12\n",
        "6         nayera_fadel@hotmail.com  2015-12-17  Wednesday     12\n",
        "7            raoufzdn553@gmail.com  2015-12-17  Wednesday     12\n",
        "8           gaylynmbogho@yahoo.com  2015-12-17  Wednesday     12\n",
        "9             oshahavi13@gmail.com  2015-12-17  Wednesday     12\n",
        "10            Daiieldeeb@gmail.com  2015-12-17  Wednesday     10\n",
        "11             yara.azam@gmail.com  2015-12-17  Wednesday     10\n",
        "12           dalia_allam@yahoo.com  2015-12-17  Wednesday      6\n",
        "13           elhanem52@hotmail.com  2015-12-17  Wednesday      6\n",
        "14        tarek_seddik@hotmail.com  2015-12-17  Wednesday      2\n",
        "15         maie.nomrossy@gmail.com  2015-12-17  Wednesday      0\n",
        "16           hazem.shamy@gmail.com  2015-12-17  Wednesday      0\n",
        "17          maya.p.nawal@gmail.com  2015-12-17    Tuesday     20\n",
        "18       jamesmorgan0091@gmail.com  2015-12-17    Tuesday     18\n",
        "19            israa_s@aucegypt.edu  2015-12-17    Tuesday     16\n",
        "20          RODY.DOVE123@GMAIL.COM  2015-12-17    Tuesday     16\n",
        "21          amaghraby@mediawave.me  2015-12-17    Tuesday     16\n",
        "22             hibba_b@hotmail.com  2015-12-17    Tuesday     14\n",
        "23          pascalenader@gmail.com  2015-12-17    Tuesday     14\n",
        "24          doaa.khattab@gmail.com  2015-12-17    Tuesday     14\n",
        "25          sunset_456@hotmail.com  2015-12-17    Tuesday     12\n",
        "26      colleen_lovely@hotmail.com  2015-12-17    Tuesday     12\n",
        "27                imrhazi@yahoo.fr  2015-12-17    Tuesday     12\n",
        "28       nadyagamaleldin@gmail.com  2015-12-17    Tuesday     12\n",
        "29             engywasfy@gmail.com  2015-12-17    Tuesday     12\n",
        "...                            ...         ...        ...    ...\n",
        "8639      faridahelmyiba@gmail.com  2012-07-05     Monday     20\n",
        "8640        mireilleamin@yahoo.com  2012-07-05     Monday     18\n",
        "8641    Ihab.derias@laroche.com.eg  2012-07-05     Monday     18\n",
        "8642          Adhamada@hotmail.com  2012-07-05     Monday     18\n",
        "8643      houssam.elokda@gmail.com  2012-07-05     Monday     18\n",
        "8644           Hania7894@gmail.com  2012-07-05     Monday     14\n",
        "8645           Hania7894@gmail.com  2012-07-05     Monday     12\n",
        "8646             Mamazzz@gmail.com  2012-07-05     Sunday     20\n",
        "8647             asony11@yahoo.com  2012-07-05     Sunday     18\n",
        "8648       salwa_saiid@hotmail.com  2012-07-05     Sunday     16\n",
        "8649  djamila.benderbous@gmail.com  2012-07-05   Saturday     18\n",
        "8650      raghebelgammal@yahoo.com        None   Thursday     14\n",
        "8651       t_el_gammal@hotmail.com  2012-06-28  Wednesday     14\n",
        "8652        lik-novikova@yandex.ru  2012-06-28     Sunday     14\n",
        "8653         fairymaid82@yahoo.com  2012-06-07  Wednesday      6\n",
        "8654       milomilogindi@yahoo.com  2012-05-31  Wednesday     22\n",
        "8655       t_el_gammal@hotmail.com  2012-05-31  Wednesday     20\n",
        "8656       t_el_gammal@hotmail.com  2012-05-24    Tuesday      2\n",
        "8657        lik-novikova@yandex.ru  2012-05-24     Sunday     18\n",
        "8658              Biro5s@yahoo.com  2012-05-24     Friday     18\n",
        "8659          nini.etoile@voila.fr  2012-05-17     Monday     16\n",
        "8660        lik-novikova@yandex.ru  2012-05-17     Monday     16\n",
        "8661           bettyhedrich@gmx.de  2012-05-17     Friday     18\n",
        "8662                 rulah@msn.com        None   Thursday     18\n",
        "8663           milda_b@hotmail.com  2012-05-03    Tuesday     12\n",
        "8664           bente.ring@yahoo.no  2012-05-03    Tuesday     12\n",
        "8665           bente.ring@yahoo.no  2012-05-03     Monday     10\n",
        "8666        lik-novikova@yandex.ru        None   Thursday     10\n",
        "8667           bente.ring@yahoo.no  2012-04-26  Wednesday     16\n",
        "8668          cathypod@hotmail.com  2012-04-26    Tuesday     22\n",
        "\n",
        "[8669 rows x 4 columns]"
       ]
      }
     ],
     "prompt_number": 8
    },
    {
     "cell_type": "code",
     "collapsed": false,
     "input": [
      "df1 = pd.DataFrame(columns = ['Email', 'Date', 'Sunday', 'Monday', 'Tuesday', 'Wednesday', 'Thursday', 'Friday', 'Saturday', 0, 2, 4, 6, 8, 10, 12, 14, 16, 18, 20, 22])\n",
      "df1['Email'] = df['Email']\n",
      "df1['Date'] = df['Date']\n",
      "df1['Sunday'] = df1['Monday'] = df1['Tuesday'] = df1['Wednesday'] = df1['Thursday'] = df1['Friday'] = df1['Saturday'] = df1[0] = df1[2] = df1[4] = df1[6] = df1[8] = df1[10] = df1[12] = df1[14] = df1[16] = df1[18] = df1[20] = df1[22] =0\n",
      "df1"
     ],
     "language": "python",
     "metadata": {},
     "outputs": [
      {
       "html": [
        "<div style=\"max-height:1000px;max-width:1500px;overflow:auto;\">\n",
        "<table border=\"1\" class=\"dataframe\">\n",
        "  <thead>\n",
        "    <tr style=\"text-align: right;\">\n",
        "      <th></th>\n",
        "      <th>Email</th>\n",
        "      <th>Date</th>\n",
        "      <th>Sunday</th>\n",
        "      <th>Monday</th>\n",
        "      <th>Tuesday</th>\n",
        "      <th>Wednesday</th>\n",
        "      <th>Thursday</th>\n",
        "      <th>Friday</th>\n",
        "      <th>Saturday</th>\n",
        "      <th>0</th>\n",
        "      <th>...</th>\n",
        "      <th>4</th>\n",
        "      <th>6</th>\n",
        "      <th>8</th>\n",
        "      <th>10</th>\n",
        "      <th>12</th>\n",
        "      <th>14</th>\n",
        "      <th>16</th>\n",
        "      <th>18</th>\n",
        "      <th>20</th>\n",
        "      <th>22</th>\n",
        "    </tr>\n",
        "  </thead>\n",
        "  <tbody>\n",
        "    <tr>\n",
        "      <th>0   </th>\n",
        "      <td>       rehabmansour@gmail.com</td>\n",
        "      <td> 2015-12-17</td>\n",
        "      <td> 0</td>\n",
        "      <td> 0</td>\n",
        "      <td> 0</td>\n",
        "      <td> 0</td>\n",
        "      <td> 0</td>\n",
        "      <td> 0</td>\n",
        "      <td> 0</td>\n",
        "      <td> 0</td>\n",
        "      <td>...</td>\n",
        "      <td> 0</td>\n",
        "      <td> 0</td>\n",
        "      <td> 0</td>\n",
        "      <td> 0</td>\n",
        "      <td> 0</td>\n",
        "      <td> 0</td>\n",
        "      <td> 0</td>\n",
        "      <td> 0</td>\n",
        "      <td> 0</td>\n",
        "      <td> 0</td>\n",
        "    </tr>\n",
        "    <tr>\n",
        "      <th>1   </th>\n",
        "      <td>          nabouheif@yahoo.com</td>\n",
        "      <td> 2015-12-17</td>\n",
        "      <td> 0</td>\n",
        "      <td> 0</td>\n",
        "      <td> 0</td>\n",
        "      <td> 0</td>\n",
        "      <td> 0</td>\n",
        "      <td> 0</td>\n",
        "      <td> 0</td>\n",
        "      <td> 0</td>\n",
        "      <td>...</td>\n",
        "      <td> 0</td>\n",
        "      <td> 0</td>\n",
        "      <td> 0</td>\n",
        "      <td> 0</td>\n",
        "      <td> 0</td>\n",
        "      <td> 0</td>\n",
        "      <td> 0</td>\n",
        "      <td> 0</td>\n",
        "      <td> 0</td>\n",
        "      <td> 0</td>\n",
        "    </tr>\n",
        "    <tr>\n",
        "      <th>2   </th>\n",
        "      <td>       fracicardi@hotmail.com</td>\n",
        "      <td> 2015-12-17</td>\n",
        "      <td> 0</td>\n",
        "      <td> 0</td>\n",
        "      <td> 0</td>\n",
        "      <td> 0</td>\n",
        "      <td> 0</td>\n",
        "      <td> 0</td>\n",
        "      <td> 0</td>\n",
        "      <td> 0</td>\n",
        "      <td>...</td>\n",
        "      <td> 0</td>\n",
        "      <td> 0</td>\n",
        "      <td> 0</td>\n",
        "      <td> 0</td>\n",
        "      <td> 0</td>\n",
        "      <td> 0</td>\n",
        "      <td> 0</td>\n",
        "      <td> 0</td>\n",
        "      <td> 0</td>\n",
        "      <td> 0</td>\n",
        "    </tr>\n",
        "    <tr>\n",
        "      <th>3   </th>\n",
        "      <td>       ahmed.fakhry@gmail.com</td>\n",
        "      <td> 2015-12-17</td>\n",
        "      <td> 0</td>\n",
        "      <td> 0</td>\n",
        "      <td> 0</td>\n",
        "      <td> 0</td>\n",
        "      <td> 0</td>\n",
        "      <td> 0</td>\n",
        "      <td> 0</td>\n",
        "      <td> 0</td>\n",
        "      <td>...</td>\n",
        "      <td> 0</td>\n",
        "      <td> 0</td>\n",
        "      <td> 0</td>\n",
        "      <td> 0</td>\n",
        "      <td> 0</td>\n",
        "      <td> 0</td>\n",
        "      <td> 0</td>\n",
        "      <td> 0</td>\n",
        "      <td> 0</td>\n",
        "      <td> 0</td>\n",
        "    </tr>\n",
        "    <tr>\n",
        "      <th>4   </th>\n",
        "      <td>         Missilou11@yahoo.com</td>\n",
        "      <td> 2015-12-17</td>\n",
        "      <td> 0</td>\n",
        "      <td> 0</td>\n",
        "      <td> 0</td>\n",
        "      <td> 0</td>\n",
        "      <td> 0</td>\n",
        "      <td> 0</td>\n",
        "      <td> 0</td>\n",
        "      <td> 0</td>\n",
        "      <td>...</td>\n",
        "      <td> 0</td>\n",
        "      <td> 0</td>\n",
        "      <td> 0</td>\n",
        "      <td> 0</td>\n",
        "      <td> 0</td>\n",
        "      <td> 0</td>\n",
        "      <td> 0</td>\n",
        "      <td> 0</td>\n",
        "      <td> 0</td>\n",
        "      <td> 0</td>\n",
        "    </tr>\n",
        "    <tr>\n",
        "      <th>5   </th>\n",
        "      <td>      sallysalem123@gmail.com</td>\n",
        "      <td> 2015-12-17</td>\n",
        "      <td> 0</td>\n",
        "      <td> 0</td>\n",
        "      <td> 0</td>\n",
        "      <td> 0</td>\n",
        "      <td> 0</td>\n",
        "      <td> 0</td>\n",
        "      <td> 0</td>\n",
        "      <td> 0</td>\n",
        "      <td>...</td>\n",
        "      <td> 0</td>\n",
        "      <td> 0</td>\n",
        "      <td> 0</td>\n",
        "      <td> 0</td>\n",
        "      <td> 0</td>\n",
        "      <td> 0</td>\n",
        "      <td> 0</td>\n",
        "      <td> 0</td>\n",
        "      <td> 0</td>\n",
        "      <td> 0</td>\n",
        "    </tr>\n",
        "    <tr>\n",
        "      <th>6   </th>\n",
        "      <td>     nayera_fadel@hotmail.com</td>\n",
        "      <td> 2015-12-17</td>\n",
        "      <td> 0</td>\n",
        "      <td> 0</td>\n",
        "      <td> 0</td>\n",
        "      <td> 0</td>\n",
        "      <td> 0</td>\n",
        "      <td> 0</td>\n",
        "      <td> 0</td>\n",
        "      <td> 0</td>\n",
        "      <td>...</td>\n",
        "      <td> 0</td>\n",
        "      <td> 0</td>\n",
        "      <td> 0</td>\n",
        "      <td> 0</td>\n",
        "      <td> 0</td>\n",
        "      <td> 0</td>\n",
        "      <td> 0</td>\n",
        "      <td> 0</td>\n",
        "      <td> 0</td>\n",
        "      <td> 0</td>\n",
        "    </tr>\n",
        "    <tr>\n",
        "      <th>7   </th>\n",
        "      <td>        raoufzdn553@gmail.com</td>\n",
        "      <td> 2015-12-17</td>\n",
        "      <td> 0</td>\n",
        "      <td> 0</td>\n",
        "      <td> 0</td>\n",
        "      <td> 0</td>\n",
        "      <td> 0</td>\n",
        "      <td> 0</td>\n",
        "      <td> 0</td>\n",
        "      <td> 0</td>\n",
        "      <td>...</td>\n",
        "      <td> 0</td>\n",
        "      <td> 0</td>\n",
        "      <td> 0</td>\n",
        "      <td> 0</td>\n",
        "      <td> 0</td>\n",
        "      <td> 0</td>\n",
        "      <td> 0</td>\n",
        "      <td> 0</td>\n",
        "      <td> 0</td>\n",
        "      <td> 0</td>\n",
        "    </tr>\n",
        "    <tr>\n",
        "      <th>8   </th>\n",
        "      <td>       gaylynmbogho@yahoo.com</td>\n",
        "      <td> 2015-12-17</td>\n",
        "      <td> 0</td>\n",
        "      <td> 0</td>\n",
        "      <td> 0</td>\n",
        "      <td> 0</td>\n",
        "      <td> 0</td>\n",
        "      <td> 0</td>\n",
        "      <td> 0</td>\n",
        "      <td> 0</td>\n",
        "      <td>...</td>\n",
        "      <td> 0</td>\n",
        "      <td> 0</td>\n",
        "      <td> 0</td>\n",
        "      <td> 0</td>\n",
        "      <td> 0</td>\n",
        "      <td> 0</td>\n",
        "      <td> 0</td>\n",
        "      <td> 0</td>\n",
        "      <td> 0</td>\n",
        "      <td> 0</td>\n",
        "    </tr>\n",
        "    <tr>\n",
        "      <th>9   </th>\n",
        "      <td>         oshahavi13@gmail.com</td>\n",
        "      <td> 2015-12-17</td>\n",
        "      <td> 0</td>\n",
        "      <td> 0</td>\n",
        "      <td> 0</td>\n",
        "      <td> 0</td>\n",
        "      <td> 0</td>\n",
        "      <td> 0</td>\n",
        "      <td> 0</td>\n",
        "      <td> 0</td>\n",
        "      <td>...</td>\n",
        "      <td> 0</td>\n",
        "      <td> 0</td>\n",
        "      <td> 0</td>\n",
        "      <td> 0</td>\n",
        "      <td> 0</td>\n",
        "      <td> 0</td>\n",
        "      <td> 0</td>\n",
        "      <td> 0</td>\n",
        "      <td> 0</td>\n",
        "      <td> 0</td>\n",
        "    </tr>\n",
        "    <tr>\n",
        "      <th>10  </th>\n",
        "      <td>         Daiieldeeb@gmail.com</td>\n",
        "      <td> 2015-12-17</td>\n",
        "      <td> 0</td>\n",
        "      <td> 0</td>\n",
        "      <td> 0</td>\n",
        "      <td> 0</td>\n",
        "      <td> 0</td>\n",
        "      <td> 0</td>\n",
        "      <td> 0</td>\n",
        "      <td> 0</td>\n",
        "      <td>...</td>\n",
        "      <td> 0</td>\n",
        "      <td> 0</td>\n",
        "      <td> 0</td>\n",
        "      <td> 0</td>\n",
        "      <td> 0</td>\n",
        "      <td> 0</td>\n",
        "      <td> 0</td>\n",
        "      <td> 0</td>\n",
        "      <td> 0</td>\n",
        "      <td> 0</td>\n",
        "    </tr>\n",
        "    <tr>\n",
        "      <th>11  </th>\n",
        "      <td>          yara.azam@gmail.com</td>\n",
        "      <td> 2015-12-17</td>\n",
        "      <td> 0</td>\n",
        "      <td> 0</td>\n",
        "      <td> 0</td>\n",
        "      <td> 0</td>\n",
        "      <td> 0</td>\n",
        "      <td> 0</td>\n",
        "      <td> 0</td>\n",
        "      <td> 0</td>\n",
        "      <td>...</td>\n",
        "      <td> 0</td>\n",
        "      <td> 0</td>\n",
        "      <td> 0</td>\n",
        "      <td> 0</td>\n",
        "      <td> 0</td>\n",
        "      <td> 0</td>\n",
        "      <td> 0</td>\n",
        "      <td> 0</td>\n",
        "      <td> 0</td>\n",
        "      <td> 0</td>\n",
        "    </tr>\n",
        "    <tr>\n",
        "      <th>12  </th>\n",
        "      <td>        dalia_allam@yahoo.com</td>\n",
        "      <td> 2015-12-17</td>\n",
        "      <td> 0</td>\n",
        "      <td> 0</td>\n",
        "      <td> 0</td>\n",
        "      <td> 0</td>\n",
        "      <td> 0</td>\n",
        "      <td> 0</td>\n",
        "      <td> 0</td>\n",
        "      <td> 0</td>\n",
        "      <td>...</td>\n",
        "      <td> 0</td>\n",
        "      <td> 0</td>\n",
        "      <td> 0</td>\n",
        "      <td> 0</td>\n",
        "      <td> 0</td>\n",
        "      <td> 0</td>\n",
        "      <td> 0</td>\n",
        "      <td> 0</td>\n",
        "      <td> 0</td>\n",
        "      <td> 0</td>\n",
        "    </tr>\n",
        "    <tr>\n",
        "      <th>13  </th>\n",
        "      <td>        elhanem52@hotmail.com</td>\n",
        "      <td> 2015-12-17</td>\n",
        "      <td> 0</td>\n",
        "      <td> 0</td>\n",
        "      <td> 0</td>\n",
        "      <td> 0</td>\n",
        "      <td> 0</td>\n",
        "      <td> 0</td>\n",
        "      <td> 0</td>\n",
        "      <td> 0</td>\n",
        "      <td>...</td>\n",
        "      <td> 0</td>\n",
        "      <td> 0</td>\n",
        "      <td> 0</td>\n",
        "      <td> 0</td>\n",
        "      <td> 0</td>\n",
        "      <td> 0</td>\n",
        "      <td> 0</td>\n",
        "      <td> 0</td>\n",
        "      <td> 0</td>\n",
        "      <td> 0</td>\n",
        "    </tr>\n",
        "    <tr>\n",
        "      <th>14  </th>\n",
        "      <td>     tarek_seddik@hotmail.com</td>\n",
        "      <td> 2015-12-17</td>\n",
        "      <td> 0</td>\n",
        "      <td> 0</td>\n",
        "      <td> 0</td>\n",
        "      <td> 0</td>\n",
        "      <td> 0</td>\n",
        "      <td> 0</td>\n",
        "      <td> 0</td>\n",
        "      <td> 0</td>\n",
        "      <td>...</td>\n",
        "      <td> 0</td>\n",
        "      <td> 0</td>\n",
        "      <td> 0</td>\n",
        "      <td> 0</td>\n",
        "      <td> 0</td>\n",
        "      <td> 0</td>\n",
        "      <td> 0</td>\n",
        "      <td> 0</td>\n",
        "      <td> 0</td>\n",
        "      <td> 0</td>\n",
        "    </tr>\n",
        "    <tr>\n",
        "      <th>15  </th>\n",
        "      <td>      maie.nomrossy@gmail.com</td>\n",
        "      <td> 2015-12-17</td>\n",
        "      <td> 0</td>\n",
        "      <td> 0</td>\n",
        "      <td> 0</td>\n",
        "      <td> 0</td>\n",
        "      <td> 0</td>\n",
        "      <td> 0</td>\n",
        "      <td> 0</td>\n",
        "      <td> 0</td>\n",
        "      <td>...</td>\n",
        "      <td> 0</td>\n",
        "      <td> 0</td>\n",
        "      <td> 0</td>\n",
        "      <td> 0</td>\n",
        "      <td> 0</td>\n",
        "      <td> 0</td>\n",
        "      <td> 0</td>\n",
        "      <td> 0</td>\n",
        "      <td> 0</td>\n",
        "      <td> 0</td>\n",
        "    </tr>\n",
        "    <tr>\n",
        "      <th>16  </th>\n",
        "      <td>        hazem.shamy@gmail.com</td>\n",
        "      <td> 2015-12-17</td>\n",
        "      <td> 0</td>\n",
        "      <td> 0</td>\n",
        "      <td> 0</td>\n",
        "      <td> 0</td>\n",
        "      <td> 0</td>\n",
        "      <td> 0</td>\n",
        "      <td> 0</td>\n",
        "      <td> 0</td>\n",
        "      <td>...</td>\n",
        "      <td> 0</td>\n",
        "      <td> 0</td>\n",
        "      <td> 0</td>\n",
        "      <td> 0</td>\n",
        "      <td> 0</td>\n",
        "      <td> 0</td>\n",
        "      <td> 0</td>\n",
        "      <td> 0</td>\n",
        "      <td> 0</td>\n",
        "      <td> 0</td>\n",
        "    </tr>\n",
        "    <tr>\n",
        "      <th>17  </th>\n",
        "      <td>       maya.p.nawal@gmail.com</td>\n",
        "      <td> 2015-12-17</td>\n",
        "      <td> 0</td>\n",
        "      <td> 0</td>\n",
        "      <td> 0</td>\n",
        "      <td> 0</td>\n",
        "      <td> 0</td>\n",
        "      <td> 0</td>\n",
        "      <td> 0</td>\n",
        "      <td> 0</td>\n",
        "      <td>...</td>\n",
        "      <td> 0</td>\n",
        "      <td> 0</td>\n",
        "      <td> 0</td>\n",
        "      <td> 0</td>\n",
        "      <td> 0</td>\n",
        "      <td> 0</td>\n",
        "      <td> 0</td>\n",
        "      <td> 0</td>\n",
        "      <td> 0</td>\n",
        "      <td> 0</td>\n",
        "    </tr>\n",
        "    <tr>\n",
        "      <th>18  </th>\n",
        "      <td>    jamesmorgan0091@gmail.com</td>\n",
        "      <td> 2015-12-17</td>\n",
        "      <td> 0</td>\n",
        "      <td> 0</td>\n",
        "      <td> 0</td>\n",
        "      <td> 0</td>\n",
        "      <td> 0</td>\n",
        "      <td> 0</td>\n",
        "      <td> 0</td>\n",
        "      <td> 0</td>\n",
        "      <td>...</td>\n",
        "      <td> 0</td>\n",
        "      <td> 0</td>\n",
        "      <td> 0</td>\n",
        "      <td> 0</td>\n",
        "      <td> 0</td>\n",
        "      <td> 0</td>\n",
        "      <td> 0</td>\n",
        "      <td> 0</td>\n",
        "      <td> 0</td>\n",
        "      <td> 0</td>\n",
        "    </tr>\n",
        "    <tr>\n",
        "      <th>19  </th>\n",
        "      <td>         israa_s@aucegypt.edu</td>\n",
        "      <td> 2015-12-17</td>\n",
        "      <td> 0</td>\n",
        "      <td> 0</td>\n",
        "      <td> 0</td>\n",
        "      <td> 0</td>\n",
        "      <td> 0</td>\n",
        "      <td> 0</td>\n",
        "      <td> 0</td>\n",
        "      <td> 0</td>\n",
        "      <td>...</td>\n",
        "      <td> 0</td>\n",
        "      <td> 0</td>\n",
        "      <td> 0</td>\n",
        "      <td> 0</td>\n",
        "      <td> 0</td>\n",
        "      <td> 0</td>\n",
        "      <td> 0</td>\n",
        "      <td> 0</td>\n",
        "      <td> 0</td>\n",
        "      <td> 0</td>\n",
        "    </tr>\n",
        "    <tr>\n",
        "      <th>20  </th>\n",
        "      <td>       RODY.DOVE123@GMAIL.COM</td>\n",
        "      <td> 2015-12-17</td>\n",
        "      <td> 0</td>\n",
        "      <td> 0</td>\n",
        "      <td> 0</td>\n",
        "      <td> 0</td>\n",
        "      <td> 0</td>\n",
        "      <td> 0</td>\n",
        "      <td> 0</td>\n",
        "      <td> 0</td>\n",
        "      <td>...</td>\n",
        "      <td> 0</td>\n",
        "      <td> 0</td>\n",
        "      <td> 0</td>\n",
        "      <td> 0</td>\n",
        "      <td> 0</td>\n",
        "      <td> 0</td>\n",
        "      <td> 0</td>\n",
        "      <td> 0</td>\n",
        "      <td> 0</td>\n",
        "      <td> 0</td>\n",
        "    </tr>\n",
        "    <tr>\n",
        "      <th>21  </th>\n",
        "      <td>       amaghraby@mediawave.me</td>\n",
        "      <td> 2015-12-17</td>\n",
        "      <td> 0</td>\n",
        "      <td> 0</td>\n",
        "      <td> 0</td>\n",
        "      <td> 0</td>\n",
        "      <td> 0</td>\n",
        "      <td> 0</td>\n",
        "      <td> 0</td>\n",
        "      <td> 0</td>\n",
        "      <td>...</td>\n",
        "      <td> 0</td>\n",
        "      <td> 0</td>\n",
        "      <td> 0</td>\n",
        "      <td> 0</td>\n",
        "      <td> 0</td>\n",
        "      <td> 0</td>\n",
        "      <td> 0</td>\n",
        "      <td> 0</td>\n",
        "      <td> 0</td>\n",
        "      <td> 0</td>\n",
        "    </tr>\n",
        "    <tr>\n",
        "      <th>22  </th>\n",
        "      <td>          hibba_b@hotmail.com</td>\n",
        "      <td> 2015-12-17</td>\n",
        "      <td> 0</td>\n",
        "      <td> 0</td>\n",
        "      <td> 0</td>\n",
        "      <td> 0</td>\n",
        "      <td> 0</td>\n",
        "      <td> 0</td>\n",
        "      <td> 0</td>\n",
        "      <td> 0</td>\n",
        "      <td>...</td>\n",
        "      <td> 0</td>\n",
        "      <td> 0</td>\n",
        "      <td> 0</td>\n",
        "      <td> 0</td>\n",
        "      <td> 0</td>\n",
        "      <td> 0</td>\n",
        "      <td> 0</td>\n",
        "      <td> 0</td>\n",
        "      <td> 0</td>\n",
        "      <td> 0</td>\n",
        "    </tr>\n",
        "    <tr>\n",
        "      <th>23  </th>\n",
        "      <td>       pascalenader@gmail.com</td>\n",
        "      <td> 2015-12-17</td>\n",
        "      <td> 0</td>\n",
        "      <td> 0</td>\n",
        "      <td> 0</td>\n",
        "      <td> 0</td>\n",
        "      <td> 0</td>\n",
        "      <td> 0</td>\n",
        "      <td> 0</td>\n",
        "      <td> 0</td>\n",
        "      <td>...</td>\n",
        "      <td> 0</td>\n",
        "      <td> 0</td>\n",
        "      <td> 0</td>\n",
        "      <td> 0</td>\n",
        "      <td> 0</td>\n",
        "      <td> 0</td>\n",
        "      <td> 0</td>\n",
        "      <td> 0</td>\n",
        "      <td> 0</td>\n",
        "      <td> 0</td>\n",
        "    </tr>\n",
        "    <tr>\n",
        "      <th>24  </th>\n",
        "      <td>       doaa.khattab@gmail.com</td>\n",
        "      <td> 2015-12-17</td>\n",
        "      <td> 0</td>\n",
        "      <td> 0</td>\n",
        "      <td> 0</td>\n",
        "      <td> 0</td>\n",
        "      <td> 0</td>\n",
        "      <td> 0</td>\n",
        "      <td> 0</td>\n",
        "      <td> 0</td>\n",
        "      <td>...</td>\n",
        "      <td> 0</td>\n",
        "      <td> 0</td>\n",
        "      <td> 0</td>\n",
        "      <td> 0</td>\n",
        "      <td> 0</td>\n",
        "      <td> 0</td>\n",
        "      <td> 0</td>\n",
        "      <td> 0</td>\n",
        "      <td> 0</td>\n",
        "      <td> 0</td>\n",
        "    </tr>\n",
        "    <tr>\n",
        "      <th>25  </th>\n",
        "      <td>       sunset_456@hotmail.com</td>\n",
        "      <td> 2015-12-17</td>\n",
        "      <td> 0</td>\n",
        "      <td> 0</td>\n",
        "      <td> 0</td>\n",
        "      <td> 0</td>\n",
        "      <td> 0</td>\n",
        "      <td> 0</td>\n",
        "      <td> 0</td>\n",
        "      <td> 0</td>\n",
        "      <td>...</td>\n",
        "      <td> 0</td>\n",
        "      <td> 0</td>\n",
        "      <td> 0</td>\n",
        "      <td> 0</td>\n",
        "      <td> 0</td>\n",
        "      <td> 0</td>\n",
        "      <td> 0</td>\n",
        "      <td> 0</td>\n",
        "      <td> 0</td>\n",
        "      <td> 0</td>\n",
        "    </tr>\n",
        "    <tr>\n",
        "      <th>26  </th>\n",
        "      <td>   colleen_lovely@hotmail.com</td>\n",
        "      <td> 2015-12-17</td>\n",
        "      <td> 0</td>\n",
        "      <td> 0</td>\n",
        "      <td> 0</td>\n",
        "      <td> 0</td>\n",
        "      <td> 0</td>\n",
        "      <td> 0</td>\n",
        "      <td> 0</td>\n",
        "      <td> 0</td>\n",
        "      <td>...</td>\n",
        "      <td> 0</td>\n",
        "      <td> 0</td>\n",
        "      <td> 0</td>\n",
        "      <td> 0</td>\n",
        "      <td> 0</td>\n",
        "      <td> 0</td>\n",
        "      <td> 0</td>\n",
        "      <td> 0</td>\n",
        "      <td> 0</td>\n",
        "      <td> 0</td>\n",
        "    </tr>\n",
        "    <tr>\n",
        "      <th>27  </th>\n",
        "      <td>             imrhazi@yahoo.fr</td>\n",
        "      <td> 2015-12-17</td>\n",
        "      <td> 0</td>\n",
        "      <td> 0</td>\n",
        "      <td> 0</td>\n",
        "      <td> 0</td>\n",
        "      <td> 0</td>\n",
        "      <td> 0</td>\n",
        "      <td> 0</td>\n",
        "      <td> 0</td>\n",
        "      <td>...</td>\n",
        "      <td> 0</td>\n",
        "      <td> 0</td>\n",
        "      <td> 0</td>\n",
        "      <td> 0</td>\n",
        "      <td> 0</td>\n",
        "      <td> 0</td>\n",
        "      <td> 0</td>\n",
        "      <td> 0</td>\n",
        "      <td> 0</td>\n",
        "      <td> 0</td>\n",
        "    </tr>\n",
        "    <tr>\n",
        "      <th>28  </th>\n",
        "      <td>    nadyagamaleldin@gmail.com</td>\n",
        "      <td> 2015-12-17</td>\n",
        "      <td> 0</td>\n",
        "      <td> 0</td>\n",
        "      <td> 0</td>\n",
        "      <td> 0</td>\n",
        "      <td> 0</td>\n",
        "      <td> 0</td>\n",
        "      <td> 0</td>\n",
        "      <td> 0</td>\n",
        "      <td>...</td>\n",
        "      <td> 0</td>\n",
        "      <td> 0</td>\n",
        "      <td> 0</td>\n",
        "      <td> 0</td>\n",
        "      <td> 0</td>\n",
        "      <td> 0</td>\n",
        "      <td> 0</td>\n",
        "      <td> 0</td>\n",
        "      <td> 0</td>\n",
        "      <td> 0</td>\n",
        "    </tr>\n",
        "    <tr>\n",
        "      <th>29  </th>\n",
        "      <td>          engywasfy@gmail.com</td>\n",
        "      <td> 2015-12-17</td>\n",
        "      <td> 0</td>\n",
        "      <td> 0</td>\n",
        "      <td> 0</td>\n",
        "      <td> 0</td>\n",
        "      <td> 0</td>\n",
        "      <td> 0</td>\n",
        "      <td> 0</td>\n",
        "      <td> 0</td>\n",
        "      <td>...</td>\n",
        "      <td> 0</td>\n",
        "      <td> 0</td>\n",
        "      <td> 0</td>\n",
        "      <td> 0</td>\n",
        "      <td> 0</td>\n",
        "      <td> 0</td>\n",
        "      <td> 0</td>\n",
        "      <td> 0</td>\n",
        "      <td> 0</td>\n",
        "      <td> 0</td>\n",
        "    </tr>\n",
        "    <tr>\n",
        "      <th>...</th>\n",
        "      <td>...</td>\n",
        "      <td>...</td>\n",
        "      <td>...</td>\n",
        "      <td>...</td>\n",
        "      <td>...</td>\n",
        "      <td>...</td>\n",
        "      <td>...</td>\n",
        "      <td>...</td>\n",
        "      <td>...</td>\n",
        "      <td>...</td>\n",
        "      <td>...</td>\n",
        "      <td>...</td>\n",
        "      <td>...</td>\n",
        "      <td>...</td>\n",
        "      <td>...</td>\n",
        "      <td>...</td>\n",
        "      <td>...</td>\n",
        "      <td>...</td>\n",
        "      <td>...</td>\n",
        "      <td>...</td>\n",
        "      <td>...</td>\n",
        "    </tr>\n",
        "    <tr>\n",
        "      <th>8639</th>\n",
        "      <td>     faridahelmyiba@gmail.com</td>\n",
        "      <td> 2012-07-05</td>\n",
        "      <td> 0</td>\n",
        "      <td> 0</td>\n",
        "      <td> 0</td>\n",
        "      <td> 0</td>\n",
        "      <td> 0</td>\n",
        "      <td> 0</td>\n",
        "      <td> 0</td>\n",
        "      <td> 0</td>\n",
        "      <td>...</td>\n",
        "      <td> 0</td>\n",
        "      <td> 0</td>\n",
        "      <td> 0</td>\n",
        "      <td> 0</td>\n",
        "      <td> 0</td>\n",
        "      <td> 0</td>\n",
        "      <td> 0</td>\n",
        "      <td> 0</td>\n",
        "      <td> 0</td>\n",
        "      <td> 0</td>\n",
        "    </tr>\n",
        "    <tr>\n",
        "      <th>8640</th>\n",
        "      <td>       mireilleamin@yahoo.com</td>\n",
        "      <td> 2012-07-05</td>\n",
        "      <td> 0</td>\n",
        "      <td> 0</td>\n",
        "      <td> 0</td>\n",
        "      <td> 0</td>\n",
        "      <td> 0</td>\n",
        "      <td> 0</td>\n",
        "      <td> 0</td>\n",
        "      <td> 0</td>\n",
        "      <td>...</td>\n",
        "      <td> 0</td>\n",
        "      <td> 0</td>\n",
        "      <td> 0</td>\n",
        "      <td> 0</td>\n",
        "      <td> 0</td>\n",
        "      <td> 0</td>\n",
        "      <td> 0</td>\n",
        "      <td> 0</td>\n",
        "      <td> 0</td>\n",
        "      <td> 0</td>\n",
        "    </tr>\n",
        "    <tr>\n",
        "      <th>8641</th>\n",
        "      <td>   Ihab.derias@laroche.com.eg</td>\n",
        "      <td> 2012-07-05</td>\n",
        "      <td> 0</td>\n",
        "      <td> 0</td>\n",
        "      <td> 0</td>\n",
        "      <td> 0</td>\n",
        "      <td> 0</td>\n",
        "      <td> 0</td>\n",
        "      <td> 0</td>\n",
        "      <td> 0</td>\n",
        "      <td>...</td>\n",
        "      <td> 0</td>\n",
        "      <td> 0</td>\n",
        "      <td> 0</td>\n",
        "      <td> 0</td>\n",
        "      <td> 0</td>\n",
        "      <td> 0</td>\n",
        "      <td> 0</td>\n",
        "      <td> 0</td>\n",
        "      <td> 0</td>\n",
        "      <td> 0</td>\n",
        "    </tr>\n",
        "    <tr>\n",
        "      <th>8642</th>\n",
        "      <td>         Adhamada@hotmail.com</td>\n",
        "      <td> 2012-07-05</td>\n",
        "      <td> 0</td>\n",
        "      <td> 0</td>\n",
        "      <td> 0</td>\n",
        "      <td> 0</td>\n",
        "      <td> 0</td>\n",
        "      <td> 0</td>\n",
        "      <td> 0</td>\n",
        "      <td> 0</td>\n",
        "      <td>...</td>\n",
        "      <td> 0</td>\n",
        "      <td> 0</td>\n",
        "      <td> 0</td>\n",
        "      <td> 0</td>\n",
        "      <td> 0</td>\n",
        "      <td> 0</td>\n",
        "      <td> 0</td>\n",
        "      <td> 0</td>\n",
        "      <td> 0</td>\n",
        "      <td> 0</td>\n",
        "    </tr>\n",
        "    <tr>\n",
        "      <th>8643</th>\n",
        "      <td>     houssam.elokda@gmail.com</td>\n",
        "      <td> 2012-07-05</td>\n",
        "      <td> 0</td>\n",
        "      <td> 0</td>\n",
        "      <td> 0</td>\n",
        "      <td> 0</td>\n",
        "      <td> 0</td>\n",
        "      <td> 0</td>\n",
        "      <td> 0</td>\n",
        "      <td> 0</td>\n",
        "      <td>...</td>\n",
        "      <td> 0</td>\n",
        "      <td> 0</td>\n",
        "      <td> 0</td>\n",
        "      <td> 0</td>\n",
        "      <td> 0</td>\n",
        "      <td> 0</td>\n",
        "      <td> 0</td>\n",
        "      <td> 0</td>\n",
        "      <td> 0</td>\n",
        "      <td> 0</td>\n",
        "    </tr>\n",
        "    <tr>\n",
        "      <th>8644</th>\n",
        "      <td>          Hania7894@gmail.com</td>\n",
        "      <td> 2012-07-05</td>\n",
        "      <td> 0</td>\n",
        "      <td> 0</td>\n",
        "      <td> 0</td>\n",
        "      <td> 0</td>\n",
        "      <td> 0</td>\n",
        "      <td> 0</td>\n",
        "      <td> 0</td>\n",
        "      <td> 0</td>\n",
        "      <td>...</td>\n",
        "      <td> 0</td>\n",
        "      <td> 0</td>\n",
        "      <td> 0</td>\n",
        "      <td> 0</td>\n",
        "      <td> 0</td>\n",
        "      <td> 0</td>\n",
        "      <td> 0</td>\n",
        "      <td> 0</td>\n",
        "      <td> 0</td>\n",
        "      <td> 0</td>\n",
        "    </tr>\n",
        "    <tr>\n",
        "      <th>8645</th>\n",
        "      <td>          Hania7894@gmail.com</td>\n",
        "      <td> 2012-07-05</td>\n",
        "      <td> 0</td>\n",
        "      <td> 0</td>\n",
        "      <td> 0</td>\n",
        "      <td> 0</td>\n",
        "      <td> 0</td>\n",
        "      <td> 0</td>\n",
        "      <td> 0</td>\n",
        "      <td> 0</td>\n",
        "      <td>...</td>\n",
        "      <td> 0</td>\n",
        "      <td> 0</td>\n",
        "      <td> 0</td>\n",
        "      <td> 0</td>\n",
        "      <td> 0</td>\n",
        "      <td> 0</td>\n",
        "      <td> 0</td>\n",
        "      <td> 0</td>\n",
        "      <td> 0</td>\n",
        "      <td> 0</td>\n",
        "    </tr>\n",
        "    <tr>\n",
        "      <th>8646</th>\n",
        "      <td>            Mamazzz@gmail.com</td>\n",
        "      <td> 2012-07-05</td>\n",
        "      <td> 0</td>\n",
        "      <td> 0</td>\n",
        "      <td> 0</td>\n",
        "      <td> 0</td>\n",
        "      <td> 0</td>\n",
        "      <td> 0</td>\n",
        "      <td> 0</td>\n",
        "      <td> 0</td>\n",
        "      <td>...</td>\n",
        "      <td> 0</td>\n",
        "      <td> 0</td>\n",
        "      <td> 0</td>\n",
        "      <td> 0</td>\n",
        "      <td> 0</td>\n",
        "      <td> 0</td>\n",
        "      <td> 0</td>\n",
        "      <td> 0</td>\n",
        "      <td> 0</td>\n",
        "      <td> 0</td>\n",
        "    </tr>\n",
        "    <tr>\n",
        "      <th>8647</th>\n",
        "      <td>            asony11@yahoo.com</td>\n",
        "      <td> 2012-07-05</td>\n",
        "      <td> 0</td>\n",
        "      <td> 0</td>\n",
        "      <td> 0</td>\n",
        "      <td> 0</td>\n",
        "      <td> 0</td>\n",
        "      <td> 0</td>\n",
        "      <td> 0</td>\n",
        "      <td> 0</td>\n",
        "      <td>...</td>\n",
        "      <td> 0</td>\n",
        "      <td> 0</td>\n",
        "      <td> 0</td>\n",
        "      <td> 0</td>\n",
        "      <td> 0</td>\n",
        "      <td> 0</td>\n",
        "      <td> 0</td>\n",
        "      <td> 0</td>\n",
        "      <td> 0</td>\n",
        "      <td> 0</td>\n",
        "    </tr>\n",
        "    <tr>\n",
        "      <th>8648</th>\n",
        "      <td>      salwa_saiid@hotmail.com</td>\n",
        "      <td> 2012-07-05</td>\n",
        "      <td> 0</td>\n",
        "      <td> 0</td>\n",
        "      <td> 0</td>\n",
        "      <td> 0</td>\n",
        "      <td> 0</td>\n",
        "      <td> 0</td>\n",
        "      <td> 0</td>\n",
        "      <td> 0</td>\n",
        "      <td>...</td>\n",
        "      <td> 0</td>\n",
        "      <td> 0</td>\n",
        "      <td> 0</td>\n",
        "      <td> 0</td>\n",
        "      <td> 0</td>\n",
        "      <td> 0</td>\n",
        "      <td> 0</td>\n",
        "      <td> 0</td>\n",
        "      <td> 0</td>\n",
        "      <td> 0</td>\n",
        "    </tr>\n",
        "    <tr>\n",
        "      <th>8649</th>\n",
        "      <td> djamila.benderbous@gmail.com</td>\n",
        "      <td> 2012-07-05</td>\n",
        "      <td> 0</td>\n",
        "      <td> 0</td>\n",
        "      <td> 0</td>\n",
        "      <td> 0</td>\n",
        "      <td> 0</td>\n",
        "      <td> 0</td>\n",
        "      <td> 0</td>\n",
        "      <td> 0</td>\n",
        "      <td>...</td>\n",
        "      <td> 0</td>\n",
        "      <td> 0</td>\n",
        "      <td> 0</td>\n",
        "      <td> 0</td>\n",
        "      <td> 0</td>\n",
        "      <td> 0</td>\n",
        "      <td> 0</td>\n",
        "      <td> 0</td>\n",
        "      <td> 0</td>\n",
        "      <td> 0</td>\n",
        "    </tr>\n",
        "    <tr>\n",
        "      <th>8650</th>\n",
        "      <td>     raghebelgammal@yahoo.com</td>\n",
        "      <td>       None</td>\n",
        "      <td> 0</td>\n",
        "      <td> 0</td>\n",
        "      <td> 0</td>\n",
        "      <td> 0</td>\n",
        "      <td> 0</td>\n",
        "      <td> 0</td>\n",
        "      <td> 0</td>\n",
        "      <td> 0</td>\n",
        "      <td>...</td>\n",
        "      <td> 0</td>\n",
        "      <td> 0</td>\n",
        "      <td> 0</td>\n",
        "      <td> 0</td>\n",
        "      <td> 0</td>\n",
        "      <td> 0</td>\n",
        "      <td> 0</td>\n",
        "      <td> 0</td>\n",
        "      <td> 0</td>\n",
        "      <td> 0</td>\n",
        "    </tr>\n",
        "    <tr>\n",
        "      <th>8651</th>\n",
        "      <td>      t_el_gammal@hotmail.com</td>\n",
        "      <td> 2012-06-28</td>\n",
        "      <td> 0</td>\n",
        "      <td> 0</td>\n",
        "      <td> 0</td>\n",
        "      <td> 0</td>\n",
        "      <td> 0</td>\n",
        "      <td> 0</td>\n",
        "      <td> 0</td>\n",
        "      <td> 0</td>\n",
        "      <td>...</td>\n",
        "      <td> 0</td>\n",
        "      <td> 0</td>\n",
        "      <td> 0</td>\n",
        "      <td> 0</td>\n",
        "      <td> 0</td>\n",
        "      <td> 0</td>\n",
        "      <td> 0</td>\n",
        "      <td> 0</td>\n",
        "      <td> 0</td>\n",
        "      <td> 0</td>\n",
        "    </tr>\n",
        "    <tr>\n",
        "      <th>8652</th>\n",
        "      <td>       lik-novikova@yandex.ru</td>\n",
        "      <td> 2012-06-28</td>\n",
        "      <td> 0</td>\n",
        "      <td> 0</td>\n",
        "      <td> 0</td>\n",
        "      <td> 0</td>\n",
        "      <td> 0</td>\n",
        "      <td> 0</td>\n",
        "      <td> 0</td>\n",
        "      <td> 0</td>\n",
        "      <td>...</td>\n",
        "      <td> 0</td>\n",
        "      <td> 0</td>\n",
        "      <td> 0</td>\n",
        "      <td> 0</td>\n",
        "      <td> 0</td>\n",
        "      <td> 0</td>\n",
        "      <td> 0</td>\n",
        "      <td> 0</td>\n",
        "      <td> 0</td>\n",
        "      <td> 0</td>\n",
        "    </tr>\n",
        "    <tr>\n",
        "      <th>8653</th>\n",
        "      <td>        fairymaid82@yahoo.com</td>\n",
        "      <td> 2012-06-07</td>\n",
        "      <td> 0</td>\n",
        "      <td> 0</td>\n",
        "      <td> 0</td>\n",
        "      <td> 0</td>\n",
        "      <td> 0</td>\n",
        "      <td> 0</td>\n",
        "      <td> 0</td>\n",
        "      <td> 0</td>\n",
        "      <td>...</td>\n",
        "      <td> 0</td>\n",
        "      <td> 0</td>\n",
        "      <td> 0</td>\n",
        "      <td> 0</td>\n",
        "      <td> 0</td>\n",
        "      <td> 0</td>\n",
        "      <td> 0</td>\n",
        "      <td> 0</td>\n",
        "      <td> 0</td>\n",
        "      <td> 0</td>\n",
        "    </tr>\n",
        "    <tr>\n",
        "      <th>8654</th>\n",
        "      <td>      milomilogindi@yahoo.com</td>\n",
        "      <td> 2012-05-31</td>\n",
        "      <td> 0</td>\n",
        "      <td> 0</td>\n",
        "      <td> 0</td>\n",
        "      <td> 0</td>\n",
        "      <td> 0</td>\n",
        "      <td> 0</td>\n",
        "      <td> 0</td>\n",
        "      <td> 0</td>\n",
        "      <td>...</td>\n",
        "      <td> 0</td>\n",
        "      <td> 0</td>\n",
        "      <td> 0</td>\n",
        "      <td> 0</td>\n",
        "      <td> 0</td>\n",
        "      <td> 0</td>\n",
        "      <td> 0</td>\n",
        "      <td> 0</td>\n",
        "      <td> 0</td>\n",
        "      <td> 0</td>\n",
        "    </tr>\n",
        "    <tr>\n",
        "      <th>8655</th>\n",
        "      <td>      t_el_gammal@hotmail.com</td>\n",
        "      <td> 2012-05-31</td>\n",
        "      <td> 0</td>\n",
        "      <td> 0</td>\n",
        "      <td> 0</td>\n",
        "      <td> 0</td>\n",
        "      <td> 0</td>\n",
        "      <td> 0</td>\n",
        "      <td> 0</td>\n",
        "      <td> 0</td>\n",
        "      <td>...</td>\n",
        "      <td> 0</td>\n",
        "      <td> 0</td>\n",
        "      <td> 0</td>\n",
        "      <td> 0</td>\n",
        "      <td> 0</td>\n",
        "      <td> 0</td>\n",
        "      <td> 0</td>\n",
        "      <td> 0</td>\n",
        "      <td> 0</td>\n",
        "      <td> 0</td>\n",
        "    </tr>\n",
        "    <tr>\n",
        "      <th>8656</th>\n",
        "      <td>      t_el_gammal@hotmail.com</td>\n",
        "      <td> 2012-05-24</td>\n",
        "      <td> 0</td>\n",
        "      <td> 0</td>\n",
        "      <td> 0</td>\n",
        "      <td> 0</td>\n",
        "      <td> 0</td>\n",
        "      <td> 0</td>\n",
        "      <td> 0</td>\n",
        "      <td> 0</td>\n",
        "      <td>...</td>\n",
        "      <td> 0</td>\n",
        "      <td> 0</td>\n",
        "      <td> 0</td>\n",
        "      <td> 0</td>\n",
        "      <td> 0</td>\n",
        "      <td> 0</td>\n",
        "      <td> 0</td>\n",
        "      <td> 0</td>\n",
        "      <td> 0</td>\n",
        "      <td> 0</td>\n",
        "    </tr>\n",
        "    <tr>\n",
        "      <th>8657</th>\n",
        "      <td>       lik-novikova@yandex.ru</td>\n",
        "      <td> 2012-05-24</td>\n",
        "      <td> 0</td>\n",
        "      <td> 0</td>\n",
        "      <td> 0</td>\n",
        "      <td> 0</td>\n",
        "      <td> 0</td>\n",
        "      <td> 0</td>\n",
        "      <td> 0</td>\n",
        "      <td> 0</td>\n",
        "      <td>...</td>\n",
        "      <td> 0</td>\n",
        "      <td> 0</td>\n",
        "      <td> 0</td>\n",
        "      <td> 0</td>\n",
        "      <td> 0</td>\n",
        "      <td> 0</td>\n",
        "      <td> 0</td>\n",
        "      <td> 0</td>\n",
        "      <td> 0</td>\n",
        "      <td> 0</td>\n",
        "    </tr>\n",
        "    <tr>\n",
        "      <th>8658</th>\n",
        "      <td>             Biro5s@yahoo.com</td>\n",
        "      <td> 2012-05-24</td>\n",
        "      <td> 0</td>\n",
        "      <td> 0</td>\n",
        "      <td> 0</td>\n",
        "      <td> 0</td>\n",
        "      <td> 0</td>\n",
        "      <td> 0</td>\n",
        "      <td> 0</td>\n",
        "      <td> 0</td>\n",
        "      <td>...</td>\n",
        "      <td> 0</td>\n",
        "      <td> 0</td>\n",
        "      <td> 0</td>\n",
        "      <td> 0</td>\n",
        "      <td> 0</td>\n",
        "      <td> 0</td>\n",
        "      <td> 0</td>\n",
        "      <td> 0</td>\n",
        "      <td> 0</td>\n",
        "      <td> 0</td>\n",
        "    </tr>\n",
        "    <tr>\n",
        "      <th>8659</th>\n",
        "      <td>         nini.etoile@voila.fr</td>\n",
        "      <td> 2012-05-17</td>\n",
        "      <td> 0</td>\n",
        "      <td> 0</td>\n",
        "      <td> 0</td>\n",
        "      <td> 0</td>\n",
        "      <td> 0</td>\n",
        "      <td> 0</td>\n",
        "      <td> 0</td>\n",
        "      <td> 0</td>\n",
        "      <td>...</td>\n",
        "      <td> 0</td>\n",
        "      <td> 0</td>\n",
        "      <td> 0</td>\n",
        "      <td> 0</td>\n",
        "      <td> 0</td>\n",
        "      <td> 0</td>\n",
        "      <td> 0</td>\n",
        "      <td> 0</td>\n",
        "      <td> 0</td>\n",
        "      <td> 0</td>\n",
        "    </tr>\n",
        "    <tr>\n",
        "      <th>8660</th>\n",
        "      <td>       lik-novikova@yandex.ru</td>\n",
        "      <td> 2012-05-17</td>\n",
        "      <td> 0</td>\n",
        "      <td> 0</td>\n",
        "      <td> 0</td>\n",
        "      <td> 0</td>\n",
        "      <td> 0</td>\n",
        "      <td> 0</td>\n",
        "      <td> 0</td>\n",
        "      <td> 0</td>\n",
        "      <td>...</td>\n",
        "      <td> 0</td>\n",
        "      <td> 0</td>\n",
        "      <td> 0</td>\n",
        "      <td> 0</td>\n",
        "      <td> 0</td>\n",
        "      <td> 0</td>\n",
        "      <td> 0</td>\n",
        "      <td> 0</td>\n",
        "      <td> 0</td>\n",
        "      <td> 0</td>\n",
        "    </tr>\n",
        "    <tr>\n",
        "      <th>8661</th>\n",
        "      <td>          bettyhedrich@gmx.de</td>\n",
        "      <td> 2012-05-17</td>\n",
        "      <td> 0</td>\n",
        "      <td> 0</td>\n",
        "      <td> 0</td>\n",
        "      <td> 0</td>\n",
        "      <td> 0</td>\n",
        "      <td> 0</td>\n",
        "      <td> 0</td>\n",
        "      <td> 0</td>\n",
        "      <td>...</td>\n",
        "      <td> 0</td>\n",
        "      <td> 0</td>\n",
        "      <td> 0</td>\n",
        "      <td> 0</td>\n",
        "      <td> 0</td>\n",
        "      <td> 0</td>\n",
        "      <td> 0</td>\n",
        "      <td> 0</td>\n",
        "      <td> 0</td>\n",
        "      <td> 0</td>\n",
        "    </tr>\n",
        "    <tr>\n",
        "      <th>8662</th>\n",
        "      <td>                rulah@msn.com</td>\n",
        "      <td>       None</td>\n",
        "      <td> 0</td>\n",
        "      <td> 0</td>\n",
        "      <td> 0</td>\n",
        "      <td> 0</td>\n",
        "      <td> 0</td>\n",
        "      <td> 0</td>\n",
        "      <td> 0</td>\n",
        "      <td> 0</td>\n",
        "      <td>...</td>\n",
        "      <td> 0</td>\n",
        "      <td> 0</td>\n",
        "      <td> 0</td>\n",
        "      <td> 0</td>\n",
        "      <td> 0</td>\n",
        "      <td> 0</td>\n",
        "      <td> 0</td>\n",
        "      <td> 0</td>\n",
        "      <td> 0</td>\n",
        "      <td> 0</td>\n",
        "    </tr>\n",
        "    <tr>\n",
        "      <th>8663</th>\n",
        "      <td>          milda_b@hotmail.com</td>\n",
        "      <td> 2012-05-03</td>\n",
        "      <td> 0</td>\n",
        "      <td> 0</td>\n",
        "      <td> 0</td>\n",
        "      <td> 0</td>\n",
        "      <td> 0</td>\n",
        "      <td> 0</td>\n",
        "      <td> 0</td>\n",
        "      <td> 0</td>\n",
        "      <td>...</td>\n",
        "      <td> 0</td>\n",
        "      <td> 0</td>\n",
        "      <td> 0</td>\n",
        "      <td> 0</td>\n",
        "      <td> 0</td>\n",
        "      <td> 0</td>\n",
        "      <td> 0</td>\n",
        "      <td> 0</td>\n",
        "      <td> 0</td>\n",
        "      <td> 0</td>\n",
        "    </tr>\n",
        "    <tr>\n",
        "      <th>8664</th>\n",
        "      <td>          bente.ring@yahoo.no</td>\n",
        "      <td> 2012-05-03</td>\n",
        "      <td> 0</td>\n",
        "      <td> 0</td>\n",
        "      <td> 0</td>\n",
        "      <td> 0</td>\n",
        "      <td> 0</td>\n",
        "      <td> 0</td>\n",
        "      <td> 0</td>\n",
        "      <td> 0</td>\n",
        "      <td>...</td>\n",
        "      <td> 0</td>\n",
        "      <td> 0</td>\n",
        "      <td> 0</td>\n",
        "      <td> 0</td>\n",
        "      <td> 0</td>\n",
        "      <td> 0</td>\n",
        "      <td> 0</td>\n",
        "      <td> 0</td>\n",
        "      <td> 0</td>\n",
        "      <td> 0</td>\n",
        "    </tr>\n",
        "    <tr>\n",
        "      <th>8665</th>\n",
        "      <td>          bente.ring@yahoo.no</td>\n",
        "      <td> 2012-05-03</td>\n",
        "      <td> 0</td>\n",
        "      <td> 0</td>\n",
        "      <td> 0</td>\n",
        "      <td> 0</td>\n",
        "      <td> 0</td>\n",
        "      <td> 0</td>\n",
        "      <td> 0</td>\n",
        "      <td> 0</td>\n",
        "      <td>...</td>\n",
        "      <td> 0</td>\n",
        "      <td> 0</td>\n",
        "      <td> 0</td>\n",
        "      <td> 0</td>\n",
        "      <td> 0</td>\n",
        "      <td> 0</td>\n",
        "      <td> 0</td>\n",
        "      <td> 0</td>\n",
        "      <td> 0</td>\n",
        "      <td> 0</td>\n",
        "    </tr>\n",
        "    <tr>\n",
        "      <th>8666</th>\n",
        "      <td>       lik-novikova@yandex.ru</td>\n",
        "      <td>       None</td>\n",
        "      <td> 0</td>\n",
        "      <td> 0</td>\n",
        "      <td> 0</td>\n",
        "      <td> 0</td>\n",
        "      <td> 0</td>\n",
        "      <td> 0</td>\n",
        "      <td> 0</td>\n",
        "      <td> 0</td>\n",
        "      <td>...</td>\n",
        "      <td> 0</td>\n",
        "      <td> 0</td>\n",
        "      <td> 0</td>\n",
        "      <td> 0</td>\n",
        "      <td> 0</td>\n",
        "      <td> 0</td>\n",
        "      <td> 0</td>\n",
        "      <td> 0</td>\n",
        "      <td> 0</td>\n",
        "      <td> 0</td>\n",
        "    </tr>\n",
        "    <tr>\n",
        "      <th>8667</th>\n",
        "      <td>          bente.ring@yahoo.no</td>\n",
        "      <td> 2012-04-26</td>\n",
        "      <td> 0</td>\n",
        "      <td> 0</td>\n",
        "      <td> 0</td>\n",
        "      <td> 0</td>\n",
        "      <td> 0</td>\n",
        "      <td> 0</td>\n",
        "      <td> 0</td>\n",
        "      <td> 0</td>\n",
        "      <td>...</td>\n",
        "      <td> 0</td>\n",
        "      <td> 0</td>\n",
        "      <td> 0</td>\n",
        "      <td> 0</td>\n",
        "      <td> 0</td>\n",
        "      <td> 0</td>\n",
        "      <td> 0</td>\n",
        "      <td> 0</td>\n",
        "      <td> 0</td>\n",
        "      <td> 0</td>\n",
        "    </tr>\n",
        "    <tr>\n",
        "      <th>8668</th>\n",
        "      <td>         cathypod@hotmail.com</td>\n",
        "      <td> 2012-04-26</td>\n",
        "      <td> 0</td>\n",
        "      <td> 0</td>\n",
        "      <td> 0</td>\n",
        "      <td> 0</td>\n",
        "      <td> 0</td>\n",
        "      <td> 0</td>\n",
        "      <td> 0</td>\n",
        "      <td> 0</td>\n",
        "      <td>...</td>\n",
        "      <td> 0</td>\n",
        "      <td> 0</td>\n",
        "      <td> 0</td>\n",
        "      <td> 0</td>\n",
        "      <td> 0</td>\n",
        "      <td> 0</td>\n",
        "      <td> 0</td>\n",
        "      <td> 0</td>\n",
        "      <td> 0</td>\n",
        "      <td> 0</td>\n",
        "    </tr>\n",
        "  </tbody>\n",
        "</table>\n",
        "<p>8669 rows \u00d7 21 columns</p>\n",
        "</div>"
       ],
       "metadata": {},
       "output_type": "pyout",
       "prompt_number": 9,
       "text": [
        "                             Email        Date  Sunday  Monday  Tuesday  \\\n",
        "0           rehabmansour@gmail.com  2015-12-17       0       0        0   \n",
        "1              nabouheif@yahoo.com  2015-12-17       0       0        0   \n",
        "2           fracicardi@hotmail.com  2015-12-17       0       0        0   \n",
        "3           ahmed.fakhry@gmail.com  2015-12-17       0       0        0   \n",
        "4             Missilou11@yahoo.com  2015-12-17       0       0        0   \n",
        "5          sallysalem123@gmail.com  2015-12-17       0       0        0   \n",
        "6         nayera_fadel@hotmail.com  2015-12-17       0       0        0   \n",
        "7            raoufzdn553@gmail.com  2015-12-17       0       0        0   \n",
        "8           gaylynmbogho@yahoo.com  2015-12-17       0       0        0   \n",
        "9             oshahavi13@gmail.com  2015-12-17       0       0        0   \n",
        "10            Daiieldeeb@gmail.com  2015-12-17       0       0        0   \n",
        "11             yara.azam@gmail.com  2015-12-17       0       0        0   \n",
        "12           dalia_allam@yahoo.com  2015-12-17       0       0        0   \n",
        "13           elhanem52@hotmail.com  2015-12-17       0       0        0   \n",
        "14        tarek_seddik@hotmail.com  2015-12-17       0       0        0   \n",
        "15         maie.nomrossy@gmail.com  2015-12-17       0       0        0   \n",
        "16           hazem.shamy@gmail.com  2015-12-17       0       0        0   \n",
        "17          maya.p.nawal@gmail.com  2015-12-17       0       0        0   \n",
        "18       jamesmorgan0091@gmail.com  2015-12-17       0       0        0   \n",
        "19            israa_s@aucegypt.edu  2015-12-17       0       0        0   \n",
        "20          RODY.DOVE123@GMAIL.COM  2015-12-17       0       0        0   \n",
        "21          amaghraby@mediawave.me  2015-12-17       0       0        0   \n",
        "22             hibba_b@hotmail.com  2015-12-17       0       0        0   \n",
        "23          pascalenader@gmail.com  2015-12-17       0       0        0   \n",
        "24          doaa.khattab@gmail.com  2015-12-17       0       0        0   \n",
        "25          sunset_456@hotmail.com  2015-12-17       0       0        0   \n",
        "26      colleen_lovely@hotmail.com  2015-12-17       0       0        0   \n",
        "27                imrhazi@yahoo.fr  2015-12-17       0       0        0   \n",
        "28       nadyagamaleldin@gmail.com  2015-12-17       0       0        0   \n",
        "29             engywasfy@gmail.com  2015-12-17       0       0        0   \n",
        "...                            ...         ...     ...     ...      ...   \n",
        "8639      faridahelmyiba@gmail.com  2012-07-05       0       0        0   \n",
        "8640        mireilleamin@yahoo.com  2012-07-05       0       0        0   \n",
        "8641    Ihab.derias@laroche.com.eg  2012-07-05       0       0        0   \n",
        "8642          Adhamada@hotmail.com  2012-07-05       0       0        0   \n",
        "8643      houssam.elokda@gmail.com  2012-07-05       0       0        0   \n",
        "8644           Hania7894@gmail.com  2012-07-05       0       0        0   \n",
        "8645           Hania7894@gmail.com  2012-07-05       0       0        0   \n",
        "8646             Mamazzz@gmail.com  2012-07-05       0       0        0   \n",
        "8647             asony11@yahoo.com  2012-07-05       0       0        0   \n",
        "8648       salwa_saiid@hotmail.com  2012-07-05       0       0        0   \n",
        "8649  djamila.benderbous@gmail.com  2012-07-05       0       0        0   \n",
        "8650      raghebelgammal@yahoo.com        None       0       0        0   \n",
        "8651       t_el_gammal@hotmail.com  2012-06-28       0       0        0   \n",
        "8652        lik-novikova@yandex.ru  2012-06-28       0       0        0   \n",
        "8653         fairymaid82@yahoo.com  2012-06-07       0       0        0   \n",
        "8654       milomilogindi@yahoo.com  2012-05-31       0       0        0   \n",
        "8655       t_el_gammal@hotmail.com  2012-05-31       0       0        0   \n",
        "8656       t_el_gammal@hotmail.com  2012-05-24       0       0        0   \n",
        "8657        lik-novikova@yandex.ru  2012-05-24       0       0        0   \n",
        "8658              Biro5s@yahoo.com  2012-05-24       0       0        0   \n",
        "8659          nini.etoile@voila.fr  2012-05-17       0       0        0   \n",
        "8660        lik-novikova@yandex.ru  2012-05-17       0       0        0   \n",
        "8661           bettyhedrich@gmx.de  2012-05-17       0       0        0   \n",
        "8662                 rulah@msn.com        None       0       0        0   \n",
        "8663           milda_b@hotmail.com  2012-05-03       0       0        0   \n",
        "8664           bente.ring@yahoo.no  2012-05-03       0       0        0   \n",
        "8665           bente.ring@yahoo.no  2012-05-03       0       0        0   \n",
        "8666        lik-novikova@yandex.ru        None       0       0        0   \n",
        "8667           bente.ring@yahoo.no  2012-04-26       0       0        0   \n",
        "8668          cathypod@hotmail.com  2012-04-26       0       0        0   \n",
        "\n",
        "      Wednesday  Thursday  Friday  Saturday  0 ...  4  6  8  10  12  14  16  \\\n",
        "0             0         0       0         0  0 ...  0  0  0   0   0   0   0   \n",
        "1             0         0       0         0  0 ...  0  0  0   0   0   0   0   \n",
        "2             0         0       0         0  0 ...  0  0  0   0   0   0   0   \n",
        "3             0         0       0         0  0 ...  0  0  0   0   0   0   0   \n",
        "4             0         0       0         0  0 ...  0  0  0   0   0   0   0   \n",
        "5             0         0       0         0  0 ...  0  0  0   0   0   0   0   \n",
        "6             0         0       0         0  0 ...  0  0  0   0   0   0   0   \n",
        "7             0         0       0         0  0 ...  0  0  0   0   0   0   0   \n",
        "8             0         0       0         0  0 ...  0  0  0   0   0   0   0   \n",
        "9             0         0       0         0  0 ...  0  0  0   0   0   0   0   \n",
        "10            0         0       0         0  0 ...  0  0  0   0   0   0   0   \n",
        "11            0         0       0         0  0 ...  0  0  0   0   0   0   0   \n",
        "12            0         0       0         0  0 ...  0  0  0   0   0   0   0   \n",
        "13            0         0       0         0  0 ...  0  0  0   0   0   0   0   \n",
        "14            0         0       0         0  0 ...  0  0  0   0   0   0   0   \n",
        "15            0         0       0         0  0 ...  0  0  0   0   0   0   0   \n",
        "16            0         0       0         0  0 ...  0  0  0   0   0   0   0   \n",
        "17            0         0       0         0  0 ...  0  0  0   0   0   0   0   \n",
        "18            0         0       0         0  0 ...  0  0  0   0   0   0   0   \n",
        "19            0         0       0         0  0 ...  0  0  0   0   0   0   0   \n",
        "20            0         0       0         0  0 ...  0  0  0   0   0   0   0   \n",
        "21            0         0       0         0  0 ...  0  0  0   0   0   0   0   \n",
        "22            0         0       0         0  0 ...  0  0  0   0   0   0   0   \n",
        "23            0         0       0         0  0 ...  0  0  0   0   0   0   0   \n",
        "24            0         0       0         0  0 ...  0  0  0   0   0   0   0   \n",
        "25            0         0       0         0  0 ...  0  0  0   0   0   0   0   \n",
        "26            0         0       0         0  0 ...  0  0  0   0   0   0   0   \n",
        "27            0         0       0         0  0 ...  0  0  0   0   0   0   0   \n",
        "28            0         0       0         0  0 ...  0  0  0   0   0   0   0   \n",
        "29            0         0       0         0  0 ...  0  0  0   0   0   0   0   \n",
        "...         ...       ...     ...       ... .. ... .. .. ..  ..  ..  ..  ..   \n",
        "8639          0         0       0         0  0 ...  0  0  0   0   0   0   0   \n",
        "8640          0         0       0         0  0 ...  0  0  0   0   0   0   0   \n",
        "8641          0         0       0         0  0 ...  0  0  0   0   0   0   0   \n",
        "8642          0         0       0         0  0 ...  0  0  0   0   0   0   0   \n",
        "8643          0         0       0         0  0 ...  0  0  0   0   0   0   0   \n",
        "8644          0         0       0         0  0 ...  0  0  0   0   0   0   0   \n",
        "8645          0         0       0         0  0 ...  0  0  0   0   0   0   0   \n",
        "8646          0         0       0         0  0 ...  0  0  0   0   0   0   0   \n",
        "8647          0         0       0         0  0 ...  0  0  0   0   0   0   0   \n",
        "8648          0         0       0         0  0 ...  0  0  0   0   0   0   0   \n",
        "8649          0         0       0         0  0 ...  0  0  0   0   0   0   0   \n",
        "8650          0         0       0         0  0 ...  0  0  0   0   0   0   0   \n",
        "8651          0         0       0         0  0 ...  0  0  0   0   0   0   0   \n",
        "8652          0         0       0         0  0 ...  0  0  0   0   0   0   0   \n",
        "8653          0         0       0         0  0 ...  0  0  0   0   0   0   0   \n",
        "8654          0         0       0         0  0 ...  0  0  0   0   0   0   0   \n",
        "8655          0         0       0         0  0 ...  0  0  0   0   0   0   0   \n",
        "8656          0         0       0         0  0 ...  0  0  0   0   0   0   0   \n",
        "8657          0         0       0         0  0 ...  0  0  0   0   0   0   0   \n",
        "8658          0         0       0         0  0 ...  0  0  0   0   0   0   0   \n",
        "8659          0         0       0         0  0 ...  0  0  0   0   0   0   0   \n",
        "8660          0         0       0         0  0 ...  0  0  0   0   0   0   0   \n",
        "8661          0         0       0         0  0 ...  0  0  0   0   0   0   0   \n",
        "8662          0         0       0         0  0 ...  0  0  0   0   0   0   0   \n",
        "8663          0         0       0         0  0 ...  0  0  0   0   0   0   0   \n",
        "8664          0         0       0         0  0 ...  0  0  0   0   0   0   0   \n",
        "8665          0         0       0         0  0 ...  0  0  0   0   0   0   0   \n",
        "8666          0         0       0         0  0 ...  0  0  0   0   0   0   0   \n",
        "8667          0         0       0         0  0 ...  0  0  0   0   0   0   0   \n",
        "8668          0         0       0         0  0 ...  0  0  0   0   0   0   0   \n",
        "\n",
        "      18  20  22  \n",
        "0      0   0   0  \n",
        "1      0   0   0  \n",
        "2      0   0   0  \n",
        "3      0   0   0  \n",
        "4      0   0   0  \n",
        "5      0   0   0  \n",
        "6      0   0   0  \n",
        "7      0   0   0  \n",
        "8      0   0   0  \n",
        "9      0   0   0  \n",
        "10     0   0   0  \n",
        "11     0   0   0  \n",
        "12     0   0   0  \n",
        "13     0   0   0  \n",
        "14     0   0   0  \n",
        "15     0   0   0  \n",
        "16     0   0   0  \n",
        "17     0   0   0  \n",
        "18     0   0   0  \n",
        "19     0   0   0  \n",
        "20     0   0   0  \n",
        "21     0   0   0  \n",
        "22     0   0   0  \n",
        "23     0   0   0  \n",
        "24     0   0   0  \n",
        "25     0   0   0  \n",
        "26     0   0   0  \n",
        "27     0   0   0  \n",
        "28     0   0   0  \n",
        "29     0   0   0  \n",
        "...   ..  ..  ..  \n",
        "8639   0   0   0  \n",
        "8640   0   0   0  \n",
        "8641   0   0   0  \n",
        "8642   0   0   0  \n",
        "8643   0   0   0  \n",
        "8644   0   0   0  \n",
        "8645   0   0   0  \n",
        "8646   0   0   0  \n",
        "8647   0   0   0  \n",
        "8648   0   0   0  \n",
        "8649   0   0   0  \n",
        "8650   0   0   0  \n",
        "8651   0   0   0  \n",
        "8652   0   0   0  \n",
        "8653   0   0   0  \n",
        "8654   0   0   0  \n",
        "8655   0   0   0  \n",
        "8656   0   0   0  \n",
        "8657   0   0   0  \n",
        "8658   0   0   0  \n",
        "8659   0   0   0  \n",
        "8660   0   0   0  \n",
        "8661   0   0   0  \n",
        "8662   0   0   0  \n",
        "8663   0   0   0  \n",
        "8664   0   0   0  \n",
        "8665   0   0   0  \n",
        "8666   0   0   0  \n",
        "8667   0   0   0  \n",
        "8668   0   0   0  \n",
        "\n",
        "[8669 rows x 21 columns]"
       ]
      }
     ],
     "prompt_number": 9
    },
    {
     "cell_type": "code",
     "collapsed": false,
     "input": [
      "#assign values to hours and days columns\n",
      "for i in range(0, max(df.index)+1):\n",
      "    df1.loc[i,(df.iloc[i,2])] = 1\n",
      "    df1.loc[i,(df.iloc[i,3])] = 1\n",
      "df1"
     ],
     "language": "python",
     "metadata": {},
     "outputs": [
      {
       "html": [
        "<div style=\"max-height:1000px;max-width:1500px;overflow:auto;\">\n",
        "<table border=\"1\" class=\"dataframe\">\n",
        "  <thead>\n",
        "    <tr style=\"text-align: right;\">\n",
        "      <th></th>\n",
        "      <th>Email</th>\n",
        "      <th>Date</th>\n",
        "      <th>Sunday</th>\n",
        "      <th>Monday</th>\n",
        "      <th>Tuesday</th>\n",
        "      <th>Wednesday</th>\n",
        "      <th>Thursday</th>\n",
        "      <th>Friday</th>\n",
        "      <th>Saturday</th>\n",
        "      <th>0</th>\n",
        "      <th>...</th>\n",
        "      <th>4</th>\n",
        "      <th>6</th>\n",
        "      <th>8</th>\n",
        "      <th>10</th>\n",
        "      <th>12</th>\n",
        "      <th>14</th>\n",
        "      <th>16</th>\n",
        "      <th>18</th>\n",
        "      <th>20</th>\n",
        "      <th>22</th>\n",
        "    </tr>\n",
        "  </thead>\n",
        "  <tbody>\n",
        "    <tr>\n",
        "      <th>0   </th>\n",
        "      <td>       rehabmansour@gmail.com</td>\n",
        "      <td> 2015-12-17</td>\n",
        "      <td> 0</td>\n",
        "      <td> 0</td>\n",
        "      <td> 0</td>\n",
        "      <td> 1</td>\n",
        "      <td> 0</td>\n",
        "      <td> 0</td>\n",
        "      <td> 0</td>\n",
        "      <td> 0</td>\n",
        "      <td>...</td>\n",
        "      <td> 0</td>\n",
        "      <td> 0</td>\n",
        "      <td> 0</td>\n",
        "      <td> 0</td>\n",
        "      <td> 0</td>\n",
        "      <td> 0</td>\n",
        "      <td> 0</td>\n",
        "      <td> 0</td>\n",
        "      <td> 1</td>\n",
        "      <td> 0</td>\n",
        "    </tr>\n",
        "    <tr>\n",
        "      <th>1   </th>\n",
        "      <td>          nabouheif@yahoo.com</td>\n",
        "      <td> 2015-12-17</td>\n",
        "      <td> 0</td>\n",
        "      <td> 0</td>\n",
        "      <td> 0</td>\n",
        "      <td> 1</td>\n",
        "      <td> 0</td>\n",
        "      <td> 0</td>\n",
        "      <td> 0</td>\n",
        "      <td> 0</td>\n",
        "      <td>...</td>\n",
        "      <td> 0</td>\n",
        "      <td> 0</td>\n",
        "      <td> 0</td>\n",
        "      <td> 0</td>\n",
        "      <td> 0</td>\n",
        "      <td> 0</td>\n",
        "      <td> 0</td>\n",
        "      <td> 0</td>\n",
        "      <td> 1</td>\n",
        "      <td> 0</td>\n",
        "    </tr>\n",
        "    <tr>\n",
        "      <th>2   </th>\n",
        "      <td>       fracicardi@hotmail.com</td>\n",
        "      <td> 2015-12-17</td>\n",
        "      <td> 0</td>\n",
        "      <td> 0</td>\n",
        "      <td> 0</td>\n",
        "      <td> 1</td>\n",
        "      <td> 0</td>\n",
        "      <td> 0</td>\n",
        "      <td> 0</td>\n",
        "      <td> 0</td>\n",
        "      <td>...</td>\n",
        "      <td> 0</td>\n",
        "      <td> 0</td>\n",
        "      <td> 0</td>\n",
        "      <td> 0</td>\n",
        "      <td> 0</td>\n",
        "      <td> 0</td>\n",
        "      <td> 0</td>\n",
        "      <td> 1</td>\n",
        "      <td> 0</td>\n",
        "      <td> 0</td>\n",
        "    </tr>\n",
        "    <tr>\n",
        "      <th>3   </th>\n",
        "      <td>       ahmed.fakhry@gmail.com</td>\n",
        "      <td> 2015-12-17</td>\n",
        "      <td> 0</td>\n",
        "      <td> 0</td>\n",
        "      <td> 0</td>\n",
        "      <td> 1</td>\n",
        "      <td> 0</td>\n",
        "      <td> 0</td>\n",
        "      <td> 0</td>\n",
        "      <td> 0</td>\n",
        "      <td>...</td>\n",
        "      <td> 0</td>\n",
        "      <td> 0</td>\n",
        "      <td> 0</td>\n",
        "      <td> 0</td>\n",
        "      <td> 0</td>\n",
        "      <td> 0</td>\n",
        "      <td> 1</td>\n",
        "      <td> 0</td>\n",
        "      <td> 0</td>\n",
        "      <td> 0</td>\n",
        "    </tr>\n",
        "    <tr>\n",
        "      <th>4   </th>\n",
        "      <td>         Missilou11@yahoo.com</td>\n",
        "      <td> 2015-12-17</td>\n",
        "      <td> 0</td>\n",
        "      <td> 0</td>\n",
        "      <td> 0</td>\n",
        "      <td> 1</td>\n",
        "      <td> 0</td>\n",
        "      <td> 0</td>\n",
        "      <td> 0</td>\n",
        "      <td> 0</td>\n",
        "      <td>...</td>\n",
        "      <td> 0</td>\n",
        "      <td> 0</td>\n",
        "      <td> 0</td>\n",
        "      <td> 0</td>\n",
        "      <td> 0</td>\n",
        "      <td> 1</td>\n",
        "      <td> 0</td>\n",
        "      <td> 0</td>\n",
        "      <td> 0</td>\n",
        "      <td> 0</td>\n",
        "    </tr>\n",
        "    <tr>\n",
        "      <th>5   </th>\n",
        "      <td>      sallysalem123@gmail.com</td>\n",
        "      <td> 2015-12-17</td>\n",
        "      <td> 0</td>\n",
        "      <td> 0</td>\n",
        "      <td> 0</td>\n",
        "      <td> 1</td>\n",
        "      <td> 0</td>\n",
        "      <td> 0</td>\n",
        "      <td> 0</td>\n",
        "      <td> 0</td>\n",
        "      <td>...</td>\n",
        "      <td> 0</td>\n",
        "      <td> 0</td>\n",
        "      <td> 0</td>\n",
        "      <td> 0</td>\n",
        "      <td> 1</td>\n",
        "      <td> 0</td>\n",
        "      <td> 0</td>\n",
        "      <td> 0</td>\n",
        "      <td> 0</td>\n",
        "      <td> 0</td>\n",
        "    </tr>\n",
        "    <tr>\n",
        "      <th>6   </th>\n",
        "      <td>     nayera_fadel@hotmail.com</td>\n",
        "      <td> 2015-12-17</td>\n",
        "      <td> 0</td>\n",
        "      <td> 0</td>\n",
        "      <td> 0</td>\n",
        "      <td> 1</td>\n",
        "      <td> 0</td>\n",
        "      <td> 0</td>\n",
        "      <td> 0</td>\n",
        "      <td> 0</td>\n",
        "      <td>...</td>\n",
        "      <td> 0</td>\n",
        "      <td> 0</td>\n",
        "      <td> 0</td>\n",
        "      <td> 0</td>\n",
        "      <td> 1</td>\n",
        "      <td> 0</td>\n",
        "      <td> 0</td>\n",
        "      <td> 0</td>\n",
        "      <td> 0</td>\n",
        "      <td> 0</td>\n",
        "    </tr>\n",
        "    <tr>\n",
        "      <th>7   </th>\n",
        "      <td>        raoufzdn553@gmail.com</td>\n",
        "      <td> 2015-12-17</td>\n",
        "      <td> 0</td>\n",
        "      <td> 0</td>\n",
        "      <td> 0</td>\n",
        "      <td> 1</td>\n",
        "      <td> 0</td>\n",
        "      <td> 0</td>\n",
        "      <td> 0</td>\n",
        "      <td> 0</td>\n",
        "      <td>...</td>\n",
        "      <td> 0</td>\n",
        "      <td> 0</td>\n",
        "      <td> 0</td>\n",
        "      <td> 0</td>\n",
        "      <td> 1</td>\n",
        "      <td> 0</td>\n",
        "      <td> 0</td>\n",
        "      <td> 0</td>\n",
        "      <td> 0</td>\n",
        "      <td> 0</td>\n",
        "    </tr>\n",
        "    <tr>\n",
        "      <th>8   </th>\n",
        "      <td>       gaylynmbogho@yahoo.com</td>\n",
        "      <td> 2015-12-17</td>\n",
        "      <td> 0</td>\n",
        "      <td> 0</td>\n",
        "      <td> 0</td>\n",
        "      <td> 1</td>\n",
        "      <td> 0</td>\n",
        "      <td> 0</td>\n",
        "      <td> 0</td>\n",
        "      <td> 0</td>\n",
        "      <td>...</td>\n",
        "      <td> 0</td>\n",
        "      <td> 0</td>\n",
        "      <td> 0</td>\n",
        "      <td> 0</td>\n",
        "      <td> 1</td>\n",
        "      <td> 0</td>\n",
        "      <td> 0</td>\n",
        "      <td> 0</td>\n",
        "      <td> 0</td>\n",
        "      <td> 0</td>\n",
        "    </tr>\n",
        "    <tr>\n",
        "      <th>9   </th>\n",
        "      <td>         oshahavi13@gmail.com</td>\n",
        "      <td> 2015-12-17</td>\n",
        "      <td> 0</td>\n",
        "      <td> 0</td>\n",
        "      <td> 0</td>\n",
        "      <td> 1</td>\n",
        "      <td> 0</td>\n",
        "      <td> 0</td>\n",
        "      <td> 0</td>\n",
        "      <td> 0</td>\n",
        "      <td>...</td>\n",
        "      <td> 0</td>\n",
        "      <td> 0</td>\n",
        "      <td> 0</td>\n",
        "      <td> 0</td>\n",
        "      <td> 1</td>\n",
        "      <td> 0</td>\n",
        "      <td> 0</td>\n",
        "      <td> 0</td>\n",
        "      <td> 0</td>\n",
        "      <td> 0</td>\n",
        "    </tr>\n",
        "    <tr>\n",
        "      <th>10  </th>\n",
        "      <td>         Daiieldeeb@gmail.com</td>\n",
        "      <td> 2015-12-17</td>\n",
        "      <td> 0</td>\n",
        "      <td> 0</td>\n",
        "      <td> 0</td>\n",
        "      <td> 1</td>\n",
        "      <td> 0</td>\n",
        "      <td> 0</td>\n",
        "      <td> 0</td>\n",
        "      <td> 0</td>\n",
        "      <td>...</td>\n",
        "      <td> 0</td>\n",
        "      <td> 0</td>\n",
        "      <td> 0</td>\n",
        "      <td> 1</td>\n",
        "      <td> 0</td>\n",
        "      <td> 0</td>\n",
        "      <td> 0</td>\n",
        "      <td> 0</td>\n",
        "      <td> 0</td>\n",
        "      <td> 0</td>\n",
        "    </tr>\n",
        "    <tr>\n",
        "      <th>11  </th>\n",
        "      <td>          yara.azam@gmail.com</td>\n",
        "      <td> 2015-12-17</td>\n",
        "      <td> 0</td>\n",
        "      <td> 0</td>\n",
        "      <td> 0</td>\n",
        "      <td> 1</td>\n",
        "      <td> 0</td>\n",
        "      <td> 0</td>\n",
        "      <td> 0</td>\n",
        "      <td> 0</td>\n",
        "      <td>...</td>\n",
        "      <td> 0</td>\n",
        "      <td> 0</td>\n",
        "      <td> 0</td>\n",
        "      <td> 1</td>\n",
        "      <td> 0</td>\n",
        "      <td> 0</td>\n",
        "      <td> 0</td>\n",
        "      <td> 0</td>\n",
        "      <td> 0</td>\n",
        "      <td> 0</td>\n",
        "    </tr>\n",
        "    <tr>\n",
        "      <th>12  </th>\n",
        "      <td>        dalia_allam@yahoo.com</td>\n",
        "      <td> 2015-12-17</td>\n",
        "      <td> 0</td>\n",
        "      <td> 0</td>\n",
        "      <td> 0</td>\n",
        "      <td> 1</td>\n",
        "      <td> 0</td>\n",
        "      <td> 0</td>\n",
        "      <td> 0</td>\n",
        "      <td> 0</td>\n",
        "      <td>...</td>\n",
        "      <td> 0</td>\n",
        "      <td> 1</td>\n",
        "      <td> 0</td>\n",
        "      <td> 0</td>\n",
        "      <td> 0</td>\n",
        "      <td> 0</td>\n",
        "      <td> 0</td>\n",
        "      <td> 0</td>\n",
        "      <td> 0</td>\n",
        "      <td> 0</td>\n",
        "    </tr>\n",
        "    <tr>\n",
        "      <th>13  </th>\n",
        "      <td>        elhanem52@hotmail.com</td>\n",
        "      <td> 2015-12-17</td>\n",
        "      <td> 0</td>\n",
        "      <td> 0</td>\n",
        "      <td> 0</td>\n",
        "      <td> 1</td>\n",
        "      <td> 0</td>\n",
        "      <td> 0</td>\n",
        "      <td> 0</td>\n",
        "      <td> 0</td>\n",
        "      <td>...</td>\n",
        "      <td> 0</td>\n",
        "      <td> 1</td>\n",
        "      <td> 0</td>\n",
        "      <td> 0</td>\n",
        "      <td> 0</td>\n",
        "      <td> 0</td>\n",
        "      <td> 0</td>\n",
        "      <td> 0</td>\n",
        "      <td> 0</td>\n",
        "      <td> 0</td>\n",
        "    </tr>\n",
        "    <tr>\n",
        "      <th>14  </th>\n",
        "      <td>     tarek_seddik@hotmail.com</td>\n",
        "      <td> 2015-12-17</td>\n",
        "      <td> 0</td>\n",
        "      <td> 0</td>\n",
        "      <td> 0</td>\n",
        "      <td> 1</td>\n",
        "      <td> 0</td>\n",
        "      <td> 0</td>\n",
        "      <td> 0</td>\n",
        "      <td> 0</td>\n",
        "      <td>...</td>\n",
        "      <td> 0</td>\n",
        "      <td> 0</td>\n",
        "      <td> 0</td>\n",
        "      <td> 0</td>\n",
        "      <td> 0</td>\n",
        "      <td> 0</td>\n",
        "      <td> 0</td>\n",
        "      <td> 0</td>\n",
        "      <td> 0</td>\n",
        "      <td> 0</td>\n",
        "    </tr>\n",
        "    <tr>\n",
        "      <th>15  </th>\n",
        "      <td>      maie.nomrossy@gmail.com</td>\n",
        "      <td> 2015-12-17</td>\n",
        "      <td> 0</td>\n",
        "      <td> 0</td>\n",
        "      <td> 0</td>\n",
        "      <td> 1</td>\n",
        "      <td> 0</td>\n",
        "      <td> 0</td>\n",
        "      <td> 0</td>\n",
        "      <td> 1</td>\n",
        "      <td>...</td>\n",
        "      <td> 0</td>\n",
        "      <td> 0</td>\n",
        "      <td> 0</td>\n",
        "      <td> 0</td>\n",
        "      <td> 0</td>\n",
        "      <td> 0</td>\n",
        "      <td> 0</td>\n",
        "      <td> 0</td>\n",
        "      <td> 0</td>\n",
        "      <td> 0</td>\n",
        "    </tr>\n",
        "    <tr>\n",
        "      <th>16  </th>\n",
        "      <td>        hazem.shamy@gmail.com</td>\n",
        "      <td> 2015-12-17</td>\n",
        "      <td> 0</td>\n",
        "      <td> 0</td>\n",
        "      <td> 0</td>\n",
        "      <td> 1</td>\n",
        "      <td> 0</td>\n",
        "      <td> 0</td>\n",
        "      <td> 0</td>\n",
        "      <td> 1</td>\n",
        "      <td>...</td>\n",
        "      <td> 0</td>\n",
        "      <td> 0</td>\n",
        "      <td> 0</td>\n",
        "      <td> 0</td>\n",
        "      <td> 0</td>\n",
        "      <td> 0</td>\n",
        "      <td> 0</td>\n",
        "      <td> 0</td>\n",
        "      <td> 0</td>\n",
        "      <td> 0</td>\n",
        "    </tr>\n",
        "    <tr>\n",
        "      <th>17  </th>\n",
        "      <td>       maya.p.nawal@gmail.com</td>\n",
        "      <td> 2015-12-17</td>\n",
        "      <td> 0</td>\n",
        "      <td> 0</td>\n",
        "      <td> 1</td>\n",
        "      <td> 0</td>\n",
        "      <td> 0</td>\n",
        "      <td> 0</td>\n",
        "      <td> 0</td>\n",
        "      <td> 0</td>\n",
        "      <td>...</td>\n",
        "      <td> 0</td>\n",
        "      <td> 0</td>\n",
        "      <td> 0</td>\n",
        "      <td> 0</td>\n",
        "      <td> 0</td>\n",
        "      <td> 0</td>\n",
        "      <td> 0</td>\n",
        "      <td> 0</td>\n",
        "      <td> 1</td>\n",
        "      <td> 0</td>\n",
        "    </tr>\n",
        "    <tr>\n",
        "      <th>18  </th>\n",
        "      <td>    jamesmorgan0091@gmail.com</td>\n",
        "      <td> 2015-12-17</td>\n",
        "      <td> 0</td>\n",
        "      <td> 0</td>\n",
        "      <td> 1</td>\n",
        "      <td> 0</td>\n",
        "      <td> 0</td>\n",
        "      <td> 0</td>\n",
        "      <td> 0</td>\n",
        "      <td> 0</td>\n",
        "      <td>...</td>\n",
        "      <td> 0</td>\n",
        "      <td> 0</td>\n",
        "      <td> 0</td>\n",
        "      <td> 0</td>\n",
        "      <td> 0</td>\n",
        "      <td> 0</td>\n",
        "      <td> 0</td>\n",
        "      <td> 1</td>\n",
        "      <td> 0</td>\n",
        "      <td> 0</td>\n",
        "    </tr>\n",
        "    <tr>\n",
        "      <th>19  </th>\n",
        "      <td>         israa_s@aucegypt.edu</td>\n",
        "      <td> 2015-12-17</td>\n",
        "      <td> 0</td>\n",
        "      <td> 0</td>\n",
        "      <td> 1</td>\n",
        "      <td> 0</td>\n",
        "      <td> 0</td>\n",
        "      <td> 0</td>\n",
        "      <td> 0</td>\n",
        "      <td> 0</td>\n",
        "      <td>...</td>\n",
        "      <td> 0</td>\n",
        "      <td> 0</td>\n",
        "      <td> 0</td>\n",
        "      <td> 0</td>\n",
        "      <td> 0</td>\n",
        "      <td> 0</td>\n",
        "      <td> 1</td>\n",
        "      <td> 0</td>\n",
        "      <td> 0</td>\n",
        "      <td> 0</td>\n",
        "    </tr>\n",
        "    <tr>\n",
        "      <th>20  </th>\n",
        "      <td>       RODY.DOVE123@GMAIL.COM</td>\n",
        "      <td> 2015-12-17</td>\n",
        "      <td> 0</td>\n",
        "      <td> 0</td>\n",
        "      <td> 1</td>\n",
        "      <td> 0</td>\n",
        "      <td> 0</td>\n",
        "      <td> 0</td>\n",
        "      <td> 0</td>\n",
        "      <td> 0</td>\n",
        "      <td>...</td>\n",
        "      <td> 0</td>\n",
        "      <td> 0</td>\n",
        "      <td> 0</td>\n",
        "      <td> 0</td>\n",
        "      <td> 0</td>\n",
        "      <td> 0</td>\n",
        "      <td> 1</td>\n",
        "      <td> 0</td>\n",
        "      <td> 0</td>\n",
        "      <td> 0</td>\n",
        "    </tr>\n",
        "    <tr>\n",
        "      <th>21  </th>\n",
        "      <td>       amaghraby@mediawave.me</td>\n",
        "      <td> 2015-12-17</td>\n",
        "      <td> 0</td>\n",
        "      <td> 0</td>\n",
        "      <td> 1</td>\n",
        "      <td> 0</td>\n",
        "      <td> 0</td>\n",
        "      <td> 0</td>\n",
        "      <td> 0</td>\n",
        "      <td> 0</td>\n",
        "      <td>...</td>\n",
        "      <td> 0</td>\n",
        "      <td> 0</td>\n",
        "      <td> 0</td>\n",
        "      <td> 0</td>\n",
        "      <td> 0</td>\n",
        "      <td> 0</td>\n",
        "      <td> 1</td>\n",
        "      <td> 0</td>\n",
        "      <td> 0</td>\n",
        "      <td> 0</td>\n",
        "    </tr>\n",
        "    <tr>\n",
        "      <th>22  </th>\n",
        "      <td>          hibba_b@hotmail.com</td>\n",
        "      <td> 2015-12-17</td>\n",
        "      <td> 0</td>\n",
        "      <td> 0</td>\n",
        "      <td> 1</td>\n",
        "      <td> 0</td>\n",
        "      <td> 0</td>\n",
        "      <td> 0</td>\n",
        "      <td> 0</td>\n",
        "      <td> 0</td>\n",
        "      <td>...</td>\n",
        "      <td> 0</td>\n",
        "      <td> 0</td>\n",
        "      <td> 0</td>\n",
        "      <td> 0</td>\n",
        "      <td> 0</td>\n",
        "      <td> 1</td>\n",
        "      <td> 0</td>\n",
        "      <td> 0</td>\n",
        "      <td> 0</td>\n",
        "      <td> 0</td>\n",
        "    </tr>\n",
        "    <tr>\n",
        "      <th>23  </th>\n",
        "      <td>       pascalenader@gmail.com</td>\n",
        "      <td> 2015-12-17</td>\n",
        "      <td> 0</td>\n",
        "      <td> 0</td>\n",
        "      <td> 1</td>\n",
        "      <td> 0</td>\n",
        "      <td> 0</td>\n",
        "      <td> 0</td>\n",
        "      <td> 0</td>\n",
        "      <td> 0</td>\n",
        "      <td>...</td>\n",
        "      <td> 0</td>\n",
        "      <td> 0</td>\n",
        "      <td> 0</td>\n",
        "      <td> 0</td>\n",
        "      <td> 0</td>\n",
        "      <td> 1</td>\n",
        "      <td> 0</td>\n",
        "      <td> 0</td>\n",
        "      <td> 0</td>\n",
        "      <td> 0</td>\n",
        "    </tr>\n",
        "    <tr>\n",
        "      <th>24  </th>\n",
        "      <td>       doaa.khattab@gmail.com</td>\n",
        "      <td> 2015-12-17</td>\n",
        "      <td> 0</td>\n",
        "      <td> 0</td>\n",
        "      <td> 1</td>\n",
        "      <td> 0</td>\n",
        "      <td> 0</td>\n",
        "      <td> 0</td>\n",
        "      <td> 0</td>\n",
        "      <td> 0</td>\n",
        "      <td>...</td>\n",
        "      <td> 0</td>\n",
        "      <td> 0</td>\n",
        "      <td> 0</td>\n",
        "      <td> 0</td>\n",
        "      <td> 0</td>\n",
        "      <td> 1</td>\n",
        "      <td> 0</td>\n",
        "      <td> 0</td>\n",
        "      <td> 0</td>\n",
        "      <td> 0</td>\n",
        "    </tr>\n",
        "    <tr>\n",
        "      <th>25  </th>\n",
        "      <td>       sunset_456@hotmail.com</td>\n",
        "      <td> 2015-12-17</td>\n",
        "      <td> 0</td>\n",
        "      <td> 0</td>\n",
        "      <td> 1</td>\n",
        "      <td> 0</td>\n",
        "      <td> 0</td>\n",
        "      <td> 0</td>\n",
        "      <td> 0</td>\n",
        "      <td> 0</td>\n",
        "      <td>...</td>\n",
        "      <td> 0</td>\n",
        "      <td> 0</td>\n",
        "      <td> 0</td>\n",
        "      <td> 0</td>\n",
        "      <td> 1</td>\n",
        "      <td> 0</td>\n",
        "      <td> 0</td>\n",
        "      <td> 0</td>\n",
        "      <td> 0</td>\n",
        "      <td> 0</td>\n",
        "    </tr>\n",
        "    <tr>\n",
        "      <th>26  </th>\n",
        "      <td>   colleen_lovely@hotmail.com</td>\n",
        "      <td> 2015-12-17</td>\n",
        "      <td> 0</td>\n",
        "      <td> 0</td>\n",
        "      <td> 1</td>\n",
        "      <td> 0</td>\n",
        "      <td> 0</td>\n",
        "      <td> 0</td>\n",
        "      <td> 0</td>\n",
        "      <td> 0</td>\n",
        "      <td>...</td>\n",
        "      <td> 0</td>\n",
        "      <td> 0</td>\n",
        "      <td> 0</td>\n",
        "      <td> 0</td>\n",
        "      <td> 1</td>\n",
        "      <td> 0</td>\n",
        "      <td> 0</td>\n",
        "      <td> 0</td>\n",
        "      <td> 0</td>\n",
        "      <td> 0</td>\n",
        "    </tr>\n",
        "    <tr>\n",
        "      <th>27  </th>\n",
        "      <td>             imrhazi@yahoo.fr</td>\n",
        "      <td> 2015-12-17</td>\n",
        "      <td> 0</td>\n",
        "      <td> 0</td>\n",
        "      <td> 1</td>\n",
        "      <td> 0</td>\n",
        "      <td> 0</td>\n",
        "      <td> 0</td>\n",
        "      <td> 0</td>\n",
        "      <td> 0</td>\n",
        "      <td>...</td>\n",
        "      <td> 0</td>\n",
        "      <td> 0</td>\n",
        "      <td> 0</td>\n",
        "      <td> 0</td>\n",
        "      <td> 1</td>\n",
        "      <td> 0</td>\n",
        "      <td> 0</td>\n",
        "      <td> 0</td>\n",
        "      <td> 0</td>\n",
        "      <td> 0</td>\n",
        "    </tr>\n",
        "    <tr>\n",
        "      <th>28  </th>\n",
        "      <td>    nadyagamaleldin@gmail.com</td>\n",
        "      <td> 2015-12-17</td>\n",
        "      <td> 0</td>\n",
        "      <td> 0</td>\n",
        "      <td> 1</td>\n",
        "      <td> 0</td>\n",
        "      <td> 0</td>\n",
        "      <td> 0</td>\n",
        "      <td> 0</td>\n",
        "      <td> 0</td>\n",
        "      <td>...</td>\n",
        "      <td> 0</td>\n",
        "      <td> 0</td>\n",
        "      <td> 0</td>\n",
        "      <td> 0</td>\n",
        "      <td> 1</td>\n",
        "      <td> 0</td>\n",
        "      <td> 0</td>\n",
        "      <td> 0</td>\n",
        "      <td> 0</td>\n",
        "      <td> 0</td>\n",
        "    </tr>\n",
        "    <tr>\n",
        "      <th>29  </th>\n",
        "      <td>          engywasfy@gmail.com</td>\n",
        "      <td> 2015-12-17</td>\n",
        "      <td> 0</td>\n",
        "      <td> 0</td>\n",
        "      <td> 1</td>\n",
        "      <td> 0</td>\n",
        "      <td> 0</td>\n",
        "      <td> 0</td>\n",
        "      <td> 0</td>\n",
        "      <td> 0</td>\n",
        "      <td>...</td>\n",
        "      <td> 0</td>\n",
        "      <td> 0</td>\n",
        "      <td> 0</td>\n",
        "      <td> 0</td>\n",
        "      <td> 1</td>\n",
        "      <td> 0</td>\n",
        "      <td> 0</td>\n",
        "      <td> 0</td>\n",
        "      <td> 0</td>\n",
        "      <td> 0</td>\n",
        "    </tr>\n",
        "    <tr>\n",
        "      <th>...</th>\n",
        "      <td>...</td>\n",
        "      <td>...</td>\n",
        "      <td>...</td>\n",
        "      <td>...</td>\n",
        "      <td>...</td>\n",
        "      <td>...</td>\n",
        "      <td>...</td>\n",
        "      <td>...</td>\n",
        "      <td>...</td>\n",
        "      <td>...</td>\n",
        "      <td>...</td>\n",
        "      <td>...</td>\n",
        "      <td>...</td>\n",
        "      <td>...</td>\n",
        "      <td>...</td>\n",
        "      <td>...</td>\n",
        "      <td>...</td>\n",
        "      <td>...</td>\n",
        "      <td>...</td>\n",
        "      <td>...</td>\n",
        "      <td>...</td>\n",
        "    </tr>\n",
        "    <tr>\n",
        "      <th>8639</th>\n",
        "      <td>     faridahelmyiba@gmail.com</td>\n",
        "      <td> 2012-07-05</td>\n",
        "      <td> 0</td>\n",
        "      <td> 1</td>\n",
        "      <td> 0</td>\n",
        "      <td> 0</td>\n",
        "      <td> 0</td>\n",
        "      <td> 0</td>\n",
        "      <td> 0</td>\n",
        "      <td> 0</td>\n",
        "      <td>...</td>\n",
        "      <td> 0</td>\n",
        "      <td> 0</td>\n",
        "      <td> 0</td>\n",
        "      <td> 0</td>\n",
        "      <td> 0</td>\n",
        "      <td> 0</td>\n",
        "      <td> 0</td>\n",
        "      <td> 0</td>\n",
        "      <td> 1</td>\n",
        "      <td> 0</td>\n",
        "    </tr>\n",
        "    <tr>\n",
        "      <th>8640</th>\n",
        "      <td>       mireilleamin@yahoo.com</td>\n",
        "      <td> 2012-07-05</td>\n",
        "      <td> 0</td>\n",
        "      <td> 1</td>\n",
        "      <td> 0</td>\n",
        "      <td> 0</td>\n",
        "      <td> 0</td>\n",
        "      <td> 0</td>\n",
        "      <td> 0</td>\n",
        "      <td> 0</td>\n",
        "      <td>...</td>\n",
        "      <td> 0</td>\n",
        "      <td> 0</td>\n",
        "      <td> 0</td>\n",
        "      <td> 0</td>\n",
        "      <td> 0</td>\n",
        "      <td> 0</td>\n",
        "      <td> 0</td>\n",
        "      <td> 1</td>\n",
        "      <td> 0</td>\n",
        "      <td> 0</td>\n",
        "    </tr>\n",
        "    <tr>\n",
        "      <th>8641</th>\n",
        "      <td>   Ihab.derias@laroche.com.eg</td>\n",
        "      <td> 2012-07-05</td>\n",
        "      <td> 0</td>\n",
        "      <td> 1</td>\n",
        "      <td> 0</td>\n",
        "      <td> 0</td>\n",
        "      <td> 0</td>\n",
        "      <td> 0</td>\n",
        "      <td> 0</td>\n",
        "      <td> 0</td>\n",
        "      <td>...</td>\n",
        "      <td> 0</td>\n",
        "      <td> 0</td>\n",
        "      <td> 0</td>\n",
        "      <td> 0</td>\n",
        "      <td> 0</td>\n",
        "      <td> 0</td>\n",
        "      <td> 0</td>\n",
        "      <td> 1</td>\n",
        "      <td> 0</td>\n",
        "      <td> 0</td>\n",
        "    </tr>\n",
        "    <tr>\n",
        "      <th>8642</th>\n",
        "      <td>         Adhamada@hotmail.com</td>\n",
        "      <td> 2012-07-05</td>\n",
        "      <td> 0</td>\n",
        "      <td> 1</td>\n",
        "      <td> 0</td>\n",
        "      <td> 0</td>\n",
        "      <td> 0</td>\n",
        "      <td> 0</td>\n",
        "      <td> 0</td>\n",
        "      <td> 0</td>\n",
        "      <td>...</td>\n",
        "      <td> 0</td>\n",
        "      <td> 0</td>\n",
        "      <td> 0</td>\n",
        "      <td> 0</td>\n",
        "      <td> 0</td>\n",
        "      <td> 0</td>\n",
        "      <td> 0</td>\n",
        "      <td> 1</td>\n",
        "      <td> 0</td>\n",
        "      <td> 0</td>\n",
        "    </tr>\n",
        "    <tr>\n",
        "      <th>8643</th>\n",
        "      <td>     houssam.elokda@gmail.com</td>\n",
        "      <td> 2012-07-05</td>\n",
        "      <td> 0</td>\n",
        "      <td> 1</td>\n",
        "      <td> 0</td>\n",
        "      <td> 0</td>\n",
        "      <td> 0</td>\n",
        "      <td> 0</td>\n",
        "      <td> 0</td>\n",
        "      <td> 0</td>\n",
        "      <td>...</td>\n",
        "      <td> 0</td>\n",
        "      <td> 0</td>\n",
        "      <td> 0</td>\n",
        "      <td> 0</td>\n",
        "      <td> 0</td>\n",
        "      <td> 0</td>\n",
        "      <td> 0</td>\n",
        "      <td> 1</td>\n",
        "      <td> 0</td>\n",
        "      <td> 0</td>\n",
        "    </tr>\n",
        "    <tr>\n",
        "      <th>8644</th>\n",
        "      <td>          Hania7894@gmail.com</td>\n",
        "      <td> 2012-07-05</td>\n",
        "      <td> 0</td>\n",
        "      <td> 1</td>\n",
        "      <td> 0</td>\n",
        "      <td> 0</td>\n",
        "      <td> 0</td>\n",
        "      <td> 0</td>\n",
        "      <td> 0</td>\n",
        "      <td> 0</td>\n",
        "      <td>...</td>\n",
        "      <td> 0</td>\n",
        "      <td> 0</td>\n",
        "      <td> 0</td>\n",
        "      <td> 0</td>\n",
        "      <td> 0</td>\n",
        "      <td> 1</td>\n",
        "      <td> 0</td>\n",
        "      <td> 0</td>\n",
        "      <td> 0</td>\n",
        "      <td> 0</td>\n",
        "    </tr>\n",
        "    <tr>\n",
        "      <th>8645</th>\n",
        "      <td>          Hania7894@gmail.com</td>\n",
        "      <td> 2012-07-05</td>\n",
        "      <td> 0</td>\n",
        "      <td> 1</td>\n",
        "      <td> 0</td>\n",
        "      <td> 0</td>\n",
        "      <td> 0</td>\n",
        "      <td> 0</td>\n",
        "      <td> 0</td>\n",
        "      <td> 0</td>\n",
        "      <td>...</td>\n",
        "      <td> 0</td>\n",
        "      <td> 0</td>\n",
        "      <td> 0</td>\n",
        "      <td> 0</td>\n",
        "      <td> 1</td>\n",
        "      <td> 0</td>\n",
        "      <td> 0</td>\n",
        "      <td> 0</td>\n",
        "      <td> 0</td>\n",
        "      <td> 0</td>\n",
        "    </tr>\n",
        "    <tr>\n",
        "      <th>8646</th>\n",
        "      <td>            Mamazzz@gmail.com</td>\n",
        "      <td> 2012-07-05</td>\n",
        "      <td> 1</td>\n",
        "      <td> 0</td>\n",
        "      <td> 0</td>\n",
        "      <td> 0</td>\n",
        "      <td> 0</td>\n",
        "      <td> 0</td>\n",
        "      <td> 0</td>\n",
        "      <td> 0</td>\n",
        "      <td>...</td>\n",
        "      <td> 0</td>\n",
        "      <td> 0</td>\n",
        "      <td> 0</td>\n",
        "      <td> 0</td>\n",
        "      <td> 0</td>\n",
        "      <td> 0</td>\n",
        "      <td> 0</td>\n",
        "      <td> 0</td>\n",
        "      <td> 1</td>\n",
        "      <td> 0</td>\n",
        "    </tr>\n",
        "    <tr>\n",
        "      <th>8647</th>\n",
        "      <td>            asony11@yahoo.com</td>\n",
        "      <td> 2012-07-05</td>\n",
        "      <td> 1</td>\n",
        "      <td> 0</td>\n",
        "      <td> 0</td>\n",
        "      <td> 0</td>\n",
        "      <td> 0</td>\n",
        "      <td> 0</td>\n",
        "      <td> 0</td>\n",
        "      <td> 0</td>\n",
        "      <td>...</td>\n",
        "      <td> 0</td>\n",
        "      <td> 0</td>\n",
        "      <td> 0</td>\n",
        "      <td> 0</td>\n",
        "      <td> 0</td>\n",
        "      <td> 0</td>\n",
        "      <td> 0</td>\n",
        "      <td> 1</td>\n",
        "      <td> 0</td>\n",
        "      <td> 0</td>\n",
        "    </tr>\n",
        "    <tr>\n",
        "      <th>8648</th>\n",
        "      <td>      salwa_saiid@hotmail.com</td>\n",
        "      <td> 2012-07-05</td>\n",
        "      <td> 1</td>\n",
        "      <td> 0</td>\n",
        "      <td> 0</td>\n",
        "      <td> 0</td>\n",
        "      <td> 0</td>\n",
        "      <td> 0</td>\n",
        "      <td> 0</td>\n",
        "      <td> 0</td>\n",
        "      <td>...</td>\n",
        "      <td> 0</td>\n",
        "      <td> 0</td>\n",
        "      <td> 0</td>\n",
        "      <td> 0</td>\n",
        "      <td> 0</td>\n",
        "      <td> 0</td>\n",
        "      <td> 1</td>\n",
        "      <td> 0</td>\n",
        "      <td> 0</td>\n",
        "      <td> 0</td>\n",
        "    </tr>\n",
        "    <tr>\n",
        "      <th>8649</th>\n",
        "      <td> djamila.benderbous@gmail.com</td>\n",
        "      <td> 2012-07-05</td>\n",
        "      <td> 0</td>\n",
        "      <td> 0</td>\n",
        "      <td> 0</td>\n",
        "      <td> 0</td>\n",
        "      <td> 0</td>\n",
        "      <td> 0</td>\n",
        "      <td> 1</td>\n",
        "      <td> 0</td>\n",
        "      <td>...</td>\n",
        "      <td> 0</td>\n",
        "      <td> 0</td>\n",
        "      <td> 0</td>\n",
        "      <td> 0</td>\n",
        "      <td> 0</td>\n",
        "      <td> 0</td>\n",
        "      <td> 0</td>\n",
        "      <td> 1</td>\n",
        "      <td> 0</td>\n",
        "      <td> 0</td>\n",
        "    </tr>\n",
        "    <tr>\n",
        "      <th>8650</th>\n",
        "      <td>     raghebelgammal@yahoo.com</td>\n",
        "      <td>       None</td>\n",
        "      <td> 0</td>\n",
        "      <td> 0</td>\n",
        "      <td> 0</td>\n",
        "      <td> 0</td>\n",
        "      <td> 1</td>\n",
        "      <td> 0</td>\n",
        "      <td> 0</td>\n",
        "      <td> 0</td>\n",
        "      <td>...</td>\n",
        "      <td> 0</td>\n",
        "      <td> 0</td>\n",
        "      <td> 0</td>\n",
        "      <td> 0</td>\n",
        "      <td> 0</td>\n",
        "      <td> 1</td>\n",
        "      <td> 0</td>\n",
        "      <td> 0</td>\n",
        "      <td> 0</td>\n",
        "      <td> 0</td>\n",
        "    </tr>\n",
        "    <tr>\n",
        "      <th>8651</th>\n",
        "      <td>      t_el_gammal@hotmail.com</td>\n",
        "      <td> 2012-06-28</td>\n",
        "      <td> 0</td>\n",
        "      <td> 0</td>\n",
        "      <td> 0</td>\n",
        "      <td> 1</td>\n",
        "      <td> 0</td>\n",
        "      <td> 0</td>\n",
        "      <td> 0</td>\n",
        "      <td> 0</td>\n",
        "      <td>...</td>\n",
        "      <td> 0</td>\n",
        "      <td> 0</td>\n",
        "      <td> 0</td>\n",
        "      <td> 0</td>\n",
        "      <td> 0</td>\n",
        "      <td> 1</td>\n",
        "      <td> 0</td>\n",
        "      <td> 0</td>\n",
        "      <td> 0</td>\n",
        "      <td> 0</td>\n",
        "    </tr>\n",
        "    <tr>\n",
        "      <th>8652</th>\n",
        "      <td>       lik-novikova@yandex.ru</td>\n",
        "      <td> 2012-06-28</td>\n",
        "      <td> 1</td>\n",
        "      <td> 0</td>\n",
        "      <td> 0</td>\n",
        "      <td> 0</td>\n",
        "      <td> 0</td>\n",
        "      <td> 0</td>\n",
        "      <td> 0</td>\n",
        "      <td> 0</td>\n",
        "      <td>...</td>\n",
        "      <td> 0</td>\n",
        "      <td> 0</td>\n",
        "      <td> 0</td>\n",
        "      <td> 0</td>\n",
        "      <td> 0</td>\n",
        "      <td> 1</td>\n",
        "      <td> 0</td>\n",
        "      <td> 0</td>\n",
        "      <td> 0</td>\n",
        "      <td> 0</td>\n",
        "    </tr>\n",
        "    <tr>\n",
        "      <th>8653</th>\n",
        "      <td>        fairymaid82@yahoo.com</td>\n",
        "      <td> 2012-06-07</td>\n",
        "      <td> 0</td>\n",
        "      <td> 0</td>\n",
        "      <td> 0</td>\n",
        "      <td> 1</td>\n",
        "      <td> 0</td>\n",
        "      <td> 0</td>\n",
        "      <td> 0</td>\n",
        "      <td> 0</td>\n",
        "      <td>...</td>\n",
        "      <td> 0</td>\n",
        "      <td> 1</td>\n",
        "      <td> 0</td>\n",
        "      <td> 0</td>\n",
        "      <td> 0</td>\n",
        "      <td> 0</td>\n",
        "      <td> 0</td>\n",
        "      <td> 0</td>\n",
        "      <td> 0</td>\n",
        "      <td> 0</td>\n",
        "    </tr>\n",
        "    <tr>\n",
        "      <th>8654</th>\n",
        "      <td>      milomilogindi@yahoo.com</td>\n",
        "      <td> 2012-05-31</td>\n",
        "      <td> 0</td>\n",
        "      <td> 0</td>\n",
        "      <td> 0</td>\n",
        "      <td> 1</td>\n",
        "      <td> 0</td>\n",
        "      <td> 0</td>\n",
        "      <td> 0</td>\n",
        "      <td> 0</td>\n",
        "      <td>...</td>\n",
        "      <td> 0</td>\n",
        "      <td> 0</td>\n",
        "      <td> 0</td>\n",
        "      <td> 0</td>\n",
        "      <td> 0</td>\n",
        "      <td> 0</td>\n",
        "      <td> 0</td>\n",
        "      <td> 0</td>\n",
        "      <td> 0</td>\n",
        "      <td> 1</td>\n",
        "    </tr>\n",
        "    <tr>\n",
        "      <th>8655</th>\n",
        "      <td>      t_el_gammal@hotmail.com</td>\n",
        "      <td> 2012-05-31</td>\n",
        "      <td> 0</td>\n",
        "      <td> 0</td>\n",
        "      <td> 0</td>\n",
        "      <td> 1</td>\n",
        "      <td> 0</td>\n",
        "      <td> 0</td>\n",
        "      <td> 0</td>\n",
        "      <td> 0</td>\n",
        "      <td>...</td>\n",
        "      <td> 0</td>\n",
        "      <td> 0</td>\n",
        "      <td> 0</td>\n",
        "      <td> 0</td>\n",
        "      <td> 0</td>\n",
        "      <td> 0</td>\n",
        "      <td> 0</td>\n",
        "      <td> 0</td>\n",
        "      <td> 1</td>\n",
        "      <td> 0</td>\n",
        "    </tr>\n",
        "    <tr>\n",
        "      <th>8656</th>\n",
        "      <td>      t_el_gammal@hotmail.com</td>\n",
        "      <td> 2012-05-24</td>\n",
        "      <td> 0</td>\n",
        "      <td> 0</td>\n",
        "      <td> 1</td>\n",
        "      <td> 0</td>\n",
        "      <td> 0</td>\n",
        "      <td> 0</td>\n",
        "      <td> 0</td>\n",
        "      <td> 0</td>\n",
        "      <td>...</td>\n",
        "      <td> 0</td>\n",
        "      <td> 0</td>\n",
        "      <td> 0</td>\n",
        "      <td> 0</td>\n",
        "      <td> 0</td>\n",
        "      <td> 0</td>\n",
        "      <td> 0</td>\n",
        "      <td> 0</td>\n",
        "      <td> 0</td>\n",
        "      <td> 0</td>\n",
        "    </tr>\n",
        "    <tr>\n",
        "      <th>8657</th>\n",
        "      <td>       lik-novikova@yandex.ru</td>\n",
        "      <td> 2012-05-24</td>\n",
        "      <td> 1</td>\n",
        "      <td> 0</td>\n",
        "      <td> 0</td>\n",
        "      <td> 0</td>\n",
        "      <td> 0</td>\n",
        "      <td> 0</td>\n",
        "      <td> 0</td>\n",
        "      <td> 0</td>\n",
        "      <td>...</td>\n",
        "      <td> 0</td>\n",
        "      <td> 0</td>\n",
        "      <td> 0</td>\n",
        "      <td> 0</td>\n",
        "      <td> 0</td>\n",
        "      <td> 0</td>\n",
        "      <td> 0</td>\n",
        "      <td> 1</td>\n",
        "      <td> 0</td>\n",
        "      <td> 0</td>\n",
        "    </tr>\n",
        "    <tr>\n",
        "      <th>8658</th>\n",
        "      <td>             Biro5s@yahoo.com</td>\n",
        "      <td> 2012-05-24</td>\n",
        "      <td> 0</td>\n",
        "      <td> 0</td>\n",
        "      <td> 0</td>\n",
        "      <td> 0</td>\n",
        "      <td> 0</td>\n",
        "      <td> 1</td>\n",
        "      <td> 0</td>\n",
        "      <td> 0</td>\n",
        "      <td>...</td>\n",
        "      <td> 0</td>\n",
        "      <td> 0</td>\n",
        "      <td> 0</td>\n",
        "      <td> 0</td>\n",
        "      <td> 0</td>\n",
        "      <td> 0</td>\n",
        "      <td> 0</td>\n",
        "      <td> 1</td>\n",
        "      <td> 0</td>\n",
        "      <td> 0</td>\n",
        "    </tr>\n",
        "    <tr>\n",
        "      <th>8659</th>\n",
        "      <td>         nini.etoile@voila.fr</td>\n",
        "      <td> 2012-05-17</td>\n",
        "      <td> 0</td>\n",
        "      <td> 1</td>\n",
        "      <td> 0</td>\n",
        "      <td> 0</td>\n",
        "      <td> 0</td>\n",
        "      <td> 0</td>\n",
        "      <td> 0</td>\n",
        "      <td> 0</td>\n",
        "      <td>...</td>\n",
        "      <td> 0</td>\n",
        "      <td> 0</td>\n",
        "      <td> 0</td>\n",
        "      <td> 0</td>\n",
        "      <td> 0</td>\n",
        "      <td> 0</td>\n",
        "      <td> 1</td>\n",
        "      <td> 0</td>\n",
        "      <td> 0</td>\n",
        "      <td> 0</td>\n",
        "    </tr>\n",
        "    <tr>\n",
        "      <th>8660</th>\n",
        "      <td>       lik-novikova@yandex.ru</td>\n",
        "      <td> 2012-05-17</td>\n",
        "      <td> 0</td>\n",
        "      <td> 1</td>\n",
        "      <td> 0</td>\n",
        "      <td> 0</td>\n",
        "      <td> 0</td>\n",
        "      <td> 0</td>\n",
        "      <td> 0</td>\n",
        "      <td> 0</td>\n",
        "      <td>...</td>\n",
        "      <td> 0</td>\n",
        "      <td> 0</td>\n",
        "      <td> 0</td>\n",
        "      <td> 0</td>\n",
        "      <td> 0</td>\n",
        "      <td> 0</td>\n",
        "      <td> 1</td>\n",
        "      <td> 0</td>\n",
        "      <td> 0</td>\n",
        "      <td> 0</td>\n",
        "    </tr>\n",
        "    <tr>\n",
        "      <th>8661</th>\n",
        "      <td>          bettyhedrich@gmx.de</td>\n",
        "      <td> 2012-05-17</td>\n",
        "      <td> 0</td>\n",
        "      <td> 0</td>\n",
        "      <td> 0</td>\n",
        "      <td> 0</td>\n",
        "      <td> 0</td>\n",
        "      <td> 1</td>\n",
        "      <td> 0</td>\n",
        "      <td> 0</td>\n",
        "      <td>...</td>\n",
        "      <td> 0</td>\n",
        "      <td> 0</td>\n",
        "      <td> 0</td>\n",
        "      <td> 0</td>\n",
        "      <td> 0</td>\n",
        "      <td> 0</td>\n",
        "      <td> 0</td>\n",
        "      <td> 1</td>\n",
        "      <td> 0</td>\n",
        "      <td> 0</td>\n",
        "    </tr>\n",
        "    <tr>\n",
        "      <th>8662</th>\n",
        "      <td>                rulah@msn.com</td>\n",
        "      <td>       None</td>\n",
        "      <td> 0</td>\n",
        "      <td> 0</td>\n",
        "      <td> 0</td>\n",
        "      <td> 0</td>\n",
        "      <td> 1</td>\n",
        "      <td> 0</td>\n",
        "      <td> 0</td>\n",
        "      <td> 0</td>\n",
        "      <td>...</td>\n",
        "      <td> 0</td>\n",
        "      <td> 0</td>\n",
        "      <td> 0</td>\n",
        "      <td> 0</td>\n",
        "      <td> 0</td>\n",
        "      <td> 0</td>\n",
        "      <td> 0</td>\n",
        "      <td> 1</td>\n",
        "      <td> 0</td>\n",
        "      <td> 0</td>\n",
        "    </tr>\n",
        "    <tr>\n",
        "      <th>8663</th>\n",
        "      <td>          milda_b@hotmail.com</td>\n",
        "      <td> 2012-05-03</td>\n",
        "      <td> 0</td>\n",
        "      <td> 0</td>\n",
        "      <td> 1</td>\n",
        "      <td> 0</td>\n",
        "      <td> 0</td>\n",
        "      <td> 0</td>\n",
        "      <td> 0</td>\n",
        "      <td> 0</td>\n",
        "      <td>...</td>\n",
        "      <td> 0</td>\n",
        "      <td> 0</td>\n",
        "      <td> 0</td>\n",
        "      <td> 0</td>\n",
        "      <td> 1</td>\n",
        "      <td> 0</td>\n",
        "      <td> 0</td>\n",
        "      <td> 0</td>\n",
        "      <td> 0</td>\n",
        "      <td> 0</td>\n",
        "    </tr>\n",
        "    <tr>\n",
        "      <th>8664</th>\n",
        "      <td>          bente.ring@yahoo.no</td>\n",
        "      <td> 2012-05-03</td>\n",
        "      <td> 0</td>\n",
        "      <td> 0</td>\n",
        "      <td> 1</td>\n",
        "      <td> 0</td>\n",
        "      <td> 0</td>\n",
        "      <td> 0</td>\n",
        "      <td> 0</td>\n",
        "      <td> 0</td>\n",
        "      <td>...</td>\n",
        "      <td> 0</td>\n",
        "      <td> 0</td>\n",
        "      <td> 0</td>\n",
        "      <td> 0</td>\n",
        "      <td> 1</td>\n",
        "      <td> 0</td>\n",
        "      <td> 0</td>\n",
        "      <td> 0</td>\n",
        "      <td> 0</td>\n",
        "      <td> 0</td>\n",
        "    </tr>\n",
        "    <tr>\n",
        "      <th>8665</th>\n",
        "      <td>          bente.ring@yahoo.no</td>\n",
        "      <td> 2012-05-03</td>\n",
        "      <td> 0</td>\n",
        "      <td> 1</td>\n",
        "      <td> 0</td>\n",
        "      <td> 0</td>\n",
        "      <td> 0</td>\n",
        "      <td> 0</td>\n",
        "      <td> 0</td>\n",
        "      <td> 0</td>\n",
        "      <td>...</td>\n",
        "      <td> 0</td>\n",
        "      <td> 0</td>\n",
        "      <td> 0</td>\n",
        "      <td> 1</td>\n",
        "      <td> 0</td>\n",
        "      <td> 0</td>\n",
        "      <td> 0</td>\n",
        "      <td> 0</td>\n",
        "      <td> 0</td>\n",
        "      <td> 0</td>\n",
        "    </tr>\n",
        "    <tr>\n",
        "      <th>8666</th>\n",
        "      <td>       lik-novikova@yandex.ru</td>\n",
        "      <td>       None</td>\n",
        "      <td> 0</td>\n",
        "      <td> 0</td>\n",
        "      <td> 0</td>\n",
        "      <td> 0</td>\n",
        "      <td> 1</td>\n",
        "      <td> 0</td>\n",
        "      <td> 0</td>\n",
        "      <td> 0</td>\n",
        "      <td>...</td>\n",
        "      <td> 0</td>\n",
        "      <td> 0</td>\n",
        "      <td> 0</td>\n",
        "      <td> 1</td>\n",
        "      <td> 0</td>\n",
        "      <td> 0</td>\n",
        "      <td> 0</td>\n",
        "      <td> 0</td>\n",
        "      <td> 0</td>\n",
        "      <td> 0</td>\n",
        "    </tr>\n",
        "    <tr>\n",
        "      <th>8667</th>\n",
        "      <td>          bente.ring@yahoo.no</td>\n",
        "      <td> 2012-04-26</td>\n",
        "      <td> 0</td>\n",
        "      <td> 0</td>\n",
        "      <td> 0</td>\n",
        "      <td> 1</td>\n",
        "      <td> 0</td>\n",
        "      <td> 0</td>\n",
        "      <td> 0</td>\n",
        "      <td> 0</td>\n",
        "      <td>...</td>\n",
        "      <td> 0</td>\n",
        "      <td> 0</td>\n",
        "      <td> 0</td>\n",
        "      <td> 0</td>\n",
        "      <td> 0</td>\n",
        "      <td> 0</td>\n",
        "      <td> 1</td>\n",
        "      <td> 0</td>\n",
        "      <td> 0</td>\n",
        "      <td> 0</td>\n",
        "    </tr>\n",
        "    <tr>\n",
        "      <th>8668</th>\n",
        "      <td>         cathypod@hotmail.com</td>\n",
        "      <td> 2012-04-26</td>\n",
        "      <td> 0</td>\n",
        "      <td> 0</td>\n",
        "      <td> 1</td>\n",
        "      <td> 0</td>\n",
        "      <td> 0</td>\n",
        "      <td> 0</td>\n",
        "      <td> 0</td>\n",
        "      <td> 0</td>\n",
        "      <td>...</td>\n",
        "      <td> 0</td>\n",
        "      <td> 0</td>\n",
        "      <td> 0</td>\n",
        "      <td> 0</td>\n",
        "      <td> 0</td>\n",
        "      <td> 0</td>\n",
        "      <td> 0</td>\n",
        "      <td> 0</td>\n",
        "      <td> 0</td>\n",
        "      <td> 1</td>\n",
        "    </tr>\n",
        "  </tbody>\n",
        "</table>\n",
        "<p>8669 rows \u00d7 21 columns</p>\n",
        "</div>"
       ],
       "metadata": {},
       "output_type": "pyout",
       "prompt_number": 10,
       "text": [
        "                             Email        Date  Sunday  Monday  Tuesday  \\\n",
        "0           rehabmansour@gmail.com  2015-12-17       0       0        0   \n",
        "1              nabouheif@yahoo.com  2015-12-17       0       0        0   \n",
        "2           fracicardi@hotmail.com  2015-12-17       0       0        0   \n",
        "3           ahmed.fakhry@gmail.com  2015-12-17       0       0        0   \n",
        "4             Missilou11@yahoo.com  2015-12-17       0       0        0   \n",
        "5          sallysalem123@gmail.com  2015-12-17       0       0        0   \n",
        "6         nayera_fadel@hotmail.com  2015-12-17       0       0        0   \n",
        "7            raoufzdn553@gmail.com  2015-12-17       0       0        0   \n",
        "8           gaylynmbogho@yahoo.com  2015-12-17       0       0        0   \n",
        "9             oshahavi13@gmail.com  2015-12-17       0       0        0   \n",
        "10            Daiieldeeb@gmail.com  2015-12-17       0       0        0   \n",
        "11             yara.azam@gmail.com  2015-12-17       0       0        0   \n",
        "12           dalia_allam@yahoo.com  2015-12-17       0       0        0   \n",
        "13           elhanem52@hotmail.com  2015-12-17       0       0        0   \n",
        "14        tarek_seddik@hotmail.com  2015-12-17       0       0        0   \n",
        "15         maie.nomrossy@gmail.com  2015-12-17       0       0        0   \n",
        "16           hazem.shamy@gmail.com  2015-12-17       0       0        0   \n",
        "17          maya.p.nawal@gmail.com  2015-12-17       0       0        1   \n",
        "18       jamesmorgan0091@gmail.com  2015-12-17       0       0        1   \n",
        "19            israa_s@aucegypt.edu  2015-12-17       0       0        1   \n",
        "20          RODY.DOVE123@GMAIL.COM  2015-12-17       0       0        1   \n",
        "21          amaghraby@mediawave.me  2015-12-17       0       0        1   \n",
        "22             hibba_b@hotmail.com  2015-12-17       0       0        1   \n",
        "23          pascalenader@gmail.com  2015-12-17       0       0        1   \n",
        "24          doaa.khattab@gmail.com  2015-12-17       0       0        1   \n",
        "25          sunset_456@hotmail.com  2015-12-17       0       0        1   \n",
        "26      colleen_lovely@hotmail.com  2015-12-17       0       0        1   \n",
        "27                imrhazi@yahoo.fr  2015-12-17       0       0        1   \n",
        "28       nadyagamaleldin@gmail.com  2015-12-17       0       0        1   \n",
        "29             engywasfy@gmail.com  2015-12-17       0       0        1   \n",
        "...                            ...         ...     ...     ...      ...   \n",
        "8639      faridahelmyiba@gmail.com  2012-07-05       0       1        0   \n",
        "8640        mireilleamin@yahoo.com  2012-07-05       0       1        0   \n",
        "8641    Ihab.derias@laroche.com.eg  2012-07-05       0       1        0   \n",
        "8642          Adhamada@hotmail.com  2012-07-05       0       1        0   \n",
        "8643      houssam.elokda@gmail.com  2012-07-05       0       1        0   \n",
        "8644           Hania7894@gmail.com  2012-07-05       0       1        0   \n",
        "8645           Hania7894@gmail.com  2012-07-05       0       1        0   \n",
        "8646             Mamazzz@gmail.com  2012-07-05       1       0        0   \n",
        "8647             asony11@yahoo.com  2012-07-05       1       0        0   \n",
        "8648       salwa_saiid@hotmail.com  2012-07-05       1       0        0   \n",
        "8649  djamila.benderbous@gmail.com  2012-07-05       0       0        0   \n",
        "8650      raghebelgammal@yahoo.com        None       0       0        0   \n",
        "8651       t_el_gammal@hotmail.com  2012-06-28       0       0        0   \n",
        "8652        lik-novikova@yandex.ru  2012-06-28       1       0        0   \n",
        "8653         fairymaid82@yahoo.com  2012-06-07       0       0        0   \n",
        "8654       milomilogindi@yahoo.com  2012-05-31       0       0        0   \n",
        "8655       t_el_gammal@hotmail.com  2012-05-31       0       0        0   \n",
        "8656       t_el_gammal@hotmail.com  2012-05-24       0       0        1   \n",
        "8657        lik-novikova@yandex.ru  2012-05-24       1       0        0   \n",
        "8658              Biro5s@yahoo.com  2012-05-24       0       0        0   \n",
        "8659          nini.etoile@voila.fr  2012-05-17       0       1        0   \n",
        "8660        lik-novikova@yandex.ru  2012-05-17       0       1        0   \n",
        "8661           bettyhedrich@gmx.de  2012-05-17       0       0        0   \n",
        "8662                 rulah@msn.com        None       0       0        0   \n",
        "8663           milda_b@hotmail.com  2012-05-03       0       0        1   \n",
        "8664           bente.ring@yahoo.no  2012-05-03       0       0        1   \n",
        "8665           bente.ring@yahoo.no  2012-05-03       0       1        0   \n",
        "8666        lik-novikova@yandex.ru        None       0       0        0   \n",
        "8667           bente.ring@yahoo.no  2012-04-26       0       0        0   \n",
        "8668          cathypod@hotmail.com  2012-04-26       0       0        1   \n",
        "\n",
        "      Wednesday  Thursday  Friday  Saturday  0 ...  4  6  8  10  12  14  16  \\\n",
        "0             1         0       0         0  0 ...  0  0  0   0   0   0   0   \n",
        "1             1         0       0         0  0 ...  0  0  0   0   0   0   0   \n",
        "2             1         0       0         0  0 ...  0  0  0   0   0   0   0   \n",
        "3             1         0       0         0  0 ...  0  0  0   0   0   0   1   \n",
        "4             1         0       0         0  0 ...  0  0  0   0   0   1   0   \n",
        "5             1         0       0         0  0 ...  0  0  0   0   1   0   0   \n",
        "6             1         0       0         0  0 ...  0  0  0   0   1   0   0   \n",
        "7             1         0       0         0  0 ...  0  0  0   0   1   0   0   \n",
        "8             1         0       0         0  0 ...  0  0  0   0   1   0   0   \n",
        "9             1         0       0         0  0 ...  0  0  0   0   1   0   0   \n",
        "10            1         0       0         0  0 ...  0  0  0   1   0   0   0   \n",
        "11            1         0       0         0  0 ...  0  0  0   1   0   0   0   \n",
        "12            1         0       0         0  0 ...  0  1  0   0   0   0   0   \n",
        "13            1         0       0         0  0 ...  0  1  0   0   0   0   0   \n",
        "14            1         0       0         0  0 ...  0  0  0   0   0   0   0   \n",
        "15            1         0       0         0  1 ...  0  0  0   0   0   0   0   \n",
        "16            1         0       0         0  1 ...  0  0  0   0   0   0   0   \n",
        "17            0         0       0         0  0 ...  0  0  0   0   0   0   0   \n",
        "18            0         0       0         0  0 ...  0  0  0   0   0   0   0   \n",
        "19            0         0       0         0  0 ...  0  0  0   0   0   0   1   \n",
        "20            0         0       0         0  0 ...  0  0  0   0   0   0   1   \n",
        "21            0         0       0         0  0 ...  0  0  0   0   0   0   1   \n",
        "22            0         0       0         0  0 ...  0  0  0   0   0   1   0   \n",
        "23            0         0       0         0  0 ...  0  0  0   0   0   1   0   \n",
        "24            0         0       0         0  0 ...  0  0  0   0   0   1   0   \n",
        "25            0         0       0         0  0 ...  0  0  0   0   1   0   0   \n",
        "26            0         0       0         0  0 ...  0  0  0   0   1   0   0   \n",
        "27            0         0       0         0  0 ...  0  0  0   0   1   0   0   \n",
        "28            0         0       0         0  0 ...  0  0  0   0   1   0   0   \n",
        "29            0         0       0         0  0 ...  0  0  0   0   1   0   0   \n",
        "...         ...       ...     ...       ... .. ... .. .. ..  ..  ..  ..  ..   \n",
        "8639          0         0       0         0  0 ...  0  0  0   0   0   0   0   \n",
        "8640          0         0       0         0  0 ...  0  0  0   0   0   0   0   \n",
        "8641          0         0       0         0  0 ...  0  0  0   0   0   0   0   \n",
        "8642          0         0       0         0  0 ...  0  0  0   0   0   0   0   \n",
        "8643          0         0       0         0  0 ...  0  0  0   0   0   0   0   \n",
        "8644          0         0       0         0  0 ...  0  0  0   0   0   1   0   \n",
        "8645          0         0       0         0  0 ...  0  0  0   0   1   0   0   \n",
        "8646          0         0       0         0  0 ...  0  0  0   0   0   0   0   \n",
        "8647          0         0       0         0  0 ...  0  0  0   0   0   0   0   \n",
        "8648          0         0       0         0  0 ...  0  0  0   0   0   0   1   \n",
        "8649          0         0       0         1  0 ...  0  0  0   0   0   0   0   \n",
        "8650          0         1       0         0  0 ...  0  0  0   0   0   1   0   \n",
        "8651          1         0       0         0  0 ...  0  0  0   0   0   1   0   \n",
        "8652          0         0       0         0  0 ...  0  0  0   0   0   1   0   \n",
        "8653          1         0       0         0  0 ...  0  1  0   0   0   0   0   \n",
        "8654          1         0       0         0  0 ...  0  0  0   0   0   0   0   \n",
        "8655          1         0       0         0  0 ...  0  0  0   0   0   0   0   \n",
        "8656          0         0       0         0  0 ...  0  0  0   0   0   0   0   \n",
        "8657          0         0       0         0  0 ...  0  0  0   0   0   0   0   \n",
        "8658          0         0       1         0  0 ...  0  0  0   0   0   0   0   \n",
        "8659          0         0       0         0  0 ...  0  0  0   0   0   0   1   \n",
        "8660          0         0       0         0  0 ...  0  0  0   0   0   0   1   \n",
        "8661          0         0       1         0  0 ...  0  0  0   0   0   0   0   \n",
        "8662          0         1       0         0  0 ...  0  0  0   0   0   0   0   \n",
        "8663          0         0       0         0  0 ...  0  0  0   0   1   0   0   \n",
        "8664          0         0       0         0  0 ...  0  0  0   0   1   0   0   \n",
        "8665          0         0       0         0  0 ...  0  0  0   1   0   0   0   \n",
        "8666          0         1       0         0  0 ...  0  0  0   1   0   0   0   \n",
        "8667          1         0       0         0  0 ...  0  0  0   0   0   0   1   \n",
        "8668          0         0       0         0  0 ...  0  0  0   0   0   0   0   \n",
        "\n",
        "      18  20  22  \n",
        "0      0   1   0  \n",
        "1      0   1   0  \n",
        "2      1   0   0  \n",
        "3      0   0   0  \n",
        "4      0   0   0  \n",
        "5      0   0   0  \n",
        "6      0   0   0  \n",
        "7      0   0   0  \n",
        "8      0   0   0  \n",
        "9      0   0   0  \n",
        "10     0   0   0  \n",
        "11     0   0   0  \n",
        "12     0   0   0  \n",
        "13     0   0   0  \n",
        "14     0   0   0  \n",
        "15     0   0   0  \n",
        "16     0   0   0  \n",
        "17     0   1   0  \n",
        "18     1   0   0  \n",
        "19     0   0   0  \n",
        "20     0   0   0  \n",
        "21     0   0   0  \n",
        "22     0   0   0  \n",
        "23     0   0   0  \n",
        "24     0   0   0  \n",
        "25     0   0   0  \n",
        "26     0   0   0  \n",
        "27     0   0   0  \n",
        "28     0   0   0  \n",
        "29     0   0   0  \n",
        "...   ..  ..  ..  \n",
        "8639   0   1   0  \n",
        "8640   1   0   0  \n",
        "8641   1   0   0  \n",
        "8642   1   0   0  \n",
        "8643   1   0   0  \n",
        "8644   0   0   0  \n",
        "8645   0   0   0  \n",
        "8646   0   1   0  \n",
        "8647   1   0   0  \n",
        "8648   0   0   0  \n",
        "8649   1   0   0  \n",
        "8650   0   0   0  \n",
        "8651   0   0   0  \n",
        "8652   0   0   0  \n",
        "8653   0   0   0  \n",
        "8654   0   0   1  \n",
        "8655   0   1   0  \n",
        "8656   0   0   0  \n",
        "8657   1   0   0  \n",
        "8658   1   0   0  \n",
        "8659   0   0   0  \n",
        "8660   0   0   0  \n",
        "8661   1   0   0  \n",
        "8662   1   0   0  \n",
        "8663   0   0   0  \n",
        "8664   0   0   0  \n",
        "8665   0   0   0  \n",
        "8666   0   0   0  \n",
        "8667   0   0   0  \n",
        "8668   0   0   1  \n",
        "\n",
        "[8669 rows x 21 columns]"
       ]
      }
     ],
     "prompt_number": 10
    },
    {
     "cell_type": "code",
     "collapsed": false,
     "input": [
      "#count total orders per hours, days\n",
      "df1 = df1.groupby(['Email', 'Date'], axis = 0, as_index=False).sum()\n",
      "\n",
      "#rename columns\n",
      "df1.columns = ['Email', 'Date', 'Sunday', 'Monday', 'Tuesday', 'Wednesday', 'Thursday', 'Friday', 'Saturday', '0:00 - 2:00', '2:00 - 4:00', '4:00 - 6:00', '6:00 - 8:00', '8:00 - 10:00', '10:00 - 12:00', '12:00 - 14:00', '14:00 - 16:00', '16:00 - 18:00', '18:00 - 20:00', '20:00 - 22:00', '22:00 - 0:00']\n",
      "df1"
     ],
     "language": "python",
     "metadata": {},
     "outputs": [
      {
       "html": [
        "<div style=\"max-height:1000px;max-width:1500px;overflow:auto;\">\n",
        "<table border=\"1\" class=\"dataframe\">\n",
        "  <thead>\n",
        "    <tr style=\"text-align: right;\">\n",
        "      <th></th>\n",
        "      <th>Email</th>\n",
        "      <th>Date</th>\n",
        "      <th>Sunday</th>\n",
        "      <th>Monday</th>\n",
        "      <th>Tuesday</th>\n",
        "      <th>Wednesday</th>\n",
        "      <th>Thursday</th>\n",
        "      <th>Friday</th>\n",
        "      <th>Saturday</th>\n",
        "      <th>0:00 - 2:00</th>\n",
        "      <th>...</th>\n",
        "      <th>4:00 - 6:00</th>\n",
        "      <th>6:00 - 8:00</th>\n",
        "      <th>8:00 - 10:00</th>\n",
        "      <th>10:00 - 12:00</th>\n",
        "      <th>12:00 - 14:00</th>\n",
        "      <th>14:00 - 16:00</th>\n",
        "      <th>16:00 - 18:00</th>\n",
        "      <th>18:00 - 20:00</th>\n",
        "      <th>20:00 - 22:00</th>\n",
        "      <th>22:00 - 0:00</th>\n",
        "    </tr>\n",
        "  </thead>\n",
        "  <tbody>\n",
        "    <tr>\n",
        "      <th>0   </th>\n",
        "      <td>        11435mail@mkallenberger.de</td>\n",
        "      <td> 2013-05-23</td>\n",
        "      <td> 1</td>\n",
        "      <td> 0</td>\n",
        "      <td> 0</td>\n",
        "      <td> 0</td>\n",
        "      <td> 0</td>\n",
        "      <td> 0</td>\n",
        "      <td> 0</td>\n",
        "      <td> 0</td>\n",
        "      <td>...</td>\n",
        "      <td> 0</td>\n",
        "      <td> 0</td>\n",
        "      <td> 0</td>\n",
        "      <td> 0</td>\n",
        "      <td> 0</td>\n",
        "      <td> 1</td>\n",
        "      <td> 0</td>\n",
        "      <td> 0</td>\n",
        "      <td> 0</td>\n",
        "      <td> 0</td>\n",
        "    </tr>\n",
        "    <tr>\n",
        "      <th>1   </th>\n",
        "      <td>                     1@gargour.com</td>\n",
        "      <td> 2015-01-01</td>\n",
        "      <td> 0</td>\n",
        "      <td> 0</td>\n",
        "      <td> 0</td>\n",
        "      <td> 0</td>\n",
        "      <td> 0</td>\n",
        "      <td> 0</td>\n",
        "      <td> 1</td>\n",
        "      <td> 0</td>\n",
        "      <td>...</td>\n",
        "      <td> 0</td>\n",
        "      <td> 0</td>\n",
        "      <td> 0</td>\n",
        "      <td> 0</td>\n",
        "      <td> 0</td>\n",
        "      <td> 0</td>\n",
        "      <td> 1</td>\n",
        "      <td> 0</td>\n",
        "      <td> 0</td>\n",
        "      <td> 0</td>\n",
        "    </tr>\n",
        "    <tr>\n",
        "      <th>2   </th>\n",
        "      <td>                     1@gargour.com</td>\n",
        "      <td> 2015-04-02</td>\n",
        "      <td> 0</td>\n",
        "      <td> 0</td>\n",
        "      <td> 1</td>\n",
        "      <td> 0</td>\n",
        "      <td> 0</td>\n",
        "      <td> 0</td>\n",
        "      <td> 0</td>\n",
        "      <td> 0</td>\n",
        "      <td>...</td>\n",
        "      <td> 0</td>\n",
        "      <td> 0</td>\n",
        "      <td> 0</td>\n",
        "      <td> 0</td>\n",
        "      <td> 0</td>\n",
        "      <td> 1</td>\n",
        "      <td> 0</td>\n",
        "      <td> 0</td>\n",
        "      <td> 0</td>\n",
        "      <td> 0</td>\n",
        "    </tr>\n",
        "    <tr>\n",
        "      <th>3   </th>\n",
        "      <td>                 1kttate@gmail.com</td>\n",
        "      <td> 2015-08-06</td>\n",
        "      <td> 1</td>\n",
        "      <td> 0</td>\n",
        "      <td> 0</td>\n",
        "      <td> 0</td>\n",
        "      <td> 0</td>\n",
        "      <td> 0</td>\n",
        "      <td> 0</td>\n",
        "      <td> 0</td>\n",
        "      <td>...</td>\n",
        "      <td> 0</td>\n",
        "      <td> 0</td>\n",
        "      <td> 1</td>\n",
        "      <td> 0</td>\n",
        "      <td> 0</td>\n",
        "      <td> 0</td>\n",
        "      <td> 0</td>\n",
        "      <td> 0</td>\n",
        "      <td> 0</td>\n",
        "      <td> 0</td>\n",
        "    </tr>\n",
        "    <tr>\n",
        "      <th>4   </th>\n",
        "      <td>                 1kttate@gmail.com</td>\n",
        "      <td> 2015-08-13</td>\n",
        "      <td> 0</td>\n",
        "      <td> 1</td>\n",
        "      <td> 0</td>\n",
        "      <td> 0</td>\n",
        "      <td> 0</td>\n",
        "      <td> 0</td>\n",
        "      <td> 0</td>\n",
        "      <td> 0</td>\n",
        "      <td>...</td>\n",
        "      <td> 0</td>\n",
        "      <td> 0</td>\n",
        "      <td> 1</td>\n",
        "      <td> 0</td>\n",
        "      <td> 0</td>\n",
        "      <td> 0</td>\n",
        "      <td> 0</td>\n",
        "      <td> 0</td>\n",
        "      <td> 0</td>\n",
        "      <td> 0</td>\n",
        "    </tr>\n",
        "    <tr>\n",
        "      <th>5   </th>\n",
        "      <td>                 1kttate@gmail.com</td>\n",
        "      <td> 2015-08-27</td>\n",
        "      <td> 0</td>\n",
        "      <td> 1</td>\n",
        "      <td> 0</td>\n",
        "      <td> 0</td>\n",
        "      <td> 0</td>\n",
        "      <td> 0</td>\n",
        "      <td> 0</td>\n",
        "      <td> 0</td>\n",
        "      <td>...</td>\n",
        "      <td> 0</td>\n",
        "      <td> 0</td>\n",
        "      <td> 0</td>\n",
        "      <td> 1</td>\n",
        "      <td> 0</td>\n",
        "      <td> 0</td>\n",
        "      <td> 0</td>\n",
        "      <td> 0</td>\n",
        "      <td> 0</td>\n",
        "      <td> 0</td>\n",
        "    </tr>\n",
        "    <tr>\n",
        "      <th>6   </th>\n",
        "      <td>         1youniqueflower@gmail.com</td>\n",
        "      <td> 2015-08-27</td>\n",
        "      <td> 0</td>\n",
        "      <td> 0</td>\n",
        "      <td> 1</td>\n",
        "      <td> 0</td>\n",
        "      <td> 0</td>\n",
        "      <td> 0</td>\n",
        "      <td> 0</td>\n",
        "      <td> 0</td>\n",
        "      <td>...</td>\n",
        "      <td> 0</td>\n",
        "      <td> 0</td>\n",
        "      <td> 0</td>\n",
        "      <td> 0</td>\n",
        "      <td> 0</td>\n",
        "      <td> 0</td>\n",
        "      <td> 0</td>\n",
        "      <td> 0</td>\n",
        "      <td> 0</td>\n",
        "      <td> 1</td>\n",
        "    </tr>\n",
        "    <tr>\n",
        "      <th>7   </th>\n",
        "      <td>         1youniqueflower@gmail.com</td>\n",
        "      <td> 2015-11-26</td>\n",
        "      <td> 0</td>\n",
        "      <td> 1</td>\n",
        "      <td> 0</td>\n",
        "      <td> 0</td>\n",
        "      <td> 0</td>\n",
        "      <td> 0</td>\n",
        "      <td> 0</td>\n",
        "      <td> 0</td>\n",
        "      <td>...</td>\n",
        "      <td> 0</td>\n",
        "      <td> 0</td>\n",
        "      <td> 0</td>\n",
        "      <td> 0</td>\n",
        "      <td> 1</td>\n",
        "      <td> 0</td>\n",
        "      <td> 0</td>\n",
        "      <td> 0</td>\n",
        "      <td> 0</td>\n",
        "      <td> 0</td>\n",
        "    </tr>\n",
        "    <tr>\n",
        "      <th>8   </th>\n",
        "      <td>                3aliaa.h@gmail.com</td>\n",
        "      <td> 2015-03-12</td>\n",
        "      <td> 1</td>\n",
        "      <td> 0</td>\n",
        "      <td> 0</td>\n",
        "      <td> 0</td>\n",
        "      <td> 0</td>\n",
        "      <td> 1</td>\n",
        "      <td> 0</td>\n",
        "      <td> 0</td>\n",
        "      <td>...</td>\n",
        "      <td> 0</td>\n",
        "      <td> 0</td>\n",
        "      <td> 0</td>\n",
        "      <td> 0</td>\n",
        "      <td> 0</td>\n",
        "      <td> 0</td>\n",
        "      <td> 1</td>\n",
        "      <td> 0</td>\n",
        "      <td> 0</td>\n",
        "      <td> 0</td>\n",
        "    </tr>\n",
        "    <tr>\n",
        "      <th>9   </th>\n",
        "      <td>                3aliaa.h@gmail.com</td>\n",
        "      <td> 2015-04-02</td>\n",
        "      <td> 0</td>\n",
        "      <td> 0</td>\n",
        "      <td> 0</td>\n",
        "      <td> 0</td>\n",
        "      <td> 0</td>\n",
        "      <td> 0</td>\n",
        "      <td> 1</td>\n",
        "      <td> 1</td>\n",
        "      <td>...</td>\n",
        "      <td> 0</td>\n",
        "      <td> 0</td>\n",
        "      <td> 0</td>\n",
        "      <td> 0</td>\n",
        "      <td> 0</td>\n",
        "      <td> 0</td>\n",
        "      <td> 0</td>\n",
        "      <td> 0</td>\n",
        "      <td> 0</td>\n",
        "      <td> 0</td>\n",
        "    </tr>\n",
        "    <tr>\n",
        "      <th>10  </th>\n",
        "      <td>          777nadiateirah@gmail.com</td>\n",
        "      <td> 2015-11-12</td>\n",
        "      <td> 0</td>\n",
        "      <td> 1</td>\n",
        "      <td> 0</td>\n",
        "      <td> 0</td>\n",
        "      <td> 0</td>\n",
        "      <td> 0</td>\n",
        "      <td> 0</td>\n",
        "      <td> 0</td>\n",
        "      <td>...</td>\n",
        "      <td> 0</td>\n",
        "      <td> 0</td>\n",
        "      <td> 0</td>\n",
        "      <td> 0</td>\n",
        "      <td> 1</td>\n",
        "      <td> 0</td>\n",
        "      <td> 0</td>\n",
        "      <td> 0</td>\n",
        "      <td> 0</td>\n",
        "      <td> 0</td>\n",
        "    </tr>\n",
        "    <tr>\n",
        "      <th>11  </th>\n",
        "      <td>          777nadiateirah@gmail.com</td>\n",
        "      <td> 2015-11-19</td>\n",
        "      <td> 0</td>\n",
        "      <td> 0</td>\n",
        "      <td> 0</td>\n",
        "      <td> 0</td>\n",
        "      <td> 0</td>\n",
        "      <td> 0</td>\n",
        "      <td> 1</td>\n",
        "      <td> 0</td>\n",
        "      <td>...</td>\n",
        "      <td> 0</td>\n",
        "      <td> 0</td>\n",
        "      <td> 0</td>\n",
        "      <td> 1</td>\n",
        "      <td> 0</td>\n",
        "      <td> 0</td>\n",
        "      <td> 0</td>\n",
        "      <td> 0</td>\n",
        "      <td> 0</td>\n",
        "      <td> 0</td>\n",
        "    </tr>\n",
        "    <tr>\n",
        "      <th>12  </th>\n",
        "      <td>                         A2@ed.com</td>\n",
        "      <td> 2015-09-10</td>\n",
        "      <td> 0</td>\n",
        "      <td> 0</td>\n",
        "      <td> 0</td>\n",
        "      <td> 0</td>\n",
        "      <td> 0</td>\n",
        "      <td> 0</td>\n",
        "      <td> 1</td>\n",
        "      <td> 0</td>\n",
        "      <td>...</td>\n",
        "      <td> 0</td>\n",
        "      <td> 0</td>\n",
        "      <td> 0</td>\n",
        "      <td> 0</td>\n",
        "      <td> 1</td>\n",
        "      <td> 0</td>\n",
        "      <td> 0</td>\n",
        "      <td> 0</td>\n",
        "      <td> 0</td>\n",
        "      <td> 0</td>\n",
        "    </tr>\n",
        "    <tr>\n",
        "      <th>13  </th>\n",
        "      <td>           ASHRAF.M.ZAKI@GMAIL.COM</td>\n",
        "      <td> 2012-10-04</td>\n",
        "      <td> 0</td>\n",
        "      <td> 0</td>\n",
        "      <td> 0</td>\n",
        "      <td> 0</td>\n",
        "      <td> 0</td>\n",
        "      <td> 1</td>\n",
        "      <td> 0</td>\n",
        "      <td> 0</td>\n",
        "      <td>...</td>\n",
        "      <td> 0</td>\n",
        "      <td> 0</td>\n",
        "      <td> 1</td>\n",
        "      <td> 0</td>\n",
        "      <td> 0</td>\n",
        "      <td> 0</td>\n",
        "      <td> 0</td>\n",
        "      <td> 0</td>\n",
        "      <td> 0</td>\n",
        "      <td> 0</td>\n",
        "    </tr>\n",
        "    <tr>\n",
        "      <th>14  </th>\n",
        "      <td>              Adhamada@hotmail.com</td>\n",
        "      <td> 2012-07-05</td>\n",
        "      <td> 0</td>\n",
        "      <td> 1</td>\n",
        "      <td> 0</td>\n",
        "      <td> 0</td>\n",
        "      <td> 0</td>\n",
        "      <td> 0</td>\n",
        "      <td> 0</td>\n",
        "      <td> 0</td>\n",
        "      <td>...</td>\n",
        "      <td> 0</td>\n",
        "      <td> 0</td>\n",
        "      <td> 0</td>\n",
        "      <td> 0</td>\n",
        "      <td> 0</td>\n",
        "      <td> 0</td>\n",
        "      <td> 0</td>\n",
        "      <td> 1</td>\n",
        "      <td> 0</td>\n",
        "      <td> 0</td>\n",
        "    </tr>\n",
        "    <tr>\n",
        "      <th>15  </th>\n",
        "      <td>       Ahmed.Habash@moevenpick.com</td>\n",
        "      <td> 2015-04-02</td>\n",
        "      <td> 0</td>\n",
        "      <td> 0</td>\n",
        "      <td> 0</td>\n",
        "      <td> 0</td>\n",
        "      <td> 0</td>\n",
        "      <td> 0</td>\n",
        "      <td> 1</td>\n",
        "      <td> 0</td>\n",
        "      <td>...</td>\n",
        "      <td> 0</td>\n",
        "      <td> 0</td>\n",
        "      <td> 0</td>\n",
        "      <td> 0</td>\n",
        "      <td> 0</td>\n",
        "      <td> 1</td>\n",
        "      <td> 0</td>\n",
        "      <td> 0</td>\n",
        "      <td> 0</td>\n",
        "      <td> 0</td>\n",
        "    </tr>\n",
        "    <tr>\n",
        "      <th>16  </th>\n",
        "      <td> Ahmed.adel.abdelmonam@hotmail.com</td>\n",
        "      <td> 2015-08-20</td>\n",
        "      <td> 0</td>\n",
        "      <td> 1</td>\n",
        "      <td> 0</td>\n",
        "      <td> 0</td>\n",
        "      <td> 0</td>\n",
        "      <td> 0</td>\n",
        "      <td> 0</td>\n",
        "      <td> 0</td>\n",
        "      <td>...</td>\n",
        "      <td> 0</td>\n",
        "      <td> 0</td>\n",
        "      <td> 0</td>\n",
        "      <td> 0</td>\n",
        "      <td> 0</td>\n",
        "      <td> 0</td>\n",
        "      <td> 0</td>\n",
        "      <td> 0</td>\n",
        "      <td> 0</td>\n",
        "      <td> 0</td>\n",
        "    </tr>\n",
        "    <tr>\n",
        "      <th>17  </th>\n",
        "      <td>           Aliamossallam@gmail.com</td>\n",
        "      <td> 2014-10-16</td>\n",
        "      <td> 1</td>\n",
        "      <td> 1</td>\n",
        "      <td> 0</td>\n",
        "      <td> 0</td>\n",
        "      <td> 0</td>\n",
        "      <td> 0</td>\n",
        "      <td> 0</td>\n",
        "      <td> 0</td>\n",
        "      <td>...</td>\n",
        "      <td> 0</td>\n",
        "      <td> 0</td>\n",
        "      <td> 0</td>\n",
        "      <td> 1</td>\n",
        "      <td> 0</td>\n",
        "      <td> 0</td>\n",
        "      <td> 0</td>\n",
        "      <td> 1</td>\n",
        "      <td> 0</td>\n",
        "      <td> 0</td>\n",
        "    </tr>\n",
        "    <tr>\n",
        "      <th>18  </th>\n",
        "      <td>           Aliamossallam@gmail.com</td>\n",
        "      <td> 2014-10-23</td>\n",
        "      <td> 1</td>\n",
        "      <td> 0</td>\n",
        "      <td> 0</td>\n",
        "      <td> 0</td>\n",
        "      <td> 0</td>\n",
        "      <td> 2</td>\n",
        "      <td> 0</td>\n",
        "      <td> 0</td>\n",
        "      <td>...</td>\n",
        "      <td> 0</td>\n",
        "      <td> 0</td>\n",
        "      <td> 0</td>\n",
        "      <td> 1</td>\n",
        "      <td> 1</td>\n",
        "      <td> 1</td>\n",
        "      <td> 0</td>\n",
        "      <td> 0</td>\n",
        "      <td> 0</td>\n",
        "      <td> 0</td>\n",
        "    </tr>\n",
        "    <tr>\n",
        "      <th>19  </th>\n",
        "      <td>           Aliamossallam@gmail.com</td>\n",
        "      <td> 2014-11-20</td>\n",
        "      <td> 1</td>\n",
        "      <td> 0</td>\n",
        "      <td> 0</td>\n",
        "      <td> 0</td>\n",
        "      <td> 0</td>\n",
        "      <td> 0</td>\n",
        "      <td> 0</td>\n",
        "      <td> 0</td>\n",
        "      <td>...</td>\n",
        "      <td> 0</td>\n",
        "      <td> 0</td>\n",
        "      <td> 0</td>\n",
        "      <td> 0</td>\n",
        "      <td> 0</td>\n",
        "      <td> 0</td>\n",
        "      <td> 0</td>\n",
        "      <td> 1</td>\n",
        "      <td> 0</td>\n",
        "      <td> 0</td>\n",
        "    </tr>\n",
        "    <tr>\n",
        "      <th>20  </th>\n",
        "      <td>           Aliamossallam@gmail.com</td>\n",
        "      <td> 2014-12-11</td>\n",
        "      <td> 0</td>\n",
        "      <td> 2</td>\n",
        "      <td> 0</td>\n",
        "      <td> 0</td>\n",
        "      <td> 0</td>\n",
        "      <td> 0</td>\n",
        "      <td> 0</td>\n",
        "      <td> 1</td>\n",
        "      <td>...</td>\n",
        "      <td> 0</td>\n",
        "      <td> 0</td>\n",
        "      <td> 0</td>\n",
        "      <td> 0</td>\n",
        "      <td> 1</td>\n",
        "      <td> 0</td>\n",
        "      <td> 0</td>\n",
        "      <td> 0</td>\n",
        "      <td> 0</td>\n",
        "      <td> 0</td>\n",
        "    </tr>\n",
        "    <tr>\n",
        "      <th>21  </th>\n",
        "      <td>           Aliamossallam@gmail.com</td>\n",
        "      <td> 2015-01-08</td>\n",
        "      <td> 0</td>\n",
        "      <td> 1</td>\n",
        "      <td> 0</td>\n",
        "      <td> 0</td>\n",
        "      <td> 0</td>\n",
        "      <td> 0</td>\n",
        "      <td> 0</td>\n",
        "      <td> 0</td>\n",
        "      <td>...</td>\n",
        "      <td> 0</td>\n",
        "      <td> 0</td>\n",
        "      <td> 0</td>\n",
        "      <td> 0</td>\n",
        "      <td> 0</td>\n",
        "      <td> 0</td>\n",
        "      <td> 0</td>\n",
        "      <td> 0</td>\n",
        "      <td> 1</td>\n",
        "      <td> 0</td>\n",
        "    </tr>\n",
        "    <tr>\n",
        "      <th>22  </th>\n",
        "      <td>           Aliamossallam@gmail.com</td>\n",
        "      <td> 2015-01-29</td>\n",
        "      <td> 0</td>\n",
        "      <td> 0</td>\n",
        "      <td> 0</td>\n",
        "      <td> 1</td>\n",
        "      <td> 0</td>\n",
        "      <td> 0</td>\n",
        "      <td> 0</td>\n",
        "      <td> 0</td>\n",
        "      <td>...</td>\n",
        "      <td> 0</td>\n",
        "      <td> 0</td>\n",
        "      <td> 0</td>\n",
        "      <td> 0</td>\n",
        "      <td> 0</td>\n",
        "      <td> 0</td>\n",
        "      <td> 1</td>\n",
        "      <td> 0</td>\n",
        "      <td> 0</td>\n",
        "      <td> 0</td>\n",
        "    </tr>\n",
        "    <tr>\n",
        "      <th>23  </th>\n",
        "      <td>           Aliamossallam@gmail.com</td>\n",
        "      <td> 2015-03-05</td>\n",
        "      <td> 0</td>\n",
        "      <td> 0</td>\n",
        "      <td> 2</td>\n",
        "      <td> 0</td>\n",
        "      <td> 0</td>\n",
        "      <td> 0</td>\n",
        "      <td> 0</td>\n",
        "      <td> 0</td>\n",
        "      <td>...</td>\n",
        "      <td> 0</td>\n",
        "      <td> 0</td>\n",
        "      <td> 0</td>\n",
        "      <td> 0</td>\n",
        "      <td> 1</td>\n",
        "      <td> 1</td>\n",
        "      <td> 0</td>\n",
        "      <td> 0</td>\n",
        "      <td> 0</td>\n",
        "      <td> 0</td>\n",
        "    </tr>\n",
        "    <tr>\n",
        "      <th>24  </th>\n",
        "      <td>           Aliamossallam@gmail.com</td>\n",
        "      <td> 2015-05-14</td>\n",
        "      <td> 0</td>\n",
        "      <td> 0</td>\n",
        "      <td> 0</td>\n",
        "      <td> 0</td>\n",
        "      <td> 0</td>\n",
        "      <td> 1</td>\n",
        "      <td> 1</td>\n",
        "      <td> 0</td>\n",
        "      <td>...</td>\n",
        "      <td> 0</td>\n",
        "      <td> 0</td>\n",
        "      <td> 0</td>\n",
        "      <td> 0</td>\n",
        "      <td> 0</td>\n",
        "      <td> 0</td>\n",
        "      <td> 1</td>\n",
        "      <td> 0</td>\n",
        "      <td> 1</td>\n",
        "      <td> 0</td>\n",
        "    </tr>\n",
        "    <tr>\n",
        "      <th>25  </th>\n",
        "      <td>           Aliamossallam@gmail.com</td>\n",
        "      <td> 2015-06-18</td>\n",
        "      <td> 0</td>\n",
        "      <td> 0</td>\n",
        "      <td> 0</td>\n",
        "      <td> 0</td>\n",
        "      <td> 0</td>\n",
        "      <td> 0</td>\n",
        "      <td> 1</td>\n",
        "      <td> 1</td>\n",
        "      <td>...</td>\n",
        "      <td> 0</td>\n",
        "      <td> 0</td>\n",
        "      <td> 0</td>\n",
        "      <td> 0</td>\n",
        "      <td> 0</td>\n",
        "      <td> 0</td>\n",
        "      <td> 0</td>\n",
        "      <td> 0</td>\n",
        "      <td> 0</td>\n",
        "      <td> 0</td>\n",
        "    </tr>\n",
        "    <tr>\n",
        "      <th>26  </th>\n",
        "      <td>           Aliamossallam@gmail.com</td>\n",
        "      <td> 2015-07-02</td>\n",
        "      <td> 0</td>\n",
        "      <td> 0</td>\n",
        "      <td> 0</td>\n",
        "      <td> 0</td>\n",
        "      <td> 0</td>\n",
        "      <td> 1</td>\n",
        "      <td> 0</td>\n",
        "      <td> 0</td>\n",
        "      <td>...</td>\n",
        "      <td> 0</td>\n",
        "      <td> 0</td>\n",
        "      <td> 0</td>\n",
        "      <td> 1</td>\n",
        "      <td> 0</td>\n",
        "      <td> 0</td>\n",
        "      <td> 0</td>\n",
        "      <td> 0</td>\n",
        "      <td> 0</td>\n",
        "      <td> 0</td>\n",
        "    </tr>\n",
        "    <tr>\n",
        "      <th>27  </th>\n",
        "      <td>           Aliamossallam@gmail.com</td>\n",
        "      <td> 2015-07-09</td>\n",
        "      <td> 1</td>\n",
        "      <td> 0</td>\n",
        "      <td> 0</td>\n",
        "      <td> 0</td>\n",
        "      <td> 0</td>\n",
        "      <td> 0</td>\n",
        "      <td> 0</td>\n",
        "      <td> 0</td>\n",
        "      <td>...</td>\n",
        "      <td> 0</td>\n",
        "      <td> 0</td>\n",
        "      <td> 0</td>\n",
        "      <td> 0</td>\n",
        "      <td> 0</td>\n",
        "      <td> 1</td>\n",
        "      <td> 0</td>\n",
        "      <td> 0</td>\n",
        "      <td> 0</td>\n",
        "      <td> 0</td>\n",
        "    </tr>\n",
        "    <tr>\n",
        "      <th>28  </th>\n",
        "      <td>           Aliamossallam@gmail.com</td>\n",
        "      <td> 2015-08-20</td>\n",
        "      <td> 0</td>\n",
        "      <td> 1</td>\n",
        "      <td> 0</td>\n",
        "      <td> 0</td>\n",
        "      <td> 0</td>\n",
        "      <td> 0</td>\n",
        "      <td> 0</td>\n",
        "      <td> 0</td>\n",
        "      <td>...</td>\n",
        "      <td> 0</td>\n",
        "      <td> 0</td>\n",
        "      <td> 0</td>\n",
        "      <td> 1</td>\n",
        "      <td> 0</td>\n",
        "      <td> 0</td>\n",
        "      <td> 0</td>\n",
        "      <td> 0</td>\n",
        "      <td> 0</td>\n",
        "      <td> 0</td>\n",
        "    </tr>\n",
        "    <tr>\n",
        "      <th>29  </th>\n",
        "      <td>           Aliamossallam@gmail.com</td>\n",
        "      <td> 2015-12-10</td>\n",
        "      <td> 0</td>\n",
        "      <td> 1</td>\n",
        "      <td> 0</td>\n",
        "      <td> 0</td>\n",
        "      <td> 0</td>\n",
        "      <td> 0</td>\n",
        "      <td> 0</td>\n",
        "      <td> 0</td>\n",
        "      <td>...</td>\n",
        "      <td> 0</td>\n",
        "      <td> 0</td>\n",
        "      <td> 0</td>\n",
        "      <td> 0</td>\n",
        "      <td> 1</td>\n",
        "      <td> 0</td>\n",
        "      <td> 0</td>\n",
        "      <td> 0</td>\n",
        "      <td> 0</td>\n",
        "      <td> 0</td>\n",
        "    </tr>\n",
        "    <tr>\n",
        "      <th>...</th>\n",
        "      <td>...</td>\n",
        "      <td>...</td>\n",
        "      <td>...</td>\n",
        "      <td>...</td>\n",
        "      <td>...</td>\n",
        "      <td>...</td>\n",
        "      <td>...</td>\n",
        "      <td>...</td>\n",
        "      <td>...</td>\n",
        "      <td>...</td>\n",
        "      <td>...</td>\n",
        "      <td>...</td>\n",
        "      <td>...</td>\n",
        "      <td>...</td>\n",
        "      <td>...</td>\n",
        "      <td>...</td>\n",
        "      <td>...</td>\n",
        "      <td>...</td>\n",
        "      <td>...</td>\n",
        "      <td>...</td>\n",
        "      <td>...</td>\n",
        "    </tr>\n",
        "    <tr>\n",
        "      <th>6461</th>\n",
        "      <td>            zeina.kassas@gmail.com</td>\n",
        "      <td> 2015-04-16</td>\n",
        "      <td> 0</td>\n",
        "      <td> 2</td>\n",
        "      <td> 0</td>\n",
        "      <td> 0</td>\n",
        "      <td> 0</td>\n",
        "      <td> 0</td>\n",
        "      <td> 0</td>\n",
        "      <td> 0</td>\n",
        "      <td>...</td>\n",
        "      <td> 0</td>\n",
        "      <td> 0</td>\n",
        "      <td> 1</td>\n",
        "      <td> 0</td>\n",
        "      <td> 1</td>\n",
        "      <td> 0</td>\n",
        "      <td> 0</td>\n",
        "      <td> 0</td>\n",
        "      <td> 0</td>\n",
        "      <td> 0</td>\n",
        "    </tr>\n",
        "    <tr>\n",
        "      <th>6462</th>\n",
        "      <td>            zeina.kassas@gmail.com</td>\n",
        "      <td> 2015-04-23</td>\n",
        "      <td> 1</td>\n",
        "      <td> 0</td>\n",
        "      <td> 0</td>\n",
        "      <td> 0</td>\n",
        "      <td> 0</td>\n",
        "      <td> 0</td>\n",
        "      <td> 0</td>\n",
        "      <td> 0</td>\n",
        "      <td>...</td>\n",
        "      <td> 0</td>\n",
        "      <td> 0</td>\n",
        "      <td> 0</td>\n",
        "      <td> 0</td>\n",
        "      <td> 1</td>\n",
        "      <td> 0</td>\n",
        "      <td> 0</td>\n",
        "      <td> 0</td>\n",
        "      <td> 0</td>\n",
        "      <td> 0</td>\n",
        "    </tr>\n",
        "    <tr>\n",
        "      <th>6463</th>\n",
        "      <td>            zeina.kassas@gmail.com</td>\n",
        "      <td> 2015-06-11</td>\n",
        "      <td> 0</td>\n",
        "      <td> 0</td>\n",
        "      <td> 1</td>\n",
        "      <td> 0</td>\n",
        "      <td> 0</td>\n",
        "      <td> 0</td>\n",
        "      <td> 0</td>\n",
        "      <td> 0</td>\n",
        "      <td>...</td>\n",
        "      <td> 0</td>\n",
        "      <td> 0</td>\n",
        "      <td> 0</td>\n",
        "      <td> 0</td>\n",
        "      <td> 0</td>\n",
        "      <td> 0</td>\n",
        "      <td> 0</td>\n",
        "      <td> 0</td>\n",
        "      <td> 1</td>\n",
        "      <td> 0</td>\n",
        "    </tr>\n",
        "    <tr>\n",
        "      <th>6464</th>\n",
        "      <td>         zeina_ahmed95@hotmail.com</td>\n",
        "      <td> 2014-10-23</td>\n",
        "      <td> 1</td>\n",
        "      <td> 0</td>\n",
        "      <td> 0</td>\n",
        "      <td> 0</td>\n",
        "      <td> 0</td>\n",
        "      <td> 0</td>\n",
        "      <td> 0</td>\n",
        "      <td> 0</td>\n",
        "      <td>...</td>\n",
        "      <td> 0</td>\n",
        "      <td> 0</td>\n",
        "      <td> 0</td>\n",
        "      <td> 0</td>\n",
        "      <td> 0</td>\n",
        "      <td> 0</td>\n",
        "      <td> 0</td>\n",
        "      <td> 0</td>\n",
        "      <td> 1</td>\n",
        "      <td> 0</td>\n",
        "    </tr>\n",
        "    <tr>\n",
        "      <th>6465</th>\n",
        "      <td>            zeina_naim@hotmail.com</td>\n",
        "      <td> 2015-11-12</td>\n",
        "      <td> 0</td>\n",
        "      <td> 0</td>\n",
        "      <td> 0</td>\n",
        "      <td> 1</td>\n",
        "      <td> 0</td>\n",
        "      <td> 0</td>\n",
        "      <td> 0</td>\n",
        "      <td> 0</td>\n",
        "      <td>...</td>\n",
        "      <td> 0</td>\n",
        "      <td> 0</td>\n",
        "      <td> 0</td>\n",
        "      <td> 1</td>\n",
        "      <td> 0</td>\n",
        "      <td> 0</td>\n",
        "      <td> 0</td>\n",
        "      <td> 0</td>\n",
        "      <td> 0</td>\n",
        "      <td> 0</td>\n",
        "    </tr>\n",
        "    <tr>\n",
        "      <th>6466</th>\n",
        "      <td>         zeinabahmedtaha@yahoo.com</td>\n",
        "      <td> 2013-01-31</td>\n",
        "      <td> 0</td>\n",
        "      <td> 0</td>\n",
        "      <td> 0</td>\n",
        "      <td> 0</td>\n",
        "      <td> 0</td>\n",
        "      <td> 1</td>\n",
        "      <td> 0</td>\n",
        "      <td> 0</td>\n",
        "      <td>...</td>\n",
        "      <td> 0</td>\n",
        "      <td> 0</td>\n",
        "      <td> 0</td>\n",
        "      <td> 0</td>\n",
        "      <td> 0</td>\n",
        "      <td> 0</td>\n",
        "      <td> 1</td>\n",
        "      <td> 0</td>\n",
        "      <td> 0</td>\n",
        "      <td> 0</td>\n",
        "    </tr>\n",
        "    <tr>\n",
        "      <th>6467</th>\n",
        "      <td>      zeinabkhalil2010@hotmail.com</td>\n",
        "      <td> 2015-05-28</td>\n",
        "      <td> 0</td>\n",
        "      <td> 0</td>\n",
        "      <td> 0</td>\n",
        "      <td> 0</td>\n",
        "      <td> 0</td>\n",
        "      <td> 0</td>\n",
        "      <td> 1</td>\n",
        "      <td> 0</td>\n",
        "      <td>...</td>\n",
        "      <td> 0</td>\n",
        "      <td> 0</td>\n",
        "      <td> 0</td>\n",
        "      <td> 0</td>\n",
        "      <td> 0</td>\n",
        "      <td> 0</td>\n",
        "      <td> 1</td>\n",
        "      <td> 0</td>\n",
        "      <td> 0</td>\n",
        "      <td> 0</td>\n",
        "    </tr>\n",
        "    <tr>\n",
        "      <th>6468</th>\n",
        "      <td>      zeinabkhalil2010@hotmail.com</td>\n",
        "      <td> 2015-06-18</td>\n",
        "      <td> 0</td>\n",
        "      <td> 0</td>\n",
        "      <td> 0</td>\n",
        "      <td> 1</td>\n",
        "      <td> 0</td>\n",
        "      <td> 0</td>\n",
        "      <td> 0</td>\n",
        "      <td> 0</td>\n",
        "      <td>...</td>\n",
        "      <td> 0</td>\n",
        "      <td> 0</td>\n",
        "      <td> 0</td>\n",
        "      <td> 0</td>\n",
        "      <td> 0</td>\n",
        "      <td> 1</td>\n",
        "      <td> 0</td>\n",
        "      <td> 0</td>\n",
        "      <td> 0</td>\n",
        "      <td> 0</td>\n",
        "    </tr>\n",
        "    <tr>\n",
        "      <th>6469</th>\n",
        "      <td>              zeinabnour@gmail.com</td>\n",
        "      <td> 2014-10-30</td>\n",
        "      <td> 1</td>\n",
        "      <td> 0</td>\n",
        "      <td> 0</td>\n",
        "      <td> 0</td>\n",
        "      <td> 0</td>\n",
        "      <td> 0</td>\n",
        "      <td> 1</td>\n",
        "      <td> 0</td>\n",
        "      <td>...</td>\n",
        "      <td> 0</td>\n",
        "      <td> 0</td>\n",
        "      <td> 0</td>\n",
        "      <td> 1</td>\n",
        "      <td> 0</td>\n",
        "      <td> 0</td>\n",
        "      <td> 1</td>\n",
        "      <td> 0</td>\n",
        "      <td> 0</td>\n",
        "      <td> 0</td>\n",
        "    </tr>\n",
        "    <tr>\n",
        "      <th>6470</th>\n",
        "      <td>              zeinahodroj@live.com</td>\n",
        "      <td> 2015-03-19</td>\n",
        "      <td> 2</td>\n",
        "      <td> 0</td>\n",
        "      <td> 0</td>\n",
        "      <td> 0</td>\n",
        "      <td> 0</td>\n",
        "      <td> 0</td>\n",
        "      <td> 0</td>\n",
        "      <td> 0</td>\n",
        "      <td>...</td>\n",
        "      <td> 0</td>\n",
        "      <td> 1</td>\n",
        "      <td> 0</td>\n",
        "      <td> 0</td>\n",
        "      <td> 1</td>\n",
        "      <td> 0</td>\n",
        "      <td> 0</td>\n",
        "      <td> 0</td>\n",
        "      <td> 0</td>\n",
        "      <td> 0</td>\n",
        "    </tr>\n",
        "    <tr>\n",
        "      <th>6471</th>\n",
        "      <td>              zeinasabry@gmail.com</td>\n",
        "      <td> 2013-09-19</td>\n",
        "      <td> 0</td>\n",
        "      <td> 0</td>\n",
        "      <td> 0</td>\n",
        "      <td> 0</td>\n",
        "      <td> 0</td>\n",
        "      <td> 1</td>\n",
        "      <td> 0</td>\n",
        "      <td> 0</td>\n",
        "      <td>...</td>\n",
        "      <td> 0</td>\n",
        "      <td> 0</td>\n",
        "      <td> 0</td>\n",
        "      <td> 0</td>\n",
        "      <td> 1</td>\n",
        "      <td> 0</td>\n",
        "      <td> 0</td>\n",
        "      <td> 0</td>\n",
        "      <td> 0</td>\n",
        "      <td> 0</td>\n",
        "    </tr>\n",
        "    <tr>\n",
        "      <th>6472</th>\n",
        "      <td>              zeinasabry@gmail.com</td>\n",
        "      <td> 2013-10-17</td>\n",
        "      <td> 0</td>\n",
        "      <td> 0</td>\n",
        "      <td> 0</td>\n",
        "      <td> 1</td>\n",
        "      <td> 0</td>\n",
        "      <td> 0</td>\n",
        "      <td> 0</td>\n",
        "      <td> 0</td>\n",
        "      <td>...</td>\n",
        "      <td> 0</td>\n",
        "      <td> 0</td>\n",
        "      <td> 0</td>\n",
        "      <td> 0</td>\n",
        "      <td> 0</td>\n",
        "      <td> 0</td>\n",
        "      <td> 0</td>\n",
        "      <td> 1</td>\n",
        "      <td> 0</td>\n",
        "      <td> 0</td>\n",
        "    </tr>\n",
        "    <tr>\n",
        "      <th>6473</th>\n",
        "      <td>              zeinasabry@gmail.com</td>\n",
        "      <td> 2014-01-02</td>\n",
        "      <td> 1</td>\n",
        "      <td> 1</td>\n",
        "      <td> 0</td>\n",
        "      <td> 0</td>\n",
        "      <td> 0</td>\n",
        "      <td> 0</td>\n",
        "      <td> 0</td>\n",
        "      <td> 1</td>\n",
        "      <td>...</td>\n",
        "      <td> 0</td>\n",
        "      <td> 0</td>\n",
        "      <td> 0</td>\n",
        "      <td> 1</td>\n",
        "      <td> 0</td>\n",
        "      <td> 0</td>\n",
        "      <td> 0</td>\n",
        "      <td> 0</td>\n",
        "      <td> 0</td>\n",
        "      <td> 0</td>\n",
        "    </tr>\n",
        "    <tr>\n",
        "      <th>6474</th>\n",
        "      <td>              zeinasabry@gmail.com</td>\n",
        "      <td> 2014-02-27</td>\n",
        "      <td> 1</td>\n",
        "      <td> 0</td>\n",
        "      <td> 0</td>\n",
        "      <td> 0</td>\n",
        "      <td> 0</td>\n",
        "      <td> 0</td>\n",
        "      <td> 0</td>\n",
        "      <td> 0</td>\n",
        "      <td>...</td>\n",
        "      <td> 0</td>\n",
        "      <td> 0</td>\n",
        "      <td> 0</td>\n",
        "      <td> 0</td>\n",
        "      <td> 0</td>\n",
        "      <td> 0</td>\n",
        "      <td> 0</td>\n",
        "      <td> 1</td>\n",
        "      <td> 0</td>\n",
        "      <td> 0</td>\n",
        "    </tr>\n",
        "    <tr>\n",
        "      <th>6475</th>\n",
        "      <td>              zeinasabry@gmail.com</td>\n",
        "      <td> 2014-05-22</td>\n",
        "      <td> 0</td>\n",
        "      <td> 0</td>\n",
        "      <td> 0</td>\n",
        "      <td> 1</td>\n",
        "      <td> 0</td>\n",
        "      <td> 0</td>\n",
        "      <td> 0</td>\n",
        "      <td> 0</td>\n",
        "      <td>...</td>\n",
        "      <td> 0</td>\n",
        "      <td> 0</td>\n",
        "      <td> 0</td>\n",
        "      <td> 1</td>\n",
        "      <td> 0</td>\n",
        "      <td> 0</td>\n",
        "      <td> 0</td>\n",
        "      <td> 0</td>\n",
        "      <td> 0</td>\n",
        "      <td> 0</td>\n",
        "    </tr>\n",
        "    <tr>\n",
        "      <th>6476</th>\n",
        "      <td>               zeinriham@gmail.com</td>\n",
        "      <td> 2015-09-10</td>\n",
        "      <td> 0</td>\n",
        "      <td> 1</td>\n",
        "      <td> 0</td>\n",
        "      <td> 0</td>\n",
        "      <td> 0</td>\n",
        "      <td> 0</td>\n",
        "      <td> 0</td>\n",
        "      <td> 1</td>\n",
        "      <td>...</td>\n",
        "      <td> 0</td>\n",
        "      <td> 0</td>\n",
        "      <td> 0</td>\n",
        "      <td> 0</td>\n",
        "      <td> 0</td>\n",
        "      <td> 0</td>\n",
        "      <td> 0</td>\n",
        "      <td> 0</td>\n",
        "      <td> 0</td>\n",
        "      <td> 0</td>\n",
        "    </tr>\n",
        "    <tr>\n",
        "      <th>6477</th>\n",
        "      <td>               zeinriham@gmail.com</td>\n",
        "      <td> 2015-11-19</td>\n",
        "      <td> 0</td>\n",
        "      <td> 0</td>\n",
        "      <td> 1</td>\n",
        "      <td> 0</td>\n",
        "      <td> 0</td>\n",
        "      <td> 0</td>\n",
        "      <td> 0</td>\n",
        "      <td> 0</td>\n",
        "      <td>...</td>\n",
        "      <td> 0</td>\n",
        "      <td> 0</td>\n",
        "      <td> 0</td>\n",
        "      <td> 1</td>\n",
        "      <td> 0</td>\n",
        "      <td> 0</td>\n",
        "      <td> 0</td>\n",
        "      <td> 0</td>\n",
        "      <td> 0</td>\n",
        "      <td> 0</td>\n",
        "    </tr>\n",
        "    <tr>\n",
        "      <th>6478</th>\n",
        "      <td>           zenaabdelbaky@gmail.com</td>\n",
        "      <td> 2014-05-15</td>\n",
        "      <td> 0</td>\n",
        "      <td> 0</td>\n",
        "      <td> 0</td>\n",
        "      <td> 0</td>\n",
        "      <td> 0</td>\n",
        "      <td> 1</td>\n",
        "      <td> 0</td>\n",
        "      <td> 0</td>\n",
        "      <td>...</td>\n",
        "      <td> 0</td>\n",
        "      <td> 0</td>\n",
        "      <td> 0</td>\n",
        "      <td> 0</td>\n",
        "      <td> 0</td>\n",
        "      <td> 0</td>\n",
        "      <td> 0</td>\n",
        "      <td> 1</td>\n",
        "      <td> 0</td>\n",
        "      <td> 0</td>\n",
        "    </tr>\n",
        "    <tr>\n",
        "      <th>6479</th>\n",
        "      <td>           zenaabdelbaky@gmail.com</td>\n",
        "      <td> 2015-07-23</td>\n",
        "      <td> 0</td>\n",
        "      <td> 0</td>\n",
        "      <td> 1</td>\n",
        "      <td> 0</td>\n",
        "      <td> 0</td>\n",
        "      <td> 0</td>\n",
        "      <td> 0</td>\n",
        "      <td> 0</td>\n",
        "      <td>...</td>\n",
        "      <td> 0</td>\n",
        "      <td> 0</td>\n",
        "      <td> 0</td>\n",
        "      <td> 0</td>\n",
        "      <td> 0</td>\n",
        "      <td> 0</td>\n",
        "      <td> 0</td>\n",
        "      <td> 0</td>\n",
        "      <td> 0</td>\n",
        "      <td> 0</td>\n",
        "    </tr>\n",
        "    <tr>\n",
        "      <th>6480</th>\n",
        "      <td>            zeyadattalla@yahoo.com</td>\n",
        "      <td> 2015-05-07</td>\n",
        "      <td> 0</td>\n",
        "      <td> 0</td>\n",
        "      <td> 1</td>\n",
        "      <td> 0</td>\n",
        "      <td> 0</td>\n",
        "      <td> 0</td>\n",
        "      <td> 0</td>\n",
        "      <td> 1</td>\n",
        "      <td>...</td>\n",
        "      <td> 0</td>\n",
        "      <td> 0</td>\n",
        "      <td> 0</td>\n",
        "      <td> 0</td>\n",
        "      <td> 0</td>\n",
        "      <td> 0</td>\n",
        "      <td> 0</td>\n",
        "      <td> 0</td>\n",
        "      <td> 0</td>\n",
        "      <td> 0</td>\n",
        "    </tr>\n",
        "    <tr>\n",
        "      <th>6481</th>\n",
        "      <td>                ziadihab@gmail.com</td>\n",
        "      <td> 2015-04-16</td>\n",
        "      <td> 0</td>\n",
        "      <td> 1</td>\n",
        "      <td> 0</td>\n",
        "      <td> 0</td>\n",
        "      <td> 0</td>\n",
        "      <td> 0</td>\n",
        "      <td> 0</td>\n",
        "      <td> 0</td>\n",
        "      <td>...</td>\n",
        "      <td> 0</td>\n",
        "      <td> 0</td>\n",
        "      <td> 0</td>\n",
        "      <td> 0</td>\n",
        "      <td> 0</td>\n",
        "      <td> 0</td>\n",
        "      <td> 0</td>\n",
        "      <td> 0</td>\n",
        "      <td> 0</td>\n",
        "      <td> 0</td>\n",
        "    </tr>\n",
        "    <tr>\n",
        "      <th>6482</th>\n",
        "      <td>               ziadusama@ymail.com</td>\n",
        "      <td> 2015-12-03</td>\n",
        "      <td> 0</td>\n",
        "      <td> 0</td>\n",
        "      <td> 0</td>\n",
        "      <td> 0</td>\n",
        "      <td> 0</td>\n",
        "      <td> 0</td>\n",
        "      <td> 1</td>\n",
        "      <td> 0</td>\n",
        "      <td>...</td>\n",
        "      <td> 0</td>\n",
        "      <td> 0</td>\n",
        "      <td> 0</td>\n",
        "      <td> 1</td>\n",
        "      <td> 0</td>\n",
        "      <td> 0</td>\n",
        "      <td> 0</td>\n",
        "      <td> 0</td>\n",
        "      <td> 0</td>\n",
        "      <td> 0</td>\n",
        "    </tr>\n",
        "    <tr>\n",
        "      <th>6483</th>\n",
        "      <td>               zinelhini@yahoo.com</td>\n",
        "      <td> 2013-10-03</td>\n",
        "      <td> 0</td>\n",
        "      <td> 1</td>\n",
        "      <td> 0</td>\n",
        "      <td> 0</td>\n",
        "      <td> 0</td>\n",
        "      <td> 0</td>\n",
        "      <td> 0</td>\n",
        "      <td> 0</td>\n",
        "      <td>...</td>\n",
        "      <td> 0</td>\n",
        "      <td> 0</td>\n",
        "      <td> 0</td>\n",
        "      <td> 0</td>\n",
        "      <td> 0</td>\n",
        "      <td> 0</td>\n",
        "      <td> 1</td>\n",
        "      <td> 0</td>\n",
        "      <td> 0</td>\n",
        "      <td> 0</td>\n",
        "    </tr>\n",
        "    <tr>\n",
        "      <th>6484</th>\n",
        "      <td>                zleseman@gmail.com</td>\n",
        "      <td> 2013-02-07</td>\n",
        "      <td> 0</td>\n",
        "      <td> 0</td>\n",
        "      <td> 0</td>\n",
        "      <td> 0</td>\n",
        "      <td> 0</td>\n",
        "      <td> 0</td>\n",
        "      <td> 1</td>\n",
        "      <td> 0</td>\n",
        "      <td>...</td>\n",
        "      <td> 0</td>\n",
        "      <td> 0</td>\n",
        "      <td> 0</td>\n",
        "      <td> 0</td>\n",
        "      <td> 0</td>\n",
        "      <td> 1</td>\n",
        "      <td> 0</td>\n",
        "      <td> 0</td>\n",
        "      <td> 0</td>\n",
        "      <td> 0</td>\n",
        "    </tr>\n",
        "    <tr>\n",
        "      <th>6485</th>\n",
        "      <td>                zleseman@gmail.com</td>\n",
        "      <td> 2013-04-18</td>\n",
        "      <td> 1</td>\n",
        "      <td> 0</td>\n",
        "      <td> 0</td>\n",
        "      <td> 0</td>\n",
        "      <td> 0</td>\n",
        "      <td> 0</td>\n",
        "      <td> 0</td>\n",
        "      <td> 0</td>\n",
        "      <td>...</td>\n",
        "      <td> 0</td>\n",
        "      <td> 0</td>\n",
        "      <td> 0</td>\n",
        "      <td> 0</td>\n",
        "      <td> 0</td>\n",
        "      <td> 0</td>\n",
        "      <td> 0</td>\n",
        "      <td> 1</td>\n",
        "      <td> 0</td>\n",
        "      <td> 0</td>\n",
        "    </tr>\n",
        "    <tr>\n",
        "      <th>6486</th>\n",
        "      <td>           zolaykha1st@hotmail.com</td>\n",
        "      <td> 2014-12-11</td>\n",
        "      <td> 0</td>\n",
        "      <td> 0</td>\n",
        "      <td> 0</td>\n",
        "      <td> 0</td>\n",
        "      <td> 0</td>\n",
        "      <td> 0</td>\n",
        "      <td> 1</td>\n",
        "      <td> 0</td>\n",
        "      <td>...</td>\n",
        "      <td> 0</td>\n",
        "      <td> 0</td>\n",
        "      <td> 1</td>\n",
        "      <td> 0</td>\n",
        "      <td> 0</td>\n",
        "      <td> 0</td>\n",
        "      <td> 0</td>\n",
        "      <td> 0</td>\n",
        "      <td> 0</td>\n",
        "      <td> 0</td>\n",
        "    </tr>\n",
        "    <tr>\n",
        "      <th>6487</th>\n",
        "      <td>               zshafei@outlook.com</td>\n",
        "      <td> 2014-12-25</td>\n",
        "      <td> 1</td>\n",
        "      <td> 0</td>\n",
        "      <td> 0</td>\n",
        "      <td> 0</td>\n",
        "      <td> 0</td>\n",
        "      <td> 0</td>\n",
        "      <td> 0</td>\n",
        "      <td> 0</td>\n",
        "      <td>...</td>\n",
        "      <td> 0</td>\n",
        "      <td> 0</td>\n",
        "      <td> 0</td>\n",
        "      <td> 0</td>\n",
        "      <td> 0</td>\n",
        "      <td> 1</td>\n",
        "      <td> 0</td>\n",
        "      <td> 0</td>\n",
        "      <td> 0</td>\n",
        "      <td> 0</td>\n",
        "    </tr>\n",
        "    <tr>\n",
        "      <th>6488</th>\n",
        "      <td>               zshafei@outlook.com</td>\n",
        "      <td> 2015-01-15</td>\n",
        "      <td> 0</td>\n",
        "      <td> 0</td>\n",
        "      <td> 1</td>\n",
        "      <td> 1</td>\n",
        "      <td> 0</td>\n",
        "      <td> 0</td>\n",
        "      <td> 0</td>\n",
        "      <td> 0</td>\n",
        "      <td>...</td>\n",
        "      <td> 0</td>\n",
        "      <td> 0</td>\n",
        "      <td> 0</td>\n",
        "      <td> 0</td>\n",
        "      <td> 0</td>\n",
        "      <td> 2</td>\n",
        "      <td> 0</td>\n",
        "      <td> 0</td>\n",
        "      <td> 0</td>\n",
        "      <td> 0</td>\n",
        "    </tr>\n",
        "    <tr>\n",
        "      <th>6489</th>\n",
        "      <td>               zshafei@outlook.com</td>\n",
        "      <td> 2015-10-29</td>\n",
        "      <td> 0</td>\n",
        "      <td> 1</td>\n",
        "      <td> 1</td>\n",
        "      <td> 0</td>\n",
        "      <td> 0</td>\n",
        "      <td> 0</td>\n",
        "      <td> 0</td>\n",
        "      <td> 0</td>\n",
        "      <td>...</td>\n",
        "      <td> 0</td>\n",
        "      <td> 0</td>\n",
        "      <td> 0</td>\n",
        "      <td> 0</td>\n",
        "      <td> 1</td>\n",
        "      <td> 0</td>\n",
        "      <td> 0</td>\n",
        "      <td> 0</td>\n",
        "      <td> 0</td>\n",
        "      <td> 1</td>\n",
        "    </tr>\n",
        "    <tr>\n",
        "      <th>6490</th>\n",
        "      <td>               zshafei@outlook.com</td>\n",
        "      <td> 2015-11-12</td>\n",
        "      <td> 1</td>\n",
        "      <td> 0</td>\n",
        "      <td> 0</td>\n",
        "      <td> 0</td>\n",
        "      <td> 0</td>\n",
        "      <td> 0</td>\n",
        "      <td> 0</td>\n",
        "      <td> 0</td>\n",
        "      <td>...</td>\n",
        "      <td> 0</td>\n",
        "      <td> 0</td>\n",
        "      <td> 0</td>\n",
        "      <td> 1</td>\n",
        "      <td> 0</td>\n",
        "      <td> 0</td>\n",
        "      <td> 0</td>\n",
        "      <td> 0</td>\n",
        "      <td> 0</td>\n",
        "      <td> 0</td>\n",
        "    </tr>\n",
        "  </tbody>\n",
        "</table>\n",
        "<p>6491 rows \u00d7 21 columns</p>\n",
        "</div>"
       ],
       "metadata": {},
       "output_type": "pyout",
       "prompt_number": 11,
       "text": [
        "                                  Email        Date  Sunday  Monday  Tuesday  \\\n",
        "0            11435mail@mkallenberger.de  2013-05-23       1       0        0   \n",
        "1                         1@gargour.com  2015-01-01       0       0        0   \n",
        "2                         1@gargour.com  2015-04-02       0       0        1   \n",
        "3                     1kttate@gmail.com  2015-08-06       1       0        0   \n",
        "4                     1kttate@gmail.com  2015-08-13       0       1        0   \n",
        "5                     1kttate@gmail.com  2015-08-27       0       1        0   \n",
        "6             1youniqueflower@gmail.com  2015-08-27       0       0        1   \n",
        "7             1youniqueflower@gmail.com  2015-11-26       0       1        0   \n",
        "8                    3aliaa.h@gmail.com  2015-03-12       1       0        0   \n",
        "9                    3aliaa.h@gmail.com  2015-04-02       0       0        0   \n",
        "10             777nadiateirah@gmail.com  2015-11-12       0       1        0   \n",
        "11             777nadiateirah@gmail.com  2015-11-19       0       0        0   \n",
        "12                            A2@ed.com  2015-09-10       0       0        0   \n",
        "13              ASHRAF.M.ZAKI@GMAIL.COM  2012-10-04       0       0        0   \n",
        "14                 Adhamada@hotmail.com  2012-07-05       0       1        0   \n",
        "15          Ahmed.Habash@moevenpick.com  2015-04-02       0       0        0   \n",
        "16    Ahmed.adel.abdelmonam@hotmail.com  2015-08-20       0       1        0   \n",
        "17              Aliamossallam@gmail.com  2014-10-16       1       1        0   \n",
        "18              Aliamossallam@gmail.com  2014-10-23       1       0        0   \n",
        "19              Aliamossallam@gmail.com  2014-11-20       1       0        0   \n",
        "20              Aliamossallam@gmail.com  2014-12-11       0       2        0   \n",
        "21              Aliamossallam@gmail.com  2015-01-08       0       1        0   \n",
        "22              Aliamossallam@gmail.com  2015-01-29       0       0        0   \n",
        "23              Aliamossallam@gmail.com  2015-03-05       0       0        2   \n",
        "24              Aliamossallam@gmail.com  2015-05-14       0       0        0   \n",
        "25              Aliamossallam@gmail.com  2015-06-18       0       0        0   \n",
        "26              Aliamossallam@gmail.com  2015-07-02       0       0        0   \n",
        "27              Aliamossallam@gmail.com  2015-07-09       1       0        0   \n",
        "28              Aliamossallam@gmail.com  2015-08-20       0       1        0   \n",
        "29              Aliamossallam@gmail.com  2015-12-10       0       1        0   \n",
        "...                                 ...         ...     ...     ...      ...   \n",
        "6461             zeina.kassas@gmail.com  2015-04-16       0       2        0   \n",
        "6462             zeina.kassas@gmail.com  2015-04-23       1       0        0   \n",
        "6463             zeina.kassas@gmail.com  2015-06-11       0       0        1   \n",
        "6464          zeina_ahmed95@hotmail.com  2014-10-23       1       0        0   \n",
        "6465             zeina_naim@hotmail.com  2015-11-12       0       0        0   \n",
        "6466          zeinabahmedtaha@yahoo.com  2013-01-31       0       0        0   \n",
        "6467       zeinabkhalil2010@hotmail.com  2015-05-28       0       0        0   \n",
        "6468       zeinabkhalil2010@hotmail.com  2015-06-18       0       0        0   \n",
        "6469               zeinabnour@gmail.com  2014-10-30       1       0        0   \n",
        "6470               zeinahodroj@live.com  2015-03-19       2       0        0   \n",
        "6471               zeinasabry@gmail.com  2013-09-19       0       0        0   \n",
        "6472               zeinasabry@gmail.com  2013-10-17       0       0        0   \n",
        "6473               zeinasabry@gmail.com  2014-01-02       1       1        0   \n",
        "6474               zeinasabry@gmail.com  2014-02-27       1       0        0   \n",
        "6475               zeinasabry@gmail.com  2014-05-22       0       0        0   \n",
        "6476                zeinriham@gmail.com  2015-09-10       0       1        0   \n",
        "6477                zeinriham@gmail.com  2015-11-19       0       0        1   \n",
        "6478            zenaabdelbaky@gmail.com  2014-05-15       0       0        0   \n",
        "6479            zenaabdelbaky@gmail.com  2015-07-23       0       0        1   \n",
        "6480             zeyadattalla@yahoo.com  2015-05-07       0       0        1   \n",
        "6481                 ziadihab@gmail.com  2015-04-16       0       1        0   \n",
        "6482                ziadusama@ymail.com  2015-12-03       0       0        0   \n",
        "6483                zinelhini@yahoo.com  2013-10-03       0       1        0   \n",
        "6484                 zleseman@gmail.com  2013-02-07       0       0        0   \n",
        "6485                 zleseman@gmail.com  2013-04-18       1       0        0   \n",
        "6486            zolaykha1st@hotmail.com  2014-12-11       0       0        0   \n",
        "6487                zshafei@outlook.com  2014-12-25       1       0        0   \n",
        "6488                zshafei@outlook.com  2015-01-15       0       0        1   \n",
        "6489                zshafei@outlook.com  2015-10-29       0       1        1   \n",
        "6490                zshafei@outlook.com  2015-11-12       1       0        0   \n",
        "\n",
        "      Wednesday  Thursday  Friday  Saturday  0:00 - 2:00      ...       \\\n",
        "0             0         0       0         0            0      ...        \n",
        "1             0         0       0         1            0      ...        \n",
        "2             0         0       0         0            0      ...        \n",
        "3             0         0       0         0            0      ...        \n",
        "4             0         0       0         0            0      ...        \n",
        "5             0         0       0         0            0      ...        \n",
        "6             0         0       0         0            0      ...        \n",
        "7             0         0       0         0            0      ...        \n",
        "8             0         0       1         0            0      ...        \n",
        "9             0         0       0         1            1      ...        \n",
        "10            0         0       0         0            0      ...        \n",
        "11            0         0       0         1            0      ...        \n",
        "12            0         0       0         1            0      ...        \n",
        "13            0         0       1         0            0      ...        \n",
        "14            0         0       0         0            0      ...        \n",
        "15            0         0       0         1            0      ...        \n",
        "16            0         0       0         0            0      ...        \n",
        "17            0         0       0         0            0      ...        \n",
        "18            0         0       2         0            0      ...        \n",
        "19            0         0       0         0            0      ...        \n",
        "20            0         0       0         0            1      ...        \n",
        "21            0         0       0         0            0      ...        \n",
        "22            1         0       0         0            0      ...        \n",
        "23            0         0       0         0            0      ...        \n",
        "24            0         0       1         1            0      ...        \n",
        "25            0         0       0         1            1      ...        \n",
        "26            0         0       1         0            0      ...        \n",
        "27            0         0       0         0            0      ...        \n",
        "28            0         0       0         0            0      ...        \n",
        "29            0         0       0         0            0      ...        \n",
        "...         ...       ...     ...       ...          ...      ...        \n",
        "6461          0         0       0         0            0      ...        \n",
        "6462          0         0       0         0            0      ...        \n",
        "6463          0         0       0         0            0      ...        \n",
        "6464          0         0       0         0            0      ...        \n",
        "6465          1         0       0         0            0      ...        \n",
        "6466          0         0       1         0            0      ...        \n",
        "6467          0         0       0         1            0      ...        \n",
        "6468          1         0       0         0            0      ...        \n",
        "6469          0         0       0         1            0      ...        \n",
        "6470          0         0       0         0            0      ...        \n",
        "6471          0         0       1         0            0      ...        \n",
        "6472          1         0       0         0            0      ...        \n",
        "6473          0         0       0         0            1      ...        \n",
        "6474          0         0       0         0            0      ...        \n",
        "6475          1         0       0         0            0      ...        \n",
        "6476          0         0       0         0            1      ...        \n",
        "6477          0         0       0         0            0      ...        \n",
        "6478          0         0       1         0            0      ...        \n",
        "6479          0         0       0         0            0      ...        \n",
        "6480          0         0       0         0            1      ...        \n",
        "6481          0         0       0         0            0      ...        \n",
        "6482          0         0       0         1            0      ...        \n",
        "6483          0         0       0         0            0      ...        \n",
        "6484          0         0       0         1            0      ...        \n",
        "6485          0         0       0         0            0      ...        \n",
        "6486          0         0       0         1            0      ...        \n",
        "6487          0         0       0         0            0      ...        \n",
        "6488          1         0       0         0            0      ...        \n",
        "6489          0         0       0         0            0      ...        \n",
        "6490          0         0       0         0            0      ...        \n",
        "\n",
        "      4:00 - 6:00  6:00 - 8:00  8:00 - 10:00  10:00 - 12:00  12:00 - 14:00  \\\n",
        "0               0            0             0              0              0   \n",
        "1               0            0             0              0              0   \n",
        "2               0            0             0              0              0   \n",
        "3               0            0             1              0              0   \n",
        "4               0            0             1              0              0   \n",
        "5               0            0             0              1              0   \n",
        "6               0            0             0              0              0   \n",
        "7               0            0             0              0              1   \n",
        "8               0            0             0              0              0   \n",
        "9               0            0             0              0              0   \n",
        "10              0            0             0              0              1   \n",
        "11              0            0             0              1              0   \n",
        "12              0            0             0              0              1   \n",
        "13              0            0             1              0              0   \n",
        "14              0            0             0              0              0   \n",
        "15              0            0             0              0              0   \n",
        "16              0            0             0              0              0   \n",
        "17              0            0             0              1              0   \n",
        "18              0            0             0              1              1   \n",
        "19              0            0             0              0              0   \n",
        "20              0            0             0              0              1   \n",
        "21              0            0             0              0              0   \n",
        "22              0            0             0              0              0   \n",
        "23              0            0             0              0              1   \n",
        "24              0            0             0              0              0   \n",
        "25              0            0             0              0              0   \n",
        "26              0            0             0              1              0   \n",
        "27              0            0             0              0              0   \n",
        "28              0            0             0              1              0   \n",
        "29              0            0             0              0              1   \n",
        "...           ...          ...           ...            ...            ...   \n",
        "6461            0            0             1              0              1   \n",
        "6462            0            0             0              0              1   \n",
        "6463            0            0             0              0              0   \n",
        "6464            0            0             0              0              0   \n",
        "6465            0            0             0              1              0   \n",
        "6466            0            0             0              0              0   \n",
        "6467            0            0             0              0              0   \n",
        "6468            0            0             0              0              0   \n",
        "6469            0            0             0              1              0   \n",
        "6470            0            1             0              0              1   \n",
        "6471            0            0             0              0              1   \n",
        "6472            0            0             0              0              0   \n",
        "6473            0            0             0              1              0   \n",
        "6474            0            0             0              0              0   \n",
        "6475            0            0             0              1              0   \n",
        "6476            0            0             0              0              0   \n",
        "6477            0            0             0              1              0   \n",
        "6478            0            0             0              0              0   \n",
        "6479            0            0             0              0              0   \n",
        "6480            0            0             0              0              0   \n",
        "6481            0            0             0              0              0   \n",
        "6482            0            0             0              1              0   \n",
        "6483            0            0             0              0              0   \n",
        "6484            0            0             0              0              0   \n",
        "6485            0            0             0              0              0   \n",
        "6486            0            0             1              0              0   \n",
        "6487            0            0             0              0              0   \n",
        "6488            0            0             0              0              0   \n",
        "6489            0            0             0              0              1   \n",
        "6490            0            0             0              1              0   \n",
        "\n",
        "      14:00 - 16:00  16:00 - 18:00  18:00 - 20:00  20:00 - 22:00  22:00 - 0:00  \n",
        "0                 1              0              0              0             0  \n",
        "1                 0              1              0              0             0  \n",
        "2                 1              0              0              0             0  \n",
        "3                 0              0              0              0             0  \n",
        "4                 0              0              0              0             0  \n",
        "5                 0              0              0              0             0  \n",
        "6                 0              0              0              0             1  \n",
        "7                 0              0              0              0             0  \n",
        "8                 0              1              0              0             0  \n",
        "9                 0              0              0              0             0  \n",
        "10                0              0              0              0             0  \n",
        "11                0              0              0              0             0  \n",
        "12                0              0              0              0             0  \n",
        "13                0              0              0              0             0  \n",
        "14                0              0              1              0             0  \n",
        "15                1              0              0              0             0  \n",
        "16                0              0              0              0             0  \n",
        "17                0              0              1              0             0  \n",
        "18                1              0              0              0             0  \n",
        "19                0              0              1              0             0  \n",
        "20                0              0              0              0             0  \n",
        "21                0              0              0              1             0  \n",
        "22                0              1              0              0             0  \n",
        "23                1              0              0              0             0  \n",
        "24                0              1              0              1             0  \n",
        "25                0              0              0              0             0  \n",
        "26                0              0              0              0             0  \n",
        "27                1              0              0              0             0  \n",
        "28                0              0              0              0             0  \n",
        "29                0              0              0              0             0  \n",
        "...             ...            ...            ...            ...           ...  \n",
        "6461              0              0              0              0             0  \n",
        "6462              0              0              0              0             0  \n",
        "6463              0              0              0              1             0  \n",
        "6464              0              0              0              1             0  \n",
        "6465              0              0              0              0             0  \n",
        "6466              0              1              0              0             0  \n",
        "6467              0              1              0              0             0  \n",
        "6468              1              0              0              0             0  \n",
        "6469              0              1              0              0             0  \n",
        "6470              0              0              0              0             0  \n",
        "6471              0              0              0              0             0  \n",
        "6472              0              0              1              0             0  \n",
        "6473              0              0              0              0             0  \n",
        "6474              0              0              1              0             0  \n",
        "6475              0              0              0              0             0  \n",
        "6476              0              0              0              0             0  \n",
        "6477              0              0              0              0             0  \n",
        "6478              0              0              1              0             0  \n",
        "6479              0              0              0              0             0  \n",
        "6480              0              0              0              0             0  \n",
        "6481              0              0              0              0             0  \n",
        "6482              0              0              0              0             0  \n",
        "6483              0              1              0              0             0  \n",
        "6484              1              0              0              0             0  \n",
        "6485              0              0              1              0             0  \n",
        "6486              0              0              0              0             0  \n",
        "6487              1              0              0              0             0  \n",
        "6488              2              0              0              0             0  \n",
        "6489              0              0              0              0             1  \n",
        "6490              0              0              0              0             0  \n",
        "\n",
        "[6491 rows x 21 columns]"
       ]
      }
     ],
     "prompt_number": 11
    },
    {
     "cell_type": "code",
     "collapsed": false,
     "input": [
      "df5 = data[['Email', 'Date', 'Revenue']]\n",
      "df2 = data[['Email', 'Date']]\n",
      "df2 = df2.drop_duplicates().reset_index().drop('index',1)\n",
      "df2['Total orders'] = 1\n",
      "df5 = df5.groupby(['Email', 'Date'], as_index=False).sum()\n",
      "df5"
     ],
     "language": "python",
     "metadata": {},
     "outputs": [
      {
       "html": [
        "<div style=\"max-height:1000px;max-width:1500px;overflow:auto;\">\n",
        "<table border=\"1\" class=\"dataframe\">\n",
        "  <thead>\n",
        "    <tr style=\"text-align: right;\">\n",
        "      <th></th>\n",
        "      <th>Email</th>\n",
        "      <th>Date</th>\n",
        "      <th>Revenue</th>\n",
        "    </tr>\n",
        "  </thead>\n",
        "  <tbody>\n",
        "    <tr>\n",
        "      <th>0   </th>\n",
        "      <td>        11435mail@mkallenberger.de</td>\n",
        "      <td> 2013-05-23</td>\n",
        "      <td>  267.17</td>\n",
        "    </tr>\n",
        "    <tr>\n",
        "      <th>1   </th>\n",
        "      <td>                     1@gargour.com</td>\n",
        "      <td> 2015-01-01</td>\n",
        "      <td>  709.10</td>\n",
        "    </tr>\n",
        "    <tr>\n",
        "      <th>2   </th>\n",
        "      <td>                     1@gargour.com</td>\n",
        "      <td> 2015-04-02</td>\n",
        "      <td>  272.00</td>\n",
        "    </tr>\n",
        "    <tr>\n",
        "      <th>3   </th>\n",
        "      <td>                 1kttate@gmail.com</td>\n",
        "      <td> 2015-08-06</td>\n",
        "      <td>  156.00</td>\n",
        "    </tr>\n",
        "    <tr>\n",
        "      <th>4   </th>\n",
        "      <td>                 1kttate@gmail.com</td>\n",
        "      <td> 2015-08-13</td>\n",
        "      <td>  126.00</td>\n",
        "    </tr>\n",
        "    <tr>\n",
        "      <th>5   </th>\n",
        "      <td>                 1kttate@gmail.com</td>\n",
        "      <td> 2015-08-27</td>\n",
        "      <td>  190.00</td>\n",
        "    </tr>\n",
        "    <tr>\n",
        "      <th>6   </th>\n",
        "      <td>         1youniqueflower@gmail.com</td>\n",
        "      <td> 2015-08-27</td>\n",
        "      <td>  122.00</td>\n",
        "    </tr>\n",
        "    <tr>\n",
        "      <th>7   </th>\n",
        "      <td>         1youniqueflower@gmail.com</td>\n",
        "      <td> 2015-11-26</td>\n",
        "      <td>  362.00</td>\n",
        "    </tr>\n",
        "    <tr>\n",
        "      <th>8   </th>\n",
        "      <td>                3aliaa.h@gmail.com</td>\n",
        "      <td> 2015-03-12</td>\n",
        "      <td>   54.00</td>\n",
        "    </tr>\n",
        "    <tr>\n",
        "      <th>9   </th>\n",
        "      <td>                3aliaa.h@gmail.com</td>\n",
        "      <td> 2015-04-02</td>\n",
        "      <td>  106.00</td>\n",
        "    </tr>\n",
        "    <tr>\n",
        "      <th>10  </th>\n",
        "      <td>          777nadiateirah@gmail.com</td>\n",
        "      <td> 2015-11-12</td>\n",
        "      <td>  160.00</td>\n",
        "    </tr>\n",
        "    <tr>\n",
        "      <th>11  </th>\n",
        "      <td>          777nadiateirah@gmail.com</td>\n",
        "      <td> 2015-11-19</td>\n",
        "      <td>  130.00</td>\n",
        "    </tr>\n",
        "    <tr>\n",
        "      <th>12  </th>\n",
        "      <td>                         A2@ed.com</td>\n",
        "      <td> 2015-09-10</td>\n",
        "      <td>   30.00</td>\n",
        "    </tr>\n",
        "    <tr>\n",
        "      <th>13  </th>\n",
        "      <td>           ASHRAF.M.ZAKI@GMAIL.COM</td>\n",
        "      <td> 2012-10-04</td>\n",
        "      <td>  300.18</td>\n",
        "    </tr>\n",
        "    <tr>\n",
        "      <th>14  </th>\n",
        "      <td>              Adhamada@hotmail.com</td>\n",
        "      <td> 2012-07-05</td>\n",
        "      <td>   61.20</td>\n",
        "    </tr>\n",
        "    <tr>\n",
        "      <th>15  </th>\n",
        "      <td>       Ahmed.Habash@moevenpick.com</td>\n",
        "      <td> 2015-04-02</td>\n",
        "      <td>  360.00</td>\n",
        "    </tr>\n",
        "    <tr>\n",
        "      <th>16  </th>\n",
        "      <td> Ahmed.adel.abdelmonam@hotmail.com</td>\n",
        "      <td> 2015-08-20</td>\n",
        "      <td>  424.00</td>\n",
        "    </tr>\n",
        "    <tr>\n",
        "      <th>17  </th>\n",
        "      <td>           Aliamossallam@gmail.com</td>\n",
        "      <td> 2014-10-16</td>\n",
        "      <td> 1104.90</td>\n",
        "    </tr>\n",
        "    <tr>\n",
        "      <th>18  </th>\n",
        "      <td>           Aliamossallam@gmail.com</td>\n",
        "      <td> 2014-10-23</td>\n",
        "      <td>  452.40</td>\n",
        "    </tr>\n",
        "    <tr>\n",
        "      <th>19  </th>\n",
        "      <td>           Aliamossallam@gmail.com</td>\n",
        "      <td> 2014-11-20</td>\n",
        "      <td>  596.00</td>\n",
        "    </tr>\n",
        "    <tr>\n",
        "      <th>20  </th>\n",
        "      <td>           Aliamossallam@gmail.com</td>\n",
        "      <td> 2014-12-11</td>\n",
        "      <td>  358.55</td>\n",
        "    </tr>\n",
        "    <tr>\n",
        "      <th>21  </th>\n",
        "      <td>           Aliamossallam@gmail.com</td>\n",
        "      <td> 2015-01-08</td>\n",
        "      <td>  208.62</td>\n",
        "    </tr>\n",
        "    <tr>\n",
        "      <th>22  </th>\n",
        "      <td>           Aliamossallam@gmail.com</td>\n",
        "      <td> 2015-01-29</td>\n",
        "      <td>  483.10</td>\n",
        "    </tr>\n",
        "    <tr>\n",
        "      <th>23  </th>\n",
        "      <td>           Aliamossallam@gmail.com</td>\n",
        "      <td> 2015-03-05</td>\n",
        "      <td>  583.50</td>\n",
        "    </tr>\n",
        "    <tr>\n",
        "      <th>24  </th>\n",
        "      <td>           Aliamossallam@gmail.com</td>\n",
        "      <td> 2015-05-14</td>\n",
        "      <td> 1034.00</td>\n",
        "    </tr>\n",
        "    <tr>\n",
        "      <th>25  </th>\n",
        "      <td>           Aliamossallam@gmail.com</td>\n",
        "      <td> 2015-06-18</td>\n",
        "      <td>  621.20</td>\n",
        "    </tr>\n",
        "    <tr>\n",
        "      <th>26  </th>\n",
        "      <td>           Aliamossallam@gmail.com</td>\n",
        "      <td> 2015-07-02</td>\n",
        "      <td>  171.50</td>\n",
        "    </tr>\n",
        "    <tr>\n",
        "      <th>27  </th>\n",
        "      <td>           Aliamossallam@gmail.com</td>\n",
        "      <td> 2015-07-09</td>\n",
        "      <td>  198.75</td>\n",
        "    </tr>\n",
        "    <tr>\n",
        "      <th>28  </th>\n",
        "      <td>           Aliamossallam@gmail.com</td>\n",
        "      <td> 2015-08-20</td>\n",
        "      <td>  336.50</td>\n",
        "    </tr>\n",
        "    <tr>\n",
        "      <th>29  </th>\n",
        "      <td>           Aliamossallam@gmail.com</td>\n",
        "      <td> 2015-12-10</td>\n",
        "      <td>  215.00</td>\n",
        "    </tr>\n",
        "    <tr>\n",
        "      <th>...</th>\n",
        "      <td>...</td>\n",
        "      <td>...</td>\n",
        "      <td>...</td>\n",
        "    </tr>\n",
        "    <tr>\n",
        "      <th>6461</th>\n",
        "      <td>            zeina.kassas@gmail.com</td>\n",
        "      <td> 2015-04-16</td>\n",
        "      <td>  378.00</td>\n",
        "    </tr>\n",
        "    <tr>\n",
        "      <th>6462</th>\n",
        "      <td>            zeina.kassas@gmail.com</td>\n",
        "      <td> 2015-04-23</td>\n",
        "      <td>  194.00</td>\n",
        "    </tr>\n",
        "    <tr>\n",
        "      <th>6463</th>\n",
        "      <td>            zeina.kassas@gmail.com</td>\n",
        "      <td> 2015-06-11</td>\n",
        "      <td>   96.00</td>\n",
        "    </tr>\n",
        "    <tr>\n",
        "      <th>6464</th>\n",
        "      <td>         zeina_ahmed95@hotmail.com</td>\n",
        "      <td> 2014-10-23</td>\n",
        "      <td>  718.80</td>\n",
        "    </tr>\n",
        "    <tr>\n",
        "      <th>6465</th>\n",
        "      <td>            zeina_naim@hotmail.com</td>\n",
        "      <td> 2015-11-12</td>\n",
        "      <td>   67.00</td>\n",
        "    </tr>\n",
        "    <tr>\n",
        "      <th>6466</th>\n",
        "      <td>         zeinabahmedtaha@yahoo.com</td>\n",
        "      <td> 2013-01-31</td>\n",
        "      <td>  106.30</td>\n",
        "    </tr>\n",
        "    <tr>\n",
        "      <th>6467</th>\n",
        "      <td>      zeinabkhalil2010@hotmail.com</td>\n",
        "      <td> 2015-05-28</td>\n",
        "      <td>  493.00</td>\n",
        "    </tr>\n",
        "    <tr>\n",
        "      <th>6468</th>\n",
        "      <td>      zeinabkhalil2010@hotmail.com</td>\n",
        "      <td> 2015-06-18</td>\n",
        "      <td>   75.00</td>\n",
        "    </tr>\n",
        "    <tr>\n",
        "      <th>6469</th>\n",
        "      <td>              zeinabnour@gmail.com</td>\n",
        "      <td> 2014-10-30</td>\n",
        "      <td>   87.50</td>\n",
        "    </tr>\n",
        "    <tr>\n",
        "      <th>6470</th>\n",
        "      <td>              zeinahodroj@live.com</td>\n",
        "      <td> 2015-03-19</td>\n",
        "      <td>  342.50</td>\n",
        "    </tr>\n",
        "    <tr>\n",
        "      <th>6471</th>\n",
        "      <td>              zeinasabry@gmail.com</td>\n",
        "      <td> 2013-09-19</td>\n",
        "      <td>  222.85</td>\n",
        "    </tr>\n",
        "    <tr>\n",
        "      <th>6472</th>\n",
        "      <td>              zeinasabry@gmail.com</td>\n",
        "      <td> 2013-10-17</td>\n",
        "      <td>  189.00</td>\n",
        "    </tr>\n",
        "    <tr>\n",
        "      <th>6473</th>\n",
        "      <td>              zeinasabry@gmail.com</td>\n",
        "      <td> 2014-01-02</td>\n",
        "      <td>  345.20</td>\n",
        "    </tr>\n",
        "    <tr>\n",
        "      <th>6474</th>\n",
        "      <td>              zeinasabry@gmail.com</td>\n",
        "      <td> 2014-02-27</td>\n",
        "      <td>  167.35</td>\n",
        "    </tr>\n",
        "    <tr>\n",
        "      <th>6475</th>\n",
        "      <td>              zeinasabry@gmail.com</td>\n",
        "      <td> 2014-05-22</td>\n",
        "      <td>  134.00</td>\n",
        "    </tr>\n",
        "    <tr>\n",
        "      <th>6476</th>\n",
        "      <td>               zeinriham@gmail.com</td>\n",
        "      <td> 2015-09-10</td>\n",
        "      <td>  148.00</td>\n",
        "    </tr>\n",
        "    <tr>\n",
        "      <th>6477</th>\n",
        "      <td>               zeinriham@gmail.com</td>\n",
        "      <td> 2015-11-19</td>\n",
        "      <td>  188.00</td>\n",
        "    </tr>\n",
        "    <tr>\n",
        "      <th>6478</th>\n",
        "      <td>           zenaabdelbaky@gmail.com</td>\n",
        "      <td> 2014-05-15</td>\n",
        "      <td>  126.50</td>\n",
        "    </tr>\n",
        "    <tr>\n",
        "      <th>6479</th>\n",
        "      <td>           zenaabdelbaky@gmail.com</td>\n",
        "      <td> 2015-07-23</td>\n",
        "      <td>  121.00</td>\n",
        "    </tr>\n",
        "    <tr>\n",
        "      <th>6480</th>\n",
        "      <td>            zeyadattalla@yahoo.com</td>\n",
        "      <td> 2015-05-07</td>\n",
        "      <td>   97.40</td>\n",
        "    </tr>\n",
        "    <tr>\n",
        "      <th>6481</th>\n",
        "      <td>                ziadihab@gmail.com</td>\n",
        "      <td> 2015-04-16</td>\n",
        "      <td>   47.00</td>\n",
        "    </tr>\n",
        "    <tr>\n",
        "      <th>6482</th>\n",
        "      <td>               ziadusama@ymail.com</td>\n",
        "      <td> 2015-12-03</td>\n",
        "      <td>   59.00</td>\n",
        "    </tr>\n",
        "    <tr>\n",
        "      <th>6483</th>\n",
        "      <td>               zinelhini@yahoo.com</td>\n",
        "      <td> 2013-10-03</td>\n",
        "      <td>  320.02</td>\n",
        "    </tr>\n",
        "    <tr>\n",
        "      <th>6484</th>\n",
        "      <td>                zleseman@gmail.com</td>\n",
        "      <td> 2013-02-07</td>\n",
        "      <td>  657.60</td>\n",
        "    </tr>\n",
        "    <tr>\n",
        "      <th>6485</th>\n",
        "      <td>                zleseman@gmail.com</td>\n",
        "      <td> 2013-04-18</td>\n",
        "      <td>  501.47</td>\n",
        "    </tr>\n",
        "    <tr>\n",
        "      <th>6486</th>\n",
        "      <td>           zolaykha1st@hotmail.com</td>\n",
        "      <td> 2014-12-11</td>\n",
        "      <td>  610.10</td>\n",
        "    </tr>\n",
        "    <tr>\n",
        "      <th>6487</th>\n",
        "      <td>               zshafei@outlook.com</td>\n",
        "      <td> 2014-12-25</td>\n",
        "      <td>  568.00</td>\n",
        "    </tr>\n",
        "    <tr>\n",
        "      <th>6488</th>\n",
        "      <td>               zshafei@outlook.com</td>\n",
        "      <td> 2015-01-15</td>\n",
        "      <td>  918.00</td>\n",
        "    </tr>\n",
        "    <tr>\n",
        "      <th>6489</th>\n",
        "      <td>               zshafei@outlook.com</td>\n",
        "      <td> 2015-10-29</td>\n",
        "      <td>  389.00</td>\n",
        "    </tr>\n",
        "    <tr>\n",
        "      <th>6490</th>\n",
        "      <td>               zshafei@outlook.com</td>\n",
        "      <td> 2015-11-12</td>\n",
        "      <td>  358.00</td>\n",
        "    </tr>\n",
        "  </tbody>\n",
        "</table>\n",
        "<p>6491 rows \u00d7 3 columns</p>\n",
        "</div>"
       ],
       "metadata": {},
       "output_type": "pyout",
       "prompt_number": 12,
       "text": [
        "                                  Email        Date  Revenue\n",
        "0            11435mail@mkallenberger.de  2013-05-23   267.17\n",
        "1                         1@gargour.com  2015-01-01   709.10\n",
        "2                         1@gargour.com  2015-04-02   272.00\n",
        "3                     1kttate@gmail.com  2015-08-06   156.00\n",
        "4                     1kttate@gmail.com  2015-08-13   126.00\n",
        "5                     1kttate@gmail.com  2015-08-27   190.00\n",
        "6             1youniqueflower@gmail.com  2015-08-27   122.00\n",
        "7             1youniqueflower@gmail.com  2015-11-26   362.00\n",
        "8                    3aliaa.h@gmail.com  2015-03-12    54.00\n",
        "9                    3aliaa.h@gmail.com  2015-04-02   106.00\n",
        "10             777nadiateirah@gmail.com  2015-11-12   160.00\n",
        "11             777nadiateirah@gmail.com  2015-11-19   130.00\n",
        "12                            A2@ed.com  2015-09-10    30.00\n",
        "13              ASHRAF.M.ZAKI@GMAIL.COM  2012-10-04   300.18\n",
        "14                 Adhamada@hotmail.com  2012-07-05    61.20\n",
        "15          Ahmed.Habash@moevenpick.com  2015-04-02   360.00\n",
        "16    Ahmed.adel.abdelmonam@hotmail.com  2015-08-20   424.00\n",
        "17              Aliamossallam@gmail.com  2014-10-16  1104.90\n",
        "18              Aliamossallam@gmail.com  2014-10-23   452.40\n",
        "19              Aliamossallam@gmail.com  2014-11-20   596.00\n",
        "20              Aliamossallam@gmail.com  2014-12-11   358.55\n",
        "21              Aliamossallam@gmail.com  2015-01-08   208.62\n",
        "22              Aliamossallam@gmail.com  2015-01-29   483.10\n",
        "23              Aliamossallam@gmail.com  2015-03-05   583.50\n",
        "24              Aliamossallam@gmail.com  2015-05-14  1034.00\n",
        "25              Aliamossallam@gmail.com  2015-06-18   621.20\n",
        "26              Aliamossallam@gmail.com  2015-07-02   171.50\n",
        "27              Aliamossallam@gmail.com  2015-07-09   198.75\n",
        "28              Aliamossallam@gmail.com  2015-08-20   336.50\n",
        "29              Aliamossallam@gmail.com  2015-12-10   215.00\n",
        "...                                 ...         ...      ...\n",
        "6461             zeina.kassas@gmail.com  2015-04-16   378.00\n",
        "6462             zeina.kassas@gmail.com  2015-04-23   194.00\n",
        "6463             zeina.kassas@gmail.com  2015-06-11    96.00\n",
        "6464          zeina_ahmed95@hotmail.com  2014-10-23   718.80\n",
        "6465             zeina_naim@hotmail.com  2015-11-12    67.00\n",
        "6466          zeinabahmedtaha@yahoo.com  2013-01-31   106.30\n",
        "6467       zeinabkhalil2010@hotmail.com  2015-05-28   493.00\n",
        "6468       zeinabkhalil2010@hotmail.com  2015-06-18    75.00\n",
        "6469               zeinabnour@gmail.com  2014-10-30    87.50\n",
        "6470               zeinahodroj@live.com  2015-03-19   342.50\n",
        "6471               zeinasabry@gmail.com  2013-09-19   222.85\n",
        "6472               zeinasabry@gmail.com  2013-10-17   189.00\n",
        "6473               zeinasabry@gmail.com  2014-01-02   345.20\n",
        "6474               zeinasabry@gmail.com  2014-02-27   167.35\n",
        "6475               zeinasabry@gmail.com  2014-05-22   134.00\n",
        "6476                zeinriham@gmail.com  2015-09-10   148.00\n",
        "6477                zeinriham@gmail.com  2015-11-19   188.00\n",
        "6478            zenaabdelbaky@gmail.com  2014-05-15   126.50\n",
        "6479            zenaabdelbaky@gmail.com  2015-07-23   121.00\n",
        "6480             zeyadattalla@yahoo.com  2015-05-07    97.40\n",
        "6481                 ziadihab@gmail.com  2015-04-16    47.00\n",
        "6482                ziadusama@ymail.com  2015-12-03    59.00\n",
        "6483                zinelhini@yahoo.com  2013-10-03   320.02\n",
        "6484                 zleseman@gmail.com  2013-02-07   657.60\n",
        "6485                 zleseman@gmail.com  2013-04-18   501.47\n",
        "6486            zolaykha1st@hotmail.com  2014-12-11   610.10\n",
        "6487                zshafei@outlook.com  2014-12-25   568.00\n",
        "6488                zshafei@outlook.com  2015-01-15   918.00\n",
        "6489                zshafei@outlook.com  2015-10-29   389.00\n",
        "6490                zshafei@outlook.com  2015-11-12   358.00\n",
        "\n",
        "[6491 rows x 3 columns]"
       ]
      }
     ],
     "prompt_number": 12
    },
    {
     "cell_type": "code",
     "collapsed": false,
     "input": [
      "\n",
      "df2 = df2.groupby(['Email', 'Date'], as_index=False).sum()\n",
      "df2"
     ],
     "language": "python",
     "metadata": {},
     "outputs": [
      {
       "html": [
        "<div style=\"max-height:1000px;max-width:1500px;overflow:auto;\">\n",
        "<table border=\"1\" class=\"dataframe\">\n",
        "  <thead>\n",
        "    <tr style=\"text-align: right;\">\n",
        "      <th></th>\n",
        "      <th>Email</th>\n",
        "      <th>Date</th>\n",
        "      <th>Total orders</th>\n",
        "    </tr>\n",
        "  </thead>\n",
        "  <tbody>\n",
        "    <tr>\n",
        "      <th>0   </th>\n",
        "      <td>        11435mail@mkallenberger.de</td>\n",
        "      <td> 2013-05-23</td>\n",
        "      <td> 1</td>\n",
        "    </tr>\n",
        "    <tr>\n",
        "      <th>1   </th>\n",
        "      <td>                     1@gargour.com</td>\n",
        "      <td> 2015-01-01</td>\n",
        "      <td> 1</td>\n",
        "    </tr>\n",
        "    <tr>\n",
        "      <th>2   </th>\n",
        "      <td>                     1@gargour.com</td>\n",
        "      <td> 2015-04-02</td>\n",
        "      <td> 1</td>\n",
        "    </tr>\n",
        "    <tr>\n",
        "      <th>3   </th>\n",
        "      <td>                 1kttate@gmail.com</td>\n",
        "      <td> 2015-08-06</td>\n",
        "      <td> 1</td>\n",
        "    </tr>\n",
        "    <tr>\n",
        "      <th>4   </th>\n",
        "      <td>                 1kttate@gmail.com</td>\n",
        "      <td> 2015-08-13</td>\n",
        "      <td> 1</td>\n",
        "    </tr>\n",
        "    <tr>\n",
        "      <th>5   </th>\n",
        "      <td>                 1kttate@gmail.com</td>\n",
        "      <td> 2015-08-27</td>\n",
        "      <td> 1</td>\n",
        "    </tr>\n",
        "    <tr>\n",
        "      <th>6   </th>\n",
        "      <td>         1youniqueflower@gmail.com</td>\n",
        "      <td> 2015-08-27</td>\n",
        "      <td> 1</td>\n",
        "    </tr>\n",
        "    <tr>\n",
        "      <th>7   </th>\n",
        "      <td>         1youniqueflower@gmail.com</td>\n",
        "      <td> 2015-11-26</td>\n",
        "      <td> 1</td>\n",
        "    </tr>\n",
        "    <tr>\n",
        "      <th>8   </th>\n",
        "      <td>                3aliaa.h@gmail.com</td>\n",
        "      <td> 2015-03-12</td>\n",
        "      <td> 1</td>\n",
        "    </tr>\n",
        "    <tr>\n",
        "      <th>9   </th>\n",
        "      <td>                3aliaa.h@gmail.com</td>\n",
        "      <td> 2015-04-02</td>\n",
        "      <td> 1</td>\n",
        "    </tr>\n",
        "    <tr>\n",
        "      <th>10  </th>\n",
        "      <td>          777nadiateirah@gmail.com</td>\n",
        "      <td> 2015-11-12</td>\n",
        "      <td> 1</td>\n",
        "    </tr>\n",
        "    <tr>\n",
        "      <th>11  </th>\n",
        "      <td>          777nadiateirah@gmail.com</td>\n",
        "      <td> 2015-11-19</td>\n",
        "      <td> 1</td>\n",
        "    </tr>\n",
        "    <tr>\n",
        "      <th>12  </th>\n",
        "      <td>                         A2@ed.com</td>\n",
        "      <td> 2015-09-10</td>\n",
        "      <td> 1</td>\n",
        "    </tr>\n",
        "    <tr>\n",
        "      <th>13  </th>\n",
        "      <td>           ASHRAF.M.ZAKI@GMAIL.COM</td>\n",
        "      <td> 2012-10-04</td>\n",
        "      <td> 1</td>\n",
        "    </tr>\n",
        "    <tr>\n",
        "      <th>14  </th>\n",
        "      <td>              Adhamada@hotmail.com</td>\n",
        "      <td> 2012-07-05</td>\n",
        "      <td> 1</td>\n",
        "    </tr>\n",
        "    <tr>\n",
        "      <th>15  </th>\n",
        "      <td>       Ahmed.Habash@moevenpick.com</td>\n",
        "      <td> 2015-04-02</td>\n",
        "      <td> 1</td>\n",
        "    </tr>\n",
        "    <tr>\n",
        "      <th>16  </th>\n",
        "      <td> Ahmed.adel.abdelmonam@hotmail.com</td>\n",
        "      <td> 2015-08-20</td>\n",
        "      <td> 1</td>\n",
        "    </tr>\n",
        "    <tr>\n",
        "      <th>17  </th>\n",
        "      <td>           Aliamossallam@gmail.com</td>\n",
        "      <td> 2014-10-16</td>\n",
        "      <td> 1</td>\n",
        "    </tr>\n",
        "    <tr>\n",
        "      <th>18  </th>\n",
        "      <td>           Aliamossallam@gmail.com</td>\n",
        "      <td> 2014-10-23</td>\n",
        "      <td> 1</td>\n",
        "    </tr>\n",
        "    <tr>\n",
        "      <th>19  </th>\n",
        "      <td>           Aliamossallam@gmail.com</td>\n",
        "      <td> 2014-11-20</td>\n",
        "      <td> 1</td>\n",
        "    </tr>\n",
        "    <tr>\n",
        "      <th>20  </th>\n",
        "      <td>           Aliamossallam@gmail.com</td>\n",
        "      <td> 2014-12-11</td>\n",
        "      <td> 1</td>\n",
        "    </tr>\n",
        "    <tr>\n",
        "      <th>21  </th>\n",
        "      <td>           Aliamossallam@gmail.com</td>\n",
        "      <td> 2015-01-08</td>\n",
        "      <td> 1</td>\n",
        "    </tr>\n",
        "    <tr>\n",
        "      <th>22  </th>\n",
        "      <td>           Aliamossallam@gmail.com</td>\n",
        "      <td> 2015-01-29</td>\n",
        "      <td> 1</td>\n",
        "    </tr>\n",
        "    <tr>\n",
        "      <th>23  </th>\n",
        "      <td>           Aliamossallam@gmail.com</td>\n",
        "      <td> 2015-03-05</td>\n",
        "      <td> 1</td>\n",
        "    </tr>\n",
        "    <tr>\n",
        "      <th>24  </th>\n",
        "      <td>           Aliamossallam@gmail.com</td>\n",
        "      <td> 2015-05-14</td>\n",
        "      <td> 1</td>\n",
        "    </tr>\n",
        "    <tr>\n",
        "      <th>25  </th>\n",
        "      <td>           Aliamossallam@gmail.com</td>\n",
        "      <td> 2015-06-18</td>\n",
        "      <td> 1</td>\n",
        "    </tr>\n",
        "    <tr>\n",
        "      <th>26  </th>\n",
        "      <td>           Aliamossallam@gmail.com</td>\n",
        "      <td> 2015-07-02</td>\n",
        "      <td> 1</td>\n",
        "    </tr>\n",
        "    <tr>\n",
        "      <th>27  </th>\n",
        "      <td>           Aliamossallam@gmail.com</td>\n",
        "      <td> 2015-07-09</td>\n",
        "      <td> 1</td>\n",
        "    </tr>\n",
        "    <tr>\n",
        "      <th>28  </th>\n",
        "      <td>           Aliamossallam@gmail.com</td>\n",
        "      <td> 2015-08-20</td>\n",
        "      <td> 1</td>\n",
        "    </tr>\n",
        "    <tr>\n",
        "      <th>29  </th>\n",
        "      <td>           Aliamossallam@gmail.com</td>\n",
        "      <td> 2015-12-10</td>\n",
        "      <td> 1</td>\n",
        "    </tr>\n",
        "    <tr>\n",
        "      <th>...</th>\n",
        "      <td>...</td>\n",
        "      <td>...</td>\n",
        "      <td>...</td>\n",
        "    </tr>\n",
        "    <tr>\n",
        "      <th>6461</th>\n",
        "      <td>            zeina.kassas@gmail.com</td>\n",
        "      <td> 2015-04-16</td>\n",
        "      <td> 1</td>\n",
        "    </tr>\n",
        "    <tr>\n",
        "      <th>6462</th>\n",
        "      <td>            zeina.kassas@gmail.com</td>\n",
        "      <td> 2015-04-23</td>\n",
        "      <td> 1</td>\n",
        "    </tr>\n",
        "    <tr>\n",
        "      <th>6463</th>\n",
        "      <td>            zeina.kassas@gmail.com</td>\n",
        "      <td> 2015-06-11</td>\n",
        "      <td> 1</td>\n",
        "    </tr>\n",
        "    <tr>\n",
        "      <th>6464</th>\n",
        "      <td>         zeina_ahmed95@hotmail.com</td>\n",
        "      <td> 2014-10-23</td>\n",
        "      <td> 1</td>\n",
        "    </tr>\n",
        "    <tr>\n",
        "      <th>6465</th>\n",
        "      <td>            zeina_naim@hotmail.com</td>\n",
        "      <td> 2015-11-12</td>\n",
        "      <td> 1</td>\n",
        "    </tr>\n",
        "    <tr>\n",
        "      <th>6466</th>\n",
        "      <td>         zeinabahmedtaha@yahoo.com</td>\n",
        "      <td> 2013-01-31</td>\n",
        "      <td> 1</td>\n",
        "    </tr>\n",
        "    <tr>\n",
        "      <th>6467</th>\n",
        "      <td>      zeinabkhalil2010@hotmail.com</td>\n",
        "      <td> 2015-05-28</td>\n",
        "      <td> 1</td>\n",
        "    </tr>\n",
        "    <tr>\n",
        "      <th>6468</th>\n",
        "      <td>      zeinabkhalil2010@hotmail.com</td>\n",
        "      <td> 2015-06-18</td>\n",
        "      <td> 1</td>\n",
        "    </tr>\n",
        "    <tr>\n",
        "      <th>6469</th>\n",
        "      <td>              zeinabnour@gmail.com</td>\n",
        "      <td> 2014-10-30</td>\n",
        "      <td> 1</td>\n",
        "    </tr>\n",
        "    <tr>\n",
        "      <th>6470</th>\n",
        "      <td>              zeinahodroj@live.com</td>\n",
        "      <td> 2015-03-19</td>\n",
        "      <td> 1</td>\n",
        "    </tr>\n",
        "    <tr>\n",
        "      <th>6471</th>\n",
        "      <td>              zeinasabry@gmail.com</td>\n",
        "      <td> 2013-09-19</td>\n",
        "      <td> 1</td>\n",
        "    </tr>\n",
        "    <tr>\n",
        "      <th>6472</th>\n",
        "      <td>              zeinasabry@gmail.com</td>\n",
        "      <td> 2013-10-17</td>\n",
        "      <td> 1</td>\n",
        "    </tr>\n",
        "    <tr>\n",
        "      <th>6473</th>\n",
        "      <td>              zeinasabry@gmail.com</td>\n",
        "      <td> 2014-01-02</td>\n",
        "      <td> 1</td>\n",
        "    </tr>\n",
        "    <tr>\n",
        "      <th>6474</th>\n",
        "      <td>              zeinasabry@gmail.com</td>\n",
        "      <td> 2014-02-27</td>\n",
        "      <td> 1</td>\n",
        "    </tr>\n",
        "    <tr>\n",
        "      <th>6475</th>\n",
        "      <td>              zeinasabry@gmail.com</td>\n",
        "      <td> 2014-05-22</td>\n",
        "      <td> 1</td>\n",
        "    </tr>\n",
        "    <tr>\n",
        "      <th>6476</th>\n",
        "      <td>               zeinriham@gmail.com</td>\n",
        "      <td> 2015-09-10</td>\n",
        "      <td> 1</td>\n",
        "    </tr>\n",
        "    <tr>\n",
        "      <th>6477</th>\n",
        "      <td>               zeinriham@gmail.com</td>\n",
        "      <td> 2015-11-19</td>\n",
        "      <td> 1</td>\n",
        "    </tr>\n",
        "    <tr>\n",
        "      <th>6478</th>\n",
        "      <td>           zenaabdelbaky@gmail.com</td>\n",
        "      <td> 2014-05-15</td>\n",
        "      <td> 1</td>\n",
        "    </tr>\n",
        "    <tr>\n",
        "      <th>6479</th>\n",
        "      <td>           zenaabdelbaky@gmail.com</td>\n",
        "      <td> 2015-07-23</td>\n",
        "      <td> 1</td>\n",
        "    </tr>\n",
        "    <tr>\n",
        "      <th>6480</th>\n",
        "      <td>            zeyadattalla@yahoo.com</td>\n",
        "      <td> 2015-05-07</td>\n",
        "      <td> 1</td>\n",
        "    </tr>\n",
        "    <tr>\n",
        "      <th>6481</th>\n",
        "      <td>                ziadihab@gmail.com</td>\n",
        "      <td> 2015-04-16</td>\n",
        "      <td> 1</td>\n",
        "    </tr>\n",
        "    <tr>\n",
        "      <th>6482</th>\n",
        "      <td>               ziadusama@ymail.com</td>\n",
        "      <td> 2015-12-03</td>\n",
        "      <td> 1</td>\n",
        "    </tr>\n",
        "    <tr>\n",
        "      <th>6483</th>\n",
        "      <td>               zinelhini@yahoo.com</td>\n",
        "      <td> 2013-10-03</td>\n",
        "      <td> 1</td>\n",
        "    </tr>\n",
        "    <tr>\n",
        "      <th>6484</th>\n",
        "      <td>                zleseman@gmail.com</td>\n",
        "      <td> 2013-02-07</td>\n",
        "      <td> 1</td>\n",
        "    </tr>\n",
        "    <tr>\n",
        "      <th>6485</th>\n",
        "      <td>                zleseman@gmail.com</td>\n",
        "      <td> 2013-04-18</td>\n",
        "      <td> 1</td>\n",
        "    </tr>\n",
        "    <tr>\n",
        "      <th>6486</th>\n",
        "      <td>           zolaykha1st@hotmail.com</td>\n",
        "      <td> 2014-12-11</td>\n",
        "      <td> 1</td>\n",
        "    </tr>\n",
        "    <tr>\n",
        "      <th>6487</th>\n",
        "      <td>               zshafei@outlook.com</td>\n",
        "      <td> 2014-12-25</td>\n",
        "      <td> 1</td>\n",
        "    </tr>\n",
        "    <tr>\n",
        "      <th>6488</th>\n",
        "      <td>               zshafei@outlook.com</td>\n",
        "      <td> 2015-01-15</td>\n",
        "      <td> 1</td>\n",
        "    </tr>\n",
        "    <tr>\n",
        "      <th>6489</th>\n",
        "      <td>               zshafei@outlook.com</td>\n",
        "      <td> 2015-10-29</td>\n",
        "      <td> 1</td>\n",
        "    </tr>\n",
        "    <tr>\n",
        "      <th>6490</th>\n",
        "      <td>               zshafei@outlook.com</td>\n",
        "      <td> 2015-11-12</td>\n",
        "      <td> 1</td>\n",
        "    </tr>\n",
        "  </tbody>\n",
        "</table>\n",
        "<p>6491 rows \u00d7 3 columns</p>\n",
        "</div>"
       ],
       "metadata": {},
       "output_type": "pyout",
       "prompt_number": 13,
       "text": [
        "                                  Email        Date  Total orders\n",
        "0            11435mail@mkallenberger.de  2013-05-23             1\n",
        "1                         1@gargour.com  2015-01-01             1\n",
        "2                         1@gargour.com  2015-04-02             1\n",
        "3                     1kttate@gmail.com  2015-08-06             1\n",
        "4                     1kttate@gmail.com  2015-08-13             1\n",
        "5                     1kttate@gmail.com  2015-08-27             1\n",
        "6             1youniqueflower@gmail.com  2015-08-27             1\n",
        "7             1youniqueflower@gmail.com  2015-11-26             1\n",
        "8                    3aliaa.h@gmail.com  2015-03-12             1\n",
        "9                    3aliaa.h@gmail.com  2015-04-02             1\n",
        "10             777nadiateirah@gmail.com  2015-11-12             1\n",
        "11             777nadiateirah@gmail.com  2015-11-19             1\n",
        "12                            A2@ed.com  2015-09-10             1\n",
        "13              ASHRAF.M.ZAKI@GMAIL.COM  2012-10-04             1\n",
        "14                 Adhamada@hotmail.com  2012-07-05             1\n",
        "15          Ahmed.Habash@moevenpick.com  2015-04-02             1\n",
        "16    Ahmed.adel.abdelmonam@hotmail.com  2015-08-20             1\n",
        "17              Aliamossallam@gmail.com  2014-10-16             1\n",
        "18              Aliamossallam@gmail.com  2014-10-23             1\n",
        "19              Aliamossallam@gmail.com  2014-11-20             1\n",
        "20              Aliamossallam@gmail.com  2014-12-11             1\n",
        "21              Aliamossallam@gmail.com  2015-01-08             1\n",
        "22              Aliamossallam@gmail.com  2015-01-29             1\n",
        "23              Aliamossallam@gmail.com  2015-03-05             1\n",
        "24              Aliamossallam@gmail.com  2015-05-14             1\n",
        "25              Aliamossallam@gmail.com  2015-06-18             1\n",
        "26              Aliamossallam@gmail.com  2015-07-02             1\n",
        "27              Aliamossallam@gmail.com  2015-07-09             1\n",
        "28              Aliamossallam@gmail.com  2015-08-20             1\n",
        "29              Aliamossallam@gmail.com  2015-12-10             1\n",
        "...                                 ...         ...           ...\n",
        "6461             zeina.kassas@gmail.com  2015-04-16             1\n",
        "6462             zeina.kassas@gmail.com  2015-04-23             1\n",
        "6463             zeina.kassas@gmail.com  2015-06-11             1\n",
        "6464          zeina_ahmed95@hotmail.com  2014-10-23             1\n",
        "6465             zeina_naim@hotmail.com  2015-11-12             1\n",
        "6466          zeinabahmedtaha@yahoo.com  2013-01-31             1\n",
        "6467       zeinabkhalil2010@hotmail.com  2015-05-28             1\n",
        "6468       zeinabkhalil2010@hotmail.com  2015-06-18             1\n",
        "6469               zeinabnour@gmail.com  2014-10-30             1\n",
        "6470               zeinahodroj@live.com  2015-03-19             1\n",
        "6471               zeinasabry@gmail.com  2013-09-19             1\n",
        "6472               zeinasabry@gmail.com  2013-10-17             1\n",
        "6473               zeinasabry@gmail.com  2014-01-02             1\n",
        "6474               zeinasabry@gmail.com  2014-02-27             1\n",
        "6475               zeinasabry@gmail.com  2014-05-22             1\n",
        "6476                zeinriham@gmail.com  2015-09-10             1\n",
        "6477                zeinriham@gmail.com  2015-11-19             1\n",
        "6478            zenaabdelbaky@gmail.com  2014-05-15             1\n",
        "6479            zenaabdelbaky@gmail.com  2015-07-23             1\n",
        "6480             zeyadattalla@yahoo.com  2015-05-07             1\n",
        "6481                 ziadihab@gmail.com  2015-04-16             1\n",
        "6482                ziadusama@ymail.com  2015-12-03             1\n",
        "6483                zinelhini@yahoo.com  2013-10-03             1\n",
        "6484                 zleseman@gmail.com  2013-02-07             1\n",
        "6485                 zleseman@gmail.com  2013-04-18             1\n",
        "6486            zolaykha1st@hotmail.com  2014-12-11             1\n",
        "6487                zshafei@outlook.com  2014-12-25             1\n",
        "6488                zshafei@outlook.com  2015-01-15             1\n",
        "6489                zshafei@outlook.com  2015-10-29             1\n",
        "6490                zshafei@outlook.com  2015-11-12             1\n",
        "\n",
        "[6491 rows x 3 columns]"
       ]
      }
     ],
     "prompt_number": 13
    },
    {
     "cell_type": "code",
     "collapsed": false,
     "input": [
      "#join data frames\n",
      "df3 = df2.merge(df5, on = ['Email', 'Date'], how = 'inner')\n",
      "\n",
      "#calculate basket value and join data frames\n",
      "df3['Basket Value'] = df3.apply(lambda x: x['Revenue']/float(x['Total orders']), axis=1)\n",
      "df3 = df3.merge(df1, on = ['Email', 'Date'], how = 'inner')\n",
      "df3"
     ],
     "language": "python",
     "metadata": {},
     "outputs": [
      {
       "html": [
        "<div style=\"max-height:1000px;max-width:1500px;overflow:auto;\">\n",
        "<table border=\"1\" class=\"dataframe\">\n",
        "  <thead>\n",
        "    <tr style=\"text-align: right;\">\n",
        "      <th></th>\n",
        "      <th>Email</th>\n",
        "      <th>Date</th>\n",
        "      <th>Total orders</th>\n",
        "      <th>Revenue</th>\n",
        "      <th>Basket Value</th>\n",
        "      <th>Sunday</th>\n",
        "      <th>Monday</th>\n",
        "      <th>Tuesday</th>\n",
        "      <th>Wednesday</th>\n",
        "      <th>Thursday</th>\n",
        "      <th>...</th>\n",
        "      <th>4:00 - 6:00</th>\n",
        "      <th>6:00 - 8:00</th>\n",
        "      <th>8:00 - 10:00</th>\n",
        "      <th>10:00 - 12:00</th>\n",
        "      <th>12:00 - 14:00</th>\n",
        "      <th>14:00 - 16:00</th>\n",
        "      <th>16:00 - 18:00</th>\n",
        "      <th>18:00 - 20:00</th>\n",
        "      <th>20:00 - 22:00</th>\n",
        "      <th>22:00 - 0:00</th>\n",
        "    </tr>\n",
        "  </thead>\n",
        "  <tbody>\n",
        "    <tr>\n",
        "      <th>0   </th>\n",
        "      <td>        11435mail@mkallenberger.de</td>\n",
        "      <td> 2013-05-23</td>\n",
        "      <td> 1</td>\n",
        "      <td>  267.17</td>\n",
        "      <td>  267.17</td>\n",
        "      <td> 1</td>\n",
        "      <td> 0</td>\n",
        "      <td> 0</td>\n",
        "      <td> 0</td>\n",
        "      <td> 0</td>\n",
        "      <td>...</td>\n",
        "      <td> 0</td>\n",
        "      <td> 0</td>\n",
        "      <td> 0</td>\n",
        "      <td> 0</td>\n",
        "      <td> 0</td>\n",
        "      <td> 1</td>\n",
        "      <td> 0</td>\n",
        "      <td> 0</td>\n",
        "      <td> 0</td>\n",
        "      <td> 0</td>\n",
        "    </tr>\n",
        "    <tr>\n",
        "      <th>1   </th>\n",
        "      <td>                     1@gargour.com</td>\n",
        "      <td> 2015-01-01</td>\n",
        "      <td> 1</td>\n",
        "      <td>  709.10</td>\n",
        "      <td>  709.10</td>\n",
        "      <td> 0</td>\n",
        "      <td> 0</td>\n",
        "      <td> 0</td>\n",
        "      <td> 0</td>\n",
        "      <td> 0</td>\n",
        "      <td>...</td>\n",
        "      <td> 0</td>\n",
        "      <td> 0</td>\n",
        "      <td> 0</td>\n",
        "      <td> 0</td>\n",
        "      <td> 0</td>\n",
        "      <td> 0</td>\n",
        "      <td> 1</td>\n",
        "      <td> 0</td>\n",
        "      <td> 0</td>\n",
        "      <td> 0</td>\n",
        "    </tr>\n",
        "    <tr>\n",
        "      <th>2   </th>\n",
        "      <td>                     1@gargour.com</td>\n",
        "      <td> 2015-04-02</td>\n",
        "      <td> 1</td>\n",
        "      <td>  272.00</td>\n",
        "      <td>  272.00</td>\n",
        "      <td> 0</td>\n",
        "      <td> 0</td>\n",
        "      <td> 1</td>\n",
        "      <td> 0</td>\n",
        "      <td> 0</td>\n",
        "      <td>...</td>\n",
        "      <td> 0</td>\n",
        "      <td> 0</td>\n",
        "      <td> 0</td>\n",
        "      <td> 0</td>\n",
        "      <td> 0</td>\n",
        "      <td> 1</td>\n",
        "      <td> 0</td>\n",
        "      <td> 0</td>\n",
        "      <td> 0</td>\n",
        "      <td> 0</td>\n",
        "    </tr>\n",
        "    <tr>\n",
        "      <th>3   </th>\n",
        "      <td>                 1kttate@gmail.com</td>\n",
        "      <td> 2015-08-06</td>\n",
        "      <td> 1</td>\n",
        "      <td>  156.00</td>\n",
        "      <td>  156.00</td>\n",
        "      <td> 1</td>\n",
        "      <td> 0</td>\n",
        "      <td> 0</td>\n",
        "      <td> 0</td>\n",
        "      <td> 0</td>\n",
        "      <td>...</td>\n",
        "      <td> 0</td>\n",
        "      <td> 0</td>\n",
        "      <td> 1</td>\n",
        "      <td> 0</td>\n",
        "      <td> 0</td>\n",
        "      <td> 0</td>\n",
        "      <td> 0</td>\n",
        "      <td> 0</td>\n",
        "      <td> 0</td>\n",
        "      <td> 0</td>\n",
        "    </tr>\n",
        "    <tr>\n",
        "      <th>4   </th>\n",
        "      <td>                 1kttate@gmail.com</td>\n",
        "      <td> 2015-08-13</td>\n",
        "      <td> 1</td>\n",
        "      <td>  126.00</td>\n",
        "      <td>  126.00</td>\n",
        "      <td> 0</td>\n",
        "      <td> 1</td>\n",
        "      <td> 0</td>\n",
        "      <td> 0</td>\n",
        "      <td> 0</td>\n",
        "      <td>...</td>\n",
        "      <td> 0</td>\n",
        "      <td> 0</td>\n",
        "      <td> 1</td>\n",
        "      <td> 0</td>\n",
        "      <td> 0</td>\n",
        "      <td> 0</td>\n",
        "      <td> 0</td>\n",
        "      <td> 0</td>\n",
        "      <td> 0</td>\n",
        "      <td> 0</td>\n",
        "    </tr>\n",
        "    <tr>\n",
        "      <th>5   </th>\n",
        "      <td>                 1kttate@gmail.com</td>\n",
        "      <td> 2015-08-27</td>\n",
        "      <td> 1</td>\n",
        "      <td>  190.00</td>\n",
        "      <td>  190.00</td>\n",
        "      <td> 0</td>\n",
        "      <td> 1</td>\n",
        "      <td> 0</td>\n",
        "      <td> 0</td>\n",
        "      <td> 0</td>\n",
        "      <td>...</td>\n",
        "      <td> 0</td>\n",
        "      <td> 0</td>\n",
        "      <td> 0</td>\n",
        "      <td> 1</td>\n",
        "      <td> 0</td>\n",
        "      <td> 0</td>\n",
        "      <td> 0</td>\n",
        "      <td> 0</td>\n",
        "      <td> 0</td>\n",
        "      <td> 0</td>\n",
        "    </tr>\n",
        "    <tr>\n",
        "      <th>6   </th>\n",
        "      <td>         1youniqueflower@gmail.com</td>\n",
        "      <td> 2015-08-27</td>\n",
        "      <td> 1</td>\n",
        "      <td>  122.00</td>\n",
        "      <td>  122.00</td>\n",
        "      <td> 0</td>\n",
        "      <td> 0</td>\n",
        "      <td> 1</td>\n",
        "      <td> 0</td>\n",
        "      <td> 0</td>\n",
        "      <td>...</td>\n",
        "      <td> 0</td>\n",
        "      <td> 0</td>\n",
        "      <td> 0</td>\n",
        "      <td> 0</td>\n",
        "      <td> 0</td>\n",
        "      <td> 0</td>\n",
        "      <td> 0</td>\n",
        "      <td> 0</td>\n",
        "      <td> 0</td>\n",
        "      <td> 1</td>\n",
        "    </tr>\n",
        "    <tr>\n",
        "      <th>7   </th>\n",
        "      <td>         1youniqueflower@gmail.com</td>\n",
        "      <td> 2015-11-26</td>\n",
        "      <td> 1</td>\n",
        "      <td>  362.00</td>\n",
        "      <td>  362.00</td>\n",
        "      <td> 0</td>\n",
        "      <td> 1</td>\n",
        "      <td> 0</td>\n",
        "      <td> 0</td>\n",
        "      <td> 0</td>\n",
        "      <td>...</td>\n",
        "      <td> 0</td>\n",
        "      <td> 0</td>\n",
        "      <td> 0</td>\n",
        "      <td> 0</td>\n",
        "      <td> 1</td>\n",
        "      <td> 0</td>\n",
        "      <td> 0</td>\n",
        "      <td> 0</td>\n",
        "      <td> 0</td>\n",
        "      <td> 0</td>\n",
        "    </tr>\n",
        "    <tr>\n",
        "      <th>8   </th>\n",
        "      <td>                3aliaa.h@gmail.com</td>\n",
        "      <td> 2015-03-12</td>\n",
        "      <td> 1</td>\n",
        "      <td>   54.00</td>\n",
        "      <td>   54.00</td>\n",
        "      <td> 1</td>\n",
        "      <td> 0</td>\n",
        "      <td> 0</td>\n",
        "      <td> 0</td>\n",
        "      <td> 0</td>\n",
        "      <td>...</td>\n",
        "      <td> 0</td>\n",
        "      <td> 0</td>\n",
        "      <td> 0</td>\n",
        "      <td> 0</td>\n",
        "      <td> 0</td>\n",
        "      <td> 0</td>\n",
        "      <td> 1</td>\n",
        "      <td> 0</td>\n",
        "      <td> 0</td>\n",
        "      <td> 0</td>\n",
        "    </tr>\n",
        "    <tr>\n",
        "      <th>9   </th>\n",
        "      <td>                3aliaa.h@gmail.com</td>\n",
        "      <td> 2015-04-02</td>\n",
        "      <td> 1</td>\n",
        "      <td>  106.00</td>\n",
        "      <td>  106.00</td>\n",
        "      <td> 0</td>\n",
        "      <td> 0</td>\n",
        "      <td> 0</td>\n",
        "      <td> 0</td>\n",
        "      <td> 0</td>\n",
        "      <td>...</td>\n",
        "      <td> 0</td>\n",
        "      <td> 0</td>\n",
        "      <td> 0</td>\n",
        "      <td> 0</td>\n",
        "      <td> 0</td>\n",
        "      <td> 0</td>\n",
        "      <td> 0</td>\n",
        "      <td> 0</td>\n",
        "      <td> 0</td>\n",
        "      <td> 0</td>\n",
        "    </tr>\n",
        "    <tr>\n",
        "      <th>10  </th>\n",
        "      <td>          777nadiateirah@gmail.com</td>\n",
        "      <td> 2015-11-12</td>\n",
        "      <td> 1</td>\n",
        "      <td>  160.00</td>\n",
        "      <td>  160.00</td>\n",
        "      <td> 0</td>\n",
        "      <td> 1</td>\n",
        "      <td> 0</td>\n",
        "      <td> 0</td>\n",
        "      <td> 0</td>\n",
        "      <td>...</td>\n",
        "      <td> 0</td>\n",
        "      <td> 0</td>\n",
        "      <td> 0</td>\n",
        "      <td> 0</td>\n",
        "      <td> 1</td>\n",
        "      <td> 0</td>\n",
        "      <td> 0</td>\n",
        "      <td> 0</td>\n",
        "      <td> 0</td>\n",
        "      <td> 0</td>\n",
        "    </tr>\n",
        "    <tr>\n",
        "      <th>11  </th>\n",
        "      <td>          777nadiateirah@gmail.com</td>\n",
        "      <td> 2015-11-19</td>\n",
        "      <td> 1</td>\n",
        "      <td>  130.00</td>\n",
        "      <td>  130.00</td>\n",
        "      <td> 0</td>\n",
        "      <td> 0</td>\n",
        "      <td> 0</td>\n",
        "      <td> 0</td>\n",
        "      <td> 0</td>\n",
        "      <td>...</td>\n",
        "      <td> 0</td>\n",
        "      <td> 0</td>\n",
        "      <td> 0</td>\n",
        "      <td> 1</td>\n",
        "      <td> 0</td>\n",
        "      <td> 0</td>\n",
        "      <td> 0</td>\n",
        "      <td> 0</td>\n",
        "      <td> 0</td>\n",
        "      <td> 0</td>\n",
        "    </tr>\n",
        "    <tr>\n",
        "      <th>12  </th>\n",
        "      <td>                         A2@ed.com</td>\n",
        "      <td> 2015-09-10</td>\n",
        "      <td> 1</td>\n",
        "      <td>   30.00</td>\n",
        "      <td>   30.00</td>\n",
        "      <td> 0</td>\n",
        "      <td> 0</td>\n",
        "      <td> 0</td>\n",
        "      <td> 0</td>\n",
        "      <td> 0</td>\n",
        "      <td>...</td>\n",
        "      <td> 0</td>\n",
        "      <td> 0</td>\n",
        "      <td> 0</td>\n",
        "      <td> 0</td>\n",
        "      <td> 1</td>\n",
        "      <td> 0</td>\n",
        "      <td> 0</td>\n",
        "      <td> 0</td>\n",
        "      <td> 0</td>\n",
        "      <td> 0</td>\n",
        "    </tr>\n",
        "    <tr>\n",
        "      <th>13  </th>\n",
        "      <td>           ASHRAF.M.ZAKI@GMAIL.COM</td>\n",
        "      <td> 2012-10-04</td>\n",
        "      <td> 1</td>\n",
        "      <td>  300.18</td>\n",
        "      <td>  300.18</td>\n",
        "      <td> 0</td>\n",
        "      <td> 0</td>\n",
        "      <td> 0</td>\n",
        "      <td> 0</td>\n",
        "      <td> 0</td>\n",
        "      <td>...</td>\n",
        "      <td> 0</td>\n",
        "      <td> 0</td>\n",
        "      <td> 1</td>\n",
        "      <td> 0</td>\n",
        "      <td> 0</td>\n",
        "      <td> 0</td>\n",
        "      <td> 0</td>\n",
        "      <td> 0</td>\n",
        "      <td> 0</td>\n",
        "      <td> 0</td>\n",
        "    </tr>\n",
        "    <tr>\n",
        "      <th>14  </th>\n",
        "      <td>              Adhamada@hotmail.com</td>\n",
        "      <td> 2012-07-05</td>\n",
        "      <td> 1</td>\n",
        "      <td>   61.20</td>\n",
        "      <td>   61.20</td>\n",
        "      <td> 0</td>\n",
        "      <td> 1</td>\n",
        "      <td> 0</td>\n",
        "      <td> 0</td>\n",
        "      <td> 0</td>\n",
        "      <td>...</td>\n",
        "      <td> 0</td>\n",
        "      <td> 0</td>\n",
        "      <td> 0</td>\n",
        "      <td> 0</td>\n",
        "      <td> 0</td>\n",
        "      <td> 0</td>\n",
        "      <td> 0</td>\n",
        "      <td> 1</td>\n",
        "      <td> 0</td>\n",
        "      <td> 0</td>\n",
        "    </tr>\n",
        "    <tr>\n",
        "      <th>15  </th>\n",
        "      <td>       Ahmed.Habash@moevenpick.com</td>\n",
        "      <td> 2015-04-02</td>\n",
        "      <td> 1</td>\n",
        "      <td>  360.00</td>\n",
        "      <td>  360.00</td>\n",
        "      <td> 0</td>\n",
        "      <td> 0</td>\n",
        "      <td> 0</td>\n",
        "      <td> 0</td>\n",
        "      <td> 0</td>\n",
        "      <td>...</td>\n",
        "      <td> 0</td>\n",
        "      <td> 0</td>\n",
        "      <td> 0</td>\n",
        "      <td> 0</td>\n",
        "      <td> 0</td>\n",
        "      <td> 1</td>\n",
        "      <td> 0</td>\n",
        "      <td> 0</td>\n",
        "      <td> 0</td>\n",
        "      <td> 0</td>\n",
        "    </tr>\n",
        "    <tr>\n",
        "      <th>16  </th>\n",
        "      <td> Ahmed.adel.abdelmonam@hotmail.com</td>\n",
        "      <td> 2015-08-20</td>\n",
        "      <td> 1</td>\n",
        "      <td>  424.00</td>\n",
        "      <td>  424.00</td>\n",
        "      <td> 0</td>\n",
        "      <td> 1</td>\n",
        "      <td> 0</td>\n",
        "      <td> 0</td>\n",
        "      <td> 0</td>\n",
        "      <td>...</td>\n",
        "      <td> 0</td>\n",
        "      <td> 0</td>\n",
        "      <td> 0</td>\n",
        "      <td> 0</td>\n",
        "      <td> 0</td>\n",
        "      <td> 0</td>\n",
        "      <td> 0</td>\n",
        "      <td> 0</td>\n",
        "      <td> 0</td>\n",
        "      <td> 0</td>\n",
        "    </tr>\n",
        "    <tr>\n",
        "      <th>17  </th>\n",
        "      <td>           Aliamossallam@gmail.com</td>\n",
        "      <td> 2014-10-16</td>\n",
        "      <td> 1</td>\n",
        "      <td> 1104.90</td>\n",
        "      <td> 1104.90</td>\n",
        "      <td> 1</td>\n",
        "      <td> 1</td>\n",
        "      <td> 0</td>\n",
        "      <td> 0</td>\n",
        "      <td> 0</td>\n",
        "      <td>...</td>\n",
        "      <td> 0</td>\n",
        "      <td> 0</td>\n",
        "      <td> 0</td>\n",
        "      <td> 1</td>\n",
        "      <td> 0</td>\n",
        "      <td> 0</td>\n",
        "      <td> 0</td>\n",
        "      <td> 1</td>\n",
        "      <td> 0</td>\n",
        "      <td> 0</td>\n",
        "    </tr>\n",
        "    <tr>\n",
        "      <th>18  </th>\n",
        "      <td>           Aliamossallam@gmail.com</td>\n",
        "      <td> 2014-10-23</td>\n",
        "      <td> 1</td>\n",
        "      <td>  452.40</td>\n",
        "      <td>  452.40</td>\n",
        "      <td> 1</td>\n",
        "      <td> 0</td>\n",
        "      <td> 0</td>\n",
        "      <td> 0</td>\n",
        "      <td> 0</td>\n",
        "      <td>...</td>\n",
        "      <td> 0</td>\n",
        "      <td> 0</td>\n",
        "      <td> 0</td>\n",
        "      <td> 1</td>\n",
        "      <td> 1</td>\n",
        "      <td> 1</td>\n",
        "      <td> 0</td>\n",
        "      <td> 0</td>\n",
        "      <td> 0</td>\n",
        "      <td> 0</td>\n",
        "    </tr>\n",
        "    <tr>\n",
        "      <th>19  </th>\n",
        "      <td>           Aliamossallam@gmail.com</td>\n",
        "      <td> 2014-11-20</td>\n",
        "      <td> 1</td>\n",
        "      <td>  596.00</td>\n",
        "      <td>  596.00</td>\n",
        "      <td> 1</td>\n",
        "      <td> 0</td>\n",
        "      <td> 0</td>\n",
        "      <td> 0</td>\n",
        "      <td> 0</td>\n",
        "      <td>...</td>\n",
        "      <td> 0</td>\n",
        "      <td> 0</td>\n",
        "      <td> 0</td>\n",
        "      <td> 0</td>\n",
        "      <td> 0</td>\n",
        "      <td> 0</td>\n",
        "      <td> 0</td>\n",
        "      <td> 1</td>\n",
        "      <td> 0</td>\n",
        "      <td> 0</td>\n",
        "    </tr>\n",
        "    <tr>\n",
        "      <th>20  </th>\n",
        "      <td>           Aliamossallam@gmail.com</td>\n",
        "      <td> 2014-12-11</td>\n",
        "      <td> 1</td>\n",
        "      <td>  358.55</td>\n",
        "      <td>  358.55</td>\n",
        "      <td> 0</td>\n",
        "      <td> 2</td>\n",
        "      <td> 0</td>\n",
        "      <td> 0</td>\n",
        "      <td> 0</td>\n",
        "      <td>...</td>\n",
        "      <td> 0</td>\n",
        "      <td> 0</td>\n",
        "      <td> 0</td>\n",
        "      <td> 0</td>\n",
        "      <td> 1</td>\n",
        "      <td> 0</td>\n",
        "      <td> 0</td>\n",
        "      <td> 0</td>\n",
        "      <td> 0</td>\n",
        "      <td> 0</td>\n",
        "    </tr>\n",
        "    <tr>\n",
        "      <th>21  </th>\n",
        "      <td>           Aliamossallam@gmail.com</td>\n",
        "      <td> 2015-01-08</td>\n",
        "      <td> 1</td>\n",
        "      <td>  208.62</td>\n",
        "      <td>  208.62</td>\n",
        "      <td> 0</td>\n",
        "      <td> 1</td>\n",
        "      <td> 0</td>\n",
        "      <td> 0</td>\n",
        "      <td> 0</td>\n",
        "      <td>...</td>\n",
        "      <td> 0</td>\n",
        "      <td> 0</td>\n",
        "      <td> 0</td>\n",
        "      <td> 0</td>\n",
        "      <td> 0</td>\n",
        "      <td> 0</td>\n",
        "      <td> 0</td>\n",
        "      <td> 0</td>\n",
        "      <td> 1</td>\n",
        "      <td> 0</td>\n",
        "    </tr>\n",
        "    <tr>\n",
        "      <th>22  </th>\n",
        "      <td>           Aliamossallam@gmail.com</td>\n",
        "      <td> 2015-01-29</td>\n",
        "      <td> 1</td>\n",
        "      <td>  483.10</td>\n",
        "      <td>  483.10</td>\n",
        "      <td> 0</td>\n",
        "      <td> 0</td>\n",
        "      <td> 0</td>\n",
        "      <td> 1</td>\n",
        "      <td> 0</td>\n",
        "      <td>...</td>\n",
        "      <td> 0</td>\n",
        "      <td> 0</td>\n",
        "      <td> 0</td>\n",
        "      <td> 0</td>\n",
        "      <td> 0</td>\n",
        "      <td> 0</td>\n",
        "      <td> 1</td>\n",
        "      <td> 0</td>\n",
        "      <td> 0</td>\n",
        "      <td> 0</td>\n",
        "    </tr>\n",
        "    <tr>\n",
        "      <th>23  </th>\n",
        "      <td>           Aliamossallam@gmail.com</td>\n",
        "      <td> 2015-03-05</td>\n",
        "      <td> 1</td>\n",
        "      <td>  583.50</td>\n",
        "      <td>  583.50</td>\n",
        "      <td> 0</td>\n",
        "      <td> 0</td>\n",
        "      <td> 2</td>\n",
        "      <td> 0</td>\n",
        "      <td> 0</td>\n",
        "      <td>...</td>\n",
        "      <td> 0</td>\n",
        "      <td> 0</td>\n",
        "      <td> 0</td>\n",
        "      <td> 0</td>\n",
        "      <td> 1</td>\n",
        "      <td> 1</td>\n",
        "      <td> 0</td>\n",
        "      <td> 0</td>\n",
        "      <td> 0</td>\n",
        "      <td> 0</td>\n",
        "    </tr>\n",
        "    <tr>\n",
        "      <th>24  </th>\n",
        "      <td>           Aliamossallam@gmail.com</td>\n",
        "      <td> 2015-05-14</td>\n",
        "      <td> 1</td>\n",
        "      <td> 1034.00</td>\n",
        "      <td> 1034.00</td>\n",
        "      <td> 0</td>\n",
        "      <td> 0</td>\n",
        "      <td> 0</td>\n",
        "      <td> 0</td>\n",
        "      <td> 0</td>\n",
        "      <td>...</td>\n",
        "      <td> 0</td>\n",
        "      <td> 0</td>\n",
        "      <td> 0</td>\n",
        "      <td> 0</td>\n",
        "      <td> 0</td>\n",
        "      <td> 0</td>\n",
        "      <td> 1</td>\n",
        "      <td> 0</td>\n",
        "      <td> 1</td>\n",
        "      <td> 0</td>\n",
        "    </tr>\n",
        "    <tr>\n",
        "      <th>25  </th>\n",
        "      <td>           Aliamossallam@gmail.com</td>\n",
        "      <td> 2015-06-18</td>\n",
        "      <td> 1</td>\n",
        "      <td>  621.20</td>\n",
        "      <td>  621.20</td>\n",
        "      <td> 0</td>\n",
        "      <td> 0</td>\n",
        "      <td> 0</td>\n",
        "      <td> 0</td>\n",
        "      <td> 0</td>\n",
        "      <td>...</td>\n",
        "      <td> 0</td>\n",
        "      <td> 0</td>\n",
        "      <td> 0</td>\n",
        "      <td> 0</td>\n",
        "      <td> 0</td>\n",
        "      <td> 0</td>\n",
        "      <td> 0</td>\n",
        "      <td> 0</td>\n",
        "      <td> 0</td>\n",
        "      <td> 0</td>\n",
        "    </tr>\n",
        "    <tr>\n",
        "      <th>26  </th>\n",
        "      <td>           Aliamossallam@gmail.com</td>\n",
        "      <td> 2015-07-02</td>\n",
        "      <td> 1</td>\n",
        "      <td>  171.50</td>\n",
        "      <td>  171.50</td>\n",
        "      <td> 0</td>\n",
        "      <td> 0</td>\n",
        "      <td> 0</td>\n",
        "      <td> 0</td>\n",
        "      <td> 0</td>\n",
        "      <td>...</td>\n",
        "      <td> 0</td>\n",
        "      <td> 0</td>\n",
        "      <td> 0</td>\n",
        "      <td> 1</td>\n",
        "      <td> 0</td>\n",
        "      <td> 0</td>\n",
        "      <td> 0</td>\n",
        "      <td> 0</td>\n",
        "      <td> 0</td>\n",
        "      <td> 0</td>\n",
        "    </tr>\n",
        "    <tr>\n",
        "      <th>27  </th>\n",
        "      <td>           Aliamossallam@gmail.com</td>\n",
        "      <td> 2015-07-09</td>\n",
        "      <td> 1</td>\n",
        "      <td>  198.75</td>\n",
        "      <td>  198.75</td>\n",
        "      <td> 1</td>\n",
        "      <td> 0</td>\n",
        "      <td> 0</td>\n",
        "      <td> 0</td>\n",
        "      <td> 0</td>\n",
        "      <td>...</td>\n",
        "      <td> 0</td>\n",
        "      <td> 0</td>\n",
        "      <td> 0</td>\n",
        "      <td> 0</td>\n",
        "      <td> 0</td>\n",
        "      <td> 1</td>\n",
        "      <td> 0</td>\n",
        "      <td> 0</td>\n",
        "      <td> 0</td>\n",
        "      <td> 0</td>\n",
        "    </tr>\n",
        "    <tr>\n",
        "      <th>28  </th>\n",
        "      <td>           Aliamossallam@gmail.com</td>\n",
        "      <td> 2015-08-20</td>\n",
        "      <td> 1</td>\n",
        "      <td>  336.50</td>\n",
        "      <td>  336.50</td>\n",
        "      <td> 0</td>\n",
        "      <td> 1</td>\n",
        "      <td> 0</td>\n",
        "      <td> 0</td>\n",
        "      <td> 0</td>\n",
        "      <td>...</td>\n",
        "      <td> 0</td>\n",
        "      <td> 0</td>\n",
        "      <td> 0</td>\n",
        "      <td> 1</td>\n",
        "      <td> 0</td>\n",
        "      <td> 0</td>\n",
        "      <td> 0</td>\n",
        "      <td> 0</td>\n",
        "      <td> 0</td>\n",
        "      <td> 0</td>\n",
        "    </tr>\n",
        "    <tr>\n",
        "      <th>29  </th>\n",
        "      <td>           Aliamossallam@gmail.com</td>\n",
        "      <td> 2015-12-10</td>\n",
        "      <td> 1</td>\n",
        "      <td>  215.00</td>\n",
        "      <td>  215.00</td>\n",
        "      <td> 0</td>\n",
        "      <td> 1</td>\n",
        "      <td> 0</td>\n",
        "      <td> 0</td>\n",
        "      <td> 0</td>\n",
        "      <td>...</td>\n",
        "      <td> 0</td>\n",
        "      <td> 0</td>\n",
        "      <td> 0</td>\n",
        "      <td> 0</td>\n",
        "      <td> 1</td>\n",
        "      <td> 0</td>\n",
        "      <td> 0</td>\n",
        "      <td> 0</td>\n",
        "      <td> 0</td>\n",
        "      <td> 0</td>\n",
        "    </tr>\n",
        "    <tr>\n",
        "      <th>...</th>\n",
        "      <td>...</td>\n",
        "      <td>...</td>\n",
        "      <td>...</td>\n",
        "      <td>...</td>\n",
        "      <td>...</td>\n",
        "      <td>...</td>\n",
        "      <td>...</td>\n",
        "      <td>...</td>\n",
        "      <td>...</td>\n",
        "      <td>...</td>\n",
        "      <td>...</td>\n",
        "      <td>...</td>\n",
        "      <td>...</td>\n",
        "      <td>...</td>\n",
        "      <td>...</td>\n",
        "      <td>...</td>\n",
        "      <td>...</td>\n",
        "      <td>...</td>\n",
        "      <td>...</td>\n",
        "      <td>...</td>\n",
        "      <td>...</td>\n",
        "    </tr>\n",
        "    <tr>\n",
        "      <th>6461</th>\n",
        "      <td>            zeina.kassas@gmail.com</td>\n",
        "      <td> 2015-04-16</td>\n",
        "      <td> 1</td>\n",
        "      <td>  378.00</td>\n",
        "      <td>  378.00</td>\n",
        "      <td> 0</td>\n",
        "      <td> 2</td>\n",
        "      <td> 0</td>\n",
        "      <td> 0</td>\n",
        "      <td> 0</td>\n",
        "      <td>...</td>\n",
        "      <td> 0</td>\n",
        "      <td> 0</td>\n",
        "      <td> 1</td>\n",
        "      <td> 0</td>\n",
        "      <td> 1</td>\n",
        "      <td> 0</td>\n",
        "      <td> 0</td>\n",
        "      <td> 0</td>\n",
        "      <td> 0</td>\n",
        "      <td> 0</td>\n",
        "    </tr>\n",
        "    <tr>\n",
        "      <th>6462</th>\n",
        "      <td>            zeina.kassas@gmail.com</td>\n",
        "      <td> 2015-04-23</td>\n",
        "      <td> 1</td>\n",
        "      <td>  194.00</td>\n",
        "      <td>  194.00</td>\n",
        "      <td> 1</td>\n",
        "      <td> 0</td>\n",
        "      <td> 0</td>\n",
        "      <td> 0</td>\n",
        "      <td> 0</td>\n",
        "      <td>...</td>\n",
        "      <td> 0</td>\n",
        "      <td> 0</td>\n",
        "      <td> 0</td>\n",
        "      <td> 0</td>\n",
        "      <td> 1</td>\n",
        "      <td> 0</td>\n",
        "      <td> 0</td>\n",
        "      <td> 0</td>\n",
        "      <td> 0</td>\n",
        "      <td> 0</td>\n",
        "    </tr>\n",
        "    <tr>\n",
        "      <th>6463</th>\n",
        "      <td>            zeina.kassas@gmail.com</td>\n",
        "      <td> 2015-06-11</td>\n",
        "      <td> 1</td>\n",
        "      <td>   96.00</td>\n",
        "      <td>   96.00</td>\n",
        "      <td> 0</td>\n",
        "      <td> 0</td>\n",
        "      <td> 1</td>\n",
        "      <td> 0</td>\n",
        "      <td> 0</td>\n",
        "      <td>...</td>\n",
        "      <td> 0</td>\n",
        "      <td> 0</td>\n",
        "      <td> 0</td>\n",
        "      <td> 0</td>\n",
        "      <td> 0</td>\n",
        "      <td> 0</td>\n",
        "      <td> 0</td>\n",
        "      <td> 0</td>\n",
        "      <td> 1</td>\n",
        "      <td> 0</td>\n",
        "    </tr>\n",
        "    <tr>\n",
        "      <th>6464</th>\n",
        "      <td>         zeina_ahmed95@hotmail.com</td>\n",
        "      <td> 2014-10-23</td>\n",
        "      <td> 1</td>\n",
        "      <td>  718.80</td>\n",
        "      <td>  718.80</td>\n",
        "      <td> 1</td>\n",
        "      <td> 0</td>\n",
        "      <td> 0</td>\n",
        "      <td> 0</td>\n",
        "      <td> 0</td>\n",
        "      <td>...</td>\n",
        "      <td> 0</td>\n",
        "      <td> 0</td>\n",
        "      <td> 0</td>\n",
        "      <td> 0</td>\n",
        "      <td> 0</td>\n",
        "      <td> 0</td>\n",
        "      <td> 0</td>\n",
        "      <td> 0</td>\n",
        "      <td> 1</td>\n",
        "      <td> 0</td>\n",
        "    </tr>\n",
        "    <tr>\n",
        "      <th>6465</th>\n",
        "      <td>            zeina_naim@hotmail.com</td>\n",
        "      <td> 2015-11-12</td>\n",
        "      <td> 1</td>\n",
        "      <td>   67.00</td>\n",
        "      <td>   67.00</td>\n",
        "      <td> 0</td>\n",
        "      <td> 0</td>\n",
        "      <td> 0</td>\n",
        "      <td> 1</td>\n",
        "      <td> 0</td>\n",
        "      <td>...</td>\n",
        "      <td> 0</td>\n",
        "      <td> 0</td>\n",
        "      <td> 0</td>\n",
        "      <td> 1</td>\n",
        "      <td> 0</td>\n",
        "      <td> 0</td>\n",
        "      <td> 0</td>\n",
        "      <td> 0</td>\n",
        "      <td> 0</td>\n",
        "      <td> 0</td>\n",
        "    </tr>\n",
        "    <tr>\n",
        "      <th>6466</th>\n",
        "      <td>         zeinabahmedtaha@yahoo.com</td>\n",
        "      <td> 2013-01-31</td>\n",
        "      <td> 1</td>\n",
        "      <td>  106.30</td>\n",
        "      <td>  106.30</td>\n",
        "      <td> 0</td>\n",
        "      <td> 0</td>\n",
        "      <td> 0</td>\n",
        "      <td> 0</td>\n",
        "      <td> 0</td>\n",
        "      <td>...</td>\n",
        "      <td> 0</td>\n",
        "      <td> 0</td>\n",
        "      <td> 0</td>\n",
        "      <td> 0</td>\n",
        "      <td> 0</td>\n",
        "      <td> 0</td>\n",
        "      <td> 1</td>\n",
        "      <td> 0</td>\n",
        "      <td> 0</td>\n",
        "      <td> 0</td>\n",
        "    </tr>\n",
        "    <tr>\n",
        "      <th>6467</th>\n",
        "      <td>      zeinabkhalil2010@hotmail.com</td>\n",
        "      <td> 2015-05-28</td>\n",
        "      <td> 1</td>\n",
        "      <td>  493.00</td>\n",
        "      <td>  493.00</td>\n",
        "      <td> 0</td>\n",
        "      <td> 0</td>\n",
        "      <td> 0</td>\n",
        "      <td> 0</td>\n",
        "      <td> 0</td>\n",
        "      <td>...</td>\n",
        "      <td> 0</td>\n",
        "      <td> 0</td>\n",
        "      <td> 0</td>\n",
        "      <td> 0</td>\n",
        "      <td> 0</td>\n",
        "      <td> 0</td>\n",
        "      <td> 1</td>\n",
        "      <td> 0</td>\n",
        "      <td> 0</td>\n",
        "      <td> 0</td>\n",
        "    </tr>\n",
        "    <tr>\n",
        "      <th>6468</th>\n",
        "      <td>      zeinabkhalil2010@hotmail.com</td>\n",
        "      <td> 2015-06-18</td>\n",
        "      <td> 1</td>\n",
        "      <td>   75.00</td>\n",
        "      <td>   75.00</td>\n",
        "      <td> 0</td>\n",
        "      <td> 0</td>\n",
        "      <td> 0</td>\n",
        "      <td> 1</td>\n",
        "      <td> 0</td>\n",
        "      <td>...</td>\n",
        "      <td> 0</td>\n",
        "      <td> 0</td>\n",
        "      <td> 0</td>\n",
        "      <td> 0</td>\n",
        "      <td> 0</td>\n",
        "      <td> 1</td>\n",
        "      <td> 0</td>\n",
        "      <td> 0</td>\n",
        "      <td> 0</td>\n",
        "      <td> 0</td>\n",
        "    </tr>\n",
        "    <tr>\n",
        "      <th>6469</th>\n",
        "      <td>              zeinabnour@gmail.com</td>\n",
        "      <td> 2014-10-30</td>\n",
        "      <td> 1</td>\n",
        "      <td>   87.50</td>\n",
        "      <td>   87.50</td>\n",
        "      <td> 1</td>\n",
        "      <td> 0</td>\n",
        "      <td> 0</td>\n",
        "      <td> 0</td>\n",
        "      <td> 0</td>\n",
        "      <td>...</td>\n",
        "      <td> 0</td>\n",
        "      <td> 0</td>\n",
        "      <td> 0</td>\n",
        "      <td> 1</td>\n",
        "      <td> 0</td>\n",
        "      <td> 0</td>\n",
        "      <td> 1</td>\n",
        "      <td> 0</td>\n",
        "      <td> 0</td>\n",
        "      <td> 0</td>\n",
        "    </tr>\n",
        "    <tr>\n",
        "      <th>6470</th>\n",
        "      <td>              zeinahodroj@live.com</td>\n",
        "      <td> 2015-03-19</td>\n",
        "      <td> 1</td>\n",
        "      <td>  342.50</td>\n",
        "      <td>  342.50</td>\n",
        "      <td> 2</td>\n",
        "      <td> 0</td>\n",
        "      <td> 0</td>\n",
        "      <td> 0</td>\n",
        "      <td> 0</td>\n",
        "      <td>...</td>\n",
        "      <td> 0</td>\n",
        "      <td> 1</td>\n",
        "      <td> 0</td>\n",
        "      <td> 0</td>\n",
        "      <td> 1</td>\n",
        "      <td> 0</td>\n",
        "      <td> 0</td>\n",
        "      <td> 0</td>\n",
        "      <td> 0</td>\n",
        "      <td> 0</td>\n",
        "    </tr>\n",
        "    <tr>\n",
        "      <th>6471</th>\n",
        "      <td>              zeinasabry@gmail.com</td>\n",
        "      <td> 2013-09-19</td>\n",
        "      <td> 1</td>\n",
        "      <td>  222.85</td>\n",
        "      <td>  222.85</td>\n",
        "      <td> 0</td>\n",
        "      <td> 0</td>\n",
        "      <td> 0</td>\n",
        "      <td> 0</td>\n",
        "      <td> 0</td>\n",
        "      <td>...</td>\n",
        "      <td> 0</td>\n",
        "      <td> 0</td>\n",
        "      <td> 0</td>\n",
        "      <td> 0</td>\n",
        "      <td> 1</td>\n",
        "      <td> 0</td>\n",
        "      <td> 0</td>\n",
        "      <td> 0</td>\n",
        "      <td> 0</td>\n",
        "      <td> 0</td>\n",
        "    </tr>\n",
        "    <tr>\n",
        "      <th>6472</th>\n",
        "      <td>              zeinasabry@gmail.com</td>\n",
        "      <td> 2013-10-17</td>\n",
        "      <td> 1</td>\n",
        "      <td>  189.00</td>\n",
        "      <td>  189.00</td>\n",
        "      <td> 0</td>\n",
        "      <td> 0</td>\n",
        "      <td> 0</td>\n",
        "      <td> 1</td>\n",
        "      <td> 0</td>\n",
        "      <td>...</td>\n",
        "      <td> 0</td>\n",
        "      <td> 0</td>\n",
        "      <td> 0</td>\n",
        "      <td> 0</td>\n",
        "      <td> 0</td>\n",
        "      <td> 0</td>\n",
        "      <td> 0</td>\n",
        "      <td> 1</td>\n",
        "      <td> 0</td>\n",
        "      <td> 0</td>\n",
        "    </tr>\n",
        "    <tr>\n",
        "      <th>6473</th>\n",
        "      <td>              zeinasabry@gmail.com</td>\n",
        "      <td> 2014-01-02</td>\n",
        "      <td> 1</td>\n",
        "      <td>  345.20</td>\n",
        "      <td>  345.20</td>\n",
        "      <td> 1</td>\n",
        "      <td> 1</td>\n",
        "      <td> 0</td>\n",
        "      <td> 0</td>\n",
        "      <td> 0</td>\n",
        "      <td>...</td>\n",
        "      <td> 0</td>\n",
        "      <td> 0</td>\n",
        "      <td> 0</td>\n",
        "      <td> 1</td>\n",
        "      <td> 0</td>\n",
        "      <td> 0</td>\n",
        "      <td> 0</td>\n",
        "      <td> 0</td>\n",
        "      <td> 0</td>\n",
        "      <td> 0</td>\n",
        "    </tr>\n",
        "    <tr>\n",
        "      <th>6474</th>\n",
        "      <td>              zeinasabry@gmail.com</td>\n",
        "      <td> 2014-02-27</td>\n",
        "      <td> 1</td>\n",
        "      <td>  167.35</td>\n",
        "      <td>  167.35</td>\n",
        "      <td> 1</td>\n",
        "      <td> 0</td>\n",
        "      <td> 0</td>\n",
        "      <td> 0</td>\n",
        "      <td> 0</td>\n",
        "      <td>...</td>\n",
        "      <td> 0</td>\n",
        "      <td> 0</td>\n",
        "      <td> 0</td>\n",
        "      <td> 0</td>\n",
        "      <td> 0</td>\n",
        "      <td> 0</td>\n",
        "      <td> 0</td>\n",
        "      <td> 1</td>\n",
        "      <td> 0</td>\n",
        "      <td> 0</td>\n",
        "    </tr>\n",
        "    <tr>\n",
        "      <th>6475</th>\n",
        "      <td>              zeinasabry@gmail.com</td>\n",
        "      <td> 2014-05-22</td>\n",
        "      <td> 1</td>\n",
        "      <td>  134.00</td>\n",
        "      <td>  134.00</td>\n",
        "      <td> 0</td>\n",
        "      <td> 0</td>\n",
        "      <td> 0</td>\n",
        "      <td> 1</td>\n",
        "      <td> 0</td>\n",
        "      <td>...</td>\n",
        "      <td> 0</td>\n",
        "      <td> 0</td>\n",
        "      <td> 0</td>\n",
        "      <td> 1</td>\n",
        "      <td> 0</td>\n",
        "      <td> 0</td>\n",
        "      <td> 0</td>\n",
        "      <td> 0</td>\n",
        "      <td> 0</td>\n",
        "      <td> 0</td>\n",
        "    </tr>\n",
        "    <tr>\n",
        "      <th>6476</th>\n",
        "      <td>               zeinriham@gmail.com</td>\n",
        "      <td> 2015-09-10</td>\n",
        "      <td> 1</td>\n",
        "      <td>  148.00</td>\n",
        "      <td>  148.00</td>\n",
        "      <td> 0</td>\n",
        "      <td> 1</td>\n",
        "      <td> 0</td>\n",
        "      <td> 0</td>\n",
        "      <td> 0</td>\n",
        "      <td>...</td>\n",
        "      <td> 0</td>\n",
        "      <td> 0</td>\n",
        "      <td> 0</td>\n",
        "      <td> 0</td>\n",
        "      <td> 0</td>\n",
        "      <td> 0</td>\n",
        "      <td> 0</td>\n",
        "      <td> 0</td>\n",
        "      <td> 0</td>\n",
        "      <td> 0</td>\n",
        "    </tr>\n",
        "    <tr>\n",
        "      <th>6477</th>\n",
        "      <td>               zeinriham@gmail.com</td>\n",
        "      <td> 2015-11-19</td>\n",
        "      <td> 1</td>\n",
        "      <td>  188.00</td>\n",
        "      <td>  188.00</td>\n",
        "      <td> 0</td>\n",
        "      <td> 0</td>\n",
        "      <td> 1</td>\n",
        "      <td> 0</td>\n",
        "      <td> 0</td>\n",
        "      <td>...</td>\n",
        "      <td> 0</td>\n",
        "      <td> 0</td>\n",
        "      <td> 0</td>\n",
        "      <td> 1</td>\n",
        "      <td> 0</td>\n",
        "      <td> 0</td>\n",
        "      <td> 0</td>\n",
        "      <td> 0</td>\n",
        "      <td> 0</td>\n",
        "      <td> 0</td>\n",
        "    </tr>\n",
        "    <tr>\n",
        "      <th>6478</th>\n",
        "      <td>           zenaabdelbaky@gmail.com</td>\n",
        "      <td> 2014-05-15</td>\n",
        "      <td> 1</td>\n",
        "      <td>  126.50</td>\n",
        "      <td>  126.50</td>\n",
        "      <td> 0</td>\n",
        "      <td> 0</td>\n",
        "      <td> 0</td>\n",
        "      <td> 0</td>\n",
        "      <td> 0</td>\n",
        "      <td>...</td>\n",
        "      <td> 0</td>\n",
        "      <td> 0</td>\n",
        "      <td> 0</td>\n",
        "      <td> 0</td>\n",
        "      <td> 0</td>\n",
        "      <td> 0</td>\n",
        "      <td> 0</td>\n",
        "      <td> 1</td>\n",
        "      <td> 0</td>\n",
        "      <td> 0</td>\n",
        "    </tr>\n",
        "    <tr>\n",
        "      <th>6479</th>\n",
        "      <td>           zenaabdelbaky@gmail.com</td>\n",
        "      <td> 2015-07-23</td>\n",
        "      <td> 1</td>\n",
        "      <td>  121.00</td>\n",
        "      <td>  121.00</td>\n",
        "      <td> 0</td>\n",
        "      <td> 0</td>\n",
        "      <td> 1</td>\n",
        "      <td> 0</td>\n",
        "      <td> 0</td>\n",
        "      <td>...</td>\n",
        "      <td> 0</td>\n",
        "      <td> 0</td>\n",
        "      <td> 0</td>\n",
        "      <td> 0</td>\n",
        "      <td> 0</td>\n",
        "      <td> 0</td>\n",
        "      <td> 0</td>\n",
        "      <td> 0</td>\n",
        "      <td> 0</td>\n",
        "      <td> 0</td>\n",
        "    </tr>\n",
        "    <tr>\n",
        "      <th>6480</th>\n",
        "      <td>            zeyadattalla@yahoo.com</td>\n",
        "      <td> 2015-05-07</td>\n",
        "      <td> 1</td>\n",
        "      <td>   97.40</td>\n",
        "      <td>   97.40</td>\n",
        "      <td> 0</td>\n",
        "      <td> 0</td>\n",
        "      <td> 1</td>\n",
        "      <td> 0</td>\n",
        "      <td> 0</td>\n",
        "      <td>...</td>\n",
        "      <td> 0</td>\n",
        "      <td> 0</td>\n",
        "      <td> 0</td>\n",
        "      <td> 0</td>\n",
        "      <td> 0</td>\n",
        "      <td> 0</td>\n",
        "      <td> 0</td>\n",
        "      <td> 0</td>\n",
        "      <td> 0</td>\n",
        "      <td> 0</td>\n",
        "    </tr>\n",
        "    <tr>\n",
        "      <th>6481</th>\n",
        "      <td>                ziadihab@gmail.com</td>\n",
        "      <td> 2015-04-16</td>\n",
        "      <td> 1</td>\n",
        "      <td>   47.00</td>\n",
        "      <td>   47.00</td>\n",
        "      <td> 0</td>\n",
        "      <td> 1</td>\n",
        "      <td> 0</td>\n",
        "      <td> 0</td>\n",
        "      <td> 0</td>\n",
        "      <td>...</td>\n",
        "      <td> 0</td>\n",
        "      <td> 0</td>\n",
        "      <td> 0</td>\n",
        "      <td> 0</td>\n",
        "      <td> 0</td>\n",
        "      <td> 0</td>\n",
        "      <td> 0</td>\n",
        "      <td> 0</td>\n",
        "      <td> 0</td>\n",
        "      <td> 0</td>\n",
        "    </tr>\n",
        "    <tr>\n",
        "      <th>6482</th>\n",
        "      <td>               ziadusama@ymail.com</td>\n",
        "      <td> 2015-12-03</td>\n",
        "      <td> 1</td>\n",
        "      <td>   59.00</td>\n",
        "      <td>   59.00</td>\n",
        "      <td> 0</td>\n",
        "      <td> 0</td>\n",
        "      <td> 0</td>\n",
        "      <td> 0</td>\n",
        "      <td> 0</td>\n",
        "      <td>...</td>\n",
        "      <td> 0</td>\n",
        "      <td> 0</td>\n",
        "      <td> 0</td>\n",
        "      <td> 1</td>\n",
        "      <td> 0</td>\n",
        "      <td> 0</td>\n",
        "      <td> 0</td>\n",
        "      <td> 0</td>\n",
        "      <td> 0</td>\n",
        "      <td> 0</td>\n",
        "    </tr>\n",
        "    <tr>\n",
        "      <th>6483</th>\n",
        "      <td>               zinelhini@yahoo.com</td>\n",
        "      <td> 2013-10-03</td>\n",
        "      <td> 1</td>\n",
        "      <td>  320.02</td>\n",
        "      <td>  320.02</td>\n",
        "      <td> 0</td>\n",
        "      <td> 1</td>\n",
        "      <td> 0</td>\n",
        "      <td> 0</td>\n",
        "      <td> 0</td>\n",
        "      <td>...</td>\n",
        "      <td> 0</td>\n",
        "      <td> 0</td>\n",
        "      <td> 0</td>\n",
        "      <td> 0</td>\n",
        "      <td> 0</td>\n",
        "      <td> 0</td>\n",
        "      <td> 1</td>\n",
        "      <td> 0</td>\n",
        "      <td> 0</td>\n",
        "      <td> 0</td>\n",
        "    </tr>\n",
        "    <tr>\n",
        "      <th>6484</th>\n",
        "      <td>                zleseman@gmail.com</td>\n",
        "      <td> 2013-02-07</td>\n",
        "      <td> 1</td>\n",
        "      <td>  657.60</td>\n",
        "      <td>  657.60</td>\n",
        "      <td> 0</td>\n",
        "      <td> 0</td>\n",
        "      <td> 0</td>\n",
        "      <td> 0</td>\n",
        "      <td> 0</td>\n",
        "      <td>...</td>\n",
        "      <td> 0</td>\n",
        "      <td> 0</td>\n",
        "      <td> 0</td>\n",
        "      <td> 0</td>\n",
        "      <td> 0</td>\n",
        "      <td> 1</td>\n",
        "      <td> 0</td>\n",
        "      <td> 0</td>\n",
        "      <td> 0</td>\n",
        "      <td> 0</td>\n",
        "    </tr>\n",
        "    <tr>\n",
        "      <th>6485</th>\n",
        "      <td>                zleseman@gmail.com</td>\n",
        "      <td> 2013-04-18</td>\n",
        "      <td> 1</td>\n",
        "      <td>  501.47</td>\n",
        "      <td>  501.47</td>\n",
        "      <td> 1</td>\n",
        "      <td> 0</td>\n",
        "      <td> 0</td>\n",
        "      <td> 0</td>\n",
        "      <td> 0</td>\n",
        "      <td>...</td>\n",
        "      <td> 0</td>\n",
        "      <td> 0</td>\n",
        "      <td> 0</td>\n",
        "      <td> 0</td>\n",
        "      <td> 0</td>\n",
        "      <td> 0</td>\n",
        "      <td> 0</td>\n",
        "      <td> 1</td>\n",
        "      <td> 0</td>\n",
        "      <td> 0</td>\n",
        "    </tr>\n",
        "    <tr>\n",
        "      <th>6486</th>\n",
        "      <td>           zolaykha1st@hotmail.com</td>\n",
        "      <td> 2014-12-11</td>\n",
        "      <td> 1</td>\n",
        "      <td>  610.10</td>\n",
        "      <td>  610.10</td>\n",
        "      <td> 0</td>\n",
        "      <td> 0</td>\n",
        "      <td> 0</td>\n",
        "      <td> 0</td>\n",
        "      <td> 0</td>\n",
        "      <td>...</td>\n",
        "      <td> 0</td>\n",
        "      <td> 0</td>\n",
        "      <td> 1</td>\n",
        "      <td> 0</td>\n",
        "      <td> 0</td>\n",
        "      <td> 0</td>\n",
        "      <td> 0</td>\n",
        "      <td> 0</td>\n",
        "      <td> 0</td>\n",
        "      <td> 0</td>\n",
        "    </tr>\n",
        "    <tr>\n",
        "      <th>6487</th>\n",
        "      <td>               zshafei@outlook.com</td>\n",
        "      <td> 2014-12-25</td>\n",
        "      <td> 1</td>\n",
        "      <td>  568.00</td>\n",
        "      <td>  568.00</td>\n",
        "      <td> 1</td>\n",
        "      <td> 0</td>\n",
        "      <td> 0</td>\n",
        "      <td> 0</td>\n",
        "      <td> 0</td>\n",
        "      <td>...</td>\n",
        "      <td> 0</td>\n",
        "      <td> 0</td>\n",
        "      <td> 0</td>\n",
        "      <td> 0</td>\n",
        "      <td> 0</td>\n",
        "      <td> 1</td>\n",
        "      <td> 0</td>\n",
        "      <td> 0</td>\n",
        "      <td> 0</td>\n",
        "      <td> 0</td>\n",
        "    </tr>\n",
        "    <tr>\n",
        "      <th>6488</th>\n",
        "      <td>               zshafei@outlook.com</td>\n",
        "      <td> 2015-01-15</td>\n",
        "      <td> 1</td>\n",
        "      <td>  918.00</td>\n",
        "      <td>  918.00</td>\n",
        "      <td> 0</td>\n",
        "      <td> 0</td>\n",
        "      <td> 1</td>\n",
        "      <td> 1</td>\n",
        "      <td> 0</td>\n",
        "      <td>...</td>\n",
        "      <td> 0</td>\n",
        "      <td> 0</td>\n",
        "      <td> 0</td>\n",
        "      <td> 0</td>\n",
        "      <td> 0</td>\n",
        "      <td> 2</td>\n",
        "      <td> 0</td>\n",
        "      <td> 0</td>\n",
        "      <td> 0</td>\n",
        "      <td> 0</td>\n",
        "    </tr>\n",
        "    <tr>\n",
        "      <th>6489</th>\n",
        "      <td>               zshafei@outlook.com</td>\n",
        "      <td> 2015-10-29</td>\n",
        "      <td> 1</td>\n",
        "      <td>  389.00</td>\n",
        "      <td>  389.00</td>\n",
        "      <td> 0</td>\n",
        "      <td> 1</td>\n",
        "      <td> 1</td>\n",
        "      <td> 0</td>\n",
        "      <td> 0</td>\n",
        "      <td>...</td>\n",
        "      <td> 0</td>\n",
        "      <td> 0</td>\n",
        "      <td> 0</td>\n",
        "      <td> 0</td>\n",
        "      <td> 1</td>\n",
        "      <td> 0</td>\n",
        "      <td> 0</td>\n",
        "      <td> 0</td>\n",
        "      <td> 0</td>\n",
        "      <td> 1</td>\n",
        "    </tr>\n",
        "    <tr>\n",
        "      <th>6490</th>\n",
        "      <td>               zshafei@outlook.com</td>\n",
        "      <td> 2015-11-12</td>\n",
        "      <td> 1</td>\n",
        "      <td>  358.00</td>\n",
        "      <td>  358.00</td>\n",
        "      <td> 1</td>\n",
        "      <td> 0</td>\n",
        "      <td> 0</td>\n",
        "      <td> 0</td>\n",
        "      <td> 0</td>\n",
        "      <td>...</td>\n",
        "      <td> 0</td>\n",
        "      <td> 0</td>\n",
        "      <td> 0</td>\n",
        "      <td> 1</td>\n",
        "      <td> 0</td>\n",
        "      <td> 0</td>\n",
        "      <td> 0</td>\n",
        "      <td> 0</td>\n",
        "      <td> 0</td>\n",
        "      <td> 0</td>\n",
        "    </tr>\n",
        "  </tbody>\n",
        "</table>\n",
        "<p>6491 rows \u00d7 24 columns</p>\n",
        "</div>"
       ],
       "metadata": {},
       "output_type": "pyout",
       "prompt_number": 14,
       "text": [
        "                                  Email        Date  Total orders  Revenue  \\\n",
        "0            11435mail@mkallenberger.de  2013-05-23             1   267.17   \n",
        "1                         1@gargour.com  2015-01-01             1   709.10   \n",
        "2                         1@gargour.com  2015-04-02             1   272.00   \n",
        "3                     1kttate@gmail.com  2015-08-06             1   156.00   \n",
        "4                     1kttate@gmail.com  2015-08-13             1   126.00   \n",
        "5                     1kttate@gmail.com  2015-08-27             1   190.00   \n",
        "6             1youniqueflower@gmail.com  2015-08-27             1   122.00   \n",
        "7             1youniqueflower@gmail.com  2015-11-26             1   362.00   \n",
        "8                    3aliaa.h@gmail.com  2015-03-12             1    54.00   \n",
        "9                    3aliaa.h@gmail.com  2015-04-02             1   106.00   \n",
        "10             777nadiateirah@gmail.com  2015-11-12             1   160.00   \n",
        "11             777nadiateirah@gmail.com  2015-11-19             1   130.00   \n",
        "12                            A2@ed.com  2015-09-10             1    30.00   \n",
        "13              ASHRAF.M.ZAKI@GMAIL.COM  2012-10-04             1   300.18   \n",
        "14                 Adhamada@hotmail.com  2012-07-05             1    61.20   \n",
        "15          Ahmed.Habash@moevenpick.com  2015-04-02             1   360.00   \n",
        "16    Ahmed.adel.abdelmonam@hotmail.com  2015-08-20             1   424.00   \n",
        "17              Aliamossallam@gmail.com  2014-10-16             1  1104.90   \n",
        "18              Aliamossallam@gmail.com  2014-10-23             1   452.40   \n",
        "19              Aliamossallam@gmail.com  2014-11-20             1   596.00   \n",
        "20              Aliamossallam@gmail.com  2014-12-11             1   358.55   \n",
        "21              Aliamossallam@gmail.com  2015-01-08             1   208.62   \n",
        "22              Aliamossallam@gmail.com  2015-01-29             1   483.10   \n",
        "23              Aliamossallam@gmail.com  2015-03-05             1   583.50   \n",
        "24              Aliamossallam@gmail.com  2015-05-14             1  1034.00   \n",
        "25              Aliamossallam@gmail.com  2015-06-18             1   621.20   \n",
        "26              Aliamossallam@gmail.com  2015-07-02             1   171.50   \n",
        "27              Aliamossallam@gmail.com  2015-07-09             1   198.75   \n",
        "28              Aliamossallam@gmail.com  2015-08-20             1   336.50   \n",
        "29              Aliamossallam@gmail.com  2015-12-10             1   215.00   \n",
        "...                                 ...         ...           ...      ...   \n",
        "6461             zeina.kassas@gmail.com  2015-04-16             1   378.00   \n",
        "6462             zeina.kassas@gmail.com  2015-04-23             1   194.00   \n",
        "6463             zeina.kassas@gmail.com  2015-06-11             1    96.00   \n",
        "6464          zeina_ahmed95@hotmail.com  2014-10-23             1   718.80   \n",
        "6465             zeina_naim@hotmail.com  2015-11-12             1    67.00   \n",
        "6466          zeinabahmedtaha@yahoo.com  2013-01-31             1   106.30   \n",
        "6467       zeinabkhalil2010@hotmail.com  2015-05-28             1   493.00   \n",
        "6468       zeinabkhalil2010@hotmail.com  2015-06-18             1    75.00   \n",
        "6469               zeinabnour@gmail.com  2014-10-30             1    87.50   \n",
        "6470               zeinahodroj@live.com  2015-03-19             1   342.50   \n",
        "6471               zeinasabry@gmail.com  2013-09-19             1   222.85   \n",
        "6472               zeinasabry@gmail.com  2013-10-17             1   189.00   \n",
        "6473               zeinasabry@gmail.com  2014-01-02             1   345.20   \n",
        "6474               zeinasabry@gmail.com  2014-02-27             1   167.35   \n",
        "6475               zeinasabry@gmail.com  2014-05-22             1   134.00   \n",
        "6476                zeinriham@gmail.com  2015-09-10             1   148.00   \n",
        "6477                zeinriham@gmail.com  2015-11-19             1   188.00   \n",
        "6478            zenaabdelbaky@gmail.com  2014-05-15             1   126.50   \n",
        "6479            zenaabdelbaky@gmail.com  2015-07-23             1   121.00   \n",
        "6480             zeyadattalla@yahoo.com  2015-05-07             1    97.40   \n",
        "6481                 ziadihab@gmail.com  2015-04-16             1    47.00   \n",
        "6482                ziadusama@ymail.com  2015-12-03             1    59.00   \n",
        "6483                zinelhini@yahoo.com  2013-10-03             1   320.02   \n",
        "6484                 zleseman@gmail.com  2013-02-07             1   657.60   \n",
        "6485                 zleseman@gmail.com  2013-04-18             1   501.47   \n",
        "6486            zolaykha1st@hotmail.com  2014-12-11             1   610.10   \n",
        "6487                zshafei@outlook.com  2014-12-25             1   568.00   \n",
        "6488                zshafei@outlook.com  2015-01-15             1   918.00   \n",
        "6489                zshafei@outlook.com  2015-10-29             1   389.00   \n",
        "6490                zshafei@outlook.com  2015-11-12             1   358.00   \n",
        "\n",
        "      Basket Value  Sunday  Monday  Tuesday  Wednesday  Thursday  \\\n",
        "0           267.17       1       0        0          0         0   \n",
        "1           709.10       0       0        0          0         0   \n",
        "2           272.00       0       0        1          0         0   \n",
        "3           156.00       1       0        0          0         0   \n",
        "4           126.00       0       1        0          0         0   \n",
        "5           190.00       0       1        0          0         0   \n",
        "6           122.00       0       0        1          0         0   \n",
        "7           362.00       0       1        0          0         0   \n",
        "8            54.00       1       0        0          0         0   \n",
        "9           106.00       0       0        0          0         0   \n",
        "10          160.00       0       1        0          0         0   \n",
        "11          130.00       0       0        0          0         0   \n",
        "12           30.00       0       0        0          0         0   \n",
        "13          300.18       0       0        0          0         0   \n",
        "14           61.20       0       1        0          0         0   \n",
        "15          360.00       0       0        0          0         0   \n",
        "16          424.00       0       1        0          0         0   \n",
        "17         1104.90       1       1        0          0         0   \n",
        "18          452.40       1       0        0          0         0   \n",
        "19          596.00       1       0        0          0         0   \n",
        "20          358.55       0       2        0          0         0   \n",
        "21          208.62       0       1        0          0         0   \n",
        "22          483.10       0       0        0          1         0   \n",
        "23          583.50       0       0        2          0         0   \n",
        "24         1034.00       0       0        0          0         0   \n",
        "25          621.20       0       0        0          0         0   \n",
        "26          171.50       0       0        0          0         0   \n",
        "27          198.75       1       0        0          0         0   \n",
        "28          336.50       0       1        0          0         0   \n",
        "29          215.00       0       1        0          0         0   \n",
        "...            ...     ...     ...      ...        ...       ...   \n",
        "6461        378.00       0       2        0          0         0   \n",
        "6462        194.00       1       0        0          0         0   \n",
        "6463         96.00       0       0        1          0         0   \n",
        "6464        718.80       1       0        0          0         0   \n",
        "6465         67.00       0       0        0          1         0   \n",
        "6466        106.30       0       0        0          0         0   \n",
        "6467        493.00       0       0        0          0         0   \n",
        "6468         75.00       0       0        0          1         0   \n",
        "6469         87.50       1       0        0          0         0   \n",
        "6470        342.50       2       0        0          0         0   \n",
        "6471        222.85       0       0        0          0         0   \n",
        "6472        189.00       0       0        0          1         0   \n",
        "6473        345.20       1       1        0          0         0   \n",
        "6474        167.35       1       0        0          0         0   \n",
        "6475        134.00       0       0        0          1         0   \n",
        "6476        148.00       0       1        0          0         0   \n",
        "6477        188.00       0       0        1          0         0   \n",
        "6478        126.50       0       0        0          0         0   \n",
        "6479        121.00       0       0        1          0         0   \n",
        "6480         97.40       0       0        1          0         0   \n",
        "6481         47.00       0       1        0          0         0   \n",
        "6482         59.00       0       0        0          0         0   \n",
        "6483        320.02       0       1        0          0         0   \n",
        "6484        657.60       0       0        0          0         0   \n",
        "6485        501.47       1       0        0          0         0   \n",
        "6486        610.10       0       0        0          0         0   \n",
        "6487        568.00       1       0        0          0         0   \n",
        "6488        918.00       0       0        1          1         0   \n",
        "6489        389.00       0       1        1          0         0   \n",
        "6490        358.00       1       0        0          0         0   \n",
        "\n",
        "          ...       4:00 - 6:00  6:00 - 8:00  8:00 - 10:00  10:00 - 12:00  \\\n",
        "0         ...                 0            0             0              0   \n",
        "1         ...                 0            0             0              0   \n",
        "2         ...                 0            0             0              0   \n",
        "3         ...                 0            0             1              0   \n",
        "4         ...                 0            0             1              0   \n",
        "5         ...                 0            0             0              1   \n",
        "6         ...                 0            0             0              0   \n",
        "7         ...                 0            0             0              0   \n",
        "8         ...                 0            0             0              0   \n",
        "9         ...                 0            0             0              0   \n",
        "10        ...                 0            0             0              0   \n",
        "11        ...                 0            0             0              1   \n",
        "12        ...                 0            0             0              0   \n",
        "13        ...                 0            0             1              0   \n",
        "14        ...                 0            0             0              0   \n",
        "15        ...                 0            0             0              0   \n",
        "16        ...                 0            0             0              0   \n",
        "17        ...                 0            0             0              1   \n",
        "18        ...                 0            0             0              1   \n",
        "19        ...                 0            0             0              0   \n",
        "20        ...                 0            0             0              0   \n",
        "21        ...                 0            0             0              0   \n",
        "22        ...                 0            0             0              0   \n",
        "23        ...                 0            0             0              0   \n",
        "24        ...                 0            0             0              0   \n",
        "25        ...                 0            0             0              0   \n",
        "26        ...                 0            0             0              1   \n",
        "27        ...                 0            0             0              0   \n",
        "28        ...                 0            0             0              1   \n",
        "29        ...                 0            0             0              0   \n",
        "...       ...               ...          ...           ...            ...   \n",
        "6461      ...                 0            0             1              0   \n",
        "6462      ...                 0            0             0              0   \n",
        "6463      ...                 0            0             0              0   \n",
        "6464      ...                 0            0             0              0   \n",
        "6465      ...                 0            0             0              1   \n",
        "6466      ...                 0            0             0              0   \n",
        "6467      ...                 0            0             0              0   \n",
        "6468      ...                 0            0             0              0   \n",
        "6469      ...                 0            0             0              1   \n",
        "6470      ...                 0            1             0              0   \n",
        "6471      ...                 0            0             0              0   \n",
        "6472      ...                 0            0             0              0   \n",
        "6473      ...                 0            0             0              1   \n",
        "6474      ...                 0            0             0              0   \n",
        "6475      ...                 0            0             0              1   \n",
        "6476      ...                 0            0             0              0   \n",
        "6477      ...                 0            0             0              1   \n",
        "6478      ...                 0            0             0              0   \n",
        "6479      ...                 0            0             0              0   \n",
        "6480      ...                 0            0             0              0   \n",
        "6481      ...                 0            0             0              0   \n",
        "6482      ...                 0            0             0              1   \n",
        "6483      ...                 0            0             0              0   \n",
        "6484      ...                 0            0             0              0   \n",
        "6485      ...                 0            0             0              0   \n",
        "6486      ...                 0            0             1              0   \n",
        "6487      ...                 0            0             0              0   \n",
        "6488      ...                 0            0             0              0   \n",
        "6489      ...                 0            0             0              0   \n",
        "6490      ...                 0            0             0              1   \n",
        "\n",
        "      12:00 - 14:00  14:00 - 16:00  16:00 - 18:00  18:00 - 20:00  \\\n",
        "0                 0              1              0              0   \n",
        "1                 0              0              1              0   \n",
        "2                 0              1              0              0   \n",
        "3                 0              0              0              0   \n",
        "4                 0              0              0              0   \n",
        "5                 0              0              0              0   \n",
        "6                 0              0              0              0   \n",
        "7                 1              0              0              0   \n",
        "8                 0              0              1              0   \n",
        "9                 0              0              0              0   \n",
        "10                1              0              0              0   \n",
        "11                0              0              0              0   \n",
        "12                1              0              0              0   \n",
        "13                0              0              0              0   \n",
        "14                0              0              0              1   \n",
        "15                0              1              0              0   \n",
        "16                0              0              0              0   \n",
        "17                0              0              0              1   \n",
        "18                1              1              0              0   \n",
        "19                0              0              0              1   \n",
        "20                1              0              0              0   \n",
        "21                0              0              0              0   \n",
        "22                0              0              1              0   \n",
        "23                1              1              0              0   \n",
        "24                0              0              1              0   \n",
        "25                0              0              0              0   \n",
        "26                0              0              0              0   \n",
        "27                0              1              0              0   \n",
        "28                0              0              0              0   \n",
        "29                1              0              0              0   \n",
        "...             ...            ...            ...            ...   \n",
        "6461              1              0              0              0   \n",
        "6462              1              0              0              0   \n",
        "6463              0              0              0              0   \n",
        "6464              0              0              0              0   \n",
        "6465              0              0              0              0   \n",
        "6466              0              0              1              0   \n",
        "6467              0              0              1              0   \n",
        "6468              0              1              0              0   \n",
        "6469              0              0              1              0   \n",
        "6470              1              0              0              0   \n",
        "6471              1              0              0              0   \n",
        "6472              0              0              0              1   \n",
        "6473              0              0              0              0   \n",
        "6474              0              0              0              1   \n",
        "6475              0              0              0              0   \n",
        "6476              0              0              0              0   \n",
        "6477              0              0              0              0   \n",
        "6478              0              0              0              1   \n",
        "6479              0              0              0              0   \n",
        "6480              0              0              0              0   \n",
        "6481              0              0              0              0   \n",
        "6482              0              0              0              0   \n",
        "6483              0              0              1              0   \n",
        "6484              0              1              0              0   \n",
        "6485              0              0              0              1   \n",
        "6486              0              0              0              0   \n",
        "6487              0              1              0              0   \n",
        "6488              0              2              0              0   \n",
        "6489              1              0              0              0   \n",
        "6490              0              0              0              0   \n",
        "\n",
        "      20:00 - 22:00  22:00 - 0:00  \n",
        "0                 0             0  \n",
        "1                 0             0  \n",
        "2                 0             0  \n",
        "3                 0             0  \n",
        "4                 0             0  \n",
        "5                 0             0  \n",
        "6                 0             1  \n",
        "7                 0             0  \n",
        "8                 0             0  \n",
        "9                 0             0  \n",
        "10                0             0  \n",
        "11                0             0  \n",
        "12                0             0  \n",
        "13                0             0  \n",
        "14                0             0  \n",
        "15                0             0  \n",
        "16                0             0  \n",
        "17                0             0  \n",
        "18                0             0  \n",
        "19                0             0  \n",
        "20                0             0  \n",
        "21                1             0  \n",
        "22                0             0  \n",
        "23                0             0  \n",
        "24                1             0  \n",
        "25                0             0  \n",
        "26                0             0  \n",
        "27                0             0  \n",
        "28                0             0  \n",
        "29                0             0  \n",
        "...             ...           ...  \n",
        "6461              0             0  \n",
        "6462              0             0  \n",
        "6463              1             0  \n",
        "6464              1             0  \n",
        "6465              0             0  \n",
        "6466              0             0  \n",
        "6467              0             0  \n",
        "6468              0             0  \n",
        "6469              0             0  \n",
        "6470              0             0  \n",
        "6471              0             0  \n",
        "6472              0             0  \n",
        "6473              0             0  \n",
        "6474              0             0  \n",
        "6475              0             0  \n",
        "6476              0             0  \n",
        "6477              0             0  \n",
        "6478              0             0  \n",
        "6479              0             0  \n",
        "6480              0             0  \n",
        "6481              0             0  \n",
        "6482              0             0  \n",
        "6483              0             0  \n",
        "6484              0             0  \n",
        "6485              0             0  \n",
        "6486              0             0  \n",
        "6487              0             0  \n",
        "6488              0             0  \n",
        "6489              0             1  \n",
        "6490              0             0  \n",
        "\n",
        "[6491 rows x 24 columns]"
       ]
      }
     ],
     "prompt_number": 14
    },
    {
     "cell_type": "code",
     "collapsed": false,
     "input": [
      "df = pd.read_csv('C:\\Users\\saisree849\\Documents\\GitHub\\NGS-2.0\\\\12_dashboard_tables\\data_input\\shopify\\orders_export.csv', low_memory=False)\n",
      "#get required columns\n",
      "df1 = df[['Lineitem quantity', 'Lineitem price']]\n",
      "\n",
      "#calculate revenue\n",
      "df1['Revenue'] = df1.apply(lambda x: x['Lineitem quantity'] * x['Lineitem price'], axis=1)\n",
      "df1"
     ],
     "language": "python",
     "metadata": {},
     "outputs": [
      {
       "output_type": "stream",
       "stream": "stderr",
       "text": [
        "-c:6: SettingWithCopyWarning: \n",
        "A value is trying to be set on a copy of a slice from a DataFrame.\n",
        "Try using .loc[row_indexer,col_indexer] = value instead\n",
        "\n",
        "See the the caveats in the documentation: http://pandas.pydata.org/pandas-docs/stable/indexing.html#indexing-view-versus-copy\n"
       ]
      },
      {
       "html": [
        "<div style=\"max-height:1000px;max-width:1500px;overflow:auto;\">\n",
        "<table border=\"1\" class=\"dataframe\">\n",
        "  <thead>\n",
        "    <tr style=\"text-align: right;\">\n",
        "      <th></th>\n",
        "      <th>Lineitem quantity</th>\n",
        "      <th>Lineitem price</th>\n",
        "      <th>Revenue</th>\n",
        "    </tr>\n",
        "  </thead>\n",
        "  <tbody>\n",
        "    <tr>\n",
        "      <th>0    </th>\n",
        "      <td> 4</td>\n",
        "      <td>  45.00</td>\n",
        "      <td> 180.00</td>\n",
        "    </tr>\n",
        "    <tr>\n",
        "      <th>1    </th>\n",
        "      <td> 2</td>\n",
        "      <td>   7.20</td>\n",
        "      <td>  14.40</td>\n",
        "    </tr>\n",
        "    <tr>\n",
        "      <th>2    </th>\n",
        "      <td> 3</td>\n",
        "      <td>  60.30</td>\n",
        "      <td> 180.90</td>\n",
        "    </tr>\n",
        "    <tr>\n",
        "      <th>3    </th>\n",
        "      <td> 1</td>\n",
        "      <td>  30.60</td>\n",
        "      <td>  30.60</td>\n",
        "    </tr>\n",
        "    <tr>\n",
        "      <th>4    </th>\n",
        "      <td> 1</td>\n",
        "      <td>  10.80</td>\n",
        "      <td>  10.80</td>\n",
        "    </tr>\n",
        "    <tr>\n",
        "      <th>5    </th>\n",
        "      <td> 3</td>\n",
        "      <td>  40.50</td>\n",
        "      <td> 121.50</td>\n",
        "    </tr>\n",
        "    <tr>\n",
        "      <th>6    </th>\n",
        "      <td> 1</td>\n",
        "      <td>   2.10</td>\n",
        "      <td>   2.10</td>\n",
        "    </tr>\n",
        "    <tr>\n",
        "      <th>7    </th>\n",
        "      <td> 1</td>\n",
        "      <td>   7.20</td>\n",
        "      <td>   7.20</td>\n",
        "    </tr>\n",
        "    <tr>\n",
        "      <th>8    </th>\n",
        "      <td> 1</td>\n",
        "      <td>   7.20</td>\n",
        "      <td>   7.20</td>\n",
        "    </tr>\n",
        "    <tr>\n",
        "      <th>9    </th>\n",
        "      <td> 1</td>\n",
        "      <td>  60.30</td>\n",
        "      <td>  60.30</td>\n",
        "    </tr>\n",
        "    <tr>\n",
        "      <th>10   </th>\n",
        "      <td> 1</td>\n",
        "      <td>   7.20</td>\n",
        "      <td>   7.20</td>\n",
        "    </tr>\n",
        "    <tr>\n",
        "      <th>11   </th>\n",
        "      <td> 1</td>\n",
        "      <td>  45.00</td>\n",
        "      <td>  45.00</td>\n",
        "    </tr>\n",
        "    <tr>\n",
        "      <th>12   </th>\n",
        "      <td> 1</td>\n",
        "      <td>  60.30</td>\n",
        "      <td>  60.30</td>\n",
        "    </tr>\n",
        "    <tr>\n",
        "      <th>13   </th>\n",
        "      <td> 1</td>\n",
        "      <td>  33.30</td>\n",
        "      <td>  33.30</td>\n",
        "    </tr>\n",
        "    <tr>\n",
        "      <th>14   </th>\n",
        "      <td> 1</td>\n",
        "      <td>  60.30</td>\n",
        "      <td>  60.30</td>\n",
        "    </tr>\n",
        "    <tr>\n",
        "      <th>15   </th>\n",
        "      <td> 1</td>\n",
        "      <td> 114.00</td>\n",
        "      <td> 114.00</td>\n",
        "    </tr>\n",
        "    <tr>\n",
        "      <th>16   </th>\n",
        "      <td> 1</td>\n",
        "      <td> 114.00</td>\n",
        "      <td> 114.00</td>\n",
        "    </tr>\n",
        "    <tr>\n",
        "      <th>17   </th>\n",
        "      <td> 1</td>\n",
        "      <td>  98.00</td>\n",
        "      <td>  98.00</td>\n",
        "    </tr>\n",
        "    <tr>\n",
        "      <th>18   </th>\n",
        "      <td> 1</td>\n",
        "      <td>  65.00</td>\n",
        "      <td>  65.00</td>\n",
        "    </tr>\n",
        "    <tr>\n",
        "      <th>19   </th>\n",
        "      <td> 1</td>\n",
        "      <td>  57.60</td>\n",
        "      <td>  57.60</td>\n",
        "    </tr>\n",
        "    <tr>\n",
        "      <th>20   </th>\n",
        "      <td> 1</td>\n",
        "      <td>  57.60</td>\n",
        "      <td>  57.60</td>\n",
        "    </tr>\n",
        "    <tr>\n",
        "      <th>21   </th>\n",
        "      <td> 4</td>\n",
        "      <td> 148.00</td>\n",
        "      <td> 592.00</td>\n",
        "    </tr>\n",
        "    <tr>\n",
        "      <th>22   </th>\n",
        "      <td> 1</td>\n",
        "      <td>  70.20</td>\n",
        "      <td>  70.20</td>\n",
        "    </tr>\n",
        "    <tr>\n",
        "      <th>23   </th>\n",
        "      <td> 1</td>\n",
        "      <td>  41.00</td>\n",
        "      <td>  41.00</td>\n",
        "    </tr>\n",
        "    <tr>\n",
        "      <th>24   </th>\n",
        "      <td> 2</td>\n",
        "      <td>   4.25</td>\n",
        "      <td>   8.50</td>\n",
        "    </tr>\n",
        "    <tr>\n",
        "      <th>25   </th>\n",
        "      <td> 1</td>\n",
        "      <td>  10.80</td>\n",
        "      <td>  10.80</td>\n",
        "    </tr>\n",
        "    <tr>\n",
        "      <th>26   </th>\n",
        "      <td> 2</td>\n",
        "      <td>  57.60</td>\n",
        "      <td> 115.20</td>\n",
        "    </tr>\n",
        "    <tr>\n",
        "      <th>27   </th>\n",
        "      <td> 2</td>\n",
        "      <td>  57.60</td>\n",
        "      <td> 115.20</td>\n",
        "    </tr>\n",
        "    <tr>\n",
        "      <th>28   </th>\n",
        "      <td> 2</td>\n",
        "      <td>  40.50</td>\n",
        "      <td>  81.00</td>\n",
        "    </tr>\n",
        "    <tr>\n",
        "      <th>29   </th>\n",
        "      <td> 1</td>\n",
        "      <td>  60.30</td>\n",
        "      <td>  60.30</td>\n",
        "    </tr>\n",
        "    <tr>\n",
        "      <th>...</th>\n",
        "      <td>...</td>\n",
        "      <td>...</td>\n",
        "      <td>...</td>\n",
        "    </tr>\n",
        "    <tr>\n",
        "      <th>60742</th>\n",
        "      <td> 1</td>\n",
        "      <td>  11.38</td>\n",
        "      <td>  11.38</td>\n",
        "    </tr>\n",
        "    <tr>\n",
        "      <th>60743</th>\n",
        "      <td> 1</td>\n",
        "      <td>  21.13</td>\n",
        "      <td>  21.13</td>\n",
        "    </tr>\n",
        "    <tr>\n",
        "      <th>60744</th>\n",
        "      <td> 2</td>\n",
        "      <td>  10.40</td>\n",
        "      <td>  20.80</td>\n",
        "    </tr>\n",
        "    <tr>\n",
        "      <th>60745</th>\n",
        "      <td> 5</td>\n",
        "      <td>  44.46</td>\n",
        "      <td> 222.30</td>\n",
        "    </tr>\n",
        "    <tr>\n",
        "      <th>60746</th>\n",
        "      <td> 1</td>\n",
        "      <td>   8.19</td>\n",
        "      <td>   8.19</td>\n",
        "    </tr>\n",
        "    <tr>\n",
        "      <th>60747</th>\n",
        "      <td> 1</td>\n",
        "      <td>  45.50</td>\n",
        "      <td>  45.50</td>\n",
        "    </tr>\n",
        "    <tr>\n",
        "      <th>60748</th>\n",
        "      <td> 1</td>\n",
        "      <td>  10.40</td>\n",
        "      <td>  10.40</td>\n",
        "    </tr>\n",
        "    <tr>\n",
        "      <th>60749</th>\n",
        "      <td> 1</td>\n",
        "      <td>  16.58</td>\n",
        "      <td>  16.58</td>\n",
        "    </tr>\n",
        "    <tr>\n",
        "      <th>60750</th>\n",
        "      <td> 1</td>\n",
        "      <td>   9.36</td>\n",
        "      <td>   9.36</td>\n",
        "    </tr>\n",
        "    <tr>\n",
        "      <th>60751</th>\n",
        "      <td> 1</td>\n",
        "      <td>  26.00</td>\n",
        "      <td>  26.00</td>\n",
        "    </tr>\n",
        "    <tr>\n",
        "      <th>60752</th>\n",
        "      <td> 1</td>\n",
        "      <td>  39.52</td>\n",
        "      <td>  39.52</td>\n",
        "    </tr>\n",
        "    <tr>\n",
        "      <th>60753</th>\n",
        "      <td> 5</td>\n",
        "      <td>   9.10</td>\n",
        "      <td>  45.50</td>\n",
        "    </tr>\n",
        "    <tr>\n",
        "      <th>60754</th>\n",
        "      <td> 3</td>\n",
        "      <td>  26.65</td>\n",
        "      <td>  79.95</td>\n",
        "    </tr>\n",
        "    <tr>\n",
        "      <th>60755</th>\n",
        "      <td> 2</td>\n",
        "      <td>  56.88</td>\n",
        "      <td> 113.76</td>\n",
        "    </tr>\n",
        "    <tr>\n",
        "      <th>60756</th>\n",
        "      <td> 2</td>\n",
        "      <td>  56.88</td>\n",
        "      <td> 113.76</td>\n",
        "    </tr>\n",
        "    <tr>\n",
        "      <th>60757</th>\n",
        "      <td> 2</td>\n",
        "      <td>  21.13</td>\n",
        "      <td>  42.26</td>\n",
        "    </tr>\n",
        "    <tr>\n",
        "      <th>60758</th>\n",
        "      <td> 1</td>\n",
        "      <td>   7.80</td>\n",
        "      <td>   7.80</td>\n",
        "    </tr>\n",
        "    <tr>\n",
        "      <th>60759</th>\n",
        "      <td> 1</td>\n",
        "      <td>  22.10</td>\n",
        "      <td>  22.10</td>\n",
        "    </tr>\n",
        "    <tr>\n",
        "      <th>60760</th>\n",
        "      <td> 1</td>\n",
        "      <td>  40.95</td>\n",
        "      <td>  40.95</td>\n",
        "    </tr>\n",
        "    <tr>\n",
        "      <th>60761</th>\n",
        "      <td> 1</td>\n",
        "      <td>  26.65</td>\n",
        "      <td>  26.65</td>\n",
        "    </tr>\n",
        "    <tr>\n",
        "      <th>60762</th>\n",
        "      <td> 1</td>\n",
        "      <td>  21.13</td>\n",
        "      <td>  21.13</td>\n",
        "    </tr>\n",
        "    <tr>\n",
        "      <th>60763</th>\n",
        "      <td> 1</td>\n",
        "      <td>   9.10</td>\n",
        "      <td>   9.10</td>\n",
        "    </tr>\n",
        "    <tr>\n",
        "      <th>60764</th>\n",
        "      <td> 1</td>\n",
        "      <td>  26.65</td>\n",
        "      <td>  26.65</td>\n",
        "    </tr>\n",
        "    <tr>\n",
        "      <th>60765</th>\n",
        "      <td> 1</td>\n",
        "      <td>  52.00</td>\n",
        "      <td>  52.00</td>\n",
        "    </tr>\n",
        "    <tr>\n",
        "      <th>60766</th>\n",
        "      <td> 1</td>\n",
        "      <td>  56.88</td>\n",
        "      <td>  56.88</td>\n",
        "    </tr>\n",
        "    <tr>\n",
        "      <th>60767</th>\n",
        "      <td> 1</td>\n",
        "      <td>  56.88</td>\n",
        "      <td>  56.88</td>\n",
        "    </tr>\n",
        "    <tr>\n",
        "      <th>60768</th>\n",
        "      <td> 1</td>\n",
        "      <td>   8.19</td>\n",
        "      <td>   8.19</td>\n",
        "    </tr>\n",
        "    <tr>\n",
        "      <th>60769</th>\n",
        "      <td> 1</td>\n",
        "      <td>  10.40</td>\n",
        "      <td>  10.40</td>\n",
        "    </tr>\n",
        "    <tr>\n",
        "      <th>60770</th>\n",
        "      <td> 1</td>\n",
        "      <td>  26.65</td>\n",
        "      <td>  26.65</td>\n",
        "    </tr>\n",
        "    <tr>\n",
        "      <th>60771</th>\n",
        "      <td> 1</td>\n",
        "      <td>   9.36</td>\n",
        "      <td>   9.36</td>\n",
        "    </tr>\n",
        "  </tbody>\n",
        "</table>\n",
        "<p>60772 rows \u00d7 3 columns</p>\n",
        "</div>"
       ],
       "metadata": {},
       "output_type": "pyout",
       "prompt_number": 15,
       "text": [
        "       Lineitem quantity  Lineitem price  Revenue\n",
        "0                      4           45.00   180.00\n",
        "1                      2            7.20    14.40\n",
        "2                      3           60.30   180.90\n",
        "3                      1           30.60    30.60\n",
        "4                      1           10.80    10.80\n",
        "5                      3           40.50   121.50\n",
        "6                      1            2.10     2.10\n",
        "7                      1            7.20     7.20\n",
        "8                      1            7.20     7.20\n",
        "9                      1           60.30    60.30\n",
        "10                     1            7.20     7.20\n",
        "11                     1           45.00    45.00\n",
        "12                     1           60.30    60.30\n",
        "13                     1           33.30    33.30\n",
        "14                     1           60.30    60.30\n",
        "15                     1          114.00   114.00\n",
        "16                     1          114.00   114.00\n",
        "17                     1           98.00    98.00\n",
        "18                     1           65.00    65.00\n",
        "19                     1           57.60    57.60\n",
        "20                     1           57.60    57.60\n",
        "21                     4          148.00   592.00\n",
        "22                     1           70.20    70.20\n",
        "23                     1           41.00    41.00\n",
        "24                     2            4.25     8.50\n",
        "25                     1           10.80    10.80\n",
        "26                     2           57.60   115.20\n",
        "27                     2           57.60   115.20\n",
        "28                     2           40.50    81.00\n",
        "29                     1           60.30    60.30\n",
        "...                  ...             ...      ...\n",
        "60742                  1           11.38    11.38\n",
        "60743                  1           21.13    21.13\n",
        "60744                  2           10.40    20.80\n",
        "60745                  5           44.46   222.30\n",
        "60746                  1            8.19     8.19\n",
        "60747                  1           45.50    45.50\n",
        "60748                  1           10.40    10.40\n",
        "60749                  1           16.58    16.58\n",
        "60750                  1            9.36     9.36\n",
        "60751                  1           26.00    26.00\n",
        "60752                  1           39.52    39.52\n",
        "60753                  5            9.10    45.50\n",
        "60754                  3           26.65    79.95\n",
        "60755                  2           56.88   113.76\n",
        "60756                  2           56.88   113.76\n",
        "60757                  2           21.13    42.26\n",
        "60758                  1            7.80     7.80\n",
        "60759                  1           22.10    22.10\n",
        "60760                  1           40.95    40.95\n",
        "60761                  1           26.65    26.65\n",
        "60762                  1           21.13    21.13\n",
        "60763                  1            9.10     9.10\n",
        "60764                  1           26.65    26.65\n",
        "60765                  1           52.00    52.00\n",
        "60766                  1           56.88    56.88\n",
        "60767                  1           56.88    56.88\n",
        "60768                  1            8.19     8.19\n",
        "60769                  1           10.40    10.40\n",
        "60770                  1           26.65    26.65\n",
        "60771                  1            9.36     9.36\n",
        "\n",
        "[60772 rows x 3 columns]"
       ]
      }
     ],
     "prompt_number": 15
    },
    {
     "cell_type": "code",
     "collapsed": false,
     "input": [
      "#get required columns\n",
      "df1=df1[['Lineitem quantity', 'Revenue']]\n",
      "df = df[['Email']]\n",
      "\n",
      "df = df.drop_duplicates().reset_index().drop('index',1)\n",
      "df"
     ],
     "language": "python",
     "metadata": {},
     "outputs": [
      {
       "html": [
        "<div style=\"max-height:1000px;max-width:1500px;overflow:auto;\">\n",
        "<table border=\"1\" class=\"dataframe\">\n",
        "  <thead>\n",
        "    <tr style=\"text-align: right;\">\n",
        "      <th></th>\n",
        "      <th>Email</th>\n",
        "    </tr>\n",
        "  </thead>\n",
        "  <tbody>\n",
        "    <tr>\n",
        "      <th>0   </th>\n",
        "      <td>     rehabmansour@gmail.com</td>\n",
        "    </tr>\n",
        "    <tr>\n",
        "      <th>1   </th>\n",
        "      <td>        nabouheif@yahoo.com</td>\n",
        "    </tr>\n",
        "    <tr>\n",
        "      <th>2   </th>\n",
        "      <td>     fracicardi@hotmail.com</td>\n",
        "    </tr>\n",
        "    <tr>\n",
        "      <th>3   </th>\n",
        "      <td>     ahmed.fakhry@gmail.com</td>\n",
        "    </tr>\n",
        "    <tr>\n",
        "      <th>4   </th>\n",
        "      <td>       Missilou11@yahoo.com</td>\n",
        "    </tr>\n",
        "    <tr>\n",
        "      <th>5   </th>\n",
        "      <td>    sallysalem123@gmail.com</td>\n",
        "    </tr>\n",
        "    <tr>\n",
        "      <th>6   </th>\n",
        "      <td>   nayera_fadel@hotmail.com</td>\n",
        "    </tr>\n",
        "    <tr>\n",
        "      <th>7   </th>\n",
        "      <td>      raoufzdn553@gmail.com</td>\n",
        "    </tr>\n",
        "    <tr>\n",
        "      <th>8   </th>\n",
        "      <td>     gaylynmbogho@yahoo.com</td>\n",
        "    </tr>\n",
        "    <tr>\n",
        "      <th>9   </th>\n",
        "      <td>       oshahavi13@gmail.com</td>\n",
        "    </tr>\n",
        "    <tr>\n",
        "      <th>10  </th>\n",
        "      <td>       Daiieldeeb@gmail.com</td>\n",
        "    </tr>\n",
        "    <tr>\n",
        "      <th>11  </th>\n",
        "      <td>        yara.azam@gmail.com</td>\n",
        "    </tr>\n",
        "    <tr>\n",
        "      <th>12  </th>\n",
        "      <td>      dalia_allam@yahoo.com</td>\n",
        "    </tr>\n",
        "    <tr>\n",
        "      <th>13  </th>\n",
        "      <td>      elhanem52@hotmail.com</td>\n",
        "    </tr>\n",
        "    <tr>\n",
        "      <th>14  </th>\n",
        "      <td>   tarek_seddik@hotmail.com</td>\n",
        "    </tr>\n",
        "    <tr>\n",
        "      <th>15  </th>\n",
        "      <td>    maie.nomrossy@gmail.com</td>\n",
        "    </tr>\n",
        "    <tr>\n",
        "      <th>16  </th>\n",
        "      <td>      hazem.shamy@gmail.com</td>\n",
        "    </tr>\n",
        "    <tr>\n",
        "      <th>17  </th>\n",
        "      <td>     maya.p.nawal@gmail.com</td>\n",
        "    </tr>\n",
        "    <tr>\n",
        "      <th>18  </th>\n",
        "      <td>  jamesmorgan0091@gmail.com</td>\n",
        "    </tr>\n",
        "    <tr>\n",
        "      <th>19  </th>\n",
        "      <td>       israa_s@aucegypt.edu</td>\n",
        "    </tr>\n",
        "    <tr>\n",
        "      <th>20  </th>\n",
        "      <td>     RODY.DOVE123@GMAIL.COM</td>\n",
        "    </tr>\n",
        "    <tr>\n",
        "      <th>21  </th>\n",
        "      <td>     amaghraby@mediawave.me</td>\n",
        "    </tr>\n",
        "    <tr>\n",
        "      <th>22  </th>\n",
        "      <td>        hibba_b@hotmail.com</td>\n",
        "    </tr>\n",
        "    <tr>\n",
        "      <th>23  </th>\n",
        "      <td>     pascalenader@gmail.com</td>\n",
        "    </tr>\n",
        "    <tr>\n",
        "      <th>24  </th>\n",
        "      <td>     doaa.khattab@gmail.com</td>\n",
        "    </tr>\n",
        "    <tr>\n",
        "      <th>25  </th>\n",
        "      <td>     sunset_456@hotmail.com</td>\n",
        "    </tr>\n",
        "    <tr>\n",
        "      <th>26  </th>\n",
        "      <td> colleen_lovely@hotmail.com</td>\n",
        "    </tr>\n",
        "    <tr>\n",
        "      <th>27  </th>\n",
        "      <td>           imrhazi@yahoo.fr</td>\n",
        "    </tr>\n",
        "    <tr>\n",
        "      <th>28  </th>\n",
        "      <td>  nadyagamaleldin@gmail.com</td>\n",
        "    </tr>\n",
        "    <tr>\n",
        "      <th>29  </th>\n",
        "      <td>        engywasfy@gmail.com</td>\n",
        "    </tr>\n",
        "    <tr>\n",
        "      <th>...</th>\n",
        "      <td>...</td>\n",
        "    </tr>\n",
        "    <tr>\n",
        "      <th>2379</th>\n",
        "      <td>   lucia.gallio@mailbase.it</td>\n",
        "    </tr>\n",
        "    <tr>\n",
        "      <th>2380</th>\n",
        "      <td>      sairymaid82@yahoo.com</td>\n",
        "    </tr>\n",
        "    <tr>\n",
        "      <th>2381</th>\n",
        "      <td>              Rulah@msn.com</td>\n",
        "    </tr>\n",
        "    <tr>\n",
        "      <th>2382</th>\n",
        "      <td>       beingdas@hotmail.com</td>\n",
        "    </tr>\n",
        "    <tr>\n",
        "      <th>2383</th>\n",
        "      <td>  heba_bibo2001@hotmail.com</td>\n",
        "    </tr>\n",
        "    <tr>\n",
        "      <th>2384</th>\n",
        "      <td>       mannusch@hotmail.com</td>\n",
        "    </tr>\n",
        "    <tr>\n",
        "      <th>2385</th>\n",
        "      <td>       manno505@hotmail.com</td>\n",
        "    </tr>\n",
        "    <tr>\n",
        "      <th>2386</th>\n",
        "      <td>  ashrafgadalla@hotmail.com</td>\n",
        "    </tr>\n",
        "    <tr>\n",
        "      <th>2387</th>\n",
        "      <td>      imanbegermy@yahoo.com</td>\n",
        "    </tr>\n",
        "    <tr>\n",
        "      <th>2388</th>\n",
        "      <td>    kareemhelmy@hotmail.com</td>\n",
        "    </tr>\n",
        "    <tr>\n",
        "      <th>2389</th>\n",
        "      <td>         paceinte@gmail.com</td>\n",
        "    </tr>\n",
        "    <tr>\n",
        "      <th>2390</th>\n",
        "      <td>       sarah88@aucegypt.edu</td>\n",
        "    </tr>\n",
        "    <tr>\n",
        "      <th>2391</th>\n",
        "      <td>      taherbenany@gmail.com</td>\n",
        "    </tr>\n",
        "    <tr>\n",
        "      <th>2392</th>\n",
        "      <td>      springeta@hotmail.com</td>\n",
        "    </tr>\n",
        "    <tr>\n",
        "      <th>2393</th>\n",
        "      <td>        ahdabsamy@yahoo.com</td>\n",
        "    </tr>\n",
        "    <tr>\n",
        "      <th>2394</th>\n",
        "      <td>      mohsen.wake@gmail.com</td>\n",
        "    </tr>\n",
        "    <tr>\n",
        "      <th>2395</th>\n",
        "      <td>               syl@link.net</td>\n",
        "    </tr>\n",
        "    <tr>\n",
        "      <th>2396</th>\n",
        "      <td>   raghebelgammal@yahoo.com</td>\n",
        "    </tr>\n",
        "    <tr>\n",
        "      <th>2397</th>\n",
        "      <td>          r.medhat@link.net</td>\n",
        "    </tr>\n",
        "    <tr>\n",
        "      <th>2398</th>\n",
        "      <td>          lompo30@yahoo.com</td>\n",
        "    </tr>\n",
        "    <tr>\n",
        "      <th>2399</th>\n",
        "      <td>          fgkarim@yahoo.com</td>\n",
        "    </tr>\n",
        "    <tr>\n",
        "      <th>2400</th>\n",
        "      <td>     mireilleamin@yahoo.com</td>\n",
        "    </tr>\n",
        "    <tr>\n",
        "      <th>2401</th>\n",
        "      <td> Ihab.derias@laroche.com.eg</td>\n",
        "    </tr>\n",
        "    <tr>\n",
        "      <th>2402</th>\n",
        "      <td>       Adhamada@hotmail.com</td>\n",
        "    </tr>\n",
        "    <tr>\n",
        "      <th>2403</th>\n",
        "      <td>   houssam.elokda@gmail.com</td>\n",
        "    </tr>\n",
        "    <tr>\n",
        "      <th>2404</th>\n",
        "      <td>        Hania7894@gmail.com</td>\n",
        "    </tr>\n",
        "    <tr>\n",
        "      <th>2405</th>\n",
        "      <td>      fairymaid82@yahoo.com</td>\n",
        "    </tr>\n",
        "    <tr>\n",
        "      <th>2406</th>\n",
        "      <td>           Biro5s@yahoo.com</td>\n",
        "    </tr>\n",
        "    <tr>\n",
        "      <th>2407</th>\n",
        "      <td>       nini.etoile@voila.fr</td>\n",
        "    </tr>\n",
        "    <tr>\n",
        "      <th>2408</th>\n",
        "      <td>       cathypod@hotmail.com</td>\n",
        "    </tr>\n",
        "  </tbody>\n",
        "</table>\n",
        "<p>2409 rows \u00d7 1 columns</p>\n",
        "</div>"
       ],
       "metadata": {},
       "output_type": "pyout",
       "prompt_number": 16,
       "text": [
        "                           Email\n",
        "0         rehabmansour@gmail.com\n",
        "1            nabouheif@yahoo.com\n",
        "2         fracicardi@hotmail.com\n",
        "3         ahmed.fakhry@gmail.com\n",
        "4           Missilou11@yahoo.com\n",
        "5        sallysalem123@gmail.com\n",
        "6       nayera_fadel@hotmail.com\n",
        "7          raoufzdn553@gmail.com\n",
        "8         gaylynmbogho@yahoo.com\n",
        "9           oshahavi13@gmail.com\n",
        "10          Daiieldeeb@gmail.com\n",
        "11           yara.azam@gmail.com\n",
        "12         dalia_allam@yahoo.com\n",
        "13         elhanem52@hotmail.com\n",
        "14      tarek_seddik@hotmail.com\n",
        "15       maie.nomrossy@gmail.com\n",
        "16         hazem.shamy@gmail.com\n",
        "17        maya.p.nawal@gmail.com\n",
        "18     jamesmorgan0091@gmail.com\n",
        "19          israa_s@aucegypt.edu\n",
        "20        RODY.DOVE123@GMAIL.COM\n",
        "21        amaghraby@mediawave.me\n",
        "22           hibba_b@hotmail.com\n",
        "23        pascalenader@gmail.com\n",
        "24        doaa.khattab@gmail.com\n",
        "25        sunset_456@hotmail.com\n",
        "26    colleen_lovely@hotmail.com\n",
        "27              imrhazi@yahoo.fr\n",
        "28     nadyagamaleldin@gmail.com\n",
        "29           engywasfy@gmail.com\n",
        "...                          ...\n",
        "2379    lucia.gallio@mailbase.it\n",
        "2380       sairymaid82@yahoo.com\n",
        "2381               Rulah@msn.com\n",
        "2382        beingdas@hotmail.com\n",
        "2383   heba_bibo2001@hotmail.com\n",
        "2384        mannusch@hotmail.com\n",
        "2385        manno505@hotmail.com\n",
        "2386   ashrafgadalla@hotmail.com\n",
        "2387       imanbegermy@yahoo.com\n",
        "2388     kareemhelmy@hotmail.com\n",
        "2389          paceinte@gmail.com\n",
        "2390        sarah88@aucegypt.edu\n",
        "2391       taherbenany@gmail.com\n",
        "2392       springeta@hotmail.com\n",
        "2393         ahdabsamy@yahoo.com\n",
        "2394       mohsen.wake@gmail.com\n",
        "2395                syl@link.net\n",
        "2396    raghebelgammal@yahoo.com\n",
        "2397           r.medhat@link.net\n",
        "2398           lompo30@yahoo.com\n",
        "2399           fgkarim@yahoo.com\n",
        "2400      mireilleamin@yahoo.com\n",
        "2401  Ihab.derias@laroche.com.eg\n",
        "2402        Adhamada@hotmail.com\n",
        "2403    houssam.elokda@gmail.com\n",
        "2404         Hania7894@gmail.com\n",
        "2405       fairymaid82@yahoo.com\n",
        "2406            Biro5s@yahoo.com\n",
        "2407        nini.etoile@voila.fr\n",
        "2408        cathypod@hotmail.com\n",
        "\n",
        "[2409 rows x 1 columns]"
       ]
      }
     ],
     "prompt_number": 16
    },
    {
     "cell_type": "code",
     "collapsed": false,
     "input": [
      "#calculate avg revenue, avg basket size\n",
      "df1 = df1.sum()\n",
      "df3['Average Revenue'] = df1['Revenue']/float(max(df.index)+1)\n",
      "df3['Average Basket Size'] = df1['Lineitem quantity']/float(max(df.index)+1)\n",
      "df3"
     ],
     "language": "python",
     "metadata": {},
     "outputs": [
      {
       "html": [
        "<div style=\"max-height:1000px;max-width:1500px;overflow:auto;\">\n",
        "<table border=\"1\" class=\"dataframe\">\n",
        "  <thead>\n",
        "    <tr style=\"text-align: right;\">\n",
        "      <th></th>\n",
        "      <th>Email</th>\n",
        "      <th>Date</th>\n",
        "      <th>Total orders</th>\n",
        "      <th>Revenue</th>\n",
        "      <th>Basket Value</th>\n",
        "      <th>Sunday</th>\n",
        "      <th>Monday</th>\n",
        "      <th>Tuesday</th>\n",
        "      <th>Wednesday</th>\n",
        "      <th>Thursday</th>\n",
        "      <th>...</th>\n",
        "      <th>8:00 - 10:00</th>\n",
        "      <th>10:00 - 12:00</th>\n",
        "      <th>12:00 - 14:00</th>\n",
        "      <th>14:00 - 16:00</th>\n",
        "      <th>16:00 - 18:00</th>\n",
        "      <th>18:00 - 20:00</th>\n",
        "      <th>20:00 - 22:00</th>\n",
        "      <th>22:00 - 0:00</th>\n",
        "      <th>Average Revenue</th>\n",
        "      <th>Average Basket Size</th>\n",
        "    </tr>\n",
        "  </thead>\n",
        "  <tbody>\n",
        "    <tr>\n",
        "      <th>0   </th>\n",
        "      <td>        11435mail@mkallenberger.de</td>\n",
        "      <td> 2013-05-23</td>\n",
        "      <td> 1</td>\n",
        "      <td>  267.17</td>\n",
        "      <td>  267.17</td>\n",
        "      <td> 1</td>\n",
        "      <td> 0</td>\n",
        "      <td> 0</td>\n",
        "      <td> 0</td>\n",
        "      <td> 0</td>\n",
        "      <td>...</td>\n",
        "      <td> 0</td>\n",
        "      <td> 0</td>\n",
        "      <td> 0</td>\n",
        "      <td> 1</td>\n",
        "      <td> 0</td>\n",
        "      <td> 0</td>\n",
        "      <td> 0</td>\n",
        "      <td> 0</td>\n",
        "      <td> 1149.346496</td>\n",
        "      <td> 38.447904</td>\n",
        "    </tr>\n",
        "    <tr>\n",
        "      <th>1   </th>\n",
        "      <td>                     1@gargour.com</td>\n",
        "      <td> 2015-01-01</td>\n",
        "      <td> 1</td>\n",
        "      <td>  709.10</td>\n",
        "      <td>  709.10</td>\n",
        "      <td> 0</td>\n",
        "      <td> 0</td>\n",
        "      <td> 0</td>\n",
        "      <td> 0</td>\n",
        "      <td> 0</td>\n",
        "      <td>...</td>\n",
        "      <td> 0</td>\n",
        "      <td> 0</td>\n",
        "      <td> 0</td>\n",
        "      <td> 0</td>\n",
        "      <td> 1</td>\n",
        "      <td> 0</td>\n",
        "      <td> 0</td>\n",
        "      <td> 0</td>\n",
        "      <td> 1149.346496</td>\n",
        "      <td> 38.447904</td>\n",
        "    </tr>\n",
        "    <tr>\n",
        "      <th>2   </th>\n",
        "      <td>                     1@gargour.com</td>\n",
        "      <td> 2015-04-02</td>\n",
        "      <td> 1</td>\n",
        "      <td>  272.00</td>\n",
        "      <td>  272.00</td>\n",
        "      <td> 0</td>\n",
        "      <td> 0</td>\n",
        "      <td> 1</td>\n",
        "      <td> 0</td>\n",
        "      <td> 0</td>\n",
        "      <td>...</td>\n",
        "      <td> 0</td>\n",
        "      <td> 0</td>\n",
        "      <td> 0</td>\n",
        "      <td> 1</td>\n",
        "      <td> 0</td>\n",
        "      <td> 0</td>\n",
        "      <td> 0</td>\n",
        "      <td> 0</td>\n",
        "      <td> 1149.346496</td>\n",
        "      <td> 38.447904</td>\n",
        "    </tr>\n",
        "    <tr>\n",
        "      <th>3   </th>\n",
        "      <td>                 1kttate@gmail.com</td>\n",
        "      <td> 2015-08-06</td>\n",
        "      <td> 1</td>\n",
        "      <td>  156.00</td>\n",
        "      <td>  156.00</td>\n",
        "      <td> 1</td>\n",
        "      <td> 0</td>\n",
        "      <td> 0</td>\n",
        "      <td> 0</td>\n",
        "      <td> 0</td>\n",
        "      <td>...</td>\n",
        "      <td> 1</td>\n",
        "      <td> 0</td>\n",
        "      <td> 0</td>\n",
        "      <td> 0</td>\n",
        "      <td> 0</td>\n",
        "      <td> 0</td>\n",
        "      <td> 0</td>\n",
        "      <td> 0</td>\n",
        "      <td> 1149.346496</td>\n",
        "      <td> 38.447904</td>\n",
        "    </tr>\n",
        "    <tr>\n",
        "      <th>4   </th>\n",
        "      <td>                 1kttate@gmail.com</td>\n",
        "      <td> 2015-08-13</td>\n",
        "      <td> 1</td>\n",
        "      <td>  126.00</td>\n",
        "      <td>  126.00</td>\n",
        "      <td> 0</td>\n",
        "      <td> 1</td>\n",
        "      <td> 0</td>\n",
        "      <td> 0</td>\n",
        "      <td> 0</td>\n",
        "      <td>...</td>\n",
        "      <td> 1</td>\n",
        "      <td> 0</td>\n",
        "      <td> 0</td>\n",
        "      <td> 0</td>\n",
        "      <td> 0</td>\n",
        "      <td> 0</td>\n",
        "      <td> 0</td>\n",
        "      <td> 0</td>\n",
        "      <td> 1149.346496</td>\n",
        "      <td> 38.447904</td>\n",
        "    </tr>\n",
        "    <tr>\n",
        "      <th>5   </th>\n",
        "      <td>                 1kttate@gmail.com</td>\n",
        "      <td> 2015-08-27</td>\n",
        "      <td> 1</td>\n",
        "      <td>  190.00</td>\n",
        "      <td>  190.00</td>\n",
        "      <td> 0</td>\n",
        "      <td> 1</td>\n",
        "      <td> 0</td>\n",
        "      <td> 0</td>\n",
        "      <td> 0</td>\n",
        "      <td>...</td>\n",
        "      <td> 0</td>\n",
        "      <td> 1</td>\n",
        "      <td> 0</td>\n",
        "      <td> 0</td>\n",
        "      <td> 0</td>\n",
        "      <td> 0</td>\n",
        "      <td> 0</td>\n",
        "      <td> 0</td>\n",
        "      <td> 1149.346496</td>\n",
        "      <td> 38.447904</td>\n",
        "    </tr>\n",
        "    <tr>\n",
        "      <th>6   </th>\n",
        "      <td>         1youniqueflower@gmail.com</td>\n",
        "      <td> 2015-08-27</td>\n",
        "      <td> 1</td>\n",
        "      <td>  122.00</td>\n",
        "      <td>  122.00</td>\n",
        "      <td> 0</td>\n",
        "      <td> 0</td>\n",
        "      <td> 1</td>\n",
        "      <td> 0</td>\n",
        "      <td> 0</td>\n",
        "      <td>...</td>\n",
        "      <td> 0</td>\n",
        "      <td> 0</td>\n",
        "      <td> 0</td>\n",
        "      <td> 0</td>\n",
        "      <td> 0</td>\n",
        "      <td> 0</td>\n",
        "      <td> 0</td>\n",
        "      <td> 1</td>\n",
        "      <td> 1149.346496</td>\n",
        "      <td> 38.447904</td>\n",
        "    </tr>\n",
        "    <tr>\n",
        "      <th>7   </th>\n",
        "      <td>         1youniqueflower@gmail.com</td>\n",
        "      <td> 2015-11-26</td>\n",
        "      <td> 1</td>\n",
        "      <td>  362.00</td>\n",
        "      <td>  362.00</td>\n",
        "      <td> 0</td>\n",
        "      <td> 1</td>\n",
        "      <td> 0</td>\n",
        "      <td> 0</td>\n",
        "      <td> 0</td>\n",
        "      <td>...</td>\n",
        "      <td> 0</td>\n",
        "      <td> 0</td>\n",
        "      <td> 1</td>\n",
        "      <td> 0</td>\n",
        "      <td> 0</td>\n",
        "      <td> 0</td>\n",
        "      <td> 0</td>\n",
        "      <td> 0</td>\n",
        "      <td> 1149.346496</td>\n",
        "      <td> 38.447904</td>\n",
        "    </tr>\n",
        "    <tr>\n",
        "      <th>8   </th>\n",
        "      <td>                3aliaa.h@gmail.com</td>\n",
        "      <td> 2015-03-12</td>\n",
        "      <td> 1</td>\n",
        "      <td>   54.00</td>\n",
        "      <td>   54.00</td>\n",
        "      <td> 1</td>\n",
        "      <td> 0</td>\n",
        "      <td> 0</td>\n",
        "      <td> 0</td>\n",
        "      <td> 0</td>\n",
        "      <td>...</td>\n",
        "      <td> 0</td>\n",
        "      <td> 0</td>\n",
        "      <td> 0</td>\n",
        "      <td> 0</td>\n",
        "      <td> 1</td>\n",
        "      <td> 0</td>\n",
        "      <td> 0</td>\n",
        "      <td> 0</td>\n",
        "      <td> 1149.346496</td>\n",
        "      <td> 38.447904</td>\n",
        "    </tr>\n",
        "    <tr>\n",
        "      <th>9   </th>\n",
        "      <td>                3aliaa.h@gmail.com</td>\n",
        "      <td> 2015-04-02</td>\n",
        "      <td> 1</td>\n",
        "      <td>  106.00</td>\n",
        "      <td>  106.00</td>\n",
        "      <td> 0</td>\n",
        "      <td> 0</td>\n",
        "      <td> 0</td>\n",
        "      <td> 0</td>\n",
        "      <td> 0</td>\n",
        "      <td>...</td>\n",
        "      <td> 0</td>\n",
        "      <td> 0</td>\n",
        "      <td> 0</td>\n",
        "      <td> 0</td>\n",
        "      <td> 0</td>\n",
        "      <td> 0</td>\n",
        "      <td> 0</td>\n",
        "      <td> 0</td>\n",
        "      <td> 1149.346496</td>\n",
        "      <td> 38.447904</td>\n",
        "    </tr>\n",
        "    <tr>\n",
        "      <th>10  </th>\n",
        "      <td>          777nadiateirah@gmail.com</td>\n",
        "      <td> 2015-11-12</td>\n",
        "      <td> 1</td>\n",
        "      <td>  160.00</td>\n",
        "      <td>  160.00</td>\n",
        "      <td> 0</td>\n",
        "      <td> 1</td>\n",
        "      <td> 0</td>\n",
        "      <td> 0</td>\n",
        "      <td> 0</td>\n",
        "      <td>...</td>\n",
        "      <td> 0</td>\n",
        "      <td> 0</td>\n",
        "      <td> 1</td>\n",
        "      <td> 0</td>\n",
        "      <td> 0</td>\n",
        "      <td> 0</td>\n",
        "      <td> 0</td>\n",
        "      <td> 0</td>\n",
        "      <td> 1149.346496</td>\n",
        "      <td> 38.447904</td>\n",
        "    </tr>\n",
        "    <tr>\n",
        "      <th>11  </th>\n",
        "      <td>          777nadiateirah@gmail.com</td>\n",
        "      <td> 2015-11-19</td>\n",
        "      <td> 1</td>\n",
        "      <td>  130.00</td>\n",
        "      <td>  130.00</td>\n",
        "      <td> 0</td>\n",
        "      <td> 0</td>\n",
        "      <td> 0</td>\n",
        "      <td> 0</td>\n",
        "      <td> 0</td>\n",
        "      <td>...</td>\n",
        "      <td> 0</td>\n",
        "      <td> 1</td>\n",
        "      <td> 0</td>\n",
        "      <td> 0</td>\n",
        "      <td> 0</td>\n",
        "      <td> 0</td>\n",
        "      <td> 0</td>\n",
        "      <td> 0</td>\n",
        "      <td> 1149.346496</td>\n",
        "      <td> 38.447904</td>\n",
        "    </tr>\n",
        "    <tr>\n",
        "      <th>12  </th>\n",
        "      <td>                         A2@ed.com</td>\n",
        "      <td> 2015-09-10</td>\n",
        "      <td> 1</td>\n",
        "      <td>   30.00</td>\n",
        "      <td>   30.00</td>\n",
        "      <td> 0</td>\n",
        "      <td> 0</td>\n",
        "      <td> 0</td>\n",
        "      <td> 0</td>\n",
        "      <td> 0</td>\n",
        "      <td>...</td>\n",
        "      <td> 0</td>\n",
        "      <td> 0</td>\n",
        "      <td> 1</td>\n",
        "      <td> 0</td>\n",
        "      <td> 0</td>\n",
        "      <td> 0</td>\n",
        "      <td> 0</td>\n",
        "      <td> 0</td>\n",
        "      <td> 1149.346496</td>\n",
        "      <td> 38.447904</td>\n",
        "    </tr>\n",
        "    <tr>\n",
        "      <th>13  </th>\n",
        "      <td>           ASHRAF.M.ZAKI@GMAIL.COM</td>\n",
        "      <td> 2012-10-04</td>\n",
        "      <td> 1</td>\n",
        "      <td>  300.18</td>\n",
        "      <td>  300.18</td>\n",
        "      <td> 0</td>\n",
        "      <td> 0</td>\n",
        "      <td> 0</td>\n",
        "      <td> 0</td>\n",
        "      <td> 0</td>\n",
        "      <td>...</td>\n",
        "      <td> 1</td>\n",
        "      <td> 0</td>\n",
        "      <td> 0</td>\n",
        "      <td> 0</td>\n",
        "      <td> 0</td>\n",
        "      <td> 0</td>\n",
        "      <td> 0</td>\n",
        "      <td> 0</td>\n",
        "      <td> 1149.346496</td>\n",
        "      <td> 38.447904</td>\n",
        "    </tr>\n",
        "    <tr>\n",
        "      <th>14  </th>\n",
        "      <td>              Adhamada@hotmail.com</td>\n",
        "      <td> 2012-07-05</td>\n",
        "      <td> 1</td>\n",
        "      <td>   61.20</td>\n",
        "      <td>   61.20</td>\n",
        "      <td> 0</td>\n",
        "      <td> 1</td>\n",
        "      <td> 0</td>\n",
        "      <td> 0</td>\n",
        "      <td> 0</td>\n",
        "      <td>...</td>\n",
        "      <td> 0</td>\n",
        "      <td> 0</td>\n",
        "      <td> 0</td>\n",
        "      <td> 0</td>\n",
        "      <td> 0</td>\n",
        "      <td> 1</td>\n",
        "      <td> 0</td>\n",
        "      <td> 0</td>\n",
        "      <td> 1149.346496</td>\n",
        "      <td> 38.447904</td>\n",
        "    </tr>\n",
        "    <tr>\n",
        "      <th>15  </th>\n",
        "      <td>       Ahmed.Habash@moevenpick.com</td>\n",
        "      <td> 2015-04-02</td>\n",
        "      <td> 1</td>\n",
        "      <td>  360.00</td>\n",
        "      <td>  360.00</td>\n",
        "      <td> 0</td>\n",
        "      <td> 0</td>\n",
        "      <td> 0</td>\n",
        "      <td> 0</td>\n",
        "      <td> 0</td>\n",
        "      <td>...</td>\n",
        "      <td> 0</td>\n",
        "      <td> 0</td>\n",
        "      <td> 0</td>\n",
        "      <td> 1</td>\n",
        "      <td> 0</td>\n",
        "      <td> 0</td>\n",
        "      <td> 0</td>\n",
        "      <td> 0</td>\n",
        "      <td> 1149.346496</td>\n",
        "      <td> 38.447904</td>\n",
        "    </tr>\n",
        "    <tr>\n",
        "      <th>16  </th>\n",
        "      <td> Ahmed.adel.abdelmonam@hotmail.com</td>\n",
        "      <td> 2015-08-20</td>\n",
        "      <td> 1</td>\n",
        "      <td>  424.00</td>\n",
        "      <td>  424.00</td>\n",
        "      <td> 0</td>\n",
        "      <td> 1</td>\n",
        "      <td> 0</td>\n",
        "      <td> 0</td>\n",
        "      <td> 0</td>\n",
        "      <td>...</td>\n",
        "      <td> 0</td>\n",
        "      <td> 0</td>\n",
        "      <td> 0</td>\n",
        "      <td> 0</td>\n",
        "      <td> 0</td>\n",
        "      <td> 0</td>\n",
        "      <td> 0</td>\n",
        "      <td> 0</td>\n",
        "      <td> 1149.346496</td>\n",
        "      <td> 38.447904</td>\n",
        "    </tr>\n",
        "    <tr>\n",
        "      <th>17  </th>\n",
        "      <td>           Aliamossallam@gmail.com</td>\n",
        "      <td> 2014-10-16</td>\n",
        "      <td> 1</td>\n",
        "      <td> 1104.90</td>\n",
        "      <td> 1104.90</td>\n",
        "      <td> 1</td>\n",
        "      <td> 1</td>\n",
        "      <td> 0</td>\n",
        "      <td> 0</td>\n",
        "      <td> 0</td>\n",
        "      <td>...</td>\n",
        "      <td> 0</td>\n",
        "      <td> 1</td>\n",
        "      <td> 0</td>\n",
        "      <td> 0</td>\n",
        "      <td> 0</td>\n",
        "      <td> 1</td>\n",
        "      <td> 0</td>\n",
        "      <td> 0</td>\n",
        "      <td> 1149.346496</td>\n",
        "      <td> 38.447904</td>\n",
        "    </tr>\n",
        "    <tr>\n",
        "      <th>18  </th>\n",
        "      <td>           Aliamossallam@gmail.com</td>\n",
        "      <td> 2014-10-23</td>\n",
        "      <td> 1</td>\n",
        "      <td>  452.40</td>\n",
        "      <td>  452.40</td>\n",
        "      <td> 1</td>\n",
        "      <td> 0</td>\n",
        "      <td> 0</td>\n",
        "      <td> 0</td>\n",
        "      <td> 0</td>\n",
        "      <td>...</td>\n",
        "      <td> 0</td>\n",
        "      <td> 1</td>\n",
        "      <td> 1</td>\n",
        "      <td> 1</td>\n",
        "      <td> 0</td>\n",
        "      <td> 0</td>\n",
        "      <td> 0</td>\n",
        "      <td> 0</td>\n",
        "      <td> 1149.346496</td>\n",
        "      <td> 38.447904</td>\n",
        "    </tr>\n",
        "    <tr>\n",
        "      <th>19  </th>\n",
        "      <td>           Aliamossallam@gmail.com</td>\n",
        "      <td> 2014-11-20</td>\n",
        "      <td> 1</td>\n",
        "      <td>  596.00</td>\n",
        "      <td>  596.00</td>\n",
        "      <td> 1</td>\n",
        "      <td> 0</td>\n",
        "      <td> 0</td>\n",
        "      <td> 0</td>\n",
        "      <td> 0</td>\n",
        "      <td>...</td>\n",
        "      <td> 0</td>\n",
        "      <td> 0</td>\n",
        "      <td> 0</td>\n",
        "      <td> 0</td>\n",
        "      <td> 0</td>\n",
        "      <td> 1</td>\n",
        "      <td> 0</td>\n",
        "      <td> 0</td>\n",
        "      <td> 1149.346496</td>\n",
        "      <td> 38.447904</td>\n",
        "    </tr>\n",
        "    <tr>\n",
        "      <th>20  </th>\n",
        "      <td>           Aliamossallam@gmail.com</td>\n",
        "      <td> 2014-12-11</td>\n",
        "      <td> 1</td>\n",
        "      <td>  358.55</td>\n",
        "      <td>  358.55</td>\n",
        "      <td> 0</td>\n",
        "      <td> 2</td>\n",
        "      <td> 0</td>\n",
        "      <td> 0</td>\n",
        "      <td> 0</td>\n",
        "      <td>...</td>\n",
        "      <td> 0</td>\n",
        "      <td> 0</td>\n",
        "      <td> 1</td>\n",
        "      <td> 0</td>\n",
        "      <td> 0</td>\n",
        "      <td> 0</td>\n",
        "      <td> 0</td>\n",
        "      <td> 0</td>\n",
        "      <td> 1149.346496</td>\n",
        "      <td> 38.447904</td>\n",
        "    </tr>\n",
        "    <tr>\n",
        "      <th>21  </th>\n",
        "      <td>           Aliamossallam@gmail.com</td>\n",
        "      <td> 2015-01-08</td>\n",
        "      <td> 1</td>\n",
        "      <td>  208.62</td>\n",
        "      <td>  208.62</td>\n",
        "      <td> 0</td>\n",
        "      <td> 1</td>\n",
        "      <td> 0</td>\n",
        "      <td> 0</td>\n",
        "      <td> 0</td>\n",
        "      <td>...</td>\n",
        "      <td> 0</td>\n",
        "      <td> 0</td>\n",
        "      <td> 0</td>\n",
        "      <td> 0</td>\n",
        "      <td> 0</td>\n",
        "      <td> 0</td>\n",
        "      <td> 1</td>\n",
        "      <td> 0</td>\n",
        "      <td> 1149.346496</td>\n",
        "      <td> 38.447904</td>\n",
        "    </tr>\n",
        "    <tr>\n",
        "      <th>22  </th>\n",
        "      <td>           Aliamossallam@gmail.com</td>\n",
        "      <td> 2015-01-29</td>\n",
        "      <td> 1</td>\n",
        "      <td>  483.10</td>\n",
        "      <td>  483.10</td>\n",
        "      <td> 0</td>\n",
        "      <td> 0</td>\n",
        "      <td> 0</td>\n",
        "      <td> 1</td>\n",
        "      <td> 0</td>\n",
        "      <td>...</td>\n",
        "      <td> 0</td>\n",
        "      <td> 0</td>\n",
        "      <td> 0</td>\n",
        "      <td> 0</td>\n",
        "      <td> 1</td>\n",
        "      <td> 0</td>\n",
        "      <td> 0</td>\n",
        "      <td> 0</td>\n",
        "      <td> 1149.346496</td>\n",
        "      <td> 38.447904</td>\n",
        "    </tr>\n",
        "    <tr>\n",
        "      <th>23  </th>\n",
        "      <td>           Aliamossallam@gmail.com</td>\n",
        "      <td> 2015-03-05</td>\n",
        "      <td> 1</td>\n",
        "      <td>  583.50</td>\n",
        "      <td>  583.50</td>\n",
        "      <td> 0</td>\n",
        "      <td> 0</td>\n",
        "      <td> 2</td>\n",
        "      <td> 0</td>\n",
        "      <td> 0</td>\n",
        "      <td>...</td>\n",
        "      <td> 0</td>\n",
        "      <td> 0</td>\n",
        "      <td> 1</td>\n",
        "      <td> 1</td>\n",
        "      <td> 0</td>\n",
        "      <td> 0</td>\n",
        "      <td> 0</td>\n",
        "      <td> 0</td>\n",
        "      <td> 1149.346496</td>\n",
        "      <td> 38.447904</td>\n",
        "    </tr>\n",
        "    <tr>\n",
        "      <th>24  </th>\n",
        "      <td>           Aliamossallam@gmail.com</td>\n",
        "      <td> 2015-05-14</td>\n",
        "      <td> 1</td>\n",
        "      <td> 1034.00</td>\n",
        "      <td> 1034.00</td>\n",
        "      <td> 0</td>\n",
        "      <td> 0</td>\n",
        "      <td> 0</td>\n",
        "      <td> 0</td>\n",
        "      <td> 0</td>\n",
        "      <td>...</td>\n",
        "      <td> 0</td>\n",
        "      <td> 0</td>\n",
        "      <td> 0</td>\n",
        "      <td> 0</td>\n",
        "      <td> 1</td>\n",
        "      <td> 0</td>\n",
        "      <td> 1</td>\n",
        "      <td> 0</td>\n",
        "      <td> 1149.346496</td>\n",
        "      <td> 38.447904</td>\n",
        "    </tr>\n",
        "    <tr>\n",
        "      <th>25  </th>\n",
        "      <td>           Aliamossallam@gmail.com</td>\n",
        "      <td> 2015-06-18</td>\n",
        "      <td> 1</td>\n",
        "      <td>  621.20</td>\n",
        "      <td>  621.20</td>\n",
        "      <td> 0</td>\n",
        "      <td> 0</td>\n",
        "      <td> 0</td>\n",
        "      <td> 0</td>\n",
        "      <td> 0</td>\n",
        "      <td>...</td>\n",
        "      <td> 0</td>\n",
        "      <td> 0</td>\n",
        "      <td> 0</td>\n",
        "      <td> 0</td>\n",
        "      <td> 0</td>\n",
        "      <td> 0</td>\n",
        "      <td> 0</td>\n",
        "      <td> 0</td>\n",
        "      <td> 1149.346496</td>\n",
        "      <td> 38.447904</td>\n",
        "    </tr>\n",
        "    <tr>\n",
        "      <th>26  </th>\n",
        "      <td>           Aliamossallam@gmail.com</td>\n",
        "      <td> 2015-07-02</td>\n",
        "      <td> 1</td>\n",
        "      <td>  171.50</td>\n",
        "      <td>  171.50</td>\n",
        "      <td> 0</td>\n",
        "      <td> 0</td>\n",
        "      <td> 0</td>\n",
        "      <td> 0</td>\n",
        "      <td> 0</td>\n",
        "      <td>...</td>\n",
        "      <td> 0</td>\n",
        "      <td> 1</td>\n",
        "      <td> 0</td>\n",
        "      <td> 0</td>\n",
        "      <td> 0</td>\n",
        "      <td> 0</td>\n",
        "      <td> 0</td>\n",
        "      <td> 0</td>\n",
        "      <td> 1149.346496</td>\n",
        "      <td> 38.447904</td>\n",
        "    </tr>\n",
        "    <tr>\n",
        "      <th>27  </th>\n",
        "      <td>           Aliamossallam@gmail.com</td>\n",
        "      <td> 2015-07-09</td>\n",
        "      <td> 1</td>\n",
        "      <td>  198.75</td>\n",
        "      <td>  198.75</td>\n",
        "      <td> 1</td>\n",
        "      <td> 0</td>\n",
        "      <td> 0</td>\n",
        "      <td> 0</td>\n",
        "      <td> 0</td>\n",
        "      <td>...</td>\n",
        "      <td> 0</td>\n",
        "      <td> 0</td>\n",
        "      <td> 0</td>\n",
        "      <td> 1</td>\n",
        "      <td> 0</td>\n",
        "      <td> 0</td>\n",
        "      <td> 0</td>\n",
        "      <td> 0</td>\n",
        "      <td> 1149.346496</td>\n",
        "      <td> 38.447904</td>\n",
        "    </tr>\n",
        "    <tr>\n",
        "      <th>28  </th>\n",
        "      <td>           Aliamossallam@gmail.com</td>\n",
        "      <td> 2015-08-20</td>\n",
        "      <td> 1</td>\n",
        "      <td>  336.50</td>\n",
        "      <td>  336.50</td>\n",
        "      <td> 0</td>\n",
        "      <td> 1</td>\n",
        "      <td> 0</td>\n",
        "      <td> 0</td>\n",
        "      <td> 0</td>\n",
        "      <td>...</td>\n",
        "      <td> 0</td>\n",
        "      <td> 1</td>\n",
        "      <td> 0</td>\n",
        "      <td> 0</td>\n",
        "      <td> 0</td>\n",
        "      <td> 0</td>\n",
        "      <td> 0</td>\n",
        "      <td> 0</td>\n",
        "      <td> 1149.346496</td>\n",
        "      <td> 38.447904</td>\n",
        "    </tr>\n",
        "    <tr>\n",
        "      <th>29  </th>\n",
        "      <td>           Aliamossallam@gmail.com</td>\n",
        "      <td> 2015-12-10</td>\n",
        "      <td> 1</td>\n",
        "      <td>  215.00</td>\n",
        "      <td>  215.00</td>\n",
        "      <td> 0</td>\n",
        "      <td> 1</td>\n",
        "      <td> 0</td>\n",
        "      <td> 0</td>\n",
        "      <td> 0</td>\n",
        "      <td>...</td>\n",
        "      <td> 0</td>\n",
        "      <td> 0</td>\n",
        "      <td> 1</td>\n",
        "      <td> 0</td>\n",
        "      <td> 0</td>\n",
        "      <td> 0</td>\n",
        "      <td> 0</td>\n",
        "      <td> 0</td>\n",
        "      <td> 1149.346496</td>\n",
        "      <td> 38.447904</td>\n",
        "    </tr>\n",
        "    <tr>\n",
        "      <th>...</th>\n",
        "      <td>...</td>\n",
        "      <td>...</td>\n",
        "      <td>...</td>\n",
        "      <td>...</td>\n",
        "      <td>...</td>\n",
        "      <td>...</td>\n",
        "      <td>...</td>\n",
        "      <td>...</td>\n",
        "      <td>...</td>\n",
        "      <td>...</td>\n",
        "      <td>...</td>\n",
        "      <td>...</td>\n",
        "      <td>...</td>\n",
        "      <td>...</td>\n",
        "      <td>...</td>\n",
        "      <td>...</td>\n",
        "      <td>...</td>\n",
        "      <td>...</td>\n",
        "      <td>...</td>\n",
        "      <td>...</td>\n",
        "      <td>...</td>\n",
        "    </tr>\n",
        "    <tr>\n",
        "      <th>6461</th>\n",
        "      <td>            zeina.kassas@gmail.com</td>\n",
        "      <td> 2015-04-16</td>\n",
        "      <td> 1</td>\n",
        "      <td>  378.00</td>\n",
        "      <td>  378.00</td>\n",
        "      <td> 0</td>\n",
        "      <td> 2</td>\n",
        "      <td> 0</td>\n",
        "      <td> 0</td>\n",
        "      <td> 0</td>\n",
        "      <td>...</td>\n",
        "      <td> 1</td>\n",
        "      <td> 0</td>\n",
        "      <td> 1</td>\n",
        "      <td> 0</td>\n",
        "      <td> 0</td>\n",
        "      <td> 0</td>\n",
        "      <td> 0</td>\n",
        "      <td> 0</td>\n",
        "      <td> 1149.346496</td>\n",
        "      <td> 38.447904</td>\n",
        "    </tr>\n",
        "    <tr>\n",
        "      <th>6462</th>\n",
        "      <td>            zeina.kassas@gmail.com</td>\n",
        "      <td> 2015-04-23</td>\n",
        "      <td> 1</td>\n",
        "      <td>  194.00</td>\n",
        "      <td>  194.00</td>\n",
        "      <td> 1</td>\n",
        "      <td> 0</td>\n",
        "      <td> 0</td>\n",
        "      <td> 0</td>\n",
        "      <td> 0</td>\n",
        "      <td>...</td>\n",
        "      <td> 0</td>\n",
        "      <td> 0</td>\n",
        "      <td> 1</td>\n",
        "      <td> 0</td>\n",
        "      <td> 0</td>\n",
        "      <td> 0</td>\n",
        "      <td> 0</td>\n",
        "      <td> 0</td>\n",
        "      <td> 1149.346496</td>\n",
        "      <td> 38.447904</td>\n",
        "    </tr>\n",
        "    <tr>\n",
        "      <th>6463</th>\n",
        "      <td>            zeina.kassas@gmail.com</td>\n",
        "      <td> 2015-06-11</td>\n",
        "      <td> 1</td>\n",
        "      <td>   96.00</td>\n",
        "      <td>   96.00</td>\n",
        "      <td> 0</td>\n",
        "      <td> 0</td>\n",
        "      <td> 1</td>\n",
        "      <td> 0</td>\n",
        "      <td> 0</td>\n",
        "      <td>...</td>\n",
        "      <td> 0</td>\n",
        "      <td> 0</td>\n",
        "      <td> 0</td>\n",
        "      <td> 0</td>\n",
        "      <td> 0</td>\n",
        "      <td> 0</td>\n",
        "      <td> 1</td>\n",
        "      <td> 0</td>\n",
        "      <td> 1149.346496</td>\n",
        "      <td> 38.447904</td>\n",
        "    </tr>\n",
        "    <tr>\n",
        "      <th>6464</th>\n",
        "      <td>         zeina_ahmed95@hotmail.com</td>\n",
        "      <td> 2014-10-23</td>\n",
        "      <td> 1</td>\n",
        "      <td>  718.80</td>\n",
        "      <td>  718.80</td>\n",
        "      <td> 1</td>\n",
        "      <td> 0</td>\n",
        "      <td> 0</td>\n",
        "      <td> 0</td>\n",
        "      <td> 0</td>\n",
        "      <td>...</td>\n",
        "      <td> 0</td>\n",
        "      <td> 0</td>\n",
        "      <td> 0</td>\n",
        "      <td> 0</td>\n",
        "      <td> 0</td>\n",
        "      <td> 0</td>\n",
        "      <td> 1</td>\n",
        "      <td> 0</td>\n",
        "      <td> 1149.346496</td>\n",
        "      <td> 38.447904</td>\n",
        "    </tr>\n",
        "    <tr>\n",
        "      <th>6465</th>\n",
        "      <td>            zeina_naim@hotmail.com</td>\n",
        "      <td> 2015-11-12</td>\n",
        "      <td> 1</td>\n",
        "      <td>   67.00</td>\n",
        "      <td>   67.00</td>\n",
        "      <td> 0</td>\n",
        "      <td> 0</td>\n",
        "      <td> 0</td>\n",
        "      <td> 1</td>\n",
        "      <td> 0</td>\n",
        "      <td>...</td>\n",
        "      <td> 0</td>\n",
        "      <td> 1</td>\n",
        "      <td> 0</td>\n",
        "      <td> 0</td>\n",
        "      <td> 0</td>\n",
        "      <td> 0</td>\n",
        "      <td> 0</td>\n",
        "      <td> 0</td>\n",
        "      <td> 1149.346496</td>\n",
        "      <td> 38.447904</td>\n",
        "    </tr>\n",
        "    <tr>\n",
        "      <th>6466</th>\n",
        "      <td>         zeinabahmedtaha@yahoo.com</td>\n",
        "      <td> 2013-01-31</td>\n",
        "      <td> 1</td>\n",
        "      <td>  106.30</td>\n",
        "      <td>  106.30</td>\n",
        "      <td> 0</td>\n",
        "      <td> 0</td>\n",
        "      <td> 0</td>\n",
        "      <td> 0</td>\n",
        "      <td> 0</td>\n",
        "      <td>...</td>\n",
        "      <td> 0</td>\n",
        "      <td> 0</td>\n",
        "      <td> 0</td>\n",
        "      <td> 0</td>\n",
        "      <td> 1</td>\n",
        "      <td> 0</td>\n",
        "      <td> 0</td>\n",
        "      <td> 0</td>\n",
        "      <td> 1149.346496</td>\n",
        "      <td> 38.447904</td>\n",
        "    </tr>\n",
        "    <tr>\n",
        "      <th>6467</th>\n",
        "      <td>      zeinabkhalil2010@hotmail.com</td>\n",
        "      <td> 2015-05-28</td>\n",
        "      <td> 1</td>\n",
        "      <td>  493.00</td>\n",
        "      <td>  493.00</td>\n",
        "      <td> 0</td>\n",
        "      <td> 0</td>\n",
        "      <td> 0</td>\n",
        "      <td> 0</td>\n",
        "      <td> 0</td>\n",
        "      <td>...</td>\n",
        "      <td> 0</td>\n",
        "      <td> 0</td>\n",
        "      <td> 0</td>\n",
        "      <td> 0</td>\n",
        "      <td> 1</td>\n",
        "      <td> 0</td>\n",
        "      <td> 0</td>\n",
        "      <td> 0</td>\n",
        "      <td> 1149.346496</td>\n",
        "      <td> 38.447904</td>\n",
        "    </tr>\n",
        "    <tr>\n",
        "      <th>6468</th>\n",
        "      <td>      zeinabkhalil2010@hotmail.com</td>\n",
        "      <td> 2015-06-18</td>\n",
        "      <td> 1</td>\n",
        "      <td>   75.00</td>\n",
        "      <td>   75.00</td>\n",
        "      <td> 0</td>\n",
        "      <td> 0</td>\n",
        "      <td> 0</td>\n",
        "      <td> 1</td>\n",
        "      <td> 0</td>\n",
        "      <td>...</td>\n",
        "      <td> 0</td>\n",
        "      <td> 0</td>\n",
        "      <td> 0</td>\n",
        "      <td> 1</td>\n",
        "      <td> 0</td>\n",
        "      <td> 0</td>\n",
        "      <td> 0</td>\n",
        "      <td> 0</td>\n",
        "      <td> 1149.346496</td>\n",
        "      <td> 38.447904</td>\n",
        "    </tr>\n",
        "    <tr>\n",
        "      <th>6469</th>\n",
        "      <td>              zeinabnour@gmail.com</td>\n",
        "      <td> 2014-10-30</td>\n",
        "      <td> 1</td>\n",
        "      <td>   87.50</td>\n",
        "      <td>   87.50</td>\n",
        "      <td> 1</td>\n",
        "      <td> 0</td>\n",
        "      <td> 0</td>\n",
        "      <td> 0</td>\n",
        "      <td> 0</td>\n",
        "      <td>...</td>\n",
        "      <td> 0</td>\n",
        "      <td> 1</td>\n",
        "      <td> 0</td>\n",
        "      <td> 0</td>\n",
        "      <td> 1</td>\n",
        "      <td> 0</td>\n",
        "      <td> 0</td>\n",
        "      <td> 0</td>\n",
        "      <td> 1149.346496</td>\n",
        "      <td> 38.447904</td>\n",
        "    </tr>\n",
        "    <tr>\n",
        "      <th>6470</th>\n",
        "      <td>              zeinahodroj@live.com</td>\n",
        "      <td> 2015-03-19</td>\n",
        "      <td> 1</td>\n",
        "      <td>  342.50</td>\n",
        "      <td>  342.50</td>\n",
        "      <td> 2</td>\n",
        "      <td> 0</td>\n",
        "      <td> 0</td>\n",
        "      <td> 0</td>\n",
        "      <td> 0</td>\n",
        "      <td>...</td>\n",
        "      <td> 0</td>\n",
        "      <td> 0</td>\n",
        "      <td> 1</td>\n",
        "      <td> 0</td>\n",
        "      <td> 0</td>\n",
        "      <td> 0</td>\n",
        "      <td> 0</td>\n",
        "      <td> 0</td>\n",
        "      <td> 1149.346496</td>\n",
        "      <td> 38.447904</td>\n",
        "    </tr>\n",
        "    <tr>\n",
        "      <th>6471</th>\n",
        "      <td>              zeinasabry@gmail.com</td>\n",
        "      <td> 2013-09-19</td>\n",
        "      <td> 1</td>\n",
        "      <td>  222.85</td>\n",
        "      <td>  222.85</td>\n",
        "      <td> 0</td>\n",
        "      <td> 0</td>\n",
        "      <td> 0</td>\n",
        "      <td> 0</td>\n",
        "      <td> 0</td>\n",
        "      <td>...</td>\n",
        "      <td> 0</td>\n",
        "      <td> 0</td>\n",
        "      <td> 1</td>\n",
        "      <td> 0</td>\n",
        "      <td> 0</td>\n",
        "      <td> 0</td>\n",
        "      <td> 0</td>\n",
        "      <td> 0</td>\n",
        "      <td> 1149.346496</td>\n",
        "      <td> 38.447904</td>\n",
        "    </tr>\n",
        "    <tr>\n",
        "      <th>6472</th>\n",
        "      <td>              zeinasabry@gmail.com</td>\n",
        "      <td> 2013-10-17</td>\n",
        "      <td> 1</td>\n",
        "      <td>  189.00</td>\n",
        "      <td>  189.00</td>\n",
        "      <td> 0</td>\n",
        "      <td> 0</td>\n",
        "      <td> 0</td>\n",
        "      <td> 1</td>\n",
        "      <td> 0</td>\n",
        "      <td>...</td>\n",
        "      <td> 0</td>\n",
        "      <td> 0</td>\n",
        "      <td> 0</td>\n",
        "      <td> 0</td>\n",
        "      <td> 0</td>\n",
        "      <td> 1</td>\n",
        "      <td> 0</td>\n",
        "      <td> 0</td>\n",
        "      <td> 1149.346496</td>\n",
        "      <td> 38.447904</td>\n",
        "    </tr>\n",
        "    <tr>\n",
        "      <th>6473</th>\n",
        "      <td>              zeinasabry@gmail.com</td>\n",
        "      <td> 2014-01-02</td>\n",
        "      <td> 1</td>\n",
        "      <td>  345.20</td>\n",
        "      <td>  345.20</td>\n",
        "      <td> 1</td>\n",
        "      <td> 1</td>\n",
        "      <td> 0</td>\n",
        "      <td> 0</td>\n",
        "      <td> 0</td>\n",
        "      <td>...</td>\n",
        "      <td> 0</td>\n",
        "      <td> 1</td>\n",
        "      <td> 0</td>\n",
        "      <td> 0</td>\n",
        "      <td> 0</td>\n",
        "      <td> 0</td>\n",
        "      <td> 0</td>\n",
        "      <td> 0</td>\n",
        "      <td> 1149.346496</td>\n",
        "      <td> 38.447904</td>\n",
        "    </tr>\n",
        "    <tr>\n",
        "      <th>6474</th>\n",
        "      <td>              zeinasabry@gmail.com</td>\n",
        "      <td> 2014-02-27</td>\n",
        "      <td> 1</td>\n",
        "      <td>  167.35</td>\n",
        "      <td>  167.35</td>\n",
        "      <td> 1</td>\n",
        "      <td> 0</td>\n",
        "      <td> 0</td>\n",
        "      <td> 0</td>\n",
        "      <td> 0</td>\n",
        "      <td>...</td>\n",
        "      <td> 0</td>\n",
        "      <td> 0</td>\n",
        "      <td> 0</td>\n",
        "      <td> 0</td>\n",
        "      <td> 0</td>\n",
        "      <td> 1</td>\n",
        "      <td> 0</td>\n",
        "      <td> 0</td>\n",
        "      <td> 1149.346496</td>\n",
        "      <td> 38.447904</td>\n",
        "    </tr>\n",
        "    <tr>\n",
        "      <th>6475</th>\n",
        "      <td>              zeinasabry@gmail.com</td>\n",
        "      <td> 2014-05-22</td>\n",
        "      <td> 1</td>\n",
        "      <td>  134.00</td>\n",
        "      <td>  134.00</td>\n",
        "      <td> 0</td>\n",
        "      <td> 0</td>\n",
        "      <td> 0</td>\n",
        "      <td> 1</td>\n",
        "      <td> 0</td>\n",
        "      <td>...</td>\n",
        "      <td> 0</td>\n",
        "      <td> 1</td>\n",
        "      <td> 0</td>\n",
        "      <td> 0</td>\n",
        "      <td> 0</td>\n",
        "      <td> 0</td>\n",
        "      <td> 0</td>\n",
        "      <td> 0</td>\n",
        "      <td> 1149.346496</td>\n",
        "      <td> 38.447904</td>\n",
        "    </tr>\n",
        "    <tr>\n",
        "      <th>6476</th>\n",
        "      <td>               zeinriham@gmail.com</td>\n",
        "      <td> 2015-09-10</td>\n",
        "      <td> 1</td>\n",
        "      <td>  148.00</td>\n",
        "      <td>  148.00</td>\n",
        "      <td> 0</td>\n",
        "      <td> 1</td>\n",
        "      <td> 0</td>\n",
        "      <td> 0</td>\n",
        "      <td> 0</td>\n",
        "      <td>...</td>\n",
        "      <td> 0</td>\n",
        "      <td> 0</td>\n",
        "      <td> 0</td>\n",
        "      <td> 0</td>\n",
        "      <td> 0</td>\n",
        "      <td> 0</td>\n",
        "      <td> 0</td>\n",
        "      <td> 0</td>\n",
        "      <td> 1149.346496</td>\n",
        "      <td> 38.447904</td>\n",
        "    </tr>\n",
        "    <tr>\n",
        "      <th>6477</th>\n",
        "      <td>               zeinriham@gmail.com</td>\n",
        "      <td> 2015-11-19</td>\n",
        "      <td> 1</td>\n",
        "      <td>  188.00</td>\n",
        "      <td>  188.00</td>\n",
        "      <td> 0</td>\n",
        "      <td> 0</td>\n",
        "      <td> 1</td>\n",
        "      <td> 0</td>\n",
        "      <td> 0</td>\n",
        "      <td>...</td>\n",
        "      <td> 0</td>\n",
        "      <td> 1</td>\n",
        "      <td> 0</td>\n",
        "      <td> 0</td>\n",
        "      <td> 0</td>\n",
        "      <td> 0</td>\n",
        "      <td> 0</td>\n",
        "      <td> 0</td>\n",
        "      <td> 1149.346496</td>\n",
        "      <td> 38.447904</td>\n",
        "    </tr>\n",
        "    <tr>\n",
        "      <th>6478</th>\n",
        "      <td>           zenaabdelbaky@gmail.com</td>\n",
        "      <td> 2014-05-15</td>\n",
        "      <td> 1</td>\n",
        "      <td>  126.50</td>\n",
        "      <td>  126.50</td>\n",
        "      <td> 0</td>\n",
        "      <td> 0</td>\n",
        "      <td> 0</td>\n",
        "      <td> 0</td>\n",
        "      <td> 0</td>\n",
        "      <td>...</td>\n",
        "      <td> 0</td>\n",
        "      <td> 0</td>\n",
        "      <td> 0</td>\n",
        "      <td> 0</td>\n",
        "      <td> 0</td>\n",
        "      <td> 1</td>\n",
        "      <td> 0</td>\n",
        "      <td> 0</td>\n",
        "      <td> 1149.346496</td>\n",
        "      <td> 38.447904</td>\n",
        "    </tr>\n",
        "    <tr>\n",
        "      <th>6479</th>\n",
        "      <td>           zenaabdelbaky@gmail.com</td>\n",
        "      <td> 2015-07-23</td>\n",
        "      <td> 1</td>\n",
        "      <td>  121.00</td>\n",
        "      <td>  121.00</td>\n",
        "      <td> 0</td>\n",
        "      <td> 0</td>\n",
        "      <td> 1</td>\n",
        "      <td> 0</td>\n",
        "      <td> 0</td>\n",
        "      <td>...</td>\n",
        "      <td> 0</td>\n",
        "      <td> 0</td>\n",
        "      <td> 0</td>\n",
        "      <td> 0</td>\n",
        "      <td> 0</td>\n",
        "      <td> 0</td>\n",
        "      <td> 0</td>\n",
        "      <td> 0</td>\n",
        "      <td> 1149.346496</td>\n",
        "      <td> 38.447904</td>\n",
        "    </tr>\n",
        "    <tr>\n",
        "      <th>6480</th>\n",
        "      <td>            zeyadattalla@yahoo.com</td>\n",
        "      <td> 2015-05-07</td>\n",
        "      <td> 1</td>\n",
        "      <td>   97.40</td>\n",
        "      <td>   97.40</td>\n",
        "      <td> 0</td>\n",
        "      <td> 0</td>\n",
        "      <td> 1</td>\n",
        "      <td> 0</td>\n",
        "      <td> 0</td>\n",
        "      <td>...</td>\n",
        "      <td> 0</td>\n",
        "      <td> 0</td>\n",
        "      <td> 0</td>\n",
        "      <td> 0</td>\n",
        "      <td> 0</td>\n",
        "      <td> 0</td>\n",
        "      <td> 0</td>\n",
        "      <td> 0</td>\n",
        "      <td> 1149.346496</td>\n",
        "      <td> 38.447904</td>\n",
        "    </tr>\n",
        "    <tr>\n",
        "      <th>6481</th>\n",
        "      <td>                ziadihab@gmail.com</td>\n",
        "      <td> 2015-04-16</td>\n",
        "      <td> 1</td>\n",
        "      <td>   47.00</td>\n",
        "      <td>   47.00</td>\n",
        "      <td> 0</td>\n",
        "      <td> 1</td>\n",
        "      <td> 0</td>\n",
        "      <td> 0</td>\n",
        "      <td> 0</td>\n",
        "      <td>...</td>\n",
        "      <td> 0</td>\n",
        "      <td> 0</td>\n",
        "      <td> 0</td>\n",
        "      <td> 0</td>\n",
        "      <td> 0</td>\n",
        "      <td> 0</td>\n",
        "      <td> 0</td>\n",
        "      <td> 0</td>\n",
        "      <td> 1149.346496</td>\n",
        "      <td> 38.447904</td>\n",
        "    </tr>\n",
        "    <tr>\n",
        "      <th>6482</th>\n",
        "      <td>               ziadusama@ymail.com</td>\n",
        "      <td> 2015-12-03</td>\n",
        "      <td> 1</td>\n",
        "      <td>   59.00</td>\n",
        "      <td>   59.00</td>\n",
        "      <td> 0</td>\n",
        "      <td> 0</td>\n",
        "      <td> 0</td>\n",
        "      <td> 0</td>\n",
        "      <td> 0</td>\n",
        "      <td>...</td>\n",
        "      <td> 0</td>\n",
        "      <td> 1</td>\n",
        "      <td> 0</td>\n",
        "      <td> 0</td>\n",
        "      <td> 0</td>\n",
        "      <td> 0</td>\n",
        "      <td> 0</td>\n",
        "      <td> 0</td>\n",
        "      <td> 1149.346496</td>\n",
        "      <td> 38.447904</td>\n",
        "    </tr>\n",
        "    <tr>\n",
        "      <th>6483</th>\n",
        "      <td>               zinelhini@yahoo.com</td>\n",
        "      <td> 2013-10-03</td>\n",
        "      <td> 1</td>\n",
        "      <td>  320.02</td>\n",
        "      <td>  320.02</td>\n",
        "      <td> 0</td>\n",
        "      <td> 1</td>\n",
        "      <td> 0</td>\n",
        "      <td> 0</td>\n",
        "      <td> 0</td>\n",
        "      <td>...</td>\n",
        "      <td> 0</td>\n",
        "      <td> 0</td>\n",
        "      <td> 0</td>\n",
        "      <td> 0</td>\n",
        "      <td> 1</td>\n",
        "      <td> 0</td>\n",
        "      <td> 0</td>\n",
        "      <td> 0</td>\n",
        "      <td> 1149.346496</td>\n",
        "      <td> 38.447904</td>\n",
        "    </tr>\n",
        "    <tr>\n",
        "      <th>6484</th>\n",
        "      <td>                zleseman@gmail.com</td>\n",
        "      <td> 2013-02-07</td>\n",
        "      <td> 1</td>\n",
        "      <td>  657.60</td>\n",
        "      <td>  657.60</td>\n",
        "      <td> 0</td>\n",
        "      <td> 0</td>\n",
        "      <td> 0</td>\n",
        "      <td> 0</td>\n",
        "      <td> 0</td>\n",
        "      <td>...</td>\n",
        "      <td> 0</td>\n",
        "      <td> 0</td>\n",
        "      <td> 0</td>\n",
        "      <td> 1</td>\n",
        "      <td> 0</td>\n",
        "      <td> 0</td>\n",
        "      <td> 0</td>\n",
        "      <td> 0</td>\n",
        "      <td> 1149.346496</td>\n",
        "      <td> 38.447904</td>\n",
        "    </tr>\n",
        "    <tr>\n",
        "      <th>6485</th>\n",
        "      <td>                zleseman@gmail.com</td>\n",
        "      <td> 2013-04-18</td>\n",
        "      <td> 1</td>\n",
        "      <td>  501.47</td>\n",
        "      <td>  501.47</td>\n",
        "      <td> 1</td>\n",
        "      <td> 0</td>\n",
        "      <td> 0</td>\n",
        "      <td> 0</td>\n",
        "      <td> 0</td>\n",
        "      <td>...</td>\n",
        "      <td> 0</td>\n",
        "      <td> 0</td>\n",
        "      <td> 0</td>\n",
        "      <td> 0</td>\n",
        "      <td> 0</td>\n",
        "      <td> 1</td>\n",
        "      <td> 0</td>\n",
        "      <td> 0</td>\n",
        "      <td> 1149.346496</td>\n",
        "      <td> 38.447904</td>\n",
        "    </tr>\n",
        "    <tr>\n",
        "      <th>6486</th>\n",
        "      <td>           zolaykha1st@hotmail.com</td>\n",
        "      <td> 2014-12-11</td>\n",
        "      <td> 1</td>\n",
        "      <td>  610.10</td>\n",
        "      <td>  610.10</td>\n",
        "      <td> 0</td>\n",
        "      <td> 0</td>\n",
        "      <td> 0</td>\n",
        "      <td> 0</td>\n",
        "      <td> 0</td>\n",
        "      <td>...</td>\n",
        "      <td> 1</td>\n",
        "      <td> 0</td>\n",
        "      <td> 0</td>\n",
        "      <td> 0</td>\n",
        "      <td> 0</td>\n",
        "      <td> 0</td>\n",
        "      <td> 0</td>\n",
        "      <td> 0</td>\n",
        "      <td> 1149.346496</td>\n",
        "      <td> 38.447904</td>\n",
        "    </tr>\n",
        "    <tr>\n",
        "      <th>6487</th>\n",
        "      <td>               zshafei@outlook.com</td>\n",
        "      <td> 2014-12-25</td>\n",
        "      <td> 1</td>\n",
        "      <td>  568.00</td>\n",
        "      <td>  568.00</td>\n",
        "      <td> 1</td>\n",
        "      <td> 0</td>\n",
        "      <td> 0</td>\n",
        "      <td> 0</td>\n",
        "      <td> 0</td>\n",
        "      <td>...</td>\n",
        "      <td> 0</td>\n",
        "      <td> 0</td>\n",
        "      <td> 0</td>\n",
        "      <td> 1</td>\n",
        "      <td> 0</td>\n",
        "      <td> 0</td>\n",
        "      <td> 0</td>\n",
        "      <td> 0</td>\n",
        "      <td> 1149.346496</td>\n",
        "      <td> 38.447904</td>\n",
        "    </tr>\n",
        "    <tr>\n",
        "      <th>6488</th>\n",
        "      <td>               zshafei@outlook.com</td>\n",
        "      <td> 2015-01-15</td>\n",
        "      <td> 1</td>\n",
        "      <td>  918.00</td>\n",
        "      <td>  918.00</td>\n",
        "      <td> 0</td>\n",
        "      <td> 0</td>\n",
        "      <td> 1</td>\n",
        "      <td> 1</td>\n",
        "      <td> 0</td>\n",
        "      <td>...</td>\n",
        "      <td> 0</td>\n",
        "      <td> 0</td>\n",
        "      <td> 0</td>\n",
        "      <td> 2</td>\n",
        "      <td> 0</td>\n",
        "      <td> 0</td>\n",
        "      <td> 0</td>\n",
        "      <td> 0</td>\n",
        "      <td> 1149.346496</td>\n",
        "      <td> 38.447904</td>\n",
        "    </tr>\n",
        "    <tr>\n",
        "      <th>6489</th>\n",
        "      <td>               zshafei@outlook.com</td>\n",
        "      <td> 2015-10-29</td>\n",
        "      <td> 1</td>\n",
        "      <td>  389.00</td>\n",
        "      <td>  389.00</td>\n",
        "      <td> 0</td>\n",
        "      <td> 1</td>\n",
        "      <td> 1</td>\n",
        "      <td> 0</td>\n",
        "      <td> 0</td>\n",
        "      <td>...</td>\n",
        "      <td> 0</td>\n",
        "      <td> 0</td>\n",
        "      <td> 1</td>\n",
        "      <td> 0</td>\n",
        "      <td> 0</td>\n",
        "      <td> 0</td>\n",
        "      <td> 0</td>\n",
        "      <td> 1</td>\n",
        "      <td> 1149.346496</td>\n",
        "      <td> 38.447904</td>\n",
        "    </tr>\n",
        "    <tr>\n",
        "      <th>6490</th>\n",
        "      <td>               zshafei@outlook.com</td>\n",
        "      <td> 2015-11-12</td>\n",
        "      <td> 1</td>\n",
        "      <td>  358.00</td>\n",
        "      <td>  358.00</td>\n",
        "      <td> 1</td>\n",
        "      <td> 0</td>\n",
        "      <td> 0</td>\n",
        "      <td> 0</td>\n",
        "      <td> 0</td>\n",
        "      <td>...</td>\n",
        "      <td> 0</td>\n",
        "      <td> 1</td>\n",
        "      <td> 0</td>\n",
        "      <td> 0</td>\n",
        "      <td> 0</td>\n",
        "      <td> 0</td>\n",
        "      <td> 0</td>\n",
        "      <td> 0</td>\n",
        "      <td> 1149.346496</td>\n",
        "      <td> 38.447904</td>\n",
        "    </tr>\n",
        "  </tbody>\n",
        "</table>\n",
        "<p>6491 rows \u00d7 26 columns</p>\n",
        "</div>"
       ],
       "metadata": {},
       "output_type": "pyout",
       "prompt_number": 17,
       "text": [
        "                                  Email        Date  Total orders  Revenue  \\\n",
        "0            11435mail@mkallenberger.de  2013-05-23             1   267.17   \n",
        "1                         1@gargour.com  2015-01-01             1   709.10   \n",
        "2                         1@gargour.com  2015-04-02             1   272.00   \n",
        "3                     1kttate@gmail.com  2015-08-06             1   156.00   \n",
        "4                     1kttate@gmail.com  2015-08-13             1   126.00   \n",
        "5                     1kttate@gmail.com  2015-08-27             1   190.00   \n",
        "6             1youniqueflower@gmail.com  2015-08-27             1   122.00   \n",
        "7             1youniqueflower@gmail.com  2015-11-26             1   362.00   \n",
        "8                    3aliaa.h@gmail.com  2015-03-12             1    54.00   \n",
        "9                    3aliaa.h@gmail.com  2015-04-02             1   106.00   \n",
        "10             777nadiateirah@gmail.com  2015-11-12             1   160.00   \n",
        "11             777nadiateirah@gmail.com  2015-11-19             1   130.00   \n",
        "12                            A2@ed.com  2015-09-10             1    30.00   \n",
        "13              ASHRAF.M.ZAKI@GMAIL.COM  2012-10-04             1   300.18   \n",
        "14                 Adhamada@hotmail.com  2012-07-05             1    61.20   \n",
        "15          Ahmed.Habash@moevenpick.com  2015-04-02             1   360.00   \n",
        "16    Ahmed.adel.abdelmonam@hotmail.com  2015-08-20             1   424.00   \n",
        "17              Aliamossallam@gmail.com  2014-10-16             1  1104.90   \n",
        "18              Aliamossallam@gmail.com  2014-10-23             1   452.40   \n",
        "19              Aliamossallam@gmail.com  2014-11-20             1   596.00   \n",
        "20              Aliamossallam@gmail.com  2014-12-11             1   358.55   \n",
        "21              Aliamossallam@gmail.com  2015-01-08             1   208.62   \n",
        "22              Aliamossallam@gmail.com  2015-01-29             1   483.10   \n",
        "23              Aliamossallam@gmail.com  2015-03-05             1   583.50   \n",
        "24              Aliamossallam@gmail.com  2015-05-14             1  1034.00   \n",
        "25              Aliamossallam@gmail.com  2015-06-18             1   621.20   \n",
        "26              Aliamossallam@gmail.com  2015-07-02             1   171.50   \n",
        "27              Aliamossallam@gmail.com  2015-07-09             1   198.75   \n",
        "28              Aliamossallam@gmail.com  2015-08-20             1   336.50   \n",
        "29              Aliamossallam@gmail.com  2015-12-10             1   215.00   \n",
        "...                                 ...         ...           ...      ...   \n",
        "6461             zeina.kassas@gmail.com  2015-04-16             1   378.00   \n",
        "6462             zeina.kassas@gmail.com  2015-04-23             1   194.00   \n",
        "6463             zeina.kassas@gmail.com  2015-06-11             1    96.00   \n",
        "6464          zeina_ahmed95@hotmail.com  2014-10-23             1   718.80   \n",
        "6465             zeina_naim@hotmail.com  2015-11-12             1    67.00   \n",
        "6466          zeinabahmedtaha@yahoo.com  2013-01-31             1   106.30   \n",
        "6467       zeinabkhalil2010@hotmail.com  2015-05-28             1   493.00   \n",
        "6468       zeinabkhalil2010@hotmail.com  2015-06-18             1    75.00   \n",
        "6469               zeinabnour@gmail.com  2014-10-30             1    87.50   \n",
        "6470               zeinahodroj@live.com  2015-03-19             1   342.50   \n",
        "6471               zeinasabry@gmail.com  2013-09-19             1   222.85   \n",
        "6472               zeinasabry@gmail.com  2013-10-17             1   189.00   \n",
        "6473               zeinasabry@gmail.com  2014-01-02             1   345.20   \n",
        "6474               zeinasabry@gmail.com  2014-02-27             1   167.35   \n",
        "6475               zeinasabry@gmail.com  2014-05-22             1   134.00   \n",
        "6476                zeinriham@gmail.com  2015-09-10             1   148.00   \n",
        "6477                zeinriham@gmail.com  2015-11-19             1   188.00   \n",
        "6478            zenaabdelbaky@gmail.com  2014-05-15             1   126.50   \n",
        "6479            zenaabdelbaky@gmail.com  2015-07-23             1   121.00   \n",
        "6480             zeyadattalla@yahoo.com  2015-05-07             1    97.40   \n",
        "6481                 ziadihab@gmail.com  2015-04-16             1    47.00   \n",
        "6482                ziadusama@ymail.com  2015-12-03             1    59.00   \n",
        "6483                zinelhini@yahoo.com  2013-10-03             1   320.02   \n",
        "6484                 zleseman@gmail.com  2013-02-07             1   657.60   \n",
        "6485                 zleseman@gmail.com  2013-04-18             1   501.47   \n",
        "6486            zolaykha1st@hotmail.com  2014-12-11             1   610.10   \n",
        "6487                zshafei@outlook.com  2014-12-25             1   568.00   \n",
        "6488                zshafei@outlook.com  2015-01-15             1   918.00   \n",
        "6489                zshafei@outlook.com  2015-10-29             1   389.00   \n",
        "6490                zshafei@outlook.com  2015-11-12             1   358.00   \n",
        "\n",
        "      Basket Value  Sunday  Monday  Tuesday  Wednesday  Thursday  \\\n",
        "0           267.17       1       0        0          0         0   \n",
        "1           709.10       0       0        0          0         0   \n",
        "2           272.00       0       0        1          0         0   \n",
        "3           156.00       1       0        0          0         0   \n",
        "4           126.00       0       1        0          0         0   \n",
        "5           190.00       0       1        0          0         0   \n",
        "6           122.00       0       0        1          0         0   \n",
        "7           362.00       0       1        0          0         0   \n",
        "8            54.00       1       0        0          0         0   \n",
        "9           106.00       0       0        0          0         0   \n",
        "10          160.00       0       1        0          0         0   \n",
        "11          130.00       0       0        0          0         0   \n",
        "12           30.00       0       0        0          0         0   \n",
        "13          300.18       0       0        0          0         0   \n",
        "14           61.20       0       1        0          0         0   \n",
        "15          360.00       0       0        0          0         0   \n",
        "16          424.00       0       1        0          0         0   \n",
        "17         1104.90       1       1        0          0         0   \n",
        "18          452.40       1       0        0          0         0   \n",
        "19          596.00       1       0        0          0         0   \n",
        "20          358.55       0       2        0          0         0   \n",
        "21          208.62       0       1        0          0         0   \n",
        "22          483.10       0       0        0          1         0   \n",
        "23          583.50       0       0        2          0         0   \n",
        "24         1034.00       0       0        0          0         0   \n",
        "25          621.20       0       0        0          0         0   \n",
        "26          171.50       0       0        0          0         0   \n",
        "27          198.75       1       0        0          0         0   \n",
        "28          336.50       0       1        0          0         0   \n",
        "29          215.00       0       1        0          0         0   \n",
        "...            ...     ...     ...      ...        ...       ...   \n",
        "6461        378.00       0       2        0          0         0   \n",
        "6462        194.00       1       0        0          0         0   \n",
        "6463         96.00       0       0        1          0         0   \n",
        "6464        718.80       1       0        0          0         0   \n",
        "6465         67.00       0       0        0          1         0   \n",
        "6466        106.30       0       0        0          0         0   \n",
        "6467        493.00       0       0        0          0         0   \n",
        "6468         75.00       0       0        0          1         0   \n",
        "6469         87.50       1       0        0          0         0   \n",
        "6470        342.50       2       0        0          0         0   \n",
        "6471        222.85       0       0        0          0         0   \n",
        "6472        189.00       0       0        0          1         0   \n",
        "6473        345.20       1       1        0          0         0   \n",
        "6474        167.35       1       0        0          0         0   \n",
        "6475        134.00       0       0        0          1         0   \n",
        "6476        148.00       0       1        0          0         0   \n",
        "6477        188.00       0       0        1          0         0   \n",
        "6478        126.50       0       0        0          0         0   \n",
        "6479        121.00       0       0        1          0         0   \n",
        "6480         97.40       0       0        1          0         0   \n",
        "6481         47.00       0       1        0          0         0   \n",
        "6482         59.00       0       0        0          0         0   \n",
        "6483        320.02       0       1        0          0         0   \n",
        "6484        657.60       0       0        0          0         0   \n",
        "6485        501.47       1       0        0          0         0   \n",
        "6486        610.10       0       0        0          0         0   \n",
        "6487        568.00       1       0        0          0         0   \n",
        "6488        918.00       0       0        1          1         0   \n",
        "6489        389.00       0       1        1          0         0   \n",
        "6490        358.00       1       0        0          0         0   \n",
        "\n",
        "             ...           8:00 - 10:00  10:00 - 12:00  12:00 - 14:00  \\\n",
        "0            ...                      0              0              0   \n",
        "1            ...                      0              0              0   \n",
        "2            ...                      0              0              0   \n",
        "3            ...                      1              0              0   \n",
        "4            ...                      1              0              0   \n",
        "5            ...                      0              1              0   \n",
        "6            ...                      0              0              0   \n",
        "7            ...                      0              0              1   \n",
        "8            ...                      0              0              0   \n",
        "9            ...                      0              0              0   \n",
        "10           ...                      0              0              1   \n",
        "11           ...                      0              1              0   \n",
        "12           ...                      0              0              1   \n",
        "13           ...                      1              0              0   \n",
        "14           ...                      0              0              0   \n",
        "15           ...                      0              0              0   \n",
        "16           ...                      0              0              0   \n",
        "17           ...                      0              1              0   \n",
        "18           ...                      0              1              1   \n",
        "19           ...                      0              0              0   \n",
        "20           ...                      0              0              1   \n",
        "21           ...                      0              0              0   \n",
        "22           ...                      0              0              0   \n",
        "23           ...                      0              0              1   \n",
        "24           ...                      0              0              0   \n",
        "25           ...                      0              0              0   \n",
        "26           ...                      0              1              0   \n",
        "27           ...                      0              0              0   \n",
        "28           ...                      0              1              0   \n",
        "29           ...                      0              0              1   \n",
        "...          ...                    ...            ...            ...   \n",
        "6461         ...                      1              0              1   \n",
        "6462         ...                      0              0              1   \n",
        "6463         ...                      0              0              0   \n",
        "6464         ...                      0              0              0   \n",
        "6465         ...                      0              1              0   \n",
        "6466         ...                      0              0              0   \n",
        "6467         ...                      0              0              0   \n",
        "6468         ...                      0              0              0   \n",
        "6469         ...                      0              1              0   \n",
        "6470         ...                      0              0              1   \n",
        "6471         ...                      0              0              1   \n",
        "6472         ...                      0              0              0   \n",
        "6473         ...                      0              1              0   \n",
        "6474         ...                      0              0              0   \n",
        "6475         ...                      0              1              0   \n",
        "6476         ...                      0              0              0   \n",
        "6477         ...                      0              1              0   \n",
        "6478         ...                      0              0              0   \n",
        "6479         ...                      0              0              0   \n",
        "6480         ...                      0              0              0   \n",
        "6481         ...                      0              0              0   \n",
        "6482         ...                      0              1              0   \n",
        "6483         ...                      0              0              0   \n",
        "6484         ...                      0              0              0   \n",
        "6485         ...                      0              0              0   \n",
        "6486         ...                      1              0              0   \n",
        "6487         ...                      0              0              0   \n",
        "6488         ...                      0              0              0   \n",
        "6489         ...                      0              0              1   \n",
        "6490         ...                      0              1              0   \n",
        "\n",
        "      14:00 - 16:00  16:00 - 18:00  18:00 - 20:00  20:00 - 22:00  \\\n",
        "0                 1              0              0              0   \n",
        "1                 0              1              0              0   \n",
        "2                 1              0              0              0   \n",
        "3                 0              0              0              0   \n",
        "4                 0              0              0              0   \n",
        "5                 0              0              0              0   \n",
        "6                 0              0              0              0   \n",
        "7                 0              0              0              0   \n",
        "8                 0              1              0              0   \n",
        "9                 0              0              0              0   \n",
        "10                0              0              0              0   \n",
        "11                0              0              0              0   \n",
        "12                0              0              0              0   \n",
        "13                0              0              0              0   \n",
        "14                0              0              1              0   \n",
        "15                1              0              0              0   \n",
        "16                0              0              0              0   \n",
        "17                0              0              1              0   \n",
        "18                1              0              0              0   \n",
        "19                0              0              1              0   \n",
        "20                0              0              0              0   \n",
        "21                0              0              0              1   \n",
        "22                0              1              0              0   \n",
        "23                1              0              0              0   \n",
        "24                0              1              0              1   \n",
        "25                0              0              0              0   \n",
        "26                0              0              0              0   \n",
        "27                1              0              0              0   \n",
        "28                0              0              0              0   \n",
        "29                0              0              0              0   \n",
        "...             ...            ...            ...            ...   \n",
        "6461              0              0              0              0   \n",
        "6462              0              0              0              0   \n",
        "6463              0              0              0              1   \n",
        "6464              0              0              0              1   \n",
        "6465              0              0              0              0   \n",
        "6466              0              1              0              0   \n",
        "6467              0              1              0              0   \n",
        "6468              1              0              0              0   \n",
        "6469              0              1              0              0   \n",
        "6470              0              0              0              0   \n",
        "6471              0              0              0              0   \n",
        "6472              0              0              1              0   \n",
        "6473              0              0              0              0   \n",
        "6474              0              0              1              0   \n",
        "6475              0              0              0              0   \n",
        "6476              0              0              0              0   \n",
        "6477              0              0              0              0   \n",
        "6478              0              0              1              0   \n",
        "6479              0              0              0              0   \n",
        "6480              0              0              0              0   \n",
        "6481              0              0              0              0   \n",
        "6482              0              0              0              0   \n",
        "6483              0              1              0              0   \n",
        "6484              1              0              0              0   \n",
        "6485              0              0              1              0   \n",
        "6486              0              0              0              0   \n",
        "6487              1              0              0              0   \n",
        "6488              2              0              0              0   \n",
        "6489              0              0              0              0   \n",
        "6490              0              0              0              0   \n",
        "\n",
        "      22:00 - 0:00  Average Revenue  Average Basket Size  \n",
        "0                0      1149.346496            38.447904  \n",
        "1                0      1149.346496            38.447904  \n",
        "2                0      1149.346496            38.447904  \n",
        "3                0      1149.346496            38.447904  \n",
        "4                0      1149.346496            38.447904  \n",
        "5                0      1149.346496            38.447904  \n",
        "6                1      1149.346496            38.447904  \n",
        "7                0      1149.346496            38.447904  \n",
        "8                0      1149.346496            38.447904  \n",
        "9                0      1149.346496            38.447904  \n",
        "10               0      1149.346496            38.447904  \n",
        "11               0      1149.346496            38.447904  \n",
        "12               0      1149.346496            38.447904  \n",
        "13               0      1149.346496            38.447904  \n",
        "14               0      1149.346496            38.447904  \n",
        "15               0      1149.346496            38.447904  \n",
        "16               0      1149.346496            38.447904  \n",
        "17               0      1149.346496            38.447904  \n",
        "18               0      1149.346496            38.447904  \n",
        "19               0      1149.346496            38.447904  \n",
        "20               0      1149.346496            38.447904  \n",
        "21               0      1149.346496            38.447904  \n",
        "22               0      1149.346496            38.447904  \n",
        "23               0      1149.346496            38.447904  \n",
        "24               0      1149.346496            38.447904  \n",
        "25               0      1149.346496            38.447904  \n",
        "26               0      1149.346496            38.447904  \n",
        "27               0      1149.346496            38.447904  \n",
        "28               0      1149.346496            38.447904  \n",
        "29               0      1149.346496            38.447904  \n",
        "...            ...              ...                  ...  \n",
        "6461             0      1149.346496            38.447904  \n",
        "6462             0      1149.346496            38.447904  \n",
        "6463             0      1149.346496            38.447904  \n",
        "6464             0      1149.346496            38.447904  \n",
        "6465             0      1149.346496            38.447904  \n",
        "6466             0      1149.346496            38.447904  \n",
        "6467             0      1149.346496            38.447904  \n",
        "6468             0      1149.346496            38.447904  \n",
        "6469             0      1149.346496            38.447904  \n",
        "6470             0      1149.346496            38.447904  \n",
        "6471             0      1149.346496            38.447904  \n",
        "6472             0      1149.346496            38.447904  \n",
        "6473             0      1149.346496            38.447904  \n",
        "6474             0      1149.346496            38.447904  \n",
        "6475             0      1149.346496            38.447904  \n",
        "6476             0      1149.346496            38.447904  \n",
        "6477             0      1149.346496            38.447904  \n",
        "6478             0      1149.346496            38.447904  \n",
        "6479             0      1149.346496            38.447904  \n",
        "6480             0      1149.346496            38.447904  \n",
        "6481             0      1149.346496            38.447904  \n",
        "6482             0      1149.346496            38.447904  \n",
        "6483             0      1149.346496            38.447904  \n",
        "6484             0      1149.346496            38.447904  \n",
        "6485             0      1149.346496            38.447904  \n",
        "6486             0      1149.346496            38.447904  \n",
        "6487             0      1149.346496            38.447904  \n",
        "6488             0      1149.346496            38.447904  \n",
        "6489             1      1149.346496            38.447904  \n",
        "6490             0      1149.346496            38.447904  \n",
        "\n",
        "[6491 rows x 26 columns]"
       ]
      }
     ],
     "prompt_number": 17
    },
    {
     "cell_type": "code",
     "collapsed": false,
     "input": [
      "customers = pd.read_csv('C:\\Users\\saisree849\\Documents\\GitHub\\NGS-2.0\\\\12_dashboard_tables\\data_input\\shopify\\customers_export.csv', low_memory=False)\n",
      "customers"
     ],
     "language": "python",
     "metadata": {},
     "outputs": [
      {
       "html": [
        "<div style=\"max-height:1000px;max-width:1500px;overflow:auto;\">\n",
        "<table border=\"1\" class=\"dataframe\">\n",
        "  <thead>\n",
        "    <tr style=\"text-align: right;\">\n",
        "      <th></th>\n",
        "      <th>First Name</th>\n",
        "      <th>Last Name</th>\n",
        "      <th>Email</th>\n",
        "      <th>Company</th>\n",
        "      <th>Address1</th>\n",
        "      <th>Address2</th>\n",
        "      <th>City</th>\n",
        "      <th>Province</th>\n",
        "      <th>Province Code</th>\n",
        "      <th>Country</th>\n",
        "      <th>Country Code</th>\n",
        "      <th>Zip</th>\n",
        "      <th>Phone</th>\n",
        "      <th>Accepts Marketing</th>\n",
        "      <th>Total Spent</th>\n",
        "      <th>Total Orders</th>\n",
        "      <th>Tags</th>\n",
        "      <th>Note</th>\n",
        "      <th>Tax Exempt</th>\n",
        "    </tr>\n",
        "  </thead>\n",
        "  <tbody>\n",
        "    <tr>\n",
        "      <th>0   </th>\n",
        "      <td>           Rehab </td>\n",
        "      <td>            Mansour</td>\n",
        "      <td>          rehabmansour@gmail.com</td>\n",
        "      <td>          NaN</td>\n",
        "      <td> 8 Al Shahid Ahmed Zaki St. Behind El Obour Bld...</td>\n",
        "      <td>                       Floor 9 - Appt. 91</td>\n",
        "      <td>                              Cairo</td>\n",
        "      <td>          Cairo</td>\n",
        "      <td>   C</td>\n",
        "      <td> Egypt</td>\n",
        "      <td>  EG</td>\n",
        "      <td>    11513</td>\n",
        "      <td>    01001607028</td>\n",
        "      <td>  no</td>\n",
        "      <td>     0.00</td>\n",
        "      <td>  1</td>\n",
        "      <td>                  NaN</td>\n",
        "      <td> NaN</td>\n",
        "      <td> no</td>\n",
        "    </tr>\n",
        "    <tr>\n",
        "      <th>1   </th>\n",
        "      <td>            RAfik</td>\n",
        "      <td>             BEbawi</td>\n",
        "      <td>                rhbebawi@live.ca</td>\n",
        "      <td>          NaN</td>\n",
        "      <td>                                               NaN</td>\n",
        "      <td>                                      NaN</td>\n",
        "      <td>                                NaN</td>\n",
        "      <td>            NaN</td>\n",
        "      <td> NaN</td>\n",
        "      <td>   NaN</td>\n",
        "      <td> NaN</td>\n",
        "      <td>      NaN</td>\n",
        "      <td>            NaN</td>\n",
        "      <td>  no</td>\n",
        "      <td>     0.00</td>\n",
        "      <td>  0</td>\n",
        "      <td>                  NaN</td>\n",
        "      <td> NaN</td>\n",
        "      <td> no</td>\n",
        "    </tr>\n",
        "    <tr>\n",
        "      <th>2   </th>\n",
        "      <td>        Francesca</td>\n",
        "      <td>            Cicardi</td>\n",
        "      <td>          fracicardi@hotmail.com</td>\n",
        "      <td>          NaN</td>\n",
        "      <td>                                5, Fouad al Ahwany</td>\n",
        "      <td>                        1st floor, apt. 3</td>\n",
        "      <td>                            Zamalek</td>\n",
        "      <td>          Cairo</td>\n",
        "      <td>   C</td>\n",
        "      <td> Egypt</td>\n",
        "      <td>  EG</td>\n",
        "      <td>    11211</td>\n",
        "      <td>    01203038029</td>\n",
        "      <td>  no</td>\n",
        "      <td>     0.00</td>\n",
        "      <td>  1</td>\n",
        "      <td>                  NaN</td>\n",
        "      <td> NaN</td>\n",
        "      <td> no</td>\n",
        "    </tr>\n",
        "    <tr>\n",
        "      <th>3   </th>\n",
        "      <td>            Ahmed</td>\n",
        "      <td>          Aboulella</td>\n",
        "      <td>          ahmed.fakhry@gmail.com</td>\n",
        "      <td>        Mipex</td>\n",
        "      <td>                10 Tahreer St, Sheraton Heliopolis</td>\n",
        "      <td>                                        8</td>\n",
        "      <td>                              Cairo</td>\n",
        "      <td>          Cairo</td>\n",
        "      <td>   C</td>\n",
        "      <td> Egypt</td>\n",
        "      <td>  EG</td>\n",
        "      <td>    11361</td>\n",
        "      <td>  +201009936633</td>\n",
        "      <td>  no</td>\n",
        "      <td>     0.00</td>\n",
        "      <td>  2</td>\n",
        "      <td>                  NaN</td>\n",
        "      <td> NaN</td>\n",
        "      <td> no</td>\n",
        "    </tr>\n",
        "    <tr>\n",
        "      <th>4   </th>\n",
        "      <td>           Laila </td>\n",
        "      <td>              akram</td>\n",
        "      <td>            Missilou11@yahoo.com</td>\n",
        "      <td>          NaN</td>\n",
        "      <td> Maadi*Road14*Villa60*Behind Qesm Elmaady*Maadi...</td>\n",
        "      <td>                                      NaN</td>\n",
        "      <td>                              Cairo</td>\n",
        "      <td>          Cairo</td>\n",
        "      <td>   C</td>\n",
        "      <td> Egypt</td>\n",
        "      <td>  EG</td>\n",
        "      <td>    Mm123</td>\n",
        "      <td>    01008108200</td>\n",
        "      <td>  no</td>\n",
        "      <td>     0.00</td>\n",
        "      <td>  1</td>\n",
        "      <td>                  NaN</td>\n",
        "      <td> NaN</td>\n",
        "      <td> no</td>\n",
        "    </tr>\n",
        "    <tr>\n",
        "      <th>5   </th>\n",
        "      <td>           Sally </td>\n",
        "      <td>              Salem</td>\n",
        "      <td>         sallysalem123@gmail.com</td>\n",
        "      <td>          NaN</td>\n",
        "      <td> \u0627\u0644\u0642\u0627\u0647\u0631\u0629 \u0627\u0644\u062c\u062f\u064a\u062f\u0629 \u0627\u0644\u062a\u062c\u0645\u0639 \u0627\u0644\u0627\u0648\u0644 5 \u0634\u0627\u0631\u0639 \u0627\u0644\u0632\u0631\u0642\u0627\u0646\u0649*\u0627...</td>\n",
        "      <td>                                      NaN</td>\n",
        "      <td>                              Cairo</td>\n",
        "      <td>          Cairo</td>\n",
        "      <td>   C</td>\n",
        "      <td> Egypt</td>\n",
        "      <td>  EG</td>\n",
        "      <td>    Mm123</td>\n",
        "      <td>    01222484466</td>\n",
        "      <td>  no</td>\n",
        "      <td>     0.00</td>\n",
        "      <td>  1</td>\n",
        "      <td>                  NaN</td>\n",
        "      <td> NaN</td>\n",
        "      <td> no</td>\n",
        "    </tr>\n",
        "    <tr>\n",
        "      <th>6   </th>\n",
        "      <td>           Gaylyn</td>\n",
        "      <td>            Mbogho </td>\n",
        "      <td>          gaylynmbogho@yahoo.com</td>\n",
        "      <td>          NaN</td>\n",
        "      <td>                                      Rd232 Build9</td>\n",
        "      <td>                                    Apt11</td>\n",
        "      <td>                              Cairo</td>\n",
        "      <td>          Cairo</td>\n",
        "      <td>   C</td>\n",
        "      <td> Egypt</td>\n",
        "      <td>  EG</td>\n",
        "      <td>    00100</td>\n",
        "      <td>    01006921218</td>\n",
        "      <td>  no</td>\n",
        "      <td>     0.00</td>\n",
        "      <td>  1</td>\n",
        "      <td>                  NaN</td>\n",
        "      <td> NaN</td>\n",
        "      <td> no</td>\n",
        "    </tr>\n",
        "    <tr>\n",
        "      <th>7   </th>\n",
        "      <td>             Daii</td>\n",
        "      <td>                Ali</td>\n",
        "      <td>            Daiieldeeb@gmail.com</td>\n",
        "      <td>          NaN</td>\n",
        "      <td> Plot 9519, Adly El Meligy St. Off Rd. 9, Mokat...</td>\n",
        "      <td>                                      NaN</td>\n",
        "      <td>                              Cairo</td>\n",
        "      <td>          Cairo</td>\n",
        "      <td>   C</td>\n",
        "      <td> Egypt</td>\n",
        "      <td>  EG</td>\n",
        "      <td>    11571</td>\n",
        "      <td>    01111397206</td>\n",
        "      <td>  no</td>\n",
        "      <td>     0.00</td>\n",
        "      <td>  1</td>\n",
        "      <td>                  NaN</td>\n",
        "      <td> NaN</td>\n",
        "      <td> no</td>\n",
        "    </tr>\n",
        "    <tr>\n",
        "      <th>8   </th>\n",
        "      <td>             Yara</td>\n",
        "      <td>                Ali</td>\n",
        "      <td>             yara.azam@gmail.com</td>\n",
        "      <td>          NaN</td>\n",
        "      <td>                               7 Youssef Abbas St.</td>\n",
        "      <td>                                Nasr City</td>\n",
        "      <td>                              Cairo</td>\n",
        "      <td>          Cairo</td>\n",
        "      <td>   C</td>\n",
        "      <td> Egypt</td>\n",
        "      <td>  EG</td>\n",
        "      <td>    11371</td>\n",
        "      <td>    01227357774</td>\n",
        "      <td>  no</td>\n",
        "      <td>     0.00</td>\n",
        "      <td>  1</td>\n",
        "      <td>                  NaN</td>\n",
        "      <td> NaN</td>\n",
        "      <td> no</td>\n",
        "    </tr>\n",
        "    <tr>\n",
        "      <th>9   </th>\n",
        "      <td>          Mohamed</td>\n",
        "      <td>            Mokhtar</td>\n",
        "      <td>              m.mkhtr@icloud.com</td>\n",
        "      <td>          NaN</td>\n",
        "      <td>                         34, Higaz st mohandiseen </td>\n",
        "      <td> Building in front of Seoudi supermarket </td>\n",
        "      <td>                               Giza</td>\n",
        "      <td>           Giza</td>\n",
        "      <td>  GZ</td>\n",
        "      <td> Egypt</td>\n",
        "      <td>  EG</td>\n",
        "      <td>    11211</td>\n",
        "      <td>    01220802255</td>\n",
        "      <td>  no</td>\n",
        "      <td>     0.00</td>\n",
        "      <td>  0</td>\n",
        "      <td>                  NaN</td>\n",
        "      <td> NaN</td>\n",
        "      <td> no</td>\n",
        "    </tr>\n",
        "    <tr>\n",
        "      <th>10  </th>\n",
        "      <td>            FIona</td>\n",
        "      <td>              Brown</td>\n",
        "      <td>           fmnkbrown@hotmail.com</td>\n",
        "      <td>          NaN</td>\n",
        "      <td>                                               NaN</td>\n",
        "      <td>                                      NaN</td>\n",
        "      <td>                                NaN</td>\n",
        "      <td>            NaN</td>\n",
        "      <td> NaN</td>\n",
        "      <td>   NaN</td>\n",
        "      <td> NaN</td>\n",
        "      <td>      NaN</td>\n",
        "      <td>            NaN</td>\n",
        "      <td>  no</td>\n",
        "      <td>     0.00</td>\n",
        "      <td>  0</td>\n",
        "      <td>                  NaN</td>\n",
        "      <td> NaN</td>\n",
        "      <td> no</td>\n",
        "    </tr>\n",
        "    <tr>\n",
        "      <th>11  </th>\n",
        "      <td>             Hind</td>\n",
        "      <td>             Haggag</td>\n",
        "      <td>           hind.haggag@gmail.com</td>\n",
        "      <td>       Doctor</td>\n",
        "      <td>                9 Africa-emtedad Mostafa Al Nahhas</td>\n",
        "      <td>                         Floor 8 aprt.801</td>\n",
        "      <td>                              Cairo</td>\n",
        "      <td>          Cairo</td>\n",
        "      <td>   C</td>\n",
        "      <td> Egypt</td>\n",
        "      <td>  EG</td>\n",
        "      <td>     1234</td>\n",
        "      <td>     0106680683</td>\n",
        "      <td>  no</td>\n",
        "      <td>     0.00</td>\n",
        "      <td>  0</td>\n",
        "      <td>                  NaN</td>\n",
        "      <td> NaN</td>\n",
        "      <td> no</td>\n",
        "    </tr>\n",
        "    <tr>\n",
        "      <th>12  </th>\n",
        "      <td>            Hazem</td>\n",
        "      <td>           El Shamy</td>\n",
        "      <td>           hazem.shamy@gmail.com</td>\n",
        "      <td>          NaN</td>\n",
        "      <td> 6th of october, sheikh zayed city, zayed 2000 ...</td>\n",
        "      <td>                                    Apt 7</td>\n",
        "      <td>                              Cairo</td>\n",
        "      <td> 6th of October</td>\n",
        "      <td>  SU</td>\n",
        "      <td> Egypt</td>\n",
        "      <td>  EG</td>\n",
        "      <td>       00</td>\n",
        "      <td>    01140222020</td>\n",
        "      <td>  no</td>\n",
        "      <td>     0.00</td>\n",
        "      <td>  1</td>\n",
        "      <td>                  NaN</td>\n",
        "      <td> NaN</td>\n",
        "      <td> no</td>\n",
        "    </tr>\n",
        "    <tr>\n",
        "      <th>13  </th>\n",
        "      <td>            Tamer</td>\n",
        "      <td>         Elmenshawy</td>\n",
        "      <td>          cyperx2000@hotmail.com</td>\n",
        "      <td>          NaN</td>\n",
        "      <td>                                   27 El Cablat ST</td>\n",
        "      <td>                                      NaN</td>\n",
        "      <td>                          Wady Hoof</td>\n",
        "      <td>          Cairo</td>\n",
        "      <td>   C</td>\n",
        "      <td> Egypt</td>\n",
        "      <td>  EG</td>\n",
        "      <td>    11433</td>\n",
        "      <td>    01005732432</td>\n",
        "      <td>  no</td>\n",
        "      <td>     0.00</td>\n",
        "      <td>  0</td>\n",
        "      <td>                  NaN</td>\n",
        "      <td> NaN</td>\n",
        "      <td> no</td>\n",
        "    </tr>\n",
        "    <tr>\n",
        "      <th>14  </th>\n",
        "      <td>            James</td>\n",
        "      <td>               Belk</td>\n",
        "      <td>       jamesmorgan0091@gmail.com</td>\n",
        "      <td>          NaN</td>\n",
        "      <td>                                      1904 ANN AVE</td>\n",
        "      <td>                                      NaN</td>\n",
        "      <td>                      HARRISONVILLE</td>\n",
        "      <td>          Cairo</td>\n",
        "      <td>   C</td>\n",
        "      <td> Egypt</td>\n",
        "      <td>  EG</td>\n",
        "      <td>    64701</td>\n",
        "      <td>     8168358620</td>\n",
        "      <td>  no</td>\n",
        "      <td>     0.00</td>\n",
        "      <td>  1</td>\n",
        "      <td>                  NaN</td>\n",
        "      <td> NaN</td>\n",
        "      <td> no</td>\n",
        "    </tr>\n",
        "    <tr>\n",
        "      <th>15  </th>\n",
        "      <td>             Maro</td>\n",
        "      <td>              Maher</td>\n",
        "      <td>          RODY.DOVE123@GMAIL.COM</td>\n",
        "      <td>          NaN</td>\n",
        "      <td> 15 Ismail Mohamed st. Borg Jedda- opposite Kol...</td>\n",
        "      <td>                                 Hers Gym</td>\n",
        "      <td>                              Cairo</td>\n",
        "      <td>          Cairo</td>\n",
        "      <td>   C</td>\n",
        "      <td> Egypt</td>\n",
        "      <td>  EG</td>\n",
        "      <td>   Am1234</td>\n",
        "      <td>    01016131364</td>\n",
        "      <td>  no</td>\n",
        "      <td>     0.00</td>\n",
        "      <td>  2</td>\n",
        "      <td>                  NaN</td>\n",
        "      <td> NaN</td>\n",
        "      <td> no</td>\n",
        "    </tr>\n",
        "    <tr>\n",
        "      <th>16  </th>\n",
        "      <td>             Heba</td>\n",
        "      <td>              Belal</td>\n",
        "      <td>             hibba_b@hotmail.com</td>\n",
        "      <td>          NaN</td>\n",
        "      <td> \u0645\u064a\u062f\u0627\u0646 \u0627\u0644\u062c\u0645\u0647\u0648\u0631\u064a\u0629 \u0645\u062a\u0641\u0631\u0639 \u0645\u0646 \u0627\u0644\u0628\u0637\u0644 \u0627\u062d\u0645\u062f \u0639\u0628\u062f \u0627\u0644\u0639\u0632\u064a\u0632...</td>\n",
        "      <td>                                 \u0639\u0645\u0627\u0631\u0629 3 </td>\n",
        "      <td>                              Cairo</td>\n",
        "      <td>          Cairo</td>\n",
        "      <td>   C</td>\n",
        "      <td> Egypt</td>\n",
        "      <td>  EG</td>\n",
        "      <td>    hk123</td>\n",
        "      <td>    01000323444</td>\n",
        "      <td>  no</td>\n",
        "      <td>     0.00</td>\n",
        "      <td>  1</td>\n",
        "      <td>                  NaN</td>\n",
        "      <td> NaN</td>\n",
        "      <td> no</td>\n",
        "    </tr>\n",
        "    <tr>\n",
        "      <th>17  </th>\n",
        "      <td>          Pascale</td>\n",
        "      <td>              Nader</td>\n",
        "      <td>          pascalenader@gmail.com</td>\n",
        "      <td>          NaN</td>\n",
        "      <td>                   6, Hassan sabry street, zamalek</td>\n",
        "      <td>                         12 floor, apt 67</td>\n",
        "      <td>                              Cairo</td>\n",
        "      <td>          Cairo</td>\n",
        "      <td>   C</td>\n",
        "      <td> Egypt</td>\n",
        "      <td>  EG</td>\n",
        "      <td>    11211</td>\n",
        "      <td>    01201019007</td>\n",
        "      <td>  no</td>\n",
        "      <td>     0.00</td>\n",
        "      <td>  1</td>\n",
        "      <td>                  NaN</td>\n",
        "      <td> NaN</td>\n",
        "      <td> no</td>\n",
        "    </tr>\n",
        "    <tr>\n",
        "      <th>18  </th>\n",
        "      <td>             Hoda</td>\n",
        "      <td>              Salah</td>\n",
        "      <td>          hodasalah@aucegypt.edu</td>\n",
        "      <td>          NaN</td>\n",
        "      <td>                                               NaN</td>\n",
        "      <td>                                      NaN</td>\n",
        "      <td>                                NaN</td>\n",
        "      <td>            NaN</td>\n",
        "      <td> NaN</td>\n",
        "      <td>   NaN</td>\n",
        "      <td> NaN</td>\n",
        "      <td>      NaN</td>\n",
        "      <td>            NaN</td>\n",
        "      <td>  no</td>\n",
        "      <td>     0.00</td>\n",
        "      <td>  0</td>\n",
        "      <td>                  NaN</td>\n",
        "      <td> NaN</td>\n",
        "      <td> no</td>\n",
        "    </tr>\n",
        "    <tr>\n",
        "      <th>19  </th>\n",
        "      <td>           Hassan</td>\n",
        "      <td>            Elshamy</td>\n",
        "      <td>          hasanelshamy@gmail.com</td>\n",
        "      <td>          NaN</td>\n",
        "      <td>                                               NaN</td>\n",
        "      <td>                                      NaN</td>\n",
        "      <td>                                NaN</td>\n",
        "      <td>            NaN</td>\n",
        "      <td> NaN</td>\n",
        "      <td>   NaN</td>\n",
        "      <td> NaN</td>\n",
        "      <td>      NaN</td>\n",
        "      <td>            NaN</td>\n",
        "      <td>  no</td>\n",
        "      <td>     0.00</td>\n",
        "      <td>  0</td>\n",
        "      <td>                  NaN</td>\n",
        "      <td> NaN</td>\n",
        "      <td> no</td>\n",
        "    </tr>\n",
        "    <tr>\n",
        "      <th>20  </th>\n",
        "      <td>            Rania</td>\n",
        "      <td>             Hassan</td>\n",
        "      <td>               r_h_ali@yahoo.com</td>\n",
        "      <td>          NaN</td>\n",
        "      <td> 6 abd elrahman ebn elhakam from hassan aflaton...</td>\n",
        "      <td>                                      NaN</td>\n",
        "      <td>                              cairo</td>\n",
        "      <td>          Cairo</td>\n",
        "      <td>   C</td>\n",
        "      <td> Egypt</td>\n",
        "      <td>  EG</td>\n",
        "      <td>    11311</td>\n",
        "      <td>    01222127426</td>\n",
        "      <td>  no</td>\n",
        "      <td>     0.00</td>\n",
        "      <td>  1</td>\n",
        "      <td>                  NaN</td>\n",
        "      <td> NaN</td>\n",
        "      <td> no</td>\n",
        "    </tr>\n",
        "    <tr>\n",
        "      <th>21  </th>\n",
        "      <td>           Mervat</td>\n",
        "      <td>            Elgamal</td>\n",
        "      <td>                fabbff@gmail.com</td>\n",
        "      <td>          NaN</td>\n",
        "      <td>                                      24 Yasmeen 2</td>\n",
        "      <td>                                      NaN</td>\n",
        "      <td>                       Tagamo3 awal</td>\n",
        "      <td>          Cairo</td>\n",
        "      <td>   C</td>\n",
        "      <td> Egypt</td>\n",
        "      <td>  EG</td>\n",
        "      <td>     1111</td>\n",
        "      <td>  0201005540036</td>\n",
        "      <td>  no</td>\n",
        "      <td>     0.00</td>\n",
        "      <td>  1</td>\n",
        "      <td>                  NaN</td>\n",
        "      <td> NaN</td>\n",
        "      <td> no</td>\n",
        "    </tr>\n",
        "    <tr>\n",
        "      <th>22  </th>\n",
        "      <td>             Muaz</td>\n",
        "      <td>              Munir</td>\n",
        "      <td>             muazmunir@gmail.com</td>\n",
        "      <td>          NaN</td>\n",
        "      <td> \u0627\u0634\u0627\u0631\u0639 \u0627\u0644\u0645\u062d\u0637\u0629 \u0639\u0645\u0627\u0631\u0627\u062a \u0627\u0644\u0627\u0648\u0642\u0627\u0641 \u0639\u0645\u0627\u0631\u0629 8 \u0634\u0642\u06299  \u0627\u0644\u062f\u0648...</td>\n",
        "      <td>                                      NaN</td>\n",
        "      <td>                              Cairo</td>\n",
        "      <td>          Cairo</td>\n",
        "      <td>   C</td>\n",
        "      <td> Egypt</td>\n",
        "      <td>  EG</td>\n",
        "      <td>    hk123</td>\n",
        "      <td>    01001184082</td>\n",
        "      <td>  no</td>\n",
        "      <td>     0.00</td>\n",
        "      <td>  1</td>\n",
        "      <td>                  NaN</td>\n",
        "      <td> NaN</td>\n",
        "      <td> no</td>\n",
        "    </tr>\n",
        "    <tr>\n",
        "      <th>23  </th>\n",
        "      <td>             Amal</td>\n",
        "      <td>           Akhnoukh</td>\n",
        "      <td>          amalakhnoukh@gmail.com</td>\n",
        "      <td>          NaN</td>\n",
        "      <td>                            villa 29 Arabella Park</td>\n",
        "      <td>                                      NaN</td>\n",
        "      <td>                          New Cairo</td>\n",
        "      <td>          Cairo</td>\n",
        "      <td>   C</td>\n",
        "      <td> Egypt</td>\n",
        "      <td>  EG</td>\n",
        "      <td>    11835</td>\n",
        "      <td>  +201223980020</td>\n",
        "      <td>  no</td>\n",
        "      <td>     0.00</td>\n",
        "      <td>  1</td>\n",
        "      <td>                  NaN</td>\n",
        "      <td> NaN</td>\n",
        "      <td> no</td>\n",
        "    </tr>\n",
        "    <tr>\n",
        "      <th>24  </th>\n",
        "      <td>            Sonja</td>\n",
        "      <td>               Lang</td>\n",
        "      <td>         sonja.langweb@gmail.com</td>\n",
        "      <td>          NaN</td>\n",
        "      <td>        El-Katameya Residence, Besides JW Marriott</td>\n",
        "      <td>                                Villa #G3</td>\n",
        "      <td>                          New Cairo</td>\n",
        "      <td>          Cairo</td>\n",
        "      <td>   C</td>\n",
        "      <td> Egypt</td>\n",
        "      <td>  EG</td>\n",
        "      <td>    11936</td>\n",
        "      <td>  0100 942 1880</td>\n",
        "      <td>  no</td>\n",
        "      <td>     0.00</td>\n",
        "      <td>  1</td>\n",
        "      <td>                  NaN</td>\n",
        "      <td> NaN</td>\n",
        "      <td> no</td>\n",
        "    </tr>\n",
        "    <tr>\n",
        "      <th>25  </th>\n",
        "      <td>            MANAR</td>\n",
        "      <td>            ELKHOLY</td>\n",
        "      <td>          manarelkholy@gmail.com</td>\n",
        "      <td>          NaN</td>\n",
        "      <td> Al Ashgar compound, El Wahat Road, opposite dr...</td>\n",
        "      <td>                                 villa 11</td>\n",
        "      <td>                         6 October </td>\n",
        "      <td> 6th of October</td>\n",
        "      <td>  SU</td>\n",
        "      <td> Egypt</td>\n",
        "      <td>  EG</td>\n",
        "      <td>    12587</td>\n",
        "      <td>  +201001406762</td>\n",
        "      <td>  no</td>\n",
        "      <td>     0.00</td>\n",
        "      <td>  1</td>\n",
        "      <td>                  NaN</td>\n",
        "      <td> NaN</td>\n",
        "      <td> no</td>\n",
        "    </tr>\n",
        "    <tr>\n",
        "      <th>26  </th>\n",
        "      <td>            Assem</td>\n",
        "      <td>          Elsalmoum</td>\n",
        "      <td>           asooome1415@gmail.com</td>\n",
        "      <td>          NaN</td>\n",
        "      <td>   meeting point near cairo tower/gezira / Zamalek</td>\n",
        "      <td>                                      NaN</td>\n",
        "      <td>                              cairo</td>\n",
        "      <td>          Cairo</td>\n",
        "      <td>   C</td>\n",
        "      <td> Egypt</td>\n",
        "      <td>  EG</td>\n",
        "      <td>    hb123</td>\n",
        "      <td>    01020357103</td>\n",
        "      <td>  no</td>\n",
        "      <td>     0.00</td>\n",
        "      <td>  1</td>\n",
        "      <td>                  NaN</td>\n",
        "      <td> NaN</td>\n",
        "      <td> no</td>\n",
        "    </tr>\n",
        "    <tr>\n",
        "      <th>27  </th>\n",
        "      <td>            Louna</td>\n",
        "      <td>           Geoffroy</td>\n",
        "      <td>         louna_paris@hotmail.com</td>\n",
        "      <td>          NaN</td>\n",
        "      <td>                  #1 shara 152 (at corner of sh 7)</td>\n",
        "      <td>                             #18, floor 5</td>\n",
        "      <td>                              Maadi</td>\n",
        "      <td>          Cairo</td>\n",
        "      <td>   C</td>\n",
        "      <td> Egypt</td>\n",
        "      <td>  EG</td>\n",
        "      <td>  11511??</td>\n",
        "      <td>    01277714347</td>\n",
        "      <td>  no</td>\n",
        "      <td>     0.00</td>\n",
        "      <td>  1</td>\n",
        "      <td>                  NaN</td>\n",
        "      <td> NaN</td>\n",
        "      <td> no</td>\n",
        "    </tr>\n",
        "    <tr>\n",
        "      <th>28  </th>\n",
        "      <td>          Mohamed</td>\n",
        "      <td>          Ezz Eldin</td>\n",
        "      <td>          medo_www98@hotmail.com</td>\n",
        "      <td>          NaN</td>\n",
        "      <td>                      Mohamed Mahmoud basha street</td>\n",
        "      <td>                                      NaN</td>\n",
        "      <td>                               tala</td>\n",
        "      <td>        Monufia</td>\n",
        "      <td> MNF</td>\n",
        "      <td> Egypt</td>\n",
        "      <td>  EG</td>\n",
        "      <td>    32611</td>\n",
        "      <td>    01126711532</td>\n",
        "      <td>  no</td>\n",
        "      <td>     0.00</td>\n",
        "      <td>  0</td>\n",
        "      <td>                  NaN</td>\n",
        "      <td> NaN</td>\n",
        "      <td> no</td>\n",
        "    </tr>\n",
        "    <tr>\n",
        "      <th>29  </th>\n",
        "      <td>            Sahar</td>\n",
        "      <td>      Mohamed Galal</td>\n",
        "      <td>         oottahsahar@hotmail.com</td>\n",
        "      <td>          NaN</td>\n",
        "      <td> 2  elshaheed fayez zakaria street / masaken sh...</td>\n",
        "      <td>                      2nd floor / app 203</td>\n",
        "      <td>                              cairo</td>\n",
        "      <td>          Cairo</td>\n",
        "      <td>   C</td>\n",
        "      <td> Egypt</td>\n",
        "      <td>  EG</td>\n",
        "      <td>    hb123</td>\n",
        "      <td>    01005121848</td>\n",
        "      <td>  no</td>\n",
        "      <td>     0.00</td>\n",
        "      <td>  1</td>\n",
        "      <td>                  NaN</td>\n",
        "      <td> NaN</td>\n",
        "      <td> no</td>\n",
        "    </tr>\n",
        "    <tr>\n",
        "      <th>...</th>\n",
        "      <td>...</td>\n",
        "      <td>...</td>\n",
        "      <td>...</td>\n",
        "      <td>...</td>\n",
        "      <td>...</td>\n",
        "      <td>...</td>\n",
        "      <td>...</td>\n",
        "      <td>...</td>\n",
        "      <td>...</td>\n",
        "      <td>...</td>\n",
        "      <td>...</td>\n",
        "      <td>...</td>\n",
        "      <td>...</td>\n",
        "      <td>...</td>\n",
        "      <td>...</td>\n",
        "      <td>...</td>\n",
        "      <td>...</td>\n",
        "      <td>...</td>\n",
        "      <td>...</td>\n",
        "    </tr>\n",
        "    <tr>\n",
        "      <th>3063</th>\n",
        "      <td>            Adham</td>\n",
        "      <td>             Hamada</td>\n",
        "      <td>            Adhamada@hotmail.com</td>\n",
        "      <td>          NaN</td>\n",
        "      <td>                5 eskandar el Akbar st. Heliopolis</td>\n",
        "      <td>                              First floor</td>\n",
        "      <td>                              Cairo</td>\n",
        "      <td>            NaN</td>\n",
        "      <td> NaN</td>\n",
        "      <td> Egypt</td>\n",
        "      <td>  EG</td>\n",
        "      <td>    00000</td>\n",
        "      <td>    01223221581</td>\n",
        "      <td> yes</td>\n",
        "      <td>    71.20</td>\n",
        "      <td>  1</td>\n",
        "      <td>                  NaN</td>\n",
        "      <td> NaN</td>\n",
        "      <td> no</td>\n",
        "    </tr>\n",
        "    <tr>\n",
        "      <th>3064</th>\n",
        "      <td>          Houssam</td>\n",
        "      <td>             Elokda</td>\n",
        "      <td>        houssam.elokda@gmail.com</td>\n",
        "      <td>          NaN</td>\n",
        "      <td>               96 Safari, Golf City, El-Obour City</td>\n",
        "      <td>                                      NaN</td>\n",
        "      <td>                              Cairo</td>\n",
        "      <td>          Cairo</td>\n",
        "      <td>   C</td>\n",
        "      <td> Egypt</td>\n",
        "      <td>  EG</td>\n",
        "      <td>      NaN</td>\n",
        "      <td>    01095830000</td>\n",
        "      <td> yes</td>\n",
        "      <td>   448.50</td>\n",
        "      <td>  1</td>\n",
        "      <td>                  NaN</td>\n",
        "      <td> NaN</td>\n",
        "      <td> no</td>\n",
        "    </tr>\n",
        "    <tr>\n",
        "      <th>3065</th>\n",
        "      <td>       Subscriber</td>\n",
        "      <td>         Newsletter</td>\n",
        "      <td>          pensee.afifi@gmail.com</td>\n",
        "      <td>          NaN</td>\n",
        "      <td>                                               NaN</td>\n",
        "      <td>                                      NaN</td>\n",
        "      <td>                                NaN</td>\n",
        "      <td>            NaN</td>\n",
        "      <td> NaN</td>\n",
        "      <td>   NaN</td>\n",
        "      <td> NaN</td>\n",
        "      <td>      NaN</td>\n",
        "      <td>            NaN</td>\n",
        "      <td> yes</td>\n",
        "      <td>     0.00</td>\n",
        "      <td>  0</td>\n",
        "      <td> newsletter, prospect</td>\n",
        "      <td> NaN</td>\n",
        "      <td> no</td>\n",
        "    </tr>\n",
        "    <tr>\n",
        "      <th>3066</th>\n",
        "      <td>       Subscriber</td>\n",
        "      <td>         Newsletter</td>\n",
        "      <td>            ns.hamouda@gmail.com</td>\n",
        "      <td>          NaN</td>\n",
        "      <td>                                               NaN</td>\n",
        "      <td>                                      NaN</td>\n",
        "      <td>                                NaN</td>\n",
        "      <td>            NaN</td>\n",
        "      <td> NaN</td>\n",
        "      <td>   NaN</td>\n",
        "      <td> NaN</td>\n",
        "      <td>      NaN</td>\n",
        "      <td>            NaN</td>\n",
        "      <td> yes</td>\n",
        "      <td>     0.00</td>\n",
        "      <td>  0</td>\n",
        "      <td> newsletter, prospect</td>\n",
        "      <td> NaN</td>\n",
        "      <td> no</td>\n",
        "    </tr>\n",
        "    <tr>\n",
        "      <th>3067</th>\n",
        "      <td>           Hesham</td>\n",
        "      <td>          ElBanhawi</td>\n",
        "      <td>             Hania7894@gmail.com</td>\n",
        "      <td>          NaN</td>\n",
        "      <td>                         24, Iskandar Al Akbar St.</td>\n",
        "      <td>                                      NaN</td>\n",
        "      <td>                              Cairo</td>\n",
        "      <td>     Heliopolis</td>\n",
        "      <td> NaN</td>\n",
        "      <td> Egypt</td>\n",
        "      <td>  EG</td>\n",
        "      <td>    11431</td>\n",
        "      <td>            NaN</td>\n",
        "      <td>  no</td>\n",
        "      <td>   486.68</td>\n",
        "      <td>  3</td>\n",
        "      <td>                  NaN</td>\n",
        "      <td> NaN</td>\n",
        "      <td> no</td>\n",
        "    </tr>\n",
        "    <tr>\n",
        "      <th>3068</th>\n",
        "      <td>       Subscriber</td>\n",
        "      <td>         Newsletter</td>\n",
        "      <td>                hds160@gmail.com</td>\n",
        "      <td>          NaN</td>\n",
        "      <td> Flat 44, 4th floor, Building 6036, El Meerag E...</td>\n",
        "      <td>    Turn Right at shell/total gas station</td>\n",
        "      <td>                              Cairo</td>\n",
        "      <td>            NaN</td>\n",
        "      <td> NaN</td>\n",
        "      <td> Egypt</td>\n",
        "      <td>  EG</td>\n",
        "      <td>    00000</td>\n",
        "      <td>    01009889949</td>\n",
        "      <td> yes</td>\n",
        "      <td> 10006.72</td>\n",
        "      <td> 23</td>\n",
        "      <td> newsletter, prospect</td>\n",
        "      <td> NaN</td>\n",
        "      <td> no</td>\n",
        "    </tr>\n",
        "    <tr>\n",
        "      <th>3069</th>\n",
        "      <td>             Iman</td>\n",
        "      <td>          El Gammal</td>\n",
        "      <td>               Mamazzz@gmail.com</td>\n",
        "      <td>          NaN</td>\n",
        "      <td>                         11isaac yacoub, 7th floor</td>\n",
        "      <td>                                       15</td>\n",
        "      <td>                              Cairo</td>\n",
        "      <td>          Cairo</td>\n",
        "      <td>   C</td>\n",
        "      <td> Egypt</td>\n",
        "      <td>  EG</td>\n",
        "      <td>     1156</td>\n",
        "      <td>    01001459115</td>\n",
        "      <td> yes</td>\n",
        "      <td>  3617.06</td>\n",
        "      <td> 21</td>\n",
        "      <td>                  NaN</td>\n",
        "      <td> NaN</td>\n",
        "      <td> no</td>\n",
        "    </tr>\n",
        "    <tr>\n",
        "      <th>3070</th>\n",
        "      <td>            Ahmed</td>\n",
        "      <td>            Ibrahim</td>\n",
        "      <td>               asony11@yahoo.com</td>\n",
        "      <td>          NaN</td>\n",
        "      <td> 20 Mohamed Ali Elbakli from Elhegaz street nea...</td>\n",
        "      <td>                               Heliopolis</td>\n",
        "      <td>                              Cairo</td>\n",
        "      <td>            NaN</td>\n",
        "      <td> NaN</td>\n",
        "      <td> Egypt</td>\n",
        "      <td>  EG</td>\n",
        "      <td>    11361</td>\n",
        "      <td>    01152033889</td>\n",
        "      <td> yes</td>\n",
        "      <td>  7177.52</td>\n",
        "      <td> 21</td>\n",
        "      <td>                  NaN</td>\n",
        "      <td> NaN</td>\n",
        "      <td> no</td>\n",
        "    </tr>\n",
        "    <tr>\n",
        "      <th>3071</th>\n",
        "      <td>          djamila</td>\n",
        "      <td> benderbous Kafoufi</td>\n",
        "      <td>    djamila.benderbous@gmail.com</td>\n",
        "      <td>          NaN</td>\n",
        "      <td>     El Gazira Street, Smart Life Compound,Tagamo3</td>\n",
        "      <td>                  3rd floor, appartment 2</td>\n",
        "      <td> Street 90,Concorde Plaza Food Mall</td>\n",
        "      <td>          Cairo</td>\n",
        "      <td>   C</td>\n",
        "      <td> Egypt</td>\n",
        "      <td>  EG</td>\n",
        "      <td>    12000</td>\n",
        "      <td>    01229918886</td>\n",
        "      <td> yes</td>\n",
        "      <td> 15013.46</td>\n",
        "      <td> 32</td>\n",
        "      <td> newsletter, prospect</td>\n",
        "      <td> NaN</td>\n",
        "      <td> no</td>\n",
        "    </tr>\n",
        "    <tr>\n",
        "      <th>3072</th>\n",
        "      <td>       Subscriber</td>\n",
        "      <td>         Newsletter</td>\n",
        "      <td>         salwa_saiid@hotmail.com</td>\n",
        "      <td>         home</td>\n",
        "      <td> 6 mohy el din abd el zaher,ard el golf ,Heliop...</td>\n",
        "      <td>                    behind almaza central</td>\n",
        "      <td>                              Cairo</td>\n",
        "      <td>     Heliopolis</td>\n",
        "      <td> NaN</td>\n",
        "      <td> Egypt</td>\n",
        "      <td>  EG</td>\n",
        "      <td>      170</td>\n",
        "      <td>    01222105459</td>\n",
        "      <td> yes</td>\n",
        "      <td>  1665.25</td>\n",
        "      <td>  5</td>\n",
        "      <td> newsletter, prospect</td>\n",
        "      <td> NaN</td>\n",
        "      <td> no</td>\n",
        "    </tr>\n",
        "    <tr>\n",
        "      <th>3073</th>\n",
        "      <td>         Mohamed </td>\n",
        "      <td>          El Gammal</td>\n",
        "      <td>        raghebelgammal@yahoo.com</td>\n",
        "      <td>          NaN</td>\n",
        "      <td> 6 Mohamed labib el kerdani st. 1st Floor, Flat 1 </td>\n",
        "      <td>                          Off El Marghani</td>\n",
        "      <td>                              Cairo</td>\n",
        "      <td>            NaN</td>\n",
        "      <td> NaN</td>\n",
        "      <td> Egypt</td>\n",
        "      <td>  EG</td>\n",
        "      <td>    00202</td>\n",
        "      <td>    01001407133</td>\n",
        "      <td> yes</td>\n",
        "      <td>   238.28</td>\n",
        "      <td>  3</td>\n",
        "      <td>                  NaN</td>\n",
        "      <td> NaN</td>\n",
        "      <td> no</td>\n",
        "    </tr>\n",
        "    <tr>\n",
        "      <th>3074</th>\n",
        "      <td>       Subscriber</td>\n",
        "      <td>         Newsletter</td>\n",
        "      <td>            ellyke18@hotmail.com</td>\n",
        "      <td>          NaN</td>\n",
        "      <td>                                               NaN</td>\n",
        "      <td>                                      NaN</td>\n",
        "      <td>                                NaN</td>\n",
        "      <td>            NaN</td>\n",
        "      <td> NaN</td>\n",
        "      <td>   NaN</td>\n",
        "      <td> NaN</td>\n",
        "      <td>      NaN</td>\n",
        "      <td>            NaN</td>\n",
        "      <td> yes</td>\n",
        "      <td>     0.00</td>\n",
        "      <td>  0</td>\n",
        "      <td> newsletter, prospect</td>\n",
        "      <td> NaN</td>\n",
        "      <td> no</td>\n",
        "    </tr>\n",
        "    <tr>\n",
        "      <th>3075</th>\n",
        "      <td>       Subscriber</td>\n",
        "      <td>         Newsletter</td>\n",
        "      <td>            maggy.ezzo@gmail.com</td>\n",
        "      <td>          NaN</td>\n",
        "      <td>                                               NaN</td>\n",
        "      <td>                                      NaN</td>\n",
        "      <td>                                NaN</td>\n",
        "      <td>            NaN</td>\n",
        "      <td> NaN</td>\n",
        "      <td>   NaN</td>\n",
        "      <td> NaN</td>\n",
        "      <td>      NaN</td>\n",
        "      <td>            NaN</td>\n",
        "      <td> yes</td>\n",
        "      <td>     0.00</td>\n",
        "      <td>  0</td>\n",
        "      <td> newsletter, prospect</td>\n",
        "      <td> NaN</td>\n",
        "      <td> no</td>\n",
        "    </tr>\n",
        "    <tr>\n",
        "      <th>3076</th>\n",
        "      <td>            rania</td>\n",
        "      <td>              magdi</td>\n",
        "      <td>           fairymaid82@yahoo.com</td>\n",
        "      <td> Arab Academy</td>\n",
        "      <td>                                         nasr city</td>\n",
        "      <td>                                      NaN</td>\n",
        "      <td>                              Cairo</td>\n",
        "      <td>             11</td>\n",
        "      <td> NaN</td>\n",
        "      <td> Egypt</td>\n",
        "      <td>  EG</td>\n",
        "      <td>   200200</td>\n",
        "      <td>       24551740</td>\n",
        "      <td> yes</td>\n",
        "      <td>   290.48</td>\n",
        "      <td>  1</td>\n",
        "      <td>                  NaN</td>\n",
        "      <td> NaN</td>\n",
        "      <td> no</td>\n",
        "    </tr>\n",
        "    <tr>\n",
        "      <th>3077</th>\n",
        "      <td>             Amal</td>\n",
        "      <td>           elguindy</td>\n",
        "      <td>         milomilogindi@yahoo.com</td>\n",
        "      <td>          NaN</td>\n",
        "      <td>  66 thawra street masr elgedida 3rd floor apt. 17</td>\n",
        "      <td>                                      NaN</td>\n",
        "      <td>                              cairo</td>\n",
        "      <td>          Cairo</td>\n",
        "      <td>   C</td>\n",
        "      <td> Egypt</td>\n",
        "      <td>  EG</td>\n",
        "      <td>    hb123</td>\n",
        "      <td>   01223103921 </td>\n",
        "      <td> yes</td>\n",
        "      <td>  9648.65</td>\n",
        "      <td> 52</td>\n",
        "      <td>                  NaN</td>\n",
        "      <td> NaN</td>\n",
        "      <td> no</td>\n",
        "    </tr>\n",
        "    <tr>\n",
        "      <th>3078</th>\n",
        "      <td>       Subscriber</td>\n",
        "      <td>         Newsletter</td>\n",
        "      <td>                biro5s@yahoo.com</td>\n",
        "      <td>          NaN</td>\n",
        "      <td>                       Sokaria billing el Kawasaki</td>\n",
        "      <td>                                      NaN</td>\n",
        "      <td>                           Hurghada</td>\n",
        "      <td>            NaN</td>\n",
        "      <td> NaN</td>\n",
        "      <td> Egypt</td>\n",
        "      <td>  EG</td>\n",
        "      <td>      065</td>\n",
        "      <td>    01141117775</td>\n",
        "      <td> yes</td>\n",
        "      <td>    57.02</td>\n",
        "      <td>  1</td>\n",
        "      <td> newsletter, prospect</td>\n",
        "      <td> NaN</td>\n",
        "      <td> no</td>\n",
        "    </tr>\n",
        "    <tr>\n",
        "      <th>3079</th>\n",
        "      <td>          Pauchez</td>\n",
        "      <td>           Virginie</td>\n",
        "      <td>            nini.etoile@voila.fr</td>\n",
        "      <td>          NaN</td>\n",
        "      <td>                     Sawaky Camp-Cornish str-Dahar</td>\n",
        "      <td>           Geisum Hotel-Cornish str-Dahar</td>\n",
        "      <td>                           Hurghada</td>\n",
        "      <td>            NaN</td>\n",
        "      <td> NaN</td>\n",
        "      <td> Egypt</td>\n",
        "      <td>  EG</td>\n",
        "      <td>    84511</td>\n",
        "      <td>    01221383917</td>\n",
        "      <td> yes</td>\n",
        "      <td>    77.77</td>\n",
        "      <td>  1</td>\n",
        "      <td>                  NaN</td>\n",
        "      <td> NaN</td>\n",
        "      <td> no</td>\n",
        "    </tr>\n",
        "    <tr>\n",
        "      <th>3080</th>\n",
        "      <td>       Subscriber</td>\n",
        "      <td>         Newsletter</td>\n",
        "      <td>         mahmoud.moheb@gmail.com</td>\n",
        "      <td>          NaN</td>\n",
        "      <td>                                               NaN</td>\n",
        "      <td>                                      NaN</td>\n",
        "      <td>                                NaN</td>\n",
        "      <td>            NaN</td>\n",
        "      <td> NaN</td>\n",
        "      <td>   NaN</td>\n",
        "      <td> NaN</td>\n",
        "      <td>      NaN</td>\n",
        "      <td>            NaN</td>\n",
        "      <td> yes</td>\n",
        "      <td>     0.00</td>\n",
        "      <td>  0</td>\n",
        "      <td> newsletter, prospect</td>\n",
        "      <td> NaN</td>\n",
        "      <td> no</td>\n",
        "    </tr>\n",
        "    <tr>\n",
        "      <th>3081</th>\n",
        "      <td>            Betty</td>\n",
        "      <td>            Hedrich</td>\n",
        "      <td>             bettyhedrich@gmx.de</td>\n",
        "      <td>          NaN</td>\n",
        "      <td>                      Touristic Center, Villa 1133</td>\n",
        "      <td>                                      NaN</td>\n",
        "      <td>                           Hurghada</td>\n",
        "      <td>            NaN</td>\n",
        "      <td> NaN</td>\n",
        "      <td> Egypt</td>\n",
        "      <td>  EG</td>\n",
        "      <td>     0000</td>\n",
        "      <td> 00201001098312</td>\n",
        "      <td> yes</td>\n",
        "      <td>   137.33</td>\n",
        "      <td>  2</td>\n",
        "      <td>                  NaN</td>\n",
        "      <td> NaN</td>\n",
        "      <td> no</td>\n",
        "    </tr>\n",
        "    <tr>\n",
        "      <th>3082</th>\n",
        "      <td>       Subscriber</td>\n",
        "      <td>         Newsletter</td>\n",
        "      <td>          yusif@joe-networks.com</td>\n",
        "      <td>          NaN</td>\n",
        "      <td>                                               NaN</td>\n",
        "      <td>                                      NaN</td>\n",
        "      <td>                                NaN</td>\n",
        "      <td>            NaN</td>\n",
        "      <td> NaN</td>\n",
        "      <td>   NaN</td>\n",
        "      <td> NaN</td>\n",
        "      <td>      NaN</td>\n",
        "      <td>            NaN</td>\n",
        "      <td> yes</td>\n",
        "      <td>     0.00</td>\n",
        "      <td>  0</td>\n",
        "      <td> newsletter, prospect</td>\n",
        "      <td> NaN</td>\n",
        "      <td> no</td>\n",
        "    </tr>\n",
        "    <tr>\n",
        "      <th>3083</th>\n",
        "      <td>       Subscriber</td>\n",
        "      <td>         Newsletter</td>\n",
        "      <td> mohamed.el-hossary@diversey.com</td>\n",
        "      <td>          NaN</td>\n",
        "      <td>                                               NaN</td>\n",
        "      <td>                                      NaN</td>\n",
        "      <td>                                NaN</td>\n",
        "      <td>            NaN</td>\n",
        "      <td> NaN</td>\n",
        "      <td>   NaN</td>\n",
        "      <td> NaN</td>\n",
        "      <td>      NaN</td>\n",
        "      <td>            NaN</td>\n",
        "      <td> yes</td>\n",
        "      <td>     0.00</td>\n",
        "      <td>  0</td>\n",
        "      <td> newsletter, prospect</td>\n",
        "      <td> NaN</td>\n",
        "      <td> no</td>\n",
        "    </tr>\n",
        "    <tr>\n",
        "      <th>3084</th>\n",
        "      <td>             Rola</td>\n",
        "      <td>               Amin</td>\n",
        "      <td>                   rulah@msn.com</td>\n",
        "      <td>          NaN</td>\n",
        "      <td>                           Elgouna new marina mb19</td>\n",
        "      <td>                                      NaN</td>\n",
        "      <td>                            Elgouna</td>\n",
        "      <td>        Red Sea</td>\n",
        "      <td>  BA</td>\n",
        "      <td> Egypt</td>\n",
        "      <td>  EG</td>\n",
        "      <td>    11183</td>\n",
        "      <td>    01007776172</td>\n",
        "      <td> yes</td>\n",
        "      <td>  3589.95</td>\n",
        "      <td>  6</td>\n",
        "      <td>                  NaN</td>\n",
        "      <td> NaN</td>\n",
        "      <td> no</td>\n",
        "    </tr>\n",
        "    <tr>\n",
        "      <th>3085</th>\n",
        "      <td> Mr.Akram Mohamed</td>\n",
        "      <td>         Abu Ashara</td>\n",
        "      <td>             milda_b@hotmail.com</td>\n",
        "      <td>          NaN</td>\n",
        "      <td>                                The View compound,</td>\n",
        "      <td>                                 Flat 318</td>\n",
        "      <td>                           Hurghada</td>\n",
        "      <td>        Red Sea</td>\n",
        "      <td>  BA</td>\n",
        "      <td> Egypt</td>\n",
        "      <td>  EG</td>\n",
        "      <td>     3137</td>\n",
        "      <td>    01001514400</td>\n",
        "      <td> yes</td>\n",
        "      <td>   160.55</td>\n",
        "      <td>  2</td>\n",
        "      <td>                  NaN</td>\n",
        "      <td> NaN</td>\n",
        "      <td> no</td>\n",
        "    </tr>\n",
        "    <tr>\n",
        "      <th>3086</th>\n",
        "      <td>              Sam</td>\n",
        "      <td>            Worrior</td>\n",
        "      <td>         sam.warrior@yahoo.co.uk</td>\n",
        "      <td>          NaN</td>\n",
        "      <td>                                               NaN</td>\n",
        "      <td>                                      NaN</td>\n",
        "      <td>                                NaN</td>\n",
        "      <td>            NaN</td>\n",
        "      <td> NaN</td>\n",
        "      <td>   NaN</td>\n",
        "      <td> NaN</td>\n",
        "      <td>      NaN</td>\n",
        "      <td>            NaN</td>\n",
        "      <td> yes</td>\n",
        "      <td>     0.00</td>\n",
        "      <td>  0</td>\n",
        "      <td> newsletter, prospect</td>\n",
        "      <td> NaN</td>\n",
        "      <td> no</td>\n",
        "    </tr>\n",
        "    <tr>\n",
        "      <th>3087</th>\n",
        "      <td>             lika</td>\n",
        "      <td>      novoshinskaya</td>\n",
        "      <td>          lik-novikova@yandex.ru</td>\n",
        "      <td>     star gym</td>\n",
        "      <td>                           el kawther,desert pearl</td>\n",
        "      <td>                  ek kawther,desert pearl</td>\n",
        "      <td>                           hurghada</td>\n",
        "      <td>            NaN</td>\n",
        "      <td> NaN</td>\n",
        "      <td> Egypt</td>\n",
        "      <td>  EG</td>\n",
        "      <td> italy113</td>\n",
        "      <td>    01069553011</td>\n",
        "      <td> yes</td>\n",
        "      <td>   507.15</td>\n",
        "      <td>  5</td>\n",
        "      <td>                  NaN</td>\n",
        "      <td> NaN</td>\n",
        "      <td> no</td>\n",
        "    </tr>\n",
        "    <tr>\n",
        "      <th>3088</th>\n",
        "      <td>           Monika</td>\n",
        "      <td>           Angelika</td>\n",
        "      <td>       angelika.monika@yahoo.com</td>\n",
        "      <td>          NaN</td>\n",
        "      <td>                                               NaN</td>\n",
        "      <td>                                      NaN</td>\n",
        "      <td>                                NaN</td>\n",
        "      <td>            NaN</td>\n",
        "      <td> NaN</td>\n",
        "      <td>   NaN</td>\n",
        "      <td> NaN</td>\n",
        "      <td>      NaN</td>\n",
        "      <td>            NaN</td>\n",
        "      <td>  no</td>\n",
        "      <td>     0.00</td>\n",
        "      <td>  0</td>\n",
        "      <td> newsletter, prospect</td>\n",
        "      <td> NaN</td>\n",
        "      <td> no</td>\n",
        "    </tr>\n",
        "    <tr>\n",
        "      <th>3089</th>\n",
        "      <td>            bente</td>\n",
        "      <td>            ringnes</td>\n",
        "      <td>             bente.ring@yahoo.no</td>\n",
        "      <td>          NaN</td>\n",
        "      <td>                      El Kiadat, El Dahar,Red Sea </td>\n",
        "      <td>                                      NaN</td>\n",
        "      <td>                           Hurghada</td>\n",
        "      <td>            NaN</td>\n",
        "      <td> NaN</td>\n",
        "      <td> Egypt</td>\n",
        "      <td>  EG</td>\n",
        "      <td>     0020</td>\n",
        "      <td>    01141437074</td>\n",
        "      <td> yes</td>\n",
        "      <td>  6441.50</td>\n",
        "      <td> 11</td>\n",
        "      <td> newsletter, prospect</td>\n",
        "      <td> NaN</td>\n",
        "      <td> no</td>\n",
        "    </tr>\n",
        "    <tr>\n",
        "      <th>3090</th>\n",
        "      <td>            Cathy</td>\n",
        "      <td>                Pod</td>\n",
        "      <td>            cathypod@hotmail.com</td>\n",
        "      <td>          NaN</td>\n",
        "      <td>                                         el kyadat</td>\n",
        "      <td>               behind cowboy, corniche st</td>\n",
        "      <td>                           hurghada</td>\n",
        "      <td>            NaN</td>\n",
        "      <td> NaN</td>\n",
        "      <td> Egypt</td>\n",
        "      <td>  EG</td>\n",
        "      <td>    84511</td>\n",
        "      <td>    01224061449</td>\n",
        "      <td>  no</td>\n",
        "      <td>    59.60</td>\n",
        "      <td>  1</td>\n",
        "      <td> newsletter, prospect</td>\n",
        "      <td> NaN</td>\n",
        "      <td> no</td>\n",
        "    </tr>\n",
        "    <tr>\n",
        "      <th>3091</th>\n",
        "      <td>           Sabine</td>\n",
        "      <td>              Braun</td>\n",
        "      <td>          sabine.braun@gpnet.biz</td>\n",
        "      <td>        GPnet</td>\n",
        "      <td>                                              Home</td>\n",
        "      <td>                                      NaN</td>\n",
        "      <td>                           Hurghada</td>\n",
        "      <td>        Red Sea</td>\n",
        "      <td>  BA</td>\n",
        "      <td> Egypt</td>\n",
        "      <td>  EG</td>\n",
        "      <td>    84151</td>\n",
        "      <td>        0123456</td>\n",
        "      <td> yes</td>\n",
        "      <td>     0.00</td>\n",
        "      <td>  0</td>\n",
        "      <td>                  NaN</td>\n",
        "      <td> NaN</td>\n",
        "      <td> no</td>\n",
        "    </tr>\n",
        "    <tr>\n",
        "      <th>3092</th>\n",
        "      <td>            Ramzy</td>\n",
        "      <td>                 ..</td>\n",
        "      <td>           hashim.alaa@gmail.com</td>\n",
        "      <td>          NaN</td>\n",
        "      <td>               124 El nile st., corniche el dokki </td>\n",
        "      <td>                                      NaN</td>\n",
        "      <td>                              dokki</td>\n",
        "      <td>          Cairo</td>\n",
        "      <td>   C</td>\n",
        "      <td> Egypt</td>\n",
        "      <td>  EG</td>\n",
        "      <td>   Am1234</td>\n",
        "      <td>    01020888046</td>\n",
        "      <td> yes</td>\n",
        "      <td> 15007.46</td>\n",
        "      <td> 37</td>\n",
        "      <td> newsletter, prospect</td>\n",
        "      <td> NaN</td>\n",
        "      <td> no</td>\n",
        "    </tr>\n",
        "  </tbody>\n",
        "</table>\n",
        "<p>3093 rows \u00d7 19 columns</p>\n",
        "</div>"
       ],
       "metadata": {},
       "output_type": "pyout",
       "prompt_number": 18,
       "text": [
        "            First Name           Last Name                            Email  \\\n",
        "0               Rehab              Mansour           rehabmansour@gmail.com   \n",
        "1                RAfik              BEbawi                 rhbebawi@live.ca   \n",
        "2            Francesca             Cicardi           fracicardi@hotmail.com   \n",
        "3                Ahmed           Aboulella           ahmed.fakhry@gmail.com   \n",
        "4               Laila                akram             Missilou11@yahoo.com   \n",
        "5               Sally                Salem          sallysalem123@gmail.com   \n",
        "6               Gaylyn             Mbogho            gaylynmbogho@yahoo.com   \n",
        "7                 Daii                 Ali             Daiieldeeb@gmail.com   \n",
        "8                 Yara                 Ali              yara.azam@gmail.com   \n",
        "9              Mohamed             Mokhtar               m.mkhtr@icloud.com   \n",
        "10               FIona               Brown            fmnkbrown@hotmail.com   \n",
        "11                Hind              Haggag            hind.haggag@gmail.com   \n",
        "12               Hazem            El Shamy            hazem.shamy@gmail.com   \n",
        "13               Tamer          Elmenshawy           cyperx2000@hotmail.com   \n",
        "14               James                Belk        jamesmorgan0091@gmail.com   \n",
        "15                Maro               Maher           RODY.DOVE123@GMAIL.COM   \n",
        "16                Heba               Belal              hibba_b@hotmail.com   \n",
        "17             Pascale               Nader           pascalenader@gmail.com   \n",
        "18                Hoda               Salah           hodasalah@aucegypt.edu   \n",
        "19              Hassan             Elshamy           hasanelshamy@gmail.com   \n",
        "20               Rania              Hassan                r_h_ali@yahoo.com   \n",
        "21              Mervat             Elgamal                 fabbff@gmail.com   \n",
        "22                Muaz               Munir              muazmunir@gmail.com   \n",
        "23                Amal            Akhnoukh           amalakhnoukh@gmail.com   \n",
        "24               Sonja                Lang          sonja.langweb@gmail.com   \n",
        "25               MANAR             ELKHOLY           manarelkholy@gmail.com   \n",
        "26               Assem           Elsalmoum            asooome1415@gmail.com   \n",
        "27               Louna            Geoffroy          louna_paris@hotmail.com   \n",
        "28             Mohamed           Ezz Eldin           medo_www98@hotmail.com   \n",
        "29               Sahar       Mohamed Galal          oottahsahar@hotmail.com   \n",
        "...                ...                 ...                              ...   \n",
        "3063             Adham              Hamada             Adhamada@hotmail.com   \n",
        "3064           Houssam              Elokda         houssam.elokda@gmail.com   \n",
        "3065        Subscriber          Newsletter           pensee.afifi@gmail.com   \n",
        "3066        Subscriber          Newsletter             ns.hamouda@gmail.com   \n",
        "3067            Hesham           ElBanhawi              Hania7894@gmail.com   \n",
        "3068        Subscriber          Newsletter                 hds160@gmail.com   \n",
        "3069              Iman           El Gammal                Mamazzz@gmail.com   \n",
        "3070             Ahmed             Ibrahim                asony11@yahoo.com   \n",
        "3071           djamila  benderbous Kafoufi     djamila.benderbous@gmail.com   \n",
        "3072        Subscriber          Newsletter          salwa_saiid@hotmail.com   \n",
        "3073          Mohamed            El Gammal         raghebelgammal@yahoo.com   \n",
        "3074        Subscriber          Newsletter             ellyke18@hotmail.com   \n",
        "3075        Subscriber          Newsletter             maggy.ezzo@gmail.com   \n",
        "3076             rania               magdi            fairymaid82@yahoo.com   \n",
        "3077              Amal            elguindy          milomilogindi@yahoo.com   \n",
        "3078        Subscriber          Newsletter                 biro5s@yahoo.com   \n",
        "3079           Pauchez            Virginie             nini.etoile@voila.fr   \n",
        "3080        Subscriber          Newsletter          mahmoud.moheb@gmail.com   \n",
        "3081             Betty             Hedrich              bettyhedrich@gmx.de   \n",
        "3082        Subscriber          Newsletter           yusif@joe-networks.com   \n",
        "3083        Subscriber          Newsletter  mohamed.el-hossary@diversey.com   \n",
        "3084              Rola                Amin                    rulah@msn.com   \n",
        "3085  Mr.Akram Mohamed          Abu Ashara              milda_b@hotmail.com   \n",
        "3086               Sam             Worrior          sam.warrior@yahoo.co.uk   \n",
        "3087              lika       novoshinskaya           lik-novikova@yandex.ru   \n",
        "3088            Monika            Angelika        angelika.monika@yahoo.com   \n",
        "3089             bente             ringnes              bente.ring@yahoo.no   \n",
        "3090             Cathy                 Pod             cathypod@hotmail.com   \n",
        "3091            Sabine               Braun           sabine.braun@gpnet.biz   \n",
        "3092             Ramzy                  ..            hashim.alaa@gmail.com   \n",
        "\n",
        "           Company                                           Address1  \\\n",
        "0              NaN  8 Al Shahid Ahmed Zaki St. Behind El Obour Bld...   \n",
        "1              NaN                                                NaN   \n",
        "2              NaN                                 5, Fouad al Ahwany   \n",
        "3            Mipex                 10 Tahreer St, Sheraton Heliopolis   \n",
        "4              NaN  Maadi*Road14*Villa60*Behind Qesm Elmaady*Maadi...   \n",
        "5              NaN  \u0627\u0644\u0642\u0627\u0647\u0631\u0629 \u0627\u0644\u062c\u062f\u064a\u062f\u0629 \u0627\u0644\u062a\u062c\u0645\u0639 \u0627\u0644\u0627\u0648\u0644 5 \u0634\u0627\u0631\u0639 \u0627\u0644\u0632\u0631\u0642\u0627\u0646\u0649*\u0627...   \n",
        "6              NaN                                       Rd232 Build9   \n",
        "7              NaN  Plot 9519, Adly El Meligy St. Off Rd. 9, Mokat...   \n",
        "8              NaN                                7 Youssef Abbas St.   \n",
        "9              NaN                          34, Higaz st mohandiseen    \n",
        "10             NaN                                                NaN   \n",
        "11          Doctor                 9 Africa-emtedad Mostafa Al Nahhas   \n",
        "12             NaN  6th of october, sheikh zayed city, zayed 2000 ...   \n",
        "13             NaN                                    27 El Cablat ST   \n",
        "14             NaN                                       1904 ANN AVE   \n",
        "15             NaN  15 Ismail Mohamed st. Borg Jedda- opposite Kol...   \n",
        "16             NaN  \u0645\u064a\u062f\u0627\u0646 \u0627\u0644\u062c\u0645\u0647\u0648\u0631\u064a\u0629 \u0645\u062a\u0641\u0631\u0639 \u0645\u0646 \u0627\u0644\u0628\u0637\u0644 \u0627\u062d\u0645\u062f \u0639\u0628\u062f \u0627\u0644\u0639\u0632\u064a\u0632...   \n",
        "17             NaN                    6, Hassan sabry street, zamalek   \n",
        "18             NaN                                                NaN   \n",
        "19             NaN                                                NaN   \n",
        "20             NaN  6 abd elrahman ebn elhakam from hassan aflaton...   \n",
        "21             NaN                                       24 Yasmeen 2   \n",
        "22             NaN  \u0627\u0634\u0627\u0631\u0639 \u0627\u0644\u0645\u062d\u0637\u0629 \u0639\u0645\u0627\u0631\u0627\u062a \u0627\u0644\u0627\u0648\u0642\u0627\u0641 \u0639\u0645\u0627\u0631\u0629 8 \u0634\u0642\u06299  \u0627\u0644\u062f\u0648...   \n",
        "23             NaN                             villa 29 Arabella Park   \n",
        "24             NaN         El-Katameya Residence, Besides JW Marriott   \n",
        "25             NaN  Al Ashgar compound, El Wahat Road, opposite dr...   \n",
        "26             NaN    meeting point near cairo tower/gezira / Zamalek   \n",
        "27             NaN                   #1 shara 152 (at corner of sh 7)   \n",
        "28             NaN                       Mohamed Mahmoud basha street   \n",
        "29             NaN  2  elshaheed fayez zakaria street / masaken sh...   \n",
        "...            ...                                                ...   \n",
        "3063           NaN                 5 eskandar el Akbar st. Heliopolis   \n",
        "3064           NaN                96 Safari, Golf City, El-Obour City   \n",
        "3065           NaN                                                NaN   \n",
        "3066           NaN                                                NaN   \n",
        "3067           NaN                          24, Iskandar Al Akbar St.   \n",
        "3068           NaN  Flat 44, 4th floor, Building 6036, El Meerag E...   \n",
        "3069           NaN                          11isaac yacoub, 7th floor   \n",
        "3070           NaN  20 Mohamed Ali Elbakli from Elhegaz street nea...   \n",
        "3071           NaN      El Gazira Street, Smart Life Compound,Tagamo3   \n",
        "3072          home  6 mohy el din abd el zaher,ard el golf ,Heliop...   \n",
        "3073           NaN  6 Mohamed labib el kerdani st. 1st Floor, Flat 1    \n",
        "3074           NaN                                                NaN   \n",
        "3075           NaN                                                NaN   \n",
        "3076  Arab Academy                                          nasr city   \n",
        "3077           NaN   66 thawra street masr elgedida 3rd floor apt. 17   \n",
        "3078           NaN                        Sokaria billing el Kawasaki   \n",
        "3079           NaN                      Sawaky Camp-Cornish str-Dahar   \n",
        "3080           NaN                                                NaN   \n",
        "3081           NaN                       Touristic Center, Villa 1133   \n",
        "3082           NaN                                                NaN   \n",
        "3083           NaN                                                NaN   \n",
        "3084           NaN                            Elgouna new marina mb19   \n",
        "3085           NaN                                 The View compound,   \n",
        "3086           NaN                                                NaN   \n",
        "3087      star gym                            el kawther,desert pearl   \n",
        "3088           NaN                                                NaN   \n",
        "3089           NaN                       El Kiadat, El Dahar,Red Sea    \n",
        "3090           NaN                                          el kyadat   \n",
        "3091         GPnet                                               Home   \n",
        "3092           NaN                124 El nile st., corniche el dokki    \n",
        "\n",
        "                                      Address2  \\\n",
        "0                           Floor 9 - Appt. 91   \n",
        "1                                          NaN   \n",
        "2                            1st floor, apt. 3   \n",
        "3                                            8   \n",
        "4                                          NaN   \n",
        "5                                          NaN   \n",
        "6                                        Apt11   \n",
        "7                                          NaN   \n",
        "8                                    Nasr City   \n",
        "9     Building in front of Seoudi supermarket    \n",
        "10                                         NaN   \n",
        "11                            Floor 8 aprt.801   \n",
        "12                                       Apt 7   \n",
        "13                                         NaN   \n",
        "14                                         NaN   \n",
        "15                                    Hers Gym   \n",
        "16                                    \u0639\u0645\u0627\u0631\u0629 3    \n",
        "17                            12 floor, apt 67   \n",
        "18                                         NaN   \n",
        "19                                         NaN   \n",
        "20                                         NaN   \n",
        "21                                         NaN   \n",
        "22                                         NaN   \n",
        "23                                         NaN   \n",
        "24                                   Villa #G3   \n",
        "25                                    villa 11   \n",
        "26                                         NaN   \n",
        "27                                #18, floor 5   \n",
        "28                                         NaN   \n",
        "29                         2nd floor / app 203   \n",
        "...                                        ...   \n",
        "3063                               First floor   \n",
        "3064                                       NaN   \n",
        "3065                                       NaN   \n",
        "3066                                       NaN   \n",
        "3067                                       NaN   \n",
        "3068     Turn Right at shell/total gas station   \n",
        "3069                                        15   \n",
        "3070                                Heliopolis   \n",
        "3071                   3rd floor, appartment 2   \n",
        "3072                     behind almaza central   \n",
        "3073                           Off El Marghani   \n",
        "3074                                       NaN   \n",
        "3075                                       NaN   \n",
        "3076                                       NaN   \n",
        "3077                                       NaN   \n",
        "3078                                       NaN   \n",
        "3079            Geisum Hotel-Cornish str-Dahar   \n",
        "3080                                       NaN   \n",
        "3081                                       NaN   \n",
        "3082                                       NaN   \n",
        "3083                                       NaN   \n",
        "3084                                       NaN   \n",
        "3085                                  Flat 318   \n",
        "3086                                       NaN   \n",
        "3087                   ek kawther,desert pearl   \n",
        "3088                                       NaN   \n",
        "3089                                       NaN   \n",
        "3090                behind cowboy, corniche st   \n",
        "3091                                       NaN   \n",
        "3092                                       NaN   \n",
        "\n",
        "                                    City        Province Province Code  \\\n",
        "0                                  Cairo           Cairo             C   \n",
        "1                                    NaN             NaN           NaN   \n",
        "2                                Zamalek           Cairo             C   \n",
        "3                                  Cairo           Cairo             C   \n",
        "4                                  Cairo           Cairo             C   \n",
        "5                                  Cairo           Cairo             C   \n",
        "6                                  Cairo           Cairo             C   \n",
        "7                                  Cairo           Cairo             C   \n",
        "8                                  Cairo           Cairo             C   \n",
        "9                                   Giza            Giza            GZ   \n",
        "10                                   NaN             NaN           NaN   \n",
        "11                                 Cairo           Cairo             C   \n",
        "12                                 Cairo  6th of October            SU   \n",
        "13                             Wady Hoof           Cairo             C   \n",
        "14                         HARRISONVILLE           Cairo             C   \n",
        "15                                 Cairo           Cairo             C   \n",
        "16                                 Cairo           Cairo             C   \n",
        "17                                 Cairo           Cairo             C   \n",
        "18                                   NaN             NaN           NaN   \n",
        "19                                   NaN             NaN           NaN   \n",
        "20                                 cairo           Cairo             C   \n",
        "21                          Tagamo3 awal           Cairo             C   \n",
        "22                                 Cairo           Cairo             C   \n",
        "23                             New Cairo           Cairo             C   \n",
        "24                             New Cairo           Cairo             C   \n",
        "25                            6 October   6th of October            SU   \n",
        "26                                 cairo           Cairo             C   \n",
        "27                                 Maadi           Cairo             C   \n",
        "28                                  tala         Monufia           MNF   \n",
        "29                                 cairo           Cairo             C   \n",
        "...                                  ...             ...           ...   \n",
        "3063                               Cairo             NaN           NaN   \n",
        "3064                               Cairo           Cairo             C   \n",
        "3065                                 NaN             NaN           NaN   \n",
        "3066                                 NaN             NaN           NaN   \n",
        "3067                               Cairo      Heliopolis           NaN   \n",
        "3068                               Cairo             NaN           NaN   \n",
        "3069                               Cairo           Cairo             C   \n",
        "3070                               Cairo             NaN           NaN   \n",
        "3071  Street 90,Concorde Plaza Food Mall           Cairo             C   \n",
        "3072                               Cairo      Heliopolis           NaN   \n",
        "3073                               Cairo             NaN           NaN   \n",
        "3074                                 NaN             NaN           NaN   \n",
        "3075                                 NaN             NaN           NaN   \n",
        "3076                               Cairo              11           NaN   \n",
        "3077                               cairo           Cairo             C   \n",
        "3078                            Hurghada             NaN           NaN   \n",
        "3079                            Hurghada             NaN           NaN   \n",
        "3080                                 NaN             NaN           NaN   \n",
        "3081                            Hurghada             NaN           NaN   \n",
        "3082                                 NaN             NaN           NaN   \n",
        "3083                                 NaN             NaN           NaN   \n",
        "3084                             Elgouna         Red Sea            BA   \n",
        "3085                            Hurghada         Red Sea            BA   \n",
        "3086                                 NaN             NaN           NaN   \n",
        "3087                            hurghada             NaN           NaN   \n",
        "3088                                 NaN             NaN           NaN   \n",
        "3089                            Hurghada             NaN           NaN   \n",
        "3090                            hurghada             NaN           NaN   \n",
        "3091                            Hurghada         Red Sea            BA   \n",
        "3092                               dokki           Cairo             C   \n",
        "\n",
        "     Country Country Code       Zip           Phone Accepts Marketing  \\\n",
        "0      Egypt           EG     11513     01001607028                no   \n",
        "1        NaN          NaN       NaN             NaN                no   \n",
        "2      Egypt           EG     11211     01203038029                no   \n",
        "3      Egypt           EG     11361   +201009936633                no   \n",
        "4      Egypt           EG     Mm123     01008108200                no   \n",
        "5      Egypt           EG     Mm123     01222484466                no   \n",
        "6      Egypt           EG     00100     01006921218                no   \n",
        "7      Egypt           EG     11571     01111397206                no   \n",
        "8      Egypt           EG     11371     01227357774                no   \n",
        "9      Egypt           EG     11211     01220802255                no   \n",
        "10       NaN          NaN       NaN             NaN                no   \n",
        "11     Egypt           EG      1234      0106680683                no   \n",
        "12     Egypt           EG        00     01140222020                no   \n",
        "13     Egypt           EG     11433     01005732432                no   \n",
        "14     Egypt           EG     64701      8168358620                no   \n",
        "15     Egypt           EG    Am1234     01016131364                no   \n",
        "16     Egypt           EG     hk123     01000323444                no   \n",
        "17     Egypt           EG     11211     01201019007                no   \n",
        "18       NaN          NaN       NaN             NaN                no   \n",
        "19       NaN          NaN       NaN             NaN                no   \n",
        "20     Egypt           EG     11311     01222127426                no   \n",
        "21     Egypt           EG      1111   0201005540036                no   \n",
        "22     Egypt           EG     hk123     01001184082                no   \n",
        "23     Egypt           EG     11835   +201223980020                no   \n",
        "24     Egypt           EG     11936   0100 942 1880                no   \n",
        "25     Egypt           EG     12587   +201001406762                no   \n",
        "26     Egypt           EG     hb123     01020357103                no   \n",
        "27     Egypt           EG   11511??     01277714347                no   \n",
        "28     Egypt           EG     32611     01126711532                no   \n",
        "29     Egypt           EG     hb123     01005121848                no   \n",
        "...      ...          ...       ...             ...               ...   \n",
        "3063   Egypt           EG     00000     01223221581               yes   \n",
        "3064   Egypt           EG       NaN     01095830000               yes   \n",
        "3065     NaN          NaN       NaN             NaN               yes   \n",
        "3066     NaN          NaN       NaN             NaN               yes   \n",
        "3067   Egypt           EG     11431             NaN                no   \n",
        "3068   Egypt           EG     00000     01009889949               yes   \n",
        "3069   Egypt           EG      1156     01001459115               yes   \n",
        "3070   Egypt           EG     11361     01152033889               yes   \n",
        "3071   Egypt           EG     12000     01229918886               yes   \n",
        "3072   Egypt           EG       170     01222105459               yes   \n",
        "3073   Egypt           EG     00202     01001407133               yes   \n",
        "3074     NaN          NaN       NaN             NaN               yes   \n",
        "3075     NaN          NaN       NaN             NaN               yes   \n",
        "3076   Egypt           EG    200200        24551740               yes   \n",
        "3077   Egypt           EG     hb123    01223103921                yes   \n",
        "3078   Egypt           EG       065     01141117775               yes   \n",
        "3079   Egypt           EG     84511     01221383917               yes   \n",
        "3080     NaN          NaN       NaN             NaN               yes   \n",
        "3081   Egypt           EG      0000  00201001098312               yes   \n",
        "3082     NaN          NaN       NaN             NaN               yes   \n",
        "3083     NaN          NaN       NaN             NaN               yes   \n",
        "3084   Egypt           EG     11183     01007776172               yes   \n",
        "3085   Egypt           EG      3137     01001514400               yes   \n",
        "3086     NaN          NaN       NaN             NaN               yes   \n",
        "3087   Egypt           EG  italy113     01069553011               yes   \n",
        "3088     NaN          NaN       NaN             NaN                no   \n",
        "3089   Egypt           EG      0020     01141437074               yes   \n",
        "3090   Egypt           EG     84511     01224061449                no   \n",
        "3091   Egypt           EG     84151         0123456               yes   \n",
        "3092   Egypt           EG    Am1234     01020888046               yes   \n",
        "\n",
        "      Total Spent  Total Orders                  Tags Note Tax Exempt  \n",
        "0            0.00             1                   NaN  NaN         no  \n",
        "1            0.00             0                   NaN  NaN         no  \n",
        "2            0.00             1                   NaN  NaN         no  \n",
        "3            0.00             2                   NaN  NaN         no  \n",
        "4            0.00             1                   NaN  NaN         no  \n",
        "5            0.00             1                   NaN  NaN         no  \n",
        "6            0.00             1                   NaN  NaN         no  \n",
        "7            0.00             1                   NaN  NaN         no  \n",
        "8            0.00             1                   NaN  NaN         no  \n",
        "9            0.00             0                   NaN  NaN         no  \n",
        "10           0.00             0                   NaN  NaN         no  \n",
        "11           0.00             0                   NaN  NaN         no  \n",
        "12           0.00             1                   NaN  NaN         no  \n",
        "13           0.00             0                   NaN  NaN         no  \n",
        "14           0.00             1                   NaN  NaN         no  \n",
        "15           0.00             2                   NaN  NaN         no  \n",
        "16           0.00             1                   NaN  NaN         no  \n",
        "17           0.00             1                   NaN  NaN         no  \n",
        "18           0.00             0                   NaN  NaN         no  \n",
        "19           0.00             0                   NaN  NaN         no  \n",
        "20           0.00             1                   NaN  NaN         no  \n",
        "21           0.00             1                   NaN  NaN         no  \n",
        "22           0.00             1                   NaN  NaN         no  \n",
        "23           0.00             1                   NaN  NaN         no  \n",
        "24           0.00             1                   NaN  NaN         no  \n",
        "25           0.00             1                   NaN  NaN         no  \n",
        "26           0.00             1                   NaN  NaN         no  \n",
        "27           0.00             1                   NaN  NaN         no  \n",
        "28           0.00             0                   NaN  NaN         no  \n",
        "29           0.00             1                   NaN  NaN         no  \n",
        "...           ...           ...                   ...  ...        ...  \n",
        "3063        71.20             1                   NaN  NaN         no  \n",
        "3064       448.50             1                   NaN  NaN         no  \n",
        "3065         0.00             0  newsletter, prospect  NaN         no  \n",
        "3066         0.00             0  newsletter, prospect  NaN         no  \n",
        "3067       486.68             3                   NaN  NaN         no  \n",
        "3068     10006.72            23  newsletter, prospect  NaN         no  \n",
        "3069      3617.06            21                   NaN  NaN         no  \n",
        "3070      7177.52            21                   NaN  NaN         no  \n",
        "3071     15013.46            32  newsletter, prospect  NaN         no  \n",
        "3072      1665.25             5  newsletter, prospect  NaN         no  \n",
        "3073       238.28             3                   NaN  NaN         no  \n",
        "3074         0.00             0  newsletter, prospect  NaN         no  \n",
        "3075         0.00             0  newsletter, prospect  NaN         no  \n",
        "3076       290.48             1                   NaN  NaN         no  \n",
        "3077      9648.65            52                   NaN  NaN         no  \n",
        "3078        57.02             1  newsletter, prospect  NaN         no  \n",
        "3079        77.77             1                   NaN  NaN         no  \n",
        "3080         0.00             0  newsletter, prospect  NaN         no  \n",
        "3081       137.33             2                   NaN  NaN         no  \n",
        "3082         0.00             0  newsletter, prospect  NaN         no  \n",
        "3083         0.00             0  newsletter, prospect  NaN         no  \n",
        "3084      3589.95             6                   NaN  NaN         no  \n",
        "3085       160.55             2                   NaN  NaN         no  \n",
        "3086         0.00             0  newsletter, prospect  NaN         no  \n",
        "3087       507.15             5                   NaN  NaN         no  \n",
        "3088         0.00             0  newsletter, prospect  NaN         no  \n",
        "3089      6441.50            11  newsletter, prospect  NaN         no  \n",
        "3090        59.60             1  newsletter, prospect  NaN         no  \n",
        "3091         0.00             0                   NaN  NaN         no  \n",
        "3092     15007.46            37  newsletter, prospect  NaN         no  \n",
        "\n",
        "[3093 rows x 19 columns]"
       ]
      }
     ],
     "prompt_number": 18
    },
    {
     "cell_type": "code",
     "collapsed": false,
     "input": [
      "#concatenate name, address\n",
      "customers['Name'] = customers['First Name'] + \" \" + customers['Last Name']\n",
      "customers['Address'] = customers['Address1'] + \" \" + customers['Address2'] + \" \" + customers['City']\n",
      "\n",
      "customers = customers[['Name', 'Address', 'Phone', 'Email']]\n",
      "customers"
     ],
     "language": "python",
     "metadata": {},
     "outputs": [
      {
       "html": [
        "<div style=\"max-height:1000px;max-width:1500px;overflow:auto;\">\n",
        "<table border=\"1\" class=\"dataframe\">\n",
        "  <thead>\n",
        "    <tr style=\"text-align: right;\">\n",
        "      <th></th>\n",
        "      <th>Name</th>\n",
        "      <th>Address</th>\n",
        "      <th>Phone</th>\n",
        "      <th>Email</th>\n",
        "    </tr>\n",
        "  </thead>\n",
        "  <tbody>\n",
        "    <tr>\n",
        "      <th>0   </th>\n",
        "      <td>              Rehab  Mansour</td>\n",
        "      <td> 8 Al Shahid Ahmed Zaki St. Behind El Obour Bld...</td>\n",
        "      <td>    01001607028</td>\n",
        "      <td>          rehabmansour@gmail.com</td>\n",
        "    </tr>\n",
        "    <tr>\n",
        "      <th>1   </th>\n",
        "      <td>                RAfik BEbawi</td>\n",
        "      <td>                                               NaN</td>\n",
        "      <td>            NaN</td>\n",
        "      <td>                rhbebawi@live.ca</td>\n",
        "    </tr>\n",
        "    <tr>\n",
        "      <th>2   </th>\n",
        "      <td>           Francesca Cicardi</td>\n",
        "      <td>      5, Fouad al Ahwany 1st floor, apt. 3 Zamalek</td>\n",
        "      <td>    01203038029</td>\n",
        "      <td>          fracicardi@hotmail.com</td>\n",
        "    </tr>\n",
        "    <tr>\n",
        "      <th>3   </th>\n",
        "      <td>             Ahmed Aboulella</td>\n",
        "      <td>        10 Tahreer St, Sheraton Heliopolis 8 Cairo</td>\n",
        "      <td>  +201009936633</td>\n",
        "      <td>          ahmed.fakhry@gmail.com</td>\n",
        "    </tr>\n",
        "    <tr>\n",
        "      <th>4   </th>\n",
        "      <td>                Laila  akram</td>\n",
        "      <td>                                               NaN</td>\n",
        "      <td>    01008108200</td>\n",
        "      <td>            Missilou11@yahoo.com</td>\n",
        "    </tr>\n",
        "    <tr>\n",
        "      <th>5   </th>\n",
        "      <td>                Sally  Salem</td>\n",
        "      <td>                                               NaN</td>\n",
        "      <td>    01222484466</td>\n",
        "      <td>         sallysalem123@gmail.com</td>\n",
        "    </tr>\n",
        "    <tr>\n",
        "      <th>6   </th>\n",
        "      <td>              Gaylyn Mbogho </td>\n",
        "      <td>                          Rd232 Build9 Apt11 Cairo</td>\n",
        "      <td>    01006921218</td>\n",
        "      <td>          gaylynmbogho@yahoo.com</td>\n",
        "    </tr>\n",
        "    <tr>\n",
        "      <th>7   </th>\n",
        "      <td>                    Daii Ali</td>\n",
        "      <td>                                               NaN</td>\n",
        "      <td>    01111397206</td>\n",
        "      <td>            Daiieldeeb@gmail.com</td>\n",
        "    </tr>\n",
        "    <tr>\n",
        "      <th>8   </th>\n",
        "      <td>                    Yara Ali</td>\n",
        "      <td>               7 Youssef Abbas St. Nasr City Cairo</td>\n",
        "      <td>    01227357774</td>\n",
        "      <td>             yara.azam@gmail.com</td>\n",
        "    </tr>\n",
        "    <tr>\n",
        "      <th>9   </th>\n",
        "      <td>             Mohamed Mokhtar</td>\n",
        "      <td> 34, Higaz st mohandiseen  Building in front of...</td>\n",
        "      <td>    01220802255</td>\n",
        "      <td>              m.mkhtr@icloud.com</td>\n",
        "    </tr>\n",
        "    <tr>\n",
        "      <th>10  </th>\n",
        "      <td>                 FIona Brown</td>\n",
        "      <td>                                               NaN</td>\n",
        "      <td>            NaN</td>\n",
        "      <td>           fmnkbrown@hotmail.com</td>\n",
        "    </tr>\n",
        "    <tr>\n",
        "      <th>11  </th>\n",
        "      <td>                 Hind Haggag</td>\n",
        "      <td> 9 Africa-emtedad Mostafa Al Nahhas Floor 8 apr...</td>\n",
        "      <td>     0106680683</td>\n",
        "      <td>           hind.haggag@gmail.com</td>\n",
        "    </tr>\n",
        "    <tr>\n",
        "      <th>12  </th>\n",
        "      <td>              Hazem El Shamy</td>\n",
        "      <td> 6th of october, sheikh zayed city, zayed 2000 ...</td>\n",
        "      <td>    01140222020</td>\n",
        "      <td>           hazem.shamy@gmail.com</td>\n",
        "    </tr>\n",
        "    <tr>\n",
        "      <th>13  </th>\n",
        "      <td>            Tamer Elmenshawy</td>\n",
        "      <td>                                               NaN</td>\n",
        "      <td>    01005732432</td>\n",
        "      <td>          cyperx2000@hotmail.com</td>\n",
        "    </tr>\n",
        "    <tr>\n",
        "      <th>14  </th>\n",
        "      <td>                  James Belk</td>\n",
        "      <td>                                               NaN</td>\n",
        "      <td>     8168358620</td>\n",
        "      <td>       jamesmorgan0091@gmail.com</td>\n",
        "    </tr>\n",
        "    <tr>\n",
        "      <th>15  </th>\n",
        "      <td>                  Maro Maher</td>\n",
        "      <td> 15 Ismail Mohamed st. Borg Jedda- opposite Kol...</td>\n",
        "      <td>    01016131364</td>\n",
        "      <td>          RODY.DOVE123@GMAIL.COM</td>\n",
        "    </tr>\n",
        "    <tr>\n",
        "      <th>16  </th>\n",
        "      <td>                  Heba Belal</td>\n",
        "      <td> \u0645\u064a\u062f\u0627\u0646 \u0627\u0644\u062c\u0645\u0647\u0648\u0631\u064a\u0629 \u0645\u062a\u0641\u0631\u0639 \u0645\u0646 \u0627\u0644\u0628\u0637\u0644 \u0627\u062d\u0645\u062f \u0639\u0628\u062f \u0627\u0644\u0639\u0632\u064a\u0632...</td>\n",
        "      <td>    01000323444</td>\n",
        "      <td>             hibba_b@hotmail.com</td>\n",
        "    </tr>\n",
        "    <tr>\n",
        "      <th>17  </th>\n",
        "      <td>               Pascale Nader</td>\n",
        "      <td> 6, Hassan sabry street, zamalek 12 floor, apt ...</td>\n",
        "      <td>    01201019007</td>\n",
        "      <td>          pascalenader@gmail.com</td>\n",
        "    </tr>\n",
        "    <tr>\n",
        "      <th>18  </th>\n",
        "      <td>                  Hoda Salah</td>\n",
        "      <td>                                               NaN</td>\n",
        "      <td>            NaN</td>\n",
        "      <td>          hodasalah@aucegypt.edu</td>\n",
        "    </tr>\n",
        "    <tr>\n",
        "      <th>19  </th>\n",
        "      <td>              Hassan Elshamy</td>\n",
        "      <td>                                               NaN</td>\n",
        "      <td>            NaN</td>\n",
        "      <td>          hasanelshamy@gmail.com</td>\n",
        "    </tr>\n",
        "    <tr>\n",
        "      <th>20  </th>\n",
        "      <td>                Rania Hassan</td>\n",
        "      <td>                                               NaN</td>\n",
        "      <td>    01222127426</td>\n",
        "      <td>               r_h_ali@yahoo.com</td>\n",
        "    </tr>\n",
        "    <tr>\n",
        "      <th>21  </th>\n",
        "      <td>              Mervat Elgamal</td>\n",
        "      <td>                                               NaN</td>\n",
        "      <td>  0201005540036</td>\n",
        "      <td>                fabbff@gmail.com</td>\n",
        "    </tr>\n",
        "    <tr>\n",
        "      <th>22  </th>\n",
        "      <td>                  Muaz Munir</td>\n",
        "      <td>                                               NaN</td>\n",
        "      <td>    01001184082</td>\n",
        "      <td>             muazmunir@gmail.com</td>\n",
        "    </tr>\n",
        "    <tr>\n",
        "      <th>23  </th>\n",
        "      <td>               Amal Akhnoukh</td>\n",
        "      <td>                                               NaN</td>\n",
        "      <td>  +201223980020</td>\n",
        "      <td>          amalakhnoukh@gmail.com</td>\n",
        "    </tr>\n",
        "    <tr>\n",
        "      <th>24  </th>\n",
        "      <td>                  Sonja Lang</td>\n",
        "      <td> El-Katameya Residence, Besides JW Marriott Vil...</td>\n",
        "      <td>  0100 942 1880</td>\n",
        "      <td>         sonja.langweb@gmail.com</td>\n",
        "    </tr>\n",
        "    <tr>\n",
        "      <th>25  </th>\n",
        "      <td>               MANAR ELKHOLY</td>\n",
        "      <td> Al Ashgar compound, El Wahat Road, opposite dr...</td>\n",
        "      <td>  +201001406762</td>\n",
        "      <td>          manarelkholy@gmail.com</td>\n",
        "    </tr>\n",
        "    <tr>\n",
        "      <th>26  </th>\n",
        "      <td>             Assem Elsalmoum</td>\n",
        "      <td>                                               NaN</td>\n",
        "      <td>    01020357103</td>\n",
        "      <td>           asooome1415@gmail.com</td>\n",
        "    </tr>\n",
        "    <tr>\n",
        "      <th>27  </th>\n",
        "      <td>              Louna Geoffroy</td>\n",
        "      <td> #1 shara 152 (at corner of sh 7) #18, floor 5 ...</td>\n",
        "      <td>    01277714347</td>\n",
        "      <td>         louna_paris@hotmail.com</td>\n",
        "    </tr>\n",
        "    <tr>\n",
        "      <th>28  </th>\n",
        "      <td>           Mohamed Ezz Eldin</td>\n",
        "      <td>                                               NaN</td>\n",
        "      <td>    01126711532</td>\n",
        "      <td>          medo_www98@hotmail.com</td>\n",
        "    </tr>\n",
        "    <tr>\n",
        "      <th>29  </th>\n",
        "      <td>         Sahar Mohamed Galal</td>\n",
        "      <td> 2  elshaheed fayez zakaria street / masaken sh...</td>\n",
        "      <td>    01005121848</td>\n",
        "      <td>         oottahsahar@hotmail.com</td>\n",
        "    </tr>\n",
        "    <tr>\n",
        "      <th>...</th>\n",
        "      <td>...</td>\n",
        "      <td>...</td>\n",
        "      <td>...</td>\n",
        "      <td>...</td>\n",
        "    </tr>\n",
        "    <tr>\n",
        "      <th>3063</th>\n",
        "      <td>                Adham Hamada</td>\n",
        "      <td> 5 eskandar el Akbar st. Heliopolis First floor...</td>\n",
        "      <td>    01223221581</td>\n",
        "      <td>            Adhamada@hotmail.com</td>\n",
        "    </tr>\n",
        "    <tr>\n",
        "      <th>3064</th>\n",
        "      <td>              Houssam Elokda</td>\n",
        "      <td>                                               NaN</td>\n",
        "      <td>    01095830000</td>\n",
        "      <td>        houssam.elokda@gmail.com</td>\n",
        "    </tr>\n",
        "    <tr>\n",
        "      <th>3065</th>\n",
        "      <td>       Subscriber Newsletter</td>\n",
        "      <td>                                               NaN</td>\n",
        "      <td>            NaN</td>\n",
        "      <td>          pensee.afifi@gmail.com</td>\n",
        "    </tr>\n",
        "    <tr>\n",
        "      <th>3066</th>\n",
        "      <td>       Subscriber Newsletter</td>\n",
        "      <td>                                               NaN</td>\n",
        "      <td>            NaN</td>\n",
        "      <td>            ns.hamouda@gmail.com</td>\n",
        "    </tr>\n",
        "    <tr>\n",
        "      <th>3067</th>\n",
        "      <td>            Hesham ElBanhawi</td>\n",
        "      <td>                                               NaN</td>\n",
        "      <td>            NaN</td>\n",
        "      <td>             Hania7894@gmail.com</td>\n",
        "    </tr>\n",
        "    <tr>\n",
        "      <th>3068</th>\n",
        "      <td>       Subscriber Newsletter</td>\n",
        "      <td> Flat 44, 4th floor, Building 6036, El Meerag E...</td>\n",
        "      <td>    01009889949</td>\n",
        "      <td>                hds160@gmail.com</td>\n",
        "    </tr>\n",
        "    <tr>\n",
        "      <th>3069</th>\n",
        "      <td>              Iman El Gammal</td>\n",
        "      <td>                11isaac yacoub, 7th floor 15 Cairo</td>\n",
        "      <td>    01001459115</td>\n",
        "      <td>               Mamazzz@gmail.com</td>\n",
        "    </tr>\n",
        "    <tr>\n",
        "      <th>3070</th>\n",
        "      <td>               Ahmed Ibrahim</td>\n",
        "      <td> 20 Mohamed Ali Elbakli from Elhegaz street nea...</td>\n",
        "      <td>    01152033889</td>\n",
        "      <td>               asony11@yahoo.com</td>\n",
        "    </tr>\n",
        "    <tr>\n",
        "      <th>3071</th>\n",
        "      <td>  djamila benderbous Kafoufi</td>\n",
        "      <td> El Gazira Street, Smart Life Compound,Tagamo3 ...</td>\n",
        "      <td>    01229918886</td>\n",
        "      <td>    djamila.benderbous@gmail.com</td>\n",
        "    </tr>\n",
        "    <tr>\n",
        "      <th>3072</th>\n",
        "      <td>       Subscriber Newsletter</td>\n",
        "      <td> 6 mohy el din abd el zaher,ard el golf ,Heliop...</td>\n",
        "      <td>    01222105459</td>\n",
        "      <td>         salwa_saiid@hotmail.com</td>\n",
        "    </tr>\n",
        "    <tr>\n",
        "      <th>3073</th>\n",
        "      <td>          Mohamed  El Gammal</td>\n",
        "      <td> 6 Mohamed labib el kerdani st. 1st Floor, Flat...</td>\n",
        "      <td>    01001407133</td>\n",
        "      <td>        raghebelgammal@yahoo.com</td>\n",
        "    </tr>\n",
        "    <tr>\n",
        "      <th>3074</th>\n",
        "      <td>       Subscriber Newsletter</td>\n",
        "      <td>                                               NaN</td>\n",
        "      <td>            NaN</td>\n",
        "      <td>            ellyke18@hotmail.com</td>\n",
        "    </tr>\n",
        "    <tr>\n",
        "      <th>3075</th>\n",
        "      <td>       Subscriber Newsletter</td>\n",
        "      <td>                                               NaN</td>\n",
        "      <td>            NaN</td>\n",
        "      <td>            maggy.ezzo@gmail.com</td>\n",
        "    </tr>\n",
        "    <tr>\n",
        "      <th>3076</th>\n",
        "      <td>                 rania magdi</td>\n",
        "      <td>                                               NaN</td>\n",
        "      <td>       24551740</td>\n",
        "      <td>           fairymaid82@yahoo.com</td>\n",
        "    </tr>\n",
        "    <tr>\n",
        "      <th>3077</th>\n",
        "      <td>               Amal elguindy</td>\n",
        "      <td>                                               NaN</td>\n",
        "      <td>   01223103921 </td>\n",
        "      <td>         milomilogindi@yahoo.com</td>\n",
        "    </tr>\n",
        "    <tr>\n",
        "      <th>3078</th>\n",
        "      <td>       Subscriber Newsletter</td>\n",
        "      <td>                                               NaN</td>\n",
        "      <td>    01141117775</td>\n",
        "      <td>                biro5s@yahoo.com</td>\n",
        "    </tr>\n",
        "    <tr>\n",
        "      <th>3079</th>\n",
        "      <td>            Pauchez Virginie</td>\n",
        "      <td> Sawaky Camp-Cornish str-Dahar Geisum Hotel-Cor...</td>\n",
        "      <td>    01221383917</td>\n",
        "      <td>            nini.etoile@voila.fr</td>\n",
        "    </tr>\n",
        "    <tr>\n",
        "      <th>3080</th>\n",
        "      <td>       Subscriber Newsletter</td>\n",
        "      <td>                                               NaN</td>\n",
        "      <td>            NaN</td>\n",
        "      <td>         mahmoud.moheb@gmail.com</td>\n",
        "    </tr>\n",
        "    <tr>\n",
        "      <th>3081</th>\n",
        "      <td>               Betty Hedrich</td>\n",
        "      <td>                                               NaN</td>\n",
        "      <td> 00201001098312</td>\n",
        "      <td>             bettyhedrich@gmx.de</td>\n",
        "    </tr>\n",
        "    <tr>\n",
        "      <th>3082</th>\n",
        "      <td>       Subscriber Newsletter</td>\n",
        "      <td>                                               NaN</td>\n",
        "      <td>            NaN</td>\n",
        "      <td>          yusif@joe-networks.com</td>\n",
        "    </tr>\n",
        "    <tr>\n",
        "      <th>3083</th>\n",
        "      <td>       Subscriber Newsletter</td>\n",
        "      <td>                                               NaN</td>\n",
        "      <td>            NaN</td>\n",
        "      <td> mohamed.el-hossary@diversey.com</td>\n",
        "    </tr>\n",
        "    <tr>\n",
        "      <th>3084</th>\n",
        "      <td>                   Rola Amin</td>\n",
        "      <td>                                               NaN</td>\n",
        "      <td>    01007776172</td>\n",
        "      <td>                   rulah@msn.com</td>\n",
        "    </tr>\n",
        "    <tr>\n",
        "      <th>3085</th>\n",
        "      <td> Mr.Akram Mohamed Abu Ashara</td>\n",
        "      <td>              The View compound, Flat 318 Hurghada</td>\n",
        "      <td>    01001514400</td>\n",
        "      <td>             milda_b@hotmail.com</td>\n",
        "    </tr>\n",
        "    <tr>\n",
        "      <th>3086</th>\n",
        "      <td>                 Sam Worrior</td>\n",
        "      <td>                                               NaN</td>\n",
        "      <td>            NaN</td>\n",
        "      <td>         sam.warrior@yahoo.co.uk</td>\n",
        "    </tr>\n",
        "    <tr>\n",
        "      <th>3087</th>\n",
        "      <td>          lika novoshinskaya</td>\n",
        "      <td> el kawther,desert pearl ek kawther,desert pear...</td>\n",
        "      <td>    01069553011</td>\n",
        "      <td>          lik-novikova@yandex.ru</td>\n",
        "    </tr>\n",
        "    <tr>\n",
        "      <th>3088</th>\n",
        "      <td>             Monika Angelika</td>\n",
        "      <td>                                               NaN</td>\n",
        "      <td>            NaN</td>\n",
        "      <td>       angelika.monika@yahoo.com</td>\n",
        "    </tr>\n",
        "    <tr>\n",
        "      <th>3089</th>\n",
        "      <td>               bente ringnes</td>\n",
        "      <td>                                               NaN</td>\n",
        "      <td>    01141437074</td>\n",
        "      <td>             bente.ring@yahoo.no</td>\n",
        "    </tr>\n",
        "    <tr>\n",
        "      <th>3090</th>\n",
        "      <td>                   Cathy Pod</td>\n",
        "      <td>     el kyadat behind cowboy, corniche st hurghada</td>\n",
        "      <td>    01224061449</td>\n",
        "      <td>            cathypod@hotmail.com</td>\n",
        "    </tr>\n",
        "    <tr>\n",
        "      <th>3091</th>\n",
        "      <td>                Sabine Braun</td>\n",
        "      <td>                                               NaN</td>\n",
        "      <td>        0123456</td>\n",
        "      <td>          sabine.braun@gpnet.biz</td>\n",
        "    </tr>\n",
        "    <tr>\n",
        "      <th>3092</th>\n",
        "      <td>                    Ramzy ..</td>\n",
        "      <td>                                               NaN</td>\n",
        "      <td>    01020888046</td>\n",
        "      <td>           hashim.alaa@gmail.com</td>\n",
        "    </tr>\n",
        "  </tbody>\n",
        "</table>\n",
        "<p>3093 rows \u00d7 4 columns</p>\n",
        "</div>"
       ],
       "metadata": {},
       "output_type": "pyout",
       "prompt_number": 19,
       "text": [
        "                             Name  \\\n",
        "0                  Rehab  Mansour   \n",
        "1                    RAfik BEbawi   \n",
        "2               Francesca Cicardi   \n",
        "3                 Ahmed Aboulella   \n",
        "4                    Laila  akram   \n",
        "5                    Sally  Salem   \n",
        "6                  Gaylyn Mbogho    \n",
        "7                        Daii Ali   \n",
        "8                        Yara Ali   \n",
        "9                 Mohamed Mokhtar   \n",
        "10                    FIona Brown   \n",
        "11                    Hind Haggag   \n",
        "12                 Hazem El Shamy   \n",
        "13               Tamer Elmenshawy   \n",
        "14                     James Belk   \n",
        "15                     Maro Maher   \n",
        "16                     Heba Belal   \n",
        "17                  Pascale Nader   \n",
        "18                     Hoda Salah   \n",
        "19                 Hassan Elshamy   \n",
        "20                   Rania Hassan   \n",
        "21                 Mervat Elgamal   \n",
        "22                     Muaz Munir   \n",
        "23                  Amal Akhnoukh   \n",
        "24                     Sonja Lang   \n",
        "25                  MANAR ELKHOLY   \n",
        "26                Assem Elsalmoum   \n",
        "27                 Louna Geoffroy   \n",
        "28              Mohamed Ezz Eldin   \n",
        "29            Sahar Mohamed Galal   \n",
        "...                           ...   \n",
        "3063                 Adham Hamada   \n",
        "3064               Houssam Elokda   \n",
        "3065        Subscriber Newsletter   \n",
        "3066        Subscriber Newsletter   \n",
        "3067             Hesham ElBanhawi   \n",
        "3068        Subscriber Newsletter   \n",
        "3069               Iman El Gammal   \n",
        "3070                Ahmed Ibrahim   \n",
        "3071   djamila benderbous Kafoufi   \n",
        "3072        Subscriber Newsletter   \n",
        "3073           Mohamed  El Gammal   \n",
        "3074        Subscriber Newsletter   \n",
        "3075        Subscriber Newsletter   \n",
        "3076                  rania magdi   \n",
        "3077                Amal elguindy   \n",
        "3078        Subscriber Newsletter   \n",
        "3079             Pauchez Virginie   \n",
        "3080        Subscriber Newsletter   \n",
        "3081                Betty Hedrich   \n",
        "3082        Subscriber Newsletter   \n",
        "3083        Subscriber Newsletter   \n",
        "3084                    Rola Amin   \n",
        "3085  Mr.Akram Mohamed Abu Ashara   \n",
        "3086                  Sam Worrior   \n",
        "3087           lika novoshinskaya   \n",
        "3088              Monika Angelika   \n",
        "3089                bente ringnes   \n",
        "3090                    Cathy Pod   \n",
        "3091                 Sabine Braun   \n",
        "3092                     Ramzy ..   \n",
        "\n",
        "                                                Address           Phone  \\\n",
        "0     8 Al Shahid Ahmed Zaki St. Behind El Obour Bld...     01001607028   \n",
        "1                                                   NaN             NaN   \n",
        "2          5, Fouad al Ahwany 1st floor, apt. 3 Zamalek     01203038029   \n",
        "3            10 Tahreer St, Sheraton Heliopolis 8 Cairo   +201009936633   \n",
        "4                                                   NaN     01008108200   \n",
        "5                                                   NaN     01222484466   \n",
        "6                              Rd232 Build9 Apt11 Cairo     01006921218   \n",
        "7                                                   NaN     01111397206   \n",
        "8                   7 Youssef Abbas St. Nasr City Cairo     01227357774   \n",
        "9     34, Higaz st mohandiseen  Building in front of...     01220802255   \n",
        "10                                                  NaN             NaN   \n",
        "11    9 Africa-emtedad Mostafa Al Nahhas Floor 8 apr...      0106680683   \n",
        "12    6th of october, sheikh zayed city, zayed 2000 ...     01140222020   \n",
        "13                                                  NaN     01005732432   \n",
        "14                                                  NaN      8168358620   \n",
        "15    15 Ismail Mohamed st. Borg Jedda- opposite Kol...     01016131364   \n",
        "16    \u0645\u064a\u062f\u0627\u0646 \u0627\u0644\u062c\u0645\u0647\u0648\u0631\u064a\u0629 \u0645\u062a\u0641\u0631\u0639 \u0645\u0646 \u0627\u0644\u0628\u0637\u0644 \u0627\u062d\u0645\u062f \u0639\u0628\u062f \u0627\u0644\u0639\u0632\u064a\u0632...     01000323444   \n",
        "17    6, Hassan sabry street, zamalek 12 floor, apt ...     01201019007   \n",
        "18                                                  NaN             NaN   \n",
        "19                                                  NaN             NaN   \n",
        "20                                                  NaN     01222127426   \n",
        "21                                                  NaN   0201005540036   \n",
        "22                                                  NaN     01001184082   \n",
        "23                                                  NaN   +201223980020   \n",
        "24    El-Katameya Residence, Besides JW Marriott Vil...   0100 942 1880   \n",
        "25    Al Ashgar compound, El Wahat Road, opposite dr...   +201001406762   \n",
        "26                                                  NaN     01020357103   \n",
        "27    #1 shara 152 (at corner of sh 7) #18, floor 5 ...     01277714347   \n",
        "28                                                  NaN     01126711532   \n",
        "29    2  elshaheed fayez zakaria street / masaken sh...     01005121848   \n",
        "...                                                 ...             ...   \n",
        "3063  5 eskandar el Akbar st. Heliopolis First floor...     01223221581   \n",
        "3064                                                NaN     01095830000   \n",
        "3065                                                NaN             NaN   \n",
        "3066                                                NaN             NaN   \n",
        "3067                                                NaN             NaN   \n",
        "3068  Flat 44, 4th floor, Building 6036, El Meerag E...     01009889949   \n",
        "3069                 11isaac yacoub, 7th floor 15 Cairo     01001459115   \n",
        "3070  20 Mohamed Ali Elbakli from Elhegaz street nea...     01152033889   \n",
        "3071  El Gazira Street, Smart Life Compound,Tagamo3 ...     01229918886   \n",
        "3072  6 mohy el din abd el zaher,ard el golf ,Heliop...     01222105459   \n",
        "3073  6 Mohamed labib el kerdani st. 1st Floor, Flat...     01001407133   \n",
        "3074                                                NaN             NaN   \n",
        "3075                                                NaN             NaN   \n",
        "3076                                                NaN        24551740   \n",
        "3077                                                NaN    01223103921    \n",
        "3078                                                NaN     01141117775   \n",
        "3079  Sawaky Camp-Cornish str-Dahar Geisum Hotel-Cor...     01221383917   \n",
        "3080                                                NaN             NaN   \n",
        "3081                                                NaN  00201001098312   \n",
        "3082                                                NaN             NaN   \n",
        "3083                                                NaN             NaN   \n",
        "3084                                                NaN     01007776172   \n",
        "3085               The View compound, Flat 318 Hurghada     01001514400   \n",
        "3086                                                NaN             NaN   \n",
        "3087  el kawther,desert pearl ek kawther,desert pear...     01069553011   \n",
        "3088                                                NaN             NaN   \n",
        "3089                                                NaN     01141437074   \n",
        "3090      el kyadat behind cowboy, corniche st hurghada     01224061449   \n",
        "3091                                                NaN         0123456   \n",
        "3092                                                NaN     01020888046   \n",
        "\n",
        "                                Email  \n",
        "0              rehabmansour@gmail.com  \n",
        "1                    rhbebawi@live.ca  \n",
        "2              fracicardi@hotmail.com  \n",
        "3              ahmed.fakhry@gmail.com  \n",
        "4                Missilou11@yahoo.com  \n",
        "5             sallysalem123@gmail.com  \n",
        "6              gaylynmbogho@yahoo.com  \n",
        "7                Daiieldeeb@gmail.com  \n",
        "8                 yara.azam@gmail.com  \n",
        "9                  m.mkhtr@icloud.com  \n",
        "10              fmnkbrown@hotmail.com  \n",
        "11              hind.haggag@gmail.com  \n",
        "12              hazem.shamy@gmail.com  \n",
        "13             cyperx2000@hotmail.com  \n",
        "14          jamesmorgan0091@gmail.com  \n",
        "15             RODY.DOVE123@GMAIL.COM  \n",
        "16                hibba_b@hotmail.com  \n",
        "17             pascalenader@gmail.com  \n",
        "18             hodasalah@aucegypt.edu  \n",
        "19             hasanelshamy@gmail.com  \n",
        "20                  r_h_ali@yahoo.com  \n",
        "21                   fabbff@gmail.com  \n",
        "22                muazmunir@gmail.com  \n",
        "23             amalakhnoukh@gmail.com  \n",
        "24            sonja.langweb@gmail.com  \n",
        "25             manarelkholy@gmail.com  \n",
        "26              asooome1415@gmail.com  \n",
        "27            louna_paris@hotmail.com  \n",
        "28             medo_www98@hotmail.com  \n",
        "29            oottahsahar@hotmail.com  \n",
        "...                               ...  \n",
        "3063             Adhamada@hotmail.com  \n",
        "3064         houssam.elokda@gmail.com  \n",
        "3065           pensee.afifi@gmail.com  \n",
        "3066             ns.hamouda@gmail.com  \n",
        "3067              Hania7894@gmail.com  \n",
        "3068                 hds160@gmail.com  \n",
        "3069                Mamazzz@gmail.com  \n",
        "3070                asony11@yahoo.com  \n",
        "3071     djamila.benderbous@gmail.com  \n",
        "3072          salwa_saiid@hotmail.com  \n",
        "3073         raghebelgammal@yahoo.com  \n",
        "3074             ellyke18@hotmail.com  \n",
        "3075             maggy.ezzo@gmail.com  \n",
        "3076            fairymaid82@yahoo.com  \n",
        "3077          milomilogindi@yahoo.com  \n",
        "3078                 biro5s@yahoo.com  \n",
        "3079             nini.etoile@voila.fr  \n",
        "3080          mahmoud.moheb@gmail.com  \n",
        "3081              bettyhedrich@gmx.de  \n",
        "3082           yusif@joe-networks.com  \n",
        "3083  mohamed.el-hossary@diversey.com  \n",
        "3084                    rulah@msn.com  \n",
        "3085              milda_b@hotmail.com  \n",
        "3086          sam.warrior@yahoo.co.uk  \n",
        "3087           lik-novikova@yandex.ru  \n",
        "3088        angelika.monika@yahoo.com  \n",
        "3089              bente.ring@yahoo.no  \n",
        "3090             cathypod@hotmail.com  \n",
        "3091           sabine.braun@gpnet.biz  \n",
        "3092            hashim.alaa@gmail.com  \n",
        "\n",
        "[3093 rows x 4 columns]"
       ]
      }
     ],
     "prompt_number": 19
    },
    {
     "cell_type": "code",
     "collapsed": false,
     "input": [
      "df3 = customers.merge(df3, on = ['Email'], how = 'inner')\n",
      "df3"
     ],
     "language": "python",
     "metadata": {},
     "outputs": [
      {
       "html": [
        "<div style=\"max-height:1000px;max-width:1500px;overflow:auto;\">\n",
        "<table border=\"1\" class=\"dataframe\">\n",
        "  <thead>\n",
        "    <tr style=\"text-align: right;\">\n",
        "      <th></th>\n",
        "      <th>Name</th>\n",
        "      <th>Address</th>\n",
        "      <th>Phone</th>\n",
        "      <th>Email</th>\n",
        "      <th>Date</th>\n",
        "      <th>Total orders</th>\n",
        "      <th>Revenue</th>\n",
        "      <th>Basket Value</th>\n",
        "      <th>Sunday</th>\n",
        "      <th>Monday</th>\n",
        "      <th>...</th>\n",
        "      <th>8:00 - 10:00</th>\n",
        "      <th>10:00 - 12:00</th>\n",
        "      <th>12:00 - 14:00</th>\n",
        "      <th>14:00 - 16:00</th>\n",
        "      <th>16:00 - 18:00</th>\n",
        "      <th>18:00 - 20:00</th>\n",
        "      <th>20:00 - 22:00</th>\n",
        "      <th>22:00 - 0:00</th>\n",
        "      <th>Average Revenue</th>\n",
        "      <th>Average Basket Size</th>\n",
        "    </tr>\n",
        "  </thead>\n",
        "  <tbody>\n",
        "    <tr>\n",
        "      <th>0   </th>\n",
        "      <td>              Rehab  Mansour</td>\n",
        "      <td> 8 Al Shahid Ahmed Zaki St. Behind El Obour Bld...</td>\n",
        "      <td>    01001607028</td>\n",
        "      <td>      rehabmansour@gmail.com</td>\n",
        "      <td> 2015-12-17</td>\n",
        "      <td> 1</td>\n",
        "      <td>  375.30</td>\n",
        "      <td>  375.30</td>\n",
        "      <td> 0</td>\n",
        "      <td> 0</td>\n",
        "      <td>...</td>\n",
        "      <td> 0</td>\n",
        "      <td> 0</td>\n",
        "      <td> 0</td>\n",
        "      <td> 0</td>\n",
        "      <td> 0</td>\n",
        "      <td> 0</td>\n",
        "      <td> 1</td>\n",
        "      <td> 0</td>\n",
        "      <td> 1149.346496</td>\n",
        "      <td> 38.447904</td>\n",
        "    </tr>\n",
        "    <tr>\n",
        "      <th>1   </th>\n",
        "      <td>           Francesca Cicardi</td>\n",
        "      <td>      5, Fouad al Ahwany 1st floor, apt. 3 Zamalek</td>\n",
        "      <td>    01203038029</td>\n",
        "      <td>      fracicardi@hotmail.com</td>\n",
        "      <td> 2015-12-17</td>\n",
        "      <td> 1</td>\n",
        "      <td>  114.60</td>\n",
        "      <td>  114.60</td>\n",
        "      <td> 0</td>\n",
        "      <td> 0</td>\n",
        "      <td>...</td>\n",
        "      <td> 0</td>\n",
        "      <td> 0</td>\n",
        "      <td> 0</td>\n",
        "      <td> 0</td>\n",
        "      <td> 0</td>\n",
        "      <td> 1</td>\n",
        "      <td> 0</td>\n",
        "      <td> 0</td>\n",
        "      <td> 1149.346496</td>\n",
        "      <td> 38.447904</td>\n",
        "    </tr>\n",
        "    <tr>\n",
        "      <th>2   </th>\n",
        "      <td>             Ahmed Aboulella</td>\n",
        "      <td>        10 Tahreer St, Sheraton Heliopolis 8 Cairo</td>\n",
        "      <td>  +201009936633</td>\n",
        "      <td>      ahmed.fakhry@gmail.com</td>\n",
        "      <td> 2015-12-17</td>\n",
        "      <td> 1</td>\n",
        "      <td> 1020.20</td>\n",
        "      <td> 1020.20</td>\n",
        "      <td> 0</td>\n",
        "      <td> 0</td>\n",
        "      <td>...</td>\n",
        "      <td> 0</td>\n",
        "      <td> 0</td>\n",
        "      <td> 0</td>\n",
        "      <td> 0</td>\n",
        "      <td> 1</td>\n",
        "      <td> 0</td>\n",
        "      <td> 0</td>\n",
        "      <td> 0</td>\n",
        "      <td> 1149.346496</td>\n",
        "      <td> 38.447904</td>\n",
        "    </tr>\n",
        "    <tr>\n",
        "      <th>3   </th>\n",
        "      <td>                Laila  akram</td>\n",
        "      <td>                                               NaN</td>\n",
        "      <td>    01008108200</td>\n",
        "      <td>        Missilou11@yahoo.com</td>\n",
        "      <td> 2015-12-17</td>\n",
        "      <td> 1</td>\n",
        "      <td>   70.20</td>\n",
        "      <td>   70.20</td>\n",
        "      <td> 0</td>\n",
        "      <td> 0</td>\n",
        "      <td>...</td>\n",
        "      <td> 0</td>\n",
        "      <td> 0</td>\n",
        "      <td> 0</td>\n",
        "      <td> 1</td>\n",
        "      <td> 0</td>\n",
        "      <td> 0</td>\n",
        "      <td> 0</td>\n",
        "      <td> 0</td>\n",
        "      <td> 1149.346496</td>\n",
        "      <td> 38.447904</td>\n",
        "    </tr>\n",
        "    <tr>\n",
        "      <th>4   </th>\n",
        "      <td>                Sally  Salem</td>\n",
        "      <td>                                               NaN</td>\n",
        "      <td>    01222484466</td>\n",
        "      <td>     sallysalem123@gmail.com</td>\n",
        "      <td> 2015-12-17</td>\n",
        "      <td> 1</td>\n",
        "      <td>  316.80</td>\n",
        "      <td>  316.80</td>\n",
        "      <td> 0</td>\n",
        "      <td> 0</td>\n",
        "      <td>...</td>\n",
        "      <td> 0</td>\n",
        "      <td> 0</td>\n",
        "      <td> 1</td>\n",
        "      <td> 0</td>\n",
        "      <td> 0</td>\n",
        "      <td> 0</td>\n",
        "      <td> 0</td>\n",
        "      <td> 0</td>\n",
        "      <td> 1149.346496</td>\n",
        "      <td> 38.447904</td>\n",
        "    </tr>\n",
        "    <tr>\n",
        "      <th>5   </th>\n",
        "      <td>              Gaylyn Mbogho </td>\n",
        "      <td>                          Rd232 Build9 Apt11 Cairo</td>\n",
        "      <td>    01006921218</td>\n",
        "      <td>      gaylynmbogho@yahoo.com</td>\n",
        "      <td> 2015-12-17</td>\n",
        "      <td> 1</td>\n",
        "      <td>  300.60</td>\n",
        "      <td>  300.60</td>\n",
        "      <td> 0</td>\n",
        "      <td> 0</td>\n",
        "      <td>...</td>\n",
        "      <td> 0</td>\n",
        "      <td> 0</td>\n",
        "      <td> 1</td>\n",
        "      <td> 0</td>\n",
        "      <td> 0</td>\n",
        "      <td> 0</td>\n",
        "      <td> 0</td>\n",
        "      <td> 0</td>\n",
        "      <td> 1149.346496</td>\n",
        "      <td> 38.447904</td>\n",
        "    </tr>\n",
        "    <tr>\n",
        "      <th>6   </th>\n",
        "      <td>                    Daii Ali</td>\n",
        "      <td>                                               NaN</td>\n",
        "      <td>    01111397206</td>\n",
        "      <td>        Daiieldeeb@gmail.com</td>\n",
        "      <td> 2015-12-17</td>\n",
        "      <td> 1</td>\n",
        "      <td>  118.80</td>\n",
        "      <td>  118.80</td>\n",
        "      <td> 0</td>\n",
        "      <td> 0</td>\n",
        "      <td>...</td>\n",
        "      <td> 0</td>\n",
        "      <td> 1</td>\n",
        "      <td> 0</td>\n",
        "      <td> 0</td>\n",
        "      <td> 0</td>\n",
        "      <td> 0</td>\n",
        "      <td> 0</td>\n",
        "      <td> 0</td>\n",
        "      <td> 1149.346496</td>\n",
        "      <td> 38.447904</td>\n",
        "    </tr>\n",
        "    <tr>\n",
        "      <th>7   </th>\n",
        "      <td>                    Yara Ali</td>\n",
        "      <td>               7 Youssef Abbas St. Nasr City Cairo</td>\n",
        "      <td>    01227357774</td>\n",
        "      <td>         yara.azam@gmail.com</td>\n",
        "      <td> 2015-12-17</td>\n",
        "      <td> 1</td>\n",
        "      <td>   57.80</td>\n",
        "      <td>   57.80</td>\n",
        "      <td> 0</td>\n",
        "      <td> 0</td>\n",
        "      <td>...</td>\n",
        "      <td> 0</td>\n",
        "      <td> 1</td>\n",
        "      <td> 0</td>\n",
        "      <td> 0</td>\n",
        "      <td> 0</td>\n",
        "      <td> 0</td>\n",
        "      <td> 0</td>\n",
        "      <td> 0</td>\n",
        "      <td> 1149.346496</td>\n",
        "      <td> 38.447904</td>\n",
        "    </tr>\n",
        "    <tr>\n",
        "      <th>8   </th>\n",
        "      <td>              Hazem El Shamy</td>\n",
        "      <td> 6th of october, sheikh zayed city, zayed 2000 ...</td>\n",
        "      <td>    01140222020</td>\n",
        "      <td>       hazem.shamy@gmail.com</td>\n",
        "      <td> 2015-12-17</td>\n",
        "      <td> 1</td>\n",
        "      <td>  163.00</td>\n",
        "      <td>  163.00</td>\n",
        "      <td> 0</td>\n",
        "      <td> 0</td>\n",
        "      <td>...</td>\n",
        "      <td> 0</td>\n",
        "      <td> 0</td>\n",
        "      <td> 0</td>\n",
        "      <td> 0</td>\n",
        "      <td> 0</td>\n",
        "      <td> 0</td>\n",
        "      <td> 0</td>\n",
        "      <td> 0</td>\n",
        "      <td> 1149.346496</td>\n",
        "      <td> 38.447904</td>\n",
        "    </tr>\n",
        "    <tr>\n",
        "      <th>9   </th>\n",
        "      <td>                  James Belk</td>\n",
        "      <td>                                               NaN</td>\n",
        "      <td>     8168358620</td>\n",
        "      <td>   jamesmorgan0091@gmail.com</td>\n",
        "      <td> 2015-12-17</td>\n",
        "      <td> 1</td>\n",
        "      <td>   57.60</td>\n",
        "      <td>   57.60</td>\n",
        "      <td> 0</td>\n",
        "      <td> 0</td>\n",
        "      <td>...</td>\n",
        "      <td> 0</td>\n",
        "      <td> 0</td>\n",
        "      <td> 0</td>\n",
        "      <td> 0</td>\n",
        "      <td> 0</td>\n",
        "      <td> 1</td>\n",
        "      <td> 0</td>\n",
        "      <td> 0</td>\n",
        "      <td> 1149.346496</td>\n",
        "      <td> 38.447904</td>\n",
        "    </tr>\n",
        "    <tr>\n",
        "      <th>10  </th>\n",
        "      <td>                  Maro Maher</td>\n",
        "      <td> 15 Ismail Mohamed st. Borg Jedda- opposite Kol...</td>\n",
        "      <td>    01016131364</td>\n",
        "      <td>      RODY.DOVE123@GMAIL.COM</td>\n",
        "      <td> 2015-12-17</td>\n",
        "      <td> 1</td>\n",
        "      <td>  340.00</td>\n",
        "      <td>  340.00</td>\n",
        "      <td> 0</td>\n",
        "      <td> 0</td>\n",
        "      <td>...</td>\n",
        "      <td> 0</td>\n",
        "      <td> 0</td>\n",
        "      <td> 0</td>\n",
        "      <td> 0</td>\n",
        "      <td> 1</td>\n",
        "      <td> 0</td>\n",
        "      <td> 0</td>\n",
        "      <td> 0</td>\n",
        "      <td> 1149.346496</td>\n",
        "      <td> 38.447904</td>\n",
        "    </tr>\n",
        "    <tr>\n",
        "      <th>11  </th>\n",
        "      <td>                  Heba Belal</td>\n",
        "      <td> \u0645\u064a\u062f\u0627\u0646 \u0627\u0644\u062c\u0645\u0647\u0648\u0631\u064a\u0629 \u0645\u062a\u0641\u0631\u0639 \u0645\u0646 \u0627\u0644\u0628\u0637\u0644 \u0627\u062d\u0645\u062f \u0639\u0628\u062f \u0627\u0644\u0639\u0632\u064a\u0632...</td>\n",
        "      <td>    01000323444</td>\n",
        "      <td>         hibba_b@hotmail.com</td>\n",
        "      <td> 2015-12-17</td>\n",
        "      <td> 1</td>\n",
        "      <td>  134.10</td>\n",
        "      <td>  134.10</td>\n",
        "      <td> 0</td>\n",
        "      <td> 0</td>\n",
        "      <td>...</td>\n",
        "      <td> 0</td>\n",
        "      <td> 0</td>\n",
        "      <td> 0</td>\n",
        "      <td> 1</td>\n",
        "      <td> 0</td>\n",
        "      <td> 0</td>\n",
        "      <td> 0</td>\n",
        "      <td> 0</td>\n",
        "      <td> 1149.346496</td>\n",
        "      <td> 38.447904</td>\n",
        "    </tr>\n",
        "    <tr>\n",
        "      <th>12  </th>\n",
        "      <td>               Pascale Nader</td>\n",
        "      <td> 6, Hassan sabry street, zamalek 12 floor, apt ...</td>\n",
        "      <td>    01201019007</td>\n",
        "      <td>      pascalenader@gmail.com</td>\n",
        "      <td> 2015-12-17</td>\n",
        "      <td> 1</td>\n",
        "      <td>  209.20</td>\n",
        "      <td>  209.20</td>\n",
        "      <td> 0</td>\n",
        "      <td> 0</td>\n",
        "      <td>...</td>\n",
        "      <td> 0</td>\n",
        "      <td> 0</td>\n",
        "      <td> 0</td>\n",
        "      <td> 1</td>\n",
        "      <td> 0</td>\n",
        "      <td> 0</td>\n",
        "      <td> 0</td>\n",
        "      <td> 0</td>\n",
        "      <td> 1149.346496</td>\n",
        "      <td> 38.447904</td>\n",
        "    </tr>\n",
        "    <tr>\n",
        "      <th>13  </th>\n",
        "      <td>                Rania Hassan</td>\n",
        "      <td>                                               NaN</td>\n",
        "      <td>    01222127426</td>\n",
        "      <td>           r_h_ali@yahoo.com</td>\n",
        "      <td> 2015-12-17</td>\n",
        "      <td> 1</td>\n",
        "      <td>  100.00</td>\n",
        "      <td>  100.00</td>\n",
        "      <td> 0</td>\n",
        "      <td> 0</td>\n",
        "      <td>...</td>\n",
        "      <td> 1</td>\n",
        "      <td> 0</td>\n",
        "      <td> 0</td>\n",
        "      <td> 0</td>\n",
        "      <td> 0</td>\n",
        "      <td> 0</td>\n",
        "      <td> 0</td>\n",
        "      <td> 0</td>\n",
        "      <td> 1149.346496</td>\n",
        "      <td> 38.447904</td>\n",
        "    </tr>\n",
        "    <tr>\n",
        "      <th>14  </th>\n",
        "      <td>              Mervat Elgamal</td>\n",
        "      <td>                                               NaN</td>\n",
        "      <td>  0201005540036</td>\n",
        "      <td>            fabbff@gmail.com</td>\n",
        "      <td> 2015-12-17</td>\n",
        "      <td> 1</td>\n",
        "      <td>  201.90</td>\n",
        "      <td>  201.90</td>\n",
        "      <td> 0</td>\n",
        "      <td> 1</td>\n",
        "      <td>...</td>\n",
        "      <td> 0</td>\n",
        "      <td> 0</td>\n",
        "      <td> 0</td>\n",
        "      <td> 0</td>\n",
        "      <td> 0</td>\n",
        "      <td> 0</td>\n",
        "      <td> 1</td>\n",
        "      <td> 0</td>\n",
        "      <td> 1149.346496</td>\n",
        "      <td> 38.447904</td>\n",
        "    </tr>\n",
        "    <tr>\n",
        "      <th>15  </th>\n",
        "      <td>                  Muaz Munir</td>\n",
        "      <td>                                               NaN</td>\n",
        "      <td>    01001184082</td>\n",
        "      <td>         muazmunir@gmail.com</td>\n",
        "      <td> 2015-12-17</td>\n",
        "      <td> 1</td>\n",
        "      <td>   80.00</td>\n",
        "      <td>   80.00</td>\n",
        "      <td> 0</td>\n",
        "      <td> 1</td>\n",
        "      <td>...</td>\n",
        "      <td> 0</td>\n",
        "      <td> 0</td>\n",
        "      <td> 0</td>\n",
        "      <td> 0</td>\n",
        "      <td> 1</td>\n",
        "      <td> 0</td>\n",
        "      <td> 0</td>\n",
        "      <td> 0</td>\n",
        "      <td> 1149.346496</td>\n",
        "      <td> 38.447904</td>\n",
        "    </tr>\n",
        "    <tr>\n",
        "      <th>16  </th>\n",
        "      <td>               Amal Akhnoukh</td>\n",
        "      <td>                                               NaN</td>\n",
        "      <td>  +201223980020</td>\n",
        "      <td>      amalakhnoukh@gmail.com</td>\n",
        "      <td> 2015-12-17</td>\n",
        "      <td> 1</td>\n",
        "      <td>  305.00</td>\n",
        "      <td>  305.00</td>\n",
        "      <td> 0</td>\n",
        "      <td> 1</td>\n",
        "      <td>...</td>\n",
        "      <td> 0</td>\n",
        "      <td> 0</td>\n",
        "      <td> 0</td>\n",
        "      <td> 1</td>\n",
        "      <td> 0</td>\n",
        "      <td> 0</td>\n",
        "      <td> 0</td>\n",
        "      <td> 0</td>\n",
        "      <td> 1149.346496</td>\n",
        "      <td> 38.447904</td>\n",
        "    </tr>\n",
        "    <tr>\n",
        "      <th>17  </th>\n",
        "      <td>                  Sonja Lang</td>\n",
        "      <td> El-Katameya Residence, Besides JW Marriott Vil...</td>\n",
        "      <td>  0100 942 1880</td>\n",
        "      <td>     sonja.langweb@gmail.com</td>\n",
        "      <td> 2015-12-17</td>\n",
        "      <td> 1</td>\n",
        "      <td> 2235.00</td>\n",
        "      <td> 2235.00</td>\n",
        "      <td> 0</td>\n",
        "      <td> 1</td>\n",
        "      <td>...</td>\n",
        "      <td> 0</td>\n",
        "      <td> 0</td>\n",
        "      <td> 0</td>\n",
        "      <td> 1</td>\n",
        "      <td> 0</td>\n",
        "      <td> 0</td>\n",
        "      <td> 0</td>\n",
        "      <td> 0</td>\n",
        "      <td> 1149.346496</td>\n",
        "      <td> 38.447904</td>\n",
        "    </tr>\n",
        "    <tr>\n",
        "      <th>18  </th>\n",
        "      <td>               MANAR ELKHOLY</td>\n",
        "      <td> Al Ashgar compound, El Wahat Road, opposite dr...</td>\n",
        "      <td>  +201001406762</td>\n",
        "      <td>      manarelkholy@gmail.com</td>\n",
        "      <td> 2015-12-17</td>\n",
        "      <td> 1</td>\n",
        "      <td>  292.60</td>\n",
        "      <td>  292.60</td>\n",
        "      <td> 0</td>\n",
        "      <td> 1</td>\n",
        "      <td>...</td>\n",
        "      <td> 0</td>\n",
        "      <td> 0</td>\n",
        "      <td> 1</td>\n",
        "      <td> 0</td>\n",
        "      <td> 0</td>\n",
        "      <td> 0</td>\n",
        "      <td> 0</td>\n",
        "      <td> 0</td>\n",
        "      <td> 1149.346496</td>\n",
        "      <td> 38.447904</td>\n",
        "    </tr>\n",
        "    <tr>\n",
        "      <th>19  </th>\n",
        "      <td>             Assem Elsalmoum</td>\n",
        "      <td>                                               NaN</td>\n",
        "      <td>    01020357103</td>\n",
        "      <td>       asooome1415@gmail.com</td>\n",
        "      <td> 2015-12-17</td>\n",
        "      <td> 1</td>\n",
        "      <td>  310.00</td>\n",
        "      <td>  310.00</td>\n",
        "      <td> 0</td>\n",
        "      <td> 1</td>\n",
        "      <td>...</td>\n",
        "      <td> 0</td>\n",
        "      <td> 1</td>\n",
        "      <td> 0</td>\n",
        "      <td> 0</td>\n",
        "      <td> 0</td>\n",
        "      <td> 0</td>\n",
        "      <td> 0</td>\n",
        "      <td> 0</td>\n",
        "      <td> 1149.346496</td>\n",
        "      <td> 38.447904</td>\n",
        "    </tr>\n",
        "    <tr>\n",
        "      <th>20  </th>\n",
        "      <td>              Louna Geoffroy</td>\n",
        "      <td> #1 shara 152 (at corner of sh 7) #18, floor 5 ...</td>\n",
        "      <td>    01277714347</td>\n",
        "      <td>     louna_paris@hotmail.com</td>\n",
        "      <td> 2015-12-17</td>\n",
        "      <td> 1</td>\n",
        "      <td>  549.00</td>\n",
        "      <td>  549.00</td>\n",
        "      <td> 0</td>\n",
        "      <td> 1</td>\n",
        "      <td>...</td>\n",
        "      <td> 0</td>\n",
        "      <td> 0</td>\n",
        "      <td> 0</td>\n",
        "      <td> 0</td>\n",
        "      <td> 0</td>\n",
        "      <td> 0</td>\n",
        "      <td> 0</td>\n",
        "      <td> 0</td>\n",
        "      <td> 1149.346496</td>\n",
        "      <td> 38.447904</td>\n",
        "    </tr>\n",
        "    <tr>\n",
        "      <th>21  </th>\n",
        "      <td>         Sahar Mohamed Galal</td>\n",
        "      <td> 2  elshaheed fayez zakaria street / masaken sh...</td>\n",
        "      <td>    01005121848</td>\n",
        "      <td>     oottahsahar@hotmail.com</td>\n",
        "      <td> 2015-12-17</td>\n",
        "      <td> 1</td>\n",
        "      <td>  175.50</td>\n",
        "      <td>  175.50</td>\n",
        "      <td> 1</td>\n",
        "      <td> 0</td>\n",
        "      <td>...</td>\n",
        "      <td> 0</td>\n",
        "      <td> 1</td>\n",
        "      <td> 0</td>\n",
        "      <td> 0</td>\n",
        "      <td> 0</td>\n",
        "      <td> 0</td>\n",
        "      <td> 0</td>\n",
        "      <td> 0</td>\n",
        "      <td> 1149.346496</td>\n",
        "      <td> 38.447904</td>\n",
        "    </tr>\n",
        "    <tr>\n",
        "      <th>22  </th>\n",
        "      <td>                   Eman Taha</td>\n",
        "      <td> 17 Alef /  mohamed mazhar -  /before hilton ho...</td>\n",
        "      <td>    01002288860</td>\n",
        "      <td>           emantah@yahoo.com</td>\n",
        "      <td> 2015-12-17</td>\n",
        "      <td> 1</td>\n",
        "      <td>   89.00</td>\n",
        "      <td>   89.00</td>\n",
        "      <td> 1</td>\n",
        "      <td> 0</td>\n",
        "      <td>...</td>\n",
        "      <td> 1</td>\n",
        "      <td> 0</td>\n",
        "      <td> 0</td>\n",
        "      <td> 0</td>\n",
        "      <td> 0</td>\n",
        "      <td> 0</td>\n",
        "      <td> 0</td>\n",
        "      <td> 0</td>\n",
        "      <td> 1149.346496</td>\n",
        "      <td> 38.447904</td>\n",
        "    </tr>\n",
        "    <tr>\n",
        "      <th>23  </th>\n",
        "      <td>                Beryl Gibson</td>\n",
        "      <td>                                               NaN</td>\n",
        "      <td>    01150041233</td>\n",
        "      <td>  berylegibson@hotmail.co.uk</td>\n",
        "      <td> 2015-12-17</td>\n",
        "      <td> 1</td>\n",
        "      <td>  414.40</td>\n",
        "      <td>  414.40</td>\n",
        "      <td> 1</td>\n",
        "      <td> 0</td>\n",
        "      <td>...</td>\n",
        "      <td> 1</td>\n",
        "      <td> 0</td>\n",
        "      <td> 0</td>\n",
        "      <td> 0</td>\n",
        "      <td> 0</td>\n",
        "      <td> 0</td>\n",
        "      <td> 0</td>\n",
        "      <td> 0</td>\n",
        "      <td> 1149.346496</td>\n",
        "      <td> 38.447904</td>\n",
        "    </tr>\n",
        "    <tr>\n",
        "      <th>24  </th>\n",
        "      <td>            Denise Wilkerson</td>\n",
        "      <td> VILLA 7, 5TH SETTLEMENT, DISTRICT 2, ZONE 1 IN...</td>\n",
        "      <td>    01128500864</td>\n",
        "      <td> denise.wilkerson9@gmail.com</td>\n",
        "      <td> 2015-12-17</td>\n",
        "      <td> 1</td>\n",
        "      <td>  727.80</td>\n",
        "      <td>  727.80</td>\n",
        "      <td> 0</td>\n",
        "      <td> 0</td>\n",
        "      <td>...</td>\n",
        "      <td> 0</td>\n",
        "      <td> 1</td>\n",
        "      <td> 1</td>\n",
        "      <td> 0</td>\n",
        "      <td> 0</td>\n",
        "      <td> 0</td>\n",
        "      <td> 0</td>\n",
        "      <td> 0</td>\n",
        "      <td> 1149.346496</td>\n",
        "      <td> 38.447904</td>\n",
        "    </tr>\n",
        "    <tr>\n",
        "      <th>25  </th>\n",
        "      <td>                 farah selim</td>\n",
        "      <td>     uptown cairo,el mokkatam eleva 10 el mokkatam</td>\n",
        "      <td>    01005471515</td>\n",
        "      <td>     farahsameh@aucegypt.edu</td>\n",
        "      <td> 2015-12-17</td>\n",
        "      <td> 1</td>\n",
        "      <td>  400.00</td>\n",
        "      <td>  400.00</td>\n",
        "      <td> 0</td>\n",
        "      <td> 0</td>\n",
        "      <td>...</td>\n",
        "      <td> 0</td>\n",
        "      <td> 0</td>\n",
        "      <td> 0</td>\n",
        "      <td> 0</td>\n",
        "      <td> 0</td>\n",
        "      <td> 0</td>\n",
        "      <td> 0</td>\n",
        "      <td> 1</td>\n",
        "      <td> 1149.346496</td>\n",
        "      <td> 38.447904</td>\n",
        "    </tr>\n",
        "    <tr>\n",
        "      <th>26  </th>\n",
        "      <td>                 Ali mohamed</td>\n",
        "      <td>                                               NaN</td>\n",
        "      <td>    01016877700</td>\n",
        "      <td>       alinicola92@gmail.com</td>\n",
        "      <td> 2015-12-17</td>\n",
        "      <td> 1</td>\n",
        "      <td>   90.00</td>\n",
        "      <td>   90.00</td>\n",
        "      <td> 0</td>\n",
        "      <td> 0</td>\n",
        "      <td>...</td>\n",
        "      <td> 0</td>\n",
        "      <td> 0</td>\n",
        "      <td> 0</td>\n",
        "      <td> 0</td>\n",
        "      <td> 0</td>\n",
        "      <td> 0</td>\n",
        "      <td> 1</td>\n",
        "      <td> 0</td>\n",
        "      <td> 1149.346496</td>\n",
        "      <td> 38.447904</td>\n",
        "    </tr>\n",
        "    <tr>\n",
        "      <th>27  </th>\n",
        "      <td>         Subaramanian Magudi</td>\n",
        "      <td>                                               NaN</td>\n",
        "      <td>    01060063138</td>\n",
        "      <td>          magudi62@gmail.com</td>\n",
        "      <td> 2015-12-17</td>\n",
        "      <td> 1</td>\n",
        "      <td>   67.00</td>\n",
        "      <td>   67.00</td>\n",
        "      <td> 0</td>\n",
        "      <td> 0</td>\n",
        "      <td>...</td>\n",
        "      <td> 0</td>\n",
        "      <td> 0</td>\n",
        "      <td> 0</td>\n",
        "      <td> 0</td>\n",
        "      <td> 0</td>\n",
        "      <td> 1</td>\n",
        "      <td> 0</td>\n",
        "      <td> 0</td>\n",
        "      <td> 1149.346496</td>\n",
        "      <td> 38.447904</td>\n",
        "    </tr>\n",
        "    <tr>\n",
        "      <th>28  </th>\n",
        "      <td>                Ahmed  Awaad</td>\n",
        "      <td>                                               NaN</td>\n",
        "      <td>    01002544843</td>\n",
        "      <td> samarmohamedhasan@gmail.com</td>\n",
        "      <td> 2015-12-17</td>\n",
        "      <td> 1</td>\n",
        "      <td>  302.40</td>\n",
        "      <td>  302.40</td>\n",
        "      <td> 0</td>\n",
        "      <td> 0</td>\n",
        "      <td>...</td>\n",
        "      <td> 0</td>\n",
        "      <td> 0</td>\n",
        "      <td> 1</td>\n",
        "      <td> 0</td>\n",
        "      <td> 0</td>\n",
        "      <td> 0</td>\n",
        "      <td> 0</td>\n",
        "      <td> 0</td>\n",
        "      <td> 1149.346496</td>\n",
        "      <td> 38.447904</td>\n",
        "    </tr>\n",
        "    <tr>\n",
        "      <th>29  </th>\n",
        "      <td>         Sherine  Abdelhalim</td>\n",
        "      <td>                                               NaN</td>\n",
        "      <td>     0227369300</td>\n",
        "      <td>      sherine789@hotmail.com</td>\n",
        "      <td> 2015-12-17</td>\n",
        "      <td> 1</td>\n",
        "      <td>  260.30</td>\n",
        "      <td>  260.30</td>\n",
        "      <td> 0</td>\n",
        "      <td> 0</td>\n",
        "      <td>...</td>\n",
        "      <td> 0</td>\n",
        "      <td> 1</td>\n",
        "      <td> 0</td>\n",
        "      <td> 0</td>\n",
        "      <td> 0</td>\n",
        "      <td> 0</td>\n",
        "      <td> 0</td>\n",
        "      <td> 0</td>\n",
        "      <td> 1149.346496</td>\n",
        "      <td> 38.447904</td>\n",
        "    </tr>\n",
        "    <tr>\n",
        "      <th>...</th>\n",
        "      <td>...</td>\n",
        "      <td>...</td>\n",
        "      <td>...</td>\n",
        "      <td>...</td>\n",
        "      <td>...</td>\n",
        "      <td>...</td>\n",
        "      <td>...</td>\n",
        "      <td>...</td>\n",
        "      <td>...</td>\n",
        "      <td>...</td>\n",
        "      <td>...</td>\n",
        "      <td>...</td>\n",
        "      <td>...</td>\n",
        "      <td>...</td>\n",
        "      <td>...</td>\n",
        "      <td>...</td>\n",
        "      <td>...</td>\n",
        "      <td>...</td>\n",
        "      <td>...</td>\n",
        "      <td>...</td>\n",
        "      <td>...</td>\n",
        "    </tr>\n",
        "    <tr>\n",
        "      <th>6359</th>\n",
        "      <td>               Amal elguindy</td>\n",
        "      <td>                                               NaN</td>\n",
        "      <td>   01223103921 </td>\n",
        "      <td>     milomilogindi@yahoo.com</td>\n",
        "      <td> 2015-03-26</td>\n",
        "      <td> 1</td>\n",
        "      <td>  351.75</td>\n",
        "      <td>  351.75</td>\n",
        "      <td> 0</td>\n",
        "      <td> 1</td>\n",
        "      <td>...</td>\n",
        "      <td> 0</td>\n",
        "      <td> 0</td>\n",
        "      <td> 0</td>\n",
        "      <td> 1</td>\n",
        "      <td> 0</td>\n",
        "      <td> 0</td>\n",
        "      <td> 0</td>\n",
        "      <td> 0</td>\n",
        "      <td> 1149.346496</td>\n",
        "      <td> 38.447904</td>\n",
        "    </tr>\n",
        "    <tr>\n",
        "      <th>6360</th>\n",
        "      <td>               Amal elguindy</td>\n",
        "      <td>                                               NaN</td>\n",
        "      <td>   01223103921 </td>\n",
        "      <td>     milomilogindi@yahoo.com</td>\n",
        "      <td> 2015-05-07</td>\n",
        "      <td> 1</td>\n",
        "      <td>  633.50</td>\n",
        "      <td>  633.50</td>\n",
        "      <td> 0</td>\n",
        "      <td> 1</td>\n",
        "      <td>...</td>\n",
        "      <td> 0</td>\n",
        "      <td> 0</td>\n",
        "      <td> 0</td>\n",
        "      <td> 0</td>\n",
        "      <td> 1</td>\n",
        "      <td> 1</td>\n",
        "      <td> 0</td>\n",
        "      <td> 0</td>\n",
        "      <td> 1149.346496</td>\n",
        "      <td> 38.447904</td>\n",
        "    </tr>\n",
        "    <tr>\n",
        "      <th>6361</th>\n",
        "      <td>               Amal elguindy</td>\n",
        "      <td>                                               NaN</td>\n",
        "      <td>   01223103921 </td>\n",
        "      <td>     milomilogindi@yahoo.com</td>\n",
        "      <td> 2015-05-21</td>\n",
        "      <td> 1</td>\n",
        "      <td>  402.00</td>\n",
        "      <td>  402.00</td>\n",
        "      <td> 0</td>\n",
        "      <td> 0</td>\n",
        "      <td>...</td>\n",
        "      <td> 0</td>\n",
        "      <td> 0</td>\n",
        "      <td> 0</td>\n",
        "      <td> 0</td>\n",
        "      <td> 1</td>\n",
        "      <td> 0</td>\n",
        "      <td> 0</td>\n",
        "      <td> 0</td>\n",
        "      <td> 1149.346496</td>\n",
        "      <td> 38.447904</td>\n",
        "    </tr>\n",
        "    <tr>\n",
        "      <th>6362</th>\n",
        "      <td>               Amal elguindy</td>\n",
        "      <td>                                               NaN</td>\n",
        "      <td>   01223103921 </td>\n",
        "      <td>     milomilogindi@yahoo.com</td>\n",
        "      <td> 2015-06-25</td>\n",
        "      <td> 1</td>\n",
        "      <td>  307.00</td>\n",
        "      <td>  307.00</td>\n",
        "      <td> 0</td>\n",
        "      <td> 0</td>\n",
        "      <td>...</td>\n",
        "      <td> 0</td>\n",
        "      <td> 1</td>\n",
        "      <td> 1</td>\n",
        "      <td> 0</td>\n",
        "      <td> 0</td>\n",
        "      <td> 0</td>\n",
        "      <td> 0</td>\n",
        "      <td> 0</td>\n",
        "      <td> 1149.346496</td>\n",
        "      <td> 38.447904</td>\n",
        "    </tr>\n",
        "    <tr>\n",
        "      <th>6363</th>\n",
        "      <td>               Amal elguindy</td>\n",
        "      <td>                                               NaN</td>\n",
        "      <td>   01223103921 </td>\n",
        "      <td>     milomilogindi@yahoo.com</td>\n",
        "      <td> 2015-08-13</td>\n",
        "      <td> 1</td>\n",
        "      <td>  240.00</td>\n",
        "      <td>  240.00</td>\n",
        "      <td> 0</td>\n",
        "      <td> 0</td>\n",
        "      <td>...</td>\n",
        "      <td> 0</td>\n",
        "      <td> 0</td>\n",
        "      <td> 0</td>\n",
        "      <td> 0</td>\n",
        "      <td> 1</td>\n",
        "      <td> 0</td>\n",
        "      <td> 0</td>\n",
        "      <td> 0</td>\n",
        "      <td> 1149.346496</td>\n",
        "      <td> 38.447904</td>\n",
        "    </tr>\n",
        "    <tr>\n",
        "      <th>6364</th>\n",
        "      <td>               Amal elguindy</td>\n",
        "      <td>                                               NaN</td>\n",
        "      <td>   01223103921 </td>\n",
        "      <td>     milomilogindi@yahoo.com</td>\n",
        "      <td> 2015-09-10</td>\n",
        "      <td> 1</td>\n",
        "      <td>  173.00</td>\n",
        "      <td>  173.00</td>\n",
        "      <td> 0</td>\n",
        "      <td> 0</td>\n",
        "      <td>...</td>\n",
        "      <td> 0</td>\n",
        "      <td> 0</td>\n",
        "      <td> 0</td>\n",
        "      <td> 0</td>\n",
        "      <td> 1</td>\n",
        "      <td> 0</td>\n",
        "      <td> 0</td>\n",
        "      <td> 0</td>\n",
        "      <td> 1149.346496</td>\n",
        "      <td> 38.447904</td>\n",
        "    </tr>\n",
        "    <tr>\n",
        "      <th>6365</th>\n",
        "      <td>               Amal elguindy</td>\n",
        "      <td>                                               NaN</td>\n",
        "      <td>   01223103921 </td>\n",
        "      <td>     milomilogindi@yahoo.com</td>\n",
        "      <td> 2015-10-08</td>\n",
        "      <td> 1</td>\n",
        "      <td>  330.00</td>\n",
        "      <td>  330.00</td>\n",
        "      <td> 0</td>\n",
        "      <td> 0</td>\n",
        "      <td>...</td>\n",
        "      <td> 0</td>\n",
        "      <td> 0</td>\n",
        "      <td> 0</td>\n",
        "      <td> 0</td>\n",
        "      <td> 1</td>\n",
        "      <td> 0</td>\n",
        "      <td> 0</td>\n",
        "      <td> 0</td>\n",
        "      <td> 1149.346496</td>\n",
        "      <td> 38.447904</td>\n",
        "    </tr>\n",
        "    <tr>\n",
        "      <th>6366</th>\n",
        "      <td>               Amal elguindy</td>\n",
        "      <td>                                               NaN</td>\n",
        "      <td>   01223103921 </td>\n",
        "      <td>     milomilogindi@yahoo.com</td>\n",
        "      <td> 2015-10-29</td>\n",
        "      <td> 1</td>\n",
        "      <td>  286.00</td>\n",
        "      <td>  286.00</td>\n",
        "      <td> 0</td>\n",
        "      <td> 0</td>\n",
        "      <td>...</td>\n",
        "      <td> 0</td>\n",
        "      <td> 0</td>\n",
        "      <td> 0</td>\n",
        "      <td> 0</td>\n",
        "      <td> 1</td>\n",
        "      <td> 0</td>\n",
        "      <td> 0</td>\n",
        "      <td> 0</td>\n",
        "      <td> 1149.346496</td>\n",
        "      <td> 38.447904</td>\n",
        "    </tr>\n",
        "    <tr>\n",
        "      <th>6367</th>\n",
        "      <td>               Amal elguindy</td>\n",
        "      <td>                                               NaN</td>\n",
        "      <td>   01223103921 </td>\n",
        "      <td>     milomilogindi@yahoo.com</td>\n",
        "      <td> 2015-12-10</td>\n",
        "      <td> 1</td>\n",
        "      <td>  280.80</td>\n",
        "      <td>  280.80</td>\n",
        "      <td> 0</td>\n",
        "      <td> 1</td>\n",
        "      <td>...</td>\n",
        "      <td> 0</td>\n",
        "      <td> 1</td>\n",
        "      <td> 0</td>\n",
        "      <td> 0</td>\n",
        "      <td> 0</td>\n",
        "      <td> 1</td>\n",
        "      <td> 0</td>\n",
        "      <td> 0</td>\n",
        "      <td> 1149.346496</td>\n",
        "      <td> 38.447904</td>\n",
        "    </tr>\n",
        "    <tr>\n",
        "      <th>6368</th>\n",
        "      <td>            Pauchez Virginie</td>\n",
        "      <td> Sawaky Camp-Cornish str-Dahar Geisum Hotel-Cor...</td>\n",
        "      <td>    01221383917</td>\n",
        "      <td>        nini.etoile@voila.fr</td>\n",
        "      <td> 2012-05-17</td>\n",
        "      <td> 1</td>\n",
        "      <td>   72.77</td>\n",
        "      <td>   72.77</td>\n",
        "      <td> 0</td>\n",
        "      <td> 1</td>\n",
        "      <td>...</td>\n",
        "      <td> 0</td>\n",
        "      <td> 0</td>\n",
        "      <td> 0</td>\n",
        "      <td> 0</td>\n",
        "      <td> 1</td>\n",
        "      <td> 0</td>\n",
        "      <td> 0</td>\n",
        "      <td> 0</td>\n",
        "      <td> 1149.346496</td>\n",
        "      <td> 38.447904</td>\n",
        "    </tr>\n",
        "    <tr>\n",
        "      <th>6369</th>\n",
        "      <td>               Betty Hedrich</td>\n",
        "      <td>                                               NaN</td>\n",
        "      <td> 00201001098312</td>\n",
        "      <td>         bettyhedrich@gmx.de</td>\n",
        "      <td> 2012-05-17</td>\n",
        "      <td> 1</td>\n",
        "      <td>   41.93</td>\n",
        "      <td>   41.93</td>\n",
        "      <td> 0</td>\n",
        "      <td> 0</td>\n",
        "      <td>...</td>\n",
        "      <td> 0</td>\n",
        "      <td> 0</td>\n",
        "      <td> 0</td>\n",
        "      <td> 0</td>\n",
        "      <td> 0</td>\n",
        "      <td> 1</td>\n",
        "      <td> 0</td>\n",
        "      <td> 0</td>\n",
        "      <td> 1149.346496</td>\n",
        "      <td> 38.447904</td>\n",
        "    </tr>\n",
        "    <tr>\n",
        "      <th>6370</th>\n",
        "      <td>                   Rola Amin</td>\n",
        "      <td>                                               NaN</td>\n",
        "      <td>    01007776172</td>\n",
        "      <td>               rulah@msn.com</td>\n",
        "      <td> 2015-02-12</td>\n",
        "      <td> 1</td>\n",
        "      <td> 1808.20</td>\n",
        "      <td> 1808.20</td>\n",
        "      <td> 0</td>\n",
        "      <td> 0</td>\n",
        "      <td>...</td>\n",
        "      <td> 0</td>\n",
        "      <td> 0</td>\n",
        "      <td> 0</td>\n",
        "      <td> 1</td>\n",
        "      <td> 1</td>\n",
        "      <td> 0</td>\n",
        "      <td> 0</td>\n",
        "      <td> 0</td>\n",
        "      <td> 1149.346496</td>\n",
        "      <td> 38.447904</td>\n",
        "    </tr>\n",
        "    <tr>\n",
        "      <th>6371</th>\n",
        "      <td>                   Rola Amin</td>\n",
        "      <td>                                               NaN</td>\n",
        "      <td>    01007776172</td>\n",
        "      <td>               rulah@msn.com</td>\n",
        "      <td> 2015-09-24</td>\n",
        "      <td> 1</td>\n",
        "      <td> 2086.00</td>\n",
        "      <td> 2086.00</td>\n",
        "      <td> 0</td>\n",
        "      <td> 0</td>\n",
        "      <td>...</td>\n",
        "      <td> 0</td>\n",
        "      <td> 1</td>\n",
        "      <td> 0</td>\n",
        "      <td> 0</td>\n",
        "      <td> 0</td>\n",
        "      <td> 0</td>\n",
        "      <td> 0</td>\n",
        "      <td> 0</td>\n",
        "      <td> 1149.346496</td>\n",
        "      <td> 38.447904</td>\n",
        "    </tr>\n",
        "    <tr>\n",
        "      <th>6372</th>\n",
        "      <td>                   Rola Amin</td>\n",
        "      <td>                                               NaN</td>\n",
        "      <td>    01007776172</td>\n",
        "      <td>               rulah@msn.com</td>\n",
        "      <td> 2015-10-29</td>\n",
        "      <td> 1</td>\n",
        "      <td> 1924.00</td>\n",
        "      <td> 1924.00</td>\n",
        "      <td> 0</td>\n",
        "      <td> 0</td>\n",
        "      <td>...</td>\n",
        "      <td> 0</td>\n",
        "      <td> 0</td>\n",
        "      <td> 0</td>\n",
        "      <td> 0</td>\n",
        "      <td> 0</td>\n",
        "      <td> 1</td>\n",
        "      <td> 0</td>\n",
        "      <td> 0</td>\n",
        "      <td> 1149.346496</td>\n",
        "      <td> 38.447904</td>\n",
        "    </tr>\n",
        "    <tr>\n",
        "      <th>6373</th>\n",
        "      <td> Mr.Akram Mohamed Abu Ashara</td>\n",
        "      <td>              The View compound, Flat 318 Hurghada</td>\n",
        "      <td>    01001514400</td>\n",
        "      <td>         milda_b@hotmail.com</td>\n",
        "      <td> 2012-05-03</td>\n",
        "      <td> 1</td>\n",
        "      <td>  155.55</td>\n",
        "      <td>  155.55</td>\n",
        "      <td> 0</td>\n",
        "      <td> 0</td>\n",
        "      <td>...</td>\n",
        "      <td> 0</td>\n",
        "      <td> 0</td>\n",
        "      <td> 1</td>\n",
        "      <td> 0</td>\n",
        "      <td> 0</td>\n",
        "      <td> 0</td>\n",
        "      <td> 0</td>\n",
        "      <td> 0</td>\n",
        "      <td> 1149.346496</td>\n",
        "      <td> 38.447904</td>\n",
        "    </tr>\n",
        "    <tr>\n",
        "      <th>6374</th>\n",
        "      <td> Mr.Akram Mohamed Abu Ashara</td>\n",
        "      <td>              The View compound, Flat 318 Hurghada</td>\n",
        "      <td>    01001514400</td>\n",
        "      <td>         milda_b@hotmail.com</td>\n",
        "      <td> 2015-03-12</td>\n",
        "      <td> 1</td>\n",
        "      <td>  159.05</td>\n",
        "      <td>  159.05</td>\n",
        "      <td> 0</td>\n",
        "      <td> 0</td>\n",
        "      <td>...</td>\n",
        "      <td> 0</td>\n",
        "      <td> 0</td>\n",
        "      <td> 0</td>\n",
        "      <td> 0</td>\n",
        "      <td> 0</td>\n",
        "      <td> 1</td>\n",
        "      <td> 0</td>\n",
        "      <td> 0</td>\n",
        "      <td> 1149.346496</td>\n",
        "      <td> 38.447904</td>\n",
        "    </tr>\n",
        "    <tr>\n",
        "      <th>6375</th>\n",
        "      <td>          lika novoshinskaya</td>\n",
        "      <td> el kawther,desert pearl ek kawther,desert pear...</td>\n",
        "      <td>    01069553011</td>\n",
        "      <td>      lik-novikova@yandex.ru</td>\n",
        "      <td> 2012-05-17</td>\n",
        "      <td> 1</td>\n",
        "      <td>   56.54</td>\n",
        "      <td>   56.54</td>\n",
        "      <td> 0</td>\n",
        "      <td> 1</td>\n",
        "      <td>...</td>\n",
        "      <td> 0</td>\n",
        "      <td> 0</td>\n",
        "      <td> 0</td>\n",
        "      <td> 0</td>\n",
        "      <td> 1</td>\n",
        "      <td> 0</td>\n",
        "      <td> 0</td>\n",
        "      <td> 0</td>\n",
        "      <td> 1149.346496</td>\n",
        "      <td> 38.447904</td>\n",
        "    </tr>\n",
        "    <tr>\n",
        "      <th>6376</th>\n",
        "      <td>          lika novoshinskaya</td>\n",
        "      <td> el kawther,desert pearl ek kawther,desert pear...</td>\n",
        "      <td>    01069553011</td>\n",
        "      <td>      lik-novikova@yandex.ru</td>\n",
        "      <td> 2012-05-24</td>\n",
        "      <td> 1</td>\n",
        "      <td>   96.44</td>\n",
        "      <td>   96.44</td>\n",
        "      <td> 1</td>\n",
        "      <td> 0</td>\n",
        "      <td>...</td>\n",
        "      <td> 0</td>\n",
        "      <td> 0</td>\n",
        "      <td> 0</td>\n",
        "      <td> 0</td>\n",
        "      <td> 0</td>\n",
        "      <td> 1</td>\n",
        "      <td> 0</td>\n",
        "      <td> 0</td>\n",
        "      <td> 1149.346496</td>\n",
        "      <td> 38.447904</td>\n",
        "    </tr>\n",
        "    <tr>\n",
        "      <th>6377</th>\n",
        "      <td>          lika novoshinskaya</td>\n",
        "      <td> el kawther,desert pearl ek kawther,desert pear...</td>\n",
        "      <td>    01069553011</td>\n",
        "      <td>      lik-novikova@yandex.ru</td>\n",
        "      <td> 2012-06-28</td>\n",
        "      <td> 1</td>\n",
        "      <td>   91.54</td>\n",
        "      <td>   91.54</td>\n",
        "      <td> 1</td>\n",
        "      <td> 0</td>\n",
        "      <td>...</td>\n",
        "      <td> 0</td>\n",
        "      <td> 0</td>\n",
        "      <td> 0</td>\n",
        "      <td> 1</td>\n",
        "      <td> 0</td>\n",
        "      <td> 0</td>\n",
        "      <td> 0</td>\n",
        "      <td> 0</td>\n",
        "      <td> 1149.346496</td>\n",
        "      <td> 38.447904</td>\n",
        "    </tr>\n",
        "    <tr>\n",
        "      <th>6378</th>\n",
        "      <td>          lika novoshinskaya</td>\n",
        "      <td> el kawther,desert pearl ek kawther,desert pear...</td>\n",
        "      <td>    01069553011</td>\n",
        "      <td>      lik-novikova@yandex.ru</td>\n",
        "      <td> 2012-09-06</td>\n",
        "      <td> 1</td>\n",
        "      <td>  105.10</td>\n",
        "      <td>  105.10</td>\n",
        "      <td> 1</td>\n",
        "      <td> 0</td>\n",
        "      <td>...</td>\n",
        "      <td> 0</td>\n",
        "      <td> 0</td>\n",
        "      <td> 1</td>\n",
        "      <td> 0</td>\n",
        "      <td> 0</td>\n",
        "      <td> 0</td>\n",
        "      <td> 0</td>\n",
        "      <td> 0</td>\n",
        "      <td> 1149.346496</td>\n",
        "      <td> 38.447904</td>\n",
        "    </tr>\n",
        "    <tr>\n",
        "      <th>6379</th>\n",
        "      <td>               bente ringnes</td>\n",
        "      <td>                                               NaN</td>\n",
        "      <td>    01141437074</td>\n",
        "      <td>         bente.ring@yahoo.no</td>\n",
        "      <td> 2012-04-26</td>\n",
        "      <td> 1</td>\n",
        "      <td>  144.63</td>\n",
        "      <td>  144.63</td>\n",
        "      <td> 0</td>\n",
        "      <td> 0</td>\n",
        "      <td>...</td>\n",
        "      <td> 0</td>\n",
        "      <td> 0</td>\n",
        "      <td> 0</td>\n",
        "      <td> 0</td>\n",
        "      <td> 1</td>\n",
        "      <td> 0</td>\n",
        "      <td> 0</td>\n",
        "      <td> 0</td>\n",
        "      <td> 1149.346496</td>\n",
        "      <td> 38.447904</td>\n",
        "    </tr>\n",
        "    <tr>\n",
        "      <th>6380</th>\n",
        "      <td>               bente ringnes</td>\n",
        "      <td>                                               NaN</td>\n",
        "      <td>    01141437074</td>\n",
        "      <td>         bente.ring@yahoo.no</td>\n",
        "      <td> 2012-05-03</td>\n",
        "      <td> 1</td>\n",
        "      <td>  289.27</td>\n",
        "      <td>  289.27</td>\n",
        "      <td> 0</td>\n",
        "      <td> 1</td>\n",
        "      <td>...</td>\n",
        "      <td> 0</td>\n",
        "      <td> 1</td>\n",
        "      <td> 1</td>\n",
        "      <td> 0</td>\n",
        "      <td> 0</td>\n",
        "      <td> 0</td>\n",
        "      <td> 0</td>\n",
        "      <td> 0</td>\n",
        "      <td> 1149.346496</td>\n",
        "      <td> 38.447904</td>\n",
        "    </tr>\n",
        "    <tr>\n",
        "      <th>6381</th>\n",
        "      <td>               bente ringnes</td>\n",
        "      <td>                                               NaN</td>\n",
        "      <td>    01141437074</td>\n",
        "      <td>         bente.ring@yahoo.no</td>\n",
        "      <td> 2012-11-08</td>\n",
        "      <td> 1</td>\n",
        "      <td>  659.79</td>\n",
        "      <td>  659.79</td>\n",
        "      <td> 1</td>\n",
        "      <td> 0</td>\n",
        "      <td>...</td>\n",
        "      <td> 0</td>\n",
        "      <td> 0</td>\n",
        "      <td> 0</td>\n",
        "      <td> 0</td>\n",
        "      <td> 0</td>\n",
        "      <td> 0</td>\n",
        "      <td> 0</td>\n",
        "      <td> 1</td>\n",
        "      <td> 1149.346496</td>\n",
        "      <td> 38.447904</td>\n",
        "    </tr>\n",
        "    <tr>\n",
        "      <th>6382</th>\n",
        "      <td>               bente ringnes</td>\n",
        "      <td>                                               NaN</td>\n",
        "      <td>    01141437074</td>\n",
        "      <td>         bente.ring@yahoo.no</td>\n",
        "      <td> 2012-11-22</td>\n",
        "      <td> 1</td>\n",
        "      <td>  276.95</td>\n",
        "      <td>  276.95</td>\n",
        "      <td> 1</td>\n",
        "      <td> 0</td>\n",
        "      <td>...</td>\n",
        "      <td> 0</td>\n",
        "      <td> 0</td>\n",
        "      <td> 0</td>\n",
        "      <td> 0</td>\n",
        "      <td> 0</td>\n",
        "      <td> 0</td>\n",
        "      <td> 1</td>\n",
        "      <td> 0</td>\n",
        "      <td> 1149.346496</td>\n",
        "      <td> 38.447904</td>\n",
        "    </tr>\n",
        "    <tr>\n",
        "      <th>6383</th>\n",
        "      <td>               bente ringnes</td>\n",
        "      <td>                                               NaN</td>\n",
        "      <td>    01141437074</td>\n",
        "      <td>         bente.ring@yahoo.no</td>\n",
        "      <td> 2012-11-29</td>\n",
        "      <td> 1</td>\n",
        "      <td>  314.78</td>\n",
        "      <td>  314.78</td>\n",
        "      <td> 0</td>\n",
        "      <td> 0</td>\n",
        "      <td>...</td>\n",
        "      <td> 0</td>\n",
        "      <td> 0</td>\n",
        "      <td> 0</td>\n",
        "      <td> 0</td>\n",
        "      <td> 0</td>\n",
        "      <td> 1</td>\n",
        "      <td> 0</td>\n",
        "      <td> 0</td>\n",
        "      <td> 1149.346496</td>\n",
        "      <td> 38.447904</td>\n",
        "    </tr>\n",
        "    <tr>\n",
        "      <th>6384</th>\n",
        "      <td>               bente ringnes</td>\n",
        "      <td>                                               NaN</td>\n",
        "      <td>    01141437074</td>\n",
        "      <td>         bente.ring@yahoo.no</td>\n",
        "      <td> 2013-02-28</td>\n",
        "      <td> 1</td>\n",
        "      <td>  599.77</td>\n",
        "      <td>  599.77</td>\n",
        "      <td> 0</td>\n",
        "      <td> 0</td>\n",
        "      <td>...</td>\n",
        "      <td> 0</td>\n",
        "      <td> 0</td>\n",
        "      <td> 0</td>\n",
        "      <td> 0</td>\n",
        "      <td> 0</td>\n",
        "      <td> 0</td>\n",
        "      <td> 0</td>\n",
        "      <td> 1</td>\n",
        "      <td> 1149.346496</td>\n",
        "      <td> 38.447904</td>\n",
        "    </tr>\n",
        "    <tr>\n",
        "      <th>6385</th>\n",
        "      <td>               bente ringnes</td>\n",
        "      <td>                                               NaN</td>\n",
        "      <td>    01141437074</td>\n",
        "      <td>         bente.ring@yahoo.no</td>\n",
        "      <td> 2013-03-21</td>\n",
        "      <td> 1</td>\n",
        "      <td>  952.71</td>\n",
        "      <td>  952.71</td>\n",
        "      <td> 0</td>\n",
        "      <td> 0</td>\n",
        "      <td>...</td>\n",
        "      <td> 0</td>\n",
        "      <td> 0</td>\n",
        "      <td> 0</td>\n",
        "      <td> 0</td>\n",
        "      <td> 1</td>\n",
        "      <td> 0</td>\n",
        "      <td> 0</td>\n",
        "      <td> 0</td>\n",
        "      <td> 1149.346496</td>\n",
        "      <td> 38.447904</td>\n",
        "    </tr>\n",
        "    <tr>\n",
        "      <th>6386</th>\n",
        "      <td>               bente ringnes</td>\n",
        "      <td>                                               NaN</td>\n",
        "      <td>    01141437074</td>\n",
        "      <td>         bente.ring@yahoo.no</td>\n",
        "      <td> 2013-04-04</td>\n",
        "      <td> 1</td>\n",
        "      <td>  715.47</td>\n",
        "      <td>  715.47</td>\n",
        "      <td> 0</td>\n",
        "      <td> 1</td>\n",
        "      <td>...</td>\n",
        "      <td> 0</td>\n",
        "      <td> 0</td>\n",
        "      <td> 0</td>\n",
        "      <td> 0</td>\n",
        "      <td> 0</td>\n",
        "      <td> 1</td>\n",
        "      <td> 0</td>\n",
        "      <td> 0</td>\n",
        "      <td> 1149.346496</td>\n",
        "      <td> 38.447904</td>\n",
        "    </tr>\n",
        "    <tr>\n",
        "      <th>6387</th>\n",
        "      <td>               bente ringnes</td>\n",
        "      <td>                                               NaN</td>\n",
        "      <td>    01141437074</td>\n",
        "      <td>         bente.ring@yahoo.no</td>\n",
        "      <td> 2013-11-07</td>\n",
        "      <td> 1</td>\n",
        "      <td> 1027.26</td>\n",
        "      <td> 1027.26</td>\n",
        "      <td> 1</td>\n",
        "      <td> 0</td>\n",
        "      <td>...</td>\n",
        "      <td> 0</td>\n",
        "      <td> 0</td>\n",
        "      <td> 0</td>\n",
        "      <td> 0</td>\n",
        "      <td> 0</td>\n",
        "      <td> 1</td>\n",
        "      <td> 0</td>\n",
        "      <td> 0</td>\n",
        "      <td> 1149.346496</td>\n",
        "      <td> 38.447904</td>\n",
        "    </tr>\n",
        "    <tr>\n",
        "      <th>6388</th>\n",
        "      <td>                   Cathy Pod</td>\n",
        "      <td>     el kyadat behind cowboy, corniche st hurghada</td>\n",
        "      <td>    01224061449</td>\n",
        "      <td>        cathypod@hotmail.com</td>\n",
        "      <td> 2012-04-26</td>\n",
        "      <td> 1</td>\n",
        "      <td>   54.60</td>\n",
        "      <td>   54.60</td>\n",
        "      <td> 0</td>\n",
        "      <td> 0</td>\n",
        "      <td>...</td>\n",
        "      <td> 0</td>\n",
        "      <td> 0</td>\n",
        "      <td> 0</td>\n",
        "      <td> 0</td>\n",
        "      <td> 0</td>\n",
        "      <td> 0</td>\n",
        "      <td> 0</td>\n",
        "      <td> 1</td>\n",
        "      <td> 1149.346496</td>\n",
        "      <td> 38.447904</td>\n",
        "    </tr>\n",
        "  </tbody>\n",
        "</table>\n",
        "<p>6389 rows \u00d7 29 columns</p>\n",
        "</div>"
       ],
       "metadata": {},
       "output_type": "pyout",
       "prompt_number": 20,
       "text": [
        "                             Name  \\\n",
        "0                  Rehab  Mansour   \n",
        "1               Francesca Cicardi   \n",
        "2                 Ahmed Aboulella   \n",
        "3                    Laila  akram   \n",
        "4                    Sally  Salem   \n",
        "5                  Gaylyn Mbogho    \n",
        "6                        Daii Ali   \n",
        "7                        Yara Ali   \n",
        "8                  Hazem El Shamy   \n",
        "9                      James Belk   \n",
        "10                     Maro Maher   \n",
        "11                     Heba Belal   \n",
        "12                  Pascale Nader   \n",
        "13                   Rania Hassan   \n",
        "14                 Mervat Elgamal   \n",
        "15                     Muaz Munir   \n",
        "16                  Amal Akhnoukh   \n",
        "17                     Sonja Lang   \n",
        "18                  MANAR ELKHOLY   \n",
        "19                Assem Elsalmoum   \n",
        "20                 Louna Geoffroy   \n",
        "21            Sahar Mohamed Galal   \n",
        "22                      Eman Taha   \n",
        "23                   Beryl Gibson   \n",
        "24               Denise Wilkerson   \n",
        "25                    farah selim   \n",
        "26                    Ali mohamed   \n",
        "27            Subaramanian Magudi   \n",
        "28                   Ahmed  Awaad   \n",
        "29            Sherine  Abdelhalim   \n",
        "...                           ...   \n",
        "6359                Amal elguindy   \n",
        "6360                Amal elguindy   \n",
        "6361                Amal elguindy   \n",
        "6362                Amal elguindy   \n",
        "6363                Amal elguindy   \n",
        "6364                Amal elguindy   \n",
        "6365                Amal elguindy   \n",
        "6366                Amal elguindy   \n",
        "6367                Amal elguindy   \n",
        "6368             Pauchez Virginie   \n",
        "6369                Betty Hedrich   \n",
        "6370                    Rola Amin   \n",
        "6371                    Rola Amin   \n",
        "6372                    Rola Amin   \n",
        "6373  Mr.Akram Mohamed Abu Ashara   \n",
        "6374  Mr.Akram Mohamed Abu Ashara   \n",
        "6375           lika novoshinskaya   \n",
        "6376           lika novoshinskaya   \n",
        "6377           lika novoshinskaya   \n",
        "6378           lika novoshinskaya   \n",
        "6379                bente ringnes   \n",
        "6380                bente ringnes   \n",
        "6381                bente ringnes   \n",
        "6382                bente ringnes   \n",
        "6383                bente ringnes   \n",
        "6384                bente ringnes   \n",
        "6385                bente ringnes   \n",
        "6386                bente ringnes   \n",
        "6387                bente ringnes   \n",
        "6388                    Cathy Pod   \n",
        "\n",
        "                                                Address           Phone  \\\n",
        "0     8 Al Shahid Ahmed Zaki St. Behind El Obour Bld...     01001607028   \n",
        "1          5, Fouad al Ahwany 1st floor, apt. 3 Zamalek     01203038029   \n",
        "2            10 Tahreer St, Sheraton Heliopolis 8 Cairo   +201009936633   \n",
        "3                                                   NaN     01008108200   \n",
        "4                                                   NaN     01222484466   \n",
        "5                              Rd232 Build9 Apt11 Cairo     01006921218   \n",
        "6                                                   NaN     01111397206   \n",
        "7                   7 Youssef Abbas St. Nasr City Cairo     01227357774   \n",
        "8     6th of october, sheikh zayed city, zayed 2000 ...     01140222020   \n",
        "9                                                   NaN      8168358620   \n",
        "10    15 Ismail Mohamed st. Borg Jedda- opposite Kol...     01016131364   \n",
        "11    \u0645\u064a\u062f\u0627\u0646 \u0627\u0644\u062c\u0645\u0647\u0648\u0631\u064a\u0629 \u0645\u062a\u0641\u0631\u0639 \u0645\u0646 \u0627\u0644\u0628\u0637\u0644 \u0627\u062d\u0645\u062f \u0639\u0628\u062f \u0627\u0644\u0639\u0632\u064a\u0632...     01000323444   \n",
        "12    6, Hassan sabry street, zamalek 12 floor, apt ...     01201019007   \n",
        "13                                                  NaN     01222127426   \n",
        "14                                                  NaN   0201005540036   \n",
        "15                                                  NaN     01001184082   \n",
        "16                                                  NaN   +201223980020   \n",
        "17    El-Katameya Residence, Besides JW Marriott Vil...   0100 942 1880   \n",
        "18    Al Ashgar compound, El Wahat Road, opposite dr...   +201001406762   \n",
        "19                                                  NaN     01020357103   \n",
        "20    #1 shara 152 (at corner of sh 7) #18, floor 5 ...     01277714347   \n",
        "21    2  elshaheed fayez zakaria street / masaken sh...     01005121848   \n",
        "22    17 Alef /  mohamed mazhar -  /before hilton ho...     01002288860   \n",
        "23                                                  NaN     01150041233   \n",
        "24    VILLA 7, 5TH SETTLEMENT, DISTRICT 2, ZONE 1 IN...     01128500864   \n",
        "25        uptown cairo,el mokkatam eleva 10 el mokkatam     01005471515   \n",
        "26                                                  NaN     01016877700   \n",
        "27                                                  NaN     01060063138   \n",
        "28                                                  NaN     01002544843   \n",
        "29                                                  NaN      0227369300   \n",
        "...                                                 ...             ...   \n",
        "6359                                                NaN    01223103921    \n",
        "6360                                                NaN    01223103921    \n",
        "6361                                                NaN    01223103921    \n",
        "6362                                                NaN    01223103921    \n",
        "6363                                                NaN    01223103921    \n",
        "6364                                                NaN    01223103921    \n",
        "6365                                                NaN    01223103921    \n",
        "6366                                                NaN    01223103921    \n",
        "6367                                                NaN    01223103921    \n",
        "6368  Sawaky Camp-Cornish str-Dahar Geisum Hotel-Cor...     01221383917   \n",
        "6369                                                NaN  00201001098312   \n",
        "6370                                                NaN     01007776172   \n",
        "6371                                                NaN     01007776172   \n",
        "6372                                                NaN     01007776172   \n",
        "6373               The View compound, Flat 318 Hurghada     01001514400   \n",
        "6374               The View compound, Flat 318 Hurghada     01001514400   \n",
        "6375  el kawther,desert pearl ek kawther,desert pear...     01069553011   \n",
        "6376  el kawther,desert pearl ek kawther,desert pear...     01069553011   \n",
        "6377  el kawther,desert pearl ek kawther,desert pear...     01069553011   \n",
        "6378  el kawther,desert pearl ek kawther,desert pear...     01069553011   \n",
        "6379                                                NaN     01141437074   \n",
        "6380                                                NaN     01141437074   \n",
        "6381                                                NaN     01141437074   \n",
        "6382                                                NaN     01141437074   \n",
        "6383                                                NaN     01141437074   \n",
        "6384                                                NaN     01141437074   \n",
        "6385                                                NaN     01141437074   \n",
        "6386                                                NaN     01141437074   \n",
        "6387                                                NaN     01141437074   \n",
        "6388      el kyadat behind cowboy, corniche st hurghada     01224061449   \n",
        "\n",
        "                            Email        Date  Total orders  Revenue  \\\n",
        "0          rehabmansour@gmail.com  2015-12-17             1   375.30   \n",
        "1          fracicardi@hotmail.com  2015-12-17             1   114.60   \n",
        "2          ahmed.fakhry@gmail.com  2015-12-17             1  1020.20   \n",
        "3            Missilou11@yahoo.com  2015-12-17             1    70.20   \n",
        "4         sallysalem123@gmail.com  2015-12-17             1   316.80   \n",
        "5          gaylynmbogho@yahoo.com  2015-12-17             1   300.60   \n",
        "6            Daiieldeeb@gmail.com  2015-12-17             1   118.80   \n",
        "7             yara.azam@gmail.com  2015-12-17             1    57.80   \n",
        "8           hazem.shamy@gmail.com  2015-12-17             1   163.00   \n",
        "9       jamesmorgan0091@gmail.com  2015-12-17             1    57.60   \n",
        "10         RODY.DOVE123@GMAIL.COM  2015-12-17             1   340.00   \n",
        "11            hibba_b@hotmail.com  2015-12-17             1   134.10   \n",
        "12         pascalenader@gmail.com  2015-12-17             1   209.20   \n",
        "13              r_h_ali@yahoo.com  2015-12-17             1   100.00   \n",
        "14               fabbff@gmail.com  2015-12-17             1   201.90   \n",
        "15            muazmunir@gmail.com  2015-12-17             1    80.00   \n",
        "16         amalakhnoukh@gmail.com  2015-12-17             1   305.00   \n",
        "17        sonja.langweb@gmail.com  2015-12-17             1  2235.00   \n",
        "18         manarelkholy@gmail.com  2015-12-17             1   292.60   \n",
        "19          asooome1415@gmail.com  2015-12-17             1   310.00   \n",
        "20        louna_paris@hotmail.com  2015-12-17             1   549.00   \n",
        "21        oottahsahar@hotmail.com  2015-12-17             1   175.50   \n",
        "22              emantah@yahoo.com  2015-12-17             1    89.00   \n",
        "23     berylegibson@hotmail.co.uk  2015-12-17             1   414.40   \n",
        "24    denise.wilkerson9@gmail.com  2015-12-17             1   727.80   \n",
        "25        farahsameh@aucegypt.edu  2015-12-17             1   400.00   \n",
        "26          alinicola92@gmail.com  2015-12-17             1    90.00   \n",
        "27             magudi62@gmail.com  2015-12-17             1    67.00   \n",
        "28    samarmohamedhasan@gmail.com  2015-12-17             1   302.40   \n",
        "29         sherine789@hotmail.com  2015-12-17             1   260.30   \n",
        "...                           ...         ...           ...      ...   \n",
        "6359      milomilogindi@yahoo.com  2015-03-26             1   351.75   \n",
        "6360      milomilogindi@yahoo.com  2015-05-07             1   633.50   \n",
        "6361      milomilogindi@yahoo.com  2015-05-21             1   402.00   \n",
        "6362      milomilogindi@yahoo.com  2015-06-25             1   307.00   \n",
        "6363      milomilogindi@yahoo.com  2015-08-13             1   240.00   \n",
        "6364      milomilogindi@yahoo.com  2015-09-10             1   173.00   \n",
        "6365      milomilogindi@yahoo.com  2015-10-08             1   330.00   \n",
        "6366      milomilogindi@yahoo.com  2015-10-29             1   286.00   \n",
        "6367      milomilogindi@yahoo.com  2015-12-10             1   280.80   \n",
        "6368         nini.etoile@voila.fr  2012-05-17             1    72.77   \n",
        "6369          bettyhedrich@gmx.de  2012-05-17             1    41.93   \n",
        "6370                rulah@msn.com  2015-02-12             1  1808.20   \n",
        "6371                rulah@msn.com  2015-09-24             1  2086.00   \n",
        "6372                rulah@msn.com  2015-10-29             1  1924.00   \n",
        "6373          milda_b@hotmail.com  2012-05-03             1   155.55   \n",
        "6374          milda_b@hotmail.com  2015-03-12             1   159.05   \n",
        "6375       lik-novikova@yandex.ru  2012-05-17             1    56.54   \n",
        "6376       lik-novikova@yandex.ru  2012-05-24             1    96.44   \n",
        "6377       lik-novikova@yandex.ru  2012-06-28             1    91.54   \n",
        "6378       lik-novikova@yandex.ru  2012-09-06             1   105.10   \n",
        "6379          bente.ring@yahoo.no  2012-04-26             1   144.63   \n",
        "6380          bente.ring@yahoo.no  2012-05-03             1   289.27   \n",
        "6381          bente.ring@yahoo.no  2012-11-08             1   659.79   \n",
        "6382          bente.ring@yahoo.no  2012-11-22             1   276.95   \n",
        "6383          bente.ring@yahoo.no  2012-11-29             1   314.78   \n",
        "6384          bente.ring@yahoo.no  2013-02-28             1   599.77   \n",
        "6385          bente.ring@yahoo.no  2013-03-21             1   952.71   \n",
        "6386          bente.ring@yahoo.no  2013-04-04             1   715.47   \n",
        "6387          bente.ring@yahoo.no  2013-11-07             1  1027.26   \n",
        "6388         cathypod@hotmail.com  2012-04-26             1    54.60   \n",
        "\n",
        "      Basket Value  Sunday  Monday         ...           8:00 - 10:00  \\\n",
        "0           375.30       0       0         ...                      0   \n",
        "1           114.60       0       0         ...                      0   \n",
        "2          1020.20       0       0         ...                      0   \n",
        "3            70.20       0       0         ...                      0   \n",
        "4           316.80       0       0         ...                      0   \n",
        "5           300.60       0       0         ...                      0   \n",
        "6           118.80       0       0         ...                      0   \n",
        "7            57.80       0       0         ...                      0   \n",
        "8           163.00       0       0         ...                      0   \n",
        "9            57.60       0       0         ...                      0   \n",
        "10          340.00       0       0         ...                      0   \n",
        "11          134.10       0       0         ...                      0   \n",
        "12          209.20       0       0         ...                      0   \n",
        "13          100.00       0       0         ...                      1   \n",
        "14          201.90       0       1         ...                      0   \n",
        "15           80.00       0       1         ...                      0   \n",
        "16          305.00       0       1         ...                      0   \n",
        "17         2235.00       0       1         ...                      0   \n",
        "18          292.60       0       1         ...                      0   \n",
        "19          310.00       0       1         ...                      0   \n",
        "20          549.00       0       1         ...                      0   \n",
        "21          175.50       1       0         ...                      0   \n",
        "22           89.00       1       0         ...                      1   \n",
        "23          414.40       1       0         ...                      1   \n",
        "24          727.80       0       0         ...                      0   \n",
        "25          400.00       0       0         ...                      0   \n",
        "26           90.00       0       0         ...                      0   \n",
        "27           67.00       0       0         ...                      0   \n",
        "28          302.40       0       0         ...                      0   \n",
        "29          260.30       0       0         ...                      0   \n",
        "...            ...     ...     ...         ...                    ...   \n",
        "6359        351.75       0       1         ...                      0   \n",
        "6360        633.50       0       1         ...                      0   \n",
        "6361        402.00       0       0         ...                      0   \n",
        "6362        307.00       0       0         ...                      0   \n",
        "6363        240.00       0       0         ...                      0   \n",
        "6364        173.00       0       0         ...                      0   \n",
        "6365        330.00       0       0         ...                      0   \n",
        "6366        286.00       0       0         ...                      0   \n",
        "6367        280.80       0       1         ...                      0   \n",
        "6368         72.77       0       1         ...                      0   \n",
        "6369         41.93       0       0         ...                      0   \n",
        "6370       1808.20       0       0         ...                      0   \n",
        "6371       2086.00       0       0         ...                      0   \n",
        "6372       1924.00       0       0         ...                      0   \n",
        "6373        155.55       0       0         ...                      0   \n",
        "6374        159.05       0       0         ...                      0   \n",
        "6375         56.54       0       1         ...                      0   \n",
        "6376         96.44       1       0         ...                      0   \n",
        "6377         91.54       1       0         ...                      0   \n",
        "6378        105.10       1       0         ...                      0   \n",
        "6379        144.63       0       0         ...                      0   \n",
        "6380        289.27       0       1         ...                      0   \n",
        "6381        659.79       1       0         ...                      0   \n",
        "6382        276.95       1       0         ...                      0   \n",
        "6383        314.78       0       0         ...                      0   \n",
        "6384        599.77       0       0         ...                      0   \n",
        "6385        952.71       0       0         ...                      0   \n",
        "6386        715.47       0       1         ...                      0   \n",
        "6387       1027.26       1       0         ...                      0   \n",
        "6388         54.60       0       0         ...                      0   \n",
        "\n",
        "      10:00 - 12:00  12:00 - 14:00  14:00 - 16:00  16:00 - 18:00  \\\n",
        "0                 0              0              0              0   \n",
        "1                 0              0              0              0   \n",
        "2                 0              0              0              1   \n",
        "3                 0              0              1              0   \n",
        "4                 0              1              0              0   \n",
        "5                 0              1              0              0   \n",
        "6                 1              0              0              0   \n",
        "7                 1              0              0              0   \n",
        "8                 0              0              0              0   \n",
        "9                 0              0              0              0   \n",
        "10                0              0              0              1   \n",
        "11                0              0              1              0   \n",
        "12                0              0              1              0   \n",
        "13                0              0              0              0   \n",
        "14                0              0              0              0   \n",
        "15                0              0              0              1   \n",
        "16                0              0              1              0   \n",
        "17                0              0              1              0   \n",
        "18                0              1              0              0   \n",
        "19                1              0              0              0   \n",
        "20                0              0              0              0   \n",
        "21                1              0              0              0   \n",
        "22                0              0              0              0   \n",
        "23                0              0              0              0   \n",
        "24                1              1              0              0   \n",
        "25                0              0              0              0   \n",
        "26                0              0              0              0   \n",
        "27                0              0              0              0   \n",
        "28                0              1              0              0   \n",
        "29                1              0              0              0   \n",
        "...             ...            ...            ...            ...   \n",
        "6359              0              0              1              0   \n",
        "6360              0              0              0              1   \n",
        "6361              0              0              0              1   \n",
        "6362              1              1              0              0   \n",
        "6363              0              0              0              1   \n",
        "6364              0              0              0              1   \n",
        "6365              0              0              0              1   \n",
        "6366              0              0              0              1   \n",
        "6367              1              0              0              0   \n",
        "6368              0              0              0              1   \n",
        "6369              0              0              0              0   \n",
        "6370              0              0              1              1   \n",
        "6371              1              0              0              0   \n",
        "6372              0              0              0              0   \n",
        "6373              0              1              0              0   \n",
        "6374              0              0              0              0   \n",
        "6375              0              0              0              1   \n",
        "6376              0              0              0              0   \n",
        "6377              0              0              1              0   \n",
        "6378              0              1              0              0   \n",
        "6379              0              0              0              1   \n",
        "6380              1              1              0              0   \n",
        "6381              0              0              0              0   \n",
        "6382              0              0              0              0   \n",
        "6383              0              0              0              0   \n",
        "6384              0              0              0              0   \n",
        "6385              0              0              0              1   \n",
        "6386              0              0              0              0   \n",
        "6387              0              0              0              0   \n",
        "6388              0              0              0              0   \n",
        "\n",
        "      18:00 - 20:00  20:00 - 22:00  22:00 - 0:00  Average Revenue  \\\n",
        "0                 0              1             0      1149.346496   \n",
        "1                 1              0             0      1149.346496   \n",
        "2                 0              0             0      1149.346496   \n",
        "3                 0              0             0      1149.346496   \n",
        "4                 0              0             0      1149.346496   \n",
        "5                 0              0             0      1149.346496   \n",
        "6                 0              0             0      1149.346496   \n",
        "7                 0              0             0      1149.346496   \n",
        "8                 0              0             0      1149.346496   \n",
        "9                 1              0             0      1149.346496   \n",
        "10                0              0             0      1149.346496   \n",
        "11                0              0             0      1149.346496   \n",
        "12                0              0             0      1149.346496   \n",
        "13                0              0             0      1149.346496   \n",
        "14                0              1             0      1149.346496   \n",
        "15                0              0             0      1149.346496   \n",
        "16                0              0             0      1149.346496   \n",
        "17                0              0             0      1149.346496   \n",
        "18                0              0             0      1149.346496   \n",
        "19                0              0             0      1149.346496   \n",
        "20                0              0             0      1149.346496   \n",
        "21                0              0             0      1149.346496   \n",
        "22                0              0             0      1149.346496   \n",
        "23                0              0             0      1149.346496   \n",
        "24                0              0             0      1149.346496   \n",
        "25                0              0             1      1149.346496   \n",
        "26                0              1             0      1149.346496   \n",
        "27                1              0             0      1149.346496   \n",
        "28                0              0             0      1149.346496   \n",
        "29                0              0             0      1149.346496   \n",
        "...             ...            ...           ...              ...   \n",
        "6359              0              0             0      1149.346496   \n",
        "6360              1              0             0      1149.346496   \n",
        "6361              0              0             0      1149.346496   \n",
        "6362              0              0             0      1149.346496   \n",
        "6363              0              0             0      1149.346496   \n",
        "6364              0              0             0      1149.346496   \n",
        "6365              0              0             0      1149.346496   \n",
        "6366              0              0             0      1149.346496   \n",
        "6367              1              0             0      1149.346496   \n",
        "6368              0              0             0      1149.346496   \n",
        "6369              1              0             0      1149.346496   \n",
        "6370              0              0             0      1149.346496   \n",
        "6371              0              0             0      1149.346496   \n",
        "6372              1              0             0      1149.346496   \n",
        "6373              0              0             0      1149.346496   \n",
        "6374              1              0             0      1149.346496   \n",
        "6375              0              0             0      1149.346496   \n",
        "6376              1              0             0      1149.346496   \n",
        "6377              0              0             0      1149.346496   \n",
        "6378              0              0             0      1149.346496   \n",
        "6379              0              0             0      1149.346496   \n",
        "6380              0              0             0      1149.346496   \n",
        "6381              0              0             1      1149.346496   \n",
        "6382              0              1             0      1149.346496   \n",
        "6383              1              0             0      1149.346496   \n",
        "6384              0              0             1      1149.346496   \n",
        "6385              0              0             0      1149.346496   \n",
        "6386              1              0             0      1149.346496   \n",
        "6387              1              0             0      1149.346496   \n",
        "6388              0              0             1      1149.346496   \n",
        "\n",
        "      Average Basket Size  \n",
        "0               38.447904  \n",
        "1               38.447904  \n",
        "2               38.447904  \n",
        "3               38.447904  \n",
        "4               38.447904  \n",
        "5               38.447904  \n",
        "6               38.447904  \n",
        "7               38.447904  \n",
        "8               38.447904  \n",
        "9               38.447904  \n",
        "10              38.447904  \n",
        "11              38.447904  \n",
        "12              38.447904  \n",
        "13              38.447904  \n",
        "14              38.447904  \n",
        "15              38.447904  \n",
        "16              38.447904  \n",
        "17              38.447904  \n",
        "18              38.447904  \n",
        "19              38.447904  \n",
        "20              38.447904  \n",
        "21              38.447904  \n",
        "22              38.447904  \n",
        "23              38.447904  \n",
        "24              38.447904  \n",
        "25              38.447904  \n",
        "26              38.447904  \n",
        "27              38.447904  \n",
        "28              38.447904  \n",
        "29              38.447904  \n",
        "...                   ...  \n",
        "6359            38.447904  \n",
        "6360            38.447904  \n",
        "6361            38.447904  \n",
        "6362            38.447904  \n",
        "6363            38.447904  \n",
        "6364            38.447904  \n",
        "6365            38.447904  \n",
        "6366            38.447904  \n",
        "6367            38.447904  \n",
        "6368            38.447904  \n",
        "6369            38.447904  \n",
        "6370            38.447904  \n",
        "6371            38.447904  \n",
        "6372            38.447904  \n",
        "6373            38.447904  \n",
        "6374            38.447904  \n",
        "6375            38.447904  \n",
        "6376            38.447904  \n",
        "6377            38.447904  \n",
        "6378            38.447904  \n",
        "6379            38.447904  \n",
        "6380            38.447904  \n",
        "6381            38.447904  \n",
        "6382            38.447904  \n",
        "6383            38.447904  \n",
        "6384            38.447904  \n",
        "6385            38.447904  \n",
        "6386            38.447904  \n",
        "6387            38.447904  \n",
        "6388            38.447904  \n",
        "\n",
        "[6389 rows x 29 columns]"
       ]
      }
     ],
     "prompt_number": 20
    },
    {
     "cell_type": "code",
     "collapsed": false,
     "input": [],
     "language": "python",
     "metadata": {},
     "outputs": []
    }
   ],
   "metadata": {}
  }
 ]
}
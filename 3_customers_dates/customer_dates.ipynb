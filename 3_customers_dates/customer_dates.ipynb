{
 "metadata": {
  "name": "",
  "signature": "sha256:b621a4678afa403feadae784ae2f763ba3ad347505f9717ba090ac3b7db0f39e"
 },
 "nbformat": 3,
 "nbformat_minor": 0,
 "worksheets": [
  {
   "cells": [
    {
     "cell_type": "code",
     "collapsed": false,
     "input": [
      "#!/home/cloudera/local/lib/python2.6/site-packages/bin/python\n",
      "\n",
      "# Author : Sai Sree Kamineni\n",
      "# Date created : Jan 10, 2016\n",
      "# Execution frequency : Weekly\n",
      "# Inputs refresh frequency : Weekly\n",
      "\n",
      "# Input1 : data_input/shopify/export_orders.csv\n",
      "# Input2 : data_input/shopify/customers_export.csv\n",
      "# Output : data_output/customer_dates.csv\n",
      "# Purpose : Gives customer details and their order statistics like \n",
      "# Revenue, Basket value, Total Orders, etc for every week.\n",
      "# Sunday - Saturday gives number of orders made on each day of that week.\n",
      "# 00:00 - 00:00 gives number of orders made in each time interval.\n",
      "# Average Revenue = Total revenue / number of customers\n",
      "# Average Basket size = Total quantity / number of customers\n",
      "\n",
      "import pandas as pd\n",
      "from datetime import datetime\n",
      "import datetime as DT\n",
      "import re\n",
      "import yaml\n",
      "import logging\n",
      "import time\n",
      "import os\n",
      "\n",
      "with open(\"../config.yaml\", 'r') as ymlfile:\n",
      "        cfg = yaml.load(ymlfile)\n",
      "        \n",
      "def make_sure_path_exists(path):\n",
      "    if (os.path.isdir(path) == False):\n",
      "        os.makedirs(path)\n",
      "\n",
      "make_sure_path_exists(cfg['root'] + cfg['dir_logs'])\n",
      "make_sure_path_exists(cfg['root']+cfg['dir_data_output'])\n",
      "\n",
      "# create logger\n",
      "logger = logging.getLogger(cfg['log_customer_dates'])\n",
      "logger.setLevel(logging.DEBUG)\n",
      "# create console handler and set level to debug\n",
      "ch = logging.FileHandler(cfg['root'] + cfg['dir_logs'] + cfg['log_customer_dates'] + \"_\" + time.strftime(\"%Y_%m_%d_%H_%M_%S\") + \".log\" )\n",
      "ch.setLevel(logging.DEBUG)\n",
      "# create formatter\n",
      "formatter = logging.Formatter(\"%(asctime)s - %(name)s - %(levelname)s - %(message)s\")\n",
      "# add formatter to ch\n",
      "ch.setFormatter(formatter)\n",
      "# add ch to logger\n",
      "logger.addHandler(ch)\n",
      "\n",
      "df = pd.read_csv(cfg['root']+cfg['dir_data_shopify']+cfg[\"input_orders\"], low_memory=False)\n",
      "logger.debug(\"Data Frame df created\")"
     ],
     "language": "python",
     "metadata": {},
     "outputs": [],
     "prompt_number": 34
    },
    {
     "cell_type": "code",
     "collapsed": false,
     "input": [
      "import pandas as pd\n",
      "from datetime import datetime\n",
      "import datetime as DT\n",
      "import re\n",
      "import time\n",
      "import os\n",
      "df = pd.read_csv('C:\\Users\\saisree849\\Documents\\GitHub\\NGS-2.0\\data_input\\shopify\\orders_export.csv', low_memory=False)"
     ],
     "language": "python",
     "metadata": {},
     "outputs": [],
     "prompt_number": 24
    },
    {
     "cell_type": "code",
     "collapsed": false,
     "input": [
      "df = df[['Name', 'Email', 'Created at', 'Lineitem quantity', 'Lineitem price']]\n",
      "#calculate revenue\n",
      "df.loc[:, 'Revenue'] = df.apply(lambda x: x['Lineitem quantity']*x['Lineitem price'], axis=1)\n",
      "df.head()"
     ],
     "language": "python",
     "metadata": {},
     "outputs": [
      {
       "html": [
        "<div style=\"max-height:1000px;max-width:1500px;overflow:auto;\">\n",
        "<table border=\"1\" class=\"dataframe\">\n",
        "  <thead>\n",
        "    <tr style=\"text-align: right;\">\n",
        "      <th></th>\n",
        "      <th>Name</th>\n",
        "      <th>Email</th>\n",
        "      <th>Created at</th>\n",
        "      <th>Lineitem quantity</th>\n",
        "      <th>Lineitem price</th>\n",
        "      <th>Revenue</th>\n",
        "    </tr>\n",
        "  </thead>\n",
        "  <tbody>\n",
        "    <tr>\n",
        "      <th>0</th>\n",
        "      <td> #10447</td>\n",
        "      <td> flynat@gmail.com</td>\n",
        "      <td> 2015-12-30 21:39:19 +0200</td>\n",
        "      <td> 5</td>\n",
        "      <td>  4</td>\n",
        "      <td> 20</td>\n",
        "    </tr>\n",
        "    <tr>\n",
        "      <th>1</th>\n",
        "      <td> #10447</td>\n",
        "      <td> flynat@gmail.com</td>\n",
        "      <td> 2015-12-30 21:39:19 +0200</td>\n",
        "      <td> 2</td>\n",
        "      <td>  5</td>\n",
        "      <td> 10</td>\n",
        "    </tr>\n",
        "    <tr>\n",
        "      <th>2</th>\n",
        "      <td> #10447</td>\n",
        "      <td> flynat@gmail.com</td>\n",
        "      <td> 2015-12-30 21:39:19 +0200</td>\n",
        "      <td> 1</td>\n",
        "      <td> 16</td>\n",
        "      <td> 16</td>\n",
        "    </tr>\n",
        "    <tr>\n",
        "      <th>3</th>\n",
        "      <td> #10447</td>\n",
        "      <td> flynat@gmail.com</td>\n",
        "      <td> 2015-12-30 21:39:19 +0200</td>\n",
        "      <td> 2</td>\n",
        "      <td> 12</td>\n",
        "      <td> 24</td>\n",
        "    </tr>\n",
        "    <tr>\n",
        "      <th>4</th>\n",
        "      <td> #10447</td>\n",
        "      <td> flynat@gmail.com</td>\n",
        "      <td> 2015-12-30 21:39:19 +0200</td>\n",
        "      <td> 1</td>\n",
        "      <td>  9</td>\n",
        "      <td>  9</td>\n",
        "    </tr>\n",
        "  </tbody>\n",
        "</table>\n",
        "</div>"
       ],
       "metadata": {},
       "output_type": "pyout",
       "prompt_number": 25,
       "text": [
        "     Name             Email                 Created at  Lineitem quantity  \\\n",
        "0  #10447  flynat@gmail.com  2015-12-30 21:39:19 +0200                  5   \n",
        "1  #10447  flynat@gmail.com  2015-12-30 21:39:19 +0200                  2   \n",
        "2  #10447  flynat@gmail.com  2015-12-30 21:39:19 +0200                  1   \n",
        "3  #10447  flynat@gmail.com  2015-12-30 21:39:19 +0200                  2   \n",
        "4  #10447  flynat@gmail.com  2015-12-30 21:39:19 +0200                  1   \n",
        "\n",
        "   Lineitem price  Revenue  \n",
        "0               4       20  \n",
        "1               5       10  \n",
        "2              16       16  \n",
        "3              12       24  \n",
        "4               9        9  "
       ]
      }
     ],
     "prompt_number": 25
    },
    {
     "cell_type": "code",
     "collapsed": false,
     "input": [
      "#get required columns and rename\n",
      "df = df[['Name', 'Email', 'Created at', 'Revenue']]\n",
      "df.columns = ['Name', 'Email', 'Date', 'Revenue']\n",
      "df['Date1'] = df['Date']\n",
      "df.head()"
     ],
     "language": "python",
     "metadata": {},
     "outputs": [
      {
       "html": [
        "<div style=\"max-height:1000px;max-width:1500px;overflow:auto;\">\n",
        "<table border=\"1\" class=\"dataframe\">\n",
        "  <thead>\n",
        "    <tr style=\"text-align: right;\">\n",
        "      <th></th>\n",
        "      <th>Name</th>\n",
        "      <th>Email</th>\n",
        "      <th>Date</th>\n",
        "      <th>Revenue</th>\n",
        "      <th>Date1</th>\n",
        "    </tr>\n",
        "  </thead>\n",
        "  <tbody>\n",
        "    <tr>\n",
        "      <th>0</th>\n",
        "      <td> #10447</td>\n",
        "      <td> flynat@gmail.com</td>\n",
        "      <td> 2015-12-30 21:39:19 +0200</td>\n",
        "      <td> 20</td>\n",
        "      <td> 2015-12-30 21:39:19 +0200</td>\n",
        "    </tr>\n",
        "    <tr>\n",
        "      <th>1</th>\n",
        "      <td> #10447</td>\n",
        "      <td> flynat@gmail.com</td>\n",
        "      <td> 2015-12-30 21:39:19 +0200</td>\n",
        "      <td> 10</td>\n",
        "      <td> 2015-12-30 21:39:19 +0200</td>\n",
        "    </tr>\n",
        "    <tr>\n",
        "      <th>2</th>\n",
        "      <td> #10447</td>\n",
        "      <td> flynat@gmail.com</td>\n",
        "      <td> 2015-12-30 21:39:19 +0200</td>\n",
        "      <td> 16</td>\n",
        "      <td> 2015-12-30 21:39:19 +0200</td>\n",
        "    </tr>\n",
        "    <tr>\n",
        "      <th>3</th>\n",
        "      <td> #10447</td>\n",
        "      <td> flynat@gmail.com</td>\n",
        "      <td> 2015-12-30 21:39:19 +0200</td>\n",
        "      <td> 24</td>\n",
        "      <td> 2015-12-30 21:39:19 +0200</td>\n",
        "    </tr>\n",
        "    <tr>\n",
        "      <th>4</th>\n",
        "      <td> #10447</td>\n",
        "      <td> flynat@gmail.com</td>\n",
        "      <td> 2015-12-30 21:39:19 +0200</td>\n",
        "      <td>  9</td>\n",
        "      <td> 2015-12-30 21:39:19 +0200</td>\n",
        "    </tr>\n",
        "  </tbody>\n",
        "</table>\n",
        "</div>"
       ],
       "metadata": {},
       "output_type": "pyout",
       "prompt_number": 26,
       "text": [
        "     Name             Email                       Date  Revenue  \\\n",
        "0  #10447  flynat@gmail.com  2015-12-30 21:39:19 +0200       20   \n",
        "1  #10447  flynat@gmail.com  2015-12-30 21:39:19 +0200       10   \n",
        "2  #10447  flynat@gmail.com  2015-12-30 21:39:19 +0200       16   \n",
        "3  #10447  flynat@gmail.com  2015-12-30 21:39:19 +0200       24   \n",
        "4  #10447  flynat@gmail.com  2015-12-30 21:39:19 +0200        9   \n",
        "\n",
        "                       Date1  \n",
        "0  2015-12-30 21:39:19 +0200  \n",
        "1  2015-12-30 21:39:19 +0200  \n",
        "2  2015-12-30 21:39:19 +0200  \n",
        "3  2015-12-30 21:39:19 +0200  \n",
        "4  2015-12-30 21:39:19 +0200  "
       ]
      }
     ],
     "prompt_number": 26
    },
    {
     "cell_type": "code",
     "collapsed": false,
     "input": [
      "#get date as day\n",
      "def getDay(data):\n",
      "    matchobj = re.match(r'(.*) (.*) (.*).*',data)\n",
      "    data = matchobj.group(1)\n",
      "    return pd.to_datetime(datetime.strptime(data, '%Y-%m-%d')).date().strftime(\"%A\")\n",
      "\n",
      "#get hours of the order\n",
      "def getHours(data):\n",
      "    matchobj = re.match(r'(.*) (.*) (.*).*',data)\n",
      "    data = matchobj.group(2)\n",
      "    num = pd.to_datetime(datetime.strptime(data, '%H:%M:%S')).hour\n",
      "    if(num < 2):\n",
      "        return 0\n",
      "    elif((num >= 2) & (num < 4)):\n",
      "        return 2\n",
      "    elif((num >= 4) & (num < 6)):\n",
      "        return 4\n",
      "    elif((num >= 6) & (num < 8)):\n",
      "        return 6\n",
      "    elif((num >= 8) & (num < 10)):\n",
      "        return 8\n",
      "    elif((num >= 10) & (num < 12)):\n",
      "        return 10\n",
      "    elif((num >= 12) & (num < 14)):\n",
      "        return 12\n",
      "    elif((num >= 14) & (num < 16)):\n",
      "        return 14\n",
      "    elif((num >= 16) & (num < 18)):\n",
      "        return 16\n",
      "    elif((num >= 18) & (num < 20)):\n",
      "        return 18\n",
      "    elif((num >= 20) & (num < 22)):\n",
      "        return 20\n",
      "    elif(num >= 22):\n",
      "        return 22\n",
      "    \n",
      "def changeDate(data):\n",
      "    matchobj = re.match(r'(.*) (.*) (.*).*',data)\n",
      "    if (pd.to_datetime(datetime.strptime(matchobj.group(1), '%Y-%m-%d')).date().strftime(\"%A\") == 'Wednesday'):\n",
      "        return datetime.strptime(matchobj.group(1), '%Y-%m-%d').date() - DT.timedelta(days=6)\n",
      "    if (pd.to_datetime(datetime.strptime(matchobj.group(1), '%Y-%m-%d')).date().strftime(\"%A\") == 'Tuesday'):\n",
      "        return datetime.strptime(matchobj.group(1), '%Y-%m-%d').date() - DT.timedelta(days=5)\n",
      "    if (pd.to_datetime(datetime.strptime(matchobj.group(1), '%Y-%m-%d')).date().strftime(\"%A\") == 'Monday'):\n",
      "        return datetime.strptime(matchobj.group(1), '%Y-%m-%d').date() - DT.timedelta(days=4)\n",
      "    if (pd.to_datetime(datetime.strptime(matchobj.group(1), '%Y-%m-%d')).date().strftime(\"%A\") == 'Sunday'):\n",
      "        return datetime.strptime(matchobj.group(1), '%Y-%m-%d').date() - DT.timedelta(days=3)\n",
      "    if (pd.to_datetime(datetime.strptime(matchobj.group(1), '%Y-%m-%d')).date().strftime(\"%A\") == 'Saturday'):\n",
      "        return datetime.strptime(matchobj.group(1), '%Y-%m-%d').date() - DT.timedelta(days=2)\n",
      "    if (pd.to_datetime(datetime.strptime(matchobj.group(1), '%Y-%m-%d')).date().strftime(\"%A\") == 'Friday'):\n",
      "        return datetime.strptime(matchobj.group(1), '%Y-%m-%d').date() - DT.timedelta(days=1)\n",
      "    if (pd.to_datetime(datetime.strptime(matchobj.group(1), '%Y-%m-%d')).date().strftime(\"%A\") == 'Thursday'):\n",
      "        return datetime.strptime(matchobj.group(1), '%Y-%m-%d').date() - DT.timedelta(days=0)"
     ],
     "language": "python",
     "metadata": {},
     "outputs": [],
     "prompt_number": 27
    },
    {
     "cell_type": "code",
     "collapsed": false,
     "input": [
      "df.loc[:, 'Day'] = df.Date1.apply(getDay)\n",
      "df.loc[:, 'Hours'] = df.Date1.apply(getHours)\n",
      "\n",
      "df = df[['Name', 'Email', 'Date', 'Revenue', 'Day', 'Hours']]\n",
      "df.head()"
     ],
     "language": "python",
     "metadata": {},
     "outputs": [
      {
       "html": [
        "<div style=\"max-height:1000px;max-width:1500px;overflow:auto;\">\n",
        "<table border=\"1\" class=\"dataframe\">\n",
        "  <thead>\n",
        "    <tr style=\"text-align: right;\">\n",
        "      <th></th>\n",
        "      <th>Name</th>\n",
        "      <th>Email</th>\n",
        "      <th>Date</th>\n",
        "      <th>Revenue</th>\n",
        "      <th>Day</th>\n",
        "      <th>Hours</th>\n",
        "    </tr>\n",
        "  </thead>\n",
        "  <tbody>\n",
        "    <tr>\n",
        "      <th>0</th>\n",
        "      <td> #10447</td>\n",
        "      <td> flynat@gmail.com</td>\n",
        "      <td> 2015-12-30 21:39:19 +0200</td>\n",
        "      <td> 20</td>\n",
        "      <td> Wednesday</td>\n",
        "      <td> 20</td>\n",
        "    </tr>\n",
        "    <tr>\n",
        "      <th>1</th>\n",
        "      <td> #10447</td>\n",
        "      <td> flynat@gmail.com</td>\n",
        "      <td> 2015-12-30 21:39:19 +0200</td>\n",
        "      <td> 10</td>\n",
        "      <td> Wednesday</td>\n",
        "      <td> 20</td>\n",
        "    </tr>\n",
        "    <tr>\n",
        "      <th>2</th>\n",
        "      <td> #10447</td>\n",
        "      <td> flynat@gmail.com</td>\n",
        "      <td> 2015-12-30 21:39:19 +0200</td>\n",
        "      <td> 16</td>\n",
        "      <td> Wednesday</td>\n",
        "      <td> 20</td>\n",
        "    </tr>\n",
        "    <tr>\n",
        "      <th>3</th>\n",
        "      <td> #10447</td>\n",
        "      <td> flynat@gmail.com</td>\n",
        "      <td> 2015-12-30 21:39:19 +0200</td>\n",
        "      <td> 24</td>\n",
        "      <td> Wednesday</td>\n",
        "      <td> 20</td>\n",
        "    </tr>\n",
        "    <tr>\n",
        "      <th>4</th>\n",
        "      <td> #10447</td>\n",
        "      <td> flynat@gmail.com</td>\n",
        "      <td> 2015-12-30 21:39:19 +0200</td>\n",
        "      <td>  9</td>\n",
        "      <td> Wednesday</td>\n",
        "      <td> 20</td>\n",
        "    </tr>\n",
        "  </tbody>\n",
        "</table>\n",
        "</div>"
       ],
       "metadata": {},
       "output_type": "pyout",
       "prompt_number": 28,
       "text": [
        "     Name             Email                       Date  Revenue        Day  \\\n",
        "0  #10447  flynat@gmail.com  2015-12-30 21:39:19 +0200       20  Wednesday   \n",
        "1  #10447  flynat@gmail.com  2015-12-30 21:39:19 +0200       10  Wednesday   \n",
        "2  #10447  flynat@gmail.com  2015-12-30 21:39:19 +0200       16  Wednesday   \n",
        "3  #10447  flynat@gmail.com  2015-12-30 21:39:19 +0200       24  Wednesday   \n",
        "4  #10447  flynat@gmail.com  2015-12-30 21:39:19 +0200        9  Wednesday   \n",
        "\n",
        "   Hours  \n",
        "0     20  \n",
        "1     20  \n",
        "2     20  \n",
        "3     20  \n",
        "4     20  "
       ]
      }
     ],
     "prompt_number": 28
    },
    {
     "cell_type": "code",
     "collapsed": false,
     "input": [
      "df.loc[:, 'Date'] = df.Date.apply(changeDate)\n",
      "df.head()"
     ],
     "language": "python",
     "metadata": {},
     "outputs": [
      {
       "html": [
        "<div style=\"max-height:1000px;max-width:1500px;overflow:auto;\">\n",
        "<table border=\"1\" class=\"dataframe\">\n",
        "  <thead>\n",
        "    <tr style=\"text-align: right;\">\n",
        "      <th></th>\n",
        "      <th>Name</th>\n",
        "      <th>Email</th>\n",
        "      <th>Date</th>\n",
        "      <th>Revenue</th>\n",
        "      <th>Day</th>\n",
        "      <th>Hours</th>\n",
        "    </tr>\n",
        "  </thead>\n",
        "  <tbody>\n",
        "    <tr>\n",
        "      <th>0</th>\n",
        "      <td> #10447</td>\n",
        "      <td> flynat@gmail.com</td>\n",
        "      <td> 2015-12-24</td>\n",
        "      <td> 20</td>\n",
        "      <td> Wednesday</td>\n",
        "      <td> 20</td>\n",
        "    </tr>\n",
        "    <tr>\n",
        "      <th>1</th>\n",
        "      <td> #10447</td>\n",
        "      <td> flynat@gmail.com</td>\n",
        "      <td> 2015-12-24</td>\n",
        "      <td> 10</td>\n",
        "      <td> Wednesday</td>\n",
        "      <td> 20</td>\n",
        "    </tr>\n",
        "    <tr>\n",
        "      <th>2</th>\n",
        "      <td> #10447</td>\n",
        "      <td> flynat@gmail.com</td>\n",
        "      <td> 2015-12-24</td>\n",
        "      <td> 16</td>\n",
        "      <td> Wednesday</td>\n",
        "      <td> 20</td>\n",
        "    </tr>\n",
        "    <tr>\n",
        "      <th>3</th>\n",
        "      <td> #10447</td>\n",
        "      <td> flynat@gmail.com</td>\n",
        "      <td> 2015-12-24</td>\n",
        "      <td> 24</td>\n",
        "      <td> Wednesday</td>\n",
        "      <td> 20</td>\n",
        "    </tr>\n",
        "    <tr>\n",
        "      <th>4</th>\n",
        "      <td> #10447</td>\n",
        "      <td> flynat@gmail.com</td>\n",
        "      <td> 2015-12-24</td>\n",
        "      <td>  9</td>\n",
        "      <td> Wednesday</td>\n",
        "      <td> 20</td>\n",
        "    </tr>\n",
        "  </tbody>\n",
        "</table>\n",
        "</div>"
       ],
       "metadata": {},
       "output_type": "pyout",
       "prompt_number": 29,
       "text": [
        "     Name             Email        Date  Revenue        Day  Hours\n",
        "0  #10447  flynat@gmail.com  2015-12-24       20  Wednesday     20\n",
        "1  #10447  flynat@gmail.com  2015-12-24       10  Wednesday     20\n",
        "2  #10447  flynat@gmail.com  2015-12-24       16  Wednesday     20\n",
        "3  #10447  flynat@gmail.com  2015-12-24       24  Wednesday     20\n",
        "4  #10447  flynat@gmail.com  2015-12-24        9  Wednesday     20"
       ]
      }
     ],
     "prompt_number": 29
    },
    {
     "cell_type": "code",
     "collapsed": false,
     "input": [
      "data = df[['Email', 'Date', 'Revenue']]\n",
      "data.head()"
     ],
     "language": "python",
     "metadata": {},
     "outputs": [
      {
       "html": [
        "<div style=\"max-height:1000px;max-width:1500px;overflow:auto;\">\n",
        "<table border=\"1\" class=\"dataframe\">\n",
        "  <thead>\n",
        "    <tr style=\"text-align: right;\">\n",
        "      <th></th>\n",
        "      <th>Email</th>\n",
        "      <th>Date</th>\n",
        "      <th>Revenue</th>\n",
        "    </tr>\n",
        "  </thead>\n",
        "  <tbody>\n",
        "    <tr>\n",
        "      <th>0</th>\n",
        "      <td> flynat@gmail.com</td>\n",
        "      <td> 2015-12-24</td>\n",
        "      <td> 20</td>\n",
        "    </tr>\n",
        "    <tr>\n",
        "      <th>1</th>\n",
        "      <td> flynat@gmail.com</td>\n",
        "      <td> 2015-12-24</td>\n",
        "      <td> 10</td>\n",
        "    </tr>\n",
        "    <tr>\n",
        "      <th>2</th>\n",
        "      <td> flynat@gmail.com</td>\n",
        "      <td> 2015-12-24</td>\n",
        "      <td> 16</td>\n",
        "    </tr>\n",
        "    <tr>\n",
        "      <th>3</th>\n",
        "      <td> flynat@gmail.com</td>\n",
        "      <td> 2015-12-24</td>\n",
        "      <td> 24</td>\n",
        "    </tr>\n",
        "    <tr>\n",
        "      <th>4</th>\n",
        "      <td> flynat@gmail.com</td>\n",
        "      <td> 2015-12-24</td>\n",
        "      <td>  9</td>\n",
        "    </tr>\n",
        "  </tbody>\n",
        "</table>\n",
        "</div>"
       ],
       "metadata": {},
       "output_type": "pyout",
       "prompt_number": 30,
       "text": [
        "              Email        Date  Revenue\n",
        "0  flynat@gmail.com  2015-12-24       20\n",
        "1  flynat@gmail.com  2015-12-24       10\n",
        "2  flynat@gmail.com  2015-12-24       16\n",
        "3  flynat@gmail.com  2015-12-24       24\n",
        "4  flynat@gmail.com  2015-12-24        9"
       ]
      }
     ],
     "prompt_number": 30
    },
    {
     "cell_type": "code",
     "collapsed": false,
     "input": [
      "\n",
      "df = df[['Email', 'Date', 'Day', 'Hours']]\n",
      "\n",
      "df = df.drop_duplicates().reset_index().drop('index',1)\n",
      "df.head()"
     ],
     "language": "python",
     "metadata": {},
     "outputs": [
      {
       "html": [
        "<div style=\"max-height:1000px;max-width:1500px;overflow:auto;\">\n",
        "<table border=\"1\" class=\"dataframe\">\n",
        "  <thead>\n",
        "    <tr style=\"text-align: right;\">\n",
        "      <th></th>\n",
        "      <th>Email</th>\n",
        "      <th>Date</th>\n",
        "      <th>Day</th>\n",
        "      <th>Hours</th>\n",
        "    </tr>\n",
        "  </thead>\n",
        "  <tbody>\n",
        "    <tr>\n",
        "      <th>0</th>\n",
        "      <td>        flynat@gmail.com</td>\n",
        "      <td> 2015-12-24</td>\n",
        "      <td> Wednesday</td>\n",
        "      <td> 20</td>\n",
        "    </tr>\n",
        "    <tr>\n",
        "      <th>1</th>\n",
        "      <td> madash_lulu@hotmail.com</td>\n",
        "      <td> 2015-12-24</td>\n",
        "      <td> Wednesday</td>\n",
        "      <td> 20</td>\n",
        "    </tr>\n",
        "    <tr>\n",
        "      <th>2</th>\n",
        "      <td>  mo.youssef81@gmail.com</td>\n",
        "      <td> 2015-12-24</td>\n",
        "      <td> Wednesday</td>\n",
        "      <td> 16</td>\n",
        "    </tr>\n",
        "    <tr>\n",
        "      <th>3</th>\n",
        "      <td>          m7s_1@live.com</td>\n",
        "      <td> 2015-12-24</td>\n",
        "      <td> Wednesday</td>\n",
        "      <td> 16</td>\n",
        "    </tr>\n",
        "    <tr>\n",
        "      <th>4</th>\n",
        "      <td>     doaasamra@yahoo.com</td>\n",
        "      <td> 2015-12-24</td>\n",
        "      <td> Wednesday</td>\n",
        "      <td> 16</td>\n",
        "    </tr>\n",
        "  </tbody>\n",
        "</table>\n",
        "</div>"
       ],
       "metadata": {},
       "output_type": "pyout",
       "prompt_number": 31,
       "text": [
        "                     Email        Date        Day  Hours\n",
        "0         flynat@gmail.com  2015-12-24  Wednesday     20\n",
        "1  madash_lulu@hotmail.com  2015-12-24  Wednesday     20\n",
        "2   mo.youssef81@gmail.com  2015-12-24  Wednesday     16\n",
        "3           m7s_1@live.com  2015-12-24  Wednesday     16\n",
        "4      doaasamra@yahoo.com  2015-12-24  Wednesday     16"
       ]
      }
     ],
     "prompt_number": 31
    },
    {
     "cell_type": "code",
     "collapsed": false,
     "input": [
      "df1 = pd.DataFrame(columns = ['Email', 'Date', 'Sunday', 'Monday', 'Tuesday', 'Wednesday', 'Thursday', 'Friday', 'Saturday', 0, 2, 4, 6, 8, 10, 12, 14, 16, 18, 20, 22])\n",
      "df1['Email'] = df['Email']\n",
      "df1['Date'] = df['Date']\n",
      "df1['Sunday'] = df1['Monday'] = df1['Tuesday'] = df1['Wednesday'] = df1['Thursday'] = df1['Friday'] = df1['Saturday'] = df1[0] = df1[2] = df1[4] = df1[6] = df1[8] = df1[10] = df1[12] = df1[14] = df1[16] = df1[18] = df1[20] = df1[22] =0\n",
      "df1.head()"
     ],
     "language": "python",
     "metadata": {},
     "outputs": [
      {
       "html": [
        "<div style=\"max-height:1000px;max-width:1500px;overflow:auto;\">\n",
        "<table border=\"1\" class=\"dataframe\">\n",
        "  <thead>\n",
        "    <tr style=\"text-align: right;\">\n",
        "      <th></th>\n",
        "      <th>Email</th>\n",
        "      <th>Date</th>\n",
        "      <th>Sunday</th>\n",
        "      <th>Monday</th>\n",
        "      <th>Tuesday</th>\n",
        "      <th>Wednesday</th>\n",
        "      <th>Thursday</th>\n",
        "      <th>Friday</th>\n",
        "      <th>Saturday</th>\n",
        "      <th>0</th>\n",
        "      <th>...</th>\n",
        "      <th>4</th>\n",
        "      <th>6</th>\n",
        "      <th>8</th>\n",
        "      <th>10</th>\n",
        "      <th>12</th>\n",
        "      <th>14</th>\n",
        "      <th>16</th>\n",
        "      <th>18</th>\n",
        "      <th>20</th>\n",
        "      <th>22</th>\n",
        "    </tr>\n",
        "  </thead>\n",
        "  <tbody>\n",
        "    <tr>\n",
        "      <th>0</th>\n",
        "      <td>        flynat@gmail.com</td>\n",
        "      <td> 2015-12-24</td>\n",
        "      <td> 0</td>\n",
        "      <td> 0</td>\n",
        "      <td> 0</td>\n",
        "      <td> 0</td>\n",
        "      <td> 0</td>\n",
        "      <td> 0</td>\n",
        "      <td> 0</td>\n",
        "      <td> 0</td>\n",
        "      <td>...</td>\n",
        "      <td> 0</td>\n",
        "      <td> 0</td>\n",
        "      <td> 0</td>\n",
        "      <td> 0</td>\n",
        "      <td> 0</td>\n",
        "      <td> 0</td>\n",
        "      <td> 0</td>\n",
        "      <td> 0</td>\n",
        "      <td> 0</td>\n",
        "      <td> 0</td>\n",
        "    </tr>\n",
        "    <tr>\n",
        "      <th>1</th>\n",
        "      <td> madash_lulu@hotmail.com</td>\n",
        "      <td> 2015-12-24</td>\n",
        "      <td> 0</td>\n",
        "      <td> 0</td>\n",
        "      <td> 0</td>\n",
        "      <td> 0</td>\n",
        "      <td> 0</td>\n",
        "      <td> 0</td>\n",
        "      <td> 0</td>\n",
        "      <td> 0</td>\n",
        "      <td>...</td>\n",
        "      <td> 0</td>\n",
        "      <td> 0</td>\n",
        "      <td> 0</td>\n",
        "      <td> 0</td>\n",
        "      <td> 0</td>\n",
        "      <td> 0</td>\n",
        "      <td> 0</td>\n",
        "      <td> 0</td>\n",
        "      <td> 0</td>\n",
        "      <td> 0</td>\n",
        "    </tr>\n",
        "    <tr>\n",
        "      <th>2</th>\n",
        "      <td>  mo.youssef81@gmail.com</td>\n",
        "      <td> 2015-12-24</td>\n",
        "      <td> 0</td>\n",
        "      <td> 0</td>\n",
        "      <td> 0</td>\n",
        "      <td> 0</td>\n",
        "      <td> 0</td>\n",
        "      <td> 0</td>\n",
        "      <td> 0</td>\n",
        "      <td> 0</td>\n",
        "      <td>...</td>\n",
        "      <td> 0</td>\n",
        "      <td> 0</td>\n",
        "      <td> 0</td>\n",
        "      <td> 0</td>\n",
        "      <td> 0</td>\n",
        "      <td> 0</td>\n",
        "      <td> 0</td>\n",
        "      <td> 0</td>\n",
        "      <td> 0</td>\n",
        "      <td> 0</td>\n",
        "    </tr>\n",
        "    <tr>\n",
        "      <th>3</th>\n",
        "      <td>          m7s_1@live.com</td>\n",
        "      <td> 2015-12-24</td>\n",
        "      <td> 0</td>\n",
        "      <td> 0</td>\n",
        "      <td> 0</td>\n",
        "      <td> 0</td>\n",
        "      <td> 0</td>\n",
        "      <td> 0</td>\n",
        "      <td> 0</td>\n",
        "      <td> 0</td>\n",
        "      <td>...</td>\n",
        "      <td> 0</td>\n",
        "      <td> 0</td>\n",
        "      <td> 0</td>\n",
        "      <td> 0</td>\n",
        "      <td> 0</td>\n",
        "      <td> 0</td>\n",
        "      <td> 0</td>\n",
        "      <td> 0</td>\n",
        "      <td> 0</td>\n",
        "      <td> 0</td>\n",
        "    </tr>\n",
        "    <tr>\n",
        "      <th>4</th>\n",
        "      <td>     doaasamra@yahoo.com</td>\n",
        "      <td> 2015-12-24</td>\n",
        "      <td> 0</td>\n",
        "      <td> 0</td>\n",
        "      <td> 0</td>\n",
        "      <td> 0</td>\n",
        "      <td> 0</td>\n",
        "      <td> 0</td>\n",
        "      <td> 0</td>\n",
        "      <td> 0</td>\n",
        "      <td>...</td>\n",
        "      <td> 0</td>\n",
        "      <td> 0</td>\n",
        "      <td> 0</td>\n",
        "      <td> 0</td>\n",
        "      <td> 0</td>\n",
        "      <td> 0</td>\n",
        "      <td> 0</td>\n",
        "      <td> 0</td>\n",
        "      <td> 0</td>\n",
        "      <td> 0</td>\n",
        "    </tr>\n",
        "  </tbody>\n",
        "</table>\n",
        "<p>5 rows \u00d7 21 columns</p>\n",
        "</div>"
       ],
       "metadata": {},
       "output_type": "pyout",
       "prompt_number": 32,
       "text": [
        "                     Email        Date  Sunday  Monday  Tuesday  Wednesday  \\\n",
        "0         flynat@gmail.com  2015-12-24       0       0        0          0   \n",
        "1  madash_lulu@hotmail.com  2015-12-24       0       0        0          0   \n",
        "2   mo.youssef81@gmail.com  2015-12-24       0       0        0          0   \n",
        "3           m7s_1@live.com  2015-12-24       0       0        0          0   \n",
        "4      doaasamra@yahoo.com  2015-12-24       0       0        0          0   \n",
        "\n",
        "   Thursday  Friday  Saturday  0 ...  4  6  8  10  12  14  16  18  20  22  \n",
        "0         0       0         0  0 ...  0  0  0   0   0   0   0   0   0   0  \n",
        "1         0       0         0  0 ...  0  0  0   0   0   0   0   0   0   0  \n",
        "2         0       0         0  0 ...  0  0  0   0   0   0   0   0   0   0  \n",
        "3         0       0         0  0 ...  0  0  0   0   0   0   0   0   0   0  \n",
        "4         0       0         0  0 ...  0  0  0   0   0   0   0   0   0   0  \n",
        "\n",
        "[5 rows x 21 columns]"
       ]
      }
     ],
     "prompt_number": 32
    },
    {
     "cell_type": "code",
     "collapsed": false,
     "input": [
      "#assign values to hours and days columns\n",
      "for i in range(0, max(df.index)+1):\n",
      "    df1.loc[i,(df.iloc[i,2])] = 1\n",
      "    df1.loc[i,(df.iloc[i,3])] = 1\n",
      "df1.head()"
     ],
     "language": "python",
     "metadata": {},
     "outputs": [
      {
       "html": [
        "<div style=\"max-height:1000px;max-width:1500px;overflow:auto;\">\n",
        "<table border=\"1\" class=\"dataframe\">\n",
        "  <thead>\n",
        "    <tr style=\"text-align: right;\">\n",
        "      <th></th>\n",
        "      <th>Email</th>\n",
        "      <th>Date</th>\n",
        "      <th>Sunday</th>\n",
        "      <th>Monday</th>\n",
        "      <th>Tuesday</th>\n",
        "      <th>Wednesday</th>\n",
        "      <th>Thursday</th>\n",
        "      <th>Friday</th>\n",
        "      <th>Saturday</th>\n",
        "      <th>0</th>\n",
        "      <th>...</th>\n",
        "      <th>4</th>\n",
        "      <th>6</th>\n",
        "      <th>8</th>\n",
        "      <th>10</th>\n",
        "      <th>12</th>\n",
        "      <th>14</th>\n",
        "      <th>16</th>\n",
        "      <th>18</th>\n",
        "      <th>20</th>\n",
        "      <th>22</th>\n",
        "    </tr>\n",
        "  </thead>\n",
        "  <tbody>\n",
        "    <tr>\n",
        "      <th>0</th>\n",
        "      <td>        flynat@gmail.com</td>\n",
        "      <td> 2015-12-24</td>\n",
        "      <td> 0</td>\n",
        "      <td> 0</td>\n",
        "      <td> 0</td>\n",
        "      <td> 1</td>\n",
        "      <td> 0</td>\n",
        "      <td> 0</td>\n",
        "      <td> 0</td>\n",
        "      <td> 0</td>\n",
        "      <td>...</td>\n",
        "      <td> 0</td>\n",
        "      <td> 0</td>\n",
        "      <td> 0</td>\n",
        "      <td> 0</td>\n",
        "      <td> 0</td>\n",
        "      <td> 0</td>\n",
        "      <td> 0</td>\n",
        "      <td> 0</td>\n",
        "      <td> 1</td>\n",
        "      <td> 0</td>\n",
        "    </tr>\n",
        "    <tr>\n",
        "      <th>1</th>\n",
        "      <td> madash_lulu@hotmail.com</td>\n",
        "      <td> 2015-12-24</td>\n",
        "      <td> 0</td>\n",
        "      <td> 0</td>\n",
        "      <td> 0</td>\n",
        "      <td> 1</td>\n",
        "      <td> 0</td>\n",
        "      <td> 0</td>\n",
        "      <td> 0</td>\n",
        "      <td> 0</td>\n",
        "      <td>...</td>\n",
        "      <td> 0</td>\n",
        "      <td> 0</td>\n",
        "      <td> 0</td>\n",
        "      <td> 0</td>\n",
        "      <td> 0</td>\n",
        "      <td> 0</td>\n",
        "      <td> 0</td>\n",
        "      <td> 0</td>\n",
        "      <td> 1</td>\n",
        "      <td> 0</td>\n",
        "    </tr>\n",
        "    <tr>\n",
        "      <th>2</th>\n",
        "      <td>  mo.youssef81@gmail.com</td>\n",
        "      <td> 2015-12-24</td>\n",
        "      <td> 0</td>\n",
        "      <td> 0</td>\n",
        "      <td> 0</td>\n",
        "      <td> 1</td>\n",
        "      <td> 0</td>\n",
        "      <td> 0</td>\n",
        "      <td> 0</td>\n",
        "      <td> 0</td>\n",
        "      <td>...</td>\n",
        "      <td> 0</td>\n",
        "      <td> 0</td>\n",
        "      <td> 0</td>\n",
        "      <td> 0</td>\n",
        "      <td> 0</td>\n",
        "      <td> 0</td>\n",
        "      <td> 1</td>\n",
        "      <td> 0</td>\n",
        "      <td> 0</td>\n",
        "      <td> 0</td>\n",
        "    </tr>\n",
        "    <tr>\n",
        "      <th>3</th>\n",
        "      <td>          m7s_1@live.com</td>\n",
        "      <td> 2015-12-24</td>\n",
        "      <td> 0</td>\n",
        "      <td> 0</td>\n",
        "      <td> 0</td>\n",
        "      <td> 1</td>\n",
        "      <td> 0</td>\n",
        "      <td> 0</td>\n",
        "      <td> 0</td>\n",
        "      <td> 0</td>\n",
        "      <td>...</td>\n",
        "      <td> 0</td>\n",
        "      <td> 0</td>\n",
        "      <td> 0</td>\n",
        "      <td> 0</td>\n",
        "      <td> 0</td>\n",
        "      <td> 0</td>\n",
        "      <td> 1</td>\n",
        "      <td> 0</td>\n",
        "      <td> 0</td>\n",
        "      <td> 0</td>\n",
        "    </tr>\n",
        "    <tr>\n",
        "      <th>4</th>\n",
        "      <td>     doaasamra@yahoo.com</td>\n",
        "      <td> 2015-12-24</td>\n",
        "      <td> 0</td>\n",
        "      <td> 0</td>\n",
        "      <td> 0</td>\n",
        "      <td> 1</td>\n",
        "      <td> 0</td>\n",
        "      <td> 0</td>\n",
        "      <td> 0</td>\n",
        "      <td> 0</td>\n",
        "      <td>...</td>\n",
        "      <td> 0</td>\n",
        "      <td> 0</td>\n",
        "      <td> 0</td>\n",
        "      <td> 0</td>\n",
        "      <td> 0</td>\n",
        "      <td> 0</td>\n",
        "      <td> 1</td>\n",
        "      <td> 0</td>\n",
        "      <td> 0</td>\n",
        "      <td> 0</td>\n",
        "    </tr>\n",
        "  </tbody>\n",
        "</table>\n",
        "<p>5 rows \u00d7 21 columns</p>\n",
        "</div>"
       ],
       "metadata": {},
       "output_type": "pyout",
       "prompt_number": 33,
       "text": [
        "                     Email        Date  Sunday  Monday  Tuesday  Wednesday  \\\n",
        "0         flynat@gmail.com  2015-12-24       0       0        0          1   \n",
        "1  madash_lulu@hotmail.com  2015-12-24       0       0        0          1   \n",
        "2   mo.youssef81@gmail.com  2015-12-24       0       0        0          1   \n",
        "3           m7s_1@live.com  2015-12-24       0       0        0          1   \n",
        "4      doaasamra@yahoo.com  2015-12-24       0       0        0          1   \n",
        "\n",
        "   Thursday  Friday  Saturday  0 ...  4  6  8  10  12  14  16  18  20  22  \n",
        "0         0       0         0  0 ...  0  0  0   0   0   0   0   0   1   0  \n",
        "1         0       0         0  0 ...  0  0  0   0   0   0   0   0   1   0  \n",
        "2         0       0         0  0 ...  0  0  0   0   0   0   1   0   0   0  \n",
        "3         0       0         0  0 ...  0  0  0   0   0   0   1   0   0   0  \n",
        "4         0       0         0  0 ...  0  0  0   0   0   0   1   0   0   0  \n",
        "\n",
        "[5 rows x 21 columns]"
       ]
      }
     ],
     "prompt_number": 33
    },
    {
     "cell_type": "code",
     "collapsed": false,
     "input": [
      "#count total orders per hours, days\n",
      "df1 = df1.groupby(['Email', 'Date'], axis = 0, as_index=False).sum()\n",
      "\n",
      "#rename columns\n",
      "df1.columns = ['Email', 'Date', 'Sunday', 'Monday', 'Tuesday', 'Wednesday', 'Thursday', 'Friday', 'Saturday', '0:00 - 2:00', '2:00 - 4:00', '4:00 - 6:00', '6:00 - 8:00', '8:00 - 10:00', '10:00 - 12:00', '12:00 - 14:00', '14:00 - 16:00', '16:00 - 18:00', '18:00 - 20:00', '20:00 - 22:00', '22:00 - 0:00']\n",
      "df1.head()"
     ],
     "language": "python",
     "metadata": {},
     "outputs": [
      {
       "html": [
        "<div style=\"max-height:1000px;max-width:1500px;overflow:auto;\">\n",
        "<table border=\"1\" class=\"dataframe\">\n",
        "  <thead>\n",
        "    <tr style=\"text-align: right;\">\n",
        "      <th></th>\n",
        "      <th>Email</th>\n",
        "      <th>Date</th>\n",
        "      <th>Sunday</th>\n",
        "      <th>Monday</th>\n",
        "      <th>Tuesday</th>\n",
        "      <th>Wednesday</th>\n",
        "      <th>Thursday</th>\n",
        "      <th>Friday</th>\n",
        "      <th>Saturday</th>\n",
        "      <th>0:00 - 2:00</th>\n",
        "      <th>...</th>\n",
        "      <th>4:00 - 6:00</th>\n",
        "      <th>6:00 - 8:00</th>\n",
        "      <th>8:00 - 10:00</th>\n",
        "      <th>10:00 - 12:00</th>\n",
        "      <th>12:00 - 14:00</th>\n",
        "      <th>14:00 - 16:00</th>\n",
        "      <th>16:00 - 18:00</th>\n",
        "      <th>18:00 - 20:00</th>\n",
        "      <th>20:00 - 22:00</th>\n",
        "      <th>22:00 - 0:00</th>\n",
        "    </tr>\n",
        "  </thead>\n",
        "  <tbody>\n",
        "    <tr>\n",
        "      <th>0</th>\n",
        "      <td> 11435mail@mkallenberger.de</td>\n",
        "      <td> 2013-05-23</td>\n",
        "      <td> 1</td>\n",
        "      <td> 0</td>\n",
        "      <td> 0</td>\n",
        "      <td> 0</td>\n",
        "      <td> 0</td>\n",
        "      <td> 0</td>\n",
        "      <td> 0</td>\n",
        "      <td> 0</td>\n",
        "      <td>...</td>\n",
        "      <td> 0</td>\n",
        "      <td> 0</td>\n",
        "      <td> 0</td>\n",
        "      <td> 0</td>\n",
        "      <td> 0</td>\n",
        "      <td> 1</td>\n",
        "      <td> 0</td>\n",
        "      <td> 0</td>\n",
        "      <td> 0</td>\n",
        "      <td> 0</td>\n",
        "    </tr>\n",
        "    <tr>\n",
        "      <th>1</th>\n",
        "      <td>              1@gargour.com</td>\n",
        "      <td> 2015-01-01</td>\n",
        "      <td> 0</td>\n",
        "      <td> 0</td>\n",
        "      <td> 0</td>\n",
        "      <td> 0</td>\n",
        "      <td> 0</td>\n",
        "      <td> 0</td>\n",
        "      <td> 1</td>\n",
        "      <td> 0</td>\n",
        "      <td>...</td>\n",
        "      <td> 0</td>\n",
        "      <td> 0</td>\n",
        "      <td> 0</td>\n",
        "      <td> 0</td>\n",
        "      <td> 0</td>\n",
        "      <td> 0</td>\n",
        "      <td> 1</td>\n",
        "      <td> 0</td>\n",
        "      <td> 0</td>\n",
        "      <td> 0</td>\n",
        "    </tr>\n",
        "    <tr>\n",
        "      <th>2</th>\n",
        "      <td>              1@gargour.com</td>\n",
        "      <td> 2015-04-02</td>\n",
        "      <td> 0</td>\n",
        "      <td> 0</td>\n",
        "      <td> 1</td>\n",
        "      <td> 0</td>\n",
        "      <td> 0</td>\n",
        "      <td> 0</td>\n",
        "      <td> 0</td>\n",
        "      <td> 0</td>\n",
        "      <td>...</td>\n",
        "      <td> 0</td>\n",
        "      <td> 0</td>\n",
        "      <td> 0</td>\n",
        "      <td> 0</td>\n",
        "      <td> 0</td>\n",
        "      <td> 1</td>\n",
        "      <td> 0</td>\n",
        "      <td> 0</td>\n",
        "      <td> 0</td>\n",
        "      <td> 0</td>\n",
        "    </tr>\n",
        "    <tr>\n",
        "      <th>3</th>\n",
        "      <td>          1kttate@gmail.com</td>\n",
        "      <td> 2015-08-06</td>\n",
        "      <td> 1</td>\n",
        "      <td> 0</td>\n",
        "      <td> 0</td>\n",
        "      <td> 0</td>\n",
        "      <td> 0</td>\n",
        "      <td> 0</td>\n",
        "      <td> 0</td>\n",
        "      <td> 0</td>\n",
        "      <td>...</td>\n",
        "      <td> 0</td>\n",
        "      <td> 0</td>\n",
        "      <td> 1</td>\n",
        "      <td> 0</td>\n",
        "      <td> 0</td>\n",
        "      <td> 0</td>\n",
        "      <td> 0</td>\n",
        "      <td> 0</td>\n",
        "      <td> 0</td>\n",
        "      <td> 0</td>\n",
        "    </tr>\n",
        "    <tr>\n",
        "      <th>4</th>\n",
        "      <td>          1kttate@gmail.com</td>\n",
        "      <td> 2015-08-13</td>\n",
        "      <td> 0</td>\n",
        "      <td> 1</td>\n",
        "      <td> 0</td>\n",
        "      <td> 0</td>\n",
        "      <td> 1</td>\n",
        "      <td> 0</td>\n",
        "      <td> 0</td>\n",
        "      <td> 0</td>\n",
        "      <td>...</td>\n",
        "      <td> 0</td>\n",
        "      <td> 0</td>\n",
        "      <td> 1</td>\n",
        "      <td> 0</td>\n",
        "      <td> 1</td>\n",
        "      <td> 0</td>\n",
        "      <td> 0</td>\n",
        "      <td> 0</td>\n",
        "      <td> 0</td>\n",
        "      <td> 0</td>\n",
        "    </tr>\n",
        "  </tbody>\n",
        "</table>\n",
        "<p>5 rows \u00d7 21 columns</p>\n",
        "</div>"
       ],
       "metadata": {},
       "output_type": "pyout",
       "prompt_number": 34,
       "text": [
        "                        Email        Date  Sunday  Monday  Tuesday  Wednesday  \\\n",
        "0  11435mail@mkallenberger.de  2013-05-23       1       0        0          0   \n",
        "1               1@gargour.com  2015-01-01       0       0        0          0   \n",
        "2               1@gargour.com  2015-04-02       0       0        1          0   \n",
        "3           1kttate@gmail.com  2015-08-06       1       0        0          0   \n",
        "4           1kttate@gmail.com  2015-08-13       0       1        0          0   \n",
        "\n",
        "   Thursday  Friday  Saturday  0:00 - 2:00      ...       4:00 - 6:00  \\\n",
        "0         0       0         0            0      ...                 0   \n",
        "1         0       0         1            0      ...                 0   \n",
        "2         0       0         0            0      ...                 0   \n",
        "3         0       0         0            0      ...                 0   \n",
        "4         1       0         0            0      ...                 0   \n",
        "\n",
        "   6:00 - 8:00  8:00 - 10:00  10:00 - 12:00  12:00 - 14:00  14:00 - 16:00  \\\n",
        "0            0             0              0              0              1   \n",
        "1            0             0              0              0              0   \n",
        "2            0             0              0              0              1   \n",
        "3            0             1              0              0              0   \n",
        "4            0             1              0              1              0   \n",
        "\n",
        "   16:00 - 18:00  18:00 - 20:00  20:00 - 22:00  22:00 - 0:00  \n",
        "0              0              0              0             0  \n",
        "1              1              0              0             0  \n",
        "2              0              0              0             0  \n",
        "3              0              0              0             0  \n",
        "4              0              0              0             0  \n",
        "\n",
        "[5 rows x 21 columns]"
       ]
      }
     ],
     "prompt_number": 34
    },
    {
     "cell_type": "code",
     "collapsed": false,
     "input": [
      "df5 = data[['Email', 'Date', 'Revenue']]\n",
      "df2 = data[['Email', 'Date']]\n",
      "df2 = df2.drop_duplicates().reset_index().drop('index',1)\n",
      "df2['Total orders'] = 1\n",
      "df2.head()"
     ],
     "language": "python",
     "metadata": {},
     "outputs": [
      {
       "html": [
        "<div style=\"max-height:1000px;max-width:1500px;overflow:auto;\">\n",
        "<table border=\"1\" class=\"dataframe\">\n",
        "  <thead>\n",
        "    <tr style=\"text-align: right;\">\n",
        "      <th></th>\n",
        "      <th>Email</th>\n",
        "      <th>Date</th>\n",
        "      <th>Total orders</th>\n",
        "    </tr>\n",
        "  </thead>\n",
        "  <tbody>\n",
        "    <tr>\n",
        "      <th>0</th>\n",
        "      <td>        flynat@gmail.com</td>\n",
        "      <td> 2015-12-24</td>\n",
        "      <td> 1</td>\n",
        "    </tr>\n",
        "    <tr>\n",
        "      <th>1</th>\n",
        "      <td> madash_lulu@hotmail.com</td>\n",
        "      <td> 2015-12-24</td>\n",
        "      <td> 1</td>\n",
        "    </tr>\n",
        "    <tr>\n",
        "      <th>2</th>\n",
        "      <td>  mo.youssef81@gmail.com</td>\n",
        "      <td> 2015-12-24</td>\n",
        "      <td> 1</td>\n",
        "    </tr>\n",
        "    <tr>\n",
        "      <th>3</th>\n",
        "      <td>          m7s_1@live.com</td>\n",
        "      <td> 2015-12-24</td>\n",
        "      <td> 1</td>\n",
        "    </tr>\n",
        "    <tr>\n",
        "      <th>4</th>\n",
        "      <td>     doaasamra@yahoo.com</td>\n",
        "      <td> 2015-12-24</td>\n",
        "      <td> 1</td>\n",
        "    </tr>\n",
        "  </tbody>\n",
        "</table>\n",
        "</div>"
       ],
       "metadata": {},
       "output_type": "pyout",
       "prompt_number": 35,
       "text": [
        "                     Email        Date  Total orders\n",
        "0         flynat@gmail.com  2015-12-24             1\n",
        "1  madash_lulu@hotmail.com  2015-12-24             1\n",
        "2   mo.youssef81@gmail.com  2015-12-24             1\n",
        "3           m7s_1@live.com  2015-12-24             1\n",
        "4      doaasamra@yahoo.com  2015-12-24             1"
       ]
      }
     ],
     "prompt_number": 35
    },
    {
     "cell_type": "code",
     "collapsed": false,
     "input": [
      "df5 = df5.groupby(['Email', 'Date'], as_index=False).sum()\n",
      "df5.head()"
     ],
     "language": "python",
     "metadata": {},
     "outputs": [
      {
       "html": [
        "<div style=\"max-height:1000px;max-width:1500px;overflow:auto;\">\n",
        "<table border=\"1\" class=\"dataframe\">\n",
        "  <thead>\n",
        "    <tr style=\"text-align: right;\">\n",
        "      <th></th>\n",
        "      <th>Email</th>\n",
        "      <th>Date</th>\n",
        "      <th>Revenue</th>\n",
        "    </tr>\n",
        "  </thead>\n",
        "  <tbody>\n",
        "    <tr>\n",
        "      <th>0</th>\n",
        "      <td> 11435mail@mkallenberger.de</td>\n",
        "      <td> 2013-05-23</td>\n",
        "      <td> 267.17</td>\n",
        "    </tr>\n",
        "    <tr>\n",
        "      <th>1</th>\n",
        "      <td>              1@gargour.com</td>\n",
        "      <td> 2015-01-01</td>\n",
        "      <td> 729.10</td>\n",
        "    </tr>\n",
        "    <tr>\n",
        "      <th>2</th>\n",
        "      <td>              1@gargour.com</td>\n",
        "      <td> 2015-04-02</td>\n",
        "      <td> 272.00</td>\n",
        "    </tr>\n",
        "    <tr>\n",
        "      <th>3</th>\n",
        "      <td>          1kttate@gmail.com</td>\n",
        "      <td> 2015-08-06</td>\n",
        "      <td> 216.00</td>\n",
        "    </tr>\n",
        "    <tr>\n",
        "      <th>4</th>\n",
        "      <td>          1kttate@gmail.com</td>\n",
        "      <td> 2015-08-13</td>\n",
        "      <td> 242.00</td>\n",
        "    </tr>\n",
        "  </tbody>\n",
        "</table>\n",
        "</div>"
       ],
       "metadata": {},
       "output_type": "pyout",
       "prompt_number": 36,
       "text": [
        "                        Email        Date  Revenue\n",
        "0  11435mail@mkallenberger.de  2013-05-23   267.17\n",
        "1               1@gargour.com  2015-01-01   729.10\n",
        "2               1@gargour.com  2015-04-02   272.00\n",
        "3           1kttate@gmail.com  2015-08-06   216.00\n",
        "4           1kttate@gmail.com  2015-08-13   242.00"
       ]
      }
     ],
     "prompt_number": 36
    },
    {
     "cell_type": "code",
     "collapsed": false,
     "input": [
      "df2 = df2.groupby(['Email', 'Date'], as_index=False).sum()\n",
      "df2.head()"
     ],
     "language": "python",
     "metadata": {},
     "outputs": [
      {
       "html": [
        "<div style=\"max-height:1000px;max-width:1500px;overflow:auto;\">\n",
        "<table border=\"1\" class=\"dataframe\">\n",
        "  <thead>\n",
        "    <tr style=\"text-align: right;\">\n",
        "      <th></th>\n",
        "      <th>Email</th>\n",
        "      <th>Date</th>\n",
        "      <th>Total orders</th>\n",
        "    </tr>\n",
        "  </thead>\n",
        "  <tbody>\n",
        "    <tr>\n",
        "      <th>0</th>\n",
        "      <td> 11435mail@mkallenberger.de</td>\n",
        "      <td> 2013-05-23</td>\n",
        "      <td> 1</td>\n",
        "    </tr>\n",
        "    <tr>\n",
        "      <th>1</th>\n",
        "      <td>              1@gargour.com</td>\n",
        "      <td> 2015-01-01</td>\n",
        "      <td> 1</td>\n",
        "    </tr>\n",
        "    <tr>\n",
        "      <th>2</th>\n",
        "      <td>              1@gargour.com</td>\n",
        "      <td> 2015-04-02</td>\n",
        "      <td> 1</td>\n",
        "    </tr>\n",
        "    <tr>\n",
        "      <th>3</th>\n",
        "      <td>          1kttate@gmail.com</td>\n",
        "      <td> 2015-08-06</td>\n",
        "      <td> 1</td>\n",
        "    </tr>\n",
        "    <tr>\n",
        "      <th>4</th>\n",
        "      <td>          1kttate@gmail.com</td>\n",
        "      <td> 2015-08-13</td>\n",
        "      <td> 1</td>\n",
        "    </tr>\n",
        "  </tbody>\n",
        "</table>\n",
        "</div>"
       ],
       "metadata": {},
       "output_type": "pyout",
       "prompt_number": 37,
       "text": [
        "                        Email        Date  Total orders\n",
        "0  11435mail@mkallenberger.de  2013-05-23             1\n",
        "1               1@gargour.com  2015-01-01             1\n",
        "2               1@gargour.com  2015-04-02             1\n",
        "3           1kttate@gmail.com  2015-08-06             1\n",
        "4           1kttate@gmail.com  2015-08-13             1"
       ]
      }
     ],
     "prompt_number": 37
    },
    {
     "cell_type": "code",
     "collapsed": false,
     "input": [
      "#join data frames\n",
      "df3 = df2.merge(df5, on = ['Email', 'Date'], how = 'inner')\n",
      "\n",
      "#calculate basket value and join data frames\n",
      "df3.loc[:, 'Basket Value'] = df3.apply(lambda x: x['Revenue']/float(x['Total orders']), axis=1)\n",
      "df3 = df3.merge(df1, on = ['Email', 'Date'], how = 'inner')\n",
      "df3.head()"
     ],
     "language": "python",
     "metadata": {},
     "outputs": [
      {
       "html": [
        "<div style=\"max-height:1000px;max-width:1500px;overflow:auto;\">\n",
        "<table border=\"1\" class=\"dataframe\">\n",
        "  <thead>\n",
        "    <tr style=\"text-align: right;\">\n",
        "      <th></th>\n",
        "      <th>Email</th>\n",
        "      <th>Date</th>\n",
        "      <th>Total orders</th>\n",
        "      <th>Revenue</th>\n",
        "      <th>Basket Value</th>\n",
        "      <th>Sunday</th>\n",
        "      <th>Monday</th>\n",
        "      <th>Tuesday</th>\n",
        "      <th>Wednesday</th>\n",
        "      <th>Thursday</th>\n",
        "      <th>...</th>\n",
        "      <th>4:00 - 6:00</th>\n",
        "      <th>6:00 - 8:00</th>\n",
        "      <th>8:00 - 10:00</th>\n",
        "      <th>10:00 - 12:00</th>\n",
        "      <th>12:00 - 14:00</th>\n",
        "      <th>14:00 - 16:00</th>\n",
        "      <th>16:00 - 18:00</th>\n",
        "      <th>18:00 - 20:00</th>\n",
        "      <th>20:00 - 22:00</th>\n",
        "      <th>22:00 - 0:00</th>\n",
        "    </tr>\n",
        "  </thead>\n",
        "  <tbody>\n",
        "    <tr>\n",
        "      <th>0</th>\n",
        "      <td> 11435mail@mkallenberger.de</td>\n",
        "      <td> 2013-05-23</td>\n",
        "      <td> 1</td>\n",
        "      <td> 267.17</td>\n",
        "      <td> 267.17</td>\n",
        "      <td> 1</td>\n",
        "      <td> 0</td>\n",
        "      <td> 0</td>\n",
        "      <td> 0</td>\n",
        "      <td> 0</td>\n",
        "      <td>...</td>\n",
        "      <td> 0</td>\n",
        "      <td> 0</td>\n",
        "      <td> 0</td>\n",
        "      <td> 0</td>\n",
        "      <td> 0</td>\n",
        "      <td> 1</td>\n",
        "      <td> 0</td>\n",
        "      <td> 0</td>\n",
        "      <td> 0</td>\n",
        "      <td> 0</td>\n",
        "    </tr>\n",
        "    <tr>\n",
        "      <th>1</th>\n",
        "      <td>              1@gargour.com</td>\n",
        "      <td> 2015-01-01</td>\n",
        "      <td> 1</td>\n",
        "      <td> 729.10</td>\n",
        "      <td> 729.10</td>\n",
        "      <td> 0</td>\n",
        "      <td> 0</td>\n",
        "      <td> 0</td>\n",
        "      <td> 0</td>\n",
        "      <td> 0</td>\n",
        "      <td>...</td>\n",
        "      <td> 0</td>\n",
        "      <td> 0</td>\n",
        "      <td> 0</td>\n",
        "      <td> 0</td>\n",
        "      <td> 0</td>\n",
        "      <td> 0</td>\n",
        "      <td> 1</td>\n",
        "      <td> 0</td>\n",
        "      <td> 0</td>\n",
        "      <td> 0</td>\n",
        "    </tr>\n",
        "    <tr>\n",
        "      <th>2</th>\n",
        "      <td>              1@gargour.com</td>\n",
        "      <td> 2015-04-02</td>\n",
        "      <td> 1</td>\n",
        "      <td> 272.00</td>\n",
        "      <td> 272.00</td>\n",
        "      <td> 0</td>\n",
        "      <td> 0</td>\n",
        "      <td> 1</td>\n",
        "      <td> 0</td>\n",
        "      <td> 0</td>\n",
        "      <td>...</td>\n",
        "      <td> 0</td>\n",
        "      <td> 0</td>\n",
        "      <td> 0</td>\n",
        "      <td> 0</td>\n",
        "      <td> 0</td>\n",
        "      <td> 1</td>\n",
        "      <td> 0</td>\n",
        "      <td> 0</td>\n",
        "      <td> 0</td>\n",
        "      <td> 0</td>\n",
        "    </tr>\n",
        "    <tr>\n",
        "      <th>3</th>\n",
        "      <td>          1kttate@gmail.com</td>\n",
        "      <td> 2015-08-06</td>\n",
        "      <td> 1</td>\n",
        "      <td> 216.00</td>\n",
        "      <td> 216.00</td>\n",
        "      <td> 1</td>\n",
        "      <td> 0</td>\n",
        "      <td> 0</td>\n",
        "      <td> 0</td>\n",
        "      <td> 0</td>\n",
        "      <td>...</td>\n",
        "      <td> 0</td>\n",
        "      <td> 0</td>\n",
        "      <td> 1</td>\n",
        "      <td> 0</td>\n",
        "      <td> 0</td>\n",
        "      <td> 0</td>\n",
        "      <td> 0</td>\n",
        "      <td> 0</td>\n",
        "      <td> 0</td>\n",
        "      <td> 0</td>\n",
        "    </tr>\n",
        "    <tr>\n",
        "      <th>4</th>\n",
        "      <td>          1kttate@gmail.com</td>\n",
        "      <td> 2015-08-13</td>\n",
        "      <td> 1</td>\n",
        "      <td> 242.00</td>\n",
        "      <td> 242.00</td>\n",
        "      <td> 0</td>\n",
        "      <td> 1</td>\n",
        "      <td> 0</td>\n",
        "      <td> 0</td>\n",
        "      <td> 1</td>\n",
        "      <td>...</td>\n",
        "      <td> 0</td>\n",
        "      <td> 0</td>\n",
        "      <td> 1</td>\n",
        "      <td> 0</td>\n",
        "      <td> 1</td>\n",
        "      <td> 0</td>\n",
        "      <td> 0</td>\n",
        "      <td> 0</td>\n",
        "      <td> 0</td>\n",
        "      <td> 0</td>\n",
        "    </tr>\n",
        "  </tbody>\n",
        "</table>\n",
        "<p>5 rows \u00d7 24 columns</p>\n",
        "</div>"
       ],
       "metadata": {},
       "output_type": "pyout",
       "prompt_number": 38,
       "text": [
        "                        Email        Date  Total orders  Revenue  \\\n",
        "0  11435mail@mkallenberger.de  2013-05-23             1   267.17   \n",
        "1               1@gargour.com  2015-01-01             1   729.10   \n",
        "2               1@gargour.com  2015-04-02             1   272.00   \n",
        "3           1kttate@gmail.com  2015-08-06             1   216.00   \n",
        "4           1kttate@gmail.com  2015-08-13             1   242.00   \n",
        "\n",
        "   Basket Value  Sunday  Monday  Tuesday  Wednesday  Thursday      ...       \\\n",
        "0        267.17       1       0        0          0         0      ...        \n",
        "1        729.10       0       0        0          0         0      ...        \n",
        "2        272.00       0       0        1          0         0      ...        \n",
        "3        216.00       1       0        0          0         0      ...        \n",
        "4        242.00       0       1        0          0         1      ...        \n",
        "\n",
        "   4:00 - 6:00  6:00 - 8:00  8:00 - 10:00  10:00 - 12:00  12:00 - 14:00  \\\n",
        "0            0            0             0              0              0   \n",
        "1            0            0             0              0              0   \n",
        "2            0            0             0              0              0   \n",
        "3            0            0             1              0              0   \n",
        "4            0            0             1              0              1   \n",
        "\n",
        "   14:00 - 16:00  16:00 - 18:00  18:00 - 20:00  20:00 - 22:00  22:00 - 0:00  \n",
        "0              1              0              0              0             0  \n",
        "1              0              1              0              0             0  \n",
        "2              1              0              0              0             0  \n",
        "3              0              0              0              0             0  \n",
        "4              0              0              0              0             0  \n",
        "\n",
        "[5 rows x 24 columns]"
       ]
      }
     ],
     "prompt_number": 38
    },
    {
     "cell_type": "code",
     "collapsed": false,
     "input": [
      "df = pd.read_csv(cfg['root']+cfg['dir_data_shopify']+cfg[\"input_orders\"], low_memory=False)\n",
      "#df = pd.read_csv('C:\\Users\\saisree849\\Documents\\GitHub\\NGS-2.0\\data_input\\shopify\\orders_export.csv', low_memory=False)\n",
      "#get required columns\n",
      "df1 = df[['Lineitem quantity', 'Lineitem price']]\n",
      "\n",
      "#calculate revenue\n",
      "df1.loc[:, 'Revenue'] = df1.apply(lambda x: x['Lineitem quantity'] * x['Lineitem price'], axis=1)\n",
      "df1.head()"
     ],
     "language": "python",
     "metadata": {},
     "outputs": [
      {
       "html": [
        "<div style=\"max-height:1000px;max-width:1500px;overflow:auto;\">\n",
        "<table border=\"1\" class=\"dataframe\">\n",
        "  <thead>\n",
        "    <tr style=\"text-align: right;\">\n",
        "      <th></th>\n",
        "      <th>Lineitem quantity</th>\n",
        "      <th>Lineitem price</th>\n",
        "      <th>Revenue</th>\n",
        "    </tr>\n",
        "  </thead>\n",
        "  <tbody>\n",
        "    <tr>\n",
        "      <th>0</th>\n",
        "      <td> 5</td>\n",
        "      <td>  4</td>\n",
        "      <td> 20</td>\n",
        "    </tr>\n",
        "    <tr>\n",
        "      <th>1</th>\n",
        "      <td> 2</td>\n",
        "      <td>  5</td>\n",
        "      <td> 10</td>\n",
        "    </tr>\n",
        "    <tr>\n",
        "      <th>2</th>\n",
        "      <td> 1</td>\n",
        "      <td> 16</td>\n",
        "      <td> 16</td>\n",
        "    </tr>\n",
        "    <tr>\n",
        "      <th>3</th>\n",
        "      <td> 2</td>\n",
        "      <td> 12</td>\n",
        "      <td> 24</td>\n",
        "    </tr>\n",
        "    <tr>\n",
        "      <th>4</th>\n",
        "      <td> 1</td>\n",
        "      <td>  9</td>\n",
        "      <td>  9</td>\n",
        "    </tr>\n",
        "  </tbody>\n",
        "</table>\n",
        "</div>"
       ],
       "metadata": {},
       "output_type": "pyout",
       "prompt_number": 39,
       "text": [
        "   Lineitem quantity  Lineitem price  Revenue\n",
        "0                  5               4       20\n",
        "1                  2               5       10\n",
        "2                  1              16       16\n",
        "3                  2              12       24\n",
        "4                  1               9        9"
       ]
      }
     ],
     "prompt_number": 39
    },
    {
     "cell_type": "code",
     "collapsed": false,
     "input": [
      "#get required columns\n",
      "df1=df1[['Lineitem quantity', 'Revenue']]\n",
      "df = df[['Email']]\n",
      "\n",
      "df = df.drop_duplicates().reset_index().drop('index',1)\n",
      "df.head()"
     ],
     "language": "python",
     "metadata": {},
     "outputs": [
      {
       "html": [
        "<div style=\"max-height:1000px;max-width:1500px;overflow:auto;\">\n",
        "<table border=\"1\" class=\"dataframe\">\n",
        "  <thead>\n",
        "    <tr style=\"text-align: right;\">\n",
        "      <th></th>\n",
        "      <th>Email</th>\n",
        "    </tr>\n",
        "  </thead>\n",
        "  <tbody>\n",
        "    <tr>\n",
        "      <th>0</th>\n",
        "      <td>        flynat@gmail.com</td>\n",
        "    </tr>\n",
        "    <tr>\n",
        "      <th>1</th>\n",
        "      <td> madash_lulu@hotmail.com</td>\n",
        "    </tr>\n",
        "    <tr>\n",
        "      <th>2</th>\n",
        "      <td>  mo.youssef81@gmail.com</td>\n",
        "    </tr>\n",
        "    <tr>\n",
        "      <th>3</th>\n",
        "      <td>          m7s_1@live.com</td>\n",
        "    </tr>\n",
        "    <tr>\n",
        "      <th>4</th>\n",
        "      <td>     doaasamra@yahoo.com</td>\n",
        "    </tr>\n",
        "  </tbody>\n",
        "</table>\n",
        "</div>"
       ],
       "metadata": {},
       "output_type": "pyout",
       "prompt_number": 40,
       "text": [
        "                     Email\n",
        "0         flynat@gmail.com\n",
        "1  madash_lulu@hotmail.com\n",
        "2   mo.youssef81@gmail.com\n",
        "3           m7s_1@live.com\n",
        "4      doaasamra@yahoo.com"
       ]
      }
     ],
     "prompt_number": 40
    },
    {
     "cell_type": "code",
     "collapsed": false,
     "input": [
      "#calculate avg revenue, avg basket size\n",
      "df1 = df1.sum()\n",
      "df3['Average Revenue'] = df1['Revenue']/float(max(df.index)+1)\n",
      "df3['Average Basket Size'] = df1['Lineitem quantity']/float(max(df.index)+1)\n",
      "df3.head()"
     ],
     "language": "python",
     "metadata": {},
     "outputs": [
      {
       "html": [
        "<div style=\"max-height:1000px;max-width:1500px;overflow:auto;\">\n",
        "<table border=\"1\" class=\"dataframe\">\n",
        "  <thead>\n",
        "    <tr style=\"text-align: right;\">\n",
        "      <th></th>\n",
        "      <th>Email</th>\n",
        "      <th>Date</th>\n",
        "      <th>Total orders</th>\n",
        "      <th>Revenue</th>\n",
        "      <th>Basket Value</th>\n",
        "      <th>Sunday</th>\n",
        "      <th>Monday</th>\n",
        "      <th>Tuesday</th>\n",
        "      <th>Wednesday</th>\n",
        "      <th>Thursday</th>\n",
        "      <th>...</th>\n",
        "      <th>8:00 - 10:00</th>\n",
        "      <th>10:00 - 12:00</th>\n",
        "      <th>12:00 - 14:00</th>\n",
        "      <th>14:00 - 16:00</th>\n",
        "      <th>16:00 - 18:00</th>\n",
        "      <th>18:00 - 20:00</th>\n",
        "      <th>20:00 - 22:00</th>\n",
        "      <th>22:00 - 0:00</th>\n",
        "      <th>Average Revenue</th>\n",
        "      <th>Average Basket Size</th>\n",
        "    </tr>\n",
        "  </thead>\n",
        "  <tbody>\n",
        "    <tr>\n",
        "      <th>0</th>\n",
        "      <td> 11435mail@mkallenberger.de</td>\n",
        "      <td> 2013-05-23</td>\n",
        "      <td> 1</td>\n",
        "      <td> 267.17</td>\n",
        "      <td> 267.17</td>\n",
        "      <td> 1</td>\n",
        "      <td> 0</td>\n",
        "      <td> 0</td>\n",
        "      <td> 0</td>\n",
        "      <td> 0</td>\n",
        "      <td>...</td>\n",
        "      <td> 0</td>\n",
        "      <td> 0</td>\n",
        "      <td> 0</td>\n",
        "      <td> 1</td>\n",
        "      <td> 0</td>\n",
        "      <td> 0</td>\n",
        "      <td> 0</td>\n",
        "      <td> 0</td>\n",
        "      <td> 1145.680415</td>\n",
        "      <td> 38.310062</td>\n",
        "    </tr>\n",
        "    <tr>\n",
        "      <th>1</th>\n",
        "      <td>              1@gargour.com</td>\n",
        "      <td> 2015-01-01</td>\n",
        "      <td> 1</td>\n",
        "      <td> 729.10</td>\n",
        "      <td> 729.10</td>\n",
        "      <td> 0</td>\n",
        "      <td> 0</td>\n",
        "      <td> 0</td>\n",
        "      <td> 0</td>\n",
        "      <td> 0</td>\n",
        "      <td>...</td>\n",
        "      <td> 0</td>\n",
        "      <td> 0</td>\n",
        "      <td> 0</td>\n",
        "      <td> 0</td>\n",
        "      <td> 1</td>\n",
        "      <td> 0</td>\n",
        "      <td> 0</td>\n",
        "      <td> 0</td>\n",
        "      <td> 1145.680415</td>\n",
        "      <td> 38.310062</td>\n",
        "    </tr>\n",
        "    <tr>\n",
        "      <th>2</th>\n",
        "      <td>              1@gargour.com</td>\n",
        "      <td> 2015-04-02</td>\n",
        "      <td> 1</td>\n",
        "      <td> 272.00</td>\n",
        "      <td> 272.00</td>\n",
        "      <td> 0</td>\n",
        "      <td> 0</td>\n",
        "      <td> 1</td>\n",
        "      <td> 0</td>\n",
        "      <td> 0</td>\n",
        "      <td>...</td>\n",
        "      <td> 0</td>\n",
        "      <td> 0</td>\n",
        "      <td> 0</td>\n",
        "      <td> 1</td>\n",
        "      <td> 0</td>\n",
        "      <td> 0</td>\n",
        "      <td> 0</td>\n",
        "      <td> 0</td>\n",
        "      <td> 1145.680415</td>\n",
        "      <td> 38.310062</td>\n",
        "    </tr>\n",
        "    <tr>\n",
        "      <th>3</th>\n",
        "      <td>          1kttate@gmail.com</td>\n",
        "      <td> 2015-08-06</td>\n",
        "      <td> 1</td>\n",
        "      <td> 216.00</td>\n",
        "      <td> 216.00</td>\n",
        "      <td> 1</td>\n",
        "      <td> 0</td>\n",
        "      <td> 0</td>\n",
        "      <td> 0</td>\n",
        "      <td> 0</td>\n",
        "      <td>...</td>\n",
        "      <td> 1</td>\n",
        "      <td> 0</td>\n",
        "      <td> 0</td>\n",
        "      <td> 0</td>\n",
        "      <td> 0</td>\n",
        "      <td> 0</td>\n",
        "      <td> 0</td>\n",
        "      <td> 0</td>\n",
        "      <td> 1145.680415</td>\n",
        "      <td> 38.310062</td>\n",
        "    </tr>\n",
        "    <tr>\n",
        "      <th>4</th>\n",
        "      <td>          1kttate@gmail.com</td>\n",
        "      <td> 2015-08-13</td>\n",
        "      <td> 1</td>\n",
        "      <td> 242.00</td>\n",
        "      <td> 242.00</td>\n",
        "      <td> 0</td>\n",
        "      <td> 1</td>\n",
        "      <td> 0</td>\n",
        "      <td> 0</td>\n",
        "      <td> 1</td>\n",
        "      <td>...</td>\n",
        "      <td> 1</td>\n",
        "      <td> 0</td>\n",
        "      <td> 1</td>\n",
        "      <td> 0</td>\n",
        "      <td> 0</td>\n",
        "      <td> 0</td>\n",
        "      <td> 0</td>\n",
        "      <td> 0</td>\n",
        "      <td> 1145.680415</td>\n",
        "      <td> 38.310062</td>\n",
        "    </tr>\n",
        "  </tbody>\n",
        "</table>\n",
        "<p>5 rows \u00d7 26 columns</p>\n",
        "</div>"
       ],
       "metadata": {},
       "output_type": "pyout",
       "prompt_number": 41,
       "text": [
        "                        Email        Date  Total orders  Revenue  \\\n",
        "0  11435mail@mkallenberger.de  2013-05-23             1   267.17   \n",
        "1               1@gargour.com  2015-01-01             1   729.10   \n",
        "2               1@gargour.com  2015-04-02             1   272.00   \n",
        "3           1kttate@gmail.com  2015-08-06             1   216.00   \n",
        "4           1kttate@gmail.com  2015-08-13             1   242.00   \n",
        "\n",
        "   Basket Value  Sunday  Monday  Tuesday  Wednesday  Thursday  \\\n",
        "0        267.17       1       0        0          0         0   \n",
        "1        729.10       0       0        0          0         0   \n",
        "2        272.00       0       0        1          0         0   \n",
        "3        216.00       1       0        0          0         0   \n",
        "4        242.00       0       1        0          0         1   \n",
        "\n",
        "          ...           8:00 - 10:00  10:00 - 12:00  12:00 - 14:00  \\\n",
        "0         ...                      0              0              0   \n",
        "1         ...                      0              0              0   \n",
        "2         ...                      0              0              0   \n",
        "3         ...                      1              0              0   \n",
        "4         ...                      1              0              1   \n",
        "\n",
        "   14:00 - 16:00  16:00 - 18:00  18:00 - 20:00  20:00 - 22:00  22:00 - 0:00  \\\n",
        "0              1              0              0              0             0   \n",
        "1              0              1              0              0             0   \n",
        "2              1              0              0              0             0   \n",
        "3              0              0              0              0             0   \n",
        "4              0              0              0              0             0   \n",
        "\n",
        "   Average Revenue  Average Basket Size  \n",
        "0      1145.680415            38.310062  \n",
        "1      1145.680415            38.310062  \n",
        "2      1145.680415            38.310062  \n",
        "3      1145.680415            38.310062  \n",
        "4      1145.680415            38.310062  \n",
        "\n",
        "[5 rows x 26 columns]"
       ]
      }
     ],
     "prompt_number": 41
    },
    {
     "cell_type": "code",
     "collapsed": false,
     "input": [
      "customers = pd.read_csv(cfg['root']+cfg['dir_data_shopify']+cfg[\"input_customers\"], low_memory=False)\n",
      "#customers = pd.read_csv('C:\\Users\\saisree849\\Documents\\GitHub\\NGS-2.0\\data_input\\shopify\\customers_export.csv', low_memory=False)\n",
      "customers.head()"
     ],
     "language": "python",
     "metadata": {},
     "outputs": [
      {
       "html": [
        "<div style=\"max-height:1000px;max-width:1500px;overflow:auto;\">\n",
        "<table border=\"1\" class=\"dataframe\">\n",
        "  <thead>\n",
        "    <tr style=\"text-align: right;\">\n",
        "      <th></th>\n",
        "      <th>First Name</th>\n",
        "      <th>Last Name</th>\n",
        "      <th>Email</th>\n",
        "      <th>Company</th>\n",
        "      <th>Address1</th>\n",
        "      <th>Address2</th>\n",
        "      <th>City</th>\n",
        "      <th>Province</th>\n",
        "      <th>Province Code</th>\n",
        "      <th>Country</th>\n",
        "      <th>Country Code</th>\n",
        "      <th>Zip</th>\n",
        "      <th>Phone</th>\n",
        "      <th>Accepts Marketing</th>\n",
        "      <th>Total Spent</th>\n",
        "      <th>Total Orders</th>\n",
        "      <th>Tags</th>\n",
        "      <th>Note</th>\n",
        "      <th>Tax Exempt</th>\n",
        "    </tr>\n",
        "  </thead>\n",
        "  <tbody>\n",
        "    <tr>\n",
        "      <th>0</th>\n",
        "      <td> Madiha</td>\n",
        "      <td> Kishk</td>\n",
        "      <td> madash_lulu@hotmail.com</td>\n",
        "      <td>              NaN</td>\n",
        "      <td> 140 Hay Al Ashgar Compound, Al Wahat Rd, after...</td>\n",
        "      <td> Apt #5 , 1st floor</td>\n",
        "      <td> 6th of October City</td>\n",
        "      <td> 6th of October</td>\n",
        "      <td> SU</td>\n",
        "      <td> Egypt</td>\n",
        "      <td> EG</td>\n",
        "      <td>  00000</td>\n",
        "      <td>   01065666209</td>\n",
        "      <td> no</td>\n",
        "      <td> 0</td>\n",
        "      <td> 1</td>\n",
        "      <td> NaN</td>\n",
        "      <td> NaN</td>\n",
        "      <td> no</td>\n",
        "    </tr>\n",
        "    <tr>\n",
        "      <th>1</th>\n",
        "      <td>   Afaf</td>\n",
        "      <td> Ahmed</td>\n",
        "      <td>   ca_fifi@hotmail.co.uk</td>\n",
        "      <td>              NaN</td>\n",
        "      <td>                             103 mat7af al manyal </td>\n",
        "      <td>       21, floor 3 </td>\n",
        "      <td>               cairo</td>\n",
        "      <td>           Giza</td>\n",
        "      <td> GZ</td>\n",
        "      <td> Egypt</td>\n",
        "      <td> EG</td>\n",
        "      <td>    103</td>\n",
        "      <td>   01128853990</td>\n",
        "      <td> no</td>\n",
        "      <td> 0</td>\n",
        "      <td> 1</td>\n",
        "      <td> NaN</td>\n",
        "      <td> NaN</td>\n",
        "      <td> no</td>\n",
        "    </tr>\n",
        "    <tr>\n",
        "      <th>2</th>\n",
        "      <td>   Hana</td>\n",
        "      <td> Fahny</td>\n",
        "      <td>   hanaemad@aucegypt.edu</td>\n",
        "      <td>              NaN</td>\n",
        "      <td> 4  eleshaky st. Off khalifa elmaamoun st. Heli...</td>\n",
        "      <td>                  3</td>\n",
        "      <td>               Cairo</td>\n",
        "      <td>          Cairo</td>\n",
        "      <td>  C</td>\n",
        "      <td> Egypt</td>\n",
        "      <td> EG</td>\n",
        "      <td> 114731</td>\n",
        "      <td>   01002336048</td>\n",
        "      <td> no</td>\n",
        "      <td> 0</td>\n",
        "      <td> 1</td>\n",
        "      <td> NaN</td>\n",
        "      <td> NaN</td>\n",
        "      <td> no</td>\n",
        "    </tr>\n",
        "    <tr>\n",
        "      <th>3</th>\n",
        "      <td>   Hend</td>\n",
        "      <td>  Bakr</td>\n",
        "      <td>   hendbakr142@gmail.com</td>\n",
        "      <td>              NaN</td>\n",
        "      <td>     62 kaboul st., Makram Ebeid, Nasr city, Cairo</td>\n",
        "      <td>                NaN</td>\n",
        "      <td>               Cairo</td>\n",
        "      <td>          Cairo</td>\n",
        "      <td>  C</td>\n",
        "      <td> Egypt</td>\n",
        "      <td> EG</td>\n",
        "      <td>    NaN</td>\n",
        "      <td> 0201117702122</td>\n",
        "      <td> no</td>\n",
        "      <td> 0</td>\n",
        "      <td> 0</td>\n",
        "      <td> NaN</td>\n",
        "      <td> NaN</td>\n",
        "      <td> no</td>\n",
        "    </tr>\n",
        "    <tr>\n",
        "      <th>4</th>\n",
        "      <td>  Abeer</td>\n",
        "      <td> Morsi</td>\n",
        "      <td>    morsiabeer@gmail.com</td>\n",
        "      <td> Ahli United Bank</td>\n",
        "      <td>                                  Galleria 40 Mall</td>\n",
        "      <td>          1st floor</td>\n",
        "      <td>        sheikh zayed</td>\n",
        "      <td> 6th of October</td>\n",
        "      <td> SU</td>\n",
        "      <td> Egypt</td>\n",
        "      <td> EG</td>\n",
        "      <td>   1234</td>\n",
        "      <td>   01005390008</td>\n",
        "      <td> no</td>\n",
        "      <td> 0</td>\n",
        "      <td> 1</td>\n",
        "      <td> NaN</td>\n",
        "      <td> NaN</td>\n",
        "      <td> no</td>\n",
        "    </tr>\n",
        "  </tbody>\n",
        "</table>\n",
        "</div>"
       ],
       "metadata": {},
       "output_type": "pyout",
       "prompt_number": 42,
       "text": [
        "  First Name Last Name                    Email           Company  \\\n",
        "0     Madiha     Kishk  madash_lulu@hotmail.com               NaN   \n",
        "1       Afaf     Ahmed    ca_fifi@hotmail.co.uk               NaN   \n",
        "2       Hana     Fahny    hanaemad@aucegypt.edu               NaN   \n",
        "3       Hend      Bakr    hendbakr142@gmail.com               NaN   \n",
        "4      Abeer     Morsi     morsiabeer@gmail.com  Ahli United Bank   \n",
        "\n",
        "                                            Address1            Address2  \\\n",
        "0  140 Hay Al Ashgar Compound, Al Wahat Rd, after...  Apt #5 , 1st floor   \n",
        "1                              103 mat7af al manyal         21, floor 3    \n",
        "2  4  eleshaky st. Off khalifa elmaamoun st. Heli...                   3   \n",
        "3      62 kaboul st., Makram Ebeid, Nasr city, Cairo                 NaN   \n",
        "4                                   Galleria 40 Mall           1st floor   \n",
        "\n",
        "                  City        Province Province Code Country Country Code  \\\n",
        "0  6th of October City  6th of October            SU   Egypt           EG   \n",
        "1                cairo            Giza            GZ   Egypt           EG   \n",
        "2                Cairo           Cairo             C   Egypt           EG   \n",
        "3                Cairo           Cairo             C   Egypt           EG   \n",
        "4         sheikh zayed  6th of October            SU   Egypt           EG   \n",
        "\n",
        "      Zip          Phone Accepts Marketing  Total Spent  Total Orders Tags  \\\n",
        "0   00000    01065666209                no            0             1  NaN   \n",
        "1     103    01128853990                no            0             1  NaN   \n",
        "2  114731    01002336048                no            0             1  NaN   \n",
        "3     NaN  0201117702122                no            0             0  NaN   \n",
        "4    1234    01005390008                no            0             1  NaN   \n",
        "\n",
        "  Note Tax Exempt  \n",
        "0  NaN         no  \n",
        "1  NaN         no  \n",
        "2  NaN         no  \n",
        "3  NaN         no  \n",
        "4  NaN         no  "
       ]
      }
     ],
     "prompt_number": 42
    },
    {
     "cell_type": "code",
     "collapsed": false,
     "input": [
      "#concatenate name, address\n",
      "customers['Name'] = customers['First Name'] + \" \" + customers['Last Name']\n",
      "customers['Address'] = customers['Address1'] + \" \" + customers['Address2'] + \" \" + customers['City']\n",
      "\n",
      "customers = customers[['Name', 'Address', 'Phone', 'Email']]\n",
      "customers.head()"
     ],
     "language": "python",
     "metadata": {},
     "outputs": [
      {
       "html": [
        "<div style=\"max-height:1000px;max-width:1500px;overflow:auto;\">\n",
        "<table border=\"1\" class=\"dataframe\">\n",
        "  <thead>\n",
        "    <tr style=\"text-align: right;\">\n",
        "      <th></th>\n",
        "      <th>Name</th>\n",
        "      <th>Address</th>\n",
        "      <th>Phone</th>\n",
        "      <th>Email</th>\n",
        "    </tr>\n",
        "  </thead>\n",
        "  <tbody>\n",
        "    <tr>\n",
        "      <th>0</th>\n",
        "      <td> Madiha Kishk</td>\n",
        "      <td> 140 Hay Al Ashgar Compound, Al Wahat Rd, after...</td>\n",
        "      <td>   01065666209</td>\n",
        "      <td> madash_lulu@hotmail.com</td>\n",
        "    </tr>\n",
        "    <tr>\n",
        "      <th>1</th>\n",
        "      <td>   Afaf Ahmed</td>\n",
        "      <td>          103 mat7af al manyal  21, floor 3  cairo</td>\n",
        "      <td>   01128853990</td>\n",
        "      <td>   ca_fifi@hotmail.co.uk</td>\n",
        "    </tr>\n",
        "    <tr>\n",
        "      <th>2</th>\n",
        "      <td>   Hana Fahny</td>\n",
        "      <td> 4  eleshaky st. Off khalifa elmaamoun st. Heli...</td>\n",
        "      <td>   01002336048</td>\n",
        "      <td>   hanaemad@aucegypt.edu</td>\n",
        "    </tr>\n",
        "    <tr>\n",
        "      <th>3</th>\n",
        "      <td>    Hend Bakr</td>\n",
        "      <td>                                               NaN</td>\n",
        "      <td> 0201117702122</td>\n",
        "      <td>   hendbakr142@gmail.com</td>\n",
        "    </tr>\n",
        "    <tr>\n",
        "      <th>4</th>\n",
        "      <td>  Abeer Morsi</td>\n",
        "      <td>           Galleria 40 Mall 1st floor sheikh zayed</td>\n",
        "      <td>   01005390008</td>\n",
        "      <td>    morsiabeer@gmail.com</td>\n",
        "    </tr>\n",
        "  </tbody>\n",
        "</table>\n",
        "</div>"
       ],
       "metadata": {},
       "output_type": "pyout",
       "prompt_number": 43,
       "text": [
        "           Name                                            Address  \\\n",
        "0  Madiha Kishk  140 Hay Al Ashgar Compound, Al Wahat Rd, after...   \n",
        "1    Afaf Ahmed           103 mat7af al manyal  21, floor 3  cairo   \n",
        "2    Hana Fahny  4  eleshaky st. Off khalifa elmaamoun st. Heli...   \n",
        "3     Hend Bakr                                                NaN   \n",
        "4   Abeer Morsi            Galleria 40 Mall 1st floor sheikh zayed   \n",
        "\n",
        "           Phone                    Email  \n",
        "0    01065666209  madash_lulu@hotmail.com  \n",
        "1    01128853990    ca_fifi@hotmail.co.uk  \n",
        "2    01002336048    hanaemad@aucegypt.edu  \n",
        "3  0201117702122    hendbakr142@gmail.com  \n",
        "4    01005390008     morsiabeer@gmail.com  "
       ]
      }
     ],
     "prompt_number": 43
    },
    {
     "cell_type": "code",
     "collapsed": false,
     "input": [
      "df3 = customers.merge(df3, on = ['Email'], how = 'inner')\n",
      "df3.head()"
     ],
     "language": "python",
     "metadata": {},
     "outputs": [
      {
       "html": [
        "<div style=\"max-height:1000px;max-width:1500px;overflow:auto;\">\n",
        "<table border=\"1\" class=\"dataframe\">\n",
        "  <thead>\n",
        "    <tr style=\"text-align: right;\">\n",
        "      <th></th>\n",
        "      <th>Name</th>\n",
        "      <th>Address</th>\n",
        "      <th>Phone</th>\n",
        "      <th>Email</th>\n",
        "      <th>Date</th>\n",
        "      <th>Total orders</th>\n",
        "      <th>Revenue</th>\n",
        "      <th>Basket Value</th>\n",
        "      <th>Sunday</th>\n",
        "      <th>Monday</th>\n",
        "      <th>...</th>\n",
        "      <th>8:00 - 10:00</th>\n",
        "      <th>10:00 - 12:00</th>\n",
        "      <th>12:00 - 14:00</th>\n",
        "      <th>14:00 - 16:00</th>\n",
        "      <th>16:00 - 18:00</th>\n",
        "      <th>18:00 - 20:00</th>\n",
        "      <th>20:00 - 22:00</th>\n",
        "      <th>22:00 - 0:00</th>\n",
        "      <th>Average Revenue</th>\n",
        "      <th>Average Basket Size</th>\n",
        "    </tr>\n",
        "  </thead>\n",
        "  <tbody>\n",
        "    <tr>\n",
        "      <th>0</th>\n",
        "      <td>   Madiha Kishk</td>\n",
        "      <td> 140 Hay Al Ashgar Compound, Al Wahat Rd, after...</td>\n",
        "      <td> 01065666209</td>\n",
        "      <td> madash_lulu@hotmail.com</td>\n",
        "      <td> 2015-12-24</td>\n",
        "      <td> 1</td>\n",
        "      <td> 197</td>\n",
        "      <td> 197</td>\n",
        "      <td> 0</td>\n",
        "      <td> 0</td>\n",
        "      <td>...</td>\n",
        "      <td> 0</td>\n",
        "      <td> 0</td>\n",
        "      <td> 0</td>\n",
        "      <td> 0</td>\n",
        "      <td> 0</td>\n",
        "      <td> 0</td>\n",
        "      <td> 1</td>\n",
        "      <td> 0</td>\n",
        "      <td> 1145.680415</td>\n",
        "      <td> 38.310062</td>\n",
        "    </tr>\n",
        "    <tr>\n",
        "      <th>1</th>\n",
        "      <td>     Afaf Ahmed</td>\n",
        "      <td>          103 mat7af al manyal  21, floor 3  cairo</td>\n",
        "      <td> 01128853990</td>\n",
        "      <td>   ca_fifi@hotmail.co.uk</td>\n",
        "      <td> 2015-12-24</td>\n",
        "      <td> 1</td>\n",
        "      <td> 200</td>\n",
        "      <td> 200</td>\n",
        "      <td> 0</td>\n",
        "      <td> 0</td>\n",
        "      <td>...</td>\n",
        "      <td> 0</td>\n",
        "      <td> 0</td>\n",
        "      <td> 0</td>\n",
        "      <td> 1</td>\n",
        "      <td> 0</td>\n",
        "      <td> 0</td>\n",
        "      <td> 0</td>\n",
        "      <td> 0</td>\n",
        "      <td> 1145.680415</td>\n",
        "      <td> 38.310062</td>\n",
        "    </tr>\n",
        "    <tr>\n",
        "      <th>2</th>\n",
        "      <td>     Hana Fahny</td>\n",
        "      <td> 4  eleshaky st. Off khalifa elmaamoun st. Heli...</td>\n",
        "      <td> 01002336048</td>\n",
        "      <td>   hanaemad@aucegypt.edu</td>\n",
        "      <td> 2015-12-24</td>\n",
        "      <td> 1</td>\n",
        "      <td> 195</td>\n",
        "      <td> 195</td>\n",
        "      <td> 0</td>\n",
        "      <td> 0</td>\n",
        "      <td>...</td>\n",
        "      <td> 0</td>\n",
        "      <td> 0</td>\n",
        "      <td> 0</td>\n",
        "      <td> 1</td>\n",
        "      <td> 0</td>\n",
        "      <td> 0</td>\n",
        "      <td> 0</td>\n",
        "      <td> 0</td>\n",
        "      <td> 1145.680415</td>\n",
        "      <td> 38.310062</td>\n",
        "    </tr>\n",
        "    <tr>\n",
        "      <th>3</th>\n",
        "      <td>    Abeer Morsi</td>\n",
        "      <td>           Galleria 40 Mall 1st floor sheikh zayed</td>\n",
        "      <td> 01005390008</td>\n",
        "      <td>    morsiabeer@gmail.com</td>\n",
        "      <td> 2015-12-24</td>\n",
        "      <td> 1</td>\n",
        "      <td> 417</td>\n",
        "      <td> 417</td>\n",
        "      <td> 0</td>\n",
        "      <td> 0</td>\n",
        "      <td>...</td>\n",
        "      <td> 0</td>\n",
        "      <td> 0</td>\n",
        "      <td> 0</td>\n",
        "      <td> 1</td>\n",
        "      <td> 0</td>\n",
        "      <td> 0</td>\n",
        "      <td> 0</td>\n",
        "      <td> 0</td>\n",
        "      <td> 1145.680415</td>\n",
        "      <td> 38.310062</td>\n",
        "    </tr>\n",
        "    <tr>\n",
        "      <th>4</th>\n",
        "      <td> Douha Kawakibi</td>\n",
        "      <td>               On top of Blom bank apt# 24 Zamalek</td>\n",
        "      <td> 01116870111</td>\n",
        "      <td>    dodykawa@hotmail.com</td>\n",
        "      <td> 2015-12-24</td>\n",
        "      <td> 1</td>\n",
        "      <td>  61</td>\n",
        "      <td>  61</td>\n",
        "      <td> 0</td>\n",
        "      <td> 1</td>\n",
        "      <td>...</td>\n",
        "      <td> 0</td>\n",
        "      <td> 0</td>\n",
        "      <td> 0</td>\n",
        "      <td> 0</td>\n",
        "      <td> 1</td>\n",
        "      <td> 0</td>\n",
        "      <td> 0</td>\n",
        "      <td> 0</td>\n",
        "      <td> 1145.680415</td>\n",
        "      <td> 38.310062</td>\n",
        "    </tr>\n",
        "  </tbody>\n",
        "</table>\n",
        "<p>5 rows \u00d7 29 columns</p>\n",
        "</div>"
       ],
       "metadata": {},
       "output_type": "pyout",
       "prompt_number": 44,
       "text": [
        "             Name                                            Address  \\\n",
        "0    Madiha Kishk  140 Hay Al Ashgar Compound, Al Wahat Rd, after...   \n",
        "1      Afaf Ahmed           103 mat7af al manyal  21, floor 3  cairo   \n",
        "2      Hana Fahny  4  eleshaky st. Off khalifa elmaamoun st. Heli...   \n",
        "3     Abeer Morsi            Galleria 40 Mall 1st floor sheikh zayed   \n",
        "4  Douha Kawakibi                On top of Blom bank apt# 24 Zamalek   \n",
        "\n",
        "         Phone                    Email        Date  Total orders  Revenue  \\\n",
        "0  01065666209  madash_lulu@hotmail.com  2015-12-24             1      197   \n",
        "1  01128853990    ca_fifi@hotmail.co.uk  2015-12-24             1      200   \n",
        "2  01002336048    hanaemad@aucegypt.edu  2015-12-24             1      195   \n",
        "3  01005390008     morsiabeer@gmail.com  2015-12-24             1      417   \n",
        "4  01116870111     dodykawa@hotmail.com  2015-12-24             1       61   \n",
        "\n",
        "   Basket Value  Sunday  Monday         ...           8:00 - 10:00  \\\n",
        "0           197       0       0         ...                      0   \n",
        "1           200       0       0         ...                      0   \n",
        "2           195       0       0         ...                      0   \n",
        "3           417       0       0         ...                      0   \n",
        "4            61       0       1         ...                      0   \n",
        "\n",
        "   10:00 - 12:00  12:00 - 14:00  14:00 - 16:00  16:00 - 18:00  18:00 - 20:00  \\\n",
        "0              0              0              0              0              0   \n",
        "1              0              0              1              0              0   \n",
        "2              0              0              1              0              0   \n",
        "3              0              0              1              0              0   \n",
        "4              0              0              0              1              0   \n",
        "\n",
        "   20:00 - 22:00  22:00 - 0:00  Average Revenue  Average Basket Size  \n",
        "0              1             0      1145.680415            38.310062  \n",
        "1              0             0      1145.680415            38.310062  \n",
        "2              0             0      1145.680415            38.310062  \n",
        "3              0             0      1145.680415            38.310062  \n",
        "4              0             0      1145.680415            38.310062  \n",
        "\n",
        "[5 rows x 29 columns]"
       ]
      }
     ],
     "prompt_number": 44
    },
    {
     "cell_type": "code",
     "collapsed": false,
     "input": [
      "df3.to_csv(\"C:\\Users\\saisree849\\Documents\\GitHub\\NGS-2.0\\data_output\\customer_dates.csv\", index=False)"
     ],
     "language": "python",
     "metadata": {},
     "outputs": [],
     "prompt_number": 45
    },
    {
     "cell_type": "code",
     "collapsed": false,
     "input": [],
     "language": "python",
     "metadata": {},
     "outputs": []
    }
   ],
   "metadata": {}
  }
 ]
}
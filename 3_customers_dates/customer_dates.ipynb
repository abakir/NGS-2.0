{
 "metadata": {
  "name": "",
  "signature": "sha256:41e7d5065c31eb57a24df29888561582b389c88972b617b3aa9b93085a4f8112"
 },
 "nbformat": 3,
 "nbformat_minor": 0,
 "worksheets": [
  {
   "cells": [
    {
     "cell_type": "code",
     "collapsed": false,
     "input": [
      "#!/home/cloudera/local/lib/python2.6/site-packages/bin/python\n",
      "\n",
      "import pandas as pd\n",
      "from datetime import datetime\n",
      "import datetime as DT\n",
      "import re\n",
      "import yaml\n",
      "import logging\n",
      "import time\n",
      "import os\n",
      "\n",
      "with open(\"/home/cloudera/Documents/12_dashboard_tables/config.yaml\", 'r') as ymlfile:\n",
      "        cfg = yaml.load(ymlfile)\n",
      "        \n",
      "def make_sure_path_exists(path):\n",
      "    if (os.path.isdir(path) == False):\n",
      "        os.makedirs(path)\n",
      "\n",
      "make_sure_path_exists(cfg['root'] + cfg['dir_logs'])\n",
      "make_sure_path_exists(cfg['root']+cfg['dir_data_output'])\n",
      "\n",
      "# create logger\n",
      "logger = logging.getLogger(cfg['log_customer_dates'])\n",
      "logger.setLevel(logging.DEBUG)\n",
      "# create console handler and set level to debug\n",
      "ch = logging.FileHandler(cfg['root'] + cfg['dir_logs'] + cfg['log_customer_dates'] + \"_\" + time.strftime(\"%Y_%m_%d_%H_%M_%S\") + \".log\" )\n",
      "ch.setLevel(logging.DEBUG)\n",
      "# create formatter\n",
      "formatter = logging.Formatter(\"%(asctime)s - %(name)s - %(levelname)s - %(message)s\")\n",
      "# add formatter to ch\n",
      "ch.setFormatter(formatter)\n",
      "# add ch to logger\n",
      "logger.addHandler(ch)\n",
      "\n",
      "df = pd.read_csv(cfg['root']+cfg['dir_data_shopify']+cfg[\"ip_orders\"], low_memory=False)\n",
      "logger.debug(\"Data Frame df created\")"
     ],
     "language": "python",
     "metadata": {},
     "outputs": [],
     "prompt_number": 34
    },
    {
     "cell_type": "code",
     "collapsed": false,
     "input": [
      "df = df[['Name', 'Email', 'Created at', 'Lineitem quantity', 'Lineitem price']]\n",
      "#calculate revenue\n",
      "df.loc[:, 'Revenue'] = df.apply(lambda x: x['Lineitem quantity']*x['Lineitem price'], axis=1)\n",
      "df.head()"
     ],
     "language": "python",
     "metadata": {},
     "outputs": [
      {
       "html": [
        "<div style=\"max-height:1000px;max-width:1500px;overflow:auto;\">\n",
        "<table border=\"1\" class=\"dataframe\">\n",
        "  <thead>\n",
        "    <tr style=\"text-align: right;\">\n",
        "      <th></th>\n",
        "      <th>Name</th>\n",
        "      <th>Email</th>\n",
        "      <th>Created at</th>\n",
        "      <th>Lineitem quantity</th>\n",
        "      <th>Lineitem price</th>\n",
        "      <th>Revenue</th>\n",
        "    </tr>\n",
        "  </thead>\n",
        "  <tbody>\n",
        "    <tr>\n",
        "      <th>0</th>\n",
        "      <td> #10367</td>\n",
        "      <td> rehabmansour@gmail.com</td>\n",
        "      <td> 2015-12-23 20:33:51 +0200</td>\n",
        "      <td> 4</td>\n",
        "      <td> 45.0</td>\n",
        "      <td> 180.0</td>\n",
        "    </tr>\n",
        "    <tr>\n",
        "      <th>1</th>\n",
        "      <td> #10367</td>\n",
        "      <td> rehabmansour@gmail.com</td>\n",
        "      <td> 2015-12-23 20:33:51 +0200</td>\n",
        "      <td> 2</td>\n",
        "      <td>  7.2</td>\n",
        "      <td>  14.4</td>\n",
        "    </tr>\n",
        "    <tr>\n",
        "      <th>2</th>\n",
        "      <td> #10367</td>\n",
        "      <td> rehabmansour@gmail.com</td>\n",
        "      <td> 2015-12-23 20:33:51 +0200</td>\n",
        "      <td> 3</td>\n",
        "      <td> 60.3</td>\n",
        "      <td> 180.9</td>\n",
        "    </tr>\n",
        "    <tr>\n",
        "      <th>3</th>\n",
        "      <td> #10366</td>\n",
        "      <td>    nabouheif@yahoo.com</td>\n",
        "      <td> 2015-12-23 20:00:17 +0200</td>\n",
        "      <td> 1</td>\n",
        "      <td> 30.6</td>\n",
        "      <td>  30.6</td>\n",
        "    </tr>\n",
        "    <tr>\n",
        "      <th>4</th>\n",
        "      <td> #10366</td>\n",
        "      <td>    nabouheif@yahoo.com</td>\n",
        "      <td> 2015-12-23 20:00:17 +0200</td>\n",
        "      <td> 1</td>\n",
        "      <td> 10.8</td>\n",
        "      <td>  10.8</td>\n",
        "    </tr>\n",
        "  </tbody>\n",
        "</table>\n",
        "</div>"
       ],
       "metadata": {},
       "output_type": "pyout",
       "prompt_number": 35,
       "text": [
        "     Name                   Email                 Created at  \\\n",
        "0  #10367  rehabmansour@gmail.com  2015-12-23 20:33:51 +0200   \n",
        "1  #10367  rehabmansour@gmail.com  2015-12-23 20:33:51 +0200   \n",
        "2  #10367  rehabmansour@gmail.com  2015-12-23 20:33:51 +0200   \n",
        "3  #10366     nabouheif@yahoo.com  2015-12-23 20:00:17 +0200   \n",
        "4  #10366     nabouheif@yahoo.com  2015-12-23 20:00:17 +0200   \n",
        "\n",
        "   Lineitem quantity  Lineitem price  Revenue  \n",
        "0                  4            45.0    180.0  \n",
        "1                  2             7.2     14.4  \n",
        "2                  3            60.3    180.9  \n",
        "3                  1            30.6     30.6  \n",
        "4                  1            10.8     10.8  "
       ]
      }
     ],
     "prompt_number": 35
    },
    {
     "cell_type": "code",
     "collapsed": false,
     "input": [
      "#get required columns and rename\n",
      "df = df[['Name', 'Email', 'Created at', 'Revenue']]\n",
      "df.columns = ['Name', 'Email', 'Date', 'Revenue']\n",
      "df['Date1'] = df['Date']\n",
      "df.head()"
     ],
     "language": "python",
     "metadata": {},
     "outputs": [
      {
       "html": [
        "<div style=\"max-height:1000px;max-width:1500px;overflow:auto;\">\n",
        "<table border=\"1\" class=\"dataframe\">\n",
        "  <thead>\n",
        "    <tr style=\"text-align: right;\">\n",
        "      <th></th>\n",
        "      <th>Name</th>\n",
        "      <th>Email</th>\n",
        "      <th>Date</th>\n",
        "      <th>Revenue</th>\n",
        "      <th>Date1</th>\n",
        "    </tr>\n",
        "  </thead>\n",
        "  <tbody>\n",
        "    <tr>\n",
        "      <th>0</th>\n",
        "      <td> #10367</td>\n",
        "      <td> rehabmansour@gmail.com</td>\n",
        "      <td> 2015-12-23 20:33:51 +0200</td>\n",
        "      <td> 180.0</td>\n",
        "      <td> 2015-12-23 20:33:51 +0200</td>\n",
        "    </tr>\n",
        "    <tr>\n",
        "      <th>1</th>\n",
        "      <td> #10367</td>\n",
        "      <td> rehabmansour@gmail.com</td>\n",
        "      <td> 2015-12-23 20:33:51 +0200</td>\n",
        "      <td>  14.4</td>\n",
        "      <td> 2015-12-23 20:33:51 +0200</td>\n",
        "    </tr>\n",
        "    <tr>\n",
        "      <th>2</th>\n",
        "      <td> #10367</td>\n",
        "      <td> rehabmansour@gmail.com</td>\n",
        "      <td> 2015-12-23 20:33:51 +0200</td>\n",
        "      <td> 180.9</td>\n",
        "      <td> 2015-12-23 20:33:51 +0200</td>\n",
        "    </tr>\n",
        "    <tr>\n",
        "      <th>3</th>\n",
        "      <td> #10366</td>\n",
        "      <td>    nabouheif@yahoo.com</td>\n",
        "      <td> 2015-12-23 20:00:17 +0200</td>\n",
        "      <td>  30.6</td>\n",
        "      <td> 2015-12-23 20:00:17 +0200</td>\n",
        "    </tr>\n",
        "    <tr>\n",
        "      <th>4</th>\n",
        "      <td> #10366</td>\n",
        "      <td>    nabouheif@yahoo.com</td>\n",
        "      <td> 2015-12-23 20:00:17 +0200</td>\n",
        "      <td>  10.8</td>\n",
        "      <td> 2015-12-23 20:00:17 +0200</td>\n",
        "    </tr>\n",
        "  </tbody>\n",
        "</table>\n",
        "</div>"
       ],
       "metadata": {},
       "output_type": "pyout",
       "prompt_number": 36,
       "text": [
        "     Name                   Email                       Date  Revenue  \\\n",
        "0  #10367  rehabmansour@gmail.com  2015-12-23 20:33:51 +0200    180.0   \n",
        "1  #10367  rehabmansour@gmail.com  2015-12-23 20:33:51 +0200     14.4   \n",
        "2  #10367  rehabmansour@gmail.com  2015-12-23 20:33:51 +0200    180.9   \n",
        "3  #10366     nabouheif@yahoo.com  2015-12-23 20:00:17 +0200     30.6   \n",
        "4  #10366     nabouheif@yahoo.com  2015-12-23 20:00:17 +0200     10.8   \n",
        "\n",
        "                       Date1  \n",
        "0  2015-12-23 20:33:51 +0200  \n",
        "1  2015-12-23 20:33:51 +0200  \n",
        "2  2015-12-23 20:33:51 +0200  \n",
        "3  2015-12-23 20:00:17 +0200  \n",
        "4  2015-12-23 20:00:17 +0200  "
       ]
      }
     ],
     "prompt_number": 36
    },
    {
     "cell_type": "code",
     "collapsed": false,
     "input": [
      "#get date as day\n",
      "def getDay(data):\n",
      "    matchobj = re.match(r'(.*) (.*) (.*).*',data)\n",
      "    data = matchobj.group(1)\n",
      "    return pd.to_datetime(datetime.strptime(data, '%Y-%m-%d')).date().strftime(\"%A\")\n",
      "\n",
      "#get hours of the order\n",
      "def getHours(data):\n",
      "    matchobj = re.match(r'(.*) (.*) (.*).*',data)\n",
      "    data = matchobj.group(2)\n",
      "    num = pd.to_datetime(datetime.strptime(data, '%H:%M:%S')).hour\n",
      "    if(num < 2):\n",
      "        return 0\n",
      "    elif((num >= 2) & (num < 4)):\n",
      "        return 2\n",
      "    elif((num >= 4) & (num < 6)):\n",
      "        return 4\n",
      "    elif((num >= 6) & (num < 8)):\n",
      "        return 6\n",
      "    elif((num >= 8) & (num < 10)):\n",
      "        return 8\n",
      "    elif((num >= 10) & (num < 12)):\n",
      "        return 10\n",
      "    elif((num >= 12) & (num < 14)):\n",
      "        return 12\n",
      "    elif((num >= 14) & (num < 16)):\n",
      "        return 14\n",
      "    elif((num >= 16) & (num < 18)):\n",
      "        return 16\n",
      "    elif((num >= 18) & (num < 20)):\n",
      "        return 18\n",
      "    elif((num >= 20) & (num < 22)):\n",
      "        return 20\n",
      "    elif(num >= 22):\n",
      "        return 22\n",
      "    \n",
      "def changeDate(data):\n",
      "    matchobj = re.match(r'(.*) (.*) (.*).*',data)\n",
      "    if (pd.to_datetime(datetime.strptime(matchobj.group(1), '%Y-%m-%d')).date().strftime(\"%A\") == 'Wednesday'):\n",
      "        return datetime.strptime(matchobj.group(1), '%Y-%m-%d').date() - DT.timedelta(days=6)\n",
      "    if (pd.to_datetime(datetime.strptime(matchobj.group(1), '%Y-%m-%d')).date().strftime(\"%A\") == 'Tuesday'):\n",
      "        return datetime.strptime(matchobj.group(1), '%Y-%m-%d').date() - DT.timedelta(days=5)\n",
      "    if (pd.to_datetime(datetime.strptime(matchobj.group(1), '%Y-%m-%d')).date().strftime(\"%A\") == 'Monday'):\n",
      "        return datetime.strptime(matchobj.group(1), '%Y-%m-%d').date() - DT.timedelta(days=4)\n",
      "    if (pd.to_datetime(datetime.strptime(matchobj.group(1), '%Y-%m-%d')).date().strftime(\"%A\") == 'Sunday'):\n",
      "        return datetime.strptime(matchobj.group(1), '%Y-%m-%d').date() - DT.timedelta(days=3)\n",
      "    if (pd.to_datetime(datetime.strptime(matchobj.group(1), '%Y-%m-%d')).date().strftime(\"%A\") == 'Saturday'):\n",
      "        return datetime.strptime(matchobj.group(1), '%Y-%m-%d').date() - DT.timedelta(days=2)\n",
      "    if (pd.to_datetime(datetime.strptime(matchobj.group(1), '%Y-%m-%d')).date().strftime(\"%A\") == 'Friday'):\n",
      "        return datetime.strptime(matchobj.group(1), '%Y-%m-%d').date() - DT.timedelta(days=1)"
     ],
     "language": "python",
     "metadata": {},
     "outputs": [],
     "prompt_number": 37
    },
    {
     "cell_type": "code",
     "collapsed": false,
     "input": [
      "df.loc[:, 'Day'] = df.Date1.apply(getDay)\n",
      "df.loc[:, 'Hours'] = df.Date1.apply(getHours)\n",
      "\n",
      "df = df[['Name', 'Email', 'Date', 'Revenue', 'Day', 'Hours']]\n",
      "df.head()"
     ],
     "language": "python",
     "metadata": {},
     "outputs": [
      {
       "html": [
        "<div style=\"max-height:1000px;max-width:1500px;overflow:auto;\">\n",
        "<table border=\"1\" class=\"dataframe\">\n",
        "  <thead>\n",
        "    <tr style=\"text-align: right;\">\n",
        "      <th></th>\n",
        "      <th>Name</th>\n",
        "      <th>Email</th>\n",
        "      <th>Date</th>\n",
        "      <th>Revenue</th>\n",
        "      <th>Day</th>\n",
        "      <th>Hours</th>\n",
        "    </tr>\n",
        "  </thead>\n",
        "  <tbody>\n",
        "    <tr>\n",
        "      <th>0</th>\n",
        "      <td> #10367</td>\n",
        "      <td> rehabmansour@gmail.com</td>\n",
        "      <td> 2015-12-23 20:33:51 +0200</td>\n",
        "      <td> 180.0</td>\n",
        "      <td> Wednesday</td>\n",
        "      <td> 20</td>\n",
        "    </tr>\n",
        "    <tr>\n",
        "      <th>1</th>\n",
        "      <td> #10367</td>\n",
        "      <td> rehabmansour@gmail.com</td>\n",
        "      <td> 2015-12-23 20:33:51 +0200</td>\n",
        "      <td>  14.4</td>\n",
        "      <td> Wednesday</td>\n",
        "      <td> 20</td>\n",
        "    </tr>\n",
        "    <tr>\n",
        "      <th>2</th>\n",
        "      <td> #10367</td>\n",
        "      <td> rehabmansour@gmail.com</td>\n",
        "      <td> 2015-12-23 20:33:51 +0200</td>\n",
        "      <td> 180.9</td>\n",
        "      <td> Wednesday</td>\n",
        "      <td> 20</td>\n",
        "    </tr>\n",
        "    <tr>\n",
        "      <th>3</th>\n",
        "      <td> #10366</td>\n",
        "      <td>    nabouheif@yahoo.com</td>\n",
        "      <td> 2015-12-23 20:00:17 +0200</td>\n",
        "      <td>  30.6</td>\n",
        "      <td> Wednesday</td>\n",
        "      <td> 20</td>\n",
        "    </tr>\n",
        "    <tr>\n",
        "      <th>4</th>\n",
        "      <td> #10366</td>\n",
        "      <td>    nabouheif@yahoo.com</td>\n",
        "      <td> 2015-12-23 20:00:17 +0200</td>\n",
        "      <td>  10.8</td>\n",
        "      <td> Wednesday</td>\n",
        "      <td> 20</td>\n",
        "    </tr>\n",
        "  </tbody>\n",
        "</table>\n",
        "</div>"
       ],
       "metadata": {},
       "output_type": "pyout",
       "prompt_number": 38,
       "text": [
        "     Name                   Email                       Date  Revenue  \\\n",
        "0  #10367  rehabmansour@gmail.com  2015-12-23 20:33:51 +0200    180.0   \n",
        "1  #10367  rehabmansour@gmail.com  2015-12-23 20:33:51 +0200     14.4   \n",
        "2  #10367  rehabmansour@gmail.com  2015-12-23 20:33:51 +0200    180.9   \n",
        "3  #10366     nabouheif@yahoo.com  2015-12-23 20:00:17 +0200     30.6   \n",
        "4  #10366     nabouheif@yahoo.com  2015-12-23 20:00:17 +0200     10.8   \n",
        "\n",
        "         Day  Hours  \n",
        "0  Wednesday     20  \n",
        "1  Wednesday     20  \n",
        "2  Wednesday     20  \n",
        "3  Wednesday     20  \n",
        "4  Wednesday     20  "
       ]
      }
     ],
     "prompt_number": 38
    },
    {
     "cell_type": "code",
     "collapsed": false,
     "input": [
      "df.loc[:, 'Date'] = df.Date.apply(changeDate)\n",
      "df.head()"
     ],
     "language": "python",
     "metadata": {},
     "outputs": [
      {
       "html": [
        "<div style=\"max-height:1000px;max-width:1500px;overflow:auto;\">\n",
        "<table border=\"1\" class=\"dataframe\">\n",
        "  <thead>\n",
        "    <tr style=\"text-align: right;\">\n",
        "      <th></th>\n",
        "      <th>Name</th>\n",
        "      <th>Email</th>\n",
        "      <th>Date</th>\n",
        "      <th>Revenue</th>\n",
        "      <th>Day</th>\n",
        "      <th>Hours</th>\n",
        "    </tr>\n",
        "  </thead>\n",
        "  <tbody>\n",
        "    <tr>\n",
        "      <th>0</th>\n",
        "      <td> #10367</td>\n",
        "      <td> rehabmansour@gmail.com</td>\n",
        "      <td> 2015-12-17</td>\n",
        "      <td> 180.0</td>\n",
        "      <td> Wednesday</td>\n",
        "      <td> 20</td>\n",
        "    </tr>\n",
        "    <tr>\n",
        "      <th>1</th>\n",
        "      <td> #10367</td>\n",
        "      <td> rehabmansour@gmail.com</td>\n",
        "      <td> 2015-12-17</td>\n",
        "      <td>  14.4</td>\n",
        "      <td> Wednesday</td>\n",
        "      <td> 20</td>\n",
        "    </tr>\n",
        "    <tr>\n",
        "      <th>2</th>\n",
        "      <td> #10367</td>\n",
        "      <td> rehabmansour@gmail.com</td>\n",
        "      <td> 2015-12-17</td>\n",
        "      <td> 180.9</td>\n",
        "      <td> Wednesday</td>\n",
        "      <td> 20</td>\n",
        "    </tr>\n",
        "    <tr>\n",
        "      <th>3</th>\n",
        "      <td> #10366</td>\n",
        "      <td>    nabouheif@yahoo.com</td>\n",
        "      <td> 2015-12-17</td>\n",
        "      <td>  30.6</td>\n",
        "      <td> Wednesday</td>\n",
        "      <td> 20</td>\n",
        "    </tr>\n",
        "    <tr>\n",
        "      <th>4</th>\n",
        "      <td> #10366</td>\n",
        "      <td>    nabouheif@yahoo.com</td>\n",
        "      <td> 2015-12-17</td>\n",
        "      <td>  10.8</td>\n",
        "      <td> Wednesday</td>\n",
        "      <td> 20</td>\n",
        "    </tr>\n",
        "  </tbody>\n",
        "</table>\n",
        "</div>"
       ],
       "metadata": {},
       "output_type": "pyout",
       "prompt_number": 39,
       "text": [
        "     Name                   Email        Date  Revenue        Day  Hours\n",
        "0  #10367  rehabmansour@gmail.com  2015-12-17    180.0  Wednesday     20\n",
        "1  #10367  rehabmansour@gmail.com  2015-12-17     14.4  Wednesday     20\n",
        "2  #10367  rehabmansour@gmail.com  2015-12-17    180.9  Wednesday     20\n",
        "3  #10366     nabouheif@yahoo.com  2015-12-17     30.6  Wednesday     20\n",
        "4  #10366     nabouheif@yahoo.com  2015-12-17     10.8  Wednesday     20"
       ]
      }
     ],
     "prompt_number": 39
    },
    {
     "cell_type": "code",
     "collapsed": false,
     "input": [
      "df = df.drop_duplicates().reset_index().drop('index',1)\n",
      "df.head()"
     ],
     "language": "python",
     "metadata": {},
     "outputs": [
      {
       "html": [
        "<div style=\"max-height:1000px;max-width:1500px;overflow:auto;\">\n",
        "<table border=\"1\" class=\"dataframe\">\n",
        "  <thead>\n",
        "    <tr style=\"text-align: right;\">\n",
        "      <th></th>\n",
        "      <th>Name</th>\n",
        "      <th>Email</th>\n",
        "      <th>Date</th>\n",
        "      <th>Revenue</th>\n",
        "      <th>Day</th>\n",
        "      <th>Hours</th>\n",
        "    </tr>\n",
        "  </thead>\n",
        "  <tbody>\n",
        "    <tr>\n",
        "      <th>0</th>\n",
        "      <td> #10367</td>\n",
        "      <td> rehabmansour@gmail.com</td>\n",
        "      <td> 2015-12-17</td>\n",
        "      <td> 180.0</td>\n",
        "      <td> Wednesday</td>\n",
        "      <td> 20</td>\n",
        "    </tr>\n",
        "    <tr>\n",
        "      <th>1</th>\n",
        "      <td> #10367</td>\n",
        "      <td> rehabmansour@gmail.com</td>\n",
        "      <td> 2015-12-17</td>\n",
        "      <td>  14.4</td>\n",
        "      <td> Wednesday</td>\n",
        "      <td> 20</td>\n",
        "    </tr>\n",
        "    <tr>\n",
        "      <th>2</th>\n",
        "      <td> #10367</td>\n",
        "      <td> rehabmansour@gmail.com</td>\n",
        "      <td> 2015-12-17</td>\n",
        "      <td> 180.9</td>\n",
        "      <td> Wednesday</td>\n",
        "      <td> 20</td>\n",
        "    </tr>\n",
        "    <tr>\n",
        "      <th>3</th>\n",
        "      <td> #10366</td>\n",
        "      <td>    nabouheif@yahoo.com</td>\n",
        "      <td> 2015-12-17</td>\n",
        "      <td>  30.6</td>\n",
        "      <td> Wednesday</td>\n",
        "      <td> 20</td>\n",
        "    </tr>\n",
        "    <tr>\n",
        "      <th>4</th>\n",
        "      <td> #10366</td>\n",
        "      <td>    nabouheif@yahoo.com</td>\n",
        "      <td> 2015-12-17</td>\n",
        "      <td>  10.8</td>\n",
        "      <td> Wednesday</td>\n",
        "      <td> 20</td>\n",
        "    </tr>\n",
        "  </tbody>\n",
        "</table>\n",
        "</div>"
       ],
       "metadata": {},
       "output_type": "pyout",
       "prompt_number": 40,
       "text": [
        "     Name                   Email        Date  Revenue        Day  Hours\n",
        "0  #10367  rehabmansour@gmail.com  2015-12-17    180.0  Wednesday     20\n",
        "1  #10367  rehabmansour@gmail.com  2015-12-17     14.4  Wednesday     20\n",
        "2  #10367  rehabmansour@gmail.com  2015-12-17    180.9  Wednesday     20\n",
        "3  #10366     nabouheif@yahoo.com  2015-12-17     30.6  Wednesday     20\n",
        "4  #10366     nabouheif@yahoo.com  2015-12-17     10.8  Wednesday     20"
       ]
      }
     ],
     "prompt_number": 40
    },
    {
     "cell_type": "code",
     "collapsed": false,
     "input": [
      "data = df[['Email', 'Date', 'Revenue']]\n",
      "data.head()"
     ],
     "language": "python",
     "metadata": {},
     "outputs": [
      {
       "html": [
        "<div style=\"max-height:1000px;max-width:1500px;overflow:auto;\">\n",
        "<table border=\"1\" class=\"dataframe\">\n",
        "  <thead>\n",
        "    <tr style=\"text-align: right;\">\n",
        "      <th></th>\n",
        "      <th>Email</th>\n",
        "      <th>Date</th>\n",
        "      <th>Revenue</th>\n",
        "    </tr>\n",
        "  </thead>\n",
        "  <tbody>\n",
        "    <tr>\n",
        "      <th>0</th>\n",
        "      <td> rehabmansour@gmail.com</td>\n",
        "      <td> 2015-12-17</td>\n",
        "      <td> 180.0</td>\n",
        "    </tr>\n",
        "    <tr>\n",
        "      <th>1</th>\n",
        "      <td> rehabmansour@gmail.com</td>\n",
        "      <td> 2015-12-17</td>\n",
        "      <td>  14.4</td>\n",
        "    </tr>\n",
        "    <tr>\n",
        "      <th>2</th>\n",
        "      <td> rehabmansour@gmail.com</td>\n",
        "      <td> 2015-12-17</td>\n",
        "      <td> 180.9</td>\n",
        "    </tr>\n",
        "    <tr>\n",
        "      <th>3</th>\n",
        "      <td>    nabouheif@yahoo.com</td>\n",
        "      <td> 2015-12-17</td>\n",
        "      <td>  30.6</td>\n",
        "    </tr>\n",
        "    <tr>\n",
        "      <th>4</th>\n",
        "      <td>    nabouheif@yahoo.com</td>\n",
        "      <td> 2015-12-17</td>\n",
        "      <td>  10.8</td>\n",
        "    </tr>\n",
        "  </tbody>\n",
        "</table>\n",
        "</div>"
       ],
       "metadata": {},
       "output_type": "pyout",
       "prompt_number": 41,
       "text": [
        "                    Email        Date  Revenue\n",
        "0  rehabmansour@gmail.com  2015-12-17    180.0\n",
        "1  rehabmansour@gmail.com  2015-12-17     14.4\n",
        "2  rehabmansour@gmail.com  2015-12-17    180.9\n",
        "3     nabouheif@yahoo.com  2015-12-17     30.6\n",
        "4     nabouheif@yahoo.com  2015-12-17     10.8"
       ]
      }
     ],
     "prompt_number": 41
    },
    {
     "cell_type": "code",
     "collapsed": false,
     "input": [
      "\n",
      "df = df[['Email', 'Date', 'Day', 'Hours']]\n",
      "\n",
      "df = df.drop_duplicates().reset_index().drop('index',1)\n",
      "df.head()"
     ],
     "language": "python",
     "metadata": {},
     "outputs": [
      {
       "html": [
        "<div style=\"max-height:1000px;max-width:1500px;overflow:auto;\">\n",
        "<table border=\"1\" class=\"dataframe\">\n",
        "  <thead>\n",
        "    <tr style=\"text-align: right;\">\n",
        "      <th></th>\n",
        "      <th>Email</th>\n",
        "      <th>Date</th>\n",
        "      <th>Day</th>\n",
        "      <th>Hours</th>\n",
        "    </tr>\n",
        "  </thead>\n",
        "  <tbody>\n",
        "    <tr>\n",
        "      <th>0</th>\n",
        "      <td> rehabmansour@gmail.com</td>\n",
        "      <td> 2015-12-17</td>\n",
        "      <td> Wednesday</td>\n",
        "      <td> 20</td>\n",
        "    </tr>\n",
        "    <tr>\n",
        "      <th>1</th>\n",
        "      <td>    nabouheif@yahoo.com</td>\n",
        "      <td> 2015-12-17</td>\n",
        "      <td> Wednesday</td>\n",
        "      <td> 20</td>\n",
        "    </tr>\n",
        "    <tr>\n",
        "      <th>2</th>\n",
        "      <td> fracicardi@hotmail.com</td>\n",
        "      <td> 2015-12-17</td>\n",
        "      <td> Wednesday</td>\n",
        "      <td> 18</td>\n",
        "    </tr>\n",
        "    <tr>\n",
        "      <th>3</th>\n",
        "      <td> ahmed.fakhry@gmail.com</td>\n",
        "      <td> 2015-12-17</td>\n",
        "      <td> Wednesday</td>\n",
        "      <td> 16</td>\n",
        "    </tr>\n",
        "    <tr>\n",
        "      <th>4</th>\n",
        "      <td>   Missilou11@yahoo.com</td>\n",
        "      <td> 2015-12-17</td>\n",
        "      <td> Wednesday</td>\n",
        "      <td> 14</td>\n",
        "    </tr>\n",
        "  </tbody>\n",
        "</table>\n",
        "</div>"
       ],
       "metadata": {},
       "output_type": "pyout",
       "prompt_number": 42,
       "text": [
        "                    Email        Date        Day  Hours\n",
        "0  rehabmansour@gmail.com  2015-12-17  Wednesday     20\n",
        "1     nabouheif@yahoo.com  2015-12-17  Wednesday     20\n",
        "2  fracicardi@hotmail.com  2015-12-17  Wednesday     18\n",
        "3  ahmed.fakhry@gmail.com  2015-12-17  Wednesday     16\n",
        "4    Missilou11@yahoo.com  2015-12-17  Wednesday     14"
       ]
      }
     ],
     "prompt_number": 42
    },
    {
     "cell_type": "code",
     "collapsed": false,
     "input": [
      "df1 = pd.DataFrame(columns = ['Email', 'Date', 'Sunday', 'Monday', 'Tuesday', 'Wednesday', 'Thursday', 'Friday', 'Saturday', 0, 2, 4, 6, 8, 10, 12, 14, 16, 18, 20, 22])\n",
      "df1['Email'] = df['Email']\n",
      "df1['Date'] = df['Date']\n",
      "df1['Sunday'] = df1['Monday'] = df1['Tuesday'] = df1['Wednesday'] = df1['Thursday'] = df1['Friday'] = df1['Saturday'] = df1[0] = df1[2] = df1[4] = df1[6] = df1[8] = df1[10] = df1[12] = df1[14] = df1[16] = df1[18] = df1[20] = df1[22] =0\n",
      "df1.head()"
     ],
     "language": "python",
     "metadata": {},
     "outputs": [
      {
       "html": [
        "<div style=\"max-height:1000px;max-width:1500px;overflow:auto;\">\n",
        "<table border=\"1\" class=\"dataframe\">\n",
        "  <thead>\n",
        "    <tr style=\"text-align: right;\">\n",
        "      <th></th>\n",
        "      <th>Email</th>\n",
        "      <th>Date</th>\n",
        "      <th>Sunday</th>\n",
        "      <th>Monday</th>\n",
        "      <th>Tuesday</th>\n",
        "      <th>Wednesday</th>\n",
        "      <th>Thursday</th>\n",
        "      <th>Friday</th>\n",
        "      <th>Saturday</th>\n",
        "      <th>0</th>\n",
        "      <th>...</th>\n",
        "      <th>4</th>\n",
        "      <th>6</th>\n",
        "      <th>8</th>\n",
        "      <th>10</th>\n",
        "      <th>12</th>\n",
        "      <th>14</th>\n",
        "      <th>16</th>\n",
        "      <th>18</th>\n",
        "      <th>20</th>\n",
        "      <th>22</th>\n",
        "    </tr>\n",
        "  </thead>\n",
        "  <tbody>\n",
        "    <tr>\n",
        "      <th>0</th>\n",
        "      <td> rehabmansour@gmail.com</td>\n",
        "      <td> 2015-12-17</td>\n",
        "      <td> 0</td>\n",
        "      <td> 0</td>\n",
        "      <td> 0</td>\n",
        "      <td> 0</td>\n",
        "      <td> 0</td>\n",
        "      <td> 0</td>\n",
        "      <td> 0</td>\n",
        "      <td> 0</td>\n",
        "      <td>...</td>\n",
        "      <td> 0</td>\n",
        "      <td> 0</td>\n",
        "      <td> 0</td>\n",
        "      <td> 0</td>\n",
        "      <td> 0</td>\n",
        "      <td> 0</td>\n",
        "      <td> 0</td>\n",
        "      <td> 0</td>\n",
        "      <td> 0</td>\n",
        "      <td> 0</td>\n",
        "    </tr>\n",
        "    <tr>\n",
        "      <th>1</th>\n",
        "      <td>    nabouheif@yahoo.com</td>\n",
        "      <td> 2015-12-17</td>\n",
        "      <td> 0</td>\n",
        "      <td> 0</td>\n",
        "      <td> 0</td>\n",
        "      <td> 0</td>\n",
        "      <td> 0</td>\n",
        "      <td> 0</td>\n",
        "      <td> 0</td>\n",
        "      <td> 0</td>\n",
        "      <td>...</td>\n",
        "      <td> 0</td>\n",
        "      <td> 0</td>\n",
        "      <td> 0</td>\n",
        "      <td> 0</td>\n",
        "      <td> 0</td>\n",
        "      <td> 0</td>\n",
        "      <td> 0</td>\n",
        "      <td> 0</td>\n",
        "      <td> 0</td>\n",
        "      <td> 0</td>\n",
        "    </tr>\n",
        "    <tr>\n",
        "      <th>2</th>\n",
        "      <td> fracicardi@hotmail.com</td>\n",
        "      <td> 2015-12-17</td>\n",
        "      <td> 0</td>\n",
        "      <td> 0</td>\n",
        "      <td> 0</td>\n",
        "      <td> 0</td>\n",
        "      <td> 0</td>\n",
        "      <td> 0</td>\n",
        "      <td> 0</td>\n",
        "      <td> 0</td>\n",
        "      <td>...</td>\n",
        "      <td> 0</td>\n",
        "      <td> 0</td>\n",
        "      <td> 0</td>\n",
        "      <td> 0</td>\n",
        "      <td> 0</td>\n",
        "      <td> 0</td>\n",
        "      <td> 0</td>\n",
        "      <td> 0</td>\n",
        "      <td> 0</td>\n",
        "      <td> 0</td>\n",
        "    </tr>\n",
        "    <tr>\n",
        "      <th>3</th>\n",
        "      <td> ahmed.fakhry@gmail.com</td>\n",
        "      <td> 2015-12-17</td>\n",
        "      <td> 0</td>\n",
        "      <td> 0</td>\n",
        "      <td> 0</td>\n",
        "      <td> 0</td>\n",
        "      <td> 0</td>\n",
        "      <td> 0</td>\n",
        "      <td> 0</td>\n",
        "      <td> 0</td>\n",
        "      <td>...</td>\n",
        "      <td> 0</td>\n",
        "      <td> 0</td>\n",
        "      <td> 0</td>\n",
        "      <td> 0</td>\n",
        "      <td> 0</td>\n",
        "      <td> 0</td>\n",
        "      <td> 0</td>\n",
        "      <td> 0</td>\n",
        "      <td> 0</td>\n",
        "      <td> 0</td>\n",
        "    </tr>\n",
        "    <tr>\n",
        "      <th>4</th>\n",
        "      <td>   Missilou11@yahoo.com</td>\n",
        "      <td> 2015-12-17</td>\n",
        "      <td> 0</td>\n",
        "      <td> 0</td>\n",
        "      <td> 0</td>\n",
        "      <td> 0</td>\n",
        "      <td> 0</td>\n",
        "      <td> 0</td>\n",
        "      <td> 0</td>\n",
        "      <td> 0</td>\n",
        "      <td>...</td>\n",
        "      <td> 0</td>\n",
        "      <td> 0</td>\n",
        "      <td> 0</td>\n",
        "      <td> 0</td>\n",
        "      <td> 0</td>\n",
        "      <td> 0</td>\n",
        "      <td> 0</td>\n",
        "      <td> 0</td>\n",
        "      <td> 0</td>\n",
        "      <td> 0</td>\n",
        "    </tr>\n",
        "  </tbody>\n",
        "</table>\n",
        "<p>5 rows \u00d7 21 columns</p>\n",
        "</div>"
       ],
       "metadata": {},
       "output_type": "pyout",
       "prompt_number": 43,
       "text": [
        "                    Email        Date  Sunday  Monday  Tuesday  Wednesday  \\\n",
        "0  rehabmansour@gmail.com  2015-12-17       0       0        0          0   \n",
        "1     nabouheif@yahoo.com  2015-12-17       0       0        0          0   \n",
        "2  fracicardi@hotmail.com  2015-12-17       0       0        0          0   \n",
        "3  ahmed.fakhry@gmail.com  2015-12-17       0       0        0          0   \n",
        "4    Missilou11@yahoo.com  2015-12-17       0       0        0          0   \n",
        "\n",
        "   Thursday  Friday  Saturday  0 ...  4  6  8  10  12  14  16  18  20  22  \n",
        "0         0       0         0  0 ...  0  0  0   0   0   0   0   0   0   0  \n",
        "1         0       0         0  0 ...  0  0  0   0   0   0   0   0   0   0  \n",
        "2         0       0         0  0 ...  0  0  0   0   0   0   0   0   0   0  \n",
        "3         0       0         0  0 ...  0  0  0   0   0   0   0   0   0   0  \n",
        "4         0       0         0  0 ...  0  0  0   0   0   0   0   0   0   0  \n",
        "\n",
        "[5 rows x 21 columns]"
       ]
      }
     ],
     "prompt_number": 43
    },
    {
     "cell_type": "code",
     "collapsed": false,
     "input": [
      "#assign values to hours and days columns\n",
      "for i in range(0, max(df.index)+1):\n",
      "    df1.loc[i,(df.iloc[i,2])] = 1\n",
      "    df1.loc[i,(df.iloc[i,3])] = 1\n",
      "df1.head()"
     ],
     "language": "python",
     "metadata": {},
     "outputs": [
      {
       "html": [
        "<div style=\"max-height:1000px;max-width:1500px;overflow:auto;\">\n",
        "<table border=\"1\" class=\"dataframe\">\n",
        "  <thead>\n",
        "    <tr style=\"text-align: right;\">\n",
        "      <th></th>\n",
        "      <th>Email</th>\n",
        "      <th>Date</th>\n",
        "      <th>Sunday</th>\n",
        "      <th>Monday</th>\n",
        "      <th>Tuesday</th>\n",
        "      <th>Wednesday</th>\n",
        "      <th>Thursday</th>\n",
        "      <th>Friday</th>\n",
        "      <th>Saturday</th>\n",
        "      <th>0</th>\n",
        "      <th>...</th>\n",
        "      <th>4</th>\n",
        "      <th>6</th>\n",
        "      <th>8</th>\n",
        "      <th>10</th>\n",
        "      <th>12</th>\n",
        "      <th>14</th>\n",
        "      <th>16</th>\n",
        "      <th>18</th>\n",
        "      <th>20</th>\n",
        "      <th>22</th>\n",
        "    </tr>\n",
        "  </thead>\n",
        "  <tbody>\n",
        "    <tr>\n",
        "      <th>0</th>\n",
        "      <td> rehabmansour@gmail.com</td>\n",
        "      <td> 2015-12-17</td>\n",
        "      <td> 0</td>\n",
        "      <td> 0</td>\n",
        "      <td> 0</td>\n",
        "      <td> 1</td>\n",
        "      <td> 0</td>\n",
        "      <td> 0</td>\n",
        "      <td> 0</td>\n",
        "      <td> 0</td>\n",
        "      <td>...</td>\n",
        "      <td> 0</td>\n",
        "      <td> 0</td>\n",
        "      <td> 0</td>\n",
        "      <td> 0</td>\n",
        "      <td> 0</td>\n",
        "      <td> 0</td>\n",
        "      <td> 0</td>\n",
        "      <td> 0</td>\n",
        "      <td> 1</td>\n",
        "      <td> 0</td>\n",
        "    </tr>\n",
        "    <tr>\n",
        "      <th>1</th>\n",
        "      <td>    nabouheif@yahoo.com</td>\n",
        "      <td> 2015-12-17</td>\n",
        "      <td> 0</td>\n",
        "      <td> 0</td>\n",
        "      <td> 0</td>\n",
        "      <td> 1</td>\n",
        "      <td> 0</td>\n",
        "      <td> 0</td>\n",
        "      <td> 0</td>\n",
        "      <td> 0</td>\n",
        "      <td>...</td>\n",
        "      <td> 0</td>\n",
        "      <td> 0</td>\n",
        "      <td> 0</td>\n",
        "      <td> 0</td>\n",
        "      <td> 0</td>\n",
        "      <td> 0</td>\n",
        "      <td> 0</td>\n",
        "      <td> 0</td>\n",
        "      <td> 1</td>\n",
        "      <td> 0</td>\n",
        "    </tr>\n",
        "    <tr>\n",
        "      <th>2</th>\n",
        "      <td> fracicardi@hotmail.com</td>\n",
        "      <td> 2015-12-17</td>\n",
        "      <td> 0</td>\n",
        "      <td> 0</td>\n",
        "      <td> 0</td>\n",
        "      <td> 1</td>\n",
        "      <td> 0</td>\n",
        "      <td> 0</td>\n",
        "      <td> 0</td>\n",
        "      <td> 0</td>\n",
        "      <td>...</td>\n",
        "      <td> 0</td>\n",
        "      <td> 0</td>\n",
        "      <td> 0</td>\n",
        "      <td> 0</td>\n",
        "      <td> 0</td>\n",
        "      <td> 0</td>\n",
        "      <td> 0</td>\n",
        "      <td> 1</td>\n",
        "      <td> 0</td>\n",
        "      <td> 0</td>\n",
        "    </tr>\n",
        "    <tr>\n",
        "      <th>3</th>\n",
        "      <td> ahmed.fakhry@gmail.com</td>\n",
        "      <td> 2015-12-17</td>\n",
        "      <td> 0</td>\n",
        "      <td> 0</td>\n",
        "      <td> 0</td>\n",
        "      <td> 1</td>\n",
        "      <td> 0</td>\n",
        "      <td> 0</td>\n",
        "      <td> 0</td>\n",
        "      <td> 0</td>\n",
        "      <td>...</td>\n",
        "      <td> 0</td>\n",
        "      <td> 0</td>\n",
        "      <td> 0</td>\n",
        "      <td> 0</td>\n",
        "      <td> 0</td>\n",
        "      <td> 0</td>\n",
        "      <td> 1</td>\n",
        "      <td> 0</td>\n",
        "      <td> 0</td>\n",
        "      <td> 0</td>\n",
        "    </tr>\n",
        "    <tr>\n",
        "      <th>4</th>\n",
        "      <td>   Missilou11@yahoo.com</td>\n",
        "      <td> 2015-12-17</td>\n",
        "      <td> 0</td>\n",
        "      <td> 0</td>\n",
        "      <td> 0</td>\n",
        "      <td> 1</td>\n",
        "      <td> 0</td>\n",
        "      <td> 0</td>\n",
        "      <td> 0</td>\n",
        "      <td> 0</td>\n",
        "      <td>...</td>\n",
        "      <td> 0</td>\n",
        "      <td> 0</td>\n",
        "      <td> 0</td>\n",
        "      <td> 0</td>\n",
        "      <td> 0</td>\n",
        "      <td> 1</td>\n",
        "      <td> 0</td>\n",
        "      <td> 0</td>\n",
        "      <td> 0</td>\n",
        "      <td> 0</td>\n",
        "    </tr>\n",
        "  </tbody>\n",
        "</table>\n",
        "<p>5 rows \u00d7 21 columns</p>\n",
        "</div>"
       ],
       "metadata": {},
       "output_type": "pyout",
       "prompt_number": 44,
       "text": [
        "                    Email        Date  Sunday  Monday  Tuesday  Wednesday  \\\n",
        "0  rehabmansour@gmail.com  2015-12-17       0       0        0          1   \n",
        "1     nabouheif@yahoo.com  2015-12-17       0       0        0          1   \n",
        "2  fracicardi@hotmail.com  2015-12-17       0       0        0          1   \n",
        "3  ahmed.fakhry@gmail.com  2015-12-17       0       0        0          1   \n",
        "4    Missilou11@yahoo.com  2015-12-17       0       0        0          1   \n",
        "\n",
        "   Thursday  Friday  Saturday  0 ...  4  6  8  10  12  14  16  18  20  22  \n",
        "0         0       0         0  0 ...  0  0  0   0   0   0   0   0   1   0  \n",
        "1         0       0         0  0 ...  0  0  0   0   0   0   0   0   1   0  \n",
        "2         0       0         0  0 ...  0  0  0   0   0   0   0   1   0   0  \n",
        "3         0       0         0  0 ...  0  0  0   0   0   0   1   0   0   0  \n",
        "4         0       0         0  0 ...  0  0  0   0   0   1   0   0   0   0  \n",
        "\n",
        "[5 rows x 21 columns]"
       ]
      }
     ],
     "prompt_number": 44
    },
    {
     "cell_type": "code",
     "collapsed": false,
     "input": [
      "#count total orders per hours, days\n",
      "df1 = df1.groupby(['Email', 'Date'], axis = 0, as_index=False).sum()\n",
      "\n",
      "#rename columns\n",
      "df1.columns = ['Email', 'Date', 'Sunday', 'Monday', 'Tuesday', 'Wednesday', 'Thursday', 'Friday', 'Saturday', '0:00 - 2:00', '2:00 - 4:00', '4:00 - 6:00', '6:00 - 8:00', '8:00 - 10:00', '10:00 - 12:00', '12:00 - 14:00', '14:00 - 16:00', '16:00 - 18:00', '18:00 - 20:00', '20:00 - 22:00', '22:00 - 0:00']\n",
      "df1.head()"
     ],
     "language": "python",
     "metadata": {},
     "outputs": [
      {
       "html": [
        "<div style=\"max-height:1000px;max-width:1500px;overflow:auto;\">\n",
        "<table border=\"1\" class=\"dataframe\">\n",
        "  <thead>\n",
        "    <tr style=\"text-align: right;\">\n",
        "      <th></th>\n",
        "      <th>Email</th>\n",
        "      <th>Date</th>\n",
        "      <th>Sunday</th>\n",
        "      <th>Monday</th>\n",
        "      <th>Tuesday</th>\n",
        "      <th>Wednesday</th>\n",
        "      <th>Thursday</th>\n",
        "      <th>Friday</th>\n",
        "      <th>Saturday</th>\n",
        "      <th>0:00 - 2:00</th>\n",
        "      <th>...</th>\n",
        "      <th>4:00 - 6:00</th>\n",
        "      <th>6:00 - 8:00</th>\n",
        "      <th>8:00 - 10:00</th>\n",
        "      <th>10:00 - 12:00</th>\n",
        "      <th>12:00 - 14:00</th>\n",
        "      <th>14:00 - 16:00</th>\n",
        "      <th>16:00 - 18:00</th>\n",
        "      <th>18:00 - 20:00</th>\n",
        "      <th>20:00 - 22:00</th>\n",
        "      <th>22:00 - 0:00</th>\n",
        "    </tr>\n",
        "  </thead>\n",
        "  <tbody>\n",
        "    <tr>\n",
        "      <th>0</th>\n",
        "      <td> 11435mail@mkallenberger.de</td>\n",
        "      <td> 2013-05-23</td>\n",
        "      <td> 1</td>\n",
        "      <td> 0</td>\n",
        "      <td> 0</td>\n",
        "      <td> 0</td>\n",
        "      <td> 0</td>\n",
        "      <td> 0</td>\n",
        "      <td> 0</td>\n",
        "      <td> 0</td>\n",
        "      <td>...</td>\n",
        "      <td> 0</td>\n",
        "      <td> 0</td>\n",
        "      <td> 0</td>\n",
        "      <td> 0</td>\n",
        "      <td> 0</td>\n",
        "      <td> 1</td>\n",
        "      <td> 0</td>\n",
        "      <td> 0</td>\n",
        "      <td> 0</td>\n",
        "      <td> 0</td>\n",
        "    </tr>\n",
        "    <tr>\n",
        "      <th>1</th>\n",
        "      <td>              1@gargour.com</td>\n",
        "      <td> 2015-01-01</td>\n",
        "      <td> 0</td>\n",
        "      <td> 0</td>\n",
        "      <td> 0</td>\n",
        "      <td> 0</td>\n",
        "      <td> 0</td>\n",
        "      <td> 0</td>\n",
        "      <td> 1</td>\n",
        "      <td> 0</td>\n",
        "      <td>...</td>\n",
        "      <td> 0</td>\n",
        "      <td> 0</td>\n",
        "      <td> 0</td>\n",
        "      <td> 0</td>\n",
        "      <td> 0</td>\n",
        "      <td> 0</td>\n",
        "      <td> 1</td>\n",
        "      <td> 0</td>\n",
        "      <td> 0</td>\n",
        "      <td> 0</td>\n",
        "    </tr>\n",
        "    <tr>\n",
        "      <th>2</th>\n",
        "      <td>              1@gargour.com</td>\n",
        "      <td> 2015-04-02</td>\n",
        "      <td> 0</td>\n",
        "      <td> 0</td>\n",
        "      <td> 1</td>\n",
        "      <td> 0</td>\n",
        "      <td> 0</td>\n",
        "      <td> 0</td>\n",
        "      <td> 0</td>\n",
        "      <td> 0</td>\n",
        "      <td>...</td>\n",
        "      <td> 0</td>\n",
        "      <td> 0</td>\n",
        "      <td> 0</td>\n",
        "      <td> 0</td>\n",
        "      <td> 0</td>\n",
        "      <td> 1</td>\n",
        "      <td> 0</td>\n",
        "      <td> 0</td>\n",
        "      <td> 0</td>\n",
        "      <td> 0</td>\n",
        "    </tr>\n",
        "    <tr>\n",
        "      <th>3</th>\n",
        "      <td>          1kttate@gmail.com</td>\n",
        "      <td> 2015-08-06</td>\n",
        "      <td> 1</td>\n",
        "      <td> 0</td>\n",
        "      <td> 0</td>\n",
        "      <td> 0</td>\n",
        "      <td> 0</td>\n",
        "      <td> 0</td>\n",
        "      <td> 0</td>\n",
        "      <td> 0</td>\n",
        "      <td>...</td>\n",
        "      <td> 0</td>\n",
        "      <td> 0</td>\n",
        "      <td> 1</td>\n",
        "      <td> 0</td>\n",
        "      <td> 0</td>\n",
        "      <td> 0</td>\n",
        "      <td> 0</td>\n",
        "      <td> 0</td>\n",
        "      <td> 0</td>\n",
        "      <td> 0</td>\n",
        "    </tr>\n",
        "    <tr>\n",
        "      <th>4</th>\n",
        "      <td>          1kttate@gmail.com</td>\n",
        "      <td> 2015-08-13</td>\n",
        "      <td> 0</td>\n",
        "      <td> 1</td>\n",
        "      <td> 0</td>\n",
        "      <td> 0</td>\n",
        "      <td> 0</td>\n",
        "      <td> 0</td>\n",
        "      <td> 0</td>\n",
        "      <td> 0</td>\n",
        "      <td>...</td>\n",
        "      <td> 0</td>\n",
        "      <td> 0</td>\n",
        "      <td> 1</td>\n",
        "      <td> 0</td>\n",
        "      <td> 0</td>\n",
        "      <td> 0</td>\n",
        "      <td> 0</td>\n",
        "      <td> 0</td>\n",
        "      <td> 0</td>\n",
        "      <td> 0</td>\n",
        "    </tr>\n",
        "  </tbody>\n",
        "</table>\n",
        "<p>5 rows \u00d7 21 columns</p>\n",
        "</div>"
       ],
       "metadata": {},
       "output_type": "pyout",
       "prompt_number": 45,
       "text": [
        "                        Email        Date  Sunday  Monday  Tuesday  Wednesday  \\\n",
        "0  11435mail@mkallenberger.de  2013-05-23       1       0        0          0   \n",
        "1               1@gargour.com  2015-01-01       0       0        0          0   \n",
        "2               1@gargour.com  2015-04-02       0       0        1          0   \n",
        "3           1kttate@gmail.com  2015-08-06       1       0        0          0   \n",
        "4           1kttate@gmail.com  2015-08-13       0       1        0          0   \n",
        "\n",
        "   Thursday  Friday  Saturday  0:00 - 2:00      ...       4:00 - 6:00  \\\n",
        "0         0       0         0            0      ...                 0   \n",
        "1         0       0         1            0      ...                 0   \n",
        "2         0       0         0            0      ...                 0   \n",
        "3         0       0         0            0      ...                 0   \n",
        "4         0       0         0            0      ...                 0   \n",
        "\n",
        "   6:00 - 8:00  8:00 - 10:00  10:00 - 12:00  12:00 - 14:00  14:00 - 16:00  \\\n",
        "0            0             0              0              0              1   \n",
        "1            0             0              0              0              0   \n",
        "2            0             0              0              0              1   \n",
        "3            0             1              0              0              0   \n",
        "4            0             1              0              0              0   \n",
        "\n",
        "   16:00 - 18:00  18:00 - 20:00  20:00 - 22:00  22:00 - 0:00  \n",
        "0              0              0              0             0  \n",
        "1              1              0              0             0  \n",
        "2              0              0              0             0  \n",
        "3              0              0              0             0  \n",
        "4              0              0              0             0  \n",
        "\n",
        "[5 rows x 21 columns]"
       ]
      }
     ],
     "prompt_number": 45
    },
    {
     "cell_type": "code",
     "collapsed": false,
     "input": [
      "df5 = data[['Email', 'Date', 'Revenue']]\n",
      "df2 = data[['Email', 'Date']]\n",
      "df2 = df2.drop_duplicates().reset_index().drop('index',1)\n",
      "df2['Total orders'] = 1\n",
      "df2.head()"
     ],
     "language": "python",
     "metadata": {},
     "outputs": [
      {
       "html": [
        "<div style=\"max-height:1000px;max-width:1500px;overflow:auto;\">\n",
        "<table border=\"1\" class=\"dataframe\">\n",
        "  <thead>\n",
        "    <tr style=\"text-align: right;\">\n",
        "      <th></th>\n",
        "      <th>Email</th>\n",
        "      <th>Date</th>\n",
        "      <th>Total orders</th>\n",
        "    </tr>\n",
        "  </thead>\n",
        "  <tbody>\n",
        "    <tr>\n",
        "      <th>0</th>\n",
        "      <td> rehabmansour@gmail.com</td>\n",
        "      <td> 2015-12-17</td>\n",
        "      <td> 1</td>\n",
        "    </tr>\n",
        "    <tr>\n",
        "      <th>1</th>\n",
        "      <td>    nabouheif@yahoo.com</td>\n",
        "      <td> 2015-12-17</td>\n",
        "      <td> 1</td>\n",
        "    </tr>\n",
        "    <tr>\n",
        "      <th>2</th>\n",
        "      <td> fracicardi@hotmail.com</td>\n",
        "      <td> 2015-12-17</td>\n",
        "      <td> 1</td>\n",
        "    </tr>\n",
        "    <tr>\n",
        "      <th>3</th>\n",
        "      <td> ahmed.fakhry@gmail.com</td>\n",
        "      <td> 2015-12-17</td>\n",
        "      <td> 1</td>\n",
        "    </tr>\n",
        "    <tr>\n",
        "      <th>4</th>\n",
        "      <td>   Missilou11@yahoo.com</td>\n",
        "      <td> 2015-12-17</td>\n",
        "      <td> 1</td>\n",
        "    </tr>\n",
        "  </tbody>\n",
        "</table>\n",
        "</div>"
       ],
       "metadata": {},
       "output_type": "pyout",
       "prompt_number": 46,
       "text": [
        "                    Email        Date  Total orders\n",
        "0  rehabmansour@gmail.com  2015-12-17             1\n",
        "1     nabouheif@yahoo.com  2015-12-17             1\n",
        "2  fracicardi@hotmail.com  2015-12-17             1\n",
        "3  ahmed.fakhry@gmail.com  2015-12-17             1\n",
        "4    Missilou11@yahoo.com  2015-12-17             1"
       ]
      }
     ],
     "prompt_number": 46
    },
    {
     "cell_type": "code",
     "collapsed": false,
     "input": [
      "df5 = df5.groupby(['Email', 'Date'], as_index=False).sum()\n",
      "df5.head()"
     ],
     "language": "python",
     "metadata": {},
     "outputs": [
      {
       "html": [
        "<div style=\"max-height:1000px;max-width:1500px;overflow:auto;\">\n",
        "<table border=\"1\" class=\"dataframe\">\n",
        "  <thead>\n",
        "    <tr style=\"text-align: right;\">\n",
        "      <th></th>\n",
        "      <th>Email</th>\n",
        "      <th>Date</th>\n",
        "      <th>Revenue</th>\n",
        "    </tr>\n",
        "  </thead>\n",
        "  <tbody>\n",
        "    <tr>\n",
        "      <th>0</th>\n",
        "      <td> 11435mail@mkallenberger.de</td>\n",
        "      <td> 2013-05-23</td>\n",
        "      <td> 267.17</td>\n",
        "    </tr>\n",
        "    <tr>\n",
        "      <th>1</th>\n",
        "      <td>              1@gargour.com</td>\n",
        "      <td> 2015-01-01</td>\n",
        "      <td> 709.10</td>\n",
        "    </tr>\n",
        "    <tr>\n",
        "      <th>2</th>\n",
        "      <td>              1@gargour.com</td>\n",
        "      <td> 2015-04-02</td>\n",
        "      <td> 272.00</td>\n",
        "    </tr>\n",
        "    <tr>\n",
        "      <th>3</th>\n",
        "      <td>          1kttate@gmail.com</td>\n",
        "      <td> 2015-08-06</td>\n",
        "      <td> 156.00</td>\n",
        "    </tr>\n",
        "    <tr>\n",
        "      <th>4</th>\n",
        "      <td>          1kttate@gmail.com</td>\n",
        "      <td> 2015-08-13</td>\n",
        "      <td> 126.00</td>\n",
        "    </tr>\n",
        "  </tbody>\n",
        "</table>\n",
        "</div>"
       ],
       "metadata": {},
       "output_type": "pyout",
       "prompt_number": 47,
       "text": [
        "                        Email        Date  Revenue\n",
        "0  11435mail@mkallenberger.de  2013-05-23   267.17\n",
        "1               1@gargour.com  2015-01-01   709.10\n",
        "2               1@gargour.com  2015-04-02   272.00\n",
        "3           1kttate@gmail.com  2015-08-06   156.00\n",
        "4           1kttate@gmail.com  2015-08-13   126.00"
       ]
      }
     ],
     "prompt_number": 47
    },
    {
     "cell_type": "code",
     "collapsed": false,
     "input": [
      "df2 = df2.groupby(['Email', 'Date'], as_index=False).sum()\n",
      "df2.head()"
     ],
     "language": "python",
     "metadata": {},
     "outputs": [
      {
       "html": [
        "<div style=\"max-height:1000px;max-width:1500px;overflow:auto;\">\n",
        "<table border=\"1\" class=\"dataframe\">\n",
        "  <thead>\n",
        "    <tr style=\"text-align: right;\">\n",
        "      <th></th>\n",
        "      <th>Email</th>\n",
        "      <th>Date</th>\n",
        "      <th>Total orders</th>\n",
        "    </tr>\n",
        "  </thead>\n",
        "  <tbody>\n",
        "    <tr>\n",
        "      <th>0</th>\n",
        "      <td> 11435mail@mkallenberger.de</td>\n",
        "      <td> 2013-05-23</td>\n",
        "      <td> 1</td>\n",
        "    </tr>\n",
        "    <tr>\n",
        "      <th>1</th>\n",
        "      <td>              1@gargour.com</td>\n",
        "      <td> 2015-01-01</td>\n",
        "      <td> 1</td>\n",
        "    </tr>\n",
        "    <tr>\n",
        "      <th>2</th>\n",
        "      <td>              1@gargour.com</td>\n",
        "      <td> 2015-04-02</td>\n",
        "      <td> 1</td>\n",
        "    </tr>\n",
        "    <tr>\n",
        "      <th>3</th>\n",
        "      <td>          1kttate@gmail.com</td>\n",
        "      <td> 2015-08-06</td>\n",
        "      <td> 1</td>\n",
        "    </tr>\n",
        "    <tr>\n",
        "      <th>4</th>\n",
        "      <td>          1kttate@gmail.com</td>\n",
        "      <td> 2015-08-13</td>\n",
        "      <td> 1</td>\n",
        "    </tr>\n",
        "  </tbody>\n",
        "</table>\n",
        "</div>"
       ],
       "metadata": {},
       "output_type": "pyout",
       "prompt_number": 48,
       "text": [
        "                        Email        Date  Total orders\n",
        "0  11435mail@mkallenberger.de  2013-05-23             1\n",
        "1               1@gargour.com  2015-01-01             1\n",
        "2               1@gargour.com  2015-04-02             1\n",
        "3           1kttate@gmail.com  2015-08-06             1\n",
        "4           1kttate@gmail.com  2015-08-13             1"
       ]
      }
     ],
     "prompt_number": 48
    },
    {
     "cell_type": "code",
     "collapsed": false,
     "input": [
      "#join data frames\n",
      "df3 = df2.merge(df5, on = ['Email', 'Date'], how = 'inner')\n",
      "\n",
      "#calculate basket value and join data frames\n",
      "df3.loc[:, 'Basket Value'] = df3.apply(lambda x: x['Revenue']/float(x['Total orders']), axis=1)\n",
      "df3 = df3.merge(df1, on = ['Email', 'Date'], how = 'inner')\n",
      "df3.head()"
     ],
     "language": "python",
     "metadata": {},
     "outputs": [
      {
       "html": [
        "<div style=\"max-height:1000px;max-width:1500px;overflow:auto;\">\n",
        "<table border=\"1\" class=\"dataframe\">\n",
        "  <thead>\n",
        "    <tr style=\"text-align: right;\">\n",
        "      <th></th>\n",
        "      <th>Email</th>\n",
        "      <th>Date</th>\n",
        "      <th>Total orders</th>\n",
        "      <th>Revenue</th>\n",
        "      <th>Basket Value</th>\n",
        "      <th>Sunday</th>\n",
        "      <th>Monday</th>\n",
        "      <th>Tuesday</th>\n",
        "      <th>Wednesday</th>\n",
        "      <th>Thursday</th>\n",
        "      <th>...</th>\n",
        "      <th>4:00 - 6:00</th>\n",
        "      <th>6:00 - 8:00</th>\n",
        "      <th>8:00 - 10:00</th>\n",
        "      <th>10:00 - 12:00</th>\n",
        "      <th>12:00 - 14:00</th>\n",
        "      <th>14:00 - 16:00</th>\n",
        "      <th>16:00 - 18:00</th>\n",
        "      <th>18:00 - 20:00</th>\n",
        "      <th>20:00 - 22:00</th>\n",
        "      <th>22:00 - 0:00</th>\n",
        "    </tr>\n",
        "  </thead>\n",
        "  <tbody>\n",
        "    <tr>\n",
        "      <th>0</th>\n",
        "      <td> 11435mail@mkallenberger.de</td>\n",
        "      <td> 2013-05-23</td>\n",
        "      <td> 1</td>\n",
        "      <td> 267.17</td>\n",
        "      <td> 267.17</td>\n",
        "      <td> 1</td>\n",
        "      <td> 0</td>\n",
        "      <td> 0</td>\n",
        "      <td> 0</td>\n",
        "      <td> 0</td>\n",
        "      <td>...</td>\n",
        "      <td> 0</td>\n",
        "      <td> 0</td>\n",
        "      <td> 0</td>\n",
        "      <td> 0</td>\n",
        "      <td> 0</td>\n",
        "      <td> 1</td>\n",
        "      <td> 0</td>\n",
        "      <td> 0</td>\n",
        "      <td> 0</td>\n",
        "      <td> 0</td>\n",
        "    </tr>\n",
        "    <tr>\n",
        "      <th>1</th>\n",
        "      <td>              1@gargour.com</td>\n",
        "      <td> 2015-01-01</td>\n",
        "      <td> 1</td>\n",
        "      <td> 709.10</td>\n",
        "      <td> 709.10</td>\n",
        "      <td> 0</td>\n",
        "      <td> 0</td>\n",
        "      <td> 0</td>\n",
        "      <td> 0</td>\n",
        "      <td> 0</td>\n",
        "      <td>...</td>\n",
        "      <td> 0</td>\n",
        "      <td> 0</td>\n",
        "      <td> 0</td>\n",
        "      <td> 0</td>\n",
        "      <td> 0</td>\n",
        "      <td> 0</td>\n",
        "      <td> 1</td>\n",
        "      <td> 0</td>\n",
        "      <td> 0</td>\n",
        "      <td> 0</td>\n",
        "    </tr>\n",
        "    <tr>\n",
        "      <th>2</th>\n",
        "      <td>              1@gargour.com</td>\n",
        "      <td> 2015-04-02</td>\n",
        "      <td> 1</td>\n",
        "      <td> 272.00</td>\n",
        "      <td> 272.00</td>\n",
        "      <td> 0</td>\n",
        "      <td> 0</td>\n",
        "      <td> 1</td>\n",
        "      <td> 0</td>\n",
        "      <td> 0</td>\n",
        "      <td>...</td>\n",
        "      <td> 0</td>\n",
        "      <td> 0</td>\n",
        "      <td> 0</td>\n",
        "      <td> 0</td>\n",
        "      <td> 0</td>\n",
        "      <td> 1</td>\n",
        "      <td> 0</td>\n",
        "      <td> 0</td>\n",
        "      <td> 0</td>\n",
        "      <td> 0</td>\n",
        "    </tr>\n",
        "    <tr>\n",
        "      <th>3</th>\n",
        "      <td>          1kttate@gmail.com</td>\n",
        "      <td> 2015-08-06</td>\n",
        "      <td> 1</td>\n",
        "      <td> 156.00</td>\n",
        "      <td> 156.00</td>\n",
        "      <td> 1</td>\n",
        "      <td> 0</td>\n",
        "      <td> 0</td>\n",
        "      <td> 0</td>\n",
        "      <td> 0</td>\n",
        "      <td>...</td>\n",
        "      <td> 0</td>\n",
        "      <td> 0</td>\n",
        "      <td> 1</td>\n",
        "      <td> 0</td>\n",
        "      <td> 0</td>\n",
        "      <td> 0</td>\n",
        "      <td> 0</td>\n",
        "      <td> 0</td>\n",
        "      <td> 0</td>\n",
        "      <td> 0</td>\n",
        "    </tr>\n",
        "    <tr>\n",
        "      <th>4</th>\n",
        "      <td>          1kttate@gmail.com</td>\n",
        "      <td> 2015-08-13</td>\n",
        "      <td> 1</td>\n",
        "      <td> 126.00</td>\n",
        "      <td> 126.00</td>\n",
        "      <td> 0</td>\n",
        "      <td> 1</td>\n",
        "      <td> 0</td>\n",
        "      <td> 0</td>\n",
        "      <td> 0</td>\n",
        "      <td>...</td>\n",
        "      <td> 0</td>\n",
        "      <td> 0</td>\n",
        "      <td> 1</td>\n",
        "      <td> 0</td>\n",
        "      <td> 0</td>\n",
        "      <td> 0</td>\n",
        "      <td> 0</td>\n",
        "      <td> 0</td>\n",
        "      <td> 0</td>\n",
        "      <td> 0</td>\n",
        "    </tr>\n",
        "  </tbody>\n",
        "</table>\n",
        "<p>5 rows \u00d7 24 columns</p>\n",
        "</div>"
       ],
       "metadata": {},
       "output_type": "pyout",
       "prompt_number": 49,
       "text": [
        "                        Email        Date  Total orders  Revenue  \\\n",
        "0  11435mail@mkallenberger.de  2013-05-23             1   267.17   \n",
        "1               1@gargour.com  2015-01-01             1   709.10   \n",
        "2               1@gargour.com  2015-04-02             1   272.00   \n",
        "3           1kttate@gmail.com  2015-08-06             1   156.00   \n",
        "4           1kttate@gmail.com  2015-08-13             1   126.00   \n",
        "\n",
        "   Basket Value  Sunday  Monday  Tuesday  Wednesday  Thursday      ...       \\\n",
        "0        267.17       1       0        0          0         0      ...        \n",
        "1        709.10       0       0        0          0         0      ...        \n",
        "2        272.00       0       0        1          0         0      ...        \n",
        "3        156.00       1       0        0          0         0      ...        \n",
        "4        126.00       0       1        0          0         0      ...        \n",
        "\n",
        "   4:00 - 6:00  6:00 - 8:00  8:00 - 10:00  10:00 - 12:00  12:00 - 14:00  \\\n",
        "0            0            0             0              0              0   \n",
        "1            0            0             0              0              0   \n",
        "2            0            0             0              0              0   \n",
        "3            0            0             1              0              0   \n",
        "4            0            0             1              0              0   \n",
        "\n",
        "   14:00 - 16:00  16:00 - 18:00  18:00 - 20:00  20:00 - 22:00  22:00 - 0:00  \n",
        "0              1              0              0              0             0  \n",
        "1              0              1              0              0             0  \n",
        "2              1              0              0              0             0  \n",
        "3              0              0              0              0             0  \n",
        "4              0              0              0              0             0  \n",
        "\n",
        "[5 rows x 24 columns]"
       ]
      }
     ],
     "prompt_number": 49
    },
    {
     "cell_type": "code",
     "collapsed": false,
     "input": [
      "#df = pd.read_csv(cfg['root']+cfg['dir_data_shopify']+cfg[\"ip_orders\"], low_memory=False)\n",
      "df = pd.read_csv('C:\\Users\\saisree849\\Documents\\GitHub\\NGS-2.0\\data_input\\shopify\\orders_export.csv', low_memory=False)\n",
      "#get required columns\n",
      "df1 = df[['Lineitem quantity', 'Lineitem price']]\n",
      "\n",
      "#calculate revenue\n",
      "df1.loc[:, 'Revenue'] = df1.apply(lambda x: x['Lineitem quantity'] * x['Lineitem price'], axis=1)\n",
      "df1.head()"
     ],
     "language": "python",
     "metadata": {},
     "outputs": [
      {
       "html": [
        "<div style=\"max-height:1000px;max-width:1500px;overflow:auto;\">\n",
        "<table border=\"1\" class=\"dataframe\">\n",
        "  <thead>\n",
        "    <tr style=\"text-align: right;\">\n",
        "      <th></th>\n",
        "      <th>Lineitem quantity</th>\n",
        "      <th>Lineitem price</th>\n",
        "      <th>Revenue</th>\n",
        "    </tr>\n",
        "  </thead>\n",
        "  <tbody>\n",
        "    <tr>\n",
        "      <th>0</th>\n",
        "      <td> 4</td>\n",
        "      <td> 45.0</td>\n",
        "      <td> 180.0</td>\n",
        "    </tr>\n",
        "    <tr>\n",
        "      <th>1</th>\n",
        "      <td> 2</td>\n",
        "      <td>  7.2</td>\n",
        "      <td>  14.4</td>\n",
        "    </tr>\n",
        "    <tr>\n",
        "      <th>2</th>\n",
        "      <td> 3</td>\n",
        "      <td> 60.3</td>\n",
        "      <td> 180.9</td>\n",
        "    </tr>\n",
        "    <tr>\n",
        "      <th>3</th>\n",
        "      <td> 1</td>\n",
        "      <td> 30.6</td>\n",
        "      <td>  30.6</td>\n",
        "    </tr>\n",
        "    <tr>\n",
        "      <th>4</th>\n",
        "      <td> 1</td>\n",
        "      <td> 10.8</td>\n",
        "      <td>  10.8</td>\n",
        "    </tr>\n",
        "  </tbody>\n",
        "</table>\n",
        "</div>"
       ],
       "metadata": {},
       "output_type": "pyout",
       "prompt_number": 50,
       "text": [
        "   Lineitem quantity  Lineitem price  Revenue\n",
        "0                  4            45.0    180.0\n",
        "1                  2             7.2     14.4\n",
        "2                  3            60.3    180.9\n",
        "3                  1            30.6     30.6\n",
        "4                  1            10.8     10.8"
       ]
      }
     ],
     "prompt_number": 50
    },
    {
     "cell_type": "code",
     "collapsed": false,
     "input": [
      "#get required columns\n",
      "df1=df1[['Lineitem quantity', 'Revenue']]\n",
      "df = df[['Email']]\n",
      "\n",
      "df = df.drop_duplicates().reset_index().drop('index',1)\n",
      "df.head()"
     ],
     "language": "python",
     "metadata": {},
     "outputs": [
      {
       "html": [
        "<div style=\"max-height:1000px;max-width:1500px;overflow:auto;\">\n",
        "<table border=\"1\" class=\"dataframe\">\n",
        "  <thead>\n",
        "    <tr style=\"text-align: right;\">\n",
        "      <th></th>\n",
        "      <th>Email</th>\n",
        "    </tr>\n",
        "  </thead>\n",
        "  <tbody>\n",
        "    <tr>\n",
        "      <th>0</th>\n",
        "      <td> rehabmansour@gmail.com</td>\n",
        "    </tr>\n",
        "    <tr>\n",
        "      <th>1</th>\n",
        "      <td>    nabouheif@yahoo.com</td>\n",
        "    </tr>\n",
        "    <tr>\n",
        "      <th>2</th>\n",
        "      <td> fracicardi@hotmail.com</td>\n",
        "    </tr>\n",
        "    <tr>\n",
        "      <th>3</th>\n",
        "      <td> ahmed.fakhry@gmail.com</td>\n",
        "    </tr>\n",
        "    <tr>\n",
        "      <th>4</th>\n",
        "      <td>   Missilou11@yahoo.com</td>\n",
        "    </tr>\n",
        "  </tbody>\n",
        "</table>\n",
        "</div>"
       ],
       "metadata": {},
       "output_type": "pyout",
       "prompt_number": 51,
       "text": [
        "                    Email\n",
        "0  rehabmansour@gmail.com\n",
        "1     nabouheif@yahoo.com\n",
        "2  fracicardi@hotmail.com\n",
        "3  ahmed.fakhry@gmail.com\n",
        "4    Missilou11@yahoo.com"
       ]
      }
     ],
     "prompt_number": 51
    },
    {
     "cell_type": "code",
     "collapsed": false,
     "input": [
      "#calculate avg revenue, avg basket size\n",
      "df1 = df1.sum()\n",
      "df3['Average Revenue'] = df1['Revenue']/float(max(df.index)+1)\n",
      "df3['Average Basket Size'] = df1['Lineitem quantity']/float(max(df.index)+1)\n",
      "df3.head()"
     ],
     "language": "python",
     "metadata": {},
     "outputs": [
      {
       "html": [
        "<div style=\"max-height:1000px;max-width:1500px;overflow:auto;\">\n",
        "<table border=\"1\" class=\"dataframe\">\n",
        "  <thead>\n",
        "    <tr style=\"text-align: right;\">\n",
        "      <th></th>\n",
        "      <th>Email</th>\n",
        "      <th>Date</th>\n",
        "      <th>Total orders</th>\n",
        "      <th>Revenue</th>\n",
        "      <th>Basket Value</th>\n",
        "      <th>Sunday</th>\n",
        "      <th>Monday</th>\n",
        "      <th>Tuesday</th>\n",
        "      <th>Wednesday</th>\n",
        "      <th>Thursday</th>\n",
        "      <th>...</th>\n",
        "      <th>8:00 - 10:00</th>\n",
        "      <th>10:00 - 12:00</th>\n",
        "      <th>12:00 - 14:00</th>\n",
        "      <th>14:00 - 16:00</th>\n",
        "      <th>16:00 - 18:00</th>\n",
        "      <th>18:00 - 20:00</th>\n",
        "      <th>20:00 - 22:00</th>\n",
        "      <th>22:00 - 0:00</th>\n",
        "      <th>Average Revenue</th>\n",
        "      <th>Average Basket Size</th>\n",
        "    </tr>\n",
        "  </thead>\n",
        "  <tbody>\n",
        "    <tr>\n",
        "      <th>0</th>\n",
        "      <td> 11435mail@mkallenberger.de</td>\n",
        "      <td> 2013-05-23</td>\n",
        "      <td> 1</td>\n",
        "      <td> 267.17</td>\n",
        "      <td> 267.17</td>\n",
        "      <td> 1</td>\n",
        "      <td> 0</td>\n",
        "      <td> 0</td>\n",
        "      <td> 0</td>\n",
        "      <td> 0</td>\n",
        "      <td>...</td>\n",
        "      <td> 0</td>\n",
        "      <td> 0</td>\n",
        "      <td> 0</td>\n",
        "      <td> 1</td>\n",
        "      <td> 0</td>\n",
        "      <td> 0</td>\n",
        "      <td> 0</td>\n",
        "      <td> 0</td>\n",
        "      <td> 1149.346496</td>\n",
        "      <td> 38.447904</td>\n",
        "    </tr>\n",
        "    <tr>\n",
        "      <th>1</th>\n",
        "      <td>              1@gargour.com</td>\n",
        "      <td> 2015-01-01</td>\n",
        "      <td> 1</td>\n",
        "      <td> 709.10</td>\n",
        "      <td> 709.10</td>\n",
        "      <td> 0</td>\n",
        "      <td> 0</td>\n",
        "      <td> 0</td>\n",
        "      <td> 0</td>\n",
        "      <td> 0</td>\n",
        "      <td>...</td>\n",
        "      <td> 0</td>\n",
        "      <td> 0</td>\n",
        "      <td> 0</td>\n",
        "      <td> 0</td>\n",
        "      <td> 1</td>\n",
        "      <td> 0</td>\n",
        "      <td> 0</td>\n",
        "      <td> 0</td>\n",
        "      <td> 1149.346496</td>\n",
        "      <td> 38.447904</td>\n",
        "    </tr>\n",
        "    <tr>\n",
        "      <th>2</th>\n",
        "      <td>              1@gargour.com</td>\n",
        "      <td> 2015-04-02</td>\n",
        "      <td> 1</td>\n",
        "      <td> 272.00</td>\n",
        "      <td> 272.00</td>\n",
        "      <td> 0</td>\n",
        "      <td> 0</td>\n",
        "      <td> 1</td>\n",
        "      <td> 0</td>\n",
        "      <td> 0</td>\n",
        "      <td>...</td>\n",
        "      <td> 0</td>\n",
        "      <td> 0</td>\n",
        "      <td> 0</td>\n",
        "      <td> 1</td>\n",
        "      <td> 0</td>\n",
        "      <td> 0</td>\n",
        "      <td> 0</td>\n",
        "      <td> 0</td>\n",
        "      <td> 1149.346496</td>\n",
        "      <td> 38.447904</td>\n",
        "    </tr>\n",
        "    <tr>\n",
        "      <th>3</th>\n",
        "      <td>          1kttate@gmail.com</td>\n",
        "      <td> 2015-08-06</td>\n",
        "      <td> 1</td>\n",
        "      <td> 156.00</td>\n",
        "      <td> 156.00</td>\n",
        "      <td> 1</td>\n",
        "      <td> 0</td>\n",
        "      <td> 0</td>\n",
        "      <td> 0</td>\n",
        "      <td> 0</td>\n",
        "      <td>...</td>\n",
        "      <td> 1</td>\n",
        "      <td> 0</td>\n",
        "      <td> 0</td>\n",
        "      <td> 0</td>\n",
        "      <td> 0</td>\n",
        "      <td> 0</td>\n",
        "      <td> 0</td>\n",
        "      <td> 0</td>\n",
        "      <td> 1149.346496</td>\n",
        "      <td> 38.447904</td>\n",
        "    </tr>\n",
        "    <tr>\n",
        "      <th>4</th>\n",
        "      <td>          1kttate@gmail.com</td>\n",
        "      <td> 2015-08-13</td>\n",
        "      <td> 1</td>\n",
        "      <td> 126.00</td>\n",
        "      <td> 126.00</td>\n",
        "      <td> 0</td>\n",
        "      <td> 1</td>\n",
        "      <td> 0</td>\n",
        "      <td> 0</td>\n",
        "      <td> 0</td>\n",
        "      <td>...</td>\n",
        "      <td> 1</td>\n",
        "      <td> 0</td>\n",
        "      <td> 0</td>\n",
        "      <td> 0</td>\n",
        "      <td> 0</td>\n",
        "      <td> 0</td>\n",
        "      <td> 0</td>\n",
        "      <td> 0</td>\n",
        "      <td> 1149.346496</td>\n",
        "      <td> 38.447904</td>\n",
        "    </tr>\n",
        "  </tbody>\n",
        "</table>\n",
        "<p>5 rows \u00d7 26 columns</p>\n",
        "</div>"
       ],
       "metadata": {},
       "output_type": "pyout",
       "prompt_number": 52,
       "text": [
        "                        Email        Date  Total orders  Revenue  \\\n",
        "0  11435mail@mkallenberger.de  2013-05-23             1   267.17   \n",
        "1               1@gargour.com  2015-01-01             1   709.10   \n",
        "2               1@gargour.com  2015-04-02             1   272.00   \n",
        "3           1kttate@gmail.com  2015-08-06             1   156.00   \n",
        "4           1kttate@gmail.com  2015-08-13             1   126.00   \n",
        "\n",
        "   Basket Value  Sunday  Monday  Tuesday  Wednesday  Thursday  \\\n",
        "0        267.17       1       0        0          0         0   \n",
        "1        709.10       0       0        0          0         0   \n",
        "2        272.00       0       0        1          0         0   \n",
        "3        156.00       1       0        0          0         0   \n",
        "4        126.00       0       1        0          0         0   \n",
        "\n",
        "          ...           8:00 - 10:00  10:00 - 12:00  12:00 - 14:00  \\\n",
        "0         ...                      0              0              0   \n",
        "1         ...                      0              0              0   \n",
        "2         ...                      0              0              0   \n",
        "3         ...                      1              0              0   \n",
        "4         ...                      1              0              0   \n",
        "\n",
        "   14:00 - 16:00  16:00 - 18:00  18:00 - 20:00  20:00 - 22:00  22:00 - 0:00  \\\n",
        "0              1              0              0              0             0   \n",
        "1              0              1              0              0             0   \n",
        "2              1              0              0              0             0   \n",
        "3              0              0              0              0             0   \n",
        "4              0              0              0              0             0   \n",
        "\n",
        "   Average Revenue  Average Basket Size  \n",
        "0      1149.346496            38.447904  \n",
        "1      1149.346496            38.447904  \n",
        "2      1149.346496            38.447904  \n",
        "3      1149.346496            38.447904  \n",
        "4      1149.346496            38.447904  \n",
        "\n",
        "[5 rows x 26 columns]"
       ]
      }
     ],
     "prompt_number": 52
    },
    {
     "cell_type": "code",
     "collapsed": false,
     "input": [
      "#customers = pd.read_csv(cfg['root']+cfg['dir_data_shopify']+cfg[\"ip_customers\"], low_memory=False)\n",
      "customers = pd.read_csv('C:\\Users\\saisree849\\Documents\\GitHub\\NGS-2.0\\data_input\\shopify\\customers_export.csv', low_memory=False)\n",
      "customers.head()"
     ],
     "language": "python",
     "metadata": {},
     "outputs": [
      {
       "html": [
        "<div style=\"max-height:1000px;max-width:1500px;overflow:auto;\">\n",
        "<table border=\"1\" class=\"dataframe\">\n",
        "  <thead>\n",
        "    <tr style=\"text-align: right;\">\n",
        "      <th></th>\n",
        "      <th>First Name</th>\n",
        "      <th>Last Name</th>\n",
        "      <th>Email</th>\n",
        "      <th>Company</th>\n",
        "      <th>Address1</th>\n",
        "      <th>Address2</th>\n",
        "      <th>City</th>\n",
        "      <th>Province</th>\n",
        "      <th>Province Code</th>\n",
        "      <th>Country</th>\n",
        "      <th>Country Code</th>\n",
        "      <th>Zip</th>\n",
        "      <th>Phone</th>\n",
        "      <th>Accepts Marketing</th>\n",
        "      <th>Total Spent</th>\n",
        "      <th>Total Orders</th>\n",
        "      <th>Tags</th>\n",
        "      <th>Note</th>\n",
        "      <th>Tax Exempt</th>\n",
        "    </tr>\n",
        "  </thead>\n",
        "  <tbody>\n",
        "    <tr>\n",
        "      <th>0</th>\n",
        "      <td>    Rehab </td>\n",
        "      <td>   Mansour</td>\n",
        "      <td> rehabmansour@gmail.com</td>\n",
        "      <td>   NaN</td>\n",
        "      <td> 8 Al Shahid Ahmed Zaki St. Behind El Obour Bld...</td>\n",
        "      <td> Floor 9 - Appt. 91</td>\n",
        "      <td>   Cairo</td>\n",
        "      <td> Cairo</td>\n",
        "      <td>   C</td>\n",
        "      <td> Egypt</td>\n",
        "      <td>  EG</td>\n",
        "      <td> 11513</td>\n",
        "      <td>   01001607028</td>\n",
        "      <td> no</td>\n",
        "      <td> 0</td>\n",
        "      <td> 1</td>\n",
        "      <td> NaN</td>\n",
        "      <td> NaN</td>\n",
        "      <td> no</td>\n",
        "    </tr>\n",
        "    <tr>\n",
        "      <th>1</th>\n",
        "      <td>     RAfik</td>\n",
        "      <td>    BEbawi</td>\n",
        "      <td>       rhbebawi@live.ca</td>\n",
        "      <td>   NaN</td>\n",
        "      <td>                                               NaN</td>\n",
        "      <td>                NaN</td>\n",
        "      <td>     NaN</td>\n",
        "      <td>   NaN</td>\n",
        "      <td> NaN</td>\n",
        "      <td>   NaN</td>\n",
        "      <td> NaN</td>\n",
        "      <td>   NaN</td>\n",
        "      <td>           NaN</td>\n",
        "      <td> no</td>\n",
        "      <td> 0</td>\n",
        "      <td> 0</td>\n",
        "      <td> NaN</td>\n",
        "      <td> NaN</td>\n",
        "      <td> no</td>\n",
        "    </tr>\n",
        "    <tr>\n",
        "      <th>2</th>\n",
        "      <td> Francesca</td>\n",
        "      <td>   Cicardi</td>\n",
        "      <td> fracicardi@hotmail.com</td>\n",
        "      <td>   NaN</td>\n",
        "      <td>                                5, Fouad al Ahwany</td>\n",
        "      <td>  1st floor, apt. 3</td>\n",
        "      <td> Zamalek</td>\n",
        "      <td> Cairo</td>\n",
        "      <td>   C</td>\n",
        "      <td> Egypt</td>\n",
        "      <td>  EG</td>\n",
        "      <td> 11211</td>\n",
        "      <td>   01203038029</td>\n",
        "      <td> no</td>\n",
        "      <td> 0</td>\n",
        "      <td> 1</td>\n",
        "      <td> NaN</td>\n",
        "      <td> NaN</td>\n",
        "      <td> no</td>\n",
        "    </tr>\n",
        "    <tr>\n",
        "      <th>3</th>\n",
        "      <td>     Ahmed</td>\n",
        "      <td> Aboulella</td>\n",
        "      <td> ahmed.fakhry@gmail.com</td>\n",
        "      <td> Mipex</td>\n",
        "      <td>                10 Tahreer St, Sheraton Heliopolis</td>\n",
        "      <td>                  8</td>\n",
        "      <td>   Cairo</td>\n",
        "      <td> Cairo</td>\n",
        "      <td>   C</td>\n",
        "      <td> Egypt</td>\n",
        "      <td>  EG</td>\n",
        "      <td> 11361</td>\n",
        "      <td> +201009936633</td>\n",
        "      <td> no</td>\n",
        "      <td> 0</td>\n",
        "      <td> 2</td>\n",
        "      <td> NaN</td>\n",
        "      <td> NaN</td>\n",
        "      <td> no</td>\n",
        "    </tr>\n",
        "    <tr>\n",
        "      <th>4</th>\n",
        "      <td>    Laila </td>\n",
        "      <td>     akram</td>\n",
        "      <td>   Missilou11@yahoo.com</td>\n",
        "      <td>   NaN</td>\n",
        "      <td> Maadi*Road14*Villa60*Behind Qesm Elmaady*Maadi...</td>\n",
        "      <td>                NaN</td>\n",
        "      <td>   Cairo</td>\n",
        "      <td> Cairo</td>\n",
        "      <td>   C</td>\n",
        "      <td> Egypt</td>\n",
        "      <td>  EG</td>\n",
        "      <td> Mm123</td>\n",
        "      <td>   01008108200</td>\n",
        "      <td> no</td>\n",
        "      <td> 0</td>\n",
        "      <td> 1</td>\n",
        "      <td> NaN</td>\n",
        "      <td> NaN</td>\n",
        "      <td> no</td>\n",
        "    </tr>\n",
        "  </tbody>\n",
        "</table>\n",
        "</div>"
       ],
       "metadata": {},
       "output_type": "pyout",
       "prompt_number": 53,
       "text": [
        "  First Name  Last Name                   Email Company  \\\n",
        "0     Rehab     Mansour  rehabmansour@gmail.com     NaN   \n",
        "1      RAfik     BEbawi        rhbebawi@live.ca     NaN   \n",
        "2  Francesca    Cicardi  fracicardi@hotmail.com     NaN   \n",
        "3      Ahmed  Aboulella  ahmed.fakhry@gmail.com   Mipex   \n",
        "4     Laila       akram    Missilou11@yahoo.com     NaN   \n",
        "\n",
        "                                            Address1            Address2  \\\n",
        "0  8 Al Shahid Ahmed Zaki St. Behind El Obour Bld...  Floor 9 - Appt. 91   \n",
        "1                                                NaN                 NaN   \n",
        "2                                 5, Fouad al Ahwany   1st floor, apt. 3   \n",
        "3                 10 Tahreer St, Sheraton Heliopolis                   8   \n",
        "4  Maadi*Road14*Villa60*Behind Qesm Elmaady*Maadi...                 NaN   \n",
        "\n",
        "      City Province Province Code Country Country Code    Zip          Phone  \\\n",
        "0    Cairo    Cairo             C   Egypt           EG  11513    01001607028   \n",
        "1      NaN      NaN           NaN     NaN          NaN    NaN            NaN   \n",
        "2  Zamalek    Cairo             C   Egypt           EG  11211    01203038029   \n",
        "3    Cairo    Cairo             C   Egypt           EG  11361  +201009936633   \n",
        "4    Cairo    Cairo             C   Egypt           EG  Mm123    01008108200   \n",
        "\n",
        "  Accepts Marketing  Total Spent  Total Orders Tags Note Tax Exempt  \n",
        "0                no            0             1  NaN  NaN         no  \n",
        "1                no            0             0  NaN  NaN         no  \n",
        "2                no            0             1  NaN  NaN         no  \n",
        "3                no            0             2  NaN  NaN         no  \n",
        "4                no            0             1  NaN  NaN         no  "
       ]
      }
     ],
     "prompt_number": 53
    },
    {
     "cell_type": "code",
     "collapsed": false,
     "input": [
      "#concatenate name, address\n",
      "customers['Name'] = customers['First Name'] + \" \" + customers['Last Name']\n",
      "customers['Address'] = customers['Address1'] + \" \" + customers['Address2'] + \" \" + customers['City']\n",
      "\n",
      "customers = customers[['Name', 'Address', 'Phone', 'Email']]\n",
      "customers.head()"
     ],
     "language": "python",
     "metadata": {},
     "outputs": [
      {
       "html": [
        "<div style=\"max-height:1000px;max-width:1500px;overflow:auto;\">\n",
        "<table border=\"1\" class=\"dataframe\">\n",
        "  <thead>\n",
        "    <tr style=\"text-align: right;\">\n",
        "      <th></th>\n",
        "      <th>Name</th>\n",
        "      <th>Address</th>\n",
        "      <th>Phone</th>\n",
        "      <th>Email</th>\n",
        "    </tr>\n",
        "  </thead>\n",
        "  <tbody>\n",
        "    <tr>\n",
        "      <th>0</th>\n",
        "      <td>    Rehab  Mansour</td>\n",
        "      <td> 8 Al Shahid Ahmed Zaki St. Behind El Obour Bld...</td>\n",
        "      <td>   01001607028</td>\n",
        "      <td> rehabmansour@gmail.com</td>\n",
        "    </tr>\n",
        "    <tr>\n",
        "      <th>1</th>\n",
        "      <td>      RAfik BEbawi</td>\n",
        "      <td>                                               NaN</td>\n",
        "      <td>           NaN</td>\n",
        "      <td>       rhbebawi@live.ca</td>\n",
        "    </tr>\n",
        "    <tr>\n",
        "      <th>2</th>\n",
        "      <td> Francesca Cicardi</td>\n",
        "      <td>      5, Fouad al Ahwany 1st floor, apt. 3 Zamalek</td>\n",
        "      <td>   01203038029</td>\n",
        "      <td> fracicardi@hotmail.com</td>\n",
        "    </tr>\n",
        "    <tr>\n",
        "      <th>3</th>\n",
        "      <td>   Ahmed Aboulella</td>\n",
        "      <td>        10 Tahreer St, Sheraton Heliopolis 8 Cairo</td>\n",
        "      <td> +201009936633</td>\n",
        "      <td> ahmed.fakhry@gmail.com</td>\n",
        "    </tr>\n",
        "    <tr>\n",
        "      <th>4</th>\n",
        "      <td>      Laila  akram</td>\n",
        "      <td>                                               NaN</td>\n",
        "      <td>   01008108200</td>\n",
        "      <td>   Missilou11@yahoo.com</td>\n",
        "    </tr>\n",
        "  </tbody>\n",
        "</table>\n",
        "</div>"
       ],
       "metadata": {},
       "output_type": "pyout",
       "prompt_number": 54,
       "text": [
        "                Name                                            Address  \\\n",
        "0     Rehab  Mansour  8 Al Shahid Ahmed Zaki St. Behind El Obour Bld...   \n",
        "1       RAfik BEbawi                                                NaN   \n",
        "2  Francesca Cicardi       5, Fouad al Ahwany 1st floor, apt. 3 Zamalek   \n",
        "3    Ahmed Aboulella         10 Tahreer St, Sheraton Heliopolis 8 Cairo   \n",
        "4       Laila  akram                                                NaN   \n",
        "\n",
        "           Phone                   Email  \n",
        "0    01001607028  rehabmansour@gmail.com  \n",
        "1            NaN        rhbebawi@live.ca  \n",
        "2    01203038029  fracicardi@hotmail.com  \n",
        "3  +201009936633  ahmed.fakhry@gmail.com  \n",
        "4    01008108200    Missilou11@yahoo.com  "
       ]
      }
     ],
     "prompt_number": 54
    },
    {
     "cell_type": "code",
     "collapsed": false,
     "input": [
      "df3 = customers.merge(df3, on = ['Email'], how = 'inner')\n",
      "df3.head()"
     ],
     "language": "python",
     "metadata": {},
     "outputs": [
      {
       "html": [
        "<div style=\"max-height:1000px;max-width:1500px;overflow:auto;\">\n",
        "<table border=\"1\" class=\"dataframe\">\n",
        "  <thead>\n",
        "    <tr style=\"text-align: right;\">\n",
        "      <th></th>\n",
        "      <th>Name</th>\n",
        "      <th>Address</th>\n",
        "      <th>Phone</th>\n",
        "      <th>Email</th>\n",
        "      <th>Date</th>\n",
        "      <th>Total orders</th>\n",
        "      <th>Revenue</th>\n",
        "      <th>Basket Value</th>\n",
        "      <th>Sunday</th>\n",
        "      <th>Monday</th>\n",
        "      <th>...</th>\n",
        "      <th>8:00 - 10:00</th>\n",
        "      <th>10:00 - 12:00</th>\n",
        "      <th>12:00 - 14:00</th>\n",
        "      <th>14:00 - 16:00</th>\n",
        "      <th>16:00 - 18:00</th>\n",
        "      <th>18:00 - 20:00</th>\n",
        "      <th>20:00 - 22:00</th>\n",
        "      <th>22:00 - 0:00</th>\n",
        "      <th>Average Revenue</th>\n",
        "      <th>Average Basket Size</th>\n",
        "    </tr>\n",
        "  </thead>\n",
        "  <tbody>\n",
        "    <tr>\n",
        "      <th>0</th>\n",
        "      <td>    Rehab  Mansour</td>\n",
        "      <td> 8 Al Shahid Ahmed Zaki St. Behind El Obour Bld...</td>\n",
        "      <td>   01001607028</td>\n",
        "      <td>  rehabmansour@gmail.com</td>\n",
        "      <td> 2015-12-17</td>\n",
        "      <td> 1</td>\n",
        "      <td>  375.3</td>\n",
        "      <td>  375.3</td>\n",
        "      <td> 0</td>\n",
        "      <td> 0</td>\n",
        "      <td>...</td>\n",
        "      <td> 0</td>\n",
        "      <td> 0</td>\n",
        "      <td> 0</td>\n",
        "      <td> 0</td>\n",
        "      <td> 0</td>\n",
        "      <td> 0</td>\n",
        "      <td> 1</td>\n",
        "      <td> 0</td>\n",
        "      <td> 1149.346496</td>\n",
        "      <td> 38.447904</td>\n",
        "    </tr>\n",
        "    <tr>\n",
        "      <th>1</th>\n",
        "      <td> Francesca Cicardi</td>\n",
        "      <td>      5, Fouad al Ahwany 1st floor, apt. 3 Zamalek</td>\n",
        "      <td>   01203038029</td>\n",
        "      <td>  fracicardi@hotmail.com</td>\n",
        "      <td> 2015-12-17</td>\n",
        "      <td> 1</td>\n",
        "      <td>  114.6</td>\n",
        "      <td>  114.6</td>\n",
        "      <td> 0</td>\n",
        "      <td> 0</td>\n",
        "      <td>...</td>\n",
        "      <td> 0</td>\n",
        "      <td> 0</td>\n",
        "      <td> 0</td>\n",
        "      <td> 0</td>\n",
        "      <td> 0</td>\n",
        "      <td> 1</td>\n",
        "      <td> 0</td>\n",
        "      <td> 0</td>\n",
        "      <td> 1149.346496</td>\n",
        "      <td> 38.447904</td>\n",
        "    </tr>\n",
        "    <tr>\n",
        "      <th>2</th>\n",
        "      <td>   Ahmed Aboulella</td>\n",
        "      <td>        10 Tahreer St, Sheraton Heliopolis 8 Cairo</td>\n",
        "      <td> +201009936633</td>\n",
        "      <td>  ahmed.fakhry@gmail.com</td>\n",
        "      <td> 2015-12-17</td>\n",
        "      <td> 1</td>\n",
        "      <td> 1020.2</td>\n",
        "      <td> 1020.2</td>\n",
        "      <td> 0</td>\n",
        "      <td> 0</td>\n",
        "      <td>...</td>\n",
        "      <td> 0</td>\n",
        "      <td> 0</td>\n",
        "      <td> 0</td>\n",
        "      <td> 0</td>\n",
        "      <td> 1</td>\n",
        "      <td> 0</td>\n",
        "      <td> 0</td>\n",
        "      <td> 0</td>\n",
        "      <td> 1149.346496</td>\n",
        "      <td> 38.447904</td>\n",
        "    </tr>\n",
        "    <tr>\n",
        "      <th>3</th>\n",
        "      <td>      Laila  akram</td>\n",
        "      <td>                                               NaN</td>\n",
        "      <td>   01008108200</td>\n",
        "      <td>    Missilou11@yahoo.com</td>\n",
        "      <td> 2015-12-17</td>\n",
        "      <td> 1</td>\n",
        "      <td>   70.2</td>\n",
        "      <td>   70.2</td>\n",
        "      <td> 0</td>\n",
        "      <td> 0</td>\n",
        "      <td>...</td>\n",
        "      <td> 0</td>\n",
        "      <td> 0</td>\n",
        "      <td> 0</td>\n",
        "      <td> 1</td>\n",
        "      <td> 0</td>\n",
        "      <td> 0</td>\n",
        "      <td> 0</td>\n",
        "      <td> 0</td>\n",
        "      <td> 1149.346496</td>\n",
        "      <td> 38.447904</td>\n",
        "    </tr>\n",
        "    <tr>\n",
        "      <th>4</th>\n",
        "      <td>      Sally  Salem</td>\n",
        "      <td>                                               NaN</td>\n",
        "      <td>   01222484466</td>\n",
        "      <td> sallysalem123@gmail.com</td>\n",
        "      <td> 2015-12-17</td>\n",
        "      <td> 1</td>\n",
        "      <td>  316.8</td>\n",
        "      <td>  316.8</td>\n",
        "      <td> 0</td>\n",
        "      <td> 0</td>\n",
        "      <td>...</td>\n",
        "      <td> 0</td>\n",
        "      <td> 0</td>\n",
        "      <td> 1</td>\n",
        "      <td> 0</td>\n",
        "      <td> 0</td>\n",
        "      <td> 0</td>\n",
        "      <td> 0</td>\n",
        "      <td> 0</td>\n",
        "      <td> 1149.346496</td>\n",
        "      <td> 38.447904</td>\n",
        "    </tr>\n",
        "  </tbody>\n",
        "</table>\n",
        "<p>5 rows \u00d7 29 columns</p>\n",
        "</div>"
       ],
       "metadata": {},
       "output_type": "pyout",
       "prompt_number": 55,
       "text": [
        "                Name                                            Address  \\\n",
        "0     Rehab  Mansour  8 Al Shahid Ahmed Zaki St. Behind El Obour Bld...   \n",
        "1  Francesca Cicardi       5, Fouad al Ahwany 1st floor, apt. 3 Zamalek   \n",
        "2    Ahmed Aboulella         10 Tahreer St, Sheraton Heliopolis 8 Cairo   \n",
        "3       Laila  akram                                                NaN   \n",
        "4       Sally  Salem                                                NaN   \n",
        "\n",
        "           Phone                    Email        Date  Total orders  Revenue  \\\n",
        "0    01001607028   rehabmansour@gmail.com  2015-12-17             1    375.3   \n",
        "1    01203038029   fracicardi@hotmail.com  2015-12-17             1    114.6   \n",
        "2  +201009936633   ahmed.fakhry@gmail.com  2015-12-17             1   1020.2   \n",
        "3    01008108200     Missilou11@yahoo.com  2015-12-17             1     70.2   \n",
        "4    01222484466  sallysalem123@gmail.com  2015-12-17             1    316.8   \n",
        "\n",
        "   Basket Value  Sunday  Monday         ...           8:00 - 10:00  \\\n",
        "0         375.3       0       0         ...                      0   \n",
        "1         114.6       0       0         ...                      0   \n",
        "2        1020.2       0       0         ...                      0   \n",
        "3          70.2       0       0         ...                      0   \n",
        "4         316.8       0       0         ...                      0   \n",
        "\n",
        "   10:00 - 12:00  12:00 - 14:00  14:00 - 16:00  16:00 - 18:00  18:00 - 20:00  \\\n",
        "0              0              0              0              0              0   \n",
        "1              0              0              0              0              1   \n",
        "2              0              0              0              1              0   \n",
        "3              0              0              1              0              0   \n",
        "4              0              1              0              0              0   \n",
        "\n",
        "   20:00 - 22:00  22:00 - 0:00  Average Revenue  Average Basket Size  \n",
        "0              1             0      1149.346496            38.447904  \n",
        "1              0             0      1149.346496            38.447904  \n",
        "2              0             0      1149.346496            38.447904  \n",
        "3              0             0      1149.346496            38.447904  \n",
        "4              0             0      1149.346496            38.447904  \n",
        "\n",
        "[5 rows x 29 columns]"
       ]
      }
     ],
     "prompt_number": 55
    },
    {
     "cell_type": "code",
     "collapsed": false,
     "input": [],
     "language": "python",
     "metadata": {},
     "outputs": []
    }
   ],
   "metadata": {}
  }
 ]
}
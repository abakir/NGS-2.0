{
 "metadata": {
  "name": "",
  "signature": "sha256:6992265054de6d1e0b5a1abd675395d5b5225dedcd7411eb154936bbcf4e80b5"
 },
 "nbformat": 3,
 "nbformat_minor": 0,
 "worksheets": [
  {
   "cells": [
    {
     "cell_type": "code",
     "collapsed": false,
     "input": [
      "#!/home/cloudera/local/lib/python2.6/site-packages/bin/python\n",
      "\n",
      "import pandas as pd\n",
      "from datetime import datetime\n",
      "import yaml\n",
      "import logging\n",
      "import time\n",
      "import os\n",
      "\n",
      "def make_sure_path_exists(path):\n",
      "    if (!os.path.isdir(path)):\n",
      "        os.makedirs(path)\n",
      "\n",
      "make_sure_path_exists(cfg['root'] + cfg['dir_logs'])\n",
      "make_sure_path_exists(cfg['root']+cfg['dir_data_output'])\n",
      "\n",
      "with open(\"/home/cloudera/Documents/12_dashboard_tables/config.yaml\", 'r') as ymlfile:\n",
      "        cfg = yaml.load(ymlfile)\n",
      "\n",
      "# create logger\n",
      "logger = logging.getLogger(cfg['log_revenue_by_type'])\n",
      "logger.setLevel(logging.DEBUG)\n",
      "# create console handler and set level to debug\n",
      "ch = logging.FileHandler(cfg['root'] + cfg['dir_logs'] + cfg['log_revenue_by_type'] + \"_\" + time.strftime(\"%Y_%m_%d_%H_%M_%S\") + \".log\" )\n",
      "ch.setLevel(logging.DEBUG)\n",
      "# create formatter\n",
      "formatter = logging.Formatter(\"%(asctime)s - %(name)s - %(levelname)s - %(message)s\")\n",
      "# add formatter to ch\n",
      "ch.setFormatter(formatter)\n",
      "# add ch to logger\n",
      "logger.addHandler(ch)\n",
      "\n",
      "df = pd.read_csv(cfg['root']+cfg['dir_data_vend']+cfg[\"ip_total_revenue_type\"])\n",
      "logger.debug(\"Data Frame df created\")"
     ],
     "language": "python",
     "metadata": {},
     "outputs": [],
     "prompt_number": 8
    },
    {
     "cell_type": "code",
     "collapsed": false,
     "input": [
      "def convertDate(data):\n",
      "    return pd.to_datetime(datetime.strptime(data, '%b %Y')).date()\n",
      "\n",
      "df = df[:max(df.index)-4] #remove aggregated rows\n",
      "df = df[range(0,len(df.columns)-5)] #remove unwanted columns\n",
      "\n",
      "df3 = df.groupby('Type', axis=0, as_index=True).sum() #columns include only months\n",
      "df3.head()"
     ],
     "language": "python",
     "metadata": {},
     "outputs": [
      {
       "html": [
        "<div style=\"max-height:1000px;max-width:1500px;overflow:auto;\">\n",
        "<table border=\"1\" class=\"dataframe\">\n",
        "  <thead>\n",
        "    <tr style=\"text-align: right;\">\n",
        "      <th></th>\n",
        "      <th>May 2012</th>\n",
        "      <th>Jun 2012</th>\n",
        "      <th>Jul 2012</th>\n",
        "      <th>Aug 2012</th>\n",
        "      <th>Sep 2012</th>\n",
        "      <th>Oct 2012</th>\n",
        "      <th>Nov 2012</th>\n",
        "      <th>Dec 2012</th>\n",
        "      <th>Jan 2013</th>\n",
        "      <th>Feb 2013</th>\n",
        "      <th>...</th>\n",
        "      <th>Mar 2015</th>\n",
        "      <th>Apr 2015</th>\n",
        "      <th>May 2015</th>\n",
        "      <th>Jun 2015</th>\n",
        "      <th>Jul 2015</th>\n",
        "      <th>Aug 2015</th>\n",
        "      <th>Sep 2015</th>\n",
        "      <th>Oct 2015</th>\n",
        "      <th>Nov 2015</th>\n",
        "      <th>Dec 2015</th>\n",
        "    </tr>\n",
        "    <tr>\n",
        "      <th>Type</th>\n",
        "      <th></th>\n",
        "      <th></th>\n",
        "      <th></th>\n",
        "      <th></th>\n",
        "      <th></th>\n",
        "      <th></th>\n",
        "      <th></th>\n",
        "      <th></th>\n",
        "      <th></th>\n",
        "      <th></th>\n",
        "      <th></th>\n",
        "      <th></th>\n",
        "      <th></th>\n",
        "      <th></th>\n",
        "      <th></th>\n",
        "      <th></th>\n",
        "      <th></th>\n",
        "      <th></th>\n",
        "      <th></th>\n",
        "      <th></th>\n",
        "      <th></th>\n",
        "    </tr>\n",
        "  </thead>\n",
        "  <tbody>\n",
        "    <tr>\n",
        "      <th>Accessories</th>\n",
        "      <td> 0</td>\n",
        "      <td> 0</td>\n",
        "      <td> 3</td>\n",
        "      <td> 0</td>\n",
        "      <td> 6</td>\n",
        "      <td> 35</td>\n",
        "      <td> 32</td>\n",
        "      <td> 0</td>\n",
        "      <td>  41.4</td>\n",
        "      <td> 0</td>\n",
        "      <td>...</td>\n",
        "      <td> 0</td>\n",
        "      <td>   0</td>\n",
        "      <td>    0</td>\n",
        "      <td>    0.0</td>\n",
        "      <td>    0.0</td>\n",
        "      <td>     0.0</td>\n",
        "      <td>    0.0</td>\n",
        "      <td>    0.000000</td>\n",
        "      <td>     0.000000</td>\n",
        "      <td>    0.000000</td>\n",
        "    </tr>\n",
        "    <tr>\n",
        "      <th>Aquaponic vegetables</th>\n",
        "      <td> 0</td>\n",
        "      <td> 0</td>\n",
        "      <td> 0</td>\n",
        "      <td> 0</td>\n",
        "      <td> 0</td>\n",
        "      <td>  0</td>\n",
        "      <td>  0</td>\n",
        "      <td> 0</td>\n",
        "      <td>   0.0</td>\n",
        "      <td> 0</td>\n",
        "      <td>...</td>\n",
        "      <td> 0</td>\n",
        "      <td>   0</td>\n",
        "      <td>    0</td>\n",
        "      <td>    0.0</td>\n",
        "      <td>    0.0</td>\n",
        "      <td>     0.0</td>\n",
        "      <td>    0.0</td>\n",
        "      <td>    0.000000</td>\n",
        "      <td>     0.000000</td>\n",
        "      <td>    0.000000</td>\n",
        "    </tr>\n",
        "    <tr>\n",
        "      <th>Australian beef</th>\n",
        "      <td> 0</td>\n",
        "      <td> 0</td>\n",
        "      <td> 0</td>\n",
        "      <td> 0</td>\n",
        "      <td> 0</td>\n",
        "      <td>  0</td>\n",
        "      <td>  0</td>\n",
        "      <td> 0</td>\n",
        "      <td> 250.0</td>\n",
        "      <td> 0</td>\n",
        "      <td>...</td>\n",
        "      <td> 0</td>\n",
        "      <td>   0</td>\n",
        "      <td>    0</td>\n",
        "      <td>    0.0</td>\n",
        "      <td>    0.0</td>\n",
        "      <td>     0.0</td>\n",
        "      <td>    0.0</td>\n",
        "      <td>    0.000000</td>\n",
        "      <td>     0.000000</td>\n",
        "      <td>    0.000000</td>\n",
        "    </tr>\n",
        "    <tr>\n",
        "      <th>Baking mix</th>\n",
        "      <td> 0</td>\n",
        "      <td> 0</td>\n",
        "      <td> 0</td>\n",
        "      <td> 0</td>\n",
        "      <td> 0</td>\n",
        "      <td>  0</td>\n",
        "      <td>  0</td>\n",
        "      <td> 0</td>\n",
        "      <td>   0.0</td>\n",
        "      <td> 0</td>\n",
        "      <td>...</td>\n",
        "      <td> 0</td>\n",
        "      <td>   0</td>\n",
        "      <td>    0</td>\n",
        "      <td>    0.0</td>\n",
        "      <td>    0.0</td>\n",
        "      <td>     0.0</td>\n",
        "      <td>    0.0</td>\n",
        "      <td>    0.000000</td>\n",
        "      <td>     0.000000</td>\n",
        "      <td>    0.000000</td>\n",
        "    </tr>\n",
        "    <tr>\n",
        "      <th>Baking products</th>\n",
        "      <td> 0</td>\n",
        "      <td> 0</td>\n",
        "      <td> 0</td>\n",
        "      <td> 0</td>\n",
        "      <td> 0</td>\n",
        "      <td>  0</td>\n",
        "      <td>  0</td>\n",
        "      <td> 0</td>\n",
        "      <td>   0.0</td>\n",
        "      <td> 0</td>\n",
        "      <td>...</td>\n",
        "      <td> 0</td>\n",
        "      <td> 356</td>\n",
        "      <td> 4562</td>\n",
        "      <td> 3520.8</td>\n",
        "      <td> 4215.5</td>\n",
        "      <td> 11279.2</td>\n",
        "      <td> 8848.2</td>\n",
        "      <td> 7145.778689</td>\n",
        "      <td> 11208.470292</td>\n",
        "      <td> 4408.024614</td>\n",
        "    </tr>\n",
        "  </tbody>\n",
        "</table>\n",
        "<p>5 rows \u00d7 44 columns</p>\n",
        "</div>"
       ],
       "metadata": {},
       "output_type": "pyout",
       "prompt_number": 9,
       "text": [
        "                      May 2012  Jun 2012  Jul 2012  Aug 2012  Sep 2012  \\\n",
        "Type                                                                     \n",
        "Accessories                  0         0         3         0         6   \n",
        "Aquaponic vegetables         0         0         0         0         0   \n",
        "Australian beef              0         0         0         0         0   \n",
        "Baking mix                   0         0         0         0         0   \n",
        "Baking products              0         0         0         0         0   \n",
        "\n",
        "                      Oct 2012  Nov 2012  Dec 2012  Jan 2013  Feb 2013  \\\n",
        "Type                                                                     \n",
        "Accessories                 35        32         0      41.4         0   \n",
        "Aquaponic vegetables         0         0         0       0.0         0   \n",
        "Australian beef              0         0         0     250.0         0   \n",
        "Baking mix                   0         0         0       0.0         0   \n",
        "Baking products              0         0         0       0.0         0   \n",
        "\n",
        "                         ...       Mar 2015  Apr 2015  May 2015  Jun 2015  \\\n",
        "Type                     ...                                                \n",
        "Accessories              ...              0         0         0       0.0   \n",
        "Aquaponic vegetables     ...              0         0         0       0.0   \n",
        "Australian beef          ...              0         0         0       0.0   \n",
        "Baking mix               ...              0         0         0       0.0   \n",
        "Baking products          ...              0       356      4562    3520.8   \n",
        "\n",
        "                      Jul 2015  Aug 2015  Sep 2015     Oct 2015      Nov 2015  \\\n",
        "Type                                                                            \n",
        "Accessories                0.0       0.0       0.0     0.000000      0.000000   \n",
        "Aquaponic vegetables       0.0       0.0       0.0     0.000000      0.000000   \n",
        "Australian beef            0.0       0.0       0.0     0.000000      0.000000   \n",
        "Baking mix                 0.0       0.0       0.0     0.000000      0.000000   \n",
        "Baking products         4215.5   11279.2    8848.2  7145.778689  11208.470292   \n",
        "\n",
        "                         Dec 2015  \n",
        "Type                               \n",
        "Accessories              0.000000  \n",
        "Aquaponic vegetables     0.000000  \n",
        "Australian beef          0.000000  \n",
        "Baking mix               0.000000  \n",
        "Baking products       4408.024614  \n",
        "\n",
        "[5 rows x 44 columns]"
       ]
      }
     ],
     "prompt_number": 9
    },
    {
     "cell_type": "code",
     "collapsed": false,
     "input": [
      "df = df.groupby('Type', axis=0, as_index=False).sum() # columns include type and months\n",
      "df.head()"
     ],
     "language": "python",
     "metadata": {},
     "outputs": [
      {
       "html": [
        "<div style=\"max-height:1000px;max-width:1500px;overflow:auto;\">\n",
        "<table border=\"1\" class=\"dataframe\">\n",
        "  <thead>\n",
        "    <tr style=\"text-align: right;\">\n",
        "      <th></th>\n",
        "      <th>Type</th>\n",
        "      <th>May 2012</th>\n",
        "      <th>Jun 2012</th>\n",
        "      <th>Jul 2012</th>\n",
        "      <th>Aug 2012</th>\n",
        "      <th>Sep 2012</th>\n",
        "      <th>Oct 2012</th>\n",
        "      <th>Nov 2012</th>\n",
        "      <th>Dec 2012</th>\n",
        "      <th>Jan 2013</th>\n",
        "      <th>...</th>\n",
        "      <th>Mar 2015</th>\n",
        "      <th>Apr 2015</th>\n",
        "      <th>May 2015</th>\n",
        "      <th>Jun 2015</th>\n",
        "      <th>Jul 2015</th>\n",
        "      <th>Aug 2015</th>\n",
        "      <th>Sep 2015</th>\n",
        "      <th>Oct 2015</th>\n",
        "      <th>Nov 2015</th>\n",
        "      <th>Dec 2015</th>\n",
        "    </tr>\n",
        "  </thead>\n",
        "  <tbody>\n",
        "    <tr>\n",
        "      <th>0</th>\n",
        "      <td>          Accessories</td>\n",
        "      <td> 0</td>\n",
        "      <td> 0</td>\n",
        "      <td> 3</td>\n",
        "      <td> 0</td>\n",
        "      <td> 6</td>\n",
        "      <td> 35</td>\n",
        "      <td> 32</td>\n",
        "      <td> 0</td>\n",
        "      <td>  41.4</td>\n",
        "      <td>...</td>\n",
        "      <td> 0</td>\n",
        "      <td>   0</td>\n",
        "      <td>    0</td>\n",
        "      <td>    0.0</td>\n",
        "      <td>    0.0</td>\n",
        "      <td>     0.0</td>\n",
        "      <td>    0.0</td>\n",
        "      <td>    0.000000</td>\n",
        "      <td>     0.000000</td>\n",
        "      <td>    0.000000</td>\n",
        "    </tr>\n",
        "    <tr>\n",
        "      <th>1</th>\n",
        "      <td> Aquaponic vegetables</td>\n",
        "      <td> 0</td>\n",
        "      <td> 0</td>\n",
        "      <td> 0</td>\n",
        "      <td> 0</td>\n",
        "      <td> 0</td>\n",
        "      <td>  0</td>\n",
        "      <td>  0</td>\n",
        "      <td> 0</td>\n",
        "      <td>   0.0</td>\n",
        "      <td>...</td>\n",
        "      <td> 0</td>\n",
        "      <td>   0</td>\n",
        "      <td>    0</td>\n",
        "      <td>    0.0</td>\n",
        "      <td>    0.0</td>\n",
        "      <td>     0.0</td>\n",
        "      <td>    0.0</td>\n",
        "      <td>    0.000000</td>\n",
        "      <td>     0.000000</td>\n",
        "      <td>    0.000000</td>\n",
        "    </tr>\n",
        "    <tr>\n",
        "      <th>2</th>\n",
        "      <td>      Australian beef</td>\n",
        "      <td> 0</td>\n",
        "      <td> 0</td>\n",
        "      <td> 0</td>\n",
        "      <td> 0</td>\n",
        "      <td> 0</td>\n",
        "      <td>  0</td>\n",
        "      <td>  0</td>\n",
        "      <td> 0</td>\n",
        "      <td> 250.0</td>\n",
        "      <td>...</td>\n",
        "      <td> 0</td>\n",
        "      <td>   0</td>\n",
        "      <td>    0</td>\n",
        "      <td>    0.0</td>\n",
        "      <td>    0.0</td>\n",
        "      <td>     0.0</td>\n",
        "      <td>    0.0</td>\n",
        "      <td>    0.000000</td>\n",
        "      <td>     0.000000</td>\n",
        "      <td>    0.000000</td>\n",
        "    </tr>\n",
        "    <tr>\n",
        "      <th>3</th>\n",
        "      <td>           Baking mix</td>\n",
        "      <td> 0</td>\n",
        "      <td> 0</td>\n",
        "      <td> 0</td>\n",
        "      <td> 0</td>\n",
        "      <td> 0</td>\n",
        "      <td>  0</td>\n",
        "      <td>  0</td>\n",
        "      <td> 0</td>\n",
        "      <td>   0.0</td>\n",
        "      <td>...</td>\n",
        "      <td> 0</td>\n",
        "      <td>   0</td>\n",
        "      <td>    0</td>\n",
        "      <td>    0.0</td>\n",
        "      <td>    0.0</td>\n",
        "      <td>     0.0</td>\n",
        "      <td>    0.0</td>\n",
        "      <td>    0.000000</td>\n",
        "      <td>     0.000000</td>\n",
        "      <td>    0.000000</td>\n",
        "    </tr>\n",
        "    <tr>\n",
        "      <th>4</th>\n",
        "      <td>      Baking products</td>\n",
        "      <td> 0</td>\n",
        "      <td> 0</td>\n",
        "      <td> 0</td>\n",
        "      <td> 0</td>\n",
        "      <td> 0</td>\n",
        "      <td>  0</td>\n",
        "      <td>  0</td>\n",
        "      <td> 0</td>\n",
        "      <td>   0.0</td>\n",
        "      <td>...</td>\n",
        "      <td> 0</td>\n",
        "      <td> 356</td>\n",
        "      <td> 4562</td>\n",
        "      <td> 3520.8</td>\n",
        "      <td> 4215.5</td>\n",
        "      <td> 11279.2</td>\n",
        "      <td> 8848.2</td>\n",
        "      <td> 7145.778689</td>\n",
        "      <td> 11208.470292</td>\n",
        "      <td> 4408.024614</td>\n",
        "    </tr>\n",
        "  </tbody>\n",
        "</table>\n",
        "<p>5 rows \u00d7 45 columns</p>\n",
        "</div>"
       ],
       "metadata": {},
       "output_type": "pyout",
       "prompt_number": 10,
       "text": [
        "                   Type  May 2012  Jun 2012  Jul 2012  Aug 2012  Sep 2012  \\\n",
        "0           Accessories         0         0         3         0         6   \n",
        "1  Aquaponic vegetables         0         0         0         0         0   \n",
        "2       Australian beef         0         0         0         0         0   \n",
        "3            Baking mix         0         0         0         0         0   \n",
        "4       Baking products         0         0         0         0         0   \n",
        "\n",
        "   Oct 2012  Nov 2012  Dec 2012  Jan 2013     ...       Mar 2015  Apr 2015  \\\n",
        "0        35        32         0      41.4     ...              0         0   \n",
        "1         0         0         0       0.0     ...              0         0   \n",
        "2         0         0         0     250.0     ...              0         0   \n",
        "3         0         0         0       0.0     ...              0         0   \n",
        "4         0         0         0       0.0     ...              0       356   \n",
        "\n",
        "   May 2015  Jun 2015  Jul 2015  Aug 2015  Sep 2015     Oct 2015  \\\n",
        "0         0       0.0       0.0       0.0       0.0     0.000000   \n",
        "1         0       0.0       0.0       0.0       0.0     0.000000   \n",
        "2         0       0.0       0.0       0.0       0.0     0.000000   \n",
        "3         0       0.0       0.0       0.0       0.0     0.000000   \n",
        "4      4562    3520.8    4215.5   11279.2    8848.2  7145.778689   \n",
        "\n",
        "       Nov 2015     Dec 2015  \n",
        "0      0.000000     0.000000  \n",
        "1      0.000000     0.000000  \n",
        "2      0.000000     0.000000  \n",
        "3      0.000000     0.000000  \n",
        "4  11208.470292  4408.024614  \n",
        "\n",
        "[5 rows x 45 columns]"
       ]
      }
     ],
     "prompt_number": 10
    },
    {
     "cell_type": "code",
     "collapsed": false,
     "input": [
      "df1 = pd.DataFrame(columns = ['Date', 'Revenue', 'Gross Profit', 'Type'])\n",
      "\n",
      "b = []\n",
      "a = df['Type'].tolist() #create a list of type\n",
      "for i in range(0, len(df3.columns)): #count of months\n",
      "    b = b + a\n",
      "df1['Type'] = pd.Series(b)\n",
      "df1.head()"
     ],
     "language": "python",
     "metadata": {},
     "outputs": [
      {
       "html": [
        "<div style=\"max-height:1000px;max-width:1500px;overflow:auto;\">\n",
        "<table border=\"1\" class=\"dataframe\">\n",
        "  <thead>\n",
        "    <tr style=\"text-align: right;\">\n",
        "      <th></th>\n",
        "      <th>Date</th>\n",
        "      <th>Revenue</th>\n",
        "      <th>Gross Profit</th>\n",
        "      <th>Type</th>\n",
        "    </tr>\n",
        "  </thead>\n",
        "  <tbody>\n",
        "    <tr>\n",
        "      <th>0</th>\n",
        "      <td> NaN</td>\n",
        "      <td> NaN</td>\n",
        "      <td> NaN</td>\n",
        "      <td>          Accessories</td>\n",
        "    </tr>\n",
        "    <tr>\n",
        "      <th>1</th>\n",
        "      <td> NaN</td>\n",
        "      <td> NaN</td>\n",
        "      <td> NaN</td>\n",
        "      <td> Aquaponic vegetables</td>\n",
        "    </tr>\n",
        "    <tr>\n",
        "      <th>2</th>\n",
        "      <td> NaN</td>\n",
        "      <td> NaN</td>\n",
        "      <td> NaN</td>\n",
        "      <td>      Australian beef</td>\n",
        "    </tr>\n",
        "    <tr>\n",
        "      <th>3</th>\n",
        "      <td> NaN</td>\n",
        "      <td> NaN</td>\n",
        "      <td> NaN</td>\n",
        "      <td>           Baking mix</td>\n",
        "    </tr>\n",
        "    <tr>\n",
        "      <th>4</th>\n",
        "      <td> NaN</td>\n",
        "      <td> NaN</td>\n",
        "      <td> NaN</td>\n",
        "      <td>      Baking products</td>\n",
        "    </tr>\n",
        "  </tbody>\n",
        "</table>\n",
        "</div>"
       ],
       "metadata": {},
       "output_type": "pyout",
       "prompt_number": 11,
       "text": [
        "  Date Revenue Gross Profit                  Type\n",
        "0  NaN     NaN          NaN           Accessories\n",
        "1  NaN     NaN          NaN  Aquaponic vegetables\n",
        "2  NaN     NaN          NaN       Australian beef\n",
        "3  NaN     NaN          NaN            Baking mix\n",
        "4  NaN     NaN          NaN       Baking products"
       ]
      }
     ],
     "prompt_number": 11
    },
    {
     "cell_type": "code",
     "collapsed": false,
     "input": [
      "\n",
      "\n",
      "b = []\n",
      "x = df3.columns.tolist() #create a list of months\n",
      "for a in x: #take each month\n",
      "    for i in range(0, len(df.index)): #count of types\n",
      "        b.append(a)\n",
      "df1['Date'] = pd.Series(b)\n",
      "\n",
      "df1.loc[:, 'Date'] = df1.Date.apply(convertDate)\n",
      "df1.head()"
     ],
     "language": "python",
     "metadata": {},
     "outputs": [
      {
       "html": [
        "<div style=\"max-height:1000px;max-width:1500px;overflow:auto;\">\n",
        "<table border=\"1\" class=\"dataframe\">\n",
        "  <thead>\n",
        "    <tr style=\"text-align: right;\">\n",
        "      <th></th>\n",
        "      <th>Date</th>\n",
        "      <th>Revenue</th>\n",
        "      <th>Gross Profit</th>\n",
        "      <th>Type</th>\n",
        "    </tr>\n",
        "  </thead>\n",
        "  <tbody>\n",
        "    <tr>\n",
        "      <th>0</th>\n",
        "      <td> 2012-05-01</td>\n",
        "      <td> NaN</td>\n",
        "      <td> NaN</td>\n",
        "      <td>          Accessories</td>\n",
        "    </tr>\n",
        "    <tr>\n",
        "      <th>1</th>\n",
        "      <td> 2012-05-01</td>\n",
        "      <td> NaN</td>\n",
        "      <td> NaN</td>\n",
        "      <td> Aquaponic vegetables</td>\n",
        "    </tr>\n",
        "    <tr>\n",
        "      <th>2</th>\n",
        "      <td> 2012-05-01</td>\n",
        "      <td> NaN</td>\n",
        "      <td> NaN</td>\n",
        "      <td>      Australian beef</td>\n",
        "    </tr>\n",
        "    <tr>\n",
        "      <th>3</th>\n",
        "      <td> 2012-05-01</td>\n",
        "      <td> NaN</td>\n",
        "      <td> NaN</td>\n",
        "      <td>           Baking mix</td>\n",
        "    </tr>\n",
        "    <tr>\n",
        "      <th>4</th>\n",
        "      <td> 2012-05-01</td>\n",
        "      <td> NaN</td>\n",
        "      <td> NaN</td>\n",
        "      <td>      Baking products</td>\n",
        "    </tr>\n",
        "  </tbody>\n",
        "</table>\n",
        "</div>"
       ],
       "metadata": {},
       "output_type": "pyout",
       "prompt_number": 12,
       "text": [
        "         Date Revenue Gross Profit                  Type\n",
        "0  2012-05-01     NaN          NaN           Accessories\n",
        "1  2012-05-01     NaN          NaN  Aquaponic vegetables\n",
        "2  2012-05-01     NaN          NaN       Australian beef\n",
        "3  2012-05-01     NaN          NaN            Baking mix\n",
        "4  2012-05-01     NaN          NaN       Baking products"
       ]
      }
     ],
     "prompt_number": 12
    },
    {
     "cell_type": "code",
     "collapsed": false,
     "input": [
      "\n",
      "b = []\n",
      "for i in df3.columns: #get each month\n",
      "    a = df[i].tolist() #each month column to list\n",
      "    b = b + a\n",
      "df1['Revenue'] = pd.Series(b)\n",
      "df1.head()"
     ],
     "language": "python",
     "metadata": {},
     "outputs": [
      {
       "html": [
        "<div style=\"max-height:1000px;max-width:1500px;overflow:auto;\">\n",
        "<table border=\"1\" class=\"dataframe\">\n",
        "  <thead>\n",
        "    <tr style=\"text-align: right;\">\n",
        "      <th></th>\n",
        "      <th>Date</th>\n",
        "      <th>Revenue</th>\n",
        "      <th>Gross Profit</th>\n",
        "      <th>Type</th>\n",
        "    </tr>\n",
        "  </thead>\n",
        "  <tbody>\n",
        "    <tr>\n",
        "      <th>0</th>\n",
        "      <td> 2012-05-01</td>\n",
        "      <td> 0</td>\n",
        "      <td> NaN</td>\n",
        "      <td>          Accessories</td>\n",
        "    </tr>\n",
        "    <tr>\n",
        "      <th>1</th>\n",
        "      <td> 2012-05-01</td>\n",
        "      <td> 0</td>\n",
        "      <td> NaN</td>\n",
        "      <td> Aquaponic vegetables</td>\n",
        "    </tr>\n",
        "    <tr>\n",
        "      <th>2</th>\n",
        "      <td> 2012-05-01</td>\n",
        "      <td> 0</td>\n",
        "      <td> NaN</td>\n",
        "      <td>      Australian beef</td>\n",
        "    </tr>\n",
        "    <tr>\n",
        "      <th>3</th>\n",
        "      <td> 2012-05-01</td>\n",
        "      <td> 0</td>\n",
        "      <td> NaN</td>\n",
        "      <td>           Baking mix</td>\n",
        "    </tr>\n",
        "    <tr>\n",
        "      <th>4</th>\n",
        "      <td> 2012-05-01</td>\n",
        "      <td> 0</td>\n",
        "      <td> NaN</td>\n",
        "      <td>      Baking products</td>\n",
        "    </tr>\n",
        "  </tbody>\n",
        "</table>\n",
        "</div>"
       ],
       "metadata": {},
       "output_type": "pyout",
       "prompt_number": 13,
       "text": [
        "         Date  Revenue Gross Profit                  Type\n",
        "0  2012-05-01        0          NaN           Accessories\n",
        "1  2012-05-01        0          NaN  Aquaponic vegetables\n",
        "2  2012-05-01        0          NaN       Australian beef\n",
        "3  2012-05-01        0          NaN            Baking mix\n",
        "4  2012-05-01        0          NaN       Baking products"
       ]
      }
     ],
     "prompt_number": 13
    },
    {
     "cell_type": "code",
     "collapsed": false,
     "input": [
      "#df = pd.read_csv(cfg['root']+cfg['dir_data_vend']+cfg[\"ip_gross_profit_type\"])\n",
      "df = pd.read_csv(\"C:\\Users\\saisree849\\Documents\\GitHub\\NGS-2.0\\data_input\\\\vend\\\\vend-gross_profit-for-type-by-month.csv\")\n",
      "df = df[:max(df.index)-4]\n",
      "df = df[range(0,len(df.columns)-5)]\n",
      "\n",
      "df = df.groupby('Type', axis=0, as_index=False).sum() # columns include type and months\n",
      "df.head()"
     ],
     "language": "python",
     "metadata": {},
     "outputs": [
      {
       "html": [
        "<div style=\"max-height:1000px;max-width:1500px;overflow:auto;\">\n",
        "<table border=\"1\" class=\"dataframe\">\n",
        "  <thead>\n",
        "    <tr style=\"text-align: right;\">\n",
        "      <th></th>\n",
        "      <th>Type</th>\n",
        "      <th>May 2012</th>\n",
        "      <th>Jun 2012</th>\n",
        "      <th>Jul 2012</th>\n",
        "      <th>Aug 2012</th>\n",
        "      <th>Sep 2012</th>\n",
        "      <th>Oct 2012</th>\n",
        "      <th>Nov 2012</th>\n",
        "      <th>Dec 2012</th>\n",
        "      <th>Jan 2013</th>\n",
        "      <th>...</th>\n",
        "      <th>Mar 2015</th>\n",
        "      <th>Apr 2015</th>\n",
        "      <th>May 2015</th>\n",
        "      <th>Jun 2015</th>\n",
        "      <th>Jul 2015</th>\n",
        "      <th>Aug 2015</th>\n",
        "      <th>Sep 2015</th>\n",
        "      <th>Oct 2015</th>\n",
        "      <th>Nov 2015</th>\n",
        "      <th>Dec 2015</th>\n",
        "    </tr>\n",
        "  </thead>\n",
        "  <tbody>\n",
        "    <tr>\n",
        "      <th>0</th>\n",
        "      <td>          Accessories</td>\n",
        "      <td> 0</td>\n",
        "      <td> 0</td>\n",
        "      <td> 1.5</td>\n",
        "      <td> 0</td>\n",
        "      <td> 3</td>\n",
        "      <td> 14.85</td>\n",
        "      <td> 13.35</td>\n",
        "      <td> 0</td>\n",
        "      <td>   9</td>\n",
        "      <td>...</td>\n",
        "      <td> 0</td>\n",
        "      <td>   0.00</td>\n",
        "      <td>    0.00</td>\n",
        "      <td>   0.00</td>\n",
        "      <td>   0.00</td>\n",
        "      <td>    0.00</td>\n",
        "      <td>    0.00</td>\n",
        "      <td>    0.000000</td>\n",
        "      <td>    0.000000</td>\n",
        "      <td>   0.000000</td>\n",
        "    </tr>\n",
        "    <tr>\n",
        "      <th>1</th>\n",
        "      <td> Aquaponic vegetables</td>\n",
        "      <td> 0</td>\n",
        "      <td> 0</td>\n",
        "      <td> 0.0</td>\n",
        "      <td> 0</td>\n",
        "      <td> 0</td>\n",
        "      <td>  0.00</td>\n",
        "      <td>  0.00</td>\n",
        "      <td> 0</td>\n",
        "      <td>   0</td>\n",
        "      <td>...</td>\n",
        "      <td> 0</td>\n",
        "      <td>   0.00</td>\n",
        "      <td>    0.00</td>\n",
        "      <td>   0.00</td>\n",
        "      <td>   0.00</td>\n",
        "      <td>    0.00</td>\n",
        "      <td>    0.00</td>\n",
        "      <td>    0.000000</td>\n",
        "      <td>    0.000000</td>\n",
        "      <td>   0.000000</td>\n",
        "    </tr>\n",
        "    <tr>\n",
        "      <th>2</th>\n",
        "      <td>      Australian beef</td>\n",
        "      <td> 0</td>\n",
        "      <td> 0</td>\n",
        "      <td> 0.0</td>\n",
        "      <td> 0</td>\n",
        "      <td> 0</td>\n",
        "      <td>  0.00</td>\n",
        "      <td>  0.00</td>\n",
        "      <td> 0</td>\n",
        "      <td> 110</td>\n",
        "      <td>...</td>\n",
        "      <td> 0</td>\n",
        "      <td>   0.00</td>\n",
        "      <td>    0.00</td>\n",
        "      <td>   0.00</td>\n",
        "      <td>   0.00</td>\n",
        "      <td>    0.00</td>\n",
        "      <td>    0.00</td>\n",
        "      <td>    0.000000</td>\n",
        "      <td>    0.000000</td>\n",
        "      <td>   0.000000</td>\n",
        "    </tr>\n",
        "    <tr>\n",
        "      <th>3</th>\n",
        "      <td>           Baking mix</td>\n",
        "      <td> 0</td>\n",
        "      <td> 0</td>\n",
        "      <td> 0.0</td>\n",
        "      <td> 0</td>\n",
        "      <td> 0</td>\n",
        "      <td>  0.00</td>\n",
        "      <td>  0.00</td>\n",
        "      <td> 0</td>\n",
        "      <td>   0</td>\n",
        "      <td>...</td>\n",
        "      <td> 0</td>\n",
        "      <td>   0.00</td>\n",
        "      <td>    0.00</td>\n",
        "      <td>   0.00</td>\n",
        "      <td>   0.00</td>\n",
        "      <td>    0.00</td>\n",
        "      <td>    0.00</td>\n",
        "      <td>    0.000000</td>\n",
        "      <td>    0.000000</td>\n",
        "      <td>   0.000000</td>\n",
        "    </tr>\n",
        "    <tr>\n",
        "      <th>4</th>\n",
        "      <td>      Baking products</td>\n",
        "      <td> 0</td>\n",
        "      <td> 0</td>\n",
        "      <td> 0.0</td>\n",
        "      <td> 0</td>\n",
        "      <td> 0</td>\n",
        "      <td>  0.00</td>\n",
        "      <td>  0.00</td>\n",
        "      <td> 0</td>\n",
        "      <td>   0</td>\n",
        "      <td>...</td>\n",
        "      <td> 0</td>\n",
        "      <td> 232.25</td>\n",
        "      <td> 1161.86</td>\n",
        "      <td> 825.45</td>\n",
        "      <td> 695.05</td>\n",
        "      <td> 2771.58</td>\n",
        "      <td> 2086.05</td>\n",
        "      <td> 1691.378689</td>\n",
        "      <td> 2323.820292</td>\n",
        "      <td> 927.164614</td>\n",
        "    </tr>\n",
        "  </tbody>\n",
        "</table>\n",
        "<p>5 rows \u00d7 45 columns</p>\n",
        "</div>"
       ],
       "metadata": {},
       "output_type": "pyout",
       "prompt_number": 14,
       "text": [
        "                   Type  May 2012  Jun 2012  Jul 2012  Aug 2012  Sep 2012  \\\n",
        "0           Accessories         0         0       1.5         0         3   \n",
        "1  Aquaponic vegetables         0         0       0.0         0         0   \n",
        "2       Australian beef         0         0       0.0         0         0   \n",
        "3            Baking mix         0         0       0.0         0         0   \n",
        "4       Baking products         0         0       0.0         0         0   \n",
        "\n",
        "   Oct 2012  Nov 2012  Dec 2012  Jan 2013     ...      Mar 2015  Apr 2015  \\\n",
        "0     14.85     13.35         0         9     ...             0      0.00   \n",
        "1      0.00      0.00         0         0     ...             0      0.00   \n",
        "2      0.00      0.00         0       110     ...             0      0.00   \n",
        "3      0.00      0.00         0         0     ...             0      0.00   \n",
        "4      0.00      0.00         0         0     ...             0    232.25   \n",
        "\n",
        "   May 2015  Jun 2015  Jul 2015  Aug 2015  Sep 2015     Oct 2015     Nov 2015  \\\n",
        "0      0.00      0.00      0.00      0.00      0.00     0.000000     0.000000   \n",
        "1      0.00      0.00      0.00      0.00      0.00     0.000000     0.000000   \n",
        "2      0.00      0.00      0.00      0.00      0.00     0.000000     0.000000   \n",
        "3      0.00      0.00      0.00      0.00      0.00     0.000000     0.000000   \n",
        "4   1161.86    825.45    695.05   2771.58   2086.05  1691.378689  2323.820292   \n",
        "\n",
        "     Dec 2015  \n",
        "0    0.000000  \n",
        "1    0.000000  \n",
        "2    0.000000  \n",
        "3    0.000000  \n",
        "4  927.164614  \n",
        "\n",
        "[5 rows x 45 columns]"
       ]
      }
     ],
     "prompt_number": 14
    },
    {
     "cell_type": "code",
     "collapsed": false,
     "input": [
      "df3 = df.groupby('Type', axis=0, as_index=True).sum() #columns include only months\n",
      "df3.head()\n",
      "\n"
     ],
     "language": "python",
     "metadata": {},
     "outputs": [
      {
       "html": [
        "<div style=\"max-height:1000px;max-width:1500px;overflow:auto;\">\n",
        "<table border=\"1\" class=\"dataframe\">\n",
        "  <thead>\n",
        "    <tr style=\"text-align: right;\">\n",
        "      <th></th>\n",
        "      <th>May 2012</th>\n",
        "      <th>Jun 2012</th>\n",
        "      <th>Jul 2012</th>\n",
        "      <th>Aug 2012</th>\n",
        "      <th>Sep 2012</th>\n",
        "      <th>Oct 2012</th>\n",
        "      <th>Nov 2012</th>\n",
        "      <th>Dec 2012</th>\n",
        "      <th>Jan 2013</th>\n",
        "      <th>Feb 2013</th>\n",
        "      <th>...</th>\n",
        "      <th>Mar 2015</th>\n",
        "      <th>Apr 2015</th>\n",
        "      <th>May 2015</th>\n",
        "      <th>Jun 2015</th>\n",
        "      <th>Jul 2015</th>\n",
        "      <th>Aug 2015</th>\n",
        "      <th>Sep 2015</th>\n",
        "      <th>Oct 2015</th>\n",
        "      <th>Nov 2015</th>\n",
        "      <th>Dec 2015</th>\n",
        "    </tr>\n",
        "    <tr>\n",
        "      <th>Type</th>\n",
        "      <th></th>\n",
        "      <th></th>\n",
        "      <th></th>\n",
        "      <th></th>\n",
        "      <th></th>\n",
        "      <th></th>\n",
        "      <th></th>\n",
        "      <th></th>\n",
        "      <th></th>\n",
        "      <th></th>\n",
        "      <th></th>\n",
        "      <th></th>\n",
        "      <th></th>\n",
        "      <th></th>\n",
        "      <th></th>\n",
        "      <th></th>\n",
        "      <th></th>\n",
        "      <th></th>\n",
        "      <th></th>\n",
        "      <th></th>\n",
        "      <th></th>\n",
        "    </tr>\n",
        "  </thead>\n",
        "  <tbody>\n",
        "    <tr>\n",
        "      <th>Accessories</th>\n",
        "      <td> 0</td>\n",
        "      <td> 0</td>\n",
        "      <td> 1.5</td>\n",
        "      <td> 0</td>\n",
        "      <td> 3</td>\n",
        "      <td> 14.85</td>\n",
        "      <td> 13.35</td>\n",
        "      <td> 0</td>\n",
        "      <td>   9</td>\n",
        "      <td> 0</td>\n",
        "      <td>...</td>\n",
        "      <td> 0</td>\n",
        "      <td>   0.00</td>\n",
        "      <td>    0.00</td>\n",
        "      <td>   0.00</td>\n",
        "      <td>   0.00</td>\n",
        "      <td>    0.00</td>\n",
        "      <td>    0.00</td>\n",
        "      <td>    0.000000</td>\n",
        "      <td>    0.000000</td>\n",
        "      <td>   0.000000</td>\n",
        "    </tr>\n",
        "    <tr>\n",
        "      <th>Aquaponic vegetables</th>\n",
        "      <td> 0</td>\n",
        "      <td> 0</td>\n",
        "      <td> 0.0</td>\n",
        "      <td> 0</td>\n",
        "      <td> 0</td>\n",
        "      <td>  0.00</td>\n",
        "      <td>  0.00</td>\n",
        "      <td> 0</td>\n",
        "      <td>   0</td>\n",
        "      <td> 0</td>\n",
        "      <td>...</td>\n",
        "      <td> 0</td>\n",
        "      <td>   0.00</td>\n",
        "      <td>    0.00</td>\n",
        "      <td>   0.00</td>\n",
        "      <td>   0.00</td>\n",
        "      <td>    0.00</td>\n",
        "      <td>    0.00</td>\n",
        "      <td>    0.000000</td>\n",
        "      <td>    0.000000</td>\n",
        "      <td>   0.000000</td>\n",
        "    </tr>\n",
        "    <tr>\n",
        "      <th>Australian beef</th>\n",
        "      <td> 0</td>\n",
        "      <td> 0</td>\n",
        "      <td> 0.0</td>\n",
        "      <td> 0</td>\n",
        "      <td> 0</td>\n",
        "      <td>  0.00</td>\n",
        "      <td>  0.00</td>\n",
        "      <td> 0</td>\n",
        "      <td> 110</td>\n",
        "      <td> 0</td>\n",
        "      <td>...</td>\n",
        "      <td> 0</td>\n",
        "      <td>   0.00</td>\n",
        "      <td>    0.00</td>\n",
        "      <td>   0.00</td>\n",
        "      <td>   0.00</td>\n",
        "      <td>    0.00</td>\n",
        "      <td>    0.00</td>\n",
        "      <td>    0.000000</td>\n",
        "      <td>    0.000000</td>\n",
        "      <td>   0.000000</td>\n",
        "    </tr>\n",
        "    <tr>\n",
        "      <th>Baking mix</th>\n",
        "      <td> 0</td>\n",
        "      <td> 0</td>\n",
        "      <td> 0.0</td>\n",
        "      <td> 0</td>\n",
        "      <td> 0</td>\n",
        "      <td>  0.00</td>\n",
        "      <td>  0.00</td>\n",
        "      <td> 0</td>\n",
        "      <td>   0</td>\n",
        "      <td> 0</td>\n",
        "      <td>...</td>\n",
        "      <td> 0</td>\n",
        "      <td>   0.00</td>\n",
        "      <td>    0.00</td>\n",
        "      <td>   0.00</td>\n",
        "      <td>   0.00</td>\n",
        "      <td>    0.00</td>\n",
        "      <td>    0.00</td>\n",
        "      <td>    0.000000</td>\n",
        "      <td>    0.000000</td>\n",
        "      <td>   0.000000</td>\n",
        "    </tr>\n",
        "    <tr>\n",
        "      <th>Baking products</th>\n",
        "      <td> 0</td>\n",
        "      <td> 0</td>\n",
        "      <td> 0.0</td>\n",
        "      <td> 0</td>\n",
        "      <td> 0</td>\n",
        "      <td>  0.00</td>\n",
        "      <td>  0.00</td>\n",
        "      <td> 0</td>\n",
        "      <td>   0</td>\n",
        "      <td> 0</td>\n",
        "      <td>...</td>\n",
        "      <td> 0</td>\n",
        "      <td> 232.25</td>\n",
        "      <td> 1161.86</td>\n",
        "      <td> 825.45</td>\n",
        "      <td> 695.05</td>\n",
        "      <td> 2771.58</td>\n",
        "      <td> 2086.05</td>\n",
        "      <td> 1691.378689</td>\n",
        "      <td> 2323.820292</td>\n",
        "      <td> 927.164614</td>\n",
        "    </tr>\n",
        "  </tbody>\n",
        "</table>\n",
        "<p>5 rows \u00d7 44 columns</p>\n",
        "</div>"
       ],
       "metadata": {},
       "output_type": "pyout",
       "prompt_number": 15,
       "text": [
        "                      May 2012  Jun 2012  Jul 2012  Aug 2012  Sep 2012  \\\n",
        "Type                                                                     \n",
        "Accessories                  0         0       1.5         0         3   \n",
        "Aquaponic vegetables         0         0       0.0         0         0   \n",
        "Australian beef              0         0       0.0         0         0   \n",
        "Baking mix                   0         0       0.0         0         0   \n",
        "Baking products              0         0       0.0         0         0   \n",
        "\n",
        "                      Oct 2012  Nov 2012  Dec 2012  Jan 2013  Feb 2013  \\\n",
        "Type                                                                     \n",
        "Accessories              14.85     13.35         0         9         0   \n",
        "Aquaponic vegetables      0.00      0.00         0         0         0   \n",
        "Australian beef           0.00      0.00         0       110         0   \n",
        "Baking mix                0.00      0.00         0         0         0   \n",
        "Baking products           0.00      0.00         0         0         0   \n",
        "\n",
        "                         ...      Mar 2015  Apr 2015  May 2015  Jun 2015  \\\n",
        "Type                     ...                                               \n",
        "Accessories              ...             0      0.00      0.00      0.00   \n",
        "Aquaponic vegetables     ...             0      0.00      0.00      0.00   \n",
        "Australian beef          ...             0      0.00      0.00      0.00   \n",
        "Baking mix               ...             0      0.00      0.00      0.00   \n",
        "Baking products          ...             0    232.25   1161.86    825.45   \n",
        "\n",
        "                      Jul 2015  Aug 2015  Sep 2015     Oct 2015     Nov 2015  \\\n",
        "Type                                                                           \n",
        "Accessories               0.00      0.00      0.00     0.000000     0.000000   \n",
        "Aquaponic vegetables      0.00      0.00      0.00     0.000000     0.000000   \n",
        "Australian beef           0.00      0.00      0.00     0.000000     0.000000   \n",
        "Baking mix                0.00      0.00      0.00     0.000000     0.000000   \n",
        "Baking products         695.05   2771.58   2086.05  1691.378689  2323.820292   \n",
        "\n",
        "                        Dec 2015  \n",
        "Type                              \n",
        "Accessories             0.000000  \n",
        "Aquaponic vegetables    0.000000  \n",
        "Australian beef         0.000000  \n",
        "Baking mix              0.000000  \n",
        "Baking products       927.164614  \n",
        "\n",
        "[5 rows x 44 columns]"
       ]
      }
     ],
     "prompt_number": 15
    },
    {
     "cell_type": "code",
     "collapsed": false,
     "input": [
      "b = []\n",
      "for i in df3.columns: #get each month\n",
      "    a = df[i].tolist() #each month column to list\n",
      "    b = b + a\n",
      "df1['Gross Profit'] = pd.Series(b)\n",
      "df1.head()"
     ],
     "language": "python",
     "metadata": {},
     "outputs": [
      {
       "html": [
        "<div style=\"max-height:1000px;max-width:1500px;overflow:auto;\">\n",
        "<table border=\"1\" class=\"dataframe\">\n",
        "  <thead>\n",
        "    <tr style=\"text-align: right;\">\n",
        "      <th></th>\n",
        "      <th>Date</th>\n",
        "      <th>Revenue</th>\n",
        "      <th>Gross Profit</th>\n",
        "      <th>Type</th>\n",
        "    </tr>\n",
        "  </thead>\n",
        "  <tbody>\n",
        "    <tr>\n",
        "      <th>0</th>\n",
        "      <td> 2012-05-01</td>\n",
        "      <td> 0</td>\n",
        "      <td> 0</td>\n",
        "      <td>          Accessories</td>\n",
        "    </tr>\n",
        "    <tr>\n",
        "      <th>1</th>\n",
        "      <td> 2012-05-01</td>\n",
        "      <td> 0</td>\n",
        "      <td> 0</td>\n",
        "      <td> Aquaponic vegetables</td>\n",
        "    </tr>\n",
        "    <tr>\n",
        "      <th>2</th>\n",
        "      <td> 2012-05-01</td>\n",
        "      <td> 0</td>\n",
        "      <td> 0</td>\n",
        "      <td>      Australian beef</td>\n",
        "    </tr>\n",
        "    <tr>\n",
        "      <th>3</th>\n",
        "      <td> 2012-05-01</td>\n",
        "      <td> 0</td>\n",
        "      <td> 0</td>\n",
        "      <td>           Baking mix</td>\n",
        "    </tr>\n",
        "    <tr>\n",
        "      <th>4</th>\n",
        "      <td> 2012-05-01</td>\n",
        "      <td> 0</td>\n",
        "      <td> 0</td>\n",
        "      <td>      Baking products</td>\n",
        "    </tr>\n",
        "  </tbody>\n",
        "</table>\n",
        "</div>"
       ],
       "metadata": {},
       "output_type": "pyout",
       "prompt_number": 16,
       "text": [
        "         Date  Revenue  Gross Profit                  Type\n",
        "0  2012-05-01        0             0           Accessories\n",
        "1  2012-05-01        0             0  Aquaponic vegetables\n",
        "2  2012-05-01        0             0       Australian beef\n",
        "3  2012-05-01        0             0            Baking mix\n",
        "4  2012-05-01        0             0       Baking products"
       ]
      }
     ],
     "prompt_number": 16
    },
    {
     "cell_type": "code",
     "collapsed": false,
     "input": [],
     "language": "python",
     "metadata": {},
     "outputs": []
    }
   ],
   "metadata": {}
  }
 ]
}
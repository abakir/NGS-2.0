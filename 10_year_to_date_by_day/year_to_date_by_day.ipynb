{
 "metadata": {
  "name": "",
  "signature": "sha256:b109edb763a3853570ab41d82534ba41b939ab44b902eeb9a0ba8df0a057a6cc"
 },
 "nbformat": 3,
 "nbformat_minor": 0,
 "worksheets": [
  {
   "cells": [
    {
     "cell_type": "code",
     "collapsed": false,
     "input": [
      "#!/home/cloudera/local/lib/python2.6/site-packages/bin/python\n",
      "\n",
      "import pandas as pd\n",
      "import re\n",
      "from datetime import datetime\n",
      "import yaml\n",
      "import logging\n",
      "import time\n",
      "import os\n",
      "\n",
      "with open(\"../config.yaml\", 'r') as ymlfile:\n",
      "        cfg = yaml.load(ymlfile)\n",
      "        \n",
      "def make_sure_path_exists(path):\n",
      "    if (os.path.isdir(path) == False):\n",
      "        os.makedirs(path)\n",
      "\n",
      "make_sure_path_exists(cfg['root'] + cfg['dir_logs'])\n",
      "make_sure_path_exists(cfg['root']+cfg['dir_data_output'])\n",
      "\n",
      "# create logger\n",
      "logger = logging.getLogger(cfg['log_year_to_date_by_day'])\n",
      "logger.setLevel(logging.DEBUG)\n",
      "# create console handler and set level to debug\n",
      "ch = logging.FileHandler(cfg['root'] + cfg['dir_logs'] + cfg['log_year_to_date_by_day'] + \"_\" + time.strftime(\"%Y_%m_%d_%H_%M_%S\") + \".log\" )\n",
      "ch.setLevel(logging.DEBUG)\n",
      "# create formatter\n",
      "formatter = logging.Formatter(\"%(asctime)s - %(name)s - %(levelname)s - %(message)s\")\n",
      "# add formatter to ch\n",
      "ch.setFormatter(formatter)\n",
      "# add ch to logger\n",
      "logger.addHandler(ch)\n",
      "\n",
      "df = pd.read_csv(cfg['root']+cfg['dir_data_vend']+cfg[\"input_total_revenue_daily\"])\n",
      "logger.debug(\"Data Frame df created\")"
     ],
     "language": "python",
     "metadata": {},
     "outputs": [],
     "prompt_number": 1
    },
    {
     "cell_type": "code",
     "collapsed": false,
     "input": [
      "#get date\n",
      "def convertDate(data):\n",
      "    matchobj = re.match(r'(.*) (.*) (.*) (.*).*',data)\n",
      "    data = matchobj.group(2)[:-2] + \" \" + matchobj.group(3) + \" \" + matchobj.group(4)\n",
      "    return pd.to_datetime(datetime.strptime(data, '%d %b %Y')).date()\n",
      "    \n",
      "#get required columns\n",
      "df = df[1:5]\n",
      "df = df.set_index('Unnamed: 0')\n",
      "df.head()"
     ],
     "language": "python",
     "metadata": {},
     "outputs": [
      {
       "html": [
        "<div style=\"max-height:1000px;max-width:1500px;overflow:auto;\">\n",
        "<table border=\"1\" class=\"dataframe\">\n",
        "  <thead>\n",
        "    <tr style=\"text-align: right;\">\n",
        "      <th></th>\n",
        "      <th>Thu 1st Jan 2015</th>\n",
        "      <th>Fri 2nd Jan 2015</th>\n",
        "      <th>Sat 3rd Jan 2015</th>\n",
        "      <th>Sun 4th Jan 2015</th>\n",
        "      <th>Mon 5th Jan 2015</th>\n",
        "      <th>Tue 6th Jan 2015</th>\n",
        "      <th>Wed 7th Jan 2015</th>\n",
        "      <th>Thu 8th Jan 2015</th>\n",
        "      <th>Fri 9th Jan 2015</th>\n",
        "      <th>Sat 10th Jan 2015</th>\n",
        "      <th>...</th>\n",
        "      <th>Sat 19th Dec 2015</th>\n",
        "      <th>Sun 20th Dec 2015</th>\n",
        "      <th>Mon 21st Dec 2015</th>\n",
        "      <th>Tue 22nd Dec 2015</th>\n",
        "      <th>Wed 23rd Dec 2015</th>\n",
        "      <th>Revenue</th>\n",
        "      <th>Cost of Goods</th>\n",
        "      <th>Gross Profit</th>\n",
        "      <th>Margin</th>\n",
        "      <th>Tax</th>\n",
        "    </tr>\n",
        "    <tr>\n",
        "      <th>Unnamed: 0</th>\n",
        "      <th></th>\n",
        "      <th></th>\n",
        "      <th></th>\n",
        "      <th></th>\n",
        "      <th></th>\n",
        "      <th></th>\n",
        "      <th></th>\n",
        "      <th></th>\n",
        "      <th></th>\n",
        "      <th></th>\n",
        "      <th></th>\n",
        "      <th></th>\n",
        "      <th></th>\n",
        "      <th></th>\n",
        "      <th></th>\n",
        "      <th></th>\n",
        "      <th></th>\n",
        "      <th></th>\n",
        "      <th></th>\n",
        "      <th></th>\n",
        "      <th></th>\n",
        "    </tr>\n",
        "  </thead>\n",
        "  <tbody>\n",
        "    <tr>\n",
        "      <th>Revenue</th>\n",
        "      <td> 2608.20000</td>\n",
        "      <td> 2292.910000</td>\n",
        "      <td> 7028.420000</td>\n",
        "      <td> 4541.410000</td>\n",
        "      <td> 4551.370000</td>\n",
        "      <td> 1845.43000</td>\n",
        "      <td> 0</td>\n",
        "      <td> 0</td>\n",
        "      <td> 0</td>\n",
        "      <td> 0</td>\n",
        "      <td>...</td>\n",
        "      <td> 4301.700000</td>\n",
        "      <td> 7285.16000</td>\n",
        "      <td> 10604.600000</td>\n",
        "      <td> 4131.400000</td>\n",
        "      <td> 6642.800000</td>\n",
        "      <td>NaN</td>\n",
        "      <td>NaN</td>\n",
        "      <td>NaN</td>\n",
        "      <td>NaN</td>\n",
        "      <td>NaN</td>\n",
        "    </tr>\n",
        "    <tr>\n",
        "      <th>Cost of Goods</th>\n",
        "      <td> 1934.71000</td>\n",
        "      <td> 1697.320000</td>\n",
        "      <td> 5261.530000</td>\n",
        "      <td> 3339.150000</td>\n",
        "      <td> 3291.490000</td>\n",
        "      <td> 1282.63000</td>\n",
        "      <td> 0</td>\n",
        "      <td> 0</td>\n",
        "      <td> 0</td>\n",
        "      <td> 0</td>\n",
        "      <td>...</td>\n",
        "      <td> 3009.610000</td>\n",
        "      <td> 5208.60000</td>\n",
        "      <td>  7965.080000</td>\n",
        "      <td> 2985.560000</td>\n",
        "      <td> 4841.260000</td>\n",
        "      <td>NaN</td>\n",
        "      <td>NaN</td>\n",
        "      <td>NaN</td>\n",
        "      <td>NaN</td>\n",
        "      <td>NaN</td>\n",
        "    </tr>\n",
        "    <tr>\n",
        "      <th>Gross Profit</th>\n",
        "      <td>  673.49000</td>\n",
        "      <td>  595.590000</td>\n",
        "      <td> 1766.890000</td>\n",
        "      <td> 1202.260000</td>\n",
        "      <td> 1259.880000</td>\n",
        "      <td>  562.80000</td>\n",
        "      <td> 0</td>\n",
        "      <td> 0</td>\n",
        "      <td> 0</td>\n",
        "      <td> 0</td>\n",
        "      <td>...</td>\n",
        "      <td> 1292.090000</td>\n",
        "      <td> 2076.56000</td>\n",
        "      <td>  2639.520000</td>\n",
        "      <td> 1145.840000</td>\n",
        "      <td> 1801.540000</td>\n",
        "      <td>NaN</td>\n",
        "      <td>NaN</td>\n",
        "      <td>NaN</td>\n",
        "      <td>NaN</td>\n",
        "      <td>NaN</td>\n",
        "    </tr>\n",
        "    <tr>\n",
        "      <th>Margin</th>\n",
        "      <td>    0.25822</td>\n",
        "      <td>    0.259753</td>\n",
        "      <td>    0.251392</td>\n",
        "      <td>    0.264733</td>\n",
        "      <td>    0.276813</td>\n",
        "      <td>    0.30497</td>\n",
        "      <td> 0</td>\n",
        "      <td> 0</td>\n",
        "      <td> 0</td>\n",
        "      <td> 0</td>\n",
        "      <td>...</td>\n",
        "      <td>    0.300367</td>\n",
        "      <td>    0.28504</td>\n",
        "      <td>     0.248903</td>\n",
        "      <td>    0.277349</td>\n",
        "      <td>    0.271202</td>\n",
        "      <td>NaN</td>\n",
        "      <td>NaN</td>\n",
        "      <td>NaN</td>\n",
        "      <td>NaN</td>\n",
        "      <td>NaN</td>\n",
        "    </tr>\n",
        "  </tbody>\n",
        "</table>\n",
        "<p>4 rows \u00d7 362 columns</p>\n",
        "</div>"
       ],
       "metadata": {},
       "output_type": "pyout",
       "prompt_number": 2,
       "text": [
        "               Thu 1st Jan 2015  Fri 2nd Jan 2015  Sat 3rd Jan 2015  \\\n",
        "Unnamed: 0                                                            \n",
        "Revenue              2608.20000       2292.910000       7028.420000   \n",
        "Cost of Goods        1934.71000       1697.320000       5261.530000   \n",
        "Gross Profit          673.49000        595.590000       1766.890000   \n",
        "Margin                  0.25822          0.259753          0.251392   \n",
        "\n",
        "               Sun 4th Jan 2015  Mon 5th Jan 2015  Tue 6th Jan 2015  \\\n",
        "Unnamed: 0                                                            \n",
        "Revenue             4541.410000       4551.370000        1845.43000   \n",
        "Cost of Goods       3339.150000       3291.490000        1282.63000   \n",
        "Gross Profit        1202.260000       1259.880000         562.80000   \n",
        "Margin                 0.264733          0.276813           0.30497   \n",
        "\n",
        "               Wed 7th Jan 2015  Thu 8th Jan 2015  Fri 9th Jan 2015  \\\n",
        "Unnamed: 0                                                            \n",
        "Revenue                       0                 0                 0   \n",
        "Cost of Goods                 0                 0                 0   \n",
        "Gross Profit                  0                 0                 0   \n",
        "Margin                        0                 0                 0   \n",
        "\n",
        "               Sat 10th Jan 2015 ...   Sat 19th Dec 2015  Sun 20th Dec 2015  \\\n",
        "Unnamed: 0                       ...                                          \n",
        "Revenue                        0 ...         4301.700000         7285.16000   \n",
        "Cost of Goods                  0 ...         3009.610000         5208.60000   \n",
        "Gross Profit                   0 ...         1292.090000         2076.56000   \n",
        "Margin                         0 ...            0.300367            0.28504   \n",
        "\n",
        "               Mon 21st Dec 2015  Tue 22nd Dec 2015  Wed 23rd Dec 2015  \\\n",
        "Unnamed: 0                                                               \n",
        "Revenue             10604.600000        4131.400000        6642.800000   \n",
        "Cost of Goods        7965.080000        2985.560000        4841.260000   \n",
        "Gross Profit         2639.520000        1145.840000        1801.540000   \n",
        "Margin                  0.248903           0.277349           0.271202   \n",
        "\n",
        "               Revenue  Cost of Goods  Gross Profit  Margin  Tax  \n",
        "Unnamed: 0                                                        \n",
        "Revenue            NaN            NaN           NaN     NaN  NaN  \n",
        "Cost of Goods      NaN            NaN           NaN     NaN  NaN  \n",
        "Gross Profit       NaN            NaN           NaN     NaN  NaN  \n",
        "Margin             NaN            NaN           NaN     NaN  NaN  \n",
        "\n",
        "[4 rows x 362 columns]"
       ]
      }
     ],
     "prompt_number": 2
    },
    {
     "cell_type": "code",
     "collapsed": false,
     "input": [
      "\n",
      "df = df.transpose() #transpose the df\n",
      "df = df.reset_index()\n",
      "\n",
      "#remove aggregated rows\n",
      "df = df[:max(df.index)-4]\n",
      "df.columns = ['Date', 'Revenue', 'Cost of Goods', 'Gross Profit', 'Margin']\n",
      "df.head()"
     ],
     "language": "python",
     "metadata": {},
     "outputs": [
      {
       "html": [
        "<div style=\"max-height:1000px;max-width:1500px;overflow:auto;\">\n",
        "<table border=\"1\" class=\"dataframe\">\n",
        "  <thead>\n",
        "    <tr style=\"text-align: right;\">\n",
        "      <th></th>\n",
        "      <th>Date</th>\n",
        "      <th>Revenue</th>\n",
        "      <th>Cost of Goods</th>\n",
        "      <th>Gross Profit</th>\n",
        "      <th>Margin</th>\n",
        "    </tr>\n",
        "  </thead>\n",
        "  <tbody>\n",
        "    <tr>\n",
        "      <th>0</th>\n",
        "      <td> Thu 1st Jan 2015</td>\n",
        "      <td> 2608.20</td>\n",
        "      <td> 1934.71</td>\n",
        "      <td>  673.49</td>\n",
        "      <td> 0.258220</td>\n",
        "    </tr>\n",
        "    <tr>\n",
        "      <th>1</th>\n",
        "      <td> Fri 2nd Jan 2015</td>\n",
        "      <td> 2292.91</td>\n",
        "      <td> 1697.32</td>\n",
        "      <td>  595.59</td>\n",
        "      <td> 0.259753</td>\n",
        "    </tr>\n",
        "    <tr>\n",
        "      <th>2</th>\n",
        "      <td> Sat 3rd Jan 2015</td>\n",
        "      <td> 7028.42</td>\n",
        "      <td> 5261.53</td>\n",
        "      <td> 1766.89</td>\n",
        "      <td> 0.251392</td>\n",
        "    </tr>\n",
        "    <tr>\n",
        "      <th>3</th>\n",
        "      <td> Sun 4th Jan 2015</td>\n",
        "      <td> 4541.41</td>\n",
        "      <td> 3339.15</td>\n",
        "      <td> 1202.26</td>\n",
        "      <td> 0.264733</td>\n",
        "    </tr>\n",
        "    <tr>\n",
        "      <th>4</th>\n",
        "      <td> Mon 5th Jan 2015</td>\n",
        "      <td> 4551.37</td>\n",
        "      <td> 3291.49</td>\n",
        "      <td> 1259.88</td>\n",
        "      <td> 0.276813</td>\n",
        "    </tr>\n",
        "  </tbody>\n",
        "</table>\n",
        "</div>"
       ],
       "metadata": {},
       "output_type": "pyout",
       "prompt_number": 3,
       "text": [
        "               Date  Revenue  Cost of Goods  Gross Profit    Margin\n",
        "0  Thu 1st Jan 2015  2608.20        1934.71        673.49  0.258220\n",
        "1  Fri 2nd Jan 2015  2292.91        1697.32        595.59  0.259753\n",
        "2  Sat 3rd Jan 2015  7028.42        5261.53       1766.89  0.251392\n",
        "3  Sun 4th Jan 2015  4541.41        3339.15       1202.26  0.264733\n",
        "4  Mon 5th Jan 2015  4551.37        3291.49       1259.88  0.276813"
       ]
      }
     ],
     "prompt_number": 3
    },
    {
     "cell_type": "code",
     "collapsed": false,
     "input": [
      "df.loc[:, 'Date'] = df.Date.apply(convertDate)\n",
      "df.head()"
     ],
     "language": "python",
     "metadata": {},
     "outputs": [
      {
       "html": [
        "<div style=\"max-height:1000px;max-width:1500px;overflow:auto;\">\n",
        "<table border=\"1\" class=\"dataframe\">\n",
        "  <thead>\n",
        "    <tr style=\"text-align: right;\">\n",
        "      <th></th>\n",
        "      <th>Date</th>\n",
        "      <th>Revenue</th>\n",
        "      <th>Cost of Goods</th>\n",
        "      <th>Gross Profit</th>\n",
        "      <th>Margin</th>\n",
        "    </tr>\n",
        "  </thead>\n",
        "  <tbody>\n",
        "    <tr>\n",
        "      <th>0</th>\n",
        "      <td> 2015-01-01</td>\n",
        "      <td> 2608.20</td>\n",
        "      <td> 1934.71</td>\n",
        "      <td>  673.49</td>\n",
        "      <td> 0.258220</td>\n",
        "    </tr>\n",
        "    <tr>\n",
        "      <th>1</th>\n",
        "      <td> 2015-01-02</td>\n",
        "      <td> 2292.91</td>\n",
        "      <td> 1697.32</td>\n",
        "      <td>  595.59</td>\n",
        "      <td> 0.259753</td>\n",
        "    </tr>\n",
        "    <tr>\n",
        "      <th>2</th>\n",
        "      <td> 2015-01-03</td>\n",
        "      <td> 7028.42</td>\n",
        "      <td> 5261.53</td>\n",
        "      <td> 1766.89</td>\n",
        "      <td> 0.251392</td>\n",
        "    </tr>\n",
        "    <tr>\n",
        "      <th>3</th>\n",
        "      <td> 2015-01-04</td>\n",
        "      <td> 4541.41</td>\n",
        "      <td> 3339.15</td>\n",
        "      <td> 1202.26</td>\n",
        "      <td> 0.264733</td>\n",
        "    </tr>\n",
        "    <tr>\n",
        "      <th>4</th>\n",
        "      <td> 2015-01-05</td>\n",
        "      <td> 4551.37</td>\n",
        "      <td> 3291.49</td>\n",
        "      <td> 1259.88</td>\n",
        "      <td> 0.276813</td>\n",
        "    </tr>\n",
        "  </tbody>\n",
        "</table>\n",
        "</div>"
       ],
       "metadata": {},
       "output_type": "pyout",
       "prompt_number": 4,
       "text": [
        "         Date  Revenue  Cost of Goods  Gross Profit    Margin\n",
        "0  2015-01-01  2608.20        1934.71        673.49  0.258220\n",
        "1  2015-01-02  2292.91        1697.32        595.59  0.259753\n",
        "2  2015-01-03  7028.42        5261.53       1766.89  0.251392\n",
        "3  2015-01-04  4541.41        3339.15       1202.26  0.264733\n",
        "4  2015-01-05  4551.37        3291.49       1259.88  0.276813"
       ]
      }
     ],
     "prompt_number": 4
    },
    {
     "cell_type": "code",
     "collapsed": false,
     "input": [],
     "language": "python",
     "metadata": {},
     "outputs": []
    }
   ],
   "metadata": {}
  }
 ]
}
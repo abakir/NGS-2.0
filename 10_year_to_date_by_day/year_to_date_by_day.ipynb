{
 "metadata": {
  "name": "",
  "signature": "sha256:53a7fb8290d1b32a5b4853ffb5b26721ad05b1efe811f3116af63a5ae1727bea"
 },
 "nbformat": 3,
 "nbformat_minor": 0,
 "worksheets": [
  {
   "cells": [
    {
     "cell_type": "code",
     "collapsed": false,
     "input": [
      "#!/home/cloudera/local/lib/python2.6/site-packages/bin/python\n",
      "\n",
      "# Author : Sai Sree Kamineni\n",
      "# Date created : Jan 10, 2016\n",
      "# Execution frequency : Weekly\n",
      "# Input refresh frequency : Weekly\n",
      "\n",
      "# Input : data_input/vend/vend-total_revenue-sales_summary-by-day.csv\n",
      "# Output : data_output/year_to_date_by_day.csv\n",
      "# Purpose : Gives Revenue, Cost of goods, Gross Profit, Marigin for each day of the year\n",
      "\n",
      "import pandas as pd\n",
      "import re\n",
      "from datetime import datetime\n",
      "import yaml\n",
      "import logging\n",
      "import time\n",
      "import os\n",
      "\n",
      "with open(\"../config.yaml\", 'r') as ymlfile:\n",
      "        cfg = yaml.load(ymlfile)\n",
      "        \n",
      "def make_sure_path_exists(path):\n",
      "    if (os.path.isdir(path) == False):\n",
      "        os.makedirs(path)\n",
      "\n",
      "make_sure_path_exists(cfg['root'] + cfg['dir_logs'])\n",
      "make_sure_path_exists(cfg['root']+cfg['dir_data_output'])\n",
      "\n",
      "# create logger\n",
      "logger = logging.getLogger(cfg['log_year_to_date_by_day'])\n",
      "logger.setLevel(logging.DEBUG)\n",
      "# create console handler and set level to debug\n",
      "ch = logging.FileHandler(cfg['root'] + cfg['dir_logs'] + cfg['log_year_to_date_by_day'] + \"_\" + time.strftime(\"%Y_%m_%d_%H_%M_%S\") + \".log\" )\n",
      "ch.setLevel(logging.DEBUG)\n",
      "# create formatter\n",
      "formatter = logging.Formatter(\"%(asctime)s - %(name)s - %(levelname)s - %(message)s\")\n",
      "# add formatter to ch\n",
      "ch.setFormatter(formatter)\n",
      "# add ch to logger\n",
      "logger.addHandler(ch)\n",
      "\n",
      "df = pd.read_csv(cfg['root']+cfg['dir_data_vend']+cfg[\"input_total_revenue_daily\"])\n",
      "logger.debug(\"Data Frame df created\")"
     ],
     "language": "python",
     "metadata": {},
     "outputs": [],
     "prompt_number": 1
    },
    {
     "cell_type": "code",
     "collapsed": false,
     "input": [
      "#get date\n",
      "def convertDate(data):\n",
      "    matchobj = re.match(r'(.*) (.*) (.*) (.*).*',data)\n",
      "    data = matchobj.group(2)[:-2] + \" \" + matchobj.group(3) + \" \" + matchobj.group(4)\n",
      "    return pd.to_datetime(datetime.strptime(data, '%d %b %Y')).date()\n",
      "    \n",
      "#get required columns\n",
      "df = df[1:5]\n",
      "df = df.set_index('Unnamed: 0')\n",
      "df.head()"
     ],
     "language": "python",
     "metadata": {},
     "outputs": [
      {
       "html": [
        "<div style=\"max-height:1000px;max-width:1500px;overflow:auto;\">\n",
        "<table border=\"1\" class=\"dataframe\">\n",
        "  <thead>\n",
        "    <tr style=\"text-align: right;\">\n",
        "      <th></th>\n",
        "      <th>Fri 1st Jan 2016</th>\n",
        "      <th>Sat 2nd Jan 2016</th>\n",
        "      <th>Sun 3rd Jan 2016</th>\n",
        "      <th>Mon 4th Jan 2016</th>\n",
        "      <th>Tue 5th Jan 2016</th>\n",
        "      <th>Wed 6th Jan 2016</th>\n",
        "      <th>Revenue</th>\n",
        "      <th>Cost of Goods</th>\n",
        "      <th>Gross Profit</th>\n",
        "      <th>Margin</th>\n",
        "      <th>Tax</th>\n",
        "    </tr>\n",
        "    <tr>\n",
        "      <th>Unnamed: 0</th>\n",
        "      <th></th>\n",
        "      <th></th>\n",
        "      <th></th>\n",
        "      <th></th>\n",
        "      <th></th>\n",
        "      <th></th>\n",
        "      <th></th>\n",
        "      <th></th>\n",
        "      <th></th>\n",
        "      <th></th>\n",
        "      <th></th>\n",
        "    </tr>\n",
        "  </thead>\n",
        "  <tbody>\n",
        "    <tr>\n",
        "      <th>Revenue</th>\n",
        "      <td> 1200.000000</td>\n",
        "      <td> 5752.500000</td>\n",
        "      <td> 8860.200000</td>\n",
        "      <td> 9013.400000</td>\n",
        "      <td> 7731.700000</td>\n",
        "      <td> 11045.200000</td>\n",
        "      <td>NaN</td>\n",
        "      <td>NaN</td>\n",
        "      <td>NaN</td>\n",
        "      <td>NaN</td>\n",
        "      <td>NaN</td>\n",
        "    </tr>\n",
        "    <tr>\n",
        "      <th>Cost of Goods</th>\n",
        "      <td>  774.680000</td>\n",
        "      <td> 4112.820000</td>\n",
        "      <td> 6425.540000</td>\n",
        "      <td> 6451.810000</td>\n",
        "      <td> 5264.150000</td>\n",
        "      <td>  8036.770000</td>\n",
        "      <td>NaN</td>\n",
        "      <td>NaN</td>\n",
        "      <td>NaN</td>\n",
        "      <td>NaN</td>\n",
        "      <td>NaN</td>\n",
        "    </tr>\n",
        "    <tr>\n",
        "      <th>Gross Profit</th>\n",
        "      <td>  425.320000</td>\n",
        "      <td> 1639.680000</td>\n",
        "      <td> 2434.660000</td>\n",
        "      <td> 2561.590000</td>\n",
        "      <td> 2467.550000</td>\n",
        "      <td>  3008.430000</td>\n",
        "      <td>NaN</td>\n",
        "      <td>NaN</td>\n",
        "      <td>NaN</td>\n",
        "      <td>NaN</td>\n",
        "      <td>NaN</td>\n",
        "    </tr>\n",
        "    <tr>\n",
        "      <th>Margin</th>\n",
        "      <td>    0.354433</td>\n",
        "      <td>    0.285038</td>\n",
        "      <td>    0.274786</td>\n",
        "      <td>    0.284198</td>\n",
        "      <td>    0.319147</td>\n",
        "      <td>     0.272374</td>\n",
        "      <td>NaN</td>\n",
        "      <td>NaN</td>\n",
        "      <td>NaN</td>\n",
        "      <td>NaN</td>\n",
        "      <td>NaN</td>\n",
        "    </tr>\n",
        "  </tbody>\n",
        "</table>\n",
        "</div>"
       ],
       "metadata": {},
       "output_type": "pyout",
       "prompt_number": 8,
       "text": [
        "               Fri 1st Jan 2016  Sat 2nd Jan 2016  Sun 3rd Jan 2016  \\\n",
        "Unnamed: 0                                                            \n",
        "Revenue             1200.000000       5752.500000       8860.200000   \n",
        "Cost of Goods        774.680000       4112.820000       6425.540000   \n",
        "Gross Profit         425.320000       1639.680000       2434.660000   \n",
        "Margin                 0.354433          0.285038          0.274786   \n",
        "\n",
        "               Mon 4th Jan 2016  Tue 5th Jan 2016  Wed 6th Jan 2016  Revenue  \\\n",
        "Unnamed: 0                                                                     \n",
        "Revenue             9013.400000       7731.700000      11045.200000      NaN   \n",
        "Cost of Goods       6451.810000       5264.150000       8036.770000      NaN   \n",
        "Gross Profit        2561.590000       2467.550000       3008.430000      NaN   \n",
        "Margin                 0.284198          0.319147          0.272374      NaN   \n",
        "\n",
        "               Cost of Goods  Gross Profit  Margin  Tax  \n",
        "Unnamed: 0                                               \n",
        "Revenue                  NaN           NaN     NaN  NaN  \n",
        "Cost of Goods            NaN           NaN     NaN  NaN  \n",
        "Gross Profit             NaN           NaN     NaN  NaN  \n",
        "Margin                   NaN           NaN     NaN  NaN  "
       ]
      }
     ],
     "prompt_number": 8
    },
    {
     "cell_type": "code",
     "collapsed": false,
     "input": [
      "\n",
      "df = df.transpose() #transpose the df\n",
      "df = df.reset_index()\n",
      "\n",
      "#remove aggregated rows\n",
      "df = df[:max(df.index)-4]\n",
      "df.columns = ['Date', 'Revenue', 'Cost of Goods', 'Gross Profit', 'Margin']\n",
      "df.head()"
     ],
     "language": "python",
     "metadata": {},
     "outputs": [
      {
       "html": [
        "<div style=\"max-height:1000px;max-width:1500px;overflow:auto;\">\n",
        "<table border=\"1\" class=\"dataframe\">\n",
        "  <thead>\n",
        "    <tr style=\"text-align: right;\">\n",
        "      <th></th>\n",
        "      <th>Date</th>\n",
        "      <th>Revenue</th>\n",
        "      <th>Cost of Goods</th>\n",
        "      <th>Gross Profit</th>\n",
        "      <th>Margin</th>\n",
        "    </tr>\n",
        "  </thead>\n",
        "  <tbody>\n",
        "    <tr>\n",
        "      <th>0</th>\n",
        "      <td> Fri 1st Jan 2016</td>\n",
        "      <td> 1200.0</td>\n",
        "      <td>  774.68</td>\n",
        "      <td>  425.32</td>\n",
        "      <td> 0.354433</td>\n",
        "    </tr>\n",
        "    <tr>\n",
        "      <th>1</th>\n",
        "      <td> Sat 2nd Jan 2016</td>\n",
        "      <td> 5752.5</td>\n",
        "      <td> 4112.82</td>\n",
        "      <td> 1639.68</td>\n",
        "      <td> 0.285038</td>\n",
        "    </tr>\n",
        "    <tr>\n",
        "      <th>2</th>\n",
        "      <td> Sun 3rd Jan 2016</td>\n",
        "      <td> 8860.2</td>\n",
        "      <td> 6425.54</td>\n",
        "      <td> 2434.66</td>\n",
        "      <td> 0.274786</td>\n",
        "    </tr>\n",
        "    <tr>\n",
        "      <th>3</th>\n",
        "      <td> Mon 4th Jan 2016</td>\n",
        "      <td> 9013.4</td>\n",
        "      <td> 6451.81</td>\n",
        "      <td> 2561.59</td>\n",
        "      <td> 0.284198</td>\n",
        "    </tr>\n",
        "    <tr>\n",
        "      <th>4</th>\n",
        "      <td> Tue 5th Jan 2016</td>\n",
        "      <td> 7731.7</td>\n",
        "      <td> 5264.15</td>\n",
        "      <td> 2467.55</td>\n",
        "      <td> 0.319147</td>\n",
        "    </tr>\n",
        "  </tbody>\n",
        "</table>\n",
        "</div>"
       ],
       "metadata": {},
       "output_type": "pyout",
       "prompt_number": 9,
       "text": [
        "               Date  Revenue  Cost of Goods  Gross Profit    Margin\n",
        "0  Fri 1st Jan 2016   1200.0         774.68        425.32  0.354433\n",
        "1  Sat 2nd Jan 2016   5752.5        4112.82       1639.68  0.285038\n",
        "2  Sun 3rd Jan 2016   8860.2        6425.54       2434.66  0.274786\n",
        "3  Mon 4th Jan 2016   9013.4        6451.81       2561.59  0.284198\n",
        "4  Tue 5th Jan 2016   7731.7        5264.15       2467.55  0.319147"
       ]
      }
     ],
     "prompt_number": 9
    },
    {
     "cell_type": "code",
     "collapsed": false,
     "input": [
      "df.loc[:, 'Date'] = df.Date.apply(convertDate)\n",
      "df.head()"
     ],
     "language": "python",
     "metadata": {},
     "outputs": [
      {
       "html": [
        "<div style=\"max-height:1000px;max-width:1500px;overflow:auto;\">\n",
        "<table border=\"1\" class=\"dataframe\">\n",
        "  <thead>\n",
        "    <tr style=\"text-align: right;\">\n",
        "      <th></th>\n",
        "      <th>Date</th>\n",
        "      <th>Revenue</th>\n",
        "      <th>Cost of Goods</th>\n",
        "      <th>Gross Profit</th>\n",
        "      <th>Margin</th>\n",
        "    </tr>\n",
        "  </thead>\n",
        "  <tbody>\n",
        "    <tr>\n",
        "      <th>0</th>\n",
        "      <td> 2016-01-01</td>\n",
        "      <td> 1200.0</td>\n",
        "      <td>  774.68</td>\n",
        "      <td>  425.32</td>\n",
        "      <td> 0.354433</td>\n",
        "    </tr>\n",
        "    <tr>\n",
        "      <th>1</th>\n",
        "      <td> 2016-01-02</td>\n",
        "      <td> 5752.5</td>\n",
        "      <td> 4112.82</td>\n",
        "      <td> 1639.68</td>\n",
        "      <td> 0.285038</td>\n",
        "    </tr>\n",
        "    <tr>\n",
        "      <th>2</th>\n",
        "      <td> 2016-01-03</td>\n",
        "      <td> 8860.2</td>\n",
        "      <td> 6425.54</td>\n",
        "      <td> 2434.66</td>\n",
        "      <td> 0.274786</td>\n",
        "    </tr>\n",
        "    <tr>\n",
        "      <th>3</th>\n",
        "      <td> 2016-01-04</td>\n",
        "      <td> 9013.4</td>\n",
        "      <td> 6451.81</td>\n",
        "      <td> 2561.59</td>\n",
        "      <td> 0.284198</td>\n",
        "    </tr>\n",
        "    <tr>\n",
        "      <th>4</th>\n",
        "      <td> 2016-01-05</td>\n",
        "      <td> 7731.7</td>\n",
        "      <td> 5264.15</td>\n",
        "      <td> 2467.55</td>\n",
        "      <td> 0.319147</td>\n",
        "    </tr>\n",
        "  </tbody>\n",
        "</table>\n",
        "</div>"
       ],
       "metadata": {},
       "output_type": "pyout",
       "prompt_number": 10,
       "text": [
        "         Date  Revenue  Cost of Goods  Gross Profit    Margin\n",
        "0  2016-01-01   1200.0         774.68        425.32  0.354433\n",
        "1  2016-01-02   5752.5        4112.82       1639.68  0.285038\n",
        "2  2016-01-03   8860.2        6425.54       2434.66  0.274786\n",
        "3  2016-01-04   9013.4        6451.81       2561.59  0.284198\n",
        "4  2016-01-05   7731.7        5264.15       2467.55  0.319147"
       ]
      }
     ],
     "prompt_number": 10
    },
    {
     "cell_type": "code",
     "collapsed": false,
     "input": [],
     "language": "python",
     "metadata": {},
     "outputs": []
    }
   ],
   "metadata": {}
  }
 ]
}
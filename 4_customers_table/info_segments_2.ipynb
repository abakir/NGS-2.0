{
 "metadata": {
  "name": "",
  "signature": "sha256:a193c55496d1e6b7700031e3e2790ce4d8921931f95d93145a85d8e5cd86324b"
 },
 "nbformat": 3,
 "nbformat_minor": 0,
 "worksheets": [
  {
   "cells": [
    {
     "cell_type": "code",
     "collapsed": false,
     "input": [
      "#!/home/cloudera/local/lib/python2.6/site-packages/bin/python\n",
      "\n",
      "import pandas as pd\n",
      "import yaml\n",
      "import logging\n",
      "import time\n",
      "import os\n",
      "\n",
      "with open(\"/home/cloudera/Documents/12_dashboard_tables/config.yaml\", 'r') as ymlfile:\n",
      "        cfg = yaml.load(ymlfile)\n",
      "        \n",
      "def make_sure_path_exists(path):\n",
      "    if (os.path.isdir(path) == False):\n",
      "        os.makedirs(path)\n",
      "\n",
      "make_sure_path_exists(cfg['root'] + cfg['dir_logs'])\n",
      "make_sure_path_exists(cfg['root']+cfg['dir_data_output'])\n",
      "\n",
      "# create logger\n",
      "logger = logging.getLogger(cfg['log_info_segments_2'])\n",
      "logger.setLevel(logging.DEBUG)\n",
      "# create console handler and set level to debug\n",
      "ch = logging.FileHandler(cfg['root'] + cfg['dir_logs'] + cfg['log_info_segments_2'] + \"_\" + time.strftime(\"%Y_%m_%d_%H_%M_%S\") + \".log\" )\n",
      "ch.setLevel(logging.DEBUG)\n",
      "# create formatter\n",
      "formatter = logging.Formatter(\"%(asctime)s - %(name)s - %(levelname)s - %(message)s\")\n",
      "# add formatter to ch\n",
      "ch.setFormatter(formatter)\n",
      "# add ch to logger\n",
      "logger.addHandler(ch)\n",
      "\n",
      "df = pd.read_csv(cfg['root']+cfg['dir_data_shopify']+cfg[\"ip_orders\"],low_memory=False)\n",
      "logger.debug(\"Data Frame df created\")"
     ],
     "language": "python",
     "metadata": {},
     "outputs": [],
     "prompt_number": 3
    },
    {
     "cell_type": "code",
     "collapsed": false,
     "input": [
      "df1 = df\n",
      "\n",
      "#get required columns and rename\n",
      "df = df[[ 'Email', 'Lineitem quantity', 'Lineitem price']]\n",
      "df.columns = ['Email', 'Quantity', 'Price']\n",
      "\n",
      "#calculate revenue\n",
      "df.loc[:, 'Revenue'] = df['Quantity'] * df['Price']\n",
      "df = df[['Email', 'Revenue']]\n",
      "df.head()"
     ],
     "language": "python",
     "metadata": {},
     "outputs": [
      {
       "html": [
        "<div style=\"max-height:1000px;max-width:1500px;overflow:auto;\">\n",
        "<table border=\"1\" class=\"dataframe\">\n",
        "  <thead>\n",
        "    <tr style=\"text-align: right;\">\n",
        "      <th></th>\n",
        "      <th>Email</th>\n",
        "      <th>Revenue</th>\n",
        "    </tr>\n",
        "  </thead>\n",
        "  <tbody>\n",
        "    <tr>\n",
        "      <th>0</th>\n",
        "      <td> rehabmansour@gmail.com</td>\n",
        "      <td> 180.0</td>\n",
        "    </tr>\n",
        "    <tr>\n",
        "      <th>1</th>\n",
        "      <td> rehabmansour@gmail.com</td>\n",
        "      <td>  14.4</td>\n",
        "    </tr>\n",
        "    <tr>\n",
        "      <th>2</th>\n",
        "      <td> rehabmansour@gmail.com</td>\n",
        "      <td> 180.9</td>\n",
        "    </tr>\n",
        "    <tr>\n",
        "      <th>3</th>\n",
        "      <td>    nabouheif@yahoo.com</td>\n",
        "      <td>  30.6</td>\n",
        "    </tr>\n",
        "    <tr>\n",
        "      <th>4</th>\n",
        "      <td>    nabouheif@yahoo.com</td>\n",
        "      <td>  10.8</td>\n",
        "    </tr>\n",
        "  </tbody>\n",
        "</table>\n",
        "</div>"
       ],
       "metadata": {},
       "output_type": "pyout",
       "prompt_number": 4,
       "text": [
        "                    Email  Revenue\n",
        "0  rehabmansour@gmail.com    180.0\n",
        "1  rehabmansour@gmail.com     14.4\n",
        "2  rehabmansour@gmail.com    180.9\n",
        "3     nabouheif@yahoo.com     30.6\n",
        "4     nabouheif@yahoo.com     10.8"
       ]
      }
     ],
     "prompt_number": 4
    },
    {
     "cell_type": "code",
     "collapsed": false,
     "input": [
      "#calculate total revenue per customer\n",
      "df = df.groupby('Email', axis = 0, as_index=False).sum()\n",
      "df.head()"
     ],
     "language": "python",
     "metadata": {},
     "outputs": [
      {
       "html": [
        "<div style=\"max-height:1000px;max-width:1500px;overflow:auto;\">\n",
        "<table border=\"1\" class=\"dataframe\">\n",
        "  <thead>\n",
        "    <tr style=\"text-align: right;\">\n",
        "      <th></th>\n",
        "      <th>Email</th>\n",
        "      <th>Revenue</th>\n",
        "    </tr>\n",
        "  </thead>\n",
        "  <tbody>\n",
        "    <tr>\n",
        "      <th>0</th>\n",
        "      <td> 11435mail@mkallenberger.de</td>\n",
        "      <td>  267.17</td>\n",
        "    </tr>\n",
        "    <tr>\n",
        "      <th>1</th>\n",
        "      <td>              1@gargour.com</td>\n",
        "      <td> 1001.10</td>\n",
        "    </tr>\n",
        "    <tr>\n",
        "      <th>2</th>\n",
        "      <td>          1kttate@gmail.com</td>\n",
        "      <td>  648.00</td>\n",
        "    </tr>\n",
        "    <tr>\n",
        "      <th>3</th>\n",
        "      <td>  1youniqueflower@gmail.com</td>\n",
        "      <td>  909.00</td>\n",
        "    </tr>\n",
        "    <tr>\n",
        "      <th>4</th>\n",
        "      <td>         3aliaa.h@gmail.com</td>\n",
        "      <td>  160.00</td>\n",
        "    </tr>\n",
        "  </tbody>\n",
        "</table>\n",
        "</div>"
       ],
       "metadata": {},
       "output_type": "pyout",
       "prompt_number": 5,
       "text": [
        "                        Email  Revenue\n",
        "0  11435mail@mkallenberger.de   267.17\n",
        "1               1@gargour.com  1001.10\n",
        "2           1kttate@gmail.com   648.00\n",
        "3   1youniqueflower@gmail.com   909.00\n",
        "4          3aliaa.h@gmail.com   160.00"
       ]
      }
     ],
     "prompt_number": 5
    },
    {
     "cell_type": "code",
     "collapsed": false,
     "input": [
      "#get required columns and rename\n",
      "df1 = df1[['Name', 'Email']]\n",
      "df1.columns = ['Orders', 'Email']\n",
      "df1 = df1.drop_duplicates().reset_index().drop('index', 1)\n",
      "df1.head()"
     ],
     "language": "python",
     "metadata": {},
     "outputs": [
      {
       "html": [
        "<div style=\"max-height:1000px;max-width:1500px;overflow:auto;\">\n",
        "<table border=\"1\" class=\"dataframe\">\n",
        "  <thead>\n",
        "    <tr style=\"text-align: right;\">\n",
        "      <th></th>\n",
        "      <th>Orders</th>\n",
        "      <th>Email</th>\n",
        "    </tr>\n",
        "  </thead>\n",
        "  <tbody>\n",
        "    <tr>\n",
        "      <th>0</th>\n",
        "      <td> #10367</td>\n",
        "      <td> rehabmansour@gmail.com</td>\n",
        "    </tr>\n",
        "    <tr>\n",
        "      <th>1</th>\n",
        "      <td> #10366</td>\n",
        "      <td>    nabouheif@yahoo.com</td>\n",
        "    </tr>\n",
        "    <tr>\n",
        "      <th>2</th>\n",
        "      <td> #10365</td>\n",
        "      <td> fracicardi@hotmail.com</td>\n",
        "    </tr>\n",
        "    <tr>\n",
        "      <th>3</th>\n",
        "      <td> #10364</td>\n",
        "      <td> ahmed.fakhry@gmail.com</td>\n",
        "    </tr>\n",
        "    <tr>\n",
        "      <th>4</th>\n",
        "      <td> #10363</td>\n",
        "      <td> ahmed.fakhry@gmail.com</td>\n",
        "    </tr>\n",
        "  </tbody>\n",
        "</table>\n",
        "</div>"
       ],
       "metadata": {},
       "output_type": "pyout",
       "prompt_number": 6,
       "text": [
        "   Orders                   Email\n",
        "0  #10367  rehabmansour@gmail.com\n",
        "1  #10366     nabouheif@yahoo.com\n",
        "2  #10365  fracicardi@hotmail.com\n",
        "3  #10364  ahmed.fakhry@gmail.com\n",
        "4  #10363  ahmed.fakhry@gmail.com"
       ]
      }
     ],
     "prompt_number": 6
    },
    {
     "cell_type": "code",
     "collapsed": false,
     "input": [
      "#calculate total orders per customer\n",
      "df1['Orders'] = 1\n",
      "df1 = df1.groupby('Email', axis = 0, as_index=False).sum()\n",
      "df = df.merge(df1, on = ['Email'], how = 'inner')\n",
      "df.head()"
     ],
     "language": "python",
     "metadata": {},
     "outputs": [
      {
       "html": [
        "<div style=\"max-height:1000px;max-width:1500px;overflow:auto;\">\n",
        "<table border=\"1\" class=\"dataframe\">\n",
        "  <thead>\n",
        "    <tr style=\"text-align: right;\">\n",
        "      <th></th>\n",
        "      <th>Email</th>\n",
        "      <th>Revenue</th>\n",
        "      <th>Orders</th>\n",
        "    </tr>\n",
        "  </thead>\n",
        "  <tbody>\n",
        "    <tr>\n",
        "      <th>0</th>\n",
        "      <td> 11435mail@mkallenberger.de</td>\n",
        "      <td>  267.17</td>\n",
        "      <td> 1</td>\n",
        "    </tr>\n",
        "    <tr>\n",
        "      <th>1</th>\n",
        "      <td>              1@gargour.com</td>\n",
        "      <td> 1001.10</td>\n",
        "      <td> 2</td>\n",
        "    </tr>\n",
        "    <tr>\n",
        "      <th>2</th>\n",
        "      <td>          1kttate@gmail.com</td>\n",
        "      <td>  648.00</td>\n",
        "      <td> 4</td>\n",
        "    </tr>\n",
        "    <tr>\n",
        "      <th>3</th>\n",
        "      <td>  1youniqueflower@gmail.com</td>\n",
        "      <td>  909.00</td>\n",
        "      <td> 3</td>\n",
        "    </tr>\n",
        "    <tr>\n",
        "      <th>4</th>\n",
        "      <td>         3aliaa.h@gmail.com</td>\n",
        "      <td>  160.00</td>\n",
        "      <td> 3</td>\n",
        "    </tr>\n",
        "  </tbody>\n",
        "</table>\n",
        "</div>"
       ],
       "metadata": {},
       "output_type": "pyout",
       "prompt_number": 7,
       "text": [
        "                        Email  Revenue  Orders\n",
        "0  11435mail@mkallenberger.de   267.17       1\n",
        "1               1@gargour.com  1001.10       2\n",
        "2           1kttate@gmail.com   648.00       4\n",
        "3   1youniqueflower@gmail.com   909.00       3\n",
        "4          3aliaa.h@gmail.com   160.00       3"
       ]
      }
     ],
     "prompt_number": 7
    },
    {
     "cell_type": "code",
     "collapsed": false,
     "input": [
      "#calculate basket value\n",
      "df.loc[:, 'Basket Value'] = df['Revenue'] / df['Orders']\n",
      "customer_value = df[['Email', 'Revenue', 'Basket Value']]\n",
      "customer_value.head()"
     ],
     "language": "python",
     "metadata": {},
     "outputs": [
      {
       "html": [
        "<div style=\"max-height:1000px;max-width:1500px;overflow:auto;\">\n",
        "<table border=\"1\" class=\"dataframe\">\n",
        "  <thead>\n",
        "    <tr style=\"text-align: right;\">\n",
        "      <th></th>\n",
        "      <th>Email</th>\n",
        "      <th>Revenue</th>\n",
        "      <th>Basket Value</th>\n",
        "    </tr>\n",
        "  </thead>\n",
        "  <tbody>\n",
        "    <tr>\n",
        "      <th>0</th>\n",
        "      <td> 11435mail@mkallenberger.de</td>\n",
        "      <td>  267.17</td>\n",
        "      <td> 267.170000</td>\n",
        "    </tr>\n",
        "    <tr>\n",
        "      <th>1</th>\n",
        "      <td>              1@gargour.com</td>\n",
        "      <td> 1001.10</td>\n",
        "      <td> 500.550000</td>\n",
        "    </tr>\n",
        "    <tr>\n",
        "      <th>2</th>\n",
        "      <td>          1kttate@gmail.com</td>\n",
        "      <td>  648.00</td>\n",
        "      <td> 162.000000</td>\n",
        "    </tr>\n",
        "    <tr>\n",
        "      <th>3</th>\n",
        "      <td>  1youniqueflower@gmail.com</td>\n",
        "      <td>  909.00</td>\n",
        "      <td> 303.000000</td>\n",
        "    </tr>\n",
        "    <tr>\n",
        "      <th>4</th>\n",
        "      <td>         3aliaa.h@gmail.com</td>\n",
        "      <td>  160.00</td>\n",
        "      <td>  53.333333</td>\n",
        "    </tr>\n",
        "  </tbody>\n",
        "</table>\n",
        "</div>"
       ],
       "metadata": {},
       "output_type": "pyout",
       "prompt_number": 8,
       "text": [
        "                        Email  Revenue  Basket Value\n",
        "0  11435mail@mkallenberger.de   267.17    267.170000\n",
        "1               1@gargour.com  1001.10    500.550000\n",
        "2           1kttate@gmail.com   648.00    162.000000\n",
        "3   1youniqueflower@gmail.com   909.00    303.000000\n",
        "4          3aliaa.h@gmail.com   160.00     53.333333"
       ]
      }
     ],
     "prompt_number": 8
    },
    {
     "cell_type": "code",
     "collapsed": false,
     "input": [
      "customers = pd.read_csv('C:\\Users\\saisree849\\Documents\\GitHub\\NGS-2.0\\data_input\\shopify\\customers_export.csv', low_memory=False)\n",
      "customers.head()"
     ],
     "language": "python",
     "metadata": {},
     "outputs": [
      {
       "html": [
        "<div style=\"max-height:1000px;max-width:1500px;overflow:auto;\">\n",
        "<table border=\"1\" class=\"dataframe\">\n",
        "  <thead>\n",
        "    <tr style=\"text-align: right;\">\n",
        "      <th></th>\n",
        "      <th>First Name</th>\n",
        "      <th>Last Name</th>\n",
        "      <th>Email</th>\n",
        "      <th>Company</th>\n",
        "      <th>Address1</th>\n",
        "      <th>Address2</th>\n",
        "      <th>City</th>\n",
        "      <th>Province</th>\n",
        "      <th>Province Code</th>\n",
        "      <th>Country</th>\n",
        "      <th>Country Code</th>\n",
        "      <th>Zip</th>\n",
        "      <th>Phone</th>\n",
        "      <th>Accepts Marketing</th>\n",
        "      <th>Total Spent</th>\n",
        "      <th>Total Orders</th>\n",
        "      <th>Tags</th>\n",
        "      <th>Note</th>\n",
        "      <th>Tax Exempt</th>\n",
        "    </tr>\n",
        "  </thead>\n",
        "  <tbody>\n",
        "    <tr>\n",
        "      <th>0</th>\n",
        "      <td>    Rehab </td>\n",
        "      <td>   Mansour</td>\n",
        "      <td> rehabmansour@gmail.com</td>\n",
        "      <td>   NaN</td>\n",
        "      <td> 8 Al Shahid Ahmed Zaki St. Behind El Obour Bld...</td>\n",
        "      <td> Floor 9 - Appt. 91</td>\n",
        "      <td>   Cairo</td>\n",
        "      <td> Cairo</td>\n",
        "      <td>   C</td>\n",
        "      <td> Egypt</td>\n",
        "      <td>  EG</td>\n",
        "      <td> 11513</td>\n",
        "      <td>   01001607028</td>\n",
        "      <td> no</td>\n",
        "      <td> 0</td>\n",
        "      <td> 1</td>\n",
        "      <td> NaN</td>\n",
        "      <td> NaN</td>\n",
        "      <td> no</td>\n",
        "    </tr>\n",
        "    <tr>\n",
        "      <th>1</th>\n",
        "      <td>     RAfik</td>\n",
        "      <td>    BEbawi</td>\n",
        "      <td>       rhbebawi@live.ca</td>\n",
        "      <td>   NaN</td>\n",
        "      <td>                                               NaN</td>\n",
        "      <td>                NaN</td>\n",
        "      <td>     NaN</td>\n",
        "      <td>   NaN</td>\n",
        "      <td> NaN</td>\n",
        "      <td>   NaN</td>\n",
        "      <td> NaN</td>\n",
        "      <td>   NaN</td>\n",
        "      <td>           NaN</td>\n",
        "      <td> no</td>\n",
        "      <td> 0</td>\n",
        "      <td> 0</td>\n",
        "      <td> NaN</td>\n",
        "      <td> NaN</td>\n",
        "      <td> no</td>\n",
        "    </tr>\n",
        "    <tr>\n",
        "      <th>2</th>\n",
        "      <td> Francesca</td>\n",
        "      <td>   Cicardi</td>\n",
        "      <td> fracicardi@hotmail.com</td>\n",
        "      <td>   NaN</td>\n",
        "      <td>                                5, Fouad al Ahwany</td>\n",
        "      <td>  1st floor, apt. 3</td>\n",
        "      <td> Zamalek</td>\n",
        "      <td> Cairo</td>\n",
        "      <td>   C</td>\n",
        "      <td> Egypt</td>\n",
        "      <td>  EG</td>\n",
        "      <td> 11211</td>\n",
        "      <td>   01203038029</td>\n",
        "      <td> no</td>\n",
        "      <td> 0</td>\n",
        "      <td> 1</td>\n",
        "      <td> NaN</td>\n",
        "      <td> NaN</td>\n",
        "      <td> no</td>\n",
        "    </tr>\n",
        "    <tr>\n",
        "      <th>3</th>\n",
        "      <td>     Ahmed</td>\n",
        "      <td> Aboulella</td>\n",
        "      <td> ahmed.fakhry@gmail.com</td>\n",
        "      <td> Mipex</td>\n",
        "      <td>                10 Tahreer St, Sheraton Heliopolis</td>\n",
        "      <td>                  8</td>\n",
        "      <td>   Cairo</td>\n",
        "      <td> Cairo</td>\n",
        "      <td>   C</td>\n",
        "      <td> Egypt</td>\n",
        "      <td>  EG</td>\n",
        "      <td> 11361</td>\n",
        "      <td> +201009936633</td>\n",
        "      <td> no</td>\n",
        "      <td> 0</td>\n",
        "      <td> 2</td>\n",
        "      <td> NaN</td>\n",
        "      <td> NaN</td>\n",
        "      <td> no</td>\n",
        "    </tr>\n",
        "    <tr>\n",
        "      <th>4</th>\n",
        "      <td>    Laila </td>\n",
        "      <td>     akram</td>\n",
        "      <td>   Missilou11@yahoo.com</td>\n",
        "      <td>   NaN</td>\n",
        "      <td> Maadi*Road14*Villa60*Behind Qesm Elmaady*Maadi...</td>\n",
        "      <td>                NaN</td>\n",
        "      <td>   Cairo</td>\n",
        "      <td> Cairo</td>\n",
        "      <td>   C</td>\n",
        "      <td> Egypt</td>\n",
        "      <td>  EG</td>\n",
        "      <td> Mm123</td>\n",
        "      <td>   01008108200</td>\n",
        "      <td> no</td>\n",
        "      <td> 0</td>\n",
        "      <td> 1</td>\n",
        "      <td> NaN</td>\n",
        "      <td> NaN</td>\n",
        "      <td> no</td>\n",
        "    </tr>\n",
        "  </tbody>\n",
        "</table>\n",
        "</div>"
       ],
       "metadata": {},
       "output_type": "pyout",
       "prompt_number": 9,
       "text": [
        "  First Name  Last Name                   Email Company  \\\n",
        "0     Rehab     Mansour  rehabmansour@gmail.com     NaN   \n",
        "1      RAfik     BEbawi        rhbebawi@live.ca     NaN   \n",
        "2  Francesca    Cicardi  fracicardi@hotmail.com     NaN   \n",
        "3      Ahmed  Aboulella  ahmed.fakhry@gmail.com   Mipex   \n",
        "4     Laila       akram    Missilou11@yahoo.com     NaN   \n",
        "\n",
        "                                            Address1            Address2  \\\n",
        "0  8 Al Shahid Ahmed Zaki St. Behind El Obour Bld...  Floor 9 - Appt. 91   \n",
        "1                                                NaN                 NaN   \n",
        "2                                 5, Fouad al Ahwany   1st floor, apt. 3   \n",
        "3                 10 Tahreer St, Sheraton Heliopolis                   8   \n",
        "4  Maadi*Road14*Villa60*Behind Qesm Elmaady*Maadi...                 NaN   \n",
        "\n",
        "      City Province Province Code Country Country Code    Zip          Phone  \\\n",
        "0    Cairo    Cairo             C   Egypt           EG  11513    01001607028   \n",
        "1      NaN      NaN           NaN     NaN          NaN    NaN            NaN   \n",
        "2  Zamalek    Cairo             C   Egypt           EG  11211    01203038029   \n",
        "3    Cairo    Cairo             C   Egypt           EG  11361  +201009936633   \n",
        "4    Cairo    Cairo             C   Egypt           EG  Mm123    01008108200   \n",
        "\n",
        "  Accepts Marketing  Total Spent  Total Orders Tags Note Tax Exempt  \n",
        "0                no            0             1  NaN  NaN         no  \n",
        "1                no            0             0  NaN  NaN         no  \n",
        "2                no            0             1  NaN  NaN         no  \n",
        "3                no            0             2  NaN  NaN         no  \n",
        "4                no            0             1  NaN  NaN         no  "
       ]
      }
     ],
     "prompt_number": 9
    },
    {
     "cell_type": "code",
     "collapsed": false,
     "input": [
      "#concatenate name, address\n",
      "customers['Name'] = customers['First Name'] + \" \" + customers['Last Name']\n",
      "customers['Address'] = customers['Address1'] + \" \" + customers['Address2'] + \" \" + customers['City']\n",
      "\n",
      "customers = customers[['Name', 'Address', 'Phone', 'Email']]\n",
      "customers.head()"
     ],
     "language": "python",
     "metadata": {},
     "outputs": [
      {
       "html": [
        "<div style=\"max-height:1000px;max-width:1500px;overflow:auto;\">\n",
        "<table border=\"1\" class=\"dataframe\">\n",
        "  <thead>\n",
        "    <tr style=\"text-align: right;\">\n",
        "      <th></th>\n",
        "      <th>Name</th>\n",
        "      <th>Address</th>\n",
        "      <th>Phone</th>\n",
        "      <th>Email</th>\n",
        "    </tr>\n",
        "  </thead>\n",
        "  <tbody>\n",
        "    <tr>\n",
        "      <th>0</th>\n",
        "      <td>    Rehab  Mansour</td>\n",
        "      <td> 8 Al Shahid Ahmed Zaki St. Behind El Obour Bld...</td>\n",
        "      <td>   01001607028</td>\n",
        "      <td> rehabmansour@gmail.com</td>\n",
        "    </tr>\n",
        "    <tr>\n",
        "      <th>1</th>\n",
        "      <td>      RAfik BEbawi</td>\n",
        "      <td>                                               NaN</td>\n",
        "      <td>           NaN</td>\n",
        "      <td>       rhbebawi@live.ca</td>\n",
        "    </tr>\n",
        "    <tr>\n",
        "      <th>2</th>\n",
        "      <td> Francesca Cicardi</td>\n",
        "      <td>      5, Fouad al Ahwany 1st floor, apt. 3 Zamalek</td>\n",
        "      <td>   01203038029</td>\n",
        "      <td> fracicardi@hotmail.com</td>\n",
        "    </tr>\n",
        "    <tr>\n",
        "      <th>3</th>\n",
        "      <td>   Ahmed Aboulella</td>\n",
        "      <td>        10 Tahreer St, Sheraton Heliopolis 8 Cairo</td>\n",
        "      <td> +201009936633</td>\n",
        "      <td> ahmed.fakhry@gmail.com</td>\n",
        "    </tr>\n",
        "    <tr>\n",
        "      <th>4</th>\n",
        "      <td>      Laila  akram</td>\n",
        "      <td>                                               NaN</td>\n",
        "      <td>   01008108200</td>\n",
        "      <td>   Missilou11@yahoo.com</td>\n",
        "    </tr>\n",
        "  </tbody>\n",
        "</table>\n",
        "</div>"
       ],
       "metadata": {},
       "output_type": "pyout",
       "prompt_number": 10,
       "text": [
        "                Name                                            Address  \\\n",
        "0     Rehab  Mansour  8 Al Shahid Ahmed Zaki St. Behind El Obour Bld...   \n",
        "1       RAfik BEbawi                                                NaN   \n",
        "2  Francesca Cicardi       5, Fouad al Ahwany 1st floor, apt. 3 Zamalek   \n",
        "3    Ahmed Aboulella         10 Tahreer St, Sheraton Heliopolis 8 Cairo   \n",
        "4       Laila  akram                                                NaN   \n",
        "\n",
        "           Phone                   Email  \n",
        "0    01001607028  rehabmansour@gmail.com  \n",
        "1            NaN        rhbebawi@live.ca  \n",
        "2    01203038029  fracicardi@hotmail.com  \n",
        "3  +201009936633  ahmed.fakhry@gmail.com  \n",
        "4    01008108200    Missilou11@yahoo.com  "
       ]
      }
     ],
     "prompt_number": 10
    },
    {
     "cell_type": "code",
     "collapsed": false,
     "input": [
      "customer_value = customers.merge(customer_value, on = ['Email'], how = 'inner')\n",
      "customer_value.head()"
     ],
     "language": "python",
     "metadata": {},
     "outputs": [
      {
       "html": [
        "<div style=\"max-height:1000px;max-width:1500px;overflow:auto;\">\n",
        "<table border=\"1\" class=\"dataframe\">\n",
        "  <thead>\n",
        "    <tr style=\"text-align: right;\">\n",
        "      <th></th>\n",
        "      <th>Name</th>\n",
        "      <th>Address</th>\n",
        "      <th>Phone</th>\n",
        "      <th>Email</th>\n",
        "      <th>Revenue</th>\n",
        "      <th>Basket Value</th>\n",
        "    </tr>\n",
        "  </thead>\n",
        "  <tbody>\n",
        "    <tr>\n",
        "      <th>0</th>\n",
        "      <td>    Rehab  Mansour</td>\n",
        "      <td> 8 Al Shahid Ahmed Zaki St. Behind El Obour Bld...</td>\n",
        "      <td>   01001607028</td>\n",
        "      <td>  rehabmansour@gmail.com</td>\n",
        "      <td>  375.3</td>\n",
        "      <td> 375.30</td>\n",
        "    </tr>\n",
        "    <tr>\n",
        "      <th>1</th>\n",
        "      <td> Francesca Cicardi</td>\n",
        "      <td>      5, Fouad al Ahwany 1st floor, apt. 3 Zamalek</td>\n",
        "      <td>   01203038029</td>\n",
        "      <td>  fracicardi@hotmail.com</td>\n",
        "      <td>  129.0</td>\n",
        "      <td> 129.00</td>\n",
        "    </tr>\n",
        "    <tr>\n",
        "      <th>2</th>\n",
        "      <td>   Ahmed Aboulella</td>\n",
        "      <td>        10 Tahreer St, Sheraton Heliopolis 8 Cairo</td>\n",
        "      <td> +201009936633</td>\n",
        "      <td>  ahmed.fakhry@gmail.com</td>\n",
        "      <td> 1252.1</td>\n",
        "      <td> 626.05</td>\n",
        "    </tr>\n",
        "    <tr>\n",
        "      <th>3</th>\n",
        "      <td>      Laila  akram</td>\n",
        "      <td>                                               NaN</td>\n",
        "      <td>   01008108200</td>\n",
        "      <td>    Missilou11@yahoo.com</td>\n",
        "      <td>   70.2</td>\n",
        "      <td>  70.20</td>\n",
        "    </tr>\n",
        "    <tr>\n",
        "      <th>4</th>\n",
        "      <td>      Sally  Salem</td>\n",
        "      <td>                                               NaN</td>\n",
        "      <td>   01222484466</td>\n",
        "      <td> sallysalem123@gmail.com</td>\n",
        "      <td>  432.0</td>\n",
        "      <td> 432.00</td>\n",
        "    </tr>\n",
        "  </tbody>\n",
        "</table>\n",
        "</div>"
       ],
       "metadata": {},
       "output_type": "pyout",
       "prompt_number": 11,
       "text": [
        "                Name                                            Address  \\\n",
        "0     Rehab  Mansour  8 Al Shahid Ahmed Zaki St. Behind El Obour Bld...   \n",
        "1  Francesca Cicardi       5, Fouad al Ahwany 1st floor, apt. 3 Zamalek   \n",
        "2    Ahmed Aboulella         10 Tahreer St, Sheraton Heliopolis 8 Cairo   \n",
        "3       Laila  akram                                                NaN   \n",
        "4       Sally  Salem                                                NaN   \n",
        "\n",
        "           Phone                    Email  Revenue  Basket Value  \n",
        "0    01001607028   rehabmansour@gmail.com    375.3        375.30  \n",
        "1    01203038029   fracicardi@hotmail.com    129.0        129.00  \n",
        "2  +201009936633   ahmed.fakhry@gmail.com   1252.1        626.05  \n",
        "3    01008108200     Missilou11@yahoo.com     70.2         70.20  \n",
        "4    01222484466  sallysalem123@gmail.com    432.0        432.00  "
       ]
      }
     ],
     "prompt_number": 11
    },
    {
     "cell_type": "code",
     "collapsed": false,
     "input": [
      "raw_segments = pd.read_csv(\"C:\\Users\\saisree849\\Documents\\GitHub\\NGS-2.0\\data_input\\enodos\\segments.csv\")\n",
      "raw_segments.head()"
     ],
     "language": "python",
     "metadata": {},
     "outputs": [
      {
       "html": [
        "<div style=\"max-height:1000px;max-width:1500px;overflow:auto;\">\n",
        "<table border=\"1\" class=\"dataframe\">\n",
        "  <thead>\n",
        "    <tr style=\"text-align: right;\">\n",
        "      <th></th>\n",
        "      <th>Email</th>\n",
        "      <th>Segment</th>\n",
        "      <th>Score</th>\n",
        "    </tr>\n",
        "  </thead>\n",
        "  <tbody>\n",
        "    <tr>\n",
        "      <th>0</th>\n",
        "      <td> 11435mail@mkallenberger.de</td>\n",
        "      <td> Fresh Beef &amp; Poultry</td>\n",
        "      <td> 0.338</td>\n",
        "    </tr>\n",
        "    <tr>\n",
        "      <th>1</th>\n",
        "      <td>       Adhamada@hotmail.com</td>\n",
        "      <td> Fresh Beef &amp; Poultry</td>\n",
        "      <td> 0.565</td>\n",
        "    </tr>\n",
        "    <tr>\n",
        "      <th>2</th>\n",
        "      <td>  Fadiaelsenoussi@gmail.com</td>\n",
        "      <td> Fresh Beef &amp; Poultry</td>\n",
        "      <td> 0.338</td>\n",
        "    </tr>\n",
        "    <tr>\n",
        "      <th>3</th>\n",
        "      <td>         Nadochal@yahoo.com</td>\n",
        "      <td> Fresh Beef &amp; Poultry</td>\n",
        "      <td> 0.277</td>\n",
        "    </tr>\n",
        "    <tr>\n",
        "      <th>4</th>\n",
        "      <td>    Samikaissouni@gmail.com</td>\n",
        "      <td> Fresh Beef &amp; Poultry</td>\n",
        "      <td> 0.243</td>\n",
        "    </tr>\n",
        "  </tbody>\n",
        "</table>\n",
        "</div>"
       ],
       "metadata": {},
       "output_type": "pyout",
       "prompt_number": 12,
       "text": [
        "                        Email               Segment  Score\n",
        "0  11435mail@mkallenberger.de  Fresh Beef & Poultry  0.338\n",
        "1        Adhamada@hotmail.com  Fresh Beef & Poultry  0.565\n",
        "2   Fadiaelsenoussi@gmail.com  Fresh Beef & Poultry  0.338\n",
        "3          Nadochal@yahoo.com  Fresh Beef & Poultry  0.277\n",
        "4     Samikaissouni@gmail.com  Fresh Beef & Poultry  0.243"
       ]
      }
     ],
     "prompt_number": 12
    },
    {
     "cell_type": "code",
     "collapsed": false,
     "input": [
      "#join with new dataframe\n",
      "customer_info_with_segments = raw_segments.merge(customer_value, on = ['Email'], how = 'outer')\n",
      "customer_info_with_segments = customer_info_with_segments[['Name', 'Revenue', 'Basket Value', 'Segment', 'Email', 'Address', 'Phone' ]]\n",
      "customer_info_with_segments.head()"
     ],
     "language": "python",
     "metadata": {},
     "outputs": [
      {
       "html": [
        "<div style=\"max-height:1000px;max-width:1500px;overflow:auto;\">\n",
        "<table border=\"1\" class=\"dataframe\">\n",
        "  <thead>\n",
        "    <tr style=\"text-align: right;\">\n",
        "      <th></th>\n",
        "      <th>Name</th>\n",
        "      <th>Revenue</th>\n",
        "      <th>Basket Value</th>\n",
        "      <th>Segment</th>\n",
        "      <th>Email</th>\n",
        "      <th>Address</th>\n",
        "      <th>Phone</th>\n",
        "    </tr>\n",
        "  </thead>\n",
        "  <tbody>\n",
        "    <tr>\n",
        "      <th>0</th>\n",
        "      <td> Magdalena Kallenberger</td>\n",
        "      <td>  267.17</td>\n",
        "      <td> 267.170000</td>\n",
        "      <td> Fresh Beef &amp; Poultry</td>\n",
        "      <td> 11435mail@mkallenberger.de</td>\n",
        "      <td>                                               NaN</td>\n",
        "      <td> 01090904137</td>\n",
        "    </tr>\n",
        "    <tr>\n",
        "      <th>1</th>\n",
        "      <td>           Adham Hamada</td>\n",
        "      <td>   61.20</td>\n",
        "      <td>  61.200000</td>\n",
        "      <td> Fresh Beef &amp; Poultry</td>\n",
        "      <td>       Adhamada@hotmail.com</td>\n",
        "      <td> 5 eskandar el Akbar st. Heliopolis First floor...</td>\n",
        "      <td> 01223221581</td>\n",
        "    </tr>\n",
        "    <tr>\n",
        "      <th>2</th>\n",
        "      <td>       Fadia Elsenoussi</td>\n",
        "      <td> 1068.43</td>\n",
        "      <td> 356.143333</td>\n",
        "      <td> Fresh Beef &amp; Poultry</td>\n",
        "      <td>  Fadiaelsenoussi@gmail.com</td>\n",
        "      <td>                                               NaN</td>\n",
        "      <td>         NaN</td>\n",
        "    </tr>\n",
        "    <tr>\n",
        "      <th>3</th>\n",
        "      <td>       Nadine  Chalfoun</td>\n",
        "      <td>  263.39</td>\n",
        "      <td> 263.390000</td>\n",
        "      <td> Fresh Beef &amp; Poultry</td>\n",
        "      <td>         Nadochal@yahoo.com</td>\n",
        "      <td>                                               NaN</td>\n",
        "      <td> 01223137478</td>\n",
        "    </tr>\n",
        "    <tr>\n",
        "      <th>4</th>\n",
        "      <td>          Sami Kissouni</td>\n",
        "      <td>  769.26</td>\n",
        "      <td> 769.260000</td>\n",
        "      <td> Fresh Beef &amp; Poultry</td>\n",
        "      <td>    Samikaissouni@gmail.com</td>\n",
        "      <td> 603 west golf,katamia,new cairo go right besid...</td>\n",
        "      <td> 01002141390</td>\n",
        "    </tr>\n",
        "  </tbody>\n",
        "</table>\n",
        "</div>"
       ],
       "metadata": {},
       "output_type": "pyout",
       "prompt_number": 13,
       "text": [
        "                     Name  Revenue  Basket Value               Segment  \\\n",
        "0  Magdalena Kallenberger   267.17    267.170000  Fresh Beef & Poultry   \n",
        "1            Adham Hamada    61.20     61.200000  Fresh Beef & Poultry   \n",
        "2        Fadia Elsenoussi  1068.43    356.143333  Fresh Beef & Poultry   \n",
        "3        Nadine  Chalfoun   263.39    263.390000  Fresh Beef & Poultry   \n",
        "4           Sami Kissouni   769.26    769.260000  Fresh Beef & Poultry   \n",
        "\n",
        "                        Email  \\\n",
        "0  11435mail@mkallenberger.de   \n",
        "1        Adhamada@hotmail.com   \n",
        "2   Fadiaelsenoussi@gmail.com   \n",
        "3          Nadochal@yahoo.com   \n",
        "4     Samikaissouni@gmail.com   \n",
        "\n",
        "                                             Address        Phone  \n",
        "0                                                NaN  01090904137  \n",
        "1  5 eskandar el Akbar st. Heliopolis First floor...  01223221581  \n",
        "2                                                NaN          NaN  \n",
        "3                                                NaN  01223137478  \n",
        "4  603 west golf,katamia,new cairo go right besid...  01002141390  "
       ]
      }
     ],
     "prompt_number": 13
    },
    {
     "cell_type": "code",
     "collapsed": false,
     "input": [],
     "language": "python",
     "metadata": {},
     "outputs": []
    }
   ],
   "metadata": {}
  }
 ]
}
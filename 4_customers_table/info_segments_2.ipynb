{
 "metadata": {
  "name": "",
  "signature": "sha256:81f249bbf0267e2986df740db99c06124c8676c36693a5e8ab239e6c1567c0dc"
 },
 "nbformat": 3,
 "nbformat_minor": 0,
 "worksheets": [
  {
   "cells": [
    {
     "cell_type": "code",
     "collapsed": false,
     "input": [
      "import pandas as pd\n",
      "#import yaml\n",
      "\n",
      "#with open(\"config.yaml\", 'r') as ymlfile:\n",
      "#        cfg = yaml.load(ymlfile)\n",
      "\n",
      "#df = pd.read_csv(cfg['root']+cfg['dir_data_shopify']+cfg[\"ip_orders\"], low_memory=False)\n",
      "df = pd.read_csv('C:\\Users\\saisree849\\Documents\\GitHub\\NGS-2.0\\\\12_dashboard_tables\\data_input\\shopify\\orders_export.csv', low_memory=False)\n",
      "df"
     ],
     "language": "python",
     "metadata": {},
     "outputs": [
      {
       "html": [
        "<div style=\"max-height:1000px;max-width:1500px;overflow:auto;\">\n",
        "<table border=\"1\" class=\"dataframe\">\n",
        "  <thead>\n",
        "    <tr style=\"text-align: right;\">\n",
        "      <th></th>\n",
        "      <th>Name</th>\n",
        "      <th>Email</th>\n",
        "      <th>Financial Status</th>\n",
        "      <th>Paid at</th>\n",
        "      <th>Fulfillment Status</th>\n",
        "      <th>Fulfilled at</th>\n",
        "      <th>Accepts Marketing</th>\n",
        "      <th>Currency</th>\n",
        "      <th>Subtotal</th>\n",
        "      <th>Shipping</th>\n",
        "      <th>...</th>\n",
        "      <th>Tax 1 Name</th>\n",
        "      <th>Tax 1 Value</th>\n",
        "      <th>Tax 2 Name</th>\n",
        "      <th>Tax 2 Value</th>\n",
        "      <th>Tax 3 Name</th>\n",
        "      <th>Tax 3 Value</th>\n",
        "      <th>Tax 4 Name</th>\n",
        "      <th>Tax 4 Value</th>\n",
        "      <th>Tax 5 Name</th>\n",
        "      <th>Tax 5 Value</th>\n",
        "    </tr>\n",
        "  </thead>\n",
        "  <tbody>\n",
        "    <tr>\n",
        "      <th>0    </th>\n",
        "      <td> #10367</td>\n",
        "      <td>  rehabmansour@gmail.com</td>\n",
        "      <td> pending</td>\n",
        "      <td>                       NaN</td>\n",
        "      <td> unfulfilled</td>\n",
        "      <td>                       NaN</td>\n",
        "      <td>  no</td>\n",
        "      <td> EGP</td>\n",
        "      <td> 375.30</td>\n",
        "      <td> 10</td>\n",
        "      <td>...</td>\n",
        "      <td>NaN</td>\n",
        "      <td>NaN</td>\n",
        "      <td>NaN</td>\n",
        "      <td>NaN</td>\n",
        "      <td>NaN</td>\n",
        "      <td>NaN</td>\n",
        "      <td>NaN</td>\n",
        "      <td>NaN</td>\n",
        "      <td>NaN</td>\n",
        "      <td>NaN</td>\n",
        "    </tr>\n",
        "    <tr>\n",
        "      <th>1    </th>\n",
        "      <td> #10367</td>\n",
        "      <td>  rehabmansour@gmail.com</td>\n",
        "      <td>     NaN</td>\n",
        "      <td>                       NaN</td>\n",
        "      <td>         NaN</td>\n",
        "      <td>                       NaN</td>\n",
        "      <td> NaN</td>\n",
        "      <td> NaN</td>\n",
        "      <td>    NaN</td>\n",
        "      <td>NaN</td>\n",
        "      <td>...</td>\n",
        "      <td>NaN</td>\n",
        "      <td>NaN</td>\n",
        "      <td>NaN</td>\n",
        "      <td>NaN</td>\n",
        "      <td>NaN</td>\n",
        "      <td>NaN</td>\n",
        "      <td>NaN</td>\n",
        "      <td>NaN</td>\n",
        "      <td>NaN</td>\n",
        "      <td>NaN</td>\n",
        "    </tr>\n",
        "    <tr>\n",
        "      <th>2    </th>\n",
        "      <td> #10367</td>\n",
        "      <td>  rehabmansour@gmail.com</td>\n",
        "      <td>     NaN</td>\n",
        "      <td>                       NaN</td>\n",
        "      <td>         NaN</td>\n",
        "      <td>                       NaN</td>\n",
        "      <td> NaN</td>\n",
        "      <td> NaN</td>\n",
        "      <td>    NaN</td>\n",
        "      <td>NaN</td>\n",
        "      <td>...</td>\n",
        "      <td>NaN</td>\n",
        "      <td>NaN</td>\n",
        "      <td>NaN</td>\n",
        "      <td>NaN</td>\n",
        "      <td>NaN</td>\n",
        "      <td>NaN</td>\n",
        "      <td>NaN</td>\n",
        "      <td>NaN</td>\n",
        "      <td>NaN</td>\n",
        "      <td>NaN</td>\n",
        "    </tr>\n",
        "    <tr>\n",
        "      <th>3    </th>\n",
        "      <td> #10366</td>\n",
        "      <td>     nabouheif@yahoo.com</td>\n",
        "      <td> pending</td>\n",
        "      <td>                       NaN</td>\n",
        "      <td> unfulfilled</td>\n",
        "      <td>                       NaN</td>\n",
        "      <td>  no</td>\n",
        "      <td> EGP</td>\n",
        "      <td> 162.90</td>\n",
        "      <td> 10</td>\n",
        "      <td>...</td>\n",
        "      <td>NaN</td>\n",
        "      <td>NaN</td>\n",
        "      <td>NaN</td>\n",
        "      <td>NaN</td>\n",
        "      <td>NaN</td>\n",
        "      <td>NaN</td>\n",
        "      <td>NaN</td>\n",
        "      <td>NaN</td>\n",
        "      <td>NaN</td>\n",
        "      <td>NaN</td>\n",
        "    </tr>\n",
        "    <tr>\n",
        "      <th>4    </th>\n",
        "      <td> #10366</td>\n",
        "      <td>     nabouheif@yahoo.com</td>\n",
        "      <td>     NaN</td>\n",
        "      <td>                       NaN</td>\n",
        "      <td>         NaN</td>\n",
        "      <td>                       NaN</td>\n",
        "      <td> NaN</td>\n",
        "      <td> NaN</td>\n",
        "      <td>    NaN</td>\n",
        "      <td>NaN</td>\n",
        "      <td>...</td>\n",
        "      <td>NaN</td>\n",
        "      <td>NaN</td>\n",
        "      <td>NaN</td>\n",
        "      <td>NaN</td>\n",
        "      <td>NaN</td>\n",
        "      <td>NaN</td>\n",
        "      <td>NaN</td>\n",
        "      <td>NaN</td>\n",
        "      <td>NaN</td>\n",
        "      <td>NaN</td>\n",
        "    </tr>\n",
        "    <tr>\n",
        "      <th>5    </th>\n",
        "      <td> #10366</td>\n",
        "      <td>     nabouheif@yahoo.com</td>\n",
        "      <td>     NaN</td>\n",
        "      <td>                       NaN</td>\n",
        "      <td>         NaN</td>\n",
        "      <td>                       NaN</td>\n",
        "      <td> NaN</td>\n",
        "      <td> NaN</td>\n",
        "      <td>    NaN</td>\n",
        "      <td>NaN</td>\n",
        "      <td>...</td>\n",
        "      <td>NaN</td>\n",
        "      <td>NaN</td>\n",
        "      <td>NaN</td>\n",
        "      <td>NaN</td>\n",
        "      <td>NaN</td>\n",
        "      <td>NaN</td>\n",
        "      <td>NaN</td>\n",
        "      <td>NaN</td>\n",
        "      <td>NaN</td>\n",
        "      <td>NaN</td>\n",
        "    </tr>\n",
        "    <tr>\n",
        "      <th>6    </th>\n",
        "      <td> #10365</td>\n",
        "      <td>  fracicardi@hotmail.com</td>\n",
        "      <td> pending</td>\n",
        "      <td>                       NaN</td>\n",
        "      <td> unfulfilled</td>\n",
        "      <td>                       NaN</td>\n",
        "      <td>  no</td>\n",
        "      <td> EGP</td>\n",
        "      <td> 129.00</td>\n",
        "      <td> 15</td>\n",
        "      <td>...</td>\n",
        "      <td>NaN</td>\n",
        "      <td>NaN</td>\n",
        "      <td>NaN</td>\n",
        "      <td>NaN</td>\n",
        "      <td>NaN</td>\n",
        "      <td>NaN</td>\n",
        "      <td>NaN</td>\n",
        "      <td>NaN</td>\n",
        "      <td>NaN</td>\n",
        "      <td>NaN</td>\n",
        "    </tr>\n",
        "    <tr>\n",
        "      <th>7    </th>\n",
        "      <td> #10365</td>\n",
        "      <td>  fracicardi@hotmail.com</td>\n",
        "      <td>     NaN</td>\n",
        "      <td>                       NaN</td>\n",
        "      <td>         NaN</td>\n",
        "      <td>                       NaN</td>\n",
        "      <td> NaN</td>\n",
        "      <td> NaN</td>\n",
        "      <td>    NaN</td>\n",
        "      <td>NaN</td>\n",
        "      <td>...</td>\n",
        "      <td>NaN</td>\n",
        "      <td>NaN</td>\n",
        "      <td>NaN</td>\n",
        "      <td>NaN</td>\n",
        "      <td>NaN</td>\n",
        "      <td>NaN</td>\n",
        "      <td>NaN</td>\n",
        "      <td>NaN</td>\n",
        "      <td>NaN</td>\n",
        "      <td>NaN</td>\n",
        "    </tr>\n",
        "    <tr>\n",
        "      <th>8    </th>\n",
        "      <td> #10365</td>\n",
        "      <td>  fracicardi@hotmail.com</td>\n",
        "      <td>     NaN</td>\n",
        "      <td>                       NaN</td>\n",
        "      <td>         NaN</td>\n",
        "      <td>                       NaN</td>\n",
        "      <td> NaN</td>\n",
        "      <td> NaN</td>\n",
        "      <td>    NaN</td>\n",
        "      <td>NaN</td>\n",
        "      <td>...</td>\n",
        "      <td>NaN</td>\n",
        "      <td>NaN</td>\n",
        "      <td>NaN</td>\n",
        "      <td>NaN</td>\n",
        "      <td>NaN</td>\n",
        "      <td>NaN</td>\n",
        "      <td>NaN</td>\n",
        "      <td>NaN</td>\n",
        "      <td>NaN</td>\n",
        "      <td>NaN</td>\n",
        "    </tr>\n",
        "    <tr>\n",
        "      <th>9    </th>\n",
        "      <td> #10365</td>\n",
        "      <td>  fracicardi@hotmail.com</td>\n",
        "      <td>     NaN</td>\n",
        "      <td>                       NaN</td>\n",
        "      <td>         NaN</td>\n",
        "      <td>                       NaN</td>\n",
        "      <td> NaN</td>\n",
        "      <td> NaN</td>\n",
        "      <td>    NaN</td>\n",
        "      <td>NaN</td>\n",
        "      <td>...</td>\n",
        "      <td>NaN</td>\n",
        "      <td>NaN</td>\n",
        "      <td>NaN</td>\n",
        "      <td>NaN</td>\n",
        "      <td>NaN</td>\n",
        "      <td>NaN</td>\n",
        "      <td>NaN</td>\n",
        "      <td>NaN</td>\n",
        "      <td>NaN</td>\n",
        "      <td>NaN</td>\n",
        "    </tr>\n",
        "    <tr>\n",
        "      <th>10   </th>\n",
        "      <td> #10365</td>\n",
        "      <td>  fracicardi@hotmail.com</td>\n",
        "      <td>     NaN</td>\n",
        "      <td>                       NaN</td>\n",
        "      <td>         NaN</td>\n",
        "      <td>                       NaN</td>\n",
        "      <td> NaN</td>\n",
        "      <td> NaN</td>\n",
        "      <td>    NaN</td>\n",
        "      <td>NaN</td>\n",
        "      <td>...</td>\n",
        "      <td>NaN</td>\n",
        "      <td>NaN</td>\n",
        "      <td>NaN</td>\n",
        "      <td>NaN</td>\n",
        "      <td>NaN</td>\n",
        "      <td>NaN</td>\n",
        "      <td>NaN</td>\n",
        "      <td>NaN</td>\n",
        "      <td>NaN</td>\n",
        "      <td>NaN</td>\n",
        "    </tr>\n",
        "    <tr>\n",
        "      <th>11   </th>\n",
        "      <td> #10365</td>\n",
        "      <td>  fracicardi@hotmail.com</td>\n",
        "      <td>     NaN</td>\n",
        "      <td>                       NaN</td>\n",
        "      <td>         NaN</td>\n",
        "      <td>                       NaN</td>\n",
        "      <td> NaN</td>\n",
        "      <td> NaN</td>\n",
        "      <td>    NaN</td>\n",
        "      <td>NaN</td>\n",
        "      <td>...</td>\n",
        "      <td>NaN</td>\n",
        "      <td>NaN</td>\n",
        "      <td>NaN</td>\n",
        "      <td>NaN</td>\n",
        "      <td>NaN</td>\n",
        "      <td>NaN</td>\n",
        "      <td>NaN</td>\n",
        "      <td>NaN</td>\n",
        "      <td>NaN</td>\n",
        "      <td>NaN</td>\n",
        "    </tr>\n",
        "    <tr>\n",
        "      <th>12   </th>\n",
        "      <td> #10364</td>\n",
        "      <td>  ahmed.fakhry@gmail.com</td>\n",
        "      <td> pending</td>\n",
        "      <td>                       NaN</td>\n",
        "      <td> unfulfilled</td>\n",
        "      <td>                       NaN</td>\n",
        "      <td>  no</td>\n",
        "      <td> EGP</td>\n",
        "      <td> 660.10</td>\n",
        "      <td> 10</td>\n",
        "      <td>...</td>\n",
        "      <td>NaN</td>\n",
        "      <td>NaN</td>\n",
        "      <td>NaN</td>\n",
        "      <td>NaN</td>\n",
        "      <td>NaN</td>\n",
        "      <td>NaN</td>\n",
        "      <td>NaN</td>\n",
        "      <td>NaN</td>\n",
        "      <td>NaN</td>\n",
        "      <td>NaN</td>\n",
        "    </tr>\n",
        "    <tr>\n",
        "      <th>13   </th>\n",
        "      <td> #10364</td>\n",
        "      <td>  ahmed.fakhry@gmail.com</td>\n",
        "      <td>     NaN</td>\n",
        "      <td>                       NaN</td>\n",
        "      <td>         NaN</td>\n",
        "      <td>                       NaN</td>\n",
        "      <td> NaN</td>\n",
        "      <td> NaN</td>\n",
        "      <td>    NaN</td>\n",
        "      <td>NaN</td>\n",
        "      <td>...</td>\n",
        "      <td>NaN</td>\n",
        "      <td>NaN</td>\n",
        "      <td>NaN</td>\n",
        "      <td>NaN</td>\n",
        "      <td>NaN</td>\n",
        "      <td>NaN</td>\n",
        "      <td>NaN</td>\n",
        "      <td>NaN</td>\n",
        "      <td>NaN</td>\n",
        "      <td>NaN</td>\n",
        "    </tr>\n",
        "    <tr>\n",
        "      <th>14   </th>\n",
        "      <td> #10364</td>\n",
        "      <td>  ahmed.fakhry@gmail.com</td>\n",
        "      <td>     NaN</td>\n",
        "      <td>                       NaN</td>\n",
        "      <td>         NaN</td>\n",
        "      <td>                       NaN</td>\n",
        "      <td> NaN</td>\n",
        "      <td> NaN</td>\n",
        "      <td>    NaN</td>\n",
        "      <td>NaN</td>\n",
        "      <td>...</td>\n",
        "      <td>NaN</td>\n",
        "      <td>NaN</td>\n",
        "      <td>NaN</td>\n",
        "      <td>NaN</td>\n",
        "      <td>NaN</td>\n",
        "      <td>NaN</td>\n",
        "      <td>NaN</td>\n",
        "      <td>NaN</td>\n",
        "      <td>NaN</td>\n",
        "      <td>NaN</td>\n",
        "    </tr>\n",
        "    <tr>\n",
        "      <th>15   </th>\n",
        "      <td> #10364</td>\n",
        "      <td>  ahmed.fakhry@gmail.com</td>\n",
        "      <td>     NaN</td>\n",
        "      <td>                       NaN</td>\n",
        "      <td>         NaN</td>\n",
        "      <td>                       NaN</td>\n",
        "      <td> NaN</td>\n",
        "      <td> NaN</td>\n",
        "      <td>    NaN</td>\n",
        "      <td>NaN</td>\n",
        "      <td>...</td>\n",
        "      <td>NaN</td>\n",
        "      <td>NaN</td>\n",
        "      <td>NaN</td>\n",
        "      <td>NaN</td>\n",
        "      <td>NaN</td>\n",
        "      <td>NaN</td>\n",
        "      <td>NaN</td>\n",
        "      <td>NaN</td>\n",
        "      <td>NaN</td>\n",
        "      <td>NaN</td>\n",
        "    </tr>\n",
        "    <tr>\n",
        "      <th>16   </th>\n",
        "      <td> #10364</td>\n",
        "      <td>  ahmed.fakhry@gmail.com</td>\n",
        "      <td>     NaN</td>\n",
        "      <td>                       NaN</td>\n",
        "      <td>         NaN</td>\n",
        "      <td>                       NaN</td>\n",
        "      <td> NaN</td>\n",
        "      <td> NaN</td>\n",
        "      <td>    NaN</td>\n",
        "      <td>NaN</td>\n",
        "      <td>...</td>\n",
        "      <td>NaN</td>\n",
        "      <td>NaN</td>\n",
        "      <td>NaN</td>\n",
        "      <td>NaN</td>\n",
        "      <td>NaN</td>\n",
        "      <td>NaN</td>\n",
        "      <td>NaN</td>\n",
        "      <td>NaN</td>\n",
        "      <td>NaN</td>\n",
        "      <td>NaN</td>\n",
        "    </tr>\n",
        "    <tr>\n",
        "      <th>17   </th>\n",
        "      <td> #10364</td>\n",
        "      <td>  ahmed.fakhry@gmail.com</td>\n",
        "      <td>     NaN</td>\n",
        "      <td>                       NaN</td>\n",
        "      <td>         NaN</td>\n",
        "      <td>                       NaN</td>\n",
        "      <td> NaN</td>\n",
        "      <td> NaN</td>\n",
        "      <td>    NaN</td>\n",
        "      <td>NaN</td>\n",
        "      <td>...</td>\n",
        "      <td>NaN</td>\n",
        "      <td>NaN</td>\n",
        "      <td>NaN</td>\n",
        "      <td>NaN</td>\n",
        "      <td>NaN</td>\n",
        "      <td>NaN</td>\n",
        "      <td>NaN</td>\n",
        "      <td>NaN</td>\n",
        "      <td>NaN</td>\n",
        "      <td>NaN</td>\n",
        "    </tr>\n",
        "    <tr>\n",
        "      <th>18   </th>\n",
        "      <td> #10364</td>\n",
        "      <td>  ahmed.fakhry@gmail.com</td>\n",
        "      <td>     NaN</td>\n",
        "      <td>                       NaN</td>\n",
        "      <td>         NaN</td>\n",
        "      <td>                       NaN</td>\n",
        "      <td> NaN</td>\n",
        "      <td> NaN</td>\n",
        "      <td>    NaN</td>\n",
        "      <td>NaN</td>\n",
        "      <td>...</td>\n",
        "      <td>NaN</td>\n",
        "      <td>NaN</td>\n",
        "      <td>NaN</td>\n",
        "      <td>NaN</td>\n",
        "      <td>NaN</td>\n",
        "      <td>NaN</td>\n",
        "      <td>NaN</td>\n",
        "      <td>NaN</td>\n",
        "      <td>NaN</td>\n",
        "      <td>NaN</td>\n",
        "    </tr>\n",
        "    <tr>\n",
        "      <th>19   </th>\n",
        "      <td> #10364</td>\n",
        "      <td>  ahmed.fakhry@gmail.com</td>\n",
        "      <td>     NaN</td>\n",
        "      <td>                       NaN</td>\n",
        "      <td>         NaN</td>\n",
        "      <td>                       NaN</td>\n",
        "      <td> NaN</td>\n",
        "      <td> NaN</td>\n",
        "      <td>    NaN</td>\n",
        "      <td>NaN</td>\n",
        "      <td>...</td>\n",
        "      <td>NaN</td>\n",
        "      <td>NaN</td>\n",
        "      <td>NaN</td>\n",
        "      <td>NaN</td>\n",
        "      <td>NaN</td>\n",
        "      <td>NaN</td>\n",
        "      <td>NaN</td>\n",
        "      <td>NaN</td>\n",
        "      <td>NaN</td>\n",
        "      <td>NaN</td>\n",
        "    </tr>\n",
        "    <tr>\n",
        "      <th>20   </th>\n",
        "      <td> #10364</td>\n",
        "      <td>  ahmed.fakhry@gmail.com</td>\n",
        "      <td>     NaN</td>\n",
        "      <td>                       NaN</td>\n",
        "      <td>         NaN</td>\n",
        "      <td>                       NaN</td>\n",
        "      <td> NaN</td>\n",
        "      <td> NaN</td>\n",
        "      <td>    NaN</td>\n",
        "      <td>NaN</td>\n",
        "      <td>...</td>\n",
        "      <td>NaN</td>\n",
        "      <td>NaN</td>\n",
        "      <td>NaN</td>\n",
        "      <td>NaN</td>\n",
        "      <td>NaN</td>\n",
        "      <td>NaN</td>\n",
        "      <td>NaN</td>\n",
        "      <td>NaN</td>\n",
        "      <td>NaN</td>\n",
        "      <td>NaN</td>\n",
        "    </tr>\n",
        "    <tr>\n",
        "      <th>21   </th>\n",
        "      <td> #10363</td>\n",
        "      <td>  ahmed.fakhry@gmail.com</td>\n",
        "      <td> pending</td>\n",
        "      <td>                       NaN</td>\n",
        "      <td> unfulfilled</td>\n",
        "      <td>                       NaN</td>\n",
        "      <td>  no</td>\n",
        "      <td> EGP</td>\n",
        "      <td> 592.00</td>\n",
        "      <td> 10</td>\n",
        "      <td>...</td>\n",
        "      <td>NaN</td>\n",
        "      <td>NaN</td>\n",
        "      <td>NaN</td>\n",
        "      <td>NaN</td>\n",
        "      <td>NaN</td>\n",
        "      <td>NaN</td>\n",
        "      <td>NaN</td>\n",
        "      <td>NaN</td>\n",
        "      <td>NaN</td>\n",
        "      <td>NaN</td>\n",
        "    </tr>\n",
        "    <tr>\n",
        "      <th>22   </th>\n",
        "      <td> #10362</td>\n",
        "      <td>    Missilou11@yahoo.com</td>\n",
        "      <td> pending</td>\n",
        "      <td>                       NaN</td>\n",
        "      <td> unfulfilled</td>\n",
        "      <td>                       NaN</td>\n",
        "      <td>  no</td>\n",
        "      <td> EGP</td>\n",
        "      <td>  70.20</td>\n",
        "      <td> 15</td>\n",
        "      <td>...</td>\n",
        "      <td>NaN</td>\n",
        "      <td>NaN</td>\n",
        "      <td>NaN</td>\n",
        "      <td>NaN</td>\n",
        "      <td>NaN</td>\n",
        "      <td>NaN</td>\n",
        "      <td>NaN</td>\n",
        "      <td>NaN</td>\n",
        "      <td>NaN</td>\n",
        "      <td>NaN</td>\n",
        "    </tr>\n",
        "    <tr>\n",
        "      <th>23   </th>\n",
        "      <td> #10361</td>\n",
        "      <td> sallysalem123@gmail.com</td>\n",
        "      <td> pending</td>\n",
        "      <td>                       NaN</td>\n",
        "      <td> unfulfilled</td>\n",
        "      <td>                       NaN</td>\n",
        "      <td>  no</td>\n",
        "      <td> EGP</td>\n",
        "      <td> 432.00</td>\n",
        "      <td> 10</td>\n",
        "      <td>...</td>\n",
        "      <td>NaN</td>\n",
        "      <td>NaN</td>\n",
        "      <td>NaN</td>\n",
        "      <td>NaN</td>\n",
        "      <td>NaN</td>\n",
        "      <td>NaN</td>\n",
        "      <td>NaN</td>\n",
        "      <td>NaN</td>\n",
        "      <td>NaN</td>\n",
        "      <td>NaN</td>\n",
        "    </tr>\n",
        "    <tr>\n",
        "      <th>24   </th>\n",
        "      <td> #10361</td>\n",
        "      <td> sallysalem123@gmail.com</td>\n",
        "      <td>     NaN</td>\n",
        "      <td>                       NaN</td>\n",
        "      <td>         NaN</td>\n",
        "      <td>                       NaN</td>\n",
        "      <td> NaN</td>\n",
        "      <td> NaN</td>\n",
        "      <td>    NaN</td>\n",
        "      <td>NaN</td>\n",
        "      <td>...</td>\n",
        "      <td>NaN</td>\n",
        "      <td>NaN</td>\n",
        "      <td>NaN</td>\n",
        "      <td>NaN</td>\n",
        "      <td>NaN</td>\n",
        "      <td>NaN</td>\n",
        "      <td>NaN</td>\n",
        "      <td>NaN</td>\n",
        "      <td>NaN</td>\n",
        "      <td>NaN</td>\n",
        "    </tr>\n",
        "    <tr>\n",
        "      <th>25   </th>\n",
        "      <td> #10361</td>\n",
        "      <td> sallysalem123@gmail.com</td>\n",
        "      <td>     NaN</td>\n",
        "      <td>                       NaN</td>\n",
        "      <td>         NaN</td>\n",
        "      <td>                       NaN</td>\n",
        "      <td> NaN</td>\n",
        "      <td> NaN</td>\n",
        "      <td>    NaN</td>\n",
        "      <td>NaN</td>\n",
        "      <td>...</td>\n",
        "      <td>NaN</td>\n",
        "      <td>NaN</td>\n",
        "      <td>NaN</td>\n",
        "      <td>NaN</td>\n",
        "      <td>NaN</td>\n",
        "      <td>NaN</td>\n",
        "      <td>NaN</td>\n",
        "      <td>NaN</td>\n",
        "      <td>NaN</td>\n",
        "      <td>NaN</td>\n",
        "    </tr>\n",
        "    <tr>\n",
        "      <th>26   </th>\n",
        "      <td> #10361</td>\n",
        "      <td> sallysalem123@gmail.com</td>\n",
        "      <td>     NaN</td>\n",
        "      <td>                       NaN</td>\n",
        "      <td>         NaN</td>\n",
        "      <td>                       NaN</td>\n",
        "      <td> NaN</td>\n",
        "      <td> NaN</td>\n",
        "      <td>    NaN</td>\n",
        "      <td>NaN</td>\n",
        "      <td>...</td>\n",
        "      <td>NaN</td>\n",
        "      <td>NaN</td>\n",
        "      <td>NaN</td>\n",
        "      <td>NaN</td>\n",
        "      <td>NaN</td>\n",
        "      <td>NaN</td>\n",
        "      <td>NaN</td>\n",
        "      <td>NaN</td>\n",
        "      <td>NaN</td>\n",
        "      <td>NaN</td>\n",
        "    </tr>\n",
        "    <tr>\n",
        "      <th>27   </th>\n",
        "      <td> #10361</td>\n",
        "      <td> sallysalem123@gmail.com</td>\n",
        "      <td>     NaN</td>\n",
        "      <td>                       NaN</td>\n",
        "      <td>         NaN</td>\n",
        "      <td>                       NaN</td>\n",
        "      <td> NaN</td>\n",
        "      <td> NaN</td>\n",
        "      <td>    NaN</td>\n",
        "      <td>NaN</td>\n",
        "      <td>...</td>\n",
        "      <td>NaN</td>\n",
        "      <td>NaN</td>\n",
        "      <td>NaN</td>\n",
        "      <td>NaN</td>\n",
        "      <td>NaN</td>\n",
        "      <td>NaN</td>\n",
        "      <td>NaN</td>\n",
        "      <td>NaN</td>\n",
        "      <td>NaN</td>\n",
        "      <td>NaN</td>\n",
        "    </tr>\n",
        "    <tr>\n",
        "      <th>28   </th>\n",
        "      <td> #10361</td>\n",
        "      <td> sallysalem123@gmail.com</td>\n",
        "      <td>     NaN</td>\n",
        "      <td>                       NaN</td>\n",
        "      <td>         NaN</td>\n",
        "      <td>                       NaN</td>\n",
        "      <td> NaN</td>\n",
        "      <td> NaN</td>\n",
        "      <td>    NaN</td>\n",
        "      <td>NaN</td>\n",
        "      <td>...</td>\n",
        "      <td>NaN</td>\n",
        "      <td>NaN</td>\n",
        "      <td>NaN</td>\n",
        "      <td>NaN</td>\n",
        "      <td>NaN</td>\n",
        "      <td>NaN</td>\n",
        "      <td>NaN</td>\n",
        "      <td>NaN</td>\n",
        "      <td>NaN</td>\n",
        "      <td>NaN</td>\n",
        "    </tr>\n",
        "    <tr>\n",
        "      <th>29   </th>\n",
        "      <td> #10361</td>\n",
        "      <td> sallysalem123@gmail.com</td>\n",
        "      <td>     NaN</td>\n",
        "      <td>                       NaN</td>\n",
        "      <td>         NaN</td>\n",
        "      <td>                       NaN</td>\n",
        "      <td> NaN</td>\n",
        "      <td> NaN</td>\n",
        "      <td>    NaN</td>\n",
        "      <td>NaN</td>\n",
        "      <td>...</td>\n",
        "      <td>NaN</td>\n",
        "      <td>NaN</td>\n",
        "      <td>NaN</td>\n",
        "      <td>NaN</td>\n",
        "      <td>NaN</td>\n",
        "      <td>NaN</td>\n",
        "      <td>NaN</td>\n",
        "      <td>NaN</td>\n",
        "      <td>NaN</td>\n",
        "      <td>NaN</td>\n",
        "    </tr>\n",
        "    <tr>\n",
        "      <th>...</th>\n",
        "      <td>...</td>\n",
        "      <td>...</td>\n",
        "      <td>...</td>\n",
        "      <td>...</td>\n",
        "      <td>...</td>\n",
        "      <td>...</td>\n",
        "      <td>...</td>\n",
        "      <td>...</td>\n",
        "      <td>...</td>\n",
        "      <td>...</td>\n",
        "      <td>...</td>\n",
        "      <td>...</td>\n",
        "      <td>...</td>\n",
        "      <td>...</td>\n",
        "      <td>...</td>\n",
        "      <td>...</td>\n",
        "      <td>...</td>\n",
        "      <td>...</td>\n",
        "      <td>...</td>\n",
        "      <td>...</td>\n",
        "      <td>...</td>\n",
        "    </tr>\n",
        "    <tr>\n",
        "      <th>60742</th>\n",
        "      <td>  #1013</td>\n",
        "      <td>  lik-novikova@yandex.ru</td>\n",
        "      <td>     NaN</td>\n",
        "      <td>                       NaN</td>\n",
        "      <td>         NaN</td>\n",
        "      <td>                       NaN</td>\n",
        "      <td> NaN</td>\n",
        "      <td> NaN</td>\n",
        "      <td>    NaN</td>\n",
        "      <td>NaN</td>\n",
        "      <td>...</td>\n",
        "      <td>NaN</td>\n",
        "      <td>NaN</td>\n",
        "      <td>NaN</td>\n",
        "      <td>NaN</td>\n",
        "      <td>NaN</td>\n",
        "      <td>NaN</td>\n",
        "      <td>NaN</td>\n",
        "      <td>NaN</td>\n",
        "      <td>NaN</td>\n",
        "      <td>NaN</td>\n",
        "    </tr>\n",
        "    <tr>\n",
        "      <th>60743</th>\n",
        "      <td>  #1012</td>\n",
        "      <td>     bettyhedrich@gmx.de</td>\n",
        "      <td>    paid</td>\n",
        "      <td> 2012-05-27 13:15:42 +0200</td>\n",
        "      <td>   fulfilled</td>\n",
        "      <td> 2012-05-27 13:15:14 +0200</td>\n",
        "      <td>  no</td>\n",
        "      <td> EGP</td>\n",
        "      <td>  41.93</td>\n",
        "      <td>  5</td>\n",
        "      <td>...</td>\n",
        "      <td>NaN</td>\n",
        "      <td>NaN</td>\n",
        "      <td>NaN</td>\n",
        "      <td>NaN</td>\n",
        "      <td>NaN</td>\n",
        "      <td>NaN</td>\n",
        "      <td>NaN</td>\n",
        "      <td>NaN</td>\n",
        "      <td>NaN</td>\n",
        "      <td>NaN</td>\n",
        "    </tr>\n",
        "    <tr>\n",
        "      <th>60744</th>\n",
        "      <td>  #1012</td>\n",
        "      <td>     bettyhedrich@gmx.de</td>\n",
        "      <td>     NaN</td>\n",
        "      <td>                       NaN</td>\n",
        "      <td>         NaN</td>\n",
        "      <td>                       NaN</td>\n",
        "      <td> NaN</td>\n",
        "      <td> NaN</td>\n",
        "      <td>    NaN</td>\n",
        "      <td>NaN</td>\n",
        "      <td>...</td>\n",
        "      <td>NaN</td>\n",
        "      <td>NaN</td>\n",
        "      <td>NaN</td>\n",
        "      <td>NaN</td>\n",
        "      <td>NaN</td>\n",
        "      <td>NaN</td>\n",
        "      <td>NaN</td>\n",
        "      <td>NaN</td>\n",
        "      <td>NaN</td>\n",
        "      <td>NaN</td>\n",
        "    </tr>\n",
        "    <tr>\n",
        "      <th>60745</th>\n",
        "      <td>  #1011</td>\n",
        "      <td>           rulah@msn.com</td>\n",
        "      <td>    paid</td>\n",
        "      <td> 2012-05-21 18:33:13 +0200</td>\n",
        "      <td>   fulfilled</td>\n",
        "      <td> 2012-05-21 18:33:43 +0200</td>\n",
        "      <td> yes</td>\n",
        "      <td> EGP</td>\n",
        "      <td> 222.30</td>\n",
        "      <td>  5</td>\n",
        "      <td>...</td>\n",
        "      <td>NaN</td>\n",
        "      <td>NaN</td>\n",
        "      <td>NaN</td>\n",
        "      <td>NaN</td>\n",
        "      <td>NaN</td>\n",
        "      <td>NaN</td>\n",
        "      <td>NaN</td>\n",
        "      <td>NaN</td>\n",
        "      <td>NaN</td>\n",
        "      <td>NaN</td>\n",
        "    </tr>\n",
        "    <tr>\n",
        "      <th>60746</th>\n",
        "      <td>  #1010</td>\n",
        "      <td>     milda_b@hotmail.com</td>\n",
        "      <td>    paid</td>\n",
        "      <td> 2012-05-09 11:09:12 +0200</td>\n",
        "      <td>   fulfilled</td>\n",
        "      <td> 2012-05-09 11:09:06 +0200</td>\n",
        "      <td> yes</td>\n",
        "      <td> EGP</td>\n",
        "      <td> 155.55</td>\n",
        "      <td>  5</td>\n",
        "      <td>...</td>\n",
        "      <td>NaN</td>\n",
        "      <td>NaN</td>\n",
        "      <td>NaN</td>\n",
        "      <td>NaN</td>\n",
        "      <td>NaN</td>\n",
        "      <td>NaN</td>\n",
        "      <td>NaN</td>\n",
        "      <td>NaN</td>\n",
        "      <td>NaN</td>\n",
        "      <td>NaN</td>\n",
        "    </tr>\n",
        "    <tr>\n",
        "      <th>60747</th>\n",
        "      <td>  #1010</td>\n",
        "      <td>     milda_b@hotmail.com</td>\n",
        "      <td>     NaN</td>\n",
        "      <td>                       NaN</td>\n",
        "      <td>         NaN</td>\n",
        "      <td>                       NaN</td>\n",
        "      <td> NaN</td>\n",
        "      <td> NaN</td>\n",
        "      <td>    NaN</td>\n",
        "      <td>NaN</td>\n",
        "      <td>...</td>\n",
        "      <td>NaN</td>\n",
        "      <td>NaN</td>\n",
        "      <td>NaN</td>\n",
        "      <td>NaN</td>\n",
        "      <td>NaN</td>\n",
        "      <td>NaN</td>\n",
        "      <td>NaN</td>\n",
        "      <td>NaN</td>\n",
        "      <td>NaN</td>\n",
        "      <td>NaN</td>\n",
        "    </tr>\n",
        "    <tr>\n",
        "      <th>60748</th>\n",
        "      <td>  #1010</td>\n",
        "      <td>     milda_b@hotmail.com</td>\n",
        "      <td>     NaN</td>\n",
        "      <td>                       NaN</td>\n",
        "      <td>         NaN</td>\n",
        "      <td>                       NaN</td>\n",
        "      <td> NaN</td>\n",
        "      <td> NaN</td>\n",
        "      <td>    NaN</td>\n",
        "      <td>NaN</td>\n",
        "      <td>...</td>\n",
        "      <td>NaN</td>\n",
        "      <td>NaN</td>\n",
        "      <td>NaN</td>\n",
        "      <td>NaN</td>\n",
        "      <td>NaN</td>\n",
        "      <td>NaN</td>\n",
        "      <td>NaN</td>\n",
        "      <td>NaN</td>\n",
        "      <td>NaN</td>\n",
        "      <td>NaN</td>\n",
        "    </tr>\n",
        "    <tr>\n",
        "      <th>60749</th>\n",
        "      <td>  #1010</td>\n",
        "      <td>     milda_b@hotmail.com</td>\n",
        "      <td>     NaN</td>\n",
        "      <td>                       NaN</td>\n",
        "      <td>         NaN</td>\n",
        "      <td>                       NaN</td>\n",
        "      <td> NaN</td>\n",
        "      <td> NaN</td>\n",
        "      <td>    NaN</td>\n",
        "      <td>NaN</td>\n",
        "      <td>...</td>\n",
        "      <td>NaN</td>\n",
        "      <td>NaN</td>\n",
        "      <td>NaN</td>\n",
        "      <td>NaN</td>\n",
        "      <td>NaN</td>\n",
        "      <td>NaN</td>\n",
        "      <td>NaN</td>\n",
        "      <td>NaN</td>\n",
        "      <td>NaN</td>\n",
        "      <td>NaN</td>\n",
        "    </tr>\n",
        "    <tr>\n",
        "      <th>60750</th>\n",
        "      <td>  #1010</td>\n",
        "      <td>     milda_b@hotmail.com</td>\n",
        "      <td>     NaN</td>\n",
        "      <td>                       NaN</td>\n",
        "      <td>         NaN</td>\n",
        "      <td>                       NaN</td>\n",
        "      <td> NaN</td>\n",
        "      <td> NaN</td>\n",
        "      <td>    NaN</td>\n",
        "      <td>NaN</td>\n",
        "      <td>...</td>\n",
        "      <td>NaN</td>\n",
        "      <td>NaN</td>\n",
        "      <td>NaN</td>\n",
        "      <td>NaN</td>\n",
        "      <td>NaN</td>\n",
        "      <td>NaN</td>\n",
        "      <td>NaN</td>\n",
        "      <td>NaN</td>\n",
        "      <td>NaN</td>\n",
        "      <td>NaN</td>\n",
        "    </tr>\n",
        "    <tr>\n",
        "      <th>60751</th>\n",
        "      <td>  #1010</td>\n",
        "      <td>     milda_b@hotmail.com</td>\n",
        "      <td>     NaN</td>\n",
        "      <td>                       NaN</td>\n",
        "      <td>         NaN</td>\n",
        "      <td>                       NaN</td>\n",
        "      <td> NaN</td>\n",
        "      <td> NaN</td>\n",
        "      <td>    NaN</td>\n",
        "      <td>NaN</td>\n",
        "      <td>...</td>\n",
        "      <td>NaN</td>\n",
        "      <td>NaN</td>\n",
        "      <td>NaN</td>\n",
        "      <td>NaN</td>\n",
        "      <td>NaN</td>\n",
        "      <td>NaN</td>\n",
        "      <td>NaN</td>\n",
        "      <td>NaN</td>\n",
        "      <td>NaN</td>\n",
        "      <td>NaN</td>\n",
        "    </tr>\n",
        "    <tr>\n",
        "      <th>60752</th>\n",
        "      <td>  #1010</td>\n",
        "      <td>     milda_b@hotmail.com</td>\n",
        "      <td>     NaN</td>\n",
        "      <td>                       NaN</td>\n",
        "      <td>         NaN</td>\n",
        "      <td>                       NaN</td>\n",
        "      <td> NaN</td>\n",
        "      <td> NaN</td>\n",
        "      <td>    NaN</td>\n",
        "      <td>NaN</td>\n",
        "      <td>...</td>\n",
        "      <td>NaN</td>\n",
        "      <td>NaN</td>\n",
        "      <td>NaN</td>\n",
        "      <td>NaN</td>\n",
        "      <td>NaN</td>\n",
        "      <td>NaN</td>\n",
        "      <td>NaN</td>\n",
        "      <td>NaN</td>\n",
        "      <td>NaN</td>\n",
        "      <td>NaN</td>\n",
        "    </tr>\n",
        "    <tr>\n",
        "      <th>60753</th>\n",
        "      <td>  #1009</td>\n",
        "      <td>     bente.ring@yahoo.no</td>\n",
        "      <td>    paid</td>\n",
        "      <td> 2012-05-10 19:12:35 +0200</td>\n",
        "      <td>   fulfilled</td>\n",
        "      <td> 2012-05-10 19:12:32 +0200</td>\n",
        "      <td> yes</td>\n",
        "      <td> EGP</td>\n",
        "      <td>  45.50</td>\n",
        "      <td>  5</td>\n",
        "      <td>...</td>\n",
        "      <td>NaN</td>\n",
        "      <td>NaN</td>\n",
        "      <td>NaN</td>\n",
        "      <td>NaN</td>\n",
        "      <td>NaN</td>\n",
        "      <td>NaN</td>\n",
        "      <td>NaN</td>\n",
        "      <td>NaN</td>\n",
        "      <td>NaN</td>\n",
        "      <td>NaN</td>\n",
        "    </tr>\n",
        "    <tr>\n",
        "      <th>60754</th>\n",
        "      <td>  #1008</td>\n",
        "      <td>     bente.ring@yahoo.no</td>\n",
        "      <td>    paid</td>\n",
        "      <td> 2012-05-10 19:13:35 +0200</td>\n",
        "      <td>   fulfilled</td>\n",
        "      <td> 2012-05-10 19:13:32 +0200</td>\n",
        "      <td> yes</td>\n",
        "      <td> EGP</td>\n",
        "      <td> 357.53</td>\n",
        "      <td>  5</td>\n",
        "      <td>...</td>\n",
        "      <td>NaN</td>\n",
        "      <td>NaN</td>\n",
        "      <td>NaN</td>\n",
        "      <td>NaN</td>\n",
        "      <td>NaN</td>\n",
        "      <td>NaN</td>\n",
        "      <td>NaN</td>\n",
        "      <td>NaN</td>\n",
        "      <td>NaN</td>\n",
        "      <td>NaN</td>\n",
        "    </tr>\n",
        "    <tr>\n",
        "      <th>60755</th>\n",
        "      <td>  #1008</td>\n",
        "      <td>     bente.ring@yahoo.no</td>\n",
        "      <td>     NaN</td>\n",
        "      <td>                       NaN</td>\n",
        "      <td>         NaN</td>\n",
        "      <td>                       NaN</td>\n",
        "      <td> NaN</td>\n",
        "      <td> NaN</td>\n",
        "      <td>    NaN</td>\n",
        "      <td>NaN</td>\n",
        "      <td>...</td>\n",
        "      <td>NaN</td>\n",
        "      <td>NaN</td>\n",
        "      <td>NaN</td>\n",
        "      <td>NaN</td>\n",
        "      <td>NaN</td>\n",
        "      <td>NaN</td>\n",
        "      <td>NaN</td>\n",
        "      <td>NaN</td>\n",
        "      <td>NaN</td>\n",
        "      <td>NaN</td>\n",
        "    </tr>\n",
        "    <tr>\n",
        "      <th>60756</th>\n",
        "      <td>  #1008</td>\n",
        "      <td>     bente.ring@yahoo.no</td>\n",
        "      <td>     NaN</td>\n",
        "      <td>                       NaN</td>\n",
        "      <td>         NaN</td>\n",
        "      <td>                       NaN</td>\n",
        "      <td> NaN</td>\n",
        "      <td> NaN</td>\n",
        "      <td>    NaN</td>\n",
        "      <td>NaN</td>\n",
        "      <td>...</td>\n",
        "      <td>NaN</td>\n",
        "      <td>NaN</td>\n",
        "      <td>NaN</td>\n",
        "      <td>NaN</td>\n",
        "      <td>NaN</td>\n",
        "      <td>NaN</td>\n",
        "      <td>NaN</td>\n",
        "      <td>NaN</td>\n",
        "      <td>NaN</td>\n",
        "      <td>NaN</td>\n",
        "    </tr>\n",
        "    <tr>\n",
        "      <th>60757</th>\n",
        "      <td>  #1008</td>\n",
        "      <td>     bente.ring@yahoo.no</td>\n",
        "      <td>     NaN</td>\n",
        "      <td>                       NaN</td>\n",
        "      <td>         NaN</td>\n",
        "      <td>                       NaN</td>\n",
        "      <td> NaN</td>\n",
        "      <td> NaN</td>\n",
        "      <td>    NaN</td>\n",
        "      <td>NaN</td>\n",
        "      <td>...</td>\n",
        "      <td>NaN</td>\n",
        "      <td>NaN</td>\n",
        "      <td>NaN</td>\n",
        "      <td>NaN</td>\n",
        "      <td>NaN</td>\n",
        "      <td>NaN</td>\n",
        "      <td>NaN</td>\n",
        "      <td>NaN</td>\n",
        "      <td>NaN</td>\n",
        "      <td>NaN</td>\n",
        "    </tr>\n",
        "    <tr>\n",
        "      <th>60758</th>\n",
        "      <td>  #1008</td>\n",
        "      <td>     bente.ring@yahoo.no</td>\n",
        "      <td>     NaN</td>\n",
        "      <td>                       NaN</td>\n",
        "      <td>         NaN</td>\n",
        "      <td>                       NaN</td>\n",
        "      <td> NaN</td>\n",
        "      <td> NaN</td>\n",
        "      <td>    NaN</td>\n",
        "      <td>NaN</td>\n",
        "      <td>...</td>\n",
        "      <td>NaN</td>\n",
        "      <td>NaN</td>\n",
        "      <td>NaN</td>\n",
        "      <td>NaN</td>\n",
        "      <td>NaN</td>\n",
        "      <td>NaN</td>\n",
        "      <td>NaN</td>\n",
        "      <td>NaN</td>\n",
        "      <td>NaN</td>\n",
        "      <td>NaN</td>\n",
        "    </tr>\n",
        "    <tr>\n",
        "      <th>60759</th>\n",
        "      <td>  #1007</td>\n",
        "      <td>  lik-novikova@yandex.ru</td>\n",
        "      <td>    paid</td>\n",
        "      <td> 2012-05-04 18:36:50 +0200</td>\n",
        "      <td>   fulfilled</td>\n",
        "      <td> 2012-05-04 18:33:47 +0200</td>\n",
        "      <td> yes</td>\n",
        "      <td> EGP</td>\n",
        "      <td> 110.83</td>\n",
        "      <td>  5</td>\n",
        "      <td>...</td>\n",
        "      <td>NaN</td>\n",
        "      <td>NaN</td>\n",
        "      <td>NaN</td>\n",
        "      <td>NaN</td>\n",
        "      <td>NaN</td>\n",
        "      <td>NaN</td>\n",
        "      <td>NaN</td>\n",
        "      <td>NaN</td>\n",
        "      <td>NaN</td>\n",
        "      <td>NaN</td>\n",
        "    </tr>\n",
        "    <tr>\n",
        "      <th>60760</th>\n",
        "      <td>  #1007</td>\n",
        "      <td>  lik-novikova@yandex.ru</td>\n",
        "      <td>     NaN</td>\n",
        "      <td>                       NaN</td>\n",
        "      <td>         NaN</td>\n",
        "      <td>                       NaN</td>\n",
        "      <td> NaN</td>\n",
        "      <td> NaN</td>\n",
        "      <td>    NaN</td>\n",
        "      <td>NaN</td>\n",
        "      <td>...</td>\n",
        "      <td>NaN</td>\n",
        "      <td>NaN</td>\n",
        "      <td>NaN</td>\n",
        "      <td>NaN</td>\n",
        "      <td>NaN</td>\n",
        "      <td>NaN</td>\n",
        "      <td>NaN</td>\n",
        "      <td>NaN</td>\n",
        "      <td>NaN</td>\n",
        "      <td>NaN</td>\n",
        "    </tr>\n",
        "    <tr>\n",
        "      <th>60761</th>\n",
        "      <td>  #1007</td>\n",
        "      <td>  lik-novikova@yandex.ru</td>\n",
        "      <td>     NaN</td>\n",
        "      <td>                       NaN</td>\n",
        "      <td>         NaN</td>\n",
        "      <td>                       NaN</td>\n",
        "      <td> NaN</td>\n",
        "      <td> NaN</td>\n",
        "      <td>    NaN</td>\n",
        "      <td>NaN</td>\n",
        "      <td>...</td>\n",
        "      <td>NaN</td>\n",
        "      <td>NaN</td>\n",
        "      <td>NaN</td>\n",
        "      <td>NaN</td>\n",
        "      <td>NaN</td>\n",
        "      <td>NaN</td>\n",
        "      <td>NaN</td>\n",
        "      <td>NaN</td>\n",
        "      <td>NaN</td>\n",
        "      <td>NaN</td>\n",
        "    </tr>\n",
        "    <tr>\n",
        "      <th>60762</th>\n",
        "      <td>  #1007</td>\n",
        "      <td>  lik-novikova@yandex.ru</td>\n",
        "      <td>     NaN</td>\n",
        "      <td>                       NaN</td>\n",
        "      <td>         NaN</td>\n",
        "      <td>                       NaN</td>\n",
        "      <td> NaN</td>\n",
        "      <td> NaN</td>\n",
        "      <td>    NaN</td>\n",
        "      <td>NaN</td>\n",
        "      <td>...</td>\n",
        "      <td>NaN</td>\n",
        "      <td>NaN</td>\n",
        "      <td>NaN</td>\n",
        "      <td>NaN</td>\n",
        "      <td>NaN</td>\n",
        "      <td>NaN</td>\n",
        "      <td>NaN</td>\n",
        "      <td>NaN</td>\n",
        "      <td>NaN</td>\n",
        "      <td>NaN</td>\n",
        "    </tr>\n",
        "    <tr>\n",
        "      <th>60763</th>\n",
        "      <td>  #1006</td>\n",
        "      <td>     bente.ring@yahoo.no</td>\n",
        "      <td>    paid</td>\n",
        "      <td> 2012-05-04 18:37:13 +0200</td>\n",
        "      <td>   fulfilled</td>\n",
        "      <td> 2012-05-03 10:57:23 +0200</td>\n",
        "      <td> yes</td>\n",
        "      <td> EGP</td>\n",
        "      <td> 201.51</td>\n",
        "      <td>  5</td>\n",
        "      <td>...</td>\n",
        "      <td>NaN</td>\n",
        "      <td>NaN</td>\n",
        "      <td>NaN</td>\n",
        "      <td>NaN</td>\n",
        "      <td>NaN</td>\n",
        "      <td>NaN</td>\n",
        "      <td>NaN</td>\n",
        "      <td>NaN</td>\n",
        "      <td>NaN</td>\n",
        "      <td>NaN</td>\n",
        "    </tr>\n",
        "    <tr>\n",
        "      <th>60764</th>\n",
        "      <td>  #1006</td>\n",
        "      <td>     bente.ring@yahoo.no</td>\n",
        "      <td>     NaN</td>\n",
        "      <td>                       NaN</td>\n",
        "      <td>         NaN</td>\n",
        "      <td>                       NaN</td>\n",
        "      <td> NaN</td>\n",
        "      <td> NaN</td>\n",
        "      <td>    NaN</td>\n",
        "      <td>NaN</td>\n",
        "      <td>...</td>\n",
        "      <td>NaN</td>\n",
        "      <td>NaN</td>\n",
        "      <td>NaN</td>\n",
        "      <td>NaN</td>\n",
        "      <td>NaN</td>\n",
        "      <td>NaN</td>\n",
        "      <td>NaN</td>\n",
        "      <td>NaN</td>\n",
        "      <td>NaN</td>\n",
        "      <td>NaN</td>\n",
        "    </tr>\n",
        "    <tr>\n",
        "      <th>60765</th>\n",
        "      <td>  #1006</td>\n",
        "      <td>     bente.ring@yahoo.no</td>\n",
        "      <td>     NaN</td>\n",
        "      <td>                       NaN</td>\n",
        "      <td>         NaN</td>\n",
        "      <td>                       NaN</td>\n",
        "      <td> NaN</td>\n",
        "      <td> NaN</td>\n",
        "      <td>    NaN</td>\n",
        "      <td>NaN</td>\n",
        "      <td>...</td>\n",
        "      <td>NaN</td>\n",
        "      <td>NaN</td>\n",
        "      <td>NaN</td>\n",
        "      <td>NaN</td>\n",
        "      <td>NaN</td>\n",
        "      <td>NaN</td>\n",
        "      <td>NaN</td>\n",
        "      <td>NaN</td>\n",
        "      <td>NaN</td>\n",
        "      <td>NaN</td>\n",
        "    </tr>\n",
        "    <tr>\n",
        "      <th>60766</th>\n",
        "      <td>  #1006</td>\n",
        "      <td>     bente.ring@yahoo.no</td>\n",
        "      <td>     NaN</td>\n",
        "      <td>                       NaN</td>\n",
        "      <td>         NaN</td>\n",
        "      <td>                       NaN</td>\n",
        "      <td> NaN</td>\n",
        "      <td> NaN</td>\n",
        "      <td>    NaN</td>\n",
        "      <td>NaN</td>\n",
        "      <td>...</td>\n",
        "      <td>NaN</td>\n",
        "      <td>NaN</td>\n",
        "      <td>NaN</td>\n",
        "      <td>NaN</td>\n",
        "      <td>NaN</td>\n",
        "      <td>NaN</td>\n",
        "      <td>NaN</td>\n",
        "      <td>NaN</td>\n",
        "      <td>NaN</td>\n",
        "      <td>NaN</td>\n",
        "    </tr>\n",
        "    <tr>\n",
        "      <th>60767</th>\n",
        "      <td>  #1006</td>\n",
        "      <td>     bente.ring@yahoo.no</td>\n",
        "      <td>     NaN</td>\n",
        "      <td>                       NaN</td>\n",
        "      <td>         NaN</td>\n",
        "      <td>                       NaN</td>\n",
        "      <td> NaN</td>\n",
        "      <td> NaN</td>\n",
        "      <td>    NaN</td>\n",
        "      <td>NaN</td>\n",
        "      <td>...</td>\n",
        "      <td>NaN</td>\n",
        "      <td>NaN</td>\n",
        "      <td>NaN</td>\n",
        "      <td>NaN</td>\n",
        "      <td>NaN</td>\n",
        "      <td>NaN</td>\n",
        "      <td>NaN</td>\n",
        "      <td>NaN</td>\n",
        "      <td>NaN</td>\n",
        "      <td>NaN</td>\n",
        "    </tr>\n",
        "    <tr>\n",
        "      <th>60768</th>\n",
        "      <td>  #1005</td>\n",
        "      <td>    cathypod@hotmail.com</td>\n",
        "      <td>    paid</td>\n",
        "      <td> 2012-05-04 18:37:35 +0200</td>\n",
        "      <td>   fulfilled</td>\n",
        "      <td> 2012-05-03 11:03:44 +0200</td>\n",
        "      <td> yes</td>\n",
        "      <td> EGP</td>\n",
        "      <td>  54.60</td>\n",
        "      <td>  5</td>\n",
        "      <td>...</td>\n",
        "      <td>NaN</td>\n",
        "      <td>NaN</td>\n",
        "      <td>NaN</td>\n",
        "      <td>NaN</td>\n",
        "      <td>NaN</td>\n",
        "      <td>NaN</td>\n",
        "      <td>NaN</td>\n",
        "      <td>NaN</td>\n",
        "      <td>NaN</td>\n",
        "      <td>NaN</td>\n",
        "    </tr>\n",
        "    <tr>\n",
        "      <th>60769</th>\n",
        "      <td>  #1005</td>\n",
        "      <td>    cathypod@hotmail.com</td>\n",
        "      <td>     NaN</td>\n",
        "      <td>                       NaN</td>\n",
        "      <td>         NaN</td>\n",
        "      <td>                       NaN</td>\n",
        "      <td> NaN</td>\n",
        "      <td> NaN</td>\n",
        "      <td>    NaN</td>\n",
        "      <td>NaN</td>\n",
        "      <td>...</td>\n",
        "      <td>NaN</td>\n",
        "      <td>NaN</td>\n",
        "      <td>NaN</td>\n",
        "      <td>NaN</td>\n",
        "      <td>NaN</td>\n",
        "      <td>NaN</td>\n",
        "      <td>NaN</td>\n",
        "      <td>NaN</td>\n",
        "      <td>NaN</td>\n",
        "      <td>NaN</td>\n",
        "    </tr>\n",
        "    <tr>\n",
        "      <th>60770</th>\n",
        "      <td>  #1005</td>\n",
        "      <td>    cathypod@hotmail.com</td>\n",
        "      <td>     NaN</td>\n",
        "      <td>                       NaN</td>\n",
        "      <td>         NaN</td>\n",
        "      <td>                       NaN</td>\n",
        "      <td> NaN</td>\n",
        "      <td> NaN</td>\n",
        "      <td>    NaN</td>\n",
        "      <td>NaN</td>\n",
        "      <td>...</td>\n",
        "      <td>NaN</td>\n",
        "      <td>NaN</td>\n",
        "      <td>NaN</td>\n",
        "      <td>NaN</td>\n",
        "      <td>NaN</td>\n",
        "      <td>NaN</td>\n",
        "      <td>NaN</td>\n",
        "      <td>NaN</td>\n",
        "      <td>NaN</td>\n",
        "      <td>NaN</td>\n",
        "    </tr>\n",
        "    <tr>\n",
        "      <th>60771</th>\n",
        "      <td>  #1005</td>\n",
        "      <td>    cathypod@hotmail.com</td>\n",
        "      <td>     NaN</td>\n",
        "      <td>                       NaN</td>\n",
        "      <td>         NaN</td>\n",
        "      <td>                       NaN</td>\n",
        "      <td> NaN</td>\n",
        "      <td> NaN</td>\n",
        "      <td>    NaN</td>\n",
        "      <td>NaN</td>\n",
        "      <td>...</td>\n",
        "      <td>NaN</td>\n",
        "      <td>NaN</td>\n",
        "      <td>NaN</td>\n",
        "      <td>NaN</td>\n",
        "      <td>NaN</td>\n",
        "      <td>NaN</td>\n",
        "      <td>NaN</td>\n",
        "      <td>NaN</td>\n",
        "      <td>NaN</td>\n",
        "      <td>NaN</td>\n",
        "    </tr>\n",
        "  </tbody>\n",
        "</table>\n",
        "<p>60772 rows \u00d7 66 columns</p>\n",
        "</div>"
       ],
       "metadata": {},
       "output_type": "pyout",
       "prompt_number": 1,
       "text": [
        "         Name                    Email Financial Status  \\\n",
        "0      #10367   rehabmansour@gmail.com          pending   \n",
        "1      #10367   rehabmansour@gmail.com              NaN   \n",
        "2      #10367   rehabmansour@gmail.com              NaN   \n",
        "3      #10366      nabouheif@yahoo.com          pending   \n",
        "4      #10366      nabouheif@yahoo.com              NaN   \n",
        "5      #10366      nabouheif@yahoo.com              NaN   \n",
        "6      #10365   fracicardi@hotmail.com          pending   \n",
        "7      #10365   fracicardi@hotmail.com              NaN   \n",
        "8      #10365   fracicardi@hotmail.com              NaN   \n",
        "9      #10365   fracicardi@hotmail.com              NaN   \n",
        "10     #10365   fracicardi@hotmail.com              NaN   \n",
        "11     #10365   fracicardi@hotmail.com              NaN   \n",
        "12     #10364   ahmed.fakhry@gmail.com          pending   \n",
        "13     #10364   ahmed.fakhry@gmail.com              NaN   \n",
        "14     #10364   ahmed.fakhry@gmail.com              NaN   \n",
        "15     #10364   ahmed.fakhry@gmail.com              NaN   \n",
        "16     #10364   ahmed.fakhry@gmail.com              NaN   \n",
        "17     #10364   ahmed.fakhry@gmail.com              NaN   \n",
        "18     #10364   ahmed.fakhry@gmail.com              NaN   \n",
        "19     #10364   ahmed.fakhry@gmail.com              NaN   \n",
        "20     #10364   ahmed.fakhry@gmail.com              NaN   \n",
        "21     #10363   ahmed.fakhry@gmail.com          pending   \n",
        "22     #10362     Missilou11@yahoo.com          pending   \n",
        "23     #10361  sallysalem123@gmail.com          pending   \n",
        "24     #10361  sallysalem123@gmail.com              NaN   \n",
        "25     #10361  sallysalem123@gmail.com              NaN   \n",
        "26     #10361  sallysalem123@gmail.com              NaN   \n",
        "27     #10361  sallysalem123@gmail.com              NaN   \n",
        "28     #10361  sallysalem123@gmail.com              NaN   \n",
        "29     #10361  sallysalem123@gmail.com              NaN   \n",
        "...       ...                      ...              ...   \n",
        "60742   #1013   lik-novikova@yandex.ru              NaN   \n",
        "60743   #1012      bettyhedrich@gmx.de             paid   \n",
        "60744   #1012      bettyhedrich@gmx.de              NaN   \n",
        "60745   #1011            rulah@msn.com             paid   \n",
        "60746   #1010      milda_b@hotmail.com             paid   \n",
        "60747   #1010      milda_b@hotmail.com              NaN   \n",
        "60748   #1010      milda_b@hotmail.com              NaN   \n",
        "60749   #1010      milda_b@hotmail.com              NaN   \n",
        "60750   #1010      milda_b@hotmail.com              NaN   \n",
        "60751   #1010      milda_b@hotmail.com              NaN   \n",
        "60752   #1010      milda_b@hotmail.com              NaN   \n",
        "60753   #1009      bente.ring@yahoo.no             paid   \n",
        "60754   #1008      bente.ring@yahoo.no             paid   \n",
        "60755   #1008      bente.ring@yahoo.no              NaN   \n",
        "60756   #1008      bente.ring@yahoo.no              NaN   \n",
        "60757   #1008      bente.ring@yahoo.no              NaN   \n",
        "60758   #1008      bente.ring@yahoo.no              NaN   \n",
        "60759   #1007   lik-novikova@yandex.ru             paid   \n",
        "60760   #1007   lik-novikova@yandex.ru              NaN   \n",
        "60761   #1007   lik-novikova@yandex.ru              NaN   \n",
        "60762   #1007   lik-novikova@yandex.ru              NaN   \n",
        "60763   #1006      bente.ring@yahoo.no             paid   \n",
        "60764   #1006      bente.ring@yahoo.no              NaN   \n",
        "60765   #1006      bente.ring@yahoo.no              NaN   \n",
        "60766   #1006      bente.ring@yahoo.no              NaN   \n",
        "60767   #1006      bente.ring@yahoo.no              NaN   \n",
        "60768   #1005     cathypod@hotmail.com             paid   \n",
        "60769   #1005     cathypod@hotmail.com              NaN   \n",
        "60770   #1005     cathypod@hotmail.com              NaN   \n",
        "60771   #1005     cathypod@hotmail.com              NaN   \n",
        "\n",
        "                         Paid at Fulfillment Status  \\\n",
        "0                            NaN        unfulfilled   \n",
        "1                            NaN                NaN   \n",
        "2                            NaN                NaN   \n",
        "3                            NaN        unfulfilled   \n",
        "4                            NaN                NaN   \n",
        "5                            NaN                NaN   \n",
        "6                            NaN        unfulfilled   \n",
        "7                            NaN                NaN   \n",
        "8                            NaN                NaN   \n",
        "9                            NaN                NaN   \n",
        "10                           NaN                NaN   \n",
        "11                           NaN                NaN   \n",
        "12                           NaN        unfulfilled   \n",
        "13                           NaN                NaN   \n",
        "14                           NaN                NaN   \n",
        "15                           NaN                NaN   \n",
        "16                           NaN                NaN   \n",
        "17                           NaN                NaN   \n",
        "18                           NaN                NaN   \n",
        "19                           NaN                NaN   \n",
        "20                           NaN                NaN   \n",
        "21                           NaN        unfulfilled   \n",
        "22                           NaN        unfulfilled   \n",
        "23                           NaN        unfulfilled   \n",
        "24                           NaN                NaN   \n",
        "25                           NaN                NaN   \n",
        "26                           NaN                NaN   \n",
        "27                           NaN                NaN   \n",
        "28                           NaN                NaN   \n",
        "29                           NaN                NaN   \n",
        "...                          ...                ...   \n",
        "60742                        NaN                NaN   \n",
        "60743  2012-05-27 13:15:42 +0200          fulfilled   \n",
        "60744                        NaN                NaN   \n",
        "60745  2012-05-21 18:33:13 +0200          fulfilled   \n",
        "60746  2012-05-09 11:09:12 +0200          fulfilled   \n",
        "60747                        NaN                NaN   \n",
        "60748                        NaN                NaN   \n",
        "60749                        NaN                NaN   \n",
        "60750                        NaN                NaN   \n",
        "60751                        NaN                NaN   \n",
        "60752                        NaN                NaN   \n",
        "60753  2012-05-10 19:12:35 +0200          fulfilled   \n",
        "60754  2012-05-10 19:13:35 +0200          fulfilled   \n",
        "60755                        NaN                NaN   \n",
        "60756                        NaN                NaN   \n",
        "60757                        NaN                NaN   \n",
        "60758                        NaN                NaN   \n",
        "60759  2012-05-04 18:36:50 +0200          fulfilled   \n",
        "60760                        NaN                NaN   \n",
        "60761                        NaN                NaN   \n",
        "60762                        NaN                NaN   \n",
        "60763  2012-05-04 18:37:13 +0200          fulfilled   \n",
        "60764                        NaN                NaN   \n",
        "60765                        NaN                NaN   \n",
        "60766                        NaN                NaN   \n",
        "60767                        NaN                NaN   \n",
        "60768  2012-05-04 18:37:35 +0200          fulfilled   \n",
        "60769                        NaN                NaN   \n",
        "60770                        NaN                NaN   \n",
        "60771                        NaN                NaN   \n",
        "\n",
        "                    Fulfilled at Accepts Marketing Currency  Subtotal  \\\n",
        "0                            NaN                no      EGP    375.30   \n",
        "1                            NaN               NaN      NaN       NaN   \n",
        "2                            NaN               NaN      NaN       NaN   \n",
        "3                            NaN                no      EGP    162.90   \n",
        "4                            NaN               NaN      NaN       NaN   \n",
        "5                            NaN               NaN      NaN       NaN   \n",
        "6                            NaN                no      EGP    129.00   \n",
        "7                            NaN               NaN      NaN       NaN   \n",
        "8                            NaN               NaN      NaN       NaN   \n",
        "9                            NaN               NaN      NaN       NaN   \n",
        "10                           NaN               NaN      NaN       NaN   \n",
        "11                           NaN               NaN      NaN       NaN   \n",
        "12                           NaN                no      EGP    660.10   \n",
        "13                           NaN               NaN      NaN       NaN   \n",
        "14                           NaN               NaN      NaN       NaN   \n",
        "15                           NaN               NaN      NaN       NaN   \n",
        "16                           NaN               NaN      NaN       NaN   \n",
        "17                           NaN               NaN      NaN       NaN   \n",
        "18                           NaN               NaN      NaN       NaN   \n",
        "19                           NaN               NaN      NaN       NaN   \n",
        "20                           NaN               NaN      NaN       NaN   \n",
        "21                           NaN                no      EGP    592.00   \n",
        "22                           NaN                no      EGP     70.20   \n",
        "23                           NaN                no      EGP    432.00   \n",
        "24                           NaN               NaN      NaN       NaN   \n",
        "25                           NaN               NaN      NaN       NaN   \n",
        "26                           NaN               NaN      NaN       NaN   \n",
        "27                           NaN               NaN      NaN       NaN   \n",
        "28                           NaN               NaN      NaN       NaN   \n",
        "29                           NaN               NaN      NaN       NaN   \n",
        "...                          ...               ...      ...       ...   \n",
        "60742                        NaN               NaN      NaN       NaN   \n",
        "60743  2012-05-27 13:15:14 +0200                no      EGP     41.93   \n",
        "60744                        NaN               NaN      NaN       NaN   \n",
        "60745  2012-05-21 18:33:43 +0200               yes      EGP    222.30   \n",
        "60746  2012-05-09 11:09:06 +0200               yes      EGP    155.55   \n",
        "60747                        NaN               NaN      NaN       NaN   \n",
        "60748                        NaN               NaN      NaN       NaN   \n",
        "60749                        NaN               NaN      NaN       NaN   \n",
        "60750                        NaN               NaN      NaN       NaN   \n",
        "60751                        NaN               NaN      NaN       NaN   \n",
        "60752                        NaN               NaN      NaN       NaN   \n",
        "60753  2012-05-10 19:12:32 +0200               yes      EGP     45.50   \n",
        "60754  2012-05-10 19:13:32 +0200               yes      EGP    357.53   \n",
        "60755                        NaN               NaN      NaN       NaN   \n",
        "60756                        NaN               NaN      NaN       NaN   \n",
        "60757                        NaN               NaN      NaN       NaN   \n",
        "60758                        NaN               NaN      NaN       NaN   \n",
        "60759  2012-05-04 18:33:47 +0200               yes      EGP    110.83   \n",
        "60760                        NaN               NaN      NaN       NaN   \n",
        "60761                        NaN               NaN      NaN       NaN   \n",
        "60762                        NaN               NaN      NaN       NaN   \n",
        "60763  2012-05-03 10:57:23 +0200               yes      EGP    201.51   \n",
        "60764                        NaN               NaN      NaN       NaN   \n",
        "60765                        NaN               NaN      NaN       NaN   \n",
        "60766                        NaN               NaN      NaN       NaN   \n",
        "60767                        NaN               NaN      NaN       NaN   \n",
        "60768  2012-05-03 11:03:44 +0200               yes      EGP     54.60   \n",
        "60769                        NaN               NaN      NaN       NaN   \n",
        "60770                        NaN               NaN      NaN       NaN   \n",
        "60771                        NaN               NaN      NaN       NaN   \n",
        "\n",
        "       Shipping     ...       Tax 1 Name  Tax 1 Value Tax 2 Name  Tax 2 Value  \\\n",
        "0            10     ...              NaN          NaN        NaN          NaN   \n",
        "1           NaN     ...              NaN          NaN        NaN          NaN   \n",
        "2           NaN     ...              NaN          NaN        NaN          NaN   \n",
        "3            10     ...              NaN          NaN        NaN          NaN   \n",
        "4           NaN     ...              NaN          NaN        NaN          NaN   \n",
        "5           NaN     ...              NaN          NaN        NaN          NaN   \n",
        "6            15     ...              NaN          NaN        NaN          NaN   \n",
        "7           NaN     ...              NaN          NaN        NaN          NaN   \n",
        "8           NaN     ...              NaN          NaN        NaN          NaN   \n",
        "9           NaN     ...              NaN          NaN        NaN          NaN   \n",
        "10          NaN     ...              NaN          NaN        NaN          NaN   \n",
        "11          NaN     ...              NaN          NaN        NaN          NaN   \n",
        "12           10     ...              NaN          NaN        NaN          NaN   \n",
        "13          NaN     ...              NaN          NaN        NaN          NaN   \n",
        "14          NaN     ...              NaN          NaN        NaN          NaN   \n",
        "15          NaN     ...              NaN          NaN        NaN          NaN   \n",
        "16          NaN     ...              NaN          NaN        NaN          NaN   \n",
        "17          NaN     ...              NaN          NaN        NaN          NaN   \n",
        "18          NaN     ...              NaN          NaN        NaN          NaN   \n",
        "19          NaN     ...              NaN          NaN        NaN          NaN   \n",
        "20          NaN     ...              NaN          NaN        NaN          NaN   \n",
        "21           10     ...              NaN          NaN        NaN          NaN   \n",
        "22           15     ...              NaN          NaN        NaN          NaN   \n",
        "23           10     ...              NaN          NaN        NaN          NaN   \n",
        "24          NaN     ...              NaN          NaN        NaN          NaN   \n",
        "25          NaN     ...              NaN          NaN        NaN          NaN   \n",
        "26          NaN     ...              NaN          NaN        NaN          NaN   \n",
        "27          NaN     ...              NaN          NaN        NaN          NaN   \n",
        "28          NaN     ...              NaN          NaN        NaN          NaN   \n",
        "29          NaN     ...              NaN          NaN        NaN          NaN   \n",
        "...         ...     ...              ...          ...        ...          ...   \n",
        "60742       NaN     ...              NaN          NaN        NaN          NaN   \n",
        "60743         5     ...              NaN          NaN        NaN          NaN   \n",
        "60744       NaN     ...              NaN          NaN        NaN          NaN   \n",
        "60745         5     ...              NaN          NaN        NaN          NaN   \n",
        "60746         5     ...              NaN          NaN        NaN          NaN   \n",
        "60747       NaN     ...              NaN          NaN        NaN          NaN   \n",
        "60748       NaN     ...              NaN          NaN        NaN          NaN   \n",
        "60749       NaN     ...              NaN          NaN        NaN          NaN   \n",
        "60750       NaN     ...              NaN          NaN        NaN          NaN   \n",
        "60751       NaN     ...              NaN          NaN        NaN          NaN   \n",
        "60752       NaN     ...              NaN          NaN        NaN          NaN   \n",
        "60753         5     ...              NaN          NaN        NaN          NaN   \n",
        "60754         5     ...              NaN          NaN        NaN          NaN   \n",
        "60755       NaN     ...              NaN          NaN        NaN          NaN   \n",
        "60756       NaN     ...              NaN          NaN        NaN          NaN   \n",
        "60757       NaN     ...              NaN          NaN        NaN          NaN   \n",
        "60758       NaN     ...              NaN          NaN        NaN          NaN   \n",
        "60759         5     ...              NaN          NaN        NaN          NaN   \n",
        "60760       NaN     ...              NaN          NaN        NaN          NaN   \n",
        "60761       NaN     ...              NaN          NaN        NaN          NaN   \n",
        "60762       NaN     ...              NaN          NaN        NaN          NaN   \n",
        "60763         5     ...              NaN          NaN        NaN          NaN   \n",
        "60764       NaN     ...              NaN          NaN        NaN          NaN   \n",
        "60765       NaN     ...              NaN          NaN        NaN          NaN   \n",
        "60766       NaN     ...              NaN          NaN        NaN          NaN   \n",
        "60767       NaN     ...              NaN          NaN        NaN          NaN   \n",
        "60768         5     ...              NaN          NaN        NaN          NaN   \n",
        "60769       NaN     ...              NaN          NaN        NaN          NaN   \n",
        "60770       NaN     ...              NaN          NaN        NaN          NaN   \n",
        "60771       NaN     ...              NaN          NaN        NaN          NaN   \n",
        "\n",
        "      Tax 3 Name Tax 3 Value  Tax 4 Name Tax 4 Value  Tax 5 Name  Tax 5 Value  \n",
        "0            NaN         NaN         NaN         NaN         NaN          NaN  \n",
        "1            NaN         NaN         NaN         NaN         NaN          NaN  \n",
        "2            NaN         NaN         NaN         NaN         NaN          NaN  \n",
        "3            NaN         NaN         NaN         NaN         NaN          NaN  \n",
        "4            NaN         NaN         NaN         NaN         NaN          NaN  \n",
        "5            NaN         NaN         NaN         NaN         NaN          NaN  \n",
        "6            NaN         NaN         NaN         NaN         NaN          NaN  \n",
        "7            NaN         NaN         NaN         NaN         NaN          NaN  \n",
        "8            NaN         NaN         NaN         NaN         NaN          NaN  \n",
        "9            NaN         NaN         NaN         NaN         NaN          NaN  \n",
        "10           NaN         NaN         NaN         NaN         NaN          NaN  \n",
        "11           NaN         NaN         NaN         NaN         NaN          NaN  \n",
        "12           NaN         NaN         NaN         NaN         NaN          NaN  \n",
        "13           NaN         NaN         NaN         NaN         NaN          NaN  \n",
        "14           NaN         NaN         NaN         NaN         NaN          NaN  \n",
        "15           NaN         NaN         NaN         NaN         NaN          NaN  \n",
        "16           NaN         NaN         NaN         NaN         NaN          NaN  \n",
        "17           NaN         NaN         NaN         NaN         NaN          NaN  \n",
        "18           NaN         NaN         NaN         NaN         NaN          NaN  \n",
        "19           NaN         NaN         NaN         NaN         NaN          NaN  \n",
        "20           NaN         NaN         NaN         NaN         NaN          NaN  \n",
        "21           NaN         NaN         NaN         NaN         NaN          NaN  \n",
        "22           NaN         NaN         NaN         NaN         NaN          NaN  \n",
        "23           NaN         NaN         NaN         NaN         NaN          NaN  \n",
        "24           NaN         NaN         NaN         NaN         NaN          NaN  \n",
        "25           NaN         NaN         NaN         NaN         NaN          NaN  \n",
        "26           NaN         NaN         NaN         NaN         NaN          NaN  \n",
        "27           NaN         NaN         NaN         NaN         NaN          NaN  \n",
        "28           NaN         NaN         NaN         NaN         NaN          NaN  \n",
        "29           NaN         NaN         NaN         NaN         NaN          NaN  \n",
        "...          ...         ...         ...         ...         ...          ...  \n",
        "60742        NaN         NaN         NaN         NaN         NaN          NaN  \n",
        "60743        NaN         NaN         NaN         NaN         NaN          NaN  \n",
        "60744        NaN         NaN         NaN         NaN         NaN          NaN  \n",
        "60745        NaN         NaN         NaN         NaN         NaN          NaN  \n",
        "60746        NaN         NaN         NaN         NaN         NaN          NaN  \n",
        "60747        NaN         NaN         NaN         NaN         NaN          NaN  \n",
        "60748        NaN         NaN         NaN         NaN         NaN          NaN  \n",
        "60749        NaN         NaN         NaN         NaN         NaN          NaN  \n",
        "60750        NaN         NaN         NaN         NaN         NaN          NaN  \n",
        "60751        NaN         NaN         NaN         NaN         NaN          NaN  \n",
        "60752        NaN         NaN         NaN         NaN         NaN          NaN  \n",
        "60753        NaN         NaN         NaN         NaN         NaN          NaN  \n",
        "60754        NaN         NaN         NaN         NaN         NaN          NaN  \n",
        "60755        NaN         NaN         NaN         NaN         NaN          NaN  \n",
        "60756        NaN         NaN         NaN         NaN         NaN          NaN  \n",
        "60757        NaN         NaN         NaN         NaN         NaN          NaN  \n",
        "60758        NaN         NaN         NaN         NaN         NaN          NaN  \n",
        "60759        NaN         NaN         NaN         NaN         NaN          NaN  \n",
        "60760        NaN         NaN         NaN         NaN         NaN          NaN  \n",
        "60761        NaN         NaN         NaN         NaN         NaN          NaN  \n",
        "60762        NaN         NaN         NaN         NaN         NaN          NaN  \n",
        "60763        NaN         NaN         NaN         NaN         NaN          NaN  \n",
        "60764        NaN         NaN         NaN         NaN         NaN          NaN  \n",
        "60765        NaN         NaN         NaN         NaN         NaN          NaN  \n",
        "60766        NaN         NaN         NaN         NaN         NaN          NaN  \n",
        "60767        NaN         NaN         NaN         NaN         NaN          NaN  \n",
        "60768        NaN         NaN         NaN         NaN         NaN          NaN  \n",
        "60769        NaN         NaN         NaN         NaN         NaN          NaN  \n",
        "60770        NaN         NaN         NaN         NaN         NaN          NaN  \n",
        "60771        NaN         NaN         NaN         NaN         NaN          NaN  \n",
        "\n",
        "[60772 rows x 66 columns]"
       ]
      }
     ],
     "prompt_number": 1
    },
    {
     "cell_type": "code",
     "collapsed": false,
     "input": [
      "df1 = df\n",
      "\n",
      "#get required columns and rename\n",
      "df = df[[ 'Email', 'Lineitem quantity', 'Lineitem price']]\n",
      "df.columns = ['Email', 'Quantity', 'Price']\n",
      "\n",
      "#calculate revenue\n",
      "df['Revenue'] = df['Quantity'] * df['Price']\n",
      "df = df[['Email', 'Revenue']]\n",
      "df"
     ],
     "language": "python",
     "metadata": {},
     "outputs": [
      {
       "output_type": "stream",
       "stream": "stderr",
       "text": [
        "-c:8: SettingWithCopyWarning: \n",
        "A value is trying to be set on a copy of a slice from a DataFrame.\n",
        "Try using .loc[row_indexer,col_indexer] = value instead\n",
        "\n",
        "See the the caveats in the documentation: http://pandas.pydata.org/pandas-docs/stable/indexing.html#indexing-view-versus-copy\n"
       ]
      },
      {
       "html": [
        "<div style=\"max-height:1000px;max-width:1500px;overflow:auto;\">\n",
        "<table border=\"1\" class=\"dataframe\">\n",
        "  <thead>\n",
        "    <tr style=\"text-align: right;\">\n",
        "      <th></th>\n",
        "      <th>Email</th>\n",
        "      <th>Revenue</th>\n",
        "    </tr>\n",
        "  </thead>\n",
        "  <tbody>\n",
        "    <tr>\n",
        "      <th>0    </th>\n",
        "      <td>  rehabmansour@gmail.com</td>\n",
        "      <td> 180.00</td>\n",
        "    </tr>\n",
        "    <tr>\n",
        "      <th>1    </th>\n",
        "      <td>  rehabmansour@gmail.com</td>\n",
        "      <td>  14.40</td>\n",
        "    </tr>\n",
        "    <tr>\n",
        "      <th>2    </th>\n",
        "      <td>  rehabmansour@gmail.com</td>\n",
        "      <td> 180.90</td>\n",
        "    </tr>\n",
        "    <tr>\n",
        "      <th>3    </th>\n",
        "      <td>     nabouheif@yahoo.com</td>\n",
        "      <td>  30.60</td>\n",
        "    </tr>\n",
        "    <tr>\n",
        "      <th>4    </th>\n",
        "      <td>     nabouheif@yahoo.com</td>\n",
        "      <td>  10.80</td>\n",
        "    </tr>\n",
        "    <tr>\n",
        "      <th>5    </th>\n",
        "      <td>     nabouheif@yahoo.com</td>\n",
        "      <td> 121.50</td>\n",
        "    </tr>\n",
        "    <tr>\n",
        "      <th>6    </th>\n",
        "      <td>  fracicardi@hotmail.com</td>\n",
        "      <td>   2.10</td>\n",
        "    </tr>\n",
        "    <tr>\n",
        "      <th>7    </th>\n",
        "      <td>  fracicardi@hotmail.com</td>\n",
        "      <td>   7.20</td>\n",
        "    </tr>\n",
        "    <tr>\n",
        "      <th>8    </th>\n",
        "      <td>  fracicardi@hotmail.com</td>\n",
        "      <td>   7.20</td>\n",
        "    </tr>\n",
        "    <tr>\n",
        "      <th>9    </th>\n",
        "      <td>  fracicardi@hotmail.com</td>\n",
        "      <td>  60.30</td>\n",
        "    </tr>\n",
        "    <tr>\n",
        "      <th>10   </th>\n",
        "      <td>  fracicardi@hotmail.com</td>\n",
        "      <td>   7.20</td>\n",
        "    </tr>\n",
        "    <tr>\n",
        "      <th>11   </th>\n",
        "      <td>  fracicardi@hotmail.com</td>\n",
        "      <td>  45.00</td>\n",
        "    </tr>\n",
        "    <tr>\n",
        "      <th>12   </th>\n",
        "      <td>  ahmed.fakhry@gmail.com</td>\n",
        "      <td>  60.30</td>\n",
        "    </tr>\n",
        "    <tr>\n",
        "      <th>13   </th>\n",
        "      <td>  ahmed.fakhry@gmail.com</td>\n",
        "      <td>  33.30</td>\n",
        "    </tr>\n",
        "    <tr>\n",
        "      <th>14   </th>\n",
        "      <td>  ahmed.fakhry@gmail.com</td>\n",
        "      <td>  60.30</td>\n",
        "    </tr>\n",
        "    <tr>\n",
        "      <th>15   </th>\n",
        "      <td>  ahmed.fakhry@gmail.com</td>\n",
        "      <td> 114.00</td>\n",
        "    </tr>\n",
        "    <tr>\n",
        "      <th>16   </th>\n",
        "      <td>  ahmed.fakhry@gmail.com</td>\n",
        "      <td> 114.00</td>\n",
        "    </tr>\n",
        "    <tr>\n",
        "      <th>17   </th>\n",
        "      <td>  ahmed.fakhry@gmail.com</td>\n",
        "      <td>  98.00</td>\n",
        "    </tr>\n",
        "    <tr>\n",
        "      <th>18   </th>\n",
        "      <td>  ahmed.fakhry@gmail.com</td>\n",
        "      <td>  65.00</td>\n",
        "    </tr>\n",
        "    <tr>\n",
        "      <th>19   </th>\n",
        "      <td>  ahmed.fakhry@gmail.com</td>\n",
        "      <td>  57.60</td>\n",
        "    </tr>\n",
        "    <tr>\n",
        "      <th>20   </th>\n",
        "      <td>  ahmed.fakhry@gmail.com</td>\n",
        "      <td>  57.60</td>\n",
        "    </tr>\n",
        "    <tr>\n",
        "      <th>21   </th>\n",
        "      <td>  ahmed.fakhry@gmail.com</td>\n",
        "      <td> 592.00</td>\n",
        "    </tr>\n",
        "    <tr>\n",
        "      <th>22   </th>\n",
        "      <td>    Missilou11@yahoo.com</td>\n",
        "      <td>  70.20</td>\n",
        "    </tr>\n",
        "    <tr>\n",
        "      <th>23   </th>\n",
        "      <td> sallysalem123@gmail.com</td>\n",
        "      <td>  41.00</td>\n",
        "    </tr>\n",
        "    <tr>\n",
        "      <th>24   </th>\n",
        "      <td> sallysalem123@gmail.com</td>\n",
        "      <td>   8.50</td>\n",
        "    </tr>\n",
        "    <tr>\n",
        "      <th>25   </th>\n",
        "      <td> sallysalem123@gmail.com</td>\n",
        "      <td>  10.80</td>\n",
        "    </tr>\n",
        "    <tr>\n",
        "      <th>26   </th>\n",
        "      <td> sallysalem123@gmail.com</td>\n",
        "      <td> 115.20</td>\n",
        "    </tr>\n",
        "    <tr>\n",
        "      <th>27   </th>\n",
        "      <td> sallysalem123@gmail.com</td>\n",
        "      <td> 115.20</td>\n",
        "    </tr>\n",
        "    <tr>\n",
        "      <th>28   </th>\n",
        "      <td> sallysalem123@gmail.com</td>\n",
        "      <td>  81.00</td>\n",
        "    </tr>\n",
        "    <tr>\n",
        "      <th>29   </th>\n",
        "      <td> sallysalem123@gmail.com</td>\n",
        "      <td>  60.30</td>\n",
        "    </tr>\n",
        "    <tr>\n",
        "      <th>...</th>\n",
        "      <td>...</td>\n",
        "      <td>...</td>\n",
        "    </tr>\n",
        "    <tr>\n",
        "      <th>60742</th>\n",
        "      <td>  lik-novikova@yandex.ru</td>\n",
        "      <td>  11.38</td>\n",
        "    </tr>\n",
        "    <tr>\n",
        "      <th>60743</th>\n",
        "      <td>     bettyhedrich@gmx.de</td>\n",
        "      <td>  21.13</td>\n",
        "    </tr>\n",
        "    <tr>\n",
        "      <th>60744</th>\n",
        "      <td>     bettyhedrich@gmx.de</td>\n",
        "      <td>  20.80</td>\n",
        "    </tr>\n",
        "    <tr>\n",
        "      <th>60745</th>\n",
        "      <td>           rulah@msn.com</td>\n",
        "      <td> 222.30</td>\n",
        "    </tr>\n",
        "    <tr>\n",
        "      <th>60746</th>\n",
        "      <td>     milda_b@hotmail.com</td>\n",
        "      <td>   8.19</td>\n",
        "    </tr>\n",
        "    <tr>\n",
        "      <th>60747</th>\n",
        "      <td>     milda_b@hotmail.com</td>\n",
        "      <td>  45.50</td>\n",
        "    </tr>\n",
        "    <tr>\n",
        "      <th>60748</th>\n",
        "      <td>     milda_b@hotmail.com</td>\n",
        "      <td>  10.40</td>\n",
        "    </tr>\n",
        "    <tr>\n",
        "      <th>60749</th>\n",
        "      <td>     milda_b@hotmail.com</td>\n",
        "      <td>  16.58</td>\n",
        "    </tr>\n",
        "    <tr>\n",
        "      <th>60750</th>\n",
        "      <td>     milda_b@hotmail.com</td>\n",
        "      <td>   9.36</td>\n",
        "    </tr>\n",
        "    <tr>\n",
        "      <th>60751</th>\n",
        "      <td>     milda_b@hotmail.com</td>\n",
        "      <td>  26.00</td>\n",
        "    </tr>\n",
        "    <tr>\n",
        "      <th>60752</th>\n",
        "      <td>     milda_b@hotmail.com</td>\n",
        "      <td>  39.52</td>\n",
        "    </tr>\n",
        "    <tr>\n",
        "      <th>60753</th>\n",
        "      <td>     bente.ring@yahoo.no</td>\n",
        "      <td>  45.50</td>\n",
        "    </tr>\n",
        "    <tr>\n",
        "      <th>60754</th>\n",
        "      <td>     bente.ring@yahoo.no</td>\n",
        "      <td>  79.95</td>\n",
        "    </tr>\n",
        "    <tr>\n",
        "      <th>60755</th>\n",
        "      <td>     bente.ring@yahoo.no</td>\n",
        "      <td> 113.76</td>\n",
        "    </tr>\n",
        "    <tr>\n",
        "      <th>60756</th>\n",
        "      <td>     bente.ring@yahoo.no</td>\n",
        "      <td> 113.76</td>\n",
        "    </tr>\n",
        "    <tr>\n",
        "      <th>60757</th>\n",
        "      <td>     bente.ring@yahoo.no</td>\n",
        "      <td>  42.26</td>\n",
        "    </tr>\n",
        "    <tr>\n",
        "      <th>60758</th>\n",
        "      <td>     bente.ring@yahoo.no</td>\n",
        "      <td>   7.80</td>\n",
        "    </tr>\n",
        "    <tr>\n",
        "      <th>60759</th>\n",
        "      <td>  lik-novikova@yandex.ru</td>\n",
        "      <td>  22.10</td>\n",
        "    </tr>\n",
        "    <tr>\n",
        "      <th>60760</th>\n",
        "      <td>  lik-novikova@yandex.ru</td>\n",
        "      <td>  40.95</td>\n",
        "    </tr>\n",
        "    <tr>\n",
        "      <th>60761</th>\n",
        "      <td>  lik-novikova@yandex.ru</td>\n",
        "      <td>  26.65</td>\n",
        "    </tr>\n",
        "    <tr>\n",
        "      <th>60762</th>\n",
        "      <td>  lik-novikova@yandex.ru</td>\n",
        "      <td>  21.13</td>\n",
        "    </tr>\n",
        "    <tr>\n",
        "      <th>60763</th>\n",
        "      <td>     bente.ring@yahoo.no</td>\n",
        "      <td>   9.10</td>\n",
        "    </tr>\n",
        "    <tr>\n",
        "      <th>60764</th>\n",
        "      <td>     bente.ring@yahoo.no</td>\n",
        "      <td>  26.65</td>\n",
        "    </tr>\n",
        "    <tr>\n",
        "      <th>60765</th>\n",
        "      <td>     bente.ring@yahoo.no</td>\n",
        "      <td>  52.00</td>\n",
        "    </tr>\n",
        "    <tr>\n",
        "      <th>60766</th>\n",
        "      <td>     bente.ring@yahoo.no</td>\n",
        "      <td>  56.88</td>\n",
        "    </tr>\n",
        "    <tr>\n",
        "      <th>60767</th>\n",
        "      <td>     bente.ring@yahoo.no</td>\n",
        "      <td>  56.88</td>\n",
        "    </tr>\n",
        "    <tr>\n",
        "      <th>60768</th>\n",
        "      <td>    cathypod@hotmail.com</td>\n",
        "      <td>   8.19</td>\n",
        "    </tr>\n",
        "    <tr>\n",
        "      <th>60769</th>\n",
        "      <td>    cathypod@hotmail.com</td>\n",
        "      <td>  10.40</td>\n",
        "    </tr>\n",
        "    <tr>\n",
        "      <th>60770</th>\n",
        "      <td>    cathypod@hotmail.com</td>\n",
        "      <td>  26.65</td>\n",
        "    </tr>\n",
        "    <tr>\n",
        "      <th>60771</th>\n",
        "      <td>    cathypod@hotmail.com</td>\n",
        "      <td>   9.36</td>\n",
        "    </tr>\n",
        "  </tbody>\n",
        "</table>\n",
        "<p>60772 rows \u00d7 2 columns</p>\n",
        "</div>"
       ],
       "metadata": {},
       "output_type": "pyout",
       "prompt_number": 2,
       "text": [
        "                         Email  Revenue\n",
        "0       rehabmansour@gmail.com   180.00\n",
        "1       rehabmansour@gmail.com    14.40\n",
        "2       rehabmansour@gmail.com   180.90\n",
        "3          nabouheif@yahoo.com    30.60\n",
        "4          nabouheif@yahoo.com    10.80\n",
        "5          nabouheif@yahoo.com   121.50\n",
        "6       fracicardi@hotmail.com     2.10\n",
        "7       fracicardi@hotmail.com     7.20\n",
        "8       fracicardi@hotmail.com     7.20\n",
        "9       fracicardi@hotmail.com    60.30\n",
        "10      fracicardi@hotmail.com     7.20\n",
        "11      fracicardi@hotmail.com    45.00\n",
        "12      ahmed.fakhry@gmail.com    60.30\n",
        "13      ahmed.fakhry@gmail.com    33.30\n",
        "14      ahmed.fakhry@gmail.com    60.30\n",
        "15      ahmed.fakhry@gmail.com   114.00\n",
        "16      ahmed.fakhry@gmail.com   114.00\n",
        "17      ahmed.fakhry@gmail.com    98.00\n",
        "18      ahmed.fakhry@gmail.com    65.00\n",
        "19      ahmed.fakhry@gmail.com    57.60\n",
        "20      ahmed.fakhry@gmail.com    57.60\n",
        "21      ahmed.fakhry@gmail.com   592.00\n",
        "22        Missilou11@yahoo.com    70.20\n",
        "23     sallysalem123@gmail.com    41.00\n",
        "24     sallysalem123@gmail.com     8.50\n",
        "25     sallysalem123@gmail.com    10.80\n",
        "26     sallysalem123@gmail.com   115.20\n",
        "27     sallysalem123@gmail.com   115.20\n",
        "28     sallysalem123@gmail.com    81.00\n",
        "29     sallysalem123@gmail.com    60.30\n",
        "...                        ...      ...\n",
        "60742   lik-novikova@yandex.ru    11.38\n",
        "60743      bettyhedrich@gmx.de    21.13\n",
        "60744      bettyhedrich@gmx.de    20.80\n",
        "60745            rulah@msn.com   222.30\n",
        "60746      milda_b@hotmail.com     8.19\n",
        "60747      milda_b@hotmail.com    45.50\n",
        "60748      milda_b@hotmail.com    10.40\n",
        "60749      milda_b@hotmail.com    16.58\n",
        "60750      milda_b@hotmail.com     9.36\n",
        "60751      milda_b@hotmail.com    26.00\n",
        "60752      milda_b@hotmail.com    39.52\n",
        "60753      bente.ring@yahoo.no    45.50\n",
        "60754      bente.ring@yahoo.no    79.95\n",
        "60755      bente.ring@yahoo.no   113.76\n",
        "60756      bente.ring@yahoo.no   113.76\n",
        "60757      bente.ring@yahoo.no    42.26\n",
        "60758      bente.ring@yahoo.no     7.80\n",
        "60759   lik-novikova@yandex.ru    22.10\n",
        "60760   lik-novikova@yandex.ru    40.95\n",
        "60761   lik-novikova@yandex.ru    26.65\n",
        "60762   lik-novikova@yandex.ru    21.13\n",
        "60763      bente.ring@yahoo.no     9.10\n",
        "60764      bente.ring@yahoo.no    26.65\n",
        "60765      bente.ring@yahoo.no    52.00\n",
        "60766      bente.ring@yahoo.no    56.88\n",
        "60767      bente.ring@yahoo.no    56.88\n",
        "60768     cathypod@hotmail.com     8.19\n",
        "60769     cathypod@hotmail.com    10.40\n",
        "60770     cathypod@hotmail.com    26.65\n",
        "60771     cathypod@hotmail.com     9.36\n",
        "\n",
        "[60772 rows x 2 columns]"
       ]
      }
     ],
     "prompt_number": 2
    },
    {
     "cell_type": "code",
     "collapsed": false,
     "input": [
      "#calculate total revenue per customer\n",
      "df = df.groupby('Email', axis = 0, as_index=False).sum()\n",
      "df"
     ],
     "language": "python",
     "metadata": {},
     "outputs": [
      {
       "html": [
        "<div style=\"max-height:1000px;max-width:1500px;overflow:auto;\">\n",
        "<table border=\"1\" class=\"dataframe\">\n",
        "  <thead>\n",
        "    <tr style=\"text-align: right;\">\n",
        "      <th></th>\n",
        "      <th>Email</th>\n",
        "      <th>Revenue</th>\n",
        "    </tr>\n",
        "  </thead>\n",
        "  <tbody>\n",
        "    <tr>\n",
        "      <th>0   </th>\n",
        "      <td>        11435mail@mkallenberger.de</td>\n",
        "      <td>   267.17</td>\n",
        "    </tr>\n",
        "    <tr>\n",
        "      <th>1   </th>\n",
        "      <td>                     1@gargour.com</td>\n",
        "      <td>  1001.10</td>\n",
        "    </tr>\n",
        "    <tr>\n",
        "      <th>2   </th>\n",
        "      <td>                 1kttate@gmail.com</td>\n",
        "      <td>   648.00</td>\n",
        "    </tr>\n",
        "    <tr>\n",
        "      <th>3   </th>\n",
        "      <td>         1youniqueflower@gmail.com</td>\n",
        "      <td>   909.00</td>\n",
        "    </tr>\n",
        "    <tr>\n",
        "      <th>4   </th>\n",
        "      <td>                3aliaa.h@gmail.com</td>\n",
        "      <td>   160.00</td>\n",
        "    </tr>\n",
        "    <tr>\n",
        "      <th>5   </th>\n",
        "      <td>          777nadiateirah@gmail.com</td>\n",
        "      <td>   290.00</td>\n",
        "    </tr>\n",
        "    <tr>\n",
        "      <th>6   </th>\n",
        "      <td>                         A2@ed.com</td>\n",
        "      <td>    30.00</td>\n",
        "    </tr>\n",
        "    <tr>\n",
        "      <th>7   </th>\n",
        "      <td>           ASHRAF.M.ZAKI@GMAIL.COM</td>\n",
        "      <td>   300.18</td>\n",
        "    </tr>\n",
        "    <tr>\n",
        "      <th>8   </th>\n",
        "      <td>              Adhamada@hotmail.com</td>\n",
        "      <td>    61.20</td>\n",
        "    </tr>\n",
        "    <tr>\n",
        "      <th>9   </th>\n",
        "      <td>       Ahmed.Habash@moevenpick.com</td>\n",
        "      <td>   360.00</td>\n",
        "    </tr>\n",
        "    <tr>\n",
        "      <th>10  </th>\n",
        "      <td> Ahmed.adel.abdelmonam@hotmail.com</td>\n",
        "      <td>   424.00</td>\n",
        "    </tr>\n",
        "    <tr>\n",
        "      <th>11  </th>\n",
        "      <td>           Aliamossallam@gmail.com</td>\n",
        "      <td>  7096.62</td>\n",
        "    </tr>\n",
        "    <tr>\n",
        "      <th>12  </th>\n",
        "      <td>       Andrea.Heilman@aucegypt.edu</td>\n",
        "      <td>   819.10</td>\n",
        "    </tr>\n",
        "    <tr>\n",
        "      <th>13  </th>\n",
        "      <td>           Asmaa.ahmed@hotmail.com</td>\n",
        "      <td>  3404.00</td>\n",
        "    </tr>\n",
        "    <tr>\n",
        "      <th>14  </th>\n",
        "      <td>            Attia.nevien@gmail.com</td>\n",
        "      <td>   475.00</td>\n",
        "    </tr>\n",
        "    <tr>\n",
        "      <th>15  </th>\n",
        "      <td>             Ayatheone@hotmail.com</td>\n",
        "      <td>    48.00</td>\n",
        "    </tr>\n",
        "    <tr>\n",
        "      <th>16  </th>\n",
        "      <td>             Azzassallam@gmail.com</td>\n",
        "      <td>    45.00</td>\n",
        "    </tr>\n",
        "    <tr>\n",
        "      <th>17  </th>\n",
        "      <td>                 BAGBOUG@yahoo.com</td>\n",
        "      <td>   113.50</td>\n",
        "    </tr>\n",
        "    <tr>\n",
        "      <th>18  </th>\n",
        "      <td>                 Bakryna@gmail.com</td>\n",
        "      <td>   122.25</td>\n",
        "    </tr>\n",
        "    <tr>\n",
        "      <th>19  </th>\n",
        "      <td>           Basmaha2010@hotmail.com</td>\n",
        "      <td>    55.00</td>\n",
        "    </tr>\n",
        "    <tr>\n",
        "      <th>20  </th>\n",
        "      <td>                  Bebi84@gmail.com</td>\n",
        "      <td>   411.19</td>\n",
        "    </tr>\n",
        "    <tr>\n",
        "      <th>21  </th>\n",
        "      <td>                  Biro5s@yahoo.com</td>\n",
        "      <td>    52.02</td>\n",
        "    </tr>\n",
        "    <tr>\n",
        "      <th>22  </th>\n",
        "      <td>       Bouchra_erraiss@hotmail.com</td>\n",
        "      <td>   285.75</td>\n",
        "    </tr>\n",
        "    <tr>\n",
        "      <th>23  </th>\n",
        "      <td>                 Bunny_Chan@web.de</td>\n",
        "      <td>   397.00</td>\n",
        "    </tr>\n",
        "    <tr>\n",
        "      <th>24  </th>\n",
        "      <td>            Buty_Heart@hotmail.com</td>\n",
        "      <td>   332.00</td>\n",
        "    </tr>\n",
        "    <tr>\n",
        "      <th>25  </th>\n",
        "      <td>       Camillia.Marmoush@gmail.com</td>\n",
        "      <td>  1437.00</td>\n",
        "    </tr>\n",
        "    <tr>\n",
        "      <th>26  </th>\n",
        "      <td>           Carinesabbagh@gmail.com</td>\n",
        "      <td> 12189.72</td>\n",
        "    </tr>\n",
        "    <tr>\n",
        "      <th>27  </th>\n",
        "      <td>             Christine@baramki.com</td>\n",
        "      <td>   924.00</td>\n",
        "    </tr>\n",
        "    <tr>\n",
        "      <th>28  </th>\n",
        "      <td>              DINA_KADRY@YAHOO.COM</td>\n",
        "      <td>   230.00</td>\n",
        "    </tr>\n",
        "    <tr>\n",
        "      <th>29  </th>\n",
        "      <td>              Daiieldeeb@gmail.com</td>\n",
        "      <td>   118.80</td>\n",
        "    </tr>\n",
        "    <tr>\n",
        "      <th>...</th>\n",
        "      <td>...</td>\n",
        "      <td>...</td>\n",
        "    </tr>\n",
        "    <tr>\n",
        "      <th>2379</th>\n",
        "      <td>              youssefkhalil@me.com</td>\n",
        "      <td>   303.00</td>\n",
        "    </tr>\n",
        "    <tr>\n",
        "      <th>2380</th>\n",
        "      <td>          youssra.resaie@gmail.com</td>\n",
        "      <td>   242.00</td>\n",
        "    </tr>\n",
        "    <tr>\n",
        "      <th>2381</th>\n",
        "      <td>                 youssra@gmail.com</td>\n",
        "      <td>   146.40</td>\n",
        "    </tr>\n",
        "    <tr>\n",
        "      <th>2382</th>\n",
        "      <td>           youssra_kamal@yahoo.com</td>\n",
        "      <td>   753.00</td>\n",
        "    </tr>\n",
        "    <tr>\n",
        "      <th>2383</th>\n",
        "      <td>         youssraaashmawi@gmail.com</td>\n",
        "      <td>   201.00</td>\n",
        "    </tr>\n",
        "    <tr>\n",
        "      <th>2384</th>\n",
        "      <td>           yoyothetricky@gmail.com</td>\n",
        "      <td>   233.20</td>\n",
        "    </tr>\n",
        "    <tr>\n",
        "      <th>2385</th>\n",
        "      <td>               yrelraheb@gmail.com</td>\n",
        "      <td>    78.13</td>\n",
        "    </tr>\n",
        "    <tr>\n",
        "      <th>2386</th>\n",
        "      <td>               yulbiba@hotmail.com</td>\n",
        "      <td>   507.20</td>\n",
        "    </tr>\n",
        "    <tr>\n",
        "      <th>2387</th>\n",
        "      <td>             yumnakassim@gmail.com</td>\n",
        "      <td>   297.50</td>\n",
        "    </tr>\n",
        "    <tr>\n",
        "      <th>2388</th>\n",
        "      <td>              z72addas@hotmail.com</td>\n",
        "      <td>   350.85</td>\n",
        "    </tr>\n",
        "    <tr>\n",
        "      <th>2389</th>\n",
        "      <td>             zaki.farida@gmail.com</td>\n",
        "      <td>   931.50</td>\n",
        "    </tr>\n",
        "    <tr>\n",
        "      <th>2390</th>\n",
        "      <td>               zedesem65@gmail.com</td>\n",
        "      <td>   160.00</td>\n",
        "    </tr>\n",
        "    <tr>\n",
        "      <th>2391</th>\n",
        "      <td>                 zee.nap@gmail.com</td>\n",
        "      <td>    37.00</td>\n",
        "    </tr>\n",
        "    <tr>\n",
        "      <th>2392</th>\n",
        "      <td>            zeina.kassas@gmail.com</td>\n",
        "      <td>   907.60</td>\n",
        "    </tr>\n",
        "    <tr>\n",
        "      <th>2393</th>\n",
        "      <td>         zeina_ahmed95@hotmail.com</td>\n",
        "      <td>   718.80</td>\n",
        "    </tr>\n",
        "    <tr>\n",
        "      <th>2394</th>\n",
        "      <td>            zeina_naim@hotmail.com</td>\n",
        "      <td>    67.00</td>\n",
        "    </tr>\n",
        "    <tr>\n",
        "      <th>2395</th>\n",
        "      <td>         zeinabahmedtaha@yahoo.com</td>\n",
        "      <td>   106.30</td>\n",
        "    </tr>\n",
        "    <tr>\n",
        "      <th>2396</th>\n",
        "      <td>      zeinabkhalil2010@hotmail.com</td>\n",
        "      <td>   743.00</td>\n",
        "    </tr>\n",
        "    <tr>\n",
        "      <th>2397</th>\n",
        "      <td>              zeinabnour@gmail.com</td>\n",
        "      <td>    87.50</td>\n",
        "    </tr>\n",
        "    <tr>\n",
        "      <th>2398</th>\n",
        "      <td>              zeinahodroj@live.com</td>\n",
        "      <td>   380.50</td>\n",
        "    </tr>\n",
        "    <tr>\n",
        "      <th>2399</th>\n",
        "      <td>              zeinasabry@gmail.com</td>\n",
        "      <td>  1148.40</td>\n",
        "    </tr>\n",
        "    <tr>\n",
        "      <th>2400</th>\n",
        "      <td>               zeinriham@gmail.com</td>\n",
        "      <td>   336.00</td>\n",
        "    </tr>\n",
        "    <tr>\n",
        "      <th>2401</th>\n",
        "      <td>           zenaabdelbaky@gmail.com</td>\n",
        "      <td>   302.50</td>\n",
        "    </tr>\n",
        "    <tr>\n",
        "      <th>2402</th>\n",
        "      <td>            zeyadattalla@yahoo.com</td>\n",
        "      <td>    97.40</td>\n",
        "    </tr>\n",
        "    <tr>\n",
        "      <th>2403</th>\n",
        "      <td>                ziadihab@gmail.com</td>\n",
        "      <td>    47.00</td>\n",
        "    </tr>\n",
        "    <tr>\n",
        "      <th>2404</th>\n",
        "      <td>               ziadusama@ymail.com</td>\n",
        "      <td>    59.00</td>\n",
        "    </tr>\n",
        "    <tr>\n",
        "      <th>2405</th>\n",
        "      <td>               zinelhini@yahoo.com</td>\n",
        "      <td>   320.02</td>\n",
        "    </tr>\n",
        "    <tr>\n",
        "      <th>2406</th>\n",
        "      <td>                zleseman@gmail.com</td>\n",
        "      <td>  1171.57</td>\n",
        "    </tr>\n",
        "    <tr>\n",
        "      <th>2407</th>\n",
        "      <td>           zolaykha1st@hotmail.com</td>\n",
        "      <td>   610.10</td>\n",
        "    </tr>\n",
        "    <tr>\n",
        "      <th>2408</th>\n",
        "      <td>               zshafei@outlook.com</td>\n",
        "      <td>  2933.00</td>\n",
        "    </tr>\n",
        "  </tbody>\n",
        "</table>\n",
        "<p>2409 rows \u00d7 2 columns</p>\n",
        "</div>"
       ],
       "metadata": {},
       "output_type": "pyout",
       "prompt_number": 3,
       "text": [
        "                                  Email   Revenue\n",
        "0            11435mail@mkallenberger.de    267.17\n",
        "1                         1@gargour.com   1001.10\n",
        "2                     1kttate@gmail.com    648.00\n",
        "3             1youniqueflower@gmail.com    909.00\n",
        "4                    3aliaa.h@gmail.com    160.00\n",
        "5              777nadiateirah@gmail.com    290.00\n",
        "6                             A2@ed.com     30.00\n",
        "7               ASHRAF.M.ZAKI@GMAIL.COM    300.18\n",
        "8                  Adhamada@hotmail.com     61.20\n",
        "9           Ahmed.Habash@moevenpick.com    360.00\n",
        "10    Ahmed.adel.abdelmonam@hotmail.com    424.00\n",
        "11              Aliamossallam@gmail.com   7096.62\n",
        "12          Andrea.Heilman@aucegypt.edu    819.10\n",
        "13              Asmaa.ahmed@hotmail.com   3404.00\n",
        "14               Attia.nevien@gmail.com    475.00\n",
        "15                Ayatheone@hotmail.com     48.00\n",
        "16                Azzassallam@gmail.com     45.00\n",
        "17                    BAGBOUG@yahoo.com    113.50\n",
        "18                    Bakryna@gmail.com    122.25\n",
        "19              Basmaha2010@hotmail.com     55.00\n",
        "20                     Bebi84@gmail.com    411.19\n",
        "21                     Biro5s@yahoo.com     52.02\n",
        "22          Bouchra_erraiss@hotmail.com    285.75\n",
        "23                    Bunny_Chan@web.de    397.00\n",
        "24               Buty_Heart@hotmail.com    332.00\n",
        "25          Camillia.Marmoush@gmail.com   1437.00\n",
        "26              Carinesabbagh@gmail.com  12189.72\n",
        "27                Christine@baramki.com    924.00\n",
        "28                 DINA_KADRY@YAHOO.COM    230.00\n",
        "29                 Daiieldeeb@gmail.com    118.80\n",
        "...                                 ...       ...\n",
        "2379               youssefkhalil@me.com    303.00\n",
        "2380           youssra.resaie@gmail.com    242.00\n",
        "2381                  youssra@gmail.com    146.40\n",
        "2382            youssra_kamal@yahoo.com    753.00\n",
        "2383          youssraaashmawi@gmail.com    201.00\n",
        "2384            yoyothetricky@gmail.com    233.20\n",
        "2385                yrelraheb@gmail.com     78.13\n",
        "2386                yulbiba@hotmail.com    507.20\n",
        "2387              yumnakassim@gmail.com    297.50\n",
        "2388               z72addas@hotmail.com    350.85\n",
        "2389              zaki.farida@gmail.com    931.50\n",
        "2390                zedesem65@gmail.com    160.00\n",
        "2391                  zee.nap@gmail.com     37.00\n",
        "2392             zeina.kassas@gmail.com    907.60\n",
        "2393          zeina_ahmed95@hotmail.com    718.80\n",
        "2394             zeina_naim@hotmail.com     67.00\n",
        "2395          zeinabahmedtaha@yahoo.com    106.30\n",
        "2396       zeinabkhalil2010@hotmail.com    743.00\n",
        "2397               zeinabnour@gmail.com     87.50\n",
        "2398               zeinahodroj@live.com    380.50\n",
        "2399               zeinasabry@gmail.com   1148.40\n",
        "2400                zeinriham@gmail.com    336.00\n",
        "2401            zenaabdelbaky@gmail.com    302.50\n",
        "2402             zeyadattalla@yahoo.com     97.40\n",
        "2403                 ziadihab@gmail.com     47.00\n",
        "2404                ziadusama@ymail.com     59.00\n",
        "2405                zinelhini@yahoo.com    320.02\n",
        "2406                 zleseman@gmail.com   1171.57\n",
        "2407            zolaykha1st@hotmail.com    610.10\n",
        "2408                zshafei@outlook.com   2933.00\n",
        "\n",
        "[2409 rows x 2 columns]"
       ]
      }
     ],
     "prompt_number": 3
    },
    {
     "cell_type": "code",
     "collapsed": false,
     "input": [
      "#get required columns and rename\n",
      "df1 = df1[['Name', 'Email']]\n",
      "df1.columns = ['Orders', 'Email']\n",
      "df1 = df1.drop_duplicates().reset_index().drop('index', 1)\n",
      "df1"
     ],
     "language": "python",
     "metadata": {},
     "outputs": [
      {
       "html": [
        "<div style=\"max-height:1000px;max-width:1500px;overflow:auto;\">\n",
        "<table border=\"1\" class=\"dataframe\">\n",
        "  <thead>\n",
        "    <tr style=\"text-align: right;\">\n",
        "      <th></th>\n",
        "      <th>Orders</th>\n",
        "      <th>Email</th>\n",
        "    </tr>\n",
        "  </thead>\n",
        "  <tbody>\n",
        "    <tr>\n",
        "      <th>0   </th>\n",
        "      <td> #10367</td>\n",
        "      <td>       rehabmansour@gmail.com</td>\n",
        "    </tr>\n",
        "    <tr>\n",
        "      <th>1   </th>\n",
        "      <td> #10366</td>\n",
        "      <td>          nabouheif@yahoo.com</td>\n",
        "    </tr>\n",
        "    <tr>\n",
        "      <th>2   </th>\n",
        "      <td> #10365</td>\n",
        "      <td>       fracicardi@hotmail.com</td>\n",
        "    </tr>\n",
        "    <tr>\n",
        "      <th>3   </th>\n",
        "      <td> #10364</td>\n",
        "      <td>       ahmed.fakhry@gmail.com</td>\n",
        "    </tr>\n",
        "    <tr>\n",
        "      <th>4   </th>\n",
        "      <td> #10363</td>\n",
        "      <td>       ahmed.fakhry@gmail.com</td>\n",
        "    </tr>\n",
        "    <tr>\n",
        "      <th>5   </th>\n",
        "      <td> #10362</td>\n",
        "      <td>         Missilou11@yahoo.com</td>\n",
        "    </tr>\n",
        "    <tr>\n",
        "      <th>6   </th>\n",
        "      <td> #10361</td>\n",
        "      <td>      sallysalem123@gmail.com</td>\n",
        "    </tr>\n",
        "    <tr>\n",
        "      <th>7   </th>\n",
        "      <td> #10360</td>\n",
        "      <td>     nayera_fadel@hotmail.com</td>\n",
        "    </tr>\n",
        "    <tr>\n",
        "      <th>8   </th>\n",
        "      <td> #10359</td>\n",
        "      <td>        raoufzdn553@gmail.com</td>\n",
        "    </tr>\n",
        "    <tr>\n",
        "      <th>9   </th>\n",
        "      <td> #10358</td>\n",
        "      <td>       gaylynmbogho@yahoo.com</td>\n",
        "    </tr>\n",
        "    <tr>\n",
        "      <th>10  </th>\n",
        "      <td> #10357</td>\n",
        "      <td>         oshahavi13@gmail.com</td>\n",
        "    </tr>\n",
        "    <tr>\n",
        "      <th>11  </th>\n",
        "      <td> #10356</td>\n",
        "      <td>         Daiieldeeb@gmail.com</td>\n",
        "    </tr>\n",
        "    <tr>\n",
        "      <th>12  </th>\n",
        "      <td> #10355</td>\n",
        "      <td>          yara.azam@gmail.com</td>\n",
        "    </tr>\n",
        "    <tr>\n",
        "      <th>13  </th>\n",
        "      <td> #10354</td>\n",
        "      <td>        dalia_allam@yahoo.com</td>\n",
        "    </tr>\n",
        "    <tr>\n",
        "      <th>14  </th>\n",
        "      <td> #10353</td>\n",
        "      <td>        elhanem52@hotmail.com</td>\n",
        "    </tr>\n",
        "    <tr>\n",
        "      <th>15  </th>\n",
        "      <td> #10352</td>\n",
        "      <td>     tarek_seddik@hotmail.com</td>\n",
        "    </tr>\n",
        "    <tr>\n",
        "      <th>16  </th>\n",
        "      <td> #10351</td>\n",
        "      <td>      maie.nomrossy@gmail.com</td>\n",
        "    </tr>\n",
        "    <tr>\n",
        "      <th>17  </th>\n",
        "      <td> #10350</td>\n",
        "      <td>        hazem.shamy@gmail.com</td>\n",
        "    </tr>\n",
        "    <tr>\n",
        "      <th>18  </th>\n",
        "      <td> #10349</td>\n",
        "      <td>       maya.p.nawal@gmail.com</td>\n",
        "    </tr>\n",
        "    <tr>\n",
        "      <th>19  </th>\n",
        "      <td> #10348</td>\n",
        "      <td>    jamesmorgan0091@gmail.com</td>\n",
        "    </tr>\n",
        "    <tr>\n",
        "      <th>20  </th>\n",
        "      <td> #10347</td>\n",
        "      <td>         israa_s@aucegypt.edu</td>\n",
        "    </tr>\n",
        "    <tr>\n",
        "      <th>21  </th>\n",
        "      <td> #10346</td>\n",
        "      <td>       RODY.DOVE123@GMAIL.COM</td>\n",
        "    </tr>\n",
        "    <tr>\n",
        "      <th>22  </th>\n",
        "      <td> #10345</td>\n",
        "      <td>       amaghraby@mediawave.me</td>\n",
        "    </tr>\n",
        "    <tr>\n",
        "      <th>23  </th>\n",
        "      <td> #10344</td>\n",
        "      <td>       RODY.DOVE123@GMAIL.COM</td>\n",
        "    </tr>\n",
        "    <tr>\n",
        "      <th>24  </th>\n",
        "      <td> #10343</td>\n",
        "      <td>          hibba_b@hotmail.com</td>\n",
        "    </tr>\n",
        "    <tr>\n",
        "      <th>25  </th>\n",
        "      <td> #10342</td>\n",
        "      <td>       pascalenader@gmail.com</td>\n",
        "    </tr>\n",
        "    <tr>\n",
        "      <th>26  </th>\n",
        "      <td> #10341</td>\n",
        "      <td>       doaa.khattab@gmail.com</td>\n",
        "    </tr>\n",
        "    <tr>\n",
        "      <th>27  </th>\n",
        "      <td> #10340</td>\n",
        "      <td>       sunset_456@hotmail.com</td>\n",
        "    </tr>\n",
        "    <tr>\n",
        "      <th>28  </th>\n",
        "      <td> #10339</td>\n",
        "      <td>   colleen_lovely@hotmail.com</td>\n",
        "    </tr>\n",
        "    <tr>\n",
        "      <th>29  </th>\n",
        "      <td> #10338</td>\n",
        "      <td>             imrhazi@yahoo.fr</td>\n",
        "    </tr>\n",
        "    <tr>\n",
        "      <th>...</th>\n",
        "      <td>...</td>\n",
        "      <td>...</td>\n",
        "    </tr>\n",
        "    <tr>\n",
        "      <th>9286</th>\n",
        "      <td>  #1035</td>\n",
        "      <td>       mireilleamin@yahoo.com</td>\n",
        "    </tr>\n",
        "    <tr>\n",
        "      <th>9287</th>\n",
        "      <td>  #1034</td>\n",
        "      <td>   Ihab.derias@laroche.com.eg</td>\n",
        "    </tr>\n",
        "    <tr>\n",
        "      <th>9288</th>\n",
        "      <td>  #1033</td>\n",
        "      <td>         Adhamada@hotmail.com</td>\n",
        "    </tr>\n",
        "    <tr>\n",
        "      <th>9289</th>\n",
        "      <td>  #1032</td>\n",
        "      <td>     houssam.elokda@gmail.com</td>\n",
        "    </tr>\n",
        "    <tr>\n",
        "      <th>9290</th>\n",
        "      <td>  #1031</td>\n",
        "      <td>          Hania7894@gmail.com</td>\n",
        "    </tr>\n",
        "    <tr>\n",
        "      <th>9291</th>\n",
        "      <td>  #1030</td>\n",
        "      <td>          Hania7894@gmail.com</td>\n",
        "    </tr>\n",
        "    <tr>\n",
        "      <th>9292</th>\n",
        "      <td>  #1029</td>\n",
        "      <td>            Mamazzz@gmail.com</td>\n",
        "    </tr>\n",
        "    <tr>\n",
        "      <th>9293</th>\n",
        "      <td>  #1028</td>\n",
        "      <td>            asony11@yahoo.com</td>\n",
        "    </tr>\n",
        "    <tr>\n",
        "      <th>9294</th>\n",
        "      <td>  #1027</td>\n",
        "      <td>      salwa_saiid@hotmail.com</td>\n",
        "    </tr>\n",
        "    <tr>\n",
        "      <th>9295</th>\n",
        "      <td>  #1026</td>\n",
        "      <td> djamila.benderbous@gmail.com</td>\n",
        "    </tr>\n",
        "    <tr>\n",
        "      <th>9296</th>\n",
        "      <td>  #1025</td>\n",
        "      <td>      milomilogindi@yahoo.com</td>\n",
        "    </tr>\n",
        "    <tr>\n",
        "      <th>9297</th>\n",
        "      <td>  #1024</td>\n",
        "      <td>     raghebelgammal@yahoo.com</td>\n",
        "    </tr>\n",
        "    <tr>\n",
        "      <th>9298</th>\n",
        "      <td>  #1023</td>\n",
        "      <td>      t_el_gammal@hotmail.com</td>\n",
        "    </tr>\n",
        "    <tr>\n",
        "      <th>9299</th>\n",
        "      <td>  #1022</td>\n",
        "      <td>       lik-novikova@yandex.ru</td>\n",
        "    </tr>\n",
        "    <tr>\n",
        "      <th>9300</th>\n",
        "      <td>  #1021</td>\n",
        "      <td>        fairymaid82@yahoo.com</td>\n",
        "    </tr>\n",
        "    <tr>\n",
        "      <th>9301</th>\n",
        "      <td>  #1020</td>\n",
        "      <td>      milomilogindi@yahoo.com</td>\n",
        "    </tr>\n",
        "    <tr>\n",
        "      <th>9302</th>\n",
        "      <td>  #1019</td>\n",
        "      <td>      t_el_gammal@hotmail.com</td>\n",
        "    </tr>\n",
        "    <tr>\n",
        "      <th>9303</th>\n",
        "      <td>  #1017</td>\n",
        "      <td>      t_el_gammal@hotmail.com</td>\n",
        "    </tr>\n",
        "    <tr>\n",
        "      <th>9304</th>\n",
        "      <td>  #1016</td>\n",
        "      <td>       lik-novikova@yandex.ru</td>\n",
        "    </tr>\n",
        "    <tr>\n",
        "      <th>9305</th>\n",
        "      <td>  #1015</td>\n",
        "      <td>             Biro5s@yahoo.com</td>\n",
        "    </tr>\n",
        "    <tr>\n",
        "      <th>9306</th>\n",
        "      <td>  #1014</td>\n",
        "      <td>         nini.etoile@voila.fr</td>\n",
        "    </tr>\n",
        "    <tr>\n",
        "      <th>9307</th>\n",
        "      <td>  #1013</td>\n",
        "      <td>       lik-novikova@yandex.ru</td>\n",
        "    </tr>\n",
        "    <tr>\n",
        "      <th>9308</th>\n",
        "      <td>  #1012</td>\n",
        "      <td>          bettyhedrich@gmx.de</td>\n",
        "    </tr>\n",
        "    <tr>\n",
        "      <th>9309</th>\n",
        "      <td>  #1011</td>\n",
        "      <td>                rulah@msn.com</td>\n",
        "    </tr>\n",
        "    <tr>\n",
        "      <th>9310</th>\n",
        "      <td>  #1010</td>\n",
        "      <td>          milda_b@hotmail.com</td>\n",
        "    </tr>\n",
        "    <tr>\n",
        "      <th>9311</th>\n",
        "      <td>  #1009</td>\n",
        "      <td>          bente.ring@yahoo.no</td>\n",
        "    </tr>\n",
        "    <tr>\n",
        "      <th>9312</th>\n",
        "      <td>  #1008</td>\n",
        "      <td>          bente.ring@yahoo.no</td>\n",
        "    </tr>\n",
        "    <tr>\n",
        "      <th>9313</th>\n",
        "      <td>  #1007</td>\n",
        "      <td>       lik-novikova@yandex.ru</td>\n",
        "    </tr>\n",
        "    <tr>\n",
        "      <th>9314</th>\n",
        "      <td>  #1006</td>\n",
        "      <td>          bente.ring@yahoo.no</td>\n",
        "    </tr>\n",
        "    <tr>\n",
        "      <th>9315</th>\n",
        "      <td>  #1005</td>\n",
        "      <td>         cathypod@hotmail.com</td>\n",
        "    </tr>\n",
        "  </tbody>\n",
        "</table>\n",
        "<p>9316 rows \u00d7 2 columns</p>\n",
        "</div>"
       ],
       "metadata": {},
       "output_type": "pyout",
       "prompt_number": 4,
       "text": [
        "      Orders                         Email\n",
        "0     #10367        rehabmansour@gmail.com\n",
        "1     #10366           nabouheif@yahoo.com\n",
        "2     #10365        fracicardi@hotmail.com\n",
        "3     #10364        ahmed.fakhry@gmail.com\n",
        "4     #10363        ahmed.fakhry@gmail.com\n",
        "5     #10362          Missilou11@yahoo.com\n",
        "6     #10361       sallysalem123@gmail.com\n",
        "7     #10360      nayera_fadel@hotmail.com\n",
        "8     #10359         raoufzdn553@gmail.com\n",
        "9     #10358        gaylynmbogho@yahoo.com\n",
        "10    #10357          oshahavi13@gmail.com\n",
        "11    #10356          Daiieldeeb@gmail.com\n",
        "12    #10355           yara.azam@gmail.com\n",
        "13    #10354         dalia_allam@yahoo.com\n",
        "14    #10353         elhanem52@hotmail.com\n",
        "15    #10352      tarek_seddik@hotmail.com\n",
        "16    #10351       maie.nomrossy@gmail.com\n",
        "17    #10350         hazem.shamy@gmail.com\n",
        "18    #10349        maya.p.nawal@gmail.com\n",
        "19    #10348     jamesmorgan0091@gmail.com\n",
        "20    #10347          israa_s@aucegypt.edu\n",
        "21    #10346        RODY.DOVE123@GMAIL.COM\n",
        "22    #10345        amaghraby@mediawave.me\n",
        "23    #10344        RODY.DOVE123@GMAIL.COM\n",
        "24    #10343           hibba_b@hotmail.com\n",
        "25    #10342        pascalenader@gmail.com\n",
        "26    #10341        doaa.khattab@gmail.com\n",
        "27    #10340        sunset_456@hotmail.com\n",
        "28    #10339    colleen_lovely@hotmail.com\n",
        "29    #10338              imrhazi@yahoo.fr\n",
        "...      ...                           ...\n",
        "9286   #1035        mireilleamin@yahoo.com\n",
        "9287   #1034    Ihab.derias@laroche.com.eg\n",
        "9288   #1033          Adhamada@hotmail.com\n",
        "9289   #1032      houssam.elokda@gmail.com\n",
        "9290   #1031           Hania7894@gmail.com\n",
        "9291   #1030           Hania7894@gmail.com\n",
        "9292   #1029             Mamazzz@gmail.com\n",
        "9293   #1028             asony11@yahoo.com\n",
        "9294   #1027       salwa_saiid@hotmail.com\n",
        "9295   #1026  djamila.benderbous@gmail.com\n",
        "9296   #1025       milomilogindi@yahoo.com\n",
        "9297   #1024      raghebelgammal@yahoo.com\n",
        "9298   #1023       t_el_gammal@hotmail.com\n",
        "9299   #1022        lik-novikova@yandex.ru\n",
        "9300   #1021         fairymaid82@yahoo.com\n",
        "9301   #1020       milomilogindi@yahoo.com\n",
        "9302   #1019       t_el_gammal@hotmail.com\n",
        "9303   #1017       t_el_gammal@hotmail.com\n",
        "9304   #1016        lik-novikova@yandex.ru\n",
        "9305   #1015              Biro5s@yahoo.com\n",
        "9306   #1014          nini.etoile@voila.fr\n",
        "9307   #1013        lik-novikova@yandex.ru\n",
        "9308   #1012           bettyhedrich@gmx.de\n",
        "9309   #1011                 rulah@msn.com\n",
        "9310   #1010           milda_b@hotmail.com\n",
        "9311   #1009           bente.ring@yahoo.no\n",
        "9312   #1008           bente.ring@yahoo.no\n",
        "9313   #1007        lik-novikova@yandex.ru\n",
        "9314   #1006           bente.ring@yahoo.no\n",
        "9315   #1005          cathypod@hotmail.com\n",
        "\n",
        "[9316 rows x 2 columns]"
       ]
      }
     ],
     "prompt_number": 4
    },
    {
     "cell_type": "code",
     "collapsed": false,
     "input": [
      "#calculate total orders per customer\n",
      "df1['Orders'] = 1\n",
      "df1 = df1.groupby('Email', axis = 0, as_index=False).sum()\n",
      "df = df.merge(df1, on = ['Email'], how = 'inner')\n",
      "df"
     ],
     "language": "python",
     "metadata": {},
     "outputs": [
      {
       "html": [
        "<div style=\"max-height:1000px;max-width:1500px;overflow:auto;\">\n",
        "<table border=\"1\" class=\"dataframe\">\n",
        "  <thead>\n",
        "    <tr style=\"text-align: right;\">\n",
        "      <th></th>\n",
        "      <th>Email</th>\n",
        "      <th>Revenue</th>\n",
        "      <th>Orders</th>\n",
        "    </tr>\n",
        "  </thead>\n",
        "  <tbody>\n",
        "    <tr>\n",
        "      <th>0   </th>\n",
        "      <td>        11435mail@mkallenberger.de</td>\n",
        "      <td>   267.17</td>\n",
        "      <td>  1</td>\n",
        "    </tr>\n",
        "    <tr>\n",
        "      <th>1   </th>\n",
        "      <td>                     1@gargour.com</td>\n",
        "      <td>  1001.10</td>\n",
        "      <td>  2</td>\n",
        "    </tr>\n",
        "    <tr>\n",
        "      <th>2   </th>\n",
        "      <td>                 1kttate@gmail.com</td>\n",
        "      <td>   648.00</td>\n",
        "      <td>  4</td>\n",
        "    </tr>\n",
        "    <tr>\n",
        "      <th>3   </th>\n",
        "      <td>         1youniqueflower@gmail.com</td>\n",
        "      <td>   909.00</td>\n",
        "      <td>  3</td>\n",
        "    </tr>\n",
        "    <tr>\n",
        "      <th>4   </th>\n",
        "      <td>                3aliaa.h@gmail.com</td>\n",
        "      <td>   160.00</td>\n",
        "      <td>  3</td>\n",
        "    </tr>\n",
        "    <tr>\n",
        "      <th>5   </th>\n",
        "      <td>          777nadiateirah@gmail.com</td>\n",
        "      <td>   290.00</td>\n",
        "      <td>  2</td>\n",
        "    </tr>\n",
        "    <tr>\n",
        "      <th>6   </th>\n",
        "      <td>                         A2@ed.com</td>\n",
        "      <td>    30.00</td>\n",
        "      <td>  1</td>\n",
        "    </tr>\n",
        "    <tr>\n",
        "      <th>7   </th>\n",
        "      <td>           ASHRAF.M.ZAKI@GMAIL.COM</td>\n",
        "      <td>   300.18</td>\n",
        "      <td>  1</td>\n",
        "    </tr>\n",
        "    <tr>\n",
        "      <th>8   </th>\n",
        "      <td>              Adhamada@hotmail.com</td>\n",
        "      <td>    61.20</td>\n",
        "      <td>  1</td>\n",
        "    </tr>\n",
        "    <tr>\n",
        "      <th>9   </th>\n",
        "      <td>       Ahmed.Habash@moevenpick.com</td>\n",
        "      <td>   360.00</td>\n",
        "      <td>  1</td>\n",
        "    </tr>\n",
        "    <tr>\n",
        "      <th>10  </th>\n",
        "      <td> Ahmed.adel.abdelmonam@hotmail.com</td>\n",
        "      <td>   424.00</td>\n",
        "      <td>  1</td>\n",
        "    </tr>\n",
        "    <tr>\n",
        "      <th>11  </th>\n",
        "      <td>           Aliamossallam@gmail.com</td>\n",
        "      <td>  7096.62</td>\n",
        "      <td> 23</td>\n",
        "    </tr>\n",
        "    <tr>\n",
        "      <th>12  </th>\n",
        "      <td>       Andrea.Heilman@aucegypt.edu</td>\n",
        "      <td>   819.10</td>\n",
        "      <td>  4</td>\n",
        "    </tr>\n",
        "    <tr>\n",
        "      <th>13  </th>\n",
        "      <td>           Asmaa.ahmed@hotmail.com</td>\n",
        "      <td>  3404.00</td>\n",
        "      <td>  4</td>\n",
        "    </tr>\n",
        "    <tr>\n",
        "      <th>14  </th>\n",
        "      <td>            Attia.nevien@gmail.com</td>\n",
        "      <td>   475.00</td>\n",
        "      <td>  3</td>\n",
        "    </tr>\n",
        "    <tr>\n",
        "      <th>15  </th>\n",
        "      <td>             Ayatheone@hotmail.com</td>\n",
        "      <td>    48.00</td>\n",
        "      <td>  1</td>\n",
        "    </tr>\n",
        "    <tr>\n",
        "      <th>16  </th>\n",
        "      <td>             Azzassallam@gmail.com</td>\n",
        "      <td>    45.00</td>\n",
        "      <td>  1</td>\n",
        "    </tr>\n",
        "    <tr>\n",
        "      <th>17  </th>\n",
        "      <td>                 BAGBOUG@yahoo.com</td>\n",
        "      <td>   113.50</td>\n",
        "      <td>  1</td>\n",
        "    </tr>\n",
        "    <tr>\n",
        "      <th>18  </th>\n",
        "      <td>                 Bakryna@gmail.com</td>\n",
        "      <td>   122.25</td>\n",
        "      <td>  1</td>\n",
        "    </tr>\n",
        "    <tr>\n",
        "      <th>19  </th>\n",
        "      <td>           Basmaha2010@hotmail.com</td>\n",
        "      <td>    55.00</td>\n",
        "      <td>  1</td>\n",
        "    </tr>\n",
        "    <tr>\n",
        "      <th>20  </th>\n",
        "      <td>                  Bebi84@gmail.com</td>\n",
        "      <td>   411.19</td>\n",
        "      <td>  3</td>\n",
        "    </tr>\n",
        "    <tr>\n",
        "      <th>21  </th>\n",
        "      <td>                  Biro5s@yahoo.com</td>\n",
        "      <td>    52.02</td>\n",
        "      <td>  1</td>\n",
        "    </tr>\n",
        "    <tr>\n",
        "      <th>22  </th>\n",
        "      <td>       Bouchra_erraiss@hotmail.com</td>\n",
        "      <td>   285.75</td>\n",
        "      <td>  1</td>\n",
        "    </tr>\n",
        "    <tr>\n",
        "      <th>23  </th>\n",
        "      <td>                 Bunny_Chan@web.de</td>\n",
        "      <td>   397.00</td>\n",
        "      <td>  3</td>\n",
        "    </tr>\n",
        "    <tr>\n",
        "      <th>24  </th>\n",
        "      <td>            Buty_Heart@hotmail.com</td>\n",
        "      <td>   332.00</td>\n",
        "      <td>  1</td>\n",
        "    </tr>\n",
        "    <tr>\n",
        "      <th>25  </th>\n",
        "      <td>       Camillia.Marmoush@gmail.com</td>\n",
        "      <td>  1437.00</td>\n",
        "      <td>  5</td>\n",
        "    </tr>\n",
        "    <tr>\n",
        "      <th>26  </th>\n",
        "      <td>           Carinesabbagh@gmail.com</td>\n",
        "      <td> 12189.72</td>\n",
        "      <td> 37</td>\n",
        "    </tr>\n",
        "    <tr>\n",
        "      <th>27  </th>\n",
        "      <td>             Christine@baramki.com</td>\n",
        "      <td>   924.00</td>\n",
        "      <td>  2</td>\n",
        "    </tr>\n",
        "    <tr>\n",
        "      <th>28  </th>\n",
        "      <td>              DINA_KADRY@YAHOO.COM</td>\n",
        "      <td>   230.00</td>\n",
        "      <td>  1</td>\n",
        "    </tr>\n",
        "    <tr>\n",
        "      <th>29  </th>\n",
        "      <td>              Daiieldeeb@gmail.com</td>\n",
        "      <td>   118.80</td>\n",
        "      <td>  1</td>\n",
        "    </tr>\n",
        "    <tr>\n",
        "      <th>...</th>\n",
        "      <td>...</td>\n",
        "      <td>...</td>\n",
        "      <td>...</td>\n",
        "    </tr>\n",
        "    <tr>\n",
        "      <th>2379</th>\n",
        "      <td>              youssefkhalil@me.com</td>\n",
        "      <td>   303.00</td>\n",
        "      <td>  3</td>\n",
        "    </tr>\n",
        "    <tr>\n",
        "      <th>2380</th>\n",
        "      <td>          youssra.resaie@gmail.com</td>\n",
        "      <td>   242.00</td>\n",
        "      <td>  1</td>\n",
        "    </tr>\n",
        "    <tr>\n",
        "      <th>2381</th>\n",
        "      <td>                 youssra@gmail.com</td>\n",
        "      <td>   146.40</td>\n",
        "      <td>  1</td>\n",
        "    </tr>\n",
        "    <tr>\n",
        "      <th>2382</th>\n",
        "      <td>           youssra_kamal@yahoo.com</td>\n",
        "      <td>   753.00</td>\n",
        "      <td>  3</td>\n",
        "    </tr>\n",
        "    <tr>\n",
        "      <th>2383</th>\n",
        "      <td>         youssraaashmawi@gmail.com</td>\n",
        "      <td>   201.00</td>\n",
        "      <td>  1</td>\n",
        "    </tr>\n",
        "    <tr>\n",
        "      <th>2384</th>\n",
        "      <td>           yoyothetricky@gmail.com</td>\n",
        "      <td>   233.20</td>\n",
        "      <td>  2</td>\n",
        "    </tr>\n",
        "    <tr>\n",
        "      <th>2385</th>\n",
        "      <td>               yrelraheb@gmail.com</td>\n",
        "      <td>    78.13</td>\n",
        "      <td>  1</td>\n",
        "    </tr>\n",
        "    <tr>\n",
        "      <th>2386</th>\n",
        "      <td>               yulbiba@hotmail.com</td>\n",
        "      <td>   507.20</td>\n",
        "      <td>  4</td>\n",
        "    </tr>\n",
        "    <tr>\n",
        "      <th>2387</th>\n",
        "      <td>             yumnakassim@gmail.com</td>\n",
        "      <td>   297.50</td>\n",
        "      <td>  2</td>\n",
        "    </tr>\n",
        "    <tr>\n",
        "      <th>2388</th>\n",
        "      <td>              z72addas@hotmail.com</td>\n",
        "      <td>   350.85</td>\n",
        "      <td>  1</td>\n",
        "    </tr>\n",
        "    <tr>\n",
        "      <th>2389</th>\n",
        "      <td>             zaki.farida@gmail.com</td>\n",
        "      <td>   931.50</td>\n",
        "      <td>  5</td>\n",
        "    </tr>\n",
        "    <tr>\n",
        "      <th>2390</th>\n",
        "      <td>               zedesem65@gmail.com</td>\n",
        "      <td>   160.00</td>\n",
        "      <td>  1</td>\n",
        "    </tr>\n",
        "    <tr>\n",
        "      <th>2391</th>\n",
        "      <td>                 zee.nap@gmail.com</td>\n",
        "      <td>    37.00</td>\n",
        "      <td>  1</td>\n",
        "    </tr>\n",
        "    <tr>\n",
        "      <th>2392</th>\n",
        "      <td>            zeina.kassas@gmail.com</td>\n",
        "      <td>   907.60</td>\n",
        "      <td>  6</td>\n",
        "    </tr>\n",
        "    <tr>\n",
        "      <th>2393</th>\n",
        "      <td>         zeina_ahmed95@hotmail.com</td>\n",
        "      <td>   718.80</td>\n",
        "      <td>  1</td>\n",
        "    </tr>\n",
        "    <tr>\n",
        "      <th>2394</th>\n",
        "      <td>            zeina_naim@hotmail.com</td>\n",
        "      <td>    67.00</td>\n",
        "      <td>  1</td>\n",
        "    </tr>\n",
        "    <tr>\n",
        "      <th>2395</th>\n",
        "      <td>         zeinabahmedtaha@yahoo.com</td>\n",
        "      <td>   106.30</td>\n",
        "      <td>  1</td>\n",
        "    </tr>\n",
        "    <tr>\n",
        "      <th>2396</th>\n",
        "      <td>      zeinabkhalil2010@hotmail.com</td>\n",
        "      <td>   743.00</td>\n",
        "      <td>  3</td>\n",
        "    </tr>\n",
        "    <tr>\n",
        "      <th>2397</th>\n",
        "      <td>              zeinabnour@gmail.com</td>\n",
        "      <td>    87.50</td>\n",
        "      <td>  2</td>\n",
        "    </tr>\n",
        "    <tr>\n",
        "      <th>2398</th>\n",
        "      <td>              zeinahodroj@live.com</td>\n",
        "      <td>   380.50</td>\n",
        "      <td>  2</td>\n",
        "    </tr>\n",
        "    <tr>\n",
        "      <th>2399</th>\n",
        "      <td>              zeinasabry@gmail.com</td>\n",
        "      <td>  1148.40</td>\n",
        "      <td>  7</td>\n",
        "    </tr>\n",
        "    <tr>\n",
        "      <th>2400</th>\n",
        "      <td>               zeinriham@gmail.com</td>\n",
        "      <td>   336.00</td>\n",
        "      <td>  2</td>\n",
        "    </tr>\n",
        "    <tr>\n",
        "      <th>2401</th>\n",
        "      <td>           zenaabdelbaky@gmail.com</td>\n",
        "      <td>   302.50</td>\n",
        "      <td>  2</td>\n",
        "    </tr>\n",
        "    <tr>\n",
        "      <th>2402</th>\n",
        "      <td>            zeyadattalla@yahoo.com</td>\n",
        "      <td>    97.40</td>\n",
        "      <td>  1</td>\n",
        "    </tr>\n",
        "    <tr>\n",
        "      <th>2403</th>\n",
        "      <td>                ziadihab@gmail.com</td>\n",
        "      <td>    47.00</td>\n",
        "      <td>  1</td>\n",
        "    </tr>\n",
        "    <tr>\n",
        "      <th>2404</th>\n",
        "      <td>               ziadusama@ymail.com</td>\n",
        "      <td>    59.00</td>\n",
        "      <td>  1</td>\n",
        "    </tr>\n",
        "    <tr>\n",
        "      <th>2405</th>\n",
        "      <td>               zinelhini@yahoo.com</td>\n",
        "      <td>   320.02</td>\n",
        "      <td>  1</td>\n",
        "    </tr>\n",
        "    <tr>\n",
        "      <th>2406</th>\n",
        "      <td>                zleseman@gmail.com</td>\n",
        "      <td>  1171.57</td>\n",
        "      <td>  2</td>\n",
        "    </tr>\n",
        "    <tr>\n",
        "      <th>2407</th>\n",
        "      <td>           zolaykha1st@hotmail.com</td>\n",
        "      <td>   610.10</td>\n",
        "      <td>  1</td>\n",
        "    </tr>\n",
        "    <tr>\n",
        "      <th>2408</th>\n",
        "      <td>               zshafei@outlook.com</td>\n",
        "      <td>  2933.00</td>\n",
        "      <td>  7</td>\n",
        "    </tr>\n",
        "  </tbody>\n",
        "</table>\n",
        "<p>2409 rows \u00d7 3 columns</p>\n",
        "</div>"
       ],
       "metadata": {},
       "output_type": "pyout",
       "prompt_number": 5,
       "text": [
        "                                  Email   Revenue  Orders\n",
        "0            11435mail@mkallenberger.de    267.17       1\n",
        "1                         1@gargour.com   1001.10       2\n",
        "2                     1kttate@gmail.com    648.00       4\n",
        "3             1youniqueflower@gmail.com    909.00       3\n",
        "4                    3aliaa.h@gmail.com    160.00       3\n",
        "5              777nadiateirah@gmail.com    290.00       2\n",
        "6                             A2@ed.com     30.00       1\n",
        "7               ASHRAF.M.ZAKI@GMAIL.COM    300.18       1\n",
        "8                  Adhamada@hotmail.com     61.20       1\n",
        "9           Ahmed.Habash@moevenpick.com    360.00       1\n",
        "10    Ahmed.adel.abdelmonam@hotmail.com    424.00       1\n",
        "11              Aliamossallam@gmail.com   7096.62      23\n",
        "12          Andrea.Heilman@aucegypt.edu    819.10       4\n",
        "13              Asmaa.ahmed@hotmail.com   3404.00       4\n",
        "14               Attia.nevien@gmail.com    475.00       3\n",
        "15                Ayatheone@hotmail.com     48.00       1\n",
        "16                Azzassallam@gmail.com     45.00       1\n",
        "17                    BAGBOUG@yahoo.com    113.50       1\n",
        "18                    Bakryna@gmail.com    122.25       1\n",
        "19              Basmaha2010@hotmail.com     55.00       1\n",
        "20                     Bebi84@gmail.com    411.19       3\n",
        "21                     Biro5s@yahoo.com     52.02       1\n",
        "22          Bouchra_erraiss@hotmail.com    285.75       1\n",
        "23                    Bunny_Chan@web.de    397.00       3\n",
        "24               Buty_Heart@hotmail.com    332.00       1\n",
        "25          Camillia.Marmoush@gmail.com   1437.00       5\n",
        "26              Carinesabbagh@gmail.com  12189.72      37\n",
        "27                Christine@baramki.com    924.00       2\n",
        "28                 DINA_KADRY@YAHOO.COM    230.00       1\n",
        "29                 Daiieldeeb@gmail.com    118.80       1\n",
        "...                                 ...       ...     ...\n",
        "2379               youssefkhalil@me.com    303.00       3\n",
        "2380           youssra.resaie@gmail.com    242.00       1\n",
        "2381                  youssra@gmail.com    146.40       1\n",
        "2382            youssra_kamal@yahoo.com    753.00       3\n",
        "2383          youssraaashmawi@gmail.com    201.00       1\n",
        "2384            yoyothetricky@gmail.com    233.20       2\n",
        "2385                yrelraheb@gmail.com     78.13       1\n",
        "2386                yulbiba@hotmail.com    507.20       4\n",
        "2387              yumnakassim@gmail.com    297.50       2\n",
        "2388               z72addas@hotmail.com    350.85       1\n",
        "2389              zaki.farida@gmail.com    931.50       5\n",
        "2390                zedesem65@gmail.com    160.00       1\n",
        "2391                  zee.nap@gmail.com     37.00       1\n",
        "2392             zeina.kassas@gmail.com    907.60       6\n",
        "2393          zeina_ahmed95@hotmail.com    718.80       1\n",
        "2394             zeina_naim@hotmail.com     67.00       1\n",
        "2395          zeinabahmedtaha@yahoo.com    106.30       1\n",
        "2396       zeinabkhalil2010@hotmail.com    743.00       3\n",
        "2397               zeinabnour@gmail.com     87.50       2\n",
        "2398               zeinahodroj@live.com    380.50       2\n",
        "2399               zeinasabry@gmail.com   1148.40       7\n",
        "2400                zeinriham@gmail.com    336.00       2\n",
        "2401            zenaabdelbaky@gmail.com    302.50       2\n",
        "2402             zeyadattalla@yahoo.com     97.40       1\n",
        "2403                 ziadihab@gmail.com     47.00       1\n",
        "2404                ziadusama@ymail.com     59.00       1\n",
        "2405                zinelhini@yahoo.com    320.02       1\n",
        "2406                 zleseman@gmail.com   1171.57       2\n",
        "2407            zolaykha1st@hotmail.com    610.10       1\n",
        "2408                zshafei@outlook.com   2933.00       7\n",
        "\n",
        "[2409 rows x 3 columns]"
       ]
      }
     ],
     "prompt_number": 5
    },
    {
     "cell_type": "code",
     "collapsed": false,
     "input": [
      "#calculate basket value\n",
      "df['Basket Value'] = df['Revenue'] / df['Orders']\n",
      "customer_value = df[['Email', 'Revenue', 'Basket Value']]\n",
      "customer_value"
     ],
     "language": "python",
     "metadata": {},
     "outputs": [
      {
       "html": [
        "<div style=\"max-height:1000px;max-width:1500px;overflow:auto;\">\n",
        "<table border=\"1\" class=\"dataframe\">\n",
        "  <thead>\n",
        "    <tr style=\"text-align: right;\">\n",
        "      <th></th>\n",
        "      <th>Email</th>\n",
        "      <th>Revenue</th>\n",
        "      <th>Basket Value</th>\n",
        "    </tr>\n",
        "  </thead>\n",
        "  <tbody>\n",
        "    <tr>\n",
        "      <th>0   </th>\n",
        "      <td>        11435mail@mkallenberger.de</td>\n",
        "      <td>   267.17</td>\n",
        "      <td> 267.170000</td>\n",
        "    </tr>\n",
        "    <tr>\n",
        "      <th>1   </th>\n",
        "      <td>                     1@gargour.com</td>\n",
        "      <td>  1001.10</td>\n",
        "      <td> 500.550000</td>\n",
        "    </tr>\n",
        "    <tr>\n",
        "      <th>2   </th>\n",
        "      <td>                 1kttate@gmail.com</td>\n",
        "      <td>   648.00</td>\n",
        "      <td> 162.000000</td>\n",
        "    </tr>\n",
        "    <tr>\n",
        "      <th>3   </th>\n",
        "      <td>         1youniqueflower@gmail.com</td>\n",
        "      <td>   909.00</td>\n",
        "      <td> 303.000000</td>\n",
        "    </tr>\n",
        "    <tr>\n",
        "      <th>4   </th>\n",
        "      <td>                3aliaa.h@gmail.com</td>\n",
        "      <td>   160.00</td>\n",
        "      <td>  53.333333</td>\n",
        "    </tr>\n",
        "    <tr>\n",
        "      <th>5   </th>\n",
        "      <td>          777nadiateirah@gmail.com</td>\n",
        "      <td>   290.00</td>\n",
        "      <td> 145.000000</td>\n",
        "    </tr>\n",
        "    <tr>\n",
        "      <th>6   </th>\n",
        "      <td>                         A2@ed.com</td>\n",
        "      <td>    30.00</td>\n",
        "      <td>  30.000000</td>\n",
        "    </tr>\n",
        "    <tr>\n",
        "      <th>7   </th>\n",
        "      <td>           ASHRAF.M.ZAKI@GMAIL.COM</td>\n",
        "      <td>   300.18</td>\n",
        "      <td> 300.180000</td>\n",
        "    </tr>\n",
        "    <tr>\n",
        "      <th>8   </th>\n",
        "      <td>              Adhamada@hotmail.com</td>\n",
        "      <td>    61.20</td>\n",
        "      <td>  61.200000</td>\n",
        "    </tr>\n",
        "    <tr>\n",
        "      <th>9   </th>\n",
        "      <td>       Ahmed.Habash@moevenpick.com</td>\n",
        "      <td>   360.00</td>\n",
        "      <td> 360.000000</td>\n",
        "    </tr>\n",
        "    <tr>\n",
        "      <th>10  </th>\n",
        "      <td> Ahmed.adel.abdelmonam@hotmail.com</td>\n",
        "      <td>   424.00</td>\n",
        "      <td> 424.000000</td>\n",
        "    </tr>\n",
        "    <tr>\n",
        "      <th>11  </th>\n",
        "      <td>           Aliamossallam@gmail.com</td>\n",
        "      <td>  7096.62</td>\n",
        "      <td> 308.548696</td>\n",
        "    </tr>\n",
        "    <tr>\n",
        "      <th>12  </th>\n",
        "      <td>       Andrea.Heilman@aucegypt.edu</td>\n",
        "      <td>   819.10</td>\n",
        "      <td> 204.775000</td>\n",
        "    </tr>\n",
        "    <tr>\n",
        "      <th>13  </th>\n",
        "      <td>           Asmaa.ahmed@hotmail.com</td>\n",
        "      <td>  3404.00</td>\n",
        "      <td> 851.000000</td>\n",
        "    </tr>\n",
        "    <tr>\n",
        "      <th>14  </th>\n",
        "      <td>            Attia.nevien@gmail.com</td>\n",
        "      <td>   475.00</td>\n",
        "      <td> 158.333333</td>\n",
        "    </tr>\n",
        "    <tr>\n",
        "      <th>15  </th>\n",
        "      <td>             Ayatheone@hotmail.com</td>\n",
        "      <td>    48.00</td>\n",
        "      <td>  48.000000</td>\n",
        "    </tr>\n",
        "    <tr>\n",
        "      <th>16  </th>\n",
        "      <td>             Azzassallam@gmail.com</td>\n",
        "      <td>    45.00</td>\n",
        "      <td>  45.000000</td>\n",
        "    </tr>\n",
        "    <tr>\n",
        "      <th>17  </th>\n",
        "      <td>                 BAGBOUG@yahoo.com</td>\n",
        "      <td>   113.50</td>\n",
        "      <td> 113.500000</td>\n",
        "    </tr>\n",
        "    <tr>\n",
        "      <th>18  </th>\n",
        "      <td>                 Bakryna@gmail.com</td>\n",
        "      <td>   122.25</td>\n",
        "      <td> 122.250000</td>\n",
        "    </tr>\n",
        "    <tr>\n",
        "      <th>19  </th>\n",
        "      <td>           Basmaha2010@hotmail.com</td>\n",
        "      <td>    55.00</td>\n",
        "      <td>  55.000000</td>\n",
        "    </tr>\n",
        "    <tr>\n",
        "      <th>20  </th>\n",
        "      <td>                  Bebi84@gmail.com</td>\n",
        "      <td>   411.19</td>\n",
        "      <td> 137.063333</td>\n",
        "    </tr>\n",
        "    <tr>\n",
        "      <th>21  </th>\n",
        "      <td>                  Biro5s@yahoo.com</td>\n",
        "      <td>    52.02</td>\n",
        "      <td>  52.020000</td>\n",
        "    </tr>\n",
        "    <tr>\n",
        "      <th>22  </th>\n",
        "      <td>       Bouchra_erraiss@hotmail.com</td>\n",
        "      <td>   285.75</td>\n",
        "      <td> 285.750000</td>\n",
        "    </tr>\n",
        "    <tr>\n",
        "      <th>23  </th>\n",
        "      <td>                 Bunny_Chan@web.de</td>\n",
        "      <td>   397.00</td>\n",
        "      <td> 132.333333</td>\n",
        "    </tr>\n",
        "    <tr>\n",
        "      <th>24  </th>\n",
        "      <td>            Buty_Heart@hotmail.com</td>\n",
        "      <td>   332.00</td>\n",
        "      <td> 332.000000</td>\n",
        "    </tr>\n",
        "    <tr>\n",
        "      <th>25  </th>\n",
        "      <td>       Camillia.Marmoush@gmail.com</td>\n",
        "      <td>  1437.00</td>\n",
        "      <td> 287.400000</td>\n",
        "    </tr>\n",
        "    <tr>\n",
        "      <th>26  </th>\n",
        "      <td>           Carinesabbagh@gmail.com</td>\n",
        "      <td> 12189.72</td>\n",
        "      <td> 329.451892</td>\n",
        "    </tr>\n",
        "    <tr>\n",
        "      <th>27  </th>\n",
        "      <td>             Christine@baramki.com</td>\n",
        "      <td>   924.00</td>\n",
        "      <td> 462.000000</td>\n",
        "    </tr>\n",
        "    <tr>\n",
        "      <th>28  </th>\n",
        "      <td>              DINA_KADRY@YAHOO.COM</td>\n",
        "      <td>   230.00</td>\n",
        "      <td> 230.000000</td>\n",
        "    </tr>\n",
        "    <tr>\n",
        "      <th>29  </th>\n",
        "      <td>              Daiieldeeb@gmail.com</td>\n",
        "      <td>   118.80</td>\n",
        "      <td> 118.800000</td>\n",
        "    </tr>\n",
        "    <tr>\n",
        "      <th>...</th>\n",
        "      <td>...</td>\n",
        "      <td>...</td>\n",
        "      <td>...</td>\n",
        "    </tr>\n",
        "    <tr>\n",
        "      <th>2379</th>\n",
        "      <td>              youssefkhalil@me.com</td>\n",
        "      <td>   303.00</td>\n",
        "      <td> 101.000000</td>\n",
        "    </tr>\n",
        "    <tr>\n",
        "      <th>2380</th>\n",
        "      <td>          youssra.resaie@gmail.com</td>\n",
        "      <td>   242.00</td>\n",
        "      <td> 242.000000</td>\n",
        "    </tr>\n",
        "    <tr>\n",
        "      <th>2381</th>\n",
        "      <td>                 youssra@gmail.com</td>\n",
        "      <td>   146.40</td>\n",
        "      <td> 146.400000</td>\n",
        "    </tr>\n",
        "    <tr>\n",
        "      <th>2382</th>\n",
        "      <td>           youssra_kamal@yahoo.com</td>\n",
        "      <td>   753.00</td>\n",
        "      <td> 251.000000</td>\n",
        "    </tr>\n",
        "    <tr>\n",
        "      <th>2383</th>\n",
        "      <td>         youssraaashmawi@gmail.com</td>\n",
        "      <td>   201.00</td>\n",
        "      <td> 201.000000</td>\n",
        "    </tr>\n",
        "    <tr>\n",
        "      <th>2384</th>\n",
        "      <td>           yoyothetricky@gmail.com</td>\n",
        "      <td>   233.20</td>\n",
        "      <td> 116.600000</td>\n",
        "    </tr>\n",
        "    <tr>\n",
        "      <th>2385</th>\n",
        "      <td>               yrelraheb@gmail.com</td>\n",
        "      <td>    78.13</td>\n",
        "      <td>  78.130000</td>\n",
        "    </tr>\n",
        "    <tr>\n",
        "      <th>2386</th>\n",
        "      <td>               yulbiba@hotmail.com</td>\n",
        "      <td>   507.20</td>\n",
        "      <td> 126.800000</td>\n",
        "    </tr>\n",
        "    <tr>\n",
        "      <th>2387</th>\n",
        "      <td>             yumnakassim@gmail.com</td>\n",
        "      <td>   297.50</td>\n",
        "      <td> 148.750000</td>\n",
        "    </tr>\n",
        "    <tr>\n",
        "      <th>2388</th>\n",
        "      <td>              z72addas@hotmail.com</td>\n",
        "      <td>   350.85</td>\n",
        "      <td> 350.850000</td>\n",
        "    </tr>\n",
        "    <tr>\n",
        "      <th>2389</th>\n",
        "      <td>             zaki.farida@gmail.com</td>\n",
        "      <td>   931.50</td>\n",
        "      <td> 186.300000</td>\n",
        "    </tr>\n",
        "    <tr>\n",
        "      <th>2390</th>\n",
        "      <td>               zedesem65@gmail.com</td>\n",
        "      <td>   160.00</td>\n",
        "      <td> 160.000000</td>\n",
        "    </tr>\n",
        "    <tr>\n",
        "      <th>2391</th>\n",
        "      <td>                 zee.nap@gmail.com</td>\n",
        "      <td>    37.00</td>\n",
        "      <td>  37.000000</td>\n",
        "    </tr>\n",
        "    <tr>\n",
        "      <th>2392</th>\n",
        "      <td>            zeina.kassas@gmail.com</td>\n",
        "      <td>   907.60</td>\n",
        "      <td> 151.266667</td>\n",
        "    </tr>\n",
        "    <tr>\n",
        "      <th>2393</th>\n",
        "      <td>         zeina_ahmed95@hotmail.com</td>\n",
        "      <td>   718.80</td>\n",
        "      <td> 718.800000</td>\n",
        "    </tr>\n",
        "    <tr>\n",
        "      <th>2394</th>\n",
        "      <td>            zeina_naim@hotmail.com</td>\n",
        "      <td>    67.00</td>\n",
        "      <td>  67.000000</td>\n",
        "    </tr>\n",
        "    <tr>\n",
        "      <th>2395</th>\n",
        "      <td>         zeinabahmedtaha@yahoo.com</td>\n",
        "      <td>   106.30</td>\n",
        "      <td> 106.300000</td>\n",
        "    </tr>\n",
        "    <tr>\n",
        "      <th>2396</th>\n",
        "      <td>      zeinabkhalil2010@hotmail.com</td>\n",
        "      <td>   743.00</td>\n",
        "      <td> 247.666667</td>\n",
        "    </tr>\n",
        "    <tr>\n",
        "      <th>2397</th>\n",
        "      <td>              zeinabnour@gmail.com</td>\n",
        "      <td>    87.50</td>\n",
        "      <td>  43.750000</td>\n",
        "    </tr>\n",
        "    <tr>\n",
        "      <th>2398</th>\n",
        "      <td>              zeinahodroj@live.com</td>\n",
        "      <td>   380.50</td>\n",
        "      <td> 190.250000</td>\n",
        "    </tr>\n",
        "    <tr>\n",
        "      <th>2399</th>\n",
        "      <td>              zeinasabry@gmail.com</td>\n",
        "      <td>  1148.40</td>\n",
        "      <td> 164.057143</td>\n",
        "    </tr>\n",
        "    <tr>\n",
        "      <th>2400</th>\n",
        "      <td>               zeinriham@gmail.com</td>\n",
        "      <td>   336.00</td>\n",
        "      <td> 168.000000</td>\n",
        "    </tr>\n",
        "    <tr>\n",
        "      <th>2401</th>\n",
        "      <td>           zenaabdelbaky@gmail.com</td>\n",
        "      <td>   302.50</td>\n",
        "      <td> 151.250000</td>\n",
        "    </tr>\n",
        "    <tr>\n",
        "      <th>2402</th>\n",
        "      <td>            zeyadattalla@yahoo.com</td>\n",
        "      <td>    97.40</td>\n",
        "      <td>  97.400000</td>\n",
        "    </tr>\n",
        "    <tr>\n",
        "      <th>2403</th>\n",
        "      <td>                ziadihab@gmail.com</td>\n",
        "      <td>    47.00</td>\n",
        "      <td>  47.000000</td>\n",
        "    </tr>\n",
        "    <tr>\n",
        "      <th>2404</th>\n",
        "      <td>               ziadusama@ymail.com</td>\n",
        "      <td>    59.00</td>\n",
        "      <td>  59.000000</td>\n",
        "    </tr>\n",
        "    <tr>\n",
        "      <th>2405</th>\n",
        "      <td>               zinelhini@yahoo.com</td>\n",
        "      <td>   320.02</td>\n",
        "      <td> 320.020000</td>\n",
        "    </tr>\n",
        "    <tr>\n",
        "      <th>2406</th>\n",
        "      <td>                zleseman@gmail.com</td>\n",
        "      <td>  1171.57</td>\n",
        "      <td> 585.785000</td>\n",
        "    </tr>\n",
        "    <tr>\n",
        "      <th>2407</th>\n",
        "      <td>           zolaykha1st@hotmail.com</td>\n",
        "      <td>   610.10</td>\n",
        "      <td> 610.100000</td>\n",
        "    </tr>\n",
        "    <tr>\n",
        "      <th>2408</th>\n",
        "      <td>               zshafei@outlook.com</td>\n",
        "      <td>  2933.00</td>\n",
        "      <td> 419.000000</td>\n",
        "    </tr>\n",
        "  </tbody>\n",
        "</table>\n",
        "<p>2409 rows \u00d7 3 columns</p>\n",
        "</div>"
       ],
       "metadata": {},
       "output_type": "pyout",
       "prompt_number": 6,
       "text": [
        "                                  Email   Revenue  Basket Value\n",
        "0            11435mail@mkallenberger.de    267.17    267.170000\n",
        "1                         1@gargour.com   1001.10    500.550000\n",
        "2                     1kttate@gmail.com    648.00    162.000000\n",
        "3             1youniqueflower@gmail.com    909.00    303.000000\n",
        "4                    3aliaa.h@gmail.com    160.00     53.333333\n",
        "5              777nadiateirah@gmail.com    290.00    145.000000\n",
        "6                             A2@ed.com     30.00     30.000000\n",
        "7               ASHRAF.M.ZAKI@GMAIL.COM    300.18    300.180000\n",
        "8                  Adhamada@hotmail.com     61.20     61.200000\n",
        "9           Ahmed.Habash@moevenpick.com    360.00    360.000000\n",
        "10    Ahmed.adel.abdelmonam@hotmail.com    424.00    424.000000\n",
        "11              Aliamossallam@gmail.com   7096.62    308.548696\n",
        "12          Andrea.Heilman@aucegypt.edu    819.10    204.775000\n",
        "13              Asmaa.ahmed@hotmail.com   3404.00    851.000000\n",
        "14               Attia.nevien@gmail.com    475.00    158.333333\n",
        "15                Ayatheone@hotmail.com     48.00     48.000000\n",
        "16                Azzassallam@gmail.com     45.00     45.000000\n",
        "17                    BAGBOUG@yahoo.com    113.50    113.500000\n",
        "18                    Bakryna@gmail.com    122.25    122.250000\n",
        "19              Basmaha2010@hotmail.com     55.00     55.000000\n",
        "20                     Bebi84@gmail.com    411.19    137.063333\n",
        "21                     Biro5s@yahoo.com     52.02     52.020000\n",
        "22          Bouchra_erraiss@hotmail.com    285.75    285.750000\n",
        "23                    Bunny_Chan@web.de    397.00    132.333333\n",
        "24               Buty_Heart@hotmail.com    332.00    332.000000\n",
        "25          Camillia.Marmoush@gmail.com   1437.00    287.400000\n",
        "26              Carinesabbagh@gmail.com  12189.72    329.451892\n",
        "27                Christine@baramki.com    924.00    462.000000\n",
        "28                 DINA_KADRY@YAHOO.COM    230.00    230.000000\n",
        "29                 Daiieldeeb@gmail.com    118.80    118.800000\n",
        "...                                 ...       ...           ...\n",
        "2379               youssefkhalil@me.com    303.00    101.000000\n",
        "2380           youssra.resaie@gmail.com    242.00    242.000000\n",
        "2381                  youssra@gmail.com    146.40    146.400000\n",
        "2382            youssra_kamal@yahoo.com    753.00    251.000000\n",
        "2383          youssraaashmawi@gmail.com    201.00    201.000000\n",
        "2384            yoyothetricky@gmail.com    233.20    116.600000\n",
        "2385                yrelraheb@gmail.com     78.13     78.130000\n",
        "2386                yulbiba@hotmail.com    507.20    126.800000\n",
        "2387              yumnakassim@gmail.com    297.50    148.750000\n",
        "2388               z72addas@hotmail.com    350.85    350.850000\n",
        "2389              zaki.farida@gmail.com    931.50    186.300000\n",
        "2390                zedesem65@gmail.com    160.00    160.000000\n",
        "2391                  zee.nap@gmail.com     37.00     37.000000\n",
        "2392             zeina.kassas@gmail.com    907.60    151.266667\n",
        "2393          zeina_ahmed95@hotmail.com    718.80    718.800000\n",
        "2394             zeina_naim@hotmail.com     67.00     67.000000\n",
        "2395          zeinabahmedtaha@yahoo.com    106.30    106.300000\n",
        "2396       zeinabkhalil2010@hotmail.com    743.00    247.666667\n",
        "2397               zeinabnour@gmail.com     87.50     43.750000\n",
        "2398               zeinahodroj@live.com    380.50    190.250000\n",
        "2399               zeinasabry@gmail.com   1148.40    164.057143\n",
        "2400                zeinriham@gmail.com    336.00    168.000000\n",
        "2401            zenaabdelbaky@gmail.com    302.50    151.250000\n",
        "2402             zeyadattalla@yahoo.com     97.40     97.400000\n",
        "2403                 ziadihab@gmail.com     47.00     47.000000\n",
        "2404                ziadusama@ymail.com     59.00     59.000000\n",
        "2405                zinelhini@yahoo.com    320.02    320.020000\n",
        "2406                 zleseman@gmail.com   1171.57    585.785000\n",
        "2407            zolaykha1st@hotmail.com    610.10    610.100000\n",
        "2408                zshafei@outlook.com   2933.00    419.000000\n",
        "\n",
        "[2409 rows x 3 columns]"
       ]
      }
     ],
     "prompt_number": 6
    },
    {
     "cell_type": "code",
     "collapsed": false,
     "input": [
      "customers = pd.read_csv('C:\\Users\\saisree849\\Documents\\GitHub\\NGS-2.0\\\\12_dashboard_tables\\data_input\\shopify\\customers_export.csv', low_memory=False)\n",
      "customers"
     ],
     "language": "python",
     "metadata": {},
     "outputs": [
      {
       "html": [
        "<div style=\"max-height:1000px;max-width:1500px;overflow:auto;\">\n",
        "<table border=\"1\" class=\"dataframe\">\n",
        "  <thead>\n",
        "    <tr style=\"text-align: right;\">\n",
        "      <th></th>\n",
        "      <th>First Name</th>\n",
        "      <th>Last Name</th>\n",
        "      <th>Email</th>\n",
        "      <th>Company</th>\n",
        "      <th>Address1</th>\n",
        "      <th>Address2</th>\n",
        "      <th>City</th>\n",
        "      <th>Province</th>\n",
        "      <th>Province Code</th>\n",
        "      <th>Country</th>\n",
        "      <th>Country Code</th>\n",
        "      <th>Zip</th>\n",
        "      <th>Phone</th>\n",
        "      <th>Accepts Marketing</th>\n",
        "      <th>Total Spent</th>\n",
        "      <th>Total Orders</th>\n",
        "      <th>Tags</th>\n",
        "      <th>Note</th>\n",
        "      <th>Tax Exempt</th>\n",
        "    </tr>\n",
        "  </thead>\n",
        "  <tbody>\n",
        "    <tr>\n",
        "      <th>0   </th>\n",
        "      <td>           Rehab </td>\n",
        "      <td>            Mansour</td>\n",
        "      <td>          rehabmansour@gmail.com</td>\n",
        "      <td>          NaN</td>\n",
        "      <td> 8 Al Shahid Ahmed Zaki St. Behind El Obour Bld...</td>\n",
        "      <td>                       Floor 9 - Appt. 91</td>\n",
        "      <td>                              Cairo</td>\n",
        "      <td>          Cairo</td>\n",
        "      <td>   C</td>\n",
        "      <td> Egypt</td>\n",
        "      <td>  EG</td>\n",
        "      <td>    11513</td>\n",
        "      <td>    01001607028</td>\n",
        "      <td>  no</td>\n",
        "      <td>     0.00</td>\n",
        "      <td>  1</td>\n",
        "      <td>                  NaN</td>\n",
        "      <td> NaN</td>\n",
        "      <td> no</td>\n",
        "    </tr>\n",
        "    <tr>\n",
        "      <th>1   </th>\n",
        "      <td>            RAfik</td>\n",
        "      <td>             BEbawi</td>\n",
        "      <td>                rhbebawi@live.ca</td>\n",
        "      <td>          NaN</td>\n",
        "      <td>                                               NaN</td>\n",
        "      <td>                                      NaN</td>\n",
        "      <td>                                NaN</td>\n",
        "      <td>            NaN</td>\n",
        "      <td> NaN</td>\n",
        "      <td>   NaN</td>\n",
        "      <td> NaN</td>\n",
        "      <td>      NaN</td>\n",
        "      <td>            NaN</td>\n",
        "      <td>  no</td>\n",
        "      <td>     0.00</td>\n",
        "      <td>  0</td>\n",
        "      <td>                  NaN</td>\n",
        "      <td> NaN</td>\n",
        "      <td> no</td>\n",
        "    </tr>\n",
        "    <tr>\n",
        "      <th>2   </th>\n",
        "      <td>        Francesca</td>\n",
        "      <td>            Cicardi</td>\n",
        "      <td>          fracicardi@hotmail.com</td>\n",
        "      <td>          NaN</td>\n",
        "      <td>                                5, Fouad al Ahwany</td>\n",
        "      <td>                        1st floor, apt. 3</td>\n",
        "      <td>                            Zamalek</td>\n",
        "      <td>          Cairo</td>\n",
        "      <td>   C</td>\n",
        "      <td> Egypt</td>\n",
        "      <td>  EG</td>\n",
        "      <td>    11211</td>\n",
        "      <td>    01203038029</td>\n",
        "      <td>  no</td>\n",
        "      <td>     0.00</td>\n",
        "      <td>  1</td>\n",
        "      <td>                  NaN</td>\n",
        "      <td> NaN</td>\n",
        "      <td> no</td>\n",
        "    </tr>\n",
        "    <tr>\n",
        "      <th>3   </th>\n",
        "      <td>            Ahmed</td>\n",
        "      <td>          Aboulella</td>\n",
        "      <td>          ahmed.fakhry@gmail.com</td>\n",
        "      <td>        Mipex</td>\n",
        "      <td>                10 Tahreer St, Sheraton Heliopolis</td>\n",
        "      <td>                                        8</td>\n",
        "      <td>                              Cairo</td>\n",
        "      <td>          Cairo</td>\n",
        "      <td>   C</td>\n",
        "      <td> Egypt</td>\n",
        "      <td>  EG</td>\n",
        "      <td>    11361</td>\n",
        "      <td>  +201009936633</td>\n",
        "      <td>  no</td>\n",
        "      <td>     0.00</td>\n",
        "      <td>  2</td>\n",
        "      <td>                  NaN</td>\n",
        "      <td> NaN</td>\n",
        "      <td> no</td>\n",
        "    </tr>\n",
        "    <tr>\n",
        "      <th>4   </th>\n",
        "      <td>           Laila </td>\n",
        "      <td>              akram</td>\n",
        "      <td>            Missilou11@yahoo.com</td>\n",
        "      <td>          NaN</td>\n",
        "      <td> Maadi*Road14*Villa60*Behind Qesm Elmaady*Maadi...</td>\n",
        "      <td>                                      NaN</td>\n",
        "      <td>                              Cairo</td>\n",
        "      <td>          Cairo</td>\n",
        "      <td>   C</td>\n",
        "      <td> Egypt</td>\n",
        "      <td>  EG</td>\n",
        "      <td>    Mm123</td>\n",
        "      <td>    01008108200</td>\n",
        "      <td>  no</td>\n",
        "      <td>     0.00</td>\n",
        "      <td>  1</td>\n",
        "      <td>                  NaN</td>\n",
        "      <td> NaN</td>\n",
        "      <td> no</td>\n",
        "    </tr>\n",
        "    <tr>\n",
        "      <th>5   </th>\n",
        "      <td>           Sally </td>\n",
        "      <td>              Salem</td>\n",
        "      <td>         sallysalem123@gmail.com</td>\n",
        "      <td>          NaN</td>\n",
        "      <td> \u0627\u0644\u0642\u0627\u0647\u0631\u0629 \u0627\u0644\u062c\u062f\u064a\u062f\u0629 \u0627\u0644\u062a\u062c\u0645\u0639 \u0627\u0644\u0627\u0648\u0644 5 \u0634\u0627\u0631\u0639 \u0627\u0644\u0632\u0631\u0642\u0627\u0646\u0649*\u0627...</td>\n",
        "      <td>                                      NaN</td>\n",
        "      <td>                              Cairo</td>\n",
        "      <td>          Cairo</td>\n",
        "      <td>   C</td>\n",
        "      <td> Egypt</td>\n",
        "      <td>  EG</td>\n",
        "      <td>    Mm123</td>\n",
        "      <td>    01222484466</td>\n",
        "      <td>  no</td>\n",
        "      <td>     0.00</td>\n",
        "      <td>  1</td>\n",
        "      <td>                  NaN</td>\n",
        "      <td> NaN</td>\n",
        "      <td> no</td>\n",
        "    </tr>\n",
        "    <tr>\n",
        "      <th>6   </th>\n",
        "      <td>           Gaylyn</td>\n",
        "      <td>            Mbogho </td>\n",
        "      <td>          gaylynmbogho@yahoo.com</td>\n",
        "      <td>          NaN</td>\n",
        "      <td>                                      Rd232 Build9</td>\n",
        "      <td>                                    Apt11</td>\n",
        "      <td>                              Cairo</td>\n",
        "      <td>          Cairo</td>\n",
        "      <td>   C</td>\n",
        "      <td> Egypt</td>\n",
        "      <td>  EG</td>\n",
        "      <td>    00100</td>\n",
        "      <td>    01006921218</td>\n",
        "      <td>  no</td>\n",
        "      <td>     0.00</td>\n",
        "      <td>  1</td>\n",
        "      <td>                  NaN</td>\n",
        "      <td> NaN</td>\n",
        "      <td> no</td>\n",
        "    </tr>\n",
        "    <tr>\n",
        "      <th>7   </th>\n",
        "      <td>             Daii</td>\n",
        "      <td>                Ali</td>\n",
        "      <td>            Daiieldeeb@gmail.com</td>\n",
        "      <td>          NaN</td>\n",
        "      <td> Plot 9519, Adly El Meligy St. Off Rd. 9, Mokat...</td>\n",
        "      <td>                                      NaN</td>\n",
        "      <td>                              Cairo</td>\n",
        "      <td>          Cairo</td>\n",
        "      <td>   C</td>\n",
        "      <td> Egypt</td>\n",
        "      <td>  EG</td>\n",
        "      <td>    11571</td>\n",
        "      <td>    01111397206</td>\n",
        "      <td>  no</td>\n",
        "      <td>     0.00</td>\n",
        "      <td>  1</td>\n",
        "      <td>                  NaN</td>\n",
        "      <td> NaN</td>\n",
        "      <td> no</td>\n",
        "    </tr>\n",
        "    <tr>\n",
        "      <th>8   </th>\n",
        "      <td>             Yara</td>\n",
        "      <td>                Ali</td>\n",
        "      <td>             yara.azam@gmail.com</td>\n",
        "      <td>          NaN</td>\n",
        "      <td>                               7 Youssef Abbas St.</td>\n",
        "      <td>                                Nasr City</td>\n",
        "      <td>                              Cairo</td>\n",
        "      <td>          Cairo</td>\n",
        "      <td>   C</td>\n",
        "      <td> Egypt</td>\n",
        "      <td>  EG</td>\n",
        "      <td>    11371</td>\n",
        "      <td>    01227357774</td>\n",
        "      <td>  no</td>\n",
        "      <td>     0.00</td>\n",
        "      <td>  1</td>\n",
        "      <td>                  NaN</td>\n",
        "      <td> NaN</td>\n",
        "      <td> no</td>\n",
        "    </tr>\n",
        "    <tr>\n",
        "      <th>9   </th>\n",
        "      <td>          Mohamed</td>\n",
        "      <td>            Mokhtar</td>\n",
        "      <td>              m.mkhtr@icloud.com</td>\n",
        "      <td>          NaN</td>\n",
        "      <td>                         34, Higaz st mohandiseen </td>\n",
        "      <td> Building in front of Seoudi supermarket </td>\n",
        "      <td>                               Giza</td>\n",
        "      <td>           Giza</td>\n",
        "      <td>  GZ</td>\n",
        "      <td> Egypt</td>\n",
        "      <td>  EG</td>\n",
        "      <td>    11211</td>\n",
        "      <td>    01220802255</td>\n",
        "      <td>  no</td>\n",
        "      <td>     0.00</td>\n",
        "      <td>  0</td>\n",
        "      <td>                  NaN</td>\n",
        "      <td> NaN</td>\n",
        "      <td> no</td>\n",
        "    </tr>\n",
        "    <tr>\n",
        "      <th>10  </th>\n",
        "      <td>            FIona</td>\n",
        "      <td>              Brown</td>\n",
        "      <td>           fmnkbrown@hotmail.com</td>\n",
        "      <td>          NaN</td>\n",
        "      <td>                                               NaN</td>\n",
        "      <td>                                      NaN</td>\n",
        "      <td>                                NaN</td>\n",
        "      <td>            NaN</td>\n",
        "      <td> NaN</td>\n",
        "      <td>   NaN</td>\n",
        "      <td> NaN</td>\n",
        "      <td>      NaN</td>\n",
        "      <td>            NaN</td>\n",
        "      <td>  no</td>\n",
        "      <td>     0.00</td>\n",
        "      <td>  0</td>\n",
        "      <td>                  NaN</td>\n",
        "      <td> NaN</td>\n",
        "      <td> no</td>\n",
        "    </tr>\n",
        "    <tr>\n",
        "      <th>11  </th>\n",
        "      <td>             Hind</td>\n",
        "      <td>             Haggag</td>\n",
        "      <td>           hind.haggag@gmail.com</td>\n",
        "      <td>       Doctor</td>\n",
        "      <td>                9 Africa-emtedad Mostafa Al Nahhas</td>\n",
        "      <td>                         Floor 8 aprt.801</td>\n",
        "      <td>                              Cairo</td>\n",
        "      <td>          Cairo</td>\n",
        "      <td>   C</td>\n",
        "      <td> Egypt</td>\n",
        "      <td>  EG</td>\n",
        "      <td>     1234</td>\n",
        "      <td>     0106680683</td>\n",
        "      <td>  no</td>\n",
        "      <td>     0.00</td>\n",
        "      <td>  0</td>\n",
        "      <td>                  NaN</td>\n",
        "      <td> NaN</td>\n",
        "      <td> no</td>\n",
        "    </tr>\n",
        "    <tr>\n",
        "      <th>12  </th>\n",
        "      <td>            Hazem</td>\n",
        "      <td>           El Shamy</td>\n",
        "      <td>           hazem.shamy@gmail.com</td>\n",
        "      <td>          NaN</td>\n",
        "      <td> 6th of october, sheikh zayed city, zayed 2000 ...</td>\n",
        "      <td>                                    Apt 7</td>\n",
        "      <td>                              Cairo</td>\n",
        "      <td> 6th of October</td>\n",
        "      <td>  SU</td>\n",
        "      <td> Egypt</td>\n",
        "      <td>  EG</td>\n",
        "      <td>       00</td>\n",
        "      <td>    01140222020</td>\n",
        "      <td>  no</td>\n",
        "      <td>     0.00</td>\n",
        "      <td>  1</td>\n",
        "      <td>                  NaN</td>\n",
        "      <td> NaN</td>\n",
        "      <td> no</td>\n",
        "    </tr>\n",
        "    <tr>\n",
        "      <th>13  </th>\n",
        "      <td>            Tamer</td>\n",
        "      <td>         Elmenshawy</td>\n",
        "      <td>          cyperx2000@hotmail.com</td>\n",
        "      <td>          NaN</td>\n",
        "      <td>                                   27 El Cablat ST</td>\n",
        "      <td>                                      NaN</td>\n",
        "      <td>                          Wady Hoof</td>\n",
        "      <td>          Cairo</td>\n",
        "      <td>   C</td>\n",
        "      <td> Egypt</td>\n",
        "      <td>  EG</td>\n",
        "      <td>    11433</td>\n",
        "      <td>    01005732432</td>\n",
        "      <td>  no</td>\n",
        "      <td>     0.00</td>\n",
        "      <td>  0</td>\n",
        "      <td>                  NaN</td>\n",
        "      <td> NaN</td>\n",
        "      <td> no</td>\n",
        "    </tr>\n",
        "    <tr>\n",
        "      <th>14  </th>\n",
        "      <td>            James</td>\n",
        "      <td>               Belk</td>\n",
        "      <td>       jamesmorgan0091@gmail.com</td>\n",
        "      <td>          NaN</td>\n",
        "      <td>                                      1904 ANN AVE</td>\n",
        "      <td>                                      NaN</td>\n",
        "      <td>                      HARRISONVILLE</td>\n",
        "      <td>          Cairo</td>\n",
        "      <td>   C</td>\n",
        "      <td> Egypt</td>\n",
        "      <td>  EG</td>\n",
        "      <td>    64701</td>\n",
        "      <td>     8168358620</td>\n",
        "      <td>  no</td>\n",
        "      <td>     0.00</td>\n",
        "      <td>  1</td>\n",
        "      <td>                  NaN</td>\n",
        "      <td> NaN</td>\n",
        "      <td> no</td>\n",
        "    </tr>\n",
        "    <tr>\n",
        "      <th>15  </th>\n",
        "      <td>             Maro</td>\n",
        "      <td>              Maher</td>\n",
        "      <td>          RODY.DOVE123@GMAIL.COM</td>\n",
        "      <td>          NaN</td>\n",
        "      <td> 15 Ismail Mohamed st. Borg Jedda- opposite Kol...</td>\n",
        "      <td>                                 Hers Gym</td>\n",
        "      <td>                              Cairo</td>\n",
        "      <td>          Cairo</td>\n",
        "      <td>   C</td>\n",
        "      <td> Egypt</td>\n",
        "      <td>  EG</td>\n",
        "      <td>   Am1234</td>\n",
        "      <td>    01016131364</td>\n",
        "      <td>  no</td>\n",
        "      <td>     0.00</td>\n",
        "      <td>  2</td>\n",
        "      <td>                  NaN</td>\n",
        "      <td> NaN</td>\n",
        "      <td> no</td>\n",
        "    </tr>\n",
        "    <tr>\n",
        "      <th>16  </th>\n",
        "      <td>             Heba</td>\n",
        "      <td>              Belal</td>\n",
        "      <td>             hibba_b@hotmail.com</td>\n",
        "      <td>          NaN</td>\n",
        "      <td> \u0645\u064a\u062f\u0627\u0646 \u0627\u0644\u062c\u0645\u0647\u0648\u0631\u064a\u0629 \u0645\u062a\u0641\u0631\u0639 \u0645\u0646 \u0627\u0644\u0628\u0637\u0644 \u0627\u062d\u0645\u062f \u0639\u0628\u062f \u0627\u0644\u0639\u0632\u064a\u0632...</td>\n",
        "      <td>                                 \u0639\u0645\u0627\u0631\u0629 3 </td>\n",
        "      <td>                              Cairo</td>\n",
        "      <td>          Cairo</td>\n",
        "      <td>   C</td>\n",
        "      <td> Egypt</td>\n",
        "      <td>  EG</td>\n",
        "      <td>    hk123</td>\n",
        "      <td>    01000323444</td>\n",
        "      <td>  no</td>\n",
        "      <td>     0.00</td>\n",
        "      <td>  1</td>\n",
        "      <td>                  NaN</td>\n",
        "      <td> NaN</td>\n",
        "      <td> no</td>\n",
        "    </tr>\n",
        "    <tr>\n",
        "      <th>17  </th>\n",
        "      <td>          Pascale</td>\n",
        "      <td>              Nader</td>\n",
        "      <td>          pascalenader@gmail.com</td>\n",
        "      <td>          NaN</td>\n",
        "      <td>                   6, Hassan sabry street, zamalek</td>\n",
        "      <td>                         12 floor, apt 67</td>\n",
        "      <td>                              Cairo</td>\n",
        "      <td>          Cairo</td>\n",
        "      <td>   C</td>\n",
        "      <td> Egypt</td>\n",
        "      <td>  EG</td>\n",
        "      <td>    11211</td>\n",
        "      <td>    01201019007</td>\n",
        "      <td>  no</td>\n",
        "      <td>     0.00</td>\n",
        "      <td>  1</td>\n",
        "      <td>                  NaN</td>\n",
        "      <td> NaN</td>\n",
        "      <td> no</td>\n",
        "    </tr>\n",
        "    <tr>\n",
        "      <th>18  </th>\n",
        "      <td>             Hoda</td>\n",
        "      <td>              Salah</td>\n",
        "      <td>          hodasalah@aucegypt.edu</td>\n",
        "      <td>          NaN</td>\n",
        "      <td>                                               NaN</td>\n",
        "      <td>                                      NaN</td>\n",
        "      <td>                                NaN</td>\n",
        "      <td>            NaN</td>\n",
        "      <td> NaN</td>\n",
        "      <td>   NaN</td>\n",
        "      <td> NaN</td>\n",
        "      <td>      NaN</td>\n",
        "      <td>            NaN</td>\n",
        "      <td>  no</td>\n",
        "      <td>     0.00</td>\n",
        "      <td>  0</td>\n",
        "      <td>                  NaN</td>\n",
        "      <td> NaN</td>\n",
        "      <td> no</td>\n",
        "    </tr>\n",
        "    <tr>\n",
        "      <th>19  </th>\n",
        "      <td>           Hassan</td>\n",
        "      <td>            Elshamy</td>\n",
        "      <td>          hasanelshamy@gmail.com</td>\n",
        "      <td>          NaN</td>\n",
        "      <td>                                               NaN</td>\n",
        "      <td>                                      NaN</td>\n",
        "      <td>                                NaN</td>\n",
        "      <td>            NaN</td>\n",
        "      <td> NaN</td>\n",
        "      <td>   NaN</td>\n",
        "      <td> NaN</td>\n",
        "      <td>      NaN</td>\n",
        "      <td>            NaN</td>\n",
        "      <td>  no</td>\n",
        "      <td>     0.00</td>\n",
        "      <td>  0</td>\n",
        "      <td>                  NaN</td>\n",
        "      <td> NaN</td>\n",
        "      <td> no</td>\n",
        "    </tr>\n",
        "    <tr>\n",
        "      <th>20  </th>\n",
        "      <td>            Rania</td>\n",
        "      <td>             Hassan</td>\n",
        "      <td>               r_h_ali@yahoo.com</td>\n",
        "      <td>          NaN</td>\n",
        "      <td> 6 abd elrahman ebn elhakam from hassan aflaton...</td>\n",
        "      <td>                                      NaN</td>\n",
        "      <td>                              cairo</td>\n",
        "      <td>          Cairo</td>\n",
        "      <td>   C</td>\n",
        "      <td> Egypt</td>\n",
        "      <td>  EG</td>\n",
        "      <td>    11311</td>\n",
        "      <td>    01222127426</td>\n",
        "      <td>  no</td>\n",
        "      <td>     0.00</td>\n",
        "      <td>  1</td>\n",
        "      <td>                  NaN</td>\n",
        "      <td> NaN</td>\n",
        "      <td> no</td>\n",
        "    </tr>\n",
        "    <tr>\n",
        "      <th>21  </th>\n",
        "      <td>           Mervat</td>\n",
        "      <td>            Elgamal</td>\n",
        "      <td>                fabbff@gmail.com</td>\n",
        "      <td>          NaN</td>\n",
        "      <td>                                      24 Yasmeen 2</td>\n",
        "      <td>                                      NaN</td>\n",
        "      <td>                       Tagamo3 awal</td>\n",
        "      <td>          Cairo</td>\n",
        "      <td>   C</td>\n",
        "      <td> Egypt</td>\n",
        "      <td>  EG</td>\n",
        "      <td>     1111</td>\n",
        "      <td>  0201005540036</td>\n",
        "      <td>  no</td>\n",
        "      <td>     0.00</td>\n",
        "      <td>  1</td>\n",
        "      <td>                  NaN</td>\n",
        "      <td> NaN</td>\n",
        "      <td> no</td>\n",
        "    </tr>\n",
        "    <tr>\n",
        "      <th>22  </th>\n",
        "      <td>             Muaz</td>\n",
        "      <td>              Munir</td>\n",
        "      <td>             muazmunir@gmail.com</td>\n",
        "      <td>          NaN</td>\n",
        "      <td> \u0627\u0634\u0627\u0631\u0639 \u0627\u0644\u0645\u062d\u0637\u0629 \u0639\u0645\u0627\u0631\u0627\u062a \u0627\u0644\u0627\u0648\u0642\u0627\u0641 \u0639\u0645\u0627\u0631\u0629 8 \u0634\u0642\u06299  \u0627\u0644\u062f\u0648...</td>\n",
        "      <td>                                      NaN</td>\n",
        "      <td>                              Cairo</td>\n",
        "      <td>          Cairo</td>\n",
        "      <td>   C</td>\n",
        "      <td> Egypt</td>\n",
        "      <td>  EG</td>\n",
        "      <td>    hk123</td>\n",
        "      <td>    01001184082</td>\n",
        "      <td>  no</td>\n",
        "      <td>     0.00</td>\n",
        "      <td>  1</td>\n",
        "      <td>                  NaN</td>\n",
        "      <td> NaN</td>\n",
        "      <td> no</td>\n",
        "    </tr>\n",
        "    <tr>\n",
        "      <th>23  </th>\n",
        "      <td>             Amal</td>\n",
        "      <td>           Akhnoukh</td>\n",
        "      <td>          amalakhnoukh@gmail.com</td>\n",
        "      <td>          NaN</td>\n",
        "      <td>                            villa 29 Arabella Park</td>\n",
        "      <td>                                      NaN</td>\n",
        "      <td>                          New Cairo</td>\n",
        "      <td>          Cairo</td>\n",
        "      <td>   C</td>\n",
        "      <td> Egypt</td>\n",
        "      <td>  EG</td>\n",
        "      <td>    11835</td>\n",
        "      <td>  +201223980020</td>\n",
        "      <td>  no</td>\n",
        "      <td>     0.00</td>\n",
        "      <td>  1</td>\n",
        "      <td>                  NaN</td>\n",
        "      <td> NaN</td>\n",
        "      <td> no</td>\n",
        "    </tr>\n",
        "    <tr>\n",
        "      <th>24  </th>\n",
        "      <td>            Sonja</td>\n",
        "      <td>               Lang</td>\n",
        "      <td>         sonja.langweb@gmail.com</td>\n",
        "      <td>          NaN</td>\n",
        "      <td>        El-Katameya Residence, Besides JW Marriott</td>\n",
        "      <td>                                Villa #G3</td>\n",
        "      <td>                          New Cairo</td>\n",
        "      <td>          Cairo</td>\n",
        "      <td>   C</td>\n",
        "      <td> Egypt</td>\n",
        "      <td>  EG</td>\n",
        "      <td>    11936</td>\n",
        "      <td>  0100 942 1880</td>\n",
        "      <td>  no</td>\n",
        "      <td>     0.00</td>\n",
        "      <td>  1</td>\n",
        "      <td>                  NaN</td>\n",
        "      <td> NaN</td>\n",
        "      <td> no</td>\n",
        "    </tr>\n",
        "    <tr>\n",
        "      <th>25  </th>\n",
        "      <td>            MANAR</td>\n",
        "      <td>            ELKHOLY</td>\n",
        "      <td>          manarelkholy@gmail.com</td>\n",
        "      <td>          NaN</td>\n",
        "      <td> Al Ashgar compound, El Wahat Road, opposite dr...</td>\n",
        "      <td>                                 villa 11</td>\n",
        "      <td>                         6 October </td>\n",
        "      <td> 6th of October</td>\n",
        "      <td>  SU</td>\n",
        "      <td> Egypt</td>\n",
        "      <td>  EG</td>\n",
        "      <td>    12587</td>\n",
        "      <td>  +201001406762</td>\n",
        "      <td>  no</td>\n",
        "      <td>     0.00</td>\n",
        "      <td>  1</td>\n",
        "      <td>                  NaN</td>\n",
        "      <td> NaN</td>\n",
        "      <td> no</td>\n",
        "    </tr>\n",
        "    <tr>\n",
        "      <th>26  </th>\n",
        "      <td>            Assem</td>\n",
        "      <td>          Elsalmoum</td>\n",
        "      <td>           asooome1415@gmail.com</td>\n",
        "      <td>          NaN</td>\n",
        "      <td>   meeting point near cairo tower/gezira / Zamalek</td>\n",
        "      <td>                                      NaN</td>\n",
        "      <td>                              cairo</td>\n",
        "      <td>          Cairo</td>\n",
        "      <td>   C</td>\n",
        "      <td> Egypt</td>\n",
        "      <td>  EG</td>\n",
        "      <td>    hb123</td>\n",
        "      <td>    01020357103</td>\n",
        "      <td>  no</td>\n",
        "      <td>     0.00</td>\n",
        "      <td>  1</td>\n",
        "      <td>                  NaN</td>\n",
        "      <td> NaN</td>\n",
        "      <td> no</td>\n",
        "    </tr>\n",
        "    <tr>\n",
        "      <th>27  </th>\n",
        "      <td>            Louna</td>\n",
        "      <td>           Geoffroy</td>\n",
        "      <td>         louna_paris@hotmail.com</td>\n",
        "      <td>          NaN</td>\n",
        "      <td>                  #1 shara 152 (at corner of sh 7)</td>\n",
        "      <td>                             #18, floor 5</td>\n",
        "      <td>                              Maadi</td>\n",
        "      <td>          Cairo</td>\n",
        "      <td>   C</td>\n",
        "      <td> Egypt</td>\n",
        "      <td>  EG</td>\n",
        "      <td>  11511??</td>\n",
        "      <td>    01277714347</td>\n",
        "      <td>  no</td>\n",
        "      <td>     0.00</td>\n",
        "      <td>  1</td>\n",
        "      <td>                  NaN</td>\n",
        "      <td> NaN</td>\n",
        "      <td> no</td>\n",
        "    </tr>\n",
        "    <tr>\n",
        "      <th>28  </th>\n",
        "      <td>          Mohamed</td>\n",
        "      <td>          Ezz Eldin</td>\n",
        "      <td>          medo_www98@hotmail.com</td>\n",
        "      <td>          NaN</td>\n",
        "      <td>                      Mohamed Mahmoud basha street</td>\n",
        "      <td>                                      NaN</td>\n",
        "      <td>                               tala</td>\n",
        "      <td>        Monufia</td>\n",
        "      <td> MNF</td>\n",
        "      <td> Egypt</td>\n",
        "      <td>  EG</td>\n",
        "      <td>    32611</td>\n",
        "      <td>    01126711532</td>\n",
        "      <td>  no</td>\n",
        "      <td>     0.00</td>\n",
        "      <td>  0</td>\n",
        "      <td>                  NaN</td>\n",
        "      <td> NaN</td>\n",
        "      <td> no</td>\n",
        "    </tr>\n",
        "    <tr>\n",
        "      <th>29  </th>\n",
        "      <td>            Sahar</td>\n",
        "      <td>      Mohamed Galal</td>\n",
        "      <td>         oottahsahar@hotmail.com</td>\n",
        "      <td>          NaN</td>\n",
        "      <td> 2  elshaheed fayez zakaria street / masaken sh...</td>\n",
        "      <td>                      2nd floor / app 203</td>\n",
        "      <td>                              cairo</td>\n",
        "      <td>          Cairo</td>\n",
        "      <td>   C</td>\n",
        "      <td> Egypt</td>\n",
        "      <td>  EG</td>\n",
        "      <td>    hb123</td>\n",
        "      <td>    01005121848</td>\n",
        "      <td>  no</td>\n",
        "      <td>     0.00</td>\n",
        "      <td>  1</td>\n",
        "      <td>                  NaN</td>\n",
        "      <td> NaN</td>\n",
        "      <td> no</td>\n",
        "    </tr>\n",
        "    <tr>\n",
        "      <th>...</th>\n",
        "      <td>...</td>\n",
        "      <td>...</td>\n",
        "      <td>...</td>\n",
        "      <td>...</td>\n",
        "      <td>...</td>\n",
        "      <td>...</td>\n",
        "      <td>...</td>\n",
        "      <td>...</td>\n",
        "      <td>...</td>\n",
        "      <td>...</td>\n",
        "      <td>...</td>\n",
        "      <td>...</td>\n",
        "      <td>...</td>\n",
        "      <td>...</td>\n",
        "      <td>...</td>\n",
        "      <td>...</td>\n",
        "      <td>...</td>\n",
        "      <td>...</td>\n",
        "      <td>...</td>\n",
        "    </tr>\n",
        "    <tr>\n",
        "      <th>3063</th>\n",
        "      <td>            Adham</td>\n",
        "      <td>             Hamada</td>\n",
        "      <td>            Adhamada@hotmail.com</td>\n",
        "      <td>          NaN</td>\n",
        "      <td>                5 eskandar el Akbar st. Heliopolis</td>\n",
        "      <td>                              First floor</td>\n",
        "      <td>                              Cairo</td>\n",
        "      <td>            NaN</td>\n",
        "      <td> NaN</td>\n",
        "      <td> Egypt</td>\n",
        "      <td>  EG</td>\n",
        "      <td>    00000</td>\n",
        "      <td>    01223221581</td>\n",
        "      <td> yes</td>\n",
        "      <td>    71.20</td>\n",
        "      <td>  1</td>\n",
        "      <td>                  NaN</td>\n",
        "      <td> NaN</td>\n",
        "      <td> no</td>\n",
        "    </tr>\n",
        "    <tr>\n",
        "      <th>3064</th>\n",
        "      <td>          Houssam</td>\n",
        "      <td>             Elokda</td>\n",
        "      <td>        houssam.elokda@gmail.com</td>\n",
        "      <td>          NaN</td>\n",
        "      <td>               96 Safari, Golf City, El-Obour City</td>\n",
        "      <td>                                      NaN</td>\n",
        "      <td>                              Cairo</td>\n",
        "      <td>          Cairo</td>\n",
        "      <td>   C</td>\n",
        "      <td> Egypt</td>\n",
        "      <td>  EG</td>\n",
        "      <td>      NaN</td>\n",
        "      <td>    01095830000</td>\n",
        "      <td> yes</td>\n",
        "      <td>   448.50</td>\n",
        "      <td>  1</td>\n",
        "      <td>                  NaN</td>\n",
        "      <td> NaN</td>\n",
        "      <td> no</td>\n",
        "    </tr>\n",
        "    <tr>\n",
        "      <th>3065</th>\n",
        "      <td>       Subscriber</td>\n",
        "      <td>         Newsletter</td>\n",
        "      <td>          pensee.afifi@gmail.com</td>\n",
        "      <td>          NaN</td>\n",
        "      <td>                                               NaN</td>\n",
        "      <td>                                      NaN</td>\n",
        "      <td>                                NaN</td>\n",
        "      <td>            NaN</td>\n",
        "      <td> NaN</td>\n",
        "      <td>   NaN</td>\n",
        "      <td> NaN</td>\n",
        "      <td>      NaN</td>\n",
        "      <td>            NaN</td>\n",
        "      <td> yes</td>\n",
        "      <td>     0.00</td>\n",
        "      <td>  0</td>\n",
        "      <td> newsletter, prospect</td>\n",
        "      <td> NaN</td>\n",
        "      <td> no</td>\n",
        "    </tr>\n",
        "    <tr>\n",
        "      <th>3066</th>\n",
        "      <td>       Subscriber</td>\n",
        "      <td>         Newsletter</td>\n",
        "      <td>            ns.hamouda@gmail.com</td>\n",
        "      <td>          NaN</td>\n",
        "      <td>                                               NaN</td>\n",
        "      <td>                                      NaN</td>\n",
        "      <td>                                NaN</td>\n",
        "      <td>            NaN</td>\n",
        "      <td> NaN</td>\n",
        "      <td>   NaN</td>\n",
        "      <td> NaN</td>\n",
        "      <td>      NaN</td>\n",
        "      <td>            NaN</td>\n",
        "      <td> yes</td>\n",
        "      <td>     0.00</td>\n",
        "      <td>  0</td>\n",
        "      <td> newsletter, prospect</td>\n",
        "      <td> NaN</td>\n",
        "      <td> no</td>\n",
        "    </tr>\n",
        "    <tr>\n",
        "      <th>3067</th>\n",
        "      <td>           Hesham</td>\n",
        "      <td>          ElBanhawi</td>\n",
        "      <td>             Hania7894@gmail.com</td>\n",
        "      <td>          NaN</td>\n",
        "      <td>                         24, Iskandar Al Akbar St.</td>\n",
        "      <td>                                      NaN</td>\n",
        "      <td>                              Cairo</td>\n",
        "      <td>     Heliopolis</td>\n",
        "      <td> NaN</td>\n",
        "      <td> Egypt</td>\n",
        "      <td>  EG</td>\n",
        "      <td>    11431</td>\n",
        "      <td>            NaN</td>\n",
        "      <td>  no</td>\n",
        "      <td>   486.68</td>\n",
        "      <td>  3</td>\n",
        "      <td>                  NaN</td>\n",
        "      <td> NaN</td>\n",
        "      <td> no</td>\n",
        "    </tr>\n",
        "    <tr>\n",
        "      <th>3068</th>\n",
        "      <td>       Subscriber</td>\n",
        "      <td>         Newsletter</td>\n",
        "      <td>                hds160@gmail.com</td>\n",
        "      <td>          NaN</td>\n",
        "      <td> Flat 44, 4th floor, Building 6036, El Meerag E...</td>\n",
        "      <td>    Turn Right at shell/total gas station</td>\n",
        "      <td>                              Cairo</td>\n",
        "      <td>            NaN</td>\n",
        "      <td> NaN</td>\n",
        "      <td> Egypt</td>\n",
        "      <td>  EG</td>\n",
        "      <td>    00000</td>\n",
        "      <td>    01009889949</td>\n",
        "      <td> yes</td>\n",
        "      <td> 10006.72</td>\n",
        "      <td> 23</td>\n",
        "      <td> newsletter, prospect</td>\n",
        "      <td> NaN</td>\n",
        "      <td> no</td>\n",
        "    </tr>\n",
        "    <tr>\n",
        "      <th>3069</th>\n",
        "      <td>             Iman</td>\n",
        "      <td>          El Gammal</td>\n",
        "      <td>               Mamazzz@gmail.com</td>\n",
        "      <td>          NaN</td>\n",
        "      <td>                         11isaac yacoub, 7th floor</td>\n",
        "      <td>                                       15</td>\n",
        "      <td>                              Cairo</td>\n",
        "      <td>          Cairo</td>\n",
        "      <td>   C</td>\n",
        "      <td> Egypt</td>\n",
        "      <td>  EG</td>\n",
        "      <td>     1156</td>\n",
        "      <td>    01001459115</td>\n",
        "      <td> yes</td>\n",
        "      <td>  3617.06</td>\n",
        "      <td> 21</td>\n",
        "      <td>                  NaN</td>\n",
        "      <td> NaN</td>\n",
        "      <td> no</td>\n",
        "    </tr>\n",
        "    <tr>\n",
        "      <th>3070</th>\n",
        "      <td>            Ahmed</td>\n",
        "      <td>            Ibrahim</td>\n",
        "      <td>               asony11@yahoo.com</td>\n",
        "      <td>          NaN</td>\n",
        "      <td> 20 Mohamed Ali Elbakli from Elhegaz street nea...</td>\n",
        "      <td>                               Heliopolis</td>\n",
        "      <td>                              Cairo</td>\n",
        "      <td>            NaN</td>\n",
        "      <td> NaN</td>\n",
        "      <td> Egypt</td>\n",
        "      <td>  EG</td>\n",
        "      <td>    11361</td>\n",
        "      <td>    01152033889</td>\n",
        "      <td> yes</td>\n",
        "      <td>  7177.52</td>\n",
        "      <td> 21</td>\n",
        "      <td>                  NaN</td>\n",
        "      <td> NaN</td>\n",
        "      <td> no</td>\n",
        "    </tr>\n",
        "    <tr>\n",
        "      <th>3071</th>\n",
        "      <td>          djamila</td>\n",
        "      <td> benderbous Kafoufi</td>\n",
        "      <td>    djamila.benderbous@gmail.com</td>\n",
        "      <td>          NaN</td>\n",
        "      <td>     El Gazira Street, Smart Life Compound,Tagamo3</td>\n",
        "      <td>                  3rd floor, appartment 2</td>\n",
        "      <td> Street 90,Concorde Plaza Food Mall</td>\n",
        "      <td>          Cairo</td>\n",
        "      <td>   C</td>\n",
        "      <td> Egypt</td>\n",
        "      <td>  EG</td>\n",
        "      <td>    12000</td>\n",
        "      <td>    01229918886</td>\n",
        "      <td> yes</td>\n",
        "      <td> 15013.46</td>\n",
        "      <td> 32</td>\n",
        "      <td> newsletter, prospect</td>\n",
        "      <td> NaN</td>\n",
        "      <td> no</td>\n",
        "    </tr>\n",
        "    <tr>\n",
        "      <th>3072</th>\n",
        "      <td>       Subscriber</td>\n",
        "      <td>         Newsletter</td>\n",
        "      <td>         salwa_saiid@hotmail.com</td>\n",
        "      <td>         home</td>\n",
        "      <td> 6 mohy el din abd el zaher,ard el golf ,Heliop...</td>\n",
        "      <td>                    behind almaza central</td>\n",
        "      <td>                              Cairo</td>\n",
        "      <td>     Heliopolis</td>\n",
        "      <td> NaN</td>\n",
        "      <td> Egypt</td>\n",
        "      <td>  EG</td>\n",
        "      <td>      170</td>\n",
        "      <td>    01222105459</td>\n",
        "      <td> yes</td>\n",
        "      <td>  1665.25</td>\n",
        "      <td>  5</td>\n",
        "      <td> newsletter, prospect</td>\n",
        "      <td> NaN</td>\n",
        "      <td> no</td>\n",
        "    </tr>\n",
        "    <tr>\n",
        "      <th>3073</th>\n",
        "      <td>         Mohamed </td>\n",
        "      <td>          El Gammal</td>\n",
        "      <td>        raghebelgammal@yahoo.com</td>\n",
        "      <td>          NaN</td>\n",
        "      <td> 6 Mohamed labib el kerdani st. 1st Floor, Flat 1 </td>\n",
        "      <td>                          Off El Marghani</td>\n",
        "      <td>                              Cairo</td>\n",
        "      <td>            NaN</td>\n",
        "      <td> NaN</td>\n",
        "      <td> Egypt</td>\n",
        "      <td>  EG</td>\n",
        "      <td>    00202</td>\n",
        "      <td>    01001407133</td>\n",
        "      <td> yes</td>\n",
        "      <td>   238.28</td>\n",
        "      <td>  3</td>\n",
        "      <td>                  NaN</td>\n",
        "      <td> NaN</td>\n",
        "      <td> no</td>\n",
        "    </tr>\n",
        "    <tr>\n",
        "      <th>3074</th>\n",
        "      <td>       Subscriber</td>\n",
        "      <td>         Newsletter</td>\n",
        "      <td>            ellyke18@hotmail.com</td>\n",
        "      <td>          NaN</td>\n",
        "      <td>                                               NaN</td>\n",
        "      <td>                                      NaN</td>\n",
        "      <td>                                NaN</td>\n",
        "      <td>            NaN</td>\n",
        "      <td> NaN</td>\n",
        "      <td>   NaN</td>\n",
        "      <td> NaN</td>\n",
        "      <td>      NaN</td>\n",
        "      <td>            NaN</td>\n",
        "      <td> yes</td>\n",
        "      <td>     0.00</td>\n",
        "      <td>  0</td>\n",
        "      <td> newsletter, prospect</td>\n",
        "      <td> NaN</td>\n",
        "      <td> no</td>\n",
        "    </tr>\n",
        "    <tr>\n",
        "      <th>3075</th>\n",
        "      <td>       Subscriber</td>\n",
        "      <td>         Newsletter</td>\n",
        "      <td>            maggy.ezzo@gmail.com</td>\n",
        "      <td>          NaN</td>\n",
        "      <td>                                               NaN</td>\n",
        "      <td>                                      NaN</td>\n",
        "      <td>                                NaN</td>\n",
        "      <td>            NaN</td>\n",
        "      <td> NaN</td>\n",
        "      <td>   NaN</td>\n",
        "      <td> NaN</td>\n",
        "      <td>      NaN</td>\n",
        "      <td>            NaN</td>\n",
        "      <td> yes</td>\n",
        "      <td>     0.00</td>\n",
        "      <td>  0</td>\n",
        "      <td> newsletter, prospect</td>\n",
        "      <td> NaN</td>\n",
        "      <td> no</td>\n",
        "    </tr>\n",
        "    <tr>\n",
        "      <th>3076</th>\n",
        "      <td>            rania</td>\n",
        "      <td>              magdi</td>\n",
        "      <td>           fairymaid82@yahoo.com</td>\n",
        "      <td> Arab Academy</td>\n",
        "      <td>                                         nasr city</td>\n",
        "      <td>                                      NaN</td>\n",
        "      <td>                              Cairo</td>\n",
        "      <td>             11</td>\n",
        "      <td> NaN</td>\n",
        "      <td> Egypt</td>\n",
        "      <td>  EG</td>\n",
        "      <td>   200200</td>\n",
        "      <td>       24551740</td>\n",
        "      <td> yes</td>\n",
        "      <td>   290.48</td>\n",
        "      <td>  1</td>\n",
        "      <td>                  NaN</td>\n",
        "      <td> NaN</td>\n",
        "      <td> no</td>\n",
        "    </tr>\n",
        "    <tr>\n",
        "      <th>3077</th>\n",
        "      <td>             Amal</td>\n",
        "      <td>           elguindy</td>\n",
        "      <td>         milomilogindi@yahoo.com</td>\n",
        "      <td>          NaN</td>\n",
        "      <td>  66 thawra street masr elgedida 3rd floor apt. 17</td>\n",
        "      <td>                                      NaN</td>\n",
        "      <td>                              cairo</td>\n",
        "      <td>          Cairo</td>\n",
        "      <td>   C</td>\n",
        "      <td> Egypt</td>\n",
        "      <td>  EG</td>\n",
        "      <td>    hb123</td>\n",
        "      <td>   01223103921 </td>\n",
        "      <td> yes</td>\n",
        "      <td>  9648.65</td>\n",
        "      <td> 52</td>\n",
        "      <td>                  NaN</td>\n",
        "      <td> NaN</td>\n",
        "      <td> no</td>\n",
        "    </tr>\n",
        "    <tr>\n",
        "      <th>3078</th>\n",
        "      <td>       Subscriber</td>\n",
        "      <td>         Newsletter</td>\n",
        "      <td>                biro5s@yahoo.com</td>\n",
        "      <td>          NaN</td>\n",
        "      <td>                       Sokaria billing el Kawasaki</td>\n",
        "      <td>                                      NaN</td>\n",
        "      <td>                           Hurghada</td>\n",
        "      <td>            NaN</td>\n",
        "      <td> NaN</td>\n",
        "      <td> Egypt</td>\n",
        "      <td>  EG</td>\n",
        "      <td>      065</td>\n",
        "      <td>    01141117775</td>\n",
        "      <td> yes</td>\n",
        "      <td>    57.02</td>\n",
        "      <td>  1</td>\n",
        "      <td> newsletter, prospect</td>\n",
        "      <td> NaN</td>\n",
        "      <td> no</td>\n",
        "    </tr>\n",
        "    <tr>\n",
        "      <th>3079</th>\n",
        "      <td>          Pauchez</td>\n",
        "      <td>           Virginie</td>\n",
        "      <td>            nini.etoile@voila.fr</td>\n",
        "      <td>          NaN</td>\n",
        "      <td>                     Sawaky Camp-Cornish str-Dahar</td>\n",
        "      <td>           Geisum Hotel-Cornish str-Dahar</td>\n",
        "      <td>                           Hurghada</td>\n",
        "      <td>            NaN</td>\n",
        "      <td> NaN</td>\n",
        "      <td> Egypt</td>\n",
        "      <td>  EG</td>\n",
        "      <td>    84511</td>\n",
        "      <td>    01221383917</td>\n",
        "      <td> yes</td>\n",
        "      <td>    77.77</td>\n",
        "      <td>  1</td>\n",
        "      <td>                  NaN</td>\n",
        "      <td> NaN</td>\n",
        "      <td> no</td>\n",
        "    </tr>\n",
        "    <tr>\n",
        "      <th>3080</th>\n",
        "      <td>       Subscriber</td>\n",
        "      <td>         Newsletter</td>\n",
        "      <td>         mahmoud.moheb@gmail.com</td>\n",
        "      <td>          NaN</td>\n",
        "      <td>                                               NaN</td>\n",
        "      <td>                                      NaN</td>\n",
        "      <td>                                NaN</td>\n",
        "      <td>            NaN</td>\n",
        "      <td> NaN</td>\n",
        "      <td>   NaN</td>\n",
        "      <td> NaN</td>\n",
        "      <td>      NaN</td>\n",
        "      <td>            NaN</td>\n",
        "      <td> yes</td>\n",
        "      <td>     0.00</td>\n",
        "      <td>  0</td>\n",
        "      <td> newsletter, prospect</td>\n",
        "      <td> NaN</td>\n",
        "      <td> no</td>\n",
        "    </tr>\n",
        "    <tr>\n",
        "      <th>3081</th>\n",
        "      <td>            Betty</td>\n",
        "      <td>            Hedrich</td>\n",
        "      <td>             bettyhedrich@gmx.de</td>\n",
        "      <td>          NaN</td>\n",
        "      <td>                      Touristic Center, Villa 1133</td>\n",
        "      <td>                                      NaN</td>\n",
        "      <td>                           Hurghada</td>\n",
        "      <td>            NaN</td>\n",
        "      <td> NaN</td>\n",
        "      <td> Egypt</td>\n",
        "      <td>  EG</td>\n",
        "      <td>     0000</td>\n",
        "      <td> 00201001098312</td>\n",
        "      <td> yes</td>\n",
        "      <td>   137.33</td>\n",
        "      <td>  2</td>\n",
        "      <td>                  NaN</td>\n",
        "      <td> NaN</td>\n",
        "      <td> no</td>\n",
        "    </tr>\n",
        "    <tr>\n",
        "      <th>3082</th>\n",
        "      <td>       Subscriber</td>\n",
        "      <td>         Newsletter</td>\n",
        "      <td>          yusif@joe-networks.com</td>\n",
        "      <td>          NaN</td>\n",
        "      <td>                                               NaN</td>\n",
        "      <td>                                      NaN</td>\n",
        "      <td>                                NaN</td>\n",
        "      <td>            NaN</td>\n",
        "      <td> NaN</td>\n",
        "      <td>   NaN</td>\n",
        "      <td> NaN</td>\n",
        "      <td>      NaN</td>\n",
        "      <td>            NaN</td>\n",
        "      <td> yes</td>\n",
        "      <td>     0.00</td>\n",
        "      <td>  0</td>\n",
        "      <td> newsletter, prospect</td>\n",
        "      <td> NaN</td>\n",
        "      <td> no</td>\n",
        "    </tr>\n",
        "    <tr>\n",
        "      <th>3083</th>\n",
        "      <td>       Subscriber</td>\n",
        "      <td>         Newsletter</td>\n",
        "      <td> mohamed.el-hossary@diversey.com</td>\n",
        "      <td>          NaN</td>\n",
        "      <td>                                               NaN</td>\n",
        "      <td>                                      NaN</td>\n",
        "      <td>                                NaN</td>\n",
        "      <td>            NaN</td>\n",
        "      <td> NaN</td>\n",
        "      <td>   NaN</td>\n",
        "      <td> NaN</td>\n",
        "      <td>      NaN</td>\n",
        "      <td>            NaN</td>\n",
        "      <td> yes</td>\n",
        "      <td>     0.00</td>\n",
        "      <td>  0</td>\n",
        "      <td> newsletter, prospect</td>\n",
        "      <td> NaN</td>\n",
        "      <td> no</td>\n",
        "    </tr>\n",
        "    <tr>\n",
        "      <th>3084</th>\n",
        "      <td>             Rola</td>\n",
        "      <td>               Amin</td>\n",
        "      <td>                   rulah@msn.com</td>\n",
        "      <td>          NaN</td>\n",
        "      <td>                           Elgouna new marina mb19</td>\n",
        "      <td>                                      NaN</td>\n",
        "      <td>                            Elgouna</td>\n",
        "      <td>        Red Sea</td>\n",
        "      <td>  BA</td>\n",
        "      <td> Egypt</td>\n",
        "      <td>  EG</td>\n",
        "      <td>    11183</td>\n",
        "      <td>    01007776172</td>\n",
        "      <td> yes</td>\n",
        "      <td>  3589.95</td>\n",
        "      <td>  6</td>\n",
        "      <td>                  NaN</td>\n",
        "      <td> NaN</td>\n",
        "      <td> no</td>\n",
        "    </tr>\n",
        "    <tr>\n",
        "      <th>3085</th>\n",
        "      <td> Mr.Akram Mohamed</td>\n",
        "      <td>         Abu Ashara</td>\n",
        "      <td>             milda_b@hotmail.com</td>\n",
        "      <td>          NaN</td>\n",
        "      <td>                                The View compound,</td>\n",
        "      <td>                                 Flat 318</td>\n",
        "      <td>                           Hurghada</td>\n",
        "      <td>        Red Sea</td>\n",
        "      <td>  BA</td>\n",
        "      <td> Egypt</td>\n",
        "      <td>  EG</td>\n",
        "      <td>     3137</td>\n",
        "      <td>    01001514400</td>\n",
        "      <td> yes</td>\n",
        "      <td>   160.55</td>\n",
        "      <td>  2</td>\n",
        "      <td>                  NaN</td>\n",
        "      <td> NaN</td>\n",
        "      <td> no</td>\n",
        "    </tr>\n",
        "    <tr>\n",
        "      <th>3086</th>\n",
        "      <td>              Sam</td>\n",
        "      <td>            Worrior</td>\n",
        "      <td>         sam.warrior@yahoo.co.uk</td>\n",
        "      <td>          NaN</td>\n",
        "      <td>                                               NaN</td>\n",
        "      <td>                                      NaN</td>\n",
        "      <td>                                NaN</td>\n",
        "      <td>            NaN</td>\n",
        "      <td> NaN</td>\n",
        "      <td>   NaN</td>\n",
        "      <td> NaN</td>\n",
        "      <td>      NaN</td>\n",
        "      <td>            NaN</td>\n",
        "      <td> yes</td>\n",
        "      <td>     0.00</td>\n",
        "      <td>  0</td>\n",
        "      <td> newsletter, prospect</td>\n",
        "      <td> NaN</td>\n",
        "      <td> no</td>\n",
        "    </tr>\n",
        "    <tr>\n",
        "      <th>3087</th>\n",
        "      <td>             lika</td>\n",
        "      <td>      novoshinskaya</td>\n",
        "      <td>          lik-novikova@yandex.ru</td>\n",
        "      <td>     star gym</td>\n",
        "      <td>                           el kawther,desert pearl</td>\n",
        "      <td>                  ek kawther,desert pearl</td>\n",
        "      <td>                           hurghada</td>\n",
        "      <td>            NaN</td>\n",
        "      <td> NaN</td>\n",
        "      <td> Egypt</td>\n",
        "      <td>  EG</td>\n",
        "      <td> italy113</td>\n",
        "      <td>    01069553011</td>\n",
        "      <td> yes</td>\n",
        "      <td>   507.15</td>\n",
        "      <td>  5</td>\n",
        "      <td>                  NaN</td>\n",
        "      <td> NaN</td>\n",
        "      <td> no</td>\n",
        "    </tr>\n",
        "    <tr>\n",
        "      <th>3088</th>\n",
        "      <td>           Monika</td>\n",
        "      <td>           Angelika</td>\n",
        "      <td>       angelika.monika@yahoo.com</td>\n",
        "      <td>          NaN</td>\n",
        "      <td>                                               NaN</td>\n",
        "      <td>                                      NaN</td>\n",
        "      <td>                                NaN</td>\n",
        "      <td>            NaN</td>\n",
        "      <td> NaN</td>\n",
        "      <td>   NaN</td>\n",
        "      <td> NaN</td>\n",
        "      <td>      NaN</td>\n",
        "      <td>            NaN</td>\n",
        "      <td>  no</td>\n",
        "      <td>     0.00</td>\n",
        "      <td>  0</td>\n",
        "      <td> newsletter, prospect</td>\n",
        "      <td> NaN</td>\n",
        "      <td> no</td>\n",
        "    </tr>\n",
        "    <tr>\n",
        "      <th>3089</th>\n",
        "      <td>            bente</td>\n",
        "      <td>            ringnes</td>\n",
        "      <td>             bente.ring@yahoo.no</td>\n",
        "      <td>          NaN</td>\n",
        "      <td>                      El Kiadat, El Dahar,Red Sea </td>\n",
        "      <td>                                      NaN</td>\n",
        "      <td>                           Hurghada</td>\n",
        "      <td>            NaN</td>\n",
        "      <td> NaN</td>\n",
        "      <td> Egypt</td>\n",
        "      <td>  EG</td>\n",
        "      <td>     0020</td>\n",
        "      <td>    01141437074</td>\n",
        "      <td> yes</td>\n",
        "      <td>  6441.50</td>\n",
        "      <td> 11</td>\n",
        "      <td> newsletter, prospect</td>\n",
        "      <td> NaN</td>\n",
        "      <td> no</td>\n",
        "    </tr>\n",
        "    <tr>\n",
        "      <th>3090</th>\n",
        "      <td>            Cathy</td>\n",
        "      <td>                Pod</td>\n",
        "      <td>            cathypod@hotmail.com</td>\n",
        "      <td>          NaN</td>\n",
        "      <td>                                         el kyadat</td>\n",
        "      <td>               behind cowboy, corniche st</td>\n",
        "      <td>                           hurghada</td>\n",
        "      <td>            NaN</td>\n",
        "      <td> NaN</td>\n",
        "      <td> Egypt</td>\n",
        "      <td>  EG</td>\n",
        "      <td>    84511</td>\n",
        "      <td>    01224061449</td>\n",
        "      <td>  no</td>\n",
        "      <td>    59.60</td>\n",
        "      <td>  1</td>\n",
        "      <td> newsletter, prospect</td>\n",
        "      <td> NaN</td>\n",
        "      <td> no</td>\n",
        "    </tr>\n",
        "    <tr>\n",
        "      <th>3091</th>\n",
        "      <td>           Sabine</td>\n",
        "      <td>              Braun</td>\n",
        "      <td>          sabine.braun@gpnet.biz</td>\n",
        "      <td>        GPnet</td>\n",
        "      <td>                                              Home</td>\n",
        "      <td>                                      NaN</td>\n",
        "      <td>                           Hurghada</td>\n",
        "      <td>        Red Sea</td>\n",
        "      <td>  BA</td>\n",
        "      <td> Egypt</td>\n",
        "      <td>  EG</td>\n",
        "      <td>    84151</td>\n",
        "      <td>        0123456</td>\n",
        "      <td> yes</td>\n",
        "      <td>     0.00</td>\n",
        "      <td>  0</td>\n",
        "      <td>                  NaN</td>\n",
        "      <td> NaN</td>\n",
        "      <td> no</td>\n",
        "    </tr>\n",
        "    <tr>\n",
        "      <th>3092</th>\n",
        "      <td>            Ramzy</td>\n",
        "      <td>                 ..</td>\n",
        "      <td>           hashim.alaa@gmail.com</td>\n",
        "      <td>          NaN</td>\n",
        "      <td>               124 El nile st., corniche el dokki </td>\n",
        "      <td>                                      NaN</td>\n",
        "      <td>                              dokki</td>\n",
        "      <td>          Cairo</td>\n",
        "      <td>   C</td>\n",
        "      <td> Egypt</td>\n",
        "      <td>  EG</td>\n",
        "      <td>   Am1234</td>\n",
        "      <td>    01020888046</td>\n",
        "      <td> yes</td>\n",
        "      <td> 15007.46</td>\n",
        "      <td> 37</td>\n",
        "      <td> newsletter, prospect</td>\n",
        "      <td> NaN</td>\n",
        "      <td> no</td>\n",
        "    </tr>\n",
        "  </tbody>\n",
        "</table>\n",
        "<p>3093 rows \u00d7 19 columns</p>\n",
        "</div>"
       ],
       "metadata": {},
       "output_type": "pyout",
       "prompt_number": 9,
       "text": [
        "            First Name           Last Name                            Email  \\\n",
        "0               Rehab              Mansour           rehabmansour@gmail.com   \n",
        "1                RAfik              BEbawi                 rhbebawi@live.ca   \n",
        "2            Francesca             Cicardi           fracicardi@hotmail.com   \n",
        "3                Ahmed           Aboulella           ahmed.fakhry@gmail.com   \n",
        "4               Laila                akram             Missilou11@yahoo.com   \n",
        "5               Sally                Salem          sallysalem123@gmail.com   \n",
        "6               Gaylyn             Mbogho            gaylynmbogho@yahoo.com   \n",
        "7                 Daii                 Ali             Daiieldeeb@gmail.com   \n",
        "8                 Yara                 Ali              yara.azam@gmail.com   \n",
        "9              Mohamed             Mokhtar               m.mkhtr@icloud.com   \n",
        "10               FIona               Brown            fmnkbrown@hotmail.com   \n",
        "11                Hind              Haggag            hind.haggag@gmail.com   \n",
        "12               Hazem            El Shamy            hazem.shamy@gmail.com   \n",
        "13               Tamer          Elmenshawy           cyperx2000@hotmail.com   \n",
        "14               James                Belk        jamesmorgan0091@gmail.com   \n",
        "15                Maro               Maher           RODY.DOVE123@GMAIL.COM   \n",
        "16                Heba               Belal              hibba_b@hotmail.com   \n",
        "17             Pascale               Nader           pascalenader@gmail.com   \n",
        "18                Hoda               Salah           hodasalah@aucegypt.edu   \n",
        "19              Hassan             Elshamy           hasanelshamy@gmail.com   \n",
        "20               Rania              Hassan                r_h_ali@yahoo.com   \n",
        "21              Mervat             Elgamal                 fabbff@gmail.com   \n",
        "22                Muaz               Munir              muazmunir@gmail.com   \n",
        "23                Amal            Akhnoukh           amalakhnoukh@gmail.com   \n",
        "24               Sonja                Lang          sonja.langweb@gmail.com   \n",
        "25               MANAR             ELKHOLY           manarelkholy@gmail.com   \n",
        "26               Assem           Elsalmoum            asooome1415@gmail.com   \n",
        "27               Louna            Geoffroy          louna_paris@hotmail.com   \n",
        "28             Mohamed           Ezz Eldin           medo_www98@hotmail.com   \n",
        "29               Sahar       Mohamed Galal          oottahsahar@hotmail.com   \n",
        "...                ...                 ...                              ...   \n",
        "3063             Adham              Hamada             Adhamada@hotmail.com   \n",
        "3064           Houssam              Elokda         houssam.elokda@gmail.com   \n",
        "3065        Subscriber          Newsletter           pensee.afifi@gmail.com   \n",
        "3066        Subscriber          Newsletter             ns.hamouda@gmail.com   \n",
        "3067            Hesham           ElBanhawi              Hania7894@gmail.com   \n",
        "3068        Subscriber          Newsletter                 hds160@gmail.com   \n",
        "3069              Iman           El Gammal                Mamazzz@gmail.com   \n",
        "3070             Ahmed             Ibrahim                asony11@yahoo.com   \n",
        "3071           djamila  benderbous Kafoufi     djamila.benderbous@gmail.com   \n",
        "3072        Subscriber          Newsletter          salwa_saiid@hotmail.com   \n",
        "3073          Mohamed            El Gammal         raghebelgammal@yahoo.com   \n",
        "3074        Subscriber          Newsletter             ellyke18@hotmail.com   \n",
        "3075        Subscriber          Newsletter             maggy.ezzo@gmail.com   \n",
        "3076             rania               magdi            fairymaid82@yahoo.com   \n",
        "3077              Amal            elguindy          milomilogindi@yahoo.com   \n",
        "3078        Subscriber          Newsletter                 biro5s@yahoo.com   \n",
        "3079           Pauchez            Virginie             nini.etoile@voila.fr   \n",
        "3080        Subscriber          Newsletter          mahmoud.moheb@gmail.com   \n",
        "3081             Betty             Hedrich              bettyhedrich@gmx.de   \n",
        "3082        Subscriber          Newsletter           yusif@joe-networks.com   \n",
        "3083        Subscriber          Newsletter  mohamed.el-hossary@diversey.com   \n",
        "3084              Rola                Amin                    rulah@msn.com   \n",
        "3085  Mr.Akram Mohamed          Abu Ashara              milda_b@hotmail.com   \n",
        "3086               Sam             Worrior          sam.warrior@yahoo.co.uk   \n",
        "3087              lika       novoshinskaya           lik-novikova@yandex.ru   \n",
        "3088            Monika            Angelika        angelika.monika@yahoo.com   \n",
        "3089             bente             ringnes              bente.ring@yahoo.no   \n",
        "3090             Cathy                 Pod             cathypod@hotmail.com   \n",
        "3091            Sabine               Braun           sabine.braun@gpnet.biz   \n",
        "3092             Ramzy                  ..            hashim.alaa@gmail.com   \n",
        "\n",
        "           Company                                           Address1  \\\n",
        "0              NaN  8 Al Shahid Ahmed Zaki St. Behind El Obour Bld...   \n",
        "1              NaN                                                NaN   \n",
        "2              NaN                                 5, Fouad al Ahwany   \n",
        "3            Mipex                 10 Tahreer St, Sheraton Heliopolis   \n",
        "4              NaN  Maadi*Road14*Villa60*Behind Qesm Elmaady*Maadi...   \n",
        "5              NaN  \u0627\u0644\u0642\u0627\u0647\u0631\u0629 \u0627\u0644\u062c\u062f\u064a\u062f\u0629 \u0627\u0644\u062a\u062c\u0645\u0639 \u0627\u0644\u0627\u0648\u0644 5 \u0634\u0627\u0631\u0639 \u0627\u0644\u0632\u0631\u0642\u0627\u0646\u0649*\u0627...   \n",
        "6              NaN                                       Rd232 Build9   \n",
        "7              NaN  Plot 9519, Adly El Meligy St. Off Rd. 9, Mokat...   \n",
        "8              NaN                                7 Youssef Abbas St.   \n",
        "9              NaN                          34, Higaz st mohandiseen    \n",
        "10             NaN                                                NaN   \n",
        "11          Doctor                 9 Africa-emtedad Mostafa Al Nahhas   \n",
        "12             NaN  6th of october, sheikh zayed city, zayed 2000 ...   \n",
        "13             NaN                                    27 El Cablat ST   \n",
        "14             NaN                                       1904 ANN AVE   \n",
        "15             NaN  15 Ismail Mohamed st. Borg Jedda- opposite Kol...   \n",
        "16             NaN  \u0645\u064a\u062f\u0627\u0646 \u0627\u0644\u062c\u0645\u0647\u0648\u0631\u064a\u0629 \u0645\u062a\u0641\u0631\u0639 \u0645\u0646 \u0627\u0644\u0628\u0637\u0644 \u0627\u062d\u0645\u062f \u0639\u0628\u062f \u0627\u0644\u0639\u0632\u064a\u0632...   \n",
        "17             NaN                    6, Hassan sabry street, zamalek   \n",
        "18             NaN                                                NaN   \n",
        "19             NaN                                                NaN   \n",
        "20             NaN  6 abd elrahman ebn elhakam from hassan aflaton...   \n",
        "21             NaN                                       24 Yasmeen 2   \n",
        "22             NaN  \u0627\u0634\u0627\u0631\u0639 \u0627\u0644\u0645\u062d\u0637\u0629 \u0639\u0645\u0627\u0631\u0627\u062a \u0627\u0644\u0627\u0648\u0642\u0627\u0641 \u0639\u0645\u0627\u0631\u0629 8 \u0634\u0642\u06299  \u0627\u0644\u062f\u0648...   \n",
        "23             NaN                             villa 29 Arabella Park   \n",
        "24             NaN         El-Katameya Residence, Besides JW Marriott   \n",
        "25             NaN  Al Ashgar compound, El Wahat Road, opposite dr...   \n",
        "26             NaN    meeting point near cairo tower/gezira / Zamalek   \n",
        "27             NaN                   #1 shara 152 (at corner of sh 7)   \n",
        "28             NaN                       Mohamed Mahmoud basha street   \n",
        "29             NaN  2  elshaheed fayez zakaria street / masaken sh...   \n",
        "...            ...                                                ...   \n",
        "3063           NaN                 5 eskandar el Akbar st. Heliopolis   \n",
        "3064           NaN                96 Safari, Golf City, El-Obour City   \n",
        "3065           NaN                                                NaN   \n",
        "3066           NaN                                                NaN   \n",
        "3067           NaN                          24, Iskandar Al Akbar St.   \n",
        "3068           NaN  Flat 44, 4th floor, Building 6036, El Meerag E...   \n",
        "3069           NaN                          11isaac yacoub, 7th floor   \n",
        "3070           NaN  20 Mohamed Ali Elbakli from Elhegaz street nea...   \n",
        "3071           NaN      El Gazira Street, Smart Life Compound,Tagamo3   \n",
        "3072          home  6 mohy el din abd el zaher,ard el golf ,Heliop...   \n",
        "3073           NaN  6 Mohamed labib el kerdani st. 1st Floor, Flat 1    \n",
        "3074           NaN                                                NaN   \n",
        "3075           NaN                                                NaN   \n",
        "3076  Arab Academy                                          nasr city   \n",
        "3077           NaN   66 thawra street masr elgedida 3rd floor apt. 17   \n",
        "3078           NaN                        Sokaria billing el Kawasaki   \n",
        "3079           NaN                      Sawaky Camp-Cornish str-Dahar   \n",
        "3080           NaN                                                NaN   \n",
        "3081           NaN                       Touristic Center, Villa 1133   \n",
        "3082           NaN                                                NaN   \n",
        "3083           NaN                                                NaN   \n",
        "3084           NaN                            Elgouna new marina mb19   \n",
        "3085           NaN                                 The View compound,   \n",
        "3086           NaN                                                NaN   \n",
        "3087      star gym                            el kawther,desert pearl   \n",
        "3088           NaN                                                NaN   \n",
        "3089           NaN                       El Kiadat, El Dahar,Red Sea    \n",
        "3090           NaN                                          el kyadat   \n",
        "3091         GPnet                                               Home   \n",
        "3092           NaN                124 El nile st., corniche el dokki    \n",
        "\n",
        "                                      Address2  \\\n",
        "0                           Floor 9 - Appt. 91   \n",
        "1                                          NaN   \n",
        "2                            1st floor, apt. 3   \n",
        "3                                            8   \n",
        "4                                          NaN   \n",
        "5                                          NaN   \n",
        "6                                        Apt11   \n",
        "7                                          NaN   \n",
        "8                                    Nasr City   \n",
        "9     Building in front of Seoudi supermarket    \n",
        "10                                         NaN   \n",
        "11                            Floor 8 aprt.801   \n",
        "12                                       Apt 7   \n",
        "13                                         NaN   \n",
        "14                                         NaN   \n",
        "15                                    Hers Gym   \n",
        "16                                    \u0639\u0645\u0627\u0631\u0629 3    \n",
        "17                            12 floor, apt 67   \n",
        "18                                         NaN   \n",
        "19                                         NaN   \n",
        "20                                         NaN   \n",
        "21                                         NaN   \n",
        "22                                         NaN   \n",
        "23                                         NaN   \n",
        "24                                   Villa #G3   \n",
        "25                                    villa 11   \n",
        "26                                         NaN   \n",
        "27                                #18, floor 5   \n",
        "28                                         NaN   \n",
        "29                         2nd floor / app 203   \n",
        "...                                        ...   \n",
        "3063                               First floor   \n",
        "3064                                       NaN   \n",
        "3065                                       NaN   \n",
        "3066                                       NaN   \n",
        "3067                                       NaN   \n",
        "3068     Turn Right at shell/total gas station   \n",
        "3069                                        15   \n",
        "3070                                Heliopolis   \n",
        "3071                   3rd floor, appartment 2   \n",
        "3072                     behind almaza central   \n",
        "3073                           Off El Marghani   \n",
        "3074                                       NaN   \n",
        "3075                                       NaN   \n",
        "3076                                       NaN   \n",
        "3077                                       NaN   \n",
        "3078                                       NaN   \n",
        "3079            Geisum Hotel-Cornish str-Dahar   \n",
        "3080                                       NaN   \n",
        "3081                                       NaN   \n",
        "3082                                       NaN   \n",
        "3083                                       NaN   \n",
        "3084                                       NaN   \n",
        "3085                                  Flat 318   \n",
        "3086                                       NaN   \n",
        "3087                   ek kawther,desert pearl   \n",
        "3088                                       NaN   \n",
        "3089                                       NaN   \n",
        "3090                behind cowboy, corniche st   \n",
        "3091                                       NaN   \n",
        "3092                                       NaN   \n",
        "\n",
        "                                    City        Province Province Code  \\\n",
        "0                                  Cairo           Cairo             C   \n",
        "1                                    NaN             NaN           NaN   \n",
        "2                                Zamalek           Cairo             C   \n",
        "3                                  Cairo           Cairo             C   \n",
        "4                                  Cairo           Cairo             C   \n",
        "5                                  Cairo           Cairo             C   \n",
        "6                                  Cairo           Cairo             C   \n",
        "7                                  Cairo           Cairo             C   \n",
        "8                                  Cairo           Cairo             C   \n",
        "9                                   Giza            Giza            GZ   \n",
        "10                                   NaN             NaN           NaN   \n",
        "11                                 Cairo           Cairo             C   \n",
        "12                                 Cairo  6th of October            SU   \n",
        "13                             Wady Hoof           Cairo             C   \n",
        "14                         HARRISONVILLE           Cairo             C   \n",
        "15                                 Cairo           Cairo             C   \n",
        "16                                 Cairo           Cairo             C   \n",
        "17                                 Cairo           Cairo             C   \n",
        "18                                   NaN             NaN           NaN   \n",
        "19                                   NaN             NaN           NaN   \n",
        "20                                 cairo           Cairo             C   \n",
        "21                          Tagamo3 awal           Cairo             C   \n",
        "22                                 Cairo           Cairo             C   \n",
        "23                             New Cairo           Cairo             C   \n",
        "24                             New Cairo           Cairo             C   \n",
        "25                            6 October   6th of October            SU   \n",
        "26                                 cairo           Cairo             C   \n",
        "27                                 Maadi           Cairo             C   \n",
        "28                                  tala         Monufia           MNF   \n",
        "29                                 cairo           Cairo             C   \n",
        "...                                  ...             ...           ...   \n",
        "3063                               Cairo             NaN           NaN   \n",
        "3064                               Cairo           Cairo             C   \n",
        "3065                                 NaN             NaN           NaN   \n",
        "3066                                 NaN             NaN           NaN   \n",
        "3067                               Cairo      Heliopolis           NaN   \n",
        "3068                               Cairo             NaN           NaN   \n",
        "3069                               Cairo           Cairo             C   \n",
        "3070                               Cairo             NaN           NaN   \n",
        "3071  Street 90,Concorde Plaza Food Mall           Cairo             C   \n",
        "3072                               Cairo      Heliopolis           NaN   \n",
        "3073                               Cairo             NaN           NaN   \n",
        "3074                                 NaN             NaN           NaN   \n",
        "3075                                 NaN             NaN           NaN   \n",
        "3076                               Cairo              11           NaN   \n",
        "3077                               cairo           Cairo             C   \n",
        "3078                            Hurghada             NaN           NaN   \n",
        "3079                            Hurghada             NaN           NaN   \n",
        "3080                                 NaN             NaN           NaN   \n",
        "3081                            Hurghada             NaN           NaN   \n",
        "3082                                 NaN             NaN           NaN   \n",
        "3083                                 NaN             NaN           NaN   \n",
        "3084                             Elgouna         Red Sea            BA   \n",
        "3085                            Hurghada         Red Sea            BA   \n",
        "3086                                 NaN             NaN           NaN   \n",
        "3087                            hurghada             NaN           NaN   \n",
        "3088                                 NaN             NaN           NaN   \n",
        "3089                            Hurghada             NaN           NaN   \n",
        "3090                            hurghada             NaN           NaN   \n",
        "3091                            Hurghada         Red Sea            BA   \n",
        "3092                               dokki           Cairo             C   \n",
        "\n",
        "     Country Country Code       Zip           Phone Accepts Marketing  \\\n",
        "0      Egypt           EG     11513     01001607028                no   \n",
        "1        NaN          NaN       NaN             NaN                no   \n",
        "2      Egypt           EG     11211     01203038029                no   \n",
        "3      Egypt           EG     11361   +201009936633                no   \n",
        "4      Egypt           EG     Mm123     01008108200                no   \n",
        "5      Egypt           EG     Mm123     01222484466                no   \n",
        "6      Egypt           EG     00100     01006921218                no   \n",
        "7      Egypt           EG     11571     01111397206                no   \n",
        "8      Egypt           EG     11371     01227357774                no   \n",
        "9      Egypt           EG     11211     01220802255                no   \n",
        "10       NaN          NaN       NaN             NaN                no   \n",
        "11     Egypt           EG      1234      0106680683                no   \n",
        "12     Egypt           EG        00     01140222020                no   \n",
        "13     Egypt           EG     11433     01005732432                no   \n",
        "14     Egypt           EG     64701      8168358620                no   \n",
        "15     Egypt           EG    Am1234     01016131364                no   \n",
        "16     Egypt           EG     hk123     01000323444                no   \n",
        "17     Egypt           EG     11211     01201019007                no   \n",
        "18       NaN          NaN       NaN             NaN                no   \n",
        "19       NaN          NaN       NaN             NaN                no   \n",
        "20     Egypt           EG     11311     01222127426                no   \n",
        "21     Egypt           EG      1111   0201005540036                no   \n",
        "22     Egypt           EG     hk123     01001184082                no   \n",
        "23     Egypt           EG     11835   +201223980020                no   \n",
        "24     Egypt           EG     11936   0100 942 1880                no   \n",
        "25     Egypt           EG     12587   +201001406762                no   \n",
        "26     Egypt           EG     hb123     01020357103                no   \n",
        "27     Egypt           EG   11511??     01277714347                no   \n",
        "28     Egypt           EG     32611     01126711532                no   \n",
        "29     Egypt           EG     hb123     01005121848                no   \n",
        "...      ...          ...       ...             ...               ...   \n",
        "3063   Egypt           EG     00000     01223221581               yes   \n",
        "3064   Egypt           EG       NaN     01095830000               yes   \n",
        "3065     NaN          NaN       NaN             NaN               yes   \n",
        "3066     NaN          NaN       NaN             NaN               yes   \n",
        "3067   Egypt           EG     11431             NaN                no   \n",
        "3068   Egypt           EG     00000     01009889949               yes   \n",
        "3069   Egypt           EG      1156     01001459115               yes   \n",
        "3070   Egypt           EG     11361     01152033889               yes   \n",
        "3071   Egypt           EG     12000     01229918886               yes   \n",
        "3072   Egypt           EG       170     01222105459               yes   \n",
        "3073   Egypt           EG     00202     01001407133               yes   \n",
        "3074     NaN          NaN       NaN             NaN               yes   \n",
        "3075     NaN          NaN       NaN             NaN               yes   \n",
        "3076   Egypt           EG    200200        24551740               yes   \n",
        "3077   Egypt           EG     hb123    01223103921                yes   \n",
        "3078   Egypt           EG       065     01141117775               yes   \n",
        "3079   Egypt           EG     84511     01221383917               yes   \n",
        "3080     NaN          NaN       NaN             NaN               yes   \n",
        "3081   Egypt           EG      0000  00201001098312               yes   \n",
        "3082     NaN          NaN       NaN             NaN               yes   \n",
        "3083     NaN          NaN       NaN             NaN               yes   \n",
        "3084   Egypt           EG     11183     01007776172               yes   \n",
        "3085   Egypt           EG      3137     01001514400               yes   \n",
        "3086     NaN          NaN       NaN             NaN               yes   \n",
        "3087   Egypt           EG  italy113     01069553011               yes   \n",
        "3088     NaN          NaN       NaN             NaN                no   \n",
        "3089   Egypt           EG      0020     01141437074               yes   \n",
        "3090   Egypt           EG     84511     01224061449                no   \n",
        "3091   Egypt           EG     84151         0123456               yes   \n",
        "3092   Egypt           EG    Am1234     01020888046               yes   \n",
        "\n",
        "      Total Spent  Total Orders                  Tags Note Tax Exempt  \n",
        "0            0.00             1                   NaN  NaN         no  \n",
        "1            0.00             0                   NaN  NaN         no  \n",
        "2            0.00             1                   NaN  NaN         no  \n",
        "3            0.00             2                   NaN  NaN         no  \n",
        "4            0.00             1                   NaN  NaN         no  \n",
        "5            0.00             1                   NaN  NaN         no  \n",
        "6            0.00             1                   NaN  NaN         no  \n",
        "7            0.00             1                   NaN  NaN         no  \n",
        "8            0.00             1                   NaN  NaN         no  \n",
        "9            0.00             0                   NaN  NaN         no  \n",
        "10           0.00             0                   NaN  NaN         no  \n",
        "11           0.00             0                   NaN  NaN         no  \n",
        "12           0.00             1                   NaN  NaN         no  \n",
        "13           0.00             0                   NaN  NaN         no  \n",
        "14           0.00             1                   NaN  NaN         no  \n",
        "15           0.00             2                   NaN  NaN         no  \n",
        "16           0.00             1                   NaN  NaN         no  \n",
        "17           0.00             1                   NaN  NaN         no  \n",
        "18           0.00             0                   NaN  NaN         no  \n",
        "19           0.00             0                   NaN  NaN         no  \n",
        "20           0.00             1                   NaN  NaN         no  \n",
        "21           0.00             1                   NaN  NaN         no  \n",
        "22           0.00             1                   NaN  NaN         no  \n",
        "23           0.00             1                   NaN  NaN         no  \n",
        "24           0.00             1                   NaN  NaN         no  \n",
        "25           0.00             1                   NaN  NaN         no  \n",
        "26           0.00             1                   NaN  NaN         no  \n",
        "27           0.00             1                   NaN  NaN         no  \n",
        "28           0.00             0                   NaN  NaN         no  \n",
        "29           0.00             1                   NaN  NaN         no  \n",
        "...           ...           ...                   ...  ...        ...  \n",
        "3063        71.20             1                   NaN  NaN         no  \n",
        "3064       448.50             1                   NaN  NaN         no  \n",
        "3065         0.00             0  newsletter, prospect  NaN         no  \n",
        "3066         0.00             0  newsletter, prospect  NaN         no  \n",
        "3067       486.68             3                   NaN  NaN         no  \n",
        "3068     10006.72            23  newsletter, prospect  NaN         no  \n",
        "3069      3617.06            21                   NaN  NaN         no  \n",
        "3070      7177.52            21                   NaN  NaN         no  \n",
        "3071     15013.46            32  newsletter, prospect  NaN         no  \n",
        "3072      1665.25             5  newsletter, prospect  NaN         no  \n",
        "3073       238.28             3                   NaN  NaN         no  \n",
        "3074         0.00             0  newsletter, prospect  NaN         no  \n",
        "3075         0.00             0  newsletter, prospect  NaN         no  \n",
        "3076       290.48             1                   NaN  NaN         no  \n",
        "3077      9648.65            52                   NaN  NaN         no  \n",
        "3078        57.02             1  newsletter, prospect  NaN         no  \n",
        "3079        77.77             1                   NaN  NaN         no  \n",
        "3080         0.00             0  newsletter, prospect  NaN         no  \n",
        "3081       137.33             2                   NaN  NaN         no  \n",
        "3082         0.00             0  newsletter, prospect  NaN         no  \n",
        "3083         0.00             0  newsletter, prospect  NaN         no  \n",
        "3084      3589.95             6                   NaN  NaN         no  \n",
        "3085       160.55             2                   NaN  NaN         no  \n",
        "3086         0.00             0  newsletter, prospect  NaN         no  \n",
        "3087       507.15             5                   NaN  NaN         no  \n",
        "3088         0.00             0  newsletter, prospect  NaN         no  \n",
        "3089      6441.50            11  newsletter, prospect  NaN         no  \n",
        "3090        59.60             1  newsletter, prospect  NaN         no  \n",
        "3091         0.00             0                   NaN  NaN         no  \n",
        "3092     15007.46            37  newsletter, prospect  NaN         no  \n",
        "\n",
        "[3093 rows x 19 columns]"
       ]
      }
     ],
     "prompt_number": 9
    },
    {
     "cell_type": "code",
     "collapsed": false,
     "input": [
      "#concatenate name, address\n",
      "customers['Name'] = customers['First Name'] + \" \" + customers['Last Name']\n",
      "customers['Address'] = customers['Address1'] + \" \" + customers['Address2'] + \" \" + customers['City']\n",
      "\n",
      "customers = customers[['Name', 'Address', 'Phone', 'Email']]\n",
      "customers"
     ],
     "language": "python",
     "metadata": {},
     "outputs": [
      {
       "html": [
        "<div style=\"max-height:1000px;max-width:1500px;overflow:auto;\">\n",
        "<table border=\"1\" class=\"dataframe\">\n",
        "  <thead>\n",
        "    <tr style=\"text-align: right;\">\n",
        "      <th></th>\n",
        "      <th>Name</th>\n",
        "      <th>Address</th>\n",
        "      <th>Phone</th>\n",
        "      <th>Email</th>\n",
        "    </tr>\n",
        "  </thead>\n",
        "  <tbody>\n",
        "    <tr>\n",
        "      <th>0   </th>\n",
        "      <td>              Rehab  Mansour</td>\n",
        "      <td> 8 Al Shahid Ahmed Zaki St. Behind El Obour Bld...</td>\n",
        "      <td>    01001607028</td>\n",
        "      <td>          rehabmansour@gmail.com</td>\n",
        "    </tr>\n",
        "    <tr>\n",
        "      <th>1   </th>\n",
        "      <td>                RAfik BEbawi</td>\n",
        "      <td>                                               NaN</td>\n",
        "      <td>            NaN</td>\n",
        "      <td>                rhbebawi@live.ca</td>\n",
        "    </tr>\n",
        "    <tr>\n",
        "      <th>2   </th>\n",
        "      <td>           Francesca Cicardi</td>\n",
        "      <td>      5, Fouad al Ahwany 1st floor, apt. 3 Zamalek</td>\n",
        "      <td>    01203038029</td>\n",
        "      <td>          fracicardi@hotmail.com</td>\n",
        "    </tr>\n",
        "    <tr>\n",
        "      <th>3   </th>\n",
        "      <td>             Ahmed Aboulella</td>\n",
        "      <td>        10 Tahreer St, Sheraton Heliopolis 8 Cairo</td>\n",
        "      <td>  +201009936633</td>\n",
        "      <td>          ahmed.fakhry@gmail.com</td>\n",
        "    </tr>\n",
        "    <tr>\n",
        "      <th>4   </th>\n",
        "      <td>                Laila  akram</td>\n",
        "      <td>                                               NaN</td>\n",
        "      <td>    01008108200</td>\n",
        "      <td>            Missilou11@yahoo.com</td>\n",
        "    </tr>\n",
        "    <tr>\n",
        "      <th>5   </th>\n",
        "      <td>                Sally  Salem</td>\n",
        "      <td>                                               NaN</td>\n",
        "      <td>    01222484466</td>\n",
        "      <td>         sallysalem123@gmail.com</td>\n",
        "    </tr>\n",
        "    <tr>\n",
        "      <th>6   </th>\n",
        "      <td>              Gaylyn Mbogho </td>\n",
        "      <td>                          Rd232 Build9 Apt11 Cairo</td>\n",
        "      <td>    01006921218</td>\n",
        "      <td>          gaylynmbogho@yahoo.com</td>\n",
        "    </tr>\n",
        "    <tr>\n",
        "      <th>7   </th>\n",
        "      <td>                    Daii Ali</td>\n",
        "      <td>                                               NaN</td>\n",
        "      <td>    01111397206</td>\n",
        "      <td>            Daiieldeeb@gmail.com</td>\n",
        "    </tr>\n",
        "    <tr>\n",
        "      <th>8   </th>\n",
        "      <td>                    Yara Ali</td>\n",
        "      <td>               7 Youssef Abbas St. Nasr City Cairo</td>\n",
        "      <td>    01227357774</td>\n",
        "      <td>             yara.azam@gmail.com</td>\n",
        "    </tr>\n",
        "    <tr>\n",
        "      <th>9   </th>\n",
        "      <td>             Mohamed Mokhtar</td>\n",
        "      <td> 34, Higaz st mohandiseen  Building in front of...</td>\n",
        "      <td>    01220802255</td>\n",
        "      <td>              m.mkhtr@icloud.com</td>\n",
        "    </tr>\n",
        "    <tr>\n",
        "      <th>10  </th>\n",
        "      <td>                 FIona Brown</td>\n",
        "      <td>                                               NaN</td>\n",
        "      <td>            NaN</td>\n",
        "      <td>           fmnkbrown@hotmail.com</td>\n",
        "    </tr>\n",
        "    <tr>\n",
        "      <th>11  </th>\n",
        "      <td>                 Hind Haggag</td>\n",
        "      <td> 9 Africa-emtedad Mostafa Al Nahhas Floor 8 apr...</td>\n",
        "      <td>     0106680683</td>\n",
        "      <td>           hind.haggag@gmail.com</td>\n",
        "    </tr>\n",
        "    <tr>\n",
        "      <th>12  </th>\n",
        "      <td>              Hazem El Shamy</td>\n",
        "      <td> 6th of october, sheikh zayed city, zayed 2000 ...</td>\n",
        "      <td>    01140222020</td>\n",
        "      <td>           hazem.shamy@gmail.com</td>\n",
        "    </tr>\n",
        "    <tr>\n",
        "      <th>13  </th>\n",
        "      <td>            Tamer Elmenshawy</td>\n",
        "      <td>                                               NaN</td>\n",
        "      <td>    01005732432</td>\n",
        "      <td>          cyperx2000@hotmail.com</td>\n",
        "    </tr>\n",
        "    <tr>\n",
        "      <th>14  </th>\n",
        "      <td>                  James Belk</td>\n",
        "      <td>                                               NaN</td>\n",
        "      <td>     8168358620</td>\n",
        "      <td>       jamesmorgan0091@gmail.com</td>\n",
        "    </tr>\n",
        "    <tr>\n",
        "      <th>15  </th>\n",
        "      <td>                  Maro Maher</td>\n",
        "      <td> 15 Ismail Mohamed st. Borg Jedda- opposite Kol...</td>\n",
        "      <td>    01016131364</td>\n",
        "      <td>          RODY.DOVE123@GMAIL.COM</td>\n",
        "    </tr>\n",
        "    <tr>\n",
        "      <th>16  </th>\n",
        "      <td>                  Heba Belal</td>\n",
        "      <td> \u0645\u064a\u062f\u0627\u0646 \u0627\u0644\u062c\u0645\u0647\u0648\u0631\u064a\u0629 \u0645\u062a\u0641\u0631\u0639 \u0645\u0646 \u0627\u0644\u0628\u0637\u0644 \u0627\u062d\u0645\u062f \u0639\u0628\u062f \u0627\u0644\u0639\u0632\u064a\u0632...</td>\n",
        "      <td>    01000323444</td>\n",
        "      <td>             hibba_b@hotmail.com</td>\n",
        "    </tr>\n",
        "    <tr>\n",
        "      <th>17  </th>\n",
        "      <td>               Pascale Nader</td>\n",
        "      <td> 6, Hassan sabry street, zamalek 12 floor, apt ...</td>\n",
        "      <td>    01201019007</td>\n",
        "      <td>          pascalenader@gmail.com</td>\n",
        "    </tr>\n",
        "    <tr>\n",
        "      <th>18  </th>\n",
        "      <td>                  Hoda Salah</td>\n",
        "      <td>                                               NaN</td>\n",
        "      <td>            NaN</td>\n",
        "      <td>          hodasalah@aucegypt.edu</td>\n",
        "    </tr>\n",
        "    <tr>\n",
        "      <th>19  </th>\n",
        "      <td>              Hassan Elshamy</td>\n",
        "      <td>                                               NaN</td>\n",
        "      <td>            NaN</td>\n",
        "      <td>          hasanelshamy@gmail.com</td>\n",
        "    </tr>\n",
        "    <tr>\n",
        "      <th>20  </th>\n",
        "      <td>                Rania Hassan</td>\n",
        "      <td>                                               NaN</td>\n",
        "      <td>    01222127426</td>\n",
        "      <td>               r_h_ali@yahoo.com</td>\n",
        "    </tr>\n",
        "    <tr>\n",
        "      <th>21  </th>\n",
        "      <td>              Mervat Elgamal</td>\n",
        "      <td>                                               NaN</td>\n",
        "      <td>  0201005540036</td>\n",
        "      <td>                fabbff@gmail.com</td>\n",
        "    </tr>\n",
        "    <tr>\n",
        "      <th>22  </th>\n",
        "      <td>                  Muaz Munir</td>\n",
        "      <td>                                               NaN</td>\n",
        "      <td>    01001184082</td>\n",
        "      <td>             muazmunir@gmail.com</td>\n",
        "    </tr>\n",
        "    <tr>\n",
        "      <th>23  </th>\n",
        "      <td>               Amal Akhnoukh</td>\n",
        "      <td>                                               NaN</td>\n",
        "      <td>  +201223980020</td>\n",
        "      <td>          amalakhnoukh@gmail.com</td>\n",
        "    </tr>\n",
        "    <tr>\n",
        "      <th>24  </th>\n",
        "      <td>                  Sonja Lang</td>\n",
        "      <td> El-Katameya Residence, Besides JW Marriott Vil...</td>\n",
        "      <td>  0100 942 1880</td>\n",
        "      <td>         sonja.langweb@gmail.com</td>\n",
        "    </tr>\n",
        "    <tr>\n",
        "      <th>25  </th>\n",
        "      <td>               MANAR ELKHOLY</td>\n",
        "      <td> Al Ashgar compound, El Wahat Road, opposite dr...</td>\n",
        "      <td>  +201001406762</td>\n",
        "      <td>          manarelkholy@gmail.com</td>\n",
        "    </tr>\n",
        "    <tr>\n",
        "      <th>26  </th>\n",
        "      <td>             Assem Elsalmoum</td>\n",
        "      <td>                                               NaN</td>\n",
        "      <td>    01020357103</td>\n",
        "      <td>           asooome1415@gmail.com</td>\n",
        "    </tr>\n",
        "    <tr>\n",
        "      <th>27  </th>\n",
        "      <td>              Louna Geoffroy</td>\n",
        "      <td> #1 shara 152 (at corner of sh 7) #18, floor 5 ...</td>\n",
        "      <td>    01277714347</td>\n",
        "      <td>         louna_paris@hotmail.com</td>\n",
        "    </tr>\n",
        "    <tr>\n",
        "      <th>28  </th>\n",
        "      <td>           Mohamed Ezz Eldin</td>\n",
        "      <td>                                               NaN</td>\n",
        "      <td>    01126711532</td>\n",
        "      <td>          medo_www98@hotmail.com</td>\n",
        "    </tr>\n",
        "    <tr>\n",
        "      <th>29  </th>\n",
        "      <td>         Sahar Mohamed Galal</td>\n",
        "      <td> 2  elshaheed fayez zakaria street / masaken sh...</td>\n",
        "      <td>    01005121848</td>\n",
        "      <td>         oottahsahar@hotmail.com</td>\n",
        "    </tr>\n",
        "    <tr>\n",
        "      <th>...</th>\n",
        "      <td>...</td>\n",
        "      <td>...</td>\n",
        "      <td>...</td>\n",
        "      <td>...</td>\n",
        "    </tr>\n",
        "    <tr>\n",
        "      <th>3063</th>\n",
        "      <td>                Adham Hamada</td>\n",
        "      <td> 5 eskandar el Akbar st. Heliopolis First floor...</td>\n",
        "      <td>    01223221581</td>\n",
        "      <td>            Adhamada@hotmail.com</td>\n",
        "    </tr>\n",
        "    <tr>\n",
        "      <th>3064</th>\n",
        "      <td>              Houssam Elokda</td>\n",
        "      <td>                                               NaN</td>\n",
        "      <td>    01095830000</td>\n",
        "      <td>        houssam.elokda@gmail.com</td>\n",
        "    </tr>\n",
        "    <tr>\n",
        "      <th>3065</th>\n",
        "      <td>       Subscriber Newsletter</td>\n",
        "      <td>                                               NaN</td>\n",
        "      <td>            NaN</td>\n",
        "      <td>          pensee.afifi@gmail.com</td>\n",
        "    </tr>\n",
        "    <tr>\n",
        "      <th>3066</th>\n",
        "      <td>       Subscriber Newsletter</td>\n",
        "      <td>                                               NaN</td>\n",
        "      <td>            NaN</td>\n",
        "      <td>            ns.hamouda@gmail.com</td>\n",
        "    </tr>\n",
        "    <tr>\n",
        "      <th>3067</th>\n",
        "      <td>            Hesham ElBanhawi</td>\n",
        "      <td>                                               NaN</td>\n",
        "      <td>            NaN</td>\n",
        "      <td>             Hania7894@gmail.com</td>\n",
        "    </tr>\n",
        "    <tr>\n",
        "      <th>3068</th>\n",
        "      <td>       Subscriber Newsletter</td>\n",
        "      <td> Flat 44, 4th floor, Building 6036, El Meerag E...</td>\n",
        "      <td>    01009889949</td>\n",
        "      <td>                hds160@gmail.com</td>\n",
        "    </tr>\n",
        "    <tr>\n",
        "      <th>3069</th>\n",
        "      <td>              Iman El Gammal</td>\n",
        "      <td>                11isaac yacoub, 7th floor 15 Cairo</td>\n",
        "      <td>    01001459115</td>\n",
        "      <td>               Mamazzz@gmail.com</td>\n",
        "    </tr>\n",
        "    <tr>\n",
        "      <th>3070</th>\n",
        "      <td>               Ahmed Ibrahim</td>\n",
        "      <td> 20 Mohamed Ali Elbakli from Elhegaz street nea...</td>\n",
        "      <td>    01152033889</td>\n",
        "      <td>               asony11@yahoo.com</td>\n",
        "    </tr>\n",
        "    <tr>\n",
        "      <th>3071</th>\n",
        "      <td>  djamila benderbous Kafoufi</td>\n",
        "      <td> El Gazira Street, Smart Life Compound,Tagamo3 ...</td>\n",
        "      <td>    01229918886</td>\n",
        "      <td>    djamila.benderbous@gmail.com</td>\n",
        "    </tr>\n",
        "    <tr>\n",
        "      <th>3072</th>\n",
        "      <td>       Subscriber Newsletter</td>\n",
        "      <td> 6 mohy el din abd el zaher,ard el golf ,Heliop...</td>\n",
        "      <td>    01222105459</td>\n",
        "      <td>         salwa_saiid@hotmail.com</td>\n",
        "    </tr>\n",
        "    <tr>\n",
        "      <th>3073</th>\n",
        "      <td>          Mohamed  El Gammal</td>\n",
        "      <td> 6 Mohamed labib el kerdani st. 1st Floor, Flat...</td>\n",
        "      <td>    01001407133</td>\n",
        "      <td>        raghebelgammal@yahoo.com</td>\n",
        "    </tr>\n",
        "    <tr>\n",
        "      <th>3074</th>\n",
        "      <td>       Subscriber Newsletter</td>\n",
        "      <td>                                               NaN</td>\n",
        "      <td>            NaN</td>\n",
        "      <td>            ellyke18@hotmail.com</td>\n",
        "    </tr>\n",
        "    <tr>\n",
        "      <th>3075</th>\n",
        "      <td>       Subscriber Newsletter</td>\n",
        "      <td>                                               NaN</td>\n",
        "      <td>            NaN</td>\n",
        "      <td>            maggy.ezzo@gmail.com</td>\n",
        "    </tr>\n",
        "    <tr>\n",
        "      <th>3076</th>\n",
        "      <td>                 rania magdi</td>\n",
        "      <td>                                               NaN</td>\n",
        "      <td>       24551740</td>\n",
        "      <td>           fairymaid82@yahoo.com</td>\n",
        "    </tr>\n",
        "    <tr>\n",
        "      <th>3077</th>\n",
        "      <td>               Amal elguindy</td>\n",
        "      <td>                                               NaN</td>\n",
        "      <td>   01223103921 </td>\n",
        "      <td>         milomilogindi@yahoo.com</td>\n",
        "    </tr>\n",
        "    <tr>\n",
        "      <th>3078</th>\n",
        "      <td>       Subscriber Newsletter</td>\n",
        "      <td>                                               NaN</td>\n",
        "      <td>    01141117775</td>\n",
        "      <td>                biro5s@yahoo.com</td>\n",
        "    </tr>\n",
        "    <tr>\n",
        "      <th>3079</th>\n",
        "      <td>            Pauchez Virginie</td>\n",
        "      <td> Sawaky Camp-Cornish str-Dahar Geisum Hotel-Cor...</td>\n",
        "      <td>    01221383917</td>\n",
        "      <td>            nini.etoile@voila.fr</td>\n",
        "    </tr>\n",
        "    <tr>\n",
        "      <th>3080</th>\n",
        "      <td>       Subscriber Newsletter</td>\n",
        "      <td>                                               NaN</td>\n",
        "      <td>            NaN</td>\n",
        "      <td>         mahmoud.moheb@gmail.com</td>\n",
        "    </tr>\n",
        "    <tr>\n",
        "      <th>3081</th>\n",
        "      <td>               Betty Hedrich</td>\n",
        "      <td>                                               NaN</td>\n",
        "      <td> 00201001098312</td>\n",
        "      <td>             bettyhedrich@gmx.de</td>\n",
        "    </tr>\n",
        "    <tr>\n",
        "      <th>3082</th>\n",
        "      <td>       Subscriber Newsletter</td>\n",
        "      <td>                                               NaN</td>\n",
        "      <td>            NaN</td>\n",
        "      <td>          yusif@joe-networks.com</td>\n",
        "    </tr>\n",
        "    <tr>\n",
        "      <th>3083</th>\n",
        "      <td>       Subscriber Newsletter</td>\n",
        "      <td>                                               NaN</td>\n",
        "      <td>            NaN</td>\n",
        "      <td> mohamed.el-hossary@diversey.com</td>\n",
        "    </tr>\n",
        "    <tr>\n",
        "      <th>3084</th>\n",
        "      <td>                   Rola Amin</td>\n",
        "      <td>                                               NaN</td>\n",
        "      <td>    01007776172</td>\n",
        "      <td>                   rulah@msn.com</td>\n",
        "    </tr>\n",
        "    <tr>\n",
        "      <th>3085</th>\n",
        "      <td> Mr.Akram Mohamed Abu Ashara</td>\n",
        "      <td>              The View compound, Flat 318 Hurghada</td>\n",
        "      <td>    01001514400</td>\n",
        "      <td>             milda_b@hotmail.com</td>\n",
        "    </tr>\n",
        "    <tr>\n",
        "      <th>3086</th>\n",
        "      <td>                 Sam Worrior</td>\n",
        "      <td>                                               NaN</td>\n",
        "      <td>            NaN</td>\n",
        "      <td>         sam.warrior@yahoo.co.uk</td>\n",
        "    </tr>\n",
        "    <tr>\n",
        "      <th>3087</th>\n",
        "      <td>          lika novoshinskaya</td>\n",
        "      <td> el kawther,desert pearl ek kawther,desert pear...</td>\n",
        "      <td>    01069553011</td>\n",
        "      <td>          lik-novikova@yandex.ru</td>\n",
        "    </tr>\n",
        "    <tr>\n",
        "      <th>3088</th>\n",
        "      <td>             Monika Angelika</td>\n",
        "      <td>                                               NaN</td>\n",
        "      <td>            NaN</td>\n",
        "      <td>       angelika.monika@yahoo.com</td>\n",
        "    </tr>\n",
        "    <tr>\n",
        "      <th>3089</th>\n",
        "      <td>               bente ringnes</td>\n",
        "      <td>                                               NaN</td>\n",
        "      <td>    01141437074</td>\n",
        "      <td>             bente.ring@yahoo.no</td>\n",
        "    </tr>\n",
        "    <tr>\n",
        "      <th>3090</th>\n",
        "      <td>                   Cathy Pod</td>\n",
        "      <td>     el kyadat behind cowboy, corniche st hurghada</td>\n",
        "      <td>    01224061449</td>\n",
        "      <td>            cathypod@hotmail.com</td>\n",
        "    </tr>\n",
        "    <tr>\n",
        "      <th>3091</th>\n",
        "      <td>                Sabine Braun</td>\n",
        "      <td>                                               NaN</td>\n",
        "      <td>        0123456</td>\n",
        "      <td>          sabine.braun@gpnet.biz</td>\n",
        "    </tr>\n",
        "    <tr>\n",
        "      <th>3092</th>\n",
        "      <td>                    Ramzy ..</td>\n",
        "      <td>                                               NaN</td>\n",
        "      <td>    01020888046</td>\n",
        "      <td>           hashim.alaa@gmail.com</td>\n",
        "    </tr>\n",
        "  </tbody>\n",
        "</table>\n",
        "<p>3093 rows \u00d7 4 columns</p>\n",
        "</div>"
       ],
       "metadata": {},
       "output_type": "pyout",
       "prompt_number": 10,
       "text": [
        "                             Name  \\\n",
        "0                  Rehab  Mansour   \n",
        "1                    RAfik BEbawi   \n",
        "2               Francesca Cicardi   \n",
        "3                 Ahmed Aboulella   \n",
        "4                    Laila  akram   \n",
        "5                    Sally  Salem   \n",
        "6                  Gaylyn Mbogho    \n",
        "7                        Daii Ali   \n",
        "8                        Yara Ali   \n",
        "9                 Mohamed Mokhtar   \n",
        "10                    FIona Brown   \n",
        "11                    Hind Haggag   \n",
        "12                 Hazem El Shamy   \n",
        "13               Tamer Elmenshawy   \n",
        "14                     James Belk   \n",
        "15                     Maro Maher   \n",
        "16                     Heba Belal   \n",
        "17                  Pascale Nader   \n",
        "18                     Hoda Salah   \n",
        "19                 Hassan Elshamy   \n",
        "20                   Rania Hassan   \n",
        "21                 Mervat Elgamal   \n",
        "22                     Muaz Munir   \n",
        "23                  Amal Akhnoukh   \n",
        "24                     Sonja Lang   \n",
        "25                  MANAR ELKHOLY   \n",
        "26                Assem Elsalmoum   \n",
        "27                 Louna Geoffroy   \n",
        "28              Mohamed Ezz Eldin   \n",
        "29            Sahar Mohamed Galal   \n",
        "...                           ...   \n",
        "3063                 Adham Hamada   \n",
        "3064               Houssam Elokda   \n",
        "3065        Subscriber Newsletter   \n",
        "3066        Subscriber Newsletter   \n",
        "3067             Hesham ElBanhawi   \n",
        "3068        Subscriber Newsletter   \n",
        "3069               Iman El Gammal   \n",
        "3070                Ahmed Ibrahim   \n",
        "3071   djamila benderbous Kafoufi   \n",
        "3072        Subscriber Newsletter   \n",
        "3073           Mohamed  El Gammal   \n",
        "3074        Subscriber Newsletter   \n",
        "3075        Subscriber Newsletter   \n",
        "3076                  rania magdi   \n",
        "3077                Amal elguindy   \n",
        "3078        Subscriber Newsletter   \n",
        "3079             Pauchez Virginie   \n",
        "3080        Subscriber Newsletter   \n",
        "3081                Betty Hedrich   \n",
        "3082        Subscriber Newsletter   \n",
        "3083        Subscriber Newsletter   \n",
        "3084                    Rola Amin   \n",
        "3085  Mr.Akram Mohamed Abu Ashara   \n",
        "3086                  Sam Worrior   \n",
        "3087           lika novoshinskaya   \n",
        "3088              Monika Angelika   \n",
        "3089                bente ringnes   \n",
        "3090                    Cathy Pod   \n",
        "3091                 Sabine Braun   \n",
        "3092                     Ramzy ..   \n",
        "\n",
        "                                                Address           Phone  \\\n",
        "0     8 Al Shahid Ahmed Zaki St. Behind El Obour Bld...     01001607028   \n",
        "1                                                   NaN             NaN   \n",
        "2          5, Fouad al Ahwany 1st floor, apt. 3 Zamalek     01203038029   \n",
        "3            10 Tahreer St, Sheraton Heliopolis 8 Cairo   +201009936633   \n",
        "4                                                   NaN     01008108200   \n",
        "5                                                   NaN     01222484466   \n",
        "6                              Rd232 Build9 Apt11 Cairo     01006921218   \n",
        "7                                                   NaN     01111397206   \n",
        "8                   7 Youssef Abbas St. Nasr City Cairo     01227357774   \n",
        "9     34, Higaz st mohandiseen  Building in front of...     01220802255   \n",
        "10                                                  NaN             NaN   \n",
        "11    9 Africa-emtedad Mostafa Al Nahhas Floor 8 apr...      0106680683   \n",
        "12    6th of october, sheikh zayed city, zayed 2000 ...     01140222020   \n",
        "13                                                  NaN     01005732432   \n",
        "14                                                  NaN      8168358620   \n",
        "15    15 Ismail Mohamed st. Borg Jedda- opposite Kol...     01016131364   \n",
        "16    \u0645\u064a\u062f\u0627\u0646 \u0627\u0644\u062c\u0645\u0647\u0648\u0631\u064a\u0629 \u0645\u062a\u0641\u0631\u0639 \u0645\u0646 \u0627\u0644\u0628\u0637\u0644 \u0627\u062d\u0645\u062f \u0639\u0628\u062f \u0627\u0644\u0639\u0632\u064a\u0632...     01000323444   \n",
        "17    6, Hassan sabry street, zamalek 12 floor, apt ...     01201019007   \n",
        "18                                                  NaN             NaN   \n",
        "19                                                  NaN             NaN   \n",
        "20                                                  NaN     01222127426   \n",
        "21                                                  NaN   0201005540036   \n",
        "22                                                  NaN     01001184082   \n",
        "23                                                  NaN   +201223980020   \n",
        "24    El-Katameya Residence, Besides JW Marriott Vil...   0100 942 1880   \n",
        "25    Al Ashgar compound, El Wahat Road, opposite dr...   +201001406762   \n",
        "26                                                  NaN     01020357103   \n",
        "27    #1 shara 152 (at corner of sh 7) #18, floor 5 ...     01277714347   \n",
        "28                                                  NaN     01126711532   \n",
        "29    2  elshaheed fayez zakaria street / masaken sh...     01005121848   \n",
        "...                                                 ...             ...   \n",
        "3063  5 eskandar el Akbar st. Heliopolis First floor...     01223221581   \n",
        "3064                                                NaN     01095830000   \n",
        "3065                                                NaN             NaN   \n",
        "3066                                                NaN             NaN   \n",
        "3067                                                NaN             NaN   \n",
        "3068  Flat 44, 4th floor, Building 6036, El Meerag E...     01009889949   \n",
        "3069                 11isaac yacoub, 7th floor 15 Cairo     01001459115   \n",
        "3070  20 Mohamed Ali Elbakli from Elhegaz street nea...     01152033889   \n",
        "3071  El Gazira Street, Smart Life Compound,Tagamo3 ...     01229918886   \n",
        "3072  6 mohy el din abd el zaher,ard el golf ,Heliop...     01222105459   \n",
        "3073  6 Mohamed labib el kerdani st. 1st Floor, Flat...     01001407133   \n",
        "3074                                                NaN             NaN   \n",
        "3075                                                NaN             NaN   \n",
        "3076                                                NaN        24551740   \n",
        "3077                                                NaN    01223103921    \n",
        "3078                                                NaN     01141117775   \n",
        "3079  Sawaky Camp-Cornish str-Dahar Geisum Hotel-Cor...     01221383917   \n",
        "3080                                                NaN             NaN   \n",
        "3081                                                NaN  00201001098312   \n",
        "3082                                                NaN             NaN   \n",
        "3083                                                NaN             NaN   \n",
        "3084                                                NaN     01007776172   \n",
        "3085               The View compound, Flat 318 Hurghada     01001514400   \n",
        "3086                                                NaN             NaN   \n",
        "3087  el kawther,desert pearl ek kawther,desert pear...     01069553011   \n",
        "3088                                                NaN             NaN   \n",
        "3089                                                NaN     01141437074   \n",
        "3090      el kyadat behind cowboy, corniche st hurghada     01224061449   \n",
        "3091                                                NaN         0123456   \n",
        "3092                                                NaN     01020888046   \n",
        "\n",
        "                                Email  \n",
        "0              rehabmansour@gmail.com  \n",
        "1                    rhbebawi@live.ca  \n",
        "2              fracicardi@hotmail.com  \n",
        "3              ahmed.fakhry@gmail.com  \n",
        "4                Missilou11@yahoo.com  \n",
        "5             sallysalem123@gmail.com  \n",
        "6              gaylynmbogho@yahoo.com  \n",
        "7                Daiieldeeb@gmail.com  \n",
        "8                 yara.azam@gmail.com  \n",
        "9                  m.mkhtr@icloud.com  \n",
        "10              fmnkbrown@hotmail.com  \n",
        "11              hind.haggag@gmail.com  \n",
        "12              hazem.shamy@gmail.com  \n",
        "13             cyperx2000@hotmail.com  \n",
        "14          jamesmorgan0091@gmail.com  \n",
        "15             RODY.DOVE123@GMAIL.COM  \n",
        "16                hibba_b@hotmail.com  \n",
        "17             pascalenader@gmail.com  \n",
        "18             hodasalah@aucegypt.edu  \n",
        "19             hasanelshamy@gmail.com  \n",
        "20                  r_h_ali@yahoo.com  \n",
        "21                   fabbff@gmail.com  \n",
        "22                muazmunir@gmail.com  \n",
        "23             amalakhnoukh@gmail.com  \n",
        "24            sonja.langweb@gmail.com  \n",
        "25             manarelkholy@gmail.com  \n",
        "26              asooome1415@gmail.com  \n",
        "27            louna_paris@hotmail.com  \n",
        "28             medo_www98@hotmail.com  \n",
        "29            oottahsahar@hotmail.com  \n",
        "...                               ...  \n",
        "3063             Adhamada@hotmail.com  \n",
        "3064         houssam.elokda@gmail.com  \n",
        "3065           pensee.afifi@gmail.com  \n",
        "3066             ns.hamouda@gmail.com  \n",
        "3067              Hania7894@gmail.com  \n",
        "3068                 hds160@gmail.com  \n",
        "3069                Mamazzz@gmail.com  \n",
        "3070                asony11@yahoo.com  \n",
        "3071     djamila.benderbous@gmail.com  \n",
        "3072          salwa_saiid@hotmail.com  \n",
        "3073         raghebelgammal@yahoo.com  \n",
        "3074             ellyke18@hotmail.com  \n",
        "3075             maggy.ezzo@gmail.com  \n",
        "3076            fairymaid82@yahoo.com  \n",
        "3077          milomilogindi@yahoo.com  \n",
        "3078                 biro5s@yahoo.com  \n",
        "3079             nini.etoile@voila.fr  \n",
        "3080          mahmoud.moheb@gmail.com  \n",
        "3081              bettyhedrich@gmx.de  \n",
        "3082           yusif@joe-networks.com  \n",
        "3083  mohamed.el-hossary@diversey.com  \n",
        "3084                    rulah@msn.com  \n",
        "3085              milda_b@hotmail.com  \n",
        "3086          sam.warrior@yahoo.co.uk  \n",
        "3087           lik-novikova@yandex.ru  \n",
        "3088        angelika.monika@yahoo.com  \n",
        "3089              bente.ring@yahoo.no  \n",
        "3090             cathypod@hotmail.com  \n",
        "3091           sabine.braun@gpnet.biz  \n",
        "3092            hashim.alaa@gmail.com  \n",
        "\n",
        "[3093 rows x 4 columns]"
       ]
      }
     ],
     "prompt_number": 10
    },
    {
     "cell_type": "code",
     "collapsed": false,
     "input": [
      "customer_value = customers.merge(customer_value, on = ['Email'], how = 'inner')\n",
      "customer_value"
     ],
     "language": "python",
     "metadata": {},
     "outputs": [
      {
       "html": [
        "<div style=\"max-height:1000px;max-width:1500px;overflow:auto;\">\n",
        "<table border=\"1\" class=\"dataframe\">\n",
        "  <thead>\n",
        "    <tr style=\"text-align: right;\">\n",
        "      <th></th>\n",
        "      <th>Name</th>\n",
        "      <th>Address</th>\n",
        "      <th>Phone</th>\n",
        "      <th>Email</th>\n",
        "      <th>Revenue</th>\n",
        "      <th>Basket Value</th>\n",
        "    </tr>\n",
        "  </thead>\n",
        "  <tbody>\n",
        "    <tr>\n",
        "      <th>0   </th>\n",
        "      <td>              Rehab  Mansour</td>\n",
        "      <td> 8 Al Shahid Ahmed Zaki St. Behind El Obour Bld...</td>\n",
        "      <td>    01001607028</td>\n",
        "      <td>       rehabmansour@gmail.com</td>\n",
        "      <td>   375.30</td>\n",
        "      <td>  375.300000</td>\n",
        "    </tr>\n",
        "    <tr>\n",
        "      <th>1   </th>\n",
        "      <td>           Francesca Cicardi</td>\n",
        "      <td>      5, Fouad al Ahwany 1st floor, apt. 3 Zamalek</td>\n",
        "      <td>    01203038029</td>\n",
        "      <td>       fracicardi@hotmail.com</td>\n",
        "      <td>   129.00</td>\n",
        "      <td>  129.000000</td>\n",
        "    </tr>\n",
        "    <tr>\n",
        "      <th>2   </th>\n",
        "      <td>             Ahmed Aboulella</td>\n",
        "      <td>        10 Tahreer St, Sheraton Heliopolis 8 Cairo</td>\n",
        "      <td>  +201009936633</td>\n",
        "      <td>       ahmed.fakhry@gmail.com</td>\n",
        "      <td>  1252.10</td>\n",
        "      <td>  626.050000</td>\n",
        "    </tr>\n",
        "    <tr>\n",
        "      <th>3   </th>\n",
        "      <td>                Laila  akram</td>\n",
        "      <td>                                               NaN</td>\n",
        "      <td>    01008108200</td>\n",
        "      <td>         Missilou11@yahoo.com</td>\n",
        "      <td>    70.20</td>\n",
        "      <td>   70.200000</td>\n",
        "    </tr>\n",
        "    <tr>\n",
        "      <th>4   </th>\n",
        "      <td>                Sally  Salem</td>\n",
        "      <td>                                               NaN</td>\n",
        "      <td>    01222484466</td>\n",
        "      <td>      sallysalem123@gmail.com</td>\n",
        "      <td>   432.00</td>\n",
        "      <td>  432.000000</td>\n",
        "    </tr>\n",
        "    <tr>\n",
        "      <th>5   </th>\n",
        "      <td>              Gaylyn Mbogho </td>\n",
        "      <td>                          Rd232 Build9 Apt11 Cairo</td>\n",
        "      <td>    01006921218</td>\n",
        "      <td>       gaylynmbogho@yahoo.com</td>\n",
        "      <td>   300.60</td>\n",
        "      <td>  300.600000</td>\n",
        "    </tr>\n",
        "    <tr>\n",
        "      <th>6   </th>\n",
        "      <td>                    Daii Ali</td>\n",
        "      <td>                                               NaN</td>\n",
        "      <td>    01111397206</td>\n",
        "      <td>         Daiieldeeb@gmail.com</td>\n",
        "      <td>   118.80</td>\n",
        "      <td>  118.800000</td>\n",
        "    </tr>\n",
        "    <tr>\n",
        "      <th>7   </th>\n",
        "      <td>                    Yara Ali</td>\n",
        "      <td>               7 Youssef Abbas St. Nasr City Cairo</td>\n",
        "      <td>    01227357774</td>\n",
        "      <td>          yara.azam@gmail.com</td>\n",
        "      <td>    81.20</td>\n",
        "      <td>   81.200000</td>\n",
        "    </tr>\n",
        "    <tr>\n",
        "      <th>8   </th>\n",
        "      <td>              Hazem El Shamy</td>\n",
        "      <td> 6th of october, sheikh zayed city, zayed 2000 ...</td>\n",
        "      <td>    01140222020</td>\n",
        "      <td>        hazem.shamy@gmail.com</td>\n",
        "      <td>   228.00</td>\n",
        "      <td>  228.000000</td>\n",
        "    </tr>\n",
        "    <tr>\n",
        "      <th>9   </th>\n",
        "      <td>                  James Belk</td>\n",
        "      <td>                                               NaN</td>\n",
        "      <td>     8168358620</td>\n",
        "      <td>    jamesmorgan0091@gmail.com</td>\n",
        "      <td>    57.60</td>\n",
        "      <td>   57.600000</td>\n",
        "    </tr>\n",
        "    <tr>\n",
        "      <th>10  </th>\n",
        "      <td>                  Maro Maher</td>\n",
        "      <td> 15 Ismail Mohamed st. Borg Jedda- opposite Kol...</td>\n",
        "      <td>    01016131364</td>\n",
        "      <td>       RODY.DOVE123@GMAIL.COM</td>\n",
        "      <td>   340.00</td>\n",
        "      <td>  170.000000</td>\n",
        "    </tr>\n",
        "    <tr>\n",
        "      <th>11  </th>\n",
        "      <td>                  Heba Belal</td>\n",
        "      <td> \u0645\u064a\u062f\u0627\u0646 \u0627\u0644\u062c\u0645\u0647\u0648\u0631\u064a\u0629 \u0645\u062a\u0641\u0631\u0639 \u0645\u0646 \u0627\u0644\u0628\u0637\u0644 \u0627\u062d\u0645\u062f \u0639\u0628\u062f \u0627\u0644\u0639\u0632\u064a\u0632...</td>\n",
        "      <td>    01000323444</td>\n",
        "      <td>          hibba_b@hotmail.com</td>\n",
        "      <td>   134.10</td>\n",
        "      <td>  134.100000</td>\n",
        "    </tr>\n",
        "    <tr>\n",
        "      <th>12  </th>\n",
        "      <td>               Pascale Nader</td>\n",
        "      <td> 6, Hassan sabry street, zamalek 12 floor, apt ...</td>\n",
        "      <td>    01201019007</td>\n",
        "      <td>       pascalenader@gmail.com</td>\n",
        "      <td>   223.20</td>\n",
        "      <td>  223.200000</td>\n",
        "    </tr>\n",
        "    <tr>\n",
        "      <th>13  </th>\n",
        "      <td>                Rania Hassan</td>\n",
        "      <td>                                               NaN</td>\n",
        "      <td>    01222127426</td>\n",
        "      <td>            r_h_ali@yahoo.com</td>\n",
        "      <td>   100.00</td>\n",
        "      <td>  100.000000</td>\n",
        "    </tr>\n",
        "    <tr>\n",
        "      <th>14  </th>\n",
        "      <td>              Mervat Elgamal</td>\n",
        "      <td>                                               NaN</td>\n",
        "      <td>  0201005540036</td>\n",
        "      <td>             fabbff@gmail.com</td>\n",
        "      <td>   259.50</td>\n",
        "      <td>  259.500000</td>\n",
        "    </tr>\n",
        "    <tr>\n",
        "      <th>15  </th>\n",
        "      <td>                  Muaz Munir</td>\n",
        "      <td>                                               NaN</td>\n",
        "      <td>    01001184082</td>\n",
        "      <td>          muazmunir@gmail.com</td>\n",
        "      <td>    80.00</td>\n",
        "      <td>   80.000000</td>\n",
        "    </tr>\n",
        "    <tr>\n",
        "      <th>16  </th>\n",
        "      <td>               Amal Akhnoukh</td>\n",
        "      <td>                                               NaN</td>\n",
        "      <td>  +201223980020</td>\n",
        "      <td>       amalakhnoukh@gmail.com</td>\n",
        "      <td>   305.00</td>\n",
        "      <td>  305.000000</td>\n",
        "    </tr>\n",
        "    <tr>\n",
        "      <th>17  </th>\n",
        "      <td>                  Sonja Lang</td>\n",
        "      <td> El-Katameya Residence, Besides JW Marriott Vil...</td>\n",
        "      <td>  0100 942 1880</td>\n",
        "      <td>      sonja.langweb@gmail.com</td>\n",
        "      <td>  2395.80</td>\n",
        "      <td> 2395.800000</td>\n",
        "    </tr>\n",
        "    <tr>\n",
        "      <th>18  </th>\n",
        "      <td>               MANAR ELKHOLY</td>\n",
        "      <td> Al Ashgar compound, El Wahat Road, opposite dr...</td>\n",
        "      <td>  +201001406762</td>\n",
        "      <td>       manarelkholy@gmail.com</td>\n",
        "      <td>   292.60</td>\n",
        "      <td>  292.600000</td>\n",
        "    </tr>\n",
        "    <tr>\n",
        "      <th>19  </th>\n",
        "      <td>             Assem Elsalmoum</td>\n",
        "      <td>                                               NaN</td>\n",
        "      <td>    01020357103</td>\n",
        "      <td>        asooome1415@gmail.com</td>\n",
        "      <td>   310.00</td>\n",
        "      <td>  310.000000</td>\n",
        "    </tr>\n",
        "    <tr>\n",
        "      <th>20  </th>\n",
        "      <td>              Louna Geoffroy</td>\n",
        "      <td> #1 shara 152 (at corner of sh 7) #18, floor 5 ...</td>\n",
        "      <td>    01277714347</td>\n",
        "      <td>      louna_paris@hotmail.com</td>\n",
        "      <td>   549.00</td>\n",
        "      <td>  549.000000</td>\n",
        "    </tr>\n",
        "    <tr>\n",
        "      <th>21  </th>\n",
        "      <td>         Sahar Mohamed Galal</td>\n",
        "      <td> 2  elshaheed fayez zakaria street / masaken sh...</td>\n",
        "      <td>    01005121848</td>\n",
        "      <td>      oottahsahar@hotmail.com</td>\n",
        "      <td>   175.50</td>\n",
        "      <td>  175.500000</td>\n",
        "    </tr>\n",
        "    <tr>\n",
        "      <th>22  </th>\n",
        "      <td>                   Eman Taha</td>\n",
        "      <td> 17 Alef /  mohamed mazhar -  /before hilton ho...</td>\n",
        "      <td>    01002288860</td>\n",
        "      <td>            emantah@yahoo.com</td>\n",
        "      <td>    99.80</td>\n",
        "      <td>   99.800000</td>\n",
        "    </tr>\n",
        "    <tr>\n",
        "      <th>23  </th>\n",
        "      <td>                Beryl Gibson</td>\n",
        "      <td>                                               NaN</td>\n",
        "      <td>    01150041233</td>\n",
        "      <td>   berylegibson@hotmail.co.uk</td>\n",
        "      <td>   448.80</td>\n",
        "      <td>  448.800000</td>\n",
        "    </tr>\n",
        "    <tr>\n",
        "      <th>24  </th>\n",
        "      <td>            Denise Wilkerson</td>\n",
        "      <td> VILLA 7, 5TH SETTLEMENT, DISTRICT 2, ZONE 1 IN...</td>\n",
        "      <td>    01128500864</td>\n",
        "      <td>  denise.wilkerson9@gmail.com</td>\n",
        "      <td>   742.20</td>\n",
        "      <td>  371.100000</td>\n",
        "    </tr>\n",
        "    <tr>\n",
        "      <th>25  </th>\n",
        "      <td>                 farah selim</td>\n",
        "      <td>     uptown cairo,el mokkatam eleva 10 el mokkatam</td>\n",
        "      <td>    01005471515</td>\n",
        "      <td>      farahsameh@aucegypt.edu</td>\n",
        "      <td>   400.00</td>\n",
        "      <td>  400.000000</td>\n",
        "    </tr>\n",
        "    <tr>\n",
        "      <th>26  </th>\n",
        "      <td>                 Ali mohamed</td>\n",
        "      <td>                                               NaN</td>\n",
        "      <td>    01016877700</td>\n",
        "      <td>        alinicola92@gmail.com</td>\n",
        "      <td>    90.00</td>\n",
        "      <td>   90.000000</td>\n",
        "    </tr>\n",
        "    <tr>\n",
        "      <th>27  </th>\n",
        "      <td>         Subaramanian Magudi</td>\n",
        "      <td>                                               NaN</td>\n",
        "      <td>    01060063138</td>\n",
        "      <td>           magudi62@gmail.com</td>\n",
        "      <td>    67.00</td>\n",
        "      <td>   67.000000</td>\n",
        "    </tr>\n",
        "    <tr>\n",
        "      <th>28  </th>\n",
        "      <td>                Ahmed  Awaad</td>\n",
        "      <td>                                               NaN</td>\n",
        "      <td>    01002544843</td>\n",
        "      <td>  samarmohamedhasan@gmail.com</td>\n",
        "      <td>   302.40</td>\n",
        "      <td>  302.400000</td>\n",
        "    </tr>\n",
        "    <tr>\n",
        "      <th>29  </th>\n",
        "      <td>         Sherine  Abdelhalim</td>\n",
        "      <td>                                               NaN</td>\n",
        "      <td>     0227369300</td>\n",
        "      <td>       sherine789@hotmail.com</td>\n",
        "      <td>   260.30</td>\n",
        "      <td>  260.300000</td>\n",
        "    </tr>\n",
        "    <tr>\n",
        "      <th>...</th>\n",
        "      <td>...</td>\n",
        "      <td>...</td>\n",
        "      <td>...</td>\n",
        "      <td>...</td>\n",
        "      <td>...</td>\n",
        "      <td>...</td>\n",
        "    </tr>\n",
        "    <tr>\n",
        "      <th>2332</th>\n",
        "      <td>              rania fakahany</td>\n",
        "      <td> 25,el safa st., masaken sheraton behind el nas...</td>\n",
        "      <td>    01098881886</td>\n",
        "      <td>            r.medhat@link.net</td>\n",
        "      <td>   162.70</td>\n",
        "      <td>  162.700000</td>\n",
        "    </tr>\n",
        "    <tr>\n",
        "      <th>2333</th>\n",
        "      <td>                  wael zhran</td>\n",
        "      <td>                                               NaN</td>\n",
        "      <td>    01141878767</td>\n",
        "      <td>            lompo30@yahoo.com</td>\n",
        "      <td>    58.90</td>\n",
        "      <td>   58.900000</td>\n",
        "    </tr>\n",
        "    <tr>\n",
        "      <th>2334</th>\n",
        "      <td>               Dina  Hussein</td>\n",
        "      <td> 38D Road 206 (off Grand Mall square), Degla, M...</td>\n",
        "      <td>    01006608601</td>\n",
        "      <td>     dina.k.hussein@gmail.com</td>\n",
        "      <td>  6982.20</td>\n",
        "      <td>  332.485714</td>\n",
        "    </tr>\n",
        "    <tr>\n",
        "      <th>2335</th>\n",
        "      <td>                 Aly  Bahgat</td>\n",
        "      <td> 13 Khalifa Al Maamoun St. Heliopolis 8th floor...</td>\n",
        "      <td>    01222128428</td>\n",
        "      <td>         aly.bahgat@ymail.com</td>\n",
        "      <td>   689.80</td>\n",
        "      <td>  229.933333</td>\n",
        "    </tr>\n",
        "    <tr>\n",
        "      <th>2336</th>\n",
        "      <td>                Yara Goubran</td>\n",
        "      <td>                                               NaN</td>\n",
        "      <td>    01001445688</td>\n",
        "      <td>       yara.goubran@gmail.com</td>\n",
        "      <td>   932.65</td>\n",
        "      <td>  155.441667</td>\n",
        "    </tr>\n",
        "    <tr>\n",
        "      <th>2337</th>\n",
        "      <td>                 Maha Yassin</td>\n",
        "      <td>                                               NaN</td>\n",
        "      <td>    01223215751</td>\n",
        "      <td>        mahayassin@hotmail.fr</td>\n",
        "      <td>   330.00</td>\n",
        "      <td>  165.000000</td>\n",
        "    </tr>\n",
        "    <tr>\n",
        "      <th>2338</th>\n",
        "      <td>               Fadia Habashi</td>\n",
        "      <td>                                               NaN</td>\n",
        "      <td>    01223425301</td>\n",
        "      <td>            fgkarim@yahoo.com</td>\n",
        "      <td>   147.80</td>\n",
        "      <td>  147.800000</td>\n",
        "    </tr>\n",
        "    <tr>\n",
        "      <th>2339</th>\n",
        "      <td>              carine sabbagh</td>\n",
        "      <td> 11 Rashdan st. dokki off of mesaha square 5th ...</td>\n",
        "      <td>    01000100745</td>\n",
        "      <td>      Carinesabbagh@gmail.com</td>\n",
        "      <td> 12189.72</td>\n",
        "      <td>  329.451892</td>\n",
        "    </tr>\n",
        "    <tr>\n",
        "      <th>2340</th>\n",
        "      <td>            Khaled El manawy</td>\n",
        "      <td>                                               NaN</td>\n",
        "      <td>    01222102396</td>\n",
        "      <td>        t.sarhan@ntsegypt.com</td>\n",
        "      <td>  6851.18</td>\n",
        "      <td>  978.740000</td>\n",
        "    </tr>\n",
        "    <tr>\n",
        "      <th>2341</th>\n",
        "      <td>       Subscriber Newsletter</td>\n",
        "      <td>                                               NaN</td>\n",
        "      <td>  +201117714441</td>\n",
        "      <td>     faridahelmyiba@gmail.com</td>\n",
        "      <td>   730.65</td>\n",
        "      <td>  243.550000</td>\n",
        "    </tr>\n",
        "    <tr>\n",
        "      <th>2342</th>\n",
        "      <td>               Mireille Amin</td>\n",
        "      <td>                                               NaN</td>\n",
        "      <td>    01001453184</td>\n",
        "      <td>       mireilleamin@yahoo.com</td>\n",
        "      <td>   322.00</td>\n",
        "      <td>  322.000000</td>\n",
        "    </tr>\n",
        "    <tr>\n",
        "      <th>2343</th>\n",
        "      <td>                 Ihab Derias</td>\n",
        "      <td>          114 el marghany street  Heliopolis Cairo</td>\n",
        "      <td>    01005415917</td>\n",
        "      <td>   Ihab.derias@laroche.com.eg</td>\n",
        "      <td>   739.50</td>\n",
        "      <td>  739.500000</td>\n",
        "    </tr>\n",
        "    <tr>\n",
        "      <th>2344</th>\n",
        "      <td>                Adham Hamada</td>\n",
        "      <td> 5 eskandar el Akbar st. Heliopolis First floor...</td>\n",
        "      <td>    01223221581</td>\n",
        "      <td>         Adhamada@hotmail.com</td>\n",
        "      <td>    61.20</td>\n",
        "      <td>   61.200000</td>\n",
        "    </tr>\n",
        "    <tr>\n",
        "      <th>2345</th>\n",
        "      <td>              Houssam Elokda</td>\n",
        "      <td>                                               NaN</td>\n",
        "      <td>    01095830000</td>\n",
        "      <td>     houssam.elokda@gmail.com</td>\n",
        "      <td>   433.50</td>\n",
        "      <td>  433.500000</td>\n",
        "    </tr>\n",
        "    <tr>\n",
        "      <th>2346</th>\n",
        "      <td>            Hesham ElBanhawi</td>\n",
        "      <td>                                               NaN</td>\n",
        "      <td>            NaN</td>\n",
        "      <td>          Hania7894@gmail.com</td>\n",
        "      <td>   171.68</td>\n",
        "      <td>   85.840000</td>\n",
        "    </tr>\n",
        "    <tr>\n",
        "      <th>2347</th>\n",
        "      <td>       Subscriber Newsletter</td>\n",
        "      <td> Flat 44, 4th floor, Building 6036, El Meerag E...</td>\n",
        "      <td>    01009889949</td>\n",
        "      <td>             hds160@gmail.com</td>\n",
        "      <td>  9776.72</td>\n",
        "      <td>  425.074783</td>\n",
        "    </tr>\n",
        "    <tr>\n",
        "      <th>2348</th>\n",
        "      <td>              Iman El Gammal</td>\n",
        "      <td>                11isaac yacoub, 7th floor 15 Cairo</td>\n",
        "      <td>    01001459115</td>\n",
        "      <td>            Mamazzz@gmail.com</td>\n",
        "      <td>  2251.72</td>\n",
        "      <td>  204.701818</td>\n",
        "    </tr>\n",
        "    <tr>\n",
        "      <th>2349</th>\n",
        "      <td>               Ahmed Ibrahim</td>\n",
        "      <td> 20 Mohamed Ali Elbakli from Elhegaz street nea...</td>\n",
        "      <td>    01152033889</td>\n",
        "      <td>            asony11@yahoo.com</td>\n",
        "      <td>  6967.52</td>\n",
        "      <td>  331.786667</td>\n",
        "    </tr>\n",
        "    <tr>\n",
        "      <th>2350</th>\n",
        "      <td>  djamila benderbous Kafoufi</td>\n",
        "      <td> El Gazira Street, Smart Life Compound,Tagamo3 ...</td>\n",
        "      <td>    01229918886</td>\n",
        "      <td> djamila.benderbous@gmail.com</td>\n",
        "      <td> 15930.15</td>\n",
        "      <td>  497.817188</td>\n",
        "    </tr>\n",
        "    <tr>\n",
        "      <th>2351</th>\n",
        "      <td>       Subscriber Newsletter</td>\n",
        "      <td> 6 mohy el din abd el zaher,ard el golf ,Heliop...</td>\n",
        "      <td>    01222105459</td>\n",
        "      <td>      salwa_saiid@hotmail.com</td>\n",
        "      <td>  1615.25</td>\n",
        "      <td>  323.050000</td>\n",
        "    </tr>\n",
        "    <tr>\n",
        "      <th>2352</th>\n",
        "      <td>          Mohamed  El Gammal</td>\n",
        "      <td> 6 Mohamed labib el kerdani st. 1st Floor, Flat...</td>\n",
        "      <td>    01001407133</td>\n",
        "      <td>     raghebelgammal@yahoo.com</td>\n",
        "      <td>   208.28</td>\n",
        "      <td>   69.426667</td>\n",
        "    </tr>\n",
        "    <tr>\n",
        "      <th>2353</th>\n",
        "      <td>                 rania magdi</td>\n",
        "      <td>                                               NaN</td>\n",
        "      <td>       24551740</td>\n",
        "      <td>        fairymaid82@yahoo.com</td>\n",
        "      <td>   285.48</td>\n",
        "      <td>  285.480000</td>\n",
        "    </tr>\n",
        "    <tr>\n",
        "      <th>2354</th>\n",
        "      <td>               Amal elguindy</td>\n",
        "      <td>                                               NaN</td>\n",
        "      <td>   01223103921 </td>\n",
        "      <td>      milomilogindi@yahoo.com</td>\n",
        "      <td> 12731.66</td>\n",
        "      <td>  244.839615</td>\n",
        "    </tr>\n",
        "    <tr>\n",
        "      <th>2355</th>\n",
        "      <td>            Pauchez Virginie</td>\n",
        "      <td> Sawaky Camp-Cornish str-Dahar Geisum Hotel-Cor...</td>\n",
        "      <td>    01221383917</td>\n",
        "      <td>         nini.etoile@voila.fr</td>\n",
        "      <td>    72.77</td>\n",
        "      <td>   72.770000</td>\n",
        "    </tr>\n",
        "    <tr>\n",
        "      <th>2356</th>\n",
        "      <td>               Betty Hedrich</td>\n",
        "      <td>                                               NaN</td>\n",
        "      <td> 00201001098312</td>\n",
        "      <td>          bettyhedrich@gmx.de</td>\n",
        "      <td>   122.33</td>\n",
        "      <td>   61.165000</td>\n",
        "    </tr>\n",
        "    <tr>\n",
        "      <th>2357</th>\n",
        "      <td>                   Rola Amin</td>\n",
        "      <td>                                               NaN</td>\n",
        "      <td>    01007776172</td>\n",
        "      <td>                rulah@msn.com</td>\n",
        "      <td>  6672.50</td>\n",
        "      <td> 1334.500000</td>\n",
        "    </tr>\n",
        "    <tr>\n",
        "      <th>2358</th>\n",
        "      <td> Mr.Akram Mohamed Abu Ashara</td>\n",
        "      <td>              The View compound, Flat 318 Hurghada</td>\n",
        "      <td>    01001514400</td>\n",
        "      <td>          milda_b@hotmail.com</td>\n",
        "      <td>   314.60</td>\n",
        "      <td>  157.300000</td>\n",
        "    </tr>\n",
        "    <tr>\n",
        "      <th>2359</th>\n",
        "      <td>          lika novoshinskaya</td>\n",
        "      <td> el kawther,desert pearl ek kawther,desert pear...</td>\n",
        "      <td>    01069553011</td>\n",
        "      <td>       lik-novikova@yandex.ru</td>\n",
        "      <td>   472.15</td>\n",
        "      <td>   94.430000</td>\n",
        "    </tr>\n",
        "    <tr>\n",
        "      <th>2360</th>\n",
        "      <td>               bente ringnes</td>\n",
        "      <td>                                               NaN</td>\n",
        "      <td>    01141437074</td>\n",
        "      <td>          bente.ring@yahoo.no</td>\n",
        "      <td>  6171.50</td>\n",
        "      <td>  561.045455</td>\n",
        "    </tr>\n",
        "    <tr>\n",
        "      <th>2361</th>\n",
        "      <td>                   Cathy Pod</td>\n",
        "      <td>     el kyadat behind cowboy, corniche st hurghada</td>\n",
        "      <td>    01224061449</td>\n",
        "      <td>         cathypod@hotmail.com</td>\n",
        "      <td>    54.60</td>\n",
        "      <td>   54.600000</td>\n",
        "    </tr>\n",
        "  </tbody>\n",
        "</table>\n",
        "<p>2362 rows \u00d7 6 columns</p>\n",
        "</div>"
       ],
       "metadata": {},
       "output_type": "pyout",
       "prompt_number": 11,
       "text": [
        "                             Name  \\\n",
        "0                  Rehab  Mansour   \n",
        "1               Francesca Cicardi   \n",
        "2                 Ahmed Aboulella   \n",
        "3                    Laila  akram   \n",
        "4                    Sally  Salem   \n",
        "5                  Gaylyn Mbogho    \n",
        "6                        Daii Ali   \n",
        "7                        Yara Ali   \n",
        "8                  Hazem El Shamy   \n",
        "9                      James Belk   \n",
        "10                     Maro Maher   \n",
        "11                     Heba Belal   \n",
        "12                  Pascale Nader   \n",
        "13                   Rania Hassan   \n",
        "14                 Mervat Elgamal   \n",
        "15                     Muaz Munir   \n",
        "16                  Amal Akhnoukh   \n",
        "17                     Sonja Lang   \n",
        "18                  MANAR ELKHOLY   \n",
        "19                Assem Elsalmoum   \n",
        "20                 Louna Geoffroy   \n",
        "21            Sahar Mohamed Galal   \n",
        "22                      Eman Taha   \n",
        "23                   Beryl Gibson   \n",
        "24               Denise Wilkerson   \n",
        "25                    farah selim   \n",
        "26                    Ali mohamed   \n",
        "27            Subaramanian Magudi   \n",
        "28                   Ahmed  Awaad   \n",
        "29            Sherine  Abdelhalim   \n",
        "...                           ...   \n",
        "2332               rania fakahany   \n",
        "2333                   wael zhran   \n",
        "2334                Dina  Hussein   \n",
        "2335                  Aly  Bahgat   \n",
        "2336                 Yara Goubran   \n",
        "2337                  Maha Yassin   \n",
        "2338                Fadia Habashi   \n",
        "2339               carine sabbagh   \n",
        "2340             Khaled El manawy   \n",
        "2341        Subscriber Newsletter   \n",
        "2342                Mireille Amin   \n",
        "2343                  Ihab Derias   \n",
        "2344                 Adham Hamada   \n",
        "2345               Houssam Elokda   \n",
        "2346             Hesham ElBanhawi   \n",
        "2347        Subscriber Newsletter   \n",
        "2348               Iman El Gammal   \n",
        "2349                Ahmed Ibrahim   \n",
        "2350   djamila benderbous Kafoufi   \n",
        "2351        Subscriber Newsletter   \n",
        "2352           Mohamed  El Gammal   \n",
        "2353                  rania magdi   \n",
        "2354                Amal elguindy   \n",
        "2355             Pauchez Virginie   \n",
        "2356                Betty Hedrich   \n",
        "2357                    Rola Amin   \n",
        "2358  Mr.Akram Mohamed Abu Ashara   \n",
        "2359           lika novoshinskaya   \n",
        "2360                bente ringnes   \n",
        "2361                    Cathy Pod   \n",
        "\n",
        "                                                Address           Phone  \\\n",
        "0     8 Al Shahid Ahmed Zaki St. Behind El Obour Bld...     01001607028   \n",
        "1          5, Fouad al Ahwany 1st floor, apt. 3 Zamalek     01203038029   \n",
        "2            10 Tahreer St, Sheraton Heliopolis 8 Cairo   +201009936633   \n",
        "3                                                   NaN     01008108200   \n",
        "4                                                   NaN     01222484466   \n",
        "5                              Rd232 Build9 Apt11 Cairo     01006921218   \n",
        "6                                                   NaN     01111397206   \n",
        "7                   7 Youssef Abbas St. Nasr City Cairo     01227357774   \n",
        "8     6th of october, sheikh zayed city, zayed 2000 ...     01140222020   \n",
        "9                                                   NaN      8168358620   \n",
        "10    15 Ismail Mohamed st. Borg Jedda- opposite Kol...     01016131364   \n",
        "11    \u0645\u064a\u062f\u0627\u0646 \u0627\u0644\u062c\u0645\u0647\u0648\u0631\u064a\u0629 \u0645\u062a\u0641\u0631\u0639 \u0645\u0646 \u0627\u0644\u0628\u0637\u0644 \u0627\u062d\u0645\u062f \u0639\u0628\u062f \u0627\u0644\u0639\u0632\u064a\u0632...     01000323444   \n",
        "12    6, Hassan sabry street, zamalek 12 floor, apt ...     01201019007   \n",
        "13                                                  NaN     01222127426   \n",
        "14                                                  NaN   0201005540036   \n",
        "15                                                  NaN     01001184082   \n",
        "16                                                  NaN   +201223980020   \n",
        "17    El-Katameya Residence, Besides JW Marriott Vil...   0100 942 1880   \n",
        "18    Al Ashgar compound, El Wahat Road, opposite dr...   +201001406762   \n",
        "19                                                  NaN     01020357103   \n",
        "20    #1 shara 152 (at corner of sh 7) #18, floor 5 ...     01277714347   \n",
        "21    2  elshaheed fayez zakaria street / masaken sh...     01005121848   \n",
        "22    17 Alef /  mohamed mazhar -  /before hilton ho...     01002288860   \n",
        "23                                                  NaN     01150041233   \n",
        "24    VILLA 7, 5TH SETTLEMENT, DISTRICT 2, ZONE 1 IN...     01128500864   \n",
        "25        uptown cairo,el mokkatam eleva 10 el mokkatam     01005471515   \n",
        "26                                                  NaN     01016877700   \n",
        "27                                                  NaN     01060063138   \n",
        "28                                                  NaN     01002544843   \n",
        "29                                                  NaN      0227369300   \n",
        "...                                                 ...             ...   \n",
        "2332  25,el safa st., masaken sheraton behind el nas...     01098881886   \n",
        "2333                                                NaN     01141878767   \n",
        "2334  38D Road 206 (off Grand Mall square), Degla, M...     01006608601   \n",
        "2335  13 Khalifa Al Maamoun St. Heliopolis 8th floor...     01222128428   \n",
        "2336                                                NaN     01001445688   \n",
        "2337                                                NaN     01223215751   \n",
        "2338                                                NaN     01223425301   \n",
        "2339  11 Rashdan st. dokki off of mesaha square 5th ...     01000100745   \n",
        "2340                                                NaN     01222102396   \n",
        "2341                                                NaN   +201117714441   \n",
        "2342                                                NaN     01001453184   \n",
        "2343           114 el marghany street  Heliopolis Cairo     01005415917   \n",
        "2344  5 eskandar el Akbar st. Heliopolis First floor...     01223221581   \n",
        "2345                                                NaN     01095830000   \n",
        "2346                                                NaN             NaN   \n",
        "2347  Flat 44, 4th floor, Building 6036, El Meerag E...     01009889949   \n",
        "2348                 11isaac yacoub, 7th floor 15 Cairo     01001459115   \n",
        "2349  20 Mohamed Ali Elbakli from Elhegaz street nea...     01152033889   \n",
        "2350  El Gazira Street, Smart Life Compound,Tagamo3 ...     01229918886   \n",
        "2351  6 mohy el din abd el zaher,ard el golf ,Heliop...     01222105459   \n",
        "2352  6 Mohamed labib el kerdani st. 1st Floor, Flat...     01001407133   \n",
        "2353                                                NaN        24551740   \n",
        "2354                                                NaN    01223103921    \n",
        "2355  Sawaky Camp-Cornish str-Dahar Geisum Hotel-Cor...     01221383917   \n",
        "2356                                                NaN  00201001098312   \n",
        "2357                                                NaN     01007776172   \n",
        "2358               The View compound, Flat 318 Hurghada     01001514400   \n",
        "2359  el kawther,desert pearl ek kawther,desert pear...     01069553011   \n",
        "2360                                                NaN     01141437074   \n",
        "2361      el kyadat behind cowboy, corniche st hurghada     01224061449   \n",
        "\n",
        "                             Email   Revenue  Basket Value  \n",
        "0           rehabmansour@gmail.com    375.30    375.300000  \n",
        "1           fracicardi@hotmail.com    129.00    129.000000  \n",
        "2           ahmed.fakhry@gmail.com   1252.10    626.050000  \n",
        "3             Missilou11@yahoo.com     70.20     70.200000  \n",
        "4          sallysalem123@gmail.com    432.00    432.000000  \n",
        "5           gaylynmbogho@yahoo.com    300.60    300.600000  \n",
        "6             Daiieldeeb@gmail.com    118.80    118.800000  \n",
        "7              yara.azam@gmail.com     81.20     81.200000  \n",
        "8            hazem.shamy@gmail.com    228.00    228.000000  \n",
        "9        jamesmorgan0091@gmail.com     57.60     57.600000  \n",
        "10          RODY.DOVE123@GMAIL.COM    340.00    170.000000  \n",
        "11             hibba_b@hotmail.com    134.10    134.100000  \n",
        "12          pascalenader@gmail.com    223.20    223.200000  \n",
        "13               r_h_ali@yahoo.com    100.00    100.000000  \n",
        "14                fabbff@gmail.com    259.50    259.500000  \n",
        "15             muazmunir@gmail.com     80.00     80.000000  \n",
        "16          amalakhnoukh@gmail.com    305.00    305.000000  \n",
        "17         sonja.langweb@gmail.com   2395.80   2395.800000  \n",
        "18          manarelkholy@gmail.com    292.60    292.600000  \n",
        "19           asooome1415@gmail.com    310.00    310.000000  \n",
        "20         louna_paris@hotmail.com    549.00    549.000000  \n",
        "21         oottahsahar@hotmail.com    175.50    175.500000  \n",
        "22               emantah@yahoo.com     99.80     99.800000  \n",
        "23      berylegibson@hotmail.co.uk    448.80    448.800000  \n",
        "24     denise.wilkerson9@gmail.com    742.20    371.100000  \n",
        "25         farahsameh@aucegypt.edu    400.00    400.000000  \n",
        "26           alinicola92@gmail.com     90.00     90.000000  \n",
        "27              magudi62@gmail.com     67.00     67.000000  \n",
        "28     samarmohamedhasan@gmail.com    302.40    302.400000  \n",
        "29          sherine789@hotmail.com    260.30    260.300000  \n",
        "...                            ...       ...           ...  \n",
        "2332             r.medhat@link.net    162.70    162.700000  \n",
        "2333             lompo30@yahoo.com     58.90     58.900000  \n",
        "2334      dina.k.hussein@gmail.com   6982.20    332.485714  \n",
        "2335          aly.bahgat@ymail.com    689.80    229.933333  \n",
        "2336        yara.goubran@gmail.com    932.65    155.441667  \n",
        "2337         mahayassin@hotmail.fr    330.00    165.000000  \n",
        "2338             fgkarim@yahoo.com    147.80    147.800000  \n",
        "2339       Carinesabbagh@gmail.com  12189.72    329.451892  \n",
        "2340         t.sarhan@ntsegypt.com   6851.18    978.740000  \n",
        "2341      faridahelmyiba@gmail.com    730.65    243.550000  \n",
        "2342        mireilleamin@yahoo.com    322.00    322.000000  \n",
        "2343    Ihab.derias@laroche.com.eg    739.50    739.500000  \n",
        "2344          Adhamada@hotmail.com     61.20     61.200000  \n",
        "2345      houssam.elokda@gmail.com    433.50    433.500000  \n",
        "2346           Hania7894@gmail.com    171.68     85.840000  \n",
        "2347              hds160@gmail.com   9776.72    425.074783  \n",
        "2348             Mamazzz@gmail.com   2251.72    204.701818  \n",
        "2349             asony11@yahoo.com   6967.52    331.786667  \n",
        "2350  djamila.benderbous@gmail.com  15930.15    497.817188  \n",
        "2351       salwa_saiid@hotmail.com   1615.25    323.050000  \n",
        "2352      raghebelgammal@yahoo.com    208.28     69.426667  \n",
        "2353         fairymaid82@yahoo.com    285.48    285.480000  \n",
        "2354       milomilogindi@yahoo.com  12731.66    244.839615  \n",
        "2355          nini.etoile@voila.fr     72.77     72.770000  \n",
        "2356           bettyhedrich@gmx.de    122.33     61.165000  \n",
        "2357                 rulah@msn.com   6672.50   1334.500000  \n",
        "2358           milda_b@hotmail.com    314.60    157.300000  \n",
        "2359        lik-novikova@yandex.ru    472.15     94.430000  \n",
        "2360           bente.ring@yahoo.no   6171.50    561.045455  \n",
        "2361          cathypod@hotmail.com     54.60     54.600000  \n",
        "\n",
        "[2362 rows x 6 columns]"
       ]
      }
     ],
     "prompt_number": 11
    },
    {
     "cell_type": "code",
     "collapsed": false,
     "input": [
      "raw_segments = pd.read_csv(\"C:\\Users\\saisree849\\Documents\\GitHub\\NGS-2.0\\\\12_dashboard_tables\\data_input\\enodos\\segments.csv\")\n",
      "raw_segments"
     ],
     "language": "python",
     "metadata": {},
     "outputs": [
      {
       "html": [
        "<div style=\"max-height:1000px;max-width:1500px;overflow:auto;\">\n",
        "<table border=\"1\" class=\"dataframe\">\n",
        "  <thead>\n",
        "    <tr style=\"text-align: right;\">\n",
        "      <th></th>\n",
        "      <th>Email</th>\n",
        "      <th>Segment</th>\n",
        "      <th>Score</th>\n",
        "    </tr>\n",
        "  </thead>\n",
        "  <tbody>\n",
        "    <tr>\n",
        "      <th>0   </th>\n",
        "      <td>   11435mail@mkallenberger.de</td>\n",
        "      <td> Fresh Beef &amp; Poultry</td>\n",
        "      <td> 0.338</td>\n",
        "    </tr>\n",
        "    <tr>\n",
        "      <th>1   </th>\n",
        "      <td>         Adhamada@hotmail.com</td>\n",
        "      <td> Fresh Beef &amp; Poultry</td>\n",
        "      <td> 0.565</td>\n",
        "    </tr>\n",
        "    <tr>\n",
        "      <th>2   </th>\n",
        "      <td>    Fadiaelsenoussi@gmail.com</td>\n",
        "      <td> Fresh Beef &amp; Poultry</td>\n",
        "      <td> 0.338</td>\n",
        "    </tr>\n",
        "    <tr>\n",
        "      <th>3   </th>\n",
        "      <td>           Nadochal@yahoo.com</td>\n",
        "      <td> Fresh Beef &amp; Poultry</td>\n",
        "      <td> 0.277</td>\n",
        "    </tr>\n",
        "    <tr>\n",
        "      <th>4   </th>\n",
        "      <td>      Samikaissouni@gmail.com</td>\n",
        "      <td> Fresh Beef &amp; Poultry</td>\n",
        "      <td> 0.243</td>\n",
        "    </tr>\n",
        "    <tr>\n",
        "      <th>5   </th>\n",
        "      <td>     Yara-Ayman88@hotmail.com</td>\n",
        "      <td> Fresh Beef &amp; Poultry</td>\n",
        "      <td> 0.303</td>\n",
        "    </tr>\n",
        "    <tr>\n",
        "      <th>6   </th>\n",
        "      <td>       abousense2@hotmail.com</td>\n",
        "      <td> Fresh Beef &amp; Poultry</td>\n",
        "      <td> 0.357</td>\n",
        "    </tr>\n",
        "    <tr>\n",
        "      <th>7   </th>\n",
        "      <td>      amira2amira@hotmail.com</td>\n",
        "      <td> Fresh Beef &amp; Poultry</td>\n",
        "      <td> 0.333</td>\n",
        "    </tr>\n",
        "    <tr>\n",
        "      <th>8   </th>\n",
        "      <td>    ashrafgadalla@hotmail.com</td>\n",
        "      <td> Fresh Beef &amp; Poultry</td>\n",
        "      <td> 0.259</td>\n",
        "    </tr>\n",
        "    <tr>\n",
        "      <th>9   </th>\n",
        "      <td>            asony11@yahoo.com</td>\n",
        "      <td> Fresh Beef &amp; Poultry</td>\n",
        "      <td> 0.155</td>\n",
        "    </tr>\n",
        "    <tr>\n",
        "      <th>10  </th>\n",
        "      <td>         aymanauf@abu-auf.com</td>\n",
        "      <td> Fresh Beef &amp; Poultry</td>\n",
        "      <td> 0.227</td>\n",
        "    </tr>\n",
        "    <tr>\n",
        "      <th>11  </th>\n",
        "      <td>  baskettagifts@hotmail.co.uk</td>\n",
        "      <td> Fresh Beef &amp; Poultry</td>\n",
        "      <td> 0.350</td>\n",
        "    </tr>\n",
        "    <tr>\n",
        "      <th>12  </th>\n",
        "      <td>    bassantalaa87@hotmail.com</td>\n",
        "      <td> Fresh Beef &amp; Poultry</td>\n",
        "      <td> 0.332</td>\n",
        "    </tr>\n",
        "    <tr>\n",
        "      <th>13  </th>\n",
        "      <td>       deenaselim@hotmail.com</td>\n",
        "      <td> Fresh Beef &amp; Poultry</td>\n",
        "      <td> 0.419</td>\n",
        "    </tr>\n",
        "    <tr>\n",
        "      <th>14  </th>\n",
        "      <td>          dicowan@hotmail.com</td>\n",
        "      <td> Fresh Beef &amp; Poultry</td>\n",
        "      <td> 0.351</td>\n",
        "    </tr>\n",
        "    <tr>\n",
        "      <th>15  </th>\n",
        "      <td>          dinamf@aucegypt.edu</td>\n",
        "      <td> Fresh Beef &amp; Poultry</td>\n",
        "      <td> 0.458</td>\n",
        "    </tr>\n",
        "    <tr>\n",
        "      <th>16  </th>\n",
        "      <td> djamila.benderbous@gmail.com</td>\n",
        "      <td> Fresh Beef &amp; Poultry</td>\n",
        "      <td> 0.265</td>\n",
        "    </tr>\n",
        "    <tr>\n",
        "      <th>17  </th>\n",
        "      <td>           dollydou@yahoo.com</td>\n",
        "      <td> Fresh Beef &amp; Poultry</td>\n",
        "      <td> 0.251</td>\n",
        "    </tr>\n",
        "    <tr>\n",
        "      <th>18  </th>\n",
        "      <td>       eissa.heba@hotmail.com</td>\n",
        "      <td> Fresh Beef &amp; Poultry</td>\n",
        "      <td> 0.222</td>\n",
        "    </tr>\n",
        "    <tr>\n",
        "      <th>19  </th>\n",
        "      <td>           fundre@hotmail.com</td>\n",
        "      <td> Fresh Beef &amp; Poultry</td>\n",
        "      <td> 0.134</td>\n",
        "    </tr>\n",
        "    <tr>\n",
        "      <th>20  </th>\n",
        "      <td>          gtbasta@hotmail.com</td>\n",
        "      <td> Fresh Beef &amp; Poultry</td>\n",
        "      <td> 0.286</td>\n",
        "    </tr>\n",
        "    <tr>\n",
        "      <th>21  </th>\n",
        "      <td>      halayoussef@hotmail.com</td>\n",
        "      <td> Fresh Beef &amp; Poultry</td>\n",
        "      <td> 0.411</td>\n",
        "    </tr>\n",
        "    <tr>\n",
        "      <th>22  </th>\n",
        "      <td>    heba_bibo2001@hotmail.com</td>\n",
        "      <td> Fresh Beef &amp; Poultry</td>\n",
        "      <td> 0.309</td>\n",
        "    </tr>\n",
        "    <tr>\n",
        "      <th>23  </th>\n",
        "      <td>      hoda.radwan@nielsen.com</td>\n",
        "      <td> Fresh Beef &amp; Poultry</td>\n",
        "      <td> 0.364</td>\n",
        "    </tr>\n",
        "    <tr>\n",
        "      <th>24  </th>\n",
        "      <td>        hossamfan@hotmail.com</td>\n",
        "      <td> Fresh Beef &amp; Poultry</td>\n",
        "      <td> 0.565</td>\n",
        "    </tr>\n",
        "    <tr>\n",
        "      <th>25  </th>\n",
        "      <td>      imanelbegermy@yahoo.com</td>\n",
        "      <td> Fresh Beef &amp; Poultry</td>\n",
        "      <td> 0.466</td>\n",
        "    </tr>\n",
        "    <tr>\n",
        "      <th>26  </th>\n",
        "      <td>               jane@eshco.net</td>\n",
        "      <td> Fresh Beef &amp; Poultry</td>\n",
        "      <td> 0.174</td>\n",
        "    </tr>\n",
        "    <tr>\n",
        "      <th>27  </th>\n",
        "      <td>             krisyg@gmail.com</td>\n",
        "      <td> Fresh Beef &amp; Poultry</td>\n",
        "      <td> 0.325</td>\n",
        "    </tr>\n",
        "    <tr>\n",
        "      <th>28  </th>\n",
        "      <td>   lesleyforsythe@hotmail.com</td>\n",
        "      <td> Fresh Beef &amp; Poultry</td>\n",
        "      <td> 0.340</td>\n",
        "    </tr>\n",
        "    <tr>\n",
        "      <th>29  </th>\n",
        "      <td>         manno505@hotmail.com</td>\n",
        "      <td> Fresh Beef &amp; Poultry</td>\n",
        "      <td> 0.327</td>\n",
        "    </tr>\n",
        "    <tr>\n",
        "      <th>...</th>\n",
        "      <td>...</td>\n",
        "      <td>...</td>\n",
        "      <td>...</td>\n",
        "    </tr>\n",
        "    <tr>\n",
        "      <th>2131</th>\n",
        "      <td>            lonnyb@icloud.com</td>\n",
        "      <td>          Accessories</td>\n",
        "      <td> 0.447</td>\n",
        "    </tr>\n",
        "    <tr>\n",
        "      <th>2132</th>\n",
        "      <td>          suki636@hotmail.com</td>\n",
        "      <td>          Accessories</td>\n",
        "      <td> 0.152</td>\n",
        "    </tr>\n",
        "    <tr>\n",
        "      <th>2133</th>\n",
        "      <td>        annboudinot@gmail.com</td>\n",
        "      <td>          Gluten free</td>\n",
        "      <td> 0.313</td>\n",
        "    </tr>\n",
        "    <tr>\n",
        "      <th>2134</th>\n",
        "      <td>     lamia_moussa@hotmail.com</td>\n",
        "      <td>          Gluten free</td>\n",
        "      <td> 0.313</td>\n",
        "    </tr>\n",
        "    <tr>\n",
        "      <th>2135</th>\n",
        "      <td>      antoinesalib@icloud.com</td>\n",
        "      <td>                Herbs</td>\n",
        "      <td> 0.402</td>\n",
        "    </tr>\n",
        "    <tr>\n",
        "      <th>2136</th>\n",
        "      <td>              aseem@yahoo.com</td>\n",
        "      <td>                Herbs</td>\n",
        "      <td> 0.428</td>\n",
        "    </tr>\n",
        "    <tr>\n",
        "      <th>2137</th>\n",
        "      <td>       catch20lolla@gmail.com</td>\n",
        "      <td>                Herbs</td>\n",
        "      <td> 0.391</td>\n",
        "    </tr>\n",
        "    <tr>\n",
        "      <th>2138</th>\n",
        "      <td>       eady4malahim@yahoo.com</td>\n",
        "      <td>                Herbs</td>\n",
        "      <td> 0.397</td>\n",
        "    </tr>\n",
        "    <tr>\n",
        "      <th>2139</th>\n",
        "      <td>  gm.tourism@atakkatravel.com</td>\n",
        "      <td>                Herbs</td>\n",
        "      <td> 0.192</td>\n",
        "    </tr>\n",
        "    <tr>\n",
        "      <th>2140</th>\n",
        "      <td>       haassaanadel@gmail.com</td>\n",
        "      <td>                Herbs</td>\n",
        "      <td> 0.192</td>\n",
        "    </tr>\n",
        "    <tr>\n",
        "      <th>2141</th>\n",
        "      <td>         hegazi79@hotmail.com</td>\n",
        "      <td>                Herbs</td>\n",
        "      <td> 0.450</td>\n",
        "    </tr>\n",
        "    <tr>\n",
        "      <th>2142</th>\n",
        "      <td>        kareemali87@yahoo.com</td>\n",
        "      <td>                Herbs</td>\n",
        "      <td> 0.192</td>\n",
        "    </tr>\n",
        "    <tr>\n",
        "      <th>2143</th>\n",
        "      <td>    lil_fighter2007@yahoo.com</td>\n",
        "      <td>                Herbs</td>\n",
        "      <td> 0.192</td>\n",
        "    </tr>\n",
        "    <tr>\n",
        "      <th>2144</th>\n",
        "      <td>       marwa.essawy@gmail.com</td>\n",
        "      <td>                Herbs</td>\n",
        "      <td> 0.192</td>\n",
        "    </tr>\n",
        "    <tr>\n",
        "      <th>2145</th>\n",
        "      <td>      olga.vollmond@gmail.com</td>\n",
        "      <td>                Herbs</td>\n",
        "      <td> 0.192</td>\n",
        "    </tr>\n",
        "    <tr>\n",
        "      <th>2146</th>\n",
        "      <td>    peaceuponuworld@yahoo.com</td>\n",
        "      <td>                Herbs</td>\n",
        "      <td> 0.192</td>\n",
        "    </tr>\n",
        "    <tr>\n",
        "      <th>2147</th>\n",
        "      <td>       reem_hamdy@hotmail.com</td>\n",
        "      <td>                Herbs</td>\n",
        "      <td> 0.375</td>\n",
        "    </tr>\n",
        "    <tr>\n",
        "      <th>2148</th>\n",
        "      <td>  saharibrahimfarag@yahoo.com</td>\n",
        "      <td>                Herbs</td>\n",
        "      <td> 0.192</td>\n",
        "    </tr>\n",
        "    <tr>\n",
        "      <th>2149</th>\n",
        "      <td>    sme128@maerskdrilling.com</td>\n",
        "      <td>                Herbs</td>\n",
        "      <td> 0.192</td>\n",
        "    </tr>\n",
        "    <tr>\n",
        "      <th>2150</th>\n",
        "      <td>          sondosb@hotmail.com</td>\n",
        "      <td>                Herbs</td>\n",
        "      <td> 0.388</td>\n",
        "    </tr>\n",
        "    <tr>\n",
        "      <th>2151</th>\n",
        "      <td>      transport1979@yahoo.com</td>\n",
        "      <td>                Herbs</td>\n",
        "      <td> 0.192</td>\n",
        "    </tr>\n",
        "    <tr>\n",
        "      <th>2152</th>\n",
        "      <td>         wildmiro@hotmail.com</td>\n",
        "      <td>                Herbs</td>\n",
        "      <td> 0.192</td>\n",
        "    </tr>\n",
        "    <tr>\n",
        "      <th>2153</th>\n",
        "      <td> charlottesullivan@mclink.net</td>\n",
        "      <td>      Home appliances</td>\n",
        "      <td> 0.288</td>\n",
        "    </tr>\n",
        "    <tr>\n",
        "      <th>2154</th>\n",
        "      <td>         israa_s@aucegypt.edu</td>\n",
        "      <td>      Home appliances</td>\n",
        "      <td> 0.288</td>\n",
        "    </tr>\n",
        "    <tr>\n",
        "      <th>2155</th>\n",
        "      <td>     hatem_281990@hotmail.com</td>\n",
        "      <td>      Herbal pharmacy</td>\n",
        "      <td> 0.262</td>\n",
        "    </tr>\n",
        "    <tr>\n",
        "      <th>2156</th>\n",
        "      <td>           hebahady@gmail.com</td>\n",
        "      <td>      Herbal pharmacy</td>\n",
        "      <td> 0.320</td>\n",
        "    </tr>\n",
        "    <tr>\n",
        "      <th>2157</th>\n",
        "      <td>  ingrid_wsolberg@hotmail.com</td>\n",
        "      <td>      Herbal pharmacy</td>\n",
        "      <td> 0.240</td>\n",
        "    </tr>\n",
        "    <tr>\n",
        "      <th>2158</th>\n",
        "      <td>          markmagdi@gmail.com</td>\n",
        "      <td>      Herbal pharmacy</td>\n",
        "      <td> 0.198</td>\n",
        "    </tr>\n",
        "    <tr>\n",
        "      <th>2159</th>\n",
        "      <td>             mhzayed@live.com</td>\n",
        "      <td>      Herbal pharmacy</td>\n",
        "      <td> 0.307</td>\n",
        "    </tr>\n",
        "    <tr>\n",
        "      <th>2160</th>\n",
        "      <td>   transcendforever@gmail.com</td>\n",
        "      <td>      Herbal pharmacy</td>\n",
        "      <td> 0.193</td>\n",
        "    </tr>\n",
        "  </tbody>\n",
        "</table>\n",
        "<p>2161 rows \u00d7 3 columns</p>\n",
        "</div>"
       ],
       "metadata": {},
       "output_type": "pyout",
       "prompt_number": 13,
       "text": [
        "                             Email               Segment  Score\n",
        "0       11435mail@mkallenberger.de  Fresh Beef & Poultry  0.338\n",
        "1             Adhamada@hotmail.com  Fresh Beef & Poultry  0.565\n",
        "2        Fadiaelsenoussi@gmail.com  Fresh Beef & Poultry  0.338\n",
        "3               Nadochal@yahoo.com  Fresh Beef & Poultry  0.277\n",
        "4          Samikaissouni@gmail.com  Fresh Beef & Poultry  0.243\n",
        "5         Yara-Ayman88@hotmail.com  Fresh Beef & Poultry  0.303\n",
        "6           abousense2@hotmail.com  Fresh Beef & Poultry  0.357\n",
        "7          amira2amira@hotmail.com  Fresh Beef & Poultry  0.333\n",
        "8        ashrafgadalla@hotmail.com  Fresh Beef & Poultry  0.259\n",
        "9                asony11@yahoo.com  Fresh Beef & Poultry  0.155\n",
        "10            aymanauf@abu-auf.com  Fresh Beef & Poultry  0.227\n",
        "11     baskettagifts@hotmail.co.uk  Fresh Beef & Poultry  0.350\n",
        "12       bassantalaa87@hotmail.com  Fresh Beef & Poultry  0.332\n",
        "13          deenaselim@hotmail.com  Fresh Beef & Poultry  0.419\n",
        "14             dicowan@hotmail.com  Fresh Beef & Poultry  0.351\n",
        "15             dinamf@aucegypt.edu  Fresh Beef & Poultry  0.458\n",
        "16    djamila.benderbous@gmail.com  Fresh Beef & Poultry  0.265\n",
        "17              dollydou@yahoo.com  Fresh Beef & Poultry  0.251\n",
        "18          eissa.heba@hotmail.com  Fresh Beef & Poultry  0.222\n",
        "19              fundre@hotmail.com  Fresh Beef & Poultry  0.134\n",
        "20             gtbasta@hotmail.com  Fresh Beef & Poultry  0.286\n",
        "21         halayoussef@hotmail.com  Fresh Beef & Poultry  0.411\n",
        "22       heba_bibo2001@hotmail.com  Fresh Beef & Poultry  0.309\n",
        "23         hoda.radwan@nielsen.com  Fresh Beef & Poultry  0.364\n",
        "24           hossamfan@hotmail.com  Fresh Beef & Poultry  0.565\n",
        "25         imanelbegermy@yahoo.com  Fresh Beef & Poultry  0.466\n",
        "26                  jane@eshco.net  Fresh Beef & Poultry  0.174\n",
        "27                krisyg@gmail.com  Fresh Beef & Poultry  0.325\n",
        "28      lesleyforsythe@hotmail.com  Fresh Beef & Poultry  0.340\n",
        "29            manno505@hotmail.com  Fresh Beef & Poultry  0.327\n",
        "...                            ...                   ...    ...\n",
        "2131             lonnyb@icloud.com           Accessories  0.447\n",
        "2132           suki636@hotmail.com           Accessories  0.152\n",
        "2133         annboudinot@gmail.com           Gluten free  0.313\n",
        "2134      lamia_moussa@hotmail.com           Gluten free  0.313\n",
        "2135       antoinesalib@icloud.com                 Herbs  0.402\n",
        "2136               aseem@yahoo.com                 Herbs  0.428\n",
        "2137        catch20lolla@gmail.com                 Herbs  0.391\n",
        "2138        eady4malahim@yahoo.com                 Herbs  0.397\n",
        "2139   gm.tourism@atakkatravel.com                 Herbs  0.192\n",
        "2140        haassaanadel@gmail.com                 Herbs  0.192\n",
        "2141          hegazi79@hotmail.com                 Herbs  0.450\n",
        "2142         kareemali87@yahoo.com                 Herbs  0.192\n",
        "2143     lil_fighter2007@yahoo.com                 Herbs  0.192\n",
        "2144        marwa.essawy@gmail.com                 Herbs  0.192\n",
        "2145       olga.vollmond@gmail.com                 Herbs  0.192\n",
        "2146     peaceuponuworld@yahoo.com                 Herbs  0.192\n",
        "2147        reem_hamdy@hotmail.com                 Herbs  0.375\n",
        "2148   saharibrahimfarag@yahoo.com                 Herbs  0.192\n",
        "2149     sme128@maerskdrilling.com                 Herbs  0.192\n",
        "2150           sondosb@hotmail.com                 Herbs  0.388\n",
        "2151       transport1979@yahoo.com                 Herbs  0.192\n",
        "2152          wildmiro@hotmail.com                 Herbs  0.192\n",
        "2153  charlottesullivan@mclink.net       Home appliances  0.288\n",
        "2154          israa_s@aucegypt.edu       Home appliances  0.288\n",
        "2155      hatem_281990@hotmail.com       Herbal pharmacy  0.262\n",
        "2156            hebahady@gmail.com       Herbal pharmacy  0.320\n",
        "2157   ingrid_wsolberg@hotmail.com       Herbal pharmacy  0.240\n",
        "2158           markmagdi@gmail.com       Herbal pharmacy  0.198\n",
        "2159              mhzayed@live.com       Herbal pharmacy  0.307\n",
        "2160    transcendforever@gmail.com       Herbal pharmacy  0.193\n",
        "\n",
        "[2161 rows x 3 columns]"
       ]
      }
     ],
     "prompt_number": 13
    },
    {
     "cell_type": "code",
     "collapsed": false,
     "input": [
      "#join with new dataframe\n",
      "customer_info_with_segments = raw_segments.merge(customer_value, on = ['Email'], how = 'outer')\n",
      "customer_info_with_segments = customer_info_with_segments[['Name', 'Revenue', 'Basket Value', 'Segment', 'Email', 'Address', 'Phone' ]]\n",
      "customer_info_with_segments"
     ],
     "language": "python",
     "metadata": {},
     "outputs": [
      {
       "html": [
        "<div style=\"max-height:1000px;max-width:1500px;overflow:auto;\">\n",
        "<table border=\"1\" class=\"dataframe\">\n",
        "  <thead>\n",
        "    <tr style=\"text-align: right;\">\n",
        "      <th></th>\n",
        "      <th>Name</th>\n",
        "      <th>Revenue</th>\n",
        "      <th>Basket Value</th>\n",
        "      <th>Segment</th>\n",
        "      <th>Email</th>\n",
        "      <th>Address</th>\n",
        "      <th>Phone</th>\n",
        "    </tr>\n",
        "  </thead>\n",
        "  <tbody>\n",
        "    <tr>\n",
        "      <th>0   </th>\n",
        "      <td>     Magdalena Kallenberger</td>\n",
        "      <td>   267.17</td>\n",
        "      <td> 267.170000</td>\n",
        "      <td> Fresh Beef &amp; Poultry</td>\n",
        "      <td>             11435mail@mkallenberger.de</td>\n",
        "      <td>                                               NaN</td>\n",
        "      <td>    01090904137</td>\n",
        "    </tr>\n",
        "    <tr>\n",
        "      <th>1   </th>\n",
        "      <td>               Adham Hamada</td>\n",
        "      <td>    61.20</td>\n",
        "      <td>  61.200000</td>\n",
        "      <td> Fresh Beef &amp; Poultry</td>\n",
        "      <td>                   Adhamada@hotmail.com</td>\n",
        "      <td> 5 eskandar el Akbar st. Heliopolis First floor...</td>\n",
        "      <td>    01223221581</td>\n",
        "    </tr>\n",
        "    <tr>\n",
        "      <th>2   </th>\n",
        "      <td>           Fadia Elsenoussi</td>\n",
        "      <td>  1068.43</td>\n",
        "      <td> 356.143333</td>\n",
        "      <td> Fresh Beef &amp; Poultry</td>\n",
        "      <td>              Fadiaelsenoussi@gmail.com</td>\n",
        "      <td>                                               NaN</td>\n",
        "      <td>            NaN</td>\n",
        "    </tr>\n",
        "    <tr>\n",
        "      <th>3   </th>\n",
        "      <td>           Nadine  Chalfoun</td>\n",
        "      <td>   263.39</td>\n",
        "      <td> 263.390000</td>\n",
        "      <td> Fresh Beef &amp; Poultry</td>\n",
        "      <td>                     Nadochal@yahoo.com</td>\n",
        "      <td>                                               NaN</td>\n",
        "      <td>    01223137478</td>\n",
        "    </tr>\n",
        "    <tr>\n",
        "      <th>4   </th>\n",
        "      <td>              Sami Kissouni</td>\n",
        "      <td>   769.26</td>\n",
        "      <td> 769.260000</td>\n",
        "      <td> Fresh Beef &amp; Poultry</td>\n",
        "      <td>                Samikaissouni@gmail.com</td>\n",
        "      <td> 603 west golf,katamia,new cairo go right besid...</td>\n",
        "      <td>    01002141390</td>\n",
        "    </tr>\n",
        "    <tr>\n",
        "      <th>5   </th>\n",
        "      <td>               Karima Kamel</td>\n",
        "      <td>   406.27</td>\n",
        "      <td> 406.270000</td>\n",
        "      <td> Fresh Beef &amp; Poultry</td>\n",
        "      <td>               Yara-Ayman88@hotmail.com</td>\n",
        "      <td>                                               NaN</td>\n",
        "      <td>    01066865829</td>\n",
        "    </tr>\n",
        "    <tr>\n",
        "      <th>6   </th>\n",
        "      <td>                mona  sabry</td>\n",
        "      <td>   311.43</td>\n",
        "      <td> 311.430000</td>\n",
        "      <td> Fresh Beef &amp; Poultry</td>\n",
        "      <td>                 abousense2@hotmail.com</td>\n",
        "      <td> 4 st farok amer floor 5 apartment 9 off mustaf...</td>\n",
        "      <td>    01224437473</td>\n",
        "    </tr>\n",
        "    <tr>\n",
        "      <th>7   </th>\n",
        "      <td>                Amira Morsi</td>\n",
        "      <td>  1084.43</td>\n",
        "      <td> 216.886000</td>\n",
        "      <td> Fresh Beef &amp; Poultry</td>\n",
        "      <td>                amira2amira@hotmail.com</td>\n",
        "      <td>                                               NaN</td>\n",
        "      <td>    01006066179</td>\n",
        "    </tr>\n",
        "    <tr>\n",
        "      <th>8   </th>\n",
        "      <td>             Ashraf Gadalla</td>\n",
        "      <td>   565.14</td>\n",
        "      <td> 565.140000</td>\n",
        "      <td> Fresh Beef &amp; Poultry</td>\n",
        "      <td>              ashrafgadalla@hotmail.com</td>\n",
        "      <td>               34 nasoo7 st floor 9, flat 17 cairo</td>\n",
        "      <td>    01222850061</td>\n",
        "    </tr>\n",
        "    <tr>\n",
        "      <th>9   </th>\n",
        "      <td>              Ahmed Ibrahim</td>\n",
        "      <td>  6967.52</td>\n",
        "      <td> 331.786667</td>\n",
        "      <td> Fresh Beef &amp; Poultry</td>\n",
        "      <td>                      asony11@yahoo.com</td>\n",
        "      <td> 20 Mohamed Ali Elbakli from Elhegaz street nea...</td>\n",
        "      <td>    01152033889</td>\n",
        "    </tr>\n",
        "    <tr>\n",
        "      <th>10  </th>\n",
        "      <td>                  Ayman Auf</td>\n",
        "      <td>   590.78</td>\n",
        "      <td> 590.780000</td>\n",
        "      <td> Fresh Beef &amp; Poultry</td>\n",
        "      <td>                   aymanauf@abu-auf.com</td>\n",
        "      <td> villa 97 katamia hights  eltagamoa el kames  c...</td>\n",
        "      <td>    01005220020</td>\n",
        "    </tr>\n",
        "    <tr>\n",
        "      <th>11  </th>\n",
        "      <td>            amina elzohairy</td>\n",
        "      <td>   322.50</td>\n",
        "      <td> 322.500000</td>\n",
        "      <td> Fresh Beef &amp; Poultry</td>\n",
        "      <td>            baskettagifts@hotmail.co.uk</td>\n",
        "      <td>                                               NaN</td>\n",
        "      <td>    01222258228</td>\n",
        "    </tr>\n",
        "    <tr>\n",
        "      <th>12  </th>\n",
        "      <td>               bassant alaa</td>\n",
        "      <td>   438.22</td>\n",
        "      <td> 438.220000</td>\n",
        "      <td> Fresh Beef &amp; Poultry</td>\n",
        "      <td>              bassantalaa87@hotmail.com</td>\n",
        "      <td> 33 ahmed abd elazez st. mohandssen  flooer 2 a...</td>\n",
        "      <td>    01098688882</td>\n",
        "    </tr>\n",
        "    <tr>\n",
        "      <th>13  </th>\n",
        "      <td>                 Dina Selim</td>\n",
        "      <td>   612.96</td>\n",
        "      <td> 204.320000</td>\n",
        "      <td> Fresh Beef &amp; Poultry</td>\n",
        "      <td>                 deenaselim@hotmail.com</td>\n",
        "      <td> 21 Adan street, off Shehab street Floor 6, Apa...</td>\n",
        "      <td>    01001150138</td>\n",
        "    </tr>\n",
        "    <tr>\n",
        "      <th>14  </th>\n",
        "      <td>               Daniel Cowan</td>\n",
        "      <td>   544.42</td>\n",
        "      <td> 544.420000</td>\n",
        "      <td> Fresh Beef &amp; Poultry</td>\n",
        "      <td>                    dicowan@hotmail.com</td>\n",
        "      <td> Apartment 4 3rd floor first door, Villa 204 Ro...</td>\n",
        "      <td>    01274335519</td>\n",
        "    </tr>\n",
        "    <tr>\n",
        "      <th>15  </th>\n",
        "      <td>                 Dina Moheb</td>\n",
        "      <td>   179.65</td>\n",
        "      <td> 179.650000</td>\n",
        "      <td> Fresh Beef &amp; Poultry</td>\n",
        "      <td>                    dinamf@aucegypt.edu</td>\n",
        "      <td>                                               NaN</td>\n",
        "      <td>    01223315939</td>\n",
        "    </tr>\n",
        "    <tr>\n",
        "      <th>16  </th>\n",
        "      <td> djamila benderbous Kafoufi</td>\n",
        "      <td> 15930.15</td>\n",
        "      <td> 497.817188</td>\n",
        "      <td> Fresh Beef &amp; Poultry</td>\n",
        "      <td>           djamila.benderbous@gmail.com</td>\n",
        "      <td> El Gazira Street, Smart Life Compound,Tagamo3 ...</td>\n",
        "      <td>    01229918886</td>\n",
        "    </tr>\n",
        "    <tr>\n",
        "      <th>17  </th>\n",
        "      <td>               Dalia Hashem</td>\n",
        "      <td>   599.85</td>\n",
        "      <td> 149.962500</td>\n",
        "      <td> Fresh Beef &amp; Poultry</td>\n",
        "      <td>                     dollydou@yahoo.com</td>\n",
        "      <td>                                               NaN</td>\n",
        "      <td>    01001809011</td>\n",
        "    </tr>\n",
        "    <tr>\n",
        "      <th>18  </th>\n",
        "      <td>                heba  eissa</td>\n",
        "      <td>   365.73</td>\n",
        "      <td> 182.865000</td>\n",
        "      <td> Fresh Beef &amp; Poultry</td>\n",
        "      <td>                 eissa.heba@hotmail.com</td>\n",
        "      <td>            49 green heights  6th of October Cairo</td>\n",
        "      <td>    01005697777</td>\n",
        "    </tr>\n",
        "    <tr>\n",
        "      <th>19  </th>\n",
        "      <td>               Faheem Undre</td>\n",
        "      <td>   412.75</td>\n",
        "      <td> 412.750000</td>\n",
        "      <td> Fresh Beef &amp; Poultry</td>\n",
        "      <td>                     fundre@hotmail.com</td>\n",
        "      <td>             group 95, building 7 flat 54 al rehab</td>\n",
        "      <td>    01091457427</td>\n",
        "    </tr>\n",
        "    <tr>\n",
        "      <th>20  </th>\n",
        "      <td>                Gehan Basta</td>\n",
        "      <td>   379.20</td>\n",
        "      <td> 379.200000</td>\n",
        "      <td> Fresh Beef &amp; Poultry</td>\n",
        "      <td>                    gtbasta@hotmail.com</td>\n",
        "      <td>                                               NaN</td>\n",
        "      <td>    01222185502</td>\n",
        "    </tr>\n",
        "    <tr>\n",
        "      <th>21  </th>\n",
        "      <td>              Hala  Youssef</td>\n",
        "      <td>    86.12</td>\n",
        "      <td>  86.120000</td>\n",
        "      <td> Fresh Beef &amp; Poultry</td>\n",
        "      <td>                halayoussef@hotmail.com</td>\n",
        "      <td> 19 mohamed youssif el kady, koleyet el banat r...</td>\n",
        "      <td>    01005771586</td>\n",
        "    </tr>\n",
        "    <tr>\n",
        "      <th>22  </th>\n",
        "      <td>                  heba mhmd</td>\n",
        "      <td>   853.90</td>\n",
        "      <td> 426.950000</td>\n",
        "      <td> Fresh Beef &amp; Poultry</td>\n",
        "      <td>              heba_bibo2001@hotmail.com</td>\n",
        "      <td>                                               NaN</td>\n",
        "      <td>            NaN</td>\n",
        "    </tr>\n",
        "    <tr>\n",
        "      <th>23  </th>\n",
        "      <td>                Hoda Radwan</td>\n",
        "      <td>   812.00</td>\n",
        "      <td> 812.000000</td>\n",
        "      <td> Fresh Beef &amp; Poultry</td>\n",
        "      <td>                hoda.radwan@nielsen.com</td>\n",
        "      <td> 280A Palm Hills. 6th of October. 4th Phase - Y...</td>\n",
        "      <td>    01223956550</td>\n",
        "    </tr>\n",
        "    <tr>\n",
        "      <th>24  </th>\n",
        "      <td>                Silvia Vila</td>\n",
        "      <td>    78.00</td>\n",
        "      <td>  78.000000</td>\n",
        "      <td> Fresh Beef &amp; Poultry</td>\n",
        "      <td>                  hossamfan@hotmail.com</td>\n",
        "      <td>                                               NaN</td>\n",
        "      <td>            NaN</td>\n",
        "    </tr>\n",
        "    <tr>\n",
        "      <th>25  </th>\n",
        "      <td>            Iman El begermy</td>\n",
        "      <td>   297.32</td>\n",
        "      <td> 148.660000</td>\n",
        "      <td> Fresh Beef &amp; Poultry</td>\n",
        "      <td>                imanelbegermy@yahoo.com</td>\n",
        "      <td>                                               NaN</td>\n",
        "      <td>    01222170441</td>\n",
        "    </tr>\n",
        "    <tr>\n",
        "      <th>26  </th>\n",
        "      <td>                  Jane wick</td>\n",
        "      <td>   670.31</td>\n",
        "      <td> 335.155000</td>\n",
        "      <td> Fresh Beef &amp; Poultry</td>\n",
        "      <td>                         jane@eshco.net</td>\n",
        "      <td> 8, khaled ibn l walid, masaken sheraton fllor ...</td>\n",
        "      <td>    01211114396</td>\n",
        "    </tr>\n",
        "    <tr>\n",
        "      <th>27  </th>\n",
        "      <td>        christine   girguis</td>\n",
        "      <td>  4443.37</td>\n",
        "      <td> 143.334516</td>\n",
        "      <td> Fresh Beef &amp; Poultry</td>\n",
        "      <td>                       krisyg@gmail.com</td>\n",
        "      <td> 3 abdlmonaem hafez st.off elnozha st. Heliopol...</td>\n",
        "      <td>    01221111032</td>\n",
        "    </tr>\n",
        "    <tr>\n",
        "      <th>28  </th>\n",
        "      <td>            Lesley Forsythe</td>\n",
        "      <td>  1363.57</td>\n",
        "      <td> 340.892500</td>\n",
        "      <td> Fresh Beef &amp; Poultry</td>\n",
        "      <td>             lesleyforsythe@hotmail.com</td>\n",
        "      <td> Apartment 61, Building 7, Group 23 Madinaty Cairo</td>\n",
        "      <td>    01146855637</td>\n",
        "    </tr>\n",
        "    <tr>\n",
        "      <th>29  </th>\n",
        "      <td>              Iman Matbouli</td>\n",
        "      <td>   377.40</td>\n",
        "      <td> 377.400000</td>\n",
        "      <td> Fresh Beef &amp; Poultry</td>\n",
        "      <td>                   manno505@hotmail.com</td>\n",
        "      <td> 13 seliman abd el aziz selim st, floor 3, Flat...</td>\n",
        "      <td>   012224559490</td>\n",
        "    </tr>\n",
        "    <tr>\n",
        "      <th>...</th>\n",
        "      <td>...</td>\n",
        "      <td>...</td>\n",
        "      <td>...</td>\n",
        "      <td>...</td>\n",
        "      <td>...</td>\n",
        "      <td>...</td>\n",
        "      <td>...</td>\n",
        "    </tr>\n",
        "    <tr>\n",
        "      <th>2340</th>\n",
        "      <td>                 Amr Shokry</td>\n",
        "      <td>   144.00</td>\n",
        "      <td> 144.000000</td>\n",
        "      <td>                  NaN</td>\n",
        "      <td>                    e.khairy5@gmail.com</td>\n",
        "      <td> 13 ezat salama st. from abas el akad st.beside...</td>\n",
        "      <td>    01227716679</td>\n",
        "    </tr>\n",
        "    <tr>\n",
        "      <th>2341</th>\n",
        "      <td>             Nermin Mohamed</td>\n",
        "      <td>   286.50</td>\n",
        "      <td> 286.500000</td>\n",
        "      <td>                  NaN</td>\n",
        "      <td>              rosy_cheek_86@hotmail.com</td>\n",
        "      <td>  \u062a\u0642\u0627\u0637\u0639 \u0634\u0627\u0631\u0639 \u0627\u0644\u062d\u0644\u0648 \u0645\u0639 \u0627\u0644\u0641\u0627\u0644\u0648\u062c\u0627 \u0639\u0645\u0627\u0631\u0629 \u0647\u0627\u064a\u0628\u0631 \u0627\u0648\u0644\u0627...</td>\n",
        "      <td>    01212489643</td>\n",
        "    </tr>\n",
        "    <tr>\n",
        "      <th>2342</th>\n",
        "      <td>                Rola Moemen</td>\n",
        "      <td>   100.00</td>\n",
        "      <td> 100.000000</td>\n",
        "      <td>                  NaN</td>\n",
        "      <td>                   rola.magdy@gmail.com</td>\n",
        "      <td> 45 el madina el monawara street, mohandiseen 4...</td>\n",
        "      <td> 00201274009995</td>\n",
        "    </tr>\n",
        "    <tr>\n",
        "      <th>2343</th>\n",
        "      <td>         Maie  El Nomrossy </td>\n",
        "      <td>  3821.05</td>\n",
        "      <td> 382.105000</td>\n",
        "      <td>                  NaN</td>\n",
        "      <td>                maie.nomrossy@gmail.com</td>\n",
        "      <td>    110 el marghany street  Floor 2. Apt 24 Cairo </td>\n",
        "      <td>    01222134021</td>\n",
        "    </tr>\n",
        "    <tr>\n",
        "      <th>2344</th>\n",
        "      <td>               Amina Shafik</td>\n",
        "      <td>    45.00</td>\n",
        "      <td>  45.000000</td>\n",
        "      <td>                  NaN</td>\n",
        "      <td>                aminashafik25@gmail.com</td>\n",
        "      <td>  takseem elaselky madina mnwara st. maady elma...</td>\n",
        "      <td>    01003838702</td>\n",
        "    </tr>\n",
        "    <tr>\n",
        "      <th>2345</th>\n",
        "      <td>                Hans  Dirix</td>\n",
        "      <td>   180.00</td>\n",
        "      <td> 180.000000</td>\n",
        "      <td>                  NaN</td>\n",
        "      <td>                   hans.dirix@gmail.com</td>\n",
        "      <td>                          Elgouna Elgouna Hurghada</td>\n",
        "      <td>    01270687640</td>\n",
        "    </tr>\n",
        "    <tr>\n",
        "      <th>2346</th>\n",
        "      <td>            Mostafa Mahmoud</td>\n",
        "      <td>   400.00</td>\n",
        "      <td> 133.333333</td>\n",
        "      <td>                  NaN</td>\n",
        "      <td>                 moustafam692@gmail.com</td>\n",
        "      <td>                                       Ngs C Cairo</td>\n",
        "      <td>    01013301511</td>\n",
        "    </tr>\n",
        "    <tr>\n",
        "      <th>2347</th>\n",
        "      <td>                  Maha Nagy</td>\n",
        "      <td>    80.00</td>\n",
        "      <td>  80.000000</td>\n",
        "      <td>                  NaN</td>\n",
        "      <td>                     mahanagy@gmail.com</td>\n",
        "      <td> 24 Road, 200, Digla, Maadi apt.21, 2nd floor C...</td>\n",
        "      <td>  +201005857070</td>\n",
        "    </tr>\n",
        "    <tr>\n",
        "      <th>2348</th>\n",
        "      <td>               Maha Hussein</td>\n",
        "      <td>  1689.40</td>\n",
        "      <td> 422.350000</td>\n",
        "      <td>                  NaN</td>\n",
        "      <td>                 hussein.maha@gmail.com</td>\n",
        "      <td>            26 Boulus Hanna Street, Dokky 23 Cairo</td>\n",
        "      <td>    01223107827</td>\n",
        "    </tr>\n",
        "    <tr>\n",
        "      <th>2349</th>\n",
        "      <td>         Charlotte Longmuir</td>\n",
        "      <td>   300.00</td>\n",
        "      <td> 300.000000</td>\n",
        "      <td>                  NaN</td>\n",
        "      <td>                chalongmuir@yahoo.co.uk</td>\n",
        "      <td>                                               NaN</td>\n",
        "      <td>    01227654998</td>\n",
        "    </tr>\n",
        "    <tr>\n",
        "      <th>2350</th>\n",
        "      <td>             Sarah Alshanti</td>\n",
        "      <td>   300.00</td>\n",
        "      <td> 300.000000</td>\n",
        "      <td>                  NaN</td>\n",
        "      <td>                       soshanti@aol.com</td>\n",
        "      <td>               23 katamya plaza 3rd floor 33 Cairo</td>\n",
        "      <td>    01000603100</td>\n",
        "    </tr>\n",
        "    <tr>\n",
        "      <th>2351</th>\n",
        "      <td>                Safaa Galal</td>\n",
        "      <td>   115.00</td>\n",
        "      <td> 115.000000</td>\n",
        "      <td>                  NaN</td>\n",
        "      <td>                 safa2galal@hotmail.com</td>\n",
        "      <td> \u062f\u0662\u0660 \u062d\u064a \u0627\u0644\u0645\u0635\u0631\u0627\u0648\u064a\u0647 \u0634\u0627\u0631\u0639 \u0627\u0644\u062a\u0633\u0639\u064a\u0646 \u0627\u0644\u062a\u062c\u0645\u0639 \u0627\u0644\u062e\u0627\u0645\u0633  \u0627...</td>\n",
        "      <td>    01222151960</td>\n",
        "    </tr>\n",
        "    <tr>\n",
        "      <th>2352</th>\n",
        "      <td>              Tatiana Fouda</td>\n",
        "      <td>   618.00</td>\n",
        "      <td> 206.000000</td>\n",
        "      <td>                  NaN</td>\n",
        "      <td>                       tfoda3@yahoo.com</td>\n",
        "      <td>                                               NaN</td>\n",
        "      <td>    01221080261</td>\n",
        "    </tr>\n",
        "    <tr>\n",
        "      <th>2353</th>\n",
        "      <td>            Sherine   Galal</td>\n",
        "      <td>   631.00</td>\n",
        "      <td> 210.333333</td>\n",
        "      <td>                  NaN</td>\n",
        "      <td>                sherine.galal@yahoo.com</td>\n",
        "      <td> 8/12 El Togary street, zahraa el maadi (villa)...</td>\n",
        "      <td>    01001445127</td>\n",
        "    </tr>\n",
        "    <tr>\n",
        "      <th>2354</th>\n",
        "      <td>           Assmaa Almaairgy</td>\n",
        "      <td>   245.00</td>\n",
        "      <td> 245.000000</td>\n",
        "      <td>                  NaN</td>\n",
        "      <td>                samalmaairgy_8@live.com</td>\n",
        "      <td> 91 Gesr El suez St,Heliopolis 7th floor ,apt 7...</td>\n",
        "      <td>    01273187632</td>\n",
        "    </tr>\n",
        "    <tr>\n",
        "      <th>2355</th>\n",
        "      <td>              Ebthal Ismail</td>\n",
        "      <td>    95.60</td>\n",
        "      <td>  47.800000</td>\n",
        "      <td>                  NaN</td>\n",
        "      <td>                 sunset_456@hotmail.com</td>\n",
        "      <td>                                               NaN</td>\n",
        "      <td>  +201154467772</td>\n",
        "    </tr>\n",
        "    <tr>\n",
        "      <th>2356</th>\n",
        "      <td>             Mourad Mohamed</td>\n",
        "      <td>   174.00</td>\n",
        "      <td> 174.000000</td>\n",
        "      <td>                  NaN</td>\n",
        "      <td>     mourad_mohamed@rayarestaurants.com</td>\n",
        "      <td>                                               NaN</td>\n",
        "      <td>    01005809345</td>\n",
        "    </tr>\n",
        "    <tr>\n",
        "      <th>2357</th>\n",
        "      <td>         Ahmed Abdel Rahman</td>\n",
        "      <td>    68.00</td>\n",
        "      <td>  68.000000</td>\n",
        "      <td>                  NaN</td>\n",
        "      <td>                    yousrayam@yahoo.com</td>\n",
        "      <td> 5 Mohamed Zaghloul from Mohamed ghoneim street...</td>\n",
        "      <td>    01222145015</td>\n",
        "    </tr>\n",
        "    <tr>\n",
        "      <th>2358</th>\n",
        "      <td>                Sahar Saleh</td>\n",
        "      <td>  1254.73</td>\n",
        "      <td> 250.946000</td>\n",
        "      <td>                  NaN</td>\n",
        "      <td> anass.elwogoud.importnexport@gmail.com</td>\n",
        "      <td>                                               NaN</td>\n",
        "      <td>    01116757467</td>\n",
        "    </tr>\n",
        "    <tr>\n",
        "      <th>2359</th>\n",
        "      <td>                 Hoda Hosny</td>\n",
        "      <td>   142.00</td>\n",
        "      <td> 142.000000</td>\n",
        "      <td>                  NaN</td>\n",
        "      <td>                      hodzyta@gmail.com</td>\n",
        "      <td>       16 rd 262, bldg 16 a new maadi apt 1  Cairo</td>\n",
        "      <td>    01003400660</td>\n",
        "    </tr>\n",
        "    <tr>\n",
        "      <th>2360</th>\n",
        "      <td>              Wafa  Zemouli</td>\n",
        "      <td>    98.00</td>\n",
        "      <td>  98.000000</td>\n",
        "      <td>                  NaN</td>\n",
        "      <td>                   wzemouli@hotmail.com</td>\n",
        "      <td> New Cairo - tagalo3 5  Are 6 - street 1 - vill...</td>\n",
        "      <td>    01119233335</td>\n",
        "    </tr>\n",
        "    <tr>\n",
        "      <th>2361</th>\n",
        "      <td>               amal ibrahim</td>\n",
        "      <td>   116.75</td>\n",
        "      <td> 116.750000</td>\n",
        "      <td>                  NaN</td>\n",
        "      <td>            amalibrahimsaad@hotmail.com</td>\n",
        "      <td> cairo 66 corneish el nile borg zahraa el maadi...</td>\n",
        "      <td>    01286940687</td>\n",
        "    </tr>\n",
        "    <tr>\n",
        "      <th>2362</th>\n",
        "      <td>          Branka Filipovich</td>\n",
        "      <td>   162.00</td>\n",
        "      <td>  81.000000</td>\n",
        "      <td>                  NaN</td>\n",
        "      <td>              brankafilipovic@yahoo.com</td>\n",
        "      <td>                                               NaN</td>\n",
        "      <td>    01277005889</td>\n",
        "    </tr>\n",
        "    <tr>\n",
        "      <th>2363</th>\n",
        "      <td>                Ahmed Tarek</td>\n",
        "      <td>    48.00</td>\n",
        "      <td>  48.000000</td>\n",
        "      <td>                  NaN</td>\n",
        "      <td>                    a.tarek87@gmail.com</td>\n",
        "      <td>                                               NaN</td>\n",
        "      <td>  +201006444655</td>\n",
        "    </tr>\n",
        "    <tr>\n",
        "      <th>2364</th>\n",
        "      <td>           Hoda Abdel shafi</td>\n",
        "      <td>   212.00</td>\n",
        "      <td> 212.000000</td>\n",
        "      <td>                  NaN</td>\n",
        "      <td>               hodaraafat1980@gmail.com</td>\n",
        "      <td>                                               NaN</td>\n",
        "      <td>    01222225092</td>\n",
        "    </tr>\n",
        "    <tr>\n",
        "      <th>2365</th>\n",
        "      <td>        Riham El Batanouny </td>\n",
        "      <td>   120.00</td>\n",
        "      <td> 120.000000</td>\n",
        "      <td>                  NaN</td>\n",
        "      <td>                 relbatanouny@yahoo.com</td>\n",
        "      <td>         18 Ibn Bassam st, nouzha Apt 4 Heliopolis</td>\n",
        "      <td>  +201222152653</td>\n",
        "    </tr>\n",
        "    <tr>\n",
        "      <th>2366</th>\n",
        "      <td>                Rawya Karim</td>\n",
        "      <td>   371.00</td>\n",
        "      <td> 371.000000</td>\n",
        "      <td>                  NaN</td>\n",
        "      <td>                 rawyakarim@hotmail.com</td>\n",
        "      <td>         share11 st. from wahib dos Villa 21 Cairo</td>\n",
        "      <td>    01002106858</td>\n",
        "    </tr>\n",
        "    <tr>\n",
        "      <th>2367</th>\n",
        "      <td>                Reham Ezzat</td>\n",
        "      <td>   138.75</td>\n",
        "      <td> 138.750000</td>\n",
        "      <td>                  NaN</td>\n",
        "      <td>    flying_without_wingso2o@hotmail.com</td>\n",
        "      <td>                                               NaN</td>\n",
        "      <td>    01111222091</td>\n",
        "    </tr>\n",
        "    <tr>\n",
        "      <th>2368</th>\n",
        "      <td>      Subscriber Newsletter</td>\n",
        "      <td>  1915.07</td>\n",
        "      <td> 638.356667</td>\n",
        "      <td>                  NaN</td>\n",
        "      <td>     crobertson@melroseresources-eg.com</td>\n",
        "      <td>          Apartment 23 47 canal street Maadi Cairo</td>\n",
        "      <td>    01000079716</td>\n",
        "    </tr>\n",
        "    <tr>\n",
        "      <th>2369</th>\n",
        "      <td>              Omaima Korraa</td>\n",
        "      <td>   260.18</td>\n",
        "      <td> 260.180000</td>\n",
        "      <td>                  NaN</td>\n",
        "      <td> secretary.management@odeontours.com.eg</td>\n",
        "      <td>                                               NaN</td>\n",
        "      <td>    01144406375</td>\n",
        "    </tr>\n",
        "  </tbody>\n",
        "</table>\n",
        "<p>2370 rows \u00d7 7 columns</p>\n",
        "</div>"
       ],
       "metadata": {},
       "output_type": "pyout",
       "prompt_number": 14,
       "text": [
        "                            Name   Revenue  Basket Value  \\\n",
        "0         Magdalena Kallenberger    267.17    267.170000   \n",
        "1                   Adham Hamada     61.20     61.200000   \n",
        "2               Fadia Elsenoussi   1068.43    356.143333   \n",
        "3               Nadine  Chalfoun    263.39    263.390000   \n",
        "4                  Sami Kissouni    769.26    769.260000   \n",
        "5                   Karima Kamel    406.27    406.270000   \n",
        "6                    mona  sabry    311.43    311.430000   \n",
        "7                    Amira Morsi   1084.43    216.886000   \n",
        "8                 Ashraf Gadalla    565.14    565.140000   \n",
        "9                  Ahmed Ibrahim   6967.52    331.786667   \n",
        "10                     Ayman Auf    590.78    590.780000   \n",
        "11               amina elzohairy    322.50    322.500000   \n",
        "12                  bassant alaa    438.22    438.220000   \n",
        "13                    Dina Selim    612.96    204.320000   \n",
        "14                  Daniel Cowan    544.42    544.420000   \n",
        "15                    Dina Moheb    179.65    179.650000   \n",
        "16    djamila benderbous Kafoufi  15930.15    497.817188   \n",
        "17                  Dalia Hashem    599.85    149.962500   \n",
        "18                   heba  eissa    365.73    182.865000   \n",
        "19                  Faheem Undre    412.75    412.750000   \n",
        "20                   Gehan Basta    379.20    379.200000   \n",
        "21                 Hala  Youssef     86.12     86.120000   \n",
        "22                     heba mhmd    853.90    426.950000   \n",
        "23                   Hoda Radwan    812.00    812.000000   \n",
        "24                   Silvia Vila     78.00     78.000000   \n",
        "25               Iman El begermy    297.32    148.660000   \n",
        "26                     Jane wick    670.31    335.155000   \n",
        "27           christine   girguis   4443.37    143.334516   \n",
        "28               Lesley Forsythe   1363.57    340.892500   \n",
        "29                 Iman Matbouli    377.40    377.400000   \n",
        "...                          ...       ...           ...   \n",
        "2340                  Amr Shokry    144.00    144.000000   \n",
        "2341              Nermin Mohamed    286.50    286.500000   \n",
        "2342                 Rola Moemen    100.00    100.000000   \n",
        "2343          Maie  El Nomrossy    3821.05    382.105000   \n",
        "2344                Amina Shafik     45.00     45.000000   \n",
        "2345                 Hans  Dirix    180.00    180.000000   \n",
        "2346             Mostafa Mahmoud    400.00    133.333333   \n",
        "2347                   Maha Nagy     80.00     80.000000   \n",
        "2348                Maha Hussein   1689.40    422.350000   \n",
        "2349          Charlotte Longmuir    300.00    300.000000   \n",
        "2350              Sarah Alshanti    300.00    300.000000   \n",
        "2351                 Safaa Galal    115.00    115.000000   \n",
        "2352               Tatiana Fouda    618.00    206.000000   \n",
        "2353             Sherine   Galal    631.00    210.333333   \n",
        "2354            Assmaa Almaairgy    245.00    245.000000   \n",
        "2355               Ebthal Ismail     95.60     47.800000   \n",
        "2356              Mourad Mohamed    174.00    174.000000   \n",
        "2357          Ahmed Abdel Rahman     68.00     68.000000   \n",
        "2358                 Sahar Saleh   1254.73    250.946000   \n",
        "2359                  Hoda Hosny    142.00    142.000000   \n",
        "2360               Wafa  Zemouli     98.00     98.000000   \n",
        "2361                amal ibrahim    116.75    116.750000   \n",
        "2362           Branka Filipovich    162.00     81.000000   \n",
        "2363                 Ahmed Tarek     48.00     48.000000   \n",
        "2364            Hoda Abdel shafi    212.00    212.000000   \n",
        "2365         Riham El Batanouny     120.00    120.000000   \n",
        "2366                 Rawya Karim    371.00    371.000000   \n",
        "2367                 Reham Ezzat    138.75    138.750000   \n",
        "2368       Subscriber Newsletter   1915.07    638.356667   \n",
        "2369               Omaima Korraa    260.18    260.180000   \n",
        "\n",
        "                   Segment                                   Email  \\\n",
        "0     Fresh Beef & Poultry              11435mail@mkallenberger.de   \n",
        "1     Fresh Beef & Poultry                    Adhamada@hotmail.com   \n",
        "2     Fresh Beef & Poultry               Fadiaelsenoussi@gmail.com   \n",
        "3     Fresh Beef & Poultry                      Nadochal@yahoo.com   \n",
        "4     Fresh Beef & Poultry                 Samikaissouni@gmail.com   \n",
        "5     Fresh Beef & Poultry                Yara-Ayman88@hotmail.com   \n",
        "6     Fresh Beef & Poultry                  abousense2@hotmail.com   \n",
        "7     Fresh Beef & Poultry                 amira2amira@hotmail.com   \n",
        "8     Fresh Beef & Poultry               ashrafgadalla@hotmail.com   \n",
        "9     Fresh Beef & Poultry                       asony11@yahoo.com   \n",
        "10    Fresh Beef & Poultry                    aymanauf@abu-auf.com   \n",
        "11    Fresh Beef & Poultry             baskettagifts@hotmail.co.uk   \n",
        "12    Fresh Beef & Poultry               bassantalaa87@hotmail.com   \n",
        "13    Fresh Beef & Poultry                  deenaselim@hotmail.com   \n",
        "14    Fresh Beef & Poultry                     dicowan@hotmail.com   \n",
        "15    Fresh Beef & Poultry                     dinamf@aucegypt.edu   \n",
        "16    Fresh Beef & Poultry            djamila.benderbous@gmail.com   \n",
        "17    Fresh Beef & Poultry                      dollydou@yahoo.com   \n",
        "18    Fresh Beef & Poultry                  eissa.heba@hotmail.com   \n",
        "19    Fresh Beef & Poultry                      fundre@hotmail.com   \n",
        "20    Fresh Beef & Poultry                     gtbasta@hotmail.com   \n",
        "21    Fresh Beef & Poultry                 halayoussef@hotmail.com   \n",
        "22    Fresh Beef & Poultry               heba_bibo2001@hotmail.com   \n",
        "23    Fresh Beef & Poultry                 hoda.radwan@nielsen.com   \n",
        "24    Fresh Beef & Poultry                   hossamfan@hotmail.com   \n",
        "25    Fresh Beef & Poultry                 imanelbegermy@yahoo.com   \n",
        "26    Fresh Beef & Poultry                          jane@eshco.net   \n",
        "27    Fresh Beef & Poultry                        krisyg@gmail.com   \n",
        "28    Fresh Beef & Poultry              lesleyforsythe@hotmail.com   \n",
        "29    Fresh Beef & Poultry                    manno505@hotmail.com   \n",
        "...                    ...                                     ...   \n",
        "2340                   NaN                     e.khairy5@gmail.com   \n",
        "2341                   NaN               rosy_cheek_86@hotmail.com   \n",
        "2342                   NaN                    rola.magdy@gmail.com   \n",
        "2343                   NaN                 maie.nomrossy@gmail.com   \n",
        "2344                   NaN                 aminashafik25@gmail.com   \n",
        "2345                   NaN                    hans.dirix@gmail.com   \n",
        "2346                   NaN                  moustafam692@gmail.com   \n",
        "2347                   NaN                      mahanagy@gmail.com   \n",
        "2348                   NaN                  hussein.maha@gmail.com   \n",
        "2349                   NaN                 chalongmuir@yahoo.co.uk   \n",
        "2350                   NaN                        soshanti@aol.com   \n",
        "2351                   NaN                  safa2galal@hotmail.com   \n",
        "2352                   NaN                        tfoda3@yahoo.com   \n",
        "2353                   NaN                 sherine.galal@yahoo.com   \n",
        "2354                   NaN                 samalmaairgy_8@live.com   \n",
        "2355                   NaN                  sunset_456@hotmail.com   \n",
        "2356                   NaN      mourad_mohamed@rayarestaurants.com   \n",
        "2357                   NaN                     yousrayam@yahoo.com   \n",
        "2358                   NaN  anass.elwogoud.importnexport@gmail.com   \n",
        "2359                   NaN                       hodzyta@gmail.com   \n",
        "2360                   NaN                    wzemouli@hotmail.com   \n",
        "2361                   NaN             amalibrahimsaad@hotmail.com   \n",
        "2362                   NaN               brankafilipovic@yahoo.com   \n",
        "2363                   NaN                     a.tarek87@gmail.com   \n",
        "2364                   NaN                hodaraafat1980@gmail.com   \n",
        "2365                   NaN                  relbatanouny@yahoo.com   \n",
        "2366                   NaN                  rawyakarim@hotmail.com   \n",
        "2367                   NaN     flying_without_wingso2o@hotmail.com   \n",
        "2368                   NaN      crobertson@melroseresources-eg.com   \n",
        "2369                   NaN  secretary.management@odeontours.com.eg   \n",
        "\n",
        "                                                Address           Phone  \n",
        "0                                                   NaN     01090904137  \n",
        "1     5 eskandar el Akbar st. Heliopolis First floor...     01223221581  \n",
        "2                                                   NaN             NaN  \n",
        "3                                                   NaN     01223137478  \n",
        "4     603 west golf,katamia,new cairo go right besid...     01002141390  \n",
        "5                                                   NaN     01066865829  \n",
        "6     4 st farok amer floor 5 apartment 9 off mustaf...     01224437473  \n",
        "7                                                   NaN     01006066179  \n",
        "8                   34 nasoo7 st floor 9, flat 17 cairo     01222850061  \n",
        "9     20 Mohamed Ali Elbakli from Elhegaz street nea...     01152033889  \n",
        "10    villa 97 katamia hights  eltagamoa el kames  c...     01005220020  \n",
        "11                                                  NaN     01222258228  \n",
        "12    33 ahmed abd elazez st. mohandssen  flooer 2 a...     01098688882  \n",
        "13    21 Adan street, off Shehab street Floor 6, Apa...     01001150138  \n",
        "14    Apartment 4 3rd floor first door, Villa 204 Ro...     01274335519  \n",
        "15                                                  NaN     01223315939  \n",
        "16    El Gazira Street, Smart Life Compound,Tagamo3 ...     01229918886  \n",
        "17                                                  NaN     01001809011  \n",
        "18               49 green heights  6th of October Cairo     01005697777  \n",
        "19                group 95, building 7 flat 54 al rehab     01091457427  \n",
        "20                                                  NaN     01222185502  \n",
        "21    19 mohamed youssif el kady, koleyet el banat r...     01005771586  \n",
        "22                                                  NaN             NaN  \n",
        "23    280A Palm Hills. 6th of October. 4th Phase - Y...     01223956550  \n",
        "24                                                  NaN             NaN  \n",
        "25                                                  NaN     01222170441  \n",
        "26    8, khaled ibn l walid, masaken sheraton fllor ...     01211114396  \n",
        "27    3 abdlmonaem hafez st.off elnozha st. Heliopol...     01221111032  \n",
        "28    Apartment 61, Building 7, Group 23 Madinaty Cairo     01146855637  \n",
        "29    13 seliman abd el aziz selim st, floor 3, Flat...    012224559490  \n",
        "...                                                 ...             ...  \n",
        "2340  13 ezat salama st. from abas el akad st.beside...     01227716679  \n",
        "2341   \u062a\u0642\u0627\u0637\u0639 \u0634\u0627\u0631\u0639 \u0627\u0644\u062d\u0644\u0648 \u0645\u0639 \u0627\u0644\u0641\u0627\u0644\u0648\u062c\u0627 \u0639\u0645\u0627\u0631\u0629 \u0647\u0627\u064a\u0628\u0631 \u0627\u0648\u0644\u0627...     01212489643  \n",
        "2342  45 el madina el monawara street, mohandiseen 4...  00201274009995  \n",
        "2343     110 el marghany street  Floor 2. Apt 24 Cairo      01222134021  \n",
        "2344   takseem elaselky madina mnwara st. maady elma...     01003838702  \n",
        "2345                           Elgouna Elgouna Hurghada     01270687640  \n",
        "2346                                        Ngs C Cairo     01013301511  \n",
        "2347  24 Road, 200, Digla, Maadi apt.21, 2nd floor C...   +201005857070  \n",
        "2348             26 Boulus Hanna Street, Dokky 23 Cairo     01223107827  \n",
        "2349                                                NaN     01227654998  \n",
        "2350                23 katamya plaza 3rd floor 33 Cairo     01000603100  \n",
        "2351  \u062f\u0662\u0660 \u062d\u064a \u0627\u0644\u0645\u0635\u0631\u0627\u0648\u064a\u0647 \u0634\u0627\u0631\u0639 \u0627\u0644\u062a\u0633\u0639\u064a\u0646 \u0627\u0644\u062a\u062c\u0645\u0639 \u0627\u0644\u062e\u0627\u0645\u0633  \u0627...     01222151960  \n",
        "2352                                                NaN     01221080261  \n",
        "2353  8/12 El Togary street, zahraa el maadi (villa)...     01001445127  \n",
        "2354  91 Gesr El suez St,Heliopolis 7th floor ,apt 7...     01273187632  \n",
        "2355                                                NaN   +201154467772  \n",
        "2356                                                NaN     01005809345  \n",
        "2357  5 Mohamed Zaghloul from Mohamed ghoneim street...     01222145015  \n",
        "2358                                                NaN     01116757467  \n",
        "2359        16 rd 262, bldg 16 a new maadi apt 1  Cairo     01003400660  \n",
        "2360  New Cairo - tagalo3 5  Are 6 - street 1 - vill...     01119233335  \n",
        "2361  cairo 66 corneish el nile borg zahraa el maadi...     01286940687  \n",
        "2362                                                NaN     01277005889  \n",
        "2363                                                NaN   +201006444655  \n",
        "2364                                                NaN     01222225092  \n",
        "2365          18 Ibn Bassam st, nouzha Apt 4 Heliopolis   +201222152653  \n",
        "2366          share11 st. from wahib dos Villa 21 Cairo     01002106858  \n",
        "2367                                                NaN     01111222091  \n",
        "2368           Apartment 23 47 canal street Maadi Cairo     01000079716  \n",
        "2369                                                NaN     01144406375  \n",
        "\n",
        "[2370 rows x 7 columns]"
       ]
      }
     ],
     "prompt_number": 14
    },
    {
     "cell_type": "code",
     "collapsed": false,
     "input": [],
     "language": "python",
     "metadata": {},
     "outputs": []
    }
   ],
   "metadata": {}
  }
 ]
}
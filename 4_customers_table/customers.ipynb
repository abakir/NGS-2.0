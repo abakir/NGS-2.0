{
 "metadata": {
  "name": "",
  "signature": "sha256:8b4fc681b01a230fedb49b012e3f595c4b2d1125a80cbe239f84fbcbed16ed94"
 },
 "nbformat": 3,
 "nbformat_minor": 0,
 "worksheets": [
  {
   "cells": [
    {
     "cell_type": "code",
     "collapsed": false,
     "input": [
      "import pandas as pd\n",
      "#import yaml\n",
      "\n",
      "#with open(\"config.yaml\", 'r') as ymlfile:\n",
      "#        cfg = yaml.load(ymlfile)\n",
      "\n",
      "#df = pd.read_csv(cfg['root']+cfg['dir_customers_table']+cfg['io_info_segments_2'])\n",
      "df = pd.read_csv(\"C:\\Users\\saisree849\\Documents\\GitHub\\NGS-2.0\\\\12_dashboard_tables\\\\4_customers_table\\\\info_segments_2.csv\")\n",
      "df"
     ],
     "language": "python",
     "metadata": {},
     "outputs": [
      {
       "html": [
        "<div style=\"max-height:1000px;max-width:1500px;overflow:auto;\">\n",
        "<table border=\"1\" class=\"dataframe\">\n",
        "  <thead>\n",
        "    <tr style=\"text-align: right;\">\n",
        "      <th></th>\n",
        "      <th>Name</th>\n",
        "      <th>Revenue</th>\n",
        "      <th>Basket Value</th>\n",
        "      <th>Segment</th>\n",
        "      <th>Email</th>\n",
        "      <th>Address</th>\n",
        "      <th>Phone</th>\n",
        "    </tr>\n",
        "  </thead>\n",
        "  <tbody>\n",
        "    <tr>\n",
        "      <th>0   </th>\n",
        "      <td>     Magdalena Kallenberger</td>\n",
        "      <td>   267.17</td>\n",
        "      <td> 267.170000</td>\n",
        "      <td> Fresh Beef &amp; Poultry</td>\n",
        "      <td>             11435mail@mkallenberger.de</td>\n",
        "      <td>                                               NaN</td>\n",
        "      <td>    01090904137</td>\n",
        "    </tr>\n",
        "    <tr>\n",
        "      <th>1   </th>\n",
        "      <td>               Adham Hamada</td>\n",
        "      <td>    61.20</td>\n",
        "      <td>  61.200000</td>\n",
        "      <td> Fresh Beef &amp; Poultry</td>\n",
        "      <td>                   Adhamada@hotmail.com</td>\n",
        "      <td> 5 eskandar el Akbar st. Heliopolis First floor...</td>\n",
        "      <td>    01223221581</td>\n",
        "    </tr>\n",
        "    <tr>\n",
        "      <th>2   </th>\n",
        "      <td>           Fadia Elsenoussi</td>\n",
        "      <td>  1068.43</td>\n",
        "      <td> 356.143333</td>\n",
        "      <td> Fresh Beef &amp; Poultry</td>\n",
        "      <td>              Fadiaelsenoussi@gmail.com</td>\n",
        "      <td>                                               NaN</td>\n",
        "      <td>            NaN</td>\n",
        "    </tr>\n",
        "    <tr>\n",
        "      <th>3   </th>\n",
        "      <td>           Nadine  Chalfoun</td>\n",
        "      <td>   263.39</td>\n",
        "      <td> 263.390000</td>\n",
        "      <td> Fresh Beef &amp; Poultry</td>\n",
        "      <td>                     Nadochal@yahoo.com</td>\n",
        "      <td>                                               NaN</td>\n",
        "      <td>    01223137478</td>\n",
        "    </tr>\n",
        "    <tr>\n",
        "      <th>4   </th>\n",
        "      <td>              Sami Kissouni</td>\n",
        "      <td>   769.26</td>\n",
        "      <td> 769.260000</td>\n",
        "      <td> Fresh Beef &amp; Poultry</td>\n",
        "      <td>                Samikaissouni@gmail.com</td>\n",
        "      <td> 603 west golf,katamia,new cairo go right besid...</td>\n",
        "      <td>    01002141390</td>\n",
        "    </tr>\n",
        "    <tr>\n",
        "      <th>5   </th>\n",
        "      <td>               Karima Kamel</td>\n",
        "      <td>   406.27</td>\n",
        "      <td> 406.270000</td>\n",
        "      <td> Fresh Beef &amp; Poultry</td>\n",
        "      <td>               Yara-Ayman88@hotmail.com</td>\n",
        "      <td>                                               NaN</td>\n",
        "      <td>    01066865829</td>\n",
        "    </tr>\n",
        "    <tr>\n",
        "      <th>6   </th>\n",
        "      <td>                mona  sabry</td>\n",
        "      <td>   311.43</td>\n",
        "      <td> 311.430000</td>\n",
        "      <td> Fresh Beef &amp; Poultry</td>\n",
        "      <td>                 abousense2@hotmail.com</td>\n",
        "      <td> 4 st farok amer floor 5 apartment 9 off mustaf...</td>\n",
        "      <td>    01224437473</td>\n",
        "    </tr>\n",
        "    <tr>\n",
        "      <th>7   </th>\n",
        "      <td>                Amira Morsi</td>\n",
        "      <td>  1084.43</td>\n",
        "      <td> 216.886000</td>\n",
        "      <td> Fresh Beef &amp; Poultry</td>\n",
        "      <td>                amira2amira@hotmail.com</td>\n",
        "      <td>                                               NaN</td>\n",
        "      <td>    01006066179</td>\n",
        "    </tr>\n",
        "    <tr>\n",
        "      <th>8   </th>\n",
        "      <td>             Ashraf Gadalla</td>\n",
        "      <td>   565.14</td>\n",
        "      <td> 565.140000</td>\n",
        "      <td> Fresh Beef &amp; Poultry</td>\n",
        "      <td>              ashrafgadalla@hotmail.com</td>\n",
        "      <td>               34 nasoo7 st floor 9, flat 17 cairo</td>\n",
        "      <td>    01222850061</td>\n",
        "    </tr>\n",
        "    <tr>\n",
        "      <th>9   </th>\n",
        "      <td>              Ahmed Ibrahim</td>\n",
        "      <td>  6967.52</td>\n",
        "      <td> 331.786667</td>\n",
        "      <td> Fresh Beef &amp; Poultry</td>\n",
        "      <td>                      asony11@yahoo.com</td>\n",
        "      <td> 20 Mohamed Ali Elbakli from Elhegaz street nea...</td>\n",
        "      <td>    01152033889</td>\n",
        "    </tr>\n",
        "    <tr>\n",
        "      <th>10  </th>\n",
        "      <td>                  Ayman Auf</td>\n",
        "      <td>   590.78</td>\n",
        "      <td> 590.780000</td>\n",
        "      <td> Fresh Beef &amp; Poultry</td>\n",
        "      <td>                   aymanauf@abu-auf.com</td>\n",
        "      <td> villa 97 katamia hights  eltagamoa el kames  c...</td>\n",
        "      <td>    01005220020</td>\n",
        "    </tr>\n",
        "    <tr>\n",
        "      <th>11  </th>\n",
        "      <td>            amina elzohairy</td>\n",
        "      <td>   322.50</td>\n",
        "      <td> 322.500000</td>\n",
        "      <td> Fresh Beef &amp; Poultry</td>\n",
        "      <td>            baskettagifts@hotmail.co.uk</td>\n",
        "      <td>                                               NaN</td>\n",
        "      <td>    01222258228</td>\n",
        "    </tr>\n",
        "    <tr>\n",
        "      <th>12  </th>\n",
        "      <td>               bassant alaa</td>\n",
        "      <td>   438.22</td>\n",
        "      <td> 438.220000</td>\n",
        "      <td> Fresh Beef &amp; Poultry</td>\n",
        "      <td>              bassantalaa87@hotmail.com</td>\n",
        "      <td> 33 ahmed abd elazez st. mohandssen  flooer 2 a...</td>\n",
        "      <td>    01098688882</td>\n",
        "    </tr>\n",
        "    <tr>\n",
        "      <th>13  </th>\n",
        "      <td>                 Dina Selim</td>\n",
        "      <td>   612.96</td>\n",
        "      <td> 204.320000</td>\n",
        "      <td> Fresh Beef &amp; Poultry</td>\n",
        "      <td>                 deenaselim@hotmail.com</td>\n",
        "      <td> 21 Adan street, off Shehab street Floor 6, Apa...</td>\n",
        "      <td>    01001150138</td>\n",
        "    </tr>\n",
        "    <tr>\n",
        "      <th>14  </th>\n",
        "      <td>               Daniel Cowan</td>\n",
        "      <td>   544.42</td>\n",
        "      <td> 544.420000</td>\n",
        "      <td> Fresh Beef &amp; Poultry</td>\n",
        "      <td>                    dicowan@hotmail.com</td>\n",
        "      <td> Apartment 4 3rd floor first door, Villa 204 Ro...</td>\n",
        "      <td>    01274335519</td>\n",
        "    </tr>\n",
        "    <tr>\n",
        "      <th>15  </th>\n",
        "      <td>                 Dina Moheb</td>\n",
        "      <td>   179.65</td>\n",
        "      <td> 179.650000</td>\n",
        "      <td> Fresh Beef &amp; Poultry</td>\n",
        "      <td>                    dinamf@aucegypt.edu</td>\n",
        "      <td>                                               NaN</td>\n",
        "      <td>    01223315939</td>\n",
        "    </tr>\n",
        "    <tr>\n",
        "      <th>16  </th>\n",
        "      <td> djamila benderbous Kafoufi</td>\n",
        "      <td> 15930.15</td>\n",
        "      <td> 497.817187</td>\n",
        "      <td> Fresh Beef &amp; Poultry</td>\n",
        "      <td>           djamila.benderbous@gmail.com</td>\n",
        "      <td> El Gazira Street, Smart Life Compound,Tagamo3 ...</td>\n",
        "      <td>    01229918886</td>\n",
        "    </tr>\n",
        "    <tr>\n",
        "      <th>17  </th>\n",
        "      <td>               Dalia Hashem</td>\n",
        "      <td>   599.85</td>\n",
        "      <td> 149.962500</td>\n",
        "      <td> Fresh Beef &amp; Poultry</td>\n",
        "      <td>                     dollydou@yahoo.com</td>\n",
        "      <td>                                               NaN</td>\n",
        "      <td>    01001809011</td>\n",
        "    </tr>\n",
        "    <tr>\n",
        "      <th>18  </th>\n",
        "      <td>                heba  eissa</td>\n",
        "      <td>   365.73</td>\n",
        "      <td> 182.865000</td>\n",
        "      <td> Fresh Beef &amp; Poultry</td>\n",
        "      <td>                 eissa.heba@hotmail.com</td>\n",
        "      <td>            49 green heights  6th of October Cairo</td>\n",
        "      <td>    01005697777</td>\n",
        "    </tr>\n",
        "    <tr>\n",
        "      <th>19  </th>\n",
        "      <td>               Faheem Undre</td>\n",
        "      <td>   412.75</td>\n",
        "      <td> 412.750000</td>\n",
        "      <td> Fresh Beef &amp; Poultry</td>\n",
        "      <td>                     fundre@hotmail.com</td>\n",
        "      <td>             group 95, building 7 flat 54 al rehab</td>\n",
        "      <td>    01091457427</td>\n",
        "    </tr>\n",
        "    <tr>\n",
        "      <th>20  </th>\n",
        "      <td>                Gehan Basta</td>\n",
        "      <td>   379.20</td>\n",
        "      <td> 379.200000</td>\n",
        "      <td> Fresh Beef &amp; Poultry</td>\n",
        "      <td>                    gtbasta@hotmail.com</td>\n",
        "      <td>                                               NaN</td>\n",
        "      <td>    01222185502</td>\n",
        "    </tr>\n",
        "    <tr>\n",
        "      <th>21  </th>\n",
        "      <td>              Hala  Youssef</td>\n",
        "      <td>    86.12</td>\n",
        "      <td>  86.120000</td>\n",
        "      <td> Fresh Beef &amp; Poultry</td>\n",
        "      <td>                halayoussef@hotmail.com</td>\n",
        "      <td> 19 mohamed youssif el kady, koleyet el banat r...</td>\n",
        "      <td>    01005771586</td>\n",
        "    </tr>\n",
        "    <tr>\n",
        "      <th>22  </th>\n",
        "      <td>                  heba mhmd</td>\n",
        "      <td>   853.90</td>\n",
        "      <td> 426.950000</td>\n",
        "      <td> Fresh Beef &amp; Poultry</td>\n",
        "      <td>              heba_bibo2001@hotmail.com</td>\n",
        "      <td>                                               NaN</td>\n",
        "      <td>            NaN</td>\n",
        "    </tr>\n",
        "    <tr>\n",
        "      <th>23  </th>\n",
        "      <td>                Hoda Radwan</td>\n",
        "      <td>   812.00</td>\n",
        "      <td> 812.000000</td>\n",
        "      <td> Fresh Beef &amp; Poultry</td>\n",
        "      <td>                hoda.radwan@nielsen.com</td>\n",
        "      <td> 280A Palm Hills. 6th of October. 4th Phase - Y...</td>\n",
        "      <td>    01223956550</td>\n",
        "    </tr>\n",
        "    <tr>\n",
        "      <th>24  </th>\n",
        "      <td>                Silvia Vila</td>\n",
        "      <td>    78.00</td>\n",
        "      <td>  78.000000</td>\n",
        "      <td> Fresh Beef &amp; Poultry</td>\n",
        "      <td>                  hossamfan@hotmail.com</td>\n",
        "      <td>                                               NaN</td>\n",
        "      <td>            NaN</td>\n",
        "    </tr>\n",
        "    <tr>\n",
        "      <th>25  </th>\n",
        "      <td>            Iman El begermy</td>\n",
        "      <td>   297.32</td>\n",
        "      <td> 148.660000</td>\n",
        "      <td> Fresh Beef &amp; Poultry</td>\n",
        "      <td>                imanelbegermy@yahoo.com</td>\n",
        "      <td>                                               NaN</td>\n",
        "      <td>    01222170441</td>\n",
        "    </tr>\n",
        "    <tr>\n",
        "      <th>26  </th>\n",
        "      <td>                  Jane wick</td>\n",
        "      <td>   670.31</td>\n",
        "      <td> 335.155000</td>\n",
        "      <td> Fresh Beef &amp; Poultry</td>\n",
        "      <td>                         jane@eshco.net</td>\n",
        "      <td> 8, khaled ibn l walid, masaken sheraton fllor ...</td>\n",
        "      <td>    01211114396</td>\n",
        "    </tr>\n",
        "    <tr>\n",
        "      <th>27  </th>\n",
        "      <td>        christine   girguis</td>\n",
        "      <td>  4443.37</td>\n",
        "      <td> 143.334516</td>\n",
        "      <td> Fresh Beef &amp; Poultry</td>\n",
        "      <td>                       krisyg@gmail.com</td>\n",
        "      <td> 3 abdlmonaem hafez st.off elnozha st. Heliopol...</td>\n",
        "      <td>    01221111032</td>\n",
        "    </tr>\n",
        "    <tr>\n",
        "      <th>28  </th>\n",
        "      <td>            Lesley Forsythe</td>\n",
        "      <td>  1363.57</td>\n",
        "      <td> 340.892500</td>\n",
        "      <td> Fresh Beef &amp; Poultry</td>\n",
        "      <td>             lesleyforsythe@hotmail.com</td>\n",
        "      <td> Apartment 61, Building 7, Group 23 Madinaty Cairo</td>\n",
        "      <td>    01146855637</td>\n",
        "    </tr>\n",
        "    <tr>\n",
        "      <th>29  </th>\n",
        "      <td>              Iman Matbouli</td>\n",
        "      <td>   377.40</td>\n",
        "      <td> 377.400000</td>\n",
        "      <td> Fresh Beef &amp; Poultry</td>\n",
        "      <td>                   manno505@hotmail.com</td>\n",
        "      <td> 13 seliman abd el aziz selim st, floor 3, Flat...</td>\n",
        "      <td>   012224559490</td>\n",
        "    </tr>\n",
        "    <tr>\n",
        "      <th>...</th>\n",
        "      <td>...</td>\n",
        "      <td>...</td>\n",
        "      <td>...</td>\n",
        "      <td>...</td>\n",
        "      <td>...</td>\n",
        "      <td>...</td>\n",
        "      <td>...</td>\n",
        "    </tr>\n",
        "    <tr>\n",
        "      <th>2304</th>\n",
        "      <td>                Hala Mekawy</td>\n",
        "      <td>    16.00</td>\n",
        "      <td>  16.000000</td>\n",
        "      <td>                  NaN</td>\n",
        "      <td>                  halamekkawy@yahoo.com</td>\n",
        "      <td> 7 omar ebn elkhattab*from 263 st*new maadi*on ...</td>\n",
        "      <td>    01001623398</td>\n",
        "    </tr>\n",
        "    <tr>\n",
        "      <th>2305</th>\n",
        "      <td>              ashraf abdeen</td>\n",
        "      <td>   177.00</td>\n",
        "      <td> 177.000000</td>\n",
        "      <td>                  NaN</td>\n",
        "      <td>                     abdeen20@gmail.com</td>\n",
        "      <td>                                               NaN</td>\n",
        "      <td>    01006098777</td>\n",
        "    </tr>\n",
        "    <tr>\n",
        "      <th>2306</th>\n",
        "      <td>                 Amr Shokry</td>\n",
        "      <td>   144.00</td>\n",
        "      <td> 144.000000</td>\n",
        "      <td>                  NaN</td>\n",
        "      <td>                    e.khairy5@gmail.com</td>\n",
        "      <td> 13 ezat salama st. from abas el akad st.beside...</td>\n",
        "      <td>    01227716679</td>\n",
        "    </tr>\n",
        "    <tr>\n",
        "      <th>2307</th>\n",
        "      <td>             Nermin Mohamed</td>\n",
        "      <td>   286.50</td>\n",
        "      <td> 286.500000</td>\n",
        "      <td>                  NaN</td>\n",
        "      <td>              rosy_cheek_86@hotmail.com</td>\n",
        "      <td>  \u062a\u0642\u0627\u0637\u0639 \u0634\u0627\u0631\u0639 \u0627\u0644\u062d\u0644\u0648 \u0645\u0639 \u0627\u0644\u0641\u0627\u0644\u0648\u062c\u0627 \u0639\u0645\u0627\u0631\u0629 \u0647\u0627\u064a\u0628\u0631 \u0627\u0648\u0644\u0627...</td>\n",
        "      <td>    01212489643</td>\n",
        "    </tr>\n",
        "    <tr>\n",
        "      <th>2308</th>\n",
        "      <td>                Rola Moemen</td>\n",
        "      <td>   100.00</td>\n",
        "      <td> 100.000000</td>\n",
        "      <td>                  NaN</td>\n",
        "      <td>                   rola.magdy@gmail.com</td>\n",
        "      <td> 45 el madina el monawara street, mohandiseen 4...</td>\n",
        "      <td> 00201274009995</td>\n",
        "    </tr>\n",
        "    <tr>\n",
        "      <th>2309</th>\n",
        "      <td>         Maie  El Nomrossy </td>\n",
        "      <td>  2915.20</td>\n",
        "      <td> 323.911111</td>\n",
        "      <td>                  NaN</td>\n",
        "      <td>                maie.nomrossy@gmail.com</td>\n",
        "      <td>                  110 el marghany street 24 cairo </td>\n",
        "      <td>    01222134021</td>\n",
        "    </tr>\n",
        "    <tr>\n",
        "      <th>2310</th>\n",
        "      <td>               Amina Shafik</td>\n",
        "      <td>    45.00</td>\n",
        "      <td>  45.000000</td>\n",
        "      <td>                  NaN</td>\n",
        "      <td>                aminashafik25@gmail.com</td>\n",
        "      <td>  takseem elaselky madina mnwara st. maady elma...</td>\n",
        "      <td>    01003838702</td>\n",
        "    </tr>\n",
        "    <tr>\n",
        "      <th>2311</th>\n",
        "      <td>                Hans  Dirix</td>\n",
        "      <td>   180.00</td>\n",
        "      <td> 180.000000</td>\n",
        "      <td>                  NaN</td>\n",
        "      <td>                   hans.dirix@gmail.com</td>\n",
        "      <td>                          Elgouna Elgouna Hurghada</td>\n",
        "      <td>    01270687640</td>\n",
        "    </tr>\n",
        "    <tr>\n",
        "      <th>2312</th>\n",
        "      <td>            Mostafa Mahmoud</td>\n",
        "      <td>   174.00</td>\n",
        "      <td>  87.000000</td>\n",
        "      <td>                  NaN</td>\n",
        "      <td>                 moustafam692@gmail.com</td>\n",
        "      <td>                                               NaN</td>\n",
        "      <td>    01013301511</td>\n",
        "    </tr>\n",
        "    <tr>\n",
        "      <th>2313</th>\n",
        "      <td>                  Maha Nagy</td>\n",
        "      <td>    80.00</td>\n",
        "      <td>  80.000000</td>\n",
        "      <td>                  NaN</td>\n",
        "      <td>                     mahanagy@gmail.com</td>\n",
        "      <td> 24 Road, 200, Digla, Maadi apt.21, 2nd floor C...</td>\n",
        "      <td>  +201005857070</td>\n",
        "    </tr>\n",
        "    <tr>\n",
        "      <th>2314</th>\n",
        "      <td>               Maha Hussein</td>\n",
        "      <td>  1066.00</td>\n",
        "      <td> 355.333333</td>\n",
        "      <td>                  NaN</td>\n",
        "      <td>                 hussein.maha@gmail.com</td>\n",
        "      <td>            26 Boulus Hanna Street, Dokky 23 Cairo</td>\n",
        "      <td>    01223107827</td>\n",
        "    </tr>\n",
        "    <tr>\n",
        "      <th>2315</th>\n",
        "      <td>         Charlotte Longmuir</td>\n",
        "      <td>   300.00</td>\n",
        "      <td> 300.000000</td>\n",
        "      <td>                  NaN</td>\n",
        "      <td>                chalongmuir@yahoo.co.uk</td>\n",
        "      <td>                                               NaN</td>\n",
        "      <td>    01227654998</td>\n",
        "    </tr>\n",
        "    <tr>\n",
        "      <th>2316</th>\n",
        "      <td>             Sarah Alshanti</td>\n",
        "      <td>   300.00</td>\n",
        "      <td> 300.000000</td>\n",
        "      <td>                  NaN</td>\n",
        "      <td>                       soshanti@aol.com</td>\n",
        "      <td>               23 katamya plaza 3rd floor 33 Cairo</td>\n",
        "      <td>    01000603100</td>\n",
        "    </tr>\n",
        "    <tr>\n",
        "      <th>2317</th>\n",
        "      <td>              Tatiana Fouda</td>\n",
        "      <td>   618.00</td>\n",
        "      <td> 206.000000</td>\n",
        "      <td>                  NaN</td>\n",
        "      <td>                       tfoda3@yahoo.com</td>\n",
        "      <td>                                               NaN</td>\n",
        "      <td>    01221080261</td>\n",
        "    </tr>\n",
        "    <tr>\n",
        "      <th>2318</th>\n",
        "      <td>            Sherine   Galal</td>\n",
        "      <td>   631.00</td>\n",
        "      <td> 210.333333</td>\n",
        "      <td>                  NaN</td>\n",
        "      <td>                sherine.galal@yahoo.com</td>\n",
        "      <td> 8/12 El Togary street, zahraa el maadi (villa)...</td>\n",
        "      <td>    01001445127</td>\n",
        "    </tr>\n",
        "    <tr>\n",
        "      <th>2319</th>\n",
        "      <td>           Assmaa Almaairgy</td>\n",
        "      <td>   245.00</td>\n",
        "      <td> 245.000000</td>\n",
        "      <td>                  NaN</td>\n",
        "      <td>                samalmaairgy_8@live.com</td>\n",
        "      <td> 91 Gesr El suez St,Heliopolis 7th floor ,apt 7...</td>\n",
        "      <td>    01273187632</td>\n",
        "    </tr>\n",
        "    <tr>\n",
        "      <th>2320</th>\n",
        "      <td>             Mourad Mohamed</td>\n",
        "      <td>   174.00</td>\n",
        "      <td> 174.000000</td>\n",
        "      <td>                  NaN</td>\n",
        "      <td>     mourad_mohamed@rayarestaurants.com</td>\n",
        "      <td>                                               NaN</td>\n",
        "      <td>    01005809345</td>\n",
        "    </tr>\n",
        "    <tr>\n",
        "      <th>2321</th>\n",
        "      <td>         Ahmed Abdel Rahman</td>\n",
        "      <td>    68.00</td>\n",
        "      <td>  68.000000</td>\n",
        "      <td>                  NaN</td>\n",
        "      <td>                    yousrayam@yahoo.com</td>\n",
        "      <td> 5 Mohamed Zaghloul from Mohamed ghoneim street...</td>\n",
        "      <td>    01222145015</td>\n",
        "    </tr>\n",
        "    <tr>\n",
        "      <th>2322</th>\n",
        "      <td>                Sahar Saleh</td>\n",
        "      <td>  1254.73</td>\n",
        "      <td> 250.946000</td>\n",
        "      <td>                  NaN</td>\n",
        "      <td> anass.elwogoud.importnexport@gmail.com</td>\n",
        "      <td>                                               NaN</td>\n",
        "      <td>    01116757467</td>\n",
        "    </tr>\n",
        "    <tr>\n",
        "      <th>2323</th>\n",
        "      <td>                 Hoda Hosny</td>\n",
        "      <td>   142.00</td>\n",
        "      <td> 142.000000</td>\n",
        "      <td>                  NaN</td>\n",
        "      <td>                      hodzyta@gmail.com</td>\n",
        "      <td>       16 rd 262, bldg 16 a new maadi apt 1  Cairo</td>\n",
        "      <td>    01003400660</td>\n",
        "    </tr>\n",
        "    <tr>\n",
        "      <th>2324</th>\n",
        "      <td>              Wafa  Zemouli</td>\n",
        "      <td>    98.00</td>\n",
        "      <td>  98.000000</td>\n",
        "      <td>                  NaN</td>\n",
        "      <td>                   wzemouli@hotmail.com</td>\n",
        "      <td> New Cairo - tagalo3 5  Are 6 - street 1 - vill...</td>\n",
        "      <td>    01119233335</td>\n",
        "    </tr>\n",
        "    <tr>\n",
        "      <th>2325</th>\n",
        "      <td>               amal ibrahim</td>\n",
        "      <td>   116.75</td>\n",
        "      <td> 116.750000</td>\n",
        "      <td>                  NaN</td>\n",
        "      <td>            amalibrahimsaad@hotmail.com</td>\n",
        "      <td> cairo 66 corneish el nile borg zahraa el maadi...</td>\n",
        "      <td>    01286940687</td>\n",
        "    </tr>\n",
        "    <tr>\n",
        "      <th>2326</th>\n",
        "      <td>          Branka Filipovich</td>\n",
        "      <td>   162.00</td>\n",
        "      <td>  81.000000</td>\n",
        "      <td>                  NaN</td>\n",
        "      <td>              brankafilipovic@yahoo.com</td>\n",
        "      <td>                                               NaN</td>\n",
        "      <td>    01277005889</td>\n",
        "    </tr>\n",
        "    <tr>\n",
        "      <th>2327</th>\n",
        "      <td>                Ahmed Tarek</td>\n",
        "      <td>    48.00</td>\n",
        "      <td>  48.000000</td>\n",
        "      <td>                  NaN</td>\n",
        "      <td>                    a.tarek87@gmail.com</td>\n",
        "      <td>                                               NaN</td>\n",
        "      <td>  +201006444655</td>\n",
        "    </tr>\n",
        "    <tr>\n",
        "      <th>2328</th>\n",
        "      <td>           Hoda Abdel shafi</td>\n",
        "      <td>   212.00</td>\n",
        "      <td> 212.000000</td>\n",
        "      <td>                  NaN</td>\n",
        "      <td>               hodaraafat1980@gmail.com</td>\n",
        "      <td>                                               NaN</td>\n",
        "      <td>    01222225092</td>\n",
        "    </tr>\n",
        "    <tr>\n",
        "      <th>2329</th>\n",
        "      <td>        Riham El Batanouny </td>\n",
        "      <td>   120.00</td>\n",
        "      <td> 120.000000</td>\n",
        "      <td>                  NaN</td>\n",
        "      <td>                 relbatanouny@yahoo.com</td>\n",
        "      <td>         18 Ibn Bassam st, nouzha Apt 4 Heliopolis</td>\n",
        "      <td>  +201222152653</td>\n",
        "    </tr>\n",
        "    <tr>\n",
        "      <th>2330</th>\n",
        "      <td>                Rawya Karim</td>\n",
        "      <td>   371.00</td>\n",
        "      <td> 371.000000</td>\n",
        "      <td>                  NaN</td>\n",
        "      <td>                 rawyakarim@hotmail.com</td>\n",
        "      <td>         share11 st. from wahib dos Villa 21 Cairo</td>\n",
        "      <td>    01002106858</td>\n",
        "    </tr>\n",
        "    <tr>\n",
        "      <th>2331</th>\n",
        "      <td>                Reham Ezzat</td>\n",
        "      <td>   138.75</td>\n",
        "      <td> 138.750000</td>\n",
        "      <td>                  NaN</td>\n",
        "      <td>    flying_without_wingso2o@hotmail.com</td>\n",
        "      <td>                                               NaN</td>\n",
        "      <td>    01111222091</td>\n",
        "    </tr>\n",
        "    <tr>\n",
        "      <th>2332</th>\n",
        "      <td>      Subscriber Newsletter</td>\n",
        "      <td>  1915.07</td>\n",
        "      <td> 638.356667</td>\n",
        "      <td>                  NaN</td>\n",
        "      <td>     crobertson@melroseresources-eg.com</td>\n",
        "      <td>          Apartment 23 47 canal street Maadi Cairo</td>\n",
        "      <td>    01000079716</td>\n",
        "    </tr>\n",
        "    <tr>\n",
        "      <th>2333</th>\n",
        "      <td>              Omaima Korraa</td>\n",
        "      <td>   260.18</td>\n",
        "      <td> 260.180000</td>\n",
        "      <td>                  NaN</td>\n",
        "      <td> secretary.management@odeontours.com.eg</td>\n",
        "      <td>                                               NaN</td>\n",
        "      <td>    01144406375</td>\n",
        "    </tr>\n",
        "  </tbody>\n",
        "</table>\n",
        "<p>2334 rows \u00d7 7 columns</p>\n",
        "</div>"
       ],
       "metadata": {},
       "output_type": "pyout",
       "prompt_number": 1,
       "text": [
        "                            Name   Revenue  Basket Value  \\\n",
        "0         Magdalena Kallenberger    267.17    267.170000   \n",
        "1                   Adham Hamada     61.20     61.200000   \n",
        "2               Fadia Elsenoussi   1068.43    356.143333   \n",
        "3               Nadine  Chalfoun    263.39    263.390000   \n",
        "4                  Sami Kissouni    769.26    769.260000   \n",
        "5                   Karima Kamel    406.27    406.270000   \n",
        "6                    mona  sabry    311.43    311.430000   \n",
        "7                    Amira Morsi   1084.43    216.886000   \n",
        "8                 Ashraf Gadalla    565.14    565.140000   \n",
        "9                  Ahmed Ibrahim   6967.52    331.786667   \n",
        "10                     Ayman Auf    590.78    590.780000   \n",
        "11               amina elzohairy    322.50    322.500000   \n",
        "12                  bassant alaa    438.22    438.220000   \n",
        "13                    Dina Selim    612.96    204.320000   \n",
        "14                  Daniel Cowan    544.42    544.420000   \n",
        "15                    Dina Moheb    179.65    179.650000   \n",
        "16    djamila benderbous Kafoufi  15930.15    497.817187   \n",
        "17                  Dalia Hashem    599.85    149.962500   \n",
        "18                   heba  eissa    365.73    182.865000   \n",
        "19                  Faheem Undre    412.75    412.750000   \n",
        "20                   Gehan Basta    379.20    379.200000   \n",
        "21                 Hala  Youssef     86.12     86.120000   \n",
        "22                     heba mhmd    853.90    426.950000   \n",
        "23                   Hoda Radwan    812.00    812.000000   \n",
        "24                   Silvia Vila     78.00     78.000000   \n",
        "25               Iman El begermy    297.32    148.660000   \n",
        "26                     Jane wick    670.31    335.155000   \n",
        "27           christine   girguis   4443.37    143.334516   \n",
        "28               Lesley Forsythe   1363.57    340.892500   \n",
        "29                 Iman Matbouli    377.40    377.400000   \n",
        "...                          ...       ...           ...   \n",
        "2304                 Hala Mekawy     16.00     16.000000   \n",
        "2305               ashraf abdeen    177.00    177.000000   \n",
        "2306                  Amr Shokry    144.00    144.000000   \n",
        "2307              Nermin Mohamed    286.50    286.500000   \n",
        "2308                 Rola Moemen    100.00    100.000000   \n",
        "2309          Maie  El Nomrossy    2915.20    323.911111   \n",
        "2310                Amina Shafik     45.00     45.000000   \n",
        "2311                 Hans  Dirix    180.00    180.000000   \n",
        "2312             Mostafa Mahmoud    174.00     87.000000   \n",
        "2313                   Maha Nagy     80.00     80.000000   \n",
        "2314                Maha Hussein   1066.00    355.333333   \n",
        "2315          Charlotte Longmuir    300.00    300.000000   \n",
        "2316              Sarah Alshanti    300.00    300.000000   \n",
        "2317               Tatiana Fouda    618.00    206.000000   \n",
        "2318             Sherine   Galal    631.00    210.333333   \n",
        "2319            Assmaa Almaairgy    245.00    245.000000   \n",
        "2320              Mourad Mohamed    174.00    174.000000   \n",
        "2321          Ahmed Abdel Rahman     68.00     68.000000   \n",
        "2322                 Sahar Saleh   1254.73    250.946000   \n",
        "2323                  Hoda Hosny    142.00    142.000000   \n",
        "2324               Wafa  Zemouli     98.00     98.000000   \n",
        "2325                amal ibrahim    116.75    116.750000   \n",
        "2326           Branka Filipovich    162.00     81.000000   \n",
        "2327                 Ahmed Tarek     48.00     48.000000   \n",
        "2328            Hoda Abdel shafi    212.00    212.000000   \n",
        "2329         Riham El Batanouny     120.00    120.000000   \n",
        "2330                 Rawya Karim    371.00    371.000000   \n",
        "2331                 Reham Ezzat    138.75    138.750000   \n",
        "2332       Subscriber Newsletter   1915.07    638.356667   \n",
        "2333               Omaima Korraa    260.18    260.180000   \n",
        "\n",
        "                   Segment                                   Email  \\\n",
        "0     Fresh Beef & Poultry              11435mail@mkallenberger.de   \n",
        "1     Fresh Beef & Poultry                    Adhamada@hotmail.com   \n",
        "2     Fresh Beef & Poultry               Fadiaelsenoussi@gmail.com   \n",
        "3     Fresh Beef & Poultry                      Nadochal@yahoo.com   \n",
        "4     Fresh Beef & Poultry                 Samikaissouni@gmail.com   \n",
        "5     Fresh Beef & Poultry                Yara-Ayman88@hotmail.com   \n",
        "6     Fresh Beef & Poultry                  abousense2@hotmail.com   \n",
        "7     Fresh Beef & Poultry                 amira2amira@hotmail.com   \n",
        "8     Fresh Beef & Poultry               ashrafgadalla@hotmail.com   \n",
        "9     Fresh Beef & Poultry                       asony11@yahoo.com   \n",
        "10    Fresh Beef & Poultry                    aymanauf@abu-auf.com   \n",
        "11    Fresh Beef & Poultry             baskettagifts@hotmail.co.uk   \n",
        "12    Fresh Beef & Poultry               bassantalaa87@hotmail.com   \n",
        "13    Fresh Beef & Poultry                  deenaselim@hotmail.com   \n",
        "14    Fresh Beef & Poultry                     dicowan@hotmail.com   \n",
        "15    Fresh Beef & Poultry                     dinamf@aucegypt.edu   \n",
        "16    Fresh Beef & Poultry            djamila.benderbous@gmail.com   \n",
        "17    Fresh Beef & Poultry                      dollydou@yahoo.com   \n",
        "18    Fresh Beef & Poultry                  eissa.heba@hotmail.com   \n",
        "19    Fresh Beef & Poultry                      fundre@hotmail.com   \n",
        "20    Fresh Beef & Poultry                     gtbasta@hotmail.com   \n",
        "21    Fresh Beef & Poultry                 halayoussef@hotmail.com   \n",
        "22    Fresh Beef & Poultry               heba_bibo2001@hotmail.com   \n",
        "23    Fresh Beef & Poultry                 hoda.radwan@nielsen.com   \n",
        "24    Fresh Beef & Poultry                   hossamfan@hotmail.com   \n",
        "25    Fresh Beef & Poultry                 imanelbegermy@yahoo.com   \n",
        "26    Fresh Beef & Poultry                          jane@eshco.net   \n",
        "27    Fresh Beef & Poultry                        krisyg@gmail.com   \n",
        "28    Fresh Beef & Poultry              lesleyforsythe@hotmail.com   \n",
        "29    Fresh Beef & Poultry                    manno505@hotmail.com   \n",
        "...                    ...                                     ...   \n",
        "2304                   NaN                   halamekkawy@yahoo.com   \n",
        "2305                   NaN                      abdeen20@gmail.com   \n",
        "2306                   NaN                     e.khairy5@gmail.com   \n",
        "2307                   NaN               rosy_cheek_86@hotmail.com   \n",
        "2308                   NaN                    rola.magdy@gmail.com   \n",
        "2309                   NaN                 maie.nomrossy@gmail.com   \n",
        "2310                   NaN                 aminashafik25@gmail.com   \n",
        "2311                   NaN                    hans.dirix@gmail.com   \n",
        "2312                   NaN                  moustafam692@gmail.com   \n",
        "2313                   NaN                      mahanagy@gmail.com   \n",
        "2314                   NaN                  hussein.maha@gmail.com   \n",
        "2315                   NaN                 chalongmuir@yahoo.co.uk   \n",
        "2316                   NaN                        soshanti@aol.com   \n",
        "2317                   NaN                        tfoda3@yahoo.com   \n",
        "2318                   NaN                 sherine.galal@yahoo.com   \n",
        "2319                   NaN                 samalmaairgy_8@live.com   \n",
        "2320                   NaN      mourad_mohamed@rayarestaurants.com   \n",
        "2321                   NaN                     yousrayam@yahoo.com   \n",
        "2322                   NaN  anass.elwogoud.importnexport@gmail.com   \n",
        "2323                   NaN                       hodzyta@gmail.com   \n",
        "2324                   NaN                    wzemouli@hotmail.com   \n",
        "2325                   NaN             amalibrahimsaad@hotmail.com   \n",
        "2326                   NaN               brankafilipovic@yahoo.com   \n",
        "2327                   NaN                     a.tarek87@gmail.com   \n",
        "2328                   NaN                hodaraafat1980@gmail.com   \n",
        "2329                   NaN                  relbatanouny@yahoo.com   \n",
        "2330                   NaN                  rawyakarim@hotmail.com   \n",
        "2331                   NaN     flying_without_wingso2o@hotmail.com   \n",
        "2332                   NaN      crobertson@melroseresources-eg.com   \n",
        "2333                   NaN  secretary.management@odeontours.com.eg   \n",
        "\n",
        "                                                Address           Phone  \n",
        "0                                                   NaN     01090904137  \n",
        "1     5 eskandar el Akbar st. Heliopolis First floor...     01223221581  \n",
        "2                                                   NaN             NaN  \n",
        "3                                                   NaN     01223137478  \n",
        "4     603 west golf,katamia,new cairo go right besid...     01002141390  \n",
        "5                                                   NaN     01066865829  \n",
        "6     4 st farok amer floor 5 apartment 9 off mustaf...     01224437473  \n",
        "7                                                   NaN     01006066179  \n",
        "8                   34 nasoo7 st floor 9, flat 17 cairo     01222850061  \n",
        "9     20 Mohamed Ali Elbakli from Elhegaz street nea...     01152033889  \n",
        "10    villa 97 katamia hights  eltagamoa el kames  c...     01005220020  \n",
        "11                                                  NaN     01222258228  \n",
        "12    33 ahmed abd elazez st. mohandssen  flooer 2 a...     01098688882  \n",
        "13    21 Adan street, off Shehab street Floor 6, Apa...     01001150138  \n",
        "14    Apartment 4 3rd floor first door, Villa 204 Ro...     01274335519  \n",
        "15                                                  NaN     01223315939  \n",
        "16    El Gazira Street, Smart Life Compound,Tagamo3 ...     01229918886  \n",
        "17                                                  NaN     01001809011  \n",
        "18               49 green heights  6th of October Cairo     01005697777  \n",
        "19                group 95, building 7 flat 54 al rehab     01091457427  \n",
        "20                                                  NaN     01222185502  \n",
        "21    19 mohamed youssif el kady, koleyet el banat r...     01005771586  \n",
        "22                                                  NaN             NaN  \n",
        "23    280A Palm Hills. 6th of October. 4th Phase - Y...     01223956550  \n",
        "24                                                  NaN             NaN  \n",
        "25                                                  NaN     01222170441  \n",
        "26    8, khaled ibn l walid, masaken sheraton fllor ...     01211114396  \n",
        "27    3 abdlmonaem hafez st.off elnozha st. Heliopol...     01221111032  \n",
        "28    Apartment 61, Building 7, Group 23 Madinaty Cairo     01146855637  \n",
        "29    13 seliman abd el aziz selim st, floor 3, Flat...    012224559490  \n",
        "...                                                 ...             ...  \n",
        "2304  7 omar ebn elkhattab*from 263 st*new maadi*on ...     01001623398  \n",
        "2305                                                NaN     01006098777  \n",
        "2306  13 ezat salama st. from abas el akad st.beside...     01227716679  \n",
        "2307   \u062a\u0642\u0627\u0637\u0639 \u0634\u0627\u0631\u0639 \u0627\u0644\u062d\u0644\u0648 \u0645\u0639 \u0627\u0644\u0641\u0627\u0644\u0648\u062c\u0627 \u0639\u0645\u0627\u0631\u0629 \u0647\u0627\u064a\u0628\u0631 \u0627\u0648\u0644\u0627...     01212489643  \n",
        "2308  45 el madina el monawara street, mohandiseen 4...  00201274009995  \n",
        "2309                   110 el marghany street 24 cairo      01222134021  \n",
        "2310   takseem elaselky madina mnwara st. maady elma...     01003838702  \n",
        "2311                           Elgouna Elgouna Hurghada     01270687640  \n",
        "2312                                                NaN     01013301511  \n",
        "2313  24 Road, 200, Digla, Maadi apt.21, 2nd floor C...   +201005857070  \n",
        "2314             26 Boulus Hanna Street, Dokky 23 Cairo     01223107827  \n",
        "2315                                                NaN     01227654998  \n",
        "2316                23 katamya plaza 3rd floor 33 Cairo     01000603100  \n",
        "2317                                                NaN     01221080261  \n",
        "2318  8/12 El Togary street, zahraa el maadi (villa)...     01001445127  \n",
        "2319  91 Gesr El suez St,Heliopolis 7th floor ,apt 7...     01273187632  \n",
        "2320                                                NaN     01005809345  \n",
        "2321  5 Mohamed Zaghloul from Mohamed ghoneim street...     01222145015  \n",
        "2322                                                NaN     01116757467  \n",
        "2323        16 rd 262, bldg 16 a new maadi apt 1  Cairo     01003400660  \n",
        "2324  New Cairo - tagalo3 5  Are 6 - street 1 - vill...     01119233335  \n",
        "2325  cairo 66 corneish el nile borg zahraa el maadi...     01286940687  \n",
        "2326                                                NaN     01277005889  \n",
        "2327                                                NaN   +201006444655  \n",
        "2328                                                NaN     01222225092  \n",
        "2329          18 Ibn Bassam st, nouzha Apt 4 Heliopolis   +201222152653  \n",
        "2330          share11 st. from wahib dos Villa 21 Cairo     01002106858  \n",
        "2331                                                NaN     01111222091  \n",
        "2332           Apartment 23 47 canal street Maadi Cairo     01000079716  \n",
        "2333                                                NaN     01144406375  \n",
        "\n",
        "[2334 rows x 7 columns]"
       ]
      }
     ],
     "prompt_number": 1
    },
    {
     "cell_type": "code",
     "collapsed": false,
     "input": [
      "#df1 = pd.read_csv(cfg['root']+cfg['dir_customers_table']+cfg['io_latest_order_days_3'])\n",
      "df1 = pd.read_csv(\"C:\\Users\\saisree849\\Documents\\GitHub\\NGS-2.0\\\\12_dashboard_tables\\\\4_customers_table\\\\latest_order_days_3.csv\")\n",
      "df1"
     ],
     "language": "python",
     "metadata": {},
     "outputs": [
      {
       "html": [
        "<div style=\"max-height:1000px;max-width:1500px;overflow:auto;\">\n",
        "<table border=\"1\" class=\"dataframe\">\n",
        "  <thead>\n",
        "    <tr style=\"text-align: right;\">\n",
        "      <th></th>\n",
        "      <th>Email</th>\n",
        "      <th>Days from Last order</th>\n",
        "    </tr>\n",
        "  </thead>\n",
        "  <tbody>\n",
        "    <tr>\n",
        "      <th>0   </th>\n",
        "      <td>        11435mail@mkallenberger.de</td>\n",
        "      <td>  941</td>\n",
        "    </tr>\n",
        "    <tr>\n",
        "      <th>1   </th>\n",
        "      <td>                     1@gargour.com</td>\n",
        "      <td>  260</td>\n",
        "    </tr>\n",
        "    <tr>\n",
        "      <th>2   </th>\n",
        "      <td>                 1kttate@gmail.com</td>\n",
        "      <td>  114</td>\n",
        "    </tr>\n",
        "    <tr>\n",
        "      <th>3   </th>\n",
        "      <td>         1youniqueflower@gmail.com</td>\n",
        "      <td>   23</td>\n",
        "    </tr>\n",
        "    <tr>\n",
        "      <th>4   </th>\n",
        "      <td>                3aliaa.h@gmail.com</td>\n",
        "      <td>  263</td>\n",
        "    </tr>\n",
        "    <tr>\n",
        "      <th>5   </th>\n",
        "      <td>          777nadiateirah@gmail.com</td>\n",
        "      <td>   32</td>\n",
        "    </tr>\n",
        "    <tr>\n",
        "      <th>6   </th>\n",
        "      <td>                         A2@ed.com</td>\n",
        "      <td>  102</td>\n",
        "    </tr>\n",
        "    <tr>\n",
        "      <th>7   </th>\n",
        "      <td>           ASHRAF.M.ZAKI@GMAIL.COM</td>\n",
        "      <td> 1174</td>\n",
        "    </tr>\n",
        "    <tr>\n",
        "      <th>8   </th>\n",
        "      <td>              Adhamada@hotmail.com</td>\n",
        "      <td> 1262</td>\n",
        "    </tr>\n",
        "    <tr>\n",
        "      <th>9   </th>\n",
        "      <td>       Ahmed.Habash@moevenpick.com</td>\n",
        "      <td>  263</td>\n",
        "    </tr>\n",
        "    <tr>\n",
        "      <th>10  </th>\n",
        "      <td> Ahmed.adel.abdelmonam@hotmail.com</td>\n",
        "      <td>  121</td>\n",
        "    </tr>\n",
        "    <tr>\n",
        "      <th>11  </th>\n",
        "      <td>           Aliamossallam@gmail.com</td>\n",
        "      <td>    9</td>\n",
        "    </tr>\n",
        "    <tr>\n",
        "      <th>12  </th>\n",
        "      <td>       Andrea.Heilman@aucegypt.edu</td>\n",
        "      <td>  291</td>\n",
        "    </tr>\n",
        "    <tr>\n",
        "      <th>13  </th>\n",
        "      <td>           Asmaa.ahmed@hotmail.com</td>\n",
        "      <td>   37</td>\n",
        "    </tr>\n",
        "    <tr>\n",
        "      <th>14  </th>\n",
        "      <td>            Attia.nevien@gmail.com</td>\n",
        "      <td>  331</td>\n",
        "    </tr>\n",
        "    <tr>\n",
        "      <th>15  </th>\n",
        "      <td>             Ayatheone@hotmail.com</td>\n",
        "      <td>  139</td>\n",
        "    </tr>\n",
        "    <tr>\n",
        "      <th>16  </th>\n",
        "      <td>             Azzassallam@gmail.com</td>\n",
        "      <td>  307</td>\n",
        "    </tr>\n",
        "    <tr>\n",
        "      <th>17  </th>\n",
        "      <td>                 BAGBOUG@yahoo.com</td>\n",
        "      <td>  285</td>\n",
        "    </tr>\n",
        "    <tr>\n",
        "      <th>18  </th>\n",
        "      <td>                 Bakryna@gmail.com</td>\n",
        "      <td> 1204</td>\n",
        "    </tr>\n",
        "    <tr>\n",
        "      <th>19  </th>\n",
        "      <td>           Basmaha2010@hotmail.com</td>\n",
        "      <td>  249</td>\n",
        "    </tr>\n",
        "    <tr>\n",
        "      <th>20  </th>\n",
        "      <td>                  Bebi84@gmail.com</td>\n",
        "      <td>  976</td>\n",
        "    </tr>\n",
        "    <tr>\n",
        "      <th>21  </th>\n",
        "      <td>                  Biro5s@yahoo.com</td>\n",
        "      <td> 1307</td>\n",
        "    </tr>\n",
        "    <tr>\n",
        "      <th>22  </th>\n",
        "      <td>       Bouchra_erraiss@hotmail.com</td>\n",
        "      <td>  588</td>\n",
        "    </tr>\n",
        "    <tr>\n",
        "      <th>23  </th>\n",
        "      <td>                 Bunny_Chan@web.de</td>\n",
        "      <td>  227</td>\n",
        "    </tr>\n",
        "    <tr>\n",
        "      <th>24  </th>\n",
        "      <td>            Buty_Heart@hotmail.com</td>\n",
        "      <td>  209</td>\n",
        "    </tr>\n",
        "    <tr>\n",
        "      <th>25  </th>\n",
        "      <td>       Camillia.Marmoush@gmail.com</td>\n",
        "      <td>   25</td>\n",
        "    </tr>\n",
        "    <tr>\n",
        "      <th>26  </th>\n",
        "      <td>           Carinesabbagh@gmail.com</td>\n",
        "      <td>  240</td>\n",
        "    </tr>\n",
        "    <tr>\n",
        "      <th>27  </th>\n",
        "      <td>             Christine@baramki.com</td>\n",
        "      <td>  524</td>\n",
        "    </tr>\n",
        "    <tr>\n",
        "      <th>28  </th>\n",
        "      <td>              DINA_KADRY@YAHOO.COM</td>\n",
        "      <td>   52</td>\n",
        "    </tr>\n",
        "    <tr>\n",
        "      <th>29  </th>\n",
        "      <td>       Dina_eldessouky@hotmail.com</td>\n",
        "      <td> 1116</td>\n",
        "    </tr>\n",
        "    <tr>\n",
        "      <th>...</th>\n",
        "      <td>...</td>\n",
        "      <td>...</td>\n",
        "    </tr>\n",
        "    <tr>\n",
        "      <th>2343</th>\n",
        "      <td>              youssefkhalil@me.com</td>\n",
        "      <td>   87</td>\n",
        "    </tr>\n",
        "    <tr>\n",
        "      <th>2344</th>\n",
        "      <td>          youssra.resaie@gmail.com</td>\n",
        "      <td>  526</td>\n",
        "    </tr>\n",
        "    <tr>\n",
        "      <th>2345</th>\n",
        "      <td>                 youssra@gmail.com</td>\n",
        "      <td>  281</td>\n",
        "    </tr>\n",
        "    <tr>\n",
        "      <th>2346</th>\n",
        "      <td>           youssra_kamal@yahoo.com</td>\n",
        "      <td>   22</td>\n",
        "    </tr>\n",
        "    <tr>\n",
        "      <th>2347</th>\n",
        "      <td>         youssraaashmawi@gmail.com</td>\n",
        "      <td>   73</td>\n",
        "    </tr>\n",
        "    <tr>\n",
        "      <th>2348</th>\n",
        "      <td>           yoyothetricky@gmail.com</td>\n",
        "      <td>    8</td>\n",
        "    </tr>\n",
        "    <tr>\n",
        "      <th>2349</th>\n",
        "      <td>               yrelraheb@gmail.com</td>\n",
        "      <td> 1017</td>\n",
        "    </tr>\n",
        "    <tr>\n",
        "      <th>2350</th>\n",
        "      <td>               yulbiba@hotmail.com</td>\n",
        "      <td>    7</td>\n",
        "    </tr>\n",
        "    <tr>\n",
        "      <th>2351</th>\n",
        "      <td>             yumnakassim@gmail.com</td>\n",
        "      <td>  509</td>\n",
        "    </tr>\n",
        "    <tr>\n",
        "      <th>2352</th>\n",
        "      <td>              z72addas@hotmail.com</td>\n",
        "      <td>  345</td>\n",
        "    </tr>\n",
        "    <tr>\n",
        "      <th>2353</th>\n",
        "      <td>             zaki.farida@gmail.com</td>\n",
        "      <td>   60</td>\n",
        "    </tr>\n",
        "    <tr>\n",
        "      <th>2354</th>\n",
        "      <td>               zedesem65@gmail.com</td>\n",
        "      <td>   39</td>\n",
        "    </tr>\n",
        "    <tr>\n",
        "      <th>2355</th>\n",
        "      <td>                 zee.nap@gmail.com</td>\n",
        "      <td>  113</td>\n",
        "    </tr>\n",
        "    <tr>\n",
        "      <th>2356</th>\n",
        "      <td>            zeina.kassas@gmail.com</td>\n",
        "      <td>  190</td>\n",
        "    </tr>\n",
        "    <tr>\n",
        "      <th>2357</th>\n",
        "      <td>         zeina_ahmed95@hotmail.com</td>\n",
        "      <td>  423</td>\n",
        "    </tr>\n",
        "    <tr>\n",
        "      <th>2358</th>\n",
        "      <td>            zeina_naim@hotmail.com</td>\n",
        "      <td>   35</td>\n",
        "    </tr>\n",
        "    <tr>\n",
        "      <th>2359</th>\n",
        "      <td>         zeinabahmedtaha@yahoo.com</td>\n",
        "      <td> 1055</td>\n",
        "    </tr>\n",
        "    <tr>\n",
        "      <th>2360</th>\n",
        "      <td>      zeinabkhalil2010@hotmail.com</td>\n",
        "      <td>  182</td>\n",
        "    </tr>\n",
        "    <tr>\n",
        "      <th>2361</th>\n",
        "      <td>              zeinabnour@gmail.com</td>\n",
        "      <td>  416</td>\n",
        "    </tr>\n",
        "    <tr>\n",
        "      <th>2362</th>\n",
        "      <td>              zeinahodroj@live.com</td>\n",
        "      <td>  276</td>\n",
        "    </tr>\n",
        "    <tr>\n",
        "      <th>2363</th>\n",
        "      <td>              zeinasabry@gmail.com</td>\n",
        "      <td>  574</td>\n",
        "    </tr>\n",
        "    <tr>\n",
        "      <th>2364</th>\n",
        "      <td>               zeinriham@gmail.com</td>\n",
        "      <td>   29</td>\n",
        "    </tr>\n",
        "    <tr>\n",
        "      <th>2365</th>\n",
        "      <td>           zenaabdelbaky@gmail.com</td>\n",
        "      <td>  148</td>\n",
        "    </tr>\n",
        "    <tr>\n",
        "      <th>2366</th>\n",
        "      <td>            zeyadattalla@yahoo.com</td>\n",
        "      <td>  225</td>\n",
        "    </tr>\n",
        "    <tr>\n",
        "      <th>2367</th>\n",
        "      <td>                ziadihab@gmail.com</td>\n",
        "      <td>  247</td>\n",
        "    </tr>\n",
        "    <tr>\n",
        "      <th>2368</th>\n",
        "      <td>               ziadusama@ymail.com</td>\n",
        "      <td>   18</td>\n",
        "    </tr>\n",
        "    <tr>\n",
        "      <th>2369</th>\n",
        "      <td>               zinelhini@yahoo.com</td>\n",
        "      <td>  807</td>\n",
        "    </tr>\n",
        "    <tr>\n",
        "      <th>2370</th>\n",
        "      <td>                zleseman@gmail.com</td>\n",
        "      <td>  976</td>\n",
        "    </tr>\n",
        "    <tr>\n",
        "      <th>2371</th>\n",
        "      <td>           zolaykha1st@hotmail.com</td>\n",
        "      <td>  375</td>\n",
        "    </tr>\n",
        "    <tr>\n",
        "      <th>2372</th>\n",
        "      <td>               zshafei@outlook.com</td>\n",
        "      <td>   20</td>\n",
        "    </tr>\n",
        "  </tbody>\n",
        "</table>\n",
        "<p>2373 rows \u00d7 2 columns</p>\n",
        "</div>"
       ],
       "metadata": {},
       "output_type": "pyout",
       "prompt_number": 2,
       "text": [
        "                                  Email  Days from Last order\n",
        "0            11435mail@mkallenberger.de                   941\n",
        "1                         1@gargour.com                   260\n",
        "2                     1kttate@gmail.com                   114\n",
        "3             1youniqueflower@gmail.com                    23\n",
        "4                    3aliaa.h@gmail.com                   263\n",
        "5              777nadiateirah@gmail.com                    32\n",
        "6                             A2@ed.com                   102\n",
        "7               ASHRAF.M.ZAKI@GMAIL.COM                  1174\n",
        "8                  Adhamada@hotmail.com                  1262\n",
        "9           Ahmed.Habash@moevenpick.com                   263\n",
        "10    Ahmed.adel.abdelmonam@hotmail.com                   121\n",
        "11              Aliamossallam@gmail.com                     9\n",
        "12          Andrea.Heilman@aucegypt.edu                   291\n",
        "13              Asmaa.ahmed@hotmail.com                    37\n",
        "14               Attia.nevien@gmail.com                   331\n",
        "15                Ayatheone@hotmail.com                   139\n",
        "16                Azzassallam@gmail.com                   307\n",
        "17                    BAGBOUG@yahoo.com                   285\n",
        "18                    Bakryna@gmail.com                  1204\n",
        "19              Basmaha2010@hotmail.com                   249\n",
        "20                     Bebi84@gmail.com                   976\n",
        "21                     Biro5s@yahoo.com                  1307\n",
        "22          Bouchra_erraiss@hotmail.com                   588\n",
        "23                    Bunny_Chan@web.de                   227\n",
        "24               Buty_Heart@hotmail.com                   209\n",
        "25          Camillia.Marmoush@gmail.com                    25\n",
        "26              Carinesabbagh@gmail.com                   240\n",
        "27                Christine@baramki.com                   524\n",
        "28                 DINA_KADRY@YAHOO.COM                    52\n",
        "29          Dina_eldessouky@hotmail.com                  1116\n",
        "...                                 ...                   ...\n",
        "2343               youssefkhalil@me.com                    87\n",
        "2344           youssra.resaie@gmail.com                   526\n",
        "2345                  youssra@gmail.com                   281\n",
        "2346            youssra_kamal@yahoo.com                    22\n",
        "2347          youssraaashmawi@gmail.com                    73\n",
        "2348            yoyothetricky@gmail.com                     8\n",
        "2349                yrelraheb@gmail.com                  1017\n",
        "2350                yulbiba@hotmail.com                     7\n",
        "2351              yumnakassim@gmail.com                   509\n",
        "2352               z72addas@hotmail.com                   345\n",
        "2353              zaki.farida@gmail.com                    60\n",
        "2354                zedesem65@gmail.com                    39\n",
        "2355                  zee.nap@gmail.com                   113\n",
        "2356             zeina.kassas@gmail.com                   190\n",
        "2357          zeina_ahmed95@hotmail.com                   423\n",
        "2358             zeina_naim@hotmail.com                    35\n",
        "2359          zeinabahmedtaha@yahoo.com                  1055\n",
        "2360       zeinabkhalil2010@hotmail.com                   182\n",
        "2361               zeinabnour@gmail.com                   416\n",
        "2362               zeinahodroj@live.com                   276\n",
        "2363               zeinasabry@gmail.com                   574\n",
        "2364                zeinriham@gmail.com                    29\n",
        "2365            zenaabdelbaky@gmail.com                   148\n",
        "2366             zeyadattalla@yahoo.com                   225\n",
        "2367                 ziadihab@gmail.com                   247\n",
        "2368                ziadusama@ymail.com                    18\n",
        "2369                zinelhini@yahoo.com                   807\n",
        "2370                 zleseman@gmail.com                   976\n",
        "2371            zolaykha1st@hotmail.com                   375\n",
        "2372                zshafei@outlook.com                    20\n",
        "\n",
        "[2373 rows x 2 columns]"
       ]
      }
     ],
     "prompt_number": 2
    },
    {
     "cell_type": "code",
     "collapsed": false,
     "input": [
      "#df3 = pd.read_csv(cfg['root']+cfg['dir_customers_table']+cfg['io_order_frequency_customer_4'])\n",
      "df3 = pd.read_csv(\"C:\\Users\\saisree849\\Documents\\GitHub\\NGS-2.0\\\\12_dashboard_tables\\\\4_customers_table\\\\order_frequency_customer_4.csv\")\n",
      "df3"
     ],
     "language": "python",
     "metadata": {},
     "outputs": [
      {
       "html": [
        "<div style=\"max-height:1000px;max-width:1500px;overflow:auto;\">\n",
        "<table border=\"1\" class=\"dataframe\">\n",
        "  <thead>\n",
        "    <tr style=\"text-align: right;\">\n",
        "      <th></th>\n",
        "      <th>Email</th>\n",
        "      <th>Total orders</th>\n",
        "      <th>Average days between orders</th>\n",
        "    </tr>\n",
        "  </thead>\n",
        "  <tbody>\n",
        "    <tr>\n",
        "      <th>0   </th>\n",
        "      <td>        11435mail@mkallenberger.de</td>\n",
        "      <td>  1</td>\n",
        "      <td>   0.000000</td>\n",
        "    </tr>\n",
        "    <tr>\n",
        "      <th>1   </th>\n",
        "      <td>                     1@gargour.com</td>\n",
        "      <td>  2</td>\n",
        "      <td>  47.000000</td>\n",
        "    </tr>\n",
        "    <tr>\n",
        "      <th>2   </th>\n",
        "      <td>                 1kttate@gmail.com</td>\n",
        "      <td>  4</td>\n",
        "      <td>   5.500000</td>\n",
        "    </tr>\n",
        "    <tr>\n",
        "      <th>3   </th>\n",
        "      <td>         1youniqueflower@gmail.com</td>\n",
        "      <td>  3</td>\n",
        "      <td> 125.000000</td>\n",
        "    </tr>\n",
        "    <tr>\n",
        "      <th>4   </th>\n",
        "      <td>                3aliaa.h@gmail.com</td>\n",
        "      <td>  3</td>\n",
        "      <td>   7.333333</td>\n",
        "    </tr>\n",
        "    <tr>\n",
        "      <th>5   </th>\n",
        "      <td>          777nadiateirah@gmail.com</td>\n",
        "      <td>  2</td>\n",
        "      <td>   2.500000</td>\n",
        "    </tr>\n",
        "    <tr>\n",
        "      <th>6   </th>\n",
        "      <td>                         A2@ed.com</td>\n",
        "      <td>  1</td>\n",
        "      <td>   0.000000</td>\n",
        "    </tr>\n",
        "    <tr>\n",
        "      <th>7   </th>\n",
        "      <td>           ASHRAF.M.ZAKI@GMAIL.COM</td>\n",
        "      <td>  1</td>\n",
        "      <td>   0.000000</td>\n",
        "    </tr>\n",
        "    <tr>\n",
        "      <th>8   </th>\n",
        "      <td>              Adhamada@hotmail.com</td>\n",
        "      <td>  1</td>\n",
        "      <td>   0.000000</td>\n",
        "    </tr>\n",
        "    <tr>\n",
        "      <th>9   </th>\n",
        "      <td>       Ahmed.Habash@moevenpick.com</td>\n",
        "      <td>  1</td>\n",
        "      <td>   0.000000</td>\n",
        "    </tr>\n",
        "    <tr>\n",
        "      <th>10  </th>\n",
        "      <td> Ahmed.adel.abdelmonam@hotmail.com</td>\n",
        "      <td>  1</td>\n",
        "      <td>   0.000000</td>\n",
        "    </tr>\n",
        "    <tr>\n",
        "      <th>11  </th>\n",
        "      <td>           Aliamossallam@gmail.com</td>\n",
        "      <td> 23</td>\n",
        "      <td>  18.304348</td>\n",
        "    </tr>\n",
        "    <tr>\n",
        "      <th>12  </th>\n",
        "      <td>       Andrea.Heilman@aucegypt.edu</td>\n",
        "      <td>  4</td>\n",
        "      <td>   2.750000</td>\n",
        "    </tr>\n",
        "    <tr>\n",
        "      <th>13  </th>\n",
        "      <td>           Asmaa.ahmed@hotmail.com</td>\n",
        "      <td>  4</td>\n",
        "      <td>   4.000000</td>\n",
        "    </tr>\n",
        "    <tr>\n",
        "      <th>14  </th>\n",
        "      <td>            Attia.nevien@gmail.com</td>\n",
        "      <td>  3</td>\n",
        "      <td>   0.666667</td>\n",
        "    </tr>\n",
        "    <tr>\n",
        "      <th>15  </th>\n",
        "      <td>             Ayatheone@hotmail.com</td>\n",
        "      <td>  1</td>\n",
        "      <td>   0.000000</td>\n",
        "    </tr>\n",
        "    <tr>\n",
        "      <th>16  </th>\n",
        "      <td>             Azzassallam@gmail.com</td>\n",
        "      <td>  1</td>\n",
        "      <td>   0.000000</td>\n",
        "    </tr>\n",
        "    <tr>\n",
        "      <th>17  </th>\n",
        "      <td>                 BAGBOUG@yahoo.com</td>\n",
        "      <td>  1</td>\n",
        "      <td>   0.000000</td>\n",
        "    </tr>\n",
        "    <tr>\n",
        "      <th>18  </th>\n",
        "      <td>                 Bakryna@gmail.com</td>\n",
        "      <td>  1</td>\n",
        "      <td>   0.000000</td>\n",
        "    </tr>\n",
        "    <tr>\n",
        "      <th>19  </th>\n",
        "      <td>           Basmaha2010@hotmail.com</td>\n",
        "      <td>  1</td>\n",
        "      <td>   0.000000</td>\n",
        "    </tr>\n",
        "    <tr>\n",
        "      <th>20  </th>\n",
        "      <td>                  Bebi84@gmail.com</td>\n",
        "      <td>  3</td>\n",
        "      <td>   7.000000</td>\n",
        "    </tr>\n",
        "    <tr>\n",
        "      <th>21  </th>\n",
        "      <td>                  Biro5s@yahoo.com</td>\n",
        "      <td>  1</td>\n",
        "      <td>   0.000000</td>\n",
        "    </tr>\n",
        "    <tr>\n",
        "      <th>22  </th>\n",
        "      <td>       Bouchra_erraiss@hotmail.com</td>\n",
        "      <td>  1</td>\n",
        "      <td>   0.000000</td>\n",
        "    </tr>\n",
        "    <tr>\n",
        "      <th>23  </th>\n",
        "      <td>                 Bunny_Chan@web.de</td>\n",
        "      <td>  3</td>\n",
        "      <td>  88.666667</td>\n",
        "    </tr>\n",
        "    <tr>\n",
        "      <th>24  </th>\n",
        "      <td>            Buty_Heart@hotmail.com</td>\n",
        "      <td>  1</td>\n",
        "      <td>   0.000000</td>\n",
        "    </tr>\n",
        "    <tr>\n",
        "      <th>25  </th>\n",
        "      <td>       Camillia.Marmoush@gmail.com</td>\n",
        "      <td>  5</td>\n",
        "      <td>   2.800000</td>\n",
        "    </tr>\n",
        "    <tr>\n",
        "      <th>26  </th>\n",
        "      <td>           Carinesabbagh@gmail.com</td>\n",
        "      <td> 37</td>\n",
        "      <td>  27.567568</td>\n",
        "    </tr>\n",
        "    <tr>\n",
        "      <th>27  </th>\n",
        "      <td>             Christine@baramki.com</td>\n",
        "      <td>  2</td>\n",
        "      <td>   3.500000</td>\n",
        "    </tr>\n",
        "    <tr>\n",
        "      <th>28  </th>\n",
        "      <td>              DINA_KADRY@YAHOO.COM</td>\n",
        "      <td>  1</td>\n",
        "      <td>   0.000000</td>\n",
        "    </tr>\n",
        "    <tr>\n",
        "      <th>29  </th>\n",
        "      <td>       Dina_eldessouky@hotmail.com</td>\n",
        "      <td>  7</td>\n",
        "      <td>  18.000000</td>\n",
        "    </tr>\n",
        "    <tr>\n",
        "      <th>...</th>\n",
        "      <td>...</td>\n",
        "      <td>...</td>\n",
        "      <td>...</td>\n",
        "    </tr>\n",
        "    <tr>\n",
        "      <th>2343</th>\n",
        "      <td>              youssefkhalil@me.com</td>\n",
        "      <td>  3</td>\n",
        "      <td>  99.666667</td>\n",
        "    </tr>\n",
        "    <tr>\n",
        "      <th>2344</th>\n",
        "      <td>          youssra.resaie@gmail.com</td>\n",
        "      <td>  1</td>\n",
        "      <td>   0.000000</td>\n",
        "    </tr>\n",
        "    <tr>\n",
        "      <th>2345</th>\n",
        "      <td>                 youssra@gmail.com</td>\n",
        "      <td>  1</td>\n",
        "      <td>   0.000000</td>\n",
        "    </tr>\n",
        "    <tr>\n",
        "      <th>2346</th>\n",
        "      <td>           youssra_kamal@yahoo.com</td>\n",
        "      <td>  3</td>\n",
        "      <td>  21.333333</td>\n",
        "    </tr>\n",
        "    <tr>\n",
        "      <th>2347</th>\n",
        "      <td>         youssraaashmawi@gmail.com</td>\n",
        "      <td>  1</td>\n",
        "      <td>   0.000000</td>\n",
        "    </tr>\n",
        "    <tr>\n",
        "      <th>2348</th>\n",
        "      <td>           yoyothetricky@gmail.com</td>\n",
        "      <td>  2</td>\n",
        "      <td>   5.000000</td>\n",
        "    </tr>\n",
        "    <tr>\n",
        "      <th>2349</th>\n",
        "      <td>               yrelraheb@gmail.com</td>\n",
        "      <td>  1</td>\n",
        "      <td>   0.000000</td>\n",
        "    </tr>\n",
        "    <tr>\n",
        "      <th>2350</th>\n",
        "      <td>               yulbiba@hotmail.com</td>\n",
        "      <td>  4</td>\n",
        "      <td>  15.750000</td>\n",
        "    </tr>\n",
        "    <tr>\n",
        "      <th>2351</th>\n",
        "      <td>             yumnakassim@gmail.com</td>\n",
        "      <td>  2</td>\n",
        "      <td> 149.500000</td>\n",
        "    </tr>\n",
        "    <tr>\n",
        "      <th>2352</th>\n",
        "      <td>              z72addas@hotmail.com</td>\n",
        "      <td>  1</td>\n",
        "      <td>   0.000000</td>\n",
        "    </tr>\n",
        "    <tr>\n",
        "      <th>2353</th>\n",
        "      <td>             zaki.farida@gmail.com</td>\n",
        "      <td>  5</td>\n",
        "      <td>  31.400000</td>\n",
        "    </tr>\n",
        "    <tr>\n",
        "      <th>2354</th>\n",
        "      <td>               zedesem65@gmail.com</td>\n",
        "      <td>  1</td>\n",
        "      <td>   0.000000</td>\n",
        "    </tr>\n",
        "    <tr>\n",
        "      <th>2355</th>\n",
        "      <td>                 zee.nap@gmail.com</td>\n",
        "      <td>  1</td>\n",
        "      <td>   0.000000</td>\n",
        "    </tr>\n",
        "    <tr>\n",
        "      <th>2356</th>\n",
        "      <td>            zeina.kassas@gmail.com</td>\n",
        "      <td>  6</td>\n",
        "      <td>  55.166667</td>\n",
        "    </tr>\n",
        "    <tr>\n",
        "      <th>2357</th>\n",
        "      <td>         zeina_ahmed95@hotmail.com</td>\n",
        "      <td>  1</td>\n",
        "      <td>   0.000000</td>\n",
        "    </tr>\n",
        "    <tr>\n",
        "      <th>2358</th>\n",
        "      <td>            zeina_naim@hotmail.com</td>\n",
        "      <td>  1</td>\n",
        "      <td>   0.000000</td>\n",
        "    </tr>\n",
        "    <tr>\n",
        "      <th>2359</th>\n",
        "      <td>         zeinabahmedtaha@yahoo.com</td>\n",
        "      <td>  1</td>\n",
        "      <td>   0.000000</td>\n",
        "    </tr>\n",
        "    <tr>\n",
        "      <th>2360</th>\n",
        "      <td>      zeinabkhalil2010@hotmail.com</td>\n",
        "      <td>  3</td>\n",
        "      <td>   8.333333</td>\n",
        "    </tr>\n",
        "    <tr>\n",
        "      <th>2361</th>\n",
        "      <td>              zeinabnour@gmail.com</td>\n",
        "      <td>  2</td>\n",
        "      <td>   0.500000</td>\n",
        "    </tr>\n",
        "    <tr>\n",
        "      <th>2362</th>\n",
        "      <td>              zeinahodroj@live.com</td>\n",
        "      <td>  2</td>\n",
        "      <td>   0.000000</td>\n",
        "    </tr>\n",
        "    <tr>\n",
        "      <th>2363</th>\n",
        "      <td>              zeinasabry@gmail.com</td>\n",
        "      <td>  7</td>\n",
        "      <td>  35.714286</td>\n",
        "    </tr>\n",
        "    <tr>\n",
        "      <th>2364</th>\n",
        "      <td>               zeinriham@gmail.com</td>\n",
        "      <td>  2</td>\n",
        "      <td>  35.500000</td>\n",
        "    </tr>\n",
        "    <tr>\n",
        "      <th>2365</th>\n",
        "      <td>           zenaabdelbaky@gmail.com</td>\n",
        "      <td>  2</td>\n",
        "      <td> 219.000000</td>\n",
        "    </tr>\n",
        "    <tr>\n",
        "      <th>2366</th>\n",
        "      <td>            zeyadattalla@yahoo.com</td>\n",
        "      <td>  1</td>\n",
        "      <td>   0.000000</td>\n",
        "    </tr>\n",
        "    <tr>\n",
        "      <th>2367</th>\n",
        "      <td>                ziadihab@gmail.com</td>\n",
        "      <td>  1</td>\n",
        "      <td>   0.000000</td>\n",
        "    </tr>\n",
        "    <tr>\n",
        "      <th>2368</th>\n",
        "      <td>               ziadusama@ymail.com</td>\n",
        "      <td>  1</td>\n",
        "      <td>   0.000000</td>\n",
        "    </tr>\n",
        "    <tr>\n",
        "      <th>2369</th>\n",
        "      <td>               zinelhini@yahoo.com</td>\n",
        "      <td>  1</td>\n",
        "      <td>   0.000000</td>\n",
        "    </tr>\n",
        "    <tr>\n",
        "      <th>2370</th>\n",
        "      <td>                zleseman@gmail.com</td>\n",
        "      <td>  2</td>\n",
        "      <td>  35.500000</td>\n",
        "    </tr>\n",
        "    <tr>\n",
        "      <th>2371</th>\n",
        "      <td>           zolaykha1st@hotmail.com</td>\n",
        "      <td>  1</td>\n",
        "      <td>   0.000000</td>\n",
        "    </tr>\n",
        "    <tr>\n",
        "      <th>2372</th>\n",
        "      <td>               zshafei@outlook.com</td>\n",
        "      <td>  7</td>\n",
        "      <td>  48.571429</td>\n",
        "    </tr>\n",
        "  </tbody>\n",
        "</table>\n",
        "<p>2373 rows \u00d7 3 columns</p>\n",
        "</div>"
       ],
       "metadata": {},
       "output_type": "pyout",
       "prompt_number": 3,
       "text": [
        "                                  Email  Total orders  \\\n",
        "0            11435mail@mkallenberger.de             1   \n",
        "1                         1@gargour.com             2   \n",
        "2                     1kttate@gmail.com             4   \n",
        "3             1youniqueflower@gmail.com             3   \n",
        "4                    3aliaa.h@gmail.com             3   \n",
        "5              777nadiateirah@gmail.com             2   \n",
        "6                             A2@ed.com             1   \n",
        "7               ASHRAF.M.ZAKI@GMAIL.COM             1   \n",
        "8                  Adhamada@hotmail.com             1   \n",
        "9           Ahmed.Habash@moevenpick.com             1   \n",
        "10    Ahmed.adel.abdelmonam@hotmail.com             1   \n",
        "11              Aliamossallam@gmail.com            23   \n",
        "12          Andrea.Heilman@aucegypt.edu             4   \n",
        "13              Asmaa.ahmed@hotmail.com             4   \n",
        "14               Attia.nevien@gmail.com             3   \n",
        "15                Ayatheone@hotmail.com             1   \n",
        "16                Azzassallam@gmail.com             1   \n",
        "17                    BAGBOUG@yahoo.com             1   \n",
        "18                    Bakryna@gmail.com             1   \n",
        "19              Basmaha2010@hotmail.com             1   \n",
        "20                     Bebi84@gmail.com             3   \n",
        "21                     Biro5s@yahoo.com             1   \n",
        "22          Bouchra_erraiss@hotmail.com             1   \n",
        "23                    Bunny_Chan@web.de             3   \n",
        "24               Buty_Heart@hotmail.com             1   \n",
        "25          Camillia.Marmoush@gmail.com             5   \n",
        "26              Carinesabbagh@gmail.com            37   \n",
        "27                Christine@baramki.com             2   \n",
        "28                 DINA_KADRY@YAHOO.COM             1   \n",
        "29          Dina_eldessouky@hotmail.com             7   \n",
        "...                                 ...           ...   \n",
        "2343               youssefkhalil@me.com             3   \n",
        "2344           youssra.resaie@gmail.com             1   \n",
        "2345                  youssra@gmail.com             1   \n",
        "2346            youssra_kamal@yahoo.com             3   \n",
        "2347          youssraaashmawi@gmail.com             1   \n",
        "2348            yoyothetricky@gmail.com             2   \n",
        "2349                yrelraheb@gmail.com             1   \n",
        "2350                yulbiba@hotmail.com             4   \n",
        "2351              yumnakassim@gmail.com             2   \n",
        "2352               z72addas@hotmail.com             1   \n",
        "2353              zaki.farida@gmail.com             5   \n",
        "2354                zedesem65@gmail.com             1   \n",
        "2355                  zee.nap@gmail.com             1   \n",
        "2356             zeina.kassas@gmail.com             6   \n",
        "2357          zeina_ahmed95@hotmail.com             1   \n",
        "2358             zeina_naim@hotmail.com             1   \n",
        "2359          zeinabahmedtaha@yahoo.com             1   \n",
        "2360       zeinabkhalil2010@hotmail.com             3   \n",
        "2361               zeinabnour@gmail.com             2   \n",
        "2362               zeinahodroj@live.com             2   \n",
        "2363               zeinasabry@gmail.com             7   \n",
        "2364                zeinriham@gmail.com             2   \n",
        "2365            zenaabdelbaky@gmail.com             2   \n",
        "2366             zeyadattalla@yahoo.com             1   \n",
        "2367                 ziadihab@gmail.com             1   \n",
        "2368                ziadusama@ymail.com             1   \n",
        "2369                zinelhini@yahoo.com             1   \n",
        "2370                 zleseman@gmail.com             2   \n",
        "2371            zolaykha1st@hotmail.com             1   \n",
        "2372                zshafei@outlook.com             7   \n",
        "\n",
        "      Average days between orders  \n",
        "0                        0.000000  \n",
        "1                       47.000000  \n",
        "2                        5.500000  \n",
        "3                      125.000000  \n",
        "4                        7.333333  \n",
        "5                        2.500000  \n",
        "6                        0.000000  \n",
        "7                        0.000000  \n",
        "8                        0.000000  \n",
        "9                        0.000000  \n",
        "10                       0.000000  \n",
        "11                      18.304348  \n",
        "12                       2.750000  \n",
        "13                       4.000000  \n",
        "14                       0.666667  \n",
        "15                       0.000000  \n",
        "16                       0.000000  \n",
        "17                       0.000000  \n",
        "18                       0.000000  \n",
        "19                       0.000000  \n",
        "20                       7.000000  \n",
        "21                       0.000000  \n",
        "22                       0.000000  \n",
        "23                      88.666667  \n",
        "24                       0.000000  \n",
        "25                       2.800000  \n",
        "26                      27.567568  \n",
        "27                       3.500000  \n",
        "28                       0.000000  \n",
        "29                      18.000000  \n",
        "...                           ...  \n",
        "2343                    99.666667  \n",
        "2344                     0.000000  \n",
        "2345                     0.000000  \n",
        "2346                    21.333333  \n",
        "2347                     0.000000  \n",
        "2348                     5.000000  \n",
        "2349                     0.000000  \n",
        "2350                    15.750000  \n",
        "2351                   149.500000  \n",
        "2352                     0.000000  \n",
        "2353                    31.400000  \n",
        "2354                     0.000000  \n",
        "2355                     0.000000  \n",
        "2356                    55.166667  \n",
        "2357                     0.000000  \n",
        "2358                     0.000000  \n",
        "2359                     0.000000  \n",
        "2360                     8.333333  \n",
        "2361                     0.500000  \n",
        "2362                     0.000000  \n",
        "2363                    35.714286  \n",
        "2364                    35.500000  \n",
        "2365                   219.000000  \n",
        "2366                     0.000000  \n",
        "2367                     0.000000  \n",
        "2368                     0.000000  \n",
        "2369                     0.000000  \n",
        "2370                    35.500000  \n",
        "2371                     0.000000  \n",
        "2372                    48.571429  \n",
        "\n",
        "[2373 rows x 3 columns]"
       ]
      }
     ],
     "prompt_number": 3
    },
    {
     "cell_type": "code",
     "collapsed": false,
     "input": [
      "#df5 = pd.read_csv(cfg['root']+cfg['dir_customers_table']+cfg['io_day_hour_purchases_1'])\n",
      "df5 = pd.read_csv(\"C:\\Users\\saisree849\\Documents\\GitHub\\NGS-2.0\\\\12_dashboard_tables\\\\4_customers_table\\\\day_hour_purchases_1.csv\")\n",
      "df5"
     ],
     "language": "python",
     "metadata": {},
     "outputs": [
      {
       "html": [
        "<div style=\"max-height:1000px;max-width:1500px;overflow:auto;\">\n",
        "<table border=\"1\" class=\"dataframe\">\n",
        "  <thead>\n",
        "    <tr style=\"text-align: right;\">\n",
        "      <th></th>\n",
        "      <th>Email</th>\n",
        "      <th>Sunday</th>\n",
        "      <th>Monday</th>\n",
        "      <th>Tuesday</th>\n",
        "      <th>Wednesday</th>\n",
        "      <th>Thursday</th>\n",
        "      <th>Friday</th>\n",
        "      <th>Saturday</th>\n",
        "      <th>0:00 - 2:00</th>\n",
        "      <th>2:00 - 4:00</th>\n",
        "      <th>4:00 - 6:00</th>\n",
        "      <th>6:00 - 8:00</th>\n",
        "      <th>8:00 - 10:00</th>\n",
        "      <th>10:00 - 12:00</th>\n",
        "      <th>12:00 - 14:00</th>\n",
        "      <th>14:00 - 16:00</th>\n",
        "      <th>16:00 - 18:00</th>\n",
        "      <th>18:00 - 20:00</th>\n",
        "      <th>20:00 - 22:00</th>\n",
        "      <th>22:00 - 0:00</th>\n",
        "    </tr>\n",
        "  </thead>\n",
        "  <tbody>\n",
        "    <tr>\n",
        "      <th>0   </th>\n",
        "      <td>        11435mail@mkallenberger.de</td>\n",
        "      <td> 1</td>\n",
        "      <td> 0</td>\n",
        "      <td> 0</td>\n",
        "      <td> 0</td>\n",
        "      <td> 0</td>\n",
        "      <td> 0</td>\n",
        "      <td> 0</td>\n",
        "      <td>  0</td>\n",
        "      <td> 0</td>\n",
        "      <td> 0</td>\n",
        "      <td> 0</td>\n",
        "      <td> 0</td>\n",
        "      <td> 0</td>\n",
        "      <td> 0</td>\n",
        "      <td> 1</td>\n",
        "      <td> 0</td>\n",
        "      <td> 0</td>\n",
        "      <td> 0</td>\n",
        "      <td> 0</td>\n",
        "    </tr>\n",
        "    <tr>\n",
        "      <th>1   </th>\n",
        "      <td>                     1@gargour.com</td>\n",
        "      <td> 0</td>\n",
        "      <td> 0</td>\n",
        "      <td> 1</td>\n",
        "      <td> 0</td>\n",
        "      <td> 0</td>\n",
        "      <td> 0</td>\n",
        "      <td> 1</td>\n",
        "      <td>  0</td>\n",
        "      <td> 0</td>\n",
        "      <td> 0</td>\n",
        "      <td> 0</td>\n",
        "      <td> 0</td>\n",
        "      <td> 0</td>\n",
        "      <td> 0</td>\n",
        "      <td> 1</td>\n",
        "      <td> 1</td>\n",
        "      <td> 0</td>\n",
        "      <td> 0</td>\n",
        "      <td> 0</td>\n",
        "    </tr>\n",
        "    <tr>\n",
        "      <th>2   </th>\n",
        "      <td>                 1kttate@gmail.com</td>\n",
        "      <td> 1</td>\n",
        "      <td> 2</td>\n",
        "      <td> 0</td>\n",
        "      <td> 0</td>\n",
        "      <td> 1</td>\n",
        "      <td> 0</td>\n",
        "      <td> 0</td>\n",
        "      <td>  0</td>\n",
        "      <td> 0</td>\n",
        "      <td> 0</td>\n",
        "      <td> 0</td>\n",
        "      <td> 2</td>\n",
        "      <td> 1</td>\n",
        "      <td> 1</td>\n",
        "      <td> 0</td>\n",
        "      <td> 0</td>\n",
        "      <td> 0</td>\n",
        "      <td> 0</td>\n",
        "      <td> 0</td>\n",
        "    </tr>\n",
        "    <tr>\n",
        "      <th>3   </th>\n",
        "      <td>         1youniqueflower@gmail.com</td>\n",
        "      <td> 0</td>\n",
        "      <td> 1</td>\n",
        "      <td> 1</td>\n",
        "      <td> 0</td>\n",
        "      <td> 1</td>\n",
        "      <td> 0</td>\n",
        "      <td> 0</td>\n",
        "      <td>  0</td>\n",
        "      <td> 0</td>\n",
        "      <td> 0</td>\n",
        "      <td> 0</td>\n",
        "      <td> 0</td>\n",
        "      <td> 0</td>\n",
        "      <td> 1</td>\n",
        "      <td> 0</td>\n",
        "      <td> 1</td>\n",
        "      <td> 0</td>\n",
        "      <td> 0</td>\n",
        "      <td> 1</td>\n",
        "    </tr>\n",
        "    <tr>\n",
        "      <th>4   </th>\n",
        "      <td>                3aliaa.h@gmail.com</td>\n",
        "      <td> 1</td>\n",
        "      <td> 0</td>\n",
        "      <td> 0</td>\n",
        "      <td> 0</td>\n",
        "      <td> 0</td>\n",
        "      <td> 1</td>\n",
        "      <td> 1</td>\n",
        "      <td>  1</td>\n",
        "      <td> 1</td>\n",
        "      <td> 0</td>\n",
        "      <td> 0</td>\n",
        "      <td> 0</td>\n",
        "      <td> 0</td>\n",
        "      <td> 0</td>\n",
        "      <td> 0</td>\n",
        "      <td> 1</td>\n",
        "      <td> 0</td>\n",
        "      <td> 0</td>\n",
        "      <td> 0</td>\n",
        "    </tr>\n",
        "    <tr>\n",
        "      <th>5   </th>\n",
        "      <td>          777nadiateirah@gmail.com</td>\n",
        "      <td> 0</td>\n",
        "      <td> 1</td>\n",
        "      <td> 0</td>\n",
        "      <td> 0</td>\n",
        "      <td> 0</td>\n",
        "      <td> 0</td>\n",
        "      <td> 1</td>\n",
        "      <td>  0</td>\n",
        "      <td> 0</td>\n",
        "      <td> 0</td>\n",
        "      <td> 0</td>\n",
        "      <td> 0</td>\n",
        "      <td> 1</td>\n",
        "      <td> 1</td>\n",
        "      <td> 0</td>\n",
        "      <td> 0</td>\n",
        "      <td> 0</td>\n",
        "      <td> 0</td>\n",
        "      <td> 0</td>\n",
        "    </tr>\n",
        "    <tr>\n",
        "      <th>6   </th>\n",
        "      <td>                         A2@ed.com</td>\n",
        "      <td> 0</td>\n",
        "      <td> 0</td>\n",
        "      <td> 0</td>\n",
        "      <td> 0</td>\n",
        "      <td> 0</td>\n",
        "      <td> 0</td>\n",
        "      <td> 1</td>\n",
        "      <td>  0</td>\n",
        "      <td> 0</td>\n",
        "      <td> 0</td>\n",
        "      <td> 0</td>\n",
        "      <td> 0</td>\n",
        "      <td> 0</td>\n",
        "      <td> 1</td>\n",
        "      <td> 0</td>\n",
        "      <td> 0</td>\n",
        "      <td> 0</td>\n",
        "      <td> 0</td>\n",
        "      <td> 0</td>\n",
        "    </tr>\n",
        "    <tr>\n",
        "      <th>7   </th>\n",
        "      <td>           ASHRAF.M.ZAKI@GMAIL.COM</td>\n",
        "      <td> 0</td>\n",
        "      <td> 0</td>\n",
        "      <td> 0</td>\n",
        "      <td> 0</td>\n",
        "      <td> 0</td>\n",
        "      <td> 1</td>\n",
        "      <td> 0</td>\n",
        "      <td>  0</td>\n",
        "      <td> 0</td>\n",
        "      <td> 0</td>\n",
        "      <td> 0</td>\n",
        "      <td> 1</td>\n",
        "      <td> 0</td>\n",
        "      <td> 0</td>\n",
        "      <td> 0</td>\n",
        "      <td> 0</td>\n",
        "      <td> 0</td>\n",
        "      <td> 0</td>\n",
        "      <td> 0</td>\n",
        "    </tr>\n",
        "    <tr>\n",
        "      <th>8   </th>\n",
        "      <td>              Adhamada@hotmail.com</td>\n",
        "      <td> 0</td>\n",
        "      <td> 1</td>\n",
        "      <td> 0</td>\n",
        "      <td> 0</td>\n",
        "      <td> 0</td>\n",
        "      <td> 0</td>\n",
        "      <td> 0</td>\n",
        "      <td>  0</td>\n",
        "      <td> 0</td>\n",
        "      <td> 0</td>\n",
        "      <td> 0</td>\n",
        "      <td> 0</td>\n",
        "      <td> 0</td>\n",
        "      <td> 0</td>\n",
        "      <td> 0</td>\n",
        "      <td> 0</td>\n",
        "      <td> 1</td>\n",
        "      <td> 0</td>\n",
        "      <td> 0</td>\n",
        "    </tr>\n",
        "    <tr>\n",
        "      <th>9   </th>\n",
        "      <td>       Ahmed.Habash@moevenpick.com</td>\n",
        "      <td> 0</td>\n",
        "      <td> 0</td>\n",
        "      <td> 0</td>\n",
        "      <td> 0</td>\n",
        "      <td> 0</td>\n",
        "      <td> 0</td>\n",
        "      <td> 1</td>\n",
        "      <td>  0</td>\n",
        "      <td> 0</td>\n",
        "      <td> 0</td>\n",
        "      <td> 0</td>\n",
        "      <td> 0</td>\n",
        "      <td> 0</td>\n",
        "      <td> 0</td>\n",
        "      <td> 1</td>\n",
        "      <td> 0</td>\n",
        "      <td> 0</td>\n",
        "      <td> 0</td>\n",
        "      <td> 0</td>\n",
        "    </tr>\n",
        "    <tr>\n",
        "      <th>10  </th>\n",
        "      <td> Ahmed.adel.abdelmonam@hotmail.com</td>\n",
        "      <td> 0</td>\n",
        "      <td> 1</td>\n",
        "      <td> 0</td>\n",
        "      <td> 0</td>\n",
        "      <td> 0</td>\n",
        "      <td> 0</td>\n",
        "      <td> 0</td>\n",
        "      <td>  0</td>\n",
        "      <td> 1</td>\n",
        "      <td> 0</td>\n",
        "      <td> 0</td>\n",
        "      <td> 0</td>\n",
        "      <td> 0</td>\n",
        "      <td> 0</td>\n",
        "      <td> 0</td>\n",
        "      <td> 0</td>\n",
        "      <td> 0</td>\n",
        "      <td> 0</td>\n",
        "      <td> 0</td>\n",
        "    </tr>\n",
        "    <tr>\n",
        "      <th>11  </th>\n",
        "      <td>           Aliamossallam@gmail.com</td>\n",
        "      <td> 5</td>\n",
        "      <td> 7</td>\n",
        "      <td> 3</td>\n",
        "      <td> 1</td>\n",
        "      <td> 1</td>\n",
        "      <td> 4</td>\n",
        "      <td> 2</td>\n",
        "      <td>  2</td>\n",
        "      <td> 0</td>\n",
        "      <td> 0</td>\n",
        "      <td> 0</td>\n",
        "      <td> 0</td>\n",
        "      <td> 5</td>\n",
        "      <td> 5</td>\n",
        "      <td> 5</td>\n",
        "      <td> 2</td>\n",
        "      <td> 2</td>\n",
        "      <td> 2</td>\n",
        "      <td> 0</td>\n",
        "    </tr>\n",
        "    <tr>\n",
        "      <th>12  </th>\n",
        "      <td>       Andrea.Heilman@aucegypt.edu</td>\n",
        "      <td> 0</td>\n",
        "      <td> 0</td>\n",
        "      <td> 2</td>\n",
        "      <td> 0</td>\n",
        "      <td> 0</td>\n",
        "      <td> 0</td>\n",
        "      <td> 2</td>\n",
        "      <td>  0</td>\n",
        "      <td> 0</td>\n",
        "      <td> 0</td>\n",
        "      <td> 0</td>\n",
        "      <td> 0</td>\n",
        "      <td> 2</td>\n",
        "      <td> 2</td>\n",
        "      <td> 0</td>\n",
        "      <td> 0</td>\n",
        "      <td> 0</td>\n",
        "      <td> 0</td>\n",
        "      <td> 0</td>\n",
        "    </tr>\n",
        "    <tr>\n",
        "      <th>13  </th>\n",
        "      <td>           Asmaa.ahmed@hotmail.com</td>\n",
        "      <td> 0</td>\n",
        "      <td> 1</td>\n",
        "      <td> 0</td>\n",
        "      <td> 1</td>\n",
        "      <td> 0</td>\n",
        "      <td> 0</td>\n",
        "      <td> 2</td>\n",
        "      <td>  0</td>\n",
        "      <td> 0</td>\n",
        "      <td> 0</td>\n",
        "      <td> 0</td>\n",
        "      <td> 0</td>\n",
        "      <td> 0</td>\n",
        "      <td> 0</td>\n",
        "      <td> 1</td>\n",
        "      <td> 2</td>\n",
        "      <td> 1</td>\n",
        "      <td> 0</td>\n",
        "      <td> 0</td>\n",
        "    </tr>\n",
        "    <tr>\n",
        "      <th>14  </th>\n",
        "      <td>            Attia.nevien@gmail.com</td>\n",
        "      <td> 0</td>\n",
        "      <td> 2</td>\n",
        "      <td> 0</td>\n",
        "      <td> 0</td>\n",
        "      <td> 0</td>\n",
        "      <td> 0</td>\n",
        "      <td> 1</td>\n",
        "      <td>  0</td>\n",
        "      <td> 0</td>\n",
        "      <td> 0</td>\n",
        "      <td> 0</td>\n",
        "      <td> 0</td>\n",
        "      <td> 0</td>\n",
        "      <td> 0</td>\n",
        "      <td> 2</td>\n",
        "      <td> 1</td>\n",
        "      <td> 0</td>\n",
        "      <td> 0</td>\n",
        "      <td> 0</td>\n",
        "    </tr>\n",
        "    <tr>\n",
        "      <th>15  </th>\n",
        "      <td>             Ayatheone@hotmail.com</td>\n",
        "      <td> 0</td>\n",
        "      <td> 0</td>\n",
        "      <td> 0</td>\n",
        "      <td> 0</td>\n",
        "      <td> 1</td>\n",
        "      <td> 0</td>\n",
        "      <td> 0</td>\n",
        "      <td>  0</td>\n",
        "      <td> 0</td>\n",
        "      <td> 0</td>\n",
        "      <td> 0</td>\n",
        "      <td> 0</td>\n",
        "      <td> 0</td>\n",
        "      <td> 0</td>\n",
        "      <td> 0</td>\n",
        "      <td> 0</td>\n",
        "      <td> 0</td>\n",
        "      <td> 0</td>\n",
        "      <td> 1</td>\n",
        "    </tr>\n",
        "    <tr>\n",
        "      <th>16  </th>\n",
        "      <td>             Azzassallam@gmail.com</td>\n",
        "      <td> 0</td>\n",
        "      <td> 0</td>\n",
        "      <td> 0</td>\n",
        "      <td> 0</td>\n",
        "      <td> 1</td>\n",
        "      <td> 0</td>\n",
        "      <td> 0</td>\n",
        "      <td>  0</td>\n",
        "      <td> 0</td>\n",
        "      <td> 0</td>\n",
        "      <td> 0</td>\n",
        "      <td> 0</td>\n",
        "      <td> 1</td>\n",
        "      <td> 0</td>\n",
        "      <td> 0</td>\n",
        "      <td> 0</td>\n",
        "      <td> 0</td>\n",
        "      <td> 0</td>\n",
        "      <td> 0</td>\n",
        "    </tr>\n",
        "    <tr>\n",
        "      <th>17  </th>\n",
        "      <td>                 BAGBOUG@yahoo.com</td>\n",
        "      <td> 0</td>\n",
        "      <td> 0</td>\n",
        "      <td> 0</td>\n",
        "      <td> 0</td>\n",
        "      <td> 0</td>\n",
        "      <td> 1</td>\n",
        "      <td> 0</td>\n",
        "      <td>  1</td>\n",
        "      <td> 0</td>\n",
        "      <td> 0</td>\n",
        "      <td> 0</td>\n",
        "      <td> 0</td>\n",
        "      <td> 0</td>\n",
        "      <td> 0</td>\n",
        "      <td> 0</td>\n",
        "      <td> 0</td>\n",
        "      <td> 0</td>\n",
        "      <td> 0</td>\n",
        "      <td> 0</td>\n",
        "    </tr>\n",
        "    <tr>\n",
        "      <th>18  </th>\n",
        "      <td>                 Bakryna@gmail.com</td>\n",
        "      <td> 0</td>\n",
        "      <td> 0</td>\n",
        "      <td> 0</td>\n",
        "      <td> 1</td>\n",
        "      <td> 0</td>\n",
        "      <td> 0</td>\n",
        "      <td> 0</td>\n",
        "      <td>  1</td>\n",
        "      <td> 0</td>\n",
        "      <td> 0</td>\n",
        "      <td> 0</td>\n",
        "      <td> 0</td>\n",
        "      <td> 0</td>\n",
        "      <td> 0</td>\n",
        "      <td> 0</td>\n",
        "      <td> 0</td>\n",
        "      <td> 0</td>\n",
        "      <td> 0</td>\n",
        "      <td> 0</td>\n",
        "    </tr>\n",
        "    <tr>\n",
        "      <th>19  </th>\n",
        "      <td>           Basmaha2010@hotmail.com</td>\n",
        "      <td> 0</td>\n",
        "      <td> 0</td>\n",
        "      <td> 0</td>\n",
        "      <td> 0</td>\n",
        "      <td> 0</td>\n",
        "      <td> 0</td>\n",
        "      <td> 1</td>\n",
        "      <td>  0</td>\n",
        "      <td> 0</td>\n",
        "      <td> 0</td>\n",
        "      <td> 0</td>\n",
        "      <td> 0</td>\n",
        "      <td> 0</td>\n",
        "      <td> 0</td>\n",
        "      <td> 0</td>\n",
        "      <td> 0</td>\n",
        "      <td> 0</td>\n",
        "      <td> 0</td>\n",
        "      <td> 1</td>\n",
        "    </tr>\n",
        "    <tr>\n",
        "      <th>20  </th>\n",
        "      <td>                  Bebi84@gmail.com</td>\n",
        "      <td> 2</td>\n",
        "      <td> 0</td>\n",
        "      <td> 0</td>\n",
        "      <td> 1</td>\n",
        "      <td> 0</td>\n",
        "      <td> 0</td>\n",
        "      <td> 0</td>\n",
        "      <td>  0</td>\n",
        "      <td> 0</td>\n",
        "      <td> 0</td>\n",
        "      <td> 0</td>\n",
        "      <td> 0</td>\n",
        "      <td> 0</td>\n",
        "      <td> 1</td>\n",
        "      <td> 0</td>\n",
        "      <td> 1</td>\n",
        "      <td> 0</td>\n",
        "      <td> 0</td>\n",
        "      <td> 1</td>\n",
        "    </tr>\n",
        "    <tr>\n",
        "      <th>21  </th>\n",
        "      <td>                  Biro5s@yahoo.com</td>\n",
        "      <td> 0</td>\n",
        "      <td> 0</td>\n",
        "      <td> 0</td>\n",
        "      <td> 0</td>\n",
        "      <td> 0</td>\n",
        "      <td> 1</td>\n",
        "      <td> 0</td>\n",
        "      <td>  0</td>\n",
        "      <td> 0</td>\n",
        "      <td> 0</td>\n",
        "      <td> 0</td>\n",
        "      <td> 0</td>\n",
        "      <td> 0</td>\n",
        "      <td> 0</td>\n",
        "      <td> 0</td>\n",
        "      <td> 0</td>\n",
        "      <td> 1</td>\n",
        "      <td> 0</td>\n",
        "      <td> 0</td>\n",
        "    </tr>\n",
        "    <tr>\n",
        "      <th>22  </th>\n",
        "      <td>       Bouchra_erraiss@hotmail.com</td>\n",
        "      <td> 0</td>\n",
        "      <td> 0</td>\n",
        "      <td> 0</td>\n",
        "      <td> 1</td>\n",
        "      <td> 0</td>\n",
        "      <td> 0</td>\n",
        "      <td> 0</td>\n",
        "      <td>  0</td>\n",
        "      <td> 0</td>\n",
        "      <td> 0</td>\n",
        "      <td> 0</td>\n",
        "      <td> 0</td>\n",
        "      <td> 0</td>\n",
        "      <td> 1</td>\n",
        "      <td> 0</td>\n",
        "      <td> 0</td>\n",
        "      <td> 0</td>\n",
        "      <td> 0</td>\n",
        "      <td> 0</td>\n",
        "    </tr>\n",
        "    <tr>\n",
        "      <th>23  </th>\n",
        "      <td>                 Bunny_Chan@web.de</td>\n",
        "      <td> 2</td>\n",
        "      <td> 0</td>\n",
        "      <td> 0</td>\n",
        "      <td> 0</td>\n",
        "      <td> 0</td>\n",
        "      <td> 1</td>\n",
        "      <td> 0</td>\n",
        "      <td>  0</td>\n",
        "      <td> 0</td>\n",
        "      <td> 0</td>\n",
        "      <td> 0</td>\n",
        "      <td> 0</td>\n",
        "      <td> 0</td>\n",
        "      <td> 1</td>\n",
        "      <td> 0</td>\n",
        "      <td> 1</td>\n",
        "      <td> 0</td>\n",
        "      <td> 1</td>\n",
        "      <td> 0</td>\n",
        "    </tr>\n",
        "    <tr>\n",
        "      <th>24  </th>\n",
        "      <td>            Buty_Heart@hotmail.com</td>\n",
        "      <td> 0</td>\n",
        "      <td> 0</td>\n",
        "      <td> 0</td>\n",
        "      <td> 0</td>\n",
        "      <td> 1</td>\n",
        "      <td> 0</td>\n",
        "      <td> 0</td>\n",
        "      <td>  0</td>\n",
        "      <td> 0</td>\n",
        "      <td> 0</td>\n",
        "      <td> 0</td>\n",
        "      <td> 0</td>\n",
        "      <td> 0</td>\n",
        "      <td> 0</td>\n",
        "      <td> 0</td>\n",
        "      <td> 1</td>\n",
        "      <td> 0</td>\n",
        "      <td> 0</td>\n",
        "      <td> 0</td>\n",
        "    </tr>\n",
        "    <tr>\n",
        "      <th>25  </th>\n",
        "      <td>       Camillia.Marmoush@gmail.com</td>\n",
        "      <td> 1</td>\n",
        "      <td> 0</td>\n",
        "      <td> 0</td>\n",
        "      <td> 0</td>\n",
        "      <td> 0</td>\n",
        "      <td> 0</td>\n",
        "      <td> 4</td>\n",
        "      <td>  0</td>\n",
        "      <td> 0</td>\n",
        "      <td> 0</td>\n",
        "      <td> 0</td>\n",
        "      <td> 0</td>\n",
        "      <td> 3</td>\n",
        "      <td> 2</td>\n",
        "      <td> 0</td>\n",
        "      <td> 0</td>\n",
        "      <td> 0</td>\n",
        "      <td> 0</td>\n",
        "      <td> 0</td>\n",
        "    </tr>\n",
        "    <tr>\n",
        "      <th>26  </th>\n",
        "      <td>           Carinesabbagh@gmail.com</td>\n",
        "      <td> 7</td>\n",
        "      <td> 6</td>\n",
        "      <td> 8</td>\n",
        "      <td> 5</td>\n",
        "      <td> 4</td>\n",
        "      <td> 2</td>\n",
        "      <td> 5</td>\n",
        "      <td> 10</td>\n",
        "      <td> 2</td>\n",
        "      <td> 1</td>\n",
        "      <td> 0</td>\n",
        "      <td> 3</td>\n",
        "      <td> 2</td>\n",
        "      <td> 3</td>\n",
        "      <td> 2</td>\n",
        "      <td> 5</td>\n",
        "      <td> 2</td>\n",
        "      <td> 2</td>\n",
        "      <td> 5</td>\n",
        "    </tr>\n",
        "    <tr>\n",
        "      <th>27  </th>\n",
        "      <td>             Christine@baramki.com</td>\n",
        "      <td> 0</td>\n",
        "      <td> 0</td>\n",
        "      <td> 0</td>\n",
        "      <td> 0</td>\n",
        "      <td> 2</td>\n",
        "      <td> 0</td>\n",
        "      <td> 0</td>\n",
        "      <td>  0</td>\n",
        "      <td> 0</td>\n",
        "      <td> 0</td>\n",
        "      <td> 0</td>\n",
        "      <td> 0</td>\n",
        "      <td> 0</td>\n",
        "      <td> 1</td>\n",
        "      <td> 0</td>\n",
        "      <td> 1</td>\n",
        "      <td> 0</td>\n",
        "      <td> 0</td>\n",
        "      <td> 0</td>\n",
        "    </tr>\n",
        "    <tr>\n",
        "      <th>28  </th>\n",
        "      <td>              DINA_KADRY@YAHOO.COM</td>\n",
        "      <td> 1</td>\n",
        "      <td> 0</td>\n",
        "      <td> 0</td>\n",
        "      <td> 0</td>\n",
        "      <td> 0</td>\n",
        "      <td> 0</td>\n",
        "      <td> 0</td>\n",
        "      <td>  0</td>\n",
        "      <td> 0</td>\n",
        "      <td> 0</td>\n",
        "      <td> 0</td>\n",
        "      <td> 0</td>\n",
        "      <td> 1</td>\n",
        "      <td> 0</td>\n",
        "      <td> 0</td>\n",
        "      <td> 0</td>\n",
        "      <td> 0</td>\n",
        "      <td> 0</td>\n",
        "      <td> 0</td>\n",
        "    </tr>\n",
        "    <tr>\n",
        "      <th>29  </th>\n",
        "      <td>       Dina_eldessouky@hotmail.com</td>\n",
        "      <td> 2</td>\n",
        "      <td> 1</td>\n",
        "      <td> 1</td>\n",
        "      <td> 2</td>\n",
        "      <td> 0</td>\n",
        "      <td> 0</td>\n",
        "      <td> 1</td>\n",
        "      <td>  1</td>\n",
        "      <td> 1</td>\n",
        "      <td> 0</td>\n",
        "      <td> 0</td>\n",
        "      <td> 0</td>\n",
        "      <td> 0</td>\n",
        "      <td> 2</td>\n",
        "      <td> 1</td>\n",
        "      <td> 1</td>\n",
        "      <td> 0</td>\n",
        "      <td> 1</td>\n",
        "      <td> 0</td>\n",
        "    </tr>\n",
        "    <tr>\n",
        "      <th>...</th>\n",
        "      <td>...</td>\n",
        "      <td>...</td>\n",
        "      <td>...</td>\n",
        "      <td>...</td>\n",
        "      <td>...</td>\n",
        "      <td>...</td>\n",
        "      <td>...</td>\n",
        "      <td>...</td>\n",
        "      <td>...</td>\n",
        "      <td>...</td>\n",
        "      <td>...</td>\n",
        "      <td>...</td>\n",
        "      <td>...</td>\n",
        "      <td>...</td>\n",
        "      <td>...</td>\n",
        "      <td>...</td>\n",
        "      <td>...</td>\n",
        "      <td>...</td>\n",
        "      <td>...</td>\n",
        "      <td>...</td>\n",
        "    </tr>\n",
        "    <tr>\n",
        "      <th>2343</th>\n",
        "      <td>              youssefkhalil@me.com</td>\n",
        "      <td> 1</td>\n",
        "      <td> 0</td>\n",
        "      <td> 1</td>\n",
        "      <td> 0</td>\n",
        "      <td> 1</td>\n",
        "      <td> 0</td>\n",
        "      <td> 0</td>\n",
        "      <td>  1</td>\n",
        "      <td> 0</td>\n",
        "      <td> 0</td>\n",
        "      <td> 0</td>\n",
        "      <td> 0</td>\n",
        "      <td> 1</td>\n",
        "      <td> 0</td>\n",
        "      <td> 1</td>\n",
        "      <td> 0</td>\n",
        "      <td> 0</td>\n",
        "      <td> 0</td>\n",
        "      <td> 0</td>\n",
        "    </tr>\n",
        "    <tr>\n",
        "      <th>2344</th>\n",
        "      <td>          youssra.resaie@gmail.com</td>\n",
        "      <td> 0</td>\n",
        "      <td> 0</td>\n",
        "      <td> 1</td>\n",
        "      <td> 0</td>\n",
        "      <td> 0</td>\n",
        "      <td> 0</td>\n",
        "      <td> 0</td>\n",
        "      <td>  0</td>\n",
        "      <td> 0</td>\n",
        "      <td> 0</td>\n",
        "      <td> 0</td>\n",
        "      <td> 0</td>\n",
        "      <td> 0</td>\n",
        "      <td> 1</td>\n",
        "      <td> 0</td>\n",
        "      <td> 0</td>\n",
        "      <td> 0</td>\n",
        "      <td> 0</td>\n",
        "      <td> 0</td>\n",
        "    </tr>\n",
        "    <tr>\n",
        "      <th>2345</th>\n",
        "      <td>                 youssra@gmail.com</td>\n",
        "      <td> 0</td>\n",
        "      <td> 0</td>\n",
        "      <td> 1</td>\n",
        "      <td> 0</td>\n",
        "      <td> 0</td>\n",
        "      <td> 0</td>\n",
        "      <td> 0</td>\n",
        "      <td>  0</td>\n",
        "      <td> 0</td>\n",
        "      <td> 0</td>\n",
        "      <td> 0</td>\n",
        "      <td> 0</td>\n",
        "      <td> 0</td>\n",
        "      <td> 0</td>\n",
        "      <td> 0</td>\n",
        "      <td> 1</td>\n",
        "      <td> 0</td>\n",
        "      <td> 0</td>\n",
        "      <td> 0</td>\n",
        "    </tr>\n",
        "    <tr>\n",
        "      <th>2346</th>\n",
        "      <td>           youssra_kamal@yahoo.com</td>\n",
        "      <td> 0</td>\n",
        "      <td> 1</td>\n",
        "      <td> 2</td>\n",
        "      <td> 0</td>\n",
        "      <td> 0</td>\n",
        "      <td> 0</td>\n",
        "      <td> 0</td>\n",
        "      <td>  0</td>\n",
        "      <td> 0</td>\n",
        "      <td> 0</td>\n",
        "      <td> 0</td>\n",
        "      <td> 0</td>\n",
        "      <td> 0</td>\n",
        "      <td> 2</td>\n",
        "      <td> 1</td>\n",
        "      <td> 0</td>\n",
        "      <td> 0</td>\n",
        "      <td> 0</td>\n",
        "      <td> 0</td>\n",
        "    </tr>\n",
        "    <tr>\n",
        "      <th>2347</th>\n",
        "      <td>         youssraaashmawi@gmail.com</td>\n",
        "      <td> 1</td>\n",
        "      <td> 0</td>\n",
        "      <td> 0</td>\n",
        "      <td> 0</td>\n",
        "      <td> 0</td>\n",
        "      <td> 0</td>\n",
        "      <td> 0</td>\n",
        "      <td>  0</td>\n",
        "      <td> 0</td>\n",
        "      <td> 0</td>\n",
        "      <td> 0</td>\n",
        "      <td> 0</td>\n",
        "      <td> 0</td>\n",
        "      <td> 0</td>\n",
        "      <td> 0</td>\n",
        "      <td> 1</td>\n",
        "      <td> 0</td>\n",
        "      <td> 0</td>\n",
        "      <td> 0</td>\n",
        "    </tr>\n",
        "    <tr>\n",
        "      <th>2348</th>\n",
        "      <td>           yoyothetricky@gmail.com</td>\n",
        "      <td> 0</td>\n",
        "      <td> 0</td>\n",
        "      <td> 1</td>\n",
        "      <td> 0</td>\n",
        "      <td> 0</td>\n",
        "      <td> 0</td>\n",
        "      <td> 1</td>\n",
        "      <td>  0</td>\n",
        "      <td> 0</td>\n",
        "      <td> 0</td>\n",
        "      <td> 0</td>\n",
        "      <td> 0</td>\n",
        "      <td> 0</td>\n",
        "      <td> 1</td>\n",
        "      <td> 1</td>\n",
        "      <td> 0</td>\n",
        "      <td> 0</td>\n",
        "      <td> 0</td>\n",
        "      <td> 0</td>\n",
        "    </tr>\n",
        "    <tr>\n",
        "      <th>2349</th>\n",
        "      <td>               yrelraheb@gmail.com</td>\n",
        "      <td> 0</td>\n",
        "      <td> 1</td>\n",
        "      <td> 0</td>\n",
        "      <td> 0</td>\n",
        "      <td> 0</td>\n",
        "      <td> 0</td>\n",
        "      <td> 0</td>\n",
        "      <td>  0</td>\n",
        "      <td> 0</td>\n",
        "      <td> 0</td>\n",
        "      <td> 0</td>\n",
        "      <td> 0</td>\n",
        "      <td> 0</td>\n",
        "      <td> 1</td>\n",
        "      <td> 0</td>\n",
        "      <td> 0</td>\n",
        "      <td> 0</td>\n",
        "      <td> 0</td>\n",
        "      <td> 0</td>\n",
        "    </tr>\n",
        "    <tr>\n",
        "      <th>2350</th>\n",
        "      <td>               yulbiba@hotmail.com</td>\n",
        "      <td> 0</td>\n",
        "      <td> 0</td>\n",
        "      <td> 0</td>\n",
        "      <td> 4</td>\n",
        "      <td> 0</td>\n",
        "      <td> 0</td>\n",
        "      <td> 0</td>\n",
        "      <td>  0</td>\n",
        "      <td> 0</td>\n",
        "      <td> 0</td>\n",
        "      <td> 0</td>\n",
        "      <td> 0</td>\n",
        "      <td> 1</td>\n",
        "      <td> 0</td>\n",
        "      <td> 0</td>\n",
        "      <td> 0</td>\n",
        "      <td> 1</td>\n",
        "      <td> 1</td>\n",
        "      <td> 1</td>\n",
        "    </tr>\n",
        "    <tr>\n",
        "      <th>2351</th>\n",
        "      <td>             yumnakassim@gmail.com</td>\n",
        "      <td> 1</td>\n",
        "      <td> 0</td>\n",
        "      <td> 0</td>\n",
        "      <td> 0</td>\n",
        "      <td> 0</td>\n",
        "      <td> 1</td>\n",
        "      <td> 0</td>\n",
        "      <td>  0</td>\n",
        "      <td> 0</td>\n",
        "      <td> 0</td>\n",
        "      <td> 0</td>\n",
        "      <td> 0</td>\n",
        "      <td> 0</td>\n",
        "      <td> 0</td>\n",
        "      <td> 1</td>\n",
        "      <td> 0</td>\n",
        "      <td> 0</td>\n",
        "      <td> 0</td>\n",
        "      <td> 1</td>\n",
        "    </tr>\n",
        "    <tr>\n",
        "      <th>2352</th>\n",
        "      <td>              z72addas@hotmail.com</td>\n",
        "      <td> 0</td>\n",
        "      <td> 1</td>\n",
        "      <td> 0</td>\n",
        "      <td> 0</td>\n",
        "      <td> 0</td>\n",
        "      <td> 0</td>\n",
        "      <td> 0</td>\n",
        "      <td>  0</td>\n",
        "      <td> 0</td>\n",
        "      <td> 0</td>\n",
        "      <td> 0</td>\n",
        "      <td> 0</td>\n",
        "      <td> 0</td>\n",
        "      <td> 0</td>\n",
        "      <td> 1</td>\n",
        "      <td> 0</td>\n",
        "      <td> 0</td>\n",
        "      <td> 0</td>\n",
        "      <td> 0</td>\n",
        "    </tr>\n",
        "    <tr>\n",
        "      <th>2353</th>\n",
        "      <td>             zaki.farida@gmail.com</td>\n",
        "      <td> 0</td>\n",
        "      <td> 0</td>\n",
        "      <td> 0</td>\n",
        "      <td> 2</td>\n",
        "      <td> 0</td>\n",
        "      <td> 0</td>\n",
        "      <td> 3</td>\n",
        "      <td>  0</td>\n",
        "      <td> 0</td>\n",
        "      <td> 0</td>\n",
        "      <td> 0</td>\n",
        "      <td> 0</td>\n",
        "      <td> 0</td>\n",
        "      <td> 0</td>\n",
        "      <td> 1</td>\n",
        "      <td> 2</td>\n",
        "      <td> 2</td>\n",
        "      <td> 0</td>\n",
        "      <td> 0</td>\n",
        "    </tr>\n",
        "    <tr>\n",
        "      <th>2354</th>\n",
        "      <td>               zedesem65@gmail.com</td>\n",
        "      <td> 0</td>\n",
        "      <td> 0</td>\n",
        "      <td> 0</td>\n",
        "      <td> 0</td>\n",
        "      <td> 0</td>\n",
        "      <td> 0</td>\n",
        "      <td> 1</td>\n",
        "      <td>  0</td>\n",
        "      <td> 0</td>\n",
        "      <td> 0</td>\n",
        "      <td> 1</td>\n",
        "      <td> 0</td>\n",
        "      <td> 0</td>\n",
        "      <td> 0</td>\n",
        "      <td> 0</td>\n",
        "      <td> 0</td>\n",
        "      <td> 0</td>\n",
        "      <td> 0</td>\n",
        "      <td> 0</td>\n",
        "    </tr>\n",
        "    <tr>\n",
        "      <th>2355</th>\n",
        "      <td>                 zee.nap@gmail.com</td>\n",
        "      <td> 0</td>\n",
        "      <td> 0</td>\n",
        "      <td> 1</td>\n",
        "      <td> 0</td>\n",
        "      <td> 0</td>\n",
        "      <td> 0</td>\n",
        "      <td> 0</td>\n",
        "      <td>  0</td>\n",
        "      <td> 0</td>\n",
        "      <td> 0</td>\n",
        "      <td> 0</td>\n",
        "      <td> 0</td>\n",
        "      <td> 0</td>\n",
        "      <td> 0</td>\n",
        "      <td> 0</td>\n",
        "      <td> 0</td>\n",
        "      <td> 1</td>\n",
        "      <td> 0</td>\n",
        "      <td> 0</td>\n",
        "    </tr>\n",
        "    <tr>\n",
        "      <th>2356</th>\n",
        "      <td>            zeina.kassas@gmail.com</td>\n",
        "      <td> 2</td>\n",
        "      <td> 2</td>\n",
        "      <td> 1</td>\n",
        "      <td> 0</td>\n",
        "      <td> 1</td>\n",
        "      <td> 0</td>\n",
        "      <td> 0</td>\n",
        "      <td>  0</td>\n",
        "      <td> 0</td>\n",
        "      <td> 0</td>\n",
        "      <td> 0</td>\n",
        "      <td> 1</td>\n",
        "      <td> 0</td>\n",
        "      <td> 3</td>\n",
        "      <td> 1</td>\n",
        "      <td> 0</td>\n",
        "      <td> 0</td>\n",
        "      <td> 1</td>\n",
        "      <td> 0</td>\n",
        "    </tr>\n",
        "    <tr>\n",
        "      <th>2357</th>\n",
        "      <td>         zeina_ahmed95@hotmail.com</td>\n",
        "      <td> 1</td>\n",
        "      <td> 0</td>\n",
        "      <td> 0</td>\n",
        "      <td> 0</td>\n",
        "      <td> 0</td>\n",
        "      <td> 0</td>\n",
        "      <td> 0</td>\n",
        "      <td>  0</td>\n",
        "      <td> 0</td>\n",
        "      <td> 0</td>\n",
        "      <td> 0</td>\n",
        "      <td> 0</td>\n",
        "      <td> 0</td>\n",
        "      <td> 0</td>\n",
        "      <td> 0</td>\n",
        "      <td> 0</td>\n",
        "      <td> 0</td>\n",
        "      <td> 1</td>\n",
        "      <td> 0</td>\n",
        "    </tr>\n",
        "    <tr>\n",
        "      <th>2358</th>\n",
        "      <td>            zeina_naim@hotmail.com</td>\n",
        "      <td> 0</td>\n",
        "      <td> 0</td>\n",
        "      <td> 0</td>\n",
        "      <td> 1</td>\n",
        "      <td> 0</td>\n",
        "      <td> 0</td>\n",
        "      <td> 0</td>\n",
        "      <td>  0</td>\n",
        "      <td> 0</td>\n",
        "      <td> 0</td>\n",
        "      <td> 0</td>\n",
        "      <td> 0</td>\n",
        "      <td> 1</td>\n",
        "      <td> 0</td>\n",
        "      <td> 0</td>\n",
        "      <td> 0</td>\n",
        "      <td> 0</td>\n",
        "      <td> 0</td>\n",
        "      <td> 0</td>\n",
        "    </tr>\n",
        "    <tr>\n",
        "      <th>2359</th>\n",
        "      <td>         zeinabahmedtaha@yahoo.com</td>\n",
        "      <td> 0</td>\n",
        "      <td> 0</td>\n",
        "      <td> 0</td>\n",
        "      <td> 0</td>\n",
        "      <td> 0</td>\n",
        "      <td> 1</td>\n",
        "      <td> 0</td>\n",
        "      <td>  0</td>\n",
        "      <td> 0</td>\n",
        "      <td> 0</td>\n",
        "      <td> 0</td>\n",
        "      <td> 0</td>\n",
        "      <td> 0</td>\n",
        "      <td> 0</td>\n",
        "      <td> 0</td>\n",
        "      <td> 1</td>\n",
        "      <td> 0</td>\n",
        "      <td> 0</td>\n",
        "      <td> 0</td>\n",
        "    </tr>\n",
        "    <tr>\n",
        "      <th>2360</th>\n",
        "      <td>      zeinabkhalil2010@hotmail.com</td>\n",
        "      <td> 0</td>\n",
        "      <td> 0</td>\n",
        "      <td> 0</td>\n",
        "      <td> 1</td>\n",
        "      <td> 0</td>\n",
        "      <td> 0</td>\n",
        "      <td> 2</td>\n",
        "      <td>  0</td>\n",
        "      <td> 0</td>\n",
        "      <td> 0</td>\n",
        "      <td> 0</td>\n",
        "      <td> 0</td>\n",
        "      <td> 0</td>\n",
        "      <td> 0</td>\n",
        "      <td> 1</td>\n",
        "      <td> 2</td>\n",
        "      <td> 0</td>\n",
        "      <td> 0</td>\n",
        "      <td> 0</td>\n",
        "    </tr>\n",
        "    <tr>\n",
        "      <th>2361</th>\n",
        "      <td>              zeinabnour@gmail.com</td>\n",
        "      <td> 1</td>\n",
        "      <td> 0</td>\n",
        "      <td> 0</td>\n",
        "      <td> 0</td>\n",
        "      <td> 0</td>\n",
        "      <td> 0</td>\n",
        "      <td> 1</td>\n",
        "      <td>  0</td>\n",
        "      <td> 0</td>\n",
        "      <td> 0</td>\n",
        "      <td> 0</td>\n",
        "      <td> 0</td>\n",
        "      <td> 1</td>\n",
        "      <td> 0</td>\n",
        "      <td> 0</td>\n",
        "      <td> 1</td>\n",
        "      <td> 0</td>\n",
        "      <td> 0</td>\n",
        "      <td> 0</td>\n",
        "    </tr>\n",
        "    <tr>\n",
        "      <th>2362</th>\n",
        "      <td>              zeinahodroj@live.com</td>\n",
        "      <td> 2</td>\n",
        "      <td> 0</td>\n",
        "      <td> 0</td>\n",
        "      <td> 0</td>\n",
        "      <td> 0</td>\n",
        "      <td> 0</td>\n",
        "      <td> 0</td>\n",
        "      <td>  0</td>\n",
        "      <td> 0</td>\n",
        "      <td> 0</td>\n",
        "      <td> 1</td>\n",
        "      <td> 0</td>\n",
        "      <td> 0</td>\n",
        "      <td> 1</td>\n",
        "      <td> 0</td>\n",
        "      <td> 0</td>\n",
        "      <td> 0</td>\n",
        "      <td> 0</td>\n",
        "      <td> 0</td>\n",
        "    </tr>\n",
        "    <tr>\n",
        "      <th>2363</th>\n",
        "      <td>              zeinasabry@gmail.com</td>\n",
        "      <td> 2</td>\n",
        "      <td> 1</td>\n",
        "      <td> 0</td>\n",
        "      <td> 2</td>\n",
        "      <td> 0</td>\n",
        "      <td> 2</td>\n",
        "      <td> 0</td>\n",
        "      <td>  1</td>\n",
        "      <td> 0</td>\n",
        "      <td> 0</td>\n",
        "      <td> 0</td>\n",
        "      <td> 0</td>\n",
        "      <td> 2</td>\n",
        "      <td> 2</td>\n",
        "      <td> 0</td>\n",
        "      <td> 0</td>\n",
        "      <td> 2</td>\n",
        "      <td> 0</td>\n",
        "      <td> 0</td>\n",
        "    </tr>\n",
        "    <tr>\n",
        "      <th>2364</th>\n",
        "      <td>               zeinriham@gmail.com</td>\n",
        "      <td> 0</td>\n",
        "      <td> 1</td>\n",
        "      <td> 1</td>\n",
        "      <td> 0</td>\n",
        "      <td> 0</td>\n",
        "      <td> 0</td>\n",
        "      <td> 0</td>\n",
        "      <td>  1</td>\n",
        "      <td> 0</td>\n",
        "      <td> 0</td>\n",
        "      <td> 0</td>\n",
        "      <td> 0</td>\n",
        "      <td> 1</td>\n",
        "      <td> 0</td>\n",
        "      <td> 0</td>\n",
        "      <td> 0</td>\n",
        "      <td> 0</td>\n",
        "      <td> 0</td>\n",
        "      <td> 0</td>\n",
        "    </tr>\n",
        "    <tr>\n",
        "      <th>2365</th>\n",
        "      <td>           zenaabdelbaky@gmail.com</td>\n",
        "      <td> 0</td>\n",
        "      <td> 0</td>\n",
        "      <td> 1</td>\n",
        "      <td> 0</td>\n",
        "      <td> 0</td>\n",
        "      <td> 1</td>\n",
        "      <td> 0</td>\n",
        "      <td>  0</td>\n",
        "      <td> 1</td>\n",
        "      <td> 0</td>\n",
        "      <td> 0</td>\n",
        "      <td> 0</td>\n",
        "      <td> 0</td>\n",
        "      <td> 0</td>\n",
        "      <td> 0</td>\n",
        "      <td> 0</td>\n",
        "      <td> 1</td>\n",
        "      <td> 0</td>\n",
        "      <td> 0</td>\n",
        "    </tr>\n",
        "    <tr>\n",
        "      <th>2366</th>\n",
        "      <td>            zeyadattalla@yahoo.com</td>\n",
        "      <td> 0</td>\n",
        "      <td> 0</td>\n",
        "      <td> 1</td>\n",
        "      <td> 0</td>\n",
        "      <td> 0</td>\n",
        "      <td> 0</td>\n",
        "      <td> 0</td>\n",
        "      <td>  1</td>\n",
        "      <td> 0</td>\n",
        "      <td> 0</td>\n",
        "      <td> 0</td>\n",
        "      <td> 0</td>\n",
        "      <td> 0</td>\n",
        "      <td> 0</td>\n",
        "      <td> 0</td>\n",
        "      <td> 0</td>\n",
        "      <td> 0</td>\n",
        "      <td> 0</td>\n",
        "      <td> 0</td>\n",
        "    </tr>\n",
        "    <tr>\n",
        "      <th>2367</th>\n",
        "      <td>                ziadihab@gmail.com</td>\n",
        "      <td> 0</td>\n",
        "      <td> 1</td>\n",
        "      <td> 0</td>\n",
        "      <td> 0</td>\n",
        "      <td> 0</td>\n",
        "      <td> 0</td>\n",
        "      <td> 0</td>\n",
        "      <td>  0</td>\n",
        "      <td> 1</td>\n",
        "      <td> 0</td>\n",
        "      <td> 0</td>\n",
        "      <td> 0</td>\n",
        "      <td> 0</td>\n",
        "      <td> 0</td>\n",
        "      <td> 0</td>\n",
        "      <td> 0</td>\n",
        "      <td> 0</td>\n",
        "      <td> 0</td>\n",
        "      <td> 0</td>\n",
        "    </tr>\n",
        "    <tr>\n",
        "      <th>2368</th>\n",
        "      <td>               ziadusama@ymail.com</td>\n",
        "      <td> 0</td>\n",
        "      <td> 0</td>\n",
        "      <td> 0</td>\n",
        "      <td> 0</td>\n",
        "      <td> 0</td>\n",
        "      <td> 0</td>\n",
        "      <td> 1</td>\n",
        "      <td>  0</td>\n",
        "      <td> 0</td>\n",
        "      <td> 0</td>\n",
        "      <td> 0</td>\n",
        "      <td> 0</td>\n",
        "      <td> 1</td>\n",
        "      <td> 0</td>\n",
        "      <td> 0</td>\n",
        "      <td> 0</td>\n",
        "      <td> 0</td>\n",
        "      <td> 0</td>\n",
        "      <td> 0</td>\n",
        "    </tr>\n",
        "    <tr>\n",
        "      <th>2369</th>\n",
        "      <td>               zinelhini@yahoo.com</td>\n",
        "      <td> 0</td>\n",
        "      <td> 1</td>\n",
        "      <td> 0</td>\n",
        "      <td> 0</td>\n",
        "      <td> 0</td>\n",
        "      <td> 0</td>\n",
        "      <td> 0</td>\n",
        "      <td>  0</td>\n",
        "      <td> 0</td>\n",
        "      <td> 0</td>\n",
        "      <td> 0</td>\n",
        "      <td> 0</td>\n",
        "      <td> 0</td>\n",
        "      <td> 0</td>\n",
        "      <td> 0</td>\n",
        "      <td> 1</td>\n",
        "      <td> 0</td>\n",
        "      <td> 0</td>\n",
        "      <td> 0</td>\n",
        "    </tr>\n",
        "    <tr>\n",
        "      <th>2370</th>\n",
        "      <td>                zleseman@gmail.com</td>\n",
        "      <td> 1</td>\n",
        "      <td> 0</td>\n",
        "      <td> 0</td>\n",
        "      <td> 0</td>\n",
        "      <td> 0</td>\n",
        "      <td> 0</td>\n",
        "      <td> 1</td>\n",
        "      <td>  0</td>\n",
        "      <td> 0</td>\n",
        "      <td> 0</td>\n",
        "      <td> 0</td>\n",
        "      <td> 0</td>\n",
        "      <td> 0</td>\n",
        "      <td> 0</td>\n",
        "      <td> 1</td>\n",
        "      <td> 0</td>\n",
        "      <td> 1</td>\n",
        "      <td> 0</td>\n",
        "      <td> 0</td>\n",
        "    </tr>\n",
        "    <tr>\n",
        "      <th>2371</th>\n",
        "      <td>           zolaykha1st@hotmail.com</td>\n",
        "      <td> 0</td>\n",
        "      <td> 0</td>\n",
        "      <td> 0</td>\n",
        "      <td> 0</td>\n",
        "      <td> 0</td>\n",
        "      <td> 0</td>\n",
        "      <td> 1</td>\n",
        "      <td>  0</td>\n",
        "      <td> 0</td>\n",
        "      <td> 0</td>\n",
        "      <td> 0</td>\n",
        "      <td> 1</td>\n",
        "      <td> 0</td>\n",
        "      <td> 0</td>\n",
        "      <td> 0</td>\n",
        "      <td> 0</td>\n",
        "      <td> 0</td>\n",
        "      <td> 0</td>\n",
        "      <td> 0</td>\n",
        "    </tr>\n",
        "    <tr>\n",
        "      <th>2372</th>\n",
        "      <td>               zshafei@outlook.com</td>\n",
        "      <td> 2</td>\n",
        "      <td> 1</td>\n",
        "      <td> 2</td>\n",
        "      <td> 1</td>\n",
        "      <td> 1</td>\n",
        "      <td> 0</td>\n",
        "      <td> 0</td>\n",
        "      <td>  0</td>\n",
        "      <td> 0</td>\n",
        "      <td> 0</td>\n",
        "      <td> 0</td>\n",
        "      <td> 0</td>\n",
        "      <td> 2</td>\n",
        "      <td> 1</td>\n",
        "      <td> 3</td>\n",
        "      <td> 0</td>\n",
        "      <td> 0</td>\n",
        "      <td> 0</td>\n",
        "      <td> 1</td>\n",
        "    </tr>\n",
        "  </tbody>\n",
        "</table>\n",
        "<p>2373 rows \u00d7 20 columns</p>\n",
        "</div>"
       ],
       "metadata": {},
       "output_type": "pyout",
       "prompt_number": 4,
       "text": [
        "                                  Email  Sunday  Monday  Tuesday  Wednesday  \\\n",
        "0            11435mail@mkallenberger.de       1       0        0          0   \n",
        "1                         1@gargour.com       0       0        1          0   \n",
        "2                     1kttate@gmail.com       1       2        0          0   \n",
        "3             1youniqueflower@gmail.com       0       1        1          0   \n",
        "4                    3aliaa.h@gmail.com       1       0        0          0   \n",
        "5              777nadiateirah@gmail.com       0       1        0          0   \n",
        "6                             A2@ed.com       0       0        0          0   \n",
        "7               ASHRAF.M.ZAKI@GMAIL.COM       0       0        0          0   \n",
        "8                  Adhamada@hotmail.com       0       1        0          0   \n",
        "9           Ahmed.Habash@moevenpick.com       0       0        0          0   \n",
        "10    Ahmed.adel.abdelmonam@hotmail.com       0       1        0          0   \n",
        "11              Aliamossallam@gmail.com       5       7        3          1   \n",
        "12          Andrea.Heilman@aucegypt.edu       0       0        2          0   \n",
        "13              Asmaa.ahmed@hotmail.com       0       1        0          1   \n",
        "14               Attia.nevien@gmail.com       0       2        0          0   \n",
        "15                Ayatheone@hotmail.com       0       0        0          0   \n",
        "16                Azzassallam@gmail.com       0       0        0          0   \n",
        "17                    BAGBOUG@yahoo.com       0       0        0          0   \n",
        "18                    Bakryna@gmail.com       0       0        0          1   \n",
        "19              Basmaha2010@hotmail.com       0       0        0          0   \n",
        "20                     Bebi84@gmail.com       2       0        0          1   \n",
        "21                     Biro5s@yahoo.com       0       0        0          0   \n",
        "22          Bouchra_erraiss@hotmail.com       0       0        0          1   \n",
        "23                    Bunny_Chan@web.de       2       0        0          0   \n",
        "24               Buty_Heart@hotmail.com       0       0        0          0   \n",
        "25          Camillia.Marmoush@gmail.com       1       0        0          0   \n",
        "26              Carinesabbagh@gmail.com       7       6        8          5   \n",
        "27                Christine@baramki.com       0       0        0          0   \n",
        "28                 DINA_KADRY@YAHOO.COM       1       0        0          0   \n",
        "29          Dina_eldessouky@hotmail.com       2       1        1          2   \n",
        "...                                 ...     ...     ...      ...        ...   \n",
        "2343               youssefkhalil@me.com       1       0        1          0   \n",
        "2344           youssra.resaie@gmail.com       0       0        1          0   \n",
        "2345                  youssra@gmail.com       0       0        1          0   \n",
        "2346            youssra_kamal@yahoo.com       0       1        2          0   \n",
        "2347          youssraaashmawi@gmail.com       1       0        0          0   \n",
        "2348            yoyothetricky@gmail.com       0       0        1          0   \n",
        "2349                yrelraheb@gmail.com       0       1        0          0   \n",
        "2350                yulbiba@hotmail.com       0       0        0          4   \n",
        "2351              yumnakassim@gmail.com       1       0        0          0   \n",
        "2352               z72addas@hotmail.com       0       1        0          0   \n",
        "2353              zaki.farida@gmail.com       0       0        0          2   \n",
        "2354                zedesem65@gmail.com       0       0        0          0   \n",
        "2355                  zee.nap@gmail.com       0       0        1          0   \n",
        "2356             zeina.kassas@gmail.com       2       2        1          0   \n",
        "2357          zeina_ahmed95@hotmail.com       1       0        0          0   \n",
        "2358             zeina_naim@hotmail.com       0       0        0          1   \n",
        "2359          zeinabahmedtaha@yahoo.com       0       0        0          0   \n",
        "2360       zeinabkhalil2010@hotmail.com       0       0        0          1   \n",
        "2361               zeinabnour@gmail.com       1       0        0          0   \n",
        "2362               zeinahodroj@live.com       2       0        0          0   \n",
        "2363               zeinasabry@gmail.com       2       1        0          2   \n",
        "2364                zeinriham@gmail.com       0       1        1          0   \n",
        "2365            zenaabdelbaky@gmail.com       0       0        1          0   \n",
        "2366             zeyadattalla@yahoo.com       0       0        1          0   \n",
        "2367                 ziadihab@gmail.com       0       1        0          0   \n",
        "2368                ziadusama@ymail.com       0       0        0          0   \n",
        "2369                zinelhini@yahoo.com       0       1        0          0   \n",
        "2370                 zleseman@gmail.com       1       0        0          0   \n",
        "2371            zolaykha1st@hotmail.com       0       0        0          0   \n",
        "2372                zshafei@outlook.com       2       1        2          1   \n",
        "\n",
        "      Thursday  Friday  Saturday  0:00 - 2:00  2:00 - 4:00  4:00 - 6:00  \\\n",
        "0            0       0         0            0            0            0   \n",
        "1            0       0         1            0            0            0   \n",
        "2            1       0         0            0            0            0   \n",
        "3            1       0         0            0            0            0   \n",
        "4            0       1         1            1            1            0   \n",
        "5            0       0         1            0            0            0   \n",
        "6            0       0         1            0            0            0   \n",
        "7            0       1         0            0            0            0   \n",
        "8            0       0         0            0            0            0   \n",
        "9            0       0         1            0            0            0   \n",
        "10           0       0         0            0            1            0   \n",
        "11           1       4         2            2            0            0   \n",
        "12           0       0         2            0            0            0   \n",
        "13           0       0         2            0            0            0   \n",
        "14           0       0         1            0            0            0   \n",
        "15           1       0         0            0            0            0   \n",
        "16           1       0         0            0            0            0   \n",
        "17           0       1         0            1            0            0   \n",
        "18           0       0         0            1            0            0   \n",
        "19           0       0         1            0            0            0   \n",
        "20           0       0         0            0            0            0   \n",
        "21           0       1         0            0            0            0   \n",
        "22           0       0         0            0            0            0   \n",
        "23           0       1         0            0            0            0   \n",
        "24           1       0         0            0            0            0   \n",
        "25           0       0         4            0            0            0   \n",
        "26           4       2         5           10            2            1   \n",
        "27           2       0         0            0            0            0   \n",
        "28           0       0         0            0            0            0   \n",
        "29           0       0         1            1            1            0   \n",
        "...        ...     ...       ...          ...          ...          ...   \n",
        "2343         1       0         0            1            0            0   \n",
        "2344         0       0         0            0            0            0   \n",
        "2345         0       0         0            0            0            0   \n",
        "2346         0       0         0            0            0            0   \n",
        "2347         0       0         0            0            0            0   \n",
        "2348         0       0         1            0            0            0   \n",
        "2349         0       0         0            0            0            0   \n",
        "2350         0       0         0            0            0            0   \n",
        "2351         0       1         0            0            0            0   \n",
        "2352         0       0         0            0            0            0   \n",
        "2353         0       0         3            0            0            0   \n",
        "2354         0       0         1            0            0            0   \n",
        "2355         0       0         0            0            0            0   \n",
        "2356         1       0         0            0            0            0   \n",
        "2357         0       0         0            0            0            0   \n",
        "2358         0       0         0            0            0            0   \n",
        "2359         0       1         0            0            0            0   \n",
        "2360         0       0         2            0            0            0   \n",
        "2361         0       0         1            0            0            0   \n",
        "2362         0       0         0            0            0            0   \n",
        "2363         0       2         0            1            0            0   \n",
        "2364         0       0         0            1            0            0   \n",
        "2365         0       1         0            0            1            0   \n",
        "2366         0       0         0            1            0            0   \n",
        "2367         0       0         0            0            1            0   \n",
        "2368         0       0         1            0            0            0   \n",
        "2369         0       0         0            0            0            0   \n",
        "2370         0       0         1            0            0            0   \n",
        "2371         0       0         1            0            0            0   \n",
        "2372         1       0         0            0            0            0   \n",
        "\n",
        "      6:00 - 8:00  8:00 - 10:00  10:00 - 12:00  12:00 - 14:00  14:00 - 16:00  \\\n",
        "0               0             0              0              0              1   \n",
        "1               0             0              0              0              1   \n",
        "2               0             2              1              1              0   \n",
        "3               0             0              0              1              0   \n",
        "4               0             0              0              0              0   \n",
        "5               0             0              1              1              0   \n",
        "6               0             0              0              1              0   \n",
        "7               0             1              0              0              0   \n",
        "8               0             0              0              0              0   \n",
        "9               0             0              0              0              1   \n",
        "10              0             0              0              0              0   \n",
        "11              0             0              5              5              5   \n",
        "12              0             0              2              2              0   \n",
        "13              0             0              0              0              1   \n",
        "14              0             0              0              0              2   \n",
        "15              0             0              0              0              0   \n",
        "16              0             0              1              0              0   \n",
        "17              0             0              0              0              0   \n",
        "18              0             0              0              0              0   \n",
        "19              0             0              0              0              0   \n",
        "20              0             0              0              1              0   \n",
        "21              0             0              0              0              0   \n",
        "22              0             0              0              1              0   \n",
        "23              0             0              0              1              0   \n",
        "24              0             0              0              0              0   \n",
        "25              0             0              3              2              0   \n",
        "26              0             3              2              3              2   \n",
        "27              0             0              0              1              0   \n",
        "28              0             0              1              0              0   \n",
        "29              0             0              0              2              1   \n",
        "...           ...           ...            ...            ...            ...   \n",
        "2343            0             0              1              0              1   \n",
        "2344            0             0              0              1              0   \n",
        "2345            0             0              0              0              0   \n",
        "2346            0             0              0              2              1   \n",
        "2347            0             0              0              0              0   \n",
        "2348            0             0              0              1              1   \n",
        "2349            0             0              0              1              0   \n",
        "2350            0             0              1              0              0   \n",
        "2351            0             0              0              0              1   \n",
        "2352            0             0              0              0              1   \n",
        "2353            0             0              0              0              1   \n",
        "2354            1             0              0              0              0   \n",
        "2355            0             0              0              0              0   \n",
        "2356            0             1              0              3              1   \n",
        "2357            0             0              0              0              0   \n",
        "2358            0             0              1              0              0   \n",
        "2359            0             0              0              0              0   \n",
        "2360            0             0              0              0              1   \n",
        "2361            0             0              1              0              0   \n",
        "2362            1             0              0              1              0   \n",
        "2363            0             0              2              2              0   \n",
        "2364            0             0              1              0              0   \n",
        "2365            0             0              0              0              0   \n",
        "2366            0             0              0              0              0   \n",
        "2367            0             0              0              0              0   \n",
        "2368            0             0              1              0              0   \n",
        "2369            0             0              0              0              0   \n",
        "2370            0             0              0              0              1   \n",
        "2371            0             1              0              0              0   \n",
        "2372            0             0              2              1              3   \n",
        "\n",
        "      16:00 - 18:00  18:00 - 20:00  20:00 - 22:00  22:00 - 0:00  \n",
        "0                 0              0              0             0  \n",
        "1                 1              0              0             0  \n",
        "2                 0              0              0             0  \n",
        "3                 1              0              0             1  \n",
        "4                 1              0              0             0  \n",
        "5                 0              0              0             0  \n",
        "6                 0              0              0             0  \n",
        "7                 0              0              0             0  \n",
        "8                 0              1              0             0  \n",
        "9                 0              0              0             0  \n",
        "10                0              0              0             0  \n",
        "11                2              2              2             0  \n",
        "12                0              0              0             0  \n",
        "13                2              1              0             0  \n",
        "14                1              0              0             0  \n",
        "15                0              0              0             1  \n",
        "16                0              0              0             0  \n",
        "17                0              0              0             0  \n",
        "18                0              0              0             0  \n",
        "19                0              0              0             1  \n",
        "20                1              0              0             1  \n",
        "21                0              1              0             0  \n",
        "22                0              0              0             0  \n",
        "23                1              0              1             0  \n",
        "24                1              0              0             0  \n",
        "25                0              0              0             0  \n",
        "26                5              2              2             5  \n",
        "27                1              0              0             0  \n",
        "28                0              0              0             0  \n",
        "29                1              0              1             0  \n",
        "...             ...            ...            ...           ...  \n",
        "2343              0              0              0             0  \n",
        "2344              0              0              0             0  \n",
        "2345              1              0              0             0  \n",
        "2346              0              0              0             0  \n",
        "2347              1              0              0             0  \n",
        "2348              0              0              0             0  \n",
        "2349              0              0              0             0  \n",
        "2350              0              1              1             1  \n",
        "2351              0              0              0             1  \n",
        "2352              0              0              0             0  \n",
        "2353              2              2              0             0  \n",
        "2354              0              0              0             0  \n",
        "2355              0              1              0             0  \n",
        "2356              0              0              1             0  \n",
        "2357              0              0              1             0  \n",
        "2358              0              0              0             0  \n",
        "2359              1              0              0             0  \n",
        "2360              2              0              0             0  \n",
        "2361              1              0              0             0  \n",
        "2362              0              0              0             0  \n",
        "2363              0              2              0             0  \n",
        "2364              0              0              0             0  \n",
        "2365              0              1              0             0  \n",
        "2366              0              0              0             0  \n",
        "2367              0              0              0             0  \n",
        "2368              0              0              0             0  \n",
        "2369              1              0              0             0  \n",
        "2370              0              1              0             0  \n",
        "2371              0              0              0             0  \n",
        "2372              0              0              0             1  \n",
        "\n",
        "[2373 rows x 20 columns]"
       ]
      }
     ],
     "prompt_number": 4
    },
    {
     "cell_type": "code",
     "collapsed": false,
     "input": [
      "df.columns = ['Name', 'Revenue', 'Basket Value', 'Segment', 'Email', 'Address', 'Phone' ]\n",
      "df"
     ],
     "language": "python",
     "metadata": {},
     "outputs": [
      {
       "html": [
        "<div style=\"max-height:1000px;max-width:1500px;overflow:auto;\">\n",
        "<table border=\"1\" class=\"dataframe\">\n",
        "  <thead>\n",
        "    <tr style=\"text-align: right;\">\n",
        "      <th></th>\n",
        "      <th>Name</th>\n",
        "      <th>Revenue</th>\n",
        "      <th>Basket Value</th>\n",
        "      <th>Segment</th>\n",
        "      <th>Email</th>\n",
        "      <th>Address</th>\n",
        "      <th>Phone</th>\n",
        "    </tr>\n",
        "  </thead>\n",
        "  <tbody>\n",
        "    <tr>\n",
        "      <th>0   </th>\n",
        "      <td>     Magdalena Kallenberger</td>\n",
        "      <td>   267.17</td>\n",
        "      <td> 267.170000</td>\n",
        "      <td> Fresh Beef &amp; Poultry</td>\n",
        "      <td>             11435mail@mkallenberger.de</td>\n",
        "      <td>                                               NaN</td>\n",
        "      <td>    01090904137</td>\n",
        "    </tr>\n",
        "    <tr>\n",
        "      <th>1   </th>\n",
        "      <td>               Adham Hamada</td>\n",
        "      <td>    61.20</td>\n",
        "      <td>  61.200000</td>\n",
        "      <td> Fresh Beef &amp; Poultry</td>\n",
        "      <td>                   Adhamada@hotmail.com</td>\n",
        "      <td> 5 eskandar el Akbar st. Heliopolis First floor...</td>\n",
        "      <td>    01223221581</td>\n",
        "    </tr>\n",
        "    <tr>\n",
        "      <th>2   </th>\n",
        "      <td>           Fadia Elsenoussi</td>\n",
        "      <td>  1068.43</td>\n",
        "      <td> 356.143333</td>\n",
        "      <td> Fresh Beef &amp; Poultry</td>\n",
        "      <td>              Fadiaelsenoussi@gmail.com</td>\n",
        "      <td>                                               NaN</td>\n",
        "      <td>            NaN</td>\n",
        "    </tr>\n",
        "    <tr>\n",
        "      <th>3   </th>\n",
        "      <td>           Nadine  Chalfoun</td>\n",
        "      <td>   263.39</td>\n",
        "      <td> 263.390000</td>\n",
        "      <td> Fresh Beef &amp; Poultry</td>\n",
        "      <td>                     Nadochal@yahoo.com</td>\n",
        "      <td>                                               NaN</td>\n",
        "      <td>    01223137478</td>\n",
        "    </tr>\n",
        "    <tr>\n",
        "      <th>4   </th>\n",
        "      <td>              Sami Kissouni</td>\n",
        "      <td>   769.26</td>\n",
        "      <td> 769.260000</td>\n",
        "      <td> Fresh Beef &amp; Poultry</td>\n",
        "      <td>                Samikaissouni@gmail.com</td>\n",
        "      <td> 603 west golf,katamia,new cairo go right besid...</td>\n",
        "      <td>    01002141390</td>\n",
        "    </tr>\n",
        "    <tr>\n",
        "      <th>5   </th>\n",
        "      <td>               Karima Kamel</td>\n",
        "      <td>   406.27</td>\n",
        "      <td> 406.270000</td>\n",
        "      <td> Fresh Beef &amp; Poultry</td>\n",
        "      <td>               Yara-Ayman88@hotmail.com</td>\n",
        "      <td>                                               NaN</td>\n",
        "      <td>    01066865829</td>\n",
        "    </tr>\n",
        "    <tr>\n",
        "      <th>6   </th>\n",
        "      <td>                mona  sabry</td>\n",
        "      <td>   311.43</td>\n",
        "      <td> 311.430000</td>\n",
        "      <td> Fresh Beef &amp; Poultry</td>\n",
        "      <td>                 abousense2@hotmail.com</td>\n",
        "      <td> 4 st farok amer floor 5 apartment 9 off mustaf...</td>\n",
        "      <td>    01224437473</td>\n",
        "    </tr>\n",
        "    <tr>\n",
        "      <th>7   </th>\n",
        "      <td>                Amira Morsi</td>\n",
        "      <td>  1084.43</td>\n",
        "      <td> 216.886000</td>\n",
        "      <td> Fresh Beef &amp; Poultry</td>\n",
        "      <td>                amira2amira@hotmail.com</td>\n",
        "      <td>                                               NaN</td>\n",
        "      <td>    01006066179</td>\n",
        "    </tr>\n",
        "    <tr>\n",
        "      <th>8   </th>\n",
        "      <td>             Ashraf Gadalla</td>\n",
        "      <td>   565.14</td>\n",
        "      <td> 565.140000</td>\n",
        "      <td> Fresh Beef &amp; Poultry</td>\n",
        "      <td>              ashrafgadalla@hotmail.com</td>\n",
        "      <td>               34 nasoo7 st floor 9, flat 17 cairo</td>\n",
        "      <td>    01222850061</td>\n",
        "    </tr>\n",
        "    <tr>\n",
        "      <th>9   </th>\n",
        "      <td>              Ahmed Ibrahim</td>\n",
        "      <td>  6967.52</td>\n",
        "      <td> 331.786667</td>\n",
        "      <td> Fresh Beef &amp; Poultry</td>\n",
        "      <td>                      asony11@yahoo.com</td>\n",
        "      <td> 20 Mohamed Ali Elbakli from Elhegaz street nea...</td>\n",
        "      <td>    01152033889</td>\n",
        "    </tr>\n",
        "    <tr>\n",
        "      <th>10  </th>\n",
        "      <td>                  Ayman Auf</td>\n",
        "      <td>   590.78</td>\n",
        "      <td> 590.780000</td>\n",
        "      <td> Fresh Beef &amp; Poultry</td>\n",
        "      <td>                   aymanauf@abu-auf.com</td>\n",
        "      <td> villa 97 katamia hights  eltagamoa el kames  c...</td>\n",
        "      <td>    01005220020</td>\n",
        "    </tr>\n",
        "    <tr>\n",
        "      <th>11  </th>\n",
        "      <td>            amina elzohairy</td>\n",
        "      <td>   322.50</td>\n",
        "      <td> 322.500000</td>\n",
        "      <td> Fresh Beef &amp; Poultry</td>\n",
        "      <td>            baskettagifts@hotmail.co.uk</td>\n",
        "      <td>                                               NaN</td>\n",
        "      <td>    01222258228</td>\n",
        "    </tr>\n",
        "    <tr>\n",
        "      <th>12  </th>\n",
        "      <td>               bassant alaa</td>\n",
        "      <td>   438.22</td>\n",
        "      <td> 438.220000</td>\n",
        "      <td> Fresh Beef &amp; Poultry</td>\n",
        "      <td>              bassantalaa87@hotmail.com</td>\n",
        "      <td> 33 ahmed abd elazez st. mohandssen  flooer 2 a...</td>\n",
        "      <td>    01098688882</td>\n",
        "    </tr>\n",
        "    <tr>\n",
        "      <th>13  </th>\n",
        "      <td>                 Dina Selim</td>\n",
        "      <td>   612.96</td>\n",
        "      <td> 204.320000</td>\n",
        "      <td> Fresh Beef &amp; Poultry</td>\n",
        "      <td>                 deenaselim@hotmail.com</td>\n",
        "      <td> 21 Adan street, off Shehab street Floor 6, Apa...</td>\n",
        "      <td>    01001150138</td>\n",
        "    </tr>\n",
        "    <tr>\n",
        "      <th>14  </th>\n",
        "      <td>               Daniel Cowan</td>\n",
        "      <td>   544.42</td>\n",
        "      <td> 544.420000</td>\n",
        "      <td> Fresh Beef &amp; Poultry</td>\n",
        "      <td>                    dicowan@hotmail.com</td>\n",
        "      <td> Apartment 4 3rd floor first door, Villa 204 Ro...</td>\n",
        "      <td>    01274335519</td>\n",
        "    </tr>\n",
        "    <tr>\n",
        "      <th>15  </th>\n",
        "      <td>                 Dina Moheb</td>\n",
        "      <td>   179.65</td>\n",
        "      <td> 179.650000</td>\n",
        "      <td> Fresh Beef &amp; Poultry</td>\n",
        "      <td>                    dinamf@aucegypt.edu</td>\n",
        "      <td>                                               NaN</td>\n",
        "      <td>    01223315939</td>\n",
        "    </tr>\n",
        "    <tr>\n",
        "      <th>16  </th>\n",
        "      <td> djamila benderbous Kafoufi</td>\n",
        "      <td> 15930.15</td>\n",
        "      <td> 497.817187</td>\n",
        "      <td> Fresh Beef &amp; Poultry</td>\n",
        "      <td>           djamila.benderbous@gmail.com</td>\n",
        "      <td> El Gazira Street, Smart Life Compound,Tagamo3 ...</td>\n",
        "      <td>    01229918886</td>\n",
        "    </tr>\n",
        "    <tr>\n",
        "      <th>17  </th>\n",
        "      <td>               Dalia Hashem</td>\n",
        "      <td>   599.85</td>\n",
        "      <td> 149.962500</td>\n",
        "      <td> Fresh Beef &amp; Poultry</td>\n",
        "      <td>                     dollydou@yahoo.com</td>\n",
        "      <td>                                               NaN</td>\n",
        "      <td>    01001809011</td>\n",
        "    </tr>\n",
        "    <tr>\n",
        "      <th>18  </th>\n",
        "      <td>                heba  eissa</td>\n",
        "      <td>   365.73</td>\n",
        "      <td> 182.865000</td>\n",
        "      <td> Fresh Beef &amp; Poultry</td>\n",
        "      <td>                 eissa.heba@hotmail.com</td>\n",
        "      <td>            49 green heights  6th of October Cairo</td>\n",
        "      <td>    01005697777</td>\n",
        "    </tr>\n",
        "    <tr>\n",
        "      <th>19  </th>\n",
        "      <td>               Faheem Undre</td>\n",
        "      <td>   412.75</td>\n",
        "      <td> 412.750000</td>\n",
        "      <td> Fresh Beef &amp; Poultry</td>\n",
        "      <td>                     fundre@hotmail.com</td>\n",
        "      <td>             group 95, building 7 flat 54 al rehab</td>\n",
        "      <td>    01091457427</td>\n",
        "    </tr>\n",
        "    <tr>\n",
        "      <th>20  </th>\n",
        "      <td>                Gehan Basta</td>\n",
        "      <td>   379.20</td>\n",
        "      <td> 379.200000</td>\n",
        "      <td> Fresh Beef &amp; Poultry</td>\n",
        "      <td>                    gtbasta@hotmail.com</td>\n",
        "      <td>                                               NaN</td>\n",
        "      <td>    01222185502</td>\n",
        "    </tr>\n",
        "    <tr>\n",
        "      <th>21  </th>\n",
        "      <td>              Hala  Youssef</td>\n",
        "      <td>    86.12</td>\n",
        "      <td>  86.120000</td>\n",
        "      <td> Fresh Beef &amp; Poultry</td>\n",
        "      <td>                halayoussef@hotmail.com</td>\n",
        "      <td> 19 mohamed youssif el kady, koleyet el banat r...</td>\n",
        "      <td>    01005771586</td>\n",
        "    </tr>\n",
        "    <tr>\n",
        "      <th>22  </th>\n",
        "      <td>                  heba mhmd</td>\n",
        "      <td>   853.90</td>\n",
        "      <td> 426.950000</td>\n",
        "      <td> Fresh Beef &amp; Poultry</td>\n",
        "      <td>              heba_bibo2001@hotmail.com</td>\n",
        "      <td>                                               NaN</td>\n",
        "      <td>            NaN</td>\n",
        "    </tr>\n",
        "    <tr>\n",
        "      <th>23  </th>\n",
        "      <td>                Hoda Radwan</td>\n",
        "      <td>   812.00</td>\n",
        "      <td> 812.000000</td>\n",
        "      <td> Fresh Beef &amp; Poultry</td>\n",
        "      <td>                hoda.radwan@nielsen.com</td>\n",
        "      <td> 280A Palm Hills. 6th of October. 4th Phase - Y...</td>\n",
        "      <td>    01223956550</td>\n",
        "    </tr>\n",
        "    <tr>\n",
        "      <th>24  </th>\n",
        "      <td>                Silvia Vila</td>\n",
        "      <td>    78.00</td>\n",
        "      <td>  78.000000</td>\n",
        "      <td> Fresh Beef &amp; Poultry</td>\n",
        "      <td>                  hossamfan@hotmail.com</td>\n",
        "      <td>                                               NaN</td>\n",
        "      <td>            NaN</td>\n",
        "    </tr>\n",
        "    <tr>\n",
        "      <th>25  </th>\n",
        "      <td>            Iman El begermy</td>\n",
        "      <td>   297.32</td>\n",
        "      <td> 148.660000</td>\n",
        "      <td> Fresh Beef &amp; Poultry</td>\n",
        "      <td>                imanelbegermy@yahoo.com</td>\n",
        "      <td>                                               NaN</td>\n",
        "      <td>    01222170441</td>\n",
        "    </tr>\n",
        "    <tr>\n",
        "      <th>26  </th>\n",
        "      <td>                  Jane wick</td>\n",
        "      <td>   670.31</td>\n",
        "      <td> 335.155000</td>\n",
        "      <td> Fresh Beef &amp; Poultry</td>\n",
        "      <td>                         jane@eshco.net</td>\n",
        "      <td> 8, khaled ibn l walid, masaken sheraton fllor ...</td>\n",
        "      <td>    01211114396</td>\n",
        "    </tr>\n",
        "    <tr>\n",
        "      <th>27  </th>\n",
        "      <td>        christine   girguis</td>\n",
        "      <td>  4443.37</td>\n",
        "      <td> 143.334516</td>\n",
        "      <td> Fresh Beef &amp; Poultry</td>\n",
        "      <td>                       krisyg@gmail.com</td>\n",
        "      <td> 3 abdlmonaem hafez st.off elnozha st. Heliopol...</td>\n",
        "      <td>    01221111032</td>\n",
        "    </tr>\n",
        "    <tr>\n",
        "      <th>28  </th>\n",
        "      <td>            Lesley Forsythe</td>\n",
        "      <td>  1363.57</td>\n",
        "      <td> 340.892500</td>\n",
        "      <td> Fresh Beef &amp; Poultry</td>\n",
        "      <td>             lesleyforsythe@hotmail.com</td>\n",
        "      <td> Apartment 61, Building 7, Group 23 Madinaty Cairo</td>\n",
        "      <td>    01146855637</td>\n",
        "    </tr>\n",
        "    <tr>\n",
        "      <th>29  </th>\n",
        "      <td>              Iman Matbouli</td>\n",
        "      <td>   377.40</td>\n",
        "      <td> 377.400000</td>\n",
        "      <td> Fresh Beef &amp; Poultry</td>\n",
        "      <td>                   manno505@hotmail.com</td>\n",
        "      <td> 13 seliman abd el aziz selim st, floor 3, Flat...</td>\n",
        "      <td>   012224559490</td>\n",
        "    </tr>\n",
        "    <tr>\n",
        "      <th>...</th>\n",
        "      <td>...</td>\n",
        "      <td>...</td>\n",
        "      <td>...</td>\n",
        "      <td>...</td>\n",
        "      <td>...</td>\n",
        "      <td>...</td>\n",
        "      <td>...</td>\n",
        "    </tr>\n",
        "    <tr>\n",
        "      <th>2304</th>\n",
        "      <td>                Hala Mekawy</td>\n",
        "      <td>    16.00</td>\n",
        "      <td>  16.000000</td>\n",
        "      <td>                  NaN</td>\n",
        "      <td>                  halamekkawy@yahoo.com</td>\n",
        "      <td> 7 omar ebn elkhattab*from 263 st*new maadi*on ...</td>\n",
        "      <td>    01001623398</td>\n",
        "    </tr>\n",
        "    <tr>\n",
        "      <th>2305</th>\n",
        "      <td>              ashraf abdeen</td>\n",
        "      <td>   177.00</td>\n",
        "      <td> 177.000000</td>\n",
        "      <td>                  NaN</td>\n",
        "      <td>                     abdeen20@gmail.com</td>\n",
        "      <td>                                               NaN</td>\n",
        "      <td>    01006098777</td>\n",
        "    </tr>\n",
        "    <tr>\n",
        "      <th>2306</th>\n",
        "      <td>                 Amr Shokry</td>\n",
        "      <td>   144.00</td>\n",
        "      <td> 144.000000</td>\n",
        "      <td>                  NaN</td>\n",
        "      <td>                    e.khairy5@gmail.com</td>\n",
        "      <td> 13 ezat salama st. from abas el akad st.beside...</td>\n",
        "      <td>    01227716679</td>\n",
        "    </tr>\n",
        "    <tr>\n",
        "      <th>2307</th>\n",
        "      <td>             Nermin Mohamed</td>\n",
        "      <td>   286.50</td>\n",
        "      <td> 286.500000</td>\n",
        "      <td>                  NaN</td>\n",
        "      <td>              rosy_cheek_86@hotmail.com</td>\n",
        "      <td>  \u062a\u0642\u0627\u0637\u0639 \u0634\u0627\u0631\u0639 \u0627\u0644\u062d\u0644\u0648 \u0645\u0639 \u0627\u0644\u0641\u0627\u0644\u0648\u062c\u0627 \u0639\u0645\u0627\u0631\u0629 \u0647\u0627\u064a\u0628\u0631 \u0627\u0648\u0644\u0627...</td>\n",
        "      <td>    01212489643</td>\n",
        "    </tr>\n",
        "    <tr>\n",
        "      <th>2308</th>\n",
        "      <td>                Rola Moemen</td>\n",
        "      <td>   100.00</td>\n",
        "      <td> 100.000000</td>\n",
        "      <td>                  NaN</td>\n",
        "      <td>                   rola.magdy@gmail.com</td>\n",
        "      <td> 45 el madina el monawara street, mohandiseen 4...</td>\n",
        "      <td> 00201274009995</td>\n",
        "    </tr>\n",
        "    <tr>\n",
        "      <th>2309</th>\n",
        "      <td>         Maie  El Nomrossy </td>\n",
        "      <td>  2915.20</td>\n",
        "      <td> 323.911111</td>\n",
        "      <td>                  NaN</td>\n",
        "      <td>                maie.nomrossy@gmail.com</td>\n",
        "      <td>                  110 el marghany street 24 cairo </td>\n",
        "      <td>    01222134021</td>\n",
        "    </tr>\n",
        "    <tr>\n",
        "      <th>2310</th>\n",
        "      <td>               Amina Shafik</td>\n",
        "      <td>    45.00</td>\n",
        "      <td>  45.000000</td>\n",
        "      <td>                  NaN</td>\n",
        "      <td>                aminashafik25@gmail.com</td>\n",
        "      <td>  takseem elaselky madina mnwara st. maady elma...</td>\n",
        "      <td>    01003838702</td>\n",
        "    </tr>\n",
        "    <tr>\n",
        "      <th>2311</th>\n",
        "      <td>                Hans  Dirix</td>\n",
        "      <td>   180.00</td>\n",
        "      <td> 180.000000</td>\n",
        "      <td>                  NaN</td>\n",
        "      <td>                   hans.dirix@gmail.com</td>\n",
        "      <td>                          Elgouna Elgouna Hurghada</td>\n",
        "      <td>    01270687640</td>\n",
        "    </tr>\n",
        "    <tr>\n",
        "      <th>2312</th>\n",
        "      <td>            Mostafa Mahmoud</td>\n",
        "      <td>   174.00</td>\n",
        "      <td>  87.000000</td>\n",
        "      <td>                  NaN</td>\n",
        "      <td>                 moustafam692@gmail.com</td>\n",
        "      <td>                                               NaN</td>\n",
        "      <td>    01013301511</td>\n",
        "    </tr>\n",
        "    <tr>\n",
        "      <th>2313</th>\n",
        "      <td>                  Maha Nagy</td>\n",
        "      <td>    80.00</td>\n",
        "      <td>  80.000000</td>\n",
        "      <td>                  NaN</td>\n",
        "      <td>                     mahanagy@gmail.com</td>\n",
        "      <td> 24 Road, 200, Digla, Maadi apt.21, 2nd floor C...</td>\n",
        "      <td>  +201005857070</td>\n",
        "    </tr>\n",
        "    <tr>\n",
        "      <th>2314</th>\n",
        "      <td>               Maha Hussein</td>\n",
        "      <td>  1066.00</td>\n",
        "      <td> 355.333333</td>\n",
        "      <td>                  NaN</td>\n",
        "      <td>                 hussein.maha@gmail.com</td>\n",
        "      <td>            26 Boulus Hanna Street, Dokky 23 Cairo</td>\n",
        "      <td>    01223107827</td>\n",
        "    </tr>\n",
        "    <tr>\n",
        "      <th>2315</th>\n",
        "      <td>         Charlotte Longmuir</td>\n",
        "      <td>   300.00</td>\n",
        "      <td> 300.000000</td>\n",
        "      <td>                  NaN</td>\n",
        "      <td>                chalongmuir@yahoo.co.uk</td>\n",
        "      <td>                                               NaN</td>\n",
        "      <td>    01227654998</td>\n",
        "    </tr>\n",
        "    <tr>\n",
        "      <th>2316</th>\n",
        "      <td>             Sarah Alshanti</td>\n",
        "      <td>   300.00</td>\n",
        "      <td> 300.000000</td>\n",
        "      <td>                  NaN</td>\n",
        "      <td>                       soshanti@aol.com</td>\n",
        "      <td>               23 katamya plaza 3rd floor 33 Cairo</td>\n",
        "      <td>    01000603100</td>\n",
        "    </tr>\n",
        "    <tr>\n",
        "      <th>2317</th>\n",
        "      <td>              Tatiana Fouda</td>\n",
        "      <td>   618.00</td>\n",
        "      <td> 206.000000</td>\n",
        "      <td>                  NaN</td>\n",
        "      <td>                       tfoda3@yahoo.com</td>\n",
        "      <td>                                               NaN</td>\n",
        "      <td>    01221080261</td>\n",
        "    </tr>\n",
        "    <tr>\n",
        "      <th>2318</th>\n",
        "      <td>            Sherine   Galal</td>\n",
        "      <td>   631.00</td>\n",
        "      <td> 210.333333</td>\n",
        "      <td>                  NaN</td>\n",
        "      <td>                sherine.galal@yahoo.com</td>\n",
        "      <td> 8/12 El Togary street, zahraa el maadi (villa)...</td>\n",
        "      <td>    01001445127</td>\n",
        "    </tr>\n",
        "    <tr>\n",
        "      <th>2319</th>\n",
        "      <td>           Assmaa Almaairgy</td>\n",
        "      <td>   245.00</td>\n",
        "      <td> 245.000000</td>\n",
        "      <td>                  NaN</td>\n",
        "      <td>                samalmaairgy_8@live.com</td>\n",
        "      <td> 91 Gesr El suez St,Heliopolis 7th floor ,apt 7...</td>\n",
        "      <td>    01273187632</td>\n",
        "    </tr>\n",
        "    <tr>\n",
        "      <th>2320</th>\n",
        "      <td>             Mourad Mohamed</td>\n",
        "      <td>   174.00</td>\n",
        "      <td> 174.000000</td>\n",
        "      <td>                  NaN</td>\n",
        "      <td>     mourad_mohamed@rayarestaurants.com</td>\n",
        "      <td>                                               NaN</td>\n",
        "      <td>    01005809345</td>\n",
        "    </tr>\n",
        "    <tr>\n",
        "      <th>2321</th>\n",
        "      <td>         Ahmed Abdel Rahman</td>\n",
        "      <td>    68.00</td>\n",
        "      <td>  68.000000</td>\n",
        "      <td>                  NaN</td>\n",
        "      <td>                    yousrayam@yahoo.com</td>\n",
        "      <td> 5 Mohamed Zaghloul from Mohamed ghoneim street...</td>\n",
        "      <td>    01222145015</td>\n",
        "    </tr>\n",
        "    <tr>\n",
        "      <th>2322</th>\n",
        "      <td>                Sahar Saleh</td>\n",
        "      <td>  1254.73</td>\n",
        "      <td> 250.946000</td>\n",
        "      <td>                  NaN</td>\n",
        "      <td> anass.elwogoud.importnexport@gmail.com</td>\n",
        "      <td>                                               NaN</td>\n",
        "      <td>    01116757467</td>\n",
        "    </tr>\n",
        "    <tr>\n",
        "      <th>2323</th>\n",
        "      <td>                 Hoda Hosny</td>\n",
        "      <td>   142.00</td>\n",
        "      <td> 142.000000</td>\n",
        "      <td>                  NaN</td>\n",
        "      <td>                      hodzyta@gmail.com</td>\n",
        "      <td>       16 rd 262, bldg 16 a new maadi apt 1  Cairo</td>\n",
        "      <td>    01003400660</td>\n",
        "    </tr>\n",
        "    <tr>\n",
        "      <th>2324</th>\n",
        "      <td>              Wafa  Zemouli</td>\n",
        "      <td>    98.00</td>\n",
        "      <td>  98.000000</td>\n",
        "      <td>                  NaN</td>\n",
        "      <td>                   wzemouli@hotmail.com</td>\n",
        "      <td> New Cairo - tagalo3 5  Are 6 - street 1 - vill...</td>\n",
        "      <td>    01119233335</td>\n",
        "    </tr>\n",
        "    <tr>\n",
        "      <th>2325</th>\n",
        "      <td>               amal ibrahim</td>\n",
        "      <td>   116.75</td>\n",
        "      <td> 116.750000</td>\n",
        "      <td>                  NaN</td>\n",
        "      <td>            amalibrahimsaad@hotmail.com</td>\n",
        "      <td> cairo 66 corneish el nile borg zahraa el maadi...</td>\n",
        "      <td>    01286940687</td>\n",
        "    </tr>\n",
        "    <tr>\n",
        "      <th>2326</th>\n",
        "      <td>          Branka Filipovich</td>\n",
        "      <td>   162.00</td>\n",
        "      <td>  81.000000</td>\n",
        "      <td>                  NaN</td>\n",
        "      <td>              brankafilipovic@yahoo.com</td>\n",
        "      <td>                                               NaN</td>\n",
        "      <td>    01277005889</td>\n",
        "    </tr>\n",
        "    <tr>\n",
        "      <th>2327</th>\n",
        "      <td>                Ahmed Tarek</td>\n",
        "      <td>    48.00</td>\n",
        "      <td>  48.000000</td>\n",
        "      <td>                  NaN</td>\n",
        "      <td>                    a.tarek87@gmail.com</td>\n",
        "      <td>                                               NaN</td>\n",
        "      <td>  +201006444655</td>\n",
        "    </tr>\n",
        "    <tr>\n",
        "      <th>2328</th>\n",
        "      <td>           Hoda Abdel shafi</td>\n",
        "      <td>   212.00</td>\n",
        "      <td> 212.000000</td>\n",
        "      <td>                  NaN</td>\n",
        "      <td>               hodaraafat1980@gmail.com</td>\n",
        "      <td>                                               NaN</td>\n",
        "      <td>    01222225092</td>\n",
        "    </tr>\n",
        "    <tr>\n",
        "      <th>2329</th>\n",
        "      <td>        Riham El Batanouny </td>\n",
        "      <td>   120.00</td>\n",
        "      <td> 120.000000</td>\n",
        "      <td>                  NaN</td>\n",
        "      <td>                 relbatanouny@yahoo.com</td>\n",
        "      <td>         18 Ibn Bassam st, nouzha Apt 4 Heliopolis</td>\n",
        "      <td>  +201222152653</td>\n",
        "    </tr>\n",
        "    <tr>\n",
        "      <th>2330</th>\n",
        "      <td>                Rawya Karim</td>\n",
        "      <td>   371.00</td>\n",
        "      <td> 371.000000</td>\n",
        "      <td>                  NaN</td>\n",
        "      <td>                 rawyakarim@hotmail.com</td>\n",
        "      <td>         share11 st. from wahib dos Villa 21 Cairo</td>\n",
        "      <td>    01002106858</td>\n",
        "    </tr>\n",
        "    <tr>\n",
        "      <th>2331</th>\n",
        "      <td>                Reham Ezzat</td>\n",
        "      <td>   138.75</td>\n",
        "      <td> 138.750000</td>\n",
        "      <td>                  NaN</td>\n",
        "      <td>    flying_without_wingso2o@hotmail.com</td>\n",
        "      <td>                                               NaN</td>\n",
        "      <td>    01111222091</td>\n",
        "    </tr>\n",
        "    <tr>\n",
        "      <th>2332</th>\n",
        "      <td>      Subscriber Newsletter</td>\n",
        "      <td>  1915.07</td>\n",
        "      <td> 638.356667</td>\n",
        "      <td>                  NaN</td>\n",
        "      <td>     crobertson@melroseresources-eg.com</td>\n",
        "      <td>          Apartment 23 47 canal street Maadi Cairo</td>\n",
        "      <td>    01000079716</td>\n",
        "    </tr>\n",
        "    <tr>\n",
        "      <th>2333</th>\n",
        "      <td>              Omaima Korraa</td>\n",
        "      <td>   260.18</td>\n",
        "      <td> 260.180000</td>\n",
        "      <td>                  NaN</td>\n",
        "      <td> secretary.management@odeontours.com.eg</td>\n",
        "      <td>                                               NaN</td>\n",
        "      <td>    01144406375</td>\n",
        "    </tr>\n",
        "  </tbody>\n",
        "</table>\n",
        "<p>2334 rows \u00d7 7 columns</p>\n",
        "</div>"
       ],
       "metadata": {},
       "output_type": "pyout",
       "prompt_number": 5,
       "text": [
        "                            Name   Revenue  Basket Value  \\\n",
        "0         Magdalena Kallenberger    267.17    267.170000   \n",
        "1                   Adham Hamada     61.20     61.200000   \n",
        "2               Fadia Elsenoussi   1068.43    356.143333   \n",
        "3               Nadine  Chalfoun    263.39    263.390000   \n",
        "4                  Sami Kissouni    769.26    769.260000   \n",
        "5                   Karima Kamel    406.27    406.270000   \n",
        "6                    mona  sabry    311.43    311.430000   \n",
        "7                    Amira Morsi   1084.43    216.886000   \n",
        "8                 Ashraf Gadalla    565.14    565.140000   \n",
        "9                  Ahmed Ibrahim   6967.52    331.786667   \n",
        "10                     Ayman Auf    590.78    590.780000   \n",
        "11               amina elzohairy    322.50    322.500000   \n",
        "12                  bassant alaa    438.22    438.220000   \n",
        "13                    Dina Selim    612.96    204.320000   \n",
        "14                  Daniel Cowan    544.42    544.420000   \n",
        "15                    Dina Moheb    179.65    179.650000   \n",
        "16    djamila benderbous Kafoufi  15930.15    497.817187   \n",
        "17                  Dalia Hashem    599.85    149.962500   \n",
        "18                   heba  eissa    365.73    182.865000   \n",
        "19                  Faheem Undre    412.75    412.750000   \n",
        "20                   Gehan Basta    379.20    379.200000   \n",
        "21                 Hala  Youssef     86.12     86.120000   \n",
        "22                     heba mhmd    853.90    426.950000   \n",
        "23                   Hoda Radwan    812.00    812.000000   \n",
        "24                   Silvia Vila     78.00     78.000000   \n",
        "25               Iman El begermy    297.32    148.660000   \n",
        "26                     Jane wick    670.31    335.155000   \n",
        "27           christine   girguis   4443.37    143.334516   \n",
        "28               Lesley Forsythe   1363.57    340.892500   \n",
        "29                 Iman Matbouli    377.40    377.400000   \n",
        "...                          ...       ...           ...   \n",
        "2304                 Hala Mekawy     16.00     16.000000   \n",
        "2305               ashraf abdeen    177.00    177.000000   \n",
        "2306                  Amr Shokry    144.00    144.000000   \n",
        "2307              Nermin Mohamed    286.50    286.500000   \n",
        "2308                 Rola Moemen    100.00    100.000000   \n",
        "2309          Maie  El Nomrossy    2915.20    323.911111   \n",
        "2310                Amina Shafik     45.00     45.000000   \n",
        "2311                 Hans  Dirix    180.00    180.000000   \n",
        "2312             Mostafa Mahmoud    174.00     87.000000   \n",
        "2313                   Maha Nagy     80.00     80.000000   \n",
        "2314                Maha Hussein   1066.00    355.333333   \n",
        "2315          Charlotte Longmuir    300.00    300.000000   \n",
        "2316              Sarah Alshanti    300.00    300.000000   \n",
        "2317               Tatiana Fouda    618.00    206.000000   \n",
        "2318             Sherine   Galal    631.00    210.333333   \n",
        "2319            Assmaa Almaairgy    245.00    245.000000   \n",
        "2320              Mourad Mohamed    174.00    174.000000   \n",
        "2321          Ahmed Abdel Rahman     68.00     68.000000   \n",
        "2322                 Sahar Saleh   1254.73    250.946000   \n",
        "2323                  Hoda Hosny    142.00    142.000000   \n",
        "2324               Wafa  Zemouli     98.00     98.000000   \n",
        "2325                amal ibrahim    116.75    116.750000   \n",
        "2326           Branka Filipovich    162.00     81.000000   \n",
        "2327                 Ahmed Tarek     48.00     48.000000   \n",
        "2328            Hoda Abdel shafi    212.00    212.000000   \n",
        "2329         Riham El Batanouny     120.00    120.000000   \n",
        "2330                 Rawya Karim    371.00    371.000000   \n",
        "2331                 Reham Ezzat    138.75    138.750000   \n",
        "2332       Subscriber Newsletter   1915.07    638.356667   \n",
        "2333               Omaima Korraa    260.18    260.180000   \n",
        "\n",
        "                   Segment                                   Email  \\\n",
        "0     Fresh Beef & Poultry              11435mail@mkallenberger.de   \n",
        "1     Fresh Beef & Poultry                    Adhamada@hotmail.com   \n",
        "2     Fresh Beef & Poultry               Fadiaelsenoussi@gmail.com   \n",
        "3     Fresh Beef & Poultry                      Nadochal@yahoo.com   \n",
        "4     Fresh Beef & Poultry                 Samikaissouni@gmail.com   \n",
        "5     Fresh Beef & Poultry                Yara-Ayman88@hotmail.com   \n",
        "6     Fresh Beef & Poultry                  abousense2@hotmail.com   \n",
        "7     Fresh Beef & Poultry                 amira2amira@hotmail.com   \n",
        "8     Fresh Beef & Poultry               ashrafgadalla@hotmail.com   \n",
        "9     Fresh Beef & Poultry                       asony11@yahoo.com   \n",
        "10    Fresh Beef & Poultry                    aymanauf@abu-auf.com   \n",
        "11    Fresh Beef & Poultry             baskettagifts@hotmail.co.uk   \n",
        "12    Fresh Beef & Poultry               bassantalaa87@hotmail.com   \n",
        "13    Fresh Beef & Poultry                  deenaselim@hotmail.com   \n",
        "14    Fresh Beef & Poultry                     dicowan@hotmail.com   \n",
        "15    Fresh Beef & Poultry                     dinamf@aucegypt.edu   \n",
        "16    Fresh Beef & Poultry            djamila.benderbous@gmail.com   \n",
        "17    Fresh Beef & Poultry                      dollydou@yahoo.com   \n",
        "18    Fresh Beef & Poultry                  eissa.heba@hotmail.com   \n",
        "19    Fresh Beef & Poultry                      fundre@hotmail.com   \n",
        "20    Fresh Beef & Poultry                     gtbasta@hotmail.com   \n",
        "21    Fresh Beef & Poultry                 halayoussef@hotmail.com   \n",
        "22    Fresh Beef & Poultry               heba_bibo2001@hotmail.com   \n",
        "23    Fresh Beef & Poultry                 hoda.radwan@nielsen.com   \n",
        "24    Fresh Beef & Poultry                   hossamfan@hotmail.com   \n",
        "25    Fresh Beef & Poultry                 imanelbegermy@yahoo.com   \n",
        "26    Fresh Beef & Poultry                          jane@eshco.net   \n",
        "27    Fresh Beef & Poultry                        krisyg@gmail.com   \n",
        "28    Fresh Beef & Poultry              lesleyforsythe@hotmail.com   \n",
        "29    Fresh Beef & Poultry                    manno505@hotmail.com   \n",
        "...                    ...                                     ...   \n",
        "2304                   NaN                   halamekkawy@yahoo.com   \n",
        "2305                   NaN                      abdeen20@gmail.com   \n",
        "2306                   NaN                     e.khairy5@gmail.com   \n",
        "2307                   NaN               rosy_cheek_86@hotmail.com   \n",
        "2308                   NaN                    rola.magdy@gmail.com   \n",
        "2309                   NaN                 maie.nomrossy@gmail.com   \n",
        "2310                   NaN                 aminashafik25@gmail.com   \n",
        "2311                   NaN                    hans.dirix@gmail.com   \n",
        "2312                   NaN                  moustafam692@gmail.com   \n",
        "2313                   NaN                      mahanagy@gmail.com   \n",
        "2314                   NaN                  hussein.maha@gmail.com   \n",
        "2315                   NaN                 chalongmuir@yahoo.co.uk   \n",
        "2316                   NaN                        soshanti@aol.com   \n",
        "2317                   NaN                        tfoda3@yahoo.com   \n",
        "2318                   NaN                 sherine.galal@yahoo.com   \n",
        "2319                   NaN                 samalmaairgy_8@live.com   \n",
        "2320                   NaN      mourad_mohamed@rayarestaurants.com   \n",
        "2321                   NaN                     yousrayam@yahoo.com   \n",
        "2322                   NaN  anass.elwogoud.importnexport@gmail.com   \n",
        "2323                   NaN                       hodzyta@gmail.com   \n",
        "2324                   NaN                    wzemouli@hotmail.com   \n",
        "2325                   NaN             amalibrahimsaad@hotmail.com   \n",
        "2326                   NaN               brankafilipovic@yahoo.com   \n",
        "2327                   NaN                     a.tarek87@gmail.com   \n",
        "2328                   NaN                hodaraafat1980@gmail.com   \n",
        "2329                   NaN                  relbatanouny@yahoo.com   \n",
        "2330                   NaN                  rawyakarim@hotmail.com   \n",
        "2331                   NaN     flying_without_wingso2o@hotmail.com   \n",
        "2332                   NaN      crobertson@melroseresources-eg.com   \n",
        "2333                   NaN  secretary.management@odeontours.com.eg   \n",
        "\n",
        "                                                Address           Phone  \n",
        "0                                                   NaN     01090904137  \n",
        "1     5 eskandar el Akbar st. Heliopolis First floor...     01223221581  \n",
        "2                                                   NaN             NaN  \n",
        "3                                                   NaN     01223137478  \n",
        "4     603 west golf,katamia,new cairo go right besid...     01002141390  \n",
        "5                                                   NaN     01066865829  \n",
        "6     4 st farok amer floor 5 apartment 9 off mustaf...     01224437473  \n",
        "7                                                   NaN     01006066179  \n",
        "8                   34 nasoo7 st floor 9, flat 17 cairo     01222850061  \n",
        "9     20 Mohamed Ali Elbakli from Elhegaz street nea...     01152033889  \n",
        "10    villa 97 katamia hights  eltagamoa el kames  c...     01005220020  \n",
        "11                                                  NaN     01222258228  \n",
        "12    33 ahmed abd elazez st. mohandssen  flooer 2 a...     01098688882  \n",
        "13    21 Adan street, off Shehab street Floor 6, Apa...     01001150138  \n",
        "14    Apartment 4 3rd floor first door, Villa 204 Ro...     01274335519  \n",
        "15                                                  NaN     01223315939  \n",
        "16    El Gazira Street, Smart Life Compound,Tagamo3 ...     01229918886  \n",
        "17                                                  NaN     01001809011  \n",
        "18               49 green heights  6th of October Cairo     01005697777  \n",
        "19                group 95, building 7 flat 54 al rehab     01091457427  \n",
        "20                                                  NaN     01222185502  \n",
        "21    19 mohamed youssif el kady, koleyet el banat r...     01005771586  \n",
        "22                                                  NaN             NaN  \n",
        "23    280A Palm Hills. 6th of October. 4th Phase - Y...     01223956550  \n",
        "24                                                  NaN             NaN  \n",
        "25                                                  NaN     01222170441  \n",
        "26    8, khaled ibn l walid, masaken sheraton fllor ...     01211114396  \n",
        "27    3 abdlmonaem hafez st.off elnozha st. Heliopol...     01221111032  \n",
        "28    Apartment 61, Building 7, Group 23 Madinaty Cairo     01146855637  \n",
        "29    13 seliman abd el aziz selim st, floor 3, Flat...    012224559490  \n",
        "...                                                 ...             ...  \n",
        "2304  7 omar ebn elkhattab*from 263 st*new maadi*on ...     01001623398  \n",
        "2305                                                NaN     01006098777  \n",
        "2306  13 ezat salama st. from abas el akad st.beside...     01227716679  \n",
        "2307   \u062a\u0642\u0627\u0637\u0639 \u0634\u0627\u0631\u0639 \u0627\u0644\u062d\u0644\u0648 \u0645\u0639 \u0627\u0644\u0641\u0627\u0644\u0648\u062c\u0627 \u0639\u0645\u0627\u0631\u0629 \u0647\u0627\u064a\u0628\u0631 \u0627\u0648\u0644\u0627...     01212489643  \n",
        "2308  45 el madina el monawara street, mohandiseen 4...  00201274009995  \n",
        "2309                   110 el marghany street 24 cairo      01222134021  \n",
        "2310   takseem elaselky madina mnwara st. maady elma...     01003838702  \n",
        "2311                           Elgouna Elgouna Hurghada     01270687640  \n",
        "2312                                                NaN     01013301511  \n",
        "2313  24 Road, 200, Digla, Maadi apt.21, 2nd floor C...   +201005857070  \n",
        "2314             26 Boulus Hanna Street, Dokky 23 Cairo     01223107827  \n",
        "2315                                                NaN     01227654998  \n",
        "2316                23 katamya plaza 3rd floor 33 Cairo     01000603100  \n",
        "2317                                                NaN     01221080261  \n",
        "2318  8/12 El Togary street, zahraa el maadi (villa)...     01001445127  \n",
        "2319  91 Gesr El suez St,Heliopolis 7th floor ,apt 7...     01273187632  \n",
        "2320                                                NaN     01005809345  \n",
        "2321  5 Mohamed Zaghloul from Mohamed ghoneim street...     01222145015  \n",
        "2322                                                NaN     01116757467  \n",
        "2323        16 rd 262, bldg 16 a new maadi apt 1  Cairo     01003400660  \n",
        "2324  New Cairo - tagalo3 5  Are 6 - street 1 - vill...     01119233335  \n",
        "2325  cairo 66 corneish el nile borg zahraa el maadi...     01286940687  \n",
        "2326                                                NaN     01277005889  \n",
        "2327                                                NaN   +201006444655  \n",
        "2328                                                NaN     01222225092  \n",
        "2329          18 Ibn Bassam st, nouzha Apt 4 Heliopolis   +201222152653  \n",
        "2330          share11 st. from wahib dos Villa 21 Cairo     01002106858  \n",
        "2331                                                NaN     01111222091  \n",
        "2332           Apartment 23 47 canal street Maadi Cairo     01000079716  \n",
        "2333                                                NaN     01144406375  \n",
        "\n",
        "[2334 rows x 7 columns]"
       ]
      }
     ],
     "prompt_number": 5
    },
    {
     "cell_type": "code",
     "collapsed": false,
     "input": [
      "#merge data frames\n",
      "df10 = df1.merge(df3, on = ['Email'], how = 'inner')\n",
      "df10"
     ],
     "language": "python",
     "metadata": {},
     "outputs": [
      {
       "html": [
        "<div style=\"max-height:1000px;max-width:1500px;overflow:auto;\">\n",
        "<table border=\"1\" class=\"dataframe\">\n",
        "  <thead>\n",
        "    <tr style=\"text-align: right;\">\n",
        "      <th></th>\n",
        "      <th>Email</th>\n",
        "      <th>Days from Last order</th>\n",
        "      <th>Total orders</th>\n",
        "      <th>Average days between orders</th>\n",
        "    </tr>\n",
        "  </thead>\n",
        "  <tbody>\n",
        "    <tr>\n",
        "      <th>0   </th>\n",
        "      <td>        11435mail@mkallenberger.de</td>\n",
        "      <td>  941</td>\n",
        "      <td>  1</td>\n",
        "      <td>   0.000000</td>\n",
        "    </tr>\n",
        "    <tr>\n",
        "      <th>1   </th>\n",
        "      <td>                     1@gargour.com</td>\n",
        "      <td>  260</td>\n",
        "      <td>  2</td>\n",
        "      <td>  47.000000</td>\n",
        "    </tr>\n",
        "    <tr>\n",
        "      <th>2   </th>\n",
        "      <td>                 1kttate@gmail.com</td>\n",
        "      <td>  114</td>\n",
        "      <td>  4</td>\n",
        "      <td>   5.500000</td>\n",
        "    </tr>\n",
        "    <tr>\n",
        "      <th>3   </th>\n",
        "      <td>         1youniqueflower@gmail.com</td>\n",
        "      <td>   23</td>\n",
        "      <td>  3</td>\n",
        "      <td> 125.000000</td>\n",
        "    </tr>\n",
        "    <tr>\n",
        "      <th>4   </th>\n",
        "      <td>                3aliaa.h@gmail.com</td>\n",
        "      <td>  263</td>\n",
        "      <td>  3</td>\n",
        "      <td>   7.333333</td>\n",
        "    </tr>\n",
        "    <tr>\n",
        "      <th>5   </th>\n",
        "      <td>          777nadiateirah@gmail.com</td>\n",
        "      <td>   32</td>\n",
        "      <td>  2</td>\n",
        "      <td>   2.500000</td>\n",
        "    </tr>\n",
        "    <tr>\n",
        "      <th>6   </th>\n",
        "      <td>                         A2@ed.com</td>\n",
        "      <td>  102</td>\n",
        "      <td>  1</td>\n",
        "      <td>   0.000000</td>\n",
        "    </tr>\n",
        "    <tr>\n",
        "      <th>7   </th>\n",
        "      <td>           ASHRAF.M.ZAKI@GMAIL.COM</td>\n",
        "      <td> 1174</td>\n",
        "      <td>  1</td>\n",
        "      <td>   0.000000</td>\n",
        "    </tr>\n",
        "    <tr>\n",
        "      <th>8   </th>\n",
        "      <td>              Adhamada@hotmail.com</td>\n",
        "      <td> 1262</td>\n",
        "      <td>  1</td>\n",
        "      <td>   0.000000</td>\n",
        "    </tr>\n",
        "    <tr>\n",
        "      <th>9   </th>\n",
        "      <td>       Ahmed.Habash@moevenpick.com</td>\n",
        "      <td>  263</td>\n",
        "      <td>  1</td>\n",
        "      <td>   0.000000</td>\n",
        "    </tr>\n",
        "    <tr>\n",
        "      <th>10  </th>\n",
        "      <td> Ahmed.adel.abdelmonam@hotmail.com</td>\n",
        "      <td>  121</td>\n",
        "      <td>  1</td>\n",
        "      <td>   0.000000</td>\n",
        "    </tr>\n",
        "    <tr>\n",
        "      <th>11  </th>\n",
        "      <td>           Aliamossallam@gmail.com</td>\n",
        "      <td>    9</td>\n",
        "      <td> 23</td>\n",
        "      <td>  18.304348</td>\n",
        "    </tr>\n",
        "    <tr>\n",
        "      <th>12  </th>\n",
        "      <td>       Andrea.Heilman@aucegypt.edu</td>\n",
        "      <td>  291</td>\n",
        "      <td>  4</td>\n",
        "      <td>   2.750000</td>\n",
        "    </tr>\n",
        "    <tr>\n",
        "      <th>13  </th>\n",
        "      <td>           Asmaa.ahmed@hotmail.com</td>\n",
        "      <td>   37</td>\n",
        "      <td>  4</td>\n",
        "      <td>   4.000000</td>\n",
        "    </tr>\n",
        "    <tr>\n",
        "      <th>14  </th>\n",
        "      <td>            Attia.nevien@gmail.com</td>\n",
        "      <td>  331</td>\n",
        "      <td>  3</td>\n",
        "      <td>   0.666667</td>\n",
        "    </tr>\n",
        "    <tr>\n",
        "      <th>15  </th>\n",
        "      <td>             Ayatheone@hotmail.com</td>\n",
        "      <td>  139</td>\n",
        "      <td>  1</td>\n",
        "      <td>   0.000000</td>\n",
        "    </tr>\n",
        "    <tr>\n",
        "      <th>16  </th>\n",
        "      <td>             Azzassallam@gmail.com</td>\n",
        "      <td>  307</td>\n",
        "      <td>  1</td>\n",
        "      <td>   0.000000</td>\n",
        "    </tr>\n",
        "    <tr>\n",
        "      <th>17  </th>\n",
        "      <td>                 BAGBOUG@yahoo.com</td>\n",
        "      <td>  285</td>\n",
        "      <td>  1</td>\n",
        "      <td>   0.000000</td>\n",
        "    </tr>\n",
        "    <tr>\n",
        "      <th>18  </th>\n",
        "      <td>                 Bakryna@gmail.com</td>\n",
        "      <td> 1204</td>\n",
        "      <td>  1</td>\n",
        "      <td>   0.000000</td>\n",
        "    </tr>\n",
        "    <tr>\n",
        "      <th>19  </th>\n",
        "      <td>           Basmaha2010@hotmail.com</td>\n",
        "      <td>  249</td>\n",
        "      <td>  1</td>\n",
        "      <td>   0.000000</td>\n",
        "    </tr>\n",
        "    <tr>\n",
        "      <th>20  </th>\n",
        "      <td>                  Bebi84@gmail.com</td>\n",
        "      <td>  976</td>\n",
        "      <td>  3</td>\n",
        "      <td>   7.000000</td>\n",
        "    </tr>\n",
        "    <tr>\n",
        "      <th>21  </th>\n",
        "      <td>                  Biro5s@yahoo.com</td>\n",
        "      <td> 1307</td>\n",
        "      <td>  1</td>\n",
        "      <td>   0.000000</td>\n",
        "    </tr>\n",
        "    <tr>\n",
        "      <th>22  </th>\n",
        "      <td>       Bouchra_erraiss@hotmail.com</td>\n",
        "      <td>  588</td>\n",
        "      <td>  1</td>\n",
        "      <td>   0.000000</td>\n",
        "    </tr>\n",
        "    <tr>\n",
        "      <th>23  </th>\n",
        "      <td>                 Bunny_Chan@web.de</td>\n",
        "      <td>  227</td>\n",
        "      <td>  3</td>\n",
        "      <td>  88.666667</td>\n",
        "    </tr>\n",
        "    <tr>\n",
        "      <th>24  </th>\n",
        "      <td>            Buty_Heart@hotmail.com</td>\n",
        "      <td>  209</td>\n",
        "      <td>  1</td>\n",
        "      <td>   0.000000</td>\n",
        "    </tr>\n",
        "    <tr>\n",
        "      <th>25  </th>\n",
        "      <td>       Camillia.Marmoush@gmail.com</td>\n",
        "      <td>   25</td>\n",
        "      <td>  5</td>\n",
        "      <td>   2.800000</td>\n",
        "    </tr>\n",
        "    <tr>\n",
        "      <th>26  </th>\n",
        "      <td>           Carinesabbagh@gmail.com</td>\n",
        "      <td>  240</td>\n",
        "      <td> 37</td>\n",
        "      <td>  27.567568</td>\n",
        "    </tr>\n",
        "    <tr>\n",
        "      <th>27  </th>\n",
        "      <td>             Christine@baramki.com</td>\n",
        "      <td>  524</td>\n",
        "      <td>  2</td>\n",
        "      <td>   3.500000</td>\n",
        "    </tr>\n",
        "    <tr>\n",
        "      <th>28  </th>\n",
        "      <td>              DINA_KADRY@YAHOO.COM</td>\n",
        "      <td>   52</td>\n",
        "      <td>  1</td>\n",
        "      <td>   0.000000</td>\n",
        "    </tr>\n",
        "    <tr>\n",
        "      <th>29  </th>\n",
        "      <td>       Dina_eldessouky@hotmail.com</td>\n",
        "      <td> 1116</td>\n",
        "      <td>  7</td>\n",
        "      <td>  18.000000</td>\n",
        "    </tr>\n",
        "    <tr>\n",
        "      <th>...</th>\n",
        "      <td>...</td>\n",
        "      <td>...</td>\n",
        "      <td>...</td>\n",
        "      <td>...</td>\n",
        "    </tr>\n",
        "    <tr>\n",
        "      <th>2343</th>\n",
        "      <td>              youssefkhalil@me.com</td>\n",
        "      <td>   87</td>\n",
        "      <td>  3</td>\n",
        "      <td>  99.666667</td>\n",
        "    </tr>\n",
        "    <tr>\n",
        "      <th>2344</th>\n",
        "      <td>          youssra.resaie@gmail.com</td>\n",
        "      <td>  526</td>\n",
        "      <td>  1</td>\n",
        "      <td>   0.000000</td>\n",
        "    </tr>\n",
        "    <tr>\n",
        "      <th>2345</th>\n",
        "      <td>                 youssra@gmail.com</td>\n",
        "      <td>  281</td>\n",
        "      <td>  1</td>\n",
        "      <td>   0.000000</td>\n",
        "    </tr>\n",
        "    <tr>\n",
        "      <th>2346</th>\n",
        "      <td>           youssra_kamal@yahoo.com</td>\n",
        "      <td>   22</td>\n",
        "      <td>  3</td>\n",
        "      <td>  21.333333</td>\n",
        "    </tr>\n",
        "    <tr>\n",
        "      <th>2347</th>\n",
        "      <td>         youssraaashmawi@gmail.com</td>\n",
        "      <td>   73</td>\n",
        "      <td>  1</td>\n",
        "      <td>   0.000000</td>\n",
        "    </tr>\n",
        "    <tr>\n",
        "      <th>2348</th>\n",
        "      <td>           yoyothetricky@gmail.com</td>\n",
        "      <td>    8</td>\n",
        "      <td>  2</td>\n",
        "      <td>   5.000000</td>\n",
        "    </tr>\n",
        "    <tr>\n",
        "      <th>2349</th>\n",
        "      <td>               yrelraheb@gmail.com</td>\n",
        "      <td> 1017</td>\n",
        "      <td>  1</td>\n",
        "      <td>   0.000000</td>\n",
        "    </tr>\n",
        "    <tr>\n",
        "      <th>2350</th>\n",
        "      <td>               yulbiba@hotmail.com</td>\n",
        "      <td>    7</td>\n",
        "      <td>  4</td>\n",
        "      <td>  15.750000</td>\n",
        "    </tr>\n",
        "    <tr>\n",
        "      <th>2351</th>\n",
        "      <td>             yumnakassim@gmail.com</td>\n",
        "      <td>  509</td>\n",
        "      <td>  2</td>\n",
        "      <td> 149.500000</td>\n",
        "    </tr>\n",
        "    <tr>\n",
        "      <th>2352</th>\n",
        "      <td>              z72addas@hotmail.com</td>\n",
        "      <td>  345</td>\n",
        "      <td>  1</td>\n",
        "      <td>   0.000000</td>\n",
        "    </tr>\n",
        "    <tr>\n",
        "      <th>2353</th>\n",
        "      <td>             zaki.farida@gmail.com</td>\n",
        "      <td>   60</td>\n",
        "      <td>  5</td>\n",
        "      <td>  31.400000</td>\n",
        "    </tr>\n",
        "    <tr>\n",
        "      <th>2354</th>\n",
        "      <td>               zedesem65@gmail.com</td>\n",
        "      <td>   39</td>\n",
        "      <td>  1</td>\n",
        "      <td>   0.000000</td>\n",
        "    </tr>\n",
        "    <tr>\n",
        "      <th>2355</th>\n",
        "      <td>                 zee.nap@gmail.com</td>\n",
        "      <td>  113</td>\n",
        "      <td>  1</td>\n",
        "      <td>   0.000000</td>\n",
        "    </tr>\n",
        "    <tr>\n",
        "      <th>2356</th>\n",
        "      <td>            zeina.kassas@gmail.com</td>\n",
        "      <td>  190</td>\n",
        "      <td>  6</td>\n",
        "      <td>  55.166667</td>\n",
        "    </tr>\n",
        "    <tr>\n",
        "      <th>2357</th>\n",
        "      <td>         zeina_ahmed95@hotmail.com</td>\n",
        "      <td>  423</td>\n",
        "      <td>  1</td>\n",
        "      <td>   0.000000</td>\n",
        "    </tr>\n",
        "    <tr>\n",
        "      <th>2358</th>\n",
        "      <td>            zeina_naim@hotmail.com</td>\n",
        "      <td>   35</td>\n",
        "      <td>  1</td>\n",
        "      <td>   0.000000</td>\n",
        "    </tr>\n",
        "    <tr>\n",
        "      <th>2359</th>\n",
        "      <td>         zeinabahmedtaha@yahoo.com</td>\n",
        "      <td> 1055</td>\n",
        "      <td>  1</td>\n",
        "      <td>   0.000000</td>\n",
        "    </tr>\n",
        "    <tr>\n",
        "      <th>2360</th>\n",
        "      <td>      zeinabkhalil2010@hotmail.com</td>\n",
        "      <td>  182</td>\n",
        "      <td>  3</td>\n",
        "      <td>   8.333333</td>\n",
        "    </tr>\n",
        "    <tr>\n",
        "      <th>2361</th>\n",
        "      <td>              zeinabnour@gmail.com</td>\n",
        "      <td>  416</td>\n",
        "      <td>  2</td>\n",
        "      <td>   0.500000</td>\n",
        "    </tr>\n",
        "    <tr>\n",
        "      <th>2362</th>\n",
        "      <td>              zeinahodroj@live.com</td>\n",
        "      <td>  276</td>\n",
        "      <td>  2</td>\n",
        "      <td>   0.000000</td>\n",
        "    </tr>\n",
        "    <tr>\n",
        "      <th>2363</th>\n",
        "      <td>              zeinasabry@gmail.com</td>\n",
        "      <td>  574</td>\n",
        "      <td>  7</td>\n",
        "      <td>  35.714286</td>\n",
        "    </tr>\n",
        "    <tr>\n",
        "      <th>2364</th>\n",
        "      <td>               zeinriham@gmail.com</td>\n",
        "      <td>   29</td>\n",
        "      <td>  2</td>\n",
        "      <td>  35.500000</td>\n",
        "    </tr>\n",
        "    <tr>\n",
        "      <th>2365</th>\n",
        "      <td>           zenaabdelbaky@gmail.com</td>\n",
        "      <td>  148</td>\n",
        "      <td>  2</td>\n",
        "      <td> 219.000000</td>\n",
        "    </tr>\n",
        "    <tr>\n",
        "      <th>2366</th>\n",
        "      <td>            zeyadattalla@yahoo.com</td>\n",
        "      <td>  225</td>\n",
        "      <td>  1</td>\n",
        "      <td>   0.000000</td>\n",
        "    </tr>\n",
        "    <tr>\n",
        "      <th>2367</th>\n",
        "      <td>                ziadihab@gmail.com</td>\n",
        "      <td>  247</td>\n",
        "      <td>  1</td>\n",
        "      <td>   0.000000</td>\n",
        "    </tr>\n",
        "    <tr>\n",
        "      <th>2368</th>\n",
        "      <td>               ziadusama@ymail.com</td>\n",
        "      <td>   18</td>\n",
        "      <td>  1</td>\n",
        "      <td>   0.000000</td>\n",
        "    </tr>\n",
        "    <tr>\n",
        "      <th>2369</th>\n",
        "      <td>               zinelhini@yahoo.com</td>\n",
        "      <td>  807</td>\n",
        "      <td>  1</td>\n",
        "      <td>   0.000000</td>\n",
        "    </tr>\n",
        "    <tr>\n",
        "      <th>2370</th>\n",
        "      <td>                zleseman@gmail.com</td>\n",
        "      <td>  976</td>\n",
        "      <td>  2</td>\n",
        "      <td>  35.500000</td>\n",
        "    </tr>\n",
        "    <tr>\n",
        "      <th>2371</th>\n",
        "      <td>           zolaykha1st@hotmail.com</td>\n",
        "      <td>  375</td>\n",
        "      <td>  1</td>\n",
        "      <td>   0.000000</td>\n",
        "    </tr>\n",
        "    <tr>\n",
        "      <th>2372</th>\n",
        "      <td>               zshafei@outlook.com</td>\n",
        "      <td>   20</td>\n",
        "      <td>  7</td>\n",
        "      <td>  48.571429</td>\n",
        "    </tr>\n",
        "  </tbody>\n",
        "</table>\n",
        "<p>2373 rows \u00d7 4 columns</p>\n",
        "</div>"
       ],
       "metadata": {},
       "output_type": "pyout",
       "prompt_number": 6,
       "text": [
        "                                  Email  Days from Last order  Total orders  \\\n",
        "0            11435mail@mkallenberger.de                   941             1   \n",
        "1                         1@gargour.com                   260             2   \n",
        "2                     1kttate@gmail.com                   114             4   \n",
        "3             1youniqueflower@gmail.com                    23             3   \n",
        "4                    3aliaa.h@gmail.com                   263             3   \n",
        "5              777nadiateirah@gmail.com                    32             2   \n",
        "6                             A2@ed.com                   102             1   \n",
        "7               ASHRAF.M.ZAKI@GMAIL.COM                  1174             1   \n",
        "8                  Adhamada@hotmail.com                  1262             1   \n",
        "9           Ahmed.Habash@moevenpick.com                   263             1   \n",
        "10    Ahmed.adel.abdelmonam@hotmail.com                   121             1   \n",
        "11              Aliamossallam@gmail.com                     9            23   \n",
        "12          Andrea.Heilman@aucegypt.edu                   291             4   \n",
        "13              Asmaa.ahmed@hotmail.com                    37             4   \n",
        "14               Attia.nevien@gmail.com                   331             3   \n",
        "15                Ayatheone@hotmail.com                   139             1   \n",
        "16                Azzassallam@gmail.com                   307             1   \n",
        "17                    BAGBOUG@yahoo.com                   285             1   \n",
        "18                    Bakryna@gmail.com                  1204             1   \n",
        "19              Basmaha2010@hotmail.com                   249             1   \n",
        "20                     Bebi84@gmail.com                   976             3   \n",
        "21                     Biro5s@yahoo.com                  1307             1   \n",
        "22          Bouchra_erraiss@hotmail.com                   588             1   \n",
        "23                    Bunny_Chan@web.de                   227             3   \n",
        "24               Buty_Heart@hotmail.com                   209             1   \n",
        "25          Camillia.Marmoush@gmail.com                    25             5   \n",
        "26              Carinesabbagh@gmail.com                   240            37   \n",
        "27                Christine@baramki.com                   524             2   \n",
        "28                 DINA_KADRY@YAHOO.COM                    52             1   \n",
        "29          Dina_eldessouky@hotmail.com                  1116             7   \n",
        "...                                 ...                   ...           ...   \n",
        "2343               youssefkhalil@me.com                    87             3   \n",
        "2344           youssra.resaie@gmail.com                   526             1   \n",
        "2345                  youssra@gmail.com                   281             1   \n",
        "2346            youssra_kamal@yahoo.com                    22             3   \n",
        "2347          youssraaashmawi@gmail.com                    73             1   \n",
        "2348            yoyothetricky@gmail.com                     8             2   \n",
        "2349                yrelraheb@gmail.com                  1017             1   \n",
        "2350                yulbiba@hotmail.com                     7             4   \n",
        "2351              yumnakassim@gmail.com                   509             2   \n",
        "2352               z72addas@hotmail.com                   345             1   \n",
        "2353              zaki.farida@gmail.com                    60             5   \n",
        "2354                zedesem65@gmail.com                    39             1   \n",
        "2355                  zee.nap@gmail.com                   113             1   \n",
        "2356             zeina.kassas@gmail.com                   190             6   \n",
        "2357          zeina_ahmed95@hotmail.com                   423             1   \n",
        "2358             zeina_naim@hotmail.com                    35             1   \n",
        "2359          zeinabahmedtaha@yahoo.com                  1055             1   \n",
        "2360       zeinabkhalil2010@hotmail.com                   182             3   \n",
        "2361               zeinabnour@gmail.com                   416             2   \n",
        "2362               zeinahodroj@live.com                   276             2   \n",
        "2363               zeinasabry@gmail.com                   574             7   \n",
        "2364                zeinriham@gmail.com                    29             2   \n",
        "2365            zenaabdelbaky@gmail.com                   148             2   \n",
        "2366             zeyadattalla@yahoo.com                   225             1   \n",
        "2367                 ziadihab@gmail.com                   247             1   \n",
        "2368                ziadusama@ymail.com                    18             1   \n",
        "2369                zinelhini@yahoo.com                   807             1   \n",
        "2370                 zleseman@gmail.com                   976             2   \n",
        "2371            zolaykha1st@hotmail.com                   375             1   \n",
        "2372                zshafei@outlook.com                    20             7   \n",
        "\n",
        "      Average days between orders  \n",
        "0                        0.000000  \n",
        "1                       47.000000  \n",
        "2                        5.500000  \n",
        "3                      125.000000  \n",
        "4                        7.333333  \n",
        "5                        2.500000  \n",
        "6                        0.000000  \n",
        "7                        0.000000  \n",
        "8                        0.000000  \n",
        "9                        0.000000  \n",
        "10                       0.000000  \n",
        "11                      18.304348  \n",
        "12                       2.750000  \n",
        "13                       4.000000  \n",
        "14                       0.666667  \n",
        "15                       0.000000  \n",
        "16                       0.000000  \n",
        "17                       0.000000  \n",
        "18                       0.000000  \n",
        "19                       0.000000  \n",
        "20                       7.000000  \n",
        "21                       0.000000  \n",
        "22                       0.000000  \n",
        "23                      88.666667  \n",
        "24                       0.000000  \n",
        "25                       2.800000  \n",
        "26                      27.567568  \n",
        "27                       3.500000  \n",
        "28                       0.000000  \n",
        "29                      18.000000  \n",
        "...                           ...  \n",
        "2343                    99.666667  \n",
        "2344                     0.000000  \n",
        "2345                     0.000000  \n",
        "2346                    21.333333  \n",
        "2347                     0.000000  \n",
        "2348                     5.000000  \n",
        "2349                     0.000000  \n",
        "2350                    15.750000  \n",
        "2351                   149.500000  \n",
        "2352                     0.000000  \n",
        "2353                    31.400000  \n",
        "2354                     0.000000  \n",
        "2355                     0.000000  \n",
        "2356                    55.166667  \n",
        "2357                     0.000000  \n",
        "2358                     0.000000  \n",
        "2359                     0.000000  \n",
        "2360                     8.333333  \n",
        "2361                     0.500000  \n",
        "2362                     0.000000  \n",
        "2363                    35.714286  \n",
        "2364                    35.500000  \n",
        "2365                   219.000000  \n",
        "2366                     0.000000  \n",
        "2367                     0.000000  \n",
        "2368                     0.000000  \n",
        "2369                     0.000000  \n",
        "2370                    35.500000  \n",
        "2371                     0.000000  \n",
        "2372                    48.571429  \n",
        "\n",
        "[2373 rows x 4 columns]"
       ]
      }
     ],
     "prompt_number": 6
    },
    {
     "cell_type": "code",
     "collapsed": false,
     "input": [
      "df6 = df10.merge(df5, on = ['Email'], how = 'inner')\n",
      "df6"
     ],
     "language": "python",
     "metadata": {},
     "outputs": [
      {
       "html": [
        "<div style=\"max-height:1000px;max-width:1500px;overflow:auto;\">\n",
        "<table border=\"1\" class=\"dataframe\">\n",
        "  <thead>\n",
        "    <tr style=\"text-align: right;\">\n",
        "      <th></th>\n",
        "      <th>Email</th>\n",
        "      <th>Days from Last order</th>\n",
        "      <th>Total orders</th>\n",
        "      <th>Average days between orders</th>\n",
        "      <th>Sunday</th>\n",
        "      <th>Monday</th>\n",
        "      <th>Tuesday</th>\n",
        "      <th>Wednesday</th>\n",
        "      <th>Thursday</th>\n",
        "      <th>Friday</th>\n",
        "      <th>...</th>\n",
        "      <th>4:00 - 6:00</th>\n",
        "      <th>6:00 - 8:00</th>\n",
        "      <th>8:00 - 10:00</th>\n",
        "      <th>10:00 - 12:00</th>\n",
        "      <th>12:00 - 14:00</th>\n",
        "      <th>14:00 - 16:00</th>\n",
        "      <th>16:00 - 18:00</th>\n",
        "      <th>18:00 - 20:00</th>\n",
        "      <th>20:00 - 22:00</th>\n",
        "      <th>22:00 - 0:00</th>\n",
        "    </tr>\n",
        "  </thead>\n",
        "  <tbody>\n",
        "    <tr>\n",
        "      <th>0   </th>\n",
        "      <td>        11435mail@mkallenberger.de</td>\n",
        "      <td>  941</td>\n",
        "      <td>  1</td>\n",
        "      <td>   0.000000</td>\n",
        "      <td> 1</td>\n",
        "      <td> 0</td>\n",
        "      <td> 0</td>\n",
        "      <td> 0</td>\n",
        "      <td> 0</td>\n",
        "      <td> 0</td>\n",
        "      <td>...</td>\n",
        "      <td> 0</td>\n",
        "      <td> 0</td>\n",
        "      <td> 0</td>\n",
        "      <td> 0</td>\n",
        "      <td> 0</td>\n",
        "      <td> 1</td>\n",
        "      <td> 0</td>\n",
        "      <td> 0</td>\n",
        "      <td> 0</td>\n",
        "      <td> 0</td>\n",
        "    </tr>\n",
        "    <tr>\n",
        "      <th>1   </th>\n",
        "      <td>                     1@gargour.com</td>\n",
        "      <td>  260</td>\n",
        "      <td>  2</td>\n",
        "      <td>  47.000000</td>\n",
        "      <td> 0</td>\n",
        "      <td> 0</td>\n",
        "      <td> 1</td>\n",
        "      <td> 0</td>\n",
        "      <td> 0</td>\n",
        "      <td> 0</td>\n",
        "      <td>...</td>\n",
        "      <td> 0</td>\n",
        "      <td> 0</td>\n",
        "      <td> 0</td>\n",
        "      <td> 0</td>\n",
        "      <td> 0</td>\n",
        "      <td> 1</td>\n",
        "      <td> 1</td>\n",
        "      <td> 0</td>\n",
        "      <td> 0</td>\n",
        "      <td> 0</td>\n",
        "    </tr>\n",
        "    <tr>\n",
        "      <th>2   </th>\n",
        "      <td>                 1kttate@gmail.com</td>\n",
        "      <td>  114</td>\n",
        "      <td>  4</td>\n",
        "      <td>   5.500000</td>\n",
        "      <td> 1</td>\n",
        "      <td> 2</td>\n",
        "      <td> 0</td>\n",
        "      <td> 0</td>\n",
        "      <td> 1</td>\n",
        "      <td> 0</td>\n",
        "      <td>...</td>\n",
        "      <td> 0</td>\n",
        "      <td> 0</td>\n",
        "      <td> 2</td>\n",
        "      <td> 1</td>\n",
        "      <td> 1</td>\n",
        "      <td> 0</td>\n",
        "      <td> 0</td>\n",
        "      <td> 0</td>\n",
        "      <td> 0</td>\n",
        "      <td> 0</td>\n",
        "    </tr>\n",
        "    <tr>\n",
        "      <th>3   </th>\n",
        "      <td>         1youniqueflower@gmail.com</td>\n",
        "      <td>   23</td>\n",
        "      <td>  3</td>\n",
        "      <td> 125.000000</td>\n",
        "      <td> 0</td>\n",
        "      <td> 1</td>\n",
        "      <td> 1</td>\n",
        "      <td> 0</td>\n",
        "      <td> 1</td>\n",
        "      <td> 0</td>\n",
        "      <td>...</td>\n",
        "      <td> 0</td>\n",
        "      <td> 0</td>\n",
        "      <td> 0</td>\n",
        "      <td> 0</td>\n",
        "      <td> 1</td>\n",
        "      <td> 0</td>\n",
        "      <td> 1</td>\n",
        "      <td> 0</td>\n",
        "      <td> 0</td>\n",
        "      <td> 1</td>\n",
        "    </tr>\n",
        "    <tr>\n",
        "      <th>4   </th>\n",
        "      <td>                3aliaa.h@gmail.com</td>\n",
        "      <td>  263</td>\n",
        "      <td>  3</td>\n",
        "      <td>   7.333333</td>\n",
        "      <td> 1</td>\n",
        "      <td> 0</td>\n",
        "      <td> 0</td>\n",
        "      <td> 0</td>\n",
        "      <td> 0</td>\n",
        "      <td> 1</td>\n",
        "      <td>...</td>\n",
        "      <td> 0</td>\n",
        "      <td> 0</td>\n",
        "      <td> 0</td>\n",
        "      <td> 0</td>\n",
        "      <td> 0</td>\n",
        "      <td> 0</td>\n",
        "      <td> 1</td>\n",
        "      <td> 0</td>\n",
        "      <td> 0</td>\n",
        "      <td> 0</td>\n",
        "    </tr>\n",
        "    <tr>\n",
        "      <th>5   </th>\n",
        "      <td>          777nadiateirah@gmail.com</td>\n",
        "      <td>   32</td>\n",
        "      <td>  2</td>\n",
        "      <td>   2.500000</td>\n",
        "      <td> 0</td>\n",
        "      <td> 1</td>\n",
        "      <td> 0</td>\n",
        "      <td> 0</td>\n",
        "      <td> 0</td>\n",
        "      <td> 0</td>\n",
        "      <td>...</td>\n",
        "      <td> 0</td>\n",
        "      <td> 0</td>\n",
        "      <td> 0</td>\n",
        "      <td> 1</td>\n",
        "      <td> 1</td>\n",
        "      <td> 0</td>\n",
        "      <td> 0</td>\n",
        "      <td> 0</td>\n",
        "      <td> 0</td>\n",
        "      <td> 0</td>\n",
        "    </tr>\n",
        "    <tr>\n",
        "      <th>6   </th>\n",
        "      <td>                         A2@ed.com</td>\n",
        "      <td>  102</td>\n",
        "      <td>  1</td>\n",
        "      <td>   0.000000</td>\n",
        "      <td> 0</td>\n",
        "      <td> 0</td>\n",
        "      <td> 0</td>\n",
        "      <td> 0</td>\n",
        "      <td> 0</td>\n",
        "      <td> 0</td>\n",
        "      <td>...</td>\n",
        "      <td> 0</td>\n",
        "      <td> 0</td>\n",
        "      <td> 0</td>\n",
        "      <td> 0</td>\n",
        "      <td> 1</td>\n",
        "      <td> 0</td>\n",
        "      <td> 0</td>\n",
        "      <td> 0</td>\n",
        "      <td> 0</td>\n",
        "      <td> 0</td>\n",
        "    </tr>\n",
        "    <tr>\n",
        "      <th>7   </th>\n",
        "      <td>           ASHRAF.M.ZAKI@GMAIL.COM</td>\n",
        "      <td> 1174</td>\n",
        "      <td>  1</td>\n",
        "      <td>   0.000000</td>\n",
        "      <td> 0</td>\n",
        "      <td> 0</td>\n",
        "      <td> 0</td>\n",
        "      <td> 0</td>\n",
        "      <td> 0</td>\n",
        "      <td> 1</td>\n",
        "      <td>...</td>\n",
        "      <td> 0</td>\n",
        "      <td> 0</td>\n",
        "      <td> 1</td>\n",
        "      <td> 0</td>\n",
        "      <td> 0</td>\n",
        "      <td> 0</td>\n",
        "      <td> 0</td>\n",
        "      <td> 0</td>\n",
        "      <td> 0</td>\n",
        "      <td> 0</td>\n",
        "    </tr>\n",
        "    <tr>\n",
        "      <th>8   </th>\n",
        "      <td>              Adhamada@hotmail.com</td>\n",
        "      <td> 1262</td>\n",
        "      <td>  1</td>\n",
        "      <td>   0.000000</td>\n",
        "      <td> 0</td>\n",
        "      <td> 1</td>\n",
        "      <td> 0</td>\n",
        "      <td> 0</td>\n",
        "      <td> 0</td>\n",
        "      <td> 0</td>\n",
        "      <td>...</td>\n",
        "      <td> 0</td>\n",
        "      <td> 0</td>\n",
        "      <td> 0</td>\n",
        "      <td> 0</td>\n",
        "      <td> 0</td>\n",
        "      <td> 0</td>\n",
        "      <td> 0</td>\n",
        "      <td> 1</td>\n",
        "      <td> 0</td>\n",
        "      <td> 0</td>\n",
        "    </tr>\n",
        "    <tr>\n",
        "      <th>9   </th>\n",
        "      <td>       Ahmed.Habash@moevenpick.com</td>\n",
        "      <td>  263</td>\n",
        "      <td>  1</td>\n",
        "      <td>   0.000000</td>\n",
        "      <td> 0</td>\n",
        "      <td> 0</td>\n",
        "      <td> 0</td>\n",
        "      <td> 0</td>\n",
        "      <td> 0</td>\n",
        "      <td> 0</td>\n",
        "      <td>...</td>\n",
        "      <td> 0</td>\n",
        "      <td> 0</td>\n",
        "      <td> 0</td>\n",
        "      <td> 0</td>\n",
        "      <td> 0</td>\n",
        "      <td> 1</td>\n",
        "      <td> 0</td>\n",
        "      <td> 0</td>\n",
        "      <td> 0</td>\n",
        "      <td> 0</td>\n",
        "    </tr>\n",
        "    <tr>\n",
        "      <th>10  </th>\n",
        "      <td> Ahmed.adel.abdelmonam@hotmail.com</td>\n",
        "      <td>  121</td>\n",
        "      <td>  1</td>\n",
        "      <td>   0.000000</td>\n",
        "      <td> 0</td>\n",
        "      <td> 1</td>\n",
        "      <td> 0</td>\n",
        "      <td> 0</td>\n",
        "      <td> 0</td>\n",
        "      <td> 0</td>\n",
        "      <td>...</td>\n",
        "      <td> 0</td>\n",
        "      <td> 0</td>\n",
        "      <td> 0</td>\n",
        "      <td> 0</td>\n",
        "      <td> 0</td>\n",
        "      <td> 0</td>\n",
        "      <td> 0</td>\n",
        "      <td> 0</td>\n",
        "      <td> 0</td>\n",
        "      <td> 0</td>\n",
        "    </tr>\n",
        "    <tr>\n",
        "      <th>11  </th>\n",
        "      <td>           Aliamossallam@gmail.com</td>\n",
        "      <td>    9</td>\n",
        "      <td> 23</td>\n",
        "      <td>  18.304348</td>\n",
        "      <td> 5</td>\n",
        "      <td> 7</td>\n",
        "      <td> 3</td>\n",
        "      <td> 1</td>\n",
        "      <td> 1</td>\n",
        "      <td> 4</td>\n",
        "      <td>...</td>\n",
        "      <td> 0</td>\n",
        "      <td> 0</td>\n",
        "      <td> 0</td>\n",
        "      <td> 5</td>\n",
        "      <td> 5</td>\n",
        "      <td> 5</td>\n",
        "      <td> 2</td>\n",
        "      <td> 2</td>\n",
        "      <td> 2</td>\n",
        "      <td> 0</td>\n",
        "    </tr>\n",
        "    <tr>\n",
        "      <th>12  </th>\n",
        "      <td>       Andrea.Heilman@aucegypt.edu</td>\n",
        "      <td>  291</td>\n",
        "      <td>  4</td>\n",
        "      <td>   2.750000</td>\n",
        "      <td> 0</td>\n",
        "      <td> 0</td>\n",
        "      <td> 2</td>\n",
        "      <td> 0</td>\n",
        "      <td> 0</td>\n",
        "      <td> 0</td>\n",
        "      <td>...</td>\n",
        "      <td> 0</td>\n",
        "      <td> 0</td>\n",
        "      <td> 0</td>\n",
        "      <td> 2</td>\n",
        "      <td> 2</td>\n",
        "      <td> 0</td>\n",
        "      <td> 0</td>\n",
        "      <td> 0</td>\n",
        "      <td> 0</td>\n",
        "      <td> 0</td>\n",
        "    </tr>\n",
        "    <tr>\n",
        "      <th>13  </th>\n",
        "      <td>           Asmaa.ahmed@hotmail.com</td>\n",
        "      <td>   37</td>\n",
        "      <td>  4</td>\n",
        "      <td>   4.000000</td>\n",
        "      <td> 0</td>\n",
        "      <td> 1</td>\n",
        "      <td> 0</td>\n",
        "      <td> 1</td>\n",
        "      <td> 0</td>\n",
        "      <td> 0</td>\n",
        "      <td>...</td>\n",
        "      <td> 0</td>\n",
        "      <td> 0</td>\n",
        "      <td> 0</td>\n",
        "      <td> 0</td>\n",
        "      <td> 0</td>\n",
        "      <td> 1</td>\n",
        "      <td> 2</td>\n",
        "      <td> 1</td>\n",
        "      <td> 0</td>\n",
        "      <td> 0</td>\n",
        "    </tr>\n",
        "    <tr>\n",
        "      <th>14  </th>\n",
        "      <td>            Attia.nevien@gmail.com</td>\n",
        "      <td>  331</td>\n",
        "      <td>  3</td>\n",
        "      <td>   0.666667</td>\n",
        "      <td> 0</td>\n",
        "      <td> 2</td>\n",
        "      <td> 0</td>\n",
        "      <td> 0</td>\n",
        "      <td> 0</td>\n",
        "      <td> 0</td>\n",
        "      <td>...</td>\n",
        "      <td> 0</td>\n",
        "      <td> 0</td>\n",
        "      <td> 0</td>\n",
        "      <td> 0</td>\n",
        "      <td> 0</td>\n",
        "      <td> 2</td>\n",
        "      <td> 1</td>\n",
        "      <td> 0</td>\n",
        "      <td> 0</td>\n",
        "      <td> 0</td>\n",
        "    </tr>\n",
        "    <tr>\n",
        "      <th>15  </th>\n",
        "      <td>             Ayatheone@hotmail.com</td>\n",
        "      <td>  139</td>\n",
        "      <td>  1</td>\n",
        "      <td>   0.000000</td>\n",
        "      <td> 0</td>\n",
        "      <td> 0</td>\n",
        "      <td> 0</td>\n",
        "      <td> 0</td>\n",
        "      <td> 1</td>\n",
        "      <td> 0</td>\n",
        "      <td>...</td>\n",
        "      <td> 0</td>\n",
        "      <td> 0</td>\n",
        "      <td> 0</td>\n",
        "      <td> 0</td>\n",
        "      <td> 0</td>\n",
        "      <td> 0</td>\n",
        "      <td> 0</td>\n",
        "      <td> 0</td>\n",
        "      <td> 0</td>\n",
        "      <td> 1</td>\n",
        "    </tr>\n",
        "    <tr>\n",
        "      <th>16  </th>\n",
        "      <td>             Azzassallam@gmail.com</td>\n",
        "      <td>  307</td>\n",
        "      <td>  1</td>\n",
        "      <td>   0.000000</td>\n",
        "      <td> 0</td>\n",
        "      <td> 0</td>\n",
        "      <td> 0</td>\n",
        "      <td> 0</td>\n",
        "      <td> 1</td>\n",
        "      <td> 0</td>\n",
        "      <td>...</td>\n",
        "      <td> 0</td>\n",
        "      <td> 0</td>\n",
        "      <td> 0</td>\n",
        "      <td> 1</td>\n",
        "      <td> 0</td>\n",
        "      <td> 0</td>\n",
        "      <td> 0</td>\n",
        "      <td> 0</td>\n",
        "      <td> 0</td>\n",
        "      <td> 0</td>\n",
        "    </tr>\n",
        "    <tr>\n",
        "      <th>17  </th>\n",
        "      <td>                 BAGBOUG@yahoo.com</td>\n",
        "      <td>  285</td>\n",
        "      <td>  1</td>\n",
        "      <td>   0.000000</td>\n",
        "      <td> 0</td>\n",
        "      <td> 0</td>\n",
        "      <td> 0</td>\n",
        "      <td> 0</td>\n",
        "      <td> 0</td>\n",
        "      <td> 1</td>\n",
        "      <td>...</td>\n",
        "      <td> 0</td>\n",
        "      <td> 0</td>\n",
        "      <td> 0</td>\n",
        "      <td> 0</td>\n",
        "      <td> 0</td>\n",
        "      <td> 0</td>\n",
        "      <td> 0</td>\n",
        "      <td> 0</td>\n",
        "      <td> 0</td>\n",
        "      <td> 0</td>\n",
        "    </tr>\n",
        "    <tr>\n",
        "      <th>18  </th>\n",
        "      <td>                 Bakryna@gmail.com</td>\n",
        "      <td> 1204</td>\n",
        "      <td>  1</td>\n",
        "      <td>   0.000000</td>\n",
        "      <td> 0</td>\n",
        "      <td> 0</td>\n",
        "      <td> 0</td>\n",
        "      <td> 1</td>\n",
        "      <td> 0</td>\n",
        "      <td> 0</td>\n",
        "      <td>...</td>\n",
        "      <td> 0</td>\n",
        "      <td> 0</td>\n",
        "      <td> 0</td>\n",
        "      <td> 0</td>\n",
        "      <td> 0</td>\n",
        "      <td> 0</td>\n",
        "      <td> 0</td>\n",
        "      <td> 0</td>\n",
        "      <td> 0</td>\n",
        "      <td> 0</td>\n",
        "    </tr>\n",
        "    <tr>\n",
        "      <th>19  </th>\n",
        "      <td>           Basmaha2010@hotmail.com</td>\n",
        "      <td>  249</td>\n",
        "      <td>  1</td>\n",
        "      <td>   0.000000</td>\n",
        "      <td> 0</td>\n",
        "      <td> 0</td>\n",
        "      <td> 0</td>\n",
        "      <td> 0</td>\n",
        "      <td> 0</td>\n",
        "      <td> 0</td>\n",
        "      <td>...</td>\n",
        "      <td> 0</td>\n",
        "      <td> 0</td>\n",
        "      <td> 0</td>\n",
        "      <td> 0</td>\n",
        "      <td> 0</td>\n",
        "      <td> 0</td>\n",
        "      <td> 0</td>\n",
        "      <td> 0</td>\n",
        "      <td> 0</td>\n",
        "      <td> 1</td>\n",
        "    </tr>\n",
        "    <tr>\n",
        "      <th>20  </th>\n",
        "      <td>                  Bebi84@gmail.com</td>\n",
        "      <td>  976</td>\n",
        "      <td>  3</td>\n",
        "      <td>   7.000000</td>\n",
        "      <td> 2</td>\n",
        "      <td> 0</td>\n",
        "      <td> 0</td>\n",
        "      <td> 1</td>\n",
        "      <td> 0</td>\n",
        "      <td> 0</td>\n",
        "      <td>...</td>\n",
        "      <td> 0</td>\n",
        "      <td> 0</td>\n",
        "      <td> 0</td>\n",
        "      <td> 0</td>\n",
        "      <td> 1</td>\n",
        "      <td> 0</td>\n",
        "      <td> 1</td>\n",
        "      <td> 0</td>\n",
        "      <td> 0</td>\n",
        "      <td> 1</td>\n",
        "    </tr>\n",
        "    <tr>\n",
        "      <th>21  </th>\n",
        "      <td>                  Biro5s@yahoo.com</td>\n",
        "      <td> 1307</td>\n",
        "      <td>  1</td>\n",
        "      <td>   0.000000</td>\n",
        "      <td> 0</td>\n",
        "      <td> 0</td>\n",
        "      <td> 0</td>\n",
        "      <td> 0</td>\n",
        "      <td> 0</td>\n",
        "      <td> 1</td>\n",
        "      <td>...</td>\n",
        "      <td> 0</td>\n",
        "      <td> 0</td>\n",
        "      <td> 0</td>\n",
        "      <td> 0</td>\n",
        "      <td> 0</td>\n",
        "      <td> 0</td>\n",
        "      <td> 0</td>\n",
        "      <td> 1</td>\n",
        "      <td> 0</td>\n",
        "      <td> 0</td>\n",
        "    </tr>\n",
        "    <tr>\n",
        "      <th>22  </th>\n",
        "      <td>       Bouchra_erraiss@hotmail.com</td>\n",
        "      <td>  588</td>\n",
        "      <td>  1</td>\n",
        "      <td>   0.000000</td>\n",
        "      <td> 0</td>\n",
        "      <td> 0</td>\n",
        "      <td> 0</td>\n",
        "      <td> 1</td>\n",
        "      <td> 0</td>\n",
        "      <td> 0</td>\n",
        "      <td>...</td>\n",
        "      <td> 0</td>\n",
        "      <td> 0</td>\n",
        "      <td> 0</td>\n",
        "      <td> 0</td>\n",
        "      <td> 1</td>\n",
        "      <td> 0</td>\n",
        "      <td> 0</td>\n",
        "      <td> 0</td>\n",
        "      <td> 0</td>\n",
        "      <td> 0</td>\n",
        "    </tr>\n",
        "    <tr>\n",
        "      <th>23  </th>\n",
        "      <td>                 Bunny_Chan@web.de</td>\n",
        "      <td>  227</td>\n",
        "      <td>  3</td>\n",
        "      <td>  88.666667</td>\n",
        "      <td> 2</td>\n",
        "      <td> 0</td>\n",
        "      <td> 0</td>\n",
        "      <td> 0</td>\n",
        "      <td> 0</td>\n",
        "      <td> 1</td>\n",
        "      <td>...</td>\n",
        "      <td> 0</td>\n",
        "      <td> 0</td>\n",
        "      <td> 0</td>\n",
        "      <td> 0</td>\n",
        "      <td> 1</td>\n",
        "      <td> 0</td>\n",
        "      <td> 1</td>\n",
        "      <td> 0</td>\n",
        "      <td> 1</td>\n",
        "      <td> 0</td>\n",
        "    </tr>\n",
        "    <tr>\n",
        "      <th>24  </th>\n",
        "      <td>            Buty_Heart@hotmail.com</td>\n",
        "      <td>  209</td>\n",
        "      <td>  1</td>\n",
        "      <td>   0.000000</td>\n",
        "      <td> 0</td>\n",
        "      <td> 0</td>\n",
        "      <td> 0</td>\n",
        "      <td> 0</td>\n",
        "      <td> 1</td>\n",
        "      <td> 0</td>\n",
        "      <td>...</td>\n",
        "      <td> 0</td>\n",
        "      <td> 0</td>\n",
        "      <td> 0</td>\n",
        "      <td> 0</td>\n",
        "      <td> 0</td>\n",
        "      <td> 0</td>\n",
        "      <td> 1</td>\n",
        "      <td> 0</td>\n",
        "      <td> 0</td>\n",
        "      <td> 0</td>\n",
        "    </tr>\n",
        "    <tr>\n",
        "      <th>25  </th>\n",
        "      <td>       Camillia.Marmoush@gmail.com</td>\n",
        "      <td>   25</td>\n",
        "      <td>  5</td>\n",
        "      <td>   2.800000</td>\n",
        "      <td> 1</td>\n",
        "      <td> 0</td>\n",
        "      <td> 0</td>\n",
        "      <td> 0</td>\n",
        "      <td> 0</td>\n",
        "      <td> 0</td>\n",
        "      <td>...</td>\n",
        "      <td> 0</td>\n",
        "      <td> 0</td>\n",
        "      <td> 0</td>\n",
        "      <td> 3</td>\n",
        "      <td> 2</td>\n",
        "      <td> 0</td>\n",
        "      <td> 0</td>\n",
        "      <td> 0</td>\n",
        "      <td> 0</td>\n",
        "      <td> 0</td>\n",
        "    </tr>\n",
        "    <tr>\n",
        "      <th>26  </th>\n",
        "      <td>           Carinesabbagh@gmail.com</td>\n",
        "      <td>  240</td>\n",
        "      <td> 37</td>\n",
        "      <td>  27.567568</td>\n",
        "      <td> 7</td>\n",
        "      <td> 6</td>\n",
        "      <td> 8</td>\n",
        "      <td> 5</td>\n",
        "      <td> 4</td>\n",
        "      <td> 2</td>\n",
        "      <td>...</td>\n",
        "      <td> 1</td>\n",
        "      <td> 0</td>\n",
        "      <td> 3</td>\n",
        "      <td> 2</td>\n",
        "      <td> 3</td>\n",
        "      <td> 2</td>\n",
        "      <td> 5</td>\n",
        "      <td> 2</td>\n",
        "      <td> 2</td>\n",
        "      <td> 5</td>\n",
        "    </tr>\n",
        "    <tr>\n",
        "      <th>27  </th>\n",
        "      <td>             Christine@baramki.com</td>\n",
        "      <td>  524</td>\n",
        "      <td>  2</td>\n",
        "      <td>   3.500000</td>\n",
        "      <td> 0</td>\n",
        "      <td> 0</td>\n",
        "      <td> 0</td>\n",
        "      <td> 0</td>\n",
        "      <td> 2</td>\n",
        "      <td> 0</td>\n",
        "      <td>...</td>\n",
        "      <td> 0</td>\n",
        "      <td> 0</td>\n",
        "      <td> 0</td>\n",
        "      <td> 0</td>\n",
        "      <td> 1</td>\n",
        "      <td> 0</td>\n",
        "      <td> 1</td>\n",
        "      <td> 0</td>\n",
        "      <td> 0</td>\n",
        "      <td> 0</td>\n",
        "    </tr>\n",
        "    <tr>\n",
        "      <th>28  </th>\n",
        "      <td>              DINA_KADRY@YAHOO.COM</td>\n",
        "      <td>   52</td>\n",
        "      <td>  1</td>\n",
        "      <td>   0.000000</td>\n",
        "      <td> 1</td>\n",
        "      <td> 0</td>\n",
        "      <td> 0</td>\n",
        "      <td> 0</td>\n",
        "      <td> 0</td>\n",
        "      <td> 0</td>\n",
        "      <td>...</td>\n",
        "      <td> 0</td>\n",
        "      <td> 0</td>\n",
        "      <td> 0</td>\n",
        "      <td> 1</td>\n",
        "      <td> 0</td>\n",
        "      <td> 0</td>\n",
        "      <td> 0</td>\n",
        "      <td> 0</td>\n",
        "      <td> 0</td>\n",
        "      <td> 0</td>\n",
        "    </tr>\n",
        "    <tr>\n",
        "      <th>29  </th>\n",
        "      <td>       Dina_eldessouky@hotmail.com</td>\n",
        "      <td> 1116</td>\n",
        "      <td>  7</td>\n",
        "      <td>  18.000000</td>\n",
        "      <td> 2</td>\n",
        "      <td> 1</td>\n",
        "      <td> 1</td>\n",
        "      <td> 2</td>\n",
        "      <td> 0</td>\n",
        "      <td> 0</td>\n",
        "      <td>...</td>\n",
        "      <td> 0</td>\n",
        "      <td> 0</td>\n",
        "      <td> 0</td>\n",
        "      <td> 0</td>\n",
        "      <td> 2</td>\n",
        "      <td> 1</td>\n",
        "      <td> 1</td>\n",
        "      <td> 0</td>\n",
        "      <td> 1</td>\n",
        "      <td> 0</td>\n",
        "    </tr>\n",
        "    <tr>\n",
        "      <th>...</th>\n",
        "      <td>...</td>\n",
        "      <td>...</td>\n",
        "      <td>...</td>\n",
        "      <td>...</td>\n",
        "      <td>...</td>\n",
        "      <td>...</td>\n",
        "      <td>...</td>\n",
        "      <td>...</td>\n",
        "      <td>...</td>\n",
        "      <td>...</td>\n",
        "      <td>...</td>\n",
        "      <td>...</td>\n",
        "      <td>...</td>\n",
        "      <td>...</td>\n",
        "      <td>...</td>\n",
        "      <td>...</td>\n",
        "      <td>...</td>\n",
        "      <td>...</td>\n",
        "      <td>...</td>\n",
        "      <td>...</td>\n",
        "      <td>...</td>\n",
        "    </tr>\n",
        "    <tr>\n",
        "      <th>2343</th>\n",
        "      <td>              youssefkhalil@me.com</td>\n",
        "      <td>   87</td>\n",
        "      <td>  3</td>\n",
        "      <td>  99.666667</td>\n",
        "      <td> 1</td>\n",
        "      <td> 0</td>\n",
        "      <td> 1</td>\n",
        "      <td> 0</td>\n",
        "      <td> 1</td>\n",
        "      <td> 0</td>\n",
        "      <td>...</td>\n",
        "      <td> 0</td>\n",
        "      <td> 0</td>\n",
        "      <td> 0</td>\n",
        "      <td> 1</td>\n",
        "      <td> 0</td>\n",
        "      <td> 1</td>\n",
        "      <td> 0</td>\n",
        "      <td> 0</td>\n",
        "      <td> 0</td>\n",
        "      <td> 0</td>\n",
        "    </tr>\n",
        "    <tr>\n",
        "      <th>2344</th>\n",
        "      <td>          youssra.resaie@gmail.com</td>\n",
        "      <td>  526</td>\n",
        "      <td>  1</td>\n",
        "      <td>   0.000000</td>\n",
        "      <td> 0</td>\n",
        "      <td> 0</td>\n",
        "      <td> 1</td>\n",
        "      <td> 0</td>\n",
        "      <td> 0</td>\n",
        "      <td> 0</td>\n",
        "      <td>...</td>\n",
        "      <td> 0</td>\n",
        "      <td> 0</td>\n",
        "      <td> 0</td>\n",
        "      <td> 0</td>\n",
        "      <td> 1</td>\n",
        "      <td> 0</td>\n",
        "      <td> 0</td>\n",
        "      <td> 0</td>\n",
        "      <td> 0</td>\n",
        "      <td> 0</td>\n",
        "    </tr>\n",
        "    <tr>\n",
        "      <th>2345</th>\n",
        "      <td>                 youssra@gmail.com</td>\n",
        "      <td>  281</td>\n",
        "      <td>  1</td>\n",
        "      <td>   0.000000</td>\n",
        "      <td> 0</td>\n",
        "      <td> 0</td>\n",
        "      <td> 1</td>\n",
        "      <td> 0</td>\n",
        "      <td> 0</td>\n",
        "      <td> 0</td>\n",
        "      <td>...</td>\n",
        "      <td> 0</td>\n",
        "      <td> 0</td>\n",
        "      <td> 0</td>\n",
        "      <td> 0</td>\n",
        "      <td> 0</td>\n",
        "      <td> 0</td>\n",
        "      <td> 1</td>\n",
        "      <td> 0</td>\n",
        "      <td> 0</td>\n",
        "      <td> 0</td>\n",
        "    </tr>\n",
        "    <tr>\n",
        "      <th>2346</th>\n",
        "      <td>           youssra_kamal@yahoo.com</td>\n",
        "      <td>   22</td>\n",
        "      <td>  3</td>\n",
        "      <td>  21.333333</td>\n",
        "      <td> 0</td>\n",
        "      <td> 1</td>\n",
        "      <td> 2</td>\n",
        "      <td> 0</td>\n",
        "      <td> 0</td>\n",
        "      <td> 0</td>\n",
        "      <td>...</td>\n",
        "      <td> 0</td>\n",
        "      <td> 0</td>\n",
        "      <td> 0</td>\n",
        "      <td> 0</td>\n",
        "      <td> 2</td>\n",
        "      <td> 1</td>\n",
        "      <td> 0</td>\n",
        "      <td> 0</td>\n",
        "      <td> 0</td>\n",
        "      <td> 0</td>\n",
        "    </tr>\n",
        "    <tr>\n",
        "      <th>2347</th>\n",
        "      <td>         youssraaashmawi@gmail.com</td>\n",
        "      <td>   73</td>\n",
        "      <td>  1</td>\n",
        "      <td>   0.000000</td>\n",
        "      <td> 1</td>\n",
        "      <td> 0</td>\n",
        "      <td> 0</td>\n",
        "      <td> 0</td>\n",
        "      <td> 0</td>\n",
        "      <td> 0</td>\n",
        "      <td>...</td>\n",
        "      <td> 0</td>\n",
        "      <td> 0</td>\n",
        "      <td> 0</td>\n",
        "      <td> 0</td>\n",
        "      <td> 0</td>\n",
        "      <td> 0</td>\n",
        "      <td> 1</td>\n",
        "      <td> 0</td>\n",
        "      <td> 0</td>\n",
        "      <td> 0</td>\n",
        "    </tr>\n",
        "    <tr>\n",
        "      <th>2348</th>\n",
        "      <td>           yoyothetricky@gmail.com</td>\n",
        "      <td>    8</td>\n",
        "      <td>  2</td>\n",
        "      <td>   5.000000</td>\n",
        "      <td> 0</td>\n",
        "      <td> 0</td>\n",
        "      <td> 1</td>\n",
        "      <td> 0</td>\n",
        "      <td> 0</td>\n",
        "      <td> 0</td>\n",
        "      <td>...</td>\n",
        "      <td> 0</td>\n",
        "      <td> 0</td>\n",
        "      <td> 0</td>\n",
        "      <td> 0</td>\n",
        "      <td> 1</td>\n",
        "      <td> 1</td>\n",
        "      <td> 0</td>\n",
        "      <td> 0</td>\n",
        "      <td> 0</td>\n",
        "      <td> 0</td>\n",
        "    </tr>\n",
        "    <tr>\n",
        "      <th>2349</th>\n",
        "      <td>               yrelraheb@gmail.com</td>\n",
        "      <td> 1017</td>\n",
        "      <td>  1</td>\n",
        "      <td>   0.000000</td>\n",
        "      <td> 0</td>\n",
        "      <td> 1</td>\n",
        "      <td> 0</td>\n",
        "      <td> 0</td>\n",
        "      <td> 0</td>\n",
        "      <td> 0</td>\n",
        "      <td>...</td>\n",
        "      <td> 0</td>\n",
        "      <td> 0</td>\n",
        "      <td> 0</td>\n",
        "      <td> 0</td>\n",
        "      <td> 1</td>\n",
        "      <td> 0</td>\n",
        "      <td> 0</td>\n",
        "      <td> 0</td>\n",
        "      <td> 0</td>\n",
        "      <td> 0</td>\n",
        "    </tr>\n",
        "    <tr>\n",
        "      <th>2350</th>\n",
        "      <td>               yulbiba@hotmail.com</td>\n",
        "      <td>    7</td>\n",
        "      <td>  4</td>\n",
        "      <td>  15.750000</td>\n",
        "      <td> 0</td>\n",
        "      <td> 0</td>\n",
        "      <td> 0</td>\n",
        "      <td> 4</td>\n",
        "      <td> 0</td>\n",
        "      <td> 0</td>\n",
        "      <td>...</td>\n",
        "      <td> 0</td>\n",
        "      <td> 0</td>\n",
        "      <td> 0</td>\n",
        "      <td> 1</td>\n",
        "      <td> 0</td>\n",
        "      <td> 0</td>\n",
        "      <td> 0</td>\n",
        "      <td> 1</td>\n",
        "      <td> 1</td>\n",
        "      <td> 1</td>\n",
        "    </tr>\n",
        "    <tr>\n",
        "      <th>2351</th>\n",
        "      <td>             yumnakassim@gmail.com</td>\n",
        "      <td>  509</td>\n",
        "      <td>  2</td>\n",
        "      <td> 149.500000</td>\n",
        "      <td> 1</td>\n",
        "      <td> 0</td>\n",
        "      <td> 0</td>\n",
        "      <td> 0</td>\n",
        "      <td> 0</td>\n",
        "      <td> 1</td>\n",
        "      <td>...</td>\n",
        "      <td> 0</td>\n",
        "      <td> 0</td>\n",
        "      <td> 0</td>\n",
        "      <td> 0</td>\n",
        "      <td> 0</td>\n",
        "      <td> 1</td>\n",
        "      <td> 0</td>\n",
        "      <td> 0</td>\n",
        "      <td> 0</td>\n",
        "      <td> 1</td>\n",
        "    </tr>\n",
        "    <tr>\n",
        "      <th>2352</th>\n",
        "      <td>              z72addas@hotmail.com</td>\n",
        "      <td>  345</td>\n",
        "      <td>  1</td>\n",
        "      <td>   0.000000</td>\n",
        "      <td> 0</td>\n",
        "      <td> 1</td>\n",
        "      <td> 0</td>\n",
        "      <td> 0</td>\n",
        "      <td> 0</td>\n",
        "      <td> 0</td>\n",
        "      <td>...</td>\n",
        "      <td> 0</td>\n",
        "      <td> 0</td>\n",
        "      <td> 0</td>\n",
        "      <td> 0</td>\n",
        "      <td> 0</td>\n",
        "      <td> 1</td>\n",
        "      <td> 0</td>\n",
        "      <td> 0</td>\n",
        "      <td> 0</td>\n",
        "      <td> 0</td>\n",
        "    </tr>\n",
        "    <tr>\n",
        "      <th>2353</th>\n",
        "      <td>             zaki.farida@gmail.com</td>\n",
        "      <td>   60</td>\n",
        "      <td>  5</td>\n",
        "      <td>  31.400000</td>\n",
        "      <td> 0</td>\n",
        "      <td> 0</td>\n",
        "      <td> 0</td>\n",
        "      <td> 2</td>\n",
        "      <td> 0</td>\n",
        "      <td> 0</td>\n",
        "      <td>...</td>\n",
        "      <td> 0</td>\n",
        "      <td> 0</td>\n",
        "      <td> 0</td>\n",
        "      <td> 0</td>\n",
        "      <td> 0</td>\n",
        "      <td> 1</td>\n",
        "      <td> 2</td>\n",
        "      <td> 2</td>\n",
        "      <td> 0</td>\n",
        "      <td> 0</td>\n",
        "    </tr>\n",
        "    <tr>\n",
        "      <th>2354</th>\n",
        "      <td>               zedesem65@gmail.com</td>\n",
        "      <td>   39</td>\n",
        "      <td>  1</td>\n",
        "      <td>   0.000000</td>\n",
        "      <td> 0</td>\n",
        "      <td> 0</td>\n",
        "      <td> 0</td>\n",
        "      <td> 0</td>\n",
        "      <td> 0</td>\n",
        "      <td> 0</td>\n",
        "      <td>...</td>\n",
        "      <td> 0</td>\n",
        "      <td> 1</td>\n",
        "      <td> 0</td>\n",
        "      <td> 0</td>\n",
        "      <td> 0</td>\n",
        "      <td> 0</td>\n",
        "      <td> 0</td>\n",
        "      <td> 0</td>\n",
        "      <td> 0</td>\n",
        "      <td> 0</td>\n",
        "    </tr>\n",
        "    <tr>\n",
        "      <th>2355</th>\n",
        "      <td>                 zee.nap@gmail.com</td>\n",
        "      <td>  113</td>\n",
        "      <td>  1</td>\n",
        "      <td>   0.000000</td>\n",
        "      <td> 0</td>\n",
        "      <td> 0</td>\n",
        "      <td> 1</td>\n",
        "      <td> 0</td>\n",
        "      <td> 0</td>\n",
        "      <td> 0</td>\n",
        "      <td>...</td>\n",
        "      <td> 0</td>\n",
        "      <td> 0</td>\n",
        "      <td> 0</td>\n",
        "      <td> 0</td>\n",
        "      <td> 0</td>\n",
        "      <td> 0</td>\n",
        "      <td> 0</td>\n",
        "      <td> 1</td>\n",
        "      <td> 0</td>\n",
        "      <td> 0</td>\n",
        "    </tr>\n",
        "    <tr>\n",
        "      <th>2356</th>\n",
        "      <td>            zeina.kassas@gmail.com</td>\n",
        "      <td>  190</td>\n",
        "      <td>  6</td>\n",
        "      <td>  55.166667</td>\n",
        "      <td> 2</td>\n",
        "      <td> 2</td>\n",
        "      <td> 1</td>\n",
        "      <td> 0</td>\n",
        "      <td> 1</td>\n",
        "      <td> 0</td>\n",
        "      <td>...</td>\n",
        "      <td> 0</td>\n",
        "      <td> 0</td>\n",
        "      <td> 1</td>\n",
        "      <td> 0</td>\n",
        "      <td> 3</td>\n",
        "      <td> 1</td>\n",
        "      <td> 0</td>\n",
        "      <td> 0</td>\n",
        "      <td> 1</td>\n",
        "      <td> 0</td>\n",
        "    </tr>\n",
        "    <tr>\n",
        "      <th>2357</th>\n",
        "      <td>         zeina_ahmed95@hotmail.com</td>\n",
        "      <td>  423</td>\n",
        "      <td>  1</td>\n",
        "      <td>   0.000000</td>\n",
        "      <td> 1</td>\n",
        "      <td> 0</td>\n",
        "      <td> 0</td>\n",
        "      <td> 0</td>\n",
        "      <td> 0</td>\n",
        "      <td> 0</td>\n",
        "      <td>...</td>\n",
        "      <td> 0</td>\n",
        "      <td> 0</td>\n",
        "      <td> 0</td>\n",
        "      <td> 0</td>\n",
        "      <td> 0</td>\n",
        "      <td> 0</td>\n",
        "      <td> 0</td>\n",
        "      <td> 0</td>\n",
        "      <td> 1</td>\n",
        "      <td> 0</td>\n",
        "    </tr>\n",
        "    <tr>\n",
        "      <th>2358</th>\n",
        "      <td>            zeina_naim@hotmail.com</td>\n",
        "      <td>   35</td>\n",
        "      <td>  1</td>\n",
        "      <td>   0.000000</td>\n",
        "      <td> 0</td>\n",
        "      <td> 0</td>\n",
        "      <td> 0</td>\n",
        "      <td> 1</td>\n",
        "      <td> 0</td>\n",
        "      <td> 0</td>\n",
        "      <td>...</td>\n",
        "      <td> 0</td>\n",
        "      <td> 0</td>\n",
        "      <td> 0</td>\n",
        "      <td> 1</td>\n",
        "      <td> 0</td>\n",
        "      <td> 0</td>\n",
        "      <td> 0</td>\n",
        "      <td> 0</td>\n",
        "      <td> 0</td>\n",
        "      <td> 0</td>\n",
        "    </tr>\n",
        "    <tr>\n",
        "      <th>2359</th>\n",
        "      <td>         zeinabahmedtaha@yahoo.com</td>\n",
        "      <td> 1055</td>\n",
        "      <td>  1</td>\n",
        "      <td>   0.000000</td>\n",
        "      <td> 0</td>\n",
        "      <td> 0</td>\n",
        "      <td> 0</td>\n",
        "      <td> 0</td>\n",
        "      <td> 0</td>\n",
        "      <td> 1</td>\n",
        "      <td>...</td>\n",
        "      <td> 0</td>\n",
        "      <td> 0</td>\n",
        "      <td> 0</td>\n",
        "      <td> 0</td>\n",
        "      <td> 0</td>\n",
        "      <td> 0</td>\n",
        "      <td> 1</td>\n",
        "      <td> 0</td>\n",
        "      <td> 0</td>\n",
        "      <td> 0</td>\n",
        "    </tr>\n",
        "    <tr>\n",
        "      <th>2360</th>\n",
        "      <td>      zeinabkhalil2010@hotmail.com</td>\n",
        "      <td>  182</td>\n",
        "      <td>  3</td>\n",
        "      <td>   8.333333</td>\n",
        "      <td> 0</td>\n",
        "      <td> 0</td>\n",
        "      <td> 0</td>\n",
        "      <td> 1</td>\n",
        "      <td> 0</td>\n",
        "      <td> 0</td>\n",
        "      <td>...</td>\n",
        "      <td> 0</td>\n",
        "      <td> 0</td>\n",
        "      <td> 0</td>\n",
        "      <td> 0</td>\n",
        "      <td> 0</td>\n",
        "      <td> 1</td>\n",
        "      <td> 2</td>\n",
        "      <td> 0</td>\n",
        "      <td> 0</td>\n",
        "      <td> 0</td>\n",
        "    </tr>\n",
        "    <tr>\n",
        "      <th>2361</th>\n",
        "      <td>              zeinabnour@gmail.com</td>\n",
        "      <td>  416</td>\n",
        "      <td>  2</td>\n",
        "      <td>   0.500000</td>\n",
        "      <td> 1</td>\n",
        "      <td> 0</td>\n",
        "      <td> 0</td>\n",
        "      <td> 0</td>\n",
        "      <td> 0</td>\n",
        "      <td> 0</td>\n",
        "      <td>...</td>\n",
        "      <td> 0</td>\n",
        "      <td> 0</td>\n",
        "      <td> 0</td>\n",
        "      <td> 1</td>\n",
        "      <td> 0</td>\n",
        "      <td> 0</td>\n",
        "      <td> 1</td>\n",
        "      <td> 0</td>\n",
        "      <td> 0</td>\n",
        "      <td> 0</td>\n",
        "    </tr>\n",
        "    <tr>\n",
        "      <th>2362</th>\n",
        "      <td>              zeinahodroj@live.com</td>\n",
        "      <td>  276</td>\n",
        "      <td>  2</td>\n",
        "      <td>   0.000000</td>\n",
        "      <td> 2</td>\n",
        "      <td> 0</td>\n",
        "      <td> 0</td>\n",
        "      <td> 0</td>\n",
        "      <td> 0</td>\n",
        "      <td> 0</td>\n",
        "      <td>...</td>\n",
        "      <td> 0</td>\n",
        "      <td> 1</td>\n",
        "      <td> 0</td>\n",
        "      <td> 0</td>\n",
        "      <td> 1</td>\n",
        "      <td> 0</td>\n",
        "      <td> 0</td>\n",
        "      <td> 0</td>\n",
        "      <td> 0</td>\n",
        "      <td> 0</td>\n",
        "    </tr>\n",
        "    <tr>\n",
        "      <th>2363</th>\n",
        "      <td>              zeinasabry@gmail.com</td>\n",
        "      <td>  574</td>\n",
        "      <td>  7</td>\n",
        "      <td>  35.714286</td>\n",
        "      <td> 2</td>\n",
        "      <td> 1</td>\n",
        "      <td> 0</td>\n",
        "      <td> 2</td>\n",
        "      <td> 0</td>\n",
        "      <td> 2</td>\n",
        "      <td>...</td>\n",
        "      <td> 0</td>\n",
        "      <td> 0</td>\n",
        "      <td> 0</td>\n",
        "      <td> 2</td>\n",
        "      <td> 2</td>\n",
        "      <td> 0</td>\n",
        "      <td> 0</td>\n",
        "      <td> 2</td>\n",
        "      <td> 0</td>\n",
        "      <td> 0</td>\n",
        "    </tr>\n",
        "    <tr>\n",
        "      <th>2364</th>\n",
        "      <td>               zeinriham@gmail.com</td>\n",
        "      <td>   29</td>\n",
        "      <td>  2</td>\n",
        "      <td>  35.500000</td>\n",
        "      <td> 0</td>\n",
        "      <td> 1</td>\n",
        "      <td> 1</td>\n",
        "      <td> 0</td>\n",
        "      <td> 0</td>\n",
        "      <td> 0</td>\n",
        "      <td>...</td>\n",
        "      <td> 0</td>\n",
        "      <td> 0</td>\n",
        "      <td> 0</td>\n",
        "      <td> 1</td>\n",
        "      <td> 0</td>\n",
        "      <td> 0</td>\n",
        "      <td> 0</td>\n",
        "      <td> 0</td>\n",
        "      <td> 0</td>\n",
        "      <td> 0</td>\n",
        "    </tr>\n",
        "    <tr>\n",
        "      <th>2365</th>\n",
        "      <td>           zenaabdelbaky@gmail.com</td>\n",
        "      <td>  148</td>\n",
        "      <td>  2</td>\n",
        "      <td> 219.000000</td>\n",
        "      <td> 0</td>\n",
        "      <td> 0</td>\n",
        "      <td> 1</td>\n",
        "      <td> 0</td>\n",
        "      <td> 0</td>\n",
        "      <td> 1</td>\n",
        "      <td>...</td>\n",
        "      <td> 0</td>\n",
        "      <td> 0</td>\n",
        "      <td> 0</td>\n",
        "      <td> 0</td>\n",
        "      <td> 0</td>\n",
        "      <td> 0</td>\n",
        "      <td> 0</td>\n",
        "      <td> 1</td>\n",
        "      <td> 0</td>\n",
        "      <td> 0</td>\n",
        "    </tr>\n",
        "    <tr>\n",
        "      <th>2366</th>\n",
        "      <td>            zeyadattalla@yahoo.com</td>\n",
        "      <td>  225</td>\n",
        "      <td>  1</td>\n",
        "      <td>   0.000000</td>\n",
        "      <td> 0</td>\n",
        "      <td> 0</td>\n",
        "      <td> 1</td>\n",
        "      <td> 0</td>\n",
        "      <td> 0</td>\n",
        "      <td> 0</td>\n",
        "      <td>...</td>\n",
        "      <td> 0</td>\n",
        "      <td> 0</td>\n",
        "      <td> 0</td>\n",
        "      <td> 0</td>\n",
        "      <td> 0</td>\n",
        "      <td> 0</td>\n",
        "      <td> 0</td>\n",
        "      <td> 0</td>\n",
        "      <td> 0</td>\n",
        "      <td> 0</td>\n",
        "    </tr>\n",
        "    <tr>\n",
        "      <th>2367</th>\n",
        "      <td>                ziadihab@gmail.com</td>\n",
        "      <td>  247</td>\n",
        "      <td>  1</td>\n",
        "      <td>   0.000000</td>\n",
        "      <td> 0</td>\n",
        "      <td> 1</td>\n",
        "      <td> 0</td>\n",
        "      <td> 0</td>\n",
        "      <td> 0</td>\n",
        "      <td> 0</td>\n",
        "      <td>...</td>\n",
        "      <td> 0</td>\n",
        "      <td> 0</td>\n",
        "      <td> 0</td>\n",
        "      <td> 0</td>\n",
        "      <td> 0</td>\n",
        "      <td> 0</td>\n",
        "      <td> 0</td>\n",
        "      <td> 0</td>\n",
        "      <td> 0</td>\n",
        "      <td> 0</td>\n",
        "    </tr>\n",
        "    <tr>\n",
        "      <th>2368</th>\n",
        "      <td>               ziadusama@ymail.com</td>\n",
        "      <td>   18</td>\n",
        "      <td>  1</td>\n",
        "      <td>   0.000000</td>\n",
        "      <td> 0</td>\n",
        "      <td> 0</td>\n",
        "      <td> 0</td>\n",
        "      <td> 0</td>\n",
        "      <td> 0</td>\n",
        "      <td> 0</td>\n",
        "      <td>...</td>\n",
        "      <td> 0</td>\n",
        "      <td> 0</td>\n",
        "      <td> 0</td>\n",
        "      <td> 1</td>\n",
        "      <td> 0</td>\n",
        "      <td> 0</td>\n",
        "      <td> 0</td>\n",
        "      <td> 0</td>\n",
        "      <td> 0</td>\n",
        "      <td> 0</td>\n",
        "    </tr>\n",
        "    <tr>\n",
        "      <th>2369</th>\n",
        "      <td>               zinelhini@yahoo.com</td>\n",
        "      <td>  807</td>\n",
        "      <td>  1</td>\n",
        "      <td>   0.000000</td>\n",
        "      <td> 0</td>\n",
        "      <td> 1</td>\n",
        "      <td> 0</td>\n",
        "      <td> 0</td>\n",
        "      <td> 0</td>\n",
        "      <td> 0</td>\n",
        "      <td>...</td>\n",
        "      <td> 0</td>\n",
        "      <td> 0</td>\n",
        "      <td> 0</td>\n",
        "      <td> 0</td>\n",
        "      <td> 0</td>\n",
        "      <td> 0</td>\n",
        "      <td> 1</td>\n",
        "      <td> 0</td>\n",
        "      <td> 0</td>\n",
        "      <td> 0</td>\n",
        "    </tr>\n",
        "    <tr>\n",
        "      <th>2370</th>\n",
        "      <td>                zleseman@gmail.com</td>\n",
        "      <td>  976</td>\n",
        "      <td>  2</td>\n",
        "      <td>  35.500000</td>\n",
        "      <td> 1</td>\n",
        "      <td> 0</td>\n",
        "      <td> 0</td>\n",
        "      <td> 0</td>\n",
        "      <td> 0</td>\n",
        "      <td> 0</td>\n",
        "      <td>...</td>\n",
        "      <td> 0</td>\n",
        "      <td> 0</td>\n",
        "      <td> 0</td>\n",
        "      <td> 0</td>\n",
        "      <td> 0</td>\n",
        "      <td> 1</td>\n",
        "      <td> 0</td>\n",
        "      <td> 1</td>\n",
        "      <td> 0</td>\n",
        "      <td> 0</td>\n",
        "    </tr>\n",
        "    <tr>\n",
        "      <th>2371</th>\n",
        "      <td>           zolaykha1st@hotmail.com</td>\n",
        "      <td>  375</td>\n",
        "      <td>  1</td>\n",
        "      <td>   0.000000</td>\n",
        "      <td> 0</td>\n",
        "      <td> 0</td>\n",
        "      <td> 0</td>\n",
        "      <td> 0</td>\n",
        "      <td> 0</td>\n",
        "      <td> 0</td>\n",
        "      <td>...</td>\n",
        "      <td> 0</td>\n",
        "      <td> 0</td>\n",
        "      <td> 1</td>\n",
        "      <td> 0</td>\n",
        "      <td> 0</td>\n",
        "      <td> 0</td>\n",
        "      <td> 0</td>\n",
        "      <td> 0</td>\n",
        "      <td> 0</td>\n",
        "      <td> 0</td>\n",
        "    </tr>\n",
        "    <tr>\n",
        "      <th>2372</th>\n",
        "      <td>               zshafei@outlook.com</td>\n",
        "      <td>   20</td>\n",
        "      <td>  7</td>\n",
        "      <td>  48.571429</td>\n",
        "      <td> 2</td>\n",
        "      <td> 1</td>\n",
        "      <td> 2</td>\n",
        "      <td> 1</td>\n",
        "      <td> 1</td>\n",
        "      <td> 0</td>\n",
        "      <td>...</td>\n",
        "      <td> 0</td>\n",
        "      <td> 0</td>\n",
        "      <td> 0</td>\n",
        "      <td> 2</td>\n",
        "      <td> 1</td>\n",
        "      <td> 3</td>\n",
        "      <td> 0</td>\n",
        "      <td> 0</td>\n",
        "      <td> 0</td>\n",
        "      <td> 1</td>\n",
        "    </tr>\n",
        "  </tbody>\n",
        "</table>\n",
        "<p>2373 rows \u00d7 23 columns</p>\n",
        "</div>"
       ],
       "metadata": {},
       "output_type": "pyout",
       "prompt_number": 7,
       "text": [
        "                                  Email  Days from Last order  Total orders  \\\n",
        "0            11435mail@mkallenberger.de                   941             1   \n",
        "1                         1@gargour.com                   260             2   \n",
        "2                     1kttate@gmail.com                   114             4   \n",
        "3             1youniqueflower@gmail.com                    23             3   \n",
        "4                    3aliaa.h@gmail.com                   263             3   \n",
        "5              777nadiateirah@gmail.com                    32             2   \n",
        "6                             A2@ed.com                   102             1   \n",
        "7               ASHRAF.M.ZAKI@GMAIL.COM                  1174             1   \n",
        "8                  Adhamada@hotmail.com                  1262             1   \n",
        "9           Ahmed.Habash@moevenpick.com                   263             1   \n",
        "10    Ahmed.adel.abdelmonam@hotmail.com                   121             1   \n",
        "11              Aliamossallam@gmail.com                     9            23   \n",
        "12          Andrea.Heilman@aucegypt.edu                   291             4   \n",
        "13              Asmaa.ahmed@hotmail.com                    37             4   \n",
        "14               Attia.nevien@gmail.com                   331             3   \n",
        "15                Ayatheone@hotmail.com                   139             1   \n",
        "16                Azzassallam@gmail.com                   307             1   \n",
        "17                    BAGBOUG@yahoo.com                   285             1   \n",
        "18                    Bakryna@gmail.com                  1204             1   \n",
        "19              Basmaha2010@hotmail.com                   249             1   \n",
        "20                     Bebi84@gmail.com                   976             3   \n",
        "21                     Biro5s@yahoo.com                  1307             1   \n",
        "22          Bouchra_erraiss@hotmail.com                   588             1   \n",
        "23                    Bunny_Chan@web.de                   227             3   \n",
        "24               Buty_Heart@hotmail.com                   209             1   \n",
        "25          Camillia.Marmoush@gmail.com                    25             5   \n",
        "26              Carinesabbagh@gmail.com                   240            37   \n",
        "27                Christine@baramki.com                   524             2   \n",
        "28                 DINA_KADRY@YAHOO.COM                    52             1   \n",
        "29          Dina_eldessouky@hotmail.com                  1116             7   \n",
        "...                                 ...                   ...           ...   \n",
        "2343               youssefkhalil@me.com                    87             3   \n",
        "2344           youssra.resaie@gmail.com                   526             1   \n",
        "2345                  youssra@gmail.com                   281             1   \n",
        "2346            youssra_kamal@yahoo.com                    22             3   \n",
        "2347          youssraaashmawi@gmail.com                    73             1   \n",
        "2348            yoyothetricky@gmail.com                     8             2   \n",
        "2349                yrelraheb@gmail.com                  1017             1   \n",
        "2350                yulbiba@hotmail.com                     7             4   \n",
        "2351              yumnakassim@gmail.com                   509             2   \n",
        "2352               z72addas@hotmail.com                   345             1   \n",
        "2353              zaki.farida@gmail.com                    60             5   \n",
        "2354                zedesem65@gmail.com                    39             1   \n",
        "2355                  zee.nap@gmail.com                   113             1   \n",
        "2356             zeina.kassas@gmail.com                   190             6   \n",
        "2357          zeina_ahmed95@hotmail.com                   423             1   \n",
        "2358             zeina_naim@hotmail.com                    35             1   \n",
        "2359          zeinabahmedtaha@yahoo.com                  1055             1   \n",
        "2360       zeinabkhalil2010@hotmail.com                   182             3   \n",
        "2361               zeinabnour@gmail.com                   416             2   \n",
        "2362               zeinahodroj@live.com                   276             2   \n",
        "2363               zeinasabry@gmail.com                   574             7   \n",
        "2364                zeinriham@gmail.com                    29             2   \n",
        "2365            zenaabdelbaky@gmail.com                   148             2   \n",
        "2366             zeyadattalla@yahoo.com                   225             1   \n",
        "2367                 ziadihab@gmail.com                   247             1   \n",
        "2368                ziadusama@ymail.com                    18             1   \n",
        "2369                zinelhini@yahoo.com                   807             1   \n",
        "2370                 zleseman@gmail.com                   976             2   \n",
        "2371            zolaykha1st@hotmail.com                   375             1   \n",
        "2372                zshafei@outlook.com                    20             7   \n",
        "\n",
        "      Average days between orders  Sunday  Monday  Tuesday  Wednesday  \\\n",
        "0                        0.000000       1       0        0          0   \n",
        "1                       47.000000       0       0        1          0   \n",
        "2                        5.500000       1       2        0          0   \n",
        "3                      125.000000       0       1        1          0   \n",
        "4                        7.333333       1       0        0          0   \n",
        "5                        2.500000       0       1        0          0   \n",
        "6                        0.000000       0       0        0          0   \n",
        "7                        0.000000       0       0        0          0   \n",
        "8                        0.000000       0       1        0          0   \n",
        "9                        0.000000       0       0        0          0   \n",
        "10                       0.000000       0       1        0          0   \n",
        "11                      18.304348       5       7        3          1   \n",
        "12                       2.750000       0       0        2          0   \n",
        "13                       4.000000       0       1        0          1   \n",
        "14                       0.666667       0       2        0          0   \n",
        "15                       0.000000       0       0        0          0   \n",
        "16                       0.000000       0       0        0          0   \n",
        "17                       0.000000       0       0        0          0   \n",
        "18                       0.000000       0       0        0          1   \n",
        "19                       0.000000       0       0        0          0   \n",
        "20                       7.000000       2       0        0          1   \n",
        "21                       0.000000       0       0        0          0   \n",
        "22                       0.000000       0       0        0          1   \n",
        "23                      88.666667       2       0        0          0   \n",
        "24                       0.000000       0       0        0          0   \n",
        "25                       2.800000       1       0        0          0   \n",
        "26                      27.567568       7       6        8          5   \n",
        "27                       3.500000       0       0        0          0   \n",
        "28                       0.000000       1       0        0          0   \n",
        "29                      18.000000       2       1        1          2   \n",
        "...                           ...     ...     ...      ...        ...   \n",
        "2343                    99.666667       1       0        1          0   \n",
        "2344                     0.000000       0       0        1          0   \n",
        "2345                     0.000000       0       0        1          0   \n",
        "2346                    21.333333       0       1        2          0   \n",
        "2347                     0.000000       1       0        0          0   \n",
        "2348                     5.000000       0       0        1          0   \n",
        "2349                     0.000000       0       1        0          0   \n",
        "2350                    15.750000       0       0        0          4   \n",
        "2351                   149.500000       1       0        0          0   \n",
        "2352                     0.000000       0       1        0          0   \n",
        "2353                    31.400000       0       0        0          2   \n",
        "2354                     0.000000       0       0        0          0   \n",
        "2355                     0.000000       0       0        1          0   \n",
        "2356                    55.166667       2       2        1          0   \n",
        "2357                     0.000000       1       0        0          0   \n",
        "2358                     0.000000       0       0        0          1   \n",
        "2359                     0.000000       0       0        0          0   \n",
        "2360                     8.333333       0       0        0          1   \n",
        "2361                     0.500000       1       0        0          0   \n",
        "2362                     0.000000       2       0        0          0   \n",
        "2363                    35.714286       2       1        0          2   \n",
        "2364                    35.500000       0       1        1          0   \n",
        "2365                   219.000000       0       0        1          0   \n",
        "2366                     0.000000       0       0        1          0   \n",
        "2367                     0.000000       0       1        0          0   \n",
        "2368                     0.000000       0       0        0          0   \n",
        "2369                     0.000000       0       1        0          0   \n",
        "2370                    35.500000       1       0        0          0   \n",
        "2371                     0.000000       0       0        0          0   \n",
        "2372                    48.571429       2       1        2          1   \n",
        "\n",
        "      Thursday  Friday      ...       4:00 - 6:00  6:00 - 8:00  8:00 - 10:00  \\\n",
        "0            0       0      ...                 0            0             0   \n",
        "1            0       0      ...                 0            0             0   \n",
        "2            1       0      ...                 0            0             2   \n",
        "3            1       0      ...                 0            0             0   \n",
        "4            0       1      ...                 0            0             0   \n",
        "5            0       0      ...                 0            0             0   \n",
        "6            0       0      ...                 0            0             0   \n",
        "7            0       1      ...                 0            0             1   \n",
        "8            0       0      ...                 0            0             0   \n",
        "9            0       0      ...                 0            0             0   \n",
        "10           0       0      ...                 0            0             0   \n",
        "11           1       4      ...                 0            0             0   \n",
        "12           0       0      ...                 0            0             0   \n",
        "13           0       0      ...                 0            0             0   \n",
        "14           0       0      ...                 0            0             0   \n",
        "15           1       0      ...                 0            0             0   \n",
        "16           1       0      ...                 0            0             0   \n",
        "17           0       1      ...                 0            0             0   \n",
        "18           0       0      ...                 0            0             0   \n",
        "19           0       0      ...                 0            0             0   \n",
        "20           0       0      ...                 0            0             0   \n",
        "21           0       1      ...                 0            0             0   \n",
        "22           0       0      ...                 0            0             0   \n",
        "23           0       1      ...                 0            0             0   \n",
        "24           1       0      ...                 0            0             0   \n",
        "25           0       0      ...                 0            0             0   \n",
        "26           4       2      ...                 1            0             3   \n",
        "27           2       0      ...                 0            0             0   \n",
        "28           0       0      ...                 0            0             0   \n",
        "29           0       0      ...                 0            0             0   \n",
        "...        ...     ...      ...               ...          ...           ...   \n",
        "2343         1       0      ...                 0            0             0   \n",
        "2344         0       0      ...                 0            0             0   \n",
        "2345         0       0      ...                 0            0             0   \n",
        "2346         0       0      ...                 0            0             0   \n",
        "2347         0       0      ...                 0            0             0   \n",
        "2348         0       0      ...                 0            0             0   \n",
        "2349         0       0      ...                 0            0             0   \n",
        "2350         0       0      ...                 0            0             0   \n",
        "2351         0       1      ...                 0            0             0   \n",
        "2352         0       0      ...                 0            0             0   \n",
        "2353         0       0      ...                 0            0             0   \n",
        "2354         0       0      ...                 0            1             0   \n",
        "2355         0       0      ...                 0            0             0   \n",
        "2356         1       0      ...                 0            0             1   \n",
        "2357         0       0      ...                 0            0             0   \n",
        "2358         0       0      ...                 0            0             0   \n",
        "2359         0       1      ...                 0            0             0   \n",
        "2360         0       0      ...                 0            0             0   \n",
        "2361         0       0      ...                 0            0             0   \n",
        "2362         0       0      ...                 0            1             0   \n",
        "2363         0       2      ...                 0            0             0   \n",
        "2364         0       0      ...                 0            0             0   \n",
        "2365         0       1      ...                 0            0             0   \n",
        "2366         0       0      ...                 0            0             0   \n",
        "2367         0       0      ...                 0            0             0   \n",
        "2368         0       0      ...                 0            0             0   \n",
        "2369         0       0      ...                 0            0             0   \n",
        "2370         0       0      ...                 0            0             0   \n",
        "2371         0       0      ...                 0            0             1   \n",
        "2372         1       0      ...                 0            0             0   \n",
        "\n",
        "      10:00 - 12:00  12:00 - 14:00  14:00 - 16:00  16:00 - 18:00  \\\n",
        "0                 0              0              1              0   \n",
        "1                 0              0              1              1   \n",
        "2                 1              1              0              0   \n",
        "3                 0              1              0              1   \n",
        "4                 0              0              0              1   \n",
        "5                 1              1              0              0   \n",
        "6                 0              1              0              0   \n",
        "7                 0              0              0              0   \n",
        "8                 0              0              0              0   \n",
        "9                 0              0              1              0   \n",
        "10                0              0              0              0   \n",
        "11                5              5              5              2   \n",
        "12                2              2              0              0   \n",
        "13                0              0              1              2   \n",
        "14                0              0              2              1   \n",
        "15                0              0              0              0   \n",
        "16                1              0              0              0   \n",
        "17                0              0              0              0   \n",
        "18                0              0              0              0   \n",
        "19                0              0              0              0   \n",
        "20                0              1              0              1   \n",
        "21                0              0              0              0   \n",
        "22                0              1              0              0   \n",
        "23                0              1              0              1   \n",
        "24                0              0              0              1   \n",
        "25                3              2              0              0   \n",
        "26                2              3              2              5   \n",
        "27                0              1              0              1   \n",
        "28                1              0              0              0   \n",
        "29                0              2              1              1   \n",
        "...             ...            ...            ...            ...   \n",
        "2343              1              0              1              0   \n",
        "2344              0              1              0              0   \n",
        "2345              0              0              0              1   \n",
        "2346              0              2              1              0   \n",
        "2347              0              0              0              1   \n",
        "2348              0              1              1              0   \n",
        "2349              0              1              0              0   \n",
        "2350              1              0              0              0   \n",
        "2351              0              0              1              0   \n",
        "2352              0              0              1              0   \n",
        "2353              0              0              1              2   \n",
        "2354              0              0              0              0   \n",
        "2355              0              0              0              0   \n",
        "2356              0              3              1              0   \n",
        "2357              0              0              0              0   \n",
        "2358              1              0              0              0   \n",
        "2359              0              0              0              1   \n",
        "2360              0              0              1              2   \n",
        "2361              1              0              0              1   \n",
        "2362              0              1              0              0   \n",
        "2363              2              2              0              0   \n",
        "2364              1              0              0              0   \n",
        "2365              0              0              0              0   \n",
        "2366              0              0              0              0   \n",
        "2367              0              0              0              0   \n",
        "2368              1              0              0              0   \n",
        "2369              0              0              0              1   \n",
        "2370              0              0              1              0   \n",
        "2371              0              0              0              0   \n",
        "2372              2              1              3              0   \n",
        "\n",
        "      18:00 - 20:00  20:00 - 22:00  22:00 - 0:00  \n",
        "0                 0              0             0  \n",
        "1                 0              0             0  \n",
        "2                 0              0             0  \n",
        "3                 0              0             1  \n",
        "4                 0              0             0  \n",
        "5                 0              0             0  \n",
        "6                 0              0             0  \n",
        "7                 0              0             0  \n",
        "8                 1              0             0  \n",
        "9                 0              0             0  \n",
        "10                0              0             0  \n",
        "11                2              2             0  \n",
        "12                0              0             0  \n",
        "13                1              0             0  \n",
        "14                0              0             0  \n",
        "15                0              0             1  \n",
        "16                0              0             0  \n",
        "17                0              0             0  \n",
        "18                0              0             0  \n",
        "19                0              0             1  \n",
        "20                0              0             1  \n",
        "21                1              0             0  \n",
        "22                0              0             0  \n",
        "23                0              1             0  \n",
        "24                0              0             0  \n",
        "25                0              0             0  \n",
        "26                2              2             5  \n",
        "27                0              0             0  \n",
        "28                0              0             0  \n",
        "29                0              1             0  \n",
        "...             ...            ...           ...  \n",
        "2343              0              0             0  \n",
        "2344              0              0             0  \n",
        "2345              0              0             0  \n",
        "2346              0              0             0  \n",
        "2347              0              0             0  \n",
        "2348              0              0             0  \n",
        "2349              0              0             0  \n",
        "2350              1              1             1  \n",
        "2351              0              0             1  \n",
        "2352              0              0             0  \n",
        "2353              2              0             0  \n",
        "2354              0              0             0  \n",
        "2355              1              0             0  \n",
        "2356              0              1             0  \n",
        "2357              0              1             0  \n",
        "2358              0              0             0  \n",
        "2359              0              0             0  \n",
        "2360              0              0             0  \n",
        "2361              0              0             0  \n",
        "2362              0              0             0  \n",
        "2363              2              0             0  \n",
        "2364              0              0             0  \n",
        "2365              1              0             0  \n",
        "2366              0              0             0  \n",
        "2367              0              0             0  \n",
        "2368              0              0             0  \n",
        "2369              0              0             0  \n",
        "2370              1              0             0  \n",
        "2371              0              0             0  \n",
        "2372              0              0             1  \n",
        "\n",
        "[2373 rows x 23 columns]"
       ]
      }
     ],
     "prompt_number": 7
    },
    {
     "cell_type": "code",
     "collapsed": false,
     "input": [
      "df6 = df6.merge(df, on = ['Email'], how = 'outer')\n",
      "df6"
     ],
     "language": "python",
     "metadata": {},
     "outputs": [
      {
       "html": [
        "<div style=\"max-height:1000px;max-width:1500px;overflow:auto;\">\n",
        "<table border=\"1\" class=\"dataframe\">\n",
        "  <thead>\n",
        "    <tr style=\"text-align: right;\">\n",
        "      <th></th>\n",
        "      <th>Email</th>\n",
        "      <th>Days from Last order</th>\n",
        "      <th>Total orders</th>\n",
        "      <th>Average days between orders</th>\n",
        "      <th>Sunday</th>\n",
        "      <th>Monday</th>\n",
        "      <th>Tuesday</th>\n",
        "      <th>Wednesday</th>\n",
        "      <th>Thursday</th>\n",
        "      <th>Friday</th>\n",
        "      <th>...</th>\n",
        "      <th>16:00 - 18:00</th>\n",
        "      <th>18:00 - 20:00</th>\n",
        "      <th>20:00 - 22:00</th>\n",
        "      <th>22:00 - 0:00</th>\n",
        "      <th>Name</th>\n",
        "      <th>Revenue</th>\n",
        "      <th>Basket Value</th>\n",
        "      <th>Segment</th>\n",
        "      <th>Address</th>\n",
        "      <th>Phone</th>\n",
        "    </tr>\n",
        "  </thead>\n",
        "  <tbody>\n",
        "    <tr>\n",
        "      <th>0   </th>\n",
        "      <td>        11435mail@mkallenberger.de</td>\n",
        "      <td>  941</td>\n",
        "      <td>  1</td>\n",
        "      <td>   0.000000</td>\n",
        "      <td>  1</td>\n",
        "      <td>  0</td>\n",
        "      <td>  0</td>\n",
        "      <td>  0</td>\n",
        "      <td>  0</td>\n",
        "      <td>  0</td>\n",
        "      <td>...</td>\n",
        "      <td>  0</td>\n",
        "      <td>  0</td>\n",
        "      <td>  0</td>\n",
        "      <td>  0</td>\n",
        "      <td> Magdalena Kallenberger</td>\n",
        "      <td>   267.17</td>\n",
        "      <td> 267.170000</td>\n",
        "      <td>          Fresh Beef &amp; Poultry</td>\n",
        "      <td>                                               NaN</td>\n",
        "      <td>                 01090904137</td>\n",
        "    </tr>\n",
        "    <tr>\n",
        "      <th>1   </th>\n",
        "      <td>                     1@gargour.com</td>\n",
        "      <td>  260</td>\n",
        "      <td>  2</td>\n",
        "      <td>  47.000000</td>\n",
        "      <td>  0</td>\n",
        "      <td>  0</td>\n",
        "      <td>  1</td>\n",
        "      <td>  0</td>\n",
        "      <td>  0</td>\n",
        "      <td>  0</td>\n",
        "      <td>...</td>\n",
        "      <td>  1</td>\n",
        "      <td>  0</td>\n",
        "      <td>  0</td>\n",
        "      <td>  0</td>\n",
        "      <td>          Alain  Phar\u00e8s</td>\n",
        "      <td>  1001.10</td>\n",
        "      <td> 500.550000</td>\n",
        "      <td>                       Variety</td>\n",
        "      <td>                  31 golf street  app 69/6th maadi</td>\n",
        "      <td>                 01222160835</td>\n",
        "    </tr>\n",
        "    <tr>\n",
        "      <th>2   </th>\n",
        "      <td>                 1kttate@gmail.com</td>\n",
        "      <td>  114</td>\n",
        "      <td>  4</td>\n",
        "      <td>   5.500000</td>\n",
        "      <td>  1</td>\n",
        "      <td>  2</td>\n",
        "      <td>  0</td>\n",
        "      <td>  0</td>\n",
        "      <td>  1</td>\n",
        "      <td>  0</td>\n",
        "      <td>...</td>\n",
        "      <td>  0</td>\n",
        "      <td>  0</td>\n",
        "      <td>  0</td>\n",
        "      <td>  0</td>\n",
        "      <td>             Kelly Tate</td>\n",
        "      <td>   648.00</td>\n",
        "      <td> 162.000000</td>\n",
        "      <td>                    Vegetables</td>\n",
        "      <td> Street 33, Building 154, Area 1, Group 2, Taga...</td>\n",
        "      <td>                 01023063292</td>\n",
        "    </tr>\n",
        "    <tr>\n",
        "      <th>3   </th>\n",
        "      <td>         1youniqueflower@gmail.com</td>\n",
        "      <td>   23</td>\n",
        "      <td>  3</td>\n",
        "      <td> 125.000000</td>\n",
        "      <td>  0</td>\n",
        "      <td>  1</td>\n",
        "      <td>  1</td>\n",
        "      <td>  0</td>\n",
        "      <td>  1</td>\n",
        "      <td>  0</td>\n",
        "      <td>...</td>\n",
        "      <td>  1</td>\n",
        "      <td>  0</td>\n",
        "      <td>  0</td>\n",
        "      <td>  1</td>\n",
        "      <td>             Lara Scott</td>\n",
        "      <td>   909.00</td>\n",
        "      <td> 303.000000</td>\n",
        "      <td>                       Variety</td>\n",
        "      <td> 23 Abdalla Deraz St.  #203 - 2nd Floor, left s...</td>\n",
        "      <td>                 01221124426</td>\n",
        "    </tr>\n",
        "    <tr>\n",
        "      <th>4   </th>\n",
        "      <td>                3aliaa.h@gmail.com</td>\n",
        "      <td>  263</td>\n",
        "      <td>  3</td>\n",
        "      <td>   7.333333</td>\n",
        "      <td>  1</td>\n",
        "      <td>  0</td>\n",
        "      <td>  0</td>\n",
        "      <td>  0</td>\n",
        "      <td>  0</td>\n",
        "      <td>  1</td>\n",
        "      <td>...</td>\n",
        "      <td>  1</td>\n",
        "      <td>  0</td>\n",
        "      <td>  0</td>\n",
        "      <td>  0</td>\n",
        "      <td>          mohamed tolba</td>\n",
        "      <td>   160.00</td>\n",
        "      <td>  53.333333</td>\n",
        "      <td>                       Variety</td>\n",
        "      <td>        11 shams el din el koufy st  17 heliopolis</td>\n",
        "      <td>                 01001436666</td>\n",
        "    </tr>\n",
        "    <tr>\n",
        "      <th>5   </th>\n",
        "      <td>          777nadiateirah@gmail.com</td>\n",
        "      <td>   32</td>\n",
        "      <td>  2</td>\n",
        "      <td>   2.500000</td>\n",
        "      <td>  0</td>\n",
        "      <td>  1</td>\n",
        "      <td>  0</td>\n",
        "      <td>  0</td>\n",
        "      <td>  0</td>\n",
        "      <td>  0</td>\n",
        "      <td>...</td>\n",
        "      <td>  0</td>\n",
        "      <td>  0</td>\n",
        "      <td>  0</td>\n",
        "      <td>  0</td>\n",
        "      <td>           Nadia Teirah</td>\n",
        "      <td>   290.00</td>\n",
        "      <td> 145.000000</td>\n",
        "      <td>                           NaN</td>\n",
        "      <td>                                               NaN</td>\n",
        "      <td>                 01005510543</td>\n",
        "    </tr>\n",
        "    <tr>\n",
        "      <th>6   </th>\n",
        "      <td>                         A2@ed.com</td>\n",
        "      <td>  102</td>\n",
        "      <td>  1</td>\n",
        "      <td>   0.000000</td>\n",
        "      <td>  0</td>\n",
        "      <td>  0</td>\n",
        "      <td>  0</td>\n",
        "      <td>  0</td>\n",
        "      <td>  0</td>\n",
        "      <td>  0</td>\n",
        "      <td>...</td>\n",
        "      <td>  0</td>\n",
        "      <td>  0</td>\n",
        "      <td>  0</td>\n",
        "      <td>  0</td>\n",
        "      <td>          Aladdin Nabil</td>\n",
        "      <td>    30.00</td>\n",
        "      <td>  30.000000</td>\n",
        "      <td>                       Poultry</td>\n",
        "      <td>                         Hadayek al ahram 20 Ahram</td>\n",
        "      <td>               0100001224555</td>\n",
        "    </tr>\n",
        "    <tr>\n",
        "      <th>7   </th>\n",
        "      <td>           ASHRAF.M.ZAKI@GMAIL.COM</td>\n",
        "      <td> 1174</td>\n",
        "      <td>  1</td>\n",
        "      <td>   0.000000</td>\n",
        "      <td>  0</td>\n",
        "      <td>  0</td>\n",
        "      <td>  0</td>\n",
        "      <td>  0</td>\n",
        "      <td>  0</td>\n",
        "      <td>  1</td>\n",
        "      <td>...</td>\n",
        "      <td>  0</td>\n",
        "      <td>  0</td>\n",
        "      <td>  0</td>\n",
        "      <td>  0</td>\n",
        "      <td>            ASHRAF ZAKI</td>\n",
        "      <td>   300.18</td>\n",
        "      <td> 300.180000</td>\n",
        "      <td>      Grains, seeds and cereal</td>\n",
        "      <td> 19 Gabalayah Street, 9th Floor, Apt 92 Zamalek...</td>\n",
        "      <td>                 01222174854</td>\n",
        "    </tr>\n",
        "    <tr>\n",
        "      <th>8   </th>\n",
        "      <td>              Adhamada@hotmail.com</td>\n",
        "      <td> 1262</td>\n",
        "      <td>  1</td>\n",
        "      <td>   0.000000</td>\n",
        "      <td>  0</td>\n",
        "      <td>  1</td>\n",
        "      <td>  0</td>\n",
        "      <td>  0</td>\n",
        "      <td>  0</td>\n",
        "      <td>  0</td>\n",
        "      <td>...</td>\n",
        "      <td>  0</td>\n",
        "      <td>  1</td>\n",
        "      <td>  0</td>\n",
        "      <td>  0</td>\n",
        "      <td>           Adham Hamada</td>\n",
        "      <td>    61.20</td>\n",
        "      <td>  61.200000</td>\n",
        "      <td>          Fresh Beef &amp; Poultry</td>\n",
        "      <td> 5 eskandar el Akbar st. Heliopolis First floor...</td>\n",
        "      <td>                 01223221581</td>\n",
        "    </tr>\n",
        "    <tr>\n",
        "      <th>9   </th>\n",
        "      <td>       Ahmed.Habash@moevenpick.com</td>\n",
        "      <td>  263</td>\n",
        "      <td>  1</td>\n",
        "      <td>   0.000000</td>\n",
        "      <td>  0</td>\n",
        "      <td>  0</td>\n",
        "      <td>  0</td>\n",
        "      <td>  0</td>\n",
        "      <td>  0</td>\n",
        "      <td>  0</td>\n",
        "      <td>...</td>\n",
        "      <td>  0</td>\n",
        "      <td>  0</td>\n",
        "      <td>  0</td>\n",
        "      <td>  0</td>\n",
        "      <td>           Ahmed Habash</td>\n",
        "      <td>   360.00</td>\n",
        "      <td> 360.000000</td>\n",
        "      <td>                        Bakery</td>\n",
        "      <td>                                               NaN</td>\n",
        "      <td>                 01066656222</td>\n",
        "    </tr>\n",
        "    <tr>\n",
        "      <th>10  </th>\n",
        "      <td> Ahmed.adel.abdelmonam@hotmail.com</td>\n",
        "      <td>  121</td>\n",
        "      <td>  1</td>\n",
        "      <td>   0.000000</td>\n",
        "      <td>  0</td>\n",
        "      <td>  1</td>\n",
        "      <td>  0</td>\n",
        "      <td>  0</td>\n",
        "      <td>  0</td>\n",
        "      <td>  0</td>\n",
        "      <td>...</td>\n",
        "      <td>  0</td>\n",
        "      <td>  0</td>\n",
        "      <td>  0</td>\n",
        "      <td>  0</td>\n",
        "      <td>             Ahmed Adel</td>\n",
        "      <td>   424.00</td>\n",
        "      <td> 424.000000</td>\n",
        "      <td>      Grains, seeds and cereal</td>\n",
        "      <td> 24 Extension Abo Dawood El Zahery  3rd Floor. ...</td>\n",
        "      <td>                 01060002000</td>\n",
        "    </tr>\n",
        "    <tr>\n",
        "      <th>11  </th>\n",
        "      <td>           Aliamossallam@gmail.com</td>\n",
        "      <td>    9</td>\n",
        "      <td> 23</td>\n",
        "      <td>  18.304348</td>\n",
        "      <td>  5</td>\n",
        "      <td>  7</td>\n",
        "      <td>  3</td>\n",
        "      <td>  1</td>\n",
        "      <td>  1</td>\n",
        "      <td>  4</td>\n",
        "      <td>...</td>\n",
        "      <td>  2</td>\n",
        "      <td>  2</td>\n",
        "      <td>  2</td>\n",
        "      <td>  0</td>\n",
        "      <td>         Alia Mossallam</td>\n",
        "      <td>  7096.62</td>\n",
        "      <td> 308.548696</td>\n",
        "      <td>                       Variety</td>\n",
        "      <td>              59 Road 14, Moqattam 4th floor Cairo</td>\n",
        "      <td>                 01222344036</td>\n",
        "    </tr>\n",
        "    <tr>\n",
        "      <th>12  </th>\n",
        "      <td>       Andrea.Heilman@aucegypt.edu</td>\n",
        "      <td>  291</td>\n",
        "      <td>  4</td>\n",
        "      <td>   2.750000</td>\n",
        "      <td>  0</td>\n",
        "      <td>  0</td>\n",
        "      <td>  2</td>\n",
        "      <td>  0</td>\n",
        "      <td>  0</td>\n",
        "      <td>  0</td>\n",
        "      <td>...</td>\n",
        "      <td>  0</td>\n",
        "      <td>  0</td>\n",
        "      <td>  0</td>\n",
        "      <td>  0</td>\n",
        "      <td>         Andrea Heilman</td>\n",
        "      <td>   819.10</td>\n",
        "      <td> 204.775000</td>\n",
        "      <td>                       Variety</td>\n",
        "      <td>             16 Mohammed Thakeb, Zamalek 805 Cairo</td>\n",
        "      <td>                 01202070773</td>\n",
        "    </tr>\n",
        "    <tr>\n",
        "      <th>13  </th>\n",
        "      <td>           Asmaa.ahmed@hotmail.com</td>\n",
        "      <td>   37</td>\n",
        "      <td>  4</td>\n",
        "      <td>   4.000000</td>\n",
        "      <td>  0</td>\n",
        "      <td>  1</td>\n",
        "      <td>  0</td>\n",
        "      <td>  1</td>\n",
        "      <td>  0</td>\n",
        "      <td>  0</td>\n",
        "      <td>...</td>\n",
        "      <td>  2</td>\n",
        "      <td>  1</td>\n",
        "      <td>  0</td>\n",
        "      <td>  0</td>\n",
        "      <td>            Asmaa Ahmed</td>\n",
        "      <td>  3404.00</td>\n",
        "      <td> 851.000000</td>\n",
        "      <td>                        Bakery</td>\n",
        "      <td> Nasr city*Car Market*Shaban Company 10th distr...</td>\n",
        "      <td> 01026442230     01093551807</td>\n",
        "    </tr>\n",
        "    <tr>\n",
        "      <th>14  </th>\n",
        "      <td>            Attia.nevien@gmail.com</td>\n",
        "      <td>  331</td>\n",
        "      <td>  3</td>\n",
        "      <td>   0.666667</td>\n",
        "      <td>  0</td>\n",
        "      <td>  2</td>\n",
        "      <td>  0</td>\n",
        "      <td>  0</td>\n",
        "      <td>  0</td>\n",
        "      <td>  0</td>\n",
        "      <td>...</td>\n",
        "      <td>  1</td>\n",
        "      <td>  0</td>\n",
        "      <td>  0</td>\n",
        "      <td>  0</td>\n",
        "      <td>           Sherif Saleh</td>\n",
        "      <td>   475.00</td>\n",
        "      <td> 158.333333</td>\n",
        "      <td>                    Vegetables</td>\n",
        "      <td>                                               NaN</td>\n",
        "      <td>                 01222103099</td>\n",
        "    </tr>\n",
        "    <tr>\n",
        "      <th>15  </th>\n",
        "      <td>             Ayatheone@hotmail.com</td>\n",
        "      <td>  139</td>\n",
        "      <td>  1</td>\n",
        "      <td>   0.000000</td>\n",
        "      <td>  0</td>\n",
        "      <td>  0</td>\n",
        "      <td>  0</td>\n",
        "      <td>  0</td>\n",
        "      <td>  1</td>\n",
        "      <td>  0</td>\n",
        "      <td>...</td>\n",
        "      <td>  0</td>\n",
        "      <td>  0</td>\n",
        "      <td>  0</td>\n",
        "      <td>  1</td>\n",
        "      <td>                    NaN</td>\n",
        "      <td>      NaN</td>\n",
        "      <td>        NaN</td>\n",
        "      <td>                           NaN</td>\n",
        "      <td>                                               NaN</td>\n",
        "      <td>                         NaN</td>\n",
        "    </tr>\n",
        "    <tr>\n",
        "      <th>16  </th>\n",
        "      <td>             Azzassallam@gmail.com</td>\n",
        "      <td>  307</td>\n",
        "      <td>  1</td>\n",
        "      <td>   0.000000</td>\n",
        "      <td>  0</td>\n",
        "      <td>  0</td>\n",
        "      <td>  0</td>\n",
        "      <td>  0</td>\n",
        "      <td>  1</td>\n",
        "      <td>  0</td>\n",
        "      <td>...</td>\n",
        "      <td>  0</td>\n",
        "      <td>  0</td>\n",
        "      <td>  0</td>\n",
        "      <td>  0</td>\n",
        "      <td>            Azza Sallam</td>\n",
        "      <td>    45.00</td>\n",
        "      <td>  45.000000</td>\n",
        "      <td>                     Cosmetics</td>\n",
        "      <td>                                               NaN</td>\n",
        "      <td>                 01019078478</td>\n",
        "    </tr>\n",
        "    <tr>\n",
        "      <th>17  </th>\n",
        "      <td>                 BAGBOUG@yahoo.com</td>\n",
        "      <td>  285</td>\n",
        "      <td>  1</td>\n",
        "      <td>   0.000000</td>\n",
        "      <td>  0</td>\n",
        "      <td>  0</td>\n",
        "      <td>  0</td>\n",
        "      <td>  0</td>\n",
        "      <td>  0</td>\n",
        "      <td>  1</td>\n",
        "      <td>...</td>\n",
        "      <td>  0</td>\n",
        "      <td>  0</td>\n",
        "      <td>  0</td>\n",
        "      <td>  0</td>\n",
        "      <td>         Brigitte Kamal</td>\n",
        "      <td>   113.50</td>\n",
        "      <td> 113.500000</td>\n",
        "      <td>                          Beef</td>\n",
        "      <td> 31 Hamouda Mahmoud from end of Makram ebeid , ...</td>\n",
        "      <td>                 01141224422</td>\n",
        "    </tr>\n",
        "    <tr>\n",
        "      <th>18  </th>\n",
        "      <td>                 Bakryna@gmail.com</td>\n",
        "      <td> 1204</td>\n",
        "      <td>  1</td>\n",
        "      <td>   0.000000</td>\n",
        "      <td>  0</td>\n",
        "      <td>  0</td>\n",
        "      <td>  0</td>\n",
        "      <td>  1</td>\n",
        "      <td>  0</td>\n",
        "      <td>  0</td>\n",
        "      <td>...</td>\n",
        "      <td>  0</td>\n",
        "      <td>  0</td>\n",
        "      <td>  0</td>\n",
        "      <td>  0</td>\n",
        "      <td>              Nna Bakry</td>\n",
        "      <td>   122.25</td>\n",
        "      <td> 122.250000</td>\n",
        "      <td>      Grains, seeds and cereal</td>\n",
        "      <td> 37 shehab street , floor 15th appartment 1 Moh...</td>\n",
        "      <td>                         NaN</td>\n",
        "    </tr>\n",
        "    <tr>\n",
        "      <th>19  </th>\n",
        "      <td>           Basmaha2010@hotmail.com</td>\n",
        "      <td>  249</td>\n",
        "      <td>  1</td>\n",
        "      <td>   0.000000</td>\n",
        "      <td>  0</td>\n",
        "      <td>  0</td>\n",
        "      <td>  0</td>\n",
        "      <td>  0</td>\n",
        "      <td>  0</td>\n",
        "      <td>  0</td>\n",
        "      <td>...</td>\n",
        "      <td>  0</td>\n",
        "      <td>  0</td>\n",
        "      <td>  0</td>\n",
        "      <td>  1</td>\n",
        "      <td>          Basma Elgazar</td>\n",
        "      <td>    55.00</td>\n",
        "      <td>  55.000000</td>\n",
        "      <td>      Grains, seeds and cereal</td>\n",
        "      <td>                                               NaN</td>\n",
        "      <td>                 01117005877</td>\n",
        "    </tr>\n",
        "    <tr>\n",
        "      <th>20  </th>\n",
        "      <td>                  Bebi84@gmail.com</td>\n",
        "      <td>  976</td>\n",
        "      <td>  3</td>\n",
        "      <td>   7.000000</td>\n",
        "      <td>  2</td>\n",
        "      <td>  0</td>\n",
        "      <td>  0</td>\n",
        "      <td>  1</td>\n",
        "      <td>  0</td>\n",
        "      <td>  0</td>\n",
        "      <td>...</td>\n",
        "      <td>  1</td>\n",
        "      <td>  0</td>\n",
        "      <td>  0</td>\n",
        "      <td>  1</td>\n",
        "      <td>             Heba Ragab</td>\n",
        "      <td>   411.19</td>\n",
        "      <td> 137.063333</td>\n",
        "      <td>                       Variety</td>\n",
        "      <td> 54,Mohi el din abuo el ezz,st,dokii, floor 10,...</td>\n",
        "      <td>                 01009599615</td>\n",
        "    </tr>\n",
        "    <tr>\n",
        "      <th>21  </th>\n",
        "      <td>                  Biro5s@yahoo.com</td>\n",
        "      <td> 1307</td>\n",
        "      <td>  1</td>\n",
        "      <td>   0.000000</td>\n",
        "      <td>  0</td>\n",
        "      <td>  0</td>\n",
        "      <td>  0</td>\n",
        "      <td>  0</td>\n",
        "      <td>  0</td>\n",
        "      <td>  1</td>\n",
        "      <td>...</td>\n",
        "      <td>  0</td>\n",
        "      <td>  1</td>\n",
        "      <td>  0</td>\n",
        "      <td>  0</td>\n",
        "      <td>                    NaN</td>\n",
        "      <td>      NaN</td>\n",
        "      <td>        NaN</td>\n",
        "      <td>                           NaN</td>\n",
        "      <td>                                               NaN</td>\n",
        "      <td>                         NaN</td>\n",
        "    </tr>\n",
        "    <tr>\n",
        "      <th>22  </th>\n",
        "      <td>       Bouchra_erraiss@hotmail.com</td>\n",
        "      <td>  588</td>\n",
        "      <td>  1</td>\n",
        "      <td>   0.000000</td>\n",
        "      <td>  0</td>\n",
        "      <td>  0</td>\n",
        "      <td>  0</td>\n",
        "      <td>  1</td>\n",
        "      <td>  0</td>\n",
        "      <td>  0</td>\n",
        "      <td>...</td>\n",
        "      <td>  0</td>\n",
        "      <td>  0</td>\n",
        "      <td>  0</td>\n",
        "      <td>  0</td>\n",
        "      <td>         Haisam Soliman</td>\n",
        "      <td>   285.75</td>\n",
        "      <td> 285.750000</td>\n",
        "      <td>                     Cosmetics</td>\n",
        "      <td> Villa 14/4 abdelwahab mohammed street Al rehab...</td>\n",
        "      <td>                 01202244355</td>\n",
        "    </tr>\n",
        "    <tr>\n",
        "      <th>23  </th>\n",
        "      <td>                 Bunny_Chan@web.de</td>\n",
        "      <td>  227</td>\n",
        "      <td>  3</td>\n",
        "      <td>  88.666667</td>\n",
        "      <td>  2</td>\n",
        "      <td>  0</td>\n",
        "      <td>  0</td>\n",
        "      <td>  0</td>\n",
        "      <td>  0</td>\n",
        "      <td>  1</td>\n",
        "      <td>...</td>\n",
        "      <td>  1</td>\n",
        "      <td>  0</td>\n",
        "      <td>  1</td>\n",
        "      <td>  0</td>\n",
        "      <td>           Yasser Awadd</td>\n",
        "      <td>   397.00</td>\n",
        "      <td> 132.333333</td>\n",
        "      <td>                       Variety</td>\n",
        "      <td>                                               NaN</td>\n",
        "      <td>                 01003588073</td>\n",
        "    </tr>\n",
        "    <tr>\n",
        "      <th>24  </th>\n",
        "      <td>            Buty_Heart@hotmail.com</td>\n",
        "      <td>  209</td>\n",
        "      <td>  1</td>\n",
        "      <td>   0.000000</td>\n",
        "      <td>  0</td>\n",
        "      <td>  0</td>\n",
        "      <td>  0</td>\n",
        "      <td>  0</td>\n",
        "      <td>  1</td>\n",
        "      <td>  0</td>\n",
        "      <td>...</td>\n",
        "      <td>  1</td>\n",
        "      <td>  0</td>\n",
        "      <td>  0</td>\n",
        "      <td>  0</td>\n",
        "      <td>           Asmaa Medaht</td>\n",
        "      <td>   332.00</td>\n",
        "      <td> 332.000000</td>\n",
        "      <td>      Grains, seeds and cereal</td>\n",
        "      <td> Km 28, Cairo Alexandria Desert Rd., Smart Vill...</td>\n",
        "      <td>               +201007901118</td>\n",
        "    </tr>\n",
        "    <tr>\n",
        "      <th>25  </th>\n",
        "      <td>       Camillia.Marmoush@gmail.com</td>\n",
        "      <td>   25</td>\n",
        "      <td>  5</td>\n",
        "      <td>   2.800000</td>\n",
        "      <td>  1</td>\n",
        "      <td>  0</td>\n",
        "      <td>  0</td>\n",
        "      <td>  0</td>\n",
        "      <td>  0</td>\n",
        "      <td>  0</td>\n",
        "      <td>...</td>\n",
        "      <td>  0</td>\n",
        "      <td>  0</td>\n",
        "      <td>  0</td>\n",
        "      <td>  0</td>\n",
        "      <td>     Camillia  Marmoush</td>\n",
        "      <td>  1437.00</td>\n",
        "      <td> 287.400000</td>\n",
        "      <td>                           NaN</td>\n",
        "      <td> 5th district Amr ebn elass st.0*area h*south o...</td>\n",
        "      <td>                 01002280010</td>\n",
        "    </tr>\n",
        "    <tr>\n",
        "      <th>26  </th>\n",
        "      <td>           Carinesabbagh@gmail.com</td>\n",
        "      <td>  240</td>\n",
        "      <td> 37</td>\n",
        "      <td>  27.567568</td>\n",
        "      <td>  7</td>\n",
        "      <td>  6</td>\n",
        "      <td>  8</td>\n",
        "      <td>  5</td>\n",
        "      <td>  4</td>\n",
        "      <td>  2</td>\n",
        "      <td>...</td>\n",
        "      <td>  5</td>\n",
        "      <td>  2</td>\n",
        "      <td>  2</td>\n",
        "      <td>  5</td>\n",
        "      <td>         carine sabbagh</td>\n",
        "      <td> 12189.72</td>\n",
        "      <td> 329.451892</td>\n",
        "      <td>                       Variety</td>\n",
        "      <td> 11 Rashdan st. dokki off of mesaha square 5th ...</td>\n",
        "      <td>                 01000100745</td>\n",
        "    </tr>\n",
        "    <tr>\n",
        "      <th>27  </th>\n",
        "      <td>             Christine@baramki.com</td>\n",
        "      <td>  524</td>\n",
        "      <td>  2</td>\n",
        "      <td>   3.500000</td>\n",
        "      <td>  0</td>\n",
        "      <td>  0</td>\n",
        "      <td>  0</td>\n",
        "      <td>  0</td>\n",
        "      <td>  2</td>\n",
        "      <td>  0</td>\n",
        "      <td>...</td>\n",
        "      <td>  1</td>\n",
        "      <td>  0</td>\n",
        "      <td>  0</td>\n",
        "      <td>  0</td>\n",
        "      <td>                    NaN</td>\n",
        "      <td>      NaN</td>\n",
        "      <td>        NaN</td>\n",
        "      <td>                           NaN</td>\n",
        "      <td>                                               NaN</td>\n",
        "      <td>                         NaN</td>\n",
        "    </tr>\n",
        "    <tr>\n",
        "      <th>28  </th>\n",
        "      <td>              DINA_KADRY@YAHOO.COM</td>\n",
        "      <td>   52</td>\n",
        "      <td>  1</td>\n",
        "      <td>   0.000000</td>\n",
        "      <td>  1</td>\n",
        "      <td>  0</td>\n",
        "      <td>  0</td>\n",
        "      <td>  0</td>\n",
        "      <td>  0</td>\n",
        "      <td>  0</td>\n",
        "      <td>...</td>\n",
        "      <td>  0</td>\n",
        "      <td>  0</td>\n",
        "      <td>  0</td>\n",
        "      <td>  0</td>\n",
        "      <td>             Dina Kadry</td>\n",
        "      <td>   230.00</td>\n",
        "      <td> 230.000000</td>\n",
        "      <td>      Grains, seeds and cereal</td>\n",
        "      <td> Almostathmeroun Alshamaleya / of 90th road / a...</td>\n",
        "      <td>                 01000993094</td>\n",
        "    </tr>\n",
        "    <tr>\n",
        "      <th>29  </th>\n",
        "      <td>       Dina_eldessouky@hotmail.com</td>\n",
        "      <td> 1116</td>\n",
        "      <td>  7</td>\n",
        "      <td>  18.000000</td>\n",
        "      <td>  2</td>\n",
        "      <td>  1</td>\n",
        "      <td>  1</td>\n",
        "      <td>  2</td>\n",
        "      <td>  0</td>\n",
        "      <td>  0</td>\n",
        "      <td>...</td>\n",
        "      <td>  1</td>\n",
        "      <td>  0</td>\n",
        "      <td>  1</td>\n",
        "      <td>  0</td>\n",
        "      <td>       Dina El-dessouky</td>\n",
        "      <td>  1000.08</td>\n",
        "      <td> 142.868571</td>\n",
        "      <td>      Grains, seeds and cereal</td>\n",
        "      <td>                                               NaN</td>\n",
        "      <td>                 01008020608</td>\n",
        "    </tr>\n",
        "    <tr>\n",
        "      <th>...</th>\n",
        "      <td>...</td>\n",
        "      <td>...</td>\n",
        "      <td>...</td>\n",
        "      <td>...</td>\n",
        "      <td>...</td>\n",
        "      <td>...</td>\n",
        "      <td>...</td>\n",
        "      <td>...</td>\n",
        "      <td>...</td>\n",
        "      <td>...</td>\n",
        "      <td>...</td>\n",
        "      <td>...</td>\n",
        "      <td>...</td>\n",
        "      <td>...</td>\n",
        "      <td>...</td>\n",
        "      <td>...</td>\n",
        "      <td>...</td>\n",
        "      <td>...</td>\n",
        "      <td>...</td>\n",
        "      <td>...</td>\n",
        "      <td>...</td>\n",
        "    </tr>\n",
        "    <tr>\n",
        "      <th>2350</th>\n",
        "      <td>               yulbiba@hotmail.com</td>\n",
        "      <td>    7</td>\n",
        "      <td>  4</td>\n",
        "      <td>  15.750000</td>\n",
        "      <td>  0</td>\n",
        "      <td>  0</td>\n",
        "      <td>  0</td>\n",
        "      <td>  4</td>\n",
        "      <td>  0</td>\n",
        "      <td>  0</td>\n",
        "      <td>...</td>\n",
        "      <td>  0</td>\n",
        "      <td>  1</td>\n",
        "      <td>  1</td>\n",
        "      <td>  1</td>\n",
        "      <td>         Yuliay Ivanova</td>\n",
        "      <td>   507.20</td>\n",
        "      <td> 126.800000</td>\n",
        "      <td>                       Variety</td>\n",
        "      <td> Beverly Hills compound  Forty west . Building ...</td>\n",
        "      <td>                 01150888848</td>\n",
        "    </tr>\n",
        "    <tr>\n",
        "      <th>2351</th>\n",
        "      <td>             yumnakassim@gmail.com</td>\n",
        "      <td>  509</td>\n",
        "      <td>  2</td>\n",
        "      <td> 149.500000</td>\n",
        "      <td>  1</td>\n",
        "      <td>  0</td>\n",
        "      <td>  0</td>\n",
        "      <td>  0</td>\n",
        "      <td>  0</td>\n",
        "      <td>  1</td>\n",
        "      <td>...</td>\n",
        "      <td>  0</td>\n",
        "      <td>  0</td>\n",
        "      <td>  0</td>\n",
        "      <td>  1</td>\n",
        "      <td>  Subscriber Newsletter</td>\n",
        "      <td>   297.50</td>\n",
        "      <td> 148.750000</td>\n",
        "      <td>                       Variety</td>\n",
        "      <td>         19 Menis Street, ElKorba Heliopolis Cairo</td>\n",
        "      <td>                 01005047970</td>\n",
        "    </tr>\n",
        "    <tr>\n",
        "      <th>2352</th>\n",
        "      <td>              z72addas@hotmail.com</td>\n",
        "      <td>  345</td>\n",
        "      <td>  1</td>\n",
        "      <td>   0.000000</td>\n",
        "      <td>  0</td>\n",
        "      <td>  1</td>\n",
        "      <td>  0</td>\n",
        "      <td>  0</td>\n",
        "      <td>  0</td>\n",
        "      <td>  0</td>\n",
        "      <td>...</td>\n",
        "      <td>  0</td>\n",
        "      <td>  0</td>\n",
        "      <td>  0</td>\n",
        "      <td>  0</td>\n",
        "      <td>            zeina addas</td>\n",
        "      <td>   350.85</td>\n",
        "      <td> 350.850000</td>\n",
        "      <td>                       Seafood</td>\n",
        "      <td>         19 tahawi st, golf area heliopolise cairo</td>\n",
        "      <td>               +201223781733</td>\n",
        "    </tr>\n",
        "    <tr>\n",
        "      <th>2353</th>\n",
        "      <td>             zaki.farida@gmail.com</td>\n",
        "      <td>   60</td>\n",
        "      <td>  5</td>\n",
        "      <td>  31.400000</td>\n",
        "      <td>  0</td>\n",
        "      <td>  0</td>\n",
        "      <td>  0</td>\n",
        "      <td>  2</td>\n",
        "      <td>  0</td>\n",
        "      <td>  0</td>\n",
        "      <td>...</td>\n",
        "      <td>  2</td>\n",
        "      <td>  2</td>\n",
        "      <td>  0</td>\n",
        "      <td>  0</td>\n",
        "      <td>           Farida  Zaki</td>\n",
        "      <td>   931.50</td>\n",
        "      <td> 186.300000</td>\n",
        "      <td>                       Variety</td>\n",
        "      <td> 56 Nazih Khalifa St. Heliopolis  3rd floor, Ap...</td>\n",
        "      <td>              00201001108847</td>\n",
        "    </tr>\n",
        "    <tr>\n",
        "      <th>2354</th>\n",
        "      <td>               zedesem65@gmail.com</td>\n",
        "      <td>   39</td>\n",
        "      <td>  1</td>\n",
        "      <td>   0.000000</td>\n",
        "      <td>  0</td>\n",
        "      <td>  0</td>\n",
        "      <td>  0</td>\n",
        "      <td>  0</td>\n",
        "      <td>  0</td>\n",
        "      <td>  0</td>\n",
        "      <td>...</td>\n",
        "      <td>  0</td>\n",
        "      <td>  0</td>\n",
        "      <td>  0</td>\n",
        "      <td>  0</td>\n",
        "      <td>        Zeinab  Mutawa </td>\n",
        "      <td>   160.00</td>\n",
        "      <td> 160.000000</td>\n",
        "      <td>                           NaN</td>\n",
        "      <td> 9 El Saada street, roxy, Heliopolis  April 181...</td>\n",
        "      <td>                 01222107517</td>\n",
        "    </tr>\n",
        "    <tr>\n",
        "      <th>2355</th>\n",
        "      <td>                 zee.nap@gmail.com</td>\n",
        "      <td>  113</td>\n",
        "      <td>  1</td>\n",
        "      <td>   0.000000</td>\n",
        "      <td>  0</td>\n",
        "      <td>  0</td>\n",
        "      <td>  1</td>\n",
        "      <td>  0</td>\n",
        "      <td>  0</td>\n",
        "      <td>  0</td>\n",
        "      <td>...</td>\n",
        "      <td>  0</td>\n",
        "      <td>  1</td>\n",
        "      <td>  0</td>\n",
        "      <td>  0</td>\n",
        "      <td>        Zeinab M.Shaker</td>\n",
        "      <td>    37.00</td>\n",
        "      <td>  37.000000</td>\n",
        "      <td>                    Vegetables</td>\n",
        "      <td> 566 Palestine St. Ground floor, Integrant Maad...</td>\n",
        "      <td>                201005211550</td>\n",
        "    </tr>\n",
        "    <tr>\n",
        "      <th>2356</th>\n",
        "      <td>            zeina.kassas@gmail.com</td>\n",
        "      <td>  190</td>\n",
        "      <td>  6</td>\n",
        "      <td>  55.166667</td>\n",
        "      <td>  2</td>\n",
        "      <td>  2</td>\n",
        "      <td>  1</td>\n",
        "      <td>  0</td>\n",
        "      <td>  1</td>\n",
        "      <td>  0</td>\n",
        "      <td>...</td>\n",
        "      <td>  0</td>\n",
        "      <td>  0</td>\n",
        "      <td>  1</td>\n",
        "      <td>  0</td>\n",
        "      <td>           zeina kassas</td>\n",
        "      <td>   907.60</td>\n",
        "      <td> 151.266667</td>\n",
        "      <td>                       Variety</td>\n",
        "      <td>        Madinaty Group 17, Building 8 31 New Cairo</td>\n",
        "      <td>                 01000448740</td>\n",
        "    </tr>\n",
        "    <tr>\n",
        "      <th>2357</th>\n",
        "      <td>         zeina_ahmed95@hotmail.com</td>\n",
        "      <td>  423</td>\n",
        "      <td>  1</td>\n",
        "      <td>   0.000000</td>\n",
        "      <td>  1</td>\n",
        "      <td>  0</td>\n",
        "      <td>  0</td>\n",
        "      <td>  0</td>\n",
        "      <td>  0</td>\n",
        "      <td>  0</td>\n",
        "      <td>...</td>\n",
        "      <td>  0</td>\n",
        "      <td>  0</td>\n",
        "      <td>  1</td>\n",
        "      <td>  0</td>\n",
        "      <td>           Nashwa Hafez</td>\n",
        "      <td>   718.80</td>\n",
        "      <td> 718.800000</td>\n",
        "      <td>                          Beef</td>\n",
        "      <td>                                               NaN</td>\n",
        "      <td>                 01141222226</td>\n",
        "    </tr>\n",
        "    <tr>\n",
        "      <th>2358</th>\n",
        "      <td>            zeina_naim@hotmail.com</td>\n",
        "      <td>   35</td>\n",
        "      <td>  1</td>\n",
        "      <td>   0.000000</td>\n",
        "      <td>  0</td>\n",
        "      <td>  0</td>\n",
        "      <td>  0</td>\n",
        "      <td>  1</td>\n",
        "      <td>  0</td>\n",
        "      <td>  0</td>\n",
        "      <td>...</td>\n",
        "      <td>  0</td>\n",
        "      <td>  0</td>\n",
        "      <td>  0</td>\n",
        "      <td>  0</td>\n",
        "      <td>             Zeina Naim</td>\n",
        "      <td>    67.00</td>\n",
        "      <td>  67.000000</td>\n",
        "      <td>                           NaN</td>\n",
        "      <td>                                               NaN</td>\n",
        "      <td>                 01025550552</td>\n",
        "    </tr>\n",
        "    <tr>\n",
        "      <th>2359</th>\n",
        "      <td>         zeinabahmedtaha@yahoo.com</td>\n",
        "      <td> 1055</td>\n",
        "      <td>  1</td>\n",
        "      <td>   0.000000</td>\n",
        "      <td>  0</td>\n",
        "      <td>  0</td>\n",
        "      <td>  0</td>\n",
        "      <td>  0</td>\n",
        "      <td>  0</td>\n",
        "      <td>  1</td>\n",
        "      <td>...</td>\n",
        "      <td>  1</td>\n",
        "      <td>  0</td>\n",
        "      <td>  0</td>\n",
        "      <td>  0</td>\n",
        "      <td>            Zeinab Taha</td>\n",
        "      <td>   106.30</td>\n",
        "      <td> 106.300000</td>\n",
        "      <td>                       Variety</td>\n",
        "      <td>                                               NaN</td>\n",
        "      <td>                 01271188471</td>\n",
        "    </tr>\n",
        "    <tr>\n",
        "      <th>2360</th>\n",
        "      <td>      zeinabkhalil2010@hotmail.com</td>\n",
        "      <td>  182</td>\n",
        "      <td>  3</td>\n",
        "      <td>   8.333333</td>\n",
        "      <td>  0</td>\n",
        "      <td>  0</td>\n",
        "      <td>  0</td>\n",
        "      <td>  1</td>\n",
        "      <td>  0</td>\n",
        "      <td>  0</td>\n",
        "      <td>...</td>\n",
        "      <td>  2</td>\n",
        "      <td>  0</td>\n",
        "      <td>  0</td>\n",
        "      <td>  0</td>\n",
        "      <td>       Dr/ Hisham fahmi</td>\n",
        "      <td>   743.00</td>\n",
        "      <td> 247.666667</td>\n",
        "      <td>                       Variety</td>\n",
        "      <td> 4d al gazira st. befor kism el gazira off nady...</td>\n",
        "      <td>                  0227355135</td>\n",
        "    </tr>\n",
        "    <tr>\n",
        "      <th>2361</th>\n",
        "      <td>              zeinabnour@gmail.com</td>\n",
        "      <td>  416</td>\n",
        "      <td>  2</td>\n",
        "      <td>   0.500000</td>\n",
        "      <td>  1</td>\n",
        "      <td>  0</td>\n",
        "      <td>  0</td>\n",
        "      <td>  0</td>\n",
        "      <td>  0</td>\n",
        "      <td>  0</td>\n",
        "      <td>...</td>\n",
        "      <td>  1</td>\n",
        "      <td>  0</td>\n",
        "      <td>  0</td>\n",
        "      <td>  0</td>\n",
        "      <td>       Zeinab Noureldin</td>\n",
        "      <td>    87.50</td>\n",
        "      <td>  43.750000</td>\n",
        "      <td>                    Vegetables</td>\n",
        "      <td>                                               NaN</td>\n",
        "      <td>                 01002261945</td>\n",
        "    </tr>\n",
        "    <tr>\n",
        "      <th>2362</th>\n",
        "      <td>              zeinahodroj@live.com</td>\n",
        "      <td>  276</td>\n",
        "      <td>  2</td>\n",
        "      <td>   0.000000</td>\n",
        "      <td>  2</td>\n",
        "      <td>  0</td>\n",
        "      <td>  0</td>\n",
        "      <td>  0</td>\n",
        "      <td>  0</td>\n",
        "      <td>  0</td>\n",
        "      <td>...</td>\n",
        "      <td>  0</td>\n",
        "      <td>  0</td>\n",
        "      <td>  0</td>\n",
        "      <td>  0</td>\n",
        "      <td>           zeina hodroj</td>\n",
        "      <td>   380.50</td>\n",
        "      <td> 190.250000</td>\n",
        "      <td>                       Poultry</td>\n",
        "      <td>                                               NaN</td>\n",
        "      <td>                 01000892677</td>\n",
        "    </tr>\n",
        "    <tr>\n",
        "      <th>2363</th>\n",
        "      <td>              zeinasabry@gmail.com</td>\n",
        "      <td>  574</td>\n",
        "      <td>  7</td>\n",
        "      <td>  35.714286</td>\n",
        "      <td>  2</td>\n",
        "      <td>  1</td>\n",
        "      <td>  0</td>\n",
        "      <td>  2</td>\n",
        "      <td>  0</td>\n",
        "      <td>  2</td>\n",
        "      <td>...</td>\n",
        "      <td>  0</td>\n",
        "      <td>  2</td>\n",
        "      <td>  0</td>\n",
        "      <td>  0</td>\n",
        "      <td>            Zeina Tarek</td>\n",
        "      <td>  1148.40</td>\n",
        "      <td> 164.057143</td>\n",
        "      <td>                       Variety</td>\n",
        "      <td>                                               NaN</td>\n",
        "      <td>               +201227759372</td>\n",
        "    </tr>\n",
        "    <tr>\n",
        "      <th>2364</th>\n",
        "      <td>               zeinriham@gmail.com</td>\n",
        "      <td>   29</td>\n",
        "      <td>  2</td>\n",
        "      <td>  35.500000</td>\n",
        "      <td>  0</td>\n",
        "      <td>  1</td>\n",
        "      <td>  1</td>\n",
        "      <td>  0</td>\n",
        "      <td>  0</td>\n",
        "      <td>  0</td>\n",
        "      <td>...</td>\n",
        "      <td>  0</td>\n",
        "      <td>  0</td>\n",
        "      <td>  0</td>\n",
        "      <td>  0</td>\n",
        "      <td>         Reham Abdullah</td>\n",
        "      <td>   336.00</td>\n",
        "      <td> 168.000000</td>\n",
        "      <td>         Oil, Vinegar &amp; Sauces</td>\n",
        "      <td>   Baron Palace/ Heliopolis (MEETING POINT ) cairo</td>\n",
        "      <td> 01007077741  /  01008664628</td>\n",
        "    </tr>\n",
        "    <tr>\n",
        "      <th>2365</th>\n",
        "      <td>           zenaabdelbaky@gmail.com</td>\n",
        "      <td>  148</td>\n",
        "      <td>  2</td>\n",
        "      <td> 219.000000</td>\n",
        "      <td>  0</td>\n",
        "      <td>  0</td>\n",
        "      <td>  1</td>\n",
        "      <td>  0</td>\n",
        "      <td>  0</td>\n",
        "      <td>  1</td>\n",
        "      <td>...</td>\n",
        "      <td>  0</td>\n",
        "      <td>  1</td>\n",
        "      <td>  0</td>\n",
        "      <td>  0</td>\n",
        "      <td>        Zena Abdelbaky </td>\n",
        "      <td>   302.50</td>\n",
        "      <td> 151.250000</td>\n",
        "      <td>                Rice and pasta</td>\n",
        "      <td>                                               NaN</td>\n",
        "      <td>                 01000350409</td>\n",
        "    </tr>\n",
        "    <tr>\n",
        "      <th>2366</th>\n",
        "      <td>            zeyadattalla@yahoo.com</td>\n",
        "      <td>  225</td>\n",
        "      <td>  1</td>\n",
        "      <td>   0.000000</td>\n",
        "      <td>  0</td>\n",
        "      <td>  0</td>\n",
        "      <td>  1</td>\n",
        "      <td>  0</td>\n",
        "      <td>  0</td>\n",
        "      <td>  0</td>\n",
        "      <td>...</td>\n",
        "      <td>  0</td>\n",
        "      <td>  0</td>\n",
        "      <td>  0</td>\n",
        "      <td>  0</td>\n",
        "      <td>          Zeyad Attalla</td>\n",
        "      <td>    97.40</td>\n",
        "      <td>  97.400000</td>\n",
        "      <td>                          Beef</td>\n",
        "      <td>                                               NaN</td>\n",
        "      <td>                 01002240643</td>\n",
        "    </tr>\n",
        "    <tr>\n",
        "      <th>2367</th>\n",
        "      <td>                ziadihab@gmail.com</td>\n",
        "      <td>  247</td>\n",
        "      <td>  1</td>\n",
        "      <td>   0.000000</td>\n",
        "      <td>  0</td>\n",
        "      <td>  1</td>\n",
        "      <td>  0</td>\n",
        "      <td>  0</td>\n",
        "      <td>  0</td>\n",
        "      <td>  0</td>\n",
        "      <td>...</td>\n",
        "      <td>  0</td>\n",
        "      <td>  0</td>\n",
        "      <td>  0</td>\n",
        "      <td>  0</td>\n",
        "      <td>              Ziad Ihab</td>\n",
        "      <td>    47.00</td>\n",
        "      <td>  47.000000</td>\n",
        "      <td> Chocolate, cookies and snacks</td>\n",
        "      <td> Rehab city, settlement 81, building 2 floor 3,...</td>\n",
        "      <td>                 01116835556</td>\n",
        "    </tr>\n",
        "    <tr>\n",
        "      <th>2368</th>\n",
        "      <td>               ziadusama@ymail.com</td>\n",
        "      <td>   18</td>\n",
        "      <td>  1</td>\n",
        "      <td>   0.000000</td>\n",
        "      <td>  0</td>\n",
        "      <td>  0</td>\n",
        "      <td>  0</td>\n",
        "      <td>  0</td>\n",
        "      <td>  0</td>\n",
        "      <td>  0</td>\n",
        "      <td>...</td>\n",
        "      <td>  0</td>\n",
        "      <td>  0</td>\n",
        "      <td>  0</td>\n",
        "      <td>  0</td>\n",
        "      <td>            Usama Gamal</td>\n",
        "      <td>    59.00</td>\n",
        "      <td>  59.000000</td>\n",
        "      <td>                           NaN</td>\n",
        "      <td> Al-obour City Golf City  B5 Flat No. 3  Entran...</td>\n",
        "      <td>                 01097902883</td>\n",
        "    </tr>\n",
        "    <tr>\n",
        "      <th>2369</th>\n",
        "      <td>               zinelhini@yahoo.com</td>\n",
        "      <td>  807</td>\n",
        "      <td>  1</td>\n",
        "      <td>   0.000000</td>\n",
        "      <td>  0</td>\n",
        "      <td>  1</td>\n",
        "      <td>  0</td>\n",
        "      <td>  0</td>\n",
        "      <td>  0</td>\n",
        "      <td>  0</td>\n",
        "      <td>...</td>\n",
        "      <td>  1</td>\n",
        "      <td>  0</td>\n",
        "      <td>  0</td>\n",
        "      <td>  0</td>\n",
        "      <td>           Zina El Hini</td>\n",
        "      <td>   320.02</td>\n",
        "      <td> 320.020000</td>\n",
        "      <td>                          Beef</td>\n",
        "      <td>                                               NaN</td>\n",
        "      <td>                 01006061566</td>\n",
        "    </tr>\n",
        "    <tr>\n",
        "      <th>2370</th>\n",
        "      <td>                zleseman@gmail.com</td>\n",
        "      <td>  976</td>\n",
        "      <td>  2</td>\n",
        "      <td>  35.500000</td>\n",
        "      <td>  1</td>\n",
        "      <td>  0</td>\n",
        "      <td>  0</td>\n",
        "      <td>  0</td>\n",
        "      <td>  0</td>\n",
        "      <td>  0</td>\n",
        "      <td>...</td>\n",
        "      <td>  0</td>\n",
        "      <td>  1</td>\n",
        "      <td>  0</td>\n",
        "      <td>  0</td>\n",
        "      <td>           Zayd Leseman</td>\n",
        "      <td>  1171.57</td>\n",
        "      <td> 585.785000</td>\n",
        "      <td>                       Variety</td>\n",
        "      <td>    Nada Compound, Entrance 2 Villa 2 Sheikh Zayed</td>\n",
        "      <td>                 01125573521</td>\n",
        "    </tr>\n",
        "    <tr>\n",
        "      <th>2371</th>\n",
        "      <td>           zolaykha1st@hotmail.com</td>\n",
        "      <td>  375</td>\n",
        "      <td>  1</td>\n",
        "      <td>   0.000000</td>\n",
        "      <td>  0</td>\n",
        "      <td>  0</td>\n",
        "      <td>  0</td>\n",
        "      <td>  0</td>\n",
        "      <td>  0</td>\n",
        "      <td>  0</td>\n",
        "      <td>...</td>\n",
        "      <td>  0</td>\n",
        "      <td>  0</td>\n",
        "      <td>  0</td>\n",
        "      <td>  0</td>\n",
        "      <td>      amal abdelraheem </td>\n",
        "      <td>   610.10</td>\n",
        "      <td> 610.100000</td>\n",
        "      <td>                       Variety</td>\n",
        "      <td>          4038 me3raj olwi, maadi 201 maadi, cairo</td>\n",
        "      <td>              00201023982488</td>\n",
        "    </tr>\n",
        "    <tr>\n",
        "      <th>2372</th>\n",
        "      <td>               zshafei@outlook.com</td>\n",
        "      <td>   20</td>\n",
        "      <td>  7</td>\n",
        "      <td>  48.571429</td>\n",
        "      <td>  2</td>\n",
        "      <td>  1</td>\n",
        "      <td>  2</td>\n",
        "      <td>  1</td>\n",
        "      <td>  1</td>\n",
        "      <td>  0</td>\n",
        "      <td>...</td>\n",
        "      <td>  0</td>\n",
        "      <td>  0</td>\n",
        "      <td>  0</td>\n",
        "      <td>  1</td>\n",
        "      <td>           Amina Rashad</td>\n",
        "      <td>  2933.00</td>\n",
        "      <td> 419.000000</td>\n",
        "      <td> Chocolate, cookies and snacks</td>\n",
        "      <td>     Mountain View behind el rehab villa 6 C cairo</td>\n",
        "      <td>                 01005497979</td>\n",
        "    </tr>\n",
        "    <tr>\n",
        "      <th>2373</th>\n",
        "      <td>             Lilybadrawy@yahoo.com</td>\n",
        "      <td>  NaN</td>\n",
        "      <td>NaN</td>\n",
        "      <td>        NaN</td>\n",
        "      <td>NaN</td>\n",
        "      <td>NaN</td>\n",
        "      <td>NaN</td>\n",
        "      <td>NaN</td>\n",
        "      <td>NaN</td>\n",
        "      <td>NaN</td>\n",
        "      <td>...</td>\n",
        "      <td>NaN</td>\n",
        "      <td>NaN</td>\n",
        "      <td>NaN</td>\n",
        "      <td>NaN</td>\n",
        "      <td>                    NaN</td>\n",
        "      <td>      NaN</td>\n",
        "      <td>        NaN</td>\n",
        "      <td>                       Variety</td>\n",
        "      <td>                                               NaN</td>\n",
        "      <td>                         NaN</td>\n",
        "    </tr>\n",
        "    <tr>\n",
        "      <th>2374</th>\n",
        "      <td> anass.elwogoud.importnexport@gmai</td>\n",
        "      <td>  NaN</td>\n",
        "      <td>NaN</td>\n",
        "      <td>        NaN</td>\n",
        "      <td>NaN</td>\n",
        "      <td>NaN</td>\n",
        "      <td>NaN</td>\n",
        "      <td>NaN</td>\n",
        "      <td>NaN</td>\n",
        "      <td>NaN</td>\n",
        "      <td>...</td>\n",
        "      <td>NaN</td>\n",
        "      <td>NaN</td>\n",
        "      <td>NaN</td>\n",
        "      <td>NaN</td>\n",
        "      <td>                    NaN</td>\n",
        "      <td>      NaN</td>\n",
        "      <td>        NaN</td>\n",
        "      <td>                       Variety</td>\n",
        "      <td>                                               NaN</td>\n",
        "      <td>                         NaN</td>\n",
        "    </tr>\n",
        "    <tr>\n",
        "      <th>2375</th>\n",
        "      <td> crobertson@melroseresources-eg.co</td>\n",
        "      <td>  NaN</td>\n",
        "      <td>NaN</td>\n",
        "      <td>        NaN</td>\n",
        "      <td>NaN</td>\n",
        "      <td>NaN</td>\n",
        "      <td>NaN</td>\n",
        "      <td>NaN</td>\n",
        "      <td>NaN</td>\n",
        "      <td>NaN</td>\n",
        "      <td>...</td>\n",
        "      <td>NaN</td>\n",
        "      <td>NaN</td>\n",
        "      <td>NaN</td>\n",
        "      <td>NaN</td>\n",
        "      <td>                    NaN</td>\n",
        "      <td>      NaN</td>\n",
        "      <td>        NaN</td>\n",
        "      <td>                       Variety</td>\n",
        "      <td>                                               NaN</td>\n",
        "      <td>                         NaN</td>\n",
        "    </tr>\n",
        "    <tr>\n",
        "      <th>2376</th>\n",
        "      <td> flying_without_wingso2o@hotmail.c</td>\n",
        "      <td>  NaN</td>\n",
        "      <td>NaN</td>\n",
        "      <td>        NaN</td>\n",
        "      <td>NaN</td>\n",
        "      <td>NaN</td>\n",
        "      <td>NaN</td>\n",
        "      <td>NaN</td>\n",
        "      <td>NaN</td>\n",
        "      <td>NaN</td>\n",
        "      <td>...</td>\n",
        "      <td>NaN</td>\n",
        "      <td>NaN</td>\n",
        "      <td>NaN</td>\n",
        "      <td>NaN</td>\n",
        "      <td>                    NaN</td>\n",
        "      <td>      NaN</td>\n",
        "      <td>        NaN</td>\n",
        "      <td>                    Vegetables</td>\n",
        "      <td>                                               NaN</td>\n",
        "      <td>                         NaN</td>\n",
        "    </tr>\n",
        "    <tr>\n",
        "      <th>2377</th>\n",
        "      <td> secretary.management@odeontours.c</td>\n",
        "      <td>  NaN</td>\n",
        "      <td>NaN</td>\n",
        "      <td>        NaN</td>\n",
        "      <td>NaN</td>\n",
        "      <td>NaN</td>\n",
        "      <td>NaN</td>\n",
        "      <td>NaN</td>\n",
        "      <td>NaN</td>\n",
        "      <td>NaN</td>\n",
        "      <td>...</td>\n",
        "      <td>NaN</td>\n",
        "      <td>NaN</td>\n",
        "      <td>NaN</td>\n",
        "      <td>NaN</td>\n",
        "      <td>                    NaN</td>\n",
        "      <td>      NaN</td>\n",
        "      <td>        NaN</td>\n",
        "      <td>      Grains, seeds and cereal</td>\n",
        "      <td>                                               NaN</td>\n",
        "      <td>                         NaN</td>\n",
        "    </tr>\n",
        "    <tr>\n",
        "      <th>2378</th>\n",
        "      <td> mourad_mohamed@rayarestaurants.co</td>\n",
        "      <td>  NaN</td>\n",
        "      <td>NaN</td>\n",
        "      <td>        NaN</td>\n",
        "      <td>NaN</td>\n",
        "      <td>NaN</td>\n",
        "      <td>NaN</td>\n",
        "      <td>NaN</td>\n",
        "      <td>NaN</td>\n",
        "      <td>NaN</td>\n",
        "      <td>...</td>\n",
        "      <td>NaN</td>\n",
        "      <td>NaN</td>\n",
        "      <td>NaN</td>\n",
        "      <td>NaN</td>\n",
        "      <td>                    NaN</td>\n",
        "      <td>      NaN</td>\n",
        "      <td>        NaN</td>\n",
        "      <td>                        Bakery</td>\n",
        "      <td>                                               NaN</td>\n",
        "      <td>                         NaN</td>\n",
        "    </tr>\n",
        "    <tr>\n",
        "      <th>2379</th>\n",
        "      <td>                  biro5s@yahoo.com</td>\n",
        "      <td>  NaN</td>\n",
        "      <td>NaN</td>\n",
        "      <td>        NaN</td>\n",
        "      <td>NaN</td>\n",
        "      <td>NaN</td>\n",
        "      <td>NaN</td>\n",
        "      <td>NaN</td>\n",
        "      <td>NaN</td>\n",
        "      <td>NaN</td>\n",
        "      <td>...</td>\n",
        "      <td>NaN</td>\n",
        "      <td>NaN</td>\n",
        "      <td>NaN</td>\n",
        "      <td>NaN</td>\n",
        "      <td>                    NaN</td>\n",
        "      <td>      NaN</td>\n",
        "      <td>        NaN</td>\n",
        "      <td>                         Dairy</td>\n",
        "      <td>                                               NaN</td>\n",
        "      <td>                         NaN</td>\n",
        "    </tr>\n",
        "  </tbody>\n",
        "</table>\n",
        "<p>2380 rows \u00d7 29 columns</p>\n",
        "</div>"
       ],
       "metadata": {},
       "output_type": "pyout",
       "prompt_number": 8,
       "text": [
        "                                  Email  Days from Last order  Total orders  \\\n",
        "0            11435mail@mkallenberger.de                   941             1   \n",
        "1                         1@gargour.com                   260             2   \n",
        "2                     1kttate@gmail.com                   114             4   \n",
        "3             1youniqueflower@gmail.com                    23             3   \n",
        "4                    3aliaa.h@gmail.com                   263             3   \n",
        "5              777nadiateirah@gmail.com                    32             2   \n",
        "6                             A2@ed.com                   102             1   \n",
        "7               ASHRAF.M.ZAKI@GMAIL.COM                  1174             1   \n",
        "8                  Adhamada@hotmail.com                  1262             1   \n",
        "9           Ahmed.Habash@moevenpick.com                   263             1   \n",
        "10    Ahmed.adel.abdelmonam@hotmail.com                   121             1   \n",
        "11              Aliamossallam@gmail.com                     9            23   \n",
        "12          Andrea.Heilman@aucegypt.edu                   291             4   \n",
        "13              Asmaa.ahmed@hotmail.com                    37             4   \n",
        "14               Attia.nevien@gmail.com                   331             3   \n",
        "15                Ayatheone@hotmail.com                   139             1   \n",
        "16                Azzassallam@gmail.com                   307             1   \n",
        "17                    BAGBOUG@yahoo.com                   285             1   \n",
        "18                    Bakryna@gmail.com                  1204             1   \n",
        "19              Basmaha2010@hotmail.com                   249             1   \n",
        "20                     Bebi84@gmail.com                   976             3   \n",
        "21                     Biro5s@yahoo.com                  1307             1   \n",
        "22          Bouchra_erraiss@hotmail.com                   588             1   \n",
        "23                    Bunny_Chan@web.de                   227             3   \n",
        "24               Buty_Heart@hotmail.com                   209             1   \n",
        "25          Camillia.Marmoush@gmail.com                    25             5   \n",
        "26              Carinesabbagh@gmail.com                   240            37   \n",
        "27                Christine@baramki.com                   524             2   \n",
        "28                 DINA_KADRY@YAHOO.COM                    52             1   \n",
        "29          Dina_eldessouky@hotmail.com                  1116             7   \n",
        "...                                 ...                   ...           ...   \n",
        "2350                yulbiba@hotmail.com                     7             4   \n",
        "2351              yumnakassim@gmail.com                   509             2   \n",
        "2352               z72addas@hotmail.com                   345             1   \n",
        "2353              zaki.farida@gmail.com                    60             5   \n",
        "2354                zedesem65@gmail.com                    39             1   \n",
        "2355                  zee.nap@gmail.com                   113             1   \n",
        "2356             zeina.kassas@gmail.com                   190             6   \n",
        "2357          zeina_ahmed95@hotmail.com                   423             1   \n",
        "2358             zeina_naim@hotmail.com                    35             1   \n",
        "2359          zeinabahmedtaha@yahoo.com                  1055             1   \n",
        "2360       zeinabkhalil2010@hotmail.com                   182             3   \n",
        "2361               zeinabnour@gmail.com                   416             2   \n",
        "2362               zeinahodroj@live.com                   276             2   \n",
        "2363               zeinasabry@gmail.com                   574             7   \n",
        "2364                zeinriham@gmail.com                    29             2   \n",
        "2365            zenaabdelbaky@gmail.com                   148             2   \n",
        "2366             zeyadattalla@yahoo.com                   225             1   \n",
        "2367                 ziadihab@gmail.com                   247             1   \n",
        "2368                ziadusama@ymail.com                    18             1   \n",
        "2369                zinelhini@yahoo.com                   807             1   \n",
        "2370                 zleseman@gmail.com                   976             2   \n",
        "2371            zolaykha1st@hotmail.com                   375             1   \n",
        "2372                zshafei@outlook.com                    20             7   \n",
        "2373              Lilybadrawy@yahoo.com                   NaN           NaN   \n",
        "2374  anass.elwogoud.importnexport@gmai                   NaN           NaN   \n",
        "2375  crobertson@melroseresources-eg.co                   NaN           NaN   \n",
        "2376  flying_without_wingso2o@hotmail.c                   NaN           NaN   \n",
        "2377  secretary.management@odeontours.c                   NaN           NaN   \n",
        "2378  mourad_mohamed@rayarestaurants.co                   NaN           NaN   \n",
        "2379                   biro5s@yahoo.com                   NaN           NaN   \n",
        "\n",
        "      Average days between orders  Sunday  Monday  Tuesday  Wednesday  \\\n",
        "0                        0.000000       1       0        0          0   \n",
        "1                       47.000000       0       0        1          0   \n",
        "2                        5.500000       1       2        0          0   \n",
        "3                      125.000000       0       1        1          0   \n",
        "4                        7.333333       1       0        0          0   \n",
        "5                        2.500000       0       1        0          0   \n",
        "6                        0.000000       0       0        0          0   \n",
        "7                        0.000000       0       0        0          0   \n",
        "8                        0.000000       0       1        0          0   \n",
        "9                        0.000000       0       0        0          0   \n",
        "10                       0.000000       0       1        0          0   \n",
        "11                      18.304348       5       7        3          1   \n",
        "12                       2.750000       0       0        2          0   \n",
        "13                       4.000000       0       1        0          1   \n",
        "14                       0.666667       0       2        0          0   \n",
        "15                       0.000000       0       0        0          0   \n",
        "16                       0.000000       0       0        0          0   \n",
        "17                       0.000000       0       0        0          0   \n",
        "18                       0.000000       0       0        0          1   \n",
        "19                       0.000000       0       0        0          0   \n",
        "20                       7.000000       2       0        0          1   \n",
        "21                       0.000000       0       0        0          0   \n",
        "22                       0.000000       0       0        0          1   \n",
        "23                      88.666667       2       0        0          0   \n",
        "24                       0.000000       0       0        0          0   \n",
        "25                       2.800000       1       0        0          0   \n",
        "26                      27.567568       7       6        8          5   \n",
        "27                       3.500000       0       0        0          0   \n",
        "28                       0.000000       1       0        0          0   \n",
        "29                      18.000000       2       1        1          2   \n",
        "...                           ...     ...     ...      ...        ...   \n",
        "2350                    15.750000       0       0        0          4   \n",
        "2351                   149.500000       1       0        0          0   \n",
        "2352                     0.000000       0       1        0          0   \n",
        "2353                    31.400000       0       0        0          2   \n",
        "2354                     0.000000       0       0        0          0   \n",
        "2355                     0.000000       0       0        1          0   \n",
        "2356                    55.166667       2       2        1          0   \n",
        "2357                     0.000000       1       0        0          0   \n",
        "2358                     0.000000       0       0        0          1   \n",
        "2359                     0.000000       0       0        0          0   \n",
        "2360                     8.333333       0       0        0          1   \n",
        "2361                     0.500000       1       0        0          0   \n",
        "2362                     0.000000       2       0        0          0   \n",
        "2363                    35.714286       2       1        0          2   \n",
        "2364                    35.500000       0       1        1          0   \n",
        "2365                   219.000000       0       0        1          0   \n",
        "2366                     0.000000       0       0        1          0   \n",
        "2367                     0.000000       0       1        0          0   \n",
        "2368                     0.000000       0       0        0          0   \n",
        "2369                     0.000000       0       1        0          0   \n",
        "2370                    35.500000       1       0        0          0   \n",
        "2371                     0.000000       0       0        0          0   \n",
        "2372                    48.571429       2       1        2          1   \n",
        "2373                          NaN     NaN     NaN      NaN        NaN   \n",
        "2374                          NaN     NaN     NaN      NaN        NaN   \n",
        "2375                          NaN     NaN     NaN      NaN        NaN   \n",
        "2376                          NaN     NaN     NaN      NaN        NaN   \n",
        "2377                          NaN     NaN     NaN      NaN        NaN   \n",
        "2378                          NaN     NaN     NaN      NaN        NaN   \n",
        "2379                          NaN     NaN     NaN      NaN        NaN   \n",
        "\n",
        "      Thursday  Friday             ...               16:00 - 18:00  \\\n",
        "0            0       0             ...                           0   \n",
        "1            0       0             ...                           1   \n",
        "2            1       0             ...                           0   \n",
        "3            1       0             ...                           1   \n",
        "4            0       1             ...                           1   \n",
        "5            0       0             ...                           0   \n",
        "6            0       0             ...                           0   \n",
        "7            0       1             ...                           0   \n",
        "8            0       0             ...                           0   \n",
        "9            0       0             ...                           0   \n",
        "10           0       0             ...                           0   \n",
        "11           1       4             ...                           2   \n",
        "12           0       0             ...                           0   \n",
        "13           0       0             ...                           2   \n",
        "14           0       0             ...                           1   \n",
        "15           1       0             ...                           0   \n",
        "16           1       0             ...                           0   \n",
        "17           0       1             ...                           0   \n",
        "18           0       0             ...                           0   \n",
        "19           0       0             ...                           0   \n",
        "20           0       0             ...                           1   \n",
        "21           0       1             ...                           0   \n",
        "22           0       0             ...                           0   \n",
        "23           0       1             ...                           1   \n",
        "24           1       0             ...                           1   \n",
        "25           0       0             ...                           0   \n",
        "26           4       2             ...                           5   \n",
        "27           2       0             ...                           1   \n",
        "28           0       0             ...                           0   \n",
        "29           0       0             ...                           1   \n",
        "...        ...     ...             ...                         ...   \n",
        "2350         0       0             ...                           0   \n",
        "2351         0       1             ...                           0   \n",
        "2352         0       0             ...                           0   \n",
        "2353         0       0             ...                           2   \n",
        "2354         0       0             ...                           0   \n",
        "2355         0       0             ...                           0   \n",
        "2356         1       0             ...                           0   \n",
        "2357         0       0             ...                           0   \n",
        "2358         0       0             ...                           0   \n",
        "2359         0       1             ...                           1   \n",
        "2360         0       0             ...                           2   \n",
        "2361         0       0             ...                           1   \n",
        "2362         0       0             ...                           0   \n",
        "2363         0       2             ...                           0   \n",
        "2364         0       0             ...                           0   \n",
        "2365         0       1             ...                           0   \n",
        "2366         0       0             ...                           0   \n",
        "2367         0       0             ...                           0   \n",
        "2368         0       0             ...                           0   \n",
        "2369         0       0             ...                           1   \n",
        "2370         0       0             ...                           0   \n",
        "2371         0       0             ...                           0   \n",
        "2372         1       0             ...                           0   \n",
        "2373       NaN     NaN             ...                         NaN   \n",
        "2374       NaN     NaN             ...                         NaN   \n",
        "2375       NaN     NaN             ...                         NaN   \n",
        "2376       NaN     NaN             ...                         NaN   \n",
        "2377       NaN     NaN             ...                         NaN   \n",
        "2378       NaN     NaN             ...                         NaN   \n",
        "2379       NaN     NaN             ...                         NaN   \n",
        "\n",
        "      18:00 - 20:00  20:00 - 22:00  22:00 - 0:00                    Name  \\\n",
        "0                 0              0             0  Magdalena Kallenberger   \n",
        "1                 0              0             0           Alain  Phar\u00e8s   \n",
        "2                 0              0             0              Kelly Tate   \n",
        "3                 0              0             1              Lara Scott   \n",
        "4                 0              0             0           mohamed tolba   \n",
        "5                 0              0             0            Nadia Teirah   \n",
        "6                 0              0             0           Aladdin Nabil   \n",
        "7                 0              0             0             ASHRAF ZAKI   \n",
        "8                 1              0             0            Adham Hamada   \n",
        "9                 0              0             0            Ahmed Habash   \n",
        "10                0              0             0              Ahmed Adel   \n",
        "11                2              2             0          Alia Mossallam   \n",
        "12                0              0             0          Andrea Heilman   \n",
        "13                1              0             0             Asmaa Ahmed   \n",
        "14                0              0             0            Sherif Saleh   \n",
        "15                0              0             1                     NaN   \n",
        "16                0              0             0             Azza Sallam   \n",
        "17                0              0             0          Brigitte Kamal   \n",
        "18                0              0             0               Nna Bakry   \n",
        "19                0              0             1           Basma Elgazar   \n",
        "20                0              0             1              Heba Ragab   \n",
        "21                1              0             0                     NaN   \n",
        "22                0              0             0          Haisam Soliman   \n",
        "23                0              1             0            Yasser Awadd   \n",
        "24                0              0             0            Asmaa Medaht   \n",
        "25                0              0             0      Camillia  Marmoush   \n",
        "26                2              2             5          carine sabbagh   \n",
        "27                0              0             0                     NaN   \n",
        "28                0              0             0              Dina Kadry   \n",
        "29                0              1             0        Dina El-dessouky   \n",
        "...             ...            ...           ...                     ...   \n",
        "2350              1              1             1          Yuliay Ivanova   \n",
        "2351              0              0             1   Subscriber Newsletter   \n",
        "2352              0              0             0             zeina addas   \n",
        "2353              2              0             0            Farida  Zaki   \n",
        "2354              0              0             0         Zeinab  Mutawa    \n",
        "2355              1              0             0         Zeinab M.Shaker   \n",
        "2356              0              1             0            zeina kassas   \n",
        "2357              0              1             0            Nashwa Hafez   \n",
        "2358              0              0             0              Zeina Naim   \n",
        "2359              0              0             0             Zeinab Taha   \n",
        "2360              0              0             0        Dr/ Hisham fahmi   \n",
        "2361              0              0             0        Zeinab Noureldin   \n",
        "2362              0              0             0            zeina hodroj   \n",
        "2363              2              0             0             Zeina Tarek   \n",
        "2364              0              0             0          Reham Abdullah   \n",
        "2365              1              0             0         Zena Abdelbaky    \n",
        "2366              0              0             0           Zeyad Attalla   \n",
        "2367              0              0             0               Ziad Ihab   \n",
        "2368              0              0             0             Usama Gamal   \n",
        "2369              0              0             0            Zina El Hini   \n",
        "2370              1              0             0            Zayd Leseman   \n",
        "2371              0              0             0       amal abdelraheem    \n",
        "2372              0              0             1            Amina Rashad   \n",
        "2373            NaN            NaN           NaN                     NaN   \n",
        "2374            NaN            NaN           NaN                     NaN   \n",
        "2375            NaN            NaN           NaN                     NaN   \n",
        "2376            NaN            NaN           NaN                     NaN   \n",
        "2377            NaN            NaN           NaN                     NaN   \n",
        "2378            NaN            NaN           NaN                     NaN   \n",
        "2379            NaN            NaN           NaN                     NaN   \n",
        "\n",
        "       Revenue  Basket Value                        Segment  \\\n",
        "0       267.17    267.170000           Fresh Beef & Poultry   \n",
        "1      1001.10    500.550000                        Variety   \n",
        "2       648.00    162.000000                     Vegetables   \n",
        "3       909.00    303.000000                        Variety   \n",
        "4       160.00     53.333333                        Variety   \n",
        "5       290.00    145.000000                            NaN   \n",
        "6        30.00     30.000000                        Poultry   \n",
        "7       300.18    300.180000       Grains, seeds and cereal   \n",
        "8        61.20     61.200000           Fresh Beef & Poultry   \n",
        "9       360.00    360.000000                         Bakery   \n",
        "10      424.00    424.000000       Grains, seeds and cereal   \n",
        "11     7096.62    308.548696                        Variety   \n",
        "12      819.10    204.775000                        Variety   \n",
        "13     3404.00    851.000000                         Bakery   \n",
        "14      475.00    158.333333                     Vegetables   \n",
        "15         NaN           NaN                            NaN   \n",
        "16       45.00     45.000000                      Cosmetics   \n",
        "17      113.50    113.500000                           Beef   \n",
        "18      122.25    122.250000       Grains, seeds and cereal   \n",
        "19       55.00     55.000000       Grains, seeds and cereal   \n",
        "20      411.19    137.063333                        Variety   \n",
        "21         NaN           NaN                            NaN   \n",
        "22      285.75    285.750000                      Cosmetics   \n",
        "23      397.00    132.333333                        Variety   \n",
        "24      332.00    332.000000       Grains, seeds and cereal   \n",
        "25     1437.00    287.400000                            NaN   \n",
        "26    12189.72    329.451892                        Variety   \n",
        "27         NaN           NaN                            NaN   \n",
        "28      230.00    230.000000       Grains, seeds and cereal   \n",
        "29     1000.08    142.868571       Grains, seeds and cereal   \n",
        "...        ...           ...                            ...   \n",
        "2350    507.20    126.800000                        Variety   \n",
        "2351    297.50    148.750000                        Variety   \n",
        "2352    350.85    350.850000                        Seafood   \n",
        "2353    931.50    186.300000                        Variety   \n",
        "2354    160.00    160.000000                            NaN   \n",
        "2355     37.00     37.000000                     Vegetables   \n",
        "2356    907.60    151.266667                        Variety   \n",
        "2357    718.80    718.800000                           Beef   \n",
        "2358     67.00     67.000000                            NaN   \n",
        "2359    106.30    106.300000                        Variety   \n",
        "2360    743.00    247.666667                        Variety   \n",
        "2361     87.50     43.750000                     Vegetables   \n",
        "2362    380.50    190.250000                        Poultry   \n",
        "2363   1148.40    164.057143                        Variety   \n",
        "2364    336.00    168.000000          Oil, Vinegar & Sauces   \n",
        "2365    302.50    151.250000                 Rice and pasta   \n",
        "2366     97.40     97.400000                           Beef   \n",
        "2367     47.00     47.000000  Chocolate, cookies and snacks   \n",
        "2368     59.00     59.000000                            NaN   \n",
        "2369    320.02    320.020000                           Beef   \n",
        "2370   1171.57    585.785000                        Variety   \n",
        "2371    610.10    610.100000                        Variety   \n",
        "2372   2933.00    419.000000  Chocolate, cookies and snacks   \n",
        "2373       NaN           NaN                        Variety   \n",
        "2374       NaN           NaN                        Variety   \n",
        "2375       NaN           NaN                        Variety   \n",
        "2376       NaN           NaN                     Vegetables   \n",
        "2377       NaN           NaN       Grains, seeds and cereal   \n",
        "2378       NaN           NaN                         Bakery   \n",
        "2379       NaN           NaN                          Dairy   \n",
        "\n",
        "                                                Address  \\\n",
        "0                                                   NaN   \n",
        "1                      31 golf street  app 69/6th maadi   \n",
        "2     Street 33, Building 154, Area 1, Group 2, Taga...   \n",
        "3     23 Abdalla Deraz St.  #203 - 2nd Floor, left s...   \n",
        "4            11 shams el din el koufy st  17 heliopolis   \n",
        "5                                                   NaN   \n",
        "6                             Hadayek al ahram 20 Ahram   \n",
        "7     19 Gabalayah Street, 9th Floor, Apt 92 Zamalek...   \n",
        "8     5 eskandar el Akbar st. Heliopolis First floor...   \n",
        "9                                                   NaN   \n",
        "10    24 Extension Abo Dawood El Zahery  3rd Floor. ...   \n",
        "11                 59 Road 14, Moqattam 4th floor Cairo   \n",
        "12                16 Mohammed Thakeb, Zamalek 805 Cairo   \n",
        "13    Nasr city*Car Market*Shaban Company 10th distr...   \n",
        "14                                                  NaN   \n",
        "15                                                  NaN   \n",
        "16                                                  NaN   \n",
        "17    31 Hamouda Mahmoud from end of Makram ebeid , ...   \n",
        "18    37 shehab street , floor 15th appartment 1 Moh...   \n",
        "19                                                  NaN   \n",
        "20    54,Mohi el din abuo el ezz,st,dokii, floor 10,...   \n",
        "21                                                  NaN   \n",
        "22    Villa 14/4 abdelwahab mohammed street Al rehab...   \n",
        "23                                                  NaN   \n",
        "24    Km 28, Cairo Alexandria Desert Rd., Smart Vill...   \n",
        "25    5th district Amr ebn elass st.0*area h*south o...   \n",
        "26    11 Rashdan st. dokki off of mesaha square 5th ...   \n",
        "27                                                  NaN   \n",
        "28    Almostathmeroun Alshamaleya / of 90th road / a...   \n",
        "29                                                  NaN   \n",
        "...                                                 ...   \n",
        "2350  Beverly Hills compound  Forty west . Building ...   \n",
        "2351          19 Menis Street, ElKorba Heliopolis Cairo   \n",
        "2352          19 tahawi st, golf area heliopolise cairo   \n",
        "2353  56 Nazih Khalifa St. Heliopolis  3rd floor, Ap...   \n",
        "2354  9 El Saada street, roxy, Heliopolis  April 181...   \n",
        "2355  566 Palestine St. Ground floor, Integrant Maad...   \n",
        "2356         Madinaty Group 17, Building 8 31 New Cairo   \n",
        "2357                                                NaN   \n",
        "2358                                                NaN   \n",
        "2359                                                NaN   \n",
        "2360  4d al gazira st. befor kism el gazira off nady...   \n",
        "2361                                                NaN   \n",
        "2362                                                NaN   \n",
        "2363                                                NaN   \n",
        "2364    Baron Palace/ Heliopolis (MEETING POINT ) cairo   \n",
        "2365                                                NaN   \n",
        "2366                                                NaN   \n",
        "2367  Rehab city, settlement 81, building 2 floor 3,...   \n",
        "2368  Al-obour City Golf City  B5 Flat No. 3  Entran...   \n",
        "2369                                                NaN   \n",
        "2370     Nada Compound, Entrance 2 Villa 2 Sheikh Zayed   \n",
        "2371           4038 me3raj olwi, maadi 201 maadi, cairo   \n",
        "2372      Mountain View behind el rehab villa 6 C cairo   \n",
        "2373                                                NaN   \n",
        "2374                                                NaN   \n",
        "2375                                                NaN   \n",
        "2376                                                NaN   \n",
        "2377                                                NaN   \n",
        "2378                                                NaN   \n",
        "2379                                                NaN   \n",
        "\n",
        "                            Phone  \n",
        "0                     01090904137  \n",
        "1                     01222160835  \n",
        "2                     01023063292  \n",
        "3                     01221124426  \n",
        "4                     01001436666  \n",
        "5                     01005510543  \n",
        "6                   0100001224555  \n",
        "7                     01222174854  \n",
        "8                     01223221581  \n",
        "9                     01066656222  \n",
        "10                    01060002000  \n",
        "11                    01222344036  \n",
        "12                    01202070773  \n",
        "13    01026442230     01093551807  \n",
        "14                    01222103099  \n",
        "15                            NaN  \n",
        "16                    01019078478  \n",
        "17                    01141224422  \n",
        "18                            NaN  \n",
        "19                    01117005877  \n",
        "20                    01009599615  \n",
        "21                            NaN  \n",
        "22                    01202244355  \n",
        "23                    01003588073  \n",
        "24                  +201007901118  \n",
        "25                    01002280010  \n",
        "26                    01000100745  \n",
        "27                            NaN  \n",
        "28                    01000993094  \n",
        "29                    01008020608  \n",
        "...                           ...  \n",
        "2350                  01150888848  \n",
        "2351                  01005047970  \n",
        "2352                +201223781733  \n",
        "2353               00201001108847  \n",
        "2354                  01222107517  \n",
        "2355                 201005211550  \n",
        "2356                  01000448740  \n",
        "2357                  01141222226  \n",
        "2358                  01025550552  \n",
        "2359                  01271188471  \n",
        "2360                   0227355135  \n",
        "2361                  01002261945  \n",
        "2362                  01000892677  \n",
        "2363                +201227759372  \n",
        "2364  01007077741  /  01008664628  \n",
        "2365                  01000350409  \n",
        "2366                  01002240643  \n",
        "2367                  01116835556  \n",
        "2368                  01097902883  \n",
        "2369                  01006061566  \n",
        "2370                  01125573521  \n",
        "2371               00201023982488  \n",
        "2372                  01005497979  \n",
        "2373                          NaN  \n",
        "2374                          NaN  \n",
        "2375                          NaN  \n",
        "2376                          NaN  \n",
        "2377                          NaN  \n",
        "2378                          NaN  \n",
        "2379                          NaN  \n",
        "\n",
        "[2380 rows x 29 columns]"
       ]
      }
     ],
     "prompt_number": 8
    },
    {
     "cell_type": "code",
     "collapsed": false,
     "input": [
      "#df2 = pd.read_csv(cfg['root']+cfg['dir_data_shopify']+cfg[\"ip_customers\"])\n",
      "df2 = pd.read_csv('C:\\Users\\saisree849\\Documents\\GitHub\\NGS-2.0\\\\12_dashboard_tables\\data_input\\shopify\\customers_export.csv', low_memory=False)\n",
      "df2 = df6.merge(df2, on = ['Email'], how = 'inner')\n",
      "df2"
     ],
     "language": "python",
     "metadata": {},
     "outputs": [
      {
       "html": [
        "<div style=\"max-height:1000px;max-width:1500px;overflow:auto;\">\n",
        "<table border=\"1\" class=\"dataframe\">\n",
        "  <thead>\n",
        "    <tr style=\"text-align: right;\">\n",
        "      <th></th>\n",
        "      <th>Email</th>\n",
        "      <th>Days from Last order</th>\n",
        "      <th>Total orders</th>\n",
        "      <th>Average days between orders</th>\n",
        "      <th>Sunday</th>\n",
        "      <th>Monday</th>\n",
        "      <th>Tuesday</th>\n",
        "      <th>Wednesday</th>\n",
        "      <th>Thursday</th>\n",
        "      <th>Friday</th>\n",
        "      <th>...</th>\n",
        "      <th>Country</th>\n",
        "      <th>Country Code</th>\n",
        "      <th>Zip</th>\n",
        "      <th>Phone_y</th>\n",
        "      <th>Accepts Marketing</th>\n",
        "      <th>Total Spent</th>\n",
        "      <th>Total Orders</th>\n",
        "      <th>Tags</th>\n",
        "      <th>Note</th>\n",
        "      <th>Tax Exempt</th>\n",
        "    </tr>\n",
        "  </thead>\n",
        "  <tbody>\n",
        "    <tr>\n",
        "      <th>0   </th>\n",
        "      <td>        11435mail@mkallenberger.de</td>\n",
        "      <td>  941</td>\n",
        "      <td>  1</td>\n",
        "      <td>   0.000000</td>\n",
        "      <td>  1</td>\n",
        "      <td>  0</td>\n",
        "      <td>  0</td>\n",
        "      <td>  0</td>\n",
        "      <td>  0</td>\n",
        "      <td>  0</td>\n",
        "      <td>...</td>\n",
        "      <td> Egypt</td>\n",
        "      <td> EG</td>\n",
        "      <td>          11435</td>\n",
        "      <td>                 01090904137</td>\n",
        "      <td> yes</td>\n",
        "      <td>   277.17</td>\n",
        "      <td>  1</td>\n",
        "      <td>                  NaN</td>\n",
        "      <td> NaN</td>\n",
        "      <td> no</td>\n",
        "    </tr>\n",
        "    <tr>\n",
        "      <th>1   </th>\n",
        "      <td>                     1@gargour.com</td>\n",
        "      <td>  260</td>\n",
        "      <td>  2</td>\n",
        "      <td>  47.000000</td>\n",
        "      <td>  0</td>\n",
        "      <td>  0</td>\n",
        "      <td>  1</td>\n",
        "      <td>  0</td>\n",
        "      <td>  0</td>\n",
        "      <td>  0</td>\n",
        "      <td>...</td>\n",
        "      <td> Egypt</td>\n",
        "      <td> EG</td>\n",
        "      <td>          11511</td>\n",
        "      <td>                 01222160835</td>\n",
        "      <td>  no</td>\n",
        "      <td>  1021.10</td>\n",
        "      <td>  2</td>\n",
        "      <td>                  NaN</td>\n",
        "      <td> NaN</td>\n",
        "      <td> no</td>\n",
        "    </tr>\n",
        "    <tr>\n",
        "      <th>2   </th>\n",
        "      <td>                 1kttate@gmail.com</td>\n",
        "      <td>  114</td>\n",
        "      <td>  4</td>\n",
        "      <td>   5.500000</td>\n",
        "      <td>  1</td>\n",
        "      <td>  2</td>\n",
        "      <td>  0</td>\n",
        "      <td>  0</td>\n",
        "      <td>  1</td>\n",
        "      <td>  0</td>\n",
        "      <td>...</td>\n",
        "      <td> Egypt</td>\n",
        "      <td> EG</td>\n",
        "      <td>          00000</td>\n",
        "      <td>                 01023063292</td>\n",
        "      <td>  no</td>\n",
        "      <td>   399.00</td>\n",
        "      <td>  4</td>\n",
        "      <td>                  NaN</td>\n",
        "      <td> NaN</td>\n",
        "      <td> no</td>\n",
        "    </tr>\n",
        "    <tr>\n",
        "      <th>3   </th>\n",
        "      <td>         1youniqueflower@gmail.com</td>\n",
        "      <td>   23</td>\n",
        "      <td>  3</td>\n",
        "      <td> 125.000000</td>\n",
        "      <td>  0</td>\n",
        "      <td>  1</td>\n",
        "      <td>  1</td>\n",
        "      <td>  0</td>\n",
        "      <td>  1</td>\n",
        "      <td>  0</td>\n",
        "      <td>...</td>\n",
        "      <td> Egypt</td>\n",
        "      <td> EG</td>\n",
        "      <td>          11341</td>\n",
        "      <td>                 01221124426</td>\n",
        "      <td>  no</td>\n",
        "      <td>   936.00</td>\n",
        "      <td>  3</td>\n",
        "      <td>                  NaN</td>\n",
        "      <td> NaN</td>\n",
        "      <td> no</td>\n",
        "    </tr>\n",
        "    <tr>\n",
        "      <th>4   </th>\n",
        "      <td>                3aliaa.h@gmail.com</td>\n",
        "      <td>  263</td>\n",
        "      <td>  3</td>\n",
        "      <td>   7.333333</td>\n",
        "      <td>  1</td>\n",
        "      <td>  0</td>\n",
        "      <td>  0</td>\n",
        "      <td>  0</td>\n",
        "      <td>  0</td>\n",
        "      <td>  1</td>\n",
        "      <td>...</td>\n",
        "      <td> Egypt</td>\n",
        "      <td> EG</td>\n",
        "      <td>          11371</td>\n",
        "      <td>                 01001436666</td>\n",
        "      <td>  no</td>\n",
        "      <td>   187.00</td>\n",
        "      <td>  3</td>\n",
        "      <td>                  NaN</td>\n",
        "      <td> NaN</td>\n",
        "      <td> no</td>\n",
        "    </tr>\n",
        "    <tr>\n",
        "      <th>5   </th>\n",
        "      <td>          777nadiateirah@gmail.com</td>\n",
        "      <td>   32</td>\n",
        "      <td>  2</td>\n",
        "      <td>   2.500000</td>\n",
        "      <td>  0</td>\n",
        "      <td>  1</td>\n",
        "      <td>  0</td>\n",
        "      <td>  0</td>\n",
        "      <td>  0</td>\n",
        "      <td>  0</td>\n",
        "      <td>...</td>\n",
        "      <td> Egypt</td>\n",
        "      <td> EG</td>\n",
        "      <td>         Am1234</td>\n",
        "      <td>                 01005510543</td>\n",
        "      <td>  no</td>\n",
        "      <td>     0.00</td>\n",
        "      <td>  2</td>\n",
        "      <td>                  NaN</td>\n",
        "      <td> NaN</td>\n",
        "      <td> no</td>\n",
        "    </tr>\n",
        "    <tr>\n",
        "      <th>6   </th>\n",
        "      <td>                         A2@ed.com</td>\n",
        "      <td>  102</td>\n",
        "      <td>  1</td>\n",
        "      <td>   0.000000</td>\n",
        "      <td>  0</td>\n",
        "      <td>  0</td>\n",
        "      <td>  0</td>\n",
        "      <td>  0</td>\n",
        "      <td>  0</td>\n",
        "      <td>  0</td>\n",
        "      <td>...</td>\n",
        "      <td> Egypt</td>\n",
        "      <td> EG</td>\n",
        "      <td>        5253258</td>\n",
        "      <td>               0100001224555</td>\n",
        "      <td>  no</td>\n",
        "      <td>     0.00</td>\n",
        "      <td>  1</td>\n",
        "      <td>                  NaN</td>\n",
        "      <td> NaN</td>\n",
        "      <td> no</td>\n",
        "    </tr>\n",
        "    <tr>\n",
        "      <th>7   </th>\n",
        "      <td>           ASHRAF.M.ZAKI@GMAIL.COM</td>\n",
        "      <td> 1174</td>\n",
        "      <td>  1</td>\n",
        "      <td>   0.000000</td>\n",
        "      <td>  0</td>\n",
        "      <td>  0</td>\n",
        "      <td>  0</td>\n",
        "      <td>  0</td>\n",
        "      <td>  0</td>\n",
        "      <td>  1</td>\n",
        "      <td>...</td>\n",
        "      <td> Egypt</td>\n",
        "      <td> EG</td>\n",
        "      <td>          12211</td>\n",
        "      <td>                 01222174854</td>\n",
        "      <td>  no</td>\n",
        "      <td>   310.18</td>\n",
        "      <td>  1</td>\n",
        "      <td>                  NaN</td>\n",
        "      <td> NaN</td>\n",
        "      <td> no</td>\n",
        "    </tr>\n",
        "    <tr>\n",
        "      <th>8   </th>\n",
        "      <td>              Adhamada@hotmail.com</td>\n",
        "      <td> 1262</td>\n",
        "      <td>  1</td>\n",
        "      <td>   0.000000</td>\n",
        "      <td>  0</td>\n",
        "      <td>  1</td>\n",
        "      <td>  0</td>\n",
        "      <td>  0</td>\n",
        "      <td>  0</td>\n",
        "      <td>  0</td>\n",
        "      <td>...</td>\n",
        "      <td> Egypt</td>\n",
        "      <td> EG</td>\n",
        "      <td>          00000</td>\n",
        "      <td>                 01223221581</td>\n",
        "      <td> yes</td>\n",
        "      <td>    71.20</td>\n",
        "      <td>  1</td>\n",
        "      <td>                  NaN</td>\n",
        "      <td> NaN</td>\n",
        "      <td> no</td>\n",
        "    </tr>\n",
        "    <tr>\n",
        "      <th>9   </th>\n",
        "      <td>       Ahmed.Habash@moevenpick.com</td>\n",
        "      <td>  263</td>\n",
        "      <td>  1</td>\n",
        "      <td>   0.000000</td>\n",
        "      <td>  0</td>\n",
        "      <td>  0</td>\n",
        "      <td>  0</td>\n",
        "      <td>  0</td>\n",
        "      <td>  0</td>\n",
        "      <td>  0</td>\n",
        "      <td>...</td>\n",
        "      <td> Egypt</td>\n",
        "      <td> EG</td>\n",
        "      <td>          00202</td>\n",
        "      <td>                 01066656222</td>\n",
        "      <td>  no</td>\n",
        "      <td>   370.00</td>\n",
        "      <td>  1</td>\n",
        "      <td>                  NaN</td>\n",
        "      <td> NaN</td>\n",
        "      <td> no</td>\n",
        "    </tr>\n",
        "    <tr>\n",
        "      <th>10  </th>\n",
        "      <td> Ahmed.adel.abdelmonam@hotmail.com</td>\n",
        "      <td>  121</td>\n",
        "      <td>  1</td>\n",
        "      <td>   0.000000</td>\n",
        "      <td>  0</td>\n",
        "      <td>  1</td>\n",
        "      <td>  0</td>\n",
        "      <td>  0</td>\n",
        "      <td>  0</td>\n",
        "      <td>  0</td>\n",
        "      <td>...</td>\n",
        "      <td> Egypt</td>\n",
        "      <td> EG</td>\n",
        "      <td>          00000</td>\n",
        "      <td>                 01060002000</td>\n",
        "      <td>  no</td>\n",
        "      <td>   434.00</td>\n",
        "      <td>  1</td>\n",
        "      <td>                  NaN</td>\n",
        "      <td> NaN</td>\n",
        "      <td> no</td>\n",
        "    </tr>\n",
        "    <tr>\n",
        "      <th>11  </th>\n",
        "      <td>           Aliamossallam@gmail.com</td>\n",
        "      <td>    9</td>\n",
        "      <td> 23</td>\n",
        "      <td>  18.304348</td>\n",
        "      <td>  5</td>\n",
        "      <td>  7</td>\n",
        "      <td>  3</td>\n",
        "      <td>  1</td>\n",
        "      <td>  1</td>\n",
        "      <td>  4</td>\n",
        "      <td>...</td>\n",
        "      <td> Egypt</td>\n",
        "      <td> EG</td>\n",
        "      <td>          15565</td>\n",
        "      <td>                 01222344036</td>\n",
        "      <td>  no</td>\n",
        "      <td>  5983.32</td>\n",
        "      <td> 24</td>\n",
        "      <td>                  NaN</td>\n",
        "      <td> NaN</td>\n",
        "      <td> no</td>\n",
        "    </tr>\n",
        "    <tr>\n",
        "      <th>12  </th>\n",
        "      <td>       Andrea.Heilman@aucegypt.edu</td>\n",
        "      <td>  291</td>\n",
        "      <td>  4</td>\n",
        "      <td>   2.750000</td>\n",
        "      <td>  0</td>\n",
        "      <td>  0</td>\n",
        "      <td>  2</td>\n",
        "      <td>  0</td>\n",
        "      <td>  0</td>\n",
        "      <td>  0</td>\n",
        "      <td>...</td>\n",
        "      <td> Egypt</td>\n",
        "      <td> EG</td>\n",
        "      <td>           0000</td>\n",
        "      <td>                 01202070773</td>\n",
        "      <td>  no</td>\n",
        "      <td>   426.80</td>\n",
        "      <td>  4</td>\n",
        "      <td>                  NaN</td>\n",
        "      <td> NaN</td>\n",
        "      <td> no</td>\n",
        "    </tr>\n",
        "    <tr>\n",
        "      <th>13  </th>\n",
        "      <td>           Asmaa.ahmed@hotmail.com</td>\n",
        "      <td>   37</td>\n",
        "      <td>  4</td>\n",
        "      <td>   4.000000</td>\n",
        "      <td>  0</td>\n",
        "      <td>  1</td>\n",
        "      <td>  0</td>\n",
        "      <td>  1</td>\n",
        "      <td>  0</td>\n",
        "      <td>  0</td>\n",
        "      <td>...</td>\n",
        "      <td> Egypt</td>\n",
        "      <td> EG</td>\n",
        "      <td>          hb123</td>\n",
        "      <td> 01026442230     01093551807</td>\n",
        "      <td>  no</td>\n",
        "      <td>     0.00</td>\n",
        "      <td>  4</td>\n",
        "      <td>                  NaN</td>\n",
        "      <td> NaN</td>\n",
        "      <td> no</td>\n",
        "    </tr>\n",
        "    <tr>\n",
        "      <th>14  </th>\n",
        "      <td>            Attia.nevien@gmail.com</td>\n",
        "      <td>  331</td>\n",
        "      <td>  3</td>\n",
        "      <td>   0.666667</td>\n",
        "      <td>  0</td>\n",
        "      <td>  2</td>\n",
        "      <td>  0</td>\n",
        "      <td>  0</td>\n",
        "      <td>  0</td>\n",
        "      <td>  0</td>\n",
        "      <td>...</td>\n",
        "      <td> Egypt</td>\n",
        "      <td> EG</td>\n",
        "      <td>          00202</td>\n",
        "      <td>                 01222103099</td>\n",
        "      <td>  no</td>\n",
        "      <td>   157.00</td>\n",
        "      <td>  3</td>\n",
        "      <td>                  NaN</td>\n",
        "      <td> NaN</td>\n",
        "      <td> no</td>\n",
        "    </tr>\n",
        "    <tr>\n",
        "      <th>15  </th>\n",
        "      <td>             Azzassallam@gmail.com</td>\n",
        "      <td>  307</td>\n",
        "      <td>  1</td>\n",
        "      <td>   0.000000</td>\n",
        "      <td>  0</td>\n",
        "      <td>  0</td>\n",
        "      <td>  0</td>\n",
        "      <td>  0</td>\n",
        "      <td>  1</td>\n",
        "      <td>  0</td>\n",
        "      <td>...</td>\n",
        "      <td> Egypt</td>\n",
        "      <td> EG</td>\n",
        "      <td>          00202</td>\n",
        "      <td>                 01019078478</td>\n",
        "      <td>  no</td>\n",
        "      <td>    60.00</td>\n",
        "      <td>  1</td>\n",
        "      <td>                  NaN</td>\n",
        "      <td> NaN</td>\n",
        "      <td> no</td>\n",
        "    </tr>\n",
        "    <tr>\n",
        "      <th>16  </th>\n",
        "      <td>                 BAGBOUG@yahoo.com</td>\n",
        "      <td>  285</td>\n",
        "      <td>  1</td>\n",
        "      <td>   0.000000</td>\n",
        "      <td>  0</td>\n",
        "      <td>  0</td>\n",
        "      <td>  0</td>\n",
        "      <td>  0</td>\n",
        "      <td>  0</td>\n",
        "      <td>  1</td>\n",
        "      <td>...</td>\n",
        "      <td> Egypt</td>\n",
        "      <td> EG</td>\n",
        "      <td>          11762</td>\n",
        "      <td>                 01141224422</td>\n",
        "      <td>  no</td>\n",
        "      <td>   128.50</td>\n",
        "      <td>  1</td>\n",
        "      <td>                  NaN</td>\n",
        "      <td> NaN</td>\n",
        "      <td> no</td>\n",
        "    </tr>\n",
        "    <tr>\n",
        "      <th>17  </th>\n",
        "      <td>                 Bakryna@gmail.com</td>\n",
        "      <td> 1204</td>\n",
        "      <td>  1</td>\n",
        "      <td>   0.000000</td>\n",
        "      <td>  0</td>\n",
        "      <td>  0</td>\n",
        "      <td>  0</td>\n",
        "      <td>  1</td>\n",
        "      <td>  0</td>\n",
        "      <td>  0</td>\n",
        "      <td>...</td>\n",
        "      <td> Egypt</td>\n",
        "      <td> EG</td>\n",
        "      <td>            001</td>\n",
        "      <td>                         NaN</td>\n",
        "      <td> yes</td>\n",
        "      <td>   132.25</td>\n",
        "      <td>  1</td>\n",
        "      <td>                  NaN</td>\n",
        "      <td> NaN</td>\n",
        "      <td> no</td>\n",
        "    </tr>\n",
        "    <tr>\n",
        "      <th>18  </th>\n",
        "      <td>           Basmaha2010@hotmail.com</td>\n",
        "      <td>  249</td>\n",
        "      <td>  1</td>\n",
        "      <td>   0.000000</td>\n",
        "      <td>  0</td>\n",
        "      <td>  0</td>\n",
        "      <td>  0</td>\n",
        "      <td>  0</td>\n",
        "      <td>  0</td>\n",
        "      <td>  0</td>\n",
        "      <td>...</td>\n",
        "      <td> Egypt</td>\n",
        "      <td> EG</td>\n",
        "      <td>          12611</td>\n",
        "      <td>                 01117005877</td>\n",
        "      <td>  no</td>\n",
        "      <td>    70.00</td>\n",
        "      <td>  1</td>\n",
        "      <td>                  NaN</td>\n",
        "      <td> NaN</td>\n",
        "      <td> no</td>\n",
        "    </tr>\n",
        "    <tr>\n",
        "      <th>19  </th>\n",
        "      <td>                  Bebi84@gmail.com</td>\n",
        "      <td>  976</td>\n",
        "      <td>  3</td>\n",
        "      <td>   7.000000</td>\n",
        "      <td>  2</td>\n",
        "      <td>  0</td>\n",
        "      <td>  0</td>\n",
        "      <td>  1</td>\n",
        "      <td>  0</td>\n",
        "      <td>  0</td>\n",
        "      <td>...</td>\n",
        "      <td> Egypt</td>\n",
        "      <td> EG</td>\n",
        "      <td>          12611</td>\n",
        "      <td>                 01009599615</td>\n",
        "      <td> yes</td>\n",
        "      <td>   753.39</td>\n",
        "      <td>  5</td>\n",
        "      <td>                  NaN</td>\n",
        "      <td> NaN</td>\n",
        "      <td> no</td>\n",
        "    </tr>\n",
        "    <tr>\n",
        "      <th>20  </th>\n",
        "      <td>       Bouchra_erraiss@hotmail.com</td>\n",
        "      <td>  588</td>\n",
        "      <td>  1</td>\n",
        "      <td>   0.000000</td>\n",
        "      <td>  0</td>\n",
        "      <td>  0</td>\n",
        "      <td>  0</td>\n",
        "      <td>  1</td>\n",
        "      <td>  0</td>\n",
        "      <td>  0</td>\n",
        "      <td>...</td>\n",
        "      <td> Egypt</td>\n",
        "      <td> EG</td>\n",
        "      <td>          11841</td>\n",
        "      <td>                 01202244355</td>\n",
        "      <td> yes</td>\n",
        "      <td>   300.75</td>\n",
        "      <td>  1</td>\n",
        "      <td>                  NaN</td>\n",
        "      <td> NaN</td>\n",
        "      <td> no</td>\n",
        "    </tr>\n",
        "    <tr>\n",
        "      <th>21  </th>\n",
        "      <td>                 Bunny_Chan@web.de</td>\n",
        "      <td>  227</td>\n",
        "      <td>  3</td>\n",
        "      <td>  88.666667</td>\n",
        "      <td>  2</td>\n",
        "      <td>  0</td>\n",
        "      <td>  0</td>\n",
        "      <td>  0</td>\n",
        "      <td>  0</td>\n",
        "      <td>  1</td>\n",
        "      <td>...</td>\n",
        "      <td> Egypt</td>\n",
        "      <td> EG</td>\n",
        "      <td>          11321</td>\n",
        "      <td>                 01003588073</td>\n",
        "      <td>  no</td>\n",
        "      <td>   432.00</td>\n",
        "      <td>  3</td>\n",
        "      <td>                  NaN</td>\n",
        "      <td> NaN</td>\n",
        "      <td> no</td>\n",
        "    </tr>\n",
        "    <tr>\n",
        "      <th>22  </th>\n",
        "      <td>            Buty_Heart@hotmail.com</td>\n",
        "      <td>  209</td>\n",
        "      <td>  1</td>\n",
        "      <td>   0.000000</td>\n",
        "      <td>  0</td>\n",
        "      <td>  0</td>\n",
        "      <td>  0</td>\n",
        "      <td>  0</td>\n",
        "      <td>  1</td>\n",
        "      <td>  0</td>\n",
        "      <td>...</td>\n",
        "      <td> Egypt</td>\n",
        "      <td> EG</td>\n",
        "      <td>          11511</td>\n",
        "      <td>               +201007901118</td>\n",
        "      <td>  no</td>\n",
        "      <td>   352.00</td>\n",
        "      <td>  1</td>\n",
        "      <td>                  NaN</td>\n",
        "      <td> NaN</td>\n",
        "      <td> no</td>\n",
        "    </tr>\n",
        "    <tr>\n",
        "      <th>23  </th>\n",
        "      <td>       Camillia.Marmoush@gmail.com</td>\n",
        "      <td>   25</td>\n",
        "      <td>  5</td>\n",
        "      <td>   2.800000</td>\n",
        "      <td>  1</td>\n",
        "      <td>  0</td>\n",
        "      <td>  0</td>\n",
        "      <td>  0</td>\n",
        "      <td>  0</td>\n",
        "      <td>  0</td>\n",
        "      <td>...</td>\n",
        "      <td> Egypt</td>\n",
        "      <td> EG</td>\n",
        "      <td>          hb123</td>\n",
        "      <td>                 01002280010</td>\n",
        "      <td>  no</td>\n",
        "      <td>   291.70</td>\n",
        "      <td>  5</td>\n",
        "      <td>                  NaN</td>\n",
        "      <td> NaN</td>\n",
        "      <td> no</td>\n",
        "    </tr>\n",
        "    <tr>\n",
        "      <th>24  </th>\n",
        "      <td>           Carinesabbagh@gmail.com</td>\n",
        "      <td>  240</td>\n",
        "      <td> 37</td>\n",
        "      <td>  27.567568</td>\n",
        "      <td>  7</td>\n",
        "      <td>  6</td>\n",
        "      <td>  8</td>\n",
        "      <td>  5</td>\n",
        "      <td>  4</td>\n",
        "      <td>  2</td>\n",
        "      <td>...</td>\n",
        "      <td> Egypt</td>\n",
        "      <td> EG</td>\n",
        "      <td>           1111</td>\n",
        "      <td>                 01000100745</td>\n",
        "      <td> yes</td>\n",
        "      <td> 13135.70</td>\n",
        "      <td> 42</td>\n",
        "      <td>                  NaN</td>\n",
        "      <td> NaN</td>\n",
        "      <td> no</td>\n",
        "    </tr>\n",
        "    <tr>\n",
        "      <th>25  </th>\n",
        "      <td>              DINA_KADRY@YAHOO.COM</td>\n",
        "      <td>   52</td>\n",
        "      <td>  1</td>\n",
        "      <td>   0.000000</td>\n",
        "      <td>  1</td>\n",
        "      <td>  0</td>\n",
        "      <td>  0</td>\n",
        "      <td>  0</td>\n",
        "      <td>  0</td>\n",
        "      <td>  0</td>\n",
        "      <td>...</td>\n",
        "      <td> Egypt</td>\n",
        "      <td> EG</td>\n",
        "      <td>          hb123</td>\n",
        "      <td>                 01000993094</td>\n",
        "      <td>  no</td>\n",
        "      <td>     0.00</td>\n",
        "      <td>  1</td>\n",
        "      <td>                  NaN</td>\n",
        "      <td> NaN</td>\n",
        "      <td> no</td>\n",
        "    </tr>\n",
        "    <tr>\n",
        "      <th>26  </th>\n",
        "      <td>       Dina_eldessouky@hotmail.com</td>\n",
        "      <td> 1116</td>\n",
        "      <td>  7</td>\n",
        "      <td>  18.000000</td>\n",
        "      <td>  2</td>\n",
        "      <td>  1</td>\n",
        "      <td>  1</td>\n",
        "      <td>  2</td>\n",
        "      <td>  0</td>\n",
        "      <td>  0</td>\n",
        "      <td>...</td>\n",
        "      <td> Egypt</td>\n",
        "      <td> EG</td>\n",
        "      <td>          cairo</td>\n",
        "      <td>                 01008020608</td>\n",
        "      <td> yes</td>\n",
        "      <td>  1889.88</td>\n",
        "      <td> 12</td>\n",
        "      <td>                  NaN</td>\n",
        "      <td> NaN</td>\n",
        "      <td> no</td>\n",
        "    </tr>\n",
        "    <tr>\n",
        "      <th>27  </th>\n",
        "      <td>        Dina_hamada009@hotmail.com</td>\n",
        "      <td>  364</td>\n",
        "      <td>  1</td>\n",
        "      <td>   0.000000</td>\n",
        "      <td>  0</td>\n",
        "      <td>  0</td>\n",
        "      <td>  0</td>\n",
        "      <td>  1</td>\n",
        "      <td>  0</td>\n",
        "      <td>  0</td>\n",
        "      <td>...</td>\n",
        "      <td> Egypt</td>\n",
        "      <td> EG</td>\n",
        "      <td>         000000</td>\n",
        "      <td>                 01001415888</td>\n",
        "      <td>  no</td>\n",
        "      <td>    81.00</td>\n",
        "      <td>  1</td>\n",
        "      <td>                  NaN</td>\n",
        "      <td> NaN</td>\n",
        "      <td> no</td>\n",
        "    </tr>\n",
        "    <tr>\n",
        "      <th>28  </th>\n",
        "      <td>       Dina_hamada2009@hotmail.com</td>\n",
        "      <td>  210</td>\n",
        "      <td>  2</td>\n",
        "      <td>  80.500000</td>\n",
        "      <td>  0</td>\n",
        "      <td>  0</td>\n",
        "      <td>  0</td>\n",
        "      <td>  2</td>\n",
        "      <td>  0</td>\n",
        "      <td>  0</td>\n",
        "      <td>...</td>\n",
        "      <td> Egypt</td>\n",
        "      <td> EG</td>\n",
        "      <td>         000000</td>\n",
        "      <td>                 01001415888</td>\n",
        "      <td>  no</td>\n",
        "      <td>   173.00</td>\n",
        "      <td>  2</td>\n",
        "      <td>                  NaN</td>\n",
        "      <td> NaN</td>\n",
        "      <td> no</td>\n",
        "    </tr>\n",
        "    <tr>\n",
        "      <th>29  </th>\n",
        "      <td>            Doholly_86@hotmail.com</td>\n",
        "      <td>   74</td>\n",
        "      <td>  2</td>\n",
        "      <td>  56.000000</td>\n",
        "      <td>  0</td>\n",
        "      <td>  0</td>\n",
        "      <td>  0</td>\n",
        "      <td>  0</td>\n",
        "      <td>  0</td>\n",
        "      <td>  0</td>\n",
        "      <td>...</td>\n",
        "      <td> Egypt</td>\n",
        "      <td> EG</td>\n",
        "      <td>           0000</td>\n",
        "      <td>                 01145997944</td>\n",
        "      <td>  no</td>\n",
        "      <td>   913.50</td>\n",
        "      <td>  3</td>\n",
        "      <td>                  NaN</td>\n",
        "      <td> NaN</td>\n",
        "      <td> no</td>\n",
        "    </tr>\n",
        "    <tr>\n",
        "      <th>...</th>\n",
        "      <td>...</td>\n",
        "      <td>...</td>\n",
        "      <td>...</td>\n",
        "      <td>...</td>\n",
        "      <td>...</td>\n",
        "      <td>...</td>\n",
        "      <td>...</td>\n",
        "      <td>...</td>\n",
        "      <td>...</td>\n",
        "      <td>...</td>\n",
        "      <td>...</td>\n",
        "      <td>...</td>\n",
        "      <td>...</td>\n",
        "      <td>...</td>\n",
        "      <td>...</td>\n",
        "      <td>...</td>\n",
        "      <td>...</td>\n",
        "      <td>...</td>\n",
        "      <td>...</td>\n",
        "      <td>...</td>\n",
        "      <td>...</td>\n",
        "    </tr>\n",
        "    <tr>\n",
        "      <th>2298</th>\n",
        "      <td>                 youssra@gmail.com</td>\n",
        "      <td>  281</td>\n",
        "      <td>  1</td>\n",
        "      <td>   0.000000</td>\n",
        "      <td>  0</td>\n",
        "      <td>  0</td>\n",
        "      <td>  1</td>\n",
        "      <td>  0</td>\n",
        "      <td>  0</td>\n",
        "      <td>  0</td>\n",
        "      <td>...</td>\n",
        "      <td> Egypt</td>\n",
        "      <td> EG</td>\n",
        "      <td>          12411</td>\n",
        "      <td>               +201114400112</td>\n",
        "      <td>  no</td>\n",
        "      <td>     0.00</td>\n",
        "      <td>  1</td>\n",
        "      <td>                  NaN</td>\n",
        "      <td> NaN</td>\n",
        "      <td> no</td>\n",
        "    </tr>\n",
        "    <tr>\n",
        "      <th>2299</th>\n",
        "      <td>           youssra_kamal@yahoo.com</td>\n",
        "      <td>   22</td>\n",
        "      <td>  3</td>\n",
        "      <td>  21.333333</td>\n",
        "      <td>  0</td>\n",
        "      <td>  1</td>\n",
        "      <td>  2</td>\n",
        "      <td>  0</td>\n",
        "      <td>  0</td>\n",
        "      <td>  0</td>\n",
        "      <td>...</td>\n",
        "      <td> Egypt</td>\n",
        "      <td> EG</td>\n",
        "      <td>        2344434</td>\n",
        "      <td>                 01149734254</td>\n",
        "      <td>  no</td>\n",
        "      <td>   753.00</td>\n",
        "      <td>  3</td>\n",
        "      <td>                  NaN</td>\n",
        "      <td> NaN</td>\n",
        "      <td> no</td>\n",
        "    </tr>\n",
        "    <tr>\n",
        "      <th>2300</th>\n",
        "      <td>         youssraaashmawi@gmail.com</td>\n",
        "      <td>   73</td>\n",
        "      <td>  1</td>\n",
        "      <td>   0.000000</td>\n",
        "      <td>  1</td>\n",
        "      <td>  0</td>\n",
        "      <td>  0</td>\n",
        "      <td>  0</td>\n",
        "      <td>  0</td>\n",
        "      <td>  0</td>\n",
        "      <td>...</td>\n",
        "      <td> Egypt</td>\n",
        "      <td> EG</td>\n",
        "      <td>         Am1234</td>\n",
        "      <td>                 01125699291</td>\n",
        "      <td>  no</td>\n",
        "      <td>   211.00</td>\n",
        "      <td>  1</td>\n",
        "      <td>                  NaN</td>\n",
        "      <td> NaN</td>\n",
        "      <td> no</td>\n",
        "    </tr>\n",
        "    <tr>\n",
        "      <th>2301</th>\n",
        "      <td>           yoyothetricky@gmail.com</td>\n",
        "      <td>    8</td>\n",
        "      <td>  2</td>\n",
        "      <td>   5.000000</td>\n",
        "      <td>  0</td>\n",
        "      <td>  0</td>\n",
        "      <td>  1</td>\n",
        "      <td>  0</td>\n",
        "      <td>  0</td>\n",
        "      <td>  0</td>\n",
        "      <td>...</td>\n",
        "      <td> Egypt</td>\n",
        "      <td> EG</td>\n",
        "      <td>          11835</td>\n",
        "      <td>                 01069786059</td>\n",
        "      <td>  no</td>\n",
        "      <td>   263.20</td>\n",
        "      <td>  2</td>\n",
        "      <td>                  NaN</td>\n",
        "      <td> NaN</td>\n",
        "      <td> no</td>\n",
        "    </tr>\n",
        "    <tr>\n",
        "      <th>2302</th>\n",
        "      <td>               yrelraheb@gmail.com</td>\n",
        "      <td> 1017</td>\n",
        "      <td>  1</td>\n",
        "      <td>   0.000000</td>\n",
        "      <td>  0</td>\n",
        "      <td>  1</td>\n",
        "      <td>  0</td>\n",
        "      <td>  0</td>\n",
        "      <td>  0</td>\n",
        "      <td>  0</td>\n",
        "      <td>...</td>\n",
        "      <td> Egypt</td>\n",
        "      <td> EG</td>\n",
        "      <td>          11231</td>\n",
        "      <td>                 01221888861</td>\n",
        "      <td> yes</td>\n",
        "      <td>    88.13</td>\n",
        "      <td>  1</td>\n",
        "      <td>                  NaN</td>\n",
        "      <td> NaN</td>\n",
        "      <td> no</td>\n",
        "    </tr>\n",
        "    <tr>\n",
        "      <th>2303</th>\n",
        "      <td>               yulbiba@hotmail.com</td>\n",
        "      <td>    7</td>\n",
        "      <td>  4</td>\n",
        "      <td>  15.750000</td>\n",
        "      <td>  0</td>\n",
        "      <td>  0</td>\n",
        "      <td>  0</td>\n",
        "      <td>  4</td>\n",
        "      <td>  0</td>\n",
        "      <td>  0</td>\n",
        "      <td>...</td>\n",
        "      <td> Egypt</td>\n",
        "      <td> EG</td>\n",
        "      <td>          12566</td>\n",
        "      <td>                 01150888848</td>\n",
        "      <td>  no</td>\n",
        "      <td>   547.20</td>\n",
        "      <td>  4</td>\n",
        "      <td>                  NaN</td>\n",
        "      <td> NaN</td>\n",
        "      <td> no</td>\n",
        "    </tr>\n",
        "    <tr>\n",
        "      <th>2304</th>\n",
        "      <td>             yumnakassim@gmail.com</td>\n",
        "      <td>  509</td>\n",
        "      <td>  2</td>\n",
        "      <td> 149.500000</td>\n",
        "      <td>  1</td>\n",
        "      <td>  0</td>\n",
        "      <td>  0</td>\n",
        "      <td>  0</td>\n",
        "      <td>  0</td>\n",
        "      <td>  1</td>\n",
        "      <td>...</td>\n",
        "      <td> Egypt</td>\n",
        "      <td> EG</td>\n",
        "      <td>          11341</td>\n",
        "      <td>                 01005047970</td>\n",
        "      <td> yes</td>\n",
        "      <td>   259.50</td>\n",
        "      <td>  2</td>\n",
        "      <td> newsletter, prospect</td>\n",
        "      <td> NaN</td>\n",
        "      <td> no</td>\n",
        "    </tr>\n",
        "    <tr>\n",
        "      <th>2305</th>\n",
        "      <td>              z72addas@hotmail.com</td>\n",
        "      <td>  345</td>\n",
        "      <td>  1</td>\n",
        "      <td>   0.000000</td>\n",
        "      <td>  0</td>\n",
        "      <td>  1</td>\n",
        "      <td>  0</td>\n",
        "      <td>  0</td>\n",
        "      <td>  0</td>\n",
        "      <td>  0</td>\n",
        "      <td>...</td>\n",
        "      <td> Egypt</td>\n",
        "      <td> EG</td>\n",
        "      <td>          11431</td>\n",
        "      <td>               +201223781733</td>\n",
        "      <td>  no</td>\n",
        "      <td>     0.00</td>\n",
        "      <td>  1</td>\n",
        "      <td>                  NaN</td>\n",
        "      <td> NaN</td>\n",
        "      <td> no</td>\n",
        "    </tr>\n",
        "    <tr>\n",
        "      <th>2306</th>\n",
        "      <td>             zaki.farida@gmail.com</td>\n",
        "      <td>   60</td>\n",
        "      <td>  5</td>\n",
        "      <td>  31.400000</td>\n",
        "      <td>  0</td>\n",
        "      <td>  0</td>\n",
        "      <td>  0</td>\n",
        "      <td>  2</td>\n",
        "      <td>  0</td>\n",
        "      <td>  0</td>\n",
        "      <td>...</td>\n",
        "      <td> Egypt</td>\n",
        "      <td> EG</td>\n",
        "      <td>          11341</td>\n",
        "      <td>              00201001108847</td>\n",
        "      <td>  no</td>\n",
        "      <td>   931.50</td>\n",
        "      <td>  5</td>\n",
        "      <td>                  NaN</td>\n",
        "      <td> NaN</td>\n",
        "      <td> no</td>\n",
        "    </tr>\n",
        "    <tr>\n",
        "      <th>2307</th>\n",
        "      <td>               zedesem65@gmail.com</td>\n",
        "      <td>   39</td>\n",
        "      <td>  1</td>\n",
        "      <td>   0.000000</td>\n",
        "      <td>  0</td>\n",
        "      <td>  0</td>\n",
        "      <td>  0</td>\n",
        "      <td>  0</td>\n",
        "      <td>  0</td>\n",
        "      <td>  0</td>\n",
        "      <td>...</td>\n",
        "      <td> Egypt</td>\n",
        "      <td> EG</td>\n",
        "      <td>          11341</td>\n",
        "      <td>                 01222107517</td>\n",
        "      <td>  no</td>\n",
        "      <td>     0.00</td>\n",
        "      <td>  1</td>\n",
        "      <td>                  NaN</td>\n",
        "      <td> NaN</td>\n",
        "      <td> no</td>\n",
        "    </tr>\n",
        "    <tr>\n",
        "      <th>2308</th>\n",
        "      <td>                 zee.nap@gmail.com</td>\n",
        "      <td>  113</td>\n",
        "      <td>  1</td>\n",
        "      <td>   0.000000</td>\n",
        "      <td>  0</td>\n",
        "      <td>  0</td>\n",
        "      <td>  1</td>\n",
        "      <td>  0</td>\n",
        "      <td>  0</td>\n",
        "      <td>  0</td>\n",
        "      <td>...</td>\n",
        "      <td> Egypt</td>\n",
        "      <td> EG</td>\n",
        "      <td>          11742</td>\n",
        "      <td>                201005211550</td>\n",
        "      <td>  no</td>\n",
        "      <td>    52.00</td>\n",
        "      <td>  1</td>\n",
        "      <td>                  NaN</td>\n",
        "      <td> NaN</td>\n",
        "      <td> no</td>\n",
        "    </tr>\n",
        "    <tr>\n",
        "      <th>2309</th>\n",
        "      <td>            zeina.kassas@gmail.com</td>\n",
        "      <td>  190</td>\n",
        "      <td>  6</td>\n",
        "      <td>  55.166667</td>\n",
        "      <td>  2</td>\n",
        "      <td>  2</td>\n",
        "      <td>  1</td>\n",
        "      <td>  0</td>\n",
        "      <td>  1</td>\n",
        "      <td>  0</td>\n",
        "      <td>...</td>\n",
        "      <td> Egypt</td>\n",
        "      <td> EG</td>\n",
        "      <td>          18411</td>\n",
        "      <td>                 01000448740</td>\n",
        "      <td> yes</td>\n",
        "      <td>   796.60</td>\n",
        "      <td>  6</td>\n",
        "      <td>                  NaN</td>\n",
        "      <td> NaN</td>\n",
        "      <td> no</td>\n",
        "    </tr>\n",
        "    <tr>\n",
        "      <th>2310</th>\n",
        "      <td>         zeina_ahmed95@hotmail.com</td>\n",
        "      <td>  423</td>\n",
        "      <td>  1</td>\n",
        "      <td>   0.000000</td>\n",
        "      <td>  1</td>\n",
        "      <td>  0</td>\n",
        "      <td>  0</td>\n",
        "      <td>  0</td>\n",
        "      <td>  0</td>\n",
        "      <td>  0</td>\n",
        "      <td>...</td>\n",
        "      <td> Egypt</td>\n",
        "      <td> EG</td>\n",
        "      <td>          11511</td>\n",
        "      <td>                 01141222226</td>\n",
        "      <td>  no</td>\n",
        "      <td>   728.80</td>\n",
        "      <td>  1</td>\n",
        "      <td>                  NaN</td>\n",
        "      <td> NaN</td>\n",
        "      <td> no</td>\n",
        "    </tr>\n",
        "    <tr>\n",
        "      <th>2311</th>\n",
        "      <td>            zeina_naim@hotmail.com</td>\n",
        "      <td>   35</td>\n",
        "      <td>  1</td>\n",
        "      <td>   0.000000</td>\n",
        "      <td>  0</td>\n",
        "      <td>  0</td>\n",
        "      <td>  0</td>\n",
        "      <td>  1</td>\n",
        "      <td>  0</td>\n",
        "      <td>  0</td>\n",
        "      <td>...</td>\n",
        "      <td> Egypt</td>\n",
        "      <td> EG</td>\n",
        "      <td>          hb123</td>\n",
        "      <td>                 01025550552</td>\n",
        "      <td>  no</td>\n",
        "      <td>     0.00</td>\n",
        "      <td>  1</td>\n",
        "      <td>                  NaN</td>\n",
        "      <td> NaN</td>\n",
        "      <td> no</td>\n",
        "    </tr>\n",
        "    <tr>\n",
        "      <th>2312</th>\n",
        "      <td>         zeinabahmedtaha@yahoo.com</td>\n",
        "      <td> 1055</td>\n",
        "      <td>  1</td>\n",
        "      <td>   0.000000</td>\n",
        "      <td>  0</td>\n",
        "      <td>  0</td>\n",
        "      <td>  0</td>\n",
        "      <td>  0</td>\n",
        "      <td>  0</td>\n",
        "      <td>  1</td>\n",
        "      <td>...</td>\n",
        "      <td> Egypt</td>\n",
        "      <td> EG</td>\n",
        "      <td>        abc 123</td>\n",
        "      <td>                 01271188471</td>\n",
        "      <td>  no</td>\n",
        "      <td>   116.30</td>\n",
        "      <td>  1</td>\n",
        "      <td>                  NaN</td>\n",
        "      <td> NaN</td>\n",
        "      <td> no</td>\n",
        "    </tr>\n",
        "    <tr>\n",
        "      <th>2313</th>\n",
        "      <td>      zeinabkhalil2010@hotmail.com</td>\n",
        "      <td>  182</td>\n",
        "      <td>  3</td>\n",
        "      <td>   8.333333</td>\n",
        "      <td>  0</td>\n",
        "      <td>  0</td>\n",
        "      <td>  0</td>\n",
        "      <td>  1</td>\n",
        "      <td>  0</td>\n",
        "      <td>  0</td>\n",
        "      <td>...</td>\n",
        "      <td> Egypt</td>\n",
        "      <td> EG</td>\n",
        "      <td>           0000</td>\n",
        "      <td>                  0227355135</td>\n",
        "      <td>  no</td>\n",
        "      <td>   480.00</td>\n",
        "      <td>  3</td>\n",
        "      <td>                  NaN</td>\n",
        "      <td> NaN</td>\n",
        "      <td> no</td>\n",
        "    </tr>\n",
        "    <tr>\n",
        "      <th>2314</th>\n",
        "      <td>              zeinabnour@gmail.com</td>\n",
        "      <td>  416</td>\n",
        "      <td>  2</td>\n",
        "      <td>   0.500000</td>\n",
        "      <td>  1</td>\n",
        "      <td>  0</td>\n",
        "      <td>  0</td>\n",
        "      <td>  0</td>\n",
        "      <td>  0</td>\n",
        "      <td>  0</td>\n",
        "      <td>...</td>\n",
        "      <td> Egypt</td>\n",
        "      <td> EG</td>\n",
        "      <td>          00202</td>\n",
        "      <td>                 01002261945</td>\n",
        "      <td>  no</td>\n",
        "      <td>   117.50</td>\n",
        "      <td>  2</td>\n",
        "      <td>                  NaN</td>\n",
        "      <td> NaN</td>\n",
        "      <td> no</td>\n",
        "    </tr>\n",
        "    <tr>\n",
        "      <th>2315</th>\n",
        "      <td>              zeinahodroj@live.com</td>\n",
        "      <td>  276</td>\n",
        "      <td>  2</td>\n",
        "      <td>   0.000000</td>\n",
        "      <td>  2</td>\n",
        "      <td>  0</td>\n",
        "      <td>  0</td>\n",
        "      <td>  0</td>\n",
        "      <td>  0</td>\n",
        "      <td>  0</td>\n",
        "      <td>...</td>\n",
        "      <td> Egypt</td>\n",
        "      <td> EG</td>\n",
        "      <td>          00202</td>\n",
        "      <td>                 01000892677</td>\n",
        "      <td>  no</td>\n",
        "      <td>   197.50</td>\n",
        "      <td>  2</td>\n",
        "      <td>                  NaN</td>\n",
        "      <td> NaN</td>\n",
        "      <td> no</td>\n",
        "    </tr>\n",
        "    <tr>\n",
        "      <th>2316</th>\n",
        "      <td>              zeinasabry@gmail.com</td>\n",
        "      <td>  574</td>\n",
        "      <td>  7</td>\n",
        "      <td>  35.714286</td>\n",
        "      <td>  2</td>\n",
        "      <td>  1</td>\n",
        "      <td>  0</td>\n",
        "      <td>  2</td>\n",
        "      <td>  0</td>\n",
        "      <td>  2</td>\n",
        "      <td>...</td>\n",
        "      <td> Egypt</td>\n",
        "      <td> EG</td>\n",
        "      <td>          11211</td>\n",
        "      <td>               +201227759372</td>\n",
        "      <td> yes</td>\n",
        "      <td>  1218.40</td>\n",
        "      <td>  7</td>\n",
        "      <td>                  NaN</td>\n",
        "      <td> NaN</td>\n",
        "      <td> no</td>\n",
        "    </tr>\n",
        "    <tr>\n",
        "      <th>2317</th>\n",
        "      <td>               zeinriham@gmail.com</td>\n",
        "      <td>   29</td>\n",
        "      <td>  2</td>\n",
        "      <td>  35.500000</td>\n",
        "      <td>  0</td>\n",
        "      <td>  1</td>\n",
        "      <td>  1</td>\n",
        "      <td>  0</td>\n",
        "      <td>  0</td>\n",
        "      <td>  0</td>\n",
        "      <td>...</td>\n",
        "      <td> Egypt</td>\n",
        "      <td> EG</td>\n",
        "      <td>          hb123</td>\n",
        "      <td> 01007077741  /  01008664628</td>\n",
        "      <td>  no</td>\n",
        "      <td>     0.00</td>\n",
        "      <td>  2</td>\n",
        "      <td>                  NaN</td>\n",
        "      <td> NaN</td>\n",
        "      <td> no</td>\n",
        "    </tr>\n",
        "    <tr>\n",
        "      <th>2318</th>\n",
        "      <td>           zenaabdelbaky@gmail.com</td>\n",
        "      <td>  148</td>\n",
        "      <td>  2</td>\n",
        "      <td> 219.000000</td>\n",
        "      <td>  0</td>\n",
        "      <td>  0</td>\n",
        "      <td>  1</td>\n",
        "      <td>  0</td>\n",
        "      <td>  0</td>\n",
        "      <td>  1</td>\n",
        "      <td>...</td>\n",
        "      <td> Egypt</td>\n",
        "      <td> EG</td>\n",
        "      <td>          11649</td>\n",
        "      <td>                 01000350409</td>\n",
        "      <td> yes</td>\n",
        "      <td>   327.50</td>\n",
        "      <td>  2</td>\n",
        "      <td> newsletter, prospect</td>\n",
        "      <td> NaN</td>\n",
        "      <td> no</td>\n",
        "    </tr>\n",
        "    <tr>\n",
        "      <th>2319</th>\n",
        "      <td>            zeyadattalla@yahoo.com</td>\n",
        "      <td>  225</td>\n",
        "      <td>  1</td>\n",
        "      <td>   0.000000</td>\n",
        "      <td>  0</td>\n",
        "      <td>  0</td>\n",
        "      <td>  1</td>\n",
        "      <td>  0</td>\n",
        "      <td>  0</td>\n",
        "      <td>  0</td>\n",
        "      <td>...</td>\n",
        "      <td> Egypt</td>\n",
        "      <td> EG</td>\n",
        "      <td>          12566</td>\n",
        "      <td>                 01002240643</td>\n",
        "      <td>  no</td>\n",
        "      <td>   132.40</td>\n",
        "      <td>  1</td>\n",
        "      <td>                  NaN</td>\n",
        "      <td> NaN</td>\n",
        "      <td> no</td>\n",
        "    </tr>\n",
        "    <tr>\n",
        "      <th>2320</th>\n",
        "      <td>                ziadihab@gmail.com</td>\n",
        "      <td>  247</td>\n",
        "      <td>  1</td>\n",
        "      <td>   0.000000</td>\n",
        "      <td>  0</td>\n",
        "      <td>  1</td>\n",
        "      <td>  0</td>\n",
        "      <td>  0</td>\n",
        "      <td>  0</td>\n",
        "      <td>  0</td>\n",
        "      <td>...</td>\n",
        "      <td> Egypt</td>\n",
        "      <td> EG</td>\n",
        "      <td> Not applicable</td>\n",
        "      <td>                 01116835556</td>\n",
        "      <td>  no</td>\n",
        "      <td>    62.00</td>\n",
        "      <td>  1</td>\n",
        "      <td>                  NaN</td>\n",
        "      <td> NaN</td>\n",
        "      <td> no</td>\n",
        "    </tr>\n",
        "    <tr>\n",
        "      <th>2321</th>\n",
        "      <td>               ziadusama@ymail.com</td>\n",
        "      <td>   18</td>\n",
        "      <td>  1</td>\n",
        "      <td>   0.000000</td>\n",
        "      <td>  0</td>\n",
        "      <td>  0</td>\n",
        "      <td>  0</td>\n",
        "      <td>  0</td>\n",
        "      <td>  0</td>\n",
        "      <td>  0</td>\n",
        "      <td>...</td>\n",
        "      <td> Egypt</td>\n",
        "      <td> EG</td>\n",
        "      <td>             No</td>\n",
        "      <td>                 01097902883</td>\n",
        "      <td>  no</td>\n",
        "      <td>     0.00</td>\n",
        "      <td>  1</td>\n",
        "      <td>                  NaN</td>\n",
        "      <td> NaN</td>\n",
        "      <td> no</td>\n",
        "    </tr>\n",
        "    <tr>\n",
        "      <th>2322</th>\n",
        "      <td>               zinelhini@yahoo.com</td>\n",
        "      <td>  807</td>\n",
        "      <td>  1</td>\n",
        "      <td>   0.000000</td>\n",
        "      <td>  0</td>\n",
        "      <td>  1</td>\n",
        "      <td>  0</td>\n",
        "      <td>  0</td>\n",
        "      <td>  0</td>\n",
        "      <td>  0</td>\n",
        "      <td>...</td>\n",
        "      <td> Egypt</td>\n",
        "      <td> EG</td>\n",
        "      <td>          12655</td>\n",
        "      <td>                 01006061566</td>\n",
        "      <td>  no</td>\n",
        "      <td>   330.02</td>\n",
        "      <td>  1</td>\n",
        "      <td>                  NaN</td>\n",
        "      <td> NaN</td>\n",
        "      <td> no</td>\n",
        "    </tr>\n",
        "    <tr>\n",
        "      <th>2323</th>\n",
        "      <td>                zleseman@gmail.com</td>\n",
        "      <td>  976</td>\n",
        "      <td>  2</td>\n",
        "      <td>  35.500000</td>\n",
        "      <td>  1</td>\n",
        "      <td>  0</td>\n",
        "      <td>  0</td>\n",
        "      <td>  0</td>\n",
        "      <td>  0</td>\n",
        "      <td>  0</td>\n",
        "      <td>...</td>\n",
        "      <td> Egypt</td>\n",
        "      <td> EG</td>\n",
        "      <td>          16404</td>\n",
        "      <td>                 01125573521</td>\n",
        "      <td>  no</td>\n",
        "      <td>  1211.57</td>\n",
        "      <td>  2</td>\n",
        "      <td>                  NaN</td>\n",
        "      <td> NaN</td>\n",
        "      <td> no</td>\n",
        "    </tr>\n",
        "    <tr>\n",
        "      <th>2324</th>\n",
        "      <td>           zolaykha1st@hotmail.com</td>\n",
        "      <td>  375</td>\n",
        "      <td>  1</td>\n",
        "      <td>   0.000000</td>\n",
        "      <td>  0</td>\n",
        "      <td>  0</td>\n",
        "      <td>  0</td>\n",
        "      <td>  0</td>\n",
        "      <td>  0</td>\n",
        "      <td>  0</td>\n",
        "      <td>...</td>\n",
        "      <td> Egypt</td>\n",
        "      <td> EG</td>\n",
        "      <td>          12345</td>\n",
        "      <td>              00201023982488</td>\n",
        "      <td>  no</td>\n",
        "      <td>   620.10</td>\n",
        "      <td>  1</td>\n",
        "      <td>                  NaN</td>\n",
        "      <td> NaN</td>\n",
        "      <td> no</td>\n",
        "    </tr>\n",
        "    <tr>\n",
        "      <th>2325</th>\n",
        "      <td>               zshafei@outlook.com</td>\n",
        "      <td>   20</td>\n",
        "      <td>  7</td>\n",
        "      <td>  48.571429</td>\n",
        "      <td>  2</td>\n",
        "      <td>  1</td>\n",
        "      <td>  2</td>\n",
        "      <td>  1</td>\n",
        "      <td>  1</td>\n",
        "      <td>  0</td>\n",
        "      <td>...</td>\n",
        "      <td> Egypt</td>\n",
        "      <td> EG</td>\n",
        "      <td>          hk123</td>\n",
        "      <td>                 01005497979</td>\n",
        "      <td>  no</td>\n",
        "      <td>  1625.00</td>\n",
        "      <td>  7</td>\n",
        "      <td>                  NaN</td>\n",
        "      <td> NaN</td>\n",
        "      <td> no</td>\n",
        "    </tr>\n",
        "    <tr>\n",
        "      <th>2326</th>\n",
        "      <td>             Lilybadrawy@yahoo.com</td>\n",
        "      <td>  NaN</td>\n",
        "      <td>NaN</td>\n",
        "      <td>        NaN</td>\n",
        "      <td>NaN</td>\n",
        "      <td>NaN</td>\n",
        "      <td>NaN</td>\n",
        "      <td>NaN</td>\n",
        "      <td>NaN</td>\n",
        "      <td>NaN</td>\n",
        "      <td>...</td>\n",
        "      <td> Egypt</td>\n",
        "      <td> EG</td>\n",
        "      <td>          hb123</td>\n",
        "      <td>                 01223105114</td>\n",
        "      <td> yes</td>\n",
        "      <td>   281.80</td>\n",
        "      <td>  2</td>\n",
        "      <td> newsletter, prospect</td>\n",
        "      <td> NaN</td>\n",
        "      <td> no</td>\n",
        "    </tr>\n",
        "    <tr>\n",
        "      <th>2327</th>\n",
        "      <td>                  biro5s@yahoo.com</td>\n",
        "      <td>  NaN</td>\n",
        "      <td>NaN</td>\n",
        "      <td>        NaN</td>\n",
        "      <td>NaN</td>\n",
        "      <td>NaN</td>\n",
        "      <td>NaN</td>\n",
        "      <td>NaN</td>\n",
        "      <td>NaN</td>\n",
        "      <td>NaN</td>\n",
        "      <td>...</td>\n",
        "      <td> Egypt</td>\n",
        "      <td> EG</td>\n",
        "      <td>            065</td>\n",
        "      <td>                 01141117775</td>\n",
        "      <td> yes</td>\n",
        "      <td>    57.02</td>\n",
        "      <td>  1</td>\n",
        "      <td> newsletter, prospect</td>\n",
        "      <td> NaN</td>\n",
        "      <td> no</td>\n",
        "    </tr>\n",
        "  </tbody>\n",
        "</table>\n",
        "<p>2328 rows \u00d7 47 columns</p>\n",
        "</div>"
       ],
       "metadata": {},
       "output_type": "pyout",
       "prompt_number": 9,
       "text": [
        "                                  Email  Days from Last order  Total orders  \\\n",
        "0            11435mail@mkallenberger.de                   941             1   \n",
        "1                         1@gargour.com                   260             2   \n",
        "2                     1kttate@gmail.com                   114             4   \n",
        "3             1youniqueflower@gmail.com                    23             3   \n",
        "4                    3aliaa.h@gmail.com                   263             3   \n",
        "5              777nadiateirah@gmail.com                    32             2   \n",
        "6                             A2@ed.com                   102             1   \n",
        "7               ASHRAF.M.ZAKI@GMAIL.COM                  1174             1   \n",
        "8                  Adhamada@hotmail.com                  1262             1   \n",
        "9           Ahmed.Habash@moevenpick.com                   263             1   \n",
        "10    Ahmed.adel.abdelmonam@hotmail.com                   121             1   \n",
        "11              Aliamossallam@gmail.com                     9            23   \n",
        "12          Andrea.Heilman@aucegypt.edu                   291             4   \n",
        "13              Asmaa.ahmed@hotmail.com                    37             4   \n",
        "14               Attia.nevien@gmail.com                   331             3   \n",
        "15                Azzassallam@gmail.com                   307             1   \n",
        "16                    BAGBOUG@yahoo.com                   285             1   \n",
        "17                    Bakryna@gmail.com                  1204             1   \n",
        "18              Basmaha2010@hotmail.com                   249             1   \n",
        "19                     Bebi84@gmail.com                   976             3   \n",
        "20          Bouchra_erraiss@hotmail.com                   588             1   \n",
        "21                    Bunny_Chan@web.de                   227             3   \n",
        "22               Buty_Heart@hotmail.com                   209             1   \n",
        "23          Camillia.Marmoush@gmail.com                    25             5   \n",
        "24              Carinesabbagh@gmail.com                   240            37   \n",
        "25                 DINA_KADRY@YAHOO.COM                    52             1   \n",
        "26          Dina_eldessouky@hotmail.com                  1116             7   \n",
        "27           Dina_hamada009@hotmail.com                   364             1   \n",
        "28          Dina_hamada2009@hotmail.com                   210             2   \n",
        "29               Doholly_86@hotmail.com                    74             2   \n",
        "...                                 ...                   ...           ...   \n",
        "2298                  youssra@gmail.com                   281             1   \n",
        "2299            youssra_kamal@yahoo.com                    22             3   \n",
        "2300          youssraaashmawi@gmail.com                    73             1   \n",
        "2301            yoyothetricky@gmail.com                     8             2   \n",
        "2302                yrelraheb@gmail.com                  1017             1   \n",
        "2303                yulbiba@hotmail.com                     7             4   \n",
        "2304              yumnakassim@gmail.com                   509             2   \n",
        "2305               z72addas@hotmail.com                   345             1   \n",
        "2306              zaki.farida@gmail.com                    60             5   \n",
        "2307                zedesem65@gmail.com                    39             1   \n",
        "2308                  zee.nap@gmail.com                   113             1   \n",
        "2309             zeina.kassas@gmail.com                   190             6   \n",
        "2310          zeina_ahmed95@hotmail.com                   423             1   \n",
        "2311             zeina_naim@hotmail.com                    35             1   \n",
        "2312          zeinabahmedtaha@yahoo.com                  1055             1   \n",
        "2313       zeinabkhalil2010@hotmail.com                   182             3   \n",
        "2314               zeinabnour@gmail.com                   416             2   \n",
        "2315               zeinahodroj@live.com                   276             2   \n",
        "2316               zeinasabry@gmail.com                   574             7   \n",
        "2317                zeinriham@gmail.com                    29             2   \n",
        "2318            zenaabdelbaky@gmail.com                   148             2   \n",
        "2319             zeyadattalla@yahoo.com                   225             1   \n",
        "2320                 ziadihab@gmail.com                   247             1   \n",
        "2321                ziadusama@ymail.com                    18             1   \n",
        "2322                zinelhini@yahoo.com                   807             1   \n",
        "2323                 zleseman@gmail.com                   976             2   \n",
        "2324            zolaykha1st@hotmail.com                   375             1   \n",
        "2325                zshafei@outlook.com                    20             7   \n",
        "2326              Lilybadrawy@yahoo.com                   NaN           NaN   \n",
        "2327                   biro5s@yahoo.com                   NaN           NaN   \n",
        "\n",
        "      Average days between orders  Sunday  Monday  Tuesday  Wednesday  \\\n",
        "0                        0.000000       1       0        0          0   \n",
        "1                       47.000000       0       0        1          0   \n",
        "2                        5.500000       1       2        0          0   \n",
        "3                      125.000000       0       1        1          0   \n",
        "4                        7.333333       1       0        0          0   \n",
        "5                        2.500000       0       1        0          0   \n",
        "6                        0.000000       0       0        0          0   \n",
        "7                        0.000000       0       0        0          0   \n",
        "8                        0.000000       0       1        0          0   \n",
        "9                        0.000000       0       0        0          0   \n",
        "10                       0.000000       0       1        0          0   \n",
        "11                      18.304348       5       7        3          1   \n",
        "12                       2.750000       0       0        2          0   \n",
        "13                       4.000000       0       1        0          1   \n",
        "14                       0.666667       0       2        0          0   \n",
        "15                       0.000000       0       0        0          0   \n",
        "16                       0.000000       0       0        0          0   \n",
        "17                       0.000000       0       0        0          1   \n",
        "18                       0.000000       0       0        0          0   \n",
        "19                       7.000000       2       0        0          1   \n",
        "20                       0.000000       0       0        0          1   \n",
        "21                      88.666667       2       0        0          0   \n",
        "22                       0.000000       0       0        0          0   \n",
        "23                       2.800000       1       0        0          0   \n",
        "24                      27.567568       7       6        8          5   \n",
        "25                       0.000000       1       0        0          0   \n",
        "26                      18.000000       2       1        1          2   \n",
        "27                       0.000000       0       0        0          1   \n",
        "28                      80.500000       0       0        0          2   \n",
        "29                      56.000000       0       0        0          0   \n",
        "...                           ...     ...     ...      ...        ...   \n",
        "2298                     0.000000       0       0        1          0   \n",
        "2299                    21.333333       0       1        2          0   \n",
        "2300                     0.000000       1       0        0          0   \n",
        "2301                     5.000000       0       0        1          0   \n",
        "2302                     0.000000       0       1        0          0   \n",
        "2303                    15.750000       0       0        0          4   \n",
        "2304                   149.500000       1       0        0          0   \n",
        "2305                     0.000000       0       1        0          0   \n",
        "2306                    31.400000       0       0        0          2   \n",
        "2307                     0.000000       0       0        0          0   \n",
        "2308                     0.000000       0       0        1          0   \n",
        "2309                    55.166667       2       2        1          0   \n",
        "2310                     0.000000       1       0        0          0   \n",
        "2311                     0.000000       0       0        0          1   \n",
        "2312                     0.000000       0       0        0          0   \n",
        "2313                     8.333333       0       0        0          1   \n",
        "2314                     0.500000       1       0        0          0   \n",
        "2315                     0.000000       2       0        0          0   \n",
        "2316                    35.714286       2       1        0          2   \n",
        "2317                    35.500000       0       1        1          0   \n",
        "2318                   219.000000       0       0        1          0   \n",
        "2319                     0.000000       0       0        1          0   \n",
        "2320                     0.000000       0       1        0          0   \n",
        "2321                     0.000000       0       0        0          0   \n",
        "2322                     0.000000       0       1        0          0   \n",
        "2323                    35.500000       1       0        0          0   \n",
        "2324                     0.000000       0       0        0          0   \n",
        "2325                    48.571429       2       1        2          1   \n",
        "2326                          NaN     NaN     NaN      NaN        NaN   \n",
        "2327                          NaN     NaN     NaN      NaN        NaN   \n",
        "\n",
        "      Thursday  Friday     ...      Country  Country Code             Zip  \\\n",
        "0            0       0     ...        Egypt            EG           11435   \n",
        "1            0       0     ...        Egypt            EG           11511   \n",
        "2            1       0     ...        Egypt            EG           00000   \n",
        "3            1       0     ...        Egypt            EG           11341   \n",
        "4            0       1     ...        Egypt            EG           11371   \n",
        "5            0       0     ...        Egypt            EG          Am1234   \n",
        "6            0       0     ...        Egypt            EG         5253258   \n",
        "7            0       1     ...        Egypt            EG           12211   \n",
        "8            0       0     ...        Egypt            EG           00000   \n",
        "9            0       0     ...        Egypt            EG           00202   \n",
        "10           0       0     ...        Egypt            EG           00000   \n",
        "11           1       4     ...        Egypt            EG           15565   \n",
        "12           0       0     ...        Egypt            EG            0000   \n",
        "13           0       0     ...        Egypt            EG           hb123   \n",
        "14           0       0     ...        Egypt            EG           00202   \n",
        "15           1       0     ...        Egypt            EG           00202   \n",
        "16           0       1     ...        Egypt            EG           11762   \n",
        "17           0       0     ...        Egypt            EG             001   \n",
        "18           0       0     ...        Egypt            EG           12611   \n",
        "19           0       0     ...        Egypt            EG           12611   \n",
        "20           0       0     ...        Egypt            EG           11841   \n",
        "21           0       1     ...        Egypt            EG           11321   \n",
        "22           1       0     ...        Egypt            EG           11511   \n",
        "23           0       0     ...        Egypt            EG           hb123   \n",
        "24           4       2     ...        Egypt            EG            1111   \n",
        "25           0       0     ...        Egypt            EG           hb123   \n",
        "26           0       0     ...        Egypt            EG           cairo   \n",
        "27           0       0     ...        Egypt            EG          000000   \n",
        "28           0       0     ...        Egypt            EG          000000   \n",
        "29           0       0     ...        Egypt            EG            0000   \n",
        "...        ...     ...     ...          ...           ...             ...   \n",
        "2298         0       0     ...        Egypt            EG           12411   \n",
        "2299         0       0     ...        Egypt            EG         2344434   \n",
        "2300         0       0     ...        Egypt            EG          Am1234   \n",
        "2301         0       0     ...        Egypt            EG           11835   \n",
        "2302         0       0     ...        Egypt            EG           11231   \n",
        "2303         0       0     ...        Egypt            EG           12566   \n",
        "2304         0       1     ...        Egypt            EG           11341   \n",
        "2305         0       0     ...        Egypt            EG           11431   \n",
        "2306         0       0     ...        Egypt            EG           11341   \n",
        "2307         0       0     ...        Egypt            EG           11341   \n",
        "2308         0       0     ...        Egypt            EG           11742   \n",
        "2309         1       0     ...        Egypt            EG           18411   \n",
        "2310         0       0     ...        Egypt            EG           11511   \n",
        "2311         0       0     ...        Egypt            EG           hb123   \n",
        "2312         0       1     ...        Egypt            EG         abc 123   \n",
        "2313         0       0     ...        Egypt            EG            0000   \n",
        "2314         0       0     ...        Egypt            EG           00202   \n",
        "2315         0       0     ...        Egypt            EG           00202   \n",
        "2316         0       2     ...        Egypt            EG           11211   \n",
        "2317         0       0     ...        Egypt            EG           hb123   \n",
        "2318         0       1     ...        Egypt            EG           11649   \n",
        "2319         0       0     ...        Egypt            EG           12566   \n",
        "2320         0       0     ...        Egypt            EG  Not applicable   \n",
        "2321         0       0     ...        Egypt            EG              No   \n",
        "2322         0       0     ...        Egypt            EG           12655   \n",
        "2323         0       0     ...        Egypt            EG           16404   \n",
        "2324         0       0     ...        Egypt            EG           12345   \n",
        "2325         1       0     ...        Egypt            EG           hk123   \n",
        "2326       NaN     NaN     ...        Egypt            EG           hb123   \n",
        "2327       NaN     NaN     ...        Egypt            EG             065   \n",
        "\n",
        "                          Phone_y  Accepts Marketing  Total Spent  \\\n",
        "0                     01090904137                yes       277.17   \n",
        "1                     01222160835                 no      1021.10   \n",
        "2                     01023063292                 no       399.00   \n",
        "3                     01221124426                 no       936.00   \n",
        "4                     01001436666                 no       187.00   \n",
        "5                     01005510543                 no         0.00   \n",
        "6                   0100001224555                 no         0.00   \n",
        "7                     01222174854                 no       310.18   \n",
        "8                     01223221581                yes        71.20   \n",
        "9                     01066656222                 no       370.00   \n",
        "10                    01060002000                 no       434.00   \n",
        "11                    01222344036                 no      5983.32   \n",
        "12                    01202070773                 no       426.80   \n",
        "13    01026442230     01093551807                 no         0.00   \n",
        "14                    01222103099                 no       157.00   \n",
        "15                    01019078478                 no        60.00   \n",
        "16                    01141224422                 no       128.50   \n",
        "17                            NaN                yes       132.25   \n",
        "18                    01117005877                 no        70.00   \n",
        "19                    01009599615                yes       753.39   \n",
        "20                    01202244355                yes       300.75   \n",
        "21                    01003588073                 no       432.00   \n",
        "22                  +201007901118                 no       352.00   \n",
        "23                    01002280010                 no       291.70   \n",
        "24                    01000100745                yes     13135.70   \n",
        "25                    01000993094                 no         0.00   \n",
        "26                    01008020608                yes      1889.88   \n",
        "27                    01001415888                 no        81.00   \n",
        "28                    01001415888                 no       173.00   \n",
        "29                    01145997944                 no       913.50   \n",
        "...                           ...                ...          ...   \n",
        "2298                +201114400112                 no         0.00   \n",
        "2299                  01149734254                 no       753.00   \n",
        "2300                  01125699291                 no       211.00   \n",
        "2301                  01069786059                 no       263.20   \n",
        "2302                  01221888861                yes        88.13   \n",
        "2303                  01150888848                 no       547.20   \n",
        "2304                  01005047970                yes       259.50   \n",
        "2305                +201223781733                 no         0.00   \n",
        "2306               00201001108847                 no       931.50   \n",
        "2307                  01222107517                 no         0.00   \n",
        "2308                 201005211550                 no        52.00   \n",
        "2309                  01000448740                yes       796.60   \n",
        "2310                  01141222226                 no       728.80   \n",
        "2311                  01025550552                 no         0.00   \n",
        "2312                  01271188471                 no       116.30   \n",
        "2313                   0227355135                 no       480.00   \n",
        "2314                  01002261945                 no       117.50   \n",
        "2315                  01000892677                 no       197.50   \n",
        "2316                +201227759372                yes      1218.40   \n",
        "2317  01007077741  /  01008664628                 no         0.00   \n",
        "2318                  01000350409                yes       327.50   \n",
        "2319                  01002240643                 no       132.40   \n",
        "2320                  01116835556                 no        62.00   \n",
        "2321                  01097902883                 no         0.00   \n",
        "2322                  01006061566                 no       330.02   \n",
        "2323                  01125573521                 no      1211.57   \n",
        "2324               00201023982488                 no       620.10   \n",
        "2325                  01005497979                 no      1625.00   \n",
        "2326                  01223105114                yes       281.80   \n",
        "2327                  01141117775                yes        57.02   \n",
        "\n",
        "      Total Orders                  Tags  Note  Tax Exempt  \n",
        "0                1                   NaN   NaN          no  \n",
        "1                2                   NaN   NaN          no  \n",
        "2                4                   NaN   NaN          no  \n",
        "3                3                   NaN   NaN          no  \n",
        "4                3                   NaN   NaN          no  \n",
        "5                2                   NaN   NaN          no  \n",
        "6                1                   NaN   NaN          no  \n",
        "7                1                   NaN   NaN          no  \n",
        "8                1                   NaN   NaN          no  \n",
        "9                1                   NaN   NaN          no  \n",
        "10               1                   NaN   NaN          no  \n",
        "11              24                   NaN   NaN          no  \n",
        "12               4                   NaN   NaN          no  \n",
        "13               4                   NaN   NaN          no  \n",
        "14               3                   NaN   NaN          no  \n",
        "15               1                   NaN   NaN          no  \n",
        "16               1                   NaN   NaN          no  \n",
        "17               1                   NaN   NaN          no  \n",
        "18               1                   NaN   NaN          no  \n",
        "19               5                   NaN   NaN          no  \n",
        "20               1                   NaN   NaN          no  \n",
        "21               3                   NaN   NaN          no  \n",
        "22               1                   NaN   NaN          no  \n",
        "23               5                   NaN   NaN          no  \n",
        "24              42                   NaN   NaN          no  \n",
        "25               1                   NaN   NaN          no  \n",
        "26              12                   NaN   NaN          no  \n",
        "27               1                   NaN   NaN          no  \n",
        "28               2                   NaN   NaN          no  \n",
        "29               3                   NaN   NaN          no  \n",
        "...            ...                   ...   ...         ...  \n",
        "2298             1                   NaN   NaN          no  \n",
        "2299             3                   NaN   NaN          no  \n",
        "2300             1                   NaN   NaN          no  \n",
        "2301             2                   NaN   NaN          no  \n",
        "2302             1                   NaN   NaN          no  \n",
        "2303             4                   NaN   NaN          no  \n",
        "2304             2  newsletter, prospect   NaN          no  \n",
        "2305             1                   NaN   NaN          no  \n",
        "2306             5                   NaN   NaN          no  \n",
        "2307             1                   NaN   NaN          no  \n",
        "2308             1                   NaN   NaN          no  \n",
        "2309             6                   NaN   NaN          no  \n",
        "2310             1                   NaN   NaN          no  \n",
        "2311             1                   NaN   NaN          no  \n",
        "2312             1                   NaN   NaN          no  \n",
        "2313             3                   NaN   NaN          no  \n",
        "2314             2                   NaN   NaN          no  \n",
        "2315             2                   NaN   NaN          no  \n",
        "2316             7                   NaN   NaN          no  \n",
        "2317             2                   NaN   NaN          no  \n",
        "2318             2  newsletter, prospect   NaN          no  \n",
        "2319             1                   NaN   NaN          no  \n",
        "2320             1                   NaN   NaN          no  \n",
        "2321             1                   NaN   NaN          no  \n",
        "2322             1                   NaN   NaN          no  \n",
        "2323             2                   NaN   NaN          no  \n",
        "2324             1                   NaN   NaN          no  \n",
        "2325             7                   NaN   NaN          no  \n",
        "2326             2  newsletter, prospect   NaN          no  \n",
        "2327             1  newsletter, prospect   NaN          no  \n",
        "\n",
        "[2328 rows x 47 columns]"
       ]
      }
     ],
     "prompt_number": 9
    },
    {
     "cell_type": "code",
     "collapsed": false,
     "input": [
      "df2 = df2[['First Name', 'Last Name', 'Total orders', 'Average days between orders', 'Email', 'Days from Last order', 'Sunday', 'Monday', 'Tuesday', 'Wednesday', 'Thursday', 'Friday', 'Saturday', '0:00 - 2:00', '2:00 - 4:00', '4:00 - 6:00', '6:00 - 8:00', '8:00 - 10:00', '10:00 - 12:00', '12:00 - 14:00', '14:00 - 16:00', '16:00 - 18:00', '18:00 - 20:00', '20:00 - 22:00', '22:00 - 0:00']]\n",
      "\n",
      "#concatenate name\n",
      "for i in range(0, max(df2.index)+1):\n",
      "    df2.loc[i, 'Name'] = df2.loc[i, 'First Name'] + \" \" + df2.loc[i, 'Last Name']\n",
      "df2"
     ],
     "language": "python",
     "metadata": {},
     "outputs": [
      {
       "output_type": "stream",
       "stream": "stderr",
       "text": [
        "C:\\Users\\saisree849\\AppData\\Local\\Enthought\\Canopy\\User\\lib\\site-packages\\pandas\\core\\indexing.py:245: SettingWithCopyWarning: \n",
        "A value is trying to be set on a copy of a slice from a DataFrame.\n",
        "Try using .loc[row_indexer,col_indexer] = value instead\n",
        "\n",
        "See the the caveats in the documentation: http://pandas.pydata.org/pandas-docs/stable/indexing.html#indexing-view-versus-copy\n",
        "  self.obj[key] = np.nan\n",
        "C:\\Users\\saisree849\\AppData\\Local\\Enthought\\Canopy\\User\\lib\\site-packages\\pandas\\core\\indexing.py:415: SettingWithCopyWarning: \n",
        "A value is trying to be set on a copy of a slice from a DataFrame.\n",
        "Try using .loc[row_indexer,col_indexer] = value instead\n",
        "\n",
        "See the the caveats in the documentation: http://pandas.pydata.org/pandas-docs/stable/indexing.html#indexing-view-versus-copy\n",
        "  self.obj[item] = s\n"
       ]
      },
      {
       "html": [
        "<div style=\"max-height:1000px;max-width:1500px;overflow:auto;\">\n",
        "<table border=\"1\" class=\"dataframe\">\n",
        "  <thead>\n",
        "    <tr style=\"text-align: right;\">\n",
        "      <th></th>\n",
        "      <th>First Name</th>\n",
        "      <th>Last Name</th>\n",
        "      <th>Total orders</th>\n",
        "      <th>Average days between orders</th>\n",
        "      <th>Email</th>\n",
        "      <th>Days from Last order</th>\n",
        "      <th>Sunday</th>\n",
        "      <th>Monday</th>\n",
        "      <th>Tuesday</th>\n",
        "      <th>Wednesday</th>\n",
        "      <th>...</th>\n",
        "      <th>6:00 - 8:00</th>\n",
        "      <th>8:00 - 10:00</th>\n",
        "      <th>10:00 - 12:00</th>\n",
        "      <th>12:00 - 14:00</th>\n",
        "      <th>14:00 - 16:00</th>\n",
        "      <th>16:00 - 18:00</th>\n",
        "      <th>18:00 - 20:00</th>\n",
        "      <th>20:00 - 22:00</th>\n",
        "      <th>22:00 - 0:00</th>\n",
        "      <th>Name</th>\n",
        "    </tr>\n",
        "  </thead>\n",
        "  <tbody>\n",
        "    <tr>\n",
        "      <th>0   </th>\n",
        "      <td>  Magdalena</td>\n",
        "      <td> Kallenberger</td>\n",
        "      <td>  1</td>\n",
        "      <td>   0.000000</td>\n",
        "      <td>        11435mail@mkallenberger.de</td>\n",
        "      <td>  941</td>\n",
        "      <td>  1</td>\n",
        "      <td>  0</td>\n",
        "      <td>  0</td>\n",
        "      <td>  0</td>\n",
        "      <td>...</td>\n",
        "      <td>  0</td>\n",
        "      <td>  0</td>\n",
        "      <td>  0</td>\n",
        "      <td>  0</td>\n",
        "      <td>  1</td>\n",
        "      <td>  0</td>\n",
        "      <td>  0</td>\n",
        "      <td>  0</td>\n",
        "      <td>  0</td>\n",
        "      <td> Magdalena Kallenberger</td>\n",
        "    </tr>\n",
        "    <tr>\n",
        "      <th>1   </th>\n",
        "      <td>     Alain </td>\n",
        "      <td>       Phar\u00e8s</td>\n",
        "      <td>  2</td>\n",
        "      <td>  47.000000</td>\n",
        "      <td>                     1@gargour.com</td>\n",
        "      <td>  260</td>\n",
        "      <td>  0</td>\n",
        "      <td>  0</td>\n",
        "      <td>  1</td>\n",
        "      <td>  0</td>\n",
        "      <td>...</td>\n",
        "      <td>  0</td>\n",
        "      <td>  0</td>\n",
        "      <td>  0</td>\n",
        "      <td>  0</td>\n",
        "      <td>  1</td>\n",
        "      <td>  1</td>\n",
        "      <td>  0</td>\n",
        "      <td>  0</td>\n",
        "      <td>  0</td>\n",
        "      <td>          Alain  Phar\u00e8s</td>\n",
        "    </tr>\n",
        "    <tr>\n",
        "      <th>2   </th>\n",
        "      <td>      Kelly</td>\n",
        "      <td>         Tate</td>\n",
        "      <td>  4</td>\n",
        "      <td>   5.500000</td>\n",
        "      <td>                 1kttate@gmail.com</td>\n",
        "      <td>  114</td>\n",
        "      <td>  1</td>\n",
        "      <td>  2</td>\n",
        "      <td>  0</td>\n",
        "      <td>  0</td>\n",
        "      <td>...</td>\n",
        "      <td>  0</td>\n",
        "      <td>  2</td>\n",
        "      <td>  1</td>\n",
        "      <td>  1</td>\n",
        "      <td>  0</td>\n",
        "      <td>  0</td>\n",
        "      <td>  0</td>\n",
        "      <td>  0</td>\n",
        "      <td>  0</td>\n",
        "      <td>             Kelly Tate</td>\n",
        "    </tr>\n",
        "    <tr>\n",
        "      <th>3   </th>\n",
        "      <td>       Lara</td>\n",
        "      <td>        Scott</td>\n",
        "      <td>  3</td>\n",
        "      <td> 125.000000</td>\n",
        "      <td>         1youniqueflower@gmail.com</td>\n",
        "      <td>   23</td>\n",
        "      <td>  0</td>\n",
        "      <td>  1</td>\n",
        "      <td>  1</td>\n",
        "      <td>  0</td>\n",
        "      <td>...</td>\n",
        "      <td>  0</td>\n",
        "      <td>  0</td>\n",
        "      <td>  0</td>\n",
        "      <td>  1</td>\n",
        "      <td>  0</td>\n",
        "      <td>  1</td>\n",
        "      <td>  0</td>\n",
        "      <td>  0</td>\n",
        "      <td>  1</td>\n",
        "      <td>             Lara Scott</td>\n",
        "    </tr>\n",
        "    <tr>\n",
        "      <th>4   </th>\n",
        "      <td>    mohamed</td>\n",
        "      <td>        tolba</td>\n",
        "      <td>  3</td>\n",
        "      <td>   7.333333</td>\n",
        "      <td>                3aliaa.h@gmail.com</td>\n",
        "      <td>  263</td>\n",
        "      <td>  1</td>\n",
        "      <td>  0</td>\n",
        "      <td>  0</td>\n",
        "      <td>  0</td>\n",
        "      <td>...</td>\n",
        "      <td>  0</td>\n",
        "      <td>  0</td>\n",
        "      <td>  0</td>\n",
        "      <td>  0</td>\n",
        "      <td>  0</td>\n",
        "      <td>  1</td>\n",
        "      <td>  0</td>\n",
        "      <td>  0</td>\n",
        "      <td>  0</td>\n",
        "      <td>          mohamed tolba</td>\n",
        "    </tr>\n",
        "    <tr>\n",
        "      <th>5   </th>\n",
        "      <td>      Nadia</td>\n",
        "      <td>       Teirah</td>\n",
        "      <td>  2</td>\n",
        "      <td>   2.500000</td>\n",
        "      <td>          777nadiateirah@gmail.com</td>\n",
        "      <td>   32</td>\n",
        "      <td>  0</td>\n",
        "      <td>  1</td>\n",
        "      <td>  0</td>\n",
        "      <td>  0</td>\n",
        "      <td>...</td>\n",
        "      <td>  0</td>\n",
        "      <td>  0</td>\n",
        "      <td>  1</td>\n",
        "      <td>  1</td>\n",
        "      <td>  0</td>\n",
        "      <td>  0</td>\n",
        "      <td>  0</td>\n",
        "      <td>  0</td>\n",
        "      <td>  0</td>\n",
        "      <td>           Nadia Teirah</td>\n",
        "    </tr>\n",
        "    <tr>\n",
        "      <th>6   </th>\n",
        "      <td>    Aladdin</td>\n",
        "      <td>        Nabil</td>\n",
        "      <td>  1</td>\n",
        "      <td>   0.000000</td>\n",
        "      <td>                         A2@ed.com</td>\n",
        "      <td>  102</td>\n",
        "      <td>  0</td>\n",
        "      <td>  0</td>\n",
        "      <td>  0</td>\n",
        "      <td>  0</td>\n",
        "      <td>...</td>\n",
        "      <td>  0</td>\n",
        "      <td>  0</td>\n",
        "      <td>  0</td>\n",
        "      <td>  1</td>\n",
        "      <td>  0</td>\n",
        "      <td>  0</td>\n",
        "      <td>  0</td>\n",
        "      <td>  0</td>\n",
        "      <td>  0</td>\n",
        "      <td>          Aladdin Nabil</td>\n",
        "    </tr>\n",
        "    <tr>\n",
        "      <th>7   </th>\n",
        "      <td>     ASHRAF</td>\n",
        "      <td>         ZAKI</td>\n",
        "      <td>  1</td>\n",
        "      <td>   0.000000</td>\n",
        "      <td>           ASHRAF.M.ZAKI@GMAIL.COM</td>\n",
        "      <td> 1174</td>\n",
        "      <td>  0</td>\n",
        "      <td>  0</td>\n",
        "      <td>  0</td>\n",
        "      <td>  0</td>\n",
        "      <td>...</td>\n",
        "      <td>  0</td>\n",
        "      <td>  1</td>\n",
        "      <td>  0</td>\n",
        "      <td>  0</td>\n",
        "      <td>  0</td>\n",
        "      <td>  0</td>\n",
        "      <td>  0</td>\n",
        "      <td>  0</td>\n",
        "      <td>  0</td>\n",
        "      <td>            ASHRAF ZAKI</td>\n",
        "    </tr>\n",
        "    <tr>\n",
        "      <th>8   </th>\n",
        "      <td>      Adham</td>\n",
        "      <td>       Hamada</td>\n",
        "      <td>  1</td>\n",
        "      <td>   0.000000</td>\n",
        "      <td>              Adhamada@hotmail.com</td>\n",
        "      <td> 1262</td>\n",
        "      <td>  0</td>\n",
        "      <td>  1</td>\n",
        "      <td>  0</td>\n",
        "      <td>  0</td>\n",
        "      <td>...</td>\n",
        "      <td>  0</td>\n",
        "      <td>  0</td>\n",
        "      <td>  0</td>\n",
        "      <td>  0</td>\n",
        "      <td>  0</td>\n",
        "      <td>  0</td>\n",
        "      <td>  1</td>\n",
        "      <td>  0</td>\n",
        "      <td>  0</td>\n",
        "      <td>           Adham Hamada</td>\n",
        "    </tr>\n",
        "    <tr>\n",
        "      <th>9   </th>\n",
        "      <td>      Ahmed</td>\n",
        "      <td>       Habash</td>\n",
        "      <td>  1</td>\n",
        "      <td>   0.000000</td>\n",
        "      <td>       Ahmed.Habash@moevenpick.com</td>\n",
        "      <td>  263</td>\n",
        "      <td>  0</td>\n",
        "      <td>  0</td>\n",
        "      <td>  0</td>\n",
        "      <td>  0</td>\n",
        "      <td>...</td>\n",
        "      <td>  0</td>\n",
        "      <td>  0</td>\n",
        "      <td>  0</td>\n",
        "      <td>  0</td>\n",
        "      <td>  1</td>\n",
        "      <td>  0</td>\n",
        "      <td>  0</td>\n",
        "      <td>  0</td>\n",
        "      <td>  0</td>\n",
        "      <td>           Ahmed Habash</td>\n",
        "    </tr>\n",
        "    <tr>\n",
        "      <th>10  </th>\n",
        "      <td>      Ahmed</td>\n",
        "      <td>         Adel</td>\n",
        "      <td>  1</td>\n",
        "      <td>   0.000000</td>\n",
        "      <td> Ahmed.adel.abdelmonam@hotmail.com</td>\n",
        "      <td>  121</td>\n",
        "      <td>  0</td>\n",
        "      <td>  1</td>\n",
        "      <td>  0</td>\n",
        "      <td>  0</td>\n",
        "      <td>...</td>\n",
        "      <td>  0</td>\n",
        "      <td>  0</td>\n",
        "      <td>  0</td>\n",
        "      <td>  0</td>\n",
        "      <td>  0</td>\n",
        "      <td>  0</td>\n",
        "      <td>  0</td>\n",
        "      <td>  0</td>\n",
        "      <td>  0</td>\n",
        "      <td>             Ahmed Adel</td>\n",
        "    </tr>\n",
        "    <tr>\n",
        "      <th>11  </th>\n",
        "      <td>       Alia</td>\n",
        "      <td>    Mossallam</td>\n",
        "      <td> 23</td>\n",
        "      <td>  18.304348</td>\n",
        "      <td>           Aliamossallam@gmail.com</td>\n",
        "      <td>    9</td>\n",
        "      <td>  5</td>\n",
        "      <td>  7</td>\n",
        "      <td>  3</td>\n",
        "      <td>  1</td>\n",
        "      <td>...</td>\n",
        "      <td>  0</td>\n",
        "      <td>  0</td>\n",
        "      <td>  5</td>\n",
        "      <td>  5</td>\n",
        "      <td>  5</td>\n",
        "      <td>  2</td>\n",
        "      <td>  2</td>\n",
        "      <td>  2</td>\n",
        "      <td>  0</td>\n",
        "      <td>         Alia Mossallam</td>\n",
        "    </tr>\n",
        "    <tr>\n",
        "      <th>12  </th>\n",
        "      <td>     Andrea</td>\n",
        "      <td>      Heilman</td>\n",
        "      <td>  4</td>\n",
        "      <td>   2.750000</td>\n",
        "      <td>       Andrea.Heilman@aucegypt.edu</td>\n",
        "      <td>  291</td>\n",
        "      <td>  0</td>\n",
        "      <td>  0</td>\n",
        "      <td>  2</td>\n",
        "      <td>  0</td>\n",
        "      <td>...</td>\n",
        "      <td>  0</td>\n",
        "      <td>  0</td>\n",
        "      <td>  2</td>\n",
        "      <td>  2</td>\n",
        "      <td>  0</td>\n",
        "      <td>  0</td>\n",
        "      <td>  0</td>\n",
        "      <td>  0</td>\n",
        "      <td>  0</td>\n",
        "      <td>         Andrea Heilman</td>\n",
        "    </tr>\n",
        "    <tr>\n",
        "      <th>13  </th>\n",
        "      <td>      Asmaa</td>\n",
        "      <td>        Ahmed</td>\n",
        "      <td>  4</td>\n",
        "      <td>   4.000000</td>\n",
        "      <td>           Asmaa.ahmed@hotmail.com</td>\n",
        "      <td>   37</td>\n",
        "      <td>  0</td>\n",
        "      <td>  1</td>\n",
        "      <td>  0</td>\n",
        "      <td>  1</td>\n",
        "      <td>...</td>\n",
        "      <td>  0</td>\n",
        "      <td>  0</td>\n",
        "      <td>  0</td>\n",
        "      <td>  0</td>\n",
        "      <td>  1</td>\n",
        "      <td>  2</td>\n",
        "      <td>  1</td>\n",
        "      <td>  0</td>\n",
        "      <td>  0</td>\n",
        "      <td>            Asmaa Ahmed</td>\n",
        "    </tr>\n",
        "    <tr>\n",
        "      <th>14  </th>\n",
        "      <td>     Sherif</td>\n",
        "      <td>        Saleh</td>\n",
        "      <td>  3</td>\n",
        "      <td>   0.666667</td>\n",
        "      <td>            Attia.nevien@gmail.com</td>\n",
        "      <td>  331</td>\n",
        "      <td>  0</td>\n",
        "      <td>  2</td>\n",
        "      <td>  0</td>\n",
        "      <td>  0</td>\n",
        "      <td>...</td>\n",
        "      <td>  0</td>\n",
        "      <td>  0</td>\n",
        "      <td>  0</td>\n",
        "      <td>  0</td>\n",
        "      <td>  2</td>\n",
        "      <td>  1</td>\n",
        "      <td>  0</td>\n",
        "      <td>  0</td>\n",
        "      <td>  0</td>\n",
        "      <td>           Sherif Saleh</td>\n",
        "    </tr>\n",
        "    <tr>\n",
        "      <th>15  </th>\n",
        "      <td>       Azza</td>\n",
        "      <td>       Sallam</td>\n",
        "      <td>  1</td>\n",
        "      <td>   0.000000</td>\n",
        "      <td>             Azzassallam@gmail.com</td>\n",
        "      <td>  307</td>\n",
        "      <td>  0</td>\n",
        "      <td>  0</td>\n",
        "      <td>  0</td>\n",
        "      <td>  0</td>\n",
        "      <td>...</td>\n",
        "      <td>  0</td>\n",
        "      <td>  0</td>\n",
        "      <td>  1</td>\n",
        "      <td>  0</td>\n",
        "      <td>  0</td>\n",
        "      <td>  0</td>\n",
        "      <td>  0</td>\n",
        "      <td>  0</td>\n",
        "      <td>  0</td>\n",
        "      <td>            Azza Sallam</td>\n",
        "    </tr>\n",
        "    <tr>\n",
        "      <th>16  </th>\n",
        "      <td>   Brigitte</td>\n",
        "      <td>        Kamal</td>\n",
        "      <td>  1</td>\n",
        "      <td>   0.000000</td>\n",
        "      <td>                 BAGBOUG@yahoo.com</td>\n",
        "      <td>  285</td>\n",
        "      <td>  0</td>\n",
        "      <td>  0</td>\n",
        "      <td>  0</td>\n",
        "      <td>  0</td>\n",
        "      <td>...</td>\n",
        "      <td>  0</td>\n",
        "      <td>  0</td>\n",
        "      <td>  0</td>\n",
        "      <td>  0</td>\n",
        "      <td>  0</td>\n",
        "      <td>  0</td>\n",
        "      <td>  0</td>\n",
        "      <td>  0</td>\n",
        "      <td>  0</td>\n",
        "      <td>         Brigitte Kamal</td>\n",
        "    </tr>\n",
        "    <tr>\n",
        "      <th>17  </th>\n",
        "      <td>        Nna</td>\n",
        "      <td>        Bakry</td>\n",
        "      <td>  1</td>\n",
        "      <td>   0.000000</td>\n",
        "      <td>                 Bakryna@gmail.com</td>\n",
        "      <td> 1204</td>\n",
        "      <td>  0</td>\n",
        "      <td>  0</td>\n",
        "      <td>  0</td>\n",
        "      <td>  1</td>\n",
        "      <td>...</td>\n",
        "      <td>  0</td>\n",
        "      <td>  0</td>\n",
        "      <td>  0</td>\n",
        "      <td>  0</td>\n",
        "      <td>  0</td>\n",
        "      <td>  0</td>\n",
        "      <td>  0</td>\n",
        "      <td>  0</td>\n",
        "      <td>  0</td>\n",
        "      <td>              Nna Bakry</td>\n",
        "    </tr>\n",
        "    <tr>\n",
        "      <th>18  </th>\n",
        "      <td>      Basma</td>\n",
        "      <td>      Elgazar</td>\n",
        "      <td>  1</td>\n",
        "      <td>   0.000000</td>\n",
        "      <td>           Basmaha2010@hotmail.com</td>\n",
        "      <td>  249</td>\n",
        "      <td>  0</td>\n",
        "      <td>  0</td>\n",
        "      <td>  0</td>\n",
        "      <td>  0</td>\n",
        "      <td>...</td>\n",
        "      <td>  0</td>\n",
        "      <td>  0</td>\n",
        "      <td>  0</td>\n",
        "      <td>  0</td>\n",
        "      <td>  0</td>\n",
        "      <td>  0</td>\n",
        "      <td>  0</td>\n",
        "      <td>  0</td>\n",
        "      <td>  1</td>\n",
        "      <td>          Basma Elgazar</td>\n",
        "    </tr>\n",
        "    <tr>\n",
        "      <th>19  </th>\n",
        "      <td>       Heba</td>\n",
        "      <td>        Ragab</td>\n",
        "      <td>  3</td>\n",
        "      <td>   7.000000</td>\n",
        "      <td>                  Bebi84@gmail.com</td>\n",
        "      <td>  976</td>\n",
        "      <td>  2</td>\n",
        "      <td>  0</td>\n",
        "      <td>  0</td>\n",
        "      <td>  1</td>\n",
        "      <td>...</td>\n",
        "      <td>  0</td>\n",
        "      <td>  0</td>\n",
        "      <td>  0</td>\n",
        "      <td>  1</td>\n",
        "      <td>  0</td>\n",
        "      <td>  1</td>\n",
        "      <td>  0</td>\n",
        "      <td>  0</td>\n",
        "      <td>  1</td>\n",
        "      <td>             Heba Ragab</td>\n",
        "    </tr>\n",
        "    <tr>\n",
        "      <th>20  </th>\n",
        "      <td>     Haisam</td>\n",
        "      <td>      Soliman</td>\n",
        "      <td>  1</td>\n",
        "      <td>   0.000000</td>\n",
        "      <td>       Bouchra_erraiss@hotmail.com</td>\n",
        "      <td>  588</td>\n",
        "      <td>  0</td>\n",
        "      <td>  0</td>\n",
        "      <td>  0</td>\n",
        "      <td>  1</td>\n",
        "      <td>...</td>\n",
        "      <td>  0</td>\n",
        "      <td>  0</td>\n",
        "      <td>  0</td>\n",
        "      <td>  1</td>\n",
        "      <td>  0</td>\n",
        "      <td>  0</td>\n",
        "      <td>  0</td>\n",
        "      <td>  0</td>\n",
        "      <td>  0</td>\n",
        "      <td>         Haisam Soliman</td>\n",
        "    </tr>\n",
        "    <tr>\n",
        "      <th>21  </th>\n",
        "      <td>     Yasser</td>\n",
        "      <td>        Awadd</td>\n",
        "      <td>  3</td>\n",
        "      <td>  88.666667</td>\n",
        "      <td>                 Bunny_Chan@web.de</td>\n",
        "      <td>  227</td>\n",
        "      <td>  2</td>\n",
        "      <td>  0</td>\n",
        "      <td>  0</td>\n",
        "      <td>  0</td>\n",
        "      <td>...</td>\n",
        "      <td>  0</td>\n",
        "      <td>  0</td>\n",
        "      <td>  0</td>\n",
        "      <td>  1</td>\n",
        "      <td>  0</td>\n",
        "      <td>  1</td>\n",
        "      <td>  0</td>\n",
        "      <td>  1</td>\n",
        "      <td>  0</td>\n",
        "      <td>           Yasser Awadd</td>\n",
        "    </tr>\n",
        "    <tr>\n",
        "      <th>22  </th>\n",
        "      <td>      Asmaa</td>\n",
        "      <td>       Medaht</td>\n",
        "      <td>  1</td>\n",
        "      <td>   0.000000</td>\n",
        "      <td>            Buty_Heart@hotmail.com</td>\n",
        "      <td>  209</td>\n",
        "      <td>  0</td>\n",
        "      <td>  0</td>\n",
        "      <td>  0</td>\n",
        "      <td>  0</td>\n",
        "      <td>...</td>\n",
        "      <td>  0</td>\n",
        "      <td>  0</td>\n",
        "      <td>  0</td>\n",
        "      <td>  0</td>\n",
        "      <td>  0</td>\n",
        "      <td>  1</td>\n",
        "      <td>  0</td>\n",
        "      <td>  0</td>\n",
        "      <td>  0</td>\n",
        "      <td>           Asmaa Medaht</td>\n",
        "    </tr>\n",
        "    <tr>\n",
        "      <th>23  </th>\n",
        "      <td>  Camillia </td>\n",
        "      <td>     Marmoush</td>\n",
        "      <td>  5</td>\n",
        "      <td>   2.800000</td>\n",
        "      <td>       Camillia.Marmoush@gmail.com</td>\n",
        "      <td>   25</td>\n",
        "      <td>  1</td>\n",
        "      <td>  0</td>\n",
        "      <td>  0</td>\n",
        "      <td>  0</td>\n",
        "      <td>...</td>\n",
        "      <td>  0</td>\n",
        "      <td>  0</td>\n",
        "      <td>  3</td>\n",
        "      <td>  2</td>\n",
        "      <td>  0</td>\n",
        "      <td>  0</td>\n",
        "      <td>  0</td>\n",
        "      <td>  0</td>\n",
        "      <td>  0</td>\n",
        "      <td>     Camillia  Marmoush</td>\n",
        "    </tr>\n",
        "    <tr>\n",
        "      <th>24  </th>\n",
        "      <td>     carine</td>\n",
        "      <td>      sabbagh</td>\n",
        "      <td> 37</td>\n",
        "      <td>  27.567568</td>\n",
        "      <td>           Carinesabbagh@gmail.com</td>\n",
        "      <td>  240</td>\n",
        "      <td>  7</td>\n",
        "      <td>  6</td>\n",
        "      <td>  8</td>\n",
        "      <td>  5</td>\n",
        "      <td>...</td>\n",
        "      <td>  0</td>\n",
        "      <td>  3</td>\n",
        "      <td>  2</td>\n",
        "      <td>  3</td>\n",
        "      <td>  2</td>\n",
        "      <td>  5</td>\n",
        "      <td>  2</td>\n",
        "      <td>  2</td>\n",
        "      <td>  5</td>\n",
        "      <td>         carine sabbagh</td>\n",
        "    </tr>\n",
        "    <tr>\n",
        "      <th>25  </th>\n",
        "      <td>       Dina</td>\n",
        "      <td>        Kadry</td>\n",
        "      <td>  1</td>\n",
        "      <td>   0.000000</td>\n",
        "      <td>              DINA_KADRY@YAHOO.COM</td>\n",
        "      <td>   52</td>\n",
        "      <td>  1</td>\n",
        "      <td>  0</td>\n",
        "      <td>  0</td>\n",
        "      <td>  0</td>\n",
        "      <td>...</td>\n",
        "      <td>  0</td>\n",
        "      <td>  0</td>\n",
        "      <td>  1</td>\n",
        "      <td>  0</td>\n",
        "      <td>  0</td>\n",
        "      <td>  0</td>\n",
        "      <td>  0</td>\n",
        "      <td>  0</td>\n",
        "      <td>  0</td>\n",
        "      <td>             Dina Kadry</td>\n",
        "    </tr>\n",
        "    <tr>\n",
        "      <th>26  </th>\n",
        "      <td>       Dina</td>\n",
        "      <td>  El-dessouky</td>\n",
        "      <td>  7</td>\n",
        "      <td>  18.000000</td>\n",
        "      <td>       Dina_eldessouky@hotmail.com</td>\n",
        "      <td> 1116</td>\n",
        "      <td>  2</td>\n",
        "      <td>  1</td>\n",
        "      <td>  1</td>\n",
        "      <td>  2</td>\n",
        "      <td>...</td>\n",
        "      <td>  0</td>\n",
        "      <td>  0</td>\n",
        "      <td>  0</td>\n",
        "      <td>  2</td>\n",
        "      <td>  1</td>\n",
        "      <td>  1</td>\n",
        "      <td>  0</td>\n",
        "      <td>  1</td>\n",
        "      <td>  0</td>\n",
        "      <td>       Dina El-dessouky</td>\n",
        "    </tr>\n",
        "    <tr>\n",
        "      <th>27  </th>\n",
        "      <td>       dina</td>\n",
        "      <td>       hamada</td>\n",
        "      <td>  1</td>\n",
        "      <td>   0.000000</td>\n",
        "      <td>        Dina_hamada009@hotmail.com</td>\n",
        "      <td>  364</td>\n",
        "      <td>  0</td>\n",
        "      <td>  0</td>\n",
        "      <td>  0</td>\n",
        "      <td>  1</td>\n",
        "      <td>...</td>\n",
        "      <td>  0</td>\n",
        "      <td>  0</td>\n",
        "      <td>  1</td>\n",
        "      <td>  0</td>\n",
        "      <td>  0</td>\n",
        "      <td>  0</td>\n",
        "      <td>  0</td>\n",
        "      <td>  0</td>\n",
        "      <td>  0</td>\n",
        "      <td>            dina hamada</td>\n",
        "    </tr>\n",
        "    <tr>\n",
        "      <th>28  </th>\n",
        "      <td>       Dina</td>\n",
        "      <td>       Hamada</td>\n",
        "      <td>  2</td>\n",
        "      <td>  80.500000</td>\n",
        "      <td>       Dina_hamada2009@hotmail.com</td>\n",
        "      <td>  210</td>\n",
        "      <td>  0</td>\n",
        "      <td>  0</td>\n",
        "      <td>  0</td>\n",
        "      <td>  2</td>\n",
        "      <td>...</td>\n",
        "      <td>  0</td>\n",
        "      <td>  0</td>\n",
        "      <td>  0</td>\n",
        "      <td>  0</td>\n",
        "      <td>  1</td>\n",
        "      <td>  0</td>\n",
        "      <td>  0</td>\n",
        "      <td>  0</td>\n",
        "      <td>  1</td>\n",
        "      <td>            Dina Hamada</td>\n",
        "    </tr>\n",
        "    <tr>\n",
        "      <th>29  </th>\n",
        "      <td>     Dahlia</td>\n",
        "      <td>         Adel</td>\n",
        "      <td>  2</td>\n",
        "      <td>  56.000000</td>\n",
        "      <td>            Doholly_86@hotmail.com</td>\n",
        "      <td>   74</td>\n",
        "      <td>  0</td>\n",
        "      <td>  0</td>\n",
        "      <td>  0</td>\n",
        "      <td>  0</td>\n",
        "      <td>...</td>\n",
        "      <td>  0</td>\n",
        "      <td>  0</td>\n",
        "      <td>  0</td>\n",
        "      <td>  0</td>\n",
        "      <td>  1</td>\n",
        "      <td>  0</td>\n",
        "      <td>  0</td>\n",
        "      <td>  0</td>\n",
        "      <td>  1</td>\n",
        "      <td>            Dahlia Adel</td>\n",
        "    </tr>\n",
        "    <tr>\n",
        "      <th>...</th>\n",
        "      <td>...</td>\n",
        "      <td>...</td>\n",
        "      <td>...</td>\n",
        "      <td>...</td>\n",
        "      <td>...</td>\n",
        "      <td>...</td>\n",
        "      <td>...</td>\n",
        "      <td>...</td>\n",
        "      <td>...</td>\n",
        "      <td>...</td>\n",
        "      <td>...</td>\n",
        "      <td>...</td>\n",
        "      <td>...</td>\n",
        "      <td>...</td>\n",
        "      <td>...</td>\n",
        "      <td>...</td>\n",
        "      <td>...</td>\n",
        "      <td>...</td>\n",
        "      <td>...</td>\n",
        "      <td>...</td>\n",
        "      <td>...</td>\n",
        "    </tr>\n",
        "    <tr>\n",
        "      <th>2298</th>\n",
        "      <td>    Youssra</td>\n",
        "      <td>       Ismail</td>\n",
        "      <td>  1</td>\n",
        "      <td>   0.000000</td>\n",
        "      <td>                 youssra@gmail.com</td>\n",
        "      <td>  281</td>\n",
        "      <td>  0</td>\n",
        "      <td>  0</td>\n",
        "      <td>  1</td>\n",
        "      <td>  0</td>\n",
        "      <td>...</td>\n",
        "      <td>  0</td>\n",
        "      <td>  0</td>\n",
        "      <td>  0</td>\n",
        "      <td>  0</td>\n",
        "      <td>  0</td>\n",
        "      <td>  1</td>\n",
        "      <td>  0</td>\n",
        "      <td>  0</td>\n",
        "      <td>  0</td>\n",
        "      <td>         Youssra Ismail</td>\n",
        "    </tr>\n",
        "    <tr>\n",
        "      <th>2299</th>\n",
        "      <td>    Youssra</td>\n",
        "      <td>        Kamal</td>\n",
        "      <td>  3</td>\n",
        "      <td>  21.333333</td>\n",
        "      <td>           youssra_kamal@yahoo.com</td>\n",
        "      <td>   22</td>\n",
        "      <td>  0</td>\n",
        "      <td>  1</td>\n",
        "      <td>  2</td>\n",
        "      <td>  0</td>\n",
        "      <td>...</td>\n",
        "      <td>  0</td>\n",
        "      <td>  0</td>\n",
        "      <td>  0</td>\n",
        "      <td>  2</td>\n",
        "      <td>  1</td>\n",
        "      <td>  0</td>\n",
        "      <td>  0</td>\n",
        "      <td>  0</td>\n",
        "      <td>  0</td>\n",
        "      <td>          Youssra Kamal</td>\n",
        "    </tr>\n",
        "    <tr>\n",
        "      <th>2300</th>\n",
        "      <td>    Youssra</td>\n",
        "      <td>   Al ashmawi</td>\n",
        "      <td>  1</td>\n",
        "      <td>   0.000000</td>\n",
        "      <td>         youssraaashmawi@gmail.com</td>\n",
        "      <td>   73</td>\n",
        "      <td>  1</td>\n",
        "      <td>  0</td>\n",
        "      <td>  0</td>\n",
        "      <td>  0</td>\n",
        "      <td>...</td>\n",
        "      <td>  0</td>\n",
        "      <td>  0</td>\n",
        "      <td>  0</td>\n",
        "      <td>  0</td>\n",
        "      <td>  0</td>\n",
        "      <td>  1</td>\n",
        "      <td>  0</td>\n",
        "      <td>  0</td>\n",
        "      <td>  0</td>\n",
        "      <td>     Youssra Al ashmawi</td>\n",
        "    </tr>\n",
        "    <tr>\n",
        "      <th>2301</th>\n",
        "      <td>    Youssef</td>\n",
        "      <td>  Abdelmohsen</td>\n",
        "      <td>  2</td>\n",
        "      <td>   5.000000</td>\n",
        "      <td>           yoyothetricky@gmail.com</td>\n",
        "      <td>    8</td>\n",
        "      <td>  0</td>\n",
        "      <td>  0</td>\n",
        "      <td>  1</td>\n",
        "      <td>  0</td>\n",
        "      <td>...</td>\n",
        "      <td>  0</td>\n",
        "      <td>  0</td>\n",
        "      <td>  0</td>\n",
        "      <td>  1</td>\n",
        "      <td>  1</td>\n",
        "      <td>  0</td>\n",
        "      <td>  0</td>\n",
        "      <td>  0</td>\n",
        "      <td>  0</td>\n",
        "      <td>    Youssef Abdelmohsen</td>\n",
        "    </tr>\n",
        "    <tr>\n",
        "      <th>2302</th>\n",
        "      <td>    yasmine</td>\n",
        "      <td>        Raheb</td>\n",
        "      <td>  1</td>\n",
        "      <td>   0.000000</td>\n",
        "      <td>               yrelraheb@gmail.com</td>\n",
        "      <td> 1017</td>\n",
        "      <td>  0</td>\n",
        "      <td>  1</td>\n",
        "      <td>  0</td>\n",
        "      <td>  0</td>\n",
        "      <td>...</td>\n",
        "      <td>  0</td>\n",
        "      <td>  0</td>\n",
        "      <td>  0</td>\n",
        "      <td>  1</td>\n",
        "      <td>  0</td>\n",
        "      <td>  0</td>\n",
        "      <td>  0</td>\n",
        "      <td>  0</td>\n",
        "      <td>  0</td>\n",
        "      <td>          yasmine Raheb</td>\n",
        "    </tr>\n",
        "    <tr>\n",
        "      <th>2303</th>\n",
        "      <td>     Yuliay</td>\n",
        "      <td>      Ivanova</td>\n",
        "      <td>  4</td>\n",
        "      <td>  15.750000</td>\n",
        "      <td>               yulbiba@hotmail.com</td>\n",
        "      <td>    7</td>\n",
        "      <td>  0</td>\n",
        "      <td>  0</td>\n",
        "      <td>  0</td>\n",
        "      <td>  4</td>\n",
        "      <td>...</td>\n",
        "      <td>  0</td>\n",
        "      <td>  0</td>\n",
        "      <td>  1</td>\n",
        "      <td>  0</td>\n",
        "      <td>  0</td>\n",
        "      <td>  0</td>\n",
        "      <td>  1</td>\n",
        "      <td>  1</td>\n",
        "      <td>  1</td>\n",
        "      <td>         Yuliay Ivanova</td>\n",
        "    </tr>\n",
        "    <tr>\n",
        "      <th>2304</th>\n",
        "      <td> Subscriber</td>\n",
        "      <td>   Newsletter</td>\n",
        "      <td>  2</td>\n",
        "      <td> 149.500000</td>\n",
        "      <td>             yumnakassim@gmail.com</td>\n",
        "      <td>  509</td>\n",
        "      <td>  1</td>\n",
        "      <td>  0</td>\n",
        "      <td>  0</td>\n",
        "      <td>  0</td>\n",
        "      <td>...</td>\n",
        "      <td>  0</td>\n",
        "      <td>  0</td>\n",
        "      <td>  0</td>\n",
        "      <td>  0</td>\n",
        "      <td>  1</td>\n",
        "      <td>  0</td>\n",
        "      <td>  0</td>\n",
        "      <td>  0</td>\n",
        "      <td>  1</td>\n",
        "      <td>  Subscriber Newsletter</td>\n",
        "    </tr>\n",
        "    <tr>\n",
        "      <th>2305</th>\n",
        "      <td>      zeina</td>\n",
        "      <td>        addas</td>\n",
        "      <td>  1</td>\n",
        "      <td>   0.000000</td>\n",
        "      <td>              z72addas@hotmail.com</td>\n",
        "      <td>  345</td>\n",
        "      <td>  0</td>\n",
        "      <td>  1</td>\n",
        "      <td>  0</td>\n",
        "      <td>  0</td>\n",
        "      <td>...</td>\n",
        "      <td>  0</td>\n",
        "      <td>  0</td>\n",
        "      <td>  0</td>\n",
        "      <td>  0</td>\n",
        "      <td>  1</td>\n",
        "      <td>  0</td>\n",
        "      <td>  0</td>\n",
        "      <td>  0</td>\n",
        "      <td>  0</td>\n",
        "      <td>            zeina addas</td>\n",
        "    </tr>\n",
        "    <tr>\n",
        "      <th>2306</th>\n",
        "      <td>    Farida </td>\n",
        "      <td>         Zaki</td>\n",
        "      <td>  5</td>\n",
        "      <td>  31.400000</td>\n",
        "      <td>             zaki.farida@gmail.com</td>\n",
        "      <td>   60</td>\n",
        "      <td>  0</td>\n",
        "      <td>  0</td>\n",
        "      <td>  0</td>\n",
        "      <td>  2</td>\n",
        "      <td>...</td>\n",
        "      <td>  0</td>\n",
        "      <td>  0</td>\n",
        "      <td>  0</td>\n",
        "      <td>  0</td>\n",
        "      <td>  1</td>\n",
        "      <td>  2</td>\n",
        "      <td>  2</td>\n",
        "      <td>  0</td>\n",
        "      <td>  0</td>\n",
        "      <td>           Farida  Zaki</td>\n",
        "    </tr>\n",
        "    <tr>\n",
        "      <th>2307</th>\n",
        "      <td>    Zeinab </td>\n",
        "      <td>      Mutawa </td>\n",
        "      <td>  1</td>\n",
        "      <td>   0.000000</td>\n",
        "      <td>               zedesem65@gmail.com</td>\n",
        "      <td>   39</td>\n",
        "      <td>  0</td>\n",
        "      <td>  0</td>\n",
        "      <td>  0</td>\n",
        "      <td>  0</td>\n",
        "      <td>...</td>\n",
        "      <td>  1</td>\n",
        "      <td>  0</td>\n",
        "      <td>  0</td>\n",
        "      <td>  0</td>\n",
        "      <td>  0</td>\n",
        "      <td>  0</td>\n",
        "      <td>  0</td>\n",
        "      <td>  0</td>\n",
        "      <td>  0</td>\n",
        "      <td>        Zeinab  Mutawa </td>\n",
        "    </tr>\n",
        "    <tr>\n",
        "      <th>2308</th>\n",
        "      <td>     Zeinab</td>\n",
        "      <td>     M.Shaker</td>\n",
        "      <td>  1</td>\n",
        "      <td>   0.000000</td>\n",
        "      <td>                 zee.nap@gmail.com</td>\n",
        "      <td>  113</td>\n",
        "      <td>  0</td>\n",
        "      <td>  0</td>\n",
        "      <td>  1</td>\n",
        "      <td>  0</td>\n",
        "      <td>...</td>\n",
        "      <td>  0</td>\n",
        "      <td>  0</td>\n",
        "      <td>  0</td>\n",
        "      <td>  0</td>\n",
        "      <td>  0</td>\n",
        "      <td>  0</td>\n",
        "      <td>  1</td>\n",
        "      <td>  0</td>\n",
        "      <td>  0</td>\n",
        "      <td>        Zeinab M.Shaker</td>\n",
        "    </tr>\n",
        "    <tr>\n",
        "      <th>2309</th>\n",
        "      <td>      zeina</td>\n",
        "      <td>       kassas</td>\n",
        "      <td>  6</td>\n",
        "      <td>  55.166667</td>\n",
        "      <td>            zeina.kassas@gmail.com</td>\n",
        "      <td>  190</td>\n",
        "      <td>  2</td>\n",
        "      <td>  2</td>\n",
        "      <td>  1</td>\n",
        "      <td>  0</td>\n",
        "      <td>...</td>\n",
        "      <td>  0</td>\n",
        "      <td>  1</td>\n",
        "      <td>  0</td>\n",
        "      <td>  3</td>\n",
        "      <td>  1</td>\n",
        "      <td>  0</td>\n",
        "      <td>  0</td>\n",
        "      <td>  1</td>\n",
        "      <td>  0</td>\n",
        "      <td>           zeina kassas</td>\n",
        "    </tr>\n",
        "    <tr>\n",
        "      <th>2310</th>\n",
        "      <td>     Nashwa</td>\n",
        "      <td>        Hafez</td>\n",
        "      <td>  1</td>\n",
        "      <td>   0.000000</td>\n",
        "      <td>         zeina_ahmed95@hotmail.com</td>\n",
        "      <td>  423</td>\n",
        "      <td>  1</td>\n",
        "      <td>  0</td>\n",
        "      <td>  0</td>\n",
        "      <td>  0</td>\n",
        "      <td>...</td>\n",
        "      <td>  0</td>\n",
        "      <td>  0</td>\n",
        "      <td>  0</td>\n",
        "      <td>  0</td>\n",
        "      <td>  0</td>\n",
        "      <td>  0</td>\n",
        "      <td>  0</td>\n",
        "      <td>  1</td>\n",
        "      <td>  0</td>\n",
        "      <td>           Nashwa Hafez</td>\n",
        "    </tr>\n",
        "    <tr>\n",
        "      <th>2311</th>\n",
        "      <td>      Zeina</td>\n",
        "      <td>         Naim</td>\n",
        "      <td>  1</td>\n",
        "      <td>   0.000000</td>\n",
        "      <td>            zeina_naim@hotmail.com</td>\n",
        "      <td>   35</td>\n",
        "      <td>  0</td>\n",
        "      <td>  0</td>\n",
        "      <td>  0</td>\n",
        "      <td>  1</td>\n",
        "      <td>...</td>\n",
        "      <td>  0</td>\n",
        "      <td>  0</td>\n",
        "      <td>  1</td>\n",
        "      <td>  0</td>\n",
        "      <td>  0</td>\n",
        "      <td>  0</td>\n",
        "      <td>  0</td>\n",
        "      <td>  0</td>\n",
        "      <td>  0</td>\n",
        "      <td>             Zeina Naim</td>\n",
        "    </tr>\n",
        "    <tr>\n",
        "      <th>2312</th>\n",
        "      <td>     Zeinab</td>\n",
        "      <td>         Taha</td>\n",
        "      <td>  1</td>\n",
        "      <td>   0.000000</td>\n",
        "      <td>         zeinabahmedtaha@yahoo.com</td>\n",
        "      <td> 1055</td>\n",
        "      <td>  0</td>\n",
        "      <td>  0</td>\n",
        "      <td>  0</td>\n",
        "      <td>  0</td>\n",
        "      <td>...</td>\n",
        "      <td>  0</td>\n",
        "      <td>  0</td>\n",
        "      <td>  0</td>\n",
        "      <td>  0</td>\n",
        "      <td>  0</td>\n",
        "      <td>  1</td>\n",
        "      <td>  0</td>\n",
        "      <td>  0</td>\n",
        "      <td>  0</td>\n",
        "      <td>            Zeinab Taha</td>\n",
        "    </tr>\n",
        "    <tr>\n",
        "      <th>2313</th>\n",
        "      <td> Dr/ Hisham</td>\n",
        "      <td>        fahmi</td>\n",
        "      <td>  3</td>\n",
        "      <td>   8.333333</td>\n",
        "      <td>      zeinabkhalil2010@hotmail.com</td>\n",
        "      <td>  182</td>\n",
        "      <td>  0</td>\n",
        "      <td>  0</td>\n",
        "      <td>  0</td>\n",
        "      <td>  1</td>\n",
        "      <td>...</td>\n",
        "      <td>  0</td>\n",
        "      <td>  0</td>\n",
        "      <td>  0</td>\n",
        "      <td>  0</td>\n",
        "      <td>  1</td>\n",
        "      <td>  2</td>\n",
        "      <td>  0</td>\n",
        "      <td>  0</td>\n",
        "      <td>  0</td>\n",
        "      <td>       Dr/ Hisham fahmi</td>\n",
        "    </tr>\n",
        "    <tr>\n",
        "      <th>2314</th>\n",
        "      <td>     Zeinab</td>\n",
        "      <td>    Noureldin</td>\n",
        "      <td>  2</td>\n",
        "      <td>   0.500000</td>\n",
        "      <td>              zeinabnour@gmail.com</td>\n",
        "      <td>  416</td>\n",
        "      <td>  1</td>\n",
        "      <td>  0</td>\n",
        "      <td>  0</td>\n",
        "      <td>  0</td>\n",
        "      <td>...</td>\n",
        "      <td>  0</td>\n",
        "      <td>  0</td>\n",
        "      <td>  1</td>\n",
        "      <td>  0</td>\n",
        "      <td>  0</td>\n",
        "      <td>  1</td>\n",
        "      <td>  0</td>\n",
        "      <td>  0</td>\n",
        "      <td>  0</td>\n",
        "      <td>       Zeinab Noureldin</td>\n",
        "    </tr>\n",
        "    <tr>\n",
        "      <th>2315</th>\n",
        "      <td>      zeina</td>\n",
        "      <td>       hodroj</td>\n",
        "      <td>  2</td>\n",
        "      <td>   0.000000</td>\n",
        "      <td>              zeinahodroj@live.com</td>\n",
        "      <td>  276</td>\n",
        "      <td>  2</td>\n",
        "      <td>  0</td>\n",
        "      <td>  0</td>\n",
        "      <td>  0</td>\n",
        "      <td>...</td>\n",
        "      <td>  1</td>\n",
        "      <td>  0</td>\n",
        "      <td>  0</td>\n",
        "      <td>  1</td>\n",
        "      <td>  0</td>\n",
        "      <td>  0</td>\n",
        "      <td>  0</td>\n",
        "      <td>  0</td>\n",
        "      <td>  0</td>\n",
        "      <td>           zeina hodroj</td>\n",
        "    </tr>\n",
        "    <tr>\n",
        "      <th>2316</th>\n",
        "      <td>      Zeina</td>\n",
        "      <td>        Tarek</td>\n",
        "      <td>  7</td>\n",
        "      <td>  35.714286</td>\n",
        "      <td>              zeinasabry@gmail.com</td>\n",
        "      <td>  574</td>\n",
        "      <td>  2</td>\n",
        "      <td>  1</td>\n",
        "      <td>  0</td>\n",
        "      <td>  2</td>\n",
        "      <td>...</td>\n",
        "      <td>  0</td>\n",
        "      <td>  0</td>\n",
        "      <td>  2</td>\n",
        "      <td>  2</td>\n",
        "      <td>  0</td>\n",
        "      <td>  0</td>\n",
        "      <td>  2</td>\n",
        "      <td>  0</td>\n",
        "      <td>  0</td>\n",
        "      <td>            Zeina Tarek</td>\n",
        "    </tr>\n",
        "    <tr>\n",
        "      <th>2317</th>\n",
        "      <td>      Reham</td>\n",
        "      <td>     Abdullah</td>\n",
        "      <td>  2</td>\n",
        "      <td>  35.500000</td>\n",
        "      <td>               zeinriham@gmail.com</td>\n",
        "      <td>   29</td>\n",
        "      <td>  0</td>\n",
        "      <td>  1</td>\n",
        "      <td>  1</td>\n",
        "      <td>  0</td>\n",
        "      <td>...</td>\n",
        "      <td>  0</td>\n",
        "      <td>  0</td>\n",
        "      <td>  1</td>\n",
        "      <td>  0</td>\n",
        "      <td>  0</td>\n",
        "      <td>  0</td>\n",
        "      <td>  0</td>\n",
        "      <td>  0</td>\n",
        "      <td>  0</td>\n",
        "      <td>         Reham Abdullah</td>\n",
        "    </tr>\n",
        "    <tr>\n",
        "      <th>2318</th>\n",
        "      <td>       Zena</td>\n",
        "      <td>   Abdelbaky </td>\n",
        "      <td>  2</td>\n",
        "      <td> 219.000000</td>\n",
        "      <td>           zenaabdelbaky@gmail.com</td>\n",
        "      <td>  148</td>\n",
        "      <td>  0</td>\n",
        "      <td>  0</td>\n",
        "      <td>  1</td>\n",
        "      <td>  0</td>\n",
        "      <td>...</td>\n",
        "      <td>  0</td>\n",
        "      <td>  0</td>\n",
        "      <td>  0</td>\n",
        "      <td>  0</td>\n",
        "      <td>  0</td>\n",
        "      <td>  0</td>\n",
        "      <td>  1</td>\n",
        "      <td>  0</td>\n",
        "      <td>  0</td>\n",
        "      <td>        Zena Abdelbaky </td>\n",
        "    </tr>\n",
        "    <tr>\n",
        "      <th>2319</th>\n",
        "      <td>      Zeyad</td>\n",
        "      <td>      Attalla</td>\n",
        "      <td>  1</td>\n",
        "      <td>   0.000000</td>\n",
        "      <td>            zeyadattalla@yahoo.com</td>\n",
        "      <td>  225</td>\n",
        "      <td>  0</td>\n",
        "      <td>  0</td>\n",
        "      <td>  1</td>\n",
        "      <td>  0</td>\n",
        "      <td>...</td>\n",
        "      <td>  0</td>\n",
        "      <td>  0</td>\n",
        "      <td>  0</td>\n",
        "      <td>  0</td>\n",
        "      <td>  0</td>\n",
        "      <td>  0</td>\n",
        "      <td>  0</td>\n",
        "      <td>  0</td>\n",
        "      <td>  0</td>\n",
        "      <td>          Zeyad Attalla</td>\n",
        "    </tr>\n",
        "    <tr>\n",
        "      <th>2320</th>\n",
        "      <td>       Ziad</td>\n",
        "      <td>         Ihab</td>\n",
        "      <td>  1</td>\n",
        "      <td>   0.000000</td>\n",
        "      <td>                ziadihab@gmail.com</td>\n",
        "      <td>  247</td>\n",
        "      <td>  0</td>\n",
        "      <td>  1</td>\n",
        "      <td>  0</td>\n",
        "      <td>  0</td>\n",
        "      <td>...</td>\n",
        "      <td>  0</td>\n",
        "      <td>  0</td>\n",
        "      <td>  0</td>\n",
        "      <td>  0</td>\n",
        "      <td>  0</td>\n",
        "      <td>  0</td>\n",
        "      <td>  0</td>\n",
        "      <td>  0</td>\n",
        "      <td>  0</td>\n",
        "      <td>              Ziad Ihab</td>\n",
        "    </tr>\n",
        "    <tr>\n",
        "      <th>2321</th>\n",
        "      <td>      Usama</td>\n",
        "      <td>        Gamal</td>\n",
        "      <td>  1</td>\n",
        "      <td>   0.000000</td>\n",
        "      <td>               ziadusama@ymail.com</td>\n",
        "      <td>   18</td>\n",
        "      <td>  0</td>\n",
        "      <td>  0</td>\n",
        "      <td>  0</td>\n",
        "      <td>  0</td>\n",
        "      <td>...</td>\n",
        "      <td>  0</td>\n",
        "      <td>  0</td>\n",
        "      <td>  1</td>\n",
        "      <td>  0</td>\n",
        "      <td>  0</td>\n",
        "      <td>  0</td>\n",
        "      <td>  0</td>\n",
        "      <td>  0</td>\n",
        "      <td>  0</td>\n",
        "      <td>            Usama Gamal</td>\n",
        "    </tr>\n",
        "    <tr>\n",
        "      <th>2322</th>\n",
        "      <td>       Zina</td>\n",
        "      <td>      El Hini</td>\n",
        "      <td>  1</td>\n",
        "      <td>   0.000000</td>\n",
        "      <td>               zinelhini@yahoo.com</td>\n",
        "      <td>  807</td>\n",
        "      <td>  0</td>\n",
        "      <td>  1</td>\n",
        "      <td>  0</td>\n",
        "      <td>  0</td>\n",
        "      <td>...</td>\n",
        "      <td>  0</td>\n",
        "      <td>  0</td>\n",
        "      <td>  0</td>\n",
        "      <td>  0</td>\n",
        "      <td>  0</td>\n",
        "      <td>  1</td>\n",
        "      <td>  0</td>\n",
        "      <td>  0</td>\n",
        "      <td>  0</td>\n",
        "      <td>           Zina El Hini</td>\n",
        "    </tr>\n",
        "    <tr>\n",
        "      <th>2323</th>\n",
        "      <td>       Zayd</td>\n",
        "      <td>      Leseman</td>\n",
        "      <td>  2</td>\n",
        "      <td>  35.500000</td>\n",
        "      <td>                zleseman@gmail.com</td>\n",
        "      <td>  976</td>\n",
        "      <td>  1</td>\n",
        "      <td>  0</td>\n",
        "      <td>  0</td>\n",
        "      <td>  0</td>\n",
        "      <td>...</td>\n",
        "      <td>  0</td>\n",
        "      <td>  0</td>\n",
        "      <td>  0</td>\n",
        "      <td>  0</td>\n",
        "      <td>  1</td>\n",
        "      <td>  0</td>\n",
        "      <td>  1</td>\n",
        "      <td>  0</td>\n",
        "      <td>  0</td>\n",
        "      <td>           Zayd Leseman</td>\n",
        "    </tr>\n",
        "    <tr>\n",
        "      <th>2324</th>\n",
        "      <td>       amal</td>\n",
        "      <td> abdelraheem </td>\n",
        "      <td>  1</td>\n",
        "      <td>   0.000000</td>\n",
        "      <td>           zolaykha1st@hotmail.com</td>\n",
        "      <td>  375</td>\n",
        "      <td>  0</td>\n",
        "      <td>  0</td>\n",
        "      <td>  0</td>\n",
        "      <td>  0</td>\n",
        "      <td>...</td>\n",
        "      <td>  0</td>\n",
        "      <td>  1</td>\n",
        "      <td>  0</td>\n",
        "      <td>  0</td>\n",
        "      <td>  0</td>\n",
        "      <td>  0</td>\n",
        "      <td>  0</td>\n",
        "      <td>  0</td>\n",
        "      <td>  0</td>\n",
        "      <td>      amal abdelraheem </td>\n",
        "    </tr>\n",
        "    <tr>\n",
        "      <th>2325</th>\n",
        "      <td>      Amina</td>\n",
        "      <td>       Rashad</td>\n",
        "      <td>  7</td>\n",
        "      <td>  48.571429</td>\n",
        "      <td>               zshafei@outlook.com</td>\n",
        "      <td>   20</td>\n",
        "      <td>  2</td>\n",
        "      <td>  1</td>\n",
        "      <td>  2</td>\n",
        "      <td>  1</td>\n",
        "      <td>...</td>\n",
        "      <td>  0</td>\n",
        "      <td>  0</td>\n",
        "      <td>  2</td>\n",
        "      <td>  1</td>\n",
        "      <td>  3</td>\n",
        "      <td>  0</td>\n",
        "      <td>  0</td>\n",
        "      <td>  0</td>\n",
        "      <td>  1</td>\n",
        "      <td>           Amina Rashad</td>\n",
        "    </tr>\n",
        "    <tr>\n",
        "      <th>2326</th>\n",
        "      <td>      Aliaa</td>\n",
        "      <td>      Badrawy</td>\n",
        "      <td>NaN</td>\n",
        "      <td>        NaN</td>\n",
        "      <td>             Lilybadrawy@yahoo.com</td>\n",
        "      <td>  NaN</td>\n",
        "      <td>NaN</td>\n",
        "      <td>NaN</td>\n",
        "      <td>NaN</td>\n",
        "      <td>NaN</td>\n",
        "      <td>...</td>\n",
        "      <td>NaN</td>\n",
        "      <td>NaN</td>\n",
        "      <td>NaN</td>\n",
        "      <td>NaN</td>\n",
        "      <td>NaN</td>\n",
        "      <td>NaN</td>\n",
        "      <td>NaN</td>\n",
        "      <td>NaN</td>\n",
        "      <td>NaN</td>\n",
        "      <td>          Aliaa Badrawy</td>\n",
        "    </tr>\n",
        "    <tr>\n",
        "      <th>2327</th>\n",
        "      <td> Subscriber</td>\n",
        "      <td>   Newsletter</td>\n",
        "      <td>NaN</td>\n",
        "      <td>        NaN</td>\n",
        "      <td>                  biro5s@yahoo.com</td>\n",
        "      <td>  NaN</td>\n",
        "      <td>NaN</td>\n",
        "      <td>NaN</td>\n",
        "      <td>NaN</td>\n",
        "      <td>NaN</td>\n",
        "      <td>...</td>\n",
        "      <td>NaN</td>\n",
        "      <td>NaN</td>\n",
        "      <td>NaN</td>\n",
        "      <td>NaN</td>\n",
        "      <td>NaN</td>\n",
        "      <td>NaN</td>\n",
        "      <td>NaN</td>\n",
        "      <td>NaN</td>\n",
        "      <td>NaN</td>\n",
        "      <td>  Subscriber Newsletter</td>\n",
        "    </tr>\n",
        "  </tbody>\n",
        "</table>\n",
        "<p>2328 rows \u00d7 26 columns</p>\n",
        "</div>"
       ],
       "metadata": {},
       "output_type": "pyout",
       "prompt_number": 10,
       "text": [
        "      First Name     Last Name  Total orders  Average days between orders  \\\n",
        "0      Magdalena  Kallenberger             1                     0.000000   \n",
        "1         Alain         Phar\u00e8s             2                    47.000000   \n",
        "2          Kelly          Tate             4                     5.500000   \n",
        "3           Lara         Scott             3                   125.000000   \n",
        "4        mohamed         tolba             3                     7.333333   \n",
        "5          Nadia        Teirah             2                     2.500000   \n",
        "6        Aladdin         Nabil             1                     0.000000   \n",
        "7         ASHRAF          ZAKI             1                     0.000000   \n",
        "8          Adham        Hamada             1                     0.000000   \n",
        "9          Ahmed        Habash             1                     0.000000   \n",
        "10         Ahmed          Adel             1                     0.000000   \n",
        "11          Alia     Mossallam            23                    18.304348   \n",
        "12        Andrea       Heilman             4                     2.750000   \n",
        "13         Asmaa         Ahmed             4                     4.000000   \n",
        "14        Sherif         Saleh             3                     0.666667   \n",
        "15          Azza        Sallam             1                     0.000000   \n",
        "16      Brigitte         Kamal             1                     0.000000   \n",
        "17           Nna         Bakry             1                     0.000000   \n",
        "18         Basma       Elgazar             1                     0.000000   \n",
        "19          Heba         Ragab             3                     7.000000   \n",
        "20        Haisam       Soliman             1                     0.000000   \n",
        "21        Yasser         Awadd             3                    88.666667   \n",
        "22         Asmaa        Medaht             1                     0.000000   \n",
        "23     Camillia       Marmoush             5                     2.800000   \n",
        "24        carine       sabbagh            37                    27.567568   \n",
        "25          Dina         Kadry             1                     0.000000   \n",
        "26          Dina   El-dessouky             7                    18.000000   \n",
        "27          dina        hamada             1                     0.000000   \n",
        "28          Dina        Hamada             2                    80.500000   \n",
        "29        Dahlia          Adel             2                    56.000000   \n",
        "...          ...           ...           ...                          ...   \n",
        "2298     Youssra        Ismail             1                     0.000000   \n",
        "2299     Youssra         Kamal             3                    21.333333   \n",
        "2300     Youssra    Al ashmawi             1                     0.000000   \n",
        "2301     Youssef   Abdelmohsen             2                     5.000000   \n",
        "2302     yasmine         Raheb             1                     0.000000   \n",
        "2303      Yuliay       Ivanova             4                    15.750000   \n",
        "2304  Subscriber    Newsletter             2                   149.500000   \n",
        "2305       zeina         addas             1                     0.000000   \n",
        "2306     Farida           Zaki             5                    31.400000   \n",
        "2307     Zeinab        Mutawa              1                     0.000000   \n",
        "2308      Zeinab      M.Shaker             1                     0.000000   \n",
        "2309       zeina        kassas             6                    55.166667   \n",
        "2310      Nashwa         Hafez             1                     0.000000   \n",
        "2311       Zeina          Naim             1                     0.000000   \n",
        "2312      Zeinab          Taha             1                     0.000000   \n",
        "2313  Dr/ Hisham         fahmi             3                     8.333333   \n",
        "2314      Zeinab     Noureldin             2                     0.500000   \n",
        "2315       zeina        hodroj             2                     0.000000   \n",
        "2316       Zeina         Tarek             7                    35.714286   \n",
        "2317       Reham      Abdullah             2                    35.500000   \n",
        "2318        Zena    Abdelbaky              2                   219.000000   \n",
        "2319       Zeyad       Attalla             1                     0.000000   \n",
        "2320        Ziad          Ihab             1                     0.000000   \n",
        "2321       Usama         Gamal             1                     0.000000   \n",
        "2322        Zina       El Hini             1                     0.000000   \n",
        "2323        Zayd       Leseman             2                    35.500000   \n",
        "2324        amal  abdelraheem              1                     0.000000   \n",
        "2325       Amina        Rashad             7                    48.571429   \n",
        "2326       Aliaa       Badrawy           NaN                          NaN   \n",
        "2327  Subscriber    Newsletter           NaN                          NaN   \n",
        "\n",
        "                                  Email  Days from Last order  Sunday  Monday  \\\n",
        "0            11435mail@mkallenberger.de                   941       1       0   \n",
        "1                         1@gargour.com                   260       0       0   \n",
        "2                     1kttate@gmail.com                   114       1       2   \n",
        "3             1youniqueflower@gmail.com                    23       0       1   \n",
        "4                    3aliaa.h@gmail.com                   263       1       0   \n",
        "5              777nadiateirah@gmail.com                    32       0       1   \n",
        "6                             A2@ed.com                   102       0       0   \n",
        "7               ASHRAF.M.ZAKI@GMAIL.COM                  1174       0       0   \n",
        "8                  Adhamada@hotmail.com                  1262       0       1   \n",
        "9           Ahmed.Habash@moevenpick.com                   263       0       0   \n",
        "10    Ahmed.adel.abdelmonam@hotmail.com                   121       0       1   \n",
        "11              Aliamossallam@gmail.com                     9       5       7   \n",
        "12          Andrea.Heilman@aucegypt.edu                   291       0       0   \n",
        "13              Asmaa.ahmed@hotmail.com                    37       0       1   \n",
        "14               Attia.nevien@gmail.com                   331       0       2   \n",
        "15                Azzassallam@gmail.com                   307       0       0   \n",
        "16                    BAGBOUG@yahoo.com                   285       0       0   \n",
        "17                    Bakryna@gmail.com                  1204       0       0   \n",
        "18              Basmaha2010@hotmail.com                   249       0       0   \n",
        "19                     Bebi84@gmail.com                   976       2       0   \n",
        "20          Bouchra_erraiss@hotmail.com                   588       0       0   \n",
        "21                    Bunny_Chan@web.de                   227       2       0   \n",
        "22               Buty_Heart@hotmail.com                   209       0       0   \n",
        "23          Camillia.Marmoush@gmail.com                    25       1       0   \n",
        "24              Carinesabbagh@gmail.com                   240       7       6   \n",
        "25                 DINA_KADRY@YAHOO.COM                    52       1       0   \n",
        "26          Dina_eldessouky@hotmail.com                  1116       2       1   \n",
        "27           Dina_hamada009@hotmail.com                   364       0       0   \n",
        "28          Dina_hamada2009@hotmail.com                   210       0       0   \n",
        "29               Doholly_86@hotmail.com                    74       0       0   \n",
        "...                                 ...                   ...     ...     ...   \n",
        "2298                  youssra@gmail.com                   281       0       0   \n",
        "2299            youssra_kamal@yahoo.com                    22       0       1   \n",
        "2300          youssraaashmawi@gmail.com                    73       1       0   \n",
        "2301            yoyothetricky@gmail.com                     8       0       0   \n",
        "2302                yrelraheb@gmail.com                  1017       0       1   \n",
        "2303                yulbiba@hotmail.com                     7       0       0   \n",
        "2304              yumnakassim@gmail.com                   509       1       0   \n",
        "2305               z72addas@hotmail.com                   345       0       1   \n",
        "2306              zaki.farida@gmail.com                    60       0       0   \n",
        "2307                zedesem65@gmail.com                    39       0       0   \n",
        "2308                  zee.nap@gmail.com                   113       0       0   \n",
        "2309             zeina.kassas@gmail.com                   190       2       2   \n",
        "2310          zeina_ahmed95@hotmail.com                   423       1       0   \n",
        "2311             zeina_naim@hotmail.com                    35       0       0   \n",
        "2312          zeinabahmedtaha@yahoo.com                  1055       0       0   \n",
        "2313       zeinabkhalil2010@hotmail.com                   182       0       0   \n",
        "2314               zeinabnour@gmail.com                   416       1       0   \n",
        "2315               zeinahodroj@live.com                   276       2       0   \n",
        "2316               zeinasabry@gmail.com                   574       2       1   \n",
        "2317                zeinriham@gmail.com                    29       0       1   \n",
        "2318            zenaabdelbaky@gmail.com                   148       0       0   \n",
        "2319             zeyadattalla@yahoo.com                   225       0       0   \n",
        "2320                 ziadihab@gmail.com                   247       0       1   \n",
        "2321                ziadusama@ymail.com                    18       0       0   \n",
        "2322                zinelhini@yahoo.com                   807       0       1   \n",
        "2323                 zleseman@gmail.com                   976       1       0   \n",
        "2324            zolaykha1st@hotmail.com                   375       0       0   \n",
        "2325                zshafei@outlook.com                    20       2       1   \n",
        "2326              Lilybadrawy@yahoo.com                   NaN     NaN     NaN   \n",
        "2327                   biro5s@yahoo.com                   NaN     NaN     NaN   \n",
        "\n",
        "      Tuesday  Wednesday           ...            6:00 - 8:00  8:00 - 10:00  \\\n",
        "0           0          0           ...                      0             0   \n",
        "1           1          0           ...                      0             0   \n",
        "2           0          0           ...                      0             2   \n",
        "3           1          0           ...                      0             0   \n",
        "4           0          0           ...                      0             0   \n",
        "5           0          0           ...                      0             0   \n",
        "6           0          0           ...                      0             0   \n",
        "7           0          0           ...                      0             1   \n",
        "8           0          0           ...                      0             0   \n",
        "9           0          0           ...                      0             0   \n",
        "10          0          0           ...                      0             0   \n",
        "11          3          1           ...                      0             0   \n",
        "12          2          0           ...                      0             0   \n",
        "13          0          1           ...                      0             0   \n",
        "14          0          0           ...                      0             0   \n",
        "15          0          0           ...                      0             0   \n",
        "16          0          0           ...                      0             0   \n",
        "17          0          1           ...                      0             0   \n",
        "18          0          0           ...                      0             0   \n",
        "19          0          1           ...                      0             0   \n",
        "20          0          1           ...                      0             0   \n",
        "21          0          0           ...                      0             0   \n",
        "22          0          0           ...                      0             0   \n",
        "23          0          0           ...                      0             0   \n",
        "24          8          5           ...                      0             3   \n",
        "25          0          0           ...                      0             0   \n",
        "26          1          2           ...                      0             0   \n",
        "27          0          1           ...                      0             0   \n",
        "28          0          2           ...                      0             0   \n",
        "29          0          0           ...                      0             0   \n",
        "...       ...        ...           ...                    ...           ...   \n",
        "2298        1          0           ...                      0             0   \n",
        "2299        2          0           ...                      0             0   \n",
        "2300        0          0           ...                      0             0   \n",
        "2301        1          0           ...                      0             0   \n",
        "2302        0          0           ...                      0             0   \n",
        "2303        0          4           ...                      0             0   \n",
        "2304        0          0           ...                      0             0   \n",
        "2305        0          0           ...                      0             0   \n",
        "2306        0          2           ...                      0             0   \n",
        "2307        0          0           ...                      1             0   \n",
        "2308        1          0           ...                      0             0   \n",
        "2309        1          0           ...                      0             1   \n",
        "2310        0          0           ...                      0             0   \n",
        "2311        0          1           ...                      0             0   \n",
        "2312        0          0           ...                      0             0   \n",
        "2313        0          1           ...                      0             0   \n",
        "2314        0          0           ...                      0             0   \n",
        "2315        0          0           ...                      1             0   \n",
        "2316        0          2           ...                      0             0   \n",
        "2317        1          0           ...                      0             0   \n",
        "2318        1          0           ...                      0             0   \n",
        "2319        1          0           ...                      0             0   \n",
        "2320        0          0           ...                      0             0   \n",
        "2321        0          0           ...                      0             0   \n",
        "2322        0          0           ...                      0             0   \n",
        "2323        0          0           ...                      0             0   \n",
        "2324        0          0           ...                      0             1   \n",
        "2325        2          1           ...                      0             0   \n",
        "2326      NaN        NaN           ...                    NaN           NaN   \n",
        "2327      NaN        NaN           ...                    NaN           NaN   \n",
        "\n",
        "      10:00 - 12:00  12:00 - 14:00  14:00 - 16:00  16:00 - 18:00  \\\n",
        "0                 0              0              1              0   \n",
        "1                 0              0              1              1   \n",
        "2                 1              1              0              0   \n",
        "3                 0              1              0              1   \n",
        "4                 0              0              0              1   \n",
        "5                 1              1              0              0   \n",
        "6                 0              1              0              0   \n",
        "7                 0              0              0              0   \n",
        "8                 0              0              0              0   \n",
        "9                 0              0              1              0   \n",
        "10                0              0              0              0   \n",
        "11                5              5              5              2   \n",
        "12                2              2              0              0   \n",
        "13                0              0              1              2   \n",
        "14                0              0              2              1   \n",
        "15                1              0              0              0   \n",
        "16                0              0              0              0   \n",
        "17                0              0              0              0   \n",
        "18                0              0              0              0   \n",
        "19                0              1              0              1   \n",
        "20                0              1              0              0   \n",
        "21                0              1              0              1   \n",
        "22                0              0              0              1   \n",
        "23                3              2              0              0   \n",
        "24                2              3              2              5   \n",
        "25                1              0              0              0   \n",
        "26                0              2              1              1   \n",
        "27                1              0              0              0   \n",
        "28                0              0              1              0   \n",
        "29                0              0              1              0   \n",
        "...             ...            ...            ...            ...   \n",
        "2298              0              0              0              1   \n",
        "2299              0              2              1              0   \n",
        "2300              0              0              0              1   \n",
        "2301              0              1              1              0   \n",
        "2302              0              1              0              0   \n",
        "2303              1              0              0              0   \n",
        "2304              0              0              1              0   \n",
        "2305              0              0              1              0   \n",
        "2306              0              0              1              2   \n",
        "2307              0              0              0              0   \n",
        "2308              0              0              0              0   \n",
        "2309              0              3              1              0   \n",
        "2310              0              0              0              0   \n",
        "2311              1              0              0              0   \n",
        "2312              0              0              0              1   \n",
        "2313              0              0              1              2   \n",
        "2314              1              0              0              1   \n",
        "2315              0              1              0              0   \n",
        "2316              2              2              0              0   \n",
        "2317              1              0              0              0   \n",
        "2318              0              0              0              0   \n",
        "2319              0              0              0              0   \n",
        "2320              0              0              0              0   \n",
        "2321              1              0              0              0   \n",
        "2322              0              0              0              1   \n",
        "2323              0              0              1              0   \n",
        "2324              0              0              0              0   \n",
        "2325              2              1              3              0   \n",
        "2326            NaN            NaN            NaN            NaN   \n",
        "2327            NaN            NaN            NaN            NaN   \n",
        "\n",
        "      18:00 - 20:00  20:00 - 22:00  22:00 - 0:00                    Name  \n",
        "0                 0              0             0  Magdalena Kallenberger  \n",
        "1                 0              0             0           Alain  Phar\u00e8s  \n",
        "2                 0              0             0              Kelly Tate  \n",
        "3                 0              0             1              Lara Scott  \n",
        "4                 0              0             0           mohamed tolba  \n",
        "5                 0              0             0            Nadia Teirah  \n",
        "6                 0              0             0           Aladdin Nabil  \n",
        "7                 0              0             0             ASHRAF ZAKI  \n",
        "8                 1              0             0            Adham Hamada  \n",
        "9                 0              0             0            Ahmed Habash  \n",
        "10                0              0             0              Ahmed Adel  \n",
        "11                2              2             0          Alia Mossallam  \n",
        "12                0              0             0          Andrea Heilman  \n",
        "13                1              0             0             Asmaa Ahmed  \n",
        "14                0              0             0            Sherif Saleh  \n",
        "15                0              0             0             Azza Sallam  \n",
        "16                0              0             0          Brigitte Kamal  \n",
        "17                0              0             0               Nna Bakry  \n",
        "18                0              0             1           Basma Elgazar  \n",
        "19                0              0             1              Heba Ragab  \n",
        "20                0              0             0          Haisam Soliman  \n",
        "21                0              1             0            Yasser Awadd  \n",
        "22                0              0             0            Asmaa Medaht  \n",
        "23                0              0             0      Camillia  Marmoush  \n",
        "24                2              2             5          carine sabbagh  \n",
        "25                0              0             0              Dina Kadry  \n",
        "26                0              1             0        Dina El-dessouky  \n",
        "27                0              0             0             dina hamada  \n",
        "28                0              0             1             Dina Hamada  \n",
        "29                0              0             1             Dahlia Adel  \n",
        "...             ...            ...           ...                     ...  \n",
        "2298              0              0             0          Youssra Ismail  \n",
        "2299              0              0             0           Youssra Kamal  \n",
        "2300              0              0             0      Youssra Al ashmawi  \n",
        "2301              0              0             0     Youssef Abdelmohsen  \n",
        "2302              0              0             0           yasmine Raheb  \n",
        "2303              1              1             1          Yuliay Ivanova  \n",
        "2304              0              0             1   Subscriber Newsletter  \n",
        "2305              0              0             0             zeina addas  \n",
        "2306              2              0             0            Farida  Zaki  \n",
        "2307              0              0             0         Zeinab  Mutawa   \n",
        "2308              1              0             0         Zeinab M.Shaker  \n",
        "2309              0              1             0            zeina kassas  \n",
        "2310              0              1             0            Nashwa Hafez  \n",
        "2311              0              0             0              Zeina Naim  \n",
        "2312              0              0             0             Zeinab Taha  \n",
        "2313              0              0             0        Dr/ Hisham fahmi  \n",
        "2314              0              0             0        Zeinab Noureldin  \n",
        "2315              0              0             0            zeina hodroj  \n",
        "2316              2              0             0             Zeina Tarek  \n",
        "2317              0              0             0          Reham Abdullah  \n",
        "2318              1              0             0         Zena Abdelbaky   \n",
        "2319              0              0             0           Zeyad Attalla  \n",
        "2320              0              0             0               Ziad Ihab  \n",
        "2321              0              0             0             Usama Gamal  \n",
        "2322              0              0             0            Zina El Hini  \n",
        "2323              1              0             0            Zayd Leseman  \n",
        "2324              0              0             0       amal abdelraheem   \n",
        "2325              0              0             1            Amina Rashad  \n",
        "2326            NaN            NaN           NaN           Aliaa Badrawy  \n",
        "2327            NaN            NaN           NaN   Subscriber Newsletter  \n",
        "\n",
        "[2328 rows x 26 columns]"
       ]
      }
     ],
     "prompt_number": 10
    },
    {
     "cell_type": "code",
     "collapsed": false,
     "input": [
      "df4 = df2.merge(df, on = ['Name', 'Email'], how = 'inner')\n",
      "\n",
      "df4 = df4[['Name', 'Revenue', 'Basket Value', 'Segment', 'Address','Phone', 'Total orders', 'Average days between orders', 'Email', 'Days from Last order', 'Sunday', 'Monday', 'Tuesday', 'Wednesday', 'Thursday', 'Friday', 'Saturday', '0:00 - 2:00', '2:00 - 4:00', '4:00 - 6:00', '6:00 - 8:00', '8:00 - 10:00', '10:00 - 12:00', '12:00 - 14:00', '14:00 - 16:00', '16:00 - 18:00', '18:00 - 20:00', '20:00 - 22:00', '22:00 - 0:00']]\n",
      "df4"
     ],
     "language": "python",
     "metadata": {},
     "outputs": [
      {
       "html": [
        "<div style=\"max-height:1000px;max-width:1500px;overflow:auto;\">\n",
        "<table border=\"1\" class=\"dataframe\">\n",
        "  <thead>\n",
        "    <tr style=\"text-align: right;\">\n",
        "      <th></th>\n",
        "      <th>Name</th>\n",
        "      <th>Revenue</th>\n",
        "      <th>Basket Value</th>\n",
        "      <th>Segment</th>\n",
        "      <th>Address</th>\n",
        "      <th>Phone</th>\n",
        "      <th>Total orders</th>\n",
        "      <th>Average days between orders</th>\n",
        "      <th>Email</th>\n",
        "      <th>Days from Last order</th>\n",
        "      <th>...</th>\n",
        "      <th>4:00 - 6:00</th>\n",
        "      <th>6:00 - 8:00</th>\n",
        "      <th>8:00 - 10:00</th>\n",
        "      <th>10:00 - 12:00</th>\n",
        "      <th>12:00 - 14:00</th>\n",
        "      <th>14:00 - 16:00</th>\n",
        "      <th>16:00 - 18:00</th>\n",
        "      <th>18:00 - 20:00</th>\n",
        "      <th>20:00 - 22:00</th>\n",
        "      <th>22:00 - 0:00</th>\n",
        "    </tr>\n",
        "  </thead>\n",
        "  <tbody>\n",
        "    <tr>\n",
        "      <th>0   </th>\n",
        "      <td> Magdalena Kallenberger</td>\n",
        "      <td>   267.17</td>\n",
        "      <td> 267.170000</td>\n",
        "      <td>          Fresh Beef &amp; Poultry</td>\n",
        "      <td>                                               NaN</td>\n",
        "      <td>                 01090904137</td>\n",
        "      <td>  1</td>\n",
        "      <td>   0.000000</td>\n",
        "      <td>        11435mail@mkallenberger.de</td>\n",
        "      <td>  941</td>\n",
        "      <td>...</td>\n",
        "      <td> 0</td>\n",
        "      <td> 0</td>\n",
        "      <td> 0</td>\n",
        "      <td> 0</td>\n",
        "      <td> 0</td>\n",
        "      <td> 1</td>\n",
        "      <td> 0</td>\n",
        "      <td> 0</td>\n",
        "      <td> 0</td>\n",
        "      <td> 0</td>\n",
        "    </tr>\n",
        "    <tr>\n",
        "      <th>1   </th>\n",
        "      <td>          Alain  Phar\u00e8s</td>\n",
        "      <td>  1001.10</td>\n",
        "      <td> 500.550000</td>\n",
        "      <td>                       Variety</td>\n",
        "      <td>                  31 golf street  app 69/6th maadi</td>\n",
        "      <td>                 01222160835</td>\n",
        "      <td>  2</td>\n",
        "      <td>  47.000000</td>\n",
        "      <td>                     1@gargour.com</td>\n",
        "      <td>  260</td>\n",
        "      <td>...</td>\n",
        "      <td> 0</td>\n",
        "      <td> 0</td>\n",
        "      <td> 0</td>\n",
        "      <td> 0</td>\n",
        "      <td> 0</td>\n",
        "      <td> 1</td>\n",
        "      <td> 1</td>\n",
        "      <td> 0</td>\n",
        "      <td> 0</td>\n",
        "      <td> 0</td>\n",
        "    </tr>\n",
        "    <tr>\n",
        "      <th>2   </th>\n",
        "      <td>             Kelly Tate</td>\n",
        "      <td>   648.00</td>\n",
        "      <td> 162.000000</td>\n",
        "      <td>                    Vegetables</td>\n",
        "      <td> Street 33, Building 154, Area 1, Group 2, Taga...</td>\n",
        "      <td>                 01023063292</td>\n",
        "      <td>  4</td>\n",
        "      <td>   5.500000</td>\n",
        "      <td>                 1kttate@gmail.com</td>\n",
        "      <td>  114</td>\n",
        "      <td>...</td>\n",
        "      <td> 0</td>\n",
        "      <td> 0</td>\n",
        "      <td> 2</td>\n",
        "      <td> 1</td>\n",
        "      <td> 1</td>\n",
        "      <td> 0</td>\n",
        "      <td> 0</td>\n",
        "      <td> 0</td>\n",
        "      <td> 0</td>\n",
        "      <td> 0</td>\n",
        "    </tr>\n",
        "    <tr>\n",
        "      <th>3   </th>\n",
        "      <td>             Lara Scott</td>\n",
        "      <td>   909.00</td>\n",
        "      <td> 303.000000</td>\n",
        "      <td>                       Variety</td>\n",
        "      <td> 23 Abdalla Deraz St.  #203 - 2nd Floor, left s...</td>\n",
        "      <td>                 01221124426</td>\n",
        "      <td>  3</td>\n",
        "      <td> 125.000000</td>\n",
        "      <td>         1youniqueflower@gmail.com</td>\n",
        "      <td>   23</td>\n",
        "      <td>...</td>\n",
        "      <td> 0</td>\n",
        "      <td> 0</td>\n",
        "      <td> 0</td>\n",
        "      <td> 0</td>\n",
        "      <td> 1</td>\n",
        "      <td> 0</td>\n",
        "      <td> 1</td>\n",
        "      <td> 0</td>\n",
        "      <td> 0</td>\n",
        "      <td> 1</td>\n",
        "    </tr>\n",
        "    <tr>\n",
        "      <th>4   </th>\n",
        "      <td>          mohamed tolba</td>\n",
        "      <td>   160.00</td>\n",
        "      <td>  53.333333</td>\n",
        "      <td>                       Variety</td>\n",
        "      <td>        11 shams el din el koufy st  17 heliopolis</td>\n",
        "      <td>                 01001436666</td>\n",
        "      <td>  3</td>\n",
        "      <td>   7.333333</td>\n",
        "      <td>                3aliaa.h@gmail.com</td>\n",
        "      <td>  263</td>\n",
        "      <td>...</td>\n",
        "      <td> 0</td>\n",
        "      <td> 0</td>\n",
        "      <td> 0</td>\n",
        "      <td> 0</td>\n",
        "      <td> 0</td>\n",
        "      <td> 0</td>\n",
        "      <td> 1</td>\n",
        "      <td> 0</td>\n",
        "      <td> 0</td>\n",
        "      <td> 0</td>\n",
        "    </tr>\n",
        "    <tr>\n",
        "      <th>5   </th>\n",
        "      <td>           Nadia Teirah</td>\n",
        "      <td>   290.00</td>\n",
        "      <td> 145.000000</td>\n",
        "      <td>                           NaN</td>\n",
        "      <td>                                               NaN</td>\n",
        "      <td>                 01005510543</td>\n",
        "      <td>  2</td>\n",
        "      <td>   2.500000</td>\n",
        "      <td>          777nadiateirah@gmail.com</td>\n",
        "      <td>   32</td>\n",
        "      <td>...</td>\n",
        "      <td> 0</td>\n",
        "      <td> 0</td>\n",
        "      <td> 0</td>\n",
        "      <td> 1</td>\n",
        "      <td> 1</td>\n",
        "      <td> 0</td>\n",
        "      <td> 0</td>\n",
        "      <td> 0</td>\n",
        "      <td> 0</td>\n",
        "      <td> 0</td>\n",
        "    </tr>\n",
        "    <tr>\n",
        "      <th>6   </th>\n",
        "      <td>          Aladdin Nabil</td>\n",
        "      <td>    30.00</td>\n",
        "      <td>  30.000000</td>\n",
        "      <td>                       Poultry</td>\n",
        "      <td>                         Hadayek al ahram 20 Ahram</td>\n",
        "      <td>               0100001224555</td>\n",
        "      <td>  1</td>\n",
        "      <td>   0.000000</td>\n",
        "      <td>                         A2@ed.com</td>\n",
        "      <td>  102</td>\n",
        "      <td>...</td>\n",
        "      <td> 0</td>\n",
        "      <td> 0</td>\n",
        "      <td> 0</td>\n",
        "      <td> 0</td>\n",
        "      <td> 1</td>\n",
        "      <td> 0</td>\n",
        "      <td> 0</td>\n",
        "      <td> 0</td>\n",
        "      <td> 0</td>\n",
        "      <td> 0</td>\n",
        "    </tr>\n",
        "    <tr>\n",
        "      <th>7   </th>\n",
        "      <td>            ASHRAF ZAKI</td>\n",
        "      <td>   300.18</td>\n",
        "      <td> 300.180000</td>\n",
        "      <td>      Grains, seeds and cereal</td>\n",
        "      <td> 19 Gabalayah Street, 9th Floor, Apt 92 Zamalek...</td>\n",
        "      <td>                 01222174854</td>\n",
        "      <td>  1</td>\n",
        "      <td>   0.000000</td>\n",
        "      <td>           ASHRAF.M.ZAKI@GMAIL.COM</td>\n",
        "      <td> 1174</td>\n",
        "      <td>...</td>\n",
        "      <td> 0</td>\n",
        "      <td> 0</td>\n",
        "      <td> 1</td>\n",
        "      <td> 0</td>\n",
        "      <td> 0</td>\n",
        "      <td> 0</td>\n",
        "      <td> 0</td>\n",
        "      <td> 0</td>\n",
        "      <td> 0</td>\n",
        "      <td> 0</td>\n",
        "    </tr>\n",
        "    <tr>\n",
        "      <th>8   </th>\n",
        "      <td>           Adham Hamada</td>\n",
        "      <td>    61.20</td>\n",
        "      <td>  61.200000</td>\n",
        "      <td>          Fresh Beef &amp; Poultry</td>\n",
        "      <td> 5 eskandar el Akbar st. Heliopolis First floor...</td>\n",
        "      <td>                 01223221581</td>\n",
        "      <td>  1</td>\n",
        "      <td>   0.000000</td>\n",
        "      <td>              Adhamada@hotmail.com</td>\n",
        "      <td> 1262</td>\n",
        "      <td>...</td>\n",
        "      <td> 0</td>\n",
        "      <td> 0</td>\n",
        "      <td> 0</td>\n",
        "      <td> 0</td>\n",
        "      <td> 0</td>\n",
        "      <td> 0</td>\n",
        "      <td> 0</td>\n",
        "      <td> 1</td>\n",
        "      <td> 0</td>\n",
        "      <td> 0</td>\n",
        "    </tr>\n",
        "    <tr>\n",
        "      <th>9   </th>\n",
        "      <td>           Ahmed Habash</td>\n",
        "      <td>   360.00</td>\n",
        "      <td> 360.000000</td>\n",
        "      <td>                        Bakery</td>\n",
        "      <td>                                               NaN</td>\n",
        "      <td>                 01066656222</td>\n",
        "      <td>  1</td>\n",
        "      <td>   0.000000</td>\n",
        "      <td>       Ahmed.Habash@moevenpick.com</td>\n",
        "      <td>  263</td>\n",
        "      <td>...</td>\n",
        "      <td> 0</td>\n",
        "      <td> 0</td>\n",
        "      <td> 0</td>\n",
        "      <td> 0</td>\n",
        "      <td> 0</td>\n",
        "      <td> 1</td>\n",
        "      <td> 0</td>\n",
        "      <td> 0</td>\n",
        "      <td> 0</td>\n",
        "      <td> 0</td>\n",
        "    </tr>\n",
        "    <tr>\n",
        "      <th>10  </th>\n",
        "      <td>             Ahmed Adel</td>\n",
        "      <td>   424.00</td>\n",
        "      <td> 424.000000</td>\n",
        "      <td>      Grains, seeds and cereal</td>\n",
        "      <td> 24 Extension Abo Dawood El Zahery  3rd Floor. ...</td>\n",
        "      <td>                 01060002000</td>\n",
        "      <td>  1</td>\n",
        "      <td>   0.000000</td>\n",
        "      <td> Ahmed.adel.abdelmonam@hotmail.com</td>\n",
        "      <td>  121</td>\n",
        "      <td>...</td>\n",
        "      <td> 0</td>\n",
        "      <td> 0</td>\n",
        "      <td> 0</td>\n",
        "      <td> 0</td>\n",
        "      <td> 0</td>\n",
        "      <td> 0</td>\n",
        "      <td> 0</td>\n",
        "      <td> 0</td>\n",
        "      <td> 0</td>\n",
        "      <td> 0</td>\n",
        "    </tr>\n",
        "    <tr>\n",
        "      <th>11  </th>\n",
        "      <td>         Alia Mossallam</td>\n",
        "      <td>  7096.62</td>\n",
        "      <td> 308.548696</td>\n",
        "      <td>                       Variety</td>\n",
        "      <td>              59 Road 14, Moqattam 4th floor Cairo</td>\n",
        "      <td>                 01222344036</td>\n",
        "      <td> 23</td>\n",
        "      <td>  18.304348</td>\n",
        "      <td>           Aliamossallam@gmail.com</td>\n",
        "      <td>    9</td>\n",
        "      <td>...</td>\n",
        "      <td> 0</td>\n",
        "      <td> 0</td>\n",
        "      <td> 0</td>\n",
        "      <td> 5</td>\n",
        "      <td> 5</td>\n",
        "      <td> 5</td>\n",
        "      <td> 2</td>\n",
        "      <td> 2</td>\n",
        "      <td> 2</td>\n",
        "      <td> 0</td>\n",
        "    </tr>\n",
        "    <tr>\n",
        "      <th>12  </th>\n",
        "      <td>         Andrea Heilman</td>\n",
        "      <td>   819.10</td>\n",
        "      <td> 204.775000</td>\n",
        "      <td>                       Variety</td>\n",
        "      <td>             16 Mohammed Thakeb, Zamalek 805 Cairo</td>\n",
        "      <td>                 01202070773</td>\n",
        "      <td>  4</td>\n",
        "      <td>   2.750000</td>\n",
        "      <td>       Andrea.Heilman@aucegypt.edu</td>\n",
        "      <td>  291</td>\n",
        "      <td>...</td>\n",
        "      <td> 0</td>\n",
        "      <td> 0</td>\n",
        "      <td> 0</td>\n",
        "      <td> 2</td>\n",
        "      <td> 2</td>\n",
        "      <td> 0</td>\n",
        "      <td> 0</td>\n",
        "      <td> 0</td>\n",
        "      <td> 0</td>\n",
        "      <td> 0</td>\n",
        "    </tr>\n",
        "    <tr>\n",
        "      <th>13  </th>\n",
        "      <td>            Asmaa Ahmed</td>\n",
        "      <td>  3404.00</td>\n",
        "      <td> 851.000000</td>\n",
        "      <td>                        Bakery</td>\n",
        "      <td> Nasr city*Car Market*Shaban Company 10th distr...</td>\n",
        "      <td> 01026442230     01093551807</td>\n",
        "      <td>  4</td>\n",
        "      <td>   4.000000</td>\n",
        "      <td>           Asmaa.ahmed@hotmail.com</td>\n",
        "      <td>   37</td>\n",
        "      <td>...</td>\n",
        "      <td> 0</td>\n",
        "      <td> 0</td>\n",
        "      <td> 0</td>\n",
        "      <td> 0</td>\n",
        "      <td> 0</td>\n",
        "      <td> 1</td>\n",
        "      <td> 2</td>\n",
        "      <td> 1</td>\n",
        "      <td> 0</td>\n",
        "      <td> 0</td>\n",
        "    </tr>\n",
        "    <tr>\n",
        "      <th>14  </th>\n",
        "      <td>           Sherif Saleh</td>\n",
        "      <td>   475.00</td>\n",
        "      <td> 158.333333</td>\n",
        "      <td>                    Vegetables</td>\n",
        "      <td>                                               NaN</td>\n",
        "      <td>                 01222103099</td>\n",
        "      <td>  3</td>\n",
        "      <td>   0.666667</td>\n",
        "      <td>            Attia.nevien@gmail.com</td>\n",
        "      <td>  331</td>\n",
        "      <td>...</td>\n",
        "      <td> 0</td>\n",
        "      <td> 0</td>\n",
        "      <td> 0</td>\n",
        "      <td> 0</td>\n",
        "      <td> 0</td>\n",
        "      <td> 2</td>\n",
        "      <td> 1</td>\n",
        "      <td> 0</td>\n",
        "      <td> 0</td>\n",
        "      <td> 0</td>\n",
        "    </tr>\n",
        "    <tr>\n",
        "      <th>15  </th>\n",
        "      <td>            Azza Sallam</td>\n",
        "      <td>    45.00</td>\n",
        "      <td>  45.000000</td>\n",
        "      <td>                     Cosmetics</td>\n",
        "      <td>                                               NaN</td>\n",
        "      <td>                 01019078478</td>\n",
        "      <td>  1</td>\n",
        "      <td>   0.000000</td>\n",
        "      <td>             Azzassallam@gmail.com</td>\n",
        "      <td>  307</td>\n",
        "      <td>...</td>\n",
        "      <td> 0</td>\n",
        "      <td> 0</td>\n",
        "      <td> 0</td>\n",
        "      <td> 1</td>\n",
        "      <td> 0</td>\n",
        "      <td> 0</td>\n",
        "      <td> 0</td>\n",
        "      <td> 0</td>\n",
        "      <td> 0</td>\n",
        "      <td> 0</td>\n",
        "    </tr>\n",
        "    <tr>\n",
        "      <th>16  </th>\n",
        "      <td>         Brigitte Kamal</td>\n",
        "      <td>   113.50</td>\n",
        "      <td> 113.500000</td>\n",
        "      <td>                          Beef</td>\n",
        "      <td> 31 Hamouda Mahmoud from end of Makram ebeid , ...</td>\n",
        "      <td>                 01141224422</td>\n",
        "      <td>  1</td>\n",
        "      <td>   0.000000</td>\n",
        "      <td>                 BAGBOUG@yahoo.com</td>\n",
        "      <td>  285</td>\n",
        "      <td>...</td>\n",
        "      <td> 0</td>\n",
        "      <td> 0</td>\n",
        "      <td> 0</td>\n",
        "      <td> 0</td>\n",
        "      <td> 0</td>\n",
        "      <td> 0</td>\n",
        "      <td> 0</td>\n",
        "      <td> 0</td>\n",
        "      <td> 0</td>\n",
        "      <td> 0</td>\n",
        "    </tr>\n",
        "    <tr>\n",
        "      <th>17  </th>\n",
        "      <td>              Nna Bakry</td>\n",
        "      <td>   122.25</td>\n",
        "      <td> 122.250000</td>\n",
        "      <td>      Grains, seeds and cereal</td>\n",
        "      <td> 37 shehab street , floor 15th appartment 1 Moh...</td>\n",
        "      <td>                         NaN</td>\n",
        "      <td>  1</td>\n",
        "      <td>   0.000000</td>\n",
        "      <td>                 Bakryna@gmail.com</td>\n",
        "      <td> 1204</td>\n",
        "      <td>...</td>\n",
        "      <td> 0</td>\n",
        "      <td> 0</td>\n",
        "      <td> 0</td>\n",
        "      <td> 0</td>\n",
        "      <td> 0</td>\n",
        "      <td> 0</td>\n",
        "      <td> 0</td>\n",
        "      <td> 0</td>\n",
        "      <td> 0</td>\n",
        "      <td> 0</td>\n",
        "    </tr>\n",
        "    <tr>\n",
        "      <th>18  </th>\n",
        "      <td>          Basma Elgazar</td>\n",
        "      <td>    55.00</td>\n",
        "      <td>  55.000000</td>\n",
        "      <td>      Grains, seeds and cereal</td>\n",
        "      <td>                                               NaN</td>\n",
        "      <td>                 01117005877</td>\n",
        "      <td>  1</td>\n",
        "      <td>   0.000000</td>\n",
        "      <td>           Basmaha2010@hotmail.com</td>\n",
        "      <td>  249</td>\n",
        "      <td>...</td>\n",
        "      <td> 0</td>\n",
        "      <td> 0</td>\n",
        "      <td> 0</td>\n",
        "      <td> 0</td>\n",
        "      <td> 0</td>\n",
        "      <td> 0</td>\n",
        "      <td> 0</td>\n",
        "      <td> 0</td>\n",
        "      <td> 0</td>\n",
        "      <td> 1</td>\n",
        "    </tr>\n",
        "    <tr>\n",
        "      <th>19  </th>\n",
        "      <td>             Heba Ragab</td>\n",
        "      <td>   411.19</td>\n",
        "      <td> 137.063333</td>\n",
        "      <td>                       Variety</td>\n",
        "      <td> 54,Mohi el din abuo el ezz,st,dokii, floor 10,...</td>\n",
        "      <td>                 01009599615</td>\n",
        "      <td>  3</td>\n",
        "      <td>   7.000000</td>\n",
        "      <td>                  Bebi84@gmail.com</td>\n",
        "      <td>  976</td>\n",
        "      <td>...</td>\n",
        "      <td> 0</td>\n",
        "      <td> 0</td>\n",
        "      <td> 0</td>\n",
        "      <td> 0</td>\n",
        "      <td> 1</td>\n",
        "      <td> 0</td>\n",
        "      <td> 1</td>\n",
        "      <td> 0</td>\n",
        "      <td> 0</td>\n",
        "      <td> 1</td>\n",
        "    </tr>\n",
        "    <tr>\n",
        "      <th>20  </th>\n",
        "      <td>         Haisam Soliman</td>\n",
        "      <td>   285.75</td>\n",
        "      <td> 285.750000</td>\n",
        "      <td>                     Cosmetics</td>\n",
        "      <td> Villa 14/4 abdelwahab mohammed street Al rehab...</td>\n",
        "      <td>                 01202244355</td>\n",
        "      <td>  1</td>\n",
        "      <td>   0.000000</td>\n",
        "      <td>       Bouchra_erraiss@hotmail.com</td>\n",
        "      <td>  588</td>\n",
        "      <td>...</td>\n",
        "      <td> 0</td>\n",
        "      <td> 0</td>\n",
        "      <td> 0</td>\n",
        "      <td> 0</td>\n",
        "      <td> 1</td>\n",
        "      <td> 0</td>\n",
        "      <td> 0</td>\n",
        "      <td> 0</td>\n",
        "      <td> 0</td>\n",
        "      <td> 0</td>\n",
        "    </tr>\n",
        "    <tr>\n",
        "      <th>21  </th>\n",
        "      <td>           Yasser Awadd</td>\n",
        "      <td>   397.00</td>\n",
        "      <td> 132.333333</td>\n",
        "      <td>                       Variety</td>\n",
        "      <td>                                               NaN</td>\n",
        "      <td>                 01003588073</td>\n",
        "      <td>  3</td>\n",
        "      <td>  88.666667</td>\n",
        "      <td>                 Bunny_Chan@web.de</td>\n",
        "      <td>  227</td>\n",
        "      <td>...</td>\n",
        "      <td> 0</td>\n",
        "      <td> 0</td>\n",
        "      <td> 0</td>\n",
        "      <td> 0</td>\n",
        "      <td> 1</td>\n",
        "      <td> 0</td>\n",
        "      <td> 1</td>\n",
        "      <td> 0</td>\n",
        "      <td> 1</td>\n",
        "      <td> 0</td>\n",
        "    </tr>\n",
        "    <tr>\n",
        "      <th>22  </th>\n",
        "      <td>           Asmaa Medaht</td>\n",
        "      <td>   332.00</td>\n",
        "      <td> 332.000000</td>\n",
        "      <td>      Grains, seeds and cereal</td>\n",
        "      <td> Km 28, Cairo Alexandria Desert Rd., Smart Vill...</td>\n",
        "      <td>               +201007901118</td>\n",
        "      <td>  1</td>\n",
        "      <td>   0.000000</td>\n",
        "      <td>            Buty_Heart@hotmail.com</td>\n",
        "      <td>  209</td>\n",
        "      <td>...</td>\n",
        "      <td> 0</td>\n",
        "      <td> 0</td>\n",
        "      <td> 0</td>\n",
        "      <td> 0</td>\n",
        "      <td> 0</td>\n",
        "      <td> 0</td>\n",
        "      <td> 1</td>\n",
        "      <td> 0</td>\n",
        "      <td> 0</td>\n",
        "      <td> 0</td>\n",
        "    </tr>\n",
        "    <tr>\n",
        "      <th>23  </th>\n",
        "      <td>     Camillia  Marmoush</td>\n",
        "      <td>  1437.00</td>\n",
        "      <td> 287.400000</td>\n",
        "      <td>                           NaN</td>\n",
        "      <td> 5th district Amr ebn elass st.0*area h*south o...</td>\n",
        "      <td>                 01002280010</td>\n",
        "      <td>  5</td>\n",
        "      <td>   2.800000</td>\n",
        "      <td>       Camillia.Marmoush@gmail.com</td>\n",
        "      <td>   25</td>\n",
        "      <td>...</td>\n",
        "      <td> 0</td>\n",
        "      <td> 0</td>\n",
        "      <td> 0</td>\n",
        "      <td> 3</td>\n",
        "      <td> 2</td>\n",
        "      <td> 0</td>\n",
        "      <td> 0</td>\n",
        "      <td> 0</td>\n",
        "      <td> 0</td>\n",
        "      <td> 0</td>\n",
        "    </tr>\n",
        "    <tr>\n",
        "      <th>24  </th>\n",
        "      <td>         carine sabbagh</td>\n",
        "      <td> 12189.72</td>\n",
        "      <td> 329.451892</td>\n",
        "      <td>                       Variety</td>\n",
        "      <td> 11 Rashdan st. dokki off of mesaha square 5th ...</td>\n",
        "      <td>                 01000100745</td>\n",
        "      <td> 37</td>\n",
        "      <td>  27.567568</td>\n",
        "      <td>           Carinesabbagh@gmail.com</td>\n",
        "      <td>  240</td>\n",
        "      <td>...</td>\n",
        "      <td> 1</td>\n",
        "      <td> 0</td>\n",
        "      <td> 3</td>\n",
        "      <td> 2</td>\n",
        "      <td> 3</td>\n",
        "      <td> 2</td>\n",
        "      <td> 5</td>\n",
        "      <td> 2</td>\n",
        "      <td> 2</td>\n",
        "      <td> 5</td>\n",
        "    </tr>\n",
        "    <tr>\n",
        "      <th>25  </th>\n",
        "      <td>             Dina Kadry</td>\n",
        "      <td>   230.00</td>\n",
        "      <td> 230.000000</td>\n",
        "      <td>      Grains, seeds and cereal</td>\n",
        "      <td> Almostathmeroun Alshamaleya / of 90th road / a...</td>\n",
        "      <td>                 01000993094</td>\n",
        "      <td>  1</td>\n",
        "      <td>   0.000000</td>\n",
        "      <td>              DINA_KADRY@YAHOO.COM</td>\n",
        "      <td>   52</td>\n",
        "      <td>...</td>\n",
        "      <td> 0</td>\n",
        "      <td> 0</td>\n",
        "      <td> 0</td>\n",
        "      <td> 1</td>\n",
        "      <td> 0</td>\n",
        "      <td> 0</td>\n",
        "      <td> 0</td>\n",
        "      <td> 0</td>\n",
        "      <td> 0</td>\n",
        "      <td> 0</td>\n",
        "    </tr>\n",
        "    <tr>\n",
        "      <th>26  </th>\n",
        "      <td>       Dina El-dessouky</td>\n",
        "      <td>  1000.08</td>\n",
        "      <td> 142.868571</td>\n",
        "      <td>      Grains, seeds and cereal</td>\n",
        "      <td>                                               NaN</td>\n",
        "      <td>                 01008020608</td>\n",
        "      <td>  7</td>\n",
        "      <td>  18.000000</td>\n",
        "      <td>       Dina_eldessouky@hotmail.com</td>\n",
        "      <td> 1116</td>\n",
        "      <td>...</td>\n",
        "      <td> 0</td>\n",
        "      <td> 0</td>\n",
        "      <td> 0</td>\n",
        "      <td> 0</td>\n",
        "      <td> 2</td>\n",
        "      <td> 1</td>\n",
        "      <td> 1</td>\n",
        "      <td> 0</td>\n",
        "      <td> 1</td>\n",
        "      <td> 0</td>\n",
        "    </tr>\n",
        "    <tr>\n",
        "      <th>27  </th>\n",
        "      <td>            dina hamada</td>\n",
        "      <td>    66.00</td>\n",
        "      <td>  66.000000</td>\n",
        "      <td>                       Poultry</td>\n",
        "      <td>                                               NaN</td>\n",
        "      <td>                 01001415888</td>\n",
        "      <td>  1</td>\n",
        "      <td>   0.000000</td>\n",
        "      <td>        Dina_hamada009@hotmail.com</td>\n",
        "      <td>  364</td>\n",
        "      <td>...</td>\n",
        "      <td> 0</td>\n",
        "      <td> 0</td>\n",
        "      <td> 0</td>\n",
        "      <td> 1</td>\n",
        "      <td> 0</td>\n",
        "      <td> 0</td>\n",
        "      <td> 0</td>\n",
        "      <td> 0</td>\n",
        "      <td> 0</td>\n",
        "      <td> 0</td>\n",
        "    </tr>\n",
        "    <tr>\n",
        "      <th>28  </th>\n",
        "      <td>            Dina Hamada</td>\n",
        "      <td>   143.00</td>\n",
        "      <td>  71.500000</td>\n",
        "      <td>                Rice and pasta</td>\n",
        "      <td> 54 el madina el gadeda st madinat el tawfik Na...</td>\n",
        "      <td>                 01001415888</td>\n",
        "      <td>  2</td>\n",
        "      <td>  80.500000</td>\n",
        "      <td>       Dina_hamada2009@hotmail.com</td>\n",
        "      <td>  210</td>\n",
        "      <td>...</td>\n",
        "      <td> 0</td>\n",
        "      <td> 0</td>\n",
        "      <td> 0</td>\n",
        "      <td> 0</td>\n",
        "      <td> 0</td>\n",
        "      <td> 1</td>\n",
        "      <td> 0</td>\n",
        "      <td> 0</td>\n",
        "      <td> 0</td>\n",
        "      <td> 1</td>\n",
        "    </tr>\n",
        "    <tr>\n",
        "      <th>29  </th>\n",
        "      <td>            Dahlia Adel</td>\n",
        "      <td>   632.20</td>\n",
        "      <td> 316.100000</td>\n",
        "      <td>                     Cosmetics</td>\n",
        "      <td>                                               NaN</td>\n",
        "      <td>                 01145997944</td>\n",
        "      <td>  2</td>\n",
        "      <td>  56.000000</td>\n",
        "      <td>            Doholly_86@hotmail.com</td>\n",
        "      <td>   74</td>\n",
        "      <td>...</td>\n",
        "      <td> 0</td>\n",
        "      <td> 0</td>\n",
        "      <td> 0</td>\n",
        "      <td> 0</td>\n",
        "      <td> 0</td>\n",
        "      <td> 1</td>\n",
        "      <td> 0</td>\n",
        "      <td> 0</td>\n",
        "      <td> 0</td>\n",
        "      <td> 1</td>\n",
        "    </tr>\n",
        "    <tr>\n",
        "      <th>...</th>\n",
        "      <td>...</td>\n",
        "      <td>...</td>\n",
        "      <td>...</td>\n",
        "      <td>...</td>\n",
        "      <td>...</td>\n",
        "      <td>...</td>\n",
        "      <td>...</td>\n",
        "      <td>...</td>\n",
        "      <td>...</td>\n",
        "      <td>...</td>\n",
        "      <td>...</td>\n",
        "      <td>...</td>\n",
        "      <td>...</td>\n",
        "      <td>...</td>\n",
        "      <td>...</td>\n",
        "      <td>...</td>\n",
        "      <td>...</td>\n",
        "      <td>...</td>\n",
        "      <td>...</td>\n",
        "      <td>...</td>\n",
        "      <td>...</td>\n",
        "    </tr>\n",
        "    <tr>\n",
        "      <th>2278</th>\n",
        "      <td>         Youssef Khalil</td>\n",
        "      <td>   303.00</td>\n",
        "      <td> 101.000000</td>\n",
        "      <td>                          Beef</td>\n",
        "      <td> 1 Bashar Ebn Bord street, from Ahmed el Sawi f...</td>\n",
        "      <td>              00201222240595</td>\n",
        "      <td>  3</td>\n",
        "      <td>  99.666667</td>\n",
        "      <td>              youssefkhalil@me.com</td>\n",
        "      <td>   87</td>\n",
        "      <td>...</td>\n",
        "      <td> 0</td>\n",
        "      <td> 0</td>\n",
        "      <td> 0</td>\n",
        "      <td> 1</td>\n",
        "      <td> 0</td>\n",
        "      <td> 1</td>\n",
        "      <td> 0</td>\n",
        "      <td> 0</td>\n",
        "      <td> 0</td>\n",
        "      <td> 0</td>\n",
        "    </tr>\n",
        "    <tr>\n",
        "      <th>2279</th>\n",
        "      <td>            Tarek yehia</td>\n",
        "      <td>   242.00</td>\n",
        "      <td> 242.000000</td>\n",
        "      <td>                       Poultry</td>\n",
        "      <td>                                               NaN</td>\n",
        "      <td>                 01001191212</td>\n",
        "      <td>  1</td>\n",
        "      <td>   0.000000</td>\n",
        "      <td>          youssra.resaie@gmail.com</td>\n",
        "      <td>  526</td>\n",
        "      <td>...</td>\n",
        "      <td> 0</td>\n",
        "      <td> 0</td>\n",
        "      <td> 0</td>\n",
        "      <td> 0</td>\n",
        "      <td> 1</td>\n",
        "      <td> 0</td>\n",
        "      <td> 0</td>\n",
        "      <td> 0</td>\n",
        "      <td> 0</td>\n",
        "      <td> 0</td>\n",
        "    </tr>\n",
        "    <tr>\n",
        "      <th>2280</th>\n",
        "      <td>         Youssra Ismail</td>\n",
        "      <td>   146.40</td>\n",
        "      <td> 146.400000</td>\n",
        "      <td>                          Beef</td>\n",
        "      <td> 12 Khan Younis street, Mohandessin  Floor 11. ...</td>\n",
        "      <td>               +201114400112</td>\n",
        "      <td>  1</td>\n",
        "      <td>   0.000000</td>\n",
        "      <td>                 youssra@gmail.com</td>\n",
        "      <td>  281</td>\n",
        "      <td>...</td>\n",
        "      <td> 0</td>\n",
        "      <td> 0</td>\n",
        "      <td> 0</td>\n",
        "      <td> 0</td>\n",
        "      <td> 0</td>\n",
        "      <td> 0</td>\n",
        "      <td> 1</td>\n",
        "      <td> 0</td>\n",
        "      <td> 0</td>\n",
        "      <td> 0</td>\n",
        "    </tr>\n",
        "    <tr>\n",
        "      <th>2281</th>\n",
        "      <td>          Youssra Kamal</td>\n",
        "      <td>   753.00</td>\n",
        "      <td> 251.000000</td>\n",
        "      <td>                     Non dairy</td>\n",
        "      <td>     Al Dyar compound .new Cairo  Villa 590L Cairo</td>\n",
        "      <td>                 01149734254</td>\n",
        "      <td>  3</td>\n",
        "      <td>  21.333333</td>\n",
        "      <td>           youssra_kamal@yahoo.com</td>\n",
        "      <td>   22</td>\n",
        "      <td>...</td>\n",
        "      <td> 0</td>\n",
        "      <td> 0</td>\n",
        "      <td> 0</td>\n",
        "      <td> 0</td>\n",
        "      <td> 2</td>\n",
        "      <td> 1</td>\n",
        "      <td> 0</td>\n",
        "      <td> 0</td>\n",
        "      <td> 0</td>\n",
        "      <td> 0</td>\n",
        "    </tr>\n",
        "    <tr>\n",
        "      <th>2282</th>\n",
        "      <td>     Youssra Al ashmawi</td>\n",
        "      <td>   201.00</td>\n",
        "      <td> 201.000000</td>\n",
        "      <td>                       Variety</td>\n",
        "      <td>                                               NaN</td>\n",
        "      <td>                 01125699291</td>\n",
        "      <td>  1</td>\n",
        "      <td>   0.000000</td>\n",
        "      <td>         youssraaashmawi@gmail.com</td>\n",
        "      <td>   73</td>\n",
        "      <td>...</td>\n",
        "      <td> 0</td>\n",
        "      <td> 0</td>\n",
        "      <td> 0</td>\n",
        "      <td> 0</td>\n",
        "      <td> 0</td>\n",
        "      <td> 0</td>\n",
        "      <td> 1</td>\n",
        "      <td> 0</td>\n",
        "      <td> 0</td>\n",
        "      <td> 0</td>\n",
        "    </tr>\n",
        "    <tr>\n",
        "      <th>2283</th>\n",
        "      <td>    Youssef Abdelmohsen</td>\n",
        "      <td>   233.20</td>\n",
        "      <td> 116.600000</td>\n",
        "      <td>                           NaN</td>\n",
        "      <td>        Moonvalley Compound, Rd. 90  D11 New Cairo</td>\n",
        "      <td>                 01069786059</td>\n",
        "      <td>  2</td>\n",
        "      <td>   5.000000</td>\n",
        "      <td>           yoyothetricky@gmail.com</td>\n",
        "      <td>    8</td>\n",
        "      <td>...</td>\n",
        "      <td> 0</td>\n",
        "      <td> 0</td>\n",
        "      <td> 0</td>\n",
        "      <td> 0</td>\n",
        "      <td> 1</td>\n",
        "      <td> 1</td>\n",
        "      <td> 0</td>\n",
        "      <td> 0</td>\n",
        "      <td> 0</td>\n",
        "      <td> 0</td>\n",
        "    </tr>\n",
        "    <tr>\n",
        "      <th>2284</th>\n",
        "      <td>          yasmine Raheb</td>\n",
        "      <td>    78.13</td>\n",
        "      <td>  78.130000</td>\n",
        "      <td>                        Fruits</td>\n",
        "      <td>                                               NaN</td>\n",
        "      <td>                 01221888861</td>\n",
        "      <td>  1</td>\n",
        "      <td>   0.000000</td>\n",
        "      <td>               yrelraheb@gmail.com</td>\n",
        "      <td> 1017</td>\n",
        "      <td>...</td>\n",
        "      <td> 0</td>\n",
        "      <td> 0</td>\n",
        "      <td> 0</td>\n",
        "      <td> 0</td>\n",
        "      <td> 1</td>\n",
        "      <td> 0</td>\n",
        "      <td> 0</td>\n",
        "      <td> 0</td>\n",
        "      <td> 0</td>\n",
        "      <td> 0</td>\n",
        "    </tr>\n",
        "    <tr>\n",
        "      <th>2285</th>\n",
        "      <td>         Yuliay Ivanova</td>\n",
        "      <td>   507.20</td>\n",
        "      <td> 126.800000</td>\n",
        "      <td>                       Variety</td>\n",
        "      <td> Beverly Hills compound  Forty west . Building ...</td>\n",
        "      <td>                 01150888848</td>\n",
        "      <td>  4</td>\n",
        "      <td>  15.750000</td>\n",
        "      <td>               yulbiba@hotmail.com</td>\n",
        "      <td>    7</td>\n",
        "      <td>...</td>\n",
        "      <td> 0</td>\n",
        "      <td> 0</td>\n",
        "      <td> 0</td>\n",
        "      <td> 1</td>\n",
        "      <td> 0</td>\n",
        "      <td> 0</td>\n",
        "      <td> 0</td>\n",
        "      <td> 1</td>\n",
        "      <td> 1</td>\n",
        "      <td> 1</td>\n",
        "    </tr>\n",
        "    <tr>\n",
        "      <th>2286</th>\n",
        "      <td>  Subscriber Newsletter</td>\n",
        "      <td>   297.50</td>\n",
        "      <td> 148.750000</td>\n",
        "      <td>                       Variety</td>\n",
        "      <td>         19 Menis Street, ElKorba Heliopolis Cairo</td>\n",
        "      <td>                 01005047970</td>\n",
        "      <td>  2</td>\n",
        "      <td> 149.500000</td>\n",
        "      <td>             yumnakassim@gmail.com</td>\n",
        "      <td>  509</td>\n",
        "      <td>...</td>\n",
        "      <td> 0</td>\n",
        "      <td> 0</td>\n",
        "      <td> 0</td>\n",
        "      <td> 0</td>\n",
        "      <td> 0</td>\n",
        "      <td> 1</td>\n",
        "      <td> 0</td>\n",
        "      <td> 0</td>\n",
        "      <td> 0</td>\n",
        "      <td> 1</td>\n",
        "    </tr>\n",
        "    <tr>\n",
        "      <th>2287</th>\n",
        "      <td>            zeina addas</td>\n",
        "      <td>   350.85</td>\n",
        "      <td> 350.850000</td>\n",
        "      <td>                       Seafood</td>\n",
        "      <td>         19 tahawi st, golf area heliopolise cairo</td>\n",
        "      <td>               +201223781733</td>\n",
        "      <td>  1</td>\n",
        "      <td>   0.000000</td>\n",
        "      <td>              z72addas@hotmail.com</td>\n",
        "      <td>  345</td>\n",
        "      <td>...</td>\n",
        "      <td> 0</td>\n",
        "      <td> 0</td>\n",
        "      <td> 0</td>\n",
        "      <td> 0</td>\n",
        "      <td> 0</td>\n",
        "      <td> 1</td>\n",
        "      <td> 0</td>\n",
        "      <td> 0</td>\n",
        "      <td> 0</td>\n",
        "      <td> 0</td>\n",
        "    </tr>\n",
        "    <tr>\n",
        "      <th>2288</th>\n",
        "      <td>           Farida  Zaki</td>\n",
        "      <td>   931.50</td>\n",
        "      <td> 186.300000</td>\n",
        "      <td>                       Variety</td>\n",
        "      <td> 56 Nazih Khalifa St. Heliopolis  3rd floor, Ap...</td>\n",
        "      <td>              00201001108847</td>\n",
        "      <td>  5</td>\n",
        "      <td>  31.400000</td>\n",
        "      <td>             zaki.farida@gmail.com</td>\n",
        "      <td>   60</td>\n",
        "      <td>...</td>\n",
        "      <td> 0</td>\n",
        "      <td> 0</td>\n",
        "      <td> 0</td>\n",
        "      <td> 0</td>\n",
        "      <td> 0</td>\n",
        "      <td> 1</td>\n",
        "      <td> 2</td>\n",
        "      <td> 2</td>\n",
        "      <td> 0</td>\n",
        "      <td> 0</td>\n",
        "    </tr>\n",
        "    <tr>\n",
        "      <th>2289</th>\n",
        "      <td>        Zeinab  Mutawa </td>\n",
        "      <td>   160.00</td>\n",
        "      <td> 160.000000</td>\n",
        "      <td>                           NaN</td>\n",
        "      <td> 9 El Saada street, roxy, Heliopolis  April 181...</td>\n",
        "      <td>                 01222107517</td>\n",
        "      <td>  1</td>\n",
        "      <td>   0.000000</td>\n",
        "      <td>               zedesem65@gmail.com</td>\n",
        "      <td>   39</td>\n",
        "      <td>...</td>\n",
        "      <td> 0</td>\n",
        "      <td> 1</td>\n",
        "      <td> 0</td>\n",
        "      <td> 0</td>\n",
        "      <td> 0</td>\n",
        "      <td> 0</td>\n",
        "      <td> 0</td>\n",
        "      <td> 0</td>\n",
        "      <td> 0</td>\n",
        "      <td> 0</td>\n",
        "    </tr>\n",
        "    <tr>\n",
        "      <th>2290</th>\n",
        "      <td>        Zeinab M.Shaker</td>\n",
        "      <td>    37.00</td>\n",
        "      <td>  37.000000</td>\n",
        "      <td>                    Vegetables</td>\n",
        "      <td> 566 Palestine St. Ground floor, Integrant Maad...</td>\n",
        "      <td>                201005211550</td>\n",
        "      <td>  1</td>\n",
        "      <td>   0.000000</td>\n",
        "      <td>                 zee.nap@gmail.com</td>\n",
        "      <td>  113</td>\n",
        "      <td>...</td>\n",
        "      <td> 0</td>\n",
        "      <td> 0</td>\n",
        "      <td> 0</td>\n",
        "      <td> 0</td>\n",
        "      <td> 0</td>\n",
        "      <td> 0</td>\n",
        "      <td> 0</td>\n",
        "      <td> 1</td>\n",
        "      <td> 0</td>\n",
        "      <td> 0</td>\n",
        "    </tr>\n",
        "    <tr>\n",
        "      <th>2291</th>\n",
        "      <td>           zeina kassas</td>\n",
        "      <td>   907.60</td>\n",
        "      <td> 151.266667</td>\n",
        "      <td>                       Variety</td>\n",
        "      <td>        Madinaty Group 17, Building 8 31 New Cairo</td>\n",
        "      <td>                 01000448740</td>\n",
        "      <td>  6</td>\n",
        "      <td>  55.166667</td>\n",
        "      <td>            zeina.kassas@gmail.com</td>\n",
        "      <td>  190</td>\n",
        "      <td>...</td>\n",
        "      <td> 0</td>\n",
        "      <td> 0</td>\n",
        "      <td> 1</td>\n",
        "      <td> 0</td>\n",
        "      <td> 3</td>\n",
        "      <td> 1</td>\n",
        "      <td> 0</td>\n",
        "      <td> 0</td>\n",
        "      <td> 1</td>\n",
        "      <td> 0</td>\n",
        "    </tr>\n",
        "    <tr>\n",
        "      <th>2292</th>\n",
        "      <td>           Nashwa Hafez</td>\n",
        "      <td>   718.80</td>\n",
        "      <td> 718.800000</td>\n",
        "      <td>                          Beef</td>\n",
        "      <td>                                               NaN</td>\n",
        "      <td>                 01141222226</td>\n",
        "      <td>  1</td>\n",
        "      <td>   0.000000</td>\n",
        "      <td>         zeina_ahmed95@hotmail.com</td>\n",
        "      <td>  423</td>\n",
        "      <td>...</td>\n",
        "      <td> 0</td>\n",
        "      <td> 0</td>\n",
        "      <td> 0</td>\n",
        "      <td> 0</td>\n",
        "      <td> 0</td>\n",
        "      <td> 0</td>\n",
        "      <td> 0</td>\n",
        "      <td> 0</td>\n",
        "      <td> 1</td>\n",
        "      <td> 0</td>\n",
        "    </tr>\n",
        "    <tr>\n",
        "      <th>2293</th>\n",
        "      <td>             Zeina Naim</td>\n",
        "      <td>    67.00</td>\n",
        "      <td>  67.000000</td>\n",
        "      <td>                           NaN</td>\n",
        "      <td>                                               NaN</td>\n",
        "      <td>                 01025550552</td>\n",
        "      <td>  1</td>\n",
        "      <td>   0.000000</td>\n",
        "      <td>            zeina_naim@hotmail.com</td>\n",
        "      <td>   35</td>\n",
        "      <td>...</td>\n",
        "      <td> 0</td>\n",
        "      <td> 0</td>\n",
        "      <td> 0</td>\n",
        "      <td> 1</td>\n",
        "      <td> 0</td>\n",
        "      <td> 0</td>\n",
        "      <td> 0</td>\n",
        "      <td> 0</td>\n",
        "      <td> 0</td>\n",
        "      <td> 0</td>\n",
        "    </tr>\n",
        "    <tr>\n",
        "      <th>2294</th>\n",
        "      <td>            Zeinab Taha</td>\n",
        "      <td>   106.30</td>\n",
        "      <td> 106.300000</td>\n",
        "      <td>                       Variety</td>\n",
        "      <td>                                               NaN</td>\n",
        "      <td>                 01271188471</td>\n",
        "      <td>  1</td>\n",
        "      <td>   0.000000</td>\n",
        "      <td>         zeinabahmedtaha@yahoo.com</td>\n",
        "      <td> 1055</td>\n",
        "      <td>...</td>\n",
        "      <td> 0</td>\n",
        "      <td> 0</td>\n",
        "      <td> 0</td>\n",
        "      <td> 0</td>\n",
        "      <td> 0</td>\n",
        "      <td> 0</td>\n",
        "      <td> 1</td>\n",
        "      <td> 0</td>\n",
        "      <td> 0</td>\n",
        "      <td> 0</td>\n",
        "    </tr>\n",
        "    <tr>\n",
        "      <th>2295</th>\n",
        "      <td>       Dr/ Hisham fahmi</td>\n",
        "      <td>   743.00</td>\n",
        "      <td> 247.666667</td>\n",
        "      <td>                       Variety</td>\n",
        "      <td> 4d al gazira st. befor kism el gazira off nady...</td>\n",
        "      <td>                  0227355135</td>\n",
        "      <td>  3</td>\n",
        "      <td>   8.333333</td>\n",
        "      <td>      zeinabkhalil2010@hotmail.com</td>\n",
        "      <td>  182</td>\n",
        "      <td>...</td>\n",
        "      <td> 0</td>\n",
        "      <td> 0</td>\n",
        "      <td> 0</td>\n",
        "      <td> 0</td>\n",
        "      <td> 0</td>\n",
        "      <td> 1</td>\n",
        "      <td> 2</td>\n",
        "      <td> 0</td>\n",
        "      <td> 0</td>\n",
        "      <td> 0</td>\n",
        "    </tr>\n",
        "    <tr>\n",
        "      <th>2296</th>\n",
        "      <td>       Zeinab Noureldin</td>\n",
        "      <td>    87.50</td>\n",
        "      <td>  43.750000</td>\n",
        "      <td>                    Vegetables</td>\n",
        "      <td>                                               NaN</td>\n",
        "      <td>                 01002261945</td>\n",
        "      <td>  2</td>\n",
        "      <td>   0.500000</td>\n",
        "      <td>              zeinabnour@gmail.com</td>\n",
        "      <td>  416</td>\n",
        "      <td>...</td>\n",
        "      <td> 0</td>\n",
        "      <td> 0</td>\n",
        "      <td> 0</td>\n",
        "      <td> 1</td>\n",
        "      <td> 0</td>\n",
        "      <td> 0</td>\n",
        "      <td> 1</td>\n",
        "      <td> 0</td>\n",
        "      <td> 0</td>\n",
        "      <td> 0</td>\n",
        "    </tr>\n",
        "    <tr>\n",
        "      <th>2297</th>\n",
        "      <td>           zeina hodroj</td>\n",
        "      <td>   380.50</td>\n",
        "      <td> 190.250000</td>\n",
        "      <td>                       Poultry</td>\n",
        "      <td>                                               NaN</td>\n",
        "      <td>                 01000892677</td>\n",
        "      <td>  2</td>\n",
        "      <td>   0.000000</td>\n",
        "      <td>              zeinahodroj@live.com</td>\n",
        "      <td>  276</td>\n",
        "      <td>...</td>\n",
        "      <td> 0</td>\n",
        "      <td> 1</td>\n",
        "      <td> 0</td>\n",
        "      <td> 0</td>\n",
        "      <td> 1</td>\n",
        "      <td> 0</td>\n",
        "      <td> 0</td>\n",
        "      <td> 0</td>\n",
        "      <td> 0</td>\n",
        "      <td> 0</td>\n",
        "    </tr>\n",
        "    <tr>\n",
        "      <th>2298</th>\n",
        "      <td>            Zeina Tarek</td>\n",
        "      <td>  1148.40</td>\n",
        "      <td> 164.057143</td>\n",
        "      <td>                       Variety</td>\n",
        "      <td>                                               NaN</td>\n",
        "      <td>               +201227759372</td>\n",
        "      <td>  7</td>\n",
        "      <td>  35.714286</td>\n",
        "      <td>              zeinasabry@gmail.com</td>\n",
        "      <td>  574</td>\n",
        "      <td>...</td>\n",
        "      <td> 0</td>\n",
        "      <td> 0</td>\n",
        "      <td> 0</td>\n",
        "      <td> 2</td>\n",
        "      <td> 2</td>\n",
        "      <td> 0</td>\n",
        "      <td> 0</td>\n",
        "      <td> 2</td>\n",
        "      <td> 0</td>\n",
        "      <td> 0</td>\n",
        "    </tr>\n",
        "    <tr>\n",
        "      <th>2299</th>\n",
        "      <td>         Reham Abdullah</td>\n",
        "      <td>   336.00</td>\n",
        "      <td> 168.000000</td>\n",
        "      <td>         Oil, Vinegar &amp; Sauces</td>\n",
        "      <td>   Baron Palace/ Heliopolis (MEETING POINT ) cairo</td>\n",
        "      <td> 01007077741  /  01008664628</td>\n",
        "      <td>  2</td>\n",
        "      <td>  35.500000</td>\n",
        "      <td>               zeinriham@gmail.com</td>\n",
        "      <td>   29</td>\n",
        "      <td>...</td>\n",
        "      <td> 0</td>\n",
        "      <td> 0</td>\n",
        "      <td> 0</td>\n",
        "      <td> 1</td>\n",
        "      <td> 0</td>\n",
        "      <td> 0</td>\n",
        "      <td> 0</td>\n",
        "      <td> 0</td>\n",
        "      <td> 0</td>\n",
        "      <td> 0</td>\n",
        "    </tr>\n",
        "    <tr>\n",
        "      <th>2300</th>\n",
        "      <td>        Zena Abdelbaky </td>\n",
        "      <td>   302.50</td>\n",
        "      <td> 151.250000</td>\n",
        "      <td>                Rice and pasta</td>\n",
        "      <td>                                               NaN</td>\n",
        "      <td>                 01000350409</td>\n",
        "      <td>  2</td>\n",
        "      <td> 219.000000</td>\n",
        "      <td>           zenaabdelbaky@gmail.com</td>\n",
        "      <td>  148</td>\n",
        "      <td>...</td>\n",
        "      <td> 0</td>\n",
        "      <td> 0</td>\n",
        "      <td> 0</td>\n",
        "      <td> 0</td>\n",
        "      <td> 0</td>\n",
        "      <td> 0</td>\n",
        "      <td> 0</td>\n",
        "      <td> 1</td>\n",
        "      <td> 0</td>\n",
        "      <td> 0</td>\n",
        "    </tr>\n",
        "    <tr>\n",
        "      <th>2301</th>\n",
        "      <td>          Zeyad Attalla</td>\n",
        "      <td>    97.40</td>\n",
        "      <td>  97.400000</td>\n",
        "      <td>                          Beef</td>\n",
        "      <td>                                               NaN</td>\n",
        "      <td>                 01002240643</td>\n",
        "      <td>  1</td>\n",
        "      <td>   0.000000</td>\n",
        "      <td>            zeyadattalla@yahoo.com</td>\n",
        "      <td>  225</td>\n",
        "      <td>...</td>\n",
        "      <td> 0</td>\n",
        "      <td> 0</td>\n",
        "      <td> 0</td>\n",
        "      <td> 0</td>\n",
        "      <td> 0</td>\n",
        "      <td> 0</td>\n",
        "      <td> 0</td>\n",
        "      <td> 0</td>\n",
        "      <td> 0</td>\n",
        "      <td> 0</td>\n",
        "    </tr>\n",
        "    <tr>\n",
        "      <th>2302</th>\n",
        "      <td>              Ziad Ihab</td>\n",
        "      <td>    47.00</td>\n",
        "      <td>  47.000000</td>\n",
        "      <td> Chocolate, cookies and snacks</td>\n",
        "      <td> Rehab city, settlement 81, building 2 floor 3,...</td>\n",
        "      <td>                 01116835556</td>\n",
        "      <td>  1</td>\n",
        "      <td>   0.000000</td>\n",
        "      <td>                ziadihab@gmail.com</td>\n",
        "      <td>  247</td>\n",
        "      <td>...</td>\n",
        "      <td> 0</td>\n",
        "      <td> 0</td>\n",
        "      <td> 0</td>\n",
        "      <td> 0</td>\n",
        "      <td> 0</td>\n",
        "      <td> 0</td>\n",
        "      <td> 0</td>\n",
        "      <td> 0</td>\n",
        "      <td> 0</td>\n",
        "      <td> 0</td>\n",
        "    </tr>\n",
        "    <tr>\n",
        "      <th>2303</th>\n",
        "      <td>            Usama Gamal</td>\n",
        "      <td>    59.00</td>\n",
        "      <td>  59.000000</td>\n",
        "      <td>                           NaN</td>\n",
        "      <td> Al-obour City Golf City  B5 Flat No. 3  Entran...</td>\n",
        "      <td>                 01097902883</td>\n",
        "      <td>  1</td>\n",
        "      <td>   0.000000</td>\n",
        "      <td>               ziadusama@ymail.com</td>\n",
        "      <td>   18</td>\n",
        "      <td>...</td>\n",
        "      <td> 0</td>\n",
        "      <td> 0</td>\n",
        "      <td> 0</td>\n",
        "      <td> 1</td>\n",
        "      <td> 0</td>\n",
        "      <td> 0</td>\n",
        "      <td> 0</td>\n",
        "      <td> 0</td>\n",
        "      <td> 0</td>\n",
        "      <td> 0</td>\n",
        "    </tr>\n",
        "    <tr>\n",
        "      <th>2304</th>\n",
        "      <td>           Zina El Hini</td>\n",
        "      <td>   320.02</td>\n",
        "      <td> 320.020000</td>\n",
        "      <td>                          Beef</td>\n",
        "      <td>                                               NaN</td>\n",
        "      <td>                 01006061566</td>\n",
        "      <td>  1</td>\n",
        "      <td>   0.000000</td>\n",
        "      <td>               zinelhini@yahoo.com</td>\n",
        "      <td>  807</td>\n",
        "      <td>...</td>\n",
        "      <td> 0</td>\n",
        "      <td> 0</td>\n",
        "      <td> 0</td>\n",
        "      <td> 0</td>\n",
        "      <td> 0</td>\n",
        "      <td> 0</td>\n",
        "      <td> 1</td>\n",
        "      <td> 0</td>\n",
        "      <td> 0</td>\n",
        "      <td> 0</td>\n",
        "    </tr>\n",
        "    <tr>\n",
        "      <th>2305</th>\n",
        "      <td>           Zayd Leseman</td>\n",
        "      <td>  1171.57</td>\n",
        "      <td> 585.785000</td>\n",
        "      <td>                       Variety</td>\n",
        "      <td>    Nada Compound, Entrance 2 Villa 2 Sheikh Zayed</td>\n",
        "      <td>                 01125573521</td>\n",
        "      <td>  2</td>\n",
        "      <td>  35.500000</td>\n",
        "      <td>                zleseman@gmail.com</td>\n",
        "      <td>  976</td>\n",
        "      <td>...</td>\n",
        "      <td> 0</td>\n",
        "      <td> 0</td>\n",
        "      <td> 0</td>\n",
        "      <td> 0</td>\n",
        "      <td> 0</td>\n",
        "      <td> 1</td>\n",
        "      <td> 0</td>\n",
        "      <td> 1</td>\n",
        "      <td> 0</td>\n",
        "      <td> 0</td>\n",
        "    </tr>\n",
        "    <tr>\n",
        "      <th>2306</th>\n",
        "      <td>      amal abdelraheem </td>\n",
        "      <td>   610.10</td>\n",
        "      <td> 610.100000</td>\n",
        "      <td>                       Variety</td>\n",
        "      <td>          4038 me3raj olwi, maadi 201 maadi, cairo</td>\n",
        "      <td>              00201023982488</td>\n",
        "      <td>  1</td>\n",
        "      <td>   0.000000</td>\n",
        "      <td>           zolaykha1st@hotmail.com</td>\n",
        "      <td>  375</td>\n",
        "      <td>...</td>\n",
        "      <td> 0</td>\n",
        "      <td> 0</td>\n",
        "      <td> 1</td>\n",
        "      <td> 0</td>\n",
        "      <td> 0</td>\n",
        "      <td> 0</td>\n",
        "      <td> 0</td>\n",
        "      <td> 0</td>\n",
        "      <td> 0</td>\n",
        "      <td> 0</td>\n",
        "    </tr>\n",
        "    <tr>\n",
        "      <th>2307</th>\n",
        "      <td>           Amina Rashad</td>\n",
        "      <td>  2933.00</td>\n",
        "      <td> 419.000000</td>\n",
        "      <td> Chocolate, cookies and snacks</td>\n",
        "      <td>     Mountain View behind el rehab villa 6 C cairo</td>\n",
        "      <td>                 01005497979</td>\n",
        "      <td>  7</td>\n",
        "      <td>  48.571429</td>\n",
        "      <td>               zshafei@outlook.com</td>\n",
        "      <td>   20</td>\n",
        "      <td>...</td>\n",
        "      <td> 0</td>\n",
        "      <td> 0</td>\n",
        "      <td> 0</td>\n",
        "      <td> 2</td>\n",
        "      <td> 1</td>\n",
        "      <td> 3</td>\n",
        "      <td> 0</td>\n",
        "      <td> 0</td>\n",
        "      <td> 0</td>\n",
        "      <td> 1</td>\n",
        "    </tr>\n",
        "  </tbody>\n",
        "</table>\n",
        "<p>2308 rows \u00d7 29 columns</p>\n",
        "</div>"
       ],
       "metadata": {},
       "output_type": "pyout",
       "prompt_number": 11,
       "text": [
        "                        Name   Revenue  Basket Value  \\\n",
        "0     Magdalena Kallenberger    267.17    267.170000   \n",
        "1              Alain  Phar\u00e8s   1001.10    500.550000   \n",
        "2                 Kelly Tate    648.00    162.000000   \n",
        "3                 Lara Scott    909.00    303.000000   \n",
        "4              mohamed tolba    160.00     53.333333   \n",
        "5               Nadia Teirah    290.00    145.000000   \n",
        "6              Aladdin Nabil     30.00     30.000000   \n",
        "7                ASHRAF ZAKI    300.18    300.180000   \n",
        "8               Adham Hamada     61.20     61.200000   \n",
        "9               Ahmed Habash    360.00    360.000000   \n",
        "10                Ahmed Adel    424.00    424.000000   \n",
        "11            Alia Mossallam   7096.62    308.548696   \n",
        "12            Andrea Heilman    819.10    204.775000   \n",
        "13               Asmaa Ahmed   3404.00    851.000000   \n",
        "14              Sherif Saleh    475.00    158.333333   \n",
        "15               Azza Sallam     45.00     45.000000   \n",
        "16            Brigitte Kamal    113.50    113.500000   \n",
        "17                 Nna Bakry    122.25    122.250000   \n",
        "18             Basma Elgazar     55.00     55.000000   \n",
        "19                Heba Ragab    411.19    137.063333   \n",
        "20            Haisam Soliman    285.75    285.750000   \n",
        "21              Yasser Awadd    397.00    132.333333   \n",
        "22              Asmaa Medaht    332.00    332.000000   \n",
        "23        Camillia  Marmoush   1437.00    287.400000   \n",
        "24            carine sabbagh  12189.72    329.451892   \n",
        "25                Dina Kadry    230.00    230.000000   \n",
        "26          Dina El-dessouky   1000.08    142.868571   \n",
        "27               dina hamada     66.00     66.000000   \n",
        "28               Dina Hamada    143.00     71.500000   \n",
        "29               Dahlia Adel    632.20    316.100000   \n",
        "...                      ...       ...           ...   \n",
        "2278          Youssef Khalil    303.00    101.000000   \n",
        "2279             Tarek yehia    242.00    242.000000   \n",
        "2280          Youssra Ismail    146.40    146.400000   \n",
        "2281           Youssra Kamal    753.00    251.000000   \n",
        "2282      Youssra Al ashmawi    201.00    201.000000   \n",
        "2283     Youssef Abdelmohsen    233.20    116.600000   \n",
        "2284           yasmine Raheb     78.13     78.130000   \n",
        "2285          Yuliay Ivanova    507.20    126.800000   \n",
        "2286   Subscriber Newsletter    297.50    148.750000   \n",
        "2287             zeina addas    350.85    350.850000   \n",
        "2288            Farida  Zaki    931.50    186.300000   \n",
        "2289         Zeinab  Mutawa     160.00    160.000000   \n",
        "2290         Zeinab M.Shaker     37.00     37.000000   \n",
        "2291            zeina kassas    907.60    151.266667   \n",
        "2292            Nashwa Hafez    718.80    718.800000   \n",
        "2293              Zeina Naim     67.00     67.000000   \n",
        "2294             Zeinab Taha    106.30    106.300000   \n",
        "2295        Dr/ Hisham fahmi    743.00    247.666667   \n",
        "2296        Zeinab Noureldin     87.50     43.750000   \n",
        "2297            zeina hodroj    380.50    190.250000   \n",
        "2298             Zeina Tarek   1148.40    164.057143   \n",
        "2299          Reham Abdullah    336.00    168.000000   \n",
        "2300         Zena Abdelbaky     302.50    151.250000   \n",
        "2301           Zeyad Attalla     97.40     97.400000   \n",
        "2302               Ziad Ihab     47.00     47.000000   \n",
        "2303             Usama Gamal     59.00     59.000000   \n",
        "2304            Zina El Hini    320.02    320.020000   \n",
        "2305            Zayd Leseman   1171.57    585.785000   \n",
        "2306       amal abdelraheem     610.10    610.100000   \n",
        "2307            Amina Rashad   2933.00    419.000000   \n",
        "\n",
        "                            Segment  \\\n",
        "0              Fresh Beef & Poultry   \n",
        "1                           Variety   \n",
        "2                        Vegetables   \n",
        "3                           Variety   \n",
        "4                           Variety   \n",
        "5                               NaN   \n",
        "6                           Poultry   \n",
        "7          Grains, seeds and cereal   \n",
        "8              Fresh Beef & Poultry   \n",
        "9                            Bakery   \n",
        "10         Grains, seeds and cereal   \n",
        "11                          Variety   \n",
        "12                          Variety   \n",
        "13                           Bakery   \n",
        "14                       Vegetables   \n",
        "15                        Cosmetics   \n",
        "16                             Beef   \n",
        "17         Grains, seeds and cereal   \n",
        "18         Grains, seeds and cereal   \n",
        "19                          Variety   \n",
        "20                        Cosmetics   \n",
        "21                          Variety   \n",
        "22         Grains, seeds and cereal   \n",
        "23                              NaN   \n",
        "24                          Variety   \n",
        "25         Grains, seeds and cereal   \n",
        "26         Grains, seeds and cereal   \n",
        "27                          Poultry   \n",
        "28                   Rice and pasta   \n",
        "29                        Cosmetics   \n",
        "...                             ...   \n",
        "2278                           Beef   \n",
        "2279                        Poultry   \n",
        "2280                           Beef   \n",
        "2281                      Non dairy   \n",
        "2282                        Variety   \n",
        "2283                            NaN   \n",
        "2284                         Fruits   \n",
        "2285                        Variety   \n",
        "2286                        Variety   \n",
        "2287                        Seafood   \n",
        "2288                        Variety   \n",
        "2289                            NaN   \n",
        "2290                     Vegetables   \n",
        "2291                        Variety   \n",
        "2292                           Beef   \n",
        "2293                            NaN   \n",
        "2294                        Variety   \n",
        "2295                        Variety   \n",
        "2296                     Vegetables   \n",
        "2297                        Poultry   \n",
        "2298                        Variety   \n",
        "2299          Oil, Vinegar & Sauces   \n",
        "2300                 Rice and pasta   \n",
        "2301                           Beef   \n",
        "2302  Chocolate, cookies and snacks   \n",
        "2303                            NaN   \n",
        "2304                           Beef   \n",
        "2305                        Variety   \n",
        "2306                        Variety   \n",
        "2307  Chocolate, cookies and snacks   \n",
        "\n",
        "                                                Address  \\\n",
        "0                                                   NaN   \n",
        "1                      31 golf street  app 69/6th maadi   \n",
        "2     Street 33, Building 154, Area 1, Group 2, Taga...   \n",
        "3     23 Abdalla Deraz St.  #203 - 2nd Floor, left s...   \n",
        "4            11 shams el din el koufy st  17 heliopolis   \n",
        "5                                                   NaN   \n",
        "6                             Hadayek al ahram 20 Ahram   \n",
        "7     19 Gabalayah Street, 9th Floor, Apt 92 Zamalek...   \n",
        "8     5 eskandar el Akbar st. Heliopolis First floor...   \n",
        "9                                                   NaN   \n",
        "10    24 Extension Abo Dawood El Zahery  3rd Floor. ...   \n",
        "11                 59 Road 14, Moqattam 4th floor Cairo   \n",
        "12                16 Mohammed Thakeb, Zamalek 805 Cairo   \n",
        "13    Nasr city*Car Market*Shaban Company 10th distr...   \n",
        "14                                                  NaN   \n",
        "15                                                  NaN   \n",
        "16    31 Hamouda Mahmoud from end of Makram ebeid , ...   \n",
        "17    37 shehab street , floor 15th appartment 1 Moh...   \n",
        "18                                                  NaN   \n",
        "19    54,Mohi el din abuo el ezz,st,dokii, floor 10,...   \n",
        "20    Villa 14/4 abdelwahab mohammed street Al rehab...   \n",
        "21                                                  NaN   \n",
        "22    Km 28, Cairo Alexandria Desert Rd., Smart Vill...   \n",
        "23    5th district Amr ebn elass st.0*area h*south o...   \n",
        "24    11 Rashdan st. dokki off of mesaha square 5th ...   \n",
        "25    Almostathmeroun Alshamaleya / of 90th road / a...   \n",
        "26                                                  NaN   \n",
        "27                                                  NaN   \n",
        "28    54 el madina el gadeda st madinat el tawfik Na...   \n",
        "29                                                  NaN   \n",
        "...                                                 ...   \n",
        "2278  1 Bashar Ebn Bord street, from Ahmed el Sawi f...   \n",
        "2279                                                NaN   \n",
        "2280  12 Khan Younis street, Mohandessin  Floor 11. ...   \n",
        "2281      Al Dyar compound .new Cairo  Villa 590L Cairo   \n",
        "2282                                                NaN   \n",
        "2283         Moonvalley Compound, Rd. 90  D11 New Cairo   \n",
        "2284                                                NaN   \n",
        "2285  Beverly Hills compound  Forty west . Building ...   \n",
        "2286          19 Menis Street, ElKorba Heliopolis Cairo   \n",
        "2287          19 tahawi st, golf area heliopolise cairo   \n",
        "2288  56 Nazih Khalifa St. Heliopolis  3rd floor, Ap...   \n",
        "2289  9 El Saada street, roxy, Heliopolis  April 181...   \n",
        "2290  566 Palestine St. Ground floor, Integrant Maad...   \n",
        "2291         Madinaty Group 17, Building 8 31 New Cairo   \n",
        "2292                                                NaN   \n",
        "2293                                                NaN   \n",
        "2294                                                NaN   \n",
        "2295  4d al gazira st. befor kism el gazira off nady...   \n",
        "2296                                                NaN   \n",
        "2297                                                NaN   \n",
        "2298                                                NaN   \n",
        "2299    Baron Palace/ Heliopolis (MEETING POINT ) cairo   \n",
        "2300                                                NaN   \n",
        "2301                                                NaN   \n",
        "2302  Rehab city, settlement 81, building 2 floor 3,...   \n",
        "2303  Al-obour City Golf City  B5 Flat No. 3  Entran...   \n",
        "2304                                                NaN   \n",
        "2305     Nada Compound, Entrance 2 Villa 2 Sheikh Zayed   \n",
        "2306           4038 me3raj olwi, maadi 201 maadi, cairo   \n",
        "2307      Mountain View behind el rehab villa 6 C cairo   \n",
        "\n",
        "                            Phone  Total orders  Average days between orders  \\\n",
        "0                     01090904137             1                     0.000000   \n",
        "1                     01222160835             2                    47.000000   \n",
        "2                     01023063292             4                     5.500000   \n",
        "3                     01221124426             3                   125.000000   \n",
        "4                     01001436666             3                     7.333333   \n",
        "5                     01005510543             2                     2.500000   \n",
        "6                   0100001224555             1                     0.000000   \n",
        "7                     01222174854             1                     0.000000   \n",
        "8                     01223221581             1                     0.000000   \n",
        "9                     01066656222             1                     0.000000   \n",
        "10                    01060002000             1                     0.000000   \n",
        "11                    01222344036            23                    18.304348   \n",
        "12                    01202070773             4                     2.750000   \n",
        "13    01026442230     01093551807             4                     4.000000   \n",
        "14                    01222103099             3                     0.666667   \n",
        "15                    01019078478             1                     0.000000   \n",
        "16                    01141224422             1                     0.000000   \n",
        "17                            NaN             1                     0.000000   \n",
        "18                    01117005877             1                     0.000000   \n",
        "19                    01009599615             3                     7.000000   \n",
        "20                    01202244355             1                     0.000000   \n",
        "21                    01003588073             3                    88.666667   \n",
        "22                  +201007901118             1                     0.000000   \n",
        "23                    01002280010             5                     2.800000   \n",
        "24                    01000100745            37                    27.567568   \n",
        "25                    01000993094             1                     0.000000   \n",
        "26                    01008020608             7                    18.000000   \n",
        "27                    01001415888             1                     0.000000   \n",
        "28                    01001415888             2                    80.500000   \n",
        "29                    01145997944             2                    56.000000   \n",
        "...                           ...           ...                          ...   \n",
        "2278               00201222240595             3                    99.666667   \n",
        "2279                  01001191212             1                     0.000000   \n",
        "2280                +201114400112             1                     0.000000   \n",
        "2281                  01149734254             3                    21.333333   \n",
        "2282                  01125699291             1                     0.000000   \n",
        "2283                  01069786059             2                     5.000000   \n",
        "2284                  01221888861             1                     0.000000   \n",
        "2285                  01150888848             4                    15.750000   \n",
        "2286                  01005047970             2                   149.500000   \n",
        "2287                +201223781733             1                     0.000000   \n",
        "2288               00201001108847             5                    31.400000   \n",
        "2289                  01222107517             1                     0.000000   \n",
        "2290                 201005211550             1                     0.000000   \n",
        "2291                  01000448740             6                    55.166667   \n",
        "2292                  01141222226             1                     0.000000   \n",
        "2293                  01025550552             1                     0.000000   \n",
        "2294                  01271188471             1                     0.000000   \n",
        "2295                   0227355135             3                     8.333333   \n",
        "2296                  01002261945             2                     0.500000   \n",
        "2297                  01000892677             2                     0.000000   \n",
        "2298                +201227759372             7                    35.714286   \n",
        "2299  01007077741  /  01008664628             2                    35.500000   \n",
        "2300                  01000350409             2                   219.000000   \n",
        "2301                  01002240643             1                     0.000000   \n",
        "2302                  01116835556             1                     0.000000   \n",
        "2303                  01097902883             1                     0.000000   \n",
        "2304                  01006061566             1                     0.000000   \n",
        "2305                  01125573521             2                    35.500000   \n",
        "2306               00201023982488             1                     0.000000   \n",
        "2307                  01005497979             7                    48.571429   \n",
        "\n",
        "                                  Email  Days from Last order      ...       \\\n",
        "0            11435mail@mkallenberger.de                   941      ...        \n",
        "1                         1@gargour.com                   260      ...        \n",
        "2                     1kttate@gmail.com                   114      ...        \n",
        "3             1youniqueflower@gmail.com                    23      ...        \n",
        "4                    3aliaa.h@gmail.com                   263      ...        \n",
        "5              777nadiateirah@gmail.com                    32      ...        \n",
        "6                             A2@ed.com                   102      ...        \n",
        "7               ASHRAF.M.ZAKI@GMAIL.COM                  1174      ...        \n",
        "8                  Adhamada@hotmail.com                  1262      ...        \n",
        "9           Ahmed.Habash@moevenpick.com                   263      ...        \n",
        "10    Ahmed.adel.abdelmonam@hotmail.com                   121      ...        \n",
        "11              Aliamossallam@gmail.com                     9      ...        \n",
        "12          Andrea.Heilman@aucegypt.edu                   291      ...        \n",
        "13              Asmaa.ahmed@hotmail.com                    37      ...        \n",
        "14               Attia.nevien@gmail.com                   331      ...        \n",
        "15                Azzassallam@gmail.com                   307      ...        \n",
        "16                    BAGBOUG@yahoo.com                   285      ...        \n",
        "17                    Bakryna@gmail.com                  1204      ...        \n",
        "18              Basmaha2010@hotmail.com                   249      ...        \n",
        "19                     Bebi84@gmail.com                   976      ...        \n",
        "20          Bouchra_erraiss@hotmail.com                   588      ...        \n",
        "21                    Bunny_Chan@web.de                   227      ...        \n",
        "22               Buty_Heart@hotmail.com                   209      ...        \n",
        "23          Camillia.Marmoush@gmail.com                    25      ...        \n",
        "24              Carinesabbagh@gmail.com                   240      ...        \n",
        "25                 DINA_KADRY@YAHOO.COM                    52      ...        \n",
        "26          Dina_eldessouky@hotmail.com                  1116      ...        \n",
        "27           Dina_hamada009@hotmail.com                   364      ...        \n",
        "28          Dina_hamada2009@hotmail.com                   210      ...        \n",
        "29               Doholly_86@hotmail.com                    74      ...        \n",
        "...                                 ...                   ...      ...        \n",
        "2278               youssefkhalil@me.com                    87      ...        \n",
        "2279           youssra.resaie@gmail.com                   526      ...        \n",
        "2280                  youssra@gmail.com                   281      ...        \n",
        "2281            youssra_kamal@yahoo.com                    22      ...        \n",
        "2282          youssraaashmawi@gmail.com                    73      ...        \n",
        "2283            yoyothetricky@gmail.com                     8      ...        \n",
        "2284                yrelraheb@gmail.com                  1017      ...        \n",
        "2285                yulbiba@hotmail.com                     7      ...        \n",
        "2286              yumnakassim@gmail.com                   509      ...        \n",
        "2287               z72addas@hotmail.com                   345      ...        \n",
        "2288              zaki.farida@gmail.com                    60      ...        \n",
        "2289                zedesem65@gmail.com                    39      ...        \n",
        "2290                  zee.nap@gmail.com                   113      ...        \n",
        "2291             zeina.kassas@gmail.com                   190      ...        \n",
        "2292          zeina_ahmed95@hotmail.com                   423      ...        \n",
        "2293             zeina_naim@hotmail.com                    35      ...        \n",
        "2294          zeinabahmedtaha@yahoo.com                  1055      ...        \n",
        "2295       zeinabkhalil2010@hotmail.com                   182      ...        \n",
        "2296               zeinabnour@gmail.com                   416      ...        \n",
        "2297               zeinahodroj@live.com                   276      ...        \n",
        "2298               zeinasabry@gmail.com                   574      ...        \n",
        "2299                zeinriham@gmail.com                    29      ...        \n",
        "2300            zenaabdelbaky@gmail.com                   148      ...        \n",
        "2301             zeyadattalla@yahoo.com                   225      ...        \n",
        "2302                 ziadihab@gmail.com                   247      ...        \n",
        "2303                ziadusama@ymail.com                    18      ...        \n",
        "2304                zinelhini@yahoo.com                   807      ...        \n",
        "2305                 zleseman@gmail.com                   976      ...        \n",
        "2306            zolaykha1st@hotmail.com                   375      ...        \n",
        "2307                zshafei@outlook.com                    20      ...        \n",
        "\n",
        "      4:00 - 6:00  6:00 - 8:00  8:00 - 10:00  10:00 - 12:00  12:00 - 14:00  \\\n",
        "0               0            0             0              0              0   \n",
        "1               0            0             0              0              0   \n",
        "2               0            0             2              1              1   \n",
        "3               0            0             0              0              1   \n",
        "4               0            0             0              0              0   \n",
        "5               0            0             0              1              1   \n",
        "6               0            0             0              0              1   \n",
        "7               0            0             1              0              0   \n",
        "8               0            0             0              0              0   \n",
        "9               0            0             0              0              0   \n",
        "10              0            0             0              0              0   \n",
        "11              0            0             0              5              5   \n",
        "12              0            0             0              2              2   \n",
        "13              0            0             0              0              0   \n",
        "14              0            0             0              0              0   \n",
        "15              0            0             0              1              0   \n",
        "16              0            0             0              0              0   \n",
        "17              0            0             0              0              0   \n",
        "18              0            0             0              0              0   \n",
        "19              0            0             0              0              1   \n",
        "20              0            0             0              0              1   \n",
        "21              0            0             0              0              1   \n",
        "22              0            0             0              0              0   \n",
        "23              0            0             0              3              2   \n",
        "24              1            0             3              2              3   \n",
        "25              0            0             0              1              0   \n",
        "26              0            0             0              0              2   \n",
        "27              0            0             0              1              0   \n",
        "28              0            0             0              0              0   \n",
        "29              0            0             0              0              0   \n",
        "...           ...          ...           ...            ...            ...   \n",
        "2278            0            0             0              1              0   \n",
        "2279            0            0             0              0              1   \n",
        "2280            0            0             0              0              0   \n",
        "2281            0            0             0              0              2   \n",
        "2282            0            0             0              0              0   \n",
        "2283            0            0             0              0              1   \n",
        "2284            0            0             0              0              1   \n",
        "2285            0            0             0              1              0   \n",
        "2286            0            0             0              0              0   \n",
        "2287            0            0             0              0              0   \n",
        "2288            0            0             0              0              0   \n",
        "2289            0            1             0              0              0   \n",
        "2290            0            0             0              0              0   \n",
        "2291            0            0             1              0              3   \n",
        "2292            0            0             0              0              0   \n",
        "2293            0            0             0              1              0   \n",
        "2294            0            0             0              0              0   \n",
        "2295            0            0             0              0              0   \n",
        "2296            0            0             0              1              0   \n",
        "2297            0            1             0              0              1   \n",
        "2298            0            0             0              2              2   \n",
        "2299            0            0             0              1              0   \n",
        "2300            0            0             0              0              0   \n",
        "2301            0            0             0              0              0   \n",
        "2302            0            0             0              0              0   \n",
        "2303            0            0             0              1              0   \n",
        "2304            0            0             0              0              0   \n",
        "2305            0            0             0              0              0   \n",
        "2306            0            0             1              0              0   \n",
        "2307            0            0             0              2              1   \n",
        "\n",
        "      14:00 - 16:00  16:00 - 18:00  18:00 - 20:00  20:00 - 22:00  22:00 - 0:00  \n",
        "0                 1              0              0              0             0  \n",
        "1                 1              1              0              0             0  \n",
        "2                 0              0              0              0             0  \n",
        "3                 0              1              0              0             1  \n",
        "4                 0              1              0              0             0  \n",
        "5                 0              0              0              0             0  \n",
        "6                 0              0              0              0             0  \n",
        "7                 0              0              0              0             0  \n",
        "8                 0              0              1              0             0  \n",
        "9                 1              0              0              0             0  \n",
        "10                0              0              0              0             0  \n",
        "11                5              2              2              2             0  \n",
        "12                0              0              0              0             0  \n",
        "13                1              2              1              0             0  \n",
        "14                2              1              0              0             0  \n",
        "15                0              0              0              0             0  \n",
        "16                0              0              0              0             0  \n",
        "17                0              0              0              0             0  \n",
        "18                0              0              0              0             1  \n",
        "19                0              1              0              0             1  \n",
        "20                0              0              0              0             0  \n",
        "21                0              1              0              1             0  \n",
        "22                0              1              0              0             0  \n",
        "23                0              0              0              0             0  \n",
        "24                2              5              2              2             5  \n",
        "25                0              0              0              0             0  \n",
        "26                1              1              0              1             0  \n",
        "27                0              0              0              0             0  \n",
        "28                1              0              0              0             1  \n",
        "29                1              0              0              0             1  \n",
        "...             ...            ...            ...            ...           ...  \n",
        "2278              1              0              0              0             0  \n",
        "2279              0              0              0              0             0  \n",
        "2280              0              1              0              0             0  \n",
        "2281              1              0              0              0             0  \n",
        "2282              0              1              0              0             0  \n",
        "2283              1              0              0              0             0  \n",
        "2284              0              0              0              0             0  \n",
        "2285              0              0              1              1             1  \n",
        "2286              1              0              0              0             1  \n",
        "2287              1              0              0              0             0  \n",
        "2288              1              2              2              0             0  \n",
        "2289              0              0              0              0             0  \n",
        "2290              0              0              1              0             0  \n",
        "2291              1              0              0              1             0  \n",
        "2292              0              0              0              1             0  \n",
        "2293              0              0              0              0             0  \n",
        "2294              0              1              0              0             0  \n",
        "2295              1              2              0              0             0  \n",
        "2296              0              1              0              0             0  \n",
        "2297              0              0              0              0             0  \n",
        "2298              0              0              2              0             0  \n",
        "2299              0              0              0              0             0  \n",
        "2300              0              0              1              0             0  \n",
        "2301              0              0              0              0             0  \n",
        "2302              0              0              0              0             0  \n",
        "2303              0              0              0              0             0  \n",
        "2304              0              1              0              0             0  \n",
        "2305              1              0              1              0             0  \n",
        "2306              0              0              0              0             0  \n",
        "2307              3              0              0              0             1  \n",
        "\n",
        "[2308 rows x 29 columns]"
       ]
      }
     ],
     "prompt_number": 11
    },
    {
     "cell_type": "code",
     "collapsed": false,
     "input": [
      "#df = pd.read_csv(cfg['root']+cfg['dir_data_shopify']+cfg[\"ip_orders\"],low_memory=False)\n",
      "df = pd.read_csv('C:\\Users\\saisree849\\Documents\\GitHub\\NGS-2.0\\\\12_dashboard_tables\\data_input\\shopify\\orders_export.csv', low_memory=False)\n",
      "df1 = df[['Lineitem quantity', 'Lineitem price']]\n",
      "\n",
      "#calculate revenue\n",
      "df1['Revenue'] = df1.apply(lambda x: x['Lineitem quantity'] * x['Lineitem price'], axis=1)\n",
      "\n",
      "df1=df1[['Lineitem quantity', 'Revenue']]\n",
      "df1"
     ],
     "language": "python",
     "metadata": {},
     "outputs": [
      {
       "output_type": "stream",
       "stream": "stderr",
       "text": [
        "-c:6: SettingWithCopyWarning: \n",
        "A value is trying to be set on a copy of a slice from a DataFrame.\n",
        "Try using .loc[row_indexer,col_indexer] = value instead\n",
        "\n",
        "See the the caveats in the documentation: http://pandas.pydata.org/pandas-docs/stable/indexing.html#indexing-view-versus-copy\n"
       ]
      },
      {
       "html": [
        "<div style=\"max-height:1000px;max-width:1500px;overflow:auto;\">\n",
        "<table border=\"1\" class=\"dataframe\">\n",
        "  <thead>\n",
        "    <tr style=\"text-align: right;\">\n",
        "      <th></th>\n",
        "      <th>Lineitem quantity</th>\n",
        "      <th>Revenue</th>\n",
        "    </tr>\n",
        "  </thead>\n",
        "  <tbody>\n",
        "    <tr>\n",
        "      <th>0    </th>\n",
        "      <td> 4</td>\n",
        "      <td> 180.00</td>\n",
        "    </tr>\n",
        "    <tr>\n",
        "      <th>1    </th>\n",
        "      <td> 2</td>\n",
        "      <td>  14.40</td>\n",
        "    </tr>\n",
        "    <tr>\n",
        "      <th>2    </th>\n",
        "      <td> 3</td>\n",
        "      <td> 180.90</td>\n",
        "    </tr>\n",
        "    <tr>\n",
        "      <th>3    </th>\n",
        "      <td> 1</td>\n",
        "      <td>  30.60</td>\n",
        "    </tr>\n",
        "    <tr>\n",
        "      <th>4    </th>\n",
        "      <td> 1</td>\n",
        "      <td>  10.80</td>\n",
        "    </tr>\n",
        "    <tr>\n",
        "      <th>5    </th>\n",
        "      <td> 3</td>\n",
        "      <td> 121.50</td>\n",
        "    </tr>\n",
        "    <tr>\n",
        "      <th>6    </th>\n",
        "      <td> 1</td>\n",
        "      <td>   2.10</td>\n",
        "    </tr>\n",
        "    <tr>\n",
        "      <th>7    </th>\n",
        "      <td> 1</td>\n",
        "      <td>   7.20</td>\n",
        "    </tr>\n",
        "    <tr>\n",
        "      <th>8    </th>\n",
        "      <td> 1</td>\n",
        "      <td>   7.20</td>\n",
        "    </tr>\n",
        "    <tr>\n",
        "      <th>9    </th>\n",
        "      <td> 1</td>\n",
        "      <td>  60.30</td>\n",
        "    </tr>\n",
        "    <tr>\n",
        "      <th>10   </th>\n",
        "      <td> 1</td>\n",
        "      <td>   7.20</td>\n",
        "    </tr>\n",
        "    <tr>\n",
        "      <th>11   </th>\n",
        "      <td> 1</td>\n",
        "      <td>  45.00</td>\n",
        "    </tr>\n",
        "    <tr>\n",
        "      <th>12   </th>\n",
        "      <td> 1</td>\n",
        "      <td>  60.30</td>\n",
        "    </tr>\n",
        "    <tr>\n",
        "      <th>13   </th>\n",
        "      <td> 1</td>\n",
        "      <td>  33.30</td>\n",
        "    </tr>\n",
        "    <tr>\n",
        "      <th>14   </th>\n",
        "      <td> 1</td>\n",
        "      <td>  60.30</td>\n",
        "    </tr>\n",
        "    <tr>\n",
        "      <th>15   </th>\n",
        "      <td> 1</td>\n",
        "      <td> 114.00</td>\n",
        "    </tr>\n",
        "    <tr>\n",
        "      <th>16   </th>\n",
        "      <td> 1</td>\n",
        "      <td> 114.00</td>\n",
        "    </tr>\n",
        "    <tr>\n",
        "      <th>17   </th>\n",
        "      <td> 1</td>\n",
        "      <td>  98.00</td>\n",
        "    </tr>\n",
        "    <tr>\n",
        "      <th>18   </th>\n",
        "      <td> 1</td>\n",
        "      <td>  65.00</td>\n",
        "    </tr>\n",
        "    <tr>\n",
        "      <th>19   </th>\n",
        "      <td> 1</td>\n",
        "      <td>  57.60</td>\n",
        "    </tr>\n",
        "    <tr>\n",
        "      <th>20   </th>\n",
        "      <td> 1</td>\n",
        "      <td>  57.60</td>\n",
        "    </tr>\n",
        "    <tr>\n",
        "      <th>21   </th>\n",
        "      <td> 4</td>\n",
        "      <td> 592.00</td>\n",
        "    </tr>\n",
        "    <tr>\n",
        "      <th>22   </th>\n",
        "      <td> 1</td>\n",
        "      <td>  70.20</td>\n",
        "    </tr>\n",
        "    <tr>\n",
        "      <th>23   </th>\n",
        "      <td> 1</td>\n",
        "      <td>  41.00</td>\n",
        "    </tr>\n",
        "    <tr>\n",
        "      <th>24   </th>\n",
        "      <td> 2</td>\n",
        "      <td>   8.50</td>\n",
        "    </tr>\n",
        "    <tr>\n",
        "      <th>25   </th>\n",
        "      <td> 1</td>\n",
        "      <td>  10.80</td>\n",
        "    </tr>\n",
        "    <tr>\n",
        "      <th>26   </th>\n",
        "      <td> 2</td>\n",
        "      <td> 115.20</td>\n",
        "    </tr>\n",
        "    <tr>\n",
        "      <th>27   </th>\n",
        "      <td> 2</td>\n",
        "      <td> 115.20</td>\n",
        "    </tr>\n",
        "    <tr>\n",
        "      <th>28   </th>\n",
        "      <td> 2</td>\n",
        "      <td>  81.00</td>\n",
        "    </tr>\n",
        "    <tr>\n",
        "      <th>29   </th>\n",
        "      <td> 1</td>\n",
        "      <td>  60.30</td>\n",
        "    </tr>\n",
        "    <tr>\n",
        "      <th>...</th>\n",
        "      <td>...</td>\n",
        "      <td>...</td>\n",
        "    </tr>\n",
        "    <tr>\n",
        "      <th>60742</th>\n",
        "      <td> 1</td>\n",
        "      <td>  11.38</td>\n",
        "    </tr>\n",
        "    <tr>\n",
        "      <th>60743</th>\n",
        "      <td> 1</td>\n",
        "      <td>  21.13</td>\n",
        "    </tr>\n",
        "    <tr>\n",
        "      <th>60744</th>\n",
        "      <td> 2</td>\n",
        "      <td>  20.80</td>\n",
        "    </tr>\n",
        "    <tr>\n",
        "      <th>60745</th>\n",
        "      <td> 5</td>\n",
        "      <td> 222.30</td>\n",
        "    </tr>\n",
        "    <tr>\n",
        "      <th>60746</th>\n",
        "      <td> 1</td>\n",
        "      <td>   8.19</td>\n",
        "    </tr>\n",
        "    <tr>\n",
        "      <th>60747</th>\n",
        "      <td> 1</td>\n",
        "      <td>  45.50</td>\n",
        "    </tr>\n",
        "    <tr>\n",
        "      <th>60748</th>\n",
        "      <td> 1</td>\n",
        "      <td>  10.40</td>\n",
        "    </tr>\n",
        "    <tr>\n",
        "      <th>60749</th>\n",
        "      <td> 1</td>\n",
        "      <td>  16.58</td>\n",
        "    </tr>\n",
        "    <tr>\n",
        "      <th>60750</th>\n",
        "      <td> 1</td>\n",
        "      <td>   9.36</td>\n",
        "    </tr>\n",
        "    <tr>\n",
        "      <th>60751</th>\n",
        "      <td> 1</td>\n",
        "      <td>  26.00</td>\n",
        "    </tr>\n",
        "    <tr>\n",
        "      <th>60752</th>\n",
        "      <td> 1</td>\n",
        "      <td>  39.52</td>\n",
        "    </tr>\n",
        "    <tr>\n",
        "      <th>60753</th>\n",
        "      <td> 5</td>\n",
        "      <td>  45.50</td>\n",
        "    </tr>\n",
        "    <tr>\n",
        "      <th>60754</th>\n",
        "      <td> 3</td>\n",
        "      <td>  79.95</td>\n",
        "    </tr>\n",
        "    <tr>\n",
        "      <th>60755</th>\n",
        "      <td> 2</td>\n",
        "      <td> 113.76</td>\n",
        "    </tr>\n",
        "    <tr>\n",
        "      <th>60756</th>\n",
        "      <td> 2</td>\n",
        "      <td> 113.76</td>\n",
        "    </tr>\n",
        "    <tr>\n",
        "      <th>60757</th>\n",
        "      <td> 2</td>\n",
        "      <td>  42.26</td>\n",
        "    </tr>\n",
        "    <tr>\n",
        "      <th>60758</th>\n",
        "      <td> 1</td>\n",
        "      <td>   7.80</td>\n",
        "    </tr>\n",
        "    <tr>\n",
        "      <th>60759</th>\n",
        "      <td> 1</td>\n",
        "      <td>  22.10</td>\n",
        "    </tr>\n",
        "    <tr>\n",
        "      <th>60760</th>\n",
        "      <td> 1</td>\n",
        "      <td>  40.95</td>\n",
        "    </tr>\n",
        "    <tr>\n",
        "      <th>60761</th>\n",
        "      <td> 1</td>\n",
        "      <td>  26.65</td>\n",
        "    </tr>\n",
        "    <tr>\n",
        "      <th>60762</th>\n",
        "      <td> 1</td>\n",
        "      <td>  21.13</td>\n",
        "    </tr>\n",
        "    <tr>\n",
        "      <th>60763</th>\n",
        "      <td> 1</td>\n",
        "      <td>   9.10</td>\n",
        "    </tr>\n",
        "    <tr>\n",
        "      <th>60764</th>\n",
        "      <td> 1</td>\n",
        "      <td>  26.65</td>\n",
        "    </tr>\n",
        "    <tr>\n",
        "      <th>60765</th>\n",
        "      <td> 1</td>\n",
        "      <td>  52.00</td>\n",
        "    </tr>\n",
        "    <tr>\n",
        "      <th>60766</th>\n",
        "      <td> 1</td>\n",
        "      <td>  56.88</td>\n",
        "    </tr>\n",
        "    <tr>\n",
        "      <th>60767</th>\n",
        "      <td> 1</td>\n",
        "      <td>  56.88</td>\n",
        "    </tr>\n",
        "    <tr>\n",
        "      <th>60768</th>\n",
        "      <td> 1</td>\n",
        "      <td>   8.19</td>\n",
        "    </tr>\n",
        "    <tr>\n",
        "      <th>60769</th>\n",
        "      <td> 1</td>\n",
        "      <td>  10.40</td>\n",
        "    </tr>\n",
        "    <tr>\n",
        "      <th>60770</th>\n",
        "      <td> 1</td>\n",
        "      <td>  26.65</td>\n",
        "    </tr>\n",
        "    <tr>\n",
        "      <th>60771</th>\n",
        "      <td> 1</td>\n",
        "      <td>   9.36</td>\n",
        "    </tr>\n",
        "  </tbody>\n",
        "</table>\n",
        "<p>60772 rows \u00d7 2 columns</p>\n",
        "</div>"
       ],
       "metadata": {},
       "output_type": "pyout",
       "prompt_number": 13,
       "text": [
        "       Lineitem quantity  Revenue\n",
        "0                      4   180.00\n",
        "1                      2    14.40\n",
        "2                      3   180.90\n",
        "3                      1    30.60\n",
        "4                      1    10.80\n",
        "5                      3   121.50\n",
        "6                      1     2.10\n",
        "7                      1     7.20\n",
        "8                      1     7.20\n",
        "9                      1    60.30\n",
        "10                     1     7.20\n",
        "11                     1    45.00\n",
        "12                     1    60.30\n",
        "13                     1    33.30\n",
        "14                     1    60.30\n",
        "15                     1   114.00\n",
        "16                     1   114.00\n",
        "17                     1    98.00\n",
        "18                     1    65.00\n",
        "19                     1    57.60\n",
        "20                     1    57.60\n",
        "21                     4   592.00\n",
        "22                     1    70.20\n",
        "23                     1    41.00\n",
        "24                     2     8.50\n",
        "25                     1    10.80\n",
        "26                     2   115.20\n",
        "27                     2   115.20\n",
        "28                     2    81.00\n",
        "29                     1    60.30\n",
        "...                  ...      ...\n",
        "60742                  1    11.38\n",
        "60743                  1    21.13\n",
        "60744                  2    20.80\n",
        "60745                  5   222.30\n",
        "60746                  1     8.19\n",
        "60747                  1    45.50\n",
        "60748                  1    10.40\n",
        "60749                  1    16.58\n",
        "60750                  1     9.36\n",
        "60751                  1    26.00\n",
        "60752                  1    39.52\n",
        "60753                  5    45.50\n",
        "60754                  3    79.95\n",
        "60755                  2   113.76\n",
        "60756                  2   113.76\n",
        "60757                  2    42.26\n",
        "60758                  1     7.80\n",
        "60759                  1    22.10\n",
        "60760                  1    40.95\n",
        "60761                  1    26.65\n",
        "60762                  1    21.13\n",
        "60763                  1     9.10\n",
        "60764                  1    26.65\n",
        "60765                  1    52.00\n",
        "60766                  1    56.88\n",
        "60767                  1    56.88\n",
        "60768                  1     8.19\n",
        "60769                  1    10.40\n",
        "60770                  1    26.65\n",
        "60771                  1     9.36\n",
        "\n",
        "[60772 rows x 2 columns]"
       ]
      }
     ],
     "prompt_number": 13
    },
    {
     "cell_type": "code",
     "collapsed": false,
     "input": [
      "df = df[['Email']]\n",
      "df = df.drop_duplicates().reset_index().drop('index',1)\n",
      "df"
     ],
     "language": "python",
     "metadata": {},
     "outputs": [
      {
       "html": [
        "<div style=\"max-height:1000px;max-width:1500px;overflow:auto;\">\n",
        "<table border=\"1\" class=\"dataframe\">\n",
        "  <thead>\n",
        "    <tr style=\"text-align: right;\">\n",
        "      <th></th>\n",
        "      <th>Email</th>\n",
        "    </tr>\n",
        "  </thead>\n",
        "  <tbody>\n",
        "    <tr>\n",
        "      <th>0   </th>\n",
        "      <td>     rehabmansour@gmail.com</td>\n",
        "    </tr>\n",
        "    <tr>\n",
        "      <th>1   </th>\n",
        "      <td>        nabouheif@yahoo.com</td>\n",
        "    </tr>\n",
        "    <tr>\n",
        "      <th>2   </th>\n",
        "      <td>     fracicardi@hotmail.com</td>\n",
        "    </tr>\n",
        "    <tr>\n",
        "      <th>3   </th>\n",
        "      <td>     ahmed.fakhry@gmail.com</td>\n",
        "    </tr>\n",
        "    <tr>\n",
        "      <th>4   </th>\n",
        "      <td>       Missilou11@yahoo.com</td>\n",
        "    </tr>\n",
        "    <tr>\n",
        "      <th>5   </th>\n",
        "      <td>    sallysalem123@gmail.com</td>\n",
        "    </tr>\n",
        "    <tr>\n",
        "      <th>6   </th>\n",
        "      <td>   nayera_fadel@hotmail.com</td>\n",
        "    </tr>\n",
        "    <tr>\n",
        "      <th>7   </th>\n",
        "      <td>      raoufzdn553@gmail.com</td>\n",
        "    </tr>\n",
        "    <tr>\n",
        "      <th>8   </th>\n",
        "      <td>     gaylynmbogho@yahoo.com</td>\n",
        "    </tr>\n",
        "    <tr>\n",
        "      <th>9   </th>\n",
        "      <td>       oshahavi13@gmail.com</td>\n",
        "    </tr>\n",
        "    <tr>\n",
        "      <th>10  </th>\n",
        "      <td>       Daiieldeeb@gmail.com</td>\n",
        "    </tr>\n",
        "    <tr>\n",
        "      <th>11  </th>\n",
        "      <td>        yara.azam@gmail.com</td>\n",
        "    </tr>\n",
        "    <tr>\n",
        "      <th>12  </th>\n",
        "      <td>      dalia_allam@yahoo.com</td>\n",
        "    </tr>\n",
        "    <tr>\n",
        "      <th>13  </th>\n",
        "      <td>      elhanem52@hotmail.com</td>\n",
        "    </tr>\n",
        "    <tr>\n",
        "      <th>14  </th>\n",
        "      <td>   tarek_seddik@hotmail.com</td>\n",
        "    </tr>\n",
        "    <tr>\n",
        "      <th>15  </th>\n",
        "      <td>    maie.nomrossy@gmail.com</td>\n",
        "    </tr>\n",
        "    <tr>\n",
        "      <th>16  </th>\n",
        "      <td>      hazem.shamy@gmail.com</td>\n",
        "    </tr>\n",
        "    <tr>\n",
        "      <th>17  </th>\n",
        "      <td>     maya.p.nawal@gmail.com</td>\n",
        "    </tr>\n",
        "    <tr>\n",
        "      <th>18  </th>\n",
        "      <td>  jamesmorgan0091@gmail.com</td>\n",
        "    </tr>\n",
        "    <tr>\n",
        "      <th>19  </th>\n",
        "      <td>       israa_s@aucegypt.edu</td>\n",
        "    </tr>\n",
        "    <tr>\n",
        "      <th>20  </th>\n",
        "      <td>     RODY.DOVE123@GMAIL.COM</td>\n",
        "    </tr>\n",
        "    <tr>\n",
        "      <th>21  </th>\n",
        "      <td>     amaghraby@mediawave.me</td>\n",
        "    </tr>\n",
        "    <tr>\n",
        "      <th>22  </th>\n",
        "      <td>        hibba_b@hotmail.com</td>\n",
        "    </tr>\n",
        "    <tr>\n",
        "      <th>23  </th>\n",
        "      <td>     pascalenader@gmail.com</td>\n",
        "    </tr>\n",
        "    <tr>\n",
        "      <th>24  </th>\n",
        "      <td>     doaa.khattab@gmail.com</td>\n",
        "    </tr>\n",
        "    <tr>\n",
        "      <th>25  </th>\n",
        "      <td>     sunset_456@hotmail.com</td>\n",
        "    </tr>\n",
        "    <tr>\n",
        "      <th>26  </th>\n",
        "      <td> colleen_lovely@hotmail.com</td>\n",
        "    </tr>\n",
        "    <tr>\n",
        "      <th>27  </th>\n",
        "      <td>           imrhazi@yahoo.fr</td>\n",
        "    </tr>\n",
        "    <tr>\n",
        "      <th>28  </th>\n",
        "      <td>  nadyagamaleldin@gmail.com</td>\n",
        "    </tr>\n",
        "    <tr>\n",
        "      <th>29  </th>\n",
        "      <td>        engywasfy@gmail.com</td>\n",
        "    </tr>\n",
        "    <tr>\n",
        "      <th>...</th>\n",
        "      <td>...</td>\n",
        "    </tr>\n",
        "    <tr>\n",
        "      <th>2379</th>\n",
        "      <td>   lucia.gallio@mailbase.it</td>\n",
        "    </tr>\n",
        "    <tr>\n",
        "      <th>2380</th>\n",
        "      <td>      sairymaid82@yahoo.com</td>\n",
        "    </tr>\n",
        "    <tr>\n",
        "      <th>2381</th>\n",
        "      <td>              Rulah@msn.com</td>\n",
        "    </tr>\n",
        "    <tr>\n",
        "      <th>2382</th>\n",
        "      <td>       beingdas@hotmail.com</td>\n",
        "    </tr>\n",
        "    <tr>\n",
        "      <th>2383</th>\n",
        "      <td>  heba_bibo2001@hotmail.com</td>\n",
        "    </tr>\n",
        "    <tr>\n",
        "      <th>2384</th>\n",
        "      <td>       mannusch@hotmail.com</td>\n",
        "    </tr>\n",
        "    <tr>\n",
        "      <th>2385</th>\n",
        "      <td>       manno505@hotmail.com</td>\n",
        "    </tr>\n",
        "    <tr>\n",
        "      <th>2386</th>\n",
        "      <td>  ashrafgadalla@hotmail.com</td>\n",
        "    </tr>\n",
        "    <tr>\n",
        "      <th>2387</th>\n",
        "      <td>      imanbegermy@yahoo.com</td>\n",
        "    </tr>\n",
        "    <tr>\n",
        "      <th>2388</th>\n",
        "      <td>    kareemhelmy@hotmail.com</td>\n",
        "    </tr>\n",
        "    <tr>\n",
        "      <th>2389</th>\n",
        "      <td>         paceinte@gmail.com</td>\n",
        "    </tr>\n",
        "    <tr>\n",
        "      <th>2390</th>\n",
        "      <td>       sarah88@aucegypt.edu</td>\n",
        "    </tr>\n",
        "    <tr>\n",
        "      <th>2391</th>\n",
        "      <td>      taherbenany@gmail.com</td>\n",
        "    </tr>\n",
        "    <tr>\n",
        "      <th>2392</th>\n",
        "      <td>      springeta@hotmail.com</td>\n",
        "    </tr>\n",
        "    <tr>\n",
        "      <th>2393</th>\n",
        "      <td>        ahdabsamy@yahoo.com</td>\n",
        "    </tr>\n",
        "    <tr>\n",
        "      <th>2394</th>\n",
        "      <td>      mohsen.wake@gmail.com</td>\n",
        "    </tr>\n",
        "    <tr>\n",
        "      <th>2395</th>\n",
        "      <td>               syl@link.net</td>\n",
        "    </tr>\n",
        "    <tr>\n",
        "      <th>2396</th>\n",
        "      <td>   raghebelgammal@yahoo.com</td>\n",
        "    </tr>\n",
        "    <tr>\n",
        "      <th>2397</th>\n",
        "      <td>          r.medhat@link.net</td>\n",
        "    </tr>\n",
        "    <tr>\n",
        "      <th>2398</th>\n",
        "      <td>          lompo30@yahoo.com</td>\n",
        "    </tr>\n",
        "    <tr>\n",
        "      <th>2399</th>\n",
        "      <td>          fgkarim@yahoo.com</td>\n",
        "    </tr>\n",
        "    <tr>\n",
        "      <th>2400</th>\n",
        "      <td>     mireilleamin@yahoo.com</td>\n",
        "    </tr>\n",
        "    <tr>\n",
        "      <th>2401</th>\n",
        "      <td> Ihab.derias@laroche.com.eg</td>\n",
        "    </tr>\n",
        "    <tr>\n",
        "      <th>2402</th>\n",
        "      <td>       Adhamada@hotmail.com</td>\n",
        "    </tr>\n",
        "    <tr>\n",
        "      <th>2403</th>\n",
        "      <td>   houssam.elokda@gmail.com</td>\n",
        "    </tr>\n",
        "    <tr>\n",
        "      <th>2404</th>\n",
        "      <td>        Hania7894@gmail.com</td>\n",
        "    </tr>\n",
        "    <tr>\n",
        "      <th>2405</th>\n",
        "      <td>      fairymaid82@yahoo.com</td>\n",
        "    </tr>\n",
        "    <tr>\n",
        "      <th>2406</th>\n",
        "      <td>           Biro5s@yahoo.com</td>\n",
        "    </tr>\n",
        "    <tr>\n",
        "      <th>2407</th>\n",
        "      <td>       nini.etoile@voila.fr</td>\n",
        "    </tr>\n",
        "    <tr>\n",
        "      <th>2408</th>\n",
        "      <td>       cathypod@hotmail.com</td>\n",
        "    </tr>\n",
        "  </tbody>\n",
        "</table>\n",
        "<p>2409 rows \u00d7 1 columns</p>\n",
        "</div>"
       ],
       "metadata": {},
       "output_type": "pyout",
       "prompt_number": 14,
       "text": [
        "                           Email\n",
        "0         rehabmansour@gmail.com\n",
        "1            nabouheif@yahoo.com\n",
        "2         fracicardi@hotmail.com\n",
        "3         ahmed.fakhry@gmail.com\n",
        "4           Missilou11@yahoo.com\n",
        "5        sallysalem123@gmail.com\n",
        "6       nayera_fadel@hotmail.com\n",
        "7          raoufzdn553@gmail.com\n",
        "8         gaylynmbogho@yahoo.com\n",
        "9           oshahavi13@gmail.com\n",
        "10          Daiieldeeb@gmail.com\n",
        "11           yara.azam@gmail.com\n",
        "12         dalia_allam@yahoo.com\n",
        "13         elhanem52@hotmail.com\n",
        "14      tarek_seddik@hotmail.com\n",
        "15       maie.nomrossy@gmail.com\n",
        "16         hazem.shamy@gmail.com\n",
        "17        maya.p.nawal@gmail.com\n",
        "18     jamesmorgan0091@gmail.com\n",
        "19          israa_s@aucegypt.edu\n",
        "20        RODY.DOVE123@GMAIL.COM\n",
        "21        amaghraby@mediawave.me\n",
        "22           hibba_b@hotmail.com\n",
        "23        pascalenader@gmail.com\n",
        "24        doaa.khattab@gmail.com\n",
        "25        sunset_456@hotmail.com\n",
        "26    colleen_lovely@hotmail.com\n",
        "27              imrhazi@yahoo.fr\n",
        "28     nadyagamaleldin@gmail.com\n",
        "29           engywasfy@gmail.com\n",
        "...                          ...\n",
        "2379    lucia.gallio@mailbase.it\n",
        "2380       sairymaid82@yahoo.com\n",
        "2381               Rulah@msn.com\n",
        "2382        beingdas@hotmail.com\n",
        "2383   heba_bibo2001@hotmail.com\n",
        "2384        mannusch@hotmail.com\n",
        "2385        manno505@hotmail.com\n",
        "2386   ashrafgadalla@hotmail.com\n",
        "2387       imanbegermy@yahoo.com\n",
        "2388     kareemhelmy@hotmail.com\n",
        "2389          paceinte@gmail.com\n",
        "2390        sarah88@aucegypt.edu\n",
        "2391       taherbenany@gmail.com\n",
        "2392       springeta@hotmail.com\n",
        "2393         ahdabsamy@yahoo.com\n",
        "2394       mohsen.wake@gmail.com\n",
        "2395                syl@link.net\n",
        "2396    raghebelgammal@yahoo.com\n",
        "2397           r.medhat@link.net\n",
        "2398           lompo30@yahoo.com\n",
        "2399           fgkarim@yahoo.com\n",
        "2400      mireilleamin@yahoo.com\n",
        "2401  Ihab.derias@laroche.com.eg\n",
        "2402        Adhamada@hotmail.com\n",
        "2403    houssam.elokda@gmail.com\n",
        "2404         Hania7894@gmail.com\n",
        "2405       fairymaid82@yahoo.com\n",
        "2406            Biro5s@yahoo.com\n",
        "2407        nini.etoile@voila.fr\n",
        "2408        cathypod@hotmail.com\n",
        "\n",
        "[2409 rows x 1 columns]"
       ]
      }
     ],
     "prompt_number": 14
    },
    {
     "cell_type": "code",
     "collapsed": false,
     "input": [
      "#calculate avg revenue, avg basket size\n",
      "df1 = df1.sum()\n",
      "df4['Average Revenue'] = df1['Revenue']/float(max(df.index)+1)\n",
      "df4['Average Basket Size'] = df1['Lineitem quantity']/float(max(df.index)+1)\n",
      "df4"
     ],
     "language": "python",
     "metadata": {},
     "outputs": [
      {
       "html": [
        "<div style=\"max-height:1000px;max-width:1500px;overflow:auto;\">\n",
        "<table border=\"1\" class=\"dataframe\">\n",
        "  <thead>\n",
        "    <tr style=\"text-align: right;\">\n",
        "      <th></th>\n",
        "      <th>Name</th>\n",
        "      <th>Revenue</th>\n",
        "      <th>Basket Value</th>\n",
        "      <th>Segment</th>\n",
        "      <th>Address</th>\n",
        "      <th>Phone</th>\n",
        "      <th>Total orders</th>\n",
        "      <th>Average days between orders</th>\n",
        "      <th>Email</th>\n",
        "      <th>Days from Last order</th>\n",
        "      <th>...</th>\n",
        "      <th>8:00 - 10:00</th>\n",
        "      <th>10:00 - 12:00</th>\n",
        "      <th>12:00 - 14:00</th>\n",
        "      <th>14:00 - 16:00</th>\n",
        "      <th>16:00 - 18:00</th>\n",
        "      <th>18:00 - 20:00</th>\n",
        "      <th>20:00 - 22:00</th>\n",
        "      <th>22:00 - 0:00</th>\n",
        "      <th>Average Revenue</th>\n",
        "      <th>Average Basket Size</th>\n",
        "    </tr>\n",
        "  </thead>\n",
        "  <tbody>\n",
        "    <tr>\n",
        "      <th>0   </th>\n",
        "      <td> Magdalena Kallenberger</td>\n",
        "      <td>   267.17</td>\n",
        "      <td> 267.170000</td>\n",
        "      <td>          Fresh Beef &amp; Poultry</td>\n",
        "      <td>                                               NaN</td>\n",
        "      <td>                 01090904137</td>\n",
        "      <td>  1</td>\n",
        "      <td>   0.000000</td>\n",
        "      <td>        11435mail@mkallenberger.de</td>\n",
        "      <td>  941</td>\n",
        "      <td>...</td>\n",
        "      <td> 0</td>\n",
        "      <td> 0</td>\n",
        "      <td> 0</td>\n",
        "      <td> 1</td>\n",
        "      <td> 0</td>\n",
        "      <td> 0</td>\n",
        "      <td> 0</td>\n",
        "      <td> 0</td>\n",
        "      <td> 1149.346496</td>\n",
        "      <td> 38.447904</td>\n",
        "    </tr>\n",
        "    <tr>\n",
        "      <th>1   </th>\n",
        "      <td>          Alain  Phar\u00e8s</td>\n",
        "      <td>  1001.10</td>\n",
        "      <td> 500.550000</td>\n",
        "      <td>                       Variety</td>\n",
        "      <td>                  31 golf street  app 69/6th maadi</td>\n",
        "      <td>                 01222160835</td>\n",
        "      <td>  2</td>\n",
        "      <td>  47.000000</td>\n",
        "      <td>                     1@gargour.com</td>\n",
        "      <td>  260</td>\n",
        "      <td>...</td>\n",
        "      <td> 0</td>\n",
        "      <td> 0</td>\n",
        "      <td> 0</td>\n",
        "      <td> 1</td>\n",
        "      <td> 1</td>\n",
        "      <td> 0</td>\n",
        "      <td> 0</td>\n",
        "      <td> 0</td>\n",
        "      <td> 1149.346496</td>\n",
        "      <td> 38.447904</td>\n",
        "    </tr>\n",
        "    <tr>\n",
        "      <th>2   </th>\n",
        "      <td>             Kelly Tate</td>\n",
        "      <td>   648.00</td>\n",
        "      <td> 162.000000</td>\n",
        "      <td>                    Vegetables</td>\n",
        "      <td> Street 33, Building 154, Area 1, Group 2, Taga...</td>\n",
        "      <td>                 01023063292</td>\n",
        "      <td>  4</td>\n",
        "      <td>   5.500000</td>\n",
        "      <td>                 1kttate@gmail.com</td>\n",
        "      <td>  114</td>\n",
        "      <td>...</td>\n",
        "      <td> 2</td>\n",
        "      <td> 1</td>\n",
        "      <td> 1</td>\n",
        "      <td> 0</td>\n",
        "      <td> 0</td>\n",
        "      <td> 0</td>\n",
        "      <td> 0</td>\n",
        "      <td> 0</td>\n",
        "      <td> 1149.346496</td>\n",
        "      <td> 38.447904</td>\n",
        "    </tr>\n",
        "    <tr>\n",
        "      <th>3   </th>\n",
        "      <td>             Lara Scott</td>\n",
        "      <td>   909.00</td>\n",
        "      <td> 303.000000</td>\n",
        "      <td>                       Variety</td>\n",
        "      <td> 23 Abdalla Deraz St.  #203 - 2nd Floor, left s...</td>\n",
        "      <td>                 01221124426</td>\n",
        "      <td>  3</td>\n",
        "      <td> 125.000000</td>\n",
        "      <td>         1youniqueflower@gmail.com</td>\n",
        "      <td>   23</td>\n",
        "      <td>...</td>\n",
        "      <td> 0</td>\n",
        "      <td> 0</td>\n",
        "      <td> 1</td>\n",
        "      <td> 0</td>\n",
        "      <td> 1</td>\n",
        "      <td> 0</td>\n",
        "      <td> 0</td>\n",
        "      <td> 1</td>\n",
        "      <td> 1149.346496</td>\n",
        "      <td> 38.447904</td>\n",
        "    </tr>\n",
        "    <tr>\n",
        "      <th>4   </th>\n",
        "      <td>          mohamed tolba</td>\n",
        "      <td>   160.00</td>\n",
        "      <td>  53.333333</td>\n",
        "      <td>                       Variety</td>\n",
        "      <td>        11 shams el din el koufy st  17 heliopolis</td>\n",
        "      <td>                 01001436666</td>\n",
        "      <td>  3</td>\n",
        "      <td>   7.333333</td>\n",
        "      <td>                3aliaa.h@gmail.com</td>\n",
        "      <td>  263</td>\n",
        "      <td>...</td>\n",
        "      <td> 0</td>\n",
        "      <td> 0</td>\n",
        "      <td> 0</td>\n",
        "      <td> 0</td>\n",
        "      <td> 1</td>\n",
        "      <td> 0</td>\n",
        "      <td> 0</td>\n",
        "      <td> 0</td>\n",
        "      <td> 1149.346496</td>\n",
        "      <td> 38.447904</td>\n",
        "    </tr>\n",
        "    <tr>\n",
        "      <th>5   </th>\n",
        "      <td>           Nadia Teirah</td>\n",
        "      <td>   290.00</td>\n",
        "      <td> 145.000000</td>\n",
        "      <td>                           NaN</td>\n",
        "      <td>                                               NaN</td>\n",
        "      <td>                 01005510543</td>\n",
        "      <td>  2</td>\n",
        "      <td>   2.500000</td>\n",
        "      <td>          777nadiateirah@gmail.com</td>\n",
        "      <td>   32</td>\n",
        "      <td>...</td>\n",
        "      <td> 0</td>\n",
        "      <td> 1</td>\n",
        "      <td> 1</td>\n",
        "      <td> 0</td>\n",
        "      <td> 0</td>\n",
        "      <td> 0</td>\n",
        "      <td> 0</td>\n",
        "      <td> 0</td>\n",
        "      <td> 1149.346496</td>\n",
        "      <td> 38.447904</td>\n",
        "    </tr>\n",
        "    <tr>\n",
        "      <th>6   </th>\n",
        "      <td>          Aladdin Nabil</td>\n",
        "      <td>    30.00</td>\n",
        "      <td>  30.000000</td>\n",
        "      <td>                       Poultry</td>\n",
        "      <td>                         Hadayek al ahram 20 Ahram</td>\n",
        "      <td>               0100001224555</td>\n",
        "      <td>  1</td>\n",
        "      <td>   0.000000</td>\n",
        "      <td>                         A2@ed.com</td>\n",
        "      <td>  102</td>\n",
        "      <td>...</td>\n",
        "      <td> 0</td>\n",
        "      <td> 0</td>\n",
        "      <td> 1</td>\n",
        "      <td> 0</td>\n",
        "      <td> 0</td>\n",
        "      <td> 0</td>\n",
        "      <td> 0</td>\n",
        "      <td> 0</td>\n",
        "      <td> 1149.346496</td>\n",
        "      <td> 38.447904</td>\n",
        "    </tr>\n",
        "    <tr>\n",
        "      <th>7   </th>\n",
        "      <td>            ASHRAF ZAKI</td>\n",
        "      <td>   300.18</td>\n",
        "      <td> 300.180000</td>\n",
        "      <td>      Grains, seeds and cereal</td>\n",
        "      <td> 19 Gabalayah Street, 9th Floor, Apt 92 Zamalek...</td>\n",
        "      <td>                 01222174854</td>\n",
        "      <td>  1</td>\n",
        "      <td>   0.000000</td>\n",
        "      <td>           ASHRAF.M.ZAKI@GMAIL.COM</td>\n",
        "      <td> 1174</td>\n",
        "      <td>...</td>\n",
        "      <td> 1</td>\n",
        "      <td> 0</td>\n",
        "      <td> 0</td>\n",
        "      <td> 0</td>\n",
        "      <td> 0</td>\n",
        "      <td> 0</td>\n",
        "      <td> 0</td>\n",
        "      <td> 0</td>\n",
        "      <td> 1149.346496</td>\n",
        "      <td> 38.447904</td>\n",
        "    </tr>\n",
        "    <tr>\n",
        "      <th>8   </th>\n",
        "      <td>           Adham Hamada</td>\n",
        "      <td>    61.20</td>\n",
        "      <td>  61.200000</td>\n",
        "      <td>          Fresh Beef &amp; Poultry</td>\n",
        "      <td> 5 eskandar el Akbar st. Heliopolis First floor...</td>\n",
        "      <td>                 01223221581</td>\n",
        "      <td>  1</td>\n",
        "      <td>   0.000000</td>\n",
        "      <td>              Adhamada@hotmail.com</td>\n",
        "      <td> 1262</td>\n",
        "      <td>...</td>\n",
        "      <td> 0</td>\n",
        "      <td> 0</td>\n",
        "      <td> 0</td>\n",
        "      <td> 0</td>\n",
        "      <td> 0</td>\n",
        "      <td> 1</td>\n",
        "      <td> 0</td>\n",
        "      <td> 0</td>\n",
        "      <td> 1149.346496</td>\n",
        "      <td> 38.447904</td>\n",
        "    </tr>\n",
        "    <tr>\n",
        "      <th>9   </th>\n",
        "      <td>           Ahmed Habash</td>\n",
        "      <td>   360.00</td>\n",
        "      <td> 360.000000</td>\n",
        "      <td>                        Bakery</td>\n",
        "      <td>                                               NaN</td>\n",
        "      <td>                 01066656222</td>\n",
        "      <td>  1</td>\n",
        "      <td>   0.000000</td>\n",
        "      <td>       Ahmed.Habash@moevenpick.com</td>\n",
        "      <td>  263</td>\n",
        "      <td>...</td>\n",
        "      <td> 0</td>\n",
        "      <td> 0</td>\n",
        "      <td> 0</td>\n",
        "      <td> 1</td>\n",
        "      <td> 0</td>\n",
        "      <td> 0</td>\n",
        "      <td> 0</td>\n",
        "      <td> 0</td>\n",
        "      <td> 1149.346496</td>\n",
        "      <td> 38.447904</td>\n",
        "    </tr>\n",
        "    <tr>\n",
        "      <th>10  </th>\n",
        "      <td>             Ahmed Adel</td>\n",
        "      <td>   424.00</td>\n",
        "      <td> 424.000000</td>\n",
        "      <td>      Grains, seeds and cereal</td>\n",
        "      <td> 24 Extension Abo Dawood El Zahery  3rd Floor. ...</td>\n",
        "      <td>                 01060002000</td>\n",
        "      <td>  1</td>\n",
        "      <td>   0.000000</td>\n",
        "      <td> Ahmed.adel.abdelmonam@hotmail.com</td>\n",
        "      <td>  121</td>\n",
        "      <td>...</td>\n",
        "      <td> 0</td>\n",
        "      <td> 0</td>\n",
        "      <td> 0</td>\n",
        "      <td> 0</td>\n",
        "      <td> 0</td>\n",
        "      <td> 0</td>\n",
        "      <td> 0</td>\n",
        "      <td> 0</td>\n",
        "      <td> 1149.346496</td>\n",
        "      <td> 38.447904</td>\n",
        "    </tr>\n",
        "    <tr>\n",
        "      <th>11  </th>\n",
        "      <td>         Alia Mossallam</td>\n",
        "      <td>  7096.62</td>\n",
        "      <td> 308.548696</td>\n",
        "      <td>                       Variety</td>\n",
        "      <td>              59 Road 14, Moqattam 4th floor Cairo</td>\n",
        "      <td>                 01222344036</td>\n",
        "      <td> 23</td>\n",
        "      <td>  18.304348</td>\n",
        "      <td>           Aliamossallam@gmail.com</td>\n",
        "      <td>    9</td>\n",
        "      <td>...</td>\n",
        "      <td> 0</td>\n",
        "      <td> 5</td>\n",
        "      <td> 5</td>\n",
        "      <td> 5</td>\n",
        "      <td> 2</td>\n",
        "      <td> 2</td>\n",
        "      <td> 2</td>\n",
        "      <td> 0</td>\n",
        "      <td> 1149.346496</td>\n",
        "      <td> 38.447904</td>\n",
        "    </tr>\n",
        "    <tr>\n",
        "      <th>12  </th>\n",
        "      <td>         Andrea Heilman</td>\n",
        "      <td>   819.10</td>\n",
        "      <td> 204.775000</td>\n",
        "      <td>                       Variety</td>\n",
        "      <td>             16 Mohammed Thakeb, Zamalek 805 Cairo</td>\n",
        "      <td>                 01202070773</td>\n",
        "      <td>  4</td>\n",
        "      <td>   2.750000</td>\n",
        "      <td>       Andrea.Heilman@aucegypt.edu</td>\n",
        "      <td>  291</td>\n",
        "      <td>...</td>\n",
        "      <td> 0</td>\n",
        "      <td> 2</td>\n",
        "      <td> 2</td>\n",
        "      <td> 0</td>\n",
        "      <td> 0</td>\n",
        "      <td> 0</td>\n",
        "      <td> 0</td>\n",
        "      <td> 0</td>\n",
        "      <td> 1149.346496</td>\n",
        "      <td> 38.447904</td>\n",
        "    </tr>\n",
        "    <tr>\n",
        "      <th>13  </th>\n",
        "      <td>            Asmaa Ahmed</td>\n",
        "      <td>  3404.00</td>\n",
        "      <td> 851.000000</td>\n",
        "      <td>                        Bakery</td>\n",
        "      <td> Nasr city*Car Market*Shaban Company 10th distr...</td>\n",
        "      <td> 01026442230     01093551807</td>\n",
        "      <td>  4</td>\n",
        "      <td>   4.000000</td>\n",
        "      <td>           Asmaa.ahmed@hotmail.com</td>\n",
        "      <td>   37</td>\n",
        "      <td>...</td>\n",
        "      <td> 0</td>\n",
        "      <td> 0</td>\n",
        "      <td> 0</td>\n",
        "      <td> 1</td>\n",
        "      <td> 2</td>\n",
        "      <td> 1</td>\n",
        "      <td> 0</td>\n",
        "      <td> 0</td>\n",
        "      <td> 1149.346496</td>\n",
        "      <td> 38.447904</td>\n",
        "    </tr>\n",
        "    <tr>\n",
        "      <th>14  </th>\n",
        "      <td>           Sherif Saleh</td>\n",
        "      <td>   475.00</td>\n",
        "      <td> 158.333333</td>\n",
        "      <td>                    Vegetables</td>\n",
        "      <td>                                               NaN</td>\n",
        "      <td>                 01222103099</td>\n",
        "      <td>  3</td>\n",
        "      <td>   0.666667</td>\n",
        "      <td>            Attia.nevien@gmail.com</td>\n",
        "      <td>  331</td>\n",
        "      <td>...</td>\n",
        "      <td> 0</td>\n",
        "      <td> 0</td>\n",
        "      <td> 0</td>\n",
        "      <td> 2</td>\n",
        "      <td> 1</td>\n",
        "      <td> 0</td>\n",
        "      <td> 0</td>\n",
        "      <td> 0</td>\n",
        "      <td> 1149.346496</td>\n",
        "      <td> 38.447904</td>\n",
        "    </tr>\n",
        "    <tr>\n",
        "      <th>15  </th>\n",
        "      <td>            Azza Sallam</td>\n",
        "      <td>    45.00</td>\n",
        "      <td>  45.000000</td>\n",
        "      <td>                     Cosmetics</td>\n",
        "      <td>                                               NaN</td>\n",
        "      <td>                 01019078478</td>\n",
        "      <td>  1</td>\n",
        "      <td>   0.000000</td>\n",
        "      <td>             Azzassallam@gmail.com</td>\n",
        "      <td>  307</td>\n",
        "      <td>...</td>\n",
        "      <td> 0</td>\n",
        "      <td> 1</td>\n",
        "      <td> 0</td>\n",
        "      <td> 0</td>\n",
        "      <td> 0</td>\n",
        "      <td> 0</td>\n",
        "      <td> 0</td>\n",
        "      <td> 0</td>\n",
        "      <td> 1149.346496</td>\n",
        "      <td> 38.447904</td>\n",
        "    </tr>\n",
        "    <tr>\n",
        "      <th>16  </th>\n",
        "      <td>         Brigitte Kamal</td>\n",
        "      <td>   113.50</td>\n",
        "      <td> 113.500000</td>\n",
        "      <td>                          Beef</td>\n",
        "      <td> 31 Hamouda Mahmoud from end of Makram ebeid , ...</td>\n",
        "      <td>                 01141224422</td>\n",
        "      <td>  1</td>\n",
        "      <td>   0.000000</td>\n",
        "      <td>                 BAGBOUG@yahoo.com</td>\n",
        "      <td>  285</td>\n",
        "      <td>...</td>\n",
        "      <td> 0</td>\n",
        "      <td> 0</td>\n",
        "      <td> 0</td>\n",
        "      <td> 0</td>\n",
        "      <td> 0</td>\n",
        "      <td> 0</td>\n",
        "      <td> 0</td>\n",
        "      <td> 0</td>\n",
        "      <td> 1149.346496</td>\n",
        "      <td> 38.447904</td>\n",
        "    </tr>\n",
        "    <tr>\n",
        "      <th>17  </th>\n",
        "      <td>              Nna Bakry</td>\n",
        "      <td>   122.25</td>\n",
        "      <td> 122.250000</td>\n",
        "      <td>      Grains, seeds and cereal</td>\n",
        "      <td> 37 shehab street , floor 15th appartment 1 Moh...</td>\n",
        "      <td>                         NaN</td>\n",
        "      <td>  1</td>\n",
        "      <td>   0.000000</td>\n",
        "      <td>                 Bakryna@gmail.com</td>\n",
        "      <td> 1204</td>\n",
        "      <td>...</td>\n",
        "      <td> 0</td>\n",
        "      <td> 0</td>\n",
        "      <td> 0</td>\n",
        "      <td> 0</td>\n",
        "      <td> 0</td>\n",
        "      <td> 0</td>\n",
        "      <td> 0</td>\n",
        "      <td> 0</td>\n",
        "      <td> 1149.346496</td>\n",
        "      <td> 38.447904</td>\n",
        "    </tr>\n",
        "    <tr>\n",
        "      <th>18  </th>\n",
        "      <td>          Basma Elgazar</td>\n",
        "      <td>    55.00</td>\n",
        "      <td>  55.000000</td>\n",
        "      <td>      Grains, seeds and cereal</td>\n",
        "      <td>                                               NaN</td>\n",
        "      <td>                 01117005877</td>\n",
        "      <td>  1</td>\n",
        "      <td>   0.000000</td>\n",
        "      <td>           Basmaha2010@hotmail.com</td>\n",
        "      <td>  249</td>\n",
        "      <td>...</td>\n",
        "      <td> 0</td>\n",
        "      <td> 0</td>\n",
        "      <td> 0</td>\n",
        "      <td> 0</td>\n",
        "      <td> 0</td>\n",
        "      <td> 0</td>\n",
        "      <td> 0</td>\n",
        "      <td> 1</td>\n",
        "      <td> 1149.346496</td>\n",
        "      <td> 38.447904</td>\n",
        "    </tr>\n",
        "    <tr>\n",
        "      <th>19  </th>\n",
        "      <td>             Heba Ragab</td>\n",
        "      <td>   411.19</td>\n",
        "      <td> 137.063333</td>\n",
        "      <td>                       Variety</td>\n",
        "      <td> 54,Mohi el din abuo el ezz,st,dokii, floor 10,...</td>\n",
        "      <td>                 01009599615</td>\n",
        "      <td>  3</td>\n",
        "      <td>   7.000000</td>\n",
        "      <td>                  Bebi84@gmail.com</td>\n",
        "      <td>  976</td>\n",
        "      <td>...</td>\n",
        "      <td> 0</td>\n",
        "      <td> 0</td>\n",
        "      <td> 1</td>\n",
        "      <td> 0</td>\n",
        "      <td> 1</td>\n",
        "      <td> 0</td>\n",
        "      <td> 0</td>\n",
        "      <td> 1</td>\n",
        "      <td> 1149.346496</td>\n",
        "      <td> 38.447904</td>\n",
        "    </tr>\n",
        "    <tr>\n",
        "      <th>20  </th>\n",
        "      <td>         Haisam Soliman</td>\n",
        "      <td>   285.75</td>\n",
        "      <td> 285.750000</td>\n",
        "      <td>                     Cosmetics</td>\n",
        "      <td> Villa 14/4 abdelwahab mohammed street Al rehab...</td>\n",
        "      <td>                 01202244355</td>\n",
        "      <td>  1</td>\n",
        "      <td>   0.000000</td>\n",
        "      <td>       Bouchra_erraiss@hotmail.com</td>\n",
        "      <td>  588</td>\n",
        "      <td>...</td>\n",
        "      <td> 0</td>\n",
        "      <td> 0</td>\n",
        "      <td> 1</td>\n",
        "      <td> 0</td>\n",
        "      <td> 0</td>\n",
        "      <td> 0</td>\n",
        "      <td> 0</td>\n",
        "      <td> 0</td>\n",
        "      <td> 1149.346496</td>\n",
        "      <td> 38.447904</td>\n",
        "    </tr>\n",
        "    <tr>\n",
        "      <th>21  </th>\n",
        "      <td>           Yasser Awadd</td>\n",
        "      <td>   397.00</td>\n",
        "      <td> 132.333333</td>\n",
        "      <td>                       Variety</td>\n",
        "      <td>                                               NaN</td>\n",
        "      <td>                 01003588073</td>\n",
        "      <td>  3</td>\n",
        "      <td>  88.666667</td>\n",
        "      <td>                 Bunny_Chan@web.de</td>\n",
        "      <td>  227</td>\n",
        "      <td>...</td>\n",
        "      <td> 0</td>\n",
        "      <td> 0</td>\n",
        "      <td> 1</td>\n",
        "      <td> 0</td>\n",
        "      <td> 1</td>\n",
        "      <td> 0</td>\n",
        "      <td> 1</td>\n",
        "      <td> 0</td>\n",
        "      <td> 1149.346496</td>\n",
        "      <td> 38.447904</td>\n",
        "    </tr>\n",
        "    <tr>\n",
        "      <th>22  </th>\n",
        "      <td>           Asmaa Medaht</td>\n",
        "      <td>   332.00</td>\n",
        "      <td> 332.000000</td>\n",
        "      <td>      Grains, seeds and cereal</td>\n",
        "      <td> Km 28, Cairo Alexandria Desert Rd., Smart Vill...</td>\n",
        "      <td>               +201007901118</td>\n",
        "      <td>  1</td>\n",
        "      <td>   0.000000</td>\n",
        "      <td>            Buty_Heart@hotmail.com</td>\n",
        "      <td>  209</td>\n",
        "      <td>...</td>\n",
        "      <td> 0</td>\n",
        "      <td> 0</td>\n",
        "      <td> 0</td>\n",
        "      <td> 0</td>\n",
        "      <td> 1</td>\n",
        "      <td> 0</td>\n",
        "      <td> 0</td>\n",
        "      <td> 0</td>\n",
        "      <td> 1149.346496</td>\n",
        "      <td> 38.447904</td>\n",
        "    </tr>\n",
        "    <tr>\n",
        "      <th>23  </th>\n",
        "      <td>     Camillia  Marmoush</td>\n",
        "      <td>  1437.00</td>\n",
        "      <td> 287.400000</td>\n",
        "      <td>                           NaN</td>\n",
        "      <td> 5th district Amr ebn elass st.0*area h*south o...</td>\n",
        "      <td>                 01002280010</td>\n",
        "      <td>  5</td>\n",
        "      <td>   2.800000</td>\n",
        "      <td>       Camillia.Marmoush@gmail.com</td>\n",
        "      <td>   25</td>\n",
        "      <td>...</td>\n",
        "      <td> 0</td>\n",
        "      <td> 3</td>\n",
        "      <td> 2</td>\n",
        "      <td> 0</td>\n",
        "      <td> 0</td>\n",
        "      <td> 0</td>\n",
        "      <td> 0</td>\n",
        "      <td> 0</td>\n",
        "      <td> 1149.346496</td>\n",
        "      <td> 38.447904</td>\n",
        "    </tr>\n",
        "    <tr>\n",
        "      <th>24  </th>\n",
        "      <td>         carine sabbagh</td>\n",
        "      <td> 12189.72</td>\n",
        "      <td> 329.451892</td>\n",
        "      <td>                       Variety</td>\n",
        "      <td> 11 Rashdan st. dokki off of mesaha square 5th ...</td>\n",
        "      <td>                 01000100745</td>\n",
        "      <td> 37</td>\n",
        "      <td>  27.567568</td>\n",
        "      <td>           Carinesabbagh@gmail.com</td>\n",
        "      <td>  240</td>\n",
        "      <td>...</td>\n",
        "      <td> 3</td>\n",
        "      <td> 2</td>\n",
        "      <td> 3</td>\n",
        "      <td> 2</td>\n",
        "      <td> 5</td>\n",
        "      <td> 2</td>\n",
        "      <td> 2</td>\n",
        "      <td> 5</td>\n",
        "      <td> 1149.346496</td>\n",
        "      <td> 38.447904</td>\n",
        "    </tr>\n",
        "    <tr>\n",
        "      <th>25  </th>\n",
        "      <td>             Dina Kadry</td>\n",
        "      <td>   230.00</td>\n",
        "      <td> 230.000000</td>\n",
        "      <td>      Grains, seeds and cereal</td>\n",
        "      <td> Almostathmeroun Alshamaleya / of 90th road / a...</td>\n",
        "      <td>                 01000993094</td>\n",
        "      <td>  1</td>\n",
        "      <td>   0.000000</td>\n",
        "      <td>              DINA_KADRY@YAHOO.COM</td>\n",
        "      <td>   52</td>\n",
        "      <td>...</td>\n",
        "      <td> 0</td>\n",
        "      <td> 1</td>\n",
        "      <td> 0</td>\n",
        "      <td> 0</td>\n",
        "      <td> 0</td>\n",
        "      <td> 0</td>\n",
        "      <td> 0</td>\n",
        "      <td> 0</td>\n",
        "      <td> 1149.346496</td>\n",
        "      <td> 38.447904</td>\n",
        "    </tr>\n",
        "    <tr>\n",
        "      <th>26  </th>\n",
        "      <td>       Dina El-dessouky</td>\n",
        "      <td>  1000.08</td>\n",
        "      <td> 142.868571</td>\n",
        "      <td>      Grains, seeds and cereal</td>\n",
        "      <td>                                               NaN</td>\n",
        "      <td>                 01008020608</td>\n",
        "      <td>  7</td>\n",
        "      <td>  18.000000</td>\n",
        "      <td>       Dina_eldessouky@hotmail.com</td>\n",
        "      <td> 1116</td>\n",
        "      <td>...</td>\n",
        "      <td> 0</td>\n",
        "      <td> 0</td>\n",
        "      <td> 2</td>\n",
        "      <td> 1</td>\n",
        "      <td> 1</td>\n",
        "      <td> 0</td>\n",
        "      <td> 1</td>\n",
        "      <td> 0</td>\n",
        "      <td> 1149.346496</td>\n",
        "      <td> 38.447904</td>\n",
        "    </tr>\n",
        "    <tr>\n",
        "      <th>27  </th>\n",
        "      <td>            dina hamada</td>\n",
        "      <td>    66.00</td>\n",
        "      <td>  66.000000</td>\n",
        "      <td>                       Poultry</td>\n",
        "      <td>                                               NaN</td>\n",
        "      <td>                 01001415888</td>\n",
        "      <td>  1</td>\n",
        "      <td>   0.000000</td>\n",
        "      <td>        Dina_hamada009@hotmail.com</td>\n",
        "      <td>  364</td>\n",
        "      <td>...</td>\n",
        "      <td> 0</td>\n",
        "      <td> 1</td>\n",
        "      <td> 0</td>\n",
        "      <td> 0</td>\n",
        "      <td> 0</td>\n",
        "      <td> 0</td>\n",
        "      <td> 0</td>\n",
        "      <td> 0</td>\n",
        "      <td> 1149.346496</td>\n",
        "      <td> 38.447904</td>\n",
        "    </tr>\n",
        "    <tr>\n",
        "      <th>28  </th>\n",
        "      <td>            Dina Hamada</td>\n",
        "      <td>   143.00</td>\n",
        "      <td>  71.500000</td>\n",
        "      <td>                Rice and pasta</td>\n",
        "      <td> 54 el madina el gadeda st madinat el tawfik Na...</td>\n",
        "      <td>                 01001415888</td>\n",
        "      <td>  2</td>\n",
        "      <td>  80.500000</td>\n",
        "      <td>       Dina_hamada2009@hotmail.com</td>\n",
        "      <td>  210</td>\n",
        "      <td>...</td>\n",
        "      <td> 0</td>\n",
        "      <td> 0</td>\n",
        "      <td> 0</td>\n",
        "      <td> 1</td>\n",
        "      <td> 0</td>\n",
        "      <td> 0</td>\n",
        "      <td> 0</td>\n",
        "      <td> 1</td>\n",
        "      <td> 1149.346496</td>\n",
        "      <td> 38.447904</td>\n",
        "    </tr>\n",
        "    <tr>\n",
        "      <th>29  </th>\n",
        "      <td>            Dahlia Adel</td>\n",
        "      <td>   632.20</td>\n",
        "      <td> 316.100000</td>\n",
        "      <td>                     Cosmetics</td>\n",
        "      <td>                                               NaN</td>\n",
        "      <td>                 01145997944</td>\n",
        "      <td>  2</td>\n",
        "      <td>  56.000000</td>\n",
        "      <td>            Doholly_86@hotmail.com</td>\n",
        "      <td>   74</td>\n",
        "      <td>...</td>\n",
        "      <td> 0</td>\n",
        "      <td> 0</td>\n",
        "      <td> 0</td>\n",
        "      <td> 1</td>\n",
        "      <td> 0</td>\n",
        "      <td> 0</td>\n",
        "      <td> 0</td>\n",
        "      <td> 1</td>\n",
        "      <td> 1149.346496</td>\n",
        "      <td> 38.447904</td>\n",
        "    </tr>\n",
        "    <tr>\n",
        "      <th>...</th>\n",
        "      <td>...</td>\n",
        "      <td>...</td>\n",
        "      <td>...</td>\n",
        "      <td>...</td>\n",
        "      <td>...</td>\n",
        "      <td>...</td>\n",
        "      <td>...</td>\n",
        "      <td>...</td>\n",
        "      <td>...</td>\n",
        "      <td>...</td>\n",
        "      <td>...</td>\n",
        "      <td>...</td>\n",
        "      <td>...</td>\n",
        "      <td>...</td>\n",
        "      <td>...</td>\n",
        "      <td>...</td>\n",
        "      <td>...</td>\n",
        "      <td>...</td>\n",
        "      <td>...</td>\n",
        "      <td>...</td>\n",
        "      <td>...</td>\n",
        "    </tr>\n",
        "    <tr>\n",
        "      <th>2278</th>\n",
        "      <td>         Youssef Khalil</td>\n",
        "      <td>   303.00</td>\n",
        "      <td> 101.000000</td>\n",
        "      <td>                          Beef</td>\n",
        "      <td> 1 Bashar Ebn Bord street, from Ahmed el Sawi f...</td>\n",
        "      <td>              00201222240595</td>\n",
        "      <td>  3</td>\n",
        "      <td>  99.666667</td>\n",
        "      <td>              youssefkhalil@me.com</td>\n",
        "      <td>   87</td>\n",
        "      <td>...</td>\n",
        "      <td> 0</td>\n",
        "      <td> 1</td>\n",
        "      <td> 0</td>\n",
        "      <td> 1</td>\n",
        "      <td> 0</td>\n",
        "      <td> 0</td>\n",
        "      <td> 0</td>\n",
        "      <td> 0</td>\n",
        "      <td> 1149.346496</td>\n",
        "      <td> 38.447904</td>\n",
        "    </tr>\n",
        "    <tr>\n",
        "      <th>2279</th>\n",
        "      <td>            Tarek yehia</td>\n",
        "      <td>   242.00</td>\n",
        "      <td> 242.000000</td>\n",
        "      <td>                       Poultry</td>\n",
        "      <td>                                               NaN</td>\n",
        "      <td>                 01001191212</td>\n",
        "      <td>  1</td>\n",
        "      <td>   0.000000</td>\n",
        "      <td>          youssra.resaie@gmail.com</td>\n",
        "      <td>  526</td>\n",
        "      <td>...</td>\n",
        "      <td> 0</td>\n",
        "      <td> 0</td>\n",
        "      <td> 1</td>\n",
        "      <td> 0</td>\n",
        "      <td> 0</td>\n",
        "      <td> 0</td>\n",
        "      <td> 0</td>\n",
        "      <td> 0</td>\n",
        "      <td> 1149.346496</td>\n",
        "      <td> 38.447904</td>\n",
        "    </tr>\n",
        "    <tr>\n",
        "      <th>2280</th>\n",
        "      <td>         Youssra Ismail</td>\n",
        "      <td>   146.40</td>\n",
        "      <td> 146.400000</td>\n",
        "      <td>                          Beef</td>\n",
        "      <td> 12 Khan Younis street, Mohandessin  Floor 11. ...</td>\n",
        "      <td>               +201114400112</td>\n",
        "      <td>  1</td>\n",
        "      <td>   0.000000</td>\n",
        "      <td>                 youssra@gmail.com</td>\n",
        "      <td>  281</td>\n",
        "      <td>...</td>\n",
        "      <td> 0</td>\n",
        "      <td> 0</td>\n",
        "      <td> 0</td>\n",
        "      <td> 0</td>\n",
        "      <td> 1</td>\n",
        "      <td> 0</td>\n",
        "      <td> 0</td>\n",
        "      <td> 0</td>\n",
        "      <td> 1149.346496</td>\n",
        "      <td> 38.447904</td>\n",
        "    </tr>\n",
        "    <tr>\n",
        "      <th>2281</th>\n",
        "      <td>          Youssra Kamal</td>\n",
        "      <td>   753.00</td>\n",
        "      <td> 251.000000</td>\n",
        "      <td>                     Non dairy</td>\n",
        "      <td>     Al Dyar compound .new Cairo  Villa 590L Cairo</td>\n",
        "      <td>                 01149734254</td>\n",
        "      <td>  3</td>\n",
        "      <td>  21.333333</td>\n",
        "      <td>           youssra_kamal@yahoo.com</td>\n",
        "      <td>   22</td>\n",
        "      <td>...</td>\n",
        "      <td> 0</td>\n",
        "      <td> 0</td>\n",
        "      <td> 2</td>\n",
        "      <td> 1</td>\n",
        "      <td> 0</td>\n",
        "      <td> 0</td>\n",
        "      <td> 0</td>\n",
        "      <td> 0</td>\n",
        "      <td> 1149.346496</td>\n",
        "      <td> 38.447904</td>\n",
        "    </tr>\n",
        "    <tr>\n",
        "      <th>2282</th>\n",
        "      <td>     Youssra Al ashmawi</td>\n",
        "      <td>   201.00</td>\n",
        "      <td> 201.000000</td>\n",
        "      <td>                       Variety</td>\n",
        "      <td>                                               NaN</td>\n",
        "      <td>                 01125699291</td>\n",
        "      <td>  1</td>\n",
        "      <td>   0.000000</td>\n",
        "      <td>         youssraaashmawi@gmail.com</td>\n",
        "      <td>   73</td>\n",
        "      <td>...</td>\n",
        "      <td> 0</td>\n",
        "      <td> 0</td>\n",
        "      <td> 0</td>\n",
        "      <td> 0</td>\n",
        "      <td> 1</td>\n",
        "      <td> 0</td>\n",
        "      <td> 0</td>\n",
        "      <td> 0</td>\n",
        "      <td> 1149.346496</td>\n",
        "      <td> 38.447904</td>\n",
        "    </tr>\n",
        "    <tr>\n",
        "      <th>2283</th>\n",
        "      <td>    Youssef Abdelmohsen</td>\n",
        "      <td>   233.20</td>\n",
        "      <td> 116.600000</td>\n",
        "      <td>                           NaN</td>\n",
        "      <td>        Moonvalley Compound, Rd. 90  D11 New Cairo</td>\n",
        "      <td>                 01069786059</td>\n",
        "      <td>  2</td>\n",
        "      <td>   5.000000</td>\n",
        "      <td>           yoyothetricky@gmail.com</td>\n",
        "      <td>    8</td>\n",
        "      <td>...</td>\n",
        "      <td> 0</td>\n",
        "      <td> 0</td>\n",
        "      <td> 1</td>\n",
        "      <td> 1</td>\n",
        "      <td> 0</td>\n",
        "      <td> 0</td>\n",
        "      <td> 0</td>\n",
        "      <td> 0</td>\n",
        "      <td> 1149.346496</td>\n",
        "      <td> 38.447904</td>\n",
        "    </tr>\n",
        "    <tr>\n",
        "      <th>2284</th>\n",
        "      <td>          yasmine Raheb</td>\n",
        "      <td>    78.13</td>\n",
        "      <td>  78.130000</td>\n",
        "      <td>                        Fruits</td>\n",
        "      <td>                                               NaN</td>\n",
        "      <td>                 01221888861</td>\n",
        "      <td>  1</td>\n",
        "      <td>   0.000000</td>\n",
        "      <td>               yrelraheb@gmail.com</td>\n",
        "      <td> 1017</td>\n",
        "      <td>...</td>\n",
        "      <td> 0</td>\n",
        "      <td> 0</td>\n",
        "      <td> 1</td>\n",
        "      <td> 0</td>\n",
        "      <td> 0</td>\n",
        "      <td> 0</td>\n",
        "      <td> 0</td>\n",
        "      <td> 0</td>\n",
        "      <td> 1149.346496</td>\n",
        "      <td> 38.447904</td>\n",
        "    </tr>\n",
        "    <tr>\n",
        "      <th>2285</th>\n",
        "      <td>         Yuliay Ivanova</td>\n",
        "      <td>   507.20</td>\n",
        "      <td> 126.800000</td>\n",
        "      <td>                       Variety</td>\n",
        "      <td> Beverly Hills compound  Forty west . Building ...</td>\n",
        "      <td>                 01150888848</td>\n",
        "      <td>  4</td>\n",
        "      <td>  15.750000</td>\n",
        "      <td>               yulbiba@hotmail.com</td>\n",
        "      <td>    7</td>\n",
        "      <td>...</td>\n",
        "      <td> 0</td>\n",
        "      <td> 1</td>\n",
        "      <td> 0</td>\n",
        "      <td> 0</td>\n",
        "      <td> 0</td>\n",
        "      <td> 1</td>\n",
        "      <td> 1</td>\n",
        "      <td> 1</td>\n",
        "      <td> 1149.346496</td>\n",
        "      <td> 38.447904</td>\n",
        "    </tr>\n",
        "    <tr>\n",
        "      <th>2286</th>\n",
        "      <td>  Subscriber Newsletter</td>\n",
        "      <td>   297.50</td>\n",
        "      <td> 148.750000</td>\n",
        "      <td>                       Variety</td>\n",
        "      <td>         19 Menis Street, ElKorba Heliopolis Cairo</td>\n",
        "      <td>                 01005047970</td>\n",
        "      <td>  2</td>\n",
        "      <td> 149.500000</td>\n",
        "      <td>             yumnakassim@gmail.com</td>\n",
        "      <td>  509</td>\n",
        "      <td>...</td>\n",
        "      <td> 0</td>\n",
        "      <td> 0</td>\n",
        "      <td> 0</td>\n",
        "      <td> 1</td>\n",
        "      <td> 0</td>\n",
        "      <td> 0</td>\n",
        "      <td> 0</td>\n",
        "      <td> 1</td>\n",
        "      <td> 1149.346496</td>\n",
        "      <td> 38.447904</td>\n",
        "    </tr>\n",
        "    <tr>\n",
        "      <th>2287</th>\n",
        "      <td>            zeina addas</td>\n",
        "      <td>   350.85</td>\n",
        "      <td> 350.850000</td>\n",
        "      <td>                       Seafood</td>\n",
        "      <td>         19 tahawi st, golf area heliopolise cairo</td>\n",
        "      <td>               +201223781733</td>\n",
        "      <td>  1</td>\n",
        "      <td>   0.000000</td>\n",
        "      <td>              z72addas@hotmail.com</td>\n",
        "      <td>  345</td>\n",
        "      <td>...</td>\n",
        "      <td> 0</td>\n",
        "      <td> 0</td>\n",
        "      <td> 0</td>\n",
        "      <td> 1</td>\n",
        "      <td> 0</td>\n",
        "      <td> 0</td>\n",
        "      <td> 0</td>\n",
        "      <td> 0</td>\n",
        "      <td> 1149.346496</td>\n",
        "      <td> 38.447904</td>\n",
        "    </tr>\n",
        "    <tr>\n",
        "      <th>2288</th>\n",
        "      <td>           Farida  Zaki</td>\n",
        "      <td>   931.50</td>\n",
        "      <td> 186.300000</td>\n",
        "      <td>                       Variety</td>\n",
        "      <td> 56 Nazih Khalifa St. Heliopolis  3rd floor, Ap...</td>\n",
        "      <td>              00201001108847</td>\n",
        "      <td>  5</td>\n",
        "      <td>  31.400000</td>\n",
        "      <td>             zaki.farida@gmail.com</td>\n",
        "      <td>   60</td>\n",
        "      <td>...</td>\n",
        "      <td> 0</td>\n",
        "      <td> 0</td>\n",
        "      <td> 0</td>\n",
        "      <td> 1</td>\n",
        "      <td> 2</td>\n",
        "      <td> 2</td>\n",
        "      <td> 0</td>\n",
        "      <td> 0</td>\n",
        "      <td> 1149.346496</td>\n",
        "      <td> 38.447904</td>\n",
        "    </tr>\n",
        "    <tr>\n",
        "      <th>2289</th>\n",
        "      <td>        Zeinab  Mutawa </td>\n",
        "      <td>   160.00</td>\n",
        "      <td> 160.000000</td>\n",
        "      <td>                           NaN</td>\n",
        "      <td> 9 El Saada street, roxy, Heliopolis  April 181...</td>\n",
        "      <td>                 01222107517</td>\n",
        "      <td>  1</td>\n",
        "      <td>   0.000000</td>\n",
        "      <td>               zedesem65@gmail.com</td>\n",
        "      <td>   39</td>\n",
        "      <td>...</td>\n",
        "      <td> 0</td>\n",
        "      <td> 0</td>\n",
        "      <td> 0</td>\n",
        "      <td> 0</td>\n",
        "      <td> 0</td>\n",
        "      <td> 0</td>\n",
        "      <td> 0</td>\n",
        "      <td> 0</td>\n",
        "      <td> 1149.346496</td>\n",
        "      <td> 38.447904</td>\n",
        "    </tr>\n",
        "    <tr>\n",
        "      <th>2290</th>\n",
        "      <td>        Zeinab M.Shaker</td>\n",
        "      <td>    37.00</td>\n",
        "      <td>  37.000000</td>\n",
        "      <td>                    Vegetables</td>\n",
        "      <td> 566 Palestine St. Ground floor, Integrant Maad...</td>\n",
        "      <td>                201005211550</td>\n",
        "      <td>  1</td>\n",
        "      <td>   0.000000</td>\n",
        "      <td>                 zee.nap@gmail.com</td>\n",
        "      <td>  113</td>\n",
        "      <td>...</td>\n",
        "      <td> 0</td>\n",
        "      <td> 0</td>\n",
        "      <td> 0</td>\n",
        "      <td> 0</td>\n",
        "      <td> 0</td>\n",
        "      <td> 1</td>\n",
        "      <td> 0</td>\n",
        "      <td> 0</td>\n",
        "      <td> 1149.346496</td>\n",
        "      <td> 38.447904</td>\n",
        "    </tr>\n",
        "    <tr>\n",
        "      <th>2291</th>\n",
        "      <td>           zeina kassas</td>\n",
        "      <td>   907.60</td>\n",
        "      <td> 151.266667</td>\n",
        "      <td>                       Variety</td>\n",
        "      <td>        Madinaty Group 17, Building 8 31 New Cairo</td>\n",
        "      <td>                 01000448740</td>\n",
        "      <td>  6</td>\n",
        "      <td>  55.166667</td>\n",
        "      <td>            zeina.kassas@gmail.com</td>\n",
        "      <td>  190</td>\n",
        "      <td>...</td>\n",
        "      <td> 1</td>\n",
        "      <td> 0</td>\n",
        "      <td> 3</td>\n",
        "      <td> 1</td>\n",
        "      <td> 0</td>\n",
        "      <td> 0</td>\n",
        "      <td> 1</td>\n",
        "      <td> 0</td>\n",
        "      <td> 1149.346496</td>\n",
        "      <td> 38.447904</td>\n",
        "    </tr>\n",
        "    <tr>\n",
        "      <th>2292</th>\n",
        "      <td>           Nashwa Hafez</td>\n",
        "      <td>   718.80</td>\n",
        "      <td> 718.800000</td>\n",
        "      <td>                          Beef</td>\n",
        "      <td>                                               NaN</td>\n",
        "      <td>                 01141222226</td>\n",
        "      <td>  1</td>\n",
        "      <td>   0.000000</td>\n",
        "      <td>         zeina_ahmed95@hotmail.com</td>\n",
        "      <td>  423</td>\n",
        "      <td>...</td>\n",
        "      <td> 0</td>\n",
        "      <td> 0</td>\n",
        "      <td> 0</td>\n",
        "      <td> 0</td>\n",
        "      <td> 0</td>\n",
        "      <td> 0</td>\n",
        "      <td> 1</td>\n",
        "      <td> 0</td>\n",
        "      <td> 1149.346496</td>\n",
        "      <td> 38.447904</td>\n",
        "    </tr>\n",
        "    <tr>\n",
        "      <th>2293</th>\n",
        "      <td>             Zeina Naim</td>\n",
        "      <td>    67.00</td>\n",
        "      <td>  67.000000</td>\n",
        "      <td>                           NaN</td>\n",
        "      <td>                                               NaN</td>\n",
        "      <td>                 01025550552</td>\n",
        "      <td>  1</td>\n",
        "      <td>   0.000000</td>\n",
        "      <td>            zeina_naim@hotmail.com</td>\n",
        "      <td>   35</td>\n",
        "      <td>...</td>\n",
        "      <td> 0</td>\n",
        "      <td> 1</td>\n",
        "      <td> 0</td>\n",
        "      <td> 0</td>\n",
        "      <td> 0</td>\n",
        "      <td> 0</td>\n",
        "      <td> 0</td>\n",
        "      <td> 0</td>\n",
        "      <td> 1149.346496</td>\n",
        "      <td> 38.447904</td>\n",
        "    </tr>\n",
        "    <tr>\n",
        "      <th>2294</th>\n",
        "      <td>            Zeinab Taha</td>\n",
        "      <td>   106.30</td>\n",
        "      <td> 106.300000</td>\n",
        "      <td>                       Variety</td>\n",
        "      <td>                                               NaN</td>\n",
        "      <td>                 01271188471</td>\n",
        "      <td>  1</td>\n",
        "      <td>   0.000000</td>\n",
        "      <td>         zeinabahmedtaha@yahoo.com</td>\n",
        "      <td> 1055</td>\n",
        "      <td>...</td>\n",
        "      <td> 0</td>\n",
        "      <td> 0</td>\n",
        "      <td> 0</td>\n",
        "      <td> 0</td>\n",
        "      <td> 1</td>\n",
        "      <td> 0</td>\n",
        "      <td> 0</td>\n",
        "      <td> 0</td>\n",
        "      <td> 1149.346496</td>\n",
        "      <td> 38.447904</td>\n",
        "    </tr>\n",
        "    <tr>\n",
        "      <th>2295</th>\n",
        "      <td>       Dr/ Hisham fahmi</td>\n",
        "      <td>   743.00</td>\n",
        "      <td> 247.666667</td>\n",
        "      <td>                       Variety</td>\n",
        "      <td> 4d al gazira st. befor kism el gazira off nady...</td>\n",
        "      <td>                  0227355135</td>\n",
        "      <td>  3</td>\n",
        "      <td>   8.333333</td>\n",
        "      <td>      zeinabkhalil2010@hotmail.com</td>\n",
        "      <td>  182</td>\n",
        "      <td>...</td>\n",
        "      <td> 0</td>\n",
        "      <td> 0</td>\n",
        "      <td> 0</td>\n",
        "      <td> 1</td>\n",
        "      <td> 2</td>\n",
        "      <td> 0</td>\n",
        "      <td> 0</td>\n",
        "      <td> 0</td>\n",
        "      <td> 1149.346496</td>\n",
        "      <td> 38.447904</td>\n",
        "    </tr>\n",
        "    <tr>\n",
        "      <th>2296</th>\n",
        "      <td>       Zeinab Noureldin</td>\n",
        "      <td>    87.50</td>\n",
        "      <td>  43.750000</td>\n",
        "      <td>                    Vegetables</td>\n",
        "      <td>                                               NaN</td>\n",
        "      <td>                 01002261945</td>\n",
        "      <td>  2</td>\n",
        "      <td>   0.500000</td>\n",
        "      <td>              zeinabnour@gmail.com</td>\n",
        "      <td>  416</td>\n",
        "      <td>...</td>\n",
        "      <td> 0</td>\n",
        "      <td> 1</td>\n",
        "      <td> 0</td>\n",
        "      <td> 0</td>\n",
        "      <td> 1</td>\n",
        "      <td> 0</td>\n",
        "      <td> 0</td>\n",
        "      <td> 0</td>\n",
        "      <td> 1149.346496</td>\n",
        "      <td> 38.447904</td>\n",
        "    </tr>\n",
        "    <tr>\n",
        "      <th>2297</th>\n",
        "      <td>           zeina hodroj</td>\n",
        "      <td>   380.50</td>\n",
        "      <td> 190.250000</td>\n",
        "      <td>                       Poultry</td>\n",
        "      <td>                                               NaN</td>\n",
        "      <td>                 01000892677</td>\n",
        "      <td>  2</td>\n",
        "      <td>   0.000000</td>\n",
        "      <td>              zeinahodroj@live.com</td>\n",
        "      <td>  276</td>\n",
        "      <td>...</td>\n",
        "      <td> 0</td>\n",
        "      <td> 0</td>\n",
        "      <td> 1</td>\n",
        "      <td> 0</td>\n",
        "      <td> 0</td>\n",
        "      <td> 0</td>\n",
        "      <td> 0</td>\n",
        "      <td> 0</td>\n",
        "      <td> 1149.346496</td>\n",
        "      <td> 38.447904</td>\n",
        "    </tr>\n",
        "    <tr>\n",
        "      <th>2298</th>\n",
        "      <td>            Zeina Tarek</td>\n",
        "      <td>  1148.40</td>\n",
        "      <td> 164.057143</td>\n",
        "      <td>                       Variety</td>\n",
        "      <td>                                               NaN</td>\n",
        "      <td>               +201227759372</td>\n",
        "      <td>  7</td>\n",
        "      <td>  35.714286</td>\n",
        "      <td>              zeinasabry@gmail.com</td>\n",
        "      <td>  574</td>\n",
        "      <td>...</td>\n",
        "      <td> 0</td>\n",
        "      <td> 2</td>\n",
        "      <td> 2</td>\n",
        "      <td> 0</td>\n",
        "      <td> 0</td>\n",
        "      <td> 2</td>\n",
        "      <td> 0</td>\n",
        "      <td> 0</td>\n",
        "      <td> 1149.346496</td>\n",
        "      <td> 38.447904</td>\n",
        "    </tr>\n",
        "    <tr>\n",
        "      <th>2299</th>\n",
        "      <td>         Reham Abdullah</td>\n",
        "      <td>   336.00</td>\n",
        "      <td> 168.000000</td>\n",
        "      <td>         Oil, Vinegar &amp; Sauces</td>\n",
        "      <td>   Baron Palace/ Heliopolis (MEETING POINT ) cairo</td>\n",
        "      <td> 01007077741  /  01008664628</td>\n",
        "      <td>  2</td>\n",
        "      <td>  35.500000</td>\n",
        "      <td>               zeinriham@gmail.com</td>\n",
        "      <td>   29</td>\n",
        "      <td>...</td>\n",
        "      <td> 0</td>\n",
        "      <td> 1</td>\n",
        "      <td> 0</td>\n",
        "      <td> 0</td>\n",
        "      <td> 0</td>\n",
        "      <td> 0</td>\n",
        "      <td> 0</td>\n",
        "      <td> 0</td>\n",
        "      <td> 1149.346496</td>\n",
        "      <td> 38.447904</td>\n",
        "    </tr>\n",
        "    <tr>\n",
        "      <th>2300</th>\n",
        "      <td>        Zena Abdelbaky </td>\n",
        "      <td>   302.50</td>\n",
        "      <td> 151.250000</td>\n",
        "      <td>                Rice and pasta</td>\n",
        "      <td>                                               NaN</td>\n",
        "      <td>                 01000350409</td>\n",
        "      <td>  2</td>\n",
        "      <td> 219.000000</td>\n",
        "      <td>           zenaabdelbaky@gmail.com</td>\n",
        "      <td>  148</td>\n",
        "      <td>...</td>\n",
        "      <td> 0</td>\n",
        "      <td> 0</td>\n",
        "      <td> 0</td>\n",
        "      <td> 0</td>\n",
        "      <td> 0</td>\n",
        "      <td> 1</td>\n",
        "      <td> 0</td>\n",
        "      <td> 0</td>\n",
        "      <td> 1149.346496</td>\n",
        "      <td> 38.447904</td>\n",
        "    </tr>\n",
        "    <tr>\n",
        "      <th>2301</th>\n",
        "      <td>          Zeyad Attalla</td>\n",
        "      <td>    97.40</td>\n",
        "      <td>  97.400000</td>\n",
        "      <td>                          Beef</td>\n",
        "      <td>                                               NaN</td>\n",
        "      <td>                 01002240643</td>\n",
        "      <td>  1</td>\n",
        "      <td>   0.000000</td>\n",
        "      <td>            zeyadattalla@yahoo.com</td>\n",
        "      <td>  225</td>\n",
        "      <td>...</td>\n",
        "      <td> 0</td>\n",
        "      <td> 0</td>\n",
        "      <td> 0</td>\n",
        "      <td> 0</td>\n",
        "      <td> 0</td>\n",
        "      <td> 0</td>\n",
        "      <td> 0</td>\n",
        "      <td> 0</td>\n",
        "      <td> 1149.346496</td>\n",
        "      <td> 38.447904</td>\n",
        "    </tr>\n",
        "    <tr>\n",
        "      <th>2302</th>\n",
        "      <td>              Ziad Ihab</td>\n",
        "      <td>    47.00</td>\n",
        "      <td>  47.000000</td>\n",
        "      <td> Chocolate, cookies and snacks</td>\n",
        "      <td> Rehab city, settlement 81, building 2 floor 3,...</td>\n",
        "      <td>                 01116835556</td>\n",
        "      <td>  1</td>\n",
        "      <td>   0.000000</td>\n",
        "      <td>                ziadihab@gmail.com</td>\n",
        "      <td>  247</td>\n",
        "      <td>...</td>\n",
        "      <td> 0</td>\n",
        "      <td> 0</td>\n",
        "      <td> 0</td>\n",
        "      <td> 0</td>\n",
        "      <td> 0</td>\n",
        "      <td> 0</td>\n",
        "      <td> 0</td>\n",
        "      <td> 0</td>\n",
        "      <td> 1149.346496</td>\n",
        "      <td> 38.447904</td>\n",
        "    </tr>\n",
        "    <tr>\n",
        "      <th>2303</th>\n",
        "      <td>            Usama Gamal</td>\n",
        "      <td>    59.00</td>\n",
        "      <td>  59.000000</td>\n",
        "      <td>                           NaN</td>\n",
        "      <td> Al-obour City Golf City  B5 Flat No. 3  Entran...</td>\n",
        "      <td>                 01097902883</td>\n",
        "      <td>  1</td>\n",
        "      <td>   0.000000</td>\n",
        "      <td>               ziadusama@ymail.com</td>\n",
        "      <td>   18</td>\n",
        "      <td>...</td>\n",
        "      <td> 0</td>\n",
        "      <td> 1</td>\n",
        "      <td> 0</td>\n",
        "      <td> 0</td>\n",
        "      <td> 0</td>\n",
        "      <td> 0</td>\n",
        "      <td> 0</td>\n",
        "      <td> 0</td>\n",
        "      <td> 1149.346496</td>\n",
        "      <td> 38.447904</td>\n",
        "    </tr>\n",
        "    <tr>\n",
        "      <th>2304</th>\n",
        "      <td>           Zina El Hini</td>\n",
        "      <td>   320.02</td>\n",
        "      <td> 320.020000</td>\n",
        "      <td>                          Beef</td>\n",
        "      <td>                                               NaN</td>\n",
        "      <td>                 01006061566</td>\n",
        "      <td>  1</td>\n",
        "      <td>   0.000000</td>\n",
        "      <td>               zinelhini@yahoo.com</td>\n",
        "      <td>  807</td>\n",
        "      <td>...</td>\n",
        "      <td> 0</td>\n",
        "      <td> 0</td>\n",
        "      <td> 0</td>\n",
        "      <td> 0</td>\n",
        "      <td> 1</td>\n",
        "      <td> 0</td>\n",
        "      <td> 0</td>\n",
        "      <td> 0</td>\n",
        "      <td> 1149.346496</td>\n",
        "      <td> 38.447904</td>\n",
        "    </tr>\n",
        "    <tr>\n",
        "      <th>2305</th>\n",
        "      <td>           Zayd Leseman</td>\n",
        "      <td>  1171.57</td>\n",
        "      <td> 585.785000</td>\n",
        "      <td>                       Variety</td>\n",
        "      <td>    Nada Compound, Entrance 2 Villa 2 Sheikh Zayed</td>\n",
        "      <td>                 01125573521</td>\n",
        "      <td>  2</td>\n",
        "      <td>  35.500000</td>\n",
        "      <td>                zleseman@gmail.com</td>\n",
        "      <td>  976</td>\n",
        "      <td>...</td>\n",
        "      <td> 0</td>\n",
        "      <td> 0</td>\n",
        "      <td> 0</td>\n",
        "      <td> 1</td>\n",
        "      <td> 0</td>\n",
        "      <td> 1</td>\n",
        "      <td> 0</td>\n",
        "      <td> 0</td>\n",
        "      <td> 1149.346496</td>\n",
        "      <td> 38.447904</td>\n",
        "    </tr>\n",
        "    <tr>\n",
        "      <th>2306</th>\n",
        "      <td>      amal abdelraheem </td>\n",
        "      <td>   610.10</td>\n",
        "      <td> 610.100000</td>\n",
        "      <td>                       Variety</td>\n",
        "      <td>          4038 me3raj olwi, maadi 201 maadi, cairo</td>\n",
        "      <td>              00201023982488</td>\n",
        "      <td>  1</td>\n",
        "      <td>   0.000000</td>\n",
        "      <td>           zolaykha1st@hotmail.com</td>\n",
        "      <td>  375</td>\n",
        "      <td>...</td>\n",
        "      <td> 1</td>\n",
        "      <td> 0</td>\n",
        "      <td> 0</td>\n",
        "      <td> 0</td>\n",
        "      <td> 0</td>\n",
        "      <td> 0</td>\n",
        "      <td> 0</td>\n",
        "      <td> 0</td>\n",
        "      <td> 1149.346496</td>\n",
        "      <td> 38.447904</td>\n",
        "    </tr>\n",
        "    <tr>\n",
        "      <th>2307</th>\n",
        "      <td>           Amina Rashad</td>\n",
        "      <td>  2933.00</td>\n",
        "      <td> 419.000000</td>\n",
        "      <td> Chocolate, cookies and snacks</td>\n",
        "      <td>     Mountain View behind el rehab villa 6 C cairo</td>\n",
        "      <td>                 01005497979</td>\n",
        "      <td>  7</td>\n",
        "      <td>  48.571429</td>\n",
        "      <td>               zshafei@outlook.com</td>\n",
        "      <td>   20</td>\n",
        "      <td>...</td>\n",
        "      <td> 0</td>\n",
        "      <td> 2</td>\n",
        "      <td> 1</td>\n",
        "      <td> 3</td>\n",
        "      <td> 0</td>\n",
        "      <td> 0</td>\n",
        "      <td> 0</td>\n",
        "      <td> 1</td>\n",
        "      <td> 1149.346496</td>\n",
        "      <td> 38.447904</td>\n",
        "    </tr>\n",
        "  </tbody>\n",
        "</table>\n",
        "<p>2308 rows \u00d7 31 columns</p>\n",
        "</div>"
       ],
       "metadata": {},
       "output_type": "pyout",
       "prompt_number": 15,
       "text": [
        "                        Name   Revenue  Basket Value  \\\n",
        "0     Magdalena Kallenberger    267.17    267.170000   \n",
        "1              Alain  Phar\u00e8s   1001.10    500.550000   \n",
        "2                 Kelly Tate    648.00    162.000000   \n",
        "3                 Lara Scott    909.00    303.000000   \n",
        "4              mohamed tolba    160.00     53.333333   \n",
        "5               Nadia Teirah    290.00    145.000000   \n",
        "6              Aladdin Nabil     30.00     30.000000   \n",
        "7                ASHRAF ZAKI    300.18    300.180000   \n",
        "8               Adham Hamada     61.20     61.200000   \n",
        "9               Ahmed Habash    360.00    360.000000   \n",
        "10                Ahmed Adel    424.00    424.000000   \n",
        "11            Alia Mossallam   7096.62    308.548696   \n",
        "12            Andrea Heilman    819.10    204.775000   \n",
        "13               Asmaa Ahmed   3404.00    851.000000   \n",
        "14              Sherif Saleh    475.00    158.333333   \n",
        "15               Azza Sallam     45.00     45.000000   \n",
        "16            Brigitte Kamal    113.50    113.500000   \n",
        "17                 Nna Bakry    122.25    122.250000   \n",
        "18             Basma Elgazar     55.00     55.000000   \n",
        "19                Heba Ragab    411.19    137.063333   \n",
        "20            Haisam Soliman    285.75    285.750000   \n",
        "21              Yasser Awadd    397.00    132.333333   \n",
        "22              Asmaa Medaht    332.00    332.000000   \n",
        "23        Camillia  Marmoush   1437.00    287.400000   \n",
        "24            carine sabbagh  12189.72    329.451892   \n",
        "25                Dina Kadry    230.00    230.000000   \n",
        "26          Dina El-dessouky   1000.08    142.868571   \n",
        "27               dina hamada     66.00     66.000000   \n",
        "28               Dina Hamada    143.00     71.500000   \n",
        "29               Dahlia Adel    632.20    316.100000   \n",
        "...                      ...       ...           ...   \n",
        "2278          Youssef Khalil    303.00    101.000000   \n",
        "2279             Tarek yehia    242.00    242.000000   \n",
        "2280          Youssra Ismail    146.40    146.400000   \n",
        "2281           Youssra Kamal    753.00    251.000000   \n",
        "2282      Youssra Al ashmawi    201.00    201.000000   \n",
        "2283     Youssef Abdelmohsen    233.20    116.600000   \n",
        "2284           yasmine Raheb     78.13     78.130000   \n",
        "2285          Yuliay Ivanova    507.20    126.800000   \n",
        "2286   Subscriber Newsletter    297.50    148.750000   \n",
        "2287             zeina addas    350.85    350.850000   \n",
        "2288            Farida  Zaki    931.50    186.300000   \n",
        "2289         Zeinab  Mutawa     160.00    160.000000   \n",
        "2290         Zeinab M.Shaker     37.00     37.000000   \n",
        "2291            zeina kassas    907.60    151.266667   \n",
        "2292            Nashwa Hafez    718.80    718.800000   \n",
        "2293              Zeina Naim     67.00     67.000000   \n",
        "2294             Zeinab Taha    106.30    106.300000   \n",
        "2295        Dr/ Hisham fahmi    743.00    247.666667   \n",
        "2296        Zeinab Noureldin     87.50     43.750000   \n",
        "2297            zeina hodroj    380.50    190.250000   \n",
        "2298             Zeina Tarek   1148.40    164.057143   \n",
        "2299          Reham Abdullah    336.00    168.000000   \n",
        "2300         Zena Abdelbaky     302.50    151.250000   \n",
        "2301           Zeyad Attalla     97.40     97.400000   \n",
        "2302               Ziad Ihab     47.00     47.000000   \n",
        "2303             Usama Gamal     59.00     59.000000   \n",
        "2304            Zina El Hini    320.02    320.020000   \n",
        "2305            Zayd Leseman   1171.57    585.785000   \n",
        "2306       amal abdelraheem     610.10    610.100000   \n",
        "2307            Amina Rashad   2933.00    419.000000   \n",
        "\n",
        "                            Segment  \\\n",
        "0              Fresh Beef & Poultry   \n",
        "1                           Variety   \n",
        "2                        Vegetables   \n",
        "3                           Variety   \n",
        "4                           Variety   \n",
        "5                               NaN   \n",
        "6                           Poultry   \n",
        "7          Grains, seeds and cereal   \n",
        "8              Fresh Beef & Poultry   \n",
        "9                            Bakery   \n",
        "10         Grains, seeds and cereal   \n",
        "11                          Variety   \n",
        "12                          Variety   \n",
        "13                           Bakery   \n",
        "14                       Vegetables   \n",
        "15                        Cosmetics   \n",
        "16                             Beef   \n",
        "17         Grains, seeds and cereal   \n",
        "18         Grains, seeds and cereal   \n",
        "19                          Variety   \n",
        "20                        Cosmetics   \n",
        "21                          Variety   \n",
        "22         Grains, seeds and cereal   \n",
        "23                              NaN   \n",
        "24                          Variety   \n",
        "25         Grains, seeds and cereal   \n",
        "26         Grains, seeds and cereal   \n",
        "27                          Poultry   \n",
        "28                   Rice and pasta   \n",
        "29                        Cosmetics   \n",
        "...                             ...   \n",
        "2278                           Beef   \n",
        "2279                        Poultry   \n",
        "2280                           Beef   \n",
        "2281                      Non dairy   \n",
        "2282                        Variety   \n",
        "2283                            NaN   \n",
        "2284                         Fruits   \n",
        "2285                        Variety   \n",
        "2286                        Variety   \n",
        "2287                        Seafood   \n",
        "2288                        Variety   \n",
        "2289                            NaN   \n",
        "2290                     Vegetables   \n",
        "2291                        Variety   \n",
        "2292                           Beef   \n",
        "2293                            NaN   \n",
        "2294                        Variety   \n",
        "2295                        Variety   \n",
        "2296                     Vegetables   \n",
        "2297                        Poultry   \n",
        "2298                        Variety   \n",
        "2299          Oil, Vinegar & Sauces   \n",
        "2300                 Rice and pasta   \n",
        "2301                           Beef   \n",
        "2302  Chocolate, cookies and snacks   \n",
        "2303                            NaN   \n",
        "2304                           Beef   \n",
        "2305                        Variety   \n",
        "2306                        Variety   \n",
        "2307  Chocolate, cookies and snacks   \n",
        "\n",
        "                                                Address  \\\n",
        "0                                                   NaN   \n",
        "1                      31 golf street  app 69/6th maadi   \n",
        "2     Street 33, Building 154, Area 1, Group 2, Taga...   \n",
        "3     23 Abdalla Deraz St.  #203 - 2nd Floor, left s...   \n",
        "4            11 shams el din el koufy st  17 heliopolis   \n",
        "5                                                   NaN   \n",
        "6                             Hadayek al ahram 20 Ahram   \n",
        "7     19 Gabalayah Street, 9th Floor, Apt 92 Zamalek...   \n",
        "8     5 eskandar el Akbar st. Heliopolis First floor...   \n",
        "9                                                   NaN   \n",
        "10    24 Extension Abo Dawood El Zahery  3rd Floor. ...   \n",
        "11                 59 Road 14, Moqattam 4th floor Cairo   \n",
        "12                16 Mohammed Thakeb, Zamalek 805 Cairo   \n",
        "13    Nasr city*Car Market*Shaban Company 10th distr...   \n",
        "14                                                  NaN   \n",
        "15                                                  NaN   \n",
        "16    31 Hamouda Mahmoud from end of Makram ebeid , ...   \n",
        "17    37 shehab street , floor 15th appartment 1 Moh...   \n",
        "18                                                  NaN   \n",
        "19    54,Mohi el din abuo el ezz,st,dokii, floor 10,...   \n",
        "20    Villa 14/4 abdelwahab mohammed street Al rehab...   \n",
        "21                                                  NaN   \n",
        "22    Km 28, Cairo Alexandria Desert Rd., Smart Vill...   \n",
        "23    5th district Amr ebn elass st.0*area h*south o...   \n",
        "24    11 Rashdan st. dokki off of mesaha square 5th ...   \n",
        "25    Almostathmeroun Alshamaleya / of 90th road / a...   \n",
        "26                                                  NaN   \n",
        "27                                                  NaN   \n",
        "28    54 el madina el gadeda st madinat el tawfik Na...   \n",
        "29                                                  NaN   \n",
        "...                                                 ...   \n",
        "2278  1 Bashar Ebn Bord street, from Ahmed el Sawi f...   \n",
        "2279                                                NaN   \n",
        "2280  12 Khan Younis street, Mohandessin  Floor 11. ...   \n",
        "2281      Al Dyar compound .new Cairo  Villa 590L Cairo   \n",
        "2282                                                NaN   \n",
        "2283         Moonvalley Compound, Rd. 90  D11 New Cairo   \n",
        "2284                                                NaN   \n",
        "2285  Beverly Hills compound  Forty west . Building ...   \n",
        "2286          19 Menis Street, ElKorba Heliopolis Cairo   \n",
        "2287          19 tahawi st, golf area heliopolise cairo   \n",
        "2288  56 Nazih Khalifa St. Heliopolis  3rd floor, Ap...   \n",
        "2289  9 El Saada street, roxy, Heliopolis  April 181...   \n",
        "2290  566 Palestine St. Ground floor, Integrant Maad...   \n",
        "2291         Madinaty Group 17, Building 8 31 New Cairo   \n",
        "2292                                                NaN   \n",
        "2293                                                NaN   \n",
        "2294                                                NaN   \n",
        "2295  4d al gazira st. befor kism el gazira off nady...   \n",
        "2296                                                NaN   \n",
        "2297                                                NaN   \n",
        "2298                                                NaN   \n",
        "2299    Baron Palace/ Heliopolis (MEETING POINT ) cairo   \n",
        "2300                                                NaN   \n",
        "2301                                                NaN   \n",
        "2302  Rehab city, settlement 81, building 2 floor 3,...   \n",
        "2303  Al-obour City Golf City  B5 Flat No. 3  Entran...   \n",
        "2304                                                NaN   \n",
        "2305     Nada Compound, Entrance 2 Villa 2 Sheikh Zayed   \n",
        "2306           4038 me3raj olwi, maadi 201 maadi, cairo   \n",
        "2307      Mountain View behind el rehab villa 6 C cairo   \n",
        "\n",
        "                            Phone  Total orders  Average days between orders  \\\n",
        "0                     01090904137             1                     0.000000   \n",
        "1                     01222160835             2                    47.000000   \n",
        "2                     01023063292             4                     5.500000   \n",
        "3                     01221124426             3                   125.000000   \n",
        "4                     01001436666             3                     7.333333   \n",
        "5                     01005510543             2                     2.500000   \n",
        "6                   0100001224555             1                     0.000000   \n",
        "7                     01222174854             1                     0.000000   \n",
        "8                     01223221581             1                     0.000000   \n",
        "9                     01066656222             1                     0.000000   \n",
        "10                    01060002000             1                     0.000000   \n",
        "11                    01222344036            23                    18.304348   \n",
        "12                    01202070773             4                     2.750000   \n",
        "13    01026442230     01093551807             4                     4.000000   \n",
        "14                    01222103099             3                     0.666667   \n",
        "15                    01019078478             1                     0.000000   \n",
        "16                    01141224422             1                     0.000000   \n",
        "17                            NaN             1                     0.000000   \n",
        "18                    01117005877             1                     0.000000   \n",
        "19                    01009599615             3                     7.000000   \n",
        "20                    01202244355             1                     0.000000   \n",
        "21                    01003588073             3                    88.666667   \n",
        "22                  +201007901118             1                     0.000000   \n",
        "23                    01002280010             5                     2.800000   \n",
        "24                    01000100745            37                    27.567568   \n",
        "25                    01000993094             1                     0.000000   \n",
        "26                    01008020608             7                    18.000000   \n",
        "27                    01001415888             1                     0.000000   \n",
        "28                    01001415888             2                    80.500000   \n",
        "29                    01145997944             2                    56.000000   \n",
        "...                           ...           ...                          ...   \n",
        "2278               00201222240595             3                    99.666667   \n",
        "2279                  01001191212             1                     0.000000   \n",
        "2280                +201114400112             1                     0.000000   \n",
        "2281                  01149734254             3                    21.333333   \n",
        "2282                  01125699291             1                     0.000000   \n",
        "2283                  01069786059             2                     5.000000   \n",
        "2284                  01221888861             1                     0.000000   \n",
        "2285                  01150888848             4                    15.750000   \n",
        "2286                  01005047970             2                   149.500000   \n",
        "2287                +201223781733             1                     0.000000   \n",
        "2288               00201001108847             5                    31.400000   \n",
        "2289                  01222107517             1                     0.000000   \n",
        "2290                 201005211550             1                     0.000000   \n",
        "2291                  01000448740             6                    55.166667   \n",
        "2292                  01141222226             1                     0.000000   \n",
        "2293                  01025550552             1                     0.000000   \n",
        "2294                  01271188471             1                     0.000000   \n",
        "2295                   0227355135             3                     8.333333   \n",
        "2296                  01002261945             2                     0.500000   \n",
        "2297                  01000892677             2                     0.000000   \n",
        "2298                +201227759372             7                    35.714286   \n",
        "2299  01007077741  /  01008664628             2                    35.500000   \n",
        "2300                  01000350409             2                   219.000000   \n",
        "2301                  01002240643             1                     0.000000   \n",
        "2302                  01116835556             1                     0.000000   \n",
        "2303                  01097902883             1                     0.000000   \n",
        "2304                  01006061566             1                     0.000000   \n",
        "2305                  01125573521             2                    35.500000   \n",
        "2306               00201023982488             1                     0.000000   \n",
        "2307                  01005497979             7                    48.571429   \n",
        "\n",
        "                                  Email  Days from Last order  \\\n",
        "0            11435mail@mkallenberger.de                   941   \n",
        "1                         1@gargour.com                   260   \n",
        "2                     1kttate@gmail.com                   114   \n",
        "3             1youniqueflower@gmail.com                    23   \n",
        "4                    3aliaa.h@gmail.com                   263   \n",
        "5              777nadiateirah@gmail.com                    32   \n",
        "6                             A2@ed.com                   102   \n",
        "7               ASHRAF.M.ZAKI@GMAIL.COM                  1174   \n",
        "8                  Adhamada@hotmail.com                  1262   \n",
        "9           Ahmed.Habash@moevenpick.com                   263   \n",
        "10    Ahmed.adel.abdelmonam@hotmail.com                   121   \n",
        "11              Aliamossallam@gmail.com                     9   \n",
        "12          Andrea.Heilman@aucegypt.edu                   291   \n",
        "13              Asmaa.ahmed@hotmail.com                    37   \n",
        "14               Attia.nevien@gmail.com                   331   \n",
        "15                Azzassallam@gmail.com                   307   \n",
        "16                    BAGBOUG@yahoo.com                   285   \n",
        "17                    Bakryna@gmail.com                  1204   \n",
        "18              Basmaha2010@hotmail.com                   249   \n",
        "19                     Bebi84@gmail.com                   976   \n",
        "20          Bouchra_erraiss@hotmail.com                   588   \n",
        "21                    Bunny_Chan@web.de                   227   \n",
        "22               Buty_Heart@hotmail.com                   209   \n",
        "23          Camillia.Marmoush@gmail.com                    25   \n",
        "24              Carinesabbagh@gmail.com                   240   \n",
        "25                 DINA_KADRY@YAHOO.COM                    52   \n",
        "26          Dina_eldessouky@hotmail.com                  1116   \n",
        "27           Dina_hamada009@hotmail.com                   364   \n",
        "28          Dina_hamada2009@hotmail.com                   210   \n",
        "29               Doholly_86@hotmail.com                    74   \n",
        "...                                 ...                   ...   \n",
        "2278               youssefkhalil@me.com                    87   \n",
        "2279           youssra.resaie@gmail.com                   526   \n",
        "2280                  youssra@gmail.com                   281   \n",
        "2281            youssra_kamal@yahoo.com                    22   \n",
        "2282          youssraaashmawi@gmail.com                    73   \n",
        "2283            yoyothetricky@gmail.com                     8   \n",
        "2284                yrelraheb@gmail.com                  1017   \n",
        "2285                yulbiba@hotmail.com                     7   \n",
        "2286              yumnakassim@gmail.com                   509   \n",
        "2287               z72addas@hotmail.com                   345   \n",
        "2288              zaki.farida@gmail.com                    60   \n",
        "2289                zedesem65@gmail.com                    39   \n",
        "2290                  zee.nap@gmail.com                   113   \n",
        "2291             zeina.kassas@gmail.com                   190   \n",
        "2292          zeina_ahmed95@hotmail.com                   423   \n",
        "2293             zeina_naim@hotmail.com                    35   \n",
        "2294          zeinabahmedtaha@yahoo.com                  1055   \n",
        "2295       zeinabkhalil2010@hotmail.com                   182   \n",
        "2296               zeinabnour@gmail.com                   416   \n",
        "2297               zeinahodroj@live.com                   276   \n",
        "2298               zeinasabry@gmail.com                   574   \n",
        "2299                zeinriham@gmail.com                    29   \n",
        "2300            zenaabdelbaky@gmail.com                   148   \n",
        "2301             zeyadattalla@yahoo.com                   225   \n",
        "2302                 ziadihab@gmail.com                   247   \n",
        "2303                ziadusama@ymail.com                    18   \n",
        "2304                zinelhini@yahoo.com                   807   \n",
        "2305                 zleseman@gmail.com                   976   \n",
        "2306            zolaykha1st@hotmail.com                   375   \n",
        "2307                zshafei@outlook.com                    20   \n",
        "\n",
        "             ...           8:00 - 10:00  10:00 - 12:00  12:00 - 14:00  \\\n",
        "0            ...                      0              0              0   \n",
        "1            ...                      0              0              0   \n",
        "2            ...                      2              1              1   \n",
        "3            ...                      0              0              1   \n",
        "4            ...                      0              0              0   \n",
        "5            ...                      0              1              1   \n",
        "6            ...                      0              0              1   \n",
        "7            ...                      1              0              0   \n",
        "8            ...                      0              0              0   \n",
        "9            ...                      0              0              0   \n",
        "10           ...                      0              0              0   \n",
        "11           ...                      0              5              5   \n",
        "12           ...                      0              2              2   \n",
        "13           ...                      0              0              0   \n",
        "14           ...                      0              0              0   \n",
        "15           ...                      0              1              0   \n",
        "16           ...                      0              0              0   \n",
        "17           ...                      0              0              0   \n",
        "18           ...                      0              0              0   \n",
        "19           ...                      0              0              1   \n",
        "20           ...                      0              0              1   \n",
        "21           ...                      0              0              1   \n",
        "22           ...                      0              0              0   \n",
        "23           ...                      0              3              2   \n",
        "24           ...                      3              2              3   \n",
        "25           ...                      0              1              0   \n",
        "26           ...                      0              0              2   \n",
        "27           ...                      0              1              0   \n",
        "28           ...                      0              0              0   \n",
        "29           ...                      0              0              0   \n",
        "...          ...                    ...            ...            ...   \n",
        "2278         ...                      0              1              0   \n",
        "2279         ...                      0              0              1   \n",
        "2280         ...                      0              0              0   \n",
        "2281         ...                      0              0              2   \n",
        "2282         ...                      0              0              0   \n",
        "2283         ...                      0              0              1   \n",
        "2284         ...                      0              0              1   \n",
        "2285         ...                      0              1              0   \n",
        "2286         ...                      0              0              0   \n",
        "2287         ...                      0              0              0   \n",
        "2288         ...                      0              0              0   \n",
        "2289         ...                      0              0              0   \n",
        "2290         ...                      0              0              0   \n",
        "2291         ...                      1              0              3   \n",
        "2292         ...                      0              0              0   \n",
        "2293         ...                      0              1              0   \n",
        "2294         ...                      0              0              0   \n",
        "2295         ...                      0              0              0   \n",
        "2296         ...                      0              1              0   \n",
        "2297         ...                      0              0              1   \n",
        "2298         ...                      0              2              2   \n",
        "2299         ...                      0              1              0   \n",
        "2300         ...                      0              0              0   \n",
        "2301         ...                      0              0              0   \n",
        "2302         ...                      0              0              0   \n",
        "2303         ...                      0              1              0   \n",
        "2304         ...                      0              0              0   \n",
        "2305         ...                      0              0              0   \n",
        "2306         ...                      1              0              0   \n",
        "2307         ...                      0              2              1   \n",
        "\n",
        "      14:00 - 16:00  16:00 - 18:00  18:00 - 20:00  20:00 - 22:00  \\\n",
        "0                 1              0              0              0   \n",
        "1                 1              1              0              0   \n",
        "2                 0              0              0              0   \n",
        "3                 0              1              0              0   \n",
        "4                 0              1              0              0   \n",
        "5                 0              0              0              0   \n",
        "6                 0              0              0              0   \n",
        "7                 0              0              0              0   \n",
        "8                 0              0              1              0   \n",
        "9                 1              0              0              0   \n",
        "10                0              0              0              0   \n",
        "11                5              2              2              2   \n",
        "12                0              0              0              0   \n",
        "13                1              2              1              0   \n",
        "14                2              1              0              0   \n",
        "15                0              0              0              0   \n",
        "16                0              0              0              0   \n",
        "17                0              0              0              0   \n",
        "18                0              0              0              0   \n",
        "19                0              1              0              0   \n",
        "20                0              0              0              0   \n",
        "21                0              1              0              1   \n",
        "22                0              1              0              0   \n",
        "23                0              0              0              0   \n",
        "24                2              5              2              2   \n",
        "25                0              0              0              0   \n",
        "26                1              1              0              1   \n",
        "27                0              0              0              0   \n",
        "28                1              0              0              0   \n",
        "29                1              0              0              0   \n",
        "...             ...            ...            ...            ...   \n",
        "2278              1              0              0              0   \n",
        "2279              0              0              0              0   \n",
        "2280              0              1              0              0   \n",
        "2281              1              0              0              0   \n",
        "2282              0              1              0              0   \n",
        "2283              1              0              0              0   \n",
        "2284              0              0              0              0   \n",
        "2285              0              0              1              1   \n",
        "2286              1              0              0              0   \n",
        "2287              1              0              0              0   \n",
        "2288              1              2              2              0   \n",
        "2289              0              0              0              0   \n",
        "2290              0              0              1              0   \n",
        "2291              1              0              0              1   \n",
        "2292              0              0              0              1   \n",
        "2293              0              0              0              0   \n",
        "2294              0              1              0              0   \n",
        "2295              1              2              0              0   \n",
        "2296              0              1              0              0   \n",
        "2297              0              0              0              0   \n",
        "2298              0              0              2              0   \n",
        "2299              0              0              0              0   \n",
        "2300              0              0              1              0   \n",
        "2301              0              0              0              0   \n",
        "2302              0              0              0              0   \n",
        "2303              0              0              0              0   \n",
        "2304              0              1              0              0   \n",
        "2305              1              0              1              0   \n",
        "2306              0              0              0              0   \n",
        "2307              3              0              0              0   \n",
        "\n",
        "      22:00 - 0:00  Average Revenue  Average Basket Size  \n",
        "0                0      1149.346496            38.447904  \n",
        "1                0      1149.346496            38.447904  \n",
        "2                0      1149.346496            38.447904  \n",
        "3                1      1149.346496            38.447904  \n",
        "4                0      1149.346496            38.447904  \n",
        "5                0      1149.346496            38.447904  \n",
        "6                0      1149.346496            38.447904  \n",
        "7                0      1149.346496            38.447904  \n",
        "8                0      1149.346496            38.447904  \n",
        "9                0      1149.346496            38.447904  \n",
        "10               0      1149.346496            38.447904  \n",
        "11               0      1149.346496            38.447904  \n",
        "12               0      1149.346496            38.447904  \n",
        "13               0      1149.346496            38.447904  \n",
        "14               0      1149.346496            38.447904  \n",
        "15               0      1149.346496            38.447904  \n",
        "16               0      1149.346496            38.447904  \n",
        "17               0      1149.346496            38.447904  \n",
        "18               1      1149.346496            38.447904  \n",
        "19               1      1149.346496            38.447904  \n",
        "20               0      1149.346496            38.447904  \n",
        "21               0      1149.346496            38.447904  \n",
        "22               0      1149.346496            38.447904  \n",
        "23               0      1149.346496            38.447904  \n",
        "24               5      1149.346496            38.447904  \n",
        "25               0      1149.346496            38.447904  \n",
        "26               0      1149.346496            38.447904  \n",
        "27               0      1149.346496            38.447904  \n",
        "28               1      1149.346496            38.447904  \n",
        "29               1      1149.346496            38.447904  \n",
        "...            ...              ...                  ...  \n",
        "2278             0      1149.346496            38.447904  \n",
        "2279             0      1149.346496            38.447904  \n",
        "2280             0      1149.346496            38.447904  \n",
        "2281             0      1149.346496            38.447904  \n",
        "2282             0      1149.346496            38.447904  \n",
        "2283             0      1149.346496            38.447904  \n",
        "2284             0      1149.346496            38.447904  \n",
        "2285             1      1149.346496            38.447904  \n",
        "2286             1      1149.346496            38.447904  \n",
        "2287             0      1149.346496            38.447904  \n",
        "2288             0      1149.346496            38.447904  \n",
        "2289             0      1149.346496            38.447904  \n",
        "2290             0      1149.346496            38.447904  \n",
        "2291             0      1149.346496            38.447904  \n",
        "2292             0      1149.346496            38.447904  \n",
        "2293             0      1149.346496            38.447904  \n",
        "2294             0      1149.346496            38.447904  \n",
        "2295             0      1149.346496            38.447904  \n",
        "2296             0      1149.346496            38.447904  \n",
        "2297             0      1149.346496            38.447904  \n",
        "2298             0      1149.346496            38.447904  \n",
        "2299             0      1149.346496            38.447904  \n",
        "2300             0      1149.346496            38.447904  \n",
        "2301             0      1149.346496            38.447904  \n",
        "2302             0      1149.346496            38.447904  \n",
        "2303             0      1149.346496            38.447904  \n",
        "2304             0      1149.346496            38.447904  \n",
        "2305             0      1149.346496            38.447904  \n",
        "2306             0      1149.346496            38.447904  \n",
        "2307             1      1149.346496            38.447904  \n",
        "\n",
        "[2308 rows x 31 columns]"
       ]
      }
     ],
     "prompt_number": 15
    },
    {
     "cell_type": "code",
     "collapsed": false,
     "input": [
      "#df3 = pd.read_csv(cfg['root']+cfg['dir_monthly_segments']+cfg['op_cust_score'])\n",
      "df3 = pd.read_csv(\"C:\\Users\\saisree849\\Documents\\GitHub\\NGS-2.0\\\\12_dashboard_tables\\\\11_monthly_segments\\cust_score.csv\")\n",
      "df3.columns = [u'Email', u'Beef', u'Dried fruits and nuts', u'Fresh Beef & Poultry', u'Fruits', u'General', u'Rice and pasta', u'Vegetables', u'Beverages', u'Cosmetics', u'Dairy', u'Food supplements', u'Grains_Seeds_Cereal', u'Herbs', u'Oil_ Vinegar_Sauces', u'Bakery', u'Condiments and paste', u'Poultry', u'Chocolate_cookies_snacks', u'Jams & spreads & honey', u'Non-dairy', u'Seafood', u'Gluten free', u'Herbal pharmacy', u'Tea and herbal drinks', u'Accessories', u'Lamb', u'Prepared food', u'Home appliance', u'Books']\n",
      "df4 = df4.merge(df3, on = ['Email'], how='left')\n",
      "\n",
      "df4[['Total orders', 'Sunday', 'Monday', 'Tuesday', 'Wednesday', 'Thursday', 'Friday', 'Saturday', '0:00 - 2:00', '2:00 - 4:00', '4:00 - 6:00', '6:00 - 8:00', '8:00 - 10:00', '10:00 - 12:00', '12:00 - 14:00', '14:00 - 16:00', '16:00 - 18:00', '18:00 - 20:00', '20:00 - 22:00', '22:00 - 0:00']] = df4[['Total orders', 'Sunday', 'Monday', 'Tuesday', 'Wednesday', 'Thursday', 'Friday', 'Saturday', '0:00 - 2:00', '2:00 - 4:00', '4:00 - 6:00', '6:00 - 8:00', '8:00 - 10:00', '10:00 - 12:00', '12:00 - 14:00', '14:00 - 16:00', '16:00 - 18:00', '18:00 - 20:00', '20:00 - 22:00', '22:00 - 0:00']].astype(float)\n",
      "df4"
     ],
     "language": "python",
     "metadata": {},
     "outputs": [
      {
       "html": [
        "<div style=\"max-height:1000px;max-width:1500px;overflow:auto;\">\n",
        "<table border=\"1\" class=\"dataframe\">\n",
        "  <thead>\n",
        "    <tr style=\"text-align: right;\">\n",
        "      <th></th>\n",
        "      <th>Name</th>\n",
        "      <th>Revenue</th>\n",
        "      <th>Basket Value</th>\n",
        "      <th>Segment</th>\n",
        "      <th>Address</th>\n",
        "      <th>Phone</th>\n",
        "      <th>Total orders</th>\n",
        "      <th>Average days between orders</th>\n",
        "      <th>Email</th>\n",
        "      <th>Days from Last order</th>\n",
        "      <th>...</th>\n",
        "      <th>Non-dairy</th>\n",
        "      <th>Seafood</th>\n",
        "      <th>Gluten free</th>\n",
        "      <th>Herbal pharmacy</th>\n",
        "      <th>Tea and herbal drinks</th>\n",
        "      <th>Accessories</th>\n",
        "      <th>Lamb</th>\n",
        "      <th>Prepared food</th>\n",
        "      <th>Home appliance</th>\n",
        "      <th>Books</th>\n",
        "    </tr>\n",
        "  </thead>\n",
        "  <tbody>\n",
        "    <tr>\n",
        "      <th>0   </th>\n",
        "      <td> Magdalena Kallenberger</td>\n",
        "      <td>   267.17</td>\n",
        "      <td> 267.170000</td>\n",
        "      <td>          Fresh Beef &amp; Poultry</td>\n",
        "      <td>                                               NaN</td>\n",
        "      <td>                 01090904137</td>\n",
        "      <td>  1</td>\n",
        "      <td>   0.000000</td>\n",
        "      <td>        11435mail@mkallenberger.de</td>\n",
        "      <td>  941</td>\n",
        "      <td>...</td>\n",
        "      <td> 0.000000</td>\n",
        "      <td> 0.000000</td>\n",
        "      <td> 0.000000</td>\n",
        "      <td> 0.000000</td>\n",
        "      <td> 0.000000</td>\n",
        "      <td> 0.000000</td>\n",
        "      <td>  0</td>\n",
        "      <td>  0</td>\n",
        "      <td>  0</td>\n",
        "      <td>  0</td>\n",
        "    </tr>\n",
        "    <tr>\n",
        "      <th>1   </th>\n",
        "      <td>          Alain  Phar\u00e8s</td>\n",
        "      <td>  1001.10</td>\n",
        "      <td> 500.550000</td>\n",
        "      <td>                       Variety</td>\n",
        "      <td>                  31 golf street  app 69/6th maadi</td>\n",
        "      <td>                 01222160835</td>\n",
        "      <td>  2</td>\n",
        "      <td>  47.000000</td>\n",
        "      <td>                     1@gargour.com</td>\n",
        "      <td>  260</td>\n",
        "      <td>...</td>\n",
        "      <td> 0.000000</td>\n",
        "      <td> 0.000000</td>\n",
        "      <td> 0.000000</td>\n",
        "      <td> 0.000000</td>\n",
        "      <td> 0.000000</td>\n",
        "      <td> 0.000000</td>\n",
        "      <td>  0</td>\n",
        "      <td>  0</td>\n",
        "      <td>  0</td>\n",
        "      <td>  0</td>\n",
        "    </tr>\n",
        "    <tr>\n",
        "      <th>2   </th>\n",
        "      <td>             Kelly Tate</td>\n",
        "      <td>   648.00</td>\n",
        "      <td> 162.000000</td>\n",
        "      <td>                    Vegetables</td>\n",
        "      <td> Street 33, Building 154, Area 1, Group 2, Taga...</td>\n",
        "      <td>                 01023063292</td>\n",
        "      <td>  4</td>\n",
        "      <td>   5.500000</td>\n",
        "      <td>                 1kttate@gmail.com</td>\n",
        "      <td>  114</td>\n",
        "      <td>...</td>\n",
        "      <td> 0.000000</td>\n",
        "      <td> 0.000000</td>\n",
        "      <td> 0.000000</td>\n",
        "      <td> 0.000000</td>\n",
        "      <td> 0.000000</td>\n",
        "      <td> 0.000000</td>\n",
        "      <td>  0</td>\n",
        "      <td>  0</td>\n",
        "      <td>  0</td>\n",
        "      <td>  0</td>\n",
        "    </tr>\n",
        "    <tr>\n",
        "      <th>3   </th>\n",
        "      <td>             Lara Scott</td>\n",
        "      <td>   909.00</td>\n",
        "      <td> 303.000000</td>\n",
        "      <td>                       Variety</td>\n",
        "      <td> 23 Abdalla Deraz St.  #203 - 2nd Floor, left s...</td>\n",
        "      <td>                 01221124426</td>\n",
        "      <td>  3</td>\n",
        "      <td> 125.000000</td>\n",
        "      <td>         1youniqueflower@gmail.com</td>\n",
        "      <td>   23</td>\n",
        "      <td>...</td>\n",
        "      <td> 0.000000</td>\n",
        "      <td> 0.000000</td>\n",
        "      <td> 0.000000</td>\n",
        "      <td> 0.000000</td>\n",
        "      <td> 0.000000</td>\n",
        "      <td> 0.000000</td>\n",
        "      <td>  0</td>\n",
        "      <td>  0</td>\n",
        "      <td>  0</td>\n",
        "      <td>  0</td>\n",
        "    </tr>\n",
        "    <tr>\n",
        "      <th>4   </th>\n",
        "      <td>          mohamed tolba</td>\n",
        "      <td>   160.00</td>\n",
        "      <td>  53.333333</td>\n",
        "      <td>                       Variety</td>\n",
        "      <td>        11 shams el din el koufy st  17 heliopolis</td>\n",
        "      <td>                 01001436666</td>\n",
        "      <td>  3</td>\n",
        "      <td>   7.333333</td>\n",
        "      <td>                3aliaa.h@gmail.com</td>\n",
        "      <td>  263</td>\n",
        "      <td>...</td>\n",
        "      <td> 0.000000</td>\n",
        "      <td> 0.000000</td>\n",
        "      <td> 0.000000</td>\n",
        "      <td> 0.000000</td>\n",
        "      <td> 0.000000</td>\n",
        "      <td> 0.000000</td>\n",
        "      <td>  0</td>\n",
        "      <td>  0</td>\n",
        "      <td>  0</td>\n",
        "      <td>  0</td>\n",
        "    </tr>\n",
        "    <tr>\n",
        "      <th>5   </th>\n",
        "      <td>           Nadia Teirah</td>\n",
        "      <td>   290.00</td>\n",
        "      <td> 145.000000</td>\n",
        "      <td>                           NaN</td>\n",
        "      <td>                                               NaN</td>\n",
        "      <td>                 01005510543</td>\n",
        "      <td>  2</td>\n",
        "      <td>   2.500000</td>\n",
        "      <td>          777nadiateirah@gmail.com</td>\n",
        "      <td>   32</td>\n",
        "      <td>...</td>\n",
        "      <td>      NaN</td>\n",
        "      <td>      NaN</td>\n",
        "      <td>      NaN</td>\n",
        "      <td>      NaN</td>\n",
        "      <td>      NaN</td>\n",
        "      <td>      NaN</td>\n",
        "      <td>NaN</td>\n",
        "      <td>NaN</td>\n",
        "      <td>NaN</td>\n",
        "      <td>NaN</td>\n",
        "    </tr>\n",
        "    <tr>\n",
        "      <th>6   </th>\n",
        "      <td>          Aladdin Nabil</td>\n",
        "      <td>    30.00</td>\n",
        "      <td>  30.000000</td>\n",
        "      <td>                       Poultry</td>\n",
        "      <td>                         Hadayek al ahram 20 Ahram</td>\n",
        "      <td>               0100001224555</td>\n",
        "      <td>  1</td>\n",
        "      <td>   0.000000</td>\n",
        "      <td>                         A2@ed.com</td>\n",
        "      <td>  102</td>\n",
        "      <td>...</td>\n",
        "      <td> 0.000000</td>\n",
        "      <td> 0.000000</td>\n",
        "      <td> 0.000000</td>\n",
        "      <td> 0.000000</td>\n",
        "      <td> 0.000000</td>\n",
        "      <td> 0.000000</td>\n",
        "      <td>  0</td>\n",
        "      <td>  0</td>\n",
        "      <td>  0</td>\n",
        "      <td>  0</td>\n",
        "    </tr>\n",
        "    <tr>\n",
        "      <th>7   </th>\n",
        "      <td>            ASHRAF ZAKI</td>\n",
        "      <td>   300.18</td>\n",
        "      <td> 300.180000</td>\n",
        "      <td>      Grains, seeds and cereal</td>\n",
        "      <td> 19 Gabalayah Street, 9th Floor, Apt 92 Zamalek...</td>\n",
        "      <td>                 01222174854</td>\n",
        "      <td>  1</td>\n",
        "      <td>   0.000000</td>\n",
        "      <td>           ASHRAF.M.ZAKI@GMAIL.COM</td>\n",
        "      <td> 1174</td>\n",
        "      <td>...</td>\n",
        "      <td> 0.000000</td>\n",
        "      <td> 0.000000</td>\n",
        "      <td> 0.000000</td>\n",
        "      <td> 0.000000</td>\n",
        "      <td> 0.000000</td>\n",
        "      <td> 0.000000</td>\n",
        "      <td>  0</td>\n",
        "      <td>  0</td>\n",
        "      <td>  0</td>\n",
        "      <td>  0</td>\n",
        "    </tr>\n",
        "    <tr>\n",
        "      <th>8   </th>\n",
        "      <td>           Adham Hamada</td>\n",
        "      <td>    61.20</td>\n",
        "      <td>  61.200000</td>\n",
        "      <td>          Fresh Beef &amp; Poultry</td>\n",
        "      <td> 5 eskandar el Akbar st. Heliopolis First floor...</td>\n",
        "      <td>                 01223221581</td>\n",
        "      <td>  1</td>\n",
        "      <td>   0.000000</td>\n",
        "      <td>              Adhamada@hotmail.com</td>\n",
        "      <td> 1262</td>\n",
        "      <td>...</td>\n",
        "      <td> 0.000000</td>\n",
        "      <td> 0.000000</td>\n",
        "      <td> 0.000000</td>\n",
        "      <td> 0.000000</td>\n",
        "      <td> 0.000000</td>\n",
        "      <td> 0.000000</td>\n",
        "      <td>  0</td>\n",
        "      <td>  0</td>\n",
        "      <td>  0</td>\n",
        "      <td>  0</td>\n",
        "    </tr>\n",
        "    <tr>\n",
        "      <th>9   </th>\n",
        "      <td>           Ahmed Habash</td>\n",
        "      <td>   360.00</td>\n",
        "      <td> 360.000000</td>\n",
        "      <td>                        Bakery</td>\n",
        "      <td>                                               NaN</td>\n",
        "      <td>                 01066656222</td>\n",
        "      <td>  1</td>\n",
        "      <td>   0.000000</td>\n",
        "      <td>       Ahmed.Habash@moevenpick.com</td>\n",
        "      <td>  263</td>\n",
        "      <td>...</td>\n",
        "      <td> 0.000000</td>\n",
        "      <td> 0.000000</td>\n",
        "      <td> 0.000000</td>\n",
        "      <td> 0.000000</td>\n",
        "      <td> 0.000000</td>\n",
        "      <td> 0.000000</td>\n",
        "      <td>  0</td>\n",
        "      <td>  0</td>\n",
        "      <td>  0</td>\n",
        "      <td>  0</td>\n",
        "    </tr>\n",
        "    <tr>\n",
        "      <th>10  </th>\n",
        "      <td>             Ahmed Adel</td>\n",
        "      <td>   424.00</td>\n",
        "      <td> 424.000000</td>\n",
        "      <td>      Grains, seeds and cereal</td>\n",
        "      <td> 24 Extension Abo Dawood El Zahery  3rd Floor. ...</td>\n",
        "      <td>                 01060002000</td>\n",
        "      <td>  1</td>\n",
        "      <td>   0.000000</td>\n",
        "      <td> Ahmed.adel.abdelmonam@hotmail.com</td>\n",
        "      <td>  121</td>\n",
        "      <td>...</td>\n",
        "      <td> 0.000000</td>\n",
        "      <td> 0.000000</td>\n",
        "      <td> 0.000000</td>\n",
        "      <td> 0.000000</td>\n",
        "      <td> 0.000000</td>\n",
        "      <td> 0.000000</td>\n",
        "      <td>  0</td>\n",
        "      <td>  0</td>\n",
        "      <td>  0</td>\n",
        "      <td>  0</td>\n",
        "    </tr>\n",
        "    <tr>\n",
        "      <th>11  </th>\n",
        "      <td>         Alia Mossallam</td>\n",
        "      <td>  7096.62</td>\n",
        "      <td> 308.548696</td>\n",
        "      <td>                       Variety</td>\n",
        "      <td>              59 Road 14, Moqattam 4th floor Cairo</td>\n",
        "      <td>                 01222344036</td>\n",
        "      <td> 23</td>\n",
        "      <td>  18.304348</td>\n",
        "      <td>           Aliamossallam@gmail.com</td>\n",
        "      <td>    9</td>\n",
        "      <td>...</td>\n",
        "      <td> 0.042863</td>\n",
        "      <td> 0.021258</td>\n",
        "      <td> 0.000000</td>\n",
        "      <td> 0.000000</td>\n",
        "      <td> 0.000000</td>\n",
        "      <td> 0.000000</td>\n",
        "      <td>  0</td>\n",
        "      <td>  0</td>\n",
        "      <td>  0</td>\n",
        "      <td>  0</td>\n",
        "    </tr>\n",
        "    <tr>\n",
        "      <th>12  </th>\n",
        "      <td>         Andrea Heilman</td>\n",
        "      <td>   819.10</td>\n",
        "      <td> 204.775000</td>\n",
        "      <td>                       Variety</td>\n",
        "      <td>             16 Mohammed Thakeb, Zamalek 805 Cairo</td>\n",
        "      <td>                 01202070773</td>\n",
        "      <td>  4</td>\n",
        "      <td>   2.750000</td>\n",
        "      <td>       Andrea.Heilman@aucegypt.edu</td>\n",
        "      <td>  291</td>\n",
        "      <td>...</td>\n",
        "      <td> 0.000000</td>\n",
        "      <td> 0.000000</td>\n",
        "      <td> 0.000000</td>\n",
        "      <td> 0.000000</td>\n",
        "      <td> 0.000000</td>\n",
        "      <td> 0.000000</td>\n",
        "      <td>  0</td>\n",
        "      <td>  0</td>\n",
        "      <td>  0</td>\n",
        "      <td>  0</td>\n",
        "    </tr>\n",
        "    <tr>\n",
        "      <th>13  </th>\n",
        "      <td>            Asmaa Ahmed</td>\n",
        "      <td>  3404.00</td>\n",
        "      <td> 851.000000</td>\n",
        "      <td>                        Bakery</td>\n",
        "      <td> Nasr city*Car Market*Shaban Company 10th distr...</td>\n",
        "      <td> 01026442230     01093551807</td>\n",
        "      <td>  4</td>\n",
        "      <td>   4.000000</td>\n",
        "      <td>           Asmaa.ahmed@hotmail.com</td>\n",
        "      <td>   37</td>\n",
        "      <td>...</td>\n",
        "      <td> 0.392297</td>\n",
        "      <td> 0.000000</td>\n",
        "      <td> 0.000000</td>\n",
        "      <td> 0.000000</td>\n",
        "      <td> 0.000000</td>\n",
        "      <td> 0.000000</td>\n",
        "      <td>  0</td>\n",
        "      <td>  0</td>\n",
        "      <td>  0</td>\n",
        "      <td>  0</td>\n",
        "    </tr>\n",
        "    <tr>\n",
        "      <th>14  </th>\n",
        "      <td>           Sherif Saleh</td>\n",
        "      <td>   475.00</td>\n",
        "      <td> 158.333333</td>\n",
        "      <td>                    Vegetables</td>\n",
        "      <td>                                               NaN</td>\n",
        "      <td>                 01222103099</td>\n",
        "      <td>  3</td>\n",
        "      <td>   0.666667</td>\n",
        "      <td>            Attia.nevien@gmail.com</td>\n",
        "      <td>  331</td>\n",
        "      <td>...</td>\n",
        "      <td> 0.000000</td>\n",
        "      <td> 0.000000</td>\n",
        "      <td> 0.000000</td>\n",
        "      <td> 0.000000</td>\n",
        "      <td> 0.000000</td>\n",
        "      <td> 0.000000</td>\n",
        "      <td>  0</td>\n",
        "      <td>  0</td>\n",
        "      <td>  0</td>\n",
        "      <td>  0</td>\n",
        "    </tr>\n",
        "    <tr>\n",
        "      <th>15  </th>\n",
        "      <td>            Azza Sallam</td>\n",
        "      <td>    45.00</td>\n",
        "      <td>  45.000000</td>\n",
        "      <td>                     Cosmetics</td>\n",
        "      <td>                                               NaN</td>\n",
        "      <td>                 01019078478</td>\n",
        "      <td>  1</td>\n",
        "      <td>   0.000000</td>\n",
        "      <td>             Azzassallam@gmail.com</td>\n",
        "      <td>  307</td>\n",
        "      <td>...</td>\n",
        "      <td> 0.000000</td>\n",
        "      <td> 0.000000</td>\n",
        "      <td> 0.000000</td>\n",
        "      <td> 0.000000</td>\n",
        "      <td> 0.000000</td>\n",
        "      <td> 0.000000</td>\n",
        "      <td>  0</td>\n",
        "      <td>  0</td>\n",
        "      <td>  0</td>\n",
        "      <td>  0</td>\n",
        "    </tr>\n",
        "    <tr>\n",
        "      <th>16  </th>\n",
        "      <td>         Brigitte Kamal</td>\n",
        "      <td>   113.50</td>\n",
        "      <td> 113.500000</td>\n",
        "      <td>                          Beef</td>\n",
        "      <td> 31 Hamouda Mahmoud from end of Makram ebeid , ...</td>\n",
        "      <td>                 01141224422</td>\n",
        "      <td>  1</td>\n",
        "      <td>   0.000000</td>\n",
        "      <td>                 BAGBOUG@yahoo.com</td>\n",
        "      <td>  285</td>\n",
        "      <td>...</td>\n",
        "      <td> 0.000000</td>\n",
        "      <td> 0.000000</td>\n",
        "      <td> 0.000000</td>\n",
        "      <td> 0.000000</td>\n",
        "      <td> 0.000000</td>\n",
        "      <td> 0.000000</td>\n",
        "      <td>  0</td>\n",
        "      <td>  0</td>\n",
        "      <td>  0</td>\n",
        "      <td>  0</td>\n",
        "    </tr>\n",
        "    <tr>\n",
        "      <th>17  </th>\n",
        "      <td>              Nna Bakry</td>\n",
        "      <td>   122.25</td>\n",
        "      <td> 122.250000</td>\n",
        "      <td>      Grains, seeds and cereal</td>\n",
        "      <td> 37 shehab street , floor 15th appartment 1 Moh...</td>\n",
        "      <td>                         NaN</td>\n",
        "      <td>  1</td>\n",
        "      <td>   0.000000</td>\n",
        "      <td>                 Bakryna@gmail.com</td>\n",
        "      <td> 1204</td>\n",
        "      <td>...</td>\n",
        "      <td> 0.000000</td>\n",
        "      <td> 0.000000</td>\n",
        "      <td> 0.000000</td>\n",
        "      <td> 0.000000</td>\n",
        "      <td> 0.000000</td>\n",
        "      <td> 0.000000</td>\n",
        "      <td>  0</td>\n",
        "      <td>  0</td>\n",
        "      <td>  0</td>\n",
        "      <td>  0</td>\n",
        "    </tr>\n",
        "    <tr>\n",
        "      <th>18  </th>\n",
        "      <td>          Basma Elgazar</td>\n",
        "      <td>    55.00</td>\n",
        "      <td>  55.000000</td>\n",
        "      <td>      Grains, seeds and cereal</td>\n",
        "      <td>                                               NaN</td>\n",
        "      <td>                 01117005877</td>\n",
        "      <td>  1</td>\n",
        "      <td>   0.000000</td>\n",
        "      <td>           Basmaha2010@hotmail.com</td>\n",
        "      <td>  249</td>\n",
        "      <td>...</td>\n",
        "      <td> 0.000000</td>\n",
        "      <td> 0.000000</td>\n",
        "      <td> 0.000000</td>\n",
        "      <td> 0.000000</td>\n",
        "      <td> 0.000000</td>\n",
        "      <td> 0.000000</td>\n",
        "      <td>  0</td>\n",
        "      <td>  0</td>\n",
        "      <td>  0</td>\n",
        "      <td>  0</td>\n",
        "    </tr>\n",
        "    <tr>\n",
        "      <th>19  </th>\n",
        "      <td>             Heba Ragab</td>\n",
        "      <td>   411.19</td>\n",
        "      <td> 137.063333</td>\n",
        "      <td>                       Variety</td>\n",
        "      <td> 54,Mohi el din abuo el ezz,st,dokii, floor 10,...</td>\n",
        "      <td>                 01009599615</td>\n",
        "      <td>  3</td>\n",
        "      <td>   7.000000</td>\n",
        "      <td>                  Bebi84@gmail.com</td>\n",
        "      <td>  976</td>\n",
        "      <td>...</td>\n",
        "      <td> 0.043266</td>\n",
        "      <td> 0.000000</td>\n",
        "      <td> 0.000000</td>\n",
        "      <td> 0.000000</td>\n",
        "      <td> 0.000000</td>\n",
        "      <td> 0.000000</td>\n",
        "      <td>  0</td>\n",
        "      <td>  0</td>\n",
        "      <td>  0</td>\n",
        "      <td>  0</td>\n",
        "    </tr>\n",
        "    <tr>\n",
        "      <th>20  </th>\n",
        "      <td>         Haisam Soliman</td>\n",
        "      <td>   285.75</td>\n",
        "      <td> 285.750000</td>\n",
        "      <td>                     Cosmetics</td>\n",
        "      <td> Villa 14/4 abdelwahab mohammed street Al rehab...</td>\n",
        "      <td>                 01202244355</td>\n",
        "      <td>  1</td>\n",
        "      <td>   0.000000</td>\n",
        "      <td>       Bouchra_erraiss@hotmail.com</td>\n",
        "      <td>  588</td>\n",
        "      <td>...</td>\n",
        "      <td> 0.223972</td>\n",
        "      <td> 0.000000</td>\n",
        "      <td> 0.000000</td>\n",
        "      <td> 0.000000</td>\n",
        "      <td> 0.000000</td>\n",
        "      <td> 0.000000</td>\n",
        "      <td>  0</td>\n",
        "      <td>  0</td>\n",
        "      <td>  0</td>\n",
        "      <td>  0</td>\n",
        "    </tr>\n",
        "    <tr>\n",
        "      <th>21  </th>\n",
        "      <td>           Yasser Awadd</td>\n",
        "      <td>   397.00</td>\n",
        "      <td> 132.333333</td>\n",
        "      <td>                       Variety</td>\n",
        "      <td>                                               NaN</td>\n",
        "      <td>                 01003588073</td>\n",
        "      <td>  3</td>\n",
        "      <td>  88.666667</td>\n",
        "      <td>                 Bunny_Chan@web.de</td>\n",
        "      <td>  227</td>\n",
        "      <td>...</td>\n",
        "      <td> 0.000000</td>\n",
        "      <td> 0.000000</td>\n",
        "      <td> 0.000000</td>\n",
        "      <td> 0.000000</td>\n",
        "      <td> 0.000000</td>\n",
        "      <td> 0.000000</td>\n",
        "      <td>  0</td>\n",
        "      <td>  0</td>\n",
        "      <td>  0</td>\n",
        "      <td>  0</td>\n",
        "    </tr>\n",
        "    <tr>\n",
        "      <th>22  </th>\n",
        "      <td>           Asmaa Medaht</td>\n",
        "      <td>   332.00</td>\n",
        "      <td> 332.000000</td>\n",
        "      <td>      Grains, seeds and cereal</td>\n",
        "      <td> Km 28, Cairo Alexandria Desert Rd., Smart Vill...</td>\n",
        "      <td>               +201007901118</td>\n",
        "      <td>  1</td>\n",
        "      <td>   0.000000</td>\n",
        "      <td>            Buty_Heart@hotmail.com</td>\n",
        "      <td>  209</td>\n",
        "      <td>...</td>\n",
        "      <td> 0.000000</td>\n",
        "      <td> 0.000000</td>\n",
        "      <td> 0.000000</td>\n",
        "      <td> 0.000000</td>\n",
        "      <td> 0.000000</td>\n",
        "      <td> 0.000000</td>\n",
        "      <td>  0</td>\n",
        "      <td>  0</td>\n",
        "      <td>  0</td>\n",
        "      <td>  0</td>\n",
        "    </tr>\n",
        "    <tr>\n",
        "      <th>23  </th>\n",
        "      <td>     Camillia  Marmoush</td>\n",
        "      <td>  1437.00</td>\n",
        "      <td> 287.400000</td>\n",
        "      <td>                           NaN</td>\n",
        "      <td> 5th district Amr ebn elass st.0*area h*south o...</td>\n",
        "      <td>                 01002280010</td>\n",
        "      <td>  5</td>\n",
        "      <td>   2.800000</td>\n",
        "      <td>       Camillia.Marmoush@gmail.com</td>\n",
        "      <td>   25</td>\n",
        "      <td>...</td>\n",
        "      <td>      NaN</td>\n",
        "      <td>      NaN</td>\n",
        "      <td>      NaN</td>\n",
        "      <td>      NaN</td>\n",
        "      <td>      NaN</td>\n",
        "      <td>      NaN</td>\n",
        "      <td>NaN</td>\n",
        "      <td>NaN</td>\n",
        "      <td>NaN</td>\n",
        "      <td>NaN</td>\n",
        "    </tr>\n",
        "    <tr>\n",
        "      <th>24  </th>\n",
        "      <td>         carine sabbagh</td>\n",
        "      <td> 12189.72</td>\n",
        "      <td> 329.451892</td>\n",
        "      <td>                       Variety</td>\n",
        "      <td> 11 Rashdan st. dokki off of mesaha square 5th ...</td>\n",
        "      <td>                 01000100745</td>\n",
        "      <td> 37</td>\n",
        "      <td>  27.567568</td>\n",
        "      <td>           Carinesabbagh@gmail.com</td>\n",
        "      <td>  240</td>\n",
        "      <td>...</td>\n",
        "      <td> 0.000000</td>\n",
        "      <td> 0.016135</td>\n",
        "      <td> 0.003061</td>\n",
        "      <td> 0.003836</td>\n",
        "      <td> 0.000000</td>\n",
        "      <td> 0.000000</td>\n",
        "      <td>  0</td>\n",
        "      <td>  0</td>\n",
        "      <td>  0</td>\n",
        "      <td>  0</td>\n",
        "    </tr>\n",
        "    <tr>\n",
        "      <th>25  </th>\n",
        "      <td>             Dina Kadry</td>\n",
        "      <td>   230.00</td>\n",
        "      <td> 230.000000</td>\n",
        "      <td>      Grains, seeds and cereal</td>\n",
        "      <td> Almostathmeroun Alshamaleya / of 90th road / a...</td>\n",
        "      <td>                 01000993094</td>\n",
        "      <td>  1</td>\n",
        "      <td>   0.000000</td>\n",
        "      <td>              DINA_KADRY@YAHOO.COM</td>\n",
        "      <td>   52</td>\n",
        "      <td>...</td>\n",
        "      <td> 0.000000</td>\n",
        "      <td> 0.000000</td>\n",
        "      <td> 0.000000</td>\n",
        "      <td> 0.000000</td>\n",
        "      <td> 0.000000</td>\n",
        "      <td> 0.000000</td>\n",
        "      <td>  0</td>\n",
        "      <td>  0</td>\n",
        "      <td>  0</td>\n",
        "      <td>  0</td>\n",
        "    </tr>\n",
        "    <tr>\n",
        "      <th>26  </th>\n",
        "      <td>       Dina El-dessouky</td>\n",
        "      <td>  1000.08</td>\n",
        "      <td> 142.868571</td>\n",
        "      <td>      Grains, seeds and cereal</td>\n",
        "      <td>                                               NaN</td>\n",
        "      <td>                 01008020608</td>\n",
        "      <td>  7</td>\n",
        "      <td>  18.000000</td>\n",
        "      <td>       Dina_eldessouky@hotmail.com</td>\n",
        "      <td> 1116</td>\n",
        "      <td>...</td>\n",
        "      <td> 0.000000</td>\n",
        "      <td> 0.000000</td>\n",
        "      <td> 0.000000</td>\n",
        "      <td> 0.000000</td>\n",
        "      <td> 0.000000</td>\n",
        "      <td> 0.000000</td>\n",
        "      <td>  0</td>\n",
        "      <td>  0</td>\n",
        "      <td>  0</td>\n",
        "      <td>  0</td>\n",
        "    </tr>\n",
        "    <tr>\n",
        "      <th>27  </th>\n",
        "      <td>            dina hamada</td>\n",
        "      <td>    66.00</td>\n",
        "      <td>  66.000000</td>\n",
        "      <td>                       Poultry</td>\n",
        "      <td>                                               NaN</td>\n",
        "      <td>                 01001415888</td>\n",
        "      <td>  1</td>\n",
        "      <td>   0.000000</td>\n",
        "      <td>        Dina_hamada009@hotmail.com</td>\n",
        "      <td>  364</td>\n",
        "      <td>...</td>\n",
        "      <td> 0.000000</td>\n",
        "      <td> 0.000000</td>\n",
        "      <td> 0.000000</td>\n",
        "      <td> 0.000000</td>\n",
        "      <td> 0.000000</td>\n",
        "      <td> 0.000000</td>\n",
        "      <td>  0</td>\n",
        "      <td>  0</td>\n",
        "      <td>  0</td>\n",
        "      <td>  0</td>\n",
        "    </tr>\n",
        "    <tr>\n",
        "      <th>28  </th>\n",
        "      <td>            Dina Hamada</td>\n",
        "      <td>   143.00</td>\n",
        "      <td>  71.500000</td>\n",
        "      <td>                Rice and pasta</td>\n",
        "      <td> 54 el madina el gadeda st madinat el tawfik Na...</td>\n",
        "      <td>                 01001415888</td>\n",
        "      <td>  2</td>\n",
        "      <td>  80.500000</td>\n",
        "      <td>       Dina_hamada2009@hotmail.com</td>\n",
        "      <td>  210</td>\n",
        "      <td>...</td>\n",
        "      <td> 0.000000</td>\n",
        "      <td> 0.000000</td>\n",
        "      <td> 0.000000</td>\n",
        "      <td> 0.000000</td>\n",
        "      <td> 0.000000</td>\n",
        "      <td> 0.000000</td>\n",
        "      <td>  0</td>\n",
        "      <td>  0</td>\n",
        "      <td>  0</td>\n",
        "      <td>  0</td>\n",
        "    </tr>\n",
        "    <tr>\n",
        "      <th>29  </th>\n",
        "      <td>            Dahlia Adel</td>\n",
        "      <td>   632.20</td>\n",
        "      <td> 316.100000</td>\n",
        "      <td>                     Cosmetics</td>\n",
        "      <td>                                               NaN</td>\n",
        "      <td>                 01145997944</td>\n",
        "      <td>  2</td>\n",
        "      <td>  56.000000</td>\n",
        "      <td>            Doholly_86@hotmail.com</td>\n",
        "      <td>   74</td>\n",
        "      <td>...</td>\n",
        "      <td> 0.000000</td>\n",
        "      <td> 0.000000</td>\n",
        "      <td> 0.000000</td>\n",
        "      <td> 0.000000</td>\n",
        "      <td> 0.043011</td>\n",
        "      <td> 0.000000</td>\n",
        "      <td>  0</td>\n",
        "      <td>  0</td>\n",
        "      <td>  0</td>\n",
        "      <td>  0</td>\n",
        "    </tr>\n",
        "    <tr>\n",
        "      <th>...</th>\n",
        "      <td>...</td>\n",
        "      <td>...</td>\n",
        "      <td>...</td>\n",
        "      <td>...</td>\n",
        "      <td>...</td>\n",
        "      <td>...</td>\n",
        "      <td>...</td>\n",
        "      <td>...</td>\n",
        "      <td>...</td>\n",
        "      <td>...</td>\n",
        "      <td>...</td>\n",
        "      <td>...</td>\n",
        "      <td>...</td>\n",
        "      <td>...</td>\n",
        "      <td>...</td>\n",
        "      <td>...</td>\n",
        "      <td>...</td>\n",
        "      <td>...</td>\n",
        "      <td>...</td>\n",
        "      <td>...</td>\n",
        "      <td>...</td>\n",
        "    </tr>\n",
        "    <tr>\n",
        "      <th>2278</th>\n",
        "      <td>         Youssef Khalil</td>\n",
        "      <td>   303.00</td>\n",
        "      <td> 101.000000</td>\n",
        "      <td>                          Beef</td>\n",
        "      <td> 1 Bashar Ebn Bord street, from Ahmed el Sawi f...</td>\n",
        "      <td>              00201222240595</td>\n",
        "      <td>  3</td>\n",
        "      <td>  99.666667</td>\n",
        "      <td>              youssefkhalil@me.com</td>\n",
        "      <td>   87</td>\n",
        "      <td>...</td>\n",
        "      <td> 0.000000</td>\n",
        "      <td> 0.204620</td>\n",
        "      <td> 0.000000</td>\n",
        "      <td> 0.000000</td>\n",
        "      <td> 0.000000</td>\n",
        "      <td> 0.000000</td>\n",
        "      <td>  0</td>\n",
        "      <td>  0</td>\n",
        "      <td>  0</td>\n",
        "      <td>  0</td>\n",
        "    </tr>\n",
        "    <tr>\n",
        "      <th>2279</th>\n",
        "      <td>            Tarek yehia</td>\n",
        "      <td>   242.00</td>\n",
        "      <td> 242.000000</td>\n",
        "      <td>                       Poultry</td>\n",
        "      <td>                                               NaN</td>\n",
        "      <td>                 01001191212</td>\n",
        "      <td>  1</td>\n",
        "      <td>   0.000000</td>\n",
        "      <td>          youssra.resaie@gmail.com</td>\n",
        "      <td>  526</td>\n",
        "      <td>...</td>\n",
        "      <td> 0.000000</td>\n",
        "      <td> 0.000000</td>\n",
        "      <td> 0.000000</td>\n",
        "      <td> 0.000000</td>\n",
        "      <td> 0.000000</td>\n",
        "      <td> 0.000000</td>\n",
        "      <td>  0</td>\n",
        "      <td>  0</td>\n",
        "      <td>  0</td>\n",
        "      <td>  0</td>\n",
        "    </tr>\n",
        "    <tr>\n",
        "      <th>2280</th>\n",
        "      <td>         Youssra Ismail</td>\n",
        "      <td>   146.40</td>\n",
        "      <td> 146.400000</td>\n",
        "      <td>                          Beef</td>\n",
        "      <td> 12 Khan Younis street, Mohandessin  Floor 11. ...</td>\n",
        "      <td>               +201114400112</td>\n",
        "      <td>  1</td>\n",
        "      <td>   0.000000</td>\n",
        "      <td>                 youssra@gmail.com</td>\n",
        "      <td>  281</td>\n",
        "      <td>...</td>\n",
        "      <td> 0.000000</td>\n",
        "      <td> 0.000000</td>\n",
        "      <td> 0.000000</td>\n",
        "      <td> 0.000000</td>\n",
        "      <td> 0.000000</td>\n",
        "      <td> 0.000000</td>\n",
        "      <td>  0</td>\n",
        "      <td>  0</td>\n",
        "      <td>  0</td>\n",
        "      <td>  0</td>\n",
        "    </tr>\n",
        "    <tr>\n",
        "      <th>2281</th>\n",
        "      <td>          Youssra Kamal</td>\n",
        "      <td>   753.00</td>\n",
        "      <td> 251.000000</td>\n",
        "      <td>                     Non dairy</td>\n",
        "      <td>     Al Dyar compound .new Cairo  Villa 590L Cairo</td>\n",
        "      <td>                 01149734254</td>\n",
        "      <td>  3</td>\n",
        "      <td>  21.333333</td>\n",
        "      <td>           youssra_kamal@yahoo.com</td>\n",
        "      <td>   22</td>\n",
        "      <td>...</td>\n",
        "      <td> 0.470588</td>\n",
        "      <td> 0.000000</td>\n",
        "      <td> 0.000000</td>\n",
        "      <td> 0.000000</td>\n",
        "      <td> 0.000000</td>\n",
        "      <td> 0.000000</td>\n",
        "      <td>  0</td>\n",
        "      <td>  0</td>\n",
        "      <td>  0</td>\n",
        "      <td>  0</td>\n",
        "    </tr>\n",
        "    <tr>\n",
        "      <th>2282</th>\n",
        "      <td>     Youssra Al ashmawi</td>\n",
        "      <td>   201.00</td>\n",
        "      <td> 201.000000</td>\n",
        "      <td>                       Variety</td>\n",
        "      <td>                                               NaN</td>\n",
        "      <td>                 01125699291</td>\n",
        "      <td>  1</td>\n",
        "      <td>   0.000000</td>\n",
        "      <td>         youssraaashmawi@gmail.com</td>\n",
        "      <td>   73</td>\n",
        "      <td>...</td>\n",
        "      <td> 0.323383</td>\n",
        "      <td> 0.000000</td>\n",
        "      <td> 0.000000</td>\n",
        "      <td> 0.000000</td>\n",
        "      <td> 0.000000</td>\n",
        "      <td> 0.000000</td>\n",
        "      <td>  0</td>\n",
        "      <td>  0</td>\n",
        "      <td>  0</td>\n",
        "      <td>  0</td>\n",
        "    </tr>\n",
        "    <tr>\n",
        "      <th>2283</th>\n",
        "      <td>    Youssef Abdelmohsen</td>\n",
        "      <td>   233.20</td>\n",
        "      <td> 116.600000</td>\n",
        "      <td>                           NaN</td>\n",
        "      <td>        Moonvalley Compound, Rd. 90  D11 New Cairo</td>\n",
        "      <td>                 01069786059</td>\n",
        "      <td>  2</td>\n",
        "      <td>   5.000000</td>\n",
        "      <td>           yoyothetricky@gmail.com</td>\n",
        "      <td>    8</td>\n",
        "      <td>...</td>\n",
        "      <td>      NaN</td>\n",
        "      <td>      NaN</td>\n",
        "      <td>      NaN</td>\n",
        "      <td>      NaN</td>\n",
        "      <td>      NaN</td>\n",
        "      <td>      NaN</td>\n",
        "      <td>NaN</td>\n",
        "      <td>NaN</td>\n",
        "      <td>NaN</td>\n",
        "      <td>NaN</td>\n",
        "    </tr>\n",
        "    <tr>\n",
        "      <th>2284</th>\n",
        "      <td>          yasmine Raheb</td>\n",
        "      <td>    78.13</td>\n",
        "      <td>  78.130000</td>\n",
        "      <td>                        Fruits</td>\n",
        "      <td>                                               NaN</td>\n",
        "      <td>                 01221888861</td>\n",
        "      <td>  1</td>\n",
        "      <td>   0.000000</td>\n",
        "      <td>               yrelraheb@gmail.com</td>\n",
        "      <td> 1017</td>\n",
        "      <td>...</td>\n",
        "      <td> 0.000000</td>\n",
        "      <td> 0.000000</td>\n",
        "      <td> 0.000000</td>\n",
        "      <td> 0.000000</td>\n",
        "      <td> 0.000000</td>\n",
        "      <td> 0.000000</td>\n",
        "      <td>  0</td>\n",
        "      <td>  0</td>\n",
        "      <td>  0</td>\n",
        "      <td>  0</td>\n",
        "    </tr>\n",
        "    <tr>\n",
        "      <th>2285</th>\n",
        "      <td>         Yuliay Ivanova</td>\n",
        "      <td>   507.20</td>\n",
        "      <td> 126.800000</td>\n",
        "      <td>                       Variety</td>\n",
        "      <td> Beverly Hills compound  Forty west . Building ...</td>\n",
        "      <td>                 01150888848</td>\n",
        "      <td>  4</td>\n",
        "      <td>  15.750000</td>\n",
        "      <td>               yulbiba@hotmail.com</td>\n",
        "      <td>    7</td>\n",
        "      <td>...</td>\n",
        "      <td> 0.000000</td>\n",
        "      <td> 0.000000</td>\n",
        "      <td> 0.000000</td>\n",
        "      <td> 0.000000</td>\n",
        "      <td> 0.000000</td>\n",
        "      <td> 0.000000</td>\n",
        "      <td>  0</td>\n",
        "      <td>  0</td>\n",
        "      <td>  0</td>\n",
        "      <td>  0</td>\n",
        "    </tr>\n",
        "    <tr>\n",
        "      <th>2286</th>\n",
        "      <td>  Subscriber Newsletter</td>\n",
        "      <td>   297.50</td>\n",
        "      <td> 148.750000</td>\n",
        "      <td>                       Variety</td>\n",
        "      <td>         19 Menis Street, ElKorba Heliopolis Cairo</td>\n",
        "      <td>                 01005047970</td>\n",
        "      <td>  2</td>\n",
        "      <td> 149.500000</td>\n",
        "      <td>             yumnakassim@gmail.com</td>\n",
        "      <td>  509</td>\n",
        "      <td>...</td>\n",
        "      <td> 0.000000</td>\n",
        "      <td> 0.000000</td>\n",
        "      <td> 0.000000</td>\n",
        "      <td> 0.157983</td>\n",
        "      <td> 0.000000</td>\n",
        "      <td> 0.000000</td>\n",
        "      <td>  0</td>\n",
        "      <td>  0</td>\n",
        "      <td>  0</td>\n",
        "      <td>  0</td>\n",
        "    </tr>\n",
        "    <tr>\n",
        "      <th>2287</th>\n",
        "      <td>            zeina addas</td>\n",
        "      <td>   350.85</td>\n",
        "      <td> 350.850000</td>\n",
        "      <td>                       Seafood</td>\n",
        "      <td>         19 tahawi st, golf area heliopolise cairo</td>\n",
        "      <td>               +201223781733</td>\n",
        "      <td>  1</td>\n",
        "      <td>   0.000000</td>\n",
        "      <td>              z72addas@hotmail.com</td>\n",
        "      <td>  345</td>\n",
        "      <td>...</td>\n",
        "      <td> 0.000000</td>\n",
        "      <td> 0.353176</td>\n",
        "      <td> 0.000000</td>\n",
        "      <td> 0.000000</td>\n",
        "      <td> 0.000000</td>\n",
        "      <td> 0.000000</td>\n",
        "      <td>  0</td>\n",
        "      <td>  0</td>\n",
        "      <td>  0</td>\n",
        "      <td>  0</td>\n",
        "    </tr>\n",
        "    <tr>\n",
        "      <th>2288</th>\n",
        "      <td>           Farida  Zaki</td>\n",
        "      <td>   931.50</td>\n",
        "      <td> 186.300000</td>\n",
        "      <td>                       Variety</td>\n",
        "      <td> 56 Nazih Khalifa St. Heliopolis  3rd floor, Ap...</td>\n",
        "      <td>              00201001108847</td>\n",
        "      <td>  5</td>\n",
        "      <td>  31.400000</td>\n",
        "      <td>             zaki.farida@gmail.com</td>\n",
        "      <td>   60</td>\n",
        "      <td>...</td>\n",
        "      <td> 0.134192</td>\n",
        "      <td> 0.000000</td>\n",
        "      <td> 0.000000</td>\n",
        "      <td> 0.000000</td>\n",
        "      <td> 0.040794</td>\n",
        "      <td> 0.000000</td>\n",
        "      <td>  0</td>\n",
        "      <td>  0</td>\n",
        "      <td>  0</td>\n",
        "      <td>  0</td>\n",
        "    </tr>\n",
        "    <tr>\n",
        "      <th>2289</th>\n",
        "      <td>        Zeinab  Mutawa </td>\n",
        "      <td>   160.00</td>\n",
        "      <td> 160.000000</td>\n",
        "      <td>                           NaN</td>\n",
        "      <td> 9 El Saada street, roxy, Heliopolis  April 181...</td>\n",
        "      <td>                 01222107517</td>\n",
        "      <td>  1</td>\n",
        "      <td>   0.000000</td>\n",
        "      <td>               zedesem65@gmail.com</td>\n",
        "      <td>   39</td>\n",
        "      <td>...</td>\n",
        "      <td>      NaN</td>\n",
        "      <td>      NaN</td>\n",
        "      <td>      NaN</td>\n",
        "      <td>      NaN</td>\n",
        "      <td>      NaN</td>\n",
        "      <td>      NaN</td>\n",
        "      <td>NaN</td>\n",
        "      <td>NaN</td>\n",
        "      <td>NaN</td>\n",
        "      <td>NaN</td>\n",
        "    </tr>\n",
        "    <tr>\n",
        "      <th>2290</th>\n",
        "      <td>        Zeinab M.Shaker</td>\n",
        "      <td>    37.00</td>\n",
        "      <td>  37.000000</td>\n",
        "      <td>                    Vegetables</td>\n",
        "      <td> 566 Palestine St. Ground floor, Integrant Maad...</td>\n",
        "      <td>                201005211550</td>\n",
        "      <td>  1</td>\n",
        "      <td>   0.000000</td>\n",
        "      <td>                 zee.nap@gmail.com</td>\n",
        "      <td>  113</td>\n",
        "      <td>...</td>\n",
        "      <td> 0.000000</td>\n",
        "      <td> 0.000000</td>\n",
        "      <td> 0.000000</td>\n",
        "      <td> 0.000000</td>\n",
        "      <td> 0.000000</td>\n",
        "      <td> 0.000000</td>\n",
        "      <td>  0</td>\n",
        "      <td>  0</td>\n",
        "      <td>  0</td>\n",
        "      <td>  0</td>\n",
        "    </tr>\n",
        "    <tr>\n",
        "      <th>2291</th>\n",
        "      <td>           zeina kassas</td>\n",
        "      <td>   907.60</td>\n",
        "      <td> 151.266667</td>\n",
        "      <td>                       Variety</td>\n",
        "      <td>        Madinaty Group 17, Building 8 31 New Cairo</td>\n",
        "      <td>                 01000448740</td>\n",
        "      <td>  6</td>\n",
        "      <td>  55.166667</td>\n",
        "      <td>            zeina.kassas@gmail.com</td>\n",
        "      <td>  190</td>\n",
        "      <td>...</td>\n",
        "      <td> 0.067871</td>\n",
        "      <td> 0.000000</td>\n",
        "      <td> 0.000000</td>\n",
        "      <td> 0.000000</td>\n",
        "      <td> 0.000000</td>\n",
        "      <td> 0.000000</td>\n",
        "      <td>  0</td>\n",
        "      <td>  0</td>\n",
        "      <td>  0</td>\n",
        "      <td>  0</td>\n",
        "    </tr>\n",
        "    <tr>\n",
        "      <th>2292</th>\n",
        "      <td>           Nashwa Hafez</td>\n",
        "      <td>   718.80</td>\n",
        "      <td> 718.800000</td>\n",
        "      <td>                          Beef</td>\n",
        "      <td>                                               NaN</td>\n",
        "      <td>                 01141222226</td>\n",
        "      <td>  1</td>\n",
        "      <td>   0.000000</td>\n",
        "      <td>         zeina_ahmed95@hotmail.com</td>\n",
        "      <td>  423</td>\n",
        "      <td>...</td>\n",
        "      <td> 0.000000</td>\n",
        "      <td> 0.000000</td>\n",
        "      <td> 0.000000</td>\n",
        "      <td> 0.000000</td>\n",
        "      <td> 0.000000</td>\n",
        "      <td> 0.000000</td>\n",
        "      <td>  0</td>\n",
        "      <td>  0</td>\n",
        "      <td>  0</td>\n",
        "      <td>  0</td>\n",
        "    </tr>\n",
        "    <tr>\n",
        "      <th>2293</th>\n",
        "      <td>             Zeina Naim</td>\n",
        "      <td>    67.00</td>\n",
        "      <td>  67.000000</td>\n",
        "      <td>                           NaN</td>\n",
        "      <td>                                               NaN</td>\n",
        "      <td>                 01025550552</td>\n",
        "      <td>  1</td>\n",
        "      <td>   0.000000</td>\n",
        "      <td>            zeina_naim@hotmail.com</td>\n",
        "      <td>   35</td>\n",
        "      <td>...</td>\n",
        "      <td>      NaN</td>\n",
        "      <td>      NaN</td>\n",
        "      <td>      NaN</td>\n",
        "      <td>      NaN</td>\n",
        "      <td>      NaN</td>\n",
        "      <td>      NaN</td>\n",
        "      <td>NaN</td>\n",
        "      <td>NaN</td>\n",
        "      <td>NaN</td>\n",
        "      <td>NaN</td>\n",
        "    </tr>\n",
        "    <tr>\n",
        "      <th>2294</th>\n",
        "      <td>            Zeinab Taha</td>\n",
        "      <td>   106.30</td>\n",
        "      <td> 106.300000</td>\n",
        "      <td>                       Variety</td>\n",
        "      <td>                                               NaN</td>\n",
        "      <td>                 01271188471</td>\n",
        "      <td>  1</td>\n",
        "      <td>   0.000000</td>\n",
        "      <td>         zeinabahmedtaha@yahoo.com</td>\n",
        "      <td> 1055</td>\n",
        "      <td>...</td>\n",
        "      <td> 0.300094</td>\n",
        "      <td> 0.000000</td>\n",
        "      <td> 0.000000</td>\n",
        "      <td> 0.000000</td>\n",
        "      <td> 0.000000</td>\n",
        "      <td> 0.000000</td>\n",
        "      <td>  0</td>\n",
        "      <td>  0</td>\n",
        "      <td>  0</td>\n",
        "      <td>  0</td>\n",
        "    </tr>\n",
        "    <tr>\n",
        "      <th>2295</th>\n",
        "      <td>       Dr/ Hisham fahmi</td>\n",
        "      <td>   743.00</td>\n",
        "      <td> 247.666667</td>\n",
        "      <td>                       Variety</td>\n",
        "      <td> 4d al gazira st. befor kism el gazira off nady...</td>\n",
        "      <td>                  0227355135</td>\n",
        "      <td>  3</td>\n",
        "      <td>   8.333333</td>\n",
        "      <td>      zeinabkhalil2010@hotmail.com</td>\n",
        "      <td>  182</td>\n",
        "      <td>...</td>\n",
        "      <td> 0.000000</td>\n",
        "      <td> 0.000000</td>\n",
        "      <td> 0.000000</td>\n",
        "      <td> 0.000000</td>\n",
        "      <td> 0.000000</td>\n",
        "      <td> 0.000000</td>\n",
        "      <td>  0</td>\n",
        "      <td>  0</td>\n",
        "      <td>  0</td>\n",
        "      <td>  0</td>\n",
        "    </tr>\n",
        "    <tr>\n",
        "      <th>2296</th>\n",
        "      <td>       Zeinab Noureldin</td>\n",
        "      <td>    87.50</td>\n",
        "      <td>  43.750000</td>\n",
        "      <td>                    Vegetables</td>\n",
        "      <td>                                               NaN</td>\n",
        "      <td>                 01002261945</td>\n",
        "      <td>  2</td>\n",
        "      <td>   0.500000</td>\n",
        "      <td>              zeinabnour@gmail.com</td>\n",
        "      <td>  416</td>\n",
        "      <td>...</td>\n",
        "      <td> 0.285714</td>\n",
        "      <td> 0.000000</td>\n",
        "      <td> 0.000000</td>\n",
        "      <td> 0.000000</td>\n",
        "      <td> 0.000000</td>\n",
        "      <td> 0.000000</td>\n",
        "      <td>  0</td>\n",
        "      <td>  0</td>\n",
        "      <td>  0</td>\n",
        "      <td>  0</td>\n",
        "    </tr>\n",
        "    <tr>\n",
        "      <th>2297</th>\n",
        "      <td>           zeina hodroj</td>\n",
        "      <td>   380.50</td>\n",
        "      <td> 190.250000</td>\n",
        "      <td>                       Poultry</td>\n",
        "      <td>                                               NaN</td>\n",
        "      <td>                 01000892677</td>\n",
        "      <td>  2</td>\n",
        "      <td>   0.000000</td>\n",
        "      <td>              zeinahodroj@live.com</td>\n",
        "      <td>  276</td>\n",
        "      <td>...</td>\n",
        "      <td> 0.000000</td>\n",
        "      <td> 0.000000</td>\n",
        "      <td> 0.000000</td>\n",
        "      <td> 0.000000</td>\n",
        "      <td> 0.000000</td>\n",
        "      <td> 0.000000</td>\n",
        "      <td>  0</td>\n",
        "      <td>  0</td>\n",
        "      <td>  0</td>\n",
        "      <td>  0</td>\n",
        "    </tr>\n",
        "    <tr>\n",
        "      <th>2298</th>\n",
        "      <td>            Zeina Tarek</td>\n",
        "      <td>  1148.40</td>\n",
        "      <td> 164.057143</td>\n",
        "      <td>                       Variety</td>\n",
        "      <td>                                               NaN</td>\n",
        "      <td>               +201227759372</td>\n",
        "      <td>  7</td>\n",
        "      <td>  35.714286</td>\n",
        "      <td>              zeinasabry@gmail.com</td>\n",
        "      <td>  574</td>\n",
        "      <td>...</td>\n",
        "      <td> 0.029258</td>\n",
        "      <td> 0.000000</td>\n",
        "      <td> 0.043103</td>\n",
        "      <td> 0.000000</td>\n",
        "      <td> 0.000000</td>\n",
        "      <td> 0.002612</td>\n",
        "      <td>  0</td>\n",
        "      <td>  0</td>\n",
        "      <td>  0</td>\n",
        "      <td>  0</td>\n",
        "    </tr>\n",
        "    <tr>\n",
        "      <th>2299</th>\n",
        "      <td>         Reham Abdullah</td>\n",
        "      <td>   336.00</td>\n",
        "      <td> 168.000000</td>\n",
        "      <td>         Oil, Vinegar &amp; Sauces</td>\n",
        "      <td>   Baron Palace/ Heliopolis (MEETING POINT ) cairo</td>\n",
        "      <td> 01007077741  /  01008664628</td>\n",
        "      <td>  2</td>\n",
        "      <td>  35.500000</td>\n",
        "      <td>               zeinriham@gmail.com</td>\n",
        "      <td>   29</td>\n",
        "      <td>...</td>\n",
        "      <td> 0.000000</td>\n",
        "      <td> 0.000000</td>\n",
        "      <td> 0.000000</td>\n",
        "      <td> 0.000000</td>\n",
        "      <td> 0.000000</td>\n",
        "      <td> 0.000000</td>\n",
        "      <td>  0</td>\n",
        "      <td>  0</td>\n",
        "      <td>  0</td>\n",
        "      <td>  0</td>\n",
        "    </tr>\n",
        "    <tr>\n",
        "      <th>2300</th>\n",
        "      <td>        Zena Abdelbaky </td>\n",
        "      <td>   302.50</td>\n",
        "      <td> 151.250000</td>\n",
        "      <td>                Rice and pasta</td>\n",
        "      <td>                                               NaN</td>\n",
        "      <td>                 01000350409</td>\n",
        "      <td>  2</td>\n",
        "      <td> 219.000000</td>\n",
        "      <td>           zenaabdelbaky@gmail.com</td>\n",
        "      <td>  148</td>\n",
        "      <td>...</td>\n",
        "      <td> 0.121488</td>\n",
        "      <td> 0.000000</td>\n",
        "      <td> 0.000000</td>\n",
        "      <td> 0.000000</td>\n",
        "      <td> 0.000000</td>\n",
        "      <td> 0.000000</td>\n",
        "      <td>  0</td>\n",
        "      <td>  0</td>\n",
        "      <td>  0</td>\n",
        "      <td>  0</td>\n",
        "    </tr>\n",
        "    <tr>\n",
        "      <th>2301</th>\n",
        "      <td>          Zeyad Attalla</td>\n",
        "      <td>    97.40</td>\n",
        "      <td>  97.400000</td>\n",
        "      <td>                          Beef</td>\n",
        "      <td>                                               NaN</td>\n",
        "      <td>                 01002240643</td>\n",
        "      <td>  1</td>\n",
        "      <td>   0.000000</td>\n",
        "      <td>            zeyadattalla@yahoo.com</td>\n",
        "      <td>  225</td>\n",
        "      <td>...</td>\n",
        "      <td> 0.000000</td>\n",
        "      <td> 0.000000</td>\n",
        "      <td> 0.000000</td>\n",
        "      <td> 0.000000</td>\n",
        "      <td> 0.000000</td>\n",
        "      <td> 0.000000</td>\n",
        "      <td>  0</td>\n",
        "      <td>  0</td>\n",
        "      <td>  0</td>\n",
        "      <td>  0</td>\n",
        "    </tr>\n",
        "    <tr>\n",
        "      <th>2302</th>\n",
        "      <td>              Ziad Ihab</td>\n",
        "      <td>    47.00</td>\n",
        "      <td>  47.000000</td>\n",
        "      <td> Chocolate, cookies and snacks</td>\n",
        "      <td> Rehab city, settlement 81, building 2 floor 3,...</td>\n",
        "      <td>                 01116835556</td>\n",
        "      <td>  1</td>\n",
        "      <td>   0.000000</td>\n",
        "      <td>                ziadihab@gmail.com</td>\n",
        "      <td>  247</td>\n",
        "      <td>...</td>\n",
        "      <td> 0.212766</td>\n",
        "      <td> 0.000000</td>\n",
        "      <td> 0.000000</td>\n",
        "      <td> 0.000000</td>\n",
        "      <td> 0.000000</td>\n",
        "      <td> 0.000000</td>\n",
        "      <td>  0</td>\n",
        "      <td>  0</td>\n",
        "      <td>  0</td>\n",
        "      <td>  0</td>\n",
        "    </tr>\n",
        "    <tr>\n",
        "      <th>2303</th>\n",
        "      <td>            Usama Gamal</td>\n",
        "      <td>    59.00</td>\n",
        "      <td>  59.000000</td>\n",
        "      <td>                           NaN</td>\n",
        "      <td> Al-obour City Golf City  B5 Flat No. 3  Entran...</td>\n",
        "      <td>                 01097902883</td>\n",
        "      <td>  1</td>\n",
        "      <td>   0.000000</td>\n",
        "      <td>               ziadusama@ymail.com</td>\n",
        "      <td>   18</td>\n",
        "      <td>...</td>\n",
        "      <td>      NaN</td>\n",
        "      <td>      NaN</td>\n",
        "      <td>      NaN</td>\n",
        "      <td>      NaN</td>\n",
        "      <td>      NaN</td>\n",
        "      <td>      NaN</td>\n",
        "      <td>NaN</td>\n",
        "      <td>NaN</td>\n",
        "      <td>NaN</td>\n",
        "      <td>NaN</td>\n",
        "    </tr>\n",
        "    <tr>\n",
        "      <th>2304</th>\n",
        "      <td>           Zina El Hini</td>\n",
        "      <td>   320.02</td>\n",
        "      <td> 320.020000</td>\n",
        "      <td>                          Beef</td>\n",
        "      <td>                                               NaN</td>\n",
        "      <td>                 01006061566</td>\n",
        "      <td>  1</td>\n",
        "      <td>   0.000000</td>\n",
        "      <td>               zinelhini@yahoo.com</td>\n",
        "      <td>  807</td>\n",
        "      <td>...</td>\n",
        "      <td> 0.000000</td>\n",
        "      <td> 0.000000</td>\n",
        "      <td> 0.000000</td>\n",
        "      <td> 0.000000</td>\n",
        "      <td> 0.000000</td>\n",
        "      <td> 0.000000</td>\n",
        "      <td>  0</td>\n",
        "      <td>  0</td>\n",
        "      <td>  0</td>\n",
        "      <td>  0</td>\n",
        "    </tr>\n",
        "    <tr>\n",
        "      <th>2305</th>\n",
        "      <td>           Zayd Leseman</td>\n",
        "      <td>  1171.57</td>\n",
        "      <td> 585.785000</td>\n",
        "      <td>                       Variety</td>\n",
        "      <td>    Nada Compound, Entrance 2 Villa 2 Sheikh Zayed</td>\n",
        "      <td>                 01125573521</td>\n",
        "      <td>  2</td>\n",
        "      <td>  35.500000</td>\n",
        "      <td>                zleseman@gmail.com</td>\n",
        "      <td>  976</td>\n",
        "      <td>...</td>\n",
        "      <td> 0.027846</td>\n",
        "      <td> 0.000000</td>\n",
        "      <td> 0.000000</td>\n",
        "      <td> 0.087291</td>\n",
        "      <td> 0.000000</td>\n",
        "      <td> 0.000000</td>\n",
        "      <td>  0</td>\n",
        "      <td>  0</td>\n",
        "      <td>  0</td>\n",
        "      <td>  0</td>\n",
        "    </tr>\n",
        "    <tr>\n",
        "      <th>2306</th>\n",
        "      <td>      amal abdelraheem </td>\n",
        "      <td>   610.10</td>\n",
        "      <td> 610.100000</td>\n",
        "      <td>                       Variety</td>\n",
        "      <td>          4038 me3raj olwi, maadi 201 maadi, cairo</td>\n",
        "      <td>              00201023982488</td>\n",
        "      <td>  1</td>\n",
        "      <td>   0.000000</td>\n",
        "      <td>           zolaykha1st@hotmail.com</td>\n",
        "      <td>  375</td>\n",
        "      <td>...</td>\n",
        "      <td> 0.000000</td>\n",
        "      <td> 0.101623</td>\n",
        "      <td> 0.000000</td>\n",
        "      <td> 0.000000</td>\n",
        "      <td> 0.000000</td>\n",
        "      <td> 0.000000</td>\n",
        "      <td>  0</td>\n",
        "      <td>  0</td>\n",
        "      <td>  0</td>\n",
        "      <td>  0</td>\n",
        "    </tr>\n",
        "    <tr>\n",
        "      <th>2307</th>\n",
        "      <td>           Amina Rashad</td>\n",
        "      <td>  2933.00</td>\n",
        "      <td> 419.000000</td>\n",
        "      <td> Chocolate, cookies and snacks</td>\n",
        "      <td>     Mountain View behind el rehab villa 6 C cairo</td>\n",
        "      <td>                 01005497979</td>\n",
        "      <td>  7</td>\n",
        "      <td>  48.571429</td>\n",
        "      <td>               zshafei@outlook.com</td>\n",
        "      <td>   20</td>\n",
        "      <td>...</td>\n",
        "      <td> 0.000000</td>\n",
        "      <td> 0.000000</td>\n",
        "      <td> 0.000000</td>\n",
        "      <td> 0.000000</td>\n",
        "      <td> 0.000000</td>\n",
        "      <td> 0.000000</td>\n",
        "      <td>  0</td>\n",
        "      <td>  0</td>\n",
        "      <td>  0</td>\n",
        "      <td>  0</td>\n",
        "    </tr>\n",
        "  </tbody>\n",
        "</table>\n",
        "<p>2308 rows \u00d7 60 columns</p>\n",
        "</div>"
       ],
       "metadata": {},
       "output_type": "pyout",
       "prompt_number": 16,
       "text": [
        "                        Name   Revenue  Basket Value  \\\n",
        "0     Magdalena Kallenberger    267.17    267.170000   \n",
        "1              Alain  Phar\u00e8s   1001.10    500.550000   \n",
        "2                 Kelly Tate    648.00    162.000000   \n",
        "3                 Lara Scott    909.00    303.000000   \n",
        "4              mohamed tolba    160.00     53.333333   \n",
        "5               Nadia Teirah    290.00    145.000000   \n",
        "6              Aladdin Nabil     30.00     30.000000   \n",
        "7                ASHRAF ZAKI    300.18    300.180000   \n",
        "8               Adham Hamada     61.20     61.200000   \n",
        "9               Ahmed Habash    360.00    360.000000   \n",
        "10                Ahmed Adel    424.00    424.000000   \n",
        "11            Alia Mossallam   7096.62    308.548696   \n",
        "12            Andrea Heilman    819.10    204.775000   \n",
        "13               Asmaa Ahmed   3404.00    851.000000   \n",
        "14              Sherif Saleh    475.00    158.333333   \n",
        "15               Azza Sallam     45.00     45.000000   \n",
        "16            Brigitte Kamal    113.50    113.500000   \n",
        "17                 Nna Bakry    122.25    122.250000   \n",
        "18             Basma Elgazar     55.00     55.000000   \n",
        "19                Heba Ragab    411.19    137.063333   \n",
        "20            Haisam Soliman    285.75    285.750000   \n",
        "21              Yasser Awadd    397.00    132.333333   \n",
        "22              Asmaa Medaht    332.00    332.000000   \n",
        "23        Camillia  Marmoush   1437.00    287.400000   \n",
        "24            carine sabbagh  12189.72    329.451892   \n",
        "25                Dina Kadry    230.00    230.000000   \n",
        "26          Dina El-dessouky   1000.08    142.868571   \n",
        "27               dina hamada     66.00     66.000000   \n",
        "28               Dina Hamada    143.00     71.500000   \n",
        "29               Dahlia Adel    632.20    316.100000   \n",
        "...                      ...       ...           ...   \n",
        "2278          Youssef Khalil    303.00    101.000000   \n",
        "2279             Tarek yehia    242.00    242.000000   \n",
        "2280          Youssra Ismail    146.40    146.400000   \n",
        "2281           Youssra Kamal    753.00    251.000000   \n",
        "2282      Youssra Al ashmawi    201.00    201.000000   \n",
        "2283     Youssef Abdelmohsen    233.20    116.600000   \n",
        "2284           yasmine Raheb     78.13     78.130000   \n",
        "2285          Yuliay Ivanova    507.20    126.800000   \n",
        "2286   Subscriber Newsletter    297.50    148.750000   \n",
        "2287             zeina addas    350.85    350.850000   \n",
        "2288            Farida  Zaki    931.50    186.300000   \n",
        "2289         Zeinab  Mutawa     160.00    160.000000   \n",
        "2290         Zeinab M.Shaker     37.00     37.000000   \n",
        "2291            zeina kassas    907.60    151.266667   \n",
        "2292            Nashwa Hafez    718.80    718.800000   \n",
        "2293              Zeina Naim     67.00     67.000000   \n",
        "2294             Zeinab Taha    106.30    106.300000   \n",
        "2295        Dr/ Hisham fahmi    743.00    247.666667   \n",
        "2296        Zeinab Noureldin     87.50     43.750000   \n",
        "2297            zeina hodroj    380.50    190.250000   \n",
        "2298             Zeina Tarek   1148.40    164.057143   \n",
        "2299          Reham Abdullah    336.00    168.000000   \n",
        "2300         Zena Abdelbaky     302.50    151.250000   \n",
        "2301           Zeyad Attalla     97.40     97.400000   \n",
        "2302               Ziad Ihab     47.00     47.000000   \n",
        "2303             Usama Gamal     59.00     59.000000   \n",
        "2304            Zina El Hini    320.02    320.020000   \n",
        "2305            Zayd Leseman   1171.57    585.785000   \n",
        "2306       amal abdelraheem     610.10    610.100000   \n",
        "2307            Amina Rashad   2933.00    419.000000   \n",
        "\n",
        "                            Segment  \\\n",
        "0              Fresh Beef & Poultry   \n",
        "1                           Variety   \n",
        "2                        Vegetables   \n",
        "3                           Variety   \n",
        "4                           Variety   \n",
        "5                               NaN   \n",
        "6                           Poultry   \n",
        "7          Grains, seeds and cereal   \n",
        "8              Fresh Beef & Poultry   \n",
        "9                            Bakery   \n",
        "10         Grains, seeds and cereal   \n",
        "11                          Variety   \n",
        "12                          Variety   \n",
        "13                           Bakery   \n",
        "14                       Vegetables   \n",
        "15                        Cosmetics   \n",
        "16                             Beef   \n",
        "17         Grains, seeds and cereal   \n",
        "18         Grains, seeds and cereal   \n",
        "19                          Variety   \n",
        "20                        Cosmetics   \n",
        "21                          Variety   \n",
        "22         Grains, seeds and cereal   \n",
        "23                              NaN   \n",
        "24                          Variety   \n",
        "25         Grains, seeds and cereal   \n",
        "26         Grains, seeds and cereal   \n",
        "27                          Poultry   \n",
        "28                   Rice and pasta   \n",
        "29                        Cosmetics   \n",
        "...                             ...   \n",
        "2278                           Beef   \n",
        "2279                        Poultry   \n",
        "2280                           Beef   \n",
        "2281                      Non dairy   \n",
        "2282                        Variety   \n",
        "2283                            NaN   \n",
        "2284                         Fruits   \n",
        "2285                        Variety   \n",
        "2286                        Variety   \n",
        "2287                        Seafood   \n",
        "2288                        Variety   \n",
        "2289                            NaN   \n",
        "2290                     Vegetables   \n",
        "2291                        Variety   \n",
        "2292                           Beef   \n",
        "2293                            NaN   \n",
        "2294                        Variety   \n",
        "2295                        Variety   \n",
        "2296                     Vegetables   \n",
        "2297                        Poultry   \n",
        "2298                        Variety   \n",
        "2299          Oil, Vinegar & Sauces   \n",
        "2300                 Rice and pasta   \n",
        "2301                           Beef   \n",
        "2302  Chocolate, cookies and snacks   \n",
        "2303                            NaN   \n",
        "2304                           Beef   \n",
        "2305                        Variety   \n",
        "2306                        Variety   \n",
        "2307  Chocolate, cookies and snacks   \n",
        "\n",
        "                                                Address  \\\n",
        "0                                                   NaN   \n",
        "1                      31 golf street  app 69/6th maadi   \n",
        "2     Street 33, Building 154, Area 1, Group 2, Taga...   \n",
        "3     23 Abdalla Deraz St.  #203 - 2nd Floor, left s...   \n",
        "4            11 shams el din el koufy st  17 heliopolis   \n",
        "5                                                   NaN   \n",
        "6                             Hadayek al ahram 20 Ahram   \n",
        "7     19 Gabalayah Street, 9th Floor, Apt 92 Zamalek...   \n",
        "8     5 eskandar el Akbar st. Heliopolis First floor...   \n",
        "9                                                   NaN   \n",
        "10    24 Extension Abo Dawood El Zahery  3rd Floor. ...   \n",
        "11                 59 Road 14, Moqattam 4th floor Cairo   \n",
        "12                16 Mohammed Thakeb, Zamalek 805 Cairo   \n",
        "13    Nasr city*Car Market*Shaban Company 10th distr...   \n",
        "14                                                  NaN   \n",
        "15                                                  NaN   \n",
        "16    31 Hamouda Mahmoud from end of Makram ebeid , ...   \n",
        "17    37 shehab street , floor 15th appartment 1 Moh...   \n",
        "18                                                  NaN   \n",
        "19    54,Mohi el din abuo el ezz,st,dokii, floor 10,...   \n",
        "20    Villa 14/4 abdelwahab mohammed street Al rehab...   \n",
        "21                                                  NaN   \n",
        "22    Km 28, Cairo Alexandria Desert Rd., Smart Vill...   \n",
        "23    5th district Amr ebn elass st.0*area h*south o...   \n",
        "24    11 Rashdan st. dokki off of mesaha square 5th ...   \n",
        "25    Almostathmeroun Alshamaleya / of 90th road / a...   \n",
        "26                                                  NaN   \n",
        "27                                                  NaN   \n",
        "28    54 el madina el gadeda st madinat el tawfik Na...   \n",
        "29                                                  NaN   \n",
        "...                                                 ...   \n",
        "2278  1 Bashar Ebn Bord street, from Ahmed el Sawi f...   \n",
        "2279                                                NaN   \n",
        "2280  12 Khan Younis street, Mohandessin  Floor 11. ...   \n",
        "2281      Al Dyar compound .new Cairo  Villa 590L Cairo   \n",
        "2282                                                NaN   \n",
        "2283         Moonvalley Compound, Rd. 90  D11 New Cairo   \n",
        "2284                                                NaN   \n",
        "2285  Beverly Hills compound  Forty west . Building ...   \n",
        "2286          19 Menis Street, ElKorba Heliopolis Cairo   \n",
        "2287          19 tahawi st, golf area heliopolise cairo   \n",
        "2288  56 Nazih Khalifa St. Heliopolis  3rd floor, Ap...   \n",
        "2289  9 El Saada street, roxy, Heliopolis  April 181...   \n",
        "2290  566 Palestine St. Ground floor, Integrant Maad...   \n",
        "2291         Madinaty Group 17, Building 8 31 New Cairo   \n",
        "2292                                                NaN   \n",
        "2293                                                NaN   \n",
        "2294                                                NaN   \n",
        "2295  4d al gazira st. befor kism el gazira off nady...   \n",
        "2296                                                NaN   \n",
        "2297                                                NaN   \n",
        "2298                                                NaN   \n",
        "2299    Baron Palace/ Heliopolis (MEETING POINT ) cairo   \n",
        "2300                                                NaN   \n",
        "2301                                                NaN   \n",
        "2302  Rehab city, settlement 81, building 2 floor 3,...   \n",
        "2303  Al-obour City Golf City  B5 Flat No. 3  Entran...   \n",
        "2304                                                NaN   \n",
        "2305     Nada Compound, Entrance 2 Villa 2 Sheikh Zayed   \n",
        "2306           4038 me3raj olwi, maadi 201 maadi, cairo   \n",
        "2307      Mountain View behind el rehab villa 6 C cairo   \n",
        "\n",
        "                            Phone  Total orders  Average days between orders  \\\n",
        "0                     01090904137             1                     0.000000   \n",
        "1                     01222160835             2                    47.000000   \n",
        "2                     01023063292             4                     5.500000   \n",
        "3                     01221124426             3                   125.000000   \n",
        "4                     01001436666             3                     7.333333   \n",
        "5                     01005510543             2                     2.500000   \n",
        "6                   0100001224555             1                     0.000000   \n",
        "7                     01222174854             1                     0.000000   \n",
        "8                     01223221581             1                     0.000000   \n",
        "9                     01066656222             1                     0.000000   \n",
        "10                    01060002000             1                     0.000000   \n",
        "11                    01222344036            23                    18.304348   \n",
        "12                    01202070773             4                     2.750000   \n",
        "13    01026442230     01093551807             4                     4.000000   \n",
        "14                    01222103099             3                     0.666667   \n",
        "15                    01019078478             1                     0.000000   \n",
        "16                    01141224422             1                     0.000000   \n",
        "17                            NaN             1                     0.000000   \n",
        "18                    01117005877             1                     0.000000   \n",
        "19                    01009599615             3                     7.000000   \n",
        "20                    01202244355             1                     0.000000   \n",
        "21                    01003588073             3                    88.666667   \n",
        "22                  +201007901118             1                     0.000000   \n",
        "23                    01002280010             5                     2.800000   \n",
        "24                    01000100745            37                    27.567568   \n",
        "25                    01000993094             1                     0.000000   \n",
        "26                    01008020608             7                    18.000000   \n",
        "27                    01001415888             1                     0.000000   \n",
        "28                    01001415888             2                    80.500000   \n",
        "29                    01145997944             2                    56.000000   \n",
        "...                           ...           ...                          ...   \n",
        "2278               00201222240595             3                    99.666667   \n",
        "2279                  01001191212             1                     0.000000   \n",
        "2280                +201114400112             1                     0.000000   \n",
        "2281                  01149734254             3                    21.333333   \n",
        "2282                  01125699291             1                     0.000000   \n",
        "2283                  01069786059             2                     5.000000   \n",
        "2284                  01221888861             1                     0.000000   \n",
        "2285                  01150888848             4                    15.750000   \n",
        "2286                  01005047970             2                   149.500000   \n",
        "2287                +201223781733             1                     0.000000   \n",
        "2288               00201001108847             5                    31.400000   \n",
        "2289                  01222107517             1                     0.000000   \n",
        "2290                 201005211550             1                     0.000000   \n",
        "2291                  01000448740             6                    55.166667   \n",
        "2292                  01141222226             1                     0.000000   \n",
        "2293                  01025550552             1                     0.000000   \n",
        "2294                  01271188471             1                     0.000000   \n",
        "2295                   0227355135             3                     8.333333   \n",
        "2296                  01002261945             2                     0.500000   \n",
        "2297                  01000892677             2                     0.000000   \n",
        "2298                +201227759372             7                    35.714286   \n",
        "2299  01007077741  /  01008664628             2                    35.500000   \n",
        "2300                  01000350409             2                   219.000000   \n",
        "2301                  01002240643             1                     0.000000   \n",
        "2302                  01116835556             1                     0.000000   \n",
        "2303                  01097902883             1                     0.000000   \n",
        "2304                  01006061566             1                     0.000000   \n",
        "2305                  01125573521             2                    35.500000   \n",
        "2306               00201023982488             1                     0.000000   \n",
        "2307                  01005497979             7                    48.571429   \n",
        "\n",
        "                                  Email  Days from Last order  ...    \\\n",
        "0            11435mail@mkallenberger.de                   941  ...     \n",
        "1                         1@gargour.com                   260  ...     \n",
        "2                     1kttate@gmail.com                   114  ...     \n",
        "3             1youniqueflower@gmail.com                    23  ...     \n",
        "4                    3aliaa.h@gmail.com                   263  ...     \n",
        "5              777nadiateirah@gmail.com                    32  ...     \n",
        "6                             A2@ed.com                   102  ...     \n",
        "7               ASHRAF.M.ZAKI@GMAIL.COM                  1174  ...     \n",
        "8                  Adhamada@hotmail.com                  1262  ...     \n",
        "9           Ahmed.Habash@moevenpick.com                   263  ...     \n",
        "10    Ahmed.adel.abdelmonam@hotmail.com                   121  ...     \n",
        "11              Aliamossallam@gmail.com                     9  ...     \n",
        "12          Andrea.Heilman@aucegypt.edu                   291  ...     \n",
        "13              Asmaa.ahmed@hotmail.com                    37  ...     \n",
        "14               Attia.nevien@gmail.com                   331  ...     \n",
        "15                Azzassallam@gmail.com                   307  ...     \n",
        "16                    BAGBOUG@yahoo.com                   285  ...     \n",
        "17                    Bakryna@gmail.com                  1204  ...     \n",
        "18              Basmaha2010@hotmail.com                   249  ...     \n",
        "19                     Bebi84@gmail.com                   976  ...     \n",
        "20          Bouchra_erraiss@hotmail.com                   588  ...     \n",
        "21                    Bunny_Chan@web.de                   227  ...     \n",
        "22               Buty_Heart@hotmail.com                   209  ...     \n",
        "23          Camillia.Marmoush@gmail.com                    25  ...     \n",
        "24              Carinesabbagh@gmail.com                   240  ...     \n",
        "25                 DINA_KADRY@YAHOO.COM                    52  ...     \n",
        "26          Dina_eldessouky@hotmail.com                  1116  ...     \n",
        "27           Dina_hamada009@hotmail.com                   364  ...     \n",
        "28          Dina_hamada2009@hotmail.com                   210  ...     \n",
        "29               Doholly_86@hotmail.com                    74  ...     \n",
        "...                                 ...                   ...  ...     \n",
        "2278               youssefkhalil@me.com                    87  ...     \n",
        "2279           youssra.resaie@gmail.com                   526  ...     \n",
        "2280                  youssra@gmail.com                   281  ...     \n",
        "2281            youssra_kamal@yahoo.com                    22  ...     \n",
        "2282          youssraaashmawi@gmail.com                    73  ...     \n",
        "2283            yoyothetricky@gmail.com                     8  ...     \n",
        "2284                yrelraheb@gmail.com                  1017  ...     \n",
        "2285                yulbiba@hotmail.com                     7  ...     \n",
        "2286              yumnakassim@gmail.com                   509  ...     \n",
        "2287               z72addas@hotmail.com                   345  ...     \n",
        "2288              zaki.farida@gmail.com                    60  ...     \n",
        "2289                zedesem65@gmail.com                    39  ...     \n",
        "2290                  zee.nap@gmail.com                   113  ...     \n",
        "2291             zeina.kassas@gmail.com                   190  ...     \n",
        "2292          zeina_ahmed95@hotmail.com                   423  ...     \n",
        "2293             zeina_naim@hotmail.com                    35  ...     \n",
        "2294          zeinabahmedtaha@yahoo.com                  1055  ...     \n",
        "2295       zeinabkhalil2010@hotmail.com                   182  ...     \n",
        "2296               zeinabnour@gmail.com                   416  ...     \n",
        "2297               zeinahodroj@live.com                   276  ...     \n",
        "2298               zeinasabry@gmail.com                   574  ...     \n",
        "2299                zeinriham@gmail.com                    29  ...     \n",
        "2300            zenaabdelbaky@gmail.com                   148  ...     \n",
        "2301             zeyadattalla@yahoo.com                   225  ...     \n",
        "2302                 ziadihab@gmail.com                   247  ...     \n",
        "2303                ziadusama@ymail.com                    18  ...     \n",
        "2304                zinelhini@yahoo.com                   807  ...     \n",
        "2305                 zleseman@gmail.com                   976  ...     \n",
        "2306            zolaykha1st@hotmail.com                   375  ...     \n",
        "2307                zshafei@outlook.com                    20  ...     \n",
        "\n",
        "      Non-dairy   Seafood  Gluten free  Herbal pharmacy  \\\n",
        "0      0.000000  0.000000     0.000000         0.000000   \n",
        "1      0.000000  0.000000     0.000000         0.000000   \n",
        "2      0.000000  0.000000     0.000000         0.000000   \n",
        "3      0.000000  0.000000     0.000000         0.000000   \n",
        "4      0.000000  0.000000     0.000000         0.000000   \n",
        "5           NaN       NaN          NaN              NaN   \n",
        "6      0.000000  0.000000     0.000000         0.000000   \n",
        "7      0.000000  0.000000     0.000000         0.000000   \n",
        "8      0.000000  0.000000     0.000000         0.000000   \n",
        "9      0.000000  0.000000     0.000000         0.000000   \n",
        "10     0.000000  0.000000     0.000000         0.000000   \n",
        "11     0.042863  0.021258     0.000000         0.000000   \n",
        "12     0.000000  0.000000     0.000000         0.000000   \n",
        "13     0.392297  0.000000     0.000000         0.000000   \n",
        "14     0.000000  0.000000     0.000000         0.000000   \n",
        "15     0.000000  0.000000     0.000000         0.000000   \n",
        "16     0.000000  0.000000     0.000000         0.000000   \n",
        "17     0.000000  0.000000     0.000000         0.000000   \n",
        "18     0.000000  0.000000     0.000000         0.000000   \n",
        "19     0.043266  0.000000     0.000000         0.000000   \n",
        "20     0.223972  0.000000     0.000000         0.000000   \n",
        "21     0.000000  0.000000     0.000000         0.000000   \n",
        "22     0.000000  0.000000     0.000000         0.000000   \n",
        "23          NaN       NaN          NaN              NaN   \n",
        "24     0.000000  0.016135     0.003061         0.003836   \n",
        "25     0.000000  0.000000     0.000000         0.000000   \n",
        "26     0.000000  0.000000     0.000000         0.000000   \n",
        "27     0.000000  0.000000     0.000000         0.000000   \n",
        "28     0.000000  0.000000     0.000000         0.000000   \n",
        "29     0.000000  0.000000     0.000000         0.000000   \n",
        "...         ...       ...          ...              ...   \n",
        "2278   0.000000  0.204620     0.000000         0.000000   \n",
        "2279   0.000000  0.000000     0.000000         0.000000   \n",
        "2280   0.000000  0.000000     0.000000         0.000000   \n",
        "2281   0.470588  0.000000     0.000000         0.000000   \n",
        "2282   0.323383  0.000000     0.000000         0.000000   \n",
        "2283        NaN       NaN          NaN              NaN   \n",
        "2284   0.000000  0.000000     0.000000         0.000000   \n",
        "2285   0.000000  0.000000     0.000000         0.000000   \n",
        "2286   0.000000  0.000000     0.000000         0.157983   \n",
        "2287   0.000000  0.353176     0.000000         0.000000   \n",
        "2288   0.134192  0.000000     0.000000         0.000000   \n",
        "2289        NaN       NaN          NaN              NaN   \n",
        "2290   0.000000  0.000000     0.000000         0.000000   \n",
        "2291   0.067871  0.000000     0.000000         0.000000   \n",
        "2292   0.000000  0.000000     0.000000         0.000000   \n",
        "2293        NaN       NaN          NaN              NaN   \n",
        "2294   0.300094  0.000000     0.000000         0.000000   \n",
        "2295   0.000000  0.000000     0.000000         0.000000   \n",
        "2296   0.285714  0.000000     0.000000         0.000000   \n",
        "2297   0.000000  0.000000     0.000000         0.000000   \n",
        "2298   0.029258  0.000000     0.043103         0.000000   \n",
        "2299   0.000000  0.000000     0.000000         0.000000   \n",
        "2300   0.121488  0.000000     0.000000         0.000000   \n",
        "2301   0.000000  0.000000     0.000000         0.000000   \n",
        "2302   0.212766  0.000000     0.000000         0.000000   \n",
        "2303        NaN       NaN          NaN              NaN   \n",
        "2304   0.000000  0.000000     0.000000         0.000000   \n",
        "2305   0.027846  0.000000     0.000000         0.087291   \n",
        "2306   0.000000  0.101623     0.000000         0.000000   \n",
        "2307   0.000000  0.000000     0.000000         0.000000   \n",
        "\n",
        "      Tea and herbal drinks  Accessories  Lamb  Prepared food  Home appliance  \\\n",
        "0                  0.000000     0.000000     0              0               0   \n",
        "1                  0.000000     0.000000     0              0               0   \n",
        "2                  0.000000     0.000000     0              0               0   \n",
        "3                  0.000000     0.000000     0              0               0   \n",
        "4                  0.000000     0.000000     0              0               0   \n",
        "5                       NaN          NaN   NaN            NaN             NaN   \n",
        "6                  0.000000     0.000000     0              0               0   \n",
        "7                  0.000000     0.000000     0              0               0   \n",
        "8                  0.000000     0.000000     0              0               0   \n",
        "9                  0.000000     0.000000     0              0               0   \n",
        "10                 0.000000     0.000000     0              0               0   \n",
        "11                 0.000000     0.000000     0              0               0   \n",
        "12                 0.000000     0.000000     0              0               0   \n",
        "13                 0.000000     0.000000     0              0               0   \n",
        "14                 0.000000     0.000000     0              0               0   \n",
        "15                 0.000000     0.000000     0              0               0   \n",
        "16                 0.000000     0.000000     0              0               0   \n",
        "17                 0.000000     0.000000     0              0               0   \n",
        "18                 0.000000     0.000000     0              0               0   \n",
        "19                 0.000000     0.000000     0              0               0   \n",
        "20                 0.000000     0.000000     0              0               0   \n",
        "21                 0.000000     0.000000     0              0               0   \n",
        "22                 0.000000     0.000000     0              0               0   \n",
        "23                      NaN          NaN   NaN            NaN             NaN   \n",
        "24                 0.000000     0.000000     0              0               0   \n",
        "25                 0.000000     0.000000     0              0               0   \n",
        "26                 0.000000     0.000000     0              0               0   \n",
        "27                 0.000000     0.000000     0              0               0   \n",
        "28                 0.000000     0.000000     0              0               0   \n",
        "29                 0.043011     0.000000     0              0               0   \n",
        "...                     ...          ...   ...            ...             ...   \n",
        "2278               0.000000     0.000000     0              0               0   \n",
        "2279               0.000000     0.000000     0              0               0   \n",
        "2280               0.000000     0.000000     0              0               0   \n",
        "2281               0.000000     0.000000     0              0               0   \n",
        "2282               0.000000     0.000000     0              0               0   \n",
        "2283                    NaN          NaN   NaN            NaN             NaN   \n",
        "2284               0.000000     0.000000     0              0               0   \n",
        "2285               0.000000     0.000000     0              0               0   \n",
        "2286               0.000000     0.000000     0              0               0   \n",
        "2287               0.000000     0.000000     0              0               0   \n",
        "2288               0.040794     0.000000     0              0               0   \n",
        "2289                    NaN          NaN   NaN            NaN             NaN   \n",
        "2290               0.000000     0.000000     0              0               0   \n",
        "2291               0.000000     0.000000     0              0               0   \n",
        "2292               0.000000     0.000000     0              0               0   \n",
        "2293                    NaN          NaN   NaN            NaN             NaN   \n",
        "2294               0.000000     0.000000     0              0               0   \n",
        "2295               0.000000     0.000000     0              0               0   \n",
        "2296               0.000000     0.000000     0              0               0   \n",
        "2297               0.000000     0.000000     0              0               0   \n",
        "2298               0.000000     0.002612     0              0               0   \n",
        "2299               0.000000     0.000000     0              0               0   \n",
        "2300               0.000000     0.000000     0              0               0   \n",
        "2301               0.000000     0.000000     0              0               0   \n",
        "2302               0.000000     0.000000     0              0               0   \n",
        "2303                    NaN          NaN   NaN            NaN             NaN   \n",
        "2304               0.000000     0.000000     0              0               0   \n",
        "2305               0.000000     0.000000     0              0               0   \n",
        "2306               0.000000     0.000000     0              0               0   \n",
        "2307               0.000000     0.000000     0              0               0   \n",
        "\n",
        "      Books  \n",
        "0         0  \n",
        "1         0  \n",
        "2         0  \n",
        "3         0  \n",
        "4         0  \n",
        "5       NaN  \n",
        "6         0  \n",
        "7         0  \n",
        "8         0  \n",
        "9         0  \n",
        "10        0  \n",
        "11        0  \n",
        "12        0  \n",
        "13        0  \n",
        "14        0  \n",
        "15        0  \n",
        "16        0  \n",
        "17        0  \n",
        "18        0  \n",
        "19        0  \n",
        "20        0  \n",
        "21        0  \n",
        "22        0  \n",
        "23      NaN  \n",
        "24        0  \n",
        "25        0  \n",
        "26        0  \n",
        "27        0  \n",
        "28        0  \n",
        "29        0  \n",
        "...     ...  \n",
        "2278      0  \n",
        "2279      0  \n",
        "2280      0  \n",
        "2281      0  \n",
        "2282      0  \n",
        "2283    NaN  \n",
        "2284      0  \n",
        "2285      0  \n",
        "2286      0  \n",
        "2287      0  \n",
        "2288      0  \n",
        "2289    NaN  \n",
        "2290      0  \n",
        "2291      0  \n",
        "2292      0  \n",
        "2293    NaN  \n",
        "2294      0  \n",
        "2295      0  \n",
        "2296      0  \n",
        "2297      0  \n",
        "2298      0  \n",
        "2299      0  \n",
        "2300      0  \n",
        "2301      0  \n",
        "2302      0  \n",
        "2303    NaN  \n",
        "2304      0  \n",
        "2305      0  \n",
        "2306      0  \n",
        "2307      0  \n",
        "\n",
        "[2308 rows x 60 columns]"
       ]
      }
     ],
     "prompt_number": 16
    },
    {
     "cell_type": "code",
     "collapsed": false,
     "input": [],
     "language": "python",
     "metadata": {},
     "outputs": []
    }
   ],
   "metadata": {}
  }
 ]
}
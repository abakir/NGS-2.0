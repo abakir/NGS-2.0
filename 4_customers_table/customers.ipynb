{
 "metadata": {
  "name": "",
  "signature": "sha256:9fae463af147361ff4a14a1ec0c27d95285d79727ee58b47ea56dee5a4944d36"
 },
 "nbformat": 3,
 "nbformat_minor": 0,
 "worksheets": [
  {
   "cells": [
    {
     "cell_type": "code",
     "collapsed": false,
     "input": [
      "#!/home/cloudera/local/lib/python2.6/site-packages/bin/python\n",
      "\n",
      "import pandas as pd\n",
      "import yaml\n",
      "import logging\n",
      "import time\n",
      "\n",
      "with open(\"/home/cloudera/Documents/12_dashboard_tables/config.yaml\", 'r') as ymlfile:\n",
      "        cfg = yaml.load(ymlfile)\n",
      "\n",
      "# create logger\n",
      "logger = logging.getLogger(cfg['log_customers'])\n",
      "logger.setLevel(logging.DEBUG)\n",
      "# create console handler and set level to debug\n",
      "ch = logging.FileHandler(cfg['root'] + cfg['dir_logs'] + cfg['log_customers'] + \"_\" + time.strftime(\"%Y_%m_%d_%H_%M_%S\") + \".log\" )\n",
      "ch.setLevel(logging.DEBUG)\n",
      "# create formatter\n",
      "formatter = logging.Formatter(\"%(asctime)s - %(name)s - %(levelname)s - %(message)s\")\n",
      "# add formatter to ch\n",
      "ch.setFormatter(formatter)\n",
      "# add ch to logger\n",
      "logger.addHandler(ch)\n",
      "\n",
      "df = pd.read_csv(cfg['root']+cfg['dir_customers_table']+cfg['io_info_segments_2'])"
     ],
     "language": "python",
     "metadata": {},
     "outputs": [],
     "prompt_number": 17
    },
    {
     "cell_type": "code",
     "collapsed": false,
     "input": [
      "df1 = pd.read_csv(cfg['root']+cfg['dir_customers_table']+cfg['io_latest_order_days_3'])"
     ],
     "language": "python",
     "metadata": {},
     "outputs": [],
     "prompt_number": 18
    },
    {
     "cell_type": "code",
     "collapsed": false,
     "input": [
      "df3 = pd.read_csv(cfg['root']+cfg['dir_customers_table']+cfg['io_order_frequency_customer_4'])"
     ],
     "language": "python",
     "metadata": {},
     "outputs": [],
     "prompt_number": 19
    },
    {
     "cell_type": "code",
     "collapsed": false,
     "input": [
      "df5 = pd.read_csv(cfg['root']+cfg['dir_customers_table']+cfg['io_day_hour_purchases_1'])\n",
      "logger.debug(\"Data Frames opened\")"
     ],
     "language": "python",
     "metadata": {},
     "outputs": [],
     "prompt_number": 20
    },
    {
     "cell_type": "code",
     "collapsed": false,
     "input": [
      "df.columns = ['Name', 'Revenue', 'Basket Value', 'Segment', 'Email', 'Address', 'Phone' ]\n",
      "df.head()"
     ],
     "language": "python",
     "metadata": {},
     "outputs": [
      {
       "html": [
        "<div style=\"max-height:1000px;max-width:1500px;overflow:auto;\">\n",
        "<table border=\"1\" class=\"dataframe\">\n",
        "  <thead>\n",
        "    <tr style=\"text-align: right;\">\n",
        "      <th></th>\n",
        "      <th>Name</th>\n",
        "      <th>Revenue</th>\n",
        "      <th>Basket Value</th>\n",
        "      <th>Segment</th>\n",
        "      <th>Email</th>\n",
        "      <th>Address</th>\n",
        "      <th>Phone</th>\n",
        "    </tr>\n",
        "  </thead>\n",
        "  <tbody>\n",
        "    <tr>\n",
        "      <th>0</th>\n",
        "      <td> Magdalena Kallenberger</td>\n",
        "      <td>  267.17</td>\n",
        "      <td> 267.170000</td>\n",
        "      <td> Fresh Beef &amp; Poultry</td>\n",
        "      <td> 11435mail@mkallenberger.de</td>\n",
        "      <td>                                               NaN</td>\n",
        "      <td> 01090904137</td>\n",
        "    </tr>\n",
        "    <tr>\n",
        "      <th>1</th>\n",
        "      <td>           Adham Hamada</td>\n",
        "      <td>   61.20</td>\n",
        "      <td>  61.200000</td>\n",
        "      <td> Fresh Beef &amp; Poultry</td>\n",
        "      <td>       Adhamada@hotmail.com</td>\n",
        "      <td> 5 eskandar el Akbar st. Heliopolis First floor...</td>\n",
        "      <td> 01223221581</td>\n",
        "    </tr>\n",
        "    <tr>\n",
        "      <th>2</th>\n",
        "      <td>       Fadia Elsenoussi</td>\n",
        "      <td> 1068.43</td>\n",
        "      <td> 356.143333</td>\n",
        "      <td> Fresh Beef &amp; Poultry</td>\n",
        "      <td>  Fadiaelsenoussi@gmail.com</td>\n",
        "      <td>                                               NaN</td>\n",
        "      <td>         NaN</td>\n",
        "    </tr>\n",
        "    <tr>\n",
        "      <th>3</th>\n",
        "      <td>       Nadine  Chalfoun</td>\n",
        "      <td>  263.39</td>\n",
        "      <td> 263.390000</td>\n",
        "      <td> Fresh Beef &amp; Poultry</td>\n",
        "      <td>         Nadochal@yahoo.com</td>\n",
        "      <td>                                               NaN</td>\n",
        "      <td> 01223137478</td>\n",
        "    </tr>\n",
        "    <tr>\n",
        "      <th>4</th>\n",
        "      <td>          Sami Kissouni</td>\n",
        "      <td>  769.26</td>\n",
        "      <td> 769.260000</td>\n",
        "      <td> Fresh Beef &amp; Poultry</td>\n",
        "      <td>    Samikaissouni@gmail.com</td>\n",
        "      <td> 603 west golf,katamia,new cairo go right besid...</td>\n",
        "      <td> 01002141390</td>\n",
        "    </tr>\n",
        "  </tbody>\n",
        "</table>\n",
        "</div>"
       ],
       "metadata": {},
       "output_type": "pyout",
       "prompt_number": 21,
       "text": [
        "                     Name  Revenue  Basket Value               Segment  \\\n",
        "0  Magdalena Kallenberger   267.17    267.170000  Fresh Beef & Poultry   \n",
        "1            Adham Hamada    61.20     61.200000  Fresh Beef & Poultry   \n",
        "2        Fadia Elsenoussi  1068.43    356.143333  Fresh Beef & Poultry   \n",
        "3        Nadine  Chalfoun   263.39    263.390000  Fresh Beef & Poultry   \n",
        "4           Sami Kissouni   769.26    769.260000  Fresh Beef & Poultry   \n",
        "\n",
        "                        Email  \\\n",
        "0  11435mail@mkallenberger.de   \n",
        "1        Adhamada@hotmail.com   \n",
        "2   Fadiaelsenoussi@gmail.com   \n",
        "3          Nadochal@yahoo.com   \n",
        "4     Samikaissouni@gmail.com   \n",
        "\n",
        "                                             Address        Phone  \n",
        "0                                                NaN  01090904137  \n",
        "1  5 eskandar el Akbar st. Heliopolis First floor...  01223221581  \n",
        "2                                                NaN          NaN  \n",
        "3                                                NaN  01223137478  \n",
        "4  603 west golf,katamia,new cairo go right besid...  01002141390  "
       ]
      }
     ],
     "prompt_number": 21
    },
    {
     "cell_type": "code",
     "collapsed": false,
     "input": [
      "#merge data frames\n",
      "df10 = df1.merge(df3, on = ['Email'], how = 'inner')\n",
      "df10.head()"
     ],
     "language": "python",
     "metadata": {},
     "outputs": [
      {
       "html": [
        "<div style=\"max-height:1000px;max-width:1500px;overflow:auto;\">\n",
        "<table border=\"1\" class=\"dataframe\">\n",
        "  <thead>\n",
        "    <tr style=\"text-align: right;\">\n",
        "      <th></th>\n",
        "      <th>Email</th>\n",
        "      <th>Days from Last order</th>\n",
        "      <th>Total orders</th>\n",
        "      <th>Average days between orders</th>\n",
        "    </tr>\n",
        "  </thead>\n",
        "  <tbody>\n",
        "    <tr>\n",
        "      <th>0</th>\n",
        "      <td> 11435mail@mkallenberger.de</td>\n",
        "      <td> 941</td>\n",
        "      <td> 1</td>\n",
        "      <td>   0.000000</td>\n",
        "    </tr>\n",
        "    <tr>\n",
        "      <th>1</th>\n",
        "      <td>              1@gargour.com</td>\n",
        "      <td> 260</td>\n",
        "      <td> 2</td>\n",
        "      <td>  47.000000</td>\n",
        "    </tr>\n",
        "    <tr>\n",
        "      <th>2</th>\n",
        "      <td>          1kttate@gmail.com</td>\n",
        "      <td> 114</td>\n",
        "      <td> 4</td>\n",
        "      <td>   5.500000</td>\n",
        "    </tr>\n",
        "    <tr>\n",
        "      <th>3</th>\n",
        "      <td>  1youniqueflower@gmail.com</td>\n",
        "      <td>  23</td>\n",
        "      <td> 3</td>\n",
        "      <td> 125.000000</td>\n",
        "    </tr>\n",
        "    <tr>\n",
        "      <th>4</th>\n",
        "      <td>         3aliaa.h@gmail.com</td>\n",
        "      <td> 263</td>\n",
        "      <td> 3</td>\n",
        "      <td>   7.333333</td>\n",
        "    </tr>\n",
        "  </tbody>\n",
        "</table>\n",
        "</div>"
       ],
       "metadata": {},
       "output_type": "pyout",
       "prompt_number": 22,
       "text": [
        "                        Email  Days from Last order  Total orders  \\\n",
        "0  11435mail@mkallenberger.de                   941             1   \n",
        "1               1@gargour.com                   260             2   \n",
        "2           1kttate@gmail.com                   114             4   \n",
        "3   1youniqueflower@gmail.com                    23             3   \n",
        "4          3aliaa.h@gmail.com                   263             3   \n",
        "\n",
        "   Average days between orders  \n",
        "0                     0.000000  \n",
        "1                    47.000000  \n",
        "2                     5.500000  \n",
        "3                   125.000000  \n",
        "4                     7.333333  "
       ]
      }
     ],
     "prompt_number": 22
    },
    {
     "cell_type": "code",
     "collapsed": false,
     "input": [
      "df6 = df10.merge(df5, on = ['Email'], how = 'inner')\n",
      "df6.head()"
     ],
     "language": "python",
     "metadata": {},
     "outputs": [
      {
       "html": [
        "<div style=\"max-height:1000px;max-width:1500px;overflow:auto;\">\n",
        "<table border=\"1\" class=\"dataframe\">\n",
        "  <thead>\n",
        "    <tr style=\"text-align: right;\">\n",
        "      <th></th>\n",
        "      <th>Email</th>\n",
        "      <th>Days from Last order</th>\n",
        "      <th>Total orders</th>\n",
        "      <th>Average days between orders</th>\n",
        "      <th>Sunday</th>\n",
        "      <th>Monday</th>\n",
        "      <th>Tuesday</th>\n",
        "      <th>Wednesday</th>\n",
        "      <th>Thursday</th>\n",
        "      <th>Friday</th>\n",
        "      <th>...</th>\n",
        "      <th>4:00 - 6:00</th>\n",
        "      <th>6:00 - 8:00</th>\n",
        "      <th>8:00 - 10:00</th>\n",
        "      <th>10:00 - 12:00</th>\n",
        "      <th>12:00 - 14:00</th>\n",
        "      <th>14:00 - 16:00</th>\n",
        "      <th>16:00 - 18:00</th>\n",
        "      <th>18:00 - 20:00</th>\n",
        "      <th>20:00 - 22:00</th>\n",
        "      <th>22:00 - 0:00</th>\n",
        "    </tr>\n",
        "  </thead>\n",
        "  <tbody>\n",
        "    <tr>\n",
        "      <th>0</th>\n",
        "      <td> 11435mail@mkallenberger.de</td>\n",
        "      <td> 941</td>\n",
        "      <td> 1</td>\n",
        "      <td>   0.000000</td>\n",
        "      <td> 1</td>\n",
        "      <td> 0</td>\n",
        "      <td> 0</td>\n",
        "      <td> 0</td>\n",
        "      <td> 0</td>\n",
        "      <td> 0</td>\n",
        "      <td>...</td>\n",
        "      <td> 0</td>\n",
        "      <td> 0</td>\n",
        "      <td> 0</td>\n",
        "      <td> 0</td>\n",
        "      <td> 0</td>\n",
        "      <td> 1</td>\n",
        "      <td> 0</td>\n",
        "      <td> 0</td>\n",
        "      <td> 0</td>\n",
        "      <td> 0</td>\n",
        "    </tr>\n",
        "    <tr>\n",
        "      <th>1</th>\n",
        "      <td>              1@gargour.com</td>\n",
        "      <td> 260</td>\n",
        "      <td> 2</td>\n",
        "      <td>  47.000000</td>\n",
        "      <td> 0</td>\n",
        "      <td> 0</td>\n",
        "      <td> 1</td>\n",
        "      <td> 0</td>\n",
        "      <td> 0</td>\n",
        "      <td> 0</td>\n",
        "      <td>...</td>\n",
        "      <td> 0</td>\n",
        "      <td> 0</td>\n",
        "      <td> 0</td>\n",
        "      <td> 0</td>\n",
        "      <td> 0</td>\n",
        "      <td> 1</td>\n",
        "      <td> 1</td>\n",
        "      <td> 0</td>\n",
        "      <td> 0</td>\n",
        "      <td> 0</td>\n",
        "    </tr>\n",
        "    <tr>\n",
        "      <th>2</th>\n",
        "      <td>          1kttate@gmail.com</td>\n",
        "      <td> 114</td>\n",
        "      <td> 4</td>\n",
        "      <td>   5.500000</td>\n",
        "      <td> 1</td>\n",
        "      <td> 2</td>\n",
        "      <td> 0</td>\n",
        "      <td> 0</td>\n",
        "      <td> 1</td>\n",
        "      <td> 0</td>\n",
        "      <td>...</td>\n",
        "      <td> 0</td>\n",
        "      <td> 0</td>\n",
        "      <td> 2</td>\n",
        "      <td> 1</td>\n",
        "      <td> 1</td>\n",
        "      <td> 0</td>\n",
        "      <td> 0</td>\n",
        "      <td> 0</td>\n",
        "      <td> 0</td>\n",
        "      <td> 0</td>\n",
        "    </tr>\n",
        "    <tr>\n",
        "      <th>3</th>\n",
        "      <td>  1youniqueflower@gmail.com</td>\n",
        "      <td>  23</td>\n",
        "      <td> 3</td>\n",
        "      <td> 125.000000</td>\n",
        "      <td> 0</td>\n",
        "      <td> 1</td>\n",
        "      <td> 1</td>\n",
        "      <td> 0</td>\n",
        "      <td> 1</td>\n",
        "      <td> 0</td>\n",
        "      <td>...</td>\n",
        "      <td> 0</td>\n",
        "      <td> 0</td>\n",
        "      <td> 0</td>\n",
        "      <td> 0</td>\n",
        "      <td> 1</td>\n",
        "      <td> 0</td>\n",
        "      <td> 1</td>\n",
        "      <td> 0</td>\n",
        "      <td> 0</td>\n",
        "      <td> 1</td>\n",
        "    </tr>\n",
        "    <tr>\n",
        "      <th>4</th>\n",
        "      <td>         3aliaa.h@gmail.com</td>\n",
        "      <td> 263</td>\n",
        "      <td> 3</td>\n",
        "      <td>   7.333333</td>\n",
        "      <td> 1</td>\n",
        "      <td> 0</td>\n",
        "      <td> 0</td>\n",
        "      <td> 0</td>\n",
        "      <td> 0</td>\n",
        "      <td> 1</td>\n",
        "      <td>...</td>\n",
        "      <td> 0</td>\n",
        "      <td> 0</td>\n",
        "      <td> 0</td>\n",
        "      <td> 0</td>\n",
        "      <td> 0</td>\n",
        "      <td> 0</td>\n",
        "      <td> 1</td>\n",
        "      <td> 0</td>\n",
        "      <td> 0</td>\n",
        "      <td> 0</td>\n",
        "    </tr>\n",
        "  </tbody>\n",
        "</table>\n",
        "<p>5 rows \u00d7 23 columns</p>\n",
        "</div>"
       ],
       "metadata": {},
       "output_type": "pyout",
       "prompt_number": 23,
       "text": [
        "                        Email  Days from Last order  Total orders  \\\n",
        "0  11435mail@mkallenberger.de                   941             1   \n",
        "1               1@gargour.com                   260             2   \n",
        "2           1kttate@gmail.com                   114             4   \n",
        "3   1youniqueflower@gmail.com                    23             3   \n",
        "4          3aliaa.h@gmail.com                   263             3   \n",
        "\n",
        "   Average days between orders  Sunday  Monday  Tuesday  Wednesday  Thursday  \\\n",
        "0                     0.000000       1       0        0          0         0   \n",
        "1                    47.000000       0       0        1          0         0   \n",
        "2                     5.500000       1       2        0          0         1   \n",
        "3                   125.000000       0       1        1          0         1   \n",
        "4                     7.333333       1       0        0          0         0   \n",
        "\n",
        "   Friday      ...       4:00 - 6:00  6:00 - 8:00  8:00 - 10:00  \\\n",
        "0       0      ...                 0            0             0   \n",
        "1       0      ...                 0            0             0   \n",
        "2       0      ...                 0            0             2   \n",
        "3       0      ...                 0            0             0   \n",
        "4       1      ...                 0            0             0   \n",
        "\n",
        "   10:00 - 12:00  12:00 - 14:00  14:00 - 16:00  16:00 - 18:00  18:00 - 20:00  \\\n",
        "0              0              0              1              0              0   \n",
        "1              0              0              1              1              0   \n",
        "2              1              1              0              0              0   \n",
        "3              0              1              0              1              0   \n",
        "4              0              0              0              1              0   \n",
        "\n",
        "   20:00 - 22:00  22:00 - 0:00  \n",
        "0              0             0  \n",
        "1              0             0  \n",
        "2              0             0  \n",
        "3              0             1  \n",
        "4              0             0  \n",
        "\n",
        "[5 rows x 23 columns]"
       ]
      }
     ],
     "prompt_number": 23
    },
    {
     "cell_type": "code",
     "collapsed": false,
     "input": [
      "df6 = df6.merge(df, on = ['Email'], how = 'outer')\n",
      "df6.head()"
     ],
     "language": "python",
     "metadata": {},
     "outputs": [
      {
       "html": [
        "<div style=\"max-height:1000px;max-width:1500px;overflow:auto;\">\n",
        "<table border=\"1\" class=\"dataframe\">\n",
        "  <thead>\n",
        "    <tr style=\"text-align: right;\">\n",
        "      <th></th>\n",
        "      <th>Email</th>\n",
        "      <th>Days from Last order</th>\n",
        "      <th>Total orders</th>\n",
        "      <th>Average days between orders</th>\n",
        "      <th>Sunday</th>\n",
        "      <th>Monday</th>\n",
        "      <th>Tuesday</th>\n",
        "      <th>Wednesday</th>\n",
        "      <th>Thursday</th>\n",
        "      <th>Friday</th>\n",
        "      <th>...</th>\n",
        "      <th>16:00 - 18:00</th>\n",
        "      <th>18:00 - 20:00</th>\n",
        "      <th>20:00 - 22:00</th>\n",
        "      <th>22:00 - 0:00</th>\n",
        "      <th>Name</th>\n",
        "      <th>Revenue</th>\n",
        "      <th>Basket Value</th>\n",
        "      <th>Segment</th>\n",
        "      <th>Address</th>\n",
        "      <th>Phone</th>\n",
        "    </tr>\n",
        "  </thead>\n",
        "  <tbody>\n",
        "    <tr>\n",
        "      <th>0</th>\n",
        "      <td> 11435mail@mkallenberger.de</td>\n",
        "      <td> 941</td>\n",
        "      <td> 1</td>\n",
        "      <td>   0.000000</td>\n",
        "      <td> 1</td>\n",
        "      <td> 0</td>\n",
        "      <td> 0</td>\n",
        "      <td> 0</td>\n",
        "      <td> 0</td>\n",
        "      <td> 0</td>\n",
        "      <td>...</td>\n",
        "      <td> 0</td>\n",
        "      <td> 0</td>\n",
        "      <td> 0</td>\n",
        "      <td> 0</td>\n",
        "      <td> Magdalena Kallenberger</td>\n",
        "      <td>  267.17</td>\n",
        "      <td> 267.170000</td>\n",
        "      <td> Fresh Beef &amp; Poultry</td>\n",
        "      <td>                                               NaN</td>\n",
        "      <td> 01090904137</td>\n",
        "    </tr>\n",
        "    <tr>\n",
        "      <th>1</th>\n",
        "      <td>              1@gargour.com</td>\n",
        "      <td> 260</td>\n",
        "      <td> 2</td>\n",
        "      <td>  47.000000</td>\n",
        "      <td> 0</td>\n",
        "      <td> 0</td>\n",
        "      <td> 1</td>\n",
        "      <td> 0</td>\n",
        "      <td> 0</td>\n",
        "      <td> 0</td>\n",
        "      <td>...</td>\n",
        "      <td> 1</td>\n",
        "      <td> 0</td>\n",
        "      <td> 0</td>\n",
        "      <td> 0</td>\n",
        "      <td>          Alain  Phar\u00e8s</td>\n",
        "      <td> 1001.10</td>\n",
        "      <td> 500.550000</td>\n",
        "      <td>              Variety</td>\n",
        "      <td>                  31 golf street  app 69/6th maadi</td>\n",
        "      <td> 01222160835</td>\n",
        "    </tr>\n",
        "    <tr>\n",
        "      <th>2</th>\n",
        "      <td>          1kttate@gmail.com</td>\n",
        "      <td> 114</td>\n",
        "      <td> 4</td>\n",
        "      <td>   5.500000</td>\n",
        "      <td> 1</td>\n",
        "      <td> 2</td>\n",
        "      <td> 0</td>\n",
        "      <td> 0</td>\n",
        "      <td> 1</td>\n",
        "      <td> 0</td>\n",
        "      <td>...</td>\n",
        "      <td> 0</td>\n",
        "      <td> 0</td>\n",
        "      <td> 0</td>\n",
        "      <td> 0</td>\n",
        "      <td>             Kelly Tate</td>\n",
        "      <td>  648.00</td>\n",
        "      <td> 162.000000</td>\n",
        "      <td>           Vegetables</td>\n",
        "      <td> Street 33, Building 154, Area 1, Group 2, Taga...</td>\n",
        "      <td> 01023063292</td>\n",
        "    </tr>\n",
        "    <tr>\n",
        "      <th>3</th>\n",
        "      <td>  1youniqueflower@gmail.com</td>\n",
        "      <td>  23</td>\n",
        "      <td> 3</td>\n",
        "      <td> 125.000000</td>\n",
        "      <td> 0</td>\n",
        "      <td> 1</td>\n",
        "      <td> 1</td>\n",
        "      <td> 0</td>\n",
        "      <td> 1</td>\n",
        "      <td> 0</td>\n",
        "      <td>...</td>\n",
        "      <td> 1</td>\n",
        "      <td> 0</td>\n",
        "      <td> 0</td>\n",
        "      <td> 1</td>\n",
        "      <td>             Lara Scott</td>\n",
        "      <td>  909.00</td>\n",
        "      <td> 303.000000</td>\n",
        "      <td>              Variety</td>\n",
        "      <td> 23 Abdalla Deraz St.  #203 - 2nd Floor, left s...</td>\n",
        "      <td> 01221124426</td>\n",
        "    </tr>\n",
        "    <tr>\n",
        "      <th>4</th>\n",
        "      <td>         3aliaa.h@gmail.com</td>\n",
        "      <td> 263</td>\n",
        "      <td> 3</td>\n",
        "      <td>   7.333333</td>\n",
        "      <td> 1</td>\n",
        "      <td> 0</td>\n",
        "      <td> 0</td>\n",
        "      <td> 0</td>\n",
        "      <td> 0</td>\n",
        "      <td> 1</td>\n",
        "      <td>...</td>\n",
        "      <td> 1</td>\n",
        "      <td> 0</td>\n",
        "      <td> 0</td>\n",
        "      <td> 0</td>\n",
        "      <td>          mohamed tolba</td>\n",
        "      <td>  160.00</td>\n",
        "      <td>  53.333333</td>\n",
        "      <td>              Variety</td>\n",
        "      <td>        11 shams el din el koufy st  17 heliopolis</td>\n",
        "      <td> 01001436666</td>\n",
        "    </tr>\n",
        "  </tbody>\n",
        "</table>\n",
        "<p>5 rows \u00d7 29 columns</p>\n",
        "</div>"
       ],
       "metadata": {},
       "output_type": "pyout",
       "prompt_number": 24,
       "text": [
        "                        Email  Days from Last order  Total orders  \\\n",
        "0  11435mail@mkallenberger.de                   941             1   \n",
        "1               1@gargour.com                   260             2   \n",
        "2           1kttate@gmail.com                   114             4   \n",
        "3   1youniqueflower@gmail.com                    23             3   \n",
        "4          3aliaa.h@gmail.com                   263             3   \n",
        "\n",
        "   Average days between orders  Sunday  Monday  Tuesday  Wednesday  Thursday  \\\n",
        "0                     0.000000       1       0        0          0         0   \n",
        "1                    47.000000       0       0        1          0         0   \n",
        "2                     5.500000       1       2        0          0         1   \n",
        "3                   125.000000       0       1        1          0         1   \n",
        "4                     7.333333       1       0        0          0         0   \n",
        "\n",
        "   Friday     ...       16:00 - 18:00  18:00 - 20:00  20:00 - 22:00  \\\n",
        "0       0     ...                   0              0              0   \n",
        "1       0     ...                   1              0              0   \n",
        "2       0     ...                   0              0              0   \n",
        "3       0     ...                   1              0              0   \n",
        "4       1     ...                   1              0              0   \n",
        "\n",
        "   22:00 - 0:00                    Name  Revenue  Basket Value  \\\n",
        "0             0  Magdalena Kallenberger   267.17    267.170000   \n",
        "1             0           Alain  Phar\u00e8s  1001.10    500.550000   \n",
        "2             0              Kelly Tate   648.00    162.000000   \n",
        "3             1              Lara Scott   909.00    303.000000   \n",
        "4             0           mohamed tolba   160.00     53.333333   \n",
        "\n",
        "                Segment                                            Address  \\\n",
        "0  Fresh Beef & Poultry                                                NaN   \n",
        "1               Variety                   31 golf street  app 69/6th maadi   \n",
        "2            Vegetables  Street 33, Building 154, Area 1, Group 2, Taga...   \n",
        "3               Variety  23 Abdalla Deraz St.  #203 - 2nd Floor, left s...   \n",
        "4               Variety         11 shams el din el koufy st  17 heliopolis   \n",
        "\n",
        "         Phone  \n",
        "0  01090904137  \n",
        "1  01222160835  \n",
        "2  01023063292  \n",
        "3  01221124426  \n",
        "4  01001436666  \n",
        "\n",
        "[5 rows x 29 columns]"
       ]
      }
     ],
     "prompt_number": 24
    },
    {
     "cell_type": "code",
     "collapsed": false,
     "input": [
      "#df2 = pd.read_csv(cfg['root']+cfg['dir_data_shopify']+cfg[\"ip_customers\"])\n",
      "df2 = pd.read_csv('C:\\Users\\saisree849\\Documents\\GitHub\\NGS-2.0\\data_input\\shopify\\customers_export.csv', low_memory=False)\n",
      "df2 = df6.merge(df2, on = ['Email'], how = 'inner')\n",
      "df2.head()"
     ],
     "language": "python",
     "metadata": {},
     "outputs": [
      {
       "html": [
        "<div style=\"max-height:1000px;max-width:1500px;overflow:auto;\">\n",
        "<table border=\"1\" class=\"dataframe\">\n",
        "  <thead>\n",
        "    <tr style=\"text-align: right;\">\n",
        "      <th></th>\n",
        "      <th>Email</th>\n",
        "      <th>Days from Last order</th>\n",
        "      <th>Total orders</th>\n",
        "      <th>Average days between orders</th>\n",
        "      <th>Sunday</th>\n",
        "      <th>Monday</th>\n",
        "      <th>Tuesday</th>\n",
        "      <th>Wednesday</th>\n",
        "      <th>Thursday</th>\n",
        "      <th>Friday</th>\n",
        "      <th>...</th>\n",
        "      <th>Country</th>\n",
        "      <th>Country Code</th>\n",
        "      <th>Zip</th>\n",
        "      <th>Phone_y</th>\n",
        "      <th>Accepts Marketing</th>\n",
        "      <th>Total Spent</th>\n",
        "      <th>Total Orders</th>\n",
        "      <th>Tags</th>\n",
        "      <th>Note</th>\n",
        "      <th>Tax Exempt</th>\n",
        "    </tr>\n",
        "  </thead>\n",
        "  <tbody>\n",
        "    <tr>\n",
        "      <th>0</th>\n",
        "      <td> 11435mail@mkallenberger.de</td>\n",
        "      <td> 941</td>\n",
        "      <td> 1</td>\n",
        "      <td>   0.000000</td>\n",
        "      <td> 1</td>\n",
        "      <td> 0</td>\n",
        "      <td> 0</td>\n",
        "      <td> 0</td>\n",
        "      <td> 0</td>\n",
        "      <td> 0</td>\n",
        "      <td>...</td>\n",
        "      <td> Egypt</td>\n",
        "      <td> EG</td>\n",
        "      <td> 11435</td>\n",
        "      <td> 01090904137</td>\n",
        "      <td> yes</td>\n",
        "      <td>  277.17</td>\n",
        "      <td> 1</td>\n",
        "      <td> NaN</td>\n",
        "      <td> NaN</td>\n",
        "      <td> no</td>\n",
        "    </tr>\n",
        "    <tr>\n",
        "      <th>1</th>\n",
        "      <td>              1@gargour.com</td>\n",
        "      <td> 260</td>\n",
        "      <td> 2</td>\n",
        "      <td>  47.000000</td>\n",
        "      <td> 0</td>\n",
        "      <td> 0</td>\n",
        "      <td> 1</td>\n",
        "      <td> 0</td>\n",
        "      <td> 0</td>\n",
        "      <td> 0</td>\n",
        "      <td>...</td>\n",
        "      <td> Egypt</td>\n",
        "      <td> EG</td>\n",
        "      <td> 11511</td>\n",
        "      <td> 01222160835</td>\n",
        "      <td>  no</td>\n",
        "      <td> 1021.10</td>\n",
        "      <td> 2</td>\n",
        "      <td> NaN</td>\n",
        "      <td> NaN</td>\n",
        "      <td> no</td>\n",
        "    </tr>\n",
        "    <tr>\n",
        "      <th>2</th>\n",
        "      <td>          1kttate@gmail.com</td>\n",
        "      <td> 114</td>\n",
        "      <td> 4</td>\n",
        "      <td>   5.500000</td>\n",
        "      <td> 1</td>\n",
        "      <td> 2</td>\n",
        "      <td> 0</td>\n",
        "      <td> 0</td>\n",
        "      <td> 1</td>\n",
        "      <td> 0</td>\n",
        "      <td>...</td>\n",
        "      <td> Egypt</td>\n",
        "      <td> EG</td>\n",
        "      <td> 00000</td>\n",
        "      <td> 01023063292</td>\n",
        "      <td>  no</td>\n",
        "      <td>  399.00</td>\n",
        "      <td> 4</td>\n",
        "      <td> NaN</td>\n",
        "      <td> NaN</td>\n",
        "      <td> no</td>\n",
        "    </tr>\n",
        "    <tr>\n",
        "      <th>3</th>\n",
        "      <td>  1youniqueflower@gmail.com</td>\n",
        "      <td>  23</td>\n",
        "      <td> 3</td>\n",
        "      <td> 125.000000</td>\n",
        "      <td> 0</td>\n",
        "      <td> 1</td>\n",
        "      <td> 1</td>\n",
        "      <td> 0</td>\n",
        "      <td> 1</td>\n",
        "      <td> 0</td>\n",
        "      <td>...</td>\n",
        "      <td> Egypt</td>\n",
        "      <td> EG</td>\n",
        "      <td> 11341</td>\n",
        "      <td> 01221124426</td>\n",
        "      <td>  no</td>\n",
        "      <td>  936.00</td>\n",
        "      <td> 3</td>\n",
        "      <td> NaN</td>\n",
        "      <td> NaN</td>\n",
        "      <td> no</td>\n",
        "    </tr>\n",
        "    <tr>\n",
        "      <th>4</th>\n",
        "      <td>         3aliaa.h@gmail.com</td>\n",
        "      <td> 263</td>\n",
        "      <td> 3</td>\n",
        "      <td>   7.333333</td>\n",
        "      <td> 1</td>\n",
        "      <td> 0</td>\n",
        "      <td> 0</td>\n",
        "      <td> 0</td>\n",
        "      <td> 0</td>\n",
        "      <td> 1</td>\n",
        "      <td>...</td>\n",
        "      <td> Egypt</td>\n",
        "      <td> EG</td>\n",
        "      <td> 11371</td>\n",
        "      <td> 01001436666</td>\n",
        "      <td>  no</td>\n",
        "      <td>  187.00</td>\n",
        "      <td> 3</td>\n",
        "      <td> NaN</td>\n",
        "      <td> NaN</td>\n",
        "      <td> no</td>\n",
        "    </tr>\n",
        "  </tbody>\n",
        "</table>\n",
        "<p>5 rows \u00d7 47 columns</p>\n",
        "</div>"
       ],
       "metadata": {},
       "output_type": "pyout",
       "prompt_number": 25,
       "text": [
        "                        Email  Days from Last order  Total orders  \\\n",
        "0  11435mail@mkallenberger.de                   941             1   \n",
        "1               1@gargour.com                   260             2   \n",
        "2           1kttate@gmail.com                   114             4   \n",
        "3   1youniqueflower@gmail.com                    23             3   \n",
        "4          3aliaa.h@gmail.com                   263             3   \n",
        "\n",
        "   Average days between orders  Sunday  Monday  Tuesday  Wednesday  Thursday  \\\n",
        "0                     0.000000       1       0        0          0         0   \n",
        "1                    47.000000       0       0        1          0         0   \n",
        "2                     5.500000       1       2        0          0         1   \n",
        "3                   125.000000       0       1        1          0         1   \n",
        "4                     7.333333       1       0        0          0         0   \n",
        "\n",
        "   Friday     ...      Country  Country Code    Zip      Phone_y  \\\n",
        "0       0     ...        Egypt            EG  11435  01090904137   \n",
        "1       0     ...        Egypt            EG  11511  01222160835   \n",
        "2       0     ...        Egypt            EG  00000  01023063292   \n",
        "3       0     ...        Egypt            EG  11341  01221124426   \n",
        "4       1     ...        Egypt            EG  11371  01001436666   \n",
        "\n",
        "   Accepts Marketing  Total Spent  Total Orders  Tags  Note  Tax Exempt  \n",
        "0                yes       277.17             1   NaN   NaN          no  \n",
        "1                 no      1021.10             2   NaN   NaN          no  \n",
        "2                 no       399.00             4   NaN   NaN          no  \n",
        "3                 no       936.00             3   NaN   NaN          no  \n",
        "4                 no       187.00             3   NaN   NaN          no  \n",
        "\n",
        "[5 rows x 47 columns]"
       ]
      }
     ],
     "prompt_number": 25
    },
    {
     "cell_type": "code",
     "collapsed": false,
     "input": [
      "df2 = df2[['First Name', 'Last Name', 'Total orders', 'Average days between orders', 'Email', 'Days from Last order', 'Sunday', 'Monday', 'Tuesday', 'Wednesday', 'Thursday', 'Friday', 'Saturday', '0:00 - 2:00', '2:00 - 4:00', '4:00 - 6:00', '6:00 - 8:00', '8:00 - 10:00', '10:00 - 12:00', '12:00 - 14:00', '14:00 - 16:00', '16:00 - 18:00', '18:00 - 20:00', '20:00 - 22:00', '22:00 - 0:00']]\n",
      "\n",
      "#concatenate name\n",
      "for i in range(0, max(df2.index)+1):\n",
      "    df2.loc[i, 'Name'] = df2.loc[i, 'First Name'] + \" \" + df2.loc[i, 'Last Name']\n",
      "df2.head()"
     ],
     "language": "python",
     "metadata": {},
     "outputs": [
      {
       "html": [
        "<div style=\"max-height:1000px;max-width:1500px;overflow:auto;\">\n",
        "<table border=\"1\" class=\"dataframe\">\n",
        "  <thead>\n",
        "    <tr style=\"text-align: right;\">\n",
        "      <th></th>\n",
        "      <th>First Name</th>\n",
        "      <th>Last Name</th>\n",
        "      <th>Total orders</th>\n",
        "      <th>Average days between orders</th>\n",
        "      <th>Email</th>\n",
        "      <th>Days from Last order</th>\n",
        "      <th>Sunday</th>\n",
        "      <th>Monday</th>\n",
        "      <th>Tuesday</th>\n",
        "      <th>Wednesday</th>\n",
        "      <th>...</th>\n",
        "      <th>6:00 - 8:00</th>\n",
        "      <th>8:00 - 10:00</th>\n",
        "      <th>10:00 - 12:00</th>\n",
        "      <th>12:00 - 14:00</th>\n",
        "      <th>14:00 - 16:00</th>\n",
        "      <th>16:00 - 18:00</th>\n",
        "      <th>18:00 - 20:00</th>\n",
        "      <th>20:00 - 22:00</th>\n",
        "      <th>22:00 - 0:00</th>\n",
        "      <th>Name</th>\n",
        "    </tr>\n",
        "  </thead>\n",
        "  <tbody>\n",
        "    <tr>\n",
        "      <th>0</th>\n",
        "      <td> Magdalena</td>\n",
        "      <td> Kallenberger</td>\n",
        "      <td> 1</td>\n",
        "      <td>   0.000000</td>\n",
        "      <td> 11435mail@mkallenberger.de</td>\n",
        "      <td> 941</td>\n",
        "      <td> 1</td>\n",
        "      <td> 0</td>\n",
        "      <td> 0</td>\n",
        "      <td> 0</td>\n",
        "      <td>...</td>\n",
        "      <td> 0</td>\n",
        "      <td> 0</td>\n",
        "      <td> 0</td>\n",
        "      <td> 0</td>\n",
        "      <td> 1</td>\n",
        "      <td> 0</td>\n",
        "      <td> 0</td>\n",
        "      <td> 0</td>\n",
        "      <td> 0</td>\n",
        "      <td> Magdalena Kallenberger</td>\n",
        "    </tr>\n",
        "    <tr>\n",
        "      <th>1</th>\n",
        "      <td>    Alain </td>\n",
        "      <td>       Phar\u00e8s</td>\n",
        "      <td> 2</td>\n",
        "      <td>  47.000000</td>\n",
        "      <td>              1@gargour.com</td>\n",
        "      <td> 260</td>\n",
        "      <td> 0</td>\n",
        "      <td> 0</td>\n",
        "      <td> 1</td>\n",
        "      <td> 0</td>\n",
        "      <td>...</td>\n",
        "      <td> 0</td>\n",
        "      <td> 0</td>\n",
        "      <td> 0</td>\n",
        "      <td> 0</td>\n",
        "      <td> 1</td>\n",
        "      <td> 1</td>\n",
        "      <td> 0</td>\n",
        "      <td> 0</td>\n",
        "      <td> 0</td>\n",
        "      <td>          Alain  Phar\u00e8s</td>\n",
        "    </tr>\n",
        "    <tr>\n",
        "      <th>2</th>\n",
        "      <td>     Kelly</td>\n",
        "      <td>         Tate</td>\n",
        "      <td> 4</td>\n",
        "      <td>   5.500000</td>\n",
        "      <td>          1kttate@gmail.com</td>\n",
        "      <td> 114</td>\n",
        "      <td> 1</td>\n",
        "      <td> 2</td>\n",
        "      <td> 0</td>\n",
        "      <td> 0</td>\n",
        "      <td>...</td>\n",
        "      <td> 0</td>\n",
        "      <td> 2</td>\n",
        "      <td> 1</td>\n",
        "      <td> 1</td>\n",
        "      <td> 0</td>\n",
        "      <td> 0</td>\n",
        "      <td> 0</td>\n",
        "      <td> 0</td>\n",
        "      <td> 0</td>\n",
        "      <td>             Kelly Tate</td>\n",
        "    </tr>\n",
        "    <tr>\n",
        "      <th>3</th>\n",
        "      <td>      Lara</td>\n",
        "      <td>        Scott</td>\n",
        "      <td> 3</td>\n",
        "      <td> 125.000000</td>\n",
        "      <td>  1youniqueflower@gmail.com</td>\n",
        "      <td>  23</td>\n",
        "      <td> 0</td>\n",
        "      <td> 1</td>\n",
        "      <td> 1</td>\n",
        "      <td> 0</td>\n",
        "      <td>...</td>\n",
        "      <td> 0</td>\n",
        "      <td> 0</td>\n",
        "      <td> 0</td>\n",
        "      <td> 1</td>\n",
        "      <td> 0</td>\n",
        "      <td> 1</td>\n",
        "      <td> 0</td>\n",
        "      <td> 0</td>\n",
        "      <td> 1</td>\n",
        "      <td>             Lara Scott</td>\n",
        "    </tr>\n",
        "    <tr>\n",
        "      <th>4</th>\n",
        "      <td>   mohamed</td>\n",
        "      <td>        tolba</td>\n",
        "      <td> 3</td>\n",
        "      <td>   7.333333</td>\n",
        "      <td>         3aliaa.h@gmail.com</td>\n",
        "      <td> 263</td>\n",
        "      <td> 1</td>\n",
        "      <td> 0</td>\n",
        "      <td> 0</td>\n",
        "      <td> 0</td>\n",
        "      <td>...</td>\n",
        "      <td> 0</td>\n",
        "      <td> 0</td>\n",
        "      <td> 0</td>\n",
        "      <td> 0</td>\n",
        "      <td> 0</td>\n",
        "      <td> 1</td>\n",
        "      <td> 0</td>\n",
        "      <td> 0</td>\n",
        "      <td> 0</td>\n",
        "      <td>          mohamed tolba</td>\n",
        "    </tr>\n",
        "  </tbody>\n",
        "</table>\n",
        "<p>5 rows \u00d7 26 columns</p>\n",
        "</div>"
       ],
       "metadata": {},
       "output_type": "pyout",
       "prompt_number": 26,
       "text": [
        "  First Name     Last Name  Total orders  Average days between orders  \\\n",
        "0  Magdalena  Kallenberger             1                     0.000000   \n",
        "1     Alain         Phar\u00e8s             2                    47.000000   \n",
        "2      Kelly          Tate             4                     5.500000   \n",
        "3       Lara         Scott             3                   125.000000   \n",
        "4    mohamed         tolba             3                     7.333333   \n",
        "\n",
        "                        Email  Days from Last order  Sunday  Monday  Tuesday  \\\n",
        "0  11435mail@mkallenberger.de                   941       1       0        0   \n",
        "1               1@gargour.com                   260       0       0        1   \n",
        "2           1kttate@gmail.com                   114       1       2        0   \n",
        "3   1youniqueflower@gmail.com                    23       0       1        1   \n",
        "4          3aliaa.h@gmail.com                   263       1       0        0   \n",
        "\n",
        "   Wednesday           ...            6:00 - 8:00  8:00 - 10:00  \\\n",
        "0          0           ...                      0             0   \n",
        "1          0           ...                      0             0   \n",
        "2          0           ...                      0             2   \n",
        "3          0           ...                      0             0   \n",
        "4          0           ...                      0             0   \n",
        "\n",
        "   10:00 - 12:00  12:00 - 14:00  14:00 - 16:00  16:00 - 18:00  18:00 - 20:00  \\\n",
        "0              0              0              1              0              0   \n",
        "1              0              0              1              1              0   \n",
        "2              1              1              0              0              0   \n",
        "3              0              1              0              1              0   \n",
        "4              0              0              0              1              0   \n",
        "\n",
        "   20:00 - 22:00  22:00 - 0:00                    Name  \n",
        "0              0             0  Magdalena Kallenberger  \n",
        "1              0             0           Alain  Phar\u00e8s  \n",
        "2              0             0              Kelly Tate  \n",
        "3              0             1              Lara Scott  \n",
        "4              0             0           mohamed tolba  \n",
        "\n",
        "[5 rows x 26 columns]"
       ]
      }
     ],
     "prompt_number": 26
    },
    {
     "cell_type": "code",
     "collapsed": false,
     "input": [
      "df4 = df2.merge(df, on = ['Name', 'Email'], how = 'inner')\n",
      "\n",
      "df4 = df4[['Name', 'Revenue', 'Basket Value', 'Segment', 'Address','Phone', 'Total orders', 'Average days between orders', 'Email', 'Days from Last order', 'Sunday', 'Monday', 'Tuesday', 'Wednesday', 'Thursday', 'Friday', 'Saturday', '0:00 - 2:00', '2:00 - 4:00', '4:00 - 6:00', '6:00 - 8:00', '8:00 - 10:00', '10:00 - 12:00', '12:00 - 14:00', '14:00 - 16:00', '16:00 - 18:00', '18:00 - 20:00', '20:00 - 22:00', '22:00 - 0:00']]\n",
      "df4.head()"
     ],
     "language": "python",
     "metadata": {},
     "outputs": [
      {
       "html": [
        "<div style=\"max-height:1000px;max-width:1500px;overflow:auto;\">\n",
        "<table border=\"1\" class=\"dataframe\">\n",
        "  <thead>\n",
        "    <tr style=\"text-align: right;\">\n",
        "      <th></th>\n",
        "      <th>Name</th>\n",
        "      <th>Revenue</th>\n",
        "      <th>Basket Value</th>\n",
        "      <th>Segment</th>\n",
        "      <th>Address</th>\n",
        "      <th>Phone</th>\n",
        "      <th>Total orders</th>\n",
        "      <th>Average days between orders</th>\n",
        "      <th>Email</th>\n",
        "      <th>Days from Last order</th>\n",
        "      <th>...</th>\n",
        "      <th>4:00 - 6:00</th>\n",
        "      <th>6:00 - 8:00</th>\n",
        "      <th>8:00 - 10:00</th>\n",
        "      <th>10:00 - 12:00</th>\n",
        "      <th>12:00 - 14:00</th>\n",
        "      <th>14:00 - 16:00</th>\n",
        "      <th>16:00 - 18:00</th>\n",
        "      <th>18:00 - 20:00</th>\n",
        "      <th>20:00 - 22:00</th>\n",
        "      <th>22:00 - 0:00</th>\n",
        "    </tr>\n",
        "  </thead>\n",
        "  <tbody>\n",
        "    <tr>\n",
        "      <th>0</th>\n",
        "      <td> Magdalena Kallenberger</td>\n",
        "      <td>  267.17</td>\n",
        "      <td> 267.170000</td>\n",
        "      <td> Fresh Beef &amp; Poultry</td>\n",
        "      <td>                                               NaN</td>\n",
        "      <td> 01090904137</td>\n",
        "      <td> 1</td>\n",
        "      <td>   0.000000</td>\n",
        "      <td> 11435mail@mkallenberger.de</td>\n",
        "      <td> 941</td>\n",
        "      <td>...</td>\n",
        "      <td> 0</td>\n",
        "      <td> 0</td>\n",
        "      <td> 0</td>\n",
        "      <td> 0</td>\n",
        "      <td> 0</td>\n",
        "      <td> 1</td>\n",
        "      <td> 0</td>\n",
        "      <td> 0</td>\n",
        "      <td> 0</td>\n",
        "      <td> 0</td>\n",
        "    </tr>\n",
        "    <tr>\n",
        "      <th>1</th>\n",
        "      <td>          Alain  Phar\u00e8s</td>\n",
        "      <td> 1001.10</td>\n",
        "      <td> 500.550000</td>\n",
        "      <td>              Variety</td>\n",
        "      <td>                  31 golf street  app 69/6th maadi</td>\n",
        "      <td> 01222160835</td>\n",
        "      <td> 2</td>\n",
        "      <td>  47.000000</td>\n",
        "      <td>              1@gargour.com</td>\n",
        "      <td> 260</td>\n",
        "      <td>...</td>\n",
        "      <td> 0</td>\n",
        "      <td> 0</td>\n",
        "      <td> 0</td>\n",
        "      <td> 0</td>\n",
        "      <td> 0</td>\n",
        "      <td> 1</td>\n",
        "      <td> 1</td>\n",
        "      <td> 0</td>\n",
        "      <td> 0</td>\n",
        "      <td> 0</td>\n",
        "    </tr>\n",
        "    <tr>\n",
        "      <th>2</th>\n",
        "      <td>             Kelly Tate</td>\n",
        "      <td>  648.00</td>\n",
        "      <td> 162.000000</td>\n",
        "      <td>           Vegetables</td>\n",
        "      <td> Street 33, Building 154, Area 1, Group 2, Taga...</td>\n",
        "      <td> 01023063292</td>\n",
        "      <td> 4</td>\n",
        "      <td>   5.500000</td>\n",
        "      <td>          1kttate@gmail.com</td>\n",
        "      <td> 114</td>\n",
        "      <td>...</td>\n",
        "      <td> 0</td>\n",
        "      <td> 0</td>\n",
        "      <td> 2</td>\n",
        "      <td> 1</td>\n",
        "      <td> 1</td>\n",
        "      <td> 0</td>\n",
        "      <td> 0</td>\n",
        "      <td> 0</td>\n",
        "      <td> 0</td>\n",
        "      <td> 0</td>\n",
        "    </tr>\n",
        "    <tr>\n",
        "      <th>3</th>\n",
        "      <td>             Lara Scott</td>\n",
        "      <td>  909.00</td>\n",
        "      <td> 303.000000</td>\n",
        "      <td>              Variety</td>\n",
        "      <td> 23 Abdalla Deraz St.  #203 - 2nd Floor, left s...</td>\n",
        "      <td> 01221124426</td>\n",
        "      <td> 3</td>\n",
        "      <td> 125.000000</td>\n",
        "      <td>  1youniqueflower@gmail.com</td>\n",
        "      <td>  23</td>\n",
        "      <td>...</td>\n",
        "      <td> 0</td>\n",
        "      <td> 0</td>\n",
        "      <td> 0</td>\n",
        "      <td> 0</td>\n",
        "      <td> 1</td>\n",
        "      <td> 0</td>\n",
        "      <td> 1</td>\n",
        "      <td> 0</td>\n",
        "      <td> 0</td>\n",
        "      <td> 1</td>\n",
        "    </tr>\n",
        "    <tr>\n",
        "      <th>4</th>\n",
        "      <td>          mohamed tolba</td>\n",
        "      <td>  160.00</td>\n",
        "      <td>  53.333333</td>\n",
        "      <td>              Variety</td>\n",
        "      <td>        11 shams el din el koufy st  17 heliopolis</td>\n",
        "      <td> 01001436666</td>\n",
        "      <td> 3</td>\n",
        "      <td>   7.333333</td>\n",
        "      <td>         3aliaa.h@gmail.com</td>\n",
        "      <td> 263</td>\n",
        "      <td>...</td>\n",
        "      <td> 0</td>\n",
        "      <td> 0</td>\n",
        "      <td> 0</td>\n",
        "      <td> 0</td>\n",
        "      <td> 0</td>\n",
        "      <td> 0</td>\n",
        "      <td> 1</td>\n",
        "      <td> 0</td>\n",
        "      <td> 0</td>\n",
        "      <td> 0</td>\n",
        "    </tr>\n",
        "  </tbody>\n",
        "</table>\n",
        "<p>5 rows \u00d7 29 columns</p>\n",
        "</div>"
       ],
       "metadata": {},
       "output_type": "pyout",
       "prompt_number": 27,
       "text": [
        "                     Name  Revenue  Basket Value               Segment  \\\n",
        "0  Magdalena Kallenberger   267.17    267.170000  Fresh Beef & Poultry   \n",
        "1           Alain  Phar\u00e8s  1001.10    500.550000               Variety   \n",
        "2              Kelly Tate   648.00    162.000000            Vegetables   \n",
        "3              Lara Scott   909.00    303.000000               Variety   \n",
        "4           mohamed tolba   160.00     53.333333               Variety   \n",
        "\n",
        "                                             Address        Phone  \\\n",
        "0                                                NaN  01090904137   \n",
        "1                   31 golf street  app 69/6th maadi  01222160835   \n",
        "2  Street 33, Building 154, Area 1, Group 2, Taga...  01023063292   \n",
        "3  23 Abdalla Deraz St.  #203 - 2nd Floor, left s...  01221124426   \n",
        "4         11 shams el din el koufy st  17 heliopolis  01001436666   \n",
        "\n",
        "   Total orders  Average days between orders                       Email  \\\n",
        "0             1                     0.000000  11435mail@mkallenberger.de   \n",
        "1             2                    47.000000               1@gargour.com   \n",
        "2             4                     5.500000           1kttate@gmail.com   \n",
        "3             3                   125.000000   1youniqueflower@gmail.com   \n",
        "4             3                     7.333333          3aliaa.h@gmail.com   \n",
        "\n",
        "   Days from Last order      ...       4:00 - 6:00  6:00 - 8:00  8:00 - 10:00  \\\n",
        "0                   941      ...                 0            0             0   \n",
        "1                   260      ...                 0            0             0   \n",
        "2                   114      ...                 0            0             2   \n",
        "3                    23      ...                 0            0             0   \n",
        "4                   263      ...                 0            0             0   \n",
        "\n",
        "   10:00 - 12:00  12:00 - 14:00  14:00 - 16:00  16:00 - 18:00  18:00 - 20:00  \\\n",
        "0              0              0              1              0              0   \n",
        "1              0              0              1              1              0   \n",
        "2              1              1              0              0              0   \n",
        "3              0              1              0              1              0   \n",
        "4              0              0              0              1              0   \n",
        "\n",
        "   20:00 - 22:00  22:00 - 0:00  \n",
        "0              0             0  \n",
        "1              0             0  \n",
        "2              0             0  \n",
        "3              0             1  \n",
        "4              0             0  \n",
        "\n",
        "[5 rows x 29 columns]"
       ]
      }
     ],
     "prompt_number": 27
    },
    {
     "cell_type": "code",
     "collapsed": false,
     "input": [
      "#df = pd.read_csv(cfg['root']+cfg['dir_data_shopify']+cfg[\"ip_orders\"],low_memory=False)\n",
      "df = pd.read_csv('C:\\Users\\saisree849\\Documents\\GitHub\\NGS-2.0\\data_input\\shopify\\orders_export.csv', low_memory=False)\n",
      "df1 = df[['Lineitem quantity', 'Lineitem price']]\n",
      "\n",
      "#calculate revenue\n",
      "df1.loc[:, 'Revenue'] = df1.apply(lambda x: x['Lineitem quantity'] * x['Lineitem price'], axis=1)\n",
      "\n",
      "df1=df1[['Lineitem quantity', 'Revenue']]\n",
      "df1.head()"
     ],
     "language": "python",
     "metadata": {},
     "outputs": [
      {
       "html": [
        "<div style=\"max-height:1000px;max-width:1500px;overflow:auto;\">\n",
        "<table border=\"1\" class=\"dataframe\">\n",
        "  <thead>\n",
        "    <tr style=\"text-align: right;\">\n",
        "      <th></th>\n",
        "      <th>Lineitem quantity</th>\n",
        "      <th>Revenue</th>\n",
        "    </tr>\n",
        "  </thead>\n",
        "  <tbody>\n",
        "    <tr>\n",
        "      <th>0</th>\n",
        "      <td> 4</td>\n",
        "      <td> 180.0</td>\n",
        "    </tr>\n",
        "    <tr>\n",
        "      <th>1</th>\n",
        "      <td> 2</td>\n",
        "      <td>  14.4</td>\n",
        "    </tr>\n",
        "    <tr>\n",
        "      <th>2</th>\n",
        "      <td> 3</td>\n",
        "      <td> 180.9</td>\n",
        "    </tr>\n",
        "    <tr>\n",
        "      <th>3</th>\n",
        "      <td> 1</td>\n",
        "      <td>  30.6</td>\n",
        "    </tr>\n",
        "    <tr>\n",
        "      <th>4</th>\n",
        "      <td> 1</td>\n",
        "      <td>  10.8</td>\n",
        "    </tr>\n",
        "  </tbody>\n",
        "</table>\n",
        "</div>"
       ],
       "metadata": {},
       "output_type": "pyout",
       "prompt_number": 28,
       "text": [
        "   Lineitem quantity  Revenue\n",
        "0                  4    180.0\n",
        "1                  2     14.4\n",
        "2                  3    180.9\n",
        "3                  1     30.6\n",
        "4                  1     10.8"
       ]
      }
     ],
     "prompt_number": 28
    },
    {
     "cell_type": "code",
     "collapsed": false,
     "input": [
      "df = df[['Email']]\n",
      "df = df.drop_duplicates().reset_index().drop('index',1)\n",
      "df.head()"
     ],
     "language": "python",
     "metadata": {},
     "outputs": [
      {
       "html": [
        "<div style=\"max-height:1000px;max-width:1500px;overflow:auto;\">\n",
        "<table border=\"1\" class=\"dataframe\">\n",
        "  <thead>\n",
        "    <tr style=\"text-align: right;\">\n",
        "      <th></th>\n",
        "      <th>Email</th>\n",
        "    </tr>\n",
        "  </thead>\n",
        "  <tbody>\n",
        "    <tr>\n",
        "      <th>0</th>\n",
        "      <td> rehabmansour@gmail.com</td>\n",
        "    </tr>\n",
        "    <tr>\n",
        "      <th>1</th>\n",
        "      <td>    nabouheif@yahoo.com</td>\n",
        "    </tr>\n",
        "    <tr>\n",
        "      <th>2</th>\n",
        "      <td> fracicardi@hotmail.com</td>\n",
        "    </tr>\n",
        "    <tr>\n",
        "      <th>3</th>\n",
        "      <td> ahmed.fakhry@gmail.com</td>\n",
        "    </tr>\n",
        "    <tr>\n",
        "      <th>4</th>\n",
        "      <td>   Missilou11@yahoo.com</td>\n",
        "    </tr>\n",
        "  </tbody>\n",
        "</table>\n",
        "</div>"
       ],
       "metadata": {},
       "output_type": "pyout",
       "prompt_number": 29,
       "text": [
        "                    Email\n",
        "0  rehabmansour@gmail.com\n",
        "1     nabouheif@yahoo.com\n",
        "2  fracicardi@hotmail.com\n",
        "3  ahmed.fakhry@gmail.com\n",
        "4    Missilou11@yahoo.com"
       ]
      }
     ],
     "prompt_number": 29
    },
    {
     "cell_type": "code",
     "collapsed": false,
     "input": [
      "#calculate avg revenue, avg basket size\n",
      "df1 = df1.sum()\n",
      "df4['Average Revenue'] = df1['Revenue']/float(max(df.index)+1)\n",
      "df4['Average Basket Size'] = df1['Lineitem quantity']/float(max(df.index)+1)\n",
      "df4.head()"
     ],
     "language": "python",
     "metadata": {},
     "outputs": [
      {
       "html": [
        "<div style=\"max-height:1000px;max-width:1500px;overflow:auto;\">\n",
        "<table border=\"1\" class=\"dataframe\">\n",
        "  <thead>\n",
        "    <tr style=\"text-align: right;\">\n",
        "      <th></th>\n",
        "      <th>Name</th>\n",
        "      <th>Revenue</th>\n",
        "      <th>Basket Value</th>\n",
        "      <th>Segment</th>\n",
        "      <th>Address</th>\n",
        "      <th>Phone</th>\n",
        "      <th>Total orders</th>\n",
        "      <th>Average days between orders</th>\n",
        "      <th>Email</th>\n",
        "      <th>Days from Last order</th>\n",
        "      <th>...</th>\n",
        "      <th>8:00 - 10:00</th>\n",
        "      <th>10:00 - 12:00</th>\n",
        "      <th>12:00 - 14:00</th>\n",
        "      <th>14:00 - 16:00</th>\n",
        "      <th>16:00 - 18:00</th>\n",
        "      <th>18:00 - 20:00</th>\n",
        "      <th>20:00 - 22:00</th>\n",
        "      <th>22:00 - 0:00</th>\n",
        "      <th>Average Revenue</th>\n",
        "      <th>Average Basket Size</th>\n",
        "    </tr>\n",
        "  </thead>\n",
        "  <tbody>\n",
        "    <tr>\n",
        "      <th>0</th>\n",
        "      <td> Magdalena Kallenberger</td>\n",
        "      <td>  267.17</td>\n",
        "      <td> 267.170000</td>\n",
        "      <td> Fresh Beef &amp; Poultry</td>\n",
        "      <td>                                               NaN</td>\n",
        "      <td> 01090904137</td>\n",
        "      <td> 1</td>\n",
        "      <td>   0.000000</td>\n",
        "      <td> 11435mail@mkallenberger.de</td>\n",
        "      <td> 941</td>\n",
        "      <td>...</td>\n",
        "      <td> 0</td>\n",
        "      <td> 0</td>\n",
        "      <td> 0</td>\n",
        "      <td> 1</td>\n",
        "      <td> 0</td>\n",
        "      <td> 0</td>\n",
        "      <td> 0</td>\n",
        "      <td> 0</td>\n",
        "      <td> 1149.346496</td>\n",
        "      <td> 38.447904</td>\n",
        "    </tr>\n",
        "    <tr>\n",
        "      <th>1</th>\n",
        "      <td>          Alain  Phar\u00e8s</td>\n",
        "      <td> 1001.10</td>\n",
        "      <td> 500.550000</td>\n",
        "      <td>              Variety</td>\n",
        "      <td>                  31 golf street  app 69/6th maadi</td>\n",
        "      <td> 01222160835</td>\n",
        "      <td> 2</td>\n",
        "      <td>  47.000000</td>\n",
        "      <td>              1@gargour.com</td>\n",
        "      <td> 260</td>\n",
        "      <td>...</td>\n",
        "      <td> 0</td>\n",
        "      <td> 0</td>\n",
        "      <td> 0</td>\n",
        "      <td> 1</td>\n",
        "      <td> 1</td>\n",
        "      <td> 0</td>\n",
        "      <td> 0</td>\n",
        "      <td> 0</td>\n",
        "      <td> 1149.346496</td>\n",
        "      <td> 38.447904</td>\n",
        "    </tr>\n",
        "    <tr>\n",
        "      <th>2</th>\n",
        "      <td>             Kelly Tate</td>\n",
        "      <td>  648.00</td>\n",
        "      <td> 162.000000</td>\n",
        "      <td>           Vegetables</td>\n",
        "      <td> Street 33, Building 154, Area 1, Group 2, Taga...</td>\n",
        "      <td> 01023063292</td>\n",
        "      <td> 4</td>\n",
        "      <td>   5.500000</td>\n",
        "      <td>          1kttate@gmail.com</td>\n",
        "      <td> 114</td>\n",
        "      <td>...</td>\n",
        "      <td> 2</td>\n",
        "      <td> 1</td>\n",
        "      <td> 1</td>\n",
        "      <td> 0</td>\n",
        "      <td> 0</td>\n",
        "      <td> 0</td>\n",
        "      <td> 0</td>\n",
        "      <td> 0</td>\n",
        "      <td> 1149.346496</td>\n",
        "      <td> 38.447904</td>\n",
        "    </tr>\n",
        "    <tr>\n",
        "      <th>3</th>\n",
        "      <td>             Lara Scott</td>\n",
        "      <td>  909.00</td>\n",
        "      <td> 303.000000</td>\n",
        "      <td>              Variety</td>\n",
        "      <td> 23 Abdalla Deraz St.  #203 - 2nd Floor, left s...</td>\n",
        "      <td> 01221124426</td>\n",
        "      <td> 3</td>\n",
        "      <td> 125.000000</td>\n",
        "      <td>  1youniqueflower@gmail.com</td>\n",
        "      <td>  23</td>\n",
        "      <td>...</td>\n",
        "      <td> 0</td>\n",
        "      <td> 0</td>\n",
        "      <td> 1</td>\n",
        "      <td> 0</td>\n",
        "      <td> 1</td>\n",
        "      <td> 0</td>\n",
        "      <td> 0</td>\n",
        "      <td> 1</td>\n",
        "      <td> 1149.346496</td>\n",
        "      <td> 38.447904</td>\n",
        "    </tr>\n",
        "    <tr>\n",
        "      <th>4</th>\n",
        "      <td>          mohamed tolba</td>\n",
        "      <td>  160.00</td>\n",
        "      <td>  53.333333</td>\n",
        "      <td>              Variety</td>\n",
        "      <td>        11 shams el din el koufy st  17 heliopolis</td>\n",
        "      <td> 01001436666</td>\n",
        "      <td> 3</td>\n",
        "      <td>   7.333333</td>\n",
        "      <td>         3aliaa.h@gmail.com</td>\n",
        "      <td> 263</td>\n",
        "      <td>...</td>\n",
        "      <td> 0</td>\n",
        "      <td> 0</td>\n",
        "      <td> 0</td>\n",
        "      <td> 0</td>\n",
        "      <td> 1</td>\n",
        "      <td> 0</td>\n",
        "      <td> 0</td>\n",
        "      <td> 0</td>\n",
        "      <td> 1149.346496</td>\n",
        "      <td> 38.447904</td>\n",
        "    </tr>\n",
        "  </tbody>\n",
        "</table>\n",
        "<p>5 rows \u00d7 31 columns</p>\n",
        "</div>"
       ],
       "metadata": {},
       "output_type": "pyout",
       "prompt_number": 30,
       "text": [
        "                     Name  Revenue  Basket Value               Segment  \\\n",
        "0  Magdalena Kallenberger   267.17    267.170000  Fresh Beef & Poultry   \n",
        "1           Alain  Phar\u00e8s  1001.10    500.550000               Variety   \n",
        "2              Kelly Tate   648.00    162.000000            Vegetables   \n",
        "3              Lara Scott   909.00    303.000000               Variety   \n",
        "4           mohamed tolba   160.00     53.333333               Variety   \n",
        "\n",
        "                                             Address        Phone  \\\n",
        "0                                                NaN  01090904137   \n",
        "1                   31 golf street  app 69/6th maadi  01222160835   \n",
        "2  Street 33, Building 154, Area 1, Group 2, Taga...  01023063292   \n",
        "3  23 Abdalla Deraz St.  #203 - 2nd Floor, left s...  01221124426   \n",
        "4         11 shams el din el koufy st  17 heliopolis  01001436666   \n",
        "\n",
        "   Total orders  Average days between orders                       Email  \\\n",
        "0             1                     0.000000  11435mail@mkallenberger.de   \n",
        "1             2                    47.000000               1@gargour.com   \n",
        "2             4                     5.500000           1kttate@gmail.com   \n",
        "3             3                   125.000000   1youniqueflower@gmail.com   \n",
        "4             3                     7.333333          3aliaa.h@gmail.com   \n",
        "\n",
        "   Days from Last order         ...           8:00 - 10:00  10:00 - 12:00  \\\n",
        "0                   941         ...                      0              0   \n",
        "1                   260         ...                      0              0   \n",
        "2                   114         ...                      2              1   \n",
        "3                    23         ...                      0              0   \n",
        "4                   263         ...                      0              0   \n",
        "\n",
        "   12:00 - 14:00  14:00 - 16:00  16:00 - 18:00  18:00 - 20:00  20:00 - 22:00  \\\n",
        "0              0              1              0              0              0   \n",
        "1              0              1              1              0              0   \n",
        "2              1              0              0              0              0   \n",
        "3              1              0              1              0              0   \n",
        "4              0              0              1              0              0   \n",
        "\n",
        "   22:00 - 0:00  Average Revenue  Average Basket Size  \n",
        "0             0      1149.346496            38.447904  \n",
        "1             0      1149.346496            38.447904  \n",
        "2             0      1149.346496            38.447904  \n",
        "3             1      1149.346496            38.447904  \n",
        "4             0      1149.346496            38.447904  \n",
        "\n",
        "[5 rows x 31 columns]"
       ]
      }
     ],
     "prompt_number": 30
    },
    {
     "cell_type": "code",
     "collapsed": false,
     "input": [
      "#df3 = pd.read_csv(cfg['root']+cfg['dir_monthly_segments']+cfg['op_cust_score'])\n",
      "df3 = pd.read_csv(\"C:\\Users\\saisree849\\Documents\\GitHub\\NGS-2.0\\\\11_monthly_segments\\cust_score.csv\")\n",
      "df3.columns = [u'Email', u'Beef', u'Dried fruits and nuts', u'Fresh Beef & Poultry', u'Fruits', u'General', u'Rice and pasta', u'Vegetables', u'Beverages', u'Cosmetics', u'Dairy', u'Food supplements', u'Grains_Seeds_Cereal', u'Herbs', u'Oil_ Vinegar_Sauces', u'Bakery', u'Condiments and paste', u'Poultry', u'Chocolate_cookies_snacks', u'Jams & spreads & honey', u'Non-dairy', u'Seafood', u'Gluten free', u'Herbal pharmacy', u'Tea and herbal drinks', u'Accessories', u'Lamb', u'Prepared food', u'Home appliance', u'Books']\n",
      "df4 = df4.merge(df3, on = ['Email'], how='left')\n",
      "\n",
      "df4[['Total orders', 'Sunday', 'Monday', 'Tuesday', 'Wednesday', 'Thursday', 'Friday', 'Saturday', '0:00 - 2:00', '2:00 - 4:00', '4:00 - 6:00', '6:00 - 8:00', '8:00 - 10:00', '10:00 - 12:00', '12:00 - 14:00', '14:00 - 16:00', '16:00 - 18:00', '18:00 - 20:00', '20:00 - 22:00', '22:00 - 0:00']] = df4[['Total orders', 'Sunday', 'Monday', 'Tuesday', 'Wednesday', 'Thursday', 'Friday', 'Saturday', '0:00 - 2:00', '2:00 - 4:00', '4:00 - 6:00', '6:00 - 8:00', '8:00 - 10:00', '10:00 - 12:00', '12:00 - 14:00', '14:00 - 16:00', '16:00 - 18:00', '18:00 - 20:00', '20:00 - 22:00', '22:00 - 0:00']].astype(float)\n",
      "df4.head()"
     ],
     "language": "python",
     "metadata": {},
     "outputs": [
      {
       "html": [
        "<div style=\"max-height:1000px;max-width:1500px;overflow:auto;\">\n",
        "<table border=\"1\" class=\"dataframe\">\n",
        "  <thead>\n",
        "    <tr style=\"text-align: right;\">\n",
        "      <th></th>\n",
        "      <th>Name</th>\n",
        "      <th>Revenue</th>\n",
        "      <th>Basket Value</th>\n",
        "      <th>Segment</th>\n",
        "      <th>Address</th>\n",
        "      <th>Phone</th>\n",
        "      <th>Total orders</th>\n",
        "      <th>Average days between orders</th>\n",
        "      <th>Email</th>\n",
        "      <th>Days from Last order</th>\n",
        "      <th>...</th>\n",
        "      <th>Non-dairy</th>\n",
        "      <th>Seafood</th>\n",
        "      <th>Gluten free</th>\n",
        "      <th>Herbal pharmacy</th>\n",
        "      <th>Tea and herbal drinks</th>\n",
        "      <th>Accessories</th>\n",
        "      <th>Lamb</th>\n",
        "      <th>Prepared food</th>\n",
        "      <th>Home appliance</th>\n",
        "      <th>Books</th>\n",
        "    </tr>\n",
        "  </thead>\n",
        "  <tbody>\n",
        "    <tr>\n",
        "      <th>0</th>\n",
        "      <td> Magdalena Kallenberger</td>\n",
        "      <td>  267.17</td>\n",
        "      <td> 267.170000</td>\n",
        "      <td> Fresh Beef &amp; Poultry</td>\n",
        "      <td>                                               NaN</td>\n",
        "      <td> 01090904137</td>\n",
        "      <td> 1</td>\n",
        "      <td>   0.000000</td>\n",
        "      <td> 11435mail@mkallenberger.de</td>\n",
        "      <td> 941</td>\n",
        "      <td>...</td>\n",
        "      <td> 0</td>\n",
        "      <td> 0</td>\n",
        "      <td> 0</td>\n",
        "      <td> 0</td>\n",
        "      <td> 0</td>\n",
        "      <td> 0</td>\n",
        "      <td> 0</td>\n",
        "      <td> 0</td>\n",
        "      <td> 0</td>\n",
        "      <td> 0</td>\n",
        "    </tr>\n",
        "    <tr>\n",
        "      <th>1</th>\n",
        "      <td>          Alain  Phar\u00e8s</td>\n",
        "      <td> 1001.10</td>\n",
        "      <td> 500.550000</td>\n",
        "      <td>              Variety</td>\n",
        "      <td>                  31 golf street  app 69/6th maadi</td>\n",
        "      <td> 01222160835</td>\n",
        "      <td> 2</td>\n",
        "      <td>  47.000000</td>\n",
        "      <td>              1@gargour.com</td>\n",
        "      <td> 260</td>\n",
        "      <td>...</td>\n",
        "      <td> 0</td>\n",
        "      <td> 0</td>\n",
        "      <td> 0</td>\n",
        "      <td> 0</td>\n",
        "      <td> 0</td>\n",
        "      <td> 0</td>\n",
        "      <td> 0</td>\n",
        "      <td> 0</td>\n",
        "      <td> 0</td>\n",
        "      <td> 0</td>\n",
        "    </tr>\n",
        "    <tr>\n",
        "      <th>2</th>\n",
        "      <td>             Kelly Tate</td>\n",
        "      <td>  648.00</td>\n",
        "      <td> 162.000000</td>\n",
        "      <td>           Vegetables</td>\n",
        "      <td> Street 33, Building 154, Area 1, Group 2, Taga...</td>\n",
        "      <td> 01023063292</td>\n",
        "      <td> 4</td>\n",
        "      <td>   5.500000</td>\n",
        "      <td>          1kttate@gmail.com</td>\n",
        "      <td> 114</td>\n",
        "      <td>...</td>\n",
        "      <td> 0</td>\n",
        "      <td> 0</td>\n",
        "      <td> 0</td>\n",
        "      <td> 0</td>\n",
        "      <td> 0</td>\n",
        "      <td> 0</td>\n",
        "      <td> 0</td>\n",
        "      <td> 0</td>\n",
        "      <td> 0</td>\n",
        "      <td> 0</td>\n",
        "    </tr>\n",
        "    <tr>\n",
        "      <th>3</th>\n",
        "      <td>             Lara Scott</td>\n",
        "      <td>  909.00</td>\n",
        "      <td> 303.000000</td>\n",
        "      <td>              Variety</td>\n",
        "      <td> 23 Abdalla Deraz St.  #203 - 2nd Floor, left s...</td>\n",
        "      <td> 01221124426</td>\n",
        "      <td> 3</td>\n",
        "      <td> 125.000000</td>\n",
        "      <td>  1youniqueflower@gmail.com</td>\n",
        "      <td>  23</td>\n",
        "      <td>...</td>\n",
        "      <td> 0</td>\n",
        "      <td> 0</td>\n",
        "      <td> 0</td>\n",
        "      <td> 0</td>\n",
        "      <td> 0</td>\n",
        "      <td> 0</td>\n",
        "      <td> 0</td>\n",
        "      <td> 0</td>\n",
        "      <td> 0</td>\n",
        "      <td> 0</td>\n",
        "    </tr>\n",
        "    <tr>\n",
        "      <th>4</th>\n",
        "      <td>          mohamed tolba</td>\n",
        "      <td>  160.00</td>\n",
        "      <td>  53.333333</td>\n",
        "      <td>              Variety</td>\n",
        "      <td>        11 shams el din el koufy st  17 heliopolis</td>\n",
        "      <td> 01001436666</td>\n",
        "      <td> 3</td>\n",
        "      <td>   7.333333</td>\n",
        "      <td>         3aliaa.h@gmail.com</td>\n",
        "      <td> 263</td>\n",
        "      <td>...</td>\n",
        "      <td> 0</td>\n",
        "      <td> 0</td>\n",
        "      <td> 0</td>\n",
        "      <td> 0</td>\n",
        "      <td> 0</td>\n",
        "      <td> 0</td>\n",
        "      <td> 0</td>\n",
        "      <td> 0</td>\n",
        "      <td> 0</td>\n",
        "      <td> 0</td>\n",
        "    </tr>\n",
        "  </tbody>\n",
        "</table>\n",
        "<p>5 rows \u00d7 60 columns</p>\n",
        "</div>"
       ],
       "metadata": {},
       "output_type": "pyout",
       "prompt_number": 31,
       "text": [
        "                     Name  Revenue  Basket Value               Segment  \\\n",
        "0  Magdalena Kallenberger   267.17    267.170000  Fresh Beef & Poultry   \n",
        "1           Alain  Phar\u00e8s  1001.10    500.550000               Variety   \n",
        "2              Kelly Tate   648.00    162.000000            Vegetables   \n",
        "3              Lara Scott   909.00    303.000000               Variety   \n",
        "4           mohamed tolba   160.00     53.333333               Variety   \n",
        "\n",
        "                                             Address        Phone  \\\n",
        "0                                                NaN  01090904137   \n",
        "1                   31 golf street  app 69/6th maadi  01222160835   \n",
        "2  Street 33, Building 154, Area 1, Group 2, Taga...  01023063292   \n",
        "3  23 Abdalla Deraz St.  #203 - 2nd Floor, left s...  01221124426   \n",
        "4         11 shams el din el koufy st  17 heliopolis  01001436666   \n",
        "\n",
        "   Total orders  Average days between orders                       Email  \\\n",
        "0             1                     0.000000  11435mail@mkallenberger.de   \n",
        "1             2                    47.000000               1@gargour.com   \n",
        "2             4                     5.500000           1kttate@gmail.com   \n",
        "3             3                   125.000000   1youniqueflower@gmail.com   \n",
        "4             3                     7.333333          3aliaa.h@gmail.com   \n",
        "\n",
        "   Days from Last order  ...    Non-dairy  Seafood  Gluten free  \\\n",
        "0                   941  ...            0        0            0   \n",
        "1                   260  ...            0        0            0   \n",
        "2                   114  ...            0        0            0   \n",
        "3                    23  ...            0        0            0   \n",
        "4                   263  ...            0        0            0   \n",
        "\n",
        "   Herbal pharmacy  Tea and herbal drinks  Accessories  Lamb  Prepared food  \\\n",
        "0                0                      0            0     0              0   \n",
        "1                0                      0            0     0              0   \n",
        "2                0                      0            0     0              0   \n",
        "3                0                      0            0     0              0   \n",
        "4                0                      0            0     0              0   \n",
        "\n",
        "   Home appliance  Books  \n",
        "0               0      0  \n",
        "1               0      0  \n",
        "2               0      0  \n",
        "3               0      0  \n",
        "4               0      0  \n",
        "\n",
        "[5 rows x 60 columns]"
       ]
      }
     ],
     "prompt_number": 31
    },
    {
     "cell_type": "code",
     "collapsed": false,
     "input": [],
     "language": "python",
     "metadata": {},
     "outputs": []
    }
   ],
   "metadata": {}
  }
 ]
}
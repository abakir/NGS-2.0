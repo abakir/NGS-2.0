{
 "metadata": {
  "name": "",
  "signature": "sha256:8eafe2a781124526037ae2bfd5736e586eddab7d2b4787778a410ad64ccd1ed9"
 },
 "nbformat": 3,
 "nbformat_minor": 0,
 "worksheets": [
  {
   "cells": [
    {
     "cell_type": "code",
     "collapsed": false,
     "input": [
      "#!/home/cloudera/local/lib/python2.6/site-packages/bin/python\n",
      "\n",
      "import pandas as pd\n",
      "import yaml\n",
      "import logging\n",
      "import time\n",
      "import os\n",
      "\n",
      "with open(\"../config.yaml\", 'r') as ymlfile:\n",
      "        cfg = yaml.load(ymlfile)\n",
      "        \n",
      "def make_sure_path_exists(path):\n",
      "    if (os.path.isdir(path) == False):\n",
      "        os.makedirs(path)\n",
      "\n",
      "make_sure_path_exists(cfg['root'] + cfg['dir_logs'])\n",
      "make_sure_path_exists(cfg['root']+cfg['dir_data_output'])\n",
      "\n",
      "# create logger\n",
      "logger = logging.getLogger(cfg['log_order_frequency_customer_4'])\n",
      "logger.setLevel(logging.DEBUG)\n",
      "# create console handler and set level to debug\n",
      "ch = logging.FileHandler(cfg['root'] + cfg['dir_logs'] + cfg['log_order_frequency_customer_4'] + \"_\" + time.strftime(\"%Y_%m_%d_%H_%M_%S\") + \".log\" )\n",
      "ch.setLevel(logging.DEBUG)\n",
      "# create formatter\n",
      "formatter = logging.Formatter(\"%(asctime)s - %(name)s - %(levelname)s - %(message)s\")\n",
      "# add formatter to ch\n",
      "ch.setFormatter(formatter)\n",
      "# add ch to logger\n",
      "logger.addHandler(ch)\n",
      "\n",
      "df = pd.read_csv(cfg['root']+cfg['dir_data_shopify']+cfg[\"input_orders\"],low_memory=False)\n",
      "logger.debug(\"Data Frame df created\")"
     ],
     "language": "python",
     "metadata": {},
     "outputs": [],
     "prompt_number": 1
    },
    {
     "cell_type": "code",
     "collapsed": false,
     "input": [
      "# take required fields\n",
      "df1=df[['Name','Email', 'Created at' ]]\n",
      "\n",
      "df1=df1.drop_duplicates().reset_index().drop('index',1)\n",
      "df1.head()"
     ],
     "language": "python",
     "metadata": {},
     "outputs": [
      {
       "html": [
        "<div style=\"max-height:1000px;max-width:1500px;overflow:auto;\">\n",
        "<table border=\"1\" class=\"dataframe\">\n",
        "  <thead>\n",
        "    <tr style=\"text-align: right;\">\n",
        "      <th></th>\n",
        "      <th>Name</th>\n",
        "      <th>Email</th>\n",
        "      <th>Created at</th>\n",
        "    </tr>\n",
        "  </thead>\n",
        "  <tbody>\n",
        "    <tr>\n",
        "      <th>0</th>\n",
        "      <td> #10367</td>\n",
        "      <td> rehabmansour@gmail.com</td>\n",
        "      <td> 2015-12-23 20:33:51 +0200</td>\n",
        "    </tr>\n",
        "    <tr>\n",
        "      <th>1</th>\n",
        "      <td> #10366</td>\n",
        "      <td>    nabouheif@yahoo.com</td>\n",
        "      <td> 2015-12-23 20:00:17 +0200</td>\n",
        "    </tr>\n",
        "    <tr>\n",
        "      <th>2</th>\n",
        "      <td> #10365</td>\n",
        "      <td> fracicardi@hotmail.com</td>\n",
        "      <td> 2015-12-23 18:36:17 +0200</td>\n",
        "    </tr>\n",
        "    <tr>\n",
        "      <th>3</th>\n",
        "      <td> #10364</td>\n",
        "      <td> ahmed.fakhry@gmail.com</td>\n",
        "      <td> 2015-12-23 16:06:49 +0200</td>\n",
        "    </tr>\n",
        "    <tr>\n",
        "      <th>4</th>\n",
        "      <td> #10363</td>\n",
        "      <td> ahmed.fakhry@gmail.com</td>\n",
        "      <td> 2015-12-23 16:01:32 +0200</td>\n",
        "    </tr>\n",
        "  </tbody>\n",
        "</table>\n",
        "</div>"
       ],
       "metadata": {},
       "output_type": "pyout",
       "prompt_number": 2,
       "text": [
        "     Name                   Email                 Created at\n",
        "0  #10367  rehabmansour@gmail.com  2015-12-23 20:33:51 +0200\n",
        "1  #10366     nabouheif@yahoo.com  2015-12-23 20:00:17 +0200\n",
        "2  #10365  fracicardi@hotmail.com  2015-12-23 18:36:17 +0200\n",
        "3  #10364  ahmed.fakhry@gmail.com  2015-12-23 16:06:49 +0200\n",
        "4  #10363  ahmed.fakhry@gmail.com  2015-12-23 16:01:32 +0200"
       ]
      }
     ],
     "prompt_number": 2
    },
    {
     "cell_type": "code",
     "collapsed": false,
     "input": [
      "#getting only date from created at field\n",
      "df1['Created at'] = df1.apply(lambda x: x['Created at'][:10], axis = 1)\n",
      "    \n",
      "df1=df1.drop_duplicates().reset_index().drop('index',1)\n",
      "df1.head()"
     ],
     "language": "python",
     "metadata": {},
     "outputs": [
      {
       "html": [
        "<div style=\"max-height:1000px;max-width:1500px;overflow:auto;\">\n",
        "<table border=\"1\" class=\"dataframe\">\n",
        "  <thead>\n",
        "    <tr style=\"text-align: right;\">\n",
        "      <th></th>\n",
        "      <th>Name</th>\n",
        "      <th>Email</th>\n",
        "      <th>Created at</th>\n",
        "    </tr>\n",
        "  </thead>\n",
        "  <tbody>\n",
        "    <tr>\n",
        "      <th>0</th>\n",
        "      <td> #10367</td>\n",
        "      <td> rehabmansour@gmail.com</td>\n",
        "      <td> 2015-12-23</td>\n",
        "    </tr>\n",
        "    <tr>\n",
        "      <th>1</th>\n",
        "      <td> #10366</td>\n",
        "      <td>    nabouheif@yahoo.com</td>\n",
        "      <td> 2015-12-23</td>\n",
        "    </tr>\n",
        "    <tr>\n",
        "      <th>2</th>\n",
        "      <td> #10365</td>\n",
        "      <td> fracicardi@hotmail.com</td>\n",
        "      <td> 2015-12-23</td>\n",
        "    </tr>\n",
        "    <tr>\n",
        "      <th>3</th>\n",
        "      <td> #10364</td>\n",
        "      <td> ahmed.fakhry@gmail.com</td>\n",
        "      <td> 2015-12-23</td>\n",
        "    </tr>\n",
        "    <tr>\n",
        "      <th>4</th>\n",
        "      <td> #10363</td>\n",
        "      <td> ahmed.fakhry@gmail.com</td>\n",
        "      <td> 2015-12-23</td>\n",
        "    </tr>\n",
        "  </tbody>\n",
        "</table>\n",
        "</div>"
       ],
       "metadata": {},
       "output_type": "pyout",
       "prompt_number": 3,
       "text": [
        "     Name                   Email  Created at\n",
        "0  #10367  rehabmansour@gmail.com  2015-12-23\n",
        "1  #10366     nabouheif@yahoo.com  2015-12-23\n",
        "2  #10365  fracicardi@hotmail.com  2015-12-23\n",
        "3  #10364  ahmed.fakhry@gmail.com  2015-12-23\n",
        "4  #10363  ahmed.fakhry@gmail.com  2015-12-23"
       ]
      }
     ],
     "prompt_number": 3
    },
    {
     "cell_type": "code",
     "collapsed": false,
     "input": [
      "df1.columns=['Name','Email', 'Date']\n",
      "df1['Difference'] = 0\n",
      "df1['Total orders'] = 0\n",
      "\n",
      "df1['Date'] =pd.to_datetime(df1.Date)\n",
      "df1=df1.sort(['Email', 'Date']).reset_index().drop('index',1)\n",
      "df1.head()"
     ],
     "language": "python",
     "metadata": {},
     "outputs": [
      {
       "html": [
        "<div style=\"max-height:1000px;max-width:1500px;overflow:auto;\">\n",
        "<table border=\"1\" class=\"dataframe\">\n",
        "  <thead>\n",
        "    <tr style=\"text-align: right;\">\n",
        "      <th></th>\n",
        "      <th>Name</th>\n",
        "      <th>Email</th>\n",
        "      <th>Date</th>\n",
        "      <th>Difference</th>\n",
        "      <th>Total orders</th>\n",
        "    </tr>\n",
        "  </thead>\n",
        "  <tbody>\n",
        "    <tr>\n",
        "      <th>0</th>\n",
        "      <td> #2121</td>\n",
        "      <td> 11435mail@mkallenberger.de</td>\n",
        "      <td>2013-05-26</td>\n",
        "      <td> 0</td>\n",
        "      <td> 0</td>\n",
        "    </tr>\n",
        "    <tr>\n",
        "      <th>1</th>\n",
        "      <td> #5068</td>\n",
        "      <td>              1@gargour.com</td>\n",
        "      <td>2015-01-03</td>\n",
        "      <td> 0</td>\n",
        "      <td> 0</td>\n",
        "    </tr>\n",
        "    <tr>\n",
        "      <th>2</th>\n",
        "      <td> #6680</td>\n",
        "      <td>              1@gargour.com</td>\n",
        "      <td>2015-04-07</td>\n",
        "      <td> 0</td>\n",
        "      <td> 0</td>\n",
        "    </tr>\n",
        "    <tr>\n",
        "      <th>3</th>\n",
        "      <td> #8424</td>\n",
        "      <td>          1kttate@gmail.com</td>\n",
        "      <td>2015-08-09</td>\n",
        "      <td> 0</td>\n",
        "      <td> 0</td>\n",
        "    </tr>\n",
        "    <tr>\n",
        "      <th>4</th>\n",
        "      <td> #8467</td>\n",
        "      <td>          1kttate@gmail.com</td>\n",
        "      <td>2015-08-13</td>\n",
        "      <td> 0</td>\n",
        "      <td> 0</td>\n",
        "    </tr>\n",
        "  </tbody>\n",
        "</table>\n",
        "</div>"
       ],
       "metadata": {},
       "output_type": "pyout",
       "prompt_number": 4,
       "text": [
        "    Name                       Email       Date  Difference  Total orders\n",
        "0  #2121  11435mail@mkallenberger.de 2013-05-26           0             0\n",
        "1  #5068               1@gargour.com 2015-01-03           0             0\n",
        "2  #6680               1@gargour.com 2015-04-07           0             0\n",
        "3  #8424           1kttate@gmail.com 2015-08-09           0             0\n",
        "4  #8467           1kttate@gmail.com 2015-08-13           0             0"
       ]
      }
     ],
     "prompt_number": 4
    },
    {
     "cell_type": "code",
     "collapsed": false,
     "input": [
      "n = 1\n",
      "for i in range(0,max(df1.index)):\n",
      "    if(df1.iloc[i,1]==df1.iloc[i+1,1]):\n",
      "        n = n + 1 #count total orders\n",
      "        df1.iloc[i+1,3]=(df1.iloc[i+1,2]-df1.iloc[i,2]).days #count days between two orders\n",
      "        if (i == max(df1.index) - 1):\n",
      "            df1.iloc[i + 1,4] = n\n",
      "    else:\n",
      "        df1.iloc[i,4] = n\n",
      "        n = 1\n",
      "df1.head()"
     ],
     "language": "python",
     "metadata": {},
     "outputs": [
      {
       "html": [
        "<div style=\"max-height:1000px;max-width:1500px;overflow:auto;\">\n",
        "<table border=\"1\" class=\"dataframe\">\n",
        "  <thead>\n",
        "    <tr style=\"text-align: right;\">\n",
        "      <th></th>\n",
        "      <th>Name</th>\n",
        "      <th>Email</th>\n",
        "      <th>Date</th>\n",
        "      <th>Difference</th>\n",
        "      <th>Total orders</th>\n",
        "    </tr>\n",
        "  </thead>\n",
        "  <tbody>\n",
        "    <tr>\n",
        "      <th>0</th>\n",
        "      <td> #2121</td>\n",
        "      <td> 11435mail@mkallenberger.de</td>\n",
        "      <td>2013-05-26</td>\n",
        "      <td>  0</td>\n",
        "      <td> 1</td>\n",
        "    </tr>\n",
        "    <tr>\n",
        "      <th>1</th>\n",
        "      <td> #5068</td>\n",
        "      <td>              1@gargour.com</td>\n",
        "      <td>2015-01-03</td>\n",
        "      <td>  0</td>\n",
        "      <td> 0</td>\n",
        "    </tr>\n",
        "    <tr>\n",
        "      <th>2</th>\n",
        "      <td> #6680</td>\n",
        "      <td>              1@gargour.com</td>\n",
        "      <td>2015-04-07</td>\n",
        "      <td> 94</td>\n",
        "      <td> 2</td>\n",
        "    </tr>\n",
        "    <tr>\n",
        "      <th>3</th>\n",
        "      <td> #8424</td>\n",
        "      <td>          1kttate@gmail.com</td>\n",
        "      <td>2015-08-09</td>\n",
        "      <td>  0</td>\n",
        "      <td> 0</td>\n",
        "    </tr>\n",
        "    <tr>\n",
        "      <th>4</th>\n",
        "      <td> #8467</td>\n",
        "      <td>          1kttate@gmail.com</td>\n",
        "      <td>2015-08-13</td>\n",
        "      <td>  4</td>\n",
        "      <td> 0</td>\n",
        "    </tr>\n",
        "  </tbody>\n",
        "</table>\n",
        "</div>"
       ],
       "metadata": {},
       "output_type": "pyout",
       "prompt_number": 5,
       "text": [
        "    Name                       Email       Date  Difference  Total orders\n",
        "0  #2121  11435mail@mkallenberger.de 2013-05-26           0             1\n",
        "1  #5068               1@gargour.com 2015-01-03           0             0\n",
        "2  #6680               1@gargour.com 2015-04-07          94             2\n",
        "3  #8424           1kttate@gmail.com 2015-08-09           0             0\n",
        "4  #8467           1kttate@gmail.com 2015-08-13           4             0"
       ]
      }
     ],
     "prompt_number": 5
    },
    {
     "cell_type": "code",
     "collapsed": false,
     "input": [
      "#calculate total orders, days between orders for each customer\n",
      "df1 = df1.groupby('Email', axis=0, as_index=False).sum()\n",
      "df1.head()"
     ],
     "language": "python",
     "metadata": {},
     "outputs": [
      {
       "html": [
        "<div style=\"max-height:1000px;max-width:1500px;overflow:auto;\">\n",
        "<table border=\"1\" class=\"dataframe\">\n",
        "  <thead>\n",
        "    <tr style=\"text-align: right;\">\n",
        "      <th></th>\n",
        "      <th>Email</th>\n",
        "      <th>Difference</th>\n",
        "      <th>Total orders</th>\n",
        "    </tr>\n",
        "  </thead>\n",
        "  <tbody>\n",
        "    <tr>\n",
        "      <th>0</th>\n",
        "      <td> 11435mail@mkallenberger.de</td>\n",
        "      <td>   0</td>\n",
        "      <td> 1</td>\n",
        "    </tr>\n",
        "    <tr>\n",
        "      <th>1</th>\n",
        "      <td>              1@gargour.com</td>\n",
        "      <td>  94</td>\n",
        "      <td> 2</td>\n",
        "    </tr>\n",
        "    <tr>\n",
        "      <th>2</th>\n",
        "      <td>          1kttate@gmail.com</td>\n",
        "      <td>  22</td>\n",
        "      <td> 4</td>\n",
        "    </tr>\n",
        "    <tr>\n",
        "      <th>3</th>\n",
        "      <td>  1youniqueflower@gmail.com</td>\n",
        "      <td> 375</td>\n",
        "      <td> 3</td>\n",
        "    </tr>\n",
        "    <tr>\n",
        "      <th>4</th>\n",
        "      <td>         3aliaa.h@gmail.com</td>\n",
        "      <td>  22</td>\n",
        "      <td> 3</td>\n",
        "    </tr>\n",
        "  </tbody>\n",
        "</table>\n",
        "</div>"
       ],
       "metadata": {},
       "output_type": "pyout",
       "prompt_number": 6,
       "text": [
        "                        Email  Difference  Total orders\n",
        "0  11435mail@mkallenberger.de           0             1\n",
        "1               1@gargour.com          94             2\n",
        "2           1kttate@gmail.com          22             4\n",
        "3   1youniqueflower@gmail.com         375             3\n",
        "4          3aliaa.h@gmail.com          22             3"
       ]
      }
     ],
     "prompt_number": 6
    },
    {
     "cell_type": "code",
     "collapsed": false,
     "input": [
      "#calculate average days between orders\n",
      "df1.loc[:, 'Average days between orders'] = df1.apply(lambda x: x['Difference']/float(x['Total orders']), axis = 1)\n",
      "df2 = df1[['Email', 'Total orders', 'Average days between orders']]\n",
      "df2.head()"
     ],
     "language": "python",
     "metadata": {},
     "outputs": [
      {
       "html": [
        "<div style=\"max-height:1000px;max-width:1500px;overflow:auto;\">\n",
        "<table border=\"1\" class=\"dataframe\">\n",
        "  <thead>\n",
        "    <tr style=\"text-align: right;\">\n",
        "      <th></th>\n",
        "      <th>Email</th>\n",
        "      <th>Total orders</th>\n",
        "      <th>Average days between orders</th>\n",
        "    </tr>\n",
        "  </thead>\n",
        "  <tbody>\n",
        "    <tr>\n",
        "      <th>0</th>\n",
        "      <td> 11435mail@mkallenberger.de</td>\n",
        "      <td> 1</td>\n",
        "      <td>   0.000000</td>\n",
        "    </tr>\n",
        "    <tr>\n",
        "      <th>1</th>\n",
        "      <td>              1@gargour.com</td>\n",
        "      <td> 2</td>\n",
        "      <td>  47.000000</td>\n",
        "    </tr>\n",
        "    <tr>\n",
        "      <th>2</th>\n",
        "      <td>          1kttate@gmail.com</td>\n",
        "      <td> 4</td>\n",
        "      <td>   5.500000</td>\n",
        "    </tr>\n",
        "    <tr>\n",
        "      <th>3</th>\n",
        "      <td>  1youniqueflower@gmail.com</td>\n",
        "      <td> 3</td>\n",
        "      <td> 125.000000</td>\n",
        "    </tr>\n",
        "    <tr>\n",
        "      <th>4</th>\n",
        "      <td>         3aliaa.h@gmail.com</td>\n",
        "      <td> 3</td>\n",
        "      <td>   7.333333</td>\n",
        "    </tr>\n",
        "  </tbody>\n",
        "</table>\n",
        "</div>"
       ],
       "metadata": {},
       "output_type": "pyout",
       "prompt_number": 7,
       "text": [
        "                        Email  Total orders  Average days between orders\n",
        "0  11435mail@mkallenberger.de             1                     0.000000\n",
        "1               1@gargour.com             2                    47.000000\n",
        "2           1kttate@gmail.com             4                     5.500000\n",
        "3   1youniqueflower@gmail.com             3                   125.000000\n",
        "4          3aliaa.h@gmail.com             3                     7.333333"
       ]
      }
     ],
     "prompt_number": 7
    },
    {
     "cell_type": "code",
     "collapsed": false,
     "input": [],
     "language": "python",
     "metadata": {},
     "outputs": []
    }
   ],
   "metadata": {}
  }
 ]
}
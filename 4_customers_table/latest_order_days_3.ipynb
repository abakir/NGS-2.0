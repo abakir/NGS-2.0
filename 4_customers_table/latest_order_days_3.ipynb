{
 "metadata": {
  "name": "",
  "signature": "sha256:18d891910a59950b04a1273e7db562d599a3c1ffd0b051cae7219f5a6b901ea5"
 },
 "nbformat": 3,
 "nbformat_minor": 0,
 "worksheets": [
  {
   "cells": [
    {
     "cell_type": "code",
     "collapsed": false,
     "input": [
      "import pandas as pd\n",
      "from datetime import datetime\n",
      "import time\n",
      "#import yaml\n",
      "\n",
      "#with open(\"config.yaml\", 'r') as ymlfile:\n",
      "#        cfg = yaml.load(ymlfile)\n",
      "\n",
      "#df = pd.read_csv(cfg['root']+cfg['dir_data_shopify']+cfg[\"ip_orders\"], low_memory=False)\n",
      "df = pd.read_csv('C:\\Users\\saisree849\\Documents\\GitHub\\NGS-2.0\\\\12_dashboard_tables\\data_input\\shopify\\orders_export.csv', low_memory=False)\n",
      "df"
     ],
     "language": "python",
     "metadata": {},
     "outputs": [
      {
       "html": [
        "<div style=\"max-height:1000px;max-width:1500px;overflow:auto;\">\n",
        "<table border=\"1\" class=\"dataframe\">\n",
        "  <thead>\n",
        "    <tr style=\"text-align: right;\">\n",
        "      <th></th>\n",
        "      <th>Name</th>\n",
        "      <th>Email</th>\n",
        "      <th>Financial Status</th>\n",
        "      <th>Paid at</th>\n",
        "      <th>Fulfillment Status</th>\n",
        "      <th>Fulfilled at</th>\n",
        "      <th>Accepts Marketing</th>\n",
        "      <th>Currency</th>\n",
        "      <th>Subtotal</th>\n",
        "      <th>Shipping</th>\n",
        "      <th>...</th>\n",
        "      <th>Tax 1 Name</th>\n",
        "      <th>Tax 1 Value</th>\n",
        "      <th>Tax 2 Name</th>\n",
        "      <th>Tax 2 Value</th>\n",
        "      <th>Tax 3 Name</th>\n",
        "      <th>Tax 3 Value</th>\n",
        "      <th>Tax 4 Name</th>\n",
        "      <th>Tax 4 Value</th>\n",
        "      <th>Tax 5 Name</th>\n",
        "      <th>Tax 5 Value</th>\n",
        "    </tr>\n",
        "  </thead>\n",
        "  <tbody>\n",
        "    <tr>\n",
        "      <th>0    </th>\n",
        "      <td> #10367</td>\n",
        "      <td>  rehabmansour@gmail.com</td>\n",
        "      <td> pending</td>\n",
        "      <td>                       NaN</td>\n",
        "      <td> unfulfilled</td>\n",
        "      <td>                       NaN</td>\n",
        "      <td>  no</td>\n",
        "      <td> EGP</td>\n",
        "      <td> 375.30</td>\n",
        "      <td> 10</td>\n",
        "      <td>...</td>\n",
        "      <td>NaN</td>\n",
        "      <td>NaN</td>\n",
        "      <td>NaN</td>\n",
        "      <td>NaN</td>\n",
        "      <td>NaN</td>\n",
        "      <td>NaN</td>\n",
        "      <td>NaN</td>\n",
        "      <td>NaN</td>\n",
        "      <td>NaN</td>\n",
        "      <td>NaN</td>\n",
        "    </tr>\n",
        "    <tr>\n",
        "      <th>1    </th>\n",
        "      <td> #10367</td>\n",
        "      <td>  rehabmansour@gmail.com</td>\n",
        "      <td>     NaN</td>\n",
        "      <td>                       NaN</td>\n",
        "      <td>         NaN</td>\n",
        "      <td>                       NaN</td>\n",
        "      <td> NaN</td>\n",
        "      <td> NaN</td>\n",
        "      <td>    NaN</td>\n",
        "      <td>NaN</td>\n",
        "      <td>...</td>\n",
        "      <td>NaN</td>\n",
        "      <td>NaN</td>\n",
        "      <td>NaN</td>\n",
        "      <td>NaN</td>\n",
        "      <td>NaN</td>\n",
        "      <td>NaN</td>\n",
        "      <td>NaN</td>\n",
        "      <td>NaN</td>\n",
        "      <td>NaN</td>\n",
        "      <td>NaN</td>\n",
        "    </tr>\n",
        "    <tr>\n",
        "      <th>2    </th>\n",
        "      <td> #10367</td>\n",
        "      <td>  rehabmansour@gmail.com</td>\n",
        "      <td>     NaN</td>\n",
        "      <td>                       NaN</td>\n",
        "      <td>         NaN</td>\n",
        "      <td>                       NaN</td>\n",
        "      <td> NaN</td>\n",
        "      <td> NaN</td>\n",
        "      <td>    NaN</td>\n",
        "      <td>NaN</td>\n",
        "      <td>...</td>\n",
        "      <td>NaN</td>\n",
        "      <td>NaN</td>\n",
        "      <td>NaN</td>\n",
        "      <td>NaN</td>\n",
        "      <td>NaN</td>\n",
        "      <td>NaN</td>\n",
        "      <td>NaN</td>\n",
        "      <td>NaN</td>\n",
        "      <td>NaN</td>\n",
        "      <td>NaN</td>\n",
        "    </tr>\n",
        "    <tr>\n",
        "      <th>3    </th>\n",
        "      <td> #10366</td>\n",
        "      <td>     nabouheif@yahoo.com</td>\n",
        "      <td> pending</td>\n",
        "      <td>                       NaN</td>\n",
        "      <td> unfulfilled</td>\n",
        "      <td>                       NaN</td>\n",
        "      <td>  no</td>\n",
        "      <td> EGP</td>\n",
        "      <td> 162.90</td>\n",
        "      <td> 10</td>\n",
        "      <td>...</td>\n",
        "      <td>NaN</td>\n",
        "      <td>NaN</td>\n",
        "      <td>NaN</td>\n",
        "      <td>NaN</td>\n",
        "      <td>NaN</td>\n",
        "      <td>NaN</td>\n",
        "      <td>NaN</td>\n",
        "      <td>NaN</td>\n",
        "      <td>NaN</td>\n",
        "      <td>NaN</td>\n",
        "    </tr>\n",
        "    <tr>\n",
        "      <th>4    </th>\n",
        "      <td> #10366</td>\n",
        "      <td>     nabouheif@yahoo.com</td>\n",
        "      <td>     NaN</td>\n",
        "      <td>                       NaN</td>\n",
        "      <td>         NaN</td>\n",
        "      <td>                       NaN</td>\n",
        "      <td> NaN</td>\n",
        "      <td> NaN</td>\n",
        "      <td>    NaN</td>\n",
        "      <td>NaN</td>\n",
        "      <td>...</td>\n",
        "      <td>NaN</td>\n",
        "      <td>NaN</td>\n",
        "      <td>NaN</td>\n",
        "      <td>NaN</td>\n",
        "      <td>NaN</td>\n",
        "      <td>NaN</td>\n",
        "      <td>NaN</td>\n",
        "      <td>NaN</td>\n",
        "      <td>NaN</td>\n",
        "      <td>NaN</td>\n",
        "    </tr>\n",
        "    <tr>\n",
        "      <th>5    </th>\n",
        "      <td> #10366</td>\n",
        "      <td>     nabouheif@yahoo.com</td>\n",
        "      <td>     NaN</td>\n",
        "      <td>                       NaN</td>\n",
        "      <td>         NaN</td>\n",
        "      <td>                       NaN</td>\n",
        "      <td> NaN</td>\n",
        "      <td> NaN</td>\n",
        "      <td>    NaN</td>\n",
        "      <td>NaN</td>\n",
        "      <td>...</td>\n",
        "      <td>NaN</td>\n",
        "      <td>NaN</td>\n",
        "      <td>NaN</td>\n",
        "      <td>NaN</td>\n",
        "      <td>NaN</td>\n",
        "      <td>NaN</td>\n",
        "      <td>NaN</td>\n",
        "      <td>NaN</td>\n",
        "      <td>NaN</td>\n",
        "      <td>NaN</td>\n",
        "    </tr>\n",
        "    <tr>\n",
        "      <th>6    </th>\n",
        "      <td> #10365</td>\n",
        "      <td>  fracicardi@hotmail.com</td>\n",
        "      <td> pending</td>\n",
        "      <td>                       NaN</td>\n",
        "      <td> unfulfilled</td>\n",
        "      <td>                       NaN</td>\n",
        "      <td>  no</td>\n",
        "      <td> EGP</td>\n",
        "      <td> 129.00</td>\n",
        "      <td> 15</td>\n",
        "      <td>...</td>\n",
        "      <td>NaN</td>\n",
        "      <td>NaN</td>\n",
        "      <td>NaN</td>\n",
        "      <td>NaN</td>\n",
        "      <td>NaN</td>\n",
        "      <td>NaN</td>\n",
        "      <td>NaN</td>\n",
        "      <td>NaN</td>\n",
        "      <td>NaN</td>\n",
        "      <td>NaN</td>\n",
        "    </tr>\n",
        "    <tr>\n",
        "      <th>7    </th>\n",
        "      <td> #10365</td>\n",
        "      <td>  fracicardi@hotmail.com</td>\n",
        "      <td>     NaN</td>\n",
        "      <td>                       NaN</td>\n",
        "      <td>         NaN</td>\n",
        "      <td>                       NaN</td>\n",
        "      <td> NaN</td>\n",
        "      <td> NaN</td>\n",
        "      <td>    NaN</td>\n",
        "      <td>NaN</td>\n",
        "      <td>...</td>\n",
        "      <td>NaN</td>\n",
        "      <td>NaN</td>\n",
        "      <td>NaN</td>\n",
        "      <td>NaN</td>\n",
        "      <td>NaN</td>\n",
        "      <td>NaN</td>\n",
        "      <td>NaN</td>\n",
        "      <td>NaN</td>\n",
        "      <td>NaN</td>\n",
        "      <td>NaN</td>\n",
        "    </tr>\n",
        "    <tr>\n",
        "      <th>8    </th>\n",
        "      <td> #10365</td>\n",
        "      <td>  fracicardi@hotmail.com</td>\n",
        "      <td>     NaN</td>\n",
        "      <td>                       NaN</td>\n",
        "      <td>         NaN</td>\n",
        "      <td>                       NaN</td>\n",
        "      <td> NaN</td>\n",
        "      <td> NaN</td>\n",
        "      <td>    NaN</td>\n",
        "      <td>NaN</td>\n",
        "      <td>...</td>\n",
        "      <td>NaN</td>\n",
        "      <td>NaN</td>\n",
        "      <td>NaN</td>\n",
        "      <td>NaN</td>\n",
        "      <td>NaN</td>\n",
        "      <td>NaN</td>\n",
        "      <td>NaN</td>\n",
        "      <td>NaN</td>\n",
        "      <td>NaN</td>\n",
        "      <td>NaN</td>\n",
        "    </tr>\n",
        "    <tr>\n",
        "      <th>9    </th>\n",
        "      <td> #10365</td>\n",
        "      <td>  fracicardi@hotmail.com</td>\n",
        "      <td>     NaN</td>\n",
        "      <td>                       NaN</td>\n",
        "      <td>         NaN</td>\n",
        "      <td>                       NaN</td>\n",
        "      <td> NaN</td>\n",
        "      <td> NaN</td>\n",
        "      <td>    NaN</td>\n",
        "      <td>NaN</td>\n",
        "      <td>...</td>\n",
        "      <td>NaN</td>\n",
        "      <td>NaN</td>\n",
        "      <td>NaN</td>\n",
        "      <td>NaN</td>\n",
        "      <td>NaN</td>\n",
        "      <td>NaN</td>\n",
        "      <td>NaN</td>\n",
        "      <td>NaN</td>\n",
        "      <td>NaN</td>\n",
        "      <td>NaN</td>\n",
        "    </tr>\n",
        "    <tr>\n",
        "      <th>10   </th>\n",
        "      <td> #10365</td>\n",
        "      <td>  fracicardi@hotmail.com</td>\n",
        "      <td>     NaN</td>\n",
        "      <td>                       NaN</td>\n",
        "      <td>         NaN</td>\n",
        "      <td>                       NaN</td>\n",
        "      <td> NaN</td>\n",
        "      <td> NaN</td>\n",
        "      <td>    NaN</td>\n",
        "      <td>NaN</td>\n",
        "      <td>...</td>\n",
        "      <td>NaN</td>\n",
        "      <td>NaN</td>\n",
        "      <td>NaN</td>\n",
        "      <td>NaN</td>\n",
        "      <td>NaN</td>\n",
        "      <td>NaN</td>\n",
        "      <td>NaN</td>\n",
        "      <td>NaN</td>\n",
        "      <td>NaN</td>\n",
        "      <td>NaN</td>\n",
        "    </tr>\n",
        "    <tr>\n",
        "      <th>11   </th>\n",
        "      <td> #10365</td>\n",
        "      <td>  fracicardi@hotmail.com</td>\n",
        "      <td>     NaN</td>\n",
        "      <td>                       NaN</td>\n",
        "      <td>         NaN</td>\n",
        "      <td>                       NaN</td>\n",
        "      <td> NaN</td>\n",
        "      <td> NaN</td>\n",
        "      <td>    NaN</td>\n",
        "      <td>NaN</td>\n",
        "      <td>...</td>\n",
        "      <td>NaN</td>\n",
        "      <td>NaN</td>\n",
        "      <td>NaN</td>\n",
        "      <td>NaN</td>\n",
        "      <td>NaN</td>\n",
        "      <td>NaN</td>\n",
        "      <td>NaN</td>\n",
        "      <td>NaN</td>\n",
        "      <td>NaN</td>\n",
        "      <td>NaN</td>\n",
        "    </tr>\n",
        "    <tr>\n",
        "      <th>12   </th>\n",
        "      <td> #10364</td>\n",
        "      <td>  ahmed.fakhry@gmail.com</td>\n",
        "      <td> pending</td>\n",
        "      <td>                       NaN</td>\n",
        "      <td> unfulfilled</td>\n",
        "      <td>                       NaN</td>\n",
        "      <td>  no</td>\n",
        "      <td> EGP</td>\n",
        "      <td> 660.10</td>\n",
        "      <td> 10</td>\n",
        "      <td>...</td>\n",
        "      <td>NaN</td>\n",
        "      <td>NaN</td>\n",
        "      <td>NaN</td>\n",
        "      <td>NaN</td>\n",
        "      <td>NaN</td>\n",
        "      <td>NaN</td>\n",
        "      <td>NaN</td>\n",
        "      <td>NaN</td>\n",
        "      <td>NaN</td>\n",
        "      <td>NaN</td>\n",
        "    </tr>\n",
        "    <tr>\n",
        "      <th>13   </th>\n",
        "      <td> #10364</td>\n",
        "      <td>  ahmed.fakhry@gmail.com</td>\n",
        "      <td>     NaN</td>\n",
        "      <td>                       NaN</td>\n",
        "      <td>         NaN</td>\n",
        "      <td>                       NaN</td>\n",
        "      <td> NaN</td>\n",
        "      <td> NaN</td>\n",
        "      <td>    NaN</td>\n",
        "      <td>NaN</td>\n",
        "      <td>...</td>\n",
        "      <td>NaN</td>\n",
        "      <td>NaN</td>\n",
        "      <td>NaN</td>\n",
        "      <td>NaN</td>\n",
        "      <td>NaN</td>\n",
        "      <td>NaN</td>\n",
        "      <td>NaN</td>\n",
        "      <td>NaN</td>\n",
        "      <td>NaN</td>\n",
        "      <td>NaN</td>\n",
        "    </tr>\n",
        "    <tr>\n",
        "      <th>14   </th>\n",
        "      <td> #10364</td>\n",
        "      <td>  ahmed.fakhry@gmail.com</td>\n",
        "      <td>     NaN</td>\n",
        "      <td>                       NaN</td>\n",
        "      <td>         NaN</td>\n",
        "      <td>                       NaN</td>\n",
        "      <td> NaN</td>\n",
        "      <td> NaN</td>\n",
        "      <td>    NaN</td>\n",
        "      <td>NaN</td>\n",
        "      <td>...</td>\n",
        "      <td>NaN</td>\n",
        "      <td>NaN</td>\n",
        "      <td>NaN</td>\n",
        "      <td>NaN</td>\n",
        "      <td>NaN</td>\n",
        "      <td>NaN</td>\n",
        "      <td>NaN</td>\n",
        "      <td>NaN</td>\n",
        "      <td>NaN</td>\n",
        "      <td>NaN</td>\n",
        "    </tr>\n",
        "    <tr>\n",
        "      <th>15   </th>\n",
        "      <td> #10364</td>\n",
        "      <td>  ahmed.fakhry@gmail.com</td>\n",
        "      <td>     NaN</td>\n",
        "      <td>                       NaN</td>\n",
        "      <td>         NaN</td>\n",
        "      <td>                       NaN</td>\n",
        "      <td> NaN</td>\n",
        "      <td> NaN</td>\n",
        "      <td>    NaN</td>\n",
        "      <td>NaN</td>\n",
        "      <td>...</td>\n",
        "      <td>NaN</td>\n",
        "      <td>NaN</td>\n",
        "      <td>NaN</td>\n",
        "      <td>NaN</td>\n",
        "      <td>NaN</td>\n",
        "      <td>NaN</td>\n",
        "      <td>NaN</td>\n",
        "      <td>NaN</td>\n",
        "      <td>NaN</td>\n",
        "      <td>NaN</td>\n",
        "    </tr>\n",
        "    <tr>\n",
        "      <th>16   </th>\n",
        "      <td> #10364</td>\n",
        "      <td>  ahmed.fakhry@gmail.com</td>\n",
        "      <td>     NaN</td>\n",
        "      <td>                       NaN</td>\n",
        "      <td>         NaN</td>\n",
        "      <td>                       NaN</td>\n",
        "      <td> NaN</td>\n",
        "      <td> NaN</td>\n",
        "      <td>    NaN</td>\n",
        "      <td>NaN</td>\n",
        "      <td>...</td>\n",
        "      <td>NaN</td>\n",
        "      <td>NaN</td>\n",
        "      <td>NaN</td>\n",
        "      <td>NaN</td>\n",
        "      <td>NaN</td>\n",
        "      <td>NaN</td>\n",
        "      <td>NaN</td>\n",
        "      <td>NaN</td>\n",
        "      <td>NaN</td>\n",
        "      <td>NaN</td>\n",
        "    </tr>\n",
        "    <tr>\n",
        "      <th>17   </th>\n",
        "      <td> #10364</td>\n",
        "      <td>  ahmed.fakhry@gmail.com</td>\n",
        "      <td>     NaN</td>\n",
        "      <td>                       NaN</td>\n",
        "      <td>         NaN</td>\n",
        "      <td>                       NaN</td>\n",
        "      <td> NaN</td>\n",
        "      <td> NaN</td>\n",
        "      <td>    NaN</td>\n",
        "      <td>NaN</td>\n",
        "      <td>...</td>\n",
        "      <td>NaN</td>\n",
        "      <td>NaN</td>\n",
        "      <td>NaN</td>\n",
        "      <td>NaN</td>\n",
        "      <td>NaN</td>\n",
        "      <td>NaN</td>\n",
        "      <td>NaN</td>\n",
        "      <td>NaN</td>\n",
        "      <td>NaN</td>\n",
        "      <td>NaN</td>\n",
        "    </tr>\n",
        "    <tr>\n",
        "      <th>18   </th>\n",
        "      <td> #10364</td>\n",
        "      <td>  ahmed.fakhry@gmail.com</td>\n",
        "      <td>     NaN</td>\n",
        "      <td>                       NaN</td>\n",
        "      <td>         NaN</td>\n",
        "      <td>                       NaN</td>\n",
        "      <td> NaN</td>\n",
        "      <td> NaN</td>\n",
        "      <td>    NaN</td>\n",
        "      <td>NaN</td>\n",
        "      <td>...</td>\n",
        "      <td>NaN</td>\n",
        "      <td>NaN</td>\n",
        "      <td>NaN</td>\n",
        "      <td>NaN</td>\n",
        "      <td>NaN</td>\n",
        "      <td>NaN</td>\n",
        "      <td>NaN</td>\n",
        "      <td>NaN</td>\n",
        "      <td>NaN</td>\n",
        "      <td>NaN</td>\n",
        "    </tr>\n",
        "    <tr>\n",
        "      <th>19   </th>\n",
        "      <td> #10364</td>\n",
        "      <td>  ahmed.fakhry@gmail.com</td>\n",
        "      <td>     NaN</td>\n",
        "      <td>                       NaN</td>\n",
        "      <td>         NaN</td>\n",
        "      <td>                       NaN</td>\n",
        "      <td> NaN</td>\n",
        "      <td> NaN</td>\n",
        "      <td>    NaN</td>\n",
        "      <td>NaN</td>\n",
        "      <td>...</td>\n",
        "      <td>NaN</td>\n",
        "      <td>NaN</td>\n",
        "      <td>NaN</td>\n",
        "      <td>NaN</td>\n",
        "      <td>NaN</td>\n",
        "      <td>NaN</td>\n",
        "      <td>NaN</td>\n",
        "      <td>NaN</td>\n",
        "      <td>NaN</td>\n",
        "      <td>NaN</td>\n",
        "    </tr>\n",
        "    <tr>\n",
        "      <th>20   </th>\n",
        "      <td> #10364</td>\n",
        "      <td>  ahmed.fakhry@gmail.com</td>\n",
        "      <td>     NaN</td>\n",
        "      <td>                       NaN</td>\n",
        "      <td>         NaN</td>\n",
        "      <td>                       NaN</td>\n",
        "      <td> NaN</td>\n",
        "      <td> NaN</td>\n",
        "      <td>    NaN</td>\n",
        "      <td>NaN</td>\n",
        "      <td>...</td>\n",
        "      <td>NaN</td>\n",
        "      <td>NaN</td>\n",
        "      <td>NaN</td>\n",
        "      <td>NaN</td>\n",
        "      <td>NaN</td>\n",
        "      <td>NaN</td>\n",
        "      <td>NaN</td>\n",
        "      <td>NaN</td>\n",
        "      <td>NaN</td>\n",
        "      <td>NaN</td>\n",
        "    </tr>\n",
        "    <tr>\n",
        "      <th>21   </th>\n",
        "      <td> #10363</td>\n",
        "      <td>  ahmed.fakhry@gmail.com</td>\n",
        "      <td> pending</td>\n",
        "      <td>                       NaN</td>\n",
        "      <td> unfulfilled</td>\n",
        "      <td>                       NaN</td>\n",
        "      <td>  no</td>\n",
        "      <td> EGP</td>\n",
        "      <td> 592.00</td>\n",
        "      <td> 10</td>\n",
        "      <td>...</td>\n",
        "      <td>NaN</td>\n",
        "      <td>NaN</td>\n",
        "      <td>NaN</td>\n",
        "      <td>NaN</td>\n",
        "      <td>NaN</td>\n",
        "      <td>NaN</td>\n",
        "      <td>NaN</td>\n",
        "      <td>NaN</td>\n",
        "      <td>NaN</td>\n",
        "      <td>NaN</td>\n",
        "    </tr>\n",
        "    <tr>\n",
        "      <th>22   </th>\n",
        "      <td> #10362</td>\n",
        "      <td>    Missilou11@yahoo.com</td>\n",
        "      <td> pending</td>\n",
        "      <td>                       NaN</td>\n",
        "      <td> unfulfilled</td>\n",
        "      <td>                       NaN</td>\n",
        "      <td>  no</td>\n",
        "      <td> EGP</td>\n",
        "      <td>  70.20</td>\n",
        "      <td> 15</td>\n",
        "      <td>...</td>\n",
        "      <td>NaN</td>\n",
        "      <td>NaN</td>\n",
        "      <td>NaN</td>\n",
        "      <td>NaN</td>\n",
        "      <td>NaN</td>\n",
        "      <td>NaN</td>\n",
        "      <td>NaN</td>\n",
        "      <td>NaN</td>\n",
        "      <td>NaN</td>\n",
        "      <td>NaN</td>\n",
        "    </tr>\n",
        "    <tr>\n",
        "      <th>23   </th>\n",
        "      <td> #10361</td>\n",
        "      <td> sallysalem123@gmail.com</td>\n",
        "      <td> pending</td>\n",
        "      <td>                       NaN</td>\n",
        "      <td> unfulfilled</td>\n",
        "      <td>                       NaN</td>\n",
        "      <td>  no</td>\n",
        "      <td> EGP</td>\n",
        "      <td> 432.00</td>\n",
        "      <td> 10</td>\n",
        "      <td>...</td>\n",
        "      <td>NaN</td>\n",
        "      <td>NaN</td>\n",
        "      <td>NaN</td>\n",
        "      <td>NaN</td>\n",
        "      <td>NaN</td>\n",
        "      <td>NaN</td>\n",
        "      <td>NaN</td>\n",
        "      <td>NaN</td>\n",
        "      <td>NaN</td>\n",
        "      <td>NaN</td>\n",
        "    </tr>\n",
        "    <tr>\n",
        "      <th>24   </th>\n",
        "      <td> #10361</td>\n",
        "      <td> sallysalem123@gmail.com</td>\n",
        "      <td>     NaN</td>\n",
        "      <td>                       NaN</td>\n",
        "      <td>         NaN</td>\n",
        "      <td>                       NaN</td>\n",
        "      <td> NaN</td>\n",
        "      <td> NaN</td>\n",
        "      <td>    NaN</td>\n",
        "      <td>NaN</td>\n",
        "      <td>...</td>\n",
        "      <td>NaN</td>\n",
        "      <td>NaN</td>\n",
        "      <td>NaN</td>\n",
        "      <td>NaN</td>\n",
        "      <td>NaN</td>\n",
        "      <td>NaN</td>\n",
        "      <td>NaN</td>\n",
        "      <td>NaN</td>\n",
        "      <td>NaN</td>\n",
        "      <td>NaN</td>\n",
        "    </tr>\n",
        "    <tr>\n",
        "      <th>25   </th>\n",
        "      <td> #10361</td>\n",
        "      <td> sallysalem123@gmail.com</td>\n",
        "      <td>     NaN</td>\n",
        "      <td>                       NaN</td>\n",
        "      <td>         NaN</td>\n",
        "      <td>                       NaN</td>\n",
        "      <td> NaN</td>\n",
        "      <td> NaN</td>\n",
        "      <td>    NaN</td>\n",
        "      <td>NaN</td>\n",
        "      <td>...</td>\n",
        "      <td>NaN</td>\n",
        "      <td>NaN</td>\n",
        "      <td>NaN</td>\n",
        "      <td>NaN</td>\n",
        "      <td>NaN</td>\n",
        "      <td>NaN</td>\n",
        "      <td>NaN</td>\n",
        "      <td>NaN</td>\n",
        "      <td>NaN</td>\n",
        "      <td>NaN</td>\n",
        "    </tr>\n",
        "    <tr>\n",
        "      <th>26   </th>\n",
        "      <td> #10361</td>\n",
        "      <td> sallysalem123@gmail.com</td>\n",
        "      <td>     NaN</td>\n",
        "      <td>                       NaN</td>\n",
        "      <td>         NaN</td>\n",
        "      <td>                       NaN</td>\n",
        "      <td> NaN</td>\n",
        "      <td> NaN</td>\n",
        "      <td>    NaN</td>\n",
        "      <td>NaN</td>\n",
        "      <td>...</td>\n",
        "      <td>NaN</td>\n",
        "      <td>NaN</td>\n",
        "      <td>NaN</td>\n",
        "      <td>NaN</td>\n",
        "      <td>NaN</td>\n",
        "      <td>NaN</td>\n",
        "      <td>NaN</td>\n",
        "      <td>NaN</td>\n",
        "      <td>NaN</td>\n",
        "      <td>NaN</td>\n",
        "    </tr>\n",
        "    <tr>\n",
        "      <th>27   </th>\n",
        "      <td> #10361</td>\n",
        "      <td> sallysalem123@gmail.com</td>\n",
        "      <td>     NaN</td>\n",
        "      <td>                       NaN</td>\n",
        "      <td>         NaN</td>\n",
        "      <td>                       NaN</td>\n",
        "      <td> NaN</td>\n",
        "      <td> NaN</td>\n",
        "      <td>    NaN</td>\n",
        "      <td>NaN</td>\n",
        "      <td>...</td>\n",
        "      <td>NaN</td>\n",
        "      <td>NaN</td>\n",
        "      <td>NaN</td>\n",
        "      <td>NaN</td>\n",
        "      <td>NaN</td>\n",
        "      <td>NaN</td>\n",
        "      <td>NaN</td>\n",
        "      <td>NaN</td>\n",
        "      <td>NaN</td>\n",
        "      <td>NaN</td>\n",
        "    </tr>\n",
        "    <tr>\n",
        "      <th>28   </th>\n",
        "      <td> #10361</td>\n",
        "      <td> sallysalem123@gmail.com</td>\n",
        "      <td>     NaN</td>\n",
        "      <td>                       NaN</td>\n",
        "      <td>         NaN</td>\n",
        "      <td>                       NaN</td>\n",
        "      <td> NaN</td>\n",
        "      <td> NaN</td>\n",
        "      <td>    NaN</td>\n",
        "      <td>NaN</td>\n",
        "      <td>...</td>\n",
        "      <td>NaN</td>\n",
        "      <td>NaN</td>\n",
        "      <td>NaN</td>\n",
        "      <td>NaN</td>\n",
        "      <td>NaN</td>\n",
        "      <td>NaN</td>\n",
        "      <td>NaN</td>\n",
        "      <td>NaN</td>\n",
        "      <td>NaN</td>\n",
        "      <td>NaN</td>\n",
        "    </tr>\n",
        "    <tr>\n",
        "      <th>29   </th>\n",
        "      <td> #10361</td>\n",
        "      <td> sallysalem123@gmail.com</td>\n",
        "      <td>     NaN</td>\n",
        "      <td>                       NaN</td>\n",
        "      <td>         NaN</td>\n",
        "      <td>                       NaN</td>\n",
        "      <td> NaN</td>\n",
        "      <td> NaN</td>\n",
        "      <td>    NaN</td>\n",
        "      <td>NaN</td>\n",
        "      <td>...</td>\n",
        "      <td>NaN</td>\n",
        "      <td>NaN</td>\n",
        "      <td>NaN</td>\n",
        "      <td>NaN</td>\n",
        "      <td>NaN</td>\n",
        "      <td>NaN</td>\n",
        "      <td>NaN</td>\n",
        "      <td>NaN</td>\n",
        "      <td>NaN</td>\n",
        "      <td>NaN</td>\n",
        "    </tr>\n",
        "    <tr>\n",
        "      <th>...</th>\n",
        "      <td>...</td>\n",
        "      <td>...</td>\n",
        "      <td>...</td>\n",
        "      <td>...</td>\n",
        "      <td>...</td>\n",
        "      <td>...</td>\n",
        "      <td>...</td>\n",
        "      <td>...</td>\n",
        "      <td>...</td>\n",
        "      <td>...</td>\n",
        "      <td>...</td>\n",
        "      <td>...</td>\n",
        "      <td>...</td>\n",
        "      <td>...</td>\n",
        "      <td>...</td>\n",
        "      <td>...</td>\n",
        "      <td>...</td>\n",
        "      <td>...</td>\n",
        "      <td>...</td>\n",
        "      <td>...</td>\n",
        "      <td>...</td>\n",
        "    </tr>\n",
        "    <tr>\n",
        "      <th>60742</th>\n",
        "      <td>  #1013</td>\n",
        "      <td>  lik-novikova@yandex.ru</td>\n",
        "      <td>     NaN</td>\n",
        "      <td>                       NaN</td>\n",
        "      <td>         NaN</td>\n",
        "      <td>                       NaN</td>\n",
        "      <td> NaN</td>\n",
        "      <td> NaN</td>\n",
        "      <td>    NaN</td>\n",
        "      <td>NaN</td>\n",
        "      <td>...</td>\n",
        "      <td>NaN</td>\n",
        "      <td>NaN</td>\n",
        "      <td>NaN</td>\n",
        "      <td>NaN</td>\n",
        "      <td>NaN</td>\n",
        "      <td>NaN</td>\n",
        "      <td>NaN</td>\n",
        "      <td>NaN</td>\n",
        "      <td>NaN</td>\n",
        "      <td>NaN</td>\n",
        "    </tr>\n",
        "    <tr>\n",
        "      <th>60743</th>\n",
        "      <td>  #1012</td>\n",
        "      <td>     bettyhedrich@gmx.de</td>\n",
        "      <td>    paid</td>\n",
        "      <td> 2012-05-27 13:15:42 +0200</td>\n",
        "      <td>   fulfilled</td>\n",
        "      <td> 2012-05-27 13:15:14 +0200</td>\n",
        "      <td>  no</td>\n",
        "      <td> EGP</td>\n",
        "      <td>  41.93</td>\n",
        "      <td>  5</td>\n",
        "      <td>...</td>\n",
        "      <td>NaN</td>\n",
        "      <td>NaN</td>\n",
        "      <td>NaN</td>\n",
        "      <td>NaN</td>\n",
        "      <td>NaN</td>\n",
        "      <td>NaN</td>\n",
        "      <td>NaN</td>\n",
        "      <td>NaN</td>\n",
        "      <td>NaN</td>\n",
        "      <td>NaN</td>\n",
        "    </tr>\n",
        "    <tr>\n",
        "      <th>60744</th>\n",
        "      <td>  #1012</td>\n",
        "      <td>     bettyhedrich@gmx.de</td>\n",
        "      <td>     NaN</td>\n",
        "      <td>                       NaN</td>\n",
        "      <td>         NaN</td>\n",
        "      <td>                       NaN</td>\n",
        "      <td> NaN</td>\n",
        "      <td> NaN</td>\n",
        "      <td>    NaN</td>\n",
        "      <td>NaN</td>\n",
        "      <td>...</td>\n",
        "      <td>NaN</td>\n",
        "      <td>NaN</td>\n",
        "      <td>NaN</td>\n",
        "      <td>NaN</td>\n",
        "      <td>NaN</td>\n",
        "      <td>NaN</td>\n",
        "      <td>NaN</td>\n",
        "      <td>NaN</td>\n",
        "      <td>NaN</td>\n",
        "      <td>NaN</td>\n",
        "    </tr>\n",
        "    <tr>\n",
        "      <th>60745</th>\n",
        "      <td>  #1011</td>\n",
        "      <td>           rulah@msn.com</td>\n",
        "      <td>    paid</td>\n",
        "      <td> 2012-05-21 18:33:13 +0200</td>\n",
        "      <td>   fulfilled</td>\n",
        "      <td> 2012-05-21 18:33:43 +0200</td>\n",
        "      <td> yes</td>\n",
        "      <td> EGP</td>\n",
        "      <td> 222.30</td>\n",
        "      <td>  5</td>\n",
        "      <td>...</td>\n",
        "      <td>NaN</td>\n",
        "      <td>NaN</td>\n",
        "      <td>NaN</td>\n",
        "      <td>NaN</td>\n",
        "      <td>NaN</td>\n",
        "      <td>NaN</td>\n",
        "      <td>NaN</td>\n",
        "      <td>NaN</td>\n",
        "      <td>NaN</td>\n",
        "      <td>NaN</td>\n",
        "    </tr>\n",
        "    <tr>\n",
        "      <th>60746</th>\n",
        "      <td>  #1010</td>\n",
        "      <td>     milda_b@hotmail.com</td>\n",
        "      <td>    paid</td>\n",
        "      <td> 2012-05-09 11:09:12 +0200</td>\n",
        "      <td>   fulfilled</td>\n",
        "      <td> 2012-05-09 11:09:06 +0200</td>\n",
        "      <td> yes</td>\n",
        "      <td> EGP</td>\n",
        "      <td> 155.55</td>\n",
        "      <td>  5</td>\n",
        "      <td>...</td>\n",
        "      <td>NaN</td>\n",
        "      <td>NaN</td>\n",
        "      <td>NaN</td>\n",
        "      <td>NaN</td>\n",
        "      <td>NaN</td>\n",
        "      <td>NaN</td>\n",
        "      <td>NaN</td>\n",
        "      <td>NaN</td>\n",
        "      <td>NaN</td>\n",
        "      <td>NaN</td>\n",
        "    </tr>\n",
        "    <tr>\n",
        "      <th>60747</th>\n",
        "      <td>  #1010</td>\n",
        "      <td>     milda_b@hotmail.com</td>\n",
        "      <td>     NaN</td>\n",
        "      <td>                       NaN</td>\n",
        "      <td>         NaN</td>\n",
        "      <td>                       NaN</td>\n",
        "      <td> NaN</td>\n",
        "      <td> NaN</td>\n",
        "      <td>    NaN</td>\n",
        "      <td>NaN</td>\n",
        "      <td>...</td>\n",
        "      <td>NaN</td>\n",
        "      <td>NaN</td>\n",
        "      <td>NaN</td>\n",
        "      <td>NaN</td>\n",
        "      <td>NaN</td>\n",
        "      <td>NaN</td>\n",
        "      <td>NaN</td>\n",
        "      <td>NaN</td>\n",
        "      <td>NaN</td>\n",
        "      <td>NaN</td>\n",
        "    </tr>\n",
        "    <tr>\n",
        "      <th>60748</th>\n",
        "      <td>  #1010</td>\n",
        "      <td>     milda_b@hotmail.com</td>\n",
        "      <td>     NaN</td>\n",
        "      <td>                       NaN</td>\n",
        "      <td>         NaN</td>\n",
        "      <td>                       NaN</td>\n",
        "      <td> NaN</td>\n",
        "      <td> NaN</td>\n",
        "      <td>    NaN</td>\n",
        "      <td>NaN</td>\n",
        "      <td>...</td>\n",
        "      <td>NaN</td>\n",
        "      <td>NaN</td>\n",
        "      <td>NaN</td>\n",
        "      <td>NaN</td>\n",
        "      <td>NaN</td>\n",
        "      <td>NaN</td>\n",
        "      <td>NaN</td>\n",
        "      <td>NaN</td>\n",
        "      <td>NaN</td>\n",
        "      <td>NaN</td>\n",
        "    </tr>\n",
        "    <tr>\n",
        "      <th>60749</th>\n",
        "      <td>  #1010</td>\n",
        "      <td>     milda_b@hotmail.com</td>\n",
        "      <td>     NaN</td>\n",
        "      <td>                       NaN</td>\n",
        "      <td>         NaN</td>\n",
        "      <td>                       NaN</td>\n",
        "      <td> NaN</td>\n",
        "      <td> NaN</td>\n",
        "      <td>    NaN</td>\n",
        "      <td>NaN</td>\n",
        "      <td>...</td>\n",
        "      <td>NaN</td>\n",
        "      <td>NaN</td>\n",
        "      <td>NaN</td>\n",
        "      <td>NaN</td>\n",
        "      <td>NaN</td>\n",
        "      <td>NaN</td>\n",
        "      <td>NaN</td>\n",
        "      <td>NaN</td>\n",
        "      <td>NaN</td>\n",
        "      <td>NaN</td>\n",
        "    </tr>\n",
        "    <tr>\n",
        "      <th>60750</th>\n",
        "      <td>  #1010</td>\n",
        "      <td>     milda_b@hotmail.com</td>\n",
        "      <td>     NaN</td>\n",
        "      <td>                       NaN</td>\n",
        "      <td>         NaN</td>\n",
        "      <td>                       NaN</td>\n",
        "      <td> NaN</td>\n",
        "      <td> NaN</td>\n",
        "      <td>    NaN</td>\n",
        "      <td>NaN</td>\n",
        "      <td>...</td>\n",
        "      <td>NaN</td>\n",
        "      <td>NaN</td>\n",
        "      <td>NaN</td>\n",
        "      <td>NaN</td>\n",
        "      <td>NaN</td>\n",
        "      <td>NaN</td>\n",
        "      <td>NaN</td>\n",
        "      <td>NaN</td>\n",
        "      <td>NaN</td>\n",
        "      <td>NaN</td>\n",
        "    </tr>\n",
        "    <tr>\n",
        "      <th>60751</th>\n",
        "      <td>  #1010</td>\n",
        "      <td>     milda_b@hotmail.com</td>\n",
        "      <td>     NaN</td>\n",
        "      <td>                       NaN</td>\n",
        "      <td>         NaN</td>\n",
        "      <td>                       NaN</td>\n",
        "      <td> NaN</td>\n",
        "      <td> NaN</td>\n",
        "      <td>    NaN</td>\n",
        "      <td>NaN</td>\n",
        "      <td>...</td>\n",
        "      <td>NaN</td>\n",
        "      <td>NaN</td>\n",
        "      <td>NaN</td>\n",
        "      <td>NaN</td>\n",
        "      <td>NaN</td>\n",
        "      <td>NaN</td>\n",
        "      <td>NaN</td>\n",
        "      <td>NaN</td>\n",
        "      <td>NaN</td>\n",
        "      <td>NaN</td>\n",
        "    </tr>\n",
        "    <tr>\n",
        "      <th>60752</th>\n",
        "      <td>  #1010</td>\n",
        "      <td>     milda_b@hotmail.com</td>\n",
        "      <td>     NaN</td>\n",
        "      <td>                       NaN</td>\n",
        "      <td>         NaN</td>\n",
        "      <td>                       NaN</td>\n",
        "      <td> NaN</td>\n",
        "      <td> NaN</td>\n",
        "      <td>    NaN</td>\n",
        "      <td>NaN</td>\n",
        "      <td>...</td>\n",
        "      <td>NaN</td>\n",
        "      <td>NaN</td>\n",
        "      <td>NaN</td>\n",
        "      <td>NaN</td>\n",
        "      <td>NaN</td>\n",
        "      <td>NaN</td>\n",
        "      <td>NaN</td>\n",
        "      <td>NaN</td>\n",
        "      <td>NaN</td>\n",
        "      <td>NaN</td>\n",
        "    </tr>\n",
        "    <tr>\n",
        "      <th>60753</th>\n",
        "      <td>  #1009</td>\n",
        "      <td>     bente.ring@yahoo.no</td>\n",
        "      <td>    paid</td>\n",
        "      <td> 2012-05-10 19:12:35 +0200</td>\n",
        "      <td>   fulfilled</td>\n",
        "      <td> 2012-05-10 19:12:32 +0200</td>\n",
        "      <td> yes</td>\n",
        "      <td> EGP</td>\n",
        "      <td>  45.50</td>\n",
        "      <td>  5</td>\n",
        "      <td>...</td>\n",
        "      <td>NaN</td>\n",
        "      <td>NaN</td>\n",
        "      <td>NaN</td>\n",
        "      <td>NaN</td>\n",
        "      <td>NaN</td>\n",
        "      <td>NaN</td>\n",
        "      <td>NaN</td>\n",
        "      <td>NaN</td>\n",
        "      <td>NaN</td>\n",
        "      <td>NaN</td>\n",
        "    </tr>\n",
        "    <tr>\n",
        "      <th>60754</th>\n",
        "      <td>  #1008</td>\n",
        "      <td>     bente.ring@yahoo.no</td>\n",
        "      <td>    paid</td>\n",
        "      <td> 2012-05-10 19:13:35 +0200</td>\n",
        "      <td>   fulfilled</td>\n",
        "      <td> 2012-05-10 19:13:32 +0200</td>\n",
        "      <td> yes</td>\n",
        "      <td> EGP</td>\n",
        "      <td> 357.53</td>\n",
        "      <td>  5</td>\n",
        "      <td>...</td>\n",
        "      <td>NaN</td>\n",
        "      <td>NaN</td>\n",
        "      <td>NaN</td>\n",
        "      <td>NaN</td>\n",
        "      <td>NaN</td>\n",
        "      <td>NaN</td>\n",
        "      <td>NaN</td>\n",
        "      <td>NaN</td>\n",
        "      <td>NaN</td>\n",
        "      <td>NaN</td>\n",
        "    </tr>\n",
        "    <tr>\n",
        "      <th>60755</th>\n",
        "      <td>  #1008</td>\n",
        "      <td>     bente.ring@yahoo.no</td>\n",
        "      <td>     NaN</td>\n",
        "      <td>                       NaN</td>\n",
        "      <td>         NaN</td>\n",
        "      <td>                       NaN</td>\n",
        "      <td> NaN</td>\n",
        "      <td> NaN</td>\n",
        "      <td>    NaN</td>\n",
        "      <td>NaN</td>\n",
        "      <td>...</td>\n",
        "      <td>NaN</td>\n",
        "      <td>NaN</td>\n",
        "      <td>NaN</td>\n",
        "      <td>NaN</td>\n",
        "      <td>NaN</td>\n",
        "      <td>NaN</td>\n",
        "      <td>NaN</td>\n",
        "      <td>NaN</td>\n",
        "      <td>NaN</td>\n",
        "      <td>NaN</td>\n",
        "    </tr>\n",
        "    <tr>\n",
        "      <th>60756</th>\n",
        "      <td>  #1008</td>\n",
        "      <td>     bente.ring@yahoo.no</td>\n",
        "      <td>     NaN</td>\n",
        "      <td>                       NaN</td>\n",
        "      <td>         NaN</td>\n",
        "      <td>                       NaN</td>\n",
        "      <td> NaN</td>\n",
        "      <td> NaN</td>\n",
        "      <td>    NaN</td>\n",
        "      <td>NaN</td>\n",
        "      <td>...</td>\n",
        "      <td>NaN</td>\n",
        "      <td>NaN</td>\n",
        "      <td>NaN</td>\n",
        "      <td>NaN</td>\n",
        "      <td>NaN</td>\n",
        "      <td>NaN</td>\n",
        "      <td>NaN</td>\n",
        "      <td>NaN</td>\n",
        "      <td>NaN</td>\n",
        "      <td>NaN</td>\n",
        "    </tr>\n",
        "    <tr>\n",
        "      <th>60757</th>\n",
        "      <td>  #1008</td>\n",
        "      <td>     bente.ring@yahoo.no</td>\n",
        "      <td>     NaN</td>\n",
        "      <td>                       NaN</td>\n",
        "      <td>         NaN</td>\n",
        "      <td>                       NaN</td>\n",
        "      <td> NaN</td>\n",
        "      <td> NaN</td>\n",
        "      <td>    NaN</td>\n",
        "      <td>NaN</td>\n",
        "      <td>...</td>\n",
        "      <td>NaN</td>\n",
        "      <td>NaN</td>\n",
        "      <td>NaN</td>\n",
        "      <td>NaN</td>\n",
        "      <td>NaN</td>\n",
        "      <td>NaN</td>\n",
        "      <td>NaN</td>\n",
        "      <td>NaN</td>\n",
        "      <td>NaN</td>\n",
        "      <td>NaN</td>\n",
        "    </tr>\n",
        "    <tr>\n",
        "      <th>60758</th>\n",
        "      <td>  #1008</td>\n",
        "      <td>     bente.ring@yahoo.no</td>\n",
        "      <td>     NaN</td>\n",
        "      <td>                       NaN</td>\n",
        "      <td>         NaN</td>\n",
        "      <td>                       NaN</td>\n",
        "      <td> NaN</td>\n",
        "      <td> NaN</td>\n",
        "      <td>    NaN</td>\n",
        "      <td>NaN</td>\n",
        "      <td>...</td>\n",
        "      <td>NaN</td>\n",
        "      <td>NaN</td>\n",
        "      <td>NaN</td>\n",
        "      <td>NaN</td>\n",
        "      <td>NaN</td>\n",
        "      <td>NaN</td>\n",
        "      <td>NaN</td>\n",
        "      <td>NaN</td>\n",
        "      <td>NaN</td>\n",
        "      <td>NaN</td>\n",
        "    </tr>\n",
        "    <tr>\n",
        "      <th>60759</th>\n",
        "      <td>  #1007</td>\n",
        "      <td>  lik-novikova@yandex.ru</td>\n",
        "      <td>    paid</td>\n",
        "      <td> 2012-05-04 18:36:50 +0200</td>\n",
        "      <td>   fulfilled</td>\n",
        "      <td> 2012-05-04 18:33:47 +0200</td>\n",
        "      <td> yes</td>\n",
        "      <td> EGP</td>\n",
        "      <td> 110.83</td>\n",
        "      <td>  5</td>\n",
        "      <td>...</td>\n",
        "      <td>NaN</td>\n",
        "      <td>NaN</td>\n",
        "      <td>NaN</td>\n",
        "      <td>NaN</td>\n",
        "      <td>NaN</td>\n",
        "      <td>NaN</td>\n",
        "      <td>NaN</td>\n",
        "      <td>NaN</td>\n",
        "      <td>NaN</td>\n",
        "      <td>NaN</td>\n",
        "    </tr>\n",
        "    <tr>\n",
        "      <th>60760</th>\n",
        "      <td>  #1007</td>\n",
        "      <td>  lik-novikova@yandex.ru</td>\n",
        "      <td>     NaN</td>\n",
        "      <td>                       NaN</td>\n",
        "      <td>         NaN</td>\n",
        "      <td>                       NaN</td>\n",
        "      <td> NaN</td>\n",
        "      <td> NaN</td>\n",
        "      <td>    NaN</td>\n",
        "      <td>NaN</td>\n",
        "      <td>...</td>\n",
        "      <td>NaN</td>\n",
        "      <td>NaN</td>\n",
        "      <td>NaN</td>\n",
        "      <td>NaN</td>\n",
        "      <td>NaN</td>\n",
        "      <td>NaN</td>\n",
        "      <td>NaN</td>\n",
        "      <td>NaN</td>\n",
        "      <td>NaN</td>\n",
        "      <td>NaN</td>\n",
        "    </tr>\n",
        "    <tr>\n",
        "      <th>60761</th>\n",
        "      <td>  #1007</td>\n",
        "      <td>  lik-novikova@yandex.ru</td>\n",
        "      <td>     NaN</td>\n",
        "      <td>                       NaN</td>\n",
        "      <td>         NaN</td>\n",
        "      <td>                       NaN</td>\n",
        "      <td> NaN</td>\n",
        "      <td> NaN</td>\n",
        "      <td>    NaN</td>\n",
        "      <td>NaN</td>\n",
        "      <td>...</td>\n",
        "      <td>NaN</td>\n",
        "      <td>NaN</td>\n",
        "      <td>NaN</td>\n",
        "      <td>NaN</td>\n",
        "      <td>NaN</td>\n",
        "      <td>NaN</td>\n",
        "      <td>NaN</td>\n",
        "      <td>NaN</td>\n",
        "      <td>NaN</td>\n",
        "      <td>NaN</td>\n",
        "    </tr>\n",
        "    <tr>\n",
        "      <th>60762</th>\n",
        "      <td>  #1007</td>\n",
        "      <td>  lik-novikova@yandex.ru</td>\n",
        "      <td>     NaN</td>\n",
        "      <td>                       NaN</td>\n",
        "      <td>         NaN</td>\n",
        "      <td>                       NaN</td>\n",
        "      <td> NaN</td>\n",
        "      <td> NaN</td>\n",
        "      <td>    NaN</td>\n",
        "      <td>NaN</td>\n",
        "      <td>...</td>\n",
        "      <td>NaN</td>\n",
        "      <td>NaN</td>\n",
        "      <td>NaN</td>\n",
        "      <td>NaN</td>\n",
        "      <td>NaN</td>\n",
        "      <td>NaN</td>\n",
        "      <td>NaN</td>\n",
        "      <td>NaN</td>\n",
        "      <td>NaN</td>\n",
        "      <td>NaN</td>\n",
        "    </tr>\n",
        "    <tr>\n",
        "      <th>60763</th>\n",
        "      <td>  #1006</td>\n",
        "      <td>     bente.ring@yahoo.no</td>\n",
        "      <td>    paid</td>\n",
        "      <td> 2012-05-04 18:37:13 +0200</td>\n",
        "      <td>   fulfilled</td>\n",
        "      <td> 2012-05-03 10:57:23 +0200</td>\n",
        "      <td> yes</td>\n",
        "      <td> EGP</td>\n",
        "      <td> 201.51</td>\n",
        "      <td>  5</td>\n",
        "      <td>...</td>\n",
        "      <td>NaN</td>\n",
        "      <td>NaN</td>\n",
        "      <td>NaN</td>\n",
        "      <td>NaN</td>\n",
        "      <td>NaN</td>\n",
        "      <td>NaN</td>\n",
        "      <td>NaN</td>\n",
        "      <td>NaN</td>\n",
        "      <td>NaN</td>\n",
        "      <td>NaN</td>\n",
        "    </tr>\n",
        "    <tr>\n",
        "      <th>60764</th>\n",
        "      <td>  #1006</td>\n",
        "      <td>     bente.ring@yahoo.no</td>\n",
        "      <td>     NaN</td>\n",
        "      <td>                       NaN</td>\n",
        "      <td>         NaN</td>\n",
        "      <td>                       NaN</td>\n",
        "      <td> NaN</td>\n",
        "      <td> NaN</td>\n",
        "      <td>    NaN</td>\n",
        "      <td>NaN</td>\n",
        "      <td>...</td>\n",
        "      <td>NaN</td>\n",
        "      <td>NaN</td>\n",
        "      <td>NaN</td>\n",
        "      <td>NaN</td>\n",
        "      <td>NaN</td>\n",
        "      <td>NaN</td>\n",
        "      <td>NaN</td>\n",
        "      <td>NaN</td>\n",
        "      <td>NaN</td>\n",
        "      <td>NaN</td>\n",
        "    </tr>\n",
        "    <tr>\n",
        "      <th>60765</th>\n",
        "      <td>  #1006</td>\n",
        "      <td>     bente.ring@yahoo.no</td>\n",
        "      <td>     NaN</td>\n",
        "      <td>                       NaN</td>\n",
        "      <td>         NaN</td>\n",
        "      <td>                       NaN</td>\n",
        "      <td> NaN</td>\n",
        "      <td> NaN</td>\n",
        "      <td>    NaN</td>\n",
        "      <td>NaN</td>\n",
        "      <td>...</td>\n",
        "      <td>NaN</td>\n",
        "      <td>NaN</td>\n",
        "      <td>NaN</td>\n",
        "      <td>NaN</td>\n",
        "      <td>NaN</td>\n",
        "      <td>NaN</td>\n",
        "      <td>NaN</td>\n",
        "      <td>NaN</td>\n",
        "      <td>NaN</td>\n",
        "      <td>NaN</td>\n",
        "    </tr>\n",
        "    <tr>\n",
        "      <th>60766</th>\n",
        "      <td>  #1006</td>\n",
        "      <td>     bente.ring@yahoo.no</td>\n",
        "      <td>     NaN</td>\n",
        "      <td>                       NaN</td>\n",
        "      <td>         NaN</td>\n",
        "      <td>                       NaN</td>\n",
        "      <td> NaN</td>\n",
        "      <td> NaN</td>\n",
        "      <td>    NaN</td>\n",
        "      <td>NaN</td>\n",
        "      <td>...</td>\n",
        "      <td>NaN</td>\n",
        "      <td>NaN</td>\n",
        "      <td>NaN</td>\n",
        "      <td>NaN</td>\n",
        "      <td>NaN</td>\n",
        "      <td>NaN</td>\n",
        "      <td>NaN</td>\n",
        "      <td>NaN</td>\n",
        "      <td>NaN</td>\n",
        "      <td>NaN</td>\n",
        "    </tr>\n",
        "    <tr>\n",
        "      <th>60767</th>\n",
        "      <td>  #1006</td>\n",
        "      <td>     bente.ring@yahoo.no</td>\n",
        "      <td>     NaN</td>\n",
        "      <td>                       NaN</td>\n",
        "      <td>         NaN</td>\n",
        "      <td>                       NaN</td>\n",
        "      <td> NaN</td>\n",
        "      <td> NaN</td>\n",
        "      <td>    NaN</td>\n",
        "      <td>NaN</td>\n",
        "      <td>...</td>\n",
        "      <td>NaN</td>\n",
        "      <td>NaN</td>\n",
        "      <td>NaN</td>\n",
        "      <td>NaN</td>\n",
        "      <td>NaN</td>\n",
        "      <td>NaN</td>\n",
        "      <td>NaN</td>\n",
        "      <td>NaN</td>\n",
        "      <td>NaN</td>\n",
        "      <td>NaN</td>\n",
        "    </tr>\n",
        "    <tr>\n",
        "      <th>60768</th>\n",
        "      <td>  #1005</td>\n",
        "      <td>    cathypod@hotmail.com</td>\n",
        "      <td>    paid</td>\n",
        "      <td> 2012-05-04 18:37:35 +0200</td>\n",
        "      <td>   fulfilled</td>\n",
        "      <td> 2012-05-03 11:03:44 +0200</td>\n",
        "      <td> yes</td>\n",
        "      <td> EGP</td>\n",
        "      <td>  54.60</td>\n",
        "      <td>  5</td>\n",
        "      <td>...</td>\n",
        "      <td>NaN</td>\n",
        "      <td>NaN</td>\n",
        "      <td>NaN</td>\n",
        "      <td>NaN</td>\n",
        "      <td>NaN</td>\n",
        "      <td>NaN</td>\n",
        "      <td>NaN</td>\n",
        "      <td>NaN</td>\n",
        "      <td>NaN</td>\n",
        "      <td>NaN</td>\n",
        "    </tr>\n",
        "    <tr>\n",
        "      <th>60769</th>\n",
        "      <td>  #1005</td>\n",
        "      <td>    cathypod@hotmail.com</td>\n",
        "      <td>     NaN</td>\n",
        "      <td>                       NaN</td>\n",
        "      <td>         NaN</td>\n",
        "      <td>                       NaN</td>\n",
        "      <td> NaN</td>\n",
        "      <td> NaN</td>\n",
        "      <td>    NaN</td>\n",
        "      <td>NaN</td>\n",
        "      <td>...</td>\n",
        "      <td>NaN</td>\n",
        "      <td>NaN</td>\n",
        "      <td>NaN</td>\n",
        "      <td>NaN</td>\n",
        "      <td>NaN</td>\n",
        "      <td>NaN</td>\n",
        "      <td>NaN</td>\n",
        "      <td>NaN</td>\n",
        "      <td>NaN</td>\n",
        "      <td>NaN</td>\n",
        "    </tr>\n",
        "    <tr>\n",
        "      <th>60770</th>\n",
        "      <td>  #1005</td>\n",
        "      <td>    cathypod@hotmail.com</td>\n",
        "      <td>     NaN</td>\n",
        "      <td>                       NaN</td>\n",
        "      <td>         NaN</td>\n",
        "      <td>                       NaN</td>\n",
        "      <td> NaN</td>\n",
        "      <td> NaN</td>\n",
        "      <td>    NaN</td>\n",
        "      <td>NaN</td>\n",
        "      <td>...</td>\n",
        "      <td>NaN</td>\n",
        "      <td>NaN</td>\n",
        "      <td>NaN</td>\n",
        "      <td>NaN</td>\n",
        "      <td>NaN</td>\n",
        "      <td>NaN</td>\n",
        "      <td>NaN</td>\n",
        "      <td>NaN</td>\n",
        "      <td>NaN</td>\n",
        "      <td>NaN</td>\n",
        "    </tr>\n",
        "    <tr>\n",
        "      <th>60771</th>\n",
        "      <td>  #1005</td>\n",
        "      <td>    cathypod@hotmail.com</td>\n",
        "      <td>     NaN</td>\n",
        "      <td>                       NaN</td>\n",
        "      <td>         NaN</td>\n",
        "      <td>                       NaN</td>\n",
        "      <td> NaN</td>\n",
        "      <td> NaN</td>\n",
        "      <td>    NaN</td>\n",
        "      <td>NaN</td>\n",
        "      <td>...</td>\n",
        "      <td>NaN</td>\n",
        "      <td>NaN</td>\n",
        "      <td>NaN</td>\n",
        "      <td>NaN</td>\n",
        "      <td>NaN</td>\n",
        "      <td>NaN</td>\n",
        "      <td>NaN</td>\n",
        "      <td>NaN</td>\n",
        "      <td>NaN</td>\n",
        "      <td>NaN</td>\n",
        "    </tr>\n",
        "  </tbody>\n",
        "</table>\n",
        "<p>60772 rows \u00d7 66 columns</p>\n",
        "</div>"
       ],
       "metadata": {},
       "output_type": "pyout",
       "prompt_number": 1,
       "text": [
        "         Name                    Email Financial Status  \\\n",
        "0      #10367   rehabmansour@gmail.com          pending   \n",
        "1      #10367   rehabmansour@gmail.com              NaN   \n",
        "2      #10367   rehabmansour@gmail.com              NaN   \n",
        "3      #10366      nabouheif@yahoo.com          pending   \n",
        "4      #10366      nabouheif@yahoo.com              NaN   \n",
        "5      #10366      nabouheif@yahoo.com              NaN   \n",
        "6      #10365   fracicardi@hotmail.com          pending   \n",
        "7      #10365   fracicardi@hotmail.com              NaN   \n",
        "8      #10365   fracicardi@hotmail.com              NaN   \n",
        "9      #10365   fracicardi@hotmail.com              NaN   \n",
        "10     #10365   fracicardi@hotmail.com              NaN   \n",
        "11     #10365   fracicardi@hotmail.com              NaN   \n",
        "12     #10364   ahmed.fakhry@gmail.com          pending   \n",
        "13     #10364   ahmed.fakhry@gmail.com              NaN   \n",
        "14     #10364   ahmed.fakhry@gmail.com              NaN   \n",
        "15     #10364   ahmed.fakhry@gmail.com              NaN   \n",
        "16     #10364   ahmed.fakhry@gmail.com              NaN   \n",
        "17     #10364   ahmed.fakhry@gmail.com              NaN   \n",
        "18     #10364   ahmed.fakhry@gmail.com              NaN   \n",
        "19     #10364   ahmed.fakhry@gmail.com              NaN   \n",
        "20     #10364   ahmed.fakhry@gmail.com              NaN   \n",
        "21     #10363   ahmed.fakhry@gmail.com          pending   \n",
        "22     #10362     Missilou11@yahoo.com          pending   \n",
        "23     #10361  sallysalem123@gmail.com          pending   \n",
        "24     #10361  sallysalem123@gmail.com              NaN   \n",
        "25     #10361  sallysalem123@gmail.com              NaN   \n",
        "26     #10361  sallysalem123@gmail.com              NaN   \n",
        "27     #10361  sallysalem123@gmail.com              NaN   \n",
        "28     #10361  sallysalem123@gmail.com              NaN   \n",
        "29     #10361  sallysalem123@gmail.com              NaN   \n",
        "...       ...                      ...              ...   \n",
        "60742   #1013   lik-novikova@yandex.ru              NaN   \n",
        "60743   #1012      bettyhedrich@gmx.de             paid   \n",
        "60744   #1012      bettyhedrich@gmx.de              NaN   \n",
        "60745   #1011            rulah@msn.com             paid   \n",
        "60746   #1010      milda_b@hotmail.com             paid   \n",
        "60747   #1010      milda_b@hotmail.com              NaN   \n",
        "60748   #1010      milda_b@hotmail.com              NaN   \n",
        "60749   #1010      milda_b@hotmail.com              NaN   \n",
        "60750   #1010      milda_b@hotmail.com              NaN   \n",
        "60751   #1010      milda_b@hotmail.com              NaN   \n",
        "60752   #1010      milda_b@hotmail.com              NaN   \n",
        "60753   #1009      bente.ring@yahoo.no             paid   \n",
        "60754   #1008      bente.ring@yahoo.no             paid   \n",
        "60755   #1008      bente.ring@yahoo.no              NaN   \n",
        "60756   #1008      bente.ring@yahoo.no              NaN   \n",
        "60757   #1008      bente.ring@yahoo.no              NaN   \n",
        "60758   #1008      bente.ring@yahoo.no              NaN   \n",
        "60759   #1007   lik-novikova@yandex.ru             paid   \n",
        "60760   #1007   lik-novikova@yandex.ru              NaN   \n",
        "60761   #1007   lik-novikova@yandex.ru              NaN   \n",
        "60762   #1007   lik-novikova@yandex.ru              NaN   \n",
        "60763   #1006      bente.ring@yahoo.no             paid   \n",
        "60764   #1006      bente.ring@yahoo.no              NaN   \n",
        "60765   #1006      bente.ring@yahoo.no              NaN   \n",
        "60766   #1006      bente.ring@yahoo.no              NaN   \n",
        "60767   #1006      bente.ring@yahoo.no              NaN   \n",
        "60768   #1005     cathypod@hotmail.com             paid   \n",
        "60769   #1005     cathypod@hotmail.com              NaN   \n",
        "60770   #1005     cathypod@hotmail.com              NaN   \n",
        "60771   #1005     cathypod@hotmail.com              NaN   \n",
        "\n",
        "                         Paid at Fulfillment Status  \\\n",
        "0                            NaN        unfulfilled   \n",
        "1                            NaN                NaN   \n",
        "2                            NaN                NaN   \n",
        "3                            NaN        unfulfilled   \n",
        "4                            NaN                NaN   \n",
        "5                            NaN                NaN   \n",
        "6                            NaN        unfulfilled   \n",
        "7                            NaN                NaN   \n",
        "8                            NaN                NaN   \n",
        "9                            NaN                NaN   \n",
        "10                           NaN                NaN   \n",
        "11                           NaN                NaN   \n",
        "12                           NaN        unfulfilled   \n",
        "13                           NaN                NaN   \n",
        "14                           NaN                NaN   \n",
        "15                           NaN                NaN   \n",
        "16                           NaN                NaN   \n",
        "17                           NaN                NaN   \n",
        "18                           NaN                NaN   \n",
        "19                           NaN                NaN   \n",
        "20                           NaN                NaN   \n",
        "21                           NaN        unfulfilled   \n",
        "22                           NaN        unfulfilled   \n",
        "23                           NaN        unfulfilled   \n",
        "24                           NaN                NaN   \n",
        "25                           NaN                NaN   \n",
        "26                           NaN                NaN   \n",
        "27                           NaN                NaN   \n",
        "28                           NaN                NaN   \n",
        "29                           NaN                NaN   \n",
        "...                          ...                ...   \n",
        "60742                        NaN                NaN   \n",
        "60743  2012-05-27 13:15:42 +0200          fulfilled   \n",
        "60744                        NaN                NaN   \n",
        "60745  2012-05-21 18:33:13 +0200          fulfilled   \n",
        "60746  2012-05-09 11:09:12 +0200          fulfilled   \n",
        "60747                        NaN                NaN   \n",
        "60748                        NaN                NaN   \n",
        "60749                        NaN                NaN   \n",
        "60750                        NaN                NaN   \n",
        "60751                        NaN                NaN   \n",
        "60752                        NaN                NaN   \n",
        "60753  2012-05-10 19:12:35 +0200          fulfilled   \n",
        "60754  2012-05-10 19:13:35 +0200          fulfilled   \n",
        "60755                        NaN                NaN   \n",
        "60756                        NaN                NaN   \n",
        "60757                        NaN                NaN   \n",
        "60758                        NaN                NaN   \n",
        "60759  2012-05-04 18:36:50 +0200          fulfilled   \n",
        "60760                        NaN                NaN   \n",
        "60761                        NaN                NaN   \n",
        "60762                        NaN                NaN   \n",
        "60763  2012-05-04 18:37:13 +0200          fulfilled   \n",
        "60764                        NaN                NaN   \n",
        "60765                        NaN                NaN   \n",
        "60766                        NaN                NaN   \n",
        "60767                        NaN                NaN   \n",
        "60768  2012-05-04 18:37:35 +0200          fulfilled   \n",
        "60769                        NaN                NaN   \n",
        "60770                        NaN                NaN   \n",
        "60771                        NaN                NaN   \n",
        "\n",
        "                    Fulfilled at Accepts Marketing Currency  Subtotal  \\\n",
        "0                            NaN                no      EGP    375.30   \n",
        "1                            NaN               NaN      NaN       NaN   \n",
        "2                            NaN               NaN      NaN       NaN   \n",
        "3                            NaN                no      EGP    162.90   \n",
        "4                            NaN               NaN      NaN       NaN   \n",
        "5                            NaN               NaN      NaN       NaN   \n",
        "6                            NaN                no      EGP    129.00   \n",
        "7                            NaN               NaN      NaN       NaN   \n",
        "8                            NaN               NaN      NaN       NaN   \n",
        "9                            NaN               NaN      NaN       NaN   \n",
        "10                           NaN               NaN      NaN       NaN   \n",
        "11                           NaN               NaN      NaN       NaN   \n",
        "12                           NaN                no      EGP    660.10   \n",
        "13                           NaN               NaN      NaN       NaN   \n",
        "14                           NaN               NaN      NaN       NaN   \n",
        "15                           NaN               NaN      NaN       NaN   \n",
        "16                           NaN               NaN      NaN       NaN   \n",
        "17                           NaN               NaN      NaN       NaN   \n",
        "18                           NaN               NaN      NaN       NaN   \n",
        "19                           NaN               NaN      NaN       NaN   \n",
        "20                           NaN               NaN      NaN       NaN   \n",
        "21                           NaN                no      EGP    592.00   \n",
        "22                           NaN                no      EGP     70.20   \n",
        "23                           NaN                no      EGP    432.00   \n",
        "24                           NaN               NaN      NaN       NaN   \n",
        "25                           NaN               NaN      NaN       NaN   \n",
        "26                           NaN               NaN      NaN       NaN   \n",
        "27                           NaN               NaN      NaN       NaN   \n",
        "28                           NaN               NaN      NaN       NaN   \n",
        "29                           NaN               NaN      NaN       NaN   \n",
        "...                          ...               ...      ...       ...   \n",
        "60742                        NaN               NaN      NaN       NaN   \n",
        "60743  2012-05-27 13:15:14 +0200                no      EGP     41.93   \n",
        "60744                        NaN               NaN      NaN       NaN   \n",
        "60745  2012-05-21 18:33:43 +0200               yes      EGP    222.30   \n",
        "60746  2012-05-09 11:09:06 +0200               yes      EGP    155.55   \n",
        "60747                        NaN               NaN      NaN       NaN   \n",
        "60748                        NaN               NaN      NaN       NaN   \n",
        "60749                        NaN               NaN      NaN       NaN   \n",
        "60750                        NaN               NaN      NaN       NaN   \n",
        "60751                        NaN               NaN      NaN       NaN   \n",
        "60752                        NaN               NaN      NaN       NaN   \n",
        "60753  2012-05-10 19:12:32 +0200               yes      EGP     45.50   \n",
        "60754  2012-05-10 19:13:32 +0200               yes      EGP    357.53   \n",
        "60755                        NaN               NaN      NaN       NaN   \n",
        "60756                        NaN               NaN      NaN       NaN   \n",
        "60757                        NaN               NaN      NaN       NaN   \n",
        "60758                        NaN               NaN      NaN       NaN   \n",
        "60759  2012-05-04 18:33:47 +0200               yes      EGP    110.83   \n",
        "60760                        NaN               NaN      NaN       NaN   \n",
        "60761                        NaN               NaN      NaN       NaN   \n",
        "60762                        NaN               NaN      NaN       NaN   \n",
        "60763  2012-05-03 10:57:23 +0200               yes      EGP    201.51   \n",
        "60764                        NaN               NaN      NaN       NaN   \n",
        "60765                        NaN               NaN      NaN       NaN   \n",
        "60766                        NaN               NaN      NaN       NaN   \n",
        "60767                        NaN               NaN      NaN       NaN   \n",
        "60768  2012-05-03 11:03:44 +0200               yes      EGP     54.60   \n",
        "60769                        NaN               NaN      NaN       NaN   \n",
        "60770                        NaN               NaN      NaN       NaN   \n",
        "60771                        NaN               NaN      NaN       NaN   \n",
        "\n",
        "       Shipping     ...       Tax 1 Name  Tax 1 Value Tax 2 Name  Tax 2 Value  \\\n",
        "0            10     ...              NaN          NaN        NaN          NaN   \n",
        "1           NaN     ...              NaN          NaN        NaN          NaN   \n",
        "2           NaN     ...              NaN          NaN        NaN          NaN   \n",
        "3            10     ...              NaN          NaN        NaN          NaN   \n",
        "4           NaN     ...              NaN          NaN        NaN          NaN   \n",
        "5           NaN     ...              NaN          NaN        NaN          NaN   \n",
        "6            15     ...              NaN          NaN        NaN          NaN   \n",
        "7           NaN     ...              NaN          NaN        NaN          NaN   \n",
        "8           NaN     ...              NaN          NaN        NaN          NaN   \n",
        "9           NaN     ...              NaN          NaN        NaN          NaN   \n",
        "10          NaN     ...              NaN          NaN        NaN          NaN   \n",
        "11          NaN     ...              NaN          NaN        NaN          NaN   \n",
        "12           10     ...              NaN          NaN        NaN          NaN   \n",
        "13          NaN     ...              NaN          NaN        NaN          NaN   \n",
        "14          NaN     ...              NaN          NaN        NaN          NaN   \n",
        "15          NaN     ...              NaN          NaN        NaN          NaN   \n",
        "16          NaN     ...              NaN          NaN        NaN          NaN   \n",
        "17          NaN     ...              NaN          NaN        NaN          NaN   \n",
        "18          NaN     ...              NaN          NaN        NaN          NaN   \n",
        "19          NaN     ...              NaN          NaN        NaN          NaN   \n",
        "20          NaN     ...              NaN          NaN        NaN          NaN   \n",
        "21           10     ...              NaN          NaN        NaN          NaN   \n",
        "22           15     ...              NaN          NaN        NaN          NaN   \n",
        "23           10     ...              NaN          NaN        NaN          NaN   \n",
        "24          NaN     ...              NaN          NaN        NaN          NaN   \n",
        "25          NaN     ...              NaN          NaN        NaN          NaN   \n",
        "26          NaN     ...              NaN          NaN        NaN          NaN   \n",
        "27          NaN     ...              NaN          NaN        NaN          NaN   \n",
        "28          NaN     ...              NaN          NaN        NaN          NaN   \n",
        "29          NaN     ...              NaN          NaN        NaN          NaN   \n",
        "...         ...     ...              ...          ...        ...          ...   \n",
        "60742       NaN     ...              NaN          NaN        NaN          NaN   \n",
        "60743         5     ...              NaN          NaN        NaN          NaN   \n",
        "60744       NaN     ...              NaN          NaN        NaN          NaN   \n",
        "60745         5     ...              NaN          NaN        NaN          NaN   \n",
        "60746         5     ...              NaN          NaN        NaN          NaN   \n",
        "60747       NaN     ...              NaN          NaN        NaN          NaN   \n",
        "60748       NaN     ...              NaN          NaN        NaN          NaN   \n",
        "60749       NaN     ...              NaN          NaN        NaN          NaN   \n",
        "60750       NaN     ...              NaN          NaN        NaN          NaN   \n",
        "60751       NaN     ...              NaN          NaN        NaN          NaN   \n",
        "60752       NaN     ...              NaN          NaN        NaN          NaN   \n",
        "60753         5     ...              NaN          NaN        NaN          NaN   \n",
        "60754         5     ...              NaN          NaN        NaN          NaN   \n",
        "60755       NaN     ...              NaN          NaN        NaN          NaN   \n",
        "60756       NaN     ...              NaN          NaN        NaN          NaN   \n",
        "60757       NaN     ...              NaN          NaN        NaN          NaN   \n",
        "60758       NaN     ...              NaN          NaN        NaN          NaN   \n",
        "60759         5     ...              NaN          NaN        NaN          NaN   \n",
        "60760       NaN     ...              NaN          NaN        NaN          NaN   \n",
        "60761       NaN     ...              NaN          NaN        NaN          NaN   \n",
        "60762       NaN     ...              NaN          NaN        NaN          NaN   \n",
        "60763         5     ...              NaN          NaN        NaN          NaN   \n",
        "60764       NaN     ...              NaN          NaN        NaN          NaN   \n",
        "60765       NaN     ...              NaN          NaN        NaN          NaN   \n",
        "60766       NaN     ...              NaN          NaN        NaN          NaN   \n",
        "60767       NaN     ...              NaN          NaN        NaN          NaN   \n",
        "60768         5     ...              NaN          NaN        NaN          NaN   \n",
        "60769       NaN     ...              NaN          NaN        NaN          NaN   \n",
        "60770       NaN     ...              NaN          NaN        NaN          NaN   \n",
        "60771       NaN     ...              NaN          NaN        NaN          NaN   \n",
        "\n",
        "      Tax 3 Name Tax 3 Value  Tax 4 Name Tax 4 Value  Tax 5 Name  Tax 5 Value  \n",
        "0            NaN         NaN         NaN         NaN         NaN          NaN  \n",
        "1            NaN         NaN         NaN         NaN         NaN          NaN  \n",
        "2            NaN         NaN         NaN         NaN         NaN          NaN  \n",
        "3            NaN         NaN         NaN         NaN         NaN          NaN  \n",
        "4            NaN         NaN         NaN         NaN         NaN          NaN  \n",
        "5            NaN         NaN         NaN         NaN         NaN          NaN  \n",
        "6            NaN         NaN         NaN         NaN         NaN          NaN  \n",
        "7            NaN         NaN         NaN         NaN         NaN          NaN  \n",
        "8            NaN         NaN         NaN         NaN         NaN          NaN  \n",
        "9            NaN         NaN         NaN         NaN         NaN          NaN  \n",
        "10           NaN         NaN         NaN         NaN         NaN          NaN  \n",
        "11           NaN         NaN         NaN         NaN         NaN          NaN  \n",
        "12           NaN         NaN         NaN         NaN         NaN          NaN  \n",
        "13           NaN         NaN         NaN         NaN         NaN          NaN  \n",
        "14           NaN         NaN         NaN         NaN         NaN          NaN  \n",
        "15           NaN         NaN         NaN         NaN         NaN          NaN  \n",
        "16           NaN         NaN         NaN         NaN         NaN          NaN  \n",
        "17           NaN         NaN         NaN         NaN         NaN          NaN  \n",
        "18           NaN         NaN         NaN         NaN         NaN          NaN  \n",
        "19           NaN         NaN         NaN         NaN         NaN          NaN  \n",
        "20           NaN         NaN         NaN         NaN         NaN          NaN  \n",
        "21           NaN         NaN         NaN         NaN         NaN          NaN  \n",
        "22           NaN         NaN         NaN         NaN         NaN          NaN  \n",
        "23           NaN         NaN         NaN         NaN         NaN          NaN  \n",
        "24           NaN         NaN         NaN         NaN         NaN          NaN  \n",
        "25           NaN         NaN         NaN         NaN         NaN          NaN  \n",
        "26           NaN         NaN         NaN         NaN         NaN          NaN  \n",
        "27           NaN         NaN         NaN         NaN         NaN          NaN  \n",
        "28           NaN         NaN         NaN         NaN         NaN          NaN  \n",
        "29           NaN         NaN         NaN         NaN         NaN          NaN  \n",
        "...          ...         ...         ...         ...         ...          ...  \n",
        "60742        NaN         NaN         NaN         NaN         NaN          NaN  \n",
        "60743        NaN         NaN         NaN         NaN         NaN          NaN  \n",
        "60744        NaN         NaN         NaN         NaN         NaN          NaN  \n",
        "60745        NaN         NaN         NaN         NaN         NaN          NaN  \n",
        "60746        NaN         NaN         NaN         NaN         NaN          NaN  \n",
        "60747        NaN         NaN         NaN         NaN         NaN          NaN  \n",
        "60748        NaN         NaN         NaN         NaN         NaN          NaN  \n",
        "60749        NaN         NaN         NaN         NaN         NaN          NaN  \n",
        "60750        NaN         NaN         NaN         NaN         NaN          NaN  \n",
        "60751        NaN         NaN         NaN         NaN         NaN          NaN  \n",
        "60752        NaN         NaN         NaN         NaN         NaN          NaN  \n",
        "60753        NaN         NaN         NaN         NaN         NaN          NaN  \n",
        "60754        NaN         NaN         NaN         NaN         NaN          NaN  \n",
        "60755        NaN         NaN         NaN         NaN         NaN          NaN  \n",
        "60756        NaN         NaN         NaN         NaN         NaN          NaN  \n",
        "60757        NaN         NaN         NaN         NaN         NaN          NaN  \n",
        "60758        NaN         NaN         NaN         NaN         NaN          NaN  \n",
        "60759        NaN         NaN         NaN         NaN         NaN          NaN  \n",
        "60760        NaN         NaN         NaN         NaN         NaN          NaN  \n",
        "60761        NaN         NaN         NaN         NaN         NaN          NaN  \n",
        "60762        NaN         NaN         NaN         NaN         NaN          NaN  \n",
        "60763        NaN         NaN         NaN         NaN         NaN          NaN  \n",
        "60764        NaN         NaN         NaN         NaN         NaN          NaN  \n",
        "60765        NaN         NaN         NaN         NaN         NaN          NaN  \n",
        "60766        NaN         NaN         NaN         NaN         NaN          NaN  \n",
        "60767        NaN         NaN         NaN         NaN         NaN          NaN  \n",
        "60768        NaN         NaN         NaN         NaN         NaN          NaN  \n",
        "60769        NaN         NaN         NaN         NaN         NaN          NaN  \n",
        "60770        NaN         NaN         NaN         NaN         NaN          NaN  \n",
        "60771        NaN         NaN         NaN         NaN         NaN          NaN  \n",
        "\n",
        "[60772 rows x 66 columns]"
       ]
      }
     ],
     "prompt_number": 1
    },
    {
     "cell_type": "code",
     "collapsed": false,
     "input": [
      "#get date in datetime format\n",
      "def getDate(data):\n",
      "    return pd.to_datetime(datetime.strptime(data[:10], '%Y-%m-%d')).date()\n",
      "    \n",
      "#get days from today to order date\n",
      "def diffDates(data):\n",
      "    return (today - data).days\n",
      "    \n",
      "#get required columns\n",
      "df1=df[['Email', 'Created at' ]]\n",
      "\n",
      "df1=df1.drop_duplicates().reset_index().drop('index',1)\n",
      "\n",
      "#rename columns\n",
      "df1.columns = ['Email', 'Date']\n",
      "df1"
     ],
     "language": "python",
     "metadata": {},
     "outputs": [
      {
       "html": [
        "<div style=\"max-height:1000px;max-width:1500px;overflow:auto;\">\n",
        "<table border=\"1\" class=\"dataframe\">\n",
        "  <thead>\n",
        "    <tr style=\"text-align: right;\">\n",
        "      <th></th>\n",
        "      <th>Email</th>\n",
        "      <th>Date</th>\n",
        "    </tr>\n",
        "  </thead>\n",
        "  <tbody>\n",
        "    <tr>\n",
        "      <th>0   </th>\n",
        "      <td>       rehabmansour@gmail.com</td>\n",
        "      <td> 2015-12-23 20:33:51 +0200</td>\n",
        "    </tr>\n",
        "    <tr>\n",
        "      <th>1   </th>\n",
        "      <td>          nabouheif@yahoo.com</td>\n",
        "      <td> 2015-12-23 20:00:17 +0200</td>\n",
        "    </tr>\n",
        "    <tr>\n",
        "      <th>2   </th>\n",
        "      <td>       fracicardi@hotmail.com</td>\n",
        "      <td> 2015-12-23 18:36:17 +0200</td>\n",
        "    </tr>\n",
        "    <tr>\n",
        "      <th>3   </th>\n",
        "      <td>       ahmed.fakhry@gmail.com</td>\n",
        "      <td> 2015-12-23 16:06:49 +0200</td>\n",
        "    </tr>\n",
        "    <tr>\n",
        "      <th>4   </th>\n",
        "      <td>       ahmed.fakhry@gmail.com</td>\n",
        "      <td> 2015-12-23 16:01:32 +0200</td>\n",
        "    </tr>\n",
        "    <tr>\n",
        "      <th>5   </th>\n",
        "      <td>         Missilou11@yahoo.com</td>\n",
        "      <td> 2015-12-23 14:25:09 +0200</td>\n",
        "    </tr>\n",
        "    <tr>\n",
        "      <th>6   </th>\n",
        "      <td>      sallysalem123@gmail.com</td>\n",
        "      <td> 2015-12-23 13:13:34 +0200</td>\n",
        "    </tr>\n",
        "    <tr>\n",
        "      <th>7   </th>\n",
        "      <td>     nayera_fadel@hotmail.com</td>\n",
        "      <td> 2015-12-23 13:11:55 +0200</td>\n",
        "    </tr>\n",
        "    <tr>\n",
        "      <th>8   </th>\n",
        "      <td>        raoufzdn553@gmail.com</td>\n",
        "      <td> 2015-12-23 13:03:10 +0200</td>\n",
        "    </tr>\n",
        "    <tr>\n",
        "      <th>9   </th>\n",
        "      <td>       gaylynmbogho@yahoo.com</td>\n",
        "      <td> 2015-12-23 12:45:22 +0200</td>\n",
        "    </tr>\n",
        "    <tr>\n",
        "      <th>10  </th>\n",
        "      <td>         oshahavi13@gmail.com</td>\n",
        "      <td> 2015-12-23 12:01:41 +0200</td>\n",
        "    </tr>\n",
        "    <tr>\n",
        "      <th>11  </th>\n",
        "      <td>         Daiieldeeb@gmail.com</td>\n",
        "      <td> 2015-12-23 11:58:37 +0200</td>\n",
        "    </tr>\n",
        "    <tr>\n",
        "      <th>12  </th>\n",
        "      <td>          yara.azam@gmail.com</td>\n",
        "      <td> 2015-12-23 11:33:07 +0200</td>\n",
        "    </tr>\n",
        "    <tr>\n",
        "      <th>13  </th>\n",
        "      <td>        dalia_allam@yahoo.com</td>\n",
        "      <td> 2015-12-23 07:51:44 +0200</td>\n",
        "    </tr>\n",
        "    <tr>\n",
        "      <th>14  </th>\n",
        "      <td>        elhanem52@hotmail.com</td>\n",
        "      <td> 2015-12-23 06:30:43 +0200</td>\n",
        "    </tr>\n",
        "    <tr>\n",
        "      <th>15  </th>\n",
        "      <td>     tarek_seddik@hotmail.com</td>\n",
        "      <td> 2015-12-23 03:30:00 +0200</td>\n",
        "    </tr>\n",
        "    <tr>\n",
        "      <th>16  </th>\n",
        "      <td>      maie.nomrossy@gmail.com</td>\n",
        "      <td> 2015-12-23 01:58:32 +0200</td>\n",
        "    </tr>\n",
        "    <tr>\n",
        "      <th>17  </th>\n",
        "      <td>        hazem.shamy@gmail.com</td>\n",
        "      <td> 2015-12-23 00:08:22 +0200</td>\n",
        "    </tr>\n",
        "    <tr>\n",
        "      <th>18  </th>\n",
        "      <td>       maya.p.nawal@gmail.com</td>\n",
        "      <td> 2015-12-22 20:00:23 +0200</td>\n",
        "    </tr>\n",
        "    <tr>\n",
        "      <th>19  </th>\n",
        "      <td>    jamesmorgan0091@gmail.com</td>\n",
        "      <td> 2015-12-22 19:27:38 +0200</td>\n",
        "    </tr>\n",
        "    <tr>\n",
        "      <th>20  </th>\n",
        "      <td>         israa_s@aucegypt.edu</td>\n",
        "      <td> 2015-12-22 17:46:30 +0200</td>\n",
        "    </tr>\n",
        "    <tr>\n",
        "      <th>21  </th>\n",
        "      <td>       RODY.DOVE123@GMAIL.COM</td>\n",
        "      <td> 2015-12-22 16:53:06 +0200</td>\n",
        "    </tr>\n",
        "    <tr>\n",
        "      <th>22  </th>\n",
        "      <td>       amaghraby@mediawave.me</td>\n",
        "      <td> 2015-12-22 16:22:45 +0200</td>\n",
        "    </tr>\n",
        "    <tr>\n",
        "      <th>23  </th>\n",
        "      <td>       RODY.DOVE123@GMAIL.COM</td>\n",
        "      <td> 2015-12-22 16:04:49 +0200</td>\n",
        "    </tr>\n",
        "    <tr>\n",
        "      <th>24  </th>\n",
        "      <td>          hibba_b@hotmail.com</td>\n",
        "      <td> 2015-12-22 15:25:38 +0200</td>\n",
        "    </tr>\n",
        "    <tr>\n",
        "      <th>25  </th>\n",
        "      <td>       pascalenader@gmail.com</td>\n",
        "      <td> 2015-12-22 15:04:15 +0200</td>\n",
        "    </tr>\n",
        "    <tr>\n",
        "      <th>26  </th>\n",
        "      <td>       doaa.khattab@gmail.com</td>\n",
        "      <td> 2015-12-22 14:08:12 +0200</td>\n",
        "    </tr>\n",
        "    <tr>\n",
        "      <th>27  </th>\n",
        "      <td>       sunset_456@hotmail.com</td>\n",
        "      <td> 2015-12-22 13:26:21 +0200</td>\n",
        "    </tr>\n",
        "    <tr>\n",
        "      <th>28  </th>\n",
        "      <td>   colleen_lovely@hotmail.com</td>\n",
        "      <td> 2015-12-22 13:05:56 +0200</td>\n",
        "    </tr>\n",
        "    <tr>\n",
        "      <th>29  </th>\n",
        "      <td>             imrhazi@yahoo.fr</td>\n",
        "      <td> 2015-12-22 12:33:47 +0200</td>\n",
        "    </tr>\n",
        "    <tr>\n",
        "      <th>...</th>\n",
        "      <td>...</td>\n",
        "      <td>...</td>\n",
        "    </tr>\n",
        "    <tr>\n",
        "      <th>9308</th>\n",
        "      <td>       mireilleamin@yahoo.com</td>\n",
        "      <td> 2012-07-09 19:47:33 +0200</td>\n",
        "    </tr>\n",
        "    <tr>\n",
        "      <th>9309</th>\n",
        "      <td>   Ihab.derias@laroche.com.eg</td>\n",
        "      <td> 2012-07-09 19:35:28 +0200</td>\n",
        "    </tr>\n",
        "    <tr>\n",
        "      <th>9310</th>\n",
        "      <td>         Adhamada@hotmail.com</td>\n",
        "      <td> 2012-07-09 19:13:13 +0200</td>\n",
        "    </tr>\n",
        "    <tr>\n",
        "      <th>9311</th>\n",
        "      <td>     houssam.elokda@gmail.com</td>\n",
        "      <td> 2012-07-09 18:37:57 +0200</td>\n",
        "    </tr>\n",
        "    <tr>\n",
        "      <th>9312</th>\n",
        "      <td>          Hania7894@gmail.com</td>\n",
        "      <td> 2012-07-09 15:44:37 +0200</td>\n",
        "    </tr>\n",
        "    <tr>\n",
        "      <th>9313</th>\n",
        "      <td>          Hania7894@gmail.com</td>\n",
        "      <td> 2012-07-09 13:00:57 +0200</td>\n",
        "    </tr>\n",
        "    <tr>\n",
        "      <th>9314</th>\n",
        "      <td>            Mamazzz@gmail.com</td>\n",
        "      <td> 2012-07-08 20:09:22 +0200</td>\n",
        "    </tr>\n",
        "    <tr>\n",
        "      <th>9315</th>\n",
        "      <td>            asony11@yahoo.com</td>\n",
        "      <td> 2012-07-08 19:54:07 +0200</td>\n",
        "    </tr>\n",
        "    <tr>\n",
        "      <th>9316</th>\n",
        "      <td>      salwa_saiid@hotmail.com</td>\n",
        "      <td> 2012-07-08 16:48:00 +0200</td>\n",
        "    </tr>\n",
        "    <tr>\n",
        "      <th>9317</th>\n",
        "      <td> djamila.benderbous@gmail.com</td>\n",
        "      <td> 2012-07-07 19:24:42 +0200</td>\n",
        "    </tr>\n",
        "    <tr>\n",
        "      <th>9318</th>\n",
        "      <td>      milomilogindi@yahoo.com</td>\n",
        "      <td> 2012-07-05 16:16:06 +0200</td>\n",
        "    </tr>\n",
        "    <tr>\n",
        "      <th>9319</th>\n",
        "      <td>     raghebelgammal@yahoo.com</td>\n",
        "      <td> 2012-07-05 14:51:21 +0200</td>\n",
        "    </tr>\n",
        "    <tr>\n",
        "      <th>9320</th>\n",
        "      <td>      t_el_gammal@hotmail.com</td>\n",
        "      <td> 2012-07-04 14:23:49 +0200</td>\n",
        "    </tr>\n",
        "    <tr>\n",
        "      <th>9321</th>\n",
        "      <td>       lik-novikova@yandex.ru</td>\n",
        "      <td> 2012-07-01 15:43:57 +0200</td>\n",
        "    </tr>\n",
        "    <tr>\n",
        "      <th>9322</th>\n",
        "      <td>        fairymaid82@yahoo.com</td>\n",
        "      <td> 2012-06-13 07:49:54 +0200</td>\n",
        "    </tr>\n",
        "    <tr>\n",
        "      <th>9323</th>\n",
        "      <td>      milomilogindi@yahoo.com</td>\n",
        "      <td> 2012-06-06 22:01:30 +0200</td>\n",
        "    </tr>\n",
        "    <tr>\n",
        "      <th>9324</th>\n",
        "      <td>      t_el_gammal@hotmail.com</td>\n",
        "      <td> 2012-06-06 20:58:05 +0200</td>\n",
        "    </tr>\n",
        "    <tr>\n",
        "      <th>9325</th>\n",
        "      <td>      t_el_gammal@hotmail.com</td>\n",
        "      <td> 2012-05-29 02:03:55 +0200</td>\n",
        "    </tr>\n",
        "    <tr>\n",
        "      <th>9326</th>\n",
        "      <td>       lik-novikova@yandex.ru</td>\n",
        "      <td> 2012-05-27 19:51:45 +0200</td>\n",
        "    </tr>\n",
        "    <tr>\n",
        "      <th>9327</th>\n",
        "      <td>             Biro5s@yahoo.com</td>\n",
        "      <td> 2012-05-25 19:04:29 +0200</td>\n",
        "    </tr>\n",
        "    <tr>\n",
        "      <th>9328</th>\n",
        "      <td>         nini.etoile@voila.fr</td>\n",
        "      <td> 2012-05-21 16:11:42 +0200</td>\n",
        "    </tr>\n",
        "    <tr>\n",
        "      <th>9329</th>\n",
        "      <td>       lik-novikova@yandex.ru</td>\n",
        "      <td> 2012-05-21 16:11:25 +0200</td>\n",
        "    </tr>\n",
        "    <tr>\n",
        "      <th>9330</th>\n",
        "      <td>          bettyhedrich@gmx.de</td>\n",
        "      <td> 2012-05-18 18:08:41 +0200</td>\n",
        "    </tr>\n",
        "    <tr>\n",
        "      <th>9331</th>\n",
        "      <td>                rulah@msn.com</td>\n",
        "      <td> 2012-05-10 19:36:02 +0200</td>\n",
        "    </tr>\n",
        "    <tr>\n",
        "      <th>9332</th>\n",
        "      <td>          milda_b@hotmail.com</td>\n",
        "      <td> 2012-05-08 13:52:24 +0200</td>\n",
        "    </tr>\n",
        "    <tr>\n",
        "      <th>9333</th>\n",
        "      <td>          bente.ring@yahoo.no</td>\n",
        "      <td> 2012-05-08 13:20:05 +0200</td>\n",
        "    </tr>\n",
        "    <tr>\n",
        "      <th>9334</th>\n",
        "      <td>          bente.ring@yahoo.no</td>\n",
        "      <td> 2012-05-07 10:49:42 +0200</td>\n",
        "    </tr>\n",
        "    <tr>\n",
        "      <th>9335</th>\n",
        "      <td>       lik-novikova@yandex.ru</td>\n",
        "      <td> 2012-05-03 11:34:14 +0200</td>\n",
        "    </tr>\n",
        "    <tr>\n",
        "      <th>9336</th>\n",
        "      <td>          bente.ring@yahoo.no</td>\n",
        "      <td> 2012-05-02 17:38:40 +0200</td>\n",
        "    </tr>\n",
        "    <tr>\n",
        "      <th>9337</th>\n",
        "      <td>         cathypod@hotmail.com</td>\n",
        "      <td> 2012-05-01 22:08:45 +0200</td>\n",
        "    </tr>\n",
        "  </tbody>\n",
        "</table>\n",
        "<p>9338 rows \u00d7 2 columns</p>\n",
        "</div>"
       ],
       "metadata": {},
       "output_type": "pyout",
       "prompt_number": 2,
       "text": [
        "                             Email                       Date\n",
        "0           rehabmansour@gmail.com  2015-12-23 20:33:51 +0200\n",
        "1              nabouheif@yahoo.com  2015-12-23 20:00:17 +0200\n",
        "2           fracicardi@hotmail.com  2015-12-23 18:36:17 +0200\n",
        "3           ahmed.fakhry@gmail.com  2015-12-23 16:06:49 +0200\n",
        "4           ahmed.fakhry@gmail.com  2015-12-23 16:01:32 +0200\n",
        "5             Missilou11@yahoo.com  2015-12-23 14:25:09 +0200\n",
        "6          sallysalem123@gmail.com  2015-12-23 13:13:34 +0200\n",
        "7         nayera_fadel@hotmail.com  2015-12-23 13:11:55 +0200\n",
        "8            raoufzdn553@gmail.com  2015-12-23 13:03:10 +0200\n",
        "9           gaylynmbogho@yahoo.com  2015-12-23 12:45:22 +0200\n",
        "10            oshahavi13@gmail.com  2015-12-23 12:01:41 +0200\n",
        "11            Daiieldeeb@gmail.com  2015-12-23 11:58:37 +0200\n",
        "12             yara.azam@gmail.com  2015-12-23 11:33:07 +0200\n",
        "13           dalia_allam@yahoo.com  2015-12-23 07:51:44 +0200\n",
        "14           elhanem52@hotmail.com  2015-12-23 06:30:43 +0200\n",
        "15        tarek_seddik@hotmail.com  2015-12-23 03:30:00 +0200\n",
        "16         maie.nomrossy@gmail.com  2015-12-23 01:58:32 +0200\n",
        "17           hazem.shamy@gmail.com  2015-12-23 00:08:22 +0200\n",
        "18          maya.p.nawal@gmail.com  2015-12-22 20:00:23 +0200\n",
        "19       jamesmorgan0091@gmail.com  2015-12-22 19:27:38 +0200\n",
        "20            israa_s@aucegypt.edu  2015-12-22 17:46:30 +0200\n",
        "21          RODY.DOVE123@GMAIL.COM  2015-12-22 16:53:06 +0200\n",
        "22          amaghraby@mediawave.me  2015-12-22 16:22:45 +0200\n",
        "23          RODY.DOVE123@GMAIL.COM  2015-12-22 16:04:49 +0200\n",
        "24             hibba_b@hotmail.com  2015-12-22 15:25:38 +0200\n",
        "25          pascalenader@gmail.com  2015-12-22 15:04:15 +0200\n",
        "26          doaa.khattab@gmail.com  2015-12-22 14:08:12 +0200\n",
        "27          sunset_456@hotmail.com  2015-12-22 13:26:21 +0200\n",
        "28      colleen_lovely@hotmail.com  2015-12-22 13:05:56 +0200\n",
        "29                imrhazi@yahoo.fr  2015-12-22 12:33:47 +0200\n",
        "...                            ...                        ...\n",
        "9308        mireilleamin@yahoo.com  2012-07-09 19:47:33 +0200\n",
        "9309    Ihab.derias@laroche.com.eg  2012-07-09 19:35:28 +0200\n",
        "9310          Adhamada@hotmail.com  2012-07-09 19:13:13 +0200\n",
        "9311      houssam.elokda@gmail.com  2012-07-09 18:37:57 +0200\n",
        "9312           Hania7894@gmail.com  2012-07-09 15:44:37 +0200\n",
        "9313           Hania7894@gmail.com  2012-07-09 13:00:57 +0200\n",
        "9314             Mamazzz@gmail.com  2012-07-08 20:09:22 +0200\n",
        "9315             asony11@yahoo.com  2012-07-08 19:54:07 +0200\n",
        "9316       salwa_saiid@hotmail.com  2012-07-08 16:48:00 +0200\n",
        "9317  djamila.benderbous@gmail.com  2012-07-07 19:24:42 +0200\n",
        "9318       milomilogindi@yahoo.com  2012-07-05 16:16:06 +0200\n",
        "9319      raghebelgammal@yahoo.com  2012-07-05 14:51:21 +0200\n",
        "9320       t_el_gammal@hotmail.com  2012-07-04 14:23:49 +0200\n",
        "9321        lik-novikova@yandex.ru  2012-07-01 15:43:57 +0200\n",
        "9322         fairymaid82@yahoo.com  2012-06-13 07:49:54 +0200\n",
        "9323       milomilogindi@yahoo.com  2012-06-06 22:01:30 +0200\n",
        "9324       t_el_gammal@hotmail.com  2012-06-06 20:58:05 +0200\n",
        "9325       t_el_gammal@hotmail.com  2012-05-29 02:03:55 +0200\n",
        "9326        lik-novikova@yandex.ru  2012-05-27 19:51:45 +0200\n",
        "9327              Biro5s@yahoo.com  2012-05-25 19:04:29 +0200\n",
        "9328          nini.etoile@voila.fr  2012-05-21 16:11:42 +0200\n",
        "9329        lik-novikova@yandex.ru  2012-05-21 16:11:25 +0200\n",
        "9330           bettyhedrich@gmx.de  2012-05-18 18:08:41 +0200\n",
        "9331                 rulah@msn.com  2012-05-10 19:36:02 +0200\n",
        "9332           milda_b@hotmail.com  2012-05-08 13:52:24 +0200\n",
        "9333           bente.ring@yahoo.no  2012-05-08 13:20:05 +0200\n",
        "9334           bente.ring@yahoo.no  2012-05-07 10:49:42 +0200\n",
        "9335        lik-novikova@yandex.ru  2012-05-03 11:34:14 +0200\n",
        "9336           bente.ring@yahoo.no  2012-05-02 17:38:40 +0200\n",
        "9337          cathypod@hotmail.com  2012-05-01 22:08:45 +0200\n",
        "\n",
        "[9338 rows x 2 columns]"
       ]
      }
     ],
     "prompt_number": 2
    },
    {
     "cell_type": "code",
     "collapsed": false,
     "input": [
      "df1['Date'] = df1.Date.apply(getDate)\n",
      "\n",
      "df1=df1.drop_duplicates().reset_index().drop('index',1)\n",
      "df1"
     ],
     "language": "python",
     "metadata": {},
     "outputs": [
      {
       "html": [
        "<div style=\"max-height:1000px;max-width:1500px;overflow:auto;\">\n",
        "<table border=\"1\" class=\"dataframe\">\n",
        "  <thead>\n",
        "    <tr style=\"text-align: right;\">\n",
        "      <th></th>\n",
        "      <th>Email</th>\n",
        "      <th>Date</th>\n",
        "    </tr>\n",
        "  </thead>\n",
        "  <tbody>\n",
        "    <tr>\n",
        "      <th>0   </th>\n",
        "      <td>       rehabmansour@gmail.com</td>\n",
        "      <td> 2015-12-23</td>\n",
        "    </tr>\n",
        "    <tr>\n",
        "      <th>1   </th>\n",
        "      <td>          nabouheif@yahoo.com</td>\n",
        "      <td> 2015-12-23</td>\n",
        "    </tr>\n",
        "    <tr>\n",
        "      <th>2   </th>\n",
        "      <td>       fracicardi@hotmail.com</td>\n",
        "      <td> 2015-12-23</td>\n",
        "    </tr>\n",
        "    <tr>\n",
        "      <th>3   </th>\n",
        "      <td>       ahmed.fakhry@gmail.com</td>\n",
        "      <td> 2015-12-23</td>\n",
        "    </tr>\n",
        "    <tr>\n",
        "      <th>4   </th>\n",
        "      <td>         Missilou11@yahoo.com</td>\n",
        "      <td> 2015-12-23</td>\n",
        "    </tr>\n",
        "    <tr>\n",
        "      <th>5   </th>\n",
        "      <td>      sallysalem123@gmail.com</td>\n",
        "      <td> 2015-12-23</td>\n",
        "    </tr>\n",
        "    <tr>\n",
        "      <th>6   </th>\n",
        "      <td>     nayera_fadel@hotmail.com</td>\n",
        "      <td> 2015-12-23</td>\n",
        "    </tr>\n",
        "    <tr>\n",
        "      <th>7   </th>\n",
        "      <td>        raoufzdn553@gmail.com</td>\n",
        "      <td> 2015-12-23</td>\n",
        "    </tr>\n",
        "    <tr>\n",
        "      <th>8   </th>\n",
        "      <td>       gaylynmbogho@yahoo.com</td>\n",
        "      <td> 2015-12-23</td>\n",
        "    </tr>\n",
        "    <tr>\n",
        "      <th>9   </th>\n",
        "      <td>         oshahavi13@gmail.com</td>\n",
        "      <td> 2015-12-23</td>\n",
        "    </tr>\n",
        "    <tr>\n",
        "      <th>10  </th>\n",
        "      <td>         Daiieldeeb@gmail.com</td>\n",
        "      <td> 2015-12-23</td>\n",
        "    </tr>\n",
        "    <tr>\n",
        "      <th>11  </th>\n",
        "      <td>          yara.azam@gmail.com</td>\n",
        "      <td> 2015-12-23</td>\n",
        "    </tr>\n",
        "    <tr>\n",
        "      <th>12  </th>\n",
        "      <td>        dalia_allam@yahoo.com</td>\n",
        "      <td> 2015-12-23</td>\n",
        "    </tr>\n",
        "    <tr>\n",
        "      <th>13  </th>\n",
        "      <td>        elhanem52@hotmail.com</td>\n",
        "      <td> 2015-12-23</td>\n",
        "    </tr>\n",
        "    <tr>\n",
        "      <th>14  </th>\n",
        "      <td>     tarek_seddik@hotmail.com</td>\n",
        "      <td> 2015-12-23</td>\n",
        "    </tr>\n",
        "    <tr>\n",
        "      <th>15  </th>\n",
        "      <td>      maie.nomrossy@gmail.com</td>\n",
        "      <td> 2015-12-23</td>\n",
        "    </tr>\n",
        "    <tr>\n",
        "      <th>16  </th>\n",
        "      <td>        hazem.shamy@gmail.com</td>\n",
        "      <td> 2015-12-23</td>\n",
        "    </tr>\n",
        "    <tr>\n",
        "      <th>17  </th>\n",
        "      <td>       maya.p.nawal@gmail.com</td>\n",
        "      <td> 2015-12-22</td>\n",
        "    </tr>\n",
        "    <tr>\n",
        "      <th>18  </th>\n",
        "      <td>    jamesmorgan0091@gmail.com</td>\n",
        "      <td> 2015-12-22</td>\n",
        "    </tr>\n",
        "    <tr>\n",
        "      <th>19  </th>\n",
        "      <td>         israa_s@aucegypt.edu</td>\n",
        "      <td> 2015-12-22</td>\n",
        "    </tr>\n",
        "    <tr>\n",
        "      <th>20  </th>\n",
        "      <td>       RODY.DOVE123@GMAIL.COM</td>\n",
        "      <td> 2015-12-22</td>\n",
        "    </tr>\n",
        "    <tr>\n",
        "      <th>21  </th>\n",
        "      <td>       amaghraby@mediawave.me</td>\n",
        "      <td> 2015-12-22</td>\n",
        "    </tr>\n",
        "    <tr>\n",
        "      <th>22  </th>\n",
        "      <td>          hibba_b@hotmail.com</td>\n",
        "      <td> 2015-12-22</td>\n",
        "    </tr>\n",
        "    <tr>\n",
        "      <th>23  </th>\n",
        "      <td>       pascalenader@gmail.com</td>\n",
        "      <td> 2015-12-22</td>\n",
        "    </tr>\n",
        "    <tr>\n",
        "      <th>24  </th>\n",
        "      <td>       doaa.khattab@gmail.com</td>\n",
        "      <td> 2015-12-22</td>\n",
        "    </tr>\n",
        "    <tr>\n",
        "      <th>25  </th>\n",
        "      <td>       sunset_456@hotmail.com</td>\n",
        "      <td> 2015-12-22</td>\n",
        "    </tr>\n",
        "    <tr>\n",
        "      <th>26  </th>\n",
        "      <td>   colleen_lovely@hotmail.com</td>\n",
        "      <td> 2015-12-22</td>\n",
        "    </tr>\n",
        "    <tr>\n",
        "      <th>27  </th>\n",
        "      <td>             imrhazi@yahoo.fr</td>\n",
        "      <td> 2015-12-22</td>\n",
        "    </tr>\n",
        "    <tr>\n",
        "      <th>28  </th>\n",
        "      <td>    nadyagamaleldin@gmail.com</td>\n",
        "      <td> 2015-12-22</td>\n",
        "    </tr>\n",
        "    <tr>\n",
        "      <th>29  </th>\n",
        "      <td>          engywasfy@gmail.com</td>\n",
        "      <td> 2015-12-22</td>\n",
        "    </tr>\n",
        "    <tr>\n",
        "      <th>...</th>\n",
        "      <td>...</td>\n",
        "      <td>...</td>\n",
        "    </tr>\n",
        "    <tr>\n",
        "      <th>8231</th>\n",
        "      <td>     faridahelmyiba@gmail.com</td>\n",
        "      <td> 2012-07-09</td>\n",
        "    </tr>\n",
        "    <tr>\n",
        "      <th>8232</th>\n",
        "      <td>       mireilleamin@yahoo.com</td>\n",
        "      <td> 2012-07-09</td>\n",
        "    </tr>\n",
        "    <tr>\n",
        "      <th>8233</th>\n",
        "      <td>   Ihab.derias@laroche.com.eg</td>\n",
        "      <td> 2012-07-09</td>\n",
        "    </tr>\n",
        "    <tr>\n",
        "      <th>8234</th>\n",
        "      <td>         Adhamada@hotmail.com</td>\n",
        "      <td> 2012-07-09</td>\n",
        "    </tr>\n",
        "    <tr>\n",
        "      <th>8235</th>\n",
        "      <td>     houssam.elokda@gmail.com</td>\n",
        "      <td> 2012-07-09</td>\n",
        "    </tr>\n",
        "    <tr>\n",
        "      <th>8236</th>\n",
        "      <td>          Hania7894@gmail.com</td>\n",
        "      <td> 2012-07-09</td>\n",
        "    </tr>\n",
        "    <tr>\n",
        "      <th>8237</th>\n",
        "      <td>            Mamazzz@gmail.com</td>\n",
        "      <td> 2012-07-08</td>\n",
        "    </tr>\n",
        "    <tr>\n",
        "      <th>8238</th>\n",
        "      <td>            asony11@yahoo.com</td>\n",
        "      <td> 2012-07-08</td>\n",
        "    </tr>\n",
        "    <tr>\n",
        "      <th>8239</th>\n",
        "      <td>      salwa_saiid@hotmail.com</td>\n",
        "      <td> 2012-07-08</td>\n",
        "    </tr>\n",
        "    <tr>\n",
        "      <th>8240</th>\n",
        "      <td> djamila.benderbous@gmail.com</td>\n",
        "      <td> 2012-07-07</td>\n",
        "    </tr>\n",
        "    <tr>\n",
        "      <th>8241</th>\n",
        "      <td>      milomilogindi@yahoo.com</td>\n",
        "      <td> 2012-07-05</td>\n",
        "    </tr>\n",
        "    <tr>\n",
        "      <th>8242</th>\n",
        "      <td>     raghebelgammal@yahoo.com</td>\n",
        "      <td> 2012-07-05</td>\n",
        "    </tr>\n",
        "    <tr>\n",
        "      <th>8243</th>\n",
        "      <td>      t_el_gammal@hotmail.com</td>\n",
        "      <td> 2012-07-04</td>\n",
        "    </tr>\n",
        "    <tr>\n",
        "      <th>8244</th>\n",
        "      <td>       lik-novikova@yandex.ru</td>\n",
        "      <td> 2012-07-01</td>\n",
        "    </tr>\n",
        "    <tr>\n",
        "      <th>8245</th>\n",
        "      <td>        fairymaid82@yahoo.com</td>\n",
        "      <td> 2012-06-13</td>\n",
        "    </tr>\n",
        "    <tr>\n",
        "      <th>8246</th>\n",
        "      <td>      milomilogindi@yahoo.com</td>\n",
        "      <td> 2012-06-06</td>\n",
        "    </tr>\n",
        "    <tr>\n",
        "      <th>8247</th>\n",
        "      <td>      t_el_gammal@hotmail.com</td>\n",
        "      <td> 2012-06-06</td>\n",
        "    </tr>\n",
        "    <tr>\n",
        "      <th>8248</th>\n",
        "      <td>      t_el_gammal@hotmail.com</td>\n",
        "      <td> 2012-05-29</td>\n",
        "    </tr>\n",
        "    <tr>\n",
        "      <th>8249</th>\n",
        "      <td>       lik-novikova@yandex.ru</td>\n",
        "      <td> 2012-05-27</td>\n",
        "    </tr>\n",
        "    <tr>\n",
        "      <th>8250</th>\n",
        "      <td>             Biro5s@yahoo.com</td>\n",
        "      <td> 2012-05-25</td>\n",
        "    </tr>\n",
        "    <tr>\n",
        "      <th>8251</th>\n",
        "      <td>         nini.etoile@voila.fr</td>\n",
        "      <td> 2012-05-21</td>\n",
        "    </tr>\n",
        "    <tr>\n",
        "      <th>8252</th>\n",
        "      <td>       lik-novikova@yandex.ru</td>\n",
        "      <td> 2012-05-21</td>\n",
        "    </tr>\n",
        "    <tr>\n",
        "      <th>8253</th>\n",
        "      <td>          bettyhedrich@gmx.de</td>\n",
        "      <td> 2012-05-18</td>\n",
        "    </tr>\n",
        "    <tr>\n",
        "      <th>8254</th>\n",
        "      <td>                rulah@msn.com</td>\n",
        "      <td> 2012-05-10</td>\n",
        "    </tr>\n",
        "    <tr>\n",
        "      <th>8255</th>\n",
        "      <td>          milda_b@hotmail.com</td>\n",
        "      <td> 2012-05-08</td>\n",
        "    </tr>\n",
        "    <tr>\n",
        "      <th>8256</th>\n",
        "      <td>          bente.ring@yahoo.no</td>\n",
        "      <td> 2012-05-08</td>\n",
        "    </tr>\n",
        "    <tr>\n",
        "      <th>8257</th>\n",
        "      <td>          bente.ring@yahoo.no</td>\n",
        "      <td> 2012-05-07</td>\n",
        "    </tr>\n",
        "    <tr>\n",
        "      <th>8258</th>\n",
        "      <td>       lik-novikova@yandex.ru</td>\n",
        "      <td> 2012-05-03</td>\n",
        "    </tr>\n",
        "    <tr>\n",
        "      <th>8259</th>\n",
        "      <td>          bente.ring@yahoo.no</td>\n",
        "      <td> 2012-05-02</td>\n",
        "    </tr>\n",
        "    <tr>\n",
        "      <th>8260</th>\n",
        "      <td>         cathypod@hotmail.com</td>\n",
        "      <td> 2012-05-01</td>\n",
        "    </tr>\n",
        "  </tbody>\n",
        "</table>\n",
        "<p>8261 rows \u00d7 2 columns</p>\n",
        "</div>"
       ],
       "metadata": {},
       "output_type": "pyout",
       "prompt_number": 3,
       "text": [
        "                             Email        Date\n",
        "0           rehabmansour@gmail.com  2015-12-23\n",
        "1              nabouheif@yahoo.com  2015-12-23\n",
        "2           fracicardi@hotmail.com  2015-12-23\n",
        "3           ahmed.fakhry@gmail.com  2015-12-23\n",
        "4             Missilou11@yahoo.com  2015-12-23\n",
        "5          sallysalem123@gmail.com  2015-12-23\n",
        "6         nayera_fadel@hotmail.com  2015-12-23\n",
        "7            raoufzdn553@gmail.com  2015-12-23\n",
        "8           gaylynmbogho@yahoo.com  2015-12-23\n",
        "9             oshahavi13@gmail.com  2015-12-23\n",
        "10            Daiieldeeb@gmail.com  2015-12-23\n",
        "11             yara.azam@gmail.com  2015-12-23\n",
        "12           dalia_allam@yahoo.com  2015-12-23\n",
        "13           elhanem52@hotmail.com  2015-12-23\n",
        "14        tarek_seddik@hotmail.com  2015-12-23\n",
        "15         maie.nomrossy@gmail.com  2015-12-23\n",
        "16           hazem.shamy@gmail.com  2015-12-23\n",
        "17          maya.p.nawal@gmail.com  2015-12-22\n",
        "18       jamesmorgan0091@gmail.com  2015-12-22\n",
        "19            israa_s@aucegypt.edu  2015-12-22\n",
        "20          RODY.DOVE123@GMAIL.COM  2015-12-22\n",
        "21          amaghraby@mediawave.me  2015-12-22\n",
        "22             hibba_b@hotmail.com  2015-12-22\n",
        "23          pascalenader@gmail.com  2015-12-22\n",
        "24          doaa.khattab@gmail.com  2015-12-22\n",
        "25          sunset_456@hotmail.com  2015-12-22\n",
        "26      colleen_lovely@hotmail.com  2015-12-22\n",
        "27                imrhazi@yahoo.fr  2015-12-22\n",
        "28       nadyagamaleldin@gmail.com  2015-12-22\n",
        "29             engywasfy@gmail.com  2015-12-22\n",
        "...                            ...         ...\n",
        "8231      faridahelmyiba@gmail.com  2012-07-09\n",
        "8232        mireilleamin@yahoo.com  2012-07-09\n",
        "8233    Ihab.derias@laroche.com.eg  2012-07-09\n",
        "8234          Adhamada@hotmail.com  2012-07-09\n",
        "8235      houssam.elokda@gmail.com  2012-07-09\n",
        "8236           Hania7894@gmail.com  2012-07-09\n",
        "8237             Mamazzz@gmail.com  2012-07-08\n",
        "8238             asony11@yahoo.com  2012-07-08\n",
        "8239       salwa_saiid@hotmail.com  2012-07-08\n",
        "8240  djamila.benderbous@gmail.com  2012-07-07\n",
        "8241       milomilogindi@yahoo.com  2012-07-05\n",
        "8242      raghebelgammal@yahoo.com  2012-07-05\n",
        "8243       t_el_gammal@hotmail.com  2012-07-04\n",
        "8244        lik-novikova@yandex.ru  2012-07-01\n",
        "8245         fairymaid82@yahoo.com  2012-06-13\n",
        "8246       milomilogindi@yahoo.com  2012-06-06\n",
        "8247       t_el_gammal@hotmail.com  2012-06-06\n",
        "8248       t_el_gammal@hotmail.com  2012-05-29\n",
        "8249        lik-novikova@yandex.ru  2012-05-27\n",
        "8250              Biro5s@yahoo.com  2012-05-25\n",
        "8251          nini.etoile@voila.fr  2012-05-21\n",
        "8252        lik-novikova@yandex.ru  2012-05-21\n",
        "8253           bettyhedrich@gmx.de  2012-05-18\n",
        "8254                 rulah@msn.com  2012-05-10\n",
        "8255           milda_b@hotmail.com  2012-05-08\n",
        "8256           bente.ring@yahoo.no  2012-05-08\n",
        "8257           bente.ring@yahoo.no  2012-05-07\n",
        "8258        lik-novikova@yandex.ru  2012-05-03\n",
        "8259           bente.ring@yahoo.no  2012-05-02\n",
        "8260          cathypod@hotmail.com  2012-05-01\n",
        "\n",
        "[8261 rows x 2 columns]"
       ]
      }
     ],
     "prompt_number": 3
    },
    {
     "cell_type": "code",
     "collapsed": false,
     "input": [
      "#get today's date in datetime format\n",
      "today = pd.to_datetime(datetime.strptime(time.strftime(\"%Y-%m-%d\"), '%Y-%m-%d')).date()\n",
      "\n",
      "df1['Days'] = df1.Date.apply(diffDates)\n",
      "df1"
     ],
     "language": "python",
     "metadata": {},
     "outputs": [
      {
       "html": [
        "<div style=\"max-height:1000px;max-width:1500px;overflow:auto;\">\n",
        "<table border=\"1\" class=\"dataframe\">\n",
        "  <thead>\n",
        "    <tr style=\"text-align: right;\">\n",
        "      <th></th>\n",
        "      <th>Email</th>\n",
        "      <th>Date</th>\n",
        "      <th>Days</th>\n",
        "    </tr>\n",
        "  </thead>\n",
        "  <tbody>\n",
        "    <tr>\n",
        "      <th>0   </th>\n",
        "      <td>       rehabmansour@gmail.com</td>\n",
        "      <td> 2015-12-23</td>\n",
        "      <td>    1</td>\n",
        "    </tr>\n",
        "    <tr>\n",
        "      <th>1   </th>\n",
        "      <td>          nabouheif@yahoo.com</td>\n",
        "      <td> 2015-12-23</td>\n",
        "      <td>    1</td>\n",
        "    </tr>\n",
        "    <tr>\n",
        "      <th>2   </th>\n",
        "      <td>       fracicardi@hotmail.com</td>\n",
        "      <td> 2015-12-23</td>\n",
        "      <td>    1</td>\n",
        "    </tr>\n",
        "    <tr>\n",
        "      <th>3   </th>\n",
        "      <td>       ahmed.fakhry@gmail.com</td>\n",
        "      <td> 2015-12-23</td>\n",
        "      <td>    1</td>\n",
        "    </tr>\n",
        "    <tr>\n",
        "      <th>4   </th>\n",
        "      <td>         Missilou11@yahoo.com</td>\n",
        "      <td> 2015-12-23</td>\n",
        "      <td>    1</td>\n",
        "    </tr>\n",
        "    <tr>\n",
        "      <th>5   </th>\n",
        "      <td>      sallysalem123@gmail.com</td>\n",
        "      <td> 2015-12-23</td>\n",
        "      <td>    1</td>\n",
        "    </tr>\n",
        "    <tr>\n",
        "      <th>6   </th>\n",
        "      <td>     nayera_fadel@hotmail.com</td>\n",
        "      <td> 2015-12-23</td>\n",
        "      <td>    1</td>\n",
        "    </tr>\n",
        "    <tr>\n",
        "      <th>7   </th>\n",
        "      <td>        raoufzdn553@gmail.com</td>\n",
        "      <td> 2015-12-23</td>\n",
        "      <td>    1</td>\n",
        "    </tr>\n",
        "    <tr>\n",
        "      <th>8   </th>\n",
        "      <td>       gaylynmbogho@yahoo.com</td>\n",
        "      <td> 2015-12-23</td>\n",
        "      <td>    1</td>\n",
        "    </tr>\n",
        "    <tr>\n",
        "      <th>9   </th>\n",
        "      <td>         oshahavi13@gmail.com</td>\n",
        "      <td> 2015-12-23</td>\n",
        "      <td>    1</td>\n",
        "    </tr>\n",
        "    <tr>\n",
        "      <th>10  </th>\n",
        "      <td>         Daiieldeeb@gmail.com</td>\n",
        "      <td> 2015-12-23</td>\n",
        "      <td>    1</td>\n",
        "    </tr>\n",
        "    <tr>\n",
        "      <th>11  </th>\n",
        "      <td>          yara.azam@gmail.com</td>\n",
        "      <td> 2015-12-23</td>\n",
        "      <td>    1</td>\n",
        "    </tr>\n",
        "    <tr>\n",
        "      <th>12  </th>\n",
        "      <td>        dalia_allam@yahoo.com</td>\n",
        "      <td> 2015-12-23</td>\n",
        "      <td>    1</td>\n",
        "    </tr>\n",
        "    <tr>\n",
        "      <th>13  </th>\n",
        "      <td>        elhanem52@hotmail.com</td>\n",
        "      <td> 2015-12-23</td>\n",
        "      <td>    1</td>\n",
        "    </tr>\n",
        "    <tr>\n",
        "      <th>14  </th>\n",
        "      <td>     tarek_seddik@hotmail.com</td>\n",
        "      <td> 2015-12-23</td>\n",
        "      <td>    1</td>\n",
        "    </tr>\n",
        "    <tr>\n",
        "      <th>15  </th>\n",
        "      <td>      maie.nomrossy@gmail.com</td>\n",
        "      <td> 2015-12-23</td>\n",
        "      <td>    1</td>\n",
        "    </tr>\n",
        "    <tr>\n",
        "      <th>16  </th>\n",
        "      <td>        hazem.shamy@gmail.com</td>\n",
        "      <td> 2015-12-23</td>\n",
        "      <td>    1</td>\n",
        "    </tr>\n",
        "    <tr>\n",
        "      <th>17  </th>\n",
        "      <td>       maya.p.nawal@gmail.com</td>\n",
        "      <td> 2015-12-22</td>\n",
        "      <td>    2</td>\n",
        "    </tr>\n",
        "    <tr>\n",
        "      <th>18  </th>\n",
        "      <td>    jamesmorgan0091@gmail.com</td>\n",
        "      <td> 2015-12-22</td>\n",
        "      <td>    2</td>\n",
        "    </tr>\n",
        "    <tr>\n",
        "      <th>19  </th>\n",
        "      <td>         israa_s@aucegypt.edu</td>\n",
        "      <td> 2015-12-22</td>\n",
        "      <td>    2</td>\n",
        "    </tr>\n",
        "    <tr>\n",
        "      <th>20  </th>\n",
        "      <td>       RODY.DOVE123@GMAIL.COM</td>\n",
        "      <td> 2015-12-22</td>\n",
        "      <td>    2</td>\n",
        "    </tr>\n",
        "    <tr>\n",
        "      <th>21  </th>\n",
        "      <td>       amaghraby@mediawave.me</td>\n",
        "      <td> 2015-12-22</td>\n",
        "      <td>    2</td>\n",
        "    </tr>\n",
        "    <tr>\n",
        "      <th>22  </th>\n",
        "      <td>          hibba_b@hotmail.com</td>\n",
        "      <td> 2015-12-22</td>\n",
        "      <td>    2</td>\n",
        "    </tr>\n",
        "    <tr>\n",
        "      <th>23  </th>\n",
        "      <td>       pascalenader@gmail.com</td>\n",
        "      <td> 2015-12-22</td>\n",
        "      <td>    2</td>\n",
        "    </tr>\n",
        "    <tr>\n",
        "      <th>24  </th>\n",
        "      <td>       doaa.khattab@gmail.com</td>\n",
        "      <td> 2015-12-22</td>\n",
        "      <td>    2</td>\n",
        "    </tr>\n",
        "    <tr>\n",
        "      <th>25  </th>\n",
        "      <td>       sunset_456@hotmail.com</td>\n",
        "      <td> 2015-12-22</td>\n",
        "      <td>    2</td>\n",
        "    </tr>\n",
        "    <tr>\n",
        "      <th>26  </th>\n",
        "      <td>   colleen_lovely@hotmail.com</td>\n",
        "      <td> 2015-12-22</td>\n",
        "      <td>    2</td>\n",
        "    </tr>\n",
        "    <tr>\n",
        "      <th>27  </th>\n",
        "      <td>             imrhazi@yahoo.fr</td>\n",
        "      <td> 2015-12-22</td>\n",
        "      <td>    2</td>\n",
        "    </tr>\n",
        "    <tr>\n",
        "      <th>28  </th>\n",
        "      <td>    nadyagamaleldin@gmail.com</td>\n",
        "      <td> 2015-12-22</td>\n",
        "      <td>    2</td>\n",
        "    </tr>\n",
        "    <tr>\n",
        "      <th>29  </th>\n",
        "      <td>          engywasfy@gmail.com</td>\n",
        "      <td> 2015-12-22</td>\n",
        "      <td>    2</td>\n",
        "    </tr>\n",
        "    <tr>\n",
        "      <th>...</th>\n",
        "      <td>...</td>\n",
        "      <td>...</td>\n",
        "      <td>...</td>\n",
        "    </tr>\n",
        "    <tr>\n",
        "      <th>8231</th>\n",
        "      <td>     faridahelmyiba@gmail.com</td>\n",
        "      <td> 2012-07-09</td>\n",
        "      <td> 1263</td>\n",
        "    </tr>\n",
        "    <tr>\n",
        "      <th>8232</th>\n",
        "      <td>       mireilleamin@yahoo.com</td>\n",
        "      <td> 2012-07-09</td>\n",
        "      <td> 1263</td>\n",
        "    </tr>\n",
        "    <tr>\n",
        "      <th>8233</th>\n",
        "      <td>   Ihab.derias@laroche.com.eg</td>\n",
        "      <td> 2012-07-09</td>\n",
        "      <td> 1263</td>\n",
        "    </tr>\n",
        "    <tr>\n",
        "      <th>8234</th>\n",
        "      <td>         Adhamada@hotmail.com</td>\n",
        "      <td> 2012-07-09</td>\n",
        "      <td> 1263</td>\n",
        "    </tr>\n",
        "    <tr>\n",
        "      <th>8235</th>\n",
        "      <td>     houssam.elokda@gmail.com</td>\n",
        "      <td> 2012-07-09</td>\n",
        "      <td> 1263</td>\n",
        "    </tr>\n",
        "    <tr>\n",
        "      <th>8236</th>\n",
        "      <td>          Hania7894@gmail.com</td>\n",
        "      <td> 2012-07-09</td>\n",
        "      <td> 1263</td>\n",
        "    </tr>\n",
        "    <tr>\n",
        "      <th>8237</th>\n",
        "      <td>            Mamazzz@gmail.com</td>\n",
        "      <td> 2012-07-08</td>\n",
        "      <td> 1264</td>\n",
        "    </tr>\n",
        "    <tr>\n",
        "      <th>8238</th>\n",
        "      <td>            asony11@yahoo.com</td>\n",
        "      <td> 2012-07-08</td>\n",
        "      <td> 1264</td>\n",
        "    </tr>\n",
        "    <tr>\n",
        "      <th>8239</th>\n",
        "      <td>      salwa_saiid@hotmail.com</td>\n",
        "      <td> 2012-07-08</td>\n",
        "      <td> 1264</td>\n",
        "    </tr>\n",
        "    <tr>\n",
        "      <th>8240</th>\n",
        "      <td> djamila.benderbous@gmail.com</td>\n",
        "      <td> 2012-07-07</td>\n",
        "      <td> 1265</td>\n",
        "    </tr>\n",
        "    <tr>\n",
        "      <th>8241</th>\n",
        "      <td>      milomilogindi@yahoo.com</td>\n",
        "      <td> 2012-07-05</td>\n",
        "      <td> 1267</td>\n",
        "    </tr>\n",
        "    <tr>\n",
        "      <th>8242</th>\n",
        "      <td>     raghebelgammal@yahoo.com</td>\n",
        "      <td> 2012-07-05</td>\n",
        "      <td> 1267</td>\n",
        "    </tr>\n",
        "    <tr>\n",
        "      <th>8243</th>\n",
        "      <td>      t_el_gammal@hotmail.com</td>\n",
        "      <td> 2012-07-04</td>\n",
        "      <td> 1268</td>\n",
        "    </tr>\n",
        "    <tr>\n",
        "      <th>8244</th>\n",
        "      <td>       lik-novikova@yandex.ru</td>\n",
        "      <td> 2012-07-01</td>\n",
        "      <td> 1271</td>\n",
        "    </tr>\n",
        "    <tr>\n",
        "      <th>8245</th>\n",
        "      <td>        fairymaid82@yahoo.com</td>\n",
        "      <td> 2012-06-13</td>\n",
        "      <td> 1289</td>\n",
        "    </tr>\n",
        "    <tr>\n",
        "      <th>8246</th>\n",
        "      <td>      milomilogindi@yahoo.com</td>\n",
        "      <td> 2012-06-06</td>\n",
        "      <td> 1296</td>\n",
        "    </tr>\n",
        "    <tr>\n",
        "      <th>8247</th>\n",
        "      <td>      t_el_gammal@hotmail.com</td>\n",
        "      <td> 2012-06-06</td>\n",
        "      <td> 1296</td>\n",
        "    </tr>\n",
        "    <tr>\n",
        "      <th>8248</th>\n",
        "      <td>      t_el_gammal@hotmail.com</td>\n",
        "      <td> 2012-05-29</td>\n",
        "      <td> 1304</td>\n",
        "    </tr>\n",
        "    <tr>\n",
        "      <th>8249</th>\n",
        "      <td>       lik-novikova@yandex.ru</td>\n",
        "      <td> 2012-05-27</td>\n",
        "      <td> 1306</td>\n",
        "    </tr>\n",
        "    <tr>\n",
        "      <th>8250</th>\n",
        "      <td>             Biro5s@yahoo.com</td>\n",
        "      <td> 2012-05-25</td>\n",
        "      <td> 1308</td>\n",
        "    </tr>\n",
        "    <tr>\n",
        "      <th>8251</th>\n",
        "      <td>         nini.etoile@voila.fr</td>\n",
        "      <td> 2012-05-21</td>\n",
        "      <td> 1312</td>\n",
        "    </tr>\n",
        "    <tr>\n",
        "      <th>8252</th>\n",
        "      <td>       lik-novikova@yandex.ru</td>\n",
        "      <td> 2012-05-21</td>\n",
        "      <td> 1312</td>\n",
        "    </tr>\n",
        "    <tr>\n",
        "      <th>8253</th>\n",
        "      <td>          bettyhedrich@gmx.de</td>\n",
        "      <td> 2012-05-18</td>\n",
        "      <td> 1315</td>\n",
        "    </tr>\n",
        "    <tr>\n",
        "      <th>8254</th>\n",
        "      <td>                rulah@msn.com</td>\n",
        "      <td> 2012-05-10</td>\n",
        "      <td> 1323</td>\n",
        "    </tr>\n",
        "    <tr>\n",
        "      <th>8255</th>\n",
        "      <td>          milda_b@hotmail.com</td>\n",
        "      <td> 2012-05-08</td>\n",
        "      <td> 1325</td>\n",
        "    </tr>\n",
        "    <tr>\n",
        "      <th>8256</th>\n",
        "      <td>          bente.ring@yahoo.no</td>\n",
        "      <td> 2012-05-08</td>\n",
        "      <td> 1325</td>\n",
        "    </tr>\n",
        "    <tr>\n",
        "      <th>8257</th>\n",
        "      <td>          bente.ring@yahoo.no</td>\n",
        "      <td> 2012-05-07</td>\n",
        "      <td> 1326</td>\n",
        "    </tr>\n",
        "    <tr>\n",
        "      <th>8258</th>\n",
        "      <td>       lik-novikova@yandex.ru</td>\n",
        "      <td> 2012-05-03</td>\n",
        "      <td> 1330</td>\n",
        "    </tr>\n",
        "    <tr>\n",
        "      <th>8259</th>\n",
        "      <td>          bente.ring@yahoo.no</td>\n",
        "      <td> 2012-05-02</td>\n",
        "      <td> 1331</td>\n",
        "    </tr>\n",
        "    <tr>\n",
        "      <th>8260</th>\n",
        "      <td>         cathypod@hotmail.com</td>\n",
        "      <td> 2012-05-01</td>\n",
        "      <td> 1332</td>\n",
        "    </tr>\n",
        "  </tbody>\n",
        "</table>\n",
        "<p>8261 rows \u00d7 3 columns</p>\n",
        "</div>"
       ],
       "metadata": {},
       "output_type": "pyout",
       "prompt_number": 4,
       "text": [
        "                             Email        Date  Days\n",
        "0           rehabmansour@gmail.com  2015-12-23     1\n",
        "1              nabouheif@yahoo.com  2015-12-23     1\n",
        "2           fracicardi@hotmail.com  2015-12-23     1\n",
        "3           ahmed.fakhry@gmail.com  2015-12-23     1\n",
        "4             Missilou11@yahoo.com  2015-12-23     1\n",
        "5          sallysalem123@gmail.com  2015-12-23     1\n",
        "6         nayera_fadel@hotmail.com  2015-12-23     1\n",
        "7            raoufzdn553@gmail.com  2015-12-23     1\n",
        "8           gaylynmbogho@yahoo.com  2015-12-23     1\n",
        "9             oshahavi13@gmail.com  2015-12-23     1\n",
        "10            Daiieldeeb@gmail.com  2015-12-23     1\n",
        "11             yara.azam@gmail.com  2015-12-23     1\n",
        "12           dalia_allam@yahoo.com  2015-12-23     1\n",
        "13           elhanem52@hotmail.com  2015-12-23     1\n",
        "14        tarek_seddik@hotmail.com  2015-12-23     1\n",
        "15         maie.nomrossy@gmail.com  2015-12-23     1\n",
        "16           hazem.shamy@gmail.com  2015-12-23     1\n",
        "17          maya.p.nawal@gmail.com  2015-12-22     2\n",
        "18       jamesmorgan0091@gmail.com  2015-12-22     2\n",
        "19            israa_s@aucegypt.edu  2015-12-22     2\n",
        "20          RODY.DOVE123@GMAIL.COM  2015-12-22     2\n",
        "21          amaghraby@mediawave.me  2015-12-22     2\n",
        "22             hibba_b@hotmail.com  2015-12-22     2\n",
        "23          pascalenader@gmail.com  2015-12-22     2\n",
        "24          doaa.khattab@gmail.com  2015-12-22     2\n",
        "25          sunset_456@hotmail.com  2015-12-22     2\n",
        "26      colleen_lovely@hotmail.com  2015-12-22     2\n",
        "27                imrhazi@yahoo.fr  2015-12-22     2\n",
        "28       nadyagamaleldin@gmail.com  2015-12-22     2\n",
        "29             engywasfy@gmail.com  2015-12-22     2\n",
        "...                            ...         ...   ...\n",
        "8231      faridahelmyiba@gmail.com  2012-07-09  1263\n",
        "8232        mireilleamin@yahoo.com  2012-07-09  1263\n",
        "8233    Ihab.derias@laroche.com.eg  2012-07-09  1263\n",
        "8234          Adhamada@hotmail.com  2012-07-09  1263\n",
        "8235      houssam.elokda@gmail.com  2012-07-09  1263\n",
        "8236           Hania7894@gmail.com  2012-07-09  1263\n",
        "8237             Mamazzz@gmail.com  2012-07-08  1264\n",
        "8238             asony11@yahoo.com  2012-07-08  1264\n",
        "8239       salwa_saiid@hotmail.com  2012-07-08  1264\n",
        "8240  djamila.benderbous@gmail.com  2012-07-07  1265\n",
        "8241       milomilogindi@yahoo.com  2012-07-05  1267\n",
        "8242      raghebelgammal@yahoo.com  2012-07-05  1267\n",
        "8243       t_el_gammal@hotmail.com  2012-07-04  1268\n",
        "8244        lik-novikova@yandex.ru  2012-07-01  1271\n",
        "8245         fairymaid82@yahoo.com  2012-06-13  1289\n",
        "8246       milomilogindi@yahoo.com  2012-06-06  1296\n",
        "8247       t_el_gammal@hotmail.com  2012-06-06  1296\n",
        "8248       t_el_gammal@hotmail.com  2012-05-29  1304\n",
        "8249        lik-novikova@yandex.ru  2012-05-27  1306\n",
        "8250              Biro5s@yahoo.com  2012-05-25  1308\n",
        "8251          nini.etoile@voila.fr  2012-05-21  1312\n",
        "8252        lik-novikova@yandex.ru  2012-05-21  1312\n",
        "8253           bettyhedrich@gmx.de  2012-05-18  1315\n",
        "8254                 rulah@msn.com  2012-05-10  1323\n",
        "8255           milda_b@hotmail.com  2012-05-08  1325\n",
        "8256           bente.ring@yahoo.no  2012-05-08  1325\n",
        "8257           bente.ring@yahoo.no  2012-05-07  1326\n",
        "8258        lik-novikova@yandex.ru  2012-05-03  1330\n",
        "8259           bente.ring@yahoo.no  2012-05-02  1331\n",
        "8260          cathypod@hotmail.com  2012-05-01  1332\n",
        "\n",
        "[8261 rows x 3 columns]"
       ]
      }
     ],
     "prompt_number": 4
    },
    {
     "cell_type": "code",
     "collapsed": false,
     "input": [
      "df1 = df1.sort(['Email', 'Days'])\n",
      "df1= df1.reset_index().drop('index',1)\n",
      "\n",
      "#get the email and the min days row\n",
      "df2 = df1.groupby(['Email'], axis=0, as_index=False).min()\n",
      "df2"
     ],
     "language": "python",
     "metadata": {},
     "outputs": [
      {
       "html": [
        "<div style=\"max-height:1000px;max-width:1500px;overflow:auto;\">\n",
        "<table border=\"1\" class=\"dataframe\">\n",
        "  <thead>\n",
        "    <tr style=\"text-align: right;\">\n",
        "      <th></th>\n",
        "      <th>Email</th>\n",
        "      <th>Date</th>\n",
        "      <th>Days</th>\n",
        "    </tr>\n",
        "  </thead>\n",
        "  <tbody>\n",
        "    <tr>\n",
        "      <th>0   </th>\n",
        "      <td>        11435mail@mkallenberger.de</td>\n",
        "      <td> 2013-05-26</td>\n",
        "      <td>  942</td>\n",
        "    </tr>\n",
        "    <tr>\n",
        "      <th>1   </th>\n",
        "      <td>                     1@gargour.com</td>\n",
        "      <td> 2015-01-03</td>\n",
        "      <td>  261</td>\n",
        "    </tr>\n",
        "    <tr>\n",
        "      <th>2   </th>\n",
        "      <td>                 1kttate@gmail.com</td>\n",
        "      <td> 2015-08-09</td>\n",
        "      <td>  115</td>\n",
        "    </tr>\n",
        "    <tr>\n",
        "      <th>3   </th>\n",
        "      <td>         1youniqueflower@gmail.com</td>\n",
        "      <td> 2014-11-20</td>\n",
        "      <td>   24</td>\n",
        "    </tr>\n",
        "    <tr>\n",
        "      <th>4   </th>\n",
        "      <td>                3aliaa.h@gmail.com</td>\n",
        "      <td> 2015-03-13</td>\n",
        "      <td>  264</td>\n",
        "    </tr>\n",
        "    <tr>\n",
        "      <th>5   </th>\n",
        "      <td>          777nadiateirah@gmail.com</td>\n",
        "      <td> 2015-11-16</td>\n",
        "      <td>   33</td>\n",
        "    </tr>\n",
        "    <tr>\n",
        "      <th>6   </th>\n",
        "      <td>                         A2@ed.com</td>\n",
        "      <td> 2015-09-12</td>\n",
        "      <td>  103</td>\n",
        "    </tr>\n",
        "    <tr>\n",
        "      <th>7   </th>\n",
        "      <td>           ASHRAF.M.ZAKI@GMAIL.COM</td>\n",
        "      <td> 2012-10-05</td>\n",
        "      <td> 1175</td>\n",
        "    </tr>\n",
        "    <tr>\n",
        "      <th>8   </th>\n",
        "      <td>              Adhamada@hotmail.com</td>\n",
        "      <td> 2012-07-09</td>\n",
        "      <td> 1263</td>\n",
        "    </tr>\n",
        "    <tr>\n",
        "      <th>9   </th>\n",
        "      <td>       Ahmed.Habash@moevenpick.com</td>\n",
        "      <td> 2015-04-04</td>\n",
        "      <td>  264</td>\n",
        "    </tr>\n",
        "    <tr>\n",
        "      <th>10  </th>\n",
        "      <td> Ahmed.adel.abdelmonam@hotmail.com</td>\n",
        "      <td> 2015-08-24</td>\n",
        "      <td>  122</td>\n",
        "    </tr>\n",
        "    <tr>\n",
        "      <th>11  </th>\n",
        "      <td>           Aliamossallam@gmail.com</td>\n",
        "      <td> 2014-10-19</td>\n",
        "      <td>   10</td>\n",
        "    </tr>\n",
        "    <tr>\n",
        "      <th>12  </th>\n",
        "      <td>       Andrea.Heilman@aucegypt.edu</td>\n",
        "      <td> 2015-02-24</td>\n",
        "      <td>  292</td>\n",
        "    </tr>\n",
        "    <tr>\n",
        "      <th>13  </th>\n",
        "      <td>           Asmaa.ahmed@hotmail.com</td>\n",
        "      <td> 2015-10-31</td>\n",
        "      <td>   38</td>\n",
        "    </tr>\n",
        "    <tr>\n",
        "      <th>14  </th>\n",
        "      <td>            Attia.nevien@gmail.com</td>\n",
        "      <td> 2015-01-24</td>\n",
        "      <td>  332</td>\n",
        "    </tr>\n",
        "    <tr>\n",
        "      <th>15  </th>\n",
        "      <td>             Ayatheone@hotmail.com</td>\n",
        "      <td> 2015-08-06</td>\n",
        "      <td>  140</td>\n",
        "    </tr>\n",
        "    <tr>\n",
        "      <th>16  </th>\n",
        "      <td>             Azzassallam@gmail.com</td>\n",
        "      <td> 2015-02-19</td>\n",
        "      <td>  308</td>\n",
        "    </tr>\n",
        "    <tr>\n",
        "      <th>17  </th>\n",
        "      <td>                 BAGBOUG@yahoo.com</td>\n",
        "      <td> 2015-03-13</td>\n",
        "      <td>  286</td>\n",
        "    </tr>\n",
        "    <tr>\n",
        "      <th>18  </th>\n",
        "      <td>                 Bakryna@gmail.com</td>\n",
        "      <td> 2012-09-05</td>\n",
        "      <td> 1205</td>\n",
        "    </tr>\n",
        "    <tr>\n",
        "      <th>19  </th>\n",
        "      <td>           Basmaha2010@hotmail.com</td>\n",
        "      <td> 2015-04-18</td>\n",
        "      <td>  250</td>\n",
        "    </tr>\n",
        "    <tr>\n",
        "      <th>20  </th>\n",
        "      <td>                  Bebi84@gmail.com</td>\n",
        "      <td> 2013-03-31</td>\n",
        "      <td>  977</td>\n",
        "    </tr>\n",
        "    <tr>\n",
        "      <th>21  </th>\n",
        "      <td>                  Biro5s@yahoo.com</td>\n",
        "      <td> 2012-05-25</td>\n",
        "      <td> 1308</td>\n",
        "    </tr>\n",
        "    <tr>\n",
        "      <th>22  </th>\n",
        "      <td>       Bouchra_erraiss@hotmail.com</td>\n",
        "      <td> 2014-05-14</td>\n",
        "      <td>  589</td>\n",
        "    </tr>\n",
        "    <tr>\n",
        "      <th>23  </th>\n",
        "      <td>                 Bunny_Chan@web.de</td>\n",
        "      <td> 2014-08-17</td>\n",
        "      <td>  228</td>\n",
        "    </tr>\n",
        "    <tr>\n",
        "      <th>24  </th>\n",
        "      <td>            Buty_Heart@hotmail.com</td>\n",
        "      <td> 2015-05-28</td>\n",
        "      <td>  210</td>\n",
        "    </tr>\n",
        "    <tr>\n",
        "      <th>25  </th>\n",
        "      <td>       Camillia.Marmoush@gmail.com</td>\n",
        "      <td> 2015-11-14</td>\n",
        "      <td>   26</td>\n",
        "    </tr>\n",
        "    <tr>\n",
        "      <th>26  </th>\n",
        "      <td>           Carinesabbagh@gmail.com</td>\n",
        "      <td> 2012-07-11</td>\n",
        "      <td>  241</td>\n",
        "    </tr>\n",
        "    <tr>\n",
        "      <th>27  </th>\n",
        "      <td>             Christine@baramki.com</td>\n",
        "      <td> 2014-07-10</td>\n",
        "      <td>  525</td>\n",
        "    </tr>\n",
        "    <tr>\n",
        "      <th>28  </th>\n",
        "      <td>              DINA_KADRY@YAHOO.COM</td>\n",
        "      <td> 2015-11-01</td>\n",
        "      <td>   53</td>\n",
        "    </tr>\n",
        "    <tr>\n",
        "      <th>29  </th>\n",
        "      <td>              Daiieldeeb@gmail.com</td>\n",
        "      <td> 2015-12-23</td>\n",
        "      <td>    1</td>\n",
        "    </tr>\n",
        "    <tr>\n",
        "      <th>...</th>\n",
        "      <td>...</td>\n",
        "      <td>...</td>\n",
        "      <td>...</td>\n",
        "    </tr>\n",
        "    <tr>\n",
        "      <th>2379</th>\n",
        "      <td>              youssefkhalil@me.com</td>\n",
        "      <td> 2014-12-02</td>\n",
        "      <td>   88</td>\n",
        "    </tr>\n",
        "    <tr>\n",
        "      <th>2380</th>\n",
        "      <td>          youssra.resaie@gmail.com</td>\n",
        "      <td> 2014-07-15</td>\n",
        "      <td>  527</td>\n",
        "    </tr>\n",
        "    <tr>\n",
        "      <th>2381</th>\n",
        "      <td>                 youssra@gmail.com</td>\n",
        "      <td> 2015-03-17</td>\n",
        "      <td>  282</td>\n",
        "    </tr>\n",
        "    <tr>\n",
        "      <th>2382</th>\n",
        "      <td>           youssra_kamal@yahoo.com</td>\n",
        "      <td> 2015-09-28</td>\n",
        "      <td>   23</td>\n",
        "    </tr>\n",
        "    <tr>\n",
        "      <th>2383</th>\n",
        "      <td>         youssraaashmawi@gmail.com</td>\n",
        "      <td> 2015-10-11</td>\n",
        "      <td>   74</td>\n",
        "    </tr>\n",
        "    <tr>\n",
        "      <th>2384</th>\n",
        "      <td>           yoyothetricky@gmail.com</td>\n",
        "      <td> 2015-12-05</td>\n",
        "      <td>    9</td>\n",
        "    </tr>\n",
        "    <tr>\n",
        "      <th>2385</th>\n",
        "      <td>               yrelraheb@gmail.com</td>\n",
        "      <td> 2013-03-11</td>\n",
        "      <td> 1018</td>\n",
        "    </tr>\n",
        "    <tr>\n",
        "      <th>2386</th>\n",
        "      <td>               yulbiba@hotmail.com</td>\n",
        "      <td> 2015-10-14</td>\n",
        "      <td>    8</td>\n",
        "    </tr>\n",
        "    <tr>\n",
        "      <th>2387</th>\n",
        "      <td>             yumnakassim@gmail.com</td>\n",
        "      <td> 2013-10-06</td>\n",
        "      <td>  510</td>\n",
        "    </tr>\n",
        "    <tr>\n",
        "      <th>2388</th>\n",
        "      <td>              z72addas@hotmail.com</td>\n",
        "      <td> 2015-01-12</td>\n",
        "      <td>  346</td>\n",
        "    </tr>\n",
        "    <tr>\n",
        "      <th>2389</th>\n",
        "      <td>             zaki.farida@gmail.com</td>\n",
        "      <td> 2015-05-20</td>\n",
        "      <td>   61</td>\n",
        "    </tr>\n",
        "    <tr>\n",
        "      <th>2390</th>\n",
        "      <td>               zedesem65@gmail.com</td>\n",
        "      <td> 2015-11-14</td>\n",
        "      <td>   40</td>\n",
        "    </tr>\n",
        "    <tr>\n",
        "      <th>2391</th>\n",
        "      <td>                 zee.nap@gmail.com</td>\n",
        "      <td> 2015-09-01</td>\n",
        "      <td>  114</td>\n",
        "    </tr>\n",
        "    <tr>\n",
        "      <th>2392</th>\n",
        "      <td>            zeina.kassas@gmail.com</td>\n",
        "      <td> 2014-07-20</td>\n",
        "      <td>  191</td>\n",
        "    </tr>\n",
        "    <tr>\n",
        "      <th>2393</th>\n",
        "      <td>         zeina_ahmed95@hotmail.com</td>\n",
        "      <td> 2014-10-26</td>\n",
        "      <td>  424</td>\n",
        "    </tr>\n",
        "    <tr>\n",
        "      <th>2394</th>\n",
        "      <td>            zeina_naim@hotmail.com</td>\n",
        "      <td> 2015-11-18</td>\n",
        "      <td>   36</td>\n",
        "    </tr>\n",
        "    <tr>\n",
        "      <th>2395</th>\n",
        "      <td>         zeinabahmedtaha@yahoo.com</td>\n",
        "      <td> 2013-02-01</td>\n",
        "      <td> 1056</td>\n",
        "    </tr>\n",
        "    <tr>\n",
        "      <th>2396</th>\n",
        "      <td>      zeinabkhalil2010@hotmail.com</td>\n",
        "      <td> 2015-05-30</td>\n",
        "      <td>  183</td>\n",
        "    </tr>\n",
        "    <tr>\n",
        "      <th>2397</th>\n",
        "      <td>              zeinabnour@gmail.com</td>\n",
        "      <td> 2014-11-01</td>\n",
        "      <td>  417</td>\n",
        "    </tr>\n",
        "    <tr>\n",
        "      <th>2398</th>\n",
        "      <td>              zeinahodroj@live.com</td>\n",
        "      <td> 2015-03-22</td>\n",
        "      <td>  277</td>\n",
        "    </tr>\n",
        "    <tr>\n",
        "      <th>2399</th>\n",
        "      <td>              zeinasabry@gmail.com</td>\n",
        "      <td> 2013-09-20</td>\n",
        "      <td>  575</td>\n",
        "    </tr>\n",
        "    <tr>\n",
        "      <th>2400</th>\n",
        "      <td>               zeinriham@gmail.com</td>\n",
        "      <td> 2015-09-14</td>\n",
        "      <td>   30</td>\n",
        "    </tr>\n",
        "    <tr>\n",
        "      <th>2401</th>\n",
        "      <td>           zenaabdelbaky@gmail.com</td>\n",
        "      <td> 2014-05-16</td>\n",
        "      <td>  149</td>\n",
        "    </tr>\n",
        "    <tr>\n",
        "      <th>2402</th>\n",
        "      <td>            zeyadattalla@yahoo.com</td>\n",
        "      <td> 2015-05-12</td>\n",
        "      <td>  226</td>\n",
        "    </tr>\n",
        "    <tr>\n",
        "      <th>2403</th>\n",
        "      <td>                ziadihab@gmail.com</td>\n",
        "      <td> 2015-04-20</td>\n",
        "      <td>  248</td>\n",
        "    </tr>\n",
        "    <tr>\n",
        "      <th>2404</th>\n",
        "      <td>               ziadusama@ymail.com</td>\n",
        "      <td> 2015-12-05</td>\n",
        "      <td>   19</td>\n",
        "    </tr>\n",
        "    <tr>\n",
        "      <th>2405</th>\n",
        "      <td>               zinelhini@yahoo.com</td>\n",
        "      <td> 2013-10-07</td>\n",
        "      <td>  808</td>\n",
        "    </tr>\n",
        "    <tr>\n",
        "      <th>2406</th>\n",
        "      <td>                zleseman@gmail.com</td>\n",
        "      <td> 2013-02-09</td>\n",
        "      <td>  977</td>\n",
        "    </tr>\n",
        "    <tr>\n",
        "      <th>2407</th>\n",
        "      <td>           zolaykha1st@hotmail.com</td>\n",
        "      <td> 2014-12-13</td>\n",
        "      <td>  376</td>\n",
        "    </tr>\n",
        "    <tr>\n",
        "      <th>2408</th>\n",
        "      <td>               zshafei@outlook.com</td>\n",
        "      <td> 2014-12-28</td>\n",
        "      <td>   21</td>\n",
        "    </tr>\n",
        "  </tbody>\n",
        "</table>\n",
        "<p>2409 rows \u00d7 3 columns</p>\n",
        "</div>"
       ],
       "metadata": {},
       "output_type": "pyout",
       "prompt_number": 5,
       "text": [
        "                                  Email        Date  Days\n",
        "0            11435mail@mkallenberger.de  2013-05-26   942\n",
        "1                         1@gargour.com  2015-01-03   261\n",
        "2                     1kttate@gmail.com  2015-08-09   115\n",
        "3             1youniqueflower@gmail.com  2014-11-20    24\n",
        "4                    3aliaa.h@gmail.com  2015-03-13   264\n",
        "5              777nadiateirah@gmail.com  2015-11-16    33\n",
        "6                             A2@ed.com  2015-09-12   103\n",
        "7               ASHRAF.M.ZAKI@GMAIL.COM  2012-10-05  1175\n",
        "8                  Adhamada@hotmail.com  2012-07-09  1263\n",
        "9           Ahmed.Habash@moevenpick.com  2015-04-04   264\n",
        "10    Ahmed.adel.abdelmonam@hotmail.com  2015-08-24   122\n",
        "11              Aliamossallam@gmail.com  2014-10-19    10\n",
        "12          Andrea.Heilman@aucegypt.edu  2015-02-24   292\n",
        "13              Asmaa.ahmed@hotmail.com  2015-10-31    38\n",
        "14               Attia.nevien@gmail.com  2015-01-24   332\n",
        "15                Ayatheone@hotmail.com  2015-08-06   140\n",
        "16                Azzassallam@gmail.com  2015-02-19   308\n",
        "17                    BAGBOUG@yahoo.com  2015-03-13   286\n",
        "18                    Bakryna@gmail.com  2012-09-05  1205\n",
        "19              Basmaha2010@hotmail.com  2015-04-18   250\n",
        "20                     Bebi84@gmail.com  2013-03-31   977\n",
        "21                     Biro5s@yahoo.com  2012-05-25  1308\n",
        "22          Bouchra_erraiss@hotmail.com  2014-05-14   589\n",
        "23                    Bunny_Chan@web.de  2014-08-17   228\n",
        "24               Buty_Heart@hotmail.com  2015-05-28   210\n",
        "25          Camillia.Marmoush@gmail.com  2015-11-14    26\n",
        "26              Carinesabbagh@gmail.com  2012-07-11   241\n",
        "27                Christine@baramki.com  2014-07-10   525\n",
        "28                 DINA_KADRY@YAHOO.COM  2015-11-01    53\n",
        "29                 Daiieldeeb@gmail.com  2015-12-23     1\n",
        "...                                 ...         ...   ...\n",
        "2379               youssefkhalil@me.com  2014-12-02    88\n",
        "2380           youssra.resaie@gmail.com  2014-07-15   527\n",
        "2381                  youssra@gmail.com  2015-03-17   282\n",
        "2382            youssra_kamal@yahoo.com  2015-09-28    23\n",
        "2383          youssraaashmawi@gmail.com  2015-10-11    74\n",
        "2384            yoyothetricky@gmail.com  2015-12-05     9\n",
        "2385                yrelraheb@gmail.com  2013-03-11  1018\n",
        "2386                yulbiba@hotmail.com  2015-10-14     8\n",
        "2387              yumnakassim@gmail.com  2013-10-06   510\n",
        "2388               z72addas@hotmail.com  2015-01-12   346\n",
        "2389              zaki.farida@gmail.com  2015-05-20    61\n",
        "2390                zedesem65@gmail.com  2015-11-14    40\n",
        "2391                  zee.nap@gmail.com  2015-09-01   114\n",
        "2392             zeina.kassas@gmail.com  2014-07-20   191\n",
        "2393          zeina_ahmed95@hotmail.com  2014-10-26   424\n",
        "2394             zeina_naim@hotmail.com  2015-11-18    36\n",
        "2395          zeinabahmedtaha@yahoo.com  2013-02-01  1056\n",
        "2396       zeinabkhalil2010@hotmail.com  2015-05-30   183\n",
        "2397               zeinabnour@gmail.com  2014-11-01   417\n",
        "2398               zeinahodroj@live.com  2015-03-22   277\n",
        "2399               zeinasabry@gmail.com  2013-09-20   575\n",
        "2400                zeinriham@gmail.com  2015-09-14    30\n",
        "2401            zenaabdelbaky@gmail.com  2014-05-16   149\n",
        "2402             zeyadattalla@yahoo.com  2015-05-12   226\n",
        "2403                 ziadihab@gmail.com  2015-04-20   248\n",
        "2404                ziadusama@ymail.com  2015-12-05    19\n",
        "2405                zinelhini@yahoo.com  2013-10-07   808\n",
        "2406                 zleseman@gmail.com  2013-02-09   977\n",
        "2407            zolaykha1st@hotmail.com  2014-12-13   376\n",
        "2408                zshafei@outlook.com  2014-12-28    21\n",
        "\n",
        "[2409 rows x 3 columns]"
       ]
      }
     ],
     "prompt_number": 5
    },
    {
     "cell_type": "code",
     "collapsed": false,
     "input": [
      "df2 = df2[['Email' , 'Days']]\n",
      "df2.columns =['Email', 'Days from Last order']\n",
      "df2"
     ],
     "language": "python",
     "metadata": {},
     "outputs": [
      {
       "html": [
        "<div style=\"max-height:1000px;max-width:1500px;overflow:auto;\">\n",
        "<table border=\"1\" class=\"dataframe\">\n",
        "  <thead>\n",
        "    <tr style=\"text-align: right;\">\n",
        "      <th></th>\n",
        "      <th>Email</th>\n",
        "      <th>Days from Last order</th>\n",
        "    </tr>\n",
        "  </thead>\n",
        "  <tbody>\n",
        "    <tr>\n",
        "      <th>0   </th>\n",
        "      <td>        11435mail@mkallenberger.de</td>\n",
        "      <td>  942</td>\n",
        "    </tr>\n",
        "    <tr>\n",
        "      <th>1   </th>\n",
        "      <td>                     1@gargour.com</td>\n",
        "      <td>  261</td>\n",
        "    </tr>\n",
        "    <tr>\n",
        "      <th>2   </th>\n",
        "      <td>                 1kttate@gmail.com</td>\n",
        "      <td>  115</td>\n",
        "    </tr>\n",
        "    <tr>\n",
        "      <th>3   </th>\n",
        "      <td>         1youniqueflower@gmail.com</td>\n",
        "      <td>   24</td>\n",
        "    </tr>\n",
        "    <tr>\n",
        "      <th>4   </th>\n",
        "      <td>                3aliaa.h@gmail.com</td>\n",
        "      <td>  264</td>\n",
        "    </tr>\n",
        "    <tr>\n",
        "      <th>5   </th>\n",
        "      <td>          777nadiateirah@gmail.com</td>\n",
        "      <td>   33</td>\n",
        "    </tr>\n",
        "    <tr>\n",
        "      <th>6   </th>\n",
        "      <td>                         A2@ed.com</td>\n",
        "      <td>  103</td>\n",
        "    </tr>\n",
        "    <tr>\n",
        "      <th>7   </th>\n",
        "      <td>           ASHRAF.M.ZAKI@GMAIL.COM</td>\n",
        "      <td> 1175</td>\n",
        "    </tr>\n",
        "    <tr>\n",
        "      <th>8   </th>\n",
        "      <td>              Adhamada@hotmail.com</td>\n",
        "      <td> 1263</td>\n",
        "    </tr>\n",
        "    <tr>\n",
        "      <th>9   </th>\n",
        "      <td>       Ahmed.Habash@moevenpick.com</td>\n",
        "      <td>  264</td>\n",
        "    </tr>\n",
        "    <tr>\n",
        "      <th>10  </th>\n",
        "      <td> Ahmed.adel.abdelmonam@hotmail.com</td>\n",
        "      <td>  122</td>\n",
        "    </tr>\n",
        "    <tr>\n",
        "      <th>11  </th>\n",
        "      <td>           Aliamossallam@gmail.com</td>\n",
        "      <td>   10</td>\n",
        "    </tr>\n",
        "    <tr>\n",
        "      <th>12  </th>\n",
        "      <td>       Andrea.Heilman@aucegypt.edu</td>\n",
        "      <td>  292</td>\n",
        "    </tr>\n",
        "    <tr>\n",
        "      <th>13  </th>\n",
        "      <td>           Asmaa.ahmed@hotmail.com</td>\n",
        "      <td>   38</td>\n",
        "    </tr>\n",
        "    <tr>\n",
        "      <th>14  </th>\n",
        "      <td>            Attia.nevien@gmail.com</td>\n",
        "      <td>  332</td>\n",
        "    </tr>\n",
        "    <tr>\n",
        "      <th>15  </th>\n",
        "      <td>             Ayatheone@hotmail.com</td>\n",
        "      <td>  140</td>\n",
        "    </tr>\n",
        "    <tr>\n",
        "      <th>16  </th>\n",
        "      <td>             Azzassallam@gmail.com</td>\n",
        "      <td>  308</td>\n",
        "    </tr>\n",
        "    <tr>\n",
        "      <th>17  </th>\n",
        "      <td>                 BAGBOUG@yahoo.com</td>\n",
        "      <td>  286</td>\n",
        "    </tr>\n",
        "    <tr>\n",
        "      <th>18  </th>\n",
        "      <td>                 Bakryna@gmail.com</td>\n",
        "      <td> 1205</td>\n",
        "    </tr>\n",
        "    <tr>\n",
        "      <th>19  </th>\n",
        "      <td>           Basmaha2010@hotmail.com</td>\n",
        "      <td>  250</td>\n",
        "    </tr>\n",
        "    <tr>\n",
        "      <th>20  </th>\n",
        "      <td>                  Bebi84@gmail.com</td>\n",
        "      <td>  977</td>\n",
        "    </tr>\n",
        "    <tr>\n",
        "      <th>21  </th>\n",
        "      <td>                  Biro5s@yahoo.com</td>\n",
        "      <td> 1308</td>\n",
        "    </tr>\n",
        "    <tr>\n",
        "      <th>22  </th>\n",
        "      <td>       Bouchra_erraiss@hotmail.com</td>\n",
        "      <td>  589</td>\n",
        "    </tr>\n",
        "    <tr>\n",
        "      <th>23  </th>\n",
        "      <td>                 Bunny_Chan@web.de</td>\n",
        "      <td>  228</td>\n",
        "    </tr>\n",
        "    <tr>\n",
        "      <th>24  </th>\n",
        "      <td>            Buty_Heart@hotmail.com</td>\n",
        "      <td>  210</td>\n",
        "    </tr>\n",
        "    <tr>\n",
        "      <th>25  </th>\n",
        "      <td>       Camillia.Marmoush@gmail.com</td>\n",
        "      <td>   26</td>\n",
        "    </tr>\n",
        "    <tr>\n",
        "      <th>26  </th>\n",
        "      <td>           Carinesabbagh@gmail.com</td>\n",
        "      <td>  241</td>\n",
        "    </tr>\n",
        "    <tr>\n",
        "      <th>27  </th>\n",
        "      <td>             Christine@baramki.com</td>\n",
        "      <td>  525</td>\n",
        "    </tr>\n",
        "    <tr>\n",
        "      <th>28  </th>\n",
        "      <td>              DINA_KADRY@YAHOO.COM</td>\n",
        "      <td>   53</td>\n",
        "    </tr>\n",
        "    <tr>\n",
        "      <th>29  </th>\n",
        "      <td>              Daiieldeeb@gmail.com</td>\n",
        "      <td>    1</td>\n",
        "    </tr>\n",
        "    <tr>\n",
        "      <th>...</th>\n",
        "      <td>...</td>\n",
        "      <td>...</td>\n",
        "    </tr>\n",
        "    <tr>\n",
        "      <th>2379</th>\n",
        "      <td>              youssefkhalil@me.com</td>\n",
        "      <td>   88</td>\n",
        "    </tr>\n",
        "    <tr>\n",
        "      <th>2380</th>\n",
        "      <td>          youssra.resaie@gmail.com</td>\n",
        "      <td>  527</td>\n",
        "    </tr>\n",
        "    <tr>\n",
        "      <th>2381</th>\n",
        "      <td>                 youssra@gmail.com</td>\n",
        "      <td>  282</td>\n",
        "    </tr>\n",
        "    <tr>\n",
        "      <th>2382</th>\n",
        "      <td>           youssra_kamal@yahoo.com</td>\n",
        "      <td>   23</td>\n",
        "    </tr>\n",
        "    <tr>\n",
        "      <th>2383</th>\n",
        "      <td>         youssraaashmawi@gmail.com</td>\n",
        "      <td>   74</td>\n",
        "    </tr>\n",
        "    <tr>\n",
        "      <th>2384</th>\n",
        "      <td>           yoyothetricky@gmail.com</td>\n",
        "      <td>    9</td>\n",
        "    </tr>\n",
        "    <tr>\n",
        "      <th>2385</th>\n",
        "      <td>               yrelraheb@gmail.com</td>\n",
        "      <td> 1018</td>\n",
        "    </tr>\n",
        "    <tr>\n",
        "      <th>2386</th>\n",
        "      <td>               yulbiba@hotmail.com</td>\n",
        "      <td>    8</td>\n",
        "    </tr>\n",
        "    <tr>\n",
        "      <th>2387</th>\n",
        "      <td>             yumnakassim@gmail.com</td>\n",
        "      <td>  510</td>\n",
        "    </tr>\n",
        "    <tr>\n",
        "      <th>2388</th>\n",
        "      <td>              z72addas@hotmail.com</td>\n",
        "      <td>  346</td>\n",
        "    </tr>\n",
        "    <tr>\n",
        "      <th>2389</th>\n",
        "      <td>             zaki.farida@gmail.com</td>\n",
        "      <td>   61</td>\n",
        "    </tr>\n",
        "    <tr>\n",
        "      <th>2390</th>\n",
        "      <td>               zedesem65@gmail.com</td>\n",
        "      <td>   40</td>\n",
        "    </tr>\n",
        "    <tr>\n",
        "      <th>2391</th>\n",
        "      <td>                 zee.nap@gmail.com</td>\n",
        "      <td>  114</td>\n",
        "    </tr>\n",
        "    <tr>\n",
        "      <th>2392</th>\n",
        "      <td>            zeina.kassas@gmail.com</td>\n",
        "      <td>  191</td>\n",
        "    </tr>\n",
        "    <tr>\n",
        "      <th>2393</th>\n",
        "      <td>         zeina_ahmed95@hotmail.com</td>\n",
        "      <td>  424</td>\n",
        "    </tr>\n",
        "    <tr>\n",
        "      <th>2394</th>\n",
        "      <td>            zeina_naim@hotmail.com</td>\n",
        "      <td>   36</td>\n",
        "    </tr>\n",
        "    <tr>\n",
        "      <th>2395</th>\n",
        "      <td>         zeinabahmedtaha@yahoo.com</td>\n",
        "      <td> 1056</td>\n",
        "    </tr>\n",
        "    <tr>\n",
        "      <th>2396</th>\n",
        "      <td>      zeinabkhalil2010@hotmail.com</td>\n",
        "      <td>  183</td>\n",
        "    </tr>\n",
        "    <tr>\n",
        "      <th>2397</th>\n",
        "      <td>              zeinabnour@gmail.com</td>\n",
        "      <td>  417</td>\n",
        "    </tr>\n",
        "    <tr>\n",
        "      <th>2398</th>\n",
        "      <td>              zeinahodroj@live.com</td>\n",
        "      <td>  277</td>\n",
        "    </tr>\n",
        "    <tr>\n",
        "      <th>2399</th>\n",
        "      <td>              zeinasabry@gmail.com</td>\n",
        "      <td>  575</td>\n",
        "    </tr>\n",
        "    <tr>\n",
        "      <th>2400</th>\n",
        "      <td>               zeinriham@gmail.com</td>\n",
        "      <td>   30</td>\n",
        "    </tr>\n",
        "    <tr>\n",
        "      <th>2401</th>\n",
        "      <td>           zenaabdelbaky@gmail.com</td>\n",
        "      <td>  149</td>\n",
        "    </tr>\n",
        "    <tr>\n",
        "      <th>2402</th>\n",
        "      <td>            zeyadattalla@yahoo.com</td>\n",
        "      <td>  226</td>\n",
        "    </tr>\n",
        "    <tr>\n",
        "      <th>2403</th>\n",
        "      <td>                ziadihab@gmail.com</td>\n",
        "      <td>  248</td>\n",
        "    </tr>\n",
        "    <tr>\n",
        "      <th>2404</th>\n",
        "      <td>               ziadusama@ymail.com</td>\n",
        "      <td>   19</td>\n",
        "    </tr>\n",
        "    <tr>\n",
        "      <th>2405</th>\n",
        "      <td>               zinelhini@yahoo.com</td>\n",
        "      <td>  808</td>\n",
        "    </tr>\n",
        "    <tr>\n",
        "      <th>2406</th>\n",
        "      <td>                zleseman@gmail.com</td>\n",
        "      <td>  977</td>\n",
        "    </tr>\n",
        "    <tr>\n",
        "      <th>2407</th>\n",
        "      <td>           zolaykha1st@hotmail.com</td>\n",
        "      <td>  376</td>\n",
        "    </tr>\n",
        "    <tr>\n",
        "      <th>2408</th>\n",
        "      <td>               zshafei@outlook.com</td>\n",
        "      <td>   21</td>\n",
        "    </tr>\n",
        "  </tbody>\n",
        "</table>\n",
        "<p>2409 rows \u00d7 2 columns</p>\n",
        "</div>"
       ],
       "metadata": {},
       "output_type": "pyout",
       "prompt_number": 6,
       "text": [
        "                                  Email  Days from Last order\n",
        "0            11435mail@mkallenberger.de                   942\n",
        "1                         1@gargour.com                   261\n",
        "2                     1kttate@gmail.com                   115\n",
        "3             1youniqueflower@gmail.com                    24\n",
        "4                    3aliaa.h@gmail.com                   264\n",
        "5              777nadiateirah@gmail.com                    33\n",
        "6                             A2@ed.com                   103\n",
        "7               ASHRAF.M.ZAKI@GMAIL.COM                  1175\n",
        "8                  Adhamada@hotmail.com                  1263\n",
        "9           Ahmed.Habash@moevenpick.com                   264\n",
        "10    Ahmed.adel.abdelmonam@hotmail.com                   122\n",
        "11              Aliamossallam@gmail.com                    10\n",
        "12          Andrea.Heilman@aucegypt.edu                   292\n",
        "13              Asmaa.ahmed@hotmail.com                    38\n",
        "14               Attia.nevien@gmail.com                   332\n",
        "15                Ayatheone@hotmail.com                   140\n",
        "16                Azzassallam@gmail.com                   308\n",
        "17                    BAGBOUG@yahoo.com                   286\n",
        "18                    Bakryna@gmail.com                  1205\n",
        "19              Basmaha2010@hotmail.com                   250\n",
        "20                     Bebi84@gmail.com                   977\n",
        "21                     Biro5s@yahoo.com                  1308\n",
        "22          Bouchra_erraiss@hotmail.com                   589\n",
        "23                    Bunny_Chan@web.de                   228\n",
        "24               Buty_Heart@hotmail.com                   210\n",
        "25          Camillia.Marmoush@gmail.com                    26\n",
        "26              Carinesabbagh@gmail.com                   241\n",
        "27                Christine@baramki.com                   525\n",
        "28                 DINA_KADRY@YAHOO.COM                    53\n",
        "29                 Daiieldeeb@gmail.com                     1\n",
        "...                                 ...                   ...\n",
        "2379               youssefkhalil@me.com                    88\n",
        "2380           youssra.resaie@gmail.com                   527\n",
        "2381                  youssra@gmail.com                   282\n",
        "2382            youssra_kamal@yahoo.com                    23\n",
        "2383          youssraaashmawi@gmail.com                    74\n",
        "2384            yoyothetricky@gmail.com                     9\n",
        "2385                yrelraheb@gmail.com                  1018\n",
        "2386                yulbiba@hotmail.com                     8\n",
        "2387              yumnakassim@gmail.com                   510\n",
        "2388               z72addas@hotmail.com                   346\n",
        "2389              zaki.farida@gmail.com                    61\n",
        "2390                zedesem65@gmail.com                    40\n",
        "2391                  zee.nap@gmail.com                   114\n",
        "2392             zeina.kassas@gmail.com                   191\n",
        "2393          zeina_ahmed95@hotmail.com                   424\n",
        "2394             zeina_naim@hotmail.com                    36\n",
        "2395          zeinabahmedtaha@yahoo.com                  1056\n",
        "2396       zeinabkhalil2010@hotmail.com                   183\n",
        "2397               zeinabnour@gmail.com                   417\n",
        "2398               zeinahodroj@live.com                   277\n",
        "2399               zeinasabry@gmail.com                   575\n",
        "2400                zeinriham@gmail.com                    30\n",
        "2401            zenaabdelbaky@gmail.com                   149\n",
        "2402             zeyadattalla@yahoo.com                   226\n",
        "2403                 ziadihab@gmail.com                   248\n",
        "2404                ziadusama@ymail.com                    19\n",
        "2405                zinelhini@yahoo.com                   808\n",
        "2406                 zleseman@gmail.com                   977\n",
        "2407            zolaykha1st@hotmail.com                   376\n",
        "2408                zshafei@outlook.com                    21\n",
        "\n",
        "[2409 rows x 2 columns]"
       ]
      }
     ],
     "prompt_number": 6
    },
    {
     "cell_type": "code",
     "collapsed": false,
     "input": [],
     "language": "python",
     "metadata": {},
     "outputs": []
    }
   ],
   "metadata": {}
  }
 ]
}
{
 "metadata": {
  "name": "",
  "signature": "sha256:fe815abba22c4a0f04ac5431a7943556c545bdad12e2db13828b491aedea79ad"
 },
 "nbformat": 3,
 "nbformat_minor": 0,
 "worksheets": [
  {
   "cells": [
    {
     "cell_type": "code",
     "collapsed": false,
     "input": [
      "import pandas as pd\n",
      "from datetime import datetime\n",
      "import re\n",
      "#import yaml\n",
      "\n",
      "#with open(\"config.yaml\", 'r') as ymlfile:\n",
      "#        cfg = yaml.load(ymlfile)\n",
      "\n",
      "#df = pd.read_csv(cfg['root']+cfg['dir_data_shopify']+cfg[\"ip_orders\"], low_memory=False)\n",
      "df = pd.read_csv('C:\\Users\\saisree849\\Documents\\GitHub\\NGS-2.0\\\\12_dashboard_tables\\data_input\\shopify\\orders_export.csv', low_memory=False)\n",
      "df"
     ],
     "language": "python",
     "metadata": {},
     "outputs": [
      {
       "html": [
        "<div style=\"max-height:1000px;max-width:1500px;overflow:auto;\">\n",
        "<table border=\"1\" class=\"dataframe\">\n",
        "  <thead>\n",
        "    <tr style=\"text-align: right;\">\n",
        "      <th></th>\n",
        "      <th>Name</th>\n",
        "      <th>Email</th>\n",
        "      <th>Financial Status</th>\n",
        "      <th>Paid at</th>\n",
        "      <th>Fulfillment Status</th>\n",
        "      <th>Fulfilled at</th>\n",
        "      <th>Accepts Marketing</th>\n",
        "      <th>Currency</th>\n",
        "      <th>Subtotal</th>\n",
        "      <th>Shipping</th>\n",
        "      <th>...</th>\n",
        "      <th>Tax 1 Name</th>\n",
        "      <th>Tax 1 Value</th>\n",
        "      <th>Tax 2 Name</th>\n",
        "      <th>Tax 2 Value</th>\n",
        "      <th>Tax 3 Name</th>\n",
        "      <th>Tax 3 Value</th>\n",
        "      <th>Tax 4 Name</th>\n",
        "      <th>Tax 4 Value</th>\n",
        "      <th>Tax 5 Name</th>\n",
        "      <th>Tax 5 Value</th>\n",
        "    </tr>\n",
        "  </thead>\n",
        "  <tbody>\n",
        "    <tr>\n",
        "      <th>0    </th>\n",
        "      <td> #10367</td>\n",
        "      <td>  rehabmansour@gmail.com</td>\n",
        "      <td> pending</td>\n",
        "      <td>                       NaN</td>\n",
        "      <td> unfulfilled</td>\n",
        "      <td>                       NaN</td>\n",
        "      <td>  no</td>\n",
        "      <td> EGP</td>\n",
        "      <td> 375.30</td>\n",
        "      <td> 10</td>\n",
        "      <td>...</td>\n",
        "      <td>NaN</td>\n",
        "      <td>NaN</td>\n",
        "      <td>NaN</td>\n",
        "      <td>NaN</td>\n",
        "      <td>NaN</td>\n",
        "      <td>NaN</td>\n",
        "      <td>NaN</td>\n",
        "      <td>NaN</td>\n",
        "      <td>NaN</td>\n",
        "      <td>NaN</td>\n",
        "    </tr>\n",
        "    <tr>\n",
        "      <th>1    </th>\n",
        "      <td> #10367</td>\n",
        "      <td>  rehabmansour@gmail.com</td>\n",
        "      <td>     NaN</td>\n",
        "      <td>                       NaN</td>\n",
        "      <td>         NaN</td>\n",
        "      <td>                       NaN</td>\n",
        "      <td> NaN</td>\n",
        "      <td> NaN</td>\n",
        "      <td>    NaN</td>\n",
        "      <td>NaN</td>\n",
        "      <td>...</td>\n",
        "      <td>NaN</td>\n",
        "      <td>NaN</td>\n",
        "      <td>NaN</td>\n",
        "      <td>NaN</td>\n",
        "      <td>NaN</td>\n",
        "      <td>NaN</td>\n",
        "      <td>NaN</td>\n",
        "      <td>NaN</td>\n",
        "      <td>NaN</td>\n",
        "      <td>NaN</td>\n",
        "    </tr>\n",
        "    <tr>\n",
        "      <th>2    </th>\n",
        "      <td> #10367</td>\n",
        "      <td>  rehabmansour@gmail.com</td>\n",
        "      <td>     NaN</td>\n",
        "      <td>                       NaN</td>\n",
        "      <td>         NaN</td>\n",
        "      <td>                       NaN</td>\n",
        "      <td> NaN</td>\n",
        "      <td> NaN</td>\n",
        "      <td>    NaN</td>\n",
        "      <td>NaN</td>\n",
        "      <td>...</td>\n",
        "      <td>NaN</td>\n",
        "      <td>NaN</td>\n",
        "      <td>NaN</td>\n",
        "      <td>NaN</td>\n",
        "      <td>NaN</td>\n",
        "      <td>NaN</td>\n",
        "      <td>NaN</td>\n",
        "      <td>NaN</td>\n",
        "      <td>NaN</td>\n",
        "      <td>NaN</td>\n",
        "    </tr>\n",
        "    <tr>\n",
        "      <th>3    </th>\n",
        "      <td> #10366</td>\n",
        "      <td>     nabouheif@yahoo.com</td>\n",
        "      <td> pending</td>\n",
        "      <td>                       NaN</td>\n",
        "      <td> unfulfilled</td>\n",
        "      <td>                       NaN</td>\n",
        "      <td>  no</td>\n",
        "      <td> EGP</td>\n",
        "      <td> 162.90</td>\n",
        "      <td> 10</td>\n",
        "      <td>...</td>\n",
        "      <td>NaN</td>\n",
        "      <td>NaN</td>\n",
        "      <td>NaN</td>\n",
        "      <td>NaN</td>\n",
        "      <td>NaN</td>\n",
        "      <td>NaN</td>\n",
        "      <td>NaN</td>\n",
        "      <td>NaN</td>\n",
        "      <td>NaN</td>\n",
        "      <td>NaN</td>\n",
        "    </tr>\n",
        "    <tr>\n",
        "      <th>4    </th>\n",
        "      <td> #10366</td>\n",
        "      <td>     nabouheif@yahoo.com</td>\n",
        "      <td>     NaN</td>\n",
        "      <td>                       NaN</td>\n",
        "      <td>         NaN</td>\n",
        "      <td>                       NaN</td>\n",
        "      <td> NaN</td>\n",
        "      <td> NaN</td>\n",
        "      <td>    NaN</td>\n",
        "      <td>NaN</td>\n",
        "      <td>...</td>\n",
        "      <td>NaN</td>\n",
        "      <td>NaN</td>\n",
        "      <td>NaN</td>\n",
        "      <td>NaN</td>\n",
        "      <td>NaN</td>\n",
        "      <td>NaN</td>\n",
        "      <td>NaN</td>\n",
        "      <td>NaN</td>\n",
        "      <td>NaN</td>\n",
        "      <td>NaN</td>\n",
        "    </tr>\n",
        "    <tr>\n",
        "      <th>5    </th>\n",
        "      <td> #10366</td>\n",
        "      <td>     nabouheif@yahoo.com</td>\n",
        "      <td>     NaN</td>\n",
        "      <td>                       NaN</td>\n",
        "      <td>         NaN</td>\n",
        "      <td>                       NaN</td>\n",
        "      <td> NaN</td>\n",
        "      <td> NaN</td>\n",
        "      <td>    NaN</td>\n",
        "      <td>NaN</td>\n",
        "      <td>...</td>\n",
        "      <td>NaN</td>\n",
        "      <td>NaN</td>\n",
        "      <td>NaN</td>\n",
        "      <td>NaN</td>\n",
        "      <td>NaN</td>\n",
        "      <td>NaN</td>\n",
        "      <td>NaN</td>\n",
        "      <td>NaN</td>\n",
        "      <td>NaN</td>\n",
        "      <td>NaN</td>\n",
        "    </tr>\n",
        "    <tr>\n",
        "      <th>6    </th>\n",
        "      <td> #10365</td>\n",
        "      <td>  fracicardi@hotmail.com</td>\n",
        "      <td> pending</td>\n",
        "      <td>                       NaN</td>\n",
        "      <td> unfulfilled</td>\n",
        "      <td>                       NaN</td>\n",
        "      <td>  no</td>\n",
        "      <td> EGP</td>\n",
        "      <td> 129.00</td>\n",
        "      <td> 15</td>\n",
        "      <td>...</td>\n",
        "      <td>NaN</td>\n",
        "      <td>NaN</td>\n",
        "      <td>NaN</td>\n",
        "      <td>NaN</td>\n",
        "      <td>NaN</td>\n",
        "      <td>NaN</td>\n",
        "      <td>NaN</td>\n",
        "      <td>NaN</td>\n",
        "      <td>NaN</td>\n",
        "      <td>NaN</td>\n",
        "    </tr>\n",
        "    <tr>\n",
        "      <th>7    </th>\n",
        "      <td> #10365</td>\n",
        "      <td>  fracicardi@hotmail.com</td>\n",
        "      <td>     NaN</td>\n",
        "      <td>                       NaN</td>\n",
        "      <td>         NaN</td>\n",
        "      <td>                       NaN</td>\n",
        "      <td> NaN</td>\n",
        "      <td> NaN</td>\n",
        "      <td>    NaN</td>\n",
        "      <td>NaN</td>\n",
        "      <td>...</td>\n",
        "      <td>NaN</td>\n",
        "      <td>NaN</td>\n",
        "      <td>NaN</td>\n",
        "      <td>NaN</td>\n",
        "      <td>NaN</td>\n",
        "      <td>NaN</td>\n",
        "      <td>NaN</td>\n",
        "      <td>NaN</td>\n",
        "      <td>NaN</td>\n",
        "      <td>NaN</td>\n",
        "    </tr>\n",
        "    <tr>\n",
        "      <th>8    </th>\n",
        "      <td> #10365</td>\n",
        "      <td>  fracicardi@hotmail.com</td>\n",
        "      <td>     NaN</td>\n",
        "      <td>                       NaN</td>\n",
        "      <td>         NaN</td>\n",
        "      <td>                       NaN</td>\n",
        "      <td> NaN</td>\n",
        "      <td> NaN</td>\n",
        "      <td>    NaN</td>\n",
        "      <td>NaN</td>\n",
        "      <td>...</td>\n",
        "      <td>NaN</td>\n",
        "      <td>NaN</td>\n",
        "      <td>NaN</td>\n",
        "      <td>NaN</td>\n",
        "      <td>NaN</td>\n",
        "      <td>NaN</td>\n",
        "      <td>NaN</td>\n",
        "      <td>NaN</td>\n",
        "      <td>NaN</td>\n",
        "      <td>NaN</td>\n",
        "    </tr>\n",
        "    <tr>\n",
        "      <th>9    </th>\n",
        "      <td> #10365</td>\n",
        "      <td>  fracicardi@hotmail.com</td>\n",
        "      <td>     NaN</td>\n",
        "      <td>                       NaN</td>\n",
        "      <td>         NaN</td>\n",
        "      <td>                       NaN</td>\n",
        "      <td> NaN</td>\n",
        "      <td> NaN</td>\n",
        "      <td>    NaN</td>\n",
        "      <td>NaN</td>\n",
        "      <td>...</td>\n",
        "      <td>NaN</td>\n",
        "      <td>NaN</td>\n",
        "      <td>NaN</td>\n",
        "      <td>NaN</td>\n",
        "      <td>NaN</td>\n",
        "      <td>NaN</td>\n",
        "      <td>NaN</td>\n",
        "      <td>NaN</td>\n",
        "      <td>NaN</td>\n",
        "      <td>NaN</td>\n",
        "    </tr>\n",
        "    <tr>\n",
        "      <th>10   </th>\n",
        "      <td> #10365</td>\n",
        "      <td>  fracicardi@hotmail.com</td>\n",
        "      <td>     NaN</td>\n",
        "      <td>                       NaN</td>\n",
        "      <td>         NaN</td>\n",
        "      <td>                       NaN</td>\n",
        "      <td> NaN</td>\n",
        "      <td> NaN</td>\n",
        "      <td>    NaN</td>\n",
        "      <td>NaN</td>\n",
        "      <td>...</td>\n",
        "      <td>NaN</td>\n",
        "      <td>NaN</td>\n",
        "      <td>NaN</td>\n",
        "      <td>NaN</td>\n",
        "      <td>NaN</td>\n",
        "      <td>NaN</td>\n",
        "      <td>NaN</td>\n",
        "      <td>NaN</td>\n",
        "      <td>NaN</td>\n",
        "      <td>NaN</td>\n",
        "    </tr>\n",
        "    <tr>\n",
        "      <th>11   </th>\n",
        "      <td> #10365</td>\n",
        "      <td>  fracicardi@hotmail.com</td>\n",
        "      <td>     NaN</td>\n",
        "      <td>                       NaN</td>\n",
        "      <td>         NaN</td>\n",
        "      <td>                       NaN</td>\n",
        "      <td> NaN</td>\n",
        "      <td> NaN</td>\n",
        "      <td>    NaN</td>\n",
        "      <td>NaN</td>\n",
        "      <td>...</td>\n",
        "      <td>NaN</td>\n",
        "      <td>NaN</td>\n",
        "      <td>NaN</td>\n",
        "      <td>NaN</td>\n",
        "      <td>NaN</td>\n",
        "      <td>NaN</td>\n",
        "      <td>NaN</td>\n",
        "      <td>NaN</td>\n",
        "      <td>NaN</td>\n",
        "      <td>NaN</td>\n",
        "    </tr>\n",
        "    <tr>\n",
        "      <th>12   </th>\n",
        "      <td> #10364</td>\n",
        "      <td>  ahmed.fakhry@gmail.com</td>\n",
        "      <td> pending</td>\n",
        "      <td>                       NaN</td>\n",
        "      <td> unfulfilled</td>\n",
        "      <td>                       NaN</td>\n",
        "      <td>  no</td>\n",
        "      <td> EGP</td>\n",
        "      <td> 660.10</td>\n",
        "      <td> 10</td>\n",
        "      <td>...</td>\n",
        "      <td>NaN</td>\n",
        "      <td>NaN</td>\n",
        "      <td>NaN</td>\n",
        "      <td>NaN</td>\n",
        "      <td>NaN</td>\n",
        "      <td>NaN</td>\n",
        "      <td>NaN</td>\n",
        "      <td>NaN</td>\n",
        "      <td>NaN</td>\n",
        "      <td>NaN</td>\n",
        "    </tr>\n",
        "    <tr>\n",
        "      <th>13   </th>\n",
        "      <td> #10364</td>\n",
        "      <td>  ahmed.fakhry@gmail.com</td>\n",
        "      <td>     NaN</td>\n",
        "      <td>                       NaN</td>\n",
        "      <td>         NaN</td>\n",
        "      <td>                       NaN</td>\n",
        "      <td> NaN</td>\n",
        "      <td> NaN</td>\n",
        "      <td>    NaN</td>\n",
        "      <td>NaN</td>\n",
        "      <td>...</td>\n",
        "      <td>NaN</td>\n",
        "      <td>NaN</td>\n",
        "      <td>NaN</td>\n",
        "      <td>NaN</td>\n",
        "      <td>NaN</td>\n",
        "      <td>NaN</td>\n",
        "      <td>NaN</td>\n",
        "      <td>NaN</td>\n",
        "      <td>NaN</td>\n",
        "      <td>NaN</td>\n",
        "    </tr>\n",
        "    <tr>\n",
        "      <th>14   </th>\n",
        "      <td> #10364</td>\n",
        "      <td>  ahmed.fakhry@gmail.com</td>\n",
        "      <td>     NaN</td>\n",
        "      <td>                       NaN</td>\n",
        "      <td>         NaN</td>\n",
        "      <td>                       NaN</td>\n",
        "      <td> NaN</td>\n",
        "      <td> NaN</td>\n",
        "      <td>    NaN</td>\n",
        "      <td>NaN</td>\n",
        "      <td>...</td>\n",
        "      <td>NaN</td>\n",
        "      <td>NaN</td>\n",
        "      <td>NaN</td>\n",
        "      <td>NaN</td>\n",
        "      <td>NaN</td>\n",
        "      <td>NaN</td>\n",
        "      <td>NaN</td>\n",
        "      <td>NaN</td>\n",
        "      <td>NaN</td>\n",
        "      <td>NaN</td>\n",
        "    </tr>\n",
        "    <tr>\n",
        "      <th>15   </th>\n",
        "      <td> #10364</td>\n",
        "      <td>  ahmed.fakhry@gmail.com</td>\n",
        "      <td>     NaN</td>\n",
        "      <td>                       NaN</td>\n",
        "      <td>         NaN</td>\n",
        "      <td>                       NaN</td>\n",
        "      <td> NaN</td>\n",
        "      <td> NaN</td>\n",
        "      <td>    NaN</td>\n",
        "      <td>NaN</td>\n",
        "      <td>...</td>\n",
        "      <td>NaN</td>\n",
        "      <td>NaN</td>\n",
        "      <td>NaN</td>\n",
        "      <td>NaN</td>\n",
        "      <td>NaN</td>\n",
        "      <td>NaN</td>\n",
        "      <td>NaN</td>\n",
        "      <td>NaN</td>\n",
        "      <td>NaN</td>\n",
        "      <td>NaN</td>\n",
        "    </tr>\n",
        "    <tr>\n",
        "      <th>16   </th>\n",
        "      <td> #10364</td>\n",
        "      <td>  ahmed.fakhry@gmail.com</td>\n",
        "      <td>     NaN</td>\n",
        "      <td>                       NaN</td>\n",
        "      <td>         NaN</td>\n",
        "      <td>                       NaN</td>\n",
        "      <td> NaN</td>\n",
        "      <td> NaN</td>\n",
        "      <td>    NaN</td>\n",
        "      <td>NaN</td>\n",
        "      <td>...</td>\n",
        "      <td>NaN</td>\n",
        "      <td>NaN</td>\n",
        "      <td>NaN</td>\n",
        "      <td>NaN</td>\n",
        "      <td>NaN</td>\n",
        "      <td>NaN</td>\n",
        "      <td>NaN</td>\n",
        "      <td>NaN</td>\n",
        "      <td>NaN</td>\n",
        "      <td>NaN</td>\n",
        "    </tr>\n",
        "    <tr>\n",
        "      <th>17   </th>\n",
        "      <td> #10364</td>\n",
        "      <td>  ahmed.fakhry@gmail.com</td>\n",
        "      <td>     NaN</td>\n",
        "      <td>                       NaN</td>\n",
        "      <td>         NaN</td>\n",
        "      <td>                       NaN</td>\n",
        "      <td> NaN</td>\n",
        "      <td> NaN</td>\n",
        "      <td>    NaN</td>\n",
        "      <td>NaN</td>\n",
        "      <td>...</td>\n",
        "      <td>NaN</td>\n",
        "      <td>NaN</td>\n",
        "      <td>NaN</td>\n",
        "      <td>NaN</td>\n",
        "      <td>NaN</td>\n",
        "      <td>NaN</td>\n",
        "      <td>NaN</td>\n",
        "      <td>NaN</td>\n",
        "      <td>NaN</td>\n",
        "      <td>NaN</td>\n",
        "    </tr>\n",
        "    <tr>\n",
        "      <th>18   </th>\n",
        "      <td> #10364</td>\n",
        "      <td>  ahmed.fakhry@gmail.com</td>\n",
        "      <td>     NaN</td>\n",
        "      <td>                       NaN</td>\n",
        "      <td>         NaN</td>\n",
        "      <td>                       NaN</td>\n",
        "      <td> NaN</td>\n",
        "      <td> NaN</td>\n",
        "      <td>    NaN</td>\n",
        "      <td>NaN</td>\n",
        "      <td>...</td>\n",
        "      <td>NaN</td>\n",
        "      <td>NaN</td>\n",
        "      <td>NaN</td>\n",
        "      <td>NaN</td>\n",
        "      <td>NaN</td>\n",
        "      <td>NaN</td>\n",
        "      <td>NaN</td>\n",
        "      <td>NaN</td>\n",
        "      <td>NaN</td>\n",
        "      <td>NaN</td>\n",
        "    </tr>\n",
        "    <tr>\n",
        "      <th>19   </th>\n",
        "      <td> #10364</td>\n",
        "      <td>  ahmed.fakhry@gmail.com</td>\n",
        "      <td>     NaN</td>\n",
        "      <td>                       NaN</td>\n",
        "      <td>         NaN</td>\n",
        "      <td>                       NaN</td>\n",
        "      <td> NaN</td>\n",
        "      <td> NaN</td>\n",
        "      <td>    NaN</td>\n",
        "      <td>NaN</td>\n",
        "      <td>...</td>\n",
        "      <td>NaN</td>\n",
        "      <td>NaN</td>\n",
        "      <td>NaN</td>\n",
        "      <td>NaN</td>\n",
        "      <td>NaN</td>\n",
        "      <td>NaN</td>\n",
        "      <td>NaN</td>\n",
        "      <td>NaN</td>\n",
        "      <td>NaN</td>\n",
        "      <td>NaN</td>\n",
        "    </tr>\n",
        "    <tr>\n",
        "      <th>20   </th>\n",
        "      <td> #10364</td>\n",
        "      <td>  ahmed.fakhry@gmail.com</td>\n",
        "      <td>     NaN</td>\n",
        "      <td>                       NaN</td>\n",
        "      <td>         NaN</td>\n",
        "      <td>                       NaN</td>\n",
        "      <td> NaN</td>\n",
        "      <td> NaN</td>\n",
        "      <td>    NaN</td>\n",
        "      <td>NaN</td>\n",
        "      <td>...</td>\n",
        "      <td>NaN</td>\n",
        "      <td>NaN</td>\n",
        "      <td>NaN</td>\n",
        "      <td>NaN</td>\n",
        "      <td>NaN</td>\n",
        "      <td>NaN</td>\n",
        "      <td>NaN</td>\n",
        "      <td>NaN</td>\n",
        "      <td>NaN</td>\n",
        "      <td>NaN</td>\n",
        "    </tr>\n",
        "    <tr>\n",
        "      <th>21   </th>\n",
        "      <td> #10363</td>\n",
        "      <td>  ahmed.fakhry@gmail.com</td>\n",
        "      <td> pending</td>\n",
        "      <td>                       NaN</td>\n",
        "      <td> unfulfilled</td>\n",
        "      <td>                       NaN</td>\n",
        "      <td>  no</td>\n",
        "      <td> EGP</td>\n",
        "      <td> 592.00</td>\n",
        "      <td> 10</td>\n",
        "      <td>...</td>\n",
        "      <td>NaN</td>\n",
        "      <td>NaN</td>\n",
        "      <td>NaN</td>\n",
        "      <td>NaN</td>\n",
        "      <td>NaN</td>\n",
        "      <td>NaN</td>\n",
        "      <td>NaN</td>\n",
        "      <td>NaN</td>\n",
        "      <td>NaN</td>\n",
        "      <td>NaN</td>\n",
        "    </tr>\n",
        "    <tr>\n",
        "      <th>22   </th>\n",
        "      <td> #10362</td>\n",
        "      <td>    Missilou11@yahoo.com</td>\n",
        "      <td> pending</td>\n",
        "      <td>                       NaN</td>\n",
        "      <td> unfulfilled</td>\n",
        "      <td>                       NaN</td>\n",
        "      <td>  no</td>\n",
        "      <td> EGP</td>\n",
        "      <td>  70.20</td>\n",
        "      <td> 15</td>\n",
        "      <td>...</td>\n",
        "      <td>NaN</td>\n",
        "      <td>NaN</td>\n",
        "      <td>NaN</td>\n",
        "      <td>NaN</td>\n",
        "      <td>NaN</td>\n",
        "      <td>NaN</td>\n",
        "      <td>NaN</td>\n",
        "      <td>NaN</td>\n",
        "      <td>NaN</td>\n",
        "      <td>NaN</td>\n",
        "    </tr>\n",
        "    <tr>\n",
        "      <th>23   </th>\n",
        "      <td> #10361</td>\n",
        "      <td> sallysalem123@gmail.com</td>\n",
        "      <td> pending</td>\n",
        "      <td>                       NaN</td>\n",
        "      <td> unfulfilled</td>\n",
        "      <td>                       NaN</td>\n",
        "      <td>  no</td>\n",
        "      <td> EGP</td>\n",
        "      <td> 432.00</td>\n",
        "      <td> 10</td>\n",
        "      <td>...</td>\n",
        "      <td>NaN</td>\n",
        "      <td>NaN</td>\n",
        "      <td>NaN</td>\n",
        "      <td>NaN</td>\n",
        "      <td>NaN</td>\n",
        "      <td>NaN</td>\n",
        "      <td>NaN</td>\n",
        "      <td>NaN</td>\n",
        "      <td>NaN</td>\n",
        "      <td>NaN</td>\n",
        "    </tr>\n",
        "    <tr>\n",
        "      <th>24   </th>\n",
        "      <td> #10361</td>\n",
        "      <td> sallysalem123@gmail.com</td>\n",
        "      <td>     NaN</td>\n",
        "      <td>                       NaN</td>\n",
        "      <td>         NaN</td>\n",
        "      <td>                       NaN</td>\n",
        "      <td> NaN</td>\n",
        "      <td> NaN</td>\n",
        "      <td>    NaN</td>\n",
        "      <td>NaN</td>\n",
        "      <td>...</td>\n",
        "      <td>NaN</td>\n",
        "      <td>NaN</td>\n",
        "      <td>NaN</td>\n",
        "      <td>NaN</td>\n",
        "      <td>NaN</td>\n",
        "      <td>NaN</td>\n",
        "      <td>NaN</td>\n",
        "      <td>NaN</td>\n",
        "      <td>NaN</td>\n",
        "      <td>NaN</td>\n",
        "    </tr>\n",
        "    <tr>\n",
        "      <th>25   </th>\n",
        "      <td> #10361</td>\n",
        "      <td> sallysalem123@gmail.com</td>\n",
        "      <td>     NaN</td>\n",
        "      <td>                       NaN</td>\n",
        "      <td>         NaN</td>\n",
        "      <td>                       NaN</td>\n",
        "      <td> NaN</td>\n",
        "      <td> NaN</td>\n",
        "      <td>    NaN</td>\n",
        "      <td>NaN</td>\n",
        "      <td>...</td>\n",
        "      <td>NaN</td>\n",
        "      <td>NaN</td>\n",
        "      <td>NaN</td>\n",
        "      <td>NaN</td>\n",
        "      <td>NaN</td>\n",
        "      <td>NaN</td>\n",
        "      <td>NaN</td>\n",
        "      <td>NaN</td>\n",
        "      <td>NaN</td>\n",
        "      <td>NaN</td>\n",
        "    </tr>\n",
        "    <tr>\n",
        "      <th>26   </th>\n",
        "      <td> #10361</td>\n",
        "      <td> sallysalem123@gmail.com</td>\n",
        "      <td>     NaN</td>\n",
        "      <td>                       NaN</td>\n",
        "      <td>         NaN</td>\n",
        "      <td>                       NaN</td>\n",
        "      <td> NaN</td>\n",
        "      <td> NaN</td>\n",
        "      <td>    NaN</td>\n",
        "      <td>NaN</td>\n",
        "      <td>...</td>\n",
        "      <td>NaN</td>\n",
        "      <td>NaN</td>\n",
        "      <td>NaN</td>\n",
        "      <td>NaN</td>\n",
        "      <td>NaN</td>\n",
        "      <td>NaN</td>\n",
        "      <td>NaN</td>\n",
        "      <td>NaN</td>\n",
        "      <td>NaN</td>\n",
        "      <td>NaN</td>\n",
        "    </tr>\n",
        "    <tr>\n",
        "      <th>27   </th>\n",
        "      <td> #10361</td>\n",
        "      <td> sallysalem123@gmail.com</td>\n",
        "      <td>     NaN</td>\n",
        "      <td>                       NaN</td>\n",
        "      <td>         NaN</td>\n",
        "      <td>                       NaN</td>\n",
        "      <td> NaN</td>\n",
        "      <td> NaN</td>\n",
        "      <td>    NaN</td>\n",
        "      <td>NaN</td>\n",
        "      <td>...</td>\n",
        "      <td>NaN</td>\n",
        "      <td>NaN</td>\n",
        "      <td>NaN</td>\n",
        "      <td>NaN</td>\n",
        "      <td>NaN</td>\n",
        "      <td>NaN</td>\n",
        "      <td>NaN</td>\n",
        "      <td>NaN</td>\n",
        "      <td>NaN</td>\n",
        "      <td>NaN</td>\n",
        "    </tr>\n",
        "    <tr>\n",
        "      <th>28   </th>\n",
        "      <td> #10361</td>\n",
        "      <td> sallysalem123@gmail.com</td>\n",
        "      <td>     NaN</td>\n",
        "      <td>                       NaN</td>\n",
        "      <td>         NaN</td>\n",
        "      <td>                       NaN</td>\n",
        "      <td> NaN</td>\n",
        "      <td> NaN</td>\n",
        "      <td>    NaN</td>\n",
        "      <td>NaN</td>\n",
        "      <td>...</td>\n",
        "      <td>NaN</td>\n",
        "      <td>NaN</td>\n",
        "      <td>NaN</td>\n",
        "      <td>NaN</td>\n",
        "      <td>NaN</td>\n",
        "      <td>NaN</td>\n",
        "      <td>NaN</td>\n",
        "      <td>NaN</td>\n",
        "      <td>NaN</td>\n",
        "      <td>NaN</td>\n",
        "    </tr>\n",
        "    <tr>\n",
        "      <th>29   </th>\n",
        "      <td> #10361</td>\n",
        "      <td> sallysalem123@gmail.com</td>\n",
        "      <td>     NaN</td>\n",
        "      <td>                       NaN</td>\n",
        "      <td>         NaN</td>\n",
        "      <td>                       NaN</td>\n",
        "      <td> NaN</td>\n",
        "      <td> NaN</td>\n",
        "      <td>    NaN</td>\n",
        "      <td>NaN</td>\n",
        "      <td>...</td>\n",
        "      <td>NaN</td>\n",
        "      <td>NaN</td>\n",
        "      <td>NaN</td>\n",
        "      <td>NaN</td>\n",
        "      <td>NaN</td>\n",
        "      <td>NaN</td>\n",
        "      <td>NaN</td>\n",
        "      <td>NaN</td>\n",
        "      <td>NaN</td>\n",
        "      <td>NaN</td>\n",
        "    </tr>\n",
        "    <tr>\n",
        "      <th>...</th>\n",
        "      <td>...</td>\n",
        "      <td>...</td>\n",
        "      <td>...</td>\n",
        "      <td>...</td>\n",
        "      <td>...</td>\n",
        "      <td>...</td>\n",
        "      <td>...</td>\n",
        "      <td>...</td>\n",
        "      <td>...</td>\n",
        "      <td>...</td>\n",
        "      <td>...</td>\n",
        "      <td>...</td>\n",
        "      <td>...</td>\n",
        "      <td>...</td>\n",
        "      <td>...</td>\n",
        "      <td>...</td>\n",
        "      <td>...</td>\n",
        "      <td>...</td>\n",
        "      <td>...</td>\n",
        "      <td>...</td>\n",
        "      <td>...</td>\n",
        "    </tr>\n",
        "    <tr>\n",
        "      <th>60742</th>\n",
        "      <td>  #1013</td>\n",
        "      <td>  lik-novikova@yandex.ru</td>\n",
        "      <td>     NaN</td>\n",
        "      <td>                       NaN</td>\n",
        "      <td>         NaN</td>\n",
        "      <td>                       NaN</td>\n",
        "      <td> NaN</td>\n",
        "      <td> NaN</td>\n",
        "      <td>    NaN</td>\n",
        "      <td>NaN</td>\n",
        "      <td>...</td>\n",
        "      <td>NaN</td>\n",
        "      <td>NaN</td>\n",
        "      <td>NaN</td>\n",
        "      <td>NaN</td>\n",
        "      <td>NaN</td>\n",
        "      <td>NaN</td>\n",
        "      <td>NaN</td>\n",
        "      <td>NaN</td>\n",
        "      <td>NaN</td>\n",
        "      <td>NaN</td>\n",
        "    </tr>\n",
        "    <tr>\n",
        "      <th>60743</th>\n",
        "      <td>  #1012</td>\n",
        "      <td>     bettyhedrich@gmx.de</td>\n",
        "      <td>    paid</td>\n",
        "      <td> 2012-05-27 13:15:42 +0200</td>\n",
        "      <td>   fulfilled</td>\n",
        "      <td> 2012-05-27 13:15:14 +0200</td>\n",
        "      <td>  no</td>\n",
        "      <td> EGP</td>\n",
        "      <td>  41.93</td>\n",
        "      <td>  5</td>\n",
        "      <td>...</td>\n",
        "      <td>NaN</td>\n",
        "      <td>NaN</td>\n",
        "      <td>NaN</td>\n",
        "      <td>NaN</td>\n",
        "      <td>NaN</td>\n",
        "      <td>NaN</td>\n",
        "      <td>NaN</td>\n",
        "      <td>NaN</td>\n",
        "      <td>NaN</td>\n",
        "      <td>NaN</td>\n",
        "    </tr>\n",
        "    <tr>\n",
        "      <th>60744</th>\n",
        "      <td>  #1012</td>\n",
        "      <td>     bettyhedrich@gmx.de</td>\n",
        "      <td>     NaN</td>\n",
        "      <td>                       NaN</td>\n",
        "      <td>         NaN</td>\n",
        "      <td>                       NaN</td>\n",
        "      <td> NaN</td>\n",
        "      <td> NaN</td>\n",
        "      <td>    NaN</td>\n",
        "      <td>NaN</td>\n",
        "      <td>...</td>\n",
        "      <td>NaN</td>\n",
        "      <td>NaN</td>\n",
        "      <td>NaN</td>\n",
        "      <td>NaN</td>\n",
        "      <td>NaN</td>\n",
        "      <td>NaN</td>\n",
        "      <td>NaN</td>\n",
        "      <td>NaN</td>\n",
        "      <td>NaN</td>\n",
        "      <td>NaN</td>\n",
        "    </tr>\n",
        "    <tr>\n",
        "      <th>60745</th>\n",
        "      <td>  #1011</td>\n",
        "      <td>           rulah@msn.com</td>\n",
        "      <td>    paid</td>\n",
        "      <td> 2012-05-21 18:33:13 +0200</td>\n",
        "      <td>   fulfilled</td>\n",
        "      <td> 2012-05-21 18:33:43 +0200</td>\n",
        "      <td> yes</td>\n",
        "      <td> EGP</td>\n",
        "      <td> 222.30</td>\n",
        "      <td>  5</td>\n",
        "      <td>...</td>\n",
        "      <td>NaN</td>\n",
        "      <td>NaN</td>\n",
        "      <td>NaN</td>\n",
        "      <td>NaN</td>\n",
        "      <td>NaN</td>\n",
        "      <td>NaN</td>\n",
        "      <td>NaN</td>\n",
        "      <td>NaN</td>\n",
        "      <td>NaN</td>\n",
        "      <td>NaN</td>\n",
        "    </tr>\n",
        "    <tr>\n",
        "      <th>60746</th>\n",
        "      <td>  #1010</td>\n",
        "      <td>     milda_b@hotmail.com</td>\n",
        "      <td>    paid</td>\n",
        "      <td> 2012-05-09 11:09:12 +0200</td>\n",
        "      <td>   fulfilled</td>\n",
        "      <td> 2012-05-09 11:09:06 +0200</td>\n",
        "      <td> yes</td>\n",
        "      <td> EGP</td>\n",
        "      <td> 155.55</td>\n",
        "      <td>  5</td>\n",
        "      <td>...</td>\n",
        "      <td>NaN</td>\n",
        "      <td>NaN</td>\n",
        "      <td>NaN</td>\n",
        "      <td>NaN</td>\n",
        "      <td>NaN</td>\n",
        "      <td>NaN</td>\n",
        "      <td>NaN</td>\n",
        "      <td>NaN</td>\n",
        "      <td>NaN</td>\n",
        "      <td>NaN</td>\n",
        "    </tr>\n",
        "    <tr>\n",
        "      <th>60747</th>\n",
        "      <td>  #1010</td>\n",
        "      <td>     milda_b@hotmail.com</td>\n",
        "      <td>     NaN</td>\n",
        "      <td>                       NaN</td>\n",
        "      <td>         NaN</td>\n",
        "      <td>                       NaN</td>\n",
        "      <td> NaN</td>\n",
        "      <td> NaN</td>\n",
        "      <td>    NaN</td>\n",
        "      <td>NaN</td>\n",
        "      <td>...</td>\n",
        "      <td>NaN</td>\n",
        "      <td>NaN</td>\n",
        "      <td>NaN</td>\n",
        "      <td>NaN</td>\n",
        "      <td>NaN</td>\n",
        "      <td>NaN</td>\n",
        "      <td>NaN</td>\n",
        "      <td>NaN</td>\n",
        "      <td>NaN</td>\n",
        "      <td>NaN</td>\n",
        "    </tr>\n",
        "    <tr>\n",
        "      <th>60748</th>\n",
        "      <td>  #1010</td>\n",
        "      <td>     milda_b@hotmail.com</td>\n",
        "      <td>     NaN</td>\n",
        "      <td>                       NaN</td>\n",
        "      <td>         NaN</td>\n",
        "      <td>                       NaN</td>\n",
        "      <td> NaN</td>\n",
        "      <td> NaN</td>\n",
        "      <td>    NaN</td>\n",
        "      <td>NaN</td>\n",
        "      <td>...</td>\n",
        "      <td>NaN</td>\n",
        "      <td>NaN</td>\n",
        "      <td>NaN</td>\n",
        "      <td>NaN</td>\n",
        "      <td>NaN</td>\n",
        "      <td>NaN</td>\n",
        "      <td>NaN</td>\n",
        "      <td>NaN</td>\n",
        "      <td>NaN</td>\n",
        "      <td>NaN</td>\n",
        "    </tr>\n",
        "    <tr>\n",
        "      <th>60749</th>\n",
        "      <td>  #1010</td>\n",
        "      <td>     milda_b@hotmail.com</td>\n",
        "      <td>     NaN</td>\n",
        "      <td>                       NaN</td>\n",
        "      <td>         NaN</td>\n",
        "      <td>                       NaN</td>\n",
        "      <td> NaN</td>\n",
        "      <td> NaN</td>\n",
        "      <td>    NaN</td>\n",
        "      <td>NaN</td>\n",
        "      <td>...</td>\n",
        "      <td>NaN</td>\n",
        "      <td>NaN</td>\n",
        "      <td>NaN</td>\n",
        "      <td>NaN</td>\n",
        "      <td>NaN</td>\n",
        "      <td>NaN</td>\n",
        "      <td>NaN</td>\n",
        "      <td>NaN</td>\n",
        "      <td>NaN</td>\n",
        "      <td>NaN</td>\n",
        "    </tr>\n",
        "    <tr>\n",
        "      <th>60750</th>\n",
        "      <td>  #1010</td>\n",
        "      <td>     milda_b@hotmail.com</td>\n",
        "      <td>     NaN</td>\n",
        "      <td>                       NaN</td>\n",
        "      <td>         NaN</td>\n",
        "      <td>                       NaN</td>\n",
        "      <td> NaN</td>\n",
        "      <td> NaN</td>\n",
        "      <td>    NaN</td>\n",
        "      <td>NaN</td>\n",
        "      <td>...</td>\n",
        "      <td>NaN</td>\n",
        "      <td>NaN</td>\n",
        "      <td>NaN</td>\n",
        "      <td>NaN</td>\n",
        "      <td>NaN</td>\n",
        "      <td>NaN</td>\n",
        "      <td>NaN</td>\n",
        "      <td>NaN</td>\n",
        "      <td>NaN</td>\n",
        "      <td>NaN</td>\n",
        "    </tr>\n",
        "    <tr>\n",
        "      <th>60751</th>\n",
        "      <td>  #1010</td>\n",
        "      <td>     milda_b@hotmail.com</td>\n",
        "      <td>     NaN</td>\n",
        "      <td>                       NaN</td>\n",
        "      <td>         NaN</td>\n",
        "      <td>                       NaN</td>\n",
        "      <td> NaN</td>\n",
        "      <td> NaN</td>\n",
        "      <td>    NaN</td>\n",
        "      <td>NaN</td>\n",
        "      <td>...</td>\n",
        "      <td>NaN</td>\n",
        "      <td>NaN</td>\n",
        "      <td>NaN</td>\n",
        "      <td>NaN</td>\n",
        "      <td>NaN</td>\n",
        "      <td>NaN</td>\n",
        "      <td>NaN</td>\n",
        "      <td>NaN</td>\n",
        "      <td>NaN</td>\n",
        "      <td>NaN</td>\n",
        "    </tr>\n",
        "    <tr>\n",
        "      <th>60752</th>\n",
        "      <td>  #1010</td>\n",
        "      <td>     milda_b@hotmail.com</td>\n",
        "      <td>     NaN</td>\n",
        "      <td>                       NaN</td>\n",
        "      <td>         NaN</td>\n",
        "      <td>                       NaN</td>\n",
        "      <td> NaN</td>\n",
        "      <td> NaN</td>\n",
        "      <td>    NaN</td>\n",
        "      <td>NaN</td>\n",
        "      <td>...</td>\n",
        "      <td>NaN</td>\n",
        "      <td>NaN</td>\n",
        "      <td>NaN</td>\n",
        "      <td>NaN</td>\n",
        "      <td>NaN</td>\n",
        "      <td>NaN</td>\n",
        "      <td>NaN</td>\n",
        "      <td>NaN</td>\n",
        "      <td>NaN</td>\n",
        "      <td>NaN</td>\n",
        "    </tr>\n",
        "    <tr>\n",
        "      <th>60753</th>\n",
        "      <td>  #1009</td>\n",
        "      <td>     bente.ring@yahoo.no</td>\n",
        "      <td>    paid</td>\n",
        "      <td> 2012-05-10 19:12:35 +0200</td>\n",
        "      <td>   fulfilled</td>\n",
        "      <td> 2012-05-10 19:12:32 +0200</td>\n",
        "      <td> yes</td>\n",
        "      <td> EGP</td>\n",
        "      <td>  45.50</td>\n",
        "      <td>  5</td>\n",
        "      <td>...</td>\n",
        "      <td>NaN</td>\n",
        "      <td>NaN</td>\n",
        "      <td>NaN</td>\n",
        "      <td>NaN</td>\n",
        "      <td>NaN</td>\n",
        "      <td>NaN</td>\n",
        "      <td>NaN</td>\n",
        "      <td>NaN</td>\n",
        "      <td>NaN</td>\n",
        "      <td>NaN</td>\n",
        "    </tr>\n",
        "    <tr>\n",
        "      <th>60754</th>\n",
        "      <td>  #1008</td>\n",
        "      <td>     bente.ring@yahoo.no</td>\n",
        "      <td>    paid</td>\n",
        "      <td> 2012-05-10 19:13:35 +0200</td>\n",
        "      <td>   fulfilled</td>\n",
        "      <td> 2012-05-10 19:13:32 +0200</td>\n",
        "      <td> yes</td>\n",
        "      <td> EGP</td>\n",
        "      <td> 357.53</td>\n",
        "      <td>  5</td>\n",
        "      <td>...</td>\n",
        "      <td>NaN</td>\n",
        "      <td>NaN</td>\n",
        "      <td>NaN</td>\n",
        "      <td>NaN</td>\n",
        "      <td>NaN</td>\n",
        "      <td>NaN</td>\n",
        "      <td>NaN</td>\n",
        "      <td>NaN</td>\n",
        "      <td>NaN</td>\n",
        "      <td>NaN</td>\n",
        "    </tr>\n",
        "    <tr>\n",
        "      <th>60755</th>\n",
        "      <td>  #1008</td>\n",
        "      <td>     bente.ring@yahoo.no</td>\n",
        "      <td>     NaN</td>\n",
        "      <td>                       NaN</td>\n",
        "      <td>         NaN</td>\n",
        "      <td>                       NaN</td>\n",
        "      <td> NaN</td>\n",
        "      <td> NaN</td>\n",
        "      <td>    NaN</td>\n",
        "      <td>NaN</td>\n",
        "      <td>...</td>\n",
        "      <td>NaN</td>\n",
        "      <td>NaN</td>\n",
        "      <td>NaN</td>\n",
        "      <td>NaN</td>\n",
        "      <td>NaN</td>\n",
        "      <td>NaN</td>\n",
        "      <td>NaN</td>\n",
        "      <td>NaN</td>\n",
        "      <td>NaN</td>\n",
        "      <td>NaN</td>\n",
        "    </tr>\n",
        "    <tr>\n",
        "      <th>60756</th>\n",
        "      <td>  #1008</td>\n",
        "      <td>     bente.ring@yahoo.no</td>\n",
        "      <td>     NaN</td>\n",
        "      <td>                       NaN</td>\n",
        "      <td>         NaN</td>\n",
        "      <td>                       NaN</td>\n",
        "      <td> NaN</td>\n",
        "      <td> NaN</td>\n",
        "      <td>    NaN</td>\n",
        "      <td>NaN</td>\n",
        "      <td>...</td>\n",
        "      <td>NaN</td>\n",
        "      <td>NaN</td>\n",
        "      <td>NaN</td>\n",
        "      <td>NaN</td>\n",
        "      <td>NaN</td>\n",
        "      <td>NaN</td>\n",
        "      <td>NaN</td>\n",
        "      <td>NaN</td>\n",
        "      <td>NaN</td>\n",
        "      <td>NaN</td>\n",
        "    </tr>\n",
        "    <tr>\n",
        "      <th>60757</th>\n",
        "      <td>  #1008</td>\n",
        "      <td>     bente.ring@yahoo.no</td>\n",
        "      <td>     NaN</td>\n",
        "      <td>                       NaN</td>\n",
        "      <td>         NaN</td>\n",
        "      <td>                       NaN</td>\n",
        "      <td> NaN</td>\n",
        "      <td> NaN</td>\n",
        "      <td>    NaN</td>\n",
        "      <td>NaN</td>\n",
        "      <td>...</td>\n",
        "      <td>NaN</td>\n",
        "      <td>NaN</td>\n",
        "      <td>NaN</td>\n",
        "      <td>NaN</td>\n",
        "      <td>NaN</td>\n",
        "      <td>NaN</td>\n",
        "      <td>NaN</td>\n",
        "      <td>NaN</td>\n",
        "      <td>NaN</td>\n",
        "      <td>NaN</td>\n",
        "    </tr>\n",
        "    <tr>\n",
        "      <th>60758</th>\n",
        "      <td>  #1008</td>\n",
        "      <td>     bente.ring@yahoo.no</td>\n",
        "      <td>     NaN</td>\n",
        "      <td>                       NaN</td>\n",
        "      <td>         NaN</td>\n",
        "      <td>                       NaN</td>\n",
        "      <td> NaN</td>\n",
        "      <td> NaN</td>\n",
        "      <td>    NaN</td>\n",
        "      <td>NaN</td>\n",
        "      <td>...</td>\n",
        "      <td>NaN</td>\n",
        "      <td>NaN</td>\n",
        "      <td>NaN</td>\n",
        "      <td>NaN</td>\n",
        "      <td>NaN</td>\n",
        "      <td>NaN</td>\n",
        "      <td>NaN</td>\n",
        "      <td>NaN</td>\n",
        "      <td>NaN</td>\n",
        "      <td>NaN</td>\n",
        "    </tr>\n",
        "    <tr>\n",
        "      <th>60759</th>\n",
        "      <td>  #1007</td>\n",
        "      <td>  lik-novikova@yandex.ru</td>\n",
        "      <td>    paid</td>\n",
        "      <td> 2012-05-04 18:36:50 +0200</td>\n",
        "      <td>   fulfilled</td>\n",
        "      <td> 2012-05-04 18:33:47 +0200</td>\n",
        "      <td> yes</td>\n",
        "      <td> EGP</td>\n",
        "      <td> 110.83</td>\n",
        "      <td>  5</td>\n",
        "      <td>...</td>\n",
        "      <td>NaN</td>\n",
        "      <td>NaN</td>\n",
        "      <td>NaN</td>\n",
        "      <td>NaN</td>\n",
        "      <td>NaN</td>\n",
        "      <td>NaN</td>\n",
        "      <td>NaN</td>\n",
        "      <td>NaN</td>\n",
        "      <td>NaN</td>\n",
        "      <td>NaN</td>\n",
        "    </tr>\n",
        "    <tr>\n",
        "      <th>60760</th>\n",
        "      <td>  #1007</td>\n",
        "      <td>  lik-novikova@yandex.ru</td>\n",
        "      <td>     NaN</td>\n",
        "      <td>                       NaN</td>\n",
        "      <td>         NaN</td>\n",
        "      <td>                       NaN</td>\n",
        "      <td> NaN</td>\n",
        "      <td> NaN</td>\n",
        "      <td>    NaN</td>\n",
        "      <td>NaN</td>\n",
        "      <td>...</td>\n",
        "      <td>NaN</td>\n",
        "      <td>NaN</td>\n",
        "      <td>NaN</td>\n",
        "      <td>NaN</td>\n",
        "      <td>NaN</td>\n",
        "      <td>NaN</td>\n",
        "      <td>NaN</td>\n",
        "      <td>NaN</td>\n",
        "      <td>NaN</td>\n",
        "      <td>NaN</td>\n",
        "    </tr>\n",
        "    <tr>\n",
        "      <th>60761</th>\n",
        "      <td>  #1007</td>\n",
        "      <td>  lik-novikova@yandex.ru</td>\n",
        "      <td>     NaN</td>\n",
        "      <td>                       NaN</td>\n",
        "      <td>         NaN</td>\n",
        "      <td>                       NaN</td>\n",
        "      <td> NaN</td>\n",
        "      <td> NaN</td>\n",
        "      <td>    NaN</td>\n",
        "      <td>NaN</td>\n",
        "      <td>...</td>\n",
        "      <td>NaN</td>\n",
        "      <td>NaN</td>\n",
        "      <td>NaN</td>\n",
        "      <td>NaN</td>\n",
        "      <td>NaN</td>\n",
        "      <td>NaN</td>\n",
        "      <td>NaN</td>\n",
        "      <td>NaN</td>\n",
        "      <td>NaN</td>\n",
        "      <td>NaN</td>\n",
        "    </tr>\n",
        "    <tr>\n",
        "      <th>60762</th>\n",
        "      <td>  #1007</td>\n",
        "      <td>  lik-novikova@yandex.ru</td>\n",
        "      <td>     NaN</td>\n",
        "      <td>                       NaN</td>\n",
        "      <td>         NaN</td>\n",
        "      <td>                       NaN</td>\n",
        "      <td> NaN</td>\n",
        "      <td> NaN</td>\n",
        "      <td>    NaN</td>\n",
        "      <td>NaN</td>\n",
        "      <td>...</td>\n",
        "      <td>NaN</td>\n",
        "      <td>NaN</td>\n",
        "      <td>NaN</td>\n",
        "      <td>NaN</td>\n",
        "      <td>NaN</td>\n",
        "      <td>NaN</td>\n",
        "      <td>NaN</td>\n",
        "      <td>NaN</td>\n",
        "      <td>NaN</td>\n",
        "      <td>NaN</td>\n",
        "    </tr>\n",
        "    <tr>\n",
        "      <th>60763</th>\n",
        "      <td>  #1006</td>\n",
        "      <td>     bente.ring@yahoo.no</td>\n",
        "      <td>    paid</td>\n",
        "      <td> 2012-05-04 18:37:13 +0200</td>\n",
        "      <td>   fulfilled</td>\n",
        "      <td> 2012-05-03 10:57:23 +0200</td>\n",
        "      <td> yes</td>\n",
        "      <td> EGP</td>\n",
        "      <td> 201.51</td>\n",
        "      <td>  5</td>\n",
        "      <td>...</td>\n",
        "      <td>NaN</td>\n",
        "      <td>NaN</td>\n",
        "      <td>NaN</td>\n",
        "      <td>NaN</td>\n",
        "      <td>NaN</td>\n",
        "      <td>NaN</td>\n",
        "      <td>NaN</td>\n",
        "      <td>NaN</td>\n",
        "      <td>NaN</td>\n",
        "      <td>NaN</td>\n",
        "    </tr>\n",
        "    <tr>\n",
        "      <th>60764</th>\n",
        "      <td>  #1006</td>\n",
        "      <td>     bente.ring@yahoo.no</td>\n",
        "      <td>     NaN</td>\n",
        "      <td>                       NaN</td>\n",
        "      <td>         NaN</td>\n",
        "      <td>                       NaN</td>\n",
        "      <td> NaN</td>\n",
        "      <td> NaN</td>\n",
        "      <td>    NaN</td>\n",
        "      <td>NaN</td>\n",
        "      <td>...</td>\n",
        "      <td>NaN</td>\n",
        "      <td>NaN</td>\n",
        "      <td>NaN</td>\n",
        "      <td>NaN</td>\n",
        "      <td>NaN</td>\n",
        "      <td>NaN</td>\n",
        "      <td>NaN</td>\n",
        "      <td>NaN</td>\n",
        "      <td>NaN</td>\n",
        "      <td>NaN</td>\n",
        "    </tr>\n",
        "    <tr>\n",
        "      <th>60765</th>\n",
        "      <td>  #1006</td>\n",
        "      <td>     bente.ring@yahoo.no</td>\n",
        "      <td>     NaN</td>\n",
        "      <td>                       NaN</td>\n",
        "      <td>         NaN</td>\n",
        "      <td>                       NaN</td>\n",
        "      <td> NaN</td>\n",
        "      <td> NaN</td>\n",
        "      <td>    NaN</td>\n",
        "      <td>NaN</td>\n",
        "      <td>...</td>\n",
        "      <td>NaN</td>\n",
        "      <td>NaN</td>\n",
        "      <td>NaN</td>\n",
        "      <td>NaN</td>\n",
        "      <td>NaN</td>\n",
        "      <td>NaN</td>\n",
        "      <td>NaN</td>\n",
        "      <td>NaN</td>\n",
        "      <td>NaN</td>\n",
        "      <td>NaN</td>\n",
        "    </tr>\n",
        "    <tr>\n",
        "      <th>60766</th>\n",
        "      <td>  #1006</td>\n",
        "      <td>     bente.ring@yahoo.no</td>\n",
        "      <td>     NaN</td>\n",
        "      <td>                       NaN</td>\n",
        "      <td>         NaN</td>\n",
        "      <td>                       NaN</td>\n",
        "      <td> NaN</td>\n",
        "      <td> NaN</td>\n",
        "      <td>    NaN</td>\n",
        "      <td>NaN</td>\n",
        "      <td>...</td>\n",
        "      <td>NaN</td>\n",
        "      <td>NaN</td>\n",
        "      <td>NaN</td>\n",
        "      <td>NaN</td>\n",
        "      <td>NaN</td>\n",
        "      <td>NaN</td>\n",
        "      <td>NaN</td>\n",
        "      <td>NaN</td>\n",
        "      <td>NaN</td>\n",
        "      <td>NaN</td>\n",
        "    </tr>\n",
        "    <tr>\n",
        "      <th>60767</th>\n",
        "      <td>  #1006</td>\n",
        "      <td>     bente.ring@yahoo.no</td>\n",
        "      <td>     NaN</td>\n",
        "      <td>                       NaN</td>\n",
        "      <td>         NaN</td>\n",
        "      <td>                       NaN</td>\n",
        "      <td> NaN</td>\n",
        "      <td> NaN</td>\n",
        "      <td>    NaN</td>\n",
        "      <td>NaN</td>\n",
        "      <td>...</td>\n",
        "      <td>NaN</td>\n",
        "      <td>NaN</td>\n",
        "      <td>NaN</td>\n",
        "      <td>NaN</td>\n",
        "      <td>NaN</td>\n",
        "      <td>NaN</td>\n",
        "      <td>NaN</td>\n",
        "      <td>NaN</td>\n",
        "      <td>NaN</td>\n",
        "      <td>NaN</td>\n",
        "    </tr>\n",
        "    <tr>\n",
        "      <th>60768</th>\n",
        "      <td>  #1005</td>\n",
        "      <td>    cathypod@hotmail.com</td>\n",
        "      <td>    paid</td>\n",
        "      <td> 2012-05-04 18:37:35 +0200</td>\n",
        "      <td>   fulfilled</td>\n",
        "      <td> 2012-05-03 11:03:44 +0200</td>\n",
        "      <td> yes</td>\n",
        "      <td> EGP</td>\n",
        "      <td>  54.60</td>\n",
        "      <td>  5</td>\n",
        "      <td>...</td>\n",
        "      <td>NaN</td>\n",
        "      <td>NaN</td>\n",
        "      <td>NaN</td>\n",
        "      <td>NaN</td>\n",
        "      <td>NaN</td>\n",
        "      <td>NaN</td>\n",
        "      <td>NaN</td>\n",
        "      <td>NaN</td>\n",
        "      <td>NaN</td>\n",
        "      <td>NaN</td>\n",
        "    </tr>\n",
        "    <tr>\n",
        "      <th>60769</th>\n",
        "      <td>  #1005</td>\n",
        "      <td>    cathypod@hotmail.com</td>\n",
        "      <td>     NaN</td>\n",
        "      <td>                       NaN</td>\n",
        "      <td>         NaN</td>\n",
        "      <td>                       NaN</td>\n",
        "      <td> NaN</td>\n",
        "      <td> NaN</td>\n",
        "      <td>    NaN</td>\n",
        "      <td>NaN</td>\n",
        "      <td>...</td>\n",
        "      <td>NaN</td>\n",
        "      <td>NaN</td>\n",
        "      <td>NaN</td>\n",
        "      <td>NaN</td>\n",
        "      <td>NaN</td>\n",
        "      <td>NaN</td>\n",
        "      <td>NaN</td>\n",
        "      <td>NaN</td>\n",
        "      <td>NaN</td>\n",
        "      <td>NaN</td>\n",
        "    </tr>\n",
        "    <tr>\n",
        "      <th>60770</th>\n",
        "      <td>  #1005</td>\n",
        "      <td>    cathypod@hotmail.com</td>\n",
        "      <td>     NaN</td>\n",
        "      <td>                       NaN</td>\n",
        "      <td>         NaN</td>\n",
        "      <td>                       NaN</td>\n",
        "      <td> NaN</td>\n",
        "      <td> NaN</td>\n",
        "      <td>    NaN</td>\n",
        "      <td>NaN</td>\n",
        "      <td>...</td>\n",
        "      <td>NaN</td>\n",
        "      <td>NaN</td>\n",
        "      <td>NaN</td>\n",
        "      <td>NaN</td>\n",
        "      <td>NaN</td>\n",
        "      <td>NaN</td>\n",
        "      <td>NaN</td>\n",
        "      <td>NaN</td>\n",
        "      <td>NaN</td>\n",
        "      <td>NaN</td>\n",
        "    </tr>\n",
        "    <tr>\n",
        "      <th>60771</th>\n",
        "      <td>  #1005</td>\n",
        "      <td>    cathypod@hotmail.com</td>\n",
        "      <td>     NaN</td>\n",
        "      <td>                       NaN</td>\n",
        "      <td>         NaN</td>\n",
        "      <td>                       NaN</td>\n",
        "      <td> NaN</td>\n",
        "      <td> NaN</td>\n",
        "      <td>    NaN</td>\n",
        "      <td>NaN</td>\n",
        "      <td>...</td>\n",
        "      <td>NaN</td>\n",
        "      <td>NaN</td>\n",
        "      <td>NaN</td>\n",
        "      <td>NaN</td>\n",
        "      <td>NaN</td>\n",
        "      <td>NaN</td>\n",
        "      <td>NaN</td>\n",
        "      <td>NaN</td>\n",
        "      <td>NaN</td>\n",
        "      <td>NaN</td>\n",
        "    </tr>\n",
        "  </tbody>\n",
        "</table>\n",
        "<p>60772 rows \u00d7 66 columns</p>\n",
        "</div>"
       ],
       "metadata": {},
       "output_type": "pyout",
       "prompt_number": 1,
       "text": [
        "         Name                    Email Financial Status  \\\n",
        "0      #10367   rehabmansour@gmail.com          pending   \n",
        "1      #10367   rehabmansour@gmail.com              NaN   \n",
        "2      #10367   rehabmansour@gmail.com              NaN   \n",
        "3      #10366      nabouheif@yahoo.com          pending   \n",
        "4      #10366      nabouheif@yahoo.com              NaN   \n",
        "5      #10366      nabouheif@yahoo.com              NaN   \n",
        "6      #10365   fracicardi@hotmail.com          pending   \n",
        "7      #10365   fracicardi@hotmail.com              NaN   \n",
        "8      #10365   fracicardi@hotmail.com              NaN   \n",
        "9      #10365   fracicardi@hotmail.com              NaN   \n",
        "10     #10365   fracicardi@hotmail.com              NaN   \n",
        "11     #10365   fracicardi@hotmail.com              NaN   \n",
        "12     #10364   ahmed.fakhry@gmail.com          pending   \n",
        "13     #10364   ahmed.fakhry@gmail.com              NaN   \n",
        "14     #10364   ahmed.fakhry@gmail.com              NaN   \n",
        "15     #10364   ahmed.fakhry@gmail.com              NaN   \n",
        "16     #10364   ahmed.fakhry@gmail.com              NaN   \n",
        "17     #10364   ahmed.fakhry@gmail.com              NaN   \n",
        "18     #10364   ahmed.fakhry@gmail.com              NaN   \n",
        "19     #10364   ahmed.fakhry@gmail.com              NaN   \n",
        "20     #10364   ahmed.fakhry@gmail.com              NaN   \n",
        "21     #10363   ahmed.fakhry@gmail.com          pending   \n",
        "22     #10362     Missilou11@yahoo.com          pending   \n",
        "23     #10361  sallysalem123@gmail.com          pending   \n",
        "24     #10361  sallysalem123@gmail.com              NaN   \n",
        "25     #10361  sallysalem123@gmail.com              NaN   \n",
        "26     #10361  sallysalem123@gmail.com              NaN   \n",
        "27     #10361  sallysalem123@gmail.com              NaN   \n",
        "28     #10361  sallysalem123@gmail.com              NaN   \n",
        "29     #10361  sallysalem123@gmail.com              NaN   \n",
        "...       ...                      ...              ...   \n",
        "60742   #1013   lik-novikova@yandex.ru              NaN   \n",
        "60743   #1012      bettyhedrich@gmx.de             paid   \n",
        "60744   #1012      bettyhedrich@gmx.de              NaN   \n",
        "60745   #1011            rulah@msn.com             paid   \n",
        "60746   #1010      milda_b@hotmail.com             paid   \n",
        "60747   #1010      milda_b@hotmail.com              NaN   \n",
        "60748   #1010      milda_b@hotmail.com              NaN   \n",
        "60749   #1010      milda_b@hotmail.com              NaN   \n",
        "60750   #1010      milda_b@hotmail.com              NaN   \n",
        "60751   #1010      milda_b@hotmail.com              NaN   \n",
        "60752   #1010      milda_b@hotmail.com              NaN   \n",
        "60753   #1009      bente.ring@yahoo.no             paid   \n",
        "60754   #1008      bente.ring@yahoo.no             paid   \n",
        "60755   #1008      bente.ring@yahoo.no              NaN   \n",
        "60756   #1008      bente.ring@yahoo.no              NaN   \n",
        "60757   #1008      bente.ring@yahoo.no              NaN   \n",
        "60758   #1008      bente.ring@yahoo.no              NaN   \n",
        "60759   #1007   lik-novikova@yandex.ru             paid   \n",
        "60760   #1007   lik-novikova@yandex.ru              NaN   \n",
        "60761   #1007   lik-novikova@yandex.ru              NaN   \n",
        "60762   #1007   lik-novikova@yandex.ru              NaN   \n",
        "60763   #1006      bente.ring@yahoo.no             paid   \n",
        "60764   #1006      bente.ring@yahoo.no              NaN   \n",
        "60765   #1006      bente.ring@yahoo.no              NaN   \n",
        "60766   #1006      bente.ring@yahoo.no              NaN   \n",
        "60767   #1006      bente.ring@yahoo.no              NaN   \n",
        "60768   #1005     cathypod@hotmail.com             paid   \n",
        "60769   #1005     cathypod@hotmail.com              NaN   \n",
        "60770   #1005     cathypod@hotmail.com              NaN   \n",
        "60771   #1005     cathypod@hotmail.com              NaN   \n",
        "\n",
        "                         Paid at Fulfillment Status  \\\n",
        "0                            NaN        unfulfilled   \n",
        "1                            NaN                NaN   \n",
        "2                            NaN                NaN   \n",
        "3                            NaN        unfulfilled   \n",
        "4                            NaN                NaN   \n",
        "5                            NaN                NaN   \n",
        "6                            NaN        unfulfilled   \n",
        "7                            NaN                NaN   \n",
        "8                            NaN                NaN   \n",
        "9                            NaN                NaN   \n",
        "10                           NaN                NaN   \n",
        "11                           NaN                NaN   \n",
        "12                           NaN        unfulfilled   \n",
        "13                           NaN                NaN   \n",
        "14                           NaN                NaN   \n",
        "15                           NaN                NaN   \n",
        "16                           NaN                NaN   \n",
        "17                           NaN                NaN   \n",
        "18                           NaN                NaN   \n",
        "19                           NaN                NaN   \n",
        "20                           NaN                NaN   \n",
        "21                           NaN        unfulfilled   \n",
        "22                           NaN        unfulfilled   \n",
        "23                           NaN        unfulfilled   \n",
        "24                           NaN                NaN   \n",
        "25                           NaN                NaN   \n",
        "26                           NaN                NaN   \n",
        "27                           NaN                NaN   \n",
        "28                           NaN                NaN   \n",
        "29                           NaN                NaN   \n",
        "...                          ...                ...   \n",
        "60742                        NaN                NaN   \n",
        "60743  2012-05-27 13:15:42 +0200          fulfilled   \n",
        "60744                        NaN                NaN   \n",
        "60745  2012-05-21 18:33:13 +0200          fulfilled   \n",
        "60746  2012-05-09 11:09:12 +0200          fulfilled   \n",
        "60747                        NaN                NaN   \n",
        "60748                        NaN                NaN   \n",
        "60749                        NaN                NaN   \n",
        "60750                        NaN                NaN   \n",
        "60751                        NaN                NaN   \n",
        "60752                        NaN                NaN   \n",
        "60753  2012-05-10 19:12:35 +0200          fulfilled   \n",
        "60754  2012-05-10 19:13:35 +0200          fulfilled   \n",
        "60755                        NaN                NaN   \n",
        "60756                        NaN                NaN   \n",
        "60757                        NaN                NaN   \n",
        "60758                        NaN                NaN   \n",
        "60759  2012-05-04 18:36:50 +0200          fulfilled   \n",
        "60760                        NaN                NaN   \n",
        "60761                        NaN                NaN   \n",
        "60762                        NaN                NaN   \n",
        "60763  2012-05-04 18:37:13 +0200          fulfilled   \n",
        "60764                        NaN                NaN   \n",
        "60765                        NaN                NaN   \n",
        "60766                        NaN                NaN   \n",
        "60767                        NaN                NaN   \n",
        "60768  2012-05-04 18:37:35 +0200          fulfilled   \n",
        "60769                        NaN                NaN   \n",
        "60770                        NaN                NaN   \n",
        "60771                        NaN                NaN   \n",
        "\n",
        "                    Fulfilled at Accepts Marketing Currency  Subtotal  \\\n",
        "0                            NaN                no      EGP    375.30   \n",
        "1                            NaN               NaN      NaN       NaN   \n",
        "2                            NaN               NaN      NaN       NaN   \n",
        "3                            NaN                no      EGP    162.90   \n",
        "4                            NaN               NaN      NaN       NaN   \n",
        "5                            NaN               NaN      NaN       NaN   \n",
        "6                            NaN                no      EGP    129.00   \n",
        "7                            NaN               NaN      NaN       NaN   \n",
        "8                            NaN               NaN      NaN       NaN   \n",
        "9                            NaN               NaN      NaN       NaN   \n",
        "10                           NaN               NaN      NaN       NaN   \n",
        "11                           NaN               NaN      NaN       NaN   \n",
        "12                           NaN                no      EGP    660.10   \n",
        "13                           NaN               NaN      NaN       NaN   \n",
        "14                           NaN               NaN      NaN       NaN   \n",
        "15                           NaN               NaN      NaN       NaN   \n",
        "16                           NaN               NaN      NaN       NaN   \n",
        "17                           NaN               NaN      NaN       NaN   \n",
        "18                           NaN               NaN      NaN       NaN   \n",
        "19                           NaN               NaN      NaN       NaN   \n",
        "20                           NaN               NaN      NaN       NaN   \n",
        "21                           NaN                no      EGP    592.00   \n",
        "22                           NaN                no      EGP     70.20   \n",
        "23                           NaN                no      EGP    432.00   \n",
        "24                           NaN               NaN      NaN       NaN   \n",
        "25                           NaN               NaN      NaN       NaN   \n",
        "26                           NaN               NaN      NaN       NaN   \n",
        "27                           NaN               NaN      NaN       NaN   \n",
        "28                           NaN               NaN      NaN       NaN   \n",
        "29                           NaN               NaN      NaN       NaN   \n",
        "...                          ...               ...      ...       ...   \n",
        "60742                        NaN               NaN      NaN       NaN   \n",
        "60743  2012-05-27 13:15:14 +0200                no      EGP     41.93   \n",
        "60744                        NaN               NaN      NaN       NaN   \n",
        "60745  2012-05-21 18:33:43 +0200               yes      EGP    222.30   \n",
        "60746  2012-05-09 11:09:06 +0200               yes      EGP    155.55   \n",
        "60747                        NaN               NaN      NaN       NaN   \n",
        "60748                        NaN               NaN      NaN       NaN   \n",
        "60749                        NaN               NaN      NaN       NaN   \n",
        "60750                        NaN               NaN      NaN       NaN   \n",
        "60751                        NaN               NaN      NaN       NaN   \n",
        "60752                        NaN               NaN      NaN       NaN   \n",
        "60753  2012-05-10 19:12:32 +0200               yes      EGP     45.50   \n",
        "60754  2012-05-10 19:13:32 +0200               yes      EGP    357.53   \n",
        "60755                        NaN               NaN      NaN       NaN   \n",
        "60756                        NaN               NaN      NaN       NaN   \n",
        "60757                        NaN               NaN      NaN       NaN   \n",
        "60758                        NaN               NaN      NaN       NaN   \n",
        "60759  2012-05-04 18:33:47 +0200               yes      EGP    110.83   \n",
        "60760                        NaN               NaN      NaN       NaN   \n",
        "60761                        NaN               NaN      NaN       NaN   \n",
        "60762                        NaN               NaN      NaN       NaN   \n",
        "60763  2012-05-03 10:57:23 +0200               yes      EGP    201.51   \n",
        "60764                        NaN               NaN      NaN       NaN   \n",
        "60765                        NaN               NaN      NaN       NaN   \n",
        "60766                        NaN               NaN      NaN       NaN   \n",
        "60767                        NaN               NaN      NaN       NaN   \n",
        "60768  2012-05-03 11:03:44 +0200               yes      EGP     54.60   \n",
        "60769                        NaN               NaN      NaN       NaN   \n",
        "60770                        NaN               NaN      NaN       NaN   \n",
        "60771                        NaN               NaN      NaN       NaN   \n",
        "\n",
        "       Shipping     ...       Tax 1 Name  Tax 1 Value Tax 2 Name  Tax 2 Value  \\\n",
        "0            10     ...              NaN          NaN        NaN          NaN   \n",
        "1           NaN     ...              NaN          NaN        NaN          NaN   \n",
        "2           NaN     ...              NaN          NaN        NaN          NaN   \n",
        "3            10     ...              NaN          NaN        NaN          NaN   \n",
        "4           NaN     ...              NaN          NaN        NaN          NaN   \n",
        "5           NaN     ...              NaN          NaN        NaN          NaN   \n",
        "6            15     ...              NaN          NaN        NaN          NaN   \n",
        "7           NaN     ...              NaN          NaN        NaN          NaN   \n",
        "8           NaN     ...              NaN          NaN        NaN          NaN   \n",
        "9           NaN     ...              NaN          NaN        NaN          NaN   \n",
        "10          NaN     ...              NaN          NaN        NaN          NaN   \n",
        "11          NaN     ...              NaN          NaN        NaN          NaN   \n",
        "12           10     ...              NaN          NaN        NaN          NaN   \n",
        "13          NaN     ...              NaN          NaN        NaN          NaN   \n",
        "14          NaN     ...              NaN          NaN        NaN          NaN   \n",
        "15          NaN     ...              NaN          NaN        NaN          NaN   \n",
        "16          NaN     ...              NaN          NaN        NaN          NaN   \n",
        "17          NaN     ...              NaN          NaN        NaN          NaN   \n",
        "18          NaN     ...              NaN          NaN        NaN          NaN   \n",
        "19          NaN     ...              NaN          NaN        NaN          NaN   \n",
        "20          NaN     ...              NaN          NaN        NaN          NaN   \n",
        "21           10     ...              NaN          NaN        NaN          NaN   \n",
        "22           15     ...              NaN          NaN        NaN          NaN   \n",
        "23           10     ...              NaN          NaN        NaN          NaN   \n",
        "24          NaN     ...              NaN          NaN        NaN          NaN   \n",
        "25          NaN     ...              NaN          NaN        NaN          NaN   \n",
        "26          NaN     ...              NaN          NaN        NaN          NaN   \n",
        "27          NaN     ...              NaN          NaN        NaN          NaN   \n",
        "28          NaN     ...              NaN          NaN        NaN          NaN   \n",
        "29          NaN     ...              NaN          NaN        NaN          NaN   \n",
        "...         ...     ...              ...          ...        ...          ...   \n",
        "60742       NaN     ...              NaN          NaN        NaN          NaN   \n",
        "60743         5     ...              NaN          NaN        NaN          NaN   \n",
        "60744       NaN     ...              NaN          NaN        NaN          NaN   \n",
        "60745         5     ...              NaN          NaN        NaN          NaN   \n",
        "60746         5     ...              NaN          NaN        NaN          NaN   \n",
        "60747       NaN     ...              NaN          NaN        NaN          NaN   \n",
        "60748       NaN     ...              NaN          NaN        NaN          NaN   \n",
        "60749       NaN     ...              NaN          NaN        NaN          NaN   \n",
        "60750       NaN     ...              NaN          NaN        NaN          NaN   \n",
        "60751       NaN     ...              NaN          NaN        NaN          NaN   \n",
        "60752       NaN     ...              NaN          NaN        NaN          NaN   \n",
        "60753         5     ...              NaN          NaN        NaN          NaN   \n",
        "60754         5     ...              NaN          NaN        NaN          NaN   \n",
        "60755       NaN     ...              NaN          NaN        NaN          NaN   \n",
        "60756       NaN     ...              NaN          NaN        NaN          NaN   \n",
        "60757       NaN     ...              NaN          NaN        NaN          NaN   \n",
        "60758       NaN     ...              NaN          NaN        NaN          NaN   \n",
        "60759         5     ...              NaN          NaN        NaN          NaN   \n",
        "60760       NaN     ...              NaN          NaN        NaN          NaN   \n",
        "60761       NaN     ...              NaN          NaN        NaN          NaN   \n",
        "60762       NaN     ...              NaN          NaN        NaN          NaN   \n",
        "60763         5     ...              NaN          NaN        NaN          NaN   \n",
        "60764       NaN     ...              NaN          NaN        NaN          NaN   \n",
        "60765       NaN     ...              NaN          NaN        NaN          NaN   \n",
        "60766       NaN     ...              NaN          NaN        NaN          NaN   \n",
        "60767       NaN     ...              NaN          NaN        NaN          NaN   \n",
        "60768         5     ...              NaN          NaN        NaN          NaN   \n",
        "60769       NaN     ...              NaN          NaN        NaN          NaN   \n",
        "60770       NaN     ...              NaN          NaN        NaN          NaN   \n",
        "60771       NaN     ...              NaN          NaN        NaN          NaN   \n",
        "\n",
        "      Tax 3 Name Tax 3 Value  Tax 4 Name Tax 4 Value  Tax 5 Name  Tax 5 Value  \n",
        "0            NaN         NaN         NaN         NaN         NaN          NaN  \n",
        "1            NaN         NaN         NaN         NaN         NaN          NaN  \n",
        "2            NaN         NaN         NaN         NaN         NaN          NaN  \n",
        "3            NaN         NaN         NaN         NaN         NaN          NaN  \n",
        "4            NaN         NaN         NaN         NaN         NaN          NaN  \n",
        "5            NaN         NaN         NaN         NaN         NaN          NaN  \n",
        "6            NaN         NaN         NaN         NaN         NaN          NaN  \n",
        "7            NaN         NaN         NaN         NaN         NaN          NaN  \n",
        "8            NaN         NaN         NaN         NaN         NaN          NaN  \n",
        "9            NaN         NaN         NaN         NaN         NaN          NaN  \n",
        "10           NaN         NaN         NaN         NaN         NaN          NaN  \n",
        "11           NaN         NaN         NaN         NaN         NaN          NaN  \n",
        "12           NaN         NaN         NaN         NaN         NaN          NaN  \n",
        "13           NaN         NaN         NaN         NaN         NaN          NaN  \n",
        "14           NaN         NaN         NaN         NaN         NaN          NaN  \n",
        "15           NaN         NaN         NaN         NaN         NaN          NaN  \n",
        "16           NaN         NaN         NaN         NaN         NaN          NaN  \n",
        "17           NaN         NaN         NaN         NaN         NaN          NaN  \n",
        "18           NaN         NaN         NaN         NaN         NaN          NaN  \n",
        "19           NaN         NaN         NaN         NaN         NaN          NaN  \n",
        "20           NaN         NaN         NaN         NaN         NaN          NaN  \n",
        "21           NaN         NaN         NaN         NaN         NaN          NaN  \n",
        "22           NaN         NaN         NaN         NaN         NaN          NaN  \n",
        "23           NaN         NaN         NaN         NaN         NaN          NaN  \n",
        "24           NaN         NaN         NaN         NaN         NaN          NaN  \n",
        "25           NaN         NaN         NaN         NaN         NaN          NaN  \n",
        "26           NaN         NaN         NaN         NaN         NaN          NaN  \n",
        "27           NaN         NaN         NaN         NaN         NaN          NaN  \n",
        "28           NaN         NaN         NaN         NaN         NaN          NaN  \n",
        "29           NaN         NaN         NaN         NaN         NaN          NaN  \n",
        "...          ...         ...         ...         ...         ...          ...  \n",
        "60742        NaN         NaN         NaN         NaN         NaN          NaN  \n",
        "60743        NaN         NaN         NaN         NaN         NaN          NaN  \n",
        "60744        NaN         NaN         NaN         NaN         NaN          NaN  \n",
        "60745        NaN         NaN         NaN         NaN         NaN          NaN  \n",
        "60746        NaN         NaN         NaN         NaN         NaN          NaN  \n",
        "60747        NaN         NaN         NaN         NaN         NaN          NaN  \n",
        "60748        NaN         NaN         NaN         NaN         NaN          NaN  \n",
        "60749        NaN         NaN         NaN         NaN         NaN          NaN  \n",
        "60750        NaN         NaN         NaN         NaN         NaN          NaN  \n",
        "60751        NaN         NaN         NaN         NaN         NaN          NaN  \n",
        "60752        NaN         NaN         NaN         NaN         NaN          NaN  \n",
        "60753        NaN         NaN         NaN         NaN         NaN          NaN  \n",
        "60754        NaN         NaN         NaN         NaN         NaN          NaN  \n",
        "60755        NaN         NaN         NaN         NaN         NaN          NaN  \n",
        "60756        NaN         NaN         NaN         NaN         NaN          NaN  \n",
        "60757        NaN         NaN         NaN         NaN         NaN          NaN  \n",
        "60758        NaN         NaN         NaN         NaN         NaN          NaN  \n",
        "60759        NaN         NaN         NaN         NaN         NaN          NaN  \n",
        "60760        NaN         NaN         NaN         NaN         NaN          NaN  \n",
        "60761        NaN         NaN         NaN         NaN         NaN          NaN  \n",
        "60762        NaN         NaN         NaN         NaN         NaN          NaN  \n",
        "60763        NaN         NaN         NaN         NaN         NaN          NaN  \n",
        "60764        NaN         NaN         NaN         NaN         NaN          NaN  \n",
        "60765        NaN         NaN         NaN         NaN         NaN          NaN  \n",
        "60766        NaN         NaN         NaN         NaN         NaN          NaN  \n",
        "60767        NaN         NaN         NaN         NaN         NaN          NaN  \n",
        "60768        NaN         NaN         NaN         NaN         NaN          NaN  \n",
        "60769        NaN         NaN         NaN         NaN         NaN          NaN  \n",
        "60770        NaN         NaN         NaN         NaN         NaN          NaN  \n",
        "60771        NaN         NaN         NaN         NaN         NaN          NaN  \n",
        "\n",
        "[60772 rows x 66 columns]"
       ]
      }
     ],
     "prompt_number": 1
    },
    {
     "cell_type": "code",
     "collapsed": false,
     "input": [
      "#get required columns and rename\n",
      "df = df[['Name','Email', 'Created at']]\n",
      "df.columns = ['Name','Email', 'Date']\n",
      "df"
     ],
     "language": "python",
     "metadata": {},
     "outputs": [
      {
       "html": [
        "<div style=\"max-height:1000px;max-width:1500px;overflow:auto;\">\n",
        "<table border=\"1\" class=\"dataframe\">\n",
        "  <thead>\n",
        "    <tr style=\"text-align: right;\">\n",
        "      <th></th>\n",
        "      <th>Name</th>\n",
        "      <th>Email</th>\n",
        "      <th>Date</th>\n",
        "    </tr>\n",
        "  </thead>\n",
        "  <tbody>\n",
        "    <tr>\n",
        "      <th>0    </th>\n",
        "      <td> #10367</td>\n",
        "      <td>  rehabmansour@gmail.com</td>\n",
        "      <td> 2015-12-23 20:33:51 +0200</td>\n",
        "    </tr>\n",
        "    <tr>\n",
        "      <th>1    </th>\n",
        "      <td> #10367</td>\n",
        "      <td>  rehabmansour@gmail.com</td>\n",
        "      <td> 2015-12-23 20:33:51 +0200</td>\n",
        "    </tr>\n",
        "    <tr>\n",
        "      <th>2    </th>\n",
        "      <td> #10367</td>\n",
        "      <td>  rehabmansour@gmail.com</td>\n",
        "      <td> 2015-12-23 20:33:51 +0200</td>\n",
        "    </tr>\n",
        "    <tr>\n",
        "      <th>3    </th>\n",
        "      <td> #10366</td>\n",
        "      <td>     nabouheif@yahoo.com</td>\n",
        "      <td> 2015-12-23 20:00:17 +0200</td>\n",
        "    </tr>\n",
        "    <tr>\n",
        "      <th>4    </th>\n",
        "      <td> #10366</td>\n",
        "      <td>     nabouheif@yahoo.com</td>\n",
        "      <td> 2015-12-23 20:00:17 +0200</td>\n",
        "    </tr>\n",
        "    <tr>\n",
        "      <th>5    </th>\n",
        "      <td> #10366</td>\n",
        "      <td>     nabouheif@yahoo.com</td>\n",
        "      <td> 2015-12-23 20:00:17 +0200</td>\n",
        "    </tr>\n",
        "    <tr>\n",
        "      <th>6    </th>\n",
        "      <td> #10365</td>\n",
        "      <td>  fracicardi@hotmail.com</td>\n",
        "      <td> 2015-12-23 18:36:17 +0200</td>\n",
        "    </tr>\n",
        "    <tr>\n",
        "      <th>7    </th>\n",
        "      <td> #10365</td>\n",
        "      <td>  fracicardi@hotmail.com</td>\n",
        "      <td> 2015-12-23 18:36:17 +0200</td>\n",
        "    </tr>\n",
        "    <tr>\n",
        "      <th>8    </th>\n",
        "      <td> #10365</td>\n",
        "      <td>  fracicardi@hotmail.com</td>\n",
        "      <td> 2015-12-23 18:36:17 +0200</td>\n",
        "    </tr>\n",
        "    <tr>\n",
        "      <th>9    </th>\n",
        "      <td> #10365</td>\n",
        "      <td>  fracicardi@hotmail.com</td>\n",
        "      <td> 2015-12-23 18:36:17 +0200</td>\n",
        "    </tr>\n",
        "    <tr>\n",
        "      <th>10   </th>\n",
        "      <td> #10365</td>\n",
        "      <td>  fracicardi@hotmail.com</td>\n",
        "      <td> 2015-12-23 18:36:17 +0200</td>\n",
        "    </tr>\n",
        "    <tr>\n",
        "      <th>11   </th>\n",
        "      <td> #10365</td>\n",
        "      <td>  fracicardi@hotmail.com</td>\n",
        "      <td> 2015-12-23 18:36:17 +0200</td>\n",
        "    </tr>\n",
        "    <tr>\n",
        "      <th>12   </th>\n",
        "      <td> #10364</td>\n",
        "      <td>  ahmed.fakhry@gmail.com</td>\n",
        "      <td> 2015-12-23 16:06:49 +0200</td>\n",
        "    </tr>\n",
        "    <tr>\n",
        "      <th>13   </th>\n",
        "      <td> #10364</td>\n",
        "      <td>  ahmed.fakhry@gmail.com</td>\n",
        "      <td> 2015-12-23 16:06:49 +0200</td>\n",
        "    </tr>\n",
        "    <tr>\n",
        "      <th>14   </th>\n",
        "      <td> #10364</td>\n",
        "      <td>  ahmed.fakhry@gmail.com</td>\n",
        "      <td> 2015-12-23 16:06:49 +0200</td>\n",
        "    </tr>\n",
        "    <tr>\n",
        "      <th>15   </th>\n",
        "      <td> #10364</td>\n",
        "      <td>  ahmed.fakhry@gmail.com</td>\n",
        "      <td> 2015-12-23 16:06:49 +0200</td>\n",
        "    </tr>\n",
        "    <tr>\n",
        "      <th>16   </th>\n",
        "      <td> #10364</td>\n",
        "      <td>  ahmed.fakhry@gmail.com</td>\n",
        "      <td> 2015-12-23 16:06:49 +0200</td>\n",
        "    </tr>\n",
        "    <tr>\n",
        "      <th>17   </th>\n",
        "      <td> #10364</td>\n",
        "      <td>  ahmed.fakhry@gmail.com</td>\n",
        "      <td> 2015-12-23 16:06:49 +0200</td>\n",
        "    </tr>\n",
        "    <tr>\n",
        "      <th>18   </th>\n",
        "      <td> #10364</td>\n",
        "      <td>  ahmed.fakhry@gmail.com</td>\n",
        "      <td> 2015-12-23 16:06:49 +0200</td>\n",
        "    </tr>\n",
        "    <tr>\n",
        "      <th>19   </th>\n",
        "      <td> #10364</td>\n",
        "      <td>  ahmed.fakhry@gmail.com</td>\n",
        "      <td> 2015-12-23 16:06:49 +0200</td>\n",
        "    </tr>\n",
        "    <tr>\n",
        "      <th>20   </th>\n",
        "      <td> #10364</td>\n",
        "      <td>  ahmed.fakhry@gmail.com</td>\n",
        "      <td> 2015-12-23 16:06:49 +0200</td>\n",
        "    </tr>\n",
        "    <tr>\n",
        "      <th>21   </th>\n",
        "      <td> #10363</td>\n",
        "      <td>  ahmed.fakhry@gmail.com</td>\n",
        "      <td> 2015-12-23 16:01:32 +0200</td>\n",
        "    </tr>\n",
        "    <tr>\n",
        "      <th>22   </th>\n",
        "      <td> #10362</td>\n",
        "      <td>    Missilou11@yahoo.com</td>\n",
        "      <td> 2015-12-23 14:25:09 +0200</td>\n",
        "    </tr>\n",
        "    <tr>\n",
        "      <th>23   </th>\n",
        "      <td> #10361</td>\n",
        "      <td> sallysalem123@gmail.com</td>\n",
        "      <td> 2015-12-23 13:13:34 +0200</td>\n",
        "    </tr>\n",
        "    <tr>\n",
        "      <th>24   </th>\n",
        "      <td> #10361</td>\n",
        "      <td> sallysalem123@gmail.com</td>\n",
        "      <td> 2015-12-23 13:13:34 +0200</td>\n",
        "    </tr>\n",
        "    <tr>\n",
        "      <th>25   </th>\n",
        "      <td> #10361</td>\n",
        "      <td> sallysalem123@gmail.com</td>\n",
        "      <td> 2015-12-23 13:13:34 +0200</td>\n",
        "    </tr>\n",
        "    <tr>\n",
        "      <th>26   </th>\n",
        "      <td> #10361</td>\n",
        "      <td> sallysalem123@gmail.com</td>\n",
        "      <td> 2015-12-23 13:13:34 +0200</td>\n",
        "    </tr>\n",
        "    <tr>\n",
        "      <th>27   </th>\n",
        "      <td> #10361</td>\n",
        "      <td> sallysalem123@gmail.com</td>\n",
        "      <td> 2015-12-23 13:13:34 +0200</td>\n",
        "    </tr>\n",
        "    <tr>\n",
        "      <th>28   </th>\n",
        "      <td> #10361</td>\n",
        "      <td> sallysalem123@gmail.com</td>\n",
        "      <td> 2015-12-23 13:13:34 +0200</td>\n",
        "    </tr>\n",
        "    <tr>\n",
        "      <th>29   </th>\n",
        "      <td> #10361</td>\n",
        "      <td> sallysalem123@gmail.com</td>\n",
        "      <td> 2015-12-23 13:13:34 +0200</td>\n",
        "    </tr>\n",
        "    <tr>\n",
        "      <th>...</th>\n",
        "      <td>...</td>\n",
        "      <td>...</td>\n",
        "      <td>...</td>\n",
        "    </tr>\n",
        "    <tr>\n",
        "      <th>60742</th>\n",
        "      <td>  #1013</td>\n",
        "      <td>  lik-novikova@yandex.ru</td>\n",
        "      <td> 2012-05-21 16:11:25 +0200</td>\n",
        "    </tr>\n",
        "    <tr>\n",
        "      <th>60743</th>\n",
        "      <td>  #1012</td>\n",
        "      <td>     bettyhedrich@gmx.de</td>\n",
        "      <td> 2012-05-18 18:08:41 +0200</td>\n",
        "    </tr>\n",
        "    <tr>\n",
        "      <th>60744</th>\n",
        "      <td>  #1012</td>\n",
        "      <td>     bettyhedrich@gmx.de</td>\n",
        "      <td> 2012-05-18 18:08:41 +0200</td>\n",
        "    </tr>\n",
        "    <tr>\n",
        "      <th>60745</th>\n",
        "      <td>  #1011</td>\n",
        "      <td>           rulah@msn.com</td>\n",
        "      <td> 2012-05-10 19:36:02 +0200</td>\n",
        "    </tr>\n",
        "    <tr>\n",
        "      <th>60746</th>\n",
        "      <td>  #1010</td>\n",
        "      <td>     milda_b@hotmail.com</td>\n",
        "      <td> 2012-05-08 13:52:24 +0200</td>\n",
        "    </tr>\n",
        "    <tr>\n",
        "      <th>60747</th>\n",
        "      <td>  #1010</td>\n",
        "      <td>     milda_b@hotmail.com</td>\n",
        "      <td> 2012-05-08 13:52:24 +0200</td>\n",
        "    </tr>\n",
        "    <tr>\n",
        "      <th>60748</th>\n",
        "      <td>  #1010</td>\n",
        "      <td>     milda_b@hotmail.com</td>\n",
        "      <td> 2012-05-08 13:52:24 +0200</td>\n",
        "    </tr>\n",
        "    <tr>\n",
        "      <th>60749</th>\n",
        "      <td>  #1010</td>\n",
        "      <td>     milda_b@hotmail.com</td>\n",
        "      <td> 2012-05-08 13:52:24 +0200</td>\n",
        "    </tr>\n",
        "    <tr>\n",
        "      <th>60750</th>\n",
        "      <td>  #1010</td>\n",
        "      <td>     milda_b@hotmail.com</td>\n",
        "      <td> 2012-05-08 13:52:24 +0200</td>\n",
        "    </tr>\n",
        "    <tr>\n",
        "      <th>60751</th>\n",
        "      <td>  #1010</td>\n",
        "      <td>     milda_b@hotmail.com</td>\n",
        "      <td> 2012-05-08 13:52:24 +0200</td>\n",
        "    </tr>\n",
        "    <tr>\n",
        "      <th>60752</th>\n",
        "      <td>  #1010</td>\n",
        "      <td>     milda_b@hotmail.com</td>\n",
        "      <td> 2012-05-08 13:52:24 +0200</td>\n",
        "    </tr>\n",
        "    <tr>\n",
        "      <th>60753</th>\n",
        "      <td>  #1009</td>\n",
        "      <td>     bente.ring@yahoo.no</td>\n",
        "      <td> 2012-05-08 13:20:05 +0200</td>\n",
        "    </tr>\n",
        "    <tr>\n",
        "      <th>60754</th>\n",
        "      <td>  #1008</td>\n",
        "      <td>     bente.ring@yahoo.no</td>\n",
        "      <td> 2012-05-07 10:49:42 +0200</td>\n",
        "    </tr>\n",
        "    <tr>\n",
        "      <th>60755</th>\n",
        "      <td>  #1008</td>\n",
        "      <td>     bente.ring@yahoo.no</td>\n",
        "      <td> 2012-05-07 10:49:42 +0200</td>\n",
        "    </tr>\n",
        "    <tr>\n",
        "      <th>60756</th>\n",
        "      <td>  #1008</td>\n",
        "      <td>     bente.ring@yahoo.no</td>\n",
        "      <td> 2012-05-07 10:49:42 +0200</td>\n",
        "    </tr>\n",
        "    <tr>\n",
        "      <th>60757</th>\n",
        "      <td>  #1008</td>\n",
        "      <td>     bente.ring@yahoo.no</td>\n",
        "      <td> 2012-05-07 10:49:42 +0200</td>\n",
        "    </tr>\n",
        "    <tr>\n",
        "      <th>60758</th>\n",
        "      <td>  #1008</td>\n",
        "      <td>     bente.ring@yahoo.no</td>\n",
        "      <td> 2012-05-07 10:49:42 +0200</td>\n",
        "    </tr>\n",
        "    <tr>\n",
        "      <th>60759</th>\n",
        "      <td>  #1007</td>\n",
        "      <td>  lik-novikova@yandex.ru</td>\n",
        "      <td> 2012-05-03 11:34:14 +0200</td>\n",
        "    </tr>\n",
        "    <tr>\n",
        "      <th>60760</th>\n",
        "      <td>  #1007</td>\n",
        "      <td>  lik-novikova@yandex.ru</td>\n",
        "      <td> 2012-05-03 11:34:14 +0200</td>\n",
        "    </tr>\n",
        "    <tr>\n",
        "      <th>60761</th>\n",
        "      <td>  #1007</td>\n",
        "      <td>  lik-novikova@yandex.ru</td>\n",
        "      <td> 2012-05-03 11:34:14 +0200</td>\n",
        "    </tr>\n",
        "    <tr>\n",
        "      <th>60762</th>\n",
        "      <td>  #1007</td>\n",
        "      <td>  lik-novikova@yandex.ru</td>\n",
        "      <td> 2012-05-03 11:34:14 +0200</td>\n",
        "    </tr>\n",
        "    <tr>\n",
        "      <th>60763</th>\n",
        "      <td>  #1006</td>\n",
        "      <td>     bente.ring@yahoo.no</td>\n",
        "      <td> 2012-05-02 17:38:40 +0200</td>\n",
        "    </tr>\n",
        "    <tr>\n",
        "      <th>60764</th>\n",
        "      <td>  #1006</td>\n",
        "      <td>     bente.ring@yahoo.no</td>\n",
        "      <td> 2012-05-02 17:38:40 +0200</td>\n",
        "    </tr>\n",
        "    <tr>\n",
        "      <th>60765</th>\n",
        "      <td>  #1006</td>\n",
        "      <td>     bente.ring@yahoo.no</td>\n",
        "      <td> 2012-05-02 17:38:40 +0200</td>\n",
        "    </tr>\n",
        "    <tr>\n",
        "      <th>60766</th>\n",
        "      <td>  #1006</td>\n",
        "      <td>     bente.ring@yahoo.no</td>\n",
        "      <td> 2012-05-02 17:38:40 +0200</td>\n",
        "    </tr>\n",
        "    <tr>\n",
        "      <th>60767</th>\n",
        "      <td>  #1006</td>\n",
        "      <td>     bente.ring@yahoo.no</td>\n",
        "      <td> 2012-05-02 17:38:40 +0200</td>\n",
        "    </tr>\n",
        "    <tr>\n",
        "      <th>60768</th>\n",
        "      <td>  #1005</td>\n",
        "      <td>    cathypod@hotmail.com</td>\n",
        "      <td> 2012-05-01 22:08:45 +0200</td>\n",
        "    </tr>\n",
        "    <tr>\n",
        "      <th>60769</th>\n",
        "      <td>  #1005</td>\n",
        "      <td>    cathypod@hotmail.com</td>\n",
        "      <td> 2012-05-01 22:08:45 +0200</td>\n",
        "    </tr>\n",
        "    <tr>\n",
        "      <th>60770</th>\n",
        "      <td>  #1005</td>\n",
        "      <td>    cathypod@hotmail.com</td>\n",
        "      <td> 2012-05-01 22:08:45 +0200</td>\n",
        "    </tr>\n",
        "    <tr>\n",
        "      <th>60771</th>\n",
        "      <td>  #1005</td>\n",
        "      <td>    cathypod@hotmail.com</td>\n",
        "      <td> 2012-05-01 22:08:45 +0200</td>\n",
        "    </tr>\n",
        "  </tbody>\n",
        "</table>\n",
        "<p>60772 rows \u00d7 3 columns</p>\n",
        "</div>"
       ],
       "metadata": {},
       "output_type": "pyout",
       "prompt_number": 2,
       "text": [
        "         Name                    Email                       Date\n",
        "0      #10367   rehabmansour@gmail.com  2015-12-23 20:33:51 +0200\n",
        "1      #10367   rehabmansour@gmail.com  2015-12-23 20:33:51 +0200\n",
        "2      #10367   rehabmansour@gmail.com  2015-12-23 20:33:51 +0200\n",
        "3      #10366      nabouheif@yahoo.com  2015-12-23 20:00:17 +0200\n",
        "4      #10366      nabouheif@yahoo.com  2015-12-23 20:00:17 +0200\n",
        "5      #10366      nabouheif@yahoo.com  2015-12-23 20:00:17 +0200\n",
        "6      #10365   fracicardi@hotmail.com  2015-12-23 18:36:17 +0200\n",
        "7      #10365   fracicardi@hotmail.com  2015-12-23 18:36:17 +0200\n",
        "8      #10365   fracicardi@hotmail.com  2015-12-23 18:36:17 +0200\n",
        "9      #10365   fracicardi@hotmail.com  2015-12-23 18:36:17 +0200\n",
        "10     #10365   fracicardi@hotmail.com  2015-12-23 18:36:17 +0200\n",
        "11     #10365   fracicardi@hotmail.com  2015-12-23 18:36:17 +0200\n",
        "12     #10364   ahmed.fakhry@gmail.com  2015-12-23 16:06:49 +0200\n",
        "13     #10364   ahmed.fakhry@gmail.com  2015-12-23 16:06:49 +0200\n",
        "14     #10364   ahmed.fakhry@gmail.com  2015-12-23 16:06:49 +0200\n",
        "15     #10364   ahmed.fakhry@gmail.com  2015-12-23 16:06:49 +0200\n",
        "16     #10364   ahmed.fakhry@gmail.com  2015-12-23 16:06:49 +0200\n",
        "17     #10364   ahmed.fakhry@gmail.com  2015-12-23 16:06:49 +0200\n",
        "18     #10364   ahmed.fakhry@gmail.com  2015-12-23 16:06:49 +0200\n",
        "19     #10364   ahmed.fakhry@gmail.com  2015-12-23 16:06:49 +0200\n",
        "20     #10364   ahmed.fakhry@gmail.com  2015-12-23 16:06:49 +0200\n",
        "21     #10363   ahmed.fakhry@gmail.com  2015-12-23 16:01:32 +0200\n",
        "22     #10362     Missilou11@yahoo.com  2015-12-23 14:25:09 +0200\n",
        "23     #10361  sallysalem123@gmail.com  2015-12-23 13:13:34 +0200\n",
        "24     #10361  sallysalem123@gmail.com  2015-12-23 13:13:34 +0200\n",
        "25     #10361  sallysalem123@gmail.com  2015-12-23 13:13:34 +0200\n",
        "26     #10361  sallysalem123@gmail.com  2015-12-23 13:13:34 +0200\n",
        "27     #10361  sallysalem123@gmail.com  2015-12-23 13:13:34 +0200\n",
        "28     #10361  sallysalem123@gmail.com  2015-12-23 13:13:34 +0200\n",
        "29     #10361  sallysalem123@gmail.com  2015-12-23 13:13:34 +0200\n",
        "...       ...                      ...                        ...\n",
        "60742   #1013   lik-novikova@yandex.ru  2012-05-21 16:11:25 +0200\n",
        "60743   #1012      bettyhedrich@gmx.de  2012-05-18 18:08:41 +0200\n",
        "60744   #1012      bettyhedrich@gmx.de  2012-05-18 18:08:41 +0200\n",
        "60745   #1011            rulah@msn.com  2012-05-10 19:36:02 +0200\n",
        "60746   #1010      milda_b@hotmail.com  2012-05-08 13:52:24 +0200\n",
        "60747   #1010      milda_b@hotmail.com  2012-05-08 13:52:24 +0200\n",
        "60748   #1010      milda_b@hotmail.com  2012-05-08 13:52:24 +0200\n",
        "60749   #1010      milda_b@hotmail.com  2012-05-08 13:52:24 +0200\n",
        "60750   #1010      milda_b@hotmail.com  2012-05-08 13:52:24 +0200\n",
        "60751   #1010      milda_b@hotmail.com  2012-05-08 13:52:24 +0200\n",
        "60752   #1010      milda_b@hotmail.com  2012-05-08 13:52:24 +0200\n",
        "60753   #1009      bente.ring@yahoo.no  2012-05-08 13:20:05 +0200\n",
        "60754   #1008      bente.ring@yahoo.no  2012-05-07 10:49:42 +0200\n",
        "60755   #1008      bente.ring@yahoo.no  2012-05-07 10:49:42 +0200\n",
        "60756   #1008      bente.ring@yahoo.no  2012-05-07 10:49:42 +0200\n",
        "60757   #1008      bente.ring@yahoo.no  2012-05-07 10:49:42 +0200\n",
        "60758   #1008      bente.ring@yahoo.no  2012-05-07 10:49:42 +0200\n",
        "60759   #1007   lik-novikova@yandex.ru  2012-05-03 11:34:14 +0200\n",
        "60760   #1007   lik-novikova@yandex.ru  2012-05-03 11:34:14 +0200\n",
        "60761   #1007   lik-novikova@yandex.ru  2012-05-03 11:34:14 +0200\n",
        "60762   #1007   lik-novikova@yandex.ru  2012-05-03 11:34:14 +0200\n",
        "60763   #1006      bente.ring@yahoo.no  2012-05-02 17:38:40 +0200\n",
        "60764   #1006      bente.ring@yahoo.no  2012-05-02 17:38:40 +0200\n",
        "60765   #1006      bente.ring@yahoo.no  2012-05-02 17:38:40 +0200\n",
        "60766   #1006      bente.ring@yahoo.no  2012-05-02 17:38:40 +0200\n",
        "60767   #1006      bente.ring@yahoo.no  2012-05-02 17:38:40 +0200\n",
        "60768   #1005     cathypod@hotmail.com  2012-05-01 22:08:45 +0200\n",
        "60769   #1005     cathypod@hotmail.com  2012-05-01 22:08:45 +0200\n",
        "60770   #1005     cathypod@hotmail.com  2012-05-01 22:08:45 +0200\n",
        "60771   #1005     cathypod@hotmail.com  2012-05-01 22:08:45 +0200\n",
        "\n",
        "[60772 rows x 3 columns]"
       ]
      }
     ],
     "prompt_number": 2
    },
    {
     "cell_type": "code",
     "collapsed": false,
     "input": [
      "#get date as day\n",
      "def getDay(data):\n",
      "    matchobj = re.match(r'(.*) (.*) (.*).*',data)\n",
      "    data = matchobj.group(1)\n",
      "    return pd.to_datetime(datetime.strptime(data, '%Y-%m-%d')).date().strftime(\"%A\")\n",
      "\n",
      "#get hours of the order\n",
      "def getHours(data):\n",
      "    matchobj = re.match(r'(.*) (.*) (.*).*',data)\n",
      "    data = matchobj.group(2)\n",
      "    num = pd.to_datetime(datetime.strptime(data, '%H:%M:%S')).hour\n",
      "    if(num < 2):\n",
      "        return 0\n",
      "    elif((num >= 2) & (num < 4)):\n",
      "        return 2\n",
      "    elif((num >= 4) & (num < 6)):\n",
      "        return 4\n",
      "    elif((num >= 6) & (num < 8)):\n",
      "        return 6\n",
      "    elif((num >= 8) & (num < 10)):\n",
      "        return 8\n",
      "    elif((num >= 10) & (num < 12)):\n",
      "        return 10\n",
      "    elif((num >= 12) & (num < 14)):\n",
      "        return 12\n",
      "    elif((num >= 14) & (num < 16)):\n",
      "        return 14\n",
      "    elif((num >= 16) & (num < 18)):\n",
      "        return 16\n",
      "    elif((num >= 18) & (num < 20)):\n",
      "        return 18\n",
      "    elif((num >= 20) & (num < 22)):\n",
      "        return 20\n",
      "    elif(num >= 22):\n",
      "        return 22\n",
      "        \n",
      "df['Day'] = df.Date.apply(getDay)\n",
      "df['Hours'] = df.Date.apply(getHours)\n",
      "\n",
      "df = df[['Name', 'Email', 'Day', 'Hours']]\n",
      "\n",
      "df = df.drop_duplicates().reset_index().drop('index',1)\n",
      "df"
     ],
     "language": "python",
     "metadata": {},
     "outputs": [
      {
       "output_type": "stream",
       "stream": "stderr",
       "text": [
        "-c:37: SettingWithCopyWarning: \n",
        "A value is trying to be set on a copy of a slice from a DataFrame.\n",
        "Try using .loc[row_indexer,col_indexer] = value instead\n",
        "\n",
        "See the the caveats in the documentation: http://pandas.pydata.org/pandas-docs/stable/indexing.html#indexing-view-versus-copy\n",
        "-c:38: SettingWithCopyWarning: \n",
        "A value is trying to be set on a copy of a slice from a DataFrame.\n",
        "Try using .loc[row_indexer,col_indexer] = value instead\n",
        "\n",
        "See the the caveats in the documentation: http://pandas.pydata.org/pandas-docs/stable/indexing.html#indexing-view-versus-copy\n"
       ]
      },
      {
       "html": [
        "<div style=\"max-height:1000px;max-width:1500px;overflow:auto;\">\n",
        "<table border=\"1\" class=\"dataframe\">\n",
        "  <thead>\n",
        "    <tr style=\"text-align: right;\">\n",
        "      <th></th>\n",
        "      <th>Name</th>\n",
        "      <th>Email</th>\n",
        "      <th>Day</th>\n",
        "      <th>Hours</th>\n",
        "    </tr>\n",
        "  </thead>\n",
        "  <tbody>\n",
        "    <tr>\n",
        "      <th>0   </th>\n",
        "      <td> #10367</td>\n",
        "      <td>       rehabmansour@gmail.com</td>\n",
        "      <td> Wednesday</td>\n",
        "      <td> 20</td>\n",
        "    </tr>\n",
        "    <tr>\n",
        "      <th>1   </th>\n",
        "      <td> #10366</td>\n",
        "      <td>          nabouheif@yahoo.com</td>\n",
        "      <td> Wednesday</td>\n",
        "      <td> 20</td>\n",
        "    </tr>\n",
        "    <tr>\n",
        "      <th>2   </th>\n",
        "      <td> #10365</td>\n",
        "      <td>       fracicardi@hotmail.com</td>\n",
        "      <td> Wednesday</td>\n",
        "      <td> 18</td>\n",
        "    </tr>\n",
        "    <tr>\n",
        "      <th>3   </th>\n",
        "      <td> #10364</td>\n",
        "      <td>       ahmed.fakhry@gmail.com</td>\n",
        "      <td> Wednesday</td>\n",
        "      <td> 16</td>\n",
        "    </tr>\n",
        "    <tr>\n",
        "      <th>4   </th>\n",
        "      <td> #10363</td>\n",
        "      <td>       ahmed.fakhry@gmail.com</td>\n",
        "      <td> Wednesday</td>\n",
        "      <td> 16</td>\n",
        "    </tr>\n",
        "    <tr>\n",
        "      <th>5   </th>\n",
        "      <td> #10362</td>\n",
        "      <td>         Missilou11@yahoo.com</td>\n",
        "      <td> Wednesday</td>\n",
        "      <td> 14</td>\n",
        "    </tr>\n",
        "    <tr>\n",
        "      <th>6   </th>\n",
        "      <td> #10361</td>\n",
        "      <td>      sallysalem123@gmail.com</td>\n",
        "      <td> Wednesday</td>\n",
        "      <td> 12</td>\n",
        "    </tr>\n",
        "    <tr>\n",
        "      <th>7   </th>\n",
        "      <td> #10360</td>\n",
        "      <td>     nayera_fadel@hotmail.com</td>\n",
        "      <td> Wednesday</td>\n",
        "      <td> 12</td>\n",
        "    </tr>\n",
        "    <tr>\n",
        "      <th>8   </th>\n",
        "      <td> #10359</td>\n",
        "      <td>        raoufzdn553@gmail.com</td>\n",
        "      <td> Wednesday</td>\n",
        "      <td> 12</td>\n",
        "    </tr>\n",
        "    <tr>\n",
        "      <th>9   </th>\n",
        "      <td> #10358</td>\n",
        "      <td>       gaylynmbogho@yahoo.com</td>\n",
        "      <td> Wednesday</td>\n",
        "      <td> 12</td>\n",
        "    </tr>\n",
        "    <tr>\n",
        "      <th>10  </th>\n",
        "      <td> #10357</td>\n",
        "      <td>         oshahavi13@gmail.com</td>\n",
        "      <td> Wednesday</td>\n",
        "      <td> 12</td>\n",
        "    </tr>\n",
        "    <tr>\n",
        "      <th>11  </th>\n",
        "      <td> #10356</td>\n",
        "      <td>         Daiieldeeb@gmail.com</td>\n",
        "      <td> Wednesday</td>\n",
        "      <td> 10</td>\n",
        "    </tr>\n",
        "    <tr>\n",
        "      <th>12  </th>\n",
        "      <td> #10355</td>\n",
        "      <td>          yara.azam@gmail.com</td>\n",
        "      <td> Wednesday</td>\n",
        "      <td> 10</td>\n",
        "    </tr>\n",
        "    <tr>\n",
        "      <th>13  </th>\n",
        "      <td> #10354</td>\n",
        "      <td>        dalia_allam@yahoo.com</td>\n",
        "      <td> Wednesday</td>\n",
        "      <td>  6</td>\n",
        "    </tr>\n",
        "    <tr>\n",
        "      <th>14  </th>\n",
        "      <td> #10353</td>\n",
        "      <td>        elhanem52@hotmail.com</td>\n",
        "      <td> Wednesday</td>\n",
        "      <td>  6</td>\n",
        "    </tr>\n",
        "    <tr>\n",
        "      <th>15  </th>\n",
        "      <td> #10352</td>\n",
        "      <td>     tarek_seddik@hotmail.com</td>\n",
        "      <td> Wednesday</td>\n",
        "      <td>  2</td>\n",
        "    </tr>\n",
        "    <tr>\n",
        "      <th>16  </th>\n",
        "      <td> #10351</td>\n",
        "      <td>      maie.nomrossy@gmail.com</td>\n",
        "      <td> Wednesday</td>\n",
        "      <td>  0</td>\n",
        "    </tr>\n",
        "    <tr>\n",
        "      <th>17  </th>\n",
        "      <td> #10350</td>\n",
        "      <td>        hazem.shamy@gmail.com</td>\n",
        "      <td> Wednesday</td>\n",
        "      <td>  0</td>\n",
        "    </tr>\n",
        "    <tr>\n",
        "      <th>18  </th>\n",
        "      <td> #10349</td>\n",
        "      <td>       maya.p.nawal@gmail.com</td>\n",
        "      <td>   Tuesday</td>\n",
        "      <td> 20</td>\n",
        "    </tr>\n",
        "    <tr>\n",
        "      <th>19  </th>\n",
        "      <td> #10348</td>\n",
        "      <td>    jamesmorgan0091@gmail.com</td>\n",
        "      <td>   Tuesday</td>\n",
        "      <td> 18</td>\n",
        "    </tr>\n",
        "    <tr>\n",
        "      <th>20  </th>\n",
        "      <td> #10347</td>\n",
        "      <td>         israa_s@aucegypt.edu</td>\n",
        "      <td>   Tuesday</td>\n",
        "      <td> 16</td>\n",
        "    </tr>\n",
        "    <tr>\n",
        "      <th>21  </th>\n",
        "      <td> #10346</td>\n",
        "      <td>       RODY.DOVE123@GMAIL.COM</td>\n",
        "      <td>   Tuesday</td>\n",
        "      <td> 16</td>\n",
        "    </tr>\n",
        "    <tr>\n",
        "      <th>22  </th>\n",
        "      <td> #10345</td>\n",
        "      <td>       amaghraby@mediawave.me</td>\n",
        "      <td>   Tuesday</td>\n",
        "      <td> 16</td>\n",
        "    </tr>\n",
        "    <tr>\n",
        "      <th>23  </th>\n",
        "      <td> #10344</td>\n",
        "      <td>       RODY.DOVE123@GMAIL.COM</td>\n",
        "      <td>   Tuesday</td>\n",
        "      <td> 16</td>\n",
        "    </tr>\n",
        "    <tr>\n",
        "      <th>24  </th>\n",
        "      <td> #10343</td>\n",
        "      <td>          hibba_b@hotmail.com</td>\n",
        "      <td>   Tuesday</td>\n",
        "      <td> 14</td>\n",
        "    </tr>\n",
        "    <tr>\n",
        "      <th>25  </th>\n",
        "      <td> #10342</td>\n",
        "      <td>       pascalenader@gmail.com</td>\n",
        "      <td>   Tuesday</td>\n",
        "      <td> 14</td>\n",
        "    </tr>\n",
        "    <tr>\n",
        "      <th>26  </th>\n",
        "      <td> #10341</td>\n",
        "      <td>       doaa.khattab@gmail.com</td>\n",
        "      <td>   Tuesday</td>\n",
        "      <td> 14</td>\n",
        "    </tr>\n",
        "    <tr>\n",
        "      <th>27  </th>\n",
        "      <td> #10340</td>\n",
        "      <td>       sunset_456@hotmail.com</td>\n",
        "      <td>   Tuesday</td>\n",
        "      <td> 12</td>\n",
        "    </tr>\n",
        "    <tr>\n",
        "      <th>28  </th>\n",
        "      <td> #10339</td>\n",
        "      <td>   colleen_lovely@hotmail.com</td>\n",
        "      <td>   Tuesday</td>\n",
        "      <td> 12</td>\n",
        "    </tr>\n",
        "    <tr>\n",
        "      <th>29  </th>\n",
        "      <td> #10338</td>\n",
        "      <td>             imrhazi@yahoo.fr</td>\n",
        "      <td>   Tuesday</td>\n",
        "      <td> 12</td>\n",
        "    </tr>\n",
        "    <tr>\n",
        "      <th>...</th>\n",
        "      <td>...</td>\n",
        "      <td>...</td>\n",
        "      <td>...</td>\n",
        "      <td>...</td>\n",
        "    </tr>\n",
        "    <tr>\n",
        "      <th>9288</th>\n",
        "      <td>  #1035</td>\n",
        "      <td>       mireilleamin@yahoo.com</td>\n",
        "      <td>    Monday</td>\n",
        "      <td> 18</td>\n",
        "    </tr>\n",
        "    <tr>\n",
        "      <th>9289</th>\n",
        "      <td>  #1034</td>\n",
        "      <td>   Ihab.derias@laroche.com.eg</td>\n",
        "      <td>    Monday</td>\n",
        "      <td> 18</td>\n",
        "    </tr>\n",
        "    <tr>\n",
        "      <th>9290</th>\n",
        "      <td>  #1033</td>\n",
        "      <td>         Adhamada@hotmail.com</td>\n",
        "      <td>    Monday</td>\n",
        "      <td> 18</td>\n",
        "    </tr>\n",
        "    <tr>\n",
        "      <th>9291</th>\n",
        "      <td>  #1032</td>\n",
        "      <td>     houssam.elokda@gmail.com</td>\n",
        "      <td>    Monday</td>\n",
        "      <td> 18</td>\n",
        "    </tr>\n",
        "    <tr>\n",
        "      <th>9292</th>\n",
        "      <td>  #1031</td>\n",
        "      <td>          Hania7894@gmail.com</td>\n",
        "      <td>    Monday</td>\n",
        "      <td> 14</td>\n",
        "    </tr>\n",
        "    <tr>\n",
        "      <th>9293</th>\n",
        "      <td>  #1030</td>\n",
        "      <td>          Hania7894@gmail.com</td>\n",
        "      <td>    Monday</td>\n",
        "      <td> 12</td>\n",
        "    </tr>\n",
        "    <tr>\n",
        "      <th>9294</th>\n",
        "      <td>  #1029</td>\n",
        "      <td>            Mamazzz@gmail.com</td>\n",
        "      <td>    Sunday</td>\n",
        "      <td> 20</td>\n",
        "    </tr>\n",
        "    <tr>\n",
        "      <th>9295</th>\n",
        "      <td>  #1028</td>\n",
        "      <td>            asony11@yahoo.com</td>\n",
        "      <td>    Sunday</td>\n",
        "      <td> 18</td>\n",
        "    </tr>\n",
        "    <tr>\n",
        "      <th>9296</th>\n",
        "      <td>  #1027</td>\n",
        "      <td>      salwa_saiid@hotmail.com</td>\n",
        "      <td>    Sunday</td>\n",
        "      <td> 16</td>\n",
        "    </tr>\n",
        "    <tr>\n",
        "      <th>9297</th>\n",
        "      <td>  #1026</td>\n",
        "      <td> djamila.benderbous@gmail.com</td>\n",
        "      <td>  Saturday</td>\n",
        "      <td> 18</td>\n",
        "    </tr>\n",
        "    <tr>\n",
        "      <th>9298</th>\n",
        "      <td>  #1025</td>\n",
        "      <td>      milomilogindi@yahoo.com</td>\n",
        "      <td>  Thursday</td>\n",
        "      <td> 16</td>\n",
        "    </tr>\n",
        "    <tr>\n",
        "      <th>9299</th>\n",
        "      <td>  #1024</td>\n",
        "      <td>     raghebelgammal@yahoo.com</td>\n",
        "      <td>  Thursday</td>\n",
        "      <td> 14</td>\n",
        "    </tr>\n",
        "    <tr>\n",
        "      <th>9300</th>\n",
        "      <td>  #1023</td>\n",
        "      <td>      t_el_gammal@hotmail.com</td>\n",
        "      <td> Wednesday</td>\n",
        "      <td> 14</td>\n",
        "    </tr>\n",
        "    <tr>\n",
        "      <th>9301</th>\n",
        "      <td>  #1022</td>\n",
        "      <td>       lik-novikova@yandex.ru</td>\n",
        "      <td>    Sunday</td>\n",
        "      <td> 14</td>\n",
        "    </tr>\n",
        "    <tr>\n",
        "      <th>9302</th>\n",
        "      <td>  #1021</td>\n",
        "      <td>        fairymaid82@yahoo.com</td>\n",
        "      <td> Wednesday</td>\n",
        "      <td>  6</td>\n",
        "    </tr>\n",
        "    <tr>\n",
        "      <th>9303</th>\n",
        "      <td>  #1020</td>\n",
        "      <td>      milomilogindi@yahoo.com</td>\n",
        "      <td> Wednesday</td>\n",
        "      <td> 22</td>\n",
        "    </tr>\n",
        "    <tr>\n",
        "      <th>9304</th>\n",
        "      <td>  #1019</td>\n",
        "      <td>      t_el_gammal@hotmail.com</td>\n",
        "      <td> Wednesday</td>\n",
        "      <td> 20</td>\n",
        "    </tr>\n",
        "    <tr>\n",
        "      <th>9305</th>\n",
        "      <td>  #1017</td>\n",
        "      <td>      t_el_gammal@hotmail.com</td>\n",
        "      <td>   Tuesday</td>\n",
        "      <td>  2</td>\n",
        "    </tr>\n",
        "    <tr>\n",
        "      <th>9306</th>\n",
        "      <td>  #1016</td>\n",
        "      <td>       lik-novikova@yandex.ru</td>\n",
        "      <td>    Sunday</td>\n",
        "      <td> 18</td>\n",
        "    </tr>\n",
        "    <tr>\n",
        "      <th>9307</th>\n",
        "      <td>  #1015</td>\n",
        "      <td>             Biro5s@yahoo.com</td>\n",
        "      <td>    Friday</td>\n",
        "      <td> 18</td>\n",
        "    </tr>\n",
        "    <tr>\n",
        "      <th>9308</th>\n",
        "      <td>  #1014</td>\n",
        "      <td>         nini.etoile@voila.fr</td>\n",
        "      <td>    Monday</td>\n",
        "      <td> 16</td>\n",
        "    </tr>\n",
        "    <tr>\n",
        "      <th>9309</th>\n",
        "      <td>  #1013</td>\n",
        "      <td>       lik-novikova@yandex.ru</td>\n",
        "      <td>    Monday</td>\n",
        "      <td> 16</td>\n",
        "    </tr>\n",
        "    <tr>\n",
        "      <th>9310</th>\n",
        "      <td>  #1012</td>\n",
        "      <td>          bettyhedrich@gmx.de</td>\n",
        "      <td>    Friday</td>\n",
        "      <td> 18</td>\n",
        "    </tr>\n",
        "    <tr>\n",
        "      <th>9311</th>\n",
        "      <td>  #1011</td>\n",
        "      <td>                rulah@msn.com</td>\n",
        "      <td>  Thursday</td>\n",
        "      <td> 18</td>\n",
        "    </tr>\n",
        "    <tr>\n",
        "      <th>9312</th>\n",
        "      <td>  #1010</td>\n",
        "      <td>          milda_b@hotmail.com</td>\n",
        "      <td>   Tuesday</td>\n",
        "      <td> 12</td>\n",
        "    </tr>\n",
        "    <tr>\n",
        "      <th>9313</th>\n",
        "      <td>  #1009</td>\n",
        "      <td>          bente.ring@yahoo.no</td>\n",
        "      <td>   Tuesday</td>\n",
        "      <td> 12</td>\n",
        "    </tr>\n",
        "    <tr>\n",
        "      <th>9314</th>\n",
        "      <td>  #1008</td>\n",
        "      <td>          bente.ring@yahoo.no</td>\n",
        "      <td>    Monday</td>\n",
        "      <td> 10</td>\n",
        "    </tr>\n",
        "    <tr>\n",
        "      <th>9315</th>\n",
        "      <td>  #1007</td>\n",
        "      <td>       lik-novikova@yandex.ru</td>\n",
        "      <td>  Thursday</td>\n",
        "      <td> 10</td>\n",
        "    </tr>\n",
        "    <tr>\n",
        "      <th>9316</th>\n",
        "      <td>  #1006</td>\n",
        "      <td>          bente.ring@yahoo.no</td>\n",
        "      <td> Wednesday</td>\n",
        "      <td> 16</td>\n",
        "    </tr>\n",
        "    <tr>\n",
        "      <th>9317</th>\n",
        "      <td>  #1005</td>\n",
        "      <td>         cathypod@hotmail.com</td>\n",
        "      <td>   Tuesday</td>\n",
        "      <td> 22</td>\n",
        "    </tr>\n",
        "  </tbody>\n",
        "</table>\n",
        "<p>9318 rows \u00d7 4 columns</p>\n",
        "</div>"
       ],
       "metadata": {},
       "output_type": "pyout",
       "prompt_number": 3,
       "text": [
        "        Name                         Email        Day  Hours\n",
        "0     #10367        rehabmansour@gmail.com  Wednesday     20\n",
        "1     #10366           nabouheif@yahoo.com  Wednesday     20\n",
        "2     #10365        fracicardi@hotmail.com  Wednesday     18\n",
        "3     #10364        ahmed.fakhry@gmail.com  Wednesday     16\n",
        "4     #10363        ahmed.fakhry@gmail.com  Wednesday     16\n",
        "5     #10362          Missilou11@yahoo.com  Wednesday     14\n",
        "6     #10361       sallysalem123@gmail.com  Wednesday     12\n",
        "7     #10360      nayera_fadel@hotmail.com  Wednesday     12\n",
        "8     #10359         raoufzdn553@gmail.com  Wednesday     12\n",
        "9     #10358        gaylynmbogho@yahoo.com  Wednesday     12\n",
        "10    #10357          oshahavi13@gmail.com  Wednesday     12\n",
        "11    #10356          Daiieldeeb@gmail.com  Wednesday     10\n",
        "12    #10355           yara.azam@gmail.com  Wednesday     10\n",
        "13    #10354         dalia_allam@yahoo.com  Wednesday      6\n",
        "14    #10353         elhanem52@hotmail.com  Wednesday      6\n",
        "15    #10352      tarek_seddik@hotmail.com  Wednesday      2\n",
        "16    #10351       maie.nomrossy@gmail.com  Wednesday      0\n",
        "17    #10350         hazem.shamy@gmail.com  Wednesday      0\n",
        "18    #10349        maya.p.nawal@gmail.com    Tuesday     20\n",
        "19    #10348     jamesmorgan0091@gmail.com    Tuesday     18\n",
        "20    #10347          israa_s@aucegypt.edu    Tuesday     16\n",
        "21    #10346        RODY.DOVE123@GMAIL.COM    Tuesday     16\n",
        "22    #10345        amaghraby@mediawave.me    Tuesday     16\n",
        "23    #10344        RODY.DOVE123@GMAIL.COM    Tuesday     16\n",
        "24    #10343           hibba_b@hotmail.com    Tuesday     14\n",
        "25    #10342        pascalenader@gmail.com    Tuesday     14\n",
        "26    #10341        doaa.khattab@gmail.com    Tuesday     14\n",
        "27    #10340        sunset_456@hotmail.com    Tuesday     12\n",
        "28    #10339    colleen_lovely@hotmail.com    Tuesday     12\n",
        "29    #10338              imrhazi@yahoo.fr    Tuesday     12\n",
        "...      ...                           ...        ...    ...\n",
        "9288   #1035        mireilleamin@yahoo.com     Monday     18\n",
        "9289   #1034    Ihab.derias@laroche.com.eg     Monday     18\n",
        "9290   #1033          Adhamada@hotmail.com     Monday     18\n",
        "9291   #1032      houssam.elokda@gmail.com     Monday     18\n",
        "9292   #1031           Hania7894@gmail.com     Monday     14\n",
        "9293   #1030           Hania7894@gmail.com     Monday     12\n",
        "9294   #1029             Mamazzz@gmail.com     Sunday     20\n",
        "9295   #1028             asony11@yahoo.com     Sunday     18\n",
        "9296   #1027       salwa_saiid@hotmail.com     Sunday     16\n",
        "9297   #1026  djamila.benderbous@gmail.com   Saturday     18\n",
        "9298   #1025       milomilogindi@yahoo.com   Thursday     16\n",
        "9299   #1024      raghebelgammal@yahoo.com   Thursday     14\n",
        "9300   #1023       t_el_gammal@hotmail.com  Wednesday     14\n",
        "9301   #1022        lik-novikova@yandex.ru     Sunday     14\n",
        "9302   #1021         fairymaid82@yahoo.com  Wednesday      6\n",
        "9303   #1020       milomilogindi@yahoo.com  Wednesday     22\n",
        "9304   #1019       t_el_gammal@hotmail.com  Wednesday     20\n",
        "9305   #1017       t_el_gammal@hotmail.com    Tuesday      2\n",
        "9306   #1016        lik-novikova@yandex.ru     Sunday     18\n",
        "9307   #1015              Biro5s@yahoo.com     Friday     18\n",
        "9308   #1014          nini.etoile@voila.fr     Monday     16\n",
        "9309   #1013        lik-novikova@yandex.ru     Monday     16\n",
        "9310   #1012           bettyhedrich@gmx.de     Friday     18\n",
        "9311   #1011                 rulah@msn.com   Thursday     18\n",
        "9312   #1010           milda_b@hotmail.com    Tuesday     12\n",
        "9313   #1009           bente.ring@yahoo.no    Tuesday     12\n",
        "9314   #1008           bente.ring@yahoo.no     Monday     10\n",
        "9315   #1007        lik-novikova@yandex.ru   Thursday     10\n",
        "9316   #1006           bente.ring@yahoo.no  Wednesday     16\n",
        "9317   #1005          cathypod@hotmail.com    Tuesday     22\n",
        "\n",
        "[9318 rows x 4 columns]"
       ]
      }
     ],
     "prompt_number": 3
    },
    {
     "cell_type": "code",
     "collapsed": false,
     "input": [
      "#create new df and initialize columns\n",
      "df1 = pd.DataFrame(columns = ['Email', 'Sunday', 'Monday', 'Tuesday', 'Wednesday', 'Thursday', 'Friday', 'Saturday', 0, 2, 4, 6, 8, 10, 12, 14, 16, 18, 20, 22])\n",
      "df1['Email'] = df['Email']\n",
      "df1['Sunday'] = df1['Monday'] = df1['Tuesday'] = df1['Wednesday'] = df1['Thursday'] = df1['Friday'] = df1['Saturday'] = df1[0] = df1[2] = df1[4] = df1[6] = df1[8] = df1[10] = df1[12] = df1[14] = df1[16] = df1[18] = df1[20] = df1[22] =0\n",
      "df1"
     ],
     "language": "python",
     "metadata": {},
     "outputs": [
      {
       "html": [
        "<div style=\"max-height:1000px;max-width:1500px;overflow:auto;\">\n",
        "<table border=\"1\" class=\"dataframe\">\n",
        "  <thead>\n",
        "    <tr style=\"text-align: right;\">\n",
        "      <th></th>\n",
        "      <th>Email</th>\n",
        "      <th>Sunday</th>\n",
        "      <th>Monday</th>\n",
        "      <th>Tuesday</th>\n",
        "      <th>Wednesday</th>\n",
        "      <th>Thursday</th>\n",
        "      <th>Friday</th>\n",
        "      <th>Saturday</th>\n",
        "      <th>0</th>\n",
        "      <th>2</th>\n",
        "      <th>4</th>\n",
        "      <th>6</th>\n",
        "      <th>8</th>\n",
        "      <th>10</th>\n",
        "      <th>12</th>\n",
        "      <th>14</th>\n",
        "      <th>16</th>\n",
        "      <th>18</th>\n",
        "      <th>20</th>\n",
        "      <th>22</th>\n",
        "    </tr>\n",
        "  </thead>\n",
        "  <tbody>\n",
        "    <tr>\n",
        "      <th>0   </th>\n",
        "      <td>       rehabmansour@gmail.com</td>\n",
        "      <td> 0</td>\n",
        "      <td> 0</td>\n",
        "      <td> 0</td>\n",
        "      <td> 0</td>\n",
        "      <td> 0</td>\n",
        "      <td> 0</td>\n",
        "      <td> 0</td>\n",
        "      <td> 0</td>\n",
        "      <td> 0</td>\n",
        "      <td> 0</td>\n",
        "      <td> 0</td>\n",
        "      <td> 0</td>\n",
        "      <td> 0</td>\n",
        "      <td> 0</td>\n",
        "      <td> 0</td>\n",
        "      <td> 0</td>\n",
        "      <td> 0</td>\n",
        "      <td> 0</td>\n",
        "      <td> 0</td>\n",
        "    </tr>\n",
        "    <tr>\n",
        "      <th>1   </th>\n",
        "      <td>          nabouheif@yahoo.com</td>\n",
        "      <td> 0</td>\n",
        "      <td> 0</td>\n",
        "      <td> 0</td>\n",
        "      <td> 0</td>\n",
        "      <td> 0</td>\n",
        "      <td> 0</td>\n",
        "      <td> 0</td>\n",
        "      <td> 0</td>\n",
        "      <td> 0</td>\n",
        "      <td> 0</td>\n",
        "      <td> 0</td>\n",
        "      <td> 0</td>\n",
        "      <td> 0</td>\n",
        "      <td> 0</td>\n",
        "      <td> 0</td>\n",
        "      <td> 0</td>\n",
        "      <td> 0</td>\n",
        "      <td> 0</td>\n",
        "      <td> 0</td>\n",
        "    </tr>\n",
        "    <tr>\n",
        "      <th>2   </th>\n",
        "      <td>       fracicardi@hotmail.com</td>\n",
        "      <td> 0</td>\n",
        "      <td> 0</td>\n",
        "      <td> 0</td>\n",
        "      <td> 0</td>\n",
        "      <td> 0</td>\n",
        "      <td> 0</td>\n",
        "      <td> 0</td>\n",
        "      <td> 0</td>\n",
        "      <td> 0</td>\n",
        "      <td> 0</td>\n",
        "      <td> 0</td>\n",
        "      <td> 0</td>\n",
        "      <td> 0</td>\n",
        "      <td> 0</td>\n",
        "      <td> 0</td>\n",
        "      <td> 0</td>\n",
        "      <td> 0</td>\n",
        "      <td> 0</td>\n",
        "      <td> 0</td>\n",
        "    </tr>\n",
        "    <tr>\n",
        "      <th>3   </th>\n",
        "      <td>       ahmed.fakhry@gmail.com</td>\n",
        "      <td> 0</td>\n",
        "      <td> 0</td>\n",
        "      <td> 0</td>\n",
        "      <td> 0</td>\n",
        "      <td> 0</td>\n",
        "      <td> 0</td>\n",
        "      <td> 0</td>\n",
        "      <td> 0</td>\n",
        "      <td> 0</td>\n",
        "      <td> 0</td>\n",
        "      <td> 0</td>\n",
        "      <td> 0</td>\n",
        "      <td> 0</td>\n",
        "      <td> 0</td>\n",
        "      <td> 0</td>\n",
        "      <td> 0</td>\n",
        "      <td> 0</td>\n",
        "      <td> 0</td>\n",
        "      <td> 0</td>\n",
        "    </tr>\n",
        "    <tr>\n",
        "      <th>4   </th>\n",
        "      <td>       ahmed.fakhry@gmail.com</td>\n",
        "      <td> 0</td>\n",
        "      <td> 0</td>\n",
        "      <td> 0</td>\n",
        "      <td> 0</td>\n",
        "      <td> 0</td>\n",
        "      <td> 0</td>\n",
        "      <td> 0</td>\n",
        "      <td> 0</td>\n",
        "      <td> 0</td>\n",
        "      <td> 0</td>\n",
        "      <td> 0</td>\n",
        "      <td> 0</td>\n",
        "      <td> 0</td>\n",
        "      <td> 0</td>\n",
        "      <td> 0</td>\n",
        "      <td> 0</td>\n",
        "      <td> 0</td>\n",
        "      <td> 0</td>\n",
        "      <td> 0</td>\n",
        "    </tr>\n",
        "    <tr>\n",
        "      <th>5   </th>\n",
        "      <td>         Missilou11@yahoo.com</td>\n",
        "      <td> 0</td>\n",
        "      <td> 0</td>\n",
        "      <td> 0</td>\n",
        "      <td> 0</td>\n",
        "      <td> 0</td>\n",
        "      <td> 0</td>\n",
        "      <td> 0</td>\n",
        "      <td> 0</td>\n",
        "      <td> 0</td>\n",
        "      <td> 0</td>\n",
        "      <td> 0</td>\n",
        "      <td> 0</td>\n",
        "      <td> 0</td>\n",
        "      <td> 0</td>\n",
        "      <td> 0</td>\n",
        "      <td> 0</td>\n",
        "      <td> 0</td>\n",
        "      <td> 0</td>\n",
        "      <td> 0</td>\n",
        "    </tr>\n",
        "    <tr>\n",
        "      <th>6   </th>\n",
        "      <td>      sallysalem123@gmail.com</td>\n",
        "      <td> 0</td>\n",
        "      <td> 0</td>\n",
        "      <td> 0</td>\n",
        "      <td> 0</td>\n",
        "      <td> 0</td>\n",
        "      <td> 0</td>\n",
        "      <td> 0</td>\n",
        "      <td> 0</td>\n",
        "      <td> 0</td>\n",
        "      <td> 0</td>\n",
        "      <td> 0</td>\n",
        "      <td> 0</td>\n",
        "      <td> 0</td>\n",
        "      <td> 0</td>\n",
        "      <td> 0</td>\n",
        "      <td> 0</td>\n",
        "      <td> 0</td>\n",
        "      <td> 0</td>\n",
        "      <td> 0</td>\n",
        "    </tr>\n",
        "    <tr>\n",
        "      <th>7   </th>\n",
        "      <td>     nayera_fadel@hotmail.com</td>\n",
        "      <td> 0</td>\n",
        "      <td> 0</td>\n",
        "      <td> 0</td>\n",
        "      <td> 0</td>\n",
        "      <td> 0</td>\n",
        "      <td> 0</td>\n",
        "      <td> 0</td>\n",
        "      <td> 0</td>\n",
        "      <td> 0</td>\n",
        "      <td> 0</td>\n",
        "      <td> 0</td>\n",
        "      <td> 0</td>\n",
        "      <td> 0</td>\n",
        "      <td> 0</td>\n",
        "      <td> 0</td>\n",
        "      <td> 0</td>\n",
        "      <td> 0</td>\n",
        "      <td> 0</td>\n",
        "      <td> 0</td>\n",
        "    </tr>\n",
        "    <tr>\n",
        "      <th>8   </th>\n",
        "      <td>        raoufzdn553@gmail.com</td>\n",
        "      <td> 0</td>\n",
        "      <td> 0</td>\n",
        "      <td> 0</td>\n",
        "      <td> 0</td>\n",
        "      <td> 0</td>\n",
        "      <td> 0</td>\n",
        "      <td> 0</td>\n",
        "      <td> 0</td>\n",
        "      <td> 0</td>\n",
        "      <td> 0</td>\n",
        "      <td> 0</td>\n",
        "      <td> 0</td>\n",
        "      <td> 0</td>\n",
        "      <td> 0</td>\n",
        "      <td> 0</td>\n",
        "      <td> 0</td>\n",
        "      <td> 0</td>\n",
        "      <td> 0</td>\n",
        "      <td> 0</td>\n",
        "    </tr>\n",
        "    <tr>\n",
        "      <th>9   </th>\n",
        "      <td>       gaylynmbogho@yahoo.com</td>\n",
        "      <td> 0</td>\n",
        "      <td> 0</td>\n",
        "      <td> 0</td>\n",
        "      <td> 0</td>\n",
        "      <td> 0</td>\n",
        "      <td> 0</td>\n",
        "      <td> 0</td>\n",
        "      <td> 0</td>\n",
        "      <td> 0</td>\n",
        "      <td> 0</td>\n",
        "      <td> 0</td>\n",
        "      <td> 0</td>\n",
        "      <td> 0</td>\n",
        "      <td> 0</td>\n",
        "      <td> 0</td>\n",
        "      <td> 0</td>\n",
        "      <td> 0</td>\n",
        "      <td> 0</td>\n",
        "      <td> 0</td>\n",
        "    </tr>\n",
        "    <tr>\n",
        "      <th>10  </th>\n",
        "      <td>         oshahavi13@gmail.com</td>\n",
        "      <td> 0</td>\n",
        "      <td> 0</td>\n",
        "      <td> 0</td>\n",
        "      <td> 0</td>\n",
        "      <td> 0</td>\n",
        "      <td> 0</td>\n",
        "      <td> 0</td>\n",
        "      <td> 0</td>\n",
        "      <td> 0</td>\n",
        "      <td> 0</td>\n",
        "      <td> 0</td>\n",
        "      <td> 0</td>\n",
        "      <td> 0</td>\n",
        "      <td> 0</td>\n",
        "      <td> 0</td>\n",
        "      <td> 0</td>\n",
        "      <td> 0</td>\n",
        "      <td> 0</td>\n",
        "      <td> 0</td>\n",
        "    </tr>\n",
        "    <tr>\n",
        "      <th>11  </th>\n",
        "      <td>         Daiieldeeb@gmail.com</td>\n",
        "      <td> 0</td>\n",
        "      <td> 0</td>\n",
        "      <td> 0</td>\n",
        "      <td> 0</td>\n",
        "      <td> 0</td>\n",
        "      <td> 0</td>\n",
        "      <td> 0</td>\n",
        "      <td> 0</td>\n",
        "      <td> 0</td>\n",
        "      <td> 0</td>\n",
        "      <td> 0</td>\n",
        "      <td> 0</td>\n",
        "      <td> 0</td>\n",
        "      <td> 0</td>\n",
        "      <td> 0</td>\n",
        "      <td> 0</td>\n",
        "      <td> 0</td>\n",
        "      <td> 0</td>\n",
        "      <td> 0</td>\n",
        "    </tr>\n",
        "    <tr>\n",
        "      <th>12  </th>\n",
        "      <td>          yara.azam@gmail.com</td>\n",
        "      <td> 0</td>\n",
        "      <td> 0</td>\n",
        "      <td> 0</td>\n",
        "      <td> 0</td>\n",
        "      <td> 0</td>\n",
        "      <td> 0</td>\n",
        "      <td> 0</td>\n",
        "      <td> 0</td>\n",
        "      <td> 0</td>\n",
        "      <td> 0</td>\n",
        "      <td> 0</td>\n",
        "      <td> 0</td>\n",
        "      <td> 0</td>\n",
        "      <td> 0</td>\n",
        "      <td> 0</td>\n",
        "      <td> 0</td>\n",
        "      <td> 0</td>\n",
        "      <td> 0</td>\n",
        "      <td> 0</td>\n",
        "    </tr>\n",
        "    <tr>\n",
        "      <th>13  </th>\n",
        "      <td>        dalia_allam@yahoo.com</td>\n",
        "      <td> 0</td>\n",
        "      <td> 0</td>\n",
        "      <td> 0</td>\n",
        "      <td> 0</td>\n",
        "      <td> 0</td>\n",
        "      <td> 0</td>\n",
        "      <td> 0</td>\n",
        "      <td> 0</td>\n",
        "      <td> 0</td>\n",
        "      <td> 0</td>\n",
        "      <td> 0</td>\n",
        "      <td> 0</td>\n",
        "      <td> 0</td>\n",
        "      <td> 0</td>\n",
        "      <td> 0</td>\n",
        "      <td> 0</td>\n",
        "      <td> 0</td>\n",
        "      <td> 0</td>\n",
        "      <td> 0</td>\n",
        "    </tr>\n",
        "    <tr>\n",
        "      <th>14  </th>\n",
        "      <td>        elhanem52@hotmail.com</td>\n",
        "      <td> 0</td>\n",
        "      <td> 0</td>\n",
        "      <td> 0</td>\n",
        "      <td> 0</td>\n",
        "      <td> 0</td>\n",
        "      <td> 0</td>\n",
        "      <td> 0</td>\n",
        "      <td> 0</td>\n",
        "      <td> 0</td>\n",
        "      <td> 0</td>\n",
        "      <td> 0</td>\n",
        "      <td> 0</td>\n",
        "      <td> 0</td>\n",
        "      <td> 0</td>\n",
        "      <td> 0</td>\n",
        "      <td> 0</td>\n",
        "      <td> 0</td>\n",
        "      <td> 0</td>\n",
        "      <td> 0</td>\n",
        "    </tr>\n",
        "    <tr>\n",
        "      <th>15  </th>\n",
        "      <td>     tarek_seddik@hotmail.com</td>\n",
        "      <td> 0</td>\n",
        "      <td> 0</td>\n",
        "      <td> 0</td>\n",
        "      <td> 0</td>\n",
        "      <td> 0</td>\n",
        "      <td> 0</td>\n",
        "      <td> 0</td>\n",
        "      <td> 0</td>\n",
        "      <td> 0</td>\n",
        "      <td> 0</td>\n",
        "      <td> 0</td>\n",
        "      <td> 0</td>\n",
        "      <td> 0</td>\n",
        "      <td> 0</td>\n",
        "      <td> 0</td>\n",
        "      <td> 0</td>\n",
        "      <td> 0</td>\n",
        "      <td> 0</td>\n",
        "      <td> 0</td>\n",
        "    </tr>\n",
        "    <tr>\n",
        "      <th>16  </th>\n",
        "      <td>      maie.nomrossy@gmail.com</td>\n",
        "      <td> 0</td>\n",
        "      <td> 0</td>\n",
        "      <td> 0</td>\n",
        "      <td> 0</td>\n",
        "      <td> 0</td>\n",
        "      <td> 0</td>\n",
        "      <td> 0</td>\n",
        "      <td> 0</td>\n",
        "      <td> 0</td>\n",
        "      <td> 0</td>\n",
        "      <td> 0</td>\n",
        "      <td> 0</td>\n",
        "      <td> 0</td>\n",
        "      <td> 0</td>\n",
        "      <td> 0</td>\n",
        "      <td> 0</td>\n",
        "      <td> 0</td>\n",
        "      <td> 0</td>\n",
        "      <td> 0</td>\n",
        "    </tr>\n",
        "    <tr>\n",
        "      <th>17  </th>\n",
        "      <td>        hazem.shamy@gmail.com</td>\n",
        "      <td> 0</td>\n",
        "      <td> 0</td>\n",
        "      <td> 0</td>\n",
        "      <td> 0</td>\n",
        "      <td> 0</td>\n",
        "      <td> 0</td>\n",
        "      <td> 0</td>\n",
        "      <td> 0</td>\n",
        "      <td> 0</td>\n",
        "      <td> 0</td>\n",
        "      <td> 0</td>\n",
        "      <td> 0</td>\n",
        "      <td> 0</td>\n",
        "      <td> 0</td>\n",
        "      <td> 0</td>\n",
        "      <td> 0</td>\n",
        "      <td> 0</td>\n",
        "      <td> 0</td>\n",
        "      <td> 0</td>\n",
        "    </tr>\n",
        "    <tr>\n",
        "      <th>18  </th>\n",
        "      <td>       maya.p.nawal@gmail.com</td>\n",
        "      <td> 0</td>\n",
        "      <td> 0</td>\n",
        "      <td> 0</td>\n",
        "      <td> 0</td>\n",
        "      <td> 0</td>\n",
        "      <td> 0</td>\n",
        "      <td> 0</td>\n",
        "      <td> 0</td>\n",
        "      <td> 0</td>\n",
        "      <td> 0</td>\n",
        "      <td> 0</td>\n",
        "      <td> 0</td>\n",
        "      <td> 0</td>\n",
        "      <td> 0</td>\n",
        "      <td> 0</td>\n",
        "      <td> 0</td>\n",
        "      <td> 0</td>\n",
        "      <td> 0</td>\n",
        "      <td> 0</td>\n",
        "    </tr>\n",
        "    <tr>\n",
        "      <th>19  </th>\n",
        "      <td>    jamesmorgan0091@gmail.com</td>\n",
        "      <td> 0</td>\n",
        "      <td> 0</td>\n",
        "      <td> 0</td>\n",
        "      <td> 0</td>\n",
        "      <td> 0</td>\n",
        "      <td> 0</td>\n",
        "      <td> 0</td>\n",
        "      <td> 0</td>\n",
        "      <td> 0</td>\n",
        "      <td> 0</td>\n",
        "      <td> 0</td>\n",
        "      <td> 0</td>\n",
        "      <td> 0</td>\n",
        "      <td> 0</td>\n",
        "      <td> 0</td>\n",
        "      <td> 0</td>\n",
        "      <td> 0</td>\n",
        "      <td> 0</td>\n",
        "      <td> 0</td>\n",
        "    </tr>\n",
        "    <tr>\n",
        "      <th>20  </th>\n",
        "      <td>         israa_s@aucegypt.edu</td>\n",
        "      <td> 0</td>\n",
        "      <td> 0</td>\n",
        "      <td> 0</td>\n",
        "      <td> 0</td>\n",
        "      <td> 0</td>\n",
        "      <td> 0</td>\n",
        "      <td> 0</td>\n",
        "      <td> 0</td>\n",
        "      <td> 0</td>\n",
        "      <td> 0</td>\n",
        "      <td> 0</td>\n",
        "      <td> 0</td>\n",
        "      <td> 0</td>\n",
        "      <td> 0</td>\n",
        "      <td> 0</td>\n",
        "      <td> 0</td>\n",
        "      <td> 0</td>\n",
        "      <td> 0</td>\n",
        "      <td> 0</td>\n",
        "    </tr>\n",
        "    <tr>\n",
        "      <th>21  </th>\n",
        "      <td>       RODY.DOVE123@GMAIL.COM</td>\n",
        "      <td> 0</td>\n",
        "      <td> 0</td>\n",
        "      <td> 0</td>\n",
        "      <td> 0</td>\n",
        "      <td> 0</td>\n",
        "      <td> 0</td>\n",
        "      <td> 0</td>\n",
        "      <td> 0</td>\n",
        "      <td> 0</td>\n",
        "      <td> 0</td>\n",
        "      <td> 0</td>\n",
        "      <td> 0</td>\n",
        "      <td> 0</td>\n",
        "      <td> 0</td>\n",
        "      <td> 0</td>\n",
        "      <td> 0</td>\n",
        "      <td> 0</td>\n",
        "      <td> 0</td>\n",
        "      <td> 0</td>\n",
        "    </tr>\n",
        "    <tr>\n",
        "      <th>22  </th>\n",
        "      <td>       amaghraby@mediawave.me</td>\n",
        "      <td> 0</td>\n",
        "      <td> 0</td>\n",
        "      <td> 0</td>\n",
        "      <td> 0</td>\n",
        "      <td> 0</td>\n",
        "      <td> 0</td>\n",
        "      <td> 0</td>\n",
        "      <td> 0</td>\n",
        "      <td> 0</td>\n",
        "      <td> 0</td>\n",
        "      <td> 0</td>\n",
        "      <td> 0</td>\n",
        "      <td> 0</td>\n",
        "      <td> 0</td>\n",
        "      <td> 0</td>\n",
        "      <td> 0</td>\n",
        "      <td> 0</td>\n",
        "      <td> 0</td>\n",
        "      <td> 0</td>\n",
        "    </tr>\n",
        "    <tr>\n",
        "      <th>23  </th>\n",
        "      <td>       RODY.DOVE123@GMAIL.COM</td>\n",
        "      <td> 0</td>\n",
        "      <td> 0</td>\n",
        "      <td> 0</td>\n",
        "      <td> 0</td>\n",
        "      <td> 0</td>\n",
        "      <td> 0</td>\n",
        "      <td> 0</td>\n",
        "      <td> 0</td>\n",
        "      <td> 0</td>\n",
        "      <td> 0</td>\n",
        "      <td> 0</td>\n",
        "      <td> 0</td>\n",
        "      <td> 0</td>\n",
        "      <td> 0</td>\n",
        "      <td> 0</td>\n",
        "      <td> 0</td>\n",
        "      <td> 0</td>\n",
        "      <td> 0</td>\n",
        "      <td> 0</td>\n",
        "    </tr>\n",
        "    <tr>\n",
        "      <th>24  </th>\n",
        "      <td>          hibba_b@hotmail.com</td>\n",
        "      <td> 0</td>\n",
        "      <td> 0</td>\n",
        "      <td> 0</td>\n",
        "      <td> 0</td>\n",
        "      <td> 0</td>\n",
        "      <td> 0</td>\n",
        "      <td> 0</td>\n",
        "      <td> 0</td>\n",
        "      <td> 0</td>\n",
        "      <td> 0</td>\n",
        "      <td> 0</td>\n",
        "      <td> 0</td>\n",
        "      <td> 0</td>\n",
        "      <td> 0</td>\n",
        "      <td> 0</td>\n",
        "      <td> 0</td>\n",
        "      <td> 0</td>\n",
        "      <td> 0</td>\n",
        "      <td> 0</td>\n",
        "    </tr>\n",
        "    <tr>\n",
        "      <th>25  </th>\n",
        "      <td>       pascalenader@gmail.com</td>\n",
        "      <td> 0</td>\n",
        "      <td> 0</td>\n",
        "      <td> 0</td>\n",
        "      <td> 0</td>\n",
        "      <td> 0</td>\n",
        "      <td> 0</td>\n",
        "      <td> 0</td>\n",
        "      <td> 0</td>\n",
        "      <td> 0</td>\n",
        "      <td> 0</td>\n",
        "      <td> 0</td>\n",
        "      <td> 0</td>\n",
        "      <td> 0</td>\n",
        "      <td> 0</td>\n",
        "      <td> 0</td>\n",
        "      <td> 0</td>\n",
        "      <td> 0</td>\n",
        "      <td> 0</td>\n",
        "      <td> 0</td>\n",
        "    </tr>\n",
        "    <tr>\n",
        "      <th>26  </th>\n",
        "      <td>       doaa.khattab@gmail.com</td>\n",
        "      <td> 0</td>\n",
        "      <td> 0</td>\n",
        "      <td> 0</td>\n",
        "      <td> 0</td>\n",
        "      <td> 0</td>\n",
        "      <td> 0</td>\n",
        "      <td> 0</td>\n",
        "      <td> 0</td>\n",
        "      <td> 0</td>\n",
        "      <td> 0</td>\n",
        "      <td> 0</td>\n",
        "      <td> 0</td>\n",
        "      <td> 0</td>\n",
        "      <td> 0</td>\n",
        "      <td> 0</td>\n",
        "      <td> 0</td>\n",
        "      <td> 0</td>\n",
        "      <td> 0</td>\n",
        "      <td> 0</td>\n",
        "    </tr>\n",
        "    <tr>\n",
        "      <th>27  </th>\n",
        "      <td>       sunset_456@hotmail.com</td>\n",
        "      <td> 0</td>\n",
        "      <td> 0</td>\n",
        "      <td> 0</td>\n",
        "      <td> 0</td>\n",
        "      <td> 0</td>\n",
        "      <td> 0</td>\n",
        "      <td> 0</td>\n",
        "      <td> 0</td>\n",
        "      <td> 0</td>\n",
        "      <td> 0</td>\n",
        "      <td> 0</td>\n",
        "      <td> 0</td>\n",
        "      <td> 0</td>\n",
        "      <td> 0</td>\n",
        "      <td> 0</td>\n",
        "      <td> 0</td>\n",
        "      <td> 0</td>\n",
        "      <td> 0</td>\n",
        "      <td> 0</td>\n",
        "    </tr>\n",
        "    <tr>\n",
        "      <th>28  </th>\n",
        "      <td>   colleen_lovely@hotmail.com</td>\n",
        "      <td> 0</td>\n",
        "      <td> 0</td>\n",
        "      <td> 0</td>\n",
        "      <td> 0</td>\n",
        "      <td> 0</td>\n",
        "      <td> 0</td>\n",
        "      <td> 0</td>\n",
        "      <td> 0</td>\n",
        "      <td> 0</td>\n",
        "      <td> 0</td>\n",
        "      <td> 0</td>\n",
        "      <td> 0</td>\n",
        "      <td> 0</td>\n",
        "      <td> 0</td>\n",
        "      <td> 0</td>\n",
        "      <td> 0</td>\n",
        "      <td> 0</td>\n",
        "      <td> 0</td>\n",
        "      <td> 0</td>\n",
        "    </tr>\n",
        "    <tr>\n",
        "      <th>29  </th>\n",
        "      <td>             imrhazi@yahoo.fr</td>\n",
        "      <td> 0</td>\n",
        "      <td> 0</td>\n",
        "      <td> 0</td>\n",
        "      <td> 0</td>\n",
        "      <td> 0</td>\n",
        "      <td> 0</td>\n",
        "      <td> 0</td>\n",
        "      <td> 0</td>\n",
        "      <td> 0</td>\n",
        "      <td> 0</td>\n",
        "      <td> 0</td>\n",
        "      <td> 0</td>\n",
        "      <td> 0</td>\n",
        "      <td> 0</td>\n",
        "      <td> 0</td>\n",
        "      <td> 0</td>\n",
        "      <td> 0</td>\n",
        "      <td> 0</td>\n",
        "      <td> 0</td>\n",
        "    </tr>\n",
        "    <tr>\n",
        "      <th>...</th>\n",
        "      <td>...</td>\n",
        "      <td>...</td>\n",
        "      <td>...</td>\n",
        "      <td>...</td>\n",
        "      <td>...</td>\n",
        "      <td>...</td>\n",
        "      <td>...</td>\n",
        "      <td>...</td>\n",
        "      <td>...</td>\n",
        "      <td>...</td>\n",
        "      <td>...</td>\n",
        "      <td>...</td>\n",
        "      <td>...</td>\n",
        "      <td>...</td>\n",
        "      <td>...</td>\n",
        "      <td>...</td>\n",
        "      <td>...</td>\n",
        "      <td>...</td>\n",
        "      <td>...</td>\n",
        "      <td>...</td>\n",
        "    </tr>\n",
        "    <tr>\n",
        "      <th>9288</th>\n",
        "      <td>       mireilleamin@yahoo.com</td>\n",
        "      <td> 0</td>\n",
        "      <td> 0</td>\n",
        "      <td> 0</td>\n",
        "      <td> 0</td>\n",
        "      <td> 0</td>\n",
        "      <td> 0</td>\n",
        "      <td> 0</td>\n",
        "      <td> 0</td>\n",
        "      <td> 0</td>\n",
        "      <td> 0</td>\n",
        "      <td> 0</td>\n",
        "      <td> 0</td>\n",
        "      <td> 0</td>\n",
        "      <td> 0</td>\n",
        "      <td> 0</td>\n",
        "      <td> 0</td>\n",
        "      <td> 0</td>\n",
        "      <td> 0</td>\n",
        "      <td> 0</td>\n",
        "    </tr>\n",
        "    <tr>\n",
        "      <th>9289</th>\n",
        "      <td>   Ihab.derias@laroche.com.eg</td>\n",
        "      <td> 0</td>\n",
        "      <td> 0</td>\n",
        "      <td> 0</td>\n",
        "      <td> 0</td>\n",
        "      <td> 0</td>\n",
        "      <td> 0</td>\n",
        "      <td> 0</td>\n",
        "      <td> 0</td>\n",
        "      <td> 0</td>\n",
        "      <td> 0</td>\n",
        "      <td> 0</td>\n",
        "      <td> 0</td>\n",
        "      <td> 0</td>\n",
        "      <td> 0</td>\n",
        "      <td> 0</td>\n",
        "      <td> 0</td>\n",
        "      <td> 0</td>\n",
        "      <td> 0</td>\n",
        "      <td> 0</td>\n",
        "    </tr>\n",
        "    <tr>\n",
        "      <th>9290</th>\n",
        "      <td>         Adhamada@hotmail.com</td>\n",
        "      <td> 0</td>\n",
        "      <td> 0</td>\n",
        "      <td> 0</td>\n",
        "      <td> 0</td>\n",
        "      <td> 0</td>\n",
        "      <td> 0</td>\n",
        "      <td> 0</td>\n",
        "      <td> 0</td>\n",
        "      <td> 0</td>\n",
        "      <td> 0</td>\n",
        "      <td> 0</td>\n",
        "      <td> 0</td>\n",
        "      <td> 0</td>\n",
        "      <td> 0</td>\n",
        "      <td> 0</td>\n",
        "      <td> 0</td>\n",
        "      <td> 0</td>\n",
        "      <td> 0</td>\n",
        "      <td> 0</td>\n",
        "    </tr>\n",
        "    <tr>\n",
        "      <th>9291</th>\n",
        "      <td>     houssam.elokda@gmail.com</td>\n",
        "      <td> 0</td>\n",
        "      <td> 0</td>\n",
        "      <td> 0</td>\n",
        "      <td> 0</td>\n",
        "      <td> 0</td>\n",
        "      <td> 0</td>\n",
        "      <td> 0</td>\n",
        "      <td> 0</td>\n",
        "      <td> 0</td>\n",
        "      <td> 0</td>\n",
        "      <td> 0</td>\n",
        "      <td> 0</td>\n",
        "      <td> 0</td>\n",
        "      <td> 0</td>\n",
        "      <td> 0</td>\n",
        "      <td> 0</td>\n",
        "      <td> 0</td>\n",
        "      <td> 0</td>\n",
        "      <td> 0</td>\n",
        "    </tr>\n",
        "    <tr>\n",
        "      <th>9292</th>\n",
        "      <td>          Hania7894@gmail.com</td>\n",
        "      <td> 0</td>\n",
        "      <td> 0</td>\n",
        "      <td> 0</td>\n",
        "      <td> 0</td>\n",
        "      <td> 0</td>\n",
        "      <td> 0</td>\n",
        "      <td> 0</td>\n",
        "      <td> 0</td>\n",
        "      <td> 0</td>\n",
        "      <td> 0</td>\n",
        "      <td> 0</td>\n",
        "      <td> 0</td>\n",
        "      <td> 0</td>\n",
        "      <td> 0</td>\n",
        "      <td> 0</td>\n",
        "      <td> 0</td>\n",
        "      <td> 0</td>\n",
        "      <td> 0</td>\n",
        "      <td> 0</td>\n",
        "    </tr>\n",
        "    <tr>\n",
        "      <th>9293</th>\n",
        "      <td>          Hania7894@gmail.com</td>\n",
        "      <td> 0</td>\n",
        "      <td> 0</td>\n",
        "      <td> 0</td>\n",
        "      <td> 0</td>\n",
        "      <td> 0</td>\n",
        "      <td> 0</td>\n",
        "      <td> 0</td>\n",
        "      <td> 0</td>\n",
        "      <td> 0</td>\n",
        "      <td> 0</td>\n",
        "      <td> 0</td>\n",
        "      <td> 0</td>\n",
        "      <td> 0</td>\n",
        "      <td> 0</td>\n",
        "      <td> 0</td>\n",
        "      <td> 0</td>\n",
        "      <td> 0</td>\n",
        "      <td> 0</td>\n",
        "      <td> 0</td>\n",
        "    </tr>\n",
        "    <tr>\n",
        "      <th>9294</th>\n",
        "      <td>            Mamazzz@gmail.com</td>\n",
        "      <td> 0</td>\n",
        "      <td> 0</td>\n",
        "      <td> 0</td>\n",
        "      <td> 0</td>\n",
        "      <td> 0</td>\n",
        "      <td> 0</td>\n",
        "      <td> 0</td>\n",
        "      <td> 0</td>\n",
        "      <td> 0</td>\n",
        "      <td> 0</td>\n",
        "      <td> 0</td>\n",
        "      <td> 0</td>\n",
        "      <td> 0</td>\n",
        "      <td> 0</td>\n",
        "      <td> 0</td>\n",
        "      <td> 0</td>\n",
        "      <td> 0</td>\n",
        "      <td> 0</td>\n",
        "      <td> 0</td>\n",
        "    </tr>\n",
        "    <tr>\n",
        "      <th>9295</th>\n",
        "      <td>            asony11@yahoo.com</td>\n",
        "      <td> 0</td>\n",
        "      <td> 0</td>\n",
        "      <td> 0</td>\n",
        "      <td> 0</td>\n",
        "      <td> 0</td>\n",
        "      <td> 0</td>\n",
        "      <td> 0</td>\n",
        "      <td> 0</td>\n",
        "      <td> 0</td>\n",
        "      <td> 0</td>\n",
        "      <td> 0</td>\n",
        "      <td> 0</td>\n",
        "      <td> 0</td>\n",
        "      <td> 0</td>\n",
        "      <td> 0</td>\n",
        "      <td> 0</td>\n",
        "      <td> 0</td>\n",
        "      <td> 0</td>\n",
        "      <td> 0</td>\n",
        "    </tr>\n",
        "    <tr>\n",
        "      <th>9296</th>\n",
        "      <td>      salwa_saiid@hotmail.com</td>\n",
        "      <td> 0</td>\n",
        "      <td> 0</td>\n",
        "      <td> 0</td>\n",
        "      <td> 0</td>\n",
        "      <td> 0</td>\n",
        "      <td> 0</td>\n",
        "      <td> 0</td>\n",
        "      <td> 0</td>\n",
        "      <td> 0</td>\n",
        "      <td> 0</td>\n",
        "      <td> 0</td>\n",
        "      <td> 0</td>\n",
        "      <td> 0</td>\n",
        "      <td> 0</td>\n",
        "      <td> 0</td>\n",
        "      <td> 0</td>\n",
        "      <td> 0</td>\n",
        "      <td> 0</td>\n",
        "      <td> 0</td>\n",
        "    </tr>\n",
        "    <tr>\n",
        "      <th>9297</th>\n",
        "      <td> djamila.benderbous@gmail.com</td>\n",
        "      <td> 0</td>\n",
        "      <td> 0</td>\n",
        "      <td> 0</td>\n",
        "      <td> 0</td>\n",
        "      <td> 0</td>\n",
        "      <td> 0</td>\n",
        "      <td> 0</td>\n",
        "      <td> 0</td>\n",
        "      <td> 0</td>\n",
        "      <td> 0</td>\n",
        "      <td> 0</td>\n",
        "      <td> 0</td>\n",
        "      <td> 0</td>\n",
        "      <td> 0</td>\n",
        "      <td> 0</td>\n",
        "      <td> 0</td>\n",
        "      <td> 0</td>\n",
        "      <td> 0</td>\n",
        "      <td> 0</td>\n",
        "    </tr>\n",
        "    <tr>\n",
        "      <th>9298</th>\n",
        "      <td>      milomilogindi@yahoo.com</td>\n",
        "      <td> 0</td>\n",
        "      <td> 0</td>\n",
        "      <td> 0</td>\n",
        "      <td> 0</td>\n",
        "      <td> 0</td>\n",
        "      <td> 0</td>\n",
        "      <td> 0</td>\n",
        "      <td> 0</td>\n",
        "      <td> 0</td>\n",
        "      <td> 0</td>\n",
        "      <td> 0</td>\n",
        "      <td> 0</td>\n",
        "      <td> 0</td>\n",
        "      <td> 0</td>\n",
        "      <td> 0</td>\n",
        "      <td> 0</td>\n",
        "      <td> 0</td>\n",
        "      <td> 0</td>\n",
        "      <td> 0</td>\n",
        "    </tr>\n",
        "    <tr>\n",
        "      <th>9299</th>\n",
        "      <td>     raghebelgammal@yahoo.com</td>\n",
        "      <td> 0</td>\n",
        "      <td> 0</td>\n",
        "      <td> 0</td>\n",
        "      <td> 0</td>\n",
        "      <td> 0</td>\n",
        "      <td> 0</td>\n",
        "      <td> 0</td>\n",
        "      <td> 0</td>\n",
        "      <td> 0</td>\n",
        "      <td> 0</td>\n",
        "      <td> 0</td>\n",
        "      <td> 0</td>\n",
        "      <td> 0</td>\n",
        "      <td> 0</td>\n",
        "      <td> 0</td>\n",
        "      <td> 0</td>\n",
        "      <td> 0</td>\n",
        "      <td> 0</td>\n",
        "      <td> 0</td>\n",
        "    </tr>\n",
        "    <tr>\n",
        "      <th>9300</th>\n",
        "      <td>      t_el_gammal@hotmail.com</td>\n",
        "      <td> 0</td>\n",
        "      <td> 0</td>\n",
        "      <td> 0</td>\n",
        "      <td> 0</td>\n",
        "      <td> 0</td>\n",
        "      <td> 0</td>\n",
        "      <td> 0</td>\n",
        "      <td> 0</td>\n",
        "      <td> 0</td>\n",
        "      <td> 0</td>\n",
        "      <td> 0</td>\n",
        "      <td> 0</td>\n",
        "      <td> 0</td>\n",
        "      <td> 0</td>\n",
        "      <td> 0</td>\n",
        "      <td> 0</td>\n",
        "      <td> 0</td>\n",
        "      <td> 0</td>\n",
        "      <td> 0</td>\n",
        "    </tr>\n",
        "    <tr>\n",
        "      <th>9301</th>\n",
        "      <td>       lik-novikova@yandex.ru</td>\n",
        "      <td> 0</td>\n",
        "      <td> 0</td>\n",
        "      <td> 0</td>\n",
        "      <td> 0</td>\n",
        "      <td> 0</td>\n",
        "      <td> 0</td>\n",
        "      <td> 0</td>\n",
        "      <td> 0</td>\n",
        "      <td> 0</td>\n",
        "      <td> 0</td>\n",
        "      <td> 0</td>\n",
        "      <td> 0</td>\n",
        "      <td> 0</td>\n",
        "      <td> 0</td>\n",
        "      <td> 0</td>\n",
        "      <td> 0</td>\n",
        "      <td> 0</td>\n",
        "      <td> 0</td>\n",
        "      <td> 0</td>\n",
        "    </tr>\n",
        "    <tr>\n",
        "      <th>9302</th>\n",
        "      <td>        fairymaid82@yahoo.com</td>\n",
        "      <td> 0</td>\n",
        "      <td> 0</td>\n",
        "      <td> 0</td>\n",
        "      <td> 0</td>\n",
        "      <td> 0</td>\n",
        "      <td> 0</td>\n",
        "      <td> 0</td>\n",
        "      <td> 0</td>\n",
        "      <td> 0</td>\n",
        "      <td> 0</td>\n",
        "      <td> 0</td>\n",
        "      <td> 0</td>\n",
        "      <td> 0</td>\n",
        "      <td> 0</td>\n",
        "      <td> 0</td>\n",
        "      <td> 0</td>\n",
        "      <td> 0</td>\n",
        "      <td> 0</td>\n",
        "      <td> 0</td>\n",
        "    </tr>\n",
        "    <tr>\n",
        "      <th>9303</th>\n",
        "      <td>      milomilogindi@yahoo.com</td>\n",
        "      <td> 0</td>\n",
        "      <td> 0</td>\n",
        "      <td> 0</td>\n",
        "      <td> 0</td>\n",
        "      <td> 0</td>\n",
        "      <td> 0</td>\n",
        "      <td> 0</td>\n",
        "      <td> 0</td>\n",
        "      <td> 0</td>\n",
        "      <td> 0</td>\n",
        "      <td> 0</td>\n",
        "      <td> 0</td>\n",
        "      <td> 0</td>\n",
        "      <td> 0</td>\n",
        "      <td> 0</td>\n",
        "      <td> 0</td>\n",
        "      <td> 0</td>\n",
        "      <td> 0</td>\n",
        "      <td> 0</td>\n",
        "    </tr>\n",
        "    <tr>\n",
        "      <th>9304</th>\n",
        "      <td>      t_el_gammal@hotmail.com</td>\n",
        "      <td> 0</td>\n",
        "      <td> 0</td>\n",
        "      <td> 0</td>\n",
        "      <td> 0</td>\n",
        "      <td> 0</td>\n",
        "      <td> 0</td>\n",
        "      <td> 0</td>\n",
        "      <td> 0</td>\n",
        "      <td> 0</td>\n",
        "      <td> 0</td>\n",
        "      <td> 0</td>\n",
        "      <td> 0</td>\n",
        "      <td> 0</td>\n",
        "      <td> 0</td>\n",
        "      <td> 0</td>\n",
        "      <td> 0</td>\n",
        "      <td> 0</td>\n",
        "      <td> 0</td>\n",
        "      <td> 0</td>\n",
        "    </tr>\n",
        "    <tr>\n",
        "      <th>9305</th>\n",
        "      <td>      t_el_gammal@hotmail.com</td>\n",
        "      <td> 0</td>\n",
        "      <td> 0</td>\n",
        "      <td> 0</td>\n",
        "      <td> 0</td>\n",
        "      <td> 0</td>\n",
        "      <td> 0</td>\n",
        "      <td> 0</td>\n",
        "      <td> 0</td>\n",
        "      <td> 0</td>\n",
        "      <td> 0</td>\n",
        "      <td> 0</td>\n",
        "      <td> 0</td>\n",
        "      <td> 0</td>\n",
        "      <td> 0</td>\n",
        "      <td> 0</td>\n",
        "      <td> 0</td>\n",
        "      <td> 0</td>\n",
        "      <td> 0</td>\n",
        "      <td> 0</td>\n",
        "    </tr>\n",
        "    <tr>\n",
        "      <th>9306</th>\n",
        "      <td>       lik-novikova@yandex.ru</td>\n",
        "      <td> 0</td>\n",
        "      <td> 0</td>\n",
        "      <td> 0</td>\n",
        "      <td> 0</td>\n",
        "      <td> 0</td>\n",
        "      <td> 0</td>\n",
        "      <td> 0</td>\n",
        "      <td> 0</td>\n",
        "      <td> 0</td>\n",
        "      <td> 0</td>\n",
        "      <td> 0</td>\n",
        "      <td> 0</td>\n",
        "      <td> 0</td>\n",
        "      <td> 0</td>\n",
        "      <td> 0</td>\n",
        "      <td> 0</td>\n",
        "      <td> 0</td>\n",
        "      <td> 0</td>\n",
        "      <td> 0</td>\n",
        "    </tr>\n",
        "    <tr>\n",
        "      <th>9307</th>\n",
        "      <td>             Biro5s@yahoo.com</td>\n",
        "      <td> 0</td>\n",
        "      <td> 0</td>\n",
        "      <td> 0</td>\n",
        "      <td> 0</td>\n",
        "      <td> 0</td>\n",
        "      <td> 0</td>\n",
        "      <td> 0</td>\n",
        "      <td> 0</td>\n",
        "      <td> 0</td>\n",
        "      <td> 0</td>\n",
        "      <td> 0</td>\n",
        "      <td> 0</td>\n",
        "      <td> 0</td>\n",
        "      <td> 0</td>\n",
        "      <td> 0</td>\n",
        "      <td> 0</td>\n",
        "      <td> 0</td>\n",
        "      <td> 0</td>\n",
        "      <td> 0</td>\n",
        "    </tr>\n",
        "    <tr>\n",
        "      <th>9308</th>\n",
        "      <td>         nini.etoile@voila.fr</td>\n",
        "      <td> 0</td>\n",
        "      <td> 0</td>\n",
        "      <td> 0</td>\n",
        "      <td> 0</td>\n",
        "      <td> 0</td>\n",
        "      <td> 0</td>\n",
        "      <td> 0</td>\n",
        "      <td> 0</td>\n",
        "      <td> 0</td>\n",
        "      <td> 0</td>\n",
        "      <td> 0</td>\n",
        "      <td> 0</td>\n",
        "      <td> 0</td>\n",
        "      <td> 0</td>\n",
        "      <td> 0</td>\n",
        "      <td> 0</td>\n",
        "      <td> 0</td>\n",
        "      <td> 0</td>\n",
        "      <td> 0</td>\n",
        "    </tr>\n",
        "    <tr>\n",
        "      <th>9309</th>\n",
        "      <td>       lik-novikova@yandex.ru</td>\n",
        "      <td> 0</td>\n",
        "      <td> 0</td>\n",
        "      <td> 0</td>\n",
        "      <td> 0</td>\n",
        "      <td> 0</td>\n",
        "      <td> 0</td>\n",
        "      <td> 0</td>\n",
        "      <td> 0</td>\n",
        "      <td> 0</td>\n",
        "      <td> 0</td>\n",
        "      <td> 0</td>\n",
        "      <td> 0</td>\n",
        "      <td> 0</td>\n",
        "      <td> 0</td>\n",
        "      <td> 0</td>\n",
        "      <td> 0</td>\n",
        "      <td> 0</td>\n",
        "      <td> 0</td>\n",
        "      <td> 0</td>\n",
        "    </tr>\n",
        "    <tr>\n",
        "      <th>9310</th>\n",
        "      <td>          bettyhedrich@gmx.de</td>\n",
        "      <td> 0</td>\n",
        "      <td> 0</td>\n",
        "      <td> 0</td>\n",
        "      <td> 0</td>\n",
        "      <td> 0</td>\n",
        "      <td> 0</td>\n",
        "      <td> 0</td>\n",
        "      <td> 0</td>\n",
        "      <td> 0</td>\n",
        "      <td> 0</td>\n",
        "      <td> 0</td>\n",
        "      <td> 0</td>\n",
        "      <td> 0</td>\n",
        "      <td> 0</td>\n",
        "      <td> 0</td>\n",
        "      <td> 0</td>\n",
        "      <td> 0</td>\n",
        "      <td> 0</td>\n",
        "      <td> 0</td>\n",
        "    </tr>\n",
        "    <tr>\n",
        "      <th>9311</th>\n",
        "      <td>                rulah@msn.com</td>\n",
        "      <td> 0</td>\n",
        "      <td> 0</td>\n",
        "      <td> 0</td>\n",
        "      <td> 0</td>\n",
        "      <td> 0</td>\n",
        "      <td> 0</td>\n",
        "      <td> 0</td>\n",
        "      <td> 0</td>\n",
        "      <td> 0</td>\n",
        "      <td> 0</td>\n",
        "      <td> 0</td>\n",
        "      <td> 0</td>\n",
        "      <td> 0</td>\n",
        "      <td> 0</td>\n",
        "      <td> 0</td>\n",
        "      <td> 0</td>\n",
        "      <td> 0</td>\n",
        "      <td> 0</td>\n",
        "      <td> 0</td>\n",
        "    </tr>\n",
        "    <tr>\n",
        "      <th>9312</th>\n",
        "      <td>          milda_b@hotmail.com</td>\n",
        "      <td> 0</td>\n",
        "      <td> 0</td>\n",
        "      <td> 0</td>\n",
        "      <td> 0</td>\n",
        "      <td> 0</td>\n",
        "      <td> 0</td>\n",
        "      <td> 0</td>\n",
        "      <td> 0</td>\n",
        "      <td> 0</td>\n",
        "      <td> 0</td>\n",
        "      <td> 0</td>\n",
        "      <td> 0</td>\n",
        "      <td> 0</td>\n",
        "      <td> 0</td>\n",
        "      <td> 0</td>\n",
        "      <td> 0</td>\n",
        "      <td> 0</td>\n",
        "      <td> 0</td>\n",
        "      <td> 0</td>\n",
        "    </tr>\n",
        "    <tr>\n",
        "      <th>9313</th>\n",
        "      <td>          bente.ring@yahoo.no</td>\n",
        "      <td> 0</td>\n",
        "      <td> 0</td>\n",
        "      <td> 0</td>\n",
        "      <td> 0</td>\n",
        "      <td> 0</td>\n",
        "      <td> 0</td>\n",
        "      <td> 0</td>\n",
        "      <td> 0</td>\n",
        "      <td> 0</td>\n",
        "      <td> 0</td>\n",
        "      <td> 0</td>\n",
        "      <td> 0</td>\n",
        "      <td> 0</td>\n",
        "      <td> 0</td>\n",
        "      <td> 0</td>\n",
        "      <td> 0</td>\n",
        "      <td> 0</td>\n",
        "      <td> 0</td>\n",
        "      <td> 0</td>\n",
        "    </tr>\n",
        "    <tr>\n",
        "      <th>9314</th>\n",
        "      <td>          bente.ring@yahoo.no</td>\n",
        "      <td> 0</td>\n",
        "      <td> 0</td>\n",
        "      <td> 0</td>\n",
        "      <td> 0</td>\n",
        "      <td> 0</td>\n",
        "      <td> 0</td>\n",
        "      <td> 0</td>\n",
        "      <td> 0</td>\n",
        "      <td> 0</td>\n",
        "      <td> 0</td>\n",
        "      <td> 0</td>\n",
        "      <td> 0</td>\n",
        "      <td> 0</td>\n",
        "      <td> 0</td>\n",
        "      <td> 0</td>\n",
        "      <td> 0</td>\n",
        "      <td> 0</td>\n",
        "      <td> 0</td>\n",
        "      <td> 0</td>\n",
        "    </tr>\n",
        "    <tr>\n",
        "      <th>9315</th>\n",
        "      <td>       lik-novikova@yandex.ru</td>\n",
        "      <td> 0</td>\n",
        "      <td> 0</td>\n",
        "      <td> 0</td>\n",
        "      <td> 0</td>\n",
        "      <td> 0</td>\n",
        "      <td> 0</td>\n",
        "      <td> 0</td>\n",
        "      <td> 0</td>\n",
        "      <td> 0</td>\n",
        "      <td> 0</td>\n",
        "      <td> 0</td>\n",
        "      <td> 0</td>\n",
        "      <td> 0</td>\n",
        "      <td> 0</td>\n",
        "      <td> 0</td>\n",
        "      <td> 0</td>\n",
        "      <td> 0</td>\n",
        "      <td> 0</td>\n",
        "      <td> 0</td>\n",
        "    </tr>\n",
        "    <tr>\n",
        "      <th>9316</th>\n",
        "      <td>          bente.ring@yahoo.no</td>\n",
        "      <td> 0</td>\n",
        "      <td> 0</td>\n",
        "      <td> 0</td>\n",
        "      <td> 0</td>\n",
        "      <td> 0</td>\n",
        "      <td> 0</td>\n",
        "      <td> 0</td>\n",
        "      <td> 0</td>\n",
        "      <td> 0</td>\n",
        "      <td> 0</td>\n",
        "      <td> 0</td>\n",
        "      <td> 0</td>\n",
        "      <td> 0</td>\n",
        "      <td> 0</td>\n",
        "      <td> 0</td>\n",
        "      <td> 0</td>\n",
        "      <td> 0</td>\n",
        "      <td> 0</td>\n",
        "      <td> 0</td>\n",
        "    </tr>\n",
        "    <tr>\n",
        "      <th>9317</th>\n",
        "      <td>         cathypod@hotmail.com</td>\n",
        "      <td> 0</td>\n",
        "      <td> 0</td>\n",
        "      <td> 0</td>\n",
        "      <td> 0</td>\n",
        "      <td> 0</td>\n",
        "      <td> 0</td>\n",
        "      <td> 0</td>\n",
        "      <td> 0</td>\n",
        "      <td> 0</td>\n",
        "      <td> 0</td>\n",
        "      <td> 0</td>\n",
        "      <td> 0</td>\n",
        "      <td> 0</td>\n",
        "      <td> 0</td>\n",
        "      <td> 0</td>\n",
        "      <td> 0</td>\n",
        "      <td> 0</td>\n",
        "      <td> 0</td>\n",
        "      <td> 0</td>\n",
        "    </tr>\n",
        "  </tbody>\n",
        "</table>\n",
        "<p>9318 rows \u00d7 20 columns</p>\n",
        "</div>"
       ],
       "metadata": {},
       "output_type": "pyout",
       "prompt_number": 4,
       "text": [
        "                             Email  Sunday  Monday  Tuesday  Wednesday  \\\n",
        "0           rehabmansour@gmail.com       0       0        0          0   \n",
        "1              nabouheif@yahoo.com       0       0        0          0   \n",
        "2           fracicardi@hotmail.com       0       0        0          0   \n",
        "3           ahmed.fakhry@gmail.com       0       0        0          0   \n",
        "4           ahmed.fakhry@gmail.com       0       0        0          0   \n",
        "5             Missilou11@yahoo.com       0       0        0          0   \n",
        "6          sallysalem123@gmail.com       0       0        0          0   \n",
        "7         nayera_fadel@hotmail.com       0       0        0          0   \n",
        "8            raoufzdn553@gmail.com       0       0        0          0   \n",
        "9           gaylynmbogho@yahoo.com       0       0        0          0   \n",
        "10            oshahavi13@gmail.com       0       0        0          0   \n",
        "11            Daiieldeeb@gmail.com       0       0        0          0   \n",
        "12             yara.azam@gmail.com       0       0        0          0   \n",
        "13           dalia_allam@yahoo.com       0       0        0          0   \n",
        "14           elhanem52@hotmail.com       0       0        0          0   \n",
        "15        tarek_seddik@hotmail.com       0       0        0          0   \n",
        "16         maie.nomrossy@gmail.com       0       0        0          0   \n",
        "17           hazem.shamy@gmail.com       0       0        0          0   \n",
        "18          maya.p.nawal@gmail.com       0       0        0          0   \n",
        "19       jamesmorgan0091@gmail.com       0       0        0          0   \n",
        "20            israa_s@aucegypt.edu       0       0        0          0   \n",
        "21          RODY.DOVE123@GMAIL.COM       0       0        0          0   \n",
        "22          amaghraby@mediawave.me       0       0        0          0   \n",
        "23          RODY.DOVE123@GMAIL.COM       0       0        0          0   \n",
        "24             hibba_b@hotmail.com       0       0        0          0   \n",
        "25          pascalenader@gmail.com       0       0        0          0   \n",
        "26          doaa.khattab@gmail.com       0       0        0          0   \n",
        "27          sunset_456@hotmail.com       0       0        0          0   \n",
        "28      colleen_lovely@hotmail.com       0       0        0          0   \n",
        "29                imrhazi@yahoo.fr       0       0        0          0   \n",
        "...                            ...     ...     ...      ...        ...   \n",
        "9288        mireilleamin@yahoo.com       0       0        0          0   \n",
        "9289    Ihab.derias@laroche.com.eg       0       0        0          0   \n",
        "9290          Adhamada@hotmail.com       0       0        0          0   \n",
        "9291      houssam.elokda@gmail.com       0       0        0          0   \n",
        "9292           Hania7894@gmail.com       0       0        0          0   \n",
        "9293           Hania7894@gmail.com       0       0        0          0   \n",
        "9294             Mamazzz@gmail.com       0       0        0          0   \n",
        "9295             asony11@yahoo.com       0       0        0          0   \n",
        "9296       salwa_saiid@hotmail.com       0       0        0          0   \n",
        "9297  djamila.benderbous@gmail.com       0       0        0          0   \n",
        "9298       milomilogindi@yahoo.com       0       0        0          0   \n",
        "9299      raghebelgammal@yahoo.com       0       0        0          0   \n",
        "9300       t_el_gammal@hotmail.com       0       0        0          0   \n",
        "9301        lik-novikova@yandex.ru       0       0        0          0   \n",
        "9302         fairymaid82@yahoo.com       0       0        0          0   \n",
        "9303       milomilogindi@yahoo.com       0       0        0          0   \n",
        "9304       t_el_gammal@hotmail.com       0       0        0          0   \n",
        "9305       t_el_gammal@hotmail.com       0       0        0          0   \n",
        "9306        lik-novikova@yandex.ru       0       0        0          0   \n",
        "9307              Biro5s@yahoo.com       0       0        0          0   \n",
        "9308          nini.etoile@voila.fr       0       0        0          0   \n",
        "9309        lik-novikova@yandex.ru       0       0        0          0   \n",
        "9310           bettyhedrich@gmx.de       0       0        0          0   \n",
        "9311                 rulah@msn.com       0       0        0          0   \n",
        "9312           milda_b@hotmail.com       0       0        0          0   \n",
        "9313           bente.ring@yahoo.no       0       0        0          0   \n",
        "9314           bente.ring@yahoo.no       0       0        0          0   \n",
        "9315        lik-novikova@yandex.ru       0       0        0          0   \n",
        "9316           bente.ring@yahoo.no       0       0        0          0   \n",
        "9317          cathypod@hotmail.com       0       0        0          0   \n",
        "\n",
        "      Thursday  Friday  Saturday  0  2  4  6  8  10  12  14  16  18  20  22  \n",
        "0            0       0         0  0  0  0  0  0   0   0   0   0   0   0   0  \n",
        "1            0       0         0  0  0  0  0  0   0   0   0   0   0   0   0  \n",
        "2            0       0         0  0  0  0  0  0   0   0   0   0   0   0   0  \n",
        "3            0       0         0  0  0  0  0  0   0   0   0   0   0   0   0  \n",
        "4            0       0         0  0  0  0  0  0   0   0   0   0   0   0   0  \n",
        "5            0       0         0  0  0  0  0  0   0   0   0   0   0   0   0  \n",
        "6            0       0         0  0  0  0  0  0   0   0   0   0   0   0   0  \n",
        "7            0       0         0  0  0  0  0  0   0   0   0   0   0   0   0  \n",
        "8            0       0         0  0  0  0  0  0   0   0   0   0   0   0   0  \n",
        "9            0       0         0  0  0  0  0  0   0   0   0   0   0   0   0  \n",
        "10           0       0         0  0  0  0  0  0   0   0   0   0   0   0   0  \n",
        "11           0       0         0  0  0  0  0  0   0   0   0   0   0   0   0  \n",
        "12           0       0         0  0  0  0  0  0   0   0   0   0   0   0   0  \n",
        "13           0       0         0  0  0  0  0  0   0   0   0   0   0   0   0  \n",
        "14           0       0         0  0  0  0  0  0   0   0   0   0   0   0   0  \n",
        "15           0       0         0  0  0  0  0  0   0   0   0   0   0   0   0  \n",
        "16           0       0         0  0  0  0  0  0   0   0   0   0   0   0   0  \n",
        "17           0       0         0  0  0  0  0  0   0   0   0   0   0   0   0  \n",
        "18           0       0         0  0  0  0  0  0   0   0   0   0   0   0   0  \n",
        "19           0       0         0  0  0  0  0  0   0   0   0   0   0   0   0  \n",
        "20           0       0         0  0  0  0  0  0   0   0   0   0   0   0   0  \n",
        "21           0       0         0  0  0  0  0  0   0   0   0   0   0   0   0  \n",
        "22           0       0         0  0  0  0  0  0   0   0   0   0   0   0   0  \n",
        "23           0       0         0  0  0  0  0  0   0   0   0   0   0   0   0  \n",
        "24           0       0         0  0  0  0  0  0   0   0   0   0   0   0   0  \n",
        "25           0       0         0  0  0  0  0  0   0   0   0   0   0   0   0  \n",
        "26           0       0         0  0  0  0  0  0   0   0   0   0   0   0   0  \n",
        "27           0       0         0  0  0  0  0  0   0   0   0   0   0   0   0  \n",
        "28           0       0         0  0  0  0  0  0   0   0   0   0   0   0   0  \n",
        "29           0       0         0  0  0  0  0  0   0   0   0   0   0   0   0  \n",
        "...        ...     ...       ... .. .. .. .. ..  ..  ..  ..  ..  ..  ..  ..  \n",
        "9288         0       0         0  0  0  0  0  0   0   0   0   0   0   0   0  \n",
        "9289         0       0         0  0  0  0  0  0   0   0   0   0   0   0   0  \n",
        "9290         0       0         0  0  0  0  0  0   0   0   0   0   0   0   0  \n",
        "9291         0       0         0  0  0  0  0  0   0   0   0   0   0   0   0  \n",
        "9292         0       0         0  0  0  0  0  0   0   0   0   0   0   0   0  \n",
        "9293         0       0         0  0  0  0  0  0   0   0   0   0   0   0   0  \n",
        "9294         0       0         0  0  0  0  0  0   0   0   0   0   0   0   0  \n",
        "9295         0       0         0  0  0  0  0  0   0   0   0   0   0   0   0  \n",
        "9296         0       0         0  0  0  0  0  0   0   0   0   0   0   0   0  \n",
        "9297         0       0         0  0  0  0  0  0   0   0   0   0   0   0   0  \n",
        "9298         0       0         0  0  0  0  0  0   0   0   0   0   0   0   0  \n",
        "9299         0       0         0  0  0  0  0  0   0   0   0   0   0   0   0  \n",
        "9300         0       0         0  0  0  0  0  0   0   0   0   0   0   0   0  \n",
        "9301         0       0         0  0  0  0  0  0   0   0   0   0   0   0   0  \n",
        "9302         0       0         0  0  0  0  0  0   0   0   0   0   0   0   0  \n",
        "9303         0       0         0  0  0  0  0  0   0   0   0   0   0   0   0  \n",
        "9304         0       0         0  0  0  0  0  0   0   0   0   0   0   0   0  \n",
        "9305         0       0         0  0  0  0  0  0   0   0   0   0   0   0   0  \n",
        "9306         0       0         0  0  0  0  0  0   0   0   0   0   0   0   0  \n",
        "9307         0       0         0  0  0  0  0  0   0   0   0   0   0   0   0  \n",
        "9308         0       0         0  0  0  0  0  0   0   0   0   0   0   0   0  \n",
        "9309         0       0         0  0  0  0  0  0   0   0   0   0   0   0   0  \n",
        "9310         0       0         0  0  0  0  0  0   0   0   0   0   0   0   0  \n",
        "9311         0       0         0  0  0  0  0  0   0   0   0   0   0   0   0  \n",
        "9312         0       0         0  0  0  0  0  0   0   0   0   0   0   0   0  \n",
        "9313         0       0         0  0  0  0  0  0   0   0   0   0   0   0   0  \n",
        "9314         0       0         0  0  0  0  0  0   0   0   0   0   0   0   0  \n",
        "9315         0       0         0  0  0  0  0  0   0   0   0   0   0   0   0  \n",
        "9316         0       0         0  0  0  0  0  0   0   0   0   0   0   0   0  \n",
        "9317         0       0         0  0  0  0  0  0   0   0   0   0   0   0   0  \n",
        "\n",
        "[9318 rows x 20 columns]"
       ]
      }
     ],
     "prompt_number": 4
    },
    {
     "cell_type": "code",
     "collapsed": false,
     "input": [
      "#assign values to hours and days columns\n",
      "for i in range(0, max(df.index)+1):\n",
      "    df1.loc[i,(df.iloc[i,2])] = 1\n",
      "    df1.loc[i,(df.iloc[i,3])] = 1\n",
      "df1"
     ],
     "language": "python",
     "metadata": {},
     "outputs": [
      {
       "html": [
        "<div style=\"max-height:1000px;max-width:1500px;overflow:auto;\">\n",
        "<table border=\"1\" class=\"dataframe\">\n",
        "  <thead>\n",
        "    <tr style=\"text-align: right;\">\n",
        "      <th></th>\n",
        "      <th>Email</th>\n",
        "      <th>Sunday</th>\n",
        "      <th>Monday</th>\n",
        "      <th>Tuesday</th>\n",
        "      <th>Wednesday</th>\n",
        "      <th>Thursday</th>\n",
        "      <th>Friday</th>\n",
        "      <th>Saturday</th>\n",
        "      <th>0</th>\n",
        "      <th>2</th>\n",
        "      <th>4</th>\n",
        "      <th>6</th>\n",
        "      <th>8</th>\n",
        "      <th>10</th>\n",
        "      <th>12</th>\n",
        "      <th>14</th>\n",
        "      <th>16</th>\n",
        "      <th>18</th>\n",
        "      <th>20</th>\n",
        "      <th>22</th>\n",
        "    </tr>\n",
        "  </thead>\n",
        "  <tbody>\n",
        "    <tr>\n",
        "      <th>0   </th>\n",
        "      <td>       rehabmansour@gmail.com</td>\n",
        "      <td> 0</td>\n",
        "      <td> 0</td>\n",
        "      <td> 0</td>\n",
        "      <td> 1</td>\n",
        "      <td> 0</td>\n",
        "      <td> 0</td>\n",
        "      <td> 0</td>\n",
        "      <td> 0</td>\n",
        "      <td> 0</td>\n",
        "      <td> 0</td>\n",
        "      <td> 0</td>\n",
        "      <td> 0</td>\n",
        "      <td> 0</td>\n",
        "      <td> 0</td>\n",
        "      <td> 0</td>\n",
        "      <td> 0</td>\n",
        "      <td> 0</td>\n",
        "      <td> 1</td>\n",
        "      <td> 0</td>\n",
        "    </tr>\n",
        "    <tr>\n",
        "      <th>1   </th>\n",
        "      <td>          nabouheif@yahoo.com</td>\n",
        "      <td> 0</td>\n",
        "      <td> 0</td>\n",
        "      <td> 0</td>\n",
        "      <td> 1</td>\n",
        "      <td> 0</td>\n",
        "      <td> 0</td>\n",
        "      <td> 0</td>\n",
        "      <td> 0</td>\n",
        "      <td> 0</td>\n",
        "      <td> 0</td>\n",
        "      <td> 0</td>\n",
        "      <td> 0</td>\n",
        "      <td> 0</td>\n",
        "      <td> 0</td>\n",
        "      <td> 0</td>\n",
        "      <td> 0</td>\n",
        "      <td> 0</td>\n",
        "      <td> 1</td>\n",
        "      <td> 0</td>\n",
        "    </tr>\n",
        "    <tr>\n",
        "      <th>2   </th>\n",
        "      <td>       fracicardi@hotmail.com</td>\n",
        "      <td> 0</td>\n",
        "      <td> 0</td>\n",
        "      <td> 0</td>\n",
        "      <td> 1</td>\n",
        "      <td> 0</td>\n",
        "      <td> 0</td>\n",
        "      <td> 0</td>\n",
        "      <td> 0</td>\n",
        "      <td> 0</td>\n",
        "      <td> 0</td>\n",
        "      <td> 0</td>\n",
        "      <td> 0</td>\n",
        "      <td> 0</td>\n",
        "      <td> 0</td>\n",
        "      <td> 0</td>\n",
        "      <td> 0</td>\n",
        "      <td> 1</td>\n",
        "      <td> 0</td>\n",
        "      <td> 0</td>\n",
        "    </tr>\n",
        "    <tr>\n",
        "      <th>3   </th>\n",
        "      <td>       ahmed.fakhry@gmail.com</td>\n",
        "      <td> 0</td>\n",
        "      <td> 0</td>\n",
        "      <td> 0</td>\n",
        "      <td> 1</td>\n",
        "      <td> 0</td>\n",
        "      <td> 0</td>\n",
        "      <td> 0</td>\n",
        "      <td> 0</td>\n",
        "      <td> 0</td>\n",
        "      <td> 0</td>\n",
        "      <td> 0</td>\n",
        "      <td> 0</td>\n",
        "      <td> 0</td>\n",
        "      <td> 0</td>\n",
        "      <td> 0</td>\n",
        "      <td> 1</td>\n",
        "      <td> 0</td>\n",
        "      <td> 0</td>\n",
        "      <td> 0</td>\n",
        "    </tr>\n",
        "    <tr>\n",
        "      <th>4   </th>\n",
        "      <td>       ahmed.fakhry@gmail.com</td>\n",
        "      <td> 0</td>\n",
        "      <td> 0</td>\n",
        "      <td> 0</td>\n",
        "      <td> 1</td>\n",
        "      <td> 0</td>\n",
        "      <td> 0</td>\n",
        "      <td> 0</td>\n",
        "      <td> 0</td>\n",
        "      <td> 0</td>\n",
        "      <td> 0</td>\n",
        "      <td> 0</td>\n",
        "      <td> 0</td>\n",
        "      <td> 0</td>\n",
        "      <td> 0</td>\n",
        "      <td> 0</td>\n",
        "      <td> 1</td>\n",
        "      <td> 0</td>\n",
        "      <td> 0</td>\n",
        "      <td> 0</td>\n",
        "    </tr>\n",
        "    <tr>\n",
        "      <th>5   </th>\n",
        "      <td>         Missilou11@yahoo.com</td>\n",
        "      <td> 0</td>\n",
        "      <td> 0</td>\n",
        "      <td> 0</td>\n",
        "      <td> 1</td>\n",
        "      <td> 0</td>\n",
        "      <td> 0</td>\n",
        "      <td> 0</td>\n",
        "      <td> 0</td>\n",
        "      <td> 0</td>\n",
        "      <td> 0</td>\n",
        "      <td> 0</td>\n",
        "      <td> 0</td>\n",
        "      <td> 0</td>\n",
        "      <td> 0</td>\n",
        "      <td> 1</td>\n",
        "      <td> 0</td>\n",
        "      <td> 0</td>\n",
        "      <td> 0</td>\n",
        "      <td> 0</td>\n",
        "    </tr>\n",
        "    <tr>\n",
        "      <th>6   </th>\n",
        "      <td>      sallysalem123@gmail.com</td>\n",
        "      <td> 0</td>\n",
        "      <td> 0</td>\n",
        "      <td> 0</td>\n",
        "      <td> 1</td>\n",
        "      <td> 0</td>\n",
        "      <td> 0</td>\n",
        "      <td> 0</td>\n",
        "      <td> 0</td>\n",
        "      <td> 0</td>\n",
        "      <td> 0</td>\n",
        "      <td> 0</td>\n",
        "      <td> 0</td>\n",
        "      <td> 0</td>\n",
        "      <td> 1</td>\n",
        "      <td> 0</td>\n",
        "      <td> 0</td>\n",
        "      <td> 0</td>\n",
        "      <td> 0</td>\n",
        "      <td> 0</td>\n",
        "    </tr>\n",
        "    <tr>\n",
        "      <th>7   </th>\n",
        "      <td>     nayera_fadel@hotmail.com</td>\n",
        "      <td> 0</td>\n",
        "      <td> 0</td>\n",
        "      <td> 0</td>\n",
        "      <td> 1</td>\n",
        "      <td> 0</td>\n",
        "      <td> 0</td>\n",
        "      <td> 0</td>\n",
        "      <td> 0</td>\n",
        "      <td> 0</td>\n",
        "      <td> 0</td>\n",
        "      <td> 0</td>\n",
        "      <td> 0</td>\n",
        "      <td> 0</td>\n",
        "      <td> 1</td>\n",
        "      <td> 0</td>\n",
        "      <td> 0</td>\n",
        "      <td> 0</td>\n",
        "      <td> 0</td>\n",
        "      <td> 0</td>\n",
        "    </tr>\n",
        "    <tr>\n",
        "      <th>8   </th>\n",
        "      <td>        raoufzdn553@gmail.com</td>\n",
        "      <td> 0</td>\n",
        "      <td> 0</td>\n",
        "      <td> 0</td>\n",
        "      <td> 1</td>\n",
        "      <td> 0</td>\n",
        "      <td> 0</td>\n",
        "      <td> 0</td>\n",
        "      <td> 0</td>\n",
        "      <td> 0</td>\n",
        "      <td> 0</td>\n",
        "      <td> 0</td>\n",
        "      <td> 0</td>\n",
        "      <td> 0</td>\n",
        "      <td> 1</td>\n",
        "      <td> 0</td>\n",
        "      <td> 0</td>\n",
        "      <td> 0</td>\n",
        "      <td> 0</td>\n",
        "      <td> 0</td>\n",
        "    </tr>\n",
        "    <tr>\n",
        "      <th>9   </th>\n",
        "      <td>       gaylynmbogho@yahoo.com</td>\n",
        "      <td> 0</td>\n",
        "      <td> 0</td>\n",
        "      <td> 0</td>\n",
        "      <td> 1</td>\n",
        "      <td> 0</td>\n",
        "      <td> 0</td>\n",
        "      <td> 0</td>\n",
        "      <td> 0</td>\n",
        "      <td> 0</td>\n",
        "      <td> 0</td>\n",
        "      <td> 0</td>\n",
        "      <td> 0</td>\n",
        "      <td> 0</td>\n",
        "      <td> 1</td>\n",
        "      <td> 0</td>\n",
        "      <td> 0</td>\n",
        "      <td> 0</td>\n",
        "      <td> 0</td>\n",
        "      <td> 0</td>\n",
        "    </tr>\n",
        "    <tr>\n",
        "      <th>10  </th>\n",
        "      <td>         oshahavi13@gmail.com</td>\n",
        "      <td> 0</td>\n",
        "      <td> 0</td>\n",
        "      <td> 0</td>\n",
        "      <td> 1</td>\n",
        "      <td> 0</td>\n",
        "      <td> 0</td>\n",
        "      <td> 0</td>\n",
        "      <td> 0</td>\n",
        "      <td> 0</td>\n",
        "      <td> 0</td>\n",
        "      <td> 0</td>\n",
        "      <td> 0</td>\n",
        "      <td> 0</td>\n",
        "      <td> 1</td>\n",
        "      <td> 0</td>\n",
        "      <td> 0</td>\n",
        "      <td> 0</td>\n",
        "      <td> 0</td>\n",
        "      <td> 0</td>\n",
        "    </tr>\n",
        "    <tr>\n",
        "      <th>11  </th>\n",
        "      <td>         Daiieldeeb@gmail.com</td>\n",
        "      <td> 0</td>\n",
        "      <td> 0</td>\n",
        "      <td> 0</td>\n",
        "      <td> 1</td>\n",
        "      <td> 0</td>\n",
        "      <td> 0</td>\n",
        "      <td> 0</td>\n",
        "      <td> 0</td>\n",
        "      <td> 0</td>\n",
        "      <td> 0</td>\n",
        "      <td> 0</td>\n",
        "      <td> 0</td>\n",
        "      <td> 1</td>\n",
        "      <td> 0</td>\n",
        "      <td> 0</td>\n",
        "      <td> 0</td>\n",
        "      <td> 0</td>\n",
        "      <td> 0</td>\n",
        "      <td> 0</td>\n",
        "    </tr>\n",
        "    <tr>\n",
        "      <th>12  </th>\n",
        "      <td>          yara.azam@gmail.com</td>\n",
        "      <td> 0</td>\n",
        "      <td> 0</td>\n",
        "      <td> 0</td>\n",
        "      <td> 1</td>\n",
        "      <td> 0</td>\n",
        "      <td> 0</td>\n",
        "      <td> 0</td>\n",
        "      <td> 0</td>\n",
        "      <td> 0</td>\n",
        "      <td> 0</td>\n",
        "      <td> 0</td>\n",
        "      <td> 0</td>\n",
        "      <td> 1</td>\n",
        "      <td> 0</td>\n",
        "      <td> 0</td>\n",
        "      <td> 0</td>\n",
        "      <td> 0</td>\n",
        "      <td> 0</td>\n",
        "      <td> 0</td>\n",
        "    </tr>\n",
        "    <tr>\n",
        "      <th>13  </th>\n",
        "      <td>        dalia_allam@yahoo.com</td>\n",
        "      <td> 0</td>\n",
        "      <td> 0</td>\n",
        "      <td> 0</td>\n",
        "      <td> 1</td>\n",
        "      <td> 0</td>\n",
        "      <td> 0</td>\n",
        "      <td> 0</td>\n",
        "      <td> 0</td>\n",
        "      <td> 0</td>\n",
        "      <td> 0</td>\n",
        "      <td> 1</td>\n",
        "      <td> 0</td>\n",
        "      <td> 0</td>\n",
        "      <td> 0</td>\n",
        "      <td> 0</td>\n",
        "      <td> 0</td>\n",
        "      <td> 0</td>\n",
        "      <td> 0</td>\n",
        "      <td> 0</td>\n",
        "    </tr>\n",
        "    <tr>\n",
        "      <th>14  </th>\n",
        "      <td>        elhanem52@hotmail.com</td>\n",
        "      <td> 0</td>\n",
        "      <td> 0</td>\n",
        "      <td> 0</td>\n",
        "      <td> 1</td>\n",
        "      <td> 0</td>\n",
        "      <td> 0</td>\n",
        "      <td> 0</td>\n",
        "      <td> 0</td>\n",
        "      <td> 0</td>\n",
        "      <td> 0</td>\n",
        "      <td> 1</td>\n",
        "      <td> 0</td>\n",
        "      <td> 0</td>\n",
        "      <td> 0</td>\n",
        "      <td> 0</td>\n",
        "      <td> 0</td>\n",
        "      <td> 0</td>\n",
        "      <td> 0</td>\n",
        "      <td> 0</td>\n",
        "    </tr>\n",
        "    <tr>\n",
        "      <th>15  </th>\n",
        "      <td>     tarek_seddik@hotmail.com</td>\n",
        "      <td> 0</td>\n",
        "      <td> 0</td>\n",
        "      <td> 0</td>\n",
        "      <td> 1</td>\n",
        "      <td> 0</td>\n",
        "      <td> 0</td>\n",
        "      <td> 0</td>\n",
        "      <td> 0</td>\n",
        "      <td> 1</td>\n",
        "      <td> 0</td>\n",
        "      <td> 0</td>\n",
        "      <td> 0</td>\n",
        "      <td> 0</td>\n",
        "      <td> 0</td>\n",
        "      <td> 0</td>\n",
        "      <td> 0</td>\n",
        "      <td> 0</td>\n",
        "      <td> 0</td>\n",
        "      <td> 0</td>\n",
        "    </tr>\n",
        "    <tr>\n",
        "      <th>16  </th>\n",
        "      <td>      maie.nomrossy@gmail.com</td>\n",
        "      <td> 0</td>\n",
        "      <td> 0</td>\n",
        "      <td> 0</td>\n",
        "      <td> 1</td>\n",
        "      <td> 0</td>\n",
        "      <td> 0</td>\n",
        "      <td> 0</td>\n",
        "      <td> 1</td>\n",
        "      <td> 0</td>\n",
        "      <td> 0</td>\n",
        "      <td> 0</td>\n",
        "      <td> 0</td>\n",
        "      <td> 0</td>\n",
        "      <td> 0</td>\n",
        "      <td> 0</td>\n",
        "      <td> 0</td>\n",
        "      <td> 0</td>\n",
        "      <td> 0</td>\n",
        "      <td> 0</td>\n",
        "    </tr>\n",
        "    <tr>\n",
        "      <th>17  </th>\n",
        "      <td>        hazem.shamy@gmail.com</td>\n",
        "      <td> 0</td>\n",
        "      <td> 0</td>\n",
        "      <td> 0</td>\n",
        "      <td> 1</td>\n",
        "      <td> 0</td>\n",
        "      <td> 0</td>\n",
        "      <td> 0</td>\n",
        "      <td> 1</td>\n",
        "      <td> 0</td>\n",
        "      <td> 0</td>\n",
        "      <td> 0</td>\n",
        "      <td> 0</td>\n",
        "      <td> 0</td>\n",
        "      <td> 0</td>\n",
        "      <td> 0</td>\n",
        "      <td> 0</td>\n",
        "      <td> 0</td>\n",
        "      <td> 0</td>\n",
        "      <td> 0</td>\n",
        "    </tr>\n",
        "    <tr>\n",
        "      <th>18  </th>\n",
        "      <td>       maya.p.nawal@gmail.com</td>\n",
        "      <td> 0</td>\n",
        "      <td> 0</td>\n",
        "      <td> 1</td>\n",
        "      <td> 0</td>\n",
        "      <td> 0</td>\n",
        "      <td> 0</td>\n",
        "      <td> 0</td>\n",
        "      <td> 0</td>\n",
        "      <td> 0</td>\n",
        "      <td> 0</td>\n",
        "      <td> 0</td>\n",
        "      <td> 0</td>\n",
        "      <td> 0</td>\n",
        "      <td> 0</td>\n",
        "      <td> 0</td>\n",
        "      <td> 0</td>\n",
        "      <td> 0</td>\n",
        "      <td> 1</td>\n",
        "      <td> 0</td>\n",
        "    </tr>\n",
        "    <tr>\n",
        "      <th>19  </th>\n",
        "      <td>    jamesmorgan0091@gmail.com</td>\n",
        "      <td> 0</td>\n",
        "      <td> 0</td>\n",
        "      <td> 1</td>\n",
        "      <td> 0</td>\n",
        "      <td> 0</td>\n",
        "      <td> 0</td>\n",
        "      <td> 0</td>\n",
        "      <td> 0</td>\n",
        "      <td> 0</td>\n",
        "      <td> 0</td>\n",
        "      <td> 0</td>\n",
        "      <td> 0</td>\n",
        "      <td> 0</td>\n",
        "      <td> 0</td>\n",
        "      <td> 0</td>\n",
        "      <td> 0</td>\n",
        "      <td> 1</td>\n",
        "      <td> 0</td>\n",
        "      <td> 0</td>\n",
        "    </tr>\n",
        "    <tr>\n",
        "      <th>20  </th>\n",
        "      <td>         israa_s@aucegypt.edu</td>\n",
        "      <td> 0</td>\n",
        "      <td> 0</td>\n",
        "      <td> 1</td>\n",
        "      <td> 0</td>\n",
        "      <td> 0</td>\n",
        "      <td> 0</td>\n",
        "      <td> 0</td>\n",
        "      <td> 0</td>\n",
        "      <td> 0</td>\n",
        "      <td> 0</td>\n",
        "      <td> 0</td>\n",
        "      <td> 0</td>\n",
        "      <td> 0</td>\n",
        "      <td> 0</td>\n",
        "      <td> 0</td>\n",
        "      <td> 1</td>\n",
        "      <td> 0</td>\n",
        "      <td> 0</td>\n",
        "      <td> 0</td>\n",
        "    </tr>\n",
        "    <tr>\n",
        "      <th>21  </th>\n",
        "      <td>       RODY.DOVE123@GMAIL.COM</td>\n",
        "      <td> 0</td>\n",
        "      <td> 0</td>\n",
        "      <td> 1</td>\n",
        "      <td> 0</td>\n",
        "      <td> 0</td>\n",
        "      <td> 0</td>\n",
        "      <td> 0</td>\n",
        "      <td> 0</td>\n",
        "      <td> 0</td>\n",
        "      <td> 0</td>\n",
        "      <td> 0</td>\n",
        "      <td> 0</td>\n",
        "      <td> 0</td>\n",
        "      <td> 0</td>\n",
        "      <td> 0</td>\n",
        "      <td> 1</td>\n",
        "      <td> 0</td>\n",
        "      <td> 0</td>\n",
        "      <td> 0</td>\n",
        "    </tr>\n",
        "    <tr>\n",
        "      <th>22  </th>\n",
        "      <td>       amaghraby@mediawave.me</td>\n",
        "      <td> 0</td>\n",
        "      <td> 0</td>\n",
        "      <td> 1</td>\n",
        "      <td> 0</td>\n",
        "      <td> 0</td>\n",
        "      <td> 0</td>\n",
        "      <td> 0</td>\n",
        "      <td> 0</td>\n",
        "      <td> 0</td>\n",
        "      <td> 0</td>\n",
        "      <td> 0</td>\n",
        "      <td> 0</td>\n",
        "      <td> 0</td>\n",
        "      <td> 0</td>\n",
        "      <td> 0</td>\n",
        "      <td> 1</td>\n",
        "      <td> 0</td>\n",
        "      <td> 0</td>\n",
        "      <td> 0</td>\n",
        "    </tr>\n",
        "    <tr>\n",
        "      <th>23  </th>\n",
        "      <td>       RODY.DOVE123@GMAIL.COM</td>\n",
        "      <td> 0</td>\n",
        "      <td> 0</td>\n",
        "      <td> 1</td>\n",
        "      <td> 0</td>\n",
        "      <td> 0</td>\n",
        "      <td> 0</td>\n",
        "      <td> 0</td>\n",
        "      <td> 0</td>\n",
        "      <td> 0</td>\n",
        "      <td> 0</td>\n",
        "      <td> 0</td>\n",
        "      <td> 0</td>\n",
        "      <td> 0</td>\n",
        "      <td> 0</td>\n",
        "      <td> 0</td>\n",
        "      <td> 1</td>\n",
        "      <td> 0</td>\n",
        "      <td> 0</td>\n",
        "      <td> 0</td>\n",
        "    </tr>\n",
        "    <tr>\n",
        "      <th>24  </th>\n",
        "      <td>          hibba_b@hotmail.com</td>\n",
        "      <td> 0</td>\n",
        "      <td> 0</td>\n",
        "      <td> 1</td>\n",
        "      <td> 0</td>\n",
        "      <td> 0</td>\n",
        "      <td> 0</td>\n",
        "      <td> 0</td>\n",
        "      <td> 0</td>\n",
        "      <td> 0</td>\n",
        "      <td> 0</td>\n",
        "      <td> 0</td>\n",
        "      <td> 0</td>\n",
        "      <td> 0</td>\n",
        "      <td> 0</td>\n",
        "      <td> 1</td>\n",
        "      <td> 0</td>\n",
        "      <td> 0</td>\n",
        "      <td> 0</td>\n",
        "      <td> 0</td>\n",
        "    </tr>\n",
        "    <tr>\n",
        "      <th>25  </th>\n",
        "      <td>       pascalenader@gmail.com</td>\n",
        "      <td> 0</td>\n",
        "      <td> 0</td>\n",
        "      <td> 1</td>\n",
        "      <td> 0</td>\n",
        "      <td> 0</td>\n",
        "      <td> 0</td>\n",
        "      <td> 0</td>\n",
        "      <td> 0</td>\n",
        "      <td> 0</td>\n",
        "      <td> 0</td>\n",
        "      <td> 0</td>\n",
        "      <td> 0</td>\n",
        "      <td> 0</td>\n",
        "      <td> 0</td>\n",
        "      <td> 1</td>\n",
        "      <td> 0</td>\n",
        "      <td> 0</td>\n",
        "      <td> 0</td>\n",
        "      <td> 0</td>\n",
        "    </tr>\n",
        "    <tr>\n",
        "      <th>26  </th>\n",
        "      <td>       doaa.khattab@gmail.com</td>\n",
        "      <td> 0</td>\n",
        "      <td> 0</td>\n",
        "      <td> 1</td>\n",
        "      <td> 0</td>\n",
        "      <td> 0</td>\n",
        "      <td> 0</td>\n",
        "      <td> 0</td>\n",
        "      <td> 0</td>\n",
        "      <td> 0</td>\n",
        "      <td> 0</td>\n",
        "      <td> 0</td>\n",
        "      <td> 0</td>\n",
        "      <td> 0</td>\n",
        "      <td> 0</td>\n",
        "      <td> 1</td>\n",
        "      <td> 0</td>\n",
        "      <td> 0</td>\n",
        "      <td> 0</td>\n",
        "      <td> 0</td>\n",
        "    </tr>\n",
        "    <tr>\n",
        "      <th>27  </th>\n",
        "      <td>       sunset_456@hotmail.com</td>\n",
        "      <td> 0</td>\n",
        "      <td> 0</td>\n",
        "      <td> 1</td>\n",
        "      <td> 0</td>\n",
        "      <td> 0</td>\n",
        "      <td> 0</td>\n",
        "      <td> 0</td>\n",
        "      <td> 0</td>\n",
        "      <td> 0</td>\n",
        "      <td> 0</td>\n",
        "      <td> 0</td>\n",
        "      <td> 0</td>\n",
        "      <td> 0</td>\n",
        "      <td> 1</td>\n",
        "      <td> 0</td>\n",
        "      <td> 0</td>\n",
        "      <td> 0</td>\n",
        "      <td> 0</td>\n",
        "      <td> 0</td>\n",
        "    </tr>\n",
        "    <tr>\n",
        "      <th>28  </th>\n",
        "      <td>   colleen_lovely@hotmail.com</td>\n",
        "      <td> 0</td>\n",
        "      <td> 0</td>\n",
        "      <td> 1</td>\n",
        "      <td> 0</td>\n",
        "      <td> 0</td>\n",
        "      <td> 0</td>\n",
        "      <td> 0</td>\n",
        "      <td> 0</td>\n",
        "      <td> 0</td>\n",
        "      <td> 0</td>\n",
        "      <td> 0</td>\n",
        "      <td> 0</td>\n",
        "      <td> 0</td>\n",
        "      <td> 1</td>\n",
        "      <td> 0</td>\n",
        "      <td> 0</td>\n",
        "      <td> 0</td>\n",
        "      <td> 0</td>\n",
        "      <td> 0</td>\n",
        "    </tr>\n",
        "    <tr>\n",
        "      <th>29  </th>\n",
        "      <td>             imrhazi@yahoo.fr</td>\n",
        "      <td> 0</td>\n",
        "      <td> 0</td>\n",
        "      <td> 1</td>\n",
        "      <td> 0</td>\n",
        "      <td> 0</td>\n",
        "      <td> 0</td>\n",
        "      <td> 0</td>\n",
        "      <td> 0</td>\n",
        "      <td> 0</td>\n",
        "      <td> 0</td>\n",
        "      <td> 0</td>\n",
        "      <td> 0</td>\n",
        "      <td> 0</td>\n",
        "      <td> 1</td>\n",
        "      <td> 0</td>\n",
        "      <td> 0</td>\n",
        "      <td> 0</td>\n",
        "      <td> 0</td>\n",
        "      <td> 0</td>\n",
        "    </tr>\n",
        "    <tr>\n",
        "      <th>...</th>\n",
        "      <td>...</td>\n",
        "      <td>...</td>\n",
        "      <td>...</td>\n",
        "      <td>...</td>\n",
        "      <td>...</td>\n",
        "      <td>...</td>\n",
        "      <td>...</td>\n",
        "      <td>...</td>\n",
        "      <td>...</td>\n",
        "      <td>...</td>\n",
        "      <td>...</td>\n",
        "      <td>...</td>\n",
        "      <td>...</td>\n",
        "      <td>...</td>\n",
        "      <td>...</td>\n",
        "      <td>...</td>\n",
        "      <td>...</td>\n",
        "      <td>...</td>\n",
        "      <td>...</td>\n",
        "      <td>...</td>\n",
        "    </tr>\n",
        "    <tr>\n",
        "      <th>9288</th>\n",
        "      <td>       mireilleamin@yahoo.com</td>\n",
        "      <td> 0</td>\n",
        "      <td> 1</td>\n",
        "      <td> 0</td>\n",
        "      <td> 0</td>\n",
        "      <td> 0</td>\n",
        "      <td> 0</td>\n",
        "      <td> 0</td>\n",
        "      <td> 0</td>\n",
        "      <td> 0</td>\n",
        "      <td> 0</td>\n",
        "      <td> 0</td>\n",
        "      <td> 0</td>\n",
        "      <td> 0</td>\n",
        "      <td> 0</td>\n",
        "      <td> 0</td>\n",
        "      <td> 0</td>\n",
        "      <td> 1</td>\n",
        "      <td> 0</td>\n",
        "      <td> 0</td>\n",
        "    </tr>\n",
        "    <tr>\n",
        "      <th>9289</th>\n",
        "      <td>   Ihab.derias@laroche.com.eg</td>\n",
        "      <td> 0</td>\n",
        "      <td> 1</td>\n",
        "      <td> 0</td>\n",
        "      <td> 0</td>\n",
        "      <td> 0</td>\n",
        "      <td> 0</td>\n",
        "      <td> 0</td>\n",
        "      <td> 0</td>\n",
        "      <td> 0</td>\n",
        "      <td> 0</td>\n",
        "      <td> 0</td>\n",
        "      <td> 0</td>\n",
        "      <td> 0</td>\n",
        "      <td> 0</td>\n",
        "      <td> 0</td>\n",
        "      <td> 0</td>\n",
        "      <td> 1</td>\n",
        "      <td> 0</td>\n",
        "      <td> 0</td>\n",
        "    </tr>\n",
        "    <tr>\n",
        "      <th>9290</th>\n",
        "      <td>         Adhamada@hotmail.com</td>\n",
        "      <td> 0</td>\n",
        "      <td> 1</td>\n",
        "      <td> 0</td>\n",
        "      <td> 0</td>\n",
        "      <td> 0</td>\n",
        "      <td> 0</td>\n",
        "      <td> 0</td>\n",
        "      <td> 0</td>\n",
        "      <td> 0</td>\n",
        "      <td> 0</td>\n",
        "      <td> 0</td>\n",
        "      <td> 0</td>\n",
        "      <td> 0</td>\n",
        "      <td> 0</td>\n",
        "      <td> 0</td>\n",
        "      <td> 0</td>\n",
        "      <td> 1</td>\n",
        "      <td> 0</td>\n",
        "      <td> 0</td>\n",
        "    </tr>\n",
        "    <tr>\n",
        "      <th>9291</th>\n",
        "      <td>     houssam.elokda@gmail.com</td>\n",
        "      <td> 0</td>\n",
        "      <td> 1</td>\n",
        "      <td> 0</td>\n",
        "      <td> 0</td>\n",
        "      <td> 0</td>\n",
        "      <td> 0</td>\n",
        "      <td> 0</td>\n",
        "      <td> 0</td>\n",
        "      <td> 0</td>\n",
        "      <td> 0</td>\n",
        "      <td> 0</td>\n",
        "      <td> 0</td>\n",
        "      <td> 0</td>\n",
        "      <td> 0</td>\n",
        "      <td> 0</td>\n",
        "      <td> 0</td>\n",
        "      <td> 1</td>\n",
        "      <td> 0</td>\n",
        "      <td> 0</td>\n",
        "    </tr>\n",
        "    <tr>\n",
        "      <th>9292</th>\n",
        "      <td>          Hania7894@gmail.com</td>\n",
        "      <td> 0</td>\n",
        "      <td> 1</td>\n",
        "      <td> 0</td>\n",
        "      <td> 0</td>\n",
        "      <td> 0</td>\n",
        "      <td> 0</td>\n",
        "      <td> 0</td>\n",
        "      <td> 0</td>\n",
        "      <td> 0</td>\n",
        "      <td> 0</td>\n",
        "      <td> 0</td>\n",
        "      <td> 0</td>\n",
        "      <td> 0</td>\n",
        "      <td> 0</td>\n",
        "      <td> 1</td>\n",
        "      <td> 0</td>\n",
        "      <td> 0</td>\n",
        "      <td> 0</td>\n",
        "      <td> 0</td>\n",
        "    </tr>\n",
        "    <tr>\n",
        "      <th>9293</th>\n",
        "      <td>          Hania7894@gmail.com</td>\n",
        "      <td> 0</td>\n",
        "      <td> 1</td>\n",
        "      <td> 0</td>\n",
        "      <td> 0</td>\n",
        "      <td> 0</td>\n",
        "      <td> 0</td>\n",
        "      <td> 0</td>\n",
        "      <td> 0</td>\n",
        "      <td> 0</td>\n",
        "      <td> 0</td>\n",
        "      <td> 0</td>\n",
        "      <td> 0</td>\n",
        "      <td> 0</td>\n",
        "      <td> 1</td>\n",
        "      <td> 0</td>\n",
        "      <td> 0</td>\n",
        "      <td> 0</td>\n",
        "      <td> 0</td>\n",
        "      <td> 0</td>\n",
        "    </tr>\n",
        "    <tr>\n",
        "      <th>9294</th>\n",
        "      <td>            Mamazzz@gmail.com</td>\n",
        "      <td> 1</td>\n",
        "      <td> 0</td>\n",
        "      <td> 0</td>\n",
        "      <td> 0</td>\n",
        "      <td> 0</td>\n",
        "      <td> 0</td>\n",
        "      <td> 0</td>\n",
        "      <td> 0</td>\n",
        "      <td> 0</td>\n",
        "      <td> 0</td>\n",
        "      <td> 0</td>\n",
        "      <td> 0</td>\n",
        "      <td> 0</td>\n",
        "      <td> 0</td>\n",
        "      <td> 0</td>\n",
        "      <td> 0</td>\n",
        "      <td> 0</td>\n",
        "      <td> 1</td>\n",
        "      <td> 0</td>\n",
        "    </tr>\n",
        "    <tr>\n",
        "      <th>9295</th>\n",
        "      <td>            asony11@yahoo.com</td>\n",
        "      <td> 1</td>\n",
        "      <td> 0</td>\n",
        "      <td> 0</td>\n",
        "      <td> 0</td>\n",
        "      <td> 0</td>\n",
        "      <td> 0</td>\n",
        "      <td> 0</td>\n",
        "      <td> 0</td>\n",
        "      <td> 0</td>\n",
        "      <td> 0</td>\n",
        "      <td> 0</td>\n",
        "      <td> 0</td>\n",
        "      <td> 0</td>\n",
        "      <td> 0</td>\n",
        "      <td> 0</td>\n",
        "      <td> 0</td>\n",
        "      <td> 1</td>\n",
        "      <td> 0</td>\n",
        "      <td> 0</td>\n",
        "    </tr>\n",
        "    <tr>\n",
        "      <th>9296</th>\n",
        "      <td>      salwa_saiid@hotmail.com</td>\n",
        "      <td> 1</td>\n",
        "      <td> 0</td>\n",
        "      <td> 0</td>\n",
        "      <td> 0</td>\n",
        "      <td> 0</td>\n",
        "      <td> 0</td>\n",
        "      <td> 0</td>\n",
        "      <td> 0</td>\n",
        "      <td> 0</td>\n",
        "      <td> 0</td>\n",
        "      <td> 0</td>\n",
        "      <td> 0</td>\n",
        "      <td> 0</td>\n",
        "      <td> 0</td>\n",
        "      <td> 0</td>\n",
        "      <td> 1</td>\n",
        "      <td> 0</td>\n",
        "      <td> 0</td>\n",
        "      <td> 0</td>\n",
        "    </tr>\n",
        "    <tr>\n",
        "      <th>9297</th>\n",
        "      <td> djamila.benderbous@gmail.com</td>\n",
        "      <td> 0</td>\n",
        "      <td> 0</td>\n",
        "      <td> 0</td>\n",
        "      <td> 0</td>\n",
        "      <td> 0</td>\n",
        "      <td> 0</td>\n",
        "      <td> 1</td>\n",
        "      <td> 0</td>\n",
        "      <td> 0</td>\n",
        "      <td> 0</td>\n",
        "      <td> 0</td>\n",
        "      <td> 0</td>\n",
        "      <td> 0</td>\n",
        "      <td> 0</td>\n",
        "      <td> 0</td>\n",
        "      <td> 0</td>\n",
        "      <td> 1</td>\n",
        "      <td> 0</td>\n",
        "      <td> 0</td>\n",
        "    </tr>\n",
        "    <tr>\n",
        "      <th>9298</th>\n",
        "      <td>      milomilogindi@yahoo.com</td>\n",
        "      <td> 0</td>\n",
        "      <td> 0</td>\n",
        "      <td> 0</td>\n",
        "      <td> 0</td>\n",
        "      <td> 1</td>\n",
        "      <td> 0</td>\n",
        "      <td> 0</td>\n",
        "      <td> 0</td>\n",
        "      <td> 0</td>\n",
        "      <td> 0</td>\n",
        "      <td> 0</td>\n",
        "      <td> 0</td>\n",
        "      <td> 0</td>\n",
        "      <td> 0</td>\n",
        "      <td> 0</td>\n",
        "      <td> 1</td>\n",
        "      <td> 0</td>\n",
        "      <td> 0</td>\n",
        "      <td> 0</td>\n",
        "    </tr>\n",
        "    <tr>\n",
        "      <th>9299</th>\n",
        "      <td>     raghebelgammal@yahoo.com</td>\n",
        "      <td> 0</td>\n",
        "      <td> 0</td>\n",
        "      <td> 0</td>\n",
        "      <td> 0</td>\n",
        "      <td> 1</td>\n",
        "      <td> 0</td>\n",
        "      <td> 0</td>\n",
        "      <td> 0</td>\n",
        "      <td> 0</td>\n",
        "      <td> 0</td>\n",
        "      <td> 0</td>\n",
        "      <td> 0</td>\n",
        "      <td> 0</td>\n",
        "      <td> 0</td>\n",
        "      <td> 1</td>\n",
        "      <td> 0</td>\n",
        "      <td> 0</td>\n",
        "      <td> 0</td>\n",
        "      <td> 0</td>\n",
        "    </tr>\n",
        "    <tr>\n",
        "      <th>9300</th>\n",
        "      <td>      t_el_gammal@hotmail.com</td>\n",
        "      <td> 0</td>\n",
        "      <td> 0</td>\n",
        "      <td> 0</td>\n",
        "      <td> 1</td>\n",
        "      <td> 0</td>\n",
        "      <td> 0</td>\n",
        "      <td> 0</td>\n",
        "      <td> 0</td>\n",
        "      <td> 0</td>\n",
        "      <td> 0</td>\n",
        "      <td> 0</td>\n",
        "      <td> 0</td>\n",
        "      <td> 0</td>\n",
        "      <td> 0</td>\n",
        "      <td> 1</td>\n",
        "      <td> 0</td>\n",
        "      <td> 0</td>\n",
        "      <td> 0</td>\n",
        "      <td> 0</td>\n",
        "    </tr>\n",
        "    <tr>\n",
        "      <th>9301</th>\n",
        "      <td>       lik-novikova@yandex.ru</td>\n",
        "      <td> 1</td>\n",
        "      <td> 0</td>\n",
        "      <td> 0</td>\n",
        "      <td> 0</td>\n",
        "      <td> 0</td>\n",
        "      <td> 0</td>\n",
        "      <td> 0</td>\n",
        "      <td> 0</td>\n",
        "      <td> 0</td>\n",
        "      <td> 0</td>\n",
        "      <td> 0</td>\n",
        "      <td> 0</td>\n",
        "      <td> 0</td>\n",
        "      <td> 0</td>\n",
        "      <td> 1</td>\n",
        "      <td> 0</td>\n",
        "      <td> 0</td>\n",
        "      <td> 0</td>\n",
        "      <td> 0</td>\n",
        "    </tr>\n",
        "    <tr>\n",
        "      <th>9302</th>\n",
        "      <td>        fairymaid82@yahoo.com</td>\n",
        "      <td> 0</td>\n",
        "      <td> 0</td>\n",
        "      <td> 0</td>\n",
        "      <td> 1</td>\n",
        "      <td> 0</td>\n",
        "      <td> 0</td>\n",
        "      <td> 0</td>\n",
        "      <td> 0</td>\n",
        "      <td> 0</td>\n",
        "      <td> 0</td>\n",
        "      <td> 1</td>\n",
        "      <td> 0</td>\n",
        "      <td> 0</td>\n",
        "      <td> 0</td>\n",
        "      <td> 0</td>\n",
        "      <td> 0</td>\n",
        "      <td> 0</td>\n",
        "      <td> 0</td>\n",
        "      <td> 0</td>\n",
        "    </tr>\n",
        "    <tr>\n",
        "      <th>9303</th>\n",
        "      <td>      milomilogindi@yahoo.com</td>\n",
        "      <td> 0</td>\n",
        "      <td> 0</td>\n",
        "      <td> 0</td>\n",
        "      <td> 1</td>\n",
        "      <td> 0</td>\n",
        "      <td> 0</td>\n",
        "      <td> 0</td>\n",
        "      <td> 0</td>\n",
        "      <td> 0</td>\n",
        "      <td> 0</td>\n",
        "      <td> 0</td>\n",
        "      <td> 0</td>\n",
        "      <td> 0</td>\n",
        "      <td> 0</td>\n",
        "      <td> 0</td>\n",
        "      <td> 0</td>\n",
        "      <td> 0</td>\n",
        "      <td> 0</td>\n",
        "      <td> 1</td>\n",
        "    </tr>\n",
        "    <tr>\n",
        "      <th>9304</th>\n",
        "      <td>      t_el_gammal@hotmail.com</td>\n",
        "      <td> 0</td>\n",
        "      <td> 0</td>\n",
        "      <td> 0</td>\n",
        "      <td> 1</td>\n",
        "      <td> 0</td>\n",
        "      <td> 0</td>\n",
        "      <td> 0</td>\n",
        "      <td> 0</td>\n",
        "      <td> 0</td>\n",
        "      <td> 0</td>\n",
        "      <td> 0</td>\n",
        "      <td> 0</td>\n",
        "      <td> 0</td>\n",
        "      <td> 0</td>\n",
        "      <td> 0</td>\n",
        "      <td> 0</td>\n",
        "      <td> 0</td>\n",
        "      <td> 1</td>\n",
        "      <td> 0</td>\n",
        "    </tr>\n",
        "    <tr>\n",
        "      <th>9305</th>\n",
        "      <td>      t_el_gammal@hotmail.com</td>\n",
        "      <td> 0</td>\n",
        "      <td> 0</td>\n",
        "      <td> 1</td>\n",
        "      <td> 0</td>\n",
        "      <td> 0</td>\n",
        "      <td> 0</td>\n",
        "      <td> 0</td>\n",
        "      <td> 0</td>\n",
        "      <td> 1</td>\n",
        "      <td> 0</td>\n",
        "      <td> 0</td>\n",
        "      <td> 0</td>\n",
        "      <td> 0</td>\n",
        "      <td> 0</td>\n",
        "      <td> 0</td>\n",
        "      <td> 0</td>\n",
        "      <td> 0</td>\n",
        "      <td> 0</td>\n",
        "      <td> 0</td>\n",
        "    </tr>\n",
        "    <tr>\n",
        "      <th>9306</th>\n",
        "      <td>       lik-novikova@yandex.ru</td>\n",
        "      <td> 1</td>\n",
        "      <td> 0</td>\n",
        "      <td> 0</td>\n",
        "      <td> 0</td>\n",
        "      <td> 0</td>\n",
        "      <td> 0</td>\n",
        "      <td> 0</td>\n",
        "      <td> 0</td>\n",
        "      <td> 0</td>\n",
        "      <td> 0</td>\n",
        "      <td> 0</td>\n",
        "      <td> 0</td>\n",
        "      <td> 0</td>\n",
        "      <td> 0</td>\n",
        "      <td> 0</td>\n",
        "      <td> 0</td>\n",
        "      <td> 1</td>\n",
        "      <td> 0</td>\n",
        "      <td> 0</td>\n",
        "    </tr>\n",
        "    <tr>\n",
        "      <th>9307</th>\n",
        "      <td>             Biro5s@yahoo.com</td>\n",
        "      <td> 0</td>\n",
        "      <td> 0</td>\n",
        "      <td> 0</td>\n",
        "      <td> 0</td>\n",
        "      <td> 0</td>\n",
        "      <td> 1</td>\n",
        "      <td> 0</td>\n",
        "      <td> 0</td>\n",
        "      <td> 0</td>\n",
        "      <td> 0</td>\n",
        "      <td> 0</td>\n",
        "      <td> 0</td>\n",
        "      <td> 0</td>\n",
        "      <td> 0</td>\n",
        "      <td> 0</td>\n",
        "      <td> 0</td>\n",
        "      <td> 1</td>\n",
        "      <td> 0</td>\n",
        "      <td> 0</td>\n",
        "    </tr>\n",
        "    <tr>\n",
        "      <th>9308</th>\n",
        "      <td>         nini.etoile@voila.fr</td>\n",
        "      <td> 0</td>\n",
        "      <td> 1</td>\n",
        "      <td> 0</td>\n",
        "      <td> 0</td>\n",
        "      <td> 0</td>\n",
        "      <td> 0</td>\n",
        "      <td> 0</td>\n",
        "      <td> 0</td>\n",
        "      <td> 0</td>\n",
        "      <td> 0</td>\n",
        "      <td> 0</td>\n",
        "      <td> 0</td>\n",
        "      <td> 0</td>\n",
        "      <td> 0</td>\n",
        "      <td> 0</td>\n",
        "      <td> 1</td>\n",
        "      <td> 0</td>\n",
        "      <td> 0</td>\n",
        "      <td> 0</td>\n",
        "    </tr>\n",
        "    <tr>\n",
        "      <th>9309</th>\n",
        "      <td>       lik-novikova@yandex.ru</td>\n",
        "      <td> 0</td>\n",
        "      <td> 1</td>\n",
        "      <td> 0</td>\n",
        "      <td> 0</td>\n",
        "      <td> 0</td>\n",
        "      <td> 0</td>\n",
        "      <td> 0</td>\n",
        "      <td> 0</td>\n",
        "      <td> 0</td>\n",
        "      <td> 0</td>\n",
        "      <td> 0</td>\n",
        "      <td> 0</td>\n",
        "      <td> 0</td>\n",
        "      <td> 0</td>\n",
        "      <td> 0</td>\n",
        "      <td> 1</td>\n",
        "      <td> 0</td>\n",
        "      <td> 0</td>\n",
        "      <td> 0</td>\n",
        "    </tr>\n",
        "    <tr>\n",
        "      <th>9310</th>\n",
        "      <td>          bettyhedrich@gmx.de</td>\n",
        "      <td> 0</td>\n",
        "      <td> 0</td>\n",
        "      <td> 0</td>\n",
        "      <td> 0</td>\n",
        "      <td> 0</td>\n",
        "      <td> 1</td>\n",
        "      <td> 0</td>\n",
        "      <td> 0</td>\n",
        "      <td> 0</td>\n",
        "      <td> 0</td>\n",
        "      <td> 0</td>\n",
        "      <td> 0</td>\n",
        "      <td> 0</td>\n",
        "      <td> 0</td>\n",
        "      <td> 0</td>\n",
        "      <td> 0</td>\n",
        "      <td> 1</td>\n",
        "      <td> 0</td>\n",
        "      <td> 0</td>\n",
        "    </tr>\n",
        "    <tr>\n",
        "      <th>9311</th>\n",
        "      <td>                rulah@msn.com</td>\n",
        "      <td> 0</td>\n",
        "      <td> 0</td>\n",
        "      <td> 0</td>\n",
        "      <td> 0</td>\n",
        "      <td> 1</td>\n",
        "      <td> 0</td>\n",
        "      <td> 0</td>\n",
        "      <td> 0</td>\n",
        "      <td> 0</td>\n",
        "      <td> 0</td>\n",
        "      <td> 0</td>\n",
        "      <td> 0</td>\n",
        "      <td> 0</td>\n",
        "      <td> 0</td>\n",
        "      <td> 0</td>\n",
        "      <td> 0</td>\n",
        "      <td> 1</td>\n",
        "      <td> 0</td>\n",
        "      <td> 0</td>\n",
        "    </tr>\n",
        "    <tr>\n",
        "      <th>9312</th>\n",
        "      <td>          milda_b@hotmail.com</td>\n",
        "      <td> 0</td>\n",
        "      <td> 0</td>\n",
        "      <td> 1</td>\n",
        "      <td> 0</td>\n",
        "      <td> 0</td>\n",
        "      <td> 0</td>\n",
        "      <td> 0</td>\n",
        "      <td> 0</td>\n",
        "      <td> 0</td>\n",
        "      <td> 0</td>\n",
        "      <td> 0</td>\n",
        "      <td> 0</td>\n",
        "      <td> 0</td>\n",
        "      <td> 1</td>\n",
        "      <td> 0</td>\n",
        "      <td> 0</td>\n",
        "      <td> 0</td>\n",
        "      <td> 0</td>\n",
        "      <td> 0</td>\n",
        "    </tr>\n",
        "    <tr>\n",
        "      <th>9313</th>\n",
        "      <td>          bente.ring@yahoo.no</td>\n",
        "      <td> 0</td>\n",
        "      <td> 0</td>\n",
        "      <td> 1</td>\n",
        "      <td> 0</td>\n",
        "      <td> 0</td>\n",
        "      <td> 0</td>\n",
        "      <td> 0</td>\n",
        "      <td> 0</td>\n",
        "      <td> 0</td>\n",
        "      <td> 0</td>\n",
        "      <td> 0</td>\n",
        "      <td> 0</td>\n",
        "      <td> 0</td>\n",
        "      <td> 1</td>\n",
        "      <td> 0</td>\n",
        "      <td> 0</td>\n",
        "      <td> 0</td>\n",
        "      <td> 0</td>\n",
        "      <td> 0</td>\n",
        "    </tr>\n",
        "    <tr>\n",
        "      <th>9314</th>\n",
        "      <td>          bente.ring@yahoo.no</td>\n",
        "      <td> 0</td>\n",
        "      <td> 1</td>\n",
        "      <td> 0</td>\n",
        "      <td> 0</td>\n",
        "      <td> 0</td>\n",
        "      <td> 0</td>\n",
        "      <td> 0</td>\n",
        "      <td> 0</td>\n",
        "      <td> 0</td>\n",
        "      <td> 0</td>\n",
        "      <td> 0</td>\n",
        "      <td> 0</td>\n",
        "      <td> 1</td>\n",
        "      <td> 0</td>\n",
        "      <td> 0</td>\n",
        "      <td> 0</td>\n",
        "      <td> 0</td>\n",
        "      <td> 0</td>\n",
        "      <td> 0</td>\n",
        "    </tr>\n",
        "    <tr>\n",
        "      <th>9315</th>\n",
        "      <td>       lik-novikova@yandex.ru</td>\n",
        "      <td> 0</td>\n",
        "      <td> 0</td>\n",
        "      <td> 0</td>\n",
        "      <td> 0</td>\n",
        "      <td> 1</td>\n",
        "      <td> 0</td>\n",
        "      <td> 0</td>\n",
        "      <td> 0</td>\n",
        "      <td> 0</td>\n",
        "      <td> 0</td>\n",
        "      <td> 0</td>\n",
        "      <td> 0</td>\n",
        "      <td> 1</td>\n",
        "      <td> 0</td>\n",
        "      <td> 0</td>\n",
        "      <td> 0</td>\n",
        "      <td> 0</td>\n",
        "      <td> 0</td>\n",
        "      <td> 0</td>\n",
        "    </tr>\n",
        "    <tr>\n",
        "      <th>9316</th>\n",
        "      <td>          bente.ring@yahoo.no</td>\n",
        "      <td> 0</td>\n",
        "      <td> 0</td>\n",
        "      <td> 0</td>\n",
        "      <td> 1</td>\n",
        "      <td> 0</td>\n",
        "      <td> 0</td>\n",
        "      <td> 0</td>\n",
        "      <td> 0</td>\n",
        "      <td> 0</td>\n",
        "      <td> 0</td>\n",
        "      <td> 0</td>\n",
        "      <td> 0</td>\n",
        "      <td> 0</td>\n",
        "      <td> 0</td>\n",
        "      <td> 0</td>\n",
        "      <td> 1</td>\n",
        "      <td> 0</td>\n",
        "      <td> 0</td>\n",
        "      <td> 0</td>\n",
        "    </tr>\n",
        "    <tr>\n",
        "      <th>9317</th>\n",
        "      <td>         cathypod@hotmail.com</td>\n",
        "      <td> 0</td>\n",
        "      <td> 0</td>\n",
        "      <td> 1</td>\n",
        "      <td> 0</td>\n",
        "      <td> 0</td>\n",
        "      <td> 0</td>\n",
        "      <td> 0</td>\n",
        "      <td> 0</td>\n",
        "      <td> 0</td>\n",
        "      <td> 0</td>\n",
        "      <td> 0</td>\n",
        "      <td> 0</td>\n",
        "      <td> 0</td>\n",
        "      <td> 0</td>\n",
        "      <td> 0</td>\n",
        "      <td> 0</td>\n",
        "      <td> 0</td>\n",
        "      <td> 0</td>\n",
        "      <td> 1</td>\n",
        "    </tr>\n",
        "  </tbody>\n",
        "</table>\n",
        "<p>9318 rows \u00d7 20 columns</p>\n",
        "</div>"
       ],
       "metadata": {},
       "output_type": "pyout",
       "prompt_number": 5,
       "text": [
        "                             Email  Sunday  Monday  Tuesday  Wednesday  \\\n",
        "0           rehabmansour@gmail.com       0       0        0          1   \n",
        "1              nabouheif@yahoo.com       0       0        0          1   \n",
        "2           fracicardi@hotmail.com       0       0        0          1   \n",
        "3           ahmed.fakhry@gmail.com       0       0        0          1   \n",
        "4           ahmed.fakhry@gmail.com       0       0        0          1   \n",
        "5             Missilou11@yahoo.com       0       0        0          1   \n",
        "6          sallysalem123@gmail.com       0       0        0          1   \n",
        "7         nayera_fadel@hotmail.com       0       0        0          1   \n",
        "8            raoufzdn553@gmail.com       0       0        0          1   \n",
        "9           gaylynmbogho@yahoo.com       0       0        0          1   \n",
        "10            oshahavi13@gmail.com       0       0        0          1   \n",
        "11            Daiieldeeb@gmail.com       0       0        0          1   \n",
        "12             yara.azam@gmail.com       0       0        0          1   \n",
        "13           dalia_allam@yahoo.com       0       0        0          1   \n",
        "14           elhanem52@hotmail.com       0       0        0          1   \n",
        "15        tarek_seddik@hotmail.com       0       0        0          1   \n",
        "16         maie.nomrossy@gmail.com       0       0        0          1   \n",
        "17           hazem.shamy@gmail.com       0       0        0          1   \n",
        "18          maya.p.nawal@gmail.com       0       0        1          0   \n",
        "19       jamesmorgan0091@gmail.com       0       0        1          0   \n",
        "20            israa_s@aucegypt.edu       0       0        1          0   \n",
        "21          RODY.DOVE123@GMAIL.COM       0       0        1          0   \n",
        "22          amaghraby@mediawave.me       0       0        1          0   \n",
        "23          RODY.DOVE123@GMAIL.COM       0       0        1          0   \n",
        "24             hibba_b@hotmail.com       0       0        1          0   \n",
        "25          pascalenader@gmail.com       0       0        1          0   \n",
        "26          doaa.khattab@gmail.com       0       0        1          0   \n",
        "27          sunset_456@hotmail.com       0       0        1          0   \n",
        "28      colleen_lovely@hotmail.com       0       0        1          0   \n",
        "29                imrhazi@yahoo.fr       0       0        1          0   \n",
        "...                            ...     ...     ...      ...        ...   \n",
        "9288        mireilleamin@yahoo.com       0       1        0          0   \n",
        "9289    Ihab.derias@laroche.com.eg       0       1        0          0   \n",
        "9290          Adhamada@hotmail.com       0       1        0          0   \n",
        "9291      houssam.elokda@gmail.com       0       1        0          0   \n",
        "9292           Hania7894@gmail.com       0       1        0          0   \n",
        "9293           Hania7894@gmail.com       0       1        0          0   \n",
        "9294             Mamazzz@gmail.com       1       0        0          0   \n",
        "9295             asony11@yahoo.com       1       0        0          0   \n",
        "9296       salwa_saiid@hotmail.com       1       0        0          0   \n",
        "9297  djamila.benderbous@gmail.com       0       0        0          0   \n",
        "9298       milomilogindi@yahoo.com       0       0        0          0   \n",
        "9299      raghebelgammal@yahoo.com       0       0        0          0   \n",
        "9300       t_el_gammal@hotmail.com       0       0        0          1   \n",
        "9301        lik-novikova@yandex.ru       1       0        0          0   \n",
        "9302         fairymaid82@yahoo.com       0       0        0          1   \n",
        "9303       milomilogindi@yahoo.com       0       0        0          1   \n",
        "9304       t_el_gammal@hotmail.com       0       0        0          1   \n",
        "9305       t_el_gammal@hotmail.com       0       0        1          0   \n",
        "9306        lik-novikova@yandex.ru       1       0        0          0   \n",
        "9307              Biro5s@yahoo.com       0       0        0          0   \n",
        "9308          nini.etoile@voila.fr       0       1        0          0   \n",
        "9309        lik-novikova@yandex.ru       0       1        0          0   \n",
        "9310           bettyhedrich@gmx.de       0       0        0          0   \n",
        "9311                 rulah@msn.com       0       0        0          0   \n",
        "9312           milda_b@hotmail.com       0       0        1          0   \n",
        "9313           bente.ring@yahoo.no       0       0        1          0   \n",
        "9314           bente.ring@yahoo.no       0       1        0          0   \n",
        "9315        lik-novikova@yandex.ru       0       0        0          0   \n",
        "9316           bente.ring@yahoo.no       0       0        0          1   \n",
        "9317          cathypod@hotmail.com       0       0        1          0   \n",
        "\n",
        "      Thursday  Friday  Saturday  0  2  4  6  8  10  12  14  16  18  20  22  \n",
        "0            0       0         0  0  0  0  0  0   0   0   0   0   0   1   0  \n",
        "1            0       0         0  0  0  0  0  0   0   0   0   0   0   1   0  \n",
        "2            0       0         0  0  0  0  0  0   0   0   0   0   1   0   0  \n",
        "3            0       0         0  0  0  0  0  0   0   0   0   1   0   0   0  \n",
        "4            0       0         0  0  0  0  0  0   0   0   0   1   0   0   0  \n",
        "5            0       0         0  0  0  0  0  0   0   0   1   0   0   0   0  \n",
        "6            0       0         0  0  0  0  0  0   0   1   0   0   0   0   0  \n",
        "7            0       0         0  0  0  0  0  0   0   1   0   0   0   0   0  \n",
        "8            0       0         0  0  0  0  0  0   0   1   0   0   0   0   0  \n",
        "9            0       0         0  0  0  0  0  0   0   1   0   0   0   0   0  \n",
        "10           0       0         0  0  0  0  0  0   0   1   0   0   0   0   0  \n",
        "11           0       0         0  0  0  0  0  0   1   0   0   0   0   0   0  \n",
        "12           0       0         0  0  0  0  0  0   1   0   0   0   0   0   0  \n",
        "13           0       0         0  0  0  0  1  0   0   0   0   0   0   0   0  \n",
        "14           0       0         0  0  0  0  1  0   0   0   0   0   0   0   0  \n",
        "15           0       0         0  0  1  0  0  0   0   0   0   0   0   0   0  \n",
        "16           0       0         0  1  0  0  0  0   0   0   0   0   0   0   0  \n",
        "17           0       0         0  1  0  0  0  0   0   0   0   0   0   0   0  \n",
        "18           0       0         0  0  0  0  0  0   0   0   0   0   0   1   0  \n",
        "19           0       0         0  0  0  0  0  0   0   0   0   0   1   0   0  \n",
        "20           0       0         0  0  0  0  0  0   0   0   0   1   0   0   0  \n",
        "21           0       0         0  0  0  0  0  0   0   0   0   1   0   0   0  \n",
        "22           0       0         0  0  0  0  0  0   0   0   0   1   0   0   0  \n",
        "23           0       0         0  0  0  0  0  0   0   0   0   1   0   0   0  \n",
        "24           0       0         0  0  0  0  0  0   0   0   1   0   0   0   0  \n",
        "25           0       0         0  0  0  0  0  0   0   0   1   0   0   0   0  \n",
        "26           0       0         0  0  0  0  0  0   0   0   1   0   0   0   0  \n",
        "27           0       0         0  0  0  0  0  0   0   1   0   0   0   0   0  \n",
        "28           0       0         0  0  0  0  0  0   0   1   0   0   0   0   0  \n",
        "29           0       0         0  0  0  0  0  0   0   1   0   0   0   0   0  \n",
        "...        ...     ...       ... .. .. .. .. ..  ..  ..  ..  ..  ..  ..  ..  \n",
        "9288         0       0         0  0  0  0  0  0   0   0   0   0   1   0   0  \n",
        "9289         0       0         0  0  0  0  0  0   0   0   0   0   1   0   0  \n",
        "9290         0       0         0  0  0  0  0  0   0   0   0   0   1   0   0  \n",
        "9291         0       0         0  0  0  0  0  0   0   0   0   0   1   0   0  \n",
        "9292         0       0         0  0  0  0  0  0   0   0   1   0   0   0   0  \n",
        "9293         0       0         0  0  0  0  0  0   0   1   0   0   0   0   0  \n",
        "9294         0       0         0  0  0  0  0  0   0   0   0   0   0   1   0  \n",
        "9295         0       0         0  0  0  0  0  0   0   0   0   0   1   0   0  \n",
        "9296         0       0         0  0  0  0  0  0   0   0   0   1   0   0   0  \n",
        "9297         0       0         1  0  0  0  0  0   0   0   0   0   1   0   0  \n",
        "9298         1       0         0  0  0  0  0  0   0   0   0   1   0   0   0  \n",
        "9299         1       0         0  0  0  0  0  0   0   0   1   0   0   0   0  \n",
        "9300         0       0         0  0  0  0  0  0   0   0   1   0   0   0   0  \n",
        "9301         0       0         0  0  0  0  0  0   0   0   1   0   0   0   0  \n",
        "9302         0       0         0  0  0  0  1  0   0   0   0   0   0   0   0  \n",
        "9303         0       0         0  0  0  0  0  0   0   0   0   0   0   0   1  \n",
        "9304         0       0         0  0  0  0  0  0   0   0   0   0   0   1   0  \n",
        "9305         0       0         0  0  1  0  0  0   0   0   0   0   0   0   0  \n",
        "9306         0       0         0  0  0  0  0  0   0   0   0   0   1   0   0  \n",
        "9307         0       1         0  0  0  0  0  0   0   0   0   0   1   0   0  \n",
        "9308         0       0         0  0  0  0  0  0   0   0   0   1   0   0   0  \n",
        "9309         0       0         0  0  0  0  0  0   0   0   0   1   0   0   0  \n",
        "9310         0       1         0  0  0  0  0  0   0   0   0   0   1   0   0  \n",
        "9311         1       0         0  0  0  0  0  0   0   0   0   0   1   0   0  \n",
        "9312         0       0         0  0  0  0  0  0   0   1   0   0   0   0   0  \n",
        "9313         0       0         0  0  0  0  0  0   0   1   0   0   0   0   0  \n",
        "9314         0       0         0  0  0  0  0  0   1   0   0   0   0   0   0  \n",
        "9315         1       0         0  0  0  0  0  0   1   0   0   0   0   0   0  \n",
        "9316         0       0         0  0  0  0  0  0   0   0   0   1   0   0   0  \n",
        "9317         0       0         0  0  0  0  0  0   0   0   0   0   0   0   1  \n",
        "\n",
        "[9318 rows x 20 columns]"
       ]
      }
     ],
     "prompt_number": 5
    },
    {
     "cell_type": "code",
     "collapsed": false,
     "input": [
      "df1 = df1.groupby('Email', axis = 0, as_index=False).sum()\n",
      "\n",
      "df1.columns = ['Email', 'Sunday', 'Monday', 'Tuesday', 'Wednesday', 'Thursday', 'Friday', 'Saturday', '0:00 - 2:00', '2:00 - 4:00', '4:00 - 6:00', '6:00 - 8:00', '8:00 - 10:00', '10:00 - 12:00', '12:00 - 14:00', '14:00 - 16:00', '16:00 - 18:00', '18:00 - 20:00', '20:00 - 22:00', '22:00 - 0:00']\n",
      "df1"
     ],
     "language": "python",
     "metadata": {},
     "outputs": [
      {
       "html": [
        "<div style=\"max-height:1000px;max-width:1500px;overflow:auto;\">\n",
        "<table border=\"1\" class=\"dataframe\">\n",
        "  <thead>\n",
        "    <tr style=\"text-align: right;\">\n",
        "      <th></th>\n",
        "      <th>Email</th>\n",
        "      <th>Sunday</th>\n",
        "      <th>Monday</th>\n",
        "      <th>Tuesday</th>\n",
        "      <th>Wednesday</th>\n",
        "      <th>Thursday</th>\n",
        "      <th>Friday</th>\n",
        "      <th>Saturday</th>\n",
        "      <th>0:00 - 2:00</th>\n",
        "      <th>2:00 - 4:00</th>\n",
        "      <th>4:00 - 6:00</th>\n",
        "      <th>6:00 - 8:00</th>\n",
        "      <th>8:00 - 10:00</th>\n",
        "      <th>10:00 - 12:00</th>\n",
        "      <th>12:00 - 14:00</th>\n",
        "      <th>14:00 - 16:00</th>\n",
        "      <th>16:00 - 18:00</th>\n",
        "      <th>18:00 - 20:00</th>\n",
        "      <th>20:00 - 22:00</th>\n",
        "      <th>22:00 - 0:00</th>\n",
        "    </tr>\n",
        "  </thead>\n",
        "  <tbody>\n",
        "    <tr>\n",
        "      <th>0   </th>\n",
        "      <td>        11435mail@mkallenberger.de</td>\n",
        "      <td> 1</td>\n",
        "      <td> 0</td>\n",
        "      <td> 0</td>\n",
        "      <td> 0</td>\n",
        "      <td> 0</td>\n",
        "      <td> 0</td>\n",
        "      <td> 0</td>\n",
        "      <td>  0</td>\n",
        "      <td> 0</td>\n",
        "      <td> 0</td>\n",
        "      <td> 0</td>\n",
        "      <td> 0</td>\n",
        "      <td> 0</td>\n",
        "      <td> 0</td>\n",
        "      <td> 1</td>\n",
        "      <td> 0</td>\n",
        "      <td> 0</td>\n",
        "      <td> 0</td>\n",
        "      <td> 0</td>\n",
        "    </tr>\n",
        "    <tr>\n",
        "      <th>1   </th>\n",
        "      <td>                     1@gargour.com</td>\n",
        "      <td> 0</td>\n",
        "      <td> 0</td>\n",
        "      <td> 1</td>\n",
        "      <td> 0</td>\n",
        "      <td> 0</td>\n",
        "      <td> 0</td>\n",
        "      <td> 1</td>\n",
        "      <td>  0</td>\n",
        "      <td> 0</td>\n",
        "      <td> 0</td>\n",
        "      <td> 0</td>\n",
        "      <td> 0</td>\n",
        "      <td> 0</td>\n",
        "      <td> 0</td>\n",
        "      <td> 1</td>\n",
        "      <td> 1</td>\n",
        "      <td> 0</td>\n",
        "      <td> 0</td>\n",
        "      <td> 0</td>\n",
        "    </tr>\n",
        "    <tr>\n",
        "      <th>2   </th>\n",
        "      <td>                 1kttate@gmail.com</td>\n",
        "      <td> 1</td>\n",
        "      <td> 2</td>\n",
        "      <td> 0</td>\n",
        "      <td> 0</td>\n",
        "      <td> 1</td>\n",
        "      <td> 0</td>\n",
        "      <td> 0</td>\n",
        "      <td>  0</td>\n",
        "      <td> 0</td>\n",
        "      <td> 0</td>\n",
        "      <td> 0</td>\n",
        "      <td> 2</td>\n",
        "      <td> 1</td>\n",
        "      <td> 1</td>\n",
        "      <td> 0</td>\n",
        "      <td> 0</td>\n",
        "      <td> 0</td>\n",
        "      <td> 0</td>\n",
        "      <td> 0</td>\n",
        "    </tr>\n",
        "    <tr>\n",
        "      <th>3   </th>\n",
        "      <td>         1youniqueflower@gmail.com</td>\n",
        "      <td> 0</td>\n",
        "      <td> 1</td>\n",
        "      <td> 1</td>\n",
        "      <td> 0</td>\n",
        "      <td> 1</td>\n",
        "      <td> 0</td>\n",
        "      <td> 0</td>\n",
        "      <td>  0</td>\n",
        "      <td> 0</td>\n",
        "      <td> 0</td>\n",
        "      <td> 0</td>\n",
        "      <td> 0</td>\n",
        "      <td> 0</td>\n",
        "      <td> 1</td>\n",
        "      <td> 0</td>\n",
        "      <td> 1</td>\n",
        "      <td> 0</td>\n",
        "      <td> 0</td>\n",
        "      <td> 1</td>\n",
        "    </tr>\n",
        "    <tr>\n",
        "      <th>4   </th>\n",
        "      <td>                3aliaa.h@gmail.com</td>\n",
        "      <td> 1</td>\n",
        "      <td> 0</td>\n",
        "      <td> 0</td>\n",
        "      <td> 0</td>\n",
        "      <td> 0</td>\n",
        "      <td> 1</td>\n",
        "      <td> 1</td>\n",
        "      <td>  1</td>\n",
        "      <td> 1</td>\n",
        "      <td> 0</td>\n",
        "      <td> 0</td>\n",
        "      <td> 0</td>\n",
        "      <td> 0</td>\n",
        "      <td> 0</td>\n",
        "      <td> 0</td>\n",
        "      <td> 1</td>\n",
        "      <td> 0</td>\n",
        "      <td> 0</td>\n",
        "      <td> 0</td>\n",
        "    </tr>\n",
        "    <tr>\n",
        "      <th>5   </th>\n",
        "      <td>          777nadiateirah@gmail.com</td>\n",
        "      <td> 0</td>\n",
        "      <td> 1</td>\n",
        "      <td> 0</td>\n",
        "      <td> 0</td>\n",
        "      <td> 0</td>\n",
        "      <td> 0</td>\n",
        "      <td> 1</td>\n",
        "      <td>  0</td>\n",
        "      <td> 0</td>\n",
        "      <td> 0</td>\n",
        "      <td> 0</td>\n",
        "      <td> 0</td>\n",
        "      <td> 1</td>\n",
        "      <td> 1</td>\n",
        "      <td> 0</td>\n",
        "      <td> 0</td>\n",
        "      <td> 0</td>\n",
        "      <td> 0</td>\n",
        "      <td> 0</td>\n",
        "    </tr>\n",
        "    <tr>\n",
        "      <th>6   </th>\n",
        "      <td>                         A2@ed.com</td>\n",
        "      <td> 0</td>\n",
        "      <td> 0</td>\n",
        "      <td> 0</td>\n",
        "      <td> 0</td>\n",
        "      <td> 0</td>\n",
        "      <td> 0</td>\n",
        "      <td> 1</td>\n",
        "      <td>  0</td>\n",
        "      <td> 0</td>\n",
        "      <td> 0</td>\n",
        "      <td> 0</td>\n",
        "      <td> 0</td>\n",
        "      <td> 0</td>\n",
        "      <td> 1</td>\n",
        "      <td> 0</td>\n",
        "      <td> 0</td>\n",
        "      <td> 0</td>\n",
        "      <td> 0</td>\n",
        "      <td> 0</td>\n",
        "    </tr>\n",
        "    <tr>\n",
        "      <th>7   </th>\n",
        "      <td>           ASHRAF.M.ZAKI@GMAIL.COM</td>\n",
        "      <td> 0</td>\n",
        "      <td> 0</td>\n",
        "      <td> 0</td>\n",
        "      <td> 0</td>\n",
        "      <td> 0</td>\n",
        "      <td> 1</td>\n",
        "      <td> 0</td>\n",
        "      <td>  0</td>\n",
        "      <td> 0</td>\n",
        "      <td> 0</td>\n",
        "      <td> 0</td>\n",
        "      <td> 1</td>\n",
        "      <td> 0</td>\n",
        "      <td> 0</td>\n",
        "      <td> 0</td>\n",
        "      <td> 0</td>\n",
        "      <td> 0</td>\n",
        "      <td> 0</td>\n",
        "      <td> 0</td>\n",
        "    </tr>\n",
        "    <tr>\n",
        "      <th>8   </th>\n",
        "      <td>              Adhamada@hotmail.com</td>\n",
        "      <td> 0</td>\n",
        "      <td> 1</td>\n",
        "      <td> 0</td>\n",
        "      <td> 0</td>\n",
        "      <td> 0</td>\n",
        "      <td> 0</td>\n",
        "      <td> 0</td>\n",
        "      <td>  0</td>\n",
        "      <td> 0</td>\n",
        "      <td> 0</td>\n",
        "      <td> 0</td>\n",
        "      <td> 0</td>\n",
        "      <td> 0</td>\n",
        "      <td> 0</td>\n",
        "      <td> 0</td>\n",
        "      <td> 0</td>\n",
        "      <td> 1</td>\n",
        "      <td> 0</td>\n",
        "      <td> 0</td>\n",
        "    </tr>\n",
        "    <tr>\n",
        "      <th>9   </th>\n",
        "      <td>       Ahmed.Habash@moevenpick.com</td>\n",
        "      <td> 0</td>\n",
        "      <td> 0</td>\n",
        "      <td> 0</td>\n",
        "      <td> 0</td>\n",
        "      <td> 0</td>\n",
        "      <td> 0</td>\n",
        "      <td> 1</td>\n",
        "      <td>  0</td>\n",
        "      <td> 0</td>\n",
        "      <td> 0</td>\n",
        "      <td> 0</td>\n",
        "      <td> 0</td>\n",
        "      <td> 0</td>\n",
        "      <td> 0</td>\n",
        "      <td> 1</td>\n",
        "      <td> 0</td>\n",
        "      <td> 0</td>\n",
        "      <td> 0</td>\n",
        "      <td> 0</td>\n",
        "    </tr>\n",
        "    <tr>\n",
        "      <th>10  </th>\n",
        "      <td> Ahmed.adel.abdelmonam@hotmail.com</td>\n",
        "      <td> 0</td>\n",
        "      <td> 1</td>\n",
        "      <td> 0</td>\n",
        "      <td> 0</td>\n",
        "      <td> 0</td>\n",
        "      <td> 0</td>\n",
        "      <td> 0</td>\n",
        "      <td>  0</td>\n",
        "      <td> 1</td>\n",
        "      <td> 0</td>\n",
        "      <td> 0</td>\n",
        "      <td> 0</td>\n",
        "      <td> 0</td>\n",
        "      <td> 0</td>\n",
        "      <td> 0</td>\n",
        "      <td> 0</td>\n",
        "      <td> 0</td>\n",
        "      <td> 0</td>\n",
        "      <td> 0</td>\n",
        "    </tr>\n",
        "    <tr>\n",
        "      <th>11  </th>\n",
        "      <td>           Aliamossallam@gmail.com</td>\n",
        "      <td> 5</td>\n",
        "      <td> 7</td>\n",
        "      <td> 3</td>\n",
        "      <td> 1</td>\n",
        "      <td> 1</td>\n",
        "      <td> 4</td>\n",
        "      <td> 2</td>\n",
        "      <td>  2</td>\n",
        "      <td> 0</td>\n",
        "      <td> 0</td>\n",
        "      <td> 0</td>\n",
        "      <td> 0</td>\n",
        "      <td> 5</td>\n",
        "      <td> 5</td>\n",
        "      <td> 5</td>\n",
        "      <td> 2</td>\n",
        "      <td> 2</td>\n",
        "      <td> 2</td>\n",
        "      <td> 0</td>\n",
        "    </tr>\n",
        "    <tr>\n",
        "      <th>12  </th>\n",
        "      <td>       Andrea.Heilman@aucegypt.edu</td>\n",
        "      <td> 0</td>\n",
        "      <td> 0</td>\n",
        "      <td> 2</td>\n",
        "      <td> 0</td>\n",
        "      <td> 0</td>\n",
        "      <td> 0</td>\n",
        "      <td> 2</td>\n",
        "      <td>  0</td>\n",
        "      <td> 0</td>\n",
        "      <td> 0</td>\n",
        "      <td> 0</td>\n",
        "      <td> 0</td>\n",
        "      <td> 2</td>\n",
        "      <td> 2</td>\n",
        "      <td> 0</td>\n",
        "      <td> 0</td>\n",
        "      <td> 0</td>\n",
        "      <td> 0</td>\n",
        "      <td> 0</td>\n",
        "    </tr>\n",
        "    <tr>\n",
        "      <th>13  </th>\n",
        "      <td>           Asmaa.ahmed@hotmail.com</td>\n",
        "      <td> 0</td>\n",
        "      <td> 1</td>\n",
        "      <td> 0</td>\n",
        "      <td> 1</td>\n",
        "      <td> 0</td>\n",
        "      <td> 0</td>\n",
        "      <td> 2</td>\n",
        "      <td>  0</td>\n",
        "      <td> 0</td>\n",
        "      <td> 0</td>\n",
        "      <td> 0</td>\n",
        "      <td> 0</td>\n",
        "      <td> 0</td>\n",
        "      <td> 0</td>\n",
        "      <td> 1</td>\n",
        "      <td> 2</td>\n",
        "      <td> 1</td>\n",
        "      <td> 0</td>\n",
        "      <td> 0</td>\n",
        "    </tr>\n",
        "    <tr>\n",
        "      <th>14  </th>\n",
        "      <td>            Attia.nevien@gmail.com</td>\n",
        "      <td> 0</td>\n",
        "      <td> 2</td>\n",
        "      <td> 0</td>\n",
        "      <td> 0</td>\n",
        "      <td> 0</td>\n",
        "      <td> 0</td>\n",
        "      <td> 1</td>\n",
        "      <td>  0</td>\n",
        "      <td> 0</td>\n",
        "      <td> 0</td>\n",
        "      <td> 0</td>\n",
        "      <td> 0</td>\n",
        "      <td> 0</td>\n",
        "      <td> 0</td>\n",
        "      <td> 2</td>\n",
        "      <td> 1</td>\n",
        "      <td> 0</td>\n",
        "      <td> 0</td>\n",
        "      <td> 0</td>\n",
        "    </tr>\n",
        "    <tr>\n",
        "      <th>15  </th>\n",
        "      <td>             Ayatheone@hotmail.com</td>\n",
        "      <td> 0</td>\n",
        "      <td> 0</td>\n",
        "      <td> 0</td>\n",
        "      <td> 0</td>\n",
        "      <td> 1</td>\n",
        "      <td> 0</td>\n",
        "      <td> 0</td>\n",
        "      <td>  0</td>\n",
        "      <td> 0</td>\n",
        "      <td> 0</td>\n",
        "      <td> 0</td>\n",
        "      <td> 0</td>\n",
        "      <td> 0</td>\n",
        "      <td> 0</td>\n",
        "      <td> 0</td>\n",
        "      <td> 0</td>\n",
        "      <td> 0</td>\n",
        "      <td> 0</td>\n",
        "      <td> 1</td>\n",
        "    </tr>\n",
        "    <tr>\n",
        "      <th>16  </th>\n",
        "      <td>             Azzassallam@gmail.com</td>\n",
        "      <td> 0</td>\n",
        "      <td> 0</td>\n",
        "      <td> 0</td>\n",
        "      <td> 0</td>\n",
        "      <td> 1</td>\n",
        "      <td> 0</td>\n",
        "      <td> 0</td>\n",
        "      <td>  0</td>\n",
        "      <td> 0</td>\n",
        "      <td> 0</td>\n",
        "      <td> 0</td>\n",
        "      <td> 0</td>\n",
        "      <td> 1</td>\n",
        "      <td> 0</td>\n",
        "      <td> 0</td>\n",
        "      <td> 0</td>\n",
        "      <td> 0</td>\n",
        "      <td> 0</td>\n",
        "      <td> 0</td>\n",
        "    </tr>\n",
        "    <tr>\n",
        "      <th>17  </th>\n",
        "      <td>                 BAGBOUG@yahoo.com</td>\n",
        "      <td> 0</td>\n",
        "      <td> 0</td>\n",
        "      <td> 0</td>\n",
        "      <td> 0</td>\n",
        "      <td> 0</td>\n",
        "      <td> 1</td>\n",
        "      <td> 0</td>\n",
        "      <td>  1</td>\n",
        "      <td> 0</td>\n",
        "      <td> 0</td>\n",
        "      <td> 0</td>\n",
        "      <td> 0</td>\n",
        "      <td> 0</td>\n",
        "      <td> 0</td>\n",
        "      <td> 0</td>\n",
        "      <td> 0</td>\n",
        "      <td> 0</td>\n",
        "      <td> 0</td>\n",
        "      <td> 0</td>\n",
        "    </tr>\n",
        "    <tr>\n",
        "      <th>18  </th>\n",
        "      <td>                 Bakryna@gmail.com</td>\n",
        "      <td> 0</td>\n",
        "      <td> 0</td>\n",
        "      <td> 0</td>\n",
        "      <td> 1</td>\n",
        "      <td> 0</td>\n",
        "      <td> 0</td>\n",
        "      <td> 0</td>\n",
        "      <td>  1</td>\n",
        "      <td> 0</td>\n",
        "      <td> 0</td>\n",
        "      <td> 0</td>\n",
        "      <td> 0</td>\n",
        "      <td> 0</td>\n",
        "      <td> 0</td>\n",
        "      <td> 0</td>\n",
        "      <td> 0</td>\n",
        "      <td> 0</td>\n",
        "      <td> 0</td>\n",
        "      <td> 0</td>\n",
        "    </tr>\n",
        "    <tr>\n",
        "      <th>19  </th>\n",
        "      <td>           Basmaha2010@hotmail.com</td>\n",
        "      <td> 0</td>\n",
        "      <td> 0</td>\n",
        "      <td> 0</td>\n",
        "      <td> 0</td>\n",
        "      <td> 0</td>\n",
        "      <td> 0</td>\n",
        "      <td> 1</td>\n",
        "      <td>  0</td>\n",
        "      <td> 0</td>\n",
        "      <td> 0</td>\n",
        "      <td> 0</td>\n",
        "      <td> 0</td>\n",
        "      <td> 0</td>\n",
        "      <td> 0</td>\n",
        "      <td> 0</td>\n",
        "      <td> 0</td>\n",
        "      <td> 0</td>\n",
        "      <td> 0</td>\n",
        "      <td> 1</td>\n",
        "    </tr>\n",
        "    <tr>\n",
        "      <th>20  </th>\n",
        "      <td>                  Bebi84@gmail.com</td>\n",
        "      <td> 2</td>\n",
        "      <td> 0</td>\n",
        "      <td> 0</td>\n",
        "      <td> 1</td>\n",
        "      <td> 0</td>\n",
        "      <td> 0</td>\n",
        "      <td> 0</td>\n",
        "      <td>  0</td>\n",
        "      <td> 0</td>\n",
        "      <td> 0</td>\n",
        "      <td> 0</td>\n",
        "      <td> 0</td>\n",
        "      <td> 0</td>\n",
        "      <td> 1</td>\n",
        "      <td> 0</td>\n",
        "      <td> 1</td>\n",
        "      <td> 0</td>\n",
        "      <td> 0</td>\n",
        "      <td> 1</td>\n",
        "    </tr>\n",
        "    <tr>\n",
        "      <th>21  </th>\n",
        "      <td>                  Biro5s@yahoo.com</td>\n",
        "      <td> 0</td>\n",
        "      <td> 0</td>\n",
        "      <td> 0</td>\n",
        "      <td> 0</td>\n",
        "      <td> 0</td>\n",
        "      <td> 1</td>\n",
        "      <td> 0</td>\n",
        "      <td>  0</td>\n",
        "      <td> 0</td>\n",
        "      <td> 0</td>\n",
        "      <td> 0</td>\n",
        "      <td> 0</td>\n",
        "      <td> 0</td>\n",
        "      <td> 0</td>\n",
        "      <td> 0</td>\n",
        "      <td> 0</td>\n",
        "      <td> 1</td>\n",
        "      <td> 0</td>\n",
        "      <td> 0</td>\n",
        "    </tr>\n",
        "    <tr>\n",
        "      <th>22  </th>\n",
        "      <td>       Bouchra_erraiss@hotmail.com</td>\n",
        "      <td> 0</td>\n",
        "      <td> 0</td>\n",
        "      <td> 0</td>\n",
        "      <td> 1</td>\n",
        "      <td> 0</td>\n",
        "      <td> 0</td>\n",
        "      <td> 0</td>\n",
        "      <td>  0</td>\n",
        "      <td> 0</td>\n",
        "      <td> 0</td>\n",
        "      <td> 0</td>\n",
        "      <td> 0</td>\n",
        "      <td> 0</td>\n",
        "      <td> 1</td>\n",
        "      <td> 0</td>\n",
        "      <td> 0</td>\n",
        "      <td> 0</td>\n",
        "      <td> 0</td>\n",
        "      <td> 0</td>\n",
        "    </tr>\n",
        "    <tr>\n",
        "      <th>23  </th>\n",
        "      <td>                 Bunny_Chan@web.de</td>\n",
        "      <td> 2</td>\n",
        "      <td> 0</td>\n",
        "      <td> 0</td>\n",
        "      <td> 0</td>\n",
        "      <td> 0</td>\n",
        "      <td> 1</td>\n",
        "      <td> 0</td>\n",
        "      <td>  0</td>\n",
        "      <td> 0</td>\n",
        "      <td> 0</td>\n",
        "      <td> 0</td>\n",
        "      <td> 0</td>\n",
        "      <td> 0</td>\n",
        "      <td> 1</td>\n",
        "      <td> 0</td>\n",
        "      <td> 1</td>\n",
        "      <td> 0</td>\n",
        "      <td> 1</td>\n",
        "      <td> 0</td>\n",
        "    </tr>\n",
        "    <tr>\n",
        "      <th>24  </th>\n",
        "      <td>            Buty_Heart@hotmail.com</td>\n",
        "      <td> 0</td>\n",
        "      <td> 0</td>\n",
        "      <td> 0</td>\n",
        "      <td> 0</td>\n",
        "      <td> 1</td>\n",
        "      <td> 0</td>\n",
        "      <td> 0</td>\n",
        "      <td>  0</td>\n",
        "      <td> 0</td>\n",
        "      <td> 0</td>\n",
        "      <td> 0</td>\n",
        "      <td> 0</td>\n",
        "      <td> 0</td>\n",
        "      <td> 0</td>\n",
        "      <td> 0</td>\n",
        "      <td> 1</td>\n",
        "      <td> 0</td>\n",
        "      <td> 0</td>\n",
        "      <td> 0</td>\n",
        "    </tr>\n",
        "    <tr>\n",
        "      <th>25  </th>\n",
        "      <td>       Camillia.Marmoush@gmail.com</td>\n",
        "      <td> 1</td>\n",
        "      <td> 0</td>\n",
        "      <td> 0</td>\n",
        "      <td> 0</td>\n",
        "      <td> 0</td>\n",
        "      <td> 0</td>\n",
        "      <td> 4</td>\n",
        "      <td>  0</td>\n",
        "      <td> 0</td>\n",
        "      <td> 0</td>\n",
        "      <td> 0</td>\n",
        "      <td> 0</td>\n",
        "      <td> 3</td>\n",
        "      <td> 2</td>\n",
        "      <td> 0</td>\n",
        "      <td> 0</td>\n",
        "      <td> 0</td>\n",
        "      <td> 0</td>\n",
        "      <td> 0</td>\n",
        "    </tr>\n",
        "    <tr>\n",
        "      <th>26  </th>\n",
        "      <td>           Carinesabbagh@gmail.com</td>\n",
        "      <td> 7</td>\n",
        "      <td> 6</td>\n",
        "      <td> 8</td>\n",
        "      <td> 5</td>\n",
        "      <td> 4</td>\n",
        "      <td> 2</td>\n",
        "      <td> 5</td>\n",
        "      <td> 10</td>\n",
        "      <td> 2</td>\n",
        "      <td> 1</td>\n",
        "      <td> 0</td>\n",
        "      <td> 3</td>\n",
        "      <td> 2</td>\n",
        "      <td> 3</td>\n",
        "      <td> 2</td>\n",
        "      <td> 5</td>\n",
        "      <td> 2</td>\n",
        "      <td> 2</td>\n",
        "      <td> 5</td>\n",
        "    </tr>\n",
        "    <tr>\n",
        "      <th>27  </th>\n",
        "      <td>             Christine@baramki.com</td>\n",
        "      <td> 0</td>\n",
        "      <td> 0</td>\n",
        "      <td> 0</td>\n",
        "      <td> 0</td>\n",
        "      <td> 2</td>\n",
        "      <td> 0</td>\n",
        "      <td> 0</td>\n",
        "      <td>  0</td>\n",
        "      <td> 0</td>\n",
        "      <td> 0</td>\n",
        "      <td> 0</td>\n",
        "      <td> 0</td>\n",
        "      <td> 0</td>\n",
        "      <td> 1</td>\n",
        "      <td> 0</td>\n",
        "      <td> 1</td>\n",
        "      <td> 0</td>\n",
        "      <td> 0</td>\n",
        "      <td> 0</td>\n",
        "    </tr>\n",
        "    <tr>\n",
        "      <th>28  </th>\n",
        "      <td>              DINA_KADRY@YAHOO.COM</td>\n",
        "      <td> 1</td>\n",
        "      <td> 0</td>\n",
        "      <td> 0</td>\n",
        "      <td> 0</td>\n",
        "      <td> 0</td>\n",
        "      <td> 0</td>\n",
        "      <td> 0</td>\n",
        "      <td>  0</td>\n",
        "      <td> 0</td>\n",
        "      <td> 0</td>\n",
        "      <td> 0</td>\n",
        "      <td> 0</td>\n",
        "      <td> 1</td>\n",
        "      <td> 0</td>\n",
        "      <td> 0</td>\n",
        "      <td> 0</td>\n",
        "      <td> 0</td>\n",
        "      <td> 0</td>\n",
        "      <td> 0</td>\n",
        "    </tr>\n",
        "    <tr>\n",
        "      <th>29  </th>\n",
        "      <td>              Daiieldeeb@gmail.com</td>\n",
        "      <td> 0</td>\n",
        "      <td> 0</td>\n",
        "      <td> 0</td>\n",
        "      <td> 1</td>\n",
        "      <td> 0</td>\n",
        "      <td> 0</td>\n",
        "      <td> 0</td>\n",
        "      <td>  0</td>\n",
        "      <td> 0</td>\n",
        "      <td> 0</td>\n",
        "      <td> 0</td>\n",
        "      <td> 0</td>\n",
        "      <td> 1</td>\n",
        "      <td> 0</td>\n",
        "      <td> 0</td>\n",
        "      <td> 0</td>\n",
        "      <td> 0</td>\n",
        "      <td> 0</td>\n",
        "      <td> 0</td>\n",
        "    </tr>\n",
        "    <tr>\n",
        "      <th>...</th>\n",
        "      <td>...</td>\n",
        "      <td>...</td>\n",
        "      <td>...</td>\n",
        "      <td>...</td>\n",
        "      <td>...</td>\n",
        "      <td>...</td>\n",
        "      <td>...</td>\n",
        "      <td>...</td>\n",
        "      <td>...</td>\n",
        "      <td>...</td>\n",
        "      <td>...</td>\n",
        "      <td>...</td>\n",
        "      <td>...</td>\n",
        "      <td>...</td>\n",
        "      <td>...</td>\n",
        "      <td>...</td>\n",
        "      <td>...</td>\n",
        "      <td>...</td>\n",
        "      <td>...</td>\n",
        "      <td>...</td>\n",
        "    </tr>\n",
        "    <tr>\n",
        "      <th>2379</th>\n",
        "      <td>              youssefkhalil@me.com</td>\n",
        "      <td> 1</td>\n",
        "      <td> 0</td>\n",
        "      <td> 1</td>\n",
        "      <td> 0</td>\n",
        "      <td> 1</td>\n",
        "      <td> 0</td>\n",
        "      <td> 0</td>\n",
        "      <td>  1</td>\n",
        "      <td> 0</td>\n",
        "      <td> 0</td>\n",
        "      <td> 0</td>\n",
        "      <td> 0</td>\n",
        "      <td> 1</td>\n",
        "      <td> 0</td>\n",
        "      <td> 1</td>\n",
        "      <td> 0</td>\n",
        "      <td> 0</td>\n",
        "      <td> 0</td>\n",
        "      <td> 0</td>\n",
        "    </tr>\n",
        "    <tr>\n",
        "      <th>2380</th>\n",
        "      <td>          youssra.resaie@gmail.com</td>\n",
        "      <td> 0</td>\n",
        "      <td> 0</td>\n",
        "      <td> 1</td>\n",
        "      <td> 0</td>\n",
        "      <td> 0</td>\n",
        "      <td> 0</td>\n",
        "      <td> 0</td>\n",
        "      <td>  0</td>\n",
        "      <td> 0</td>\n",
        "      <td> 0</td>\n",
        "      <td> 0</td>\n",
        "      <td> 0</td>\n",
        "      <td> 0</td>\n",
        "      <td> 1</td>\n",
        "      <td> 0</td>\n",
        "      <td> 0</td>\n",
        "      <td> 0</td>\n",
        "      <td> 0</td>\n",
        "      <td> 0</td>\n",
        "    </tr>\n",
        "    <tr>\n",
        "      <th>2381</th>\n",
        "      <td>                 youssra@gmail.com</td>\n",
        "      <td> 0</td>\n",
        "      <td> 0</td>\n",
        "      <td> 1</td>\n",
        "      <td> 0</td>\n",
        "      <td> 0</td>\n",
        "      <td> 0</td>\n",
        "      <td> 0</td>\n",
        "      <td>  0</td>\n",
        "      <td> 0</td>\n",
        "      <td> 0</td>\n",
        "      <td> 0</td>\n",
        "      <td> 0</td>\n",
        "      <td> 0</td>\n",
        "      <td> 0</td>\n",
        "      <td> 0</td>\n",
        "      <td> 1</td>\n",
        "      <td> 0</td>\n",
        "      <td> 0</td>\n",
        "      <td> 0</td>\n",
        "    </tr>\n",
        "    <tr>\n",
        "      <th>2382</th>\n",
        "      <td>           youssra_kamal@yahoo.com</td>\n",
        "      <td> 0</td>\n",
        "      <td> 1</td>\n",
        "      <td> 2</td>\n",
        "      <td> 0</td>\n",
        "      <td> 0</td>\n",
        "      <td> 0</td>\n",
        "      <td> 0</td>\n",
        "      <td>  0</td>\n",
        "      <td> 0</td>\n",
        "      <td> 0</td>\n",
        "      <td> 0</td>\n",
        "      <td> 0</td>\n",
        "      <td> 0</td>\n",
        "      <td> 2</td>\n",
        "      <td> 1</td>\n",
        "      <td> 0</td>\n",
        "      <td> 0</td>\n",
        "      <td> 0</td>\n",
        "      <td> 0</td>\n",
        "    </tr>\n",
        "    <tr>\n",
        "      <th>2383</th>\n",
        "      <td>         youssraaashmawi@gmail.com</td>\n",
        "      <td> 1</td>\n",
        "      <td> 0</td>\n",
        "      <td> 0</td>\n",
        "      <td> 0</td>\n",
        "      <td> 0</td>\n",
        "      <td> 0</td>\n",
        "      <td> 0</td>\n",
        "      <td>  0</td>\n",
        "      <td> 0</td>\n",
        "      <td> 0</td>\n",
        "      <td> 0</td>\n",
        "      <td> 0</td>\n",
        "      <td> 0</td>\n",
        "      <td> 0</td>\n",
        "      <td> 0</td>\n",
        "      <td> 1</td>\n",
        "      <td> 0</td>\n",
        "      <td> 0</td>\n",
        "      <td> 0</td>\n",
        "    </tr>\n",
        "    <tr>\n",
        "      <th>2384</th>\n",
        "      <td>           yoyothetricky@gmail.com</td>\n",
        "      <td> 0</td>\n",
        "      <td> 0</td>\n",
        "      <td> 1</td>\n",
        "      <td> 0</td>\n",
        "      <td> 0</td>\n",
        "      <td> 0</td>\n",
        "      <td> 1</td>\n",
        "      <td>  0</td>\n",
        "      <td> 0</td>\n",
        "      <td> 0</td>\n",
        "      <td> 0</td>\n",
        "      <td> 0</td>\n",
        "      <td> 0</td>\n",
        "      <td> 1</td>\n",
        "      <td> 1</td>\n",
        "      <td> 0</td>\n",
        "      <td> 0</td>\n",
        "      <td> 0</td>\n",
        "      <td> 0</td>\n",
        "    </tr>\n",
        "    <tr>\n",
        "      <th>2385</th>\n",
        "      <td>               yrelraheb@gmail.com</td>\n",
        "      <td> 0</td>\n",
        "      <td> 1</td>\n",
        "      <td> 0</td>\n",
        "      <td> 0</td>\n",
        "      <td> 0</td>\n",
        "      <td> 0</td>\n",
        "      <td> 0</td>\n",
        "      <td>  0</td>\n",
        "      <td> 0</td>\n",
        "      <td> 0</td>\n",
        "      <td> 0</td>\n",
        "      <td> 0</td>\n",
        "      <td> 0</td>\n",
        "      <td> 1</td>\n",
        "      <td> 0</td>\n",
        "      <td> 0</td>\n",
        "      <td> 0</td>\n",
        "      <td> 0</td>\n",
        "      <td> 0</td>\n",
        "    </tr>\n",
        "    <tr>\n",
        "      <th>2386</th>\n",
        "      <td>               yulbiba@hotmail.com</td>\n",
        "      <td> 0</td>\n",
        "      <td> 0</td>\n",
        "      <td> 0</td>\n",
        "      <td> 4</td>\n",
        "      <td> 0</td>\n",
        "      <td> 0</td>\n",
        "      <td> 0</td>\n",
        "      <td>  0</td>\n",
        "      <td> 0</td>\n",
        "      <td> 0</td>\n",
        "      <td> 0</td>\n",
        "      <td> 0</td>\n",
        "      <td> 1</td>\n",
        "      <td> 0</td>\n",
        "      <td> 0</td>\n",
        "      <td> 0</td>\n",
        "      <td> 1</td>\n",
        "      <td> 1</td>\n",
        "      <td> 1</td>\n",
        "    </tr>\n",
        "    <tr>\n",
        "      <th>2387</th>\n",
        "      <td>             yumnakassim@gmail.com</td>\n",
        "      <td> 1</td>\n",
        "      <td> 0</td>\n",
        "      <td> 0</td>\n",
        "      <td> 0</td>\n",
        "      <td> 0</td>\n",
        "      <td> 1</td>\n",
        "      <td> 0</td>\n",
        "      <td>  0</td>\n",
        "      <td> 0</td>\n",
        "      <td> 0</td>\n",
        "      <td> 0</td>\n",
        "      <td> 0</td>\n",
        "      <td> 0</td>\n",
        "      <td> 0</td>\n",
        "      <td> 1</td>\n",
        "      <td> 0</td>\n",
        "      <td> 0</td>\n",
        "      <td> 0</td>\n",
        "      <td> 1</td>\n",
        "    </tr>\n",
        "    <tr>\n",
        "      <th>2388</th>\n",
        "      <td>              z72addas@hotmail.com</td>\n",
        "      <td> 0</td>\n",
        "      <td> 1</td>\n",
        "      <td> 0</td>\n",
        "      <td> 0</td>\n",
        "      <td> 0</td>\n",
        "      <td> 0</td>\n",
        "      <td> 0</td>\n",
        "      <td>  0</td>\n",
        "      <td> 0</td>\n",
        "      <td> 0</td>\n",
        "      <td> 0</td>\n",
        "      <td> 0</td>\n",
        "      <td> 0</td>\n",
        "      <td> 0</td>\n",
        "      <td> 1</td>\n",
        "      <td> 0</td>\n",
        "      <td> 0</td>\n",
        "      <td> 0</td>\n",
        "      <td> 0</td>\n",
        "    </tr>\n",
        "    <tr>\n",
        "      <th>2389</th>\n",
        "      <td>             zaki.farida@gmail.com</td>\n",
        "      <td> 0</td>\n",
        "      <td> 0</td>\n",
        "      <td> 0</td>\n",
        "      <td> 2</td>\n",
        "      <td> 0</td>\n",
        "      <td> 0</td>\n",
        "      <td> 3</td>\n",
        "      <td>  0</td>\n",
        "      <td> 0</td>\n",
        "      <td> 0</td>\n",
        "      <td> 0</td>\n",
        "      <td> 0</td>\n",
        "      <td> 0</td>\n",
        "      <td> 0</td>\n",
        "      <td> 1</td>\n",
        "      <td> 2</td>\n",
        "      <td> 2</td>\n",
        "      <td> 0</td>\n",
        "      <td> 0</td>\n",
        "    </tr>\n",
        "    <tr>\n",
        "      <th>2390</th>\n",
        "      <td>               zedesem65@gmail.com</td>\n",
        "      <td> 0</td>\n",
        "      <td> 0</td>\n",
        "      <td> 0</td>\n",
        "      <td> 0</td>\n",
        "      <td> 0</td>\n",
        "      <td> 0</td>\n",
        "      <td> 1</td>\n",
        "      <td>  0</td>\n",
        "      <td> 0</td>\n",
        "      <td> 0</td>\n",
        "      <td> 1</td>\n",
        "      <td> 0</td>\n",
        "      <td> 0</td>\n",
        "      <td> 0</td>\n",
        "      <td> 0</td>\n",
        "      <td> 0</td>\n",
        "      <td> 0</td>\n",
        "      <td> 0</td>\n",
        "      <td> 0</td>\n",
        "    </tr>\n",
        "    <tr>\n",
        "      <th>2391</th>\n",
        "      <td>                 zee.nap@gmail.com</td>\n",
        "      <td> 0</td>\n",
        "      <td> 0</td>\n",
        "      <td> 1</td>\n",
        "      <td> 0</td>\n",
        "      <td> 0</td>\n",
        "      <td> 0</td>\n",
        "      <td> 0</td>\n",
        "      <td>  0</td>\n",
        "      <td> 0</td>\n",
        "      <td> 0</td>\n",
        "      <td> 0</td>\n",
        "      <td> 0</td>\n",
        "      <td> 0</td>\n",
        "      <td> 0</td>\n",
        "      <td> 0</td>\n",
        "      <td> 0</td>\n",
        "      <td> 1</td>\n",
        "      <td> 0</td>\n",
        "      <td> 0</td>\n",
        "    </tr>\n",
        "    <tr>\n",
        "      <th>2392</th>\n",
        "      <td>            zeina.kassas@gmail.com</td>\n",
        "      <td> 2</td>\n",
        "      <td> 2</td>\n",
        "      <td> 1</td>\n",
        "      <td> 0</td>\n",
        "      <td> 1</td>\n",
        "      <td> 0</td>\n",
        "      <td> 0</td>\n",
        "      <td>  0</td>\n",
        "      <td> 0</td>\n",
        "      <td> 0</td>\n",
        "      <td> 0</td>\n",
        "      <td> 1</td>\n",
        "      <td> 0</td>\n",
        "      <td> 3</td>\n",
        "      <td> 1</td>\n",
        "      <td> 0</td>\n",
        "      <td> 0</td>\n",
        "      <td> 1</td>\n",
        "      <td> 0</td>\n",
        "    </tr>\n",
        "    <tr>\n",
        "      <th>2393</th>\n",
        "      <td>         zeina_ahmed95@hotmail.com</td>\n",
        "      <td> 1</td>\n",
        "      <td> 0</td>\n",
        "      <td> 0</td>\n",
        "      <td> 0</td>\n",
        "      <td> 0</td>\n",
        "      <td> 0</td>\n",
        "      <td> 0</td>\n",
        "      <td>  0</td>\n",
        "      <td> 0</td>\n",
        "      <td> 0</td>\n",
        "      <td> 0</td>\n",
        "      <td> 0</td>\n",
        "      <td> 0</td>\n",
        "      <td> 0</td>\n",
        "      <td> 0</td>\n",
        "      <td> 0</td>\n",
        "      <td> 0</td>\n",
        "      <td> 1</td>\n",
        "      <td> 0</td>\n",
        "    </tr>\n",
        "    <tr>\n",
        "      <th>2394</th>\n",
        "      <td>            zeina_naim@hotmail.com</td>\n",
        "      <td> 0</td>\n",
        "      <td> 0</td>\n",
        "      <td> 0</td>\n",
        "      <td> 1</td>\n",
        "      <td> 0</td>\n",
        "      <td> 0</td>\n",
        "      <td> 0</td>\n",
        "      <td>  0</td>\n",
        "      <td> 0</td>\n",
        "      <td> 0</td>\n",
        "      <td> 0</td>\n",
        "      <td> 0</td>\n",
        "      <td> 1</td>\n",
        "      <td> 0</td>\n",
        "      <td> 0</td>\n",
        "      <td> 0</td>\n",
        "      <td> 0</td>\n",
        "      <td> 0</td>\n",
        "      <td> 0</td>\n",
        "    </tr>\n",
        "    <tr>\n",
        "      <th>2395</th>\n",
        "      <td>         zeinabahmedtaha@yahoo.com</td>\n",
        "      <td> 0</td>\n",
        "      <td> 0</td>\n",
        "      <td> 0</td>\n",
        "      <td> 0</td>\n",
        "      <td> 0</td>\n",
        "      <td> 1</td>\n",
        "      <td> 0</td>\n",
        "      <td>  0</td>\n",
        "      <td> 0</td>\n",
        "      <td> 0</td>\n",
        "      <td> 0</td>\n",
        "      <td> 0</td>\n",
        "      <td> 0</td>\n",
        "      <td> 0</td>\n",
        "      <td> 0</td>\n",
        "      <td> 1</td>\n",
        "      <td> 0</td>\n",
        "      <td> 0</td>\n",
        "      <td> 0</td>\n",
        "    </tr>\n",
        "    <tr>\n",
        "      <th>2396</th>\n",
        "      <td>      zeinabkhalil2010@hotmail.com</td>\n",
        "      <td> 0</td>\n",
        "      <td> 0</td>\n",
        "      <td> 0</td>\n",
        "      <td> 1</td>\n",
        "      <td> 0</td>\n",
        "      <td> 0</td>\n",
        "      <td> 2</td>\n",
        "      <td>  0</td>\n",
        "      <td> 0</td>\n",
        "      <td> 0</td>\n",
        "      <td> 0</td>\n",
        "      <td> 0</td>\n",
        "      <td> 0</td>\n",
        "      <td> 0</td>\n",
        "      <td> 1</td>\n",
        "      <td> 2</td>\n",
        "      <td> 0</td>\n",
        "      <td> 0</td>\n",
        "      <td> 0</td>\n",
        "    </tr>\n",
        "    <tr>\n",
        "      <th>2397</th>\n",
        "      <td>              zeinabnour@gmail.com</td>\n",
        "      <td> 1</td>\n",
        "      <td> 0</td>\n",
        "      <td> 0</td>\n",
        "      <td> 0</td>\n",
        "      <td> 0</td>\n",
        "      <td> 0</td>\n",
        "      <td> 1</td>\n",
        "      <td>  0</td>\n",
        "      <td> 0</td>\n",
        "      <td> 0</td>\n",
        "      <td> 0</td>\n",
        "      <td> 0</td>\n",
        "      <td> 1</td>\n",
        "      <td> 0</td>\n",
        "      <td> 0</td>\n",
        "      <td> 1</td>\n",
        "      <td> 0</td>\n",
        "      <td> 0</td>\n",
        "      <td> 0</td>\n",
        "    </tr>\n",
        "    <tr>\n",
        "      <th>2398</th>\n",
        "      <td>              zeinahodroj@live.com</td>\n",
        "      <td> 2</td>\n",
        "      <td> 0</td>\n",
        "      <td> 0</td>\n",
        "      <td> 0</td>\n",
        "      <td> 0</td>\n",
        "      <td> 0</td>\n",
        "      <td> 0</td>\n",
        "      <td>  0</td>\n",
        "      <td> 0</td>\n",
        "      <td> 0</td>\n",
        "      <td> 1</td>\n",
        "      <td> 0</td>\n",
        "      <td> 0</td>\n",
        "      <td> 1</td>\n",
        "      <td> 0</td>\n",
        "      <td> 0</td>\n",
        "      <td> 0</td>\n",
        "      <td> 0</td>\n",
        "      <td> 0</td>\n",
        "    </tr>\n",
        "    <tr>\n",
        "      <th>2399</th>\n",
        "      <td>              zeinasabry@gmail.com</td>\n",
        "      <td> 2</td>\n",
        "      <td> 1</td>\n",
        "      <td> 0</td>\n",
        "      <td> 2</td>\n",
        "      <td> 0</td>\n",
        "      <td> 2</td>\n",
        "      <td> 0</td>\n",
        "      <td>  1</td>\n",
        "      <td> 0</td>\n",
        "      <td> 0</td>\n",
        "      <td> 0</td>\n",
        "      <td> 0</td>\n",
        "      <td> 2</td>\n",
        "      <td> 2</td>\n",
        "      <td> 0</td>\n",
        "      <td> 0</td>\n",
        "      <td> 2</td>\n",
        "      <td> 0</td>\n",
        "      <td> 0</td>\n",
        "    </tr>\n",
        "    <tr>\n",
        "      <th>2400</th>\n",
        "      <td>               zeinriham@gmail.com</td>\n",
        "      <td> 0</td>\n",
        "      <td> 1</td>\n",
        "      <td> 1</td>\n",
        "      <td> 0</td>\n",
        "      <td> 0</td>\n",
        "      <td> 0</td>\n",
        "      <td> 0</td>\n",
        "      <td>  1</td>\n",
        "      <td> 0</td>\n",
        "      <td> 0</td>\n",
        "      <td> 0</td>\n",
        "      <td> 0</td>\n",
        "      <td> 1</td>\n",
        "      <td> 0</td>\n",
        "      <td> 0</td>\n",
        "      <td> 0</td>\n",
        "      <td> 0</td>\n",
        "      <td> 0</td>\n",
        "      <td> 0</td>\n",
        "    </tr>\n",
        "    <tr>\n",
        "      <th>2401</th>\n",
        "      <td>           zenaabdelbaky@gmail.com</td>\n",
        "      <td> 0</td>\n",
        "      <td> 0</td>\n",
        "      <td> 1</td>\n",
        "      <td> 0</td>\n",
        "      <td> 0</td>\n",
        "      <td> 1</td>\n",
        "      <td> 0</td>\n",
        "      <td>  0</td>\n",
        "      <td> 1</td>\n",
        "      <td> 0</td>\n",
        "      <td> 0</td>\n",
        "      <td> 0</td>\n",
        "      <td> 0</td>\n",
        "      <td> 0</td>\n",
        "      <td> 0</td>\n",
        "      <td> 0</td>\n",
        "      <td> 1</td>\n",
        "      <td> 0</td>\n",
        "      <td> 0</td>\n",
        "    </tr>\n",
        "    <tr>\n",
        "      <th>2402</th>\n",
        "      <td>            zeyadattalla@yahoo.com</td>\n",
        "      <td> 0</td>\n",
        "      <td> 0</td>\n",
        "      <td> 1</td>\n",
        "      <td> 0</td>\n",
        "      <td> 0</td>\n",
        "      <td> 0</td>\n",
        "      <td> 0</td>\n",
        "      <td>  1</td>\n",
        "      <td> 0</td>\n",
        "      <td> 0</td>\n",
        "      <td> 0</td>\n",
        "      <td> 0</td>\n",
        "      <td> 0</td>\n",
        "      <td> 0</td>\n",
        "      <td> 0</td>\n",
        "      <td> 0</td>\n",
        "      <td> 0</td>\n",
        "      <td> 0</td>\n",
        "      <td> 0</td>\n",
        "    </tr>\n",
        "    <tr>\n",
        "      <th>2403</th>\n",
        "      <td>                ziadihab@gmail.com</td>\n",
        "      <td> 0</td>\n",
        "      <td> 1</td>\n",
        "      <td> 0</td>\n",
        "      <td> 0</td>\n",
        "      <td> 0</td>\n",
        "      <td> 0</td>\n",
        "      <td> 0</td>\n",
        "      <td>  0</td>\n",
        "      <td> 1</td>\n",
        "      <td> 0</td>\n",
        "      <td> 0</td>\n",
        "      <td> 0</td>\n",
        "      <td> 0</td>\n",
        "      <td> 0</td>\n",
        "      <td> 0</td>\n",
        "      <td> 0</td>\n",
        "      <td> 0</td>\n",
        "      <td> 0</td>\n",
        "      <td> 0</td>\n",
        "    </tr>\n",
        "    <tr>\n",
        "      <th>2404</th>\n",
        "      <td>               ziadusama@ymail.com</td>\n",
        "      <td> 0</td>\n",
        "      <td> 0</td>\n",
        "      <td> 0</td>\n",
        "      <td> 0</td>\n",
        "      <td> 0</td>\n",
        "      <td> 0</td>\n",
        "      <td> 1</td>\n",
        "      <td>  0</td>\n",
        "      <td> 0</td>\n",
        "      <td> 0</td>\n",
        "      <td> 0</td>\n",
        "      <td> 0</td>\n",
        "      <td> 1</td>\n",
        "      <td> 0</td>\n",
        "      <td> 0</td>\n",
        "      <td> 0</td>\n",
        "      <td> 0</td>\n",
        "      <td> 0</td>\n",
        "      <td> 0</td>\n",
        "    </tr>\n",
        "    <tr>\n",
        "      <th>2405</th>\n",
        "      <td>               zinelhini@yahoo.com</td>\n",
        "      <td> 0</td>\n",
        "      <td> 1</td>\n",
        "      <td> 0</td>\n",
        "      <td> 0</td>\n",
        "      <td> 0</td>\n",
        "      <td> 0</td>\n",
        "      <td> 0</td>\n",
        "      <td>  0</td>\n",
        "      <td> 0</td>\n",
        "      <td> 0</td>\n",
        "      <td> 0</td>\n",
        "      <td> 0</td>\n",
        "      <td> 0</td>\n",
        "      <td> 0</td>\n",
        "      <td> 0</td>\n",
        "      <td> 1</td>\n",
        "      <td> 0</td>\n",
        "      <td> 0</td>\n",
        "      <td> 0</td>\n",
        "    </tr>\n",
        "    <tr>\n",
        "      <th>2406</th>\n",
        "      <td>                zleseman@gmail.com</td>\n",
        "      <td> 1</td>\n",
        "      <td> 0</td>\n",
        "      <td> 0</td>\n",
        "      <td> 0</td>\n",
        "      <td> 0</td>\n",
        "      <td> 0</td>\n",
        "      <td> 1</td>\n",
        "      <td>  0</td>\n",
        "      <td> 0</td>\n",
        "      <td> 0</td>\n",
        "      <td> 0</td>\n",
        "      <td> 0</td>\n",
        "      <td> 0</td>\n",
        "      <td> 0</td>\n",
        "      <td> 1</td>\n",
        "      <td> 0</td>\n",
        "      <td> 1</td>\n",
        "      <td> 0</td>\n",
        "      <td> 0</td>\n",
        "    </tr>\n",
        "    <tr>\n",
        "      <th>2407</th>\n",
        "      <td>           zolaykha1st@hotmail.com</td>\n",
        "      <td> 0</td>\n",
        "      <td> 0</td>\n",
        "      <td> 0</td>\n",
        "      <td> 0</td>\n",
        "      <td> 0</td>\n",
        "      <td> 0</td>\n",
        "      <td> 1</td>\n",
        "      <td>  0</td>\n",
        "      <td> 0</td>\n",
        "      <td> 0</td>\n",
        "      <td> 0</td>\n",
        "      <td> 1</td>\n",
        "      <td> 0</td>\n",
        "      <td> 0</td>\n",
        "      <td> 0</td>\n",
        "      <td> 0</td>\n",
        "      <td> 0</td>\n",
        "      <td> 0</td>\n",
        "      <td> 0</td>\n",
        "    </tr>\n",
        "    <tr>\n",
        "      <th>2408</th>\n",
        "      <td>               zshafei@outlook.com</td>\n",
        "      <td> 2</td>\n",
        "      <td> 1</td>\n",
        "      <td> 2</td>\n",
        "      <td> 1</td>\n",
        "      <td> 1</td>\n",
        "      <td> 0</td>\n",
        "      <td> 0</td>\n",
        "      <td>  0</td>\n",
        "      <td> 0</td>\n",
        "      <td> 0</td>\n",
        "      <td> 0</td>\n",
        "      <td> 0</td>\n",
        "      <td> 2</td>\n",
        "      <td> 1</td>\n",
        "      <td> 3</td>\n",
        "      <td> 0</td>\n",
        "      <td> 0</td>\n",
        "      <td> 0</td>\n",
        "      <td> 1</td>\n",
        "    </tr>\n",
        "  </tbody>\n",
        "</table>\n",
        "<p>2409 rows \u00d7 20 columns</p>\n",
        "</div>"
       ],
       "metadata": {},
       "output_type": "pyout",
       "prompt_number": 6,
       "text": [
        "                                  Email  Sunday  Monday  Tuesday  Wednesday  \\\n",
        "0            11435mail@mkallenberger.de       1       0        0          0   \n",
        "1                         1@gargour.com       0       0        1          0   \n",
        "2                     1kttate@gmail.com       1       2        0          0   \n",
        "3             1youniqueflower@gmail.com       0       1        1          0   \n",
        "4                    3aliaa.h@gmail.com       1       0        0          0   \n",
        "5              777nadiateirah@gmail.com       0       1        0          0   \n",
        "6                             A2@ed.com       0       0        0          0   \n",
        "7               ASHRAF.M.ZAKI@GMAIL.COM       0       0        0          0   \n",
        "8                  Adhamada@hotmail.com       0       1        0          0   \n",
        "9           Ahmed.Habash@moevenpick.com       0       0        0          0   \n",
        "10    Ahmed.adel.abdelmonam@hotmail.com       0       1        0          0   \n",
        "11              Aliamossallam@gmail.com       5       7        3          1   \n",
        "12          Andrea.Heilman@aucegypt.edu       0       0        2          0   \n",
        "13              Asmaa.ahmed@hotmail.com       0       1        0          1   \n",
        "14               Attia.nevien@gmail.com       0       2        0          0   \n",
        "15                Ayatheone@hotmail.com       0       0        0          0   \n",
        "16                Azzassallam@gmail.com       0       0        0          0   \n",
        "17                    BAGBOUG@yahoo.com       0       0        0          0   \n",
        "18                    Bakryna@gmail.com       0       0        0          1   \n",
        "19              Basmaha2010@hotmail.com       0       0        0          0   \n",
        "20                     Bebi84@gmail.com       2       0        0          1   \n",
        "21                     Biro5s@yahoo.com       0       0        0          0   \n",
        "22          Bouchra_erraiss@hotmail.com       0       0        0          1   \n",
        "23                    Bunny_Chan@web.de       2       0        0          0   \n",
        "24               Buty_Heart@hotmail.com       0       0        0          0   \n",
        "25          Camillia.Marmoush@gmail.com       1       0        0          0   \n",
        "26              Carinesabbagh@gmail.com       7       6        8          5   \n",
        "27                Christine@baramki.com       0       0        0          0   \n",
        "28                 DINA_KADRY@YAHOO.COM       1       0        0          0   \n",
        "29                 Daiieldeeb@gmail.com       0       0        0          1   \n",
        "...                                 ...     ...     ...      ...        ...   \n",
        "2379               youssefkhalil@me.com       1       0        1          0   \n",
        "2380           youssra.resaie@gmail.com       0       0        1          0   \n",
        "2381                  youssra@gmail.com       0       0        1          0   \n",
        "2382            youssra_kamal@yahoo.com       0       1        2          0   \n",
        "2383          youssraaashmawi@gmail.com       1       0        0          0   \n",
        "2384            yoyothetricky@gmail.com       0       0        1          0   \n",
        "2385                yrelraheb@gmail.com       0       1        0          0   \n",
        "2386                yulbiba@hotmail.com       0       0        0          4   \n",
        "2387              yumnakassim@gmail.com       1       0        0          0   \n",
        "2388               z72addas@hotmail.com       0       1        0          0   \n",
        "2389              zaki.farida@gmail.com       0       0        0          2   \n",
        "2390                zedesem65@gmail.com       0       0        0          0   \n",
        "2391                  zee.nap@gmail.com       0       0        1          0   \n",
        "2392             zeina.kassas@gmail.com       2       2        1          0   \n",
        "2393          zeina_ahmed95@hotmail.com       1       0        0          0   \n",
        "2394             zeina_naim@hotmail.com       0       0        0          1   \n",
        "2395          zeinabahmedtaha@yahoo.com       0       0        0          0   \n",
        "2396       zeinabkhalil2010@hotmail.com       0       0        0          1   \n",
        "2397               zeinabnour@gmail.com       1       0        0          0   \n",
        "2398               zeinahodroj@live.com       2       0        0          0   \n",
        "2399               zeinasabry@gmail.com       2       1        0          2   \n",
        "2400                zeinriham@gmail.com       0       1        1          0   \n",
        "2401            zenaabdelbaky@gmail.com       0       0        1          0   \n",
        "2402             zeyadattalla@yahoo.com       0       0        1          0   \n",
        "2403                 ziadihab@gmail.com       0       1        0          0   \n",
        "2404                ziadusama@ymail.com       0       0        0          0   \n",
        "2405                zinelhini@yahoo.com       0       1        0          0   \n",
        "2406                 zleseman@gmail.com       1       0        0          0   \n",
        "2407            zolaykha1st@hotmail.com       0       0        0          0   \n",
        "2408                zshafei@outlook.com       2       1        2          1   \n",
        "\n",
        "      Thursday  Friday  Saturday  0:00 - 2:00  2:00 - 4:00  4:00 - 6:00  \\\n",
        "0            0       0         0            0            0            0   \n",
        "1            0       0         1            0            0            0   \n",
        "2            1       0         0            0            0            0   \n",
        "3            1       0         0            0            0            0   \n",
        "4            0       1         1            1            1            0   \n",
        "5            0       0         1            0            0            0   \n",
        "6            0       0         1            0            0            0   \n",
        "7            0       1         0            0            0            0   \n",
        "8            0       0         0            0            0            0   \n",
        "9            0       0         1            0            0            0   \n",
        "10           0       0         0            0            1            0   \n",
        "11           1       4         2            2            0            0   \n",
        "12           0       0         2            0            0            0   \n",
        "13           0       0         2            0            0            0   \n",
        "14           0       0         1            0            0            0   \n",
        "15           1       0         0            0            0            0   \n",
        "16           1       0         0            0            0            0   \n",
        "17           0       1         0            1            0            0   \n",
        "18           0       0         0            1            0            0   \n",
        "19           0       0         1            0            0            0   \n",
        "20           0       0         0            0            0            0   \n",
        "21           0       1         0            0            0            0   \n",
        "22           0       0         0            0            0            0   \n",
        "23           0       1         0            0            0            0   \n",
        "24           1       0         0            0            0            0   \n",
        "25           0       0         4            0            0            0   \n",
        "26           4       2         5           10            2            1   \n",
        "27           2       0         0            0            0            0   \n",
        "28           0       0         0            0            0            0   \n",
        "29           0       0         0            0            0            0   \n",
        "...        ...     ...       ...          ...          ...          ...   \n",
        "2379         1       0         0            1            0            0   \n",
        "2380         0       0         0            0            0            0   \n",
        "2381         0       0         0            0            0            0   \n",
        "2382         0       0         0            0            0            0   \n",
        "2383         0       0         0            0            0            0   \n",
        "2384         0       0         1            0            0            0   \n",
        "2385         0       0         0            0            0            0   \n",
        "2386         0       0         0            0            0            0   \n",
        "2387         0       1         0            0            0            0   \n",
        "2388         0       0         0            0            0            0   \n",
        "2389         0       0         3            0            0            0   \n",
        "2390         0       0         1            0            0            0   \n",
        "2391         0       0         0            0            0            0   \n",
        "2392         1       0         0            0            0            0   \n",
        "2393         0       0         0            0            0            0   \n",
        "2394         0       0         0            0            0            0   \n",
        "2395         0       1         0            0            0            0   \n",
        "2396         0       0         2            0            0            0   \n",
        "2397         0       0         1            0            0            0   \n",
        "2398         0       0         0            0            0            0   \n",
        "2399         0       2         0            1            0            0   \n",
        "2400         0       0         0            1            0            0   \n",
        "2401         0       1         0            0            1            0   \n",
        "2402         0       0         0            1            0            0   \n",
        "2403         0       0         0            0            1            0   \n",
        "2404         0       0         1            0            0            0   \n",
        "2405         0       0         0            0            0            0   \n",
        "2406         0       0         1            0            0            0   \n",
        "2407         0       0         1            0            0            0   \n",
        "2408         1       0         0            0            0            0   \n",
        "\n",
        "      6:00 - 8:00  8:00 - 10:00  10:00 - 12:00  12:00 - 14:00  14:00 - 16:00  \\\n",
        "0               0             0              0              0              1   \n",
        "1               0             0              0              0              1   \n",
        "2               0             2              1              1              0   \n",
        "3               0             0              0              1              0   \n",
        "4               0             0              0              0              0   \n",
        "5               0             0              1              1              0   \n",
        "6               0             0              0              1              0   \n",
        "7               0             1              0              0              0   \n",
        "8               0             0              0              0              0   \n",
        "9               0             0              0              0              1   \n",
        "10              0             0              0              0              0   \n",
        "11              0             0              5              5              5   \n",
        "12              0             0              2              2              0   \n",
        "13              0             0              0              0              1   \n",
        "14              0             0              0              0              2   \n",
        "15              0             0              0              0              0   \n",
        "16              0             0              1              0              0   \n",
        "17              0             0              0              0              0   \n",
        "18              0             0              0              0              0   \n",
        "19              0             0              0              0              0   \n",
        "20              0             0              0              1              0   \n",
        "21              0             0              0              0              0   \n",
        "22              0             0              0              1              0   \n",
        "23              0             0              0              1              0   \n",
        "24              0             0              0              0              0   \n",
        "25              0             0              3              2              0   \n",
        "26              0             3              2              3              2   \n",
        "27              0             0              0              1              0   \n",
        "28              0             0              1              0              0   \n",
        "29              0             0              1              0              0   \n",
        "...           ...           ...            ...            ...            ...   \n",
        "2379            0             0              1              0              1   \n",
        "2380            0             0              0              1              0   \n",
        "2381            0             0              0              0              0   \n",
        "2382            0             0              0              2              1   \n",
        "2383            0             0              0              0              0   \n",
        "2384            0             0              0              1              1   \n",
        "2385            0             0              0              1              0   \n",
        "2386            0             0              1              0              0   \n",
        "2387            0             0              0              0              1   \n",
        "2388            0             0              0              0              1   \n",
        "2389            0             0              0              0              1   \n",
        "2390            1             0              0              0              0   \n",
        "2391            0             0              0              0              0   \n",
        "2392            0             1              0              3              1   \n",
        "2393            0             0              0              0              0   \n",
        "2394            0             0              1              0              0   \n",
        "2395            0             0              0              0              0   \n",
        "2396            0             0              0              0              1   \n",
        "2397            0             0              1              0              0   \n",
        "2398            1             0              0              1              0   \n",
        "2399            0             0              2              2              0   \n",
        "2400            0             0              1              0              0   \n",
        "2401            0             0              0              0              0   \n",
        "2402            0             0              0              0              0   \n",
        "2403            0             0              0              0              0   \n",
        "2404            0             0              1              0              0   \n",
        "2405            0             0              0              0              0   \n",
        "2406            0             0              0              0              1   \n",
        "2407            0             1              0              0              0   \n",
        "2408            0             0              2              1              3   \n",
        "\n",
        "      16:00 - 18:00  18:00 - 20:00  20:00 - 22:00  22:00 - 0:00  \n",
        "0                 0              0              0             0  \n",
        "1                 1              0              0             0  \n",
        "2                 0              0              0             0  \n",
        "3                 1              0              0             1  \n",
        "4                 1              0              0             0  \n",
        "5                 0              0              0             0  \n",
        "6                 0              0              0             0  \n",
        "7                 0              0              0             0  \n",
        "8                 0              1              0             0  \n",
        "9                 0              0              0             0  \n",
        "10                0              0              0             0  \n",
        "11                2              2              2             0  \n",
        "12                0              0              0             0  \n",
        "13                2              1              0             0  \n",
        "14                1              0              0             0  \n",
        "15                0              0              0             1  \n",
        "16                0              0              0             0  \n",
        "17                0              0              0             0  \n",
        "18                0              0              0             0  \n",
        "19                0              0              0             1  \n",
        "20                1              0              0             1  \n",
        "21                0              1              0             0  \n",
        "22                0              0              0             0  \n",
        "23                1              0              1             0  \n",
        "24                1              0              0             0  \n",
        "25                0              0              0             0  \n",
        "26                5              2              2             5  \n",
        "27                1              0              0             0  \n",
        "28                0              0              0             0  \n",
        "29                0              0              0             0  \n",
        "...             ...            ...            ...           ...  \n",
        "2379              0              0              0             0  \n",
        "2380              0              0              0             0  \n",
        "2381              1              0              0             0  \n",
        "2382              0              0              0             0  \n",
        "2383              1              0              0             0  \n",
        "2384              0              0              0             0  \n",
        "2385              0              0              0             0  \n",
        "2386              0              1              1             1  \n",
        "2387              0              0              0             1  \n",
        "2388              0              0              0             0  \n",
        "2389              2              2              0             0  \n",
        "2390              0              0              0             0  \n",
        "2391              0              1              0             0  \n",
        "2392              0              0              1             0  \n",
        "2393              0              0              1             0  \n",
        "2394              0              0              0             0  \n",
        "2395              1              0              0             0  \n",
        "2396              2              0              0             0  \n",
        "2397              1              0              0             0  \n",
        "2398              0              0              0             0  \n",
        "2399              0              2              0             0  \n",
        "2400              0              0              0             0  \n",
        "2401              0              1              0             0  \n",
        "2402              0              0              0             0  \n",
        "2403              0              0              0             0  \n",
        "2404              0              0              0             0  \n",
        "2405              1              0              0             0  \n",
        "2406              0              1              0             0  \n",
        "2407              0              0              0             0  \n",
        "2408              0              0              0             1  \n",
        "\n",
        "[2409 rows x 20 columns]"
       ]
      }
     ],
     "prompt_number": 6
    },
    {
     "cell_type": "code",
     "collapsed": false,
     "input": [],
     "language": "python",
     "metadata": {},
     "outputs": []
    }
   ],
   "metadata": {}
  }
 ]
}
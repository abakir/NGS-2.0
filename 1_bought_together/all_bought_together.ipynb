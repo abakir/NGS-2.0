{
 "metadata": {
  "name": "",
  "signature": "sha256:fbbddc85f2d35375f393602bbadb6d0d51a98df957dddcb8e89895bed882b3d8"
 },
 "nbformat": 3,
 "nbformat_minor": 0,
 "worksheets": [
  {
   "cells": [
    {
     "cell_type": "code",
     "collapsed": false,
     "input": [
      "import pandas as pd\n",
      "#import yaml\n",
      "\n",
      "#with open(\"config.yaml\", 'r') as ymlfile:\n",
      "    #cfg = yaml.load(ymlfile)\n",
      "\n",
      "#df = pd.read_csv(cfg['root'] + cfg['dir_data_shopify'] + cfg[\"ip_orders\"], low_memory=False)\n",
      "\n",
      "df = pd.read_csv('C:\\Users\\saisree849\\Documents\\GitHub\\NGS-2.0\\\\12_dashboard_tables\\data_input\\shopify\\orders_export.csv', low_memory=False)"
     ],
     "language": "python",
     "metadata": {},
     "outputs": [],
     "prompt_number": 7
    },
    {
     "cell_type": "code",
     "collapsed": false,
     "input": [
      "# rows of type 21 and 12 are same, retain one instance of such rows\n",
      "def combineProds(name1, name2):\n",
      "    if name1 < name2:\n",
      "        return name1 + \",\" + name2\n",
      "    else:\n",
      "        return name2 + \",\" + name1"
     ],
     "language": "python",
     "metadata": {},
     "outputs": [],
     "prompt_number": 8
    },
    {
     "cell_type": "code",
     "collapsed": false,
     "input": [
      "# get required columns and rename\n",
      "df = df[['Name', 'Lineitem name']]\n",
      "df.columns = ['Order_id', 'Product']\n",
      "\n",
      "# change product names to upper, remove duplicates, group the orders with same product\n",
      "df['Product'] = df.Product.apply(lambda x: x.upper())\n",
      "df = df.drop_duplicates().reset_index().drop('index', 1)\n",
      "df = df.groupby(['Product'], axis=0, as_index=False)['Order_id'].sum()\n",
      "# will be changed into a list by splitting with # (the start of order number)\n",
      "df['Order_id'] = df.Order_id.apply(lambda x: x.split(\"#\"))\n",
      "# remove the first , in the list\n",
      "df['Order_id'] = df.Order_id.apply(lambda x: x[1:])\n",
      "\n",
      "df"
     ],
     "language": "python",
     "metadata": {},
     "outputs": [
      {
       "html": [
        "<div style=\"max-height:1000px;max-width:1500px;overflow:auto;\">\n",
        "<table border=\"1\" class=\"dataframe\">\n",
        "  <thead>\n",
        "    <tr style=\"text-align: right;\">\n",
        "      <th></th>\n",
        "      <th>Product</th>\n",
        "      <th>Order_id</th>\n",
        "    </tr>\n",
        "  </thead>\n",
        "  <tbody>\n",
        "    <tr>\n",
        "      <th>0   </th>\n",
        "      <td>                                     7 GRAIN MILK</td>\n",
        "      <td> [2498, 2486, 2467, 2461, 2418, 2367, 2253, 225...</td>\n",
        "    </tr>\n",
        "    <tr>\n",
        "      <th>1   </th>\n",
        "      <td>                             7 GRAIN MILK - 946ML</td>\n",
        "      <td>                    [2714, 2691, 2533, 2529, 2514]</td>\n",
        "    </tr>\n",
        "    <tr>\n",
        "      <th>2   </th>\n",
        "      <td>                                 ACAI BERRY JUICE</td>\n",
        "      <td>                              [10353, 10330, 3427]</td>\n",
        "    </tr>\n",
        "    <tr>\n",
        "      <th>3   </th>\n",
        "      <td>                                 ACNE FACIAL SOAP</td>\n",
        "      <td>                                      [3940, 3606]</td>\n",
        "    </tr>\n",
        "    <tr>\n",
        "      <th>4   </th>\n",
        "      <td>                          ACQUA PANA WATER 1000ML</td>\n",
        "      <td>                                            [3088]</td>\n",
        "    </tr>\n",
        "    <tr>\n",
        "      <th>5   </th>\n",
        "      <td>                           ACQUA PANA WATER 500ML</td>\n",
        "      <td>                                            [3088]</td>\n",
        "    </tr>\n",
        "    <tr>\n",
        "      <th>6   </th>\n",
        "      <td>                     ACQUA PANA WATER 500ML GLASS</td>\n",
        "      <td>                                            [3088]</td>\n",
        "    </tr>\n",
        "    <tr>\n",
        "      <th>7   </th>\n",
        "      <td>            ACTIBIF CHEESE (FOR BETTER DIGESTION)</td>\n",
        "      <td> [9714, 9701, 9697, 9550, 9265, 9257, 8971, 890...</td>\n",
        "    </tr>\n",
        "    <tr>\n",
        "      <th>8   </th>\n",
        "      <td>         AGAR AGAR FLAKES (HAND HARVESTED) - WILD</td>\n",
        "      <td> [10303, 10081, 9328, 8515, 8330, 8322, 8256, 7...</td>\n",
        "    </tr>\n",
        "    <tr>\n",
        "      <th>9   </th>\n",
        "      <td>         ALL PURPOSE BAKING FLOUR ( GLUTEN FREE )</td>\n",
        "      <td> [9881, 9757, 9609, 9547, 9472, 9439, 9366, 929...</td>\n",
        "    </tr>\n",
        "    <tr>\n",
        "      <th>10  </th>\n",
        "      <td>  ALL PURPOSE BAKING FLOUR ( GLUTEN FREE ) - 623G</td>\n",
        "      <td> [4974, 4947, 4945, 4916, 4713, 4699, 4675, 465...</td>\n",
        "    </tr>\n",
        "    <tr>\n",
        "      <th>11  </th>\n",
        "      <td>           ALL PURPOSE BAKING FLOUR (GLUTEN FREE)</td>\n",
        "      <td> [10313, 10298, 10158, 10154, 10127, 10045, 920...</td>\n",
        "    </tr>\n",
        "    <tr>\n",
        "      <th>12  </th>\n",
        "      <td> ALMOND BISCOTTI (GLUTEN FREE) - TRACES OF GLUTEN</td>\n",
        "      <td>            [6958, 6780, 6562A, 6562, 6494A, 6494]</td>\n",
        "    </tr>\n",
        "    <tr>\n",
        "      <th>13  </th>\n",
        "      <td> ALMOND BISCUTIS (GLUTEN FREE) - TRACES OF GLUTEN</td>\n",
        "      <td>                   [7216, 7125A, 7125, 6259, 6015]</td>\n",
        "    </tr>\n",
        "    <tr>\n",
        "      <th>14  </th>\n",
        "      <td>                       ALMOND BREAD (GLUTEN FREE)</td>\n",
        "      <td>              [9101, 9019, 8997, 8976, 8964, 8943]</td>\n",
        "    </tr>\n",
        "    <tr>\n",
        "      <th>15  </th>\n",
        "      <td>                                    ALMOND BUTTER</td>\n",
        "      <td> [10357, 10344, 10336, 10327, 10326, 10295, 102...</td>\n",
        "    </tr>\n",
        "    <tr>\n",
        "      <th>16  </th>\n",
        "      <td>                        ALMOND BUTTER (HOME-MADE)</td>\n",
        "      <td> [4586, 4556, 4547, 4517, 4498, 4492, 4465, 446...</td>\n",
        "    </tr>\n",
        "    <tr>\n",
        "      <th>17  </th>\n",
        "      <td>                          ALMOND BUTTER (NATURAL)</td>\n",
        "      <td> [10350, 10346, 10303, 10276, 10198, 10142, 101...</td>\n",
        "    </tr>\n",
        "    <tr>\n",
        "      <th>18  </th>\n",
        "      <td>      ALMOND BUTTER WITH CINAMON RAISIN (NATURAL)</td>\n",
        "      <td>                                      [8585, 8486]</td>\n",
        "    </tr>\n",
        "    <tr>\n",
        "      <th>19  </th>\n",
        "      <td>                                ALMOND MEAL FLOUR</td>\n",
        "      <td> [10009, 9993, 9986, 9983, 9971, 9951, 9914, 98...</td>\n",
        "    </tr>\n",
        "    <tr>\n",
        "      <th>20  </th>\n",
        "      <td>                                      ALMOND MILK</td>\n",
        "      <td> [2499, 2498, 2481, 2480, 2465, 2461, 2457, 245...</td>\n",
        "    </tr>\n",
        "    <tr>\n",
        "      <th>21  </th>\n",
        "      <td>                          ALMOND MILK ( ORGANIC )</td>\n",
        "      <td>                                      [3335, 3332]</td>\n",
        "    </tr>\n",
        "    <tr>\n",
        "      <th>22  </th>\n",
        "      <td>                    ALMOND MILK ( ORGANIC ) 946ML</td>\n",
        "      <td>                               [7134A, 7137, 7134]</td>\n",
        "    </tr>\n",
        "    <tr>\n",
        "      <th>23  </th>\n",
        "      <td>                         ALMOND MILK ( ORIGINAL )</td>\n",
        "      <td> [5669A, 5669, 5654, 5649A, 5649, 5618, 5558, 5...</td>\n",
        "    </tr>\n",
        "    <tr>\n",
        "      <th>24  </th>\n",
        "      <td>               ALMOND MILK (ORGANIC) - SUGAR-FREE</td>\n",
        "      <td> [10170, 10149, 10033, 10027, 10003, 9963, 9947...</td>\n",
        "    </tr>\n",
        "    <tr>\n",
        "      <th>25  </th>\n",
        "      <td>                        ALMOND MILK (UNSWEETENED)</td>\n",
        "      <td>                                [4802, 4801, 4795]</td>\n",
        "    </tr>\n",
        "    <tr>\n",
        "      <th>26  </th>\n",
        "      <td>                              ALMOND MILK - 946ML</td>\n",
        "      <td> [2828, 2599, 2596, 2594, 2585, 2583, 2579, 257...</td>\n",
        "    </tr>\n",
        "    <tr>\n",
        "      <th>27  </th>\n",
        "      <td>                       ALMOND ORIGINAL (ORIGINAL)</td>\n",
        "      <td>                          [4888, 4862, 4858, 4801]</td>\n",
        "    </tr>\n",
        "    <tr>\n",
        "      <th>28  </th>\n",
        "      <td>                     ALMOND'S AND OATS BODY SCRUB</td>\n",
        "      <td>                                            [4435]</td>\n",
        "    </tr>\n",
        "    <tr>\n",
        "      <th>29  </th>\n",
        "      <td>              ALMONDS SHELL ON - ROASTED &amp; SALTED</td>\n",
        "      <td> [2224, 2177, 1747, 1690, 1435, 1358, 1342, 134...</td>\n",
        "    </tr>\n",
        "    <tr>\n",
        "      <th>...</th>\n",
        "      <td>...</td>\n",
        "      <td>...</td>\n",
        "    </tr>\n",
        "    <tr>\n",
        "      <th>1906</th>\n",
        "      <td>                              WILD SHRIMP (LARGE)</td>\n",
        "      <td>                                            [9963]</td>\n",
        "    </tr>\n",
        "    <tr>\n",
        "      <th>1907</th>\n",
        "      <td>                             WILD SHRIMP (MEDIUM)</td>\n",
        "      <td> [10303, 10263, 10260, 10232, 10198, 10027, 997...</td>\n",
        "    </tr>\n",
        "    <tr>\n",
        "      <th>1908</th>\n",
        "      <td>                              WILD SHRIMP (SMALL)</td>\n",
        "      <td>         [10362, 10329, 10261, 10143, 10094, 9989]</td>\n",
        "    </tr>\n",
        "    <tr>\n",
        "      <th>1909</th>\n",
        "      <td>                       WILD THYME (CHEMICAL FREE)</td>\n",
        "      <td>        [9977, 9542, 9468, 9319, 9014, 8679, 8082]</td>\n",
        "    </tr>\n",
        "    <tr>\n",
        "      <th>1910</th>\n",
        "      <td>                        WILD YELLOW FINTUNA STEAK</td>\n",
        "      <td>                                           [10265]</td>\n",
        "    </tr>\n",
        "    <tr>\n",
        "      <th>1911</th>\n",
        "      <td>                             WORMWOOD HERB POWDER</td>\n",
        "      <td>                                            [2389]</td>\n",
        "    </tr>\n",
        "    <tr>\n",
        "      <th>1912</th>\n",
        "      <td>                        XANTHAN GUM (GLUTEN FREE)</td>\n",
        "      <td> [10027, 10022, 9943, 9921, 9810, 9697, 9572, 9...</td>\n",
        "    </tr>\n",
        "    <tr>\n",
        "      <th>1913</th>\n",
        "      <td>                                 YAKI NORI SHEETS</td>\n",
        "      <td>                                      [3142, 3087]</td>\n",
        "    </tr>\n",
        "    <tr>\n",
        "      <th>1914</th>\n",
        "      <td>                                    YELLOW APPLES</td>\n",
        "      <td> [10316, 10203, 9983, 9946, 9884, 9782, 9731, 9...</td>\n",
        "    </tr>\n",
        "    <tr>\n",
        "      <th>1915</th>\n",
        "      <td>                                  YELLOW BROCCOLI</td>\n",
        "      <td>                                      [1632, 1559]</td>\n",
        "    </tr>\n",
        "    <tr>\n",
        "      <th>1916</th>\n",
        "      <td>                YELLOW CAPSICUM ( CHEMICAL FREE )</td>\n",
        "      <td>                                            [3319]</td>\n",
        "    </tr>\n",
        "    <tr>\n",
        "      <th>1917</th>\n",
        "      <td>                  YELLOW CARROT ( CHEMICAL FREE )</td>\n",
        "      <td> [8657, 8487, 8447, 8440, 8416, 8402, 8376, 837...</td>\n",
        "    </tr>\n",
        "    <tr>\n",
        "      <th>1918</th>\n",
        "      <td>                                   YELLOW CARROTS</td>\n",
        "      <td> [10085, 10082, 10065, 9919, 9819, 8649, 8620, ...</td>\n",
        "    </tr>\n",
        "    <tr>\n",
        "      <th>1919</th>\n",
        "      <td>                           YELLOW CHERRY TOMATOES</td>\n",
        "      <td> [2493, 2489, 2484, 2461, 2438, 2410, 1657, 152...</td>\n",
        "    </tr>\n",
        "    <tr>\n",
        "      <th>1920</th>\n",
        "      <td>                                YELLOW GRAPEFRUIT</td>\n",
        "      <td> [10204, 9969, 9968, 9946, 9501, 9495, 9478, 94...</td>\n",
        "    </tr>\n",
        "    <tr>\n",
        "      <th>1921</th>\n",
        "      <td>                                   YELLOW MUSTARD</td>\n",
        "      <td>                 [10218, 10142, 10024, 9989, 9965]</td>\n",
        "    </tr>\n",
        "    <tr>\n",
        "      <th>1922</th>\n",
        "      <td>                  YELLOW ONIONS ( CHEMICAL FREE )</td>\n",
        "      <td>                    [4200, 4130, 4129, 4090, 4062]</td>\n",
        "    </tr>\n",
        "    <tr>\n",
        "      <th>1923</th>\n",
        "      <td>                                YELLOW SPLIT PEAS</td>\n",
        "      <td>              [2439, 2126, 1752, 1722, 1570, 1505]</td>\n",
        "    </tr>\n",
        "    <tr>\n",
        "      <th>1924</th>\n",
        "      <td>                         YELLOW SPLIT PEAS - 822G</td>\n",
        "      <td>                                            [2923]</td>\n",
        "    </tr>\n",
        "    <tr>\n",
        "      <th>1925</th>\n",
        "      <td>                                YELLOW WATERMELON</td>\n",
        "      <td>                                      [8840, 8624]</td>\n",
        "    </tr>\n",
        "    <tr>\n",
        "      <th>1926</th>\n",
        "      <td>                       YING/YANG FACIAL ACNE SOAP</td>\n",
        "      <td>                                            [4596]</td>\n",
        "    </tr>\n",
        "    <tr>\n",
        "      <th>1927</th>\n",
        "      <td>                              YOUSSFI (TANGERINE)</td>\n",
        "      <td>        [9813, 9808, 9731, 9694, 9693, 9675, 9653]</td>\n",
        "    </tr>\n",
        "    <tr>\n",
        "      <th>1928</th>\n",
        "      <td>                     ZARDA EXTRA VIRGIN OLIVE OIL</td>\n",
        "      <td>                                            [3137]</td>\n",
        "    </tr>\n",
        "    <tr>\n",
        "      <th>1929</th>\n",
        "      <td>                                         ZUCCHINI</td>\n",
        "      <td> [9861, 9804, 9803, 9796, 9793, 9787, 3228, 318...</td>\n",
        "    </tr>\n",
        "    <tr>\n",
        "      <th>1930</th>\n",
        "      <td>                       ZUCCHINI ( CHEMICAL FREE )</td>\n",
        "      <td> [7988, 7985, 7980, 7967, 7932, 7926, 7912, 789...</td>\n",
        "    </tr>\n",
        "    <tr>\n",
        "      <th>1931</th>\n",
        "      <td>                         ZUCCHINI (CHEMICAL FREE)</td>\n",
        "      <td> [10355, 10351, 10320, 10316, 10295, 10292, 102...</td>\n",
        "    </tr>\n",
        "    <tr>\n",
        "      <th>1932</th>\n",
        "      <td>                               ZUCCHINI (ORGANIC)</td>\n",
        "      <td> [10321, 10306, 10218, 10213, 9474, 9372, 9349,...</td>\n",
        "    </tr>\n",
        "    <tr>\n",
        "      <th>1933</th>\n",
        "      <td>                                 ZUCCHINI FLOWERS</td>\n",
        "      <td> [7411, 6501, 6483, 5413B, 5413A, 5413, 4676, 4...</td>\n",
        "    </tr>\n",
        "    <tr>\n",
        "      <th>1934</th>\n",
        "      <td>                 ZUCCHINI FLOWERS (CHEMICAL FREE)</td>\n",
        "      <td>        [8216, 8200, 8082, 8060, 8019, 7983, 7933]</td>\n",
        "    </tr>\n",
        "    <tr>\n",
        "      <th>1935</th>\n",
        "      <td>   ZUCCHINI JAM WITH PISTACHIO &amp; MASTIC (NATURAL)</td>\n",
        "      <td>                                      [8909, 8696]</td>\n",
        "    </tr>\n",
        "  </tbody>\n",
        "</table>\n",
        "<p>1936 rows \u00d7 2 columns</p>\n",
        "</div>"
       ],
       "metadata": {},
       "output_type": "pyout",
       "prompt_number": 9,
       "text": [
        "                                               Product  \\\n",
        "0                                         7 GRAIN MILK   \n",
        "1                                 7 GRAIN MILK - 946ML   \n",
        "2                                     ACAI BERRY JUICE   \n",
        "3                                     ACNE FACIAL SOAP   \n",
        "4                              ACQUA PANA WATER 1000ML   \n",
        "5                               ACQUA PANA WATER 500ML   \n",
        "6                         ACQUA PANA WATER 500ML GLASS   \n",
        "7                ACTIBIF CHEESE (FOR BETTER DIGESTION)   \n",
        "8             AGAR AGAR FLAKES (HAND HARVESTED) - WILD   \n",
        "9             ALL PURPOSE BAKING FLOUR ( GLUTEN FREE )   \n",
        "10     ALL PURPOSE BAKING FLOUR ( GLUTEN FREE ) - 623G   \n",
        "11              ALL PURPOSE BAKING FLOUR (GLUTEN FREE)   \n",
        "12    ALMOND BISCOTTI (GLUTEN FREE) - TRACES OF GLUTEN   \n",
        "13    ALMOND BISCUTIS (GLUTEN FREE) - TRACES OF GLUTEN   \n",
        "14                          ALMOND BREAD (GLUTEN FREE)   \n",
        "15                                       ALMOND BUTTER   \n",
        "16                           ALMOND BUTTER (HOME-MADE)   \n",
        "17                             ALMOND BUTTER (NATURAL)   \n",
        "18         ALMOND BUTTER WITH CINAMON RAISIN (NATURAL)   \n",
        "19                                   ALMOND MEAL FLOUR   \n",
        "20                                         ALMOND MILK   \n",
        "21                             ALMOND MILK ( ORGANIC )   \n",
        "22                       ALMOND MILK ( ORGANIC ) 946ML   \n",
        "23                            ALMOND MILK ( ORIGINAL )   \n",
        "24                  ALMOND MILK (ORGANIC) - SUGAR-FREE   \n",
        "25                           ALMOND MILK (UNSWEETENED)   \n",
        "26                                 ALMOND MILK - 946ML   \n",
        "27                          ALMOND ORIGINAL (ORIGINAL)   \n",
        "28                        ALMOND'S AND OATS BODY SCRUB   \n",
        "29                 ALMONDS SHELL ON - ROASTED & SALTED   \n",
        "...                                                ...   \n",
        "1906                               WILD SHRIMP (LARGE)   \n",
        "1907                              WILD SHRIMP (MEDIUM)   \n",
        "1908                               WILD SHRIMP (SMALL)   \n",
        "1909                        WILD THYME (CHEMICAL FREE)   \n",
        "1910                         WILD YELLOW FINTUNA STEAK   \n",
        "1911                              WORMWOOD HERB POWDER   \n",
        "1912                         XANTHAN GUM (GLUTEN FREE)   \n",
        "1913                                  YAKI NORI SHEETS   \n",
        "1914                                     YELLOW APPLES   \n",
        "1915                                   YELLOW BROCCOLI   \n",
        "1916                 YELLOW CAPSICUM ( CHEMICAL FREE )   \n",
        "1917                   YELLOW CARROT ( CHEMICAL FREE )   \n",
        "1918                                    YELLOW CARROTS   \n",
        "1919                            YELLOW CHERRY TOMATOES   \n",
        "1920                                 YELLOW GRAPEFRUIT   \n",
        "1921                                    YELLOW MUSTARD   \n",
        "1922                   YELLOW ONIONS ( CHEMICAL FREE )   \n",
        "1923                                 YELLOW SPLIT PEAS   \n",
        "1924                          YELLOW SPLIT PEAS - 822G   \n",
        "1925                                 YELLOW WATERMELON   \n",
        "1926                        YING/YANG FACIAL ACNE SOAP   \n",
        "1927                               YOUSSFI (TANGERINE)   \n",
        "1928                      ZARDA EXTRA VIRGIN OLIVE OIL   \n",
        "1929                                          ZUCCHINI   \n",
        "1930                        ZUCCHINI ( CHEMICAL FREE )   \n",
        "1931                          ZUCCHINI (CHEMICAL FREE)   \n",
        "1932                                ZUCCHINI (ORGANIC)   \n",
        "1933                                  ZUCCHINI FLOWERS   \n",
        "1934                  ZUCCHINI FLOWERS (CHEMICAL FREE)   \n",
        "1935    ZUCCHINI JAM WITH PISTACHIO & MASTIC (NATURAL)   \n",
        "\n",
        "                                               Order_id  \n",
        "0     [2498, 2486, 2467, 2461, 2418, 2367, 2253, 225...  \n",
        "1                        [2714, 2691, 2533, 2529, 2514]  \n",
        "2                                  [10353, 10330, 3427]  \n",
        "3                                          [3940, 3606]  \n",
        "4                                                [3088]  \n",
        "5                                                [3088]  \n",
        "6                                                [3088]  \n",
        "7     [9714, 9701, 9697, 9550, 9265, 9257, 8971, 890...  \n",
        "8     [10303, 10081, 9328, 8515, 8330, 8322, 8256, 7...  \n",
        "9     [9881, 9757, 9609, 9547, 9472, 9439, 9366, 929...  \n",
        "10    [4974, 4947, 4945, 4916, 4713, 4699, 4675, 465...  \n",
        "11    [10313, 10298, 10158, 10154, 10127, 10045, 920...  \n",
        "12               [6958, 6780, 6562A, 6562, 6494A, 6494]  \n",
        "13                      [7216, 7125A, 7125, 6259, 6015]  \n",
        "14                 [9101, 9019, 8997, 8976, 8964, 8943]  \n",
        "15    [10357, 10344, 10336, 10327, 10326, 10295, 102...  \n",
        "16    [4586, 4556, 4547, 4517, 4498, 4492, 4465, 446...  \n",
        "17    [10350, 10346, 10303, 10276, 10198, 10142, 101...  \n",
        "18                                         [8585, 8486]  \n",
        "19    [10009, 9993, 9986, 9983, 9971, 9951, 9914, 98...  \n",
        "20    [2499, 2498, 2481, 2480, 2465, 2461, 2457, 245...  \n",
        "21                                         [3335, 3332]  \n",
        "22                                  [7134A, 7137, 7134]  \n",
        "23    [5669A, 5669, 5654, 5649A, 5649, 5618, 5558, 5...  \n",
        "24    [10170, 10149, 10033, 10027, 10003, 9963, 9947...  \n",
        "25                                   [4802, 4801, 4795]  \n",
        "26    [2828, 2599, 2596, 2594, 2585, 2583, 2579, 257...  \n",
        "27                             [4888, 4862, 4858, 4801]  \n",
        "28                                               [4435]  \n",
        "29    [2224, 2177, 1747, 1690, 1435, 1358, 1342, 134...  \n",
        "...                                                 ...  \n",
        "1906                                             [9963]  \n",
        "1907  [10303, 10263, 10260, 10232, 10198, 10027, 997...  \n",
        "1908          [10362, 10329, 10261, 10143, 10094, 9989]  \n",
        "1909         [9977, 9542, 9468, 9319, 9014, 8679, 8082]  \n",
        "1910                                            [10265]  \n",
        "1911                                             [2389]  \n",
        "1912  [10027, 10022, 9943, 9921, 9810, 9697, 9572, 9...  \n",
        "1913                                       [3142, 3087]  \n",
        "1914  [10316, 10203, 9983, 9946, 9884, 9782, 9731, 9...  \n",
        "1915                                       [1632, 1559]  \n",
        "1916                                             [3319]  \n",
        "1917  [8657, 8487, 8447, 8440, 8416, 8402, 8376, 837...  \n",
        "1918  [10085, 10082, 10065, 9919, 9819, 8649, 8620, ...  \n",
        "1919  [2493, 2489, 2484, 2461, 2438, 2410, 1657, 152...  \n",
        "1920  [10204, 9969, 9968, 9946, 9501, 9495, 9478, 94...  \n",
        "1921                  [10218, 10142, 10024, 9989, 9965]  \n",
        "1922                     [4200, 4130, 4129, 4090, 4062]  \n",
        "1923               [2439, 2126, 1752, 1722, 1570, 1505]  \n",
        "1924                                             [2923]  \n",
        "1925                                       [8840, 8624]  \n",
        "1926                                             [4596]  \n",
        "1927         [9813, 9808, 9731, 9694, 9693, 9675, 9653]  \n",
        "1928                                             [3137]  \n",
        "1929  [9861, 9804, 9803, 9796, 9793, 9787, 3228, 318...  \n",
        "1930  [7988, 7985, 7980, 7967, 7932, 7926, 7912, 789...  \n",
        "1931  [10355, 10351, 10320, 10316, 10295, 10292, 102...  \n",
        "1932  [10321, 10306, 10218, 10213, 9474, 9372, 9349,...  \n",
        "1933  [7411, 6501, 6483, 5413B, 5413A, 5413, 4676, 4...  \n",
        "1934         [8216, 8200, 8082, 8060, 8019, 7983, 7933]  \n",
        "1935                                       [8909, 8696]  \n",
        "\n",
        "[1936 rows x 2 columns]"
       ]
      }
     ],
     "prompt_number": 9
    },
    {
     "cell_type": "code",
     "collapsed": false,
     "input": [
      "key = []\n",
      "for i in range(0, max(df.index)+1):\n",
      "    key.append(1)\n",
      "df['key'] = key\n",
      "\n",
      "df.columns = ['Product1', 'Order1', 'key']\n",
      "df1 = pd.DataFrame(columns = ['key', 'Product2', 'Order2'])\n",
      "\n",
      "df1['key'] = df['key']\n",
      "df1['Product2'] = df['Product1']\n",
      "df1['Order2'] = df['Order1']\n",
      "\n",
      "#cartesian product\n",
      "df = pd.merge(df, df1,on='key')[['Product1', 'Product2', 'Order1', 'Order2']]\n",
      "\n",
      "df"
     ],
     "language": "python",
     "metadata": {},
     "outputs": [
      {
       "html": [
        "<div style=\"max-height:1000px;max-width:1500px;overflow:auto;\">\n",
        "<table border=\"1\" class=\"dataframe\">\n",
        "  <thead>\n",
        "    <tr style=\"text-align: right;\">\n",
        "      <th></th>\n",
        "      <th>Product1</th>\n",
        "      <th>Product2</th>\n",
        "      <th>Order1</th>\n",
        "      <th>Order2</th>\n",
        "    </tr>\n",
        "  </thead>\n",
        "  <tbody>\n",
        "    <tr>\n",
        "      <th>0      </th>\n",
        "      <td>                                   7 GRAIN MILK</td>\n",
        "      <td>                                     7 GRAIN MILK</td>\n",
        "      <td> [2498, 2486, 2467, 2461, 2418, 2367, 2253, 225...</td>\n",
        "      <td> [2498, 2486, 2467, 2461, 2418, 2367, 2253, 225...</td>\n",
        "    </tr>\n",
        "    <tr>\n",
        "      <th>1      </th>\n",
        "      <td>                                   7 GRAIN MILK</td>\n",
        "      <td>                             7 GRAIN MILK - 946ML</td>\n",
        "      <td> [2498, 2486, 2467, 2461, 2418, 2367, 2253, 225...</td>\n",
        "      <td>                    [2714, 2691, 2533, 2529, 2514]</td>\n",
        "    </tr>\n",
        "    <tr>\n",
        "      <th>2      </th>\n",
        "      <td>                                   7 GRAIN MILK</td>\n",
        "      <td>                                 ACAI BERRY JUICE</td>\n",
        "      <td> [2498, 2486, 2467, 2461, 2418, 2367, 2253, 225...</td>\n",
        "      <td>                              [10353, 10330, 3427]</td>\n",
        "    </tr>\n",
        "    <tr>\n",
        "      <th>3      </th>\n",
        "      <td>                                   7 GRAIN MILK</td>\n",
        "      <td>                                 ACNE FACIAL SOAP</td>\n",
        "      <td> [2498, 2486, 2467, 2461, 2418, 2367, 2253, 225...</td>\n",
        "      <td>                                      [3940, 3606]</td>\n",
        "    </tr>\n",
        "    <tr>\n",
        "      <th>4      </th>\n",
        "      <td>                                   7 GRAIN MILK</td>\n",
        "      <td>                          ACQUA PANA WATER 1000ML</td>\n",
        "      <td> [2498, 2486, 2467, 2461, 2418, 2367, 2253, 225...</td>\n",
        "      <td>                                            [3088]</td>\n",
        "    </tr>\n",
        "    <tr>\n",
        "      <th>5      </th>\n",
        "      <td>                                   7 GRAIN MILK</td>\n",
        "      <td>                           ACQUA PANA WATER 500ML</td>\n",
        "      <td> [2498, 2486, 2467, 2461, 2418, 2367, 2253, 225...</td>\n",
        "      <td>                                            [3088]</td>\n",
        "    </tr>\n",
        "    <tr>\n",
        "      <th>6      </th>\n",
        "      <td>                                   7 GRAIN MILK</td>\n",
        "      <td>                     ACQUA PANA WATER 500ML GLASS</td>\n",
        "      <td> [2498, 2486, 2467, 2461, 2418, 2367, 2253, 225...</td>\n",
        "      <td>                                            [3088]</td>\n",
        "    </tr>\n",
        "    <tr>\n",
        "      <th>7      </th>\n",
        "      <td>                                   7 GRAIN MILK</td>\n",
        "      <td>            ACTIBIF CHEESE (FOR BETTER DIGESTION)</td>\n",
        "      <td> [2498, 2486, 2467, 2461, 2418, 2367, 2253, 225...</td>\n",
        "      <td> [9714, 9701, 9697, 9550, 9265, 9257, 8971, 890...</td>\n",
        "    </tr>\n",
        "    <tr>\n",
        "      <th>8      </th>\n",
        "      <td>                                   7 GRAIN MILK</td>\n",
        "      <td>         AGAR AGAR FLAKES (HAND HARVESTED) - WILD</td>\n",
        "      <td> [2498, 2486, 2467, 2461, 2418, 2367, 2253, 225...</td>\n",
        "      <td> [10303, 10081, 9328, 8515, 8330, 8322, 8256, 7...</td>\n",
        "    </tr>\n",
        "    <tr>\n",
        "      <th>9      </th>\n",
        "      <td>                                   7 GRAIN MILK</td>\n",
        "      <td>         ALL PURPOSE BAKING FLOUR ( GLUTEN FREE )</td>\n",
        "      <td> [2498, 2486, 2467, 2461, 2418, 2367, 2253, 225...</td>\n",
        "      <td> [9881, 9757, 9609, 9547, 9472, 9439, 9366, 929...</td>\n",
        "    </tr>\n",
        "    <tr>\n",
        "      <th>10     </th>\n",
        "      <td>                                   7 GRAIN MILK</td>\n",
        "      <td>  ALL PURPOSE BAKING FLOUR ( GLUTEN FREE ) - 623G</td>\n",
        "      <td> [2498, 2486, 2467, 2461, 2418, 2367, 2253, 225...</td>\n",
        "      <td> [4974, 4947, 4945, 4916, 4713, 4699, 4675, 465...</td>\n",
        "    </tr>\n",
        "    <tr>\n",
        "      <th>11     </th>\n",
        "      <td>                                   7 GRAIN MILK</td>\n",
        "      <td>           ALL PURPOSE BAKING FLOUR (GLUTEN FREE)</td>\n",
        "      <td> [2498, 2486, 2467, 2461, 2418, 2367, 2253, 225...</td>\n",
        "      <td> [10313, 10298, 10158, 10154, 10127, 10045, 920...</td>\n",
        "    </tr>\n",
        "    <tr>\n",
        "      <th>12     </th>\n",
        "      <td>                                   7 GRAIN MILK</td>\n",
        "      <td> ALMOND BISCOTTI (GLUTEN FREE) - TRACES OF GLUTEN</td>\n",
        "      <td> [2498, 2486, 2467, 2461, 2418, 2367, 2253, 225...</td>\n",
        "      <td>            [6958, 6780, 6562A, 6562, 6494A, 6494]</td>\n",
        "    </tr>\n",
        "    <tr>\n",
        "      <th>13     </th>\n",
        "      <td>                                   7 GRAIN MILK</td>\n",
        "      <td> ALMOND BISCUTIS (GLUTEN FREE) - TRACES OF GLUTEN</td>\n",
        "      <td> [2498, 2486, 2467, 2461, 2418, 2367, 2253, 225...</td>\n",
        "      <td>                   [7216, 7125A, 7125, 6259, 6015]</td>\n",
        "    </tr>\n",
        "    <tr>\n",
        "      <th>14     </th>\n",
        "      <td>                                   7 GRAIN MILK</td>\n",
        "      <td>                       ALMOND BREAD (GLUTEN FREE)</td>\n",
        "      <td> [2498, 2486, 2467, 2461, 2418, 2367, 2253, 225...</td>\n",
        "      <td>              [9101, 9019, 8997, 8976, 8964, 8943]</td>\n",
        "    </tr>\n",
        "    <tr>\n",
        "      <th>15     </th>\n",
        "      <td>                                   7 GRAIN MILK</td>\n",
        "      <td>                                    ALMOND BUTTER</td>\n",
        "      <td> [2498, 2486, 2467, 2461, 2418, 2367, 2253, 225...</td>\n",
        "      <td> [10357, 10344, 10336, 10327, 10326, 10295, 102...</td>\n",
        "    </tr>\n",
        "    <tr>\n",
        "      <th>16     </th>\n",
        "      <td>                                   7 GRAIN MILK</td>\n",
        "      <td>                        ALMOND BUTTER (HOME-MADE)</td>\n",
        "      <td> [2498, 2486, 2467, 2461, 2418, 2367, 2253, 225...</td>\n",
        "      <td> [4586, 4556, 4547, 4517, 4498, 4492, 4465, 446...</td>\n",
        "    </tr>\n",
        "    <tr>\n",
        "      <th>17     </th>\n",
        "      <td>                                   7 GRAIN MILK</td>\n",
        "      <td>                          ALMOND BUTTER (NATURAL)</td>\n",
        "      <td> [2498, 2486, 2467, 2461, 2418, 2367, 2253, 225...</td>\n",
        "      <td> [10350, 10346, 10303, 10276, 10198, 10142, 101...</td>\n",
        "    </tr>\n",
        "    <tr>\n",
        "      <th>18     </th>\n",
        "      <td>                                   7 GRAIN MILK</td>\n",
        "      <td>      ALMOND BUTTER WITH CINAMON RAISIN (NATURAL)</td>\n",
        "      <td> [2498, 2486, 2467, 2461, 2418, 2367, 2253, 225...</td>\n",
        "      <td>                                      [8585, 8486]</td>\n",
        "    </tr>\n",
        "    <tr>\n",
        "      <th>19     </th>\n",
        "      <td>                                   7 GRAIN MILK</td>\n",
        "      <td>                                ALMOND MEAL FLOUR</td>\n",
        "      <td> [2498, 2486, 2467, 2461, 2418, 2367, 2253, 225...</td>\n",
        "      <td> [10009, 9993, 9986, 9983, 9971, 9951, 9914, 98...</td>\n",
        "    </tr>\n",
        "    <tr>\n",
        "      <th>20     </th>\n",
        "      <td>                                   7 GRAIN MILK</td>\n",
        "      <td>                                      ALMOND MILK</td>\n",
        "      <td> [2498, 2486, 2467, 2461, 2418, 2367, 2253, 225...</td>\n",
        "      <td> [2499, 2498, 2481, 2480, 2465, 2461, 2457, 245...</td>\n",
        "    </tr>\n",
        "    <tr>\n",
        "      <th>21     </th>\n",
        "      <td>                                   7 GRAIN MILK</td>\n",
        "      <td>                          ALMOND MILK ( ORGANIC )</td>\n",
        "      <td> [2498, 2486, 2467, 2461, 2418, 2367, 2253, 225...</td>\n",
        "      <td>                                      [3335, 3332]</td>\n",
        "    </tr>\n",
        "    <tr>\n",
        "      <th>22     </th>\n",
        "      <td>                                   7 GRAIN MILK</td>\n",
        "      <td>                    ALMOND MILK ( ORGANIC ) 946ML</td>\n",
        "      <td> [2498, 2486, 2467, 2461, 2418, 2367, 2253, 225...</td>\n",
        "      <td>                               [7134A, 7137, 7134]</td>\n",
        "    </tr>\n",
        "    <tr>\n",
        "      <th>23     </th>\n",
        "      <td>                                   7 GRAIN MILK</td>\n",
        "      <td>                         ALMOND MILK ( ORIGINAL )</td>\n",
        "      <td> [2498, 2486, 2467, 2461, 2418, 2367, 2253, 225...</td>\n",
        "      <td> [5669A, 5669, 5654, 5649A, 5649, 5618, 5558, 5...</td>\n",
        "    </tr>\n",
        "    <tr>\n",
        "      <th>24     </th>\n",
        "      <td>                                   7 GRAIN MILK</td>\n",
        "      <td>               ALMOND MILK (ORGANIC) - SUGAR-FREE</td>\n",
        "      <td> [2498, 2486, 2467, 2461, 2418, 2367, 2253, 225...</td>\n",
        "      <td> [10170, 10149, 10033, 10027, 10003, 9963, 9947...</td>\n",
        "    </tr>\n",
        "    <tr>\n",
        "      <th>25     </th>\n",
        "      <td>                                   7 GRAIN MILK</td>\n",
        "      <td>                        ALMOND MILK (UNSWEETENED)</td>\n",
        "      <td> [2498, 2486, 2467, 2461, 2418, 2367, 2253, 225...</td>\n",
        "      <td>                                [4802, 4801, 4795]</td>\n",
        "    </tr>\n",
        "    <tr>\n",
        "      <th>26     </th>\n",
        "      <td>                                   7 GRAIN MILK</td>\n",
        "      <td>                              ALMOND MILK - 946ML</td>\n",
        "      <td> [2498, 2486, 2467, 2461, 2418, 2367, 2253, 225...</td>\n",
        "      <td> [2828, 2599, 2596, 2594, 2585, 2583, 2579, 257...</td>\n",
        "    </tr>\n",
        "    <tr>\n",
        "      <th>27     </th>\n",
        "      <td>                                   7 GRAIN MILK</td>\n",
        "      <td>                       ALMOND ORIGINAL (ORIGINAL)</td>\n",
        "      <td> [2498, 2486, 2467, 2461, 2418, 2367, 2253, 225...</td>\n",
        "      <td>                          [4888, 4862, 4858, 4801]</td>\n",
        "    </tr>\n",
        "    <tr>\n",
        "      <th>28     </th>\n",
        "      <td>                                   7 GRAIN MILK</td>\n",
        "      <td>                     ALMOND'S AND OATS BODY SCRUB</td>\n",
        "      <td> [2498, 2486, 2467, 2461, 2418, 2367, 2253, 225...</td>\n",
        "      <td>                                            [4435]</td>\n",
        "    </tr>\n",
        "    <tr>\n",
        "      <th>29     </th>\n",
        "      <td>                                   7 GRAIN MILK</td>\n",
        "      <td>              ALMONDS SHELL ON - ROASTED &amp; SALTED</td>\n",
        "      <td> [2498, 2486, 2467, 2461, 2418, 2367, 2253, 225...</td>\n",
        "      <td> [2224, 2177, 1747, 1690, 1435, 1358, 1342, 134...</td>\n",
        "    </tr>\n",
        "    <tr>\n",
        "      <th>...</th>\n",
        "      <td>...</td>\n",
        "      <td>...</td>\n",
        "      <td>...</td>\n",
        "      <td>...</td>\n",
        "    </tr>\n",
        "    <tr>\n",
        "      <th>3748066</th>\n",
        "      <td> ZUCCHINI JAM WITH PISTACHIO &amp; MASTIC (NATURAL)</td>\n",
        "      <td>                              WILD SHRIMP (LARGE)</td>\n",
        "      <td>                                      [8909, 8696]</td>\n",
        "      <td>                                            [9963]</td>\n",
        "    </tr>\n",
        "    <tr>\n",
        "      <th>3748067</th>\n",
        "      <td> ZUCCHINI JAM WITH PISTACHIO &amp; MASTIC (NATURAL)</td>\n",
        "      <td>                             WILD SHRIMP (MEDIUM)</td>\n",
        "      <td>                                      [8909, 8696]</td>\n",
        "      <td> [10303, 10263, 10260, 10232, 10198, 10027, 997...</td>\n",
        "    </tr>\n",
        "    <tr>\n",
        "      <th>3748068</th>\n",
        "      <td> ZUCCHINI JAM WITH PISTACHIO &amp; MASTIC (NATURAL)</td>\n",
        "      <td>                              WILD SHRIMP (SMALL)</td>\n",
        "      <td>                                      [8909, 8696]</td>\n",
        "      <td>         [10362, 10329, 10261, 10143, 10094, 9989]</td>\n",
        "    </tr>\n",
        "    <tr>\n",
        "      <th>3748069</th>\n",
        "      <td> ZUCCHINI JAM WITH PISTACHIO &amp; MASTIC (NATURAL)</td>\n",
        "      <td>                       WILD THYME (CHEMICAL FREE)</td>\n",
        "      <td>                                      [8909, 8696]</td>\n",
        "      <td>        [9977, 9542, 9468, 9319, 9014, 8679, 8082]</td>\n",
        "    </tr>\n",
        "    <tr>\n",
        "      <th>3748070</th>\n",
        "      <td> ZUCCHINI JAM WITH PISTACHIO &amp; MASTIC (NATURAL)</td>\n",
        "      <td>                        WILD YELLOW FINTUNA STEAK</td>\n",
        "      <td>                                      [8909, 8696]</td>\n",
        "      <td>                                           [10265]</td>\n",
        "    </tr>\n",
        "    <tr>\n",
        "      <th>3748071</th>\n",
        "      <td> ZUCCHINI JAM WITH PISTACHIO &amp; MASTIC (NATURAL)</td>\n",
        "      <td>                             WORMWOOD HERB POWDER</td>\n",
        "      <td>                                      [8909, 8696]</td>\n",
        "      <td>                                            [2389]</td>\n",
        "    </tr>\n",
        "    <tr>\n",
        "      <th>3748072</th>\n",
        "      <td> ZUCCHINI JAM WITH PISTACHIO &amp; MASTIC (NATURAL)</td>\n",
        "      <td>                        XANTHAN GUM (GLUTEN FREE)</td>\n",
        "      <td>                                      [8909, 8696]</td>\n",
        "      <td> [10027, 10022, 9943, 9921, 9810, 9697, 9572, 9...</td>\n",
        "    </tr>\n",
        "    <tr>\n",
        "      <th>3748073</th>\n",
        "      <td> ZUCCHINI JAM WITH PISTACHIO &amp; MASTIC (NATURAL)</td>\n",
        "      <td>                                 YAKI NORI SHEETS</td>\n",
        "      <td>                                      [8909, 8696]</td>\n",
        "      <td>                                      [3142, 3087]</td>\n",
        "    </tr>\n",
        "    <tr>\n",
        "      <th>3748074</th>\n",
        "      <td> ZUCCHINI JAM WITH PISTACHIO &amp; MASTIC (NATURAL)</td>\n",
        "      <td>                                    YELLOW APPLES</td>\n",
        "      <td>                                      [8909, 8696]</td>\n",
        "      <td> [10316, 10203, 9983, 9946, 9884, 9782, 9731, 9...</td>\n",
        "    </tr>\n",
        "    <tr>\n",
        "      <th>3748075</th>\n",
        "      <td> ZUCCHINI JAM WITH PISTACHIO &amp; MASTIC (NATURAL)</td>\n",
        "      <td>                                  YELLOW BROCCOLI</td>\n",
        "      <td>                                      [8909, 8696]</td>\n",
        "      <td>                                      [1632, 1559]</td>\n",
        "    </tr>\n",
        "    <tr>\n",
        "      <th>3748076</th>\n",
        "      <td> ZUCCHINI JAM WITH PISTACHIO &amp; MASTIC (NATURAL)</td>\n",
        "      <td>                YELLOW CAPSICUM ( CHEMICAL FREE )</td>\n",
        "      <td>                                      [8909, 8696]</td>\n",
        "      <td>                                            [3319]</td>\n",
        "    </tr>\n",
        "    <tr>\n",
        "      <th>3748077</th>\n",
        "      <td> ZUCCHINI JAM WITH PISTACHIO &amp; MASTIC (NATURAL)</td>\n",
        "      <td>                  YELLOW CARROT ( CHEMICAL FREE )</td>\n",
        "      <td>                                      [8909, 8696]</td>\n",
        "      <td> [8657, 8487, 8447, 8440, 8416, 8402, 8376, 837...</td>\n",
        "    </tr>\n",
        "    <tr>\n",
        "      <th>3748078</th>\n",
        "      <td> ZUCCHINI JAM WITH PISTACHIO &amp; MASTIC (NATURAL)</td>\n",
        "      <td>                                   YELLOW CARROTS</td>\n",
        "      <td>                                      [8909, 8696]</td>\n",
        "      <td> [10085, 10082, 10065, 9919, 9819, 8649, 8620, ...</td>\n",
        "    </tr>\n",
        "    <tr>\n",
        "      <th>3748079</th>\n",
        "      <td> ZUCCHINI JAM WITH PISTACHIO &amp; MASTIC (NATURAL)</td>\n",
        "      <td>                           YELLOW CHERRY TOMATOES</td>\n",
        "      <td>                                      [8909, 8696]</td>\n",
        "      <td> [2493, 2489, 2484, 2461, 2438, 2410, 1657, 152...</td>\n",
        "    </tr>\n",
        "    <tr>\n",
        "      <th>3748080</th>\n",
        "      <td> ZUCCHINI JAM WITH PISTACHIO &amp; MASTIC (NATURAL)</td>\n",
        "      <td>                                YELLOW GRAPEFRUIT</td>\n",
        "      <td>                                      [8909, 8696]</td>\n",
        "      <td> [10204, 9969, 9968, 9946, 9501, 9495, 9478, 94...</td>\n",
        "    </tr>\n",
        "    <tr>\n",
        "      <th>3748081</th>\n",
        "      <td> ZUCCHINI JAM WITH PISTACHIO &amp; MASTIC (NATURAL)</td>\n",
        "      <td>                                   YELLOW MUSTARD</td>\n",
        "      <td>                                      [8909, 8696]</td>\n",
        "      <td>                 [10218, 10142, 10024, 9989, 9965]</td>\n",
        "    </tr>\n",
        "    <tr>\n",
        "      <th>3748082</th>\n",
        "      <td> ZUCCHINI JAM WITH PISTACHIO &amp; MASTIC (NATURAL)</td>\n",
        "      <td>                  YELLOW ONIONS ( CHEMICAL FREE )</td>\n",
        "      <td>                                      [8909, 8696]</td>\n",
        "      <td>                    [4200, 4130, 4129, 4090, 4062]</td>\n",
        "    </tr>\n",
        "    <tr>\n",
        "      <th>3748083</th>\n",
        "      <td> ZUCCHINI JAM WITH PISTACHIO &amp; MASTIC (NATURAL)</td>\n",
        "      <td>                                YELLOW SPLIT PEAS</td>\n",
        "      <td>                                      [8909, 8696]</td>\n",
        "      <td>              [2439, 2126, 1752, 1722, 1570, 1505]</td>\n",
        "    </tr>\n",
        "    <tr>\n",
        "      <th>3748084</th>\n",
        "      <td> ZUCCHINI JAM WITH PISTACHIO &amp; MASTIC (NATURAL)</td>\n",
        "      <td>                         YELLOW SPLIT PEAS - 822G</td>\n",
        "      <td>                                      [8909, 8696]</td>\n",
        "      <td>                                            [2923]</td>\n",
        "    </tr>\n",
        "    <tr>\n",
        "      <th>3748085</th>\n",
        "      <td> ZUCCHINI JAM WITH PISTACHIO &amp; MASTIC (NATURAL)</td>\n",
        "      <td>                                YELLOW WATERMELON</td>\n",
        "      <td>                                      [8909, 8696]</td>\n",
        "      <td>                                      [8840, 8624]</td>\n",
        "    </tr>\n",
        "    <tr>\n",
        "      <th>3748086</th>\n",
        "      <td> ZUCCHINI JAM WITH PISTACHIO &amp; MASTIC (NATURAL)</td>\n",
        "      <td>                       YING/YANG FACIAL ACNE SOAP</td>\n",
        "      <td>                                      [8909, 8696]</td>\n",
        "      <td>                                            [4596]</td>\n",
        "    </tr>\n",
        "    <tr>\n",
        "      <th>3748087</th>\n",
        "      <td> ZUCCHINI JAM WITH PISTACHIO &amp; MASTIC (NATURAL)</td>\n",
        "      <td>                              YOUSSFI (TANGERINE)</td>\n",
        "      <td>                                      [8909, 8696]</td>\n",
        "      <td>        [9813, 9808, 9731, 9694, 9693, 9675, 9653]</td>\n",
        "    </tr>\n",
        "    <tr>\n",
        "      <th>3748088</th>\n",
        "      <td> ZUCCHINI JAM WITH PISTACHIO &amp; MASTIC (NATURAL)</td>\n",
        "      <td>                     ZARDA EXTRA VIRGIN OLIVE OIL</td>\n",
        "      <td>                                      [8909, 8696]</td>\n",
        "      <td>                                            [3137]</td>\n",
        "    </tr>\n",
        "    <tr>\n",
        "      <th>3748089</th>\n",
        "      <td> ZUCCHINI JAM WITH PISTACHIO &amp; MASTIC (NATURAL)</td>\n",
        "      <td>                                         ZUCCHINI</td>\n",
        "      <td>                                      [8909, 8696]</td>\n",
        "      <td> [9861, 9804, 9803, 9796, 9793, 9787, 3228, 318...</td>\n",
        "    </tr>\n",
        "    <tr>\n",
        "      <th>3748090</th>\n",
        "      <td> ZUCCHINI JAM WITH PISTACHIO &amp; MASTIC (NATURAL)</td>\n",
        "      <td>                       ZUCCHINI ( CHEMICAL FREE )</td>\n",
        "      <td>                                      [8909, 8696]</td>\n",
        "      <td> [7988, 7985, 7980, 7967, 7932, 7926, 7912, 789...</td>\n",
        "    </tr>\n",
        "    <tr>\n",
        "      <th>3748091</th>\n",
        "      <td> ZUCCHINI JAM WITH PISTACHIO &amp; MASTIC (NATURAL)</td>\n",
        "      <td>                         ZUCCHINI (CHEMICAL FREE)</td>\n",
        "      <td>                                      [8909, 8696]</td>\n",
        "      <td> [10355, 10351, 10320, 10316, 10295, 10292, 102...</td>\n",
        "    </tr>\n",
        "    <tr>\n",
        "      <th>3748092</th>\n",
        "      <td> ZUCCHINI JAM WITH PISTACHIO &amp; MASTIC (NATURAL)</td>\n",
        "      <td>                               ZUCCHINI (ORGANIC)</td>\n",
        "      <td>                                      [8909, 8696]</td>\n",
        "      <td> [10321, 10306, 10218, 10213, 9474, 9372, 9349,...</td>\n",
        "    </tr>\n",
        "    <tr>\n",
        "      <th>3748093</th>\n",
        "      <td> ZUCCHINI JAM WITH PISTACHIO &amp; MASTIC (NATURAL)</td>\n",
        "      <td>                                 ZUCCHINI FLOWERS</td>\n",
        "      <td>                                      [8909, 8696]</td>\n",
        "      <td> [7411, 6501, 6483, 5413B, 5413A, 5413, 4676, 4...</td>\n",
        "    </tr>\n",
        "    <tr>\n",
        "      <th>3748094</th>\n",
        "      <td> ZUCCHINI JAM WITH PISTACHIO &amp; MASTIC (NATURAL)</td>\n",
        "      <td>                 ZUCCHINI FLOWERS (CHEMICAL FREE)</td>\n",
        "      <td>                                      [8909, 8696]</td>\n",
        "      <td>        [8216, 8200, 8082, 8060, 8019, 7983, 7933]</td>\n",
        "    </tr>\n",
        "    <tr>\n",
        "      <th>3748095</th>\n",
        "      <td> ZUCCHINI JAM WITH PISTACHIO &amp; MASTIC (NATURAL)</td>\n",
        "      <td>   ZUCCHINI JAM WITH PISTACHIO &amp; MASTIC (NATURAL)</td>\n",
        "      <td>                                      [8909, 8696]</td>\n",
        "      <td>                                      [8909, 8696]</td>\n",
        "    </tr>\n",
        "  </tbody>\n",
        "</table>\n",
        "<p>3748096 rows \u00d7 4 columns</p>\n",
        "</div>"
       ],
       "metadata": {},
       "output_type": "pyout",
       "prompt_number": 10,
       "text": [
        "                                               Product1  \\\n",
        "0                                          7 GRAIN MILK   \n",
        "1                                          7 GRAIN MILK   \n",
        "2                                          7 GRAIN MILK   \n",
        "3                                          7 GRAIN MILK   \n",
        "4                                          7 GRAIN MILK   \n",
        "5                                          7 GRAIN MILK   \n",
        "6                                          7 GRAIN MILK   \n",
        "7                                          7 GRAIN MILK   \n",
        "8                                          7 GRAIN MILK   \n",
        "9                                          7 GRAIN MILK   \n",
        "10                                         7 GRAIN MILK   \n",
        "11                                         7 GRAIN MILK   \n",
        "12                                         7 GRAIN MILK   \n",
        "13                                         7 GRAIN MILK   \n",
        "14                                         7 GRAIN MILK   \n",
        "15                                         7 GRAIN MILK   \n",
        "16                                         7 GRAIN MILK   \n",
        "17                                         7 GRAIN MILK   \n",
        "18                                         7 GRAIN MILK   \n",
        "19                                         7 GRAIN MILK   \n",
        "20                                         7 GRAIN MILK   \n",
        "21                                         7 GRAIN MILK   \n",
        "22                                         7 GRAIN MILK   \n",
        "23                                         7 GRAIN MILK   \n",
        "24                                         7 GRAIN MILK   \n",
        "25                                         7 GRAIN MILK   \n",
        "26                                         7 GRAIN MILK   \n",
        "27                                         7 GRAIN MILK   \n",
        "28                                         7 GRAIN MILK   \n",
        "29                                         7 GRAIN MILK   \n",
        "...                                                 ...   \n",
        "3748066  ZUCCHINI JAM WITH PISTACHIO & MASTIC (NATURAL)   \n",
        "3748067  ZUCCHINI JAM WITH PISTACHIO & MASTIC (NATURAL)   \n",
        "3748068  ZUCCHINI JAM WITH PISTACHIO & MASTIC (NATURAL)   \n",
        "3748069  ZUCCHINI JAM WITH PISTACHIO & MASTIC (NATURAL)   \n",
        "3748070  ZUCCHINI JAM WITH PISTACHIO & MASTIC (NATURAL)   \n",
        "3748071  ZUCCHINI JAM WITH PISTACHIO & MASTIC (NATURAL)   \n",
        "3748072  ZUCCHINI JAM WITH PISTACHIO & MASTIC (NATURAL)   \n",
        "3748073  ZUCCHINI JAM WITH PISTACHIO & MASTIC (NATURAL)   \n",
        "3748074  ZUCCHINI JAM WITH PISTACHIO & MASTIC (NATURAL)   \n",
        "3748075  ZUCCHINI JAM WITH PISTACHIO & MASTIC (NATURAL)   \n",
        "3748076  ZUCCHINI JAM WITH PISTACHIO & MASTIC (NATURAL)   \n",
        "3748077  ZUCCHINI JAM WITH PISTACHIO & MASTIC (NATURAL)   \n",
        "3748078  ZUCCHINI JAM WITH PISTACHIO & MASTIC (NATURAL)   \n",
        "3748079  ZUCCHINI JAM WITH PISTACHIO & MASTIC (NATURAL)   \n",
        "3748080  ZUCCHINI JAM WITH PISTACHIO & MASTIC (NATURAL)   \n",
        "3748081  ZUCCHINI JAM WITH PISTACHIO & MASTIC (NATURAL)   \n",
        "3748082  ZUCCHINI JAM WITH PISTACHIO & MASTIC (NATURAL)   \n",
        "3748083  ZUCCHINI JAM WITH PISTACHIO & MASTIC (NATURAL)   \n",
        "3748084  ZUCCHINI JAM WITH PISTACHIO & MASTIC (NATURAL)   \n",
        "3748085  ZUCCHINI JAM WITH PISTACHIO & MASTIC (NATURAL)   \n",
        "3748086  ZUCCHINI JAM WITH PISTACHIO & MASTIC (NATURAL)   \n",
        "3748087  ZUCCHINI JAM WITH PISTACHIO & MASTIC (NATURAL)   \n",
        "3748088  ZUCCHINI JAM WITH PISTACHIO & MASTIC (NATURAL)   \n",
        "3748089  ZUCCHINI JAM WITH PISTACHIO & MASTIC (NATURAL)   \n",
        "3748090  ZUCCHINI JAM WITH PISTACHIO & MASTIC (NATURAL)   \n",
        "3748091  ZUCCHINI JAM WITH PISTACHIO & MASTIC (NATURAL)   \n",
        "3748092  ZUCCHINI JAM WITH PISTACHIO & MASTIC (NATURAL)   \n",
        "3748093  ZUCCHINI JAM WITH PISTACHIO & MASTIC (NATURAL)   \n",
        "3748094  ZUCCHINI JAM WITH PISTACHIO & MASTIC (NATURAL)   \n",
        "3748095  ZUCCHINI JAM WITH PISTACHIO & MASTIC (NATURAL)   \n",
        "\n",
        "                                                 Product2  \\\n",
        "0                                            7 GRAIN MILK   \n",
        "1                                    7 GRAIN MILK - 946ML   \n",
        "2                                        ACAI BERRY JUICE   \n",
        "3                                        ACNE FACIAL SOAP   \n",
        "4                                 ACQUA PANA WATER 1000ML   \n",
        "5                                  ACQUA PANA WATER 500ML   \n",
        "6                            ACQUA PANA WATER 500ML GLASS   \n",
        "7                   ACTIBIF CHEESE (FOR BETTER DIGESTION)   \n",
        "8                AGAR AGAR FLAKES (HAND HARVESTED) - WILD   \n",
        "9                ALL PURPOSE BAKING FLOUR ( GLUTEN FREE )   \n",
        "10        ALL PURPOSE BAKING FLOUR ( GLUTEN FREE ) - 623G   \n",
        "11                 ALL PURPOSE BAKING FLOUR (GLUTEN FREE)   \n",
        "12       ALMOND BISCOTTI (GLUTEN FREE) - TRACES OF GLUTEN   \n",
        "13       ALMOND BISCUTIS (GLUTEN FREE) - TRACES OF GLUTEN   \n",
        "14                             ALMOND BREAD (GLUTEN FREE)   \n",
        "15                                          ALMOND BUTTER   \n",
        "16                              ALMOND BUTTER (HOME-MADE)   \n",
        "17                                ALMOND BUTTER (NATURAL)   \n",
        "18            ALMOND BUTTER WITH CINAMON RAISIN (NATURAL)   \n",
        "19                                      ALMOND MEAL FLOUR   \n",
        "20                                            ALMOND MILK   \n",
        "21                                ALMOND MILK ( ORGANIC )   \n",
        "22                          ALMOND MILK ( ORGANIC ) 946ML   \n",
        "23                               ALMOND MILK ( ORIGINAL )   \n",
        "24                     ALMOND MILK (ORGANIC) - SUGAR-FREE   \n",
        "25                              ALMOND MILK (UNSWEETENED)   \n",
        "26                                    ALMOND MILK - 946ML   \n",
        "27                             ALMOND ORIGINAL (ORIGINAL)   \n",
        "28                           ALMOND'S AND OATS BODY SCRUB   \n",
        "29                    ALMONDS SHELL ON - ROASTED & SALTED   \n",
        "...                                                   ...   \n",
        "3748066                               WILD SHRIMP (LARGE)   \n",
        "3748067                              WILD SHRIMP (MEDIUM)   \n",
        "3748068                               WILD SHRIMP (SMALL)   \n",
        "3748069                        WILD THYME (CHEMICAL FREE)   \n",
        "3748070                         WILD YELLOW FINTUNA STEAK   \n",
        "3748071                              WORMWOOD HERB POWDER   \n",
        "3748072                         XANTHAN GUM (GLUTEN FREE)   \n",
        "3748073                                  YAKI NORI SHEETS   \n",
        "3748074                                     YELLOW APPLES   \n",
        "3748075                                   YELLOW BROCCOLI   \n",
        "3748076                 YELLOW CAPSICUM ( CHEMICAL FREE )   \n",
        "3748077                   YELLOW CARROT ( CHEMICAL FREE )   \n",
        "3748078                                    YELLOW CARROTS   \n",
        "3748079                            YELLOW CHERRY TOMATOES   \n",
        "3748080                                 YELLOW GRAPEFRUIT   \n",
        "3748081                                    YELLOW MUSTARD   \n",
        "3748082                   YELLOW ONIONS ( CHEMICAL FREE )   \n",
        "3748083                                 YELLOW SPLIT PEAS   \n",
        "3748084                          YELLOW SPLIT PEAS - 822G   \n",
        "3748085                                 YELLOW WATERMELON   \n",
        "3748086                        YING/YANG FACIAL ACNE SOAP   \n",
        "3748087                               YOUSSFI (TANGERINE)   \n",
        "3748088                      ZARDA EXTRA VIRGIN OLIVE OIL   \n",
        "3748089                                          ZUCCHINI   \n",
        "3748090                        ZUCCHINI ( CHEMICAL FREE )   \n",
        "3748091                          ZUCCHINI (CHEMICAL FREE)   \n",
        "3748092                                ZUCCHINI (ORGANIC)   \n",
        "3748093                                  ZUCCHINI FLOWERS   \n",
        "3748094                  ZUCCHINI FLOWERS (CHEMICAL FREE)   \n",
        "3748095    ZUCCHINI JAM WITH PISTACHIO & MASTIC (NATURAL)   \n",
        "\n",
        "                                                    Order1  \\\n",
        "0        [2498, 2486, 2467, 2461, 2418, 2367, 2253, 225...   \n",
        "1        [2498, 2486, 2467, 2461, 2418, 2367, 2253, 225...   \n",
        "2        [2498, 2486, 2467, 2461, 2418, 2367, 2253, 225...   \n",
        "3        [2498, 2486, 2467, 2461, 2418, 2367, 2253, 225...   \n",
        "4        [2498, 2486, 2467, 2461, 2418, 2367, 2253, 225...   \n",
        "5        [2498, 2486, 2467, 2461, 2418, 2367, 2253, 225...   \n",
        "6        [2498, 2486, 2467, 2461, 2418, 2367, 2253, 225...   \n",
        "7        [2498, 2486, 2467, 2461, 2418, 2367, 2253, 225...   \n",
        "8        [2498, 2486, 2467, 2461, 2418, 2367, 2253, 225...   \n",
        "9        [2498, 2486, 2467, 2461, 2418, 2367, 2253, 225...   \n",
        "10       [2498, 2486, 2467, 2461, 2418, 2367, 2253, 225...   \n",
        "11       [2498, 2486, 2467, 2461, 2418, 2367, 2253, 225...   \n",
        "12       [2498, 2486, 2467, 2461, 2418, 2367, 2253, 225...   \n",
        "13       [2498, 2486, 2467, 2461, 2418, 2367, 2253, 225...   \n",
        "14       [2498, 2486, 2467, 2461, 2418, 2367, 2253, 225...   \n",
        "15       [2498, 2486, 2467, 2461, 2418, 2367, 2253, 225...   \n",
        "16       [2498, 2486, 2467, 2461, 2418, 2367, 2253, 225...   \n",
        "17       [2498, 2486, 2467, 2461, 2418, 2367, 2253, 225...   \n",
        "18       [2498, 2486, 2467, 2461, 2418, 2367, 2253, 225...   \n",
        "19       [2498, 2486, 2467, 2461, 2418, 2367, 2253, 225...   \n",
        "20       [2498, 2486, 2467, 2461, 2418, 2367, 2253, 225...   \n",
        "21       [2498, 2486, 2467, 2461, 2418, 2367, 2253, 225...   \n",
        "22       [2498, 2486, 2467, 2461, 2418, 2367, 2253, 225...   \n",
        "23       [2498, 2486, 2467, 2461, 2418, 2367, 2253, 225...   \n",
        "24       [2498, 2486, 2467, 2461, 2418, 2367, 2253, 225...   \n",
        "25       [2498, 2486, 2467, 2461, 2418, 2367, 2253, 225...   \n",
        "26       [2498, 2486, 2467, 2461, 2418, 2367, 2253, 225...   \n",
        "27       [2498, 2486, 2467, 2461, 2418, 2367, 2253, 225...   \n",
        "28       [2498, 2486, 2467, 2461, 2418, 2367, 2253, 225...   \n",
        "29       [2498, 2486, 2467, 2461, 2418, 2367, 2253, 225...   \n",
        "...                                                    ...   \n",
        "3748066                                       [8909, 8696]   \n",
        "3748067                                       [8909, 8696]   \n",
        "3748068                                       [8909, 8696]   \n",
        "3748069                                       [8909, 8696]   \n",
        "3748070                                       [8909, 8696]   \n",
        "3748071                                       [8909, 8696]   \n",
        "3748072                                       [8909, 8696]   \n",
        "3748073                                       [8909, 8696]   \n",
        "3748074                                       [8909, 8696]   \n",
        "3748075                                       [8909, 8696]   \n",
        "3748076                                       [8909, 8696]   \n",
        "3748077                                       [8909, 8696]   \n",
        "3748078                                       [8909, 8696]   \n",
        "3748079                                       [8909, 8696]   \n",
        "3748080                                       [8909, 8696]   \n",
        "3748081                                       [8909, 8696]   \n",
        "3748082                                       [8909, 8696]   \n",
        "3748083                                       [8909, 8696]   \n",
        "3748084                                       [8909, 8696]   \n",
        "3748085                                       [8909, 8696]   \n",
        "3748086                                       [8909, 8696]   \n",
        "3748087                                       [8909, 8696]   \n",
        "3748088                                       [8909, 8696]   \n",
        "3748089                                       [8909, 8696]   \n",
        "3748090                                       [8909, 8696]   \n",
        "3748091                                       [8909, 8696]   \n",
        "3748092                                       [8909, 8696]   \n",
        "3748093                                       [8909, 8696]   \n",
        "3748094                                       [8909, 8696]   \n",
        "3748095                                       [8909, 8696]   \n",
        "\n",
        "                                                    Order2  \n",
        "0        [2498, 2486, 2467, 2461, 2418, 2367, 2253, 225...  \n",
        "1                           [2714, 2691, 2533, 2529, 2514]  \n",
        "2                                     [10353, 10330, 3427]  \n",
        "3                                             [3940, 3606]  \n",
        "4                                                   [3088]  \n",
        "5                                                   [3088]  \n",
        "6                                                   [3088]  \n",
        "7        [9714, 9701, 9697, 9550, 9265, 9257, 8971, 890...  \n",
        "8        [10303, 10081, 9328, 8515, 8330, 8322, 8256, 7...  \n",
        "9        [9881, 9757, 9609, 9547, 9472, 9439, 9366, 929...  \n",
        "10       [4974, 4947, 4945, 4916, 4713, 4699, 4675, 465...  \n",
        "11       [10313, 10298, 10158, 10154, 10127, 10045, 920...  \n",
        "12                  [6958, 6780, 6562A, 6562, 6494A, 6494]  \n",
        "13                         [7216, 7125A, 7125, 6259, 6015]  \n",
        "14                    [9101, 9019, 8997, 8976, 8964, 8943]  \n",
        "15       [10357, 10344, 10336, 10327, 10326, 10295, 102...  \n",
        "16       [4586, 4556, 4547, 4517, 4498, 4492, 4465, 446...  \n",
        "17       [10350, 10346, 10303, 10276, 10198, 10142, 101...  \n",
        "18                                            [8585, 8486]  \n",
        "19       [10009, 9993, 9986, 9983, 9971, 9951, 9914, 98...  \n",
        "20       [2499, 2498, 2481, 2480, 2465, 2461, 2457, 245...  \n",
        "21                                            [3335, 3332]  \n",
        "22                                     [7134A, 7137, 7134]  \n",
        "23       [5669A, 5669, 5654, 5649A, 5649, 5618, 5558, 5...  \n",
        "24       [10170, 10149, 10033, 10027, 10003, 9963, 9947...  \n",
        "25                                      [4802, 4801, 4795]  \n",
        "26       [2828, 2599, 2596, 2594, 2585, 2583, 2579, 257...  \n",
        "27                                [4888, 4862, 4858, 4801]  \n",
        "28                                                  [4435]  \n",
        "29       [2224, 2177, 1747, 1690, 1435, 1358, 1342, 134...  \n",
        "...                                                    ...  \n",
        "3748066                                             [9963]  \n",
        "3748067  [10303, 10263, 10260, 10232, 10198, 10027, 997...  \n",
        "3748068          [10362, 10329, 10261, 10143, 10094, 9989]  \n",
        "3748069         [9977, 9542, 9468, 9319, 9014, 8679, 8082]  \n",
        "3748070                                            [10265]  \n",
        "3748071                                             [2389]  \n",
        "3748072  [10027, 10022, 9943, 9921, 9810, 9697, 9572, 9...  \n",
        "3748073                                       [3142, 3087]  \n",
        "3748074  [10316, 10203, 9983, 9946, 9884, 9782, 9731, 9...  \n",
        "3748075                                       [1632, 1559]  \n",
        "3748076                                             [3319]  \n",
        "3748077  [8657, 8487, 8447, 8440, 8416, 8402, 8376, 837...  \n",
        "3748078  [10085, 10082, 10065, 9919, 9819, 8649, 8620, ...  \n",
        "3748079  [2493, 2489, 2484, 2461, 2438, 2410, 1657, 152...  \n",
        "3748080  [10204, 9969, 9968, 9946, 9501, 9495, 9478, 94...  \n",
        "3748081                  [10218, 10142, 10024, 9989, 9965]  \n",
        "3748082                     [4200, 4130, 4129, 4090, 4062]  \n",
        "3748083               [2439, 2126, 1752, 1722, 1570, 1505]  \n",
        "3748084                                             [2923]  \n",
        "3748085                                       [8840, 8624]  \n",
        "3748086                                             [4596]  \n",
        "3748087         [9813, 9808, 9731, 9694, 9693, 9675, 9653]  \n",
        "3748088                                             [3137]  \n",
        "3748089  [9861, 9804, 9803, 9796, 9793, 9787, 3228, 318...  \n",
        "3748090  [7988, 7985, 7980, 7967, 7932, 7926, 7912, 789...  \n",
        "3748091  [10355, 10351, 10320, 10316, 10295, 10292, 102...  \n",
        "3748092  [10321, 10306, 10218, 10213, 9474, 9372, 9349,...  \n",
        "3748093  [7411, 6501, 6483, 5413B, 5413A, 5413, 4676, 4...  \n",
        "3748094         [8216, 8200, 8082, 8060, 8019, 7983, 7933]  \n",
        "3748095                                       [8909, 8696]  \n",
        "\n",
        "[3748096 rows x 4 columns]"
       ]
      }
     ],
     "prompt_number": 10
    },
    {
     "cell_type": "code",
     "collapsed": false,
     "input": [
      "df = df[df.Product1 != df.Product2]\n",
      "\n",
      "df['newcol'] = df.apply(lambda x: combineProds(x['Product1'], x['Product2']), axis=1)\n",
      "df = df.drop_duplicates('newcol').reset_index().drop('index', 1)\n",
      "df['Count'] = df.apply(lambda x: len(list(set(x['Order1']).intersection(x['Order2']))), axis=1)\n",
      "df = df[['Product1', 'Product2', 'Count']]\n",
      "\n",
      "df"
     ],
     "language": "python",
     "metadata": {},
     "outputs": [
      {
       "output_type": "stream",
       "stream": "stderr",
       "text": [
        "-c:3: SettingWithCopyWarning: \n",
        "A value is trying to be set on a copy of a slice from a DataFrame.\n",
        "Try using .loc[row_indexer,col_indexer] = value instead\n",
        "\n",
        "See the the caveats in the documentation: http://pandas.pydata.org/pandas-docs/stable/indexing.html#indexing-view-versus-copy\n"
       ]
      },
      {
       "html": [
        "<div style=\"max-height:1000px;max-width:1500px;overflow:auto;\">\n",
        "<table border=\"1\" class=\"dataframe\">\n",
        "  <thead>\n",
        "    <tr style=\"text-align: right;\">\n",
        "      <th></th>\n",
        "      <th>Product1</th>\n",
        "      <th>Product2</th>\n",
        "      <th>Count</th>\n",
        "    </tr>\n",
        "  </thead>\n",
        "  <tbody>\n",
        "    <tr>\n",
        "      <th>0      </th>\n",
        "      <td>                     7 GRAIN MILK</td>\n",
        "      <td>                             7 GRAIN MILK - 946ML</td>\n",
        "      <td> 0</td>\n",
        "    </tr>\n",
        "    <tr>\n",
        "      <th>1      </th>\n",
        "      <td>                     7 GRAIN MILK</td>\n",
        "      <td>                                 ACAI BERRY JUICE</td>\n",
        "      <td> 0</td>\n",
        "    </tr>\n",
        "    <tr>\n",
        "      <th>2      </th>\n",
        "      <td>                     7 GRAIN MILK</td>\n",
        "      <td>                                 ACNE FACIAL SOAP</td>\n",
        "      <td> 0</td>\n",
        "    </tr>\n",
        "    <tr>\n",
        "      <th>3      </th>\n",
        "      <td>                     7 GRAIN MILK</td>\n",
        "      <td>                          ACQUA PANA WATER 1000ML</td>\n",
        "      <td> 0</td>\n",
        "    </tr>\n",
        "    <tr>\n",
        "      <th>4      </th>\n",
        "      <td>                     7 GRAIN MILK</td>\n",
        "      <td>                           ACQUA PANA WATER 500ML</td>\n",
        "      <td> 0</td>\n",
        "    </tr>\n",
        "    <tr>\n",
        "      <th>5      </th>\n",
        "      <td>                     7 GRAIN MILK</td>\n",
        "      <td>                     ACQUA PANA WATER 500ML GLASS</td>\n",
        "      <td> 0</td>\n",
        "    </tr>\n",
        "    <tr>\n",
        "      <th>6      </th>\n",
        "      <td>                     7 GRAIN MILK</td>\n",
        "      <td>            ACTIBIF CHEESE (FOR BETTER DIGESTION)</td>\n",
        "      <td> 0</td>\n",
        "    </tr>\n",
        "    <tr>\n",
        "      <th>7      </th>\n",
        "      <td>                     7 GRAIN MILK</td>\n",
        "      <td>         AGAR AGAR FLAKES (HAND HARVESTED) - WILD</td>\n",
        "      <td> 0</td>\n",
        "    </tr>\n",
        "    <tr>\n",
        "      <th>8      </th>\n",
        "      <td>                     7 GRAIN MILK</td>\n",
        "      <td>         ALL PURPOSE BAKING FLOUR ( GLUTEN FREE )</td>\n",
        "      <td> 0</td>\n",
        "    </tr>\n",
        "    <tr>\n",
        "      <th>9      </th>\n",
        "      <td>                     7 GRAIN MILK</td>\n",
        "      <td>  ALL PURPOSE BAKING FLOUR ( GLUTEN FREE ) - 623G</td>\n",
        "      <td> 0</td>\n",
        "    </tr>\n",
        "    <tr>\n",
        "      <th>10     </th>\n",
        "      <td>                     7 GRAIN MILK</td>\n",
        "      <td>           ALL PURPOSE BAKING FLOUR (GLUTEN FREE)</td>\n",
        "      <td> 0</td>\n",
        "    </tr>\n",
        "    <tr>\n",
        "      <th>11     </th>\n",
        "      <td>                     7 GRAIN MILK</td>\n",
        "      <td> ALMOND BISCOTTI (GLUTEN FREE) - TRACES OF GLUTEN</td>\n",
        "      <td> 0</td>\n",
        "    </tr>\n",
        "    <tr>\n",
        "      <th>12     </th>\n",
        "      <td>                     7 GRAIN MILK</td>\n",
        "      <td> ALMOND BISCUTIS (GLUTEN FREE) - TRACES OF GLUTEN</td>\n",
        "      <td> 0</td>\n",
        "    </tr>\n",
        "    <tr>\n",
        "      <th>13     </th>\n",
        "      <td>                     7 GRAIN MILK</td>\n",
        "      <td>                       ALMOND BREAD (GLUTEN FREE)</td>\n",
        "      <td> 0</td>\n",
        "    </tr>\n",
        "    <tr>\n",
        "      <th>14     </th>\n",
        "      <td>                     7 GRAIN MILK</td>\n",
        "      <td>                                    ALMOND BUTTER</td>\n",
        "      <td> 0</td>\n",
        "    </tr>\n",
        "    <tr>\n",
        "      <th>15     </th>\n",
        "      <td>                     7 GRAIN MILK</td>\n",
        "      <td>                        ALMOND BUTTER (HOME-MADE)</td>\n",
        "      <td> 0</td>\n",
        "    </tr>\n",
        "    <tr>\n",
        "      <th>16     </th>\n",
        "      <td>                     7 GRAIN MILK</td>\n",
        "      <td>                          ALMOND BUTTER (NATURAL)</td>\n",
        "      <td> 0</td>\n",
        "    </tr>\n",
        "    <tr>\n",
        "      <th>17     </th>\n",
        "      <td>                     7 GRAIN MILK</td>\n",
        "      <td>      ALMOND BUTTER WITH CINAMON RAISIN (NATURAL)</td>\n",
        "      <td> 0</td>\n",
        "    </tr>\n",
        "    <tr>\n",
        "      <th>18     </th>\n",
        "      <td>                     7 GRAIN MILK</td>\n",
        "      <td>                                ALMOND MEAL FLOUR</td>\n",
        "      <td> 0</td>\n",
        "    </tr>\n",
        "    <tr>\n",
        "      <th>19     </th>\n",
        "      <td>                     7 GRAIN MILK</td>\n",
        "      <td>                                      ALMOND MILK</td>\n",
        "      <td> 7</td>\n",
        "    </tr>\n",
        "    <tr>\n",
        "      <th>20     </th>\n",
        "      <td>                     7 GRAIN MILK</td>\n",
        "      <td>                          ALMOND MILK ( ORGANIC )</td>\n",
        "      <td> 0</td>\n",
        "    </tr>\n",
        "    <tr>\n",
        "      <th>21     </th>\n",
        "      <td>                     7 GRAIN MILK</td>\n",
        "      <td>                    ALMOND MILK ( ORGANIC ) 946ML</td>\n",
        "      <td> 0</td>\n",
        "    </tr>\n",
        "    <tr>\n",
        "      <th>22     </th>\n",
        "      <td>                     7 GRAIN MILK</td>\n",
        "      <td>                         ALMOND MILK ( ORIGINAL )</td>\n",
        "      <td> 0</td>\n",
        "    </tr>\n",
        "    <tr>\n",
        "      <th>23     </th>\n",
        "      <td>                     7 GRAIN MILK</td>\n",
        "      <td>               ALMOND MILK (ORGANIC) - SUGAR-FREE</td>\n",
        "      <td> 0</td>\n",
        "    </tr>\n",
        "    <tr>\n",
        "      <th>24     </th>\n",
        "      <td>                     7 GRAIN MILK</td>\n",
        "      <td>                        ALMOND MILK (UNSWEETENED)</td>\n",
        "      <td> 0</td>\n",
        "    </tr>\n",
        "    <tr>\n",
        "      <th>25     </th>\n",
        "      <td>                     7 GRAIN MILK</td>\n",
        "      <td>                              ALMOND MILK - 946ML</td>\n",
        "      <td> 0</td>\n",
        "    </tr>\n",
        "    <tr>\n",
        "      <th>26     </th>\n",
        "      <td>                     7 GRAIN MILK</td>\n",
        "      <td>                       ALMOND ORIGINAL (ORIGINAL)</td>\n",
        "      <td> 0</td>\n",
        "    </tr>\n",
        "    <tr>\n",
        "      <th>27     </th>\n",
        "      <td>                     7 GRAIN MILK</td>\n",
        "      <td>                     ALMOND'S AND OATS BODY SCRUB</td>\n",
        "      <td> 0</td>\n",
        "    </tr>\n",
        "    <tr>\n",
        "      <th>28     </th>\n",
        "      <td>                     7 GRAIN MILK</td>\n",
        "      <td>              ALMONDS SHELL ON - ROASTED &amp; SALTED</td>\n",
        "      <td> 0</td>\n",
        "    </tr>\n",
        "    <tr>\n",
        "      <th>29     </th>\n",
        "      <td>                     7 GRAIN MILK</td>\n",
        "      <td>                                         AMARANTH</td>\n",
        "      <td> 0</td>\n",
        "    </tr>\n",
        "    <tr>\n",
        "      <th>...</th>\n",
        "      <td>...</td>\n",
        "      <td>...</td>\n",
        "      <td>...</td>\n",
        "    </tr>\n",
        "    <tr>\n",
        "      <th>1873050</th>\n",
        "      <td>              YOUSSFI (TANGERINE)</td>\n",
        "      <td>                 ZUCCHINI FLOWERS (CHEMICAL FREE)</td>\n",
        "      <td> 0</td>\n",
        "    </tr>\n",
        "    <tr>\n",
        "      <th>1873051</th>\n",
        "      <td>              YOUSSFI (TANGERINE)</td>\n",
        "      <td>   ZUCCHINI JAM WITH PISTACHIO &amp; MASTIC (NATURAL)</td>\n",
        "      <td> 0</td>\n",
        "    </tr>\n",
        "    <tr>\n",
        "      <th>1873052</th>\n",
        "      <td>     ZARDA EXTRA VIRGIN OLIVE OIL</td>\n",
        "      <td>                                         ZUCCHINI</td>\n",
        "      <td> 0</td>\n",
        "    </tr>\n",
        "    <tr>\n",
        "      <th>1873053</th>\n",
        "      <td>     ZARDA EXTRA VIRGIN OLIVE OIL</td>\n",
        "      <td>                       ZUCCHINI ( CHEMICAL FREE )</td>\n",
        "      <td> 0</td>\n",
        "    </tr>\n",
        "    <tr>\n",
        "      <th>1873054</th>\n",
        "      <td>     ZARDA EXTRA VIRGIN OLIVE OIL</td>\n",
        "      <td>                         ZUCCHINI (CHEMICAL FREE)</td>\n",
        "      <td> 0</td>\n",
        "    </tr>\n",
        "    <tr>\n",
        "      <th>1873055</th>\n",
        "      <td>     ZARDA EXTRA VIRGIN OLIVE OIL</td>\n",
        "      <td>                               ZUCCHINI (ORGANIC)</td>\n",
        "      <td> 0</td>\n",
        "    </tr>\n",
        "    <tr>\n",
        "      <th>1873056</th>\n",
        "      <td>     ZARDA EXTRA VIRGIN OLIVE OIL</td>\n",
        "      <td>                                 ZUCCHINI FLOWERS</td>\n",
        "      <td> 0</td>\n",
        "    </tr>\n",
        "    <tr>\n",
        "      <th>1873057</th>\n",
        "      <td>     ZARDA EXTRA VIRGIN OLIVE OIL</td>\n",
        "      <td>                 ZUCCHINI FLOWERS (CHEMICAL FREE)</td>\n",
        "      <td> 0</td>\n",
        "    </tr>\n",
        "    <tr>\n",
        "      <th>1873058</th>\n",
        "      <td>     ZARDA EXTRA VIRGIN OLIVE OIL</td>\n",
        "      <td>   ZUCCHINI JAM WITH PISTACHIO &amp; MASTIC (NATURAL)</td>\n",
        "      <td> 0</td>\n",
        "    </tr>\n",
        "    <tr>\n",
        "      <th>1873059</th>\n",
        "      <td>                         ZUCCHINI</td>\n",
        "      <td>                       ZUCCHINI ( CHEMICAL FREE )</td>\n",
        "      <td> 0</td>\n",
        "    </tr>\n",
        "    <tr>\n",
        "      <th>1873060</th>\n",
        "      <td>                         ZUCCHINI</td>\n",
        "      <td>                         ZUCCHINI (CHEMICAL FREE)</td>\n",
        "      <td> 0</td>\n",
        "    </tr>\n",
        "    <tr>\n",
        "      <th>1873061</th>\n",
        "      <td>                         ZUCCHINI</td>\n",
        "      <td>                               ZUCCHINI (ORGANIC)</td>\n",
        "      <td> 0</td>\n",
        "    </tr>\n",
        "    <tr>\n",
        "      <th>1873062</th>\n",
        "      <td>                         ZUCCHINI</td>\n",
        "      <td>                                 ZUCCHINI FLOWERS</td>\n",
        "      <td> 0</td>\n",
        "    </tr>\n",
        "    <tr>\n",
        "      <th>1873063</th>\n",
        "      <td>                         ZUCCHINI</td>\n",
        "      <td>                 ZUCCHINI FLOWERS (CHEMICAL FREE)</td>\n",
        "      <td> 0</td>\n",
        "    </tr>\n",
        "    <tr>\n",
        "      <th>1873064</th>\n",
        "      <td>                         ZUCCHINI</td>\n",
        "      <td>   ZUCCHINI JAM WITH PISTACHIO &amp; MASTIC (NATURAL)</td>\n",
        "      <td> 0</td>\n",
        "    </tr>\n",
        "    <tr>\n",
        "      <th>1873065</th>\n",
        "      <td>       ZUCCHINI ( CHEMICAL FREE )</td>\n",
        "      <td>                         ZUCCHINI (CHEMICAL FREE)</td>\n",
        "      <td> 3</td>\n",
        "    </tr>\n",
        "    <tr>\n",
        "      <th>1873066</th>\n",
        "      <td>       ZUCCHINI ( CHEMICAL FREE )</td>\n",
        "      <td>                               ZUCCHINI (ORGANIC)</td>\n",
        "      <td> 0</td>\n",
        "    </tr>\n",
        "    <tr>\n",
        "      <th>1873067</th>\n",
        "      <td>       ZUCCHINI ( CHEMICAL FREE )</td>\n",
        "      <td>                                 ZUCCHINI FLOWERS</td>\n",
        "      <td> 3</td>\n",
        "    </tr>\n",
        "    <tr>\n",
        "      <th>1873068</th>\n",
        "      <td>       ZUCCHINI ( CHEMICAL FREE )</td>\n",
        "      <td>                 ZUCCHINI FLOWERS (CHEMICAL FREE)</td>\n",
        "      <td> 0</td>\n",
        "    </tr>\n",
        "    <tr>\n",
        "      <th>1873069</th>\n",
        "      <td>       ZUCCHINI ( CHEMICAL FREE )</td>\n",
        "      <td>   ZUCCHINI JAM WITH PISTACHIO &amp; MASTIC (NATURAL)</td>\n",
        "      <td> 0</td>\n",
        "    </tr>\n",
        "    <tr>\n",
        "      <th>1873070</th>\n",
        "      <td>         ZUCCHINI (CHEMICAL FREE)</td>\n",
        "      <td>                               ZUCCHINI (ORGANIC)</td>\n",
        "      <td> 4</td>\n",
        "    </tr>\n",
        "    <tr>\n",
        "      <th>1873071</th>\n",
        "      <td>         ZUCCHINI (CHEMICAL FREE)</td>\n",
        "      <td>                                 ZUCCHINI FLOWERS</td>\n",
        "      <td> 0</td>\n",
        "    </tr>\n",
        "    <tr>\n",
        "      <th>1873072</th>\n",
        "      <td>         ZUCCHINI (CHEMICAL FREE)</td>\n",
        "      <td>                 ZUCCHINI FLOWERS (CHEMICAL FREE)</td>\n",
        "      <td> 0</td>\n",
        "    </tr>\n",
        "    <tr>\n",
        "      <th>1873073</th>\n",
        "      <td>         ZUCCHINI (CHEMICAL FREE)</td>\n",
        "      <td>   ZUCCHINI JAM WITH PISTACHIO &amp; MASTIC (NATURAL)</td>\n",
        "      <td> 0</td>\n",
        "    </tr>\n",
        "    <tr>\n",
        "      <th>1873074</th>\n",
        "      <td>               ZUCCHINI (ORGANIC)</td>\n",
        "      <td>                                 ZUCCHINI FLOWERS</td>\n",
        "      <td> 0</td>\n",
        "    </tr>\n",
        "    <tr>\n",
        "      <th>1873075</th>\n",
        "      <td>               ZUCCHINI (ORGANIC)</td>\n",
        "      <td>                 ZUCCHINI FLOWERS (CHEMICAL FREE)</td>\n",
        "      <td> 3</td>\n",
        "    </tr>\n",
        "    <tr>\n",
        "      <th>1873076</th>\n",
        "      <td>               ZUCCHINI (ORGANIC)</td>\n",
        "      <td>   ZUCCHINI JAM WITH PISTACHIO &amp; MASTIC (NATURAL)</td>\n",
        "      <td> 0</td>\n",
        "    </tr>\n",
        "    <tr>\n",
        "      <th>1873077</th>\n",
        "      <td>                 ZUCCHINI FLOWERS</td>\n",
        "      <td>                 ZUCCHINI FLOWERS (CHEMICAL FREE)</td>\n",
        "      <td> 0</td>\n",
        "    </tr>\n",
        "    <tr>\n",
        "      <th>1873078</th>\n",
        "      <td>                 ZUCCHINI FLOWERS</td>\n",
        "      <td>   ZUCCHINI JAM WITH PISTACHIO &amp; MASTIC (NATURAL)</td>\n",
        "      <td> 0</td>\n",
        "    </tr>\n",
        "    <tr>\n",
        "      <th>1873079</th>\n",
        "      <td> ZUCCHINI FLOWERS (CHEMICAL FREE)</td>\n",
        "      <td>   ZUCCHINI JAM WITH PISTACHIO &amp; MASTIC (NATURAL)</td>\n",
        "      <td> 0</td>\n",
        "    </tr>\n",
        "  </tbody>\n",
        "</table>\n",
        "<p>1873080 rows \u00d7 3 columns</p>\n",
        "</div>"
       ],
       "metadata": {},
       "output_type": "pyout",
       "prompt_number": 11,
       "text": [
        "                                 Product1  \\\n",
        "0                            7 GRAIN MILK   \n",
        "1                            7 GRAIN MILK   \n",
        "2                            7 GRAIN MILK   \n",
        "3                            7 GRAIN MILK   \n",
        "4                            7 GRAIN MILK   \n",
        "5                            7 GRAIN MILK   \n",
        "6                            7 GRAIN MILK   \n",
        "7                            7 GRAIN MILK   \n",
        "8                            7 GRAIN MILK   \n",
        "9                            7 GRAIN MILK   \n",
        "10                           7 GRAIN MILK   \n",
        "11                           7 GRAIN MILK   \n",
        "12                           7 GRAIN MILK   \n",
        "13                           7 GRAIN MILK   \n",
        "14                           7 GRAIN MILK   \n",
        "15                           7 GRAIN MILK   \n",
        "16                           7 GRAIN MILK   \n",
        "17                           7 GRAIN MILK   \n",
        "18                           7 GRAIN MILK   \n",
        "19                           7 GRAIN MILK   \n",
        "20                           7 GRAIN MILK   \n",
        "21                           7 GRAIN MILK   \n",
        "22                           7 GRAIN MILK   \n",
        "23                           7 GRAIN MILK   \n",
        "24                           7 GRAIN MILK   \n",
        "25                           7 GRAIN MILK   \n",
        "26                           7 GRAIN MILK   \n",
        "27                           7 GRAIN MILK   \n",
        "28                           7 GRAIN MILK   \n",
        "29                           7 GRAIN MILK   \n",
        "...                                   ...   \n",
        "1873050               YOUSSFI (TANGERINE)   \n",
        "1873051               YOUSSFI (TANGERINE)   \n",
        "1873052      ZARDA EXTRA VIRGIN OLIVE OIL   \n",
        "1873053      ZARDA EXTRA VIRGIN OLIVE OIL   \n",
        "1873054      ZARDA EXTRA VIRGIN OLIVE OIL   \n",
        "1873055      ZARDA EXTRA VIRGIN OLIVE OIL   \n",
        "1873056      ZARDA EXTRA VIRGIN OLIVE OIL   \n",
        "1873057      ZARDA EXTRA VIRGIN OLIVE OIL   \n",
        "1873058      ZARDA EXTRA VIRGIN OLIVE OIL   \n",
        "1873059                          ZUCCHINI   \n",
        "1873060                          ZUCCHINI   \n",
        "1873061                          ZUCCHINI   \n",
        "1873062                          ZUCCHINI   \n",
        "1873063                          ZUCCHINI   \n",
        "1873064                          ZUCCHINI   \n",
        "1873065        ZUCCHINI ( CHEMICAL FREE )   \n",
        "1873066        ZUCCHINI ( CHEMICAL FREE )   \n",
        "1873067        ZUCCHINI ( CHEMICAL FREE )   \n",
        "1873068        ZUCCHINI ( CHEMICAL FREE )   \n",
        "1873069        ZUCCHINI ( CHEMICAL FREE )   \n",
        "1873070          ZUCCHINI (CHEMICAL FREE)   \n",
        "1873071          ZUCCHINI (CHEMICAL FREE)   \n",
        "1873072          ZUCCHINI (CHEMICAL FREE)   \n",
        "1873073          ZUCCHINI (CHEMICAL FREE)   \n",
        "1873074                ZUCCHINI (ORGANIC)   \n",
        "1873075                ZUCCHINI (ORGANIC)   \n",
        "1873076                ZUCCHINI (ORGANIC)   \n",
        "1873077                  ZUCCHINI FLOWERS   \n",
        "1873078                  ZUCCHINI FLOWERS   \n",
        "1873079  ZUCCHINI FLOWERS (CHEMICAL FREE)   \n",
        "\n",
        "                                                 Product2  Count  \n",
        "0                                    7 GRAIN MILK - 946ML      0  \n",
        "1                                        ACAI BERRY JUICE      0  \n",
        "2                                        ACNE FACIAL SOAP      0  \n",
        "3                                 ACQUA PANA WATER 1000ML      0  \n",
        "4                                  ACQUA PANA WATER 500ML      0  \n",
        "5                            ACQUA PANA WATER 500ML GLASS      0  \n",
        "6                   ACTIBIF CHEESE (FOR BETTER DIGESTION)      0  \n",
        "7                AGAR AGAR FLAKES (HAND HARVESTED) - WILD      0  \n",
        "8                ALL PURPOSE BAKING FLOUR ( GLUTEN FREE )      0  \n",
        "9         ALL PURPOSE BAKING FLOUR ( GLUTEN FREE ) - 623G      0  \n",
        "10                 ALL PURPOSE BAKING FLOUR (GLUTEN FREE)      0  \n",
        "11       ALMOND BISCOTTI (GLUTEN FREE) - TRACES OF GLUTEN      0  \n",
        "12       ALMOND BISCUTIS (GLUTEN FREE) - TRACES OF GLUTEN      0  \n",
        "13                             ALMOND BREAD (GLUTEN FREE)      0  \n",
        "14                                          ALMOND BUTTER      0  \n",
        "15                              ALMOND BUTTER (HOME-MADE)      0  \n",
        "16                                ALMOND BUTTER (NATURAL)      0  \n",
        "17            ALMOND BUTTER WITH CINAMON RAISIN (NATURAL)      0  \n",
        "18                                      ALMOND MEAL FLOUR      0  \n",
        "19                                            ALMOND MILK      7  \n",
        "20                                ALMOND MILK ( ORGANIC )      0  \n",
        "21                          ALMOND MILK ( ORGANIC ) 946ML      0  \n",
        "22                               ALMOND MILK ( ORIGINAL )      0  \n",
        "23                     ALMOND MILK (ORGANIC) - SUGAR-FREE      0  \n",
        "24                              ALMOND MILK (UNSWEETENED)      0  \n",
        "25                                    ALMOND MILK - 946ML      0  \n",
        "26                             ALMOND ORIGINAL (ORIGINAL)      0  \n",
        "27                           ALMOND'S AND OATS BODY SCRUB      0  \n",
        "28                    ALMONDS SHELL ON - ROASTED & SALTED      0  \n",
        "29                                               AMARANTH      0  \n",
        "...                                                   ...    ...  \n",
        "1873050                  ZUCCHINI FLOWERS (CHEMICAL FREE)      0  \n",
        "1873051    ZUCCHINI JAM WITH PISTACHIO & MASTIC (NATURAL)      0  \n",
        "1873052                                          ZUCCHINI      0  \n",
        "1873053                        ZUCCHINI ( CHEMICAL FREE )      0  \n",
        "1873054                          ZUCCHINI (CHEMICAL FREE)      0  \n",
        "1873055                                ZUCCHINI (ORGANIC)      0  \n",
        "1873056                                  ZUCCHINI FLOWERS      0  \n",
        "1873057                  ZUCCHINI FLOWERS (CHEMICAL FREE)      0  \n",
        "1873058    ZUCCHINI JAM WITH PISTACHIO & MASTIC (NATURAL)      0  \n",
        "1873059                        ZUCCHINI ( CHEMICAL FREE )      0  \n",
        "1873060                          ZUCCHINI (CHEMICAL FREE)      0  \n",
        "1873061                                ZUCCHINI (ORGANIC)      0  \n",
        "1873062                                  ZUCCHINI FLOWERS      0  \n",
        "1873063                  ZUCCHINI FLOWERS (CHEMICAL FREE)      0  \n",
        "1873064    ZUCCHINI JAM WITH PISTACHIO & MASTIC (NATURAL)      0  \n",
        "1873065                          ZUCCHINI (CHEMICAL FREE)      3  \n",
        "1873066                                ZUCCHINI (ORGANIC)      0  \n",
        "1873067                                  ZUCCHINI FLOWERS      3  \n",
        "1873068                  ZUCCHINI FLOWERS (CHEMICAL FREE)      0  \n",
        "1873069    ZUCCHINI JAM WITH PISTACHIO & MASTIC (NATURAL)      0  \n",
        "1873070                                ZUCCHINI (ORGANIC)      4  \n",
        "1873071                                  ZUCCHINI FLOWERS      0  \n",
        "1873072                  ZUCCHINI FLOWERS (CHEMICAL FREE)      0  \n",
        "1873073    ZUCCHINI JAM WITH PISTACHIO & MASTIC (NATURAL)      0  \n",
        "1873074                                  ZUCCHINI FLOWERS      0  \n",
        "1873075                  ZUCCHINI FLOWERS (CHEMICAL FREE)      3  \n",
        "1873076    ZUCCHINI JAM WITH PISTACHIO & MASTIC (NATURAL)      0  \n",
        "1873077                  ZUCCHINI FLOWERS (CHEMICAL FREE)      0  \n",
        "1873078    ZUCCHINI JAM WITH PISTACHIO & MASTIC (NATURAL)      0  \n",
        "1873079    ZUCCHINI JAM WITH PISTACHIO & MASTIC (NATURAL)      0  \n",
        "\n",
        "[1873080 rows x 3 columns]"
       ]
      }
     ],
     "prompt_number": 11
    },
    {
     "cell_type": "code",
     "collapsed": false,
     "input": [
      "df = df[df.Count != 0]\n",
      "df = df.sort(['Count'], ascending=False).reset_index().drop('index', 1)\n",
      "\n",
      "df"
     ],
     "language": "python",
     "metadata": {},
     "outputs": [
      {
       "html": [
        "<div style=\"max-height:1000px;max-width:1500px;overflow:auto;\">\n",
        "<table border=\"1\" class=\"dataframe\">\n",
        "  <thead>\n",
        "    <tr style=\"text-align: right;\">\n",
        "      <th></th>\n",
        "      <th>Product1</th>\n",
        "      <th>Product2</th>\n",
        "      <th>Count</th>\n",
        "    </tr>\n",
        "  </thead>\n",
        "  <tbody>\n",
        "    <tr>\n",
        "      <th>0     </th>\n",
        "      <td>                     CUCUMBER ( CHEMICAL FREE )</td>\n",
        "      <td>               TOMATO ( CHEMICAL FREE )</td>\n",
        "      <td> 328</td>\n",
        "    </tr>\n",
        "    <tr>\n",
        "      <th>1     </th>\n",
        "      <td>                                       CUCUMBER</td>\n",
        "      <td>                               TOMATOES</td>\n",
        "      <td> 225</td>\n",
        "    </tr>\n",
        "    <tr>\n",
        "      <th>2     </th>\n",
        "      <td>                       TOMATO ( CHEMICAL FREE )</td>\n",
        "      <td>        YELLOW CARROT ( CHEMICAL FREE )</td>\n",
        "      <td> 216</td>\n",
        "    </tr>\n",
        "    <tr>\n",
        "      <th>3     </th>\n",
        "      <td>                     CUCUMBER ( CHEMICAL FREE )</td>\n",
        "      <td>        YELLOW CARROT ( CHEMICAL FREE )</td>\n",
        "      <td> 204</td>\n",
        "    </tr>\n",
        "    <tr>\n",
        "      <th>4     </th>\n",
        "      <td>                          CHICKEN BREASTS - 1KG</td>\n",
        "      <td>                    WHOLE CHICKEN - 1KG</td>\n",
        "      <td> 190</td>\n",
        "    </tr>\n",
        "    <tr>\n",
        "      <th>5     </th>\n",
        "      <td>                       TOMATO ( CHEMICAL FREE )</td>\n",
        "      <td>             ZUCCHINI ( CHEMICAL FREE )</td>\n",
        "      <td> 181</td>\n",
        "    </tr>\n",
        "    <tr>\n",
        "      <th>6     </th>\n",
        "      <td>                  BALADY EGGS ( CHEMICAL FREE )</td>\n",
        "      <td>               TOMATO ( CHEMICAL FREE )</td>\n",
        "      <td> 152</td>\n",
        "    </tr>\n",
        "    <tr>\n",
        "      <th>7     </th>\n",
        "      <td>                       CUCUMBER (CHEMICAL FREE)</td>\n",
        "      <td>               TOMATO ( CHEMICAL FREE )</td>\n",
        "      <td> 150</td>\n",
        "    </tr>\n",
        "    <tr>\n",
        "      <th>8     </th>\n",
        "      <td>                                       CUCUMBER</td>\n",
        "      <td>                               ZUCCHINI</td>\n",
        "      <td> 147</td>\n",
        "    </tr>\n",
        "    <tr>\n",
        "      <th>9     </th>\n",
        "      <td>                YELLOW CARROT ( CHEMICAL FREE )</td>\n",
        "      <td>             ZUCCHINI ( CHEMICAL FREE )</td>\n",
        "      <td> 146</td>\n",
        "    </tr>\n",
        "    <tr>\n",
        "      <th>10    </th>\n",
        "      <td>                     CUCUMBER ( CHEMICAL FREE )</td>\n",
        "      <td>             ZUCCHINI ( CHEMICAL FREE )</td>\n",
        "      <td> 144</td>\n",
        "    </tr>\n",
        "    <tr>\n",
        "      <th>11    </th>\n",
        "      <td>                                       TOMATOES</td>\n",
        "      <td>                               ZUCCHINI</td>\n",
        "      <td> 136</td>\n",
        "    </tr>\n",
        "    <tr>\n",
        "      <th>12    </th>\n",
        "      <td>                                         BANANA</td>\n",
        "      <td>                               CUCUMBER</td>\n",
        "      <td> 134</td>\n",
        "    </tr>\n",
        "    <tr>\n",
        "      <th>13    </th>\n",
        "      <td>                       POTATOES( CHEMICAL FREE)</td>\n",
        "      <td>               TOMATO ( CHEMICAL FREE )</td>\n",
        "      <td> 133</td>\n",
        "    </tr>\n",
        "    <tr>\n",
        "      <th>14    </th>\n",
        "      <td>                       POTATOES( CHEMICAL FREE)</td>\n",
        "      <td>        YELLOW CARROT ( CHEMICAL FREE )</td>\n",
        "      <td> 132</td>\n",
        "    </tr>\n",
        "    <tr>\n",
        "      <th>15    </th>\n",
        "      <td>                        BANANAS (CHEMICAL FREE)</td>\n",
        "      <td>               TOMATO ( CHEMICAL FREE )</td>\n",
        "      <td> 126</td>\n",
        "    </tr>\n",
        "    <tr>\n",
        "      <th>16    </th>\n",
        "      <td>                  BALADY EGGS ( CHEMICAL FREE )</td>\n",
        "      <td>        YELLOW CARROT ( CHEMICAL FREE )</td>\n",
        "      <td> 122</td>\n",
        "    </tr>\n",
        "    <tr>\n",
        "      <th>17    </th>\n",
        "      <td>          COLORED BELL PEPPER ( CHEMICAL FREE )</td>\n",
        "      <td>             CUCUMBER ( CHEMICAL FREE )</td>\n",
        "      <td> 120</td>\n",
        "    </tr>\n",
        "    <tr>\n",
        "      <th>18    </th>\n",
        "      <td>                                       TOMATOES</td>\n",
        "      <td>                         YELLOW CARROTS</td>\n",
        "      <td> 119</td>\n",
        "    </tr>\n",
        "    <tr>\n",
        "      <th>19    </th>\n",
        "      <td>                  BALADY EGGS ( CHEMICAL FREE )</td>\n",
        "      <td>             CUCUMBER ( CHEMICAL FREE )</td>\n",
        "      <td> 117</td>\n",
        "    </tr>\n",
        "    <tr>\n",
        "      <th>20    </th>\n",
        "      <td>                        BANANAS (CHEMICAL FREE)</td>\n",
        "      <td>        YELLOW CARROT ( CHEMICAL FREE )</td>\n",
        "      <td> 116</td>\n",
        "    </tr>\n",
        "    <tr>\n",
        "      <th>21    </th>\n",
        "      <td>                                       CUCUMBER</td>\n",
        "      <td>                         YELLOW CARROTS</td>\n",
        "      <td> 115</td>\n",
        "    </tr>\n",
        "    <tr>\n",
        "      <th>22    </th>\n",
        "      <td>                     CUCUMBER ( CHEMICAL FREE )</td>\n",
        "      <td>               POTATOES( CHEMICAL FREE)</td>\n",
        "      <td> 115</td>\n",
        "    </tr>\n",
        "    <tr>\n",
        "      <th>23    </th>\n",
        "      <td>          COLORED BELL PEPPER ( CHEMICAL FREE )</td>\n",
        "      <td>               TOMATO ( CHEMICAL FREE )</td>\n",
        "      <td> 114</td>\n",
        "    </tr>\n",
        "    <tr>\n",
        "      <th>24    </th>\n",
        "      <td>                                   BABY SPINACH</td>\n",
        "      <td>                                   KALE</td>\n",
        "      <td> 113</td>\n",
        "    </tr>\n",
        "    <tr>\n",
        "      <th>25    </th>\n",
        "      <td>                                           KIWI</td>\n",
        "      <td>               TOMATO ( CHEMICAL FREE )</td>\n",
        "      <td> 109</td>\n",
        "    </tr>\n",
        "    <tr>\n",
        "      <th>26    </th>\n",
        "      <td>                                         BANANA</td>\n",
        "      <td>                               TOMATOES</td>\n",
        "      <td> 107</td>\n",
        "    </tr>\n",
        "    <tr>\n",
        "      <th>27    </th>\n",
        "      <td>                         ARUGULA(CHEMICAL FREE)</td>\n",
        "      <td>               TOMATO ( CHEMICAL FREE )</td>\n",
        "      <td> 106</td>\n",
        "    </tr>\n",
        "    <tr>\n",
        "      <th>28    </th>\n",
        "      <td>                                       CUCUMBER</td>\n",
        "      <td>                               POTATOES</td>\n",
        "      <td> 105</td>\n",
        "    </tr>\n",
        "    <tr>\n",
        "      <th>29    </th>\n",
        "      <td>                                 YELLOW CARROTS</td>\n",
        "      <td>                               ZUCCHINI</td>\n",
        "      <td> 104</td>\n",
        "    </tr>\n",
        "    <tr>\n",
        "      <th>...</th>\n",
        "      <td>...</td>\n",
        "      <td>...</td>\n",
        "      <td>...</td>\n",
        "    </tr>\n",
        "    <tr>\n",
        "      <th>111475</th>\n",
        "      <td>                 DRIED CHERRIES (CHEMICAL FREE)</td>\n",
        "      <td>                        SALAD SEASONING</td>\n",
        "      <td>   1</td>\n",
        "    </tr>\n",
        "    <tr>\n",
        "      <th>111476</th>\n",
        "      <td>                 DRIED CHERRIES (CHEMICAL FREE)</td>\n",
        "      <td>                       SEA SALT GRINDER</td>\n",
        "      <td>   1</td>\n",
        "    </tr>\n",
        "    <tr>\n",
        "      <th>111477</th>\n",
        "      <td>                 DRIED CHERRIES (CHEMICAL FREE)</td>\n",
        "      <td>                 SMOKED SALMON (FROZEN)</td>\n",
        "      <td>   1</td>\n",
        "    </tr>\n",
        "    <tr>\n",
        "      <th>111478</th>\n",
        "      <td>                 DRIED CHERRIES (CHEMICAL FREE)</td>\n",
        "      <td>        SOYA MILK ( SPECIAL FOR COFFEE)</td>\n",
        "      <td>   1</td>\n",
        "    </tr>\n",
        "    <tr>\n",
        "      <th>111479</th>\n",
        "      <td>                 DRIED CHERRIES (CHEMICAL FREE)</td>\n",
        "      <td>     SPELT &amp; RYE CRACKERS (MIXED SEEDS)</td>\n",
        "      <td>   1</td>\n",
        "    </tr>\n",
        "    <tr>\n",
        "      <th>111480</th>\n",
        "      <td>                 DRIED CHERRIES (CHEMICAL FREE)</td>\n",
        "      <td> SPELT &amp; RYE CRACKERS (SUNFLOWER SEEDS)</td>\n",
        "      <td>   1</td>\n",
        "    </tr>\n",
        "    <tr>\n",
        "      <th>111481</th>\n",
        "      <td>                 DRIED CHERRIES (CHEMICAL FREE)</td>\n",
        "      <td>                 SPINACH(CHEMICAL FREE)</td>\n",
        "      <td>   1</td>\n",
        "    </tr>\n",
        "    <tr>\n",
        "      <th>111482</th>\n",
        "      <td>                 DRIED CHERRIES (CHEMICAL FREE)</td>\n",
        "      <td>           SPRING ONION (CHEMICAL FREE)</td>\n",
        "      <td>   1</td>\n",
        "    </tr>\n",
        "    <tr>\n",
        "      <th>111483</th>\n",
        "      <td>                     BALADY BREAD (WHOLE GRAIN)</td>\n",
        "      <td>                      RED PLUMS (LOCAL)</td>\n",
        "      <td>   1</td>\n",
        "    </tr>\n",
        "    <tr>\n",
        "      <th>111484</th>\n",
        "      <td>                 DRIED CHERRIES (CHEMICAL FREE)</td>\n",
        "      <td>                       SWEET PINEAPPLES</td>\n",
        "      <td>   1</td>\n",
        "    </tr>\n",
        "    <tr>\n",
        "      <th>111485</th>\n",
        "      <td>                 DRIED CHERRIES (CHEMICAL FREE)</td>\n",
        "      <td>          SWEET RED ORANGES(FOR EATING)</td>\n",
        "      <td>   1</td>\n",
        "    </tr>\n",
        "    <tr>\n",
        "      <th>111486</th>\n",
        "      <td>                 DRIED CHERRIES (CHEMICAL FREE)</td>\n",
        "      <td>         SWEET RED ORANGES(FOR JUICING)</td>\n",
        "      <td>   1</td>\n",
        "    </tr>\n",
        "    <tr>\n",
        "      <th>111487</th>\n",
        "      <td>                 DRIED CHERRIES (CHEMICAL FREE)</td>\n",
        "      <td>             SWISS CHARD(CHEMICAL FREE)</td>\n",
        "      <td>   1</td>\n",
        "    </tr>\n",
        "    <tr>\n",
        "      <th>111488</th>\n",
        "      <td>                 DRIED CHERRIES (CHEMICAL FREE)</td>\n",
        "      <td>                THYME ( CHEMICAL FREE )</td>\n",
        "      <td>   1</td>\n",
        "    </tr>\n",
        "    <tr>\n",
        "      <th>111489</th>\n",
        "      <td>                 DRIED CHERRIES (CHEMICAL FREE)</td>\n",
        "      <td>      TOAST BREAD FLOUR ( GLUTEN FREE )</td>\n",
        "      <td>   1</td>\n",
        "    </tr>\n",
        "    <tr>\n",
        "      <th>111490</th>\n",
        "      <td>                     BALADY BREAD (WHOLE GRAIN)</td>\n",
        "      <td>             RED PLUM ( CHEMICAL FREE )</td>\n",
        "      <td>   1</td>\n",
        "    </tr>\n",
        "    <tr>\n",
        "      <th>111491</th>\n",
        "      <td>                 DRIED CHERRIES (CHEMICAL FREE)</td>\n",
        "      <td>                             WATERCRESS</td>\n",
        "      <td>   1</td>\n",
        "    </tr>\n",
        "    <tr>\n",
        "      <th>111492</th>\n",
        "      <td>                 DRIED CHERRIES (CHEMICAL FREE)</td>\n",
        "      <td>                     WHEAT GERM MIRACLE</td>\n",
        "      <td>   1</td>\n",
        "    </tr>\n",
        "    <tr>\n",
        "      <th>111493</th>\n",
        "      <td>                 DRIED CHERRIES (CHEMICAL FREE)</td>\n",
        "      <td>       WHOLE GRAIN CRACKERS WITH GARLIC</td>\n",
        "      <td>   1</td>\n",
        "    </tr>\n",
        "    <tr>\n",
        "      <th>111494</th>\n",
        "      <td>                 DRIED CHERRIES (CHEMICAL FREE)</td>\n",
        "      <td>                   WHOLEGRAINS CRACKERS</td>\n",
        "      <td>   1</td>\n",
        "    </tr>\n",
        "    <tr>\n",
        "      <th>111495</th>\n",
        "      <td>                 DRIED CHERRIES (CHEMICAL FREE)</td>\n",
        "      <td>             ZUCCHINI ( CHEMICAL FREE )</td>\n",
        "      <td>   1</td>\n",
        "    </tr>\n",
        "    <tr>\n",
        "      <th>111496</th>\n",
        "      <td>                 DRIED CHERRIES (CHEMICAL FREE)</td>\n",
        "      <td>               ZUCCHINI (CHEMICAL FREE)</td>\n",
        "      <td>   1</td>\n",
        "    </tr>\n",
        "    <tr>\n",
        "      <th>111497</th>\n",
        "      <td>                     BALADY BREAD (WHOLE GRAIN)</td>\n",
        "      <td>    RED CHILLI PEPPER ( CHEMICAL FREE )</td>\n",
        "      <td>   1</td>\n",
        "    </tr>\n",
        "    <tr>\n",
        "      <th>111498</th>\n",
        "      <td>                   DRIED CHERRY (CHEMICAL FREE)</td>\n",
        "      <td>          DRIED PEPPERS (CHEMICAL FREE)</td>\n",
        "      <td>   1</td>\n",
        "    </tr>\n",
        "    <tr>\n",
        "      <th>111499</th>\n",
        "      <td>                   DRIED CHERRY (CHEMICAL FREE)</td>\n",
        "      <td>             DRIED PRUNE WITH PITS 250G</td>\n",
        "      <td>   1</td>\n",
        "    </tr>\n",
        "    <tr>\n",
        "      <th>111500</th>\n",
        "      <td>                   DRIED CHERRY (CHEMICAL FREE)</td>\n",
        "      <td>                           DRIED PRUNES</td>\n",
        "      <td>   1</td>\n",
        "    </tr>\n",
        "    <tr>\n",
        "      <th>111501</th>\n",
        "      <td>                     BALADY BREAD (WHOLE GRAIN)</td>\n",
        "      <td>              RAW WALNUT (SHELLED) 250G</td>\n",
        "      <td>   1</td>\n",
        "    </tr>\n",
        "    <tr>\n",
        "      <th>111502</th>\n",
        "      <td>                     BALADY BREAD (WHOLE GRAIN)</td>\n",
        "      <td>    RAW SUNFLOWER SEED ( SHELLED ) 566G</td>\n",
        "      <td>   1</td>\n",
        "    </tr>\n",
        "    <tr>\n",
        "      <th>111503</th>\n",
        "      <td>                   DRIED CHERRY (CHEMICAL FREE)</td>\n",
        "      <td>                DRIED TURKISH FIGS 250G</td>\n",
        "      <td>   1</td>\n",
        "    </tr>\n",
        "    <tr>\n",
        "      <th>111504</th>\n",
        "      <td> CREAM COOKIE - CHOCOLATE VANILLA (GLUTEN FREE)</td>\n",
        "      <td>             QUINOA PENNE (GLUTEN FREE)</td>\n",
        "      <td>   1</td>\n",
        "    </tr>\n",
        "  </tbody>\n",
        "</table>\n",
        "<p>111505 rows \u00d7 3 columns</p>\n",
        "</div>"
       ],
       "metadata": {},
       "output_type": "pyout",
       "prompt_number": 12,
       "text": [
        "                                              Product1  \\\n",
        "0                           CUCUMBER ( CHEMICAL FREE )   \n",
        "1                                             CUCUMBER   \n",
        "2                             TOMATO ( CHEMICAL FREE )   \n",
        "3                           CUCUMBER ( CHEMICAL FREE )   \n",
        "4                                CHICKEN BREASTS - 1KG   \n",
        "5                             TOMATO ( CHEMICAL FREE )   \n",
        "6                        BALADY EGGS ( CHEMICAL FREE )   \n",
        "7                             CUCUMBER (CHEMICAL FREE)   \n",
        "8                                             CUCUMBER   \n",
        "9                      YELLOW CARROT ( CHEMICAL FREE )   \n",
        "10                          CUCUMBER ( CHEMICAL FREE )   \n",
        "11                                            TOMATOES   \n",
        "12                                              BANANA   \n",
        "13                            POTATOES( CHEMICAL FREE)   \n",
        "14                            POTATOES( CHEMICAL FREE)   \n",
        "15                             BANANAS (CHEMICAL FREE)   \n",
        "16                       BALADY EGGS ( CHEMICAL FREE )   \n",
        "17               COLORED BELL PEPPER ( CHEMICAL FREE )   \n",
        "18                                            TOMATOES   \n",
        "19                       BALADY EGGS ( CHEMICAL FREE )   \n",
        "20                             BANANAS (CHEMICAL FREE)   \n",
        "21                                            CUCUMBER   \n",
        "22                          CUCUMBER ( CHEMICAL FREE )   \n",
        "23               COLORED BELL PEPPER ( CHEMICAL FREE )   \n",
        "24                                        BABY SPINACH   \n",
        "25                                                KIWI   \n",
        "26                                              BANANA   \n",
        "27                              ARUGULA(CHEMICAL FREE)   \n",
        "28                                            CUCUMBER   \n",
        "29                                      YELLOW CARROTS   \n",
        "...                                                ...   \n",
        "111475                  DRIED CHERRIES (CHEMICAL FREE)   \n",
        "111476                  DRIED CHERRIES (CHEMICAL FREE)   \n",
        "111477                  DRIED CHERRIES (CHEMICAL FREE)   \n",
        "111478                  DRIED CHERRIES (CHEMICAL FREE)   \n",
        "111479                  DRIED CHERRIES (CHEMICAL FREE)   \n",
        "111480                  DRIED CHERRIES (CHEMICAL FREE)   \n",
        "111481                  DRIED CHERRIES (CHEMICAL FREE)   \n",
        "111482                  DRIED CHERRIES (CHEMICAL FREE)   \n",
        "111483                      BALADY BREAD (WHOLE GRAIN)   \n",
        "111484                  DRIED CHERRIES (CHEMICAL FREE)   \n",
        "111485                  DRIED CHERRIES (CHEMICAL FREE)   \n",
        "111486                  DRIED CHERRIES (CHEMICAL FREE)   \n",
        "111487                  DRIED CHERRIES (CHEMICAL FREE)   \n",
        "111488                  DRIED CHERRIES (CHEMICAL FREE)   \n",
        "111489                  DRIED CHERRIES (CHEMICAL FREE)   \n",
        "111490                      BALADY BREAD (WHOLE GRAIN)   \n",
        "111491                  DRIED CHERRIES (CHEMICAL FREE)   \n",
        "111492                  DRIED CHERRIES (CHEMICAL FREE)   \n",
        "111493                  DRIED CHERRIES (CHEMICAL FREE)   \n",
        "111494                  DRIED CHERRIES (CHEMICAL FREE)   \n",
        "111495                  DRIED CHERRIES (CHEMICAL FREE)   \n",
        "111496                  DRIED CHERRIES (CHEMICAL FREE)   \n",
        "111497                      BALADY BREAD (WHOLE GRAIN)   \n",
        "111498                    DRIED CHERRY (CHEMICAL FREE)   \n",
        "111499                    DRIED CHERRY (CHEMICAL FREE)   \n",
        "111500                    DRIED CHERRY (CHEMICAL FREE)   \n",
        "111501                      BALADY BREAD (WHOLE GRAIN)   \n",
        "111502                      BALADY BREAD (WHOLE GRAIN)   \n",
        "111503                    DRIED CHERRY (CHEMICAL FREE)   \n",
        "111504  CREAM COOKIE - CHOCOLATE VANILLA (GLUTEN FREE)   \n",
        "\n",
        "                                      Product2  Count  \n",
        "0                     TOMATO ( CHEMICAL FREE )    328  \n",
        "1                                     TOMATOES    225  \n",
        "2              YELLOW CARROT ( CHEMICAL FREE )    216  \n",
        "3              YELLOW CARROT ( CHEMICAL FREE )    204  \n",
        "4                          WHOLE CHICKEN - 1KG    190  \n",
        "5                   ZUCCHINI ( CHEMICAL FREE )    181  \n",
        "6                     TOMATO ( CHEMICAL FREE )    152  \n",
        "7                     TOMATO ( CHEMICAL FREE )    150  \n",
        "8                                     ZUCCHINI    147  \n",
        "9                   ZUCCHINI ( CHEMICAL FREE )    146  \n",
        "10                  ZUCCHINI ( CHEMICAL FREE )    144  \n",
        "11                                    ZUCCHINI    136  \n",
        "12                                    CUCUMBER    134  \n",
        "13                    TOMATO ( CHEMICAL FREE )    133  \n",
        "14             YELLOW CARROT ( CHEMICAL FREE )    132  \n",
        "15                    TOMATO ( CHEMICAL FREE )    126  \n",
        "16             YELLOW CARROT ( CHEMICAL FREE )    122  \n",
        "17                  CUCUMBER ( CHEMICAL FREE )    120  \n",
        "18                              YELLOW CARROTS    119  \n",
        "19                  CUCUMBER ( CHEMICAL FREE )    117  \n",
        "20             YELLOW CARROT ( CHEMICAL FREE )    116  \n",
        "21                              YELLOW CARROTS    115  \n",
        "22                    POTATOES( CHEMICAL FREE)    115  \n",
        "23                    TOMATO ( CHEMICAL FREE )    114  \n",
        "24                                        KALE    113  \n",
        "25                    TOMATO ( CHEMICAL FREE )    109  \n",
        "26                                    TOMATOES    107  \n",
        "27                    TOMATO ( CHEMICAL FREE )    106  \n",
        "28                                    POTATOES    105  \n",
        "29                                    ZUCCHINI    104  \n",
        "...                                        ...    ...  \n",
        "111475                         SALAD SEASONING      1  \n",
        "111476                        SEA SALT GRINDER      1  \n",
        "111477                  SMOKED SALMON (FROZEN)      1  \n",
        "111478         SOYA MILK ( SPECIAL FOR COFFEE)      1  \n",
        "111479      SPELT & RYE CRACKERS (MIXED SEEDS)      1  \n",
        "111480  SPELT & RYE CRACKERS (SUNFLOWER SEEDS)      1  \n",
        "111481                  SPINACH(CHEMICAL FREE)      1  \n",
        "111482            SPRING ONION (CHEMICAL FREE)      1  \n",
        "111483                       RED PLUMS (LOCAL)      1  \n",
        "111484                        SWEET PINEAPPLES      1  \n",
        "111485           SWEET RED ORANGES(FOR EATING)      1  \n",
        "111486          SWEET RED ORANGES(FOR JUICING)      1  \n",
        "111487              SWISS CHARD(CHEMICAL FREE)      1  \n",
        "111488                 THYME ( CHEMICAL FREE )      1  \n",
        "111489       TOAST BREAD FLOUR ( GLUTEN FREE )      1  \n",
        "111490              RED PLUM ( CHEMICAL FREE )      1  \n",
        "111491                              WATERCRESS      1  \n",
        "111492                      WHEAT GERM MIRACLE      1  \n",
        "111493        WHOLE GRAIN CRACKERS WITH GARLIC      1  \n",
        "111494                    WHOLEGRAINS CRACKERS      1  \n",
        "111495              ZUCCHINI ( CHEMICAL FREE )      1  \n",
        "111496                ZUCCHINI (CHEMICAL FREE)      1  \n",
        "111497     RED CHILLI PEPPER ( CHEMICAL FREE )      1  \n",
        "111498           DRIED PEPPERS (CHEMICAL FREE)      1  \n",
        "111499              DRIED PRUNE WITH PITS 250G      1  \n",
        "111500                            DRIED PRUNES      1  \n",
        "111501               RAW WALNUT (SHELLED) 250G      1  \n",
        "111502     RAW SUNFLOWER SEED ( SHELLED ) 566G      1  \n",
        "111503                 DRIED TURKISH FIGS 250G      1  \n",
        "111504              QUINOA PENNE (GLUTEN FREE)      1  \n",
        "\n",
        "[111505 rows x 3 columns]"
       ]
      }
     ],
     "prompt_number": 12
    },
    {
     "cell_type": "code",
     "collapsed": false,
     "input": [],
     "language": "python",
     "metadata": {},
     "outputs": []
    }
   ],
   "metadata": {}
  }
 ]
}
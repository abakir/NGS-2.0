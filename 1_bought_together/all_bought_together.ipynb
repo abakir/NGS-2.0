{
 "metadata": {
  "name": "",
  "signature": "sha256:020c6b8a8e996ecd58fc7d149a39d99b0609b36a3dec69ca07aa683cb3725a30"
 },
 "nbformat": 3,
 "nbformat_minor": 0,
 "worksheets": [
  {
   "cells": [
    {
     "cell_type": "code",
     "collapsed": false,
     "input": [
      "import pandas as pd\n",
      "#import yaml\n",
      "\n",
      "#with open(\"config.yaml\", 'r') as ymlfile:\n",
      "    #cfg = yaml.load(ymlfile)\n",
      "\n",
      "#df = pd.read_csv(cfg['root'] + cfg['dir_data_shopify'] + cfg[\"ip_orders\"], low_memory=False)\n",
      "\n",
      "df = pd.read_csv('C:\\Users\\saisree849\\Documents\\GitHub\\NGS-2.0\\data_input\\shopify\\orders_export.csv', low_memory=False)"
     ],
     "language": "python",
     "metadata": {},
     "outputs": [],
     "prompt_number": 7
    },
    {
     "cell_type": "code",
     "collapsed": false,
     "input": [
      "# rows of type 21 and 12 are same, retain one instance of such rows\n",
      "def combineProds(name1, name2):\n",
      "    if name1 < name2:\n",
      "        return name1 + \",\" + name2\n",
      "    else:\n",
      "        return name2 + \",\" + name1"
     ],
     "language": "python",
     "metadata": {},
     "outputs": [],
     "prompt_number": 8
    },
    {
     "cell_type": "code",
     "collapsed": false,
     "input": [
      "# get required columns and rename\n",
      "df = df[['Name', 'Lineitem name']]\n",
      "df.columns = ['Order_id', 'Product']\n",
      "\n",
      "# change product names to upper, remove duplicates, group the orders with same product\n",
      "df['Product'] = df.Product.apply(lambda x: x.upper())\n",
      "df = df.drop_duplicates().reset_index().drop('index', 1)\n",
      "df = df.groupby(['Product'], axis=0, as_index=False)['Order_id'].sum()\n",
      "# will be changed into a list by splitting with # (the start of order number)\n",
      "df['Order_id'] = df.Order_id.apply(lambda x: x.split(\"#\"))\n",
      "# remove the first , in the list\n",
      "df['Order_id'] = df.Order_id.apply(lambda x: x[1:])\n",
      "\n",
      "df.head()"
     ],
     "language": "python",
     "metadata": {},
     "outputs": [
      {
       "html": [
        "<div style=\"max-height:1000px;max-width:1500px;overflow:auto;\">\n",
        "<table border=\"1\" class=\"dataframe\">\n",
        "  <thead>\n",
        "    <tr style=\"text-align: right;\">\n",
        "      <th></th>\n",
        "      <th>Product</th>\n",
        "      <th>Order_id</th>\n",
        "    </tr>\n",
        "  </thead>\n",
        "  <tbody>\n",
        "    <tr>\n",
        "      <th>0</th>\n",
        "      <td>            7 GRAIN MILK</td>\n",
        "      <td> [2498, 2486, 2467, 2461, 2418, 2367, 2253, 225...</td>\n",
        "    </tr>\n",
        "    <tr>\n",
        "      <th>1</th>\n",
        "      <td>    7 GRAIN MILK - 946ML</td>\n",
        "      <td>                    [2714, 2691, 2533, 2529, 2514]</td>\n",
        "    </tr>\n",
        "    <tr>\n",
        "      <th>2</th>\n",
        "      <td>        ACAI BERRY JUICE</td>\n",
        "      <td>                              [10353, 10330, 3427]</td>\n",
        "    </tr>\n",
        "    <tr>\n",
        "      <th>3</th>\n",
        "      <td>        ACNE FACIAL SOAP</td>\n",
        "      <td>                                      [3940, 3606]</td>\n",
        "    </tr>\n",
        "    <tr>\n",
        "      <th>4</th>\n",
        "      <td> ACQUA PANA WATER 1000ML</td>\n",
        "      <td>                                            [3088]</td>\n",
        "    </tr>\n",
        "  </tbody>\n",
        "</table>\n",
        "</div>"
       ],
       "metadata": {},
       "output_type": "pyout",
       "prompt_number": 9,
       "text": [
        "                   Product                                           Order_id\n",
        "0             7 GRAIN MILK  [2498, 2486, 2467, 2461, 2418, 2367, 2253, 225...\n",
        "1     7 GRAIN MILK - 946ML                     [2714, 2691, 2533, 2529, 2514]\n",
        "2         ACAI BERRY JUICE                               [10353, 10330, 3427]\n",
        "3         ACNE FACIAL SOAP                                       [3940, 3606]\n",
        "4  ACQUA PANA WATER 1000ML                                             [3088]"
       ]
      }
     ],
     "prompt_number": 9
    },
    {
     "cell_type": "code",
     "collapsed": false,
     "input": [
      "key = []\n",
      "for i in range(0, max(df.index)+1):\n",
      "    key.append(1)\n",
      "df['key'] = key\n",
      "\n",
      "df.columns = ['Product1', 'Order1', 'key']\n",
      "df1 = pd.DataFrame(columns = ['key', 'Product2', 'Order2'])\n",
      "\n",
      "df1['key'] = df['key']\n",
      "df1['Product2'] = df['Product1']\n",
      "df1['Order2'] = df['Order1']\n",
      "\n",
      "#cartesian product\n",
      "df = pd.merge(df, df1,on='key')[['Product1', 'Product2', 'Order1', 'Order2']]\n",
      "\n",
      "df.head()"
     ],
     "language": "python",
     "metadata": {},
     "outputs": [
      {
       "html": [
        "<div style=\"max-height:1000px;max-width:1500px;overflow:auto;\">\n",
        "<table border=\"1\" class=\"dataframe\">\n",
        "  <thead>\n",
        "    <tr style=\"text-align: right;\">\n",
        "      <th></th>\n",
        "      <th>Product1</th>\n",
        "      <th>Product2</th>\n",
        "      <th>Order1</th>\n",
        "      <th>Order2</th>\n",
        "    </tr>\n",
        "  </thead>\n",
        "  <tbody>\n",
        "    <tr>\n",
        "      <th>0</th>\n",
        "      <td> 7 GRAIN MILK</td>\n",
        "      <td>            7 GRAIN MILK</td>\n",
        "      <td> [2498, 2486, 2467, 2461, 2418, 2367, 2253, 225...</td>\n",
        "      <td> [2498, 2486, 2467, 2461, 2418, 2367, 2253, 225...</td>\n",
        "    </tr>\n",
        "    <tr>\n",
        "      <th>1</th>\n",
        "      <td> 7 GRAIN MILK</td>\n",
        "      <td>    7 GRAIN MILK - 946ML</td>\n",
        "      <td> [2498, 2486, 2467, 2461, 2418, 2367, 2253, 225...</td>\n",
        "      <td>                    [2714, 2691, 2533, 2529, 2514]</td>\n",
        "    </tr>\n",
        "    <tr>\n",
        "      <th>2</th>\n",
        "      <td> 7 GRAIN MILK</td>\n",
        "      <td>        ACAI BERRY JUICE</td>\n",
        "      <td> [2498, 2486, 2467, 2461, 2418, 2367, 2253, 225...</td>\n",
        "      <td>                              [10353, 10330, 3427]</td>\n",
        "    </tr>\n",
        "    <tr>\n",
        "      <th>3</th>\n",
        "      <td> 7 GRAIN MILK</td>\n",
        "      <td>        ACNE FACIAL SOAP</td>\n",
        "      <td> [2498, 2486, 2467, 2461, 2418, 2367, 2253, 225...</td>\n",
        "      <td>                                      [3940, 3606]</td>\n",
        "    </tr>\n",
        "    <tr>\n",
        "      <th>4</th>\n",
        "      <td> 7 GRAIN MILK</td>\n",
        "      <td> ACQUA PANA WATER 1000ML</td>\n",
        "      <td> [2498, 2486, 2467, 2461, 2418, 2367, 2253, 225...</td>\n",
        "      <td>                                            [3088]</td>\n",
        "    </tr>\n",
        "  </tbody>\n",
        "</table>\n",
        "</div>"
       ],
       "metadata": {},
       "output_type": "pyout",
       "prompt_number": 10,
       "text": [
        "       Product1                 Product2  \\\n",
        "0  7 GRAIN MILK             7 GRAIN MILK   \n",
        "1  7 GRAIN MILK     7 GRAIN MILK - 946ML   \n",
        "2  7 GRAIN MILK         ACAI BERRY JUICE   \n",
        "3  7 GRAIN MILK         ACNE FACIAL SOAP   \n",
        "4  7 GRAIN MILK  ACQUA PANA WATER 1000ML   \n",
        "\n",
        "                                              Order1  \\\n",
        "0  [2498, 2486, 2467, 2461, 2418, 2367, 2253, 225...   \n",
        "1  [2498, 2486, 2467, 2461, 2418, 2367, 2253, 225...   \n",
        "2  [2498, 2486, 2467, 2461, 2418, 2367, 2253, 225...   \n",
        "3  [2498, 2486, 2467, 2461, 2418, 2367, 2253, 225...   \n",
        "4  [2498, 2486, 2467, 2461, 2418, 2367, 2253, 225...   \n",
        "\n",
        "                                              Order2  \n",
        "0  [2498, 2486, 2467, 2461, 2418, 2367, 2253, 225...  \n",
        "1                     [2714, 2691, 2533, 2529, 2514]  \n",
        "2                               [10353, 10330, 3427]  \n",
        "3                                       [3940, 3606]  \n",
        "4                                             [3088]  "
       ]
      }
     ],
     "prompt_number": 10
    },
    {
     "cell_type": "code",
     "collapsed": false,
     "input": [
      "df = df[df.Product1 != df.Product2]\n",
      "\n",
      "df['newcol'] = df.apply(lambda x: combineProds(x['Product1'], x['Product2']), axis=1)\n",
      "df = df.drop_duplicates('newcol').reset_index().drop('index', 1)\n",
      "df.head()"
     ],
     "language": "python",
     "metadata": {},
     "outputs": [
      {
       "html": [
        "<div style=\"max-height:1000px;max-width:1500px;overflow:auto;\">\n",
        "<table border=\"1\" class=\"dataframe\">\n",
        "  <thead>\n",
        "    <tr style=\"text-align: right;\">\n",
        "      <th></th>\n",
        "      <th>Product1</th>\n",
        "      <th>Product2</th>\n",
        "      <th>Order1</th>\n",
        "      <th>Order2</th>\n",
        "      <th>newcol</th>\n",
        "    </tr>\n",
        "  </thead>\n",
        "  <tbody>\n",
        "    <tr>\n",
        "      <th>0</th>\n",
        "      <td> 7 GRAIN MILK</td>\n",
        "      <td>    7 GRAIN MILK - 946ML</td>\n",
        "      <td> [2498, 2486, 2467, 2461, 2418, 2367, 2253, 225...</td>\n",
        "      <td> [2714, 2691, 2533, 2529, 2514]</td>\n",
        "      <td>    7 GRAIN MILK,7 GRAIN MILK - 946ML</td>\n",
        "    </tr>\n",
        "    <tr>\n",
        "      <th>1</th>\n",
        "      <td> 7 GRAIN MILK</td>\n",
        "      <td>        ACAI BERRY JUICE</td>\n",
        "      <td> [2498, 2486, 2467, 2461, 2418, 2367, 2253, 225...</td>\n",
        "      <td>           [10353, 10330, 3427]</td>\n",
        "      <td>        7 GRAIN MILK,ACAI BERRY JUICE</td>\n",
        "    </tr>\n",
        "    <tr>\n",
        "      <th>2</th>\n",
        "      <td> 7 GRAIN MILK</td>\n",
        "      <td>        ACNE FACIAL SOAP</td>\n",
        "      <td> [2498, 2486, 2467, 2461, 2418, 2367, 2253, 225...</td>\n",
        "      <td>                   [3940, 3606]</td>\n",
        "      <td>        7 GRAIN MILK,ACNE FACIAL SOAP</td>\n",
        "    </tr>\n",
        "    <tr>\n",
        "      <th>3</th>\n",
        "      <td> 7 GRAIN MILK</td>\n",
        "      <td> ACQUA PANA WATER 1000ML</td>\n",
        "      <td> [2498, 2486, 2467, 2461, 2418, 2367, 2253, 225...</td>\n",
        "      <td>                         [3088]</td>\n",
        "      <td> 7 GRAIN MILK,ACQUA PANA WATER 1000ML</td>\n",
        "    </tr>\n",
        "    <tr>\n",
        "      <th>4</th>\n",
        "      <td> 7 GRAIN MILK</td>\n",
        "      <td>  ACQUA PANA WATER 500ML</td>\n",
        "      <td> [2498, 2486, 2467, 2461, 2418, 2367, 2253, 225...</td>\n",
        "      <td>                         [3088]</td>\n",
        "      <td>  7 GRAIN MILK,ACQUA PANA WATER 500ML</td>\n",
        "    </tr>\n",
        "  </tbody>\n",
        "</table>\n",
        "</div>"
       ],
       "metadata": {},
       "output_type": "pyout",
       "prompt_number": 11,
       "text": [
        "       Product1                 Product2  \\\n",
        "0  7 GRAIN MILK     7 GRAIN MILK - 946ML   \n",
        "1  7 GRAIN MILK         ACAI BERRY JUICE   \n",
        "2  7 GRAIN MILK         ACNE FACIAL SOAP   \n",
        "3  7 GRAIN MILK  ACQUA PANA WATER 1000ML   \n",
        "4  7 GRAIN MILK   ACQUA PANA WATER 500ML   \n",
        "\n",
        "                                              Order1  \\\n",
        "0  [2498, 2486, 2467, 2461, 2418, 2367, 2253, 225...   \n",
        "1  [2498, 2486, 2467, 2461, 2418, 2367, 2253, 225...   \n",
        "2  [2498, 2486, 2467, 2461, 2418, 2367, 2253, 225...   \n",
        "3  [2498, 2486, 2467, 2461, 2418, 2367, 2253, 225...   \n",
        "4  [2498, 2486, 2467, 2461, 2418, 2367, 2253, 225...   \n",
        "\n",
        "                           Order2                                newcol  \n",
        "0  [2714, 2691, 2533, 2529, 2514]     7 GRAIN MILK,7 GRAIN MILK - 946ML  \n",
        "1            [10353, 10330, 3427]         7 GRAIN MILK,ACAI BERRY JUICE  \n",
        "2                    [3940, 3606]         7 GRAIN MILK,ACNE FACIAL SOAP  \n",
        "3                          [3088]  7 GRAIN MILK,ACQUA PANA WATER 1000ML  \n",
        "4                          [3088]   7 GRAIN MILK,ACQUA PANA WATER 500ML  "
       ]
      }
     ],
     "prompt_number": 11
    },
    {
     "cell_type": "code",
     "collapsed": false,
     "input": [
      "df.loc[:,'Count'] = df.apply(lambda x: len(list(set(x['Order1']).intersection(x['Order2']))), axis=1)\n",
      "df = df[['Product1', 'Product2', 'Count']]\n",
      "\n",
      "df.head()"
     ],
     "language": "python",
     "metadata": {},
     "outputs": [
      {
       "html": [
        "<div style=\"max-height:1000px;max-width:1500px;overflow:auto;\">\n",
        "<table border=\"1\" class=\"dataframe\">\n",
        "  <thead>\n",
        "    <tr style=\"text-align: right;\">\n",
        "      <th></th>\n",
        "      <th>Product1</th>\n",
        "      <th>Product2</th>\n",
        "      <th>Count</th>\n",
        "    </tr>\n",
        "  </thead>\n",
        "  <tbody>\n",
        "    <tr>\n",
        "      <th>0</th>\n",
        "      <td> 7 GRAIN MILK</td>\n",
        "      <td>    7 GRAIN MILK - 946ML</td>\n",
        "      <td> 0</td>\n",
        "    </tr>\n",
        "    <tr>\n",
        "      <th>1</th>\n",
        "      <td> 7 GRAIN MILK</td>\n",
        "      <td>        ACAI BERRY JUICE</td>\n",
        "      <td> 0</td>\n",
        "    </tr>\n",
        "    <tr>\n",
        "      <th>2</th>\n",
        "      <td> 7 GRAIN MILK</td>\n",
        "      <td>        ACNE FACIAL SOAP</td>\n",
        "      <td> 0</td>\n",
        "    </tr>\n",
        "    <tr>\n",
        "      <th>3</th>\n",
        "      <td> 7 GRAIN MILK</td>\n",
        "      <td> ACQUA PANA WATER 1000ML</td>\n",
        "      <td> 0</td>\n",
        "    </tr>\n",
        "    <tr>\n",
        "      <th>4</th>\n",
        "      <td> 7 GRAIN MILK</td>\n",
        "      <td>  ACQUA PANA WATER 500ML</td>\n",
        "      <td> 0</td>\n",
        "    </tr>\n",
        "  </tbody>\n",
        "</table>\n",
        "</div>"
       ],
       "metadata": {},
       "output_type": "pyout",
       "prompt_number": 12,
       "text": [
        "       Product1                 Product2  Count\n",
        "0  7 GRAIN MILK     7 GRAIN MILK - 946ML      0\n",
        "1  7 GRAIN MILK         ACAI BERRY JUICE      0\n",
        "2  7 GRAIN MILK         ACNE FACIAL SOAP      0\n",
        "3  7 GRAIN MILK  ACQUA PANA WATER 1000ML      0\n",
        "4  7 GRAIN MILK   ACQUA PANA WATER 500ML      0"
       ]
      }
     ],
     "prompt_number": 12
    },
    {
     "cell_type": "code",
     "collapsed": false,
     "input": [
      "df = df[df.Count != 0]\n",
      "df = df.sort(['Count'], ascending=False).reset_index().drop('index', 1)\n",
      "df.head()"
     ],
     "language": "python",
     "metadata": {},
     "outputs": [
      {
       "html": [
        "<div style=\"max-height:1000px;max-width:1500px;overflow:auto;\">\n",
        "<table border=\"1\" class=\"dataframe\">\n",
        "  <thead>\n",
        "    <tr style=\"text-align: right;\">\n",
        "      <th></th>\n",
        "      <th>Product1</th>\n",
        "      <th>Product2</th>\n",
        "      <th>Count</th>\n",
        "    </tr>\n",
        "  </thead>\n",
        "  <tbody>\n",
        "    <tr>\n",
        "      <th>0</th>\n",
        "      <td> CUCUMBER ( CHEMICAL FREE )</td>\n",
        "      <td>        TOMATO ( CHEMICAL FREE )</td>\n",
        "      <td> 328</td>\n",
        "    </tr>\n",
        "    <tr>\n",
        "      <th>1</th>\n",
        "      <td>                   CUCUMBER</td>\n",
        "      <td>                        TOMATOES</td>\n",
        "      <td> 225</td>\n",
        "    </tr>\n",
        "    <tr>\n",
        "      <th>2</th>\n",
        "      <td>   TOMATO ( CHEMICAL FREE )</td>\n",
        "      <td> YELLOW CARROT ( CHEMICAL FREE )</td>\n",
        "      <td> 216</td>\n",
        "    </tr>\n",
        "    <tr>\n",
        "      <th>3</th>\n",
        "      <td> CUCUMBER ( CHEMICAL FREE )</td>\n",
        "      <td> YELLOW CARROT ( CHEMICAL FREE )</td>\n",
        "      <td> 204</td>\n",
        "    </tr>\n",
        "    <tr>\n",
        "      <th>4</th>\n",
        "      <td>      CHICKEN BREASTS - 1KG</td>\n",
        "      <td>             WHOLE CHICKEN - 1KG</td>\n",
        "      <td> 190</td>\n",
        "    </tr>\n",
        "  </tbody>\n",
        "</table>\n",
        "</div>"
       ],
       "metadata": {},
       "output_type": "pyout",
       "prompt_number": 13,
       "text": [
        "                     Product1                         Product2  Count\n",
        "0  CUCUMBER ( CHEMICAL FREE )         TOMATO ( CHEMICAL FREE )    328\n",
        "1                    CUCUMBER                         TOMATOES    225\n",
        "2    TOMATO ( CHEMICAL FREE )  YELLOW CARROT ( CHEMICAL FREE )    216\n",
        "3  CUCUMBER ( CHEMICAL FREE )  YELLOW CARROT ( CHEMICAL FREE )    204\n",
        "4       CHICKEN BREASTS - 1KG              WHOLE CHICKEN - 1KG    190"
       ]
      }
     ],
     "prompt_number": 13
    },
    {
     "cell_type": "code",
     "collapsed": false,
     "input": [],
     "language": "python",
     "metadata": {},
     "outputs": []
    }
   ],
   "metadata": {}
  }
 ]
}
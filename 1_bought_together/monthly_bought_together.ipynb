{
 "metadata": {
  "name": "",
  "signature": "sha256:73174f3f9ce3b573663cb208b507c22a33d0549103cceb94d02bafc186dd744f"
 },
 "nbformat": 3,
 "nbformat_minor": 0,
 "worksheets": [
  {
   "cells": [
    {
     "cell_type": "code",
     "collapsed": false,
     "input": [
      "#!/home/cloudera/local/lib/python2.6/site-packages/bin/python\n",
      "import pandas as pd\n",
      "import re\n",
      "import yaml\n",
      "import logging\n",
      "import time\n",
      "import os\n",
      "\n",
      "def make_sure_path_exists(path):\n",
      "    if (!os.path.isdir(path)):\n",
      "        os.makedirs(path)\n",
      "\n",
      "make_sure_path_exists(cfg['root'] + cfg['dir_logs'])\n",
      "make_sure_path_exists(cfg['root']+cfg['dir_data_output'])\n",
      "\n",
      "with open(\"config.yaml\", 'r') as ymlfile:\n",
      "    cfg = yaml.load(ymlfile)\n",
      "\n",
      "# create logger\n",
      "logger = logging.getLogger(cfg['log_monthly_bought_together'])\n",
      "logger.setLevel(logging.DEBUG)\n",
      "# create console handler and set level to debug\n",
      "ch = logging.FileHandler(cfg['root'] + cfg['dir_logs'] + cfg['log_monthly_bought_together'] + \"_\" + time.strftime(\"%Y_%m_%d_%H_%M_%S\") + \".log\" )\n",
      "ch.setLevel(logging.DEBUG)\n",
      "# create formatter\n",
      "formatter = logging.Formatter(\"%(asctime)s - %(name)s - %(levelname)s - %(message)s\")\n",
      "# add formatter to ch\n",
      "ch.setFormatter(formatter)\n",
      "# add ch to logger\n",
      "logger.addHandler(ch)\n",
      "\n",
      "df = pd.read_csv(cfg['root'] + cfg['dir_data_shopify'] + cfg[\"ip_orders\"], low_memory=False)\n",
      "logger.debug(\"Data Frame df created\")"
     ],
     "language": "python",
     "metadata": {},
     "outputs": [],
     "prompt_number": 2
    },
    {
     "cell_type": "code",
     "collapsed": false,
     "input": [
      "#function to get month and year\n",
      "def convertDate(data):\n",
      "    matchobj = re.match(r'(.*) (.*) (.*).*',data)\n",
      "    data = matchobj.group(1)\n",
      "    matchobj = re.match(r'(.*)-(.*)-(.*).*',data)\n",
      "    data = matchobj.group(1) + \"-\" + matchobj.group(2) + \"-01\"\n",
      "    return data\n",
      "    \n",
      "#rows of type 21 and 12 are same, retain one instance of such rows\n",
      "def combineProds(date1, name1, name2):\n",
      "    if(name1 < name2):\n",
      "        return date1 + \",\" + name1 + \",\" + name2\n",
      "    else:\n",
      "        return date1 + \",\" + name2 + \",\" + name1"
     ],
     "language": "python",
     "metadata": {},
     "outputs": [],
     "prompt_number": 3
    },
    {
     "cell_type": "code",
     "collapsed": false,
     "input": [
      "df = df[['Name', 'Lineitem name', 'Created at']] #subset required columns\n",
      "df.columns = ['Order_id', 'Product', 'Date'] #rename columns\n",
      "\n",
      "#change product names to upper, remove duplicates, group the orders with same product, date\n",
      "df['Date'] = df.Date.apply(convertDate) \n",
      "df['Product'] = df.Product.apply(lambda x: x.upper()) \n",
      "df = df.drop_duplicates().reset_index().drop('index',1) \n",
      "df = df.groupby(['Date', 'Product'], axis = 0, as_index=False)['Order_id'].sum() \n",
      "df.head()\n"
     ],
     "language": "python",
     "metadata": {},
     "outputs": [
      {
       "html": [
        "<div style=\"max-height:1000px;max-width:1500px;overflow:auto;\">\n",
        "<table border=\"1\" class=\"dataframe\">\n",
        "  <thead>\n",
        "    <tr style=\"text-align: right;\">\n",
        "      <th></th>\n",
        "      <th>Date</th>\n",
        "      <th>Product</th>\n",
        "      <th>Order_id</th>\n",
        "    </tr>\n",
        "  </thead>\n",
        "  <tbody>\n",
        "    <tr>\n",
        "      <th>0</th>\n",
        "      <td> 2012-05-01</td>\n",
        "      <td>   BED TIME TEA</td>\n",
        "      <td>                #1017</td>\n",
        "    </tr>\n",
        "    <tr>\n",
        "      <th>1</th>\n",
        "      <td> 2012-05-01</td>\n",
        "      <td> BLACK SEED OIL</td>\n",
        "      <td>           #1016#1007</td>\n",
        "    </tr>\n",
        "    <tr>\n",
        "      <th>2</th>\n",
        "      <td> 2012-05-01</td>\n",
        "      <td>   BREATHE WELL</td>\n",
        "      <td>                #1017</td>\n",
        "    </tr>\n",
        "    <tr>\n",
        "      <th>3</th>\n",
        "      <td> 2012-05-01</td>\n",
        "      <td>     BROWN RICE</td>\n",
        "      <td> #1017#1012#1010#1005</td>\n",
        "    </tr>\n",
        "    <tr>\n",
        "      <th>4</th>\n",
        "      <td> 2012-05-01</td>\n",
        "      <td>    COCONUT OIL</td>\n",
        "      <td>                #1013</td>\n",
        "    </tr>\n",
        "  </tbody>\n",
        "</table>\n",
        "</div>"
       ],
       "metadata": {},
       "output_type": "pyout",
       "prompt_number": 4,
       "text": [
        "         Date         Product              Order_id\n",
        "0  2012-05-01    BED TIME TEA                 #1017\n",
        "1  2012-05-01  BLACK SEED OIL            #1016#1007\n",
        "2  2012-05-01    BREATHE WELL                 #1017\n",
        "3  2012-05-01      BROWN RICE  #1017#1012#1010#1005\n",
        "4  2012-05-01     COCONUT OIL                 #1013"
       ]
      }
     ],
     "prompt_number": 4
    },
    {
     "cell_type": "code",
     "collapsed": false,
     "input": [
      "df['Order_id'] = df.Order_id.apply(lambda x: x.split(\"#\")) #split the order no's by #\n",
      "df['Order_id'] = df.Order_id.apply(lambda x: x[1:]) #remove the extra comma\n",
      "df.head()"
     ],
     "language": "python",
     "metadata": {},
     "outputs": [
      {
       "html": [
        "<div style=\"max-height:1000px;max-width:1500px;overflow:auto;\">\n",
        "<table border=\"1\" class=\"dataframe\">\n",
        "  <thead>\n",
        "    <tr style=\"text-align: right;\">\n",
        "      <th></th>\n",
        "      <th>Date</th>\n",
        "      <th>Product</th>\n",
        "      <th>Order_id</th>\n",
        "    </tr>\n",
        "  </thead>\n",
        "  <tbody>\n",
        "    <tr>\n",
        "      <th>0</th>\n",
        "      <td> 2012-05-01</td>\n",
        "      <td>   BED TIME TEA</td>\n",
        "      <td>                   [1017]</td>\n",
        "    </tr>\n",
        "    <tr>\n",
        "      <th>1</th>\n",
        "      <td> 2012-05-01</td>\n",
        "      <td> BLACK SEED OIL</td>\n",
        "      <td>             [1016, 1007]</td>\n",
        "    </tr>\n",
        "    <tr>\n",
        "      <th>2</th>\n",
        "      <td> 2012-05-01</td>\n",
        "      <td>   BREATHE WELL</td>\n",
        "      <td>                   [1017]</td>\n",
        "    </tr>\n",
        "    <tr>\n",
        "      <th>3</th>\n",
        "      <td> 2012-05-01</td>\n",
        "      <td>     BROWN RICE</td>\n",
        "      <td> [1017, 1012, 1010, 1005]</td>\n",
        "    </tr>\n",
        "    <tr>\n",
        "      <th>4</th>\n",
        "      <td> 2012-05-01</td>\n",
        "      <td>    COCONUT OIL</td>\n",
        "      <td>                   [1013]</td>\n",
        "    </tr>\n",
        "  </tbody>\n",
        "</table>\n",
        "</div>"
       ],
       "metadata": {},
       "output_type": "pyout",
       "prompt_number": 5,
       "text": [
        "         Date         Product                  Order_id\n",
        "0  2012-05-01    BED TIME TEA                    [1017]\n",
        "1  2012-05-01  BLACK SEED OIL              [1016, 1007]\n",
        "2  2012-05-01    BREATHE WELL                    [1017]\n",
        "3  2012-05-01      BROWN RICE  [1017, 1012, 1010, 1005]\n",
        "4  2012-05-01     COCONUT OIL                    [1013]"
       ]
      }
     ],
     "prompt_number": 5
    },
    {
     "cell_type": "code",
     "collapsed": false,
     "input": [
      "df.columns = ['Date', 'Product1', 'Order1']\n",
      "df1 = pd.DataFrame(columns = ['Date', 'Product2', 'Order2'])\n",
      "df1['Date'] = df['Date']\n",
      "df1['Product2'] = df['Product1']\n",
      "df1['Order2'] = df['Order1']\n",
      "\n",
      "#cartesian product\n",
      "df = pd.merge(df, df1,on='Date')[['Date', 'Product1', 'Product2', 'Order1', 'Order2']]\n",
      "df.head()"
     ],
     "language": "python",
     "metadata": {},
     "outputs": [
      {
       "html": [
        "<div style=\"max-height:1000px;max-width:1500px;overflow:auto;\">\n",
        "<table border=\"1\" class=\"dataframe\">\n",
        "  <thead>\n",
        "    <tr style=\"text-align: right;\">\n",
        "      <th></th>\n",
        "      <th>Date</th>\n",
        "      <th>Product1</th>\n",
        "      <th>Product2</th>\n",
        "      <th>Order1</th>\n",
        "      <th>Order2</th>\n",
        "    </tr>\n",
        "  </thead>\n",
        "  <tbody>\n",
        "    <tr>\n",
        "      <th>0</th>\n",
        "      <td> 2012-05-01</td>\n",
        "      <td> BED TIME TEA</td>\n",
        "      <td>   BED TIME TEA</td>\n",
        "      <td> [1017]</td>\n",
        "      <td>                   [1017]</td>\n",
        "    </tr>\n",
        "    <tr>\n",
        "      <th>1</th>\n",
        "      <td> 2012-05-01</td>\n",
        "      <td> BED TIME TEA</td>\n",
        "      <td> BLACK SEED OIL</td>\n",
        "      <td> [1017]</td>\n",
        "      <td>             [1016, 1007]</td>\n",
        "    </tr>\n",
        "    <tr>\n",
        "      <th>2</th>\n",
        "      <td> 2012-05-01</td>\n",
        "      <td> BED TIME TEA</td>\n",
        "      <td>   BREATHE WELL</td>\n",
        "      <td> [1017]</td>\n",
        "      <td>                   [1017]</td>\n",
        "    </tr>\n",
        "    <tr>\n",
        "      <th>3</th>\n",
        "      <td> 2012-05-01</td>\n",
        "      <td> BED TIME TEA</td>\n",
        "      <td>     BROWN RICE</td>\n",
        "      <td> [1017]</td>\n",
        "      <td> [1017, 1012, 1010, 1005]</td>\n",
        "    </tr>\n",
        "    <tr>\n",
        "      <th>4</th>\n",
        "      <td> 2012-05-01</td>\n",
        "      <td> BED TIME TEA</td>\n",
        "      <td>    COCONUT OIL</td>\n",
        "      <td> [1017]</td>\n",
        "      <td>                   [1013]</td>\n",
        "    </tr>\n",
        "  </tbody>\n",
        "</table>\n",
        "</div>"
       ],
       "metadata": {},
       "output_type": "pyout",
       "prompt_number": 6,
       "text": [
        "         Date      Product1        Product2  Order1                    Order2\n",
        "0  2012-05-01  BED TIME TEA    BED TIME TEA  [1017]                    [1017]\n",
        "1  2012-05-01  BED TIME TEA  BLACK SEED OIL  [1017]              [1016, 1007]\n",
        "2  2012-05-01  BED TIME TEA    BREATHE WELL  [1017]                    [1017]\n",
        "3  2012-05-01  BED TIME TEA      BROWN RICE  [1017]  [1017, 1012, 1010, 1005]\n",
        "4  2012-05-01  BED TIME TEA     COCONUT OIL  [1017]                    [1013]"
       ]
      }
     ],
     "prompt_number": 6
    },
    {
     "cell_type": "code",
     "collapsed": false,
     "input": [
      "df = df[df.Product1 != df.Product2]\n",
      "df['newcol'] = df.apply(lambda x: combineProds(x['Date'], x['Product1'], x['Product2']), axis=1)\n",
      "df = df.drop_duplicates('newcol').reset_index().drop('index', 1)\n",
      "df.head()"
     ],
     "language": "python",
     "metadata": {},
     "outputs": [
      {
       "html": [
        "<div style=\"max-height:1000px;max-width:1500px;overflow:auto;\">\n",
        "<table border=\"1\" class=\"dataframe\">\n",
        "  <thead>\n",
        "    <tr style=\"text-align: right;\">\n",
        "      <th></th>\n",
        "      <th>Date</th>\n",
        "      <th>Product1</th>\n",
        "      <th>Product2</th>\n",
        "      <th>Order1</th>\n",
        "      <th>Order2</th>\n",
        "      <th>newcol</th>\n",
        "    </tr>\n",
        "  </thead>\n",
        "  <tbody>\n",
        "    <tr>\n",
        "      <th>0</th>\n",
        "      <td> 2012-05-01</td>\n",
        "      <td> BED TIME TEA</td>\n",
        "      <td>         BLACK SEED OIL</td>\n",
        "      <td> [1017]</td>\n",
        "      <td>             [1016, 1007]</td>\n",
        "      <td>         2012-05-01,BED TIME TEA,BLACK SEED OIL</td>\n",
        "    </tr>\n",
        "    <tr>\n",
        "      <th>1</th>\n",
        "      <td> 2012-05-01</td>\n",
        "      <td> BED TIME TEA</td>\n",
        "      <td>           BREATHE WELL</td>\n",
        "      <td> [1017]</td>\n",
        "      <td>                   [1017]</td>\n",
        "      <td>           2012-05-01,BED TIME TEA,BREATHE WELL</td>\n",
        "    </tr>\n",
        "    <tr>\n",
        "      <th>2</th>\n",
        "      <td> 2012-05-01</td>\n",
        "      <td> BED TIME TEA</td>\n",
        "      <td>             BROWN RICE</td>\n",
        "      <td> [1017]</td>\n",
        "      <td> [1017, 1012, 1010, 1005]</td>\n",
        "      <td>             2012-05-01,BED TIME TEA,BROWN RICE</td>\n",
        "    </tr>\n",
        "    <tr>\n",
        "      <th>3</th>\n",
        "      <td> 2012-05-01</td>\n",
        "      <td> BED TIME TEA</td>\n",
        "      <td>            COCONUT OIL</td>\n",
        "      <td> [1017]</td>\n",
        "      <td>                   [1013]</td>\n",
        "      <td>            2012-05-01,BED TIME TEA,COCONUT OIL</td>\n",
        "    </tr>\n",
        "    <tr>\n",
        "      <th>4</th>\n",
        "      <td> 2012-05-01</td>\n",
        "      <td> BED TIME TEA</td>\n",
        "      <td> DRIED PRUNES WITH PITS</td>\n",
        "      <td> [1017]</td>\n",
        "      <td>                   [1013]</td>\n",
        "      <td> 2012-05-01,BED TIME TEA,DRIED PRUNES WITH PITS</td>\n",
        "    </tr>\n",
        "  </tbody>\n",
        "</table>\n",
        "</div>"
       ],
       "metadata": {},
       "output_type": "pyout",
       "prompt_number": 7,
       "text": [
        "         Date      Product1                Product2  Order1  \\\n",
        "0  2012-05-01  BED TIME TEA          BLACK SEED OIL  [1017]   \n",
        "1  2012-05-01  BED TIME TEA            BREATHE WELL  [1017]   \n",
        "2  2012-05-01  BED TIME TEA              BROWN RICE  [1017]   \n",
        "3  2012-05-01  BED TIME TEA             COCONUT OIL  [1017]   \n",
        "4  2012-05-01  BED TIME TEA  DRIED PRUNES WITH PITS  [1017]   \n",
        "\n",
        "                     Order2                                          newcol  \n",
        "0              [1016, 1007]          2012-05-01,BED TIME TEA,BLACK SEED OIL  \n",
        "1                    [1017]            2012-05-01,BED TIME TEA,BREATHE WELL  \n",
        "2  [1017, 1012, 1010, 1005]              2012-05-01,BED TIME TEA,BROWN RICE  \n",
        "3                    [1013]             2012-05-01,BED TIME TEA,COCONUT OIL  \n",
        "4                    [1013]  2012-05-01,BED TIME TEA,DRIED PRUNES WITH PITS  "
       ]
      }
     ],
     "prompt_number": 7
    },
    {
     "cell_type": "code",
     "collapsed": false,
     "input": [
      "df.loc[:,'Count'] = df.apply(lambda x: len(list(set(x['Order1']).intersection(x['Order2']))), axis=1)\n",
      "df.head()"
     ],
     "language": "python",
     "metadata": {},
     "outputs": [
      {
       "html": [
        "<div style=\"max-height:1000px;max-width:1500px;overflow:auto;\">\n",
        "<table border=\"1\" class=\"dataframe\">\n",
        "  <thead>\n",
        "    <tr style=\"text-align: right;\">\n",
        "      <th></th>\n",
        "      <th>Date</th>\n",
        "      <th>Product1</th>\n",
        "      <th>Product2</th>\n",
        "      <th>Order1</th>\n",
        "      <th>Order2</th>\n",
        "      <th>newcol</th>\n",
        "      <th>Count</th>\n",
        "    </tr>\n",
        "  </thead>\n",
        "  <tbody>\n",
        "    <tr>\n",
        "      <th>0</th>\n",
        "      <td> 2012-05-01</td>\n",
        "      <td> BED TIME TEA</td>\n",
        "      <td>         BLACK SEED OIL</td>\n",
        "      <td> [1017]</td>\n",
        "      <td>             [1016, 1007]</td>\n",
        "      <td>         2012-05-01,BED TIME TEA,BLACK SEED OIL</td>\n",
        "      <td> 0</td>\n",
        "    </tr>\n",
        "    <tr>\n",
        "      <th>1</th>\n",
        "      <td> 2012-05-01</td>\n",
        "      <td> BED TIME TEA</td>\n",
        "      <td>           BREATHE WELL</td>\n",
        "      <td> [1017]</td>\n",
        "      <td>                   [1017]</td>\n",
        "      <td>           2012-05-01,BED TIME TEA,BREATHE WELL</td>\n",
        "      <td> 1</td>\n",
        "    </tr>\n",
        "    <tr>\n",
        "      <th>2</th>\n",
        "      <td> 2012-05-01</td>\n",
        "      <td> BED TIME TEA</td>\n",
        "      <td>             BROWN RICE</td>\n",
        "      <td> [1017]</td>\n",
        "      <td> [1017, 1012, 1010, 1005]</td>\n",
        "      <td>             2012-05-01,BED TIME TEA,BROWN RICE</td>\n",
        "      <td> 1</td>\n",
        "    </tr>\n",
        "    <tr>\n",
        "      <th>3</th>\n",
        "      <td> 2012-05-01</td>\n",
        "      <td> BED TIME TEA</td>\n",
        "      <td>            COCONUT OIL</td>\n",
        "      <td> [1017]</td>\n",
        "      <td>                   [1013]</td>\n",
        "      <td>            2012-05-01,BED TIME TEA,COCONUT OIL</td>\n",
        "      <td> 0</td>\n",
        "    </tr>\n",
        "    <tr>\n",
        "      <th>4</th>\n",
        "      <td> 2012-05-01</td>\n",
        "      <td> BED TIME TEA</td>\n",
        "      <td> DRIED PRUNES WITH PITS</td>\n",
        "      <td> [1017]</td>\n",
        "      <td>                   [1013]</td>\n",
        "      <td> 2012-05-01,BED TIME TEA,DRIED PRUNES WITH PITS</td>\n",
        "      <td> 0</td>\n",
        "    </tr>\n",
        "  </tbody>\n",
        "</table>\n",
        "</div>"
       ],
       "metadata": {},
       "output_type": "pyout",
       "prompt_number": 8,
       "text": [
        "         Date      Product1                Product2  Order1  \\\n",
        "0  2012-05-01  BED TIME TEA          BLACK SEED OIL  [1017]   \n",
        "1  2012-05-01  BED TIME TEA            BREATHE WELL  [1017]   \n",
        "2  2012-05-01  BED TIME TEA              BROWN RICE  [1017]   \n",
        "3  2012-05-01  BED TIME TEA             COCONUT OIL  [1017]   \n",
        "4  2012-05-01  BED TIME TEA  DRIED PRUNES WITH PITS  [1017]   \n",
        "\n",
        "                     Order2                                          newcol  \\\n",
        "0              [1016, 1007]          2012-05-01,BED TIME TEA,BLACK SEED OIL   \n",
        "1                    [1017]            2012-05-01,BED TIME TEA,BREATHE WELL   \n",
        "2  [1017, 1012, 1010, 1005]              2012-05-01,BED TIME TEA,BROWN RICE   \n",
        "3                    [1013]             2012-05-01,BED TIME TEA,COCONUT OIL   \n",
        "4                    [1013]  2012-05-01,BED TIME TEA,DRIED PRUNES WITH PITS   \n",
        "\n",
        "   Count  \n",
        "0      0  \n",
        "1      1  \n",
        "2      1  \n",
        "3      0  \n",
        "4      0  "
       ]
      }
     ],
     "prompt_number": 8
    },
    {
     "cell_type": "code",
     "collapsed": false,
     "input": [
      "df = df[['Date', 'Product1', 'Product2', 'Count']]\n",
      "df = df[df.Count != 0]\n",
      "df = df.sort(['Count'], ascending=False).reset_index().drop('index', 1)\n",
      "df.head()"
     ],
     "language": "python",
     "metadata": {},
     "outputs": [
      {
       "html": [
        "<div style=\"max-height:1000px;max-width:1500px;overflow:auto;\">\n",
        "<table border=\"1\" class=\"dataframe\">\n",
        "  <thead>\n",
        "    <tr style=\"text-align: right;\">\n",
        "      <th></th>\n",
        "      <th>Date</th>\n",
        "      <th>Product1</th>\n",
        "      <th>Product2</th>\n",
        "      <th>Count</th>\n",
        "    </tr>\n",
        "  </thead>\n",
        "  <tbody>\n",
        "    <tr>\n",
        "      <th>0</th>\n",
        "      <td> 2015-03-01</td>\n",
        "      <td>          CUCUMBER ( CHEMICAL FREE )</td>\n",
        "      <td>        TOMATO ( CHEMICAL FREE )</td>\n",
        "      <td> 64</td>\n",
        "    </tr>\n",
        "    <tr>\n",
        "      <th>1</th>\n",
        "      <td> 2015-01-01</td>\n",
        "      <td>          CUCUMBER ( CHEMICAL FREE )</td>\n",
        "      <td>        TOMATO ( CHEMICAL FREE )</td>\n",
        "      <td> 49</td>\n",
        "    </tr>\n",
        "    <tr>\n",
        "      <th>2</th>\n",
        "      <td> 2015-01-01</td>\n",
        "      <td>          CUCUMBER ( CHEMICAL FREE )</td>\n",
        "      <td> YELLOW CARROT ( CHEMICAL FREE )</td>\n",
        "      <td> 48</td>\n",
        "    </tr>\n",
        "    <tr>\n",
        "      <th>3</th>\n",
        "      <td> 2015-04-01</td>\n",
        "      <td>          CUCUMBER ( CHEMICAL FREE )</td>\n",
        "      <td>        TOMATO ( CHEMICAL FREE )</td>\n",
        "      <td> 45</td>\n",
        "    </tr>\n",
        "    <tr>\n",
        "      <th>4</th>\n",
        "      <td> 2015-03-01</td>\n",
        "      <td> BALADY WHOLE CHICKEN(CHEMICAL FREE)</td>\n",
        "      <td>       CHICKEN BREASTS 1KG - 1KG</td>\n",
        "      <td> 43</td>\n",
        "    </tr>\n",
        "  </tbody>\n",
        "</table>\n",
        "</div>"
       ],
       "metadata": {},
       "output_type": "pyout",
       "prompt_number": 9,
       "text": [
        "         Date                             Product1  \\\n",
        "0  2015-03-01           CUCUMBER ( CHEMICAL FREE )   \n",
        "1  2015-01-01           CUCUMBER ( CHEMICAL FREE )   \n",
        "2  2015-01-01           CUCUMBER ( CHEMICAL FREE )   \n",
        "3  2015-04-01           CUCUMBER ( CHEMICAL FREE )   \n",
        "4  2015-03-01  BALADY WHOLE CHICKEN(CHEMICAL FREE)   \n",
        "\n",
        "                          Product2  Count  \n",
        "0         TOMATO ( CHEMICAL FREE )     64  \n",
        "1         TOMATO ( CHEMICAL FREE )     49  \n",
        "2  YELLOW CARROT ( CHEMICAL FREE )     48  \n",
        "3         TOMATO ( CHEMICAL FREE )     45  \n",
        "4        CHICKEN BREASTS 1KG - 1KG     43  "
       ]
      }
     ],
     "prompt_number": 9
    },
    {
     "cell_type": "code",
     "collapsed": false,
     "input": [],
     "language": "python",
     "metadata": {},
     "outputs": []
    }
   ],
   "metadata": {}
  }
 ]
}
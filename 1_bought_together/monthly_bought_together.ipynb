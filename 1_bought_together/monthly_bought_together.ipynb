{
 "metadata": {
  "name": "",
  "signature": "sha256:ba40e1028624c5653b1d36f417699435ee4c087ef6f88e907b4862f1ce90f0ea"
 },
 "nbformat": 3,
 "nbformat_minor": 0,
 "worksheets": [
  {
   "cells": [
    {
     "cell_type": "code",
     "collapsed": false,
     "input": [
      "import pandas as pd\n",
      "from datetime import datetime\n",
      "import re\n",
      "#import yaml\n",
      "\n",
      "#with open(\"config.yaml\", 'r') as ymlfile:\n",
      "#        cfg = yaml.load(ymlfile)\n",
      "\n",
      "#df = pd.read_csv(cfg['root']+cfg['dir_data_shopify']+cfg[\"ip_orders\"], low_memory=False)\n",
      "df = pd.read_csv('C:\\Users\\saisree849\\Documents\\GitHub\\NGS-2.0\\\\12_dashboard_tables\\data_input\\shopify\\orders_export.csv', low_memory=False)"
     ],
     "language": "python",
     "metadata": {},
     "outputs": [],
     "prompt_number": 37
    },
    {
     "cell_type": "code",
     "collapsed": false,
     "input": [
      "#function to get month and year\n",
      "def convertDate(data):\n",
      "    matchobj = re.match(r'(.*) (.*) (.*).*',data)\n",
      "    data = matchobj.group(1)\n",
      "    matchobj = re.match(r'(.*)-(.*)-(.*).*',data)\n",
      "    data = matchobj.group(1) + \"-\" + matchobj.group(2) + \"-01\"\n",
      "    return data\n",
      "    \n",
      "#rows of type 21 and 12 are same, retain one instance of such rows\n",
      "def combineProds(date1, name1, name2):\n",
      "    if(name1 < name2):\n",
      "        return date1 + \",\" + name1 + \",\" + name2\n",
      "    else:\n",
      "        return date1 + \",\" + name2 + \",\" + name1"
     ],
     "language": "python",
     "metadata": {},
     "outputs": [],
     "prompt_number": 38
    },
    {
     "cell_type": "code",
     "collapsed": false,
     "input": [
      "df = df[['Name', 'Lineitem name', 'Created at']] #subset required columns\n",
      "df.columns = ['Order_id', 'Product', 'Date'] #rename columns\n",
      "\n",
      "#change product names to upper, remove duplicates, group the orders with same product, date\n",
      "df['Date'] = df.Date.apply(convertDate) \n",
      "df['Product'] = df.Product.apply(lambda x: x.upper()) \n",
      "df = df.drop_duplicates().reset_index().drop('index',1) \n",
      "df = df.groupby(['Date', 'Product'], axis = 0, as_index=False)['Order_id'].sum() \n",
      "\n",
      "df['Order_id'] = df.Order_id.apply(lambda x: x.split(\"#\")) #split the order no's by #\n",
      "df['Order_id'] = df.Order_id.apply(lambda x: x[1:]) #remove the extra comma\n",
      "df"
     ],
     "language": "python",
     "metadata": {},
     "outputs": [
      {
       "html": [
        "<div style=\"max-height:1000px;max-width:1500px;overflow:auto;\">\n",
        "<table border=\"1\" class=\"dataframe\">\n",
        "  <thead>\n",
        "    <tr style=\"text-align: right;\">\n",
        "      <th></th>\n",
        "      <th>Date</th>\n",
        "      <th>Product</th>\n",
        "      <th>Order_id</th>\n",
        "    </tr>\n",
        "  </thead>\n",
        "  <tbody>\n",
        "    <tr>\n",
        "      <th>0    </th>\n",
        "      <td> 2012-05-01</td>\n",
        "      <td>                                     BED TIME TEA</td>\n",
        "      <td>                                            [1017]</td>\n",
        "    </tr>\n",
        "    <tr>\n",
        "      <th>1    </th>\n",
        "      <td> 2012-05-01</td>\n",
        "      <td>                                   BLACK SEED OIL</td>\n",
        "      <td>                                      [1016, 1007]</td>\n",
        "    </tr>\n",
        "    <tr>\n",
        "      <th>2    </th>\n",
        "      <td> 2012-05-01</td>\n",
        "      <td>                                     BREATHE WELL</td>\n",
        "      <td>                                            [1017]</td>\n",
        "    </tr>\n",
        "    <tr>\n",
        "      <th>3    </th>\n",
        "      <td> 2012-05-01</td>\n",
        "      <td>                                       BROWN RICE</td>\n",
        "      <td>                          [1017, 1012, 1010, 1005]</td>\n",
        "    </tr>\n",
        "    <tr>\n",
        "      <th>4    </th>\n",
        "      <td> 2012-05-01</td>\n",
        "      <td>                                      COCONUT OIL</td>\n",
        "      <td>                                            [1013]</td>\n",
        "    </tr>\n",
        "    <tr>\n",
        "      <th>5    </th>\n",
        "      <td> 2012-05-01</td>\n",
        "      <td>                           DRIED PRUNES WITH PITS</td>\n",
        "      <td>                                            [1013]</td>\n",
        "    </tr>\n",
        "    <tr>\n",
        "      <th>6    </th>\n",
        "      <td> 2012-05-01</td>\n",
        "      <td>                    FACE &amp; NECK ANTIWRINKLE CREAM</td>\n",
        "      <td>                                            [1014]</td>\n",
        "    </tr>\n",
        "    <tr>\n",
        "      <th>7    </th>\n",
        "      <td> 2012-05-01</td>\n",
        "      <td>                                 GOLDEN FLAXSEEDS</td>\n",
        "      <td>                                            [1011]</td>\n",
        "    </tr>\n",
        "    <tr>\n",
        "      <th>8    </th>\n",
        "      <td> 2012-05-01</td>\n",
        "      <td>           GREEN TEA WITH ECHINACEA &amp; BLACK SEEDS</td>\n",
        "      <td>                                            [1010]</td>\n",
        "    </tr>\n",
        "    <tr>\n",
        "      <th>9    </th>\n",
        "      <td> 2012-05-01</td>\n",
        "      <td>                    ICED TEA WITH CRANBERRY JUICE</td>\n",
        "      <td>                                            [1017]</td>\n",
        "    </tr>\n",
        "    <tr>\n",
        "      <th>10   </th>\n",
        "      <td> 2012-05-01</td>\n",
        "      <td>                       ICED TEA WITH LEMON FLAVOR</td>\n",
        "      <td>                                            [1017]</td>\n",
        "    </tr>\n",
        "    <tr>\n",
        "      <th>11   </th>\n",
        "      <td> 2012-05-01</td>\n",
        "      <td>                       ICED TEA WITH PEACH FLAVOR</td>\n",
        "      <td>                                            [1017]</td>\n",
        "    </tr>\n",
        "    <tr>\n",
        "      <th>12   </th>\n",
        "      <td> 2012-05-01</td>\n",
        "      <td>                               LIVER WELLNESS TEA</td>\n",
        "      <td>                                            [1005]</td>\n",
        "    </tr>\n",
        "    <tr>\n",
        "      <th>13   </th>\n",
        "      <td> 2012-05-01</td>\n",
        "      <td>                                 MOTHER TO BE TEA</td>\n",
        "      <td>                                            [1017]</td>\n",
        "    </tr>\n",
        "    <tr>\n",
        "      <th>14   </th>\n",
        "      <td> 2012-05-01</td>\n",
        "      <td>                                      NEW MOM TEA</td>\n",
        "      <td>                                            [1017]</td>\n",
        "    </tr>\n",
        "    <tr>\n",
        "      <th>15   </th>\n",
        "      <td> 2012-05-01</td>\n",
        "      <td>                                    OLD GHAR SOAP</td>\n",
        "      <td>                                      [1016, 1013]</td>\n",
        "    </tr>\n",
        "    <tr>\n",
        "      <th>16   </th>\n",
        "      <td> 2012-05-01</td>\n",
        "      <td>                               ORGANIC FLAX SEEDS</td>\n",
        "      <td>                                            [1010]</td>\n",
        "    </tr>\n",
        "    <tr>\n",
        "      <th>17   </th>\n",
        "      <td> 2012-05-01</td>\n",
        "      <td>                    ORGANIC SUN-DRIED MANGO CHIPS</td>\n",
        "      <td>                                            [1008]</td>\n",
        "    </tr>\n",
        "    <tr>\n",
        "      <th>18   </th>\n",
        "      <td> 2012-05-01</td>\n",
        "      <td>                         POWER PROTEIN BAR PEANUT</td>\n",
        "      <td>                                      [1009, 1006]</td>\n",
        "    </tr>\n",
        "    <tr>\n",
        "      <th>19   </th>\n",
        "      <td> 2012-05-01</td>\n",
        "      <td>                                    PUMPKIN SEEDS</td>\n",
        "      <td>                                [1016, 1010, 1005]</td>\n",
        "    </tr>\n",
        "    <tr>\n",
        "      <th>20   </th>\n",
        "      <td> 2012-05-01</td>\n",
        "      <td> RAVIOLI FIRE ROASTED TOMATO, MOZARELLA AND BASIL</td>\n",
        "      <td>                                            [1010]</td>\n",
        "    </tr>\n",
        "    <tr>\n",
        "      <th>21   </th>\n",
        "      <td> 2012-05-01</td>\n",
        "      <td>                        RAW ALMONDS WITHOUT SHELL</td>\n",
        "      <td>                                [1012, 1008, 1007]</td>\n",
        "    </tr>\n",
        "    <tr>\n",
        "      <th>22   </th>\n",
        "      <td> 2012-05-01</td>\n",
        "      <td>                                   RAW BEE POLLEN</td>\n",
        "      <td>                                            [1007]</td>\n",
        "    </tr>\n",
        "    <tr>\n",
        "      <th>23   </th>\n",
        "      <td> 2012-05-01</td>\n",
        "      <td>                                       RAW CASHEW</td>\n",
        "      <td>                                      [1008, 1006]</td>\n",
        "    </tr>\n",
        "    <tr>\n",
        "      <th>24   </th>\n",
        "      <td> 2012-05-01</td>\n",
        "      <td>                                        RAW PECAN</td>\n",
        "      <td>                                      [1008, 1006]</td>\n",
        "    </tr>\n",
        "    <tr>\n",
        "      <th>25   </th>\n",
        "      <td> 2012-05-01</td>\n",
        "      <td>                             RAW PISTACHIO KERNEL</td>\n",
        "      <td>                                            [1006]</td>\n",
        "    </tr>\n",
        "    <tr>\n",
        "      <th>26   </th>\n",
        "      <td> 2012-05-01</td>\n",
        "      <td>                             RAW SLIVERED ALMONDS</td>\n",
        "      <td>                                            [1016]</td>\n",
        "    </tr>\n",
        "    <tr>\n",
        "      <th>27   </th>\n",
        "      <td> 2012-05-01</td>\n",
        "      <td>                         RAW WALNUT WITHOUT SHELL</td>\n",
        "      <td>                          [1008, 1007, 1006, 1005]</td>\n",
        "    </tr>\n",
        "    <tr>\n",
        "      <th>28   </th>\n",
        "      <td> 2012-05-01</td>\n",
        "      <td>                            SOY MILK CALCIUM PLUS</td>\n",
        "      <td>                                            [1015]</td>\n",
        "    </tr>\n",
        "    <tr>\n",
        "      <th>29   </th>\n",
        "      <td> 2012-05-01</td>\n",
        "      <td>                 STIR FRY VEGETABLES - DRAGON MIX</td>\n",
        "      <td>                                            [1010]</td>\n",
        "    </tr>\n",
        "    <tr>\n",
        "      <th>...</th>\n",
        "      <td>...</td>\n",
        "      <td>...</td>\n",
        "      <td>...</td>\n",
        "    </tr>\n",
        "    <tr>\n",
        "      <th>10057</th>\n",
        "      <td> 2015-12-01</td>\n",
        "      <td>                 WHEAT FLOUR (SPROUTED) - NATURAL</td>\n",
        "      <td>                                           [10184]</td>\n",
        "    </tr>\n",
        "    <tr>\n",
        "      <th>10058</th>\n",
        "      <td> 2015-12-01</td>\n",
        "      <td>                              WHEY PROTEIN (PURE)</td>\n",
        "      <td>                                           [10104]</td>\n",
        "    </tr>\n",
        "    <tr>\n",
        "      <th>10059</th>\n",
        "      <td> 2015-12-01</td>\n",
        "      <td>                 WHITE BEANS (ORGANIC) - EGYPTIAN</td>\n",
        "      <td>                                    [10321, 10167]</td>\n",
        "    </tr>\n",
        "    <tr>\n",
        "      <th>10060</th>\n",
        "      <td> 2015-12-01</td>\n",
        "      <td>                                      WHITE ONION</td>\n",
        "      <td>                                           [10291]</td>\n",
        "    </tr>\n",
        "    <tr>\n",
        "      <th>10061</th>\n",
        "      <td> 2015-12-01</td>\n",
        "      <td>                             WHITE SAUCE (FROZEN)</td>\n",
        "      <td>                                           [10151]</td>\n",
        "    </tr>\n",
        "    <tr>\n",
        "      <th>10062</th>\n",
        "      <td> 2015-12-01</td>\n",
        "      <td>                             WHITE TEA WITH PEACH</td>\n",
        "      <td>                                           [10151]</td>\n",
        "    </tr>\n",
        "    <tr>\n",
        "      <th>10063</th>\n",
        "      <td> 2015-12-01</td>\n",
        "      <td>                           WHOLE CHICKEN (FROZEN)</td>\n",
        "      <td>                      [10066, 10055, 10054, 10048]</td>\n",
        "    </tr>\n",
        "    <tr>\n",
        "      <th>10064</th>\n",
        "      <td> 2015-12-01</td>\n",
        "      <td>            WHOLE CHICKEN - HORMONE FREE (FROZEN)</td>\n",
        "      <td> [10366, 10361, 10343, 10317, 10316, 10293, 102...</td>\n",
        "    </tr>\n",
        "    <tr>\n",
        "      <th>10065</th>\n",
        "      <td> 2015-12-01</td>\n",
        "      <td>                                 WHOLE MEAL FLOUR</td>\n",
        "      <td> [10296, 10282, 10256, 10253, 10252, 10249, 102...</td>\n",
        "    </tr>\n",
        "    <tr>\n",
        "      <th>10066</th>\n",
        "      <td> 2015-12-01</td>\n",
        "      <td>                       WHOLE WHEAT SPINACH PASTRY</td>\n",
        "      <td>                      [10195, 10138, 10136, 10104]</td>\n",
        "    </tr>\n",
        "    <tr>\n",
        "      <th>10067</th>\n",
        "      <td> 2015-12-01</td>\n",
        "      <td>                              WHOLE WHEAT WAFFLES</td>\n",
        "      <td>                             [10142, 10136, 10115]</td>\n",
        "    </tr>\n",
        "    <tr>\n",
        "      <th>10068</th>\n",
        "      <td> 2015-12-01</td>\n",
        "      <td>              WILD &amp; BROWN RICE MIX (GLUTEN FREE)</td>\n",
        "      <td>                                           [10218]</td>\n",
        "    </tr>\n",
        "    <tr>\n",
        "      <th>10069</th>\n",
        "      <td> 2015-12-01</td>\n",
        "      <td>                      WILD GROUPER FILLET (WA2AR)</td>\n",
        "      <td>                             [10257, 10212, 10198]</td>\n",
        "    </tr>\n",
        "    <tr>\n",
        "      <th>10070</th>\n",
        "      <td> 2015-12-01</td>\n",
        "      <td>                       WILD HABAQ (CHEMICAL FREE)</td>\n",
        "      <td>                                           [10188]</td>\n",
        "    </tr>\n",
        "    <tr>\n",
        "      <th>10071</th>\n",
        "      <td> 2015-12-01</td>\n",
        "      <td>                                     WILD LOBSTER</td>\n",
        "      <td>                                           [10198]</td>\n",
        "    </tr>\n",
        "    <tr>\n",
        "      <th>10072</th>\n",
        "      <td> 2015-12-01</td>\n",
        "      <td>                                      WILD MORGAN</td>\n",
        "      <td>                                           [10360]</td>\n",
        "    </tr>\n",
        "    <tr>\n",
        "      <th>10073</th>\n",
        "      <td> 2015-12-01</td>\n",
        "      <td>                        WILD RED MULLET (BARBOUN)</td>\n",
        "      <td>                                           [10262]</td>\n",
        "    </tr>\n",
        "    <tr>\n",
        "      <th>10074</th>\n",
        "      <td> 2015-12-01</td>\n",
        "      <td>                       WILD RICE ( ORGANIC ) 227G</td>\n",
        "      <td>                                           [10321]</td>\n",
        "    </tr>\n",
        "    <tr>\n",
        "      <th>10075</th>\n",
        "      <td> 2015-12-01</td>\n",
        "      <td>          WILD RICE CAKES (ORGANIC) - GLUTEN FREE</td>\n",
        "      <td>                                    [10298, 10191]</td>\n",
        "    </tr>\n",
        "    <tr>\n",
        "      <th>10076</th>\n",
        "      <td> 2015-12-01</td>\n",
        "      <td>                        WILD ROYAL DORAD (DENEES)</td>\n",
        "      <td>                      [10360, 10263, 10112, 10055]</td>\n",
        "    </tr>\n",
        "    <tr>\n",
        "      <th>10077</th>\n",
        "      <td> 2015-12-01</td>\n",
        "      <td>                                    WILD SARDINES</td>\n",
        "      <td>                      [10351, 10250, 10212, 10055]</td>\n",
        "    </tr>\n",
        "    <tr>\n",
        "      <th>10078</th>\n",
        "      <td> 2015-12-01</td>\n",
        "      <td>                             WILD SHRIMP (MEDIUM)</td>\n",
        "      <td>               [10303, 10263, 10260, 10232, 10198]</td>\n",
        "    </tr>\n",
        "    <tr>\n",
        "      <th>10079</th>\n",
        "      <td> 2015-12-01</td>\n",
        "      <td>                              WILD SHRIMP (SMALL)</td>\n",
        "      <td>               [10362, 10329, 10261, 10143, 10094]</td>\n",
        "    </tr>\n",
        "    <tr>\n",
        "      <th>10080</th>\n",
        "      <td> 2015-12-01</td>\n",
        "      <td>                        WILD YELLOW FINTUNA STEAK</td>\n",
        "      <td>                                           [10265]</td>\n",
        "    </tr>\n",
        "    <tr>\n",
        "      <th>10081</th>\n",
        "      <td> 2015-12-01</td>\n",
        "      <td>                                    YELLOW APPLES</td>\n",
        "      <td>                                    [10316, 10203]</td>\n",
        "    </tr>\n",
        "    <tr>\n",
        "      <th>10082</th>\n",
        "      <td> 2015-12-01</td>\n",
        "      <td>                                   YELLOW CARROTS</td>\n",
        "      <td>                             [10085, 10082, 10065]</td>\n",
        "    </tr>\n",
        "    <tr>\n",
        "      <th>10083</th>\n",
        "      <td> 2015-12-01</td>\n",
        "      <td>                                YELLOW GRAPEFRUIT</td>\n",
        "      <td>                                           [10204]</td>\n",
        "    </tr>\n",
        "    <tr>\n",
        "      <th>10084</th>\n",
        "      <td> 2015-12-01</td>\n",
        "      <td>                                   YELLOW MUSTARD</td>\n",
        "      <td>                                    [10218, 10142]</td>\n",
        "    </tr>\n",
        "    <tr>\n",
        "      <th>10085</th>\n",
        "      <td> 2015-12-01</td>\n",
        "      <td>                         ZUCCHINI (CHEMICAL FREE)</td>\n",
        "      <td> [10355, 10351, 10320, 10316, 10295, 10292, 102...</td>\n",
        "    </tr>\n",
        "    <tr>\n",
        "      <th>10086</th>\n",
        "      <td> 2015-12-01</td>\n",
        "      <td>                               ZUCCHINI (ORGANIC)</td>\n",
        "      <td>                      [10321, 10306, 10218, 10213]</td>\n",
        "    </tr>\n",
        "  </tbody>\n",
        "</table>\n",
        "<p>10087 rows \u00d7 3 columns</p>\n",
        "</div>"
       ],
       "metadata": {},
       "output_type": "pyout",
       "prompt_number": 39,
       "text": [
        "             Date                                           Product  \\\n",
        "0      2012-05-01                                      BED TIME TEA   \n",
        "1      2012-05-01                                    BLACK SEED OIL   \n",
        "2      2012-05-01                                      BREATHE WELL   \n",
        "3      2012-05-01                                        BROWN RICE   \n",
        "4      2012-05-01                                       COCONUT OIL   \n",
        "5      2012-05-01                            DRIED PRUNES WITH PITS   \n",
        "6      2012-05-01                     FACE & NECK ANTIWRINKLE CREAM   \n",
        "7      2012-05-01                                  GOLDEN FLAXSEEDS   \n",
        "8      2012-05-01            GREEN TEA WITH ECHINACEA & BLACK SEEDS   \n",
        "9      2012-05-01                     ICED TEA WITH CRANBERRY JUICE   \n",
        "10     2012-05-01                        ICED TEA WITH LEMON FLAVOR   \n",
        "11     2012-05-01                        ICED TEA WITH PEACH FLAVOR   \n",
        "12     2012-05-01                                LIVER WELLNESS TEA   \n",
        "13     2012-05-01                                  MOTHER TO BE TEA   \n",
        "14     2012-05-01                                       NEW MOM TEA   \n",
        "15     2012-05-01                                     OLD GHAR SOAP   \n",
        "16     2012-05-01                                ORGANIC FLAX SEEDS   \n",
        "17     2012-05-01                     ORGANIC SUN-DRIED MANGO CHIPS   \n",
        "18     2012-05-01                          POWER PROTEIN BAR PEANUT   \n",
        "19     2012-05-01                                     PUMPKIN SEEDS   \n",
        "20     2012-05-01  RAVIOLI FIRE ROASTED TOMATO, MOZARELLA AND BASIL   \n",
        "21     2012-05-01                         RAW ALMONDS WITHOUT SHELL   \n",
        "22     2012-05-01                                    RAW BEE POLLEN   \n",
        "23     2012-05-01                                        RAW CASHEW   \n",
        "24     2012-05-01                                         RAW PECAN   \n",
        "25     2012-05-01                              RAW PISTACHIO KERNEL   \n",
        "26     2012-05-01                              RAW SLIVERED ALMONDS   \n",
        "27     2012-05-01                          RAW WALNUT WITHOUT SHELL   \n",
        "28     2012-05-01                             SOY MILK CALCIUM PLUS   \n",
        "29     2012-05-01                  STIR FRY VEGETABLES - DRAGON MIX   \n",
        "...           ...                                               ...   \n",
        "10057  2015-12-01                  WHEAT FLOUR (SPROUTED) - NATURAL   \n",
        "10058  2015-12-01                               WHEY PROTEIN (PURE)   \n",
        "10059  2015-12-01                  WHITE BEANS (ORGANIC) - EGYPTIAN   \n",
        "10060  2015-12-01                                       WHITE ONION   \n",
        "10061  2015-12-01                              WHITE SAUCE (FROZEN)   \n",
        "10062  2015-12-01                              WHITE TEA WITH PEACH   \n",
        "10063  2015-12-01                            WHOLE CHICKEN (FROZEN)   \n",
        "10064  2015-12-01             WHOLE CHICKEN - HORMONE FREE (FROZEN)   \n",
        "10065  2015-12-01                                  WHOLE MEAL FLOUR   \n",
        "10066  2015-12-01                        WHOLE WHEAT SPINACH PASTRY   \n",
        "10067  2015-12-01                               WHOLE WHEAT WAFFLES   \n",
        "10068  2015-12-01               WILD & BROWN RICE MIX (GLUTEN FREE)   \n",
        "10069  2015-12-01                       WILD GROUPER FILLET (WA2AR)   \n",
        "10070  2015-12-01                        WILD HABAQ (CHEMICAL FREE)   \n",
        "10071  2015-12-01                                      WILD LOBSTER   \n",
        "10072  2015-12-01                                       WILD MORGAN   \n",
        "10073  2015-12-01                         WILD RED MULLET (BARBOUN)   \n",
        "10074  2015-12-01                        WILD RICE ( ORGANIC ) 227G   \n",
        "10075  2015-12-01           WILD RICE CAKES (ORGANIC) - GLUTEN FREE   \n",
        "10076  2015-12-01                         WILD ROYAL DORAD (DENEES)   \n",
        "10077  2015-12-01                                     WILD SARDINES   \n",
        "10078  2015-12-01                              WILD SHRIMP (MEDIUM)   \n",
        "10079  2015-12-01                               WILD SHRIMP (SMALL)   \n",
        "10080  2015-12-01                         WILD YELLOW FINTUNA STEAK   \n",
        "10081  2015-12-01                                     YELLOW APPLES   \n",
        "10082  2015-12-01                                    YELLOW CARROTS   \n",
        "10083  2015-12-01                                 YELLOW GRAPEFRUIT   \n",
        "10084  2015-12-01                                    YELLOW MUSTARD   \n",
        "10085  2015-12-01                          ZUCCHINI (CHEMICAL FREE)   \n",
        "10086  2015-12-01                                ZUCCHINI (ORGANIC)   \n",
        "\n",
        "                                                Order_id  \n",
        "0                                                 [1017]  \n",
        "1                                           [1016, 1007]  \n",
        "2                                                 [1017]  \n",
        "3                               [1017, 1012, 1010, 1005]  \n",
        "4                                                 [1013]  \n",
        "5                                                 [1013]  \n",
        "6                                                 [1014]  \n",
        "7                                                 [1011]  \n",
        "8                                                 [1010]  \n",
        "9                                                 [1017]  \n",
        "10                                                [1017]  \n",
        "11                                                [1017]  \n",
        "12                                                [1005]  \n",
        "13                                                [1017]  \n",
        "14                                                [1017]  \n",
        "15                                          [1016, 1013]  \n",
        "16                                                [1010]  \n",
        "17                                                [1008]  \n",
        "18                                          [1009, 1006]  \n",
        "19                                    [1016, 1010, 1005]  \n",
        "20                                                [1010]  \n",
        "21                                    [1012, 1008, 1007]  \n",
        "22                                                [1007]  \n",
        "23                                          [1008, 1006]  \n",
        "24                                          [1008, 1006]  \n",
        "25                                                [1006]  \n",
        "26                                                [1016]  \n",
        "27                              [1008, 1007, 1006, 1005]  \n",
        "28                                                [1015]  \n",
        "29                                                [1010]  \n",
        "...                                                  ...  \n",
        "10057                                            [10184]  \n",
        "10058                                            [10104]  \n",
        "10059                                     [10321, 10167]  \n",
        "10060                                            [10291]  \n",
        "10061                                            [10151]  \n",
        "10062                                            [10151]  \n",
        "10063                       [10066, 10055, 10054, 10048]  \n",
        "10064  [10366, 10361, 10343, 10317, 10316, 10293, 102...  \n",
        "10065  [10296, 10282, 10256, 10253, 10252, 10249, 102...  \n",
        "10066                       [10195, 10138, 10136, 10104]  \n",
        "10067                              [10142, 10136, 10115]  \n",
        "10068                                            [10218]  \n",
        "10069                              [10257, 10212, 10198]  \n",
        "10070                                            [10188]  \n",
        "10071                                            [10198]  \n",
        "10072                                            [10360]  \n",
        "10073                                            [10262]  \n",
        "10074                                            [10321]  \n",
        "10075                                     [10298, 10191]  \n",
        "10076                       [10360, 10263, 10112, 10055]  \n",
        "10077                       [10351, 10250, 10212, 10055]  \n",
        "10078                [10303, 10263, 10260, 10232, 10198]  \n",
        "10079                [10362, 10329, 10261, 10143, 10094]  \n",
        "10080                                            [10265]  \n",
        "10081                                     [10316, 10203]  \n",
        "10082                              [10085, 10082, 10065]  \n",
        "10083                                            [10204]  \n",
        "10084                                     [10218, 10142]  \n",
        "10085  [10355, 10351, 10320, 10316, 10295, 10292, 102...  \n",
        "10086                       [10321, 10306, 10218, 10213]  \n",
        "\n",
        "[10087 rows x 3 columns]"
       ]
      }
     ],
     "prompt_number": 39
    },
    {
     "cell_type": "code",
     "collapsed": false,
     "input": [
      "df.columns = ['Date', 'Product1', 'Order1']\n",
      "df1 = pd.DataFrame(columns = ['Date', 'Product2', 'Order2'])\n",
      "df1['Date'] = df['Date']\n",
      "df1['Product2'] = df['Product1']\n",
      "df1['Order2'] = df['Order1']\n",
      "\n",
      "#cartesian product\n",
      "df = pd.merge(df, df1,on='Date')[['Date', 'Product1', 'Product2', 'Order1', 'Order2']]\n",
      "df"
     ],
     "language": "python",
     "metadata": {},
     "outputs": [
      {
       "html": [
        "<div style=\"max-height:1000px;max-width:1500px;overflow:auto;\">\n",
        "<table border=\"1\" class=\"dataframe\">\n",
        "  <thead>\n",
        "    <tr style=\"text-align: right;\">\n",
        "      <th></th>\n",
        "      <th>Date</th>\n",
        "      <th>Product1</th>\n",
        "      <th>Product2</th>\n",
        "      <th>Order1</th>\n",
        "      <th>Order2</th>\n",
        "    </tr>\n",
        "  </thead>\n",
        "  <tbody>\n",
        "    <tr>\n",
        "      <th>0      </th>\n",
        "      <td> 2012-05-01</td>\n",
        "      <td>       BED TIME TEA</td>\n",
        "      <td>                                     BED TIME TEA</td>\n",
        "      <td>                       [1017]</td>\n",
        "      <td>                                            [1017]</td>\n",
        "    </tr>\n",
        "    <tr>\n",
        "      <th>1      </th>\n",
        "      <td> 2012-05-01</td>\n",
        "      <td>       BED TIME TEA</td>\n",
        "      <td>                                   BLACK SEED OIL</td>\n",
        "      <td>                       [1017]</td>\n",
        "      <td>                                      [1016, 1007]</td>\n",
        "    </tr>\n",
        "    <tr>\n",
        "      <th>2      </th>\n",
        "      <td> 2012-05-01</td>\n",
        "      <td>       BED TIME TEA</td>\n",
        "      <td>                                     BREATHE WELL</td>\n",
        "      <td>                       [1017]</td>\n",
        "      <td>                                            [1017]</td>\n",
        "    </tr>\n",
        "    <tr>\n",
        "      <th>3      </th>\n",
        "      <td> 2012-05-01</td>\n",
        "      <td>       BED TIME TEA</td>\n",
        "      <td>                                       BROWN RICE</td>\n",
        "      <td>                       [1017]</td>\n",
        "      <td>                          [1017, 1012, 1010, 1005]</td>\n",
        "    </tr>\n",
        "    <tr>\n",
        "      <th>4      </th>\n",
        "      <td> 2012-05-01</td>\n",
        "      <td>       BED TIME TEA</td>\n",
        "      <td>                                      COCONUT OIL</td>\n",
        "      <td>                       [1017]</td>\n",
        "      <td>                                            [1013]</td>\n",
        "    </tr>\n",
        "    <tr>\n",
        "      <th>5      </th>\n",
        "      <td> 2012-05-01</td>\n",
        "      <td>       BED TIME TEA</td>\n",
        "      <td>                           DRIED PRUNES WITH PITS</td>\n",
        "      <td>                       [1017]</td>\n",
        "      <td>                                            [1013]</td>\n",
        "    </tr>\n",
        "    <tr>\n",
        "      <th>6      </th>\n",
        "      <td> 2012-05-01</td>\n",
        "      <td>       BED TIME TEA</td>\n",
        "      <td>                    FACE &amp; NECK ANTIWRINKLE CREAM</td>\n",
        "      <td>                       [1017]</td>\n",
        "      <td>                                            [1014]</td>\n",
        "    </tr>\n",
        "    <tr>\n",
        "      <th>7      </th>\n",
        "      <td> 2012-05-01</td>\n",
        "      <td>       BED TIME TEA</td>\n",
        "      <td>                                 GOLDEN FLAXSEEDS</td>\n",
        "      <td>                       [1017]</td>\n",
        "      <td>                                            [1011]</td>\n",
        "    </tr>\n",
        "    <tr>\n",
        "      <th>8      </th>\n",
        "      <td> 2012-05-01</td>\n",
        "      <td>       BED TIME TEA</td>\n",
        "      <td>           GREEN TEA WITH ECHINACEA &amp; BLACK SEEDS</td>\n",
        "      <td>                       [1017]</td>\n",
        "      <td>                                            [1010]</td>\n",
        "    </tr>\n",
        "    <tr>\n",
        "      <th>9      </th>\n",
        "      <td> 2012-05-01</td>\n",
        "      <td>       BED TIME TEA</td>\n",
        "      <td>                    ICED TEA WITH CRANBERRY JUICE</td>\n",
        "      <td>                       [1017]</td>\n",
        "      <td>                                            [1017]</td>\n",
        "    </tr>\n",
        "    <tr>\n",
        "      <th>10     </th>\n",
        "      <td> 2012-05-01</td>\n",
        "      <td>       BED TIME TEA</td>\n",
        "      <td>                       ICED TEA WITH LEMON FLAVOR</td>\n",
        "      <td>                       [1017]</td>\n",
        "      <td>                                            [1017]</td>\n",
        "    </tr>\n",
        "    <tr>\n",
        "      <th>11     </th>\n",
        "      <td> 2012-05-01</td>\n",
        "      <td>       BED TIME TEA</td>\n",
        "      <td>                       ICED TEA WITH PEACH FLAVOR</td>\n",
        "      <td>                       [1017]</td>\n",
        "      <td>                                            [1017]</td>\n",
        "    </tr>\n",
        "    <tr>\n",
        "      <th>12     </th>\n",
        "      <td> 2012-05-01</td>\n",
        "      <td>       BED TIME TEA</td>\n",
        "      <td>                               LIVER WELLNESS TEA</td>\n",
        "      <td>                       [1017]</td>\n",
        "      <td>                                            [1005]</td>\n",
        "    </tr>\n",
        "    <tr>\n",
        "      <th>13     </th>\n",
        "      <td> 2012-05-01</td>\n",
        "      <td>       BED TIME TEA</td>\n",
        "      <td>                                 MOTHER TO BE TEA</td>\n",
        "      <td>                       [1017]</td>\n",
        "      <td>                                            [1017]</td>\n",
        "    </tr>\n",
        "    <tr>\n",
        "      <th>14     </th>\n",
        "      <td> 2012-05-01</td>\n",
        "      <td>       BED TIME TEA</td>\n",
        "      <td>                                      NEW MOM TEA</td>\n",
        "      <td>                       [1017]</td>\n",
        "      <td>                                            [1017]</td>\n",
        "    </tr>\n",
        "    <tr>\n",
        "      <th>15     </th>\n",
        "      <td> 2012-05-01</td>\n",
        "      <td>       BED TIME TEA</td>\n",
        "      <td>                                    OLD GHAR SOAP</td>\n",
        "      <td>                       [1017]</td>\n",
        "      <td>                                      [1016, 1013]</td>\n",
        "    </tr>\n",
        "    <tr>\n",
        "      <th>16     </th>\n",
        "      <td> 2012-05-01</td>\n",
        "      <td>       BED TIME TEA</td>\n",
        "      <td>                               ORGANIC FLAX SEEDS</td>\n",
        "      <td>                       [1017]</td>\n",
        "      <td>                                            [1010]</td>\n",
        "    </tr>\n",
        "    <tr>\n",
        "      <th>17     </th>\n",
        "      <td> 2012-05-01</td>\n",
        "      <td>       BED TIME TEA</td>\n",
        "      <td>                    ORGANIC SUN-DRIED MANGO CHIPS</td>\n",
        "      <td>                       [1017]</td>\n",
        "      <td>                                            [1008]</td>\n",
        "    </tr>\n",
        "    <tr>\n",
        "      <th>18     </th>\n",
        "      <td> 2012-05-01</td>\n",
        "      <td>       BED TIME TEA</td>\n",
        "      <td>                         POWER PROTEIN BAR PEANUT</td>\n",
        "      <td>                       [1017]</td>\n",
        "      <td>                                      [1009, 1006]</td>\n",
        "    </tr>\n",
        "    <tr>\n",
        "      <th>19     </th>\n",
        "      <td> 2012-05-01</td>\n",
        "      <td>       BED TIME TEA</td>\n",
        "      <td>                                    PUMPKIN SEEDS</td>\n",
        "      <td>                       [1017]</td>\n",
        "      <td>                                [1016, 1010, 1005]</td>\n",
        "    </tr>\n",
        "    <tr>\n",
        "      <th>20     </th>\n",
        "      <td> 2012-05-01</td>\n",
        "      <td>       BED TIME TEA</td>\n",
        "      <td> RAVIOLI FIRE ROASTED TOMATO, MOZARELLA AND BASIL</td>\n",
        "      <td>                       [1017]</td>\n",
        "      <td>                                            [1010]</td>\n",
        "    </tr>\n",
        "    <tr>\n",
        "      <th>21     </th>\n",
        "      <td> 2012-05-01</td>\n",
        "      <td>       BED TIME TEA</td>\n",
        "      <td>                        RAW ALMONDS WITHOUT SHELL</td>\n",
        "      <td>                       [1017]</td>\n",
        "      <td>                                [1012, 1008, 1007]</td>\n",
        "    </tr>\n",
        "    <tr>\n",
        "      <th>22     </th>\n",
        "      <td> 2012-05-01</td>\n",
        "      <td>       BED TIME TEA</td>\n",
        "      <td>                                   RAW BEE POLLEN</td>\n",
        "      <td>                       [1017]</td>\n",
        "      <td>                                            [1007]</td>\n",
        "    </tr>\n",
        "    <tr>\n",
        "      <th>23     </th>\n",
        "      <td> 2012-05-01</td>\n",
        "      <td>       BED TIME TEA</td>\n",
        "      <td>                                       RAW CASHEW</td>\n",
        "      <td>                       [1017]</td>\n",
        "      <td>                                      [1008, 1006]</td>\n",
        "    </tr>\n",
        "    <tr>\n",
        "      <th>24     </th>\n",
        "      <td> 2012-05-01</td>\n",
        "      <td>       BED TIME TEA</td>\n",
        "      <td>                                        RAW PECAN</td>\n",
        "      <td>                       [1017]</td>\n",
        "      <td>                                      [1008, 1006]</td>\n",
        "    </tr>\n",
        "    <tr>\n",
        "      <th>25     </th>\n",
        "      <td> 2012-05-01</td>\n",
        "      <td>       BED TIME TEA</td>\n",
        "      <td>                             RAW PISTACHIO KERNEL</td>\n",
        "      <td>                       [1017]</td>\n",
        "      <td>                                            [1006]</td>\n",
        "    </tr>\n",
        "    <tr>\n",
        "      <th>26     </th>\n",
        "      <td> 2012-05-01</td>\n",
        "      <td>       BED TIME TEA</td>\n",
        "      <td>                             RAW SLIVERED ALMONDS</td>\n",
        "      <td>                       [1017]</td>\n",
        "      <td>                                            [1016]</td>\n",
        "    </tr>\n",
        "    <tr>\n",
        "      <th>27     </th>\n",
        "      <td> 2012-05-01</td>\n",
        "      <td>       BED TIME TEA</td>\n",
        "      <td>                         RAW WALNUT WITHOUT SHELL</td>\n",
        "      <td>                       [1017]</td>\n",
        "      <td>                          [1008, 1007, 1006, 1005]</td>\n",
        "    </tr>\n",
        "    <tr>\n",
        "      <th>28     </th>\n",
        "      <td> 2012-05-01</td>\n",
        "      <td>       BED TIME TEA</td>\n",
        "      <td>                            SOY MILK CALCIUM PLUS</td>\n",
        "      <td>                       [1017]</td>\n",
        "      <td>                                            [1015]</td>\n",
        "    </tr>\n",
        "    <tr>\n",
        "      <th>29     </th>\n",
        "      <td> 2012-05-01</td>\n",
        "      <td>       BED TIME TEA</td>\n",
        "      <td>                 STIR FRY VEGETABLES - DRAGON MIX</td>\n",
        "      <td>                       [1017]</td>\n",
        "      <td>                                            [1010]</td>\n",
        "    </tr>\n",
        "    <tr>\n",
        "      <th>...</th>\n",
        "      <td>...</td>\n",
        "      <td>...</td>\n",
        "      <td>...</td>\n",
        "      <td>...</td>\n",
        "      <td>...</td>\n",
        "    </tr>\n",
        "    <tr>\n",
        "      <th>2771959</th>\n",
        "      <td> 2015-12-01</td>\n",
        "      <td> ZUCCHINI (ORGANIC)</td>\n",
        "      <td>                 WHEAT FLOUR (SPROUTED) - NATURAL</td>\n",
        "      <td> [10321, 10306, 10218, 10213]</td>\n",
        "      <td>                                           [10184]</td>\n",
        "    </tr>\n",
        "    <tr>\n",
        "      <th>2771960</th>\n",
        "      <td> 2015-12-01</td>\n",
        "      <td> ZUCCHINI (ORGANIC)</td>\n",
        "      <td>                              WHEY PROTEIN (PURE)</td>\n",
        "      <td> [10321, 10306, 10218, 10213]</td>\n",
        "      <td>                                           [10104]</td>\n",
        "    </tr>\n",
        "    <tr>\n",
        "      <th>2771961</th>\n",
        "      <td> 2015-12-01</td>\n",
        "      <td> ZUCCHINI (ORGANIC)</td>\n",
        "      <td>                 WHITE BEANS (ORGANIC) - EGYPTIAN</td>\n",
        "      <td> [10321, 10306, 10218, 10213]</td>\n",
        "      <td>                                    [10321, 10167]</td>\n",
        "    </tr>\n",
        "    <tr>\n",
        "      <th>2771962</th>\n",
        "      <td> 2015-12-01</td>\n",
        "      <td> ZUCCHINI (ORGANIC)</td>\n",
        "      <td>                                      WHITE ONION</td>\n",
        "      <td> [10321, 10306, 10218, 10213]</td>\n",
        "      <td>                                           [10291]</td>\n",
        "    </tr>\n",
        "    <tr>\n",
        "      <th>2771963</th>\n",
        "      <td> 2015-12-01</td>\n",
        "      <td> ZUCCHINI (ORGANIC)</td>\n",
        "      <td>                             WHITE SAUCE (FROZEN)</td>\n",
        "      <td> [10321, 10306, 10218, 10213]</td>\n",
        "      <td>                                           [10151]</td>\n",
        "    </tr>\n",
        "    <tr>\n",
        "      <th>2771964</th>\n",
        "      <td> 2015-12-01</td>\n",
        "      <td> ZUCCHINI (ORGANIC)</td>\n",
        "      <td>                             WHITE TEA WITH PEACH</td>\n",
        "      <td> [10321, 10306, 10218, 10213]</td>\n",
        "      <td>                                           [10151]</td>\n",
        "    </tr>\n",
        "    <tr>\n",
        "      <th>2771965</th>\n",
        "      <td> 2015-12-01</td>\n",
        "      <td> ZUCCHINI (ORGANIC)</td>\n",
        "      <td>                           WHOLE CHICKEN (FROZEN)</td>\n",
        "      <td> [10321, 10306, 10218, 10213]</td>\n",
        "      <td>                      [10066, 10055, 10054, 10048]</td>\n",
        "    </tr>\n",
        "    <tr>\n",
        "      <th>2771966</th>\n",
        "      <td> 2015-12-01</td>\n",
        "      <td> ZUCCHINI (ORGANIC)</td>\n",
        "      <td>            WHOLE CHICKEN - HORMONE FREE (FROZEN)</td>\n",
        "      <td> [10321, 10306, 10218, 10213]</td>\n",
        "      <td> [10366, 10361, 10343, 10317, 10316, 10293, 102...</td>\n",
        "    </tr>\n",
        "    <tr>\n",
        "      <th>2771967</th>\n",
        "      <td> 2015-12-01</td>\n",
        "      <td> ZUCCHINI (ORGANIC)</td>\n",
        "      <td>                                 WHOLE MEAL FLOUR</td>\n",
        "      <td> [10321, 10306, 10218, 10213]</td>\n",
        "      <td> [10296, 10282, 10256, 10253, 10252, 10249, 102...</td>\n",
        "    </tr>\n",
        "    <tr>\n",
        "      <th>2771968</th>\n",
        "      <td> 2015-12-01</td>\n",
        "      <td> ZUCCHINI (ORGANIC)</td>\n",
        "      <td>                       WHOLE WHEAT SPINACH PASTRY</td>\n",
        "      <td> [10321, 10306, 10218, 10213]</td>\n",
        "      <td>                      [10195, 10138, 10136, 10104]</td>\n",
        "    </tr>\n",
        "    <tr>\n",
        "      <th>2771969</th>\n",
        "      <td> 2015-12-01</td>\n",
        "      <td> ZUCCHINI (ORGANIC)</td>\n",
        "      <td>                              WHOLE WHEAT WAFFLES</td>\n",
        "      <td> [10321, 10306, 10218, 10213]</td>\n",
        "      <td>                             [10142, 10136, 10115]</td>\n",
        "    </tr>\n",
        "    <tr>\n",
        "      <th>2771970</th>\n",
        "      <td> 2015-12-01</td>\n",
        "      <td> ZUCCHINI (ORGANIC)</td>\n",
        "      <td>              WILD &amp; BROWN RICE MIX (GLUTEN FREE)</td>\n",
        "      <td> [10321, 10306, 10218, 10213]</td>\n",
        "      <td>                                           [10218]</td>\n",
        "    </tr>\n",
        "    <tr>\n",
        "      <th>2771971</th>\n",
        "      <td> 2015-12-01</td>\n",
        "      <td> ZUCCHINI (ORGANIC)</td>\n",
        "      <td>                      WILD GROUPER FILLET (WA2AR)</td>\n",
        "      <td> [10321, 10306, 10218, 10213]</td>\n",
        "      <td>                             [10257, 10212, 10198]</td>\n",
        "    </tr>\n",
        "    <tr>\n",
        "      <th>2771972</th>\n",
        "      <td> 2015-12-01</td>\n",
        "      <td> ZUCCHINI (ORGANIC)</td>\n",
        "      <td>                       WILD HABAQ (CHEMICAL FREE)</td>\n",
        "      <td> [10321, 10306, 10218, 10213]</td>\n",
        "      <td>                                           [10188]</td>\n",
        "    </tr>\n",
        "    <tr>\n",
        "      <th>2771973</th>\n",
        "      <td> 2015-12-01</td>\n",
        "      <td> ZUCCHINI (ORGANIC)</td>\n",
        "      <td>                                     WILD LOBSTER</td>\n",
        "      <td> [10321, 10306, 10218, 10213]</td>\n",
        "      <td>                                           [10198]</td>\n",
        "    </tr>\n",
        "    <tr>\n",
        "      <th>2771974</th>\n",
        "      <td> 2015-12-01</td>\n",
        "      <td> ZUCCHINI (ORGANIC)</td>\n",
        "      <td>                                      WILD MORGAN</td>\n",
        "      <td> [10321, 10306, 10218, 10213]</td>\n",
        "      <td>                                           [10360]</td>\n",
        "    </tr>\n",
        "    <tr>\n",
        "      <th>2771975</th>\n",
        "      <td> 2015-12-01</td>\n",
        "      <td> ZUCCHINI (ORGANIC)</td>\n",
        "      <td>                        WILD RED MULLET (BARBOUN)</td>\n",
        "      <td> [10321, 10306, 10218, 10213]</td>\n",
        "      <td>                                           [10262]</td>\n",
        "    </tr>\n",
        "    <tr>\n",
        "      <th>2771976</th>\n",
        "      <td> 2015-12-01</td>\n",
        "      <td> ZUCCHINI (ORGANIC)</td>\n",
        "      <td>                       WILD RICE ( ORGANIC ) 227G</td>\n",
        "      <td> [10321, 10306, 10218, 10213]</td>\n",
        "      <td>                                           [10321]</td>\n",
        "    </tr>\n",
        "    <tr>\n",
        "      <th>2771977</th>\n",
        "      <td> 2015-12-01</td>\n",
        "      <td> ZUCCHINI (ORGANIC)</td>\n",
        "      <td>          WILD RICE CAKES (ORGANIC) - GLUTEN FREE</td>\n",
        "      <td> [10321, 10306, 10218, 10213]</td>\n",
        "      <td>                                    [10298, 10191]</td>\n",
        "    </tr>\n",
        "    <tr>\n",
        "      <th>2771978</th>\n",
        "      <td> 2015-12-01</td>\n",
        "      <td> ZUCCHINI (ORGANIC)</td>\n",
        "      <td>                        WILD ROYAL DORAD (DENEES)</td>\n",
        "      <td> [10321, 10306, 10218, 10213]</td>\n",
        "      <td>                      [10360, 10263, 10112, 10055]</td>\n",
        "    </tr>\n",
        "    <tr>\n",
        "      <th>2771979</th>\n",
        "      <td> 2015-12-01</td>\n",
        "      <td> ZUCCHINI (ORGANIC)</td>\n",
        "      <td>                                    WILD SARDINES</td>\n",
        "      <td> [10321, 10306, 10218, 10213]</td>\n",
        "      <td>                      [10351, 10250, 10212, 10055]</td>\n",
        "    </tr>\n",
        "    <tr>\n",
        "      <th>2771980</th>\n",
        "      <td> 2015-12-01</td>\n",
        "      <td> ZUCCHINI (ORGANIC)</td>\n",
        "      <td>                             WILD SHRIMP (MEDIUM)</td>\n",
        "      <td> [10321, 10306, 10218, 10213]</td>\n",
        "      <td>               [10303, 10263, 10260, 10232, 10198]</td>\n",
        "    </tr>\n",
        "    <tr>\n",
        "      <th>2771981</th>\n",
        "      <td> 2015-12-01</td>\n",
        "      <td> ZUCCHINI (ORGANIC)</td>\n",
        "      <td>                              WILD SHRIMP (SMALL)</td>\n",
        "      <td> [10321, 10306, 10218, 10213]</td>\n",
        "      <td>               [10362, 10329, 10261, 10143, 10094]</td>\n",
        "    </tr>\n",
        "    <tr>\n",
        "      <th>2771982</th>\n",
        "      <td> 2015-12-01</td>\n",
        "      <td> ZUCCHINI (ORGANIC)</td>\n",
        "      <td>                        WILD YELLOW FINTUNA STEAK</td>\n",
        "      <td> [10321, 10306, 10218, 10213]</td>\n",
        "      <td>                                           [10265]</td>\n",
        "    </tr>\n",
        "    <tr>\n",
        "      <th>2771983</th>\n",
        "      <td> 2015-12-01</td>\n",
        "      <td> ZUCCHINI (ORGANIC)</td>\n",
        "      <td>                                    YELLOW APPLES</td>\n",
        "      <td> [10321, 10306, 10218, 10213]</td>\n",
        "      <td>                                    [10316, 10203]</td>\n",
        "    </tr>\n",
        "    <tr>\n",
        "      <th>2771984</th>\n",
        "      <td> 2015-12-01</td>\n",
        "      <td> ZUCCHINI (ORGANIC)</td>\n",
        "      <td>                                   YELLOW CARROTS</td>\n",
        "      <td> [10321, 10306, 10218, 10213]</td>\n",
        "      <td>                             [10085, 10082, 10065]</td>\n",
        "    </tr>\n",
        "    <tr>\n",
        "      <th>2771985</th>\n",
        "      <td> 2015-12-01</td>\n",
        "      <td> ZUCCHINI (ORGANIC)</td>\n",
        "      <td>                                YELLOW GRAPEFRUIT</td>\n",
        "      <td> [10321, 10306, 10218, 10213]</td>\n",
        "      <td>                                           [10204]</td>\n",
        "    </tr>\n",
        "    <tr>\n",
        "      <th>2771986</th>\n",
        "      <td> 2015-12-01</td>\n",
        "      <td> ZUCCHINI (ORGANIC)</td>\n",
        "      <td>                                   YELLOW MUSTARD</td>\n",
        "      <td> [10321, 10306, 10218, 10213]</td>\n",
        "      <td>                                    [10218, 10142]</td>\n",
        "    </tr>\n",
        "    <tr>\n",
        "      <th>2771987</th>\n",
        "      <td> 2015-12-01</td>\n",
        "      <td> ZUCCHINI (ORGANIC)</td>\n",
        "      <td>                         ZUCCHINI (CHEMICAL FREE)</td>\n",
        "      <td> [10321, 10306, 10218, 10213]</td>\n",
        "      <td> [10355, 10351, 10320, 10316, 10295, 10292, 102...</td>\n",
        "    </tr>\n",
        "    <tr>\n",
        "      <th>2771988</th>\n",
        "      <td> 2015-12-01</td>\n",
        "      <td> ZUCCHINI (ORGANIC)</td>\n",
        "      <td>                               ZUCCHINI (ORGANIC)</td>\n",
        "      <td> [10321, 10306, 10218, 10213]</td>\n",
        "      <td>                      [10321, 10306, 10218, 10213]</td>\n",
        "    </tr>\n",
        "  </tbody>\n",
        "</table>\n",
        "<p>2771989 rows \u00d7 5 columns</p>\n",
        "</div>"
       ],
       "metadata": {},
       "output_type": "pyout",
       "prompt_number": 40,
       "text": [
        "               Date            Product1  \\\n",
        "0        2012-05-01        BED TIME TEA   \n",
        "1        2012-05-01        BED TIME TEA   \n",
        "2        2012-05-01        BED TIME TEA   \n",
        "3        2012-05-01        BED TIME TEA   \n",
        "4        2012-05-01        BED TIME TEA   \n",
        "5        2012-05-01        BED TIME TEA   \n",
        "6        2012-05-01        BED TIME TEA   \n",
        "7        2012-05-01        BED TIME TEA   \n",
        "8        2012-05-01        BED TIME TEA   \n",
        "9        2012-05-01        BED TIME TEA   \n",
        "10       2012-05-01        BED TIME TEA   \n",
        "11       2012-05-01        BED TIME TEA   \n",
        "12       2012-05-01        BED TIME TEA   \n",
        "13       2012-05-01        BED TIME TEA   \n",
        "14       2012-05-01        BED TIME TEA   \n",
        "15       2012-05-01        BED TIME TEA   \n",
        "16       2012-05-01        BED TIME TEA   \n",
        "17       2012-05-01        BED TIME TEA   \n",
        "18       2012-05-01        BED TIME TEA   \n",
        "19       2012-05-01        BED TIME TEA   \n",
        "20       2012-05-01        BED TIME TEA   \n",
        "21       2012-05-01        BED TIME TEA   \n",
        "22       2012-05-01        BED TIME TEA   \n",
        "23       2012-05-01        BED TIME TEA   \n",
        "24       2012-05-01        BED TIME TEA   \n",
        "25       2012-05-01        BED TIME TEA   \n",
        "26       2012-05-01        BED TIME TEA   \n",
        "27       2012-05-01        BED TIME TEA   \n",
        "28       2012-05-01        BED TIME TEA   \n",
        "29       2012-05-01        BED TIME TEA   \n",
        "...             ...                 ...   \n",
        "2771959  2015-12-01  ZUCCHINI (ORGANIC)   \n",
        "2771960  2015-12-01  ZUCCHINI (ORGANIC)   \n",
        "2771961  2015-12-01  ZUCCHINI (ORGANIC)   \n",
        "2771962  2015-12-01  ZUCCHINI (ORGANIC)   \n",
        "2771963  2015-12-01  ZUCCHINI (ORGANIC)   \n",
        "2771964  2015-12-01  ZUCCHINI (ORGANIC)   \n",
        "2771965  2015-12-01  ZUCCHINI (ORGANIC)   \n",
        "2771966  2015-12-01  ZUCCHINI (ORGANIC)   \n",
        "2771967  2015-12-01  ZUCCHINI (ORGANIC)   \n",
        "2771968  2015-12-01  ZUCCHINI (ORGANIC)   \n",
        "2771969  2015-12-01  ZUCCHINI (ORGANIC)   \n",
        "2771970  2015-12-01  ZUCCHINI (ORGANIC)   \n",
        "2771971  2015-12-01  ZUCCHINI (ORGANIC)   \n",
        "2771972  2015-12-01  ZUCCHINI (ORGANIC)   \n",
        "2771973  2015-12-01  ZUCCHINI (ORGANIC)   \n",
        "2771974  2015-12-01  ZUCCHINI (ORGANIC)   \n",
        "2771975  2015-12-01  ZUCCHINI (ORGANIC)   \n",
        "2771976  2015-12-01  ZUCCHINI (ORGANIC)   \n",
        "2771977  2015-12-01  ZUCCHINI (ORGANIC)   \n",
        "2771978  2015-12-01  ZUCCHINI (ORGANIC)   \n",
        "2771979  2015-12-01  ZUCCHINI (ORGANIC)   \n",
        "2771980  2015-12-01  ZUCCHINI (ORGANIC)   \n",
        "2771981  2015-12-01  ZUCCHINI (ORGANIC)   \n",
        "2771982  2015-12-01  ZUCCHINI (ORGANIC)   \n",
        "2771983  2015-12-01  ZUCCHINI (ORGANIC)   \n",
        "2771984  2015-12-01  ZUCCHINI (ORGANIC)   \n",
        "2771985  2015-12-01  ZUCCHINI (ORGANIC)   \n",
        "2771986  2015-12-01  ZUCCHINI (ORGANIC)   \n",
        "2771987  2015-12-01  ZUCCHINI (ORGANIC)   \n",
        "2771988  2015-12-01  ZUCCHINI (ORGANIC)   \n",
        "\n",
        "                                                 Product2  \\\n",
        "0                                            BED TIME TEA   \n",
        "1                                          BLACK SEED OIL   \n",
        "2                                            BREATHE WELL   \n",
        "3                                              BROWN RICE   \n",
        "4                                             COCONUT OIL   \n",
        "5                                  DRIED PRUNES WITH PITS   \n",
        "6                           FACE & NECK ANTIWRINKLE CREAM   \n",
        "7                                        GOLDEN FLAXSEEDS   \n",
        "8                  GREEN TEA WITH ECHINACEA & BLACK SEEDS   \n",
        "9                           ICED TEA WITH CRANBERRY JUICE   \n",
        "10                             ICED TEA WITH LEMON FLAVOR   \n",
        "11                             ICED TEA WITH PEACH FLAVOR   \n",
        "12                                     LIVER WELLNESS TEA   \n",
        "13                                       MOTHER TO BE TEA   \n",
        "14                                            NEW MOM TEA   \n",
        "15                                          OLD GHAR SOAP   \n",
        "16                                     ORGANIC FLAX SEEDS   \n",
        "17                          ORGANIC SUN-DRIED MANGO CHIPS   \n",
        "18                               POWER PROTEIN BAR PEANUT   \n",
        "19                                          PUMPKIN SEEDS   \n",
        "20       RAVIOLI FIRE ROASTED TOMATO, MOZARELLA AND BASIL   \n",
        "21                              RAW ALMONDS WITHOUT SHELL   \n",
        "22                                         RAW BEE POLLEN   \n",
        "23                                             RAW CASHEW   \n",
        "24                                              RAW PECAN   \n",
        "25                                   RAW PISTACHIO KERNEL   \n",
        "26                                   RAW SLIVERED ALMONDS   \n",
        "27                               RAW WALNUT WITHOUT SHELL   \n",
        "28                                  SOY MILK CALCIUM PLUS   \n",
        "29                       STIR FRY VEGETABLES - DRAGON MIX   \n",
        "...                                                   ...   \n",
        "2771959                  WHEAT FLOUR (SPROUTED) - NATURAL   \n",
        "2771960                               WHEY PROTEIN (PURE)   \n",
        "2771961                  WHITE BEANS (ORGANIC) - EGYPTIAN   \n",
        "2771962                                       WHITE ONION   \n",
        "2771963                              WHITE SAUCE (FROZEN)   \n",
        "2771964                              WHITE TEA WITH PEACH   \n",
        "2771965                            WHOLE CHICKEN (FROZEN)   \n",
        "2771966             WHOLE CHICKEN - HORMONE FREE (FROZEN)   \n",
        "2771967                                  WHOLE MEAL FLOUR   \n",
        "2771968                        WHOLE WHEAT SPINACH PASTRY   \n",
        "2771969                               WHOLE WHEAT WAFFLES   \n",
        "2771970               WILD & BROWN RICE MIX (GLUTEN FREE)   \n",
        "2771971                       WILD GROUPER FILLET (WA2AR)   \n",
        "2771972                        WILD HABAQ (CHEMICAL FREE)   \n",
        "2771973                                      WILD LOBSTER   \n",
        "2771974                                       WILD MORGAN   \n",
        "2771975                         WILD RED MULLET (BARBOUN)   \n",
        "2771976                        WILD RICE ( ORGANIC ) 227G   \n",
        "2771977           WILD RICE CAKES (ORGANIC) - GLUTEN FREE   \n",
        "2771978                         WILD ROYAL DORAD (DENEES)   \n",
        "2771979                                     WILD SARDINES   \n",
        "2771980                              WILD SHRIMP (MEDIUM)   \n",
        "2771981                               WILD SHRIMP (SMALL)   \n",
        "2771982                         WILD YELLOW FINTUNA STEAK   \n",
        "2771983                                     YELLOW APPLES   \n",
        "2771984                                    YELLOW CARROTS   \n",
        "2771985                                 YELLOW GRAPEFRUIT   \n",
        "2771986                                    YELLOW MUSTARD   \n",
        "2771987                          ZUCCHINI (CHEMICAL FREE)   \n",
        "2771988                                ZUCCHINI (ORGANIC)   \n",
        "\n",
        "                               Order1  \\\n",
        "0                              [1017]   \n",
        "1                              [1017]   \n",
        "2                              [1017]   \n",
        "3                              [1017]   \n",
        "4                              [1017]   \n",
        "5                              [1017]   \n",
        "6                              [1017]   \n",
        "7                              [1017]   \n",
        "8                              [1017]   \n",
        "9                              [1017]   \n",
        "10                             [1017]   \n",
        "11                             [1017]   \n",
        "12                             [1017]   \n",
        "13                             [1017]   \n",
        "14                             [1017]   \n",
        "15                             [1017]   \n",
        "16                             [1017]   \n",
        "17                             [1017]   \n",
        "18                             [1017]   \n",
        "19                             [1017]   \n",
        "20                             [1017]   \n",
        "21                             [1017]   \n",
        "22                             [1017]   \n",
        "23                             [1017]   \n",
        "24                             [1017]   \n",
        "25                             [1017]   \n",
        "26                             [1017]   \n",
        "27                             [1017]   \n",
        "28                             [1017]   \n",
        "29                             [1017]   \n",
        "...                               ...   \n",
        "2771959  [10321, 10306, 10218, 10213]   \n",
        "2771960  [10321, 10306, 10218, 10213]   \n",
        "2771961  [10321, 10306, 10218, 10213]   \n",
        "2771962  [10321, 10306, 10218, 10213]   \n",
        "2771963  [10321, 10306, 10218, 10213]   \n",
        "2771964  [10321, 10306, 10218, 10213]   \n",
        "2771965  [10321, 10306, 10218, 10213]   \n",
        "2771966  [10321, 10306, 10218, 10213]   \n",
        "2771967  [10321, 10306, 10218, 10213]   \n",
        "2771968  [10321, 10306, 10218, 10213]   \n",
        "2771969  [10321, 10306, 10218, 10213]   \n",
        "2771970  [10321, 10306, 10218, 10213]   \n",
        "2771971  [10321, 10306, 10218, 10213]   \n",
        "2771972  [10321, 10306, 10218, 10213]   \n",
        "2771973  [10321, 10306, 10218, 10213]   \n",
        "2771974  [10321, 10306, 10218, 10213]   \n",
        "2771975  [10321, 10306, 10218, 10213]   \n",
        "2771976  [10321, 10306, 10218, 10213]   \n",
        "2771977  [10321, 10306, 10218, 10213]   \n",
        "2771978  [10321, 10306, 10218, 10213]   \n",
        "2771979  [10321, 10306, 10218, 10213]   \n",
        "2771980  [10321, 10306, 10218, 10213]   \n",
        "2771981  [10321, 10306, 10218, 10213]   \n",
        "2771982  [10321, 10306, 10218, 10213]   \n",
        "2771983  [10321, 10306, 10218, 10213]   \n",
        "2771984  [10321, 10306, 10218, 10213]   \n",
        "2771985  [10321, 10306, 10218, 10213]   \n",
        "2771986  [10321, 10306, 10218, 10213]   \n",
        "2771987  [10321, 10306, 10218, 10213]   \n",
        "2771988  [10321, 10306, 10218, 10213]   \n",
        "\n",
        "                                                    Order2  \n",
        "0                                                   [1017]  \n",
        "1                                             [1016, 1007]  \n",
        "2                                                   [1017]  \n",
        "3                                 [1017, 1012, 1010, 1005]  \n",
        "4                                                   [1013]  \n",
        "5                                                   [1013]  \n",
        "6                                                   [1014]  \n",
        "7                                                   [1011]  \n",
        "8                                                   [1010]  \n",
        "9                                                   [1017]  \n",
        "10                                                  [1017]  \n",
        "11                                                  [1017]  \n",
        "12                                                  [1005]  \n",
        "13                                                  [1017]  \n",
        "14                                                  [1017]  \n",
        "15                                            [1016, 1013]  \n",
        "16                                                  [1010]  \n",
        "17                                                  [1008]  \n",
        "18                                            [1009, 1006]  \n",
        "19                                      [1016, 1010, 1005]  \n",
        "20                                                  [1010]  \n",
        "21                                      [1012, 1008, 1007]  \n",
        "22                                                  [1007]  \n",
        "23                                            [1008, 1006]  \n",
        "24                                            [1008, 1006]  \n",
        "25                                                  [1006]  \n",
        "26                                                  [1016]  \n",
        "27                                [1008, 1007, 1006, 1005]  \n",
        "28                                                  [1015]  \n",
        "29                                                  [1010]  \n",
        "...                                                    ...  \n",
        "2771959                                            [10184]  \n",
        "2771960                                            [10104]  \n",
        "2771961                                     [10321, 10167]  \n",
        "2771962                                            [10291]  \n",
        "2771963                                            [10151]  \n",
        "2771964                                            [10151]  \n",
        "2771965                       [10066, 10055, 10054, 10048]  \n",
        "2771966  [10366, 10361, 10343, 10317, 10316, 10293, 102...  \n",
        "2771967  [10296, 10282, 10256, 10253, 10252, 10249, 102...  \n",
        "2771968                       [10195, 10138, 10136, 10104]  \n",
        "2771969                              [10142, 10136, 10115]  \n",
        "2771970                                            [10218]  \n",
        "2771971                              [10257, 10212, 10198]  \n",
        "2771972                                            [10188]  \n",
        "2771973                                            [10198]  \n",
        "2771974                                            [10360]  \n",
        "2771975                                            [10262]  \n",
        "2771976                                            [10321]  \n",
        "2771977                                     [10298, 10191]  \n",
        "2771978                       [10360, 10263, 10112, 10055]  \n",
        "2771979                       [10351, 10250, 10212, 10055]  \n",
        "2771980                [10303, 10263, 10260, 10232, 10198]  \n",
        "2771981                [10362, 10329, 10261, 10143, 10094]  \n",
        "2771982                                            [10265]  \n",
        "2771983                                     [10316, 10203]  \n",
        "2771984                              [10085, 10082, 10065]  \n",
        "2771985                                            [10204]  \n",
        "2771986                                     [10218, 10142]  \n",
        "2771987  [10355, 10351, 10320, 10316, 10295, 10292, 102...  \n",
        "2771988                       [10321, 10306, 10218, 10213]  \n",
        "\n",
        "[2771989 rows x 5 columns]"
       ]
      }
     ],
     "prompt_number": 40
    },
    {
     "cell_type": "code",
     "collapsed": false,
     "input": [
      "df = df[df.Product1 != df.Product2]\n",
      "df['newcol'] = df.apply(lambda x: combineProds(x['Date'], x['Product1'], x['Product2']), axis=1)\n",
      "df = df.drop_duplicates('newcol').reset_index().drop('index', 1)\n",
      "df['Count'] = df.apply(lambda x: len(list(set(x['Order1']).intersection(x['Order2']))), axis=1)\n",
      "df"
     ],
     "language": "python",
     "metadata": {},
     "outputs": [
      {
       "output_type": "stream",
       "stream": "stderr",
       "text": [
        "-c:2: SettingWithCopyWarning: \n",
        "A value is trying to be set on a copy of a slice from a DataFrame.\n",
        "Try using .loc[row_indexer,col_indexer] = value instead\n",
        "\n",
        "See the the caveats in the documentation: http://pandas.pydata.org/pandas-docs/stable/indexing.html#indexing-view-versus-copy\n"
       ]
      },
      {
       "html": [
        "<div style=\"max-height:1000px;max-width:1500px;overflow:auto;\">\n",
        "<table border=\"1\" class=\"dataframe\">\n",
        "  <thead>\n",
        "    <tr style=\"text-align: right;\">\n",
        "      <th></th>\n",
        "      <th>Date</th>\n",
        "      <th>Product1</th>\n",
        "      <th>Product2</th>\n",
        "      <th>Order1</th>\n",
        "      <th>Order2</th>\n",
        "      <th>newcol</th>\n",
        "      <th>Count</th>\n",
        "    </tr>\n",
        "  </thead>\n",
        "  <tbody>\n",
        "    <tr>\n",
        "      <th>0      </th>\n",
        "      <td> 2012-05-01</td>\n",
        "      <td>              BED TIME TEA</td>\n",
        "      <td>                                   BLACK SEED OIL</td>\n",
        "      <td>                                            [1017]</td>\n",
        "      <td>                                      [1016, 1007]</td>\n",
        "      <td>            2012-05-01,BED TIME TEA,BLACK SEED OIL</td>\n",
        "      <td> 0</td>\n",
        "    </tr>\n",
        "    <tr>\n",
        "      <th>1      </th>\n",
        "      <td> 2012-05-01</td>\n",
        "      <td>              BED TIME TEA</td>\n",
        "      <td>                                     BREATHE WELL</td>\n",
        "      <td>                                            [1017]</td>\n",
        "      <td>                                            [1017]</td>\n",
        "      <td>              2012-05-01,BED TIME TEA,BREATHE WELL</td>\n",
        "      <td> 1</td>\n",
        "    </tr>\n",
        "    <tr>\n",
        "      <th>2      </th>\n",
        "      <td> 2012-05-01</td>\n",
        "      <td>              BED TIME TEA</td>\n",
        "      <td>                                       BROWN RICE</td>\n",
        "      <td>                                            [1017]</td>\n",
        "      <td>                          [1017, 1012, 1010, 1005]</td>\n",
        "      <td>                2012-05-01,BED TIME TEA,BROWN RICE</td>\n",
        "      <td> 1</td>\n",
        "    </tr>\n",
        "    <tr>\n",
        "      <th>3      </th>\n",
        "      <td> 2012-05-01</td>\n",
        "      <td>              BED TIME TEA</td>\n",
        "      <td>                                      COCONUT OIL</td>\n",
        "      <td>                                            [1017]</td>\n",
        "      <td>                                            [1013]</td>\n",
        "      <td>               2012-05-01,BED TIME TEA,COCONUT OIL</td>\n",
        "      <td> 0</td>\n",
        "    </tr>\n",
        "    <tr>\n",
        "      <th>4      </th>\n",
        "      <td> 2012-05-01</td>\n",
        "      <td>              BED TIME TEA</td>\n",
        "      <td>                           DRIED PRUNES WITH PITS</td>\n",
        "      <td>                                            [1017]</td>\n",
        "      <td>                                            [1013]</td>\n",
        "      <td>    2012-05-01,BED TIME TEA,DRIED PRUNES WITH PITS</td>\n",
        "      <td> 0</td>\n",
        "    </tr>\n",
        "    <tr>\n",
        "      <th>5      </th>\n",
        "      <td> 2012-05-01</td>\n",
        "      <td>              BED TIME TEA</td>\n",
        "      <td>                    FACE &amp; NECK ANTIWRINKLE CREAM</td>\n",
        "      <td>                                            [1017]</td>\n",
        "      <td>                                            [1014]</td>\n",
        "      <td> 2012-05-01,BED TIME TEA,FACE &amp; NECK ANTIWRINKL...</td>\n",
        "      <td> 0</td>\n",
        "    </tr>\n",
        "    <tr>\n",
        "      <th>6      </th>\n",
        "      <td> 2012-05-01</td>\n",
        "      <td>              BED TIME TEA</td>\n",
        "      <td>                                 GOLDEN FLAXSEEDS</td>\n",
        "      <td>                                            [1017]</td>\n",
        "      <td>                                            [1011]</td>\n",
        "      <td>          2012-05-01,BED TIME TEA,GOLDEN FLAXSEEDS</td>\n",
        "      <td> 0</td>\n",
        "    </tr>\n",
        "    <tr>\n",
        "      <th>7      </th>\n",
        "      <td> 2012-05-01</td>\n",
        "      <td>              BED TIME TEA</td>\n",
        "      <td>           GREEN TEA WITH ECHINACEA &amp; BLACK SEEDS</td>\n",
        "      <td>                                            [1017]</td>\n",
        "      <td>                                            [1010]</td>\n",
        "      <td> 2012-05-01,BED TIME TEA,GREEN TEA WITH ECHINAC...</td>\n",
        "      <td> 0</td>\n",
        "    </tr>\n",
        "    <tr>\n",
        "      <th>8      </th>\n",
        "      <td> 2012-05-01</td>\n",
        "      <td>              BED TIME TEA</td>\n",
        "      <td>                    ICED TEA WITH CRANBERRY JUICE</td>\n",
        "      <td>                                            [1017]</td>\n",
        "      <td>                                            [1017]</td>\n",
        "      <td> 2012-05-01,BED TIME TEA,ICED TEA WITH CRANBERR...</td>\n",
        "      <td> 1</td>\n",
        "    </tr>\n",
        "    <tr>\n",
        "      <th>9      </th>\n",
        "      <td> 2012-05-01</td>\n",
        "      <td>              BED TIME TEA</td>\n",
        "      <td>                       ICED TEA WITH LEMON FLAVOR</td>\n",
        "      <td>                                            [1017]</td>\n",
        "      <td>                                            [1017]</td>\n",
        "      <td> 2012-05-01,BED TIME TEA,ICED TEA WITH LEMON FL...</td>\n",
        "      <td> 1</td>\n",
        "    </tr>\n",
        "    <tr>\n",
        "      <th>10     </th>\n",
        "      <td> 2012-05-01</td>\n",
        "      <td>              BED TIME TEA</td>\n",
        "      <td>                       ICED TEA WITH PEACH FLAVOR</td>\n",
        "      <td>                                            [1017]</td>\n",
        "      <td>                                            [1017]</td>\n",
        "      <td> 2012-05-01,BED TIME TEA,ICED TEA WITH PEACH FL...</td>\n",
        "      <td> 1</td>\n",
        "    </tr>\n",
        "    <tr>\n",
        "      <th>11     </th>\n",
        "      <td> 2012-05-01</td>\n",
        "      <td>              BED TIME TEA</td>\n",
        "      <td>                               LIVER WELLNESS TEA</td>\n",
        "      <td>                                            [1017]</td>\n",
        "      <td>                                            [1005]</td>\n",
        "      <td>        2012-05-01,BED TIME TEA,LIVER WELLNESS TEA</td>\n",
        "      <td> 0</td>\n",
        "    </tr>\n",
        "    <tr>\n",
        "      <th>12     </th>\n",
        "      <td> 2012-05-01</td>\n",
        "      <td>              BED TIME TEA</td>\n",
        "      <td>                                 MOTHER TO BE TEA</td>\n",
        "      <td>                                            [1017]</td>\n",
        "      <td>                                            [1017]</td>\n",
        "      <td>          2012-05-01,BED TIME TEA,MOTHER TO BE TEA</td>\n",
        "      <td> 1</td>\n",
        "    </tr>\n",
        "    <tr>\n",
        "      <th>13     </th>\n",
        "      <td> 2012-05-01</td>\n",
        "      <td>              BED TIME TEA</td>\n",
        "      <td>                                      NEW MOM TEA</td>\n",
        "      <td>                                            [1017]</td>\n",
        "      <td>                                            [1017]</td>\n",
        "      <td>               2012-05-01,BED TIME TEA,NEW MOM TEA</td>\n",
        "      <td> 1</td>\n",
        "    </tr>\n",
        "    <tr>\n",
        "      <th>14     </th>\n",
        "      <td> 2012-05-01</td>\n",
        "      <td>              BED TIME TEA</td>\n",
        "      <td>                                    OLD GHAR SOAP</td>\n",
        "      <td>                                            [1017]</td>\n",
        "      <td>                                      [1016, 1013]</td>\n",
        "      <td>             2012-05-01,BED TIME TEA,OLD GHAR SOAP</td>\n",
        "      <td> 0</td>\n",
        "    </tr>\n",
        "    <tr>\n",
        "      <th>15     </th>\n",
        "      <td> 2012-05-01</td>\n",
        "      <td>              BED TIME TEA</td>\n",
        "      <td>                               ORGANIC FLAX SEEDS</td>\n",
        "      <td>                                            [1017]</td>\n",
        "      <td>                                            [1010]</td>\n",
        "      <td>        2012-05-01,BED TIME TEA,ORGANIC FLAX SEEDS</td>\n",
        "      <td> 0</td>\n",
        "    </tr>\n",
        "    <tr>\n",
        "      <th>16     </th>\n",
        "      <td> 2012-05-01</td>\n",
        "      <td>              BED TIME TEA</td>\n",
        "      <td>                    ORGANIC SUN-DRIED MANGO CHIPS</td>\n",
        "      <td>                                            [1017]</td>\n",
        "      <td>                                            [1008]</td>\n",
        "      <td> 2012-05-01,BED TIME TEA,ORGANIC SUN-DRIED MANG...</td>\n",
        "      <td> 0</td>\n",
        "    </tr>\n",
        "    <tr>\n",
        "      <th>17     </th>\n",
        "      <td> 2012-05-01</td>\n",
        "      <td>              BED TIME TEA</td>\n",
        "      <td>                         POWER PROTEIN BAR PEANUT</td>\n",
        "      <td>                                            [1017]</td>\n",
        "      <td>                                      [1009, 1006]</td>\n",
        "      <td>  2012-05-01,BED TIME TEA,POWER PROTEIN BAR PEANUT</td>\n",
        "      <td> 0</td>\n",
        "    </tr>\n",
        "    <tr>\n",
        "      <th>18     </th>\n",
        "      <td> 2012-05-01</td>\n",
        "      <td>              BED TIME TEA</td>\n",
        "      <td>                                    PUMPKIN SEEDS</td>\n",
        "      <td>                                            [1017]</td>\n",
        "      <td>                                [1016, 1010, 1005]</td>\n",
        "      <td>             2012-05-01,BED TIME TEA,PUMPKIN SEEDS</td>\n",
        "      <td> 0</td>\n",
        "    </tr>\n",
        "    <tr>\n",
        "      <th>19     </th>\n",
        "      <td> 2012-05-01</td>\n",
        "      <td>              BED TIME TEA</td>\n",
        "      <td> RAVIOLI FIRE ROASTED TOMATO, MOZARELLA AND BASIL</td>\n",
        "      <td>                                            [1017]</td>\n",
        "      <td>                                            [1010]</td>\n",
        "      <td> 2012-05-01,BED TIME TEA,RAVIOLI FIRE ROASTED T...</td>\n",
        "      <td> 0</td>\n",
        "    </tr>\n",
        "    <tr>\n",
        "      <th>20     </th>\n",
        "      <td> 2012-05-01</td>\n",
        "      <td>              BED TIME TEA</td>\n",
        "      <td>                        RAW ALMONDS WITHOUT SHELL</td>\n",
        "      <td>                                            [1017]</td>\n",
        "      <td>                                [1012, 1008, 1007]</td>\n",
        "      <td> 2012-05-01,BED TIME TEA,RAW ALMONDS WITHOUT SHELL</td>\n",
        "      <td> 0</td>\n",
        "    </tr>\n",
        "    <tr>\n",
        "      <th>21     </th>\n",
        "      <td> 2012-05-01</td>\n",
        "      <td>              BED TIME TEA</td>\n",
        "      <td>                                   RAW BEE POLLEN</td>\n",
        "      <td>                                            [1017]</td>\n",
        "      <td>                                            [1007]</td>\n",
        "      <td>            2012-05-01,BED TIME TEA,RAW BEE POLLEN</td>\n",
        "      <td> 0</td>\n",
        "    </tr>\n",
        "    <tr>\n",
        "      <th>22     </th>\n",
        "      <td> 2012-05-01</td>\n",
        "      <td>              BED TIME TEA</td>\n",
        "      <td>                                       RAW CASHEW</td>\n",
        "      <td>                                            [1017]</td>\n",
        "      <td>                                      [1008, 1006]</td>\n",
        "      <td>                2012-05-01,BED TIME TEA,RAW CASHEW</td>\n",
        "      <td> 0</td>\n",
        "    </tr>\n",
        "    <tr>\n",
        "      <th>23     </th>\n",
        "      <td> 2012-05-01</td>\n",
        "      <td>              BED TIME TEA</td>\n",
        "      <td>                                        RAW PECAN</td>\n",
        "      <td>                                            [1017]</td>\n",
        "      <td>                                      [1008, 1006]</td>\n",
        "      <td>                 2012-05-01,BED TIME TEA,RAW PECAN</td>\n",
        "      <td> 0</td>\n",
        "    </tr>\n",
        "    <tr>\n",
        "      <th>24     </th>\n",
        "      <td> 2012-05-01</td>\n",
        "      <td>              BED TIME TEA</td>\n",
        "      <td>                             RAW PISTACHIO KERNEL</td>\n",
        "      <td>                                            [1017]</td>\n",
        "      <td>                                            [1006]</td>\n",
        "      <td>      2012-05-01,BED TIME TEA,RAW PISTACHIO KERNEL</td>\n",
        "      <td> 0</td>\n",
        "    </tr>\n",
        "    <tr>\n",
        "      <th>25     </th>\n",
        "      <td> 2012-05-01</td>\n",
        "      <td>              BED TIME TEA</td>\n",
        "      <td>                             RAW SLIVERED ALMONDS</td>\n",
        "      <td>                                            [1017]</td>\n",
        "      <td>                                            [1016]</td>\n",
        "      <td>      2012-05-01,BED TIME TEA,RAW SLIVERED ALMONDS</td>\n",
        "      <td> 0</td>\n",
        "    </tr>\n",
        "    <tr>\n",
        "      <th>26     </th>\n",
        "      <td> 2012-05-01</td>\n",
        "      <td>              BED TIME TEA</td>\n",
        "      <td>                         RAW WALNUT WITHOUT SHELL</td>\n",
        "      <td>                                            [1017]</td>\n",
        "      <td>                          [1008, 1007, 1006, 1005]</td>\n",
        "      <td>  2012-05-01,BED TIME TEA,RAW WALNUT WITHOUT SHELL</td>\n",
        "      <td> 0</td>\n",
        "    </tr>\n",
        "    <tr>\n",
        "      <th>27     </th>\n",
        "      <td> 2012-05-01</td>\n",
        "      <td>              BED TIME TEA</td>\n",
        "      <td>                            SOY MILK CALCIUM PLUS</td>\n",
        "      <td>                                            [1017]</td>\n",
        "      <td>                                            [1015]</td>\n",
        "      <td>     2012-05-01,BED TIME TEA,SOY MILK CALCIUM PLUS</td>\n",
        "      <td> 0</td>\n",
        "    </tr>\n",
        "    <tr>\n",
        "      <th>28     </th>\n",
        "      <td> 2012-05-01</td>\n",
        "      <td>              BED TIME TEA</td>\n",
        "      <td>                 STIR FRY VEGETABLES - DRAGON MIX</td>\n",
        "      <td>                                            [1017]</td>\n",
        "      <td>                                            [1010]</td>\n",
        "      <td> 2012-05-01,BED TIME TEA,STIR FRY VEGETABLES - ...</td>\n",
        "      <td> 0</td>\n",
        "    </tr>\n",
        "    <tr>\n",
        "      <th>29     </th>\n",
        "      <td> 2012-05-01</td>\n",
        "      <td>              BED TIME TEA</td>\n",
        "      <td>                        TEA TREE ANTISEPTIC CREAM</td>\n",
        "      <td>                                            [1017]</td>\n",
        "      <td>                                            [1010]</td>\n",
        "      <td> 2012-05-01,BED TIME TEA,TEA TREE ANTISEPTIC CREAM</td>\n",
        "      <td> 0</td>\n",
        "    </tr>\n",
        "    <tr>\n",
        "      <th>...</th>\n",
        "      <td>...</td>\n",
        "      <td>...</td>\n",
        "      <td>...</td>\n",
        "      <td>...</td>\n",
        "      <td>...</td>\n",
        "      <td>...</td>\n",
        "      <td>...</td>\n",
        "    </tr>\n",
        "    <tr>\n",
        "      <th>1380921</th>\n",
        "      <td> 2015-12-01</td>\n",
        "      <td>      WILD SHRIMP (MEDIUM)</td>\n",
        "      <td>                         ZUCCHINI (CHEMICAL FREE)</td>\n",
        "      <td>               [10303, 10263, 10260, 10232, 10198]</td>\n",
        "      <td> [10355, 10351, 10320, 10316, 10295, 10292, 102...</td>\n",
        "      <td> 2015-12-01,WILD SHRIMP (MEDIUM),ZUCCHINI (CHEM...</td>\n",
        "      <td> 1</td>\n",
        "    </tr>\n",
        "    <tr>\n",
        "      <th>1380922</th>\n",
        "      <td> 2015-12-01</td>\n",
        "      <td>      WILD SHRIMP (MEDIUM)</td>\n",
        "      <td>                               ZUCCHINI (ORGANIC)</td>\n",
        "      <td>               [10303, 10263, 10260, 10232, 10198]</td>\n",
        "      <td>                      [10321, 10306, 10218, 10213]</td>\n",
        "      <td> 2015-12-01,WILD SHRIMP (MEDIUM),ZUCCHINI (ORGA...</td>\n",
        "      <td> 0</td>\n",
        "    </tr>\n",
        "    <tr>\n",
        "      <th>1380923</th>\n",
        "      <td> 2015-12-01</td>\n",
        "      <td>       WILD SHRIMP (SMALL)</td>\n",
        "      <td>                        WILD YELLOW FINTUNA STEAK</td>\n",
        "      <td>               [10362, 10329, 10261, 10143, 10094]</td>\n",
        "      <td>                                           [10265]</td>\n",
        "      <td> 2015-12-01,WILD SHRIMP (SMALL),WILD YELLOW FIN...</td>\n",
        "      <td> 0</td>\n",
        "    </tr>\n",
        "    <tr>\n",
        "      <th>1380924</th>\n",
        "      <td> 2015-12-01</td>\n",
        "      <td>       WILD SHRIMP (SMALL)</td>\n",
        "      <td>                                    YELLOW APPLES</td>\n",
        "      <td>               [10362, 10329, 10261, 10143, 10094]</td>\n",
        "      <td>                                    [10316, 10203]</td>\n",
        "      <td>      2015-12-01,WILD SHRIMP (SMALL),YELLOW APPLES</td>\n",
        "      <td> 0</td>\n",
        "    </tr>\n",
        "    <tr>\n",
        "      <th>1380925</th>\n",
        "      <td> 2015-12-01</td>\n",
        "      <td>       WILD SHRIMP (SMALL)</td>\n",
        "      <td>                                   YELLOW CARROTS</td>\n",
        "      <td>               [10362, 10329, 10261, 10143, 10094]</td>\n",
        "      <td>                             [10085, 10082, 10065]</td>\n",
        "      <td>     2015-12-01,WILD SHRIMP (SMALL),YELLOW CARROTS</td>\n",
        "      <td> 0</td>\n",
        "    </tr>\n",
        "    <tr>\n",
        "      <th>1380926</th>\n",
        "      <td> 2015-12-01</td>\n",
        "      <td>       WILD SHRIMP (SMALL)</td>\n",
        "      <td>                                YELLOW GRAPEFRUIT</td>\n",
        "      <td>               [10362, 10329, 10261, 10143, 10094]</td>\n",
        "      <td>                                           [10204]</td>\n",
        "      <td>  2015-12-01,WILD SHRIMP (SMALL),YELLOW GRAPEFRUIT</td>\n",
        "      <td> 0</td>\n",
        "    </tr>\n",
        "    <tr>\n",
        "      <th>1380927</th>\n",
        "      <td> 2015-12-01</td>\n",
        "      <td>       WILD SHRIMP (SMALL)</td>\n",
        "      <td>                                   YELLOW MUSTARD</td>\n",
        "      <td>               [10362, 10329, 10261, 10143, 10094]</td>\n",
        "      <td>                                    [10218, 10142]</td>\n",
        "      <td>     2015-12-01,WILD SHRIMP (SMALL),YELLOW MUSTARD</td>\n",
        "      <td> 0</td>\n",
        "    </tr>\n",
        "    <tr>\n",
        "      <th>1380928</th>\n",
        "      <td> 2015-12-01</td>\n",
        "      <td>       WILD SHRIMP (SMALL)</td>\n",
        "      <td>                         ZUCCHINI (CHEMICAL FREE)</td>\n",
        "      <td>               [10362, 10329, 10261, 10143, 10094]</td>\n",
        "      <td> [10355, 10351, 10320, 10316, 10295, 10292, 102...</td>\n",
        "      <td> 2015-12-01,WILD SHRIMP (SMALL),ZUCCHINI (CHEMI...</td>\n",
        "      <td> 0</td>\n",
        "    </tr>\n",
        "    <tr>\n",
        "      <th>1380929</th>\n",
        "      <td> 2015-12-01</td>\n",
        "      <td>       WILD SHRIMP (SMALL)</td>\n",
        "      <td>                               ZUCCHINI (ORGANIC)</td>\n",
        "      <td>               [10362, 10329, 10261, 10143, 10094]</td>\n",
        "      <td>                      [10321, 10306, 10218, 10213]</td>\n",
        "      <td> 2015-12-01,WILD SHRIMP (SMALL),ZUCCHINI (ORGANIC)</td>\n",
        "      <td> 0</td>\n",
        "    </tr>\n",
        "    <tr>\n",
        "      <th>1380930</th>\n",
        "      <td> 2015-12-01</td>\n",
        "      <td> WILD YELLOW FINTUNA STEAK</td>\n",
        "      <td>                                    YELLOW APPLES</td>\n",
        "      <td>                                           [10265]</td>\n",
        "      <td>                                    [10316, 10203]</td>\n",
        "      <td> 2015-12-01,WILD YELLOW FINTUNA STEAK,YELLOW AP...</td>\n",
        "      <td> 0</td>\n",
        "    </tr>\n",
        "    <tr>\n",
        "      <th>1380931</th>\n",
        "      <td> 2015-12-01</td>\n",
        "      <td> WILD YELLOW FINTUNA STEAK</td>\n",
        "      <td>                                   YELLOW CARROTS</td>\n",
        "      <td>                                           [10265]</td>\n",
        "      <td>                             [10085, 10082, 10065]</td>\n",
        "      <td> 2015-12-01,WILD YELLOW FINTUNA STEAK,YELLOW CA...</td>\n",
        "      <td> 0</td>\n",
        "    </tr>\n",
        "    <tr>\n",
        "      <th>1380932</th>\n",
        "      <td> 2015-12-01</td>\n",
        "      <td> WILD YELLOW FINTUNA STEAK</td>\n",
        "      <td>                                YELLOW GRAPEFRUIT</td>\n",
        "      <td>                                           [10265]</td>\n",
        "      <td>                                           [10204]</td>\n",
        "      <td> 2015-12-01,WILD YELLOW FINTUNA STEAK,YELLOW GR...</td>\n",
        "      <td> 0</td>\n",
        "    </tr>\n",
        "    <tr>\n",
        "      <th>1380933</th>\n",
        "      <td> 2015-12-01</td>\n",
        "      <td> WILD YELLOW FINTUNA STEAK</td>\n",
        "      <td>                                   YELLOW MUSTARD</td>\n",
        "      <td>                                           [10265]</td>\n",
        "      <td>                                    [10218, 10142]</td>\n",
        "      <td> 2015-12-01,WILD YELLOW FINTUNA STEAK,YELLOW MU...</td>\n",
        "      <td> 0</td>\n",
        "    </tr>\n",
        "    <tr>\n",
        "      <th>1380934</th>\n",
        "      <td> 2015-12-01</td>\n",
        "      <td> WILD YELLOW FINTUNA STEAK</td>\n",
        "      <td>                         ZUCCHINI (CHEMICAL FREE)</td>\n",
        "      <td>                                           [10265]</td>\n",
        "      <td> [10355, 10351, 10320, 10316, 10295, 10292, 102...</td>\n",
        "      <td> 2015-12-01,WILD YELLOW FINTUNA STEAK,ZUCCHINI ...</td>\n",
        "      <td> 0</td>\n",
        "    </tr>\n",
        "    <tr>\n",
        "      <th>1380935</th>\n",
        "      <td> 2015-12-01</td>\n",
        "      <td> WILD YELLOW FINTUNA STEAK</td>\n",
        "      <td>                               ZUCCHINI (ORGANIC)</td>\n",
        "      <td>                                           [10265]</td>\n",
        "      <td>                      [10321, 10306, 10218, 10213]</td>\n",
        "      <td> 2015-12-01,WILD YELLOW FINTUNA STEAK,ZUCCHINI ...</td>\n",
        "      <td> 0</td>\n",
        "    </tr>\n",
        "    <tr>\n",
        "      <th>1380936</th>\n",
        "      <td> 2015-12-01</td>\n",
        "      <td>             YELLOW APPLES</td>\n",
        "      <td>                                   YELLOW CARROTS</td>\n",
        "      <td>                                    [10316, 10203]</td>\n",
        "      <td>                             [10085, 10082, 10065]</td>\n",
        "      <td>           2015-12-01,YELLOW APPLES,YELLOW CARROTS</td>\n",
        "      <td> 0</td>\n",
        "    </tr>\n",
        "    <tr>\n",
        "      <th>1380937</th>\n",
        "      <td> 2015-12-01</td>\n",
        "      <td>             YELLOW APPLES</td>\n",
        "      <td>                                YELLOW GRAPEFRUIT</td>\n",
        "      <td>                                    [10316, 10203]</td>\n",
        "      <td>                                           [10204]</td>\n",
        "      <td>        2015-12-01,YELLOW APPLES,YELLOW GRAPEFRUIT</td>\n",
        "      <td> 0</td>\n",
        "    </tr>\n",
        "    <tr>\n",
        "      <th>1380938</th>\n",
        "      <td> 2015-12-01</td>\n",
        "      <td>             YELLOW APPLES</td>\n",
        "      <td>                                   YELLOW MUSTARD</td>\n",
        "      <td>                                    [10316, 10203]</td>\n",
        "      <td>                                    [10218, 10142]</td>\n",
        "      <td>           2015-12-01,YELLOW APPLES,YELLOW MUSTARD</td>\n",
        "      <td> 0</td>\n",
        "    </tr>\n",
        "    <tr>\n",
        "      <th>1380939</th>\n",
        "      <td> 2015-12-01</td>\n",
        "      <td>             YELLOW APPLES</td>\n",
        "      <td>                         ZUCCHINI (CHEMICAL FREE)</td>\n",
        "      <td>                                    [10316, 10203]</td>\n",
        "      <td> [10355, 10351, 10320, 10316, 10295, 10292, 102...</td>\n",
        "      <td> 2015-12-01,YELLOW APPLES,ZUCCHINI (CHEMICAL FREE)</td>\n",
        "      <td> 1</td>\n",
        "    </tr>\n",
        "    <tr>\n",
        "      <th>1380940</th>\n",
        "      <td> 2015-12-01</td>\n",
        "      <td>             YELLOW APPLES</td>\n",
        "      <td>                               ZUCCHINI (ORGANIC)</td>\n",
        "      <td>                                    [10316, 10203]</td>\n",
        "      <td>                      [10321, 10306, 10218, 10213]</td>\n",
        "      <td>       2015-12-01,YELLOW APPLES,ZUCCHINI (ORGANIC)</td>\n",
        "      <td> 0</td>\n",
        "    </tr>\n",
        "    <tr>\n",
        "      <th>1380941</th>\n",
        "      <td> 2015-12-01</td>\n",
        "      <td>            YELLOW CARROTS</td>\n",
        "      <td>                                YELLOW GRAPEFRUIT</td>\n",
        "      <td>                             [10085, 10082, 10065]</td>\n",
        "      <td>                                           [10204]</td>\n",
        "      <td>       2015-12-01,YELLOW CARROTS,YELLOW GRAPEFRUIT</td>\n",
        "      <td> 0</td>\n",
        "    </tr>\n",
        "    <tr>\n",
        "      <th>1380942</th>\n",
        "      <td> 2015-12-01</td>\n",
        "      <td>            YELLOW CARROTS</td>\n",
        "      <td>                                   YELLOW MUSTARD</td>\n",
        "      <td>                             [10085, 10082, 10065]</td>\n",
        "      <td>                                    [10218, 10142]</td>\n",
        "      <td>          2015-12-01,YELLOW CARROTS,YELLOW MUSTARD</td>\n",
        "      <td> 0</td>\n",
        "    </tr>\n",
        "    <tr>\n",
        "      <th>1380943</th>\n",
        "      <td> 2015-12-01</td>\n",
        "      <td>            YELLOW CARROTS</td>\n",
        "      <td>                         ZUCCHINI (CHEMICAL FREE)</td>\n",
        "      <td>                             [10085, 10082, 10065]</td>\n",
        "      <td> [10355, 10351, 10320, 10316, 10295, 10292, 102...</td>\n",
        "      <td> 2015-12-01,YELLOW CARROTS,ZUCCHINI (CHEMICAL F...</td>\n",
        "      <td> 0</td>\n",
        "    </tr>\n",
        "    <tr>\n",
        "      <th>1380944</th>\n",
        "      <td> 2015-12-01</td>\n",
        "      <td>            YELLOW CARROTS</td>\n",
        "      <td>                               ZUCCHINI (ORGANIC)</td>\n",
        "      <td>                             [10085, 10082, 10065]</td>\n",
        "      <td>                      [10321, 10306, 10218, 10213]</td>\n",
        "      <td>      2015-12-01,YELLOW CARROTS,ZUCCHINI (ORGANIC)</td>\n",
        "      <td> 0</td>\n",
        "    </tr>\n",
        "    <tr>\n",
        "      <th>1380945</th>\n",
        "      <td> 2015-12-01</td>\n",
        "      <td>         YELLOW GRAPEFRUIT</td>\n",
        "      <td>                                   YELLOW MUSTARD</td>\n",
        "      <td>                                           [10204]</td>\n",
        "      <td>                                    [10218, 10142]</td>\n",
        "      <td>       2015-12-01,YELLOW GRAPEFRUIT,YELLOW MUSTARD</td>\n",
        "      <td> 0</td>\n",
        "    </tr>\n",
        "    <tr>\n",
        "      <th>1380946</th>\n",
        "      <td> 2015-12-01</td>\n",
        "      <td>         YELLOW GRAPEFRUIT</td>\n",
        "      <td>                         ZUCCHINI (CHEMICAL FREE)</td>\n",
        "      <td>                                           [10204]</td>\n",
        "      <td> [10355, 10351, 10320, 10316, 10295, 10292, 102...</td>\n",
        "      <td> 2015-12-01,YELLOW GRAPEFRUIT,ZUCCHINI (CHEMICA...</td>\n",
        "      <td> 0</td>\n",
        "    </tr>\n",
        "    <tr>\n",
        "      <th>1380947</th>\n",
        "      <td> 2015-12-01</td>\n",
        "      <td>         YELLOW GRAPEFRUIT</td>\n",
        "      <td>                               ZUCCHINI (ORGANIC)</td>\n",
        "      <td>                                           [10204]</td>\n",
        "      <td>                      [10321, 10306, 10218, 10213]</td>\n",
        "      <td>   2015-12-01,YELLOW GRAPEFRUIT,ZUCCHINI (ORGANIC)</td>\n",
        "      <td> 0</td>\n",
        "    </tr>\n",
        "    <tr>\n",
        "      <th>1380948</th>\n",
        "      <td> 2015-12-01</td>\n",
        "      <td>            YELLOW MUSTARD</td>\n",
        "      <td>                         ZUCCHINI (CHEMICAL FREE)</td>\n",
        "      <td>                                    [10218, 10142]</td>\n",
        "      <td> [10355, 10351, 10320, 10316, 10295, 10292, 102...</td>\n",
        "      <td> 2015-12-01,YELLOW MUSTARD,ZUCCHINI (CHEMICAL F...</td>\n",
        "      <td> 0</td>\n",
        "    </tr>\n",
        "    <tr>\n",
        "      <th>1380949</th>\n",
        "      <td> 2015-12-01</td>\n",
        "      <td>            YELLOW MUSTARD</td>\n",
        "      <td>                               ZUCCHINI (ORGANIC)</td>\n",
        "      <td>                                    [10218, 10142]</td>\n",
        "      <td>                      [10321, 10306, 10218, 10213]</td>\n",
        "      <td>      2015-12-01,YELLOW MUSTARD,ZUCCHINI (ORGANIC)</td>\n",
        "      <td> 1</td>\n",
        "    </tr>\n",
        "    <tr>\n",
        "      <th>1380950</th>\n",
        "      <td> 2015-12-01</td>\n",
        "      <td>  ZUCCHINI (CHEMICAL FREE)</td>\n",
        "      <td>                               ZUCCHINI (ORGANIC)</td>\n",
        "      <td> [10355, 10351, 10320, 10316, 10295, 10292, 102...</td>\n",
        "      <td>                      [10321, 10306, 10218, 10213]</td>\n",
        "      <td> 2015-12-01,ZUCCHINI (CHEMICAL FREE),ZUCCHINI (...</td>\n",
        "      <td> 0</td>\n",
        "    </tr>\n",
        "  </tbody>\n",
        "</table>\n",
        "<p>1380951 rows \u00d7 7 columns</p>\n",
        "</div>"
       ],
       "metadata": {},
       "output_type": "pyout",
       "prompt_number": 41,
       "text": [
        "               Date                   Product1  \\\n",
        "0        2012-05-01               BED TIME TEA   \n",
        "1        2012-05-01               BED TIME TEA   \n",
        "2        2012-05-01               BED TIME TEA   \n",
        "3        2012-05-01               BED TIME TEA   \n",
        "4        2012-05-01               BED TIME TEA   \n",
        "5        2012-05-01               BED TIME TEA   \n",
        "6        2012-05-01               BED TIME TEA   \n",
        "7        2012-05-01               BED TIME TEA   \n",
        "8        2012-05-01               BED TIME TEA   \n",
        "9        2012-05-01               BED TIME TEA   \n",
        "10       2012-05-01               BED TIME TEA   \n",
        "11       2012-05-01               BED TIME TEA   \n",
        "12       2012-05-01               BED TIME TEA   \n",
        "13       2012-05-01               BED TIME TEA   \n",
        "14       2012-05-01               BED TIME TEA   \n",
        "15       2012-05-01               BED TIME TEA   \n",
        "16       2012-05-01               BED TIME TEA   \n",
        "17       2012-05-01               BED TIME TEA   \n",
        "18       2012-05-01               BED TIME TEA   \n",
        "19       2012-05-01               BED TIME TEA   \n",
        "20       2012-05-01               BED TIME TEA   \n",
        "21       2012-05-01               BED TIME TEA   \n",
        "22       2012-05-01               BED TIME TEA   \n",
        "23       2012-05-01               BED TIME TEA   \n",
        "24       2012-05-01               BED TIME TEA   \n",
        "25       2012-05-01               BED TIME TEA   \n",
        "26       2012-05-01               BED TIME TEA   \n",
        "27       2012-05-01               BED TIME TEA   \n",
        "28       2012-05-01               BED TIME TEA   \n",
        "29       2012-05-01               BED TIME TEA   \n",
        "...             ...                        ...   \n",
        "1380921  2015-12-01       WILD SHRIMP (MEDIUM)   \n",
        "1380922  2015-12-01       WILD SHRIMP (MEDIUM)   \n",
        "1380923  2015-12-01        WILD SHRIMP (SMALL)   \n",
        "1380924  2015-12-01        WILD SHRIMP (SMALL)   \n",
        "1380925  2015-12-01        WILD SHRIMP (SMALL)   \n",
        "1380926  2015-12-01        WILD SHRIMP (SMALL)   \n",
        "1380927  2015-12-01        WILD SHRIMP (SMALL)   \n",
        "1380928  2015-12-01        WILD SHRIMP (SMALL)   \n",
        "1380929  2015-12-01        WILD SHRIMP (SMALL)   \n",
        "1380930  2015-12-01  WILD YELLOW FINTUNA STEAK   \n",
        "1380931  2015-12-01  WILD YELLOW FINTUNA STEAK   \n",
        "1380932  2015-12-01  WILD YELLOW FINTUNA STEAK   \n",
        "1380933  2015-12-01  WILD YELLOW FINTUNA STEAK   \n",
        "1380934  2015-12-01  WILD YELLOW FINTUNA STEAK   \n",
        "1380935  2015-12-01  WILD YELLOW FINTUNA STEAK   \n",
        "1380936  2015-12-01              YELLOW APPLES   \n",
        "1380937  2015-12-01              YELLOW APPLES   \n",
        "1380938  2015-12-01              YELLOW APPLES   \n",
        "1380939  2015-12-01              YELLOW APPLES   \n",
        "1380940  2015-12-01              YELLOW APPLES   \n",
        "1380941  2015-12-01             YELLOW CARROTS   \n",
        "1380942  2015-12-01             YELLOW CARROTS   \n",
        "1380943  2015-12-01             YELLOW CARROTS   \n",
        "1380944  2015-12-01             YELLOW CARROTS   \n",
        "1380945  2015-12-01          YELLOW GRAPEFRUIT   \n",
        "1380946  2015-12-01          YELLOW GRAPEFRUIT   \n",
        "1380947  2015-12-01          YELLOW GRAPEFRUIT   \n",
        "1380948  2015-12-01             YELLOW MUSTARD   \n",
        "1380949  2015-12-01             YELLOW MUSTARD   \n",
        "1380950  2015-12-01   ZUCCHINI (CHEMICAL FREE)   \n",
        "\n",
        "                                                 Product2  \\\n",
        "0                                          BLACK SEED OIL   \n",
        "1                                            BREATHE WELL   \n",
        "2                                              BROWN RICE   \n",
        "3                                             COCONUT OIL   \n",
        "4                                  DRIED PRUNES WITH PITS   \n",
        "5                           FACE & NECK ANTIWRINKLE CREAM   \n",
        "6                                        GOLDEN FLAXSEEDS   \n",
        "7                  GREEN TEA WITH ECHINACEA & BLACK SEEDS   \n",
        "8                           ICED TEA WITH CRANBERRY JUICE   \n",
        "9                              ICED TEA WITH LEMON FLAVOR   \n",
        "10                             ICED TEA WITH PEACH FLAVOR   \n",
        "11                                     LIVER WELLNESS TEA   \n",
        "12                                       MOTHER TO BE TEA   \n",
        "13                                            NEW MOM TEA   \n",
        "14                                          OLD GHAR SOAP   \n",
        "15                                     ORGANIC FLAX SEEDS   \n",
        "16                          ORGANIC SUN-DRIED MANGO CHIPS   \n",
        "17                               POWER PROTEIN BAR PEANUT   \n",
        "18                                          PUMPKIN SEEDS   \n",
        "19       RAVIOLI FIRE ROASTED TOMATO, MOZARELLA AND BASIL   \n",
        "20                              RAW ALMONDS WITHOUT SHELL   \n",
        "21                                         RAW BEE POLLEN   \n",
        "22                                             RAW CASHEW   \n",
        "23                                              RAW PECAN   \n",
        "24                                   RAW PISTACHIO KERNEL   \n",
        "25                                   RAW SLIVERED ALMONDS   \n",
        "26                               RAW WALNUT WITHOUT SHELL   \n",
        "27                                  SOY MILK CALCIUM PLUS   \n",
        "28                       STIR FRY VEGETABLES - DRAGON MIX   \n",
        "29                              TEA TREE ANTISEPTIC CREAM   \n",
        "...                                                   ...   \n",
        "1380921                          ZUCCHINI (CHEMICAL FREE)   \n",
        "1380922                                ZUCCHINI (ORGANIC)   \n",
        "1380923                         WILD YELLOW FINTUNA STEAK   \n",
        "1380924                                     YELLOW APPLES   \n",
        "1380925                                    YELLOW CARROTS   \n",
        "1380926                                 YELLOW GRAPEFRUIT   \n",
        "1380927                                    YELLOW MUSTARD   \n",
        "1380928                          ZUCCHINI (CHEMICAL FREE)   \n",
        "1380929                                ZUCCHINI (ORGANIC)   \n",
        "1380930                                     YELLOW APPLES   \n",
        "1380931                                    YELLOW CARROTS   \n",
        "1380932                                 YELLOW GRAPEFRUIT   \n",
        "1380933                                    YELLOW MUSTARD   \n",
        "1380934                          ZUCCHINI (CHEMICAL FREE)   \n",
        "1380935                                ZUCCHINI (ORGANIC)   \n",
        "1380936                                    YELLOW CARROTS   \n",
        "1380937                                 YELLOW GRAPEFRUIT   \n",
        "1380938                                    YELLOW MUSTARD   \n",
        "1380939                          ZUCCHINI (CHEMICAL FREE)   \n",
        "1380940                                ZUCCHINI (ORGANIC)   \n",
        "1380941                                 YELLOW GRAPEFRUIT   \n",
        "1380942                                    YELLOW MUSTARD   \n",
        "1380943                          ZUCCHINI (CHEMICAL FREE)   \n",
        "1380944                                ZUCCHINI (ORGANIC)   \n",
        "1380945                                    YELLOW MUSTARD   \n",
        "1380946                          ZUCCHINI (CHEMICAL FREE)   \n",
        "1380947                                ZUCCHINI (ORGANIC)   \n",
        "1380948                          ZUCCHINI (CHEMICAL FREE)   \n",
        "1380949                                ZUCCHINI (ORGANIC)   \n",
        "1380950                                ZUCCHINI (ORGANIC)   \n",
        "\n",
        "                                                    Order1  \\\n",
        "0                                                   [1017]   \n",
        "1                                                   [1017]   \n",
        "2                                                   [1017]   \n",
        "3                                                   [1017]   \n",
        "4                                                   [1017]   \n",
        "5                                                   [1017]   \n",
        "6                                                   [1017]   \n",
        "7                                                   [1017]   \n",
        "8                                                   [1017]   \n",
        "9                                                   [1017]   \n",
        "10                                                  [1017]   \n",
        "11                                                  [1017]   \n",
        "12                                                  [1017]   \n",
        "13                                                  [1017]   \n",
        "14                                                  [1017]   \n",
        "15                                                  [1017]   \n",
        "16                                                  [1017]   \n",
        "17                                                  [1017]   \n",
        "18                                                  [1017]   \n",
        "19                                                  [1017]   \n",
        "20                                                  [1017]   \n",
        "21                                                  [1017]   \n",
        "22                                                  [1017]   \n",
        "23                                                  [1017]   \n",
        "24                                                  [1017]   \n",
        "25                                                  [1017]   \n",
        "26                                                  [1017]   \n",
        "27                                                  [1017]   \n",
        "28                                                  [1017]   \n",
        "29                                                  [1017]   \n",
        "...                                                    ...   \n",
        "1380921                [10303, 10263, 10260, 10232, 10198]   \n",
        "1380922                [10303, 10263, 10260, 10232, 10198]   \n",
        "1380923                [10362, 10329, 10261, 10143, 10094]   \n",
        "1380924                [10362, 10329, 10261, 10143, 10094]   \n",
        "1380925                [10362, 10329, 10261, 10143, 10094]   \n",
        "1380926                [10362, 10329, 10261, 10143, 10094]   \n",
        "1380927                [10362, 10329, 10261, 10143, 10094]   \n",
        "1380928                [10362, 10329, 10261, 10143, 10094]   \n",
        "1380929                [10362, 10329, 10261, 10143, 10094]   \n",
        "1380930                                            [10265]   \n",
        "1380931                                            [10265]   \n",
        "1380932                                            [10265]   \n",
        "1380933                                            [10265]   \n",
        "1380934                                            [10265]   \n",
        "1380935                                            [10265]   \n",
        "1380936                                     [10316, 10203]   \n",
        "1380937                                     [10316, 10203]   \n",
        "1380938                                     [10316, 10203]   \n",
        "1380939                                     [10316, 10203]   \n",
        "1380940                                     [10316, 10203]   \n",
        "1380941                              [10085, 10082, 10065]   \n",
        "1380942                              [10085, 10082, 10065]   \n",
        "1380943                              [10085, 10082, 10065]   \n",
        "1380944                              [10085, 10082, 10065]   \n",
        "1380945                                            [10204]   \n",
        "1380946                                            [10204]   \n",
        "1380947                                            [10204]   \n",
        "1380948                                     [10218, 10142]   \n",
        "1380949                                     [10218, 10142]   \n",
        "1380950  [10355, 10351, 10320, 10316, 10295, 10292, 102...   \n",
        "\n",
        "                                                    Order2  \\\n",
        "0                                             [1016, 1007]   \n",
        "1                                                   [1017]   \n",
        "2                                 [1017, 1012, 1010, 1005]   \n",
        "3                                                   [1013]   \n",
        "4                                                   [1013]   \n",
        "5                                                   [1014]   \n",
        "6                                                   [1011]   \n",
        "7                                                   [1010]   \n",
        "8                                                   [1017]   \n",
        "9                                                   [1017]   \n",
        "10                                                  [1017]   \n",
        "11                                                  [1005]   \n",
        "12                                                  [1017]   \n",
        "13                                                  [1017]   \n",
        "14                                            [1016, 1013]   \n",
        "15                                                  [1010]   \n",
        "16                                                  [1008]   \n",
        "17                                            [1009, 1006]   \n",
        "18                                      [1016, 1010, 1005]   \n",
        "19                                                  [1010]   \n",
        "20                                      [1012, 1008, 1007]   \n",
        "21                                                  [1007]   \n",
        "22                                            [1008, 1006]   \n",
        "23                                            [1008, 1006]   \n",
        "24                                                  [1006]   \n",
        "25                                                  [1016]   \n",
        "26                                [1008, 1007, 1006, 1005]   \n",
        "27                                                  [1015]   \n",
        "28                                                  [1010]   \n",
        "29                                                  [1010]   \n",
        "...                                                    ...   \n",
        "1380921  [10355, 10351, 10320, 10316, 10295, 10292, 102...   \n",
        "1380922                       [10321, 10306, 10218, 10213]   \n",
        "1380923                                            [10265]   \n",
        "1380924                                     [10316, 10203]   \n",
        "1380925                              [10085, 10082, 10065]   \n",
        "1380926                                            [10204]   \n",
        "1380927                                     [10218, 10142]   \n",
        "1380928  [10355, 10351, 10320, 10316, 10295, 10292, 102...   \n",
        "1380929                       [10321, 10306, 10218, 10213]   \n",
        "1380930                                     [10316, 10203]   \n",
        "1380931                              [10085, 10082, 10065]   \n",
        "1380932                                            [10204]   \n",
        "1380933                                     [10218, 10142]   \n",
        "1380934  [10355, 10351, 10320, 10316, 10295, 10292, 102...   \n",
        "1380935                       [10321, 10306, 10218, 10213]   \n",
        "1380936                              [10085, 10082, 10065]   \n",
        "1380937                                            [10204]   \n",
        "1380938                                     [10218, 10142]   \n",
        "1380939  [10355, 10351, 10320, 10316, 10295, 10292, 102...   \n",
        "1380940                       [10321, 10306, 10218, 10213]   \n",
        "1380941                                            [10204]   \n",
        "1380942                                     [10218, 10142]   \n",
        "1380943  [10355, 10351, 10320, 10316, 10295, 10292, 102...   \n",
        "1380944                       [10321, 10306, 10218, 10213]   \n",
        "1380945                                     [10218, 10142]   \n",
        "1380946  [10355, 10351, 10320, 10316, 10295, 10292, 102...   \n",
        "1380947                       [10321, 10306, 10218, 10213]   \n",
        "1380948  [10355, 10351, 10320, 10316, 10295, 10292, 102...   \n",
        "1380949                       [10321, 10306, 10218, 10213]   \n",
        "1380950                       [10321, 10306, 10218, 10213]   \n",
        "\n",
        "                                                    newcol  Count  \n",
        "0                   2012-05-01,BED TIME TEA,BLACK SEED OIL      0  \n",
        "1                     2012-05-01,BED TIME TEA,BREATHE WELL      1  \n",
        "2                       2012-05-01,BED TIME TEA,BROWN RICE      1  \n",
        "3                      2012-05-01,BED TIME TEA,COCONUT OIL      0  \n",
        "4           2012-05-01,BED TIME TEA,DRIED PRUNES WITH PITS      0  \n",
        "5        2012-05-01,BED TIME TEA,FACE & NECK ANTIWRINKL...      0  \n",
        "6                 2012-05-01,BED TIME TEA,GOLDEN FLAXSEEDS      0  \n",
        "7        2012-05-01,BED TIME TEA,GREEN TEA WITH ECHINAC...      0  \n",
        "8        2012-05-01,BED TIME TEA,ICED TEA WITH CRANBERR...      1  \n",
        "9        2012-05-01,BED TIME TEA,ICED TEA WITH LEMON FL...      1  \n",
        "10       2012-05-01,BED TIME TEA,ICED TEA WITH PEACH FL...      1  \n",
        "11              2012-05-01,BED TIME TEA,LIVER WELLNESS TEA      0  \n",
        "12                2012-05-01,BED TIME TEA,MOTHER TO BE TEA      1  \n",
        "13                     2012-05-01,BED TIME TEA,NEW MOM TEA      1  \n",
        "14                   2012-05-01,BED TIME TEA,OLD GHAR SOAP      0  \n",
        "15              2012-05-01,BED TIME TEA,ORGANIC FLAX SEEDS      0  \n",
        "16       2012-05-01,BED TIME TEA,ORGANIC SUN-DRIED MANG...      0  \n",
        "17        2012-05-01,BED TIME TEA,POWER PROTEIN BAR PEANUT      0  \n",
        "18                   2012-05-01,BED TIME TEA,PUMPKIN SEEDS      0  \n",
        "19       2012-05-01,BED TIME TEA,RAVIOLI FIRE ROASTED T...      0  \n",
        "20       2012-05-01,BED TIME TEA,RAW ALMONDS WITHOUT SHELL      0  \n",
        "21                  2012-05-01,BED TIME TEA,RAW BEE POLLEN      0  \n",
        "22                      2012-05-01,BED TIME TEA,RAW CASHEW      0  \n",
        "23                       2012-05-01,BED TIME TEA,RAW PECAN      0  \n",
        "24            2012-05-01,BED TIME TEA,RAW PISTACHIO KERNEL      0  \n",
        "25            2012-05-01,BED TIME TEA,RAW SLIVERED ALMONDS      0  \n",
        "26        2012-05-01,BED TIME TEA,RAW WALNUT WITHOUT SHELL      0  \n",
        "27           2012-05-01,BED TIME TEA,SOY MILK CALCIUM PLUS      0  \n",
        "28       2012-05-01,BED TIME TEA,STIR FRY VEGETABLES - ...      0  \n",
        "29       2012-05-01,BED TIME TEA,TEA TREE ANTISEPTIC CREAM      0  \n",
        "...                                                    ...    ...  \n",
        "1380921  2015-12-01,WILD SHRIMP (MEDIUM),ZUCCHINI (CHEM...      1  \n",
        "1380922  2015-12-01,WILD SHRIMP (MEDIUM),ZUCCHINI (ORGA...      0  \n",
        "1380923  2015-12-01,WILD SHRIMP (SMALL),WILD YELLOW FIN...      0  \n",
        "1380924       2015-12-01,WILD SHRIMP (SMALL),YELLOW APPLES      0  \n",
        "1380925      2015-12-01,WILD SHRIMP (SMALL),YELLOW CARROTS      0  \n",
        "1380926   2015-12-01,WILD SHRIMP (SMALL),YELLOW GRAPEFRUIT      0  \n",
        "1380927      2015-12-01,WILD SHRIMP (SMALL),YELLOW MUSTARD      0  \n",
        "1380928  2015-12-01,WILD SHRIMP (SMALL),ZUCCHINI (CHEMI...      0  \n",
        "1380929  2015-12-01,WILD SHRIMP (SMALL),ZUCCHINI (ORGANIC)      0  \n",
        "1380930  2015-12-01,WILD YELLOW FINTUNA STEAK,YELLOW AP...      0  \n",
        "1380931  2015-12-01,WILD YELLOW FINTUNA STEAK,YELLOW CA...      0  \n",
        "1380932  2015-12-01,WILD YELLOW FINTUNA STEAK,YELLOW GR...      0  \n",
        "1380933  2015-12-01,WILD YELLOW FINTUNA STEAK,YELLOW MU...      0  \n",
        "1380934  2015-12-01,WILD YELLOW FINTUNA STEAK,ZUCCHINI ...      0  \n",
        "1380935  2015-12-01,WILD YELLOW FINTUNA STEAK,ZUCCHINI ...      0  \n",
        "1380936            2015-12-01,YELLOW APPLES,YELLOW CARROTS      0  \n",
        "1380937         2015-12-01,YELLOW APPLES,YELLOW GRAPEFRUIT      0  \n",
        "1380938            2015-12-01,YELLOW APPLES,YELLOW MUSTARD      0  \n",
        "1380939  2015-12-01,YELLOW APPLES,ZUCCHINI (CHEMICAL FREE)      1  \n",
        "1380940        2015-12-01,YELLOW APPLES,ZUCCHINI (ORGANIC)      0  \n",
        "1380941        2015-12-01,YELLOW CARROTS,YELLOW GRAPEFRUIT      0  \n",
        "1380942           2015-12-01,YELLOW CARROTS,YELLOW MUSTARD      0  \n",
        "1380943  2015-12-01,YELLOW CARROTS,ZUCCHINI (CHEMICAL F...      0  \n",
        "1380944       2015-12-01,YELLOW CARROTS,ZUCCHINI (ORGANIC)      0  \n",
        "1380945        2015-12-01,YELLOW GRAPEFRUIT,YELLOW MUSTARD      0  \n",
        "1380946  2015-12-01,YELLOW GRAPEFRUIT,ZUCCHINI (CHEMICA...      0  \n",
        "1380947    2015-12-01,YELLOW GRAPEFRUIT,ZUCCHINI (ORGANIC)      0  \n",
        "1380948  2015-12-01,YELLOW MUSTARD,ZUCCHINI (CHEMICAL F...      0  \n",
        "1380949       2015-12-01,YELLOW MUSTARD,ZUCCHINI (ORGANIC)      1  \n",
        "1380950  2015-12-01,ZUCCHINI (CHEMICAL FREE),ZUCCHINI (...      0  \n",
        "\n",
        "[1380951 rows x 7 columns]"
       ]
      }
     ],
     "prompt_number": 41
    },
    {
     "cell_type": "code",
     "collapsed": false,
     "input": [
      "df = df[['Date', 'Product1', 'Product2', 'Count']]\n",
      "df = df[df.Count != 0]\n",
      "df = df.sort(['Count'], ascending=False).reset_index().drop('index', 1)\n",
      "df"
     ],
     "language": "python",
     "metadata": {},
     "outputs": [
      {
       "html": [
        "<div style=\"max-height:1000px;max-width:1500px;overflow:auto;\">\n",
        "<table border=\"1\" class=\"dataframe\">\n",
        "  <thead>\n",
        "    <tr style=\"text-align: right;\">\n",
        "      <th></th>\n",
        "      <th>Date</th>\n",
        "      <th>Product1</th>\n",
        "      <th>Product2</th>\n",
        "      <th>Count</th>\n",
        "    </tr>\n",
        "  </thead>\n",
        "  <tbody>\n",
        "    <tr>\n",
        "      <th>0     </th>\n",
        "      <td> 2015-03-01</td>\n",
        "      <td>          CUCUMBER ( CHEMICAL FREE )</td>\n",
        "      <td>                          TOMATO ( CHEMICAL FREE )</td>\n",
        "      <td> 64</td>\n",
        "    </tr>\n",
        "    <tr>\n",
        "      <th>1     </th>\n",
        "      <td> 2015-01-01</td>\n",
        "      <td>          CUCUMBER ( CHEMICAL FREE )</td>\n",
        "      <td>                          TOMATO ( CHEMICAL FREE )</td>\n",
        "      <td> 49</td>\n",
        "    </tr>\n",
        "    <tr>\n",
        "      <th>2     </th>\n",
        "      <td> 2015-01-01</td>\n",
        "      <td>          CUCUMBER ( CHEMICAL FREE )</td>\n",
        "      <td>                   YELLOW CARROT ( CHEMICAL FREE )</td>\n",
        "      <td> 48</td>\n",
        "    </tr>\n",
        "    <tr>\n",
        "      <th>3     </th>\n",
        "      <td> 2015-04-01</td>\n",
        "      <td>          CUCUMBER ( CHEMICAL FREE )</td>\n",
        "      <td>                          TOMATO ( CHEMICAL FREE )</td>\n",
        "      <td> 45</td>\n",
        "    </tr>\n",
        "    <tr>\n",
        "      <th>4     </th>\n",
        "      <td> 2015-03-01</td>\n",
        "      <td> BALADY WHOLE CHICKEN(CHEMICAL FREE)</td>\n",
        "      <td>                         CHICKEN BREASTS 1KG - 1KG</td>\n",
        "      <td> 43</td>\n",
        "    </tr>\n",
        "    <tr>\n",
        "      <th>5     </th>\n",
        "      <td> 2015-03-01</td>\n",
        "      <td>             BANANAS (CHEMICAL FREE)</td>\n",
        "      <td>                        CUCUMBER ( CHEMICAL FREE )</td>\n",
        "      <td> 42</td>\n",
        "    </tr>\n",
        "    <tr>\n",
        "      <th>6     </th>\n",
        "      <td> 2015-03-01</td>\n",
        "      <td>             BANANAS (CHEMICAL FREE)</td>\n",
        "      <td>                          TOMATO ( CHEMICAL FREE )</td>\n",
        "      <td> 40</td>\n",
        "    </tr>\n",
        "    <tr>\n",
        "      <th>7     </th>\n",
        "      <td> 2015-02-01</td>\n",
        "      <td>          CUCUMBER ( CHEMICAL FREE )</td>\n",
        "      <td>                   YELLOW CARROT ( CHEMICAL FREE )</td>\n",
        "      <td> 38</td>\n",
        "    </tr>\n",
        "    <tr>\n",
        "      <th>8     </th>\n",
        "      <td> 2015-03-01</td>\n",
        "      <td>            TOMATO ( CHEMICAL FREE )</td>\n",
        "      <td>                   YELLOW CARROT ( CHEMICAL FREE )</td>\n",
        "      <td> 38</td>\n",
        "    </tr>\n",
        "    <tr>\n",
        "      <th>9     </th>\n",
        "      <td> 2015-03-01</td>\n",
        "      <td>       BALADY EGGS ( CHEMICAL FREE )</td>\n",
        "      <td>                        CUCUMBER ( CHEMICAL FREE )</td>\n",
        "      <td> 38</td>\n",
        "    </tr>\n",
        "    <tr>\n",
        "      <th>10    </th>\n",
        "      <td> 2015-01-01</td>\n",
        "      <td>            TOMATO ( CHEMICAL FREE )</td>\n",
        "      <td>                   YELLOW CARROT ( CHEMICAL FREE )</td>\n",
        "      <td> 37</td>\n",
        "    </tr>\n",
        "    <tr>\n",
        "      <th>11    </th>\n",
        "      <td> 2015-03-01</td>\n",
        "      <td>       BALADY EGGS ( CHEMICAL FREE )</td>\n",
        "      <td>               BALADY WHOLE CHICKEN(CHEMICAL FREE)</td>\n",
        "      <td> 37</td>\n",
        "    </tr>\n",
        "    <tr>\n",
        "      <th>12    </th>\n",
        "      <td> 2015-03-01</td>\n",
        "      <td>          CUCUMBER ( CHEMICAL FREE )</td>\n",
        "      <td>                   YELLOW CARROT ( CHEMICAL FREE )</td>\n",
        "      <td> 37</td>\n",
        "    </tr>\n",
        "    <tr>\n",
        "      <th>13    </th>\n",
        "      <td> 2015-03-01</td>\n",
        "      <td> BALADY WHOLE CHICKEN(CHEMICAL FREE)</td>\n",
        "      <td>                        CUCUMBER ( CHEMICAL FREE )</td>\n",
        "      <td> 37</td>\n",
        "    </tr>\n",
        "    <tr>\n",
        "      <th>14    </th>\n",
        "      <td> 2015-02-01</td>\n",
        "      <td>            POTATOES( CHEMICAL FREE)</td>\n",
        "      <td>                   YELLOW CARROT ( CHEMICAL FREE )</td>\n",
        "      <td> 37</td>\n",
        "    </tr>\n",
        "    <tr>\n",
        "      <th>15    </th>\n",
        "      <td> 2015-01-01</td>\n",
        "      <td>            POTATOES( CHEMICAL FREE)</td>\n",
        "      <td>                   YELLOW CARROT ( CHEMICAL FREE )</td>\n",
        "      <td> 36</td>\n",
        "    </tr>\n",
        "    <tr>\n",
        "      <th>16    </th>\n",
        "      <td> 2015-03-01</td>\n",
        "      <td>       BALADY EGGS ( CHEMICAL FREE )</td>\n",
        "      <td>                          TOMATO ( CHEMICAL FREE )</td>\n",
        "      <td> 35</td>\n",
        "    </tr>\n",
        "    <tr>\n",
        "      <th>17    </th>\n",
        "      <td> 2015-04-01</td>\n",
        "      <td>         BABY SPINACH(CHEMICAL FREE)</td>\n",
        "      <td>                              KALE (CHEMICAL FREE)</td>\n",
        "      <td> 33</td>\n",
        "    </tr>\n",
        "    <tr>\n",
        "      <th>18    </th>\n",
        "      <td> 2015-10-01</td>\n",
        "      <td>        BABY SPINACH (CHEMICAL FREE)</td>\n",
        "      <td>                             BALADY EGGS (ORGANIC)</td>\n",
        "      <td> 33</td>\n",
        "    </tr>\n",
        "    <tr>\n",
        "      <th>19    </th>\n",
        "      <td> 2015-01-01</td>\n",
        "      <td>     YELLOW CARROT ( CHEMICAL FREE )</td>\n",
        "      <td>                        ZUCCHINI ( CHEMICAL FREE )</td>\n",
        "      <td> 33</td>\n",
        "    </tr>\n",
        "    <tr>\n",
        "      <th>20    </th>\n",
        "      <td> 2015-03-01</td>\n",
        "      <td>             BEETROOT(CHEMICAL FREE)</td>\n",
        "      <td>                        CUCUMBER ( CHEMICAL FREE )</td>\n",
        "      <td> 32</td>\n",
        "    </tr>\n",
        "    <tr>\n",
        "      <th>21    </th>\n",
        "      <td> 2015-05-01</td>\n",
        "      <td>                 CHICKEN BREASTS 1KG</td>\n",
        "      <td>                                 WHOLE CHICKEN 1KG</td>\n",
        "      <td> 32</td>\n",
        "    </tr>\n",
        "    <tr>\n",
        "      <th>22    </th>\n",
        "      <td> 2014-10-01</td>\n",
        "      <td>          CUCUMBER ( CHEMICAL FREE )</td>\n",
        "      <td>                          TOMATO ( CHEMICAL FREE )</td>\n",
        "      <td> 31</td>\n",
        "    </tr>\n",
        "    <tr>\n",
        "      <th>23    </th>\n",
        "      <td> 2015-03-01</td>\n",
        "      <td>                 AVOCADOS (IMPORTED)</td>\n",
        "      <td>                                      BABY SPINACH</td>\n",
        "      <td> 30</td>\n",
        "    </tr>\n",
        "    <tr>\n",
        "      <th>24    </th>\n",
        "      <td> 2015-01-01</td>\n",
        "      <td>            POTATOES( CHEMICAL FREE)</td>\n",
        "      <td>                          TOMATO ( CHEMICAL FREE )</td>\n",
        "      <td> 30</td>\n",
        "    </tr>\n",
        "    <tr>\n",
        "      <th>25    </th>\n",
        "      <td> 2015-04-01</td>\n",
        "      <td>                 AVOCADOS (IMPORTED)</td>\n",
        "      <td>                       BABY SPINACH(CHEMICAL FREE)</td>\n",
        "      <td> 29</td>\n",
        "    </tr>\n",
        "    <tr>\n",
        "      <th>26    </th>\n",
        "      <td> 2015-03-01</td>\n",
        "      <td>             BANANAS (CHEMICAL FREE)</td>\n",
        "      <td>                   YELLOW CARROT ( CHEMICAL FREE )</td>\n",
        "      <td> 29</td>\n",
        "    </tr>\n",
        "    <tr>\n",
        "      <th>27    </th>\n",
        "      <td> 2015-03-01</td>\n",
        "      <td>             BEETROOT(CHEMICAL FREE)</td>\n",
        "      <td>                          TOMATO ( CHEMICAL FREE )</td>\n",
        "      <td> 29</td>\n",
        "    </tr>\n",
        "    <tr>\n",
        "      <th>28    </th>\n",
        "      <td> 2015-01-01</td>\n",
        "      <td>          CUCUMBER ( CHEMICAL FREE )</td>\n",
        "      <td>                          POTATOES( CHEMICAL FREE)</td>\n",
        "      <td> 28</td>\n",
        "    </tr>\n",
        "    <tr>\n",
        "      <th>29    </th>\n",
        "      <td> 2015-01-01</td>\n",
        "      <td>            TOMATO ( CHEMICAL FREE )</td>\n",
        "      <td>                        ZUCCHINI ( CHEMICAL FREE )</td>\n",
        "      <td> 28</td>\n",
        "    </tr>\n",
        "    <tr>\n",
        "      <th>...</th>\n",
        "      <td>...</td>\n",
        "      <td>...</td>\n",
        "      <td>...</td>\n",
        "      <td>...</td>\n",
        "    </tr>\n",
        "    <tr>\n",
        "      <th>192463</th>\n",
        "      <td> 2014-08-01</td>\n",
        "      <td>                              CHIVES</td>\n",
        "      <td>                             GREEN ICEBERG LETTUCE</td>\n",
        "      <td>  1</td>\n",
        "    </tr>\n",
        "    <tr>\n",
        "      <th>192464</th>\n",
        "      <td> 2014-08-01</td>\n",
        "      <td>                              CHIVES</td>\n",
        "      <td>                                        JOJOBA OIL</td>\n",
        "      <td>  1</td>\n",
        "    </tr>\n",
        "    <tr>\n",
        "      <th>192465</th>\n",
        "      <td> 2014-08-01</td>\n",
        "      <td> CHICKEN CUTLETS (SHISHTAWOOK) - 1KG</td>\n",
        "      <td> MUESLI WITH BRANBERRY AND STRAWBERRIES ( ORGAN...</td>\n",
        "      <td>  1</td>\n",
        "    </tr>\n",
        "    <tr>\n",
        "      <th>192466</th>\n",
        "      <td> 2014-08-01</td>\n",
        "      <td>                              CHIVES</td>\n",
        "      <td>                                              KIWI</td>\n",
        "      <td>  1</td>\n",
        "    </tr>\n",
        "    <tr>\n",
        "      <th>192467</th>\n",
        "      <td> 2014-08-01</td>\n",
        "      <td>                              CHIVES</td>\n",
        "      <td>                                       LEMON GRASS</td>\n",
        "      <td>  1</td>\n",
        "    </tr>\n",
        "    <tr>\n",
        "      <th>192468</th>\n",
        "      <td> 2014-08-01</td>\n",
        "      <td>                              CHIVES</td>\n",
        "      <td>                            LIME ( CHEMICAL FREE )</td>\n",
        "      <td>  1</td>\n",
        "    </tr>\n",
        "    <tr>\n",
        "      <th>192469</th>\n",
        "      <td> 2014-08-01</td>\n",
        "      <td>                              CHIVES</td>\n",
        "      <td>                         MORINGA POWDER (ORGANIC )</td>\n",
        "      <td>  1</td>\n",
        "    </tr>\n",
        "    <tr>\n",
        "      <th>192470</th>\n",
        "      <td> 2014-08-01</td>\n",
        "      <td>                              CHIVES</td>\n",
        "      <td>                                          MUSHROOM</td>\n",
        "      <td>  1</td>\n",
        "    </tr>\n",
        "    <tr>\n",
        "      <th>192471</th>\n",
        "      <td> 2014-08-01</td>\n",
        "      <td>                              CHIVES</td>\n",
        "      <td>                            RASPBERRIES ( FROZEN )</td>\n",
        "      <td>  1</td>\n",
        "    </tr>\n",
        "    <tr>\n",
        "      <th>192472</th>\n",
        "      <td> 2014-08-01</td>\n",
        "      <td>                              CHIVES</td>\n",
        "      <td>                                       RED CABBAGE</td>\n",
        "      <td>  1</td>\n",
        "    </tr>\n",
        "    <tr>\n",
        "      <th>192473</th>\n",
        "      <td> 2014-08-01</td>\n",
        "      <td>                              CHIVES</td>\n",
        "      <td>                        CUCUMBER ( CHEMICAL FREE )</td>\n",
        "      <td>  1</td>\n",
        "    </tr>\n",
        "    <tr>\n",
        "      <th>192474</th>\n",
        "      <td> 2014-08-01</td>\n",
        "      <td> CHICKEN CUTLETS (SHISHTAWOOK) - 1KG</td>\n",
        "      <td>                               WHOLE CHICKEN - 1KG</td>\n",
        "      <td>  1</td>\n",
        "    </tr>\n",
        "    <tr>\n",
        "      <th>192475</th>\n",
        "      <td> 2014-08-01</td>\n",
        "      <td> CHICKEN CUTLETS (SHISHTAWOOK) - 1KG</td>\n",
        "      <td>                          TOMATO ( CHEMICAL FREE )</td>\n",
        "      <td>  1</td>\n",
        "    </tr>\n",
        "    <tr>\n",
        "      <th>192476</th>\n",
        "      <td> 2014-08-01</td>\n",
        "      <td> CHICKEN CUTLETS (SHISHTAWOOK) - 1KG</td>\n",
        "      <td>                                      SWEET ONIONS</td>\n",
        "      <td>  1</td>\n",
        "    </tr>\n",
        "    <tr>\n",
        "      <th>192477</th>\n",
        "      <td> 2014-08-01</td>\n",
        "      <td> CHICKEN CUTLETS (SHISHTAWOOK) - 1KG</td>\n",
        "      <td>    MUESLI WITH FRUITS, NUTS AND SEEDS ( ORGANIC )</td>\n",
        "      <td>  1</td>\n",
        "    </tr>\n",
        "    <tr>\n",
        "      <th>192478</th>\n",
        "      <td> 2014-08-01</td>\n",
        "      <td> CHICKEN CUTLETS (SHISHTAWOOK) - 1KG</td>\n",
        "      <td>          OATS WITH APPLE AND CINNAMON ( ORGANIC )</td>\n",
        "      <td>  1</td>\n",
        "    </tr>\n",
        "    <tr>\n",
        "      <th>192479</th>\n",
        "      <td> 2014-08-01</td>\n",
        "      <td> CHICKEN CUTLETS (SHISHTAWOOK) - 1KG</td>\n",
        "      <td>                   OLD COUNTRY STYLE MUESLI - 510G</td>\n",
        "      <td>  1</td>\n",
        "    </tr>\n",
        "    <tr>\n",
        "      <th>192480</th>\n",
        "      <td> 2014-08-01</td>\n",
        "      <td> CHICKEN CUTLETS (SHISHTAWOOK) - 1KG</td>\n",
        "      <td>                PANCAKE MIX ( GLUTEN FREE ) - 623G</td>\n",
        "      <td>  1</td>\n",
        "    </tr>\n",
        "    <tr>\n",
        "      <th>192481</th>\n",
        "      <td> 2014-08-01</td>\n",
        "      <td> CHICKEN CUTLETS (SHISHTAWOOK) - 1KG</td>\n",
        "      <td>                           RAISINS (CHEMICAL FREE)</td>\n",
        "      <td>  1</td>\n",
        "    </tr>\n",
        "    <tr>\n",
        "      <th>192482</th>\n",
        "      <td> 2014-08-01</td>\n",
        "      <td> CHICKEN CUTLETS (SHISHTAWOOK) - 1KG</td>\n",
        "      <td>                      RAW ALMONDS - SHELLED - 250G</td>\n",
        "      <td>  1</td>\n",
        "    </tr>\n",
        "    <tr>\n",
        "      <th>192483</th>\n",
        "      <td> 2014-08-01</td>\n",
        "      <td> CHICKEN CUTLETS (SHISHTAWOOK) - 1KG</td>\n",
        "      <td>                             RAW CASHEW NUT - 250G</td>\n",
        "      <td>  1</td>\n",
        "    </tr>\n",
        "    <tr>\n",
        "      <th>192484</th>\n",
        "      <td> 2014-08-01</td>\n",
        "      <td> CHICKEN CUTLETS (SHISHTAWOOK) - 1KG</td>\n",
        "      <td>              RED GRAPES - SEEDLESS(CHEMICAL FREE)</td>\n",
        "      <td>  1</td>\n",
        "    </tr>\n",
        "    <tr>\n",
        "      <th>192485</th>\n",
        "      <td> 2014-08-01</td>\n",
        "      <td> CHICKEN CUTLETS (SHISHTAWOOK) - 1KG</td>\n",
        "      <td>                       RED ONION ( CHEMICAL FREE )</td>\n",
        "      <td>  1</td>\n",
        "    </tr>\n",
        "    <tr>\n",
        "      <th>192486</th>\n",
        "      <td> 2014-08-01</td>\n",
        "      <td> CHICKEN CUTLETS (SHISHTAWOOK) - 1KG</td>\n",
        "      <td>                                          ROSEMARY</td>\n",
        "      <td>  1</td>\n",
        "    </tr>\n",
        "    <tr>\n",
        "      <th>192487</th>\n",
        "      <td> 2014-08-01</td>\n",
        "      <td> CHICKEN CUTLETS (SHISHTAWOOK) - 1KG</td>\n",
        "      <td>                                     SALAD FLOWERS</td>\n",
        "      <td>  1</td>\n",
        "    </tr>\n",
        "    <tr>\n",
        "      <th>192488</th>\n",
        "      <td> 2014-08-01</td>\n",
        "      <td> CHICKEN CUTLETS (SHISHTAWOOK) - 1KG</td>\n",
        "      <td>                           SALMON STEAK ( FROZEN )</td>\n",
        "      <td>  1</td>\n",
        "    </tr>\n",
        "    <tr>\n",
        "      <th>192489</th>\n",
        "      <td> 2014-08-01</td>\n",
        "      <td> CHICKEN CUTLETS (SHISHTAWOOK) - 1KG</td>\n",
        "      <td>                  SOY MILK (ORGANIC) - UNSWEETENED</td>\n",
        "      <td>  1</td>\n",
        "    </tr>\n",
        "    <tr>\n",
        "      <th>192490</th>\n",
        "      <td> 2014-08-01</td>\n",
        "      <td> CHICKEN CUTLETS (SHISHTAWOOK) - 1KG</td>\n",
        "      <td>                                SOY MILK (VANILLA)</td>\n",
        "      <td>  1</td>\n",
        "    </tr>\n",
        "    <tr>\n",
        "      <th>192491</th>\n",
        "      <td> 2014-08-01</td>\n",
        "      <td> CHICKEN CUTLETS (SHISHTAWOOK) - 1KG</td>\n",
        "      <td>                                   SUCRINE LETTUCE</td>\n",
        "      <td>  1</td>\n",
        "    </tr>\n",
        "    <tr>\n",
        "      <th>192492</th>\n",
        "      <td> 2015-12-01</td>\n",
        "      <td>                      YELLOW MUSTARD</td>\n",
        "      <td>                                ZUCCHINI (ORGANIC)</td>\n",
        "      <td>  1</td>\n",
        "    </tr>\n",
        "  </tbody>\n",
        "</table>\n",
        "<p>192493 rows \u00d7 4 columns</p>\n",
        "</div>"
       ],
       "metadata": {},
       "output_type": "pyout",
       "prompt_number": 42,
       "text": [
        "              Date                             Product1  \\\n",
        "0       2015-03-01           CUCUMBER ( CHEMICAL FREE )   \n",
        "1       2015-01-01           CUCUMBER ( CHEMICAL FREE )   \n",
        "2       2015-01-01           CUCUMBER ( CHEMICAL FREE )   \n",
        "3       2015-04-01           CUCUMBER ( CHEMICAL FREE )   \n",
        "4       2015-03-01  BALADY WHOLE CHICKEN(CHEMICAL FREE)   \n",
        "5       2015-03-01              BANANAS (CHEMICAL FREE)   \n",
        "6       2015-03-01              BANANAS (CHEMICAL FREE)   \n",
        "7       2015-02-01           CUCUMBER ( CHEMICAL FREE )   \n",
        "8       2015-03-01             TOMATO ( CHEMICAL FREE )   \n",
        "9       2015-03-01        BALADY EGGS ( CHEMICAL FREE )   \n",
        "10      2015-01-01             TOMATO ( CHEMICAL FREE )   \n",
        "11      2015-03-01        BALADY EGGS ( CHEMICAL FREE )   \n",
        "12      2015-03-01           CUCUMBER ( CHEMICAL FREE )   \n",
        "13      2015-03-01  BALADY WHOLE CHICKEN(CHEMICAL FREE)   \n",
        "14      2015-02-01             POTATOES( CHEMICAL FREE)   \n",
        "15      2015-01-01             POTATOES( CHEMICAL FREE)   \n",
        "16      2015-03-01        BALADY EGGS ( CHEMICAL FREE )   \n",
        "17      2015-04-01          BABY SPINACH(CHEMICAL FREE)   \n",
        "18      2015-10-01         BABY SPINACH (CHEMICAL FREE)   \n",
        "19      2015-01-01      YELLOW CARROT ( CHEMICAL FREE )   \n",
        "20      2015-03-01              BEETROOT(CHEMICAL FREE)   \n",
        "21      2015-05-01                  CHICKEN BREASTS 1KG   \n",
        "22      2014-10-01           CUCUMBER ( CHEMICAL FREE )   \n",
        "23      2015-03-01                  AVOCADOS (IMPORTED)   \n",
        "24      2015-01-01             POTATOES( CHEMICAL FREE)   \n",
        "25      2015-04-01                  AVOCADOS (IMPORTED)   \n",
        "26      2015-03-01              BANANAS (CHEMICAL FREE)   \n",
        "27      2015-03-01              BEETROOT(CHEMICAL FREE)   \n",
        "28      2015-01-01           CUCUMBER ( CHEMICAL FREE )   \n",
        "29      2015-01-01             TOMATO ( CHEMICAL FREE )   \n",
        "...            ...                                  ...   \n",
        "192463  2014-08-01                               CHIVES   \n",
        "192464  2014-08-01                               CHIVES   \n",
        "192465  2014-08-01  CHICKEN CUTLETS (SHISHTAWOOK) - 1KG   \n",
        "192466  2014-08-01                               CHIVES   \n",
        "192467  2014-08-01                               CHIVES   \n",
        "192468  2014-08-01                               CHIVES   \n",
        "192469  2014-08-01                               CHIVES   \n",
        "192470  2014-08-01                               CHIVES   \n",
        "192471  2014-08-01                               CHIVES   \n",
        "192472  2014-08-01                               CHIVES   \n",
        "192473  2014-08-01                               CHIVES   \n",
        "192474  2014-08-01  CHICKEN CUTLETS (SHISHTAWOOK) - 1KG   \n",
        "192475  2014-08-01  CHICKEN CUTLETS (SHISHTAWOOK) - 1KG   \n",
        "192476  2014-08-01  CHICKEN CUTLETS (SHISHTAWOOK) - 1KG   \n",
        "192477  2014-08-01  CHICKEN CUTLETS (SHISHTAWOOK) - 1KG   \n",
        "192478  2014-08-01  CHICKEN CUTLETS (SHISHTAWOOK) - 1KG   \n",
        "192479  2014-08-01  CHICKEN CUTLETS (SHISHTAWOOK) - 1KG   \n",
        "192480  2014-08-01  CHICKEN CUTLETS (SHISHTAWOOK) - 1KG   \n",
        "192481  2014-08-01  CHICKEN CUTLETS (SHISHTAWOOK) - 1KG   \n",
        "192482  2014-08-01  CHICKEN CUTLETS (SHISHTAWOOK) - 1KG   \n",
        "192483  2014-08-01  CHICKEN CUTLETS (SHISHTAWOOK) - 1KG   \n",
        "192484  2014-08-01  CHICKEN CUTLETS (SHISHTAWOOK) - 1KG   \n",
        "192485  2014-08-01  CHICKEN CUTLETS (SHISHTAWOOK) - 1KG   \n",
        "192486  2014-08-01  CHICKEN CUTLETS (SHISHTAWOOK) - 1KG   \n",
        "192487  2014-08-01  CHICKEN CUTLETS (SHISHTAWOOK) - 1KG   \n",
        "192488  2014-08-01  CHICKEN CUTLETS (SHISHTAWOOK) - 1KG   \n",
        "192489  2014-08-01  CHICKEN CUTLETS (SHISHTAWOOK) - 1KG   \n",
        "192490  2014-08-01  CHICKEN CUTLETS (SHISHTAWOOK) - 1KG   \n",
        "192491  2014-08-01  CHICKEN CUTLETS (SHISHTAWOOK) - 1KG   \n",
        "192492  2015-12-01                       YELLOW MUSTARD   \n",
        "\n",
        "                                                 Product2  Count  \n",
        "0                                TOMATO ( CHEMICAL FREE )     64  \n",
        "1                                TOMATO ( CHEMICAL FREE )     49  \n",
        "2                         YELLOW CARROT ( CHEMICAL FREE )     48  \n",
        "3                                TOMATO ( CHEMICAL FREE )     45  \n",
        "4                               CHICKEN BREASTS 1KG - 1KG     43  \n",
        "5                              CUCUMBER ( CHEMICAL FREE )     42  \n",
        "6                                TOMATO ( CHEMICAL FREE )     40  \n",
        "7                         YELLOW CARROT ( CHEMICAL FREE )     38  \n",
        "8                         YELLOW CARROT ( CHEMICAL FREE )     38  \n",
        "9                              CUCUMBER ( CHEMICAL FREE )     38  \n",
        "10                        YELLOW CARROT ( CHEMICAL FREE )     37  \n",
        "11                    BALADY WHOLE CHICKEN(CHEMICAL FREE)     37  \n",
        "12                        YELLOW CARROT ( CHEMICAL FREE )     37  \n",
        "13                             CUCUMBER ( CHEMICAL FREE )     37  \n",
        "14                        YELLOW CARROT ( CHEMICAL FREE )     37  \n",
        "15                        YELLOW CARROT ( CHEMICAL FREE )     36  \n",
        "16                               TOMATO ( CHEMICAL FREE )     35  \n",
        "17                                   KALE (CHEMICAL FREE)     33  \n",
        "18                                  BALADY EGGS (ORGANIC)     33  \n",
        "19                             ZUCCHINI ( CHEMICAL FREE )     33  \n",
        "20                             CUCUMBER ( CHEMICAL FREE )     32  \n",
        "21                                      WHOLE CHICKEN 1KG     32  \n",
        "22                               TOMATO ( CHEMICAL FREE )     31  \n",
        "23                                           BABY SPINACH     30  \n",
        "24                               TOMATO ( CHEMICAL FREE )     30  \n",
        "25                            BABY SPINACH(CHEMICAL FREE)     29  \n",
        "26                        YELLOW CARROT ( CHEMICAL FREE )     29  \n",
        "27                               TOMATO ( CHEMICAL FREE )     29  \n",
        "28                               POTATOES( CHEMICAL FREE)     28  \n",
        "29                             ZUCCHINI ( CHEMICAL FREE )     28  \n",
        "...                                                   ...    ...  \n",
        "192463                              GREEN ICEBERG LETTUCE      1  \n",
        "192464                                         JOJOBA OIL      1  \n",
        "192465  MUESLI WITH BRANBERRY AND STRAWBERRIES ( ORGAN...      1  \n",
        "192466                                               KIWI      1  \n",
        "192467                                        LEMON GRASS      1  \n",
        "192468                             LIME ( CHEMICAL FREE )      1  \n",
        "192469                          MORINGA POWDER (ORGANIC )      1  \n",
        "192470                                           MUSHROOM      1  \n",
        "192471                             RASPBERRIES ( FROZEN )      1  \n",
        "192472                                        RED CABBAGE      1  \n",
        "192473                         CUCUMBER ( CHEMICAL FREE )      1  \n",
        "192474                                WHOLE CHICKEN - 1KG      1  \n",
        "192475                           TOMATO ( CHEMICAL FREE )      1  \n",
        "192476                                       SWEET ONIONS      1  \n",
        "192477     MUESLI WITH FRUITS, NUTS AND SEEDS ( ORGANIC )      1  \n",
        "192478           OATS WITH APPLE AND CINNAMON ( ORGANIC )      1  \n",
        "192479                    OLD COUNTRY STYLE MUESLI - 510G      1  \n",
        "192480                 PANCAKE MIX ( GLUTEN FREE ) - 623G      1  \n",
        "192481                            RAISINS (CHEMICAL FREE)      1  \n",
        "192482                       RAW ALMONDS - SHELLED - 250G      1  \n",
        "192483                              RAW CASHEW NUT - 250G      1  \n",
        "192484               RED GRAPES - SEEDLESS(CHEMICAL FREE)      1  \n",
        "192485                        RED ONION ( CHEMICAL FREE )      1  \n",
        "192486                                           ROSEMARY      1  \n",
        "192487                                      SALAD FLOWERS      1  \n",
        "192488                            SALMON STEAK ( FROZEN )      1  \n",
        "192489                   SOY MILK (ORGANIC) - UNSWEETENED      1  \n",
        "192490                                 SOY MILK (VANILLA)      1  \n",
        "192491                                    SUCRINE LETTUCE      1  \n",
        "192492                                 ZUCCHINI (ORGANIC)      1  \n",
        "\n",
        "[192493 rows x 4 columns]"
       ]
      }
     ],
     "prompt_number": 42
    },
    {
     "cell_type": "code",
     "collapsed": false,
     "input": [],
     "language": "python",
     "metadata": {},
     "outputs": []
    }
   ],
   "metadata": {}
  }
 ]
}
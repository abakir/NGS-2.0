{
 "metadata": {
  "name": "",
  "signature": "sha256:9ea5040e3c91836bff255ae3198aa026078a8ceae5f79660d25d37d94aca4144"
 },
 "nbformat": 3,
 "nbformat_minor": 0,
 "worksheets": [
  {
   "cells": [
    {
     "cell_type": "code",
     "collapsed": false,
     "input": [
      "import pandas as pd\n",
      "import re\n",
      "from datetime import datetime\n",
      "#import yaml\n",
      "\n",
      "#with open(\"config.yaml\", 'r') as ymlfile:\n",
      "#        cfg = yaml.load(ymlfile)\n",
      "\n",
      "#df = pd.read_csv(cfg['root']+cfg['dir_data_vend']+cfg[\"ip_total_revenue_daily\"])\n",
      "df = pd.read_csv(\"C:\\Users\\saisree849\\Documents\\GitHub\\NGS-2.0\\\\12_dashboard_tables\\data_input\\\\vend\\\\vend-total_revenue-sales_summary-by-day.csv\")\n",
      "df"
     ],
     "language": "python",
     "metadata": {},
     "outputs": [
      {
       "html": [
        "<div style=\"max-height:1000px;max-width:1500px;overflow:auto;\">\n",
        "<table border=\"1\" class=\"dataframe\">\n",
        "  <thead>\n",
        "    <tr style=\"text-align: right;\">\n",
        "      <th></th>\n",
        "      <th>Unnamed: 0</th>\n",
        "      <th>Thu 1st Jan 2015</th>\n",
        "      <th>Fri 2nd Jan 2015</th>\n",
        "      <th>Sat 3rd Jan 2015</th>\n",
        "      <th>Sun 4th Jan 2015</th>\n",
        "      <th>Mon 5th Jan 2015</th>\n",
        "      <th>Tue 6th Jan 2015</th>\n",
        "      <th>Wed 7th Jan 2015</th>\n",
        "      <th>Thu 8th Jan 2015</th>\n",
        "      <th>Fri 9th Jan 2015</th>\n",
        "      <th>...</th>\n",
        "      <th>Sat 19th Dec 2015</th>\n",
        "      <th>Sun 20th Dec 2015</th>\n",
        "      <th>Mon 21st Dec 2015</th>\n",
        "      <th>Tue 22nd Dec 2015</th>\n",
        "      <th>Wed 23rd Dec 2015</th>\n",
        "      <th>Revenue</th>\n",
        "      <th>Cost of Goods</th>\n",
        "      <th>Gross Profit</th>\n",
        "      <th>Margin</th>\n",
        "      <th>Tax</th>\n",
        "    </tr>\n",
        "  </thead>\n",
        "  <tbody>\n",
        "    <tr>\n",
        "      <th>0</th>\n",
        "      <td>           NaN</td>\n",
        "      <td> 2608.20000</td>\n",
        "      <td> 2292.910000</td>\n",
        "      <td> 7028.420000</td>\n",
        "      <td> 4541.410000</td>\n",
        "      <td> 4551.370000</td>\n",
        "      <td> 1845.43000</td>\n",
        "      <td> 0</td>\n",
        "      <td> 0</td>\n",
        "      <td> 0</td>\n",
        "      <td>...</td>\n",
        "      <td> 4301.700000</td>\n",
        "      <td> 7285.16000</td>\n",
        "      <td> 10604.600000</td>\n",
        "      <td> 4131.400000</td>\n",
        "      <td> 6642.800000</td>\n",
        "      <td> 1200687.6158</td>\n",
        "      <td> 844961.24</td>\n",
        "      <td> 355726.3758</td>\n",
        "      <td> 0.296269</td>\n",
        "      <td>  0</td>\n",
        "    </tr>\n",
        "    <tr>\n",
        "      <th>1</th>\n",
        "      <td>       Revenue</td>\n",
        "      <td> 2608.20000</td>\n",
        "      <td> 2292.910000</td>\n",
        "      <td> 7028.420000</td>\n",
        "      <td> 4541.410000</td>\n",
        "      <td> 4551.370000</td>\n",
        "      <td> 1845.43000</td>\n",
        "      <td> 0</td>\n",
        "      <td> 0</td>\n",
        "      <td> 0</td>\n",
        "      <td>...</td>\n",
        "      <td> 4301.700000</td>\n",
        "      <td> 7285.16000</td>\n",
        "      <td> 10604.600000</td>\n",
        "      <td> 4131.400000</td>\n",
        "      <td> 6642.800000</td>\n",
        "      <td>          NaN</td>\n",
        "      <td>       NaN</td>\n",
        "      <td>         NaN</td>\n",
        "      <td>      NaN</td>\n",
        "      <td>NaN</td>\n",
        "    </tr>\n",
        "    <tr>\n",
        "      <th>2</th>\n",
        "      <td> Cost of Goods</td>\n",
        "      <td> 1934.71000</td>\n",
        "      <td> 1697.320000</td>\n",
        "      <td> 5261.530000</td>\n",
        "      <td> 3339.150000</td>\n",
        "      <td> 3291.490000</td>\n",
        "      <td> 1282.63000</td>\n",
        "      <td> 0</td>\n",
        "      <td> 0</td>\n",
        "      <td> 0</td>\n",
        "      <td>...</td>\n",
        "      <td> 3009.610000</td>\n",
        "      <td> 5208.60000</td>\n",
        "      <td>  7965.080000</td>\n",
        "      <td> 2985.560000</td>\n",
        "      <td> 4841.260000</td>\n",
        "      <td>          NaN</td>\n",
        "      <td>       NaN</td>\n",
        "      <td>         NaN</td>\n",
        "      <td>      NaN</td>\n",
        "      <td>NaN</td>\n",
        "    </tr>\n",
        "    <tr>\n",
        "      <th>3</th>\n",
        "      <td>  Gross Profit</td>\n",
        "      <td>  673.49000</td>\n",
        "      <td>  595.590000</td>\n",
        "      <td> 1766.890000</td>\n",
        "      <td> 1202.260000</td>\n",
        "      <td> 1259.880000</td>\n",
        "      <td>  562.80000</td>\n",
        "      <td> 0</td>\n",
        "      <td> 0</td>\n",
        "      <td> 0</td>\n",
        "      <td>...</td>\n",
        "      <td> 1292.090000</td>\n",
        "      <td> 2076.56000</td>\n",
        "      <td>  2639.520000</td>\n",
        "      <td> 1145.840000</td>\n",
        "      <td> 1801.540000</td>\n",
        "      <td>          NaN</td>\n",
        "      <td>       NaN</td>\n",
        "      <td>         NaN</td>\n",
        "      <td>      NaN</td>\n",
        "      <td>NaN</td>\n",
        "    </tr>\n",
        "    <tr>\n",
        "      <th>4</th>\n",
        "      <td>        Margin</td>\n",
        "      <td>    0.25822</td>\n",
        "      <td>    0.259753</td>\n",
        "      <td>    0.251392</td>\n",
        "      <td>    0.264733</td>\n",
        "      <td>    0.276813</td>\n",
        "      <td>    0.30497</td>\n",
        "      <td> 0</td>\n",
        "      <td> 0</td>\n",
        "      <td> 0</td>\n",
        "      <td>...</td>\n",
        "      <td>    0.300367</td>\n",
        "      <td>    0.28504</td>\n",
        "      <td>     0.248903</td>\n",
        "      <td>    0.277349</td>\n",
        "      <td>    0.271202</td>\n",
        "      <td>          NaN</td>\n",
        "      <td>       NaN</td>\n",
        "      <td>         NaN</td>\n",
        "      <td>      NaN</td>\n",
        "      <td>NaN</td>\n",
        "    </tr>\n",
        "    <tr>\n",
        "      <th>5</th>\n",
        "      <td>           Tax</td>\n",
        "      <td>    0.00000</td>\n",
        "      <td>    0.000000</td>\n",
        "      <td>    0.000000</td>\n",
        "      <td>    0.000000</td>\n",
        "      <td>    0.000000</td>\n",
        "      <td>    0.00000</td>\n",
        "      <td> 0</td>\n",
        "      <td> 0</td>\n",
        "      <td> 0</td>\n",
        "      <td>...</td>\n",
        "      <td>    0.000000</td>\n",
        "      <td>    0.00000</td>\n",
        "      <td>     0.000000</td>\n",
        "      <td>    0.000000</td>\n",
        "      <td>    0.000000</td>\n",
        "      <td>          NaN</td>\n",
        "      <td>       NaN</td>\n",
        "      <td>         NaN</td>\n",
        "      <td>      NaN</td>\n",
        "      <td>NaN</td>\n",
        "    </tr>\n",
        "  </tbody>\n",
        "</table>\n",
        "<p>6 rows \u00d7 363 columns</p>\n",
        "</div>"
       ],
       "metadata": {},
       "output_type": "pyout",
       "prompt_number": 2,
       "text": [
        "      Unnamed: 0  Thu 1st Jan 2015  Fri 2nd Jan 2015  Sat 3rd Jan 2015  \\\n",
        "0            NaN        2608.20000       2292.910000       7028.420000   \n",
        "1        Revenue        2608.20000       2292.910000       7028.420000   \n",
        "2  Cost of Goods        1934.71000       1697.320000       5261.530000   \n",
        "3   Gross Profit         673.49000        595.590000       1766.890000   \n",
        "4         Margin           0.25822          0.259753          0.251392   \n",
        "5            Tax           0.00000          0.000000          0.000000   \n",
        "\n",
        "   Sun 4th Jan 2015  Mon 5th Jan 2015  Tue 6th Jan 2015  Wed 7th Jan 2015  \\\n",
        "0       4541.410000       4551.370000        1845.43000                 0   \n",
        "1       4541.410000       4551.370000        1845.43000                 0   \n",
        "2       3339.150000       3291.490000        1282.63000                 0   \n",
        "3       1202.260000       1259.880000         562.80000                 0   \n",
        "4          0.264733          0.276813           0.30497                 0   \n",
        "5          0.000000          0.000000           0.00000                 0   \n",
        "\n",
        "   Thu 8th Jan 2015  Fri 9th Jan 2015 ...   Sat 19th Dec 2015  \\\n",
        "0                 0                 0 ...         4301.700000   \n",
        "1                 0                 0 ...         4301.700000   \n",
        "2                 0                 0 ...         3009.610000   \n",
        "3                 0                 0 ...         1292.090000   \n",
        "4                 0                 0 ...            0.300367   \n",
        "5                 0                 0 ...            0.000000   \n",
        "\n",
        "   Sun 20th Dec 2015  Mon 21st Dec 2015  Tue 22nd Dec 2015  Wed 23rd Dec 2015  \\\n",
        "0         7285.16000       10604.600000        4131.400000        6642.800000   \n",
        "1         7285.16000       10604.600000        4131.400000        6642.800000   \n",
        "2         5208.60000        7965.080000        2985.560000        4841.260000   \n",
        "3         2076.56000        2639.520000        1145.840000        1801.540000   \n",
        "4            0.28504           0.248903           0.277349           0.271202   \n",
        "5            0.00000           0.000000           0.000000           0.000000   \n",
        "\n",
        "        Revenue  Cost of Goods  Gross Profit    Margin  Tax  \n",
        "0  1200687.6158      844961.24   355726.3758  0.296269    0  \n",
        "1           NaN            NaN           NaN       NaN  NaN  \n",
        "2           NaN            NaN           NaN       NaN  NaN  \n",
        "3           NaN            NaN           NaN       NaN  NaN  \n",
        "4           NaN            NaN           NaN       NaN  NaN  \n",
        "5           NaN            NaN           NaN       NaN  NaN  \n",
        "\n",
        "[6 rows x 363 columns]"
       ]
      }
     ],
     "prompt_number": 2
    },
    {
     "cell_type": "code",
     "collapsed": false,
     "input": [
      "#get date\n",
      "def convertDate(data):\n",
      "    matchobj = re.match(r'(.*) (.*) (.*) (.*).*',data)\n",
      "    data = matchobj.group(2)[:-2] + \" \" + matchobj.group(3) + \" \" + matchobj.group(4)\n",
      "    return pd.to_datetime(datetime.strptime(data, '%d %b %Y')).date()\n",
      "    \n",
      "#get required columns\n",
      "df = df[1:5]\n",
      "df = df.set_index('Unnamed: 0')\n",
      "df"
     ],
     "language": "python",
     "metadata": {},
     "outputs": [
      {
       "html": [
        "<div style=\"max-height:1000px;max-width:1500px;overflow:auto;\">\n",
        "<table border=\"1\" class=\"dataframe\">\n",
        "  <thead>\n",
        "    <tr style=\"text-align: right;\">\n",
        "      <th></th>\n",
        "      <th>Thu 1st Jan 2015</th>\n",
        "      <th>Fri 2nd Jan 2015</th>\n",
        "      <th>Sat 3rd Jan 2015</th>\n",
        "      <th>Sun 4th Jan 2015</th>\n",
        "      <th>Mon 5th Jan 2015</th>\n",
        "      <th>Tue 6th Jan 2015</th>\n",
        "      <th>Wed 7th Jan 2015</th>\n",
        "      <th>Thu 8th Jan 2015</th>\n",
        "      <th>Fri 9th Jan 2015</th>\n",
        "      <th>Sat 10th Jan 2015</th>\n",
        "      <th>...</th>\n",
        "      <th>Sat 19th Dec 2015</th>\n",
        "      <th>Sun 20th Dec 2015</th>\n",
        "      <th>Mon 21st Dec 2015</th>\n",
        "      <th>Tue 22nd Dec 2015</th>\n",
        "      <th>Wed 23rd Dec 2015</th>\n",
        "      <th>Revenue</th>\n",
        "      <th>Cost of Goods</th>\n",
        "      <th>Gross Profit</th>\n",
        "      <th>Margin</th>\n",
        "      <th>Tax</th>\n",
        "    </tr>\n",
        "    <tr>\n",
        "      <th>Unnamed: 0</th>\n",
        "      <th></th>\n",
        "      <th></th>\n",
        "      <th></th>\n",
        "      <th></th>\n",
        "      <th></th>\n",
        "      <th></th>\n",
        "      <th></th>\n",
        "      <th></th>\n",
        "      <th></th>\n",
        "      <th></th>\n",
        "      <th></th>\n",
        "      <th></th>\n",
        "      <th></th>\n",
        "      <th></th>\n",
        "      <th></th>\n",
        "      <th></th>\n",
        "      <th></th>\n",
        "      <th></th>\n",
        "      <th></th>\n",
        "      <th></th>\n",
        "      <th></th>\n",
        "    </tr>\n",
        "  </thead>\n",
        "  <tbody>\n",
        "    <tr>\n",
        "      <th>Revenue</th>\n",
        "      <td> 2608.20000</td>\n",
        "      <td> 2292.910000</td>\n",
        "      <td> 7028.420000</td>\n",
        "      <td> 4541.410000</td>\n",
        "      <td> 4551.370000</td>\n",
        "      <td> 1845.43000</td>\n",
        "      <td> 0</td>\n",
        "      <td> 0</td>\n",
        "      <td> 0</td>\n",
        "      <td> 0</td>\n",
        "      <td>...</td>\n",
        "      <td> 4301.700000</td>\n",
        "      <td> 7285.16000</td>\n",
        "      <td> 10604.600000</td>\n",
        "      <td> 4131.400000</td>\n",
        "      <td> 6642.800000</td>\n",
        "      <td>NaN</td>\n",
        "      <td>NaN</td>\n",
        "      <td>NaN</td>\n",
        "      <td>NaN</td>\n",
        "      <td>NaN</td>\n",
        "    </tr>\n",
        "    <tr>\n",
        "      <th>Cost of Goods</th>\n",
        "      <td> 1934.71000</td>\n",
        "      <td> 1697.320000</td>\n",
        "      <td> 5261.530000</td>\n",
        "      <td> 3339.150000</td>\n",
        "      <td> 3291.490000</td>\n",
        "      <td> 1282.63000</td>\n",
        "      <td> 0</td>\n",
        "      <td> 0</td>\n",
        "      <td> 0</td>\n",
        "      <td> 0</td>\n",
        "      <td>...</td>\n",
        "      <td> 3009.610000</td>\n",
        "      <td> 5208.60000</td>\n",
        "      <td>  7965.080000</td>\n",
        "      <td> 2985.560000</td>\n",
        "      <td> 4841.260000</td>\n",
        "      <td>NaN</td>\n",
        "      <td>NaN</td>\n",
        "      <td>NaN</td>\n",
        "      <td>NaN</td>\n",
        "      <td>NaN</td>\n",
        "    </tr>\n",
        "    <tr>\n",
        "      <th>Gross Profit</th>\n",
        "      <td>  673.49000</td>\n",
        "      <td>  595.590000</td>\n",
        "      <td> 1766.890000</td>\n",
        "      <td> 1202.260000</td>\n",
        "      <td> 1259.880000</td>\n",
        "      <td>  562.80000</td>\n",
        "      <td> 0</td>\n",
        "      <td> 0</td>\n",
        "      <td> 0</td>\n",
        "      <td> 0</td>\n",
        "      <td>...</td>\n",
        "      <td> 1292.090000</td>\n",
        "      <td> 2076.56000</td>\n",
        "      <td>  2639.520000</td>\n",
        "      <td> 1145.840000</td>\n",
        "      <td> 1801.540000</td>\n",
        "      <td>NaN</td>\n",
        "      <td>NaN</td>\n",
        "      <td>NaN</td>\n",
        "      <td>NaN</td>\n",
        "      <td>NaN</td>\n",
        "    </tr>\n",
        "    <tr>\n",
        "      <th>Margin</th>\n",
        "      <td>    0.25822</td>\n",
        "      <td>    0.259753</td>\n",
        "      <td>    0.251392</td>\n",
        "      <td>    0.264733</td>\n",
        "      <td>    0.276813</td>\n",
        "      <td>    0.30497</td>\n",
        "      <td> 0</td>\n",
        "      <td> 0</td>\n",
        "      <td> 0</td>\n",
        "      <td> 0</td>\n",
        "      <td>...</td>\n",
        "      <td>    0.300367</td>\n",
        "      <td>    0.28504</td>\n",
        "      <td>     0.248903</td>\n",
        "      <td>    0.277349</td>\n",
        "      <td>    0.271202</td>\n",
        "      <td>NaN</td>\n",
        "      <td>NaN</td>\n",
        "      <td>NaN</td>\n",
        "      <td>NaN</td>\n",
        "      <td>NaN</td>\n",
        "    </tr>\n",
        "  </tbody>\n",
        "</table>\n",
        "<p>4 rows \u00d7 362 columns</p>\n",
        "</div>"
       ],
       "metadata": {},
       "output_type": "pyout",
       "prompt_number": 3,
       "text": [
        "               Thu 1st Jan 2015  Fri 2nd Jan 2015  Sat 3rd Jan 2015  \\\n",
        "Unnamed: 0                                                            \n",
        "Revenue              2608.20000       2292.910000       7028.420000   \n",
        "Cost of Goods        1934.71000       1697.320000       5261.530000   \n",
        "Gross Profit          673.49000        595.590000       1766.890000   \n",
        "Margin                  0.25822          0.259753          0.251392   \n",
        "\n",
        "               Sun 4th Jan 2015  Mon 5th Jan 2015  Tue 6th Jan 2015  \\\n",
        "Unnamed: 0                                                            \n",
        "Revenue             4541.410000       4551.370000        1845.43000   \n",
        "Cost of Goods       3339.150000       3291.490000        1282.63000   \n",
        "Gross Profit        1202.260000       1259.880000         562.80000   \n",
        "Margin                 0.264733          0.276813           0.30497   \n",
        "\n",
        "               Wed 7th Jan 2015  Thu 8th Jan 2015  Fri 9th Jan 2015  \\\n",
        "Unnamed: 0                                                            \n",
        "Revenue                       0                 0                 0   \n",
        "Cost of Goods                 0                 0                 0   \n",
        "Gross Profit                  0                 0                 0   \n",
        "Margin                        0                 0                 0   \n",
        "\n",
        "               Sat 10th Jan 2015 ...   Sat 19th Dec 2015  Sun 20th Dec 2015  \\\n",
        "Unnamed: 0                       ...                                          \n",
        "Revenue                        0 ...         4301.700000         7285.16000   \n",
        "Cost of Goods                  0 ...         3009.610000         5208.60000   \n",
        "Gross Profit                   0 ...         1292.090000         2076.56000   \n",
        "Margin                         0 ...            0.300367            0.28504   \n",
        "\n",
        "               Mon 21st Dec 2015  Tue 22nd Dec 2015  Wed 23rd Dec 2015  \\\n",
        "Unnamed: 0                                                               \n",
        "Revenue             10604.600000        4131.400000        6642.800000   \n",
        "Cost of Goods        7965.080000        2985.560000        4841.260000   \n",
        "Gross Profit         2639.520000        1145.840000        1801.540000   \n",
        "Margin                  0.248903           0.277349           0.271202   \n",
        "\n",
        "               Revenue  Cost of Goods  Gross Profit  Margin  Tax  \n",
        "Unnamed: 0                                                        \n",
        "Revenue            NaN            NaN           NaN     NaN  NaN  \n",
        "Cost of Goods      NaN            NaN           NaN     NaN  NaN  \n",
        "Gross Profit       NaN            NaN           NaN     NaN  NaN  \n",
        "Margin             NaN            NaN           NaN     NaN  NaN  \n",
        "\n",
        "[4 rows x 362 columns]"
       ]
      }
     ],
     "prompt_number": 3
    },
    {
     "cell_type": "code",
     "collapsed": false,
     "input": [
      "\n",
      "df = df.transpose() #transpose the df\n",
      "df = df.reset_index()\n",
      "\n",
      "#remove aggregated rows\n",
      "df = df[:max(df.index)-4]\n",
      "df.columns = ['Date', 'Revenue', 'Cost of Goods', 'Gross Profit', 'Margin']\n",
      "df"
     ],
     "language": "python",
     "metadata": {},
     "outputs": [
      {
       "html": [
        "<div style=\"max-height:1000px;max-width:1500px;overflow:auto;\">\n",
        "<table border=\"1\" class=\"dataframe\">\n",
        "  <thead>\n",
        "    <tr style=\"text-align: right;\">\n",
        "      <th></th>\n",
        "      <th>Date</th>\n",
        "      <th>Revenue</th>\n",
        "      <th>Cost of Goods</th>\n",
        "      <th>Gross Profit</th>\n",
        "      <th>Margin</th>\n",
        "    </tr>\n",
        "  </thead>\n",
        "  <tbody>\n",
        "    <tr>\n",
        "      <th>0  </th>\n",
        "      <td>  Thu 1st Jan 2015</td>\n",
        "      <td>  2608.20</td>\n",
        "      <td> 1934.71</td>\n",
        "      <td>  673.49</td>\n",
        "      <td> 0.258220</td>\n",
        "    </tr>\n",
        "    <tr>\n",
        "      <th>1  </th>\n",
        "      <td>  Fri 2nd Jan 2015</td>\n",
        "      <td>  2292.91</td>\n",
        "      <td> 1697.32</td>\n",
        "      <td>  595.59</td>\n",
        "      <td> 0.259753</td>\n",
        "    </tr>\n",
        "    <tr>\n",
        "      <th>2  </th>\n",
        "      <td>  Sat 3rd Jan 2015</td>\n",
        "      <td>  7028.42</td>\n",
        "      <td> 5261.53</td>\n",
        "      <td> 1766.89</td>\n",
        "      <td> 0.251392</td>\n",
        "    </tr>\n",
        "    <tr>\n",
        "      <th>3  </th>\n",
        "      <td>  Sun 4th Jan 2015</td>\n",
        "      <td>  4541.41</td>\n",
        "      <td> 3339.15</td>\n",
        "      <td> 1202.26</td>\n",
        "      <td> 0.264733</td>\n",
        "    </tr>\n",
        "    <tr>\n",
        "      <th>4  </th>\n",
        "      <td>  Mon 5th Jan 2015</td>\n",
        "      <td>  4551.37</td>\n",
        "      <td> 3291.49</td>\n",
        "      <td> 1259.88</td>\n",
        "      <td> 0.276813</td>\n",
        "    </tr>\n",
        "    <tr>\n",
        "      <th>5  </th>\n",
        "      <td>  Tue 6th Jan 2015</td>\n",
        "      <td>  1845.43</td>\n",
        "      <td> 1282.63</td>\n",
        "      <td>  562.80</td>\n",
        "      <td> 0.304970</td>\n",
        "    </tr>\n",
        "    <tr>\n",
        "      <th>6  </th>\n",
        "      <td>  Wed 7th Jan 2015</td>\n",
        "      <td>     0.00</td>\n",
        "      <td>    0.00</td>\n",
        "      <td>    0.00</td>\n",
        "      <td> 0.000000</td>\n",
        "    </tr>\n",
        "    <tr>\n",
        "      <th>7  </th>\n",
        "      <td>  Thu 8th Jan 2015</td>\n",
        "      <td>     0.00</td>\n",
        "      <td>    0.00</td>\n",
        "      <td>    0.00</td>\n",
        "      <td> 0.000000</td>\n",
        "    </tr>\n",
        "    <tr>\n",
        "      <th>8  </th>\n",
        "      <td>  Fri 9th Jan 2015</td>\n",
        "      <td>     0.00</td>\n",
        "      <td>    0.00</td>\n",
        "      <td>    0.00</td>\n",
        "      <td> 0.000000</td>\n",
        "    </tr>\n",
        "    <tr>\n",
        "      <th>9  </th>\n",
        "      <td> Sat 10th Jan 2015</td>\n",
        "      <td>     0.00</td>\n",
        "      <td>    0.00</td>\n",
        "      <td>    0.00</td>\n",
        "      <td> 0.000000</td>\n",
        "    </tr>\n",
        "    <tr>\n",
        "      <th>10 </th>\n",
        "      <td> Sun 11th Jan 2015</td>\n",
        "      <td>     0.00</td>\n",
        "      <td>    0.00</td>\n",
        "      <td>    0.00</td>\n",
        "      <td> 0.000000</td>\n",
        "    </tr>\n",
        "    <tr>\n",
        "      <th>11 </th>\n",
        "      <td> Mon 12th Jan 2015</td>\n",
        "      <td>     0.00</td>\n",
        "      <td>    0.00</td>\n",
        "      <td>    0.00</td>\n",
        "      <td> 0.000000</td>\n",
        "    </tr>\n",
        "    <tr>\n",
        "      <th>12 </th>\n",
        "      <td> Tue 13th Jan 2015</td>\n",
        "      <td>     0.00</td>\n",
        "      <td>    0.00</td>\n",
        "      <td>    0.00</td>\n",
        "      <td> 0.000000</td>\n",
        "    </tr>\n",
        "    <tr>\n",
        "      <th>13 </th>\n",
        "      <td> Wed 14th Jan 2015</td>\n",
        "      <td>     0.00</td>\n",
        "      <td>    0.00</td>\n",
        "      <td>    0.00</td>\n",
        "      <td> 0.000000</td>\n",
        "    </tr>\n",
        "    <tr>\n",
        "      <th>14 </th>\n",
        "      <td> Thu 15th Jan 2015</td>\n",
        "      <td>     0.00</td>\n",
        "      <td>    0.00</td>\n",
        "      <td>    0.00</td>\n",
        "      <td> 0.000000</td>\n",
        "    </tr>\n",
        "    <tr>\n",
        "      <th>15 </th>\n",
        "      <td> Fri 16th Jan 2015</td>\n",
        "      <td>     0.00</td>\n",
        "      <td>    0.00</td>\n",
        "      <td>    0.00</td>\n",
        "      <td> 0.000000</td>\n",
        "    </tr>\n",
        "    <tr>\n",
        "      <th>16 </th>\n",
        "      <td> Sat 17th Jan 2015</td>\n",
        "      <td>     0.00</td>\n",
        "      <td>    0.00</td>\n",
        "      <td>    0.00</td>\n",
        "      <td> 0.000000</td>\n",
        "    </tr>\n",
        "    <tr>\n",
        "      <th>17 </th>\n",
        "      <td> Sun 18th Jan 2015</td>\n",
        "      <td>   410.50</td>\n",
        "      <td>  325.58</td>\n",
        "      <td>   84.92</td>\n",
        "      <td> 0.206870</td>\n",
        "    </tr>\n",
        "    <tr>\n",
        "      <th>18 </th>\n",
        "      <td> Mon 19th Jan 2015</td>\n",
        "      <td>     0.00</td>\n",
        "      <td>    0.00</td>\n",
        "      <td>    0.00</td>\n",
        "      <td> 0.000000</td>\n",
        "    </tr>\n",
        "    <tr>\n",
        "      <th>19 </th>\n",
        "      <td> Tue 20th Jan 2015</td>\n",
        "      <td>   165.00</td>\n",
        "      <td>  120.00</td>\n",
        "      <td>   45.00</td>\n",
        "      <td> 0.272727</td>\n",
        "    </tr>\n",
        "    <tr>\n",
        "      <th>20 </th>\n",
        "      <td> Wed 21st Jan 2015</td>\n",
        "      <td>     0.00</td>\n",
        "      <td>    0.00</td>\n",
        "      <td>    0.00</td>\n",
        "      <td> 0.000000</td>\n",
        "    </tr>\n",
        "    <tr>\n",
        "      <th>21 </th>\n",
        "      <td> Thu 22nd Jan 2015</td>\n",
        "      <td>     0.00</td>\n",
        "      <td>    0.00</td>\n",
        "      <td>    0.00</td>\n",
        "      <td> 0.000000</td>\n",
        "    </tr>\n",
        "    <tr>\n",
        "      <th>22 </th>\n",
        "      <td> Fri 23rd Jan 2015</td>\n",
        "      <td>     0.00</td>\n",
        "      <td>    0.00</td>\n",
        "      <td>    0.00</td>\n",
        "      <td> 0.000000</td>\n",
        "    </tr>\n",
        "    <tr>\n",
        "      <th>23 </th>\n",
        "      <td> Sat 24th Jan 2015</td>\n",
        "      <td>     0.00</td>\n",
        "      <td>    0.00</td>\n",
        "      <td>    0.00</td>\n",
        "      <td> 0.000000</td>\n",
        "    </tr>\n",
        "    <tr>\n",
        "      <th>24 </th>\n",
        "      <td> Sun 25th Jan 2015</td>\n",
        "      <td>     0.00</td>\n",
        "      <td>    0.00</td>\n",
        "      <td>    0.00</td>\n",
        "      <td> 0.000000</td>\n",
        "    </tr>\n",
        "    <tr>\n",
        "      <th>25 </th>\n",
        "      <td> Mon 26th Jan 2015</td>\n",
        "      <td>     0.00</td>\n",
        "      <td>    0.00</td>\n",
        "      <td>    0.00</td>\n",
        "      <td> 0.000000</td>\n",
        "    </tr>\n",
        "    <tr>\n",
        "      <th>26 </th>\n",
        "      <td> Tue 27th Jan 2015</td>\n",
        "      <td>     0.00</td>\n",
        "      <td>    0.00</td>\n",
        "      <td>    0.00</td>\n",
        "      <td> 0.000000</td>\n",
        "    </tr>\n",
        "    <tr>\n",
        "      <th>27 </th>\n",
        "      <td> Wed 28th Jan 2015</td>\n",
        "      <td>     0.00</td>\n",
        "      <td>    0.00</td>\n",
        "      <td>    0.00</td>\n",
        "      <td> 0.000000</td>\n",
        "    </tr>\n",
        "    <tr>\n",
        "      <th>28 </th>\n",
        "      <td> Thu 29th Jan 2015</td>\n",
        "      <td>     0.00</td>\n",
        "      <td>    0.00</td>\n",
        "      <td>    0.00</td>\n",
        "      <td> 0.000000</td>\n",
        "    </tr>\n",
        "    <tr>\n",
        "      <th>29 </th>\n",
        "      <td> Fri 30th Jan 2015</td>\n",
        "      <td>     0.00</td>\n",
        "      <td>    0.00</td>\n",
        "      <td>    0.00</td>\n",
        "      <td> 0.000000</td>\n",
        "    </tr>\n",
        "    <tr>\n",
        "      <th>...</th>\n",
        "      <td>...</td>\n",
        "      <td>...</td>\n",
        "      <td>...</td>\n",
        "      <td>...</td>\n",
        "      <td>...</td>\n",
        "    </tr>\n",
        "    <tr>\n",
        "      <th>327</th>\n",
        "      <td> Tue 24th Nov 2015</td>\n",
        "      <td>  3718.00</td>\n",
        "      <td> 2530.10</td>\n",
        "      <td> 1187.90</td>\n",
        "      <td> 0.319500</td>\n",
        "    </tr>\n",
        "    <tr>\n",
        "      <th>328</th>\n",
        "      <td> Wed 25th Nov 2015</td>\n",
        "      <td>  3104.50</td>\n",
        "      <td> 2157.54</td>\n",
        "      <td>  946.96</td>\n",
        "      <td> 0.305028</td>\n",
        "    </tr>\n",
        "    <tr>\n",
        "      <th>329</th>\n",
        "      <td> Thu 26th Nov 2015</td>\n",
        "      <td>  7066.85</td>\n",
        "      <td> 4979.93</td>\n",
        "      <td> 2086.92</td>\n",
        "      <td> 0.295311</td>\n",
        "    </tr>\n",
        "    <tr>\n",
        "      <th>330</th>\n",
        "      <td> Fri 27th Nov 2015</td>\n",
        "      <td>  7520.50</td>\n",
        "      <td> 5760.44</td>\n",
        "      <td> 1760.06</td>\n",
        "      <td> 0.234035</td>\n",
        "    </tr>\n",
        "    <tr>\n",
        "      <th>331</th>\n",
        "      <td> Sat 28th Nov 2015</td>\n",
        "      <td>  8320.25</td>\n",
        "      <td> 6394.64</td>\n",
        "      <td> 1925.61</td>\n",
        "      <td> 0.231437</td>\n",
        "    </tr>\n",
        "    <tr>\n",
        "      <th>332</th>\n",
        "      <td> Sun 29th Nov 2015</td>\n",
        "      <td>  7330.15</td>\n",
        "      <td> 5331.94</td>\n",
        "      <td> 1998.21</td>\n",
        "      <td> 0.272602</td>\n",
        "    </tr>\n",
        "    <tr>\n",
        "      <th>333</th>\n",
        "      <td> Mon 30th Nov 2015</td>\n",
        "      <td>  7909.25</td>\n",
        "      <td> 5697.96</td>\n",
        "      <td> 2211.29</td>\n",
        "      <td> 0.279583</td>\n",
        "    </tr>\n",
        "    <tr>\n",
        "      <th>334</th>\n",
        "      <td>  Tue 1st Dec 2015</td>\n",
        "      <td>  7430.20</td>\n",
        "      <td> 5347.52</td>\n",
        "      <td> 2082.68</td>\n",
        "      <td> 0.280299</td>\n",
        "    </tr>\n",
        "    <tr>\n",
        "      <th>335</th>\n",
        "      <td>  Wed 2nd Dec 2015</td>\n",
        "      <td>  8558.75</td>\n",
        "      <td> 6590.71</td>\n",
        "      <td> 1968.04</td>\n",
        "      <td> 0.229945</td>\n",
        "    </tr>\n",
        "    <tr>\n",
        "      <th>336</th>\n",
        "      <td>  Thu 3rd Dec 2015</td>\n",
        "      <td>  4992.90</td>\n",
        "      <td> 3438.79</td>\n",
        "      <td> 1554.11</td>\n",
        "      <td> 0.311264</td>\n",
        "    </tr>\n",
        "    <tr>\n",
        "      <th>337</th>\n",
        "      <td>  Fri 4th Dec 2015</td>\n",
        "      <td>  6318.00</td>\n",
        "      <td> 4946.97</td>\n",
        "      <td> 1371.03</td>\n",
        "      <td> 0.217004</td>\n",
        "    </tr>\n",
        "    <tr>\n",
        "      <th>338</th>\n",
        "      <td>  Sat 5th Dec 2015</td>\n",
        "      <td>  2290.00</td>\n",
        "      <td> 1655.17</td>\n",
        "      <td>  634.83</td>\n",
        "      <td> 0.277218</td>\n",
        "    </tr>\n",
        "    <tr>\n",
        "      <th>339</th>\n",
        "      <td>  Sun 6th Dec 2015</td>\n",
        "      <td>  3468.50</td>\n",
        "      <td> 2345.04</td>\n",
        "      <td> 1123.46</td>\n",
        "      <td> 0.323904</td>\n",
        "    </tr>\n",
        "    <tr>\n",
        "      <th>340</th>\n",
        "      <td>  Mon 7th Dec 2015</td>\n",
        "      <td>  8868.05</td>\n",
        "      <td> 6206.66</td>\n",
        "      <td> 2661.39</td>\n",
        "      <td> 0.300110</td>\n",
        "    </tr>\n",
        "    <tr>\n",
        "      <th>341</th>\n",
        "      <td>  Tue 8th Dec 2015</td>\n",
        "      <td>  2880.30</td>\n",
        "      <td> 2106.04</td>\n",
        "      <td>  774.26</td>\n",
        "      <td> 0.268812</td>\n",
        "    </tr>\n",
        "    <tr>\n",
        "      <th>342</th>\n",
        "      <td>  Wed 9th Dec 2015</td>\n",
        "      <td>  3323.20</td>\n",
        "      <td> 2418.70</td>\n",
        "      <td>  904.50</td>\n",
        "      <td> 0.272177</td>\n",
        "    </tr>\n",
        "    <tr>\n",
        "      <th>343</th>\n",
        "      <td> Thu 10th Dec 2015</td>\n",
        "      <td>  3805.00</td>\n",
        "      <td> 2577.68</td>\n",
        "      <td> 1227.32</td>\n",
        "      <td> 0.322555</td>\n",
        "    </tr>\n",
        "    <tr>\n",
        "      <th>344</th>\n",
        "      <td> Fri 11th Dec 2015</td>\n",
        "      <td>  3354.00</td>\n",
        "      <td> 2462.66</td>\n",
        "      <td>  891.34</td>\n",
        "      <td> 0.265754</td>\n",
        "    </tr>\n",
        "    <tr>\n",
        "      <th>345</th>\n",
        "      <td> Sat 12th Dec 2015</td>\n",
        "      <td>  1813.00</td>\n",
        "      <td> 1224.61</td>\n",
        "      <td>  588.39</td>\n",
        "      <td> 0.324539</td>\n",
        "    </tr>\n",
        "    <tr>\n",
        "      <th>346</th>\n",
        "      <td> Sun 13th Dec 2015</td>\n",
        "      <td>  7144.60</td>\n",
        "      <td> 4991.51</td>\n",
        "      <td> 2153.09</td>\n",
        "      <td> 0.301359</td>\n",
        "    </tr>\n",
        "    <tr>\n",
        "      <th>347</th>\n",
        "      <td> Mon 14th Dec 2015</td>\n",
        "      <td>  3874.50</td>\n",
        "      <td> 2627.87</td>\n",
        "      <td> 1246.63</td>\n",
        "      <td> 0.321752</td>\n",
        "    </tr>\n",
        "    <tr>\n",
        "      <th>348</th>\n",
        "      <td> Tue 15th Dec 2015</td>\n",
        "      <td>  9177.80</td>\n",
        "      <td> 6367.60</td>\n",
        "      <td> 2810.20</td>\n",
        "      <td> 0.306195</td>\n",
        "    </tr>\n",
        "    <tr>\n",
        "      <th>349</th>\n",
        "      <td> Wed 16th Dec 2015</td>\n",
        "      <td>  5101.38</td>\n",
        "      <td> 3671.75</td>\n",
        "      <td> 1429.63</td>\n",
        "      <td> 0.280244</td>\n",
        "    </tr>\n",
        "    <tr>\n",
        "      <th>350</th>\n",
        "      <td> Thu 17th Dec 2015</td>\n",
        "      <td>  5766.90</td>\n",
        "      <td> 4223.54</td>\n",
        "      <td> 1543.36</td>\n",
        "      <td> 0.267624</td>\n",
        "    </tr>\n",
        "    <tr>\n",
        "      <th>351</th>\n",
        "      <td> Fri 18th Dec 2015</td>\n",
        "      <td>  4981.90</td>\n",
        "      <td> 3670.12</td>\n",
        "      <td> 1311.78</td>\n",
        "      <td> 0.263309</td>\n",
        "    </tr>\n",
        "    <tr>\n",
        "      <th>352</th>\n",
        "      <td> Sat 19th Dec 2015</td>\n",
        "      <td>  4301.70</td>\n",
        "      <td> 3009.61</td>\n",
        "      <td> 1292.09</td>\n",
        "      <td> 0.300367</td>\n",
        "    </tr>\n",
        "    <tr>\n",
        "      <th>353</th>\n",
        "      <td> Sun 20th Dec 2015</td>\n",
        "      <td>  7285.16</td>\n",
        "      <td> 5208.60</td>\n",
        "      <td> 2076.56</td>\n",
        "      <td> 0.285040</td>\n",
        "    </tr>\n",
        "    <tr>\n",
        "      <th>354</th>\n",
        "      <td> Mon 21st Dec 2015</td>\n",
        "      <td> 10604.60</td>\n",
        "      <td> 7965.08</td>\n",
        "      <td> 2639.52</td>\n",
        "      <td> 0.248903</td>\n",
        "    </tr>\n",
        "    <tr>\n",
        "      <th>355</th>\n",
        "      <td> Tue 22nd Dec 2015</td>\n",
        "      <td>  4131.40</td>\n",
        "      <td> 2985.56</td>\n",
        "      <td> 1145.84</td>\n",
        "      <td> 0.277349</td>\n",
        "    </tr>\n",
        "    <tr>\n",
        "      <th>356</th>\n",
        "      <td> Wed 23rd Dec 2015</td>\n",
        "      <td>  6642.80</td>\n",
        "      <td> 4841.26</td>\n",
        "      <td> 1801.54</td>\n",
        "      <td> 0.271202</td>\n",
        "    </tr>\n",
        "  </tbody>\n",
        "</table>\n",
        "<p>357 rows \u00d7 5 columns</p>\n",
        "</div>"
       ],
       "metadata": {},
       "output_type": "pyout",
       "prompt_number": 4,
       "text": [
        "                  Date   Revenue  Cost of Goods  Gross Profit    Margin\n",
        "0     Thu 1st Jan 2015   2608.20        1934.71        673.49  0.258220\n",
        "1     Fri 2nd Jan 2015   2292.91        1697.32        595.59  0.259753\n",
        "2     Sat 3rd Jan 2015   7028.42        5261.53       1766.89  0.251392\n",
        "3     Sun 4th Jan 2015   4541.41        3339.15       1202.26  0.264733\n",
        "4     Mon 5th Jan 2015   4551.37        3291.49       1259.88  0.276813\n",
        "5     Tue 6th Jan 2015   1845.43        1282.63        562.80  0.304970\n",
        "6     Wed 7th Jan 2015      0.00           0.00          0.00  0.000000\n",
        "7     Thu 8th Jan 2015      0.00           0.00          0.00  0.000000\n",
        "8     Fri 9th Jan 2015      0.00           0.00          0.00  0.000000\n",
        "9    Sat 10th Jan 2015      0.00           0.00          0.00  0.000000\n",
        "10   Sun 11th Jan 2015      0.00           0.00          0.00  0.000000\n",
        "11   Mon 12th Jan 2015      0.00           0.00          0.00  0.000000\n",
        "12   Tue 13th Jan 2015      0.00           0.00          0.00  0.000000\n",
        "13   Wed 14th Jan 2015      0.00           0.00          0.00  0.000000\n",
        "14   Thu 15th Jan 2015      0.00           0.00          0.00  0.000000\n",
        "15   Fri 16th Jan 2015      0.00           0.00          0.00  0.000000\n",
        "16   Sat 17th Jan 2015      0.00           0.00          0.00  0.000000\n",
        "17   Sun 18th Jan 2015    410.50         325.58         84.92  0.206870\n",
        "18   Mon 19th Jan 2015      0.00           0.00          0.00  0.000000\n",
        "19   Tue 20th Jan 2015    165.00         120.00         45.00  0.272727\n",
        "20   Wed 21st Jan 2015      0.00           0.00          0.00  0.000000\n",
        "21   Thu 22nd Jan 2015      0.00           0.00          0.00  0.000000\n",
        "22   Fri 23rd Jan 2015      0.00           0.00          0.00  0.000000\n",
        "23   Sat 24th Jan 2015      0.00           0.00          0.00  0.000000\n",
        "24   Sun 25th Jan 2015      0.00           0.00          0.00  0.000000\n",
        "25   Mon 26th Jan 2015      0.00           0.00          0.00  0.000000\n",
        "26   Tue 27th Jan 2015      0.00           0.00          0.00  0.000000\n",
        "27   Wed 28th Jan 2015      0.00           0.00          0.00  0.000000\n",
        "28   Thu 29th Jan 2015      0.00           0.00          0.00  0.000000\n",
        "29   Fri 30th Jan 2015      0.00           0.00          0.00  0.000000\n",
        "..                 ...       ...            ...           ...       ...\n",
        "327  Tue 24th Nov 2015   3718.00        2530.10       1187.90  0.319500\n",
        "328  Wed 25th Nov 2015   3104.50        2157.54        946.96  0.305028\n",
        "329  Thu 26th Nov 2015   7066.85        4979.93       2086.92  0.295311\n",
        "330  Fri 27th Nov 2015   7520.50        5760.44       1760.06  0.234035\n",
        "331  Sat 28th Nov 2015   8320.25        6394.64       1925.61  0.231437\n",
        "332  Sun 29th Nov 2015   7330.15        5331.94       1998.21  0.272602\n",
        "333  Mon 30th Nov 2015   7909.25        5697.96       2211.29  0.279583\n",
        "334   Tue 1st Dec 2015   7430.20        5347.52       2082.68  0.280299\n",
        "335   Wed 2nd Dec 2015   8558.75        6590.71       1968.04  0.229945\n",
        "336   Thu 3rd Dec 2015   4992.90        3438.79       1554.11  0.311264\n",
        "337   Fri 4th Dec 2015   6318.00        4946.97       1371.03  0.217004\n",
        "338   Sat 5th Dec 2015   2290.00        1655.17        634.83  0.277218\n",
        "339   Sun 6th Dec 2015   3468.50        2345.04       1123.46  0.323904\n",
        "340   Mon 7th Dec 2015   8868.05        6206.66       2661.39  0.300110\n",
        "341   Tue 8th Dec 2015   2880.30        2106.04        774.26  0.268812\n",
        "342   Wed 9th Dec 2015   3323.20        2418.70        904.50  0.272177\n",
        "343  Thu 10th Dec 2015   3805.00        2577.68       1227.32  0.322555\n",
        "344  Fri 11th Dec 2015   3354.00        2462.66        891.34  0.265754\n",
        "345  Sat 12th Dec 2015   1813.00        1224.61        588.39  0.324539\n",
        "346  Sun 13th Dec 2015   7144.60        4991.51       2153.09  0.301359\n",
        "347  Mon 14th Dec 2015   3874.50        2627.87       1246.63  0.321752\n",
        "348  Tue 15th Dec 2015   9177.80        6367.60       2810.20  0.306195\n",
        "349  Wed 16th Dec 2015   5101.38        3671.75       1429.63  0.280244\n",
        "350  Thu 17th Dec 2015   5766.90        4223.54       1543.36  0.267624\n",
        "351  Fri 18th Dec 2015   4981.90        3670.12       1311.78  0.263309\n",
        "352  Sat 19th Dec 2015   4301.70        3009.61       1292.09  0.300367\n",
        "353  Sun 20th Dec 2015   7285.16        5208.60       2076.56  0.285040\n",
        "354  Mon 21st Dec 2015  10604.60        7965.08       2639.52  0.248903\n",
        "355  Tue 22nd Dec 2015   4131.40        2985.56       1145.84  0.277349\n",
        "356  Wed 23rd Dec 2015   6642.80        4841.26       1801.54  0.271202\n",
        "\n",
        "[357 rows x 5 columns]"
       ]
      }
     ],
     "prompt_number": 4
    },
    {
     "cell_type": "code",
     "collapsed": false,
     "input": [
      "df['Date'] = df.Date.apply(convertDate)\n",
      "df"
     ],
     "language": "python",
     "metadata": {},
     "outputs": [
      {
       "html": [
        "<div style=\"max-height:1000px;max-width:1500px;overflow:auto;\">\n",
        "<table border=\"1\" class=\"dataframe\">\n",
        "  <thead>\n",
        "    <tr style=\"text-align: right;\">\n",
        "      <th></th>\n",
        "      <th>Date</th>\n",
        "      <th>Revenue</th>\n",
        "      <th>Cost of Goods</th>\n",
        "      <th>Gross Profit</th>\n",
        "      <th>Margin</th>\n",
        "    </tr>\n",
        "  </thead>\n",
        "  <tbody>\n",
        "    <tr>\n",
        "      <th>0  </th>\n",
        "      <td> 2015-01-01</td>\n",
        "      <td>  2608.20</td>\n",
        "      <td> 1934.71</td>\n",
        "      <td>  673.49</td>\n",
        "      <td> 0.258220</td>\n",
        "    </tr>\n",
        "    <tr>\n",
        "      <th>1  </th>\n",
        "      <td> 2015-01-02</td>\n",
        "      <td>  2292.91</td>\n",
        "      <td> 1697.32</td>\n",
        "      <td>  595.59</td>\n",
        "      <td> 0.259753</td>\n",
        "    </tr>\n",
        "    <tr>\n",
        "      <th>2  </th>\n",
        "      <td> 2015-01-03</td>\n",
        "      <td>  7028.42</td>\n",
        "      <td> 5261.53</td>\n",
        "      <td> 1766.89</td>\n",
        "      <td> 0.251392</td>\n",
        "    </tr>\n",
        "    <tr>\n",
        "      <th>3  </th>\n",
        "      <td> 2015-01-04</td>\n",
        "      <td>  4541.41</td>\n",
        "      <td> 3339.15</td>\n",
        "      <td> 1202.26</td>\n",
        "      <td> 0.264733</td>\n",
        "    </tr>\n",
        "    <tr>\n",
        "      <th>4  </th>\n",
        "      <td> 2015-01-05</td>\n",
        "      <td>  4551.37</td>\n",
        "      <td> 3291.49</td>\n",
        "      <td> 1259.88</td>\n",
        "      <td> 0.276813</td>\n",
        "    </tr>\n",
        "    <tr>\n",
        "      <th>5  </th>\n",
        "      <td> 2015-01-06</td>\n",
        "      <td>  1845.43</td>\n",
        "      <td> 1282.63</td>\n",
        "      <td>  562.80</td>\n",
        "      <td> 0.304970</td>\n",
        "    </tr>\n",
        "    <tr>\n",
        "      <th>6  </th>\n",
        "      <td> 2015-01-07</td>\n",
        "      <td>     0.00</td>\n",
        "      <td>    0.00</td>\n",
        "      <td>    0.00</td>\n",
        "      <td> 0.000000</td>\n",
        "    </tr>\n",
        "    <tr>\n",
        "      <th>7  </th>\n",
        "      <td> 2015-01-08</td>\n",
        "      <td>     0.00</td>\n",
        "      <td>    0.00</td>\n",
        "      <td>    0.00</td>\n",
        "      <td> 0.000000</td>\n",
        "    </tr>\n",
        "    <tr>\n",
        "      <th>8  </th>\n",
        "      <td> 2015-01-09</td>\n",
        "      <td>     0.00</td>\n",
        "      <td>    0.00</td>\n",
        "      <td>    0.00</td>\n",
        "      <td> 0.000000</td>\n",
        "    </tr>\n",
        "    <tr>\n",
        "      <th>9  </th>\n",
        "      <td> 2015-01-10</td>\n",
        "      <td>     0.00</td>\n",
        "      <td>    0.00</td>\n",
        "      <td>    0.00</td>\n",
        "      <td> 0.000000</td>\n",
        "    </tr>\n",
        "    <tr>\n",
        "      <th>10 </th>\n",
        "      <td> 2015-01-11</td>\n",
        "      <td>     0.00</td>\n",
        "      <td>    0.00</td>\n",
        "      <td>    0.00</td>\n",
        "      <td> 0.000000</td>\n",
        "    </tr>\n",
        "    <tr>\n",
        "      <th>11 </th>\n",
        "      <td> 2015-01-12</td>\n",
        "      <td>     0.00</td>\n",
        "      <td>    0.00</td>\n",
        "      <td>    0.00</td>\n",
        "      <td> 0.000000</td>\n",
        "    </tr>\n",
        "    <tr>\n",
        "      <th>12 </th>\n",
        "      <td> 2015-01-13</td>\n",
        "      <td>     0.00</td>\n",
        "      <td>    0.00</td>\n",
        "      <td>    0.00</td>\n",
        "      <td> 0.000000</td>\n",
        "    </tr>\n",
        "    <tr>\n",
        "      <th>13 </th>\n",
        "      <td> 2015-01-14</td>\n",
        "      <td>     0.00</td>\n",
        "      <td>    0.00</td>\n",
        "      <td>    0.00</td>\n",
        "      <td> 0.000000</td>\n",
        "    </tr>\n",
        "    <tr>\n",
        "      <th>14 </th>\n",
        "      <td> 2015-01-15</td>\n",
        "      <td>     0.00</td>\n",
        "      <td>    0.00</td>\n",
        "      <td>    0.00</td>\n",
        "      <td> 0.000000</td>\n",
        "    </tr>\n",
        "    <tr>\n",
        "      <th>15 </th>\n",
        "      <td> 2015-01-16</td>\n",
        "      <td>     0.00</td>\n",
        "      <td>    0.00</td>\n",
        "      <td>    0.00</td>\n",
        "      <td> 0.000000</td>\n",
        "    </tr>\n",
        "    <tr>\n",
        "      <th>16 </th>\n",
        "      <td> 2015-01-17</td>\n",
        "      <td>     0.00</td>\n",
        "      <td>    0.00</td>\n",
        "      <td>    0.00</td>\n",
        "      <td> 0.000000</td>\n",
        "    </tr>\n",
        "    <tr>\n",
        "      <th>17 </th>\n",
        "      <td> 2015-01-18</td>\n",
        "      <td>   410.50</td>\n",
        "      <td>  325.58</td>\n",
        "      <td>   84.92</td>\n",
        "      <td> 0.206870</td>\n",
        "    </tr>\n",
        "    <tr>\n",
        "      <th>18 </th>\n",
        "      <td> 2015-01-19</td>\n",
        "      <td>     0.00</td>\n",
        "      <td>    0.00</td>\n",
        "      <td>    0.00</td>\n",
        "      <td> 0.000000</td>\n",
        "    </tr>\n",
        "    <tr>\n",
        "      <th>19 </th>\n",
        "      <td> 2015-01-20</td>\n",
        "      <td>   165.00</td>\n",
        "      <td>  120.00</td>\n",
        "      <td>   45.00</td>\n",
        "      <td> 0.272727</td>\n",
        "    </tr>\n",
        "    <tr>\n",
        "      <th>20 </th>\n",
        "      <td> 2015-01-21</td>\n",
        "      <td>     0.00</td>\n",
        "      <td>    0.00</td>\n",
        "      <td>    0.00</td>\n",
        "      <td> 0.000000</td>\n",
        "    </tr>\n",
        "    <tr>\n",
        "      <th>21 </th>\n",
        "      <td> 2015-01-22</td>\n",
        "      <td>     0.00</td>\n",
        "      <td>    0.00</td>\n",
        "      <td>    0.00</td>\n",
        "      <td> 0.000000</td>\n",
        "    </tr>\n",
        "    <tr>\n",
        "      <th>22 </th>\n",
        "      <td> 2015-01-23</td>\n",
        "      <td>     0.00</td>\n",
        "      <td>    0.00</td>\n",
        "      <td>    0.00</td>\n",
        "      <td> 0.000000</td>\n",
        "    </tr>\n",
        "    <tr>\n",
        "      <th>23 </th>\n",
        "      <td> 2015-01-24</td>\n",
        "      <td>     0.00</td>\n",
        "      <td>    0.00</td>\n",
        "      <td>    0.00</td>\n",
        "      <td> 0.000000</td>\n",
        "    </tr>\n",
        "    <tr>\n",
        "      <th>24 </th>\n",
        "      <td> 2015-01-25</td>\n",
        "      <td>     0.00</td>\n",
        "      <td>    0.00</td>\n",
        "      <td>    0.00</td>\n",
        "      <td> 0.000000</td>\n",
        "    </tr>\n",
        "    <tr>\n",
        "      <th>25 </th>\n",
        "      <td> 2015-01-26</td>\n",
        "      <td>     0.00</td>\n",
        "      <td>    0.00</td>\n",
        "      <td>    0.00</td>\n",
        "      <td> 0.000000</td>\n",
        "    </tr>\n",
        "    <tr>\n",
        "      <th>26 </th>\n",
        "      <td> 2015-01-27</td>\n",
        "      <td>     0.00</td>\n",
        "      <td>    0.00</td>\n",
        "      <td>    0.00</td>\n",
        "      <td> 0.000000</td>\n",
        "    </tr>\n",
        "    <tr>\n",
        "      <th>27 </th>\n",
        "      <td> 2015-01-28</td>\n",
        "      <td>     0.00</td>\n",
        "      <td>    0.00</td>\n",
        "      <td>    0.00</td>\n",
        "      <td> 0.000000</td>\n",
        "    </tr>\n",
        "    <tr>\n",
        "      <th>28 </th>\n",
        "      <td> 2015-01-29</td>\n",
        "      <td>     0.00</td>\n",
        "      <td>    0.00</td>\n",
        "      <td>    0.00</td>\n",
        "      <td> 0.000000</td>\n",
        "    </tr>\n",
        "    <tr>\n",
        "      <th>29 </th>\n",
        "      <td> 2015-01-30</td>\n",
        "      <td>     0.00</td>\n",
        "      <td>    0.00</td>\n",
        "      <td>    0.00</td>\n",
        "      <td> 0.000000</td>\n",
        "    </tr>\n",
        "    <tr>\n",
        "      <th>...</th>\n",
        "      <td>...</td>\n",
        "      <td>...</td>\n",
        "      <td>...</td>\n",
        "      <td>...</td>\n",
        "      <td>...</td>\n",
        "    </tr>\n",
        "    <tr>\n",
        "      <th>327</th>\n",
        "      <td> 2015-11-24</td>\n",
        "      <td>  3718.00</td>\n",
        "      <td> 2530.10</td>\n",
        "      <td> 1187.90</td>\n",
        "      <td> 0.319500</td>\n",
        "    </tr>\n",
        "    <tr>\n",
        "      <th>328</th>\n",
        "      <td> 2015-11-25</td>\n",
        "      <td>  3104.50</td>\n",
        "      <td> 2157.54</td>\n",
        "      <td>  946.96</td>\n",
        "      <td> 0.305028</td>\n",
        "    </tr>\n",
        "    <tr>\n",
        "      <th>329</th>\n",
        "      <td> 2015-11-26</td>\n",
        "      <td>  7066.85</td>\n",
        "      <td> 4979.93</td>\n",
        "      <td> 2086.92</td>\n",
        "      <td> 0.295311</td>\n",
        "    </tr>\n",
        "    <tr>\n",
        "      <th>330</th>\n",
        "      <td> 2015-11-27</td>\n",
        "      <td>  7520.50</td>\n",
        "      <td> 5760.44</td>\n",
        "      <td> 1760.06</td>\n",
        "      <td> 0.234035</td>\n",
        "    </tr>\n",
        "    <tr>\n",
        "      <th>331</th>\n",
        "      <td> 2015-11-28</td>\n",
        "      <td>  8320.25</td>\n",
        "      <td> 6394.64</td>\n",
        "      <td> 1925.61</td>\n",
        "      <td> 0.231437</td>\n",
        "    </tr>\n",
        "    <tr>\n",
        "      <th>332</th>\n",
        "      <td> 2015-11-29</td>\n",
        "      <td>  7330.15</td>\n",
        "      <td> 5331.94</td>\n",
        "      <td> 1998.21</td>\n",
        "      <td> 0.272602</td>\n",
        "    </tr>\n",
        "    <tr>\n",
        "      <th>333</th>\n",
        "      <td> 2015-11-30</td>\n",
        "      <td>  7909.25</td>\n",
        "      <td> 5697.96</td>\n",
        "      <td> 2211.29</td>\n",
        "      <td> 0.279583</td>\n",
        "    </tr>\n",
        "    <tr>\n",
        "      <th>334</th>\n",
        "      <td> 2015-12-01</td>\n",
        "      <td>  7430.20</td>\n",
        "      <td> 5347.52</td>\n",
        "      <td> 2082.68</td>\n",
        "      <td> 0.280299</td>\n",
        "    </tr>\n",
        "    <tr>\n",
        "      <th>335</th>\n",
        "      <td> 2015-12-02</td>\n",
        "      <td>  8558.75</td>\n",
        "      <td> 6590.71</td>\n",
        "      <td> 1968.04</td>\n",
        "      <td> 0.229945</td>\n",
        "    </tr>\n",
        "    <tr>\n",
        "      <th>336</th>\n",
        "      <td> 2015-12-03</td>\n",
        "      <td>  4992.90</td>\n",
        "      <td> 3438.79</td>\n",
        "      <td> 1554.11</td>\n",
        "      <td> 0.311264</td>\n",
        "    </tr>\n",
        "    <tr>\n",
        "      <th>337</th>\n",
        "      <td> 2015-12-04</td>\n",
        "      <td>  6318.00</td>\n",
        "      <td> 4946.97</td>\n",
        "      <td> 1371.03</td>\n",
        "      <td> 0.217004</td>\n",
        "    </tr>\n",
        "    <tr>\n",
        "      <th>338</th>\n",
        "      <td> 2015-12-05</td>\n",
        "      <td>  2290.00</td>\n",
        "      <td> 1655.17</td>\n",
        "      <td>  634.83</td>\n",
        "      <td> 0.277218</td>\n",
        "    </tr>\n",
        "    <tr>\n",
        "      <th>339</th>\n",
        "      <td> 2015-12-06</td>\n",
        "      <td>  3468.50</td>\n",
        "      <td> 2345.04</td>\n",
        "      <td> 1123.46</td>\n",
        "      <td> 0.323904</td>\n",
        "    </tr>\n",
        "    <tr>\n",
        "      <th>340</th>\n",
        "      <td> 2015-12-07</td>\n",
        "      <td>  8868.05</td>\n",
        "      <td> 6206.66</td>\n",
        "      <td> 2661.39</td>\n",
        "      <td> 0.300110</td>\n",
        "    </tr>\n",
        "    <tr>\n",
        "      <th>341</th>\n",
        "      <td> 2015-12-08</td>\n",
        "      <td>  2880.30</td>\n",
        "      <td> 2106.04</td>\n",
        "      <td>  774.26</td>\n",
        "      <td> 0.268812</td>\n",
        "    </tr>\n",
        "    <tr>\n",
        "      <th>342</th>\n",
        "      <td> 2015-12-09</td>\n",
        "      <td>  3323.20</td>\n",
        "      <td> 2418.70</td>\n",
        "      <td>  904.50</td>\n",
        "      <td> 0.272177</td>\n",
        "    </tr>\n",
        "    <tr>\n",
        "      <th>343</th>\n",
        "      <td> 2015-12-10</td>\n",
        "      <td>  3805.00</td>\n",
        "      <td> 2577.68</td>\n",
        "      <td> 1227.32</td>\n",
        "      <td> 0.322555</td>\n",
        "    </tr>\n",
        "    <tr>\n",
        "      <th>344</th>\n",
        "      <td> 2015-12-11</td>\n",
        "      <td>  3354.00</td>\n",
        "      <td> 2462.66</td>\n",
        "      <td>  891.34</td>\n",
        "      <td> 0.265754</td>\n",
        "    </tr>\n",
        "    <tr>\n",
        "      <th>345</th>\n",
        "      <td> 2015-12-12</td>\n",
        "      <td>  1813.00</td>\n",
        "      <td> 1224.61</td>\n",
        "      <td>  588.39</td>\n",
        "      <td> 0.324539</td>\n",
        "    </tr>\n",
        "    <tr>\n",
        "      <th>346</th>\n",
        "      <td> 2015-12-13</td>\n",
        "      <td>  7144.60</td>\n",
        "      <td> 4991.51</td>\n",
        "      <td> 2153.09</td>\n",
        "      <td> 0.301359</td>\n",
        "    </tr>\n",
        "    <tr>\n",
        "      <th>347</th>\n",
        "      <td> 2015-12-14</td>\n",
        "      <td>  3874.50</td>\n",
        "      <td> 2627.87</td>\n",
        "      <td> 1246.63</td>\n",
        "      <td> 0.321752</td>\n",
        "    </tr>\n",
        "    <tr>\n",
        "      <th>348</th>\n",
        "      <td> 2015-12-15</td>\n",
        "      <td>  9177.80</td>\n",
        "      <td> 6367.60</td>\n",
        "      <td> 2810.20</td>\n",
        "      <td> 0.306195</td>\n",
        "    </tr>\n",
        "    <tr>\n",
        "      <th>349</th>\n",
        "      <td> 2015-12-16</td>\n",
        "      <td>  5101.38</td>\n",
        "      <td> 3671.75</td>\n",
        "      <td> 1429.63</td>\n",
        "      <td> 0.280244</td>\n",
        "    </tr>\n",
        "    <tr>\n",
        "      <th>350</th>\n",
        "      <td> 2015-12-17</td>\n",
        "      <td>  5766.90</td>\n",
        "      <td> 4223.54</td>\n",
        "      <td> 1543.36</td>\n",
        "      <td> 0.267624</td>\n",
        "    </tr>\n",
        "    <tr>\n",
        "      <th>351</th>\n",
        "      <td> 2015-12-18</td>\n",
        "      <td>  4981.90</td>\n",
        "      <td> 3670.12</td>\n",
        "      <td> 1311.78</td>\n",
        "      <td> 0.263309</td>\n",
        "    </tr>\n",
        "    <tr>\n",
        "      <th>352</th>\n",
        "      <td> 2015-12-19</td>\n",
        "      <td>  4301.70</td>\n",
        "      <td> 3009.61</td>\n",
        "      <td> 1292.09</td>\n",
        "      <td> 0.300367</td>\n",
        "    </tr>\n",
        "    <tr>\n",
        "      <th>353</th>\n",
        "      <td> 2015-12-20</td>\n",
        "      <td>  7285.16</td>\n",
        "      <td> 5208.60</td>\n",
        "      <td> 2076.56</td>\n",
        "      <td> 0.285040</td>\n",
        "    </tr>\n",
        "    <tr>\n",
        "      <th>354</th>\n",
        "      <td> 2015-12-21</td>\n",
        "      <td> 10604.60</td>\n",
        "      <td> 7965.08</td>\n",
        "      <td> 2639.52</td>\n",
        "      <td> 0.248903</td>\n",
        "    </tr>\n",
        "    <tr>\n",
        "      <th>355</th>\n",
        "      <td> 2015-12-22</td>\n",
        "      <td>  4131.40</td>\n",
        "      <td> 2985.56</td>\n",
        "      <td> 1145.84</td>\n",
        "      <td> 0.277349</td>\n",
        "    </tr>\n",
        "    <tr>\n",
        "      <th>356</th>\n",
        "      <td> 2015-12-23</td>\n",
        "      <td>  6642.80</td>\n",
        "      <td> 4841.26</td>\n",
        "      <td> 1801.54</td>\n",
        "      <td> 0.271202</td>\n",
        "    </tr>\n",
        "  </tbody>\n",
        "</table>\n",
        "<p>357 rows \u00d7 5 columns</p>\n",
        "</div>"
       ],
       "metadata": {},
       "output_type": "pyout",
       "prompt_number": 5,
       "text": [
        "           Date   Revenue  Cost of Goods  Gross Profit    Margin\n",
        "0    2015-01-01   2608.20        1934.71        673.49  0.258220\n",
        "1    2015-01-02   2292.91        1697.32        595.59  0.259753\n",
        "2    2015-01-03   7028.42        5261.53       1766.89  0.251392\n",
        "3    2015-01-04   4541.41        3339.15       1202.26  0.264733\n",
        "4    2015-01-05   4551.37        3291.49       1259.88  0.276813\n",
        "5    2015-01-06   1845.43        1282.63        562.80  0.304970\n",
        "6    2015-01-07      0.00           0.00          0.00  0.000000\n",
        "7    2015-01-08      0.00           0.00          0.00  0.000000\n",
        "8    2015-01-09      0.00           0.00          0.00  0.000000\n",
        "9    2015-01-10      0.00           0.00          0.00  0.000000\n",
        "10   2015-01-11      0.00           0.00          0.00  0.000000\n",
        "11   2015-01-12      0.00           0.00          0.00  0.000000\n",
        "12   2015-01-13      0.00           0.00          0.00  0.000000\n",
        "13   2015-01-14      0.00           0.00          0.00  0.000000\n",
        "14   2015-01-15      0.00           0.00          0.00  0.000000\n",
        "15   2015-01-16      0.00           0.00          0.00  0.000000\n",
        "16   2015-01-17      0.00           0.00          0.00  0.000000\n",
        "17   2015-01-18    410.50         325.58         84.92  0.206870\n",
        "18   2015-01-19      0.00           0.00          0.00  0.000000\n",
        "19   2015-01-20    165.00         120.00         45.00  0.272727\n",
        "20   2015-01-21      0.00           0.00          0.00  0.000000\n",
        "21   2015-01-22      0.00           0.00          0.00  0.000000\n",
        "22   2015-01-23      0.00           0.00          0.00  0.000000\n",
        "23   2015-01-24      0.00           0.00          0.00  0.000000\n",
        "24   2015-01-25      0.00           0.00          0.00  0.000000\n",
        "25   2015-01-26      0.00           0.00          0.00  0.000000\n",
        "26   2015-01-27      0.00           0.00          0.00  0.000000\n",
        "27   2015-01-28      0.00           0.00          0.00  0.000000\n",
        "28   2015-01-29      0.00           0.00          0.00  0.000000\n",
        "29   2015-01-30      0.00           0.00          0.00  0.000000\n",
        "..          ...       ...            ...           ...       ...\n",
        "327  2015-11-24   3718.00        2530.10       1187.90  0.319500\n",
        "328  2015-11-25   3104.50        2157.54        946.96  0.305028\n",
        "329  2015-11-26   7066.85        4979.93       2086.92  0.295311\n",
        "330  2015-11-27   7520.50        5760.44       1760.06  0.234035\n",
        "331  2015-11-28   8320.25        6394.64       1925.61  0.231437\n",
        "332  2015-11-29   7330.15        5331.94       1998.21  0.272602\n",
        "333  2015-11-30   7909.25        5697.96       2211.29  0.279583\n",
        "334  2015-12-01   7430.20        5347.52       2082.68  0.280299\n",
        "335  2015-12-02   8558.75        6590.71       1968.04  0.229945\n",
        "336  2015-12-03   4992.90        3438.79       1554.11  0.311264\n",
        "337  2015-12-04   6318.00        4946.97       1371.03  0.217004\n",
        "338  2015-12-05   2290.00        1655.17        634.83  0.277218\n",
        "339  2015-12-06   3468.50        2345.04       1123.46  0.323904\n",
        "340  2015-12-07   8868.05        6206.66       2661.39  0.300110\n",
        "341  2015-12-08   2880.30        2106.04        774.26  0.268812\n",
        "342  2015-12-09   3323.20        2418.70        904.50  0.272177\n",
        "343  2015-12-10   3805.00        2577.68       1227.32  0.322555\n",
        "344  2015-12-11   3354.00        2462.66        891.34  0.265754\n",
        "345  2015-12-12   1813.00        1224.61        588.39  0.324539\n",
        "346  2015-12-13   7144.60        4991.51       2153.09  0.301359\n",
        "347  2015-12-14   3874.50        2627.87       1246.63  0.321752\n",
        "348  2015-12-15   9177.80        6367.60       2810.20  0.306195\n",
        "349  2015-12-16   5101.38        3671.75       1429.63  0.280244\n",
        "350  2015-12-17   5766.90        4223.54       1543.36  0.267624\n",
        "351  2015-12-18   4981.90        3670.12       1311.78  0.263309\n",
        "352  2015-12-19   4301.70        3009.61       1292.09  0.300367\n",
        "353  2015-12-20   7285.16        5208.60       2076.56  0.285040\n",
        "354  2015-12-21  10604.60        7965.08       2639.52  0.248903\n",
        "355  2015-12-22   4131.40        2985.56       1145.84  0.277349\n",
        "356  2015-12-23   6642.80        4841.26       1801.54  0.271202\n",
        "\n",
        "[357 rows x 5 columns]"
       ]
      }
     ],
     "prompt_number": 5
    },
    {
     "cell_type": "code",
     "collapsed": false,
     "input": [],
     "language": "python",
     "metadata": {},
     "outputs": []
    }
   ],
   "metadata": {}
  }
 ]
}
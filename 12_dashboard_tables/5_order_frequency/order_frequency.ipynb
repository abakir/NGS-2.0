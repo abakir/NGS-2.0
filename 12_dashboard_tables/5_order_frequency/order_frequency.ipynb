{
 "metadata": {
  "name": "",
  "signature": "sha256:b7cfbf0d7d25243beef18b7d7b8ec87cf9a2dc9027507c12e0054a81f785ad29"
 },
 "nbformat": 3,
 "nbformat_minor": 0,
 "worksheets": [
  {
   "cells": [
    {
     "cell_type": "code",
     "collapsed": false,
     "input": [
      "import pandas as pd\n",
      "import numpy as np\n",
      "#import yaml\n",
      "\n",
      "#with open(\"config.yaml\", 'r') as ymlfile:\n",
      "#        cfg = yaml.load(ymlfile)\n",
      "\n",
      "#df = pd.read_csv(cfg['root']+cfg['dir_data_shopify']+cfg[\"ip_orders\"], low_memory=False)\n",
      "df = pd.read_csv('C:\\Users\\saisree849\\Documents\\GitHub\\NGS-2.0\\\\12_dashboard_tables\\data_input\\shopify\\orders_export.csv', low_memory=False)\n",
      "df"
     ],
     "language": "python",
     "metadata": {},
     "outputs": [
      {
       "html": [
        "<div style=\"max-height:1000px;max-width:1500px;overflow:auto;\">\n",
        "<table border=\"1\" class=\"dataframe\">\n",
        "  <thead>\n",
        "    <tr style=\"text-align: right;\">\n",
        "      <th></th>\n",
        "      <th>Name</th>\n",
        "      <th>Email</th>\n",
        "      <th>Financial Status</th>\n",
        "      <th>Paid at</th>\n",
        "      <th>Fulfillment Status</th>\n",
        "      <th>Fulfilled at</th>\n",
        "      <th>Accepts Marketing</th>\n",
        "      <th>Currency</th>\n",
        "      <th>Subtotal</th>\n",
        "      <th>Shipping</th>\n",
        "      <th>...</th>\n",
        "      <th>Tax 1 Name</th>\n",
        "      <th>Tax 1 Value</th>\n",
        "      <th>Tax 2 Name</th>\n",
        "      <th>Tax 2 Value</th>\n",
        "      <th>Tax 3 Name</th>\n",
        "      <th>Tax 3 Value</th>\n",
        "      <th>Tax 4 Name</th>\n",
        "      <th>Tax 4 Value</th>\n",
        "      <th>Tax 5 Name</th>\n",
        "      <th>Tax 5 Value</th>\n",
        "    </tr>\n",
        "  </thead>\n",
        "  <tbody>\n",
        "    <tr>\n",
        "      <th>0    </th>\n",
        "      <td> #10367</td>\n",
        "      <td>  rehabmansour@gmail.com</td>\n",
        "      <td> pending</td>\n",
        "      <td>                       NaN</td>\n",
        "      <td> unfulfilled</td>\n",
        "      <td>                       NaN</td>\n",
        "      <td>  no</td>\n",
        "      <td> EGP</td>\n",
        "      <td> 375.30</td>\n",
        "      <td> 10</td>\n",
        "      <td>...</td>\n",
        "      <td>NaN</td>\n",
        "      <td>NaN</td>\n",
        "      <td>NaN</td>\n",
        "      <td>NaN</td>\n",
        "      <td>NaN</td>\n",
        "      <td>NaN</td>\n",
        "      <td>NaN</td>\n",
        "      <td>NaN</td>\n",
        "      <td>NaN</td>\n",
        "      <td>NaN</td>\n",
        "    </tr>\n",
        "    <tr>\n",
        "      <th>1    </th>\n",
        "      <td> #10367</td>\n",
        "      <td>  rehabmansour@gmail.com</td>\n",
        "      <td>     NaN</td>\n",
        "      <td>                       NaN</td>\n",
        "      <td>         NaN</td>\n",
        "      <td>                       NaN</td>\n",
        "      <td> NaN</td>\n",
        "      <td> NaN</td>\n",
        "      <td>    NaN</td>\n",
        "      <td>NaN</td>\n",
        "      <td>...</td>\n",
        "      <td>NaN</td>\n",
        "      <td>NaN</td>\n",
        "      <td>NaN</td>\n",
        "      <td>NaN</td>\n",
        "      <td>NaN</td>\n",
        "      <td>NaN</td>\n",
        "      <td>NaN</td>\n",
        "      <td>NaN</td>\n",
        "      <td>NaN</td>\n",
        "      <td>NaN</td>\n",
        "    </tr>\n",
        "    <tr>\n",
        "      <th>2    </th>\n",
        "      <td> #10367</td>\n",
        "      <td>  rehabmansour@gmail.com</td>\n",
        "      <td>     NaN</td>\n",
        "      <td>                       NaN</td>\n",
        "      <td>         NaN</td>\n",
        "      <td>                       NaN</td>\n",
        "      <td> NaN</td>\n",
        "      <td> NaN</td>\n",
        "      <td>    NaN</td>\n",
        "      <td>NaN</td>\n",
        "      <td>...</td>\n",
        "      <td>NaN</td>\n",
        "      <td>NaN</td>\n",
        "      <td>NaN</td>\n",
        "      <td>NaN</td>\n",
        "      <td>NaN</td>\n",
        "      <td>NaN</td>\n",
        "      <td>NaN</td>\n",
        "      <td>NaN</td>\n",
        "      <td>NaN</td>\n",
        "      <td>NaN</td>\n",
        "    </tr>\n",
        "    <tr>\n",
        "      <th>3    </th>\n",
        "      <td> #10366</td>\n",
        "      <td>     nabouheif@yahoo.com</td>\n",
        "      <td> pending</td>\n",
        "      <td>                       NaN</td>\n",
        "      <td> unfulfilled</td>\n",
        "      <td>                       NaN</td>\n",
        "      <td>  no</td>\n",
        "      <td> EGP</td>\n",
        "      <td> 162.90</td>\n",
        "      <td> 10</td>\n",
        "      <td>...</td>\n",
        "      <td>NaN</td>\n",
        "      <td>NaN</td>\n",
        "      <td>NaN</td>\n",
        "      <td>NaN</td>\n",
        "      <td>NaN</td>\n",
        "      <td>NaN</td>\n",
        "      <td>NaN</td>\n",
        "      <td>NaN</td>\n",
        "      <td>NaN</td>\n",
        "      <td>NaN</td>\n",
        "    </tr>\n",
        "    <tr>\n",
        "      <th>4    </th>\n",
        "      <td> #10366</td>\n",
        "      <td>     nabouheif@yahoo.com</td>\n",
        "      <td>     NaN</td>\n",
        "      <td>                       NaN</td>\n",
        "      <td>         NaN</td>\n",
        "      <td>                       NaN</td>\n",
        "      <td> NaN</td>\n",
        "      <td> NaN</td>\n",
        "      <td>    NaN</td>\n",
        "      <td>NaN</td>\n",
        "      <td>...</td>\n",
        "      <td>NaN</td>\n",
        "      <td>NaN</td>\n",
        "      <td>NaN</td>\n",
        "      <td>NaN</td>\n",
        "      <td>NaN</td>\n",
        "      <td>NaN</td>\n",
        "      <td>NaN</td>\n",
        "      <td>NaN</td>\n",
        "      <td>NaN</td>\n",
        "      <td>NaN</td>\n",
        "    </tr>\n",
        "    <tr>\n",
        "      <th>5    </th>\n",
        "      <td> #10366</td>\n",
        "      <td>     nabouheif@yahoo.com</td>\n",
        "      <td>     NaN</td>\n",
        "      <td>                       NaN</td>\n",
        "      <td>         NaN</td>\n",
        "      <td>                       NaN</td>\n",
        "      <td> NaN</td>\n",
        "      <td> NaN</td>\n",
        "      <td>    NaN</td>\n",
        "      <td>NaN</td>\n",
        "      <td>...</td>\n",
        "      <td>NaN</td>\n",
        "      <td>NaN</td>\n",
        "      <td>NaN</td>\n",
        "      <td>NaN</td>\n",
        "      <td>NaN</td>\n",
        "      <td>NaN</td>\n",
        "      <td>NaN</td>\n",
        "      <td>NaN</td>\n",
        "      <td>NaN</td>\n",
        "      <td>NaN</td>\n",
        "    </tr>\n",
        "    <tr>\n",
        "      <th>6    </th>\n",
        "      <td> #10365</td>\n",
        "      <td>  fracicardi@hotmail.com</td>\n",
        "      <td> pending</td>\n",
        "      <td>                       NaN</td>\n",
        "      <td> unfulfilled</td>\n",
        "      <td>                       NaN</td>\n",
        "      <td>  no</td>\n",
        "      <td> EGP</td>\n",
        "      <td> 129.00</td>\n",
        "      <td> 15</td>\n",
        "      <td>...</td>\n",
        "      <td>NaN</td>\n",
        "      <td>NaN</td>\n",
        "      <td>NaN</td>\n",
        "      <td>NaN</td>\n",
        "      <td>NaN</td>\n",
        "      <td>NaN</td>\n",
        "      <td>NaN</td>\n",
        "      <td>NaN</td>\n",
        "      <td>NaN</td>\n",
        "      <td>NaN</td>\n",
        "    </tr>\n",
        "    <tr>\n",
        "      <th>7    </th>\n",
        "      <td> #10365</td>\n",
        "      <td>  fracicardi@hotmail.com</td>\n",
        "      <td>     NaN</td>\n",
        "      <td>                       NaN</td>\n",
        "      <td>         NaN</td>\n",
        "      <td>                       NaN</td>\n",
        "      <td> NaN</td>\n",
        "      <td> NaN</td>\n",
        "      <td>    NaN</td>\n",
        "      <td>NaN</td>\n",
        "      <td>...</td>\n",
        "      <td>NaN</td>\n",
        "      <td>NaN</td>\n",
        "      <td>NaN</td>\n",
        "      <td>NaN</td>\n",
        "      <td>NaN</td>\n",
        "      <td>NaN</td>\n",
        "      <td>NaN</td>\n",
        "      <td>NaN</td>\n",
        "      <td>NaN</td>\n",
        "      <td>NaN</td>\n",
        "    </tr>\n",
        "    <tr>\n",
        "      <th>8    </th>\n",
        "      <td> #10365</td>\n",
        "      <td>  fracicardi@hotmail.com</td>\n",
        "      <td>     NaN</td>\n",
        "      <td>                       NaN</td>\n",
        "      <td>         NaN</td>\n",
        "      <td>                       NaN</td>\n",
        "      <td> NaN</td>\n",
        "      <td> NaN</td>\n",
        "      <td>    NaN</td>\n",
        "      <td>NaN</td>\n",
        "      <td>...</td>\n",
        "      <td>NaN</td>\n",
        "      <td>NaN</td>\n",
        "      <td>NaN</td>\n",
        "      <td>NaN</td>\n",
        "      <td>NaN</td>\n",
        "      <td>NaN</td>\n",
        "      <td>NaN</td>\n",
        "      <td>NaN</td>\n",
        "      <td>NaN</td>\n",
        "      <td>NaN</td>\n",
        "    </tr>\n",
        "    <tr>\n",
        "      <th>9    </th>\n",
        "      <td> #10365</td>\n",
        "      <td>  fracicardi@hotmail.com</td>\n",
        "      <td>     NaN</td>\n",
        "      <td>                       NaN</td>\n",
        "      <td>         NaN</td>\n",
        "      <td>                       NaN</td>\n",
        "      <td> NaN</td>\n",
        "      <td> NaN</td>\n",
        "      <td>    NaN</td>\n",
        "      <td>NaN</td>\n",
        "      <td>...</td>\n",
        "      <td>NaN</td>\n",
        "      <td>NaN</td>\n",
        "      <td>NaN</td>\n",
        "      <td>NaN</td>\n",
        "      <td>NaN</td>\n",
        "      <td>NaN</td>\n",
        "      <td>NaN</td>\n",
        "      <td>NaN</td>\n",
        "      <td>NaN</td>\n",
        "      <td>NaN</td>\n",
        "    </tr>\n",
        "    <tr>\n",
        "      <th>10   </th>\n",
        "      <td> #10365</td>\n",
        "      <td>  fracicardi@hotmail.com</td>\n",
        "      <td>     NaN</td>\n",
        "      <td>                       NaN</td>\n",
        "      <td>         NaN</td>\n",
        "      <td>                       NaN</td>\n",
        "      <td> NaN</td>\n",
        "      <td> NaN</td>\n",
        "      <td>    NaN</td>\n",
        "      <td>NaN</td>\n",
        "      <td>...</td>\n",
        "      <td>NaN</td>\n",
        "      <td>NaN</td>\n",
        "      <td>NaN</td>\n",
        "      <td>NaN</td>\n",
        "      <td>NaN</td>\n",
        "      <td>NaN</td>\n",
        "      <td>NaN</td>\n",
        "      <td>NaN</td>\n",
        "      <td>NaN</td>\n",
        "      <td>NaN</td>\n",
        "    </tr>\n",
        "    <tr>\n",
        "      <th>11   </th>\n",
        "      <td> #10365</td>\n",
        "      <td>  fracicardi@hotmail.com</td>\n",
        "      <td>     NaN</td>\n",
        "      <td>                       NaN</td>\n",
        "      <td>         NaN</td>\n",
        "      <td>                       NaN</td>\n",
        "      <td> NaN</td>\n",
        "      <td> NaN</td>\n",
        "      <td>    NaN</td>\n",
        "      <td>NaN</td>\n",
        "      <td>...</td>\n",
        "      <td>NaN</td>\n",
        "      <td>NaN</td>\n",
        "      <td>NaN</td>\n",
        "      <td>NaN</td>\n",
        "      <td>NaN</td>\n",
        "      <td>NaN</td>\n",
        "      <td>NaN</td>\n",
        "      <td>NaN</td>\n",
        "      <td>NaN</td>\n",
        "      <td>NaN</td>\n",
        "    </tr>\n",
        "    <tr>\n",
        "      <th>12   </th>\n",
        "      <td> #10364</td>\n",
        "      <td>  ahmed.fakhry@gmail.com</td>\n",
        "      <td> pending</td>\n",
        "      <td>                       NaN</td>\n",
        "      <td> unfulfilled</td>\n",
        "      <td>                       NaN</td>\n",
        "      <td>  no</td>\n",
        "      <td> EGP</td>\n",
        "      <td> 660.10</td>\n",
        "      <td> 10</td>\n",
        "      <td>...</td>\n",
        "      <td>NaN</td>\n",
        "      <td>NaN</td>\n",
        "      <td>NaN</td>\n",
        "      <td>NaN</td>\n",
        "      <td>NaN</td>\n",
        "      <td>NaN</td>\n",
        "      <td>NaN</td>\n",
        "      <td>NaN</td>\n",
        "      <td>NaN</td>\n",
        "      <td>NaN</td>\n",
        "    </tr>\n",
        "    <tr>\n",
        "      <th>13   </th>\n",
        "      <td> #10364</td>\n",
        "      <td>  ahmed.fakhry@gmail.com</td>\n",
        "      <td>     NaN</td>\n",
        "      <td>                       NaN</td>\n",
        "      <td>         NaN</td>\n",
        "      <td>                       NaN</td>\n",
        "      <td> NaN</td>\n",
        "      <td> NaN</td>\n",
        "      <td>    NaN</td>\n",
        "      <td>NaN</td>\n",
        "      <td>...</td>\n",
        "      <td>NaN</td>\n",
        "      <td>NaN</td>\n",
        "      <td>NaN</td>\n",
        "      <td>NaN</td>\n",
        "      <td>NaN</td>\n",
        "      <td>NaN</td>\n",
        "      <td>NaN</td>\n",
        "      <td>NaN</td>\n",
        "      <td>NaN</td>\n",
        "      <td>NaN</td>\n",
        "    </tr>\n",
        "    <tr>\n",
        "      <th>14   </th>\n",
        "      <td> #10364</td>\n",
        "      <td>  ahmed.fakhry@gmail.com</td>\n",
        "      <td>     NaN</td>\n",
        "      <td>                       NaN</td>\n",
        "      <td>         NaN</td>\n",
        "      <td>                       NaN</td>\n",
        "      <td> NaN</td>\n",
        "      <td> NaN</td>\n",
        "      <td>    NaN</td>\n",
        "      <td>NaN</td>\n",
        "      <td>...</td>\n",
        "      <td>NaN</td>\n",
        "      <td>NaN</td>\n",
        "      <td>NaN</td>\n",
        "      <td>NaN</td>\n",
        "      <td>NaN</td>\n",
        "      <td>NaN</td>\n",
        "      <td>NaN</td>\n",
        "      <td>NaN</td>\n",
        "      <td>NaN</td>\n",
        "      <td>NaN</td>\n",
        "    </tr>\n",
        "    <tr>\n",
        "      <th>15   </th>\n",
        "      <td> #10364</td>\n",
        "      <td>  ahmed.fakhry@gmail.com</td>\n",
        "      <td>     NaN</td>\n",
        "      <td>                       NaN</td>\n",
        "      <td>         NaN</td>\n",
        "      <td>                       NaN</td>\n",
        "      <td> NaN</td>\n",
        "      <td> NaN</td>\n",
        "      <td>    NaN</td>\n",
        "      <td>NaN</td>\n",
        "      <td>...</td>\n",
        "      <td>NaN</td>\n",
        "      <td>NaN</td>\n",
        "      <td>NaN</td>\n",
        "      <td>NaN</td>\n",
        "      <td>NaN</td>\n",
        "      <td>NaN</td>\n",
        "      <td>NaN</td>\n",
        "      <td>NaN</td>\n",
        "      <td>NaN</td>\n",
        "      <td>NaN</td>\n",
        "    </tr>\n",
        "    <tr>\n",
        "      <th>16   </th>\n",
        "      <td> #10364</td>\n",
        "      <td>  ahmed.fakhry@gmail.com</td>\n",
        "      <td>     NaN</td>\n",
        "      <td>                       NaN</td>\n",
        "      <td>         NaN</td>\n",
        "      <td>                       NaN</td>\n",
        "      <td> NaN</td>\n",
        "      <td> NaN</td>\n",
        "      <td>    NaN</td>\n",
        "      <td>NaN</td>\n",
        "      <td>...</td>\n",
        "      <td>NaN</td>\n",
        "      <td>NaN</td>\n",
        "      <td>NaN</td>\n",
        "      <td>NaN</td>\n",
        "      <td>NaN</td>\n",
        "      <td>NaN</td>\n",
        "      <td>NaN</td>\n",
        "      <td>NaN</td>\n",
        "      <td>NaN</td>\n",
        "      <td>NaN</td>\n",
        "    </tr>\n",
        "    <tr>\n",
        "      <th>17   </th>\n",
        "      <td> #10364</td>\n",
        "      <td>  ahmed.fakhry@gmail.com</td>\n",
        "      <td>     NaN</td>\n",
        "      <td>                       NaN</td>\n",
        "      <td>         NaN</td>\n",
        "      <td>                       NaN</td>\n",
        "      <td> NaN</td>\n",
        "      <td> NaN</td>\n",
        "      <td>    NaN</td>\n",
        "      <td>NaN</td>\n",
        "      <td>...</td>\n",
        "      <td>NaN</td>\n",
        "      <td>NaN</td>\n",
        "      <td>NaN</td>\n",
        "      <td>NaN</td>\n",
        "      <td>NaN</td>\n",
        "      <td>NaN</td>\n",
        "      <td>NaN</td>\n",
        "      <td>NaN</td>\n",
        "      <td>NaN</td>\n",
        "      <td>NaN</td>\n",
        "    </tr>\n",
        "    <tr>\n",
        "      <th>18   </th>\n",
        "      <td> #10364</td>\n",
        "      <td>  ahmed.fakhry@gmail.com</td>\n",
        "      <td>     NaN</td>\n",
        "      <td>                       NaN</td>\n",
        "      <td>         NaN</td>\n",
        "      <td>                       NaN</td>\n",
        "      <td> NaN</td>\n",
        "      <td> NaN</td>\n",
        "      <td>    NaN</td>\n",
        "      <td>NaN</td>\n",
        "      <td>...</td>\n",
        "      <td>NaN</td>\n",
        "      <td>NaN</td>\n",
        "      <td>NaN</td>\n",
        "      <td>NaN</td>\n",
        "      <td>NaN</td>\n",
        "      <td>NaN</td>\n",
        "      <td>NaN</td>\n",
        "      <td>NaN</td>\n",
        "      <td>NaN</td>\n",
        "      <td>NaN</td>\n",
        "    </tr>\n",
        "    <tr>\n",
        "      <th>19   </th>\n",
        "      <td> #10364</td>\n",
        "      <td>  ahmed.fakhry@gmail.com</td>\n",
        "      <td>     NaN</td>\n",
        "      <td>                       NaN</td>\n",
        "      <td>         NaN</td>\n",
        "      <td>                       NaN</td>\n",
        "      <td> NaN</td>\n",
        "      <td> NaN</td>\n",
        "      <td>    NaN</td>\n",
        "      <td>NaN</td>\n",
        "      <td>...</td>\n",
        "      <td>NaN</td>\n",
        "      <td>NaN</td>\n",
        "      <td>NaN</td>\n",
        "      <td>NaN</td>\n",
        "      <td>NaN</td>\n",
        "      <td>NaN</td>\n",
        "      <td>NaN</td>\n",
        "      <td>NaN</td>\n",
        "      <td>NaN</td>\n",
        "      <td>NaN</td>\n",
        "    </tr>\n",
        "    <tr>\n",
        "      <th>20   </th>\n",
        "      <td> #10364</td>\n",
        "      <td>  ahmed.fakhry@gmail.com</td>\n",
        "      <td>     NaN</td>\n",
        "      <td>                       NaN</td>\n",
        "      <td>         NaN</td>\n",
        "      <td>                       NaN</td>\n",
        "      <td> NaN</td>\n",
        "      <td> NaN</td>\n",
        "      <td>    NaN</td>\n",
        "      <td>NaN</td>\n",
        "      <td>...</td>\n",
        "      <td>NaN</td>\n",
        "      <td>NaN</td>\n",
        "      <td>NaN</td>\n",
        "      <td>NaN</td>\n",
        "      <td>NaN</td>\n",
        "      <td>NaN</td>\n",
        "      <td>NaN</td>\n",
        "      <td>NaN</td>\n",
        "      <td>NaN</td>\n",
        "      <td>NaN</td>\n",
        "    </tr>\n",
        "    <tr>\n",
        "      <th>21   </th>\n",
        "      <td> #10363</td>\n",
        "      <td>  ahmed.fakhry@gmail.com</td>\n",
        "      <td> pending</td>\n",
        "      <td>                       NaN</td>\n",
        "      <td> unfulfilled</td>\n",
        "      <td>                       NaN</td>\n",
        "      <td>  no</td>\n",
        "      <td> EGP</td>\n",
        "      <td> 592.00</td>\n",
        "      <td> 10</td>\n",
        "      <td>...</td>\n",
        "      <td>NaN</td>\n",
        "      <td>NaN</td>\n",
        "      <td>NaN</td>\n",
        "      <td>NaN</td>\n",
        "      <td>NaN</td>\n",
        "      <td>NaN</td>\n",
        "      <td>NaN</td>\n",
        "      <td>NaN</td>\n",
        "      <td>NaN</td>\n",
        "      <td>NaN</td>\n",
        "    </tr>\n",
        "    <tr>\n",
        "      <th>22   </th>\n",
        "      <td> #10362</td>\n",
        "      <td>    Missilou11@yahoo.com</td>\n",
        "      <td> pending</td>\n",
        "      <td>                       NaN</td>\n",
        "      <td> unfulfilled</td>\n",
        "      <td>                       NaN</td>\n",
        "      <td>  no</td>\n",
        "      <td> EGP</td>\n",
        "      <td>  70.20</td>\n",
        "      <td> 15</td>\n",
        "      <td>...</td>\n",
        "      <td>NaN</td>\n",
        "      <td>NaN</td>\n",
        "      <td>NaN</td>\n",
        "      <td>NaN</td>\n",
        "      <td>NaN</td>\n",
        "      <td>NaN</td>\n",
        "      <td>NaN</td>\n",
        "      <td>NaN</td>\n",
        "      <td>NaN</td>\n",
        "      <td>NaN</td>\n",
        "    </tr>\n",
        "    <tr>\n",
        "      <th>23   </th>\n",
        "      <td> #10361</td>\n",
        "      <td> sallysalem123@gmail.com</td>\n",
        "      <td> pending</td>\n",
        "      <td>                       NaN</td>\n",
        "      <td> unfulfilled</td>\n",
        "      <td>                       NaN</td>\n",
        "      <td>  no</td>\n",
        "      <td> EGP</td>\n",
        "      <td> 432.00</td>\n",
        "      <td> 10</td>\n",
        "      <td>...</td>\n",
        "      <td>NaN</td>\n",
        "      <td>NaN</td>\n",
        "      <td>NaN</td>\n",
        "      <td>NaN</td>\n",
        "      <td>NaN</td>\n",
        "      <td>NaN</td>\n",
        "      <td>NaN</td>\n",
        "      <td>NaN</td>\n",
        "      <td>NaN</td>\n",
        "      <td>NaN</td>\n",
        "    </tr>\n",
        "    <tr>\n",
        "      <th>24   </th>\n",
        "      <td> #10361</td>\n",
        "      <td> sallysalem123@gmail.com</td>\n",
        "      <td>     NaN</td>\n",
        "      <td>                       NaN</td>\n",
        "      <td>         NaN</td>\n",
        "      <td>                       NaN</td>\n",
        "      <td> NaN</td>\n",
        "      <td> NaN</td>\n",
        "      <td>    NaN</td>\n",
        "      <td>NaN</td>\n",
        "      <td>...</td>\n",
        "      <td>NaN</td>\n",
        "      <td>NaN</td>\n",
        "      <td>NaN</td>\n",
        "      <td>NaN</td>\n",
        "      <td>NaN</td>\n",
        "      <td>NaN</td>\n",
        "      <td>NaN</td>\n",
        "      <td>NaN</td>\n",
        "      <td>NaN</td>\n",
        "      <td>NaN</td>\n",
        "    </tr>\n",
        "    <tr>\n",
        "      <th>25   </th>\n",
        "      <td> #10361</td>\n",
        "      <td> sallysalem123@gmail.com</td>\n",
        "      <td>     NaN</td>\n",
        "      <td>                       NaN</td>\n",
        "      <td>         NaN</td>\n",
        "      <td>                       NaN</td>\n",
        "      <td> NaN</td>\n",
        "      <td> NaN</td>\n",
        "      <td>    NaN</td>\n",
        "      <td>NaN</td>\n",
        "      <td>...</td>\n",
        "      <td>NaN</td>\n",
        "      <td>NaN</td>\n",
        "      <td>NaN</td>\n",
        "      <td>NaN</td>\n",
        "      <td>NaN</td>\n",
        "      <td>NaN</td>\n",
        "      <td>NaN</td>\n",
        "      <td>NaN</td>\n",
        "      <td>NaN</td>\n",
        "      <td>NaN</td>\n",
        "    </tr>\n",
        "    <tr>\n",
        "      <th>26   </th>\n",
        "      <td> #10361</td>\n",
        "      <td> sallysalem123@gmail.com</td>\n",
        "      <td>     NaN</td>\n",
        "      <td>                       NaN</td>\n",
        "      <td>         NaN</td>\n",
        "      <td>                       NaN</td>\n",
        "      <td> NaN</td>\n",
        "      <td> NaN</td>\n",
        "      <td>    NaN</td>\n",
        "      <td>NaN</td>\n",
        "      <td>...</td>\n",
        "      <td>NaN</td>\n",
        "      <td>NaN</td>\n",
        "      <td>NaN</td>\n",
        "      <td>NaN</td>\n",
        "      <td>NaN</td>\n",
        "      <td>NaN</td>\n",
        "      <td>NaN</td>\n",
        "      <td>NaN</td>\n",
        "      <td>NaN</td>\n",
        "      <td>NaN</td>\n",
        "    </tr>\n",
        "    <tr>\n",
        "      <th>27   </th>\n",
        "      <td> #10361</td>\n",
        "      <td> sallysalem123@gmail.com</td>\n",
        "      <td>     NaN</td>\n",
        "      <td>                       NaN</td>\n",
        "      <td>         NaN</td>\n",
        "      <td>                       NaN</td>\n",
        "      <td> NaN</td>\n",
        "      <td> NaN</td>\n",
        "      <td>    NaN</td>\n",
        "      <td>NaN</td>\n",
        "      <td>...</td>\n",
        "      <td>NaN</td>\n",
        "      <td>NaN</td>\n",
        "      <td>NaN</td>\n",
        "      <td>NaN</td>\n",
        "      <td>NaN</td>\n",
        "      <td>NaN</td>\n",
        "      <td>NaN</td>\n",
        "      <td>NaN</td>\n",
        "      <td>NaN</td>\n",
        "      <td>NaN</td>\n",
        "    </tr>\n",
        "    <tr>\n",
        "      <th>28   </th>\n",
        "      <td> #10361</td>\n",
        "      <td> sallysalem123@gmail.com</td>\n",
        "      <td>     NaN</td>\n",
        "      <td>                       NaN</td>\n",
        "      <td>         NaN</td>\n",
        "      <td>                       NaN</td>\n",
        "      <td> NaN</td>\n",
        "      <td> NaN</td>\n",
        "      <td>    NaN</td>\n",
        "      <td>NaN</td>\n",
        "      <td>...</td>\n",
        "      <td>NaN</td>\n",
        "      <td>NaN</td>\n",
        "      <td>NaN</td>\n",
        "      <td>NaN</td>\n",
        "      <td>NaN</td>\n",
        "      <td>NaN</td>\n",
        "      <td>NaN</td>\n",
        "      <td>NaN</td>\n",
        "      <td>NaN</td>\n",
        "      <td>NaN</td>\n",
        "    </tr>\n",
        "    <tr>\n",
        "      <th>29   </th>\n",
        "      <td> #10361</td>\n",
        "      <td> sallysalem123@gmail.com</td>\n",
        "      <td>     NaN</td>\n",
        "      <td>                       NaN</td>\n",
        "      <td>         NaN</td>\n",
        "      <td>                       NaN</td>\n",
        "      <td> NaN</td>\n",
        "      <td> NaN</td>\n",
        "      <td>    NaN</td>\n",
        "      <td>NaN</td>\n",
        "      <td>...</td>\n",
        "      <td>NaN</td>\n",
        "      <td>NaN</td>\n",
        "      <td>NaN</td>\n",
        "      <td>NaN</td>\n",
        "      <td>NaN</td>\n",
        "      <td>NaN</td>\n",
        "      <td>NaN</td>\n",
        "      <td>NaN</td>\n",
        "      <td>NaN</td>\n",
        "      <td>NaN</td>\n",
        "    </tr>\n",
        "    <tr>\n",
        "      <th>...</th>\n",
        "      <td>...</td>\n",
        "      <td>...</td>\n",
        "      <td>...</td>\n",
        "      <td>...</td>\n",
        "      <td>...</td>\n",
        "      <td>...</td>\n",
        "      <td>...</td>\n",
        "      <td>...</td>\n",
        "      <td>...</td>\n",
        "      <td>...</td>\n",
        "      <td>...</td>\n",
        "      <td>...</td>\n",
        "      <td>...</td>\n",
        "      <td>...</td>\n",
        "      <td>...</td>\n",
        "      <td>...</td>\n",
        "      <td>...</td>\n",
        "      <td>...</td>\n",
        "      <td>...</td>\n",
        "      <td>...</td>\n",
        "      <td>...</td>\n",
        "    </tr>\n",
        "    <tr>\n",
        "      <th>60742</th>\n",
        "      <td>  #1013</td>\n",
        "      <td>  lik-novikova@yandex.ru</td>\n",
        "      <td>     NaN</td>\n",
        "      <td>                       NaN</td>\n",
        "      <td>         NaN</td>\n",
        "      <td>                       NaN</td>\n",
        "      <td> NaN</td>\n",
        "      <td> NaN</td>\n",
        "      <td>    NaN</td>\n",
        "      <td>NaN</td>\n",
        "      <td>...</td>\n",
        "      <td>NaN</td>\n",
        "      <td>NaN</td>\n",
        "      <td>NaN</td>\n",
        "      <td>NaN</td>\n",
        "      <td>NaN</td>\n",
        "      <td>NaN</td>\n",
        "      <td>NaN</td>\n",
        "      <td>NaN</td>\n",
        "      <td>NaN</td>\n",
        "      <td>NaN</td>\n",
        "    </tr>\n",
        "    <tr>\n",
        "      <th>60743</th>\n",
        "      <td>  #1012</td>\n",
        "      <td>     bettyhedrich@gmx.de</td>\n",
        "      <td>    paid</td>\n",
        "      <td> 2012-05-27 13:15:42 +0200</td>\n",
        "      <td>   fulfilled</td>\n",
        "      <td> 2012-05-27 13:15:14 +0200</td>\n",
        "      <td>  no</td>\n",
        "      <td> EGP</td>\n",
        "      <td>  41.93</td>\n",
        "      <td>  5</td>\n",
        "      <td>...</td>\n",
        "      <td>NaN</td>\n",
        "      <td>NaN</td>\n",
        "      <td>NaN</td>\n",
        "      <td>NaN</td>\n",
        "      <td>NaN</td>\n",
        "      <td>NaN</td>\n",
        "      <td>NaN</td>\n",
        "      <td>NaN</td>\n",
        "      <td>NaN</td>\n",
        "      <td>NaN</td>\n",
        "    </tr>\n",
        "    <tr>\n",
        "      <th>60744</th>\n",
        "      <td>  #1012</td>\n",
        "      <td>     bettyhedrich@gmx.de</td>\n",
        "      <td>     NaN</td>\n",
        "      <td>                       NaN</td>\n",
        "      <td>         NaN</td>\n",
        "      <td>                       NaN</td>\n",
        "      <td> NaN</td>\n",
        "      <td> NaN</td>\n",
        "      <td>    NaN</td>\n",
        "      <td>NaN</td>\n",
        "      <td>...</td>\n",
        "      <td>NaN</td>\n",
        "      <td>NaN</td>\n",
        "      <td>NaN</td>\n",
        "      <td>NaN</td>\n",
        "      <td>NaN</td>\n",
        "      <td>NaN</td>\n",
        "      <td>NaN</td>\n",
        "      <td>NaN</td>\n",
        "      <td>NaN</td>\n",
        "      <td>NaN</td>\n",
        "    </tr>\n",
        "    <tr>\n",
        "      <th>60745</th>\n",
        "      <td>  #1011</td>\n",
        "      <td>           rulah@msn.com</td>\n",
        "      <td>    paid</td>\n",
        "      <td> 2012-05-21 18:33:13 +0200</td>\n",
        "      <td>   fulfilled</td>\n",
        "      <td> 2012-05-21 18:33:43 +0200</td>\n",
        "      <td> yes</td>\n",
        "      <td> EGP</td>\n",
        "      <td> 222.30</td>\n",
        "      <td>  5</td>\n",
        "      <td>...</td>\n",
        "      <td>NaN</td>\n",
        "      <td>NaN</td>\n",
        "      <td>NaN</td>\n",
        "      <td>NaN</td>\n",
        "      <td>NaN</td>\n",
        "      <td>NaN</td>\n",
        "      <td>NaN</td>\n",
        "      <td>NaN</td>\n",
        "      <td>NaN</td>\n",
        "      <td>NaN</td>\n",
        "    </tr>\n",
        "    <tr>\n",
        "      <th>60746</th>\n",
        "      <td>  #1010</td>\n",
        "      <td>     milda_b@hotmail.com</td>\n",
        "      <td>    paid</td>\n",
        "      <td> 2012-05-09 11:09:12 +0200</td>\n",
        "      <td>   fulfilled</td>\n",
        "      <td> 2012-05-09 11:09:06 +0200</td>\n",
        "      <td> yes</td>\n",
        "      <td> EGP</td>\n",
        "      <td> 155.55</td>\n",
        "      <td>  5</td>\n",
        "      <td>...</td>\n",
        "      <td>NaN</td>\n",
        "      <td>NaN</td>\n",
        "      <td>NaN</td>\n",
        "      <td>NaN</td>\n",
        "      <td>NaN</td>\n",
        "      <td>NaN</td>\n",
        "      <td>NaN</td>\n",
        "      <td>NaN</td>\n",
        "      <td>NaN</td>\n",
        "      <td>NaN</td>\n",
        "    </tr>\n",
        "    <tr>\n",
        "      <th>60747</th>\n",
        "      <td>  #1010</td>\n",
        "      <td>     milda_b@hotmail.com</td>\n",
        "      <td>     NaN</td>\n",
        "      <td>                       NaN</td>\n",
        "      <td>         NaN</td>\n",
        "      <td>                       NaN</td>\n",
        "      <td> NaN</td>\n",
        "      <td> NaN</td>\n",
        "      <td>    NaN</td>\n",
        "      <td>NaN</td>\n",
        "      <td>...</td>\n",
        "      <td>NaN</td>\n",
        "      <td>NaN</td>\n",
        "      <td>NaN</td>\n",
        "      <td>NaN</td>\n",
        "      <td>NaN</td>\n",
        "      <td>NaN</td>\n",
        "      <td>NaN</td>\n",
        "      <td>NaN</td>\n",
        "      <td>NaN</td>\n",
        "      <td>NaN</td>\n",
        "    </tr>\n",
        "    <tr>\n",
        "      <th>60748</th>\n",
        "      <td>  #1010</td>\n",
        "      <td>     milda_b@hotmail.com</td>\n",
        "      <td>     NaN</td>\n",
        "      <td>                       NaN</td>\n",
        "      <td>         NaN</td>\n",
        "      <td>                       NaN</td>\n",
        "      <td> NaN</td>\n",
        "      <td> NaN</td>\n",
        "      <td>    NaN</td>\n",
        "      <td>NaN</td>\n",
        "      <td>...</td>\n",
        "      <td>NaN</td>\n",
        "      <td>NaN</td>\n",
        "      <td>NaN</td>\n",
        "      <td>NaN</td>\n",
        "      <td>NaN</td>\n",
        "      <td>NaN</td>\n",
        "      <td>NaN</td>\n",
        "      <td>NaN</td>\n",
        "      <td>NaN</td>\n",
        "      <td>NaN</td>\n",
        "    </tr>\n",
        "    <tr>\n",
        "      <th>60749</th>\n",
        "      <td>  #1010</td>\n",
        "      <td>     milda_b@hotmail.com</td>\n",
        "      <td>     NaN</td>\n",
        "      <td>                       NaN</td>\n",
        "      <td>         NaN</td>\n",
        "      <td>                       NaN</td>\n",
        "      <td> NaN</td>\n",
        "      <td> NaN</td>\n",
        "      <td>    NaN</td>\n",
        "      <td>NaN</td>\n",
        "      <td>...</td>\n",
        "      <td>NaN</td>\n",
        "      <td>NaN</td>\n",
        "      <td>NaN</td>\n",
        "      <td>NaN</td>\n",
        "      <td>NaN</td>\n",
        "      <td>NaN</td>\n",
        "      <td>NaN</td>\n",
        "      <td>NaN</td>\n",
        "      <td>NaN</td>\n",
        "      <td>NaN</td>\n",
        "    </tr>\n",
        "    <tr>\n",
        "      <th>60750</th>\n",
        "      <td>  #1010</td>\n",
        "      <td>     milda_b@hotmail.com</td>\n",
        "      <td>     NaN</td>\n",
        "      <td>                       NaN</td>\n",
        "      <td>         NaN</td>\n",
        "      <td>                       NaN</td>\n",
        "      <td> NaN</td>\n",
        "      <td> NaN</td>\n",
        "      <td>    NaN</td>\n",
        "      <td>NaN</td>\n",
        "      <td>...</td>\n",
        "      <td>NaN</td>\n",
        "      <td>NaN</td>\n",
        "      <td>NaN</td>\n",
        "      <td>NaN</td>\n",
        "      <td>NaN</td>\n",
        "      <td>NaN</td>\n",
        "      <td>NaN</td>\n",
        "      <td>NaN</td>\n",
        "      <td>NaN</td>\n",
        "      <td>NaN</td>\n",
        "    </tr>\n",
        "    <tr>\n",
        "      <th>60751</th>\n",
        "      <td>  #1010</td>\n",
        "      <td>     milda_b@hotmail.com</td>\n",
        "      <td>     NaN</td>\n",
        "      <td>                       NaN</td>\n",
        "      <td>         NaN</td>\n",
        "      <td>                       NaN</td>\n",
        "      <td> NaN</td>\n",
        "      <td> NaN</td>\n",
        "      <td>    NaN</td>\n",
        "      <td>NaN</td>\n",
        "      <td>...</td>\n",
        "      <td>NaN</td>\n",
        "      <td>NaN</td>\n",
        "      <td>NaN</td>\n",
        "      <td>NaN</td>\n",
        "      <td>NaN</td>\n",
        "      <td>NaN</td>\n",
        "      <td>NaN</td>\n",
        "      <td>NaN</td>\n",
        "      <td>NaN</td>\n",
        "      <td>NaN</td>\n",
        "    </tr>\n",
        "    <tr>\n",
        "      <th>60752</th>\n",
        "      <td>  #1010</td>\n",
        "      <td>     milda_b@hotmail.com</td>\n",
        "      <td>     NaN</td>\n",
        "      <td>                       NaN</td>\n",
        "      <td>         NaN</td>\n",
        "      <td>                       NaN</td>\n",
        "      <td> NaN</td>\n",
        "      <td> NaN</td>\n",
        "      <td>    NaN</td>\n",
        "      <td>NaN</td>\n",
        "      <td>...</td>\n",
        "      <td>NaN</td>\n",
        "      <td>NaN</td>\n",
        "      <td>NaN</td>\n",
        "      <td>NaN</td>\n",
        "      <td>NaN</td>\n",
        "      <td>NaN</td>\n",
        "      <td>NaN</td>\n",
        "      <td>NaN</td>\n",
        "      <td>NaN</td>\n",
        "      <td>NaN</td>\n",
        "    </tr>\n",
        "    <tr>\n",
        "      <th>60753</th>\n",
        "      <td>  #1009</td>\n",
        "      <td>     bente.ring@yahoo.no</td>\n",
        "      <td>    paid</td>\n",
        "      <td> 2012-05-10 19:12:35 +0200</td>\n",
        "      <td>   fulfilled</td>\n",
        "      <td> 2012-05-10 19:12:32 +0200</td>\n",
        "      <td> yes</td>\n",
        "      <td> EGP</td>\n",
        "      <td>  45.50</td>\n",
        "      <td>  5</td>\n",
        "      <td>...</td>\n",
        "      <td>NaN</td>\n",
        "      <td>NaN</td>\n",
        "      <td>NaN</td>\n",
        "      <td>NaN</td>\n",
        "      <td>NaN</td>\n",
        "      <td>NaN</td>\n",
        "      <td>NaN</td>\n",
        "      <td>NaN</td>\n",
        "      <td>NaN</td>\n",
        "      <td>NaN</td>\n",
        "    </tr>\n",
        "    <tr>\n",
        "      <th>60754</th>\n",
        "      <td>  #1008</td>\n",
        "      <td>     bente.ring@yahoo.no</td>\n",
        "      <td>    paid</td>\n",
        "      <td> 2012-05-10 19:13:35 +0200</td>\n",
        "      <td>   fulfilled</td>\n",
        "      <td> 2012-05-10 19:13:32 +0200</td>\n",
        "      <td> yes</td>\n",
        "      <td> EGP</td>\n",
        "      <td> 357.53</td>\n",
        "      <td>  5</td>\n",
        "      <td>...</td>\n",
        "      <td>NaN</td>\n",
        "      <td>NaN</td>\n",
        "      <td>NaN</td>\n",
        "      <td>NaN</td>\n",
        "      <td>NaN</td>\n",
        "      <td>NaN</td>\n",
        "      <td>NaN</td>\n",
        "      <td>NaN</td>\n",
        "      <td>NaN</td>\n",
        "      <td>NaN</td>\n",
        "    </tr>\n",
        "    <tr>\n",
        "      <th>60755</th>\n",
        "      <td>  #1008</td>\n",
        "      <td>     bente.ring@yahoo.no</td>\n",
        "      <td>     NaN</td>\n",
        "      <td>                       NaN</td>\n",
        "      <td>         NaN</td>\n",
        "      <td>                       NaN</td>\n",
        "      <td> NaN</td>\n",
        "      <td> NaN</td>\n",
        "      <td>    NaN</td>\n",
        "      <td>NaN</td>\n",
        "      <td>...</td>\n",
        "      <td>NaN</td>\n",
        "      <td>NaN</td>\n",
        "      <td>NaN</td>\n",
        "      <td>NaN</td>\n",
        "      <td>NaN</td>\n",
        "      <td>NaN</td>\n",
        "      <td>NaN</td>\n",
        "      <td>NaN</td>\n",
        "      <td>NaN</td>\n",
        "      <td>NaN</td>\n",
        "    </tr>\n",
        "    <tr>\n",
        "      <th>60756</th>\n",
        "      <td>  #1008</td>\n",
        "      <td>     bente.ring@yahoo.no</td>\n",
        "      <td>     NaN</td>\n",
        "      <td>                       NaN</td>\n",
        "      <td>         NaN</td>\n",
        "      <td>                       NaN</td>\n",
        "      <td> NaN</td>\n",
        "      <td> NaN</td>\n",
        "      <td>    NaN</td>\n",
        "      <td>NaN</td>\n",
        "      <td>...</td>\n",
        "      <td>NaN</td>\n",
        "      <td>NaN</td>\n",
        "      <td>NaN</td>\n",
        "      <td>NaN</td>\n",
        "      <td>NaN</td>\n",
        "      <td>NaN</td>\n",
        "      <td>NaN</td>\n",
        "      <td>NaN</td>\n",
        "      <td>NaN</td>\n",
        "      <td>NaN</td>\n",
        "    </tr>\n",
        "    <tr>\n",
        "      <th>60757</th>\n",
        "      <td>  #1008</td>\n",
        "      <td>     bente.ring@yahoo.no</td>\n",
        "      <td>     NaN</td>\n",
        "      <td>                       NaN</td>\n",
        "      <td>         NaN</td>\n",
        "      <td>                       NaN</td>\n",
        "      <td> NaN</td>\n",
        "      <td> NaN</td>\n",
        "      <td>    NaN</td>\n",
        "      <td>NaN</td>\n",
        "      <td>...</td>\n",
        "      <td>NaN</td>\n",
        "      <td>NaN</td>\n",
        "      <td>NaN</td>\n",
        "      <td>NaN</td>\n",
        "      <td>NaN</td>\n",
        "      <td>NaN</td>\n",
        "      <td>NaN</td>\n",
        "      <td>NaN</td>\n",
        "      <td>NaN</td>\n",
        "      <td>NaN</td>\n",
        "    </tr>\n",
        "    <tr>\n",
        "      <th>60758</th>\n",
        "      <td>  #1008</td>\n",
        "      <td>     bente.ring@yahoo.no</td>\n",
        "      <td>     NaN</td>\n",
        "      <td>                       NaN</td>\n",
        "      <td>         NaN</td>\n",
        "      <td>                       NaN</td>\n",
        "      <td> NaN</td>\n",
        "      <td> NaN</td>\n",
        "      <td>    NaN</td>\n",
        "      <td>NaN</td>\n",
        "      <td>...</td>\n",
        "      <td>NaN</td>\n",
        "      <td>NaN</td>\n",
        "      <td>NaN</td>\n",
        "      <td>NaN</td>\n",
        "      <td>NaN</td>\n",
        "      <td>NaN</td>\n",
        "      <td>NaN</td>\n",
        "      <td>NaN</td>\n",
        "      <td>NaN</td>\n",
        "      <td>NaN</td>\n",
        "    </tr>\n",
        "    <tr>\n",
        "      <th>60759</th>\n",
        "      <td>  #1007</td>\n",
        "      <td>  lik-novikova@yandex.ru</td>\n",
        "      <td>    paid</td>\n",
        "      <td> 2012-05-04 18:36:50 +0200</td>\n",
        "      <td>   fulfilled</td>\n",
        "      <td> 2012-05-04 18:33:47 +0200</td>\n",
        "      <td> yes</td>\n",
        "      <td> EGP</td>\n",
        "      <td> 110.83</td>\n",
        "      <td>  5</td>\n",
        "      <td>...</td>\n",
        "      <td>NaN</td>\n",
        "      <td>NaN</td>\n",
        "      <td>NaN</td>\n",
        "      <td>NaN</td>\n",
        "      <td>NaN</td>\n",
        "      <td>NaN</td>\n",
        "      <td>NaN</td>\n",
        "      <td>NaN</td>\n",
        "      <td>NaN</td>\n",
        "      <td>NaN</td>\n",
        "    </tr>\n",
        "    <tr>\n",
        "      <th>60760</th>\n",
        "      <td>  #1007</td>\n",
        "      <td>  lik-novikova@yandex.ru</td>\n",
        "      <td>     NaN</td>\n",
        "      <td>                       NaN</td>\n",
        "      <td>         NaN</td>\n",
        "      <td>                       NaN</td>\n",
        "      <td> NaN</td>\n",
        "      <td> NaN</td>\n",
        "      <td>    NaN</td>\n",
        "      <td>NaN</td>\n",
        "      <td>...</td>\n",
        "      <td>NaN</td>\n",
        "      <td>NaN</td>\n",
        "      <td>NaN</td>\n",
        "      <td>NaN</td>\n",
        "      <td>NaN</td>\n",
        "      <td>NaN</td>\n",
        "      <td>NaN</td>\n",
        "      <td>NaN</td>\n",
        "      <td>NaN</td>\n",
        "      <td>NaN</td>\n",
        "    </tr>\n",
        "    <tr>\n",
        "      <th>60761</th>\n",
        "      <td>  #1007</td>\n",
        "      <td>  lik-novikova@yandex.ru</td>\n",
        "      <td>     NaN</td>\n",
        "      <td>                       NaN</td>\n",
        "      <td>         NaN</td>\n",
        "      <td>                       NaN</td>\n",
        "      <td> NaN</td>\n",
        "      <td> NaN</td>\n",
        "      <td>    NaN</td>\n",
        "      <td>NaN</td>\n",
        "      <td>...</td>\n",
        "      <td>NaN</td>\n",
        "      <td>NaN</td>\n",
        "      <td>NaN</td>\n",
        "      <td>NaN</td>\n",
        "      <td>NaN</td>\n",
        "      <td>NaN</td>\n",
        "      <td>NaN</td>\n",
        "      <td>NaN</td>\n",
        "      <td>NaN</td>\n",
        "      <td>NaN</td>\n",
        "    </tr>\n",
        "    <tr>\n",
        "      <th>60762</th>\n",
        "      <td>  #1007</td>\n",
        "      <td>  lik-novikova@yandex.ru</td>\n",
        "      <td>     NaN</td>\n",
        "      <td>                       NaN</td>\n",
        "      <td>         NaN</td>\n",
        "      <td>                       NaN</td>\n",
        "      <td> NaN</td>\n",
        "      <td> NaN</td>\n",
        "      <td>    NaN</td>\n",
        "      <td>NaN</td>\n",
        "      <td>...</td>\n",
        "      <td>NaN</td>\n",
        "      <td>NaN</td>\n",
        "      <td>NaN</td>\n",
        "      <td>NaN</td>\n",
        "      <td>NaN</td>\n",
        "      <td>NaN</td>\n",
        "      <td>NaN</td>\n",
        "      <td>NaN</td>\n",
        "      <td>NaN</td>\n",
        "      <td>NaN</td>\n",
        "    </tr>\n",
        "    <tr>\n",
        "      <th>60763</th>\n",
        "      <td>  #1006</td>\n",
        "      <td>     bente.ring@yahoo.no</td>\n",
        "      <td>    paid</td>\n",
        "      <td> 2012-05-04 18:37:13 +0200</td>\n",
        "      <td>   fulfilled</td>\n",
        "      <td> 2012-05-03 10:57:23 +0200</td>\n",
        "      <td> yes</td>\n",
        "      <td> EGP</td>\n",
        "      <td> 201.51</td>\n",
        "      <td>  5</td>\n",
        "      <td>...</td>\n",
        "      <td>NaN</td>\n",
        "      <td>NaN</td>\n",
        "      <td>NaN</td>\n",
        "      <td>NaN</td>\n",
        "      <td>NaN</td>\n",
        "      <td>NaN</td>\n",
        "      <td>NaN</td>\n",
        "      <td>NaN</td>\n",
        "      <td>NaN</td>\n",
        "      <td>NaN</td>\n",
        "    </tr>\n",
        "    <tr>\n",
        "      <th>60764</th>\n",
        "      <td>  #1006</td>\n",
        "      <td>     bente.ring@yahoo.no</td>\n",
        "      <td>     NaN</td>\n",
        "      <td>                       NaN</td>\n",
        "      <td>         NaN</td>\n",
        "      <td>                       NaN</td>\n",
        "      <td> NaN</td>\n",
        "      <td> NaN</td>\n",
        "      <td>    NaN</td>\n",
        "      <td>NaN</td>\n",
        "      <td>...</td>\n",
        "      <td>NaN</td>\n",
        "      <td>NaN</td>\n",
        "      <td>NaN</td>\n",
        "      <td>NaN</td>\n",
        "      <td>NaN</td>\n",
        "      <td>NaN</td>\n",
        "      <td>NaN</td>\n",
        "      <td>NaN</td>\n",
        "      <td>NaN</td>\n",
        "      <td>NaN</td>\n",
        "    </tr>\n",
        "    <tr>\n",
        "      <th>60765</th>\n",
        "      <td>  #1006</td>\n",
        "      <td>     bente.ring@yahoo.no</td>\n",
        "      <td>     NaN</td>\n",
        "      <td>                       NaN</td>\n",
        "      <td>         NaN</td>\n",
        "      <td>                       NaN</td>\n",
        "      <td> NaN</td>\n",
        "      <td> NaN</td>\n",
        "      <td>    NaN</td>\n",
        "      <td>NaN</td>\n",
        "      <td>...</td>\n",
        "      <td>NaN</td>\n",
        "      <td>NaN</td>\n",
        "      <td>NaN</td>\n",
        "      <td>NaN</td>\n",
        "      <td>NaN</td>\n",
        "      <td>NaN</td>\n",
        "      <td>NaN</td>\n",
        "      <td>NaN</td>\n",
        "      <td>NaN</td>\n",
        "      <td>NaN</td>\n",
        "    </tr>\n",
        "    <tr>\n",
        "      <th>60766</th>\n",
        "      <td>  #1006</td>\n",
        "      <td>     bente.ring@yahoo.no</td>\n",
        "      <td>     NaN</td>\n",
        "      <td>                       NaN</td>\n",
        "      <td>         NaN</td>\n",
        "      <td>                       NaN</td>\n",
        "      <td> NaN</td>\n",
        "      <td> NaN</td>\n",
        "      <td>    NaN</td>\n",
        "      <td>NaN</td>\n",
        "      <td>...</td>\n",
        "      <td>NaN</td>\n",
        "      <td>NaN</td>\n",
        "      <td>NaN</td>\n",
        "      <td>NaN</td>\n",
        "      <td>NaN</td>\n",
        "      <td>NaN</td>\n",
        "      <td>NaN</td>\n",
        "      <td>NaN</td>\n",
        "      <td>NaN</td>\n",
        "      <td>NaN</td>\n",
        "    </tr>\n",
        "    <tr>\n",
        "      <th>60767</th>\n",
        "      <td>  #1006</td>\n",
        "      <td>     bente.ring@yahoo.no</td>\n",
        "      <td>     NaN</td>\n",
        "      <td>                       NaN</td>\n",
        "      <td>         NaN</td>\n",
        "      <td>                       NaN</td>\n",
        "      <td> NaN</td>\n",
        "      <td> NaN</td>\n",
        "      <td>    NaN</td>\n",
        "      <td>NaN</td>\n",
        "      <td>...</td>\n",
        "      <td>NaN</td>\n",
        "      <td>NaN</td>\n",
        "      <td>NaN</td>\n",
        "      <td>NaN</td>\n",
        "      <td>NaN</td>\n",
        "      <td>NaN</td>\n",
        "      <td>NaN</td>\n",
        "      <td>NaN</td>\n",
        "      <td>NaN</td>\n",
        "      <td>NaN</td>\n",
        "    </tr>\n",
        "    <tr>\n",
        "      <th>60768</th>\n",
        "      <td>  #1005</td>\n",
        "      <td>    cathypod@hotmail.com</td>\n",
        "      <td>    paid</td>\n",
        "      <td> 2012-05-04 18:37:35 +0200</td>\n",
        "      <td>   fulfilled</td>\n",
        "      <td> 2012-05-03 11:03:44 +0200</td>\n",
        "      <td> yes</td>\n",
        "      <td> EGP</td>\n",
        "      <td>  54.60</td>\n",
        "      <td>  5</td>\n",
        "      <td>...</td>\n",
        "      <td>NaN</td>\n",
        "      <td>NaN</td>\n",
        "      <td>NaN</td>\n",
        "      <td>NaN</td>\n",
        "      <td>NaN</td>\n",
        "      <td>NaN</td>\n",
        "      <td>NaN</td>\n",
        "      <td>NaN</td>\n",
        "      <td>NaN</td>\n",
        "      <td>NaN</td>\n",
        "    </tr>\n",
        "    <tr>\n",
        "      <th>60769</th>\n",
        "      <td>  #1005</td>\n",
        "      <td>    cathypod@hotmail.com</td>\n",
        "      <td>     NaN</td>\n",
        "      <td>                       NaN</td>\n",
        "      <td>         NaN</td>\n",
        "      <td>                       NaN</td>\n",
        "      <td> NaN</td>\n",
        "      <td> NaN</td>\n",
        "      <td>    NaN</td>\n",
        "      <td>NaN</td>\n",
        "      <td>...</td>\n",
        "      <td>NaN</td>\n",
        "      <td>NaN</td>\n",
        "      <td>NaN</td>\n",
        "      <td>NaN</td>\n",
        "      <td>NaN</td>\n",
        "      <td>NaN</td>\n",
        "      <td>NaN</td>\n",
        "      <td>NaN</td>\n",
        "      <td>NaN</td>\n",
        "      <td>NaN</td>\n",
        "    </tr>\n",
        "    <tr>\n",
        "      <th>60770</th>\n",
        "      <td>  #1005</td>\n",
        "      <td>    cathypod@hotmail.com</td>\n",
        "      <td>     NaN</td>\n",
        "      <td>                       NaN</td>\n",
        "      <td>         NaN</td>\n",
        "      <td>                       NaN</td>\n",
        "      <td> NaN</td>\n",
        "      <td> NaN</td>\n",
        "      <td>    NaN</td>\n",
        "      <td>NaN</td>\n",
        "      <td>...</td>\n",
        "      <td>NaN</td>\n",
        "      <td>NaN</td>\n",
        "      <td>NaN</td>\n",
        "      <td>NaN</td>\n",
        "      <td>NaN</td>\n",
        "      <td>NaN</td>\n",
        "      <td>NaN</td>\n",
        "      <td>NaN</td>\n",
        "      <td>NaN</td>\n",
        "      <td>NaN</td>\n",
        "    </tr>\n",
        "    <tr>\n",
        "      <th>60771</th>\n",
        "      <td>  #1005</td>\n",
        "      <td>    cathypod@hotmail.com</td>\n",
        "      <td>     NaN</td>\n",
        "      <td>                       NaN</td>\n",
        "      <td>         NaN</td>\n",
        "      <td>                       NaN</td>\n",
        "      <td> NaN</td>\n",
        "      <td> NaN</td>\n",
        "      <td>    NaN</td>\n",
        "      <td>NaN</td>\n",
        "      <td>...</td>\n",
        "      <td>NaN</td>\n",
        "      <td>NaN</td>\n",
        "      <td>NaN</td>\n",
        "      <td>NaN</td>\n",
        "      <td>NaN</td>\n",
        "      <td>NaN</td>\n",
        "      <td>NaN</td>\n",
        "      <td>NaN</td>\n",
        "      <td>NaN</td>\n",
        "      <td>NaN</td>\n",
        "    </tr>\n",
        "  </tbody>\n",
        "</table>\n",
        "<p>60772 rows \u00d7 66 columns</p>\n",
        "</div>"
       ],
       "metadata": {},
       "output_type": "pyout",
       "prompt_number": 1,
       "text": [
        "         Name                    Email Financial Status  \\\n",
        "0      #10367   rehabmansour@gmail.com          pending   \n",
        "1      #10367   rehabmansour@gmail.com              NaN   \n",
        "2      #10367   rehabmansour@gmail.com              NaN   \n",
        "3      #10366      nabouheif@yahoo.com          pending   \n",
        "4      #10366      nabouheif@yahoo.com              NaN   \n",
        "5      #10366      nabouheif@yahoo.com              NaN   \n",
        "6      #10365   fracicardi@hotmail.com          pending   \n",
        "7      #10365   fracicardi@hotmail.com              NaN   \n",
        "8      #10365   fracicardi@hotmail.com              NaN   \n",
        "9      #10365   fracicardi@hotmail.com              NaN   \n",
        "10     #10365   fracicardi@hotmail.com              NaN   \n",
        "11     #10365   fracicardi@hotmail.com              NaN   \n",
        "12     #10364   ahmed.fakhry@gmail.com          pending   \n",
        "13     #10364   ahmed.fakhry@gmail.com              NaN   \n",
        "14     #10364   ahmed.fakhry@gmail.com              NaN   \n",
        "15     #10364   ahmed.fakhry@gmail.com              NaN   \n",
        "16     #10364   ahmed.fakhry@gmail.com              NaN   \n",
        "17     #10364   ahmed.fakhry@gmail.com              NaN   \n",
        "18     #10364   ahmed.fakhry@gmail.com              NaN   \n",
        "19     #10364   ahmed.fakhry@gmail.com              NaN   \n",
        "20     #10364   ahmed.fakhry@gmail.com              NaN   \n",
        "21     #10363   ahmed.fakhry@gmail.com          pending   \n",
        "22     #10362     Missilou11@yahoo.com          pending   \n",
        "23     #10361  sallysalem123@gmail.com          pending   \n",
        "24     #10361  sallysalem123@gmail.com              NaN   \n",
        "25     #10361  sallysalem123@gmail.com              NaN   \n",
        "26     #10361  sallysalem123@gmail.com              NaN   \n",
        "27     #10361  sallysalem123@gmail.com              NaN   \n",
        "28     #10361  sallysalem123@gmail.com              NaN   \n",
        "29     #10361  sallysalem123@gmail.com              NaN   \n",
        "...       ...                      ...              ...   \n",
        "60742   #1013   lik-novikova@yandex.ru              NaN   \n",
        "60743   #1012      bettyhedrich@gmx.de             paid   \n",
        "60744   #1012      bettyhedrich@gmx.de              NaN   \n",
        "60745   #1011            rulah@msn.com             paid   \n",
        "60746   #1010      milda_b@hotmail.com             paid   \n",
        "60747   #1010      milda_b@hotmail.com              NaN   \n",
        "60748   #1010      milda_b@hotmail.com              NaN   \n",
        "60749   #1010      milda_b@hotmail.com              NaN   \n",
        "60750   #1010      milda_b@hotmail.com              NaN   \n",
        "60751   #1010      milda_b@hotmail.com              NaN   \n",
        "60752   #1010      milda_b@hotmail.com              NaN   \n",
        "60753   #1009      bente.ring@yahoo.no             paid   \n",
        "60754   #1008      bente.ring@yahoo.no             paid   \n",
        "60755   #1008      bente.ring@yahoo.no              NaN   \n",
        "60756   #1008      bente.ring@yahoo.no              NaN   \n",
        "60757   #1008      bente.ring@yahoo.no              NaN   \n",
        "60758   #1008      bente.ring@yahoo.no              NaN   \n",
        "60759   #1007   lik-novikova@yandex.ru             paid   \n",
        "60760   #1007   lik-novikova@yandex.ru              NaN   \n",
        "60761   #1007   lik-novikova@yandex.ru              NaN   \n",
        "60762   #1007   lik-novikova@yandex.ru              NaN   \n",
        "60763   #1006      bente.ring@yahoo.no             paid   \n",
        "60764   #1006      bente.ring@yahoo.no              NaN   \n",
        "60765   #1006      bente.ring@yahoo.no              NaN   \n",
        "60766   #1006      bente.ring@yahoo.no              NaN   \n",
        "60767   #1006      bente.ring@yahoo.no              NaN   \n",
        "60768   #1005     cathypod@hotmail.com             paid   \n",
        "60769   #1005     cathypod@hotmail.com              NaN   \n",
        "60770   #1005     cathypod@hotmail.com              NaN   \n",
        "60771   #1005     cathypod@hotmail.com              NaN   \n",
        "\n",
        "                         Paid at Fulfillment Status  \\\n",
        "0                            NaN        unfulfilled   \n",
        "1                            NaN                NaN   \n",
        "2                            NaN                NaN   \n",
        "3                            NaN        unfulfilled   \n",
        "4                            NaN                NaN   \n",
        "5                            NaN                NaN   \n",
        "6                            NaN        unfulfilled   \n",
        "7                            NaN                NaN   \n",
        "8                            NaN                NaN   \n",
        "9                            NaN                NaN   \n",
        "10                           NaN                NaN   \n",
        "11                           NaN                NaN   \n",
        "12                           NaN        unfulfilled   \n",
        "13                           NaN                NaN   \n",
        "14                           NaN                NaN   \n",
        "15                           NaN                NaN   \n",
        "16                           NaN                NaN   \n",
        "17                           NaN                NaN   \n",
        "18                           NaN                NaN   \n",
        "19                           NaN                NaN   \n",
        "20                           NaN                NaN   \n",
        "21                           NaN        unfulfilled   \n",
        "22                           NaN        unfulfilled   \n",
        "23                           NaN        unfulfilled   \n",
        "24                           NaN                NaN   \n",
        "25                           NaN                NaN   \n",
        "26                           NaN                NaN   \n",
        "27                           NaN                NaN   \n",
        "28                           NaN                NaN   \n",
        "29                           NaN                NaN   \n",
        "...                          ...                ...   \n",
        "60742                        NaN                NaN   \n",
        "60743  2012-05-27 13:15:42 +0200          fulfilled   \n",
        "60744                        NaN                NaN   \n",
        "60745  2012-05-21 18:33:13 +0200          fulfilled   \n",
        "60746  2012-05-09 11:09:12 +0200          fulfilled   \n",
        "60747                        NaN                NaN   \n",
        "60748                        NaN                NaN   \n",
        "60749                        NaN                NaN   \n",
        "60750                        NaN                NaN   \n",
        "60751                        NaN                NaN   \n",
        "60752                        NaN                NaN   \n",
        "60753  2012-05-10 19:12:35 +0200          fulfilled   \n",
        "60754  2012-05-10 19:13:35 +0200          fulfilled   \n",
        "60755                        NaN                NaN   \n",
        "60756                        NaN                NaN   \n",
        "60757                        NaN                NaN   \n",
        "60758                        NaN                NaN   \n",
        "60759  2012-05-04 18:36:50 +0200          fulfilled   \n",
        "60760                        NaN                NaN   \n",
        "60761                        NaN                NaN   \n",
        "60762                        NaN                NaN   \n",
        "60763  2012-05-04 18:37:13 +0200          fulfilled   \n",
        "60764                        NaN                NaN   \n",
        "60765                        NaN                NaN   \n",
        "60766                        NaN                NaN   \n",
        "60767                        NaN                NaN   \n",
        "60768  2012-05-04 18:37:35 +0200          fulfilled   \n",
        "60769                        NaN                NaN   \n",
        "60770                        NaN                NaN   \n",
        "60771                        NaN                NaN   \n",
        "\n",
        "                    Fulfilled at Accepts Marketing Currency  Subtotal  \\\n",
        "0                            NaN                no      EGP    375.30   \n",
        "1                            NaN               NaN      NaN       NaN   \n",
        "2                            NaN               NaN      NaN       NaN   \n",
        "3                            NaN                no      EGP    162.90   \n",
        "4                            NaN               NaN      NaN       NaN   \n",
        "5                            NaN               NaN      NaN       NaN   \n",
        "6                            NaN                no      EGP    129.00   \n",
        "7                            NaN               NaN      NaN       NaN   \n",
        "8                            NaN               NaN      NaN       NaN   \n",
        "9                            NaN               NaN      NaN       NaN   \n",
        "10                           NaN               NaN      NaN       NaN   \n",
        "11                           NaN               NaN      NaN       NaN   \n",
        "12                           NaN                no      EGP    660.10   \n",
        "13                           NaN               NaN      NaN       NaN   \n",
        "14                           NaN               NaN      NaN       NaN   \n",
        "15                           NaN               NaN      NaN       NaN   \n",
        "16                           NaN               NaN      NaN       NaN   \n",
        "17                           NaN               NaN      NaN       NaN   \n",
        "18                           NaN               NaN      NaN       NaN   \n",
        "19                           NaN               NaN      NaN       NaN   \n",
        "20                           NaN               NaN      NaN       NaN   \n",
        "21                           NaN                no      EGP    592.00   \n",
        "22                           NaN                no      EGP     70.20   \n",
        "23                           NaN                no      EGP    432.00   \n",
        "24                           NaN               NaN      NaN       NaN   \n",
        "25                           NaN               NaN      NaN       NaN   \n",
        "26                           NaN               NaN      NaN       NaN   \n",
        "27                           NaN               NaN      NaN       NaN   \n",
        "28                           NaN               NaN      NaN       NaN   \n",
        "29                           NaN               NaN      NaN       NaN   \n",
        "...                          ...               ...      ...       ...   \n",
        "60742                        NaN               NaN      NaN       NaN   \n",
        "60743  2012-05-27 13:15:14 +0200                no      EGP     41.93   \n",
        "60744                        NaN               NaN      NaN       NaN   \n",
        "60745  2012-05-21 18:33:43 +0200               yes      EGP    222.30   \n",
        "60746  2012-05-09 11:09:06 +0200               yes      EGP    155.55   \n",
        "60747                        NaN               NaN      NaN       NaN   \n",
        "60748                        NaN               NaN      NaN       NaN   \n",
        "60749                        NaN               NaN      NaN       NaN   \n",
        "60750                        NaN               NaN      NaN       NaN   \n",
        "60751                        NaN               NaN      NaN       NaN   \n",
        "60752                        NaN               NaN      NaN       NaN   \n",
        "60753  2012-05-10 19:12:32 +0200               yes      EGP     45.50   \n",
        "60754  2012-05-10 19:13:32 +0200               yes      EGP    357.53   \n",
        "60755                        NaN               NaN      NaN       NaN   \n",
        "60756                        NaN               NaN      NaN       NaN   \n",
        "60757                        NaN               NaN      NaN       NaN   \n",
        "60758                        NaN               NaN      NaN       NaN   \n",
        "60759  2012-05-04 18:33:47 +0200               yes      EGP    110.83   \n",
        "60760                        NaN               NaN      NaN       NaN   \n",
        "60761                        NaN               NaN      NaN       NaN   \n",
        "60762                        NaN               NaN      NaN       NaN   \n",
        "60763  2012-05-03 10:57:23 +0200               yes      EGP    201.51   \n",
        "60764                        NaN               NaN      NaN       NaN   \n",
        "60765                        NaN               NaN      NaN       NaN   \n",
        "60766                        NaN               NaN      NaN       NaN   \n",
        "60767                        NaN               NaN      NaN       NaN   \n",
        "60768  2012-05-03 11:03:44 +0200               yes      EGP     54.60   \n",
        "60769                        NaN               NaN      NaN       NaN   \n",
        "60770                        NaN               NaN      NaN       NaN   \n",
        "60771                        NaN               NaN      NaN       NaN   \n",
        "\n",
        "       Shipping     ...       Tax 1 Name  Tax 1 Value Tax 2 Name  Tax 2 Value  \\\n",
        "0            10     ...              NaN          NaN        NaN          NaN   \n",
        "1           NaN     ...              NaN          NaN        NaN          NaN   \n",
        "2           NaN     ...              NaN          NaN        NaN          NaN   \n",
        "3            10     ...              NaN          NaN        NaN          NaN   \n",
        "4           NaN     ...              NaN          NaN        NaN          NaN   \n",
        "5           NaN     ...              NaN          NaN        NaN          NaN   \n",
        "6            15     ...              NaN          NaN        NaN          NaN   \n",
        "7           NaN     ...              NaN          NaN        NaN          NaN   \n",
        "8           NaN     ...              NaN          NaN        NaN          NaN   \n",
        "9           NaN     ...              NaN          NaN        NaN          NaN   \n",
        "10          NaN     ...              NaN          NaN        NaN          NaN   \n",
        "11          NaN     ...              NaN          NaN        NaN          NaN   \n",
        "12           10     ...              NaN          NaN        NaN          NaN   \n",
        "13          NaN     ...              NaN          NaN        NaN          NaN   \n",
        "14          NaN     ...              NaN          NaN        NaN          NaN   \n",
        "15          NaN     ...              NaN          NaN        NaN          NaN   \n",
        "16          NaN     ...              NaN          NaN        NaN          NaN   \n",
        "17          NaN     ...              NaN          NaN        NaN          NaN   \n",
        "18          NaN     ...              NaN          NaN        NaN          NaN   \n",
        "19          NaN     ...              NaN          NaN        NaN          NaN   \n",
        "20          NaN     ...              NaN          NaN        NaN          NaN   \n",
        "21           10     ...              NaN          NaN        NaN          NaN   \n",
        "22           15     ...              NaN          NaN        NaN          NaN   \n",
        "23           10     ...              NaN          NaN        NaN          NaN   \n",
        "24          NaN     ...              NaN          NaN        NaN          NaN   \n",
        "25          NaN     ...              NaN          NaN        NaN          NaN   \n",
        "26          NaN     ...              NaN          NaN        NaN          NaN   \n",
        "27          NaN     ...              NaN          NaN        NaN          NaN   \n",
        "28          NaN     ...              NaN          NaN        NaN          NaN   \n",
        "29          NaN     ...              NaN          NaN        NaN          NaN   \n",
        "...         ...     ...              ...          ...        ...          ...   \n",
        "60742       NaN     ...              NaN          NaN        NaN          NaN   \n",
        "60743         5     ...              NaN          NaN        NaN          NaN   \n",
        "60744       NaN     ...              NaN          NaN        NaN          NaN   \n",
        "60745         5     ...              NaN          NaN        NaN          NaN   \n",
        "60746         5     ...              NaN          NaN        NaN          NaN   \n",
        "60747       NaN     ...              NaN          NaN        NaN          NaN   \n",
        "60748       NaN     ...              NaN          NaN        NaN          NaN   \n",
        "60749       NaN     ...              NaN          NaN        NaN          NaN   \n",
        "60750       NaN     ...              NaN          NaN        NaN          NaN   \n",
        "60751       NaN     ...              NaN          NaN        NaN          NaN   \n",
        "60752       NaN     ...              NaN          NaN        NaN          NaN   \n",
        "60753         5     ...              NaN          NaN        NaN          NaN   \n",
        "60754         5     ...              NaN          NaN        NaN          NaN   \n",
        "60755       NaN     ...              NaN          NaN        NaN          NaN   \n",
        "60756       NaN     ...              NaN          NaN        NaN          NaN   \n",
        "60757       NaN     ...              NaN          NaN        NaN          NaN   \n",
        "60758       NaN     ...              NaN          NaN        NaN          NaN   \n",
        "60759         5     ...              NaN          NaN        NaN          NaN   \n",
        "60760       NaN     ...              NaN          NaN        NaN          NaN   \n",
        "60761       NaN     ...              NaN          NaN        NaN          NaN   \n",
        "60762       NaN     ...              NaN          NaN        NaN          NaN   \n",
        "60763         5     ...              NaN          NaN        NaN          NaN   \n",
        "60764       NaN     ...              NaN          NaN        NaN          NaN   \n",
        "60765       NaN     ...              NaN          NaN        NaN          NaN   \n",
        "60766       NaN     ...              NaN          NaN        NaN          NaN   \n",
        "60767       NaN     ...              NaN          NaN        NaN          NaN   \n",
        "60768         5     ...              NaN          NaN        NaN          NaN   \n",
        "60769       NaN     ...              NaN          NaN        NaN          NaN   \n",
        "60770       NaN     ...              NaN          NaN        NaN          NaN   \n",
        "60771       NaN     ...              NaN          NaN        NaN          NaN   \n",
        "\n",
        "      Tax 3 Name Tax 3 Value  Tax 4 Name Tax 4 Value  Tax 5 Name  Tax 5 Value  \n",
        "0            NaN         NaN         NaN         NaN         NaN          NaN  \n",
        "1            NaN         NaN         NaN         NaN         NaN          NaN  \n",
        "2            NaN         NaN         NaN         NaN         NaN          NaN  \n",
        "3            NaN         NaN         NaN         NaN         NaN          NaN  \n",
        "4            NaN         NaN         NaN         NaN         NaN          NaN  \n",
        "5            NaN         NaN         NaN         NaN         NaN          NaN  \n",
        "6            NaN         NaN         NaN         NaN         NaN          NaN  \n",
        "7            NaN         NaN         NaN         NaN         NaN          NaN  \n",
        "8            NaN         NaN         NaN         NaN         NaN          NaN  \n",
        "9            NaN         NaN         NaN         NaN         NaN          NaN  \n",
        "10           NaN         NaN         NaN         NaN         NaN          NaN  \n",
        "11           NaN         NaN         NaN         NaN         NaN          NaN  \n",
        "12           NaN         NaN         NaN         NaN         NaN          NaN  \n",
        "13           NaN         NaN         NaN         NaN         NaN          NaN  \n",
        "14           NaN         NaN         NaN         NaN         NaN          NaN  \n",
        "15           NaN         NaN         NaN         NaN         NaN          NaN  \n",
        "16           NaN         NaN         NaN         NaN         NaN          NaN  \n",
        "17           NaN         NaN         NaN         NaN         NaN          NaN  \n",
        "18           NaN         NaN         NaN         NaN         NaN          NaN  \n",
        "19           NaN         NaN         NaN         NaN         NaN          NaN  \n",
        "20           NaN         NaN         NaN         NaN         NaN          NaN  \n",
        "21           NaN         NaN         NaN         NaN         NaN          NaN  \n",
        "22           NaN         NaN         NaN         NaN         NaN          NaN  \n",
        "23           NaN         NaN         NaN         NaN         NaN          NaN  \n",
        "24           NaN         NaN         NaN         NaN         NaN          NaN  \n",
        "25           NaN         NaN         NaN         NaN         NaN          NaN  \n",
        "26           NaN         NaN         NaN         NaN         NaN          NaN  \n",
        "27           NaN         NaN         NaN         NaN         NaN          NaN  \n",
        "28           NaN         NaN         NaN         NaN         NaN          NaN  \n",
        "29           NaN         NaN         NaN         NaN         NaN          NaN  \n",
        "...          ...         ...         ...         ...         ...          ...  \n",
        "60742        NaN         NaN         NaN         NaN         NaN          NaN  \n",
        "60743        NaN         NaN         NaN         NaN         NaN          NaN  \n",
        "60744        NaN         NaN         NaN         NaN         NaN          NaN  \n",
        "60745        NaN         NaN         NaN         NaN         NaN          NaN  \n",
        "60746        NaN         NaN         NaN         NaN         NaN          NaN  \n",
        "60747        NaN         NaN         NaN         NaN         NaN          NaN  \n",
        "60748        NaN         NaN         NaN         NaN         NaN          NaN  \n",
        "60749        NaN         NaN         NaN         NaN         NaN          NaN  \n",
        "60750        NaN         NaN         NaN         NaN         NaN          NaN  \n",
        "60751        NaN         NaN         NaN         NaN         NaN          NaN  \n",
        "60752        NaN         NaN         NaN         NaN         NaN          NaN  \n",
        "60753        NaN         NaN         NaN         NaN         NaN          NaN  \n",
        "60754        NaN         NaN         NaN         NaN         NaN          NaN  \n",
        "60755        NaN         NaN         NaN         NaN         NaN          NaN  \n",
        "60756        NaN         NaN         NaN         NaN         NaN          NaN  \n",
        "60757        NaN         NaN         NaN         NaN         NaN          NaN  \n",
        "60758        NaN         NaN         NaN         NaN         NaN          NaN  \n",
        "60759        NaN         NaN         NaN         NaN         NaN          NaN  \n",
        "60760        NaN         NaN         NaN         NaN         NaN          NaN  \n",
        "60761        NaN         NaN         NaN         NaN         NaN          NaN  \n",
        "60762        NaN         NaN         NaN         NaN         NaN          NaN  \n",
        "60763        NaN         NaN         NaN         NaN         NaN          NaN  \n",
        "60764        NaN         NaN         NaN         NaN         NaN          NaN  \n",
        "60765        NaN         NaN         NaN         NaN         NaN          NaN  \n",
        "60766        NaN         NaN         NaN         NaN         NaN          NaN  \n",
        "60767        NaN         NaN         NaN         NaN         NaN          NaN  \n",
        "60768        NaN         NaN         NaN         NaN         NaN          NaN  \n",
        "60769        NaN         NaN         NaN         NaN         NaN          NaN  \n",
        "60770        NaN         NaN         NaN         NaN         NaN          NaN  \n",
        "60771        NaN         NaN         NaN         NaN         NaN          NaN  \n",
        "\n",
        "[60772 rows x 66 columns]"
       ]
      }
     ],
     "prompt_number": 1
    },
    {
     "cell_type": "code",
     "collapsed": false,
     "input": [
      "# take required fields\n",
      "df1=df[['Email', 'Created at' ]]\n",
      "\n",
      "#let there be only one row for each order\n",
      "df1=df1.drop_duplicates().reset_index().drop('index',1)\n",
      "\n",
      "#getting only date from created at field\n",
      "df1['Created at'] = df1.apply(lambda x: x['Created at'][:10], axis = 1)\n",
      "    \n",
      "df1=df1.drop_duplicates().reset_index().drop('index',1)\n",
      "df1"
     ],
     "language": "python",
     "metadata": {},
     "outputs": [
      {
       "html": [
        "<div style=\"max-height:1000px;max-width:1500px;overflow:auto;\">\n",
        "<table border=\"1\" class=\"dataframe\">\n",
        "  <thead>\n",
        "    <tr style=\"text-align: right;\">\n",
        "      <th></th>\n",
        "      <th>Email</th>\n",
        "      <th>Created at</th>\n",
        "    </tr>\n",
        "  </thead>\n",
        "  <tbody>\n",
        "    <tr>\n",
        "      <th>0   </th>\n",
        "      <td>       rehabmansour@gmail.com</td>\n",
        "      <td> 2015-12-23</td>\n",
        "    </tr>\n",
        "    <tr>\n",
        "      <th>1   </th>\n",
        "      <td>          nabouheif@yahoo.com</td>\n",
        "      <td> 2015-12-23</td>\n",
        "    </tr>\n",
        "    <tr>\n",
        "      <th>2   </th>\n",
        "      <td>       fracicardi@hotmail.com</td>\n",
        "      <td> 2015-12-23</td>\n",
        "    </tr>\n",
        "    <tr>\n",
        "      <th>3   </th>\n",
        "      <td>       ahmed.fakhry@gmail.com</td>\n",
        "      <td> 2015-12-23</td>\n",
        "    </tr>\n",
        "    <tr>\n",
        "      <th>4   </th>\n",
        "      <td>         Missilou11@yahoo.com</td>\n",
        "      <td> 2015-12-23</td>\n",
        "    </tr>\n",
        "    <tr>\n",
        "      <th>5   </th>\n",
        "      <td>      sallysalem123@gmail.com</td>\n",
        "      <td> 2015-12-23</td>\n",
        "    </tr>\n",
        "    <tr>\n",
        "      <th>6   </th>\n",
        "      <td>     nayera_fadel@hotmail.com</td>\n",
        "      <td> 2015-12-23</td>\n",
        "    </tr>\n",
        "    <tr>\n",
        "      <th>7   </th>\n",
        "      <td>        raoufzdn553@gmail.com</td>\n",
        "      <td> 2015-12-23</td>\n",
        "    </tr>\n",
        "    <tr>\n",
        "      <th>8   </th>\n",
        "      <td>       gaylynmbogho@yahoo.com</td>\n",
        "      <td> 2015-12-23</td>\n",
        "    </tr>\n",
        "    <tr>\n",
        "      <th>9   </th>\n",
        "      <td>         oshahavi13@gmail.com</td>\n",
        "      <td> 2015-12-23</td>\n",
        "    </tr>\n",
        "    <tr>\n",
        "      <th>10  </th>\n",
        "      <td>         Daiieldeeb@gmail.com</td>\n",
        "      <td> 2015-12-23</td>\n",
        "    </tr>\n",
        "    <tr>\n",
        "      <th>11  </th>\n",
        "      <td>          yara.azam@gmail.com</td>\n",
        "      <td> 2015-12-23</td>\n",
        "    </tr>\n",
        "    <tr>\n",
        "      <th>12  </th>\n",
        "      <td>        dalia_allam@yahoo.com</td>\n",
        "      <td> 2015-12-23</td>\n",
        "    </tr>\n",
        "    <tr>\n",
        "      <th>13  </th>\n",
        "      <td>        elhanem52@hotmail.com</td>\n",
        "      <td> 2015-12-23</td>\n",
        "    </tr>\n",
        "    <tr>\n",
        "      <th>14  </th>\n",
        "      <td>     tarek_seddik@hotmail.com</td>\n",
        "      <td> 2015-12-23</td>\n",
        "    </tr>\n",
        "    <tr>\n",
        "      <th>15  </th>\n",
        "      <td>      maie.nomrossy@gmail.com</td>\n",
        "      <td> 2015-12-23</td>\n",
        "    </tr>\n",
        "    <tr>\n",
        "      <th>16  </th>\n",
        "      <td>        hazem.shamy@gmail.com</td>\n",
        "      <td> 2015-12-23</td>\n",
        "    </tr>\n",
        "    <tr>\n",
        "      <th>17  </th>\n",
        "      <td>       maya.p.nawal@gmail.com</td>\n",
        "      <td> 2015-12-22</td>\n",
        "    </tr>\n",
        "    <tr>\n",
        "      <th>18  </th>\n",
        "      <td>    jamesmorgan0091@gmail.com</td>\n",
        "      <td> 2015-12-22</td>\n",
        "    </tr>\n",
        "    <tr>\n",
        "      <th>19  </th>\n",
        "      <td>         israa_s@aucegypt.edu</td>\n",
        "      <td> 2015-12-22</td>\n",
        "    </tr>\n",
        "    <tr>\n",
        "      <th>20  </th>\n",
        "      <td>       RODY.DOVE123@GMAIL.COM</td>\n",
        "      <td> 2015-12-22</td>\n",
        "    </tr>\n",
        "    <tr>\n",
        "      <th>21  </th>\n",
        "      <td>       amaghraby@mediawave.me</td>\n",
        "      <td> 2015-12-22</td>\n",
        "    </tr>\n",
        "    <tr>\n",
        "      <th>22  </th>\n",
        "      <td>          hibba_b@hotmail.com</td>\n",
        "      <td> 2015-12-22</td>\n",
        "    </tr>\n",
        "    <tr>\n",
        "      <th>23  </th>\n",
        "      <td>       pascalenader@gmail.com</td>\n",
        "      <td> 2015-12-22</td>\n",
        "    </tr>\n",
        "    <tr>\n",
        "      <th>24  </th>\n",
        "      <td>       doaa.khattab@gmail.com</td>\n",
        "      <td> 2015-12-22</td>\n",
        "    </tr>\n",
        "    <tr>\n",
        "      <th>25  </th>\n",
        "      <td>       sunset_456@hotmail.com</td>\n",
        "      <td> 2015-12-22</td>\n",
        "    </tr>\n",
        "    <tr>\n",
        "      <th>26  </th>\n",
        "      <td>   colleen_lovely@hotmail.com</td>\n",
        "      <td> 2015-12-22</td>\n",
        "    </tr>\n",
        "    <tr>\n",
        "      <th>27  </th>\n",
        "      <td>             imrhazi@yahoo.fr</td>\n",
        "      <td> 2015-12-22</td>\n",
        "    </tr>\n",
        "    <tr>\n",
        "      <th>28  </th>\n",
        "      <td>    nadyagamaleldin@gmail.com</td>\n",
        "      <td> 2015-12-22</td>\n",
        "    </tr>\n",
        "    <tr>\n",
        "      <th>29  </th>\n",
        "      <td>          engywasfy@gmail.com</td>\n",
        "      <td> 2015-12-22</td>\n",
        "    </tr>\n",
        "    <tr>\n",
        "      <th>...</th>\n",
        "      <td>...</td>\n",
        "      <td>...</td>\n",
        "    </tr>\n",
        "    <tr>\n",
        "      <th>8231</th>\n",
        "      <td>     faridahelmyiba@gmail.com</td>\n",
        "      <td> 2012-07-09</td>\n",
        "    </tr>\n",
        "    <tr>\n",
        "      <th>8232</th>\n",
        "      <td>       mireilleamin@yahoo.com</td>\n",
        "      <td> 2012-07-09</td>\n",
        "    </tr>\n",
        "    <tr>\n",
        "      <th>8233</th>\n",
        "      <td>   Ihab.derias@laroche.com.eg</td>\n",
        "      <td> 2012-07-09</td>\n",
        "    </tr>\n",
        "    <tr>\n",
        "      <th>8234</th>\n",
        "      <td>         Adhamada@hotmail.com</td>\n",
        "      <td> 2012-07-09</td>\n",
        "    </tr>\n",
        "    <tr>\n",
        "      <th>8235</th>\n",
        "      <td>     houssam.elokda@gmail.com</td>\n",
        "      <td> 2012-07-09</td>\n",
        "    </tr>\n",
        "    <tr>\n",
        "      <th>8236</th>\n",
        "      <td>          Hania7894@gmail.com</td>\n",
        "      <td> 2012-07-09</td>\n",
        "    </tr>\n",
        "    <tr>\n",
        "      <th>8237</th>\n",
        "      <td>            Mamazzz@gmail.com</td>\n",
        "      <td> 2012-07-08</td>\n",
        "    </tr>\n",
        "    <tr>\n",
        "      <th>8238</th>\n",
        "      <td>            asony11@yahoo.com</td>\n",
        "      <td> 2012-07-08</td>\n",
        "    </tr>\n",
        "    <tr>\n",
        "      <th>8239</th>\n",
        "      <td>      salwa_saiid@hotmail.com</td>\n",
        "      <td> 2012-07-08</td>\n",
        "    </tr>\n",
        "    <tr>\n",
        "      <th>8240</th>\n",
        "      <td> djamila.benderbous@gmail.com</td>\n",
        "      <td> 2012-07-07</td>\n",
        "    </tr>\n",
        "    <tr>\n",
        "      <th>8241</th>\n",
        "      <td>      milomilogindi@yahoo.com</td>\n",
        "      <td> 2012-07-05</td>\n",
        "    </tr>\n",
        "    <tr>\n",
        "      <th>8242</th>\n",
        "      <td>     raghebelgammal@yahoo.com</td>\n",
        "      <td> 2012-07-05</td>\n",
        "    </tr>\n",
        "    <tr>\n",
        "      <th>8243</th>\n",
        "      <td>      t_el_gammal@hotmail.com</td>\n",
        "      <td> 2012-07-04</td>\n",
        "    </tr>\n",
        "    <tr>\n",
        "      <th>8244</th>\n",
        "      <td>       lik-novikova@yandex.ru</td>\n",
        "      <td> 2012-07-01</td>\n",
        "    </tr>\n",
        "    <tr>\n",
        "      <th>8245</th>\n",
        "      <td>        fairymaid82@yahoo.com</td>\n",
        "      <td> 2012-06-13</td>\n",
        "    </tr>\n",
        "    <tr>\n",
        "      <th>8246</th>\n",
        "      <td>      milomilogindi@yahoo.com</td>\n",
        "      <td> 2012-06-06</td>\n",
        "    </tr>\n",
        "    <tr>\n",
        "      <th>8247</th>\n",
        "      <td>      t_el_gammal@hotmail.com</td>\n",
        "      <td> 2012-06-06</td>\n",
        "    </tr>\n",
        "    <tr>\n",
        "      <th>8248</th>\n",
        "      <td>      t_el_gammal@hotmail.com</td>\n",
        "      <td> 2012-05-29</td>\n",
        "    </tr>\n",
        "    <tr>\n",
        "      <th>8249</th>\n",
        "      <td>       lik-novikova@yandex.ru</td>\n",
        "      <td> 2012-05-27</td>\n",
        "    </tr>\n",
        "    <tr>\n",
        "      <th>8250</th>\n",
        "      <td>             Biro5s@yahoo.com</td>\n",
        "      <td> 2012-05-25</td>\n",
        "    </tr>\n",
        "    <tr>\n",
        "      <th>8251</th>\n",
        "      <td>         nini.etoile@voila.fr</td>\n",
        "      <td> 2012-05-21</td>\n",
        "    </tr>\n",
        "    <tr>\n",
        "      <th>8252</th>\n",
        "      <td>       lik-novikova@yandex.ru</td>\n",
        "      <td> 2012-05-21</td>\n",
        "    </tr>\n",
        "    <tr>\n",
        "      <th>8253</th>\n",
        "      <td>          bettyhedrich@gmx.de</td>\n",
        "      <td> 2012-05-18</td>\n",
        "    </tr>\n",
        "    <tr>\n",
        "      <th>8254</th>\n",
        "      <td>                rulah@msn.com</td>\n",
        "      <td> 2012-05-10</td>\n",
        "    </tr>\n",
        "    <tr>\n",
        "      <th>8255</th>\n",
        "      <td>          milda_b@hotmail.com</td>\n",
        "      <td> 2012-05-08</td>\n",
        "    </tr>\n",
        "    <tr>\n",
        "      <th>8256</th>\n",
        "      <td>          bente.ring@yahoo.no</td>\n",
        "      <td> 2012-05-08</td>\n",
        "    </tr>\n",
        "    <tr>\n",
        "      <th>8257</th>\n",
        "      <td>          bente.ring@yahoo.no</td>\n",
        "      <td> 2012-05-07</td>\n",
        "    </tr>\n",
        "    <tr>\n",
        "      <th>8258</th>\n",
        "      <td>       lik-novikova@yandex.ru</td>\n",
        "      <td> 2012-05-03</td>\n",
        "    </tr>\n",
        "    <tr>\n",
        "      <th>8259</th>\n",
        "      <td>          bente.ring@yahoo.no</td>\n",
        "      <td> 2012-05-02</td>\n",
        "    </tr>\n",
        "    <tr>\n",
        "      <th>8260</th>\n",
        "      <td>         cathypod@hotmail.com</td>\n",
        "      <td> 2012-05-01</td>\n",
        "    </tr>\n",
        "  </tbody>\n",
        "</table>\n",
        "<p>8261 rows \u00d7 2 columns</p>\n",
        "</div>"
       ],
       "metadata": {},
       "output_type": "pyout",
       "prompt_number": 2,
       "text": [
        "                             Email  Created at\n",
        "0           rehabmansour@gmail.com  2015-12-23\n",
        "1              nabouheif@yahoo.com  2015-12-23\n",
        "2           fracicardi@hotmail.com  2015-12-23\n",
        "3           ahmed.fakhry@gmail.com  2015-12-23\n",
        "4             Missilou11@yahoo.com  2015-12-23\n",
        "5          sallysalem123@gmail.com  2015-12-23\n",
        "6         nayera_fadel@hotmail.com  2015-12-23\n",
        "7            raoufzdn553@gmail.com  2015-12-23\n",
        "8           gaylynmbogho@yahoo.com  2015-12-23\n",
        "9             oshahavi13@gmail.com  2015-12-23\n",
        "10            Daiieldeeb@gmail.com  2015-12-23\n",
        "11             yara.azam@gmail.com  2015-12-23\n",
        "12           dalia_allam@yahoo.com  2015-12-23\n",
        "13           elhanem52@hotmail.com  2015-12-23\n",
        "14        tarek_seddik@hotmail.com  2015-12-23\n",
        "15         maie.nomrossy@gmail.com  2015-12-23\n",
        "16           hazem.shamy@gmail.com  2015-12-23\n",
        "17          maya.p.nawal@gmail.com  2015-12-22\n",
        "18       jamesmorgan0091@gmail.com  2015-12-22\n",
        "19            israa_s@aucegypt.edu  2015-12-22\n",
        "20          RODY.DOVE123@GMAIL.COM  2015-12-22\n",
        "21          amaghraby@mediawave.me  2015-12-22\n",
        "22             hibba_b@hotmail.com  2015-12-22\n",
        "23          pascalenader@gmail.com  2015-12-22\n",
        "24          doaa.khattab@gmail.com  2015-12-22\n",
        "25          sunset_456@hotmail.com  2015-12-22\n",
        "26      colleen_lovely@hotmail.com  2015-12-22\n",
        "27                imrhazi@yahoo.fr  2015-12-22\n",
        "28       nadyagamaleldin@gmail.com  2015-12-22\n",
        "29             engywasfy@gmail.com  2015-12-22\n",
        "...                            ...         ...\n",
        "8231      faridahelmyiba@gmail.com  2012-07-09\n",
        "8232        mireilleamin@yahoo.com  2012-07-09\n",
        "8233    Ihab.derias@laroche.com.eg  2012-07-09\n",
        "8234          Adhamada@hotmail.com  2012-07-09\n",
        "8235      houssam.elokda@gmail.com  2012-07-09\n",
        "8236           Hania7894@gmail.com  2012-07-09\n",
        "8237             Mamazzz@gmail.com  2012-07-08\n",
        "8238             asony11@yahoo.com  2012-07-08\n",
        "8239       salwa_saiid@hotmail.com  2012-07-08\n",
        "8240  djamila.benderbous@gmail.com  2012-07-07\n",
        "8241       milomilogindi@yahoo.com  2012-07-05\n",
        "8242      raghebelgammal@yahoo.com  2012-07-05\n",
        "8243       t_el_gammal@hotmail.com  2012-07-04\n",
        "8244        lik-novikova@yandex.ru  2012-07-01\n",
        "8245         fairymaid82@yahoo.com  2012-06-13\n",
        "8246       milomilogindi@yahoo.com  2012-06-06\n",
        "8247       t_el_gammal@hotmail.com  2012-06-06\n",
        "8248       t_el_gammal@hotmail.com  2012-05-29\n",
        "8249        lik-novikova@yandex.ru  2012-05-27\n",
        "8250              Biro5s@yahoo.com  2012-05-25\n",
        "8251          nini.etoile@voila.fr  2012-05-21\n",
        "8252        lik-novikova@yandex.ru  2012-05-21\n",
        "8253           bettyhedrich@gmx.de  2012-05-18\n",
        "8254                 rulah@msn.com  2012-05-10\n",
        "8255           milda_b@hotmail.com  2012-05-08\n",
        "8256           bente.ring@yahoo.no  2012-05-08\n",
        "8257           bente.ring@yahoo.no  2012-05-07\n",
        "8258        lik-novikova@yandex.ru  2012-05-03\n",
        "8259           bente.ring@yahoo.no  2012-05-02\n",
        "8260          cathypod@hotmail.com  2012-05-01\n",
        "\n",
        "[8261 rows x 2 columns]"
       ]
      }
     ],
     "prompt_number": 2
    },
    {
     "cell_type": "code",
     "collapsed": false,
     "input": [
      "df1.columns=['Email', 'Date']\n",
      "df1['Difference'] = 0\n",
      "df1['Count'] = 0\n",
      "\n",
      "df1['Date'] =pd.to_datetime(df1.Date)\n",
      "df1=df1.sort(['Email', 'Date']).reset_index().drop('index',1)\n",
      "df1"
     ],
     "language": "python",
     "metadata": {},
     "outputs": [
      {
       "html": [
        "<div style=\"max-height:1000px;max-width:1500px;overflow:auto;\">\n",
        "<table border=\"1\" class=\"dataframe\">\n",
        "  <thead>\n",
        "    <tr style=\"text-align: right;\">\n",
        "      <th></th>\n",
        "      <th>Email</th>\n",
        "      <th>Date</th>\n",
        "      <th>Difference</th>\n",
        "      <th>Count</th>\n",
        "    </tr>\n",
        "  </thead>\n",
        "  <tbody>\n",
        "    <tr>\n",
        "      <th>0   </th>\n",
        "      <td>        11435mail@mkallenberger.de</td>\n",
        "      <td>2013-05-26</td>\n",
        "      <td> 0</td>\n",
        "      <td> 0</td>\n",
        "    </tr>\n",
        "    <tr>\n",
        "      <th>1   </th>\n",
        "      <td>                     1@gargour.com</td>\n",
        "      <td>2015-01-03</td>\n",
        "      <td> 0</td>\n",
        "      <td> 0</td>\n",
        "    </tr>\n",
        "    <tr>\n",
        "      <th>2   </th>\n",
        "      <td>                     1@gargour.com</td>\n",
        "      <td>2015-04-07</td>\n",
        "      <td> 0</td>\n",
        "      <td> 0</td>\n",
        "    </tr>\n",
        "    <tr>\n",
        "      <th>3   </th>\n",
        "      <td>                 1kttate@gmail.com</td>\n",
        "      <td>2015-08-09</td>\n",
        "      <td> 0</td>\n",
        "      <td> 0</td>\n",
        "    </tr>\n",
        "    <tr>\n",
        "      <th>4   </th>\n",
        "      <td>                 1kttate@gmail.com</td>\n",
        "      <td>2015-08-13</td>\n",
        "      <td> 0</td>\n",
        "      <td> 0</td>\n",
        "    </tr>\n",
        "    <tr>\n",
        "      <th>5   </th>\n",
        "      <td>                 1kttate@gmail.com</td>\n",
        "      <td>2015-08-17</td>\n",
        "      <td> 0</td>\n",
        "      <td> 0</td>\n",
        "    </tr>\n",
        "    <tr>\n",
        "      <th>6   </th>\n",
        "      <td>                 1kttate@gmail.com</td>\n",
        "      <td>2015-08-31</td>\n",
        "      <td> 0</td>\n",
        "      <td> 0</td>\n",
        "    </tr>\n",
        "    <tr>\n",
        "      <th>7   </th>\n",
        "      <td>         1youniqueflower@gmail.com</td>\n",
        "      <td>2014-11-20</td>\n",
        "      <td> 0</td>\n",
        "      <td> 0</td>\n",
        "    </tr>\n",
        "    <tr>\n",
        "      <th>8   </th>\n",
        "      <td>         1youniqueflower@gmail.com</td>\n",
        "      <td>2015-09-01</td>\n",
        "      <td> 0</td>\n",
        "      <td> 0</td>\n",
        "    </tr>\n",
        "    <tr>\n",
        "      <th>9   </th>\n",
        "      <td>         1youniqueflower@gmail.com</td>\n",
        "      <td>2015-11-30</td>\n",
        "      <td> 0</td>\n",
        "      <td> 0</td>\n",
        "    </tr>\n",
        "    <tr>\n",
        "      <th>10  </th>\n",
        "      <td>                3aliaa.h@gmail.com</td>\n",
        "      <td>2015-03-13</td>\n",
        "      <td> 0</td>\n",
        "      <td> 0</td>\n",
        "    </tr>\n",
        "    <tr>\n",
        "      <th>11  </th>\n",
        "      <td>                3aliaa.h@gmail.com</td>\n",
        "      <td>2015-03-15</td>\n",
        "      <td> 0</td>\n",
        "      <td> 0</td>\n",
        "    </tr>\n",
        "    <tr>\n",
        "      <th>12  </th>\n",
        "      <td>                3aliaa.h@gmail.com</td>\n",
        "      <td>2015-04-04</td>\n",
        "      <td> 0</td>\n",
        "      <td> 0</td>\n",
        "    </tr>\n",
        "    <tr>\n",
        "      <th>13  </th>\n",
        "      <td>          777nadiateirah@gmail.com</td>\n",
        "      <td>2015-11-16</td>\n",
        "      <td> 0</td>\n",
        "      <td> 0</td>\n",
        "    </tr>\n",
        "    <tr>\n",
        "      <th>14  </th>\n",
        "      <td>          777nadiateirah@gmail.com</td>\n",
        "      <td>2015-11-21</td>\n",
        "      <td> 0</td>\n",
        "      <td> 0</td>\n",
        "    </tr>\n",
        "    <tr>\n",
        "      <th>15  </th>\n",
        "      <td>                         A2@ed.com</td>\n",
        "      <td>2015-09-12</td>\n",
        "      <td> 0</td>\n",
        "      <td> 0</td>\n",
        "    </tr>\n",
        "    <tr>\n",
        "      <th>16  </th>\n",
        "      <td>           ASHRAF.M.ZAKI@GMAIL.COM</td>\n",
        "      <td>2012-10-05</td>\n",
        "      <td> 0</td>\n",
        "      <td> 0</td>\n",
        "    </tr>\n",
        "    <tr>\n",
        "      <th>17  </th>\n",
        "      <td>              Adhamada@hotmail.com</td>\n",
        "      <td>2012-07-09</td>\n",
        "      <td> 0</td>\n",
        "      <td> 0</td>\n",
        "    </tr>\n",
        "    <tr>\n",
        "      <th>18  </th>\n",
        "      <td>       Ahmed.Habash@moevenpick.com</td>\n",
        "      <td>2015-04-04</td>\n",
        "      <td> 0</td>\n",
        "      <td> 0</td>\n",
        "    </tr>\n",
        "    <tr>\n",
        "      <th>19  </th>\n",
        "      <td> Ahmed.adel.abdelmonam@hotmail.com</td>\n",
        "      <td>2015-08-24</td>\n",
        "      <td> 0</td>\n",
        "      <td> 0</td>\n",
        "    </tr>\n",
        "    <tr>\n",
        "      <th>20  </th>\n",
        "      <td>           Aliamossallam@gmail.com</td>\n",
        "      <td>2014-10-19</td>\n",
        "      <td> 0</td>\n",
        "      <td> 0</td>\n",
        "    </tr>\n",
        "    <tr>\n",
        "      <th>21  </th>\n",
        "      <td>           Aliamossallam@gmail.com</td>\n",
        "      <td>2014-10-20</td>\n",
        "      <td> 0</td>\n",
        "      <td> 0</td>\n",
        "    </tr>\n",
        "    <tr>\n",
        "      <th>22  </th>\n",
        "      <td>           Aliamossallam@gmail.com</td>\n",
        "      <td>2014-10-24</td>\n",
        "      <td> 0</td>\n",
        "      <td> 0</td>\n",
        "    </tr>\n",
        "    <tr>\n",
        "      <th>23  </th>\n",
        "      <td>           Aliamossallam@gmail.com</td>\n",
        "      <td>2014-10-26</td>\n",
        "      <td> 0</td>\n",
        "      <td> 0</td>\n",
        "    </tr>\n",
        "    <tr>\n",
        "      <th>24  </th>\n",
        "      <td>           Aliamossallam@gmail.com</td>\n",
        "      <td>2014-11-23</td>\n",
        "      <td> 0</td>\n",
        "      <td> 0</td>\n",
        "    </tr>\n",
        "    <tr>\n",
        "      <th>25  </th>\n",
        "      <td>           Aliamossallam@gmail.com</td>\n",
        "      <td>2014-12-15</td>\n",
        "      <td> 0</td>\n",
        "      <td> 0</td>\n",
        "    </tr>\n",
        "    <tr>\n",
        "      <th>26  </th>\n",
        "      <td>           Aliamossallam@gmail.com</td>\n",
        "      <td>2015-01-12</td>\n",
        "      <td> 0</td>\n",
        "      <td> 0</td>\n",
        "    </tr>\n",
        "    <tr>\n",
        "      <th>27  </th>\n",
        "      <td>           Aliamossallam@gmail.com</td>\n",
        "      <td>2015-02-04</td>\n",
        "      <td> 0</td>\n",
        "      <td> 0</td>\n",
        "    </tr>\n",
        "    <tr>\n",
        "      <th>28  </th>\n",
        "      <td>           Aliamossallam@gmail.com</td>\n",
        "      <td>2015-02-05</td>\n",
        "      <td> 0</td>\n",
        "      <td> 0</td>\n",
        "    </tr>\n",
        "    <tr>\n",
        "      <th>29  </th>\n",
        "      <td>           Aliamossallam@gmail.com</td>\n",
        "      <td>2015-03-10</td>\n",
        "      <td> 0</td>\n",
        "      <td> 0</td>\n",
        "    </tr>\n",
        "    <tr>\n",
        "      <th>...</th>\n",
        "      <td>...</td>\n",
        "      <td>...</td>\n",
        "      <td>...</td>\n",
        "      <td>...</td>\n",
        "    </tr>\n",
        "    <tr>\n",
        "      <th>8231</th>\n",
        "      <td>         zeinabahmedtaha@yahoo.com</td>\n",
        "      <td>2013-02-01</td>\n",
        "      <td> 0</td>\n",
        "      <td> 0</td>\n",
        "    </tr>\n",
        "    <tr>\n",
        "      <th>8232</th>\n",
        "      <td>      zeinabkhalil2010@hotmail.com</td>\n",
        "      <td>2015-05-30</td>\n",
        "      <td> 0</td>\n",
        "      <td> 0</td>\n",
        "    </tr>\n",
        "    <tr>\n",
        "      <th>8233</th>\n",
        "      <td>      zeinabkhalil2010@hotmail.com</td>\n",
        "      <td>2015-06-24</td>\n",
        "      <td> 0</td>\n",
        "      <td> 0</td>\n",
        "    </tr>\n",
        "    <tr>\n",
        "      <th>8234</th>\n",
        "      <td>              zeinabnour@gmail.com</td>\n",
        "      <td>2014-11-01</td>\n",
        "      <td> 0</td>\n",
        "      <td> 0</td>\n",
        "    </tr>\n",
        "    <tr>\n",
        "      <th>8235</th>\n",
        "      <td>              zeinabnour@gmail.com</td>\n",
        "      <td>2014-11-02</td>\n",
        "      <td> 0</td>\n",
        "      <td> 0</td>\n",
        "    </tr>\n",
        "    <tr>\n",
        "      <th>8236</th>\n",
        "      <td>              zeinahodroj@live.com</td>\n",
        "      <td>2015-03-22</td>\n",
        "      <td> 0</td>\n",
        "      <td> 0</td>\n",
        "    </tr>\n",
        "    <tr>\n",
        "      <th>8237</th>\n",
        "      <td>              zeinasabry@gmail.com</td>\n",
        "      <td>2013-09-20</td>\n",
        "      <td> 0</td>\n",
        "      <td> 0</td>\n",
        "    </tr>\n",
        "    <tr>\n",
        "      <th>8238</th>\n",
        "      <td>              zeinasabry@gmail.com</td>\n",
        "      <td>2013-10-23</td>\n",
        "      <td> 0</td>\n",
        "      <td> 0</td>\n",
        "    </tr>\n",
        "    <tr>\n",
        "      <th>8239</th>\n",
        "      <td>              zeinasabry@gmail.com</td>\n",
        "      <td>2014-01-05</td>\n",
        "      <td> 0</td>\n",
        "      <td> 0</td>\n",
        "    </tr>\n",
        "    <tr>\n",
        "      <th>8240</th>\n",
        "      <td>              zeinasabry@gmail.com</td>\n",
        "      <td>2014-01-06</td>\n",
        "      <td> 0</td>\n",
        "      <td> 0</td>\n",
        "    </tr>\n",
        "    <tr>\n",
        "      <th>8241</th>\n",
        "      <td>              zeinasabry@gmail.com</td>\n",
        "      <td>2014-03-02</td>\n",
        "      <td> 0</td>\n",
        "      <td> 0</td>\n",
        "    </tr>\n",
        "    <tr>\n",
        "      <th>8242</th>\n",
        "      <td>              zeinasabry@gmail.com</td>\n",
        "      <td>2014-05-28</td>\n",
        "      <td> 0</td>\n",
        "      <td> 0</td>\n",
        "    </tr>\n",
        "    <tr>\n",
        "      <th>8243</th>\n",
        "      <td>               zeinriham@gmail.com</td>\n",
        "      <td>2015-09-14</td>\n",
        "      <td> 0</td>\n",
        "      <td> 0</td>\n",
        "    </tr>\n",
        "    <tr>\n",
        "      <th>8244</th>\n",
        "      <td>               zeinriham@gmail.com</td>\n",
        "      <td>2015-11-24</td>\n",
        "      <td> 0</td>\n",
        "      <td> 0</td>\n",
        "    </tr>\n",
        "    <tr>\n",
        "      <th>8245</th>\n",
        "      <td>           zenaabdelbaky@gmail.com</td>\n",
        "      <td>2014-05-16</td>\n",
        "      <td> 0</td>\n",
        "      <td> 0</td>\n",
        "    </tr>\n",
        "    <tr>\n",
        "      <th>8246</th>\n",
        "      <td>           zenaabdelbaky@gmail.com</td>\n",
        "      <td>2015-07-28</td>\n",
        "      <td> 0</td>\n",
        "      <td> 0</td>\n",
        "    </tr>\n",
        "    <tr>\n",
        "      <th>8247</th>\n",
        "      <td>            zeyadattalla@yahoo.com</td>\n",
        "      <td>2015-05-12</td>\n",
        "      <td> 0</td>\n",
        "      <td> 0</td>\n",
        "    </tr>\n",
        "    <tr>\n",
        "      <th>8248</th>\n",
        "      <td>                ziadihab@gmail.com</td>\n",
        "      <td>2015-04-20</td>\n",
        "      <td> 0</td>\n",
        "      <td> 0</td>\n",
        "    </tr>\n",
        "    <tr>\n",
        "      <th>8249</th>\n",
        "      <td>               ziadusama@ymail.com</td>\n",
        "      <td>2015-12-05</td>\n",
        "      <td> 0</td>\n",
        "      <td> 0</td>\n",
        "    </tr>\n",
        "    <tr>\n",
        "      <th>8250</th>\n",
        "      <td>               zinelhini@yahoo.com</td>\n",
        "      <td>2013-10-07</td>\n",
        "      <td> 0</td>\n",
        "      <td> 0</td>\n",
        "    </tr>\n",
        "    <tr>\n",
        "      <th>8251</th>\n",
        "      <td>                zleseman@gmail.com</td>\n",
        "      <td>2013-02-09</td>\n",
        "      <td> 0</td>\n",
        "      <td> 0</td>\n",
        "    </tr>\n",
        "    <tr>\n",
        "      <th>8252</th>\n",
        "      <td>                zleseman@gmail.com</td>\n",
        "      <td>2013-04-21</td>\n",
        "      <td> 0</td>\n",
        "      <td> 0</td>\n",
        "    </tr>\n",
        "    <tr>\n",
        "      <th>8253</th>\n",
        "      <td>           zolaykha1st@hotmail.com</td>\n",
        "      <td>2014-12-13</td>\n",
        "      <td> 0</td>\n",
        "      <td> 0</td>\n",
        "    </tr>\n",
        "    <tr>\n",
        "      <th>8254</th>\n",
        "      <td>               zshafei@outlook.com</td>\n",
        "      <td>2014-12-28</td>\n",
        "      <td> 0</td>\n",
        "      <td> 0</td>\n",
        "    </tr>\n",
        "    <tr>\n",
        "      <th>8255</th>\n",
        "      <td>               zshafei@outlook.com</td>\n",
        "      <td>2015-01-20</td>\n",
        "      <td> 0</td>\n",
        "      <td> 0</td>\n",
        "    </tr>\n",
        "    <tr>\n",
        "      <th>8256</th>\n",
        "      <td>               zshafei@outlook.com</td>\n",
        "      <td>2015-01-21</td>\n",
        "      <td> 0</td>\n",
        "      <td> 0</td>\n",
        "    </tr>\n",
        "    <tr>\n",
        "      <th>8257</th>\n",
        "      <td>               zshafei@outlook.com</td>\n",
        "      <td>2015-11-02</td>\n",
        "      <td> 0</td>\n",
        "      <td> 0</td>\n",
        "    </tr>\n",
        "    <tr>\n",
        "      <th>8258</th>\n",
        "      <td>               zshafei@outlook.com</td>\n",
        "      <td>2015-11-03</td>\n",
        "      <td> 0</td>\n",
        "      <td> 0</td>\n",
        "    </tr>\n",
        "    <tr>\n",
        "      <th>8259</th>\n",
        "      <td>               zshafei@outlook.com</td>\n",
        "      <td>2015-11-15</td>\n",
        "      <td> 0</td>\n",
        "      <td> 0</td>\n",
        "    </tr>\n",
        "    <tr>\n",
        "      <th>8260</th>\n",
        "      <td>               zshafei@outlook.com</td>\n",
        "      <td>2015-12-03</td>\n",
        "      <td> 0</td>\n",
        "      <td> 0</td>\n",
        "    </tr>\n",
        "  </tbody>\n",
        "</table>\n",
        "<p>8261 rows \u00d7 4 columns</p>\n",
        "</div>"
       ],
       "metadata": {},
       "output_type": "pyout",
       "prompt_number": 3,
       "text": [
        "                                  Email       Date  Difference  Count\n",
        "0            11435mail@mkallenberger.de 2013-05-26           0      0\n",
        "1                         1@gargour.com 2015-01-03           0      0\n",
        "2                         1@gargour.com 2015-04-07           0      0\n",
        "3                     1kttate@gmail.com 2015-08-09           0      0\n",
        "4                     1kttate@gmail.com 2015-08-13           0      0\n",
        "5                     1kttate@gmail.com 2015-08-17           0      0\n",
        "6                     1kttate@gmail.com 2015-08-31           0      0\n",
        "7             1youniqueflower@gmail.com 2014-11-20           0      0\n",
        "8             1youniqueflower@gmail.com 2015-09-01           0      0\n",
        "9             1youniqueflower@gmail.com 2015-11-30           0      0\n",
        "10                   3aliaa.h@gmail.com 2015-03-13           0      0\n",
        "11                   3aliaa.h@gmail.com 2015-03-15           0      0\n",
        "12                   3aliaa.h@gmail.com 2015-04-04           0      0\n",
        "13             777nadiateirah@gmail.com 2015-11-16           0      0\n",
        "14             777nadiateirah@gmail.com 2015-11-21           0      0\n",
        "15                            A2@ed.com 2015-09-12           0      0\n",
        "16              ASHRAF.M.ZAKI@GMAIL.COM 2012-10-05           0      0\n",
        "17                 Adhamada@hotmail.com 2012-07-09           0      0\n",
        "18          Ahmed.Habash@moevenpick.com 2015-04-04           0      0\n",
        "19    Ahmed.adel.abdelmonam@hotmail.com 2015-08-24           0      0\n",
        "20              Aliamossallam@gmail.com 2014-10-19           0      0\n",
        "21              Aliamossallam@gmail.com 2014-10-20           0      0\n",
        "22              Aliamossallam@gmail.com 2014-10-24           0      0\n",
        "23              Aliamossallam@gmail.com 2014-10-26           0      0\n",
        "24              Aliamossallam@gmail.com 2014-11-23           0      0\n",
        "25              Aliamossallam@gmail.com 2014-12-15           0      0\n",
        "26              Aliamossallam@gmail.com 2015-01-12           0      0\n",
        "27              Aliamossallam@gmail.com 2015-02-04           0      0\n",
        "28              Aliamossallam@gmail.com 2015-02-05           0      0\n",
        "29              Aliamossallam@gmail.com 2015-03-10           0      0\n",
        "...                                 ...        ...         ...    ...\n",
        "8231          zeinabahmedtaha@yahoo.com 2013-02-01           0      0\n",
        "8232       zeinabkhalil2010@hotmail.com 2015-05-30           0      0\n",
        "8233       zeinabkhalil2010@hotmail.com 2015-06-24           0      0\n",
        "8234               zeinabnour@gmail.com 2014-11-01           0      0\n",
        "8235               zeinabnour@gmail.com 2014-11-02           0      0\n",
        "8236               zeinahodroj@live.com 2015-03-22           0      0\n",
        "8237               zeinasabry@gmail.com 2013-09-20           0      0\n",
        "8238               zeinasabry@gmail.com 2013-10-23           0      0\n",
        "8239               zeinasabry@gmail.com 2014-01-05           0      0\n",
        "8240               zeinasabry@gmail.com 2014-01-06           0      0\n",
        "8241               zeinasabry@gmail.com 2014-03-02           0      0\n",
        "8242               zeinasabry@gmail.com 2014-05-28           0      0\n",
        "8243                zeinriham@gmail.com 2015-09-14           0      0\n",
        "8244                zeinriham@gmail.com 2015-11-24           0      0\n",
        "8245            zenaabdelbaky@gmail.com 2014-05-16           0      0\n",
        "8246            zenaabdelbaky@gmail.com 2015-07-28           0      0\n",
        "8247             zeyadattalla@yahoo.com 2015-05-12           0      0\n",
        "8248                 ziadihab@gmail.com 2015-04-20           0      0\n",
        "8249                ziadusama@ymail.com 2015-12-05           0      0\n",
        "8250                zinelhini@yahoo.com 2013-10-07           0      0\n",
        "8251                 zleseman@gmail.com 2013-02-09           0      0\n",
        "8252                 zleseman@gmail.com 2013-04-21           0      0\n",
        "8253            zolaykha1st@hotmail.com 2014-12-13           0      0\n",
        "8254                zshafei@outlook.com 2014-12-28           0      0\n",
        "8255                zshafei@outlook.com 2015-01-20           0      0\n",
        "8256                zshafei@outlook.com 2015-01-21           0      0\n",
        "8257                zshafei@outlook.com 2015-11-02           0      0\n",
        "8258                zshafei@outlook.com 2015-11-03           0      0\n",
        "8259                zshafei@outlook.com 2015-11-15           0      0\n",
        "8260                zshafei@outlook.com 2015-12-03           0      0\n",
        "\n",
        "[8261 rows x 4 columns]"
       ]
      }
     ],
     "prompt_number": 3
    },
    {
     "cell_type": "code",
     "collapsed": false,
     "input": [
      "n = 1\n",
      "for i in range(0,max(df1.index)):\n",
      "    if(df1.iloc[i,0]==df1.iloc[i+1,0]):\n",
      "        n = n + 1 #count total number of orders\n",
      "        df1.iloc[i+1,2]=(df1.iloc[i+1,1]-df1.iloc[i,1]).days #count days between orders\n",
      "        if (i == max(df1.index) - 1):\n",
      "            df1.iloc[i + 1,3] = n\n",
      "    else:\n",
      "        df1.iloc[i,3] = n\n",
      "        n = 1\n",
      "\n",
      "df1 = df1.groupby('Email', axis=0, as_index=False).sum()\n",
      "df1"
     ],
     "language": "python",
     "metadata": {},
     "outputs": [
      {
       "html": [
        "<div style=\"max-height:1000px;max-width:1500px;overflow:auto;\">\n",
        "<table border=\"1\" class=\"dataframe\">\n",
        "  <thead>\n",
        "    <tr style=\"text-align: right;\">\n",
        "      <th></th>\n",
        "      <th>Email</th>\n",
        "      <th>Difference</th>\n",
        "      <th>Count</th>\n",
        "    </tr>\n",
        "  </thead>\n",
        "  <tbody>\n",
        "    <tr>\n",
        "      <th>0   </th>\n",
        "      <td>        11435mail@mkallenberger.de</td>\n",
        "      <td>    0</td>\n",
        "      <td>  1</td>\n",
        "    </tr>\n",
        "    <tr>\n",
        "      <th>1   </th>\n",
        "      <td>                     1@gargour.com</td>\n",
        "      <td>   94</td>\n",
        "      <td>  2</td>\n",
        "    </tr>\n",
        "    <tr>\n",
        "      <th>2   </th>\n",
        "      <td>                 1kttate@gmail.com</td>\n",
        "      <td>   22</td>\n",
        "      <td>  4</td>\n",
        "    </tr>\n",
        "    <tr>\n",
        "      <th>3   </th>\n",
        "      <td>         1youniqueflower@gmail.com</td>\n",
        "      <td>  375</td>\n",
        "      <td>  3</td>\n",
        "    </tr>\n",
        "    <tr>\n",
        "      <th>4   </th>\n",
        "      <td>                3aliaa.h@gmail.com</td>\n",
        "      <td>   22</td>\n",
        "      <td>  3</td>\n",
        "    </tr>\n",
        "    <tr>\n",
        "      <th>5   </th>\n",
        "      <td>          777nadiateirah@gmail.com</td>\n",
        "      <td>    5</td>\n",
        "      <td>  2</td>\n",
        "    </tr>\n",
        "    <tr>\n",
        "      <th>6   </th>\n",
        "      <td>                         A2@ed.com</td>\n",
        "      <td>    0</td>\n",
        "      <td>  1</td>\n",
        "    </tr>\n",
        "    <tr>\n",
        "      <th>7   </th>\n",
        "      <td>           ASHRAF.M.ZAKI@GMAIL.COM</td>\n",
        "      <td>    0</td>\n",
        "      <td>  1</td>\n",
        "    </tr>\n",
        "    <tr>\n",
        "      <th>8   </th>\n",
        "      <td>              Adhamada@hotmail.com</td>\n",
        "      <td>    0</td>\n",
        "      <td>  1</td>\n",
        "    </tr>\n",
        "    <tr>\n",
        "      <th>9   </th>\n",
        "      <td>       Ahmed.Habash@moevenpick.com</td>\n",
        "      <td>    0</td>\n",
        "      <td>  1</td>\n",
        "    </tr>\n",
        "    <tr>\n",
        "      <th>10  </th>\n",
        "      <td> Ahmed.adel.abdelmonam@hotmail.com</td>\n",
        "      <td>    0</td>\n",
        "      <td>  1</td>\n",
        "    </tr>\n",
        "    <tr>\n",
        "      <th>11  </th>\n",
        "      <td>           Aliamossallam@gmail.com</td>\n",
        "      <td>  421</td>\n",
        "      <td> 17</td>\n",
        "    </tr>\n",
        "    <tr>\n",
        "      <th>12  </th>\n",
        "      <td>       Andrea.Heilman@aucegypt.edu</td>\n",
        "      <td>   11</td>\n",
        "      <td>  2</td>\n",
        "    </tr>\n",
        "    <tr>\n",
        "      <th>13  </th>\n",
        "      <td>           Asmaa.ahmed@hotmail.com</td>\n",
        "      <td>   16</td>\n",
        "      <td>  4</td>\n",
        "    </tr>\n",
        "    <tr>\n",
        "      <th>14  </th>\n",
        "      <td>            Attia.nevien@gmail.com</td>\n",
        "      <td>    2</td>\n",
        "      <td>  2</td>\n",
        "    </tr>\n",
        "    <tr>\n",
        "      <th>15  </th>\n",
        "      <td>             Ayatheone@hotmail.com</td>\n",
        "      <td>    0</td>\n",
        "      <td>  1</td>\n",
        "    </tr>\n",
        "    <tr>\n",
        "      <th>16  </th>\n",
        "      <td>             Azzassallam@gmail.com</td>\n",
        "      <td>    0</td>\n",
        "      <td>  1</td>\n",
        "    </tr>\n",
        "    <tr>\n",
        "      <th>17  </th>\n",
        "      <td>                 BAGBOUG@yahoo.com</td>\n",
        "      <td>    0</td>\n",
        "      <td>  1</td>\n",
        "    </tr>\n",
        "    <tr>\n",
        "      <th>18  </th>\n",
        "      <td>                 Bakryna@gmail.com</td>\n",
        "      <td>    0</td>\n",
        "      <td>  1</td>\n",
        "    </tr>\n",
        "    <tr>\n",
        "      <th>19  </th>\n",
        "      <td>           Basmaha2010@hotmail.com</td>\n",
        "      <td>    0</td>\n",
        "      <td>  1</td>\n",
        "    </tr>\n",
        "    <tr>\n",
        "      <th>20  </th>\n",
        "      <td>                  Bebi84@gmail.com</td>\n",
        "      <td>   21</td>\n",
        "      <td>  3</td>\n",
        "    </tr>\n",
        "    <tr>\n",
        "      <th>21  </th>\n",
        "      <td>                  Biro5s@yahoo.com</td>\n",
        "      <td>    0</td>\n",
        "      <td>  1</td>\n",
        "    </tr>\n",
        "    <tr>\n",
        "      <th>22  </th>\n",
        "      <td>       Bouchra_erraiss@hotmail.com</td>\n",
        "      <td>    0</td>\n",
        "      <td>  1</td>\n",
        "    </tr>\n",
        "    <tr>\n",
        "      <th>23  </th>\n",
        "      <td>                 Bunny_Chan@web.de</td>\n",
        "      <td>  266</td>\n",
        "      <td>  3</td>\n",
        "    </tr>\n",
        "    <tr>\n",
        "      <th>24  </th>\n",
        "      <td>            Buty_Heart@hotmail.com</td>\n",
        "      <td>    0</td>\n",
        "      <td>  1</td>\n",
        "    </tr>\n",
        "    <tr>\n",
        "      <th>25  </th>\n",
        "      <td>       Camillia.Marmoush@gmail.com</td>\n",
        "      <td>   14</td>\n",
        "      <td>  3</td>\n",
        "    </tr>\n",
        "    <tr>\n",
        "      <th>26  </th>\n",
        "      <td>           Carinesabbagh@gmail.com</td>\n",
        "      <td> 1020</td>\n",
        "      <td> 35</td>\n",
        "    </tr>\n",
        "    <tr>\n",
        "      <th>27  </th>\n",
        "      <td>             Christine@baramki.com</td>\n",
        "      <td>    7</td>\n",
        "      <td>  2</td>\n",
        "    </tr>\n",
        "    <tr>\n",
        "      <th>28  </th>\n",
        "      <td>              DINA_KADRY@YAHOO.COM</td>\n",
        "      <td>    0</td>\n",
        "      <td>  1</td>\n",
        "    </tr>\n",
        "    <tr>\n",
        "      <th>29  </th>\n",
        "      <td>              Daiieldeeb@gmail.com</td>\n",
        "      <td>    0</td>\n",
        "      <td>  1</td>\n",
        "    </tr>\n",
        "    <tr>\n",
        "      <th>...</th>\n",
        "      <td>...</td>\n",
        "      <td>...</td>\n",
        "      <td>...</td>\n",
        "    </tr>\n",
        "    <tr>\n",
        "      <th>2379</th>\n",
        "      <td>              youssefkhalil@me.com</td>\n",
        "      <td>  299</td>\n",
        "      <td>  3</td>\n",
        "    </tr>\n",
        "    <tr>\n",
        "      <th>2380</th>\n",
        "      <td>          youssra.resaie@gmail.com</td>\n",
        "      <td>    0</td>\n",
        "      <td>  1</td>\n",
        "    </tr>\n",
        "    <tr>\n",
        "      <th>2381</th>\n",
        "      <td>                 youssra@gmail.com</td>\n",
        "      <td>    0</td>\n",
        "      <td>  1</td>\n",
        "    </tr>\n",
        "    <tr>\n",
        "      <th>2382</th>\n",
        "      <td>           youssra_kamal@yahoo.com</td>\n",
        "      <td>   64</td>\n",
        "      <td>  3</td>\n",
        "    </tr>\n",
        "    <tr>\n",
        "      <th>2383</th>\n",
        "      <td>         youssraaashmawi@gmail.com</td>\n",
        "      <td>    0</td>\n",
        "      <td>  1</td>\n",
        "    </tr>\n",
        "    <tr>\n",
        "      <th>2384</th>\n",
        "      <td>           yoyothetricky@gmail.com</td>\n",
        "      <td>   10</td>\n",
        "      <td>  2</td>\n",
        "    </tr>\n",
        "    <tr>\n",
        "      <th>2385</th>\n",
        "      <td>               yrelraheb@gmail.com</td>\n",
        "      <td>    0</td>\n",
        "      <td>  1</td>\n",
        "    </tr>\n",
        "    <tr>\n",
        "      <th>2386</th>\n",
        "      <td>               yulbiba@hotmail.com</td>\n",
        "      <td>   63</td>\n",
        "      <td>  4</td>\n",
        "    </tr>\n",
        "    <tr>\n",
        "      <th>2387</th>\n",
        "      <td>             yumnakassim@gmail.com</td>\n",
        "      <td>  299</td>\n",
        "      <td>  2</td>\n",
        "    </tr>\n",
        "    <tr>\n",
        "      <th>2388</th>\n",
        "      <td>              z72addas@hotmail.com</td>\n",
        "      <td>    0</td>\n",
        "      <td>  1</td>\n",
        "    </tr>\n",
        "    <tr>\n",
        "      <th>2389</th>\n",
        "      <td>             zaki.farida@gmail.com</td>\n",
        "      <td>  157</td>\n",
        "      <td>  5</td>\n",
        "    </tr>\n",
        "    <tr>\n",
        "      <th>2390</th>\n",
        "      <td>               zedesem65@gmail.com</td>\n",
        "      <td>    0</td>\n",
        "      <td>  1</td>\n",
        "    </tr>\n",
        "    <tr>\n",
        "      <th>2391</th>\n",
        "      <td>                 zee.nap@gmail.com</td>\n",
        "      <td>    0</td>\n",
        "      <td>  1</td>\n",
        "    </tr>\n",
        "    <tr>\n",
        "      <th>2392</th>\n",
        "      <td>            zeina.kassas@gmail.com</td>\n",
        "      <td>  331</td>\n",
        "      <td>  5</td>\n",
        "    </tr>\n",
        "    <tr>\n",
        "      <th>2393</th>\n",
        "      <td>         zeina_ahmed95@hotmail.com</td>\n",
        "      <td>    0</td>\n",
        "      <td>  1</td>\n",
        "    </tr>\n",
        "    <tr>\n",
        "      <th>2394</th>\n",
        "      <td>            zeina_naim@hotmail.com</td>\n",
        "      <td>    0</td>\n",
        "      <td>  1</td>\n",
        "    </tr>\n",
        "    <tr>\n",
        "      <th>2395</th>\n",
        "      <td>         zeinabahmedtaha@yahoo.com</td>\n",
        "      <td>    0</td>\n",
        "      <td>  1</td>\n",
        "    </tr>\n",
        "    <tr>\n",
        "      <th>2396</th>\n",
        "      <td>      zeinabkhalil2010@hotmail.com</td>\n",
        "      <td>   25</td>\n",
        "      <td>  2</td>\n",
        "    </tr>\n",
        "    <tr>\n",
        "      <th>2397</th>\n",
        "      <td>              zeinabnour@gmail.com</td>\n",
        "      <td>    1</td>\n",
        "      <td>  2</td>\n",
        "    </tr>\n",
        "    <tr>\n",
        "      <th>2398</th>\n",
        "      <td>              zeinahodroj@live.com</td>\n",
        "      <td>    0</td>\n",
        "      <td>  1</td>\n",
        "    </tr>\n",
        "    <tr>\n",
        "      <th>2399</th>\n",
        "      <td>              zeinasabry@gmail.com</td>\n",
        "      <td>  250</td>\n",
        "      <td>  6</td>\n",
        "    </tr>\n",
        "    <tr>\n",
        "      <th>2400</th>\n",
        "      <td>               zeinriham@gmail.com</td>\n",
        "      <td>   71</td>\n",
        "      <td>  2</td>\n",
        "    </tr>\n",
        "    <tr>\n",
        "      <th>2401</th>\n",
        "      <td>           zenaabdelbaky@gmail.com</td>\n",
        "      <td>  438</td>\n",
        "      <td>  2</td>\n",
        "    </tr>\n",
        "    <tr>\n",
        "      <th>2402</th>\n",
        "      <td>            zeyadattalla@yahoo.com</td>\n",
        "      <td>    0</td>\n",
        "      <td>  1</td>\n",
        "    </tr>\n",
        "    <tr>\n",
        "      <th>2403</th>\n",
        "      <td>                ziadihab@gmail.com</td>\n",
        "      <td>    0</td>\n",
        "      <td>  1</td>\n",
        "    </tr>\n",
        "    <tr>\n",
        "      <th>2404</th>\n",
        "      <td>               ziadusama@ymail.com</td>\n",
        "      <td>    0</td>\n",
        "      <td>  1</td>\n",
        "    </tr>\n",
        "    <tr>\n",
        "      <th>2405</th>\n",
        "      <td>               zinelhini@yahoo.com</td>\n",
        "      <td>    0</td>\n",
        "      <td>  1</td>\n",
        "    </tr>\n",
        "    <tr>\n",
        "      <th>2406</th>\n",
        "      <td>                zleseman@gmail.com</td>\n",
        "      <td>   71</td>\n",
        "      <td>  2</td>\n",
        "    </tr>\n",
        "    <tr>\n",
        "      <th>2407</th>\n",
        "      <td>           zolaykha1st@hotmail.com</td>\n",
        "      <td>    0</td>\n",
        "      <td>  1</td>\n",
        "    </tr>\n",
        "    <tr>\n",
        "      <th>2408</th>\n",
        "      <td>               zshafei@outlook.com</td>\n",
        "      <td>  340</td>\n",
        "      <td>  7</td>\n",
        "    </tr>\n",
        "  </tbody>\n",
        "</table>\n",
        "<p>2409 rows \u00d7 3 columns</p>\n",
        "</div>"
       ],
       "metadata": {},
       "output_type": "pyout",
       "prompt_number": 4,
       "text": [
        "                                  Email  Difference  Count\n",
        "0            11435mail@mkallenberger.de           0      1\n",
        "1                         1@gargour.com          94      2\n",
        "2                     1kttate@gmail.com          22      4\n",
        "3             1youniqueflower@gmail.com         375      3\n",
        "4                    3aliaa.h@gmail.com          22      3\n",
        "5              777nadiateirah@gmail.com           5      2\n",
        "6                             A2@ed.com           0      1\n",
        "7               ASHRAF.M.ZAKI@GMAIL.COM           0      1\n",
        "8                  Adhamada@hotmail.com           0      1\n",
        "9           Ahmed.Habash@moevenpick.com           0      1\n",
        "10    Ahmed.adel.abdelmonam@hotmail.com           0      1\n",
        "11              Aliamossallam@gmail.com         421     17\n",
        "12          Andrea.Heilman@aucegypt.edu          11      2\n",
        "13              Asmaa.ahmed@hotmail.com          16      4\n",
        "14               Attia.nevien@gmail.com           2      2\n",
        "15                Ayatheone@hotmail.com           0      1\n",
        "16                Azzassallam@gmail.com           0      1\n",
        "17                    BAGBOUG@yahoo.com           0      1\n",
        "18                    Bakryna@gmail.com           0      1\n",
        "19              Basmaha2010@hotmail.com           0      1\n",
        "20                     Bebi84@gmail.com          21      3\n",
        "21                     Biro5s@yahoo.com           0      1\n",
        "22          Bouchra_erraiss@hotmail.com           0      1\n",
        "23                    Bunny_Chan@web.de         266      3\n",
        "24               Buty_Heart@hotmail.com           0      1\n",
        "25          Camillia.Marmoush@gmail.com          14      3\n",
        "26              Carinesabbagh@gmail.com        1020     35\n",
        "27                Christine@baramki.com           7      2\n",
        "28                 DINA_KADRY@YAHOO.COM           0      1\n",
        "29                 Daiieldeeb@gmail.com           0      1\n",
        "...                                 ...         ...    ...\n",
        "2379               youssefkhalil@me.com         299      3\n",
        "2380           youssra.resaie@gmail.com           0      1\n",
        "2381                  youssra@gmail.com           0      1\n",
        "2382            youssra_kamal@yahoo.com          64      3\n",
        "2383          youssraaashmawi@gmail.com           0      1\n",
        "2384            yoyothetricky@gmail.com          10      2\n",
        "2385                yrelraheb@gmail.com           0      1\n",
        "2386                yulbiba@hotmail.com          63      4\n",
        "2387              yumnakassim@gmail.com         299      2\n",
        "2388               z72addas@hotmail.com           0      1\n",
        "2389              zaki.farida@gmail.com         157      5\n",
        "2390                zedesem65@gmail.com           0      1\n",
        "2391                  zee.nap@gmail.com           0      1\n",
        "2392             zeina.kassas@gmail.com         331      5\n",
        "2393          zeina_ahmed95@hotmail.com           0      1\n",
        "2394             zeina_naim@hotmail.com           0      1\n",
        "2395          zeinabahmedtaha@yahoo.com           0      1\n",
        "2396       zeinabkhalil2010@hotmail.com          25      2\n",
        "2397               zeinabnour@gmail.com           1      2\n",
        "2398               zeinahodroj@live.com           0      1\n",
        "2399               zeinasabry@gmail.com         250      6\n",
        "2400                zeinriham@gmail.com          71      2\n",
        "2401            zenaabdelbaky@gmail.com         438      2\n",
        "2402             zeyadattalla@yahoo.com           0      1\n",
        "2403                 ziadihab@gmail.com           0      1\n",
        "2404                ziadusama@ymail.com           0      1\n",
        "2405                zinelhini@yahoo.com           0      1\n",
        "2406                 zleseman@gmail.com          71      2\n",
        "2407            zolaykha1st@hotmail.com           0      1\n",
        "2408                zshafei@outlook.com         340      7\n",
        "\n",
        "[2409 rows x 3 columns]"
       ]
      }
     ],
     "prompt_number": 4
    },
    {
     "cell_type": "code",
     "collapsed": false,
     "input": [
      "\n",
      "#calculate average days between orders\n",
      "df1['Average'] = df1.apply(lambda x: x['Difference']/float(x['Count']), axis = 1)\n",
      "df1"
     ],
     "language": "python",
     "metadata": {},
     "outputs": [
      {
       "html": [
        "<div style=\"max-height:1000px;max-width:1500px;overflow:auto;\">\n",
        "<table border=\"1\" class=\"dataframe\">\n",
        "  <thead>\n",
        "    <tr style=\"text-align: right;\">\n",
        "      <th></th>\n",
        "      <th>Email</th>\n",
        "      <th>Difference</th>\n",
        "      <th>Count</th>\n",
        "      <th>Average</th>\n",
        "    </tr>\n",
        "  </thead>\n",
        "  <tbody>\n",
        "    <tr>\n",
        "      <th>0   </th>\n",
        "      <td>        11435mail@mkallenberger.de</td>\n",
        "      <td>    0</td>\n",
        "      <td>  1</td>\n",
        "      <td>   0.000000</td>\n",
        "    </tr>\n",
        "    <tr>\n",
        "      <th>1   </th>\n",
        "      <td>                     1@gargour.com</td>\n",
        "      <td>   94</td>\n",
        "      <td>  2</td>\n",
        "      <td>  47.000000</td>\n",
        "    </tr>\n",
        "    <tr>\n",
        "      <th>2   </th>\n",
        "      <td>                 1kttate@gmail.com</td>\n",
        "      <td>   22</td>\n",
        "      <td>  4</td>\n",
        "      <td>   5.500000</td>\n",
        "    </tr>\n",
        "    <tr>\n",
        "      <th>3   </th>\n",
        "      <td>         1youniqueflower@gmail.com</td>\n",
        "      <td>  375</td>\n",
        "      <td>  3</td>\n",
        "      <td> 125.000000</td>\n",
        "    </tr>\n",
        "    <tr>\n",
        "      <th>4   </th>\n",
        "      <td>                3aliaa.h@gmail.com</td>\n",
        "      <td>   22</td>\n",
        "      <td>  3</td>\n",
        "      <td>   7.333333</td>\n",
        "    </tr>\n",
        "    <tr>\n",
        "      <th>5   </th>\n",
        "      <td>          777nadiateirah@gmail.com</td>\n",
        "      <td>    5</td>\n",
        "      <td>  2</td>\n",
        "      <td>   2.500000</td>\n",
        "    </tr>\n",
        "    <tr>\n",
        "      <th>6   </th>\n",
        "      <td>                         A2@ed.com</td>\n",
        "      <td>    0</td>\n",
        "      <td>  1</td>\n",
        "      <td>   0.000000</td>\n",
        "    </tr>\n",
        "    <tr>\n",
        "      <th>7   </th>\n",
        "      <td>           ASHRAF.M.ZAKI@GMAIL.COM</td>\n",
        "      <td>    0</td>\n",
        "      <td>  1</td>\n",
        "      <td>   0.000000</td>\n",
        "    </tr>\n",
        "    <tr>\n",
        "      <th>8   </th>\n",
        "      <td>              Adhamada@hotmail.com</td>\n",
        "      <td>    0</td>\n",
        "      <td>  1</td>\n",
        "      <td>   0.000000</td>\n",
        "    </tr>\n",
        "    <tr>\n",
        "      <th>9   </th>\n",
        "      <td>       Ahmed.Habash@moevenpick.com</td>\n",
        "      <td>    0</td>\n",
        "      <td>  1</td>\n",
        "      <td>   0.000000</td>\n",
        "    </tr>\n",
        "    <tr>\n",
        "      <th>10  </th>\n",
        "      <td> Ahmed.adel.abdelmonam@hotmail.com</td>\n",
        "      <td>    0</td>\n",
        "      <td>  1</td>\n",
        "      <td>   0.000000</td>\n",
        "    </tr>\n",
        "    <tr>\n",
        "      <th>11  </th>\n",
        "      <td>           Aliamossallam@gmail.com</td>\n",
        "      <td>  421</td>\n",
        "      <td> 17</td>\n",
        "      <td>  24.764706</td>\n",
        "    </tr>\n",
        "    <tr>\n",
        "      <th>12  </th>\n",
        "      <td>       Andrea.Heilman@aucegypt.edu</td>\n",
        "      <td>   11</td>\n",
        "      <td>  2</td>\n",
        "      <td>   5.500000</td>\n",
        "    </tr>\n",
        "    <tr>\n",
        "      <th>13  </th>\n",
        "      <td>           Asmaa.ahmed@hotmail.com</td>\n",
        "      <td>   16</td>\n",
        "      <td>  4</td>\n",
        "      <td>   4.000000</td>\n",
        "    </tr>\n",
        "    <tr>\n",
        "      <th>14  </th>\n",
        "      <td>            Attia.nevien@gmail.com</td>\n",
        "      <td>    2</td>\n",
        "      <td>  2</td>\n",
        "      <td>   1.000000</td>\n",
        "    </tr>\n",
        "    <tr>\n",
        "      <th>15  </th>\n",
        "      <td>             Ayatheone@hotmail.com</td>\n",
        "      <td>    0</td>\n",
        "      <td>  1</td>\n",
        "      <td>   0.000000</td>\n",
        "    </tr>\n",
        "    <tr>\n",
        "      <th>16  </th>\n",
        "      <td>             Azzassallam@gmail.com</td>\n",
        "      <td>    0</td>\n",
        "      <td>  1</td>\n",
        "      <td>   0.000000</td>\n",
        "    </tr>\n",
        "    <tr>\n",
        "      <th>17  </th>\n",
        "      <td>                 BAGBOUG@yahoo.com</td>\n",
        "      <td>    0</td>\n",
        "      <td>  1</td>\n",
        "      <td>   0.000000</td>\n",
        "    </tr>\n",
        "    <tr>\n",
        "      <th>18  </th>\n",
        "      <td>                 Bakryna@gmail.com</td>\n",
        "      <td>    0</td>\n",
        "      <td>  1</td>\n",
        "      <td>   0.000000</td>\n",
        "    </tr>\n",
        "    <tr>\n",
        "      <th>19  </th>\n",
        "      <td>           Basmaha2010@hotmail.com</td>\n",
        "      <td>    0</td>\n",
        "      <td>  1</td>\n",
        "      <td>   0.000000</td>\n",
        "    </tr>\n",
        "    <tr>\n",
        "      <th>20  </th>\n",
        "      <td>                  Bebi84@gmail.com</td>\n",
        "      <td>   21</td>\n",
        "      <td>  3</td>\n",
        "      <td>   7.000000</td>\n",
        "    </tr>\n",
        "    <tr>\n",
        "      <th>21  </th>\n",
        "      <td>                  Biro5s@yahoo.com</td>\n",
        "      <td>    0</td>\n",
        "      <td>  1</td>\n",
        "      <td>   0.000000</td>\n",
        "    </tr>\n",
        "    <tr>\n",
        "      <th>22  </th>\n",
        "      <td>       Bouchra_erraiss@hotmail.com</td>\n",
        "      <td>    0</td>\n",
        "      <td>  1</td>\n",
        "      <td>   0.000000</td>\n",
        "    </tr>\n",
        "    <tr>\n",
        "      <th>23  </th>\n",
        "      <td>                 Bunny_Chan@web.de</td>\n",
        "      <td>  266</td>\n",
        "      <td>  3</td>\n",
        "      <td>  88.666667</td>\n",
        "    </tr>\n",
        "    <tr>\n",
        "      <th>24  </th>\n",
        "      <td>            Buty_Heart@hotmail.com</td>\n",
        "      <td>    0</td>\n",
        "      <td>  1</td>\n",
        "      <td>   0.000000</td>\n",
        "    </tr>\n",
        "    <tr>\n",
        "      <th>25  </th>\n",
        "      <td>       Camillia.Marmoush@gmail.com</td>\n",
        "      <td>   14</td>\n",
        "      <td>  3</td>\n",
        "      <td>   4.666667</td>\n",
        "    </tr>\n",
        "    <tr>\n",
        "      <th>26  </th>\n",
        "      <td>           Carinesabbagh@gmail.com</td>\n",
        "      <td> 1020</td>\n",
        "      <td> 35</td>\n",
        "      <td>  29.142857</td>\n",
        "    </tr>\n",
        "    <tr>\n",
        "      <th>27  </th>\n",
        "      <td>             Christine@baramki.com</td>\n",
        "      <td>    7</td>\n",
        "      <td>  2</td>\n",
        "      <td>   3.500000</td>\n",
        "    </tr>\n",
        "    <tr>\n",
        "      <th>28  </th>\n",
        "      <td>              DINA_KADRY@YAHOO.COM</td>\n",
        "      <td>    0</td>\n",
        "      <td>  1</td>\n",
        "      <td>   0.000000</td>\n",
        "    </tr>\n",
        "    <tr>\n",
        "      <th>29  </th>\n",
        "      <td>              Daiieldeeb@gmail.com</td>\n",
        "      <td>    0</td>\n",
        "      <td>  1</td>\n",
        "      <td>   0.000000</td>\n",
        "    </tr>\n",
        "    <tr>\n",
        "      <th>...</th>\n",
        "      <td>...</td>\n",
        "      <td>...</td>\n",
        "      <td>...</td>\n",
        "      <td>...</td>\n",
        "    </tr>\n",
        "    <tr>\n",
        "      <th>2379</th>\n",
        "      <td>              youssefkhalil@me.com</td>\n",
        "      <td>  299</td>\n",
        "      <td>  3</td>\n",
        "      <td>  99.666667</td>\n",
        "    </tr>\n",
        "    <tr>\n",
        "      <th>2380</th>\n",
        "      <td>          youssra.resaie@gmail.com</td>\n",
        "      <td>    0</td>\n",
        "      <td>  1</td>\n",
        "      <td>   0.000000</td>\n",
        "    </tr>\n",
        "    <tr>\n",
        "      <th>2381</th>\n",
        "      <td>                 youssra@gmail.com</td>\n",
        "      <td>    0</td>\n",
        "      <td>  1</td>\n",
        "      <td>   0.000000</td>\n",
        "    </tr>\n",
        "    <tr>\n",
        "      <th>2382</th>\n",
        "      <td>           youssra_kamal@yahoo.com</td>\n",
        "      <td>   64</td>\n",
        "      <td>  3</td>\n",
        "      <td>  21.333333</td>\n",
        "    </tr>\n",
        "    <tr>\n",
        "      <th>2383</th>\n",
        "      <td>         youssraaashmawi@gmail.com</td>\n",
        "      <td>    0</td>\n",
        "      <td>  1</td>\n",
        "      <td>   0.000000</td>\n",
        "    </tr>\n",
        "    <tr>\n",
        "      <th>2384</th>\n",
        "      <td>           yoyothetricky@gmail.com</td>\n",
        "      <td>   10</td>\n",
        "      <td>  2</td>\n",
        "      <td>   5.000000</td>\n",
        "    </tr>\n",
        "    <tr>\n",
        "      <th>2385</th>\n",
        "      <td>               yrelraheb@gmail.com</td>\n",
        "      <td>    0</td>\n",
        "      <td>  1</td>\n",
        "      <td>   0.000000</td>\n",
        "    </tr>\n",
        "    <tr>\n",
        "      <th>2386</th>\n",
        "      <td>               yulbiba@hotmail.com</td>\n",
        "      <td>   63</td>\n",
        "      <td>  4</td>\n",
        "      <td>  15.750000</td>\n",
        "    </tr>\n",
        "    <tr>\n",
        "      <th>2387</th>\n",
        "      <td>             yumnakassim@gmail.com</td>\n",
        "      <td>  299</td>\n",
        "      <td>  2</td>\n",
        "      <td> 149.500000</td>\n",
        "    </tr>\n",
        "    <tr>\n",
        "      <th>2388</th>\n",
        "      <td>              z72addas@hotmail.com</td>\n",
        "      <td>    0</td>\n",
        "      <td>  1</td>\n",
        "      <td>   0.000000</td>\n",
        "    </tr>\n",
        "    <tr>\n",
        "      <th>2389</th>\n",
        "      <td>             zaki.farida@gmail.com</td>\n",
        "      <td>  157</td>\n",
        "      <td>  5</td>\n",
        "      <td>  31.400000</td>\n",
        "    </tr>\n",
        "    <tr>\n",
        "      <th>2390</th>\n",
        "      <td>               zedesem65@gmail.com</td>\n",
        "      <td>    0</td>\n",
        "      <td>  1</td>\n",
        "      <td>   0.000000</td>\n",
        "    </tr>\n",
        "    <tr>\n",
        "      <th>2391</th>\n",
        "      <td>                 zee.nap@gmail.com</td>\n",
        "      <td>    0</td>\n",
        "      <td>  1</td>\n",
        "      <td>   0.000000</td>\n",
        "    </tr>\n",
        "    <tr>\n",
        "      <th>2392</th>\n",
        "      <td>            zeina.kassas@gmail.com</td>\n",
        "      <td>  331</td>\n",
        "      <td>  5</td>\n",
        "      <td>  66.200000</td>\n",
        "    </tr>\n",
        "    <tr>\n",
        "      <th>2393</th>\n",
        "      <td>         zeina_ahmed95@hotmail.com</td>\n",
        "      <td>    0</td>\n",
        "      <td>  1</td>\n",
        "      <td>   0.000000</td>\n",
        "    </tr>\n",
        "    <tr>\n",
        "      <th>2394</th>\n",
        "      <td>            zeina_naim@hotmail.com</td>\n",
        "      <td>    0</td>\n",
        "      <td>  1</td>\n",
        "      <td>   0.000000</td>\n",
        "    </tr>\n",
        "    <tr>\n",
        "      <th>2395</th>\n",
        "      <td>         zeinabahmedtaha@yahoo.com</td>\n",
        "      <td>    0</td>\n",
        "      <td>  1</td>\n",
        "      <td>   0.000000</td>\n",
        "    </tr>\n",
        "    <tr>\n",
        "      <th>2396</th>\n",
        "      <td>      zeinabkhalil2010@hotmail.com</td>\n",
        "      <td>   25</td>\n",
        "      <td>  2</td>\n",
        "      <td>  12.500000</td>\n",
        "    </tr>\n",
        "    <tr>\n",
        "      <th>2397</th>\n",
        "      <td>              zeinabnour@gmail.com</td>\n",
        "      <td>    1</td>\n",
        "      <td>  2</td>\n",
        "      <td>   0.500000</td>\n",
        "    </tr>\n",
        "    <tr>\n",
        "      <th>2398</th>\n",
        "      <td>              zeinahodroj@live.com</td>\n",
        "      <td>    0</td>\n",
        "      <td>  1</td>\n",
        "      <td>   0.000000</td>\n",
        "    </tr>\n",
        "    <tr>\n",
        "      <th>2399</th>\n",
        "      <td>              zeinasabry@gmail.com</td>\n",
        "      <td>  250</td>\n",
        "      <td>  6</td>\n",
        "      <td>  41.666667</td>\n",
        "    </tr>\n",
        "    <tr>\n",
        "      <th>2400</th>\n",
        "      <td>               zeinriham@gmail.com</td>\n",
        "      <td>   71</td>\n",
        "      <td>  2</td>\n",
        "      <td>  35.500000</td>\n",
        "    </tr>\n",
        "    <tr>\n",
        "      <th>2401</th>\n",
        "      <td>           zenaabdelbaky@gmail.com</td>\n",
        "      <td>  438</td>\n",
        "      <td>  2</td>\n",
        "      <td> 219.000000</td>\n",
        "    </tr>\n",
        "    <tr>\n",
        "      <th>2402</th>\n",
        "      <td>            zeyadattalla@yahoo.com</td>\n",
        "      <td>    0</td>\n",
        "      <td>  1</td>\n",
        "      <td>   0.000000</td>\n",
        "    </tr>\n",
        "    <tr>\n",
        "      <th>2403</th>\n",
        "      <td>                ziadihab@gmail.com</td>\n",
        "      <td>    0</td>\n",
        "      <td>  1</td>\n",
        "      <td>   0.000000</td>\n",
        "    </tr>\n",
        "    <tr>\n",
        "      <th>2404</th>\n",
        "      <td>               ziadusama@ymail.com</td>\n",
        "      <td>    0</td>\n",
        "      <td>  1</td>\n",
        "      <td>   0.000000</td>\n",
        "    </tr>\n",
        "    <tr>\n",
        "      <th>2405</th>\n",
        "      <td>               zinelhini@yahoo.com</td>\n",
        "      <td>    0</td>\n",
        "      <td>  1</td>\n",
        "      <td>   0.000000</td>\n",
        "    </tr>\n",
        "    <tr>\n",
        "      <th>2406</th>\n",
        "      <td>                zleseman@gmail.com</td>\n",
        "      <td>   71</td>\n",
        "      <td>  2</td>\n",
        "      <td>  35.500000</td>\n",
        "    </tr>\n",
        "    <tr>\n",
        "      <th>2407</th>\n",
        "      <td>           zolaykha1st@hotmail.com</td>\n",
        "      <td>    0</td>\n",
        "      <td>  1</td>\n",
        "      <td>   0.000000</td>\n",
        "    </tr>\n",
        "    <tr>\n",
        "      <th>2408</th>\n",
        "      <td>               zshafei@outlook.com</td>\n",
        "      <td>  340</td>\n",
        "      <td>  7</td>\n",
        "      <td>  48.571429</td>\n",
        "    </tr>\n",
        "  </tbody>\n",
        "</table>\n",
        "<p>2409 rows \u00d7 4 columns</p>\n",
        "</div>"
       ],
       "metadata": {},
       "output_type": "pyout",
       "prompt_number": 5,
       "text": [
        "                                  Email  Difference  Count     Average\n",
        "0            11435mail@mkallenberger.de           0      1    0.000000\n",
        "1                         1@gargour.com          94      2   47.000000\n",
        "2                     1kttate@gmail.com          22      4    5.500000\n",
        "3             1youniqueflower@gmail.com         375      3  125.000000\n",
        "4                    3aliaa.h@gmail.com          22      3    7.333333\n",
        "5              777nadiateirah@gmail.com           5      2    2.500000\n",
        "6                             A2@ed.com           0      1    0.000000\n",
        "7               ASHRAF.M.ZAKI@GMAIL.COM           0      1    0.000000\n",
        "8                  Adhamada@hotmail.com           0      1    0.000000\n",
        "9           Ahmed.Habash@moevenpick.com           0      1    0.000000\n",
        "10    Ahmed.adel.abdelmonam@hotmail.com           0      1    0.000000\n",
        "11              Aliamossallam@gmail.com         421     17   24.764706\n",
        "12          Andrea.Heilman@aucegypt.edu          11      2    5.500000\n",
        "13              Asmaa.ahmed@hotmail.com          16      4    4.000000\n",
        "14               Attia.nevien@gmail.com           2      2    1.000000\n",
        "15                Ayatheone@hotmail.com           0      1    0.000000\n",
        "16                Azzassallam@gmail.com           0      1    0.000000\n",
        "17                    BAGBOUG@yahoo.com           0      1    0.000000\n",
        "18                    Bakryna@gmail.com           0      1    0.000000\n",
        "19              Basmaha2010@hotmail.com           0      1    0.000000\n",
        "20                     Bebi84@gmail.com          21      3    7.000000\n",
        "21                     Biro5s@yahoo.com           0      1    0.000000\n",
        "22          Bouchra_erraiss@hotmail.com           0      1    0.000000\n",
        "23                    Bunny_Chan@web.de         266      3   88.666667\n",
        "24               Buty_Heart@hotmail.com           0      1    0.000000\n",
        "25          Camillia.Marmoush@gmail.com          14      3    4.666667\n",
        "26              Carinesabbagh@gmail.com        1020     35   29.142857\n",
        "27                Christine@baramki.com           7      2    3.500000\n",
        "28                 DINA_KADRY@YAHOO.COM           0      1    0.000000\n",
        "29                 Daiieldeeb@gmail.com           0      1    0.000000\n",
        "...                                 ...         ...    ...         ...\n",
        "2379               youssefkhalil@me.com         299      3   99.666667\n",
        "2380           youssra.resaie@gmail.com           0      1    0.000000\n",
        "2381                  youssra@gmail.com           0      1    0.000000\n",
        "2382            youssra_kamal@yahoo.com          64      3   21.333333\n",
        "2383          youssraaashmawi@gmail.com           0      1    0.000000\n",
        "2384            yoyothetricky@gmail.com          10      2    5.000000\n",
        "2385                yrelraheb@gmail.com           0      1    0.000000\n",
        "2386                yulbiba@hotmail.com          63      4   15.750000\n",
        "2387              yumnakassim@gmail.com         299      2  149.500000\n",
        "2388               z72addas@hotmail.com           0      1    0.000000\n",
        "2389              zaki.farida@gmail.com         157      5   31.400000\n",
        "2390                zedesem65@gmail.com           0      1    0.000000\n",
        "2391                  zee.nap@gmail.com           0      1    0.000000\n",
        "2392             zeina.kassas@gmail.com         331      5   66.200000\n",
        "2393          zeina_ahmed95@hotmail.com           0      1    0.000000\n",
        "2394             zeina_naim@hotmail.com           0      1    0.000000\n",
        "2395          zeinabahmedtaha@yahoo.com           0      1    0.000000\n",
        "2396       zeinabkhalil2010@hotmail.com          25      2   12.500000\n",
        "2397               zeinabnour@gmail.com           1      2    0.500000\n",
        "2398               zeinahodroj@live.com           0      1    0.000000\n",
        "2399               zeinasabry@gmail.com         250      6   41.666667\n",
        "2400                zeinriham@gmail.com          71      2   35.500000\n",
        "2401            zenaabdelbaky@gmail.com         438      2  219.000000\n",
        "2402             zeyadattalla@yahoo.com           0      1    0.000000\n",
        "2403                 ziadihab@gmail.com           0      1    0.000000\n",
        "2404                ziadusama@ymail.com           0      1    0.000000\n",
        "2405                zinelhini@yahoo.com           0      1    0.000000\n",
        "2406                 zleseman@gmail.com          71      2   35.500000\n",
        "2407            zolaykha1st@hotmail.com           0      1    0.000000\n",
        "2408                zshafei@outlook.com         340      7   48.571429\n",
        "\n",
        "[2409 rows x 4 columns]"
       ]
      }
     ],
     "prompt_number": 5
    },
    {
     "cell_type": "code",
     "collapsed": false,
     "input": [
      "df2 = pd.read_csv('C:\\Users\\saisree849\\Documents\\GitHub\\NGS-2.0\\\\12_dashboard_tables\\data_input\\shopify\\customers_export.csv', low_memory=False)\n",
      "df2 = df1.merge(df2, on = ['Email'], how = 'inner')\n",
      "df2"
     ],
     "language": "python",
     "metadata": {},
     "outputs": [
      {
       "html": [
        "<div style=\"max-height:1000px;max-width:1500px;overflow:auto;\">\n",
        "<table border=\"1\" class=\"dataframe\">\n",
        "  <thead>\n",
        "    <tr style=\"text-align: right;\">\n",
        "      <th></th>\n",
        "      <th>Email</th>\n",
        "      <th>Difference</th>\n",
        "      <th>Count</th>\n",
        "      <th>Average</th>\n",
        "      <th>First Name</th>\n",
        "      <th>Last Name</th>\n",
        "      <th>Company</th>\n",
        "      <th>Address1</th>\n",
        "      <th>Address2</th>\n",
        "      <th>City</th>\n",
        "      <th>...</th>\n",
        "      <th>Country</th>\n",
        "      <th>Country Code</th>\n",
        "      <th>Zip</th>\n",
        "      <th>Phone</th>\n",
        "      <th>Accepts Marketing</th>\n",
        "      <th>Total Spent</th>\n",
        "      <th>Total Orders</th>\n",
        "      <th>Tags</th>\n",
        "      <th>Note</th>\n",
        "      <th>Tax Exempt</th>\n",
        "    </tr>\n",
        "  </thead>\n",
        "  <tbody>\n",
        "    <tr>\n",
        "      <th>0   </th>\n",
        "      <td>        11435mail@mkallenberger.de</td>\n",
        "      <td>    0</td>\n",
        "      <td>  1</td>\n",
        "      <td>   0.000000</td>\n",
        "      <td>  Magdalena</td>\n",
        "      <td> Kallenberger</td>\n",
        "      <td>      NaN</td>\n",
        "      <td>                    3/4, road 221, El Maadi, Cairo</td>\n",
        "      <td>                              NaN</td>\n",
        "      <td>                          Cairo</td>\n",
        "      <td>...</td>\n",
        "      <td> Egypt</td>\n",
        "      <td> EG</td>\n",
        "      <td>          11435</td>\n",
        "      <td>                 01090904137</td>\n",
        "      <td> yes</td>\n",
        "      <td>   277.17</td>\n",
        "      <td>  1</td>\n",
        "      <td>                  NaN</td>\n",
        "      <td> NaN</td>\n",
        "      <td> no</td>\n",
        "    </tr>\n",
        "    <tr>\n",
        "      <th>1   </th>\n",
        "      <td>                     1@gargour.com</td>\n",
        "      <td>   94</td>\n",
        "      <td>  2</td>\n",
        "      <td>  47.000000</td>\n",
        "      <td>     Alain </td>\n",
        "      <td>       Phar\u00e8s</td>\n",
        "      <td> Gargour </td>\n",
        "      <td>                                   31 golf street </td>\n",
        "      <td>                       app 69/6th</td>\n",
        "      <td>                          maadi</td>\n",
        "      <td>...</td>\n",
        "      <td> Egypt</td>\n",
        "      <td> EG</td>\n",
        "      <td>          11511</td>\n",
        "      <td>                 01222160835</td>\n",
        "      <td>  no</td>\n",
        "      <td>  1021.10</td>\n",
        "      <td>  2</td>\n",
        "      <td>                  NaN</td>\n",
        "      <td> NaN</td>\n",
        "      <td> no</td>\n",
        "    </tr>\n",
        "    <tr>\n",
        "      <th>2   </th>\n",
        "      <td>                 1kttate@gmail.com</td>\n",
        "      <td>   22</td>\n",
        "      <td>  4</td>\n",
        "      <td>   5.500000</td>\n",
        "      <td>      Kelly</td>\n",
        "      <td>         Tate</td>\n",
        "      <td>      NaN</td>\n",
        "      <td> Street 33, Building 154, Area 1, Group 2, Taga...</td>\n",
        "      <td>                            Apt 3</td>\n",
        "      <td>                      New Cairo</td>\n",
        "      <td>...</td>\n",
        "      <td> Egypt</td>\n",
        "      <td> EG</td>\n",
        "      <td>          00000</td>\n",
        "      <td>                 01023063292</td>\n",
        "      <td>  no</td>\n",
        "      <td>   399.00</td>\n",
        "      <td>  4</td>\n",
        "      <td>                  NaN</td>\n",
        "      <td> NaN</td>\n",
        "      <td> no</td>\n",
        "    </tr>\n",
        "    <tr>\n",
        "      <th>3   </th>\n",
        "      <td>         1youniqueflower@gmail.com</td>\n",
        "      <td>  375</td>\n",
        "      <td>  3</td>\n",
        "      <td> 125.000000</td>\n",
        "      <td>       Lara</td>\n",
        "      <td>        Scott</td>\n",
        "      <td>      NaN</td>\n",
        "      <td>                             23 Abdalla Deraz St. </td>\n",
        "      <td>      #203 - 2nd Floor, left side</td>\n",
        "      <td> Ard el Golf, Heliopolis, Cairo</td>\n",
        "      <td>...</td>\n",
        "      <td> Egypt</td>\n",
        "      <td> EG</td>\n",
        "      <td>          11341</td>\n",
        "      <td>                 01221124426</td>\n",
        "      <td>  no</td>\n",
        "      <td>   936.00</td>\n",
        "      <td>  3</td>\n",
        "      <td>                  NaN</td>\n",
        "      <td> NaN</td>\n",
        "      <td> no</td>\n",
        "    </tr>\n",
        "    <tr>\n",
        "      <th>4   </th>\n",
        "      <td>                3aliaa.h@gmail.com</td>\n",
        "      <td>   22</td>\n",
        "      <td>  3</td>\n",
        "      <td>   7.333333</td>\n",
        "      <td>    mohamed</td>\n",
        "      <td>        tolba</td>\n",
        "      <td>      NaN</td>\n",
        "      <td>                      11 shams el din el koufy st </td>\n",
        "      <td>                               17</td>\n",
        "      <td>                     heliopolis</td>\n",
        "      <td>...</td>\n",
        "      <td> Egypt</td>\n",
        "      <td> EG</td>\n",
        "      <td>          11371</td>\n",
        "      <td>                 01001436666</td>\n",
        "      <td>  no</td>\n",
        "      <td>   187.00</td>\n",
        "      <td>  3</td>\n",
        "      <td>                  NaN</td>\n",
        "      <td> NaN</td>\n",
        "      <td> no</td>\n",
        "    </tr>\n",
        "    <tr>\n",
        "      <th>5   </th>\n",
        "      <td>          777nadiateirah@gmail.com</td>\n",
        "      <td>    5</td>\n",
        "      <td>  2</td>\n",
        "      <td>   2.500000</td>\n",
        "      <td>      Nadia</td>\n",
        "      <td>       Teirah</td>\n",
        "      <td>      NaN</td>\n",
        "      <td> roxi 4 mafaza street /behind costa cafe 3rd fl...</td>\n",
        "      <td>                              NaN</td>\n",
        "      <td>                          Cairo</td>\n",
        "      <td>...</td>\n",
        "      <td> Egypt</td>\n",
        "      <td> EG</td>\n",
        "      <td>         Am1234</td>\n",
        "      <td>                 01005510543</td>\n",
        "      <td>  no</td>\n",
        "      <td>     0.00</td>\n",
        "      <td>  2</td>\n",
        "      <td>                  NaN</td>\n",
        "      <td> NaN</td>\n",
        "      <td> no</td>\n",
        "    </tr>\n",
        "    <tr>\n",
        "      <th>6   </th>\n",
        "      <td>                         A2@ed.com</td>\n",
        "      <td>    0</td>\n",
        "      <td>  1</td>\n",
        "      <td>   0.000000</td>\n",
        "      <td>    Aladdin</td>\n",
        "      <td>        Nabil</td>\n",
        "      <td> TEst 123</td>\n",
        "      <td>                                  Hadayek al ahram</td>\n",
        "      <td>                               20</td>\n",
        "      <td>                          Ahram</td>\n",
        "      <td>...</td>\n",
        "      <td> Egypt</td>\n",
        "      <td> EG</td>\n",
        "      <td>        5253258</td>\n",
        "      <td>               0100001224555</td>\n",
        "      <td>  no</td>\n",
        "      <td>     0.00</td>\n",
        "      <td>  1</td>\n",
        "      <td>                  NaN</td>\n",
        "      <td> NaN</td>\n",
        "      <td> no</td>\n",
        "    </tr>\n",
        "    <tr>\n",
        "      <th>7   </th>\n",
        "      <td>           ASHRAF.M.ZAKI@GMAIL.COM</td>\n",
        "      <td>    0</td>\n",
        "      <td>  1</td>\n",
        "      <td>   0.000000</td>\n",
        "      <td>     ASHRAF</td>\n",
        "      <td>         ZAKI</td>\n",
        "      <td>      NaN</td>\n",
        "      <td>            19 Gabalayah Street, 9th Floor, Apt 92</td>\n",
        "      <td>                          Zamalek</td>\n",
        "      <td>                          Cairo</td>\n",
        "      <td>...</td>\n",
        "      <td> Egypt</td>\n",
        "      <td> EG</td>\n",
        "      <td>          12211</td>\n",
        "      <td>                 01222174854</td>\n",
        "      <td>  no</td>\n",
        "      <td>   310.18</td>\n",
        "      <td>  1</td>\n",
        "      <td>                  NaN</td>\n",
        "      <td> NaN</td>\n",
        "      <td> no</td>\n",
        "    </tr>\n",
        "    <tr>\n",
        "      <th>8   </th>\n",
        "      <td>              Adhamada@hotmail.com</td>\n",
        "      <td>    0</td>\n",
        "      <td>  1</td>\n",
        "      <td>   0.000000</td>\n",
        "      <td>      Adham</td>\n",
        "      <td>       Hamada</td>\n",
        "      <td>      NaN</td>\n",
        "      <td>                5 eskandar el Akbar st. Heliopolis</td>\n",
        "      <td>                      First floor</td>\n",
        "      <td>                          Cairo</td>\n",
        "      <td>...</td>\n",
        "      <td> Egypt</td>\n",
        "      <td> EG</td>\n",
        "      <td>          00000</td>\n",
        "      <td>                 01223221581</td>\n",
        "      <td> yes</td>\n",
        "      <td>    71.20</td>\n",
        "      <td>  1</td>\n",
        "      <td>                  NaN</td>\n",
        "      <td> NaN</td>\n",
        "      <td> no</td>\n",
        "    </tr>\n",
        "    <tr>\n",
        "      <th>9   </th>\n",
        "      <td>       Ahmed.Habash@moevenpick.com</td>\n",
        "      <td>    0</td>\n",
        "      <td>  1</td>\n",
        "      <td>   0.000000</td>\n",
        "      <td>      Ahmed</td>\n",
        "      <td>       Habash</td>\n",
        "      <td>      NaN</td>\n",
        "      <td> 6th settelment, infront of Coca Cola Company, ...</td>\n",
        "      <td>                              NaN</td>\n",
        "      <td>                          Cairo</td>\n",
        "      <td>...</td>\n",
        "      <td> Egypt</td>\n",
        "      <td> EG</td>\n",
        "      <td>          00202</td>\n",
        "      <td>                 01066656222</td>\n",
        "      <td>  no</td>\n",
        "      <td>   370.00</td>\n",
        "      <td>  1</td>\n",
        "      <td>                  NaN</td>\n",
        "      <td> NaN</td>\n",
        "      <td> no</td>\n",
        "    </tr>\n",
        "    <tr>\n",
        "      <th>10  </th>\n",
        "      <td> Ahmed.adel.abdelmonam@hotmail.com</td>\n",
        "      <td>    0</td>\n",
        "      <td>  1</td>\n",
        "      <td>   0.000000</td>\n",
        "      <td>      Ahmed</td>\n",
        "      <td>         Adel</td>\n",
        "      <td>      NaN</td>\n",
        "      <td>                24 Extension Abo Dawood El Zahery </td>\n",
        "      <td>              3rd Floor. Apt, 306</td>\n",
        "      <td>                      Nasr City</td>\n",
        "      <td>...</td>\n",
        "      <td> Egypt</td>\n",
        "      <td> EG</td>\n",
        "      <td>          00000</td>\n",
        "      <td>                 01060002000</td>\n",
        "      <td>  no</td>\n",
        "      <td>   434.00</td>\n",
        "      <td>  1</td>\n",
        "      <td>                  NaN</td>\n",
        "      <td> NaN</td>\n",
        "      <td> no</td>\n",
        "    </tr>\n",
        "    <tr>\n",
        "      <th>11  </th>\n",
        "      <td>           Aliamossallam@gmail.com</td>\n",
        "      <td>  421</td>\n",
        "      <td> 17</td>\n",
        "      <td>  24.764706</td>\n",
        "      <td>       Alia</td>\n",
        "      <td>    Mossallam</td>\n",
        "      <td>      NaN</td>\n",
        "      <td>                              59 Road 14, Moqattam</td>\n",
        "      <td>                        4th floor</td>\n",
        "      <td>                          Cairo</td>\n",
        "      <td>...</td>\n",
        "      <td> Egypt</td>\n",
        "      <td> EG</td>\n",
        "      <td>          15565</td>\n",
        "      <td>                 01222344036</td>\n",
        "      <td>  no</td>\n",
        "      <td>  5983.32</td>\n",
        "      <td> 24</td>\n",
        "      <td>                  NaN</td>\n",
        "      <td> NaN</td>\n",
        "      <td> no</td>\n",
        "    </tr>\n",
        "    <tr>\n",
        "      <th>12  </th>\n",
        "      <td>       Andrea.Heilman@aucegypt.edu</td>\n",
        "      <td>   11</td>\n",
        "      <td>  2</td>\n",
        "      <td>   5.500000</td>\n",
        "      <td>     Andrea</td>\n",
        "      <td>      Heilman</td>\n",
        "      <td>      NaN</td>\n",
        "      <td>                       16 Mohammed Thakeb, Zamalek</td>\n",
        "      <td>                              805</td>\n",
        "      <td>                          Cairo</td>\n",
        "      <td>...</td>\n",
        "      <td> Egypt</td>\n",
        "      <td> EG</td>\n",
        "      <td>           0000</td>\n",
        "      <td>                 01202070773</td>\n",
        "      <td>  no</td>\n",
        "      <td>   426.80</td>\n",
        "      <td>  4</td>\n",
        "      <td>                  NaN</td>\n",
        "      <td> NaN</td>\n",
        "      <td> no</td>\n",
        "    </tr>\n",
        "    <tr>\n",
        "      <th>13  </th>\n",
        "      <td>           Asmaa.ahmed@hotmail.com</td>\n",
        "      <td>   16</td>\n",
        "      <td>  4</td>\n",
        "      <td>   4.000000</td>\n",
        "      <td>      Asmaa</td>\n",
        "      <td>        Ahmed</td>\n",
        "      <td>      NaN</td>\n",
        "      <td>               Nasr city*Car Market*Shaban Company</td>\n",
        "      <td>                    10th district</td>\n",
        "      <td>                          Cairo</td>\n",
        "      <td>...</td>\n",
        "      <td> Egypt</td>\n",
        "      <td> EG</td>\n",
        "      <td>          hb123</td>\n",
        "      <td> 01026442230     01093551807</td>\n",
        "      <td>  no</td>\n",
        "      <td>     0.00</td>\n",
        "      <td>  4</td>\n",
        "      <td>                  NaN</td>\n",
        "      <td> NaN</td>\n",
        "      <td> no</td>\n",
        "    </tr>\n",
        "    <tr>\n",
        "      <th>14  </th>\n",
        "      <td>            Attia.nevien@gmail.com</td>\n",
        "      <td>    2</td>\n",
        "      <td>  2</td>\n",
        "      <td>   1.000000</td>\n",
        "      <td>     Sherif</td>\n",
        "      <td>        Saleh</td>\n",
        "      <td>      NaN</td>\n",
        "      <td> 19 El gablya street /el zamalek - lobon buildi...</td>\n",
        "      <td>                              NaN</td>\n",
        "      <td>                          Cairo</td>\n",
        "      <td>...</td>\n",
        "      <td> Egypt</td>\n",
        "      <td> EG</td>\n",
        "      <td>          00202</td>\n",
        "      <td>                 01222103099</td>\n",
        "      <td>  no</td>\n",
        "      <td>   157.00</td>\n",
        "      <td>  3</td>\n",
        "      <td>                  NaN</td>\n",
        "      <td> NaN</td>\n",
        "      <td> no</td>\n",
        "    </tr>\n",
        "    <tr>\n",
        "      <th>15  </th>\n",
        "      <td>             Azzassallam@gmail.com</td>\n",
        "      <td>    0</td>\n",
        "      <td>  1</td>\n",
        "      <td>   0.000000</td>\n",
        "      <td>       Azza</td>\n",
        "      <td>       Sallam</td>\n",
        "      <td>      NaN</td>\n",
        "      <td> group 45 - bulding 5 - flat 4 groud floor - re...</td>\n",
        "      <td>                              NaN</td>\n",
        "      <td>                          Cairo</td>\n",
        "      <td>...</td>\n",
        "      <td> Egypt</td>\n",
        "      <td> EG</td>\n",
        "      <td>          00202</td>\n",
        "      <td>                 01019078478</td>\n",
        "      <td>  no</td>\n",
        "      <td>    60.00</td>\n",
        "      <td>  1</td>\n",
        "      <td>                  NaN</td>\n",
        "      <td> NaN</td>\n",
        "      <td> no</td>\n",
        "    </tr>\n",
        "    <tr>\n",
        "      <th>16  </th>\n",
        "      <td>                 BAGBOUG@yahoo.com</td>\n",
        "      <td>    0</td>\n",
        "      <td>  1</td>\n",
        "      <td>   0.000000</td>\n",
        "      <td>   Brigitte</td>\n",
        "      <td>        Kamal</td>\n",
        "      <td>      NaN</td>\n",
        "      <td> 31 Hamouda Mahmoud from end of Makram ebeid , ...</td>\n",
        "      <td>                               62</td>\n",
        "      <td>                          cairo</td>\n",
        "      <td>...</td>\n",
        "      <td> Egypt</td>\n",
        "      <td> EG</td>\n",
        "      <td>          11762</td>\n",
        "      <td>                 01141224422</td>\n",
        "      <td>  no</td>\n",
        "      <td>   128.50</td>\n",
        "      <td>  1</td>\n",
        "      <td>                  NaN</td>\n",
        "      <td> NaN</td>\n",
        "      <td> no</td>\n",
        "    </tr>\n",
        "    <tr>\n",
        "      <th>17  </th>\n",
        "      <td>                 Bakryna@gmail.com</td>\n",
        "      <td>    0</td>\n",
        "      <td>  1</td>\n",
        "      <td>   0.000000</td>\n",
        "      <td>        Nna</td>\n",
        "      <td>        Bakry</td>\n",
        "      <td>      NaN</td>\n",
        "      <td>        37 shehab street , floor 15th appartment 1</td>\n",
        "      <td>                        Mohandisn</td>\n",
        "      <td>                          Cairo</td>\n",
        "      <td>...</td>\n",
        "      <td> Egypt</td>\n",
        "      <td> EG</td>\n",
        "      <td>            001</td>\n",
        "      <td>                         NaN</td>\n",
        "      <td> yes</td>\n",
        "      <td>   132.25</td>\n",
        "      <td>  1</td>\n",
        "      <td>                  NaN</td>\n",
        "      <td> NaN</td>\n",
        "      <td> no</td>\n",
        "    </tr>\n",
        "    <tr>\n",
        "      <th>18  </th>\n",
        "      <td>           Basmaha2010@hotmail.com</td>\n",
        "      <td>    0</td>\n",
        "      <td>  1</td>\n",
        "      <td>   0.000000</td>\n",
        "      <td>      Basma</td>\n",
        "      <td>      Elgazar</td>\n",
        "      <td>      NaN</td>\n",
        "      <td>                        31 lotfi hassona st, dokki</td>\n",
        "      <td>                              NaN</td>\n",
        "      <td>                          Cairo</td>\n",
        "      <td>...</td>\n",
        "      <td> Egypt</td>\n",
        "      <td> EG</td>\n",
        "      <td>          12611</td>\n",
        "      <td>                 01117005877</td>\n",
        "      <td>  no</td>\n",
        "      <td>    70.00</td>\n",
        "      <td>  1</td>\n",
        "      <td>                  NaN</td>\n",
        "      <td> NaN</td>\n",
        "      <td> no</td>\n",
        "    </tr>\n",
        "    <tr>\n",
        "      <th>19  </th>\n",
        "      <td>                  Bebi84@gmail.com</td>\n",
        "      <td>   21</td>\n",
        "      <td>  3</td>\n",
        "      <td>   7.000000</td>\n",
        "      <td>       Heba</td>\n",
        "      <td>        Ragab</td>\n",
        "      <td>      NaN</td>\n",
        "      <td>              54,Mohi el din abuo el ezz,st,dokii,</td>\n",
        "      <td>                 floor 10, apt 33</td>\n",
        "      <td>                          Cairo</td>\n",
        "      <td>...</td>\n",
        "      <td> Egypt</td>\n",
        "      <td> EG</td>\n",
        "      <td>          12611</td>\n",
        "      <td>                 01009599615</td>\n",
        "      <td> yes</td>\n",
        "      <td>   753.39</td>\n",
        "      <td>  5</td>\n",
        "      <td>                  NaN</td>\n",
        "      <td> NaN</td>\n",
        "      <td> no</td>\n",
        "    </tr>\n",
        "    <tr>\n",
        "      <th>20  </th>\n",
        "      <td>       Bouchra_erraiss@hotmail.com</td>\n",
        "      <td>    0</td>\n",
        "      <td>  1</td>\n",
        "      <td>   0.000000</td>\n",
        "      <td>     Haisam</td>\n",
        "      <td>      Soliman</td>\n",
        "      <td>      NaN</td>\n",
        "      <td>             Villa 14/4 abdelwahab mohammed street</td>\n",
        "      <td>                    Al rehab city</td>\n",
        "      <td>                          Cairo</td>\n",
        "      <td>...</td>\n",
        "      <td> Egypt</td>\n",
        "      <td> EG</td>\n",
        "      <td>          11841</td>\n",
        "      <td>                 01202244355</td>\n",
        "      <td> yes</td>\n",
        "      <td>   300.75</td>\n",
        "      <td>  1</td>\n",
        "      <td>                  NaN</td>\n",
        "      <td> NaN</td>\n",
        "      <td> no</td>\n",
        "    </tr>\n",
        "    <tr>\n",
        "      <th>21  </th>\n",
        "      <td>                 Bunny_Chan@web.de</td>\n",
        "      <td>  266</td>\n",
        "      <td>  3</td>\n",
        "      <td>  88.666667</td>\n",
        "      <td>     Yasser</td>\n",
        "      <td>        Awadd</td>\n",
        "      <td>      NaN</td>\n",
        "      <td> 1 Mohamed Mamoon Street, Apt 10; near Hegaz Sq...</td>\n",
        "      <td>                              NaN</td>\n",
        "      <td>                          Cairo</td>\n",
        "      <td>...</td>\n",
        "      <td> Egypt</td>\n",
        "      <td> EG</td>\n",
        "      <td>          11321</td>\n",
        "      <td>                 01003588073</td>\n",
        "      <td>  no</td>\n",
        "      <td>   432.00</td>\n",
        "      <td>  3</td>\n",
        "      <td>                  NaN</td>\n",
        "      <td> NaN</td>\n",
        "      <td> no</td>\n",
        "    </tr>\n",
        "    <tr>\n",
        "      <th>22  </th>\n",
        "      <td>            Buty_Heart@hotmail.com</td>\n",
        "      <td>    0</td>\n",
        "      <td>  1</td>\n",
        "      <td>   0.000000</td>\n",
        "      <td>      Asmaa</td>\n",
        "      <td>       Medaht</td>\n",
        "      <td>  Carrier</td>\n",
        "      <td> Km 28, Cairo Alexandria Desert Rd., Smart Vill...</td>\n",
        "      <td>                          Carrier</td>\n",
        "      <td>                           Giza</td>\n",
        "      <td>...</td>\n",
        "      <td> Egypt</td>\n",
        "      <td> EG</td>\n",
        "      <td>          11511</td>\n",
        "      <td>               +201007901118</td>\n",
        "      <td>  no</td>\n",
        "      <td>   352.00</td>\n",
        "      <td>  1</td>\n",
        "      <td>                  NaN</td>\n",
        "      <td> NaN</td>\n",
        "      <td> no</td>\n",
        "    </tr>\n",
        "    <tr>\n",
        "      <th>23  </th>\n",
        "      <td>       Camillia.Marmoush@gmail.com</td>\n",
        "      <td>   14</td>\n",
        "      <td>  3</td>\n",
        "      <td>   4.666667</td>\n",
        "      <td>  Camillia </td>\n",
        "      <td>     Marmoush</td>\n",
        "      <td>      NaN</td>\n",
        "      <td> 5th district Amr ebn elass st.0*area h*south o...</td>\n",
        "      <td>                         Villa107</td>\n",
        "      <td>                          Cairo</td>\n",
        "      <td>...</td>\n",
        "      <td> Egypt</td>\n",
        "      <td> EG</td>\n",
        "      <td>          hb123</td>\n",
        "      <td>                 01002280010</td>\n",
        "      <td>  no</td>\n",
        "      <td>   291.70</td>\n",
        "      <td>  5</td>\n",
        "      <td>                  NaN</td>\n",
        "      <td> NaN</td>\n",
        "      <td> no</td>\n",
        "    </tr>\n",
        "    <tr>\n",
        "      <th>24  </th>\n",
        "      <td>           Carinesabbagh@gmail.com</td>\n",
        "      <td> 1020</td>\n",
        "      <td> 35</td>\n",
        "      <td>  29.142857</td>\n",
        "      <td>     carine</td>\n",
        "      <td>      sabbagh</td>\n",
        "      <td>      NaN</td>\n",
        "      <td>         11 Rashdan st. dokki off of mesaha square</td>\n",
        "      <td>                 5th floor apt 13</td>\n",
        "      <td>                          cairo</td>\n",
        "      <td>...</td>\n",
        "      <td> Egypt</td>\n",
        "      <td> EG</td>\n",
        "      <td>           1111</td>\n",
        "      <td>                 01000100745</td>\n",
        "      <td> yes</td>\n",
        "      <td> 13135.70</td>\n",
        "      <td> 42</td>\n",
        "      <td>                  NaN</td>\n",
        "      <td> NaN</td>\n",
        "      <td> no</td>\n",
        "    </tr>\n",
        "    <tr>\n",
        "      <th>25  </th>\n",
        "      <td>              DINA_KADRY@YAHOO.COM</td>\n",
        "      <td>    0</td>\n",
        "      <td>  1</td>\n",
        "      <td>   0.000000</td>\n",
        "      <td>       Dina</td>\n",
        "      <td>        Kadry</td>\n",
        "      <td>      NaN</td>\n",
        "      <td> Almostathmeroun Alshamaleya / of 90th road / a...</td>\n",
        "      <td> building number 5 - Beh - app. 7</td>\n",
        "      <td>                          cairo</td>\n",
        "      <td>...</td>\n",
        "      <td> Egypt</td>\n",
        "      <td> EG</td>\n",
        "      <td>          hb123</td>\n",
        "      <td>                 01000993094</td>\n",
        "      <td>  no</td>\n",
        "      <td>     0.00</td>\n",
        "      <td>  1</td>\n",
        "      <td>                  NaN</td>\n",
        "      <td> NaN</td>\n",
        "      <td> no</td>\n",
        "    </tr>\n",
        "    <tr>\n",
        "      <th>26  </th>\n",
        "      <td>              Daiieldeeb@gmail.com</td>\n",
        "      <td>    0</td>\n",
        "      <td>  1</td>\n",
        "      <td>   0.000000</td>\n",
        "      <td>       Daii</td>\n",
        "      <td>          Ali</td>\n",
        "      <td>      NaN</td>\n",
        "      <td> Plot 9519, Adly El Meligy St. Off Rd. 9, Mokat...</td>\n",
        "      <td>                              NaN</td>\n",
        "      <td>                          Cairo</td>\n",
        "      <td>...</td>\n",
        "      <td> Egypt</td>\n",
        "      <td> EG</td>\n",
        "      <td>          11571</td>\n",
        "      <td>                 01111397206</td>\n",
        "      <td>  no</td>\n",
        "      <td>     0.00</td>\n",
        "      <td>  1</td>\n",
        "      <td>                  NaN</td>\n",
        "      <td> NaN</td>\n",
        "      <td> no</td>\n",
        "    </tr>\n",
        "    <tr>\n",
        "      <th>27  </th>\n",
        "      <td>       Dina_eldessouky@hotmail.com</td>\n",
        "      <td>  126</td>\n",
        "      <td>  7</td>\n",
        "      <td>  18.000000</td>\n",
        "      <td>       Dina</td>\n",
        "      <td>  El-dessouky</td>\n",
        "      <td>      NaN</td>\n",
        "      <td>       14 nabil khalil st nasr city floor 1 appt 3</td>\n",
        "      <td>                              NaN</td>\n",
        "      <td>                          00202</td>\n",
        "      <td>...</td>\n",
        "      <td> Egypt</td>\n",
        "      <td> EG</td>\n",
        "      <td>          cairo</td>\n",
        "      <td>                 01008020608</td>\n",
        "      <td> yes</td>\n",
        "      <td>  1889.88</td>\n",
        "      <td> 12</td>\n",
        "      <td>                  NaN</td>\n",
        "      <td> NaN</td>\n",
        "      <td> no</td>\n",
        "    </tr>\n",
        "    <tr>\n",
        "      <th>28  </th>\n",
        "      <td>        Dina_hamada009@hotmail.com</td>\n",
        "      <td>    0</td>\n",
        "      <td>  1</td>\n",
        "      <td>   0.000000</td>\n",
        "      <td>       dina</td>\n",
        "      <td>       hamada</td>\n",
        "      <td>      NaN</td>\n",
        "      <td> 54 el madina el gadeda st madinat el tawfik Na...</td>\n",
        "      <td>                              NaN</td>\n",
        "      <td>                          cairo</td>\n",
        "      <td>...</td>\n",
        "      <td> Egypt</td>\n",
        "      <td> EG</td>\n",
        "      <td>         000000</td>\n",
        "      <td>                 01001415888</td>\n",
        "      <td>  no</td>\n",
        "      <td>    81.00</td>\n",
        "      <td>  1</td>\n",
        "      <td>                  NaN</td>\n",
        "      <td> NaN</td>\n",
        "      <td> no</td>\n",
        "    </tr>\n",
        "    <tr>\n",
        "      <th>29  </th>\n",
        "      <td>       Dina_hamada2009@hotmail.com</td>\n",
        "      <td>  161</td>\n",
        "      <td>  2</td>\n",
        "      <td>  80.500000</td>\n",
        "      <td>       Dina</td>\n",
        "      <td>       Hamada</td>\n",
        "      <td>      NaN</td>\n",
        "      <td> 54 el madina el gadeda st madinat el tawfik Na...</td>\n",
        "      <td>                          Apt  72</td>\n",
        "      <td>                          Cairo</td>\n",
        "      <td>...</td>\n",
        "      <td> Egypt</td>\n",
        "      <td> EG</td>\n",
        "      <td>         000000</td>\n",
        "      <td>                 01001415888</td>\n",
        "      <td>  no</td>\n",
        "      <td>   173.00</td>\n",
        "      <td>  2</td>\n",
        "      <td>                  NaN</td>\n",
        "      <td> NaN</td>\n",
        "      <td> no</td>\n",
        "    </tr>\n",
        "    <tr>\n",
        "      <th>...</th>\n",
        "      <td>...</td>\n",
        "      <td>...</td>\n",
        "      <td>...</td>\n",
        "      <td>...</td>\n",
        "      <td>...</td>\n",
        "      <td>...</td>\n",
        "      <td>...</td>\n",
        "      <td>...</td>\n",
        "      <td>...</td>\n",
        "      <td>...</td>\n",
        "      <td>...</td>\n",
        "      <td>...</td>\n",
        "      <td>...</td>\n",
        "      <td>...</td>\n",
        "      <td>...</td>\n",
        "      <td>...</td>\n",
        "      <td>...</td>\n",
        "      <td>...</td>\n",
        "      <td>...</td>\n",
        "      <td>...</td>\n",
        "      <td>...</td>\n",
        "    </tr>\n",
        "    <tr>\n",
        "      <th>2332</th>\n",
        "      <td>              youssefkhalil@me.com</td>\n",
        "      <td>  299</td>\n",
        "      <td>  3</td>\n",
        "      <td>  99.666667</td>\n",
        "      <td>    Youssef</td>\n",
        "      <td>       Khalil</td>\n",
        "      <td>      NaN</td>\n",
        "      <td> 1 Bashar Ebn Bord street, from Ahmed el Sawi f...</td>\n",
        "      <td>                          Villa 1</td>\n",
        "      <td>                      Nasr city</td>\n",
        "      <td>...</td>\n",
        "      <td> Egypt</td>\n",
        "      <td> EG</td>\n",
        "      <td>          00000</td>\n",
        "      <td>              00201222240595</td>\n",
        "      <td>  no</td>\n",
        "      <td>   324.00</td>\n",
        "      <td>  3</td>\n",
        "      <td>                  NaN</td>\n",
        "      <td> NaN</td>\n",
        "      <td> no</td>\n",
        "    </tr>\n",
        "    <tr>\n",
        "      <th>2333</th>\n",
        "      <td>          youssra.resaie@gmail.com</td>\n",
        "      <td>    0</td>\n",
        "      <td>  1</td>\n",
        "      <td>   0.000000</td>\n",
        "      <td>      Tarek</td>\n",
        "      <td>        yehia</td>\n",
        "      <td>      NaN</td>\n",
        "      <td> 65 street poets compound Beverly Hills, Sheikh...</td>\n",
        "      <td>                              NaN</td>\n",
        "      <td>                        October</td>\n",
        "      <td>...</td>\n",
        "      <td> Egypt</td>\n",
        "      <td> EG</td>\n",
        "      <td>          00202</td>\n",
        "      <td>                 01001191212</td>\n",
        "      <td>  no</td>\n",
        "      <td>   277.00</td>\n",
        "      <td>  1</td>\n",
        "      <td>                  NaN</td>\n",
        "      <td> NaN</td>\n",
        "      <td> no</td>\n",
        "    </tr>\n",
        "    <tr>\n",
        "      <th>2334</th>\n",
        "      <td>                 youssra@gmail.com</td>\n",
        "      <td>    0</td>\n",
        "      <td>  1</td>\n",
        "      <td>   0.000000</td>\n",
        "      <td>    Youssra</td>\n",
        "      <td>       Ismail</td>\n",
        "      <td>      NaN</td>\n",
        "      <td>               12 Khan Younis street, Mohandessin </td>\n",
        "      <td>                Floor 11. Apt. 21</td>\n",
        "      <td>                          Cairo</td>\n",
        "      <td>...</td>\n",
        "      <td> Egypt</td>\n",
        "      <td> EG</td>\n",
        "      <td>          12411</td>\n",
        "      <td>               +201114400112</td>\n",
        "      <td>  no</td>\n",
        "      <td>     0.00</td>\n",
        "      <td>  1</td>\n",
        "      <td>                  NaN</td>\n",
        "      <td> NaN</td>\n",
        "      <td> no</td>\n",
        "    </tr>\n",
        "    <tr>\n",
        "      <th>2335</th>\n",
        "      <td>           youssra_kamal@yahoo.com</td>\n",
        "      <td>   64</td>\n",
        "      <td>  3</td>\n",
        "      <td>  21.333333</td>\n",
        "      <td>    Youssra</td>\n",
        "      <td>        Kamal</td>\n",
        "      <td>      NaN</td>\n",
        "      <td>                      Al Dyar compound .new Cairo </td>\n",
        "      <td>                       Villa 590L</td>\n",
        "      <td>                          Cairo</td>\n",
        "      <td>...</td>\n",
        "      <td> Egypt</td>\n",
        "      <td> EG</td>\n",
        "      <td>        2344434</td>\n",
        "      <td>                 01149734254</td>\n",
        "      <td>  no</td>\n",
        "      <td>   753.00</td>\n",
        "      <td>  3</td>\n",
        "      <td>                  NaN</td>\n",
        "      <td> NaN</td>\n",
        "      <td> no</td>\n",
        "    </tr>\n",
        "    <tr>\n",
        "      <th>2336</th>\n",
        "      <td>         youssraaashmawi@gmail.com</td>\n",
        "      <td>    0</td>\n",
        "      <td>  1</td>\n",
        "      <td>   0.000000</td>\n",
        "      <td>    Youssra</td>\n",
        "      <td>   Al ashmawi</td>\n",
        "      <td>      NaN</td>\n",
        "      <td>          AUC Residences, gate 4- Tagmo3 El khames</td>\n",
        "      <td>                              NaN</td>\n",
        "      <td>                          Cairo</td>\n",
        "      <td>...</td>\n",
        "      <td> Egypt</td>\n",
        "      <td> EG</td>\n",
        "      <td>         Am1234</td>\n",
        "      <td>                 01125699291</td>\n",
        "      <td>  no</td>\n",
        "      <td>   211.00</td>\n",
        "      <td>  1</td>\n",
        "      <td>                  NaN</td>\n",
        "      <td> NaN</td>\n",
        "      <td> no</td>\n",
        "    </tr>\n",
        "    <tr>\n",
        "      <th>2337</th>\n",
        "      <td>           yoyothetricky@gmail.com</td>\n",
        "      <td>   10</td>\n",
        "      <td>  2</td>\n",
        "      <td>   5.000000</td>\n",
        "      <td>    Youssef</td>\n",
        "      <td>  Abdelmohsen</td>\n",
        "      <td>      NaN</td>\n",
        "      <td>                      Moonvalley Compound, Rd. 90 </td>\n",
        "      <td>                              D11</td>\n",
        "      <td>                      New Cairo</td>\n",
        "      <td>...</td>\n",
        "      <td> Egypt</td>\n",
        "      <td> EG</td>\n",
        "      <td>          11835</td>\n",
        "      <td>                 01069786059</td>\n",
        "      <td>  no</td>\n",
        "      <td>   263.20</td>\n",
        "      <td>  2</td>\n",
        "      <td>                  NaN</td>\n",
        "      <td> NaN</td>\n",
        "      <td> no</td>\n",
        "    </tr>\n",
        "    <tr>\n",
        "      <th>2338</th>\n",
        "      <td>               yrelraheb@gmail.com</td>\n",
        "      <td>    0</td>\n",
        "      <td>  1</td>\n",
        "      <td>   0.000000</td>\n",
        "      <td>    yasmine</td>\n",
        "      <td>        Raheb</td>\n",
        "      <td>      NaN</td>\n",
        "      <td>                          15 elansar street, dokki</td>\n",
        "      <td>                              NaN</td>\n",
        "      <td>                          dokki</td>\n",
        "      <td>...</td>\n",
        "      <td> Egypt</td>\n",
        "      <td> EG</td>\n",
        "      <td>          11231</td>\n",
        "      <td>                 01221888861</td>\n",
        "      <td> yes</td>\n",
        "      <td>    88.13</td>\n",
        "      <td>  1</td>\n",
        "      <td>                  NaN</td>\n",
        "      <td> NaN</td>\n",
        "      <td> no</td>\n",
        "    </tr>\n",
        "    <tr>\n",
        "      <th>2339</th>\n",
        "      <td>               yulbiba@hotmail.com</td>\n",
        "      <td>   63</td>\n",
        "      <td>  4</td>\n",
        "      <td>  15.750000</td>\n",
        "      <td>     Yuliay</td>\n",
        "      <td>      Ivanova</td>\n",
        "      <td>      NaN</td>\n",
        "      <td>                           Beverly Hills compound </td>\n",
        "      <td> Forty west . Building E flat 314</td>\n",
        "      <td>                          Cairo</td>\n",
        "      <td>...</td>\n",
        "      <td> Egypt</td>\n",
        "      <td> EG</td>\n",
        "      <td>          12566</td>\n",
        "      <td>                 01150888848</td>\n",
        "      <td>  no</td>\n",
        "      <td>   547.20</td>\n",
        "      <td>  4</td>\n",
        "      <td>                  NaN</td>\n",
        "      <td> NaN</td>\n",
        "      <td> no</td>\n",
        "    </tr>\n",
        "    <tr>\n",
        "      <th>2340</th>\n",
        "      <td>             yumnakassim@gmail.com</td>\n",
        "      <td>  299</td>\n",
        "      <td>  2</td>\n",
        "      <td> 149.500000</td>\n",
        "      <td> Subscriber</td>\n",
        "      <td>   Newsletter</td>\n",
        "      <td>      NaN</td>\n",
        "      <td>                          19 Menis Street, ElKorba</td>\n",
        "      <td>                       Heliopolis</td>\n",
        "      <td>                          Cairo</td>\n",
        "      <td>...</td>\n",
        "      <td> Egypt</td>\n",
        "      <td> EG</td>\n",
        "      <td>          11341</td>\n",
        "      <td>                 01005047970</td>\n",
        "      <td> yes</td>\n",
        "      <td>   259.50</td>\n",
        "      <td>  2</td>\n",
        "      <td> newsletter, prospect</td>\n",
        "      <td> NaN</td>\n",
        "      <td> no</td>\n",
        "    </tr>\n",
        "    <tr>\n",
        "      <th>2341</th>\n",
        "      <td>              z72addas@hotmail.com</td>\n",
        "      <td>    0</td>\n",
        "      <td>  1</td>\n",
        "      <td>   0.000000</td>\n",
        "      <td>      zeina</td>\n",
        "      <td>        addas</td>\n",
        "      <td>      NaN</td>\n",
        "      <td>                           19 tahawi st, golf area</td>\n",
        "      <td>                      heliopolise</td>\n",
        "      <td>                          cairo</td>\n",
        "      <td>...</td>\n",
        "      <td> Egypt</td>\n",
        "      <td> EG</td>\n",
        "      <td>          11431</td>\n",
        "      <td>               +201223781733</td>\n",
        "      <td>  no</td>\n",
        "      <td>     0.00</td>\n",
        "      <td>  1</td>\n",
        "      <td>                  NaN</td>\n",
        "      <td> NaN</td>\n",
        "      <td> no</td>\n",
        "    </tr>\n",
        "    <tr>\n",
        "      <th>2342</th>\n",
        "      <td>             zaki.farida@gmail.com</td>\n",
        "      <td>  157</td>\n",
        "      <td>  5</td>\n",
        "      <td>  31.400000</td>\n",
        "      <td>    Farida </td>\n",
        "      <td>         Zaki</td>\n",
        "      <td>      NaN</td>\n",
        "      <td>                  56 Nazih Khalifa St. Heliopolis </td>\n",
        "      <td>               3rd floor, Apt 303</td>\n",
        "      <td>                          Cairo</td>\n",
        "      <td>...</td>\n",
        "      <td> Egypt</td>\n",
        "      <td> EG</td>\n",
        "      <td>          11341</td>\n",
        "      <td>              00201001108847</td>\n",
        "      <td>  no</td>\n",
        "      <td>   931.50</td>\n",
        "      <td>  5</td>\n",
        "      <td>                  NaN</td>\n",
        "      <td> NaN</td>\n",
        "      <td> no</td>\n",
        "    </tr>\n",
        "    <tr>\n",
        "      <th>2343</th>\n",
        "      <td>               zedesem65@gmail.com</td>\n",
        "      <td>    0</td>\n",
        "      <td>  1</td>\n",
        "      <td>   0.000000</td>\n",
        "      <td>    Zeinab </td>\n",
        "      <td>      Mutawa </td>\n",
        "      <td>      NaN</td>\n",
        "      <td>              9 El Saada street, roxy, Heliopolis </td>\n",
        "      <td>                        April 181</td>\n",
        "      <td>                          Cairo</td>\n",
        "      <td>...</td>\n",
        "      <td> Egypt</td>\n",
        "      <td> EG</td>\n",
        "      <td>          11341</td>\n",
        "      <td>                 01222107517</td>\n",
        "      <td>  no</td>\n",
        "      <td>     0.00</td>\n",
        "      <td>  1</td>\n",
        "      <td>                  NaN</td>\n",
        "      <td> NaN</td>\n",
        "      <td> no</td>\n",
        "    </tr>\n",
        "    <tr>\n",
        "      <th>2344</th>\n",
        "      <td>                 zee.nap@gmail.com</td>\n",
        "      <td>    0</td>\n",
        "      <td>  1</td>\n",
        "      <td>   0.000000</td>\n",
        "      <td>     Zeinab</td>\n",
        "      <td>     M.Shaker</td>\n",
        "      <td>      NaN</td>\n",
        "      <td>                                 566 Palestine St.</td>\n",
        "      <td>          Ground floor, Integrant</td>\n",
        "      <td>                  Maadi - Cairo</td>\n",
        "      <td>...</td>\n",
        "      <td> Egypt</td>\n",
        "      <td> EG</td>\n",
        "      <td>          11742</td>\n",
        "      <td>                201005211550</td>\n",
        "      <td>  no</td>\n",
        "      <td>    52.00</td>\n",
        "      <td>  1</td>\n",
        "      <td>                  NaN</td>\n",
        "      <td> NaN</td>\n",
        "      <td> no</td>\n",
        "    </tr>\n",
        "    <tr>\n",
        "      <th>2345</th>\n",
        "      <td>            zeina.kassas@gmail.com</td>\n",
        "      <td>  331</td>\n",
        "      <td>  5</td>\n",
        "      <td>  66.200000</td>\n",
        "      <td>      zeina</td>\n",
        "      <td>       kassas</td>\n",
        "      <td>      NaN</td>\n",
        "      <td>                     Madinaty Group 17, Building 8</td>\n",
        "      <td>                               31</td>\n",
        "      <td>                      New Cairo</td>\n",
        "      <td>...</td>\n",
        "      <td> Egypt</td>\n",
        "      <td> EG</td>\n",
        "      <td>          18411</td>\n",
        "      <td>                 01000448740</td>\n",
        "      <td> yes</td>\n",
        "      <td>   796.60</td>\n",
        "      <td>  6</td>\n",
        "      <td>                  NaN</td>\n",
        "      <td> NaN</td>\n",
        "      <td> no</td>\n",
        "    </tr>\n",
        "    <tr>\n",
        "      <th>2346</th>\n",
        "      <td>         zeina_ahmed95@hotmail.com</td>\n",
        "      <td>    0</td>\n",
        "      <td>  1</td>\n",
        "      <td>   0.000000</td>\n",
        "      <td>     Nashwa</td>\n",
        "      <td>        Hafez</td>\n",
        "      <td>      NaN</td>\n",
        "      <td> villa 18B, st. 251, next to kino market from v...</td>\n",
        "      <td>                              NaN</td>\n",
        "      <td>                          cairo</td>\n",
        "      <td>...</td>\n",
        "      <td> Egypt</td>\n",
        "      <td> EG</td>\n",
        "      <td>          11511</td>\n",
        "      <td>                 01141222226</td>\n",
        "      <td>  no</td>\n",
        "      <td>   728.80</td>\n",
        "      <td>  1</td>\n",
        "      <td>                  NaN</td>\n",
        "      <td> NaN</td>\n",
        "      <td> no</td>\n",
        "    </tr>\n",
        "    <tr>\n",
        "      <th>2347</th>\n",
        "      <td>            zeina_naim@hotmail.com</td>\n",
        "      <td>    0</td>\n",
        "      <td>  1</td>\n",
        "      <td>   0.000000</td>\n",
        "      <td>      Zeina</td>\n",
        "      <td>         Naim</td>\n",
        "      <td>      NaN</td>\n",
        "      <td> 21 ismail mohamed street / zamalek/ ITS NEXT T...</td>\n",
        "      <td>                              NaN</td>\n",
        "      <td>                          cairo</td>\n",
        "      <td>...</td>\n",
        "      <td> Egypt</td>\n",
        "      <td> EG</td>\n",
        "      <td>          hb123</td>\n",
        "      <td>                 01025550552</td>\n",
        "      <td>  no</td>\n",
        "      <td>     0.00</td>\n",
        "      <td>  1</td>\n",
        "      <td>                  NaN</td>\n",
        "      <td> NaN</td>\n",
        "      <td> no</td>\n",
        "    </tr>\n",
        "    <tr>\n",
        "      <th>2348</th>\n",
        "      <td>         zeinabahmedtaha@yahoo.com</td>\n",
        "      <td>    0</td>\n",
        "      <td>  1</td>\n",
        "      <td>   0.000000</td>\n",
        "      <td>     Zeinab</td>\n",
        "      <td>         Taha</td>\n",
        "      <td>      NaN</td>\n",
        "      <td>                           42 Abo Bakr El Sadek St</td>\n",
        "      <td>                              NaN</td>\n",
        "      <td>                          Cairo</td>\n",
        "      <td>...</td>\n",
        "      <td> Egypt</td>\n",
        "      <td> EG</td>\n",
        "      <td>        abc 123</td>\n",
        "      <td>                 01271188471</td>\n",
        "      <td>  no</td>\n",
        "      <td>   116.30</td>\n",
        "      <td>  1</td>\n",
        "      <td>                  NaN</td>\n",
        "      <td> NaN</td>\n",
        "      <td> no</td>\n",
        "    </tr>\n",
        "    <tr>\n",
        "      <th>2349</th>\n",
        "      <td>      zeinabkhalil2010@hotmail.com</td>\n",
        "      <td>   25</td>\n",
        "      <td>  2</td>\n",
        "      <td>  12.500000</td>\n",
        "      <td> Dr/ Hisham</td>\n",
        "      <td>        fahmi</td>\n",
        "      <td>      NaN</td>\n",
        "      <td> 4d al gazira st. befor kism el gazira off nady...</td>\n",
        "      <td>                 floor 12 apt 122</td>\n",
        "      <td>                          cairo</td>\n",
        "      <td>...</td>\n",
        "      <td> Egypt</td>\n",
        "      <td> EG</td>\n",
        "      <td>           0000</td>\n",
        "      <td>                  0227355135</td>\n",
        "      <td>  no</td>\n",
        "      <td>   480.00</td>\n",
        "      <td>  3</td>\n",
        "      <td>                  NaN</td>\n",
        "      <td> NaN</td>\n",
        "      <td> no</td>\n",
        "    </tr>\n",
        "    <tr>\n",
        "      <th>2350</th>\n",
        "      <td>              zeinabnour@gmail.com</td>\n",
        "      <td>    1</td>\n",
        "      <td>  2</td>\n",
        "      <td>   0.500000</td>\n",
        "      <td>     Zeinab</td>\n",
        "      <td>    Noureldin</td>\n",
        "      <td>      NaN</td>\n",
        "      <td> 29 refaa street off mesaha square, dokki same ...</td>\n",
        "      <td>                              NaN</td>\n",
        "      <td>                          Cairo</td>\n",
        "      <td>...</td>\n",
        "      <td> Egypt</td>\n",
        "      <td> EG</td>\n",
        "      <td>          00202</td>\n",
        "      <td>                 01002261945</td>\n",
        "      <td>  no</td>\n",
        "      <td>   117.50</td>\n",
        "      <td>  2</td>\n",
        "      <td>                  NaN</td>\n",
        "      <td> NaN</td>\n",
        "      <td> no</td>\n",
        "    </tr>\n",
        "    <tr>\n",
        "      <th>2351</th>\n",
        "      <td>              zeinahodroj@live.com</td>\n",
        "      <td>    0</td>\n",
        "      <td>  1</td>\n",
        "      <td>   0.000000</td>\n",
        "      <td>      zeina</td>\n",
        "      <td>       hodroj</td>\n",
        "      <td>      NaN</td>\n",
        "      <td>          21, Rd 100 Maadi st. salam bld 5th floor</td>\n",
        "      <td>                              NaN</td>\n",
        "      <td>                          cairo</td>\n",
        "      <td>...</td>\n",
        "      <td> Egypt</td>\n",
        "      <td> EG</td>\n",
        "      <td>          00202</td>\n",
        "      <td>                 01000892677</td>\n",
        "      <td>  no</td>\n",
        "      <td>   197.50</td>\n",
        "      <td>  2</td>\n",
        "      <td>                  NaN</td>\n",
        "      <td> NaN</td>\n",
        "      <td> no</td>\n",
        "    </tr>\n",
        "    <tr>\n",
        "      <th>2352</th>\n",
        "      <td>              zeinasabry@gmail.com</td>\n",
        "      <td>  250</td>\n",
        "      <td>  6</td>\n",
        "      <td>  41.666667</td>\n",
        "      <td>      Zeina</td>\n",
        "      <td>        Tarek</td>\n",
        "      <td>      NaN</td>\n",
        "      <td>        23B Ismail Mohamed street, apt 57, Zamalek</td>\n",
        "      <td>                              NaN</td>\n",
        "      <td>                          Cairo</td>\n",
        "      <td>...</td>\n",
        "      <td> Egypt</td>\n",
        "      <td> EG</td>\n",
        "      <td>          11211</td>\n",
        "      <td>               +201227759372</td>\n",
        "      <td> yes</td>\n",
        "      <td>  1218.40</td>\n",
        "      <td>  7</td>\n",
        "      <td>                  NaN</td>\n",
        "      <td> NaN</td>\n",
        "      <td> no</td>\n",
        "    </tr>\n",
        "    <tr>\n",
        "      <th>2353</th>\n",
        "      <td>               zeinriham@gmail.com</td>\n",
        "      <td>   71</td>\n",
        "      <td>  2</td>\n",
        "      <td>  35.500000</td>\n",
        "      <td>      Reham</td>\n",
        "      <td>     Abdullah</td>\n",
        "      <td>      NaN</td>\n",
        "      <td>                          Baron Palace/ Heliopolis</td>\n",
        "      <td>                 (MEETING POINT )</td>\n",
        "      <td>                          cairo</td>\n",
        "      <td>...</td>\n",
        "      <td> Egypt</td>\n",
        "      <td> EG</td>\n",
        "      <td>          hb123</td>\n",
        "      <td> 01007077741  /  01008664628</td>\n",
        "      <td>  no</td>\n",
        "      <td>     0.00</td>\n",
        "      <td>  2</td>\n",
        "      <td>                  NaN</td>\n",
        "      <td> NaN</td>\n",
        "      <td> no</td>\n",
        "    </tr>\n",
        "    <tr>\n",
        "      <th>2354</th>\n",
        "      <td>           zenaabdelbaky@gmail.com</td>\n",
        "      <td>  438</td>\n",
        "      <td>  2</td>\n",
        "      <td> 219.000000</td>\n",
        "      <td>       Zena</td>\n",
        "      <td>   Abdelbaky </td>\n",
        "      <td>      NaN</td>\n",
        "      <td>      104, street 6 from nafoora square, Mokattam </td>\n",
        "      <td>                              NaN</td>\n",
        "      <td>                       Mokattam</td>\n",
        "      <td>...</td>\n",
        "      <td> Egypt</td>\n",
        "      <td> EG</td>\n",
        "      <td>          11649</td>\n",
        "      <td>                 01000350409</td>\n",
        "      <td> yes</td>\n",
        "      <td>   327.50</td>\n",
        "      <td>  2</td>\n",
        "      <td> newsletter, prospect</td>\n",
        "      <td> NaN</td>\n",
        "      <td> no</td>\n",
        "    </tr>\n",
        "    <tr>\n",
        "      <th>2355</th>\n",
        "      <td>            zeyadattalla@yahoo.com</td>\n",
        "      <td>    0</td>\n",
        "      <td>  1</td>\n",
        "      <td>   0.000000</td>\n",
        "      <td>      Zeyad</td>\n",
        "      <td>      Attalla</td>\n",
        "      <td>      NaN</td>\n",
        "      <td>                   Villa 403 October Hils Compound</td>\n",
        "      <td>                              NaN</td>\n",
        "      <td>                 6th of October</td>\n",
        "      <td>...</td>\n",
        "      <td> Egypt</td>\n",
        "      <td> EG</td>\n",
        "      <td>          12566</td>\n",
        "      <td>                 01002240643</td>\n",
        "      <td>  no</td>\n",
        "      <td>   132.40</td>\n",
        "      <td>  1</td>\n",
        "      <td>                  NaN</td>\n",
        "      <td> NaN</td>\n",
        "      <td> no</td>\n",
        "    </tr>\n",
        "    <tr>\n",
        "      <th>2356</th>\n",
        "      <td>                ziadihab@gmail.com</td>\n",
        "      <td>    0</td>\n",
        "      <td>  1</td>\n",
        "      <td>   0.000000</td>\n",
        "      <td>       Ziad</td>\n",
        "      <td>         Ihab</td>\n",
        "      <td>      NaN</td>\n",
        "      <td>             Rehab city, settlement 81, building 2</td>\n",
        "      <td>           floor 3, appartment 31</td>\n",
        "      <td>                          cairo</td>\n",
        "      <td>...</td>\n",
        "      <td> Egypt</td>\n",
        "      <td> EG</td>\n",
        "      <td> Not applicable</td>\n",
        "      <td>                 01116835556</td>\n",
        "      <td>  no</td>\n",
        "      <td>    62.00</td>\n",
        "      <td>  1</td>\n",
        "      <td>                  NaN</td>\n",
        "      <td> NaN</td>\n",
        "      <td> no</td>\n",
        "    </tr>\n",
        "    <tr>\n",
        "      <th>2357</th>\n",
        "      <td>               ziadusama@ymail.com</td>\n",
        "      <td>    0</td>\n",
        "      <td>  1</td>\n",
        "      <td>   0.000000</td>\n",
        "      <td>      Usama</td>\n",
        "      <td>        Gamal</td>\n",
        "      <td>      NaN</td>\n",
        "      <td> Al-obour City Golf City  B5 Flat No. 3  Entran...</td>\n",
        "      <td>                      Flat no. 3 </td>\n",
        "      <td>                          Cairo</td>\n",
        "      <td>...</td>\n",
        "      <td> Egypt</td>\n",
        "      <td> EG</td>\n",
        "      <td>             No</td>\n",
        "      <td>                 01097902883</td>\n",
        "      <td>  no</td>\n",
        "      <td>     0.00</td>\n",
        "      <td>  1</td>\n",
        "      <td>                  NaN</td>\n",
        "      <td> NaN</td>\n",
        "      <td> no</td>\n",
        "    </tr>\n",
        "    <tr>\n",
        "      <th>2358</th>\n",
        "      <td>               zinelhini@yahoo.com</td>\n",
        "      <td>    0</td>\n",
        "      <td>  1</td>\n",
        "      <td>   0.000000</td>\n",
        "      <td>       Zina</td>\n",
        "      <td>      El Hini</td>\n",
        "      <td>     Home</td>\n",
        "      <td>                 13 El Thimar St.-Mohandessin-Giza</td>\n",
        "      <td>                              NaN</td>\n",
        "      <td>                           Giza</td>\n",
        "      <td>...</td>\n",
        "      <td> Egypt</td>\n",
        "      <td> EG</td>\n",
        "      <td>          12655</td>\n",
        "      <td>                 01006061566</td>\n",
        "      <td>  no</td>\n",
        "      <td>   330.02</td>\n",
        "      <td>  1</td>\n",
        "      <td>                  NaN</td>\n",
        "      <td> NaN</td>\n",
        "      <td> no</td>\n",
        "    </tr>\n",
        "    <tr>\n",
        "      <th>2359</th>\n",
        "      <td>                zleseman@gmail.com</td>\n",
        "      <td>   71</td>\n",
        "      <td>  2</td>\n",
        "      <td>  35.500000</td>\n",
        "      <td>       Zayd</td>\n",
        "      <td>      Leseman</td>\n",
        "      <td>      NaN</td>\n",
        "      <td>                         Nada Compound, Entrance 2</td>\n",
        "      <td>                          Villa 2</td>\n",
        "      <td>                   Sheikh Zayed</td>\n",
        "      <td>...</td>\n",
        "      <td> Egypt</td>\n",
        "      <td> EG</td>\n",
        "      <td>          16404</td>\n",
        "      <td>                 01125573521</td>\n",
        "      <td>  no</td>\n",
        "      <td>  1211.57</td>\n",
        "      <td>  2</td>\n",
        "      <td>                  NaN</td>\n",
        "      <td> NaN</td>\n",
        "      <td> no</td>\n",
        "    </tr>\n",
        "    <tr>\n",
        "      <th>2360</th>\n",
        "      <td>           zolaykha1st@hotmail.com</td>\n",
        "      <td>    0</td>\n",
        "      <td>  1</td>\n",
        "      <td>   0.000000</td>\n",
        "      <td>       amal</td>\n",
        "      <td> abdelraheem </td>\n",
        "      <td>      NaN</td>\n",
        "      <td>                           4038 me3raj olwi, maadi</td>\n",
        "      <td>                              201</td>\n",
        "      <td>                   maadi, cairo</td>\n",
        "      <td>...</td>\n",
        "      <td> Egypt</td>\n",
        "      <td> EG</td>\n",
        "      <td>          12345</td>\n",
        "      <td>              00201023982488</td>\n",
        "      <td>  no</td>\n",
        "      <td>   620.10</td>\n",
        "      <td>  1</td>\n",
        "      <td>                  NaN</td>\n",
        "      <td> NaN</td>\n",
        "      <td> no</td>\n",
        "    </tr>\n",
        "    <tr>\n",
        "      <th>2361</th>\n",
        "      <td>               zshafei@outlook.com</td>\n",
        "      <td>  340</td>\n",
        "      <td>  7</td>\n",
        "      <td>  48.571429</td>\n",
        "      <td>      Amina</td>\n",
        "      <td>       Rashad</td>\n",
        "      <td>      NaN</td>\n",
        "      <td>                     Mountain View behind el rehab</td>\n",
        "      <td>                        villa 6 C</td>\n",
        "      <td>                          cairo</td>\n",
        "      <td>...</td>\n",
        "      <td> Egypt</td>\n",
        "      <td> EG</td>\n",
        "      <td>          hk123</td>\n",
        "      <td>                 01005497979</td>\n",
        "      <td>  no</td>\n",
        "      <td>  1625.00</td>\n",
        "      <td>  7</td>\n",
        "      <td>                  NaN</td>\n",
        "      <td> NaN</td>\n",
        "      <td> no</td>\n",
        "    </tr>\n",
        "  </tbody>\n",
        "</table>\n",
        "<p>2362 rows \u00d7 22 columns</p>\n",
        "</div>"
       ],
       "metadata": {},
       "output_type": "pyout",
       "prompt_number": 6,
       "text": [
        "                                  Email  Difference  Count     Average  \\\n",
        "0            11435mail@mkallenberger.de           0      1    0.000000   \n",
        "1                         1@gargour.com          94      2   47.000000   \n",
        "2                     1kttate@gmail.com          22      4    5.500000   \n",
        "3             1youniqueflower@gmail.com         375      3  125.000000   \n",
        "4                    3aliaa.h@gmail.com          22      3    7.333333   \n",
        "5              777nadiateirah@gmail.com           5      2    2.500000   \n",
        "6                             A2@ed.com           0      1    0.000000   \n",
        "7               ASHRAF.M.ZAKI@GMAIL.COM           0      1    0.000000   \n",
        "8                  Adhamada@hotmail.com           0      1    0.000000   \n",
        "9           Ahmed.Habash@moevenpick.com           0      1    0.000000   \n",
        "10    Ahmed.adel.abdelmonam@hotmail.com           0      1    0.000000   \n",
        "11              Aliamossallam@gmail.com         421     17   24.764706   \n",
        "12          Andrea.Heilman@aucegypt.edu          11      2    5.500000   \n",
        "13              Asmaa.ahmed@hotmail.com          16      4    4.000000   \n",
        "14               Attia.nevien@gmail.com           2      2    1.000000   \n",
        "15                Azzassallam@gmail.com           0      1    0.000000   \n",
        "16                    BAGBOUG@yahoo.com           0      1    0.000000   \n",
        "17                    Bakryna@gmail.com           0      1    0.000000   \n",
        "18              Basmaha2010@hotmail.com           0      1    0.000000   \n",
        "19                     Bebi84@gmail.com          21      3    7.000000   \n",
        "20          Bouchra_erraiss@hotmail.com           0      1    0.000000   \n",
        "21                    Bunny_Chan@web.de         266      3   88.666667   \n",
        "22               Buty_Heart@hotmail.com           0      1    0.000000   \n",
        "23          Camillia.Marmoush@gmail.com          14      3    4.666667   \n",
        "24              Carinesabbagh@gmail.com        1020     35   29.142857   \n",
        "25                 DINA_KADRY@YAHOO.COM           0      1    0.000000   \n",
        "26                 Daiieldeeb@gmail.com           0      1    0.000000   \n",
        "27          Dina_eldessouky@hotmail.com         126      7   18.000000   \n",
        "28           Dina_hamada009@hotmail.com           0      1    0.000000   \n",
        "29          Dina_hamada2009@hotmail.com         161      2   80.500000   \n",
        "...                                 ...         ...    ...         ...   \n",
        "2332               youssefkhalil@me.com         299      3   99.666667   \n",
        "2333           youssra.resaie@gmail.com           0      1    0.000000   \n",
        "2334                  youssra@gmail.com           0      1    0.000000   \n",
        "2335            youssra_kamal@yahoo.com          64      3   21.333333   \n",
        "2336          youssraaashmawi@gmail.com           0      1    0.000000   \n",
        "2337            yoyothetricky@gmail.com          10      2    5.000000   \n",
        "2338                yrelraheb@gmail.com           0      1    0.000000   \n",
        "2339                yulbiba@hotmail.com          63      4   15.750000   \n",
        "2340              yumnakassim@gmail.com         299      2  149.500000   \n",
        "2341               z72addas@hotmail.com           0      1    0.000000   \n",
        "2342              zaki.farida@gmail.com         157      5   31.400000   \n",
        "2343                zedesem65@gmail.com           0      1    0.000000   \n",
        "2344                  zee.nap@gmail.com           0      1    0.000000   \n",
        "2345             zeina.kassas@gmail.com         331      5   66.200000   \n",
        "2346          zeina_ahmed95@hotmail.com           0      1    0.000000   \n",
        "2347             zeina_naim@hotmail.com           0      1    0.000000   \n",
        "2348          zeinabahmedtaha@yahoo.com           0      1    0.000000   \n",
        "2349       zeinabkhalil2010@hotmail.com          25      2   12.500000   \n",
        "2350               zeinabnour@gmail.com           1      2    0.500000   \n",
        "2351               zeinahodroj@live.com           0      1    0.000000   \n",
        "2352               zeinasabry@gmail.com         250      6   41.666667   \n",
        "2353                zeinriham@gmail.com          71      2   35.500000   \n",
        "2354            zenaabdelbaky@gmail.com         438      2  219.000000   \n",
        "2355             zeyadattalla@yahoo.com           0      1    0.000000   \n",
        "2356                 ziadihab@gmail.com           0      1    0.000000   \n",
        "2357                ziadusama@ymail.com           0      1    0.000000   \n",
        "2358                zinelhini@yahoo.com           0      1    0.000000   \n",
        "2359                 zleseman@gmail.com          71      2   35.500000   \n",
        "2360            zolaykha1st@hotmail.com           0      1    0.000000   \n",
        "2361                zshafei@outlook.com         340      7   48.571429   \n",
        "\n",
        "      First Name     Last Name   Company  \\\n",
        "0      Magdalena  Kallenberger       NaN   \n",
        "1         Alain         Phar\u00e8s  Gargour    \n",
        "2          Kelly          Tate       NaN   \n",
        "3           Lara         Scott       NaN   \n",
        "4        mohamed         tolba       NaN   \n",
        "5          Nadia        Teirah       NaN   \n",
        "6        Aladdin         Nabil  TEst 123   \n",
        "7         ASHRAF          ZAKI       NaN   \n",
        "8          Adham        Hamada       NaN   \n",
        "9          Ahmed        Habash       NaN   \n",
        "10         Ahmed          Adel       NaN   \n",
        "11          Alia     Mossallam       NaN   \n",
        "12        Andrea       Heilman       NaN   \n",
        "13         Asmaa         Ahmed       NaN   \n",
        "14        Sherif         Saleh       NaN   \n",
        "15          Azza        Sallam       NaN   \n",
        "16      Brigitte         Kamal       NaN   \n",
        "17           Nna         Bakry       NaN   \n",
        "18         Basma       Elgazar       NaN   \n",
        "19          Heba         Ragab       NaN   \n",
        "20        Haisam       Soliman       NaN   \n",
        "21        Yasser         Awadd       NaN   \n",
        "22         Asmaa        Medaht   Carrier   \n",
        "23     Camillia       Marmoush       NaN   \n",
        "24        carine       sabbagh       NaN   \n",
        "25          Dina         Kadry       NaN   \n",
        "26          Daii           Ali       NaN   \n",
        "27          Dina   El-dessouky       NaN   \n",
        "28          dina        hamada       NaN   \n",
        "29          Dina        Hamada       NaN   \n",
        "...          ...           ...       ...   \n",
        "2332     Youssef        Khalil       NaN   \n",
        "2333       Tarek         yehia       NaN   \n",
        "2334     Youssra        Ismail       NaN   \n",
        "2335     Youssra         Kamal       NaN   \n",
        "2336     Youssra    Al ashmawi       NaN   \n",
        "2337     Youssef   Abdelmohsen       NaN   \n",
        "2338     yasmine         Raheb       NaN   \n",
        "2339      Yuliay       Ivanova       NaN   \n",
        "2340  Subscriber    Newsletter       NaN   \n",
        "2341       zeina         addas       NaN   \n",
        "2342     Farida           Zaki       NaN   \n",
        "2343     Zeinab        Mutawa        NaN   \n",
        "2344      Zeinab      M.Shaker       NaN   \n",
        "2345       zeina        kassas       NaN   \n",
        "2346      Nashwa         Hafez       NaN   \n",
        "2347       Zeina          Naim       NaN   \n",
        "2348      Zeinab          Taha       NaN   \n",
        "2349  Dr/ Hisham         fahmi       NaN   \n",
        "2350      Zeinab     Noureldin       NaN   \n",
        "2351       zeina        hodroj       NaN   \n",
        "2352       Zeina         Tarek       NaN   \n",
        "2353       Reham      Abdullah       NaN   \n",
        "2354        Zena    Abdelbaky        NaN   \n",
        "2355       Zeyad       Attalla       NaN   \n",
        "2356        Ziad          Ihab       NaN   \n",
        "2357       Usama         Gamal       NaN   \n",
        "2358        Zina       El Hini      Home   \n",
        "2359        Zayd       Leseman       NaN   \n",
        "2360        amal  abdelraheem        NaN   \n",
        "2361       Amina        Rashad       NaN   \n",
        "\n",
        "                                               Address1  \\\n",
        "0                        3/4, road 221, El Maadi, Cairo   \n",
        "1                                       31 golf street    \n",
        "2     Street 33, Building 154, Area 1, Group 2, Taga...   \n",
        "3                                 23 Abdalla Deraz St.    \n",
        "4                          11 shams el din el koufy st    \n",
        "5     roxi 4 mafaza street /behind costa cafe 3rd fl...   \n",
        "6                                      Hadayek al ahram   \n",
        "7                19 Gabalayah Street, 9th Floor, Apt 92   \n",
        "8                    5 eskandar el Akbar st. Heliopolis   \n",
        "9     6th settelment, infront of Coca Cola Company, ...   \n",
        "10                   24 Extension Abo Dawood El Zahery    \n",
        "11                                 59 Road 14, Moqattam   \n",
        "12                          16 Mohammed Thakeb, Zamalek   \n",
        "13                  Nasr city*Car Market*Shaban Company   \n",
        "14    19 El gablya street /el zamalek - lobon buildi...   \n",
        "15    group 45 - bulding 5 - flat 4 groud floor - re...   \n",
        "16    31 Hamouda Mahmoud from end of Makram ebeid , ...   \n",
        "17           37 shehab street , floor 15th appartment 1   \n",
        "18                           31 lotfi hassona st, dokki   \n",
        "19                 54,Mohi el din abuo el ezz,st,dokii,   \n",
        "20                Villa 14/4 abdelwahab mohammed street   \n",
        "21    1 Mohamed Mamoon Street, Apt 10; near Hegaz Sq...   \n",
        "22    Km 28, Cairo Alexandria Desert Rd., Smart Vill...   \n",
        "23    5th district Amr ebn elass st.0*area h*south o...   \n",
        "24            11 Rashdan st. dokki off of mesaha square   \n",
        "25    Almostathmeroun Alshamaleya / of 90th road / a...   \n",
        "26    Plot 9519, Adly El Meligy St. Off Rd. 9, Mokat...   \n",
        "27          14 nabil khalil st nasr city floor 1 appt 3   \n",
        "28    54 el madina el gadeda st madinat el tawfik Na...   \n",
        "29    54 el madina el gadeda st madinat el tawfik Na...   \n",
        "...                                                 ...   \n",
        "2332  1 Bashar Ebn Bord street, from Ahmed el Sawi f...   \n",
        "2333  65 street poets compound Beverly Hills, Sheikh...   \n",
        "2334                12 Khan Younis street, Mohandessin    \n",
        "2335                       Al Dyar compound .new Cairo    \n",
        "2336           AUC Residences, gate 4- Tagmo3 El khames   \n",
        "2337                       Moonvalley Compound, Rd. 90    \n",
        "2338                           15 elansar street, dokki   \n",
        "2339                            Beverly Hills compound    \n",
        "2340                           19 Menis Street, ElKorba   \n",
        "2341                            19 tahawi st, golf area   \n",
        "2342                   56 Nazih Khalifa St. Heliopolis    \n",
        "2343               9 El Saada street, roxy, Heliopolis    \n",
        "2344                                  566 Palestine St.   \n",
        "2345                      Madinaty Group 17, Building 8   \n",
        "2346  villa 18B, st. 251, next to kino market from v...   \n",
        "2347  21 ismail mohamed street / zamalek/ ITS NEXT T...   \n",
        "2348                            42 Abo Bakr El Sadek St   \n",
        "2349  4d al gazira st. befor kism el gazira off nady...   \n",
        "2350  29 refaa street off mesaha square, dokki same ...   \n",
        "2351           21, Rd 100 Maadi st. salam bld 5th floor   \n",
        "2352         23B Ismail Mohamed street, apt 57, Zamalek   \n",
        "2353                           Baron Palace/ Heliopolis   \n",
        "2354       104, street 6 from nafoora square, Mokattam    \n",
        "2355                    Villa 403 October Hils Compound   \n",
        "2356              Rehab city, settlement 81, building 2   \n",
        "2357  Al-obour City Golf City  B5 Flat No. 3  Entran...   \n",
        "2358                  13 El Thimar St.-Mohandessin-Giza   \n",
        "2359                          Nada Compound, Entrance 2   \n",
        "2360                            4038 me3raj olwi, maadi   \n",
        "2361                      Mountain View behind el rehab   \n",
        "\n",
        "                              Address2                            City  \\\n",
        "0                                  NaN                           Cairo   \n",
        "1                           app 69/6th                           maadi   \n",
        "2                                Apt 3                       New Cairo   \n",
        "3          #203 - 2nd Floor, left side  Ard el Golf, Heliopolis, Cairo   \n",
        "4                                   17                      heliopolis   \n",
        "5                                  NaN                           Cairo   \n",
        "6                                   20                           Ahram   \n",
        "7                              Zamalek                           Cairo   \n",
        "8                          First floor                           Cairo   \n",
        "9                                  NaN                           Cairo   \n",
        "10                 3rd Floor. Apt, 306                       Nasr City   \n",
        "11                           4th floor                           Cairo   \n",
        "12                                 805                           Cairo   \n",
        "13                       10th district                           Cairo   \n",
        "14                                 NaN                           Cairo   \n",
        "15                                 NaN                           Cairo   \n",
        "16                                  62                           cairo   \n",
        "17                           Mohandisn                           Cairo   \n",
        "18                                 NaN                           Cairo   \n",
        "19                    floor 10, apt 33                           Cairo   \n",
        "20                       Al rehab city                           Cairo   \n",
        "21                                 NaN                           Cairo   \n",
        "22                             Carrier                            Giza   \n",
        "23                            Villa107                           Cairo   \n",
        "24                    5th floor apt 13                           cairo   \n",
        "25    building number 5 - Beh - app. 7                           cairo   \n",
        "26                                 NaN                           Cairo   \n",
        "27                                 NaN                           00202   \n",
        "28                                 NaN                           cairo   \n",
        "29                             Apt  72                           Cairo   \n",
        "...                                ...                             ...   \n",
        "2332                           Villa 1                       Nasr city   \n",
        "2333                               NaN                         October   \n",
        "2334                 Floor 11. Apt. 21                           Cairo   \n",
        "2335                        Villa 590L                           Cairo   \n",
        "2336                               NaN                           Cairo   \n",
        "2337                               D11                       New Cairo   \n",
        "2338                               NaN                           dokki   \n",
        "2339  Forty west . Building E flat 314                           Cairo   \n",
        "2340                        Heliopolis                           Cairo   \n",
        "2341                       heliopolise                           cairo   \n",
        "2342                3rd floor, Apt 303                           Cairo   \n",
        "2343                         April 181                           Cairo   \n",
        "2344           Ground floor, Integrant                   Maadi - Cairo   \n",
        "2345                                31                       New Cairo   \n",
        "2346                               NaN                           cairo   \n",
        "2347                               NaN                           cairo   \n",
        "2348                               NaN                           Cairo   \n",
        "2349                  floor 12 apt 122                           cairo   \n",
        "2350                               NaN                           Cairo   \n",
        "2351                               NaN                           cairo   \n",
        "2352                               NaN                           Cairo   \n",
        "2353                  (MEETING POINT )                           cairo   \n",
        "2354                               NaN                        Mokattam   \n",
        "2355                               NaN                  6th of October   \n",
        "2356            floor 3, appartment 31                           cairo   \n",
        "2357                       Flat no. 3                            Cairo   \n",
        "2358                               NaN                            Giza   \n",
        "2359                           Villa 2                    Sheikh Zayed   \n",
        "2360                               201                    maadi, cairo   \n",
        "2361                         villa 6 C                           cairo   \n",
        "\n",
        "        ...     Country Country Code             Zip  \\\n",
        "0       ...       Egypt           EG           11435   \n",
        "1       ...       Egypt           EG           11511   \n",
        "2       ...       Egypt           EG           00000   \n",
        "3       ...       Egypt           EG           11341   \n",
        "4       ...       Egypt           EG           11371   \n",
        "5       ...       Egypt           EG          Am1234   \n",
        "6       ...       Egypt           EG         5253258   \n",
        "7       ...       Egypt           EG           12211   \n",
        "8       ...       Egypt           EG           00000   \n",
        "9       ...       Egypt           EG           00202   \n",
        "10      ...       Egypt           EG           00000   \n",
        "11      ...       Egypt           EG           15565   \n",
        "12      ...       Egypt           EG            0000   \n",
        "13      ...       Egypt           EG           hb123   \n",
        "14      ...       Egypt           EG           00202   \n",
        "15      ...       Egypt           EG           00202   \n",
        "16      ...       Egypt           EG           11762   \n",
        "17      ...       Egypt           EG             001   \n",
        "18      ...       Egypt           EG           12611   \n",
        "19      ...       Egypt           EG           12611   \n",
        "20      ...       Egypt           EG           11841   \n",
        "21      ...       Egypt           EG           11321   \n",
        "22      ...       Egypt           EG           11511   \n",
        "23      ...       Egypt           EG           hb123   \n",
        "24      ...       Egypt           EG            1111   \n",
        "25      ...       Egypt           EG           hb123   \n",
        "26      ...       Egypt           EG           11571   \n",
        "27      ...       Egypt           EG           cairo   \n",
        "28      ...       Egypt           EG          000000   \n",
        "29      ...       Egypt           EG          000000   \n",
        "...     ...         ...          ...             ...   \n",
        "2332    ...       Egypt           EG           00000   \n",
        "2333    ...       Egypt           EG           00202   \n",
        "2334    ...       Egypt           EG           12411   \n",
        "2335    ...       Egypt           EG         2344434   \n",
        "2336    ...       Egypt           EG          Am1234   \n",
        "2337    ...       Egypt           EG           11835   \n",
        "2338    ...       Egypt           EG           11231   \n",
        "2339    ...       Egypt           EG           12566   \n",
        "2340    ...       Egypt           EG           11341   \n",
        "2341    ...       Egypt           EG           11431   \n",
        "2342    ...       Egypt           EG           11341   \n",
        "2343    ...       Egypt           EG           11341   \n",
        "2344    ...       Egypt           EG           11742   \n",
        "2345    ...       Egypt           EG           18411   \n",
        "2346    ...       Egypt           EG           11511   \n",
        "2347    ...       Egypt           EG           hb123   \n",
        "2348    ...       Egypt           EG         abc 123   \n",
        "2349    ...       Egypt           EG            0000   \n",
        "2350    ...       Egypt           EG           00202   \n",
        "2351    ...       Egypt           EG           00202   \n",
        "2352    ...       Egypt           EG           11211   \n",
        "2353    ...       Egypt           EG           hb123   \n",
        "2354    ...       Egypt           EG           11649   \n",
        "2355    ...       Egypt           EG           12566   \n",
        "2356    ...       Egypt           EG  Not applicable   \n",
        "2357    ...       Egypt           EG              No   \n",
        "2358    ...       Egypt           EG           12655   \n",
        "2359    ...       Egypt           EG           16404   \n",
        "2360    ...       Egypt           EG           12345   \n",
        "2361    ...       Egypt           EG           hk123   \n",
        "\n",
        "                            Phone Accepts Marketing Total Spent Total Orders  \\\n",
        "0                     01090904137               yes      277.17            1   \n",
        "1                     01222160835                no     1021.10            2   \n",
        "2                     01023063292                no      399.00            4   \n",
        "3                     01221124426                no      936.00            3   \n",
        "4                     01001436666                no      187.00            3   \n",
        "5                     01005510543                no        0.00            2   \n",
        "6                   0100001224555                no        0.00            1   \n",
        "7                     01222174854                no      310.18            1   \n",
        "8                     01223221581               yes       71.20            1   \n",
        "9                     01066656222                no      370.00            1   \n",
        "10                    01060002000                no      434.00            1   \n",
        "11                    01222344036                no     5983.32           24   \n",
        "12                    01202070773                no      426.80            4   \n",
        "13    01026442230     01093551807                no        0.00            4   \n",
        "14                    01222103099                no      157.00            3   \n",
        "15                    01019078478                no       60.00            1   \n",
        "16                    01141224422                no      128.50            1   \n",
        "17                            NaN               yes      132.25            1   \n",
        "18                    01117005877                no       70.00            1   \n",
        "19                    01009599615               yes      753.39            5   \n",
        "20                    01202244355               yes      300.75            1   \n",
        "21                    01003588073                no      432.00            3   \n",
        "22                  +201007901118                no      352.00            1   \n",
        "23                    01002280010                no      291.70            5   \n",
        "24                    01000100745               yes    13135.70           42   \n",
        "25                    01000993094                no        0.00            1   \n",
        "26                    01111397206                no        0.00            1   \n",
        "27                    01008020608               yes     1889.88           12   \n",
        "28                    01001415888                no       81.00            1   \n",
        "29                    01001415888                no      173.00            2   \n",
        "...                           ...               ...         ...          ...   \n",
        "2332               00201222240595                no      324.00            3   \n",
        "2333                  01001191212                no      277.00            1   \n",
        "2334                +201114400112                no        0.00            1   \n",
        "2335                  01149734254                no      753.00            3   \n",
        "2336                  01125699291                no      211.00            1   \n",
        "2337                  01069786059                no      263.20            2   \n",
        "2338                  01221888861               yes       88.13            1   \n",
        "2339                  01150888848                no      547.20            4   \n",
        "2340                  01005047970               yes      259.50            2   \n",
        "2341                +201223781733                no        0.00            1   \n",
        "2342               00201001108847                no      931.50            5   \n",
        "2343                  01222107517                no        0.00            1   \n",
        "2344                 201005211550                no       52.00            1   \n",
        "2345                  01000448740               yes      796.60            6   \n",
        "2346                  01141222226                no      728.80            1   \n",
        "2347                  01025550552                no        0.00            1   \n",
        "2348                  01271188471                no      116.30            1   \n",
        "2349                   0227355135                no      480.00            3   \n",
        "2350                  01002261945                no      117.50            2   \n",
        "2351                  01000892677                no      197.50            2   \n",
        "2352                +201227759372               yes     1218.40            7   \n",
        "2353  01007077741  /  01008664628                no        0.00            2   \n",
        "2354                  01000350409               yes      327.50            2   \n",
        "2355                  01002240643                no      132.40            1   \n",
        "2356                  01116835556                no       62.00            1   \n",
        "2357                  01097902883                no        0.00            1   \n",
        "2358                  01006061566                no      330.02            1   \n",
        "2359                  01125573521                no     1211.57            2   \n",
        "2360               00201023982488                no      620.10            1   \n",
        "2361                  01005497979                no     1625.00            7   \n",
        "\n",
        "                      Tags  Note Tax Exempt  \n",
        "0                      NaN   NaN         no  \n",
        "1                      NaN   NaN         no  \n",
        "2                      NaN   NaN         no  \n",
        "3                      NaN   NaN         no  \n",
        "4                      NaN   NaN         no  \n",
        "5                      NaN   NaN         no  \n",
        "6                      NaN   NaN         no  \n",
        "7                      NaN   NaN         no  \n",
        "8                      NaN   NaN         no  \n",
        "9                      NaN   NaN         no  \n",
        "10                     NaN   NaN         no  \n",
        "11                     NaN   NaN         no  \n",
        "12                     NaN   NaN         no  \n",
        "13                     NaN   NaN         no  \n",
        "14                     NaN   NaN         no  \n",
        "15                     NaN   NaN         no  \n",
        "16                     NaN   NaN         no  \n",
        "17                     NaN   NaN         no  \n",
        "18                     NaN   NaN         no  \n",
        "19                     NaN   NaN         no  \n",
        "20                     NaN   NaN         no  \n",
        "21                     NaN   NaN         no  \n",
        "22                     NaN   NaN         no  \n",
        "23                     NaN   NaN         no  \n",
        "24                     NaN   NaN         no  \n",
        "25                     NaN   NaN         no  \n",
        "26                     NaN   NaN         no  \n",
        "27                     NaN   NaN         no  \n",
        "28                     NaN   NaN         no  \n",
        "29                     NaN   NaN         no  \n",
        "...                    ...   ...        ...  \n",
        "2332                   NaN   NaN         no  \n",
        "2333                   NaN   NaN         no  \n",
        "2334                   NaN   NaN         no  \n",
        "2335                   NaN   NaN         no  \n",
        "2336                   NaN   NaN         no  \n",
        "2337                   NaN   NaN         no  \n",
        "2338                   NaN   NaN         no  \n",
        "2339                   NaN   NaN         no  \n",
        "2340  newsletter, prospect   NaN         no  \n",
        "2341                   NaN   NaN         no  \n",
        "2342                   NaN   NaN         no  \n",
        "2343                   NaN   NaN         no  \n",
        "2344                   NaN   NaN         no  \n",
        "2345                   NaN   NaN         no  \n",
        "2346                   NaN   NaN         no  \n",
        "2347                   NaN   NaN         no  \n",
        "2348                   NaN   NaN         no  \n",
        "2349                   NaN   NaN         no  \n",
        "2350                   NaN   NaN         no  \n",
        "2351                   NaN   NaN         no  \n",
        "2352                   NaN   NaN         no  \n",
        "2353                   NaN   NaN         no  \n",
        "2354  newsletter, prospect   NaN         no  \n",
        "2355                   NaN   NaN         no  \n",
        "2356                   NaN   NaN         no  \n",
        "2357                   NaN   NaN         no  \n",
        "2358                   NaN   NaN         no  \n",
        "2359                   NaN   NaN         no  \n",
        "2360                   NaN   NaN         no  \n",
        "2361                   NaN   NaN         no  \n",
        "\n",
        "[2362 rows x 22 columns]"
       ]
      }
     ],
     "prompt_number": 6
    },
    {
     "cell_type": "code",
     "collapsed": false,
     "input": [
      "df2 = df2[['Average']]\n",
      "df2 = df2[df2.Average != 0] #retain average > 0\n",
      "df2 = df2.reset_index().drop('index',1)\n",
      "a = df2['Average'].tolist()\n",
      "a = np.asarray(a)\n",
      "df2"
     ],
     "language": "python",
     "metadata": {},
     "outputs": [
      {
       "html": [
        "<div style=\"max-height:1000px;max-width:1500px;overflow:auto;\">\n",
        "<table border=\"1\" class=\"dataframe\">\n",
        "  <thead>\n",
        "    <tr style=\"text-align: right;\">\n",
        "      <th></th>\n",
        "      <th>Average</th>\n",
        "    </tr>\n",
        "  </thead>\n",
        "  <tbody>\n",
        "    <tr>\n",
        "      <th>0   </th>\n",
        "      <td>  47.000000</td>\n",
        "    </tr>\n",
        "    <tr>\n",
        "      <th>1   </th>\n",
        "      <td>   5.500000</td>\n",
        "    </tr>\n",
        "    <tr>\n",
        "      <th>2   </th>\n",
        "      <td> 125.000000</td>\n",
        "    </tr>\n",
        "    <tr>\n",
        "      <th>3   </th>\n",
        "      <td>   7.333333</td>\n",
        "    </tr>\n",
        "    <tr>\n",
        "      <th>4   </th>\n",
        "      <td>   2.500000</td>\n",
        "    </tr>\n",
        "    <tr>\n",
        "      <th>5   </th>\n",
        "      <td>  24.764706</td>\n",
        "    </tr>\n",
        "    <tr>\n",
        "      <th>6   </th>\n",
        "      <td>   5.500000</td>\n",
        "    </tr>\n",
        "    <tr>\n",
        "      <th>7   </th>\n",
        "      <td>   4.000000</td>\n",
        "    </tr>\n",
        "    <tr>\n",
        "      <th>8   </th>\n",
        "      <td>   1.000000</td>\n",
        "    </tr>\n",
        "    <tr>\n",
        "      <th>9   </th>\n",
        "      <td>   7.000000</td>\n",
        "    </tr>\n",
        "    <tr>\n",
        "      <th>10  </th>\n",
        "      <td>  88.666667</td>\n",
        "    </tr>\n",
        "    <tr>\n",
        "      <th>11  </th>\n",
        "      <td>   4.666667</td>\n",
        "    </tr>\n",
        "    <tr>\n",
        "      <th>12  </th>\n",
        "      <td>  29.142857</td>\n",
        "    </tr>\n",
        "    <tr>\n",
        "      <th>13  </th>\n",
        "      <td>  18.000000</td>\n",
        "    </tr>\n",
        "    <tr>\n",
        "      <th>14  </th>\n",
        "      <td>  80.500000</td>\n",
        "    </tr>\n",
        "    <tr>\n",
        "      <th>15  </th>\n",
        "      <td>  56.000000</td>\n",
        "    </tr>\n",
        "    <tr>\n",
        "      <th>16  </th>\n",
        "      <td>  43.000000</td>\n",
        "    </tr>\n",
        "    <tr>\n",
        "      <th>17  </th>\n",
        "      <td>   8.000000</td>\n",
        "    </tr>\n",
        "    <tr>\n",
        "      <th>18  </th>\n",
        "      <td>  88.666667</td>\n",
        "    </tr>\n",
        "    <tr>\n",
        "      <th>19  </th>\n",
        "      <td> 127.000000</td>\n",
        "    </tr>\n",
        "    <tr>\n",
        "      <th>20  </th>\n",
        "      <td>  43.958333</td>\n",
        "    </tr>\n",
        "    <tr>\n",
        "      <th>21  </th>\n",
        "      <td>   1.000000</td>\n",
        "    </tr>\n",
        "    <tr>\n",
        "      <th>22  </th>\n",
        "      <td>  57.272727</td>\n",
        "    </tr>\n",
        "    <tr>\n",
        "      <th>23  </th>\n",
        "      <td>   7.500000</td>\n",
        "    </tr>\n",
        "    <tr>\n",
        "      <th>24  </th>\n",
        "      <td>  24.500000</td>\n",
        "    </tr>\n",
        "    <tr>\n",
        "      <th>25  </th>\n",
        "      <td>  19.000000</td>\n",
        "    </tr>\n",
        "    <tr>\n",
        "      <th>26  </th>\n",
        "      <td>   0.500000</td>\n",
        "    </tr>\n",
        "    <tr>\n",
        "      <th>27  </th>\n",
        "      <td> 360.500000</td>\n",
        "    </tr>\n",
        "    <tr>\n",
        "      <th>28  </th>\n",
        "      <td>  12.000000</td>\n",
        "    </tr>\n",
        "    <tr>\n",
        "      <th>29  </th>\n",
        "      <td>  26.333333</td>\n",
        "    </tr>\n",
        "    <tr>\n",
        "      <th>...</th>\n",
        "      <td>...</td>\n",
        "    </tr>\n",
        "    <tr>\n",
        "      <th>1032</th>\n",
        "      <td>  60.666667</td>\n",
        "    </tr>\n",
        "    <tr>\n",
        "      <th>1033</th>\n",
        "      <td>  72.500000</td>\n",
        "    </tr>\n",
        "    <tr>\n",
        "      <th>1034</th>\n",
        "      <td>  32.800000</td>\n",
        "    </tr>\n",
        "    <tr>\n",
        "      <th>1035</th>\n",
        "      <td>  72.000000</td>\n",
        "    </tr>\n",
        "    <tr>\n",
        "      <th>1036</th>\n",
        "      <td>  28.500000</td>\n",
        "    </tr>\n",
        "    <tr>\n",
        "      <th>1037</th>\n",
        "      <td>   3.333333</td>\n",
        "    </tr>\n",
        "    <tr>\n",
        "      <th>1038</th>\n",
        "      <td>   2.000000</td>\n",
        "    </tr>\n",
        "    <tr>\n",
        "      <th>1039</th>\n",
        "      <td>   9.333333</td>\n",
        "    </tr>\n",
        "    <tr>\n",
        "      <th>1040</th>\n",
        "      <td>  20.500000</td>\n",
        "    </tr>\n",
        "    <tr>\n",
        "      <th>1041</th>\n",
        "      <td>   7.833333</td>\n",
        "    </tr>\n",
        "    <tr>\n",
        "      <th>1042</th>\n",
        "      <td>  19.125000</td>\n",
        "    </tr>\n",
        "    <tr>\n",
        "      <th>1043</th>\n",
        "      <td>   5.285714</td>\n",
        "    </tr>\n",
        "    <tr>\n",
        "      <th>1044</th>\n",
        "      <td>  23.000000</td>\n",
        "    </tr>\n",
        "    <tr>\n",
        "      <th>1045</th>\n",
        "      <td>  13.875000</td>\n",
        "    </tr>\n",
        "    <tr>\n",
        "      <th>1046</th>\n",
        "      <td>  31.750000</td>\n",
        "    </tr>\n",
        "    <tr>\n",
        "      <th>1047</th>\n",
        "      <td> 134.000000</td>\n",
        "    </tr>\n",
        "    <tr>\n",
        "      <th>1048</th>\n",
        "      <td>  99.666667</td>\n",
        "    </tr>\n",
        "    <tr>\n",
        "      <th>1049</th>\n",
        "      <td>  21.333333</td>\n",
        "    </tr>\n",
        "    <tr>\n",
        "      <th>1050</th>\n",
        "      <td>   5.000000</td>\n",
        "    </tr>\n",
        "    <tr>\n",
        "      <th>1051</th>\n",
        "      <td>  15.750000</td>\n",
        "    </tr>\n",
        "    <tr>\n",
        "      <th>1052</th>\n",
        "      <td> 149.500000</td>\n",
        "    </tr>\n",
        "    <tr>\n",
        "      <th>1053</th>\n",
        "      <td>  31.400000</td>\n",
        "    </tr>\n",
        "    <tr>\n",
        "      <th>1054</th>\n",
        "      <td>  66.200000</td>\n",
        "    </tr>\n",
        "    <tr>\n",
        "      <th>1055</th>\n",
        "      <td>  12.500000</td>\n",
        "    </tr>\n",
        "    <tr>\n",
        "      <th>1056</th>\n",
        "      <td>   0.500000</td>\n",
        "    </tr>\n",
        "    <tr>\n",
        "      <th>1057</th>\n",
        "      <td>  41.666667</td>\n",
        "    </tr>\n",
        "    <tr>\n",
        "      <th>1058</th>\n",
        "      <td>  35.500000</td>\n",
        "    </tr>\n",
        "    <tr>\n",
        "      <th>1059</th>\n",
        "      <td> 219.000000</td>\n",
        "    </tr>\n",
        "    <tr>\n",
        "      <th>1060</th>\n",
        "      <td>  35.500000</td>\n",
        "    </tr>\n",
        "    <tr>\n",
        "      <th>1061</th>\n",
        "      <td>  48.571429</td>\n",
        "    </tr>\n",
        "  </tbody>\n",
        "</table>\n",
        "<p>1062 rows \u00d7 1 columns</p>\n",
        "</div>"
       ],
       "metadata": {},
       "output_type": "pyout",
       "prompt_number": 7,
       "text": [
        "         Average\n",
        "0      47.000000\n",
        "1       5.500000\n",
        "2     125.000000\n",
        "3       7.333333\n",
        "4       2.500000\n",
        "5      24.764706\n",
        "6       5.500000\n",
        "7       4.000000\n",
        "8       1.000000\n",
        "9       7.000000\n",
        "10     88.666667\n",
        "11      4.666667\n",
        "12     29.142857\n",
        "13     18.000000\n",
        "14     80.500000\n",
        "15     56.000000\n",
        "16     43.000000\n",
        "17      8.000000\n",
        "18     88.666667\n",
        "19    127.000000\n",
        "20     43.958333\n",
        "21      1.000000\n",
        "22     57.272727\n",
        "23      7.500000\n",
        "24     24.500000\n",
        "25     19.000000\n",
        "26      0.500000\n",
        "27    360.500000\n",
        "28     12.000000\n",
        "29     26.333333\n",
        "...          ...\n",
        "1032   60.666667\n",
        "1033   72.500000\n",
        "1034   32.800000\n",
        "1035   72.000000\n",
        "1036   28.500000\n",
        "1037    3.333333\n",
        "1038    2.000000\n",
        "1039    9.333333\n",
        "1040   20.500000\n",
        "1041    7.833333\n",
        "1042   19.125000\n",
        "1043    5.285714\n",
        "1044   23.000000\n",
        "1045   13.875000\n",
        "1046   31.750000\n",
        "1047  134.000000\n",
        "1048   99.666667\n",
        "1049   21.333333\n",
        "1050    5.000000\n",
        "1051   15.750000\n",
        "1052  149.500000\n",
        "1053   31.400000\n",
        "1054   66.200000\n",
        "1055   12.500000\n",
        "1056    0.500000\n",
        "1057   41.666667\n",
        "1058   35.500000\n",
        "1059  219.000000\n",
        "1060   35.500000\n",
        "1061   48.571429\n",
        "\n",
        "[1062 rows x 1 columns]"
       ]
      }
     ],
     "prompt_number": 7
    },
    {
     "cell_type": "code",
     "collapsed": false,
     "input": [
      "df4 = pd.DataFrame(columns = ['Days between orders', 'Customers'])\n",
      "df4['Days between orders'] = pd.Series(['1 to 4', '4 to 7', '7 to 15', '15 to 30', '30 to 60', '60 to 100', '100+'])\n",
      "df4"
     ],
     "language": "python",
     "metadata": {},
     "outputs": [
      {
       "html": [
        "<div style=\"max-height:1000px;max-width:1500px;overflow:auto;\">\n",
        "<table border=\"1\" class=\"dataframe\">\n",
        "  <thead>\n",
        "    <tr style=\"text-align: right;\">\n",
        "      <th></th>\n",
        "      <th>Days between orders</th>\n",
        "      <th>Customers</th>\n",
        "    </tr>\n",
        "  </thead>\n",
        "  <tbody>\n",
        "    <tr>\n",
        "      <th>0</th>\n",
        "      <td>    1 to 4</td>\n",
        "      <td> NaN</td>\n",
        "    </tr>\n",
        "    <tr>\n",
        "      <th>1</th>\n",
        "      <td>    4 to 7</td>\n",
        "      <td> NaN</td>\n",
        "    </tr>\n",
        "    <tr>\n",
        "      <th>2</th>\n",
        "      <td>   7 to 15</td>\n",
        "      <td> NaN</td>\n",
        "    </tr>\n",
        "    <tr>\n",
        "      <th>3</th>\n",
        "      <td>  15 to 30</td>\n",
        "      <td> NaN</td>\n",
        "    </tr>\n",
        "    <tr>\n",
        "      <th>4</th>\n",
        "      <td>  30 to 60</td>\n",
        "      <td> NaN</td>\n",
        "    </tr>\n",
        "    <tr>\n",
        "      <th>5</th>\n",
        "      <td> 60 to 100</td>\n",
        "      <td> NaN</td>\n",
        "    </tr>\n",
        "    <tr>\n",
        "      <th>6</th>\n",
        "      <td>      100+</td>\n",
        "      <td> NaN</td>\n",
        "    </tr>\n",
        "  </tbody>\n",
        "</table>\n",
        "</div>"
       ],
       "metadata": {},
       "output_type": "pyout",
       "prompt_number": 8,
       "text": [
        "  Days between orders Customers\n",
        "0              1 to 4       NaN\n",
        "1              4 to 7       NaN\n",
        "2             7 to 15       NaN\n",
        "3            15 to 30       NaN\n",
        "4            30 to 60       NaN\n",
        "5           60 to 100       NaN\n",
        "6                100+       NaN"
       ]
      }
     ],
     "prompt_number": 8
    },
    {
     "cell_type": "code",
     "collapsed": false,
     "input": [
      "#count orders in given range\n",
      "df4.iloc[0, 1] = np.compress((0 < a) & (a < 4), a).size\n",
      "df4.iloc[1, 1] = np.compress((4 <= a) & (a < 7), a).size\n",
      "df4.iloc[2, 1] = np.compress((7 <= a) & (a < 15), a).size\n",
      "df4.iloc[3, 1] = np.compress((15 <= a) & (a < 30), a).size\n",
      "df4.iloc[4, 1] = np.compress((30 <= a) & (a < 60), a).size\n",
      "df4.iloc[5, 1] = np.compress((60 <= a) & (a < 100), a).size\n",
      "df4.iloc[6, 1] = np.compress((100 <= a), a).size\n",
      "df4"
     ],
     "language": "python",
     "metadata": {},
     "outputs": [
      {
       "html": [
        "<div style=\"max-height:1000px;max-width:1500px;overflow:auto;\">\n",
        "<table border=\"1\" class=\"dataframe\">\n",
        "  <thead>\n",
        "    <tr style=\"text-align: right;\">\n",
        "      <th></th>\n",
        "      <th>Days between orders</th>\n",
        "      <th>Customers</th>\n",
        "    </tr>\n",
        "  </thead>\n",
        "  <tbody>\n",
        "    <tr>\n",
        "      <th>0</th>\n",
        "      <td>    1 to 4</td>\n",
        "      <td> 165</td>\n",
        "    </tr>\n",
        "    <tr>\n",
        "      <th>1</th>\n",
        "      <td>    4 to 7</td>\n",
        "      <td>  72</td>\n",
        "    </tr>\n",
        "    <tr>\n",
        "      <th>2</th>\n",
        "      <td>   7 to 15</td>\n",
        "      <td> 157</td>\n",
        "    </tr>\n",
        "    <tr>\n",
        "      <th>3</th>\n",
        "      <td>  15 to 30</td>\n",
        "      <td> 189</td>\n",
        "    </tr>\n",
        "    <tr>\n",
        "      <th>4</th>\n",
        "      <td>  30 to 60</td>\n",
        "      <td> 217</td>\n",
        "    </tr>\n",
        "    <tr>\n",
        "      <th>5</th>\n",
        "      <td> 60 to 100</td>\n",
        "      <td> 121</td>\n",
        "    </tr>\n",
        "    <tr>\n",
        "      <th>6</th>\n",
        "      <td>      100+</td>\n",
        "      <td> 141</td>\n",
        "    </tr>\n",
        "  </tbody>\n",
        "</table>\n",
        "</div>"
       ],
       "metadata": {},
       "output_type": "pyout",
       "prompt_number": 9,
       "text": [
        "  Days between orders Customers\n",
        "0              1 to 4       165\n",
        "1              4 to 7        72\n",
        "2             7 to 15       157\n",
        "3            15 to 30       189\n",
        "4            30 to 60       217\n",
        "5           60 to 100       121\n",
        "6                100+       141"
       ]
      }
     ],
     "prompt_number": 9
    },
    {
     "cell_type": "code",
     "collapsed": false,
     "input": [],
     "language": "python",
     "metadata": {},
     "outputs": []
    }
   ],
   "metadata": {}
  }
 ]
}
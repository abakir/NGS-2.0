{
 "metadata": {
  "name": "",
  "signature": "sha256:8e611841b968956307585842ed1ebbf06c7de2df5af44eb46fd53d582714c63d"
 },
 "nbformat": 3,
 "nbformat_minor": 0,
 "worksheets": [
  {
   "cells": [
    {
     "cell_type": "code",
     "collapsed": false,
     "input": [
      "import pandas as pd\n",
      "#import yaml\n",
      "\n",
      "#with open(\"config.yaml\", 'r') as ymlfile:\n",
      "#        cfg = yaml.load(ymlfile)\n",
      "\n",
      "#df = pd.read_csv(cfg['root']+cfg['dir_data_vend']+cfg[\"ip_total_revenue_prod\"])\n",
      "df = pd.read_csv(\"C:\\Users\\saisree849\\Documents\\GitHub\\NGS-2.0\\\\12_dashboard_tables\\data_input\\\\vend\\\\vend-total_revenue-for-product_variant-by-month.csv\")\n",
      "df"
     ],
     "language": "python",
     "metadata": {},
     "outputs": [
      {
       "html": [
        "<div style=\"max-height:1000px;max-width:1500px;overflow:auto;\">\n",
        "<table border=\"1\" class=\"dataframe\">\n",
        "  <thead>\n",
        "    <tr style=\"text-align: right;\">\n",
        "      <th></th>\n",
        "      <th>Product</th>\n",
        "      <th>SKU</th>\n",
        "      <th>Supplier Code</th>\n",
        "      <th>Brand</th>\n",
        "      <th>Supplier</th>\n",
        "      <th>Type</th>\n",
        "      <th>Tag</th>\n",
        "      <th>May 2012</th>\n",
        "      <th>Jun 2012</th>\n",
        "      <th>Jul 2012</th>\n",
        "      <th>...</th>\n",
        "      <th>Aug 2015</th>\n",
        "      <th>Sep 2015</th>\n",
        "      <th>Oct 2015</th>\n",
        "      <th>Nov 2015</th>\n",
        "      <th>Dec 2015</th>\n",
        "      <th>Revenue</th>\n",
        "      <th>Cost of Goods</th>\n",
        "      <th>Gross Profit</th>\n",
        "      <th>Margin</th>\n",
        "      <th>Tax</th>\n",
        "    </tr>\n",
        "  </thead>\n",
        "  <tbody>\n",
        "    <tr>\n",
        "      <th>0   </th>\n",
        "      <td>                 Quinoa ( white ) - organic / 454g</td>\n",
        "      <td>                           106900</td>\n",
        "      <td>NaN</td>\n",
        "      <td> Eden Foods, Inc.</td>\n",
        "      <td>                Hv</td>\n",
        "      <td>               Grains</td>\n",
        "      <td>                                               NaN</td>\n",
        "      <td>    0.000000</td>\n",
        "      <td>    0.000000</td>\n",
        "      <td>     0.00000</td>\n",
        "      <td>...</td>\n",
        "      <td>      0.000000</td>\n",
        "      <td>      0.000000</td>\n",
        "      <td>      0.000000</td>\n",
        "      <td>      0.000000</td>\n",
        "      <td>      0.000000</td>\n",
        "      <td> 62300.960000</td>\n",
        "      <td> 51333.7400</td>\n",
        "      <td> 10967.220000</td>\n",
        "      <td> 0.176036</td>\n",
        "      <td>  0</td>\n",
        "    </tr>\n",
        "    <tr>\n",
        "      <th>1   </th>\n",
        "      <td>                             Chicken Breasts / 1kg</td>\n",
        "      <td>                   ChickenBreasts</td>\n",
        "      <td>NaN</td>\n",
        "      <td>              NGS</td>\n",
        "      <td>             Shahd</td>\n",
        "      <td>        Fresh poultry</td>\n",
        "      <td>                                               NaN</td>\n",
        "      <td>    0.000000</td>\n",
        "      <td>    0.000000</td>\n",
        "      <td>     0.00000</td>\n",
        "      <td>...</td>\n",
        "      <td>      0.000000</td>\n",
        "      <td>      0.000000</td>\n",
        "      <td>      0.000000</td>\n",
        "      <td>      0.000000</td>\n",
        "      <td>      0.000000</td>\n",
        "      <td> 59336.960000</td>\n",
        "      <td> 45182.0000</td>\n",
        "      <td> 14154.960000</td>\n",
        "      <td> 0.238552</td>\n",
        "      <td>  0</td>\n",
        "    </tr>\n",
        "    <tr>\n",
        "      <th>2   </th>\n",
        "      <td>            Chicken breast - Hormone free (frozen)</td>\n",
        "      <td>                            80001</td>\n",
        "      <td>NaN</td>\n",
        "      <td>              NGS</td>\n",
        "      <td>             Shahd</td>\n",
        "      <td>              Poultry</td>\n",
        "      <td>                                            Frozen</td>\n",
        "      <td>    0.000000</td>\n",
        "      <td>    0.000000</td>\n",
        "      <td>     0.00000</td>\n",
        "      <td>...</td>\n",
        "      <td>   4686.945289</td>\n",
        "      <td>   5240.381685</td>\n",
        "      <td>   7792.745465</td>\n",
        "      <td>   7767.317151</td>\n",
        "      <td>   7137.251022</td>\n",
        "      <td> 49308.067962</td>\n",
        "      <td> 35058.6400</td>\n",
        "      <td> 14249.427962</td>\n",
        "      <td> 0.288988</td>\n",
        "      <td>  0</td>\n",
        "    </tr>\n",
        "    <tr>\n",
        "      <th>3   </th>\n",
        "      <td>               Coconut oil (organic) - for cooking</td>\n",
        "      <td>                           101001</td>\n",
        "      <td>NaN</td>\n",
        "      <td>              NaN</td>\n",
        "      <td>    Divine coconut</td>\n",
        "      <td>                  Oil</td>\n",
        "      <td>                      Super food, Weight loss, Oil</td>\n",
        "      <td>    0.000000</td>\n",
        "      <td>    0.000000</td>\n",
        "      <td>     0.00000</td>\n",
        "      <td>...</td>\n",
        "      <td>   4417.800000</td>\n",
        "      <td>   3537.665409</td>\n",
        "      <td>   4277.338577</td>\n",
        "      <td>   8850.907080</td>\n",
        "      <td>   4732.163715</td>\n",
        "      <td> 41089.779935</td>\n",
        "      <td> 31472.0000</td>\n",
        "      <td>  9617.779935</td>\n",
        "      <td> 0.234067</td>\n",
        "      <td>  0</td>\n",
        "    </tr>\n",
        "    <tr>\n",
        "      <th>4   </th>\n",
        "      <td>                               Whole Chicken / 1kg</td>\n",
        "      <td>                     WholeChicken</td>\n",
        "      <td>NaN</td>\n",
        "      <td>              NGS</td>\n",
        "      <td>             Shahd</td>\n",
        "      <td>        Fresh poultry</td>\n",
        "      <td>                                               NaN</td>\n",
        "      <td>    0.000000</td>\n",
        "      <td>    0.000000</td>\n",
        "      <td>     0.00000</td>\n",
        "      <td>...</td>\n",
        "      <td>      0.000000</td>\n",
        "      <td>      0.000000</td>\n",
        "      <td>      0.000000</td>\n",
        "      <td>      0.000000</td>\n",
        "      <td>      0.000000</td>\n",
        "      <td> 40680.500000</td>\n",
        "      <td> 31340.3000</td>\n",
        "      <td>  9340.200000</td>\n",
        "      <td> 0.229599</td>\n",
        "      <td>  0</td>\n",
        "    </tr>\n",
        "    <tr>\n",
        "      <th>5   </th>\n",
        "      <td>                                 Beef Fillet / 1kg</td>\n",
        "      <td>                       BeefFillet</td>\n",
        "      <td>NaN</td>\n",
        "      <td>              NGS</td>\n",
        "      <td>             Shahd</td>\n",
        "      <td>           Fresh beef</td>\n",
        "      <td>                                               NaN</td>\n",
        "      <td>    0.000000</td>\n",
        "      <td>    0.000000</td>\n",
        "      <td>     0.00000</td>\n",
        "      <td>...</td>\n",
        "      <td>      0.000000</td>\n",
        "      <td>      0.000000</td>\n",
        "      <td>      0.000000</td>\n",
        "      <td>      0.000000</td>\n",
        "      <td>      0.000000</td>\n",
        "      <td> 25178.217820</td>\n",
        "      <td> 17442.5000</td>\n",
        "      <td>  7735.717820</td>\n",
        "      <td> 0.307238</td>\n",
        "      <td>  0</td>\n",
        "    </tr>\n",
        "    <tr>\n",
        "      <th>6   </th>\n",
        "      <td>                               Beef fillet (whole)</td>\n",
        "      <td>                           151017</td>\n",
        "      <td>NaN</td>\n",
        "      <td>              NGS</td>\n",
        "      <td>         El rancho</td>\n",
        "      <td>                 Beef</td>\n",
        "      <td>                                         Wholesale</td>\n",
        "      <td>    0.000000</td>\n",
        "      <td>    0.000000</td>\n",
        "      <td>     0.00000</td>\n",
        "      <td>...</td>\n",
        "      <td>      0.000000</td>\n",
        "      <td>      0.000000</td>\n",
        "      <td>      0.000000</td>\n",
        "      <td>      0.000000</td>\n",
        "      <td>      0.000000</td>\n",
        "      <td> 23672.175800</td>\n",
        "      <td> 20129.1750</td>\n",
        "      <td>  3543.000800</td>\n",
        "      <td> 0.149669</td>\n",
        "      <td>  0</td>\n",
        "    </tr>\n",
        "    <tr>\n",
        "      <th>7   </th>\n",
        "      <td>             Whole chicken - Hormone free (frozen)</td>\n",
        "      <td>                            80005</td>\n",
        "      <td>NaN</td>\n",
        "      <td>              NGS</td>\n",
        "      <td>             Shahd</td>\n",
        "      <td>              Poultry</td>\n",
        "      <td>                                            Frozen</td>\n",
        "      <td>    0.000000</td>\n",
        "      <td>    0.000000</td>\n",
        "      <td>     0.00000</td>\n",
        "      <td>...</td>\n",
        "      <td>   1620.000000</td>\n",
        "      <td>   1980.000000</td>\n",
        "      <td>   4080.421348</td>\n",
        "      <td>   2629.084098</td>\n",
        "      <td>   2763.917338</td>\n",
        "      <td> 23442.922784</td>\n",
        "      <td> 16012.0300</td>\n",
        "      <td>  7430.892784</td>\n",
        "      <td> 0.316978</td>\n",
        "      <td>  0</td>\n",
        "    </tr>\n",
        "    <tr>\n",
        "      <th>8   </th>\n",
        "      <td>      Beef mince - no fat (chemical free) - frozen</td>\n",
        "      <td>                           151006</td>\n",
        "      <td>NaN</td>\n",
        "      <td>              NGS</td>\n",
        "      <td>         El rancho</td>\n",
        "      <td>                 Beef</td>\n",
        "      <td>                       Frozen, Chemical free, Beef</td>\n",
        "      <td>    0.000000</td>\n",
        "      <td>    0.000000</td>\n",
        "      <td>     0.00000</td>\n",
        "      <td>...</td>\n",
        "      <td>   3038.000000</td>\n",
        "      <td>   1550.000000</td>\n",
        "      <td>    973.594969</td>\n",
        "      <td>   2503.863746</td>\n",
        "      <td>   2558.649903</td>\n",
        "      <td> 22389.239270</td>\n",
        "      <td> 15856.7200</td>\n",
        "      <td>  6532.519270</td>\n",
        "      <td> 0.291770</td>\n",
        "      <td>  0</td>\n",
        "    </tr>\n",
        "    <tr>\n",
        "      <th>9   </th>\n",
        "      <td>               Coconut oil (organic) - for cooking</td>\n",
        "      <td>     Coconutoilorganic-forcooking</td>\n",
        "      <td>NaN</td>\n",
        "      <td>   Divine coconut</td>\n",
        "      <td>    Divine coconut</td>\n",
        "      <td>                  Oil</td>\n",
        "      <td>                                               NaN</td>\n",
        "      <td>    0.000000</td>\n",
        "      <td>    0.000000</td>\n",
        "      <td>     0.00000</td>\n",
        "      <td>...</td>\n",
        "      <td>      0.000000</td>\n",
        "      <td>      0.000000</td>\n",
        "      <td>      0.000000</td>\n",
        "      <td>      0.000000</td>\n",
        "      <td>      0.000000</td>\n",
        "      <td> 20635.000000</td>\n",
        "      <td> 15696.2500</td>\n",
        "      <td>  4938.750000</td>\n",
        "      <td> 0.239339</td>\n",
        "      <td>  0</td>\n",
        "    </tr>\n",
        "    <tr>\n",
        "      <th>10  </th>\n",
        "      <td>                             Salmon steak (frozen)</td>\n",
        "      <td>                           451001</td>\n",
        "      <td>NaN</td>\n",
        "      <td>              NaN</td>\n",
        "      <td>         Red Coral</td>\n",
        "      <td>             Sea Food</td>\n",
        "      <td>                                            Frozen</td>\n",
        "      <td>    0.000000</td>\n",
        "      <td>    0.000000</td>\n",
        "      <td>     0.00000</td>\n",
        "      <td>...</td>\n",
        "      <td>   1588.043537</td>\n",
        "      <td>   2963.600000</td>\n",
        "      <td>   2759.000000</td>\n",
        "      <td>   3388.875700</td>\n",
        "      <td>   2576.113136</td>\n",
        "      <td> 19233.832374</td>\n",
        "      <td> 12720.0000</td>\n",
        "      <td>  6513.832374</td>\n",
        "      <td> 0.338665</td>\n",
        "      <td>  0</td>\n",
        "    </tr>\n",
        "    <tr>\n",
        "      <th>11  </th>\n",
        "      <td>                        Cairo above 150 L.E orders</td>\n",
        "      <td>            Cairoabove150LEorders</td>\n",
        "      <td>NaN</td>\n",
        "      <td>          Freight</td>\n",
        "      <td>           Freight</td>\n",
        "      <td>              General</td>\n",
        "      <td>                                               NaN</td>\n",
        "      <td>    0.000000</td>\n",
        "      <td>    0.000000</td>\n",
        "      <td>     0.00000</td>\n",
        "      <td>...</td>\n",
        "      <td>   2020.670198</td>\n",
        "      <td>   1848.049762</td>\n",
        "      <td>   2586.345982</td>\n",
        "      <td>   2991.765426</td>\n",
        "      <td>   1699.753162</td>\n",
        "      <td> 19054.634183</td>\n",
        "      <td>     0.0000</td>\n",
        "      <td> 19054.634183</td>\n",
        "      <td> 1.000000</td>\n",
        "      <td>  0</td>\n",
        "    </tr>\n",
        "    <tr>\n",
        "      <th>12  </th>\n",
        "      <td>              Beef fillet (chemical free) - frozen</td>\n",
        "      <td>                           151003</td>\n",
        "      <td>NaN</td>\n",
        "      <td>              NGS</td>\n",
        "      <td>         El rancho</td>\n",
        "      <td>                 Beef</td>\n",
        "      <td>                       Frozen, Chemical free, Beef</td>\n",
        "      <td>    0.000000</td>\n",
        "      <td>    0.000000</td>\n",
        "      <td>     0.00000</td>\n",
        "      <td>...</td>\n",
        "      <td>   1640.310680</td>\n",
        "      <td>   1862.000000</td>\n",
        "      <td>   2833.115336</td>\n",
        "      <td>   1625.576253</td>\n",
        "      <td>   3942.408042</td>\n",
        "      <td> 18928.772120</td>\n",
        "      <td> 14141.3500</td>\n",
        "      <td>  4787.422120</td>\n",
        "      <td> 0.252918</td>\n",
        "      <td>  0</td>\n",
        "    </tr>\n",
        "    <tr>\n",
        "      <th>13  </th>\n",
        "      <td>                         Inside Cairo delivery fee</td>\n",
        "      <td>           InsideCairodeliveryfee</td>\n",
        "      <td>NaN</td>\n",
        "      <td>          Freight</td>\n",
        "      <td>           Freight</td>\n",
        "      <td>             Delivery</td>\n",
        "      <td>                                               NaN</td>\n",
        "      <td>    0.000000</td>\n",
        "      <td>    0.000000</td>\n",
        "      <td>     0.00000</td>\n",
        "      <td>...</td>\n",
        "      <td>      0.000000</td>\n",
        "      <td>      0.000000</td>\n",
        "      <td>      0.000000</td>\n",
        "      <td>      0.000000</td>\n",
        "      <td>      0.000000</td>\n",
        "      <td> 18207.761412</td>\n",
        "      <td>  2200.0000</td>\n",
        "      <td> 16007.761412</td>\n",
        "      <td> 0.879172</td>\n",
        "      <td>  0</td>\n",
        "    </tr>\n",
        "    <tr>\n",
        "      <th>14  </th>\n",
        "      <td>                            Dried cranberry / 200g</td>\n",
        "      <td>                   DriedCranberry</td>\n",
        "      <td>NaN</td>\n",
        "      <td>              NGS</td>\n",
        "      <td>               Auf</td>\n",
        "      <td>         Dried fruits</td>\n",
        "      <td>                                               NaN</td>\n",
        "      <td>    0.000000</td>\n",
        "      <td>    0.000000</td>\n",
        "      <td>     0.00000</td>\n",
        "      <td>...</td>\n",
        "      <td>      0.000000</td>\n",
        "      <td>      0.000000</td>\n",
        "      <td>      0.000000</td>\n",
        "      <td>      0.000000</td>\n",
        "      <td>      0.000000</td>\n",
        "      <td> 17477.037000</td>\n",
        "      <td>  7520.0075</td>\n",
        "      <td>  9957.029500</td>\n",
        "      <td> 0.569721</td>\n",
        "      <td>  0</td>\n",
        "    </tr>\n",
        "    <tr>\n",
        "      <th>15  </th>\n",
        "      <td>                      Veal Escalope (Biftek) / 1kg</td>\n",
        "      <td>                     VealEscalope</td>\n",
        "      <td>NaN</td>\n",
        "      <td>              NGS</td>\n",
        "      <td>             Shahd</td>\n",
        "      <td>           Fresh veal</td>\n",
        "      <td>                                               NaN</td>\n",
        "      <td>    0.000000</td>\n",
        "      <td>    0.000000</td>\n",
        "      <td>     0.00000</td>\n",
        "      <td>...</td>\n",
        "      <td>      0.000000</td>\n",
        "      <td>      0.000000</td>\n",
        "      <td>      0.000000</td>\n",
        "      <td>      0.000000</td>\n",
        "      <td>      0.000000</td>\n",
        "      <td> 14144.000000</td>\n",
        "      <td> 10845.0000</td>\n",
        "      <td>  3299.000000</td>\n",
        "      <td> 0.233244</td>\n",
        "      <td>  0</td>\n",
        "    </tr>\n",
        "    <tr>\n",
        "      <th>16  </th>\n",
        "      <td>                             Maple syrup (organic)</td>\n",
        "      <td>                           281102</td>\n",
        "      <td>NaN</td>\n",
        "      <td>              NaN</td>\n",
        "      <td>                Hv</td>\n",
        "      <td>           Sweeteners</td>\n",
        "      <td>                               Organic, Sweeteners</td>\n",
        "      <td>    0.000000</td>\n",
        "      <td>    0.000000</td>\n",
        "      <td>     0.00000</td>\n",
        "      <td>...</td>\n",
        "      <td>   1536.000000</td>\n",
        "      <td>   1056.000000</td>\n",
        "      <td>   1905.600000</td>\n",
        "      <td>   1769.074793</td>\n",
        "      <td>   1045.000000</td>\n",
        "      <td> 13998.773205</td>\n",
        "      <td> 10578.2500</td>\n",
        "      <td>  3420.523205</td>\n",
        "      <td> 0.244344</td>\n",
        "      <td>  0</td>\n",
        "    </tr>\n",
        "    <tr>\n",
        "      <th>17  </th>\n",
        "      <td>     Balady Whole Chicken(chemical free) / Default</td>\n",
        "      <td> BaladyWholeChicken(Chemicalfree)</td>\n",
        "      <td>NaN</td>\n",
        "      <td>              NaN</td>\n",
        "      <td>            Tabiey</td>\n",
        "      <td>              Poultry</td>\n",
        "      <td>                             Frozen, Chemical free</td>\n",
        "      <td>    0.000000</td>\n",
        "      <td>    0.000000</td>\n",
        "      <td>     0.00000</td>\n",
        "      <td>...</td>\n",
        "      <td>   2100.000000</td>\n",
        "      <td>   2740.943396</td>\n",
        "      <td>   2200.000000</td>\n",
        "      <td>   1880.229340</td>\n",
        "      <td>   2112.243645</td>\n",
        "      <td> 13683.416381</td>\n",
        "      <td> 11080.0000</td>\n",
        "      <td>  2603.416381</td>\n",
        "      <td> 0.190261</td>\n",
        "      <td>  0</td>\n",
        "    </tr>\n",
        "    <tr>\n",
        "      <th>18  </th>\n",
        "      <td> Muesli with mixed berries, oat flakes, and see...</td>\n",
        "      <td>                           221008</td>\n",
        "      <td>NaN</td>\n",
        "      <td>              NaN</td>\n",
        "      <td>         Good life</td>\n",
        "      <td>               Cereal</td>\n",
        "      <td>                                           Organic</td>\n",
        "      <td>    0.000000</td>\n",
        "      <td>    0.000000</td>\n",
        "      <td>     0.00000</td>\n",
        "      <td>...</td>\n",
        "      <td>    443.520000</td>\n",
        "      <td>   2100.800000</td>\n",
        "      <td>      0.000000</td>\n",
        "      <td>      0.000000</td>\n",
        "      <td>      0.000000</td>\n",
        "      <td> 13160.394745</td>\n",
        "      <td>  9057.6000</td>\n",
        "      <td>  4102.794745</td>\n",
        "      <td> 0.311753</td>\n",
        "      <td>  0</td>\n",
        "    </tr>\n",
        "    <tr>\n",
        "      <th>19  </th>\n",
        "      <td> Bench press oats with apple and cinnamon ( wit...</td>\n",
        "      <td>                           221001</td>\n",
        "      <td>NaN</td>\n",
        "      <td>              NaN</td>\n",
        "      <td>         Good life</td>\n",
        "      <td>               Cereal</td>\n",
        "      <td>                                  High performance</td>\n",
        "      <td>    0.000000</td>\n",
        "      <td>    0.000000</td>\n",
        "      <td>     0.00000</td>\n",
        "      <td>...</td>\n",
        "      <td>    915.000000</td>\n",
        "      <td>    312.000000</td>\n",
        "      <td>      0.000000</td>\n",
        "      <td>      0.000000</td>\n",
        "      <td>      0.000000</td>\n",
        "      <td> 12951.959594</td>\n",
        "      <td>  7935.4800</td>\n",
        "      <td>  5016.479594</td>\n",
        "      <td> 0.387314</td>\n",
        "      <td>  0</td>\n",
        "    </tr>\n",
        "    <tr>\n",
        "      <th>20  </th>\n",
        "      <td>               Beef cubes (chemical free) - frozen</td>\n",
        "      <td>                           151001</td>\n",
        "      <td>NaN</td>\n",
        "      <td>              NGS</td>\n",
        "      <td>         El rancho</td>\n",
        "      <td>                 Beef</td>\n",
        "      <td>                       Frozen, Chemical free, Beef</td>\n",
        "      <td>    0.000000</td>\n",
        "      <td>    0.000000</td>\n",
        "      <td>     0.00000</td>\n",
        "      <td>...</td>\n",
        "      <td>    682.000000</td>\n",
        "      <td>   1736.000000</td>\n",
        "      <td>    868.000000</td>\n",
        "      <td>   1642.134626</td>\n",
        "      <td>   2241.968114</td>\n",
        "      <td> 12883.277837</td>\n",
        "      <td>  9354.0300</td>\n",
        "      <td>  3529.247837</td>\n",
        "      <td> 0.273940</td>\n",
        "      <td>  0</td>\n",
        "    </tr>\n",
        "    <tr>\n",
        "      <th>21  </th>\n",
        "      <td> Muesli with quinoa, amaranth, apple, seeds and...</td>\n",
        "      <td>                           221009</td>\n",
        "      <td>NaN</td>\n",
        "      <td>              NaN</td>\n",
        "      <td>         Good life</td>\n",
        "      <td>               Cereal</td>\n",
        "      <td>                     High performance, gluten free</td>\n",
        "      <td>    0.000000</td>\n",
        "      <td>    0.000000</td>\n",
        "      <td>     0.00000</td>\n",
        "      <td>...</td>\n",
        "      <td>   1301.120000</td>\n",
        "      <td>   2074.400000</td>\n",
        "      <td>      0.000000</td>\n",
        "      <td>      0.000000</td>\n",
        "      <td>      0.000000</td>\n",
        "      <td> 12819.304745</td>\n",
        "      <td>  9605.5200</td>\n",
        "      <td>  3213.784745</td>\n",
        "      <td> 0.250699</td>\n",
        "      <td>  0</td>\n",
        "    </tr>\n",
        "    <tr>\n",
        "      <th>22  </th>\n",
        "      <td>                                 Almond meal flour</td>\n",
        "      <td>                           281082</td>\n",
        "      <td>NaN</td>\n",
        "      <td>              NaN</td>\n",
        "      <td>                Hv</td>\n",
        "      <td>      Baking products</td>\n",
        "      <td>  Weight loss, gluten free, Vegan, Baking Products</td>\n",
        "      <td>    0.000000</td>\n",
        "      <td>    0.000000</td>\n",
        "      <td>     0.00000</td>\n",
        "      <td>...</td>\n",
        "      <td>   3168.000000</td>\n",
        "      <td>   2296.800000</td>\n",
        "      <td>   1716.000000</td>\n",
        "      <td>   3892.412286</td>\n",
        "      <td>    -15.575221</td>\n",
        "      <td> 12723.237064</td>\n",
        "      <td> 10092.7700</td>\n",
        "      <td>  2630.467064</td>\n",
        "      <td> 0.206745</td>\n",
        "      <td>  0</td>\n",
        "    </tr>\n",
        "    <tr>\n",
        "      <th>23  </th>\n",
        "      <td>                                             Cairo</td>\n",
        "      <td>                            Cairo</td>\n",
        "      <td>NaN</td>\n",
        "      <td>          Freight</td>\n",
        "      <td>           Freight</td>\n",
        "      <td>              General</td>\n",
        "      <td>                                               NaN</td>\n",
        "      <td>    0.000000</td>\n",
        "      <td>    0.000000</td>\n",
        "      <td>     0.00000</td>\n",
        "      <td>...</td>\n",
        "      <td>    987.374904</td>\n",
        "      <td>   1698.236995</td>\n",
        "      <td>   1903.656250</td>\n",
        "      <td>   2165.138042</td>\n",
        "      <td>   1520.730987</td>\n",
        "      <td> 12565.137179</td>\n",
        "      <td>     0.0000</td>\n",
        "      <td> 12565.137179</td>\n",
        "      <td> 1.000000</td>\n",
        "      <td>  0</td>\n",
        "    </tr>\n",
        "    <tr>\n",
        "      <th>24  </th>\n",
        "      <td>                              Chia seeds (organic)</td>\n",
        "      <td>                           221002</td>\n",
        "      <td>NaN</td>\n",
        "      <td>              NaN</td>\n",
        "      <td>         Good life</td>\n",
        "      <td>                Seeds</td>\n",
        "      <td>                  Super food, Weight loss, Organic</td>\n",
        "      <td>    0.000000</td>\n",
        "      <td>    0.000000</td>\n",
        "      <td>     0.00000</td>\n",
        "      <td>...</td>\n",
        "      <td>    490.000000</td>\n",
        "      <td>    490.000000</td>\n",
        "      <td>    392.000000</td>\n",
        "      <td>     98.000000</td>\n",
        "      <td>      0.000000</td>\n",
        "      <td> 12487.056000</td>\n",
        "      <td>  6761.6400</td>\n",
        "      <td>  5725.416000</td>\n",
        "      <td> 0.458508</td>\n",
        "      <td>  0</td>\n",
        "    </tr>\n",
        "    <tr>\n",
        "      <th>25  </th>\n",
        "      <td>                              Manuka honey (large)</td>\n",
        "      <td>                           281113</td>\n",
        "      <td>NaN</td>\n",
        "      <td>              NaN</td>\n",
        "      <td>                Hv</td>\n",
        "      <td>                Honey</td>\n",
        "      <td> Organic, gluten free, Vegetarian, Honey &amp; Swee...</td>\n",
        "      <td>    0.000000</td>\n",
        "      <td>    0.000000</td>\n",
        "      <td>     0.00000</td>\n",
        "      <td>...</td>\n",
        "      <td>   3280.000000</td>\n",
        "      <td>   1640.000000</td>\n",
        "      <td>   4592.000000</td>\n",
        "      <td>   1968.000000</td>\n",
        "      <td>    656.000000</td>\n",
        "      <td> 12136.000000</td>\n",
        "      <td>  9111.8400</td>\n",
        "      <td>  3024.160000</td>\n",
        "      <td> 0.249189</td>\n",
        "      <td>  0</td>\n",
        "    </tr>\n",
        "    <tr>\n",
        "      <th>26  </th>\n",
        "      <td>                                           Avocado</td>\n",
        "      <td>                          Avocado</td>\n",
        "      <td>NaN</td>\n",
        "      <td>       Kheir Misr</td>\n",
        "      <td>             Rafic</td>\n",
        "      <td>         Fresh fruits</td>\n",
        "      <td>                                               NaN</td>\n",
        "      <td>    0.000000</td>\n",
        "      <td>    0.000000</td>\n",
        "      <td>     0.00000</td>\n",
        "      <td>...</td>\n",
        "      <td>      0.000000</td>\n",
        "      <td>      0.000000</td>\n",
        "      <td>      0.000000</td>\n",
        "      <td>      0.000000</td>\n",
        "      <td>      0.000000</td>\n",
        "      <td> 12049.565673</td>\n",
        "      <td> 10095.1100</td>\n",
        "      <td>  1954.455673</td>\n",
        "      <td> 0.162201</td>\n",
        "      <td>  0</td>\n",
        "    </tr>\n",
        "    <tr>\n",
        "      <th>27  </th>\n",
        "      <td>                               Avocados (imported)</td>\n",
        "      <td>                            20002</td>\n",
        "      <td>NaN</td>\n",
        "      <td>              NGS</td>\n",
        "      <td>          Agrovate</td>\n",
        "      <td>               Fruits</td>\n",
        "      <td>                                             Fresh</td>\n",
        "      <td>    0.000000</td>\n",
        "      <td>    0.000000</td>\n",
        "      <td>     0.00000</td>\n",
        "      <td>...</td>\n",
        "      <td>   1153.000000</td>\n",
        "      <td>   1972.000000</td>\n",
        "      <td>   1713.832082</td>\n",
        "      <td>   1748.572824</td>\n",
        "      <td>   1488.005413</td>\n",
        "      <td> 12025.410318</td>\n",
        "      <td>  8511.1900</td>\n",
        "      <td>  3514.220318</td>\n",
        "      <td> 0.292233</td>\n",
        "      <td>  0</td>\n",
        "    </tr>\n",
        "    <tr>\n",
        "      <th>28  </th>\n",
        "      <td>                                  Beef Mince / 1kg</td>\n",
        "      <td>                        BeefMince</td>\n",
        "      <td>NaN</td>\n",
        "      <td>              NGS</td>\n",
        "      <td>             Shahd</td>\n",
        "      <td>           Fresh beef</td>\n",
        "      <td>                                               NaN</td>\n",
        "      <td>    0.000000</td>\n",
        "      <td>    0.000000</td>\n",
        "      <td>     0.00000</td>\n",
        "      <td>...</td>\n",
        "      <td>      0.000000</td>\n",
        "      <td>      0.000000</td>\n",
        "      <td>      0.000000</td>\n",
        "      <td>      0.000000</td>\n",
        "      <td>      0.000000</td>\n",
        "      <td> 11978.320000</td>\n",
        "      <td>  9229.8600</td>\n",
        "      <td>  2748.460000</td>\n",
        "      <td> 0.229453</td>\n",
        "      <td>  0</td>\n",
        "    </tr>\n",
        "    <tr>\n",
        "      <th>29  </th>\n",
        "      <td>                             Balady eggs (organic)</td>\n",
        "      <td>                           461002</td>\n",
        "      <td>NaN</td>\n",
        "      <td>              NaN</td>\n",
        "      <td>         Sara nour</td>\n",
        "      <td>                 Eggs</td>\n",
        "      <td>                                     Organic, Eggs</td>\n",
        "      <td>    0.000000</td>\n",
        "      <td>    0.000000</td>\n",
        "      <td>     0.00000</td>\n",
        "      <td>...</td>\n",
        "      <td>   1272.000000</td>\n",
        "      <td>   1296.000000</td>\n",
        "      <td>   1776.000000</td>\n",
        "      <td>   2019.300135</td>\n",
        "      <td>    987.540126</td>\n",
        "      <td> 11724.840261</td>\n",
        "      <td>  8785.0000</td>\n",
        "      <td>  2939.840261</td>\n",
        "      <td> 0.250736</td>\n",
        "      <td>  0</td>\n",
        "    </tr>\n",
        "    <tr>\n",
        "      <th>...</th>\n",
        "      <td>...</td>\n",
        "      <td>...</td>\n",
        "      <td>...</td>\n",
        "      <td>...</td>\n",
        "      <td>...</td>\n",
        "      <td>...</td>\n",
        "      <td>...</td>\n",
        "      <td>...</td>\n",
        "      <td>...</td>\n",
        "      <td>...</td>\n",
        "      <td>...</td>\n",
        "      <td>...</td>\n",
        "      <td>...</td>\n",
        "      <td>...</td>\n",
        "      <td>...</td>\n",
        "      <td>...</td>\n",
        "      <td>...</td>\n",
        "      <td>...</td>\n",
        "      <td>...</td>\n",
        "      <td>...</td>\n",
        "      <td>...</td>\n",
        "    </tr>\n",
        "    <tr>\n",
        "      <th>1949</th>\n",
        "      <td>                                Sage ( aquaponic )</td>\n",
        "      <td>                             Sage</td>\n",
        "      <td>NaN</td>\n",
        "      <td>           Bustan</td>\n",
        "      <td> Bustan aquaponics</td>\n",
        "      <td> Aquaponic vegetables</td>\n",
        "      <td>                                               NaN</td>\n",
        "      <td>    0.000000</td>\n",
        "      <td>    0.000000</td>\n",
        "      <td>     0.00000</td>\n",
        "      <td>...</td>\n",
        "      <td>      0.000000</td>\n",
        "      <td>      0.000000</td>\n",
        "      <td>      0.000000</td>\n",
        "      <td>      0.000000</td>\n",
        "      <td>      0.000000</td>\n",
        "      <td>     5.000000</td>\n",
        "      <td>     3.5000</td>\n",
        "      <td>     1.500000</td>\n",
        "      <td> 0.300000</td>\n",
        "      <td>  0</td>\n",
        "    </tr>\n",
        "    <tr>\n",
        "      <th>1950</th>\n",
        "      <td>                                          Zucchini</td>\n",
        "      <td>                         Zucchini</td>\n",
        "      <td>NaN</td>\n",
        "      <td>              NGS</td>\n",
        "      <td>          Agrovate</td>\n",
        "      <td>     Fresh vegetables</td>\n",
        "      <td>                                               NaN</td>\n",
        "      <td>    0.000000</td>\n",
        "      <td>    0.000000</td>\n",
        "      <td>     0.00000</td>\n",
        "      <td>...</td>\n",
        "      <td>      0.000000</td>\n",
        "      <td>      0.000000</td>\n",
        "      <td>      0.000000</td>\n",
        "      <td>      0.000000</td>\n",
        "      <td>      0.000000</td>\n",
        "      <td>     5.000000</td>\n",
        "      <td>     3.7500</td>\n",
        "      <td>     1.250000</td>\n",
        "      <td> 0.250000</td>\n",
        "      <td>  0</td>\n",
        "    </tr>\n",
        "    <tr>\n",
        "      <th>1951</th>\n",
        "      <td>                                 Mini French Brown</td>\n",
        "      <td>                  MiniFrenchBrown</td>\n",
        "      <td>NaN</td>\n",
        "      <td>              NGS</td>\n",
        "      <td>          Favorito</td>\n",
        "      <td>          Bread&amp;Bakry</td>\n",
        "      <td>                                               NaN</td>\n",
        "      <td>    0.000000</td>\n",
        "      <td>    0.000000</td>\n",
        "      <td>     0.00000</td>\n",
        "      <td>...</td>\n",
        "      <td>      0.000000</td>\n",
        "      <td>      0.000000</td>\n",
        "      <td>      0.000000</td>\n",
        "      <td>      0.000000</td>\n",
        "      <td>      0.000000</td>\n",
        "      <td>     4.500000</td>\n",
        "      <td>     0.0000</td>\n",
        "      <td>     4.500000</td>\n",
        "      <td> 1.000000</td>\n",
        "      <td>  0</td>\n",
        "    </tr>\n",
        "    <tr>\n",
        "      <th>1952</th>\n",
        "      <td>                              Spring Onions / 200g</td>\n",
        "      <td>                     SpringOnions</td>\n",
        "      <td>NaN</td>\n",
        "      <td>              NGS</td>\n",
        "      <td>             Offah</td>\n",
        "      <td>        Fresh Produce</td>\n",
        "      <td>                                               NaN</td>\n",
        "      <td>    0.000000</td>\n",
        "      <td>    0.000000</td>\n",
        "      <td>     3.25000</td>\n",
        "      <td>...</td>\n",
        "      <td>      0.000000</td>\n",
        "      <td>      0.000000</td>\n",
        "      <td>      0.000000</td>\n",
        "      <td>      0.000000</td>\n",
        "      <td>      0.000000</td>\n",
        "      <td>     3.250000</td>\n",
        "      <td>     2.5000</td>\n",
        "      <td>     0.750000</td>\n",
        "      <td> 0.230769</td>\n",
        "      <td>  0</td>\n",
        "    </tr>\n",
        "    <tr>\n",
        "      <th>1953</th>\n",
        "      <td>                                       Honey Spoon</td>\n",
        "      <td>                           291009</td>\n",
        "      <td>NaN</td>\n",
        "      <td>              NaN</td>\n",
        "      <td>               IMN</td>\n",
        "      <td>       Home appliance</td>\n",
        "      <td>                                 Kitchen equipment</td>\n",
        "      <td>    0.000000</td>\n",
        "      <td>    0.000000</td>\n",
        "      <td>     0.00000</td>\n",
        "      <td>...</td>\n",
        "      <td>      0.000000</td>\n",
        "      <td>      0.000000</td>\n",
        "      <td>      0.000000</td>\n",
        "      <td>      0.000000</td>\n",
        "      <td>      0.000000</td>\n",
        "      <td>     3.000000</td>\n",
        "      <td>     1.3500</td>\n",
        "      <td>     1.650000</td>\n",
        "      <td> 0.550000</td>\n",
        "      <td>  0</td>\n",
        "    </tr>\n",
        "    <tr>\n",
        "      <th>1954</th>\n",
        "      <td>                                           Hot Dog</td>\n",
        "      <td>                           HotDog</td>\n",
        "      <td>NaN</td>\n",
        "      <td>              NGS</td>\n",
        "      <td>          Favorito</td>\n",
        "      <td>          Bread&amp;Bakry</td>\n",
        "      <td>                                               NaN</td>\n",
        "      <td>    0.000000</td>\n",
        "      <td>    0.000000</td>\n",
        "      <td>     0.00000</td>\n",
        "      <td>...</td>\n",
        "      <td>      0.000000</td>\n",
        "      <td>      0.000000</td>\n",
        "      <td>      0.000000</td>\n",
        "      <td>      0.000000</td>\n",
        "      <td>      0.000000</td>\n",
        "      <td>     2.500000</td>\n",
        "      <td>     0.0000</td>\n",
        "      <td>     2.500000</td>\n",
        "      <td> 1.000000</td>\n",
        "      <td>  0</td>\n",
        "    </tr>\n",
        "    <tr>\n",
        "      <th>1955</th>\n",
        "      <td>                  Oak leaf lettuce (chemical free)</td>\n",
        "      <td>                           341028</td>\n",
        "      <td>NaN</td>\n",
        "      <td>              NaN</td>\n",
        "      <td>             MAKAR</td>\n",
        "      <td>           Vegetables</td>\n",
        "      <td>                             Chemical free, Greens</td>\n",
        "      <td>    0.000000</td>\n",
        "      <td>    0.000000</td>\n",
        "      <td>     0.00000</td>\n",
        "      <td>...</td>\n",
        "      <td>      0.000000</td>\n",
        "      <td>      0.000000</td>\n",
        "      <td>      0.000000</td>\n",
        "      <td>      0.000000</td>\n",
        "      <td>      0.000000</td>\n",
        "      <td>     0.000000</td>\n",
        "      <td>     0.0000</td>\n",
        "      <td>     0.000000</td>\n",
        "      <td> 0.000000</td>\n",
        "      <td>  0</td>\n",
        "    </tr>\n",
        "    <tr>\n",
        "      <th>1956</th>\n",
        "      <td>                         Spearmint (chemical free)</td>\n",
        "      <td>                           461027</td>\n",
        "      <td>NaN</td>\n",
        "      <td>              NaN</td>\n",
        "      <td>         Sara nour</td>\n",
        "      <td>            Beverages</td>\n",
        "      <td>                                Chemical free, Tea</td>\n",
        "      <td>    0.000000</td>\n",
        "      <td>    0.000000</td>\n",
        "      <td>     0.00000</td>\n",
        "      <td>...</td>\n",
        "      <td>      0.000000</td>\n",
        "      <td>      0.000000</td>\n",
        "      <td>      0.000000</td>\n",
        "      <td>      0.000000</td>\n",
        "      <td>      0.000000</td>\n",
        "      <td>     0.000000</td>\n",
        "      <td>     0.0000</td>\n",
        "      <td>     0.000000</td>\n",
        "      <td> 0.000000</td>\n",
        "      <td>  0</td>\n",
        "    </tr>\n",
        "    <tr>\n",
        "      <th>1957</th>\n",
        "      <td>                           Rosemary(chemical free)</td>\n",
        "      <td>                           501032</td>\n",
        "      <td>NaN</td>\n",
        "      <td>              NaN</td>\n",
        "      <td>            Tabiey</td>\n",
        "      <td>                Herbs</td>\n",
        "      <td>                              Fresh, Chemical free</td>\n",
        "      <td>    0.000000</td>\n",
        "      <td>    0.000000</td>\n",
        "      <td>     0.00000</td>\n",
        "      <td>...</td>\n",
        "      <td>      0.000000</td>\n",
        "      <td>      0.000000</td>\n",
        "      <td>      0.000000</td>\n",
        "      <td>      0.000000</td>\n",
        "      <td>      0.000000</td>\n",
        "      <td>     0.000000</td>\n",
        "      <td>     0.0000</td>\n",
        "      <td>     0.000000</td>\n",
        "      <td> 0.000000</td>\n",
        "      <td>  0</td>\n",
        "    </tr>\n",
        "    <tr>\n",
        "      <th>1958</th>\n",
        "      <td>                           Oregano (chemical free)</td>\n",
        "      <td>                           501027</td>\n",
        "      <td>NaN</td>\n",
        "      <td>              NaN</td>\n",
        "      <td>            Tabiey</td>\n",
        "      <td>                Herbs</td>\n",
        "      <td>                              Fresh, Chemical free</td>\n",
        "      <td>    0.000000</td>\n",
        "      <td>    0.000000</td>\n",
        "      <td>     0.00000</td>\n",
        "      <td>...</td>\n",
        "      <td>      0.000000</td>\n",
        "      <td>      0.000000</td>\n",
        "      <td>      0.000000</td>\n",
        "      <td>      0.000000</td>\n",
        "      <td>      0.000000</td>\n",
        "      <td>     0.000000</td>\n",
        "      <td>     0.0000</td>\n",
        "      <td>     0.000000</td>\n",
        "      <td> 0.000000</td>\n",
        "      <td>  0</td>\n",
        "    </tr>\n",
        "    <tr>\n",
        "      <th>1959</th>\n",
        "      <td>                        Mango aweys(chemical free)</td>\n",
        "      <td>                           461015</td>\n",
        "      <td>NaN</td>\n",
        "      <td>              NaN</td>\n",
        "      <td>         Sara nour</td>\n",
        "      <td>               Fruits</td>\n",
        "      <td>                              Fresh, Chemical free</td>\n",
        "      <td>    0.000000</td>\n",
        "      <td>    0.000000</td>\n",
        "      <td>     0.00000</td>\n",
        "      <td>...</td>\n",
        "      <td>      0.000000</td>\n",
        "      <td>      0.000000</td>\n",
        "      <td>      0.000000</td>\n",
        "      <td>      0.000000</td>\n",
        "      <td>      0.000000</td>\n",
        "      <td>     0.000000</td>\n",
        "      <td>     0.0000</td>\n",
        "      <td>     0.000000</td>\n",
        "      <td> 0.000000</td>\n",
        "      <td>  0</td>\n",
        "    </tr>\n",
        "    <tr>\n",
        "      <th>1960</th>\n",
        "      <td>                             Oat milk ( Original )</td>\n",
        "      <td>                           161002</td>\n",
        "      <td>NaN</td>\n",
        "      <td>              NaN</td>\n",
        "      <td>         El_Ansary</td>\n",
        "      <td>       Non-dairy milk</td>\n",
        "      <td>                                           Organic</td>\n",
        "      <td>    0.000000</td>\n",
        "      <td>    0.000000</td>\n",
        "      <td>     0.00000</td>\n",
        "      <td>...</td>\n",
        "      <td>      0.000000</td>\n",
        "      <td>      0.000000</td>\n",
        "      <td>      0.000000</td>\n",
        "      <td>      0.000000</td>\n",
        "      <td>      0.000000</td>\n",
        "      <td>     0.000000</td>\n",
        "      <td>     0.0000</td>\n",
        "      <td>     0.000000</td>\n",
        "      <td> 0.000000</td>\n",
        "      <td>  0</td>\n",
        "    </tr>\n",
        "    <tr>\n",
        "      <th>1961</th>\n",
        "      <td>                                        Kaki Fruit</td>\n",
        "      <td>                           701021</td>\n",
        "      <td>NaN</td>\n",
        "      <td>              NGS</td>\n",
        "      <td>              Farm</td>\n",
        "      <td>               Fruits</td>\n",
        "      <td>                                 Fresh, High grade</td>\n",
        "      <td>    0.000000</td>\n",
        "      <td>    0.000000</td>\n",
        "      <td>     0.00000</td>\n",
        "      <td>...</td>\n",
        "      <td>      0.000000</td>\n",
        "      <td>      0.000000</td>\n",
        "      <td>      0.000000</td>\n",
        "      <td>      0.000000</td>\n",
        "      <td>      0.000000</td>\n",
        "      <td>     0.000000</td>\n",
        "      <td>     0.0000</td>\n",
        "      <td>     0.000000</td>\n",
        "      <td> 0.000000</td>\n",
        "      <td>  0</td>\n",
        "    </tr>\n",
        "    <tr>\n",
        "      <th>1962</th>\n",
        "      <td>                Broccoli Romanesco (chemical free)</td>\n",
        "      <td>                           341008</td>\n",
        "      <td>NaN</td>\n",
        "      <td>              NaN</td>\n",
        "      <td>             MAKAR</td>\n",
        "      <td>           Vegetables</td>\n",
        "      <td>                              Fresh, Chemical free</td>\n",
        "      <td>    0.000000</td>\n",
        "      <td>    0.000000</td>\n",
        "      <td>     0.00000</td>\n",
        "      <td>...</td>\n",
        "      <td>      0.000000</td>\n",
        "      <td>      0.000000</td>\n",
        "      <td>      0.000000</td>\n",
        "      <td>      0.000000</td>\n",
        "      <td>      0.000000</td>\n",
        "      <td>     0.000000</td>\n",
        "      <td>     0.0000</td>\n",
        "      <td>     0.000000</td>\n",
        "      <td> 0.000000</td>\n",
        "      <td>  0</td>\n",
        "    </tr>\n",
        "    <tr>\n",
        "      <th>1963</th>\n",
        "      <td>                                     White cabbage</td>\n",
        "      <td>                            20039</td>\n",
        "      <td>NaN</td>\n",
        "      <td>              NaN</td>\n",
        "      <td>          Agrovate</td>\n",
        "      <td>           Vegetables</td>\n",
        "      <td>                                             Fresh</td>\n",
        "      <td>    0.000000</td>\n",
        "      <td>    0.000000</td>\n",
        "      <td>     0.00000</td>\n",
        "      <td>...</td>\n",
        "      <td>      0.000000</td>\n",
        "      <td>      0.000000</td>\n",
        "      <td>      0.000000</td>\n",
        "      <td>      0.000000</td>\n",
        "      <td>      0.000000</td>\n",
        "      <td>     0.000000</td>\n",
        "      <td>     0.0000</td>\n",
        "      <td>     0.000000</td>\n",
        "      <td> 0.000000</td>\n",
        "      <td>  0</td>\n",
        "    </tr>\n",
        "    <tr>\n",
        "      <th>1964</th>\n",
        "      <td>                                    Chinese garlic</td>\n",
        "      <td>                            20034</td>\n",
        "      <td>NaN</td>\n",
        "      <td>              NaN</td>\n",
        "      <td>          Agrovate</td>\n",
        "      <td>           Vegetables</td>\n",
        "      <td>                                             Fresh</td>\n",
        "      <td>    0.000000</td>\n",
        "      <td>    0.000000</td>\n",
        "      <td>     0.00000</td>\n",
        "      <td>...</td>\n",
        "      <td>      0.000000</td>\n",
        "      <td>      0.000000</td>\n",
        "      <td>      0.000000</td>\n",
        "      <td>      0.000000</td>\n",
        "      <td>      0.000000</td>\n",
        "      <td>     0.000000</td>\n",
        "      <td>     0.0000</td>\n",
        "      <td>     0.000000</td>\n",
        "      <td> 0.000000</td>\n",
        "      <td>  0</td>\n",
        "    </tr>\n",
        "    <tr>\n",
        "      <th>1965</th>\n",
        "      <td>                  Spelt Flakes - toasted (organic)</td>\n",
        "      <td>                           281179</td>\n",
        "      <td>NaN</td>\n",
        "      <td>              NaN</td>\n",
        "      <td>                Hv</td>\n",
        "      <td>               Cereal</td>\n",
        "      <td>                                       Whole grain</td>\n",
        "      <td>    0.000000</td>\n",
        "      <td>    0.000000</td>\n",
        "      <td>     0.00000</td>\n",
        "      <td>...</td>\n",
        "      <td>      0.000000</td>\n",
        "      <td>      0.000000</td>\n",
        "      <td>      0.000000</td>\n",
        "      <td>      0.000000</td>\n",
        "      <td>      0.000000</td>\n",
        "      <td>     0.000000</td>\n",
        "      <td>     0.0000</td>\n",
        "      <td>     0.000000</td>\n",
        "      <td> 0.000000</td>\n",
        "      <td>  0</td>\n",
        "    </tr>\n",
        "    <tr>\n",
        "      <th>1966</th>\n",
        "      <td>                              Rice milk (original)</td>\n",
        "      <td>                           161003</td>\n",
        "      <td>NaN</td>\n",
        "      <td>              NaN</td>\n",
        "      <td>         El_Ansary</td>\n",
        "      <td>       Non-dairy milk</td>\n",
        "      <td>                                           Organic</td>\n",
        "      <td>    0.000000</td>\n",
        "      <td>    0.000000</td>\n",
        "      <td>     0.00000</td>\n",
        "      <td>...</td>\n",
        "      <td>      0.000000</td>\n",
        "      <td>      0.000000</td>\n",
        "      <td>      0.000000</td>\n",
        "      <td>      0.000000</td>\n",
        "      <td>      0.000000</td>\n",
        "      <td>     0.000000</td>\n",
        "      <td>     0.0000</td>\n",
        "      <td>     0.000000</td>\n",
        "      <td> 0.000000</td>\n",
        "      <td>  0</td>\n",
        "    </tr>\n",
        "    <tr>\n",
        "      <th>1967</th>\n",
        "      <td>                  Peanuts in shell (chemical free)</td>\n",
        "      <td>                           461022</td>\n",
        "      <td>NaN</td>\n",
        "      <td>              NaN</td>\n",
        "      <td>         Sara nour</td>\n",
        "      <td>                 Nuts</td>\n",
        "      <td>                               Nuts, Chemical free</td>\n",
        "      <td>    0.000000</td>\n",
        "      <td>    0.000000</td>\n",
        "      <td>     0.00000</td>\n",
        "      <td>...</td>\n",
        "      <td>      0.000000</td>\n",
        "      <td>      0.000000</td>\n",
        "      <td>      0.000000</td>\n",
        "      <td>      0.000000</td>\n",
        "      <td>      0.000000</td>\n",
        "      <td>     0.000000</td>\n",
        "      <td>     0.0000</td>\n",
        "      <td>     0.000000</td>\n",
        "      <td> 0.000000</td>\n",
        "      <td>  0</td>\n",
        "    </tr>\n",
        "    <tr>\n",
        "      <th>1968</th>\n",
        "      <td>                 Red curly batavia (chemical free)</td>\n",
        "      <td>                           341031</td>\n",
        "      <td>NaN</td>\n",
        "      <td>              NaN</td>\n",
        "      <td>             MAKAR</td>\n",
        "      <td>           Vegetables</td>\n",
        "      <td>                             Chemical free, Greens</td>\n",
        "      <td>    0.000000</td>\n",
        "      <td>    0.000000</td>\n",
        "      <td>     0.00000</td>\n",
        "      <td>...</td>\n",
        "      <td>      0.000000</td>\n",
        "      <td>      0.000000</td>\n",
        "      <td>      0.000000</td>\n",
        "      <td>      0.000000</td>\n",
        "      <td>      0.000000</td>\n",
        "      <td>     0.000000</td>\n",
        "      <td>     0.0000</td>\n",
        "      <td>     0.000000</td>\n",
        "      <td> 0.000000</td>\n",
        "      <td>  0</td>\n",
        "    </tr>\n",
        "    <tr>\n",
        "      <th>1969</th>\n",
        "      <td>                      Guiltless oatmeal cookie mix</td>\n",
        "      <td>                           561001</td>\n",
        "      <td>NaN</td>\n",
        "      <td>              NaN</td>\n",
        "      <td>         Signature</td>\n",
        "      <td>      Baking products</td>\n",
        "      <td>                                Whole grain, Flour</td>\n",
        "      <td>    0.000000</td>\n",
        "      <td>    0.000000</td>\n",
        "      <td>     0.00000</td>\n",
        "      <td>...</td>\n",
        "      <td>      0.000000</td>\n",
        "      <td>      0.000000</td>\n",
        "      <td>      0.000000</td>\n",
        "      <td>      0.000000</td>\n",
        "      <td>      0.000000</td>\n",
        "      <td>     0.000000</td>\n",
        "      <td>   -40.0000</td>\n",
        "      <td>    40.000000</td>\n",
        "      <td> 0.000000</td>\n",
        "      <td>  0</td>\n",
        "    </tr>\n",
        "    <tr>\n",
        "      <th>1970</th>\n",
        "      <td>                              Traditional crackers</td>\n",
        "      <td>                           201009</td>\n",
        "      <td>NaN</td>\n",
        "      <td>              NaN</td>\n",
        "      <td>       Food stores</td>\n",
        "      <td>               Snacks</td>\n",
        "      <td>                             Whole grain, Crackers</td>\n",
        "      <td>    0.000000</td>\n",
        "      <td>    0.000000</td>\n",
        "      <td>     0.00000</td>\n",
        "      <td>...</td>\n",
        "      <td>     33.000000</td>\n",
        "      <td>      0.000000</td>\n",
        "      <td>      0.000000</td>\n",
        "      <td>      0.000000</td>\n",
        "      <td>      0.000000</td>\n",
        "      <td>     0.000000</td>\n",
        "      <td>     0.0000</td>\n",
        "      <td>     0.000000</td>\n",
        "      <td> 0.000000</td>\n",
        "      <td>  0</td>\n",
        "    </tr>\n",
        "    <tr>\n",
        "      <th>1971</th>\n",
        "      <td>                         Moringa ( chemical free )</td>\n",
        "      <td>                           461020</td>\n",
        "      <td>NaN</td>\n",
        "      <td>              NaN</td>\n",
        "      <td>         Sara nour</td>\n",
        "      <td>     Food supplements</td>\n",
        "      <td>                      Super food, High performance</td>\n",
        "      <td>    0.000000</td>\n",
        "      <td>    0.000000</td>\n",
        "      <td>     0.00000</td>\n",
        "      <td>...</td>\n",
        "      <td>      0.000000</td>\n",
        "      <td>      0.000000</td>\n",
        "      <td>      0.000000</td>\n",
        "      <td>      0.000000</td>\n",
        "      <td>      0.000000</td>\n",
        "      <td>     0.000000</td>\n",
        "      <td>     0.0000</td>\n",
        "      <td>     0.000000</td>\n",
        "      <td> 0.000000</td>\n",
        "      <td>  0</td>\n",
        "    </tr>\n",
        "    <tr>\n",
        "      <th>1972</th>\n",
        "      <td>                   Mango alfonse ( Chemical free )</td>\n",
        "      <td>                           461014</td>\n",
        "      <td>NaN</td>\n",
        "      <td>              NaN</td>\n",
        "      <td>         Sara nour</td>\n",
        "      <td>               Fruits</td>\n",
        "      <td>                              Fresh, Chemical free</td>\n",
        "      <td>    0.000000</td>\n",
        "      <td>    0.000000</td>\n",
        "      <td>     0.00000</td>\n",
        "      <td>...</td>\n",
        "      <td>      0.000000</td>\n",
        "      <td>      0.000000</td>\n",
        "      <td>      0.000000</td>\n",
        "      <td>      0.000000</td>\n",
        "      <td>      0.000000</td>\n",
        "      <td>     0.000000</td>\n",
        "      <td>     0.0000</td>\n",
        "      <td>     0.000000</td>\n",
        "      <td> 0.000000</td>\n",
        "      <td>  0</td>\n",
        "    </tr>\n",
        "    <tr>\n",
        "      <th>1973</th>\n",
        "      <td>                                       Wild Morgan</td>\n",
        "      <td>                            10004</td>\n",
        "      <td>NaN</td>\n",
        "      <td>              NGS</td>\n",
        "      <td>               ABO</td>\n",
        "      <td>             Sea Food</td>\n",
        "      <td>                               Local, Frozen, Fish</td>\n",
        "      <td>    0.000000</td>\n",
        "      <td>    0.000000</td>\n",
        "      <td>     0.00000</td>\n",
        "      <td>...</td>\n",
        "      <td>      0.000000</td>\n",
        "      <td>      0.000000</td>\n",
        "      <td>      0.000000</td>\n",
        "      <td>      0.000000</td>\n",
        "      <td>      0.000000</td>\n",
        "      <td>     0.000000</td>\n",
        "      <td>     0.0000</td>\n",
        "      <td>     0.000000</td>\n",
        "      <td> 0.000000</td>\n",
        "      <td>  0</td>\n",
        "    </tr>\n",
        "    <tr>\n",
        "      <th>1974</th>\n",
        "      <td>                                           Revenue</td>\n",
        "      <td>                              NaN</td>\n",
        "      <td>NaN</td>\n",
        "      <td>              NaN</td>\n",
        "      <td>               NaN</td>\n",
        "      <td>                  NaN</td>\n",
        "      <td>                                               NaN</td>\n",
        "      <td> 4693.535000</td>\n",
        "      <td> 1595.625000</td>\n",
        "      <td> 28398.75000</td>\n",
        "      <td>...</td>\n",
        "      <td> 108992.550000</td>\n",
        "      <td> 133722.645000</td>\n",
        "      <td> 149446.600000</td>\n",
        "      <td> 187747.050000</td>\n",
        "      <td> 126114.640000</td>\n",
        "      <td>          NaN</td>\n",
        "      <td>        NaN</td>\n",
        "      <td>          NaN</td>\n",
        "      <td>      NaN</td>\n",
        "      <td>NaN</td>\n",
        "    </tr>\n",
        "    <tr>\n",
        "      <th>1975</th>\n",
        "      <td>                                     Cost of Goods</td>\n",
        "      <td>                              NaN</td>\n",
        "      <td>NaN</td>\n",
        "      <td>              NaN</td>\n",
        "      <td>               NaN</td>\n",
        "      <td>                  NaN</td>\n",
        "      <td>                                               NaN</td>\n",
        "      <td> 3735.205000</td>\n",
        "      <td> 1322.500000</td>\n",
        "      <td> 20474.92600</td>\n",
        "      <td>...</td>\n",
        "      <td>  76465.040000</td>\n",
        "      <td>  96111.280000</td>\n",
        "      <td> 104147.750000</td>\n",
        "      <td> 133516.110000</td>\n",
        "      <td>  90883.050000</td>\n",
        "      <td>          NaN</td>\n",
        "      <td>        NaN</td>\n",
        "      <td>          NaN</td>\n",
        "      <td>      NaN</td>\n",
        "      <td>NaN</td>\n",
        "    </tr>\n",
        "    <tr>\n",
        "      <th>1976</th>\n",
        "      <td>                                      Gross Profit</td>\n",
        "      <td>                              NaN</td>\n",
        "      <td>NaN</td>\n",
        "      <td>              NaN</td>\n",
        "      <td>               NaN</td>\n",
        "      <td>                  NaN</td>\n",
        "      <td>                                               NaN</td>\n",
        "      <td>  958.330000</td>\n",
        "      <td>  273.125000</td>\n",
        "      <td>  7923.82400</td>\n",
        "      <td>...</td>\n",
        "      <td>  32527.510000</td>\n",
        "      <td>  37611.365000</td>\n",
        "      <td>  45298.850000</td>\n",
        "      <td>  54230.940000</td>\n",
        "      <td>  35231.590000</td>\n",
        "      <td>          NaN</td>\n",
        "      <td>        NaN</td>\n",
        "      <td>          NaN</td>\n",
        "      <td>      NaN</td>\n",
        "      <td>NaN</td>\n",
        "    </tr>\n",
        "    <tr>\n",
        "      <th>1977</th>\n",
        "      <td>                                            Margin</td>\n",
        "      <td>                              NaN</td>\n",
        "      <td>NaN</td>\n",
        "      <td>              NaN</td>\n",
        "      <td>               NaN</td>\n",
        "      <td>                  NaN</td>\n",
        "      <td>                                               NaN</td>\n",
        "      <td>    0.204181</td>\n",
        "      <td>    0.171171</td>\n",
        "      <td>     0.27902</td>\n",
        "      <td>...</td>\n",
        "      <td>      0.298438</td>\n",
        "      <td>      0.281264</td>\n",
        "      <td>      0.303111</td>\n",
        "      <td>      0.288851</td>\n",
        "      <td>      0.279362</td>\n",
        "      <td>          NaN</td>\n",
        "      <td>        NaN</td>\n",
        "      <td>          NaN</td>\n",
        "      <td>      NaN</td>\n",
        "      <td>NaN</td>\n",
        "    </tr>\n",
        "    <tr>\n",
        "      <th>1978</th>\n",
        "      <td>                                               Tax</td>\n",
        "      <td>                              NaN</td>\n",
        "      <td>NaN</td>\n",
        "      <td>              NaN</td>\n",
        "      <td>               NaN</td>\n",
        "      <td>                  NaN</td>\n",
        "      <td>                                               NaN</td>\n",
        "      <td>    0.000000</td>\n",
        "      <td>    0.000000</td>\n",
        "      <td>     0.00000</td>\n",
        "      <td>...</td>\n",
        "      <td>      0.000000</td>\n",
        "      <td>      0.000000</td>\n",
        "      <td>      0.000000</td>\n",
        "      <td>      0.000000</td>\n",
        "      <td>      0.000000</td>\n",
        "      <td>          NaN</td>\n",
        "      <td>        NaN</td>\n",
        "      <td>          NaN</td>\n",
        "      <td>      NaN</td>\n",
        "      <td>NaN</td>\n",
        "    </tr>\n",
        "  </tbody>\n",
        "</table>\n",
        "<p>1979 rows \u00d7 56 columns</p>\n",
        "</div>"
       ],
       "metadata": {},
       "output_type": "pyout",
       "prompt_number": 3,
       "text": [
        "                                                Product  \\\n",
        "0                     Quinoa ( white ) - organic / 454g   \n",
        "1                                 Chicken Breasts / 1kg   \n",
        "2                Chicken breast - Hormone free (frozen)   \n",
        "3                   Coconut oil (organic) - for cooking   \n",
        "4                                   Whole Chicken / 1kg   \n",
        "5                                     Beef Fillet / 1kg   \n",
        "6                                   Beef fillet (whole)   \n",
        "7                 Whole chicken - Hormone free (frozen)   \n",
        "8          Beef mince - no fat (chemical free) - frozen   \n",
        "9                   Coconut oil (organic) - for cooking   \n",
        "10                                Salmon steak (frozen)   \n",
        "11                           Cairo above 150 L.E orders   \n",
        "12                 Beef fillet (chemical free) - frozen   \n",
        "13                            Inside Cairo delivery fee   \n",
        "14                               Dried cranberry / 200g   \n",
        "15                         Veal Escalope (Biftek) / 1kg   \n",
        "16                                Maple syrup (organic)   \n",
        "17        Balady Whole Chicken(chemical free) / Default   \n",
        "18    Muesli with mixed berries, oat flakes, and see...   \n",
        "19    Bench press oats with apple and cinnamon ( wit...   \n",
        "20                  Beef cubes (chemical free) - frozen   \n",
        "21    Muesli with quinoa, amaranth, apple, seeds and...   \n",
        "22                                    Almond meal flour   \n",
        "23                                                Cairo   \n",
        "24                                 Chia seeds (organic)   \n",
        "25                                 Manuka honey (large)   \n",
        "26                                              Avocado   \n",
        "27                                  Avocados (imported)   \n",
        "28                                     Beef Mince / 1kg   \n",
        "29                                Balady eggs (organic)   \n",
        "...                                                 ...   \n",
        "1949                                 Sage ( aquaponic )   \n",
        "1950                                           Zucchini   \n",
        "1951                                  Mini French Brown   \n",
        "1952                               Spring Onions / 200g   \n",
        "1953                                        Honey Spoon   \n",
        "1954                                            Hot Dog   \n",
        "1955                   Oak leaf lettuce (chemical free)   \n",
        "1956                          Spearmint (chemical free)   \n",
        "1957                            Rosemary(chemical free)   \n",
        "1958                            Oregano (chemical free)   \n",
        "1959                         Mango aweys(chemical free)   \n",
        "1960                              Oat milk ( Original )   \n",
        "1961                                         Kaki Fruit   \n",
        "1962                 Broccoli Romanesco (chemical free)   \n",
        "1963                                      White cabbage   \n",
        "1964                                     Chinese garlic   \n",
        "1965                   Spelt Flakes - toasted (organic)   \n",
        "1966                               Rice milk (original)   \n",
        "1967                   Peanuts in shell (chemical free)   \n",
        "1968                  Red curly batavia (chemical free)   \n",
        "1969                       Guiltless oatmeal cookie mix   \n",
        "1970                               Traditional crackers   \n",
        "1971                          Moringa ( chemical free )   \n",
        "1972                    Mango alfonse ( Chemical free )   \n",
        "1973                                        Wild Morgan   \n",
        "1974                                            Revenue   \n",
        "1975                                      Cost of Goods   \n",
        "1976                                       Gross Profit   \n",
        "1977                                             Margin   \n",
        "1978                                                Tax   \n",
        "\n",
        "                                   SKU  Supplier Code             Brand  \\\n",
        "0                               106900            NaN  Eden Foods, Inc.   \n",
        "1                       ChickenBreasts            NaN               NGS   \n",
        "2                                80001            NaN               NGS   \n",
        "3                               101001            NaN               NaN   \n",
        "4                         WholeChicken            NaN               NGS   \n",
        "5                           BeefFillet            NaN               NGS   \n",
        "6                               151017            NaN               NGS   \n",
        "7                                80005            NaN               NGS   \n",
        "8                               151006            NaN               NGS   \n",
        "9         Coconutoilorganic-forcooking            NaN    Divine coconut   \n",
        "10                              451001            NaN               NaN   \n",
        "11               Cairoabove150LEorders            NaN           Freight   \n",
        "12                              151003            NaN               NGS   \n",
        "13              InsideCairodeliveryfee            NaN           Freight   \n",
        "14                      DriedCranberry            NaN               NGS   \n",
        "15                        VealEscalope            NaN               NGS   \n",
        "16                              281102            NaN               NaN   \n",
        "17    BaladyWholeChicken(Chemicalfree)            NaN               NaN   \n",
        "18                              221008            NaN               NaN   \n",
        "19                              221001            NaN               NaN   \n",
        "20                              151001            NaN               NGS   \n",
        "21                              221009            NaN               NaN   \n",
        "22                              281082            NaN               NaN   \n",
        "23                               Cairo            NaN           Freight   \n",
        "24                              221002            NaN               NaN   \n",
        "25                              281113            NaN               NaN   \n",
        "26                             Avocado            NaN        Kheir Misr   \n",
        "27                               20002            NaN               NGS   \n",
        "28                           BeefMince            NaN               NGS   \n",
        "29                              461002            NaN               NaN   \n",
        "...                                ...            ...               ...   \n",
        "1949                              Sage            NaN            Bustan   \n",
        "1950                          Zucchini            NaN               NGS   \n",
        "1951                   MiniFrenchBrown            NaN               NGS   \n",
        "1952                      SpringOnions            NaN               NGS   \n",
        "1953                            291009            NaN               NaN   \n",
        "1954                            HotDog            NaN               NGS   \n",
        "1955                            341028            NaN               NaN   \n",
        "1956                            461027            NaN               NaN   \n",
        "1957                            501032            NaN               NaN   \n",
        "1958                            501027            NaN               NaN   \n",
        "1959                            461015            NaN               NaN   \n",
        "1960                            161002            NaN               NaN   \n",
        "1961                            701021            NaN               NGS   \n",
        "1962                            341008            NaN               NaN   \n",
        "1963                             20039            NaN               NaN   \n",
        "1964                             20034            NaN               NaN   \n",
        "1965                            281179            NaN               NaN   \n",
        "1966                            161003            NaN               NaN   \n",
        "1967                            461022            NaN               NaN   \n",
        "1968                            341031            NaN               NaN   \n",
        "1969                            561001            NaN               NaN   \n",
        "1970                            201009            NaN               NaN   \n",
        "1971                            461020            NaN               NaN   \n",
        "1972                            461014            NaN               NaN   \n",
        "1973                             10004            NaN               NGS   \n",
        "1974                               NaN            NaN               NaN   \n",
        "1975                               NaN            NaN               NaN   \n",
        "1976                               NaN            NaN               NaN   \n",
        "1977                               NaN            NaN               NaN   \n",
        "1978                               NaN            NaN               NaN   \n",
        "\n",
        "               Supplier                  Type  \\\n",
        "0                    Hv                Grains   \n",
        "1                 Shahd         Fresh poultry   \n",
        "2                 Shahd               Poultry   \n",
        "3        Divine coconut                   Oil   \n",
        "4                 Shahd         Fresh poultry   \n",
        "5                 Shahd            Fresh beef   \n",
        "6             El rancho                  Beef   \n",
        "7                 Shahd               Poultry   \n",
        "8             El rancho                  Beef   \n",
        "9        Divine coconut                   Oil   \n",
        "10            Red Coral              Sea Food   \n",
        "11              Freight               General   \n",
        "12            El rancho                  Beef   \n",
        "13              Freight              Delivery   \n",
        "14                  Auf          Dried fruits   \n",
        "15                Shahd            Fresh veal   \n",
        "16                   Hv            Sweeteners   \n",
        "17               Tabiey               Poultry   \n",
        "18            Good life                Cereal   \n",
        "19            Good life                Cereal   \n",
        "20            El rancho                  Beef   \n",
        "21            Good life                Cereal   \n",
        "22                   Hv       Baking products   \n",
        "23              Freight               General   \n",
        "24            Good life                 Seeds   \n",
        "25                   Hv                 Honey   \n",
        "26                Rafic          Fresh fruits   \n",
        "27             Agrovate                Fruits   \n",
        "28                Shahd            Fresh beef   \n",
        "29            Sara nour                  Eggs   \n",
        "...                 ...                   ...   \n",
        "1949  Bustan aquaponics  Aquaponic vegetables   \n",
        "1950           Agrovate      Fresh vegetables   \n",
        "1951           Favorito           Bread&Bakry   \n",
        "1952              Offah         Fresh Produce   \n",
        "1953                IMN        Home appliance   \n",
        "1954           Favorito           Bread&Bakry   \n",
        "1955              MAKAR            Vegetables   \n",
        "1956          Sara nour             Beverages   \n",
        "1957             Tabiey                 Herbs   \n",
        "1958             Tabiey                 Herbs   \n",
        "1959          Sara nour                Fruits   \n",
        "1960          El_Ansary        Non-dairy milk   \n",
        "1961               Farm                Fruits   \n",
        "1962              MAKAR            Vegetables   \n",
        "1963           Agrovate            Vegetables   \n",
        "1964           Agrovate            Vegetables   \n",
        "1965                 Hv                Cereal   \n",
        "1966          El_Ansary        Non-dairy milk   \n",
        "1967          Sara nour                  Nuts   \n",
        "1968              MAKAR            Vegetables   \n",
        "1969          Signature       Baking products   \n",
        "1970        Food stores                Snacks   \n",
        "1971          Sara nour      Food supplements   \n",
        "1972          Sara nour                Fruits   \n",
        "1973                ABO              Sea Food   \n",
        "1974                NaN                   NaN   \n",
        "1975                NaN                   NaN   \n",
        "1976                NaN                   NaN   \n",
        "1977                NaN                   NaN   \n",
        "1978                NaN                   NaN   \n",
        "\n",
        "                                                    Tag     May 2012  \\\n",
        "0                                                   NaN     0.000000   \n",
        "1                                                   NaN     0.000000   \n",
        "2                                                Frozen     0.000000   \n",
        "3                          Super food, Weight loss, Oil     0.000000   \n",
        "4                                                   NaN     0.000000   \n",
        "5                                                   NaN     0.000000   \n",
        "6                                             Wholesale     0.000000   \n",
        "7                                                Frozen     0.000000   \n",
        "8                           Frozen, Chemical free, Beef     0.000000   \n",
        "9                                                   NaN     0.000000   \n",
        "10                                               Frozen     0.000000   \n",
        "11                                                  NaN     0.000000   \n",
        "12                          Frozen, Chemical free, Beef     0.000000   \n",
        "13                                                  NaN     0.000000   \n",
        "14                                                  NaN     0.000000   \n",
        "15                                                  NaN     0.000000   \n",
        "16                                  Organic, Sweeteners     0.000000   \n",
        "17                                Frozen, Chemical free     0.000000   \n",
        "18                                              Organic     0.000000   \n",
        "19                                     High performance     0.000000   \n",
        "20                          Frozen, Chemical free, Beef     0.000000   \n",
        "21                        High performance, gluten free     0.000000   \n",
        "22     Weight loss, gluten free, Vegan, Baking Products     0.000000   \n",
        "23                                                  NaN     0.000000   \n",
        "24                     Super food, Weight loss, Organic     0.000000   \n",
        "25    Organic, gluten free, Vegetarian, Honey & Swee...     0.000000   \n",
        "26                                                  NaN     0.000000   \n",
        "27                                                Fresh     0.000000   \n",
        "28                                                  NaN     0.000000   \n",
        "29                                        Organic, Eggs     0.000000   \n",
        "...                                                 ...          ...   \n",
        "1949                                                NaN     0.000000   \n",
        "1950                                                NaN     0.000000   \n",
        "1951                                                NaN     0.000000   \n",
        "1952                                                NaN     0.000000   \n",
        "1953                                  Kitchen equipment     0.000000   \n",
        "1954                                                NaN     0.000000   \n",
        "1955                              Chemical free, Greens     0.000000   \n",
        "1956                                 Chemical free, Tea     0.000000   \n",
        "1957                               Fresh, Chemical free     0.000000   \n",
        "1958                               Fresh, Chemical free     0.000000   \n",
        "1959                               Fresh, Chemical free     0.000000   \n",
        "1960                                            Organic     0.000000   \n",
        "1961                                  Fresh, High grade     0.000000   \n",
        "1962                               Fresh, Chemical free     0.000000   \n",
        "1963                                              Fresh     0.000000   \n",
        "1964                                              Fresh     0.000000   \n",
        "1965                                        Whole grain     0.000000   \n",
        "1966                                            Organic     0.000000   \n",
        "1967                                Nuts, Chemical free     0.000000   \n",
        "1968                              Chemical free, Greens     0.000000   \n",
        "1969                                 Whole grain, Flour     0.000000   \n",
        "1970                              Whole grain, Crackers     0.000000   \n",
        "1971                       Super food, High performance     0.000000   \n",
        "1972                               Fresh, Chemical free     0.000000   \n",
        "1973                                Local, Frozen, Fish     0.000000   \n",
        "1974                                                NaN  4693.535000   \n",
        "1975                                                NaN  3735.205000   \n",
        "1976                                                NaN   958.330000   \n",
        "1977                                                NaN     0.204181   \n",
        "1978                                                NaN     0.000000   \n",
        "\n",
        "         Jun 2012     Jul 2012 ...        Aug 2015       Sep 2015  \\\n",
        "0        0.000000      0.00000 ...        0.000000       0.000000   \n",
        "1        0.000000      0.00000 ...        0.000000       0.000000   \n",
        "2        0.000000      0.00000 ...     4686.945289    5240.381685   \n",
        "3        0.000000      0.00000 ...     4417.800000    3537.665409   \n",
        "4        0.000000      0.00000 ...        0.000000       0.000000   \n",
        "5        0.000000      0.00000 ...        0.000000       0.000000   \n",
        "6        0.000000      0.00000 ...        0.000000       0.000000   \n",
        "7        0.000000      0.00000 ...     1620.000000    1980.000000   \n",
        "8        0.000000      0.00000 ...     3038.000000    1550.000000   \n",
        "9        0.000000      0.00000 ...        0.000000       0.000000   \n",
        "10       0.000000      0.00000 ...     1588.043537    2963.600000   \n",
        "11       0.000000      0.00000 ...     2020.670198    1848.049762   \n",
        "12       0.000000      0.00000 ...     1640.310680    1862.000000   \n",
        "13       0.000000      0.00000 ...        0.000000       0.000000   \n",
        "14       0.000000      0.00000 ...        0.000000       0.000000   \n",
        "15       0.000000      0.00000 ...        0.000000       0.000000   \n",
        "16       0.000000      0.00000 ...     1536.000000    1056.000000   \n",
        "17       0.000000      0.00000 ...     2100.000000    2740.943396   \n",
        "18       0.000000      0.00000 ...      443.520000    2100.800000   \n",
        "19       0.000000      0.00000 ...      915.000000     312.000000   \n",
        "20       0.000000      0.00000 ...      682.000000    1736.000000   \n",
        "21       0.000000      0.00000 ...     1301.120000    2074.400000   \n",
        "22       0.000000      0.00000 ...     3168.000000    2296.800000   \n",
        "23       0.000000      0.00000 ...      987.374904    1698.236995   \n",
        "24       0.000000      0.00000 ...      490.000000     490.000000   \n",
        "25       0.000000      0.00000 ...     3280.000000    1640.000000   \n",
        "26       0.000000      0.00000 ...        0.000000       0.000000   \n",
        "27       0.000000      0.00000 ...     1153.000000    1972.000000   \n",
        "28       0.000000      0.00000 ...        0.000000       0.000000   \n",
        "29       0.000000      0.00000 ...     1272.000000    1296.000000   \n",
        "...           ...          ... ...             ...            ...   \n",
        "1949     0.000000      0.00000 ...        0.000000       0.000000   \n",
        "1950     0.000000      0.00000 ...        0.000000       0.000000   \n",
        "1951     0.000000      0.00000 ...        0.000000       0.000000   \n",
        "1952     0.000000      3.25000 ...        0.000000       0.000000   \n",
        "1953     0.000000      0.00000 ...        0.000000       0.000000   \n",
        "1954     0.000000      0.00000 ...        0.000000       0.000000   \n",
        "1955     0.000000      0.00000 ...        0.000000       0.000000   \n",
        "1956     0.000000      0.00000 ...        0.000000       0.000000   \n",
        "1957     0.000000      0.00000 ...        0.000000       0.000000   \n",
        "1958     0.000000      0.00000 ...        0.000000       0.000000   \n",
        "1959     0.000000      0.00000 ...        0.000000       0.000000   \n",
        "1960     0.000000      0.00000 ...        0.000000       0.000000   \n",
        "1961     0.000000      0.00000 ...        0.000000       0.000000   \n",
        "1962     0.000000      0.00000 ...        0.000000       0.000000   \n",
        "1963     0.000000      0.00000 ...        0.000000       0.000000   \n",
        "1964     0.000000      0.00000 ...        0.000000       0.000000   \n",
        "1965     0.000000      0.00000 ...        0.000000       0.000000   \n",
        "1966     0.000000      0.00000 ...        0.000000       0.000000   \n",
        "1967     0.000000      0.00000 ...        0.000000       0.000000   \n",
        "1968     0.000000      0.00000 ...        0.000000       0.000000   \n",
        "1969     0.000000      0.00000 ...        0.000000       0.000000   \n",
        "1970     0.000000      0.00000 ...       33.000000       0.000000   \n",
        "1971     0.000000      0.00000 ...        0.000000       0.000000   \n",
        "1972     0.000000      0.00000 ...        0.000000       0.000000   \n",
        "1973     0.000000      0.00000 ...        0.000000       0.000000   \n",
        "1974  1595.625000  28398.75000 ...   108992.550000  133722.645000   \n",
        "1975  1322.500000  20474.92600 ...    76465.040000   96111.280000   \n",
        "1976   273.125000   7923.82400 ...    32527.510000   37611.365000   \n",
        "1977     0.171171      0.27902 ...        0.298438       0.281264   \n",
        "1978     0.000000      0.00000 ...        0.000000       0.000000   \n",
        "\n",
        "           Oct 2015       Nov 2015       Dec 2015       Revenue  \\\n",
        "0          0.000000       0.000000       0.000000  62300.960000   \n",
        "1          0.000000       0.000000       0.000000  59336.960000   \n",
        "2       7792.745465    7767.317151    7137.251022  49308.067962   \n",
        "3       4277.338577    8850.907080    4732.163715  41089.779935   \n",
        "4          0.000000       0.000000       0.000000  40680.500000   \n",
        "5          0.000000       0.000000       0.000000  25178.217820   \n",
        "6          0.000000       0.000000       0.000000  23672.175800   \n",
        "7       4080.421348    2629.084098    2763.917338  23442.922784   \n",
        "8        973.594969    2503.863746    2558.649903  22389.239270   \n",
        "9          0.000000       0.000000       0.000000  20635.000000   \n",
        "10      2759.000000    3388.875700    2576.113136  19233.832374   \n",
        "11      2586.345982    2991.765426    1699.753162  19054.634183   \n",
        "12      2833.115336    1625.576253    3942.408042  18928.772120   \n",
        "13         0.000000       0.000000       0.000000  18207.761412   \n",
        "14         0.000000       0.000000       0.000000  17477.037000   \n",
        "15         0.000000       0.000000       0.000000  14144.000000   \n",
        "16      1905.600000    1769.074793    1045.000000  13998.773205   \n",
        "17      2200.000000    1880.229340    2112.243645  13683.416381   \n",
        "18         0.000000       0.000000       0.000000  13160.394745   \n",
        "19         0.000000       0.000000       0.000000  12951.959594   \n",
        "20       868.000000    1642.134626    2241.968114  12883.277837   \n",
        "21         0.000000       0.000000       0.000000  12819.304745   \n",
        "22      1716.000000    3892.412286     -15.575221  12723.237064   \n",
        "23      1903.656250    2165.138042    1520.730987  12565.137179   \n",
        "24       392.000000      98.000000       0.000000  12487.056000   \n",
        "25      4592.000000    1968.000000     656.000000  12136.000000   \n",
        "26         0.000000       0.000000       0.000000  12049.565673   \n",
        "27      1713.832082    1748.572824    1488.005413  12025.410318   \n",
        "28         0.000000       0.000000       0.000000  11978.320000   \n",
        "29      1776.000000    2019.300135     987.540126  11724.840261   \n",
        "...             ...            ...            ...           ...   \n",
        "1949       0.000000       0.000000       0.000000      5.000000   \n",
        "1950       0.000000       0.000000       0.000000      5.000000   \n",
        "1951       0.000000       0.000000       0.000000      4.500000   \n",
        "1952       0.000000       0.000000       0.000000      3.250000   \n",
        "1953       0.000000       0.000000       0.000000      3.000000   \n",
        "1954       0.000000       0.000000       0.000000      2.500000   \n",
        "1955       0.000000       0.000000       0.000000      0.000000   \n",
        "1956       0.000000       0.000000       0.000000      0.000000   \n",
        "1957       0.000000       0.000000       0.000000      0.000000   \n",
        "1958       0.000000       0.000000       0.000000      0.000000   \n",
        "1959       0.000000       0.000000       0.000000      0.000000   \n",
        "1960       0.000000       0.000000       0.000000      0.000000   \n",
        "1961       0.000000       0.000000       0.000000      0.000000   \n",
        "1962       0.000000       0.000000       0.000000      0.000000   \n",
        "1963       0.000000       0.000000       0.000000      0.000000   \n",
        "1964       0.000000       0.000000       0.000000      0.000000   \n",
        "1965       0.000000       0.000000       0.000000      0.000000   \n",
        "1966       0.000000       0.000000       0.000000      0.000000   \n",
        "1967       0.000000       0.000000       0.000000      0.000000   \n",
        "1968       0.000000       0.000000       0.000000      0.000000   \n",
        "1969       0.000000       0.000000       0.000000      0.000000   \n",
        "1970       0.000000       0.000000       0.000000      0.000000   \n",
        "1971       0.000000       0.000000       0.000000      0.000000   \n",
        "1972       0.000000       0.000000       0.000000      0.000000   \n",
        "1973       0.000000       0.000000       0.000000      0.000000   \n",
        "1974  149446.600000  187747.050000  126114.640000           NaN   \n",
        "1975  104147.750000  133516.110000   90883.050000           NaN   \n",
        "1976   45298.850000   54230.940000   35231.590000           NaN   \n",
        "1977       0.303111       0.288851       0.279362           NaN   \n",
        "1978       0.000000       0.000000       0.000000           NaN   \n",
        "\n",
        "      Cost of Goods  Gross Profit    Margin  Tax  \n",
        "0        51333.7400  10967.220000  0.176036    0  \n",
        "1        45182.0000  14154.960000  0.238552    0  \n",
        "2        35058.6400  14249.427962  0.288988    0  \n",
        "3        31472.0000   9617.779935  0.234067    0  \n",
        "4        31340.3000   9340.200000  0.229599    0  \n",
        "5        17442.5000   7735.717820  0.307238    0  \n",
        "6        20129.1750   3543.000800  0.149669    0  \n",
        "7        16012.0300   7430.892784  0.316978    0  \n",
        "8        15856.7200   6532.519270  0.291770    0  \n",
        "9        15696.2500   4938.750000  0.239339    0  \n",
        "10       12720.0000   6513.832374  0.338665    0  \n",
        "11           0.0000  19054.634183  1.000000    0  \n",
        "12       14141.3500   4787.422120  0.252918    0  \n",
        "13        2200.0000  16007.761412  0.879172    0  \n",
        "14        7520.0075   9957.029500  0.569721    0  \n",
        "15       10845.0000   3299.000000  0.233244    0  \n",
        "16       10578.2500   3420.523205  0.244344    0  \n",
        "17       11080.0000   2603.416381  0.190261    0  \n",
        "18        9057.6000   4102.794745  0.311753    0  \n",
        "19        7935.4800   5016.479594  0.387314    0  \n",
        "20        9354.0300   3529.247837  0.273940    0  \n",
        "21        9605.5200   3213.784745  0.250699    0  \n",
        "22       10092.7700   2630.467064  0.206745    0  \n",
        "23           0.0000  12565.137179  1.000000    0  \n",
        "24        6761.6400   5725.416000  0.458508    0  \n",
        "25        9111.8400   3024.160000  0.249189    0  \n",
        "26       10095.1100   1954.455673  0.162201    0  \n",
        "27        8511.1900   3514.220318  0.292233    0  \n",
        "28        9229.8600   2748.460000  0.229453    0  \n",
        "29        8785.0000   2939.840261  0.250736    0  \n",
        "...             ...           ...       ...  ...  \n",
        "1949         3.5000      1.500000  0.300000    0  \n",
        "1950         3.7500      1.250000  0.250000    0  \n",
        "1951         0.0000      4.500000  1.000000    0  \n",
        "1952         2.5000      0.750000  0.230769    0  \n",
        "1953         1.3500      1.650000  0.550000    0  \n",
        "1954         0.0000      2.500000  1.000000    0  \n",
        "1955         0.0000      0.000000  0.000000    0  \n",
        "1956         0.0000      0.000000  0.000000    0  \n",
        "1957         0.0000      0.000000  0.000000    0  \n",
        "1958         0.0000      0.000000  0.000000    0  \n",
        "1959         0.0000      0.000000  0.000000    0  \n",
        "1960         0.0000      0.000000  0.000000    0  \n",
        "1961         0.0000      0.000000  0.000000    0  \n",
        "1962         0.0000      0.000000  0.000000    0  \n",
        "1963         0.0000      0.000000  0.000000    0  \n",
        "1964         0.0000      0.000000  0.000000    0  \n",
        "1965         0.0000      0.000000  0.000000    0  \n",
        "1966         0.0000      0.000000  0.000000    0  \n",
        "1967         0.0000      0.000000  0.000000    0  \n",
        "1968         0.0000      0.000000  0.000000    0  \n",
        "1969       -40.0000     40.000000  0.000000    0  \n",
        "1970         0.0000      0.000000  0.000000    0  \n",
        "1971         0.0000      0.000000  0.000000    0  \n",
        "1972         0.0000      0.000000  0.000000    0  \n",
        "1973         0.0000      0.000000  0.000000    0  \n",
        "1974            NaN           NaN       NaN  NaN  \n",
        "1975            NaN           NaN       NaN  NaN  \n",
        "1976            NaN           NaN       NaN  NaN  \n",
        "1977            NaN           NaN       NaN  NaN  \n",
        "1978            NaN           NaN       NaN  NaN  \n",
        "\n",
        "[1979 rows x 56 columns]"
       ]
      }
     ],
     "prompt_number": 3
    },
    {
     "cell_type": "code",
     "collapsed": false,
     "input": [
      "#remove the last rows which are aggregated values\n",
      "df = df[:max(df.index)-4]\n",
      "\n",
      "#remove null products, change to upper case\n",
      "df = df[pd.notnull(df['Product'])]\n",
      "df['Product'] = df['Product'].apply(lambda x: x.upper())\n",
      "df = df.sort('Product')\n",
      "df.fillna(0, inplace=True) #replace na values with 0\n",
      "df = df[~df['Product'].str.contains(\"CAIRO\")] #remove unnecessary rows\n",
      "df = df.reset_index().drop('index',1)\n",
      "df = df.groupby(['Product', 'Brand', 'Type'], axis=0, as_index=False).sum()\n",
      "df"
     ],
     "language": "python",
     "metadata": {},
     "outputs": [
      {
       "html": [
        "<div style=\"max-height:1000px;max-width:1500px;overflow:auto;\">\n",
        "<table border=\"1\" class=\"dataframe\">\n",
        "  <thead>\n",
        "    <tr style=\"text-align: right;\">\n",
        "      <th></th>\n",
        "      <th>Product</th>\n",
        "      <th>Brand</th>\n",
        "      <th>Type</th>\n",
        "      <th>Supplier Code</th>\n",
        "      <th>May 2012</th>\n",
        "      <th>Jun 2012</th>\n",
        "      <th>Jul 2012</th>\n",
        "      <th>Aug 2012</th>\n",
        "      <th>Sep 2012</th>\n",
        "      <th>Oct 2012</th>\n",
        "      <th>...</th>\n",
        "      <th>Aug 2015</th>\n",
        "      <th>Sep 2015</th>\n",
        "      <th>Oct 2015</th>\n",
        "      <th>Nov 2015</th>\n",
        "      <th>Dec 2015</th>\n",
        "      <th>Revenue</th>\n",
        "      <th>Cost of Goods</th>\n",
        "      <th>Gross Profit</th>\n",
        "      <th>Margin</th>\n",
        "      <th>Tax</th>\n",
        "    </tr>\n",
        "  </thead>\n",
        "  <tbody>\n",
        "    <tr>\n",
        "      <th>0   </th>\n",
        "      <td>                             7 GRAIN MILK / 946ML</td>\n",
        "      <td> Pacific Natural Foods</td>\n",
        "      <td>                     Milk</td>\n",
        "      <td> 0</td>\n",
        "      <td> 0</td>\n",
        "      <td> 0</td>\n",
        "      <td>  0.00</td>\n",
        "      <td>  0.00</td>\n",
        "      <td>  0.00</td>\n",
        "      <td>  0.0</td>\n",
        "      <td>...</td>\n",
        "      <td>    0.000000</td>\n",
        "      <td>    0.0</td>\n",
        "      <td>    0.000000</td>\n",
        "      <td>    0.000000</td>\n",
        "      <td>    0.000000</td>\n",
        "      <td>  1492.900000</td>\n",
        "      <td>  1221.00</td>\n",
        "      <td>  271.900000</td>\n",
        "      <td> 0.182129</td>\n",
        "      <td> 0</td>\n",
        "    </tr>\n",
        "    <tr>\n",
        "      <th>1   </th>\n",
        "      <td>                                 ACAI BERRY JUICE</td>\n",
        "      <td>                     0</td>\n",
        "      <td>                Beverages</td>\n",
        "      <td> 0</td>\n",
        "      <td> 0</td>\n",
        "      <td> 0</td>\n",
        "      <td>  0.00</td>\n",
        "      <td>  0.00</td>\n",
        "      <td>  0.00</td>\n",
        "      <td>  0.0</td>\n",
        "      <td>...</td>\n",
        "      <td>    0.000000</td>\n",
        "      <td>    0.0</td>\n",
        "      <td>    0.000000</td>\n",
        "      <td>    0.000000</td>\n",
        "      <td>   60.000000</td>\n",
        "      <td>    60.000000</td>\n",
        "      <td>    48.00</td>\n",
        "      <td>   12.000000</td>\n",
        "      <td> 0.200000</td>\n",
        "      <td> 0</td>\n",
        "    </tr>\n",
        "    <tr>\n",
        "      <th>2   </th>\n",
        "      <td>                                 ACAI BERRY JUICE</td>\n",
        "      <td>         Berry company</td>\n",
        "      <td>                   Juices</td>\n",
        "      <td> 0</td>\n",
        "      <td> 0</td>\n",
        "      <td> 0</td>\n",
        "      <td>  0.00</td>\n",
        "      <td>  0.00</td>\n",
        "      <td>  0.00</td>\n",
        "      <td>  0.0</td>\n",
        "      <td>...</td>\n",
        "      <td>    0.000000</td>\n",
        "      <td>    0.0</td>\n",
        "      <td>    0.000000</td>\n",
        "      <td>    0.000000</td>\n",
        "      <td>    0.000000</td>\n",
        "      <td>   308.000000</td>\n",
        "      <td>   230.00</td>\n",
        "      <td>   78.000000</td>\n",
        "      <td> 0.253247</td>\n",
        "      <td> 0</td>\n",
        "    </tr>\n",
        "    <tr>\n",
        "      <th>3   </th>\n",
        "      <td>                                 ACNE FACIAL SOAP</td>\n",
        "      <td>         Healing Herbs</td>\n",
        "      <td>                Cosmetics</td>\n",
        "      <td> 0</td>\n",
        "      <td> 0</td>\n",
        "      <td> 0</td>\n",
        "      <td>  0.00</td>\n",
        "      <td>  0.00</td>\n",
        "      <td>  0.00</td>\n",
        "      <td>  0.0</td>\n",
        "      <td>...</td>\n",
        "      <td>    0.000000</td>\n",
        "      <td>    0.0</td>\n",
        "      <td>    0.000000</td>\n",
        "      <td>    0.000000</td>\n",
        "      <td>    0.000000</td>\n",
        "      <td>   110.000000</td>\n",
        "      <td>    88.00</td>\n",
        "      <td>   22.000000</td>\n",
        "      <td> 0.200000</td>\n",
        "      <td> 0</td>\n",
        "    </tr>\n",
        "    <tr>\n",
        "      <th>4   </th>\n",
        "      <td>                          ACQUA PANA WATER 1000ML</td>\n",
        "      <td>                   NGS</td>\n",
        "      <td>                Beverages</td>\n",
        "      <td> 0</td>\n",
        "      <td> 0</td>\n",
        "      <td> 0</td>\n",
        "      <td>  0.00</td>\n",
        "      <td>  0.00</td>\n",
        "      <td>  0.00</td>\n",
        "      <td>  0.0</td>\n",
        "      <td>...</td>\n",
        "      <td>    0.000000</td>\n",
        "      <td>    0.0</td>\n",
        "      <td>    0.000000</td>\n",
        "      <td>    0.000000</td>\n",
        "      <td>    0.000000</td>\n",
        "      <td>    10.000000</td>\n",
        "      <td>     0.00</td>\n",
        "      <td>   10.000000</td>\n",
        "      <td> 1.000000</td>\n",
        "      <td> 0</td>\n",
        "    </tr>\n",
        "    <tr>\n",
        "      <th>5   </th>\n",
        "      <td>                           ACQUA PANA WATER 500ML</td>\n",
        "      <td>                   NGS</td>\n",
        "      <td>                Beverages</td>\n",
        "      <td> 0</td>\n",
        "      <td> 0</td>\n",
        "      <td> 0</td>\n",
        "      <td>  0.00</td>\n",
        "      <td>  0.00</td>\n",
        "      <td>  0.00</td>\n",
        "      <td>  0.0</td>\n",
        "      <td>...</td>\n",
        "      <td>    0.000000</td>\n",
        "      <td>    0.0</td>\n",
        "      <td>    0.000000</td>\n",
        "      <td>    0.000000</td>\n",
        "      <td>    0.000000</td>\n",
        "      <td>     6.500000</td>\n",
        "      <td>     0.00</td>\n",
        "      <td>    6.500000</td>\n",
        "      <td> 1.000000</td>\n",
        "      <td> 0</td>\n",
        "    </tr>\n",
        "    <tr>\n",
        "      <th>6   </th>\n",
        "      <td>                     ACQUA PANA WATER 500ML GLASS</td>\n",
        "      <td>                   NGS</td>\n",
        "      <td>                Beverages</td>\n",
        "      <td> 0</td>\n",
        "      <td> 0</td>\n",
        "      <td> 0</td>\n",
        "      <td>  0.00</td>\n",
        "      <td>  0.00</td>\n",
        "      <td>  0.00</td>\n",
        "      <td>  0.0</td>\n",
        "      <td>...</td>\n",
        "      <td>    0.000000</td>\n",
        "      <td>    0.0</td>\n",
        "      <td>    0.000000</td>\n",
        "      <td>    0.000000</td>\n",
        "      <td>    0.000000</td>\n",
        "      <td>     9.000000</td>\n",
        "      <td>     0.00</td>\n",
        "      <td>    9.000000</td>\n",
        "      <td> 1.000000</td>\n",
        "      <td> 0</td>\n",
        "    </tr>\n",
        "    <tr>\n",
        "      <th>7   </th>\n",
        "      <td>            ACTIBIF CHEESE (FOR BETTER DIGESTION)</td>\n",
        "      <td>                     0</td>\n",
        "      <td>                   cheese</td>\n",
        "      <td> 0</td>\n",
        "      <td> 0</td>\n",
        "      <td> 0</td>\n",
        "      <td>  0.00</td>\n",
        "      <td>  0.00</td>\n",
        "      <td>  0.00</td>\n",
        "      <td>  0.0</td>\n",
        "      <td>...</td>\n",
        "      <td>   68.000000</td>\n",
        "      <td>  204.0</td>\n",
        "      <td>   68.000000</td>\n",
        "      <td>    0.000000</td>\n",
        "      <td>    0.000000</td>\n",
        "      <td>   340.000000</td>\n",
        "      <td>   260.00</td>\n",
        "      <td>   80.000000</td>\n",
        "      <td> 0.235294</td>\n",
        "      <td> 0</td>\n",
        "    </tr>\n",
        "    <tr>\n",
        "      <th>8   </th>\n",
        "      <td>         AGAR AGAR FLAKES (HAND HARVESTED) - WILD</td>\n",
        "      <td>                     0</td>\n",
        "      <td>         Food supplements</td>\n",
        "      <td> 0</td>\n",
        "      <td> 0</td>\n",
        "      <td> 0</td>\n",
        "      <td>  0.00</td>\n",
        "      <td>  0.00</td>\n",
        "      <td>  0.00</td>\n",
        "      <td>  0.0</td>\n",
        "      <td>...</td>\n",
        "      <td>   86.000000</td>\n",
        "      <td>    0.0</td>\n",
        "      <td>   86.000000</td>\n",
        "      <td>    0.000000</td>\n",
        "      <td>  258.000000</td>\n",
        "      <td>   688.000000</td>\n",
        "      <td>   510.00</td>\n",
        "      <td>  178.000000</td>\n",
        "      <td> 0.258721</td>\n",
        "      <td> 0</td>\n",
        "    </tr>\n",
        "    <tr>\n",
        "      <th>9   </th>\n",
        "      <td>                  AGAVE SYRUP ( ORGANIC ) / 473ML</td>\n",
        "      <td> Suzanne's Specialties</td>\n",
        "      <td>               Sweeteners</td>\n",
        "      <td> 0</td>\n",
        "      <td> 0</td>\n",
        "      <td> 0</td>\n",
        "      <td>  0.00</td>\n",
        "      <td>  0.00</td>\n",
        "      <td>  0.00</td>\n",
        "      <td>  0.0</td>\n",
        "      <td>...</td>\n",
        "      <td>    0.000000</td>\n",
        "      <td>    0.0</td>\n",
        "      <td>    0.000000</td>\n",
        "      <td>    0.000000</td>\n",
        "      <td>    0.000000</td>\n",
        "      <td>   647.100000</td>\n",
        "      <td>   567.00</td>\n",
        "      <td>   80.100000</td>\n",
        "      <td> 0.123783</td>\n",
        "      <td> 0</td>\n",
        "    </tr>\n",
        "    <tr>\n",
        "      <th>10  </th>\n",
        "      <td>         ALL PURPOSE BAKING FLOUR ( GLUTEN FREE )</td>\n",
        "      <td>                   NGS</td>\n",
        "      <td>                    Flour</td>\n",
        "      <td> 0</td>\n",
        "      <td> 0</td>\n",
        "      <td> 0</td>\n",
        "      <td>  0.00</td>\n",
        "      <td>  0.00</td>\n",
        "      <td>  0.00</td>\n",
        "      <td>  0.0</td>\n",
        "      <td>...</td>\n",
        "      <td>    0.000000</td>\n",
        "      <td>    0.0</td>\n",
        "      <td>    0.000000</td>\n",
        "      <td>    0.000000</td>\n",
        "      <td>    0.000000</td>\n",
        "      <td>   300.000000</td>\n",
        "      <td>   240.00</td>\n",
        "      <td>   60.000000</td>\n",
        "      <td> 0.200000</td>\n",
        "      <td> 0</td>\n",
        "    </tr>\n",
        "    <tr>\n",
        "      <th>11  </th>\n",
        "      <td>  ALL PURPOSE BAKING FLOUR ( GLUTEN FREE ) / 623G</td>\n",
        "      <td>        Bob's Red Mill</td>\n",
        "      <td>                    Flour</td>\n",
        "      <td> 0</td>\n",
        "      <td> 0</td>\n",
        "      <td> 0</td>\n",
        "      <td>  0.00</td>\n",
        "      <td>  0.00</td>\n",
        "      <td>  0.00</td>\n",
        "      <td>  0.0</td>\n",
        "      <td>...</td>\n",
        "      <td>    0.000000</td>\n",
        "      <td>    0.0</td>\n",
        "      <td>    0.000000</td>\n",
        "      <td>    0.000000</td>\n",
        "      <td>    0.000000</td>\n",
        "      <td>  4648.480000</td>\n",
        "      <td>  3744.30</td>\n",
        "      <td>  904.180000</td>\n",
        "      <td> 0.194511</td>\n",
        "      <td> 0</td>\n",
        "    </tr>\n",
        "    <tr>\n",
        "      <th>12  </th>\n",
        "      <td>           ALL PURPOSE BAKING FLOUR (GLUTEN FREE)</td>\n",
        "      <td>                     0</td>\n",
        "      <td>          Baking products</td>\n",
        "      <td> 0</td>\n",
        "      <td> 0</td>\n",
        "      <td> 0</td>\n",
        "      <td>  0.00</td>\n",
        "      <td>  0.00</td>\n",
        "      <td>  0.00</td>\n",
        "      <td>  0.0</td>\n",
        "      <td>...</td>\n",
        "      <td> 1747.200000</td>\n",
        "      <td> 1046.4</td>\n",
        "      <td>  192.000000</td>\n",
        "      <td>    0.000000</td>\n",
        "      <td>  495.000000</td>\n",
        "      <td>  4176.600000</td>\n",
        "      <td>  3371.25</td>\n",
        "      <td>  805.350000</td>\n",
        "      <td> 0.192824</td>\n",
        "      <td> 0</td>\n",
        "    </tr>\n",
        "    <tr>\n",
        "      <th>13  </th>\n",
        "      <td>           ALL PURPOSE BAKING FLOUR (GLUTEN FREE)</td>\n",
        "      <td>                     0</td>\n",
        "      <td>                  General</td>\n",
        "      <td> 0</td>\n",
        "      <td> 0</td>\n",
        "      <td> 0</td>\n",
        "      <td>  0.00</td>\n",
        "      <td>  0.00</td>\n",
        "      <td>  0.00</td>\n",
        "      <td>  0.0</td>\n",
        "      <td>...</td>\n",
        "      <td>    0.000000</td>\n",
        "      <td>   48.0</td>\n",
        "      <td>  528.000000</td>\n",
        "      <td>  240.000000</td>\n",
        "      <td>    0.000000</td>\n",
        "      <td>  1375.750000</td>\n",
        "      <td>  1109.50</td>\n",
        "      <td>  266.250000</td>\n",
        "      <td> 0.393318</td>\n",
        "      <td> 0</td>\n",
        "    </tr>\n",
        "    <tr>\n",
        "      <th>14  </th>\n",
        "      <td> ALMOND BISCUITS (GLUTEN FREE - TRACES OF GLUTEN)</td>\n",
        "      <td>                     0</td>\n",
        "      <td>                   Snacks</td>\n",
        "      <td> 0</td>\n",
        "      <td> 0</td>\n",
        "      <td> 0</td>\n",
        "      <td>  0.00</td>\n",
        "      <td>  0.00</td>\n",
        "      <td>  0.00</td>\n",
        "      <td>  0.0</td>\n",
        "      <td>...</td>\n",
        "      <td>    0.000000</td>\n",
        "      <td>    0.0</td>\n",
        "      <td>    0.000000</td>\n",
        "      <td>    0.000000</td>\n",
        "      <td>    0.000000</td>\n",
        "      <td>    54.000000</td>\n",
        "      <td>     0.00</td>\n",
        "      <td>   54.000000</td>\n",
        "      <td> 1.000000</td>\n",
        "      <td> 0</td>\n",
        "    </tr>\n",
        "    <tr>\n",
        "      <th>15  </th>\n",
        "      <td>                       ALMOND BREAD (GLUTEN FREE)</td>\n",
        "      <td>                     0</td>\n",
        "      <td>                    Bread</td>\n",
        "      <td> 0</td>\n",
        "      <td> 0</td>\n",
        "      <td> 0</td>\n",
        "      <td>  0.00</td>\n",
        "      <td>  0.00</td>\n",
        "      <td>  0.00</td>\n",
        "      <td>  0.0</td>\n",
        "      <td>...</td>\n",
        "      <td>    0.000000</td>\n",
        "      <td>  180.0</td>\n",
        "      <td>    0.000000</td>\n",
        "      <td>    0.000000</td>\n",
        "      <td>    0.000000</td>\n",
        "      <td>   180.000000</td>\n",
        "      <td>   135.00</td>\n",
        "      <td>   45.000000</td>\n",
        "      <td> 0.250000</td>\n",
        "      <td> 0</td>\n",
        "    </tr>\n",
        "    <tr>\n",
        "      <th>16  </th>\n",
        "      <td>                                    ALMOND BUTTER</td>\n",
        "      <td>                     0</td>\n",
        "      <td>               Nut butter</td>\n",
        "      <td> 0</td>\n",
        "      <td> 0</td>\n",
        "      <td> 0</td>\n",
        "      <td>  0.00</td>\n",
        "      <td>  0.00</td>\n",
        "      <td>  0.00</td>\n",
        "      <td>  0.0</td>\n",
        "      <td>...</td>\n",
        "      <td> 1046.000000</td>\n",
        "      <td>  715.0</td>\n",
        "      <td> 1683.722222</td>\n",
        "      <td> 1755.000000</td>\n",
        "      <td> 2648.345747</td>\n",
        "      <td>  7913.067970</td>\n",
        "      <td>  6396.00</td>\n",
        "      <td> 1517.067970</td>\n",
        "      <td> 0.191717</td>\n",
        "      <td> 0</td>\n",
        "    </tr>\n",
        "    <tr>\n",
        "      <th>17  </th>\n",
        "      <td>                        ALMOND BUTTER (HOME-MADE)</td>\n",
        "      <td>             Signature</td>\n",
        "      <td>                  spreads</td>\n",
        "      <td> 0</td>\n",
        "      <td> 0</td>\n",
        "      <td> 0</td>\n",
        "      <td>  0.00</td>\n",
        "      <td>  0.00</td>\n",
        "      <td>  0.00</td>\n",
        "      <td>  0.0</td>\n",
        "      <td>...</td>\n",
        "      <td>    0.000000</td>\n",
        "      <td>    0.0</td>\n",
        "      <td>    0.000000</td>\n",
        "      <td>    0.000000</td>\n",
        "      <td>    0.000000</td>\n",
        "      <td>  4380.000000</td>\n",
        "      <td>  3796.00</td>\n",
        "      <td>  584.000000</td>\n",
        "      <td> 0.133333</td>\n",
        "      <td> 0</td>\n",
        "    </tr>\n",
        "    <tr>\n",
        "      <th>18  </th>\n",
        "      <td>                          ALMOND BUTTER (NATURAL)</td>\n",
        "      <td>                     0</td>\n",
        "      <td>               Nut butter</td>\n",
        "      <td> 0</td>\n",
        "      <td> 0</td>\n",
        "      <td> 0</td>\n",
        "      <td>  0.00</td>\n",
        "      <td>  0.00</td>\n",
        "      <td>  0.00</td>\n",
        "      <td>  0.0</td>\n",
        "      <td>...</td>\n",
        "      <td>  130.000000</td>\n",
        "      <td>  325.0</td>\n",
        "      <td>  715.000000</td>\n",
        "      <td>  780.000000</td>\n",
        "      <td>  650.000000</td>\n",
        "      <td>  2600.000000</td>\n",
        "      <td>  2080.00</td>\n",
        "      <td>  520.000000</td>\n",
        "      <td> 0.200000</td>\n",
        "      <td> 0</td>\n",
        "    </tr>\n",
        "    <tr>\n",
        "      <th>19  </th>\n",
        "      <td>                                ALMOND MEAL FLOUR</td>\n",
        "      <td>                     0</td>\n",
        "      <td>          Baking products</td>\n",
        "      <td> 0</td>\n",
        "      <td> 0</td>\n",
        "      <td> 0</td>\n",
        "      <td>  0.00</td>\n",
        "      <td>  0.00</td>\n",
        "      <td>  0.00</td>\n",
        "      <td>  0.0</td>\n",
        "      <td>...</td>\n",
        "      <td> 3168.000000</td>\n",
        "      <td> 2296.8</td>\n",
        "      <td> 1716.000000</td>\n",
        "      <td> 3892.412286</td>\n",
        "      <td>  -15.575221</td>\n",
        "      <td> 12723.237064</td>\n",
        "      <td> 10092.77</td>\n",
        "      <td> 2630.467064</td>\n",
        "      <td> 0.206745</td>\n",
        "      <td> 0</td>\n",
        "    </tr>\n",
        "    <tr>\n",
        "      <th>20  </th>\n",
        "      <td>                          ALMOND MILK ( ORGANIC )</td>\n",
        "      <td>                 Alpro</td>\n",
        "      <td>           Non-dairy milk</td>\n",
        "      <td> 0</td>\n",
        "      <td> 0</td>\n",
        "      <td> 0</td>\n",
        "      <td>  0.00</td>\n",
        "      <td>  0.00</td>\n",
        "      <td>  0.00</td>\n",
        "      <td>  0.0</td>\n",
        "      <td>...</td>\n",
        "      <td>    0.000000</td>\n",
        "      <td>    0.0</td>\n",
        "      <td>    0.000000</td>\n",
        "      <td>    0.000000</td>\n",
        "      <td>    0.000000</td>\n",
        "      <td>   211.500000</td>\n",
        "      <td>   166.98</td>\n",
        "      <td>   44.520000</td>\n",
        "      <td> 0.210496</td>\n",
        "      <td> 0</td>\n",
        "    </tr>\n",
        "    <tr>\n",
        "      <th>21  </th>\n",
        "      <td>                  ALMOND MILK ( ORGANIC ) / 946ML</td>\n",
        "      <td> Pacific Natural Foods</td>\n",
        "      <td>           Non-dairy milk</td>\n",
        "      <td> 0</td>\n",
        "      <td> 0</td>\n",
        "      <td> 0</td>\n",
        "      <td>  0.00</td>\n",
        "      <td>  0.00</td>\n",
        "      <td>  0.00</td>\n",
        "      <td>  0.0</td>\n",
        "      <td>...</td>\n",
        "      <td>    0.000000</td>\n",
        "      <td>    0.0</td>\n",
        "      <td>    0.000000</td>\n",
        "      <td>    0.000000</td>\n",
        "      <td>    0.000000</td>\n",
        "      <td>  9418.840000</td>\n",
        "      <td>  7723.40</td>\n",
        "      <td> 1695.440000</td>\n",
        "      <td> 0.180005</td>\n",
        "      <td> 0</td>\n",
        "    </tr>\n",
        "    <tr>\n",
        "      <th>22  </th>\n",
        "      <td>                    ALMOND MILK ( ORGANIC ) 946ML</td>\n",
        "      <td>                     0</td>\n",
        "      <td>           Non-dairy milk</td>\n",
        "      <td> 0</td>\n",
        "      <td> 0</td>\n",
        "      <td> 0</td>\n",
        "      <td>  0.00</td>\n",
        "      <td>  0.00</td>\n",
        "      <td>  0.00</td>\n",
        "      <td>  0.0</td>\n",
        "      <td>...</td>\n",
        "      <td>    0.000000</td>\n",
        "      <td>    0.0</td>\n",
        "      <td>    0.000000</td>\n",
        "      <td>    0.000000</td>\n",
        "      <td>    0.000000</td>\n",
        "      <td>   102.000000</td>\n",
        "      <td>    76.80</td>\n",
        "      <td>   25.200000</td>\n",
        "      <td> 0.247059</td>\n",
        "      <td> 0</td>\n",
        "    </tr>\n",
        "    <tr>\n",
        "      <th>23  </th>\n",
        "      <td>                         ALMOND MILK ( ORIGINAL )</td>\n",
        "      <td>                   NGS</td>\n",
        "      <td>           Non-dairy milk</td>\n",
        "      <td> 0</td>\n",
        "      <td> 0</td>\n",
        "      <td> 0</td>\n",
        "      <td>  0.00</td>\n",
        "      <td>  0.00</td>\n",
        "      <td>  0.00</td>\n",
        "      <td>  0.0</td>\n",
        "      <td>...</td>\n",
        "      <td>    0.000000</td>\n",
        "      <td>    0.0</td>\n",
        "      <td>    0.000000</td>\n",
        "      <td>    0.000000</td>\n",
        "      <td>    0.000000</td>\n",
        "      <td>  1128.400000</td>\n",
        "      <td>   912.00</td>\n",
        "      <td>  216.400000</td>\n",
        "      <td> 0.191776</td>\n",
        "      <td> 0</td>\n",
        "    </tr>\n",
        "    <tr>\n",
        "      <th>24  </th>\n",
        "      <td>               ALMOND MILK (ORGANIC) - SUGAR-FREE</td>\n",
        "      <td>                     0</td>\n",
        "      <td>           Non-dairy milk</td>\n",
        "      <td> 0</td>\n",
        "      <td> 0</td>\n",
        "      <td> 0</td>\n",
        "      <td>  0.00</td>\n",
        "      <td>  0.00</td>\n",
        "      <td>  0.00</td>\n",
        "      <td>  0.0</td>\n",
        "      <td>...</td>\n",
        "      <td>    0.000000</td>\n",
        "      <td>    0.0</td>\n",
        "      <td>    0.000000</td>\n",
        "      <td> 2521.720515</td>\n",
        "      <td> 2530.000000</td>\n",
        "      <td>  5051.720515</td>\n",
        "      <td>  4830.00</td>\n",
        "      <td>  221.720515</td>\n",
        "      <td> 0.043890</td>\n",
        "      <td> 0</td>\n",
        "    </tr>\n",
        "    <tr>\n",
        "      <th>25  </th>\n",
        "      <td>                        ALMOND MILK (UNSWEETENED)</td>\n",
        "      <td>                     0</td>\n",
        "      <td>           Non-dairy milk</td>\n",
        "      <td> 0</td>\n",
        "      <td> 0</td>\n",
        "      <td> 0</td>\n",
        "      <td>  0.00</td>\n",
        "      <td>  0.00</td>\n",
        "      <td>  0.00</td>\n",
        "      <td>  0.0</td>\n",
        "      <td>...</td>\n",
        "      <td>    0.000000</td>\n",
        "      <td>    0.0</td>\n",
        "      <td>    0.000000</td>\n",
        "      <td>    0.000000</td>\n",
        "      <td>    0.000000</td>\n",
        "      <td>   608.000000</td>\n",
        "      <td>   456.00</td>\n",
        "      <td>  152.000000</td>\n",
        "      <td> 0.250000</td>\n",
        "      <td> 0</td>\n",
        "    </tr>\n",
        "    <tr>\n",
        "      <th>26  </th>\n",
        "      <td>                  ALMOND MILK WITH DARK CHOCOLATE</td>\n",
        "      <td>           Pure almond</td>\n",
        "      <td>           Non-dairy milk</td>\n",
        "      <td> 0</td>\n",
        "      <td> 0</td>\n",
        "      <td> 0</td>\n",
        "      <td>  0.00</td>\n",
        "      <td>  0.00</td>\n",
        "      <td>  0.00</td>\n",
        "      <td>  0.0</td>\n",
        "      <td>...</td>\n",
        "      <td>    0.000000</td>\n",
        "      <td>    0.0</td>\n",
        "      <td>    0.000000</td>\n",
        "      <td>    0.000000</td>\n",
        "      <td>    0.000000</td>\n",
        "      <td>    57.000000</td>\n",
        "      <td>    45.56</td>\n",
        "      <td>   11.440000</td>\n",
        "      <td> 0.200702</td>\n",
        "      <td> 0</td>\n",
        "    </tr>\n",
        "    <tr>\n",
        "      <th>27  </th>\n",
        "      <td>                         ALMOND MILK WITH VANILLA</td>\n",
        "      <td>           Pure almond</td>\n",
        "      <td>           Non-dairy milk</td>\n",
        "      <td> 0</td>\n",
        "      <td> 0</td>\n",
        "      <td> 0</td>\n",
        "      <td>  0.00</td>\n",
        "      <td>  0.00</td>\n",
        "      <td>  0.00</td>\n",
        "      <td>  0.0</td>\n",
        "      <td>...</td>\n",
        "      <td>    0.000000</td>\n",
        "      <td>    0.0</td>\n",
        "      <td>    0.000000</td>\n",
        "      <td>    0.000000</td>\n",
        "      <td>    0.000000</td>\n",
        "      <td>   114.000000</td>\n",
        "      <td>    89.84</td>\n",
        "      <td>   24.160000</td>\n",
        "      <td> 0.211930</td>\n",
        "      <td> 0</td>\n",
        "    </tr>\n",
        "    <tr>\n",
        "      <th>28  </th>\n",
        "      <td>                       ALMOND ORIGINAL (ORIGINAL)</td>\n",
        "      <td>                     0</td>\n",
        "      <td>           Non-dairy milk</td>\n",
        "      <td> 0</td>\n",
        "      <td> 0</td>\n",
        "      <td> 0</td>\n",
        "      <td>  0.00</td>\n",
        "      <td>  0.00</td>\n",
        "      <td>  0.00</td>\n",
        "      <td>  0.0</td>\n",
        "      <td>...</td>\n",
        "      <td>    0.000000</td>\n",
        "      <td>    0.0</td>\n",
        "      <td>    0.000000</td>\n",
        "      <td>    0.000000</td>\n",
        "      <td>    0.000000</td>\n",
        "      <td>   512.000000</td>\n",
        "      <td>   384.00</td>\n",
        "      <td>  128.000000</td>\n",
        "      <td> 0.250000</td>\n",
        "      <td> 0</td>\n",
        "    </tr>\n",
        "    <tr>\n",
        "      <th>29  </th>\n",
        "      <td>                     ALMOND'S AND OATS BODY SCRUB</td>\n",
        "      <td>                     0</td>\n",
        "      <td>                Cosmetics</td>\n",
        "      <td> 0</td>\n",
        "      <td> 0</td>\n",
        "      <td> 0</td>\n",
        "      <td>  0.00</td>\n",
        "      <td>  0.00</td>\n",
        "      <td>  0.00</td>\n",
        "      <td>  0.0</td>\n",
        "      <td>...</td>\n",
        "      <td>    0.000000</td>\n",
        "      <td>    0.0</td>\n",
        "      <td>    0.000000</td>\n",
        "      <td>    0.000000</td>\n",
        "      <td>    0.000000</td>\n",
        "      <td>    70.000000</td>\n",
        "      <td>    56.00</td>\n",
        "      <td>   14.000000</td>\n",
        "      <td> 0.200000</td>\n",
        "      <td> 0</td>\n",
        "    </tr>\n",
        "    <tr>\n",
        "      <th>...</th>\n",
        "      <td>...</td>\n",
        "      <td>...</td>\n",
        "      <td>...</td>\n",
        "      <td>...</td>\n",
        "      <td>...</td>\n",
        "      <td>...</td>\n",
        "      <td>...</td>\n",
        "      <td>...</td>\n",
        "      <td>...</td>\n",
        "      <td>...</td>\n",
        "      <td>...</td>\n",
        "      <td>...</td>\n",
        "      <td>...</td>\n",
        "      <td>...</td>\n",
        "      <td>...</td>\n",
        "      <td>...</td>\n",
        "      <td>...</td>\n",
        "      <td>...</td>\n",
        "      <td>...</td>\n",
        "      <td>...</td>\n",
        "      <td>...</td>\n",
        "    </tr>\n",
        "    <tr>\n",
        "      <th>1837</th>\n",
        "      <td>                        XANTHAN GUM (GLUTEN FREE)</td>\n",
        "      <td>                     0</td>\n",
        "      <td>          Baking products</td>\n",
        "      <td> 0</td>\n",
        "      <td> 0</td>\n",
        "      <td> 0</td>\n",
        "      <td>  0.00</td>\n",
        "      <td>  0.00</td>\n",
        "      <td>  0.00</td>\n",
        "      <td>  0.0</td>\n",
        "      <td>...</td>\n",
        "      <td>  660.000000</td>\n",
        "      <td>  264.0</td>\n",
        "      <td>  396.000000</td>\n",
        "      <td> 1596.000000</td>\n",
        "      <td>    0.000000</td>\n",
        "      <td>  2916.000000</td>\n",
        "      <td>  2415.00</td>\n",
        "      <td>  501.000000</td>\n",
        "      <td> 0.171811</td>\n",
        "      <td> 0</td>\n",
        "    </tr>\n",
        "    <tr>\n",
        "      <th>1838</th>\n",
        "      <td>                                 YAKI NORI SHEETS</td>\n",
        "      <td>                   NGS</td>\n",
        "      <td>         Japanese cuisine</td>\n",
        "      <td> 0</td>\n",
        "      <td> 0</td>\n",
        "      <td> 0</td>\n",
        "      <td>  0.00</td>\n",
        "      <td>  0.00</td>\n",
        "      <td>  0.00</td>\n",
        "      <td>  0.0</td>\n",
        "      <td>...</td>\n",
        "      <td>    0.000000</td>\n",
        "      <td>    0.0</td>\n",
        "      <td>    0.000000</td>\n",
        "      <td>    0.000000</td>\n",
        "      <td>    0.000000</td>\n",
        "      <td>    66.500000</td>\n",
        "      <td>    53.20</td>\n",
        "      <td>   13.300000</td>\n",
        "      <td> 0.200000</td>\n",
        "      <td> 0</td>\n",
        "    </tr>\n",
        "    <tr>\n",
        "      <th>1839</th>\n",
        "      <td>                                    YELLOW APPLES</td>\n",
        "      <td>                   NGS</td>\n",
        "      <td>                   Fruits</td>\n",
        "      <td> 0</td>\n",
        "      <td> 0</td>\n",
        "      <td> 0</td>\n",
        "      <td>  0.00</td>\n",
        "      <td>  0.00</td>\n",
        "      <td>  0.00</td>\n",
        "      <td>  0.0</td>\n",
        "      <td>...</td>\n",
        "      <td>  156.000000</td>\n",
        "      <td>  305.0</td>\n",
        "      <td>  413.408990</td>\n",
        "      <td>  504.000000</td>\n",
        "      <td>   75.400000</td>\n",
        "      <td>  1661.808990</td>\n",
        "      <td>  1209.99</td>\n",
        "      <td>  451.818990</td>\n",
        "      <td> 0.271884</td>\n",
        "      <td> 0</td>\n",
        "    </tr>\n",
        "    <tr>\n",
        "      <th>1840</th>\n",
        "      <td>                                  YELLOW BROCCOLI</td>\n",
        "      <td>                   NGS</td>\n",
        "      <td>         Fresh vegetables</td>\n",
        "      <td> 0</td>\n",
        "      <td> 0</td>\n",
        "      <td> 0</td>\n",
        "      <td>  0.00</td>\n",
        "      <td>  0.00</td>\n",
        "      <td>  0.00</td>\n",
        "      <td>  0.0</td>\n",
        "      <td>...</td>\n",
        "      <td>    0.000000</td>\n",
        "      <td>    0.0</td>\n",
        "      <td>    0.000000</td>\n",
        "      <td>    0.000000</td>\n",
        "      <td>    0.000000</td>\n",
        "      <td>    67.040000</td>\n",
        "      <td>     0.00</td>\n",
        "      <td>   67.040000</td>\n",
        "      <td> 1.000000</td>\n",
        "      <td> 0</td>\n",
        "    </tr>\n",
        "    <tr>\n",
        "      <th>1841</th>\n",
        "      <td>                YELLOW CAPSICUM ( CHEMICAL FREE )</td>\n",
        "      <td>                   NGS</td>\n",
        "      <td> Chemical free vegetables</td>\n",
        "      <td> 0</td>\n",
        "      <td> 0</td>\n",
        "      <td> 0</td>\n",
        "      <td>  0.00</td>\n",
        "      <td>  0.00</td>\n",
        "      <td>  0.00</td>\n",
        "      <td>  0.0</td>\n",
        "      <td>...</td>\n",
        "      <td>    0.000000</td>\n",
        "      <td>    0.0</td>\n",
        "      <td>    0.000000</td>\n",
        "      <td>    0.000000</td>\n",
        "      <td>    0.000000</td>\n",
        "      <td>    47.000000</td>\n",
        "      <td>    36.75</td>\n",
        "      <td>   10.250000</td>\n",
        "      <td> 0.218085</td>\n",
        "      <td> 0</td>\n",
        "    </tr>\n",
        "    <tr>\n",
        "      <th>1842</th>\n",
        "      <td>                  YELLOW CARROT ( CHEMICAL FREE )</td>\n",
        "      <td>                     0</td>\n",
        "      <td>               Vegetables</td>\n",
        "      <td> 0</td>\n",
        "      <td> 0</td>\n",
        "      <td> 0</td>\n",
        "      <td>  0.00</td>\n",
        "      <td>  0.00</td>\n",
        "      <td>  0.00</td>\n",
        "      <td>  0.0</td>\n",
        "      <td>...</td>\n",
        "      <td>   30.000000</td>\n",
        "      <td>    0.0</td>\n",
        "      <td>    0.000000</td>\n",
        "      <td>    0.000000</td>\n",
        "      <td>    0.000000</td>\n",
        "      <td>  1352.000000</td>\n",
        "      <td>   820.14</td>\n",
        "      <td>  531.860000</td>\n",
        "      <td> 0.393388</td>\n",
        "      <td> 0</td>\n",
        "    </tr>\n",
        "    <tr>\n",
        "      <th>1843</th>\n",
        "      <td>                  YELLOW CARROT ( CHEMICAL FREE )</td>\n",
        "      <td>                   NGS</td>\n",
        "      <td>         Fresh vegetables</td>\n",
        "      <td> 0</td>\n",
        "      <td> 0</td>\n",
        "      <td> 0</td>\n",
        "      <td>  0.00</td>\n",
        "      <td>  0.00</td>\n",
        "      <td>  0.00</td>\n",
        "      <td>  0.0</td>\n",
        "      <td>...</td>\n",
        "      <td>    0.000000</td>\n",
        "      <td>    0.0</td>\n",
        "      <td>    0.000000</td>\n",
        "      <td>    0.000000</td>\n",
        "      <td>    0.000000</td>\n",
        "      <td>  4177.000000</td>\n",
        "      <td>  3127.00</td>\n",
        "      <td> 1050.000000</td>\n",
        "      <td> 0.251377</td>\n",
        "      <td> 0</td>\n",
        "    </tr>\n",
        "    <tr>\n",
        "      <th>1844</th>\n",
        "      <td>                                   YELLOW CARROTS</td>\n",
        "      <td>                   NGS</td>\n",
        "      <td>         Fresh vegetables</td>\n",
        "      <td> 0</td>\n",
        "      <td> 0</td>\n",
        "      <td> 0</td>\n",
        "      <td>  0.00</td>\n",
        "      <td>  0.00</td>\n",
        "      <td>  0.00</td>\n",
        "      <td>  0.0</td>\n",
        "      <td>...</td>\n",
        "      <td>    0.000000</td>\n",
        "      <td>    0.0</td>\n",
        "      <td>    0.000000</td>\n",
        "      <td>    0.000000</td>\n",
        "      <td>    0.000000</td>\n",
        "      <td>  1064.050000</td>\n",
        "      <td>   944.23</td>\n",
        "      <td>  119.820000</td>\n",
        "      <td> 0.112607</td>\n",
        "      <td> 0</td>\n",
        "    </tr>\n",
        "    <tr>\n",
        "      <th>1845</th>\n",
        "      <td>                           YELLOW CHERRY TOMATOES</td>\n",
        "      <td>            Kheir Misr</td>\n",
        "      <td>         Fresh vegetables</td>\n",
        "      <td> 0</td>\n",
        "      <td> 0</td>\n",
        "      <td> 0</td>\n",
        "      <td>  0.00</td>\n",
        "      <td>  0.00</td>\n",
        "      <td>  0.00</td>\n",
        "      <td>  0.0</td>\n",
        "      <td>...</td>\n",
        "      <td>    0.000000</td>\n",
        "      <td>    0.0</td>\n",
        "      <td>    0.000000</td>\n",
        "      <td>    0.000000</td>\n",
        "      <td>    0.000000</td>\n",
        "      <td>   208.640000</td>\n",
        "      <td>   164.43</td>\n",
        "      <td>   44.210000</td>\n",
        "      <td> 0.211896</td>\n",
        "      <td> 0</td>\n",
        "    </tr>\n",
        "    <tr>\n",
        "      <th>1846</th>\n",
        "      <td>                                YELLOW GRAPEFRUIT</td>\n",
        "      <td>                     0</td>\n",
        "      <td>             Fresh fruits</td>\n",
        "      <td> 0</td>\n",
        "      <td> 0</td>\n",
        "      <td> 0</td>\n",
        "      <td>  0.00</td>\n",
        "      <td>  0.00</td>\n",
        "      <td>  0.00</td>\n",
        "      <td>  0.0</td>\n",
        "      <td>...</td>\n",
        "      <td>    0.000000</td>\n",
        "      <td>    0.0</td>\n",
        "      <td>    0.000000</td>\n",
        "      <td>    0.000000</td>\n",
        "      <td>    0.000000</td>\n",
        "      <td>    74.000000</td>\n",
        "      <td>    53.80</td>\n",
        "      <td>   20.200000</td>\n",
        "      <td> 0.272973</td>\n",
        "      <td> 0</td>\n",
        "    </tr>\n",
        "    <tr>\n",
        "      <th>1847</th>\n",
        "      <td>                                YELLOW GRAPEFRUIT</td>\n",
        "      <td>                   NGS</td>\n",
        "      <td>                   Fruits</td>\n",
        "      <td> 0</td>\n",
        "      <td> 0</td>\n",
        "      <td> 0</td>\n",
        "      <td>  0.00</td>\n",
        "      <td>  0.00</td>\n",
        "      <td>  0.00</td>\n",
        "      <td>  0.0</td>\n",
        "      <td>...</td>\n",
        "      <td>  140.846479</td>\n",
        "      <td>   99.0</td>\n",
        "      <td>   87.755294</td>\n",
        "      <td>   41.899052</td>\n",
        "      <td>    9.000000</td>\n",
        "      <td>   738.500825</td>\n",
        "      <td>   472.15</td>\n",
        "      <td>  266.350825</td>\n",
        "      <td> 0.360664</td>\n",
        "      <td> 0</td>\n",
        "    </tr>\n",
        "    <tr>\n",
        "      <th>1848</th>\n",
        "      <td>                                   YELLOW MUSTARD</td>\n",
        "      <td>      Eden Foods, Inc.</td>\n",
        "      <td>                   Spices</td>\n",
        "      <td> 0</td>\n",
        "      <td> 0</td>\n",
        "      <td> 0</td>\n",
        "      <td>  0.00</td>\n",
        "      <td>  0.00</td>\n",
        "      <td>  0.00</td>\n",
        "      <td>  0.0</td>\n",
        "      <td>...</td>\n",
        "      <td>    0.000000</td>\n",
        "      <td>    0.0</td>\n",
        "      <td>    0.000000</td>\n",
        "      <td>   69.189577</td>\n",
        "      <td>   49.505758</td>\n",
        "      <td>   118.695335</td>\n",
        "      <td>    93.75</td>\n",
        "      <td>   24.945335</td>\n",
        "      <td> 0.210163</td>\n",
        "      <td> 0</td>\n",
        "    </tr>\n",
        "    <tr>\n",
        "      <th>1849</th>\n",
        "      <td>                  YELLOW ONIONS ( CHEMICAL FREE )</td>\n",
        "      <td>                   NGS</td>\n",
        "      <td>         Fresh vegetables</td>\n",
        "      <td> 0</td>\n",
        "      <td> 0</td>\n",
        "      <td> 0</td>\n",
        "      <td>  0.00</td>\n",
        "      <td>  0.00</td>\n",
        "      <td>  0.00</td>\n",
        "      <td>  0.0</td>\n",
        "      <td>...</td>\n",
        "      <td>    0.000000</td>\n",
        "      <td>    0.0</td>\n",
        "      <td>    0.000000</td>\n",
        "      <td>    0.000000</td>\n",
        "      <td>    0.000000</td>\n",
        "      <td>    60.000000</td>\n",
        "      <td>    43.38</td>\n",
        "      <td>   16.620000</td>\n",
        "      <td> 0.277000</td>\n",
        "      <td> 0</td>\n",
        "    </tr>\n",
        "    <tr>\n",
        "      <th>1850</th>\n",
        "      <td>                         YELLOW SPLIT PEAS / 822G</td>\n",
        "      <td>        Bob's Red Mill</td>\n",
        "      <td>                   Grains</td>\n",
        "      <td> 0</td>\n",
        "      <td> 0</td>\n",
        "      <td> 0</td>\n",
        "      <td>  0.00</td>\n",
        "      <td>  0.00</td>\n",
        "      <td>  0.00</td>\n",
        "      <td>  0.0</td>\n",
        "      <td>...</td>\n",
        "      <td>    0.000000</td>\n",
        "      <td>    0.0</td>\n",
        "      <td>    0.000000</td>\n",
        "      <td>    0.000000</td>\n",
        "      <td>    0.000000</td>\n",
        "      <td>   255.500000</td>\n",
        "      <td>   220.50</td>\n",
        "      <td>   35.000000</td>\n",
        "      <td> 0.136986</td>\n",
        "      <td> 0</td>\n",
        "    </tr>\n",
        "    <tr>\n",
        "      <th>1851</th>\n",
        "      <td>                                YELLOW WATERMELON</td>\n",
        "      <td>                   NGS</td>\n",
        "      <td>                   Fruits</td>\n",
        "      <td> 0</td>\n",
        "      <td> 0</td>\n",
        "      <td> 0</td>\n",
        "      <td>  0.00</td>\n",
        "      <td>  0.00</td>\n",
        "      <td>  0.00</td>\n",
        "      <td>  0.0</td>\n",
        "      <td>...</td>\n",
        "      <td>   65.000000</td>\n",
        "      <td>   65.0</td>\n",
        "      <td>    0.000000</td>\n",
        "      <td>    0.000000</td>\n",
        "      <td>    0.000000</td>\n",
        "      <td>   130.000000</td>\n",
        "      <td>    82.50</td>\n",
        "      <td>   47.500000</td>\n",
        "      <td> 0.365385</td>\n",
        "      <td> 0</td>\n",
        "    </tr>\n",
        "    <tr>\n",
        "      <th>1852</th>\n",
        "      <td>                       YING/YANG FACIAL ACNE SOAP</td>\n",
        "      <td>                     0</td>\n",
        "      <td>                Cosmetics</td>\n",
        "      <td> 0</td>\n",
        "      <td> 0</td>\n",
        "      <td> 0</td>\n",
        "      <td>  0.00</td>\n",
        "      <td>  0.00</td>\n",
        "      <td>  0.00</td>\n",
        "      <td>  0.0</td>\n",
        "      <td>...</td>\n",
        "      <td>    0.000000</td>\n",
        "      <td>    0.0</td>\n",
        "      <td>    0.000000</td>\n",
        "      <td>    0.000000</td>\n",
        "      <td>    0.000000</td>\n",
        "      <td>    55.000000</td>\n",
        "      <td>    44.00</td>\n",
        "      <td>   11.000000</td>\n",
        "      <td> 0.200000</td>\n",
        "      <td> 0</td>\n",
        "    </tr>\n",
        "    <tr>\n",
        "      <th>1853</th>\n",
        "      <td>                              YOUSSFI (TANGERINE)</td>\n",
        "      <td>                   NGS</td>\n",
        "      <td>                   Fruits</td>\n",
        "      <td> 0</td>\n",
        "      <td> 0</td>\n",
        "      <td> 0</td>\n",
        "      <td>  0.00</td>\n",
        "      <td>  0.00</td>\n",
        "      <td>  0.00</td>\n",
        "      <td>  0.0</td>\n",
        "      <td>...</td>\n",
        "      <td>    0.000000</td>\n",
        "      <td>    0.0</td>\n",
        "      <td>    0.000000</td>\n",
        "      <td>   25.000000</td>\n",
        "      <td>    0.000000</td>\n",
        "      <td>    25.000000</td>\n",
        "      <td>    17.50</td>\n",
        "      <td>    7.500000</td>\n",
        "      <td> 0.300000</td>\n",
        "      <td> 0</td>\n",
        "    </tr>\n",
        "    <tr>\n",
        "      <th>1854</th>\n",
        "      <td>                     ZARDA EXTRA VIRGIN OLIVE OIL</td>\n",
        "      <td>                   NGS</td>\n",
        "      <td>          Oil &amp; Vinegar  </td>\n",
        "      <td> 0</td>\n",
        "      <td> 0</td>\n",
        "      <td> 0</td>\n",
        "      <td>  0.00</td>\n",
        "      <td>  0.00</td>\n",
        "      <td>  0.00</td>\n",
        "      <td>  0.0</td>\n",
        "      <td>...</td>\n",
        "      <td>    0.000000</td>\n",
        "      <td>    0.0</td>\n",
        "      <td>    0.000000</td>\n",
        "      <td>    0.000000</td>\n",
        "      <td>    0.000000</td>\n",
        "      <td>    51.500000</td>\n",
        "      <td>    41.25</td>\n",
        "      <td>   10.250000</td>\n",
        "      <td> 0.199029</td>\n",
        "      <td> 0</td>\n",
        "    </tr>\n",
        "    <tr>\n",
        "      <th>1855</th>\n",
        "      <td>                                         ZUCCHINI</td>\n",
        "      <td>            Kheir Misr</td>\n",
        "      <td>         Fresh vegetables</td>\n",
        "      <td> 0</td>\n",
        "      <td> 0</td>\n",
        "      <td> 0</td>\n",
        "      <td>  0.00</td>\n",
        "      <td>  0.00</td>\n",
        "      <td>  0.00</td>\n",
        "      <td>  0.0</td>\n",
        "      <td>...</td>\n",
        "      <td>    0.000000</td>\n",
        "      <td>    0.0</td>\n",
        "      <td>    0.000000</td>\n",
        "      <td>    0.000000</td>\n",
        "      <td>    0.000000</td>\n",
        "      <td>  1394.760000</td>\n",
        "      <td>  1165.77</td>\n",
        "      <td>  228.990000</td>\n",
        "      <td> 0.164179</td>\n",
        "      <td> 0</td>\n",
        "    </tr>\n",
        "    <tr>\n",
        "      <th>1856</th>\n",
        "      <td>                                         ZUCCHINI</td>\n",
        "      <td>                   NGS</td>\n",
        "      <td>         Fresh vegetables</td>\n",
        "      <td> 0</td>\n",
        "      <td> 0</td>\n",
        "      <td> 0</td>\n",
        "      <td>  0.00</td>\n",
        "      <td>  0.00</td>\n",
        "      <td>  0.00</td>\n",
        "      <td>  0.0</td>\n",
        "      <td>...</td>\n",
        "      <td>    0.000000</td>\n",
        "      <td>    0.0</td>\n",
        "      <td>    0.000000</td>\n",
        "      <td>    0.000000</td>\n",
        "      <td>    0.000000</td>\n",
        "      <td>     5.000000</td>\n",
        "      <td>     3.75</td>\n",
        "      <td>    1.250000</td>\n",
        "      <td> 0.250000</td>\n",
        "      <td> 0</td>\n",
        "    </tr>\n",
        "    <tr>\n",
        "      <th>1857</th>\n",
        "      <td>                                         ZUCCHINI</td>\n",
        "      <td>                   NGS</td>\n",
        "      <td>                  General</td>\n",
        "      <td> 0</td>\n",
        "      <td> 0</td>\n",
        "      <td> 0</td>\n",
        "      <td>  0.00</td>\n",
        "      <td>  0.00</td>\n",
        "      <td>  0.00</td>\n",
        "      <td>  0.0</td>\n",
        "      <td>...</td>\n",
        "      <td>    0.000000</td>\n",
        "      <td>    0.0</td>\n",
        "      <td>    0.000000</td>\n",
        "      <td>   69.871046</td>\n",
        "      <td>    0.000000</td>\n",
        "      <td>    69.871046</td>\n",
        "      <td>    35.40</td>\n",
        "      <td>   34.471046</td>\n",
        "      <td> 0.493352</td>\n",
        "      <td> 0</td>\n",
        "    </tr>\n",
        "    <tr>\n",
        "      <th>1858</th>\n",
        "      <td>                       ZUCCHINI ( CHEMICAL FREE )</td>\n",
        "      <td>                     0</td>\n",
        "      <td>               Vegetables</td>\n",
        "      <td> 0</td>\n",
        "      <td> 0</td>\n",
        "      <td> 0</td>\n",
        "      <td>  0.00</td>\n",
        "      <td>  0.00</td>\n",
        "      <td>  0.00</td>\n",
        "      <td>  0.0</td>\n",
        "      <td>...</td>\n",
        "      <td>    0.000000</td>\n",
        "      <td>    0.0</td>\n",
        "      <td>    0.000000</td>\n",
        "      <td>    0.000000</td>\n",
        "      <td>    0.000000</td>\n",
        "      <td>    55.000000</td>\n",
        "      <td>     0.00</td>\n",
        "      <td>   55.000000</td>\n",
        "      <td> 1.000000</td>\n",
        "      <td> 0</td>\n",
        "    </tr>\n",
        "    <tr>\n",
        "      <th>1859</th>\n",
        "      <td>                       ZUCCHINI ( CHEMICAL FREE )</td>\n",
        "      <td>                   NGS</td>\n",
        "      <td>         Fresh vegetables</td>\n",
        "      <td> 0</td>\n",
        "      <td> 0</td>\n",
        "      <td> 0</td>\n",
        "      <td>  0.00</td>\n",
        "      <td>  0.00</td>\n",
        "      <td>  0.00</td>\n",
        "      <td>  0.0</td>\n",
        "      <td>...</td>\n",
        "      <td>    0.000000</td>\n",
        "      <td>    0.0</td>\n",
        "      <td>    0.000000</td>\n",
        "      <td>    0.000000</td>\n",
        "      <td>    0.000000</td>\n",
        "      <td>  2934.750000</td>\n",
        "      <td>  2127.70</td>\n",
        "      <td>  807.050000</td>\n",
        "      <td> 0.494229</td>\n",
        "      <td> 0</td>\n",
        "    </tr>\n",
        "    <tr>\n",
        "      <th>1860</th>\n",
        "      <td>                         ZUCCHINI (CHEMICAL FREE)</td>\n",
        "      <td>                     0</td>\n",
        "      <td> Chemical free vegetables</td>\n",
        "      <td> 0</td>\n",
        "      <td> 0</td>\n",
        "      <td> 0</td>\n",
        "      <td>  0.00</td>\n",
        "      <td>  0.00</td>\n",
        "      <td>  0.00</td>\n",
        "      <td>  0.0</td>\n",
        "      <td>...</td>\n",
        "      <td>    0.000000</td>\n",
        "      <td>    0.0</td>\n",
        "      <td>    0.000000</td>\n",
        "      <td>    0.000000</td>\n",
        "      <td>    0.000000</td>\n",
        "      <td>   193.330000</td>\n",
        "      <td>   148.75</td>\n",
        "      <td>   44.580000</td>\n",
        "      <td> 0.230590</td>\n",
        "      <td> 0</td>\n",
        "    </tr>\n",
        "    <tr>\n",
        "      <th>1861</th>\n",
        "      <td>                         ZUCCHINI (CHEMICAL FREE)</td>\n",
        "      <td>                     0</td>\n",
        "      <td>               Vegetables</td>\n",
        "      <td> 0</td>\n",
        "      <td> 0</td>\n",
        "      <td> 0</td>\n",
        "      <td>  0.00</td>\n",
        "      <td>  0.00</td>\n",
        "      <td>  0.00</td>\n",
        "      <td>  0.0</td>\n",
        "      <td>...</td>\n",
        "      <td>  150.000000</td>\n",
        "      <td>  330.0</td>\n",
        "      <td>  318.076923</td>\n",
        "      <td>  695.681924</td>\n",
        "      <td>  212.509227</td>\n",
        "      <td>  2690.368074</td>\n",
        "      <td>  1802.50</td>\n",
        "      <td>  887.868074</td>\n",
        "      <td> 0.565707</td>\n",
        "      <td> 0</td>\n",
        "    </tr>\n",
        "    <tr>\n",
        "      <th>1862</th>\n",
        "      <td>                               ZUCCHINI (ORGANIC)</td>\n",
        "      <td>                     0</td>\n",
        "      <td>               Vegetables</td>\n",
        "      <td> 0</td>\n",
        "      <td> 0</td>\n",
        "      <td> 0</td>\n",
        "      <td>  0.00</td>\n",
        "      <td>  0.00</td>\n",
        "      <td>  0.00</td>\n",
        "      <td>  0.0</td>\n",
        "      <td>...</td>\n",
        "      <td>  342.794118</td>\n",
        "      <td>   56.0</td>\n",
        "      <td>  280.000000</td>\n",
        "      <td>    0.000000</td>\n",
        "      <td>  181.734738</td>\n",
        "      <td>  1507.728855</td>\n",
        "      <td>   935.00</td>\n",
        "      <td>  572.728855</td>\n",
        "      <td> 0.379862</td>\n",
        "      <td> 0</td>\n",
        "    </tr>\n",
        "    <tr>\n",
        "      <th>1863</th>\n",
        "      <td>                                  ZUCCHINI / 500G</td>\n",
        "      <td>                   NGS</td>\n",
        "      <td>            Fresh Produce</td>\n",
        "      <td> 0</td>\n",
        "      <td> 0</td>\n",
        "      <td> 0</td>\n",
        "      <td> 30.78</td>\n",
        "      <td> 27.36</td>\n",
        "      <td> 23.94</td>\n",
        "      <td> 34.2</td>\n",
        "      <td>...</td>\n",
        "      <td>    0.000000</td>\n",
        "      <td>    0.0</td>\n",
        "      <td>    0.000000</td>\n",
        "      <td>    0.000000</td>\n",
        "      <td>    0.000000</td>\n",
        "      <td>   198.360000</td>\n",
        "      <td>   152.54</td>\n",
        "      <td>   45.820000</td>\n",
        "      <td> 0.230994</td>\n",
        "      <td> 0</td>\n",
        "    </tr>\n",
        "    <tr>\n",
        "      <th>1864</th>\n",
        "      <td>                                 ZUCCHINI FLOWERS</td>\n",
        "      <td>                   NGS</td>\n",
        "      <td>         Fresh vegetables</td>\n",
        "      <td> 0</td>\n",
        "      <td> 0</td>\n",
        "      <td> 0</td>\n",
        "      <td>  0.00</td>\n",
        "      <td>  0.00</td>\n",
        "      <td>  0.00</td>\n",
        "      <td>  0.0</td>\n",
        "      <td>...</td>\n",
        "      <td>    0.000000</td>\n",
        "      <td>    0.0</td>\n",
        "      <td>    0.000000</td>\n",
        "      <td>    0.000000</td>\n",
        "      <td>    0.000000</td>\n",
        "      <td>   266.000000</td>\n",
        "      <td>   210.00</td>\n",
        "      <td>   56.000000</td>\n",
        "      <td> 0.210526</td>\n",
        "      <td> 0</td>\n",
        "    </tr>\n",
        "    <tr>\n",
        "      <th>1865</th>\n",
        "      <td>                 ZUCCHINI FLOWERS (CHEMICAL FREE)</td>\n",
        "      <td>                     0</td>\n",
        "      <td>               Vegetables</td>\n",
        "      <td> 0</td>\n",
        "      <td> 0</td>\n",
        "      <td> 0</td>\n",
        "      <td>  0.00</td>\n",
        "      <td>  0.00</td>\n",
        "      <td>  0.00</td>\n",
        "      <td>  0.0</td>\n",
        "      <td>...</td>\n",
        "      <td>    0.000000</td>\n",
        "      <td>    0.0</td>\n",
        "      <td>    0.000000</td>\n",
        "      <td>    0.000000</td>\n",
        "      <td>    0.000000</td>\n",
        "      <td>   220.000000</td>\n",
        "      <td>   150.00</td>\n",
        "      <td>   70.000000</td>\n",
        "      <td> 0.318182</td>\n",
        "      <td> 0</td>\n",
        "    </tr>\n",
        "    <tr>\n",
        "      <th>1866</th>\n",
        "      <td>   ZUCCHINI JAM WITH PISTACHIO &amp; MASTIC (NATURAL)</td>\n",
        "      <td>                     0</td>\n",
        "      <td>                      Jam</td>\n",
        "      <td> 0</td>\n",
        "      <td> 0</td>\n",
        "      <td> 0</td>\n",
        "      <td>  0.00</td>\n",
        "      <td>  0.00</td>\n",
        "      <td>  0.00</td>\n",
        "      <td>  0.0</td>\n",
        "      <td>...</td>\n",
        "      <td>    0.000000</td>\n",
        "      <td>  200.0</td>\n",
        "      <td>    0.000000</td>\n",
        "      <td>    0.000000</td>\n",
        "      <td>    0.000000</td>\n",
        "      <td>   200.000000</td>\n",
        "      <td>   150.00</td>\n",
        "      <td>   50.000000</td>\n",
        "      <td> 0.250000</td>\n",
        "      <td> 0</td>\n",
        "    </tr>\n",
        "  </tbody>\n",
        "</table>\n",
        "<p>1867 rows \u00d7 53 columns</p>\n",
        "</div>"
       ],
       "metadata": {},
       "output_type": "pyout",
       "prompt_number": 4,
       "text": [
        "                                               Product                  Brand  \\\n",
        "0                                 7 GRAIN MILK / 946ML  Pacific Natural Foods   \n",
        "1                                     ACAI BERRY JUICE                      0   \n",
        "2                                     ACAI BERRY JUICE          Berry company   \n",
        "3                                     ACNE FACIAL SOAP          Healing Herbs   \n",
        "4                              ACQUA PANA WATER 1000ML                    NGS   \n",
        "5                               ACQUA PANA WATER 500ML                    NGS   \n",
        "6                         ACQUA PANA WATER 500ML GLASS                    NGS   \n",
        "7                ACTIBIF CHEESE (FOR BETTER DIGESTION)                      0   \n",
        "8             AGAR AGAR FLAKES (HAND HARVESTED) - WILD                      0   \n",
        "9                      AGAVE SYRUP ( ORGANIC ) / 473ML  Suzanne's Specialties   \n",
        "10            ALL PURPOSE BAKING FLOUR ( GLUTEN FREE )                    NGS   \n",
        "11     ALL PURPOSE BAKING FLOUR ( GLUTEN FREE ) / 623G         Bob's Red Mill   \n",
        "12              ALL PURPOSE BAKING FLOUR (GLUTEN FREE)                      0   \n",
        "13              ALL PURPOSE BAKING FLOUR (GLUTEN FREE)                      0   \n",
        "14    ALMOND BISCUITS (GLUTEN FREE - TRACES OF GLUTEN)                      0   \n",
        "15                          ALMOND BREAD (GLUTEN FREE)                      0   \n",
        "16                                       ALMOND BUTTER                      0   \n",
        "17                           ALMOND BUTTER (HOME-MADE)              Signature   \n",
        "18                             ALMOND BUTTER (NATURAL)                      0   \n",
        "19                                   ALMOND MEAL FLOUR                      0   \n",
        "20                             ALMOND MILK ( ORGANIC )                  Alpro   \n",
        "21                     ALMOND MILK ( ORGANIC ) / 946ML  Pacific Natural Foods   \n",
        "22                       ALMOND MILK ( ORGANIC ) 946ML                      0   \n",
        "23                            ALMOND MILK ( ORIGINAL )                    NGS   \n",
        "24                  ALMOND MILK (ORGANIC) - SUGAR-FREE                      0   \n",
        "25                           ALMOND MILK (UNSWEETENED)                      0   \n",
        "26                     ALMOND MILK WITH DARK CHOCOLATE            Pure almond   \n",
        "27                            ALMOND MILK WITH VANILLA            Pure almond   \n",
        "28                          ALMOND ORIGINAL (ORIGINAL)                      0   \n",
        "29                        ALMOND'S AND OATS BODY SCRUB                      0   \n",
        "...                                                ...                    ...   \n",
        "1837                         XANTHAN GUM (GLUTEN FREE)                      0   \n",
        "1838                                  YAKI NORI SHEETS                    NGS   \n",
        "1839                                     YELLOW APPLES                    NGS   \n",
        "1840                                   YELLOW BROCCOLI                    NGS   \n",
        "1841                 YELLOW CAPSICUM ( CHEMICAL FREE )                    NGS   \n",
        "1842                   YELLOW CARROT ( CHEMICAL FREE )                      0   \n",
        "1843                   YELLOW CARROT ( CHEMICAL FREE )                    NGS   \n",
        "1844                                    YELLOW CARROTS                    NGS   \n",
        "1845                            YELLOW CHERRY TOMATOES             Kheir Misr   \n",
        "1846                                 YELLOW GRAPEFRUIT                      0   \n",
        "1847                                 YELLOW GRAPEFRUIT                    NGS   \n",
        "1848                                    YELLOW MUSTARD       Eden Foods, Inc.   \n",
        "1849                   YELLOW ONIONS ( CHEMICAL FREE )                    NGS   \n",
        "1850                          YELLOW SPLIT PEAS / 822G         Bob's Red Mill   \n",
        "1851                                 YELLOW WATERMELON                    NGS   \n",
        "1852                        YING/YANG FACIAL ACNE SOAP                      0   \n",
        "1853                               YOUSSFI (TANGERINE)                    NGS   \n",
        "1854                      ZARDA EXTRA VIRGIN OLIVE OIL                    NGS   \n",
        "1855                                          ZUCCHINI             Kheir Misr   \n",
        "1856                                          ZUCCHINI                    NGS   \n",
        "1857                                          ZUCCHINI                    NGS   \n",
        "1858                        ZUCCHINI ( CHEMICAL FREE )                      0   \n",
        "1859                        ZUCCHINI ( CHEMICAL FREE )                    NGS   \n",
        "1860                          ZUCCHINI (CHEMICAL FREE)                      0   \n",
        "1861                          ZUCCHINI (CHEMICAL FREE)                      0   \n",
        "1862                                ZUCCHINI (ORGANIC)                      0   \n",
        "1863                                   ZUCCHINI / 500G                    NGS   \n",
        "1864                                  ZUCCHINI FLOWERS                    NGS   \n",
        "1865                  ZUCCHINI FLOWERS (CHEMICAL FREE)                      0   \n",
        "1866    ZUCCHINI JAM WITH PISTACHIO & MASTIC (NATURAL)                      0   \n",
        "\n",
        "                          Type  Supplier Code  May 2012  Jun 2012  Jul 2012  \\\n",
        "0                         Milk              0         0         0      0.00   \n",
        "1                    Beverages              0         0         0      0.00   \n",
        "2                       Juices              0         0         0      0.00   \n",
        "3                    Cosmetics              0         0         0      0.00   \n",
        "4                    Beverages              0         0         0      0.00   \n",
        "5                    Beverages              0         0         0      0.00   \n",
        "6                    Beverages              0         0         0      0.00   \n",
        "7                       cheese              0         0         0      0.00   \n",
        "8             Food supplements              0         0         0      0.00   \n",
        "9                   Sweeteners              0         0         0      0.00   \n",
        "10                       Flour              0         0         0      0.00   \n",
        "11                       Flour              0         0         0      0.00   \n",
        "12             Baking products              0         0         0      0.00   \n",
        "13                     General              0         0         0      0.00   \n",
        "14                      Snacks              0         0         0      0.00   \n",
        "15                       Bread              0         0         0      0.00   \n",
        "16                  Nut butter              0         0         0      0.00   \n",
        "17                     spreads              0         0         0      0.00   \n",
        "18                  Nut butter              0         0         0      0.00   \n",
        "19             Baking products              0         0         0      0.00   \n",
        "20              Non-dairy milk              0         0         0      0.00   \n",
        "21              Non-dairy milk              0         0         0      0.00   \n",
        "22              Non-dairy milk              0         0         0      0.00   \n",
        "23              Non-dairy milk              0         0         0      0.00   \n",
        "24              Non-dairy milk              0         0         0      0.00   \n",
        "25              Non-dairy milk              0         0         0      0.00   \n",
        "26              Non-dairy milk              0         0         0      0.00   \n",
        "27              Non-dairy milk              0         0         0      0.00   \n",
        "28              Non-dairy milk              0         0         0      0.00   \n",
        "29                   Cosmetics              0         0         0      0.00   \n",
        "...                        ...            ...       ...       ...       ...   \n",
        "1837           Baking products              0         0         0      0.00   \n",
        "1838          Japanese cuisine              0         0         0      0.00   \n",
        "1839                    Fruits              0         0         0      0.00   \n",
        "1840          Fresh vegetables              0         0         0      0.00   \n",
        "1841  Chemical free vegetables              0         0         0      0.00   \n",
        "1842                Vegetables              0         0         0      0.00   \n",
        "1843          Fresh vegetables              0         0         0      0.00   \n",
        "1844          Fresh vegetables              0         0         0      0.00   \n",
        "1845          Fresh vegetables              0         0         0      0.00   \n",
        "1846              Fresh fruits              0         0         0      0.00   \n",
        "1847                    Fruits              0         0         0      0.00   \n",
        "1848                    Spices              0         0         0      0.00   \n",
        "1849          Fresh vegetables              0         0         0      0.00   \n",
        "1850                    Grains              0         0         0      0.00   \n",
        "1851                    Fruits              0         0         0      0.00   \n",
        "1852                 Cosmetics              0         0         0      0.00   \n",
        "1853                    Fruits              0         0         0      0.00   \n",
        "1854           Oil & Vinegar                0         0         0      0.00   \n",
        "1855          Fresh vegetables              0         0         0      0.00   \n",
        "1856          Fresh vegetables              0         0         0      0.00   \n",
        "1857                   General              0         0         0      0.00   \n",
        "1858                Vegetables              0         0         0      0.00   \n",
        "1859          Fresh vegetables              0         0         0      0.00   \n",
        "1860  Chemical free vegetables              0         0         0      0.00   \n",
        "1861                Vegetables              0         0         0      0.00   \n",
        "1862                Vegetables              0         0         0      0.00   \n",
        "1863             Fresh Produce              0         0         0     30.78   \n",
        "1864          Fresh vegetables              0         0         0      0.00   \n",
        "1865                Vegetables              0         0         0      0.00   \n",
        "1866                       Jam              0         0         0      0.00   \n",
        "\n",
        "      Aug 2012  Sep 2012  Oct 2012 ...      Aug 2015  Sep 2015     Oct 2015  \\\n",
        "0         0.00      0.00       0.0 ...      0.000000       0.0     0.000000   \n",
        "1         0.00      0.00       0.0 ...      0.000000       0.0     0.000000   \n",
        "2         0.00      0.00       0.0 ...      0.000000       0.0     0.000000   \n",
        "3         0.00      0.00       0.0 ...      0.000000       0.0     0.000000   \n",
        "4         0.00      0.00       0.0 ...      0.000000       0.0     0.000000   \n",
        "5         0.00      0.00       0.0 ...      0.000000       0.0     0.000000   \n",
        "6         0.00      0.00       0.0 ...      0.000000       0.0     0.000000   \n",
        "7         0.00      0.00       0.0 ...     68.000000     204.0    68.000000   \n",
        "8         0.00      0.00       0.0 ...     86.000000       0.0    86.000000   \n",
        "9         0.00      0.00       0.0 ...      0.000000       0.0     0.000000   \n",
        "10        0.00      0.00       0.0 ...      0.000000       0.0     0.000000   \n",
        "11        0.00      0.00       0.0 ...      0.000000       0.0     0.000000   \n",
        "12        0.00      0.00       0.0 ...   1747.200000    1046.4   192.000000   \n",
        "13        0.00      0.00       0.0 ...      0.000000      48.0   528.000000   \n",
        "14        0.00      0.00       0.0 ...      0.000000       0.0     0.000000   \n",
        "15        0.00      0.00       0.0 ...      0.000000     180.0     0.000000   \n",
        "16        0.00      0.00       0.0 ...   1046.000000     715.0  1683.722222   \n",
        "17        0.00      0.00       0.0 ...      0.000000       0.0     0.000000   \n",
        "18        0.00      0.00       0.0 ...    130.000000     325.0   715.000000   \n",
        "19        0.00      0.00       0.0 ...   3168.000000    2296.8  1716.000000   \n",
        "20        0.00      0.00       0.0 ...      0.000000       0.0     0.000000   \n",
        "21        0.00      0.00       0.0 ...      0.000000       0.0     0.000000   \n",
        "22        0.00      0.00       0.0 ...      0.000000       0.0     0.000000   \n",
        "23        0.00      0.00       0.0 ...      0.000000       0.0     0.000000   \n",
        "24        0.00      0.00       0.0 ...      0.000000       0.0     0.000000   \n",
        "25        0.00      0.00       0.0 ...      0.000000       0.0     0.000000   \n",
        "26        0.00      0.00       0.0 ...      0.000000       0.0     0.000000   \n",
        "27        0.00      0.00       0.0 ...      0.000000       0.0     0.000000   \n",
        "28        0.00      0.00       0.0 ...      0.000000       0.0     0.000000   \n",
        "29        0.00      0.00       0.0 ...      0.000000       0.0     0.000000   \n",
        "...        ...       ...       ... ...           ...       ...          ...   \n",
        "1837      0.00      0.00       0.0 ...    660.000000     264.0   396.000000   \n",
        "1838      0.00      0.00       0.0 ...      0.000000       0.0     0.000000   \n",
        "1839      0.00      0.00       0.0 ...    156.000000     305.0   413.408990   \n",
        "1840      0.00      0.00       0.0 ...      0.000000       0.0     0.000000   \n",
        "1841      0.00      0.00       0.0 ...      0.000000       0.0     0.000000   \n",
        "1842      0.00      0.00       0.0 ...     30.000000       0.0     0.000000   \n",
        "1843      0.00      0.00       0.0 ...      0.000000       0.0     0.000000   \n",
        "1844      0.00      0.00       0.0 ...      0.000000       0.0     0.000000   \n",
        "1845      0.00      0.00       0.0 ...      0.000000       0.0     0.000000   \n",
        "1846      0.00      0.00       0.0 ...      0.000000       0.0     0.000000   \n",
        "1847      0.00      0.00       0.0 ...    140.846479      99.0    87.755294   \n",
        "1848      0.00      0.00       0.0 ...      0.000000       0.0     0.000000   \n",
        "1849      0.00      0.00       0.0 ...      0.000000       0.0     0.000000   \n",
        "1850      0.00      0.00       0.0 ...      0.000000       0.0     0.000000   \n",
        "1851      0.00      0.00       0.0 ...     65.000000      65.0     0.000000   \n",
        "1852      0.00      0.00       0.0 ...      0.000000       0.0     0.000000   \n",
        "1853      0.00      0.00       0.0 ...      0.000000       0.0     0.000000   \n",
        "1854      0.00      0.00       0.0 ...      0.000000       0.0     0.000000   \n",
        "1855      0.00      0.00       0.0 ...      0.000000       0.0     0.000000   \n",
        "1856      0.00      0.00       0.0 ...      0.000000       0.0     0.000000   \n",
        "1857      0.00      0.00       0.0 ...      0.000000       0.0     0.000000   \n",
        "1858      0.00      0.00       0.0 ...      0.000000       0.0     0.000000   \n",
        "1859      0.00      0.00       0.0 ...      0.000000       0.0     0.000000   \n",
        "1860      0.00      0.00       0.0 ...      0.000000       0.0     0.000000   \n",
        "1861      0.00      0.00       0.0 ...    150.000000     330.0   318.076923   \n",
        "1862      0.00      0.00       0.0 ...    342.794118      56.0   280.000000   \n",
        "1863     27.36     23.94      34.2 ...      0.000000       0.0     0.000000   \n",
        "1864      0.00      0.00       0.0 ...      0.000000       0.0     0.000000   \n",
        "1865      0.00      0.00       0.0 ...      0.000000       0.0     0.000000   \n",
        "1866      0.00      0.00       0.0 ...      0.000000     200.0     0.000000   \n",
        "\n",
        "         Nov 2015     Dec 2015       Revenue  Cost of Goods  Gross Profit  \\\n",
        "0        0.000000     0.000000   1492.900000        1221.00    271.900000   \n",
        "1        0.000000    60.000000     60.000000          48.00     12.000000   \n",
        "2        0.000000     0.000000    308.000000         230.00     78.000000   \n",
        "3        0.000000     0.000000    110.000000          88.00     22.000000   \n",
        "4        0.000000     0.000000     10.000000           0.00     10.000000   \n",
        "5        0.000000     0.000000      6.500000           0.00      6.500000   \n",
        "6        0.000000     0.000000      9.000000           0.00      9.000000   \n",
        "7        0.000000     0.000000    340.000000         260.00     80.000000   \n",
        "8        0.000000   258.000000    688.000000         510.00    178.000000   \n",
        "9        0.000000     0.000000    647.100000         567.00     80.100000   \n",
        "10       0.000000     0.000000    300.000000         240.00     60.000000   \n",
        "11       0.000000     0.000000   4648.480000        3744.30    904.180000   \n",
        "12       0.000000   495.000000   4176.600000        3371.25    805.350000   \n",
        "13     240.000000     0.000000   1375.750000        1109.50    266.250000   \n",
        "14       0.000000     0.000000     54.000000           0.00     54.000000   \n",
        "15       0.000000     0.000000    180.000000         135.00     45.000000   \n",
        "16    1755.000000  2648.345747   7913.067970        6396.00   1517.067970   \n",
        "17       0.000000     0.000000   4380.000000        3796.00    584.000000   \n",
        "18     780.000000   650.000000   2600.000000        2080.00    520.000000   \n",
        "19    3892.412286   -15.575221  12723.237064       10092.77   2630.467064   \n",
        "20       0.000000     0.000000    211.500000         166.98     44.520000   \n",
        "21       0.000000     0.000000   9418.840000        7723.40   1695.440000   \n",
        "22       0.000000     0.000000    102.000000          76.80     25.200000   \n",
        "23       0.000000     0.000000   1128.400000         912.00    216.400000   \n",
        "24    2521.720515  2530.000000   5051.720515        4830.00    221.720515   \n",
        "25       0.000000     0.000000    608.000000         456.00    152.000000   \n",
        "26       0.000000     0.000000     57.000000          45.56     11.440000   \n",
        "27       0.000000     0.000000    114.000000          89.84     24.160000   \n",
        "28       0.000000     0.000000    512.000000         384.00    128.000000   \n",
        "29       0.000000     0.000000     70.000000          56.00     14.000000   \n",
        "...           ...          ...           ...            ...           ...   \n",
        "1837  1596.000000     0.000000   2916.000000        2415.00    501.000000   \n",
        "1838     0.000000     0.000000     66.500000          53.20     13.300000   \n",
        "1839   504.000000    75.400000   1661.808990        1209.99    451.818990   \n",
        "1840     0.000000     0.000000     67.040000           0.00     67.040000   \n",
        "1841     0.000000     0.000000     47.000000          36.75     10.250000   \n",
        "1842     0.000000     0.000000   1352.000000         820.14    531.860000   \n",
        "1843     0.000000     0.000000   4177.000000        3127.00   1050.000000   \n",
        "1844     0.000000     0.000000   1064.050000         944.23    119.820000   \n",
        "1845     0.000000     0.000000    208.640000         164.43     44.210000   \n",
        "1846     0.000000     0.000000     74.000000          53.80     20.200000   \n",
        "1847    41.899052     9.000000    738.500825         472.15    266.350825   \n",
        "1848    69.189577    49.505758    118.695335          93.75     24.945335   \n",
        "1849     0.000000     0.000000     60.000000          43.38     16.620000   \n",
        "1850     0.000000     0.000000    255.500000         220.50     35.000000   \n",
        "1851     0.000000     0.000000    130.000000          82.50     47.500000   \n",
        "1852     0.000000     0.000000     55.000000          44.00     11.000000   \n",
        "1853    25.000000     0.000000     25.000000          17.50      7.500000   \n",
        "1854     0.000000     0.000000     51.500000          41.25     10.250000   \n",
        "1855     0.000000     0.000000   1394.760000        1165.77    228.990000   \n",
        "1856     0.000000     0.000000      5.000000           3.75      1.250000   \n",
        "1857    69.871046     0.000000     69.871046          35.40     34.471046   \n",
        "1858     0.000000     0.000000     55.000000           0.00     55.000000   \n",
        "1859     0.000000     0.000000   2934.750000        2127.70    807.050000   \n",
        "1860     0.000000     0.000000    193.330000         148.75     44.580000   \n",
        "1861   695.681924   212.509227   2690.368074        1802.50    887.868074   \n",
        "1862     0.000000   181.734738   1507.728855         935.00    572.728855   \n",
        "1863     0.000000     0.000000    198.360000         152.54     45.820000   \n",
        "1864     0.000000     0.000000    266.000000         210.00     56.000000   \n",
        "1865     0.000000     0.000000    220.000000         150.00     70.000000   \n",
        "1866     0.000000     0.000000    200.000000         150.00     50.000000   \n",
        "\n",
        "        Margin  Tax  \n",
        "0     0.182129    0  \n",
        "1     0.200000    0  \n",
        "2     0.253247    0  \n",
        "3     0.200000    0  \n",
        "4     1.000000    0  \n",
        "5     1.000000    0  \n",
        "6     1.000000    0  \n",
        "7     0.235294    0  \n",
        "8     0.258721    0  \n",
        "9     0.123783    0  \n",
        "10    0.200000    0  \n",
        "11    0.194511    0  \n",
        "12    0.192824    0  \n",
        "13    0.393318    0  \n",
        "14    1.000000    0  \n",
        "15    0.250000    0  \n",
        "16    0.191717    0  \n",
        "17    0.133333    0  \n",
        "18    0.200000    0  \n",
        "19    0.206745    0  \n",
        "20    0.210496    0  \n",
        "21    0.180005    0  \n",
        "22    0.247059    0  \n",
        "23    0.191776    0  \n",
        "24    0.043890    0  \n",
        "25    0.250000    0  \n",
        "26    0.200702    0  \n",
        "27    0.211930    0  \n",
        "28    0.250000    0  \n",
        "29    0.200000    0  \n",
        "...        ...  ...  \n",
        "1837  0.171811    0  \n",
        "1838  0.200000    0  \n",
        "1839  0.271884    0  \n",
        "1840  1.000000    0  \n",
        "1841  0.218085    0  \n",
        "1842  0.393388    0  \n",
        "1843  0.251377    0  \n",
        "1844  0.112607    0  \n",
        "1845  0.211896    0  \n",
        "1846  0.272973    0  \n",
        "1847  0.360664    0  \n",
        "1848  0.210163    0  \n",
        "1849  0.277000    0  \n",
        "1850  0.136986    0  \n",
        "1851  0.365385    0  \n",
        "1852  0.200000    0  \n",
        "1853  0.300000    0  \n",
        "1854  0.199029    0  \n",
        "1855  0.164179    0  \n",
        "1856  0.250000    0  \n",
        "1857  0.493352    0  \n",
        "1858  1.000000    0  \n",
        "1859  0.494229    0  \n",
        "1860  0.230590    0  \n",
        "1861  0.565707    0  \n",
        "1862  0.379862    0  \n",
        "1863  0.230994    0  \n",
        "1864  0.210526    0  \n",
        "1865  0.318182    0  \n",
        "1866  0.250000    0  \n",
        "\n",
        "[1867 rows x 53 columns]"
       ]
      }
     ],
     "prompt_number": 4
    },
    {
     "cell_type": "code",
     "collapsed": false,
     "input": [
      "\n",
      "#list of column numbers\n",
      "n=range(4,len(df.columns)-4)\n",
      "n=[0]+[1]+[2]+n\n",
      "n.append(len(df.columns)-3)\n",
      "\n",
      "#subset the columns\n",
      "df=df[n]\n",
      "df"
     ],
     "language": "python",
     "metadata": {},
     "outputs": [
      {
       "html": [
        "<div style=\"max-height:1000px;max-width:1500px;overflow:auto;\">\n",
        "<table border=\"1\" class=\"dataframe\">\n",
        "  <thead>\n",
        "    <tr style=\"text-align: right;\">\n",
        "      <th></th>\n",
        "      <th>Product</th>\n",
        "      <th>Brand</th>\n",
        "      <th>Type</th>\n",
        "      <th>May 2012</th>\n",
        "      <th>Jun 2012</th>\n",
        "      <th>Jul 2012</th>\n",
        "      <th>Aug 2012</th>\n",
        "      <th>Sep 2012</th>\n",
        "      <th>Oct 2012</th>\n",
        "      <th>Nov 2012</th>\n",
        "      <th>...</th>\n",
        "      <th>May 2015</th>\n",
        "      <th>Jun 2015</th>\n",
        "      <th>Jul 2015</th>\n",
        "      <th>Aug 2015</th>\n",
        "      <th>Sep 2015</th>\n",
        "      <th>Oct 2015</th>\n",
        "      <th>Nov 2015</th>\n",
        "      <th>Dec 2015</th>\n",
        "      <th>Revenue</th>\n",
        "      <th>Gross Profit</th>\n",
        "    </tr>\n",
        "  </thead>\n",
        "  <tbody>\n",
        "    <tr>\n",
        "      <th>0   </th>\n",
        "      <td>                             7 GRAIN MILK / 946ML</td>\n",
        "      <td> Pacific Natural Foods</td>\n",
        "      <td>                     Milk</td>\n",
        "      <td> 0</td>\n",
        "      <td> 0</td>\n",
        "      <td>  0.00</td>\n",
        "      <td>  0.00</td>\n",
        "      <td>  0.00</td>\n",
        "      <td>  0.0</td>\n",
        "      <td>  0.00</td>\n",
        "      <td>...</td>\n",
        "      <td>    0.00</td>\n",
        "      <td>   0</td>\n",
        "      <td>    0.0</td>\n",
        "      <td>    0.000000</td>\n",
        "      <td>    0.0</td>\n",
        "      <td>    0.000000</td>\n",
        "      <td>    0.000000</td>\n",
        "      <td>    0.000000</td>\n",
        "      <td>  1492.900000</td>\n",
        "      <td>  271.900000</td>\n",
        "    </tr>\n",
        "    <tr>\n",
        "      <th>1   </th>\n",
        "      <td>                                 ACAI BERRY JUICE</td>\n",
        "      <td>                     0</td>\n",
        "      <td>                Beverages</td>\n",
        "      <td> 0</td>\n",
        "      <td> 0</td>\n",
        "      <td>  0.00</td>\n",
        "      <td>  0.00</td>\n",
        "      <td>  0.00</td>\n",
        "      <td>  0.0</td>\n",
        "      <td>  0.00</td>\n",
        "      <td>...</td>\n",
        "      <td>    0.00</td>\n",
        "      <td>   0</td>\n",
        "      <td>    0.0</td>\n",
        "      <td>    0.000000</td>\n",
        "      <td>    0.0</td>\n",
        "      <td>    0.000000</td>\n",
        "      <td>    0.000000</td>\n",
        "      <td>   60.000000</td>\n",
        "      <td>    60.000000</td>\n",
        "      <td>   12.000000</td>\n",
        "    </tr>\n",
        "    <tr>\n",
        "      <th>2   </th>\n",
        "      <td>                                 ACAI BERRY JUICE</td>\n",
        "      <td>         Berry company</td>\n",
        "      <td>                   Juices</td>\n",
        "      <td> 0</td>\n",
        "      <td> 0</td>\n",
        "      <td>  0.00</td>\n",
        "      <td>  0.00</td>\n",
        "      <td>  0.00</td>\n",
        "      <td>  0.0</td>\n",
        "      <td>  0.00</td>\n",
        "      <td>...</td>\n",
        "      <td>    0.00</td>\n",
        "      <td>   0</td>\n",
        "      <td>    0.0</td>\n",
        "      <td>    0.000000</td>\n",
        "      <td>    0.0</td>\n",
        "      <td>    0.000000</td>\n",
        "      <td>    0.000000</td>\n",
        "      <td>    0.000000</td>\n",
        "      <td>   308.000000</td>\n",
        "      <td>   78.000000</td>\n",
        "    </tr>\n",
        "    <tr>\n",
        "      <th>3   </th>\n",
        "      <td>                                 ACNE FACIAL SOAP</td>\n",
        "      <td>         Healing Herbs</td>\n",
        "      <td>                Cosmetics</td>\n",
        "      <td> 0</td>\n",
        "      <td> 0</td>\n",
        "      <td>  0.00</td>\n",
        "      <td>  0.00</td>\n",
        "      <td>  0.00</td>\n",
        "      <td>  0.0</td>\n",
        "      <td>  0.00</td>\n",
        "      <td>...</td>\n",
        "      <td>    0.00</td>\n",
        "      <td>   0</td>\n",
        "      <td>    0.0</td>\n",
        "      <td>    0.000000</td>\n",
        "      <td>    0.0</td>\n",
        "      <td>    0.000000</td>\n",
        "      <td>    0.000000</td>\n",
        "      <td>    0.000000</td>\n",
        "      <td>   110.000000</td>\n",
        "      <td>   22.000000</td>\n",
        "    </tr>\n",
        "    <tr>\n",
        "      <th>4   </th>\n",
        "      <td>                          ACQUA PANA WATER 1000ML</td>\n",
        "      <td>                   NGS</td>\n",
        "      <td>                Beverages</td>\n",
        "      <td> 0</td>\n",
        "      <td> 0</td>\n",
        "      <td>  0.00</td>\n",
        "      <td>  0.00</td>\n",
        "      <td>  0.00</td>\n",
        "      <td>  0.0</td>\n",
        "      <td>  0.00</td>\n",
        "      <td>...</td>\n",
        "      <td>    0.00</td>\n",
        "      <td>   0</td>\n",
        "      <td>    0.0</td>\n",
        "      <td>    0.000000</td>\n",
        "      <td>    0.0</td>\n",
        "      <td>    0.000000</td>\n",
        "      <td>    0.000000</td>\n",
        "      <td>    0.000000</td>\n",
        "      <td>    10.000000</td>\n",
        "      <td>   10.000000</td>\n",
        "    </tr>\n",
        "    <tr>\n",
        "      <th>5   </th>\n",
        "      <td>                           ACQUA PANA WATER 500ML</td>\n",
        "      <td>                   NGS</td>\n",
        "      <td>                Beverages</td>\n",
        "      <td> 0</td>\n",
        "      <td> 0</td>\n",
        "      <td>  0.00</td>\n",
        "      <td>  0.00</td>\n",
        "      <td>  0.00</td>\n",
        "      <td>  0.0</td>\n",
        "      <td>  0.00</td>\n",
        "      <td>...</td>\n",
        "      <td>    0.00</td>\n",
        "      <td>   0</td>\n",
        "      <td>    0.0</td>\n",
        "      <td>    0.000000</td>\n",
        "      <td>    0.0</td>\n",
        "      <td>    0.000000</td>\n",
        "      <td>    0.000000</td>\n",
        "      <td>    0.000000</td>\n",
        "      <td>     6.500000</td>\n",
        "      <td>    6.500000</td>\n",
        "    </tr>\n",
        "    <tr>\n",
        "      <th>6   </th>\n",
        "      <td>                     ACQUA PANA WATER 500ML GLASS</td>\n",
        "      <td>                   NGS</td>\n",
        "      <td>                Beverages</td>\n",
        "      <td> 0</td>\n",
        "      <td> 0</td>\n",
        "      <td>  0.00</td>\n",
        "      <td>  0.00</td>\n",
        "      <td>  0.00</td>\n",
        "      <td>  0.0</td>\n",
        "      <td>  0.00</td>\n",
        "      <td>...</td>\n",
        "      <td>    0.00</td>\n",
        "      <td>   0</td>\n",
        "      <td>    0.0</td>\n",
        "      <td>    0.000000</td>\n",
        "      <td>    0.0</td>\n",
        "      <td>    0.000000</td>\n",
        "      <td>    0.000000</td>\n",
        "      <td>    0.000000</td>\n",
        "      <td>     9.000000</td>\n",
        "      <td>    9.000000</td>\n",
        "    </tr>\n",
        "    <tr>\n",
        "      <th>7   </th>\n",
        "      <td>            ACTIBIF CHEESE (FOR BETTER DIGESTION)</td>\n",
        "      <td>                     0</td>\n",
        "      <td>                   cheese</td>\n",
        "      <td> 0</td>\n",
        "      <td> 0</td>\n",
        "      <td>  0.00</td>\n",
        "      <td>  0.00</td>\n",
        "      <td>  0.00</td>\n",
        "      <td>  0.0</td>\n",
        "      <td>  0.00</td>\n",
        "      <td>...</td>\n",
        "      <td>    0.00</td>\n",
        "      <td>   0</td>\n",
        "      <td>    0.0</td>\n",
        "      <td>   68.000000</td>\n",
        "      <td>  204.0</td>\n",
        "      <td>   68.000000</td>\n",
        "      <td>    0.000000</td>\n",
        "      <td>    0.000000</td>\n",
        "      <td>   340.000000</td>\n",
        "      <td>   80.000000</td>\n",
        "    </tr>\n",
        "    <tr>\n",
        "      <th>8   </th>\n",
        "      <td>         AGAR AGAR FLAKES (HAND HARVESTED) - WILD</td>\n",
        "      <td>                     0</td>\n",
        "      <td>         Food supplements</td>\n",
        "      <td> 0</td>\n",
        "      <td> 0</td>\n",
        "      <td>  0.00</td>\n",
        "      <td>  0.00</td>\n",
        "      <td>  0.00</td>\n",
        "      <td>  0.0</td>\n",
        "      <td>  0.00</td>\n",
        "      <td>...</td>\n",
        "      <td>   86.00</td>\n",
        "      <td>   0</td>\n",
        "      <td>  172.0</td>\n",
        "      <td>   86.000000</td>\n",
        "      <td>    0.0</td>\n",
        "      <td>   86.000000</td>\n",
        "      <td>    0.000000</td>\n",
        "      <td>  258.000000</td>\n",
        "      <td>   688.000000</td>\n",
        "      <td>  178.000000</td>\n",
        "    </tr>\n",
        "    <tr>\n",
        "      <th>9   </th>\n",
        "      <td>                  AGAVE SYRUP ( ORGANIC ) / 473ML</td>\n",
        "      <td> Suzanne's Specialties</td>\n",
        "      <td>               Sweeteners</td>\n",
        "      <td> 0</td>\n",
        "      <td> 0</td>\n",
        "      <td>  0.00</td>\n",
        "      <td>  0.00</td>\n",
        "      <td>  0.00</td>\n",
        "      <td>  0.0</td>\n",
        "      <td>  0.00</td>\n",
        "      <td>...</td>\n",
        "      <td>    0.00</td>\n",
        "      <td>   0</td>\n",
        "      <td>    0.0</td>\n",
        "      <td>    0.000000</td>\n",
        "      <td>    0.0</td>\n",
        "      <td>    0.000000</td>\n",
        "      <td>    0.000000</td>\n",
        "      <td>    0.000000</td>\n",
        "      <td>   647.100000</td>\n",
        "      <td>   80.100000</td>\n",
        "    </tr>\n",
        "    <tr>\n",
        "      <th>10  </th>\n",
        "      <td>         ALL PURPOSE BAKING FLOUR ( GLUTEN FREE )</td>\n",
        "      <td>                   NGS</td>\n",
        "      <td>                    Flour</td>\n",
        "      <td> 0</td>\n",
        "      <td> 0</td>\n",
        "      <td>  0.00</td>\n",
        "      <td>  0.00</td>\n",
        "      <td>  0.00</td>\n",
        "      <td>  0.0</td>\n",
        "      <td>  0.00</td>\n",
        "      <td>...</td>\n",
        "      <td>    0.00</td>\n",
        "      <td>   0</td>\n",
        "      <td>    0.0</td>\n",
        "      <td>    0.000000</td>\n",
        "      <td>    0.0</td>\n",
        "      <td>    0.000000</td>\n",
        "      <td>    0.000000</td>\n",
        "      <td>    0.000000</td>\n",
        "      <td>   300.000000</td>\n",
        "      <td>   60.000000</td>\n",
        "    </tr>\n",
        "    <tr>\n",
        "      <th>11  </th>\n",
        "      <td>  ALL PURPOSE BAKING FLOUR ( GLUTEN FREE ) / 623G</td>\n",
        "      <td>        Bob's Red Mill</td>\n",
        "      <td>                    Flour</td>\n",
        "      <td> 0</td>\n",
        "      <td> 0</td>\n",
        "      <td>  0.00</td>\n",
        "      <td>  0.00</td>\n",
        "      <td>  0.00</td>\n",
        "      <td>  0.0</td>\n",
        "      <td>  0.00</td>\n",
        "      <td>...</td>\n",
        "      <td>    0.00</td>\n",
        "      <td>   0</td>\n",
        "      <td>    0.0</td>\n",
        "      <td>    0.000000</td>\n",
        "      <td>    0.0</td>\n",
        "      <td>    0.000000</td>\n",
        "      <td>    0.000000</td>\n",
        "      <td>    0.000000</td>\n",
        "      <td>  4648.480000</td>\n",
        "      <td>  904.180000</td>\n",
        "    </tr>\n",
        "    <tr>\n",
        "      <th>12  </th>\n",
        "      <td>           ALL PURPOSE BAKING FLOUR (GLUTEN FREE)</td>\n",
        "      <td>                     0</td>\n",
        "      <td>          Baking products</td>\n",
        "      <td> 0</td>\n",
        "      <td> 0</td>\n",
        "      <td>  0.00</td>\n",
        "      <td>  0.00</td>\n",
        "      <td>  0.00</td>\n",
        "      <td>  0.0</td>\n",
        "      <td>  0.00</td>\n",
        "      <td>...</td>\n",
        "      <td>    0.00</td>\n",
        "      <td>   0</td>\n",
        "      <td>  696.0</td>\n",
        "      <td> 1747.200000</td>\n",
        "      <td> 1046.4</td>\n",
        "      <td>  192.000000</td>\n",
        "      <td>    0.000000</td>\n",
        "      <td>  495.000000</td>\n",
        "      <td>  4176.600000</td>\n",
        "      <td>  805.350000</td>\n",
        "    </tr>\n",
        "    <tr>\n",
        "      <th>13  </th>\n",
        "      <td>           ALL PURPOSE BAKING FLOUR (GLUTEN FREE)</td>\n",
        "      <td>                     0</td>\n",
        "      <td>                  General</td>\n",
        "      <td> 0</td>\n",
        "      <td> 0</td>\n",
        "      <td>  0.00</td>\n",
        "      <td>  0.00</td>\n",
        "      <td>  0.00</td>\n",
        "      <td>  0.0</td>\n",
        "      <td>  0.00</td>\n",
        "      <td>...</td>\n",
        "      <td>   43.75</td>\n",
        "      <td> 516</td>\n",
        "      <td>    0.0</td>\n",
        "      <td>    0.000000</td>\n",
        "      <td>   48.0</td>\n",
        "      <td>  528.000000</td>\n",
        "      <td>  240.000000</td>\n",
        "      <td>    0.000000</td>\n",
        "      <td>  1375.750000</td>\n",
        "      <td>  266.250000</td>\n",
        "    </tr>\n",
        "    <tr>\n",
        "      <th>14  </th>\n",
        "      <td> ALMOND BISCUITS (GLUTEN FREE - TRACES OF GLUTEN)</td>\n",
        "      <td>                     0</td>\n",
        "      <td>                   Snacks</td>\n",
        "      <td> 0</td>\n",
        "      <td> 0</td>\n",
        "      <td>  0.00</td>\n",
        "      <td>  0.00</td>\n",
        "      <td>  0.00</td>\n",
        "      <td>  0.0</td>\n",
        "      <td>  0.00</td>\n",
        "      <td>...</td>\n",
        "      <td>   18.00</td>\n",
        "      <td>   0</td>\n",
        "      <td>    0.0</td>\n",
        "      <td>    0.000000</td>\n",
        "      <td>    0.0</td>\n",
        "      <td>    0.000000</td>\n",
        "      <td>    0.000000</td>\n",
        "      <td>    0.000000</td>\n",
        "      <td>    54.000000</td>\n",
        "      <td>   54.000000</td>\n",
        "    </tr>\n",
        "    <tr>\n",
        "      <th>15  </th>\n",
        "      <td>                       ALMOND BREAD (GLUTEN FREE)</td>\n",
        "      <td>                     0</td>\n",
        "      <td>                    Bread</td>\n",
        "      <td> 0</td>\n",
        "      <td> 0</td>\n",
        "      <td>  0.00</td>\n",
        "      <td>  0.00</td>\n",
        "      <td>  0.00</td>\n",
        "      <td>  0.0</td>\n",
        "      <td>  0.00</td>\n",
        "      <td>...</td>\n",
        "      <td>    0.00</td>\n",
        "      <td>   0</td>\n",
        "      <td>    0.0</td>\n",
        "      <td>    0.000000</td>\n",
        "      <td>  180.0</td>\n",
        "      <td>    0.000000</td>\n",
        "      <td>    0.000000</td>\n",
        "      <td>    0.000000</td>\n",
        "      <td>   180.000000</td>\n",
        "      <td>   45.000000</td>\n",
        "    </tr>\n",
        "    <tr>\n",
        "      <th>16  </th>\n",
        "      <td>                                    ALMOND BUTTER</td>\n",
        "      <td>                     0</td>\n",
        "      <td>               Nut butter</td>\n",
        "      <td> 0</td>\n",
        "      <td> 0</td>\n",
        "      <td>  0.00</td>\n",
        "      <td>  0.00</td>\n",
        "      <td>  0.00</td>\n",
        "      <td>  0.0</td>\n",
        "      <td>  0.00</td>\n",
        "      <td>...</td>\n",
        "      <td>    0.00</td>\n",
        "      <td>   0</td>\n",
        "      <td>   65.0</td>\n",
        "      <td> 1046.000000</td>\n",
        "      <td>  715.0</td>\n",
        "      <td> 1683.722222</td>\n",
        "      <td> 1755.000000</td>\n",
        "      <td> 2648.345747</td>\n",
        "      <td>  7913.067970</td>\n",
        "      <td> 1517.067970</td>\n",
        "    </tr>\n",
        "    <tr>\n",
        "      <th>17  </th>\n",
        "      <td>                        ALMOND BUTTER (HOME-MADE)</td>\n",
        "      <td>             Signature</td>\n",
        "      <td>                  spreads</td>\n",
        "      <td> 0</td>\n",
        "      <td> 0</td>\n",
        "      <td>  0.00</td>\n",
        "      <td>  0.00</td>\n",
        "      <td>  0.00</td>\n",
        "      <td>  0.0</td>\n",
        "      <td>  0.00</td>\n",
        "      <td>...</td>\n",
        "      <td>    0.00</td>\n",
        "      <td>   0</td>\n",
        "      <td>    0.0</td>\n",
        "      <td>    0.000000</td>\n",
        "      <td>    0.0</td>\n",
        "      <td>    0.000000</td>\n",
        "      <td>    0.000000</td>\n",
        "      <td>    0.000000</td>\n",
        "      <td>  4380.000000</td>\n",
        "      <td>  584.000000</td>\n",
        "    </tr>\n",
        "    <tr>\n",
        "      <th>18  </th>\n",
        "      <td>                          ALMOND BUTTER (NATURAL)</td>\n",
        "      <td>                     0</td>\n",
        "      <td>               Nut butter</td>\n",
        "      <td> 0</td>\n",
        "      <td> 0</td>\n",
        "      <td>  0.00</td>\n",
        "      <td>  0.00</td>\n",
        "      <td>  0.00</td>\n",
        "      <td>  0.0</td>\n",
        "      <td>  0.00</td>\n",
        "      <td>...</td>\n",
        "      <td>    0.00</td>\n",
        "      <td>   0</td>\n",
        "      <td>    0.0</td>\n",
        "      <td>  130.000000</td>\n",
        "      <td>  325.0</td>\n",
        "      <td>  715.000000</td>\n",
        "      <td>  780.000000</td>\n",
        "      <td>  650.000000</td>\n",
        "      <td>  2600.000000</td>\n",
        "      <td>  520.000000</td>\n",
        "    </tr>\n",
        "    <tr>\n",
        "      <th>19  </th>\n",
        "      <td>                                ALMOND MEAL FLOUR</td>\n",
        "      <td>                     0</td>\n",
        "      <td>          Baking products</td>\n",
        "      <td> 0</td>\n",
        "      <td> 0</td>\n",
        "      <td>  0.00</td>\n",
        "      <td>  0.00</td>\n",
        "      <td>  0.00</td>\n",
        "      <td>  0.0</td>\n",
        "      <td>  0.00</td>\n",
        "      <td>...</td>\n",
        "      <td>  504.00</td>\n",
        "      <td>   0</td>\n",
        "      <td> 1161.6</td>\n",
        "      <td> 3168.000000</td>\n",
        "      <td> 2296.8</td>\n",
        "      <td> 1716.000000</td>\n",
        "      <td> 3892.412286</td>\n",
        "      <td>  -15.575221</td>\n",
        "      <td> 12723.237064</td>\n",
        "      <td> 2630.467064</td>\n",
        "    </tr>\n",
        "    <tr>\n",
        "      <th>20  </th>\n",
        "      <td>                          ALMOND MILK ( ORGANIC )</td>\n",
        "      <td>                 Alpro</td>\n",
        "      <td>           Non-dairy milk</td>\n",
        "      <td> 0</td>\n",
        "      <td> 0</td>\n",
        "      <td>  0.00</td>\n",
        "      <td>  0.00</td>\n",
        "      <td>  0.00</td>\n",
        "      <td>  0.0</td>\n",
        "      <td>  0.00</td>\n",
        "      <td>...</td>\n",
        "      <td>    0.00</td>\n",
        "      <td>   0</td>\n",
        "      <td>    0.0</td>\n",
        "      <td>    0.000000</td>\n",
        "      <td>    0.0</td>\n",
        "      <td>    0.000000</td>\n",
        "      <td>    0.000000</td>\n",
        "      <td>    0.000000</td>\n",
        "      <td>   211.500000</td>\n",
        "      <td>   44.520000</td>\n",
        "    </tr>\n",
        "    <tr>\n",
        "      <th>21  </th>\n",
        "      <td>                  ALMOND MILK ( ORGANIC ) / 946ML</td>\n",
        "      <td> Pacific Natural Foods</td>\n",
        "      <td>           Non-dairy milk</td>\n",
        "      <td> 0</td>\n",
        "      <td> 0</td>\n",
        "      <td>  0.00</td>\n",
        "      <td>  0.00</td>\n",
        "      <td>  0.00</td>\n",
        "      <td>  0.0</td>\n",
        "      <td>  0.00</td>\n",
        "      <td>...</td>\n",
        "      <td>    0.00</td>\n",
        "      <td>   0</td>\n",
        "      <td>    0.0</td>\n",
        "      <td>    0.000000</td>\n",
        "      <td>    0.0</td>\n",
        "      <td>    0.000000</td>\n",
        "      <td>    0.000000</td>\n",
        "      <td>    0.000000</td>\n",
        "      <td>  9418.840000</td>\n",
        "      <td> 1695.440000</td>\n",
        "    </tr>\n",
        "    <tr>\n",
        "      <th>22  </th>\n",
        "      <td>                    ALMOND MILK ( ORGANIC ) 946ML</td>\n",
        "      <td>                     0</td>\n",
        "      <td>           Non-dairy milk</td>\n",
        "      <td> 0</td>\n",
        "      <td> 0</td>\n",
        "      <td>  0.00</td>\n",
        "      <td>  0.00</td>\n",
        "      <td>  0.00</td>\n",
        "      <td>  0.0</td>\n",
        "      <td>  0.00</td>\n",
        "      <td>...</td>\n",
        "      <td>  102.00</td>\n",
        "      <td>   0</td>\n",
        "      <td>    0.0</td>\n",
        "      <td>    0.000000</td>\n",
        "      <td>    0.0</td>\n",
        "      <td>    0.000000</td>\n",
        "      <td>    0.000000</td>\n",
        "      <td>    0.000000</td>\n",
        "      <td>   102.000000</td>\n",
        "      <td>   25.200000</td>\n",
        "    </tr>\n",
        "    <tr>\n",
        "      <th>23  </th>\n",
        "      <td>                         ALMOND MILK ( ORIGINAL )</td>\n",
        "      <td>                   NGS</td>\n",
        "      <td>           Non-dairy milk</td>\n",
        "      <td> 0</td>\n",
        "      <td> 0</td>\n",
        "      <td>  0.00</td>\n",
        "      <td>  0.00</td>\n",
        "      <td>  0.00</td>\n",
        "      <td>  0.0</td>\n",
        "      <td>  0.00</td>\n",
        "      <td>...</td>\n",
        "      <td>    0.00</td>\n",
        "      <td>   0</td>\n",
        "      <td>    0.0</td>\n",
        "      <td>    0.000000</td>\n",
        "      <td>    0.0</td>\n",
        "      <td>    0.000000</td>\n",
        "      <td>    0.000000</td>\n",
        "      <td>    0.000000</td>\n",
        "      <td>  1128.400000</td>\n",
        "      <td>  216.400000</td>\n",
        "    </tr>\n",
        "    <tr>\n",
        "      <th>24  </th>\n",
        "      <td>               ALMOND MILK (ORGANIC) - SUGAR-FREE</td>\n",
        "      <td>                     0</td>\n",
        "      <td>           Non-dairy milk</td>\n",
        "      <td> 0</td>\n",
        "      <td> 0</td>\n",
        "      <td>  0.00</td>\n",
        "      <td>  0.00</td>\n",
        "      <td>  0.00</td>\n",
        "      <td>  0.0</td>\n",
        "      <td>  0.00</td>\n",
        "      <td>...</td>\n",
        "      <td>    0.00</td>\n",
        "      <td>   0</td>\n",
        "      <td>    0.0</td>\n",
        "      <td>    0.000000</td>\n",
        "      <td>    0.0</td>\n",
        "      <td>    0.000000</td>\n",
        "      <td> 2521.720515</td>\n",
        "      <td> 2530.000000</td>\n",
        "      <td>  5051.720515</td>\n",
        "      <td>  221.720515</td>\n",
        "    </tr>\n",
        "    <tr>\n",
        "      <th>25  </th>\n",
        "      <td>                        ALMOND MILK (UNSWEETENED)</td>\n",
        "      <td>                     0</td>\n",
        "      <td>           Non-dairy milk</td>\n",
        "      <td> 0</td>\n",
        "      <td> 0</td>\n",
        "      <td>  0.00</td>\n",
        "      <td>  0.00</td>\n",
        "      <td>  0.00</td>\n",
        "      <td>  0.0</td>\n",
        "      <td>  0.00</td>\n",
        "      <td>...</td>\n",
        "      <td>    0.00</td>\n",
        "      <td>   0</td>\n",
        "      <td>    0.0</td>\n",
        "      <td>    0.000000</td>\n",
        "      <td>    0.0</td>\n",
        "      <td>    0.000000</td>\n",
        "      <td>    0.000000</td>\n",
        "      <td>    0.000000</td>\n",
        "      <td>   608.000000</td>\n",
        "      <td>  152.000000</td>\n",
        "    </tr>\n",
        "    <tr>\n",
        "      <th>26  </th>\n",
        "      <td>                  ALMOND MILK WITH DARK CHOCOLATE</td>\n",
        "      <td>           Pure almond</td>\n",
        "      <td>           Non-dairy milk</td>\n",
        "      <td> 0</td>\n",
        "      <td> 0</td>\n",
        "      <td>  0.00</td>\n",
        "      <td>  0.00</td>\n",
        "      <td>  0.00</td>\n",
        "      <td>  0.0</td>\n",
        "      <td>  0.00</td>\n",
        "      <td>...</td>\n",
        "      <td>    0.00</td>\n",
        "      <td>   0</td>\n",
        "      <td>    0.0</td>\n",
        "      <td>    0.000000</td>\n",
        "      <td>    0.0</td>\n",
        "      <td>    0.000000</td>\n",
        "      <td>    0.000000</td>\n",
        "      <td>    0.000000</td>\n",
        "      <td>    57.000000</td>\n",
        "      <td>   11.440000</td>\n",
        "    </tr>\n",
        "    <tr>\n",
        "      <th>27  </th>\n",
        "      <td>                         ALMOND MILK WITH VANILLA</td>\n",
        "      <td>           Pure almond</td>\n",
        "      <td>           Non-dairy milk</td>\n",
        "      <td> 0</td>\n",
        "      <td> 0</td>\n",
        "      <td>  0.00</td>\n",
        "      <td>  0.00</td>\n",
        "      <td>  0.00</td>\n",
        "      <td>  0.0</td>\n",
        "      <td>  0.00</td>\n",
        "      <td>...</td>\n",
        "      <td>    0.00</td>\n",
        "      <td>   0</td>\n",
        "      <td>    0.0</td>\n",
        "      <td>    0.000000</td>\n",
        "      <td>    0.0</td>\n",
        "      <td>    0.000000</td>\n",
        "      <td>    0.000000</td>\n",
        "      <td>    0.000000</td>\n",
        "      <td>   114.000000</td>\n",
        "      <td>   24.160000</td>\n",
        "    </tr>\n",
        "    <tr>\n",
        "      <th>28  </th>\n",
        "      <td>                       ALMOND ORIGINAL (ORIGINAL)</td>\n",
        "      <td>                     0</td>\n",
        "      <td>           Non-dairy milk</td>\n",
        "      <td> 0</td>\n",
        "      <td> 0</td>\n",
        "      <td>  0.00</td>\n",
        "      <td>  0.00</td>\n",
        "      <td>  0.00</td>\n",
        "      <td>  0.0</td>\n",
        "      <td>  0.00</td>\n",
        "      <td>...</td>\n",
        "      <td>    0.00</td>\n",
        "      <td>   0</td>\n",
        "      <td>    0.0</td>\n",
        "      <td>    0.000000</td>\n",
        "      <td>    0.0</td>\n",
        "      <td>    0.000000</td>\n",
        "      <td>    0.000000</td>\n",
        "      <td>    0.000000</td>\n",
        "      <td>   512.000000</td>\n",
        "      <td>  128.000000</td>\n",
        "    </tr>\n",
        "    <tr>\n",
        "      <th>29  </th>\n",
        "      <td>                     ALMOND'S AND OATS BODY SCRUB</td>\n",
        "      <td>                     0</td>\n",
        "      <td>                Cosmetics</td>\n",
        "      <td> 0</td>\n",
        "      <td> 0</td>\n",
        "      <td>  0.00</td>\n",
        "      <td>  0.00</td>\n",
        "      <td>  0.00</td>\n",
        "      <td>  0.0</td>\n",
        "      <td>  0.00</td>\n",
        "      <td>...</td>\n",
        "      <td>    0.00</td>\n",
        "      <td>   0</td>\n",
        "      <td>    0.0</td>\n",
        "      <td>    0.000000</td>\n",
        "      <td>    0.0</td>\n",
        "      <td>    0.000000</td>\n",
        "      <td>    0.000000</td>\n",
        "      <td>    0.000000</td>\n",
        "      <td>    70.000000</td>\n",
        "      <td>   14.000000</td>\n",
        "    </tr>\n",
        "    <tr>\n",
        "      <th>...</th>\n",
        "      <td>...</td>\n",
        "      <td>...</td>\n",
        "      <td>...</td>\n",
        "      <td>...</td>\n",
        "      <td>...</td>\n",
        "      <td>...</td>\n",
        "      <td>...</td>\n",
        "      <td>...</td>\n",
        "      <td>...</td>\n",
        "      <td>...</td>\n",
        "      <td>...</td>\n",
        "      <td>...</td>\n",
        "      <td>...</td>\n",
        "      <td>...</td>\n",
        "      <td>...</td>\n",
        "      <td>...</td>\n",
        "      <td>...</td>\n",
        "      <td>...</td>\n",
        "      <td>...</td>\n",
        "      <td>...</td>\n",
        "      <td>...</td>\n",
        "    </tr>\n",
        "    <tr>\n",
        "      <th>1837</th>\n",
        "      <td>                        XANTHAN GUM (GLUTEN FREE)</td>\n",
        "      <td>                     0</td>\n",
        "      <td>          Baking products</td>\n",
        "      <td> 0</td>\n",
        "      <td> 0</td>\n",
        "      <td>  0.00</td>\n",
        "      <td>  0.00</td>\n",
        "      <td>  0.00</td>\n",
        "      <td>  0.0</td>\n",
        "      <td>  0.00</td>\n",
        "      <td>...</td>\n",
        "      <td>    0.00</td>\n",
        "      <td>   0</td>\n",
        "      <td>    0.0</td>\n",
        "      <td>  660.000000</td>\n",
        "      <td>  264.0</td>\n",
        "      <td>  396.000000</td>\n",
        "      <td> 1596.000000</td>\n",
        "      <td>    0.000000</td>\n",
        "      <td>  2916.000000</td>\n",
        "      <td>  501.000000</td>\n",
        "    </tr>\n",
        "    <tr>\n",
        "      <th>1838</th>\n",
        "      <td>                                 YAKI NORI SHEETS</td>\n",
        "      <td>                   NGS</td>\n",
        "      <td>         Japanese cuisine</td>\n",
        "      <td> 0</td>\n",
        "      <td> 0</td>\n",
        "      <td>  0.00</td>\n",
        "      <td>  0.00</td>\n",
        "      <td>  0.00</td>\n",
        "      <td>  0.0</td>\n",
        "      <td>  0.00</td>\n",
        "      <td>...</td>\n",
        "      <td>    0.00</td>\n",
        "      <td>   0</td>\n",
        "      <td>    0.0</td>\n",
        "      <td>    0.000000</td>\n",
        "      <td>    0.0</td>\n",
        "      <td>    0.000000</td>\n",
        "      <td>    0.000000</td>\n",
        "      <td>    0.000000</td>\n",
        "      <td>    66.500000</td>\n",
        "      <td>   13.300000</td>\n",
        "    </tr>\n",
        "    <tr>\n",
        "      <th>1839</th>\n",
        "      <td>                                    YELLOW APPLES</td>\n",
        "      <td>                   NGS</td>\n",
        "      <td>                   Fruits</td>\n",
        "      <td> 0</td>\n",
        "      <td> 0</td>\n",
        "      <td>  0.00</td>\n",
        "      <td>  0.00</td>\n",
        "      <td>  0.00</td>\n",
        "      <td>  0.0</td>\n",
        "      <td>  0.00</td>\n",
        "      <td>...</td>\n",
        "      <td>    0.00</td>\n",
        "      <td> 130</td>\n",
        "      <td>   78.0</td>\n",
        "      <td>  156.000000</td>\n",
        "      <td>  305.0</td>\n",
        "      <td>  413.408990</td>\n",
        "      <td>  504.000000</td>\n",
        "      <td>   75.400000</td>\n",
        "      <td>  1661.808990</td>\n",
        "      <td>  451.818990</td>\n",
        "    </tr>\n",
        "    <tr>\n",
        "      <th>1840</th>\n",
        "      <td>                                  YELLOW BROCCOLI</td>\n",
        "      <td>                   NGS</td>\n",
        "      <td>         Fresh vegetables</td>\n",
        "      <td> 0</td>\n",
        "      <td> 0</td>\n",
        "      <td>  0.00</td>\n",
        "      <td>  0.00</td>\n",
        "      <td>  0.00</td>\n",
        "      <td>  0.0</td>\n",
        "      <td>  0.00</td>\n",
        "      <td>...</td>\n",
        "      <td>    0.00</td>\n",
        "      <td>   0</td>\n",
        "      <td>    0.0</td>\n",
        "      <td>    0.000000</td>\n",
        "      <td>    0.0</td>\n",
        "      <td>    0.000000</td>\n",
        "      <td>    0.000000</td>\n",
        "      <td>    0.000000</td>\n",
        "      <td>    67.040000</td>\n",
        "      <td>   67.040000</td>\n",
        "    </tr>\n",
        "    <tr>\n",
        "      <th>1841</th>\n",
        "      <td>                YELLOW CAPSICUM ( CHEMICAL FREE )</td>\n",
        "      <td>                   NGS</td>\n",
        "      <td> Chemical free vegetables</td>\n",
        "      <td> 0</td>\n",
        "      <td> 0</td>\n",
        "      <td>  0.00</td>\n",
        "      <td>  0.00</td>\n",
        "      <td>  0.00</td>\n",
        "      <td>  0.0</td>\n",
        "      <td>  0.00</td>\n",
        "      <td>...</td>\n",
        "      <td>    0.00</td>\n",
        "      <td>   0</td>\n",
        "      <td>    0.0</td>\n",
        "      <td>    0.000000</td>\n",
        "      <td>    0.0</td>\n",
        "      <td>    0.000000</td>\n",
        "      <td>    0.000000</td>\n",
        "      <td>    0.000000</td>\n",
        "      <td>    47.000000</td>\n",
        "      <td>   10.250000</td>\n",
        "    </tr>\n",
        "    <tr>\n",
        "      <th>1842</th>\n",
        "      <td>                  YELLOW CARROT ( CHEMICAL FREE )</td>\n",
        "      <td>                     0</td>\n",
        "      <td>               Vegetables</td>\n",
        "      <td> 0</td>\n",
        "      <td> 0</td>\n",
        "      <td>  0.00</td>\n",
        "      <td>  0.00</td>\n",
        "      <td>  0.00</td>\n",
        "      <td>  0.0</td>\n",
        "      <td>  0.00</td>\n",
        "      <td>...</td>\n",
        "      <td> 1098.00</td>\n",
        "      <td> 210</td>\n",
        "      <td>    0.0</td>\n",
        "      <td>   30.000000</td>\n",
        "      <td>    0.0</td>\n",
        "      <td>    0.000000</td>\n",
        "      <td>    0.000000</td>\n",
        "      <td>    0.000000</td>\n",
        "      <td>  1352.000000</td>\n",
        "      <td>  531.860000</td>\n",
        "    </tr>\n",
        "    <tr>\n",
        "      <th>1843</th>\n",
        "      <td>                  YELLOW CARROT ( CHEMICAL FREE )</td>\n",
        "      <td>                   NGS</td>\n",
        "      <td>         Fresh vegetables</td>\n",
        "      <td> 0</td>\n",
        "      <td> 0</td>\n",
        "      <td>  0.00</td>\n",
        "      <td>  0.00</td>\n",
        "      <td>  0.00</td>\n",
        "      <td>  0.0</td>\n",
        "      <td>  0.00</td>\n",
        "      <td>...</td>\n",
        "      <td>    0.00</td>\n",
        "      <td>   0</td>\n",
        "      <td>    0.0</td>\n",
        "      <td>    0.000000</td>\n",
        "      <td>    0.0</td>\n",
        "      <td>    0.000000</td>\n",
        "      <td>    0.000000</td>\n",
        "      <td>    0.000000</td>\n",
        "      <td>  4177.000000</td>\n",
        "      <td> 1050.000000</td>\n",
        "    </tr>\n",
        "    <tr>\n",
        "      <th>1844</th>\n",
        "      <td>                                   YELLOW CARROTS</td>\n",
        "      <td>                   NGS</td>\n",
        "      <td>         Fresh vegetables</td>\n",
        "      <td> 0</td>\n",
        "      <td> 0</td>\n",
        "      <td>  0.00</td>\n",
        "      <td>  0.00</td>\n",
        "      <td>  0.00</td>\n",
        "      <td>  0.0</td>\n",
        "      <td>  0.00</td>\n",
        "      <td>...</td>\n",
        "      <td>    0.00</td>\n",
        "      <td>   0</td>\n",
        "      <td>    0.0</td>\n",
        "      <td>    0.000000</td>\n",
        "      <td>    0.0</td>\n",
        "      <td>    0.000000</td>\n",
        "      <td>    0.000000</td>\n",
        "      <td>    0.000000</td>\n",
        "      <td>  1064.050000</td>\n",
        "      <td>  119.820000</td>\n",
        "    </tr>\n",
        "    <tr>\n",
        "      <th>1845</th>\n",
        "      <td>                           YELLOW CHERRY TOMATOES</td>\n",
        "      <td>            Kheir Misr</td>\n",
        "      <td>         Fresh vegetables</td>\n",
        "      <td> 0</td>\n",
        "      <td> 0</td>\n",
        "      <td>  0.00</td>\n",
        "      <td>  0.00</td>\n",
        "      <td>  0.00</td>\n",
        "      <td>  0.0</td>\n",
        "      <td>  0.00</td>\n",
        "      <td>...</td>\n",
        "      <td>    0.00</td>\n",
        "      <td>   0</td>\n",
        "      <td>    0.0</td>\n",
        "      <td>    0.000000</td>\n",
        "      <td>    0.0</td>\n",
        "      <td>    0.000000</td>\n",
        "      <td>    0.000000</td>\n",
        "      <td>    0.000000</td>\n",
        "      <td>   208.640000</td>\n",
        "      <td>   44.210000</td>\n",
        "    </tr>\n",
        "    <tr>\n",
        "      <th>1846</th>\n",
        "      <td>                                YELLOW GRAPEFRUIT</td>\n",
        "      <td>                     0</td>\n",
        "      <td>             Fresh fruits</td>\n",
        "      <td> 0</td>\n",
        "      <td> 0</td>\n",
        "      <td>  0.00</td>\n",
        "      <td>  0.00</td>\n",
        "      <td>  0.00</td>\n",
        "      <td>  0.0</td>\n",
        "      <td>  0.00</td>\n",
        "      <td>...</td>\n",
        "      <td>    0.00</td>\n",
        "      <td>   0</td>\n",
        "      <td>    0.0</td>\n",
        "      <td>    0.000000</td>\n",
        "      <td>    0.0</td>\n",
        "      <td>    0.000000</td>\n",
        "      <td>    0.000000</td>\n",
        "      <td>    0.000000</td>\n",
        "      <td>    74.000000</td>\n",
        "      <td>   20.200000</td>\n",
        "    </tr>\n",
        "    <tr>\n",
        "      <th>1847</th>\n",
        "      <td>                                YELLOW GRAPEFRUIT</td>\n",
        "      <td>                   NGS</td>\n",
        "      <td>                   Fruits</td>\n",
        "      <td> 0</td>\n",
        "      <td> 0</td>\n",
        "      <td>  0.00</td>\n",
        "      <td>  0.00</td>\n",
        "      <td>  0.00</td>\n",
        "      <td>  0.0</td>\n",
        "      <td>  0.00</td>\n",
        "      <td>...</td>\n",
        "      <td>  218.00</td>\n",
        "      <td>  58</td>\n",
        "      <td>   84.0</td>\n",
        "      <td>  140.846479</td>\n",
        "      <td>   99.0</td>\n",
        "      <td>   87.755294</td>\n",
        "      <td>   41.899052</td>\n",
        "      <td>    9.000000</td>\n",
        "      <td>   738.500825</td>\n",
        "      <td>  266.350825</td>\n",
        "    </tr>\n",
        "    <tr>\n",
        "      <th>1848</th>\n",
        "      <td>                                   YELLOW MUSTARD</td>\n",
        "      <td>      Eden Foods, Inc.</td>\n",
        "      <td>                   Spices</td>\n",
        "      <td> 0</td>\n",
        "      <td> 0</td>\n",
        "      <td>  0.00</td>\n",
        "      <td>  0.00</td>\n",
        "      <td>  0.00</td>\n",
        "      <td>  0.0</td>\n",
        "      <td>  0.00</td>\n",
        "      <td>...</td>\n",
        "      <td>    0.00</td>\n",
        "      <td>   0</td>\n",
        "      <td>    0.0</td>\n",
        "      <td>    0.000000</td>\n",
        "      <td>    0.0</td>\n",
        "      <td>    0.000000</td>\n",
        "      <td>   69.189577</td>\n",
        "      <td>   49.505758</td>\n",
        "      <td>   118.695335</td>\n",
        "      <td>   24.945335</td>\n",
        "    </tr>\n",
        "    <tr>\n",
        "      <th>1849</th>\n",
        "      <td>                  YELLOW ONIONS ( CHEMICAL FREE )</td>\n",
        "      <td>                   NGS</td>\n",
        "      <td>         Fresh vegetables</td>\n",
        "      <td> 0</td>\n",
        "      <td> 0</td>\n",
        "      <td>  0.00</td>\n",
        "      <td>  0.00</td>\n",
        "      <td>  0.00</td>\n",
        "      <td>  0.0</td>\n",
        "      <td>  0.00</td>\n",
        "      <td>...</td>\n",
        "      <td>    0.00</td>\n",
        "      <td>   0</td>\n",
        "      <td>    0.0</td>\n",
        "      <td>    0.000000</td>\n",
        "      <td>    0.0</td>\n",
        "      <td>    0.000000</td>\n",
        "      <td>    0.000000</td>\n",
        "      <td>    0.000000</td>\n",
        "      <td>    60.000000</td>\n",
        "      <td>   16.620000</td>\n",
        "    </tr>\n",
        "    <tr>\n",
        "      <th>1850</th>\n",
        "      <td>                         YELLOW SPLIT PEAS / 822G</td>\n",
        "      <td>        Bob's Red Mill</td>\n",
        "      <td>                   Grains</td>\n",
        "      <td> 0</td>\n",
        "      <td> 0</td>\n",
        "      <td>  0.00</td>\n",
        "      <td>  0.00</td>\n",
        "      <td>  0.00</td>\n",
        "      <td>  0.0</td>\n",
        "      <td>  0.00</td>\n",
        "      <td>...</td>\n",
        "      <td>    0.00</td>\n",
        "      <td>   0</td>\n",
        "      <td>    0.0</td>\n",
        "      <td>    0.000000</td>\n",
        "      <td>    0.0</td>\n",
        "      <td>    0.000000</td>\n",
        "      <td>    0.000000</td>\n",
        "      <td>    0.000000</td>\n",
        "      <td>   255.500000</td>\n",
        "      <td>   35.000000</td>\n",
        "    </tr>\n",
        "    <tr>\n",
        "      <th>1851</th>\n",
        "      <td>                                YELLOW WATERMELON</td>\n",
        "      <td>                   NGS</td>\n",
        "      <td>                   Fruits</td>\n",
        "      <td> 0</td>\n",
        "      <td> 0</td>\n",
        "      <td>  0.00</td>\n",
        "      <td>  0.00</td>\n",
        "      <td>  0.00</td>\n",
        "      <td>  0.0</td>\n",
        "      <td>  0.00</td>\n",
        "      <td>...</td>\n",
        "      <td>    0.00</td>\n",
        "      <td>   0</td>\n",
        "      <td>    0.0</td>\n",
        "      <td>   65.000000</td>\n",
        "      <td>   65.0</td>\n",
        "      <td>    0.000000</td>\n",
        "      <td>    0.000000</td>\n",
        "      <td>    0.000000</td>\n",
        "      <td>   130.000000</td>\n",
        "      <td>   47.500000</td>\n",
        "    </tr>\n",
        "    <tr>\n",
        "      <th>1852</th>\n",
        "      <td>                       YING/YANG FACIAL ACNE SOAP</td>\n",
        "      <td>                     0</td>\n",
        "      <td>                Cosmetics</td>\n",
        "      <td> 0</td>\n",
        "      <td> 0</td>\n",
        "      <td>  0.00</td>\n",
        "      <td>  0.00</td>\n",
        "      <td>  0.00</td>\n",
        "      <td>  0.0</td>\n",
        "      <td>  0.00</td>\n",
        "      <td>...</td>\n",
        "      <td>    0.00</td>\n",
        "      <td>   0</td>\n",
        "      <td>    0.0</td>\n",
        "      <td>    0.000000</td>\n",
        "      <td>    0.0</td>\n",
        "      <td>    0.000000</td>\n",
        "      <td>    0.000000</td>\n",
        "      <td>    0.000000</td>\n",
        "      <td>    55.000000</td>\n",
        "      <td>   11.000000</td>\n",
        "    </tr>\n",
        "    <tr>\n",
        "      <th>1853</th>\n",
        "      <td>                              YOUSSFI (TANGERINE)</td>\n",
        "      <td>                   NGS</td>\n",
        "      <td>                   Fruits</td>\n",
        "      <td> 0</td>\n",
        "      <td> 0</td>\n",
        "      <td>  0.00</td>\n",
        "      <td>  0.00</td>\n",
        "      <td>  0.00</td>\n",
        "      <td>  0.0</td>\n",
        "      <td>  0.00</td>\n",
        "      <td>...</td>\n",
        "      <td>    0.00</td>\n",
        "      <td>   0</td>\n",
        "      <td>    0.0</td>\n",
        "      <td>    0.000000</td>\n",
        "      <td>    0.0</td>\n",
        "      <td>    0.000000</td>\n",
        "      <td>   25.000000</td>\n",
        "      <td>    0.000000</td>\n",
        "      <td>    25.000000</td>\n",
        "      <td>    7.500000</td>\n",
        "    </tr>\n",
        "    <tr>\n",
        "      <th>1854</th>\n",
        "      <td>                     ZARDA EXTRA VIRGIN OLIVE OIL</td>\n",
        "      <td>                   NGS</td>\n",
        "      <td>          Oil &amp; Vinegar  </td>\n",
        "      <td> 0</td>\n",
        "      <td> 0</td>\n",
        "      <td>  0.00</td>\n",
        "      <td>  0.00</td>\n",
        "      <td>  0.00</td>\n",
        "      <td>  0.0</td>\n",
        "      <td>  0.00</td>\n",
        "      <td>...</td>\n",
        "      <td>    0.00</td>\n",
        "      <td>   0</td>\n",
        "      <td>    0.0</td>\n",
        "      <td>    0.000000</td>\n",
        "      <td>    0.0</td>\n",
        "      <td>    0.000000</td>\n",
        "      <td>    0.000000</td>\n",
        "      <td>    0.000000</td>\n",
        "      <td>    51.500000</td>\n",
        "      <td>   10.250000</td>\n",
        "    </tr>\n",
        "    <tr>\n",
        "      <th>1855</th>\n",
        "      <td>                                         ZUCCHINI</td>\n",
        "      <td>            Kheir Misr</td>\n",
        "      <td>         Fresh vegetables</td>\n",
        "      <td> 0</td>\n",
        "      <td> 0</td>\n",
        "      <td>  0.00</td>\n",
        "      <td>  0.00</td>\n",
        "      <td>  0.00</td>\n",
        "      <td>  0.0</td>\n",
        "      <td>  0.00</td>\n",
        "      <td>...</td>\n",
        "      <td>    0.00</td>\n",
        "      <td>   0</td>\n",
        "      <td>    0.0</td>\n",
        "      <td>    0.000000</td>\n",
        "      <td>    0.0</td>\n",
        "      <td>    0.000000</td>\n",
        "      <td>    0.000000</td>\n",
        "      <td>    0.000000</td>\n",
        "      <td>  1394.760000</td>\n",
        "      <td>  228.990000</td>\n",
        "    </tr>\n",
        "    <tr>\n",
        "      <th>1856</th>\n",
        "      <td>                                         ZUCCHINI</td>\n",
        "      <td>                   NGS</td>\n",
        "      <td>         Fresh vegetables</td>\n",
        "      <td> 0</td>\n",
        "      <td> 0</td>\n",
        "      <td>  0.00</td>\n",
        "      <td>  0.00</td>\n",
        "      <td>  0.00</td>\n",
        "      <td>  0.0</td>\n",
        "      <td>  0.00</td>\n",
        "      <td>...</td>\n",
        "      <td>    0.00</td>\n",
        "      <td>   0</td>\n",
        "      <td>    0.0</td>\n",
        "      <td>    0.000000</td>\n",
        "      <td>    0.0</td>\n",
        "      <td>    0.000000</td>\n",
        "      <td>    0.000000</td>\n",
        "      <td>    0.000000</td>\n",
        "      <td>     5.000000</td>\n",
        "      <td>    1.250000</td>\n",
        "    </tr>\n",
        "    <tr>\n",
        "      <th>1857</th>\n",
        "      <td>                                         ZUCCHINI</td>\n",
        "      <td>                   NGS</td>\n",
        "      <td>                  General</td>\n",
        "      <td> 0</td>\n",
        "      <td> 0</td>\n",
        "      <td>  0.00</td>\n",
        "      <td>  0.00</td>\n",
        "      <td>  0.00</td>\n",
        "      <td>  0.0</td>\n",
        "      <td>  0.00</td>\n",
        "      <td>...</td>\n",
        "      <td>    0.00</td>\n",
        "      <td>   0</td>\n",
        "      <td>    0.0</td>\n",
        "      <td>    0.000000</td>\n",
        "      <td>    0.0</td>\n",
        "      <td>    0.000000</td>\n",
        "      <td>   69.871046</td>\n",
        "      <td>    0.000000</td>\n",
        "      <td>    69.871046</td>\n",
        "      <td>   34.471046</td>\n",
        "    </tr>\n",
        "    <tr>\n",
        "      <th>1858</th>\n",
        "      <td>                       ZUCCHINI ( CHEMICAL FREE )</td>\n",
        "      <td>                     0</td>\n",
        "      <td>               Vegetables</td>\n",
        "      <td> 0</td>\n",
        "      <td> 0</td>\n",
        "      <td>  0.00</td>\n",
        "      <td>  0.00</td>\n",
        "      <td>  0.00</td>\n",
        "      <td>  0.0</td>\n",
        "      <td>  0.00</td>\n",
        "      <td>...</td>\n",
        "      <td>    0.00</td>\n",
        "      <td>   0</td>\n",
        "      <td>    0.0</td>\n",
        "      <td>    0.000000</td>\n",
        "      <td>    0.0</td>\n",
        "      <td>    0.000000</td>\n",
        "      <td>    0.000000</td>\n",
        "      <td>    0.000000</td>\n",
        "      <td>    55.000000</td>\n",
        "      <td>   55.000000</td>\n",
        "    </tr>\n",
        "    <tr>\n",
        "      <th>1859</th>\n",
        "      <td>                       ZUCCHINI ( CHEMICAL FREE )</td>\n",
        "      <td>                   NGS</td>\n",
        "      <td>         Fresh vegetables</td>\n",
        "      <td> 0</td>\n",
        "      <td> 0</td>\n",
        "      <td>  0.00</td>\n",
        "      <td>  0.00</td>\n",
        "      <td>  0.00</td>\n",
        "      <td>  0.0</td>\n",
        "      <td>  0.00</td>\n",
        "      <td>...</td>\n",
        "      <td>    0.00</td>\n",
        "      <td>   0</td>\n",
        "      <td>    0.0</td>\n",
        "      <td>    0.000000</td>\n",
        "      <td>    0.0</td>\n",
        "      <td>    0.000000</td>\n",
        "      <td>    0.000000</td>\n",
        "      <td>    0.000000</td>\n",
        "      <td>  2934.750000</td>\n",
        "      <td>  807.050000</td>\n",
        "    </tr>\n",
        "    <tr>\n",
        "      <th>1860</th>\n",
        "      <td>                         ZUCCHINI (CHEMICAL FREE)</td>\n",
        "      <td>                     0</td>\n",
        "      <td> Chemical free vegetables</td>\n",
        "      <td> 0</td>\n",
        "      <td> 0</td>\n",
        "      <td>  0.00</td>\n",
        "      <td>  0.00</td>\n",
        "      <td>  0.00</td>\n",
        "      <td>  0.0</td>\n",
        "      <td>  0.00</td>\n",
        "      <td>...</td>\n",
        "      <td>    0.00</td>\n",
        "      <td>   0</td>\n",
        "      <td>    0.0</td>\n",
        "      <td>    0.000000</td>\n",
        "      <td>    0.0</td>\n",
        "      <td>    0.000000</td>\n",
        "      <td>    0.000000</td>\n",
        "      <td>    0.000000</td>\n",
        "      <td>   193.330000</td>\n",
        "      <td>   44.580000</td>\n",
        "    </tr>\n",
        "    <tr>\n",
        "      <th>1861</th>\n",
        "      <td>                         ZUCCHINI (CHEMICAL FREE)</td>\n",
        "      <td>                     0</td>\n",
        "      <td>               Vegetables</td>\n",
        "      <td> 0</td>\n",
        "      <td> 0</td>\n",
        "      <td>  0.00</td>\n",
        "      <td>  0.00</td>\n",
        "      <td>  0.00</td>\n",
        "      <td>  0.0</td>\n",
        "      <td>  0.00</td>\n",
        "      <td>...</td>\n",
        "      <td>  766.60</td>\n",
        "      <td> 210</td>\n",
        "      <td>    7.5</td>\n",
        "      <td>  150.000000</td>\n",
        "      <td>  330.0</td>\n",
        "      <td>  318.076923</td>\n",
        "      <td>  695.681924</td>\n",
        "      <td>  212.509227</td>\n",
        "      <td>  2690.368074</td>\n",
        "      <td>  887.868074</td>\n",
        "    </tr>\n",
        "    <tr>\n",
        "      <th>1862</th>\n",
        "      <td>                               ZUCCHINI (ORGANIC)</td>\n",
        "      <td>                     0</td>\n",
        "      <td>               Vegetables</td>\n",
        "      <td> 0</td>\n",
        "      <td> 0</td>\n",
        "      <td>  0.00</td>\n",
        "      <td>  0.00</td>\n",
        "      <td>  0.00</td>\n",
        "      <td>  0.0</td>\n",
        "      <td>  0.00</td>\n",
        "      <td>...</td>\n",
        "      <td>    0.00</td>\n",
        "      <td> 244</td>\n",
        "      <td>  403.2</td>\n",
        "      <td>  342.794118</td>\n",
        "      <td>   56.0</td>\n",
        "      <td>  280.000000</td>\n",
        "      <td>    0.000000</td>\n",
        "      <td>  181.734738</td>\n",
        "      <td>  1507.728855</td>\n",
        "      <td>  572.728855</td>\n",
        "    </tr>\n",
        "    <tr>\n",
        "      <th>1863</th>\n",
        "      <td>                                  ZUCCHINI / 500G</td>\n",
        "      <td>                   NGS</td>\n",
        "      <td>            Fresh Produce</td>\n",
        "      <td> 0</td>\n",
        "      <td> 0</td>\n",
        "      <td> 30.78</td>\n",
        "      <td> 27.36</td>\n",
        "      <td> 23.94</td>\n",
        "      <td> 34.2</td>\n",
        "      <td> 78.66</td>\n",
        "      <td>...</td>\n",
        "      <td>    0.00</td>\n",
        "      <td>   0</td>\n",
        "      <td>    0.0</td>\n",
        "      <td>    0.000000</td>\n",
        "      <td>    0.0</td>\n",
        "      <td>    0.000000</td>\n",
        "      <td>    0.000000</td>\n",
        "      <td>    0.000000</td>\n",
        "      <td>   198.360000</td>\n",
        "      <td>   45.820000</td>\n",
        "    </tr>\n",
        "    <tr>\n",
        "      <th>1864</th>\n",
        "      <td>                                 ZUCCHINI FLOWERS</td>\n",
        "      <td>                   NGS</td>\n",
        "      <td>         Fresh vegetables</td>\n",
        "      <td> 0</td>\n",
        "      <td> 0</td>\n",
        "      <td>  0.00</td>\n",
        "      <td>  0.00</td>\n",
        "      <td>  0.00</td>\n",
        "      <td>  0.0</td>\n",
        "      <td>  0.00</td>\n",
        "      <td>...</td>\n",
        "      <td>    0.00</td>\n",
        "      <td>   0</td>\n",
        "      <td>    0.0</td>\n",
        "      <td>    0.000000</td>\n",
        "      <td>    0.0</td>\n",
        "      <td>    0.000000</td>\n",
        "      <td>    0.000000</td>\n",
        "      <td>    0.000000</td>\n",
        "      <td>   266.000000</td>\n",
        "      <td>   56.000000</td>\n",
        "    </tr>\n",
        "    <tr>\n",
        "      <th>1865</th>\n",
        "      <td>                 ZUCCHINI FLOWERS (CHEMICAL FREE)</td>\n",
        "      <td>                     0</td>\n",
        "      <td>               Vegetables</td>\n",
        "      <td> 0</td>\n",
        "      <td> 0</td>\n",
        "      <td>  0.00</td>\n",
        "      <td>  0.00</td>\n",
        "      <td>  0.00</td>\n",
        "      <td>  0.0</td>\n",
        "      <td>  0.00</td>\n",
        "      <td>...</td>\n",
        "      <td>   19.00</td>\n",
        "      <td> 157</td>\n",
        "      <td>   44.0</td>\n",
        "      <td>    0.000000</td>\n",
        "      <td>    0.0</td>\n",
        "      <td>    0.000000</td>\n",
        "      <td>    0.000000</td>\n",
        "      <td>    0.000000</td>\n",
        "      <td>   220.000000</td>\n",
        "      <td>   70.000000</td>\n",
        "    </tr>\n",
        "    <tr>\n",
        "      <th>1866</th>\n",
        "      <td>   ZUCCHINI JAM WITH PISTACHIO &amp; MASTIC (NATURAL)</td>\n",
        "      <td>                     0</td>\n",
        "      <td>                      Jam</td>\n",
        "      <td> 0</td>\n",
        "      <td> 0</td>\n",
        "      <td>  0.00</td>\n",
        "      <td>  0.00</td>\n",
        "      <td>  0.00</td>\n",
        "      <td>  0.0</td>\n",
        "      <td>  0.00</td>\n",
        "      <td>...</td>\n",
        "      <td>    0.00</td>\n",
        "      <td>   0</td>\n",
        "      <td>    0.0</td>\n",
        "      <td>    0.000000</td>\n",
        "      <td>  200.0</td>\n",
        "      <td>    0.000000</td>\n",
        "      <td>    0.000000</td>\n",
        "      <td>    0.000000</td>\n",
        "      <td>   200.000000</td>\n",
        "      <td>   50.000000</td>\n",
        "    </tr>\n",
        "  </tbody>\n",
        "</table>\n",
        "<p>1867 rows \u00d7 49 columns</p>\n",
        "</div>"
       ],
       "metadata": {},
       "output_type": "pyout",
       "prompt_number": 5,
       "text": [
        "                                               Product                  Brand  \\\n",
        "0                                 7 GRAIN MILK / 946ML  Pacific Natural Foods   \n",
        "1                                     ACAI BERRY JUICE                      0   \n",
        "2                                     ACAI BERRY JUICE          Berry company   \n",
        "3                                     ACNE FACIAL SOAP          Healing Herbs   \n",
        "4                              ACQUA PANA WATER 1000ML                    NGS   \n",
        "5                               ACQUA PANA WATER 500ML                    NGS   \n",
        "6                         ACQUA PANA WATER 500ML GLASS                    NGS   \n",
        "7                ACTIBIF CHEESE (FOR BETTER DIGESTION)                      0   \n",
        "8             AGAR AGAR FLAKES (HAND HARVESTED) - WILD                      0   \n",
        "9                      AGAVE SYRUP ( ORGANIC ) / 473ML  Suzanne's Specialties   \n",
        "10            ALL PURPOSE BAKING FLOUR ( GLUTEN FREE )                    NGS   \n",
        "11     ALL PURPOSE BAKING FLOUR ( GLUTEN FREE ) / 623G         Bob's Red Mill   \n",
        "12              ALL PURPOSE BAKING FLOUR (GLUTEN FREE)                      0   \n",
        "13              ALL PURPOSE BAKING FLOUR (GLUTEN FREE)                      0   \n",
        "14    ALMOND BISCUITS (GLUTEN FREE - TRACES OF GLUTEN)                      0   \n",
        "15                          ALMOND BREAD (GLUTEN FREE)                      0   \n",
        "16                                       ALMOND BUTTER                      0   \n",
        "17                           ALMOND BUTTER (HOME-MADE)              Signature   \n",
        "18                             ALMOND BUTTER (NATURAL)                      0   \n",
        "19                                   ALMOND MEAL FLOUR                      0   \n",
        "20                             ALMOND MILK ( ORGANIC )                  Alpro   \n",
        "21                     ALMOND MILK ( ORGANIC ) / 946ML  Pacific Natural Foods   \n",
        "22                       ALMOND MILK ( ORGANIC ) 946ML                      0   \n",
        "23                            ALMOND MILK ( ORIGINAL )                    NGS   \n",
        "24                  ALMOND MILK (ORGANIC) - SUGAR-FREE                      0   \n",
        "25                           ALMOND MILK (UNSWEETENED)                      0   \n",
        "26                     ALMOND MILK WITH DARK CHOCOLATE            Pure almond   \n",
        "27                            ALMOND MILK WITH VANILLA            Pure almond   \n",
        "28                          ALMOND ORIGINAL (ORIGINAL)                      0   \n",
        "29                        ALMOND'S AND OATS BODY SCRUB                      0   \n",
        "...                                                ...                    ...   \n",
        "1837                         XANTHAN GUM (GLUTEN FREE)                      0   \n",
        "1838                                  YAKI NORI SHEETS                    NGS   \n",
        "1839                                     YELLOW APPLES                    NGS   \n",
        "1840                                   YELLOW BROCCOLI                    NGS   \n",
        "1841                 YELLOW CAPSICUM ( CHEMICAL FREE )                    NGS   \n",
        "1842                   YELLOW CARROT ( CHEMICAL FREE )                      0   \n",
        "1843                   YELLOW CARROT ( CHEMICAL FREE )                    NGS   \n",
        "1844                                    YELLOW CARROTS                    NGS   \n",
        "1845                            YELLOW CHERRY TOMATOES             Kheir Misr   \n",
        "1846                                 YELLOW GRAPEFRUIT                      0   \n",
        "1847                                 YELLOW GRAPEFRUIT                    NGS   \n",
        "1848                                    YELLOW MUSTARD       Eden Foods, Inc.   \n",
        "1849                   YELLOW ONIONS ( CHEMICAL FREE )                    NGS   \n",
        "1850                          YELLOW SPLIT PEAS / 822G         Bob's Red Mill   \n",
        "1851                                 YELLOW WATERMELON                    NGS   \n",
        "1852                        YING/YANG FACIAL ACNE SOAP                      0   \n",
        "1853                               YOUSSFI (TANGERINE)                    NGS   \n",
        "1854                      ZARDA EXTRA VIRGIN OLIVE OIL                    NGS   \n",
        "1855                                          ZUCCHINI             Kheir Misr   \n",
        "1856                                          ZUCCHINI                    NGS   \n",
        "1857                                          ZUCCHINI                    NGS   \n",
        "1858                        ZUCCHINI ( CHEMICAL FREE )                      0   \n",
        "1859                        ZUCCHINI ( CHEMICAL FREE )                    NGS   \n",
        "1860                          ZUCCHINI (CHEMICAL FREE)                      0   \n",
        "1861                          ZUCCHINI (CHEMICAL FREE)                      0   \n",
        "1862                                ZUCCHINI (ORGANIC)                      0   \n",
        "1863                                   ZUCCHINI / 500G                    NGS   \n",
        "1864                                  ZUCCHINI FLOWERS                    NGS   \n",
        "1865                  ZUCCHINI FLOWERS (CHEMICAL FREE)                      0   \n",
        "1866    ZUCCHINI JAM WITH PISTACHIO & MASTIC (NATURAL)                      0   \n",
        "\n",
        "                          Type  May 2012  Jun 2012  Jul 2012  Aug 2012  \\\n",
        "0                         Milk         0         0      0.00      0.00   \n",
        "1                    Beverages         0         0      0.00      0.00   \n",
        "2                       Juices         0         0      0.00      0.00   \n",
        "3                    Cosmetics         0         0      0.00      0.00   \n",
        "4                    Beverages         0         0      0.00      0.00   \n",
        "5                    Beverages         0         0      0.00      0.00   \n",
        "6                    Beverages         0         0      0.00      0.00   \n",
        "7                       cheese         0         0      0.00      0.00   \n",
        "8             Food supplements         0         0      0.00      0.00   \n",
        "9                   Sweeteners         0         0      0.00      0.00   \n",
        "10                       Flour         0         0      0.00      0.00   \n",
        "11                       Flour         0         0      0.00      0.00   \n",
        "12             Baking products         0         0      0.00      0.00   \n",
        "13                     General         0         0      0.00      0.00   \n",
        "14                      Snacks         0         0      0.00      0.00   \n",
        "15                       Bread         0         0      0.00      0.00   \n",
        "16                  Nut butter         0         0      0.00      0.00   \n",
        "17                     spreads         0         0      0.00      0.00   \n",
        "18                  Nut butter         0         0      0.00      0.00   \n",
        "19             Baking products         0         0      0.00      0.00   \n",
        "20              Non-dairy milk         0         0      0.00      0.00   \n",
        "21              Non-dairy milk         0         0      0.00      0.00   \n",
        "22              Non-dairy milk         0         0      0.00      0.00   \n",
        "23              Non-dairy milk         0         0      0.00      0.00   \n",
        "24              Non-dairy milk         0         0      0.00      0.00   \n",
        "25              Non-dairy milk         0         0      0.00      0.00   \n",
        "26              Non-dairy milk         0         0      0.00      0.00   \n",
        "27              Non-dairy milk         0         0      0.00      0.00   \n",
        "28              Non-dairy milk         0         0      0.00      0.00   \n",
        "29                   Cosmetics         0         0      0.00      0.00   \n",
        "...                        ...       ...       ...       ...       ...   \n",
        "1837           Baking products         0         0      0.00      0.00   \n",
        "1838          Japanese cuisine         0         0      0.00      0.00   \n",
        "1839                    Fruits         0         0      0.00      0.00   \n",
        "1840          Fresh vegetables         0         0      0.00      0.00   \n",
        "1841  Chemical free vegetables         0         0      0.00      0.00   \n",
        "1842                Vegetables         0         0      0.00      0.00   \n",
        "1843          Fresh vegetables         0         0      0.00      0.00   \n",
        "1844          Fresh vegetables         0         0      0.00      0.00   \n",
        "1845          Fresh vegetables         0         0      0.00      0.00   \n",
        "1846              Fresh fruits         0         0      0.00      0.00   \n",
        "1847                    Fruits         0         0      0.00      0.00   \n",
        "1848                    Spices         0         0      0.00      0.00   \n",
        "1849          Fresh vegetables         0         0      0.00      0.00   \n",
        "1850                    Grains         0         0      0.00      0.00   \n",
        "1851                    Fruits         0         0      0.00      0.00   \n",
        "1852                 Cosmetics         0         0      0.00      0.00   \n",
        "1853                    Fruits         0         0      0.00      0.00   \n",
        "1854           Oil & Vinegar           0         0      0.00      0.00   \n",
        "1855          Fresh vegetables         0         0      0.00      0.00   \n",
        "1856          Fresh vegetables         0         0      0.00      0.00   \n",
        "1857                   General         0         0      0.00      0.00   \n",
        "1858                Vegetables         0         0      0.00      0.00   \n",
        "1859          Fresh vegetables         0         0      0.00      0.00   \n",
        "1860  Chemical free vegetables         0         0      0.00      0.00   \n",
        "1861                Vegetables         0         0      0.00      0.00   \n",
        "1862                Vegetables         0         0      0.00      0.00   \n",
        "1863             Fresh Produce         0         0     30.78     27.36   \n",
        "1864          Fresh vegetables         0         0      0.00      0.00   \n",
        "1865                Vegetables         0         0      0.00      0.00   \n",
        "1866                       Jam         0         0      0.00      0.00   \n",
        "\n",
        "      Sep 2012  Oct 2012  Nov 2012      ...       May 2015  Jun 2015  \\\n",
        "0         0.00       0.0      0.00      ...           0.00         0   \n",
        "1         0.00       0.0      0.00      ...           0.00         0   \n",
        "2         0.00       0.0      0.00      ...           0.00         0   \n",
        "3         0.00       0.0      0.00      ...           0.00         0   \n",
        "4         0.00       0.0      0.00      ...           0.00         0   \n",
        "5         0.00       0.0      0.00      ...           0.00         0   \n",
        "6         0.00       0.0      0.00      ...           0.00         0   \n",
        "7         0.00       0.0      0.00      ...           0.00         0   \n",
        "8         0.00       0.0      0.00      ...          86.00         0   \n",
        "9         0.00       0.0      0.00      ...           0.00         0   \n",
        "10        0.00       0.0      0.00      ...           0.00         0   \n",
        "11        0.00       0.0      0.00      ...           0.00         0   \n",
        "12        0.00       0.0      0.00      ...           0.00         0   \n",
        "13        0.00       0.0      0.00      ...          43.75       516   \n",
        "14        0.00       0.0      0.00      ...          18.00         0   \n",
        "15        0.00       0.0      0.00      ...           0.00         0   \n",
        "16        0.00       0.0      0.00      ...           0.00         0   \n",
        "17        0.00       0.0      0.00      ...           0.00         0   \n",
        "18        0.00       0.0      0.00      ...           0.00         0   \n",
        "19        0.00       0.0      0.00      ...         504.00         0   \n",
        "20        0.00       0.0      0.00      ...           0.00         0   \n",
        "21        0.00       0.0      0.00      ...           0.00         0   \n",
        "22        0.00       0.0      0.00      ...         102.00         0   \n",
        "23        0.00       0.0      0.00      ...           0.00         0   \n",
        "24        0.00       0.0      0.00      ...           0.00         0   \n",
        "25        0.00       0.0      0.00      ...           0.00         0   \n",
        "26        0.00       0.0      0.00      ...           0.00         0   \n",
        "27        0.00       0.0      0.00      ...           0.00         0   \n",
        "28        0.00       0.0      0.00      ...           0.00         0   \n",
        "29        0.00       0.0      0.00      ...           0.00         0   \n",
        "...        ...       ...       ...      ...            ...       ...   \n",
        "1837      0.00       0.0      0.00      ...           0.00         0   \n",
        "1838      0.00       0.0      0.00      ...           0.00         0   \n",
        "1839      0.00       0.0      0.00      ...           0.00       130   \n",
        "1840      0.00       0.0      0.00      ...           0.00         0   \n",
        "1841      0.00       0.0      0.00      ...           0.00         0   \n",
        "1842      0.00       0.0      0.00      ...        1098.00       210   \n",
        "1843      0.00       0.0      0.00      ...           0.00         0   \n",
        "1844      0.00       0.0      0.00      ...           0.00         0   \n",
        "1845      0.00       0.0      0.00      ...           0.00         0   \n",
        "1846      0.00       0.0      0.00      ...           0.00         0   \n",
        "1847      0.00       0.0      0.00      ...         218.00        58   \n",
        "1848      0.00       0.0      0.00      ...           0.00         0   \n",
        "1849      0.00       0.0      0.00      ...           0.00         0   \n",
        "1850      0.00       0.0      0.00      ...           0.00         0   \n",
        "1851      0.00       0.0      0.00      ...           0.00         0   \n",
        "1852      0.00       0.0      0.00      ...           0.00         0   \n",
        "1853      0.00       0.0      0.00      ...           0.00         0   \n",
        "1854      0.00       0.0      0.00      ...           0.00         0   \n",
        "1855      0.00       0.0      0.00      ...           0.00         0   \n",
        "1856      0.00       0.0      0.00      ...           0.00         0   \n",
        "1857      0.00       0.0      0.00      ...           0.00         0   \n",
        "1858      0.00       0.0      0.00      ...           0.00         0   \n",
        "1859      0.00       0.0      0.00      ...           0.00         0   \n",
        "1860      0.00       0.0      0.00      ...           0.00         0   \n",
        "1861      0.00       0.0      0.00      ...         766.60       210   \n",
        "1862      0.00       0.0      0.00      ...           0.00       244   \n",
        "1863     23.94      34.2     78.66      ...           0.00         0   \n",
        "1864      0.00       0.0      0.00      ...           0.00         0   \n",
        "1865      0.00       0.0      0.00      ...          19.00       157   \n",
        "1866      0.00       0.0      0.00      ...           0.00         0   \n",
        "\n",
        "      Jul 2015     Aug 2015  Sep 2015     Oct 2015     Nov 2015     Dec 2015  \\\n",
        "0          0.0     0.000000       0.0     0.000000     0.000000     0.000000   \n",
        "1          0.0     0.000000       0.0     0.000000     0.000000    60.000000   \n",
        "2          0.0     0.000000       0.0     0.000000     0.000000     0.000000   \n",
        "3          0.0     0.000000       0.0     0.000000     0.000000     0.000000   \n",
        "4          0.0     0.000000       0.0     0.000000     0.000000     0.000000   \n",
        "5          0.0     0.000000       0.0     0.000000     0.000000     0.000000   \n",
        "6          0.0     0.000000       0.0     0.000000     0.000000     0.000000   \n",
        "7          0.0    68.000000     204.0    68.000000     0.000000     0.000000   \n",
        "8        172.0    86.000000       0.0    86.000000     0.000000   258.000000   \n",
        "9          0.0     0.000000       0.0     0.000000     0.000000     0.000000   \n",
        "10         0.0     0.000000       0.0     0.000000     0.000000     0.000000   \n",
        "11         0.0     0.000000       0.0     0.000000     0.000000     0.000000   \n",
        "12       696.0  1747.200000    1046.4   192.000000     0.000000   495.000000   \n",
        "13         0.0     0.000000      48.0   528.000000   240.000000     0.000000   \n",
        "14         0.0     0.000000       0.0     0.000000     0.000000     0.000000   \n",
        "15         0.0     0.000000     180.0     0.000000     0.000000     0.000000   \n",
        "16        65.0  1046.000000     715.0  1683.722222  1755.000000  2648.345747   \n",
        "17         0.0     0.000000       0.0     0.000000     0.000000     0.000000   \n",
        "18         0.0   130.000000     325.0   715.000000   780.000000   650.000000   \n",
        "19      1161.6  3168.000000    2296.8  1716.000000  3892.412286   -15.575221   \n",
        "20         0.0     0.000000       0.0     0.000000     0.000000     0.000000   \n",
        "21         0.0     0.000000       0.0     0.000000     0.000000     0.000000   \n",
        "22         0.0     0.000000       0.0     0.000000     0.000000     0.000000   \n",
        "23         0.0     0.000000       0.0     0.000000     0.000000     0.000000   \n",
        "24         0.0     0.000000       0.0     0.000000  2521.720515  2530.000000   \n",
        "25         0.0     0.000000       0.0     0.000000     0.000000     0.000000   \n",
        "26         0.0     0.000000       0.0     0.000000     0.000000     0.000000   \n",
        "27         0.0     0.000000       0.0     0.000000     0.000000     0.000000   \n",
        "28         0.0     0.000000       0.0     0.000000     0.000000     0.000000   \n",
        "29         0.0     0.000000       0.0     0.000000     0.000000     0.000000   \n",
        "...        ...          ...       ...          ...          ...          ...   \n",
        "1837       0.0   660.000000     264.0   396.000000  1596.000000     0.000000   \n",
        "1838       0.0     0.000000       0.0     0.000000     0.000000     0.000000   \n",
        "1839      78.0   156.000000     305.0   413.408990   504.000000    75.400000   \n",
        "1840       0.0     0.000000       0.0     0.000000     0.000000     0.000000   \n",
        "1841       0.0     0.000000       0.0     0.000000     0.000000     0.000000   \n",
        "1842       0.0    30.000000       0.0     0.000000     0.000000     0.000000   \n",
        "1843       0.0     0.000000       0.0     0.000000     0.000000     0.000000   \n",
        "1844       0.0     0.000000       0.0     0.000000     0.000000     0.000000   \n",
        "1845       0.0     0.000000       0.0     0.000000     0.000000     0.000000   \n",
        "1846       0.0     0.000000       0.0     0.000000     0.000000     0.000000   \n",
        "1847      84.0   140.846479      99.0    87.755294    41.899052     9.000000   \n",
        "1848       0.0     0.000000       0.0     0.000000    69.189577    49.505758   \n",
        "1849       0.0     0.000000       0.0     0.000000     0.000000     0.000000   \n",
        "1850       0.0     0.000000       0.0     0.000000     0.000000     0.000000   \n",
        "1851       0.0    65.000000      65.0     0.000000     0.000000     0.000000   \n",
        "1852       0.0     0.000000       0.0     0.000000     0.000000     0.000000   \n",
        "1853       0.0     0.000000       0.0     0.000000    25.000000     0.000000   \n",
        "1854       0.0     0.000000       0.0     0.000000     0.000000     0.000000   \n",
        "1855       0.0     0.000000       0.0     0.000000     0.000000     0.000000   \n",
        "1856       0.0     0.000000       0.0     0.000000     0.000000     0.000000   \n",
        "1857       0.0     0.000000       0.0     0.000000    69.871046     0.000000   \n",
        "1858       0.0     0.000000       0.0     0.000000     0.000000     0.000000   \n",
        "1859       0.0     0.000000       0.0     0.000000     0.000000     0.000000   \n",
        "1860       0.0     0.000000       0.0     0.000000     0.000000     0.000000   \n",
        "1861       7.5   150.000000     330.0   318.076923   695.681924   212.509227   \n",
        "1862     403.2   342.794118      56.0   280.000000     0.000000   181.734738   \n",
        "1863       0.0     0.000000       0.0     0.000000     0.000000     0.000000   \n",
        "1864       0.0     0.000000       0.0     0.000000     0.000000     0.000000   \n",
        "1865      44.0     0.000000       0.0     0.000000     0.000000     0.000000   \n",
        "1866       0.0     0.000000     200.0     0.000000     0.000000     0.000000   \n",
        "\n",
        "           Revenue  Gross Profit  \n",
        "0      1492.900000    271.900000  \n",
        "1        60.000000     12.000000  \n",
        "2       308.000000     78.000000  \n",
        "3       110.000000     22.000000  \n",
        "4        10.000000     10.000000  \n",
        "5         6.500000      6.500000  \n",
        "6         9.000000      9.000000  \n",
        "7       340.000000     80.000000  \n",
        "8       688.000000    178.000000  \n",
        "9       647.100000     80.100000  \n",
        "10      300.000000     60.000000  \n",
        "11     4648.480000    904.180000  \n",
        "12     4176.600000    805.350000  \n",
        "13     1375.750000    266.250000  \n",
        "14       54.000000     54.000000  \n",
        "15      180.000000     45.000000  \n",
        "16     7913.067970   1517.067970  \n",
        "17     4380.000000    584.000000  \n",
        "18     2600.000000    520.000000  \n",
        "19    12723.237064   2630.467064  \n",
        "20      211.500000     44.520000  \n",
        "21     9418.840000   1695.440000  \n",
        "22      102.000000     25.200000  \n",
        "23     1128.400000    216.400000  \n",
        "24     5051.720515    221.720515  \n",
        "25      608.000000    152.000000  \n",
        "26       57.000000     11.440000  \n",
        "27      114.000000     24.160000  \n",
        "28      512.000000    128.000000  \n",
        "29       70.000000     14.000000  \n",
        "...            ...           ...  \n",
        "1837   2916.000000    501.000000  \n",
        "1838     66.500000     13.300000  \n",
        "1839   1661.808990    451.818990  \n",
        "1840     67.040000     67.040000  \n",
        "1841     47.000000     10.250000  \n",
        "1842   1352.000000    531.860000  \n",
        "1843   4177.000000   1050.000000  \n",
        "1844   1064.050000    119.820000  \n",
        "1845    208.640000     44.210000  \n",
        "1846     74.000000     20.200000  \n",
        "1847    738.500825    266.350825  \n",
        "1848    118.695335     24.945335  \n",
        "1849     60.000000     16.620000  \n",
        "1850    255.500000     35.000000  \n",
        "1851    130.000000     47.500000  \n",
        "1852     55.000000     11.000000  \n",
        "1853     25.000000      7.500000  \n",
        "1854     51.500000     10.250000  \n",
        "1855   1394.760000    228.990000  \n",
        "1856      5.000000      1.250000  \n",
        "1857     69.871046     34.471046  \n",
        "1858     55.000000     55.000000  \n",
        "1859   2934.750000    807.050000  \n",
        "1860    193.330000     44.580000  \n",
        "1861   2690.368074    887.868074  \n",
        "1862   1507.728855    572.728855  \n",
        "1863    198.360000     45.820000  \n",
        "1864    266.000000     56.000000  \n",
        "1865    220.000000     70.000000  \n",
        "1866    200.000000     50.000000  \n",
        "\n",
        "[1867 rows x 49 columns]"
       ]
      }
     ],
     "prompt_number": 5
    },
    {
     "cell_type": "code",
     "collapsed": false,
     "input": [
      "for i in range(0,max(df.index)+1):\n",
      "    for j in range(3,len(df.columns)-1):\n",
      "        #To get the first non zero revenue month\n",
      "        if(df.iloc[i,j]!=0):\n",
      "            t=1\n",
      "            break\n",
      "    #TO get the total no of months        \n",
      "    n=len(df.columns)-1-j\n",
      "    m=n**(-1)\n",
      "    y=df.loc[i, 'Revenue']/df.iloc[i,j]\n",
      "    df.loc[i,'CMGR']=(pow(y,m)-1)*100\n",
      "    df.loc[i,'Period'] = n\n",
      "df"
     ],
     "language": "python",
     "metadata": {},
     "outputs": [
      {
       "output_type": "stream",
       "stream": "stderr",
       "text": [
        "C:\\Users\\saisree849\\AppData\\Local\\Enthought\\Canopy\\User\\lib\\site-packages\\pandas\\core\\indexing.py:245: SettingWithCopyWarning: \n",
        "A value is trying to be set on a copy of a slice from a DataFrame.\n",
        "Try using .loc[row_indexer,col_indexer] = value instead\n",
        "\n",
        "See the the caveats in the documentation: http://pandas.pydata.org/pandas-docs/stable/indexing.html#indexing-view-versus-copy\n",
        "  self.obj[key] = np.nan\n",
        "C:\\Users\\saisree849\\AppData\\Local\\Enthought\\Canopy\\User\\lib\\site-packages\\pandas\\core\\indexing.py:415: SettingWithCopyWarning: \n",
        "A value is trying to be set on a copy of a slice from a DataFrame.\n",
        "Try using .loc[row_indexer,col_indexer] = value instead\n",
        "\n",
        "See the the caveats in the documentation: http://pandas.pydata.org/pandas-docs/stable/indexing.html#indexing-view-versus-copy\n",
        "  self.obj[item] = s\n"
       ]
      },
      {
       "html": [
        "<div style=\"max-height:1000px;max-width:1500px;overflow:auto;\">\n",
        "<table border=\"1\" class=\"dataframe\">\n",
        "  <thead>\n",
        "    <tr style=\"text-align: right;\">\n",
        "      <th></th>\n",
        "      <th>Product</th>\n",
        "      <th>Brand</th>\n",
        "      <th>Type</th>\n",
        "      <th>May 2012</th>\n",
        "      <th>Jun 2012</th>\n",
        "      <th>Jul 2012</th>\n",
        "      <th>Aug 2012</th>\n",
        "      <th>Sep 2012</th>\n",
        "      <th>Oct 2012</th>\n",
        "      <th>Nov 2012</th>\n",
        "      <th>...</th>\n",
        "      <th>Jul 2015</th>\n",
        "      <th>Aug 2015</th>\n",
        "      <th>Sep 2015</th>\n",
        "      <th>Oct 2015</th>\n",
        "      <th>Nov 2015</th>\n",
        "      <th>Dec 2015</th>\n",
        "      <th>Revenue</th>\n",
        "      <th>Gross Profit</th>\n",
        "      <th>CMGR</th>\n",
        "      <th>Period</th>\n",
        "    </tr>\n",
        "  </thead>\n",
        "  <tbody>\n",
        "    <tr>\n",
        "      <th>0   </th>\n",
        "      <td>                             7 GRAIN MILK / 946ML</td>\n",
        "      <td> Pacific Natural Foods</td>\n",
        "      <td>                     Milk</td>\n",
        "      <td> 0</td>\n",
        "      <td> 0</td>\n",
        "      <td>  0.00</td>\n",
        "      <td>  0.00</td>\n",
        "      <td>  0.00</td>\n",
        "      <td>  0.0</td>\n",
        "      <td>  0.00</td>\n",
        "      <td>...</td>\n",
        "      <td>    0.0</td>\n",
        "      <td>    0.000000</td>\n",
        "      <td>    0.0</td>\n",
        "      <td>    0.000000</td>\n",
        "      <td>    0.000000</td>\n",
        "      <td>    0.000000</td>\n",
        "      <td>  1492.900000</td>\n",
        "      <td>  271.900000</td>\n",
        "      <td> 10.650578</td>\n",
        "      <td> 38</td>\n",
        "    </tr>\n",
        "    <tr>\n",
        "      <th>1   </th>\n",
        "      <td>                                 ACAI BERRY JUICE</td>\n",
        "      <td>                     0</td>\n",
        "      <td>                Beverages</td>\n",
        "      <td> 0</td>\n",
        "      <td> 0</td>\n",
        "      <td>  0.00</td>\n",
        "      <td>  0.00</td>\n",
        "      <td>  0.00</td>\n",
        "      <td>  0.0</td>\n",
        "      <td>  0.00</td>\n",
        "      <td>...</td>\n",
        "      <td>    0.0</td>\n",
        "      <td>    0.000000</td>\n",
        "      <td>    0.0</td>\n",
        "      <td>    0.000000</td>\n",
        "      <td>    0.000000</td>\n",
        "      <td>   60.000000</td>\n",
        "      <td>    60.000000</td>\n",
        "      <td>   12.000000</td>\n",
        "      <td>  0.000000</td>\n",
        "      <td>  4</td>\n",
        "    </tr>\n",
        "    <tr>\n",
        "      <th>2   </th>\n",
        "      <td>                                 ACAI BERRY JUICE</td>\n",
        "      <td>         Berry company</td>\n",
        "      <td>                   Juices</td>\n",
        "      <td> 0</td>\n",
        "      <td> 0</td>\n",
        "      <td>  0.00</td>\n",
        "      <td>  0.00</td>\n",
        "      <td>  0.00</td>\n",
        "      <td>  0.0</td>\n",
        "      <td>  0.00</td>\n",
        "      <td>...</td>\n",
        "      <td>    0.0</td>\n",
        "      <td>    0.000000</td>\n",
        "      <td>    0.0</td>\n",
        "      <td>    0.000000</td>\n",
        "      <td>    0.000000</td>\n",
        "      <td>    0.000000</td>\n",
        "      <td>   308.000000</td>\n",
        "      <td>   78.000000</td>\n",
        "      <td>  9.232890</td>\n",
        "      <td> 26</td>\n",
        "    </tr>\n",
        "    <tr>\n",
        "      <th>3   </th>\n",
        "      <td>                                 ACNE FACIAL SOAP</td>\n",
        "      <td>         Healing Herbs</td>\n",
        "      <td>                Cosmetics</td>\n",
        "      <td> 0</td>\n",
        "      <td> 0</td>\n",
        "      <td>  0.00</td>\n",
        "      <td>  0.00</td>\n",
        "      <td>  0.00</td>\n",
        "      <td>  0.0</td>\n",
        "      <td>  0.00</td>\n",
        "      <td>...</td>\n",
        "      <td>    0.0</td>\n",
        "      <td>    0.000000</td>\n",
        "      <td>    0.0</td>\n",
        "      <td>    0.000000</td>\n",
        "      <td>    0.000000</td>\n",
        "      <td>    0.000000</td>\n",
        "      <td>   110.000000</td>\n",
        "      <td>   22.000000</td>\n",
        "      <td>  3.355778</td>\n",
        "      <td> 21</td>\n",
        "    </tr>\n",
        "    <tr>\n",
        "      <th>4   </th>\n",
        "      <td>                          ACQUA PANA WATER 1000ML</td>\n",
        "      <td>                   NGS</td>\n",
        "      <td>                Beverages</td>\n",
        "      <td> 0</td>\n",
        "      <td> 0</td>\n",
        "      <td>  0.00</td>\n",
        "      <td>  0.00</td>\n",
        "      <td>  0.00</td>\n",
        "      <td>  0.0</td>\n",
        "      <td>  0.00</td>\n",
        "      <td>...</td>\n",
        "      <td>    0.0</td>\n",
        "      <td>    0.000000</td>\n",
        "      <td>    0.0</td>\n",
        "      <td>    0.000000</td>\n",
        "      <td>    0.000000</td>\n",
        "      <td>    0.000000</td>\n",
        "      <td>    10.000000</td>\n",
        "      <td>   10.000000</td>\n",
        "      <td>  0.000000</td>\n",
        "      <td> 24</td>\n",
        "    </tr>\n",
        "    <tr>\n",
        "      <th>5   </th>\n",
        "      <td>                           ACQUA PANA WATER 500ML</td>\n",
        "      <td>                   NGS</td>\n",
        "      <td>                Beverages</td>\n",
        "      <td> 0</td>\n",
        "      <td> 0</td>\n",
        "      <td>  0.00</td>\n",
        "      <td>  0.00</td>\n",
        "      <td>  0.00</td>\n",
        "      <td>  0.0</td>\n",
        "      <td>  0.00</td>\n",
        "      <td>...</td>\n",
        "      <td>    0.0</td>\n",
        "      <td>    0.000000</td>\n",
        "      <td>    0.0</td>\n",
        "      <td>    0.000000</td>\n",
        "      <td>    0.000000</td>\n",
        "      <td>    0.000000</td>\n",
        "      <td>     6.500000</td>\n",
        "      <td>    6.500000</td>\n",
        "      <td>  0.000000</td>\n",
        "      <td> 24</td>\n",
        "    </tr>\n",
        "    <tr>\n",
        "      <th>6   </th>\n",
        "      <td>                     ACQUA PANA WATER 500ML GLASS</td>\n",
        "      <td>                   NGS</td>\n",
        "      <td>                Beverages</td>\n",
        "      <td> 0</td>\n",
        "      <td> 0</td>\n",
        "      <td>  0.00</td>\n",
        "      <td>  0.00</td>\n",
        "      <td>  0.00</td>\n",
        "      <td>  0.0</td>\n",
        "      <td>  0.00</td>\n",
        "      <td>...</td>\n",
        "      <td>    0.0</td>\n",
        "      <td>    0.000000</td>\n",
        "      <td>    0.0</td>\n",
        "      <td>    0.000000</td>\n",
        "      <td>    0.000000</td>\n",
        "      <td>    0.000000</td>\n",
        "      <td>     9.000000</td>\n",
        "      <td>    9.000000</td>\n",
        "      <td>  0.000000</td>\n",
        "      <td> 24</td>\n",
        "    </tr>\n",
        "    <tr>\n",
        "      <th>7   </th>\n",
        "      <td>            ACTIBIF CHEESE (FOR BETTER DIGESTION)</td>\n",
        "      <td>                     0</td>\n",
        "      <td>                   cheese</td>\n",
        "      <td> 0</td>\n",
        "      <td> 0</td>\n",
        "      <td>  0.00</td>\n",
        "      <td>  0.00</td>\n",
        "      <td>  0.00</td>\n",
        "      <td>  0.0</td>\n",
        "      <td>  0.00</td>\n",
        "      <td>...</td>\n",
        "      <td>    0.0</td>\n",
        "      <td>   68.000000</td>\n",
        "      <td>  204.0</td>\n",
        "      <td>   68.000000</td>\n",
        "      <td>    0.000000</td>\n",
        "      <td>    0.000000</td>\n",
        "      <td>   340.000000</td>\n",
        "      <td>   80.000000</td>\n",
        "      <td> 22.284454</td>\n",
        "      <td>  8</td>\n",
        "    </tr>\n",
        "    <tr>\n",
        "      <th>8   </th>\n",
        "      <td>         AGAR AGAR FLAKES (HAND HARVESTED) - WILD</td>\n",
        "      <td>                     0</td>\n",
        "      <td>         Food supplements</td>\n",
        "      <td> 0</td>\n",
        "      <td> 0</td>\n",
        "      <td>  0.00</td>\n",
        "      <td>  0.00</td>\n",
        "      <td>  0.00</td>\n",
        "      <td>  0.0</td>\n",
        "      <td>  0.00</td>\n",
        "      <td>...</td>\n",
        "      <td>  172.0</td>\n",
        "      <td>   86.000000</td>\n",
        "      <td>    0.0</td>\n",
        "      <td>   86.000000</td>\n",
        "      <td>    0.000000</td>\n",
        "      <td>  258.000000</td>\n",
        "      <td>   688.000000</td>\n",
        "      <td>  178.000000</td>\n",
        "      <td> 20.808944</td>\n",
        "      <td> 11</td>\n",
        "    </tr>\n",
        "    <tr>\n",
        "      <th>9   </th>\n",
        "      <td>                  AGAVE SYRUP ( ORGANIC ) / 473ML</td>\n",
        "      <td> Suzanne's Specialties</td>\n",
        "      <td>               Sweeteners</td>\n",
        "      <td> 0</td>\n",
        "      <td> 0</td>\n",
        "      <td>  0.00</td>\n",
        "      <td>  0.00</td>\n",
        "      <td>  0.00</td>\n",
        "      <td>  0.0</td>\n",
        "      <td>  0.00</td>\n",
        "      <td>...</td>\n",
        "      <td>    0.0</td>\n",
        "      <td>    0.000000</td>\n",
        "      <td>    0.0</td>\n",
        "      <td>    0.000000</td>\n",
        "      <td>    0.000000</td>\n",
        "      <td>    0.000000</td>\n",
        "      <td>   647.100000</td>\n",
        "      <td>   80.100000</td>\n",
        "      <td>  5.795637</td>\n",
        "      <td> 39</td>\n",
        "    </tr>\n",
        "    <tr>\n",
        "      <th>10  </th>\n",
        "      <td>         ALL PURPOSE BAKING FLOUR ( GLUTEN FREE )</td>\n",
        "      <td>                   NGS</td>\n",
        "      <td>                    Flour</td>\n",
        "      <td> 0</td>\n",
        "      <td> 0</td>\n",
        "      <td>  0.00</td>\n",
        "      <td>  0.00</td>\n",
        "      <td>  0.00</td>\n",
        "      <td>  0.0</td>\n",
        "      <td>  0.00</td>\n",
        "      <td>...</td>\n",
        "      <td>    0.0</td>\n",
        "      <td>    0.000000</td>\n",
        "      <td>    0.0</td>\n",
        "      <td>    0.000000</td>\n",
        "      <td>    0.000000</td>\n",
        "      <td>    0.000000</td>\n",
        "      <td>   300.000000</td>\n",
        "      <td>   60.000000</td>\n",
        "      <td> 10.582302</td>\n",
        "      <td> 16</td>\n",
        "    </tr>\n",
        "    <tr>\n",
        "      <th>11  </th>\n",
        "      <td>  ALL PURPOSE BAKING FLOUR ( GLUTEN FREE ) / 623G</td>\n",
        "      <td>        Bob's Red Mill</td>\n",
        "      <td>                    Flour</td>\n",
        "      <td> 0</td>\n",
        "      <td> 0</td>\n",
        "      <td>  0.00</td>\n",
        "      <td>  0.00</td>\n",
        "      <td>  0.00</td>\n",
        "      <td>  0.0</td>\n",
        "      <td>  0.00</td>\n",
        "      <td>...</td>\n",
        "      <td>    0.0</td>\n",
        "      <td>    0.000000</td>\n",
        "      <td>    0.0</td>\n",
        "      <td>    0.000000</td>\n",
        "      <td>    0.000000</td>\n",
        "      <td>    0.000000</td>\n",
        "      <td>  4648.480000</td>\n",
        "      <td>  904.180000</td>\n",
        "      <td> 12.200928</td>\n",
        "      <td> 40</td>\n",
        "    </tr>\n",
        "    <tr>\n",
        "      <th>12  </th>\n",
        "      <td>           ALL PURPOSE BAKING FLOUR (GLUTEN FREE)</td>\n",
        "      <td>                     0</td>\n",
        "      <td>          Baking products</td>\n",
        "      <td> 0</td>\n",
        "      <td> 0</td>\n",
        "      <td>  0.00</td>\n",
        "      <td>  0.00</td>\n",
        "      <td>  0.00</td>\n",
        "      <td>  0.0</td>\n",
        "      <td>  0.00</td>\n",
        "      <td>...</td>\n",
        "      <td>  696.0</td>\n",
        "      <td> 1747.200000</td>\n",
        "      <td> 1046.4</td>\n",
        "      <td>  192.000000</td>\n",
        "      <td>    0.000000</td>\n",
        "      <td>  495.000000</td>\n",
        "      <td>  4176.600000</td>\n",
        "      <td>  805.350000</td>\n",
        "      <td> 22.030442</td>\n",
        "      <td>  9</td>\n",
        "    </tr>\n",
        "    <tr>\n",
        "      <th>13  </th>\n",
        "      <td>           ALL PURPOSE BAKING FLOUR (GLUTEN FREE)</td>\n",
        "      <td>                     0</td>\n",
        "      <td>                  General</td>\n",
        "      <td> 0</td>\n",
        "      <td> 0</td>\n",
        "      <td>  0.00</td>\n",
        "      <td>  0.00</td>\n",
        "      <td>  0.00</td>\n",
        "      <td>  0.0</td>\n",
        "      <td>  0.00</td>\n",
        "      <td>...</td>\n",
        "      <td>    0.0</td>\n",
        "      <td>    0.000000</td>\n",
        "      <td>   48.0</td>\n",
        "      <td>  528.000000</td>\n",
        "      <td>  240.000000</td>\n",
        "      <td>    0.000000</td>\n",
        "      <td>  1375.750000</td>\n",
        "      <td>  266.250000</td>\n",
        "      <td> 36.817595</td>\n",
        "      <td> 11</td>\n",
        "    </tr>\n",
        "    <tr>\n",
        "      <th>14  </th>\n",
        "      <td> ALMOND BISCUITS (GLUTEN FREE - TRACES OF GLUTEN)</td>\n",
        "      <td>                     0</td>\n",
        "      <td>                   Snacks</td>\n",
        "      <td> 0</td>\n",
        "      <td> 0</td>\n",
        "      <td>  0.00</td>\n",
        "      <td>  0.00</td>\n",
        "      <td>  0.00</td>\n",
        "      <td>  0.0</td>\n",
        "      <td>  0.00</td>\n",
        "      <td>...</td>\n",
        "      <td>    0.0</td>\n",
        "      <td>    0.000000</td>\n",
        "      <td>    0.0</td>\n",
        "      <td>    0.000000</td>\n",
        "      <td>    0.000000</td>\n",
        "      <td>    0.000000</td>\n",
        "      <td>    54.000000</td>\n",
        "      <td>   54.000000</td>\n",
        "      <td>  3.436608</td>\n",
        "      <td> 12</td>\n",
        "    </tr>\n",
        "    <tr>\n",
        "      <th>15  </th>\n",
        "      <td>                       ALMOND BREAD (GLUTEN FREE)</td>\n",
        "      <td>                     0</td>\n",
        "      <td>                    Bread</td>\n",
        "      <td> 0</td>\n",
        "      <td> 0</td>\n",
        "      <td>  0.00</td>\n",
        "      <td>  0.00</td>\n",
        "      <td>  0.00</td>\n",
        "      <td>  0.0</td>\n",
        "      <td>  0.00</td>\n",
        "      <td>...</td>\n",
        "      <td>    0.0</td>\n",
        "      <td>    0.000000</td>\n",
        "      <td>  180.0</td>\n",
        "      <td>    0.000000</td>\n",
        "      <td>    0.000000</td>\n",
        "      <td>    0.000000</td>\n",
        "      <td>   180.000000</td>\n",
        "      <td>   45.000000</td>\n",
        "      <td>  0.000000</td>\n",
        "      <td>  7</td>\n",
        "    </tr>\n",
        "    <tr>\n",
        "      <th>16  </th>\n",
        "      <td>                                    ALMOND BUTTER</td>\n",
        "      <td>                     0</td>\n",
        "      <td>               Nut butter</td>\n",
        "      <td> 0</td>\n",
        "      <td> 0</td>\n",
        "      <td>  0.00</td>\n",
        "      <td>  0.00</td>\n",
        "      <td>  0.00</td>\n",
        "      <td>  0.0</td>\n",
        "      <td>  0.00</td>\n",
        "      <td>...</td>\n",
        "      <td>   65.0</td>\n",
        "      <td> 1046.000000</td>\n",
        "      <td>  715.0</td>\n",
        "      <td> 1683.722222</td>\n",
        "      <td> 1755.000000</td>\n",
        "      <td> 2648.345747</td>\n",
        "      <td>  7913.067970</td>\n",
        "      <td> 1517.067970</td>\n",
        "      <td> 70.496165</td>\n",
        "      <td>  9</td>\n",
        "    </tr>\n",
        "    <tr>\n",
        "      <th>17  </th>\n",
        "      <td>                        ALMOND BUTTER (HOME-MADE)</td>\n",
        "      <td>             Signature</td>\n",
        "      <td>                  spreads</td>\n",
        "      <td> 0</td>\n",
        "      <td> 0</td>\n",
        "      <td>  0.00</td>\n",
        "      <td>  0.00</td>\n",
        "      <td>  0.00</td>\n",
        "      <td>  0.0</td>\n",
        "      <td>  0.00</td>\n",
        "      <td>...</td>\n",
        "      <td>    0.0</td>\n",
        "      <td>    0.000000</td>\n",
        "      <td>    0.0</td>\n",
        "      <td>    0.000000</td>\n",
        "      <td>    0.000000</td>\n",
        "      <td>    0.000000</td>\n",
        "      <td>  4380.000000</td>\n",
        "      <td>  584.000000</td>\n",
        "      <td> 21.533637</td>\n",
        "      <td> 22</td>\n",
        "    </tr>\n",
        "    <tr>\n",
        "      <th>18  </th>\n",
        "      <td>                          ALMOND BUTTER (NATURAL)</td>\n",
        "      <td>                     0</td>\n",
        "      <td>               Nut butter</td>\n",
        "      <td> 0</td>\n",
        "      <td> 0</td>\n",
        "      <td>  0.00</td>\n",
        "      <td>  0.00</td>\n",
        "      <td>  0.00</td>\n",
        "      <td>  0.0</td>\n",
        "      <td>  0.00</td>\n",
        "      <td>...</td>\n",
        "      <td>    0.0</td>\n",
        "      <td>  130.000000</td>\n",
        "      <td>  325.0</td>\n",
        "      <td>  715.000000</td>\n",
        "      <td>  780.000000</td>\n",
        "      <td>  650.000000</td>\n",
        "      <td>  2600.000000</td>\n",
        "      <td>  520.000000</td>\n",
        "      <td> 45.421543</td>\n",
        "      <td>  8</td>\n",
        "    </tr>\n",
        "    <tr>\n",
        "      <th>19  </th>\n",
        "      <td>                                ALMOND MEAL FLOUR</td>\n",
        "      <td>                     0</td>\n",
        "      <td>          Baking products</td>\n",
        "      <td> 0</td>\n",
        "      <td> 0</td>\n",
        "      <td>  0.00</td>\n",
        "      <td>  0.00</td>\n",
        "      <td>  0.00</td>\n",
        "      <td>  0.0</td>\n",
        "      <td>  0.00</td>\n",
        "      <td>...</td>\n",
        "      <td> 1161.6</td>\n",
        "      <td> 3168.000000</td>\n",
        "      <td> 2296.8</td>\n",
        "      <td> 1716.000000</td>\n",
        "      <td> 3892.412286</td>\n",
        "      <td>  -15.575221</td>\n",
        "      <td> 12723.237064</td>\n",
        "      <td> 2630.467064</td>\n",
        "      <td> 34.112647</td>\n",
        "      <td> 11</td>\n",
        "    </tr>\n",
        "    <tr>\n",
        "      <th>20  </th>\n",
        "      <td>                          ALMOND MILK ( ORGANIC )</td>\n",
        "      <td>                 Alpro</td>\n",
        "      <td>           Non-dairy milk</td>\n",
        "      <td> 0</td>\n",
        "      <td> 0</td>\n",
        "      <td>  0.00</td>\n",
        "      <td>  0.00</td>\n",
        "      <td>  0.00</td>\n",
        "      <td>  0.0</td>\n",
        "      <td>  0.00</td>\n",
        "      <td>...</td>\n",
        "      <td>    0.0</td>\n",
        "      <td>    0.000000</td>\n",
        "      <td>    0.0</td>\n",
        "      <td>    0.000000</td>\n",
        "      <td>    0.000000</td>\n",
        "      <td>    0.000000</td>\n",
        "      <td>   211.500000</td>\n",
        "      <td>   44.520000</td>\n",
        "      <td>  2.266912</td>\n",
        "      <td> 24</td>\n",
        "    </tr>\n",
        "    <tr>\n",
        "      <th>21  </th>\n",
        "      <td>                  ALMOND MILK ( ORGANIC ) / 946ML</td>\n",
        "      <td> Pacific Natural Foods</td>\n",
        "      <td>           Non-dairy milk</td>\n",
        "      <td> 0</td>\n",
        "      <td> 0</td>\n",
        "      <td>  0.00</td>\n",
        "      <td>  0.00</td>\n",
        "      <td>  0.00</td>\n",
        "      <td>  0.0</td>\n",
        "      <td>  0.00</td>\n",
        "      <td>...</td>\n",
        "      <td>    0.0</td>\n",
        "      <td>    0.000000</td>\n",
        "      <td>    0.0</td>\n",
        "      <td>    0.000000</td>\n",
        "      <td>    0.000000</td>\n",
        "      <td>    0.000000</td>\n",
        "      <td>  9418.840000</td>\n",
        "      <td> 1695.440000</td>\n",
        "      <td> 12.157194</td>\n",
        "      <td> 40</td>\n",
        "    </tr>\n",
        "    <tr>\n",
        "      <th>22  </th>\n",
        "      <td>                    ALMOND MILK ( ORGANIC ) 946ML</td>\n",
        "      <td>                     0</td>\n",
        "      <td>           Non-dairy milk</td>\n",
        "      <td> 0</td>\n",
        "      <td> 0</td>\n",
        "      <td>  0.00</td>\n",
        "      <td>  0.00</td>\n",
        "      <td>  0.00</td>\n",
        "      <td>  0.0</td>\n",
        "      <td>  0.00</td>\n",
        "      <td>...</td>\n",
        "      <td>    0.0</td>\n",
        "      <td>    0.000000</td>\n",
        "      <td>    0.0</td>\n",
        "      <td>    0.000000</td>\n",
        "      <td>    0.000000</td>\n",
        "      <td>    0.000000</td>\n",
        "      <td>   102.000000</td>\n",
        "      <td>   25.200000</td>\n",
        "      <td>  0.000000</td>\n",
        "      <td> 11</td>\n",
        "    </tr>\n",
        "    <tr>\n",
        "      <th>23  </th>\n",
        "      <td>                         ALMOND MILK ( ORIGINAL )</td>\n",
        "      <td>                   NGS</td>\n",
        "      <td>           Non-dairy milk</td>\n",
        "      <td> 0</td>\n",
        "      <td> 0</td>\n",
        "      <td>  0.00</td>\n",
        "      <td>  0.00</td>\n",
        "      <td>  0.00</td>\n",
        "      <td>  0.0</td>\n",
        "      <td>  0.00</td>\n",
        "      <td>...</td>\n",
        "      <td>    0.0</td>\n",
        "      <td>    0.000000</td>\n",
        "      <td>    0.0</td>\n",
        "      <td>    0.000000</td>\n",
        "      <td>    0.000000</td>\n",
        "      <td>    0.000000</td>\n",
        "      <td>  1128.400000</td>\n",
        "      <td>  216.400000</td>\n",
        "      <td>  8.046970</td>\n",
        "      <td> 20</td>\n",
        "    </tr>\n",
        "    <tr>\n",
        "      <th>24  </th>\n",
        "      <td>               ALMOND MILK (ORGANIC) - SUGAR-FREE</td>\n",
        "      <td>                     0</td>\n",
        "      <td>           Non-dairy milk</td>\n",
        "      <td> 0</td>\n",
        "      <td> 0</td>\n",
        "      <td>  0.00</td>\n",
        "      <td>  0.00</td>\n",
        "      <td>  0.00</td>\n",
        "      <td>  0.0</td>\n",
        "      <td>  0.00</td>\n",
        "      <td>...</td>\n",
        "      <td>    0.0</td>\n",
        "      <td>    0.000000</td>\n",
        "      <td>    0.0</td>\n",
        "      <td>    0.000000</td>\n",
        "      <td> 2521.720515</td>\n",
        "      <td> 2530.000000</td>\n",
        "      <td>  5051.720515</td>\n",
        "      <td>  221.720515</td>\n",
        "      <td> 14.907526</td>\n",
        "      <td>  5</td>\n",
        "    </tr>\n",
        "    <tr>\n",
        "      <th>25  </th>\n",
        "      <td>                        ALMOND MILK (UNSWEETENED)</td>\n",
        "      <td>                     0</td>\n",
        "      <td>           Non-dairy milk</td>\n",
        "      <td> 0</td>\n",
        "      <td> 0</td>\n",
        "      <td>  0.00</td>\n",
        "      <td>  0.00</td>\n",
        "      <td>  0.00</td>\n",
        "      <td>  0.0</td>\n",
        "      <td>  0.00</td>\n",
        "      <td>...</td>\n",
        "      <td>    0.0</td>\n",
        "      <td>    0.000000</td>\n",
        "      <td>    0.0</td>\n",
        "      <td>    0.000000</td>\n",
        "      <td>    0.000000</td>\n",
        "      <td>    0.000000</td>\n",
        "      <td>   608.000000</td>\n",
        "      <td>  152.000000</td>\n",
        "      <td>  0.000000</td>\n",
        "      <td> 16</td>\n",
        "    </tr>\n",
        "    <tr>\n",
        "      <th>26  </th>\n",
        "      <td>                  ALMOND MILK WITH DARK CHOCOLATE</td>\n",
        "      <td>           Pure almond</td>\n",
        "      <td>           Non-dairy milk</td>\n",
        "      <td> 0</td>\n",
        "      <td> 0</td>\n",
        "      <td>  0.00</td>\n",
        "      <td>  0.00</td>\n",
        "      <td>  0.00</td>\n",
        "      <td>  0.0</td>\n",
        "      <td>  0.00</td>\n",
        "      <td>...</td>\n",
        "      <td>    0.0</td>\n",
        "      <td>    0.000000</td>\n",
        "      <td>    0.0</td>\n",
        "      <td>    0.000000</td>\n",
        "      <td>    0.000000</td>\n",
        "      <td>    0.000000</td>\n",
        "      <td>    57.000000</td>\n",
        "      <td>   11.440000</td>\n",
        "      <td>  0.000000</td>\n",
        "      <td> 24</td>\n",
        "    </tr>\n",
        "    <tr>\n",
        "      <th>27  </th>\n",
        "      <td>                         ALMOND MILK WITH VANILLA</td>\n",
        "      <td>           Pure almond</td>\n",
        "      <td>           Non-dairy milk</td>\n",
        "      <td> 0</td>\n",
        "      <td> 0</td>\n",
        "      <td>  0.00</td>\n",
        "      <td>  0.00</td>\n",
        "      <td>  0.00</td>\n",
        "      <td>  0.0</td>\n",
        "      <td>  0.00</td>\n",
        "      <td>...</td>\n",
        "      <td>    0.0</td>\n",
        "      <td>    0.000000</td>\n",
        "      <td>    0.0</td>\n",
        "      <td>    0.000000</td>\n",
        "      <td>    0.000000</td>\n",
        "      <td>    0.000000</td>\n",
        "      <td>   114.000000</td>\n",
        "      <td>   24.160000</td>\n",
        "      <td>  5.946309</td>\n",
        "      <td> 24</td>\n",
        "    </tr>\n",
        "    <tr>\n",
        "      <th>28  </th>\n",
        "      <td>                       ALMOND ORIGINAL (ORIGINAL)</td>\n",
        "      <td>                     0</td>\n",
        "      <td>           Non-dairy milk</td>\n",
        "      <td> 0</td>\n",
        "      <td> 0</td>\n",
        "      <td>  0.00</td>\n",
        "      <td>  0.00</td>\n",
        "      <td>  0.00</td>\n",
        "      <td>  0.0</td>\n",
        "      <td>  0.00</td>\n",
        "      <td>...</td>\n",
        "      <td>    0.0</td>\n",
        "      <td>    0.000000</td>\n",
        "      <td>    0.0</td>\n",
        "      <td>    0.000000</td>\n",
        "      <td>    0.000000</td>\n",
        "      <td>    0.000000</td>\n",
        "      <td>   512.000000</td>\n",
        "      <td>  128.000000</td>\n",
        "      <td> 13.011578</td>\n",
        "      <td> 17</td>\n",
        "    </tr>\n",
        "    <tr>\n",
        "      <th>29  </th>\n",
        "      <td>                     ALMOND'S AND OATS BODY SCRUB</td>\n",
        "      <td>                     0</td>\n",
        "      <td>                Cosmetics</td>\n",
        "      <td> 0</td>\n",
        "      <td> 0</td>\n",
        "      <td>  0.00</td>\n",
        "      <td>  0.00</td>\n",
        "      <td>  0.00</td>\n",
        "      <td>  0.0</td>\n",
        "      <td>  0.00</td>\n",
        "      <td>...</td>\n",
        "      <td>    0.0</td>\n",
        "      <td>    0.000000</td>\n",
        "      <td>    0.0</td>\n",
        "      <td>    0.000000</td>\n",
        "      <td>    0.000000</td>\n",
        "      <td>    0.000000</td>\n",
        "      <td>    70.000000</td>\n",
        "      <td>   14.000000</td>\n",
        "      <td>  0.000000</td>\n",
        "      <td> 18</td>\n",
        "    </tr>\n",
        "    <tr>\n",
        "      <th>...</th>\n",
        "      <td>...</td>\n",
        "      <td>...</td>\n",
        "      <td>...</td>\n",
        "      <td>...</td>\n",
        "      <td>...</td>\n",
        "      <td>...</td>\n",
        "      <td>...</td>\n",
        "      <td>...</td>\n",
        "      <td>...</td>\n",
        "      <td>...</td>\n",
        "      <td>...</td>\n",
        "      <td>...</td>\n",
        "      <td>...</td>\n",
        "      <td>...</td>\n",
        "      <td>...</td>\n",
        "      <td>...</td>\n",
        "      <td>...</td>\n",
        "      <td>...</td>\n",
        "      <td>...</td>\n",
        "      <td>...</td>\n",
        "      <td>...</td>\n",
        "    </tr>\n",
        "    <tr>\n",
        "      <th>1837</th>\n",
        "      <td>                        XANTHAN GUM (GLUTEN FREE)</td>\n",
        "      <td>                     0</td>\n",
        "      <td>          Baking products</td>\n",
        "      <td> 0</td>\n",
        "      <td> 0</td>\n",
        "      <td>  0.00</td>\n",
        "      <td>  0.00</td>\n",
        "      <td>  0.00</td>\n",
        "      <td>  0.0</td>\n",
        "      <td>  0.00</td>\n",
        "      <td>...</td>\n",
        "      <td>    0.0</td>\n",
        "      <td>  660.000000</td>\n",
        "      <td>  264.0</td>\n",
        "      <td>  396.000000</td>\n",
        "      <td> 1596.000000</td>\n",
        "      <td>    0.000000</td>\n",
        "      <td>  2916.000000</td>\n",
        "      <td>  501.000000</td>\n",
        "      <td> 20.408029</td>\n",
        "      <td>  8</td>\n",
        "    </tr>\n",
        "    <tr>\n",
        "      <th>1838</th>\n",
        "      <td>                                 YAKI NORI SHEETS</td>\n",
        "      <td>                   NGS</td>\n",
        "      <td>         Japanese cuisine</td>\n",
        "      <td> 0</td>\n",
        "      <td> 0</td>\n",
        "      <td>  0.00</td>\n",
        "      <td>  0.00</td>\n",
        "      <td>  0.00</td>\n",
        "      <td>  0.0</td>\n",
        "      <td>  0.00</td>\n",
        "      <td>...</td>\n",
        "      <td>    0.0</td>\n",
        "      <td>    0.000000</td>\n",
        "      <td>    0.0</td>\n",
        "      <td>    0.000000</td>\n",
        "      <td>    0.000000</td>\n",
        "      <td>    0.000000</td>\n",
        "      <td>    66.500000</td>\n",
        "      <td>   13.300000</td>\n",
        "      <td>  0.000000</td>\n",
        "      <td> 24</td>\n",
        "    </tr>\n",
        "    <tr>\n",
        "      <th>1839</th>\n",
        "      <td>                                    YELLOW APPLES</td>\n",
        "      <td>                   NGS</td>\n",
        "      <td>                   Fruits</td>\n",
        "      <td> 0</td>\n",
        "      <td> 0</td>\n",
        "      <td>  0.00</td>\n",
        "      <td>  0.00</td>\n",
        "      <td>  0.00</td>\n",
        "      <td>  0.0</td>\n",
        "      <td>  0.00</td>\n",
        "      <td>...</td>\n",
        "      <td>   78.0</td>\n",
        "      <td>  156.000000</td>\n",
        "      <td>  305.0</td>\n",
        "      <td>  413.408990</td>\n",
        "      <td>  504.000000</td>\n",
        "      <td>   75.400000</td>\n",
        "      <td>  1661.808990</td>\n",
        "      <td>  451.818990</td>\n",
        "      <td> 29.022002</td>\n",
        "      <td> 10</td>\n",
        "    </tr>\n",
        "    <tr>\n",
        "      <th>1840</th>\n",
        "      <td>                                  YELLOW BROCCOLI</td>\n",
        "      <td>                   NGS</td>\n",
        "      <td>         Fresh vegetables</td>\n",
        "      <td> 0</td>\n",
        "      <td> 0</td>\n",
        "      <td>  0.00</td>\n",
        "      <td>  0.00</td>\n",
        "      <td>  0.00</td>\n",
        "      <td>  0.0</td>\n",
        "      <td>  0.00</td>\n",
        "      <td>...</td>\n",
        "      <td>    0.0</td>\n",
        "      <td>    0.000000</td>\n",
        "      <td>    0.0</td>\n",
        "      <td>    0.000000</td>\n",
        "      <td>    0.000000</td>\n",
        "      <td>    0.000000</td>\n",
        "      <td>    67.040000</td>\n",
        "      <td>   67.040000</td>\n",
        "      <td>  1.793188</td>\n",
        "      <td> 39</td>\n",
        "    </tr>\n",
        "    <tr>\n",
        "      <th>1841</th>\n",
        "      <td>                YELLOW CAPSICUM ( CHEMICAL FREE )</td>\n",
        "      <td>                   NGS</td>\n",
        "      <td> Chemical free vegetables</td>\n",
        "      <td> 0</td>\n",
        "      <td> 0</td>\n",
        "      <td>  0.00</td>\n",
        "      <td>  0.00</td>\n",
        "      <td>  0.00</td>\n",
        "      <td>  0.0</td>\n",
        "      <td>  0.00</td>\n",
        "      <td>...</td>\n",
        "      <td>    0.0</td>\n",
        "      <td>    0.000000</td>\n",
        "      <td>    0.0</td>\n",
        "      <td>    0.000000</td>\n",
        "      <td>    0.000000</td>\n",
        "      <td>    0.000000</td>\n",
        "      <td>    47.000000</td>\n",
        "      <td>   10.250000</td>\n",
        "      <td>  4.537148</td>\n",
        "      <td> 25</td>\n",
        "    </tr>\n",
        "    <tr>\n",
        "      <th>1842</th>\n",
        "      <td>                  YELLOW CARROT ( CHEMICAL FREE )</td>\n",
        "      <td>                     0</td>\n",
        "      <td>               Vegetables</td>\n",
        "      <td> 0</td>\n",
        "      <td> 0</td>\n",
        "      <td>  0.00</td>\n",
        "      <td>  0.00</td>\n",
        "      <td>  0.00</td>\n",
        "      <td>  0.0</td>\n",
        "      <td>  0.00</td>\n",
        "      <td>...</td>\n",
        "      <td>    0.0</td>\n",
        "      <td>   30.000000</td>\n",
        "      <td>    0.0</td>\n",
        "      <td>    0.000000</td>\n",
        "      <td>    0.000000</td>\n",
        "      <td>    0.000000</td>\n",
        "      <td>  1352.000000</td>\n",
        "      <td>  531.860000</td>\n",
        "      <td> 46.353817</td>\n",
        "      <td> 12</td>\n",
        "    </tr>\n",
        "    <tr>\n",
        "      <th>1843</th>\n",
        "      <td>                  YELLOW CARROT ( CHEMICAL FREE )</td>\n",
        "      <td>                   NGS</td>\n",
        "      <td>         Fresh vegetables</td>\n",
        "      <td> 0</td>\n",
        "      <td> 0</td>\n",
        "      <td>  0.00</td>\n",
        "      <td>  0.00</td>\n",
        "      <td>  0.00</td>\n",
        "      <td>  0.0</td>\n",
        "      <td>  0.00</td>\n",
        "      <td>...</td>\n",
        "      <td>    0.0</td>\n",
        "      <td>    0.000000</td>\n",
        "      <td>    0.0</td>\n",
        "      <td>    0.000000</td>\n",
        "      <td>    0.000000</td>\n",
        "      <td>    0.000000</td>\n",
        "      <td>  4177.000000</td>\n",
        "      <td> 1050.000000</td>\n",
        "      <td> 14.790381</td>\n",
        "      <td> 23</td>\n",
        "    </tr>\n",
        "    <tr>\n",
        "      <th>1844</th>\n",
        "      <td>                                   YELLOW CARROTS</td>\n",
        "      <td>                   NGS</td>\n",
        "      <td>         Fresh vegetables</td>\n",
        "      <td> 0</td>\n",
        "      <td> 0</td>\n",
        "      <td>  0.00</td>\n",
        "      <td>  0.00</td>\n",
        "      <td>  0.00</td>\n",
        "      <td>  0.0</td>\n",
        "      <td>  0.00</td>\n",
        "      <td>...</td>\n",
        "      <td>    0.0</td>\n",
        "      <td>    0.000000</td>\n",
        "      <td>    0.0</td>\n",
        "      <td>    0.000000</td>\n",
        "      <td>    0.000000</td>\n",
        "      <td>    0.000000</td>\n",
        "      <td>  1064.050000</td>\n",
        "      <td>  119.820000</td>\n",
        "      <td> 12.365277</td>\n",
        "      <td> 39</td>\n",
        "    </tr>\n",
        "    <tr>\n",
        "      <th>1845</th>\n",
        "      <td>                           YELLOW CHERRY TOMATOES</td>\n",
        "      <td>            Kheir Misr</td>\n",
        "      <td>         Fresh vegetables</td>\n",
        "      <td> 0</td>\n",
        "      <td> 0</td>\n",
        "      <td>  0.00</td>\n",
        "      <td>  0.00</td>\n",
        "      <td>  0.00</td>\n",
        "      <td>  0.0</td>\n",
        "      <td>  0.00</td>\n",
        "      <td>...</td>\n",
        "      <td>    0.0</td>\n",
        "      <td>    0.000000</td>\n",
        "      <td>    0.0</td>\n",
        "      <td>    0.000000</td>\n",
        "      <td>    0.000000</td>\n",
        "      <td>    0.000000</td>\n",
        "      <td>   208.640000</td>\n",
        "      <td>   44.210000</td>\n",
        "      <td>  7.402517</td>\n",
        "      <td> 40</td>\n",
        "    </tr>\n",
        "    <tr>\n",
        "      <th>1846</th>\n",
        "      <td>                                YELLOW GRAPEFRUIT</td>\n",
        "      <td>                     0</td>\n",
        "      <td>             Fresh fruits</td>\n",
        "      <td> 0</td>\n",
        "      <td> 0</td>\n",
        "      <td>  0.00</td>\n",
        "      <td>  0.00</td>\n",
        "      <td>  0.00</td>\n",
        "      <td>  0.0</td>\n",
        "      <td>  0.00</td>\n",
        "      <td>...</td>\n",
        "      <td>    0.0</td>\n",
        "      <td>    0.000000</td>\n",
        "      <td>    0.0</td>\n",
        "      <td>    0.000000</td>\n",
        "      <td>    0.000000</td>\n",
        "      <td>    0.000000</td>\n",
        "      <td>    74.000000</td>\n",
        "      <td>   20.200000</td>\n",
        "      <td>  8.005974</td>\n",
        "      <td> 18</td>\n",
        "    </tr>\n",
        "    <tr>\n",
        "      <th>1847</th>\n",
        "      <td>                                YELLOW GRAPEFRUIT</td>\n",
        "      <td>                   NGS</td>\n",
        "      <td>                   Fruits</td>\n",
        "      <td> 0</td>\n",
        "      <td> 0</td>\n",
        "      <td>  0.00</td>\n",
        "      <td>  0.00</td>\n",
        "      <td>  0.00</td>\n",
        "      <td>  0.0</td>\n",
        "      <td>  0.00</td>\n",
        "      <td>...</td>\n",
        "      <td>   84.0</td>\n",
        "      <td>  140.846479</td>\n",
        "      <td>   99.0</td>\n",
        "      <td>   87.755294</td>\n",
        "      <td>   41.899052</td>\n",
        "      <td>    9.000000</td>\n",
        "      <td>   738.500825</td>\n",
        "      <td>  266.350825</td>\n",
        "      <td> 11.730625</td>\n",
        "      <td> 11</td>\n",
        "    </tr>\n",
        "    <tr>\n",
        "      <th>1848</th>\n",
        "      <td>                                   YELLOW MUSTARD</td>\n",
        "      <td>      Eden Foods, Inc.</td>\n",
        "      <td>                   Spices</td>\n",
        "      <td> 0</td>\n",
        "      <td> 0</td>\n",
        "      <td>  0.00</td>\n",
        "      <td>  0.00</td>\n",
        "      <td>  0.00</td>\n",
        "      <td>  0.0</td>\n",
        "      <td>  0.00</td>\n",
        "      <td>...</td>\n",
        "      <td>    0.0</td>\n",
        "      <td>    0.000000</td>\n",
        "      <td>    0.0</td>\n",
        "      <td>    0.000000</td>\n",
        "      <td>   69.189577</td>\n",
        "      <td>   49.505758</td>\n",
        "      <td>   118.695335</td>\n",
        "      <td>   24.945335</td>\n",
        "      <td> 11.398308</td>\n",
        "      <td>  5</td>\n",
        "    </tr>\n",
        "    <tr>\n",
        "      <th>1849</th>\n",
        "      <td>                  YELLOW ONIONS ( CHEMICAL FREE )</td>\n",
        "      <td>                   NGS</td>\n",
        "      <td>         Fresh vegetables</td>\n",
        "      <td> 0</td>\n",
        "      <td> 0</td>\n",
        "      <td>  0.00</td>\n",
        "      <td>  0.00</td>\n",
        "      <td>  0.00</td>\n",
        "      <td>  0.0</td>\n",
        "      <td>  0.00</td>\n",
        "      <td>...</td>\n",
        "      <td>    0.0</td>\n",
        "      <td>    0.000000</td>\n",
        "      <td>    0.0</td>\n",
        "      <td>    0.000000</td>\n",
        "      <td>    0.000000</td>\n",
        "      <td>    0.000000</td>\n",
        "      <td>    60.000000</td>\n",
        "      <td>   16.620000</td>\n",
        "      <td>  0.964206</td>\n",
        "      <td> 19</td>\n",
        "    </tr>\n",
        "    <tr>\n",
        "      <th>1850</th>\n",
        "      <td>                         YELLOW SPLIT PEAS / 822G</td>\n",
        "      <td>        Bob's Red Mill</td>\n",
        "      <td>                   Grains</td>\n",
        "      <td> 0</td>\n",
        "      <td> 0</td>\n",
        "      <td>  0.00</td>\n",
        "      <td>  0.00</td>\n",
        "      <td>  0.00</td>\n",
        "      <td>  0.0</td>\n",
        "      <td>  0.00</td>\n",
        "      <td>...</td>\n",
        "      <td>    0.0</td>\n",
        "      <td>    0.000000</td>\n",
        "      <td>    0.0</td>\n",
        "      <td>    0.000000</td>\n",
        "      <td>    0.000000</td>\n",
        "      <td>    0.000000</td>\n",
        "      <td>   255.500000</td>\n",
        "      <td>   35.000000</td>\n",
        "      <td>  3.264361</td>\n",
        "      <td> 39</td>\n",
        "    </tr>\n",
        "    <tr>\n",
        "      <th>1851</th>\n",
        "      <td>                                YELLOW WATERMELON</td>\n",
        "      <td>                   NGS</td>\n",
        "      <td>                   Fruits</td>\n",
        "      <td> 0</td>\n",
        "      <td> 0</td>\n",
        "      <td>  0.00</td>\n",
        "      <td>  0.00</td>\n",
        "      <td>  0.00</td>\n",
        "      <td>  0.0</td>\n",
        "      <td>  0.00</td>\n",
        "      <td>...</td>\n",
        "      <td>    0.0</td>\n",
        "      <td>   65.000000</td>\n",
        "      <td>   65.0</td>\n",
        "      <td>    0.000000</td>\n",
        "      <td>    0.000000</td>\n",
        "      <td>    0.000000</td>\n",
        "      <td>   130.000000</td>\n",
        "      <td>   47.500000</td>\n",
        "      <td>  9.050773</td>\n",
        "      <td>  8</td>\n",
        "    </tr>\n",
        "    <tr>\n",
        "      <th>1852</th>\n",
        "      <td>                       YING/YANG FACIAL ACNE SOAP</td>\n",
        "      <td>                     0</td>\n",
        "      <td>                Cosmetics</td>\n",
        "      <td> 0</td>\n",
        "      <td> 0</td>\n",
        "      <td>  0.00</td>\n",
        "      <td>  0.00</td>\n",
        "      <td>  0.00</td>\n",
        "      <td>  0.0</td>\n",
        "      <td>  0.00</td>\n",
        "      <td>...</td>\n",
        "      <td>    0.0</td>\n",
        "      <td>    0.000000</td>\n",
        "      <td>    0.0</td>\n",
        "      <td>    0.000000</td>\n",
        "      <td>    0.000000</td>\n",
        "      <td>    0.000000</td>\n",
        "      <td>    55.000000</td>\n",
        "      <td>   11.000000</td>\n",
        "      <td>  0.000000</td>\n",
        "      <td> 17</td>\n",
        "    </tr>\n",
        "    <tr>\n",
        "      <th>1853</th>\n",
        "      <td>                              YOUSSFI (TANGERINE)</td>\n",
        "      <td>                   NGS</td>\n",
        "      <td>                   Fruits</td>\n",
        "      <td> 0</td>\n",
        "      <td> 0</td>\n",
        "      <td>  0.00</td>\n",
        "      <td>  0.00</td>\n",
        "      <td>  0.00</td>\n",
        "      <td>  0.0</td>\n",
        "      <td>  0.00</td>\n",
        "      <td>...</td>\n",
        "      <td>    0.0</td>\n",
        "      <td>    0.000000</td>\n",
        "      <td>    0.0</td>\n",
        "      <td>    0.000000</td>\n",
        "      <td>   25.000000</td>\n",
        "      <td>    0.000000</td>\n",
        "      <td>    25.000000</td>\n",
        "      <td>    7.500000</td>\n",
        "      <td>  0.000000</td>\n",
        "      <td>  5</td>\n",
        "    </tr>\n",
        "    <tr>\n",
        "      <th>1854</th>\n",
        "      <td>                     ZARDA EXTRA VIRGIN OLIVE OIL</td>\n",
        "      <td>                   NGS</td>\n",
        "      <td>          Oil &amp; Vinegar  </td>\n",
        "      <td> 0</td>\n",
        "      <td> 0</td>\n",
        "      <td>  0.00</td>\n",
        "      <td>  0.00</td>\n",
        "      <td>  0.00</td>\n",
        "      <td>  0.0</td>\n",
        "      <td>  0.00</td>\n",
        "      <td>...</td>\n",
        "      <td>    0.0</td>\n",
        "      <td>    0.000000</td>\n",
        "      <td>    0.0</td>\n",
        "      <td>    0.000000</td>\n",
        "      <td>    0.000000</td>\n",
        "      <td>    0.000000</td>\n",
        "      <td>    51.500000</td>\n",
        "      <td>   10.250000</td>\n",
        "      <td>  0.000000</td>\n",
        "      <td> 24</td>\n",
        "    </tr>\n",
        "    <tr>\n",
        "      <th>1855</th>\n",
        "      <td>                                         ZUCCHINI</td>\n",
        "      <td>            Kheir Misr</td>\n",
        "      <td>         Fresh vegetables</td>\n",
        "      <td> 0</td>\n",
        "      <td> 0</td>\n",
        "      <td>  0.00</td>\n",
        "      <td>  0.00</td>\n",
        "      <td>  0.00</td>\n",
        "      <td>  0.0</td>\n",
        "      <td>  0.00</td>\n",
        "      <td>...</td>\n",
        "      <td>    0.0</td>\n",
        "      <td>    0.000000</td>\n",
        "      <td>    0.0</td>\n",
        "      <td>    0.000000</td>\n",
        "      <td>    0.000000</td>\n",
        "      <td>    0.000000</td>\n",
        "      <td>  1394.760000</td>\n",
        "      <td>  228.990000</td>\n",
        "      <td> 11.888222</td>\n",
        "      <td> 40</td>\n",
        "    </tr>\n",
        "    <tr>\n",
        "      <th>1856</th>\n",
        "      <td>                                         ZUCCHINI</td>\n",
        "      <td>                   NGS</td>\n",
        "      <td>         Fresh vegetables</td>\n",
        "      <td> 0</td>\n",
        "      <td> 0</td>\n",
        "      <td>  0.00</td>\n",
        "      <td>  0.00</td>\n",
        "      <td>  0.00</td>\n",
        "      <td>  0.0</td>\n",
        "      <td>  0.00</td>\n",
        "      <td>...</td>\n",
        "      <td>    0.0</td>\n",
        "      <td>    0.000000</td>\n",
        "      <td>    0.0</td>\n",
        "      <td>    0.000000</td>\n",
        "      <td>    0.000000</td>\n",
        "      <td>    0.000000</td>\n",
        "      <td>     5.000000</td>\n",
        "      <td>    1.250000</td>\n",
        "      <td>  0.000000</td>\n",
        "      <td> 23</td>\n",
        "    </tr>\n",
        "    <tr>\n",
        "      <th>1857</th>\n",
        "      <td>                                         ZUCCHINI</td>\n",
        "      <td>                   NGS</td>\n",
        "      <td>                  General</td>\n",
        "      <td> 0</td>\n",
        "      <td> 0</td>\n",
        "      <td>  0.00</td>\n",
        "      <td>  0.00</td>\n",
        "      <td>  0.00</td>\n",
        "      <td>  0.0</td>\n",
        "      <td>  0.00</td>\n",
        "      <td>...</td>\n",
        "      <td>    0.0</td>\n",
        "      <td>    0.000000</td>\n",
        "      <td>    0.0</td>\n",
        "      <td>    0.000000</td>\n",
        "      <td>   69.871046</td>\n",
        "      <td>    0.000000</td>\n",
        "      <td>    69.871046</td>\n",
        "      <td>   34.471046</td>\n",
        "      <td>  0.000000</td>\n",
        "      <td>  5</td>\n",
        "    </tr>\n",
        "    <tr>\n",
        "      <th>1858</th>\n",
        "      <td>                       ZUCCHINI ( CHEMICAL FREE )</td>\n",
        "      <td>                     0</td>\n",
        "      <td>               Vegetables</td>\n",
        "      <td> 0</td>\n",
        "      <td> 0</td>\n",
        "      <td>  0.00</td>\n",
        "      <td>  0.00</td>\n",
        "      <td>  0.00</td>\n",
        "      <td>  0.0</td>\n",
        "      <td>  0.00</td>\n",
        "      <td>...</td>\n",
        "      <td>    0.0</td>\n",
        "      <td>    0.000000</td>\n",
        "      <td>    0.0</td>\n",
        "      <td>    0.000000</td>\n",
        "      <td>    0.000000</td>\n",
        "      <td>    0.000000</td>\n",
        "      <td>    55.000000</td>\n",
        "      <td>   55.000000</td>\n",
        "      <td>  0.000000</td>\n",
        "      <td> 12</td>\n",
        "    </tr>\n",
        "    <tr>\n",
        "      <th>1859</th>\n",
        "      <td>                       ZUCCHINI ( CHEMICAL FREE )</td>\n",
        "      <td>                   NGS</td>\n",
        "      <td>         Fresh vegetables</td>\n",
        "      <td> 0</td>\n",
        "      <td> 0</td>\n",
        "      <td>  0.00</td>\n",
        "      <td>  0.00</td>\n",
        "      <td>  0.00</td>\n",
        "      <td>  0.0</td>\n",
        "      <td>  0.00</td>\n",
        "      <td>...</td>\n",
        "      <td>    0.0</td>\n",
        "      <td>    0.000000</td>\n",
        "      <td>    0.0</td>\n",
        "      <td>    0.000000</td>\n",
        "      <td>    0.000000</td>\n",
        "      <td>    0.000000</td>\n",
        "      <td>  2934.750000</td>\n",
        "      <td>  807.050000</td>\n",
        "      <td> 24.206725</td>\n",
        "      <td> 25</td>\n",
        "    </tr>\n",
        "    <tr>\n",
        "      <th>1860</th>\n",
        "      <td>                         ZUCCHINI (CHEMICAL FREE)</td>\n",
        "      <td>                     0</td>\n",
        "      <td> Chemical free vegetables</td>\n",
        "      <td> 0</td>\n",
        "      <td> 0</td>\n",
        "      <td>  0.00</td>\n",
        "      <td>  0.00</td>\n",
        "      <td>  0.00</td>\n",
        "      <td>  0.0</td>\n",
        "      <td>  0.00</td>\n",
        "      <td>...</td>\n",
        "      <td>    0.0</td>\n",
        "      <td>    0.000000</td>\n",
        "      <td>    0.0</td>\n",
        "      <td>    0.000000</td>\n",
        "      <td>    0.000000</td>\n",
        "      <td>    0.000000</td>\n",
        "      <td>   193.330000</td>\n",
        "      <td>   44.580000</td>\n",
        "      <td>  4.710685</td>\n",
        "      <td> 17</td>\n",
        "    </tr>\n",
        "    <tr>\n",
        "      <th>1861</th>\n",
        "      <td>                         ZUCCHINI (CHEMICAL FREE)</td>\n",
        "      <td>                     0</td>\n",
        "      <td>               Vegetables</td>\n",
        "      <td> 0</td>\n",
        "      <td> 0</td>\n",
        "      <td>  0.00</td>\n",
        "      <td>  0.00</td>\n",
        "      <td>  0.00</td>\n",
        "      <td>  0.0</td>\n",
        "      <td>  0.00</td>\n",
        "      <td>...</td>\n",
        "      <td>    7.5</td>\n",
        "      <td>  150.000000</td>\n",
        "      <td>  330.0</td>\n",
        "      <td>  318.076923</td>\n",
        "      <td>  695.681924</td>\n",
        "      <td>  212.509227</td>\n",
        "      <td>  2690.368074</td>\n",
        "      <td>  887.868074</td>\n",
        "      <td> 12.090172</td>\n",
        "      <td> 11</td>\n",
        "    </tr>\n",
        "    <tr>\n",
        "      <th>1862</th>\n",
        "      <td>                               ZUCCHINI (ORGANIC)</td>\n",
        "      <td>                     0</td>\n",
        "      <td>               Vegetables</td>\n",
        "      <td> 0</td>\n",
        "      <td> 0</td>\n",
        "      <td>  0.00</td>\n",
        "      <td>  0.00</td>\n",
        "      <td>  0.00</td>\n",
        "      <td>  0.0</td>\n",
        "      <td>  0.00</td>\n",
        "      <td>...</td>\n",
        "      <td>  403.2</td>\n",
        "      <td>  342.794118</td>\n",
        "      <td>   56.0</td>\n",
        "      <td>  280.000000</td>\n",
        "      <td>    0.000000</td>\n",
        "      <td>  181.734738</td>\n",
        "      <td>  1507.728855</td>\n",
        "      <td>  572.728855</td>\n",
        "      <td> 19.975714</td>\n",
        "      <td> 10</td>\n",
        "    </tr>\n",
        "    <tr>\n",
        "      <th>1863</th>\n",
        "      <td>                                  ZUCCHINI / 500G</td>\n",
        "      <td>                   NGS</td>\n",
        "      <td>            Fresh Produce</td>\n",
        "      <td> 0</td>\n",
        "      <td> 0</td>\n",
        "      <td> 30.78</td>\n",
        "      <td> 27.36</td>\n",
        "      <td> 23.94</td>\n",
        "      <td> 34.2</td>\n",
        "      <td> 78.66</td>\n",
        "      <td>...</td>\n",
        "      <td>    0.0</td>\n",
        "      <td>    0.000000</td>\n",
        "      <td>    0.0</td>\n",
        "      <td>    0.000000</td>\n",
        "      <td>    0.000000</td>\n",
        "      <td>    0.000000</td>\n",
        "      <td>   198.360000</td>\n",
        "      <td>   45.820000</td>\n",
        "      <td>  4.227399</td>\n",
        "      <td> 45</td>\n",
        "    </tr>\n",
        "    <tr>\n",
        "      <th>1864</th>\n",
        "      <td>                                 ZUCCHINI FLOWERS</td>\n",
        "      <td>                   NGS</td>\n",
        "      <td>         Fresh vegetables</td>\n",
        "      <td> 0</td>\n",
        "      <td> 0</td>\n",
        "      <td>  0.00</td>\n",
        "      <td>  0.00</td>\n",
        "      <td>  0.00</td>\n",
        "      <td>  0.0</td>\n",
        "      <td>  0.00</td>\n",
        "      <td>...</td>\n",
        "      <td>    0.0</td>\n",
        "      <td>    0.000000</td>\n",
        "      <td>    0.0</td>\n",
        "      <td>    0.000000</td>\n",
        "      <td>    0.000000</td>\n",
        "      <td>    0.000000</td>\n",
        "      <td>   266.000000</td>\n",
        "      <td>   56.000000</td>\n",
        "      <td> 12.158361</td>\n",
        "      <td> 23</td>\n",
        "    </tr>\n",
        "    <tr>\n",
        "      <th>1865</th>\n",
        "      <td>                 ZUCCHINI FLOWERS (CHEMICAL FREE)</td>\n",
        "      <td>                     0</td>\n",
        "      <td>               Vegetables</td>\n",
        "      <td> 0</td>\n",
        "      <td> 0</td>\n",
        "      <td>  0.00</td>\n",
        "      <td>  0.00</td>\n",
        "      <td>  0.00</td>\n",
        "      <td>  0.0</td>\n",
        "      <td>  0.00</td>\n",
        "      <td>...</td>\n",
        "      <td>   44.0</td>\n",
        "      <td>    0.000000</td>\n",
        "      <td>    0.0</td>\n",
        "      <td>    0.000000</td>\n",
        "      <td>    0.000000</td>\n",
        "      <td>    0.000000</td>\n",
        "      <td>   220.000000</td>\n",
        "      <td>   70.000000</td>\n",
        "      <td> 24.938759</td>\n",
        "      <td> 11</td>\n",
        "    </tr>\n",
        "    <tr>\n",
        "      <th>1866</th>\n",
        "      <td>   ZUCCHINI JAM WITH PISTACHIO &amp; MASTIC (NATURAL)</td>\n",
        "      <td>                     0</td>\n",
        "      <td>                      Jam</td>\n",
        "      <td> 0</td>\n",
        "      <td> 0</td>\n",
        "      <td>  0.00</td>\n",
        "      <td>  0.00</td>\n",
        "      <td>  0.00</td>\n",
        "      <td>  0.0</td>\n",
        "      <td>  0.00</td>\n",
        "      <td>...</td>\n",
        "      <td>    0.0</td>\n",
        "      <td>    0.000000</td>\n",
        "      <td>  200.0</td>\n",
        "      <td>    0.000000</td>\n",
        "      <td>    0.000000</td>\n",
        "      <td>    0.000000</td>\n",
        "      <td>   200.000000</td>\n",
        "      <td>   50.000000</td>\n",
        "      <td>  0.000000</td>\n",
        "      <td>  7</td>\n",
        "    </tr>\n",
        "  </tbody>\n",
        "</table>\n",
        "<p>1867 rows \u00d7 51 columns</p>\n",
        "</div>"
       ],
       "metadata": {},
       "output_type": "pyout",
       "prompt_number": 6,
       "text": [
        "                                               Product                  Brand  \\\n",
        "0                                 7 GRAIN MILK / 946ML  Pacific Natural Foods   \n",
        "1                                     ACAI BERRY JUICE                      0   \n",
        "2                                     ACAI BERRY JUICE          Berry company   \n",
        "3                                     ACNE FACIAL SOAP          Healing Herbs   \n",
        "4                              ACQUA PANA WATER 1000ML                    NGS   \n",
        "5                               ACQUA PANA WATER 500ML                    NGS   \n",
        "6                         ACQUA PANA WATER 500ML GLASS                    NGS   \n",
        "7                ACTIBIF CHEESE (FOR BETTER DIGESTION)                      0   \n",
        "8             AGAR AGAR FLAKES (HAND HARVESTED) - WILD                      0   \n",
        "9                      AGAVE SYRUP ( ORGANIC ) / 473ML  Suzanne's Specialties   \n",
        "10            ALL PURPOSE BAKING FLOUR ( GLUTEN FREE )                    NGS   \n",
        "11     ALL PURPOSE BAKING FLOUR ( GLUTEN FREE ) / 623G         Bob's Red Mill   \n",
        "12              ALL PURPOSE BAKING FLOUR (GLUTEN FREE)                      0   \n",
        "13              ALL PURPOSE BAKING FLOUR (GLUTEN FREE)                      0   \n",
        "14    ALMOND BISCUITS (GLUTEN FREE - TRACES OF GLUTEN)                      0   \n",
        "15                          ALMOND BREAD (GLUTEN FREE)                      0   \n",
        "16                                       ALMOND BUTTER                      0   \n",
        "17                           ALMOND BUTTER (HOME-MADE)              Signature   \n",
        "18                             ALMOND BUTTER (NATURAL)                      0   \n",
        "19                                   ALMOND MEAL FLOUR                      0   \n",
        "20                             ALMOND MILK ( ORGANIC )                  Alpro   \n",
        "21                     ALMOND MILK ( ORGANIC ) / 946ML  Pacific Natural Foods   \n",
        "22                       ALMOND MILK ( ORGANIC ) 946ML                      0   \n",
        "23                            ALMOND MILK ( ORIGINAL )                    NGS   \n",
        "24                  ALMOND MILK (ORGANIC) - SUGAR-FREE                      0   \n",
        "25                           ALMOND MILK (UNSWEETENED)                      0   \n",
        "26                     ALMOND MILK WITH DARK CHOCOLATE            Pure almond   \n",
        "27                            ALMOND MILK WITH VANILLA            Pure almond   \n",
        "28                          ALMOND ORIGINAL (ORIGINAL)                      0   \n",
        "29                        ALMOND'S AND OATS BODY SCRUB                      0   \n",
        "...                                                ...                    ...   \n",
        "1837                         XANTHAN GUM (GLUTEN FREE)                      0   \n",
        "1838                                  YAKI NORI SHEETS                    NGS   \n",
        "1839                                     YELLOW APPLES                    NGS   \n",
        "1840                                   YELLOW BROCCOLI                    NGS   \n",
        "1841                 YELLOW CAPSICUM ( CHEMICAL FREE )                    NGS   \n",
        "1842                   YELLOW CARROT ( CHEMICAL FREE )                      0   \n",
        "1843                   YELLOW CARROT ( CHEMICAL FREE )                    NGS   \n",
        "1844                                    YELLOW CARROTS                    NGS   \n",
        "1845                            YELLOW CHERRY TOMATOES             Kheir Misr   \n",
        "1846                                 YELLOW GRAPEFRUIT                      0   \n",
        "1847                                 YELLOW GRAPEFRUIT                    NGS   \n",
        "1848                                    YELLOW MUSTARD       Eden Foods, Inc.   \n",
        "1849                   YELLOW ONIONS ( CHEMICAL FREE )                    NGS   \n",
        "1850                          YELLOW SPLIT PEAS / 822G         Bob's Red Mill   \n",
        "1851                                 YELLOW WATERMELON                    NGS   \n",
        "1852                        YING/YANG FACIAL ACNE SOAP                      0   \n",
        "1853                               YOUSSFI (TANGERINE)                    NGS   \n",
        "1854                      ZARDA EXTRA VIRGIN OLIVE OIL                    NGS   \n",
        "1855                                          ZUCCHINI             Kheir Misr   \n",
        "1856                                          ZUCCHINI                    NGS   \n",
        "1857                                          ZUCCHINI                    NGS   \n",
        "1858                        ZUCCHINI ( CHEMICAL FREE )                      0   \n",
        "1859                        ZUCCHINI ( CHEMICAL FREE )                    NGS   \n",
        "1860                          ZUCCHINI (CHEMICAL FREE)                      0   \n",
        "1861                          ZUCCHINI (CHEMICAL FREE)                      0   \n",
        "1862                                ZUCCHINI (ORGANIC)                      0   \n",
        "1863                                   ZUCCHINI / 500G                    NGS   \n",
        "1864                                  ZUCCHINI FLOWERS                    NGS   \n",
        "1865                  ZUCCHINI FLOWERS (CHEMICAL FREE)                      0   \n",
        "1866    ZUCCHINI JAM WITH PISTACHIO & MASTIC (NATURAL)                      0   \n",
        "\n",
        "                          Type  May 2012  Jun 2012  Jul 2012  Aug 2012  \\\n",
        "0                         Milk         0         0      0.00      0.00   \n",
        "1                    Beverages         0         0      0.00      0.00   \n",
        "2                       Juices         0         0      0.00      0.00   \n",
        "3                    Cosmetics         0         0      0.00      0.00   \n",
        "4                    Beverages         0         0      0.00      0.00   \n",
        "5                    Beverages         0         0      0.00      0.00   \n",
        "6                    Beverages         0         0      0.00      0.00   \n",
        "7                       cheese         0         0      0.00      0.00   \n",
        "8             Food supplements         0         0      0.00      0.00   \n",
        "9                   Sweeteners         0         0      0.00      0.00   \n",
        "10                       Flour         0         0      0.00      0.00   \n",
        "11                       Flour         0         0      0.00      0.00   \n",
        "12             Baking products         0         0      0.00      0.00   \n",
        "13                     General         0         0      0.00      0.00   \n",
        "14                      Snacks         0         0      0.00      0.00   \n",
        "15                       Bread         0         0      0.00      0.00   \n",
        "16                  Nut butter         0         0      0.00      0.00   \n",
        "17                     spreads         0         0      0.00      0.00   \n",
        "18                  Nut butter         0         0      0.00      0.00   \n",
        "19             Baking products         0         0      0.00      0.00   \n",
        "20              Non-dairy milk         0         0      0.00      0.00   \n",
        "21              Non-dairy milk         0         0      0.00      0.00   \n",
        "22              Non-dairy milk         0         0      0.00      0.00   \n",
        "23              Non-dairy milk         0         0      0.00      0.00   \n",
        "24              Non-dairy milk         0         0      0.00      0.00   \n",
        "25              Non-dairy milk         0         0      0.00      0.00   \n",
        "26              Non-dairy milk         0         0      0.00      0.00   \n",
        "27              Non-dairy milk         0         0      0.00      0.00   \n",
        "28              Non-dairy milk         0         0      0.00      0.00   \n",
        "29                   Cosmetics         0         0      0.00      0.00   \n",
        "...                        ...       ...       ...       ...       ...   \n",
        "1837           Baking products         0         0      0.00      0.00   \n",
        "1838          Japanese cuisine         0         0      0.00      0.00   \n",
        "1839                    Fruits         0         0      0.00      0.00   \n",
        "1840          Fresh vegetables         0         0      0.00      0.00   \n",
        "1841  Chemical free vegetables         0         0      0.00      0.00   \n",
        "1842                Vegetables         0         0      0.00      0.00   \n",
        "1843          Fresh vegetables         0         0      0.00      0.00   \n",
        "1844          Fresh vegetables         0         0      0.00      0.00   \n",
        "1845          Fresh vegetables         0         0      0.00      0.00   \n",
        "1846              Fresh fruits         0         0      0.00      0.00   \n",
        "1847                    Fruits         0         0      0.00      0.00   \n",
        "1848                    Spices         0         0      0.00      0.00   \n",
        "1849          Fresh vegetables         0         0      0.00      0.00   \n",
        "1850                    Grains         0         0      0.00      0.00   \n",
        "1851                    Fruits         0         0      0.00      0.00   \n",
        "1852                 Cosmetics         0         0      0.00      0.00   \n",
        "1853                    Fruits         0         0      0.00      0.00   \n",
        "1854           Oil & Vinegar           0         0      0.00      0.00   \n",
        "1855          Fresh vegetables         0         0      0.00      0.00   \n",
        "1856          Fresh vegetables         0         0      0.00      0.00   \n",
        "1857                   General         0         0      0.00      0.00   \n",
        "1858                Vegetables         0         0      0.00      0.00   \n",
        "1859          Fresh vegetables         0         0      0.00      0.00   \n",
        "1860  Chemical free vegetables         0         0      0.00      0.00   \n",
        "1861                Vegetables         0         0      0.00      0.00   \n",
        "1862                Vegetables         0         0      0.00      0.00   \n",
        "1863             Fresh Produce         0         0     30.78     27.36   \n",
        "1864          Fresh vegetables         0         0      0.00      0.00   \n",
        "1865                Vegetables         0         0      0.00      0.00   \n",
        "1866                       Jam         0         0      0.00      0.00   \n",
        "\n",
        "      Sep 2012  Oct 2012  Nov 2012   ...    Jul 2015     Aug 2015  Sep 2015  \\\n",
        "0         0.00       0.0      0.00   ...         0.0     0.000000       0.0   \n",
        "1         0.00       0.0      0.00   ...         0.0     0.000000       0.0   \n",
        "2         0.00       0.0      0.00   ...         0.0     0.000000       0.0   \n",
        "3         0.00       0.0      0.00   ...         0.0     0.000000       0.0   \n",
        "4         0.00       0.0      0.00   ...         0.0     0.000000       0.0   \n",
        "5         0.00       0.0      0.00   ...         0.0     0.000000       0.0   \n",
        "6         0.00       0.0      0.00   ...         0.0     0.000000       0.0   \n",
        "7         0.00       0.0      0.00   ...         0.0    68.000000     204.0   \n",
        "8         0.00       0.0      0.00   ...       172.0    86.000000       0.0   \n",
        "9         0.00       0.0      0.00   ...         0.0     0.000000       0.0   \n",
        "10        0.00       0.0      0.00   ...         0.0     0.000000       0.0   \n",
        "11        0.00       0.0      0.00   ...         0.0     0.000000       0.0   \n",
        "12        0.00       0.0      0.00   ...       696.0  1747.200000    1046.4   \n",
        "13        0.00       0.0      0.00   ...         0.0     0.000000      48.0   \n",
        "14        0.00       0.0      0.00   ...         0.0     0.000000       0.0   \n",
        "15        0.00       0.0      0.00   ...         0.0     0.000000     180.0   \n",
        "16        0.00       0.0      0.00   ...        65.0  1046.000000     715.0   \n",
        "17        0.00       0.0      0.00   ...         0.0     0.000000       0.0   \n",
        "18        0.00       0.0      0.00   ...         0.0   130.000000     325.0   \n",
        "19        0.00       0.0      0.00   ...      1161.6  3168.000000    2296.8   \n",
        "20        0.00       0.0      0.00   ...         0.0     0.000000       0.0   \n",
        "21        0.00       0.0      0.00   ...         0.0     0.000000       0.0   \n",
        "22        0.00       0.0      0.00   ...         0.0     0.000000       0.0   \n",
        "23        0.00       0.0      0.00   ...         0.0     0.000000       0.0   \n",
        "24        0.00       0.0      0.00   ...         0.0     0.000000       0.0   \n",
        "25        0.00       0.0      0.00   ...         0.0     0.000000       0.0   \n",
        "26        0.00       0.0      0.00   ...         0.0     0.000000       0.0   \n",
        "27        0.00       0.0      0.00   ...         0.0     0.000000       0.0   \n",
        "28        0.00       0.0      0.00   ...         0.0     0.000000       0.0   \n",
        "29        0.00       0.0      0.00   ...         0.0     0.000000       0.0   \n",
        "...        ...       ...       ...   ...         ...          ...       ...   \n",
        "1837      0.00       0.0      0.00   ...         0.0   660.000000     264.0   \n",
        "1838      0.00       0.0      0.00   ...         0.0     0.000000       0.0   \n",
        "1839      0.00       0.0      0.00   ...        78.0   156.000000     305.0   \n",
        "1840      0.00       0.0      0.00   ...         0.0     0.000000       0.0   \n",
        "1841      0.00       0.0      0.00   ...         0.0     0.000000       0.0   \n",
        "1842      0.00       0.0      0.00   ...         0.0    30.000000       0.0   \n",
        "1843      0.00       0.0      0.00   ...         0.0     0.000000       0.0   \n",
        "1844      0.00       0.0      0.00   ...         0.0     0.000000       0.0   \n",
        "1845      0.00       0.0      0.00   ...         0.0     0.000000       0.0   \n",
        "1846      0.00       0.0      0.00   ...         0.0     0.000000       0.0   \n",
        "1847      0.00       0.0      0.00   ...        84.0   140.846479      99.0   \n",
        "1848      0.00       0.0      0.00   ...         0.0     0.000000       0.0   \n",
        "1849      0.00       0.0      0.00   ...         0.0     0.000000       0.0   \n",
        "1850      0.00       0.0      0.00   ...         0.0     0.000000       0.0   \n",
        "1851      0.00       0.0      0.00   ...         0.0    65.000000      65.0   \n",
        "1852      0.00       0.0      0.00   ...         0.0     0.000000       0.0   \n",
        "1853      0.00       0.0      0.00   ...         0.0     0.000000       0.0   \n",
        "1854      0.00       0.0      0.00   ...         0.0     0.000000       0.0   \n",
        "1855      0.00       0.0      0.00   ...         0.0     0.000000       0.0   \n",
        "1856      0.00       0.0      0.00   ...         0.0     0.000000       0.0   \n",
        "1857      0.00       0.0      0.00   ...         0.0     0.000000       0.0   \n",
        "1858      0.00       0.0      0.00   ...         0.0     0.000000       0.0   \n",
        "1859      0.00       0.0      0.00   ...         0.0     0.000000       0.0   \n",
        "1860      0.00       0.0      0.00   ...         0.0     0.000000       0.0   \n",
        "1861      0.00       0.0      0.00   ...         7.5   150.000000     330.0   \n",
        "1862      0.00       0.0      0.00   ...       403.2   342.794118      56.0   \n",
        "1863     23.94      34.2     78.66   ...         0.0     0.000000       0.0   \n",
        "1864      0.00       0.0      0.00   ...         0.0     0.000000       0.0   \n",
        "1865      0.00       0.0      0.00   ...        44.0     0.000000       0.0   \n",
        "1866      0.00       0.0      0.00   ...         0.0     0.000000     200.0   \n",
        "\n",
        "         Oct 2015     Nov 2015     Dec 2015       Revenue  Gross Profit  \\\n",
        "0        0.000000     0.000000     0.000000   1492.900000    271.900000   \n",
        "1        0.000000     0.000000    60.000000     60.000000     12.000000   \n",
        "2        0.000000     0.000000     0.000000    308.000000     78.000000   \n",
        "3        0.000000     0.000000     0.000000    110.000000     22.000000   \n",
        "4        0.000000     0.000000     0.000000     10.000000     10.000000   \n",
        "5        0.000000     0.000000     0.000000      6.500000      6.500000   \n",
        "6        0.000000     0.000000     0.000000      9.000000      9.000000   \n",
        "7       68.000000     0.000000     0.000000    340.000000     80.000000   \n",
        "8       86.000000     0.000000   258.000000    688.000000    178.000000   \n",
        "9        0.000000     0.000000     0.000000    647.100000     80.100000   \n",
        "10       0.000000     0.000000     0.000000    300.000000     60.000000   \n",
        "11       0.000000     0.000000     0.000000   4648.480000    904.180000   \n",
        "12     192.000000     0.000000   495.000000   4176.600000    805.350000   \n",
        "13     528.000000   240.000000     0.000000   1375.750000    266.250000   \n",
        "14       0.000000     0.000000     0.000000     54.000000     54.000000   \n",
        "15       0.000000     0.000000     0.000000    180.000000     45.000000   \n",
        "16    1683.722222  1755.000000  2648.345747   7913.067970   1517.067970   \n",
        "17       0.000000     0.000000     0.000000   4380.000000    584.000000   \n",
        "18     715.000000   780.000000   650.000000   2600.000000    520.000000   \n",
        "19    1716.000000  3892.412286   -15.575221  12723.237064   2630.467064   \n",
        "20       0.000000     0.000000     0.000000    211.500000     44.520000   \n",
        "21       0.000000     0.000000     0.000000   9418.840000   1695.440000   \n",
        "22       0.000000     0.000000     0.000000    102.000000     25.200000   \n",
        "23       0.000000     0.000000     0.000000   1128.400000    216.400000   \n",
        "24       0.000000  2521.720515  2530.000000   5051.720515    221.720515   \n",
        "25       0.000000     0.000000     0.000000    608.000000    152.000000   \n",
        "26       0.000000     0.000000     0.000000     57.000000     11.440000   \n",
        "27       0.000000     0.000000     0.000000    114.000000     24.160000   \n",
        "28       0.000000     0.000000     0.000000    512.000000    128.000000   \n",
        "29       0.000000     0.000000     0.000000     70.000000     14.000000   \n",
        "...           ...          ...          ...           ...           ...   \n",
        "1837   396.000000  1596.000000     0.000000   2916.000000    501.000000   \n",
        "1838     0.000000     0.000000     0.000000     66.500000     13.300000   \n",
        "1839   413.408990   504.000000    75.400000   1661.808990    451.818990   \n",
        "1840     0.000000     0.000000     0.000000     67.040000     67.040000   \n",
        "1841     0.000000     0.000000     0.000000     47.000000     10.250000   \n",
        "1842     0.000000     0.000000     0.000000   1352.000000    531.860000   \n",
        "1843     0.000000     0.000000     0.000000   4177.000000   1050.000000   \n",
        "1844     0.000000     0.000000     0.000000   1064.050000    119.820000   \n",
        "1845     0.000000     0.000000     0.000000    208.640000     44.210000   \n",
        "1846     0.000000     0.000000     0.000000     74.000000     20.200000   \n",
        "1847    87.755294    41.899052     9.000000    738.500825    266.350825   \n",
        "1848     0.000000    69.189577    49.505758    118.695335     24.945335   \n",
        "1849     0.000000     0.000000     0.000000     60.000000     16.620000   \n",
        "1850     0.000000     0.000000     0.000000    255.500000     35.000000   \n",
        "1851     0.000000     0.000000     0.000000    130.000000     47.500000   \n",
        "1852     0.000000     0.000000     0.000000     55.000000     11.000000   \n",
        "1853     0.000000    25.000000     0.000000     25.000000      7.500000   \n",
        "1854     0.000000     0.000000     0.000000     51.500000     10.250000   \n",
        "1855     0.000000     0.000000     0.000000   1394.760000    228.990000   \n",
        "1856     0.000000     0.000000     0.000000      5.000000      1.250000   \n",
        "1857     0.000000    69.871046     0.000000     69.871046     34.471046   \n",
        "1858     0.000000     0.000000     0.000000     55.000000     55.000000   \n",
        "1859     0.000000     0.000000     0.000000   2934.750000    807.050000   \n",
        "1860     0.000000     0.000000     0.000000    193.330000     44.580000   \n",
        "1861   318.076923   695.681924   212.509227   2690.368074    887.868074   \n",
        "1862   280.000000     0.000000   181.734738   1507.728855    572.728855   \n",
        "1863     0.000000     0.000000     0.000000    198.360000     45.820000   \n",
        "1864     0.000000     0.000000     0.000000    266.000000     56.000000   \n",
        "1865     0.000000     0.000000     0.000000    220.000000     70.000000   \n",
        "1866     0.000000     0.000000     0.000000    200.000000     50.000000   \n",
        "\n",
        "           CMGR  Period  \n",
        "0     10.650578      38  \n",
        "1      0.000000       4  \n",
        "2      9.232890      26  \n",
        "3      3.355778      21  \n",
        "4      0.000000      24  \n",
        "5      0.000000      24  \n",
        "6      0.000000      24  \n",
        "7     22.284454       8  \n",
        "8     20.808944      11  \n",
        "9      5.795637      39  \n",
        "10    10.582302      16  \n",
        "11    12.200928      40  \n",
        "12    22.030442       9  \n",
        "13    36.817595      11  \n",
        "14     3.436608      12  \n",
        "15     0.000000       7  \n",
        "16    70.496165       9  \n",
        "17    21.533637      22  \n",
        "18    45.421543       8  \n",
        "19    34.112647      11  \n",
        "20     2.266912      24  \n",
        "21    12.157194      40  \n",
        "22     0.000000      11  \n",
        "23     8.046970      20  \n",
        "24    14.907526       5  \n",
        "25     0.000000      16  \n",
        "26     0.000000      24  \n",
        "27     5.946309      24  \n",
        "28    13.011578      17  \n",
        "29     0.000000      18  \n",
        "...         ...     ...  \n",
        "1837  20.408029       8  \n",
        "1838   0.000000      24  \n",
        "1839  29.022002      10  \n",
        "1840   1.793188      39  \n",
        "1841   4.537148      25  \n",
        "1842  46.353817      12  \n",
        "1843  14.790381      23  \n",
        "1844  12.365277      39  \n",
        "1845   7.402517      40  \n",
        "1846   8.005974      18  \n",
        "1847  11.730625      11  \n",
        "1848  11.398308       5  \n",
        "1849   0.964206      19  \n",
        "1850   3.264361      39  \n",
        "1851   9.050773       8  \n",
        "1852   0.000000      17  \n",
        "1853   0.000000       5  \n",
        "1854   0.000000      24  \n",
        "1855  11.888222      40  \n",
        "1856   0.000000      23  \n",
        "1857   0.000000       5  \n",
        "1858   0.000000      12  \n",
        "1859  24.206725      25  \n",
        "1860   4.710685      17  \n",
        "1861  12.090172      11  \n",
        "1862  19.975714      10  \n",
        "1863   4.227399      45  \n",
        "1864  12.158361      23  \n",
        "1865  24.938759      11  \n",
        "1866   0.000000       7  \n",
        "\n",
        "[1867 rows x 51 columns]"
       ]
      }
     ],
     "prompt_number": 6
    },
    {
     "cell_type": "code",
     "collapsed": false,
     "input": [
      "gprofit = df[['Product', 'Brand', 'Type', 'Revenue' , 'Gross Profit', 'CMGR', 'Period']]\n",
      "gprofit\n"
     ],
     "language": "python",
     "metadata": {},
     "outputs": [
      {
       "html": [
        "<div style=\"max-height:1000px;max-width:1500px;overflow:auto;\">\n",
        "<table border=\"1\" class=\"dataframe\">\n",
        "  <thead>\n",
        "    <tr style=\"text-align: right;\">\n",
        "      <th></th>\n",
        "      <th>Product</th>\n",
        "      <th>Brand</th>\n",
        "      <th>Type</th>\n",
        "      <th>Revenue</th>\n",
        "      <th>Gross Profit</th>\n",
        "      <th>CMGR</th>\n",
        "      <th>Period</th>\n",
        "    </tr>\n",
        "  </thead>\n",
        "  <tbody>\n",
        "    <tr>\n",
        "      <th>0   </th>\n",
        "      <td>                             7 GRAIN MILK / 946ML</td>\n",
        "      <td> Pacific Natural Foods</td>\n",
        "      <td>                     Milk</td>\n",
        "      <td>  1492.900000</td>\n",
        "      <td>  271.900000</td>\n",
        "      <td> 10.650578</td>\n",
        "      <td> 38</td>\n",
        "    </tr>\n",
        "    <tr>\n",
        "      <th>1   </th>\n",
        "      <td>                                 ACAI BERRY JUICE</td>\n",
        "      <td>                     0</td>\n",
        "      <td>                Beverages</td>\n",
        "      <td>    60.000000</td>\n",
        "      <td>   12.000000</td>\n",
        "      <td>  0.000000</td>\n",
        "      <td>  4</td>\n",
        "    </tr>\n",
        "    <tr>\n",
        "      <th>2   </th>\n",
        "      <td>                                 ACAI BERRY JUICE</td>\n",
        "      <td>         Berry company</td>\n",
        "      <td>                   Juices</td>\n",
        "      <td>   308.000000</td>\n",
        "      <td>   78.000000</td>\n",
        "      <td>  9.232890</td>\n",
        "      <td> 26</td>\n",
        "    </tr>\n",
        "    <tr>\n",
        "      <th>3   </th>\n",
        "      <td>                                 ACNE FACIAL SOAP</td>\n",
        "      <td>         Healing Herbs</td>\n",
        "      <td>                Cosmetics</td>\n",
        "      <td>   110.000000</td>\n",
        "      <td>   22.000000</td>\n",
        "      <td>  3.355778</td>\n",
        "      <td> 21</td>\n",
        "    </tr>\n",
        "    <tr>\n",
        "      <th>4   </th>\n",
        "      <td>                          ACQUA PANA WATER 1000ML</td>\n",
        "      <td>                   NGS</td>\n",
        "      <td>                Beverages</td>\n",
        "      <td>    10.000000</td>\n",
        "      <td>   10.000000</td>\n",
        "      <td>  0.000000</td>\n",
        "      <td> 24</td>\n",
        "    </tr>\n",
        "    <tr>\n",
        "      <th>5   </th>\n",
        "      <td>                           ACQUA PANA WATER 500ML</td>\n",
        "      <td>                   NGS</td>\n",
        "      <td>                Beverages</td>\n",
        "      <td>     6.500000</td>\n",
        "      <td>    6.500000</td>\n",
        "      <td>  0.000000</td>\n",
        "      <td> 24</td>\n",
        "    </tr>\n",
        "    <tr>\n",
        "      <th>6   </th>\n",
        "      <td>                     ACQUA PANA WATER 500ML GLASS</td>\n",
        "      <td>                   NGS</td>\n",
        "      <td>                Beverages</td>\n",
        "      <td>     9.000000</td>\n",
        "      <td>    9.000000</td>\n",
        "      <td>  0.000000</td>\n",
        "      <td> 24</td>\n",
        "    </tr>\n",
        "    <tr>\n",
        "      <th>7   </th>\n",
        "      <td>            ACTIBIF CHEESE (FOR BETTER DIGESTION)</td>\n",
        "      <td>                     0</td>\n",
        "      <td>                   cheese</td>\n",
        "      <td>   340.000000</td>\n",
        "      <td>   80.000000</td>\n",
        "      <td> 22.284454</td>\n",
        "      <td>  8</td>\n",
        "    </tr>\n",
        "    <tr>\n",
        "      <th>8   </th>\n",
        "      <td>         AGAR AGAR FLAKES (HAND HARVESTED) - WILD</td>\n",
        "      <td>                     0</td>\n",
        "      <td>         Food supplements</td>\n",
        "      <td>   688.000000</td>\n",
        "      <td>  178.000000</td>\n",
        "      <td> 20.808944</td>\n",
        "      <td> 11</td>\n",
        "    </tr>\n",
        "    <tr>\n",
        "      <th>9   </th>\n",
        "      <td>                  AGAVE SYRUP ( ORGANIC ) / 473ML</td>\n",
        "      <td> Suzanne's Specialties</td>\n",
        "      <td>               Sweeteners</td>\n",
        "      <td>   647.100000</td>\n",
        "      <td>   80.100000</td>\n",
        "      <td>  5.795637</td>\n",
        "      <td> 39</td>\n",
        "    </tr>\n",
        "    <tr>\n",
        "      <th>10  </th>\n",
        "      <td>         ALL PURPOSE BAKING FLOUR ( GLUTEN FREE )</td>\n",
        "      <td>                   NGS</td>\n",
        "      <td>                    Flour</td>\n",
        "      <td>   300.000000</td>\n",
        "      <td>   60.000000</td>\n",
        "      <td> 10.582302</td>\n",
        "      <td> 16</td>\n",
        "    </tr>\n",
        "    <tr>\n",
        "      <th>11  </th>\n",
        "      <td>  ALL PURPOSE BAKING FLOUR ( GLUTEN FREE ) / 623G</td>\n",
        "      <td>        Bob's Red Mill</td>\n",
        "      <td>                    Flour</td>\n",
        "      <td>  4648.480000</td>\n",
        "      <td>  904.180000</td>\n",
        "      <td> 12.200928</td>\n",
        "      <td> 40</td>\n",
        "    </tr>\n",
        "    <tr>\n",
        "      <th>12  </th>\n",
        "      <td>           ALL PURPOSE BAKING FLOUR (GLUTEN FREE)</td>\n",
        "      <td>                     0</td>\n",
        "      <td>          Baking products</td>\n",
        "      <td>  4176.600000</td>\n",
        "      <td>  805.350000</td>\n",
        "      <td> 22.030442</td>\n",
        "      <td>  9</td>\n",
        "    </tr>\n",
        "    <tr>\n",
        "      <th>13  </th>\n",
        "      <td>           ALL PURPOSE BAKING FLOUR (GLUTEN FREE)</td>\n",
        "      <td>                     0</td>\n",
        "      <td>                  General</td>\n",
        "      <td>  1375.750000</td>\n",
        "      <td>  266.250000</td>\n",
        "      <td> 36.817595</td>\n",
        "      <td> 11</td>\n",
        "    </tr>\n",
        "    <tr>\n",
        "      <th>14  </th>\n",
        "      <td> ALMOND BISCUITS (GLUTEN FREE - TRACES OF GLUTEN)</td>\n",
        "      <td>                     0</td>\n",
        "      <td>                   Snacks</td>\n",
        "      <td>    54.000000</td>\n",
        "      <td>   54.000000</td>\n",
        "      <td>  3.436608</td>\n",
        "      <td> 12</td>\n",
        "    </tr>\n",
        "    <tr>\n",
        "      <th>15  </th>\n",
        "      <td>                       ALMOND BREAD (GLUTEN FREE)</td>\n",
        "      <td>                     0</td>\n",
        "      <td>                    Bread</td>\n",
        "      <td>   180.000000</td>\n",
        "      <td>   45.000000</td>\n",
        "      <td>  0.000000</td>\n",
        "      <td>  7</td>\n",
        "    </tr>\n",
        "    <tr>\n",
        "      <th>16  </th>\n",
        "      <td>                                    ALMOND BUTTER</td>\n",
        "      <td>                     0</td>\n",
        "      <td>               Nut butter</td>\n",
        "      <td>  7913.067970</td>\n",
        "      <td> 1517.067970</td>\n",
        "      <td> 70.496165</td>\n",
        "      <td>  9</td>\n",
        "    </tr>\n",
        "    <tr>\n",
        "      <th>17  </th>\n",
        "      <td>                        ALMOND BUTTER (HOME-MADE)</td>\n",
        "      <td>             Signature</td>\n",
        "      <td>                  spreads</td>\n",
        "      <td>  4380.000000</td>\n",
        "      <td>  584.000000</td>\n",
        "      <td> 21.533637</td>\n",
        "      <td> 22</td>\n",
        "    </tr>\n",
        "    <tr>\n",
        "      <th>18  </th>\n",
        "      <td>                          ALMOND BUTTER (NATURAL)</td>\n",
        "      <td>                     0</td>\n",
        "      <td>               Nut butter</td>\n",
        "      <td>  2600.000000</td>\n",
        "      <td>  520.000000</td>\n",
        "      <td> 45.421543</td>\n",
        "      <td>  8</td>\n",
        "    </tr>\n",
        "    <tr>\n",
        "      <th>19  </th>\n",
        "      <td>                                ALMOND MEAL FLOUR</td>\n",
        "      <td>                     0</td>\n",
        "      <td>          Baking products</td>\n",
        "      <td> 12723.237064</td>\n",
        "      <td> 2630.467064</td>\n",
        "      <td> 34.112647</td>\n",
        "      <td> 11</td>\n",
        "    </tr>\n",
        "    <tr>\n",
        "      <th>20  </th>\n",
        "      <td>                          ALMOND MILK ( ORGANIC )</td>\n",
        "      <td>                 Alpro</td>\n",
        "      <td>           Non-dairy milk</td>\n",
        "      <td>   211.500000</td>\n",
        "      <td>   44.520000</td>\n",
        "      <td>  2.266912</td>\n",
        "      <td> 24</td>\n",
        "    </tr>\n",
        "    <tr>\n",
        "      <th>21  </th>\n",
        "      <td>                  ALMOND MILK ( ORGANIC ) / 946ML</td>\n",
        "      <td> Pacific Natural Foods</td>\n",
        "      <td>           Non-dairy milk</td>\n",
        "      <td>  9418.840000</td>\n",
        "      <td> 1695.440000</td>\n",
        "      <td> 12.157194</td>\n",
        "      <td> 40</td>\n",
        "    </tr>\n",
        "    <tr>\n",
        "      <th>22  </th>\n",
        "      <td>                    ALMOND MILK ( ORGANIC ) 946ML</td>\n",
        "      <td>                     0</td>\n",
        "      <td>           Non-dairy milk</td>\n",
        "      <td>   102.000000</td>\n",
        "      <td>   25.200000</td>\n",
        "      <td>  0.000000</td>\n",
        "      <td> 11</td>\n",
        "    </tr>\n",
        "    <tr>\n",
        "      <th>23  </th>\n",
        "      <td>                         ALMOND MILK ( ORIGINAL )</td>\n",
        "      <td>                   NGS</td>\n",
        "      <td>           Non-dairy milk</td>\n",
        "      <td>  1128.400000</td>\n",
        "      <td>  216.400000</td>\n",
        "      <td>  8.046970</td>\n",
        "      <td> 20</td>\n",
        "    </tr>\n",
        "    <tr>\n",
        "      <th>24  </th>\n",
        "      <td>               ALMOND MILK (ORGANIC) - SUGAR-FREE</td>\n",
        "      <td>                     0</td>\n",
        "      <td>           Non-dairy milk</td>\n",
        "      <td>  5051.720515</td>\n",
        "      <td>  221.720515</td>\n",
        "      <td> 14.907526</td>\n",
        "      <td>  5</td>\n",
        "    </tr>\n",
        "    <tr>\n",
        "      <th>25  </th>\n",
        "      <td>                        ALMOND MILK (UNSWEETENED)</td>\n",
        "      <td>                     0</td>\n",
        "      <td>           Non-dairy milk</td>\n",
        "      <td>   608.000000</td>\n",
        "      <td>  152.000000</td>\n",
        "      <td>  0.000000</td>\n",
        "      <td> 16</td>\n",
        "    </tr>\n",
        "    <tr>\n",
        "      <th>26  </th>\n",
        "      <td>                  ALMOND MILK WITH DARK CHOCOLATE</td>\n",
        "      <td>           Pure almond</td>\n",
        "      <td>           Non-dairy milk</td>\n",
        "      <td>    57.000000</td>\n",
        "      <td>   11.440000</td>\n",
        "      <td>  0.000000</td>\n",
        "      <td> 24</td>\n",
        "    </tr>\n",
        "    <tr>\n",
        "      <th>27  </th>\n",
        "      <td>                         ALMOND MILK WITH VANILLA</td>\n",
        "      <td>           Pure almond</td>\n",
        "      <td>           Non-dairy milk</td>\n",
        "      <td>   114.000000</td>\n",
        "      <td>   24.160000</td>\n",
        "      <td>  5.946309</td>\n",
        "      <td> 24</td>\n",
        "    </tr>\n",
        "    <tr>\n",
        "      <th>28  </th>\n",
        "      <td>                       ALMOND ORIGINAL (ORIGINAL)</td>\n",
        "      <td>                     0</td>\n",
        "      <td>           Non-dairy milk</td>\n",
        "      <td>   512.000000</td>\n",
        "      <td>  128.000000</td>\n",
        "      <td> 13.011578</td>\n",
        "      <td> 17</td>\n",
        "    </tr>\n",
        "    <tr>\n",
        "      <th>29  </th>\n",
        "      <td>                     ALMOND'S AND OATS BODY SCRUB</td>\n",
        "      <td>                     0</td>\n",
        "      <td>                Cosmetics</td>\n",
        "      <td>    70.000000</td>\n",
        "      <td>   14.000000</td>\n",
        "      <td>  0.000000</td>\n",
        "      <td> 18</td>\n",
        "    </tr>\n",
        "    <tr>\n",
        "      <th>...</th>\n",
        "      <td>...</td>\n",
        "      <td>...</td>\n",
        "      <td>...</td>\n",
        "      <td>...</td>\n",
        "      <td>...</td>\n",
        "      <td>...</td>\n",
        "      <td>...</td>\n",
        "    </tr>\n",
        "    <tr>\n",
        "      <th>1837</th>\n",
        "      <td>                        XANTHAN GUM (GLUTEN FREE)</td>\n",
        "      <td>                     0</td>\n",
        "      <td>          Baking products</td>\n",
        "      <td>  2916.000000</td>\n",
        "      <td>  501.000000</td>\n",
        "      <td> 20.408029</td>\n",
        "      <td>  8</td>\n",
        "    </tr>\n",
        "    <tr>\n",
        "      <th>1838</th>\n",
        "      <td>                                 YAKI NORI SHEETS</td>\n",
        "      <td>                   NGS</td>\n",
        "      <td>         Japanese cuisine</td>\n",
        "      <td>    66.500000</td>\n",
        "      <td>   13.300000</td>\n",
        "      <td>  0.000000</td>\n",
        "      <td> 24</td>\n",
        "    </tr>\n",
        "    <tr>\n",
        "      <th>1839</th>\n",
        "      <td>                                    YELLOW APPLES</td>\n",
        "      <td>                   NGS</td>\n",
        "      <td>                   Fruits</td>\n",
        "      <td>  1661.808990</td>\n",
        "      <td>  451.818990</td>\n",
        "      <td> 29.022002</td>\n",
        "      <td> 10</td>\n",
        "    </tr>\n",
        "    <tr>\n",
        "      <th>1840</th>\n",
        "      <td>                                  YELLOW BROCCOLI</td>\n",
        "      <td>                   NGS</td>\n",
        "      <td>         Fresh vegetables</td>\n",
        "      <td>    67.040000</td>\n",
        "      <td>   67.040000</td>\n",
        "      <td>  1.793188</td>\n",
        "      <td> 39</td>\n",
        "    </tr>\n",
        "    <tr>\n",
        "      <th>1841</th>\n",
        "      <td>                YELLOW CAPSICUM ( CHEMICAL FREE )</td>\n",
        "      <td>                   NGS</td>\n",
        "      <td> Chemical free vegetables</td>\n",
        "      <td>    47.000000</td>\n",
        "      <td>   10.250000</td>\n",
        "      <td>  4.537148</td>\n",
        "      <td> 25</td>\n",
        "    </tr>\n",
        "    <tr>\n",
        "      <th>1842</th>\n",
        "      <td>                  YELLOW CARROT ( CHEMICAL FREE )</td>\n",
        "      <td>                     0</td>\n",
        "      <td>               Vegetables</td>\n",
        "      <td>  1352.000000</td>\n",
        "      <td>  531.860000</td>\n",
        "      <td> 46.353817</td>\n",
        "      <td> 12</td>\n",
        "    </tr>\n",
        "    <tr>\n",
        "      <th>1843</th>\n",
        "      <td>                  YELLOW CARROT ( CHEMICAL FREE )</td>\n",
        "      <td>                   NGS</td>\n",
        "      <td>         Fresh vegetables</td>\n",
        "      <td>  4177.000000</td>\n",
        "      <td> 1050.000000</td>\n",
        "      <td> 14.790381</td>\n",
        "      <td> 23</td>\n",
        "    </tr>\n",
        "    <tr>\n",
        "      <th>1844</th>\n",
        "      <td>                                   YELLOW CARROTS</td>\n",
        "      <td>                   NGS</td>\n",
        "      <td>         Fresh vegetables</td>\n",
        "      <td>  1064.050000</td>\n",
        "      <td>  119.820000</td>\n",
        "      <td> 12.365277</td>\n",
        "      <td> 39</td>\n",
        "    </tr>\n",
        "    <tr>\n",
        "      <th>1845</th>\n",
        "      <td>                           YELLOW CHERRY TOMATOES</td>\n",
        "      <td>            Kheir Misr</td>\n",
        "      <td>         Fresh vegetables</td>\n",
        "      <td>   208.640000</td>\n",
        "      <td>   44.210000</td>\n",
        "      <td>  7.402517</td>\n",
        "      <td> 40</td>\n",
        "    </tr>\n",
        "    <tr>\n",
        "      <th>1846</th>\n",
        "      <td>                                YELLOW GRAPEFRUIT</td>\n",
        "      <td>                     0</td>\n",
        "      <td>             Fresh fruits</td>\n",
        "      <td>    74.000000</td>\n",
        "      <td>   20.200000</td>\n",
        "      <td>  8.005974</td>\n",
        "      <td> 18</td>\n",
        "    </tr>\n",
        "    <tr>\n",
        "      <th>1847</th>\n",
        "      <td>                                YELLOW GRAPEFRUIT</td>\n",
        "      <td>                   NGS</td>\n",
        "      <td>                   Fruits</td>\n",
        "      <td>   738.500825</td>\n",
        "      <td>  266.350825</td>\n",
        "      <td> 11.730625</td>\n",
        "      <td> 11</td>\n",
        "    </tr>\n",
        "    <tr>\n",
        "      <th>1848</th>\n",
        "      <td>                                   YELLOW MUSTARD</td>\n",
        "      <td>      Eden Foods, Inc.</td>\n",
        "      <td>                   Spices</td>\n",
        "      <td>   118.695335</td>\n",
        "      <td>   24.945335</td>\n",
        "      <td> 11.398308</td>\n",
        "      <td>  5</td>\n",
        "    </tr>\n",
        "    <tr>\n",
        "      <th>1849</th>\n",
        "      <td>                  YELLOW ONIONS ( CHEMICAL FREE )</td>\n",
        "      <td>                   NGS</td>\n",
        "      <td>         Fresh vegetables</td>\n",
        "      <td>    60.000000</td>\n",
        "      <td>   16.620000</td>\n",
        "      <td>  0.964206</td>\n",
        "      <td> 19</td>\n",
        "    </tr>\n",
        "    <tr>\n",
        "      <th>1850</th>\n",
        "      <td>                         YELLOW SPLIT PEAS / 822G</td>\n",
        "      <td>        Bob's Red Mill</td>\n",
        "      <td>                   Grains</td>\n",
        "      <td>   255.500000</td>\n",
        "      <td>   35.000000</td>\n",
        "      <td>  3.264361</td>\n",
        "      <td> 39</td>\n",
        "    </tr>\n",
        "    <tr>\n",
        "      <th>1851</th>\n",
        "      <td>                                YELLOW WATERMELON</td>\n",
        "      <td>                   NGS</td>\n",
        "      <td>                   Fruits</td>\n",
        "      <td>   130.000000</td>\n",
        "      <td>   47.500000</td>\n",
        "      <td>  9.050773</td>\n",
        "      <td>  8</td>\n",
        "    </tr>\n",
        "    <tr>\n",
        "      <th>1852</th>\n",
        "      <td>                       YING/YANG FACIAL ACNE SOAP</td>\n",
        "      <td>                     0</td>\n",
        "      <td>                Cosmetics</td>\n",
        "      <td>    55.000000</td>\n",
        "      <td>   11.000000</td>\n",
        "      <td>  0.000000</td>\n",
        "      <td> 17</td>\n",
        "    </tr>\n",
        "    <tr>\n",
        "      <th>1853</th>\n",
        "      <td>                              YOUSSFI (TANGERINE)</td>\n",
        "      <td>                   NGS</td>\n",
        "      <td>                   Fruits</td>\n",
        "      <td>    25.000000</td>\n",
        "      <td>    7.500000</td>\n",
        "      <td>  0.000000</td>\n",
        "      <td>  5</td>\n",
        "    </tr>\n",
        "    <tr>\n",
        "      <th>1854</th>\n",
        "      <td>                     ZARDA EXTRA VIRGIN OLIVE OIL</td>\n",
        "      <td>                   NGS</td>\n",
        "      <td>          Oil &amp; Vinegar  </td>\n",
        "      <td>    51.500000</td>\n",
        "      <td>   10.250000</td>\n",
        "      <td>  0.000000</td>\n",
        "      <td> 24</td>\n",
        "    </tr>\n",
        "    <tr>\n",
        "      <th>1855</th>\n",
        "      <td>                                         ZUCCHINI</td>\n",
        "      <td>            Kheir Misr</td>\n",
        "      <td>         Fresh vegetables</td>\n",
        "      <td>  1394.760000</td>\n",
        "      <td>  228.990000</td>\n",
        "      <td> 11.888222</td>\n",
        "      <td> 40</td>\n",
        "    </tr>\n",
        "    <tr>\n",
        "      <th>1856</th>\n",
        "      <td>                                         ZUCCHINI</td>\n",
        "      <td>                   NGS</td>\n",
        "      <td>         Fresh vegetables</td>\n",
        "      <td>     5.000000</td>\n",
        "      <td>    1.250000</td>\n",
        "      <td>  0.000000</td>\n",
        "      <td> 23</td>\n",
        "    </tr>\n",
        "    <tr>\n",
        "      <th>1857</th>\n",
        "      <td>                                         ZUCCHINI</td>\n",
        "      <td>                   NGS</td>\n",
        "      <td>                  General</td>\n",
        "      <td>    69.871046</td>\n",
        "      <td>   34.471046</td>\n",
        "      <td>  0.000000</td>\n",
        "      <td>  5</td>\n",
        "    </tr>\n",
        "    <tr>\n",
        "      <th>1858</th>\n",
        "      <td>                       ZUCCHINI ( CHEMICAL FREE )</td>\n",
        "      <td>                     0</td>\n",
        "      <td>               Vegetables</td>\n",
        "      <td>    55.000000</td>\n",
        "      <td>   55.000000</td>\n",
        "      <td>  0.000000</td>\n",
        "      <td> 12</td>\n",
        "    </tr>\n",
        "    <tr>\n",
        "      <th>1859</th>\n",
        "      <td>                       ZUCCHINI ( CHEMICAL FREE )</td>\n",
        "      <td>                   NGS</td>\n",
        "      <td>         Fresh vegetables</td>\n",
        "      <td>  2934.750000</td>\n",
        "      <td>  807.050000</td>\n",
        "      <td> 24.206725</td>\n",
        "      <td> 25</td>\n",
        "    </tr>\n",
        "    <tr>\n",
        "      <th>1860</th>\n",
        "      <td>                         ZUCCHINI (CHEMICAL FREE)</td>\n",
        "      <td>                     0</td>\n",
        "      <td> Chemical free vegetables</td>\n",
        "      <td>   193.330000</td>\n",
        "      <td>   44.580000</td>\n",
        "      <td>  4.710685</td>\n",
        "      <td> 17</td>\n",
        "    </tr>\n",
        "    <tr>\n",
        "      <th>1861</th>\n",
        "      <td>                         ZUCCHINI (CHEMICAL FREE)</td>\n",
        "      <td>                     0</td>\n",
        "      <td>               Vegetables</td>\n",
        "      <td>  2690.368074</td>\n",
        "      <td>  887.868074</td>\n",
        "      <td> 12.090172</td>\n",
        "      <td> 11</td>\n",
        "    </tr>\n",
        "    <tr>\n",
        "      <th>1862</th>\n",
        "      <td>                               ZUCCHINI (ORGANIC)</td>\n",
        "      <td>                     0</td>\n",
        "      <td>               Vegetables</td>\n",
        "      <td>  1507.728855</td>\n",
        "      <td>  572.728855</td>\n",
        "      <td> 19.975714</td>\n",
        "      <td> 10</td>\n",
        "    </tr>\n",
        "    <tr>\n",
        "      <th>1863</th>\n",
        "      <td>                                  ZUCCHINI / 500G</td>\n",
        "      <td>                   NGS</td>\n",
        "      <td>            Fresh Produce</td>\n",
        "      <td>   198.360000</td>\n",
        "      <td>   45.820000</td>\n",
        "      <td>  4.227399</td>\n",
        "      <td> 45</td>\n",
        "    </tr>\n",
        "    <tr>\n",
        "      <th>1864</th>\n",
        "      <td>                                 ZUCCHINI FLOWERS</td>\n",
        "      <td>                   NGS</td>\n",
        "      <td>         Fresh vegetables</td>\n",
        "      <td>   266.000000</td>\n",
        "      <td>   56.000000</td>\n",
        "      <td> 12.158361</td>\n",
        "      <td> 23</td>\n",
        "    </tr>\n",
        "    <tr>\n",
        "      <th>1865</th>\n",
        "      <td>                 ZUCCHINI FLOWERS (CHEMICAL FREE)</td>\n",
        "      <td>                     0</td>\n",
        "      <td>               Vegetables</td>\n",
        "      <td>   220.000000</td>\n",
        "      <td>   70.000000</td>\n",
        "      <td> 24.938759</td>\n",
        "      <td> 11</td>\n",
        "    </tr>\n",
        "    <tr>\n",
        "      <th>1866</th>\n",
        "      <td>   ZUCCHINI JAM WITH PISTACHIO &amp; MASTIC (NATURAL)</td>\n",
        "      <td>                     0</td>\n",
        "      <td>                      Jam</td>\n",
        "      <td>   200.000000</td>\n",
        "      <td>   50.000000</td>\n",
        "      <td>  0.000000</td>\n",
        "      <td>  7</td>\n",
        "    </tr>\n",
        "  </tbody>\n",
        "</table>\n",
        "<p>1867 rows \u00d7 7 columns</p>\n",
        "</div>"
       ],
       "metadata": {},
       "output_type": "pyout",
       "prompt_number": 7,
       "text": [
        "                                               Product                  Brand  \\\n",
        "0                                 7 GRAIN MILK / 946ML  Pacific Natural Foods   \n",
        "1                                     ACAI BERRY JUICE                      0   \n",
        "2                                     ACAI BERRY JUICE          Berry company   \n",
        "3                                     ACNE FACIAL SOAP          Healing Herbs   \n",
        "4                              ACQUA PANA WATER 1000ML                    NGS   \n",
        "5                               ACQUA PANA WATER 500ML                    NGS   \n",
        "6                         ACQUA PANA WATER 500ML GLASS                    NGS   \n",
        "7                ACTIBIF CHEESE (FOR BETTER DIGESTION)                      0   \n",
        "8             AGAR AGAR FLAKES (HAND HARVESTED) - WILD                      0   \n",
        "9                      AGAVE SYRUP ( ORGANIC ) / 473ML  Suzanne's Specialties   \n",
        "10            ALL PURPOSE BAKING FLOUR ( GLUTEN FREE )                    NGS   \n",
        "11     ALL PURPOSE BAKING FLOUR ( GLUTEN FREE ) / 623G         Bob's Red Mill   \n",
        "12              ALL PURPOSE BAKING FLOUR (GLUTEN FREE)                      0   \n",
        "13              ALL PURPOSE BAKING FLOUR (GLUTEN FREE)                      0   \n",
        "14    ALMOND BISCUITS (GLUTEN FREE - TRACES OF GLUTEN)                      0   \n",
        "15                          ALMOND BREAD (GLUTEN FREE)                      0   \n",
        "16                                       ALMOND BUTTER                      0   \n",
        "17                           ALMOND BUTTER (HOME-MADE)              Signature   \n",
        "18                             ALMOND BUTTER (NATURAL)                      0   \n",
        "19                                   ALMOND MEAL FLOUR                      0   \n",
        "20                             ALMOND MILK ( ORGANIC )                  Alpro   \n",
        "21                     ALMOND MILK ( ORGANIC ) / 946ML  Pacific Natural Foods   \n",
        "22                       ALMOND MILK ( ORGANIC ) 946ML                      0   \n",
        "23                            ALMOND MILK ( ORIGINAL )                    NGS   \n",
        "24                  ALMOND MILK (ORGANIC) - SUGAR-FREE                      0   \n",
        "25                           ALMOND MILK (UNSWEETENED)                      0   \n",
        "26                     ALMOND MILK WITH DARK CHOCOLATE            Pure almond   \n",
        "27                            ALMOND MILK WITH VANILLA            Pure almond   \n",
        "28                          ALMOND ORIGINAL (ORIGINAL)                      0   \n",
        "29                        ALMOND'S AND OATS BODY SCRUB                      0   \n",
        "...                                                ...                    ...   \n",
        "1837                         XANTHAN GUM (GLUTEN FREE)                      0   \n",
        "1838                                  YAKI NORI SHEETS                    NGS   \n",
        "1839                                     YELLOW APPLES                    NGS   \n",
        "1840                                   YELLOW BROCCOLI                    NGS   \n",
        "1841                 YELLOW CAPSICUM ( CHEMICAL FREE )                    NGS   \n",
        "1842                   YELLOW CARROT ( CHEMICAL FREE )                      0   \n",
        "1843                   YELLOW CARROT ( CHEMICAL FREE )                    NGS   \n",
        "1844                                    YELLOW CARROTS                    NGS   \n",
        "1845                            YELLOW CHERRY TOMATOES             Kheir Misr   \n",
        "1846                                 YELLOW GRAPEFRUIT                      0   \n",
        "1847                                 YELLOW GRAPEFRUIT                    NGS   \n",
        "1848                                    YELLOW MUSTARD       Eden Foods, Inc.   \n",
        "1849                   YELLOW ONIONS ( CHEMICAL FREE )                    NGS   \n",
        "1850                          YELLOW SPLIT PEAS / 822G         Bob's Red Mill   \n",
        "1851                                 YELLOW WATERMELON                    NGS   \n",
        "1852                        YING/YANG FACIAL ACNE SOAP                      0   \n",
        "1853                               YOUSSFI (TANGERINE)                    NGS   \n",
        "1854                      ZARDA EXTRA VIRGIN OLIVE OIL                    NGS   \n",
        "1855                                          ZUCCHINI             Kheir Misr   \n",
        "1856                                          ZUCCHINI                    NGS   \n",
        "1857                                          ZUCCHINI                    NGS   \n",
        "1858                        ZUCCHINI ( CHEMICAL FREE )                      0   \n",
        "1859                        ZUCCHINI ( CHEMICAL FREE )                    NGS   \n",
        "1860                          ZUCCHINI (CHEMICAL FREE)                      0   \n",
        "1861                          ZUCCHINI (CHEMICAL FREE)                      0   \n",
        "1862                                ZUCCHINI (ORGANIC)                      0   \n",
        "1863                                   ZUCCHINI / 500G                    NGS   \n",
        "1864                                  ZUCCHINI FLOWERS                    NGS   \n",
        "1865                  ZUCCHINI FLOWERS (CHEMICAL FREE)                      0   \n",
        "1866    ZUCCHINI JAM WITH PISTACHIO & MASTIC (NATURAL)                      0   \n",
        "\n",
        "                          Type       Revenue  Gross Profit       CMGR  Period  \n",
        "0                         Milk   1492.900000    271.900000  10.650578      38  \n",
        "1                    Beverages     60.000000     12.000000   0.000000       4  \n",
        "2                       Juices    308.000000     78.000000   9.232890      26  \n",
        "3                    Cosmetics    110.000000     22.000000   3.355778      21  \n",
        "4                    Beverages     10.000000     10.000000   0.000000      24  \n",
        "5                    Beverages      6.500000      6.500000   0.000000      24  \n",
        "6                    Beverages      9.000000      9.000000   0.000000      24  \n",
        "7                       cheese    340.000000     80.000000  22.284454       8  \n",
        "8             Food supplements    688.000000    178.000000  20.808944      11  \n",
        "9                   Sweeteners    647.100000     80.100000   5.795637      39  \n",
        "10                       Flour    300.000000     60.000000  10.582302      16  \n",
        "11                       Flour   4648.480000    904.180000  12.200928      40  \n",
        "12             Baking products   4176.600000    805.350000  22.030442       9  \n",
        "13                     General   1375.750000    266.250000  36.817595      11  \n",
        "14                      Snacks     54.000000     54.000000   3.436608      12  \n",
        "15                       Bread    180.000000     45.000000   0.000000       7  \n",
        "16                  Nut butter   7913.067970   1517.067970  70.496165       9  \n",
        "17                     spreads   4380.000000    584.000000  21.533637      22  \n",
        "18                  Nut butter   2600.000000    520.000000  45.421543       8  \n",
        "19             Baking products  12723.237064   2630.467064  34.112647      11  \n",
        "20              Non-dairy milk    211.500000     44.520000   2.266912      24  \n",
        "21              Non-dairy milk   9418.840000   1695.440000  12.157194      40  \n",
        "22              Non-dairy milk    102.000000     25.200000   0.000000      11  \n",
        "23              Non-dairy milk   1128.400000    216.400000   8.046970      20  \n",
        "24              Non-dairy milk   5051.720515    221.720515  14.907526       5  \n",
        "25              Non-dairy milk    608.000000    152.000000   0.000000      16  \n",
        "26              Non-dairy milk     57.000000     11.440000   0.000000      24  \n",
        "27              Non-dairy milk    114.000000     24.160000   5.946309      24  \n",
        "28              Non-dairy milk    512.000000    128.000000  13.011578      17  \n",
        "29                   Cosmetics     70.000000     14.000000   0.000000      18  \n",
        "...                        ...           ...           ...        ...     ...  \n",
        "1837           Baking products   2916.000000    501.000000  20.408029       8  \n",
        "1838          Japanese cuisine     66.500000     13.300000   0.000000      24  \n",
        "1839                    Fruits   1661.808990    451.818990  29.022002      10  \n",
        "1840          Fresh vegetables     67.040000     67.040000   1.793188      39  \n",
        "1841  Chemical free vegetables     47.000000     10.250000   4.537148      25  \n",
        "1842                Vegetables   1352.000000    531.860000  46.353817      12  \n",
        "1843          Fresh vegetables   4177.000000   1050.000000  14.790381      23  \n",
        "1844          Fresh vegetables   1064.050000    119.820000  12.365277      39  \n",
        "1845          Fresh vegetables    208.640000     44.210000   7.402517      40  \n",
        "1846              Fresh fruits     74.000000     20.200000   8.005974      18  \n",
        "1847                    Fruits    738.500825    266.350825  11.730625      11  \n",
        "1848                    Spices    118.695335     24.945335  11.398308       5  \n",
        "1849          Fresh vegetables     60.000000     16.620000   0.964206      19  \n",
        "1850                    Grains    255.500000     35.000000   3.264361      39  \n",
        "1851                    Fruits    130.000000     47.500000   9.050773       8  \n",
        "1852                 Cosmetics     55.000000     11.000000   0.000000      17  \n",
        "1853                    Fruits     25.000000      7.500000   0.000000       5  \n",
        "1854           Oil & Vinegar       51.500000     10.250000   0.000000      24  \n",
        "1855          Fresh vegetables   1394.760000    228.990000  11.888222      40  \n",
        "1856          Fresh vegetables      5.000000      1.250000   0.000000      23  \n",
        "1857                   General     69.871046     34.471046   0.000000       5  \n",
        "1858                Vegetables     55.000000     55.000000   0.000000      12  \n",
        "1859          Fresh vegetables   2934.750000    807.050000  24.206725      25  \n",
        "1860  Chemical free vegetables    193.330000     44.580000   4.710685      17  \n",
        "1861                Vegetables   2690.368074    887.868074  12.090172      11  \n",
        "1862                Vegetables   1507.728855    572.728855  19.975714      10  \n",
        "1863             Fresh Produce    198.360000     45.820000   4.227399      45  \n",
        "1864          Fresh vegetables    266.000000     56.000000  12.158361      23  \n",
        "1865                Vegetables    220.000000     70.000000  24.938759      11  \n",
        "1866                       Jam    200.000000     50.000000   0.000000       7  \n",
        "\n",
        "[1867 rows x 7 columns]"
       ]
      }
     ],
     "prompt_number": 7
    },
    {
     "cell_type": "code",
     "collapsed": false,
     "input": [
      "total = gprofit['Revenue'].sum() #total revenue\n",
      "total\n"
     ],
     "language": "python",
     "metadata": {},
     "outputs": [
      {
       "metadata": {},
       "output_type": "pyout",
       "prompt_number": 8,
       "text": [
        "2327024.7624569973"
       ]
      }
     ],
     "prompt_number": 8
    },
    {
     "cell_type": "code",
     "collapsed": false,
     "input": [
      "totalgp = gprofit['Gross Profit'].sum() #total gross profit\n",
      "totalgp\n"
     ],
     "language": "python",
     "metadata": {},
     "outputs": [
      {
       "metadata": {},
       "output_type": "pyout",
       "prompt_number": 9,
       "text": [
        "592493.76406700094"
       ]
      }
     ],
     "prompt_number": 9
    },
    {
     "cell_type": "code",
     "collapsed": false,
     "input": [
      "gprofit['%Total Revenue'] = gprofit['Revenue'].apply(lambda x: x*100/total) #%total revenue\n",
      "totprods = max(gprofit.index) + 1\n",
      "temp = total/totprods #total revenue / total products\n",
      "gprofit['Average Revenue'] = temp #avg revenue\n",
      "gprofit['Average Gross Profit'] = totalgp/totprods #avg gross profit\n",
      "gprofit"
     ],
     "language": "python",
     "metadata": {},
     "outputs": [
      {
       "output_type": "stream",
       "stream": "stderr",
       "text": [
        "-c:1: SettingWithCopyWarning: \n",
        "A value is trying to be set on a copy of a slice from a DataFrame.\n",
        "Try using .loc[row_indexer,col_indexer] = value instead\n",
        "\n",
        "See the the caveats in the documentation: http://pandas.pydata.org/pandas-docs/stable/indexing.html#indexing-view-versus-copy\n",
        "-c:4: SettingWithCopyWarning: \n",
        "A value is trying to be set on a copy of a slice from a DataFrame.\n",
        "Try using .loc[row_indexer,col_indexer] = value instead\n",
        "\n",
        "See the the caveats in the documentation: http://pandas.pydata.org/pandas-docs/stable/indexing.html#indexing-view-versus-copy\n",
        "-c:5: SettingWithCopyWarning: \n",
        "A value is trying to be set on a copy of a slice from a DataFrame.\n",
        "Try using .loc[row_indexer,col_indexer] = value instead\n",
        "\n",
        "See the the caveats in the documentation: http://pandas.pydata.org/pandas-docs/stable/indexing.html#indexing-view-versus-copy\n"
       ]
      },
      {
       "html": [
        "<div style=\"max-height:1000px;max-width:1500px;overflow:auto;\">\n",
        "<table border=\"1\" class=\"dataframe\">\n",
        "  <thead>\n",
        "    <tr style=\"text-align: right;\">\n",
        "      <th></th>\n",
        "      <th>Product</th>\n",
        "      <th>Brand</th>\n",
        "      <th>Type</th>\n",
        "      <th>Revenue</th>\n",
        "      <th>Gross Profit</th>\n",
        "      <th>CMGR</th>\n",
        "      <th>Period</th>\n",
        "      <th>%Total Revenue</th>\n",
        "      <th>Average Revenue</th>\n",
        "      <th>Average Gross Profit</th>\n",
        "    </tr>\n",
        "  </thead>\n",
        "  <tbody>\n",
        "    <tr>\n",
        "      <th>0   </th>\n",
        "      <td>                             7 GRAIN MILK / 946ML</td>\n",
        "      <td> Pacific Natural Foods</td>\n",
        "      <td>                     Milk</td>\n",
        "      <td>  1492.900000</td>\n",
        "      <td>  271.900000</td>\n",
        "      <td> 10.650578</td>\n",
        "      <td> 38</td>\n",
        "      <td> 0.064155</td>\n",
        "      <td> 1246.397837</td>\n",
        "      <td> 317.350704</td>\n",
        "    </tr>\n",
        "    <tr>\n",
        "      <th>1   </th>\n",
        "      <td>                                 ACAI BERRY JUICE</td>\n",
        "      <td>                     0</td>\n",
        "      <td>                Beverages</td>\n",
        "      <td>    60.000000</td>\n",
        "      <td>   12.000000</td>\n",
        "      <td>  0.000000</td>\n",
        "      <td>  4</td>\n",
        "      <td> 0.002578</td>\n",
        "      <td> 1246.397837</td>\n",
        "      <td> 317.350704</td>\n",
        "    </tr>\n",
        "    <tr>\n",
        "      <th>2   </th>\n",
        "      <td>                                 ACAI BERRY JUICE</td>\n",
        "      <td>         Berry company</td>\n",
        "      <td>                   Juices</td>\n",
        "      <td>   308.000000</td>\n",
        "      <td>   78.000000</td>\n",
        "      <td>  9.232890</td>\n",
        "      <td> 26</td>\n",
        "      <td> 0.013236</td>\n",
        "      <td> 1246.397837</td>\n",
        "      <td> 317.350704</td>\n",
        "    </tr>\n",
        "    <tr>\n",
        "      <th>3   </th>\n",
        "      <td>                                 ACNE FACIAL SOAP</td>\n",
        "      <td>         Healing Herbs</td>\n",
        "      <td>                Cosmetics</td>\n",
        "      <td>   110.000000</td>\n",
        "      <td>   22.000000</td>\n",
        "      <td>  3.355778</td>\n",
        "      <td> 21</td>\n",
        "      <td> 0.004727</td>\n",
        "      <td> 1246.397837</td>\n",
        "      <td> 317.350704</td>\n",
        "    </tr>\n",
        "    <tr>\n",
        "      <th>4   </th>\n",
        "      <td>                          ACQUA PANA WATER 1000ML</td>\n",
        "      <td>                   NGS</td>\n",
        "      <td>                Beverages</td>\n",
        "      <td>    10.000000</td>\n",
        "      <td>   10.000000</td>\n",
        "      <td>  0.000000</td>\n",
        "      <td> 24</td>\n",
        "      <td> 0.000430</td>\n",
        "      <td> 1246.397837</td>\n",
        "      <td> 317.350704</td>\n",
        "    </tr>\n",
        "    <tr>\n",
        "      <th>5   </th>\n",
        "      <td>                           ACQUA PANA WATER 500ML</td>\n",
        "      <td>                   NGS</td>\n",
        "      <td>                Beverages</td>\n",
        "      <td>     6.500000</td>\n",
        "      <td>    6.500000</td>\n",
        "      <td>  0.000000</td>\n",
        "      <td> 24</td>\n",
        "      <td> 0.000279</td>\n",
        "      <td> 1246.397837</td>\n",
        "      <td> 317.350704</td>\n",
        "    </tr>\n",
        "    <tr>\n",
        "      <th>6   </th>\n",
        "      <td>                     ACQUA PANA WATER 500ML GLASS</td>\n",
        "      <td>                   NGS</td>\n",
        "      <td>                Beverages</td>\n",
        "      <td>     9.000000</td>\n",
        "      <td>    9.000000</td>\n",
        "      <td>  0.000000</td>\n",
        "      <td> 24</td>\n",
        "      <td> 0.000387</td>\n",
        "      <td> 1246.397837</td>\n",
        "      <td> 317.350704</td>\n",
        "    </tr>\n",
        "    <tr>\n",
        "      <th>7   </th>\n",
        "      <td>            ACTIBIF CHEESE (FOR BETTER DIGESTION)</td>\n",
        "      <td>                     0</td>\n",
        "      <td>                   cheese</td>\n",
        "      <td>   340.000000</td>\n",
        "      <td>   80.000000</td>\n",
        "      <td> 22.284454</td>\n",
        "      <td>  8</td>\n",
        "      <td> 0.014611</td>\n",
        "      <td> 1246.397837</td>\n",
        "      <td> 317.350704</td>\n",
        "    </tr>\n",
        "    <tr>\n",
        "      <th>8   </th>\n",
        "      <td>         AGAR AGAR FLAKES (HAND HARVESTED) - WILD</td>\n",
        "      <td>                     0</td>\n",
        "      <td>         Food supplements</td>\n",
        "      <td>   688.000000</td>\n",
        "      <td>  178.000000</td>\n",
        "      <td> 20.808944</td>\n",
        "      <td> 11</td>\n",
        "      <td> 0.029566</td>\n",
        "      <td> 1246.397837</td>\n",
        "      <td> 317.350704</td>\n",
        "    </tr>\n",
        "    <tr>\n",
        "      <th>9   </th>\n",
        "      <td>                  AGAVE SYRUP ( ORGANIC ) / 473ML</td>\n",
        "      <td> Suzanne's Specialties</td>\n",
        "      <td>               Sweeteners</td>\n",
        "      <td>   647.100000</td>\n",
        "      <td>   80.100000</td>\n",
        "      <td>  5.795637</td>\n",
        "      <td> 39</td>\n",
        "      <td> 0.027808</td>\n",
        "      <td> 1246.397837</td>\n",
        "      <td> 317.350704</td>\n",
        "    </tr>\n",
        "    <tr>\n",
        "      <th>10  </th>\n",
        "      <td>         ALL PURPOSE BAKING FLOUR ( GLUTEN FREE )</td>\n",
        "      <td>                   NGS</td>\n",
        "      <td>                    Flour</td>\n",
        "      <td>   300.000000</td>\n",
        "      <td>   60.000000</td>\n",
        "      <td> 10.582302</td>\n",
        "      <td> 16</td>\n",
        "      <td> 0.012892</td>\n",
        "      <td> 1246.397837</td>\n",
        "      <td> 317.350704</td>\n",
        "    </tr>\n",
        "    <tr>\n",
        "      <th>11  </th>\n",
        "      <td>  ALL PURPOSE BAKING FLOUR ( GLUTEN FREE ) / 623G</td>\n",
        "      <td>        Bob's Red Mill</td>\n",
        "      <td>                    Flour</td>\n",
        "      <td>  4648.480000</td>\n",
        "      <td>  904.180000</td>\n",
        "      <td> 12.200928</td>\n",
        "      <td> 40</td>\n",
        "      <td> 0.199761</td>\n",
        "      <td> 1246.397837</td>\n",
        "      <td> 317.350704</td>\n",
        "    </tr>\n",
        "    <tr>\n",
        "      <th>12  </th>\n",
        "      <td>           ALL PURPOSE BAKING FLOUR (GLUTEN FREE)</td>\n",
        "      <td>                     0</td>\n",
        "      <td>          Baking products</td>\n",
        "      <td>  4176.600000</td>\n",
        "      <td>  805.350000</td>\n",
        "      <td> 22.030442</td>\n",
        "      <td>  9</td>\n",
        "      <td> 0.179482</td>\n",
        "      <td> 1246.397837</td>\n",
        "      <td> 317.350704</td>\n",
        "    </tr>\n",
        "    <tr>\n",
        "      <th>13  </th>\n",
        "      <td>           ALL PURPOSE BAKING FLOUR (GLUTEN FREE)</td>\n",
        "      <td>                     0</td>\n",
        "      <td>                  General</td>\n",
        "      <td>  1375.750000</td>\n",
        "      <td>  266.250000</td>\n",
        "      <td> 36.817595</td>\n",
        "      <td> 11</td>\n",
        "      <td> 0.059121</td>\n",
        "      <td> 1246.397837</td>\n",
        "      <td> 317.350704</td>\n",
        "    </tr>\n",
        "    <tr>\n",
        "      <th>14  </th>\n",
        "      <td> ALMOND BISCUITS (GLUTEN FREE - TRACES OF GLUTEN)</td>\n",
        "      <td>                     0</td>\n",
        "      <td>                   Snacks</td>\n",
        "      <td>    54.000000</td>\n",
        "      <td>   54.000000</td>\n",
        "      <td>  3.436608</td>\n",
        "      <td> 12</td>\n",
        "      <td> 0.002321</td>\n",
        "      <td> 1246.397837</td>\n",
        "      <td> 317.350704</td>\n",
        "    </tr>\n",
        "    <tr>\n",
        "      <th>15  </th>\n",
        "      <td>                       ALMOND BREAD (GLUTEN FREE)</td>\n",
        "      <td>                     0</td>\n",
        "      <td>                    Bread</td>\n",
        "      <td>   180.000000</td>\n",
        "      <td>   45.000000</td>\n",
        "      <td>  0.000000</td>\n",
        "      <td>  7</td>\n",
        "      <td> 0.007735</td>\n",
        "      <td> 1246.397837</td>\n",
        "      <td> 317.350704</td>\n",
        "    </tr>\n",
        "    <tr>\n",
        "      <th>16  </th>\n",
        "      <td>                                    ALMOND BUTTER</td>\n",
        "      <td>                     0</td>\n",
        "      <td>               Nut butter</td>\n",
        "      <td>  7913.067970</td>\n",
        "      <td> 1517.067970</td>\n",
        "      <td> 70.496165</td>\n",
        "      <td>  9</td>\n",
        "      <td> 0.340051</td>\n",
        "      <td> 1246.397837</td>\n",
        "      <td> 317.350704</td>\n",
        "    </tr>\n",
        "    <tr>\n",
        "      <th>17  </th>\n",
        "      <td>                        ALMOND BUTTER (HOME-MADE)</td>\n",
        "      <td>             Signature</td>\n",
        "      <td>                  spreads</td>\n",
        "      <td>  4380.000000</td>\n",
        "      <td>  584.000000</td>\n",
        "      <td> 21.533637</td>\n",
        "      <td> 22</td>\n",
        "      <td> 0.188223</td>\n",
        "      <td> 1246.397837</td>\n",
        "      <td> 317.350704</td>\n",
        "    </tr>\n",
        "    <tr>\n",
        "      <th>18  </th>\n",
        "      <td>                          ALMOND BUTTER (NATURAL)</td>\n",
        "      <td>                     0</td>\n",
        "      <td>               Nut butter</td>\n",
        "      <td>  2600.000000</td>\n",
        "      <td>  520.000000</td>\n",
        "      <td> 45.421543</td>\n",
        "      <td>  8</td>\n",
        "      <td> 0.111731</td>\n",
        "      <td> 1246.397837</td>\n",
        "      <td> 317.350704</td>\n",
        "    </tr>\n",
        "    <tr>\n",
        "      <th>19  </th>\n",
        "      <td>                                ALMOND MEAL FLOUR</td>\n",
        "      <td>                     0</td>\n",
        "      <td>          Baking products</td>\n",
        "      <td> 12723.237064</td>\n",
        "      <td> 2630.467064</td>\n",
        "      <td> 34.112647</td>\n",
        "      <td> 11</td>\n",
        "      <td> 0.546760</td>\n",
        "      <td> 1246.397837</td>\n",
        "      <td> 317.350704</td>\n",
        "    </tr>\n",
        "    <tr>\n",
        "      <th>20  </th>\n",
        "      <td>                          ALMOND MILK ( ORGANIC )</td>\n",
        "      <td>                 Alpro</td>\n",
        "      <td>           Non-dairy milk</td>\n",
        "      <td>   211.500000</td>\n",
        "      <td>   44.520000</td>\n",
        "      <td>  2.266912</td>\n",
        "      <td> 24</td>\n",
        "      <td> 0.009089</td>\n",
        "      <td> 1246.397837</td>\n",
        "      <td> 317.350704</td>\n",
        "    </tr>\n",
        "    <tr>\n",
        "      <th>21  </th>\n",
        "      <td>                  ALMOND MILK ( ORGANIC ) / 946ML</td>\n",
        "      <td> Pacific Natural Foods</td>\n",
        "      <td>           Non-dairy milk</td>\n",
        "      <td>  9418.840000</td>\n",
        "      <td> 1695.440000</td>\n",
        "      <td> 12.157194</td>\n",
        "      <td> 40</td>\n",
        "      <td> 0.404759</td>\n",
        "      <td> 1246.397837</td>\n",
        "      <td> 317.350704</td>\n",
        "    </tr>\n",
        "    <tr>\n",
        "      <th>22  </th>\n",
        "      <td>                    ALMOND MILK ( ORGANIC ) 946ML</td>\n",
        "      <td>                     0</td>\n",
        "      <td>           Non-dairy milk</td>\n",
        "      <td>   102.000000</td>\n",
        "      <td>   25.200000</td>\n",
        "      <td>  0.000000</td>\n",
        "      <td> 11</td>\n",
        "      <td> 0.004383</td>\n",
        "      <td> 1246.397837</td>\n",
        "      <td> 317.350704</td>\n",
        "    </tr>\n",
        "    <tr>\n",
        "      <th>23  </th>\n",
        "      <td>                         ALMOND MILK ( ORIGINAL )</td>\n",
        "      <td>                   NGS</td>\n",
        "      <td>           Non-dairy milk</td>\n",
        "      <td>  1128.400000</td>\n",
        "      <td>  216.400000</td>\n",
        "      <td>  8.046970</td>\n",
        "      <td> 20</td>\n",
        "      <td> 0.048491</td>\n",
        "      <td> 1246.397837</td>\n",
        "      <td> 317.350704</td>\n",
        "    </tr>\n",
        "    <tr>\n",
        "      <th>24  </th>\n",
        "      <td>               ALMOND MILK (ORGANIC) - SUGAR-FREE</td>\n",
        "      <td>                     0</td>\n",
        "      <td>           Non-dairy milk</td>\n",
        "      <td>  5051.720515</td>\n",
        "      <td>  221.720515</td>\n",
        "      <td> 14.907526</td>\n",
        "      <td>  5</td>\n",
        "      <td> 0.217089</td>\n",
        "      <td> 1246.397837</td>\n",
        "      <td> 317.350704</td>\n",
        "    </tr>\n",
        "    <tr>\n",
        "      <th>25  </th>\n",
        "      <td>                        ALMOND MILK (UNSWEETENED)</td>\n",
        "      <td>                     0</td>\n",
        "      <td>           Non-dairy milk</td>\n",
        "      <td>   608.000000</td>\n",
        "      <td>  152.000000</td>\n",
        "      <td>  0.000000</td>\n",
        "      <td> 16</td>\n",
        "      <td> 0.026128</td>\n",
        "      <td> 1246.397837</td>\n",
        "      <td> 317.350704</td>\n",
        "    </tr>\n",
        "    <tr>\n",
        "      <th>26  </th>\n",
        "      <td>                  ALMOND MILK WITH DARK CHOCOLATE</td>\n",
        "      <td>           Pure almond</td>\n",
        "      <td>           Non-dairy milk</td>\n",
        "      <td>    57.000000</td>\n",
        "      <td>   11.440000</td>\n",
        "      <td>  0.000000</td>\n",
        "      <td> 24</td>\n",
        "      <td> 0.002449</td>\n",
        "      <td> 1246.397837</td>\n",
        "      <td> 317.350704</td>\n",
        "    </tr>\n",
        "    <tr>\n",
        "      <th>27  </th>\n",
        "      <td>                         ALMOND MILK WITH VANILLA</td>\n",
        "      <td>           Pure almond</td>\n",
        "      <td>           Non-dairy milk</td>\n",
        "      <td>   114.000000</td>\n",
        "      <td>   24.160000</td>\n",
        "      <td>  5.946309</td>\n",
        "      <td> 24</td>\n",
        "      <td> 0.004899</td>\n",
        "      <td> 1246.397837</td>\n",
        "      <td> 317.350704</td>\n",
        "    </tr>\n",
        "    <tr>\n",
        "      <th>28  </th>\n",
        "      <td>                       ALMOND ORIGINAL (ORIGINAL)</td>\n",
        "      <td>                     0</td>\n",
        "      <td>           Non-dairy milk</td>\n",
        "      <td>   512.000000</td>\n",
        "      <td>  128.000000</td>\n",
        "      <td> 13.011578</td>\n",
        "      <td> 17</td>\n",
        "      <td> 0.022002</td>\n",
        "      <td> 1246.397837</td>\n",
        "      <td> 317.350704</td>\n",
        "    </tr>\n",
        "    <tr>\n",
        "      <th>29  </th>\n",
        "      <td>                     ALMOND'S AND OATS BODY SCRUB</td>\n",
        "      <td>                     0</td>\n",
        "      <td>                Cosmetics</td>\n",
        "      <td>    70.000000</td>\n",
        "      <td>   14.000000</td>\n",
        "      <td>  0.000000</td>\n",
        "      <td> 18</td>\n",
        "      <td> 0.003008</td>\n",
        "      <td> 1246.397837</td>\n",
        "      <td> 317.350704</td>\n",
        "    </tr>\n",
        "    <tr>\n",
        "      <th>...</th>\n",
        "      <td>...</td>\n",
        "      <td>...</td>\n",
        "      <td>...</td>\n",
        "      <td>...</td>\n",
        "      <td>...</td>\n",
        "      <td>...</td>\n",
        "      <td>...</td>\n",
        "      <td>...</td>\n",
        "      <td>...</td>\n",
        "      <td>...</td>\n",
        "    </tr>\n",
        "    <tr>\n",
        "      <th>1837</th>\n",
        "      <td>                        XANTHAN GUM (GLUTEN FREE)</td>\n",
        "      <td>                     0</td>\n",
        "      <td>          Baking products</td>\n",
        "      <td>  2916.000000</td>\n",
        "      <td>  501.000000</td>\n",
        "      <td> 20.408029</td>\n",
        "      <td>  8</td>\n",
        "      <td> 0.125310</td>\n",
        "      <td> 1246.397837</td>\n",
        "      <td> 317.350704</td>\n",
        "    </tr>\n",
        "    <tr>\n",
        "      <th>1838</th>\n",
        "      <td>                                 YAKI NORI SHEETS</td>\n",
        "      <td>                   NGS</td>\n",
        "      <td>         Japanese cuisine</td>\n",
        "      <td>    66.500000</td>\n",
        "      <td>   13.300000</td>\n",
        "      <td>  0.000000</td>\n",
        "      <td> 24</td>\n",
        "      <td> 0.002858</td>\n",
        "      <td> 1246.397837</td>\n",
        "      <td> 317.350704</td>\n",
        "    </tr>\n",
        "    <tr>\n",
        "      <th>1839</th>\n",
        "      <td>                                    YELLOW APPLES</td>\n",
        "      <td>                   NGS</td>\n",
        "      <td>                   Fruits</td>\n",
        "      <td>  1661.808990</td>\n",
        "      <td>  451.818990</td>\n",
        "      <td> 29.022002</td>\n",
        "      <td> 10</td>\n",
        "      <td> 0.071413</td>\n",
        "      <td> 1246.397837</td>\n",
        "      <td> 317.350704</td>\n",
        "    </tr>\n",
        "    <tr>\n",
        "      <th>1840</th>\n",
        "      <td>                                  YELLOW BROCCOLI</td>\n",
        "      <td>                   NGS</td>\n",
        "      <td>         Fresh vegetables</td>\n",
        "      <td>    67.040000</td>\n",
        "      <td>   67.040000</td>\n",
        "      <td>  1.793188</td>\n",
        "      <td> 39</td>\n",
        "      <td> 0.002881</td>\n",
        "      <td> 1246.397837</td>\n",
        "      <td> 317.350704</td>\n",
        "    </tr>\n",
        "    <tr>\n",
        "      <th>1841</th>\n",
        "      <td>                YELLOW CAPSICUM ( CHEMICAL FREE )</td>\n",
        "      <td>                   NGS</td>\n",
        "      <td> Chemical free vegetables</td>\n",
        "      <td>    47.000000</td>\n",
        "      <td>   10.250000</td>\n",
        "      <td>  4.537148</td>\n",
        "      <td> 25</td>\n",
        "      <td> 0.002020</td>\n",
        "      <td> 1246.397837</td>\n",
        "      <td> 317.350704</td>\n",
        "    </tr>\n",
        "    <tr>\n",
        "      <th>1842</th>\n",
        "      <td>                  YELLOW CARROT ( CHEMICAL FREE )</td>\n",
        "      <td>                     0</td>\n",
        "      <td>               Vegetables</td>\n",
        "      <td>  1352.000000</td>\n",
        "      <td>  531.860000</td>\n",
        "      <td> 46.353817</td>\n",
        "      <td> 12</td>\n",
        "      <td> 0.058100</td>\n",
        "      <td> 1246.397837</td>\n",
        "      <td> 317.350704</td>\n",
        "    </tr>\n",
        "    <tr>\n",
        "      <th>1843</th>\n",
        "      <td>                  YELLOW CARROT ( CHEMICAL FREE )</td>\n",
        "      <td>                   NGS</td>\n",
        "      <td>         Fresh vegetables</td>\n",
        "      <td>  4177.000000</td>\n",
        "      <td> 1050.000000</td>\n",
        "      <td> 14.790381</td>\n",
        "      <td> 23</td>\n",
        "      <td> 0.179500</td>\n",
        "      <td> 1246.397837</td>\n",
        "      <td> 317.350704</td>\n",
        "    </tr>\n",
        "    <tr>\n",
        "      <th>1844</th>\n",
        "      <td>                                   YELLOW CARROTS</td>\n",
        "      <td>                   NGS</td>\n",
        "      <td>         Fresh vegetables</td>\n",
        "      <td>  1064.050000</td>\n",
        "      <td>  119.820000</td>\n",
        "      <td> 12.365277</td>\n",
        "      <td> 39</td>\n",
        "      <td> 0.045726</td>\n",
        "      <td> 1246.397837</td>\n",
        "      <td> 317.350704</td>\n",
        "    </tr>\n",
        "    <tr>\n",
        "      <th>1845</th>\n",
        "      <td>                           YELLOW CHERRY TOMATOES</td>\n",
        "      <td>            Kheir Misr</td>\n",
        "      <td>         Fresh vegetables</td>\n",
        "      <td>   208.640000</td>\n",
        "      <td>   44.210000</td>\n",
        "      <td>  7.402517</td>\n",
        "      <td> 40</td>\n",
        "      <td> 0.008966</td>\n",
        "      <td> 1246.397837</td>\n",
        "      <td> 317.350704</td>\n",
        "    </tr>\n",
        "    <tr>\n",
        "      <th>1846</th>\n",
        "      <td>                                YELLOW GRAPEFRUIT</td>\n",
        "      <td>                     0</td>\n",
        "      <td>             Fresh fruits</td>\n",
        "      <td>    74.000000</td>\n",
        "      <td>   20.200000</td>\n",
        "      <td>  8.005974</td>\n",
        "      <td> 18</td>\n",
        "      <td> 0.003180</td>\n",
        "      <td> 1246.397837</td>\n",
        "      <td> 317.350704</td>\n",
        "    </tr>\n",
        "    <tr>\n",
        "      <th>1847</th>\n",
        "      <td>                                YELLOW GRAPEFRUIT</td>\n",
        "      <td>                   NGS</td>\n",
        "      <td>                   Fruits</td>\n",
        "      <td>   738.500825</td>\n",
        "      <td>  266.350825</td>\n",
        "      <td> 11.730625</td>\n",
        "      <td> 11</td>\n",
        "      <td> 0.031736</td>\n",
        "      <td> 1246.397837</td>\n",
        "      <td> 317.350704</td>\n",
        "    </tr>\n",
        "    <tr>\n",
        "      <th>1848</th>\n",
        "      <td>                                   YELLOW MUSTARD</td>\n",
        "      <td>      Eden Foods, Inc.</td>\n",
        "      <td>                   Spices</td>\n",
        "      <td>   118.695335</td>\n",
        "      <td>   24.945335</td>\n",
        "      <td> 11.398308</td>\n",
        "      <td>  5</td>\n",
        "      <td> 0.005101</td>\n",
        "      <td> 1246.397837</td>\n",
        "      <td> 317.350704</td>\n",
        "    </tr>\n",
        "    <tr>\n",
        "      <th>1849</th>\n",
        "      <td>                  YELLOW ONIONS ( CHEMICAL FREE )</td>\n",
        "      <td>                   NGS</td>\n",
        "      <td>         Fresh vegetables</td>\n",
        "      <td>    60.000000</td>\n",
        "      <td>   16.620000</td>\n",
        "      <td>  0.964206</td>\n",
        "      <td> 19</td>\n",
        "      <td> 0.002578</td>\n",
        "      <td> 1246.397837</td>\n",
        "      <td> 317.350704</td>\n",
        "    </tr>\n",
        "    <tr>\n",
        "      <th>1850</th>\n",
        "      <td>                         YELLOW SPLIT PEAS / 822G</td>\n",
        "      <td>        Bob's Red Mill</td>\n",
        "      <td>                   Grains</td>\n",
        "      <td>   255.500000</td>\n",
        "      <td>   35.000000</td>\n",
        "      <td>  3.264361</td>\n",
        "      <td> 39</td>\n",
        "      <td> 0.010980</td>\n",
        "      <td> 1246.397837</td>\n",
        "      <td> 317.350704</td>\n",
        "    </tr>\n",
        "    <tr>\n",
        "      <th>1851</th>\n",
        "      <td>                                YELLOW WATERMELON</td>\n",
        "      <td>                   NGS</td>\n",
        "      <td>                   Fruits</td>\n",
        "      <td>   130.000000</td>\n",
        "      <td>   47.500000</td>\n",
        "      <td>  9.050773</td>\n",
        "      <td>  8</td>\n",
        "      <td> 0.005587</td>\n",
        "      <td> 1246.397837</td>\n",
        "      <td> 317.350704</td>\n",
        "    </tr>\n",
        "    <tr>\n",
        "      <th>1852</th>\n",
        "      <td>                       YING/YANG FACIAL ACNE SOAP</td>\n",
        "      <td>                     0</td>\n",
        "      <td>                Cosmetics</td>\n",
        "      <td>    55.000000</td>\n",
        "      <td>   11.000000</td>\n",
        "      <td>  0.000000</td>\n",
        "      <td> 17</td>\n",
        "      <td> 0.002364</td>\n",
        "      <td> 1246.397837</td>\n",
        "      <td> 317.350704</td>\n",
        "    </tr>\n",
        "    <tr>\n",
        "      <th>1853</th>\n",
        "      <td>                              YOUSSFI (TANGERINE)</td>\n",
        "      <td>                   NGS</td>\n",
        "      <td>                   Fruits</td>\n",
        "      <td>    25.000000</td>\n",
        "      <td>    7.500000</td>\n",
        "      <td>  0.000000</td>\n",
        "      <td>  5</td>\n",
        "      <td> 0.001074</td>\n",
        "      <td> 1246.397837</td>\n",
        "      <td> 317.350704</td>\n",
        "    </tr>\n",
        "    <tr>\n",
        "      <th>1854</th>\n",
        "      <td>                     ZARDA EXTRA VIRGIN OLIVE OIL</td>\n",
        "      <td>                   NGS</td>\n",
        "      <td>          Oil &amp; Vinegar  </td>\n",
        "      <td>    51.500000</td>\n",
        "      <td>   10.250000</td>\n",
        "      <td>  0.000000</td>\n",
        "      <td> 24</td>\n",
        "      <td> 0.002213</td>\n",
        "      <td> 1246.397837</td>\n",
        "      <td> 317.350704</td>\n",
        "    </tr>\n",
        "    <tr>\n",
        "      <th>1855</th>\n",
        "      <td>                                         ZUCCHINI</td>\n",
        "      <td>            Kheir Misr</td>\n",
        "      <td>         Fresh vegetables</td>\n",
        "      <td>  1394.760000</td>\n",
        "      <td>  228.990000</td>\n",
        "      <td> 11.888222</td>\n",
        "      <td> 40</td>\n",
        "      <td> 0.059937</td>\n",
        "      <td> 1246.397837</td>\n",
        "      <td> 317.350704</td>\n",
        "    </tr>\n",
        "    <tr>\n",
        "      <th>1856</th>\n",
        "      <td>                                         ZUCCHINI</td>\n",
        "      <td>                   NGS</td>\n",
        "      <td>         Fresh vegetables</td>\n",
        "      <td>     5.000000</td>\n",
        "      <td>    1.250000</td>\n",
        "      <td>  0.000000</td>\n",
        "      <td> 23</td>\n",
        "      <td> 0.000215</td>\n",
        "      <td> 1246.397837</td>\n",
        "      <td> 317.350704</td>\n",
        "    </tr>\n",
        "    <tr>\n",
        "      <th>1857</th>\n",
        "      <td>                                         ZUCCHINI</td>\n",
        "      <td>                   NGS</td>\n",
        "      <td>                  General</td>\n",
        "      <td>    69.871046</td>\n",
        "      <td>   34.471046</td>\n",
        "      <td>  0.000000</td>\n",
        "      <td>  5</td>\n",
        "      <td> 0.003003</td>\n",
        "      <td> 1246.397837</td>\n",
        "      <td> 317.350704</td>\n",
        "    </tr>\n",
        "    <tr>\n",
        "      <th>1858</th>\n",
        "      <td>                       ZUCCHINI ( CHEMICAL FREE )</td>\n",
        "      <td>                     0</td>\n",
        "      <td>               Vegetables</td>\n",
        "      <td>    55.000000</td>\n",
        "      <td>   55.000000</td>\n",
        "      <td>  0.000000</td>\n",
        "      <td> 12</td>\n",
        "      <td> 0.002364</td>\n",
        "      <td> 1246.397837</td>\n",
        "      <td> 317.350704</td>\n",
        "    </tr>\n",
        "    <tr>\n",
        "      <th>1859</th>\n",
        "      <td>                       ZUCCHINI ( CHEMICAL FREE )</td>\n",
        "      <td>                   NGS</td>\n",
        "      <td>         Fresh vegetables</td>\n",
        "      <td>  2934.750000</td>\n",
        "      <td>  807.050000</td>\n",
        "      <td> 24.206725</td>\n",
        "      <td> 25</td>\n",
        "      <td> 0.126116</td>\n",
        "      <td> 1246.397837</td>\n",
        "      <td> 317.350704</td>\n",
        "    </tr>\n",
        "    <tr>\n",
        "      <th>1860</th>\n",
        "      <td>                         ZUCCHINI (CHEMICAL FREE)</td>\n",
        "      <td>                     0</td>\n",
        "      <td> Chemical free vegetables</td>\n",
        "      <td>   193.330000</td>\n",
        "      <td>   44.580000</td>\n",
        "      <td>  4.710685</td>\n",
        "      <td> 17</td>\n",
        "      <td> 0.008308</td>\n",
        "      <td> 1246.397837</td>\n",
        "      <td> 317.350704</td>\n",
        "    </tr>\n",
        "    <tr>\n",
        "      <th>1861</th>\n",
        "      <td>                         ZUCCHINI (CHEMICAL FREE)</td>\n",
        "      <td>                     0</td>\n",
        "      <td>               Vegetables</td>\n",
        "      <td>  2690.368074</td>\n",
        "      <td>  887.868074</td>\n",
        "      <td> 12.090172</td>\n",
        "      <td> 11</td>\n",
        "      <td> 0.115614</td>\n",
        "      <td> 1246.397837</td>\n",
        "      <td> 317.350704</td>\n",
        "    </tr>\n",
        "    <tr>\n",
        "      <th>1862</th>\n",
        "      <td>                               ZUCCHINI (ORGANIC)</td>\n",
        "      <td>                     0</td>\n",
        "      <td>               Vegetables</td>\n",
        "      <td>  1507.728855</td>\n",
        "      <td>  572.728855</td>\n",
        "      <td> 19.975714</td>\n",
        "      <td> 10</td>\n",
        "      <td> 0.064792</td>\n",
        "      <td> 1246.397837</td>\n",
        "      <td> 317.350704</td>\n",
        "    </tr>\n",
        "    <tr>\n",
        "      <th>1863</th>\n",
        "      <td>                                  ZUCCHINI / 500G</td>\n",
        "      <td>                   NGS</td>\n",
        "      <td>            Fresh Produce</td>\n",
        "      <td>   198.360000</td>\n",
        "      <td>   45.820000</td>\n",
        "      <td>  4.227399</td>\n",
        "      <td> 45</td>\n",
        "      <td> 0.008524</td>\n",
        "      <td> 1246.397837</td>\n",
        "      <td> 317.350704</td>\n",
        "    </tr>\n",
        "    <tr>\n",
        "      <th>1864</th>\n",
        "      <td>                                 ZUCCHINI FLOWERS</td>\n",
        "      <td>                   NGS</td>\n",
        "      <td>         Fresh vegetables</td>\n",
        "      <td>   266.000000</td>\n",
        "      <td>   56.000000</td>\n",
        "      <td> 12.158361</td>\n",
        "      <td> 23</td>\n",
        "      <td> 0.011431</td>\n",
        "      <td> 1246.397837</td>\n",
        "      <td> 317.350704</td>\n",
        "    </tr>\n",
        "    <tr>\n",
        "      <th>1865</th>\n",
        "      <td>                 ZUCCHINI FLOWERS (CHEMICAL FREE)</td>\n",
        "      <td>                     0</td>\n",
        "      <td>               Vegetables</td>\n",
        "      <td>   220.000000</td>\n",
        "      <td>   70.000000</td>\n",
        "      <td> 24.938759</td>\n",
        "      <td> 11</td>\n",
        "      <td> 0.009454</td>\n",
        "      <td> 1246.397837</td>\n",
        "      <td> 317.350704</td>\n",
        "    </tr>\n",
        "    <tr>\n",
        "      <th>1866</th>\n",
        "      <td>   ZUCCHINI JAM WITH PISTACHIO &amp; MASTIC (NATURAL)</td>\n",
        "      <td>                     0</td>\n",
        "      <td>                      Jam</td>\n",
        "      <td>   200.000000</td>\n",
        "      <td>   50.000000</td>\n",
        "      <td>  0.000000</td>\n",
        "      <td>  7</td>\n",
        "      <td> 0.008595</td>\n",
        "      <td> 1246.397837</td>\n",
        "      <td> 317.350704</td>\n",
        "    </tr>\n",
        "  </tbody>\n",
        "</table>\n",
        "<p>1867 rows \u00d7 10 columns</p>\n",
        "</div>"
       ],
       "metadata": {},
       "output_type": "pyout",
       "prompt_number": 10,
       "text": [
        "                                               Product                  Brand  \\\n",
        "0                                 7 GRAIN MILK / 946ML  Pacific Natural Foods   \n",
        "1                                     ACAI BERRY JUICE                      0   \n",
        "2                                     ACAI BERRY JUICE          Berry company   \n",
        "3                                     ACNE FACIAL SOAP          Healing Herbs   \n",
        "4                              ACQUA PANA WATER 1000ML                    NGS   \n",
        "5                               ACQUA PANA WATER 500ML                    NGS   \n",
        "6                         ACQUA PANA WATER 500ML GLASS                    NGS   \n",
        "7                ACTIBIF CHEESE (FOR BETTER DIGESTION)                      0   \n",
        "8             AGAR AGAR FLAKES (HAND HARVESTED) - WILD                      0   \n",
        "9                      AGAVE SYRUP ( ORGANIC ) / 473ML  Suzanne's Specialties   \n",
        "10            ALL PURPOSE BAKING FLOUR ( GLUTEN FREE )                    NGS   \n",
        "11     ALL PURPOSE BAKING FLOUR ( GLUTEN FREE ) / 623G         Bob's Red Mill   \n",
        "12              ALL PURPOSE BAKING FLOUR (GLUTEN FREE)                      0   \n",
        "13              ALL PURPOSE BAKING FLOUR (GLUTEN FREE)                      0   \n",
        "14    ALMOND BISCUITS (GLUTEN FREE - TRACES OF GLUTEN)                      0   \n",
        "15                          ALMOND BREAD (GLUTEN FREE)                      0   \n",
        "16                                       ALMOND BUTTER                      0   \n",
        "17                           ALMOND BUTTER (HOME-MADE)              Signature   \n",
        "18                             ALMOND BUTTER (NATURAL)                      0   \n",
        "19                                   ALMOND MEAL FLOUR                      0   \n",
        "20                             ALMOND MILK ( ORGANIC )                  Alpro   \n",
        "21                     ALMOND MILK ( ORGANIC ) / 946ML  Pacific Natural Foods   \n",
        "22                       ALMOND MILK ( ORGANIC ) 946ML                      0   \n",
        "23                            ALMOND MILK ( ORIGINAL )                    NGS   \n",
        "24                  ALMOND MILK (ORGANIC) - SUGAR-FREE                      0   \n",
        "25                           ALMOND MILK (UNSWEETENED)                      0   \n",
        "26                     ALMOND MILK WITH DARK CHOCOLATE            Pure almond   \n",
        "27                            ALMOND MILK WITH VANILLA            Pure almond   \n",
        "28                          ALMOND ORIGINAL (ORIGINAL)                      0   \n",
        "29                        ALMOND'S AND OATS BODY SCRUB                      0   \n",
        "...                                                ...                    ...   \n",
        "1837                         XANTHAN GUM (GLUTEN FREE)                      0   \n",
        "1838                                  YAKI NORI SHEETS                    NGS   \n",
        "1839                                     YELLOW APPLES                    NGS   \n",
        "1840                                   YELLOW BROCCOLI                    NGS   \n",
        "1841                 YELLOW CAPSICUM ( CHEMICAL FREE )                    NGS   \n",
        "1842                   YELLOW CARROT ( CHEMICAL FREE )                      0   \n",
        "1843                   YELLOW CARROT ( CHEMICAL FREE )                    NGS   \n",
        "1844                                    YELLOW CARROTS                    NGS   \n",
        "1845                            YELLOW CHERRY TOMATOES             Kheir Misr   \n",
        "1846                                 YELLOW GRAPEFRUIT                      0   \n",
        "1847                                 YELLOW GRAPEFRUIT                    NGS   \n",
        "1848                                    YELLOW MUSTARD       Eden Foods, Inc.   \n",
        "1849                   YELLOW ONIONS ( CHEMICAL FREE )                    NGS   \n",
        "1850                          YELLOW SPLIT PEAS / 822G         Bob's Red Mill   \n",
        "1851                                 YELLOW WATERMELON                    NGS   \n",
        "1852                        YING/YANG FACIAL ACNE SOAP                      0   \n",
        "1853                               YOUSSFI (TANGERINE)                    NGS   \n",
        "1854                      ZARDA EXTRA VIRGIN OLIVE OIL                    NGS   \n",
        "1855                                          ZUCCHINI             Kheir Misr   \n",
        "1856                                          ZUCCHINI                    NGS   \n",
        "1857                                          ZUCCHINI                    NGS   \n",
        "1858                        ZUCCHINI ( CHEMICAL FREE )                      0   \n",
        "1859                        ZUCCHINI ( CHEMICAL FREE )                    NGS   \n",
        "1860                          ZUCCHINI (CHEMICAL FREE)                      0   \n",
        "1861                          ZUCCHINI (CHEMICAL FREE)                      0   \n",
        "1862                                ZUCCHINI (ORGANIC)                      0   \n",
        "1863                                   ZUCCHINI / 500G                    NGS   \n",
        "1864                                  ZUCCHINI FLOWERS                    NGS   \n",
        "1865                  ZUCCHINI FLOWERS (CHEMICAL FREE)                      0   \n",
        "1866    ZUCCHINI JAM WITH PISTACHIO & MASTIC (NATURAL)                      0   \n",
        "\n",
        "                          Type       Revenue  Gross Profit       CMGR  Period  \\\n",
        "0                         Milk   1492.900000    271.900000  10.650578      38   \n",
        "1                    Beverages     60.000000     12.000000   0.000000       4   \n",
        "2                       Juices    308.000000     78.000000   9.232890      26   \n",
        "3                    Cosmetics    110.000000     22.000000   3.355778      21   \n",
        "4                    Beverages     10.000000     10.000000   0.000000      24   \n",
        "5                    Beverages      6.500000      6.500000   0.000000      24   \n",
        "6                    Beverages      9.000000      9.000000   0.000000      24   \n",
        "7                       cheese    340.000000     80.000000  22.284454       8   \n",
        "8             Food supplements    688.000000    178.000000  20.808944      11   \n",
        "9                   Sweeteners    647.100000     80.100000   5.795637      39   \n",
        "10                       Flour    300.000000     60.000000  10.582302      16   \n",
        "11                       Flour   4648.480000    904.180000  12.200928      40   \n",
        "12             Baking products   4176.600000    805.350000  22.030442       9   \n",
        "13                     General   1375.750000    266.250000  36.817595      11   \n",
        "14                      Snacks     54.000000     54.000000   3.436608      12   \n",
        "15                       Bread    180.000000     45.000000   0.000000       7   \n",
        "16                  Nut butter   7913.067970   1517.067970  70.496165       9   \n",
        "17                     spreads   4380.000000    584.000000  21.533637      22   \n",
        "18                  Nut butter   2600.000000    520.000000  45.421543       8   \n",
        "19             Baking products  12723.237064   2630.467064  34.112647      11   \n",
        "20              Non-dairy milk    211.500000     44.520000   2.266912      24   \n",
        "21              Non-dairy milk   9418.840000   1695.440000  12.157194      40   \n",
        "22              Non-dairy milk    102.000000     25.200000   0.000000      11   \n",
        "23              Non-dairy milk   1128.400000    216.400000   8.046970      20   \n",
        "24              Non-dairy milk   5051.720515    221.720515  14.907526       5   \n",
        "25              Non-dairy milk    608.000000    152.000000   0.000000      16   \n",
        "26              Non-dairy milk     57.000000     11.440000   0.000000      24   \n",
        "27              Non-dairy milk    114.000000     24.160000   5.946309      24   \n",
        "28              Non-dairy milk    512.000000    128.000000  13.011578      17   \n",
        "29                   Cosmetics     70.000000     14.000000   0.000000      18   \n",
        "...                        ...           ...           ...        ...     ...   \n",
        "1837           Baking products   2916.000000    501.000000  20.408029       8   \n",
        "1838          Japanese cuisine     66.500000     13.300000   0.000000      24   \n",
        "1839                    Fruits   1661.808990    451.818990  29.022002      10   \n",
        "1840          Fresh vegetables     67.040000     67.040000   1.793188      39   \n",
        "1841  Chemical free vegetables     47.000000     10.250000   4.537148      25   \n",
        "1842                Vegetables   1352.000000    531.860000  46.353817      12   \n",
        "1843          Fresh vegetables   4177.000000   1050.000000  14.790381      23   \n",
        "1844          Fresh vegetables   1064.050000    119.820000  12.365277      39   \n",
        "1845          Fresh vegetables    208.640000     44.210000   7.402517      40   \n",
        "1846              Fresh fruits     74.000000     20.200000   8.005974      18   \n",
        "1847                    Fruits    738.500825    266.350825  11.730625      11   \n",
        "1848                    Spices    118.695335     24.945335  11.398308       5   \n",
        "1849          Fresh vegetables     60.000000     16.620000   0.964206      19   \n",
        "1850                    Grains    255.500000     35.000000   3.264361      39   \n",
        "1851                    Fruits    130.000000     47.500000   9.050773       8   \n",
        "1852                 Cosmetics     55.000000     11.000000   0.000000      17   \n",
        "1853                    Fruits     25.000000      7.500000   0.000000       5   \n",
        "1854           Oil & Vinegar       51.500000     10.250000   0.000000      24   \n",
        "1855          Fresh vegetables   1394.760000    228.990000  11.888222      40   \n",
        "1856          Fresh vegetables      5.000000      1.250000   0.000000      23   \n",
        "1857                   General     69.871046     34.471046   0.000000       5   \n",
        "1858                Vegetables     55.000000     55.000000   0.000000      12   \n",
        "1859          Fresh vegetables   2934.750000    807.050000  24.206725      25   \n",
        "1860  Chemical free vegetables    193.330000     44.580000   4.710685      17   \n",
        "1861                Vegetables   2690.368074    887.868074  12.090172      11   \n",
        "1862                Vegetables   1507.728855    572.728855  19.975714      10   \n",
        "1863             Fresh Produce    198.360000     45.820000   4.227399      45   \n",
        "1864          Fresh vegetables    266.000000     56.000000  12.158361      23   \n",
        "1865                Vegetables    220.000000     70.000000  24.938759      11   \n",
        "1866                       Jam    200.000000     50.000000   0.000000       7   \n",
        "\n",
        "      %Total Revenue  Average Revenue  Average Gross Profit  \n",
        "0           0.064155      1246.397837            317.350704  \n",
        "1           0.002578      1246.397837            317.350704  \n",
        "2           0.013236      1246.397837            317.350704  \n",
        "3           0.004727      1246.397837            317.350704  \n",
        "4           0.000430      1246.397837            317.350704  \n",
        "5           0.000279      1246.397837            317.350704  \n",
        "6           0.000387      1246.397837            317.350704  \n",
        "7           0.014611      1246.397837            317.350704  \n",
        "8           0.029566      1246.397837            317.350704  \n",
        "9           0.027808      1246.397837            317.350704  \n",
        "10          0.012892      1246.397837            317.350704  \n",
        "11          0.199761      1246.397837            317.350704  \n",
        "12          0.179482      1246.397837            317.350704  \n",
        "13          0.059121      1246.397837            317.350704  \n",
        "14          0.002321      1246.397837            317.350704  \n",
        "15          0.007735      1246.397837            317.350704  \n",
        "16          0.340051      1246.397837            317.350704  \n",
        "17          0.188223      1246.397837            317.350704  \n",
        "18          0.111731      1246.397837            317.350704  \n",
        "19          0.546760      1246.397837            317.350704  \n",
        "20          0.009089      1246.397837            317.350704  \n",
        "21          0.404759      1246.397837            317.350704  \n",
        "22          0.004383      1246.397837            317.350704  \n",
        "23          0.048491      1246.397837            317.350704  \n",
        "24          0.217089      1246.397837            317.350704  \n",
        "25          0.026128      1246.397837            317.350704  \n",
        "26          0.002449      1246.397837            317.350704  \n",
        "27          0.004899      1246.397837            317.350704  \n",
        "28          0.022002      1246.397837            317.350704  \n",
        "29          0.003008      1246.397837            317.350704  \n",
        "...              ...              ...                   ...  \n",
        "1837        0.125310      1246.397837            317.350704  \n",
        "1838        0.002858      1246.397837            317.350704  \n",
        "1839        0.071413      1246.397837            317.350704  \n",
        "1840        0.002881      1246.397837            317.350704  \n",
        "1841        0.002020      1246.397837            317.350704  \n",
        "1842        0.058100      1246.397837            317.350704  \n",
        "1843        0.179500      1246.397837            317.350704  \n",
        "1844        0.045726      1246.397837            317.350704  \n",
        "1845        0.008966      1246.397837            317.350704  \n",
        "1846        0.003180      1246.397837            317.350704  \n",
        "1847        0.031736      1246.397837            317.350704  \n",
        "1848        0.005101      1246.397837            317.350704  \n",
        "1849        0.002578      1246.397837            317.350704  \n",
        "1850        0.010980      1246.397837            317.350704  \n",
        "1851        0.005587      1246.397837            317.350704  \n",
        "1852        0.002364      1246.397837            317.350704  \n",
        "1853        0.001074      1246.397837            317.350704  \n",
        "1854        0.002213      1246.397837            317.350704  \n",
        "1855        0.059937      1246.397837            317.350704  \n",
        "1856        0.000215      1246.397837            317.350704  \n",
        "1857        0.003003      1246.397837            317.350704  \n",
        "1858        0.002364      1246.397837            317.350704  \n",
        "1859        0.126116      1246.397837            317.350704  \n",
        "1860        0.008308      1246.397837            317.350704  \n",
        "1861        0.115614      1246.397837            317.350704  \n",
        "1862        0.064792      1246.397837            317.350704  \n",
        "1863        0.008524      1246.397837            317.350704  \n",
        "1864        0.011431      1246.397837            317.350704  \n",
        "1865        0.009454      1246.397837            317.350704  \n",
        "1866        0.008595      1246.397837            317.350704  \n",
        "\n",
        "[1867 rows x 10 columns]"
       ]
      }
     ],
     "prompt_number": 10
    },
    {
     "cell_type": "code",
     "collapsed": false,
     "input": [
      "gprofit['% Variation from Average'] = gprofit['Revenue'].apply(lambda x: (x-temp)*100/temp)\n",
      "total = gprofit['Gross Profit'].sum()\n",
      "gprofit['%Total Gross Profit'] = gprofit['Gross Profit'].apply(lambda x: x*100/total)\n",
      "gprofit"
     ],
     "language": "python",
     "metadata": {},
     "outputs": [
      {
       "output_type": "stream",
       "stream": "stderr",
       "text": [
        "-c:3: SettingWithCopyWarning: \n",
        "A value is trying to be set on a copy of a slice from a DataFrame.\n",
        "Try using .loc[row_indexer,col_indexer] = value instead\n",
        "\n",
        "See the the caveats in the documentation: http://pandas.pydata.org/pandas-docs/stable/indexing.html#indexing-view-versus-copy\n"
       ]
      },
      {
       "html": [
        "<div style=\"max-height:1000px;max-width:1500px;overflow:auto;\">\n",
        "<table border=\"1\" class=\"dataframe\">\n",
        "  <thead>\n",
        "    <tr style=\"text-align: right;\">\n",
        "      <th></th>\n",
        "      <th>Product</th>\n",
        "      <th>Brand</th>\n",
        "      <th>Type</th>\n",
        "      <th>Revenue</th>\n",
        "      <th>Gross Profit</th>\n",
        "      <th>CMGR</th>\n",
        "      <th>Period</th>\n",
        "      <th>%Total Revenue</th>\n",
        "      <th>Average Revenue</th>\n",
        "      <th>Average Gross Profit</th>\n",
        "      <th>% Variation from Average</th>\n",
        "      <th>%Total Gross Profit</th>\n",
        "    </tr>\n",
        "  </thead>\n",
        "  <tbody>\n",
        "    <tr>\n",
        "      <th>0   </th>\n",
        "      <td>                             7 GRAIN MILK / 946ML</td>\n",
        "      <td> Pacific Natural Foods</td>\n",
        "      <td>                     Milk</td>\n",
        "      <td>  1492.900000</td>\n",
        "      <td>  271.900000</td>\n",
        "      <td> 10.650578</td>\n",
        "      <td> 38</td>\n",
        "      <td> 0.064155</td>\n",
        "      <td> 1246.397837</td>\n",
        "      <td> 317.350704</td>\n",
        "      <td>  19.777165</td>\n",
        "      <td> 0.045891</td>\n",
        "    </tr>\n",
        "    <tr>\n",
        "      <th>1   </th>\n",
        "      <td>                                 ACAI BERRY JUICE</td>\n",
        "      <td>                     0</td>\n",
        "      <td>                Beverages</td>\n",
        "      <td>    60.000000</td>\n",
        "      <td>   12.000000</td>\n",
        "      <td>  0.000000</td>\n",
        "      <td>  4</td>\n",
        "      <td> 0.002578</td>\n",
        "      <td> 1246.397837</td>\n",
        "      <td> 317.350704</td>\n",
        "      <td> -95.186128</td>\n",
        "      <td> 0.002025</td>\n",
        "    </tr>\n",
        "    <tr>\n",
        "      <th>2   </th>\n",
        "      <td>                                 ACAI BERRY JUICE</td>\n",
        "      <td>         Berry company</td>\n",
        "      <td>                   Juices</td>\n",
        "      <td>   308.000000</td>\n",
        "      <td>   78.000000</td>\n",
        "      <td>  9.232890</td>\n",
        "      <td> 26</td>\n",
        "      <td> 0.013236</td>\n",
        "      <td> 1246.397837</td>\n",
        "      <td> 317.350704</td>\n",
        "      <td> -75.288789</td>\n",
        "      <td> 0.013165</td>\n",
        "    </tr>\n",
        "    <tr>\n",
        "      <th>3   </th>\n",
        "      <td>                                 ACNE FACIAL SOAP</td>\n",
        "      <td>         Healing Herbs</td>\n",
        "      <td>                Cosmetics</td>\n",
        "      <td>   110.000000</td>\n",
        "      <td>   22.000000</td>\n",
        "      <td>  3.355778</td>\n",
        "      <td> 21</td>\n",
        "      <td> 0.004727</td>\n",
        "      <td> 1246.397837</td>\n",
        "      <td> 317.350704</td>\n",
        "      <td> -91.174567</td>\n",
        "      <td> 0.003713</td>\n",
        "    </tr>\n",
        "    <tr>\n",
        "      <th>4   </th>\n",
        "      <td>                          ACQUA PANA WATER 1000ML</td>\n",
        "      <td>                   NGS</td>\n",
        "      <td>                Beverages</td>\n",
        "      <td>    10.000000</td>\n",
        "      <td>   10.000000</td>\n",
        "      <td>  0.000000</td>\n",
        "      <td> 24</td>\n",
        "      <td> 0.000430</td>\n",
        "      <td> 1246.397837</td>\n",
        "      <td> 317.350704</td>\n",
        "      <td> -99.197688</td>\n",
        "      <td> 0.001688</td>\n",
        "    </tr>\n",
        "    <tr>\n",
        "      <th>5   </th>\n",
        "      <td>                           ACQUA PANA WATER 500ML</td>\n",
        "      <td>                   NGS</td>\n",
        "      <td>                Beverages</td>\n",
        "      <td>     6.500000</td>\n",
        "      <td>    6.500000</td>\n",
        "      <td>  0.000000</td>\n",
        "      <td> 24</td>\n",
        "      <td> 0.000279</td>\n",
        "      <td> 1246.397837</td>\n",
        "      <td> 317.350704</td>\n",
        "      <td> -99.478497</td>\n",
        "      <td> 0.001097</td>\n",
        "    </tr>\n",
        "    <tr>\n",
        "      <th>6   </th>\n",
        "      <td>                     ACQUA PANA WATER 500ML GLASS</td>\n",
        "      <td>                   NGS</td>\n",
        "      <td>                Beverages</td>\n",
        "      <td>     9.000000</td>\n",
        "      <td>    9.000000</td>\n",
        "      <td>  0.000000</td>\n",
        "      <td> 24</td>\n",
        "      <td> 0.000387</td>\n",
        "      <td> 1246.397837</td>\n",
        "      <td> 317.350704</td>\n",
        "      <td> -99.277919</td>\n",
        "      <td> 0.001519</td>\n",
        "    </tr>\n",
        "    <tr>\n",
        "      <th>7   </th>\n",
        "      <td>            ACTIBIF CHEESE (FOR BETTER DIGESTION)</td>\n",
        "      <td>                     0</td>\n",
        "      <td>                   cheese</td>\n",
        "      <td>   340.000000</td>\n",
        "      <td>   80.000000</td>\n",
        "      <td> 22.284454</td>\n",
        "      <td>  8</td>\n",
        "      <td> 0.014611</td>\n",
        "      <td> 1246.397837</td>\n",
        "      <td> 317.350704</td>\n",
        "      <td> -72.721390</td>\n",
        "      <td> 0.013502</td>\n",
        "    </tr>\n",
        "    <tr>\n",
        "      <th>8   </th>\n",
        "      <td>         AGAR AGAR FLAKES (HAND HARVESTED) - WILD</td>\n",
        "      <td>                     0</td>\n",
        "      <td>         Food supplements</td>\n",
        "      <td>   688.000000</td>\n",
        "      <td>  178.000000</td>\n",
        "      <td> 20.808944</td>\n",
        "      <td> 11</td>\n",
        "      <td> 0.029566</td>\n",
        "      <td> 1246.397837</td>\n",
        "      <td> 317.350704</td>\n",
        "      <td> -44.800931</td>\n",
        "      <td> 0.030043</td>\n",
        "    </tr>\n",
        "    <tr>\n",
        "      <th>9   </th>\n",
        "      <td>                  AGAVE SYRUP ( ORGANIC ) / 473ML</td>\n",
        "      <td> Suzanne's Specialties</td>\n",
        "      <td>               Sweeteners</td>\n",
        "      <td>   647.100000</td>\n",
        "      <td>   80.100000</td>\n",
        "      <td>  5.795637</td>\n",
        "      <td> 39</td>\n",
        "      <td> 0.027808</td>\n",
        "      <td> 1246.397837</td>\n",
        "      <td> 317.350704</td>\n",
        "      <td> -48.082387</td>\n",
        "      <td> 0.013519</td>\n",
        "    </tr>\n",
        "    <tr>\n",
        "      <th>10  </th>\n",
        "      <td>         ALL PURPOSE BAKING FLOUR ( GLUTEN FREE )</td>\n",
        "      <td>                   NGS</td>\n",
        "      <td>                    Flour</td>\n",
        "      <td>   300.000000</td>\n",
        "      <td>   60.000000</td>\n",
        "      <td> 10.582302</td>\n",
        "      <td> 16</td>\n",
        "      <td> 0.012892</td>\n",
        "      <td> 1246.397837</td>\n",
        "      <td> 317.350704</td>\n",
        "      <td> -75.930639</td>\n",
        "      <td> 0.010127</td>\n",
        "    </tr>\n",
        "    <tr>\n",
        "      <th>11  </th>\n",
        "      <td>  ALL PURPOSE BAKING FLOUR ( GLUTEN FREE ) / 623G</td>\n",
        "      <td>        Bob's Red Mill</td>\n",
        "      <td>                    Flour</td>\n",
        "      <td>  4648.480000</td>\n",
        "      <td>  904.180000</td>\n",
        "      <td> 12.200928</td>\n",
        "      <td> 40</td>\n",
        "      <td> 0.199761</td>\n",
        "      <td> 1246.397837</td>\n",
        "      <td> 317.350704</td>\n",
        "      <td> 272.953150</td>\n",
        "      <td> 0.152606</td>\n",
        "    </tr>\n",
        "    <tr>\n",
        "      <th>12  </th>\n",
        "      <td>           ALL PURPOSE BAKING FLOUR (GLUTEN FREE)</td>\n",
        "      <td>                     0</td>\n",
        "      <td>          Baking products</td>\n",
        "      <td>  4176.600000</td>\n",
        "      <td>  805.350000</td>\n",
        "      <td> 22.030442</td>\n",
        "      <td>  9</td>\n",
        "      <td> 0.179482</td>\n",
        "      <td> 1246.397837</td>\n",
        "      <td> 317.350704</td>\n",
        "      <td> 235.093649</td>\n",
        "      <td> 0.135925</td>\n",
        "    </tr>\n",
        "    <tr>\n",
        "      <th>13  </th>\n",
        "      <td>           ALL PURPOSE BAKING FLOUR (GLUTEN FREE)</td>\n",
        "      <td>                     0</td>\n",
        "      <td>                  General</td>\n",
        "      <td>  1375.750000</td>\n",
        "      <td>  266.250000</td>\n",
        "      <td> 36.817595</td>\n",
        "      <td> 11</td>\n",
        "      <td> 0.059121</td>\n",
        "      <td> 1246.397837</td>\n",
        "      <td> 317.350704</td>\n",
        "      <td>  10.378080</td>\n",
        "      <td> 0.044937</td>\n",
        "    </tr>\n",
        "    <tr>\n",
        "      <th>14  </th>\n",
        "      <td> ALMOND BISCUITS (GLUTEN FREE - TRACES OF GLUTEN)</td>\n",
        "      <td>                     0</td>\n",
        "      <td>                   Snacks</td>\n",
        "      <td>    54.000000</td>\n",
        "      <td>   54.000000</td>\n",
        "      <td>  3.436608</td>\n",
        "      <td> 12</td>\n",
        "      <td> 0.002321</td>\n",
        "      <td> 1246.397837</td>\n",
        "      <td> 317.350704</td>\n",
        "      <td> -95.667515</td>\n",
        "      <td> 0.009114</td>\n",
        "    </tr>\n",
        "    <tr>\n",
        "      <th>15  </th>\n",
        "      <td>                       ALMOND BREAD (GLUTEN FREE)</td>\n",
        "      <td>                     0</td>\n",
        "      <td>                    Bread</td>\n",
        "      <td>   180.000000</td>\n",
        "      <td>   45.000000</td>\n",
        "      <td>  0.000000</td>\n",
        "      <td>  7</td>\n",
        "      <td> 0.007735</td>\n",
        "      <td> 1246.397837</td>\n",
        "      <td> 317.350704</td>\n",
        "      <td> -85.558383</td>\n",
        "      <td> 0.007595</td>\n",
        "    </tr>\n",
        "    <tr>\n",
        "      <th>16  </th>\n",
        "      <td>                                    ALMOND BUTTER</td>\n",
        "      <td>                     0</td>\n",
        "      <td>               Nut butter</td>\n",
        "      <td>  7913.067970</td>\n",
        "      <td> 1517.067970</td>\n",
        "      <td> 70.496165</td>\n",
        "      <td>  9</td>\n",
        "      <td> 0.340051</td>\n",
        "      <td> 1246.397837</td>\n",
        "      <td> 317.350704</td>\n",
        "      <td> 534.874976</td>\n",
        "      <td> 0.256048</td>\n",
        "    </tr>\n",
        "    <tr>\n",
        "      <th>17  </th>\n",
        "      <td>                        ALMOND BUTTER (HOME-MADE)</td>\n",
        "      <td>             Signature</td>\n",
        "      <td>                  spreads</td>\n",
        "      <td>  4380.000000</td>\n",
        "      <td>  584.000000</td>\n",
        "      <td> 21.533637</td>\n",
        "      <td> 22</td>\n",
        "      <td> 0.188223</td>\n",
        "      <td> 1246.397837</td>\n",
        "      <td> 317.350704</td>\n",
        "      <td> 251.412676</td>\n",
        "      <td> 0.098566</td>\n",
        "    </tr>\n",
        "    <tr>\n",
        "      <th>18  </th>\n",
        "      <td>                          ALMOND BUTTER (NATURAL)</td>\n",
        "      <td>                     0</td>\n",
        "      <td>               Nut butter</td>\n",
        "      <td>  2600.000000</td>\n",
        "      <td>  520.000000</td>\n",
        "      <td> 45.421543</td>\n",
        "      <td>  8</td>\n",
        "      <td> 0.111731</td>\n",
        "      <td> 1246.397837</td>\n",
        "      <td> 317.350704</td>\n",
        "      <td> 108.601132</td>\n",
        "      <td> 0.087765</td>\n",
        "    </tr>\n",
        "    <tr>\n",
        "      <th>19  </th>\n",
        "      <td>                                ALMOND MEAL FLOUR</td>\n",
        "      <td>                     0</td>\n",
        "      <td>          Baking products</td>\n",
        "      <td> 12723.237064</td>\n",
        "      <td> 2630.467064</td>\n",
        "      <td> 34.112647</td>\n",
        "      <td> 11</td>\n",
        "      <td> 0.546760</td>\n",
        "      <td> 1246.397837</td>\n",
        "      <td> 317.350704</td>\n",
        "      <td> 920.800637</td>\n",
        "      <td> 0.443965</td>\n",
        "    </tr>\n",
        "    <tr>\n",
        "      <th>20  </th>\n",
        "      <td>                          ALMOND MILK ( ORGANIC )</td>\n",
        "      <td>                 Alpro</td>\n",
        "      <td>           Non-dairy milk</td>\n",
        "      <td>   211.500000</td>\n",
        "      <td>   44.520000</td>\n",
        "      <td>  2.266912</td>\n",
        "      <td> 24</td>\n",
        "      <td> 0.009089</td>\n",
        "      <td> 1246.397837</td>\n",
        "      <td> 317.350704</td>\n",
        "      <td> -83.031100</td>\n",
        "      <td> 0.007514</td>\n",
        "    </tr>\n",
        "    <tr>\n",
        "      <th>21  </th>\n",
        "      <td>                  ALMOND MILK ( ORGANIC ) / 946ML</td>\n",
        "      <td> Pacific Natural Foods</td>\n",
        "      <td>           Non-dairy milk</td>\n",
        "      <td>  9418.840000</td>\n",
        "      <td> 1695.440000</td>\n",
        "      <td> 12.157194</td>\n",
        "      <td> 40</td>\n",
        "      <td> 0.404759</td>\n",
        "      <td> 1246.397837</td>\n",
        "      <td> 317.350704</td>\n",
        "      <td> 655.684880</td>\n",
        "      <td> 0.286153</td>\n",
        "    </tr>\n",
        "    <tr>\n",
        "      <th>22  </th>\n",
        "      <td>                    ALMOND MILK ( ORGANIC ) 946ML</td>\n",
        "      <td>                     0</td>\n",
        "      <td>           Non-dairy milk</td>\n",
        "      <td>   102.000000</td>\n",
        "      <td>   25.200000</td>\n",
        "      <td>  0.000000</td>\n",
        "      <td> 11</td>\n",
        "      <td> 0.004383</td>\n",
        "      <td> 1246.397837</td>\n",
        "      <td> 317.350704</td>\n",
        "      <td> -91.816417</td>\n",
        "      <td> 0.004253</td>\n",
        "    </tr>\n",
        "    <tr>\n",
        "      <th>23  </th>\n",
        "      <td>                         ALMOND MILK ( ORIGINAL )</td>\n",
        "      <td>                   NGS</td>\n",
        "      <td>           Non-dairy milk</td>\n",
        "      <td>  1128.400000</td>\n",
        "      <td>  216.400000</td>\n",
        "      <td>  8.046970</td>\n",
        "      <td> 20</td>\n",
        "      <td> 0.048491</td>\n",
        "      <td> 1246.397837</td>\n",
        "      <td> 317.350704</td>\n",
        "      <td>  -9.467109</td>\n",
        "      <td> 0.036524</td>\n",
        "    </tr>\n",
        "    <tr>\n",
        "      <th>24  </th>\n",
        "      <td>               ALMOND MILK (ORGANIC) - SUGAR-FREE</td>\n",
        "      <td>                     0</td>\n",
        "      <td>           Non-dairy milk</td>\n",
        "      <td>  5051.720515</td>\n",
        "      <td>  221.720515</td>\n",
        "      <td> 14.907526</td>\n",
        "      <td>  5</td>\n",
        "      <td> 0.217089</td>\n",
        "      <td> 1246.397837</td>\n",
        "      <td> 317.350704</td>\n",
        "      <td> 305.305623</td>\n",
        "      <td> 0.037422</td>\n",
        "    </tr>\n",
        "    <tr>\n",
        "      <th>25  </th>\n",
        "      <td>                        ALMOND MILK (UNSWEETENED)</td>\n",
        "      <td>                     0</td>\n",
        "      <td>           Non-dairy milk</td>\n",
        "      <td>   608.000000</td>\n",
        "      <td>  152.000000</td>\n",
        "      <td>  0.000000</td>\n",
        "      <td> 16</td>\n",
        "      <td> 0.026128</td>\n",
        "      <td> 1246.397837</td>\n",
        "      <td> 317.350704</td>\n",
        "      <td> -51.219428</td>\n",
        "      <td> 0.025654</td>\n",
        "    </tr>\n",
        "    <tr>\n",
        "      <th>26  </th>\n",
        "      <td>                  ALMOND MILK WITH DARK CHOCOLATE</td>\n",
        "      <td>           Pure almond</td>\n",
        "      <td>           Non-dairy milk</td>\n",
        "      <td>    57.000000</td>\n",
        "      <td>   11.440000</td>\n",
        "      <td>  0.000000</td>\n",
        "      <td> 24</td>\n",
        "      <td> 0.002449</td>\n",
        "      <td> 1246.397837</td>\n",
        "      <td> 317.350704</td>\n",
        "      <td> -95.426821</td>\n",
        "      <td> 0.001931</td>\n",
        "    </tr>\n",
        "    <tr>\n",
        "      <th>27  </th>\n",
        "      <td>                         ALMOND MILK WITH VANILLA</td>\n",
        "      <td>           Pure almond</td>\n",
        "      <td>           Non-dairy milk</td>\n",
        "      <td>   114.000000</td>\n",
        "      <td>   24.160000</td>\n",
        "      <td>  5.946309</td>\n",
        "      <td> 24</td>\n",
        "      <td> 0.004899</td>\n",
        "      <td> 1246.397837</td>\n",
        "      <td> 317.350704</td>\n",
        "      <td> -90.853643</td>\n",
        "      <td> 0.004078</td>\n",
        "    </tr>\n",
        "    <tr>\n",
        "      <th>28  </th>\n",
        "      <td>                       ALMOND ORIGINAL (ORIGINAL)</td>\n",
        "      <td>                     0</td>\n",
        "      <td>           Non-dairy milk</td>\n",
        "      <td>   512.000000</td>\n",
        "      <td>  128.000000</td>\n",
        "      <td> 13.011578</td>\n",
        "      <td> 17</td>\n",
        "      <td> 0.022002</td>\n",
        "      <td> 1246.397837</td>\n",
        "      <td> 317.350704</td>\n",
        "      <td> -58.921623</td>\n",
        "      <td> 0.021604</td>\n",
        "    </tr>\n",
        "    <tr>\n",
        "      <th>29  </th>\n",
        "      <td>                     ALMOND'S AND OATS BODY SCRUB</td>\n",
        "      <td>                     0</td>\n",
        "      <td>                Cosmetics</td>\n",
        "      <td>    70.000000</td>\n",
        "      <td>   14.000000</td>\n",
        "      <td>  0.000000</td>\n",
        "      <td> 18</td>\n",
        "      <td> 0.003008</td>\n",
        "      <td> 1246.397837</td>\n",
        "      <td> 317.350704</td>\n",
        "      <td> -94.383816</td>\n",
        "      <td> 0.002363</td>\n",
        "    </tr>\n",
        "    <tr>\n",
        "      <th>...</th>\n",
        "      <td>...</td>\n",
        "      <td>...</td>\n",
        "      <td>...</td>\n",
        "      <td>...</td>\n",
        "      <td>...</td>\n",
        "      <td>...</td>\n",
        "      <td>...</td>\n",
        "      <td>...</td>\n",
        "      <td>...</td>\n",
        "      <td>...</td>\n",
        "      <td>...</td>\n",
        "      <td>...</td>\n",
        "    </tr>\n",
        "    <tr>\n",
        "      <th>1837</th>\n",
        "      <td>                        XANTHAN GUM (GLUTEN FREE)</td>\n",
        "      <td>                     0</td>\n",
        "      <td>          Baking products</td>\n",
        "      <td>  2916.000000</td>\n",
        "      <td>  501.000000</td>\n",
        "      <td> 20.408029</td>\n",
        "      <td>  8</td>\n",
        "      <td> 0.125310</td>\n",
        "      <td> 1246.397837</td>\n",
        "      <td> 317.350704</td>\n",
        "      <td> 133.954193</td>\n",
        "      <td> 0.084558</td>\n",
        "    </tr>\n",
        "    <tr>\n",
        "      <th>1838</th>\n",
        "      <td>                                 YAKI NORI SHEETS</td>\n",
        "      <td>                   NGS</td>\n",
        "      <td>         Japanese cuisine</td>\n",
        "      <td>    66.500000</td>\n",
        "      <td>   13.300000</td>\n",
        "      <td>  0.000000</td>\n",
        "      <td> 24</td>\n",
        "      <td> 0.002858</td>\n",
        "      <td> 1246.397837</td>\n",
        "      <td> 317.350704</td>\n",
        "      <td> -94.664625</td>\n",
        "      <td> 0.002245</td>\n",
        "    </tr>\n",
        "    <tr>\n",
        "      <th>1839</th>\n",
        "      <td>                                    YELLOW APPLES</td>\n",
        "      <td>                   NGS</td>\n",
        "      <td>                   Fruits</td>\n",
        "      <td>  1661.808990</td>\n",
        "      <td>  451.818990</td>\n",
        "      <td> 29.022002</td>\n",
        "      <td> 10</td>\n",
        "      <td> 0.071413</td>\n",
        "      <td> 1246.397837</td>\n",
        "      <td> 317.350704</td>\n",
        "      <td>  33.328937</td>\n",
        "      <td> 0.076257</td>\n",
        "    </tr>\n",
        "    <tr>\n",
        "      <th>1840</th>\n",
        "      <td>                                  YELLOW BROCCOLI</td>\n",
        "      <td>                   NGS</td>\n",
        "      <td>         Fresh vegetables</td>\n",
        "      <td>    67.040000</td>\n",
        "      <td>   67.040000</td>\n",
        "      <td>  1.793188</td>\n",
        "      <td> 39</td>\n",
        "      <td> 0.002881</td>\n",
        "      <td> 1246.397837</td>\n",
        "      <td> 317.350704</td>\n",
        "      <td> -94.621300</td>\n",
        "      <td> 0.011315</td>\n",
        "    </tr>\n",
        "    <tr>\n",
        "      <th>1841</th>\n",
        "      <td>                YELLOW CAPSICUM ( CHEMICAL FREE )</td>\n",
        "      <td>                   NGS</td>\n",
        "      <td> Chemical free vegetables</td>\n",
        "      <td>    47.000000</td>\n",
        "      <td>   10.250000</td>\n",
        "      <td>  4.537148</td>\n",
        "      <td> 25</td>\n",
        "      <td> 0.002020</td>\n",
        "      <td> 1246.397837</td>\n",
        "      <td> 317.350704</td>\n",
        "      <td> -96.229133</td>\n",
        "      <td> 0.001730</td>\n",
        "    </tr>\n",
        "    <tr>\n",
        "      <th>1842</th>\n",
        "      <td>                  YELLOW CARROT ( CHEMICAL FREE )</td>\n",
        "      <td>                     0</td>\n",
        "      <td>               Vegetables</td>\n",
        "      <td>  1352.000000</td>\n",
        "      <td>  531.860000</td>\n",
        "      <td> 46.353817</td>\n",
        "      <td> 12</td>\n",
        "      <td> 0.058100</td>\n",
        "      <td> 1246.397837</td>\n",
        "      <td> 317.350704</td>\n",
        "      <td>   8.472589</td>\n",
        "      <td> 0.089766</td>\n",
        "    </tr>\n",
        "    <tr>\n",
        "      <th>1843</th>\n",
        "      <td>                  YELLOW CARROT ( CHEMICAL FREE )</td>\n",
        "      <td>                   NGS</td>\n",
        "      <td>         Fresh vegetables</td>\n",
        "      <td>  4177.000000</td>\n",
        "      <td> 1050.000000</td>\n",
        "      <td> 14.790381</td>\n",
        "      <td> 23</td>\n",
        "      <td> 0.179500</td>\n",
        "      <td> 1246.397837</td>\n",
        "      <td> 317.350704</td>\n",
        "      <td> 235.125742</td>\n",
        "      <td> 0.177217</td>\n",
        "    </tr>\n",
        "    <tr>\n",
        "      <th>1844</th>\n",
        "      <td>                                   YELLOW CARROTS</td>\n",
        "      <td>                   NGS</td>\n",
        "      <td>         Fresh vegetables</td>\n",
        "      <td>  1064.050000</td>\n",
        "      <td>  119.820000</td>\n",
        "      <td> 12.365277</td>\n",
        "      <td> 39</td>\n",
        "      <td> 0.045726</td>\n",
        "      <td> 1246.397837</td>\n",
        "      <td> 317.350704</td>\n",
        "      <td> -14.629987</td>\n",
        "      <td> 0.020223</td>\n",
        "    </tr>\n",
        "    <tr>\n",
        "      <th>1845</th>\n",
        "      <td>                           YELLOW CHERRY TOMATOES</td>\n",
        "      <td>            Kheir Misr</td>\n",
        "      <td>         Fresh vegetables</td>\n",
        "      <td>   208.640000</td>\n",
        "      <td>   44.210000</td>\n",
        "      <td>  7.402517</td>\n",
        "      <td> 40</td>\n",
        "      <td> 0.008966</td>\n",
        "      <td> 1246.397837</td>\n",
        "      <td> 317.350704</td>\n",
        "      <td> -83.260561</td>\n",
        "      <td> 0.007462</td>\n",
        "    </tr>\n",
        "    <tr>\n",
        "      <th>1846</th>\n",
        "      <td>                                YELLOW GRAPEFRUIT</td>\n",
        "      <td>                     0</td>\n",
        "      <td>             Fresh fruits</td>\n",
        "      <td>    74.000000</td>\n",
        "      <td>   20.200000</td>\n",
        "      <td>  8.005974</td>\n",
        "      <td> 18</td>\n",
        "      <td> 0.003180</td>\n",
        "      <td> 1246.397837</td>\n",
        "      <td> 317.350704</td>\n",
        "      <td> -94.062891</td>\n",
        "      <td> 0.003409</td>\n",
        "    </tr>\n",
        "    <tr>\n",
        "      <th>1847</th>\n",
        "      <td>                                YELLOW GRAPEFRUIT</td>\n",
        "      <td>                   NGS</td>\n",
        "      <td>                   Fruits</td>\n",
        "      <td>   738.500825</td>\n",
        "      <td>  266.350825</td>\n",
        "      <td> 11.730625</td>\n",
        "      <td> 11</td>\n",
        "      <td> 0.031736</td>\n",
        "      <td> 1246.397837</td>\n",
        "      <td> 317.350704</td>\n",
        "      <td> -40.749189</td>\n",
        "      <td> 0.044954</td>\n",
        "    </tr>\n",
        "    <tr>\n",
        "      <th>1848</th>\n",
        "      <td>                                   YELLOW MUSTARD</td>\n",
        "      <td>      Eden Foods, Inc.</td>\n",
        "      <td>                   Spices</td>\n",
        "      <td>   118.695335</td>\n",
        "      <td>   24.945335</td>\n",
        "      <td> 11.398308</td>\n",
        "      <td>  5</td>\n",
        "      <td> 0.005101</td>\n",
        "      <td> 1246.397837</td>\n",
        "      <td> 317.350704</td>\n",
        "      <td> -90.476930</td>\n",
        "      <td> 0.004210</td>\n",
        "    </tr>\n",
        "    <tr>\n",
        "      <th>1849</th>\n",
        "      <td>                  YELLOW ONIONS ( CHEMICAL FREE )</td>\n",
        "      <td>                   NGS</td>\n",
        "      <td>         Fresh vegetables</td>\n",
        "      <td>    60.000000</td>\n",
        "      <td>   16.620000</td>\n",
        "      <td>  0.964206</td>\n",
        "      <td> 19</td>\n",
        "      <td> 0.002578</td>\n",
        "      <td> 1246.397837</td>\n",
        "      <td> 317.350704</td>\n",
        "      <td> -95.186128</td>\n",
        "      <td> 0.002805</td>\n",
        "    </tr>\n",
        "    <tr>\n",
        "      <th>1850</th>\n",
        "      <td>                         YELLOW SPLIT PEAS / 822G</td>\n",
        "      <td>        Bob's Red Mill</td>\n",
        "      <td>                   Grains</td>\n",
        "      <td>   255.500000</td>\n",
        "      <td>   35.000000</td>\n",
        "      <td>  3.264361</td>\n",
        "      <td> 39</td>\n",
        "      <td> 0.010980</td>\n",
        "      <td> 1246.397837</td>\n",
        "      <td> 317.350704</td>\n",
        "      <td> -79.500927</td>\n",
        "      <td> 0.005907</td>\n",
        "    </tr>\n",
        "    <tr>\n",
        "      <th>1851</th>\n",
        "      <td>                                YELLOW WATERMELON</td>\n",
        "      <td>                   NGS</td>\n",
        "      <td>                   Fruits</td>\n",
        "      <td>   130.000000</td>\n",
        "      <td>   47.500000</td>\n",
        "      <td>  9.050773</td>\n",
        "      <td>  8</td>\n",
        "      <td> 0.005587</td>\n",
        "      <td> 1246.397837</td>\n",
        "      <td> 317.350704</td>\n",
        "      <td> -89.569943</td>\n",
        "      <td> 0.008017</td>\n",
        "    </tr>\n",
        "    <tr>\n",
        "      <th>1852</th>\n",
        "      <td>                       YING/YANG FACIAL ACNE SOAP</td>\n",
        "      <td>                     0</td>\n",
        "      <td>                Cosmetics</td>\n",
        "      <td>    55.000000</td>\n",
        "      <td>   11.000000</td>\n",
        "      <td>  0.000000</td>\n",
        "      <td> 17</td>\n",
        "      <td> 0.002364</td>\n",
        "      <td> 1246.397837</td>\n",
        "      <td> 317.350704</td>\n",
        "      <td> -95.587284</td>\n",
        "      <td> 0.001857</td>\n",
        "    </tr>\n",
        "    <tr>\n",
        "      <th>1853</th>\n",
        "      <td>                              YOUSSFI (TANGERINE)</td>\n",
        "      <td>                   NGS</td>\n",
        "      <td>                   Fruits</td>\n",
        "      <td>    25.000000</td>\n",
        "      <td>    7.500000</td>\n",
        "      <td>  0.000000</td>\n",
        "      <td>  5</td>\n",
        "      <td> 0.001074</td>\n",
        "      <td> 1246.397837</td>\n",
        "      <td> 317.350704</td>\n",
        "      <td> -97.994220</td>\n",
        "      <td> 0.001266</td>\n",
        "    </tr>\n",
        "    <tr>\n",
        "      <th>1854</th>\n",
        "      <td>                     ZARDA EXTRA VIRGIN OLIVE OIL</td>\n",
        "      <td>                   NGS</td>\n",
        "      <td>          Oil &amp; Vinegar  </td>\n",
        "      <td>    51.500000</td>\n",
        "      <td>   10.250000</td>\n",
        "      <td>  0.000000</td>\n",
        "      <td> 24</td>\n",
        "      <td> 0.002213</td>\n",
        "      <td> 1246.397837</td>\n",
        "      <td> 317.350704</td>\n",
        "      <td> -95.868093</td>\n",
        "      <td> 0.001730</td>\n",
        "    </tr>\n",
        "    <tr>\n",
        "      <th>1855</th>\n",
        "      <td>                                         ZUCCHINI</td>\n",
        "      <td>            Kheir Misr</td>\n",
        "      <td>         Fresh vegetables</td>\n",
        "      <td>  1394.760000</td>\n",
        "      <td>  228.990000</td>\n",
        "      <td> 11.888222</td>\n",
        "      <td> 40</td>\n",
        "      <td> 0.059937</td>\n",
        "      <td> 1246.397837</td>\n",
        "      <td> 317.350704</td>\n",
        "      <td>  11.903275</td>\n",
        "      <td> 0.038649</td>\n",
        "    </tr>\n",
        "    <tr>\n",
        "      <th>1856</th>\n",
        "      <td>                                         ZUCCHINI</td>\n",
        "      <td>                   NGS</td>\n",
        "      <td>         Fresh vegetables</td>\n",
        "      <td>     5.000000</td>\n",
        "      <td>    1.250000</td>\n",
        "      <td>  0.000000</td>\n",
        "      <td> 23</td>\n",
        "      <td> 0.000215</td>\n",
        "      <td> 1246.397837</td>\n",
        "      <td> 317.350704</td>\n",
        "      <td> -99.598844</td>\n",
        "      <td> 0.000211</td>\n",
        "    </tr>\n",
        "    <tr>\n",
        "      <th>1857</th>\n",
        "      <td>                                         ZUCCHINI</td>\n",
        "      <td>                   NGS</td>\n",
        "      <td>                  General</td>\n",
        "      <td>    69.871046</td>\n",
        "      <td>   34.471046</td>\n",
        "      <td>  0.000000</td>\n",
        "      <td>  5</td>\n",
        "      <td> 0.003003</td>\n",
        "      <td> 1246.397837</td>\n",
        "      <td> 317.350704</td>\n",
        "      <td> -94.394162</td>\n",
        "      <td> 0.005818</td>\n",
        "    </tr>\n",
        "    <tr>\n",
        "      <th>1858</th>\n",
        "      <td>                       ZUCCHINI ( CHEMICAL FREE )</td>\n",
        "      <td>                     0</td>\n",
        "      <td>               Vegetables</td>\n",
        "      <td>    55.000000</td>\n",
        "      <td>   55.000000</td>\n",
        "      <td>  0.000000</td>\n",
        "      <td> 12</td>\n",
        "      <td> 0.002364</td>\n",
        "      <td> 1246.397837</td>\n",
        "      <td> 317.350704</td>\n",
        "      <td> -95.587284</td>\n",
        "      <td> 0.009283</td>\n",
        "    </tr>\n",
        "    <tr>\n",
        "      <th>1859</th>\n",
        "      <td>                       ZUCCHINI ( CHEMICAL FREE )</td>\n",
        "      <td>                   NGS</td>\n",
        "      <td>         Fresh vegetables</td>\n",
        "      <td>  2934.750000</td>\n",
        "      <td>  807.050000</td>\n",
        "      <td> 24.206725</td>\n",
        "      <td> 25</td>\n",
        "      <td> 0.126116</td>\n",
        "      <td> 1246.397837</td>\n",
        "      <td> 317.350704</td>\n",
        "      <td> 135.458528</td>\n",
        "      <td> 0.136212</td>\n",
        "    </tr>\n",
        "    <tr>\n",
        "      <th>1860</th>\n",
        "      <td>                         ZUCCHINI (CHEMICAL FREE)</td>\n",
        "      <td>                     0</td>\n",
        "      <td> Chemical free vegetables</td>\n",
        "      <td>   193.330000</td>\n",
        "      <td>   44.580000</td>\n",
        "      <td>  4.710685</td>\n",
        "      <td> 17</td>\n",
        "      <td> 0.008308</td>\n",
        "      <td> 1246.397837</td>\n",
        "      <td> 317.350704</td>\n",
        "      <td> -84.488901</td>\n",
        "      <td> 0.007524</td>\n",
        "    </tr>\n",
        "    <tr>\n",
        "      <th>1861</th>\n",
        "      <td>                         ZUCCHINI (CHEMICAL FREE)</td>\n",
        "      <td>                     0</td>\n",
        "      <td>               Vegetables</td>\n",
        "      <td>  2690.368074</td>\n",
        "      <td>  887.868074</td>\n",
        "      <td> 12.090172</td>\n",
        "      <td> 11</td>\n",
        "      <td> 0.115614</td>\n",
        "      <td> 1246.397837</td>\n",
        "      <td> 317.350704</td>\n",
        "      <td> 115.851472</td>\n",
        "      <td> 0.149853</td>\n",
        "    </tr>\n",
        "    <tr>\n",
        "      <th>1862</th>\n",
        "      <td>                               ZUCCHINI (ORGANIC)</td>\n",
        "      <td>                     0</td>\n",
        "      <td>               Vegetables</td>\n",
        "      <td>  1507.728855</td>\n",
        "      <td>  572.728855</td>\n",
        "      <td> 19.975714</td>\n",
        "      <td> 10</td>\n",
        "      <td> 0.064792</td>\n",
        "      <td> 1246.397837</td>\n",
        "      <td> 317.350704</td>\n",
        "      <td>  20.966902</td>\n",
        "      <td> 0.096664</td>\n",
        "    </tr>\n",
        "    <tr>\n",
        "      <th>1863</th>\n",
        "      <td>                                  ZUCCHINI / 500G</td>\n",
        "      <td>                   NGS</td>\n",
        "      <td>            Fresh Produce</td>\n",
        "      <td>   198.360000</td>\n",
        "      <td>   45.820000</td>\n",
        "      <td>  4.227399</td>\n",
        "      <td> 45</td>\n",
        "      <td> 0.008524</td>\n",
        "      <td> 1246.397837</td>\n",
        "      <td> 317.350704</td>\n",
        "      <td> -84.085338</td>\n",
        "      <td> 0.007733</td>\n",
        "    </tr>\n",
        "    <tr>\n",
        "      <th>1864</th>\n",
        "      <td>                                 ZUCCHINI FLOWERS</td>\n",
        "      <td>                   NGS</td>\n",
        "      <td>         Fresh vegetables</td>\n",
        "      <td>   266.000000</td>\n",
        "      <td>   56.000000</td>\n",
        "      <td> 12.158361</td>\n",
        "      <td> 23</td>\n",
        "      <td> 0.011431</td>\n",
        "      <td> 1246.397837</td>\n",
        "      <td> 317.350704</td>\n",
        "      <td> -78.658500</td>\n",
        "      <td> 0.009452</td>\n",
        "    </tr>\n",
        "    <tr>\n",
        "      <th>1865</th>\n",
        "      <td>                 ZUCCHINI FLOWERS (CHEMICAL FREE)</td>\n",
        "      <td>                     0</td>\n",
        "      <td>               Vegetables</td>\n",
        "      <td>   220.000000</td>\n",
        "      <td>   70.000000</td>\n",
        "      <td> 24.938759</td>\n",
        "      <td> 11</td>\n",
        "      <td> 0.009454</td>\n",
        "      <td> 1246.397837</td>\n",
        "      <td> 317.350704</td>\n",
        "      <td> -82.349135</td>\n",
        "      <td> 0.011814</td>\n",
        "    </tr>\n",
        "    <tr>\n",
        "      <th>1866</th>\n",
        "      <td>   ZUCCHINI JAM WITH PISTACHIO &amp; MASTIC (NATURAL)</td>\n",
        "      <td>                     0</td>\n",
        "      <td>                      Jam</td>\n",
        "      <td>   200.000000</td>\n",
        "      <td>   50.000000</td>\n",
        "      <td>  0.000000</td>\n",
        "      <td>  7</td>\n",
        "      <td> 0.008595</td>\n",
        "      <td> 1246.397837</td>\n",
        "      <td> 317.350704</td>\n",
        "      <td> -83.953759</td>\n",
        "      <td> 0.008439</td>\n",
        "    </tr>\n",
        "  </tbody>\n",
        "</table>\n",
        "<p>1867 rows \u00d7 12 columns</p>\n",
        "</div>"
       ],
       "metadata": {},
       "output_type": "pyout",
       "prompt_number": 11,
       "text": [
        "                                               Product                  Brand  \\\n",
        "0                                 7 GRAIN MILK / 946ML  Pacific Natural Foods   \n",
        "1                                     ACAI BERRY JUICE                      0   \n",
        "2                                     ACAI BERRY JUICE          Berry company   \n",
        "3                                     ACNE FACIAL SOAP          Healing Herbs   \n",
        "4                              ACQUA PANA WATER 1000ML                    NGS   \n",
        "5                               ACQUA PANA WATER 500ML                    NGS   \n",
        "6                         ACQUA PANA WATER 500ML GLASS                    NGS   \n",
        "7                ACTIBIF CHEESE (FOR BETTER DIGESTION)                      0   \n",
        "8             AGAR AGAR FLAKES (HAND HARVESTED) - WILD                      0   \n",
        "9                      AGAVE SYRUP ( ORGANIC ) / 473ML  Suzanne's Specialties   \n",
        "10            ALL PURPOSE BAKING FLOUR ( GLUTEN FREE )                    NGS   \n",
        "11     ALL PURPOSE BAKING FLOUR ( GLUTEN FREE ) / 623G         Bob's Red Mill   \n",
        "12              ALL PURPOSE BAKING FLOUR (GLUTEN FREE)                      0   \n",
        "13              ALL PURPOSE BAKING FLOUR (GLUTEN FREE)                      0   \n",
        "14    ALMOND BISCUITS (GLUTEN FREE - TRACES OF GLUTEN)                      0   \n",
        "15                          ALMOND BREAD (GLUTEN FREE)                      0   \n",
        "16                                       ALMOND BUTTER                      0   \n",
        "17                           ALMOND BUTTER (HOME-MADE)              Signature   \n",
        "18                             ALMOND BUTTER (NATURAL)                      0   \n",
        "19                                   ALMOND MEAL FLOUR                      0   \n",
        "20                             ALMOND MILK ( ORGANIC )                  Alpro   \n",
        "21                     ALMOND MILK ( ORGANIC ) / 946ML  Pacific Natural Foods   \n",
        "22                       ALMOND MILK ( ORGANIC ) 946ML                      0   \n",
        "23                            ALMOND MILK ( ORIGINAL )                    NGS   \n",
        "24                  ALMOND MILK (ORGANIC) - SUGAR-FREE                      0   \n",
        "25                           ALMOND MILK (UNSWEETENED)                      0   \n",
        "26                     ALMOND MILK WITH DARK CHOCOLATE            Pure almond   \n",
        "27                            ALMOND MILK WITH VANILLA            Pure almond   \n",
        "28                          ALMOND ORIGINAL (ORIGINAL)                      0   \n",
        "29                        ALMOND'S AND OATS BODY SCRUB                      0   \n",
        "...                                                ...                    ...   \n",
        "1837                         XANTHAN GUM (GLUTEN FREE)                      0   \n",
        "1838                                  YAKI NORI SHEETS                    NGS   \n",
        "1839                                     YELLOW APPLES                    NGS   \n",
        "1840                                   YELLOW BROCCOLI                    NGS   \n",
        "1841                 YELLOW CAPSICUM ( CHEMICAL FREE )                    NGS   \n",
        "1842                   YELLOW CARROT ( CHEMICAL FREE )                      0   \n",
        "1843                   YELLOW CARROT ( CHEMICAL FREE )                    NGS   \n",
        "1844                                    YELLOW CARROTS                    NGS   \n",
        "1845                            YELLOW CHERRY TOMATOES             Kheir Misr   \n",
        "1846                                 YELLOW GRAPEFRUIT                      0   \n",
        "1847                                 YELLOW GRAPEFRUIT                    NGS   \n",
        "1848                                    YELLOW MUSTARD       Eden Foods, Inc.   \n",
        "1849                   YELLOW ONIONS ( CHEMICAL FREE )                    NGS   \n",
        "1850                          YELLOW SPLIT PEAS / 822G         Bob's Red Mill   \n",
        "1851                                 YELLOW WATERMELON                    NGS   \n",
        "1852                        YING/YANG FACIAL ACNE SOAP                      0   \n",
        "1853                               YOUSSFI (TANGERINE)                    NGS   \n",
        "1854                      ZARDA EXTRA VIRGIN OLIVE OIL                    NGS   \n",
        "1855                                          ZUCCHINI             Kheir Misr   \n",
        "1856                                          ZUCCHINI                    NGS   \n",
        "1857                                          ZUCCHINI                    NGS   \n",
        "1858                        ZUCCHINI ( CHEMICAL FREE )                      0   \n",
        "1859                        ZUCCHINI ( CHEMICAL FREE )                    NGS   \n",
        "1860                          ZUCCHINI (CHEMICAL FREE)                      0   \n",
        "1861                          ZUCCHINI (CHEMICAL FREE)                      0   \n",
        "1862                                ZUCCHINI (ORGANIC)                      0   \n",
        "1863                                   ZUCCHINI / 500G                    NGS   \n",
        "1864                                  ZUCCHINI FLOWERS                    NGS   \n",
        "1865                  ZUCCHINI FLOWERS (CHEMICAL FREE)                      0   \n",
        "1866    ZUCCHINI JAM WITH PISTACHIO & MASTIC (NATURAL)                      0   \n",
        "\n",
        "                          Type       Revenue  Gross Profit       CMGR  Period  \\\n",
        "0                         Milk   1492.900000    271.900000  10.650578      38   \n",
        "1                    Beverages     60.000000     12.000000   0.000000       4   \n",
        "2                       Juices    308.000000     78.000000   9.232890      26   \n",
        "3                    Cosmetics    110.000000     22.000000   3.355778      21   \n",
        "4                    Beverages     10.000000     10.000000   0.000000      24   \n",
        "5                    Beverages      6.500000      6.500000   0.000000      24   \n",
        "6                    Beverages      9.000000      9.000000   0.000000      24   \n",
        "7                       cheese    340.000000     80.000000  22.284454       8   \n",
        "8             Food supplements    688.000000    178.000000  20.808944      11   \n",
        "9                   Sweeteners    647.100000     80.100000   5.795637      39   \n",
        "10                       Flour    300.000000     60.000000  10.582302      16   \n",
        "11                       Flour   4648.480000    904.180000  12.200928      40   \n",
        "12             Baking products   4176.600000    805.350000  22.030442       9   \n",
        "13                     General   1375.750000    266.250000  36.817595      11   \n",
        "14                      Snacks     54.000000     54.000000   3.436608      12   \n",
        "15                       Bread    180.000000     45.000000   0.000000       7   \n",
        "16                  Nut butter   7913.067970   1517.067970  70.496165       9   \n",
        "17                     spreads   4380.000000    584.000000  21.533637      22   \n",
        "18                  Nut butter   2600.000000    520.000000  45.421543       8   \n",
        "19             Baking products  12723.237064   2630.467064  34.112647      11   \n",
        "20              Non-dairy milk    211.500000     44.520000   2.266912      24   \n",
        "21              Non-dairy milk   9418.840000   1695.440000  12.157194      40   \n",
        "22              Non-dairy milk    102.000000     25.200000   0.000000      11   \n",
        "23              Non-dairy milk   1128.400000    216.400000   8.046970      20   \n",
        "24              Non-dairy milk   5051.720515    221.720515  14.907526       5   \n",
        "25              Non-dairy milk    608.000000    152.000000   0.000000      16   \n",
        "26              Non-dairy milk     57.000000     11.440000   0.000000      24   \n",
        "27              Non-dairy milk    114.000000     24.160000   5.946309      24   \n",
        "28              Non-dairy milk    512.000000    128.000000  13.011578      17   \n",
        "29                   Cosmetics     70.000000     14.000000   0.000000      18   \n",
        "...                        ...           ...           ...        ...     ...   \n",
        "1837           Baking products   2916.000000    501.000000  20.408029       8   \n",
        "1838          Japanese cuisine     66.500000     13.300000   0.000000      24   \n",
        "1839                    Fruits   1661.808990    451.818990  29.022002      10   \n",
        "1840          Fresh vegetables     67.040000     67.040000   1.793188      39   \n",
        "1841  Chemical free vegetables     47.000000     10.250000   4.537148      25   \n",
        "1842                Vegetables   1352.000000    531.860000  46.353817      12   \n",
        "1843          Fresh vegetables   4177.000000   1050.000000  14.790381      23   \n",
        "1844          Fresh vegetables   1064.050000    119.820000  12.365277      39   \n",
        "1845          Fresh vegetables    208.640000     44.210000   7.402517      40   \n",
        "1846              Fresh fruits     74.000000     20.200000   8.005974      18   \n",
        "1847                    Fruits    738.500825    266.350825  11.730625      11   \n",
        "1848                    Spices    118.695335     24.945335  11.398308       5   \n",
        "1849          Fresh vegetables     60.000000     16.620000   0.964206      19   \n",
        "1850                    Grains    255.500000     35.000000   3.264361      39   \n",
        "1851                    Fruits    130.000000     47.500000   9.050773       8   \n",
        "1852                 Cosmetics     55.000000     11.000000   0.000000      17   \n",
        "1853                    Fruits     25.000000      7.500000   0.000000       5   \n",
        "1854           Oil & Vinegar       51.500000     10.250000   0.000000      24   \n",
        "1855          Fresh vegetables   1394.760000    228.990000  11.888222      40   \n",
        "1856          Fresh vegetables      5.000000      1.250000   0.000000      23   \n",
        "1857                   General     69.871046     34.471046   0.000000       5   \n",
        "1858                Vegetables     55.000000     55.000000   0.000000      12   \n",
        "1859          Fresh vegetables   2934.750000    807.050000  24.206725      25   \n",
        "1860  Chemical free vegetables    193.330000     44.580000   4.710685      17   \n",
        "1861                Vegetables   2690.368074    887.868074  12.090172      11   \n",
        "1862                Vegetables   1507.728855    572.728855  19.975714      10   \n",
        "1863             Fresh Produce    198.360000     45.820000   4.227399      45   \n",
        "1864          Fresh vegetables    266.000000     56.000000  12.158361      23   \n",
        "1865                Vegetables    220.000000     70.000000  24.938759      11   \n",
        "1866                       Jam    200.000000     50.000000   0.000000       7   \n",
        "\n",
        "      %Total Revenue  Average Revenue  Average Gross Profit  \\\n",
        "0           0.064155      1246.397837            317.350704   \n",
        "1           0.002578      1246.397837            317.350704   \n",
        "2           0.013236      1246.397837            317.350704   \n",
        "3           0.004727      1246.397837            317.350704   \n",
        "4           0.000430      1246.397837            317.350704   \n",
        "5           0.000279      1246.397837            317.350704   \n",
        "6           0.000387      1246.397837            317.350704   \n",
        "7           0.014611      1246.397837            317.350704   \n",
        "8           0.029566      1246.397837            317.350704   \n",
        "9           0.027808      1246.397837            317.350704   \n",
        "10          0.012892      1246.397837            317.350704   \n",
        "11          0.199761      1246.397837            317.350704   \n",
        "12          0.179482      1246.397837            317.350704   \n",
        "13          0.059121      1246.397837            317.350704   \n",
        "14          0.002321      1246.397837            317.350704   \n",
        "15          0.007735      1246.397837            317.350704   \n",
        "16          0.340051      1246.397837            317.350704   \n",
        "17          0.188223      1246.397837            317.350704   \n",
        "18          0.111731      1246.397837            317.350704   \n",
        "19          0.546760      1246.397837            317.350704   \n",
        "20          0.009089      1246.397837            317.350704   \n",
        "21          0.404759      1246.397837            317.350704   \n",
        "22          0.004383      1246.397837            317.350704   \n",
        "23          0.048491      1246.397837            317.350704   \n",
        "24          0.217089      1246.397837            317.350704   \n",
        "25          0.026128      1246.397837            317.350704   \n",
        "26          0.002449      1246.397837            317.350704   \n",
        "27          0.004899      1246.397837            317.350704   \n",
        "28          0.022002      1246.397837            317.350704   \n",
        "29          0.003008      1246.397837            317.350704   \n",
        "...              ...              ...                   ...   \n",
        "1837        0.125310      1246.397837            317.350704   \n",
        "1838        0.002858      1246.397837            317.350704   \n",
        "1839        0.071413      1246.397837            317.350704   \n",
        "1840        0.002881      1246.397837            317.350704   \n",
        "1841        0.002020      1246.397837            317.350704   \n",
        "1842        0.058100      1246.397837            317.350704   \n",
        "1843        0.179500      1246.397837            317.350704   \n",
        "1844        0.045726      1246.397837            317.350704   \n",
        "1845        0.008966      1246.397837            317.350704   \n",
        "1846        0.003180      1246.397837            317.350704   \n",
        "1847        0.031736      1246.397837            317.350704   \n",
        "1848        0.005101      1246.397837            317.350704   \n",
        "1849        0.002578      1246.397837            317.350704   \n",
        "1850        0.010980      1246.397837            317.350704   \n",
        "1851        0.005587      1246.397837            317.350704   \n",
        "1852        0.002364      1246.397837            317.350704   \n",
        "1853        0.001074      1246.397837            317.350704   \n",
        "1854        0.002213      1246.397837            317.350704   \n",
        "1855        0.059937      1246.397837            317.350704   \n",
        "1856        0.000215      1246.397837            317.350704   \n",
        "1857        0.003003      1246.397837            317.350704   \n",
        "1858        0.002364      1246.397837            317.350704   \n",
        "1859        0.126116      1246.397837            317.350704   \n",
        "1860        0.008308      1246.397837            317.350704   \n",
        "1861        0.115614      1246.397837            317.350704   \n",
        "1862        0.064792      1246.397837            317.350704   \n",
        "1863        0.008524      1246.397837            317.350704   \n",
        "1864        0.011431      1246.397837            317.350704   \n",
        "1865        0.009454      1246.397837            317.350704   \n",
        "1866        0.008595      1246.397837            317.350704   \n",
        "\n",
        "      % Variation from Average  %Total Gross Profit  \n",
        "0                    19.777165             0.045891  \n",
        "1                   -95.186128             0.002025  \n",
        "2                   -75.288789             0.013165  \n",
        "3                   -91.174567             0.003713  \n",
        "4                   -99.197688             0.001688  \n",
        "5                   -99.478497             0.001097  \n",
        "6                   -99.277919             0.001519  \n",
        "7                   -72.721390             0.013502  \n",
        "8                   -44.800931             0.030043  \n",
        "9                   -48.082387             0.013519  \n",
        "10                  -75.930639             0.010127  \n",
        "11                  272.953150             0.152606  \n",
        "12                  235.093649             0.135925  \n",
        "13                   10.378080             0.044937  \n",
        "14                  -95.667515             0.009114  \n",
        "15                  -85.558383             0.007595  \n",
        "16                  534.874976             0.256048  \n",
        "17                  251.412676             0.098566  \n",
        "18                  108.601132             0.087765  \n",
        "19                  920.800637             0.443965  \n",
        "20                  -83.031100             0.007514  \n",
        "21                  655.684880             0.286153  \n",
        "22                  -91.816417             0.004253  \n",
        "23                   -9.467109             0.036524  \n",
        "24                  305.305623             0.037422  \n",
        "25                  -51.219428             0.025654  \n",
        "26                  -95.426821             0.001931  \n",
        "27                  -90.853643             0.004078  \n",
        "28                  -58.921623             0.021604  \n",
        "29                  -94.383816             0.002363  \n",
        "...                        ...                  ...  \n",
        "1837                133.954193             0.084558  \n",
        "1838                -94.664625             0.002245  \n",
        "1839                 33.328937             0.076257  \n",
        "1840                -94.621300             0.011315  \n",
        "1841                -96.229133             0.001730  \n",
        "1842                  8.472589             0.089766  \n",
        "1843                235.125742             0.177217  \n",
        "1844                -14.629987             0.020223  \n",
        "1845                -83.260561             0.007462  \n",
        "1846                -94.062891             0.003409  \n",
        "1847                -40.749189             0.044954  \n",
        "1848                -90.476930             0.004210  \n",
        "1849                -95.186128             0.002805  \n",
        "1850                -79.500927             0.005907  \n",
        "1851                -89.569943             0.008017  \n",
        "1852                -95.587284             0.001857  \n",
        "1853                -97.994220             0.001266  \n",
        "1854                -95.868093             0.001730  \n",
        "1855                 11.903275             0.038649  \n",
        "1856                -99.598844             0.000211  \n",
        "1857                -94.394162             0.005818  \n",
        "1858                -95.587284             0.009283  \n",
        "1859                135.458528             0.136212  \n",
        "1860                -84.488901             0.007524  \n",
        "1861                115.851472             0.149853  \n",
        "1862                 20.966902             0.096664  \n",
        "1863                -84.085338             0.007733  \n",
        "1864                -78.658500             0.009452  \n",
        "1865                -82.349135             0.011814  \n",
        "1866                -83.953759             0.008439  \n",
        "\n",
        "[1867 rows x 12 columns]"
       ]
      }
     ],
     "prompt_number": 11
    },
    {
     "cell_type": "code",
     "collapsed": false,
     "input": [],
     "language": "python",
     "metadata": {},
     "outputs": []
    }
   ],
   "metadata": {}
  }
 ]
}
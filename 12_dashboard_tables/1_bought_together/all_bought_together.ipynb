{
 "metadata": {
  "name": "",
  "signature": "sha256:3266ff8863e1c0fbfe6cb582df7fcbf75204c7dc995fd49209b6a05e4d3fa8b4"
 },
 "nbformat": 3,
 "nbformat_minor": 0,
 "worksheets": [
  {
   "cells": [
    {
     "cell_type": "code",
     "collapsed": false,
     "input": [
      "import pandas as pd\n",
      "#import yaml\n",
      "\n",
      "#with open(\"config.yaml\", 'r') as ymlfile:\n",
      "    #cfg = yaml.load(ymlfile)\n",
      "\n",
      "#df = pd.read_csv(cfg['root'] + cfg['dir_data_shopify'] + cfg[\"ip_orders\"], low_memory=False)\n",
      "\n",
      "df = pd.read_csv('C:\\Users\\saisree849\\Documents\\GitHub\\NGS-2.0\\\\12_dashboard_tables\\data_input\\shopify\\orders_export.csv', low_memory=False)\n",
      "df"
     ],
     "language": "python",
     "metadata": {},
     "outputs": [
      {
       "html": [
        "<div style=\"max-height:1000px;max-width:1500px;overflow:auto;\">\n",
        "<table border=\"1\" class=\"dataframe\">\n",
        "  <thead>\n",
        "    <tr style=\"text-align: right;\">\n",
        "      <th></th>\n",
        "      <th>Name</th>\n",
        "      <th>Email</th>\n",
        "      <th>Financial Status</th>\n",
        "      <th>Paid at</th>\n",
        "      <th>Fulfillment Status</th>\n",
        "      <th>Fulfilled at</th>\n",
        "      <th>Accepts Marketing</th>\n",
        "      <th>Currency</th>\n",
        "      <th>Subtotal</th>\n",
        "      <th>Shipping</th>\n",
        "      <th>...</th>\n",
        "      <th>Tax 1 Name</th>\n",
        "      <th>Tax 1 Value</th>\n",
        "      <th>Tax 2 Name</th>\n",
        "      <th>Tax 2 Value</th>\n",
        "      <th>Tax 3 Name</th>\n",
        "      <th>Tax 3 Value</th>\n",
        "      <th>Tax 4 Name</th>\n",
        "      <th>Tax 4 Value</th>\n",
        "      <th>Tax 5 Name</th>\n",
        "      <th>Tax 5 Value</th>\n",
        "    </tr>\n",
        "  </thead>\n",
        "  <tbody>\n",
        "    <tr>\n",
        "      <th>0    </th>\n",
        "      <td> #10367</td>\n",
        "      <td>  rehabmansour@gmail.com</td>\n",
        "      <td> pending</td>\n",
        "      <td>                       NaN</td>\n",
        "      <td> unfulfilled</td>\n",
        "      <td>                       NaN</td>\n",
        "      <td>  no</td>\n",
        "      <td> EGP</td>\n",
        "      <td> 375.30</td>\n",
        "      <td> 10</td>\n",
        "      <td>...</td>\n",
        "      <td>NaN</td>\n",
        "      <td>NaN</td>\n",
        "      <td>NaN</td>\n",
        "      <td>NaN</td>\n",
        "      <td>NaN</td>\n",
        "      <td>NaN</td>\n",
        "      <td>NaN</td>\n",
        "      <td>NaN</td>\n",
        "      <td>NaN</td>\n",
        "      <td>NaN</td>\n",
        "    </tr>\n",
        "    <tr>\n",
        "      <th>1    </th>\n",
        "      <td> #10367</td>\n",
        "      <td>  rehabmansour@gmail.com</td>\n",
        "      <td>     NaN</td>\n",
        "      <td>                       NaN</td>\n",
        "      <td>         NaN</td>\n",
        "      <td>                       NaN</td>\n",
        "      <td> NaN</td>\n",
        "      <td> NaN</td>\n",
        "      <td>    NaN</td>\n",
        "      <td>NaN</td>\n",
        "      <td>...</td>\n",
        "      <td>NaN</td>\n",
        "      <td>NaN</td>\n",
        "      <td>NaN</td>\n",
        "      <td>NaN</td>\n",
        "      <td>NaN</td>\n",
        "      <td>NaN</td>\n",
        "      <td>NaN</td>\n",
        "      <td>NaN</td>\n",
        "      <td>NaN</td>\n",
        "      <td>NaN</td>\n",
        "    </tr>\n",
        "    <tr>\n",
        "      <th>2    </th>\n",
        "      <td> #10367</td>\n",
        "      <td>  rehabmansour@gmail.com</td>\n",
        "      <td>     NaN</td>\n",
        "      <td>                       NaN</td>\n",
        "      <td>         NaN</td>\n",
        "      <td>                       NaN</td>\n",
        "      <td> NaN</td>\n",
        "      <td> NaN</td>\n",
        "      <td>    NaN</td>\n",
        "      <td>NaN</td>\n",
        "      <td>...</td>\n",
        "      <td>NaN</td>\n",
        "      <td>NaN</td>\n",
        "      <td>NaN</td>\n",
        "      <td>NaN</td>\n",
        "      <td>NaN</td>\n",
        "      <td>NaN</td>\n",
        "      <td>NaN</td>\n",
        "      <td>NaN</td>\n",
        "      <td>NaN</td>\n",
        "      <td>NaN</td>\n",
        "    </tr>\n",
        "    <tr>\n",
        "      <th>3    </th>\n",
        "      <td> #10366</td>\n",
        "      <td>     nabouheif@yahoo.com</td>\n",
        "      <td> pending</td>\n",
        "      <td>                       NaN</td>\n",
        "      <td> unfulfilled</td>\n",
        "      <td>                       NaN</td>\n",
        "      <td>  no</td>\n",
        "      <td> EGP</td>\n",
        "      <td> 162.90</td>\n",
        "      <td> 10</td>\n",
        "      <td>...</td>\n",
        "      <td>NaN</td>\n",
        "      <td>NaN</td>\n",
        "      <td>NaN</td>\n",
        "      <td>NaN</td>\n",
        "      <td>NaN</td>\n",
        "      <td>NaN</td>\n",
        "      <td>NaN</td>\n",
        "      <td>NaN</td>\n",
        "      <td>NaN</td>\n",
        "      <td>NaN</td>\n",
        "    </tr>\n",
        "    <tr>\n",
        "      <th>4    </th>\n",
        "      <td> #10366</td>\n",
        "      <td>     nabouheif@yahoo.com</td>\n",
        "      <td>     NaN</td>\n",
        "      <td>                       NaN</td>\n",
        "      <td>         NaN</td>\n",
        "      <td>                       NaN</td>\n",
        "      <td> NaN</td>\n",
        "      <td> NaN</td>\n",
        "      <td>    NaN</td>\n",
        "      <td>NaN</td>\n",
        "      <td>...</td>\n",
        "      <td>NaN</td>\n",
        "      <td>NaN</td>\n",
        "      <td>NaN</td>\n",
        "      <td>NaN</td>\n",
        "      <td>NaN</td>\n",
        "      <td>NaN</td>\n",
        "      <td>NaN</td>\n",
        "      <td>NaN</td>\n",
        "      <td>NaN</td>\n",
        "      <td>NaN</td>\n",
        "    </tr>\n",
        "    <tr>\n",
        "      <th>5    </th>\n",
        "      <td> #10366</td>\n",
        "      <td>     nabouheif@yahoo.com</td>\n",
        "      <td>     NaN</td>\n",
        "      <td>                       NaN</td>\n",
        "      <td>         NaN</td>\n",
        "      <td>                       NaN</td>\n",
        "      <td> NaN</td>\n",
        "      <td> NaN</td>\n",
        "      <td>    NaN</td>\n",
        "      <td>NaN</td>\n",
        "      <td>...</td>\n",
        "      <td>NaN</td>\n",
        "      <td>NaN</td>\n",
        "      <td>NaN</td>\n",
        "      <td>NaN</td>\n",
        "      <td>NaN</td>\n",
        "      <td>NaN</td>\n",
        "      <td>NaN</td>\n",
        "      <td>NaN</td>\n",
        "      <td>NaN</td>\n",
        "      <td>NaN</td>\n",
        "    </tr>\n",
        "    <tr>\n",
        "      <th>6    </th>\n",
        "      <td> #10365</td>\n",
        "      <td>  fracicardi@hotmail.com</td>\n",
        "      <td> pending</td>\n",
        "      <td>                       NaN</td>\n",
        "      <td> unfulfilled</td>\n",
        "      <td>                       NaN</td>\n",
        "      <td>  no</td>\n",
        "      <td> EGP</td>\n",
        "      <td> 129.00</td>\n",
        "      <td> 15</td>\n",
        "      <td>...</td>\n",
        "      <td>NaN</td>\n",
        "      <td>NaN</td>\n",
        "      <td>NaN</td>\n",
        "      <td>NaN</td>\n",
        "      <td>NaN</td>\n",
        "      <td>NaN</td>\n",
        "      <td>NaN</td>\n",
        "      <td>NaN</td>\n",
        "      <td>NaN</td>\n",
        "      <td>NaN</td>\n",
        "    </tr>\n",
        "    <tr>\n",
        "      <th>7    </th>\n",
        "      <td> #10365</td>\n",
        "      <td>  fracicardi@hotmail.com</td>\n",
        "      <td>     NaN</td>\n",
        "      <td>                       NaN</td>\n",
        "      <td>         NaN</td>\n",
        "      <td>                       NaN</td>\n",
        "      <td> NaN</td>\n",
        "      <td> NaN</td>\n",
        "      <td>    NaN</td>\n",
        "      <td>NaN</td>\n",
        "      <td>...</td>\n",
        "      <td>NaN</td>\n",
        "      <td>NaN</td>\n",
        "      <td>NaN</td>\n",
        "      <td>NaN</td>\n",
        "      <td>NaN</td>\n",
        "      <td>NaN</td>\n",
        "      <td>NaN</td>\n",
        "      <td>NaN</td>\n",
        "      <td>NaN</td>\n",
        "      <td>NaN</td>\n",
        "    </tr>\n",
        "    <tr>\n",
        "      <th>8    </th>\n",
        "      <td> #10365</td>\n",
        "      <td>  fracicardi@hotmail.com</td>\n",
        "      <td>     NaN</td>\n",
        "      <td>                       NaN</td>\n",
        "      <td>         NaN</td>\n",
        "      <td>                       NaN</td>\n",
        "      <td> NaN</td>\n",
        "      <td> NaN</td>\n",
        "      <td>    NaN</td>\n",
        "      <td>NaN</td>\n",
        "      <td>...</td>\n",
        "      <td>NaN</td>\n",
        "      <td>NaN</td>\n",
        "      <td>NaN</td>\n",
        "      <td>NaN</td>\n",
        "      <td>NaN</td>\n",
        "      <td>NaN</td>\n",
        "      <td>NaN</td>\n",
        "      <td>NaN</td>\n",
        "      <td>NaN</td>\n",
        "      <td>NaN</td>\n",
        "    </tr>\n",
        "    <tr>\n",
        "      <th>9    </th>\n",
        "      <td> #10365</td>\n",
        "      <td>  fracicardi@hotmail.com</td>\n",
        "      <td>     NaN</td>\n",
        "      <td>                       NaN</td>\n",
        "      <td>         NaN</td>\n",
        "      <td>                       NaN</td>\n",
        "      <td> NaN</td>\n",
        "      <td> NaN</td>\n",
        "      <td>    NaN</td>\n",
        "      <td>NaN</td>\n",
        "      <td>...</td>\n",
        "      <td>NaN</td>\n",
        "      <td>NaN</td>\n",
        "      <td>NaN</td>\n",
        "      <td>NaN</td>\n",
        "      <td>NaN</td>\n",
        "      <td>NaN</td>\n",
        "      <td>NaN</td>\n",
        "      <td>NaN</td>\n",
        "      <td>NaN</td>\n",
        "      <td>NaN</td>\n",
        "    </tr>\n",
        "    <tr>\n",
        "      <th>10   </th>\n",
        "      <td> #10365</td>\n",
        "      <td>  fracicardi@hotmail.com</td>\n",
        "      <td>     NaN</td>\n",
        "      <td>                       NaN</td>\n",
        "      <td>         NaN</td>\n",
        "      <td>                       NaN</td>\n",
        "      <td> NaN</td>\n",
        "      <td> NaN</td>\n",
        "      <td>    NaN</td>\n",
        "      <td>NaN</td>\n",
        "      <td>...</td>\n",
        "      <td>NaN</td>\n",
        "      <td>NaN</td>\n",
        "      <td>NaN</td>\n",
        "      <td>NaN</td>\n",
        "      <td>NaN</td>\n",
        "      <td>NaN</td>\n",
        "      <td>NaN</td>\n",
        "      <td>NaN</td>\n",
        "      <td>NaN</td>\n",
        "      <td>NaN</td>\n",
        "    </tr>\n",
        "    <tr>\n",
        "      <th>11   </th>\n",
        "      <td> #10365</td>\n",
        "      <td>  fracicardi@hotmail.com</td>\n",
        "      <td>     NaN</td>\n",
        "      <td>                       NaN</td>\n",
        "      <td>         NaN</td>\n",
        "      <td>                       NaN</td>\n",
        "      <td> NaN</td>\n",
        "      <td> NaN</td>\n",
        "      <td>    NaN</td>\n",
        "      <td>NaN</td>\n",
        "      <td>...</td>\n",
        "      <td>NaN</td>\n",
        "      <td>NaN</td>\n",
        "      <td>NaN</td>\n",
        "      <td>NaN</td>\n",
        "      <td>NaN</td>\n",
        "      <td>NaN</td>\n",
        "      <td>NaN</td>\n",
        "      <td>NaN</td>\n",
        "      <td>NaN</td>\n",
        "      <td>NaN</td>\n",
        "    </tr>\n",
        "    <tr>\n",
        "      <th>12   </th>\n",
        "      <td> #10364</td>\n",
        "      <td>  ahmed.fakhry@gmail.com</td>\n",
        "      <td> pending</td>\n",
        "      <td>                       NaN</td>\n",
        "      <td> unfulfilled</td>\n",
        "      <td>                       NaN</td>\n",
        "      <td>  no</td>\n",
        "      <td> EGP</td>\n",
        "      <td> 660.10</td>\n",
        "      <td> 10</td>\n",
        "      <td>...</td>\n",
        "      <td>NaN</td>\n",
        "      <td>NaN</td>\n",
        "      <td>NaN</td>\n",
        "      <td>NaN</td>\n",
        "      <td>NaN</td>\n",
        "      <td>NaN</td>\n",
        "      <td>NaN</td>\n",
        "      <td>NaN</td>\n",
        "      <td>NaN</td>\n",
        "      <td>NaN</td>\n",
        "    </tr>\n",
        "    <tr>\n",
        "      <th>13   </th>\n",
        "      <td> #10364</td>\n",
        "      <td>  ahmed.fakhry@gmail.com</td>\n",
        "      <td>     NaN</td>\n",
        "      <td>                       NaN</td>\n",
        "      <td>         NaN</td>\n",
        "      <td>                       NaN</td>\n",
        "      <td> NaN</td>\n",
        "      <td> NaN</td>\n",
        "      <td>    NaN</td>\n",
        "      <td>NaN</td>\n",
        "      <td>...</td>\n",
        "      <td>NaN</td>\n",
        "      <td>NaN</td>\n",
        "      <td>NaN</td>\n",
        "      <td>NaN</td>\n",
        "      <td>NaN</td>\n",
        "      <td>NaN</td>\n",
        "      <td>NaN</td>\n",
        "      <td>NaN</td>\n",
        "      <td>NaN</td>\n",
        "      <td>NaN</td>\n",
        "    </tr>\n",
        "    <tr>\n",
        "      <th>14   </th>\n",
        "      <td> #10364</td>\n",
        "      <td>  ahmed.fakhry@gmail.com</td>\n",
        "      <td>     NaN</td>\n",
        "      <td>                       NaN</td>\n",
        "      <td>         NaN</td>\n",
        "      <td>                       NaN</td>\n",
        "      <td> NaN</td>\n",
        "      <td> NaN</td>\n",
        "      <td>    NaN</td>\n",
        "      <td>NaN</td>\n",
        "      <td>...</td>\n",
        "      <td>NaN</td>\n",
        "      <td>NaN</td>\n",
        "      <td>NaN</td>\n",
        "      <td>NaN</td>\n",
        "      <td>NaN</td>\n",
        "      <td>NaN</td>\n",
        "      <td>NaN</td>\n",
        "      <td>NaN</td>\n",
        "      <td>NaN</td>\n",
        "      <td>NaN</td>\n",
        "    </tr>\n",
        "    <tr>\n",
        "      <th>15   </th>\n",
        "      <td> #10364</td>\n",
        "      <td>  ahmed.fakhry@gmail.com</td>\n",
        "      <td>     NaN</td>\n",
        "      <td>                       NaN</td>\n",
        "      <td>         NaN</td>\n",
        "      <td>                       NaN</td>\n",
        "      <td> NaN</td>\n",
        "      <td> NaN</td>\n",
        "      <td>    NaN</td>\n",
        "      <td>NaN</td>\n",
        "      <td>...</td>\n",
        "      <td>NaN</td>\n",
        "      <td>NaN</td>\n",
        "      <td>NaN</td>\n",
        "      <td>NaN</td>\n",
        "      <td>NaN</td>\n",
        "      <td>NaN</td>\n",
        "      <td>NaN</td>\n",
        "      <td>NaN</td>\n",
        "      <td>NaN</td>\n",
        "      <td>NaN</td>\n",
        "    </tr>\n",
        "    <tr>\n",
        "      <th>16   </th>\n",
        "      <td> #10364</td>\n",
        "      <td>  ahmed.fakhry@gmail.com</td>\n",
        "      <td>     NaN</td>\n",
        "      <td>                       NaN</td>\n",
        "      <td>         NaN</td>\n",
        "      <td>                       NaN</td>\n",
        "      <td> NaN</td>\n",
        "      <td> NaN</td>\n",
        "      <td>    NaN</td>\n",
        "      <td>NaN</td>\n",
        "      <td>...</td>\n",
        "      <td>NaN</td>\n",
        "      <td>NaN</td>\n",
        "      <td>NaN</td>\n",
        "      <td>NaN</td>\n",
        "      <td>NaN</td>\n",
        "      <td>NaN</td>\n",
        "      <td>NaN</td>\n",
        "      <td>NaN</td>\n",
        "      <td>NaN</td>\n",
        "      <td>NaN</td>\n",
        "    </tr>\n",
        "    <tr>\n",
        "      <th>17   </th>\n",
        "      <td> #10364</td>\n",
        "      <td>  ahmed.fakhry@gmail.com</td>\n",
        "      <td>     NaN</td>\n",
        "      <td>                       NaN</td>\n",
        "      <td>         NaN</td>\n",
        "      <td>                       NaN</td>\n",
        "      <td> NaN</td>\n",
        "      <td> NaN</td>\n",
        "      <td>    NaN</td>\n",
        "      <td>NaN</td>\n",
        "      <td>...</td>\n",
        "      <td>NaN</td>\n",
        "      <td>NaN</td>\n",
        "      <td>NaN</td>\n",
        "      <td>NaN</td>\n",
        "      <td>NaN</td>\n",
        "      <td>NaN</td>\n",
        "      <td>NaN</td>\n",
        "      <td>NaN</td>\n",
        "      <td>NaN</td>\n",
        "      <td>NaN</td>\n",
        "    </tr>\n",
        "    <tr>\n",
        "      <th>18   </th>\n",
        "      <td> #10364</td>\n",
        "      <td>  ahmed.fakhry@gmail.com</td>\n",
        "      <td>     NaN</td>\n",
        "      <td>                       NaN</td>\n",
        "      <td>         NaN</td>\n",
        "      <td>                       NaN</td>\n",
        "      <td> NaN</td>\n",
        "      <td> NaN</td>\n",
        "      <td>    NaN</td>\n",
        "      <td>NaN</td>\n",
        "      <td>...</td>\n",
        "      <td>NaN</td>\n",
        "      <td>NaN</td>\n",
        "      <td>NaN</td>\n",
        "      <td>NaN</td>\n",
        "      <td>NaN</td>\n",
        "      <td>NaN</td>\n",
        "      <td>NaN</td>\n",
        "      <td>NaN</td>\n",
        "      <td>NaN</td>\n",
        "      <td>NaN</td>\n",
        "    </tr>\n",
        "    <tr>\n",
        "      <th>19   </th>\n",
        "      <td> #10364</td>\n",
        "      <td>  ahmed.fakhry@gmail.com</td>\n",
        "      <td>     NaN</td>\n",
        "      <td>                       NaN</td>\n",
        "      <td>         NaN</td>\n",
        "      <td>                       NaN</td>\n",
        "      <td> NaN</td>\n",
        "      <td> NaN</td>\n",
        "      <td>    NaN</td>\n",
        "      <td>NaN</td>\n",
        "      <td>...</td>\n",
        "      <td>NaN</td>\n",
        "      <td>NaN</td>\n",
        "      <td>NaN</td>\n",
        "      <td>NaN</td>\n",
        "      <td>NaN</td>\n",
        "      <td>NaN</td>\n",
        "      <td>NaN</td>\n",
        "      <td>NaN</td>\n",
        "      <td>NaN</td>\n",
        "      <td>NaN</td>\n",
        "    </tr>\n",
        "    <tr>\n",
        "      <th>20   </th>\n",
        "      <td> #10364</td>\n",
        "      <td>  ahmed.fakhry@gmail.com</td>\n",
        "      <td>     NaN</td>\n",
        "      <td>                       NaN</td>\n",
        "      <td>         NaN</td>\n",
        "      <td>                       NaN</td>\n",
        "      <td> NaN</td>\n",
        "      <td> NaN</td>\n",
        "      <td>    NaN</td>\n",
        "      <td>NaN</td>\n",
        "      <td>...</td>\n",
        "      <td>NaN</td>\n",
        "      <td>NaN</td>\n",
        "      <td>NaN</td>\n",
        "      <td>NaN</td>\n",
        "      <td>NaN</td>\n",
        "      <td>NaN</td>\n",
        "      <td>NaN</td>\n",
        "      <td>NaN</td>\n",
        "      <td>NaN</td>\n",
        "      <td>NaN</td>\n",
        "    </tr>\n",
        "    <tr>\n",
        "      <th>21   </th>\n",
        "      <td> #10363</td>\n",
        "      <td>  ahmed.fakhry@gmail.com</td>\n",
        "      <td> pending</td>\n",
        "      <td>                       NaN</td>\n",
        "      <td> unfulfilled</td>\n",
        "      <td>                       NaN</td>\n",
        "      <td>  no</td>\n",
        "      <td> EGP</td>\n",
        "      <td> 592.00</td>\n",
        "      <td> 10</td>\n",
        "      <td>...</td>\n",
        "      <td>NaN</td>\n",
        "      <td>NaN</td>\n",
        "      <td>NaN</td>\n",
        "      <td>NaN</td>\n",
        "      <td>NaN</td>\n",
        "      <td>NaN</td>\n",
        "      <td>NaN</td>\n",
        "      <td>NaN</td>\n",
        "      <td>NaN</td>\n",
        "      <td>NaN</td>\n",
        "    </tr>\n",
        "    <tr>\n",
        "      <th>22   </th>\n",
        "      <td> #10362</td>\n",
        "      <td>    Missilou11@yahoo.com</td>\n",
        "      <td> pending</td>\n",
        "      <td>                       NaN</td>\n",
        "      <td> unfulfilled</td>\n",
        "      <td>                       NaN</td>\n",
        "      <td>  no</td>\n",
        "      <td> EGP</td>\n",
        "      <td>  70.20</td>\n",
        "      <td> 15</td>\n",
        "      <td>...</td>\n",
        "      <td>NaN</td>\n",
        "      <td>NaN</td>\n",
        "      <td>NaN</td>\n",
        "      <td>NaN</td>\n",
        "      <td>NaN</td>\n",
        "      <td>NaN</td>\n",
        "      <td>NaN</td>\n",
        "      <td>NaN</td>\n",
        "      <td>NaN</td>\n",
        "      <td>NaN</td>\n",
        "    </tr>\n",
        "    <tr>\n",
        "      <th>23   </th>\n",
        "      <td> #10361</td>\n",
        "      <td> sallysalem123@gmail.com</td>\n",
        "      <td> pending</td>\n",
        "      <td>                       NaN</td>\n",
        "      <td> unfulfilled</td>\n",
        "      <td>                       NaN</td>\n",
        "      <td>  no</td>\n",
        "      <td> EGP</td>\n",
        "      <td> 432.00</td>\n",
        "      <td> 10</td>\n",
        "      <td>...</td>\n",
        "      <td>NaN</td>\n",
        "      <td>NaN</td>\n",
        "      <td>NaN</td>\n",
        "      <td>NaN</td>\n",
        "      <td>NaN</td>\n",
        "      <td>NaN</td>\n",
        "      <td>NaN</td>\n",
        "      <td>NaN</td>\n",
        "      <td>NaN</td>\n",
        "      <td>NaN</td>\n",
        "    </tr>\n",
        "    <tr>\n",
        "      <th>24   </th>\n",
        "      <td> #10361</td>\n",
        "      <td> sallysalem123@gmail.com</td>\n",
        "      <td>     NaN</td>\n",
        "      <td>                       NaN</td>\n",
        "      <td>         NaN</td>\n",
        "      <td>                       NaN</td>\n",
        "      <td> NaN</td>\n",
        "      <td> NaN</td>\n",
        "      <td>    NaN</td>\n",
        "      <td>NaN</td>\n",
        "      <td>...</td>\n",
        "      <td>NaN</td>\n",
        "      <td>NaN</td>\n",
        "      <td>NaN</td>\n",
        "      <td>NaN</td>\n",
        "      <td>NaN</td>\n",
        "      <td>NaN</td>\n",
        "      <td>NaN</td>\n",
        "      <td>NaN</td>\n",
        "      <td>NaN</td>\n",
        "      <td>NaN</td>\n",
        "    </tr>\n",
        "    <tr>\n",
        "      <th>25   </th>\n",
        "      <td> #10361</td>\n",
        "      <td> sallysalem123@gmail.com</td>\n",
        "      <td>     NaN</td>\n",
        "      <td>                       NaN</td>\n",
        "      <td>         NaN</td>\n",
        "      <td>                       NaN</td>\n",
        "      <td> NaN</td>\n",
        "      <td> NaN</td>\n",
        "      <td>    NaN</td>\n",
        "      <td>NaN</td>\n",
        "      <td>...</td>\n",
        "      <td>NaN</td>\n",
        "      <td>NaN</td>\n",
        "      <td>NaN</td>\n",
        "      <td>NaN</td>\n",
        "      <td>NaN</td>\n",
        "      <td>NaN</td>\n",
        "      <td>NaN</td>\n",
        "      <td>NaN</td>\n",
        "      <td>NaN</td>\n",
        "      <td>NaN</td>\n",
        "    </tr>\n",
        "    <tr>\n",
        "      <th>26   </th>\n",
        "      <td> #10361</td>\n",
        "      <td> sallysalem123@gmail.com</td>\n",
        "      <td>     NaN</td>\n",
        "      <td>                       NaN</td>\n",
        "      <td>         NaN</td>\n",
        "      <td>                       NaN</td>\n",
        "      <td> NaN</td>\n",
        "      <td> NaN</td>\n",
        "      <td>    NaN</td>\n",
        "      <td>NaN</td>\n",
        "      <td>...</td>\n",
        "      <td>NaN</td>\n",
        "      <td>NaN</td>\n",
        "      <td>NaN</td>\n",
        "      <td>NaN</td>\n",
        "      <td>NaN</td>\n",
        "      <td>NaN</td>\n",
        "      <td>NaN</td>\n",
        "      <td>NaN</td>\n",
        "      <td>NaN</td>\n",
        "      <td>NaN</td>\n",
        "    </tr>\n",
        "    <tr>\n",
        "      <th>27   </th>\n",
        "      <td> #10361</td>\n",
        "      <td> sallysalem123@gmail.com</td>\n",
        "      <td>     NaN</td>\n",
        "      <td>                       NaN</td>\n",
        "      <td>         NaN</td>\n",
        "      <td>                       NaN</td>\n",
        "      <td> NaN</td>\n",
        "      <td> NaN</td>\n",
        "      <td>    NaN</td>\n",
        "      <td>NaN</td>\n",
        "      <td>...</td>\n",
        "      <td>NaN</td>\n",
        "      <td>NaN</td>\n",
        "      <td>NaN</td>\n",
        "      <td>NaN</td>\n",
        "      <td>NaN</td>\n",
        "      <td>NaN</td>\n",
        "      <td>NaN</td>\n",
        "      <td>NaN</td>\n",
        "      <td>NaN</td>\n",
        "      <td>NaN</td>\n",
        "    </tr>\n",
        "    <tr>\n",
        "      <th>28   </th>\n",
        "      <td> #10361</td>\n",
        "      <td> sallysalem123@gmail.com</td>\n",
        "      <td>     NaN</td>\n",
        "      <td>                       NaN</td>\n",
        "      <td>         NaN</td>\n",
        "      <td>                       NaN</td>\n",
        "      <td> NaN</td>\n",
        "      <td> NaN</td>\n",
        "      <td>    NaN</td>\n",
        "      <td>NaN</td>\n",
        "      <td>...</td>\n",
        "      <td>NaN</td>\n",
        "      <td>NaN</td>\n",
        "      <td>NaN</td>\n",
        "      <td>NaN</td>\n",
        "      <td>NaN</td>\n",
        "      <td>NaN</td>\n",
        "      <td>NaN</td>\n",
        "      <td>NaN</td>\n",
        "      <td>NaN</td>\n",
        "      <td>NaN</td>\n",
        "    </tr>\n",
        "    <tr>\n",
        "      <th>29   </th>\n",
        "      <td> #10361</td>\n",
        "      <td> sallysalem123@gmail.com</td>\n",
        "      <td>     NaN</td>\n",
        "      <td>                       NaN</td>\n",
        "      <td>         NaN</td>\n",
        "      <td>                       NaN</td>\n",
        "      <td> NaN</td>\n",
        "      <td> NaN</td>\n",
        "      <td>    NaN</td>\n",
        "      <td>NaN</td>\n",
        "      <td>...</td>\n",
        "      <td>NaN</td>\n",
        "      <td>NaN</td>\n",
        "      <td>NaN</td>\n",
        "      <td>NaN</td>\n",
        "      <td>NaN</td>\n",
        "      <td>NaN</td>\n",
        "      <td>NaN</td>\n",
        "      <td>NaN</td>\n",
        "      <td>NaN</td>\n",
        "      <td>NaN</td>\n",
        "    </tr>\n",
        "    <tr>\n",
        "      <th>...</th>\n",
        "      <td>...</td>\n",
        "      <td>...</td>\n",
        "      <td>...</td>\n",
        "      <td>...</td>\n",
        "      <td>...</td>\n",
        "      <td>...</td>\n",
        "      <td>...</td>\n",
        "      <td>...</td>\n",
        "      <td>...</td>\n",
        "      <td>...</td>\n",
        "      <td>...</td>\n",
        "      <td>...</td>\n",
        "      <td>...</td>\n",
        "      <td>...</td>\n",
        "      <td>...</td>\n",
        "      <td>...</td>\n",
        "      <td>...</td>\n",
        "      <td>...</td>\n",
        "      <td>...</td>\n",
        "      <td>...</td>\n",
        "      <td>...</td>\n",
        "    </tr>\n",
        "    <tr>\n",
        "      <th>60742</th>\n",
        "      <td>  #1013</td>\n",
        "      <td>  lik-novikova@yandex.ru</td>\n",
        "      <td>     NaN</td>\n",
        "      <td>                       NaN</td>\n",
        "      <td>         NaN</td>\n",
        "      <td>                       NaN</td>\n",
        "      <td> NaN</td>\n",
        "      <td> NaN</td>\n",
        "      <td>    NaN</td>\n",
        "      <td>NaN</td>\n",
        "      <td>...</td>\n",
        "      <td>NaN</td>\n",
        "      <td>NaN</td>\n",
        "      <td>NaN</td>\n",
        "      <td>NaN</td>\n",
        "      <td>NaN</td>\n",
        "      <td>NaN</td>\n",
        "      <td>NaN</td>\n",
        "      <td>NaN</td>\n",
        "      <td>NaN</td>\n",
        "      <td>NaN</td>\n",
        "    </tr>\n",
        "    <tr>\n",
        "      <th>60743</th>\n",
        "      <td>  #1012</td>\n",
        "      <td>     bettyhedrich@gmx.de</td>\n",
        "      <td>    paid</td>\n",
        "      <td> 2012-05-27 13:15:42 +0200</td>\n",
        "      <td>   fulfilled</td>\n",
        "      <td> 2012-05-27 13:15:14 +0200</td>\n",
        "      <td>  no</td>\n",
        "      <td> EGP</td>\n",
        "      <td>  41.93</td>\n",
        "      <td>  5</td>\n",
        "      <td>...</td>\n",
        "      <td>NaN</td>\n",
        "      <td>NaN</td>\n",
        "      <td>NaN</td>\n",
        "      <td>NaN</td>\n",
        "      <td>NaN</td>\n",
        "      <td>NaN</td>\n",
        "      <td>NaN</td>\n",
        "      <td>NaN</td>\n",
        "      <td>NaN</td>\n",
        "      <td>NaN</td>\n",
        "    </tr>\n",
        "    <tr>\n",
        "      <th>60744</th>\n",
        "      <td>  #1012</td>\n",
        "      <td>     bettyhedrich@gmx.de</td>\n",
        "      <td>     NaN</td>\n",
        "      <td>                       NaN</td>\n",
        "      <td>         NaN</td>\n",
        "      <td>                       NaN</td>\n",
        "      <td> NaN</td>\n",
        "      <td> NaN</td>\n",
        "      <td>    NaN</td>\n",
        "      <td>NaN</td>\n",
        "      <td>...</td>\n",
        "      <td>NaN</td>\n",
        "      <td>NaN</td>\n",
        "      <td>NaN</td>\n",
        "      <td>NaN</td>\n",
        "      <td>NaN</td>\n",
        "      <td>NaN</td>\n",
        "      <td>NaN</td>\n",
        "      <td>NaN</td>\n",
        "      <td>NaN</td>\n",
        "      <td>NaN</td>\n",
        "    </tr>\n",
        "    <tr>\n",
        "      <th>60745</th>\n",
        "      <td>  #1011</td>\n",
        "      <td>           rulah@msn.com</td>\n",
        "      <td>    paid</td>\n",
        "      <td> 2012-05-21 18:33:13 +0200</td>\n",
        "      <td>   fulfilled</td>\n",
        "      <td> 2012-05-21 18:33:43 +0200</td>\n",
        "      <td> yes</td>\n",
        "      <td> EGP</td>\n",
        "      <td> 222.30</td>\n",
        "      <td>  5</td>\n",
        "      <td>...</td>\n",
        "      <td>NaN</td>\n",
        "      <td>NaN</td>\n",
        "      <td>NaN</td>\n",
        "      <td>NaN</td>\n",
        "      <td>NaN</td>\n",
        "      <td>NaN</td>\n",
        "      <td>NaN</td>\n",
        "      <td>NaN</td>\n",
        "      <td>NaN</td>\n",
        "      <td>NaN</td>\n",
        "    </tr>\n",
        "    <tr>\n",
        "      <th>60746</th>\n",
        "      <td>  #1010</td>\n",
        "      <td>     milda_b@hotmail.com</td>\n",
        "      <td>    paid</td>\n",
        "      <td> 2012-05-09 11:09:12 +0200</td>\n",
        "      <td>   fulfilled</td>\n",
        "      <td> 2012-05-09 11:09:06 +0200</td>\n",
        "      <td> yes</td>\n",
        "      <td> EGP</td>\n",
        "      <td> 155.55</td>\n",
        "      <td>  5</td>\n",
        "      <td>...</td>\n",
        "      <td>NaN</td>\n",
        "      <td>NaN</td>\n",
        "      <td>NaN</td>\n",
        "      <td>NaN</td>\n",
        "      <td>NaN</td>\n",
        "      <td>NaN</td>\n",
        "      <td>NaN</td>\n",
        "      <td>NaN</td>\n",
        "      <td>NaN</td>\n",
        "      <td>NaN</td>\n",
        "    </tr>\n",
        "    <tr>\n",
        "      <th>60747</th>\n",
        "      <td>  #1010</td>\n",
        "      <td>     milda_b@hotmail.com</td>\n",
        "      <td>     NaN</td>\n",
        "      <td>                       NaN</td>\n",
        "      <td>         NaN</td>\n",
        "      <td>                       NaN</td>\n",
        "      <td> NaN</td>\n",
        "      <td> NaN</td>\n",
        "      <td>    NaN</td>\n",
        "      <td>NaN</td>\n",
        "      <td>...</td>\n",
        "      <td>NaN</td>\n",
        "      <td>NaN</td>\n",
        "      <td>NaN</td>\n",
        "      <td>NaN</td>\n",
        "      <td>NaN</td>\n",
        "      <td>NaN</td>\n",
        "      <td>NaN</td>\n",
        "      <td>NaN</td>\n",
        "      <td>NaN</td>\n",
        "      <td>NaN</td>\n",
        "    </tr>\n",
        "    <tr>\n",
        "      <th>60748</th>\n",
        "      <td>  #1010</td>\n",
        "      <td>     milda_b@hotmail.com</td>\n",
        "      <td>     NaN</td>\n",
        "      <td>                       NaN</td>\n",
        "      <td>         NaN</td>\n",
        "      <td>                       NaN</td>\n",
        "      <td> NaN</td>\n",
        "      <td> NaN</td>\n",
        "      <td>    NaN</td>\n",
        "      <td>NaN</td>\n",
        "      <td>...</td>\n",
        "      <td>NaN</td>\n",
        "      <td>NaN</td>\n",
        "      <td>NaN</td>\n",
        "      <td>NaN</td>\n",
        "      <td>NaN</td>\n",
        "      <td>NaN</td>\n",
        "      <td>NaN</td>\n",
        "      <td>NaN</td>\n",
        "      <td>NaN</td>\n",
        "      <td>NaN</td>\n",
        "    </tr>\n",
        "    <tr>\n",
        "      <th>60749</th>\n",
        "      <td>  #1010</td>\n",
        "      <td>     milda_b@hotmail.com</td>\n",
        "      <td>     NaN</td>\n",
        "      <td>                       NaN</td>\n",
        "      <td>         NaN</td>\n",
        "      <td>                       NaN</td>\n",
        "      <td> NaN</td>\n",
        "      <td> NaN</td>\n",
        "      <td>    NaN</td>\n",
        "      <td>NaN</td>\n",
        "      <td>...</td>\n",
        "      <td>NaN</td>\n",
        "      <td>NaN</td>\n",
        "      <td>NaN</td>\n",
        "      <td>NaN</td>\n",
        "      <td>NaN</td>\n",
        "      <td>NaN</td>\n",
        "      <td>NaN</td>\n",
        "      <td>NaN</td>\n",
        "      <td>NaN</td>\n",
        "      <td>NaN</td>\n",
        "    </tr>\n",
        "    <tr>\n",
        "      <th>60750</th>\n",
        "      <td>  #1010</td>\n",
        "      <td>     milda_b@hotmail.com</td>\n",
        "      <td>     NaN</td>\n",
        "      <td>                       NaN</td>\n",
        "      <td>         NaN</td>\n",
        "      <td>                       NaN</td>\n",
        "      <td> NaN</td>\n",
        "      <td> NaN</td>\n",
        "      <td>    NaN</td>\n",
        "      <td>NaN</td>\n",
        "      <td>...</td>\n",
        "      <td>NaN</td>\n",
        "      <td>NaN</td>\n",
        "      <td>NaN</td>\n",
        "      <td>NaN</td>\n",
        "      <td>NaN</td>\n",
        "      <td>NaN</td>\n",
        "      <td>NaN</td>\n",
        "      <td>NaN</td>\n",
        "      <td>NaN</td>\n",
        "      <td>NaN</td>\n",
        "    </tr>\n",
        "    <tr>\n",
        "      <th>60751</th>\n",
        "      <td>  #1010</td>\n",
        "      <td>     milda_b@hotmail.com</td>\n",
        "      <td>     NaN</td>\n",
        "      <td>                       NaN</td>\n",
        "      <td>         NaN</td>\n",
        "      <td>                       NaN</td>\n",
        "      <td> NaN</td>\n",
        "      <td> NaN</td>\n",
        "      <td>    NaN</td>\n",
        "      <td>NaN</td>\n",
        "      <td>...</td>\n",
        "      <td>NaN</td>\n",
        "      <td>NaN</td>\n",
        "      <td>NaN</td>\n",
        "      <td>NaN</td>\n",
        "      <td>NaN</td>\n",
        "      <td>NaN</td>\n",
        "      <td>NaN</td>\n",
        "      <td>NaN</td>\n",
        "      <td>NaN</td>\n",
        "      <td>NaN</td>\n",
        "    </tr>\n",
        "    <tr>\n",
        "      <th>60752</th>\n",
        "      <td>  #1010</td>\n",
        "      <td>     milda_b@hotmail.com</td>\n",
        "      <td>     NaN</td>\n",
        "      <td>                       NaN</td>\n",
        "      <td>         NaN</td>\n",
        "      <td>                       NaN</td>\n",
        "      <td> NaN</td>\n",
        "      <td> NaN</td>\n",
        "      <td>    NaN</td>\n",
        "      <td>NaN</td>\n",
        "      <td>...</td>\n",
        "      <td>NaN</td>\n",
        "      <td>NaN</td>\n",
        "      <td>NaN</td>\n",
        "      <td>NaN</td>\n",
        "      <td>NaN</td>\n",
        "      <td>NaN</td>\n",
        "      <td>NaN</td>\n",
        "      <td>NaN</td>\n",
        "      <td>NaN</td>\n",
        "      <td>NaN</td>\n",
        "    </tr>\n",
        "    <tr>\n",
        "      <th>60753</th>\n",
        "      <td>  #1009</td>\n",
        "      <td>     bente.ring@yahoo.no</td>\n",
        "      <td>    paid</td>\n",
        "      <td> 2012-05-10 19:12:35 +0200</td>\n",
        "      <td>   fulfilled</td>\n",
        "      <td> 2012-05-10 19:12:32 +0200</td>\n",
        "      <td> yes</td>\n",
        "      <td> EGP</td>\n",
        "      <td>  45.50</td>\n",
        "      <td>  5</td>\n",
        "      <td>...</td>\n",
        "      <td>NaN</td>\n",
        "      <td>NaN</td>\n",
        "      <td>NaN</td>\n",
        "      <td>NaN</td>\n",
        "      <td>NaN</td>\n",
        "      <td>NaN</td>\n",
        "      <td>NaN</td>\n",
        "      <td>NaN</td>\n",
        "      <td>NaN</td>\n",
        "      <td>NaN</td>\n",
        "    </tr>\n",
        "    <tr>\n",
        "      <th>60754</th>\n",
        "      <td>  #1008</td>\n",
        "      <td>     bente.ring@yahoo.no</td>\n",
        "      <td>    paid</td>\n",
        "      <td> 2012-05-10 19:13:35 +0200</td>\n",
        "      <td>   fulfilled</td>\n",
        "      <td> 2012-05-10 19:13:32 +0200</td>\n",
        "      <td> yes</td>\n",
        "      <td> EGP</td>\n",
        "      <td> 357.53</td>\n",
        "      <td>  5</td>\n",
        "      <td>...</td>\n",
        "      <td>NaN</td>\n",
        "      <td>NaN</td>\n",
        "      <td>NaN</td>\n",
        "      <td>NaN</td>\n",
        "      <td>NaN</td>\n",
        "      <td>NaN</td>\n",
        "      <td>NaN</td>\n",
        "      <td>NaN</td>\n",
        "      <td>NaN</td>\n",
        "      <td>NaN</td>\n",
        "    </tr>\n",
        "    <tr>\n",
        "      <th>60755</th>\n",
        "      <td>  #1008</td>\n",
        "      <td>     bente.ring@yahoo.no</td>\n",
        "      <td>     NaN</td>\n",
        "      <td>                       NaN</td>\n",
        "      <td>         NaN</td>\n",
        "      <td>                       NaN</td>\n",
        "      <td> NaN</td>\n",
        "      <td> NaN</td>\n",
        "      <td>    NaN</td>\n",
        "      <td>NaN</td>\n",
        "      <td>...</td>\n",
        "      <td>NaN</td>\n",
        "      <td>NaN</td>\n",
        "      <td>NaN</td>\n",
        "      <td>NaN</td>\n",
        "      <td>NaN</td>\n",
        "      <td>NaN</td>\n",
        "      <td>NaN</td>\n",
        "      <td>NaN</td>\n",
        "      <td>NaN</td>\n",
        "      <td>NaN</td>\n",
        "    </tr>\n",
        "    <tr>\n",
        "      <th>60756</th>\n",
        "      <td>  #1008</td>\n",
        "      <td>     bente.ring@yahoo.no</td>\n",
        "      <td>     NaN</td>\n",
        "      <td>                       NaN</td>\n",
        "      <td>         NaN</td>\n",
        "      <td>                       NaN</td>\n",
        "      <td> NaN</td>\n",
        "      <td> NaN</td>\n",
        "      <td>    NaN</td>\n",
        "      <td>NaN</td>\n",
        "      <td>...</td>\n",
        "      <td>NaN</td>\n",
        "      <td>NaN</td>\n",
        "      <td>NaN</td>\n",
        "      <td>NaN</td>\n",
        "      <td>NaN</td>\n",
        "      <td>NaN</td>\n",
        "      <td>NaN</td>\n",
        "      <td>NaN</td>\n",
        "      <td>NaN</td>\n",
        "      <td>NaN</td>\n",
        "    </tr>\n",
        "    <tr>\n",
        "      <th>60757</th>\n",
        "      <td>  #1008</td>\n",
        "      <td>     bente.ring@yahoo.no</td>\n",
        "      <td>     NaN</td>\n",
        "      <td>                       NaN</td>\n",
        "      <td>         NaN</td>\n",
        "      <td>                       NaN</td>\n",
        "      <td> NaN</td>\n",
        "      <td> NaN</td>\n",
        "      <td>    NaN</td>\n",
        "      <td>NaN</td>\n",
        "      <td>...</td>\n",
        "      <td>NaN</td>\n",
        "      <td>NaN</td>\n",
        "      <td>NaN</td>\n",
        "      <td>NaN</td>\n",
        "      <td>NaN</td>\n",
        "      <td>NaN</td>\n",
        "      <td>NaN</td>\n",
        "      <td>NaN</td>\n",
        "      <td>NaN</td>\n",
        "      <td>NaN</td>\n",
        "    </tr>\n",
        "    <tr>\n",
        "      <th>60758</th>\n",
        "      <td>  #1008</td>\n",
        "      <td>     bente.ring@yahoo.no</td>\n",
        "      <td>     NaN</td>\n",
        "      <td>                       NaN</td>\n",
        "      <td>         NaN</td>\n",
        "      <td>                       NaN</td>\n",
        "      <td> NaN</td>\n",
        "      <td> NaN</td>\n",
        "      <td>    NaN</td>\n",
        "      <td>NaN</td>\n",
        "      <td>...</td>\n",
        "      <td>NaN</td>\n",
        "      <td>NaN</td>\n",
        "      <td>NaN</td>\n",
        "      <td>NaN</td>\n",
        "      <td>NaN</td>\n",
        "      <td>NaN</td>\n",
        "      <td>NaN</td>\n",
        "      <td>NaN</td>\n",
        "      <td>NaN</td>\n",
        "      <td>NaN</td>\n",
        "    </tr>\n",
        "    <tr>\n",
        "      <th>60759</th>\n",
        "      <td>  #1007</td>\n",
        "      <td>  lik-novikova@yandex.ru</td>\n",
        "      <td>    paid</td>\n",
        "      <td> 2012-05-04 18:36:50 +0200</td>\n",
        "      <td>   fulfilled</td>\n",
        "      <td> 2012-05-04 18:33:47 +0200</td>\n",
        "      <td> yes</td>\n",
        "      <td> EGP</td>\n",
        "      <td> 110.83</td>\n",
        "      <td>  5</td>\n",
        "      <td>...</td>\n",
        "      <td>NaN</td>\n",
        "      <td>NaN</td>\n",
        "      <td>NaN</td>\n",
        "      <td>NaN</td>\n",
        "      <td>NaN</td>\n",
        "      <td>NaN</td>\n",
        "      <td>NaN</td>\n",
        "      <td>NaN</td>\n",
        "      <td>NaN</td>\n",
        "      <td>NaN</td>\n",
        "    </tr>\n",
        "    <tr>\n",
        "      <th>60760</th>\n",
        "      <td>  #1007</td>\n",
        "      <td>  lik-novikova@yandex.ru</td>\n",
        "      <td>     NaN</td>\n",
        "      <td>                       NaN</td>\n",
        "      <td>         NaN</td>\n",
        "      <td>                       NaN</td>\n",
        "      <td> NaN</td>\n",
        "      <td> NaN</td>\n",
        "      <td>    NaN</td>\n",
        "      <td>NaN</td>\n",
        "      <td>...</td>\n",
        "      <td>NaN</td>\n",
        "      <td>NaN</td>\n",
        "      <td>NaN</td>\n",
        "      <td>NaN</td>\n",
        "      <td>NaN</td>\n",
        "      <td>NaN</td>\n",
        "      <td>NaN</td>\n",
        "      <td>NaN</td>\n",
        "      <td>NaN</td>\n",
        "      <td>NaN</td>\n",
        "    </tr>\n",
        "    <tr>\n",
        "      <th>60761</th>\n",
        "      <td>  #1007</td>\n",
        "      <td>  lik-novikova@yandex.ru</td>\n",
        "      <td>     NaN</td>\n",
        "      <td>                       NaN</td>\n",
        "      <td>         NaN</td>\n",
        "      <td>                       NaN</td>\n",
        "      <td> NaN</td>\n",
        "      <td> NaN</td>\n",
        "      <td>    NaN</td>\n",
        "      <td>NaN</td>\n",
        "      <td>...</td>\n",
        "      <td>NaN</td>\n",
        "      <td>NaN</td>\n",
        "      <td>NaN</td>\n",
        "      <td>NaN</td>\n",
        "      <td>NaN</td>\n",
        "      <td>NaN</td>\n",
        "      <td>NaN</td>\n",
        "      <td>NaN</td>\n",
        "      <td>NaN</td>\n",
        "      <td>NaN</td>\n",
        "    </tr>\n",
        "    <tr>\n",
        "      <th>60762</th>\n",
        "      <td>  #1007</td>\n",
        "      <td>  lik-novikova@yandex.ru</td>\n",
        "      <td>     NaN</td>\n",
        "      <td>                       NaN</td>\n",
        "      <td>         NaN</td>\n",
        "      <td>                       NaN</td>\n",
        "      <td> NaN</td>\n",
        "      <td> NaN</td>\n",
        "      <td>    NaN</td>\n",
        "      <td>NaN</td>\n",
        "      <td>...</td>\n",
        "      <td>NaN</td>\n",
        "      <td>NaN</td>\n",
        "      <td>NaN</td>\n",
        "      <td>NaN</td>\n",
        "      <td>NaN</td>\n",
        "      <td>NaN</td>\n",
        "      <td>NaN</td>\n",
        "      <td>NaN</td>\n",
        "      <td>NaN</td>\n",
        "      <td>NaN</td>\n",
        "    </tr>\n",
        "    <tr>\n",
        "      <th>60763</th>\n",
        "      <td>  #1006</td>\n",
        "      <td>     bente.ring@yahoo.no</td>\n",
        "      <td>    paid</td>\n",
        "      <td> 2012-05-04 18:37:13 +0200</td>\n",
        "      <td>   fulfilled</td>\n",
        "      <td> 2012-05-03 10:57:23 +0200</td>\n",
        "      <td> yes</td>\n",
        "      <td> EGP</td>\n",
        "      <td> 201.51</td>\n",
        "      <td>  5</td>\n",
        "      <td>...</td>\n",
        "      <td>NaN</td>\n",
        "      <td>NaN</td>\n",
        "      <td>NaN</td>\n",
        "      <td>NaN</td>\n",
        "      <td>NaN</td>\n",
        "      <td>NaN</td>\n",
        "      <td>NaN</td>\n",
        "      <td>NaN</td>\n",
        "      <td>NaN</td>\n",
        "      <td>NaN</td>\n",
        "    </tr>\n",
        "    <tr>\n",
        "      <th>60764</th>\n",
        "      <td>  #1006</td>\n",
        "      <td>     bente.ring@yahoo.no</td>\n",
        "      <td>     NaN</td>\n",
        "      <td>                       NaN</td>\n",
        "      <td>         NaN</td>\n",
        "      <td>                       NaN</td>\n",
        "      <td> NaN</td>\n",
        "      <td> NaN</td>\n",
        "      <td>    NaN</td>\n",
        "      <td>NaN</td>\n",
        "      <td>...</td>\n",
        "      <td>NaN</td>\n",
        "      <td>NaN</td>\n",
        "      <td>NaN</td>\n",
        "      <td>NaN</td>\n",
        "      <td>NaN</td>\n",
        "      <td>NaN</td>\n",
        "      <td>NaN</td>\n",
        "      <td>NaN</td>\n",
        "      <td>NaN</td>\n",
        "      <td>NaN</td>\n",
        "    </tr>\n",
        "    <tr>\n",
        "      <th>60765</th>\n",
        "      <td>  #1006</td>\n",
        "      <td>     bente.ring@yahoo.no</td>\n",
        "      <td>     NaN</td>\n",
        "      <td>                       NaN</td>\n",
        "      <td>         NaN</td>\n",
        "      <td>                       NaN</td>\n",
        "      <td> NaN</td>\n",
        "      <td> NaN</td>\n",
        "      <td>    NaN</td>\n",
        "      <td>NaN</td>\n",
        "      <td>...</td>\n",
        "      <td>NaN</td>\n",
        "      <td>NaN</td>\n",
        "      <td>NaN</td>\n",
        "      <td>NaN</td>\n",
        "      <td>NaN</td>\n",
        "      <td>NaN</td>\n",
        "      <td>NaN</td>\n",
        "      <td>NaN</td>\n",
        "      <td>NaN</td>\n",
        "      <td>NaN</td>\n",
        "    </tr>\n",
        "    <tr>\n",
        "      <th>60766</th>\n",
        "      <td>  #1006</td>\n",
        "      <td>     bente.ring@yahoo.no</td>\n",
        "      <td>     NaN</td>\n",
        "      <td>                       NaN</td>\n",
        "      <td>         NaN</td>\n",
        "      <td>                       NaN</td>\n",
        "      <td> NaN</td>\n",
        "      <td> NaN</td>\n",
        "      <td>    NaN</td>\n",
        "      <td>NaN</td>\n",
        "      <td>...</td>\n",
        "      <td>NaN</td>\n",
        "      <td>NaN</td>\n",
        "      <td>NaN</td>\n",
        "      <td>NaN</td>\n",
        "      <td>NaN</td>\n",
        "      <td>NaN</td>\n",
        "      <td>NaN</td>\n",
        "      <td>NaN</td>\n",
        "      <td>NaN</td>\n",
        "      <td>NaN</td>\n",
        "    </tr>\n",
        "    <tr>\n",
        "      <th>60767</th>\n",
        "      <td>  #1006</td>\n",
        "      <td>     bente.ring@yahoo.no</td>\n",
        "      <td>     NaN</td>\n",
        "      <td>                       NaN</td>\n",
        "      <td>         NaN</td>\n",
        "      <td>                       NaN</td>\n",
        "      <td> NaN</td>\n",
        "      <td> NaN</td>\n",
        "      <td>    NaN</td>\n",
        "      <td>NaN</td>\n",
        "      <td>...</td>\n",
        "      <td>NaN</td>\n",
        "      <td>NaN</td>\n",
        "      <td>NaN</td>\n",
        "      <td>NaN</td>\n",
        "      <td>NaN</td>\n",
        "      <td>NaN</td>\n",
        "      <td>NaN</td>\n",
        "      <td>NaN</td>\n",
        "      <td>NaN</td>\n",
        "      <td>NaN</td>\n",
        "    </tr>\n",
        "    <tr>\n",
        "      <th>60768</th>\n",
        "      <td>  #1005</td>\n",
        "      <td>    cathypod@hotmail.com</td>\n",
        "      <td>    paid</td>\n",
        "      <td> 2012-05-04 18:37:35 +0200</td>\n",
        "      <td>   fulfilled</td>\n",
        "      <td> 2012-05-03 11:03:44 +0200</td>\n",
        "      <td> yes</td>\n",
        "      <td> EGP</td>\n",
        "      <td>  54.60</td>\n",
        "      <td>  5</td>\n",
        "      <td>...</td>\n",
        "      <td>NaN</td>\n",
        "      <td>NaN</td>\n",
        "      <td>NaN</td>\n",
        "      <td>NaN</td>\n",
        "      <td>NaN</td>\n",
        "      <td>NaN</td>\n",
        "      <td>NaN</td>\n",
        "      <td>NaN</td>\n",
        "      <td>NaN</td>\n",
        "      <td>NaN</td>\n",
        "    </tr>\n",
        "    <tr>\n",
        "      <th>60769</th>\n",
        "      <td>  #1005</td>\n",
        "      <td>    cathypod@hotmail.com</td>\n",
        "      <td>     NaN</td>\n",
        "      <td>                       NaN</td>\n",
        "      <td>         NaN</td>\n",
        "      <td>                       NaN</td>\n",
        "      <td> NaN</td>\n",
        "      <td> NaN</td>\n",
        "      <td>    NaN</td>\n",
        "      <td>NaN</td>\n",
        "      <td>...</td>\n",
        "      <td>NaN</td>\n",
        "      <td>NaN</td>\n",
        "      <td>NaN</td>\n",
        "      <td>NaN</td>\n",
        "      <td>NaN</td>\n",
        "      <td>NaN</td>\n",
        "      <td>NaN</td>\n",
        "      <td>NaN</td>\n",
        "      <td>NaN</td>\n",
        "      <td>NaN</td>\n",
        "    </tr>\n",
        "    <tr>\n",
        "      <th>60770</th>\n",
        "      <td>  #1005</td>\n",
        "      <td>    cathypod@hotmail.com</td>\n",
        "      <td>     NaN</td>\n",
        "      <td>                       NaN</td>\n",
        "      <td>         NaN</td>\n",
        "      <td>                       NaN</td>\n",
        "      <td> NaN</td>\n",
        "      <td> NaN</td>\n",
        "      <td>    NaN</td>\n",
        "      <td>NaN</td>\n",
        "      <td>...</td>\n",
        "      <td>NaN</td>\n",
        "      <td>NaN</td>\n",
        "      <td>NaN</td>\n",
        "      <td>NaN</td>\n",
        "      <td>NaN</td>\n",
        "      <td>NaN</td>\n",
        "      <td>NaN</td>\n",
        "      <td>NaN</td>\n",
        "      <td>NaN</td>\n",
        "      <td>NaN</td>\n",
        "    </tr>\n",
        "    <tr>\n",
        "      <th>60771</th>\n",
        "      <td>  #1005</td>\n",
        "      <td>    cathypod@hotmail.com</td>\n",
        "      <td>     NaN</td>\n",
        "      <td>                       NaN</td>\n",
        "      <td>         NaN</td>\n",
        "      <td>                       NaN</td>\n",
        "      <td> NaN</td>\n",
        "      <td> NaN</td>\n",
        "      <td>    NaN</td>\n",
        "      <td>NaN</td>\n",
        "      <td>...</td>\n",
        "      <td>NaN</td>\n",
        "      <td>NaN</td>\n",
        "      <td>NaN</td>\n",
        "      <td>NaN</td>\n",
        "      <td>NaN</td>\n",
        "      <td>NaN</td>\n",
        "      <td>NaN</td>\n",
        "      <td>NaN</td>\n",
        "      <td>NaN</td>\n",
        "      <td>NaN</td>\n",
        "    </tr>\n",
        "  </tbody>\n",
        "</table>\n",
        "<p>60772 rows \u00d7 66 columns</p>\n",
        "</div>"
       ],
       "metadata": {},
       "output_type": "pyout",
       "prompt_number": 2,
       "text": [
        "         Name                    Email Financial Status  \\\n",
        "0      #10367   rehabmansour@gmail.com          pending   \n",
        "1      #10367   rehabmansour@gmail.com              NaN   \n",
        "2      #10367   rehabmansour@gmail.com              NaN   \n",
        "3      #10366      nabouheif@yahoo.com          pending   \n",
        "4      #10366      nabouheif@yahoo.com              NaN   \n",
        "5      #10366      nabouheif@yahoo.com              NaN   \n",
        "6      #10365   fracicardi@hotmail.com          pending   \n",
        "7      #10365   fracicardi@hotmail.com              NaN   \n",
        "8      #10365   fracicardi@hotmail.com              NaN   \n",
        "9      #10365   fracicardi@hotmail.com              NaN   \n",
        "10     #10365   fracicardi@hotmail.com              NaN   \n",
        "11     #10365   fracicardi@hotmail.com              NaN   \n",
        "12     #10364   ahmed.fakhry@gmail.com          pending   \n",
        "13     #10364   ahmed.fakhry@gmail.com              NaN   \n",
        "14     #10364   ahmed.fakhry@gmail.com              NaN   \n",
        "15     #10364   ahmed.fakhry@gmail.com              NaN   \n",
        "16     #10364   ahmed.fakhry@gmail.com              NaN   \n",
        "17     #10364   ahmed.fakhry@gmail.com              NaN   \n",
        "18     #10364   ahmed.fakhry@gmail.com              NaN   \n",
        "19     #10364   ahmed.fakhry@gmail.com              NaN   \n",
        "20     #10364   ahmed.fakhry@gmail.com              NaN   \n",
        "21     #10363   ahmed.fakhry@gmail.com          pending   \n",
        "22     #10362     Missilou11@yahoo.com          pending   \n",
        "23     #10361  sallysalem123@gmail.com          pending   \n",
        "24     #10361  sallysalem123@gmail.com              NaN   \n",
        "25     #10361  sallysalem123@gmail.com              NaN   \n",
        "26     #10361  sallysalem123@gmail.com              NaN   \n",
        "27     #10361  sallysalem123@gmail.com              NaN   \n",
        "28     #10361  sallysalem123@gmail.com              NaN   \n",
        "29     #10361  sallysalem123@gmail.com              NaN   \n",
        "...       ...                      ...              ...   \n",
        "60742   #1013   lik-novikova@yandex.ru              NaN   \n",
        "60743   #1012      bettyhedrich@gmx.de             paid   \n",
        "60744   #1012      bettyhedrich@gmx.de              NaN   \n",
        "60745   #1011            rulah@msn.com             paid   \n",
        "60746   #1010      milda_b@hotmail.com             paid   \n",
        "60747   #1010      milda_b@hotmail.com              NaN   \n",
        "60748   #1010      milda_b@hotmail.com              NaN   \n",
        "60749   #1010      milda_b@hotmail.com              NaN   \n",
        "60750   #1010      milda_b@hotmail.com              NaN   \n",
        "60751   #1010      milda_b@hotmail.com              NaN   \n",
        "60752   #1010      milda_b@hotmail.com              NaN   \n",
        "60753   #1009      bente.ring@yahoo.no             paid   \n",
        "60754   #1008      bente.ring@yahoo.no             paid   \n",
        "60755   #1008      bente.ring@yahoo.no              NaN   \n",
        "60756   #1008      bente.ring@yahoo.no              NaN   \n",
        "60757   #1008      bente.ring@yahoo.no              NaN   \n",
        "60758   #1008      bente.ring@yahoo.no              NaN   \n",
        "60759   #1007   lik-novikova@yandex.ru             paid   \n",
        "60760   #1007   lik-novikova@yandex.ru              NaN   \n",
        "60761   #1007   lik-novikova@yandex.ru              NaN   \n",
        "60762   #1007   lik-novikova@yandex.ru              NaN   \n",
        "60763   #1006      bente.ring@yahoo.no             paid   \n",
        "60764   #1006      bente.ring@yahoo.no              NaN   \n",
        "60765   #1006      bente.ring@yahoo.no              NaN   \n",
        "60766   #1006      bente.ring@yahoo.no              NaN   \n",
        "60767   #1006      bente.ring@yahoo.no              NaN   \n",
        "60768   #1005     cathypod@hotmail.com             paid   \n",
        "60769   #1005     cathypod@hotmail.com              NaN   \n",
        "60770   #1005     cathypod@hotmail.com              NaN   \n",
        "60771   #1005     cathypod@hotmail.com              NaN   \n",
        "\n",
        "                         Paid at Fulfillment Status  \\\n",
        "0                            NaN        unfulfilled   \n",
        "1                            NaN                NaN   \n",
        "2                            NaN                NaN   \n",
        "3                            NaN        unfulfilled   \n",
        "4                            NaN                NaN   \n",
        "5                            NaN                NaN   \n",
        "6                            NaN        unfulfilled   \n",
        "7                            NaN                NaN   \n",
        "8                            NaN                NaN   \n",
        "9                            NaN                NaN   \n",
        "10                           NaN                NaN   \n",
        "11                           NaN                NaN   \n",
        "12                           NaN        unfulfilled   \n",
        "13                           NaN                NaN   \n",
        "14                           NaN                NaN   \n",
        "15                           NaN                NaN   \n",
        "16                           NaN                NaN   \n",
        "17                           NaN                NaN   \n",
        "18                           NaN                NaN   \n",
        "19                           NaN                NaN   \n",
        "20                           NaN                NaN   \n",
        "21                           NaN        unfulfilled   \n",
        "22                           NaN        unfulfilled   \n",
        "23                           NaN        unfulfilled   \n",
        "24                           NaN                NaN   \n",
        "25                           NaN                NaN   \n",
        "26                           NaN                NaN   \n",
        "27                           NaN                NaN   \n",
        "28                           NaN                NaN   \n",
        "29                           NaN                NaN   \n",
        "...                          ...                ...   \n",
        "60742                        NaN                NaN   \n",
        "60743  2012-05-27 13:15:42 +0200          fulfilled   \n",
        "60744                        NaN                NaN   \n",
        "60745  2012-05-21 18:33:13 +0200          fulfilled   \n",
        "60746  2012-05-09 11:09:12 +0200          fulfilled   \n",
        "60747                        NaN                NaN   \n",
        "60748                        NaN                NaN   \n",
        "60749                        NaN                NaN   \n",
        "60750                        NaN                NaN   \n",
        "60751                        NaN                NaN   \n",
        "60752                        NaN                NaN   \n",
        "60753  2012-05-10 19:12:35 +0200          fulfilled   \n",
        "60754  2012-05-10 19:13:35 +0200          fulfilled   \n",
        "60755                        NaN                NaN   \n",
        "60756                        NaN                NaN   \n",
        "60757                        NaN                NaN   \n",
        "60758                        NaN                NaN   \n",
        "60759  2012-05-04 18:36:50 +0200          fulfilled   \n",
        "60760                        NaN                NaN   \n",
        "60761                        NaN                NaN   \n",
        "60762                        NaN                NaN   \n",
        "60763  2012-05-04 18:37:13 +0200          fulfilled   \n",
        "60764                        NaN                NaN   \n",
        "60765                        NaN                NaN   \n",
        "60766                        NaN                NaN   \n",
        "60767                        NaN                NaN   \n",
        "60768  2012-05-04 18:37:35 +0200          fulfilled   \n",
        "60769                        NaN                NaN   \n",
        "60770                        NaN                NaN   \n",
        "60771                        NaN                NaN   \n",
        "\n",
        "                    Fulfilled at Accepts Marketing Currency  Subtotal  \\\n",
        "0                            NaN                no      EGP    375.30   \n",
        "1                            NaN               NaN      NaN       NaN   \n",
        "2                            NaN               NaN      NaN       NaN   \n",
        "3                            NaN                no      EGP    162.90   \n",
        "4                            NaN               NaN      NaN       NaN   \n",
        "5                            NaN               NaN      NaN       NaN   \n",
        "6                            NaN                no      EGP    129.00   \n",
        "7                            NaN               NaN      NaN       NaN   \n",
        "8                            NaN               NaN      NaN       NaN   \n",
        "9                            NaN               NaN      NaN       NaN   \n",
        "10                           NaN               NaN      NaN       NaN   \n",
        "11                           NaN               NaN      NaN       NaN   \n",
        "12                           NaN                no      EGP    660.10   \n",
        "13                           NaN               NaN      NaN       NaN   \n",
        "14                           NaN               NaN      NaN       NaN   \n",
        "15                           NaN               NaN      NaN       NaN   \n",
        "16                           NaN               NaN      NaN       NaN   \n",
        "17                           NaN               NaN      NaN       NaN   \n",
        "18                           NaN               NaN      NaN       NaN   \n",
        "19                           NaN               NaN      NaN       NaN   \n",
        "20                           NaN               NaN      NaN       NaN   \n",
        "21                           NaN                no      EGP    592.00   \n",
        "22                           NaN                no      EGP     70.20   \n",
        "23                           NaN                no      EGP    432.00   \n",
        "24                           NaN               NaN      NaN       NaN   \n",
        "25                           NaN               NaN      NaN       NaN   \n",
        "26                           NaN               NaN      NaN       NaN   \n",
        "27                           NaN               NaN      NaN       NaN   \n",
        "28                           NaN               NaN      NaN       NaN   \n",
        "29                           NaN               NaN      NaN       NaN   \n",
        "...                          ...               ...      ...       ...   \n",
        "60742                        NaN               NaN      NaN       NaN   \n",
        "60743  2012-05-27 13:15:14 +0200                no      EGP     41.93   \n",
        "60744                        NaN               NaN      NaN       NaN   \n",
        "60745  2012-05-21 18:33:43 +0200               yes      EGP    222.30   \n",
        "60746  2012-05-09 11:09:06 +0200               yes      EGP    155.55   \n",
        "60747                        NaN               NaN      NaN       NaN   \n",
        "60748                        NaN               NaN      NaN       NaN   \n",
        "60749                        NaN               NaN      NaN       NaN   \n",
        "60750                        NaN               NaN      NaN       NaN   \n",
        "60751                        NaN               NaN      NaN       NaN   \n",
        "60752                        NaN               NaN      NaN       NaN   \n",
        "60753  2012-05-10 19:12:32 +0200               yes      EGP     45.50   \n",
        "60754  2012-05-10 19:13:32 +0200               yes      EGP    357.53   \n",
        "60755                        NaN               NaN      NaN       NaN   \n",
        "60756                        NaN               NaN      NaN       NaN   \n",
        "60757                        NaN               NaN      NaN       NaN   \n",
        "60758                        NaN               NaN      NaN       NaN   \n",
        "60759  2012-05-04 18:33:47 +0200               yes      EGP    110.83   \n",
        "60760                        NaN               NaN      NaN       NaN   \n",
        "60761                        NaN               NaN      NaN       NaN   \n",
        "60762                        NaN               NaN      NaN       NaN   \n",
        "60763  2012-05-03 10:57:23 +0200               yes      EGP    201.51   \n",
        "60764                        NaN               NaN      NaN       NaN   \n",
        "60765                        NaN               NaN      NaN       NaN   \n",
        "60766                        NaN               NaN      NaN       NaN   \n",
        "60767                        NaN               NaN      NaN       NaN   \n",
        "60768  2012-05-03 11:03:44 +0200               yes      EGP     54.60   \n",
        "60769                        NaN               NaN      NaN       NaN   \n",
        "60770                        NaN               NaN      NaN       NaN   \n",
        "60771                        NaN               NaN      NaN       NaN   \n",
        "\n",
        "       Shipping     ...       Tax 1 Name  Tax 1 Value Tax 2 Name  Tax 2 Value  \\\n",
        "0            10     ...              NaN          NaN        NaN          NaN   \n",
        "1           NaN     ...              NaN          NaN        NaN          NaN   \n",
        "2           NaN     ...              NaN          NaN        NaN          NaN   \n",
        "3            10     ...              NaN          NaN        NaN          NaN   \n",
        "4           NaN     ...              NaN          NaN        NaN          NaN   \n",
        "5           NaN     ...              NaN          NaN        NaN          NaN   \n",
        "6            15     ...              NaN          NaN        NaN          NaN   \n",
        "7           NaN     ...              NaN          NaN        NaN          NaN   \n",
        "8           NaN     ...              NaN          NaN        NaN          NaN   \n",
        "9           NaN     ...              NaN          NaN        NaN          NaN   \n",
        "10          NaN     ...              NaN          NaN        NaN          NaN   \n",
        "11          NaN     ...              NaN          NaN        NaN          NaN   \n",
        "12           10     ...              NaN          NaN        NaN          NaN   \n",
        "13          NaN     ...              NaN          NaN        NaN          NaN   \n",
        "14          NaN     ...              NaN          NaN        NaN          NaN   \n",
        "15          NaN     ...              NaN          NaN        NaN          NaN   \n",
        "16          NaN     ...              NaN          NaN        NaN          NaN   \n",
        "17          NaN     ...              NaN          NaN        NaN          NaN   \n",
        "18          NaN     ...              NaN          NaN        NaN          NaN   \n",
        "19          NaN     ...              NaN          NaN        NaN          NaN   \n",
        "20          NaN     ...              NaN          NaN        NaN          NaN   \n",
        "21           10     ...              NaN          NaN        NaN          NaN   \n",
        "22           15     ...              NaN          NaN        NaN          NaN   \n",
        "23           10     ...              NaN          NaN        NaN          NaN   \n",
        "24          NaN     ...              NaN          NaN        NaN          NaN   \n",
        "25          NaN     ...              NaN          NaN        NaN          NaN   \n",
        "26          NaN     ...              NaN          NaN        NaN          NaN   \n",
        "27          NaN     ...              NaN          NaN        NaN          NaN   \n",
        "28          NaN     ...              NaN          NaN        NaN          NaN   \n",
        "29          NaN     ...              NaN          NaN        NaN          NaN   \n",
        "...         ...     ...              ...          ...        ...          ...   \n",
        "60742       NaN     ...              NaN          NaN        NaN          NaN   \n",
        "60743         5     ...              NaN          NaN        NaN          NaN   \n",
        "60744       NaN     ...              NaN          NaN        NaN          NaN   \n",
        "60745         5     ...              NaN          NaN        NaN          NaN   \n",
        "60746         5     ...              NaN          NaN        NaN          NaN   \n",
        "60747       NaN     ...              NaN          NaN        NaN          NaN   \n",
        "60748       NaN     ...              NaN          NaN        NaN          NaN   \n",
        "60749       NaN     ...              NaN          NaN        NaN          NaN   \n",
        "60750       NaN     ...              NaN          NaN        NaN          NaN   \n",
        "60751       NaN     ...              NaN          NaN        NaN          NaN   \n",
        "60752       NaN     ...              NaN          NaN        NaN          NaN   \n",
        "60753         5     ...              NaN          NaN        NaN          NaN   \n",
        "60754         5     ...              NaN          NaN        NaN          NaN   \n",
        "60755       NaN     ...              NaN          NaN        NaN          NaN   \n",
        "60756       NaN     ...              NaN          NaN        NaN          NaN   \n",
        "60757       NaN     ...              NaN          NaN        NaN          NaN   \n",
        "60758       NaN     ...              NaN          NaN        NaN          NaN   \n",
        "60759         5     ...              NaN          NaN        NaN          NaN   \n",
        "60760       NaN     ...              NaN          NaN        NaN          NaN   \n",
        "60761       NaN     ...              NaN          NaN        NaN          NaN   \n",
        "60762       NaN     ...              NaN          NaN        NaN          NaN   \n",
        "60763         5     ...              NaN          NaN        NaN          NaN   \n",
        "60764       NaN     ...              NaN          NaN        NaN          NaN   \n",
        "60765       NaN     ...              NaN          NaN        NaN          NaN   \n",
        "60766       NaN     ...              NaN          NaN        NaN          NaN   \n",
        "60767       NaN     ...              NaN          NaN        NaN          NaN   \n",
        "60768         5     ...              NaN          NaN        NaN          NaN   \n",
        "60769       NaN     ...              NaN          NaN        NaN          NaN   \n",
        "60770       NaN     ...              NaN          NaN        NaN          NaN   \n",
        "60771       NaN     ...              NaN          NaN        NaN          NaN   \n",
        "\n",
        "      Tax 3 Name Tax 3 Value  Tax 4 Name Tax 4 Value  Tax 5 Name  Tax 5 Value  \n",
        "0            NaN         NaN         NaN         NaN         NaN          NaN  \n",
        "1            NaN         NaN         NaN         NaN         NaN          NaN  \n",
        "2            NaN         NaN         NaN         NaN         NaN          NaN  \n",
        "3            NaN         NaN         NaN         NaN         NaN          NaN  \n",
        "4            NaN         NaN         NaN         NaN         NaN          NaN  \n",
        "5            NaN         NaN         NaN         NaN         NaN          NaN  \n",
        "6            NaN         NaN         NaN         NaN         NaN          NaN  \n",
        "7            NaN         NaN         NaN         NaN         NaN          NaN  \n",
        "8            NaN         NaN         NaN         NaN         NaN          NaN  \n",
        "9            NaN         NaN         NaN         NaN         NaN          NaN  \n",
        "10           NaN         NaN         NaN         NaN         NaN          NaN  \n",
        "11           NaN         NaN         NaN         NaN         NaN          NaN  \n",
        "12           NaN         NaN         NaN         NaN         NaN          NaN  \n",
        "13           NaN         NaN         NaN         NaN         NaN          NaN  \n",
        "14           NaN         NaN         NaN         NaN         NaN          NaN  \n",
        "15           NaN         NaN         NaN         NaN         NaN          NaN  \n",
        "16           NaN         NaN         NaN         NaN         NaN          NaN  \n",
        "17           NaN         NaN         NaN         NaN         NaN          NaN  \n",
        "18           NaN         NaN         NaN         NaN         NaN          NaN  \n",
        "19           NaN         NaN         NaN         NaN         NaN          NaN  \n",
        "20           NaN         NaN         NaN         NaN         NaN          NaN  \n",
        "21           NaN         NaN         NaN         NaN         NaN          NaN  \n",
        "22           NaN         NaN         NaN         NaN         NaN          NaN  \n",
        "23           NaN         NaN         NaN         NaN         NaN          NaN  \n",
        "24           NaN         NaN         NaN         NaN         NaN          NaN  \n",
        "25           NaN         NaN         NaN         NaN         NaN          NaN  \n",
        "26           NaN         NaN         NaN         NaN         NaN          NaN  \n",
        "27           NaN         NaN         NaN         NaN         NaN          NaN  \n",
        "28           NaN         NaN         NaN         NaN         NaN          NaN  \n",
        "29           NaN         NaN         NaN         NaN         NaN          NaN  \n",
        "...          ...         ...         ...         ...         ...          ...  \n",
        "60742        NaN         NaN         NaN         NaN         NaN          NaN  \n",
        "60743        NaN         NaN         NaN         NaN         NaN          NaN  \n",
        "60744        NaN         NaN         NaN         NaN         NaN          NaN  \n",
        "60745        NaN         NaN         NaN         NaN         NaN          NaN  \n",
        "60746        NaN         NaN         NaN         NaN         NaN          NaN  \n",
        "60747        NaN         NaN         NaN         NaN         NaN          NaN  \n",
        "60748        NaN         NaN         NaN         NaN         NaN          NaN  \n",
        "60749        NaN         NaN         NaN         NaN         NaN          NaN  \n",
        "60750        NaN         NaN         NaN         NaN         NaN          NaN  \n",
        "60751        NaN         NaN         NaN         NaN         NaN          NaN  \n",
        "60752        NaN         NaN         NaN         NaN         NaN          NaN  \n",
        "60753        NaN         NaN         NaN         NaN         NaN          NaN  \n",
        "60754        NaN         NaN         NaN         NaN         NaN          NaN  \n",
        "60755        NaN         NaN         NaN         NaN         NaN          NaN  \n",
        "60756        NaN         NaN         NaN         NaN         NaN          NaN  \n",
        "60757        NaN         NaN         NaN         NaN         NaN          NaN  \n",
        "60758        NaN         NaN         NaN         NaN         NaN          NaN  \n",
        "60759        NaN         NaN         NaN         NaN         NaN          NaN  \n",
        "60760        NaN         NaN         NaN         NaN         NaN          NaN  \n",
        "60761        NaN         NaN         NaN         NaN         NaN          NaN  \n",
        "60762        NaN         NaN         NaN         NaN         NaN          NaN  \n",
        "60763        NaN         NaN         NaN         NaN         NaN          NaN  \n",
        "60764        NaN         NaN         NaN         NaN         NaN          NaN  \n",
        "60765        NaN         NaN         NaN         NaN         NaN          NaN  \n",
        "60766        NaN         NaN         NaN         NaN         NaN          NaN  \n",
        "60767        NaN         NaN         NaN         NaN         NaN          NaN  \n",
        "60768        NaN         NaN         NaN         NaN         NaN          NaN  \n",
        "60769        NaN         NaN         NaN         NaN         NaN          NaN  \n",
        "60770        NaN         NaN         NaN         NaN         NaN          NaN  \n",
        "60771        NaN         NaN         NaN         NaN         NaN          NaN  \n",
        "\n",
        "[60772 rows x 66 columns]"
       ]
      }
     ],
     "prompt_number": 2
    },
    {
     "cell_type": "code",
     "collapsed": false,
     "input": [
      "# get required columns and rename\n",
      "df = df[['Name', 'Lineitem name']]\n",
      "df.columns = ['Name', 'Product']\n",
      "df"
     ],
     "language": "python",
     "metadata": {},
     "outputs": [
      {
       "html": [
        "<div style=\"max-height:1000px;max-width:1500px;overflow:auto;\">\n",
        "<table border=\"1\" class=\"dataframe\">\n",
        "  <thead>\n",
        "    <tr style=\"text-align: right;\">\n",
        "      <th></th>\n",
        "      <th>Name</th>\n",
        "      <th>Product</th>\n",
        "    </tr>\n",
        "  </thead>\n",
        "  <tbody>\n",
        "    <tr>\n",
        "      <th>0    </th>\n",
        "      <td> #10367</td>\n",
        "      <td>               Balady Whole Chicken(chemical free)</td>\n",
        "    </tr>\n",
        "    <tr>\n",
        "      <th>1    </th>\n",
        "      <td> #10367</td>\n",
        "      <td>                      Baby spinach (chemical free)</td>\n",
        "    </tr>\n",
        "    <tr>\n",
        "      <th>2    </th>\n",
        "      <td> #10367</td>\n",
        "      <td>            Chicken breast - Hormone free (frozen)</td>\n",
        "    </tr>\n",
        "    <tr>\n",
        "      <th>3    </th>\n",
        "      <td> #10366</td>\n",
        "      <td>                               Avocados (imported)</td>\n",
        "    </tr>\n",
        "    <tr>\n",
        "      <th>4    </th>\n",
        "      <td> #10366</td>\n",
        "      <td>                       Aubergene (Roumy) - organic</td>\n",
        "    </tr>\n",
        "    <tr>\n",
        "      <th>5    </th>\n",
        "      <td> #10366</td>\n",
        "      <td>             Whole chicken - Hormone free (frozen)</td>\n",
        "    </tr>\n",
        "    <tr>\n",
        "      <th>6    </th>\n",
        "      <td> #10365</td>\n",
        "      <td>                                         Red onion</td>\n",
        "    </tr>\n",
        "    <tr>\n",
        "      <th>7    </th>\n",
        "      <td> #10365</td>\n",
        "      <td>                        Watercress (chemical free)</td>\n",
        "    </tr>\n",
        "    <tr>\n",
        "      <th>8    </th>\n",
        "      <td> #10365</td>\n",
        "      <td>                       Lolla rossa (chemical free)</td>\n",
        "    </tr>\n",
        "    <tr>\n",
        "      <th>9    </th>\n",
        "      <td> #10365</td>\n",
        "      <td>            Chicken breast - Hormone free (frozen)</td>\n",
        "    </tr>\n",
        "    <tr>\n",
        "      <th>10   </th>\n",
        "      <td> #10365</td>\n",
        "      <td>                            Arugula(chemical free)</td>\n",
        "    </tr>\n",
        "    <tr>\n",
        "      <th>11   </th>\n",
        "      <td> #10365</td>\n",
        "      <td>               Balady Whole Chicken(chemical free)</td>\n",
        "    </tr>\n",
        "    <tr>\n",
        "      <th>12   </th>\n",
        "      <td> #10364</td>\n",
        "      <td>            Chicken breast - Hormone free (frozen)</td>\n",
        "    </tr>\n",
        "    <tr>\n",
        "      <th>13   </th>\n",
        "      <td> #10364</td>\n",
        "      <td>                            Chicken thigh (frozen)</td>\n",
        "    </tr>\n",
        "    <tr>\n",
        "      <th>14   </th>\n",
        "      <td> #10364</td>\n",
        "      <td> Chicken cutlets - Hormone free - (Shishtawook)...</td>\n",
        "    </tr>\n",
        "    <tr>\n",
        "      <th>15   </th>\n",
        "      <td> #10364</td>\n",
        "      <td>             Veal cutlets (chemical free) - frozen</td>\n",
        "    </tr>\n",
        "    <tr>\n",
        "      <th>16   </th>\n",
        "      <td> #10364</td>\n",
        "      <td>            Veal escalope (chemical free) - frozen</td>\n",
        "    </tr>\n",
        "    <tr>\n",
        "      <th>17   </th>\n",
        "      <td> #10364</td>\n",
        "      <td>               Veal liver (chemical free) - frozen</td>\n",
        "    </tr>\n",
        "    <tr>\n",
        "      <th>18   </th>\n",
        "      <td> #10364</td>\n",
        "      <td> Bedouin lamb beit kalawi (Chemical free) - frozen</td>\n",
        "    </tr>\n",
        "    <tr>\n",
        "      <th>19   </th>\n",
        "      <td> #10364</td>\n",
        "      <td>               Beef cubes (chemical free) - frozen</td>\n",
        "    </tr>\n",
        "    <tr>\n",
        "      <th>20   </th>\n",
        "      <td> #10364</td>\n",
        "      <td>      Beef mince - no fat (chemical free) - frozen</td>\n",
        "    </tr>\n",
        "    <tr>\n",
        "      <th>21   </th>\n",
        "      <td> #10363</td>\n",
        "      <td>               Coconut oil (organic) - for cooking</td>\n",
        "    </tr>\n",
        "    <tr>\n",
        "      <th>22   </th>\n",
        "      <td> #10362</td>\n",
        "      <td>                               Wild Shrimp (small)</td>\n",
        "    </tr>\n",
        "    <tr>\n",
        "      <th>23   </th>\n",
        "      <td> #10361</td>\n",
        "      <td>             Chicken liver - Hormone free (frozen)</td>\n",
        "    </tr>\n",
        "    <tr>\n",
        "      <th>24   </th>\n",
        "      <td> #10361</td>\n",
        "      <td>                          Potatoes (chemical free)</td>\n",
        "    </tr>\n",
        "    <tr>\n",
        "      <th>25   </th>\n",
        "      <td> #10361</td>\n",
        "      <td>                    Sweet potatoes (Chemical free)</td>\n",
        "    </tr>\n",
        "    <tr>\n",
        "      <th>26   </th>\n",
        "      <td> #10361</td>\n",
        "      <td>           Top side steak (chemical free) - frozen</td>\n",
        "    </tr>\n",
        "    <tr>\n",
        "      <th>27   </th>\n",
        "      <td> #10361</td>\n",
        "      <td>            Beef shanks ( Chemical free ) - frozen</td>\n",
        "    </tr>\n",
        "    <tr>\n",
        "      <th>28   </th>\n",
        "      <td> #10361</td>\n",
        "      <td>             Whole chicken - Hormone free (frozen)</td>\n",
        "    </tr>\n",
        "    <tr>\n",
        "      <th>29   </th>\n",
        "      <td> #10361</td>\n",
        "      <td>            Chicken breast - Hormone free (frozen)</td>\n",
        "    </tr>\n",
        "    <tr>\n",
        "      <th>...</th>\n",
        "      <td>...</td>\n",
        "      <td>...</td>\n",
        "    </tr>\n",
        "    <tr>\n",
        "      <th>60742</th>\n",
        "      <td>  #1013</td>\n",
        "      <td>                            Dried Prunes with Pits</td>\n",
        "    </tr>\n",
        "    <tr>\n",
        "      <th>60743</th>\n",
        "      <td>  #1012</td>\n",
        "      <td>                         Raw Almonds without Shell</td>\n",
        "    </tr>\n",
        "    <tr>\n",
        "      <th>60744</th>\n",
        "      <td>  #1012</td>\n",
        "      <td>                                        Brown Rice</td>\n",
        "    </tr>\n",
        "    <tr>\n",
        "      <th>60745</th>\n",
        "      <td>  #1011</td>\n",
        "      <td>                                  Golden Flaxseeds</td>\n",
        "    </tr>\n",
        "    <tr>\n",
        "      <th>60746</th>\n",
        "      <td>  #1010</td>\n",
        "      <td>            Green Tea with Echinacea &amp; Black Seeds</td>\n",
        "    </tr>\n",
        "    <tr>\n",
        "      <th>60747</th>\n",
        "      <td>  #1010</td>\n",
        "      <td>  Ravioli Fire Roasted Tomato, Mozarella and Basil</td>\n",
        "    </tr>\n",
        "    <tr>\n",
        "      <th>60748</th>\n",
        "      <td>  #1010</td>\n",
        "      <td>                                        Brown Rice</td>\n",
        "    </tr>\n",
        "    <tr>\n",
        "      <th>60749</th>\n",
        "      <td>  #1010</td>\n",
        "      <td>                                Organic Flax Seeds</td>\n",
        "    </tr>\n",
        "    <tr>\n",
        "      <th>60750</th>\n",
        "      <td>  #1010</td>\n",
        "      <td>                                     Pumpkin Seeds</td>\n",
        "    </tr>\n",
        "    <tr>\n",
        "      <th>60751</th>\n",
        "      <td>  #1010</td>\n",
        "      <td>                  Stir Fry Vegetables - Dragon Mix</td>\n",
        "    </tr>\n",
        "    <tr>\n",
        "      <th>60752</th>\n",
        "      <td>  #1010</td>\n",
        "      <td>                         Tea Tree Antiseptic Cream</td>\n",
        "    </tr>\n",
        "    <tr>\n",
        "      <th>60753</th>\n",
        "      <td>  #1009</td>\n",
        "      <td>                          Power Protein Bar Peanut</td>\n",
        "    </tr>\n",
        "    <tr>\n",
        "      <th>60754</th>\n",
        "      <td>  #1008</td>\n",
        "      <td>                          Raw Walnut without Shell</td>\n",
        "    </tr>\n",
        "    <tr>\n",
        "      <th>60755</th>\n",
        "      <td>  #1008</td>\n",
        "      <td>                                         Raw Pecan</td>\n",
        "    </tr>\n",
        "    <tr>\n",
        "      <th>60756</th>\n",
        "      <td>  #1008</td>\n",
        "      <td>                                        Raw Cashew</td>\n",
        "    </tr>\n",
        "    <tr>\n",
        "      <th>60757</th>\n",
        "      <td>  #1008</td>\n",
        "      <td>                         Raw Almonds without Shell</td>\n",
        "    </tr>\n",
        "    <tr>\n",
        "      <th>60758</th>\n",
        "      <td>  #1008</td>\n",
        "      <td>                     Organic Sun-Dried Mango Chips</td>\n",
        "    </tr>\n",
        "    <tr>\n",
        "      <th>60759</th>\n",
        "      <td>  #1007</td>\n",
        "      <td>                                    Raw Bee Pollen</td>\n",
        "    </tr>\n",
        "    <tr>\n",
        "      <th>60760</th>\n",
        "      <td>  #1007</td>\n",
        "      <td>                                    Black Seed Oil</td>\n",
        "    </tr>\n",
        "    <tr>\n",
        "      <th>60761</th>\n",
        "      <td>  #1007</td>\n",
        "      <td>                          Raw Walnut without Shell</td>\n",
        "    </tr>\n",
        "    <tr>\n",
        "      <th>60762</th>\n",
        "      <td>  #1007</td>\n",
        "      <td>                         Raw Almonds without Shell</td>\n",
        "    </tr>\n",
        "    <tr>\n",
        "      <th>60763</th>\n",
        "      <td>  #1006</td>\n",
        "      <td>                          Power Protein Bar Peanut</td>\n",
        "    </tr>\n",
        "    <tr>\n",
        "      <th>60764</th>\n",
        "      <td>  #1006</td>\n",
        "      <td>                          Raw Walnut without Shell</td>\n",
        "    </tr>\n",
        "    <tr>\n",
        "      <th>60765</th>\n",
        "      <td>  #1006</td>\n",
        "      <td>                              Raw Pistachio Kernel</td>\n",
        "    </tr>\n",
        "    <tr>\n",
        "      <th>60766</th>\n",
        "      <td>  #1006</td>\n",
        "      <td>                                         Raw Pecan</td>\n",
        "    </tr>\n",
        "    <tr>\n",
        "      <th>60767</th>\n",
        "      <td>  #1006</td>\n",
        "      <td>                                        Raw Cashew</td>\n",
        "    </tr>\n",
        "    <tr>\n",
        "      <th>60768</th>\n",
        "      <td>  #1005</td>\n",
        "      <td>                                Liver Wellness Tea</td>\n",
        "    </tr>\n",
        "    <tr>\n",
        "      <th>60769</th>\n",
        "      <td>  #1005</td>\n",
        "      <td>                                        Brown Rice</td>\n",
        "    </tr>\n",
        "    <tr>\n",
        "      <th>60770</th>\n",
        "      <td>  #1005</td>\n",
        "      <td>                          Raw Walnut without Shell</td>\n",
        "    </tr>\n",
        "    <tr>\n",
        "      <th>60771</th>\n",
        "      <td>  #1005</td>\n",
        "      <td>                                     Pumpkin Seeds</td>\n",
        "    </tr>\n",
        "  </tbody>\n",
        "</table>\n",
        "<p>60772 rows \u00d7 2 columns</p>\n",
        "</div>"
       ],
       "metadata": {},
       "output_type": "pyout",
       "prompt_number": 3,
       "text": [
        "         Name                                            Product\n",
        "0      #10367                Balady Whole Chicken(chemical free)\n",
        "1      #10367                       Baby spinach (chemical free)\n",
        "2      #10367             Chicken breast - Hormone free (frozen)\n",
        "3      #10366                                Avocados (imported)\n",
        "4      #10366                        Aubergene (Roumy) - organic\n",
        "5      #10366              Whole chicken - Hormone free (frozen)\n",
        "6      #10365                                          Red onion\n",
        "7      #10365                         Watercress (chemical free)\n",
        "8      #10365                        Lolla rossa (chemical free)\n",
        "9      #10365             Chicken breast - Hormone free (frozen)\n",
        "10     #10365                             Arugula(chemical free)\n",
        "11     #10365                Balady Whole Chicken(chemical free)\n",
        "12     #10364             Chicken breast - Hormone free (frozen)\n",
        "13     #10364                             Chicken thigh (frozen)\n",
        "14     #10364  Chicken cutlets - Hormone free - (Shishtawook)...\n",
        "15     #10364              Veal cutlets (chemical free) - frozen\n",
        "16     #10364             Veal escalope (chemical free) - frozen\n",
        "17     #10364                Veal liver (chemical free) - frozen\n",
        "18     #10364  Bedouin lamb beit kalawi (Chemical free) - frozen\n",
        "19     #10364                Beef cubes (chemical free) - frozen\n",
        "20     #10364       Beef mince - no fat (chemical free) - frozen\n",
        "21     #10363                Coconut oil (organic) - for cooking\n",
        "22     #10362                                Wild Shrimp (small)\n",
        "23     #10361              Chicken liver - Hormone free (frozen)\n",
        "24     #10361                           Potatoes (chemical free)\n",
        "25     #10361                     Sweet potatoes (Chemical free)\n",
        "26     #10361            Top side steak (chemical free) - frozen\n",
        "27     #10361             Beef shanks ( Chemical free ) - frozen\n",
        "28     #10361              Whole chicken - Hormone free (frozen)\n",
        "29     #10361             Chicken breast - Hormone free (frozen)\n",
        "...       ...                                                ...\n",
        "60742   #1013                             Dried Prunes with Pits\n",
        "60743   #1012                          Raw Almonds without Shell\n",
        "60744   #1012                                         Brown Rice\n",
        "60745   #1011                                   Golden Flaxseeds\n",
        "60746   #1010             Green Tea with Echinacea & Black Seeds\n",
        "60747   #1010   Ravioli Fire Roasted Tomato, Mozarella and Basil\n",
        "60748   #1010                                         Brown Rice\n",
        "60749   #1010                                 Organic Flax Seeds\n",
        "60750   #1010                                      Pumpkin Seeds\n",
        "60751   #1010                   Stir Fry Vegetables - Dragon Mix\n",
        "60752   #1010                          Tea Tree Antiseptic Cream\n",
        "60753   #1009                           Power Protein Bar Peanut\n",
        "60754   #1008                           Raw Walnut without Shell\n",
        "60755   #1008                                          Raw Pecan\n",
        "60756   #1008                                         Raw Cashew\n",
        "60757   #1008                          Raw Almonds without Shell\n",
        "60758   #1008                      Organic Sun-Dried Mango Chips\n",
        "60759   #1007                                     Raw Bee Pollen\n",
        "60760   #1007                                     Black Seed Oil\n",
        "60761   #1007                           Raw Walnut without Shell\n",
        "60762   #1007                          Raw Almonds without Shell\n",
        "60763   #1006                           Power Protein Bar Peanut\n",
        "60764   #1006                           Raw Walnut without Shell\n",
        "60765   #1006                               Raw Pistachio Kernel\n",
        "60766   #1006                                          Raw Pecan\n",
        "60767   #1006                                         Raw Cashew\n",
        "60768   #1005                                 Liver Wellness Tea\n",
        "60769   #1005                                         Brown Rice\n",
        "60770   #1005                           Raw Walnut without Shell\n",
        "60771   #1005                                      Pumpkin Seeds\n",
        "\n",
        "[60772 rows x 2 columns]"
       ]
      }
     ],
     "prompt_number": 3
    },
    {
     "cell_type": "code",
     "collapsed": false,
     "input": [
      "# change product names to upper, remove duplicates, group the orders with same product\n",
      "df['Product'] = df.Product.apply(lambda x: x.upper())\n",
      "df = df.drop_duplicates().reset_index().drop('index', 1)\n",
      "df = df.groupby(['Product'], axis=0, as_index=False)['Name'].sum()\n",
      "df"
     ],
     "language": "python",
     "metadata": {},
     "outputs": [
      {
       "output_type": "stream",
       "stream": "stderr",
       "text": [
        "-c:2: SettingWithCopyWarning: \n",
        "A value is trying to be set on a copy of a slice from a DataFrame.\n",
        "Try using .loc[row_indexer,col_indexer] = value instead\n",
        "\n",
        "See the the caveats in the documentation: http://pandas.pydata.org/pandas-docs/stable/indexing.html#indexing-view-versus-copy\n"
       ]
      },
      {
       "html": [
        "<div style=\"max-height:1000px;max-width:1500px;overflow:auto;\">\n",
        "<table border=\"1\" class=\"dataframe\">\n",
        "  <thead>\n",
        "    <tr style=\"text-align: right;\">\n",
        "      <th></th>\n",
        "      <th>Product</th>\n",
        "      <th>Name</th>\n",
        "    </tr>\n",
        "  </thead>\n",
        "  <tbody>\n",
        "    <tr>\n",
        "      <th>0   </th>\n",
        "      <td>                                     7 GRAIN MILK</td>\n",
        "      <td> #2498#2486#2467#2461#2418#2367#2253#2252#2109#...</td>\n",
        "    </tr>\n",
        "    <tr>\n",
        "      <th>1   </th>\n",
        "      <td>                             7 GRAIN MILK - 946ML</td>\n",
        "      <td>                         #2714#2691#2533#2529#2514</td>\n",
        "    </tr>\n",
        "    <tr>\n",
        "      <th>2   </th>\n",
        "      <td>                                 ACAI BERRY JUICE</td>\n",
        "      <td>                                 #10353#10330#3427</td>\n",
        "    </tr>\n",
        "    <tr>\n",
        "      <th>3   </th>\n",
        "      <td>                                 ACNE FACIAL SOAP</td>\n",
        "      <td>                                        #3940#3606</td>\n",
        "    </tr>\n",
        "    <tr>\n",
        "      <th>4   </th>\n",
        "      <td>                          ACQUA PANA WATER 1000ML</td>\n",
        "      <td>                                             #3088</td>\n",
        "    </tr>\n",
        "    <tr>\n",
        "      <th>5   </th>\n",
        "      <td>                           ACQUA PANA WATER 500ML</td>\n",
        "      <td>                                             #3088</td>\n",
        "    </tr>\n",
        "    <tr>\n",
        "      <th>6   </th>\n",
        "      <td>                     ACQUA PANA WATER 500ML GLASS</td>\n",
        "      <td>                                             #3088</td>\n",
        "    </tr>\n",
        "    <tr>\n",
        "      <th>7   </th>\n",
        "      <td>            ACTIBIF CHEESE (FOR BETTER DIGESTION)</td>\n",
        "      <td> #9714#9701#9697#9550#9265#9257#8971#8909#8705#...</td>\n",
        "    </tr>\n",
        "    <tr>\n",
        "      <th>8   </th>\n",
        "      <td>         AGAR AGAR FLAKES (HAND HARVESTED) - WILD</td>\n",
        "      <td>   #10303#10081#9328#8515#8330#8322#8256#7802#6552</td>\n",
        "    </tr>\n",
        "    <tr>\n",
        "      <th>9   </th>\n",
        "      <td>         ALL PURPOSE BAKING FLOUR ( GLUTEN FREE )</td>\n",
        "      <td> #9881#9757#9609#9547#9472#9439#9366#9298#9234#...</td>\n",
        "    </tr>\n",
        "    <tr>\n",
        "      <th>10  </th>\n",
        "      <td>  ALL PURPOSE BAKING FLOUR ( GLUTEN FREE ) - 623G</td>\n",
        "      <td> #4974#4947#4945#4916#4713#4699#4675#4653#4599#...</td>\n",
        "    </tr>\n",
        "    <tr>\n",
        "      <th>11  </th>\n",
        "      <td>           ALL PURPOSE BAKING FLOUR (GLUTEN FREE)</td>\n",
        "      <td> #10313#10298#10158#10154#10127#10045#9207#9206...</td>\n",
        "    </tr>\n",
        "    <tr>\n",
        "      <th>12  </th>\n",
        "      <td> ALMOND BISCOTTI (GLUTEN FREE) - TRACES OF GLUTEN</td>\n",
        "      <td>                  #6958#6780#6562A#6562#6494A#6494</td>\n",
        "    </tr>\n",
        "    <tr>\n",
        "      <th>13  </th>\n",
        "      <td> ALMOND BISCUTIS (GLUTEN FREE) - TRACES OF GLUTEN</td>\n",
        "      <td>                        #7216#7125A#7125#6259#6015</td>\n",
        "    </tr>\n",
        "    <tr>\n",
        "      <th>14  </th>\n",
        "      <td>                       ALMOND BREAD (GLUTEN FREE)</td>\n",
        "      <td>                    #9101#9019#8997#8976#8964#8943</td>\n",
        "    </tr>\n",
        "    <tr>\n",
        "      <th>15  </th>\n",
        "      <td>                                    ALMOND BUTTER</td>\n",
        "      <td> #10357#10344#10336#10327#10326#10295#10255#102...</td>\n",
        "    </tr>\n",
        "    <tr>\n",
        "      <th>16  </th>\n",
        "      <td>                        ALMOND BUTTER (HOME-MADE)</td>\n",
        "      <td> #4586#4556#4547#4517#4498#4492#4465#4462#4441#...</td>\n",
        "    </tr>\n",
        "    <tr>\n",
        "      <th>17  </th>\n",
        "      <td>                          ALMOND BUTTER (NATURAL)</td>\n",
        "      <td> #10350#10346#10303#10276#10198#10142#10129#963...</td>\n",
        "    </tr>\n",
        "    <tr>\n",
        "      <th>18  </th>\n",
        "      <td>      ALMOND BUTTER WITH CINAMON RAISIN (NATURAL)</td>\n",
        "      <td>                                        #8585#8486</td>\n",
        "    </tr>\n",
        "    <tr>\n",
        "      <th>19  </th>\n",
        "      <td>                                ALMOND MEAL FLOUR</td>\n",
        "      <td> #10009#9993#9986#9983#9971#9951#9914#9844#9732...</td>\n",
        "    </tr>\n",
        "    <tr>\n",
        "      <th>20  </th>\n",
        "      <td>                                      ALMOND MILK</td>\n",
        "      <td> #2499#2498#2481#2480#2465#2461#2457#2453#2441#...</td>\n",
        "    </tr>\n",
        "    <tr>\n",
        "      <th>21  </th>\n",
        "      <td>                          ALMOND MILK ( ORGANIC )</td>\n",
        "      <td>                                        #3335#3332</td>\n",
        "    </tr>\n",
        "    <tr>\n",
        "      <th>22  </th>\n",
        "      <td>                    ALMOND MILK ( ORGANIC ) 946ML</td>\n",
        "      <td>                                  #7134A#7137#7134</td>\n",
        "    </tr>\n",
        "    <tr>\n",
        "      <th>23  </th>\n",
        "      <td>                         ALMOND MILK ( ORIGINAL )</td>\n",
        "      <td> #5669A#5669#5654#5649A#5649#5618#5558#5532A#55...</td>\n",
        "    </tr>\n",
        "    <tr>\n",
        "      <th>24  </th>\n",
        "      <td>               ALMOND MILK (ORGANIC) - SUGAR-FREE</td>\n",
        "      <td> #10170#10149#10033#10027#10003#9963#9947#9937#...</td>\n",
        "    </tr>\n",
        "    <tr>\n",
        "      <th>25  </th>\n",
        "      <td>                        ALMOND MILK (UNSWEETENED)</td>\n",
        "      <td>                                   #4802#4801#4795</td>\n",
        "    </tr>\n",
        "    <tr>\n",
        "      <th>26  </th>\n",
        "      <td>                              ALMOND MILK - 946ML</td>\n",
        "      <td> #2828#2599#2596#2594#2585#2583#2579#2578#2576#...</td>\n",
        "    </tr>\n",
        "    <tr>\n",
        "      <th>27  </th>\n",
        "      <td>                       ALMOND ORIGINAL (ORIGINAL)</td>\n",
        "      <td>                              #4888#4862#4858#4801</td>\n",
        "    </tr>\n",
        "    <tr>\n",
        "      <th>28  </th>\n",
        "      <td>                     ALMOND'S AND OATS BODY SCRUB</td>\n",
        "      <td>                                             #4435</td>\n",
        "    </tr>\n",
        "    <tr>\n",
        "      <th>29  </th>\n",
        "      <td>              ALMONDS SHELL ON - ROASTED &amp; SALTED</td>\n",
        "      <td> #2224#2177#1747#1690#1435#1358#1342#1340#1302#...</td>\n",
        "    </tr>\n",
        "    <tr>\n",
        "      <th>...</th>\n",
        "      <td>...</td>\n",
        "      <td>...</td>\n",
        "    </tr>\n",
        "    <tr>\n",
        "      <th>1906</th>\n",
        "      <td>                              WILD SHRIMP (LARGE)</td>\n",
        "      <td>                                             #9963</td>\n",
        "    </tr>\n",
        "    <tr>\n",
        "      <th>1907</th>\n",
        "      <td>                             WILD SHRIMP (MEDIUM)</td>\n",
        "      <td>    #10303#10263#10260#10232#10198#10027#9975#9960</td>\n",
        "    </tr>\n",
        "    <tr>\n",
        "      <th>1908</th>\n",
        "      <td>                              WILD SHRIMP (SMALL)</td>\n",
        "      <td>               #10362#10329#10261#10143#10094#9989</td>\n",
        "    </tr>\n",
        "    <tr>\n",
        "      <th>1909</th>\n",
        "      <td>                       WILD THYME (CHEMICAL FREE)</td>\n",
        "      <td>               #9977#9542#9468#9319#9014#8679#8082</td>\n",
        "    </tr>\n",
        "    <tr>\n",
        "      <th>1910</th>\n",
        "      <td>                        WILD YELLOW FINTUNA STEAK</td>\n",
        "      <td>                                            #10265</td>\n",
        "    </tr>\n",
        "    <tr>\n",
        "      <th>1911</th>\n",
        "      <td>                             WORMWOOD HERB POWDER</td>\n",
        "      <td>                                             #2389</td>\n",
        "    </tr>\n",
        "    <tr>\n",
        "      <th>1912</th>\n",
        "      <td>                        XANTHAN GUM (GLUTEN FREE)</td>\n",
        "      <td> #10027#10022#9943#9921#9810#9697#9572#9418#923...</td>\n",
        "    </tr>\n",
        "    <tr>\n",
        "      <th>1913</th>\n",
        "      <td>                                 YAKI NORI SHEETS</td>\n",
        "      <td>                                        #3142#3087</td>\n",
        "    </tr>\n",
        "    <tr>\n",
        "      <th>1914</th>\n",
        "      <td>                                    YELLOW APPLES</td>\n",
        "      <td> #10316#10203#9983#9946#9884#9782#9731#9675#962...</td>\n",
        "    </tr>\n",
        "    <tr>\n",
        "      <th>1915</th>\n",
        "      <td>                                  YELLOW BROCCOLI</td>\n",
        "      <td>                                        #1632#1559</td>\n",
        "    </tr>\n",
        "    <tr>\n",
        "      <th>1916</th>\n",
        "      <td>                YELLOW CAPSICUM ( CHEMICAL FREE )</td>\n",
        "      <td>                                             #3319</td>\n",
        "    </tr>\n",
        "    <tr>\n",
        "      <th>1917</th>\n",
        "      <td>                  YELLOW CARROT ( CHEMICAL FREE )</td>\n",
        "      <td> #8657#8487#8447#8440#8416#8402#8376#8370#8369#...</td>\n",
        "    </tr>\n",
        "    <tr>\n",
        "      <th>1918</th>\n",
        "      <td>                                   YELLOW CARROTS</td>\n",
        "      <td> #10085#10082#10065#9919#9819#8649#8620#8575#85...</td>\n",
        "    </tr>\n",
        "    <tr>\n",
        "      <th>1919</th>\n",
        "      <td>                           YELLOW CHERRY TOMATOES</td>\n",
        "      <td> #2493#2489#2484#2461#2438#2410#1657#1525#1523#...</td>\n",
        "    </tr>\n",
        "    <tr>\n",
        "      <th>1920</th>\n",
        "      <td>                                YELLOW GRAPEFRUIT</td>\n",
        "      <td> #10204#9969#9968#9946#9501#9495#9478#9403#9387...</td>\n",
        "    </tr>\n",
        "    <tr>\n",
        "      <th>1921</th>\n",
        "      <td>                                   YELLOW MUSTARD</td>\n",
        "      <td>                      #10218#10142#10024#9989#9965</td>\n",
        "    </tr>\n",
        "    <tr>\n",
        "      <th>1922</th>\n",
        "      <td>                  YELLOW ONIONS ( CHEMICAL FREE )</td>\n",
        "      <td>                         #4200#4130#4129#4090#4062</td>\n",
        "    </tr>\n",
        "    <tr>\n",
        "      <th>1923</th>\n",
        "      <td>                                YELLOW SPLIT PEAS</td>\n",
        "      <td>                    #2439#2126#1752#1722#1570#1505</td>\n",
        "    </tr>\n",
        "    <tr>\n",
        "      <th>1924</th>\n",
        "      <td>                         YELLOW SPLIT PEAS - 822G</td>\n",
        "      <td>                                             #2923</td>\n",
        "    </tr>\n",
        "    <tr>\n",
        "      <th>1925</th>\n",
        "      <td>                                YELLOW WATERMELON</td>\n",
        "      <td>                                        #8840#8624</td>\n",
        "    </tr>\n",
        "    <tr>\n",
        "      <th>1926</th>\n",
        "      <td>                       YING/YANG FACIAL ACNE SOAP</td>\n",
        "      <td>                                             #4596</td>\n",
        "    </tr>\n",
        "    <tr>\n",
        "      <th>1927</th>\n",
        "      <td>                              YOUSSFI (TANGERINE)</td>\n",
        "      <td>               #9813#9808#9731#9694#9693#9675#9653</td>\n",
        "    </tr>\n",
        "    <tr>\n",
        "      <th>1928</th>\n",
        "      <td>                     ZARDA EXTRA VIRGIN OLIVE OIL</td>\n",
        "      <td>                                             #3137</td>\n",
        "    </tr>\n",
        "    <tr>\n",
        "      <th>1929</th>\n",
        "      <td>                                         ZUCCHINI</td>\n",
        "      <td> #9861#9804#9803#9796#9793#9787#3228#3186#3180#...</td>\n",
        "    </tr>\n",
        "    <tr>\n",
        "      <th>1930</th>\n",
        "      <td>                       ZUCCHINI ( CHEMICAL FREE )</td>\n",
        "      <td> #7988#7985#7980#7967#7932#7926#7912#7893#7872#...</td>\n",
        "    </tr>\n",
        "    <tr>\n",
        "      <th>1931</th>\n",
        "      <td>                         ZUCCHINI (CHEMICAL FREE)</td>\n",
        "      <td> #10355#10351#10320#10316#10295#10292#10291#101...</td>\n",
        "    </tr>\n",
        "    <tr>\n",
        "      <th>1932</th>\n",
        "      <td>                               ZUCCHINI (ORGANIC)</td>\n",
        "      <td> #10321#10306#10218#10213#9474#9372#9349#9283#9...</td>\n",
        "    </tr>\n",
        "    <tr>\n",
        "      <th>1933</th>\n",
        "      <td>                                 ZUCCHINI FLOWERS</td>\n",
        "      <td> #7411#6501#6483#5413B#5413A#5413#4676#4076#406...</td>\n",
        "    </tr>\n",
        "    <tr>\n",
        "      <th>1934</th>\n",
        "      <td>                 ZUCCHINI FLOWERS (CHEMICAL FREE)</td>\n",
        "      <td>               #8216#8200#8082#8060#8019#7983#7933</td>\n",
        "    </tr>\n",
        "    <tr>\n",
        "      <th>1935</th>\n",
        "      <td>   ZUCCHINI JAM WITH PISTACHIO &amp; MASTIC (NATURAL)</td>\n",
        "      <td>                                        #8909#8696</td>\n",
        "    </tr>\n",
        "  </tbody>\n",
        "</table>\n",
        "<p>1936 rows \u00d7 2 columns</p>\n",
        "</div>"
       ],
       "metadata": {},
       "output_type": "pyout",
       "prompt_number": 4,
       "text": [
        "                                               Product  \\\n",
        "0                                         7 GRAIN MILK   \n",
        "1                                 7 GRAIN MILK - 946ML   \n",
        "2                                     ACAI BERRY JUICE   \n",
        "3                                     ACNE FACIAL SOAP   \n",
        "4                              ACQUA PANA WATER 1000ML   \n",
        "5                               ACQUA PANA WATER 500ML   \n",
        "6                         ACQUA PANA WATER 500ML GLASS   \n",
        "7                ACTIBIF CHEESE (FOR BETTER DIGESTION)   \n",
        "8             AGAR AGAR FLAKES (HAND HARVESTED) - WILD   \n",
        "9             ALL PURPOSE BAKING FLOUR ( GLUTEN FREE )   \n",
        "10     ALL PURPOSE BAKING FLOUR ( GLUTEN FREE ) - 623G   \n",
        "11              ALL PURPOSE BAKING FLOUR (GLUTEN FREE)   \n",
        "12    ALMOND BISCOTTI (GLUTEN FREE) - TRACES OF GLUTEN   \n",
        "13    ALMOND BISCUTIS (GLUTEN FREE) - TRACES OF GLUTEN   \n",
        "14                          ALMOND BREAD (GLUTEN FREE)   \n",
        "15                                       ALMOND BUTTER   \n",
        "16                           ALMOND BUTTER (HOME-MADE)   \n",
        "17                             ALMOND BUTTER (NATURAL)   \n",
        "18         ALMOND BUTTER WITH CINAMON RAISIN (NATURAL)   \n",
        "19                                   ALMOND MEAL FLOUR   \n",
        "20                                         ALMOND MILK   \n",
        "21                             ALMOND MILK ( ORGANIC )   \n",
        "22                       ALMOND MILK ( ORGANIC ) 946ML   \n",
        "23                            ALMOND MILK ( ORIGINAL )   \n",
        "24                  ALMOND MILK (ORGANIC) - SUGAR-FREE   \n",
        "25                           ALMOND MILK (UNSWEETENED)   \n",
        "26                                 ALMOND MILK - 946ML   \n",
        "27                          ALMOND ORIGINAL (ORIGINAL)   \n",
        "28                        ALMOND'S AND OATS BODY SCRUB   \n",
        "29                 ALMONDS SHELL ON - ROASTED & SALTED   \n",
        "...                                                ...   \n",
        "1906                               WILD SHRIMP (LARGE)   \n",
        "1907                              WILD SHRIMP (MEDIUM)   \n",
        "1908                               WILD SHRIMP (SMALL)   \n",
        "1909                        WILD THYME (CHEMICAL FREE)   \n",
        "1910                         WILD YELLOW FINTUNA STEAK   \n",
        "1911                              WORMWOOD HERB POWDER   \n",
        "1912                         XANTHAN GUM (GLUTEN FREE)   \n",
        "1913                                  YAKI NORI SHEETS   \n",
        "1914                                     YELLOW APPLES   \n",
        "1915                                   YELLOW BROCCOLI   \n",
        "1916                 YELLOW CAPSICUM ( CHEMICAL FREE )   \n",
        "1917                   YELLOW CARROT ( CHEMICAL FREE )   \n",
        "1918                                    YELLOW CARROTS   \n",
        "1919                            YELLOW CHERRY TOMATOES   \n",
        "1920                                 YELLOW GRAPEFRUIT   \n",
        "1921                                    YELLOW MUSTARD   \n",
        "1922                   YELLOW ONIONS ( CHEMICAL FREE )   \n",
        "1923                                 YELLOW SPLIT PEAS   \n",
        "1924                          YELLOW SPLIT PEAS - 822G   \n",
        "1925                                 YELLOW WATERMELON   \n",
        "1926                        YING/YANG FACIAL ACNE SOAP   \n",
        "1927                               YOUSSFI (TANGERINE)   \n",
        "1928                      ZARDA EXTRA VIRGIN OLIVE OIL   \n",
        "1929                                          ZUCCHINI   \n",
        "1930                        ZUCCHINI ( CHEMICAL FREE )   \n",
        "1931                          ZUCCHINI (CHEMICAL FREE)   \n",
        "1932                                ZUCCHINI (ORGANIC)   \n",
        "1933                                  ZUCCHINI FLOWERS   \n",
        "1934                  ZUCCHINI FLOWERS (CHEMICAL FREE)   \n",
        "1935    ZUCCHINI JAM WITH PISTACHIO & MASTIC (NATURAL)   \n",
        "\n",
        "                                                   Name  \n",
        "0     #2498#2486#2467#2461#2418#2367#2253#2252#2109#...  \n",
        "1                             #2714#2691#2533#2529#2514  \n",
        "2                                     #10353#10330#3427  \n",
        "3                                            #3940#3606  \n",
        "4                                                 #3088  \n",
        "5                                                 #3088  \n",
        "6                                                 #3088  \n",
        "7     #9714#9701#9697#9550#9265#9257#8971#8909#8705#...  \n",
        "8       #10303#10081#9328#8515#8330#8322#8256#7802#6552  \n",
        "9     #9881#9757#9609#9547#9472#9439#9366#9298#9234#...  \n",
        "10    #4974#4947#4945#4916#4713#4699#4675#4653#4599#...  \n",
        "11    #10313#10298#10158#10154#10127#10045#9207#9206...  \n",
        "12                     #6958#6780#6562A#6562#6494A#6494  \n",
        "13                           #7216#7125A#7125#6259#6015  \n",
        "14                       #9101#9019#8997#8976#8964#8943  \n",
        "15    #10357#10344#10336#10327#10326#10295#10255#102...  \n",
        "16    #4586#4556#4547#4517#4498#4492#4465#4462#4441#...  \n",
        "17    #10350#10346#10303#10276#10198#10142#10129#963...  \n",
        "18                                           #8585#8486  \n",
        "19    #10009#9993#9986#9983#9971#9951#9914#9844#9732...  \n",
        "20    #2499#2498#2481#2480#2465#2461#2457#2453#2441#...  \n",
        "21                                           #3335#3332  \n",
        "22                                     #7134A#7137#7134  \n",
        "23    #5669A#5669#5654#5649A#5649#5618#5558#5532A#55...  \n",
        "24    #10170#10149#10033#10027#10003#9963#9947#9937#...  \n",
        "25                                      #4802#4801#4795  \n",
        "26    #2828#2599#2596#2594#2585#2583#2579#2578#2576#...  \n",
        "27                                 #4888#4862#4858#4801  \n",
        "28                                                #4435  \n",
        "29    #2224#2177#1747#1690#1435#1358#1342#1340#1302#...  \n",
        "...                                                 ...  \n",
        "1906                                              #9963  \n",
        "1907     #10303#10263#10260#10232#10198#10027#9975#9960  \n",
        "1908                #10362#10329#10261#10143#10094#9989  \n",
        "1909                #9977#9542#9468#9319#9014#8679#8082  \n",
        "1910                                             #10265  \n",
        "1911                                              #2389  \n",
        "1912  #10027#10022#9943#9921#9810#9697#9572#9418#923...  \n",
        "1913                                         #3142#3087  \n",
        "1914  #10316#10203#9983#9946#9884#9782#9731#9675#962...  \n",
        "1915                                         #1632#1559  \n",
        "1916                                              #3319  \n",
        "1917  #8657#8487#8447#8440#8416#8402#8376#8370#8369#...  \n",
        "1918  #10085#10082#10065#9919#9819#8649#8620#8575#85...  \n",
        "1919  #2493#2489#2484#2461#2438#2410#1657#1525#1523#...  \n",
        "1920  #10204#9969#9968#9946#9501#9495#9478#9403#9387...  \n",
        "1921                       #10218#10142#10024#9989#9965  \n",
        "1922                          #4200#4130#4129#4090#4062  \n",
        "1923                     #2439#2126#1752#1722#1570#1505  \n",
        "1924                                              #2923  \n",
        "1925                                         #8840#8624  \n",
        "1926                                              #4596  \n",
        "1927                #9813#9808#9731#9694#9693#9675#9653  \n",
        "1928                                              #3137  \n",
        "1929  #9861#9804#9803#9796#9793#9787#3228#3186#3180#...  \n",
        "1930  #7988#7985#7980#7967#7932#7926#7912#7893#7872#...  \n",
        "1931  #10355#10351#10320#10316#10295#10292#10291#101...  \n",
        "1932  #10321#10306#10218#10213#9474#9372#9349#9283#9...  \n",
        "1933  #7411#6501#6483#5413B#5413A#5413#4676#4076#406...  \n",
        "1934                #8216#8200#8082#8060#8019#7983#7933  \n",
        "1935                                         #8909#8696  \n",
        "\n",
        "[1936 rows x 2 columns]"
       ]
      }
     ],
     "prompt_number": 4
    },
    {
     "cell_type": "code",
     "collapsed": false,
     "input": [
      "# will be changed into a list by splitting with # (the start of order number)\n",
      "df['Name'] = df.Name.apply(lambda x: x.split(\"#\"))\n",
      "# remove the first , in the list\n",
      "df['Name'] = df.Name.apply(lambda x: x[1:])\n",
      "df"
     ],
     "language": "python",
     "metadata": {},
     "outputs": [
      {
       "html": [
        "<div style=\"max-height:1000px;max-width:1500px;overflow:auto;\">\n",
        "<table border=\"1\" class=\"dataframe\">\n",
        "  <thead>\n",
        "    <tr style=\"text-align: right;\">\n",
        "      <th></th>\n",
        "      <th>Product</th>\n",
        "      <th>Name</th>\n",
        "    </tr>\n",
        "  </thead>\n",
        "  <tbody>\n",
        "    <tr>\n",
        "      <th>0   </th>\n",
        "      <td>                                     7 GRAIN MILK</td>\n",
        "      <td> [2498, 2486, 2467, 2461, 2418, 2367, 2253, 225...</td>\n",
        "    </tr>\n",
        "    <tr>\n",
        "      <th>1   </th>\n",
        "      <td>                             7 GRAIN MILK - 946ML</td>\n",
        "      <td>                    [2714, 2691, 2533, 2529, 2514]</td>\n",
        "    </tr>\n",
        "    <tr>\n",
        "      <th>2   </th>\n",
        "      <td>                                 ACAI BERRY JUICE</td>\n",
        "      <td>                              [10353, 10330, 3427]</td>\n",
        "    </tr>\n",
        "    <tr>\n",
        "      <th>3   </th>\n",
        "      <td>                                 ACNE FACIAL SOAP</td>\n",
        "      <td>                                      [3940, 3606]</td>\n",
        "    </tr>\n",
        "    <tr>\n",
        "      <th>4   </th>\n",
        "      <td>                          ACQUA PANA WATER 1000ML</td>\n",
        "      <td>                                            [3088]</td>\n",
        "    </tr>\n",
        "    <tr>\n",
        "      <th>5   </th>\n",
        "      <td>                           ACQUA PANA WATER 500ML</td>\n",
        "      <td>                                            [3088]</td>\n",
        "    </tr>\n",
        "    <tr>\n",
        "      <th>6   </th>\n",
        "      <td>                     ACQUA PANA WATER 500ML GLASS</td>\n",
        "      <td>                                            [3088]</td>\n",
        "    </tr>\n",
        "    <tr>\n",
        "      <th>7   </th>\n",
        "      <td>            ACTIBIF CHEESE (FOR BETTER DIGESTION)</td>\n",
        "      <td> [9714, 9701, 9697, 9550, 9265, 9257, 8971, 890...</td>\n",
        "    </tr>\n",
        "    <tr>\n",
        "      <th>8   </th>\n",
        "      <td>         AGAR AGAR FLAKES (HAND HARVESTED) - WILD</td>\n",
        "      <td> [10303, 10081, 9328, 8515, 8330, 8322, 8256, 7...</td>\n",
        "    </tr>\n",
        "    <tr>\n",
        "      <th>9   </th>\n",
        "      <td>         ALL PURPOSE BAKING FLOUR ( GLUTEN FREE )</td>\n",
        "      <td> [9881, 9757, 9609, 9547, 9472, 9439, 9366, 929...</td>\n",
        "    </tr>\n",
        "    <tr>\n",
        "      <th>10  </th>\n",
        "      <td>  ALL PURPOSE BAKING FLOUR ( GLUTEN FREE ) - 623G</td>\n",
        "      <td> [4974, 4947, 4945, 4916, 4713, 4699, 4675, 465...</td>\n",
        "    </tr>\n",
        "    <tr>\n",
        "      <th>11  </th>\n",
        "      <td>           ALL PURPOSE BAKING FLOUR (GLUTEN FREE)</td>\n",
        "      <td> [10313, 10298, 10158, 10154, 10127, 10045, 920...</td>\n",
        "    </tr>\n",
        "    <tr>\n",
        "      <th>12  </th>\n",
        "      <td> ALMOND BISCOTTI (GLUTEN FREE) - TRACES OF GLUTEN</td>\n",
        "      <td>            [6958, 6780, 6562A, 6562, 6494A, 6494]</td>\n",
        "    </tr>\n",
        "    <tr>\n",
        "      <th>13  </th>\n",
        "      <td> ALMOND BISCUTIS (GLUTEN FREE) - TRACES OF GLUTEN</td>\n",
        "      <td>                   [7216, 7125A, 7125, 6259, 6015]</td>\n",
        "    </tr>\n",
        "    <tr>\n",
        "      <th>14  </th>\n",
        "      <td>                       ALMOND BREAD (GLUTEN FREE)</td>\n",
        "      <td>              [9101, 9019, 8997, 8976, 8964, 8943]</td>\n",
        "    </tr>\n",
        "    <tr>\n",
        "      <th>15  </th>\n",
        "      <td>                                    ALMOND BUTTER</td>\n",
        "      <td> [10357, 10344, 10336, 10327, 10326, 10295, 102...</td>\n",
        "    </tr>\n",
        "    <tr>\n",
        "      <th>16  </th>\n",
        "      <td>                        ALMOND BUTTER (HOME-MADE)</td>\n",
        "      <td> [4586, 4556, 4547, 4517, 4498, 4492, 4465, 446...</td>\n",
        "    </tr>\n",
        "    <tr>\n",
        "      <th>17  </th>\n",
        "      <td>                          ALMOND BUTTER (NATURAL)</td>\n",
        "      <td> [10350, 10346, 10303, 10276, 10198, 10142, 101...</td>\n",
        "    </tr>\n",
        "    <tr>\n",
        "      <th>18  </th>\n",
        "      <td>      ALMOND BUTTER WITH CINAMON RAISIN (NATURAL)</td>\n",
        "      <td>                                      [8585, 8486]</td>\n",
        "    </tr>\n",
        "    <tr>\n",
        "      <th>19  </th>\n",
        "      <td>                                ALMOND MEAL FLOUR</td>\n",
        "      <td> [10009, 9993, 9986, 9983, 9971, 9951, 9914, 98...</td>\n",
        "    </tr>\n",
        "    <tr>\n",
        "      <th>20  </th>\n",
        "      <td>                                      ALMOND MILK</td>\n",
        "      <td> [2499, 2498, 2481, 2480, 2465, 2461, 2457, 245...</td>\n",
        "    </tr>\n",
        "    <tr>\n",
        "      <th>21  </th>\n",
        "      <td>                          ALMOND MILK ( ORGANIC )</td>\n",
        "      <td>                                      [3335, 3332]</td>\n",
        "    </tr>\n",
        "    <tr>\n",
        "      <th>22  </th>\n",
        "      <td>                    ALMOND MILK ( ORGANIC ) 946ML</td>\n",
        "      <td>                               [7134A, 7137, 7134]</td>\n",
        "    </tr>\n",
        "    <tr>\n",
        "      <th>23  </th>\n",
        "      <td>                         ALMOND MILK ( ORIGINAL )</td>\n",
        "      <td> [5669A, 5669, 5654, 5649A, 5649, 5618, 5558, 5...</td>\n",
        "    </tr>\n",
        "    <tr>\n",
        "      <th>24  </th>\n",
        "      <td>               ALMOND MILK (ORGANIC) - SUGAR-FREE</td>\n",
        "      <td> [10170, 10149, 10033, 10027, 10003, 9963, 9947...</td>\n",
        "    </tr>\n",
        "    <tr>\n",
        "      <th>25  </th>\n",
        "      <td>                        ALMOND MILK (UNSWEETENED)</td>\n",
        "      <td>                                [4802, 4801, 4795]</td>\n",
        "    </tr>\n",
        "    <tr>\n",
        "      <th>26  </th>\n",
        "      <td>                              ALMOND MILK - 946ML</td>\n",
        "      <td> [2828, 2599, 2596, 2594, 2585, 2583, 2579, 257...</td>\n",
        "    </tr>\n",
        "    <tr>\n",
        "      <th>27  </th>\n",
        "      <td>                       ALMOND ORIGINAL (ORIGINAL)</td>\n",
        "      <td>                          [4888, 4862, 4858, 4801]</td>\n",
        "    </tr>\n",
        "    <tr>\n",
        "      <th>28  </th>\n",
        "      <td>                     ALMOND'S AND OATS BODY SCRUB</td>\n",
        "      <td>                                            [4435]</td>\n",
        "    </tr>\n",
        "    <tr>\n",
        "      <th>29  </th>\n",
        "      <td>              ALMONDS SHELL ON - ROASTED &amp; SALTED</td>\n",
        "      <td> [2224, 2177, 1747, 1690, 1435, 1358, 1342, 134...</td>\n",
        "    </tr>\n",
        "    <tr>\n",
        "      <th>...</th>\n",
        "      <td>...</td>\n",
        "      <td>...</td>\n",
        "    </tr>\n",
        "    <tr>\n",
        "      <th>1906</th>\n",
        "      <td>                              WILD SHRIMP (LARGE)</td>\n",
        "      <td>                                            [9963]</td>\n",
        "    </tr>\n",
        "    <tr>\n",
        "      <th>1907</th>\n",
        "      <td>                             WILD SHRIMP (MEDIUM)</td>\n",
        "      <td> [10303, 10263, 10260, 10232, 10198, 10027, 997...</td>\n",
        "    </tr>\n",
        "    <tr>\n",
        "      <th>1908</th>\n",
        "      <td>                              WILD SHRIMP (SMALL)</td>\n",
        "      <td>         [10362, 10329, 10261, 10143, 10094, 9989]</td>\n",
        "    </tr>\n",
        "    <tr>\n",
        "      <th>1909</th>\n",
        "      <td>                       WILD THYME (CHEMICAL FREE)</td>\n",
        "      <td>        [9977, 9542, 9468, 9319, 9014, 8679, 8082]</td>\n",
        "    </tr>\n",
        "    <tr>\n",
        "      <th>1910</th>\n",
        "      <td>                        WILD YELLOW FINTUNA STEAK</td>\n",
        "      <td>                                           [10265]</td>\n",
        "    </tr>\n",
        "    <tr>\n",
        "      <th>1911</th>\n",
        "      <td>                             WORMWOOD HERB POWDER</td>\n",
        "      <td>                                            [2389]</td>\n",
        "    </tr>\n",
        "    <tr>\n",
        "      <th>1912</th>\n",
        "      <td>                        XANTHAN GUM (GLUTEN FREE)</td>\n",
        "      <td> [10027, 10022, 9943, 9921, 9810, 9697, 9572, 9...</td>\n",
        "    </tr>\n",
        "    <tr>\n",
        "      <th>1913</th>\n",
        "      <td>                                 YAKI NORI SHEETS</td>\n",
        "      <td>                                      [3142, 3087]</td>\n",
        "    </tr>\n",
        "    <tr>\n",
        "      <th>1914</th>\n",
        "      <td>                                    YELLOW APPLES</td>\n",
        "      <td> [10316, 10203, 9983, 9946, 9884, 9782, 9731, 9...</td>\n",
        "    </tr>\n",
        "    <tr>\n",
        "      <th>1915</th>\n",
        "      <td>                                  YELLOW BROCCOLI</td>\n",
        "      <td>                                      [1632, 1559]</td>\n",
        "    </tr>\n",
        "    <tr>\n",
        "      <th>1916</th>\n",
        "      <td>                YELLOW CAPSICUM ( CHEMICAL FREE )</td>\n",
        "      <td>                                            [3319]</td>\n",
        "    </tr>\n",
        "    <tr>\n",
        "      <th>1917</th>\n",
        "      <td>                  YELLOW CARROT ( CHEMICAL FREE )</td>\n",
        "      <td> [8657, 8487, 8447, 8440, 8416, 8402, 8376, 837...</td>\n",
        "    </tr>\n",
        "    <tr>\n",
        "      <th>1918</th>\n",
        "      <td>                                   YELLOW CARROTS</td>\n",
        "      <td> [10085, 10082, 10065, 9919, 9819, 8649, 8620, ...</td>\n",
        "    </tr>\n",
        "    <tr>\n",
        "      <th>1919</th>\n",
        "      <td>                           YELLOW CHERRY TOMATOES</td>\n",
        "      <td> [2493, 2489, 2484, 2461, 2438, 2410, 1657, 152...</td>\n",
        "    </tr>\n",
        "    <tr>\n",
        "      <th>1920</th>\n",
        "      <td>                                YELLOW GRAPEFRUIT</td>\n",
        "      <td> [10204, 9969, 9968, 9946, 9501, 9495, 9478, 94...</td>\n",
        "    </tr>\n",
        "    <tr>\n",
        "      <th>1921</th>\n",
        "      <td>                                   YELLOW MUSTARD</td>\n",
        "      <td>                 [10218, 10142, 10024, 9989, 9965]</td>\n",
        "    </tr>\n",
        "    <tr>\n",
        "      <th>1922</th>\n",
        "      <td>                  YELLOW ONIONS ( CHEMICAL FREE )</td>\n",
        "      <td>                    [4200, 4130, 4129, 4090, 4062]</td>\n",
        "    </tr>\n",
        "    <tr>\n",
        "      <th>1923</th>\n",
        "      <td>                                YELLOW SPLIT PEAS</td>\n",
        "      <td>              [2439, 2126, 1752, 1722, 1570, 1505]</td>\n",
        "    </tr>\n",
        "    <tr>\n",
        "      <th>1924</th>\n",
        "      <td>                         YELLOW SPLIT PEAS - 822G</td>\n",
        "      <td>                                            [2923]</td>\n",
        "    </tr>\n",
        "    <tr>\n",
        "      <th>1925</th>\n",
        "      <td>                                YELLOW WATERMELON</td>\n",
        "      <td>                                      [8840, 8624]</td>\n",
        "    </tr>\n",
        "    <tr>\n",
        "      <th>1926</th>\n",
        "      <td>                       YING/YANG FACIAL ACNE SOAP</td>\n",
        "      <td>                                            [4596]</td>\n",
        "    </tr>\n",
        "    <tr>\n",
        "      <th>1927</th>\n",
        "      <td>                              YOUSSFI (TANGERINE)</td>\n",
        "      <td>        [9813, 9808, 9731, 9694, 9693, 9675, 9653]</td>\n",
        "    </tr>\n",
        "    <tr>\n",
        "      <th>1928</th>\n",
        "      <td>                     ZARDA EXTRA VIRGIN OLIVE OIL</td>\n",
        "      <td>                                            [3137]</td>\n",
        "    </tr>\n",
        "    <tr>\n",
        "      <th>1929</th>\n",
        "      <td>                                         ZUCCHINI</td>\n",
        "      <td> [9861, 9804, 9803, 9796, 9793, 9787, 3228, 318...</td>\n",
        "    </tr>\n",
        "    <tr>\n",
        "      <th>1930</th>\n",
        "      <td>                       ZUCCHINI ( CHEMICAL FREE )</td>\n",
        "      <td> [7988, 7985, 7980, 7967, 7932, 7926, 7912, 789...</td>\n",
        "    </tr>\n",
        "    <tr>\n",
        "      <th>1931</th>\n",
        "      <td>                         ZUCCHINI (CHEMICAL FREE)</td>\n",
        "      <td> [10355, 10351, 10320, 10316, 10295, 10292, 102...</td>\n",
        "    </tr>\n",
        "    <tr>\n",
        "      <th>1932</th>\n",
        "      <td>                               ZUCCHINI (ORGANIC)</td>\n",
        "      <td> [10321, 10306, 10218, 10213, 9474, 9372, 9349,...</td>\n",
        "    </tr>\n",
        "    <tr>\n",
        "      <th>1933</th>\n",
        "      <td>                                 ZUCCHINI FLOWERS</td>\n",
        "      <td> [7411, 6501, 6483, 5413B, 5413A, 5413, 4676, 4...</td>\n",
        "    </tr>\n",
        "    <tr>\n",
        "      <th>1934</th>\n",
        "      <td>                 ZUCCHINI FLOWERS (CHEMICAL FREE)</td>\n",
        "      <td>        [8216, 8200, 8082, 8060, 8019, 7983, 7933]</td>\n",
        "    </tr>\n",
        "    <tr>\n",
        "      <th>1935</th>\n",
        "      <td>   ZUCCHINI JAM WITH PISTACHIO &amp; MASTIC (NATURAL)</td>\n",
        "      <td>                                      [8909, 8696]</td>\n",
        "    </tr>\n",
        "  </tbody>\n",
        "</table>\n",
        "<p>1936 rows \u00d7 2 columns</p>\n",
        "</div>"
       ],
       "metadata": {},
       "output_type": "pyout",
       "prompt_number": 5,
       "text": [
        "                                               Product  \\\n",
        "0                                         7 GRAIN MILK   \n",
        "1                                 7 GRAIN MILK - 946ML   \n",
        "2                                     ACAI BERRY JUICE   \n",
        "3                                     ACNE FACIAL SOAP   \n",
        "4                              ACQUA PANA WATER 1000ML   \n",
        "5                               ACQUA PANA WATER 500ML   \n",
        "6                         ACQUA PANA WATER 500ML GLASS   \n",
        "7                ACTIBIF CHEESE (FOR BETTER DIGESTION)   \n",
        "8             AGAR AGAR FLAKES (HAND HARVESTED) - WILD   \n",
        "9             ALL PURPOSE BAKING FLOUR ( GLUTEN FREE )   \n",
        "10     ALL PURPOSE BAKING FLOUR ( GLUTEN FREE ) - 623G   \n",
        "11              ALL PURPOSE BAKING FLOUR (GLUTEN FREE)   \n",
        "12    ALMOND BISCOTTI (GLUTEN FREE) - TRACES OF GLUTEN   \n",
        "13    ALMOND BISCUTIS (GLUTEN FREE) - TRACES OF GLUTEN   \n",
        "14                          ALMOND BREAD (GLUTEN FREE)   \n",
        "15                                       ALMOND BUTTER   \n",
        "16                           ALMOND BUTTER (HOME-MADE)   \n",
        "17                             ALMOND BUTTER (NATURAL)   \n",
        "18         ALMOND BUTTER WITH CINAMON RAISIN (NATURAL)   \n",
        "19                                   ALMOND MEAL FLOUR   \n",
        "20                                         ALMOND MILK   \n",
        "21                             ALMOND MILK ( ORGANIC )   \n",
        "22                       ALMOND MILK ( ORGANIC ) 946ML   \n",
        "23                            ALMOND MILK ( ORIGINAL )   \n",
        "24                  ALMOND MILK (ORGANIC) - SUGAR-FREE   \n",
        "25                           ALMOND MILK (UNSWEETENED)   \n",
        "26                                 ALMOND MILK - 946ML   \n",
        "27                          ALMOND ORIGINAL (ORIGINAL)   \n",
        "28                        ALMOND'S AND OATS BODY SCRUB   \n",
        "29                 ALMONDS SHELL ON - ROASTED & SALTED   \n",
        "...                                                ...   \n",
        "1906                               WILD SHRIMP (LARGE)   \n",
        "1907                              WILD SHRIMP (MEDIUM)   \n",
        "1908                               WILD SHRIMP (SMALL)   \n",
        "1909                        WILD THYME (CHEMICAL FREE)   \n",
        "1910                         WILD YELLOW FINTUNA STEAK   \n",
        "1911                              WORMWOOD HERB POWDER   \n",
        "1912                         XANTHAN GUM (GLUTEN FREE)   \n",
        "1913                                  YAKI NORI SHEETS   \n",
        "1914                                     YELLOW APPLES   \n",
        "1915                                   YELLOW BROCCOLI   \n",
        "1916                 YELLOW CAPSICUM ( CHEMICAL FREE )   \n",
        "1917                   YELLOW CARROT ( CHEMICAL FREE )   \n",
        "1918                                    YELLOW CARROTS   \n",
        "1919                            YELLOW CHERRY TOMATOES   \n",
        "1920                                 YELLOW GRAPEFRUIT   \n",
        "1921                                    YELLOW MUSTARD   \n",
        "1922                   YELLOW ONIONS ( CHEMICAL FREE )   \n",
        "1923                                 YELLOW SPLIT PEAS   \n",
        "1924                          YELLOW SPLIT PEAS - 822G   \n",
        "1925                                 YELLOW WATERMELON   \n",
        "1926                        YING/YANG FACIAL ACNE SOAP   \n",
        "1927                               YOUSSFI (TANGERINE)   \n",
        "1928                      ZARDA EXTRA VIRGIN OLIVE OIL   \n",
        "1929                                          ZUCCHINI   \n",
        "1930                        ZUCCHINI ( CHEMICAL FREE )   \n",
        "1931                          ZUCCHINI (CHEMICAL FREE)   \n",
        "1932                                ZUCCHINI (ORGANIC)   \n",
        "1933                                  ZUCCHINI FLOWERS   \n",
        "1934                  ZUCCHINI FLOWERS (CHEMICAL FREE)   \n",
        "1935    ZUCCHINI JAM WITH PISTACHIO & MASTIC (NATURAL)   \n",
        "\n",
        "                                                   Name  \n",
        "0     [2498, 2486, 2467, 2461, 2418, 2367, 2253, 225...  \n",
        "1                        [2714, 2691, 2533, 2529, 2514]  \n",
        "2                                  [10353, 10330, 3427]  \n",
        "3                                          [3940, 3606]  \n",
        "4                                                [3088]  \n",
        "5                                                [3088]  \n",
        "6                                                [3088]  \n",
        "7     [9714, 9701, 9697, 9550, 9265, 9257, 8971, 890...  \n",
        "8     [10303, 10081, 9328, 8515, 8330, 8322, 8256, 7...  \n",
        "9     [9881, 9757, 9609, 9547, 9472, 9439, 9366, 929...  \n",
        "10    [4974, 4947, 4945, 4916, 4713, 4699, 4675, 465...  \n",
        "11    [10313, 10298, 10158, 10154, 10127, 10045, 920...  \n",
        "12               [6958, 6780, 6562A, 6562, 6494A, 6494]  \n",
        "13                      [7216, 7125A, 7125, 6259, 6015]  \n",
        "14                 [9101, 9019, 8997, 8976, 8964, 8943]  \n",
        "15    [10357, 10344, 10336, 10327, 10326, 10295, 102...  \n",
        "16    [4586, 4556, 4547, 4517, 4498, 4492, 4465, 446...  \n",
        "17    [10350, 10346, 10303, 10276, 10198, 10142, 101...  \n",
        "18                                         [8585, 8486]  \n",
        "19    [10009, 9993, 9986, 9983, 9971, 9951, 9914, 98...  \n",
        "20    [2499, 2498, 2481, 2480, 2465, 2461, 2457, 245...  \n",
        "21                                         [3335, 3332]  \n",
        "22                                  [7134A, 7137, 7134]  \n",
        "23    [5669A, 5669, 5654, 5649A, 5649, 5618, 5558, 5...  \n",
        "24    [10170, 10149, 10033, 10027, 10003, 9963, 9947...  \n",
        "25                                   [4802, 4801, 4795]  \n",
        "26    [2828, 2599, 2596, 2594, 2585, 2583, 2579, 257...  \n",
        "27                             [4888, 4862, 4858, 4801]  \n",
        "28                                               [4435]  \n",
        "29    [2224, 2177, 1747, 1690, 1435, 1358, 1342, 134...  \n",
        "...                                                 ...  \n",
        "1906                                             [9963]  \n",
        "1907  [10303, 10263, 10260, 10232, 10198, 10027, 997...  \n",
        "1908          [10362, 10329, 10261, 10143, 10094, 9989]  \n",
        "1909         [9977, 9542, 9468, 9319, 9014, 8679, 8082]  \n",
        "1910                                            [10265]  \n",
        "1911                                             [2389]  \n",
        "1912  [10027, 10022, 9943, 9921, 9810, 9697, 9572, 9...  \n",
        "1913                                       [3142, 3087]  \n",
        "1914  [10316, 10203, 9983, 9946, 9884, 9782, 9731, 9...  \n",
        "1915                                       [1632, 1559]  \n",
        "1916                                             [3319]  \n",
        "1917  [8657, 8487, 8447, 8440, 8416, 8402, 8376, 837...  \n",
        "1918  [10085, 10082, 10065, 9919, 9819, 8649, 8620, ...  \n",
        "1919  [2493, 2489, 2484, 2461, 2438, 2410, 1657, 152...  \n",
        "1920  [10204, 9969, 9968, 9946, 9501, 9495, 9478, 94...  \n",
        "1921                  [10218, 10142, 10024, 9989, 9965]  \n",
        "1922                     [4200, 4130, 4129, 4090, 4062]  \n",
        "1923               [2439, 2126, 1752, 1722, 1570, 1505]  \n",
        "1924                                             [2923]  \n",
        "1925                                       [8840, 8624]  \n",
        "1926                                             [4596]  \n",
        "1927         [9813, 9808, 9731, 9694, 9693, 9675, 9653]  \n",
        "1928                                             [3137]  \n",
        "1929  [9861, 9804, 9803, 9796, 9793, 9787, 3228, 318...  \n",
        "1930  [7988, 7985, 7980, 7967, 7932, 7926, 7912, 789...  \n",
        "1931  [10355, 10351, 10320, 10316, 10295, 10292, 102...  \n",
        "1932  [10321, 10306, 10218, 10213, 9474, 9372, 9349,...  \n",
        "1933  [7411, 6501, 6483, 5413B, 5413A, 5413, 4676, 4...  \n",
        "1934         [8216, 8200, 8082, 8060, 8019, 7983, 7933]  \n",
        "1935                                       [8909, 8696]  \n",
        "\n",
        "[1936 rows x 2 columns]"
       ]
      }
     ],
     "prompt_number": 5
    },
    {
     "cell_type": "code",
     "collapsed": false,
     "input": [
      "# create new dataframe\n",
      "df1 = pd.DataFrame(columns=['Product1', 'Product2', 'Name', 'Count'])\n",
      "df1"
     ],
     "language": "python",
     "metadata": {},
     "outputs": [
      {
       "html": [
        "<div style=\"max-height:1000px;max-width:1500px;overflow:auto;\">\n",
        "<table border=\"1\" class=\"dataframe\">\n",
        "  <thead>\n",
        "    <tr style=\"text-align: right;\">\n",
        "      <th></th>\n",
        "      <th>Product1</th>\n",
        "      <th>Product2</th>\n",
        "      <th>Name</th>\n",
        "      <th>Count</th>\n",
        "    </tr>\n",
        "  </thead>\n",
        "  <tbody>\n",
        "  </tbody>\n",
        "</table>\n",
        "</div>"
       ],
       "metadata": {},
       "output_type": "pyout",
       "prompt_number": 6,
       "text": [
        "Empty DataFrame\n",
        "Columns: [Product1, Product2, Name, Count]\n",
        "Index: []"
       ]
      }
     ],
     "prompt_number": 6
    },
    {
     "cell_type": "code",
     "collapsed": false,
     "input": [
      "b = []\n",
      "a = df['Product'].tolist()  # create a list of products\n",
      "for i in range(0, max(df.index) + 1):  # count of months\n",
      "    b = b + a  # add list 'a' to list 'b', 'i' number of times\n",
      "df1['Product1'] = pd.Series(b)  # create a series for list 'b' and add to products column\n",
      "df1"
     ],
     "language": "python",
     "metadata": {},
     "outputs": [
      {
       "html": [
        "<div style=\"max-height:1000px;max-width:1500px;overflow:auto;\">\n",
        "<table border=\"1\" class=\"dataframe\">\n",
        "  <thead>\n",
        "    <tr style=\"text-align: right;\">\n",
        "      <th></th>\n",
        "      <th>Product1</th>\n",
        "      <th>Product2</th>\n",
        "      <th>Name</th>\n",
        "      <th>Count</th>\n",
        "    </tr>\n",
        "  </thead>\n",
        "  <tbody>\n",
        "    <tr>\n",
        "      <th>0      </th>\n",
        "      <td>                                     7 GRAIN MILK</td>\n",
        "      <td> NaN</td>\n",
        "      <td> NaN</td>\n",
        "      <td> NaN</td>\n",
        "    </tr>\n",
        "    <tr>\n",
        "      <th>1      </th>\n",
        "      <td>                             7 GRAIN MILK - 946ML</td>\n",
        "      <td> NaN</td>\n",
        "      <td> NaN</td>\n",
        "      <td> NaN</td>\n",
        "    </tr>\n",
        "    <tr>\n",
        "      <th>2      </th>\n",
        "      <td>                                 ACAI BERRY JUICE</td>\n",
        "      <td> NaN</td>\n",
        "      <td> NaN</td>\n",
        "      <td> NaN</td>\n",
        "    </tr>\n",
        "    <tr>\n",
        "      <th>3      </th>\n",
        "      <td>                                 ACNE FACIAL SOAP</td>\n",
        "      <td> NaN</td>\n",
        "      <td> NaN</td>\n",
        "      <td> NaN</td>\n",
        "    </tr>\n",
        "    <tr>\n",
        "      <th>4      </th>\n",
        "      <td>                          ACQUA PANA WATER 1000ML</td>\n",
        "      <td> NaN</td>\n",
        "      <td> NaN</td>\n",
        "      <td> NaN</td>\n",
        "    </tr>\n",
        "    <tr>\n",
        "      <th>5      </th>\n",
        "      <td>                           ACQUA PANA WATER 500ML</td>\n",
        "      <td> NaN</td>\n",
        "      <td> NaN</td>\n",
        "      <td> NaN</td>\n",
        "    </tr>\n",
        "    <tr>\n",
        "      <th>6      </th>\n",
        "      <td>                     ACQUA PANA WATER 500ML GLASS</td>\n",
        "      <td> NaN</td>\n",
        "      <td> NaN</td>\n",
        "      <td> NaN</td>\n",
        "    </tr>\n",
        "    <tr>\n",
        "      <th>7      </th>\n",
        "      <td>            ACTIBIF CHEESE (FOR BETTER DIGESTION)</td>\n",
        "      <td> NaN</td>\n",
        "      <td> NaN</td>\n",
        "      <td> NaN</td>\n",
        "    </tr>\n",
        "    <tr>\n",
        "      <th>8      </th>\n",
        "      <td>         AGAR AGAR FLAKES (HAND HARVESTED) - WILD</td>\n",
        "      <td> NaN</td>\n",
        "      <td> NaN</td>\n",
        "      <td> NaN</td>\n",
        "    </tr>\n",
        "    <tr>\n",
        "      <th>9      </th>\n",
        "      <td>         ALL PURPOSE BAKING FLOUR ( GLUTEN FREE )</td>\n",
        "      <td> NaN</td>\n",
        "      <td> NaN</td>\n",
        "      <td> NaN</td>\n",
        "    </tr>\n",
        "    <tr>\n",
        "      <th>10     </th>\n",
        "      <td>  ALL PURPOSE BAKING FLOUR ( GLUTEN FREE ) - 623G</td>\n",
        "      <td> NaN</td>\n",
        "      <td> NaN</td>\n",
        "      <td> NaN</td>\n",
        "    </tr>\n",
        "    <tr>\n",
        "      <th>11     </th>\n",
        "      <td>           ALL PURPOSE BAKING FLOUR (GLUTEN FREE)</td>\n",
        "      <td> NaN</td>\n",
        "      <td> NaN</td>\n",
        "      <td> NaN</td>\n",
        "    </tr>\n",
        "    <tr>\n",
        "      <th>12     </th>\n",
        "      <td> ALMOND BISCOTTI (GLUTEN FREE) - TRACES OF GLUTEN</td>\n",
        "      <td> NaN</td>\n",
        "      <td> NaN</td>\n",
        "      <td> NaN</td>\n",
        "    </tr>\n",
        "    <tr>\n",
        "      <th>13     </th>\n",
        "      <td> ALMOND BISCUTIS (GLUTEN FREE) - TRACES OF GLUTEN</td>\n",
        "      <td> NaN</td>\n",
        "      <td> NaN</td>\n",
        "      <td> NaN</td>\n",
        "    </tr>\n",
        "    <tr>\n",
        "      <th>14     </th>\n",
        "      <td>                       ALMOND BREAD (GLUTEN FREE)</td>\n",
        "      <td> NaN</td>\n",
        "      <td> NaN</td>\n",
        "      <td> NaN</td>\n",
        "    </tr>\n",
        "    <tr>\n",
        "      <th>15     </th>\n",
        "      <td>                                    ALMOND BUTTER</td>\n",
        "      <td> NaN</td>\n",
        "      <td> NaN</td>\n",
        "      <td> NaN</td>\n",
        "    </tr>\n",
        "    <tr>\n",
        "      <th>16     </th>\n",
        "      <td>                        ALMOND BUTTER (HOME-MADE)</td>\n",
        "      <td> NaN</td>\n",
        "      <td> NaN</td>\n",
        "      <td> NaN</td>\n",
        "    </tr>\n",
        "    <tr>\n",
        "      <th>17     </th>\n",
        "      <td>                          ALMOND BUTTER (NATURAL)</td>\n",
        "      <td> NaN</td>\n",
        "      <td> NaN</td>\n",
        "      <td> NaN</td>\n",
        "    </tr>\n",
        "    <tr>\n",
        "      <th>18     </th>\n",
        "      <td>      ALMOND BUTTER WITH CINAMON RAISIN (NATURAL)</td>\n",
        "      <td> NaN</td>\n",
        "      <td> NaN</td>\n",
        "      <td> NaN</td>\n",
        "    </tr>\n",
        "    <tr>\n",
        "      <th>19     </th>\n",
        "      <td>                                ALMOND MEAL FLOUR</td>\n",
        "      <td> NaN</td>\n",
        "      <td> NaN</td>\n",
        "      <td> NaN</td>\n",
        "    </tr>\n",
        "    <tr>\n",
        "      <th>20     </th>\n",
        "      <td>                                      ALMOND MILK</td>\n",
        "      <td> NaN</td>\n",
        "      <td> NaN</td>\n",
        "      <td> NaN</td>\n",
        "    </tr>\n",
        "    <tr>\n",
        "      <th>21     </th>\n",
        "      <td>                          ALMOND MILK ( ORGANIC )</td>\n",
        "      <td> NaN</td>\n",
        "      <td> NaN</td>\n",
        "      <td> NaN</td>\n",
        "    </tr>\n",
        "    <tr>\n",
        "      <th>22     </th>\n",
        "      <td>                    ALMOND MILK ( ORGANIC ) 946ML</td>\n",
        "      <td> NaN</td>\n",
        "      <td> NaN</td>\n",
        "      <td> NaN</td>\n",
        "    </tr>\n",
        "    <tr>\n",
        "      <th>23     </th>\n",
        "      <td>                         ALMOND MILK ( ORIGINAL )</td>\n",
        "      <td> NaN</td>\n",
        "      <td> NaN</td>\n",
        "      <td> NaN</td>\n",
        "    </tr>\n",
        "    <tr>\n",
        "      <th>24     </th>\n",
        "      <td>               ALMOND MILK (ORGANIC) - SUGAR-FREE</td>\n",
        "      <td> NaN</td>\n",
        "      <td> NaN</td>\n",
        "      <td> NaN</td>\n",
        "    </tr>\n",
        "    <tr>\n",
        "      <th>25     </th>\n",
        "      <td>                        ALMOND MILK (UNSWEETENED)</td>\n",
        "      <td> NaN</td>\n",
        "      <td> NaN</td>\n",
        "      <td> NaN</td>\n",
        "    </tr>\n",
        "    <tr>\n",
        "      <th>26     </th>\n",
        "      <td>                              ALMOND MILK - 946ML</td>\n",
        "      <td> NaN</td>\n",
        "      <td> NaN</td>\n",
        "      <td> NaN</td>\n",
        "    </tr>\n",
        "    <tr>\n",
        "      <th>27     </th>\n",
        "      <td>                       ALMOND ORIGINAL (ORIGINAL)</td>\n",
        "      <td> NaN</td>\n",
        "      <td> NaN</td>\n",
        "      <td> NaN</td>\n",
        "    </tr>\n",
        "    <tr>\n",
        "      <th>28     </th>\n",
        "      <td>                     ALMOND'S AND OATS BODY SCRUB</td>\n",
        "      <td> NaN</td>\n",
        "      <td> NaN</td>\n",
        "      <td> NaN</td>\n",
        "    </tr>\n",
        "    <tr>\n",
        "      <th>29     </th>\n",
        "      <td>              ALMONDS SHELL ON - ROASTED &amp; SALTED</td>\n",
        "      <td> NaN</td>\n",
        "      <td> NaN</td>\n",
        "      <td> NaN</td>\n",
        "    </tr>\n",
        "    <tr>\n",
        "      <th>...</th>\n",
        "      <td>...</td>\n",
        "      <td>...</td>\n",
        "      <td>...</td>\n",
        "      <td>...</td>\n",
        "    </tr>\n",
        "    <tr>\n",
        "      <th>3748066</th>\n",
        "      <td>                              WILD SHRIMP (LARGE)</td>\n",
        "      <td> NaN</td>\n",
        "      <td> NaN</td>\n",
        "      <td> NaN</td>\n",
        "    </tr>\n",
        "    <tr>\n",
        "      <th>3748067</th>\n",
        "      <td>                             WILD SHRIMP (MEDIUM)</td>\n",
        "      <td> NaN</td>\n",
        "      <td> NaN</td>\n",
        "      <td> NaN</td>\n",
        "    </tr>\n",
        "    <tr>\n",
        "      <th>3748068</th>\n",
        "      <td>                              WILD SHRIMP (SMALL)</td>\n",
        "      <td> NaN</td>\n",
        "      <td> NaN</td>\n",
        "      <td> NaN</td>\n",
        "    </tr>\n",
        "    <tr>\n",
        "      <th>3748069</th>\n",
        "      <td>                       WILD THYME (CHEMICAL FREE)</td>\n",
        "      <td> NaN</td>\n",
        "      <td> NaN</td>\n",
        "      <td> NaN</td>\n",
        "    </tr>\n",
        "    <tr>\n",
        "      <th>3748070</th>\n",
        "      <td>                        WILD YELLOW FINTUNA STEAK</td>\n",
        "      <td> NaN</td>\n",
        "      <td> NaN</td>\n",
        "      <td> NaN</td>\n",
        "    </tr>\n",
        "    <tr>\n",
        "      <th>3748071</th>\n",
        "      <td>                             WORMWOOD HERB POWDER</td>\n",
        "      <td> NaN</td>\n",
        "      <td> NaN</td>\n",
        "      <td> NaN</td>\n",
        "    </tr>\n",
        "    <tr>\n",
        "      <th>3748072</th>\n",
        "      <td>                        XANTHAN GUM (GLUTEN FREE)</td>\n",
        "      <td> NaN</td>\n",
        "      <td> NaN</td>\n",
        "      <td> NaN</td>\n",
        "    </tr>\n",
        "    <tr>\n",
        "      <th>3748073</th>\n",
        "      <td>                                 YAKI NORI SHEETS</td>\n",
        "      <td> NaN</td>\n",
        "      <td> NaN</td>\n",
        "      <td> NaN</td>\n",
        "    </tr>\n",
        "    <tr>\n",
        "      <th>3748074</th>\n",
        "      <td>                                    YELLOW APPLES</td>\n",
        "      <td> NaN</td>\n",
        "      <td> NaN</td>\n",
        "      <td> NaN</td>\n",
        "    </tr>\n",
        "    <tr>\n",
        "      <th>3748075</th>\n",
        "      <td>                                  YELLOW BROCCOLI</td>\n",
        "      <td> NaN</td>\n",
        "      <td> NaN</td>\n",
        "      <td> NaN</td>\n",
        "    </tr>\n",
        "    <tr>\n",
        "      <th>3748076</th>\n",
        "      <td>                YELLOW CAPSICUM ( CHEMICAL FREE )</td>\n",
        "      <td> NaN</td>\n",
        "      <td> NaN</td>\n",
        "      <td> NaN</td>\n",
        "    </tr>\n",
        "    <tr>\n",
        "      <th>3748077</th>\n",
        "      <td>                  YELLOW CARROT ( CHEMICAL FREE )</td>\n",
        "      <td> NaN</td>\n",
        "      <td> NaN</td>\n",
        "      <td> NaN</td>\n",
        "    </tr>\n",
        "    <tr>\n",
        "      <th>3748078</th>\n",
        "      <td>                                   YELLOW CARROTS</td>\n",
        "      <td> NaN</td>\n",
        "      <td> NaN</td>\n",
        "      <td> NaN</td>\n",
        "    </tr>\n",
        "    <tr>\n",
        "      <th>3748079</th>\n",
        "      <td>                           YELLOW CHERRY TOMATOES</td>\n",
        "      <td> NaN</td>\n",
        "      <td> NaN</td>\n",
        "      <td> NaN</td>\n",
        "    </tr>\n",
        "    <tr>\n",
        "      <th>3748080</th>\n",
        "      <td>                                YELLOW GRAPEFRUIT</td>\n",
        "      <td> NaN</td>\n",
        "      <td> NaN</td>\n",
        "      <td> NaN</td>\n",
        "    </tr>\n",
        "    <tr>\n",
        "      <th>3748081</th>\n",
        "      <td>                                   YELLOW MUSTARD</td>\n",
        "      <td> NaN</td>\n",
        "      <td> NaN</td>\n",
        "      <td> NaN</td>\n",
        "    </tr>\n",
        "    <tr>\n",
        "      <th>3748082</th>\n",
        "      <td>                  YELLOW ONIONS ( CHEMICAL FREE )</td>\n",
        "      <td> NaN</td>\n",
        "      <td> NaN</td>\n",
        "      <td> NaN</td>\n",
        "    </tr>\n",
        "    <tr>\n",
        "      <th>3748083</th>\n",
        "      <td>                                YELLOW SPLIT PEAS</td>\n",
        "      <td> NaN</td>\n",
        "      <td> NaN</td>\n",
        "      <td> NaN</td>\n",
        "    </tr>\n",
        "    <tr>\n",
        "      <th>3748084</th>\n",
        "      <td>                         YELLOW SPLIT PEAS - 822G</td>\n",
        "      <td> NaN</td>\n",
        "      <td> NaN</td>\n",
        "      <td> NaN</td>\n",
        "    </tr>\n",
        "    <tr>\n",
        "      <th>3748085</th>\n",
        "      <td>                                YELLOW WATERMELON</td>\n",
        "      <td> NaN</td>\n",
        "      <td> NaN</td>\n",
        "      <td> NaN</td>\n",
        "    </tr>\n",
        "    <tr>\n",
        "      <th>3748086</th>\n",
        "      <td>                       YING/YANG FACIAL ACNE SOAP</td>\n",
        "      <td> NaN</td>\n",
        "      <td> NaN</td>\n",
        "      <td> NaN</td>\n",
        "    </tr>\n",
        "    <tr>\n",
        "      <th>3748087</th>\n",
        "      <td>                              YOUSSFI (TANGERINE)</td>\n",
        "      <td> NaN</td>\n",
        "      <td> NaN</td>\n",
        "      <td> NaN</td>\n",
        "    </tr>\n",
        "    <tr>\n",
        "      <th>3748088</th>\n",
        "      <td>                     ZARDA EXTRA VIRGIN OLIVE OIL</td>\n",
        "      <td> NaN</td>\n",
        "      <td> NaN</td>\n",
        "      <td> NaN</td>\n",
        "    </tr>\n",
        "    <tr>\n",
        "      <th>3748089</th>\n",
        "      <td>                                         ZUCCHINI</td>\n",
        "      <td> NaN</td>\n",
        "      <td> NaN</td>\n",
        "      <td> NaN</td>\n",
        "    </tr>\n",
        "    <tr>\n",
        "      <th>3748090</th>\n",
        "      <td>                       ZUCCHINI ( CHEMICAL FREE )</td>\n",
        "      <td> NaN</td>\n",
        "      <td> NaN</td>\n",
        "      <td> NaN</td>\n",
        "    </tr>\n",
        "    <tr>\n",
        "      <th>3748091</th>\n",
        "      <td>                         ZUCCHINI (CHEMICAL FREE)</td>\n",
        "      <td> NaN</td>\n",
        "      <td> NaN</td>\n",
        "      <td> NaN</td>\n",
        "    </tr>\n",
        "    <tr>\n",
        "      <th>3748092</th>\n",
        "      <td>                               ZUCCHINI (ORGANIC)</td>\n",
        "      <td> NaN</td>\n",
        "      <td> NaN</td>\n",
        "      <td> NaN</td>\n",
        "    </tr>\n",
        "    <tr>\n",
        "      <th>3748093</th>\n",
        "      <td>                                 ZUCCHINI FLOWERS</td>\n",
        "      <td> NaN</td>\n",
        "      <td> NaN</td>\n",
        "      <td> NaN</td>\n",
        "    </tr>\n",
        "    <tr>\n",
        "      <th>3748094</th>\n",
        "      <td>                 ZUCCHINI FLOWERS (CHEMICAL FREE)</td>\n",
        "      <td> NaN</td>\n",
        "      <td> NaN</td>\n",
        "      <td> NaN</td>\n",
        "    </tr>\n",
        "    <tr>\n",
        "      <th>3748095</th>\n",
        "      <td>   ZUCCHINI JAM WITH PISTACHIO &amp; MASTIC (NATURAL)</td>\n",
        "      <td> NaN</td>\n",
        "      <td> NaN</td>\n",
        "      <td> NaN</td>\n",
        "    </tr>\n",
        "  </tbody>\n",
        "</table>\n",
        "<p>3748096 rows \u00d7 4 columns</p>\n",
        "</div>"
       ],
       "metadata": {},
       "output_type": "pyout",
       "prompt_number": 7,
       "text": [
        "                                                 Product1 Product2 Name Count\n",
        "0                                            7 GRAIN MILK      NaN  NaN   NaN\n",
        "1                                    7 GRAIN MILK - 946ML      NaN  NaN   NaN\n",
        "2                                        ACAI BERRY JUICE      NaN  NaN   NaN\n",
        "3                                        ACNE FACIAL SOAP      NaN  NaN   NaN\n",
        "4                                 ACQUA PANA WATER 1000ML      NaN  NaN   NaN\n",
        "5                                  ACQUA PANA WATER 500ML      NaN  NaN   NaN\n",
        "6                            ACQUA PANA WATER 500ML GLASS      NaN  NaN   NaN\n",
        "7                   ACTIBIF CHEESE (FOR BETTER DIGESTION)      NaN  NaN   NaN\n",
        "8                AGAR AGAR FLAKES (HAND HARVESTED) - WILD      NaN  NaN   NaN\n",
        "9                ALL PURPOSE BAKING FLOUR ( GLUTEN FREE )      NaN  NaN   NaN\n",
        "10        ALL PURPOSE BAKING FLOUR ( GLUTEN FREE ) - 623G      NaN  NaN   NaN\n",
        "11                 ALL PURPOSE BAKING FLOUR (GLUTEN FREE)      NaN  NaN   NaN\n",
        "12       ALMOND BISCOTTI (GLUTEN FREE) - TRACES OF GLUTEN      NaN  NaN   NaN\n",
        "13       ALMOND BISCUTIS (GLUTEN FREE) - TRACES OF GLUTEN      NaN  NaN   NaN\n",
        "14                             ALMOND BREAD (GLUTEN FREE)      NaN  NaN   NaN\n",
        "15                                          ALMOND BUTTER      NaN  NaN   NaN\n",
        "16                              ALMOND BUTTER (HOME-MADE)      NaN  NaN   NaN\n",
        "17                                ALMOND BUTTER (NATURAL)      NaN  NaN   NaN\n",
        "18            ALMOND BUTTER WITH CINAMON RAISIN (NATURAL)      NaN  NaN   NaN\n",
        "19                                      ALMOND MEAL FLOUR      NaN  NaN   NaN\n",
        "20                                            ALMOND MILK      NaN  NaN   NaN\n",
        "21                                ALMOND MILK ( ORGANIC )      NaN  NaN   NaN\n",
        "22                          ALMOND MILK ( ORGANIC ) 946ML      NaN  NaN   NaN\n",
        "23                               ALMOND MILK ( ORIGINAL )      NaN  NaN   NaN\n",
        "24                     ALMOND MILK (ORGANIC) - SUGAR-FREE      NaN  NaN   NaN\n",
        "25                              ALMOND MILK (UNSWEETENED)      NaN  NaN   NaN\n",
        "26                                    ALMOND MILK - 946ML      NaN  NaN   NaN\n",
        "27                             ALMOND ORIGINAL (ORIGINAL)      NaN  NaN   NaN\n",
        "28                           ALMOND'S AND OATS BODY SCRUB      NaN  NaN   NaN\n",
        "29                    ALMONDS SHELL ON - ROASTED & SALTED      NaN  NaN   NaN\n",
        "...                                                   ...      ...  ...   ...\n",
        "3748066                               WILD SHRIMP (LARGE)      NaN  NaN   NaN\n",
        "3748067                              WILD SHRIMP (MEDIUM)      NaN  NaN   NaN\n",
        "3748068                               WILD SHRIMP (SMALL)      NaN  NaN   NaN\n",
        "3748069                        WILD THYME (CHEMICAL FREE)      NaN  NaN   NaN\n",
        "3748070                         WILD YELLOW FINTUNA STEAK      NaN  NaN   NaN\n",
        "3748071                              WORMWOOD HERB POWDER      NaN  NaN   NaN\n",
        "3748072                         XANTHAN GUM (GLUTEN FREE)      NaN  NaN   NaN\n",
        "3748073                                  YAKI NORI SHEETS      NaN  NaN   NaN\n",
        "3748074                                     YELLOW APPLES      NaN  NaN   NaN\n",
        "3748075                                   YELLOW BROCCOLI      NaN  NaN   NaN\n",
        "3748076                 YELLOW CAPSICUM ( CHEMICAL FREE )      NaN  NaN   NaN\n",
        "3748077                   YELLOW CARROT ( CHEMICAL FREE )      NaN  NaN   NaN\n",
        "3748078                                    YELLOW CARROTS      NaN  NaN   NaN\n",
        "3748079                            YELLOW CHERRY TOMATOES      NaN  NaN   NaN\n",
        "3748080                                 YELLOW GRAPEFRUIT      NaN  NaN   NaN\n",
        "3748081                                    YELLOW MUSTARD      NaN  NaN   NaN\n",
        "3748082                   YELLOW ONIONS ( CHEMICAL FREE )      NaN  NaN   NaN\n",
        "3748083                                 YELLOW SPLIT PEAS      NaN  NaN   NaN\n",
        "3748084                          YELLOW SPLIT PEAS - 822G      NaN  NaN   NaN\n",
        "3748085                                 YELLOW WATERMELON      NaN  NaN   NaN\n",
        "3748086                        YING/YANG FACIAL ACNE SOAP      NaN  NaN   NaN\n",
        "3748087                               YOUSSFI (TANGERINE)      NaN  NaN   NaN\n",
        "3748088                      ZARDA EXTRA VIRGIN OLIVE OIL      NaN  NaN   NaN\n",
        "3748089                                          ZUCCHINI      NaN  NaN   NaN\n",
        "3748090                        ZUCCHINI ( CHEMICAL FREE )      NaN  NaN   NaN\n",
        "3748091                          ZUCCHINI (CHEMICAL FREE)      NaN  NaN   NaN\n",
        "3748092                                ZUCCHINI (ORGANIC)      NaN  NaN   NaN\n",
        "3748093                                  ZUCCHINI FLOWERS      NaN  NaN   NaN\n",
        "3748094                  ZUCCHINI FLOWERS (CHEMICAL FREE)      NaN  NaN   NaN\n",
        "3748095    ZUCCHINI JAM WITH PISTACHIO & MASTIC (NATURAL)      NaN  NaN   NaN\n",
        "\n",
        "[3748096 rows x 4 columns]"
       ]
      }
     ],
     "prompt_number": 7
    },
    {
     "cell_type": "code",
     "collapsed": false,
     "input": [
      "b = []\n",
      "x = df['Product'].tolist()  # create a list of products\n",
      "for a in x:  # take each month\n",
      "    for i in range(0, max(df.index) + 1):  # count of types\n",
      "        b.append(a)  # add each element in 'a', 'i' number of times\n",
      "df1['Product2'] = pd.Series(b)  # create a series for list 'b' and add to products column\n",
      "df1"
     ],
     "language": "python",
     "metadata": {},
     "outputs": [
      {
       "html": [
        "<div style=\"max-height:1000px;max-width:1500px;overflow:auto;\">\n",
        "<table border=\"1\" class=\"dataframe\">\n",
        "  <thead>\n",
        "    <tr style=\"text-align: right;\">\n",
        "      <th></th>\n",
        "      <th>Product1</th>\n",
        "      <th>Product2</th>\n",
        "      <th>Name</th>\n",
        "      <th>Count</th>\n",
        "    </tr>\n",
        "  </thead>\n",
        "  <tbody>\n",
        "    <tr>\n",
        "      <th>0      </th>\n",
        "      <td>                                     7 GRAIN MILK</td>\n",
        "      <td>                                   7 GRAIN MILK</td>\n",
        "      <td> NaN</td>\n",
        "      <td> NaN</td>\n",
        "    </tr>\n",
        "    <tr>\n",
        "      <th>1      </th>\n",
        "      <td>                             7 GRAIN MILK - 946ML</td>\n",
        "      <td>                                   7 GRAIN MILK</td>\n",
        "      <td> NaN</td>\n",
        "      <td> NaN</td>\n",
        "    </tr>\n",
        "    <tr>\n",
        "      <th>2      </th>\n",
        "      <td>                                 ACAI BERRY JUICE</td>\n",
        "      <td>                                   7 GRAIN MILK</td>\n",
        "      <td> NaN</td>\n",
        "      <td> NaN</td>\n",
        "    </tr>\n",
        "    <tr>\n",
        "      <th>3      </th>\n",
        "      <td>                                 ACNE FACIAL SOAP</td>\n",
        "      <td>                                   7 GRAIN MILK</td>\n",
        "      <td> NaN</td>\n",
        "      <td> NaN</td>\n",
        "    </tr>\n",
        "    <tr>\n",
        "      <th>4      </th>\n",
        "      <td>                          ACQUA PANA WATER 1000ML</td>\n",
        "      <td>                                   7 GRAIN MILK</td>\n",
        "      <td> NaN</td>\n",
        "      <td> NaN</td>\n",
        "    </tr>\n",
        "    <tr>\n",
        "      <th>5      </th>\n",
        "      <td>                           ACQUA PANA WATER 500ML</td>\n",
        "      <td>                                   7 GRAIN MILK</td>\n",
        "      <td> NaN</td>\n",
        "      <td> NaN</td>\n",
        "    </tr>\n",
        "    <tr>\n",
        "      <th>6      </th>\n",
        "      <td>                     ACQUA PANA WATER 500ML GLASS</td>\n",
        "      <td>                                   7 GRAIN MILK</td>\n",
        "      <td> NaN</td>\n",
        "      <td> NaN</td>\n",
        "    </tr>\n",
        "    <tr>\n",
        "      <th>7      </th>\n",
        "      <td>            ACTIBIF CHEESE (FOR BETTER DIGESTION)</td>\n",
        "      <td>                                   7 GRAIN MILK</td>\n",
        "      <td> NaN</td>\n",
        "      <td> NaN</td>\n",
        "    </tr>\n",
        "    <tr>\n",
        "      <th>8      </th>\n",
        "      <td>         AGAR AGAR FLAKES (HAND HARVESTED) - WILD</td>\n",
        "      <td>                                   7 GRAIN MILK</td>\n",
        "      <td> NaN</td>\n",
        "      <td> NaN</td>\n",
        "    </tr>\n",
        "    <tr>\n",
        "      <th>9      </th>\n",
        "      <td>         ALL PURPOSE BAKING FLOUR ( GLUTEN FREE )</td>\n",
        "      <td>                                   7 GRAIN MILK</td>\n",
        "      <td> NaN</td>\n",
        "      <td> NaN</td>\n",
        "    </tr>\n",
        "    <tr>\n",
        "      <th>10     </th>\n",
        "      <td>  ALL PURPOSE BAKING FLOUR ( GLUTEN FREE ) - 623G</td>\n",
        "      <td>                                   7 GRAIN MILK</td>\n",
        "      <td> NaN</td>\n",
        "      <td> NaN</td>\n",
        "    </tr>\n",
        "    <tr>\n",
        "      <th>11     </th>\n",
        "      <td>           ALL PURPOSE BAKING FLOUR (GLUTEN FREE)</td>\n",
        "      <td>                                   7 GRAIN MILK</td>\n",
        "      <td> NaN</td>\n",
        "      <td> NaN</td>\n",
        "    </tr>\n",
        "    <tr>\n",
        "      <th>12     </th>\n",
        "      <td> ALMOND BISCOTTI (GLUTEN FREE) - TRACES OF GLUTEN</td>\n",
        "      <td>                                   7 GRAIN MILK</td>\n",
        "      <td> NaN</td>\n",
        "      <td> NaN</td>\n",
        "    </tr>\n",
        "    <tr>\n",
        "      <th>13     </th>\n",
        "      <td> ALMOND BISCUTIS (GLUTEN FREE) - TRACES OF GLUTEN</td>\n",
        "      <td>                                   7 GRAIN MILK</td>\n",
        "      <td> NaN</td>\n",
        "      <td> NaN</td>\n",
        "    </tr>\n",
        "    <tr>\n",
        "      <th>14     </th>\n",
        "      <td>                       ALMOND BREAD (GLUTEN FREE)</td>\n",
        "      <td>                                   7 GRAIN MILK</td>\n",
        "      <td> NaN</td>\n",
        "      <td> NaN</td>\n",
        "    </tr>\n",
        "    <tr>\n",
        "      <th>15     </th>\n",
        "      <td>                                    ALMOND BUTTER</td>\n",
        "      <td>                                   7 GRAIN MILK</td>\n",
        "      <td> NaN</td>\n",
        "      <td> NaN</td>\n",
        "    </tr>\n",
        "    <tr>\n",
        "      <th>16     </th>\n",
        "      <td>                        ALMOND BUTTER (HOME-MADE)</td>\n",
        "      <td>                                   7 GRAIN MILK</td>\n",
        "      <td> NaN</td>\n",
        "      <td> NaN</td>\n",
        "    </tr>\n",
        "    <tr>\n",
        "      <th>17     </th>\n",
        "      <td>                          ALMOND BUTTER (NATURAL)</td>\n",
        "      <td>                                   7 GRAIN MILK</td>\n",
        "      <td> NaN</td>\n",
        "      <td> NaN</td>\n",
        "    </tr>\n",
        "    <tr>\n",
        "      <th>18     </th>\n",
        "      <td>      ALMOND BUTTER WITH CINAMON RAISIN (NATURAL)</td>\n",
        "      <td>                                   7 GRAIN MILK</td>\n",
        "      <td> NaN</td>\n",
        "      <td> NaN</td>\n",
        "    </tr>\n",
        "    <tr>\n",
        "      <th>19     </th>\n",
        "      <td>                                ALMOND MEAL FLOUR</td>\n",
        "      <td>                                   7 GRAIN MILK</td>\n",
        "      <td> NaN</td>\n",
        "      <td> NaN</td>\n",
        "    </tr>\n",
        "    <tr>\n",
        "      <th>20     </th>\n",
        "      <td>                                      ALMOND MILK</td>\n",
        "      <td>                                   7 GRAIN MILK</td>\n",
        "      <td> NaN</td>\n",
        "      <td> NaN</td>\n",
        "    </tr>\n",
        "    <tr>\n",
        "      <th>21     </th>\n",
        "      <td>                          ALMOND MILK ( ORGANIC )</td>\n",
        "      <td>                                   7 GRAIN MILK</td>\n",
        "      <td> NaN</td>\n",
        "      <td> NaN</td>\n",
        "    </tr>\n",
        "    <tr>\n",
        "      <th>22     </th>\n",
        "      <td>                    ALMOND MILK ( ORGANIC ) 946ML</td>\n",
        "      <td>                                   7 GRAIN MILK</td>\n",
        "      <td> NaN</td>\n",
        "      <td> NaN</td>\n",
        "    </tr>\n",
        "    <tr>\n",
        "      <th>23     </th>\n",
        "      <td>                         ALMOND MILK ( ORIGINAL )</td>\n",
        "      <td>                                   7 GRAIN MILK</td>\n",
        "      <td> NaN</td>\n",
        "      <td> NaN</td>\n",
        "    </tr>\n",
        "    <tr>\n",
        "      <th>24     </th>\n",
        "      <td>               ALMOND MILK (ORGANIC) - SUGAR-FREE</td>\n",
        "      <td>                                   7 GRAIN MILK</td>\n",
        "      <td> NaN</td>\n",
        "      <td> NaN</td>\n",
        "    </tr>\n",
        "    <tr>\n",
        "      <th>25     </th>\n",
        "      <td>                        ALMOND MILK (UNSWEETENED)</td>\n",
        "      <td>                                   7 GRAIN MILK</td>\n",
        "      <td> NaN</td>\n",
        "      <td> NaN</td>\n",
        "    </tr>\n",
        "    <tr>\n",
        "      <th>26     </th>\n",
        "      <td>                              ALMOND MILK - 946ML</td>\n",
        "      <td>                                   7 GRAIN MILK</td>\n",
        "      <td> NaN</td>\n",
        "      <td> NaN</td>\n",
        "    </tr>\n",
        "    <tr>\n",
        "      <th>27     </th>\n",
        "      <td>                       ALMOND ORIGINAL (ORIGINAL)</td>\n",
        "      <td>                                   7 GRAIN MILK</td>\n",
        "      <td> NaN</td>\n",
        "      <td> NaN</td>\n",
        "    </tr>\n",
        "    <tr>\n",
        "      <th>28     </th>\n",
        "      <td>                     ALMOND'S AND OATS BODY SCRUB</td>\n",
        "      <td>                                   7 GRAIN MILK</td>\n",
        "      <td> NaN</td>\n",
        "      <td> NaN</td>\n",
        "    </tr>\n",
        "    <tr>\n",
        "      <th>29     </th>\n",
        "      <td>              ALMONDS SHELL ON - ROASTED &amp; SALTED</td>\n",
        "      <td>                                   7 GRAIN MILK</td>\n",
        "      <td> NaN</td>\n",
        "      <td> NaN</td>\n",
        "    </tr>\n",
        "    <tr>\n",
        "      <th>...</th>\n",
        "      <td>...</td>\n",
        "      <td>...</td>\n",
        "      <td>...</td>\n",
        "      <td>...</td>\n",
        "    </tr>\n",
        "    <tr>\n",
        "      <th>3748066</th>\n",
        "      <td>                              WILD SHRIMP (LARGE)</td>\n",
        "      <td> ZUCCHINI JAM WITH PISTACHIO &amp; MASTIC (NATURAL)</td>\n",
        "      <td> NaN</td>\n",
        "      <td> NaN</td>\n",
        "    </tr>\n",
        "    <tr>\n",
        "      <th>3748067</th>\n",
        "      <td>                             WILD SHRIMP (MEDIUM)</td>\n",
        "      <td> ZUCCHINI JAM WITH PISTACHIO &amp; MASTIC (NATURAL)</td>\n",
        "      <td> NaN</td>\n",
        "      <td> NaN</td>\n",
        "    </tr>\n",
        "    <tr>\n",
        "      <th>3748068</th>\n",
        "      <td>                              WILD SHRIMP (SMALL)</td>\n",
        "      <td> ZUCCHINI JAM WITH PISTACHIO &amp; MASTIC (NATURAL)</td>\n",
        "      <td> NaN</td>\n",
        "      <td> NaN</td>\n",
        "    </tr>\n",
        "    <tr>\n",
        "      <th>3748069</th>\n",
        "      <td>                       WILD THYME (CHEMICAL FREE)</td>\n",
        "      <td> ZUCCHINI JAM WITH PISTACHIO &amp; MASTIC (NATURAL)</td>\n",
        "      <td> NaN</td>\n",
        "      <td> NaN</td>\n",
        "    </tr>\n",
        "    <tr>\n",
        "      <th>3748070</th>\n",
        "      <td>                        WILD YELLOW FINTUNA STEAK</td>\n",
        "      <td> ZUCCHINI JAM WITH PISTACHIO &amp; MASTIC (NATURAL)</td>\n",
        "      <td> NaN</td>\n",
        "      <td> NaN</td>\n",
        "    </tr>\n",
        "    <tr>\n",
        "      <th>3748071</th>\n",
        "      <td>                             WORMWOOD HERB POWDER</td>\n",
        "      <td> ZUCCHINI JAM WITH PISTACHIO &amp; MASTIC (NATURAL)</td>\n",
        "      <td> NaN</td>\n",
        "      <td> NaN</td>\n",
        "    </tr>\n",
        "    <tr>\n",
        "      <th>3748072</th>\n",
        "      <td>                        XANTHAN GUM (GLUTEN FREE)</td>\n",
        "      <td> ZUCCHINI JAM WITH PISTACHIO &amp; MASTIC (NATURAL)</td>\n",
        "      <td> NaN</td>\n",
        "      <td> NaN</td>\n",
        "    </tr>\n",
        "    <tr>\n",
        "      <th>3748073</th>\n",
        "      <td>                                 YAKI NORI SHEETS</td>\n",
        "      <td> ZUCCHINI JAM WITH PISTACHIO &amp; MASTIC (NATURAL)</td>\n",
        "      <td> NaN</td>\n",
        "      <td> NaN</td>\n",
        "    </tr>\n",
        "    <tr>\n",
        "      <th>3748074</th>\n",
        "      <td>                                    YELLOW APPLES</td>\n",
        "      <td> ZUCCHINI JAM WITH PISTACHIO &amp; MASTIC (NATURAL)</td>\n",
        "      <td> NaN</td>\n",
        "      <td> NaN</td>\n",
        "    </tr>\n",
        "    <tr>\n",
        "      <th>3748075</th>\n",
        "      <td>                                  YELLOW BROCCOLI</td>\n",
        "      <td> ZUCCHINI JAM WITH PISTACHIO &amp; MASTIC (NATURAL)</td>\n",
        "      <td> NaN</td>\n",
        "      <td> NaN</td>\n",
        "    </tr>\n",
        "    <tr>\n",
        "      <th>3748076</th>\n",
        "      <td>                YELLOW CAPSICUM ( CHEMICAL FREE )</td>\n",
        "      <td> ZUCCHINI JAM WITH PISTACHIO &amp; MASTIC (NATURAL)</td>\n",
        "      <td> NaN</td>\n",
        "      <td> NaN</td>\n",
        "    </tr>\n",
        "    <tr>\n",
        "      <th>3748077</th>\n",
        "      <td>                  YELLOW CARROT ( CHEMICAL FREE )</td>\n",
        "      <td> ZUCCHINI JAM WITH PISTACHIO &amp; MASTIC (NATURAL)</td>\n",
        "      <td> NaN</td>\n",
        "      <td> NaN</td>\n",
        "    </tr>\n",
        "    <tr>\n",
        "      <th>3748078</th>\n",
        "      <td>                                   YELLOW CARROTS</td>\n",
        "      <td> ZUCCHINI JAM WITH PISTACHIO &amp; MASTIC (NATURAL)</td>\n",
        "      <td> NaN</td>\n",
        "      <td> NaN</td>\n",
        "    </tr>\n",
        "    <tr>\n",
        "      <th>3748079</th>\n",
        "      <td>                           YELLOW CHERRY TOMATOES</td>\n",
        "      <td> ZUCCHINI JAM WITH PISTACHIO &amp; MASTIC (NATURAL)</td>\n",
        "      <td> NaN</td>\n",
        "      <td> NaN</td>\n",
        "    </tr>\n",
        "    <tr>\n",
        "      <th>3748080</th>\n",
        "      <td>                                YELLOW GRAPEFRUIT</td>\n",
        "      <td> ZUCCHINI JAM WITH PISTACHIO &amp; MASTIC (NATURAL)</td>\n",
        "      <td> NaN</td>\n",
        "      <td> NaN</td>\n",
        "    </tr>\n",
        "    <tr>\n",
        "      <th>3748081</th>\n",
        "      <td>                                   YELLOW MUSTARD</td>\n",
        "      <td> ZUCCHINI JAM WITH PISTACHIO &amp; MASTIC (NATURAL)</td>\n",
        "      <td> NaN</td>\n",
        "      <td> NaN</td>\n",
        "    </tr>\n",
        "    <tr>\n",
        "      <th>3748082</th>\n",
        "      <td>                  YELLOW ONIONS ( CHEMICAL FREE )</td>\n",
        "      <td> ZUCCHINI JAM WITH PISTACHIO &amp; MASTIC (NATURAL)</td>\n",
        "      <td> NaN</td>\n",
        "      <td> NaN</td>\n",
        "    </tr>\n",
        "    <tr>\n",
        "      <th>3748083</th>\n",
        "      <td>                                YELLOW SPLIT PEAS</td>\n",
        "      <td> ZUCCHINI JAM WITH PISTACHIO &amp; MASTIC (NATURAL)</td>\n",
        "      <td> NaN</td>\n",
        "      <td> NaN</td>\n",
        "    </tr>\n",
        "    <tr>\n",
        "      <th>3748084</th>\n",
        "      <td>                         YELLOW SPLIT PEAS - 822G</td>\n",
        "      <td> ZUCCHINI JAM WITH PISTACHIO &amp; MASTIC (NATURAL)</td>\n",
        "      <td> NaN</td>\n",
        "      <td> NaN</td>\n",
        "    </tr>\n",
        "    <tr>\n",
        "      <th>3748085</th>\n",
        "      <td>                                YELLOW WATERMELON</td>\n",
        "      <td> ZUCCHINI JAM WITH PISTACHIO &amp; MASTIC (NATURAL)</td>\n",
        "      <td> NaN</td>\n",
        "      <td> NaN</td>\n",
        "    </tr>\n",
        "    <tr>\n",
        "      <th>3748086</th>\n",
        "      <td>                       YING/YANG FACIAL ACNE SOAP</td>\n",
        "      <td> ZUCCHINI JAM WITH PISTACHIO &amp; MASTIC (NATURAL)</td>\n",
        "      <td> NaN</td>\n",
        "      <td> NaN</td>\n",
        "    </tr>\n",
        "    <tr>\n",
        "      <th>3748087</th>\n",
        "      <td>                              YOUSSFI (TANGERINE)</td>\n",
        "      <td> ZUCCHINI JAM WITH PISTACHIO &amp; MASTIC (NATURAL)</td>\n",
        "      <td> NaN</td>\n",
        "      <td> NaN</td>\n",
        "    </tr>\n",
        "    <tr>\n",
        "      <th>3748088</th>\n",
        "      <td>                     ZARDA EXTRA VIRGIN OLIVE OIL</td>\n",
        "      <td> ZUCCHINI JAM WITH PISTACHIO &amp; MASTIC (NATURAL)</td>\n",
        "      <td> NaN</td>\n",
        "      <td> NaN</td>\n",
        "    </tr>\n",
        "    <tr>\n",
        "      <th>3748089</th>\n",
        "      <td>                                         ZUCCHINI</td>\n",
        "      <td> ZUCCHINI JAM WITH PISTACHIO &amp; MASTIC (NATURAL)</td>\n",
        "      <td> NaN</td>\n",
        "      <td> NaN</td>\n",
        "    </tr>\n",
        "    <tr>\n",
        "      <th>3748090</th>\n",
        "      <td>                       ZUCCHINI ( CHEMICAL FREE )</td>\n",
        "      <td> ZUCCHINI JAM WITH PISTACHIO &amp; MASTIC (NATURAL)</td>\n",
        "      <td> NaN</td>\n",
        "      <td> NaN</td>\n",
        "    </tr>\n",
        "    <tr>\n",
        "      <th>3748091</th>\n",
        "      <td>                         ZUCCHINI (CHEMICAL FREE)</td>\n",
        "      <td> ZUCCHINI JAM WITH PISTACHIO &amp; MASTIC (NATURAL)</td>\n",
        "      <td> NaN</td>\n",
        "      <td> NaN</td>\n",
        "    </tr>\n",
        "    <tr>\n",
        "      <th>3748092</th>\n",
        "      <td>                               ZUCCHINI (ORGANIC)</td>\n",
        "      <td> ZUCCHINI JAM WITH PISTACHIO &amp; MASTIC (NATURAL)</td>\n",
        "      <td> NaN</td>\n",
        "      <td> NaN</td>\n",
        "    </tr>\n",
        "    <tr>\n",
        "      <th>3748093</th>\n",
        "      <td>                                 ZUCCHINI FLOWERS</td>\n",
        "      <td> ZUCCHINI JAM WITH PISTACHIO &amp; MASTIC (NATURAL)</td>\n",
        "      <td> NaN</td>\n",
        "      <td> NaN</td>\n",
        "    </tr>\n",
        "    <tr>\n",
        "      <th>3748094</th>\n",
        "      <td>                 ZUCCHINI FLOWERS (CHEMICAL FREE)</td>\n",
        "      <td> ZUCCHINI JAM WITH PISTACHIO &amp; MASTIC (NATURAL)</td>\n",
        "      <td> NaN</td>\n",
        "      <td> NaN</td>\n",
        "    </tr>\n",
        "    <tr>\n",
        "      <th>3748095</th>\n",
        "      <td>   ZUCCHINI JAM WITH PISTACHIO &amp; MASTIC (NATURAL)</td>\n",
        "      <td> ZUCCHINI JAM WITH PISTACHIO &amp; MASTIC (NATURAL)</td>\n",
        "      <td> NaN</td>\n",
        "      <td> NaN</td>\n",
        "    </tr>\n",
        "  </tbody>\n",
        "</table>\n",
        "<p>3748096 rows \u00d7 4 columns</p>\n",
        "</div>"
       ],
       "metadata": {},
       "output_type": "pyout",
       "prompt_number": 8,
       "text": [
        "                                                 Product1  \\\n",
        "0                                            7 GRAIN MILK   \n",
        "1                                    7 GRAIN MILK - 946ML   \n",
        "2                                        ACAI BERRY JUICE   \n",
        "3                                        ACNE FACIAL SOAP   \n",
        "4                                 ACQUA PANA WATER 1000ML   \n",
        "5                                  ACQUA PANA WATER 500ML   \n",
        "6                            ACQUA PANA WATER 500ML GLASS   \n",
        "7                   ACTIBIF CHEESE (FOR BETTER DIGESTION)   \n",
        "8                AGAR AGAR FLAKES (HAND HARVESTED) - WILD   \n",
        "9                ALL PURPOSE BAKING FLOUR ( GLUTEN FREE )   \n",
        "10        ALL PURPOSE BAKING FLOUR ( GLUTEN FREE ) - 623G   \n",
        "11                 ALL PURPOSE BAKING FLOUR (GLUTEN FREE)   \n",
        "12       ALMOND BISCOTTI (GLUTEN FREE) - TRACES OF GLUTEN   \n",
        "13       ALMOND BISCUTIS (GLUTEN FREE) - TRACES OF GLUTEN   \n",
        "14                             ALMOND BREAD (GLUTEN FREE)   \n",
        "15                                          ALMOND BUTTER   \n",
        "16                              ALMOND BUTTER (HOME-MADE)   \n",
        "17                                ALMOND BUTTER (NATURAL)   \n",
        "18            ALMOND BUTTER WITH CINAMON RAISIN (NATURAL)   \n",
        "19                                      ALMOND MEAL FLOUR   \n",
        "20                                            ALMOND MILK   \n",
        "21                                ALMOND MILK ( ORGANIC )   \n",
        "22                          ALMOND MILK ( ORGANIC ) 946ML   \n",
        "23                               ALMOND MILK ( ORIGINAL )   \n",
        "24                     ALMOND MILK (ORGANIC) - SUGAR-FREE   \n",
        "25                              ALMOND MILK (UNSWEETENED)   \n",
        "26                                    ALMOND MILK - 946ML   \n",
        "27                             ALMOND ORIGINAL (ORIGINAL)   \n",
        "28                           ALMOND'S AND OATS BODY SCRUB   \n",
        "29                    ALMONDS SHELL ON - ROASTED & SALTED   \n",
        "...                                                   ...   \n",
        "3748066                               WILD SHRIMP (LARGE)   \n",
        "3748067                              WILD SHRIMP (MEDIUM)   \n",
        "3748068                               WILD SHRIMP (SMALL)   \n",
        "3748069                        WILD THYME (CHEMICAL FREE)   \n",
        "3748070                         WILD YELLOW FINTUNA STEAK   \n",
        "3748071                              WORMWOOD HERB POWDER   \n",
        "3748072                         XANTHAN GUM (GLUTEN FREE)   \n",
        "3748073                                  YAKI NORI SHEETS   \n",
        "3748074                                     YELLOW APPLES   \n",
        "3748075                                   YELLOW BROCCOLI   \n",
        "3748076                 YELLOW CAPSICUM ( CHEMICAL FREE )   \n",
        "3748077                   YELLOW CARROT ( CHEMICAL FREE )   \n",
        "3748078                                    YELLOW CARROTS   \n",
        "3748079                            YELLOW CHERRY TOMATOES   \n",
        "3748080                                 YELLOW GRAPEFRUIT   \n",
        "3748081                                    YELLOW MUSTARD   \n",
        "3748082                   YELLOW ONIONS ( CHEMICAL FREE )   \n",
        "3748083                                 YELLOW SPLIT PEAS   \n",
        "3748084                          YELLOW SPLIT PEAS - 822G   \n",
        "3748085                                 YELLOW WATERMELON   \n",
        "3748086                        YING/YANG FACIAL ACNE SOAP   \n",
        "3748087                               YOUSSFI (TANGERINE)   \n",
        "3748088                      ZARDA EXTRA VIRGIN OLIVE OIL   \n",
        "3748089                                          ZUCCHINI   \n",
        "3748090                        ZUCCHINI ( CHEMICAL FREE )   \n",
        "3748091                          ZUCCHINI (CHEMICAL FREE)   \n",
        "3748092                                ZUCCHINI (ORGANIC)   \n",
        "3748093                                  ZUCCHINI FLOWERS   \n",
        "3748094                  ZUCCHINI FLOWERS (CHEMICAL FREE)   \n",
        "3748095    ZUCCHINI JAM WITH PISTACHIO & MASTIC (NATURAL)   \n",
        "\n",
        "                                               Product2 Name Count  \n",
        "0                                          7 GRAIN MILK  NaN   NaN  \n",
        "1                                          7 GRAIN MILK  NaN   NaN  \n",
        "2                                          7 GRAIN MILK  NaN   NaN  \n",
        "3                                          7 GRAIN MILK  NaN   NaN  \n",
        "4                                          7 GRAIN MILK  NaN   NaN  \n",
        "5                                          7 GRAIN MILK  NaN   NaN  \n",
        "6                                          7 GRAIN MILK  NaN   NaN  \n",
        "7                                          7 GRAIN MILK  NaN   NaN  \n",
        "8                                          7 GRAIN MILK  NaN   NaN  \n",
        "9                                          7 GRAIN MILK  NaN   NaN  \n",
        "10                                         7 GRAIN MILK  NaN   NaN  \n",
        "11                                         7 GRAIN MILK  NaN   NaN  \n",
        "12                                         7 GRAIN MILK  NaN   NaN  \n",
        "13                                         7 GRAIN MILK  NaN   NaN  \n",
        "14                                         7 GRAIN MILK  NaN   NaN  \n",
        "15                                         7 GRAIN MILK  NaN   NaN  \n",
        "16                                         7 GRAIN MILK  NaN   NaN  \n",
        "17                                         7 GRAIN MILK  NaN   NaN  \n",
        "18                                         7 GRAIN MILK  NaN   NaN  \n",
        "19                                         7 GRAIN MILK  NaN   NaN  \n",
        "20                                         7 GRAIN MILK  NaN   NaN  \n",
        "21                                         7 GRAIN MILK  NaN   NaN  \n",
        "22                                         7 GRAIN MILK  NaN   NaN  \n",
        "23                                         7 GRAIN MILK  NaN   NaN  \n",
        "24                                         7 GRAIN MILK  NaN   NaN  \n",
        "25                                         7 GRAIN MILK  NaN   NaN  \n",
        "26                                         7 GRAIN MILK  NaN   NaN  \n",
        "27                                         7 GRAIN MILK  NaN   NaN  \n",
        "28                                         7 GRAIN MILK  NaN   NaN  \n",
        "29                                         7 GRAIN MILK  NaN   NaN  \n",
        "...                                                 ...  ...   ...  \n",
        "3748066  ZUCCHINI JAM WITH PISTACHIO & MASTIC (NATURAL)  NaN   NaN  \n",
        "3748067  ZUCCHINI JAM WITH PISTACHIO & MASTIC (NATURAL)  NaN   NaN  \n",
        "3748068  ZUCCHINI JAM WITH PISTACHIO & MASTIC (NATURAL)  NaN   NaN  \n",
        "3748069  ZUCCHINI JAM WITH PISTACHIO & MASTIC (NATURAL)  NaN   NaN  \n",
        "3748070  ZUCCHINI JAM WITH PISTACHIO & MASTIC (NATURAL)  NaN   NaN  \n",
        "3748071  ZUCCHINI JAM WITH PISTACHIO & MASTIC (NATURAL)  NaN   NaN  \n",
        "3748072  ZUCCHINI JAM WITH PISTACHIO & MASTIC (NATURAL)  NaN   NaN  \n",
        "3748073  ZUCCHINI JAM WITH PISTACHIO & MASTIC (NATURAL)  NaN   NaN  \n",
        "3748074  ZUCCHINI JAM WITH PISTACHIO & MASTIC (NATURAL)  NaN   NaN  \n",
        "3748075  ZUCCHINI JAM WITH PISTACHIO & MASTIC (NATURAL)  NaN   NaN  \n",
        "3748076  ZUCCHINI JAM WITH PISTACHIO & MASTIC (NATURAL)  NaN   NaN  \n",
        "3748077  ZUCCHINI JAM WITH PISTACHIO & MASTIC (NATURAL)  NaN   NaN  \n",
        "3748078  ZUCCHINI JAM WITH PISTACHIO & MASTIC (NATURAL)  NaN   NaN  \n",
        "3748079  ZUCCHINI JAM WITH PISTACHIO & MASTIC (NATURAL)  NaN   NaN  \n",
        "3748080  ZUCCHINI JAM WITH PISTACHIO & MASTIC (NATURAL)  NaN   NaN  \n",
        "3748081  ZUCCHINI JAM WITH PISTACHIO & MASTIC (NATURAL)  NaN   NaN  \n",
        "3748082  ZUCCHINI JAM WITH PISTACHIO & MASTIC (NATURAL)  NaN   NaN  \n",
        "3748083  ZUCCHINI JAM WITH PISTACHIO & MASTIC (NATURAL)  NaN   NaN  \n",
        "3748084  ZUCCHINI JAM WITH PISTACHIO & MASTIC (NATURAL)  NaN   NaN  \n",
        "3748085  ZUCCHINI JAM WITH PISTACHIO & MASTIC (NATURAL)  NaN   NaN  \n",
        "3748086  ZUCCHINI JAM WITH PISTACHIO & MASTIC (NATURAL)  NaN   NaN  \n",
        "3748087  ZUCCHINI JAM WITH PISTACHIO & MASTIC (NATURAL)  NaN   NaN  \n",
        "3748088  ZUCCHINI JAM WITH PISTACHIO & MASTIC (NATURAL)  NaN   NaN  \n",
        "3748089  ZUCCHINI JAM WITH PISTACHIO & MASTIC (NATURAL)  NaN   NaN  \n",
        "3748090  ZUCCHINI JAM WITH PISTACHIO & MASTIC (NATURAL)  NaN   NaN  \n",
        "3748091  ZUCCHINI JAM WITH PISTACHIO & MASTIC (NATURAL)  NaN   NaN  \n",
        "3748092  ZUCCHINI JAM WITH PISTACHIO & MASTIC (NATURAL)  NaN   NaN  \n",
        "3748093  ZUCCHINI JAM WITH PISTACHIO & MASTIC (NATURAL)  NaN   NaN  \n",
        "3748094  ZUCCHINI JAM WITH PISTACHIO & MASTIC (NATURAL)  NaN   NaN  \n",
        "3748095  ZUCCHINI JAM WITH PISTACHIO & MASTIC (NATURAL)  NaN   NaN  \n",
        "\n",
        "[3748096 rows x 4 columns]"
       ]
      }
     ],
     "prompt_number": 8
    },
    {
     "cell_type": "code",
     "collapsed": false,
     "input": [
      "# create a list of lists having orders for each product.\n",
      "na = []\n",
      "e = df['Name'].tolist()\n",
      "# add each list of orders for a product with all the list o orders of one product\n",
      "for k in e:\n",
      "    for j in e:\n",
      "        p = k + j\n",
      "        na.append(p)\n",
      "\n",
      "df1['Name'] = pd.Series(na)  # create a series for list 'na' and add to name column\n",
      "df1"
     ],
     "language": "python",
     "metadata": {},
     "outputs": [
      {
       "html": [
        "<div style=\"max-height:1000px;max-width:1500px;overflow:auto;\">\n",
        "<table border=\"1\" class=\"dataframe\">\n",
        "  <thead>\n",
        "    <tr style=\"text-align: right;\">\n",
        "      <th></th>\n",
        "      <th>Product1</th>\n",
        "      <th>Product2</th>\n",
        "      <th>Name</th>\n",
        "      <th>Count</th>\n",
        "    </tr>\n",
        "  </thead>\n",
        "  <tbody>\n",
        "    <tr>\n",
        "      <th>0      </th>\n",
        "      <td>                                     7 GRAIN MILK</td>\n",
        "      <td>                                   7 GRAIN MILK</td>\n",
        "      <td> [2498, 2486, 2467, 2461, 2418, 2367, 2253, 225...</td>\n",
        "      <td> NaN</td>\n",
        "    </tr>\n",
        "    <tr>\n",
        "      <th>1      </th>\n",
        "      <td>                             7 GRAIN MILK - 946ML</td>\n",
        "      <td>                                   7 GRAIN MILK</td>\n",
        "      <td> [2498, 2486, 2467, 2461, 2418, 2367, 2253, 225...</td>\n",
        "      <td> NaN</td>\n",
        "    </tr>\n",
        "    <tr>\n",
        "      <th>2      </th>\n",
        "      <td>                                 ACAI BERRY JUICE</td>\n",
        "      <td>                                   7 GRAIN MILK</td>\n",
        "      <td> [2498, 2486, 2467, 2461, 2418, 2367, 2253, 225...</td>\n",
        "      <td> NaN</td>\n",
        "    </tr>\n",
        "    <tr>\n",
        "      <th>3      </th>\n",
        "      <td>                                 ACNE FACIAL SOAP</td>\n",
        "      <td>                                   7 GRAIN MILK</td>\n",
        "      <td> [2498, 2486, 2467, 2461, 2418, 2367, 2253, 225...</td>\n",
        "      <td> NaN</td>\n",
        "    </tr>\n",
        "    <tr>\n",
        "      <th>4      </th>\n",
        "      <td>                          ACQUA PANA WATER 1000ML</td>\n",
        "      <td>                                   7 GRAIN MILK</td>\n",
        "      <td> [2498, 2486, 2467, 2461, 2418, 2367, 2253, 225...</td>\n",
        "      <td> NaN</td>\n",
        "    </tr>\n",
        "    <tr>\n",
        "      <th>5      </th>\n",
        "      <td>                           ACQUA PANA WATER 500ML</td>\n",
        "      <td>                                   7 GRAIN MILK</td>\n",
        "      <td> [2498, 2486, 2467, 2461, 2418, 2367, 2253, 225...</td>\n",
        "      <td> NaN</td>\n",
        "    </tr>\n",
        "    <tr>\n",
        "      <th>6      </th>\n",
        "      <td>                     ACQUA PANA WATER 500ML GLASS</td>\n",
        "      <td>                                   7 GRAIN MILK</td>\n",
        "      <td> [2498, 2486, 2467, 2461, 2418, 2367, 2253, 225...</td>\n",
        "      <td> NaN</td>\n",
        "    </tr>\n",
        "    <tr>\n",
        "      <th>7      </th>\n",
        "      <td>            ACTIBIF CHEESE (FOR BETTER DIGESTION)</td>\n",
        "      <td>                                   7 GRAIN MILK</td>\n",
        "      <td> [2498, 2486, 2467, 2461, 2418, 2367, 2253, 225...</td>\n",
        "      <td> NaN</td>\n",
        "    </tr>\n",
        "    <tr>\n",
        "      <th>8      </th>\n",
        "      <td>         AGAR AGAR FLAKES (HAND HARVESTED) - WILD</td>\n",
        "      <td>                                   7 GRAIN MILK</td>\n",
        "      <td> [2498, 2486, 2467, 2461, 2418, 2367, 2253, 225...</td>\n",
        "      <td> NaN</td>\n",
        "    </tr>\n",
        "    <tr>\n",
        "      <th>9      </th>\n",
        "      <td>         ALL PURPOSE BAKING FLOUR ( GLUTEN FREE )</td>\n",
        "      <td>                                   7 GRAIN MILK</td>\n",
        "      <td> [2498, 2486, 2467, 2461, 2418, 2367, 2253, 225...</td>\n",
        "      <td> NaN</td>\n",
        "    </tr>\n",
        "    <tr>\n",
        "      <th>10     </th>\n",
        "      <td>  ALL PURPOSE BAKING FLOUR ( GLUTEN FREE ) - 623G</td>\n",
        "      <td>                                   7 GRAIN MILK</td>\n",
        "      <td> [2498, 2486, 2467, 2461, 2418, 2367, 2253, 225...</td>\n",
        "      <td> NaN</td>\n",
        "    </tr>\n",
        "    <tr>\n",
        "      <th>11     </th>\n",
        "      <td>           ALL PURPOSE BAKING FLOUR (GLUTEN FREE)</td>\n",
        "      <td>                                   7 GRAIN MILK</td>\n",
        "      <td> [2498, 2486, 2467, 2461, 2418, 2367, 2253, 225...</td>\n",
        "      <td> NaN</td>\n",
        "    </tr>\n",
        "    <tr>\n",
        "      <th>12     </th>\n",
        "      <td> ALMOND BISCOTTI (GLUTEN FREE) - TRACES OF GLUTEN</td>\n",
        "      <td>                                   7 GRAIN MILK</td>\n",
        "      <td> [2498, 2486, 2467, 2461, 2418, 2367, 2253, 225...</td>\n",
        "      <td> NaN</td>\n",
        "    </tr>\n",
        "    <tr>\n",
        "      <th>13     </th>\n",
        "      <td> ALMOND BISCUTIS (GLUTEN FREE) - TRACES OF GLUTEN</td>\n",
        "      <td>                                   7 GRAIN MILK</td>\n",
        "      <td> [2498, 2486, 2467, 2461, 2418, 2367, 2253, 225...</td>\n",
        "      <td> NaN</td>\n",
        "    </tr>\n",
        "    <tr>\n",
        "      <th>14     </th>\n",
        "      <td>                       ALMOND BREAD (GLUTEN FREE)</td>\n",
        "      <td>                                   7 GRAIN MILK</td>\n",
        "      <td> [2498, 2486, 2467, 2461, 2418, 2367, 2253, 225...</td>\n",
        "      <td> NaN</td>\n",
        "    </tr>\n",
        "    <tr>\n",
        "      <th>15     </th>\n",
        "      <td>                                    ALMOND BUTTER</td>\n",
        "      <td>                                   7 GRAIN MILK</td>\n",
        "      <td> [2498, 2486, 2467, 2461, 2418, 2367, 2253, 225...</td>\n",
        "      <td> NaN</td>\n",
        "    </tr>\n",
        "    <tr>\n",
        "      <th>16     </th>\n",
        "      <td>                        ALMOND BUTTER (HOME-MADE)</td>\n",
        "      <td>                                   7 GRAIN MILK</td>\n",
        "      <td> [2498, 2486, 2467, 2461, 2418, 2367, 2253, 225...</td>\n",
        "      <td> NaN</td>\n",
        "    </tr>\n",
        "    <tr>\n",
        "      <th>17     </th>\n",
        "      <td>                          ALMOND BUTTER (NATURAL)</td>\n",
        "      <td>                                   7 GRAIN MILK</td>\n",
        "      <td> [2498, 2486, 2467, 2461, 2418, 2367, 2253, 225...</td>\n",
        "      <td> NaN</td>\n",
        "    </tr>\n",
        "    <tr>\n",
        "      <th>18     </th>\n",
        "      <td>      ALMOND BUTTER WITH CINAMON RAISIN (NATURAL)</td>\n",
        "      <td>                                   7 GRAIN MILK</td>\n",
        "      <td> [2498, 2486, 2467, 2461, 2418, 2367, 2253, 225...</td>\n",
        "      <td> NaN</td>\n",
        "    </tr>\n",
        "    <tr>\n",
        "      <th>19     </th>\n",
        "      <td>                                ALMOND MEAL FLOUR</td>\n",
        "      <td>                                   7 GRAIN MILK</td>\n",
        "      <td> [2498, 2486, 2467, 2461, 2418, 2367, 2253, 225...</td>\n",
        "      <td> NaN</td>\n",
        "    </tr>\n",
        "    <tr>\n",
        "      <th>20     </th>\n",
        "      <td>                                      ALMOND MILK</td>\n",
        "      <td>                                   7 GRAIN MILK</td>\n",
        "      <td> [2498, 2486, 2467, 2461, 2418, 2367, 2253, 225...</td>\n",
        "      <td> NaN</td>\n",
        "    </tr>\n",
        "    <tr>\n",
        "      <th>21     </th>\n",
        "      <td>                          ALMOND MILK ( ORGANIC )</td>\n",
        "      <td>                                   7 GRAIN MILK</td>\n",
        "      <td> [2498, 2486, 2467, 2461, 2418, 2367, 2253, 225...</td>\n",
        "      <td> NaN</td>\n",
        "    </tr>\n",
        "    <tr>\n",
        "      <th>22     </th>\n",
        "      <td>                    ALMOND MILK ( ORGANIC ) 946ML</td>\n",
        "      <td>                                   7 GRAIN MILK</td>\n",
        "      <td> [2498, 2486, 2467, 2461, 2418, 2367, 2253, 225...</td>\n",
        "      <td> NaN</td>\n",
        "    </tr>\n",
        "    <tr>\n",
        "      <th>23     </th>\n",
        "      <td>                         ALMOND MILK ( ORIGINAL )</td>\n",
        "      <td>                                   7 GRAIN MILK</td>\n",
        "      <td> [2498, 2486, 2467, 2461, 2418, 2367, 2253, 225...</td>\n",
        "      <td> NaN</td>\n",
        "    </tr>\n",
        "    <tr>\n",
        "      <th>24     </th>\n",
        "      <td>               ALMOND MILK (ORGANIC) - SUGAR-FREE</td>\n",
        "      <td>                                   7 GRAIN MILK</td>\n",
        "      <td> [2498, 2486, 2467, 2461, 2418, 2367, 2253, 225...</td>\n",
        "      <td> NaN</td>\n",
        "    </tr>\n",
        "    <tr>\n",
        "      <th>25     </th>\n",
        "      <td>                        ALMOND MILK (UNSWEETENED)</td>\n",
        "      <td>                                   7 GRAIN MILK</td>\n",
        "      <td> [2498, 2486, 2467, 2461, 2418, 2367, 2253, 225...</td>\n",
        "      <td> NaN</td>\n",
        "    </tr>\n",
        "    <tr>\n",
        "      <th>26     </th>\n",
        "      <td>                              ALMOND MILK - 946ML</td>\n",
        "      <td>                                   7 GRAIN MILK</td>\n",
        "      <td> [2498, 2486, 2467, 2461, 2418, 2367, 2253, 225...</td>\n",
        "      <td> NaN</td>\n",
        "    </tr>\n",
        "    <tr>\n",
        "      <th>27     </th>\n",
        "      <td>                       ALMOND ORIGINAL (ORIGINAL)</td>\n",
        "      <td>                                   7 GRAIN MILK</td>\n",
        "      <td> [2498, 2486, 2467, 2461, 2418, 2367, 2253, 225...</td>\n",
        "      <td> NaN</td>\n",
        "    </tr>\n",
        "    <tr>\n",
        "      <th>28     </th>\n",
        "      <td>                     ALMOND'S AND OATS BODY SCRUB</td>\n",
        "      <td>                                   7 GRAIN MILK</td>\n",
        "      <td> [2498, 2486, 2467, 2461, 2418, 2367, 2253, 225...</td>\n",
        "      <td> NaN</td>\n",
        "    </tr>\n",
        "    <tr>\n",
        "      <th>29     </th>\n",
        "      <td>              ALMONDS SHELL ON - ROASTED &amp; SALTED</td>\n",
        "      <td>                                   7 GRAIN MILK</td>\n",
        "      <td> [2498, 2486, 2467, 2461, 2418, 2367, 2253, 225...</td>\n",
        "      <td> NaN</td>\n",
        "    </tr>\n",
        "    <tr>\n",
        "      <th>...</th>\n",
        "      <td>...</td>\n",
        "      <td>...</td>\n",
        "      <td>...</td>\n",
        "      <td>...</td>\n",
        "    </tr>\n",
        "    <tr>\n",
        "      <th>3748066</th>\n",
        "      <td>                              WILD SHRIMP (LARGE)</td>\n",
        "      <td> ZUCCHINI JAM WITH PISTACHIO &amp; MASTIC (NATURAL)</td>\n",
        "      <td>                                [8909, 8696, 9963]</td>\n",
        "      <td> NaN</td>\n",
        "    </tr>\n",
        "    <tr>\n",
        "      <th>3748067</th>\n",
        "      <td>                             WILD SHRIMP (MEDIUM)</td>\n",
        "      <td> ZUCCHINI JAM WITH PISTACHIO &amp; MASTIC (NATURAL)</td>\n",
        "      <td> [8909, 8696, 10303, 10263, 10260, 10232, 10198...</td>\n",
        "      <td> NaN</td>\n",
        "    </tr>\n",
        "    <tr>\n",
        "      <th>3748068</th>\n",
        "      <td>                              WILD SHRIMP (SMALL)</td>\n",
        "      <td> ZUCCHINI JAM WITH PISTACHIO &amp; MASTIC (NATURAL)</td>\n",
        "      <td> [8909, 8696, 10362, 10329, 10261, 10143, 10094...</td>\n",
        "      <td> NaN</td>\n",
        "    </tr>\n",
        "    <tr>\n",
        "      <th>3748069</th>\n",
        "      <td>                       WILD THYME (CHEMICAL FREE)</td>\n",
        "      <td> ZUCCHINI JAM WITH PISTACHIO &amp; MASTIC (NATURAL)</td>\n",
        "      <td> [8909, 8696, 9977, 9542, 9468, 9319, 9014, 867...</td>\n",
        "      <td> NaN</td>\n",
        "    </tr>\n",
        "    <tr>\n",
        "      <th>3748070</th>\n",
        "      <td>                        WILD YELLOW FINTUNA STEAK</td>\n",
        "      <td> ZUCCHINI JAM WITH PISTACHIO &amp; MASTIC (NATURAL)</td>\n",
        "      <td>                               [8909, 8696, 10265]</td>\n",
        "      <td> NaN</td>\n",
        "    </tr>\n",
        "    <tr>\n",
        "      <th>3748071</th>\n",
        "      <td>                             WORMWOOD HERB POWDER</td>\n",
        "      <td> ZUCCHINI JAM WITH PISTACHIO &amp; MASTIC (NATURAL)</td>\n",
        "      <td>                                [8909, 8696, 2389]</td>\n",
        "      <td> NaN</td>\n",
        "    </tr>\n",
        "    <tr>\n",
        "      <th>3748072</th>\n",
        "      <td>                        XANTHAN GUM (GLUTEN FREE)</td>\n",
        "      <td> ZUCCHINI JAM WITH PISTACHIO &amp; MASTIC (NATURAL)</td>\n",
        "      <td> [8909, 8696, 10027, 10022, 9943, 9921, 9810, 9...</td>\n",
        "      <td> NaN</td>\n",
        "    </tr>\n",
        "    <tr>\n",
        "      <th>3748073</th>\n",
        "      <td>                                 YAKI NORI SHEETS</td>\n",
        "      <td> ZUCCHINI JAM WITH PISTACHIO &amp; MASTIC (NATURAL)</td>\n",
        "      <td>                          [8909, 8696, 3142, 3087]</td>\n",
        "      <td> NaN</td>\n",
        "    </tr>\n",
        "    <tr>\n",
        "      <th>3748074</th>\n",
        "      <td>                                    YELLOW APPLES</td>\n",
        "      <td> ZUCCHINI JAM WITH PISTACHIO &amp; MASTIC (NATURAL)</td>\n",
        "      <td> [8909, 8696, 10316, 10203, 9983, 9946, 9884, 9...</td>\n",
        "      <td> NaN</td>\n",
        "    </tr>\n",
        "    <tr>\n",
        "      <th>3748075</th>\n",
        "      <td>                                  YELLOW BROCCOLI</td>\n",
        "      <td> ZUCCHINI JAM WITH PISTACHIO &amp; MASTIC (NATURAL)</td>\n",
        "      <td>                          [8909, 8696, 1632, 1559]</td>\n",
        "      <td> NaN</td>\n",
        "    </tr>\n",
        "    <tr>\n",
        "      <th>3748076</th>\n",
        "      <td>                YELLOW CAPSICUM ( CHEMICAL FREE )</td>\n",
        "      <td> ZUCCHINI JAM WITH PISTACHIO &amp; MASTIC (NATURAL)</td>\n",
        "      <td>                                [8909, 8696, 3319]</td>\n",
        "      <td> NaN</td>\n",
        "    </tr>\n",
        "    <tr>\n",
        "      <th>3748077</th>\n",
        "      <td>                  YELLOW CARROT ( CHEMICAL FREE )</td>\n",
        "      <td> ZUCCHINI JAM WITH PISTACHIO &amp; MASTIC (NATURAL)</td>\n",
        "      <td> [8909, 8696, 8657, 8487, 8447, 8440, 8416, 840...</td>\n",
        "      <td> NaN</td>\n",
        "    </tr>\n",
        "    <tr>\n",
        "      <th>3748078</th>\n",
        "      <td>                                   YELLOW CARROTS</td>\n",
        "      <td> ZUCCHINI JAM WITH PISTACHIO &amp; MASTIC (NATURAL)</td>\n",
        "      <td> [8909, 8696, 10085, 10082, 10065, 9919, 9819, ...</td>\n",
        "      <td> NaN</td>\n",
        "    </tr>\n",
        "    <tr>\n",
        "      <th>3748079</th>\n",
        "      <td>                           YELLOW CHERRY TOMATOES</td>\n",
        "      <td> ZUCCHINI JAM WITH PISTACHIO &amp; MASTIC (NATURAL)</td>\n",
        "      <td> [8909, 8696, 2493, 2489, 2484, 2461, 2438, 241...</td>\n",
        "      <td> NaN</td>\n",
        "    </tr>\n",
        "    <tr>\n",
        "      <th>3748080</th>\n",
        "      <td>                                YELLOW GRAPEFRUIT</td>\n",
        "      <td> ZUCCHINI JAM WITH PISTACHIO &amp; MASTIC (NATURAL)</td>\n",
        "      <td> [8909, 8696, 10204, 9969, 9968, 9946, 9501, 94...</td>\n",
        "      <td> NaN</td>\n",
        "    </tr>\n",
        "    <tr>\n",
        "      <th>3748081</th>\n",
        "      <td>                                   YELLOW MUSTARD</td>\n",
        "      <td> ZUCCHINI JAM WITH PISTACHIO &amp; MASTIC (NATURAL)</td>\n",
        "      <td>     [8909, 8696, 10218, 10142, 10024, 9989, 9965]</td>\n",
        "      <td> NaN</td>\n",
        "    </tr>\n",
        "    <tr>\n",
        "      <th>3748082</th>\n",
        "      <td>                  YELLOW ONIONS ( CHEMICAL FREE )</td>\n",
        "      <td> ZUCCHINI JAM WITH PISTACHIO &amp; MASTIC (NATURAL)</td>\n",
        "      <td>        [8909, 8696, 4200, 4130, 4129, 4090, 4062]</td>\n",
        "      <td> NaN</td>\n",
        "    </tr>\n",
        "    <tr>\n",
        "      <th>3748083</th>\n",
        "      <td>                                YELLOW SPLIT PEAS</td>\n",
        "      <td> ZUCCHINI JAM WITH PISTACHIO &amp; MASTIC (NATURAL)</td>\n",
        "      <td>  [8909, 8696, 2439, 2126, 1752, 1722, 1570, 1505]</td>\n",
        "      <td> NaN</td>\n",
        "    </tr>\n",
        "    <tr>\n",
        "      <th>3748084</th>\n",
        "      <td>                         YELLOW SPLIT PEAS - 822G</td>\n",
        "      <td> ZUCCHINI JAM WITH PISTACHIO &amp; MASTIC (NATURAL)</td>\n",
        "      <td>                                [8909, 8696, 2923]</td>\n",
        "      <td> NaN</td>\n",
        "    </tr>\n",
        "    <tr>\n",
        "      <th>3748085</th>\n",
        "      <td>                                YELLOW WATERMELON</td>\n",
        "      <td> ZUCCHINI JAM WITH PISTACHIO &amp; MASTIC (NATURAL)</td>\n",
        "      <td>                          [8909, 8696, 8840, 8624]</td>\n",
        "      <td> NaN</td>\n",
        "    </tr>\n",
        "    <tr>\n",
        "      <th>3748086</th>\n",
        "      <td>                       YING/YANG FACIAL ACNE SOAP</td>\n",
        "      <td> ZUCCHINI JAM WITH PISTACHIO &amp; MASTIC (NATURAL)</td>\n",
        "      <td>                                [8909, 8696, 4596]</td>\n",
        "      <td> NaN</td>\n",
        "    </tr>\n",
        "    <tr>\n",
        "      <th>3748087</th>\n",
        "      <td>                              YOUSSFI (TANGERINE)</td>\n",
        "      <td> ZUCCHINI JAM WITH PISTACHIO &amp; MASTIC (NATURAL)</td>\n",
        "      <td> [8909, 8696, 9813, 9808, 9731, 9694, 9693, 967...</td>\n",
        "      <td> NaN</td>\n",
        "    </tr>\n",
        "    <tr>\n",
        "      <th>3748088</th>\n",
        "      <td>                     ZARDA EXTRA VIRGIN OLIVE OIL</td>\n",
        "      <td> ZUCCHINI JAM WITH PISTACHIO &amp; MASTIC (NATURAL)</td>\n",
        "      <td>                                [8909, 8696, 3137]</td>\n",
        "      <td> NaN</td>\n",
        "    </tr>\n",
        "    <tr>\n",
        "      <th>3748089</th>\n",
        "      <td>                                         ZUCCHINI</td>\n",
        "      <td> ZUCCHINI JAM WITH PISTACHIO &amp; MASTIC (NATURAL)</td>\n",
        "      <td> [8909, 8696, 9861, 9804, 9803, 9796, 9793, 978...</td>\n",
        "      <td> NaN</td>\n",
        "    </tr>\n",
        "    <tr>\n",
        "      <th>3748090</th>\n",
        "      <td>                       ZUCCHINI ( CHEMICAL FREE )</td>\n",
        "      <td> ZUCCHINI JAM WITH PISTACHIO &amp; MASTIC (NATURAL)</td>\n",
        "      <td> [8909, 8696, 7988, 7985, 7980, 7967, 7932, 792...</td>\n",
        "      <td> NaN</td>\n",
        "    </tr>\n",
        "    <tr>\n",
        "      <th>3748091</th>\n",
        "      <td>                         ZUCCHINI (CHEMICAL FREE)</td>\n",
        "      <td> ZUCCHINI JAM WITH PISTACHIO &amp; MASTIC (NATURAL)</td>\n",
        "      <td> [8909, 8696, 10355, 10351, 10320, 10316, 10295...</td>\n",
        "      <td> NaN</td>\n",
        "    </tr>\n",
        "    <tr>\n",
        "      <th>3748092</th>\n",
        "      <td>                               ZUCCHINI (ORGANIC)</td>\n",
        "      <td> ZUCCHINI JAM WITH PISTACHIO &amp; MASTIC (NATURAL)</td>\n",
        "      <td> [8909, 8696, 10321, 10306, 10218, 10213, 9474,...</td>\n",
        "      <td> NaN</td>\n",
        "    </tr>\n",
        "    <tr>\n",
        "      <th>3748093</th>\n",
        "      <td>                                 ZUCCHINI FLOWERS</td>\n",
        "      <td> ZUCCHINI JAM WITH PISTACHIO &amp; MASTIC (NATURAL)</td>\n",
        "      <td> [8909, 8696, 7411, 6501, 6483, 5413B, 5413A, 5...</td>\n",
        "      <td> NaN</td>\n",
        "    </tr>\n",
        "    <tr>\n",
        "      <th>3748094</th>\n",
        "      <td>                 ZUCCHINI FLOWERS (CHEMICAL FREE)</td>\n",
        "      <td> ZUCCHINI JAM WITH PISTACHIO &amp; MASTIC (NATURAL)</td>\n",
        "      <td> [8909, 8696, 8216, 8200, 8082, 8060, 8019, 798...</td>\n",
        "      <td> NaN</td>\n",
        "    </tr>\n",
        "    <tr>\n",
        "      <th>3748095</th>\n",
        "      <td>   ZUCCHINI JAM WITH PISTACHIO &amp; MASTIC (NATURAL)</td>\n",
        "      <td> ZUCCHINI JAM WITH PISTACHIO &amp; MASTIC (NATURAL)</td>\n",
        "      <td>                          [8909, 8696, 8909, 8696]</td>\n",
        "      <td> NaN</td>\n",
        "    </tr>\n",
        "  </tbody>\n",
        "</table>\n",
        "<p>3748096 rows \u00d7 4 columns</p>\n",
        "</div>"
       ],
       "metadata": {},
       "output_type": "pyout",
       "prompt_number": 9,
       "text": [
        "                                                 Product1  \\\n",
        "0                                            7 GRAIN MILK   \n",
        "1                                    7 GRAIN MILK - 946ML   \n",
        "2                                        ACAI BERRY JUICE   \n",
        "3                                        ACNE FACIAL SOAP   \n",
        "4                                 ACQUA PANA WATER 1000ML   \n",
        "5                                  ACQUA PANA WATER 500ML   \n",
        "6                            ACQUA PANA WATER 500ML GLASS   \n",
        "7                   ACTIBIF CHEESE (FOR BETTER DIGESTION)   \n",
        "8                AGAR AGAR FLAKES (HAND HARVESTED) - WILD   \n",
        "9                ALL PURPOSE BAKING FLOUR ( GLUTEN FREE )   \n",
        "10        ALL PURPOSE BAKING FLOUR ( GLUTEN FREE ) - 623G   \n",
        "11                 ALL PURPOSE BAKING FLOUR (GLUTEN FREE)   \n",
        "12       ALMOND BISCOTTI (GLUTEN FREE) - TRACES OF GLUTEN   \n",
        "13       ALMOND BISCUTIS (GLUTEN FREE) - TRACES OF GLUTEN   \n",
        "14                             ALMOND BREAD (GLUTEN FREE)   \n",
        "15                                          ALMOND BUTTER   \n",
        "16                              ALMOND BUTTER (HOME-MADE)   \n",
        "17                                ALMOND BUTTER (NATURAL)   \n",
        "18            ALMOND BUTTER WITH CINAMON RAISIN (NATURAL)   \n",
        "19                                      ALMOND MEAL FLOUR   \n",
        "20                                            ALMOND MILK   \n",
        "21                                ALMOND MILK ( ORGANIC )   \n",
        "22                          ALMOND MILK ( ORGANIC ) 946ML   \n",
        "23                               ALMOND MILK ( ORIGINAL )   \n",
        "24                     ALMOND MILK (ORGANIC) - SUGAR-FREE   \n",
        "25                              ALMOND MILK (UNSWEETENED)   \n",
        "26                                    ALMOND MILK - 946ML   \n",
        "27                             ALMOND ORIGINAL (ORIGINAL)   \n",
        "28                           ALMOND'S AND OATS BODY SCRUB   \n",
        "29                    ALMONDS SHELL ON - ROASTED & SALTED   \n",
        "...                                                   ...   \n",
        "3748066                               WILD SHRIMP (LARGE)   \n",
        "3748067                              WILD SHRIMP (MEDIUM)   \n",
        "3748068                               WILD SHRIMP (SMALL)   \n",
        "3748069                        WILD THYME (CHEMICAL FREE)   \n",
        "3748070                         WILD YELLOW FINTUNA STEAK   \n",
        "3748071                              WORMWOOD HERB POWDER   \n",
        "3748072                         XANTHAN GUM (GLUTEN FREE)   \n",
        "3748073                                  YAKI NORI SHEETS   \n",
        "3748074                                     YELLOW APPLES   \n",
        "3748075                                   YELLOW BROCCOLI   \n",
        "3748076                 YELLOW CAPSICUM ( CHEMICAL FREE )   \n",
        "3748077                   YELLOW CARROT ( CHEMICAL FREE )   \n",
        "3748078                                    YELLOW CARROTS   \n",
        "3748079                            YELLOW CHERRY TOMATOES   \n",
        "3748080                                 YELLOW GRAPEFRUIT   \n",
        "3748081                                    YELLOW MUSTARD   \n",
        "3748082                   YELLOW ONIONS ( CHEMICAL FREE )   \n",
        "3748083                                 YELLOW SPLIT PEAS   \n",
        "3748084                          YELLOW SPLIT PEAS - 822G   \n",
        "3748085                                 YELLOW WATERMELON   \n",
        "3748086                        YING/YANG FACIAL ACNE SOAP   \n",
        "3748087                               YOUSSFI (TANGERINE)   \n",
        "3748088                      ZARDA EXTRA VIRGIN OLIVE OIL   \n",
        "3748089                                          ZUCCHINI   \n",
        "3748090                        ZUCCHINI ( CHEMICAL FREE )   \n",
        "3748091                          ZUCCHINI (CHEMICAL FREE)   \n",
        "3748092                                ZUCCHINI (ORGANIC)   \n",
        "3748093                                  ZUCCHINI FLOWERS   \n",
        "3748094                  ZUCCHINI FLOWERS (CHEMICAL FREE)   \n",
        "3748095    ZUCCHINI JAM WITH PISTACHIO & MASTIC (NATURAL)   \n",
        "\n",
        "                                               Product2  \\\n",
        "0                                          7 GRAIN MILK   \n",
        "1                                          7 GRAIN MILK   \n",
        "2                                          7 GRAIN MILK   \n",
        "3                                          7 GRAIN MILK   \n",
        "4                                          7 GRAIN MILK   \n",
        "5                                          7 GRAIN MILK   \n",
        "6                                          7 GRAIN MILK   \n",
        "7                                          7 GRAIN MILK   \n",
        "8                                          7 GRAIN MILK   \n",
        "9                                          7 GRAIN MILK   \n",
        "10                                         7 GRAIN MILK   \n",
        "11                                         7 GRAIN MILK   \n",
        "12                                         7 GRAIN MILK   \n",
        "13                                         7 GRAIN MILK   \n",
        "14                                         7 GRAIN MILK   \n",
        "15                                         7 GRAIN MILK   \n",
        "16                                         7 GRAIN MILK   \n",
        "17                                         7 GRAIN MILK   \n",
        "18                                         7 GRAIN MILK   \n",
        "19                                         7 GRAIN MILK   \n",
        "20                                         7 GRAIN MILK   \n",
        "21                                         7 GRAIN MILK   \n",
        "22                                         7 GRAIN MILK   \n",
        "23                                         7 GRAIN MILK   \n",
        "24                                         7 GRAIN MILK   \n",
        "25                                         7 GRAIN MILK   \n",
        "26                                         7 GRAIN MILK   \n",
        "27                                         7 GRAIN MILK   \n",
        "28                                         7 GRAIN MILK   \n",
        "29                                         7 GRAIN MILK   \n",
        "...                                                 ...   \n",
        "3748066  ZUCCHINI JAM WITH PISTACHIO & MASTIC (NATURAL)   \n",
        "3748067  ZUCCHINI JAM WITH PISTACHIO & MASTIC (NATURAL)   \n",
        "3748068  ZUCCHINI JAM WITH PISTACHIO & MASTIC (NATURAL)   \n",
        "3748069  ZUCCHINI JAM WITH PISTACHIO & MASTIC (NATURAL)   \n",
        "3748070  ZUCCHINI JAM WITH PISTACHIO & MASTIC (NATURAL)   \n",
        "3748071  ZUCCHINI JAM WITH PISTACHIO & MASTIC (NATURAL)   \n",
        "3748072  ZUCCHINI JAM WITH PISTACHIO & MASTIC (NATURAL)   \n",
        "3748073  ZUCCHINI JAM WITH PISTACHIO & MASTIC (NATURAL)   \n",
        "3748074  ZUCCHINI JAM WITH PISTACHIO & MASTIC (NATURAL)   \n",
        "3748075  ZUCCHINI JAM WITH PISTACHIO & MASTIC (NATURAL)   \n",
        "3748076  ZUCCHINI JAM WITH PISTACHIO & MASTIC (NATURAL)   \n",
        "3748077  ZUCCHINI JAM WITH PISTACHIO & MASTIC (NATURAL)   \n",
        "3748078  ZUCCHINI JAM WITH PISTACHIO & MASTIC (NATURAL)   \n",
        "3748079  ZUCCHINI JAM WITH PISTACHIO & MASTIC (NATURAL)   \n",
        "3748080  ZUCCHINI JAM WITH PISTACHIO & MASTIC (NATURAL)   \n",
        "3748081  ZUCCHINI JAM WITH PISTACHIO & MASTIC (NATURAL)   \n",
        "3748082  ZUCCHINI JAM WITH PISTACHIO & MASTIC (NATURAL)   \n",
        "3748083  ZUCCHINI JAM WITH PISTACHIO & MASTIC (NATURAL)   \n",
        "3748084  ZUCCHINI JAM WITH PISTACHIO & MASTIC (NATURAL)   \n",
        "3748085  ZUCCHINI JAM WITH PISTACHIO & MASTIC (NATURAL)   \n",
        "3748086  ZUCCHINI JAM WITH PISTACHIO & MASTIC (NATURAL)   \n",
        "3748087  ZUCCHINI JAM WITH PISTACHIO & MASTIC (NATURAL)   \n",
        "3748088  ZUCCHINI JAM WITH PISTACHIO & MASTIC (NATURAL)   \n",
        "3748089  ZUCCHINI JAM WITH PISTACHIO & MASTIC (NATURAL)   \n",
        "3748090  ZUCCHINI JAM WITH PISTACHIO & MASTIC (NATURAL)   \n",
        "3748091  ZUCCHINI JAM WITH PISTACHIO & MASTIC (NATURAL)   \n",
        "3748092  ZUCCHINI JAM WITH PISTACHIO & MASTIC (NATURAL)   \n",
        "3748093  ZUCCHINI JAM WITH PISTACHIO & MASTIC (NATURAL)   \n",
        "3748094  ZUCCHINI JAM WITH PISTACHIO & MASTIC (NATURAL)   \n",
        "3748095  ZUCCHINI JAM WITH PISTACHIO & MASTIC (NATURAL)   \n",
        "\n",
        "                                                      Name Count  \n",
        "0        [2498, 2486, 2467, 2461, 2418, 2367, 2253, 225...   NaN  \n",
        "1        [2498, 2486, 2467, 2461, 2418, 2367, 2253, 225...   NaN  \n",
        "2        [2498, 2486, 2467, 2461, 2418, 2367, 2253, 225...   NaN  \n",
        "3        [2498, 2486, 2467, 2461, 2418, 2367, 2253, 225...   NaN  \n",
        "4        [2498, 2486, 2467, 2461, 2418, 2367, 2253, 225...   NaN  \n",
        "5        [2498, 2486, 2467, 2461, 2418, 2367, 2253, 225...   NaN  \n",
        "6        [2498, 2486, 2467, 2461, 2418, 2367, 2253, 225...   NaN  \n",
        "7        [2498, 2486, 2467, 2461, 2418, 2367, 2253, 225...   NaN  \n",
        "8        [2498, 2486, 2467, 2461, 2418, 2367, 2253, 225...   NaN  \n",
        "9        [2498, 2486, 2467, 2461, 2418, 2367, 2253, 225...   NaN  \n",
        "10       [2498, 2486, 2467, 2461, 2418, 2367, 2253, 225...   NaN  \n",
        "11       [2498, 2486, 2467, 2461, 2418, 2367, 2253, 225...   NaN  \n",
        "12       [2498, 2486, 2467, 2461, 2418, 2367, 2253, 225...   NaN  \n",
        "13       [2498, 2486, 2467, 2461, 2418, 2367, 2253, 225...   NaN  \n",
        "14       [2498, 2486, 2467, 2461, 2418, 2367, 2253, 225...   NaN  \n",
        "15       [2498, 2486, 2467, 2461, 2418, 2367, 2253, 225...   NaN  \n",
        "16       [2498, 2486, 2467, 2461, 2418, 2367, 2253, 225...   NaN  \n",
        "17       [2498, 2486, 2467, 2461, 2418, 2367, 2253, 225...   NaN  \n",
        "18       [2498, 2486, 2467, 2461, 2418, 2367, 2253, 225...   NaN  \n",
        "19       [2498, 2486, 2467, 2461, 2418, 2367, 2253, 225...   NaN  \n",
        "20       [2498, 2486, 2467, 2461, 2418, 2367, 2253, 225...   NaN  \n",
        "21       [2498, 2486, 2467, 2461, 2418, 2367, 2253, 225...   NaN  \n",
        "22       [2498, 2486, 2467, 2461, 2418, 2367, 2253, 225...   NaN  \n",
        "23       [2498, 2486, 2467, 2461, 2418, 2367, 2253, 225...   NaN  \n",
        "24       [2498, 2486, 2467, 2461, 2418, 2367, 2253, 225...   NaN  \n",
        "25       [2498, 2486, 2467, 2461, 2418, 2367, 2253, 225...   NaN  \n",
        "26       [2498, 2486, 2467, 2461, 2418, 2367, 2253, 225...   NaN  \n",
        "27       [2498, 2486, 2467, 2461, 2418, 2367, 2253, 225...   NaN  \n",
        "28       [2498, 2486, 2467, 2461, 2418, 2367, 2253, 225...   NaN  \n",
        "29       [2498, 2486, 2467, 2461, 2418, 2367, 2253, 225...   NaN  \n",
        "...                                                    ...   ...  \n",
        "3748066                                 [8909, 8696, 9963]   NaN  \n",
        "3748067  [8909, 8696, 10303, 10263, 10260, 10232, 10198...   NaN  \n",
        "3748068  [8909, 8696, 10362, 10329, 10261, 10143, 10094...   NaN  \n",
        "3748069  [8909, 8696, 9977, 9542, 9468, 9319, 9014, 867...   NaN  \n",
        "3748070                                [8909, 8696, 10265]   NaN  \n",
        "3748071                                 [8909, 8696, 2389]   NaN  \n",
        "3748072  [8909, 8696, 10027, 10022, 9943, 9921, 9810, 9...   NaN  \n",
        "3748073                           [8909, 8696, 3142, 3087]   NaN  \n",
        "3748074  [8909, 8696, 10316, 10203, 9983, 9946, 9884, 9...   NaN  \n",
        "3748075                           [8909, 8696, 1632, 1559]   NaN  \n",
        "3748076                                 [8909, 8696, 3319]   NaN  \n",
        "3748077  [8909, 8696, 8657, 8487, 8447, 8440, 8416, 840...   NaN  \n",
        "3748078  [8909, 8696, 10085, 10082, 10065, 9919, 9819, ...   NaN  \n",
        "3748079  [8909, 8696, 2493, 2489, 2484, 2461, 2438, 241...   NaN  \n",
        "3748080  [8909, 8696, 10204, 9969, 9968, 9946, 9501, 94...   NaN  \n",
        "3748081      [8909, 8696, 10218, 10142, 10024, 9989, 9965]   NaN  \n",
        "3748082         [8909, 8696, 4200, 4130, 4129, 4090, 4062]   NaN  \n",
        "3748083   [8909, 8696, 2439, 2126, 1752, 1722, 1570, 1505]   NaN  \n",
        "3748084                                 [8909, 8696, 2923]   NaN  \n",
        "3748085                           [8909, 8696, 8840, 8624]   NaN  \n",
        "3748086                                 [8909, 8696, 4596]   NaN  \n",
        "3748087  [8909, 8696, 9813, 9808, 9731, 9694, 9693, 967...   NaN  \n",
        "3748088                                 [8909, 8696, 3137]   NaN  \n",
        "3748089  [8909, 8696, 9861, 9804, 9803, 9796, 9793, 978...   NaN  \n",
        "3748090  [8909, 8696, 7988, 7985, 7980, 7967, 7932, 792...   NaN  \n",
        "3748091  [8909, 8696, 10355, 10351, 10320, 10316, 10295...   NaN  \n",
        "3748092  [8909, 8696, 10321, 10306, 10218, 10213, 9474,...   NaN  \n",
        "3748093  [8909, 8696, 7411, 6501, 6483, 5413B, 5413A, 5...   NaN  \n",
        "3748094  [8909, 8696, 8216, 8200, 8082, 8060, 8019, 798...   NaN  \n",
        "3748095                           [8909, 8696, 8909, 8696]   NaN  \n",
        "\n",
        "[3748096 rows x 4 columns]"
       ]
      }
     ],
     "prompt_number": 9
    },
    {
     "cell_type": "code",
     "collapsed": false,
     "input": [
      "df1 = df1[df1.Product1 != df1.Product2]  # remove the rows whose product1 and product2 rows are same\n",
      "df1"
     ],
     "language": "python",
     "metadata": {},
     "outputs": [
      {
       "html": [
        "<div style=\"max-height:1000px;max-width:1500px;overflow:auto;\">\n",
        "<table border=\"1\" class=\"dataframe\">\n",
        "  <thead>\n",
        "    <tr style=\"text-align: right;\">\n",
        "      <th></th>\n",
        "      <th>Product1</th>\n",
        "      <th>Product2</th>\n",
        "      <th>Name</th>\n",
        "      <th>Count</th>\n",
        "    </tr>\n",
        "  </thead>\n",
        "  <tbody>\n",
        "    <tr>\n",
        "      <th>1      </th>\n",
        "      <td>                             7 GRAIN MILK - 946ML</td>\n",
        "      <td>                                   7 GRAIN MILK</td>\n",
        "      <td> [2498, 2486, 2467, 2461, 2418, 2367, 2253, 225...</td>\n",
        "      <td> NaN</td>\n",
        "    </tr>\n",
        "    <tr>\n",
        "      <th>2      </th>\n",
        "      <td>                                 ACAI BERRY JUICE</td>\n",
        "      <td>                                   7 GRAIN MILK</td>\n",
        "      <td> [2498, 2486, 2467, 2461, 2418, 2367, 2253, 225...</td>\n",
        "      <td> NaN</td>\n",
        "    </tr>\n",
        "    <tr>\n",
        "      <th>3      </th>\n",
        "      <td>                                 ACNE FACIAL SOAP</td>\n",
        "      <td>                                   7 GRAIN MILK</td>\n",
        "      <td> [2498, 2486, 2467, 2461, 2418, 2367, 2253, 225...</td>\n",
        "      <td> NaN</td>\n",
        "    </tr>\n",
        "    <tr>\n",
        "      <th>4      </th>\n",
        "      <td>                          ACQUA PANA WATER 1000ML</td>\n",
        "      <td>                                   7 GRAIN MILK</td>\n",
        "      <td> [2498, 2486, 2467, 2461, 2418, 2367, 2253, 225...</td>\n",
        "      <td> NaN</td>\n",
        "    </tr>\n",
        "    <tr>\n",
        "      <th>5      </th>\n",
        "      <td>                           ACQUA PANA WATER 500ML</td>\n",
        "      <td>                                   7 GRAIN MILK</td>\n",
        "      <td> [2498, 2486, 2467, 2461, 2418, 2367, 2253, 225...</td>\n",
        "      <td> NaN</td>\n",
        "    </tr>\n",
        "    <tr>\n",
        "      <th>6      </th>\n",
        "      <td>                     ACQUA PANA WATER 500ML GLASS</td>\n",
        "      <td>                                   7 GRAIN MILK</td>\n",
        "      <td> [2498, 2486, 2467, 2461, 2418, 2367, 2253, 225...</td>\n",
        "      <td> NaN</td>\n",
        "    </tr>\n",
        "    <tr>\n",
        "      <th>7      </th>\n",
        "      <td>            ACTIBIF CHEESE (FOR BETTER DIGESTION)</td>\n",
        "      <td>                                   7 GRAIN MILK</td>\n",
        "      <td> [2498, 2486, 2467, 2461, 2418, 2367, 2253, 225...</td>\n",
        "      <td> NaN</td>\n",
        "    </tr>\n",
        "    <tr>\n",
        "      <th>8      </th>\n",
        "      <td>         AGAR AGAR FLAKES (HAND HARVESTED) - WILD</td>\n",
        "      <td>                                   7 GRAIN MILK</td>\n",
        "      <td> [2498, 2486, 2467, 2461, 2418, 2367, 2253, 225...</td>\n",
        "      <td> NaN</td>\n",
        "    </tr>\n",
        "    <tr>\n",
        "      <th>9      </th>\n",
        "      <td>         ALL PURPOSE BAKING FLOUR ( GLUTEN FREE )</td>\n",
        "      <td>                                   7 GRAIN MILK</td>\n",
        "      <td> [2498, 2486, 2467, 2461, 2418, 2367, 2253, 225...</td>\n",
        "      <td> NaN</td>\n",
        "    </tr>\n",
        "    <tr>\n",
        "      <th>10     </th>\n",
        "      <td>  ALL PURPOSE BAKING FLOUR ( GLUTEN FREE ) - 623G</td>\n",
        "      <td>                                   7 GRAIN MILK</td>\n",
        "      <td> [2498, 2486, 2467, 2461, 2418, 2367, 2253, 225...</td>\n",
        "      <td> NaN</td>\n",
        "    </tr>\n",
        "    <tr>\n",
        "      <th>11     </th>\n",
        "      <td>           ALL PURPOSE BAKING FLOUR (GLUTEN FREE)</td>\n",
        "      <td>                                   7 GRAIN MILK</td>\n",
        "      <td> [2498, 2486, 2467, 2461, 2418, 2367, 2253, 225...</td>\n",
        "      <td> NaN</td>\n",
        "    </tr>\n",
        "    <tr>\n",
        "      <th>12     </th>\n",
        "      <td> ALMOND BISCOTTI (GLUTEN FREE) - TRACES OF GLUTEN</td>\n",
        "      <td>                                   7 GRAIN MILK</td>\n",
        "      <td> [2498, 2486, 2467, 2461, 2418, 2367, 2253, 225...</td>\n",
        "      <td> NaN</td>\n",
        "    </tr>\n",
        "    <tr>\n",
        "      <th>13     </th>\n",
        "      <td> ALMOND BISCUTIS (GLUTEN FREE) - TRACES OF GLUTEN</td>\n",
        "      <td>                                   7 GRAIN MILK</td>\n",
        "      <td> [2498, 2486, 2467, 2461, 2418, 2367, 2253, 225...</td>\n",
        "      <td> NaN</td>\n",
        "    </tr>\n",
        "    <tr>\n",
        "      <th>14     </th>\n",
        "      <td>                       ALMOND BREAD (GLUTEN FREE)</td>\n",
        "      <td>                                   7 GRAIN MILK</td>\n",
        "      <td> [2498, 2486, 2467, 2461, 2418, 2367, 2253, 225...</td>\n",
        "      <td> NaN</td>\n",
        "    </tr>\n",
        "    <tr>\n",
        "      <th>15     </th>\n",
        "      <td>                                    ALMOND BUTTER</td>\n",
        "      <td>                                   7 GRAIN MILK</td>\n",
        "      <td> [2498, 2486, 2467, 2461, 2418, 2367, 2253, 225...</td>\n",
        "      <td> NaN</td>\n",
        "    </tr>\n",
        "    <tr>\n",
        "      <th>16     </th>\n",
        "      <td>                        ALMOND BUTTER (HOME-MADE)</td>\n",
        "      <td>                                   7 GRAIN MILK</td>\n",
        "      <td> [2498, 2486, 2467, 2461, 2418, 2367, 2253, 225...</td>\n",
        "      <td> NaN</td>\n",
        "    </tr>\n",
        "    <tr>\n",
        "      <th>17     </th>\n",
        "      <td>                          ALMOND BUTTER (NATURAL)</td>\n",
        "      <td>                                   7 GRAIN MILK</td>\n",
        "      <td> [2498, 2486, 2467, 2461, 2418, 2367, 2253, 225...</td>\n",
        "      <td> NaN</td>\n",
        "    </tr>\n",
        "    <tr>\n",
        "      <th>18     </th>\n",
        "      <td>      ALMOND BUTTER WITH CINAMON RAISIN (NATURAL)</td>\n",
        "      <td>                                   7 GRAIN MILK</td>\n",
        "      <td> [2498, 2486, 2467, 2461, 2418, 2367, 2253, 225...</td>\n",
        "      <td> NaN</td>\n",
        "    </tr>\n",
        "    <tr>\n",
        "      <th>19     </th>\n",
        "      <td>                                ALMOND MEAL FLOUR</td>\n",
        "      <td>                                   7 GRAIN MILK</td>\n",
        "      <td> [2498, 2486, 2467, 2461, 2418, 2367, 2253, 225...</td>\n",
        "      <td> NaN</td>\n",
        "    </tr>\n",
        "    <tr>\n",
        "      <th>20     </th>\n",
        "      <td>                                      ALMOND MILK</td>\n",
        "      <td>                                   7 GRAIN MILK</td>\n",
        "      <td> [2498, 2486, 2467, 2461, 2418, 2367, 2253, 225...</td>\n",
        "      <td> NaN</td>\n",
        "    </tr>\n",
        "    <tr>\n",
        "      <th>21     </th>\n",
        "      <td>                          ALMOND MILK ( ORGANIC )</td>\n",
        "      <td>                                   7 GRAIN MILK</td>\n",
        "      <td> [2498, 2486, 2467, 2461, 2418, 2367, 2253, 225...</td>\n",
        "      <td> NaN</td>\n",
        "    </tr>\n",
        "    <tr>\n",
        "      <th>22     </th>\n",
        "      <td>                    ALMOND MILK ( ORGANIC ) 946ML</td>\n",
        "      <td>                                   7 GRAIN MILK</td>\n",
        "      <td> [2498, 2486, 2467, 2461, 2418, 2367, 2253, 225...</td>\n",
        "      <td> NaN</td>\n",
        "    </tr>\n",
        "    <tr>\n",
        "      <th>23     </th>\n",
        "      <td>                         ALMOND MILK ( ORIGINAL )</td>\n",
        "      <td>                                   7 GRAIN MILK</td>\n",
        "      <td> [2498, 2486, 2467, 2461, 2418, 2367, 2253, 225...</td>\n",
        "      <td> NaN</td>\n",
        "    </tr>\n",
        "    <tr>\n",
        "      <th>24     </th>\n",
        "      <td>               ALMOND MILK (ORGANIC) - SUGAR-FREE</td>\n",
        "      <td>                                   7 GRAIN MILK</td>\n",
        "      <td> [2498, 2486, 2467, 2461, 2418, 2367, 2253, 225...</td>\n",
        "      <td> NaN</td>\n",
        "    </tr>\n",
        "    <tr>\n",
        "      <th>25     </th>\n",
        "      <td>                        ALMOND MILK (UNSWEETENED)</td>\n",
        "      <td>                                   7 GRAIN MILK</td>\n",
        "      <td> [2498, 2486, 2467, 2461, 2418, 2367, 2253, 225...</td>\n",
        "      <td> NaN</td>\n",
        "    </tr>\n",
        "    <tr>\n",
        "      <th>26     </th>\n",
        "      <td>                              ALMOND MILK - 946ML</td>\n",
        "      <td>                                   7 GRAIN MILK</td>\n",
        "      <td> [2498, 2486, 2467, 2461, 2418, 2367, 2253, 225...</td>\n",
        "      <td> NaN</td>\n",
        "    </tr>\n",
        "    <tr>\n",
        "      <th>27     </th>\n",
        "      <td>                       ALMOND ORIGINAL (ORIGINAL)</td>\n",
        "      <td>                                   7 GRAIN MILK</td>\n",
        "      <td> [2498, 2486, 2467, 2461, 2418, 2367, 2253, 225...</td>\n",
        "      <td> NaN</td>\n",
        "    </tr>\n",
        "    <tr>\n",
        "      <th>28     </th>\n",
        "      <td>                     ALMOND'S AND OATS BODY SCRUB</td>\n",
        "      <td>                                   7 GRAIN MILK</td>\n",
        "      <td> [2498, 2486, 2467, 2461, 2418, 2367, 2253, 225...</td>\n",
        "      <td> NaN</td>\n",
        "    </tr>\n",
        "    <tr>\n",
        "      <th>29     </th>\n",
        "      <td>              ALMONDS SHELL ON - ROASTED &amp; SALTED</td>\n",
        "      <td>                                   7 GRAIN MILK</td>\n",
        "      <td> [2498, 2486, 2467, 2461, 2418, 2367, 2253, 225...</td>\n",
        "      <td> NaN</td>\n",
        "    </tr>\n",
        "    <tr>\n",
        "      <th>30     </th>\n",
        "      <td>                                         AMARANTH</td>\n",
        "      <td>                                   7 GRAIN MILK</td>\n",
        "      <td> [2498, 2486, 2467, 2461, 2418, 2367, 2253, 225...</td>\n",
        "      <td> NaN</td>\n",
        "    </tr>\n",
        "    <tr>\n",
        "      <th>...</th>\n",
        "      <td>...</td>\n",
        "      <td>...</td>\n",
        "      <td>...</td>\n",
        "      <td>...</td>\n",
        "    </tr>\n",
        "    <tr>\n",
        "      <th>3748065</th>\n",
        "      <td>                                    WILD SARDINES</td>\n",
        "      <td> ZUCCHINI JAM WITH PISTACHIO &amp; MASTIC (NATURAL)</td>\n",
        "      <td> [8909, 8696, 10351, 10250, 10212, 10055, 9991,...</td>\n",
        "      <td> NaN</td>\n",
        "    </tr>\n",
        "    <tr>\n",
        "      <th>3748066</th>\n",
        "      <td>                              WILD SHRIMP (LARGE)</td>\n",
        "      <td> ZUCCHINI JAM WITH PISTACHIO &amp; MASTIC (NATURAL)</td>\n",
        "      <td>                                [8909, 8696, 9963]</td>\n",
        "      <td> NaN</td>\n",
        "    </tr>\n",
        "    <tr>\n",
        "      <th>3748067</th>\n",
        "      <td>                             WILD SHRIMP (MEDIUM)</td>\n",
        "      <td> ZUCCHINI JAM WITH PISTACHIO &amp; MASTIC (NATURAL)</td>\n",
        "      <td> [8909, 8696, 10303, 10263, 10260, 10232, 10198...</td>\n",
        "      <td> NaN</td>\n",
        "    </tr>\n",
        "    <tr>\n",
        "      <th>3748068</th>\n",
        "      <td>                              WILD SHRIMP (SMALL)</td>\n",
        "      <td> ZUCCHINI JAM WITH PISTACHIO &amp; MASTIC (NATURAL)</td>\n",
        "      <td> [8909, 8696, 10362, 10329, 10261, 10143, 10094...</td>\n",
        "      <td> NaN</td>\n",
        "    </tr>\n",
        "    <tr>\n",
        "      <th>3748069</th>\n",
        "      <td>                       WILD THYME (CHEMICAL FREE)</td>\n",
        "      <td> ZUCCHINI JAM WITH PISTACHIO &amp; MASTIC (NATURAL)</td>\n",
        "      <td> [8909, 8696, 9977, 9542, 9468, 9319, 9014, 867...</td>\n",
        "      <td> NaN</td>\n",
        "    </tr>\n",
        "    <tr>\n",
        "      <th>3748070</th>\n",
        "      <td>                        WILD YELLOW FINTUNA STEAK</td>\n",
        "      <td> ZUCCHINI JAM WITH PISTACHIO &amp; MASTIC (NATURAL)</td>\n",
        "      <td>                               [8909, 8696, 10265]</td>\n",
        "      <td> NaN</td>\n",
        "    </tr>\n",
        "    <tr>\n",
        "      <th>3748071</th>\n",
        "      <td>                             WORMWOOD HERB POWDER</td>\n",
        "      <td> ZUCCHINI JAM WITH PISTACHIO &amp; MASTIC (NATURAL)</td>\n",
        "      <td>                                [8909, 8696, 2389]</td>\n",
        "      <td> NaN</td>\n",
        "    </tr>\n",
        "    <tr>\n",
        "      <th>3748072</th>\n",
        "      <td>                        XANTHAN GUM (GLUTEN FREE)</td>\n",
        "      <td> ZUCCHINI JAM WITH PISTACHIO &amp; MASTIC (NATURAL)</td>\n",
        "      <td> [8909, 8696, 10027, 10022, 9943, 9921, 9810, 9...</td>\n",
        "      <td> NaN</td>\n",
        "    </tr>\n",
        "    <tr>\n",
        "      <th>3748073</th>\n",
        "      <td>                                 YAKI NORI SHEETS</td>\n",
        "      <td> ZUCCHINI JAM WITH PISTACHIO &amp; MASTIC (NATURAL)</td>\n",
        "      <td>                          [8909, 8696, 3142, 3087]</td>\n",
        "      <td> NaN</td>\n",
        "    </tr>\n",
        "    <tr>\n",
        "      <th>3748074</th>\n",
        "      <td>                                    YELLOW APPLES</td>\n",
        "      <td> ZUCCHINI JAM WITH PISTACHIO &amp; MASTIC (NATURAL)</td>\n",
        "      <td> [8909, 8696, 10316, 10203, 9983, 9946, 9884, 9...</td>\n",
        "      <td> NaN</td>\n",
        "    </tr>\n",
        "    <tr>\n",
        "      <th>3748075</th>\n",
        "      <td>                                  YELLOW BROCCOLI</td>\n",
        "      <td> ZUCCHINI JAM WITH PISTACHIO &amp; MASTIC (NATURAL)</td>\n",
        "      <td>                          [8909, 8696, 1632, 1559]</td>\n",
        "      <td> NaN</td>\n",
        "    </tr>\n",
        "    <tr>\n",
        "      <th>3748076</th>\n",
        "      <td>                YELLOW CAPSICUM ( CHEMICAL FREE )</td>\n",
        "      <td> ZUCCHINI JAM WITH PISTACHIO &amp; MASTIC (NATURAL)</td>\n",
        "      <td>                                [8909, 8696, 3319]</td>\n",
        "      <td> NaN</td>\n",
        "    </tr>\n",
        "    <tr>\n",
        "      <th>3748077</th>\n",
        "      <td>                  YELLOW CARROT ( CHEMICAL FREE )</td>\n",
        "      <td> ZUCCHINI JAM WITH PISTACHIO &amp; MASTIC (NATURAL)</td>\n",
        "      <td> [8909, 8696, 8657, 8487, 8447, 8440, 8416, 840...</td>\n",
        "      <td> NaN</td>\n",
        "    </tr>\n",
        "    <tr>\n",
        "      <th>3748078</th>\n",
        "      <td>                                   YELLOW CARROTS</td>\n",
        "      <td> ZUCCHINI JAM WITH PISTACHIO &amp; MASTIC (NATURAL)</td>\n",
        "      <td> [8909, 8696, 10085, 10082, 10065, 9919, 9819, ...</td>\n",
        "      <td> NaN</td>\n",
        "    </tr>\n",
        "    <tr>\n",
        "      <th>3748079</th>\n",
        "      <td>                           YELLOW CHERRY TOMATOES</td>\n",
        "      <td> ZUCCHINI JAM WITH PISTACHIO &amp; MASTIC (NATURAL)</td>\n",
        "      <td> [8909, 8696, 2493, 2489, 2484, 2461, 2438, 241...</td>\n",
        "      <td> NaN</td>\n",
        "    </tr>\n",
        "    <tr>\n",
        "      <th>3748080</th>\n",
        "      <td>                                YELLOW GRAPEFRUIT</td>\n",
        "      <td> ZUCCHINI JAM WITH PISTACHIO &amp; MASTIC (NATURAL)</td>\n",
        "      <td> [8909, 8696, 10204, 9969, 9968, 9946, 9501, 94...</td>\n",
        "      <td> NaN</td>\n",
        "    </tr>\n",
        "    <tr>\n",
        "      <th>3748081</th>\n",
        "      <td>                                   YELLOW MUSTARD</td>\n",
        "      <td> ZUCCHINI JAM WITH PISTACHIO &amp; MASTIC (NATURAL)</td>\n",
        "      <td>     [8909, 8696, 10218, 10142, 10024, 9989, 9965]</td>\n",
        "      <td> NaN</td>\n",
        "    </tr>\n",
        "    <tr>\n",
        "      <th>3748082</th>\n",
        "      <td>                  YELLOW ONIONS ( CHEMICAL FREE )</td>\n",
        "      <td> ZUCCHINI JAM WITH PISTACHIO &amp; MASTIC (NATURAL)</td>\n",
        "      <td>        [8909, 8696, 4200, 4130, 4129, 4090, 4062]</td>\n",
        "      <td> NaN</td>\n",
        "    </tr>\n",
        "    <tr>\n",
        "      <th>3748083</th>\n",
        "      <td>                                YELLOW SPLIT PEAS</td>\n",
        "      <td> ZUCCHINI JAM WITH PISTACHIO &amp; MASTIC (NATURAL)</td>\n",
        "      <td>  [8909, 8696, 2439, 2126, 1752, 1722, 1570, 1505]</td>\n",
        "      <td> NaN</td>\n",
        "    </tr>\n",
        "    <tr>\n",
        "      <th>3748084</th>\n",
        "      <td>                         YELLOW SPLIT PEAS - 822G</td>\n",
        "      <td> ZUCCHINI JAM WITH PISTACHIO &amp; MASTIC (NATURAL)</td>\n",
        "      <td>                                [8909, 8696, 2923]</td>\n",
        "      <td> NaN</td>\n",
        "    </tr>\n",
        "    <tr>\n",
        "      <th>3748085</th>\n",
        "      <td>                                YELLOW WATERMELON</td>\n",
        "      <td> ZUCCHINI JAM WITH PISTACHIO &amp; MASTIC (NATURAL)</td>\n",
        "      <td>                          [8909, 8696, 8840, 8624]</td>\n",
        "      <td> NaN</td>\n",
        "    </tr>\n",
        "    <tr>\n",
        "      <th>3748086</th>\n",
        "      <td>                       YING/YANG FACIAL ACNE SOAP</td>\n",
        "      <td> ZUCCHINI JAM WITH PISTACHIO &amp; MASTIC (NATURAL)</td>\n",
        "      <td>                                [8909, 8696, 4596]</td>\n",
        "      <td> NaN</td>\n",
        "    </tr>\n",
        "    <tr>\n",
        "      <th>3748087</th>\n",
        "      <td>                              YOUSSFI (TANGERINE)</td>\n",
        "      <td> ZUCCHINI JAM WITH PISTACHIO &amp; MASTIC (NATURAL)</td>\n",
        "      <td> [8909, 8696, 9813, 9808, 9731, 9694, 9693, 967...</td>\n",
        "      <td> NaN</td>\n",
        "    </tr>\n",
        "    <tr>\n",
        "      <th>3748088</th>\n",
        "      <td>                     ZARDA EXTRA VIRGIN OLIVE OIL</td>\n",
        "      <td> ZUCCHINI JAM WITH PISTACHIO &amp; MASTIC (NATURAL)</td>\n",
        "      <td>                                [8909, 8696, 3137]</td>\n",
        "      <td> NaN</td>\n",
        "    </tr>\n",
        "    <tr>\n",
        "      <th>3748089</th>\n",
        "      <td>                                         ZUCCHINI</td>\n",
        "      <td> ZUCCHINI JAM WITH PISTACHIO &amp; MASTIC (NATURAL)</td>\n",
        "      <td> [8909, 8696, 9861, 9804, 9803, 9796, 9793, 978...</td>\n",
        "      <td> NaN</td>\n",
        "    </tr>\n",
        "    <tr>\n",
        "      <th>3748090</th>\n",
        "      <td>                       ZUCCHINI ( CHEMICAL FREE )</td>\n",
        "      <td> ZUCCHINI JAM WITH PISTACHIO &amp; MASTIC (NATURAL)</td>\n",
        "      <td> [8909, 8696, 7988, 7985, 7980, 7967, 7932, 792...</td>\n",
        "      <td> NaN</td>\n",
        "    </tr>\n",
        "    <tr>\n",
        "      <th>3748091</th>\n",
        "      <td>                         ZUCCHINI (CHEMICAL FREE)</td>\n",
        "      <td> ZUCCHINI JAM WITH PISTACHIO &amp; MASTIC (NATURAL)</td>\n",
        "      <td> [8909, 8696, 10355, 10351, 10320, 10316, 10295...</td>\n",
        "      <td> NaN</td>\n",
        "    </tr>\n",
        "    <tr>\n",
        "      <th>3748092</th>\n",
        "      <td>                               ZUCCHINI (ORGANIC)</td>\n",
        "      <td> ZUCCHINI JAM WITH PISTACHIO &amp; MASTIC (NATURAL)</td>\n",
        "      <td> [8909, 8696, 10321, 10306, 10218, 10213, 9474,...</td>\n",
        "      <td> NaN</td>\n",
        "    </tr>\n",
        "    <tr>\n",
        "      <th>3748093</th>\n",
        "      <td>                                 ZUCCHINI FLOWERS</td>\n",
        "      <td> ZUCCHINI JAM WITH PISTACHIO &amp; MASTIC (NATURAL)</td>\n",
        "      <td> [8909, 8696, 7411, 6501, 6483, 5413B, 5413A, 5...</td>\n",
        "      <td> NaN</td>\n",
        "    </tr>\n",
        "    <tr>\n",
        "      <th>3748094</th>\n",
        "      <td>                 ZUCCHINI FLOWERS (CHEMICAL FREE)</td>\n",
        "      <td> ZUCCHINI JAM WITH PISTACHIO &amp; MASTIC (NATURAL)</td>\n",
        "      <td> [8909, 8696, 8216, 8200, 8082, 8060, 8019, 798...</td>\n",
        "      <td> NaN</td>\n",
        "    </tr>\n",
        "  </tbody>\n",
        "</table>\n",
        "<p>3746160 rows \u00d7 4 columns</p>\n",
        "</div>"
       ],
       "metadata": {},
       "output_type": "pyout",
       "prompt_number": 10,
       "text": [
        "                                                 Product1  \\\n",
        "1                                    7 GRAIN MILK - 946ML   \n",
        "2                                        ACAI BERRY JUICE   \n",
        "3                                        ACNE FACIAL SOAP   \n",
        "4                                 ACQUA PANA WATER 1000ML   \n",
        "5                                  ACQUA PANA WATER 500ML   \n",
        "6                            ACQUA PANA WATER 500ML GLASS   \n",
        "7                   ACTIBIF CHEESE (FOR BETTER DIGESTION)   \n",
        "8                AGAR AGAR FLAKES (HAND HARVESTED) - WILD   \n",
        "9                ALL PURPOSE BAKING FLOUR ( GLUTEN FREE )   \n",
        "10        ALL PURPOSE BAKING FLOUR ( GLUTEN FREE ) - 623G   \n",
        "11                 ALL PURPOSE BAKING FLOUR (GLUTEN FREE)   \n",
        "12       ALMOND BISCOTTI (GLUTEN FREE) - TRACES OF GLUTEN   \n",
        "13       ALMOND BISCUTIS (GLUTEN FREE) - TRACES OF GLUTEN   \n",
        "14                             ALMOND BREAD (GLUTEN FREE)   \n",
        "15                                          ALMOND BUTTER   \n",
        "16                              ALMOND BUTTER (HOME-MADE)   \n",
        "17                                ALMOND BUTTER (NATURAL)   \n",
        "18            ALMOND BUTTER WITH CINAMON RAISIN (NATURAL)   \n",
        "19                                      ALMOND MEAL FLOUR   \n",
        "20                                            ALMOND MILK   \n",
        "21                                ALMOND MILK ( ORGANIC )   \n",
        "22                          ALMOND MILK ( ORGANIC ) 946ML   \n",
        "23                               ALMOND MILK ( ORIGINAL )   \n",
        "24                     ALMOND MILK (ORGANIC) - SUGAR-FREE   \n",
        "25                              ALMOND MILK (UNSWEETENED)   \n",
        "26                                    ALMOND MILK - 946ML   \n",
        "27                             ALMOND ORIGINAL (ORIGINAL)   \n",
        "28                           ALMOND'S AND OATS BODY SCRUB   \n",
        "29                    ALMONDS SHELL ON - ROASTED & SALTED   \n",
        "30                                               AMARANTH   \n",
        "...                                                   ...   \n",
        "3748065                                     WILD SARDINES   \n",
        "3748066                               WILD SHRIMP (LARGE)   \n",
        "3748067                              WILD SHRIMP (MEDIUM)   \n",
        "3748068                               WILD SHRIMP (SMALL)   \n",
        "3748069                        WILD THYME (CHEMICAL FREE)   \n",
        "3748070                         WILD YELLOW FINTUNA STEAK   \n",
        "3748071                              WORMWOOD HERB POWDER   \n",
        "3748072                         XANTHAN GUM (GLUTEN FREE)   \n",
        "3748073                                  YAKI NORI SHEETS   \n",
        "3748074                                     YELLOW APPLES   \n",
        "3748075                                   YELLOW BROCCOLI   \n",
        "3748076                 YELLOW CAPSICUM ( CHEMICAL FREE )   \n",
        "3748077                   YELLOW CARROT ( CHEMICAL FREE )   \n",
        "3748078                                    YELLOW CARROTS   \n",
        "3748079                            YELLOW CHERRY TOMATOES   \n",
        "3748080                                 YELLOW GRAPEFRUIT   \n",
        "3748081                                    YELLOW MUSTARD   \n",
        "3748082                   YELLOW ONIONS ( CHEMICAL FREE )   \n",
        "3748083                                 YELLOW SPLIT PEAS   \n",
        "3748084                          YELLOW SPLIT PEAS - 822G   \n",
        "3748085                                 YELLOW WATERMELON   \n",
        "3748086                        YING/YANG FACIAL ACNE SOAP   \n",
        "3748087                               YOUSSFI (TANGERINE)   \n",
        "3748088                      ZARDA EXTRA VIRGIN OLIVE OIL   \n",
        "3748089                                          ZUCCHINI   \n",
        "3748090                        ZUCCHINI ( CHEMICAL FREE )   \n",
        "3748091                          ZUCCHINI (CHEMICAL FREE)   \n",
        "3748092                                ZUCCHINI (ORGANIC)   \n",
        "3748093                                  ZUCCHINI FLOWERS   \n",
        "3748094                  ZUCCHINI FLOWERS (CHEMICAL FREE)   \n",
        "\n",
        "                                               Product2  \\\n",
        "1                                          7 GRAIN MILK   \n",
        "2                                          7 GRAIN MILK   \n",
        "3                                          7 GRAIN MILK   \n",
        "4                                          7 GRAIN MILK   \n",
        "5                                          7 GRAIN MILK   \n",
        "6                                          7 GRAIN MILK   \n",
        "7                                          7 GRAIN MILK   \n",
        "8                                          7 GRAIN MILK   \n",
        "9                                          7 GRAIN MILK   \n",
        "10                                         7 GRAIN MILK   \n",
        "11                                         7 GRAIN MILK   \n",
        "12                                         7 GRAIN MILK   \n",
        "13                                         7 GRAIN MILK   \n",
        "14                                         7 GRAIN MILK   \n",
        "15                                         7 GRAIN MILK   \n",
        "16                                         7 GRAIN MILK   \n",
        "17                                         7 GRAIN MILK   \n",
        "18                                         7 GRAIN MILK   \n",
        "19                                         7 GRAIN MILK   \n",
        "20                                         7 GRAIN MILK   \n",
        "21                                         7 GRAIN MILK   \n",
        "22                                         7 GRAIN MILK   \n",
        "23                                         7 GRAIN MILK   \n",
        "24                                         7 GRAIN MILK   \n",
        "25                                         7 GRAIN MILK   \n",
        "26                                         7 GRAIN MILK   \n",
        "27                                         7 GRAIN MILK   \n",
        "28                                         7 GRAIN MILK   \n",
        "29                                         7 GRAIN MILK   \n",
        "30                                         7 GRAIN MILK   \n",
        "...                                                 ...   \n",
        "3748065  ZUCCHINI JAM WITH PISTACHIO & MASTIC (NATURAL)   \n",
        "3748066  ZUCCHINI JAM WITH PISTACHIO & MASTIC (NATURAL)   \n",
        "3748067  ZUCCHINI JAM WITH PISTACHIO & MASTIC (NATURAL)   \n",
        "3748068  ZUCCHINI JAM WITH PISTACHIO & MASTIC (NATURAL)   \n",
        "3748069  ZUCCHINI JAM WITH PISTACHIO & MASTIC (NATURAL)   \n",
        "3748070  ZUCCHINI JAM WITH PISTACHIO & MASTIC (NATURAL)   \n",
        "3748071  ZUCCHINI JAM WITH PISTACHIO & MASTIC (NATURAL)   \n",
        "3748072  ZUCCHINI JAM WITH PISTACHIO & MASTIC (NATURAL)   \n",
        "3748073  ZUCCHINI JAM WITH PISTACHIO & MASTIC (NATURAL)   \n",
        "3748074  ZUCCHINI JAM WITH PISTACHIO & MASTIC (NATURAL)   \n",
        "3748075  ZUCCHINI JAM WITH PISTACHIO & MASTIC (NATURAL)   \n",
        "3748076  ZUCCHINI JAM WITH PISTACHIO & MASTIC (NATURAL)   \n",
        "3748077  ZUCCHINI JAM WITH PISTACHIO & MASTIC (NATURAL)   \n",
        "3748078  ZUCCHINI JAM WITH PISTACHIO & MASTIC (NATURAL)   \n",
        "3748079  ZUCCHINI JAM WITH PISTACHIO & MASTIC (NATURAL)   \n",
        "3748080  ZUCCHINI JAM WITH PISTACHIO & MASTIC (NATURAL)   \n",
        "3748081  ZUCCHINI JAM WITH PISTACHIO & MASTIC (NATURAL)   \n",
        "3748082  ZUCCHINI JAM WITH PISTACHIO & MASTIC (NATURAL)   \n",
        "3748083  ZUCCHINI JAM WITH PISTACHIO & MASTIC (NATURAL)   \n",
        "3748084  ZUCCHINI JAM WITH PISTACHIO & MASTIC (NATURAL)   \n",
        "3748085  ZUCCHINI JAM WITH PISTACHIO & MASTIC (NATURAL)   \n",
        "3748086  ZUCCHINI JAM WITH PISTACHIO & MASTIC (NATURAL)   \n",
        "3748087  ZUCCHINI JAM WITH PISTACHIO & MASTIC (NATURAL)   \n",
        "3748088  ZUCCHINI JAM WITH PISTACHIO & MASTIC (NATURAL)   \n",
        "3748089  ZUCCHINI JAM WITH PISTACHIO & MASTIC (NATURAL)   \n",
        "3748090  ZUCCHINI JAM WITH PISTACHIO & MASTIC (NATURAL)   \n",
        "3748091  ZUCCHINI JAM WITH PISTACHIO & MASTIC (NATURAL)   \n",
        "3748092  ZUCCHINI JAM WITH PISTACHIO & MASTIC (NATURAL)   \n",
        "3748093  ZUCCHINI JAM WITH PISTACHIO & MASTIC (NATURAL)   \n",
        "3748094  ZUCCHINI JAM WITH PISTACHIO & MASTIC (NATURAL)   \n",
        "\n",
        "                                                      Name Count  \n",
        "1        [2498, 2486, 2467, 2461, 2418, 2367, 2253, 225...   NaN  \n",
        "2        [2498, 2486, 2467, 2461, 2418, 2367, 2253, 225...   NaN  \n",
        "3        [2498, 2486, 2467, 2461, 2418, 2367, 2253, 225...   NaN  \n",
        "4        [2498, 2486, 2467, 2461, 2418, 2367, 2253, 225...   NaN  \n",
        "5        [2498, 2486, 2467, 2461, 2418, 2367, 2253, 225...   NaN  \n",
        "6        [2498, 2486, 2467, 2461, 2418, 2367, 2253, 225...   NaN  \n",
        "7        [2498, 2486, 2467, 2461, 2418, 2367, 2253, 225...   NaN  \n",
        "8        [2498, 2486, 2467, 2461, 2418, 2367, 2253, 225...   NaN  \n",
        "9        [2498, 2486, 2467, 2461, 2418, 2367, 2253, 225...   NaN  \n",
        "10       [2498, 2486, 2467, 2461, 2418, 2367, 2253, 225...   NaN  \n",
        "11       [2498, 2486, 2467, 2461, 2418, 2367, 2253, 225...   NaN  \n",
        "12       [2498, 2486, 2467, 2461, 2418, 2367, 2253, 225...   NaN  \n",
        "13       [2498, 2486, 2467, 2461, 2418, 2367, 2253, 225...   NaN  \n",
        "14       [2498, 2486, 2467, 2461, 2418, 2367, 2253, 225...   NaN  \n",
        "15       [2498, 2486, 2467, 2461, 2418, 2367, 2253, 225...   NaN  \n",
        "16       [2498, 2486, 2467, 2461, 2418, 2367, 2253, 225...   NaN  \n",
        "17       [2498, 2486, 2467, 2461, 2418, 2367, 2253, 225...   NaN  \n",
        "18       [2498, 2486, 2467, 2461, 2418, 2367, 2253, 225...   NaN  \n",
        "19       [2498, 2486, 2467, 2461, 2418, 2367, 2253, 225...   NaN  \n",
        "20       [2498, 2486, 2467, 2461, 2418, 2367, 2253, 225...   NaN  \n",
        "21       [2498, 2486, 2467, 2461, 2418, 2367, 2253, 225...   NaN  \n",
        "22       [2498, 2486, 2467, 2461, 2418, 2367, 2253, 225...   NaN  \n",
        "23       [2498, 2486, 2467, 2461, 2418, 2367, 2253, 225...   NaN  \n",
        "24       [2498, 2486, 2467, 2461, 2418, 2367, 2253, 225...   NaN  \n",
        "25       [2498, 2486, 2467, 2461, 2418, 2367, 2253, 225...   NaN  \n",
        "26       [2498, 2486, 2467, 2461, 2418, 2367, 2253, 225...   NaN  \n",
        "27       [2498, 2486, 2467, 2461, 2418, 2367, 2253, 225...   NaN  \n",
        "28       [2498, 2486, 2467, 2461, 2418, 2367, 2253, 225...   NaN  \n",
        "29       [2498, 2486, 2467, 2461, 2418, 2367, 2253, 225...   NaN  \n",
        "30       [2498, 2486, 2467, 2461, 2418, 2367, 2253, 225...   NaN  \n",
        "...                                                    ...   ...  \n",
        "3748065  [8909, 8696, 10351, 10250, 10212, 10055, 9991,...   NaN  \n",
        "3748066                                 [8909, 8696, 9963]   NaN  \n",
        "3748067  [8909, 8696, 10303, 10263, 10260, 10232, 10198...   NaN  \n",
        "3748068  [8909, 8696, 10362, 10329, 10261, 10143, 10094...   NaN  \n",
        "3748069  [8909, 8696, 9977, 9542, 9468, 9319, 9014, 867...   NaN  \n",
        "3748070                                [8909, 8696, 10265]   NaN  \n",
        "3748071                                 [8909, 8696, 2389]   NaN  \n",
        "3748072  [8909, 8696, 10027, 10022, 9943, 9921, 9810, 9...   NaN  \n",
        "3748073                           [8909, 8696, 3142, 3087]   NaN  \n",
        "3748074  [8909, 8696, 10316, 10203, 9983, 9946, 9884, 9...   NaN  \n",
        "3748075                           [8909, 8696, 1632, 1559]   NaN  \n",
        "3748076                                 [8909, 8696, 3319]   NaN  \n",
        "3748077  [8909, 8696, 8657, 8487, 8447, 8440, 8416, 840...   NaN  \n",
        "3748078  [8909, 8696, 10085, 10082, 10065, 9919, 9819, ...   NaN  \n",
        "3748079  [8909, 8696, 2493, 2489, 2484, 2461, 2438, 241...   NaN  \n",
        "3748080  [8909, 8696, 10204, 9969, 9968, 9946, 9501, 94...   NaN  \n",
        "3748081      [8909, 8696, 10218, 10142, 10024, 9989, 9965]   NaN  \n",
        "3748082         [8909, 8696, 4200, 4130, 4129, 4090, 4062]   NaN  \n",
        "3748083   [8909, 8696, 2439, 2126, 1752, 1722, 1570, 1505]   NaN  \n",
        "3748084                                 [8909, 8696, 2923]   NaN  \n",
        "3748085                           [8909, 8696, 8840, 8624]   NaN  \n",
        "3748086                                 [8909, 8696, 4596]   NaN  \n",
        "3748087  [8909, 8696, 9813, 9808, 9731, 9694, 9693, 967...   NaN  \n",
        "3748088                                 [8909, 8696, 3137]   NaN  \n",
        "3748089  [8909, 8696, 9861, 9804, 9803, 9796, 9793, 978...   NaN  \n",
        "3748090  [8909, 8696, 7988, 7985, 7980, 7967, 7932, 792...   NaN  \n",
        "3748091  [8909, 8696, 10355, 10351, 10320, 10316, 10295...   NaN  \n",
        "3748092  [8909, 8696, 10321, 10306, 10218, 10213, 9474,...   NaN  \n",
        "3748093  [8909, 8696, 7411, 6501, 6483, 5413B, 5413A, 5...   NaN  \n",
        "3748094  [8909, 8696, 8216, 8200, 8082, 8060, 8019, 798...   NaN  \n",
        "\n",
        "[3746160 rows x 4 columns]"
       ]
      }
     ],
     "prompt_number": 10
    },
    {
     "cell_type": "code",
     "collapsed": false,
     "input": [
      "def getUnique(data):\n",
      "    return len(data) - len(set(data))  # count all the unique orders\n",
      "\n",
      "\n",
      "df1['Count'] = df1.Name.apply(getUnique)\n",
      "df1"
     ],
     "language": "python",
     "metadata": {},
     "outputs": [
      {
       "output_type": "stream",
       "stream": "stderr",
       "text": [
        "-c:5: SettingWithCopyWarning: \n",
        "A value is trying to be set on a copy of a slice from a DataFrame.\n",
        "Try using .loc[row_indexer,col_indexer] = value instead\n",
        "\n",
        "See the the caveats in the documentation: http://pandas.pydata.org/pandas-docs/stable/indexing.html#indexing-view-versus-copy\n"
       ]
      },
      {
       "html": [
        "<div style=\"max-height:1000px;max-width:1500px;overflow:auto;\">\n",
        "<table border=\"1\" class=\"dataframe\">\n",
        "  <thead>\n",
        "    <tr style=\"text-align: right;\">\n",
        "      <th></th>\n",
        "      <th>Product1</th>\n",
        "      <th>Product2</th>\n",
        "      <th>Name</th>\n",
        "      <th>Count</th>\n",
        "    </tr>\n",
        "  </thead>\n",
        "  <tbody>\n",
        "    <tr>\n",
        "      <th>1      </th>\n",
        "      <td>                             7 GRAIN MILK - 946ML</td>\n",
        "      <td>                                   7 GRAIN MILK</td>\n",
        "      <td> [2498, 2486, 2467, 2461, 2418, 2367, 2253, 225...</td>\n",
        "      <td> 0</td>\n",
        "    </tr>\n",
        "    <tr>\n",
        "      <th>2      </th>\n",
        "      <td>                                 ACAI BERRY JUICE</td>\n",
        "      <td>                                   7 GRAIN MILK</td>\n",
        "      <td> [2498, 2486, 2467, 2461, 2418, 2367, 2253, 225...</td>\n",
        "      <td> 0</td>\n",
        "    </tr>\n",
        "    <tr>\n",
        "      <th>3      </th>\n",
        "      <td>                                 ACNE FACIAL SOAP</td>\n",
        "      <td>                                   7 GRAIN MILK</td>\n",
        "      <td> [2498, 2486, 2467, 2461, 2418, 2367, 2253, 225...</td>\n",
        "      <td> 0</td>\n",
        "    </tr>\n",
        "    <tr>\n",
        "      <th>4      </th>\n",
        "      <td>                          ACQUA PANA WATER 1000ML</td>\n",
        "      <td>                                   7 GRAIN MILK</td>\n",
        "      <td> [2498, 2486, 2467, 2461, 2418, 2367, 2253, 225...</td>\n",
        "      <td> 0</td>\n",
        "    </tr>\n",
        "    <tr>\n",
        "      <th>5      </th>\n",
        "      <td>                           ACQUA PANA WATER 500ML</td>\n",
        "      <td>                                   7 GRAIN MILK</td>\n",
        "      <td> [2498, 2486, 2467, 2461, 2418, 2367, 2253, 225...</td>\n",
        "      <td> 0</td>\n",
        "    </tr>\n",
        "    <tr>\n",
        "      <th>6      </th>\n",
        "      <td>                     ACQUA PANA WATER 500ML GLASS</td>\n",
        "      <td>                                   7 GRAIN MILK</td>\n",
        "      <td> [2498, 2486, 2467, 2461, 2418, 2367, 2253, 225...</td>\n",
        "      <td> 0</td>\n",
        "    </tr>\n",
        "    <tr>\n",
        "      <th>7      </th>\n",
        "      <td>            ACTIBIF CHEESE (FOR BETTER DIGESTION)</td>\n",
        "      <td>                                   7 GRAIN MILK</td>\n",
        "      <td> [2498, 2486, 2467, 2461, 2418, 2367, 2253, 225...</td>\n",
        "      <td> 0</td>\n",
        "    </tr>\n",
        "    <tr>\n",
        "      <th>8      </th>\n",
        "      <td>         AGAR AGAR FLAKES (HAND HARVESTED) - WILD</td>\n",
        "      <td>                                   7 GRAIN MILK</td>\n",
        "      <td> [2498, 2486, 2467, 2461, 2418, 2367, 2253, 225...</td>\n",
        "      <td> 0</td>\n",
        "    </tr>\n",
        "    <tr>\n",
        "      <th>9      </th>\n",
        "      <td>         ALL PURPOSE BAKING FLOUR ( GLUTEN FREE )</td>\n",
        "      <td>                                   7 GRAIN MILK</td>\n",
        "      <td> [2498, 2486, 2467, 2461, 2418, 2367, 2253, 225...</td>\n",
        "      <td> 0</td>\n",
        "    </tr>\n",
        "    <tr>\n",
        "      <th>10     </th>\n",
        "      <td>  ALL PURPOSE BAKING FLOUR ( GLUTEN FREE ) - 623G</td>\n",
        "      <td>                                   7 GRAIN MILK</td>\n",
        "      <td> [2498, 2486, 2467, 2461, 2418, 2367, 2253, 225...</td>\n",
        "      <td> 0</td>\n",
        "    </tr>\n",
        "    <tr>\n",
        "      <th>11     </th>\n",
        "      <td>           ALL PURPOSE BAKING FLOUR (GLUTEN FREE)</td>\n",
        "      <td>                                   7 GRAIN MILK</td>\n",
        "      <td> [2498, 2486, 2467, 2461, 2418, 2367, 2253, 225...</td>\n",
        "      <td> 0</td>\n",
        "    </tr>\n",
        "    <tr>\n",
        "      <th>12     </th>\n",
        "      <td> ALMOND BISCOTTI (GLUTEN FREE) - TRACES OF GLUTEN</td>\n",
        "      <td>                                   7 GRAIN MILK</td>\n",
        "      <td> [2498, 2486, 2467, 2461, 2418, 2367, 2253, 225...</td>\n",
        "      <td> 0</td>\n",
        "    </tr>\n",
        "    <tr>\n",
        "      <th>13     </th>\n",
        "      <td> ALMOND BISCUTIS (GLUTEN FREE) - TRACES OF GLUTEN</td>\n",
        "      <td>                                   7 GRAIN MILK</td>\n",
        "      <td> [2498, 2486, 2467, 2461, 2418, 2367, 2253, 225...</td>\n",
        "      <td> 0</td>\n",
        "    </tr>\n",
        "    <tr>\n",
        "      <th>14     </th>\n",
        "      <td>                       ALMOND BREAD (GLUTEN FREE)</td>\n",
        "      <td>                                   7 GRAIN MILK</td>\n",
        "      <td> [2498, 2486, 2467, 2461, 2418, 2367, 2253, 225...</td>\n",
        "      <td> 0</td>\n",
        "    </tr>\n",
        "    <tr>\n",
        "      <th>15     </th>\n",
        "      <td>                                    ALMOND BUTTER</td>\n",
        "      <td>                                   7 GRAIN MILK</td>\n",
        "      <td> [2498, 2486, 2467, 2461, 2418, 2367, 2253, 225...</td>\n",
        "      <td> 0</td>\n",
        "    </tr>\n",
        "    <tr>\n",
        "      <th>16     </th>\n",
        "      <td>                        ALMOND BUTTER (HOME-MADE)</td>\n",
        "      <td>                                   7 GRAIN MILK</td>\n",
        "      <td> [2498, 2486, 2467, 2461, 2418, 2367, 2253, 225...</td>\n",
        "      <td> 0</td>\n",
        "    </tr>\n",
        "    <tr>\n",
        "      <th>17     </th>\n",
        "      <td>                          ALMOND BUTTER (NATURAL)</td>\n",
        "      <td>                                   7 GRAIN MILK</td>\n",
        "      <td> [2498, 2486, 2467, 2461, 2418, 2367, 2253, 225...</td>\n",
        "      <td> 0</td>\n",
        "    </tr>\n",
        "    <tr>\n",
        "      <th>18     </th>\n",
        "      <td>      ALMOND BUTTER WITH CINAMON RAISIN (NATURAL)</td>\n",
        "      <td>                                   7 GRAIN MILK</td>\n",
        "      <td> [2498, 2486, 2467, 2461, 2418, 2367, 2253, 225...</td>\n",
        "      <td> 0</td>\n",
        "    </tr>\n",
        "    <tr>\n",
        "      <th>19     </th>\n",
        "      <td>                                ALMOND MEAL FLOUR</td>\n",
        "      <td>                                   7 GRAIN MILK</td>\n",
        "      <td> [2498, 2486, 2467, 2461, 2418, 2367, 2253, 225...</td>\n",
        "      <td> 0</td>\n",
        "    </tr>\n",
        "    <tr>\n",
        "      <th>20     </th>\n",
        "      <td>                                      ALMOND MILK</td>\n",
        "      <td>                                   7 GRAIN MILK</td>\n",
        "      <td> [2498, 2486, 2467, 2461, 2418, 2367, 2253, 225...</td>\n",
        "      <td> 7</td>\n",
        "    </tr>\n",
        "    <tr>\n",
        "      <th>21     </th>\n",
        "      <td>                          ALMOND MILK ( ORGANIC )</td>\n",
        "      <td>                                   7 GRAIN MILK</td>\n",
        "      <td> [2498, 2486, 2467, 2461, 2418, 2367, 2253, 225...</td>\n",
        "      <td> 0</td>\n",
        "    </tr>\n",
        "    <tr>\n",
        "      <th>22     </th>\n",
        "      <td>                    ALMOND MILK ( ORGANIC ) 946ML</td>\n",
        "      <td>                                   7 GRAIN MILK</td>\n",
        "      <td> [2498, 2486, 2467, 2461, 2418, 2367, 2253, 225...</td>\n",
        "      <td> 0</td>\n",
        "    </tr>\n",
        "    <tr>\n",
        "      <th>23     </th>\n",
        "      <td>                         ALMOND MILK ( ORIGINAL )</td>\n",
        "      <td>                                   7 GRAIN MILK</td>\n",
        "      <td> [2498, 2486, 2467, 2461, 2418, 2367, 2253, 225...</td>\n",
        "      <td> 0</td>\n",
        "    </tr>\n",
        "    <tr>\n",
        "      <th>24     </th>\n",
        "      <td>               ALMOND MILK (ORGANIC) - SUGAR-FREE</td>\n",
        "      <td>                                   7 GRAIN MILK</td>\n",
        "      <td> [2498, 2486, 2467, 2461, 2418, 2367, 2253, 225...</td>\n",
        "      <td> 0</td>\n",
        "    </tr>\n",
        "    <tr>\n",
        "      <th>25     </th>\n",
        "      <td>                        ALMOND MILK (UNSWEETENED)</td>\n",
        "      <td>                                   7 GRAIN MILK</td>\n",
        "      <td> [2498, 2486, 2467, 2461, 2418, 2367, 2253, 225...</td>\n",
        "      <td> 0</td>\n",
        "    </tr>\n",
        "    <tr>\n",
        "      <th>26     </th>\n",
        "      <td>                              ALMOND MILK - 946ML</td>\n",
        "      <td>                                   7 GRAIN MILK</td>\n",
        "      <td> [2498, 2486, 2467, 2461, 2418, 2367, 2253, 225...</td>\n",
        "      <td> 0</td>\n",
        "    </tr>\n",
        "    <tr>\n",
        "      <th>27     </th>\n",
        "      <td>                       ALMOND ORIGINAL (ORIGINAL)</td>\n",
        "      <td>                                   7 GRAIN MILK</td>\n",
        "      <td> [2498, 2486, 2467, 2461, 2418, 2367, 2253, 225...</td>\n",
        "      <td> 0</td>\n",
        "    </tr>\n",
        "    <tr>\n",
        "      <th>28     </th>\n",
        "      <td>                     ALMOND'S AND OATS BODY SCRUB</td>\n",
        "      <td>                                   7 GRAIN MILK</td>\n",
        "      <td> [2498, 2486, 2467, 2461, 2418, 2367, 2253, 225...</td>\n",
        "      <td> 0</td>\n",
        "    </tr>\n",
        "    <tr>\n",
        "      <th>29     </th>\n",
        "      <td>              ALMONDS SHELL ON - ROASTED &amp; SALTED</td>\n",
        "      <td>                                   7 GRAIN MILK</td>\n",
        "      <td> [2498, 2486, 2467, 2461, 2418, 2367, 2253, 225...</td>\n",
        "      <td> 0</td>\n",
        "    </tr>\n",
        "    <tr>\n",
        "      <th>30     </th>\n",
        "      <td>                                         AMARANTH</td>\n",
        "      <td>                                   7 GRAIN MILK</td>\n",
        "      <td> [2498, 2486, 2467, 2461, 2418, 2367, 2253, 225...</td>\n",
        "      <td> 0</td>\n",
        "    </tr>\n",
        "    <tr>\n",
        "      <th>...</th>\n",
        "      <td>...</td>\n",
        "      <td>...</td>\n",
        "      <td>...</td>\n",
        "      <td>...</td>\n",
        "    </tr>\n",
        "    <tr>\n",
        "      <th>3748065</th>\n",
        "      <td>                                    WILD SARDINES</td>\n",
        "      <td> ZUCCHINI JAM WITH PISTACHIO &amp; MASTIC (NATURAL)</td>\n",
        "      <td> [8909, 8696, 10351, 10250, 10212, 10055, 9991,...</td>\n",
        "      <td> 0</td>\n",
        "    </tr>\n",
        "    <tr>\n",
        "      <th>3748066</th>\n",
        "      <td>                              WILD SHRIMP (LARGE)</td>\n",
        "      <td> ZUCCHINI JAM WITH PISTACHIO &amp; MASTIC (NATURAL)</td>\n",
        "      <td>                                [8909, 8696, 9963]</td>\n",
        "      <td> 0</td>\n",
        "    </tr>\n",
        "    <tr>\n",
        "      <th>3748067</th>\n",
        "      <td>                             WILD SHRIMP (MEDIUM)</td>\n",
        "      <td> ZUCCHINI JAM WITH PISTACHIO &amp; MASTIC (NATURAL)</td>\n",
        "      <td> [8909, 8696, 10303, 10263, 10260, 10232, 10198...</td>\n",
        "      <td> 0</td>\n",
        "    </tr>\n",
        "    <tr>\n",
        "      <th>3748068</th>\n",
        "      <td>                              WILD SHRIMP (SMALL)</td>\n",
        "      <td> ZUCCHINI JAM WITH PISTACHIO &amp; MASTIC (NATURAL)</td>\n",
        "      <td> [8909, 8696, 10362, 10329, 10261, 10143, 10094...</td>\n",
        "      <td> 0</td>\n",
        "    </tr>\n",
        "    <tr>\n",
        "      <th>3748069</th>\n",
        "      <td>                       WILD THYME (CHEMICAL FREE)</td>\n",
        "      <td> ZUCCHINI JAM WITH PISTACHIO &amp; MASTIC (NATURAL)</td>\n",
        "      <td> [8909, 8696, 9977, 9542, 9468, 9319, 9014, 867...</td>\n",
        "      <td> 0</td>\n",
        "    </tr>\n",
        "    <tr>\n",
        "      <th>3748070</th>\n",
        "      <td>                        WILD YELLOW FINTUNA STEAK</td>\n",
        "      <td> ZUCCHINI JAM WITH PISTACHIO &amp; MASTIC (NATURAL)</td>\n",
        "      <td>                               [8909, 8696, 10265]</td>\n",
        "      <td> 0</td>\n",
        "    </tr>\n",
        "    <tr>\n",
        "      <th>3748071</th>\n",
        "      <td>                             WORMWOOD HERB POWDER</td>\n",
        "      <td> ZUCCHINI JAM WITH PISTACHIO &amp; MASTIC (NATURAL)</td>\n",
        "      <td>                                [8909, 8696, 2389]</td>\n",
        "      <td> 0</td>\n",
        "    </tr>\n",
        "    <tr>\n",
        "      <th>3748072</th>\n",
        "      <td>                        XANTHAN GUM (GLUTEN FREE)</td>\n",
        "      <td> ZUCCHINI JAM WITH PISTACHIO &amp; MASTIC (NATURAL)</td>\n",
        "      <td> [8909, 8696, 10027, 10022, 9943, 9921, 9810, 9...</td>\n",
        "      <td> 0</td>\n",
        "    </tr>\n",
        "    <tr>\n",
        "      <th>3748073</th>\n",
        "      <td>                                 YAKI NORI SHEETS</td>\n",
        "      <td> ZUCCHINI JAM WITH PISTACHIO &amp; MASTIC (NATURAL)</td>\n",
        "      <td>                          [8909, 8696, 3142, 3087]</td>\n",
        "      <td> 0</td>\n",
        "    </tr>\n",
        "    <tr>\n",
        "      <th>3748074</th>\n",
        "      <td>                                    YELLOW APPLES</td>\n",
        "      <td> ZUCCHINI JAM WITH PISTACHIO &amp; MASTIC (NATURAL)</td>\n",
        "      <td> [8909, 8696, 10316, 10203, 9983, 9946, 9884, 9...</td>\n",
        "      <td> 0</td>\n",
        "    </tr>\n",
        "    <tr>\n",
        "      <th>3748075</th>\n",
        "      <td>                                  YELLOW BROCCOLI</td>\n",
        "      <td> ZUCCHINI JAM WITH PISTACHIO &amp; MASTIC (NATURAL)</td>\n",
        "      <td>                          [8909, 8696, 1632, 1559]</td>\n",
        "      <td> 0</td>\n",
        "    </tr>\n",
        "    <tr>\n",
        "      <th>3748076</th>\n",
        "      <td>                YELLOW CAPSICUM ( CHEMICAL FREE )</td>\n",
        "      <td> ZUCCHINI JAM WITH PISTACHIO &amp; MASTIC (NATURAL)</td>\n",
        "      <td>                                [8909, 8696, 3319]</td>\n",
        "      <td> 0</td>\n",
        "    </tr>\n",
        "    <tr>\n",
        "      <th>3748077</th>\n",
        "      <td>                  YELLOW CARROT ( CHEMICAL FREE )</td>\n",
        "      <td> ZUCCHINI JAM WITH PISTACHIO &amp; MASTIC (NATURAL)</td>\n",
        "      <td> [8909, 8696, 8657, 8487, 8447, 8440, 8416, 840...</td>\n",
        "      <td> 0</td>\n",
        "    </tr>\n",
        "    <tr>\n",
        "      <th>3748078</th>\n",
        "      <td>                                   YELLOW CARROTS</td>\n",
        "      <td> ZUCCHINI JAM WITH PISTACHIO &amp; MASTIC (NATURAL)</td>\n",
        "      <td> [8909, 8696, 10085, 10082, 10065, 9919, 9819, ...</td>\n",
        "      <td> 0</td>\n",
        "    </tr>\n",
        "    <tr>\n",
        "      <th>3748079</th>\n",
        "      <td>                           YELLOW CHERRY TOMATOES</td>\n",
        "      <td> ZUCCHINI JAM WITH PISTACHIO &amp; MASTIC (NATURAL)</td>\n",
        "      <td> [8909, 8696, 2493, 2489, 2484, 2461, 2438, 241...</td>\n",
        "      <td> 0</td>\n",
        "    </tr>\n",
        "    <tr>\n",
        "      <th>3748080</th>\n",
        "      <td>                                YELLOW GRAPEFRUIT</td>\n",
        "      <td> ZUCCHINI JAM WITH PISTACHIO &amp; MASTIC (NATURAL)</td>\n",
        "      <td> [8909, 8696, 10204, 9969, 9968, 9946, 9501, 94...</td>\n",
        "      <td> 0</td>\n",
        "    </tr>\n",
        "    <tr>\n",
        "      <th>3748081</th>\n",
        "      <td>                                   YELLOW MUSTARD</td>\n",
        "      <td> ZUCCHINI JAM WITH PISTACHIO &amp; MASTIC (NATURAL)</td>\n",
        "      <td>     [8909, 8696, 10218, 10142, 10024, 9989, 9965]</td>\n",
        "      <td> 0</td>\n",
        "    </tr>\n",
        "    <tr>\n",
        "      <th>3748082</th>\n",
        "      <td>                  YELLOW ONIONS ( CHEMICAL FREE )</td>\n",
        "      <td> ZUCCHINI JAM WITH PISTACHIO &amp; MASTIC (NATURAL)</td>\n",
        "      <td>        [8909, 8696, 4200, 4130, 4129, 4090, 4062]</td>\n",
        "      <td> 0</td>\n",
        "    </tr>\n",
        "    <tr>\n",
        "      <th>3748083</th>\n",
        "      <td>                                YELLOW SPLIT PEAS</td>\n",
        "      <td> ZUCCHINI JAM WITH PISTACHIO &amp; MASTIC (NATURAL)</td>\n",
        "      <td>  [8909, 8696, 2439, 2126, 1752, 1722, 1570, 1505]</td>\n",
        "      <td> 0</td>\n",
        "    </tr>\n",
        "    <tr>\n",
        "      <th>3748084</th>\n",
        "      <td>                         YELLOW SPLIT PEAS - 822G</td>\n",
        "      <td> ZUCCHINI JAM WITH PISTACHIO &amp; MASTIC (NATURAL)</td>\n",
        "      <td>                                [8909, 8696, 2923]</td>\n",
        "      <td> 0</td>\n",
        "    </tr>\n",
        "    <tr>\n",
        "      <th>3748085</th>\n",
        "      <td>                                YELLOW WATERMELON</td>\n",
        "      <td> ZUCCHINI JAM WITH PISTACHIO &amp; MASTIC (NATURAL)</td>\n",
        "      <td>                          [8909, 8696, 8840, 8624]</td>\n",
        "      <td> 0</td>\n",
        "    </tr>\n",
        "    <tr>\n",
        "      <th>3748086</th>\n",
        "      <td>                       YING/YANG FACIAL ACNE SOAP</td>\n",
        "      <td> ZUCCHINI JAM WITH PISTACHIO &amp; MASTIC (NATURAL)</td>\n",
        "      <td>                                [8909, 8696, 4596]</td>\n",
        "      <td> 0</td>\n",
        "    </tr>\n",
        "    <tr>\n",
        "      <th>3748087</th>\n",
        "      <td>                              YOUSSFI (TANGERINE)</td>\n",
        "      <td> ZUCCHINI JAM WITH PISTACHIO &amp; MASTIC (NATURAL)</td>\n",
        "      <td> [8909, 8696, 9813, 9808, 9731, 9694, 9693, 967...</td>\n",
        "      <td> 0</td>\n",
        "    </tr>\n",
        "    <tr>\n",
        "      <th>3748088</th>\n",
        "      <td>                     ZARDA EXTRA VIRGIN OLIVE OIL</td>\n",
        "      <td> ZUCCHINI JAM WITH PISTACHIO &amp; MASTIC (NATURAL)</td>\n",
        "      <td>                                [8909, 8696, 3137]</td>\n",
        "      <td> 0</td>\n",
        "    </tr>\n",
        "    <tr>\n",
        "      <th>3748089</th>\n",
        "      <td>                                         ZUCCHINI</td>\n",
        "      <td> ZUCCHINI JAM WITH PISTACHIO &amp; MASTIC (NATURAL)</td>\n",
        "      <td> [8909, 8696, 9861, 9804, 9803, 9796, 9793, 978...</td>\n",
        "      <td> 0</td>\n",
        "    </tr>\n",
        "    <tr>\n",
        "      <th>3748090</th>\n",
        "      <td>                       ZUCCHINI ( CHEMICAL FREE )</td>\n",
        "      <td> ZUCCHINI JAM WITH PISTACHIO &amp; MASTIC (NATURAL)</td>\n",
        "      <td> [8909, 8696, 7988, 7985, 7980, 7967, 7932, 792...</td>\n",
        "      <td> 0</td>\n",
        "    </tr>\n",
        "    <tr>\n",
        "      <th>3748091</th>\n",
        "      <td>                         ZUCCHINI (CHEMICAL FREE)</td>\n",
        "      <td> ZUCCHINI JAM WITH PISTACHIO &amp; MASTIC (NATURAL)</td>\n",
        "      <td> [8909, 8696, 10355, 10351, 10320, 10316, 10295...</td>\n",
        "      <td> 0</td>\n",
        "    </tr>\n",
        "    <tr>\n",
        "      <th>3748092</th>\n",
        "      <td>                               ZUCCHINI (ORGANIC)</td>\n",
        "      <td> ZUCCHINI JAM WITH PISTACHIO &amp; MASTIC (NATURAL)</td>\n",
        "      <td> [8909, 8696, 10321, 10306, 10218, 10213, 9474,...</td>\n",
        "      <td> 0</td>\n",
        "    </tr>\n",
        "    <tr>\n",
        "      <th>3748093</th>\n",
        "      <td>                                 ZUCCHINI FLOWERS</td>\n",
        "      <td> ZUCCHINI JAM WITH PISTACHIO &amp; MASTIC (NATURAL)</td>\n",
        "      <td> [8909, 8696, 7411, 6501, 6483, 5413B, 5413A, 5...</td>\n",
        "      <td> 0</td>\n",
        "    </tr>\n",
        "    <tr>\n",
        "      <th>3748094</th>\n",
        "      <td>                 ZUCCHINI FLOWERS (CHEMICAL FREE)</td>\n",
        "      <td> ZUCCHINI JAM WITH PISTACHIO &amp; MASTIC (NATURAL)</td>\n",
        "      <td> [8909, 8696, 8216, 8200, 8082, 8060, 8019, 798...</td>\n",
        "      <td> 0</td>\n",
        "    </tr>\n",
        "  </tbody>\n",
        "</table>\n",
        "<p>3746160 rows \u00d7 4 columns</p>\n",
        "</div>"
       ],
       "metadata": {},
       "output_type": "pyout",
       "prompt_number": 11,
       "text": [
        "                                                 Product1  \\\n",
        "1                                    7 GRAIN MILK - 946ML   \n",
        "2                                        ACAI BERRY JUICE   \n",
        "3                                        ACNE FACIAL SOAP   \n",
        "4                                 ACQUA PANA WATER 1000ML   \n",
        "5                                  ACQUA PANA WATER 500ML   \n",
        "6                            ACQUA PANA WATER 500ML GLASS   \n",
        "7                   ACTIBIF CHEESE (FOR BETTER DIGESTION)   \n",
        "8                AGAR AGAR FLAKES (HAND HARVESTED) - WILD   \n",
        "9                ALL PURPOSE BAKING FLOUR ( GLUTEN FREE )   \n",
        "10        ALL PURPOSE BAKING FLOUR ( GLUTEN FREE ) - 623G   \n",
        "11                 ALL PURPOSE BAKING FLOUR (GLUTEN FREE)   \n",
        "12       ALMOND BISCOTTI (GLUTEN FREE) - TRACES OF GLUTEN   \n",
        "13       ALMOND BISCUTIS (GLUTEN FREE) - TRACES OF GLUTEN   \n",
        "14                             ALMOND BREAD (GLUTEN FREE)   \n",
        "15                                          ALMOND BUTTER   \n",
        "16                              ALMOND BUTTER (HOME-MADE)   \n",
        "17                                ALMOND BUTTER (NATURAL)   \n",
        "18            ALMOND BUTTER WITH CINAMON RAISIN (NATURAL)   \n",
        "19                                      ALMOND MEAL FLOUR   \n",
        "20                                            ALMOND MILK   \n",
        "21                                ALMOND MILK ( ORGANIC )   \n",
        "22                          ALMOND MILK ( ORGANIC ) 946ML   \n",
        "23                               ALMOND MILK ( ORIGINAL )   \n",
        "24                     ALMOND MILK (ORGANIC) - SUGAR-FREE   \n",
        "25                              ALMOND MILK (UNSWEETENED)   \n",
        "26                                    ALMOND MILK - 946ML   \n",
        "27                             ALMOND ORIGINAL (ORIGINAL)   \n",
        "28                           ALMOND'S AND OATS BODY SCRUB   \n",
        "29                    ALMONDS SHELL ON - ROASTED & SALTED   \n",
        "30                                               AMARANTH   \n",
        "...                                                   ...   \n",
        "3748065                                     WILD SARDINES   \n",
        "3748066                               WILD SHRIMP (LARGE)   \n",
        "3748067                              WILD SHRIMP (MEDIUM)   \n",
        "3748068                               WILD SHRIMP (SMALL)   \n",
        "3748069                        WILD THYME (CHEMICAL FREE)   \n",
        "3748070                         WILD YELLOW FINTUNA STEAK   \n",
        "3748071                              WORMWOOD HERB POWDER   \n",
        "3748072                         XANTHAN GUM (GLUTEN FREE)   \n",
        "3748073                                  YAKI NORI SHEETS   \n",
        "3748074                                     YELLOW APPLES   \n",
        "3748075                                   YELLOW BROCCOLI   \n",
        "3748076                 YELLOW CAPSICUM ( CHEMICAL FREE )   \n",
        "3748077                   YELLOW CARROT ( CHEMICAL FREE )   \n",
        "3748078                                    YELLOW CARROTS   \n",
        "3748079                            YELLOW CHERRY TOMATOES   \n",
        "3748080                                 YELLOW GRAPEFRUIT   \n",
        "3748081                                    YELLOW MUSTARD   \n",
        "3748082                   YELLOW ONIONS ( CHEMICAL FREE )   \n",
        "3748083                                 YELLOW SPLIT PEAS   \n",
        "3748084                          YELLOW SPLIT PEAS - 822G   \n",
        "3748085                                 YELLOW WATERMELON   \n",
        "3748086                        YING/YANG FACIAL ACNE SOAP   \n",
        "3748087                               YOUSSFI (TANGERINE)   \n",
        "3748088                      ZARDA EXTRA VIRGIN OLIVE OIL   \n",
        "3748089                                          ZUCCHINI   \n",
        "3748090                        ZUCCHINI ( CHEMICAL FREE )   \n",
        "3748091                          ZUCCHINI (CHEMICAL FREE)   \n",
        "3748092                                ZUCCHINI (ORGANIC)   \n",
        "3748093                                  ZUCCHINI FLOWERS   \n",
        "3748094                  ZUCCHINI FLOWERS (CHEMICAL FREE)   \n",
        "\n",
        "                                               Product2  \\\n",
        "1                                          7 GRAIN MILK   \n",
        "2                                          7 GRAIN MILK   \n",
        "3                                          7 GRAIN MILK   \n",
        "4                                          7 GRAIN MILK   \n",
        "5                                          7 GRAIN MILK   \n",
        "6                                          7 GRAIN MILK   \n",
        "7                                          7 GRAIN MILK   \n",
        "8                                          7 GRAIN MILK   \n",
        "9                                          7 GRAIN MILK   \n",
        "10                                         7 GRAIN MILK   \n",
        "11                                         7 GRAIN MILK   \n",
        "12                                         7 GRAIN MILK   \n",
        "13                                         7 GRAIN MILK   \n",
        "14                                         7 GRAIN MILK   \n",
        "15                                         7 GRAIN MILK   \n",
        "16                                         7 GRAIN MILK   \n",
        "17                                         7 GRAIN MILK   \n",
        "18                                         7 GRAIN MILK   \n",
        "19                                         7 GRAIN MILK   \n",
        "20                                         7 GRAIN MILK   \n",
        "21                                         7 GRAIN MILK   \n",
        "22                                         7 GRAIN MILK   \n",
        "23                                         7 GRAIN MILK   \n",
        "24                                         7 GRAIN MILK   \n",
        "25                                         7 GRAIN MILK   \n",
        "26                                         7 GRAIN MILK   \n",
        "27                                         7 GRAIN MILK   \n",
        "28                                         7 GRAIN MILK   \n",
        "29                                         7 GRAIN MILK   \n",
        "30                                         7 GRAIN MILK   \n",
        "...                                                 ...   \n",
        "3748065  ZUCCHINI JAM WITH PISTACHIO & MASTIC (NATURAL)   \n",
        "3748066  ZUCCHINI JAM WITH PISTACHIO & MASTIC (NATURAL)   \n",
        "3748067  ZUCCHINI JAM WITH PISTACHIO & MASTIC (NATURAL)   \n",
        "3748068  ZUCCHINI JAM WITH PISTACHIO & MASTIC (NATURAL)   \n",
        "3748069  ZUCCHINI JAM WITH PISTACHIO & MASTIC (NATURAL)   \n",
        "3748070  ZUCCHINI JAM WITH PISTACHIO & MASTIC (NATURAL)   \n",
        "3748071  ZUCCHINI JAM WITH PISTACHIO & MASTIC (NATURAL)   \n",
        "3748072  ZUCCHINI JAM WITH PISTACHIO & MASTIC (NATURAL)   \n",
        "3748073  ZUCCHINI JAM WITH PISTACHIO & MASTIC (NATURAL)   \n",
        "3748074  ZUCCHINI JAM WITH PISTACHIO & MASTIC (NATURAL)   \n",
        "3748075  ZUCCHINI JAM WITH PISTACHIO & MASTIC (NATURAL)   \n",
        "3748076  ZUCCHINI JAM WITH PISTACHIO & MASTIC (NATURAL)   \n",
        "3748077  ZUCCHINI JAM WITH PISTACHIO & MASTIC (NATURAL)   \n",
        "3748078  ZUCCHINI JAM WITH PISTACHIO & MASTIC (NATURAL)   \n",
        "3748079  ZUCCHINI JAM WITH PISTACHIO & MASTIC (NATURAL)   \n",
        "3748080  ZUCCHINI JAM WITH PISTACHIO & MASTIC (NATURAL)   \n",
        "3748081  ZUCCHINI JAM WITH PISTACHIO & MASTIC (NATURAL)   \n",
        "3748082  ZUCCHINI JAM WITH PISTACHIO & MASTIC (NATURAL)   \n",
        "3748083  ZUCCHINI JAM WITH PISTACHIO & MASTIC (NATURAL)   \n",
        "3748084  ZUCCHINI JAM WITH PISTACHIO & MASTIC (NATURAL)   \n",
        "3748085  ZUCCHINI JAM WITH PISTACHIO & MASTIC (NATURAL)   \n",
        "3748086  ZUCCHINI JAM WITH PISTACHIO & MASTIC (NATURAL)   \n",
        "3748087  ZUCCHINI JAM WITH PISTACHIO & MASTIC (NATURAL)   \n",
        "3748088  ZUCCHINI JAM WITH PISTACHIO & MASTIC (NATURAL)   \n",
        "3748089  ZUCCHINI JAM WITH PISTACHIO & MASTIC (NATURAL)   \n",
        "3748090  ZUCCHINI JAM WITH PISTACHIO & MASTIC (NATURAL)   \n",
        "3748091  ZUCCHINI JAM WITH PISTACHIO & MASTIC (NATURAL)   \n",
        "3748092  ZUCCHINI JAM WITH PISTACHIO & MASTIC (NATURAL)   \n",
        "3748093  ZUCCHINI JAM WITH PISTACHIO & MASTIC (NATURAL)   \n",
        "3748094  ZUCCHINI JAM WITH PISTACHIO & MASTIC (NATURAL)   \n",
        "\n",
        "                                                      Name  Count  \n",
        "1        [2498, 2486, 2467, 2461, 2418, 2367, 2253, 225...      0  \n",
        "2        [2498, 2486, 2467, 2461, 2418, 2367, 2253, 225...      0  \n",
        "3        [2498, 2486, 2467, 2461, 2418, 2367, 2253, 225...      0  \n",
        "4        [2498, 2486, 2467, 2461, 2418, 2367, 2253, 225...      0  \n",
        "5        [2498, 2486, 2467, 2461, 2418, 2367, 2253, 225...      0  \n",
        "6        [2498, 2486, 2467, 2461, 2418, 2367, 2253, 225...      0  \n",
        "7        [2498, 2486, 2467, 2461, 2418, 2367, 2253, 225...      0  \n",
        "8        [2498, 2486, 2467, 2461, 2418, 2367, 2253, 225...      0  \n",
        "9        [2498, 2486, 2467, 2461, 2418, 2367, 2253, 225...      0  \n",
        "10       [2498, 2486, 2467, 2461, 2418, 2367, 2253, 225...      0  \n",
        "11       [2498, 2486, 2467, 2461, 2418, 2367, 2253, 225...      0  \n",
        "12       [2498, 2486, 2467, 2461, 2418, 2367, 2253, 225...      0  \n",
        "13       [2498, 2486, 2467, 2461, 2418, 2367, 2253, 225...      0  \n",
        "14       [2498, 2486, 2467, 2461, 2418, 2367, 2253, 225...      0  \n",
        "15       [2498, 2486, 2467, 2461, 2418, 2367, 2253, 225...      0  \n",
        "16       [2498, 2486, 2467, 2461, 2418, 2367, 2253, 225...      0  \n",
        "17       [2498, 2486, 2467, 2461, 2418, 2367, 2253, 225...      0  \n",
        "18       [2498, 2486, 2467, 2461, 2418, 2367, 2253, 225...      0  \n",
        "19       [2498, 2486, 2467, 2461, 2418, 2367, 2253, 225...      0  \n",
        "20       [2498, 2486, 2467, 2461, 2418, 2367, 2253, 225...      7  \n",
        "21       [2498, 2486, 2467, 2461, 2418, 2367, 2253, 225...      0  \n",
        "22       [2498, 2486, 2467, 2461, 2418, 2367, 2253, 225...      0  \n",
        "23       [2498, 2486, 2467, 2461, 2418, 2367, 2253, 225...      0  \n",
        "24       [2498, 2486, 2467, 2461, 2418, 2367, 2253, 225...      0  \n",
        "25       [2498, 2486, 2467, 2461, 2418, 2367, 2253, 225...      0  \n",
        "26       [2498, 2486, 2467, 2461, 2418, 2367, 2253, 225...      0  \n",
        "27       [2498, 2486, 2467, 2461, 2418, 2367, 2253, 225...      0  \n",
        "28       [2498, 2486, 2467, 2461, 2418, 2367, 2253, 225...      0  \n",
        "29       [2498, 2486, 2467, 2461, 2418, 2367, 2253, 225...      0  \n",
        "30       [2498, 2486, 2467, 2461, 2418, 2367, 2253, 225...      0  \n",
        "...                                                    ...    ...  \n",
        "3748065  [8909, 8696, 10351, 10250, 10212, 10055, 9991,...      0  \n",
        "3748066                                 [8909, 8696, 9963]      0  \n",
        "3748067  [8909, 8696, 10303, 10263, 10260, 10232, 10198...      0  \n",
        "3748068  [8909, 8696, 10362, 10329, 10261, 10143, 10094...      0  \n",
        "3748069  [8909, 8696, 9977, 9542, 9468, 9319, 9014, 867...      0  \n",
        "3748070                                [8909, 8696, 10265]      0  \n",
        "3748071                                 [8909, 8696, 2389]      0  \n",
        "3748072  [8909, 8696, 10027, 10022, 9943, 9921, 9810, 9...      0  \n",
        "3748073                           [8909, 8696, 3142, 3087]      0  \n",
        "3748074  [8909, 8696, 10316, 10203, 9983, 9946, 9884, 9...      0  \n",
        "3748075                           [8909, 8696, 1632, 1559]      0  \n",
        "3748076                                 [8909, 8696, 3319]      0  \n",
        "3748077  [8909, 8696, 8657, 8487, 8447, 8440, 8416, 840...      0  \n",
        "3748078  [8909, 8696, 10085, 10082, 10065, 9919, 9819, ...      0  \n",
        "3748079  [8909, 8696, 2493, 2489, 2484, 2461, 2438, 241...      0  \n",
        "3748080  [8909, 8696, 10204, 9969, 9968, 9946, 9501, 94...      0  \n",
        "3748081      [8909, 8696, 10218, 10142, 10024, 9989, 9965]      0  \n",
        "3748082         [8909, 8696, 4200, 4130, 4129, 4090, 4062]      0  \n",
        "3748083   [8909, 8696, 2439, 2126, 1752, 1722, 1570, 1505]      0  \n",
        "3748084                                 [8909, 8696, 2923]      0  \n",
        "3748085                           [8909, 8696, 8840, 8624]      0  \n",
        "3748086                                 [8909, 8696, 4596]      0  \n",
        "3748087  [8909, 8696, 9813, 9808, 9731, 9694, 9693, 967...      0  \n",
        "3748088                                 [8909, 8696, 3137]      0  \n",
        "3748089  [8909, 8696, 9861, 9804, 9803, 9796, 9793, 978...      0  \n",
        "3748090  [8909, 8696, 7988, 7985, 7980, 7967, 7932, 792...      0  \n",
        "3748091  [8909, 8696, 10355, 10351, 10320, 10316, 10295...      0  \n",
        "3748092  [8909, 8696, 10321, 10306, 10218, 10213, 9474,...      0  \n",
        "3748093  [8909, 8696, 7411, 6501, 6483, 5413B, 5413A, 5...      0  \n",
        "3748094  [8909, 8696, 8216, 8200, 8082, 8060, 8019, 798...      0  \n",
        "\n",
        "[3746160 rows x 4 columns]"
       ]
      }
     ],
     "prompt_number": 11
    },
    {
     "cell_type": "code",
     "collapsed": false,
     "input": [
      "df1 = df1[df1.Count != 0]  # remove rows with 0 count\n",
      "df1"
     ],
     "language": "python",
     "metadata": {},
     "outputs": [
      {
       "html": [
        "<div style=\"max-height:1000px;max-width:1500px;overflow:auto;\">\n",
        "<table border=\"1\" class=\"dataframe\">\n",
        "  <thead>\n",
        "    <tr style=\"text-align: right;\">\n",
        "      <th></th>\n",
        "      <th>Product1</th>\n",
        "      <th>Product2</th>\n",
        "      <th>Name</th>\n",
        "      <th>Count</th>\n",
        "    </tr>\n",
        "  </thead>\n",
        "  <tbody>\n",
        "    <tr>\n",
        "      <th>20     </th>\n",
        "      <td>                                       ALMOND MILK</td>\n",
        "      <td>                                   7 GRAIN MILK</td>\n",
        "      <td> [2498, 2486, 2467, 2461, 2418, 2367, 2253, 225...</td>\n",
        "      <td> 7</td>\n",
        "    </tr>\n",
        "    <tr>\n",
        "      <th>33     </th>\n",
        "      <td>                             AMERICAN GREEN APPLES</td>\n",
        "      <td>                                   7 GRAIN MILK</td>\n",
        "      <td> [2498, 2486, 2467, 2461, 2418, 2367, 2253, 225...</td>\n",
        "      <td> 1</td>\n",
        "    </tr>\n",
        "    <tr>\n",
        "      <th>36     </th>\n",
        "      <td>                            AMERICAN YELLOW APPLES</td>\n",
        "      <td>                                   7 GRAIN MILK</td>\n",
        "      <td> [2498, 2486, 2467, 2461, 2418, 2367, 2253, 225...</td>\n",
        "      <td> 2</td>\n",
        "    </tr>\n",
        "    <tr>\n",
        "      <th>44     </th>\n",
        "      <td>                               APPLE CIDER VINEGAR</td>\n",
        "      <td>                                   7 GRAIN MILK</td>\n",
        "      <td> [2498, 2486, 2467, 2461, 2418, 2367, 2253, 225...</td>\n",
        "      <td> 2</td>\n",
        "    </tr>\n",
        "    <tr>\n",
        "      <th>48     </th>\n",
        "      <td>                   APPLE CINNAMON BROWN RICE CAKES</td>\n",
        "      <td>                                   7 GRAIN MILK</td>\n",
        "      <td> [2498, 2486, 2467, 2461, 2418, 2367, 2253, 225...</td>\n",
        "      <td> 2</td>\n",
        "    </tr>\n",
        "    <tr>\n",
        "      <th>51     </th>\n",
        "      <td>                                   APPLES (SUKARY)</td>\n",
        "      <td>                                   7 GRAIN MILK</td>\n",
        "      <td> [2498, 2486, 2467, 2461, 2418, 2367, 2253, 225...</td>\n",
        "      <td> 4</td>\n",
        "    </tr>\n",
        "    <tr>\n",
        "      <th>67     </th>\n",
        "      <td>                                 AUBERGINE (ROUMY)</td>\n",
        "      <td>                                   7 GRAIN MILK</td>\n",
        "      <td> [2498, 2486, 2467, 2461, 2418, 2367, 2253, 225...</td>\n",
        "      <td> 1</td>\n",
        "    </tr>\n",
        "    <tr>\n",
        "      <th>74     </th>\n",
        "      <td>                                           AVOCADO</td>\n",
        "      <td>                                   7 GRAIN MILK</td>\n",
        "      <td> [2498, 2486, 2467, 2461, 2418, 2367, 2253, 225...</td>\n",
        "      <td> 7</td>\n",
        "    </tr>\n",
        "    <tr>\n",
        "      <th>92     </th>\n",
        "      <td>                               BABY FRENCH SPINACH</td>\n",
        "      <td>                                   7 GRAIN MILK</td>\n",
        "      <td> [2498, 2486, 2467, 2461, 2418, 2367, 2253, 225...</td>\n",
        "      <td> 3</td>\n",
        "    </tr>\n",
        "    <tr>\n",
        "      <th>93     </th>\n",
        "      <td>                                         BABY KALE</td>\n",
        "      <td>                                   7 GRAIN MILK</td>\n",
        "      <td> [2498, 2486, 2467, 2461, 2418, 2367, 2253, 225...</td>\n",
        "      <td> 1</td>\n",
        "    </tr>\n",
        "    <tr>\n",
        "      <th>111    </th>\n",
        "      <td>                                       BAKING SODA</td>\n",
        "      <td>                                   7 GRAIN MILK</td>\n",
        "      <td> [2498, 2486, 2467, 2461, 2418, 2367, 2253, 225...</td>\n",
        "      <td> 1</td>\n",
        "    </tr>\n",
        "    <tr>\n",
        "      <th>129    </th>\n",
        "      <td>                                            BANANA</td>\n",
        "      <td>                                   7 GRAIN MILK</td>\n",
        "      <td> [2498, 2486, 2467, 2461, 2418, 2367, 2253, 225...</td>\n",
        "      <td> 4</td>\n",
        "    </tr>\n",
        "    <tr>\n",
        "      <th>141    </th>\n",
        "      <td>                                BASMATI BROWN RICE</td>\n",
        "      <td>                                   7 GRAIN MILK</td>\n",
        "      <td> [2498, 2486, 2467, 2461, 2418, 2367, 2253, 225...</td>\n",
        "      <td> 1</td>\n",
        "    </tr>\n",
        "    <tr>\n",
        "      <th>163    </th>\n",
        "      <td>                                      BEEF CUTLETS</td>\n",
        "      <td>                                   7 GRAIN MILK</td>\n",
        "      <td> [2498, 2486, 2467, 2461, 2418, 2367, 2253, 225...</td>\n",
        "      <td> 1</td>\n",
        "    </tr>\n",
        "    <tr>\n",
        "      <th>165    </th>\n",
        "      <td>                                    BEEF ENTRECOTE</td>\n",
        "      <td>                                   7 GRAIN MILK</td>\n",
        "      <td> [2498, 2486, 2467, 2461, 2418, 2367, 2253, 225...</td>\n",
        "      <td> 1</td>\n",
        "    </tr>\n",
        "    <tr>\n",
        "      <th>171    </th>\n",
        "      <td>                                       BEEF FILLET</td>\n",
        "      <td>                                   7 GRAIN MILK</td>\n",
        "      <td> [2498, 2486, 2467, 2461, 2418, 2367, 2253, 225...</td>\n",
        "      <td> 2</td>\n",
        "    </tr>\n",
        "    <tr>\n",
        "      <th>192    </th>\n",
        "      <td>                                         BEET ROOT</td>\n",
        "      <td>                                   7 GRAIN MILK</td>\n",
        "      <td> [2498, 2486, 2467, 2461, 2418, 2367, 2253, 225...</td>\n",
        "      <td> 1</td>\n",
        "    </tr>\n",
        "    <tr>\n",
        "      <th>193    </th>\n",
        "      <td>                                  BEET ROOT POWDER</td>\n",
        "      <td>                                   7 GRAIN MILK</td>\n",
        "      <td> [2498, 2486, 2467, 2461, 2418, 2367, 2253, 225...</td>\n",
        "      <td> 1</td>\n",
        "    </tr>\n",
        "    <tr>\n",
        "      <th>199    </th>\n",
        "      <td>                                    BENTONITE CLAY</td>\n",
        "      <td>                                   7 GRAIN MILK</td>\n",
        "      <td> [2498, 2486, 2467, 2461, 2418, 2367, 2253, 225...</td>\n",
        "      <td> 1</td>\n",
        "    </tr>\n",
        "    <tr>\n",
        "      <th>224    </th>\n",
        "      <td>                              BLACK SESAME GOMASIO</td>\n",
        "      <td>                                   7 GRAIN MILK</td>\n",
        "      <td> [2498, 2486, 2467, 2461, 2418, 2367, 2253, 225...</td>\n",
        "      <td> 1</td>\n",
        "    </tr>\n",
        "    <tr>\n",
        "      <th>253    </th>\n",
        "      <td>                                          BROCCOLI</td>\n",
        "      <td>                                   7 GRAIN MILK</td>\n",
        "      <td> [2498, 2486, 2467, 2461, 2418, 2367, 2253, 225...</td>\n",
        "      <td> 1</td>\n",
        "    </tr>\n",
        "    <tr>\n",
        "      <th>267    </th>\n",
        "      <td>                           BROWN RICE (KHEIR MISR)</td>\n",
        "      <td>                                   7 GRAIN MILK</td>\n",
        "      <td> [2498, 2486, 2467, 2461, 2418, 2367, 2253, 225...</td>\n",
        "      <td> 4</td>\n",
        "    </tr>\n",
        "    <tr>\n",
        "      <th>275    </th>\n",
        "      <td>                                BROWN RICE CRACKER</td>\n",
        "      <td>                                   7 GRAIN MILK</td>\n",
        "      <td> [2498, 2486, 2467, 2461, 2418, 2367, 2253, 225...</td>\n",
        "      <td> 2</td>\n",
        "    </tr>\n",
        "    <tr>\n",
        "      <th>297    </th>\n",
        "      <td>                                  BRUSSELS SPROUTS</td>\n",
        "      <td>                                   7 GRAIN MILK</td>\n",
        "      <td> [2498, 2486, 2467, 2461, 2418, 2367, 2253, 225...</td>\n",
        "      <td> 1</td>\n",
        "    </tr>\n",
        "    <tr>\n",
        "      <th>306    </th>\n",
        "      <td>                               BURDOCK ROOT POWDER</td>\n",
        "      <td>                                   7 GRAIN MILK</td>\n",
        "      <td> [2498, 2486, 2467, 2461, 2418, 2367, 2253, 225...</td>\n",
        "      <td> 1</td>\n",
        "    </tr>\n",
        "    <tr>\n",
        "      <th>307    </th>\n",
        "      <td>                                BUTTERHEAD LETTUCE</td>\n",
        "      <td>                                   7 GRAIN MILK</td>\n",
        "      <td> [2498, 2486, 2467, 2461, 2418, 2367, 2253, 225...</td>\n",
        "      <td> 1</td>\n",
        "    </tr>\n",
        "    <tr>\n",
        "      <th>325    </th>\n",
        "      <td>                                       CAULIFLOWER</td>\n",
        "      <td>                                   7 GRAIN MILK</td>\n",
        "      <td> [2498, 2486, 2467, 2461, 2418, 2367, 2253, 225...</td>\n",
        "      <td> 2</td>\n",
        "    </tr>\n",
        "    <tr>\n",
        "      <th>372    </th>\n",
        "      <td>                                   CHICKEN BREASTS</td>\n",
        "      <td>                                   7 GRAIN MILK</td>\n",
        "      <td> [2498, 2486, 2467, 2461, 2418, 2367, 2253, 225...</td>\n",
        "      <td> 6</td>\n",
        "    </tr>\n",
        "    <tr>\n",
        "      <th>378    </th>\n",
        "      <td>                     CHICKEN CUTLETS (SHISHTAWOOK)</td>\n",
        "      <td>                                   7 GRAIN MILK</td>\n",
        "      <td> [2498, 2486, 2467, 2461, 2418, 2367, 2253, 225...</td>\n",
        "      <td> 1</td>\n",
        "    </tr>\n",
        "    <tr>\n",
        "      <th>407    </th>\n",
        "      <td>                                            CHIVES</td>\n",
        "      <td>                                   7 GRAIN MILK</td>\n",
        "      <td> [2498, 2486, 2467, 2461, 2418, 2367, 2253, 225...</td>\n",
        "      <td> 2</td>\n",
        "    </tr>\n",
        "    <tr>\n",
        "      <th>...</th>\n",
        "      <td>...</td>\n",
        "      <td>...</td>\n",
        "      <td>...</td>\n",
        "      <td>...</td>\n",
        "    </tr>\n",
        "    <tr>\n",
        "      <th>3746238</th>\n",
        "      <td>                               AVOCADOS (IMPORTED)</td>\n",
        "      <td> ZUCCHINI JAM WITH PISTACHIO &amp; MASTIC (NATURAL)</td>\n",
        "      <td> [8909, 8696, 10366, 10338, 10304, 10292, 10287...</td>\n",
        "      <td> 1</td>\n",
        "    </tr>\n",
        "    <tr>\n",
        "      <th>3746277</th>\n",
        "      <td>                        BALADY BREAD (WHOLE GRAIN)</td>\n",
        "      <td> ZUCCHINI JAM WITH PISTACHIO &amp; MASTIC (NATURAL)</td>\n",
        "      <td> [8909, 8696, 10353, 10288, 10275, 10267, 10252...</td>\n",
        "      <td> 1</td>\n",
        "    </tr>\n",
        "    <tr>\n",
        "      <th>3746281</th>\n",
        "      <td>                             BALADY EGGS (ORGANIC)</td>\n",
        "      <td> ZUCCHINI JAM WITH PISTACHIO &amp; MASTIC (NATURAL)</td>\n",
        "      <td> [8909, 8696, 10353, 10351, 10328, 10319, 10309...</td>\n",
        "      <td> 1</td>\n",
        "    </tr>\n",
        "    <tr>\n",
        "      <th>3746433</th>\n",
        "      <td> BROWN RICE CAKES WITH FLAX AND TAMARI (ORGANC)...</td>\n",
        "      <td> ZUCCHINI JAM WITH PISTACHIO &amp; MASTIC (NATURAL)</td>\n",
        "      <td> [8909, 8696, 9410, 9291, 9257, 9236, 9191, 910...</td>\n",
        "      <td> 1</td>\n",
        "    </tr>\n",
        "    <tr>\n",
        "      <th>3746526</th>\n",
        "      <td>                              CHIA SEEDS (ORGANIC)</td>\n",
        "      <td> ZUCCHINI JAM WITH PISTACHIO &amp; MASTIC (NATURAL)</td>\n",
        "      <td> [8909, 8696, 8744, 8710, 8698, 8696, 8679, 852...</td>\n",
        "      <td> 1</td>\n",
        "    </tr>\n",
        "    <tr>\n",
        "      <th>3746707</th>\n",
        "      <td>                 DRIED FRUIT MIX ( CHEMICAL FREE )</td>\n",
        "      <td> ZUCCHINI JAM WITH PISTACHIO &amp; MASTIC (NATURAL)</td>\n",
        "      <td> [8909, 8696, 9879, 9822, 9779, 9775, 9617, 954...</td>\n",
        "      <td> 1</td>\n",
        "    </tr>\n",
        "    <tr>\n",
        "      <th>3746838</th>\n",
        "      <td>                       FREEKEH (CRACKED) - ORGANIC</td>\n",
        "      <td> ZUCCHINI JAM WITH PISTACHIO &amp; MASTIC (NATURAL)</td>\n",
        "      <td> [8909, 8696, 10321, 9365, 9117, 8990, 8696, 81...</td>\n",
        "      <td> 1</td>\n",
        "    </tr>\n",
        "    <tr>\n",
        "      <th>3746974</th>\n",
        "      <td>                GREEN COFFEE (NATURAL WEIGHT LOSS)</td>\n",
        "      <td> ZUCCHINI JAM WITH PISTACHIO &amp; MASTIC (NATURAL)</td>\n",
        "      <td> [8909, 8696, 10333, 10310, 10308, 10255, 10163...</td>\n",
        "      <td> 1</td>\n",
        "    </tr>\n",
        "    <tr>\n",
        "      <th>3746983</th>\n",
        "      <td>                            GREEN OLIVES (NATURAL)</td>\n",
        "      <td> ZUCCHINI JAM WITH PISTACHIO &amp; MASTIC (NATURAL)</td>\n",
        "      <td> [8909, 8696, 9315, 9120, 9014, 8909, 7953, 570...</td>\n",
        "      <td> 1</td>\n",
        "    </tr>\n",
        "    <tr>\n",
        "      <th>3747002</th>\n",
        "      <td> GUILT FREE NOODLES WITH GARLIC &amp; HERB (GLUTEN ...</td>\n",
        "      <td> ZUCCHINI JAM WITH PISTACHIO &amp; MASTIC (NATURAL)</td>\n",
        "      <td> [8909, 8696, 9124, 9101, 9084, 9041, 8928, 887...</td>\n",
        "      <td> 1</td>\n",
        "    </tr>\n",
        "    <tr>\n",
        "      <th>3747018</th>\n",
        "      <td>                HAMBURGER (CHEMICAL FREE) - FROZEN</td>\n",
        "      <td> ZUCCHINI JAM WITH PISTACHIO &amp; MASTIC (NATURAL)</td>\n",
        "      <td> [8909, 8696, 10258, 10245, 10207, 10195, 10116...</td>\n",
        "      <td> 1</td>\n",
        "    </tr>\n",
        "    <tr>\n",
        "      <th>3747082</th>\n",
        "      <td>       KUKICHA LOOSE TWIG TEA - JAPANESE (ORGANIC)</td>\n",
        "      <td> ZUCCHINI JAM WITH PISTACHIO &amp; MASTIC (NATURAL)</td>\n",
        "      <td> [8909, 8696, 10003, 8909, 8673, 7852, 7707B, 7...</td>\n",
        "      <td> 1</td>\n",
        "    </tr>\n",
        "    <tr>\n",
        "      <th>3747137</th>\n",
        "      <td>                                    MANGO (EWEISS)</td>\n",
        "      <td> ZUCCHINI JAM WITH PISTACHIO &amp; MASTIC (NATURAL)</td>\n",
        "      <td> [8909, 8696, 9381, 9358, 9289, 9200, 9195, 918...</td>\n",
        "      <td> 1</td>\n",
        "    </tr>\n",
        "    <tr>\n",
        "      <th>3747266</th>\n",
        "      <td>          NUTRITION BAR WITH ALMOND BUTTER -PROTEN</td>\n",
        "      <td> ZUCCHINI JAM WITH PISTACHIO &amp; MASTIC (NATURAL)</td>\n",
        "      <td> [8909, 8696, 9380, 9275, 9218, 8945, 8889, 886...</td>\n",
        "      <td> 1</td>\n",
        "    </tr>\n",
        "    <tr>\n",
        "      <th>3747272</th>\n",
        "      <td> NUTRITION BAR WITH CHLORELLA, QUINOA, AND LIN ...</td>\n",
        "      <td> ZUCCHINI JAM WITH PISTACHIO &amp; MASTIC (NATURAL)</td>\n",
        "      <td> [8909, 8696, 9467, 9255, 9244, 9130, 8988, 884...</td>\n",
        "      <td> 1</td>\n",
        "    </tr>\n",
        "    <tr>\n",
        "      <th>3747281</th>\n",
        "      <td>            NUTRITION BAR WITH GOJI BERRIES-PROTEN</td>\n",
        "      <td> ZUCCHINI JAM WITH PISTACHIO &amp; MASTIC (NATURAL)</td>\n",
        "      <td> [8909, 8696, 9385, 9321, 9275, 9027, 8988, 890...</td>\n",
        "      <td> 1</td>\n",
        "    </tr>\n",
        "    <tr>\n",
        "      <th>3747334</th>\n",
        "      <td>               ORGANIC BROWN RICE ELBOW PASTA 340G</td>\n",
        "      <td> ZUCCHINI JAM WITH PISTACHIO &amp; MASTIC (NATURAL)</td>\n",
        "      <td> [8909, 8696, 10108, 10087, 10026, 9997, 9887, ...</td>\n",
        "      <td> 1</td>\n",
        "    </tr>\n",
        "    <tr>\n",
        "      <th>3747528</th>\n",
        "      <td>                             PUMPKIN JAM (NATURAL)</td>\n",
        "      <td> ZUCCHINI JAM WITH PISTACHIO &amp; MASTIC (NATURAL)</td>\n",
        "      <td>  [8909, 8696, 8696, 8252, 6936, 5707, 5218, 5121]</td>\n",
        "      <td> 1</td>\n",
        "    </tr>\n",
        "    <tr>\n",
        "      <th>3747573</th>\n",
        "      <td>                        RAW ALMONDS (SHELLED) 250G</td>\n",
        "      <td> ZUCCHINI JAM WITH PISTACHIO &amp; MASTIC (NATURAL)</td>\n",
        "      <td> [8909, 8696, 10357, 10351, 10317, 10299, 10297...</td>\n",
        "      <td> 1</td>\n",
        "    </tr>\n",
        "    <tr>\n",
        "      <th>3747589</th>\n",
        "      <td>   RAW MILLED LINSEEDS (FLAX SEED MEAL ) - ORGANIC</td>\n",
        "      <td> ZUCCHINI JAM WITH PISTACHIO &amp; MASTIC (NATURAL)</td>\n",
        "      <td> [8909, 8696, 10198, 9846, 9793, 9791, 9673, 95...</td>\n",
        "      <td> 1</td>\n",
        "    </tr>\n",
        "    <tr>\n",
        "      <th>3747592</th>\n",
        "      <td>                                    RAW PECAN 250G</td>\n",
        "      <td> ZUCCHINI JAM WITH PISTACHIO &amp; MASTIC (NATURAL)</td>\n",
        "      <td> [8909, 8696, 10320, 10298, 10198, 10158, 10153...</td>\n",
        "      <td> 1</td>\n",
        "    </tr>\n",
        "    <tr>\n",
        "      <th>3747617</th>\n",
        "      <td>                     RED ASPARAGUS (CHEMICAL FREE)</td>\n",
        "      <td> ZUCCHINI JAM WITH PISTACHIO &amp; MASTIC (NATURAL)</td>\n",
        "      <td> [8909, 8696, 9826, 9800, 9745, 9728, 9712, 968...</td>\n",
        "      <td> 1</td>\n",
        "    </tr>\n",
        "    <tr>\n",
        "      <th>3747623</th>\n",
        "      <td>                          RED CARROT JAM (NATURAL)</td>\n",
        "      <td> ZUCCHINI JAM WITH PISTACHIO &amp; MASTIC (NATURAL)</td>\n",
        "      <td>                    [8909, 8696, 8909, 8041, 7953]</td>\n",
        "      <td> 1</td>\n",
        "    </tr>\n",
        "    <tr>\n",
        "      <th>3747799</th>\n",
        "      <td>   SPANISH EXTRA VIRGIN OLIVE OIL ( ORGANIC ) 473G</td>\n",
        "      <td> ZUCCHINI JAM WITH PISTACHIO &amp; MASTIC (NATURAL)</td>\n",
        "      <td> [8909, 8696, 10289, 10265, 10194, 10126, 10083...</td>\n",
        "      <td> 1</td>\n",
        "    </tr>\n",
        "    <tr>\n",
        "      <th>3747852</th>\n",
        "      <td>                                     SWEET ORANGES</td>\n",
        "      <td> ZUCCHINI JAM WITH PISTACHIO &amp; MASTIC (NATURAL)</td>\n",
        "      <td> [8909, 8696, 9553, 9541, 9467, 9432, 9429, 942...</td>\n",
        "      <td> 1</td>\n",
        "    </tr>\n",
        "    <tr>\n",
        "      <th>3747856</th>\n",
        "      <td>                                  SWEET PINEAPPLES</td>\n",
        "      <td> ZUCCHINI JAM WITH PISTACHIO &amp; MASTIC (NATURAL)</td>\n",
        "      <td> [8909, 8696, 10351, 10200, 10196, 10174, 10159...</td>\n",
        "      <td> 1</td>\n",
        "    </tr>\n",
        "    <tr>\n",
        "      <th>3747866</th>\n",
        "      <td>                        TAMARI SOY SAUCE (ORGANIC)</td>\n",
        "      <td> ZUCCHINI JAM WITH PISTACHIO &amp; MASTIC (NATURAL)</td>\n",
        "      <td> [8909, 8696, 10298, 10196, 10184, 10085, 10076...</td>\n",
        "      <td> 1</td>\n",
        "    </tr>\n",
        "    <tr>\n",
        "      <th>3747931</th>\n",
        "      <td>                           UNSWEETENED ALMOND MILK</td>\n",
        "      <td> ZUCCHINI JAM WITH PISTACHIO &amp; MASTIC (NATURAL)</td>\n",
        "      <td> [8909, 8696, 8819, 8808, 8774, 8772, 8766, 875...</td>\n",
        "      <td> 1</td>\n",
        "    </tr>\n",
        "    <tr>\n",
        "      <th>3747989</th>\n",
        "      <td>                                       WATER MELON</td>\n",
        "      <td> ZUCCHINI JAM WITH PISTACHIO &amp; MASTIC (NATURAL)</td>\n",
        "      <td> [8909, 8696, 9731, 9693, 9121, 9086, 9082, 904...</td>\n",
        "      <td> 1</td>\n",
        "    </tr>\n",
        "    <tr>\n",
        "      <th>3748061</th>\n",
        "      <td>           WILD RICE CAKES (ORGANIC) - GLUTEN FREE</td>\n",
        "      <td> ZUCCHINI JAM WITH PISTACHIO &amp; MASTIC (NATURAL)</td>\n",
        "      <td> [8909, 8696, 10298, 10191, 9651, 9410, 9293, 8...</td>\n",
        "      <td> 1</td>\n",
        "    </tr>\n",
        "  </tbody>\n",
        "</table>\n",
        "<p>223010 rows \u00d7 4 columns</p>\n",
        "</div>"
       ],
       "metadata": {},
       "output_type": "pyout",
       "prompt_number": 12,
       "text": [
        "                                                  Product1  \\\n",
        "20                                             ALMOND MILK   \n",
        "33                                   AMERICAN GREEN APPLES   \n",
        "36                                  AMERICAN YELLOW APPLES   \n",
        "44                                     APPLE CIDER VINEGAR   \n",
        "48                         APPLE CINNAMON BROWN RICE CAKES   \n",
        "51                                         APPLES (SUKARY)   \n",
        "67                                       AUBERGINE (ROUMY)   \n",
        "74                                                 AVOCADO   \n",
        "92                                     BABY FRENCH SPINACH   \n",
        "93                                               BABY KALE   \n",
        "111                                            BAKING SODA   \n",
        "129                                                 BANANA   \n",
        "141                                     BASMATI BROWN RICE   \n",
        "163                                           BEEF CUTLETS   \n",
        "165                                         BEEF ENTRECOTE   \n",
        "171                                            BEEF FILLET   \n",
        "192                                              BEET ROOT   \n",
        "193                                       BEET ROOT POWDER   \n",
        "199                                         BENTONITE CLAY   \n",
        "224                                   BLACK SESAME GOMASIO   \n",
        "253                                               BROCCOLI   \n",
        "267                                BROWN RICE (KHEIR MISR)   \n",
        "275                                     BROWN RICE CRACKER   \n",
        "297                                       BRUSSELS SPROUTS   \n",
        "306                                    BURDOCK ROOT POWDER   \n",
        "307                                     BUTTERHEAD LETTUCE   \n",
        "325                                            CAULIFLOWER   \n",
        "372                                        CHICKEN BREASTS   \n",
        "378                          CHICKEN CUTLETS (SHISHTAWOOK)   \n",
        "407                                                 CHIVES   \n",
        "...                                                    ...   \n",
        "3746238                                AVOCADOS (IMPORTED)   \n",
        "3746277                         BALADY BREAD (WHOLE GRAIN)   \n",
        "3746281                              BALADY EGGS (ORGANIC)   \n",
        "3746433  BROWN RICE CAKES WITH FLAX AND TAMARI (ORGANC)...   \n",
        "3746526                               CHIA SEEDS (ORGANIC)   \n",
        "3746707                  DRIED FRUIT MIX ( CHEMICAL FREE )   \n",
        "3746838                        FREEKEH (CRACKED) - ORGANIC   \n",
        "3746974                 GREEN COFFEE (NATURAL WEIGHT LOSS)   \n",
        "3746983                             GREEN OLIVES (NATURAL)   \n",
        "3747002  GUILT FREE NOODLES WITH GARLIC & HERB (GLUTEN ...   \n",
        "3747018                 HAMBURGER (CHEMICAL FREE) - FROZEN   \n",
        "3747082        KUKICHA LOOSE TWIG TEA - JAPANESE (ORGANIC)   \n",
        "3747137                                     MANGO (EWEISS)   \n",
        "3747266           NUTRITION BAR WITH ALMOND BUTTER -PROTEN   \n",
        "3747272  NUTRITION BAR WITH CHLORELLA, QUINOA, AND LIN ...   \n",
        "3747281             NUTRITION BAR WITH GOJI BERRIES-PROTEN   \n",
        "3747334                ORGANIC BROWN RICE ELBOW PASTA 340G   \n",
        "3747528                              PUMPKIN JAM (NATURAL)   \n",
        "3747573                         RAW ALMONDS (SHELLED) 250G   \n",
        "3747589    RAW MILLED LINSEEDS (FLAX SEED MEAL ) - ORGANIC   \n",
        "3747592                                     RAW PECAN 250G   \n",
        "3747617                      RED ASPARAGUS (CHEMICAL FREE)   \n",
        "3747623                           RED CARROT JAM (NATURAL)   \n",
        "3747799    SPANISH EXTRA VIRGIN OLIVE OIL ( ORGANIC ) 473G   \n",
        "3747852                                      SWEET ORANGES   \n",
        "3747856                                   SWEET PINEAPPLES   \n",
        "3747866                         TAMARI SOY SAUCE (ORGANIC)   \n",
        "3747931                            UNSWEETENED ALMOND MILK   \n",
        "3747989                                        WATER MELON   \n",
        "3748061            WILD RICE CAKES (ORGANIC) - GLUTEN FREE   \n",
        "\n",
        "                                               Product2  \\\n",
        "20                                         7 GRAIN MILK   \n",
        "33                                         7 GRAIN MILK   \n",
        "36                                         7 GRAIN MILK   \n",
        "44                                         7 GRAIN MILK   \n",
        "48                                         7 GRAIN MILK   \n",
        "51                                         7 GRAIN MILK   \n",
        "67                                         7 GRAIN MILK   \n",
        "74                                         7 GRAIN MILK   \n",
        "92                                         7 GRAIN MILK   \n",
        "93                                         7 GRAIN MILK   \n",
        "111                                        7 GRAIN MILK   \n",
        "129                                        7 GRAIN MILK   \n",
        "141                                        7 GRAIN MILK   \n",
        "163                                        7 GRAIN MILK   \n",
        "165                                        7 GRAIN MILK   \n",
        "171                                        7 GRAIN MILK   \n",
        "192                                        7 GRAIN MILK   \n",
        "193                                        7 GRAIN MILK   \n",
        "199                                        7 GRAIN MILK   \n",
        "224                                        7 GRAIN MILK   \n",
        "253                                        7 GRAIN MILK   \n",
        "267                                        7 GRAIN MILK   \n",
        "275                                        7 GRAIN MILK   \n",
        "297                                        7 GRAIN MILK   \n",
        "306                                        7 GRAIN MILK   \n",
        "307                                        7 GRAIN MILK   \n",
        "325                                        7 GRAIN MILK   \n",
        "372                                        7 GRAIN MILK   \n",
        "378                                        7 GRAIN MILK   \n",
        "407                                        7 GRAIN MILK   \n",
        "...                                                 ...   \n",
        "3746238  ZUCCHINI JAM WITH PISTACHIO & MASTIC (NATURAL)   \n",
        "3746277  ZUCCHINI JAM WITH PISTACHIO & MASTIC (NATURAL)   \n",
        "3746281  ZUCCHINI JAM WITH PISTACHIO & MASTIC (NATURAL)   \n",
        "3746433  ZUCCHINI JAM WITH PISTACHIO & MASTIC (NATURAL)   \n",
        "3746526  ZUCCHINI JAM WITH PISTACHIO & MASTIC (NATURAL)   \n",
        "3746707  ZUCCHINI JAM WITH PISTACHIO & MASTIC (NATURAL)   \n",
        "3746838  ZUCCHINI JAM WITH PISTACHIO & MASTIC (NATURAL)   \n",
        "3746974  ZUCCHINI JAM WITH PISTACHIO & MASTIC (NATURAL)   \n",
        "3746983  ZUCCHINI JAM WITH PISTACHIO & MASTIC (NATURAL)   \n",
        "3747002  ZUCCHINI JAM WITH PISTACHIO & MASTIC (NATURAL)   \n",
        "3747018  ZUCCHINI JAM WITH PISTACHIO & MASTIC (NATURAL)   \n",
        "3747082  ZUCCHINI JAM WITH PISTACHIO & MASTIC (NATURAL)   \n",
        "3747137  ZUCCHINI JAM WITH PISTACHIO & MASTIC (NATURAL)   \n",
        "3747266  ZUCCHINI JAM WITH PISTACHIO & MASTIC (NATURAL)   \n",
        "3747272  ZUCCHINI JAM WITH PISTACHIO & MASTIC (NATURAL)   \n",
        "3747281  ZUCCHINI JAM WITH PISTACHIO & MASTIC (NATURAL)   \n",
        "3747334  ZUCCHINI JAM WITH PISTACHIO & MASTIC (NATURAL)   \n",
        "3747528  ZUCCHINI JAM WITH PISTACHIO & MASTIC (NATURAL)   \n",
        "3747573  ZUCCHINI JAM WITH PISTACHIO & MASTIC (NATURAL)   \n",
        "3747589  ZUCCHINI JAM WITH PISTACHIO & MASTIC (NATURAL)   \n",
        "3747592  ZUCCHINI JAM WITH PISTACHIO & MASTIC (NATURAL)   \n",
        "3747617  ZUCCHINI JAM WITH PISTACHIO & MASTIC (NATURAL)   \n",
        "3747623  ZUCCHINI JAM WITH PISTACHIO & MASTIC (NATURAL)   \n",
        "3747799  ZUCCHINI JAM WITH PISTACHIO & MASTIC (NATURAL)   \n",
        "3747852  ZUCCHINI JAM WITH PISTACHIO & MASTIC (NATURAL)   \n",
        "3747856  ZUCCHINI JAM WITH PISTACHIO & MASTIC (NATURAL)   \n",
        "3747866  ZUCCHINI JAM WITH PISTACHIO & MASTIC (NATURAL)   \n",
        "3747931  ZUCCHINI JAM WITH PISTACHIO & MASTIC (NATURAL)   \n",
        "3747989  ZUCCHINI JAM WITH PISTACHIO & MASTIC (NATURAL)   \n",
        "3748061  ZUCCHINI JAM WITH PISTACHIO & MASTIC (NATURAL)   \n",
        "\n",
        "                                                      Name  Count  \n",
        "20       [2498, 2486, 2467, 2461, 2418, 2367, 2253, 225...      7  \n",
        "33       [2498, 2486, 2467, 2461, 2418, 2367, 2253, 225...      1  \n",
        "36       [2498, 2486, 2467, 2461, 2418, 2367, 2253, 225...      2  \n",
        "44       [2498, 2486, 2467, 2461, 2418, 2367, 2253, 225...      2  \n",
        "48       [2498, 2486, 2467, 2461, 2418, 2367, 2253, 225...      2  \n",
        "51       [2498, 2486, 2467, 2461, 2418, 2367, 2253, 225...      4  \n",
        "67       [2498, 2486, 2467, 2461, 2418, 2367, 2253, 225...      1  \n",
        "74       [2498, 2486, 2467, 2461, 2418, 2367, 2253, 225...      7  \n",
        "92       [2498, 2486, 2467, 2461, 2418, 2367, 2253, 225...      3  \n",
        "93       [2498, 2486, 2467, 2461, 2418, 2367, 2253, 225...      1  \n",
        "111      [2498, 2486, 2467, 2461, 2418, 2367, 2253, 225...      1  \n",
        "129      [2498, 2486, 2467, 2461, 2418, 2367, 2253, 225...      4  \n",
        "141      [2498, 2486, 2467, 2461, 2418, 2367, 2253, 225...      1  \n",
        "163      [2498, 2486, 2467, 2461, 2418, 2367, 2253, 225...      1  \n",
        "165      [2498, 2486, 2467, 2461, 2418, 2367, 2253, 225...      1  \n",
        "171      [2498, 2486, 2467, 2461, 2418, 2367, 2253, 225...      2  \n",
        "192      [2498, 2486, 2467, 2461, 2418, 2367, 2253, 225...      1  \n",
        "193      [2498, 2486, 2467, 2461, 2418, 2367, 2253, 225...      1  \n",
        "199      [2498, 2486, 2467, 2461, 2418, 2367, 2253, 225...      1  \n",
        "224      [2498, 2486, 2467, 2461, 2418, 2367, 2253, 225...      1  \n",
        "253      [2498, 2486, 2467, 2461, 2418, 2367, 2253, 225...      1  \n",
        "267      [2498, 2486, 2467, 2461, 2418, 2367, 2253, 225...      4  \n",
        "275      [2498, 2486, 2467, 2461, 2418, 2367, 2253, 225...      2  \n",
        "297      [2498, 2486, 2467, 2461, 2418, 2367, 2253, 225...      1  \n",
        "306      [2498, 2486, 2467, 2461, 2418, 2367, 2253, 225...      1  \n",
        "307      [2498, 2486, 2467, 2461, 2418, 2367, 2253, 225...      1  \n",
        "325      [2498, 2486, 2467, 2461, 2418, 2367, 2253, 225...      2  \n",
        "372      [2498, 2486, 2467, 2461, 2418, 2367, 2253, 225...      6  \n",
        "378      [2498, 2486, 2467, 2461, 2418, 2367, 2253, 225...      1  \n",
        "407      [2498, 2486, 2467, 2461, 2418, 2367, 2253, 225...      2  \n",
        "...                                                    ...    ...  \n",
        "3746238  [8909, 8696, 10366, 10338, 10304, 10292, 10287...      1  \n",
        "3746277  [8909, 8696, 10353, 10288, 10275, 10267, 10252...      1  \n",
        "3746281  [8909, 8696, 10353, 10351, 10328, 10319, 10309...      1  \n",
        "3746433  [8909, 8696, 9410, 9291, 9257, 9236, 9191, 910...      1  \n",
        "3746526  [8909, 8696, 8744, 8710, 8698, 8696, 8679, 852...      1  \n",
        "3746707  [8909, 8696, 9879, 9822, 9779, 9775, 9617, 954...      1  \n",
        "3746838  [8909, 8696, 10321, 9365, 9117, 8990, 8696, 81...      1  \n",
        "3746974  [8909, 8696, 10333, 10310, 10308, 10255, 10163...      1  \n",
        "3746983  [8909, 8696, 9315, 9120, 9014, 8909, 7953, 570...      1  \n",
        "3747002  [8909, 8696, 9124, 9101, 9084, 9041, 8928, 887...      1  \n",
        "3747018  [8909, 8696, 10258, 10245, 10207, 10195, 10116...      1  \n",
        "3747082  [8909, 8696, 10003, 8909, 8673, 7852, 7707B, 7...      1  \n",
        "3747137  [8909, 8696, 9381, 9358, 9289, 9200, 9195, 918...      1  \n",
        "3747266  [8909, 8696, 9380, 9275, 9218, 8945, 8889, 886...      1  \n",
        "3747272  [8909, 8696, 9467, 9255, 9244, 9130, 8988, 884...      1  \n",
        "3747281  [8909, 8696, 9385, 9321, 9275, 9027, 8988, 890...      1  \n",
        "3747334  [8909, 8696, 10108, 10087, 10026, 9997, 9887, ...      1  \n",
        "3747528   [8909, 8696, 8696, 8252, 6936, 5707, 5218, 5121]      1  \n",
        "3747573  [8909, 8696, 10357, 10351, 10317, 10299, 10297...      1  \n",
        "3747589  [8909, 8696, 10198, 9846, 9793, 9791, 9673, 95...      1  \n",
        "3747592  [8909, 8696, 10320, 10298, 10198, 10158, 10153...      1  \n",
        "3747617  [8909, 8696, 9826, 9800, 9745, 9728, 9712, 968...      1  \n",
        "3747623                     [8909, 8696, 8909, 8041, 7953]      1  \n",
        "3747799  [8909, 8696, 10289, 10265, 10194, 10126, 10083...      1  \n",
        "3747852  [8909, 8696, 9553, 9541, 9467, 9432, 9429, 942...      1  \n",
        "3747856  [8909, 8696, 10351, 10200, 10196, 10174, 10159...      1  \n",
        "3747866  [8909, 8696, 10298, 10196, 10184, 10085, 10076...      1  \n",
        "3747931  [8909, 8696, 8819, 8808, 8774, 8772, 8766, 875...      1  \n",
        "3747989  [8909, 8696, 9731, 9693, 9121, 9086, 9082, 904...      1  \n",
        "3748061  [8909, 8696, 10298, 10191, 9651, 9410, 9293, 8...      1  \n",
        "\n",
        "[223010 rows x 4 columns]"
       ]
      }
     ],
     "prompt_number": 12
    },
    {
     "cell_type": "code",
     "collapsed": false,
     "input": [
      "# rows of type 21 and 12 are same, retain one instance of such rows\n",
      "def combineProds(name1, name2, count):\n",
      "    if name1 < name2:\n",
      "        return name1 + \",\" + name2 + \",\" + count\n",
      "    else:\n",
      "        return name2 + \",\" + name1 + \",\" + count\n",
      "\n",
      "\n",
      "df1['newcol'] = df1.apply(lambda x: combineProds(x['Product1'], x['Product2'], str(x['Count'])), axis=1)\n",
      "df1 = df1.drop_duplicates('newcol').reset_index().drop('index', 1)\n",
      "df1"
     ],
     "language": "python",
     "metadata": {},
     "outputs": [
      {
       "output_type": "stream",
       "stream": "stderr",
       "text": [
        "-c:9: SettingWithCopyWarning: \n",
        "A value is trying to be set on a copy of a slice from a DataFrame.\n",
        "Try using .loc[row_indexer,col_indexer] = value instead\n",
        "\n",
        "See the the caveats in the documentation: http://pandas.pydata.org/pandas-docs/stable/indexing.html#indexing-view-versus-copy\n"
       ]
      },
      {
       "html": [
        "<div style=\"max-height:1000px;max-width:1500px;overflow:auto;\">\n",
        "<table border=\"1\" class=\"dataframe\">\n",
        "  <thead>\n",
        "    <tr style=\"text-align: right;\">\n",
        "      <th></th>\n",
        "      <th>Product1</th>\n",
        "      <th>Product2</th>\n",
        "      <th>Name</th>\n",
        "      <th>Count</th>\n",
        "      <th>newcol</th>\n",
        "    </tr>\n",
        "  </thead>\n",
        "  <tbody>\n",
        "    <tr>\n",
        "      <th>0     </th>\n",
        "      <td>                      ALMOND MILK</td>\n",
        "      <td>                    7 GRAIN MILK</td>\n",
        "      <td> [2498, 2486, 2467, 2461, 2418, 2367, 2253, 225...</td>\n",
        "      <td>   7</td>\n",
        "      <td>                        7 GRAIN MILK,ALMOND MILK,7</td>\n",
        "    </tr>\n",
        "    <tr>\n",
        "      <th>1     </th>\n",
        "      <td>            AMERICAN GREEN APPLES</td>\n",
        "      <td>                    7 GRAIN MILK</td>\n",
        "      <td> [2498, 2486, 2467, 2461, 2418, 2367, 2253, 225...</td>\n",
        "      <td>   1</td>\n",
        "      <td>              7 GRAIN MILK,AMERICAN GREEN APPLES,1</td>\n",
        "    </tr>\n",
        "    <tr>\n",
        "      <th>2     </th>\n",
        "      <td>           AMERICAN YELLOW APPLES</td>\n",
        "      <td>                    7 GRAIN MILK</td>\n",
        "      <td> [2498, 2486, 2467, 2461, 2418, 2367, 2253, 225...</td>\n",
        "      <td>   2</td>\n",
        "      <td>             7 GRAIN MILK,AMERICAN YELLOW APPLES,2</td>\n",
        "    </tr>\n",
        "    <tr>\n",
        "      <th>3     </th>\n",
        "      <td>              APPLE CIDER VINEGAR</td>\n",
        "      <td>                    7 GRAIN MILK</td>\n",
        "      <td> [2498, 2486, 2467, 2461, 2418, 2367, 2253, 225...</td>\n",
        "      <td>   2</td>\n",
        "      <td>                7 GRAIN MILK,APPLE CIDER VINEGAR,2</td>\n",
        "    </tr>\n",
        "    <tr>\n",
        "      <th>4     </th>\n",
        "      <td>  APPLE CINNAMON BROWN RICE CAKES</td>\n",
        "      <td>                    7 GRAIN MILK</td>\n",
        "      <td> [2498, 2486, 2467, 2461, 2418, 2367, 2253, 225...</td>\n",
        "      <td>   2</td>\n",
        "      <td>    7 GRAIN MILK,APPLE CINNAMON BROWN RICE CAKES,2</td>\n",
        "    </tr>\n",
        "    <tr>\n",
        "      <th>5     </th>\n",
        "      <td>                  APPLES (SUKARY)</td>\n",
        "      <td>                    7 GRAIN MILK</td>\n",
        "      <td> [2498, 2486, 2467, 2461, 2418, 2367, 2253, 225...</td>\n",
        "      <td>   4</td>\n",
        "      <td>                    7 GRAIN MILK,APPLES (SUKARY),4</td>\n",
        "    </tr>\n",
        "    <tr>\n",
        "      <th>6     </th>\n",
        "      <td>                AUBERGINE (ROUMY)</td>\n",
        "      <td>                    7 GRAIN MILK</td>\n",
        "      <td> [2498, 2486, 2467, 2461, 2418, 2367, 2253, 225...</td>\n",
        "      <td>   1</td>\n",
        "      <td>                  7 GRAIN MILK,AUBERGINE (ROUMY),1</td>\n",
        "    </tr>\n",
        "    <tr>\n",
        "      <th>7     </th>\n",
        "      <td>                          AVOCADO</td>\n",
        "      <td>                    7 GRAIN MILK</td>\n",
        "      <td> [2498, 2486, 2467, 2461, 2418, 2367, 2253, 225...</td>\n",
        "      <td>   7</td>\n",
        "      <td>                            7 GRAIN MILK,AVOCADO,7</td>\n",
        "    </tr>\n",
        "    <tr>\n",
        "      <th>8     </th>\n",
        "      <td>              BABY FRENCH SPINACH</td>\n",
        "      <td>                    7 GRAIN MILK</td>\n",
        "      <td> [2498, 2486, 2467, 2461, 2418, 2367, 2253, 225...</td>\n",
        "      <td>   3</td>\n",
        "      <td>                7 GRAIN MILK,BABY FRENCH SPINACH,3</td>\n",
        "    </tr>\n",
        "    <tr>\n",
        "      <th>9     </th>\n",
        "      <td>                        BABY KALE</td>\n",
        "      <td>                    7 GRAIN MILK</td>\n",
        "      <td> [2498, 2486, 2467, 2461, 2418, 2367, 2253, 225...</td>\n",
        "      <td>   1</td>\n",
        "      <td>                          7 GRAIN MILK,BABY KALE,1</td>\n",
        "    </tr>\n",
        "    <tr>\n",
        "      <th>10    </th>\n",
        "      <td>                      BAKING SODA</td>\n",
        "      <td>                    7 GRAIN MILK</td>\n",
        "      <td> [2498, 2486, 2467, 2461, 2418, 2367, 2253, 225...</td>\n",
        "      <td>   1</td>\n",
        "      <td>                        7 GRAIN MILK,BAKING SODA,1</td>\n",
        "    </tr>\n",
        "    <tr>\n",
        "      <th>11    </th>\n",
        "      <td>                           BANANA</td>\n",
        "      <td>                    7 GRAIN MILK</td>\n",
        "      <td> [2498, 2486, 2467, 2461, 2418, 2367, 2253, 225...</td>\n",
        "      <td>   4</td>\n",
        "      <td>                             7 GRAIN MILK,BANANA,4</td>\n",
        "    </tr>\n",
        "    <tr>\n",
        "      <th>12    </th>\n",
        "      <td>               BASMATI BROWN RICE</td>\n",
        "      <td>                    7 GRAIN MILK</td>\n",
        "      <td> [2498, 2486, 2467, 2461, 2418, 2367, 2253, 225...</td>\n",
        "      <td>   1</td>\n",
        "      <td>                 7 GRAIN MILK,BASMATI BROWN RICE,1</td>\n",
        "    </tr>\n",
        "    <tr>\n",
        "      <th>13    </th>\n",
        "      <td>                     BEEF CUTLETS</td>\n",
        "      <td>                    7 GRAIN MILK</td>\n",
        "      <td> [2498, 2486, 2467, 2461, 2418, 2367, 2253, 225...</td>\n",
        "      <td>   1</td>\n",
        "      <td>                       7 GRAIN MILK,BEEF CUTLETS,1</td>\n",
        "    </tr>\n",
        "    <tr>\n",
        "      <th>14    </th>\n",
        "      <td>                   BEEF ENTRECOTE</td>\n",
        "      <td>                    7 GRAIN MILK</td>\n",
        "      <td> [2498, 2486, 2467, 2461, 2418, 2367, 2253, 225...</td>\n",
        "      <td>   1</td>\n",
        "      <td>                     7 GRAIN MILK,BEEF ENTRECOTE,1</td>\n",
        "    </tr>\n",
        "    <tr>\n",
        "      <th>15    </th>\n",
        "      <td>                      BEEF FILLET</td>\n",
        "      <td>                    7 GRAIN MILK</td>\n",
        "      <td> [2498, 2486, 2467, 2461, 2418, 2367, 2253, 225...</td>\n",
        "      <td>   2</td>\n",
        "      <td>                        7 GRAIN MILK,BEEF FILLET,2</td>\n",
        "    </tr>\n",
        "    <tr>\n",
        "      <th>16    </th>\n",
        "      <td>                        BEET ROOT</td>\n",
        "      <td>                    7 GRAIN MILK</td>\n",
        "      <td> [2498, 2486, 2467, 2461, 2418, 2367, 2253, 225...</td>\n",
        "      <td>   1</td>\n",
        "      <td>                          7 GRAIN MILK,BEET ROOT,1</td>\n",
        "    </tr>\n",
        "    <tr>\n",
        "      <th>17    </th>\n",
        "      <td>                 BEET ROOT POWDER</td>\n",
        "      <td>                    7 GRAIN MILK</td>\n",
        "      <td> [2498, 2486, 2467, 2461, 2418, 2367, 2253, 225...</td>\n",
        "      <td>   1</td>\n",
        "      <td>                   7 GRAIN MILK,BEET ROOT POWDER,1</td>\n",
        "    </tr>\n",
        "    <tr>\n",
        "      <th>18    </th>\n",
        "      <td>                   BENTONITE CLAY</td>\n",
        "      <td>                    7 GRAIN MILK</td>\n",
        "      <td> [2498, 2486, 2467, 2461, 2418, 2367, 2253, 225...</td>\n",
        "      <td>   1</td>\n",
        "      <td>                     7 GRAIN MILK,BENTONITE CLAY,1</td>\n",
        "    </tr>\n",
        "    <tr>\n",
        "      <th>19    </th>\n",
        "      <td>             BLACK SESAME GOMASIO</td>\n",
        "      <td>                    7 GRAIN MILK</td>\n",
        "      <td> [2498, 2486, 2467, 2461, 2418, 2367, 2253, 225...</td>\n",
        "      <td>   1</td>\n",
        "      <td>               7 GRAIN MILK,BLACK SESAME GOMASIO,1</td>\n",
        "    </tr>\n",
        "    <tr>\n",
        "      <th>20    </th>\n",
        "      <td>                         BROCCOLI</td>\n",
        "      <td>                    7 GRAIN MILK</td>\n",
        "      <td> [2498, 2486, 2467, 2461, 2418, 2367, 2253, 225...</td>\n",
        "      <td>   1</td>\n",
        "      <td>                           7 GRAIN MILK,BROCCOLI,1</td>\n",
        "    </tr>\n",
        "    <tr>\n",
        "      <th>21    </th>\n",
        "      <td>          BROWN RICE (KHEIR MISR)</td>\n",
        "      <td>                    7 GRAIN MILK</td>\n",
        "      <td> [2498, 2486, 2467, 2461, 2418, 2367, 2253, 225...</td>\n",
        "      <td>   4</td>\n",
        "      <td>            7 GRAIN MILK,BROWN RICE (KHEIR MISR),4</td>\n",
        "    </tr>\n",
        "    <tr>\n",
        "      <th>22    </th>\n",
        "      <td>               BROWN RICE CRACKER</td>\n",
        "      <td>                    7 GRAIN MILK</td>\n",
        "      <td> [2498, 2486, 2467, 2461, 2418, 2367, 2253, 225...</td>\n",
        "      <td>   2</td>\n",
        "      <td>                 7 GRAIN MILK,BROWN RICE CRACKER,2</td>\n",
        "    </tr>\n",
        "    <tr>\n",
        "      <th>23    </th>\n",
        "      <td>                 BRUSSELS SPROUTS</td>\n",
        "      <td>                    7 GRAIN MILK</td>\n",
        "      <td> [2498, 2486, 2467, 2461, 2418, 2367, 2253, 225...</td>\n",
        "      <td>   1</td>\n",
        "      <td>                   7 GRAIN MILK,BRUSSELS SPROUTS,1</td>\n",
        "    </tr>\n",
        "    <tr>\n",
        "      <th>24    </th>\n",
        "      <td>              BURDOCK ROOT POWDER</td>\n",
        "      <td>                    7 GRAIN MILK</td>\n",
        "      <td> [2498, 2486, 2467, 2461, 2418, 2367, 2253, 225...</td>\n",
        "      <td>   1</td>\n",
        "      <td>                7 GRAIN MILK,BURDOCK ROOT POWDER,1</td>\n",
        "    </tr>\n",
        "    <tr>\n",
        "      <th>25    </th>\n",
        "      <td>               BUTTERHEAD LETTUCE</td>\n",
        "      <td>                    7 GRAIN MILK</td>\n",
        "      <td> [2498, 2486, 2467, 2461, 2418, 2367, 2253, 225...</td>\n",
        "      <td>   1</td>\n",
        "      <td>                 7 GRAIN MILK,BUTTERHEAD LETTUCE,1</td>\n",
        "    </tr>\n",
        "    <tr>\n",
        "      <th>26    </th>\n",
        "      <td>                      CAULIFLOWER</td>\n",
        "      <td>                    7 GRAIN MILK</td>\n",
        "      <td> [2498, 2486, 2467, 2461, 2418, 2367, 2253, 225...</td>\n",
        "      <td>   2</td>\n",
        "      <td>                        7 GRAIN MILK,CAULIFLOWER,2</td>\n",
        "    </tr>\n",
        "    <tr>\n",
        "      <th>27    </th>\n",
        "      <td>                  CHICKEN BREASTS</td>\n",
        "      <td>                    7 GRAIN MILK</td>\n",
        "      <td> [2498, 2486, 2467, 2461, 2418, 2367, 2253, 225...</td>\n",
        "      <td>   6</td>\n",
        "      <td>                    7 GRAIN MILK,CHICKEN BREASTS,6</td>\n",
        "    </tr>\n",
        "    <tr>\n",
        "      <th>28    </th>\n",
        "      <td>    CHICKEN CUTLETS (SHISHTAWOOK)</td>\n",
        "      <td>                    7 GRAIN MILK</td>\n",
        "      <td> [2498, 2486, 2467, 2461, 2418, 2367, 2253, 225...</td>\n",
        "      <td>   1</td>\n",
        "      <td>      7 GRAIN MILK,CHICKEN CUTLETS (SHISHTAWOOK),1</td>\n",
        "    </tr>\n",
        "    <tr>\n",
        "      <th>29    </th>\n",
        "      <td>                           CHIVES</td>\n",
        "      <td>                    7 GRAIN MILK</td>\n",
        "      <td> [2498, 2486, 2467, 2461, 2418, 2367, 2253, 225...</td>\n",
        "      <td>   2</td>\n",
        "      <td>                             7 GRAIN MILK,CHIVES,2</td>\n",
        "    </tr>\n",
        "    <tr>\n",
        "      <th>...</th>\n",
        "      <td>...</td>\n",
        "      <td>...</td>\n",
        "      <td>...</td>\n",
        "      <td>...</td>\n",
        "      <td>...</td>\n",
        "    </tr>\n",
        "    <tr>\n",
        "      <th>111475</th>\n",
        "      <td>                   YELLOW CARROTS</td>\n",
        "      <td>                   YELLOW APPLES</td>\n",
        "      <td> [10316, 10203, 9983, 9946, 9884, 9782, 9731, 9...</td>\n",
        "      <td>   1</td>\n",
        "      <td>                    YELLOW APPLES,YELLOW CARROTS,1</td>\n",
        "    </tr>\n",
        "    <tr>\n",
        "      <th>111476</th>\n",
        "      <td>                YELLOW GRAPEFRUIT</td>\n",
        "      <td>                   YELLOW APPLES</td>\n",
        "      <td> [10316, 10203, 9983, 9946, 9884, 9782, 9731, 9...</td>\n",
        "      <td>   1</td>\n",
        "      <td>                 YELLOW APPLES,YELLOW GRAPEFRUIT,1</td>\n",
        "    </tr>\n",
        "    <tr>\n",
        "      <th>111477</th>\n",
        "      <td>              YOUSSFI (TANGERINE)</td>\n",
        "      <td>                   YELLOW APPLES</td>\n",
        "      <td> [10316, 10203, 9983, 9946, 9884, 9782, 9731, 9...</td>\n",
        "      <td>   2</td>\n",
        "      <td>               YELLOW APPLES,YOUSSFI (TANGERINE),2</td>\n",
        "    </tr>\n",
        "    <tr>\n",
        "      <th>111478</th>\n",
        "      <td>       ZUCCHINI ( CHEMICAL FREE )</td>\n",
        "      <td>                   YELLOW APPLES</td>\n",
        "      <td> [10316, 10203, 9983, 9946, 9884, 9782, 9731, 9...</td>\n",
        "      <td>   3</td>\n",
        "      <td>        YELLOW APPLES,ZUCCHINI ( CHEMICAL FREE ),3</td>\n",
        "    </tr>\n",
        "    <tr>\n",
        "      <th>111479</th>\n",
        "      <td>         ZUCCHINI (CHEMICAL FREE)</td>\n",
        "      <td>                   YELLOW APPLES</td>\n",
        "      <td> [10316, 10203, 9983, 9946, 9884, 9782, 9731, 9...</td>\n",
        "      <td>  10</td>\n",
        "      <td>         YELLOW APPLES,ZUCCHINI (CHEMICAL FREE),10</td>\n",
        "    </tr>\n",
        "    <tr>\n",
        "      <th>111480</th>\n",
        "      <td>               ZUCCHINI (ORGANIC)</td>\n",
        "      <td>                   YELLOW APPLES</td>\n",
        "      <td> [10316, 10203, 9983, 9946, 9884, 9782, 9731, 9...</td>\n",
        "      <td>   2</td>\n",
        "      <td>                YELLOW APPLES,ZUCCHINI (ORGANIC),2</td>\n",
        "    </tr>\n",
        "    <tr>\n",
        "      <th>111481</th>\n",
        "      <td> ZUCCHINI FLOWERS (CHEMICAL FREE)</td>\n",
        "      <td>                   YELLOW APPLES</td>\n",
        "      <td> [10316, 10203, 9983, 9946, 9884, 9782, 9731, 9...</td>\n",
        "      <td>   1</td>\n",
        "      <td>  YELLOW APPLES,ZUCCHINI FLOWERS (CHEMICAL FREE),1</td>\n",
        "    </tr>\n",
        "    <tr>\n",
        "      <th>111482</th>\n",
        "      <td>                   YELLOW CARROTS</td>\n",
        "      <td>                 YELLOW BROCCOLI</td>\n",
        "      <td> [1632, 1559, 10085, 10082, 10065, 9919, 9819, ...</td>\n",
        "      <td>   2</td>\n",
        "      <td>                  YELLOW BROCCOLI,YELLOW CARROTS,2</td>\n",
        "    </tr>\n",
        "    <tr>\n",
        "      <th>111483</th>\n",
        "      <td>                         ZUCCHINI</td>\n",
        "      <td>                 YELLOW BROCCOLI</td>\n",
        "      <td> [1632, 1559, 9861, 9804, 9803, 9796, 9793, 978...</td>\n",
        "      <td>   2</td>\n",
        "      <td>                        YELLOW BROCCOLI,ZUCCHINI,2</td>\n",
        "    </tr>\n",
        "    <tr>\n",
        "      <th>111484</th>\n",
        "      <td>                YELLOW GRAPEFRUIT</td>\n",
        "      <td> YELLOW CARROT ( CHEMICAL FREE )</td>\n",
        "      <td> [8657, 8487, 8447, 8440, 8416, 8402, 8376, 837...</td>\n",
        "      <td>  11</td>\n",
        "      <td> YELLOW CARROT ( CHEMICAL FREE ),YELLOW GRAPEFR...</td>\n",
        "    </tr>\n",
        "    <tr>\n",
        "      <th>111485</th>\n",
        "      <td>       ZUCCHINI ( CHEMICAL FREE )</td>\n",
        "      <td> YELLOW CARROT ( CHEMICAL FREE )</td>\n",
        "      <td> [8657, 8487, 8447, 8440, 8416, 8402, 8376, 837...</td>\n",
        "      <td> 146</td>\n",
        "      <td> YELLOW CARROT ( CHEMICAL FREE ),ZUCCHINI ( CHE...</td>\n",
        "    </tr>\n",
        "    <tr>\n",
        "      <th>111486</th>\n",
        "      <td>         ZUCCHINI (CHEMICAL FREE)</td>\n",
        "      <td> YELLOW CARROT ( CHEMICAL FREE )</td>\n",
        "      <td> [8657, 8487, 8447, 8440, 8416, 8402, 8376, 837...</td>\n",
        "      <td>  36</td>\n",
        "      <td> YELLOW CARROT ( CHEMICAL FREE ),ZUCCHINI (CHEM...</td>\n",
        "    </tr>\n",
        "    <tr>\n",
        "      <th>111487</th>\n",
        "      <td>               ZUCCHINI (ORGANIC)</td>\n",
        "      <td> YELLOW CARROT ( CHEMICAL FREE )</td>\n",
        "      <td> [8657, 8487, 8447, 8440, 8416, 8402, 8376, 837...</td>\n",
        "      <td>   4</td>\n",
        "      <td> YELLOW CARROT ( CHEMICAL FREE ),ZUCCHINI (ORGA...</td>\n",
        "    </tr>\n",
        "    <tr>\n",
        "      <th>111488</th>\n",
        "      <td>           YELLOW CHERRY TOMATOES</td>\n",
        "      <td>                  YELLOW CARROTS</td>\n",
        "      <td> [10085, 10082, 10065, 9919, 9819, 8649, 8620, ...</td>\n",
        "      <td>   4</td>\n",
        "      <td>           YELLOW CARROTS,YELLOW CHERRY TOMATOES,4</td>\n",
        "    </tr>\n",
        "    <tr>\n",
        "      <th>111489</th>\n",
        "      <td>                YELLOW GRAPEFRUIT</td>\n",
        "      <td>                  YELLOW CARROTS</td>\n",
        "      <td> [10085, 10082, 10065, 9919, 9819, 8649, 8620, ...</td>\n",
        "      <td>   1</td>\n",
        "      <td>                YELLOW CARROTS,YELLOW GRAPEFRUIT,1</td>\n",
        "    </tr>\n",
        "    <tr>\n",
        "      <th>111490</th>\n",
        "      <td>                         ZUCCHINI</td>\n",
        "      <td>                  YELLOW CARROTS</td>\n",
        "      <td> [10085, 10082, 10065, 9919, 9819, 8649, 8620, ...</td>\n",
        "      <td> 104</td>\n",
        "      <td>                       YELLOW CARROTS,ZUCCHINI,104</td>\n",
        "    </tr>\n",
        "    <tr>\n",
        "      <th>111491</th>\n",
        "      <td>         ZUCCHINI (CHEMICAL FREE)</td>\n",
        "      <td>                  YELLOW CARROTS</td>\n",
        "      <td> [10085, 10082, 10065, 9919, 9819, 8649, 8620, ...</td>\n",
        "      <td>   3</td>\n",
        "      <td>         YELLOW CARROTS,ZUCCHINI (CHEMICAL FREE),3</td>\n",
        "    </tr>\n",
        "    <tr>\n",
        "      <th>111492</th>\n",
        "      <td>               ZUCCHINI (ORGANIC)</td>\n",
        "      <td>                  YELLOW CARROTS</td>\n",
        "      <td> [10085, 10082, 10065, 9919, 9819, 8649, 8620, ...</td>\n",
        "      <td>   3</td>\n",
        "      <td>               YELLOW CARROTS,ZUCCHINI (ORGANIC),3</td>\n",
        "    </tr>\n",
        "    <tr>\n",
        "      <th>111493</th>\n",
        "      <td>                         ZUCCHINI</td>\n",
        "      <td>          YELLOW CHERRY TOMATOES</td>\n",
        "      <td> [2493, 2489, 2484, 2461, 2438, 2410, 1657, 152...</td>\n",
        "      <td>   4</td>\n",
        "      <td>                 YELLOW CHERRY TOMATOES,ZUCCHINI,4</td>\n",
        "    </tr>\n",
        "    <tr>\n",
        "      <th>111494</th>\n",
        "      <td>       ZUCCHINI ( CHEMICAL FREE )</td>\n",
        "      <td>               YELLOW GRAPEFRUIT</td>\n",
        "      <td> [10204, 9969, 9968, 9946, 9501, 9495, 9478, 94...</td>\n",
        "      <td>   3</td>\n",
        "      <td>    YELLOW GRAPEFRUIT,ZUCCHINI ( CHEMICAL FREE ),3</td>\n",
        "    </tr>\n",
        "    <tr>\n",
        "      <th>111495</th>\n",
        "      <td>         ZUCCHINI (CHEMICAL FREE)</td>\n",
        "      <td>               YELLOW GRAPEFRUIT</td>\n",
        "      <td> [10204, 9969, 9968, 9946, 9501, 9495, 9478, 94...</td>\n",
        "      <td>   6</td>\n",
        "      <td>      YELLOW GRAPEFRUIT,ZUCCHINI (CHEMICAL FREE),6</td>\n",
        "    </tr>\n",
        "    <tr>\n",
        "      <th>111496</th>\n",
        "      <td>               ZUCCHINI (ORGANIC)</td>\n",
        "      <td>               YELLOW GRAPEFRUIT</td>\n",
        "      <td> [10204, 9969, 9968, 9946, 9501, 9495, 9478, 94...</td>\n",
        "      <td>   4</td>\n",
        "      <td>            YELLOW GRAPEFRUIT,ZUCCHINI (ORGANIC),4</td>\n",
        "    </tr>\n",
        "    <tr>\n",
        "      <th>111497</th>\n",
        "      <td> ZUCCHINI FLOWERS (CHEMICAL FREE)</td>\n",
        "      <td>               YELLOW GRAPEFRUIT</td>\n",
        "      <td> [10204, 9969, 9968, 9946, 9501, 9495, 9478, 94...</td>\n",
        "      <td>   1</td>\n",
        "      <td> YELLOW GRAPEFRUIT,ZUCCHINI FLOWERS (CHEMICAL F...</td>\n",
        "    </tr>\n",
        "    <tr>\n",
        "      <th>111498</th>\n",
        "      <td>               ZUCCHINI (ORGANIC)</td>\n",
        "      <td>                  YELLOW MUSTARD</td>\n",
        "      <td> [10218, 10142, 10024, 9989, 9965, 10321, 10306...</td>\n",
        "      <td>   1</td>\n",
        "      <td>               YELLOW MUSTARD,ZUCCHINI (ORGANIC),1</td>\n",
        "    </tr>\n",
        "    <tr>\n",
        "      <th>111499</th>\n",
        "      <td>       ZUCCHINI ( CHEMICAL FREE )</td>\n",
        "      <td> YELLOW ONIONS ( CHEMICAL FREE )</td>\n",
        "      <td> [4200, 4130, 4129, 4090, 4062, 7988, 7985, 798...</td>\n",
        "      <td>   2</td>\n",
        "      <td> YELLOW ONIONS ( CHEMICAL FREE ),ZUCCHINI ( CHE...</td>\n",
        "    </tr>\n",
        "    <tr>\n",
        "      <th>111500</th>\n",
        "      <td>         ZUCCHINI (CHEMICAL FREE)</td>\n",
        "      <td>             YOUSSFI (TANGERINE)</td>\n",
        "      <td> [9813, 9808, 9731, 9694, 9693, 9675, 9653, 103...</td>\n",
        "      <td>   1</td>\n",
        "      <td>    YOUSSFI (TANGERINE),ZUCCHINI (CHEMICAL FREE),1</td>\n",
        "    </tr>\n",
        "    <tr>\n",
        "      <th>111501</th>\n",
        "      <td>         ZUCCHINI (CHEMICAL FREE)</td>\n",
        "      <td>      ZUCCHINI ( CHEMICAL FREE )</td>\n",
        "      <td> [7988, 7985, 7980, 7967, 7932, 7926, 7912, 789...</td>\n",
        "      <td>   3</td>\n",
        "      <td> ZUCCHINI ( CHEMICAL FREE ),ZUCCHINI (CHEMICAL ...</td>\n",
        "    </tr>\n",
        "    <tr>\n",
        "      <th>111502</th>\n",
        "      <td>                 ZUCCHINI FLOWERS</td>\n",
        "      <td>      ZUCCHINI ( CHEMICAL FREE )</td>\n",
        "      <td> [7988, 7985, 7980, 7967, 7932, 7926, 7912, 789...</td>\n",
        "      <td>   3</td>\n",
        "      <td>     ZUCCHINI ( CHEMICAL FREE ),ZUCCHINI FLOWERS,3</td>\n",
        "    </tr>\n",
        "    <tr>\n",
        "      <th>111503</th>\n",
        "      <td>               ZUCCHINI (ORGANIC)</td>\n",
        "      <td>        ZUCCHINI (CHEMICAL FREE)</td>\n",
        "      <td> [10355, 10351, 10320, 10316, 10295, 10292, 102...</td>\n",
        "      <td>   4</td>\n",
        "      <td>     ZUCCHINI (CHEMICAL FREE),ZUCCHINI (ORGANIC),4</td>\n",
        "    </tr>\n",
        "    <tr>\n",
        "      <th>111504</th>\n",
        "      <td> ZUCCHINI FLOWERS (CHEMICAL FREE)</td>\n",
        "      <td>              ZUCCHINI (ORGANIC)</td>\n",
        "      <td> [10321, 10306, 10218, 10213, 9474, 9372, 9349,...</td>\n",
        "      <td>   3</td>\n",
        "      <td> ZUCCHINI (ORGANIC),ZUCCHINI FLOWERS (CHEMICAL ...</td>\n",
        "    </tr>\n",
        "  </tbody>\n",
        "</table>\n",
        "<p>111505 rows \u00d7 5 columns</p>\n",
        "</div>"
       ],
       "metadata": {},
       "output_type": "pyout",
       "prompt_number": 13,
       "text": [
        "                                Product1                         Product2  \\\n",
        "0                            ALMOND MILK                     7 GRAIN MILK   \n",
        "1                  AMERICAN GREEN APPLES                     7 GRAIN MILK   \n",
        "2                 AMERICAN YELLOW APPLES                     7 GRAIN MILK   \n",
        "3                    APPLE CIDER VINEGAR                     7 GRAIN MILK   \n",
        "4        APPLE CINNAMON BROWN RICE CAKES                     7 GRAIN MILK   \n",
        "5                        APPLES (SUKARY)                     7 GRAIN MILK   \n",
        "6                      AUBERGINE (ROUMY)                     7 GRAIN MILK   \n",
        "7                                AVOCADO                     7 GRAIN MILK   \n",
        "8                    BABY FRENCH SPINACH                     7 GRAIN MILK   \n",
        "9                              BABY KALE                     7 GRAIN MILK   \n",
        "10                           BAKING SODA                     7 GRAIN MILK   \n",
        "11                                BANANA                     7 GRAIN MILK   \n",
        "12                    BASMATI BROWN RICE                     7 GRAIN MILK   \n",
        "13                          BEEF CUTLETS                     7 GRAIN MILK   \n",
        "14                        BEEF ENTRECOTE                     7 GRAIN MILK   \n",
        "15                           BEEF FILLET                     7 GRAIN MILK   \n",
        "16                             BEET ROOT                     7 GRAIN MILK   \n",
        "17                      BEET ROOT POWDER                     7 GRAIN MILK   \n",
        "18                        BENTONITE CLAY                     7 GRAIN MILK   \n",
        "19                  BLACK SESAME GOMASIO                     7 GRAIN MILK   \n",
        "20                              BROCCOLI                     7 GRAIN MILK   \n",
        "21               BROWN RICE (KHEIR MISR)                     7 GRAIN MILK   \n",
        "22                    BROWN RICE CRACKER                     7 GRAIN MILK   \n",
        "23                      BRUSSELS SPROUTS                     7 GRAIN MILK   \n",
        "24                   BURDOCK ROOT POWDER                     7 GRAIN MILK   \n",
        "25                    BUTTERHEAD LETTUCE                     7 GRAIN MILK   \n",
        "26                           CAULIFLOWER                     7 GRAIN MILK   \n",
        "27                       CHICKEN BREASTS                     7 GRAIN MILK   \n",
        "28         CHICKEN CUTLETS (SHISHTAWOOK)                     7 GRAIN MILK   \n",
        "29                                CHIVES                     7 GRAIN MILK   \n",
        "...                                  ...                              ...   \n",
        "111475                    YELLOW CARROTS                    YELLOW APPLES   \n",
        "111476                 YELLOW GRAPEFRUIT                    YELLOW APPLES   \n",
        "111477               YOUSSFI (TANGERINE)                    YELLOW APPLES   \n",
        "111478        ZUCCHINI ( CHEMICAL FREE )                    YELLOW APPLES   \n",
        "111479          ZUCCHINI (CHEMICAL FREE)                    YELLOW APPLES   \n",
        "111480                ZUCCHINI (ORGANIC)                    YELLOW APPLES   \n",
        "111481  ZUCCHINI FLOWERS (CHEMICAL FREE)                    YELLOW APPLES   \n",
        "111482                    YELLOW CARROTS                  YELLOW BROCCOLI   \n",
        "111483                          ZUCCHINI                  YELLOW BROCCOLI   \n",
        "111484                 YELLOW GRAPEFRUIT  YELLOW CARROT ( CHEMICAL FREE )   \n",
        "111485        ZUCCHINI ( CHEMICAL FREE )  YELLOW CARROT ( CHEMICAL FREE )   \n",
        "111486          ZUCCHINI (CHEMICAL FREE)  YELLOW CARROT ( CHEMICAL FREE )   \n",
        "111487                ZUCCHINI (ORGANIC)  YELLOW CARROT ( CHEMICAL FREE )   \n",
        "111488            YELLOW CHERRY TOMATOES                   YELLOW CARROTS   \n",
        "111489                 YELLOW GRAPEFRUIT                   YELLOW CARROTS   \n",
        "111490                          ZUCCHINI                   YELLOW CARROTS   \n",
        "111491          ZUCCHINI (CHEMICAL FREE)                   YELLOW CARROTS   \n",
        "111492                ZUCCHINI (ORGANIC)                   YELLOW CARROTS   \n",
        "111493                          ZUCCHINI           YELLOW CHERRY TOMATOES   \n",
        "111494        ZUCCHINI ( CHEMICAL FREE )                YELLOW GRAPEFRUIT   \n",
        "111495          ZUCCHINI (CHEMICAL FREE)                YELLOW GRAPEFRUIT   \n",
        "111496                ZUCCHINI (ORGANIC)                YELLOW GRAPEFRUIT   \n",
        "111497  ZUCCHINI FLOWERS (CHEMICAL FREE)                YELLOW GRAPEFRUIT   \n",
        "111498                ZUCCHINI (ORGANIC)                   YELLOW MUSTARD   \n",
        "111499        ZUCCHINI ( CHEMICAL FREE )  YELLOW ONIONS ( CHEMICAL FREE )   \n",
        "111500          ZUCCHINI (CHEMICAL FREE)              YOUSSFI (TANGERINE)   \n",
        "111501          ZUCCHINI (CHEMICAL FREE)       ZUCCHINI ( CHEMICAL FREE )   \n",
        "111502                  ZUCCHINI FLOWERS       ZUCCHINI ( CHEMICAL FREE )   \n",
        "111503                ZUCCHINI (ORGANIC)         ZUCCHINI (CHEMICAL FREE)   \n",
        "111504  ZUCCHINI FLOWERS (CHEMICAL FREE)               ZUCCHINI (ORGANIC)   \n",
        "\n",
        "                                                     Name  Count  \\\n",
        "0       [2498, 2486, 2467, 2461, 2418, 2367, 2253, 225...      7   \n",
        "1       [2498, 2486, 2467, 2461, 2418, 2367, 2253, 225...      1   \n",
        "2       [2498, 2486, 2467, 2461, 2418, 2367, 2253, 225...      2   \n",
        "3       [2498, 2486, 2467, 2461, 2418, 2367, 2253, 225...      2   \n",
        "4       [2498, 2486, 2467, 2461, 2418, 2367, 2253, 225...      2   \n",
        "5       [2498, 2486, 2467, 2461, 2418, 2367, 2253, 225...      4   \n",
        "6       [2498, 2486, 2467, 2461, 2418, 2367, 2253, 225...      1   \n",
        "7       [2498, 2486, 2467, 2461, 2418, 2367, 2253, 225...      7   \n",
        "8       [2498, 2486, 2467, 2461, 2418, 2367, 2253, 225...      3   \n",
        "9       [2498, 2486, 2467, 2461, 2418, 2367, 2253, 225...      1   \n",
        "10      [2498, 2486, 2467, 2461, 2418, 2367, 2253, 225...      1   \n",
        "11      [2498, 2486, 2467, 2461, 2418, 2367, 2253, 225...      4   \n",
        "12      [2498, 2486, 2467, 2461, 2418, 2367, 2253, 225...      1   \n",
        "13      [2498, 2486, 2467, 2461, 2418, 2367, 2253, 225...      1   \n",
        "14      [2498, 2486, 2467, 2461, 2418, 2367, 2253, 225...      1   \n",
        "15      [2498, 2486, 2467, 2461, 2418, 2367, 2253, 225...      2   \n",
        "16      [2498, 2486, 2467, 2461, 2418, 2367, 2253, 225...      1   \n",
        "17      [2498, 2486, 2467, 2461, 2418, 2367, 2253, 225...      1   \n",
        "18      [2498, 2486, 2467, 2461, 2418, 2367, 2253, 225...      1   \n",
        "19      [2498, 2486, 2467, 2461, 2418, 2367, 2253, 225...      1   \n",
        "20      [2498, 2486, 2467, 2461, 2418, 2367, 2253, 225...      1   \n",
        "21      [2498, 2486, 2467, 2461, 2418, 2367, 2253, 225...      4   \n",
        "22      [2498, 2486, 2467, 2461, 2418, 2367, 2253, 225...      2   \n",
        "23      [2498, 2486, 2467, 2461, 2418, 2367, 2253, 225...      1   \n",
        "24      [2498, 2486, 2467, 2461, 2418, 2367, 2253, 225...      1   \n",
        "25      [2498, 2486, 2467, 2461, 2418, 2367, 2253, 225...      1   \n",
        "26      [2498, 2486, 2467, 2461, 2418, 2367, 2253, 225...      2   \n",
        "27      [2498, 2486, 2467, 2461, 2418, 2367, 2253, 225...      6   \n",
        "28      [2498, 2486, 2467, 2461, 2418, 2367, 2253, 225...      1   \n",
        "29      [2498, 2486, 2467, 2461, 2418, 2367, 2253, 225...      2   \n",
        "...                                                   ...    ...   \n",
        "111475  [10316, 10203, 9983, 9946, 9884, 9782, 9731, 9...      1   \n",
        "111476  [10316, 10203, 9983, 9946, 9884, 9782, 9731, 9...      1   \n",
        "111477  [10316, 10203, 9983, 9946, 9884, 9782, 9731, 9...      2   \n",
        "111478  [10316, 10203, 9983, 9946, 9884, 9782, 9731, 9...      3   \n",
        "111479  [10316, 10203, 9983, 9946, 9884, 9782, 9731, 9...     10   \n",
        "111480  [10316, 10203, 9983, 9946, 9884, 9782, 9731, 9...      2   \n",
        "111481  [10316, 10203, 9983, 9946, 9884, 9782, 9731, 9...      1   \n",
        "111482  [1632, 1559, 10085, 10082, 10065, 9919, 9819, ...      2   \n",
        "111483  [1632, 1559, 9861, 9804, 9803, 9796, 9793, 978...      2   \n",
        "111484  [8657, 8487, 8447, 8440, 8416, 8402, 8376, 837...     11   \n",
        "111485  [8657, 8487, 8447, 8440, 8416, 8402, 8376, 837...    146   \n",
        "111486  [8657, 8487, 8447, 8440, 8416, 8402, 8376, 837...     36   \n",
        "111487  [8657, 8487, 8447, 8440, 8416, 8402, 8376, 837...      4   \n",
        "111488  [10085, 10082, 10065, 9919, 9819, 8649, 8620, ...      4   \n",
        "111489  [10085, 10082, 10065, 9919, 9819, 8649, 8620, ...      1   \n",
        "111490  [10085, 10082, 10065, 9919, 9819, 8649, 8620, ...    104   \n",
        "111491  [10085, 10082, 10065, 9919, 9819, 8649, 8620, ...      3   \n",
        "111492  [10085, 10082, 10065, 9919, 9819, 8649, 8620, ...      3   \n",
        "111493  [2493, 2489, 2484, 2461, 2438, 2410, 1657, 152...      4   \n",
        "111494  [10204, 9969, 9968, 9946, 9501, 9495, 9478, 94...      3   \n",
        "111495  [10204, 9969, 9968, 9946, 9501, 9495, 9478, 94...      6   \n",
        "111496  [10204, 9969, 9968, 9946, 9501, 9495, 9478, 94...      4   \n",
        "111497  [10204, 9969, 9968, 9946, 9501, 9495, 9478, 94...      1   \n",
        "111498  [10218, 10142, 10024, 9989, 9965, 10321, 10306...      1   \n",
        "111499  [4200, 4130, 4129, 4090, 4062, 7988, 7985, 798...      2   \n",
        "111500  [9813, 9808, 9731, 9694, 9693, 9675, 9653, 103...      1   \n",
        "111501  [7988, 7985, 7980, 7967, 7932, 7926, 7912, 789...      3   \n",
        "111502  [7988, 7985, 7980, 7967, 7932, 7926, 7912, 789...      3   \n",
        "111503  [10355, 10351, 10320, 10316, 10295, 10292, 102...      4   \n",
        "111504  [10321, 10306, 10218, 10213, 9474, 9372, 9349,...      3   \n",
        "\n",
        "                                                   newcol  \n",
        "0                              7 GRAIN MILK,ALMOND MILK,7  \n",
        "1                    7 GRAIN MILK,AMERICAN GREEN APPLES,1  \n",
        "2                   7 GRAIN MILK,AMERICAN YELLOW APPLES,2  \n",
        "3                      7 GRAIN MILK,APPLE CIDER VINEGAR,2  \n",
        "4          7 GRAIN MILK,APPLE CINNAMON BROWN RICE CAKES,2  \n",
        "5                          7 GRAIN MILK,APPLES (SUKARY),4  \n",
        "6                        7 GRAIN MILK,AUBERGINE (ROUMY),1  \n",
        "7                                  7 GRAIN MILK,AVOCADO,7  \n",
        "8                      7 GRAIN MILK,BABY FRENCH SPINACH,3  \n",
        "9                                7 GRAIN MILK,BABY KALE,1  \n",
        "10                             7 GRAIN MILK,BAKING SODA,1  \n",
        "11                                  7 GRAIN MILK,BANANA,4  \n",
        "12                      7 GRAIN MILK,BASMATI BROWN RICE,1  \n",
        "13                            7 GRAIN MILK,BEEF CUTLETS,1  \n",
        "14                          7 GRAIN MILK,BEEF ENTRECOTE,1  \n",
        "15                             7 GRAIN MILK,BEEF FILLET,2  \n",
        "16                               7 GRAIN MILK,BEET ROOT,1  \n",
        "17                        7 GRAIN MILK,BEET ROOT POWDER,1  \n",
        "18                          7 GRAIN MILK,BENTONITE CLAY,1  \n",
        "19                    7 GRAIN MILK,BLACK SESAME GOMASIO,1  \n",
        "20                                7 GRAIN MILK,BROCCOLI,1  \n",
        "21                 7 GRAIN MILK,BROWN RICE (KHEIR MISR),4  \n",
        "22                      7 GRAIN MILK,BROWN RICE CRACKER,2  \n",
        "23                        7 GRAIN MILK,BRUSSELS SPROUTS,1  \n",
        "24                     7 GRAIN MILK,BURDOCK ROOT POWDER,1  \n",
        "25                      7 GRAIN MILK,BUTTERHEAD LETTUCE,1  \n",
        "26                             7 GRAIN MILK,CAULIFLOWER,2  \n",
        "27                         7 GRAIN MILK,CHICKEN BREASTS,6  \n",
        "28           7 GRAIN MILK,CHICKEN CUTLETS (SHISHTAWOOK),1  \n",
        "29                                  7 GRAIN MILK,CHIVES,2  \n",
        "...                                                   ...  \n",
        "111475                     YELLOW APPLES,YELLOW CARROTS,1  \n",
        "111476                  YELLOW APPLES,YELLOW GRAPEFRUIT,1  \n",
        "111477                YELLOW APPLES,YOUSSFI (TANGERINE),2  \n",
        "111478         YELLOW APPLES,ZUCCHINI ( CHEMICAL FREE ),3  \n",
        "111479          YELLOW APPLES,ZUCCHINI (CHEMICAL FREE),10  \n",
        "111480                 YELLOW APPLES,ZUCCHINI (ORGANIC),2  \n",
        "111481   YELLOW APPLES,ZUCCHINI FLOWERS (CHEMICAL FREE),1  \n",
        "111482                   YELLOW BROCCOLI,YELLOW CARROTS,2  \n",
        "111483                         YELLOW BROCCOLI,ZUCCHINI,2  \n",
        "111484  YELLOW CARROT ( CHEMICAL FREE ),YELLOW GRAPEFR...  \n",
        "111485  YELLOW CARROT ( CHEMICAL FREE ),ZUCCHINI ( CHE...  \n",
        "111486  YELLOW CARROT ( CHEMICAL FREE ),ZUCCHINI (CHEM...  \n",
        "111487  YELLOW CARROT ( CHEMICAL FREE ),ZUCCHINI (ORGA...  \n",
        "111488            YELLOW CARROTS,YELLOW CHERRY TOMATOES,4  \n",
        "111489                 YELLOW CARROTS,YELLOW GRAPEFRUIT,1  \n",
        "111490                        YELLOW CARROTS,ZUCCHINI,104  \n",
        "111491          YELLOW CARROTS,ZUCCHINI (CHEMICAL FREE),3  \n",
        "111492                YELLOW CARROTS,ZUCCHINI (ORGANIC),3  \n",
        "111493                  YELLOW CHERRY TOMATOES,ZUCCHINI,4  \n",
        "111494     YELLOW GRAPEFRUIT,ZUCCHINI ( CHEMICAL FREE ),3  \n",
        "111495       YELLOW GRAPEFRUIT,ZUCCHINI (CHEMICAL FREE),6  \n",
        "111496             YELLOW GRAPEFRUIT,ZUCCHINI (ORGANIC),4  \n",
        "111497  YELLOW GRAPEFRUIT,ZUCCHINI FLOWERS (CHEMICAL F...  \n",
        "111498                YELLOW MUSTARD,ZUCCHINI (ORGANIC),1  \n",
        "111499  YELLOW ONIONS ( CHEMICAL FREE ),ZUCCHINI ( CHE...  \n",
        "111500     YOUSSFI (TANGERINE),ZUCCHINI (CHEMICAL FREE),1  \n",
        "111501  ZUCCHINI ( CHEMICAL FREE ),ZUCCHINI (CHEMICAL ...  \n",
        "111502      ZUCCHINI ( CHEMICAL FREE ),ZUCCHINI FLOWERS,3  \n",
        "111503      ZUCCHINI (CHEMICAL FREE),ZUCCHINI (ORGANIC),4  \n",
        "111504  ZUCCHINI (ORGANIC),ZUCCHINI FLOWERS (CHEMICAL ...  \n",
        "\n",
        "[111505 rows x 5 columns]"
       ]
      }
     ],
     "prompt_number": 13
    },
    {
     "cell_type": "code",
     "collapsed": false,
     "input": [
      "# get required products\n",
      "df1 = df1[['Product1', 'Product2', 'Count']]\n",
      "df1"
     ],
     "language": "python",
     "metadata": {},
     "outputs": [
      {
       "html": [
        "<div style=\"max-height:1000px;max-width:1500px;overflow:auto;\">\n",
        "<table border=\"1\" class=\"dataframe\">\n",
        "  <thead>\n",
        "    <tr style=\"text-align: right;\">\n",
        "      <th></th>\n",
        "      <th>Product1</th>\n",
        "      <th>Product2</th>\n",
        "      <th>Count</th>\n",
        "    </tr>\n",
        "  </thead>\n",
        "  <tbody>\n",
        "    <tr>\n",
        "      <th>0     </th>\n",
        "      <td>                      ALMOND MILK</td>\n",
        "      <td>                    7 GRAIN MILK</td>\n",
        "      <td>   7</td>\n",
        "    </tr>\n",
        "    <tr>\n",
        "      <th>1     </th>\n",
        "      <td>            AMERICAN GREEN APPLES</td>\n",
        "      <td>                    7 GRAIN MILK</td>\n",
        "      <td>   1</td>\n",
        "    </tr>\n",
        "    <tr>\n",
        "      <th>2     </th>\n",
        "      <td>           AMERICAN YELLOW APPLES</td>\n",
        "      <td>                    7 GRAIN MILK</td>\n",
        "      <td>   2</td>\n",
        "    </tr>\n",
        "    <tr>\n",
        "      <th>3     </th>\n",
        "      <td>              APPLE CIDER VINEGAR</td>\n",
        "      <td>                    7 GRAIN MILK</td>\n",
        "      <td>   2</td>\n",
        "    </tr>\n",
        "    <tr>\n",
        "      <th>4     </th>\n",
        "      <td>  APPLE CINNAMON BROWN RICE CAKES</td>\n",
        "      <td>                    7 GRAIN MILK</td>\n",
        "      <td>   2</td>\n",
        "    </tr>\n",
        "    <tr>\n",
        "      <th>5     </th>\n",
        "      <td>                  APPLES (SUKARY)</td>\n",
        "      <td>                    7 GRAIN MILK</td>\n",
        "      <td>   4</td>\n",
        "    </tr>\n",
        "    <tr>\n",
        "      <th>6     </th>\n",
        "      <td>                AUBERGINE (ROUMY)</td>\n",
        "      <td>                    7 GRAIN MILK</td>\n",
        "      <td>   1</td>\n",
        "    </tr>\n",
        "    <tr>\n",
        "      <th>7     </th>\n",
        "      <td>                          AVOCADO</td>\n",
        "      <td>                    7 GRAIN MILK</td>\n",
        "      <td>   7</td>\n",
        "    </tr>\n",
        "    <tr>\n",
        "      <th>8     </th>\n",
        "      <td>              BABY FRENCH SPINACH</td>\n",
        "      <td>                    7 GRAIN MILK</td>\n",
        "      <td>   3</td>\n",
        "    </tr>\n",
        "    <tr>\n",
        "      <th>9     </th>\n",
        "      <td>                        BABY KALE</td>\n",
        "      <td>                    7 GRAIN MILK</td>\n",
        "      <td>   1</td>\n",
        "    </tr>\n",
        "    <tr>\n",
        "      <th>10    </th>\n",
        "      <td>                      BAKING SODA</td>\n",
        "      <td>                    7 GRAIN MILK</td>\n",
        "      <td>   1</td>\n",
        "    </tr>\n",
        "    <tr>\n",
        "      <th>11    </th>\n",
        "      <td>                           BANANA</td>\n",
        "      <td>                    7 GRAIN MILK</td>\n",
        "      <td>   4</td>\n",
        "    </tr>\n",
        "    <tr>\n",
        "      <th>12    </th>\n",
        "      <td>               BASMATI BROWN RICE</td>\n",
        "      <td>                    7 GRAIN MILK</td>\n",
        "      <td>   1</td>\n",
        "    </tr>\n",
        "    <tr>\n",
        "      <th>13    </th>\n",
        "      <td>                     BEEF CUTLETS</td>\n",
        "      <td>                    7 GRAIN MILK</td>\n",
        "      <td>   1</td>\n",
        "    </tr>\n",
        "    <tr>\n",
        "      <th>14    </th>\n",
        "      <td>                   BEEF ENTRECOTE</td>\n",
        "      <td>                    7 GRAIN MILK</td>\n",
        "      <td>   1</td>\n",
        "    </tr>\n",
        "    <tr>\n",
        "      <th>15    </th>\n",
        "      <td>                      BEEF FILLET</td>\n",
        "      <td>                    7 GRAIN MILK</td>\n",
        "      <td>   2</td>\n",
        "    </tr>\n",
        "    <tr>\n",
        "      <th>16    </th>\n",
        "      <td>                        BEET ROOT</td>\n",
        "      <td>                    7 GRAIN MILK</td>\n",
        "      <td>   1</td>\n",
        "    </tr>\n",
        "    <tr>\n",
        "      <th>17    </th>\n",
        "      <td>                 BEET ROOT POWDER</td>\n",
        "      <td>                    7 GRAIN MILK</td>\n",
        "      <td>   1</td>\n",
        "    </tr>\n",
        "    <tr>\n",
        "      <th>18    </th>\n",
        "      <td>                   BENTONITE CLAY</td>\n",
        "      <td>                    7 GRAIN MILK</td>\n",
        "      <td>   1</td>\n",
        "    </tr>\n",
        "    <tr>\n",
        "      <th>19    </th>\n",
        "      <td>             BLACK SESAME GOMASIO</td>\n",
        "      <td>                    7 GRAIN MILK</td>\n",
        "      <td>   1</td>\n",
        "    </tr>\n",
        "    <tr>\n",
        "      <th>20    </th>\n",
        "      <td>                         BROCCOLI</td>\n",
        "      <td>                    7 GRAIN MILK</td>\n",
        "      <td>   1</td>\n",
        "    </tr>\n",
        "    <tr>\n",
        "      <th>21    </th>\n",
        "      <td>          BROWN RICE (KHEIR MISR)</td>\n",
        "      <td>                    7 GRAIN MILK</td>\n",
        "      <td>   4</td>\n",
        "    </tr>\n",
        "    <tr>\n",
        "      <th>22    </th>\n",
        "      <td>               BROWN RICE CRACKER</td>\n",
        "      <td>                    7 GRAIN MILK</td>\n",
        "      <td>   2</td>\n",
        "    </tr>\n",
        "    <tr>\n",
        "      <th>23    </th>\n",
        "      <td>                 BRUSSELS SPROUTS</td>\n",
        "      <td>                    7 GRAIN MILK</td>\n",
        "      <td>   1</td>\n",
        "    </tr>\n",
        "    <tr>\n",
        "      <th>24    </th>\n",
        "      <td>              BURDOCK ROOT POWDER</td>\n",
        "      <td>                    7 GRAIN MILK</td>\n",
        "      <td>   1</td>\n",
        "    </tr>\n",
        "    <tr>\n",
        "      <th>25    </th>\n",
        "      <td>               BUTTERHEAD LETTUCE</td>\n",
        "      <td>                    7 GRAIN MILK</td>\n",
        "      <td>   1</td>\n",
        "    </tr>\n",
        "    <tr>\n",
        "      <th>26    </th>\n",
        "      <td>                      CAULIFLOWER</td>\n",
        "      <td>                    7 GRAIN MILK</td>\n",
        "      <td>   2</td>\n",
        "    </tr>\n",
        "    <tr>\n",
        "      <th>27    </th>\n",
        "      <td>                  CHICKEN BREASTS</td>\n",
        "      <td>                    7 GRAIN MILK</td>\n",
        "      <td>   6</td>\n",
        "    </tr>\n",
        "    <tr>\n",
        "      <th>28    </th>\n",
        "      <td>    CHICKEN CUTLETS (SHISHTAWOOK)</td>\n",
        "      <td>                    7 GRAIN MILK</td>\n",
        "      <td>   1</td>\n",
        "    </tr>\n",
        "    <tr>\n",
        "      <th>29    </th>\n",
        "      <td>                           CHIVES</td>\n",
        "      <td>                    7 GRAIN MILK</td>\n",
        "      <td>   2</td>\n",
        "    </tr>\n",
        "    <tr>\n",
        "      <th>...</th>\n",
        "      <td>...</td>\n",
        "      <td>...</td>\n",
        "      <td>...</td>\n",
        "    </tr>\n",
        "    <tr>\n",
        "      <th>111475</th>\n",
        "      <td>                   YELLOW CARROTS</td>\n",
        "      <td>                   YELLOW APPLES</td>\n",
        "      <td>   1</td>\n",
        "    </tr>\n",
        "    <tr>\n",
        "      <th>111476</th>\n",
        "      <td>                YELLOW GRAPEFRUIT</td>\n",
        "      <td>                   YELLOW APPLES</td>\n",
        "      <td>   1</td>\n",
        "    </tr>\n",
        "    <tr>\n",
        "      <th>111477</th>\n",
        "      <td>              YOUSSFI (TANGERINE)</td>\n",
        "      <td>                   YELLOW APPLES</td>\n",
        "      <td>   2</td>\n",
        "    </tr>\n",
        "    <tr>\n",
        "      <th>111478</th>\n",
        "      <td>       ZUCCHINI ( CHEMICAL FREE )</td>\n",
        "      <td>                   YELLOW APPLES</td>\n",
        "      <td>   3</td>\n",
        "    </tr>\n",
        "    <tr>\n",
        "      <th>111479</th>\n",
        "      <td>         ZUCCHINI (CHEMICAL FREE)</td>\n",
        "      <td>                   YELLOW APPLES</td>\n",
        "      <td>  10</td>\n",
        "    </tr>\n",
        "    <tr>\n",
        "      <th>111480</th>\n",
        "      <td>               ZUCCHINI (ORGANIC)</td>\n",
        "      <td>                   YELLOW APPLES</td>\n",
        "      <td>   2</td>\n",
        "    </tr>\n",
        "    <tr>\n",
        "      <th>111481</th>\n",
        "      <td> ZUCCHINI FLOWERS (CHEMICAL FREE)</td>\n",
        "      <td>                   YELLOW APPLES</td>\n",
        "      <td>   1</td>\n",
        "    </tr>\n",
        "    <tr>\n",
        "      <th>111482</th>\n",
        "      <td>                   YELLOW CARROTS</td>\n",
        "      <td>                 YELLOW BROCCOLI</td>\n",
        "      <td>   2</td>\n",
        "    </tr>\n",
        "    <tr>\n",
        "      <th>111483</th>\n",
        "      <td>                         ZUCCHINI</td>\n",
        "      <td>                 YELLOW BROCCOLI</td>\n",
        "      <td>   2</td>\n",
        "    </tr>\n",
        "    <tr>\n",
        "      <th>111484</th>\n",
        "      <td>                YELLOW GRAPEFRUIT</td>\n",
        "      <td> YELLOW CARROT ( CHEMICAL FREE )</td>\n",
        "      <td>  11</td>\n",
        "    </tr>\n",
        "    <tr>\n",
        "      <th>111485</th>\n",
        "      <td>       ZUCCHINI ( CHEMICAL FREE )</td>\n",
        "      <td> YELLOW CARROT ( CHEMICAL FREE )</td>\n",
        "      <td> 146</td>\n",
        "    </tr>\n",
        "    <tr>\n",
        "      <th>111486</th>\n",
        "      <td>         ZUCCHINI (CHEMICAL FREE)</td>\n",
        "      <td> YELLOW CARROT ( CHEMICAL FREE )</td>\n",
        "      <td>  36</td>\n",
        "    </tr>\n",
        "    <tr>\n",
        "      <th>111487</th>\n",
        "      <td>               ZUCCHINI (ORGANIC)</td>\n",
        "      <td> YELLOW CARROT ( CHEMICAL FREE )</td>\n",
        "      <td>   4</td>\n",
        "    </tr>\n",
        "    <tr>\n",
        "      <th>111488</th>\n",
        "      <td>           YELLOW CHERRY TOMATOES</td>\n",
        "      <td>                  YELLOW CARROTS</td>\n",
        "      <td>   4</td>\n",
        "    </tr>\n",
        "    <tr>\n",
        "      <th>111489</th>\n",
        "      <td>                YELLOW GRAPEFRUIT</td>\n",
        "      <td>                  YELLOW CARROTS</td>\n",
        "      <td>   1</td>\n",
        "    </tr>\n",
        "    <tr>\n",
        "      <th>111490</th>\n",
        "      <td>                         ZUCCHINI</td>\n",
        "      <td>                  YELLOW CARROTS</td>\n",
        "      <td> 104</td>\n",
        "    </tr>\n",
        "    <tr>\n",
        "      <th>111491</th>\n",
        "      <td>         ZUCCHINI (CHEMICAL FREE)</td>\n",
        "      <td>                  YELLOW CARROTS</td>\n",
        "      <td>   3</td>\n",
        "    </tr>\n",
        "    <tr>\n",
        "      <th>111492</th>\n",
        "      <td>               ZUCCHINI (ORGANIC)</td>\n",
        "      <td>                  YELLOW CARROTS</td>\n",
        "      <td>   3</td>\n",
        "    </tr>\n",
        "    <tr>\n",
        "      <th>111493</th>\n",
        "      <td>                         ZUCCHINI</td>\n",
        "      <td>          YELLOW CHERRY TOMATOES</td>\n",
        "      <td>   4</td>\n",
        "    </tr>\n",
        "    <tr>\n",
        "      <th>111494</th>\n",
        "      <td>       ZUCCHINI ( CHEMICAL FREE )</td>\n",
        "      <td>               YELLOW GRAPEFRUIT</td>\n",
        "      <td>   3</td>\n",
        "    </tr>\n",
        "    <tr>\n",
        "      <th>111495</th>\n",
        "      <td>         ZUCCHINI (CHEMICAL FREE)</td>\n",
        "      <td>               YELLOW GRAPEFRUIT</td>\n",
        "      <td>   6</td>\n",
        "    </tr>\n",
        "    <tr>\n",
        "      <th>111496</th>\n",
        "      <td>               ZUCCHINI (ORGANIC)</td>\n",
        "      <td>               YELLOW GRAPEFRUIT</td>\n",
        "      <td>   4</td>\n",
        "    </tr>\n",
        "    <tr>\n",
        "      <th>111497</th>\n",
        "      <td> ZUCCHINI FLOWERS (CHEMICAL FREE)</td>\n",
        "      <td>               YELLOW GRAPEFRUIT</td>\n",
        "      <td>   1</td>\n",
        "    </tr>\n",
        "    <tr>\n",
        "      <th>111498</th>\n",
        "      <td>               ZUCCHINI (ORGANIC)</td>\n",
        "      <td>                  YELLOW MUSTARD</td>\n",
        "      <td>   1</td>\n",
        "    </tr>\n",
        "    <tr>\n",
        "      <th>111499</th>\n",
        "      <td>       ZUCCHINI ( CHEMICAL FREE )</td>\n",
        "      <td> YELLOW ONIONS ( CHEMICAL FREE )</td>\n",
        "      <td>   2</td>\n",
        "    </tr>\n",
        "    <tr>\n",
        "      <th>111500</th>\n",
        "      <td>         ZUCCHINI (CHEMICAL FREE)</td>\n",
        "      <td>             YOUSSFI (TANGERINE)</td>\n",
        "      <td>   1</td>\n",
        "    </tr>\n",
        "    <tr>\n",
        "      <th>111501</th>\n",
        "      <td>         ZUCCHINI (CHEMICAL FREE)</td>\n",
        "      <td>      ZUCCHINI ( CHEMICAL FREE )</td>\n",
        "      <td>   3</td>\n",
        "    </tr>\n",
        "    <tr>\n",
        "      <th>111502</th>\n",
        "      <td>                 ZUCCHINI FLOWERS</td>\n",
        "      <td>      ZUCCHINI ( CHEMICAL FREE )</td>\n",
        "      <td>   3</td>\n",
        "    </tr>\n",
        "    <tr>\n",
        "      <th>111503</th>\n",
        "      <td>               ZUCCHINI (ORGANIC)</td>\n",
        "      <td>        ZUCCHINI (CHEMICAL FREE)</td>\n",
        "      <td>   4</td>\n",
        "    </tr>\n",
        "    <tr>\n",
        "      <th>111504</th>\n",
        "      <td> ZUCCHINI FLOWERS (CHEMICAL FREE)</td>\n",
        "      <td>              ZUCCHINI (ORGANIC)</td>\n",
        "      <td>   3</td>\n",
        "    </tr>\n",
        "  </tbody>\n",
        "</table>\n",
        "<p>111505 rows \u00d7 3 columns</p>\n",
        "</div>"
       ],
       "metadata": {},
       "output_type": "pyout",
       "prompt_number": 14,
       "text": [
        "                                Product1                         Product2  \\\n",
        "0                            ALMOND MILK                     7 GRAIN MILK   \n",
        "1                  AMERICAN GREEN APPLES                     7 GRAIN MILK   \n",
        "2                 AMERICAN YELLOW APPLES                     7 GRAIN MILK   \n",
        "3                    APPLE CIDER VINEGAR                     7 GRAIN MILK   \n",
        "4        APPLE CINNAMON BROWN RICE CAKES                     7 GRAIN MILK   \n",
        "5                        APPLES (SUKARY)                     7 GRAIN MILK   \n",
        "6                      AUBERGINE (ROUMY)                     7 GRAIN MILK   \n",
        "7                                AVOCADO                     7 GRAIN MILK   \n",
        "8                    BABY FRENCH SPINACH                     7 GRAIN MILK   \n",
        "9                              BABY KALE                     7 GRAIN MILK   \n",
        "10                           BAKING SODA                     7 GRAIN MILK   \n",
        "11                                BANANA                     7 GRAIN MILK   \n",
        "12                    BASMATI BROWN RICE                     7 GRAIN MILK   \n",
        "13                          BEEF CUTLETS                     7 GRAIN MILK   \n",
        "14                        BEEF ENTRECOTE                     7 GRAIN MILK   \n",
        "15                           BEEF FILLET                     7 GRAIN MILK   \n",
        "16                             BEET ROOT                     7 GRAIN MILK   \n",
        "17                      BEET ROOT POWDER                     7 GRAIN MILK   \n",
        "18                        BENTONITE CLAY                     7 GRAIN MILK   \n",
        "19                  BLACK SESAME GOMASIO                     7 GRAIN MILK   \n",
        "20                              BROCCOLI                     7 GRAIN MILK   \n",
        "21               BROWN RICE (KHEIR MISR)                     7 GRAIN MILK   \n",
        "22                    BROWN RICE CRACKER                     7 GRAIN MILK   \n",
        "23                      BRUSSELS SPROUTS                     7 GRAIN MILK   \n",
        "24                   BURDOCK ROOT POWDER                     7 GRAIN MILK   \n",
        "25                    BUTTERHEAD LETTUCE                     7 GRAIN MILK   \n",
        "26                           CAULIFLOWER                     7 GRAIN MILK   \n",
        "27                       CHICKEN BREASTS                     7 GRAIN MILK   \n",
        "28         CHICKEN CUTLETS (SHISHTAWOOK)                     7 GRAIN MILK   \n",
        "29                                CHIVES                     7 GRAIN MILK   \n",
        "...                                  ...                              ...   \n",
        "111475                    YELLOW CARROTS                    YELLOW APPLES   \n",
        "111476                 YELLOW GRAPEFRUIT                    YELLOW APPLES   \n",
        "111477               YOUSSFI (TANGERINE)                    YELLOW APPLES   \n",
        "111478        ZUCCHINI ( CHEMICAL FREE )                    YELLOW APPLES   \n",
        "111479          ZUCCHINI (CHEMICAL FREE)                    YELLOW APPLES   \n",
        "111480                ZUCCHINI (ORGANIC)                    YELLOW APPLES   \n",
        "111481  ZUCCHINI FLOWERS (CHEMICAL FREE)                    YELLOW APPLES   \n",
        "111482                    YELLOW CARROTS                  YELLOW BROCCOLI   \n",
        "111483                          ZUCCHINI                  YELLOW BROCCOLI   \n",
        "111484                 YELLOW GRAPEFRUIT  YELLOW CARROT ( CHEMICAL FREE )   \n",
        "111485        ZUCCHINI ( CHEMICAL FREE )  YELLOW CARROT ( CHEMICAL FREE )   \n",
        "111486          ZUCCHINI (CHEMICAL FREE)  YELLOW CARROT ( CHEMICAL FREE )   \n",
        "111487                ZUCCHINI (ORGANIC)  YELLOW CARROT ( CHEMICAL FREE )   \n",
        "111488            YELLOW CHERRY TOMATOES                   YELLOW CARROTS   \n",
        "111489                 YELLOW GRAPEFRUIT                   YELLOW CARROTS   \n",
        "111490                          ZUCCHINI                   YELLOW CARROTS   \n",
        "111491          ZUCCHINI (CHEMICAL FREE)                   YELLOW CARROTS   \n",
        "111492                ZUCCHINI (ORGANIC)                   YELLOW CARROTS   \n",
        "111493                          ZUCCHINI           YELLOW CHERRY TOMATOES   \n",
        "111494        ZUCCHINI ( CHEMICAL FREE )                YELLOW GRAPEFRUIT   \n",
        "111495          ZUCCHINI (CHEMICAL FREE)                YELLOW GRAPEFRUIT   \n",
        "111496                ZUCCHINI (ORGANIC)                YELLOW GRAPEFRUIT   \n",
        "111497  ZUCCHINI FLOWERS (CHEMICAL FREE)                YELLOW GRAPEFRUIT   \n",
        "111498                ZUCCHINI (ORGANIC)                   YELLOW MUSTARD   \n",
        "111499        ZUCCHINI ( CHEMICAL FREE )  YELLOW ONIONS ( CHEMICAL FREE )   \n",
        "111500          ZUCCHINI (CHEMICAL FREE)              YOUSSFI (TANGERINE)   \n",
        "111501          ZUCCHINI (CHEMICAL FREE)       ZUCCHINI ( CHEMICAL FREE )   \n",
        "111502                  ZUCCHINI FLOWERS       ZUCCHINI ( CHEMICAL FREE )   \n",
        "111503                ZUCCHINI (ORGANIC)         ZUCCHINI (CHEMICAL FREE)   \n",
        "111504  ZUCCHINI FLOWERS (CHEMICAL FREE)               ZUCCHINI (ORGANIC)   \n",
        "\n",
        "        Count  \n",
        "0           7  \n",
        "1           1  \n",
        "2           2  \n",
        "3           2  \n",
        "4           2  \n",
        "5           4  \n",
        "6           1  \n",
        "7           7  \n",
        "8           3  \n",
        "9           1  \n",
        "10          1  \n",
        "11          4  \n",
        "12          1  \n",
        "13          1  \n",
        "14          1  \n",
        "15          2  \n",
        "16          1  \n",
        "17          1  \n",
        "18          1  \n",
        "19          1  \n",
        "20          1  \n",
        "21          4  \n",
        "22          2  \n",
        "23          1  \n",
        "24          1  \n",
        "25          1  \n",
        "26          2  \n",
        "27          6  \n",
        "28          1  \n",
        "29          2  \n",
        "...       ...  \n",
        "111475      1  \n",
        "111476      1  \n",
        "111477      2  \n",
        "111478      3  \n",
        "111479     10  \n",
        "111480      2  \n",
        "111481      1  \n",
        "111482      2  \n",
        "111483      2  \n",
        "111484     11  \n",
        "111485    146  \n",
        "111486     36  \n",
        "111487      4  \n",
        "111488      4  \n",
        "111489      1  \n",
        "111490    104  \n",
        "111491      3  \n",
        "111492      3  \n",
        "111493      4  \n",
        "111494      3  \n",
        "111495      6  \n",
        "111496      4  \n",
        "111497      1  \n",
        "111498      1  \n",
        "111499      2  \n",
        "111500      1  \n",
        "111501      3  \n",
        "111502      3  \n",
        "111503      4  \n",
        "111504      3  \n",
        "\n",
        "[111505 rows x 3 columns]"
       ]
      }
     ],
     "prompt_number": 14
    },
    {
     "cell_type": "code",
     "collapsed": false,
     "input": [
      "# sort based on count in descending order\n",
      "df1 = df1.sort(['Count'], ascending=False)\n",
      "df1 = df1.reset_index().drop('index', 1)\n",
      "df1"
     ],
     "language": "python",
     "metadata": {},
     "outputs": [
      {
       "html": [
        "<div style=\"max-height:1000px;max-width:1500px;overflow:auto;\">\n",
        "<table border=\"1\" class=\"dataframe\">\n",
        "  <thead>\n",
        "    <tr style=\"text-align: right;\">\n",
        "      <th></th>\n",
        "      <th>Product1</th>\n",
        "      <th>Product2</th>\n",
        "      <th>Count</th>\n",
        "    </tr>\n",
        "  </thead>\n",
        "  <tbody>\n",
        "    <tr>\n",
        "      <th>0     </th>\n",
        "      <td>               TOMATO ( CHEMICAL FREE )</td>\n",
        "      <td>                     CUCUMBER ( CHEMICAL FREE )</td>\n",
        "      <td> 328</td>\n",
        "    </tr>\n",
        "    <tr>\n",
        "      <th>1     </th>\n",
        "      <td>                               TOMATOES</td>\n",
        "      <td>                                       CUCUMBER</td>\n",
        "      <td> 225</td>\n",
        "    </tr>\n",
        "    <tr>\n",
        "      <th>2     </th>\n",
        "      <td>        YELLOW CARROT ( CHEMICAL FREE )</td>\n",
        "      <td>                       TOMATO ( CHEMICAL FREE )</td>\n",
        "      <td> 216</td>\n",
        "    </tr>\n",
        "    <tr>\n",
        "      <th>3     </th>\n",
        "      <td>        YELLOW CARROT ( CHEMICAL FREE )</td>\n",
        "      <td>                     CUCUMBER ( CHEMICAL FREE )</td>\n",
        "      <td> 204</td>\n",
        "    </tr>\n",
        "    <tr>\n",
        "      <th>4     </th>\n",
        "      <td>                    WHOLE CHICKEN - 1KG</td>\n",
        "      <td>                          CHICKEN BREASTS - 1KG</td>\n",
        "      <td> 190</td>\n",
        "    </tr>\n",
        "    <tr>\n",
        "      <th>5     </th>\n",
        "      <td>             ZUCCHINI ( CHEMICAL FREE )</td>\n",
        "      <td>                       TOMATO ( CHEMICAL FREE )</td>\n",
        "      <td> 181</td>\n",
        "    </tr>\n",
        "    <tr>\n",
        "      <th>6     </th>\n",
        "      <td>               TOMATO ( CHEMICAL FREE )</td>\n",
        "      <td>                  BALADY EGGS ( CHEMICAL FREE )</td>\n",
        "      <td> 152</td>\n",
        "    </tr>\n",
        "    <tr>\n",
        "      <th>7     </th>\n",
        "      <td>               TOMATO ( CHEMICAL FREE )</td>\n",
        "      <td>                       CUCUMBER (CHEMICAL FREE)</td>\n",
        "      <td> 150</td>\n",
        "    </tr>\n",
        "    <tr>\n",
        "      <th>8     </th>\n",
        "      <td>                               ZUCCHINI</td>\n",
        "      <td>                                       CUCUMBER</td>\n",
        "      <td> 147</td>\n",
        "    </tr>\n",
        "    <tr>\n",
        "      <th>9     </th>\n",
        "      <td>             ZUCCHINI ( CHEMICAL FREE )</td>\n",
        "      <td>                YELLOW CARROT ( CHEMICAL FREE )</td>\n",
        "      <td> 146</td>\n",
        "    </tr>\n",
        "    <tr>\n",
        "      <th>10    </th>\n",
        "      <td>             ZUCCHINI ( CHEMICAL FREE )</td>\n",
        "      <td>                     CUCUMBER ( CHEMICAL FREE )</td>\n",
        "      <td> 144</td>\n",
        "    </tr>\n",
        "    <tr>\n",
        "      <th>11    </th>\n",
        "      <td>                               ZUCCHINI</td>\n",
        "      <td>                                       TOMATOES</td>\n",
        "      <td> 136</td>\n",
        "    </tr>\n",
        "    <tr>\n",
        "      <th>12    </th>\n",
        "      <td>                               CUCUMBER</td>\n",
        "      <td>                                         BANANA</td>\n",
        "      <td> 134</td>\n",
        "    </tr>\n",
        "    <tr>\n",
        "      <th>13    </th>\n",
        "      <td>               TOMATO ( CHEMICAL FREE )</td>\n",
        "      <td>                       POTATOES( CHEMICAL FREE)</td>\n",
        "      <td> 133</td>\n",
        "    </tr>\n",
        "    <tr>\n",
        "      <th>14    </th>\n",
        "      <td>        YELLOW CARROT ( CHEMICAL FREE )</td>\n",
        "      <td>                       POTATOES( CHEMICAL FREE)</td>\n",
        "      <td> 132</td>\n",
        "    </tr>\n",
        "    <tr>\n",
        "      <th>15    </th>\n",
        "      <td>               TOMATO ( CHEMICAL FREE )</td>\n",
        "      <td>                        BANANAS (CHEMICAL FREE)</td>\n",
        "      <td> 126</td>\n",
        "    </tr>\n",
        "    <tr>\n",
        "      <th>16    </th>\n",
        "      <td>        YELLOW CARROT ( CHEMICAL FREE )</td>\n",
        "      <td>                  BALADY EGGS ( CHEMICAL FREE )</td>\n",
        "      <td> 122</td>\n",
        "    </tr>\n",
        "    <tr>\n",
        "      <th>17    </th>\n",
        "      <td>             CUCUMBER ( CHEMICAL FREE )</td>\n",
        "      <td>          COLORED BELL PEPPER ( CHEMICAL FREE )</td>\n",
        "      <td> 120</td>\n",
        "    </tr>\n",
        "    <tr>\n",
        "      <th>18    </th>\n",
        "      <td>                         YELLOW CARROTS</td>\n",
        "      <td>                                       TOMATOES</td>\n",
        "      <td> 119</td>\n",
        "    </tr>\n",
        "    <tr>\n",
        "      <th>19    </th>\n",
        "      <td>             CUCUMBER ( CHEMICAL FREE )</td>\n",
        "      <td>                  BALADY EGGS ( CHEMICAL FREE )</td>\n",
        "      <td> 117</td>\n",
        "    </tr>\n",
        "    <tr>\n",
        "      <th>20    </th>\n",
        "      <td>        YELLOW CARROT ( CHEMICAL FREE )</td>\n",
        "      <td>                        BANANAS (CHEMICAL FREE)</td>\n",
        "      <td> 116</td>\n",
        "    </tr>\n",
        "    <tr>\n",
        "      <th>21    </th>\n",
        "      <td>                         YELLOW CARROTS</td>\n",
        "      <td>                                       CUCUMBER</td>\n",
        "      <td> 115</td>\n",
        "    </tr>\n",
        "    <tr>\n",
        "      <th>22    </th>\n",
        "      <td>               POTATOES( CHEMICAL FREE)</td>\n",
        "      <td>                     CUCUMBER ( CHEMICAL FREE )</td>\n",
        "      <td> 115</td>\n",
        "    </tr>\n",
        "    <tr>\n",
        "      <th>23    </th>\n",
        "      <td>               TOMATO ( CHEMICAL FREE )</td>\n",
        "      <td>          COLORED BELL PEPPER ( CHEMICAL FREE )</td>\n",
        "      <td> 114</td>\n",
        "    </tr>\n",
        "    <tr>\n",
        "      <th>24    </th>\n",
        "      <td>                                   KALE</td>\n",
        "      <td>                                   BABY SPINACH</td>\n",
        "      <td> 113</td>\n",
        "    </tr>\n",
        "    <tr>\n",
        "      <th>25    </th>\n",
        "      <td>               TOMATO ( CHEMICAL FREE )</td>\n",
        "      <td>                                           KIWI</td>\n",
        "      <td> 109</td>\n",
        "    </tr>\n",
        "    <tr>\n",
        "      <th>26    </th>\n",
        "      <td>                               TOMATOES</td>\n",
        "      <td>                                         BANANA</td>\n",
        "      <td> 107</td>\n",
        "    </tr>\n",
        "    <tr>\n",
        "      <th>27    </th>\n",
        "      <td>               TOMATO ( CHEMICAL FREE )</td>\n",
        "      <td>                         ARUGULA(CHEMICAL FREE)</td>\n",
        "      <td> 106</td>\n",
        "    </tr>\n",
        "    <tr>\n",
        "      <th>28    </th>\n",
        "      <td>                               POTATOES</td>\n",
        "      <td>                                       CUCUMBER</td>\n",
        "      <td> 105</td>\n",
        "    </tr>\n",
        "    <tr>\n",
        "      <th>29    </th>\n",
        "      <td>                               ZUCCHINI</td>\n",
        "      <td>                                 YELLOW CARROTS</td>\n",
        "      <td> 104</td>\n",
        "    </tr>\n",
        "    <tr>\n",
        "      <th>...</th>\n",
        "      <td>...</td>\n",
        "      <td>...</td>\n",
        "      <td>...</td>\n",
        "    </tr>\n",
        "    <tr>\n",
        "      <th>111475</th>\n",
        "      <td>                        SALAD SEASONING</td>\n",
        "      <td>                 DRIED CHERRIES (CHEMICAL FREE)</td>\n",
        "      <td>   1</td>\n",
        "    </tr>\n",
        "    <tr>\n",
        "      <th>111476</th>\n",
        "      <td>                       SEA SALT GRINDER</td>\n",
        "      <td>                 DRIED CHERRIES (CHEMICAL FREE)</td>\n",
        "      <td>   1</td>\n",
        "    </tr>\n",
        "    <tr>\n",
        "      <th>111477</th>\n",
        "      <td>                 SMOKED SALMON (FROZEN)</td>\n",
        "      <td>                 DRIED CHERRIES (CHEMICAL FREE)</td>\n",
        "      <td>   1</td>\n",
        "    </tr>\n",
        "    <tr>\n",
        "      <th>111478</th>\n",
        "      <td>        SOYA MILK ( SPECIAL FOR COFFEE)</td>\n",
        "      <td>                 DRIED CHERRIES (CHEMICAL FREE)</td>\n",
        "      <td>   1</td>\n",
        "    </tr>\n",
        "    <tr>\n",
        "      <th>111479</th>\n",
        "      <td>     SPELT &amp; RYE CRACKERS (MIXED SEEDS)</td>\n",
        "      <td>                 DRIED CHERRIES (CHEMICAL FREE)</td>\n",
        "      <td>   1</td>\n",
        "    </tr>\n",
        "    <tr>\n",
        "      <th>111480</th>\n",
        "      <td> SPELT &amp; RYE CRACKERS (SUNFLOWER SEEDS)</td>\n",
        "      <td>                 DRIED CHERRIES (CHEMICAL FREE)</td>\n",
        "      <td>   1</td>\n",
        "    </tr>\n",
        "    <tr>\n",
        "      <th>111481</th>\n",
        "      <td>                 SPINACH(CHEMICAL FREE)</td>\n",
        "      <td>                 DRIED CHERRIES (CHEMICAL FREE)</td>\n",
        "      <td>   1</td>\n",
        "    </tr>\n",
        "    <tr>\n",
        "      <th>111482</th>\n",
        "      <td>           SPRING ONION (CHEMICAL FREE)</td>\n",
        "      <td>                 DRIED CHERRIES (CHEMICAL FREE)</td>\n",
        "      <td>   1</td>\n",
        "    </tr>\n",
        "    <tr>\n",
        "      <th>111483</th>\n",
        "      <td>                      RED PLUMS (LOCAL)</td>\n",
        "      <td>                     BALADY BREAD (WHOLE GRAIN)</td>\n",
        "      <td>   1</td>\n",
        "    </tr>\n",
        "    <tr>\n",
        "      <th>111484</th>\n",
        "      <td>                       SWEET PINEAPPLES</td>\n",
        "      <td>                 DRIED CHERRIES (CHEMICAL FREE)</td>\n",
        "      <td>   1</td>\n",
        "    </tr>\n",
        "    <tr>\n",
        "      <th>111485</th>\n",
        "      <td>          SWEET RED ORANGES(FOR EATING)</td>\n",
        "      <td>                 DRIED CHERRIES (CHEMICAL FREE)</td>\n",
        "      <td>   1</td>\n",
        "    </tr>\n",
        "    <tr>\n",
        "      <th>111486</th>\n",
        "      <td>         SWEET RED ORANGES(FOR JUICING)</td>\n",
        "      <td>                 DRIED CHERRIES (CHEMICAL FREE)</td>\n",
        "      <td>   1</td>\n",
        "    </tr>\n",
        "    <tr>\n",
        "      <th>111487</th>\n",
        "      <td>             SWISS CHARD(CHEMICAL FREE)</td>\n",
        "      <td>                 DRIED CHERRIES (CHEMICAL FREE)</td>\n",
        "      <td>   1</td>\n",
        "    </tr>\n",
        "    <tr>\n",
        "      <th>111488</th>\n",
        "      <td>                THYME ( CHEMICAL FREE )</td>\n",
        "      <td>                 DRIED CHERRIES (CHEMICAL FREE)</td>\n",
        "      <td>   1</td>\n",
        "    </tr>\n",
        "    <tr>\n",
        "      <th>111489</th>\n",
        "      <td>      TOAST BREAD FLOUR ( GLUTEN FREE )</td>\n",
        "      <td>                 DRIED CHERRIES (CHEMICAL FREE)</td>\n",
        "      <td>   1</td>\n",
        "    </tr>\n",
        "    <tr>\n",
        "      <th>111490</th>\n",
        "      <td>             RED PLUM ( CHEMICAL FREE )</td>\n",
        "      <td>                     BALADY BREAD (WHOLE GRAIN)</td>\n",
        "      <td>   1</td>\n",
        "    </tr>\n",
        "    <tr>\n",
        "      <th>111491</th>\n",
        "      <td>                             WATERCRESS</td>\n",
        "      <td>                 DRIED CHERRIES (CHEMICAL FREE)</td>\n",
        "      <td>   1</td>\n",
        "    </tr>\n",
        "    <tr>\n",
        "      <th>111492</th>\n",
        "      <td>                     WHEAT GERM MIRACLE</td>\n",
        "      <td>                 DRIED CHERRIES (CHEMICAL FREE)</td>\n",
        "      <td>   1</td>\n",
        "    </tr>\n",
        "    <tr>\n",
        "      <th>111493</th>\n",
        "      <td>       WHOLE GRAIN CRACKERS WITH GARLIC</td>\n",
        "      <td>                 DRIED CHERRIES (CHEMICAL FREE)</td>\n",
        "      <td>   1</td>\n",
        "    </tr>\n",
        "    <tr>\n",
        "      <th>111494</th>\n",
        "      <td>                   WHOLEGRAINS CRACKERS</td>\n",
        "      <td>                 DRIED CHERRIES (CHEMICAL FREE)</td>\n",
        "      <td>   1</td>\n",
        "    </tr>\n",
        "    <tr>\n",
        "      <th>111495</th>\n",
        "      <td>             ZUCCHINI ( CHEMICAL FREE )</td>\n",
        "      <td>                 DRIED CHERRIES (CHEMICAL FREE)</td>\n",
        "      <td>   1</td>\n",
        "    </tr>\n",
        "    <tr>\n",
        "      <th>111496</th>\n",
        "      <td>               ZUCCHINI (CHEMICAL FREE)</td>\n",
        "      <td>                 DRIED CHERRIES (CHEMICAL FREE)</td>\n",
        "      <td>   1</td>\n",
        "    </tr>\n",
        "    <tr>\n",
        "      <th>111497</th>\n",
        "      <td>    RED CHILLI PEPPER ( CHEMICAL FREE )</td>\n",
        "      <td>                     BALADY BREAD (WHOLE GRAIN)</td>\n",
        "      <td>   1</td>\n",
        "    </tr>\n",
        "    <tr>\n",
        "      <th>111498</th>\n",
        "      <td>          DRIED PEPPERS (CHEMICAL FREE)</td>\n",
        "      <td>                   DRIED CHERRY (CHEMICAL FREE)</td>\n",
        "      <td>   1</td>\n",
        "    </tr>\n",
        "    <tr>\n",
        "      <th>111499</th>\n",
        "      <td>             DRIED PRUNE WITH PITS 250G</td>\n",
        "      <td>                   DRIED CHERRY (CHEMICAL FREE)</td>\n",
        "      <td>   1</td>\n",
        "    </tr>\n",
        "    <tr>\n",
        "      <th>111500</th>\n",
        "      <td>                           DRIED PRUNES</td>\n",
        "      <td>                   DRIED CHERRY (CHEMICAL FREE)</td>\n",
        "      <td>   1</td>\n",
        "    </tr>\n",
        "    <tr>\n",
        "      <th>111501</th>\n",
        "      <td>              RAW WALNUT (SHELLED) 250G</td>\n",
        "      <td>                     BALADY BREAD (WHOLE GRAIN)</td>\n",
        "      <td>   1</td>\n",
        "    </tr>\n",
        "    <tr>\n",
        "      <th>111502</th>\n",
        "      <td>    RAW SUNFLOWER SEED ( SHELLED ) 566G</td>\n",
        "      <td>                     BALADY BREAD (WHOLE GRAIN)</td>\n",
        "      <td>   1</td>\n",
        "    </tr>\n",
        "    <tr>\n",
        "      <th>111503</th>\n",
        "      <td>                DRIED TURKISH FIGS 250G</td>\n",
        "      <td>                   DRIED CHERRY (CHEMICAL FREE)</td>\n",
        "      <td>   1</td>\n",
        "    </tr>\n",
        "    <tr>\n",
        "      <th>111504</th>\n",
        "      <td>             QUINOA PENNE (GLUTEN FREE)</td>\n",
        "      <td> CREAM COOKIE - CHOCOLATE VANILLA (GLUTEN FREE)</td>\n",
        "      <td>   1</td>\n",
        "    </tr>\n",
        "  </tbody>\n",
        "</table>\n",
        "<p>111505 rows \u00d7 3 columns</p>\n",
        "</div>"
       ],
       "metadata": {},
       "output_type": "pyout",
       "prompt_number": 15,
       "text": [
        "                                      Product1  \\\n",
        "0                     TOMATO ( CHEMICAL FREE )   \n",
        "1                                     TOMATOES   \n",
        "2              YELLOW CARROT ( CHEMICAL FREE )   \n",
        "3              YELLOW CARROT ( CHEMICAL FREE )   \n",
        "4                          WHOLE CHICKEN - 1KG   \n",
        "5                   ZUCCHINI ( CHEMICAL FREE )   \n",
        "6                     TOMATO ( CHEMICAL FREE )   \n",
        "7                     TOMATO ( CHEMICAL FREE )   \n",
        "8                                     ZUCCHINI   \n",
        "9                   ZUCCHINI ( CHEMICAL FREE )   \n",
        "10                  ZUCCHINI ( CHEMICAL FREE )   \n",
        "11                                    ZUCCHINI   \n",
        "12                                    CUCUMBER   \n",
        "13                    TOMATO ( CHEMICAL FREE )   \n",
        "14             YELLOW CARROT ( CHEMICAL FREE )   \n",
        "15                    TOMATO ( CHEMICAL FREE )   \n",
        "16             YELLOW CARROT ( CHEMICAL FREE )   \n",
        "17                  CUCUMBER ( CHEMICAL FREE )   \n",
        "18                              YELLOW CARROTS   \n",
        "19                  CUCUMBER ( CHEMICAL FREE )   \n",
        "20             YELLOW CARROT ( CHEMICAL FREE )   \n",
        "21                              YELLOW CARROTS   \n",
        "22                    POTATOES( CHEMICAL FREE)   \n",
        "23                    TOMATO ( CHEMICAL FREE )   \n",
        "24                                        KALE   \n",
        "25                    TOMATO ( CHEMICAL FREE )   \n",
        "26                                    TOMATOES   \n",
        "27                    TOMATO ( CHEMICAL FREE )   \n",
        "28                                    POTATOES   \n",
        "29                                    ZUCCHINI   \n",
        "...                                        ...   \n",
        "111475                         SALAD SEASONING   \n",
        "111476                        SEA SALT GRINDER   \n",
        "111477                  SMOKED SALMON (FROZEN)   \n",
        "111478         SOYA MILK ( SPECIAL FOR COFFEE)   \n",
        "111479      SPELT & RYE CRACKERS (MIXED SEEDS)   \n",
        "111480  SPELT & RYE CRACKERS (SUNFLOWER SEEDS)   \n",
        "111481                  SPINACH(CHEMICAL FREE)   \n",
        "111482            SPRING ONION (CHEMICAL FREE)   \n",
        "111483                       RED PLUMS (LOCAL)   \n",
        "111484                        SWEET PINEAPPLES   \n",
        "111485           SWEET RED ORANGES(FOR EATING)   \n",
        "111486          SWEET RED ORANGES(FOR JUICING)   \n",
        "111487              SWISS CHARD(CHEMICAL FREE)   \n",
        "111488                 THYME ( CHEMICAL FREE )   \n",
        "111489       TOAST BREAD FLOUR ( GLUTEN FREE )   \n",
        "111490              RED PLUM ( CHEMICAL FREE )   \n",
        "111491                              WATERCRESS   \n",
        "111492                      WHEAT GERM MIRACLE   \n",
        "111493        WHOLE GRAIN CRACKERS WITH GARLIC   \n",
        "111494                    WHOLEGRAINS CRACKERS   \n",
        "111495              ZUCCHINI ( CHEMICAL FREE )   \n",
        "111496                ZUCCHINI (CHEMICAL FREE)   \n",
        "111497     RED CHILLI PEPPER ( CHEMICAL FREE )   \n",
        "111498           DRIED PEPPERS (CHEMICAL FREE)   \n",
        "111499              DRIED PRUNE WITH PITS 250G   \n",
        "111500                            DRIED PRUNES   \n",
        "111501               RAW WALNUT (SHELLED) 250G   \n",
        "111502     RAW SUNFLOWER SEED ( SHELLED ) 566G   \n",
        "111503                 DRIED TURKISH FIGS 250G   \n",
        "111504              QUINOA PENNE (GLUTEN FREE)   \n",
        "\n",
        "                                              Product2  Count  \n",
        "0                           CUCUMBER ( CHEMICAL FREE )    328  \n",
        "1                                             CUCUMBER    225  \n",
        "2                             TOMATO ( CHEMICAL FREE )    216  \n",
        "3                           CUCUMBER ( CHEMICAL FREE )    204  \n",
        "4                                CHICKEN BREASTS - 1KG    190  \n",
        "5                             TOMATO ( CHEMICAL FREE )    181  \n",
        "6                        BALADY EGGS ( CHEMICAL FREE )    152  \n",
        "7                             CUCUMBER (CHEMICAL FREE)    150  \n",
        "8                                             CUCUMBER    147  \n",
        "9                      YELLOW CARROT ( CHEMICAL FREE )    146  \n",
        "10                          CUCUMBER ( CHEMICAL FREE )    144  \n",
        "11                                            TOMATOES    136  \n",
        "12                                              BANANA    134  \n",
        "13                            POTATOES( CHEMICAL FREE)    133  \n",
        "14                            POTATOES( CHEMICAL FREE)    132  \n",
        "15                             BANANAS (CHEMICAL FREE)    126  \n",
        "16                       BALADY EGGS ( CHEMICAL FREE )    122  \n",
        "17               COLORED BELL PEPPER ( CHEMICAL FREE )    120  \n",
        "18                                            TOMATOES    119  \n",
        "19                       BALADY EGGS ( CHEMICAL FREE )    117  \n",
        "20                             BANANAS (CHEMICAL FREE)    116  \n",
        "21                                            CUCUMBER    115  \n",
        "22                          CUCUMBER ( CHEMICAL FREE )    115  \n",
        "23               COLORED BELL PEPPER ( CHEMICAL FREE )    114  \n",
        "24                                        BABY SPINACH    113  \n",
        "25                                                KIWI    109  \n",
        "26                                              BANANA    107  \n",
        "27                              ARUGULA(CHEMICAL FREE)    106  \n",
        "28                                            CUCUMBER    105  \n",
        "29                                      YELLOW CARROTS    104  \n",
        "...                                                ...    ...  \n",
        "111475                  DRIED CHERRIES (CHEMICAL FREE)      1  \n",
        "111476                  DRIED CHERRIES (CHEMICAL FREE)      1  \n",
        "111477                  DRIED CHERRIES (CHEMICAL FREE)      1  \n",
        "111478                  DRIED CHERRIES (CHEMICAL FREE)      1  \n",
        "111479                  DRIED CHERRIES (CHEMICAL FREE)      1  \n",
        "111480                  DRIED CHERRIES (CHEMICAL FREE)      1  \n",
        "111481                  DRIED CHERRIES (CHEMICAL FREE)      1  \n",
        "111482                  DRIED CHERRIES (CHEMICAL FREE)      1  \n",
        "111483                      BALADY BREAD (WHOLE GRAIN)      1  \n",
        "111484                  DRIED CHERRIES (CHEMICAL FREE)      1  \n",
        "111485                  DRIED CHERRIES (CHEMICAL FREE)      1  \n",
        "111486                  DRIED CHERRIES (CHEMICAL FREE)      1  \n",
        "111487                  DRIED CHERRIES (CHEMICAL FREE)      1  \n",
        "111488                  DRIED CHERRIES (CHEMICAL FREE)      1  \n",
        "111489                  DRIED CHERRIES (CHEMICAL FREE)      1  \n",
        "111490                      BALADY BREAD (WHOLE GRAIN)      1  \n",
        "111491                  DRIED CHERRIES (CHEMICAL FREE)      1  \n",
        "111492                  DRIED CHERRIES (CHEMICAL FREE)      1  \n",
        "111493                  DRIED CHERRIES (CHEMICAL FREE)      1  \n",
        "111494                  DRIED CHERRIES (CHEMICAL FREE)      1  \n",
        "111495                  DRIED CHERRIES (CHEMICAL FREE)      1  \n",
        "111496                  DRIED CHERRIES (CHEMICAL FREE)      1  \n",
        "111497                      BALADY BREAD (WHOLE GRAIN)      1  \n",
        "111498                    DRIED CHERRY (CHEMICAL FREE)      1  \n",
        "111499                    DRIED CHERRY (CHEMICAL FREE)      1  \n",
        "111500                    DRIED CHERRY (CHEMICAL FREE)      1  \n",
        "111501                      BALADY BREAD (WHOLE GRAIN)      1  \n",
        "111502                      BALADY BREAD (WHOLE GRAIN)      1  \n",
        "111503                    DRIED CHERRY (CHEMICAL FREE)      1  \n",
        "111504  CREAM COOKIE - CHOCOLATE VANILLA (GLUTEN FREE)      1  \n",
        "\n",
        "[111505 rows x 3 columns]"
       ]
      }
     ],
     "prompt_number": 15
    },
    {
     "cell_type": "code",
     "collapsed": false,
     "input": [],
     "language": "python",
     "metadata": {},
     "outputs": []
    }
   ],
   "metadata": {}
  }
 ]
}
{
 "metadata": {
  "name": "",
  "signature": "sha256:ea43cf464d4cf225aa25543c7ff91d7bdb87288da910c0fdb87056ccdf52a9af"
 },
 "nbformat": 3,
 "nbformat_minor": 0,
 "worksheets": [
  {
   "cells": [
    {
     "cell_type": "code",
     "collapsed": false,
     "input": [
      "import pandas as pd\n",
      "from datetime import datetime\n",
      "import re\n",
      "#import yaml\n",
      "\n",
      "#with open(\"config.yaml\", 'r') as ymlfile:\n",
      "#        cfg = yaml.load(ymlfile)\n",
      "\n",
      "#df = pd.read_csv(cfg['root']+cfg['dir_data_shopify']+cfg[\"ip_orders\"], low_memory=False)\n",
      "df = pd.read_csv('C:\\Users\\saisree849\\Documents\\GitHub\\NGS-2.0\\\\12_dashboard_tables\\data_input\\shopify\\orders_export.csv', low_memory=False)\n",
      "df"
     ],
     "language": "python",
     "metadata": {},
     "outputs": [
      {
       "html": [
        "<div style=\"max-height:1000px;max-width:1500px;overflow:auto;\">\n",
        "<table border=\"1\" class=\"dataframe\">\n",
        "  <thead>\n",
        "    <tr style=\"text-align: right;\">\n",
        "      <th></th>\n",
        "      <th>Name</th>\n",
        "      <th>Email</th>\n",
        "      <th>Financial Status</th>\n",
        "      <th>Paid at</th>\n",
        "      <th>Fulfillment Status</th>\n",
        "      <th>Fulfilled at</th>\n",
        "      <th>Accepts Marketing</th>\n",
        "      <th>Currency</th>\n",
        "      <th>Subtotal</th>\n",
        "      <th>Shipping</th>\n",
        "      <th>...</th>\n",
        "      <th>Tax 1 Name</th>\n",
        "      <th>Tax 1 Value</th>\n",
        "      <th>Tax 2 Name</th>\n",
        "      <th>Tax 2 Value</th>\n",
        "      <th>Tax 3 Name</th>\n",
        "      <th>Tax 3 Value</th>\n",
        "      <th>Tax 4 Name</th>\n",
        "      <th>Tax 4 Value</th>\n",
        "      <th>Tax 5 Name</th>\n",
        "      <th>Tax 5 Value</th>\n",
        "    </tr>\n",
        "  </thead>\n",
        "  <tbody>\n",
        "    <tr>\n",
        "      <th>0    </th>\n",
        "      <td> #10367</td>\n",
        "      <td>  rehabmansour@gmail.com</td>\n",
        "      <td> pending</td>\n",
        "      <td>                       NaN</td>\n",
        "      <td> unfulfilled</td>\n",
        "      <td>                       NaN</td>\n",
        "      <td>  no</td>\n",
        "      <td> EGP</td>\n",
        "      <td> 375.30</td>\n",
        "      <td> 10</td>\n",
        "      <td>...</td>\n",
        "      <td>NaN</td>\n",
        "      <td>NaN</td>\n",
        "      <td>NaN</td>\n",
        "      <td>NaN</td>\n",
        "      <td>NaN</td>\n",
        "      <td>NaN</td>\n",
        "      <td>NaN</td>\n",
        "      <td>NaN</td>\n",
        "      <td>NaN</td>\n",
        "      <td>NaN</td>\n",
        "    </tr>\n",
        "    <tr>\n",
        "      <th>1    </th>\n",
        "      <td> #10367</td>\n",
        "      <td>  rehabmansour@gmail.com</td>\n",
        "      <td>     NaN</td>\n",
        "      <td>                       NaN</td>\n",
        "      <td>         NaN</td>\n",
        "      <td>                       NaN</td>\n",
        "      <td> NaN</td>\n",
        "      <td> NaN</td>\n",
        "      <td>    NaN</td>\n",
        "      <td>NaN</td>\n",
        "      <td>...</td>\n",
        "      <td>NaN</td>\n",
        "      <td>NaN</td>\n",
        "      <td>NaN</td>\n",
        "      <td>NaN</td>\n",
        "      <td>NaN</td>\n",
        "      <td>NaN</td>\n",
        "      <td>NaN</td>\n",
        "      <td>NaN</td>\n",
        "      <td>NaN</td>\n",
        "      <td>NaN</td>\n",
        "    </tr>\n",
        "    <tr>\n",
        "      <th>2    </th>\n",
        "      <td> #10367</td>\n",
        "      <td>  rehabmansour@gmail.com</td>\n",
        "      <td>     NaN</td>\n",
        "      <td>                       NaN</td>\n",
        "      <td>         NaN</td>\n",
        "      <td>                       NaN</td>\n",
        "      <td> NaN</td>\n",
        "      <td> NaN</td>\n",
        "      <td>    NaN</td>\n",
        "      <td>NaN</td>\n",
        "      <td>...</td>\n",
        "      <td>NaN</td>\n",
        "      <td>NaN</td>\n",
        "      <td>NaN</td>\n",
        "      <td>NaN</td>\n",
        "      <td>NaN</td>\n",
        "      <td>NaN</td>\n",
        "      <td>NaN</td>\n",
        "      <td>NaN</td>\n",
        "      <td>NaN</td>\n",
        "      <td>NaN</td>\n",
        "    </tr>\n",
        "    <tr>\n",
        "      <th>3    </th>\n",
        "      <td> #10366</td>\n",
        "      <td>     nabouheif@yahoo.com</td>\n",
        "      <td> pending</td>\n",
        "      <td>                       NaN</td>\n",
        "      <td> unfulfilled</td>\n",
        "      <td>                       NaN</td>\n",
        "      <td>  no</td>\n",
        "      <td> EGP</td>\n",
        "      <td> 162.90</td>\n",
        "      <td> 10</td>\n",
        "      <td>...</td>\n",
        "      <td>NaN</td>\n",
        "      <td>NaN</td>\n",
        "      <td>NaN</td>\n",
        "      <td>NaN</td>\n",
        "      <td>NaN</td>\n",
        "      <td>NaN</td>\n",
        "      <td>NaN</td>\n",
        "      <td>NaN</td>\n",
        "      <td>NaN</td>\n",
        "      <td>NaN</td>\n",
        "    </tr>\n",
        "    <tr>\n",
        "      <th>4    </th>\n",
        "      <td> #10366</td>\n",
        "      <td>     nabouheif@yahoo.com</td>\n",
        "      <td>     NaN</td>\n",
        "      <td>                       NaN</td>\n",
        "      <td>         NaN</td>\n",
        "      <td>                       NaN</td>\n",
        "      <td> NaN</td>\n",
        "      <td> NaN</td>\n",
        "      <td>    NaN</td>\n",
        "      <td>NaN</td>\n",
        "      <td>...</td>\n",
        "      <td>NaN</td>\n",
        "      <td>NaN</td>\n",
        "      <td>NaN</td>\n",
        "      <td>NaN</td>\n",
        "      <td>NaN</td>\n",
        "      <td>NaN</td>\n",
        "      <td>NaN</td>\n",
        "      <td>NaN</td>\n",
        "      <td>NaN</td>\n",
        "      <td>NaN</td>\n",
        "    </tr>\n",
        "    <tr>\n",
        "      <th>5    </th>\n",
        "      <td> #10366</td>\n",
        "      <td>     nabouheif@yahoo.com</td>\n",
        "      <td>     NaN</td>\n",
        "      <td>                       NaN</td>\n",
        "      <td>         NaN</td>\n",
        "      <td>                       NaN</td>\n",
        "      <td> NaN</td>\n",
        "      <td> NaN</td>\n",
        "      <td>    NaN</td>\n",
        "      <td>NaN</td>\n",
        "      <td>...</td>\n",
        "      <td>NaN</td>\n",
        "      <td>NaN</td>\n",
        "      <td>NaN</td>\n",
        "      <td>NaN</td>\n",
        "      <td>NaN</td>\n",
        "      <td>NaN</td>\n",
        "      <td>NaN</td>\n",
        "      <td>NaN</td>\n",
        "      <td>NaN</td>\n",
        "      <td>NaN</td>\n",
        "    </tr>\n",
        "    <tr>\n",
        "      <th>6    </th>\n",
        "      <td> #10365</td>\n",
        "      <td>  fracicardi@hotmail.com</td>\n",
        "      <td> pending</td>\n",
        "      <td>                       NaN</td>\n",
        "      <td> unfulfilled</td>\n",
        "      <td>                       NaN</td>\n",
        "      <td>  no</td>\n",
        "      <td> EGP</td>\n",
        "      <td> 129.00</td>\n",
        "      <td> 15</td>\n",
        "      <td>...</td>\n",
        "      <td>NaN</td>\n",
        "      <td>NaN</td>\n",
        "      <td>NaN</td>\n",
        "      <td>NaN</td>\n",
        "      <td>NaN</td>\n",
        "      <td>NaN</td>\n",
        "      <td>NaN</td>\n",
        "      <td>NaN</td>\n",
        "      <td>NaN</td>\n",
        "      <td>NaN</td>\n",
        "    </tr>\n",
        "    <tr>\n",
        "      <th>7    </th>\n",
        "      <td> #10365</td>\n",
        "      <td>  fracicardi@hotmail.com</td>\n",
        "      <td>     NaN</td>\n",
        "      <td>                       NaN</td>\n",
        "      <td>         NaN</td>\n",
        "      <td>                       NaN</td>\n",
        "      <td> NaN</td>\n",
        "      <td> NaN</td>\n",
        "      <td>    NaN</td>\n",
        "      <td>NaN</td>\n",
        "      <td>...</td>\n",
        "      <td>NaN</td>\n",
        "      <td>NaN</td>\n",
        "      <td>NaN</td>\n",
        "      <td>NaN</td>\n",
        "      <td>NaN</td>\n",
        "      <td>NaN</td>\n",
        "      <td>NaN</td>\n",
        "      <td>NaN</td>\n",
        "      <td>NaN</td>\n",
        "      <td>NaN</td>\n",
        "    </tr>\n",
        "    <tr>\n",
        "      <th>8    </th>\n",
        "      <td> #10365</td>\n",
        "      <td>  fracicardi@hotmail.com</td>\n",
        "      <td>     NaN</td>\n",
        "      <td>                       NaN</td>\n",
        "      <td>         NaN</td>\n",
        "      <td>                       NaN</td>\n",
        "      <td> NaN</td>\n",
        "      <td> NaN</td>\n",
        "      <td>    NaN</td>\n",
        "      <td>NaN</td>\n",
        "      <td>...</td>\n",
        "      <td>NaN</td>\n",
        "      <td>NaN</td>\n",
        "      <td>NaN</td>\n",
        "      <td>NaN</td>\n",
        "      <td>NaN</td>\n",
        "      <td>NaN</td>\n",
        "      <td>NaN</td>\n",
        "      <td>NaN</td>\n",
        "      <td>NaN</td>\n",
        "      <td>NaN</td>\n",
        "    </tr>\n",
        "    <tr>\n",
        "      <th>9    </th>\n",
        "      <td> #10365</td>\n",
        "      <td>  fracicardi@hotmail.com</td>\n",
        "      <td>     NaN</td>\n",
        "      <td>                       NaN</td>\n",
        "      <td>         NaN</td>\n",
        "      <td>                       NaN</td>\n",
        "      <td> NaN</td>\n",
        "      <td> NaN</td>\n",
        "      <td>    NaN</td>\n",
        "      <td>NaN</td>\n",
        "      <td>...</td>\n",
        "      <td>NaN</td>\n",
        "      <td>NaN</td>\n",
        "      <td>NaN</td>\n",
        "      <td>NaN</td>\n",
        "      <td>NaN</td>\n",
        "      <td>NaN</td>\n",
        "      <td>NaN</td>\n",
        "      <td>NaN</td>\n",
        "      <td>NaN</td>\n",
        "      <td>NaN</td>\n",
        "    </tr>\n",
        "    <tr>\n",
        "      <th>10   </th>\n",
        "      <td> #10365</td>\n",
        "      <td>  fracicardi@hotmail.com</td>\n",
        "      <td>     NaN</td>\n",
        "      <td>                       NaN</td>\n",
        "      <td>         NaN</td>\n",
        "      <td>                       NaN</td>\n",
        "      <td> NaN</td>\n",
        "      <td> NaN</td>\n",
        "      <td>    NaN</td>\n",
        "      <td>NaN</td>\n",
        "      <td>...</td>\n",
        "      <td>NaN</td>\n",
        "      <td>NaN</td>\n",
        "      <td>NaN</td>\n",
        "      <td>NaN</td>\n",
        "      <td>NaN</td>\n",
        "      <td>NaN</td>\n",
        "      <td>NaN</td>\n",
        "      <td>NaN</td>\n",
        "      <td>NaN</td>\n",
        "      <td>NaN</td>\n",
        "    </tr>\n",
        "    <tr>\n",
        "      <th>11   </th>\n",
        "      <td> #10365</td>\n",
        "      <td>  fracicardi@hotmail.com</td>\n",
        "      <td>     NaN</td>\n",
        "      <td>                       NaN</td>\n",
        "      <td>         NaN</td>\n",
        "      <td>                       NaN</td>\n",
        "      <td> NaN</td>\n",
        "      <td> NaN</td>\n",
        "      <td>    NaN</td>\n",
        "      <td>NaN</td>\n",
        "      <td>...</td>\n",
        "      <td>NaN</td>\n",
        "      <td>NaN</td>\n",
        "      <td>NaN</td>\n",
        "      <td>NaN</td>\n",
        "      <td>NaN</td>\n",
        "      <td>NaN</td>\n",
        "      <td>NaN</td>\n",
        "      <td>NaN</td>\n",
        "      <td>NaN</td>\n",
        "      <td>NaN</td>\n",
        "    </tr>\n",
        "    <tr>\n",
        "      <th>12   </th>\n",
        "      <td> #10364</td>\n",
        "      <td>  ahmed.fakhry@gmail.com</td>\n",
        "      <td> pending</td>\n",
        "      <td>                       NaN</td>\n",
        "      <td> unfulfilled</td>\n",
        "      <td>                       NaN</td>\n",
        "      <td>  no</td>\n",
        "      <td> EGP</td>\n",
        "      <td> 660.10</td>\n",
        "      <td> 10</td>\n",
        "      <td>...</td>\n",
        "      <td>NaN</td>\n",
        "      <td>NaN</td>\n",
        "      <td>NaN</td>\n",
        "      <td>NaN</td>\n",
        "      <td>NaN</td>\n",
        "      <td>NaN</td>\n",
        "      <td>NaN</td>\n",
        "      <td>NaN</td>\n",
        "      <td>NaN</td>\n",
        "      <td>NaN</td>\n",
        "    </tr>\n",
        "    <tr>\n",
        "      <th>13   </th>\n",
        "      <td> #10364</td>\n",
        "      <td>  ahmed.fakhry@gmail.com</td>\n",
        "      <td>     NaN</td>\n",
        "      <td>                       NaN</td>\n",
        "      <td>         NaN</td>\n",
        "      <td>                       NaN</td>\n",
        "      <td> NaN</td>\n",
        "      <td> NaN</td>\n",
        "      <td>    NaN</td>\n",
        "      <td>NaN</td>\n",
        "      <td>...</td>\n",
        "      <td>NaN</td>\n",
        "      <td>NaN</td>\n",
        "      <td>NaN</td>\n",
        "      <td>NaN</td>\n",
        "      <td>NaN</td>\n",
        "      <td>NaN</td>\n",
        "      <td>NaN</td>\n",
        "      <td>NaN</td>\n",
        "      <td>NaN</td>\n",
        "      <td>NaN</td>\n",
        "    </tr>\n",
        "    <tr>\n",
        "      <th>14   </th>\n",
        "      <td> #10364</td>\n",
        "      <td>  ahmed.fakhry@gmail.com</td>\n",
        "      <td>     NaN</td>\n",
        "      <td>                       NaN</td>\n",
        "      <td>         NaN</td>\n",
        "      <td>                       NaN</td>\n",
        "      <td> NaN</td>\n",
        "      <td> NaN</td>\n",
        "      <td>    NaN</td>\n",
        "      <td>NaN</td>\n",
        "      <td>...</td>\n",
        "      <td>NaN</td>\n",
        "      <td>NaN</td>\n",
        "      <td>NaN</td>\n",
        "      <td>NaN</td>\n",
        "      <td>NaN</td>\n",
        "      <td>NaN</td>\n",
        "      <td>NaN</td>\n",
        "      <td>NaN</td>\n",
        "      <td>NaN</td>\n",
        "      <td>NaN</td>\n",
        "    </tr>\n",
        "    <tr>\n",
        "      <th>15   </th>\n",
        "      <td> #10364</td>\n",
        "      <td>  ahmed.fakhry@gmail.com</td>\n",
        "      <td>     NaN</td>\n",
        "      <td>                       NaN</td>\n",
        "      <td>         NaN</td>\n",
        "      <td>                       NaN</td>\n",
        "      <td> NaN</td>\n",
        "      <td> NaN</td>\n",
        "      <td>    NaN</td>\n",
        "      <td>NaN</td>\n",
        "      <td>...</td>\n",
        "      <td>NaN</td>\n",
        "      <td>NaN</td>\n",
        "      <td>NaN</td>\n",
        "      <td>NaN</td>\n",
        "      <td>NaN</td>\n",
        "      <td>NaN</td>\n",
        "      <td>NaN</td>\n",
        "      <td>NaN</td>\n",
        "      <td>NaN</td>\n",
        "      <td>NaN</td>\n",
        "    </tr>\n",
        "    <tr>\n",
        "      <th>16   </th>\n",
        "      <td> #10364</td>\n",
        "      <td>  ahmed.fakhry@gmail.com</td>\n",
        "      <td>     NaN</td>\n",
        "      <td>                       NaN</td>\n",
        "      <td>         NaN</td>\n",
        "      <td>                       NaN</td>\n",
        "      <td> NaN</td>\n",
        "      <td> NaN</td>\n",
        "      <td>    NaN</td>\n",
        "      <td>NaN</td>\n",
        "      <td>...</td>\n",
        "      <td>NaN</td>\n",
        "      <td>NaN</td>\n",
        "      <td>NaN</td>\n",
        "      <td>NaN</td>\n",
        "      <td>NaN</td>\n",
        "      <td>NaN</td>\n",
        "      <td>NaN</td>\n",
        "      <td>NaN</td>\n",
        "      <td>NaN</td>\n",
        "      <td>NaN</td>\n",
        "    </tr>\n",
        "    <tr>\n",
        "      <th>17   </th>\n",
        "      <td> #10364</td>\n",
        "      <td>  ahmed.fakhry@gmail.com</td>\n",
        "      <td>     NaN</td>\n",
        "      <td>                       NaN</td>\n",
        "      <td>         NaN</td>\n",
        "      <td>                       NaN</td>\n",
        "      <td> NaN</td>\n",
        "      <td> NaN</td>\n",
        "      <td>    NaN</td>\n",
        "      <td>NaN</td>\n",
        "      <td>...</td>\n",
        "      <td>NaN</td>\n",
        "      <td>NaN</td>\n",
        "      <td>NaN</td>\n",
        "      <td>NaN</td>\n",
        "      <td>NaN</td>\n",
        "      <td>NaN</td>\n",
        "      <td>NaN</td>\n",
        "      <td>NaN</td>\n",
        "      <td>NaN</td>\n",
        "      <td>NaN</td>\n",
        "    </tr>\n",
        "    <tr>\n",
        "      <th>18   </th>\n",
        "      <td> #10364</td>\n",
        "      <td>  ahmed.fakhry@gmail.com</td>\n",
        "      <td>     NaN</td>\n",
        "      <td>                       NaN</td>\n",
        "      <td>         NaN</td>\n",
        "      <td>                       NaN</td>\n",
        "      <td> NaN</td>\n",
        "      <td> NaN</td>\n",
        "      <td>    NaN</td>\n",
        "      <td>NaN</td>\n",
        "      <td>...</td>\n",
        "      <td>NaN</td>\n",
        "      <td>NaN</td>\n",
        "      <td>NaN</td>\n",
        "      <td>NaN</td>\n",
        "      <td>NaN</td>\n",
        "      <td>NaN</td>\n",
        "      <td>NaN</td>\n",
        "      <td>NaN</td>\n",
        "      <td>NaN</td>\n",
        "      <td>NaN</td>\n",
        "    </tr>\n",
        "    <tr>\n",
        "      <th>19   </th>\n",
        "      <td> #10364</td>\n",
        "      <td>  ahmed.fakhry@gmail.com</td>\n",
        "      <td>     NaN</td>\n",
        "      <td>                       NaN</td>\n",
        "      <td>         NaN</td>\n",
        "      <td>                       NaN</td>\n",
        "      <td> NaN</td>\n",
        "      <td> NaN</td>\n",
        "      <td>    NaN</td>\n",
        "      <td>NaN</td>\n",
        "      <td>...</td>\n",
        "      <td>NaN</td>\n",
        "      <td>NaN</td>\n",
        "      <td>NaN</td>\n",
        "      <td>NaN</td>\n",
        "      <td>NaN</td>\n",
        "      <td>NaN</td>\n",
        "      <td>NaN</td>\n",
        "      <td>NaN</td>\n",
        "      <td>NaN</td>\n",
        "      <td>NaN</td>\n",
        "    </tr>\n",
        "    <tr>\n",
        "      <th>20   </th>\n",
        "      <td> #10364</td>\n",
        "      <td>  ahmed.fakhry@gmail.com</td>\n",
        "      <td>     NaN</td>\n",
        "      <td>                       NaN</td>\n",
        "      <td>         NaN</td>\n",
        "      <td>                       NaN</td>\n",
        "      <td> NaN</td>\n",
        "      <td> NaN</td>\n",
        "      <td>    NaN</td>\n",
        "      <td>NaN</td>\n",
        "      <td>...</td>\n",
        "      <td>NaN</td>\n",
        "      <td>NaN</td>\n",
        "      <td>NaN</td>\n",
        "      <td>NaN</td>\n",
        "      <td>NaN</td>\n",
        "      <td>NaN</td>\n",
        "      <td>NaN</td>\n",
        "      <td>NaN</td>\n",
        "      <td>NaN</td>\n",
        "      <td>NaN</td>\n",
        "    </tr>\n",
        "    <tr>\n",
        "      <th>21   </th>\n",
        "      <td> #10363</td>\n",
        "      <td>  ahmed.fakhry@gmail.com</td>\n",
        "      <td> pending</td>\n",
        "      <td>                       NaN</td>\n",
        "      <td> unfulfilled</td>\n",
        "      <td>                       NaN</td>\n",
        "      <td>  no</td>\n",
        "      <td> EGP</td>\n",
        "      <td> 592.00</td>\n",
        "      <td> 10</td>\n",
        "      <td>...</td>\n",
        "      <td>NaN</td>\n",
        "      <td>NaN</td>\n",
        "      <td>NaN</td>\n",
        "      <td>NaN</td>\n",
        "      <td>NaN</td>\n",
        "      <td>NaN</td>\n",
        "      <td>NaN</td>\n",
        "      <td>NaN</td>\n",
        "      <td>NaN</td>\n",
        "      <td>NaN</td>\n",
        "    </tr>\n",
        "    <tr>\n",
        "      <th>22   </th>\n",
        "      <td> #10362</td>\n",
        "      <td>    Missilou11@yahoo.com</td>\n",
        "      <td> pending</td>\n",
        "      <td>                       NaN</td>\n",
        "      <td> unfulfilled</td>\n",
        "      <td>                       NaN</td>\n",
        "      <td>  no</td>\n",
        "      <td> EGP</td>\n",
        "      <td>  70.20</td>\n",
        "      <td> 15</td>\n",
        "      <td>...</td>\n",
        "      <td>NaN</td>\n",
        "      <td>NaN</td>\n",
        "      <td>NaN</td>\n",
        "      <td>NaN</td>\n",
        "      <td>NaN</td>\n",
        "      <td>NaN</td>\n",
        "      <td>NaN</td>\n",
        "      <td>NaN</td>\n",
        "      <td>NaN</td>\n",
        "      <td>NaN</td>\n",
        "    </tr>\n",
        "    <tr>\n",
        "      <th>23   </th>\n",
        "      <td> #10361</td>\n",
        "      <td> sallysalem123@gmail.com</td>\n",
        "      <td> pending</td>\n",
        "      <td>                       NaN</td>\n",
        "      <td> unfulfilled</td>\n",
        "      <td>                       NaN</td>\n",
        "      <td>  no</td>\n",
        "      <td> EGP</td>\n",
        "      <td> 432.00</td>\n",
        "      <td> 10</td>\n",
        "      <td>...</td>\n",
        "      <td>NaN</td>\n",
        "      <td>NaN</td>\n",
        "      <td>NaN</td>\n",
        "      <td>NaN</td>\n",
        "      <td>NaN</td>\n",
        "      <td>NaN</td>\n",
        "      <td>NaN</td>\n",
        "      <td>NaN</td>\n",
        "      <td>NaN</td>\n",
        "      <td>NaN</td>\n",
        "    </tr>\n",
        "    <tr>\n",
        "      <th>24   </th>\n",
        "      <td> #10361</td>\n",
        "      <td> sallysalem123@gmail.com</td>\n",
        "      <td>     NaN</td>\n",
        "      <td>                       NaN</td>\n",
        "      <td>         NaN</td>\n",
        "      <td>                       NaN</td>\n",
        "      <td> NaN</td>\n",
        "      <td> NaN</td>\n",
        "      <td>    NaN</td>\n",
        "      <td>NaN</td>\n",
        "      <td>...</td>\n",
        "      <td>NaN</td>\n",
        "      <td>NaN</td>\n",
        "      <td>NaN</td>\n",
        "      <td>NaN</td>\n",
        "      <td>NaN</td>\n",
        "      <td>NaN</td>\n",
        "      <td>NaN</td>\n",
        "      <td>NaN</td>\n",
        "      <td>NaN</td>\n",
        "      <td>NaN</td>\n",
        "    </tr>\n",
        "    <tr>\n",
        "      <th>25   </th>\n",
        "      <td> #10361</td>\n",
        "      <td> sallysalem123@gmail.com</td>\n",
        "      <td>     NaN</td>\n",
        "      <td>                       NaN</td>\n",
        "      <td>         NaN</td>\n",
        "      <td>                       NaN</td>\n",
        "      <td> NaN</td>\n",
        "      <td> NaN</td>\n",
        "      <td>    NaN</td>\n",
        "      <td>NaN</td>\n",
        "      <td>...</td>\n",
        "      <td>NaN</td>\n",
        "      <td>NaN</td>\n",
        "      <td>NaN</td>\n",
        "      <td>NaN</td>\n",
        "      <td>NaN</td>\n",
        "      <td>NaN</td>\n",
        "      <td>NaN</td>\n",
        "      <td>NaN</td>\n",
        "      <td>NaN</td>\n",
        "      <td>NaN</td>\n",
        "    </tr>\n",
        "    <tr>\n",
        "      <th>26   </th>\n",
        "      <td> #10361</td>\n",
        "      <td> sallysalem123@gmail.com</td>\n",
        "      <td>     NaN</td>\n",
        "      <td>                       NaN</td>\n",
        "      <td>         NaN</td>\n",
        "      <td>                       NaN</td>\n",
        "      <td> NaN</td>\n",
        "      <td> NaN</td>\n",
        "      <td>    NaN</td>\n",
        "      <td>NaN</td>\n",
        "      <td>...</td>\n",
        "      <td>NaN</td>\n",
        "      <td>NaN</td>\n",
        "      <td>NaN</td>\n",
        "      <td>NaN</td>\n",
        "      <td>NaN</td>\n",
        "      <td>NaN</td>\n",
        "      <td>NaN</td>\n",
        "      <td>NaN</td>\n",
        "      <td>NaN</td>\n",
        "      <td>NaN</td>\n",
        "    </tr>\n",
        "    <tr>\n",
        "      <th>27   </th>\n",
        "      <td> #10361</td>\n",
        "      <td> sallysalem123@gmail.com</td>\n",
        "      <td>     NaN</td>\n",
        "      <td>                       NaN</td>\n",
        "      <td>         NaN</td>\n",
        "      <td>                       NaN</td>\n",
        "      <td> NaN</td>\n",
        "      <td> NaN</td>\n",
        "      <td>    NaN</td>\n",
        "      <td>NaN</td>\n",
        "      <td>...</td>\n",
        "      <td>NaN</td>\n",
        "      <td>NaN</td>\n",
        "      <td>NaN</td>\n",
        "      <td>NaN</td>\n",
        "      <td>NaN</td>\n",
        "      <td>NaN</td>\n",
        "      <td>NaN</td>\n",
        "      <td>NaN</td>\n",
        "      <td>NaN</td>\n",
        "      <td>NaN</td>\n",
        "    </tr>\n",
        "    <tr>\n",
        "      <th>28   </th>\n",
        "      <td> #10361</td>\n",
        "      <td> sallysalem123@gmail.com</td>\n",
        "      <td>     NaN</td>\n",
        "      <td>                       NaN</td>\n",
        "      <td>         NaN</td>\n",
        "      <td>                       NaN</td>\n",
        "      <td> NaN</td>\n",
        "      <td> NaN</td>\n",
        "      <td>    NaN</td>\n",
        "      <td>NaN</td>\n",
        "      <td>...</td>\n",
        "      <td>NaN</td>\n",
        "      <td>NaN</td>\n",
        "      <td>NaN</td>\n",
        "      <td>NaN</td>\n",
        "      <td>NaN</td>\n",
        "      <td>NaN</td>\n",
        "      <td>NaN</td>\n",
        "      <td>NaN</td>\n",
        "      <td>NaN</td>\n",
        "      <td>NaN</td>\n",
        "    </tr>\n",
        "    <tr>\n",
        "      <th>29   </th>\n",
        "      <td> #10361</td>\n",
        "      <td> sallysalem123@gmail.com</td>\n",
        "      <td>     NaN</td>\n",
        "      <td>                       NaN</td>\n",
        "      <td>         NaN</td>\n",
        "      <td>                       NaN</td>\n",
        "      <td> NaN</td>\n",
        "      <td> NaN</td>\n",
        "      <td>    NaN</td>\n",
        "      <td>NaN</td>\n",
        "      <td>...</td>\n",
        "      <td>NaN</td>\n",
        "      <td>NaN</td>\n",
        "      <td>NaN</td>\n",
        "      <td>NaN</td>\n",
        "      <td>NaN</td>\n",
        "      <td>NaN</td>\n",
        "      <td>NaN</td>\n",
        "      <td>NaN</td>\n",
        "      <td>NaN</td>\n",
        "      <td>NaN</td>\n",
        "    </tr>\n",
        "    <tr>\n",
        "      <th>...</th>\n",
        "      <td>...</td>\n",
        "      <td>...</td>\n",
        "      <td>...</td>\n",
        "      <td>...</td>\n",
        "      <td>...</td>\n",
        "      <td>...</td>\n",
        "      <td>...</td>\n",
        "      <td>...</td>\n",
        "      <td>...</td>\n",
        "      <td>...</td>\n",
        "      <td>...</td>\n",
        "      <td>...</td>\n",
        "      <td>...</td>\n",
        "      <td>...</td>\n",
        "      <td>...</td>\n",
        "      <td>...</td>\n",
        "      <td>...</td>\n",
        "      <td>...</td>\n",
        "      <td>...</td>\n",
        "      <td>...</td>\n",
        "      <td>...</td>\n",
        "    </tr>\n",
        "    <tr>\n",
        "      <th>60742</th>\n",
        "      <td>  #1013</td>\n",
        "      <td>  lik-novikova@yandex.ru</td>\n",
        "      <td>     NaN</td>\n",
        "      <td>                       NaN</td>\n",
        "      <td>         NaN</td>\n",
        "      <td>                       NaN</td>\n",
        "      <td> NaN</td>\n",
        "      <td> NaN</td>\n",
        "      <td>    NaN</td>\n",
        "      <td>NaN</td>\n",
        "      <td>...</td>\n",
        "      <td>NaN</td>\n",
        "      <td>NaN</td>\n",
        "      <td>NaN</td>\n",
        "      <td>NaN</td>\n",
        "      <td>NaN</td>\n",
        "      <td>NaN</td>\n",
        "      <td>NaN</td>\n",
        "      <td>NaN</td>\n",
        "      <td>NaN</td>\n",
        "      <td>NaN</td>\n",
        "    </tr>\n",
        "    <tr>\n",
        "      <th>60743</th>\n",
        "      <td>  #1012</td>\n",
        "      <td>     bettyhedrich@gmx.de</td>\n",
        "      <td>    paid</td>\n",
        "      <td> 2012-05-27 13:15:42 +0200</td>\n",
        "      <td>   fulfilled</td>\n",
        "      <td> 2012-05-27 13:15:14 +0200</td>\n",
        "      <td>  no</td>\n",
        "      <td> EGP</td>\n",
        "      <td>  41.93</td>\n",
        "      <td>  5</td>\n",
        "      <td>...</td>\n",
        "      <td>NaN</td>\n",
        "      <td>NaN</td>\n",
        "      <td>NaN</td>\n",
        "      <td>NaN</td>\n",
        "      <td>NaN</td>\n",
        "      <td>NaN</td>\n",
        "      <td>NaN</td>\n",
        "      <td>NaN</td>\n",
        "      <td>NaN</td>\n",
        "      <td>NaN</td>\n",
        "    </tr>\n",
        "    <tr>\n",
        "      <th>60744</th>\n",
        "      <td>  #1012</td>\n",
        "      <td>     bettyhedrich@gmx.de</td>\n",
        "      <td>     NaN</td>\n",
        "      <td>                       NaN</td>\n",
        "      <td>         NaN</td>\n",
        "      <td>                       NaN</td>\n",
        "      <td> NaN</td>\n",
        "      <td> NaN</td>\n",
        "      <td>    NaN</td>\n",
        "      <td>NaN</td>\n",
        "      <td>...</td>\n",
        "      <td>NaN</td>\n",
        "      <td>NaN</td>\n",
        "      <td>NaN</td>\n",
        "      <td>NaN</td>\n",
        "      <td>NaN</td>\n",
        "      <td>NaN</td>\n",
        "      <td>NaN</td>\n",
        "      <td>NaN</td>\n",
        "      <td>NaN</td>\n",
        "      <td>NaN</td>\n",
        "    </tr>\n",
        "    <tr>\n",
        "      <th>60745</th>\n",
        "      <td>  #1011</td>\n",
        "      <td>           rulah@msn.com</td>\n",
        "      <td>    paid</td>\n",
        "      <td> 2012-05-21 18:33:13 +0200</td>\n",
        "      <td>   fulfilled</td>\n",
        "      <td> 2012-05-21 18:33:43 +0200</td>\n",
        "      <td> yes</td>\n",
        "      <td> EGP</td>\n",
        "      <td> 222.30</td>\n",
        "      <td>  5</td>\n",
        "      <td>...</td>\n",
        "      <td>NaN</td>\n",
        "      <td>NaN</td>\n",
        "      <td>NaN</td>\n",
        "      <td>NaN</td>\n",
        "      <td>NaN</td>\n",
        "      <td>NaN</td>\n",
        "      <td>NaN</td>\n",
        "      <td>NaN</td>\n",
        "      <td>NaN</td>\n",
        "      <td>NaN</td>\n",
        "    </tr>\n",
        "    <tr>\n",
        "      <th>60746</th>\n",
        "      <td>  #1010</td>\n",
        "      <td>     milda_b@hotmail.com</td>\n",
        "      <td>    paid</td>\n",
        "      <td> 2012-05-09 11:09:12 +0200</td>\n",
        "      <td>   fulfilled</td>\n",
        "      <td> 2012-05-09 11:09:06 +0200</td>\n",
        "      <td> yes</td>\n",
        "      <td> EGP</td>\n",
        "      <td> 155.55</td>\n",
        "      <td>  5</td>\n",
        "      <td>...</td>\n",
        "      <td>NaN</td>\n",
        "      <td>NaN</td>\n",
        "      <td>NaN</td>\n",
        "      <td>NaN</td>\n",
        "      <td>NaN</td>\n",
        "      <td>NaN</td>\n",
        "      <td>NaN</td>\n",
        "      <td>NaN</td>\n",
        "      <td>NaN</td>\n",
        "      <td>NaN</td>\n",
        "    </tr>\n",
        "    <tr>\n",
        "      <th>60747</th>\n",
        "      <td>  #1010</td>\n",
        "      <td>     milda_b@hotmail.com</td>\n",
        "      <td>     NaN</td>\n",
        "      <td>                       NaN</td>\n",
        "      <td>         NaN</td>\n",
        "      <td>                       NaN</td>\n",
        "      <td> NaN</td>\n",
        "      <td> NaN</td>\n",
        "      <td>    NaN</td>\n",
        "      <td>NaN</td>\n",
        "      <td>...</td>\n",
        "      <td>NaN</td>\n",
        "      <td>NaN</td>\n",
        "      <td>NaN</td>\n",
        "      <td>NaN</td>\n",
        "      <td>NaN</td>\n",
        "      <td>NaN</td>\n",
        "      <td>NaN</td>\n",
        "      <td>NaN</td>\n",
        "      <td>NaN</td>\n",
        "      <td>NaN</td>\n",
        "    </tr>\n",
        "    <tr>\n",
        "      <th>60748</th>\n",
        "      <td>  #1010</td>\n",
        "      <td>     milda_b@hotmail.com</td>\n",
        "      <td>     NaN</td>\n",
        "      <td>                       NaN</td>\n",
        "      <td>         NaN</td>\n",
        "      <td>                       NaN</td>\n",
        "      <td> NaN</td>\n",
        "      <td> NaN</td>\n",
        "      <td>    NaN</td>\n",
        "      <td>NaN</td>\n",
        "      <td>...</td>\n",
        "      <td>NaN</td>\n",
        "      <td>NaN</td>\n",
        "      <td>NaN</td>\n",
        "      <td>NaN</td>\n",
        "      <td>NaN</td>\n",
        "      <td>NaN</td>\n",
        "      <td>NaN</td>\n",
        "      <td>NaN</td>\n",
        "      <td>NaN</td>\n",
        "      <td>NaN</td>\n",
        "    </tr>\n",
        "    <tr>\n",
        "      <th>60749</th>\n",
        "      <td>  #1010</td>\n",
        "      <td>     milda_b@hotmail.com</td>\n",
        "      <td>     NaN</td>\n",
        "      <td>                       NaN</td>\n",
        "      <td>         NaN</td>\n",
        "      <td>                       NaN</td>\n",
        "      <td> NaN</td>\n",
        "      <td> NaN</td>\n",
        "      <td>    NaN</td>\n",
        "      <td>NaN</td>\n",
        "      <td>...</td>\n",
        "      <td>NaN</td>\n",
        "      <td>NaN</td>\n",
        "      <td>NaN</td>\n",
        "      <td>NaN</td>\n",
        "      <td>NaN</td>\n",
        "      <td>NaN</td>\n",
        "      <td>NaN</td>\n",
        "      <td>NaN</td>\n",
        "      <td>NaN</td>\n",
        "      <td>NaN</td>\n",
        "    </tr>\n",
        "    <tr>\n",
        "      <th>60750</th>\n",
        "      <td>  #1010</td>\n",
        "      <td>     milda_b@hotmail.com</td>\n",
        "      <td>     NaN</td>\n",
        "      <td>                       NaN</td>\n",
        "      <td>         NaN</td>\n",
        "      <td>                       NaN</td>\n",
        "      <td> NaN</td>\n",
        "      <td> NaN</td>\n",
        "      <td>    NaN</td>\n",
        "      <td>NaN</td>\n",
        "      <td>...</td>\n",
        "      <td>NaN</td>\n",
        "      <td>NaN</td>\n",
        "      <td>NaN</td>\n",
        "      <td>NaN</td>\n",
        "      <td>NaN</td>\n",
        "      <td>NaN</td>\n",
        "      <td>NaN</td>\n",
        "      <td>NaN</td>\n",
        "      <td>NaN</td>\n",
        "      <td>NaN</td>\n",
        "    </tr>\n",
        "    <tr>\n",
        "      <th>60751</th>\n",
        "      <td>  #1010</td>\n",
        "      <td>     milda_b@hotmail.com</td>\n",
        "      <td>     NaN</td>\n",
        "      <td>                       NaN</td>\n",
        "      <td>         NaN</td>\n",
        "      <td>                       NaN</td>\n",
        "      <td> NaN</td>\n",
        "      <td> NaN</td>\n",
        "      <td>    NaN</td>\n",
        "      <td>NaN</td>\n",
        "      <td>...</td>\n",
        "      <td>NaN</td>\n",
        "      <td>NaN</td>\n",
        "      <td>NaN</td>\n",
        "      <td>NaN</td>\n",
        "      <td>NaN</td>\n",
        "      <td>NaN</td>\n",
        "      <td>NaN</td>\n",
        "      <td>NaN</td>\n",
        "      <td>NaN</td>\n",
        "      <td>NaN</td>\n",
        "    </tr>\n",
        "    <tr>\n",
        "      <th>60752</th>\n",
        "      <td>  #1010</td>\n",
        "      <td>     milda_b@hotmail.com</td>\n",
        "      <td>     NaN</td>\n",
        "      <td>                       NaN</td>\n",
        "      <td>         NaN</td>\n",
        "      <td>                       NaN</td>\n",
        "      <td> NaN</td>\n",
        "      <td> NaN</td>\n",
        "      <td>    NaN</td>\n",
        "      <td>NaN</td>\n",
        "      <td>...</td>\n",
        "      <td>NaN</td>\n",
        "      <td>NaN</td>\n",
        "      <td>NaN</td>\n",
        "      <td>NaN</td>\n",
        "      <td>NaN</td>\n",
        "      <td>NaN</td>\n",
        "      <td>NaN</td>\n",
        "      <td>NaN</td>\n",
        "      <td>NaN</td>\n",
        "      <td>NaN</td>\n",
        "    </tr>\n",
        "    <tr>\n",
        "      <th>60753</th>\n",
        "      <td>  #1009</td>\n",
        "      <td>     bente.ring@yahoo.no</td>\n",
        "      <td>    paid</td>\n",
        "      <td> 2012-05-10 19:12:35 +0200</td>\n",
        "      <td>   fulfilled</td>\n",
        "      <td> 2012-05-10 19:12:32 +0200</td>\n",
        "      <td> yes</td>\n",
        "      <td> EGP</td>\n",
        "      <td>  45.50</td>\n",
        "      <td>  5</td>\n",
        "      <td>...</td>\n",
        "      <td>NaN</td>\n",
        "      <td>NaN</td>\n",
        "      <td>NaN</td>\n",
        "      <td>NaN</td>\n",
        "      <td>NaN</td>\n",
        "      <td>NaN</td>\n",
        "      <td>NaN</td>\n",
        "      <td>NaN</td>\n",
        "      <td>NaN</td>\n",
        "      <td>NaN</td>\n",
        "    </tr>\n",
        "    <tr>\n",
        "      <th>60754</th>\n",
        "      <td>  #1008</td>\n",
        "      <td>     bente.ring@yahoo.no</td>\n",
        "      <td>    paid</td>\n",
        "      <td> 2012-05-10 19:13:35 +0200</td>\n",
        "      <td>   fulfilled</td>\n",
        "      <td> 2012-05-10 19:13:32 +0200</td>\n",
        "      <td> yes</td>\n",
        "      <td> EGP</td>\n",
        "      <td> 357.53</td>\n",
        "      <td>  5</td>\n",
        "      <td>...</td>\n",
        "      <td>NaN</td>\n",
        "      <td>NaN</td>\n",
        "      <td>NaN</td>\n",
        "      <td>NaN</td>\n",
        "      <td>NaN</td>\n",
        "      <td>NaN</td>\n",
        "      <td>NaN</td>\n",
        "      <td>NaN</td>\n",
        "      <td>NaN</td>\n",
        "      <td>NaN</td>\n",
        "    </tr>\n",
        "    <tr>\n",
        "      <th>60755</th>\n",
        "      <td>  #1008</td>\n",
        "      <td>     bente.ring@yahoo.no</td>\n",
        "      <td>     NaN</td>\n",
        "      <td>                       NaN</td>\n",
        "      <td>         NaN</td>\n",
        "      <td>                       NaN</td>\n",
        "      <td> NaN</td>\n",
        "      <td> NaN</td>\n",
        "      <td>    NaN</td>\n",
        "      <td>NaN</td>\n",
        "      <td>...</td>\n",
        "      <td>NaN</td>\n",
        "      <td>NaN</td>\n",
        "      <td>NaN</td>\n",
        "      <td>NaN</td>\n",
        "      <td>NaN</td>\n",
        "      <td>NaN</td>\n",
        "      <td>NaN</td>\n",
        "      <td>NaN</td>\n",
        "      <td>NaN</td>\n",
        "      <td>NaN</td>\n",
        "    </tr>\n",
        "    <tr>\n",
        "      <th>60756</th>\n",
        "      <td>  #1008</td>\n",
        "      <td>     bente.ring@yahoo.no</td>\n",
        "      <td>     NaN</td>\n",
        "      <td>                       NaN</td>\n",
        "      <td>         NaN</td>\n",
        "      <td>                       NaN</td>\n",
        "      <td> NaN</td>\n",
        "      <td> NaN</td>\n",
        "      <td>    NaN</td>\n",
        "      <td>NaN</td>\n",
        "      <td>...</td>\n",
        "      <td>NaN</td>\n",
        "      <td>NaN</td>\n",
        "      <td>NaN</td>\n",
        "      <td>NaN</td>\n",
        "      <td>NaN</td>\n",
        "      <td>NaN</td>\n",
        "      <td>NaN</td>\n",
        "      <td>NaN</td>\n",
        "      <td>NaN</td>\n",
        "      <td>NaN</td>\n",
        "    </tr>\n",
        "    <tr>\n",
        "      <th>60757</th>\n",
        "      <td>  #1008</td>\n",
        "      <td>     bente.ring@yahoo.no</td>\n",
        "      <td>     NaN</td>\n",
        "      <td>                       NaN</td>\n",
        "      <td>         NaN</td>\n",
        "      <td>                       NaN</td>\n",
        "      <td> NaN</td>\n",
        "      <td> NaN</td>\n",
        "      <td>    NaN</td>\n",
        "      <td>NaN</td>\n",
        "      <td>...</td>\n",
        "      <td>NaN</td>\n",
        "      <td>NaN</td>\n",
        "      <td>NaN</td>\n",
        "      <td>NaN</td>\n",
        "      <td>NaN</td>\n",
        "      <td>NaN</td>\n",
        "      <td>NaN</td>\n",
        "      <td>NaN</td>\n",
        "      <td>NaN</td>\n",
        "      <td>NaN</td>\n",
        "    </tr>\n",
        "    <tr>\n",
        "      <th>60758</th>\n",
        "      <td>  #1008</td>\n",
        "      <td>     bente.ring@yahoo.no</td>\n",
        "      <td>     NaN</td>\n",
        "      <td>                       NaN</td>\n",
        "      <td>         NaN</td>\n",
        "      <td>                       NaN</td>\n",
        "      <td> NaN</td>\n",
        "      <td> NaN</td>\n",
        "      <td>    NaN</td>\n",
        "      <td>NaN</td>\n",
        "      <td>...</td>\n",
        "      <td>NaN</td>\n",
        "      <td>NaN</td>\n",
        "      <td>NaN</td>\n",
        "      <td>NaN</td>\n",
        "      <td>NaN</td>\n",
        "      <td>NaN</td>\n",
        "      <td>NaN</td>\n",
        "      <td>NaN</td>\n",
        "      <td>NaN</td>\n",
        "      <td>NaN</td>\n",
        "    </tr>\n",
        "    <tr>\n",
        "      <th>60759</th>\n",
        "      <td>  #1007</td>\n",
        "      <td>  lik-novikova@yandex.ru</td>\n",
        "      <td>    paid</td>\n",
        "      <td> 2012-05-04 18:36:50 +0200</td>\n",
        "      <td>   fulfilled</td>\n",
        "      <td> 2012-05-04 18:33:47 +0200</td>\n",
        "      <td> yes</td>\n",
        "      <td> EGP</td>\n",
        "      <td> 110.83</td>\n",
        "      <td>  5</td>\n",
        "      <td>...</td>\n",
        "      <td>NaN</td>\n",
        "      <td>NaN</td>\n",
        "      <td>NaN</td>\n",
        "      <td>NaN</td>\n",
        "      <td>NaN</td>\n",
        "      <td>NaN</td>\n",
        "      <td>NaN</td>\n",
        "      <td>NaN</td>\n",
        "      <td>NaN</td>\n",
        "      <td>NaN</td>\n",
        "    </tr>\n",
        "    <tr>\n",
        "      <th>60760</th>\n",
        "      <td>  #1007</td>\n",
        "      <td>  lik-novikova@yandex.ru</td>\n",
        "      <td>     NaN</td>\n",
        "      <td>                       NaN</td>\n",
        "      <td>         NaN</td>\n",
        "      <td>                       NaN</td>\n",
        "      <td> NaN</td>\n",
        "      <td> NaN</td>\n",
        "      <td>    NaN</td>\n",
        "      <td>NaN</td>\n",
        "      <td>...</td>\n",
        "      <td>NaN</td>\n",
        "      <td>NaN</td>\n",
        "      <td>NaN</td>\n",
        "      <td>NaN</td>\n",
        "      <td>NaN</td>\n",
        "      <td>NaN</td>\n",
        "      <td>NaN</td>\n",
        "      <td>NaN</td>\n",
        "      <td>NaN</td>\n",
        "      <td>NaN</td>\n",
        "    </tr>\n",
        "    <tr>\n",
        "      <th>60761</th>\n",
        "      <td>  #1007</td>\n",
        "      <td>  lik-novikova@yandex.ru</td>\n",
        "      <td>     NaN</td>\n",
        "      <td>                       NaN</td>\n",
        "      <td>         NaN</td>\n",
        "      <td>                       NaN</td>\n",
        "      <td> NaN</td>\n",
        "      <td> NaN</td>\n",
        "      <td>    NaN</td>\n",
        "      <td>NaN</td>\n",
        "      <td>...</td>\n",
        "      <td>NaN</td>\n",
        "      <td>NaN</td>\n",
        "      <td>NaN</td>\n",
        "      <td>NaN</td>\n",
        "      <td>NaN</td>\n",
        "      <td>NaN</td>\n",
        "      <td>NaN</td>\n",
        "      <td>NaN</td>\n",
        "      <td>NaN</td>\n",
        "      <td>NaN</td>\n",
        "    </tr>\n",
        "    <tr>\n",
        "      <th>60762</th>\n",
        "      <td>  #1007</td>\n",
        "      <td>  lik-novikova@yandex.ru</td>\n",
        "      <td>     NaN</td>\n",
        "      <td>                       NaN</td>\n",
        "      <td>         NaN</td>\n",
        "      <td>                       NaN</td>\n",
        "      <td> NaN</td>\n",
        "      <td> NaN</td>\n",
        "      <td>    NaN</td>\n",
        "      <td>NaN</td>\n",
        "      <td>...</td>\n",
        "      <td>NaN</td>\n",
        "      <td>NaN</td>\n",
        "      <td>NaN</td>\n",
        "      <td>NaN</td>\n",
        "      <td>NaN</td>\n",
        "      <td>NaN</td>\n",
        "      <td>NaN</td>\n",
        "      <td>NaN</td>\n",
        "      <td>NaN</td>\n",
        "      <td>NaN</td>\n",
        "    </tr>\n",
        "    <tr>\n",
        "      <th>60763</th>\n",
        "      <td>  #1006</td>\n",
        "      <td>     bente.ring@yahoo.no</td>\n",
        "      <td>    paid</td>\n",
        "      <td> 2012-05-04 18:37:13 +0200</td>\n",
        "      <td>   fulfilled</td>\n",
        "      <td> 2012-05-03 10:57:23 +0200</td>\n",
        "      <td> yes</td>\n",
        "      <td> EGP</td>\n",
        "      <td> 201.51</td>\n",
        "      <td>  5</td>\n",
        "      <td>...</td>\n",
        "      <td>NaN</td>\n",
        "      <td>NaN</td>\n",
        "      <td>NaN</td>\n",
        "      <td>NaN</td>\n",
        "      <td>NaN</td>\n",
        "      <td>NaN</td>\n",
        "      <td>NaN</td>\n",
        "      <td>NaN</td>\n",
        "      <td>NaN</td>\n",
        "      <td>NaN</td>\n",
        "    </tr>\n",
        "    <tr>\n",
        "      <th>60764</th>\n",
        "      <td>  #1006</td>\n",
        "      <td>     bente.ring@yahoo.no</td>\n",
        "      <td>     NaN</td>\n",
        "      <td>                       NaN</td>\n",
        "      <td>         NaN</td>\n",
        "      <td>                       NaN</td>\n",
        "      <td> NaN</td>\n",
        "      <td> NaN</td>\n",
        "      <td>    NaN</td>\n",
        "      <td>NaN</td>\n",
        "      <td>...</td>\n",
        "      <td>NaN</td>\n",
        "      <td>NaN</td>\n",
        "      <td>NaN</td>\n",
        "      <td>NaN</td>\n",
        "      <td>NaN</td>\n",
        "      <td>NaN</td>\n",
        "      <td>NaN</td>\n",
        "      <td>NaN</td>\n",
        "      <td>NaN</td>\n",
        "      <td>NaN</td>\n",
        "    </tr>\n",
        "    <tr>\n",
        "      <th>60765</th>\n",
        "      <td>  #1006</td>\n",
        "      <td>     bente.ring@yahoo.no</td>\n",
        "      <td>     NaN</td>\n",
        "      <td>                       NaN</td>\n",
        "      <td>         NaN</td>\n",
        "      <td>                       NaN</td>\n",
        "      <td> NaN</td>\n",
        "      <td> NaN</td>\n",
        "      <td>    NaN</td>\n",
        "      <td>NaN</td>\n",
        "      <td>...</td>\n",
        "      <td>NaN</td>\n",
        "      <td>NaN</td>\n",
        "      <td>NaN</td>\n",
        "      <td>NaN</td>\n",
        "      <td>NaN</td>\n",
        "      <td>NaN</td>\n",
        "      <td>NaN</td>\n",
        "      <td>NaN</td>\n",
        "      <td>NaN</td>\n",
        "      <td>NaN</td>\n",
        "    </tr>\n",
        "    <tr>\n",
        "      <th>60766</th>\n",
        "      <td>  #1006</td>\n",
        "      <td>     bente.ring@yahoo.no</td>\n",
        "      <td>     NaN</td>\n",
        "      <td>                       NaN</td>\n",
        "      <td>         NaN</td>\n",
        "      <td>                       NaN</td>\n",
        "      <td> NaN</td>\n",
        "      <td> NaN</td>\n",
        "      <td>    NaN</td>\n",
        "      <td>NaN</td>\n",
        "      <td>...</td>\n",
        "      <td>NaN</td>\n",
        "      <td>NaN</td>\n",
        "      <td>NaN</td>\n",
        "      <td>NaN</td>\n",
        "      <td>NaN</td>\n",
        "      <td>NaN</td>\n",
        "      <td>NaN</td>\n",
        "      <td>NaN</td>\n",
        "      <td>NaN</td>\n",
        "      <td>NaN</td>\n",
        "    </tr>\n",
        "    <tr>\n",
        "      <th>60767</th>\n",
        "      <td>  #1006</td>\n",
        "      <td>     bente.ring@yahoo.no</td>\n",
        "      <td>     NaN</td>\n",
        "      <td>                       NaN</td>\n",
        "      <td>         NaN</td>\n",
        "      <td>                       NaN</td>\n",
        "      <td> NaN</td>\n",
        "      <td> NaN</td>\n",
        "      <td>    NaN</td>\n",
        "      <td>NaN</td>\n",
        "      <td>...</td>\n",
        "      <td>NaN</td>\n",
        "      <td>NaN</td>\n",
        "      <td>NaN</td>\n",
        "      <td>NaN</td>\n",
        "      <td>NaN</td>\n",
        "      <td>NaN</td>\n",
        "      <td>NaN</td>\n",
        "      <td>NaN</td>\n",
        "      <td>NaN</td>\n",
        "      <td>NaN</td>\n",
        "    </tr>\n",
        "    <tr>\n",
        "      <th>60768</th>\n",
        "      <td>  #1005</td>\n",
        "      <td>    cathypod@hotmail.com</td>\n",
        "      <td>    paid</td>\n",
        "      <td> 2012-05-04 18:37:35 +0200</td>\n",
        "      <td>   fulfilled</td>\n",
        "      <td> 2012-05-03 11:03:44 +0200</td>\n",
        "      <td> yes</td>\n",
        "      <td> EGP</td>\n",
        "      <td>  54.60</td>\n",
        "      <td>  5</td>\n",
        "      <td>...</td>\n",
        "      <td>NaN</td>\n",
        "      <td>NaN</td>\n",
        "      <td>NaN</td>\n",
        "      <td>NaN</td>\n",
        "      <td>NaN</td>\n",
        "      <td>NaN</td>\n",
        "      <td>NaN</td>\n",
        "      <td>NaN</td>\n",
        "      <td>NaN</td>\n",
        "      <td>NaN</td>\n",
        "    </tr>\n",
        "    <tr>\n",
        "      <th>60769</th>\n",
        "      <td>  #1005</td>\n",
        "      <td>    cathypod@hotmail.com</td>\n",
        "      <td>     NaN</td>\n",
        "      <td>                       NaN</td>\n",
        "      <td>         NaN</td>\n",
        "      <td>                       NaN</td>\n",
        "      <td> NaN</td>\n",
        "      <td> NaN</td>\n",
        "      <td>    NaN</td>\n",
        "      <td>NaN</td>\n",
        "      <td>...</td>\n",
        "      <td>NaN</td>\n",
        "      <td>NaN</td>\n",
        "      <td>NaN</td>\n",
        "      <td>NaN</td>\n",
        "      <td>NaN</td>\n",
        "      <td>NaN</td>\n",
        "      <td>NaN</td>\n",
        "      <td>NaN</td>\n",
        "      <td>NaN</td>\n",
        "      <td>NaN</td>\n",
        "    </tr>\n",
        "    <tr>\n",
        "      <th>60770</th>\n",
        "      <td>  #1005</td>\n",
        "      <td>    cathypod@hotmail.com</td>\n",
        "      <td>     NaN</td>\n",
        "      <td>                       NaN</td>\n",
        "      <td>         NaN</td>\n",
        "      <td>                       NaN</td>\n",
        "      <td> NaN</td>\n",
        "      <td> NaN</td>\n",
        "      <td>    NaN</td>\n",
        "      <td>NaN</td>\n",
        "      <td>...</td>\n",
        "      <td>NaN</td>\n",
        "      <td>NaN</td>\n",
        "      <td>NaN</td>\n",
        "      <td>NaN</td>\n",
        "      <td>NaN</td>\n",
        "      <td>NaN</td>\n",
        "      <td>NaN</td>\n",
        "      <td>NaN</td>\n",
        "      <td>NaN</td>\n",
        "      <td>NaN</td>\n",
        "    </tr>\n",
        "    <tr>\n",
        "      <th>60771</th>\n",
        "      <td>  #1005</td>\n",
        "      <td>    cathypod@hotmail.com</td>\n",
        "      <td>     NaN</td>\n",
        "      <td>                       NaN</td>\n",
        "      <td>         NaN</td>\n",
        "      <td>                       NaN</td>\n",
        "      <td> NaN</td>\n",
        "      <td> NaN</td>\n",
        "      <td>    NaN</td>\n",
        "      <td>NaN</td>\n",
        "      <td>...</td>\n",
        "      <td>NaN</td>\n",
        "      <td>NaN</td>\n",
        "      <td>NaN</td>\n",
        "      <td>NaN</td>\n",
        "      <td>NaN</td>\n",
        "      <td>NaN</td>\n",
        "      <td>NaN</td>\n",
        "      <td>NaN</td>\n",
        "      <td>NaN</td>\n",
        "      <td>NaN</td>\n",
        "    </tr>\n",
        "  </tbody>\n",
        "</table>\n",
        "<p>60772 rows \u00d7 66 columns</p>\n",
        "</div>"
       ],
       "metadata": {},
       "output_type": "pyout",
       "prompt_number": 8,
       "text": [
        "         Name                    Email Financial Status  \\\n",
        "0      #10367   rehabmansour@gmail.com          pending   \n",
        "1      #10367   rehabmansour@gmail.com              NaN   \n",
        "2      #10367   rehabmansour@gmail.com              NaN   \n",
        "3      #10366      nabouheif@yahoo.com          pending   \n",
        "4      #10366      nabouheif@yahoo.com              NaN   \n",
        "5      #10366      nabouheif@yahoo.com              NaN   \n",
        "6      #10365   fracicardi@hotmail.com          pending   \n",
        "7      #10365   fracicardi@hotmail.com              NaN   \n",
        "8      #10365   fracicardi@hotmail.com              NaN   \n",
        "9      #10365   fracicardi@hotmail.com              NaN   \n",
        "10     #10365   fracicardi@hotmail.com              NaN   \n",
        "11     #10365   fracicardi@hotmail.com              NaN   \n",
        "12     #10364   ahmed.fakhry@gmail.com          pending   \n",
        "13     #10364   ahmed.fakhry@gmail.com              NaN   \n",
        "14     #10364   ahmed.fakhry@gmail.com              NaN   \n",
        "15     #10364   ahmed.fakhry@gmail.com              NaN   \n",
        "16     #10364   ahmed.fakhry@gmail.com              NaN   \n",
        "17     #10364   ahmed.fakhry@gmail.com              NaN   \n",
        "18     #10364   ahmed.fakhry@gmail.com              NaN   \n",
        "19     #10364   ahmed.fakhry@gmail.com              NaN   \n",
        "20     #10364   ahmed.fakhry@gmail.com              NaN   \n",
        "21     #10363   ahmed.fakhry@gmail.com          pending   \n",
        "22     #10362     Missilou11@yahoo.com          pending   \n",
        "23     #10361  sallysalem123@gmail.com          pending   \n",
        "24     #10361  sallysalem123@gmail.com              NaN   \n",
        "25     #10361  sallysalem123@gmail.com              NaN   \n",
        "26     #10361  sallysalem123@gmail.com              NaN   \n",
        "27     #10361  sallysalem123@gmail.com              NaN   \n",
        "28     #10361  sallysalem123@gmail.com              NaN   \n",
        "29     #10361  sallysalem123@gmail.com              NaN   \n",
        "...       ...                      ...              ...   \n",
        "60742   #1013   lik-novikova@yandex.ru              NaN   \n",
        "60743   #1012      bettyhedrich@gmx.de             paid   \n",
        "60744   #1012      bettyhedrich@gmx.de              NaN   \n",
        "60745   #1011            rulah@msn.com             paid   \n",
        "60746   #1010      milda_b@hotmail.com             paid   \n",
        "60747   #1010      milda_b@hotmail.com              NaN   \n",
        "60748   #1010      milda_b@hotmail.com              NaN   \n",
        "60749   #1010      milda_b@hotmail.com              NaN   \n",
        "60750   #1010      milda_b@hotmail.com              NaN   \n",
        "60751   #1010      milda_b@hotmail.com              NaN   \n",
        "60752   #1010      milda_b@hotmail.com              NaN   \n",
        "60753   #1009      bente.ring@yahoo.no             paid   \n",
        "60754   #1008      bente.ring@yahoo.no             paid   \n",
        "60755   #1008      bente.ring@yahoo.no              NaN   \n",
        "60756   #1008      bente.ring@yahoo.no              NaN   \n",
        "60757   #1008      bente.ring@yahoo.no              NaN   \n",
        "60758   #1008      bente.ring@yahoo.no              NaN   \n",
        "60759   #1007   lik-novikova@yandex.ru             paid   \n",
        "60760   #1007   lik-novikova@yandex.ru              NaN   \n",
        "60761   #1007   lik-novikova@yandex.ru              NaN   \n",
        "60762   #1007   lik-novikova@yandex.ru              NaN   \n",
        "60763   #1006      bente.ring@yahoo.no             paid   \n",
        "60764   #1006      bente.ring@yahoo.no              NaN   \n",
        "60765   #1006      bente.ring@yahoo.no              NaN   \n",
        "60766   #1006      bente.ring@yahoo.no              NaN   \n",
        "60767   #1006      bente.ring@yahoo.no              NaN   \n",
        "60768   #1005     cathypod@hotmail.com             paid   \n",
        "60769   #1005     cathypod@hotmail.com              NaN   \n",
        "60770   #1005     cathypod@hotmail.com              NaN   \n",
        "60771   #1005     cathypod@hotmail.com              NaN   \n",
        "\n",
        "                         Paid at Fulfillment Status  \\\n",
        "0                            NaN        unfulfilled   \n",
        "1                            NaN                NaN   \n",
        "2                            NaN                NaN   \n",
        "3                            NaN        unfulfilled   \n",
        "4                            NaN                NaN   \n",
        "5                            NaN                NaN   \n",
        "6                            NaN        unfulfilled   \n",
        "7                            NaN                NaN   \n",
        "8                            NaN                NaN   \n",
        "9                            NaN                NaN   \n",
        "10                           NaN                NaN   \n",
        "11                           NaN                NaN   \n",
        "12                           NaN        unfulfilled   \n",
        "13                           NaN                NaN   \n",
        "14                           NaN                NaN   \n",
        "15                           NaN                NaN   \n",
        "16                           NaN                NaN   \n",
        "17                           NaN                NaN   \n",
        "18                           NaN                NaN   \n",
        "19                           NaN                NaN   \n",
        "20                           NaN                NaN   \n",
        "21                           NaN        unfulfilled   \n",
        "22                           NaN        unfulfilled   \n",
        "23                           NaN        unfulfilled   \n",
        "24                           NaN                NaN   \n",
        "25                           NaN                NaN   \n",
        "26                           NaN                NaN   \n",
        "27                           NaN                NaN   \n",
        "28                           NaN                NaN   \n",
        "29                           NaN                NaN   \n",
        "...                          ...                ...   \n",
        "60742                        NaN                NaN   \n",
        "60743  2012-05-27 13:15:42 +0200          fulfilled   \n",
        "60744                        NaN                NaN   \n",
        "60745  2012-05-21 18:33:13 +0200          fulfilled   \n",
        "60746  2012-05-09 11:09:12 +0200          fulfilled   \n",
        "60747                        NaN                NaN   \n",
        "60748                        NaN                NaN   \n",
        "60749                        NaN                NaN   \n",
        "60750                        NaN                NaN   \n",
        "60751                        NaN                NaN   \n",
        "60752                        NaN                NaN   \n",
        "60753  2012-05-10 19:12:35 +0200          fulfilled   \n",
        "60754  2012-05-10 19:13:35 +0200          fulfilled   \n",
        "60755                        NaN                NaN   \n",
        "60756                        NaN                NaN   \n",
        "60757                        NaN                NaN   \n",
        "60758                        NaN                NaN   \n",
        "60759  2012-05-04 18:36:50 +0200          fulfilled   \n",
        "60760                        NaN                NaN   \n",
        "60761                        NaN                NaN   \n",
        "60762                        NaN                NaN   \n",
        "60763  2012-05-04 18:37:13 +0200          fulfilled   \n",
        "60764                        NaN                NaN   \n",
        "60765                        NaN                NaN   \n",
        "60766                        NaN                NaN   \n",
        "60767                        NaN                NaN   \n",
        "60768  2012-05-04 18:37:35 +0200          fulfilled   \n",
        "60769                        NaN                NaN   \n",
        "60770                        NaN                NaN   \n",
        "60771                        NaN                NaN   \n",
        "\n",
        "                    Fulfilled at Accepts Marketing Currency  Subtotal  \\\n",
        "0                            NaN                no      EGP    375.30   \n",
        "1                            NaN               NaN      NaN       NaN   \n",
        "2                            NaN               NaN      NaN       NaN   \n",
        "3                            NaN                no      EGP    162.90   \n",
        "4                            NaN               NaN      NaN       NaN   \n",
        "5                            NaN               NaN      NaN       NaN   \n",
        "6                            NaN                no      EGP    129.00   \n",
        "7                            NaN               NaN      NaN       NaN   \n",
        "8                            NaN               NaN      NaN       NaN   \n",
        "9                            NaN               NaN      NaN       NaN   \n",
        "10                           NaN               NaN      NaN       NaN   \n",
        "11                           NaN               NaN      NaN       NaN   \n",
        "12                           NaN                no      EGP    660.10   \n",
        "13                           NaN               NaN      NaN       NaN   \n",
        "14                           NaN               NaN      NaN       NaN   \n",
        "15                           NaN               NaN      NaN       NaN   \n",
        "16                           NaN               NaN      NaN       NaN   \n",
        "17                           NaN               NaN      NaN       NaN   \n",
        "18                           NaN               NaN      NaN       NaN   \n",
        "19                           NaN               NaN      NaN       NaN   \n",
        "20                           NaN               NaN      NaN       NaN   \n",
        "21                           NaN                no      EGP    592.00   \n",
        "22                           NaN                no      EGP     70.20   \n",
        "23                           NaN                no      EGP    432.00   \n",
        "24                           NaN               NaN      NaN       NaN   \n",
        "25                           NaN               NaN      NaN       NaN   \n",
        "26                           NaN               NaN      NaN       NaN   \n",
        "27                           NaN               NaN      NaN       NaN   \n",
        "28                           NaN               NaN      NaN       NaN   \n",
        "29                           NaN               NaN      NaN       NaN   \n",
        "...                          ...               ...      ...       ...   \n",
        "60742                        NaN               NaN      NaN       NaN   \n",
        "60743  2012-05-27 13:15:14 +0200                no      EGP     41.93   \n",
        "60744                        NaN               NaN      NaN       NaN   \n",
        "60745  2012-05-21 18:33:43 +0200               yes      EGP    222.30   \n",
        "60746  2012-05-09 11:09:06 +0200               yes      EGP    155.55   \n",
        "60747                        NaN               NaN      NaN       NaN   \n",
        "60748                        NaN               NaN      NaN       NaN   \n",
        "60749                        NaN               NaN      NaN       NaN   \n",
        "60750                        NaN               NaN      NaN       NaN   \n",
        "60751                        NaN               NaN      NaN       NaN   \n",
        "60752                        NaN               NaN      NaN       NaN   \n",
        "60753  2012-05-10 19:12:32 +0200               yes      EGP     45.50   \n",
        "60754  2012-05-10 19:13:32 +0200               yes      EGP    357.53   \n",
        "60755                        NaN               NaN      NaN       NaN   \n",
        "60756                        NaN               NaN      NaN       NaN   \n",
        "60757                        NaN               NaN      NaN       NaN   \n",
        "60758                        NaN               NaN      NaN       NaN   \n",
        "60759  2012-05-04 18:33:47 +0200               yes      EGP    110.83   \n",
        "60760                        NaN               NaN      NaN       NaN   \n",
        "60761                        NaN               NaN      NaN       NaN   \n",
        "60762                        NaN               NaN      NaN       NaN   \n",
        "60763  2012-05-03 10:57:23 +0200               yes      EGP    201.51   \n",
        "60764                        NaN               NaN      NaN       NaN   \n",
        "60765                        NaN               NaN      NaN       NaN   \n",
        "60766                        NaN               NaN      NaN       NaN   \n",
        "60767                        NaN               NaN      NaN       NaN   \n",
        "60768  2012-05-03 11:03:44 +0200               yes      EGP     54.60   \n",
        "60769                        NaN               NaN      NaN       NaN   \n",
        "60770                        NaN               NaN      NaN       NaN   \n",
        "60771                        NaN               NaN      NaN       NaN   \n",
        "\n",
        "       Shipping     ...       Tax 1 Name  Tax 1 Value Tax 2 Name  Tax 2 Value  \\\n",
        "0            10     ...              NaN          NaN        NaN          NaN   \n",
        "1           NaN     ...              NaN          NaN        NaN          NaN   \n",
        "2           NaN     ...              NaN          NaN        NaN          NaN   \n",
        "3            10     ...              NaN          NaN        NaN          NaN   \n",
        "4           NaN     ...              NaN          NaN        NaN          NaN   \n",
        "5           NaN     ...              NaN          NaN        NaN          NaN   \n",
        "6            15     ...              NaN          NaN        NaN          NaN   \n",
        "7           NaN     ...              NaN          NaN        NaN          NaN   \n",
        "8           NaN     ...              NaN          NaN        NaN          NaN   \n",
        "9           NaN     ...              NaN          NaN        NaN          NaN   \n",
        "10          NaN     ...              NaN          NaN        NaN          NaN   \n",
        "11          NaN     ...              NaN          NaN        NaN          NaN   \n",
        "12           10     ...              NaN          NaN        NaN          NaN   \n",
        "13          NaN     ...              NaN          NaN        NaN          NaN   \n",
        "14          NaN     ...              NaN          NaN        NaN          NaN   \n",
        "15          NaN     ...              NaN          NaN        NaN          NaN   \n",
        "16          NaN     ...              NaN          NaN        NaN          NaN   \n",
        "17          NaN     ...              NaN          NaN        NaN          NaN   \n",
        "18          NaN     ...              NaN          NaN        NaN          NaN   \n",
        "19          NaN     ...              NaN          NaN        NaN          NaN   \n",
        "20          NaN     ...              NaN          NaN        NaN          NaN   \n",
        "21           10     ...              NaN          NaN        NaN          NaN   \n",
        "22           15     ...              NaN          NaN        NaN          NaN   \n",
        "23           10     ...              NaN          NaN        NaN          NaN   \n",
        "24          NaN     ...              NaN          NaN        NaN          NaN   \n",
        "25          NaN     ...              NaN          NaN        NaN          NaN   \n",
        "26          NaN     ...              NaN          NaN        NaN          NaN   \n",
        "27          NaN     ...              NaN          NaN        NaN          NaN   \n",
        "28          NaN     ...              NaN          NaN        NaN          NaN   \n",
        "29          NaN     ...              NaN          NaN        NaN          NaN   \n",
        "...         ...     ...              ...          ...        ...          ...   \n",
        "60742       NaN     ...              NaN          NaN        NaN          NaN   \n",
        "60743         5     ...              NaN          NaN        NaN          NaN   \n",
        "60744       NaN     ...              NaN          NaN        NaN          NaN   \n",
        "60745         5     ...              NaN          NaN        NaN          NaN   \n",
        "60746         5     ...              NaN          NaN        NaN          NaN   \n",
        "60747       NaN     ...              NaN          NaN        NaN          NaN   \n",
        "60748       NaN     ...              NaN          NaN        NaN          NaN   \n",
        "60749       NaN     ...              NaN          NaN        NaN          NaN   \n",
        "60750       NaN     ...              NaN          NaN        NaN          NaN   \n",
        "60751       NaN     ...              NaN          NaN        NaN          NaN   \n",
        "60752       NaN     ...              NaN          NaN        NaN          NaN   \n",
        "60753         5     ...              NaN          NaN        NaN          NaN   \n",
        "60754         5     ...              NaN          NaN        NaN          NaN   \n",
        "60755       NaN     ...              NaN          NaN        NaN          NaN   \n",
        "60756       NaN     ...              NaN          NaN        NaN          NaN   \n",
        "60757       NaN     ...              NaN          NaN        NaN          NaN   \n",
        "60758       NaN     ...              NaN          NaN        NaN          NaN   \n",
        "60759         5     ...              NaN          NaN        NaN          NaN   \n",
        "60760       NaN     ...              NaN          NaN        NaN          NaN   \n",
        "60761       NaN     ...              NaN          NaN        NaN          NaN   \n",
        "60762       NaN     ...              NaN          NaN        NaN          NaN   \n",
        "60763         5     ...              NaN          NaN        NaN          NaN   \n",
        "60764       NaN     ...              NaN          NaN        NaN          NaN   \n",
        "60765       NaN     ...              NaN          NaN        NaN          NaN   \n",
        "60766       NaN     ...              NaN          NaN        NaN          NaN   \n",
        "60767       NaN     ...              NaN          NaN        NaN          NaN   \n",
        "60768         5     ...              NaN          NaN        NaN          NaN   \n",
        "60769       NaN     ...              NaN          NaN        NaN          NaN   \n",
        "60770       NaN     ...              NaN          NaN        NaN          NaN   \n",
        "60771       NaN     ...              NaN          NaN        NaN          NaN   \n",
        "\n",
        "      Tax 3 Name Tax 3 Value  Tax 4 Name Tax 4 Value  Tax 5 Name  Tax 5 Value  \n",
        "0            NaN         NaN         NaN         NaN         NaN          NaN  \n",
        "1            NaN         NaN         NaN         NaN         NaN          NaN  \n",
        "2            NaN         NaN         NaN         NaN         NaN          NaN  \n",
        "3            NaN         NaN         NaN         NaN         NaN          NaN  \n",
        "4            NaN         NaN         NaN         NaN         NaN          NaN  \n",
        "5            NaN         NaN         NaN         NaN         NaN          NaN  \n",
        "6            NaN         NaN         NaN         NaN         NaN          NaN  \n",
        "7            NaN         NaN         NaN         NaN         NaN          NaN  \n",
        "8            NaN         NaN         NaN         NaN         NaN          NaN  \n",
        "9            NaN         NaN         NaN         NaN         NaN          NaN  \n",
        "10           NaN         NaN         NaN         NaN         NaN          NaN  \n",
        "11           NaN         NaN         NaN         NaN         NaN          NaN  \n",
        "12           NaN         NaN         NaN         NaN         NaN          NaN  \n",
        "13           NaN         NaN         NaN         NaN         NaN          NaN  \n",
        "14           NaN         NaN         NaN         NaN         NaN          NaN  \n",
        "15           NaN         NaN         NaN         NaN         NaN          NaN  \n",
        "16           NaN         NaN         NaN         NaN         NaN          NaN  \n",
        "17           NaN         NaN         NaN         NaN         NaN          NaN  \n",
        "18           NaN         NaN         NaN         NaN         NaN          NaN  \n",
        "19           NaN         NaN         NaN         NaN         NaN          NaN  \n",
        "20           NaN         NaN         NaN         NaN         NaN          NaN  \n",
        "21           NaN         NaN         NaN         NaN         NaN          NaN  \n",
        "22           NaN         NaN         NaN         NaN         NaN          NaN  \n",
        "23           NaN         NaN         NaN         NaN         NaN          NaN  \n",
        "24           NaN         NaN         NaN         NaN         NaN          NaN  \n",
        "25           NaN         NaN         NaN         NaN         NaN          NaN  \n",
        "26           NaN         NaN         NaN         NaN         NaN          NaN  \n",
        "27           NaN         NaN         NaN         NaN         NaN          NaN  \n",
        "28           NaN         NaN         NaN         NaN         NaN          NaN  \n",
        "29           NaN         NaN         NaN         NaN         NaN          NaN  \n",
        "...          ...         ...         ...         ...         ...          ...  \n",
        "60742        NaN         NaN         NaN         NaN         NaN          NaN  \n",
        "60743        NaN         NaN         NaN         NaN         NaN          NaN  \n",
        "60744        NaN         NaN         NaN         NaN         NaN          NaN  \n",
        "60745        NaN         NaN         NaN         NaN         NaN          NaN  \n",
        "60746        NaN         NaN         NaN         NaN         NaN          NaN  \n",
        "60747        NaN         NaN         NaN         NaN         NaN          NaN  \n",
        "60748        NaN         NaN         NaN         NaN         NaN          NaN  \n",
        "60749        NaN         NaN         NaN         NaN         NaN          NaN  \n",
        "60750        NaN         NaN         NaN         NaN         NaN          NaN  \n",
        "60751        NaN         NaN         NaN         NaN         NaN          NaN  \n",
        "60752        NaN         NaN         NaN         NaN         NaN          NaN  \n",
        "60753        NaN         NaN         NaN         NaN         NaN          NaN  \n",
        "60754        NaN         NaN         NaN         NaN         NaN          NaN  \n",
        "60755        NaN         NaN         NaN         NaN         NaN          NaN  \n",
        "60756        NaN         NaN         NaN         NaN         NaN          NaN  \n",
        "60757        NaN         NaN         NaN         NaN         NaN          NaN  \n",
        "60758        NaN         NaN         NaN         NaN         NaN          NaN  \n",
        "60759        NaN         NaN         NaN         NaN         NaN          NaN  \n",
        "60760        NaN         NaN         NaN         NaN         NaN          NaN  \n",
        "60761        NaN         NaN         NaN         NaN         NaN          NaN  \n",
        "60762        NaN         NaN         NaN         NaN         NaN          NaN  \n",
        "60763        NaN         NaN         NaN         NaN         NaN          NaN  \n",
        "60764        NaN         NaN         NaN         NaN         NaN          NaN  \n",
        "60765        NaN         NaN         NaN         NaN         NaN          NaN  \n",
        "60766        NaN         NaN         NaN         NaN         NaN          NaN  \n",
        "60767        NaN         NaN         NaN         NaN         NaN          NaN  \n",
        "60768        NaN         NaN         NaN         NaN         NaN          NaN  \n",
        "60769        NaN         NaN         NaN         NaN         NaN          NaN  \n",
        "60770        NaN         NaN         NaN         NaN         NaN          NaN  \n",
        "60771        NaN         NaN         NaN         NaN         NaN          NaN  \n",
        "\n",
        "[60772 rows x 66 columns]"
       ]
      }
     ],
     "prompt_number": 8
    },
    {
     "cell_type": "code",
     "collapsed": false,
     "input": [
      "#function to get month and year\n",
      "def convertDate(data):\n",
      "    matchobj = re.match(r'(.*) (.*) (.*).*',data)\n",
      "    data = matchobj.group(1)\n",
      "    matchobj = re.match(r'(.*)-(.*)-(.*).*',data)\n",
      "    data = matchobj.group(1) + \"-\" + matchobj.group(2) + \"-01\"\n",
      "    return data\n",
      "\n",
      "#count all the unique orders\n",
      "def getUnique(data):\n",
      "    return len(data) - len(set(data))\n",
      "    \n",
      "#rows of type 21 and 12 are same, retain one instance of such rows\n",
      "def combineProds(date1, name1, name2, count):\n",
      "    if(name1 < name2):\n",
      "        return date1 + \",\" + name1 + \",\" + name2 + \",\" +count\n",
      "    else:\n",
      "        return date1 + \",\" + name2 + \",\" + name1 + \",\" +count"
     ],
     "language": "python",
     "metadata": {},
     "outputs": [],
     "prompt_number": 9
    },
    {
     "cell_type": "code",
     "collapsed": false,
     "input": [
      "df = df[['Name', 'Lineitem name', 'Created at']] #subset required columns\n",
      "df.columns = ['Name', 'Product', 'Date'] #rename columns\n",
      "df"
     ],
     "language": "python",
     "metadata": {},
     "outputs": [
      {
       "html": [
        "<div style=\"max-height:1000px;max-width:1500px;overflow:auto;\">\n",
        "<table border=\"1\" class=\"dataframe\">\n",
        "  <thead>\n",
        "    <tr style=\"text-align: right;\">\n",
        "      <th></th>\n",
        "      <th>Name</th>\n",
        "      <th>Product</th>\n",
        "      <th>Date</th>\n",
        "    </tr>\n",
        "  </thead>\n",
        "  <tbody>\n",
        "    <tr>\n",
        "      <th>0    </th>\n",
        "      <td> #10367</td>\n",
        "      <td>               Balady Whole Chicken(chemical free)</td>\n",
        "      <td> 2015-12-23 20:33:51 +0200</td>\n",
        "    </tr>\n",
        "    <tr>\n",
        "      <th>1    </th>\n",
        "      <td> #10367</td>\n",
        "      <td>                      Baby spinach (chemical free)</td>\n",
        "      <td> 2015-12-23 20:33:51 +0200</td>\n",
        "    </tr>\n",
        "    <tr>\n",
        "      <th>2    </th>\n",
        "      <td> #10367</td>\n",
        "      <td>            Chicken breast - Hormone free (frozen)</td>\n",
        "      <td> 2015-12-23 20:33:51 +0200</td>\n",
        "    </tr>\n",
        "    <tr>\n",
        "      <th>3    </th>\n",
        "      <td> #10366</td>\n",
        "      <td>                               Avocados (imported)</td>\n",
        "      <td> 2015-12-23 20:00:17 +0200</td>\n",
        "    </tr>\n",
        "    <tr>\n",
        "      <th>4    </th>\n",
        "      <td> #10366</td>\n",
        "      <td>                       Aubergene (Roumy) - organic</td>\n",
        "      <td> 2015-12-23 20:00:17 +0200</td>\n",
        "    </tr>\n",
        "    <tr>\n",
        "      <th>5    </th>\n",
        "      <td> #10366</td>\n",
        "      <td>             Whole chicken - Hormone free (frozen)</td>\n",
        "      <td> 2015-12-23 20:00:17 +0200</td>\n",
        "    </tr>\n",
        "    <tr>\n",
        "      <th>6    </th>\n",
        "      <td> #10365</td>\n",
        "      <td>                                         Red onion</td>\n",
        "      <td> 2015-12-23 18:36:17 +0200</td>\n",
        "    </tr>\n",
        "    <tr>\n",
        "      <th>7    </th>\n",
        "      <td> #10365</td>\n",
        "      <td>                        Watercress (chemical free)</td>\n",
        "      <td> 2015-12-23 18:36:17 +0200</td>\n",
        "    </tr>\n",
        "    <tr>\n",
        "      <th>8    </th>\n",
        "      <td> #10365</td>\n",
        "      <td>                       Lolla rossa (chemical free)</td>\n",
        "      <td> 2015-12-23 18:36:17 +0200</td>\n",
        "    </tr>\n",
        "    <tr>\n",
        "      <th>9    </th>\n",
        "      <td> #10365</td>\n",
        "      <td>            Chicken breast - Hormone free (frozen)</td>\n",
        "      <td> 2015-12-23 18:36:17 +0200</td>\n",
        "    </tr>\n",
        "    <tr>\n",
        "      <th>10   </th>\n",
        "      <td> #10365</td>\n",
        "      <td>                            Arugula(chemical free)</td>\n",
        "      <td> 2015-12-23 18:36:17 +0200</td>\n",
        "    </tr>\n",
        "    <tr>\n",
        "      <th>11   </th>\n",
        "      <td> #10365</td>\n",
        "      <td>               Balady Whole Chicken(chemical free)</td>\n",
        "      <td> 2015-12-23 18:36:17 +0200</td>\n",
        "    </tr>\n",
        "    <tr>\n",
        "      <th>12   </th>\n",
        "      <td> #10364</td>\n",
        "      <td>            Chicken breast - Hormone free (frozen)</td>\n",
        "      <td> 2015-12-23 16:06:49 +0200</td>\n",
        "    </tr>\n",
        "    <tr>\n",
        "      <th>13   </th>\n",
        "      <td> #10364</td>\n",
        "      <td>                            Chicken thigh (frozen)</td>\n",
        "      <td> 2015-12-23 16:06:49 +0200</td>\n",
        "    </tr>\n",
        "    <tr>\n",
        "      <th>14   </th>\n",
        "      <td> #10364</td>\n",
        "      <td> Chicken cutlets - Hormone free - (Shishtawook)...</td>\n",
        "      <td> 2015-12-23 16:06:49 +0200</td>\n",
        "    </tr>\n",
        "    <tr>\n",
        "      <th>15   </th>\n",
        "      <td> #10364</td>\n",
        "      <td>             Veal cutlets (chemical free) - frozen</td>\n",
        "      <td> 2015-12-23 16:06:49 +0200</td>\n",
        "    </tr>\n",
        "    <tr>\n",
        "      <th>16   </th>\n",
        "      <td> #10364</td>\n",
        "      <td>            Veal escalope (chemical free) - frozen</td>\n",
        "      <td> 2015-12-23 16:06:49 +0200</td>\n",
        "    </tr>\n",
        "    <tr>\n",
        "      <th>17   </th>\n",
        "      <td> #10364</td>\n",
        "      <td>               Veal liver (chemical free) - frozen</td>\n",
        "      <td> 2015-12-23 16:06:49 +0200</td>\n",
        "    </tr>\n",
        "    <tr>\n",
        "      <th>18   </th>\n",
        "      <td> #10364</td>\n",
        "      <td> Bedouin lamb beit kalawi (Chemical free) - frozen</td>\n",
        "      <td> 2015-12-23 16:06:49 +0200</td>\n",
        "    </tr>\n",
        "    <tr>\n",
        "      <th>19   </th>\n",
        "      <td> #10364</td>\n",
        "      <td>               Beef cubes (chemical free) - frozen</td>\n",
        "      <td> 2015-12-23 16:06:49 +0200</td>\n",
        "    </tr>\n",
        "    <tr>\n",
        "      <th>20   </th>\n",
        "      <td> #10364</td>\n",
        "      <td>      Beef mince - no fat (chemical free) - frozen</td>\n",
        "      <td> 2015-12-23 16:06:49 +0200</td>\n",
        "    </tr>\n",
        "    <tr>\n",
        "      <th>21   </th>\n",
        "      <td> #10363</td>\n",
        "      <td>               Coconut oil (organic) - for cooking</td>\n",
        "      <td> 2015-12-23 16:01:32 +0200</td>\n",
        "    </tr>\n",
        "    <tr>\n",
        "      <th>22   </th>\n",
        "      <td> #10362</td>\n",
        "      <td>                               Wild Shrimp (small)</td>\n",
        "      <td> 2015-12-23 14:25:09 +0200</td>\n",
        "    </tr>\n",
        "    <tr>\n",
        "      <th>23   </th>\n",
        "      <td> #10361</td>\n",
        "      <td>             Chicken liver - Hormone free (frozen)</td>\n",
        "      <td> 2015-12-23 13:13:34 +0200</td>\n",
        "    </tr>\n",
        "    <tr>\n",
        "      <th>24   </th>\n",
        "      <td> #10361</td>\n",
        "      <td>                          Potatoes (chemical free)</td>\n",
        "      <td> 2015-12-23 13:13:34 +0200</td>\n",
        "    </tr>\n",
        "    <tr>\n",
        "      <th>25   </th>\n",
        "      <td> #10361</td>\n",
        "      <td>                    Sweet potatoes (Chemical free)</td>\n",
        "      <td> 2015-12-23 13:13:34 +0200</td>\n",
        "    </tr>\n",
        "    <tr>\n",
        "      <th>26   </th>\n",
        "      <td> #10361</td>\n",
        "      <td>           Top side steak (chemical free) - frozen</td>\n",
        "      <td> 2015-12-23 13:13:34 +0200</td>\n",
        "    </tr>\n",
        "    <tr>\n",
        "      <th>27   </th>\n",
        "      <td> #10361</td>\n",
        "      <td>            Beef shanks ( Chemical free ) - frozen</td>\n",
        "      <td> 2015-12-23 13:13:34 +0200</td>\n",
        "    </tr>\n",
        "    <tr>\n",
        "      <th>28   </th>\n",
        "      <td> #10361</td>\n",
        "      <td>             Whole chicken - Hormone free (frozen)</td>\n",
        "      <td> 2015-12-23 13:13:34 +0200</td>\n",
        "    </tr>\n",
        "    <tr>\n",
        "      <th>29   </th>\n",
        "      <td> #10361</td>\n",
        "      <td>            Chicken breast - Hormone free (frozen)</td>\n",
        "      <td> 2015-12-23 13:13:34 +0200</td>\n",
        "    </tr>\n",
        "    <tr>\n",
        "      <th>...</th>\n",
        "      <td>...</td>\n",
        "      <td>...</td>\n",
        "      <td>...</td>\n",
        "    </tr>\n",
        "    <tr>\n",
        "      <th>60742</th>\n",
        "      <td>  #1013</td>\n",
        "      <td>                            Dried Prunes with Pits</td>\n",
        "      <td> 2012-05-21 16:11:25 +0200</td>\n",
        "    </tr>\n",
        "    <tr>\n",
        "      <th>60743</th>\n",
        "      <td>  #1012</td>\n",
        "      <td>                         Raw Almonds without Shell</td>\n",
        "      <td> 2012-05-18 18:08:41 +0200</td>\n",
        "    </tr>\n",
        "    <tr>\n",
        "      <th>60744</th>\n",
        "      <td>  #1012</td>\n",
        "      <td>                                        Brown Rice</td>\n",
        "      <td> 2012-05-18 18:08:41 +0200</td>\n",
        "    </tr>\n",
        "    <tr>\n",
        "      <th>60745</th>\n",
        "      <td>  #1011</td>\n",
        "      <td>                                  Golden Flaxseeds</td>\n",
        "      <td> 2012-05-10 19:36:02 +0200</td>\n",
        "    </tr>\n",
        "    <tr>\n",
        "      <th>60746</th>\n",
        "      <td>  #1010</td>\n",
        "      <td>            Green Tea with Echinacea &amp; Black Seeds</td>\n",
        "      <td> 2012-05-08 13:52:24 +0200</td>\n",
        "    </tr>\n",
        "    <tr>\n",
        "      <th>60747</th>\n",
        "      <td>  #1010</td>\n",
        "      <td>  Ravioli Fire Roasted Tomato, Mozarella and Basil</td>\n",
        "      <td> 2012-05-08 13:52:24 +0200</td>\n",
        "    </tr>\n",
        "    <tr>\n",
        "      <th>60748</th>\n",
        "      <td>  #1010</td>\n",
        "      <td>                                        Brown Rice</td>\n",
        "      <td> 2012-05-08 13:52:24 +0200</td>\n",
        "    </tr>\n",
        "    <tr>\n",
        "      <th>60749</th>\n",
        "      <td>  #1010</td>\n",
        "      <td>                                Organic Flax Seeds</td>\n",
        "      <td> 2012-05-08 13:52:24 +0200</td>\n",
        "    </tr>\n",
        "    <tr>\n",
        "      <th>60750</th>\n",
        "      <td>  #1010</td>\n",
        "      <td>                                     Pumpkin Seeds</td>\n",
        "      <td> 2012-05-08 13:52:24 +0200</td>\n",
        "    </tr>\n",
        "    <tr>\n",
        "      <th>60751</th>\n",
        "      <td>  #1010</td>\n",
        "      <td>                  Stir Fry Vegetables - Dragon Mix</td>\n",
        "      <td> 2012-05-08 13:52:24 +0200</td>\n",
        "    </tr>\n",
        "    <tr>\n",
        "      <th>60752</th>\n",
        "      <td>  #1010</td>\n",
        "      <td>                         Tea Tree Antiseptic Cream</td>\n",
        "      <td> 2012-05-08 13:52:24 +0200</td>\n",
        "    </tr>\n",
        "    <tr>\n",
        "      <th>60753</th>\n",
        "      <td>  #1009</td>\n",
        "      <td>                          Power Protein Bar Peanut</td>\n",
        "      <td> 2012-05-08 13:20:05 +0200</td>\n",
        "    </tr>\n",
        "    <tr>\n",
        "      <th>60754</th>\n",
        "      <td>  #1008</td>\n",
        "      <td>                          Raw Walnut without Shell</td>\n",
        "      <td> 2012-05-07 10:49:42 +0200</td>\n",
        "    </tr>\n",
        "    <tr>\n",
        "      <th>60755</th>\n",
        "      <td>  #1008</td>\n",
        "      <td>                                         Raw Pecan</td>\n",
        "      <td> 2012-05-07 10:49:42 +0200</td>\n",
        "    </tr>\n",
        "    <tr>\n",
        "      <th>60756</th>\n",
        "      <td>  #1008</td>\n",
        "      <td>                                        Raw Cashew</td>\n",
        "      <td> 2012-05-07 10:49:42 +0200</td>\n",
        "    </tr>\n",
        "    <tr>\n",
        "      <th>60757</th>\n",
        "      <td>  #1008</td>\n",
        "      <td>                         Raw Almonds without Shell</td>\n",
        "      <td> 2012-05-07 10:49:42 +0200</td>\n",
        "    </tr>\n",
        "    <tr>\n",
        "      <th>60758</th>\n",
        "      <td>  #1008</td>\n",
        "      <td>                     Organic Sun-Dried Mango Chips</td>\n",
        "      <td> 2012-05-07 10:49:42 +0200</td>\n",
        "    </tr>\n",
        "    <tr>\n",
        "      <th>60759</th>\n",
        "      <td>  #1007</td>\n",
        "      <td>                                    Raw Bee Pollen</td>\n",
        "      <td> 2012-05-03 11:34:14 +0200</td>\n",
        "    </tr>\n",
        "    <tr>\n",
        "      <th>60760</th>\n",
        "      <td>  #1007</td>\n",
        "      <td>                                    Black Seed Oil</td>\n",
        "      <td> 2012-05-03 11:34:14 +0200</td>\n",
        "    </tr>\n",
        "    <tr>\n",
        "      <th>60761</th>\n",
        "      <td>  #1007</td>\n",
        "      <td>                          Raw Walnut without Shell</td>\n",
        "      <td> 2012-05-03 11:34:14 +0200</td>\n",
        "    </tr>\n",
        "    <tr>\n",
        "      <th>60762</th>\n",
        "      <td>  #1007</td>\n",
        "      <td>                         Raw Almonds without Shell</td>\n",
        "      <td> 2012-05-03 11:34:14 +0200</td>\n",
        "    </tr>\n",
        "    <tr>\n",
        "      <th>60763</th>\n",
        "      <td>  #1006</td>\n",
        "      <td>                          Power Protein Bar Peanut</td>\n",
        "      <td> 2012-05-02 17:38:40 +0200</td>\n",
        "    </tr>\n",
        "    <tr>\n",
        "      <th>60764</th>\n",
        "      <td>  #1006</td>\n",
        "      <td>                          Raw Walnut without Shell</td>\n",
        "      <td> 2012-05-02 17:38:40 +0200</td>\n",
        "    </tr>\n",
        "    <tr>\n",
        "      <th>60765</th>\n",
        "      <td>  #1006</td>\n",
        "      <td>                              Raw Pistachio Kernel</td>\n",
        "      <td> 2012-05-02 17:38:40 +0200</td>\n",
        "    </tr>\n",
        "    <tr>\n",
        "      <th>60766</th>\n",
        "      <td>  #1006</td>\n",
        "      <td>                                         Raw Pecan</td>\n",
        "      <td> 2012-05-02 17:38:40 +0200</td>\n",
        "    </tr>\n",
        "    <tr>\n",
        "      <th>60767</th>\n",
        "      <td>  #1006</td>\n",
        "      <td>                                        Raw Cashew</td>\n",
        "      <td> 2012-05-02 17:38:40 +0200</td>\n",
        "    </tr>\n",
        "    <tr>\n",
        "      <th>60768</th>\n",
        "      <td>  #1005</td>\n",
        "      <td>                                Liver Wellness Tea</td>\n",
        "      <td> 2012-05-01 22:08:45 +0200</td>\n",
        "    </tr>\n",
        "    <tr>\n",
        "      <th>60769</th>\n",
        "      <td>  #1005</td>\n",
        "      <td>                                        Brown Rice</td>\n",
        "      <td> 2012-05-01 22:08:45 +0200</td>\n",
        "    </tr>\n",
        "    <tr>\n",
        "      <th>60770</th>\n",
        "      <td>  #1005</td>\n",
        "      <td>                          Raw Walnut without Shell</td>\n",
        "      <td> 2012-05-01 22:08:45 +0200</td>\n",
        "    </tr>\n",
        "    <tr>\n",
        "      <th>60771</th>\n",
        "      <td>  #1005</td>\n",
        "      <td>                                     Pumpkin Seeds</td>\n",
        "      <td> 2012-05-01 22:08:45 +0200</td>\n",
        "    </tr>\n",
        "  </tbody>\n",
        "</table>\n",
        "<p>60772 rows \u00d7 3 columns</p>\n",
        "</div>"
       ],
       "metadata": {},
       "output_type": "pyout",
       "prompt_number": 10,
       "text": [
        "         Name                                            Product  \\\n",
        "0      #10367                Balady Whole Chicken(chemical free)   \n",
        "1      #10367                       Baby spinach (chemical free)   \n",
        "2      #10367             Chicken breast - Hormone free (frozen)   \n",
        "3      #10366                                Avocados (imported)   \n",
        "4      #10366                        Aubergene (Roumy) - organic   \n",
        "5      #10366              Whole chicken - Hormone free (frozen)   \n",
        "6      #10365                                          Red onion   \n",
        "7      #10365                         Watercress (chemical free)   \n",
        "8      #10365                        Lolla rossa (chemical free)   \n",
        "9      #10365             Chicken breast - Hormone free (frozen)   \n",
        "10     #10365                             Arugula(chemical free)   \n",
        "11     #10365                Balady Whole Chicken(chemical free)   \n",
        "12     #10364             Chicken breast - Hormone free (frozen)   \n",
        "13     #10364                             Chicken thigh (frozen)   \n",
        "14     #10364  Chicken cutlets - Hormone free - (Shishtawook)...   \n",
        "15     #10364              Veal cutlets (chemical free) - frozen   \n",
        "16     #10364             Veal escalope (chemical free) - frozen   \n",
        "17     #10364                Veal liver (chemical free) - frozen   \n",
        "18     #10364  Bedouin lamb beit kalawi (Chemical free) - frozen   \n",
        "19     #10364                Beef cubes (chemical free) - frozen   \n",
        "20     #10364       Beef mince - no fat (chemical free) - frozen   \n",
        "21     #10363                Coconut oil (organic) - for cooking   \n",
        "22     #10362                                Wild Shrimp (small)   \n",
        "23     #10361              Chicken liver - Hormone free (frozen)   \n",
        "24     #10361                           Potatoes (chemical free)   \n",
        "25     #10361                     Sweet potatoes (Chemical free)   \n",
        "26     #10361            Top side steak (chemical free) - frozen   \n",
        "27     #10361             Beef shanks ( Chemical free ) - frozen   \n",
        "28     #10361              Whole chicken - Hormone free (frozen)   \n",
        "29     #10361             Chicken breast - Hormone free (frozen)   \n",
        "...       ...                                                ...   \n",
        "60742   #1013                             Dried Prunes with Pits   \n",
        "60743   #1012                          Raw Almonds without Shell   \n",
        "60744   #1012                                         Brown Rice   \n",
        "60745   #1011                                   Golden Flaxseeds   \n",
        "60746   #1010             Green Tea with Echinacea & Black Seeds   \n",
        "60747   #1010   Ravioli Fire Roasted Tomato, Mozarella and Basil   \n",
        "60748   #1010                                         Brown Rice   \n",
        "60749   #1010                                 Organic Flax Seeds   \n",
        "60750   #1010                                      Pumpkin Seeds   \n",
        "60751   #1010                   Stir Fry Vegetables - Dragon Mix   \n",
        "60752   #1010                          Tea Tree Antiseptic Cream   \n",
        "60753   #1009                           Power Protein Bar Peanut   \n",
        "60754   #1008                           Raw Walnut without Shell   \n",
        "60755   #1008                                          Raw Pecan   \n",
        "60756   #1008                                         Raw Cashew   \n",
        "60757   #1008                          Raw Almonds without Shell   \n",
        "60758   #1008                      Organic Sun-Dried Mango Chips   \n",
        "60759   #1007                                     Raw Bee Pollen   \n",
        "60760   #1007                                     Black Seed Oil   \n",
        "60761   #1007                           Raw Walnut without Shell   \n",
        "60762   #1007                          Raw Almonds without Shell   \n",
        "60763   #1006                           Power Protein Bar Peanut   \n",
        "60764   #1006                           Raw Walnut without Shell   \n",
        "60765   #1006                               Raw Pistachio Kernel   \n",
        "60766   #1006                                          Raw Pecan   \n",
        "60767   #1006                                         Raw Cashew   \n",
        "60768   #1005                                 Liver Wellness Tea   \n",
        "60769   #1005                                         Brown Rice   \n",
        "60770   #1005                           Raw Walnut without Shell   \n",
        "60771   #1005                                      Pumpkin Seeds   \n",
        "\n",
        "                            Date  \n",
        "0      2015-12-23 20:33:51 +0200  \n",
        "1      2015-12-23 20:33:51 +0200  \n",
        "2      2015-12-23 20:33:51 +0200  \n",
        "3      2015-12-23 20:00:17 +0200  \n",
        "4      2015-12-23 20:00:17 +0200  \n",
        "5      2015-12-23 20:00:17 +0200  \n",
        "6      2015-12-23 18:36:17 +0200  \n",
        "7      2015-12-23 18:36:17 +0200  \n",
        "8      2015-12-23 18:36:17 +0200  \n",
        "9      2015-12-23 18:36:17 +0200  \n",
        "10     2015-12-23 18:36:17 +0200  \n",
        "11     2015-12-23 18:36:17 +0200  \n",
        "12     2015-12-23 16:06:49 +0200  \n",
        "13     2015-12-23 16:06:49 +0200  \n",
        "14     2015-12-23 16:06:49 +0200  \n",
        "15     2015-12-23 16:06:49 +0200  \n",
        "16     2015-12-23 16:06:49 +0200  \n",
        "17     2015-12-23 16:06:49 +0200  \n",
        "18     2015-12-23 16:06:49 +0200  \n",
        "19     2015-12-23 16:06:49 +0200  \n",
        "20     2015-12-23 16:06:49 +0200  \n",
        "21     2015-12-23 16:01:32 +0200  \n",
        "22     2015-12-23 14:25:09 +0200  \n",
        "23     2015-12-23 13:13:34 +0200  \n",
        "24     2015-12-23 13:13:34 +0200  \n",
        "25     2015-12-23 13:13:34 +0200  \n",
        "26     2015-12-23 13:13:34 +0200  \n",
        "27     2015-12-23 13:13:34 +0200  \n",
        "28     2015-12-23 13:13:34 +0200  \n",
        "29     2015-12-23 13:13:34 +0200  \n",
        "...                          ...  \n",
        "60742  2012-05-21 16:11:25 +0200  \n",
        "60743  2012-05-18 18:08:41 +0200  \n",
        "60744  2012-05-18 18:08:41 +0200  \n",
        "60745  2012-05-10 19:36:02 +0200  \n",
        "60746  2012-05-08 13:52:24 +0200  \n",
        "60747  2012-05-08 13:52:24 +0200  \n",
        "60748  2012-05-08 13:52:24 +0200  \n",
        "60749  2012-05-08 13:52:24 +0200  \n",
        "60750  2012-05-08 13:52:24 +0200  \n",
        "60751  2012-05-08 13:52:24 +0200  \n",
        "60752  2012-05-08 13:52:24 +0200  \n",
        "60753  2012-05-08 13:20:05 +0200  \n",
        "60754  2012-05-07 10:49:42 +0200  \n",
        "60755  2012-05-07 10:49:42 +0200  \n",
        "60756  2012-05-07 10:49:42 +0200  \n",
        "60757  2012-05-07 10:49:42 +0200  \n",
        "60758  2012-05-07 10:49:42 +0200  \n",
        "60759  2012-05-03 11:34:14 +0200  \n",
        "60760  2012-05-03 11:34:14 +0200  \n",
        "60761  2012-05-03 11:34:14 +0200  \n",
        "60762  2012-05-03 11:34:14 +0200  \n",
        "60763  2012-05-02 17:38:40 +0200  \n",
        "60764  2012-05-02 17:38:40 +0200  \n",
        "60765  2012-05-02 17:38:40 +0200  \n",
        "60766  2012-05-02 17:38:40 +0200  \n",
        "60767  2012-05-02 17:38:40 +0200  \n",
        "60768  2012-05-01 22:08:45 +0200  \n",
        "60769  2012-05-01 22:08:45 +0200  \n",
        "60770  2012-05-01 22:08:45 +0200  \n",
        "60771  2012-05-01 22:08:45 +0200  \n",
        "\n",
        "[60772 rows x 3 columns]"
       ]
      }
     ],
     "prompt_number": 10
    },
    {
     "cell_type": "code",
     "collapsed": false,
     "input": [
      "#change product names to upper, remove duplicates, group the orders with same product, date\n",
      "df['Date'] = df.Date.apply(convertDate) \n",
      "df['Product'] = df.Product.apply(lambda x: x.upper()) \n",
      "df = df.drop_duplicates().reset_index().drop('index',1) \n",
      "df = df.groupby(['Date', 'Product'], axis = 0, as_index=False)['Name'].sum() \n",
      "df"
     ],
     "language": "python",
     "metadata": {},
     "outputs": [
      {
       "html": [
        "<div style=\"max-height:1000px;max-width:1500px;overflow:auto;\">\n",
        "<table border=\"1\" class=\"dataframe\">\n",
        "  <thead>\n",
        "    <tr style=\"text-align: right;\">\n",
        "      <th></th>\n",
        "      <th>Date</th>\n",
        "      <th>Product</th>\n",
        "      <th>Name</th>\n",
        "    </tr>\n",
        "  </thead>\n",
        "  <tbody>\n",
        "    <tr>\n",
        "      <th>0    </th>\n",
        "      <td> 2012-05-01</td>\n",
        "      <td>                                     BED TIME TEA</td>\n",
        "      <td>                                             #1017</td>\n",
        "    </tr>\n",
        "    <tr>\n",
        "      <th>1    </th>\n",
        "      <td> 2012-05-01</td>\n",
        "      <td>                                   BLACK SEED OIL</td>\n",
        "      <td>                                        #1016#1007</td>\n",
        "    </tr>\n",
        "    <tr>\n",
        "      <th>2    </th>\n",
        "      <td> 2012-05-01</td>\n",
        "      <td>                                     BREATHE WELL</td>\n",
        "      <td>                                             #1017</td>\n",
        "    </tr>\n",
        "    <tr>\n",
        "      <th>3    </th>\n",
        "      <td> 2012-05-01</td>\n",
        "      <td>                                       BROWN RICE</td>\n",
        "      <td>                              #1017#1012#1010#1005</td>\n",
        "    </tr>\n",
        "    <tr>\n",
        "      <th>4    </th>\n",
        "      <td> 2012-05-01</td>\n",
        "      <td>                                      COCONUT OIL</td>\n",
        "      <td>                                             #1013</td>\n",
        "    </tr>\n",
        "    <tr>\n",
        "      <th>5    </th>\n",
        "      <td> 2012-05-01</td>\n",
        "      <td>                           DRIED PRUNES WITH PITS</td>\n",
        "      <td>                                             #1013</td>\n",
        "    </tr>\n",
        "    <tr>\n",
        "      <th>6    </th>\n",
        "      <td> 2012-05-01</td>\n",
        "      <td>                    FACE &amp; NECK ANTIWRINKLE CREAM</td>\n",
        "      <td>                                             #1014</td>\n",
        "    </tr>\n",
        "    <tr>\n",
        "      <th>7    </th>\n",
        "      <td> 2012-05-01</td>\n",
        "      <td>                                 GOLDEN FLAXSEEDS</td>\n",
        "      <td>                                             #1011</td>\n",
        "    </tr>\n",
        "    <tr>\n",
        "      <th>8    </th>\n",
        "      <td> 2012-05-01</td>\n",
        "      <td>           GREEN TEA WITH ECHINACEA &amp; BLACK SEEDS</td>\n",
        "      <td>                                             #1010</td>\n",
        "    </tr>\n",
        "    <tr>\n",
        "      <th>9    </th>\n",
        "      <td> 2012-05-01</td>\n",
        "      <td>                    ICED TEA WITH CRANBERRY JUICE</td>\n",
        "      <td>                                             #1017</td>\n",
        "    </tr>\n",
        "    <tr>\n",
        "      <th>10   </th>\n",
        "      <td> 2012-05-01</td>\n",
        "      <td>                       ICED TEA WITH LEMON FLAVOR</td>\n",
        "      <td>                                             #1017</td>\n",
        "    </tr>\n",
        "    <tr>\n",
        "      <th>11   </th>\n",
        "      <td> 2012-05-01</td>\n",
        "      <td>                       ICED TEA WITH PEACH FLAVOR</td>\n",
        "      <td>                                             #1017</td>\n",
        "    </tr>\n",
        "    <tr>\n",
        "      <th>12   </th>\n",
        "      <td> 2012-05-01</td>\n",
        "      <td>                               LIVER WELLNESS TEA</td>\n",
        "      <td>                                             #1005</td>\n",
        "    </tr>\n",
        "    <tr>\n",
        "      <th>13   </th>\n",
        "      <td> 2012-05-01</td>\n",
        "      <td>                                 MOTHER TO BE TEA</td>\n",
        "      <td>                                             #1017</td>\n",
        "    </tr>\n",
        "    <tr>\n",
        "      <th>14   </th>\n",
        "      <td> 2012-05-01</td>\n",
        "      <td>                                      NEW MOM TEA</td>\n",
        "      <td>                                             #1017</td>\n",
        "    </tr>\n",
        "    <tr>\n",
        "      <th>15   </th>\n",
        "      <td> 2012-05-01</td>\n",
        "      <td>                                    OLD GHAR SOAP</td>\n",
        "      <td>                                        #1016#1013</td>\n",
        "    </tr>\n",
        "    <tr>\n",
        "      <th>16   </th>\n",
        "      <td> 2012-05-01</td>\n",
        "      <td>                               ORGANIC FLAX SEEDS</td>\n",
        "      <td>                                             #1010</td>\n",
        "    </tr>\n",
        "    <tr>\n",
        "      <th>17   </th>\n",
        "      <td> 2012-05-01</td>\n",
        "      <td>                    ORGANIC SUN-DRIED MANGO CHIPS</td>\n",
        "      <td>                                             #1008</td>\n",
        "    </tr>\n",
        "    <tr>\n",
        "      <th>18   </th>\n",
        "      <td> 2012-05-01</td>\n",
        "      <td>                         POWER PROTEIN BAR PEANUT</td>\n",
        "      <td>                                        #1009#1006</td>\n",
        "    </tr>\n",
        "    <tr>\n",
        "      <th>19   </th>\n",
        "      <td> 2012-05-01</td>\n",
        "      <td>                                    PUMPKIN SEEDS</td>\n",
        "      <td>                                   #1016#1010#1005</td>\n",
        "    </tr>\n",
        "    <tr>\n",
        "      <th>20   </th>\n",
        "      <td> 2012-05-01</td>\n",
        "      <td> RAVIOLI FIRE ROASTED TOMATO, MOZARELLA AND BASIL</td>\n",
        "      <td>                                             #1010</td>\n",
        "    </tr>\n",
        "    <tr>\n",
        "      <th>21   </th>\n",
        "      <td> 2012-05-01</td>\n",
        "      <td>                        RAW ALMONDS WITHOUT SHELL</td>\n",
        "      <td>                                   #1012#1008#1007</td>\n",
        "    </tr>\n",
        "    <tr>\n",
        "      <th>22   </th>\n",
        "      <td> 2012-05-01</td>\n",
        "      <td>                                   RAW BEE POLLEN</td>\n",
        "      <td>                                             #1007</td>\n",
        "    </tr>\n",
        "    <tr>\n",
        "      <th>23   </th>\n",
        "      <td> 2012-05-01</td>\n",
        "      <td>                                       RAW CASHEW</td>\n",
        "      <td>                                        #1008#1006</td>\n",
        "    </tr>\n",
        "    <tr>\n",
        "      <th>24   </th>\n",
        "      <td> 2012-05-01</td>\n",
        "      <td>                                        RAW PECAN</td>\n",
        "      <td>                                        #1008#1006</td>\n",
        "    </tr>\n",
        "    <tr>\n",
        "      <th>25   </th>\n",
        "      <td> 2012-05-01</td>\n",
        "      <td>                             RAW PISTACHIO KERNEL</td>\n",
        "      <td>                                             #1006</td>\n",
        "    </tr>\n",
        "    <tr>\n",
        "      <th>26   </th>\n",
        "      <td> 2012-05-01</td>\n",
        "      <td>                             RAW SLIVERED ALMONDS</td>\n",
        "      <td>                                             #1016</td>\n",
        "    </tr>\n",
        "    <tr>\n",
        "      <th>27   </th>\n",
        "      <td> 2012-05-01</td>\n",
        "      <td>                         RAW WALNUT WITHOUT SHELL</td>\n",
        "      <td>                              #1008#1007#1006#1005</td>\n",
        "    </tr>\n",
        "    <tr>\n",
        "      <th>28   </th>\n",
        "      <td> 2012-05-01</td>\n",
        "      <td>                            SOY MILK CALCIUM PLUS</td>\n",
        "      <td>                                             #1015</td>\n",
        "    </tr>\n",
        "    <tr>\n",
        "      <th>29   </th>\n",
        "      <td> 2012-05-01</td>\n",
        "      <td>                 STIR FRY VEGETABLES - DRAGON MIX</td>\n",
        "      <td>                                             #1010</td>\n",
        "    </tr>\n",
        "    <tr>\n",
        "      <th>...</th>\n",
        "      <td>...</td>\n",
        "      <td>...</td>\n",
        "      <td>...</td>\n",
        "    </tr>\n",
        "    <tr>\n",
        "      <th>10057</th>\n",
        "      <td> 2015-12-01</td>\n",
        "      <td>                 WHEAT FLOUR (SPROUTED) - NATURAL</td>\n",
        "      <td>                                            #10184</td>\n",
        "    </tr>\n",
        "    <tr>\n",
        "      <th>10058</th>\n",
        "      <td> 2015-12-01</td>\n",
        "      <td>                              WHEY PROTEIN (PURE)</td>\n",
        "      <td>                                            #10104</td>\n",
        "    </tr>\n",
        "    <tr>\n",
        "      <th>10059</th>\n",
        "      <td> 2015-12-01</td>\n",
        "      <td>                 WHITE BEANS (ORGANIC) - EGYPTIAN</td>\n",
        "      <td>                                      #10321#10167</td>\n",
        "    </tr>\n",
        "    <tr>\n",
        "      <th>10060</th>\n",
        "      <td> 2015-12-01</td>\n",
        "      <td>                                      WHITE ONION</td>\n",
        "      <td>                                            #10291</td>\n",
        "    </tr>\n",
        "    <tr>\n",
        "      <th>10061</th>\n",
        "      <td> 2015-12-01</td>\n",
        "      <td>                             WHITE SAUCE (FROZEN)</td>\n",
        "      <td>                                            #10151</td>\n",
        "    </tr>\n",
        "    <tr>\n",
        "      <th>10062</th>\n",
        "      <td> 2015-12-01</td>\n",
        "      <td>                             WHITE TEA WITH PEACH</td>\n",
        "      <td>                                            #10151</td>\n",
        "    </tr>\n",
        "    <tr>\n",
        "      <th>10063</th>\n",
        "      <td> 2015-12-01</td>\n",
        "      <td>                           WHOLE CHICKEN (FROZEN)</td>\n",
        "      <td>                          #10066#10055#10054#10048</td>\n",
        "    </tr>\n",
        "    <tr>\n",
        "      <th>10064</th>\n",
        "      <td> 2015-12-01</td>\n",
        "      <td>            WHOLE CHICKEN - HORMONE FREE (FROZEN)</td>\n",
        "      <td> #10366#10361#10343#10317#10316#10293#10290#102...</td>\n",
        "    </tr>\n",
        "    <tr>\n",
        "      <th>10065</th>\n",
        "      <td> 2015-12-01</td>\n",
        "      <td>                                 WHOLE MEAL FLOUR</td>\n",
        "      <td> #10296#10282#10256#10253#10252#10249#10235#102...</td>\n",
        "    </tr>\n",
        "    <tr>\n",
        "      <th>10066</th>\n",
        "      <td> 2015-12-01</td>\n",
        "      <td>                       WHOLE WHEAT SPINACH PASTRY</td>\n",
        "      <td>                          #10195#10138#10136#10104</td>\n",
        "    </tr>\n",
        "    <tr>\n",
        "      <th>10067</th>\n",
        "      <td> 2015-12-01</td>\n",
        "      <td>                              WHOLE WHEAT WAFFLES</td>\n",
        "      <td>                                #10142#10136#10115</td>\n",
        "    </tr>\n",
        "    <tr>\n",
        "      <th>10068</th>\n",
        "      <td> 2015-12-01</td>\n",
        "      <td>              WILD &amp; BROWN RICE MIX (GLUTEN FREE)</td>\n",
        "      <td>                                            #10218</td>\n",
        "    </tr>\n",
        "    <tr>\n",
        "      <th>10069</th>\n",
        "      <td> 2015-12-01</td>\n",
        "      <td>                      WILD GROUPER FILLET (WA2AR)</td>\n",
        "      <td>                                #10257#10212#10198</td>\n",
        "    </tr>\n",
        "    <tr>\n",
        "      <th>10070</th>\n",
        "      <td> 2015-12-01</td>\n",
        "      <td>                       WILD HABAQ (CHEMICAL FREE)</td>\n",
        "      <td>                                            #10188</td>\n",
        "    </tr>\n",
        "    <tr>\n",
        "      <th>10071</th>\n",
        "      <td> 2015-12-01</td>\n",
        "      <td>                                     WILD LOBSTER</td>\n",
        "      <td>                                            #10198</td>\n",
        "    </tr>\n",
        "    <tr>\n",
        "      <th>10072</th>\n",
        "      <td> 2015-12-01</td>\n",
        "      <td>                                      WILD MORGAN</td>\n",
        "      <td>                                            #10360</td>\n",
        "    </tr>\n",
        "    <tr>\n",
        "      <th>10073</th>\n",
        "      <td> 2015-12-01</td>\n",
        "      <td>                        WILD RED MULLET (BARBOUN)</td>\n",
        "      <td>                                            #10262</td>\n",
        "    </tr>\n",
        "    <tr>\n",
        "      <th>10074</th>\n",
        "      <td> 2015-12-01</td>\n",
        "      <td>                       WILD RICE ( ORGANIC ) 227G</td>\n",
        "      <td>                                            #10321</td>\n",
        "    </tr>\n",
        "    <tr>\n",
        "      <th>10075</th>\n",
        "      <td> 2015-12-01</td>\n",
        "      <td>          WILD RICE CAKES (ORGANIC) - GLUTEN FREE</td>\n",
        "      <td>                                      #10298#10191</td>\n",
        "    </tr>\n",
        "    <tr>\n",
        "      <th>10076</th>\n",
        "      <td> 2015-12-01</td>\n",
        "      <td>                        WILD ROYAL DORAD (DENEES)</td>\n",
        "      <td>                          #10360#10263#10112#10055</td>\n",
        "    </tr>\n",
        "    <tr>\n",
        "      <th>10077</th>\n",
        "      <td> 2015-12-01</td>\n",
        "      <td>                                    WILD SARDINES</td>\n",
        "      <td>                          #10351#10250#10212#10055</td>\n",
        "    </tr>\n",
        "    <tr>\n",
        "      <th>10078</th>\n",
        "      <td> 2015-12-01</td>\n",
        "      <td>                             WILD SHRIMP (MEDIUM)</td>\n",
        "      <td>                    #10303#10263#10260#10232#10198</td>\n",
        "    </tr>\n",
        "    <tr>\n",
        "      <th>10079</th>\n",
        "      <td> 2015-12-01</td>\n",
        "      <td>                              WILD SHRIMP (SMALL)</td>\n",
        "      <td>                    #10362#10329#10261#10143#10094</td>\n",
        "    </tr>\n",
        "    <tr>\n",
        "      <th>10080</th>\n",
        "      <td> 2015-12-01</td>\n",
        "      <td>                        WILD YELLOW FINTUNA STEAK</td>\n",
        "      <td>                                            #10265</td>\n",
        "    </tr>\n",
        "    <tr>\n",
        "      <th>10081</th>\n",
        "      <td> 2015-12-01</td>\n",
        "      <td>                                    YELLOW APPLES</td>\n",
        "      <td>                                      #10316#10203</td>\n",
        "    </tr>\n",
        "    <tr>\n",
        "      <th>10082</th>\n",
        "      <td> 2015-12-01</td>\n",
        "      <td>                                   YELLOW CARROTS</td>\n",
        "      <td>                                #10085#10082#10065</td>\n",
        "    </tr>\n",
        "    <tr>\n",
        "      <th>10083</th>\n",
        "      <td> 2015-12-01</td>\n",
        "      <td>                                YELLOW GRAPEFRUIT</td>\n",
        "      <td>                                            #10204</td>\n",
        "    </tr>\n",
        "    <tr>\n",
        "      <th>10084</th>\n",
        "      <td> 2015-12-01</td>\n",
        "      <td>                                   YELLOW MUSTARD</td>\n",
        "      <td>                                      #10218#10142</td>\n",
        "    </tr>\n",
        "    <tr>\n",
        "      <th>10085</th>\n",
        "      <td> 2015-12-01</td>\n",
        "      <td>                         ZUCCHINI (CHEMICAL FREE)</td>\n",
        "      <td> #10355#10351#10320#10316#10295#10292#10291#101...</td>\n",
        "    </tr>\n",
        "    <tr>\n",
        "      <th>10086</th>\n",
        "      <td> 2015-12-01</td>\n",
        "      <td>                               ZUCCHINI (ORGANIC)</td>\n",
        "      <td>                          #10321#10306#10218#10213</td>\n",
        "    </tr>\n",
        "  </tbody>\n",
        "</table>\n",
        "<p>10087 rows \u00d7 3 columns</p>\n",
        "</div>"
       ],
       "metadata": {},
       "output_type": "pyout",
       "prompt_number": 11,
       "text": [
        "             Date                                           Product  \\\n",
        "0      2012-05-01                                      BED TIME TEA   \n",
        "1      2012-05-01                                    BLACK SEED OIL   \n",
        "2      2012-05-01                                      BREATHE WELL   \n",
        "3      2012-05-01                                        BROWN RICE   \n",
        "4      2012-05-01                                       COCONUT OIL   \n",
        "5      2012-05-01                            DRIED PRUNES WITH PITS   \n",
        "6      2012-05-01                     FACE & NECK ANTIWRINKLE CREAM   \n",
        "7      2012-05-01                                  GOLDEN FLAXSEEDS   \n",
        "8      2012-05-01            GREEN TEA WITH ECHINACEA & BLACK SEEDS   \n",
        "9      2012-05-01                     ICED TEA WITH CRANBERRY JUICE   \n",
        "10     2012-05-01                        ICED TEA WITH LEMON FLAVOR   \n",
        "11     2012-05-01                        ICED TEA WITH PEACH FLAVOR   \n",
        "12     2012-05-01                                LIVER WELLNESS TEA   \n",
        "13     2012-05-01                                  MOTHER TO BE TEA   \n",
        "14     2012-05-01                                       NEW MOM TEA   \n",
        "15     2012-05-01                                     OLD GHAR SOAP   \n",
        "16     2012-05-01                                ORGANIC FLAX SEEDS   \n",
        "17     2012-05-01                     ORGANIC SUN-DRIED MANGO CHIPS   \n",
        "18     2012-05-01                          POWER PROTEIN BAR PEANUT   \n",
        "19     2012-05-01                                     PUMPKIN SEEDS   \n",
        "20     2012-05-01  RAVIOLI FIRE ROASTED TOMATO, MOZARELLA AND BASIL   \n",
        "21     2012-05-01                         RAW ALMONDS WITHOUT SHELL   \n",
        "22     2012-05-01                                    RAW BEE POLLEN   \n",
        "23     2012-05-01                                        RAW CASHEW   \n",
        "24     2012-05-01                                         RAW PECAN   \n",
        "25     2012-05-01                              RAW PISTACHIO KERNEL   \n",
        "26     2012-05-01                              RAW SLIVERED ALMONDS   \n",
        "27     2012-05-01                          RAW WALNUT WITHOUT SHELL   \n",
        "28     2012-05-01                             SOY MILK CALCIUM PLUS   \n",
        "29     2012-05-01                  STIR FRY VEGETABLES - DRAGON MIX   \n",
        "...           ...                                               ...   \n",
        "10057  2015-12-01                  WHEAT FLOUR (SPROUTED) - NATURAL   \n",
        "10058  2015-12-01                               WHEY PROTEIN (PURE)   \n",
        "10059  2015-12-01                  WHITE BEANS (ORGANIC) - EGYPTIAN   \n",
        "10060  2015-12-01                                       WHITE ONION   \n",
        "10061  2015-12-01                              WHITE SAUCE (FROZEN)   \n",
        "10062  2015-12-01                              WHITE TEA WITH PEACH   \n",
        "10063  2015-12-01                            WHOLE CHICKEN (FROZEN)   \n",
        "10064  2015-12-01             WHOLE CHICKEN - HORMONE FREE (FROZEN)   \n",
        "10065  2015-12-01                                  WHOLE MEAL FLOUR   \n",
        "10066  2015-12-01                        WHOLE WHEAT SPINACH PASTRY   \n",
        "10067  2015-12-01                               WHOLE WHEAT WAFFLES   \n",
        "10068  2015-12-01               WILD & BROWN RICE MIX (GLUTEN FREE)   \n",
        "10069  2015-12-01                       WILD GROUPER FILLET (WA2AR)   \n",
        "10070  2015-12-01                        WILD HABAQ (CHEMICAL FREE)   \n",
        "10071  2015-12-01                                      WILD LOBSTER   \n",
        "10072  2015-12-01                                       WILD MORGAN   \n",
        "10073  2015-12-01                         WILD RED MULLET (BARBOUN)   \n",
        "10074  2015-12-01                        WILD RICE ( ORGANIC ) 227G   \n",
        "10075  2015-12-01           WILD RICE CAKES (ORGANIC) - GLUTEN FREE   \n",
        "10076  2015-12-01                         WILD ROYAL DORAD (DENEES)   \n",
        "10077  2015-12-01                                     WILD SARDINES   \n",
        "10078  2015-12-01                              WILD SHRIMP (MEDIUM)   \n",
        "10079  2015-12-01                               WILD SHRIMP (SMALL)   \n",
        "10080  2015-12-01                         WILD YELLOW FINTUNA STEAK   \n",
        "10081  2015-12-01                                     YELLOW APPLES   \n",
        "10082  2015-12-01                                    YELLOW CARROTS   \n",
        "10083  2015-12-01                                 YELLOW GRAPEFRUIT   \n",
        "10084  2015-12-01                                    YELLOW MUSTARD   \n",
        "10085  2015-12-01                          ZUCCHINI (CHEMICAL FREE)   \n",
        "10086  2015-12-01                                ZUCCHINI (ORGANIC)   \n",
        "\n",
        "                                                    Name  \n",
        "0                                                  #1017  \n",
        "1                                             #1016#1007  \n",
        "2                                                  #1017  \n",
        "3                                   #1017#1012#1010#1005  \n",
        "4                                                  #1013  \n",
        "5                                                  #1013  \n",
        "6                                                  #1014  \n",
        "7                                                  #1011  \n",
        "8                                                  #1010  \n",
        "9                                                  #1017  \n",
        "10                                                 #1017  \n",
        "11                                                 #1017  \n",
        "12                                                 #1005  \n",
        "13                                                 #1017  \n",
        "14                                                 #1017  \n",
        "15                                            #1016#1013  \n",
        "16                                                 #1010  \n",
        "17                                                 #1008  \n",
        "18                                            #1009#1006  \n",
        "19                                       #1016#1010#1005  \n",
        "20                                                 #1010  \n",
        "21                                       #1012#1008#1007  \n",
        "22                                                 #1007  \n",
        "23                                            #1008#1006  \n",
        "24                                            #1008#1006  \n",
        "25                                                 #1006  \n",
        "26                                                 #1016  \n",
        "27                                  #1008#1007#1006#1005  \n",
        "28                                                 #1015  \n",
        "29                                                 #1010  \n",
        "...                                                  ...  \n",
        "10057                                             #10184  \n",
        "10058                                             #10104  \n",
        "10059                                       #10321#10167  \n",
        "10060                                             #10291  \n",
        "10061                                             #10151  \n",
        "10062                                             #10151  \n",
        "10063                           #10066#10055#10054#10048  \n",
        "10064  #10366#10361#10343#10317#10316#10293#10290#102...  \n",
        "10065  #10296#10282#10256#10253#10252#10249#10235#102...  \n",
        "10066                           #10195#10138#10136#10104  \n",
        "10067                                 #10142#10136#10115  \n",
        "10068                                             #10218  \n",
        "10069                                 #10257#10212#10198  \n",
        "10070                                             #10188  \n",
        "10071                                             #10198  \n",
        "10072                                             #10360  \n",
        "10073                                             #10262  \n",
        "10074                                             #10321  \n",
        "10075                                       #10298#10191  \n",
        "10076                           #10360#10263#10112#10055  \n",
        "10077                           #10351#10250#10212#10055  \n",
        "10078                     #10303#10263#10260#10232#10198  \n",
        "10079                     #10362#10329#10261#10143#10094  \n",
        "10080                                             #10265  \n",
        "10081                                       #10316#10203  \n",
        "10082                                 #10085#10082#10065  \n",
        "10083                                             #10204  \n",
        "10084                                       #10218#10142  \n",
        "10085  #10355#10351#10320#10316#10295#10292#10291#101...  \n",
        "10086                           #10321#10306#10218#10213  \n",
        "\n",
        "[10087 rows x 3 columns]"
       ]
      }
     ],
     "prompt_number": 11
    },
    {
     "cell_type": "code",
     "collapsed": false,
     "input": [
      "df['Name'] = df.Name.apply(lambda x: x.split(\"#\")) #split the order no's by #\n",
      "df['Name'] = df.Name.apply(lambda x: x[1:]) #remove the extra comma\n",
      "df"
     ],
     "language": "python",
     "metadata": {},
     "outputs": [
      {
       "html": [
        "<div style=\"max-height:1000px;max-width:1500px;overflow:auto;\">\n",
        "<table border=\"1\" class=\"dataframe\">\n",
        "  <thead>\n",
        "    <tr style=\"text-align: right;\">\n",
        "      <th></th>\n",
        "      <th>Date</th>\n",
        "      <th>Product</th>\n",
        "      <th>Name</th>\n",
        "    </tr>\n",
        "  </thead>\n",
        "  <tbody>\n",
        "    <tr>\n",
        "      <th>0    </th>\n",
        "      <td> 2012-05-01</td>\n",
        "      <td>                                     BED TIME TEA</td>\n",
        "      <td>                                            [1017]</td>\n",
        "    </tr>\n",
        "    <tr>\n",
        "      <th>1    </th>\n",
        "      <td> 2012-05-01</td>\n",
        "      <td>                                   BLACK SEED OIL</td>\n",
        "      <td>                                      [1016, 1007]</td>\n",
        "    </tr>\n",
        "    <tr>\n",
        "      <th>2    </th>\n",
        "      <td> 2012-05-01</td>\n",
        "      <td>                                     BREATHE WELL</td>\n",
        "      <td>                                            [1017]</td>\n",
        "    </tr>\n",
        "    <tr>\n",
        "      <th>3    </th>\n",
        "      <td> 2012-05-01</td>\n",
        "      <td>                                       BROWN RICE</td>\n",
        "      <td>                          [1017, 1012, 1010, 1005]</td>\n",
        "    </tr>\n",
        "    <tr>\n",
        "      <th>4    </th>\n",
        "      <td> 2012-05-01</td>\n",
        "      <td>                                      COCONUT OIL</td>\n",
        "      <td>                                            [1013]</td>\n",
        "    </tr>\n",
        "    <tr>\n",
        "      <th>5    </th>\n",
        "      <td> 2012-05-01</td>\n",
        "      <td>                           DRIED PRUNES WITH PITS</td>\n",
        "      <td>                                            [1013]</td>\n",
        "    </tr>\n",
        "    <tr>\n",
        "      <th>6    </th>\n",
        "      <td> 2012-05-01</td>\n",
        "      <td>                    FACE &amp; NECK ANTIWRINKLE CREAM</td>\n",
        "      <td>                                            [1014]</td>\n",
        "    </tr>\n",
        "    <tr>\n",
        "      <th>7    </th>\n",
        "      <td> 2012-05-01</td>\n",
        "      <td>                                 GOLDEN FLAXSEEDS</td>\n",
        "      <td>                                            [1011]</td>\n",
        "    </tr>\n",
        "    <tr>\n",
        "      <th>8    </th>\n",
        "      <td> 2012-05-01</td>\n",
        "      <td>           GREEN TEA WITH ECHINACEA &amp; BLACK SEEDS</td>\n",
        "      <td>                                            [1010]</td>\n",
        "    </tr>\n",
        "    <tr>\n",
        "      <th>9    </th>\n",
        "      <td> 2012-05-01</td>\n",
        "      <td>                    ICED TEA WITH CRANBERRY JUICE</td>\n",
        "      <td>                                            [1017]</td>\n",
        "    </tr>\n",
        "    <tr>\n",
        "      <th>10   </th>\n",
        "      <td> 2012-05-01</td>\n",
        "      <td>                       ICED TEA WITH LEMON FLAVOR</td>\n",
        "      <td>                                            [1017]</td>\n",
        "    </tr>\n",
        "    <tr>\n",
        "      <th>11   </th>\n",
        "      <td> 2012-05-01</td>\n",
        "      <td>                       ICED TEA WITH PEACH FLAVOR</td>\n",
        "      <td>                                            [1017]</td>\n",
        "    </tr>\n",
        "    <tr>\n",
        "      <th>12   </th>\n",
        "      <td> 2012-05-01</td>\n",
        "      <td>                               LIVER WELLNESS TEA</td>\n",
        "      <td>                                            [1005]</td>\n",
        "    </tr>\n",
        "    <tr>\n",
        "      <th>13   </th>\n",
        "      <td> 2012-05-01</td>\n",
        "      <td>                                 MOTHER TO BE TEA</td>\n",
        "      <td>                                            [1017]</td>\n",
        "    </tr>\n",
        "    <tr>\n",
        "      <th>14   </th>\n",
        "      <td> 2012-05-01</td>\n",
        "      <td>                                      NEW MOM TEA</td>\n",
        "      <td>                                            [1017]</td>\n",
        "    </tr>\n",
        "    <tr>\n",
        "      <th>15   </th>\n",
        "      <td> 2012-05-01</td>\n",
        "      <td>                                    OLD GHAR SOAP</td>\n",
        "      <td>                                      [1016, 1013]</td>\n",
        "    </tr>\n",
        "    <tr>\n",
        "      <th>16   </th>\n",
        "      <td> 2012-05-01</td>\n",
        "      <td>                               ORGANIC FLAX SEEDS</td>\n",
        "      <td>                                            [1010]</td>\n",
        "    </tr>\n",
        "    <tr>\n",
        "      <th>17   </th>\n",
        "      <td> 2012-05-01</td>\n",
        "      <td>                    ORGANIC SUN-DRIED MANGO CHIPS</td>\n",
        "      <td>                                            [1008]</td>\n",
        "    </tr>\n",
        "    <tr>\n",
        "      <th>18   </th>\n",
        "      <td> 2012-05-01</td>\n",
        "      <td>                         POWER PROTEIN BAR PEANUT</td>\n",
        "      <td>                                      [1009, 1006]</td>\n",
        "    </tr>\n",
        "    <tr>\n",
        "      <th>19   </th>\n",
        "      <td> 2012-05-01</td>\n",
        "      <td>                                    PUMPKIN SEEDS</td>\n",
        "      <td>                                [1016, 1010, 1005]</td>\n",
        "    </tr>\n",
        "    <tr>\n",
        "      <th>20   </th>\n",
        "      <td> 2012-05-01</td>\n",
        "      <td> RAVIOLI FIRE ROASTED TOMATO, MOZARELLA AND BASIL</td>\n",
        "      <td>                                            [1010]</td>\n",
        "    </tr>\n",
        "    <tr>\n",
        "      <th>21   </th>\n",
        "      <td> 2012-05-01</td>\n",
        "      <td>                        RAW ALMONDS WITHOUT SHELL</td>\n",
        "      <td>                                [1012, 1008, 1007]</td>\n",
        "    </tr>\n",
        "    <tr>\n",
        "      <th>22   </th>\n",
        "      <td> 2012-05-01</td>\n",
        "      <td>                                   RAW BEE POLLEN</td>\n",
        "      <td>                                            [1007]</td>\n",
        "    </tr>\n",
        "    <tr>\n",
        "      <th>23   </th>\n",
        "      <td> 2012-05-01</td>\n",
        "      <td>                                       RAW CASHEW</td>\n",
        "      <td>                                      [1008, 1006]</td>\n",
        "    </tr>\n",
        "    <tr>\n",
        "      <th>24   </th>\n",
        "      <td> 2012-05-01</td>\n",
        "      <td>                                        RAW PECAN</td>\n",
        "      <td>                                      [1008, 1006]</td>\n",
        "    </tr>\n",
        "    <tr>\n",
        "      <th>25   </th>\n",
        "      <td> 2012-05-01</td>\n",
        "      <td>                             RAW PISTACHIO KERNEL</td>\n",
        "      <td>                                            [1006]</td>\n",
        "    </tr>\n",
        "    <tr>\n",
        "      <th>26   </th>\n",
        "      <td> 2012-05-01</td>\n",
        "      <td>                             RAW SLIVERED ALMONDS</td>\n",
        "      <td>                                            [1016]</td>\n",
        "    </tr>\n",
        "    <tr>\n",
        "      <th>27   </th>\n",
        "      <td> 2012-05-01</td>\n",
        "      <td>                         RAW WALNUT WITHOUT SHELL</td>\n",
        "      <td>                          [1008, 1007, 1006, 1005]</td>\n",
        "    </tr>\n",
        "    <tr>\n",
        "      <th>28   </th>\n",
        "      <td> 2012-05-01</td>\n",
        "      <td>                            SOY MILK CALCIUM PLUS</td>\n",
        "      <td>                                            [1015]</td>\n",
        "    </tr>\n",
        "    <tr>\n",
        "      <th>29   </th>\n",
        "      <td> 2012-05-01</td>\n",
        "      <td>                 STIR FRY VEGETABLES - DRAGON MIX</td>\n",
        "      <td>                                            [1010]</td>\n",
        "    </tr>\n",
        "    <tr>\n",
        "      <th>...</th>\n",
        "      <td>...</td>\n",
        "      <td>...</td>\n",
        "      <td>...</td>\n",
        "    </tr>\n",
        "    <tr>\n",
        "      <th>10057</th>\n",
        "      <td> 2015-12-01</td>\n",
        "      <td>                 WHEAT FLOUR (SPROUTED) - NATURAL</td>\n",
        "      <td>                                           [10184]</td>\n",
        "    </tr>\n",
        "    <tr>\n",
        "      <th>10058</th>\n",
        "      <td> 2015-12-01</td>\n",
        "      <td>                              WHEY PROTEIN (PURE)</td>\n",
        "      <td>                                           [10104]</td>\n",
        "    </tr>\n",
        "    <tr>\n",
        "      <th>10059</th>\n",
        "      <td> 2015-12-01</td>\n",
        "      <td>                 WHITE BEANS (ORGANIC) - EGYPTIAN</td>\n",
        "      <td>                                    [10321, 10167]</td>\n",
        "    </tr>\n",
        "    <tr>\n",
        "      <th>10060</th>\n",
        "      <td> 2015-12-01</td>\n",
        "      <td>                                      WHITE ONION</td>\n",
        "      <td>                                           [10291]</td>\n",
        "    </tr>\n",
        "    <tr>\n",
        "      <th>10061</th>\n",
        "      <td> 2015-12-01</td>\n",
        "      <td>                             WHITE SAUCE (FROZEN)</td>\n",
        "      <td>                                           [10151]</td>\n",
        "    </tr>\n",
        "    <tr>\n",
        "      <th>10062</th>\n",
        "      <td> 2015-12-01</td>\n",
        "      <td>                             WHITE TEA WITH PEACH</td>\n",
        "      <td>                                           [10151]</td>\n",
        "    </tr>\n",
        "    <tr>\n",
        "      <th>10063</th>\n",
        "      <td> 2015-12-01</td>\n",
        "      <td>                           WHOLE CHICKEN (FROZEN)</td>\n",
        "      <td>                      [10066, 10055, 10054, 10048]</td>\n",
        "    </tr>\n",
        "    <tr>\n",
        "      <th>10064</th>\n",
        "      <td> 2015-12-01</td>\n",
        "      <td>            WHOLE CHICKEN - HORMONE FREE (FROZEN)</td>\n",
        "      <td> [10366, 10361, 10343, 10317, 10316, 10293, 102...</td>\n",
        "    </tr>\n",
        "    <tr>\n",
        "      <th>10065</th>\n",
        "      <td> 2015-12-01</td>\n",
        "      <td>                                 WHOLE MEAL FLOUR</td>\n",
        "      <td> [10296, 10282, 10256, 10253, 10252, 10249, 102...</td>\n",
        "    </tr>\n",
        "    <tr>\n",
        "      <th>10066</th>\n",
        "      <td> 2015-12-01</td>\n",
        "      <td>                       WHOLE WHEAT SPINACH PASTRY</td>\n",
        "      <td>                      [10195, 10138, 10136, 10104]</td>\n",
        "    </tr>\n",
        "    <tr>\n",
        "      <th>10067</th>\n",
        "      <td> 2015-12-01</td>\n",
        "      <td>                              WHOLE WHEAT WAFFLES</td>\n",
        "      <td>                             [10142, 10136, 10115]</td>\n",
        "    </tr>\n",
        "    <tr>\n",
        "      <th>10068</th>\n",
        "      <td> 2015-12-01</td>\n",
        "      <td>              WILD &amp; BROWN RICE MIX (GLUTEN FREE)</td>\n",
        "      <td>                                           [10218]</td>\n",
        "    </tr>\n",
        "    <tr>\n",
        "      <th>10069</th>\n",
        "      <td> 2015-12-01</td>\n",
        "      <td>                      WILD GROUPER FILLET (WA2AR)</td>\n",
        "      <td>                             [10257, 10212, 10198]</td>\n",
        "    </tr>\n",
        "    <tr>\n",
        "      <th>10070</th>\n",
        "      <td> 2015-12-01</td>\n",
        "      <td>                       WILD HABAQ (CHEMICAL FREE)</td>\n",
        "      <td>                                           [10188]</td>\n",
        "    </tr>\n",
        "    <tr>\n",
        "      <th>10071</th>\n",
        "      <td> 2015-12-01</td>\n",
        "      <td>                                     WILD LOBSTER</td>\n",
        "      <td>                                           [10198]</td>\n",
        "    </tr>\n",
        "    <tr>\n",
        "      <th>10072</th>\n",
        "      <td> 2015-12-01</td>\n",
        "      <td>                                      WILD MORGAN</td>\n",
        "      <td>                                           [10360]</td>\n",
        "    </tr>\n",
        "    <tr>\n",
        "      <th>10073</th>\n",
        "      <td> 2015-12-01</td>\n",
        "      <td>                        WILD RED MULLET (BARBOUN)</td>\n",
        "      <td>                                           [10262]</td>\n",
        "    </tr>\n",
        "    <tr>\n",
        "      <th>10074</th>\n",
        "      <td> 2015-12-01</td>\n",
        "      <td>                       WILD RICE ( ORGANIC ) 227G</td>\n",
        "      <td>                                           [10321]</td>\n",
        "    </tr>\n",
        "    <tr>\n",
        "      <th>10075</th>\n",
        "      <td> 2015-12-01</td>\n",
        "      <td>          WILD RICE CAKES (ORGANIC) - GLUTEN FREE</td>\n",
        "      <td>                                    [10298, 10191]</td>\n",
        "    </tr>\n",
        "    <tr>\n",
        "      <th>10076</th>\n",
        "      <td> 2015-12-01</td>\n",
        "      <td>                        WILD ROYAL DORAD (DENEES)</td>\n",
        "      <td>                      [10360, 10263, 10112, 10055]</td>\n",
        "    </tr>\n",
        "    <tr>\n",
        "      <th>10077</th>\n",
        "      <td> 2015-12-01</td>\n",
        "      <td>                                    WILD SARDINES</td>\n",
        "      <td>                      [10351, 10250, 10212, 10055]</td>\n",
        "    </tr>\n",
        "    <tr>\n",
        "      <th>10078</th>\n",
        "      <td> 2015-12-01</td>\n",
        "      <td>                             WILD SHRIMP (MEDIUM)</td>\n",
        "      <td>               [10303, 10263, 10260, 10232, 10198]</td>\n",
        "    </tr>\n",
        "    <tr>\n",
        "      <th>10079</th>\n",
        "      <td> 2015-12-01</td>\n",
        "      <td>                              WILD SHRIMP (SMALL)</td>\n",
        "      <td>               [10362, 10329, 10261, 10143, 10094]</td>\n",
        "    </tr>\n",
        "    <tr>\n",
        "      <th>10080</th>\n",
        "      <td> 2015-12-01</td>\n",
        "      <td>                        WILD YELLOW FINTUNA STEAK</td>\n",
        "      <td>                                           [10265]</td>\n",
        "    </tr>\n",
        "    <tr>\n",
        "      <th>10081</th>\n",
        "      <td> 2015-12-01</td>\n",
        "      <td>                                    YELLOW APPLES</td>\n",
        "      <td>                                    [10316, 10203]</td>\n",
        "    </tr>\n",
        "    <tr>\n",
        "      <th>10082</th>\n",
        "      <td> 2015-12-01</td>\n",
        "      <td>                                   YELLOW CARROTS</td>\n",
        "      <td>                             [10085, 10082, 10065]</td>\n",
        "    </tr>\n",
        "    <tr>\n",
        "      <th>10083</th>\n",
        "      <td> 2015-12-01</td>\n",
        "      <td>                                YELLOW GRAPEFRUIT</td>\n",
        "      <td>                                           [10204]</td>\n",
        "    </tr>\n",
        "    <tr>\n",
        "      <th>10084</th>\n",
        "      <td> 2015-12-01</td>\n",
        "      <td>                                   YELLOW MUSTARD</td>\n",
        "      <td>                                    [10218, 10142]</td>\n",
        "    </tr>\n",
        "    <tr>\n",
        "      <th>10085</th>\n",
        "      <td> 2015-12-01</td>\n",
        "      <td>                         ZUCCHINI (CHEMICAL FREE)</td>\n",
        "      <td> [10355, 10351, 10320, 10316, 10295, 10292, 102...</td>\n",
        "    </tr>\n",
        "    <tr>\n",
        "      <th>10086</th>\n",
        "      <td> 2015-12-01</td>\n",
        "      <td>                               ZUCCHINI (ORGANIC)</td>\n",
        "      <td>                      [10321, 10306, 10218, 10213]</td>\n",
        "    </tr>\n",
        "  </tbody>\n",
        "</table>\n",
        "<p>10087 rows \u00d7 3 columns</p>\n",
        "</div>"
       ],
       "metadata": {},
       "output_type": "pyout",
       "prompt_number": 12,
       "text": [
        "             Date                                           Product  \\\n",
        "0      2012-05-01                                      BED TIME TEA   \n",
        "1      2012-05-01                                    BLACK SEED OIL   \n",
        "2      2012-05-01                                      BREATHE WELL   \n",
        "3      2012-05-01                                        BROWN RICE   \n",
        "4      2012-05-01                                       COCONUT OIL   \n",
        "5      2012-05-01                            DRIED PRUNES WITH PITS   \n",
        "6      2012-05-01                     FACE & NECK ANTIWRINKLE CREAM   \n",
        "7      2012-05-01                                  GOLDEN FLAXSEEDS   \n",
        "8      2012-05-01            GREEN TEA WITH ECHINACEA & BLACK SEEDS   \n",
        "9      2012-05-01                     ICED TEA WITH CRANBERRY JUICE   \n",
        "10     2012-05-01                        ICED TEA WITH LEMON FLAVOR   \n",
        "11     2012-05-01                        ICED TEA WITH PEACH FLAVOR   \n",
        "12     2012-05-01                                LIVER WELLNESS TEA   \n",
        "13     2012-05-01                                  MOTHER TO BE TEA   \n",
        "14     2012-05-01                                       NEW MOM TEA   \n",
        "15     2012-05-01                                     OLD GHAR SOAP   \n",
        "16     2012-05-01                                ORGANIC FLAX SEEDS   \n",
        "17     2012-05-01                     ORGANIC SUN-DRIED MANGO CHIPS   \n",
        "18     2012-05-01                          POWER PROTEIN BAR PEANUT   \n",
        "19     2012-05-01                                     PUMPKIN SEEDS   \n",
        "20     2012-05-01  RAVIOLI FIRE ROASTED TOMATO, MOZARELLA AND BASIL   \n",
        "21     2012-05-01                         RAW ALMONDS WITHOUT SHELL   \n",
        "22     2012-05-01                                    RAW BEE POLLEN   \n",
        "23     2012-05-01                                        RAW CASHEW   \n",
        "24     2012-05-01                                         RAW PECAN   \n",
        "25     2012-05-01                              RAW PISTACHIO KERNEL   \n",
        "26     2012-05-01                              RAW SLIVERED ALMONDS   \n",
        "27     2012-05-01                          RAW WALNUT WITHOUT SHELL   \n",
        "28     2012-05-01                             SOY MILK CALCIUM PLUS   \n",
        "29     2012-05-01                  STIR FRY VEGETABLES - DRAGON MIX   \n",
        "...           ...                                               ...   \n",
        "10057  2015-12-01                  WHEAT FLOUR (SPROUTED) - NATURAL   \n",
        "10058  2015-12-01                               WHEY PROTEIN (PURE)   \n",
        "10059  2015-12-01                  WHITE BEANS (ORGANIC) - EGYPTIAN   \n",
        "10060  2015-12-01                                       WHITE ONION   \n",
        "10061  2015-12-01                              WHITE SAUCE (FROZEN)   \n",
        "10062  2015-12-01                              WHITE TEA WITH PEACH   \n",
        "10063  2015-12-01                            WHOLE CHICKEN (FROZEN)   \n",
        "10064  2015-12-01             WHOLE CHICKEN - HORMONE FREE (FROZEN)   \n",
        "10065  2015-12-01                                  WHOLE MEAL FLOUR   \n",
        "10066  2015-12-01                        WHOLE WHEAT SPINACH PASTRY   \n",
        "10067  2015-12-01                               WHOLE WHEAT WAFFLES   \n",
        "10068  2015-12-01               WILD & BROWN RICE MIX (GLUTEN FREE)   \n",
        "10069  2015-12-01                       WILD GROUPER FILLET (WA2AR)   \n",
        "10070  2015-12-01                        WILD HABAQ (CHEMICAL FREE)   \n",
        "10071  2015-12-01                                      WILD LOBSTER   \n",
        "10072  2015-12-01                                       WILD MORGAN   \n",
        "10073  2015-12-01                         WILD RED MULLET (BARBOUN)   \n",
        "10074  2015-12-01                        WILD RICE ( ORGANIC ) 227G   \n",
        "10075  2015-12-01           WILD RICE CAKES (ORGANIC) - GLUTEN FREE   \n",
        "10076  2015-12-01                         WILD ROYAL DORAD (DENEES)   \n",
        "10077  2015-12-01                                     WILD SARDINES   \n",
        "10078  2015-12-01                              WILD SHRIMP (MEDIUM)   \n",
        "10079  2015-12-01                               WILD SHRIMP (SMALL)   \n",
        "10080  2015-12-01                         WILD YELLOW FINTUNA STEAK   \n",
        "10081  2015-12-01                                     YELLOW APPLES   \n",
        "10082  2015-12-01                                    YELLOW CARROTS   \n",
        "10083  2015-12-01                                 YELLOW GRAPEFRUIT   \n",
        "10084  2015-12-01                                    YELLOW MUSTARD   \n",
        "10085  2015-12-01                          ZUCCHINI (CHEMICAL FREE)   \n",
        "10086  2015-12-01                                ZUCCHINI (ORGANIC)   \n",
        "\n",
        "                                                    Name  \n",
        "0                                                 [1017]  \n",
        "1                                           [1016, 1007]  \n",
        "2                                                 [1017]  \n",
        "3                               [1017, 1012, 1010, 1005]  \n",
        "4                                                 [1013]  \n",
        "5                                                 [1013]  \n",
        "6                                                 [1014]  \n",
        "7                                                 [1011]  \n",
        "8                                                 [1010]  \n",
        "9                                                 [1017]  \n",
        "10                                                [1017]  \n",
        "11                                                [1017]  \n",
        "12                                                [1005]  \n",
        "13                                                [1017]  \n",
        "14                                                [1017]  \n",
        "15                                          [1016, 1013]  \n",
        "16                                                [1010]  \n",
        "17                                                [1008]  \n",
        "18                                          [1009, 1006]  \n",
        "19                                    [1016, 1010, 1005]  \n",
        "20                                                [1010]  \n",
        "21                                    [1012, 1008, 1007]  \n",
        "22                                                [1007]  \n",
        "23                                          [1008, 1006]  \n",
        "24                                          [1008, 1006]  \n",
        "25                                                [1006]  \n",
        "26                                                [1016]  \n",
        "27                              [1008, 1007, 1006, 1005]  \n",
        "28                                                [1015]  \n",
        "29                                                [1010]  \n",
        "...                                                  ...  \n",
        "10057                                            [10184]  \n",
        "10058                                            [10104]  \n",
        "10059                                     [10321, 10167]  \n",
        "10060                                            [10291]  \n",
        "10061                                            [10151]  \n",
        "10062                                            [10151]  \n",
        "10063                       [10066, 10055, 10054, 10048]  \n",
        "10064  [10366, 10361, 10343, 10317, 10316, 10293, 102...  \n",
        "10065  [10296, 10282, 10256, 10253, 10252, 10249, 102...  \n",
        "10066                       [10195, 10138, 10136, 10104]  \n",
        "10067                              [10142, 10136, 10115]  \n",
        "10068                                            [10218]  \n",
        "10069                              [10257, 10212, 10198]  \n",
        "10070                                            [10188]  \n",
        "10071                                            [10198]  \n",
        "10072                                            [10360]  \n",
        "10073                                            [10262]  \n",
        "10074                                            [10321]  \n",
        "10075                                     [10298, 10191]  \n",
        "10076                       [10360, 10263, 10112, 10055]  \n",
        "10077                       [10351, 10250, 10212, 10055]  \n",
        "10078                [10303, 10263, 10260, 10232, 10198]  \n",
        "10079                [10362, 10329, 10261, 10143, 10094]  \n",
        "10080                                            [10265]  \n",
        "10081                                     [10316, 10203]  \n",
        "10082                              [10085, 10082, 10065]  \n",
        "10083                                            [10204]  \n",
        "10084                                     [10218, 10142]  \n",
        "10085  [10355, 10351, 10320, 10316, 10295, 10292, 102...  \n",
        "10086                       [10321, 10306, 10218, 10213]  \n",
        "\n",
        "[10087 rows x 3 columns]"
       ]
      }
     ],
     "prompt_number": 12
    },
    {
     "cell_type": "code",
     "collapsed": false,
     "input": [
      "e = df['Date'].tolist() #create a list of dates\n",
      "#create a list of distinct dates\n",
      "d = []\n",
      "for i in e:\n",
      "    if i not in d:\n",
      "        d.append(i)\n",
      "        \n",
      "df1 = pd.DataFrame(columns = ['Date', 'Product1', 'Product2','Name', 'Count']) #create new dataframe\n",
      "\n",
      "#creates date as index column\n",
      "df = df.set_index('Date')\n",
      "df"
     ],
     "language": "python",
     "metadata": {},
     "outputs": [
      {
       "html": [
        "<div style=\"max-height:1000px;max-width:1500px;overflow:auto;\">\n",
        "<table border=\"1\" class=\"dataframe\">\n",
        "  <thead>\n",
        "    <tr style=\"text-align: right;\">\n",
        "      <th></th>\n",
        "      <th>Product</th>\n",
        "      <th>Name</th>\n",
        "    </tr>\n",
        "    <tr>\n",
        "      <th>Date</th>\n",
        "      <th></th>\n",
        "      <th></th>\n",
        "    </tr>\n",
        "  </thead>\n",
        "  <tbody>\n",
        "    <tr>\n",
        "      <th>2012-05-01</th>\n",
        "      <td>                                     BED TIME TEA</td>\n",
        "      <td>                                            [1017]</td>\n",
        "    </tr>\n",
        "    <tr>\n",
        "      <th>2012-05-01</th>\n",
        "      <td>                                   BLACK SEED OIL</td>\n",
        "      <td>                                      [1016, 1007]</td>\n",
        "    </tr>\n",
        "    <tr>\n",
        "      <th>2012-05-01</th>\n",
        "      <td>                                     BREATHE WELL</td>\n",
        "      <td>                                            [1017]</td>\n",
        "    </tr>\n",
        "    <tr>\n",
        "      <th>2012-05-01</th>\n",
        "      <td>                                       BROWN RICE</td>\n",
        "      <td>                          [1017, 1012, 1010, 1005]</td>\n",
        "    </tr>\n",
        "    <tr>\n",
        "      <th>2012-05-01</th>\n",
        "      <td>                                      COCONUT OIL</td>\n",
        "      <td>                                            [1013]</td>\n",
        "    </tr>\n",
        "    <tr>\n",
        "      <th>2012-05-01</th>\n",
        "      <td>                           DRIED PRUNES WITH PITS</td>\n",
        "      <td>                                            [1013]</td>\n",
        "    </tr>\n",
        "    <tr>\n",
        "      <th>2012-05-01</th>\n",
        "      <td>                    FACE &amp; NECK ANTIWRINKLE CREAM</td>\n",
        "      <td>                                            [1014]</td>\n",
        "    </tr>\n",
        "    <tr>\n",
        "      <th>2012-05-01</th>\n",
        "      <td>                                 GOLDEN FLAXSEEDS</td>\n",
        "      <td>                                            [1011]</td>\n",
        "    </tr>\n",
        "    <tr>\n",
        "      <th>2012-05-01</th>\n",
        "      <td>           GREEN TEA WITH ECHINACEA &amp; BLACK SEEDS</td>\n",
        "      <td>                                            [1010]</td>\n",
        "    </tr>\n",
        "    <tr>\n",
        "      <th>2012-05-01</th>\n",
        "      <td>                    ICED TEA WITH CRANBERRY JUICE</td>\n",
        "      <td>                                            [1017]</td>\n",
        "    </tr>\n",
        "    <tr>\n",
        "      <th>2012-05-01</th>\n",
        "      <td>                       ICED TEA WITH LEMON FLAVOR</td>\n",
        "      <td>                                            [1017]</td>\n",
        "    </tr>\n",
        "    <tr>\n",
        "      <th>2012-05-01</th>\n",
        "      <td>                       ICED TEA WITH PEACH FLAVOR</td>\n",
        "      <td>                                            [1017]</td>\n",
        "    </tr>\n",
        "    <tr>\n",
        "      <th>2012-05-01</th>\n",
        "      <td>                               LIVER WELLNESS TEA</td>\n",
        "      <td>                                            [1005]</td>\n",
        "    </tr>\n",
        "    <tr>\n",
        "      <th>2012-05-01</th>\n",
        "      <td>                                 MOTHER TO BE TEA</td>\n",
        "      <td>                                            [1017]</td>\n",
        "    </tr>\n",
        "    <tr>\n",
        "      <th>2012-05-01</th>\n",
        "      <td>                                      NEW MOM TEA</td>\n",
        "      <td>                                            [1017]</td>\n",
        "    </tr>\n",
        "    <tr>\n",
        "      <th>2012-05-01</th>\n",
        "      <td>                                    OLD GHAR SOAP</td>\n",
        "      <td>                                      [1016, 1013]</td>\n",
        "    </tr>\n",
        "    <tr>\n",
        "      <th>2012-05-01</th>\n",
        "      <td>                               ORGANIC FLAX SEEDS</td>\n",
        "      <td>                                            [1010]</td>\n",
        "    </tr>\n",
        "    <tr>\n",
        "      <th>2012-05-01</th>\n",
        "      <td>                    ORGANIC SUN-DRIED MANGO CHIPS</td>\n",
        "      <td>                                            [1008]</td>\n",
        "    </tr>\n",
        "    <tr>\n",
        "      <th>2012-05-01</th>\n",
        "      <td>                         POWER PROTEIN BAR PEANUT</td>\n",
        "      <td>                                      [1009, 1006]</td>\n",
        "    </tr>\n",
        "    <tr>\n",
        "      <th>2012-05-01</th>\n",
        "      <td>                                    PUMPKIN SEEDS</td>\n",
        "      <td>                                [1016, 1010, 1005]</td>\n",
        "    </tr>\n",
        "    <tr>\n",
        "      <th>2012-05-01</th>\n",
        "      <td> RAVIOLI FIRE ROASTED TOMATO, MOZARELLA AND BASIL</td>\n",
        "      <td>                                            [1010]</td>\n",
        "    </tr>\n",
        "    <tr>\n",
        "      <th>2012-05-01</th>\n",
        "      <td>                        RAW ALMONDS WITHOUT SHELL</td>\n",
        "      <td>                                [1012, 1008, 1007]</td>\n",
        "    </tr>\n",
        "    <tr>\n",
        "      <th>2012-05-01</th>\n",
        "      <td>                                   RAW BEE POLLEN</td>\n",
        "      <td>                                            [1007]</td>\n",
        "    </tr>\n",
        "    <tr>\n",
        "      <th>2012-05-01</th>\n",
        "      <td>                                       RAW CASHEW</td>\n",
        "      <td>                                      [1008, 1006]</td>\n",
        "    </tr>\n",
        "    <tr>\n",
        "      <th>2012-05-01</th>\n",
        "      <td>                                        RAW PECAN</td>\n",
        "      <td>                                      [1008, 1006]</td>\n",
        "    </tr>\n",
        "    <tr>\n",
        "      <th>2012-05-01</th>\n",
        "      <td>                             RAW PISTACHIO KERNEL</td>\n",
        "      <td>                                            [1006]</td>\n",
        "    </tr>\n",
        "    <tr>\n",
        "      <th>2012-05-01</th>\n",
        "      <td>                             RAW SLIVERED ALMONDS</td>\n",
        "      <td>                                            [1016]</td>\n",
        "    </tr>\n",
        "    <tr>\n",
        "      <th>2012-05-01</th>\n",
        "      <td>                         RAW WALNUT WITHOUT SHELL</td>\n",
        "      <td>                          [1008, 1007, 1006, 1005]</td>\n",
        "    </tr>\n",
        "    <tr>\n",
        "      <th>2012-05-01</th>\n",
        "      <td>                            SOY MILK CALCIUM PLUS</td>\n",
        "      <td>                                            [1015]</td>\n",
        "    </tr>\n",
        "    <tr>\n",
        "      <th>2012-05-01</th>\n",
        "      <td>                 STIR FRY VEGETABLES - DRAGON MIX</td>\n",
        "      <td>                                            [1010]</td>\n",
        "    </tr>\n",
        "    <tr>\n",
        "      <th>...</th>\n",
        "      <td>...</td>\n",
        "      <td>...</td>\n",
        "    </tr>\n",
        "    <tr>\n",
        "      <th>2015-12-01</th>\n",
        "      <td>                 WHEAT FLOUR (SPROUTED) - NATURAL</td>\n",
        "      <td>                                           [10184]</td>\n",
        "    </tr>\n",
        "    <tr>\n",
        "      <th>2015-12-01</th>\n",
        "      <td>                              WHEY PROTEIN (PURE)</td>\n",
        "      <td>                                           [10104]</td>\n",
        "    </tr>\n",
        "    <tr>\n",
        "      <th>2015-12-01</th>\n",
        "      <td>                 WHITE BEANS (ORGANIC) - EGYPTIAN</td>\n",
        "      <td>                                    [10321, 10167]</td>\n",
        "    </tr>\n",
        "    <tr>\n",
        "      <th>2015-12-01</th>\n",
        "      <td>                                      WHITE ONION</td>\n",
        "      <td>                                           [10291]</td>\n",
        "    </tr>\n",
        "    <tr>\n",
        "      <th>2015-12-01</th>\n",
        "      <td>                             WHITE SAUCE (FROZEN)</td>\n",
        "      <td>                                           [10151]</td>\n",
        "    </tr>\n",
        "    <tr>\n",
        "      <th>2015-12-01</th>\n",
        "      <td>                             WHITE TEA WITH PEACH</td>\n",
        "      <td>                                           [10151]</td>\n",
        "    </tr>\n",
        "    <tr>\n",
        "      <th>2015-12-01</th>\n",
        "      <td>                           WHOLE CHICKEN (FROZEN)</td>\n",
        "      <td>                      [10066, 10055, 10054, 10048]</td>\n",
        "    </tr>\n",
        "    <tr>\n",
        "      <th>2015-12-01</th>\n",
        "      <td>            WHOLE CHICKEN - HORMONE FREE (FROZEN)</td>\n",
        "      <td> [10366, 10361, 10343, 10317, 10316, 10293, 102...</td>\n",
        "    </tr>\n",
        "    <tr>\n",
        "      <th>2015-12-01</th>\n",
        "      <td>                                 WHOLE MEAL FLOUR</td>\n",
        "      <td> [10296, 10282, 10256, 10253, 10252, 10249, 102...</td>\n",
        "    </tr>\n",
        "    <tr>\n",
        "      <th>2015-12-01</th>\n",
        "      <td>                       WHOLE WHEAT SPINACH PASTRY</td>\n",
        "      <td>                      [10195, 10138, 10136, 10104]</td>\n",
        "    </tr>\n",
        "    <tr>\n",
        "      <th>2015-12-01</th>\n",
        "      <td>                              WHOLE WHEAT WAFFLES</td>\n",
        "      <td>                             [10142, 10136, 10115]</td>\n",
        "    </tr>\n",
        "    <tr>\n",
        "      <th>2015-12-01</th>\n",
        "      <td>              WILD &amp; BROWN RICE MIX (GLUTEN FREE)</td>\n",
        "      <td>                                           [10218]</td>\n",
        "    </tr>\n",
        "    <tr>\n",
        "      <th>2015-12-01</th>\n",
        "      <td>                      WILD GROUPER FILLET (WA2AR)</td>\n",
        "      <td>                             [10257, 10212, 10198]</td>\n",
        "    </tr>\n",
        "    <tr>\n",
        "      <th>2015-12-01</th>\n",
        "      <td>                       WILD HABAQ (CHEMICAL FREE)</td>\n",
        "      <td>                                           [10188]</td>\n",
        "    </tr>\n",
        "    <tr>\n",
        "      <th>2015-12-01</th>\n",
        "      <td>                                     WILD LOBSTER</td>\n",
        "      <td>                                           [10198]</td>\n",
        "    </tr>\n",
        "    <tr>\n",
        "      <th>2015-12-01</th>\n",
        "      <td>                                      WILD MORGAN</td>\n",
        "      <td>                                           [10360]</td>\n",
        "    </tr>\n",
        "    <tr>\n",
        "      <th>2015-12-01</th>\n",
        "      <td>                        WILD RED MULLET (BARBOUN)</td>\n",
        "      <td>                                           [10262]</td>\n",
        "    </tr>\n",
        "    <tr>\n",
        "      <th>2015-12-01</th>\n",
        "      <td>                       WILD RICE ( ORGANIC ) 227G</td>\n",
        "      <td>                                           [10321]</td>\n",
        "    </tr>\n",
        "    <tr>\n",
        "      <th>2015-12-01</th>\n",
        "      <td>          WILD RICE CAKES (ORGANIC) - GLUTEN FREE</td>\n",
        "      <td>                                    [10298, 10191]</td>\n",
        "    </tr>\n",
        "    <tr>\n",
        "      <th>2015-12-01</th>\n",
        "      <td>                        WILD ROYAL DORAD (DENEES)</td>\n",
        "      <td>                      [10360, 10263, 10112, 10055]</td>\n",
        "    </tr>\n",
        "    <tr>\n",
        "      <th>2015-12-01</th>\n",
        "      <td>                                    WILD SARDINES</td>\n",
        "      <td>                      [10351, 10250, 10212, 10055]</td>\n",
        "    </tr>\n",
        "    <tr>\n",
        "      <th>2015-12-01</th>\n",
        "      <td>                             WILD SHRIMP (MEDIUM)</td>\n",
        "      <td>               [10303, 10263, 10260, 10232, 10198]</td>\n",
        "    </tr>\n",
        "    <tr>\n",
        "      <th>2015-12-01</th>\n",
        "      <td>                              WILD SHRIMP (SMALL)</td>\n",
        "      <td>               [10362, 10329, 10261, 10143, 10094]</td>\n",
        "    </tr>\n",
        "    <tr>\n",
        "      <th>2015-12-01</th>\n",
        "      <td>                        WILD YELLOW FINTUNA STEAK</td>\n",
        "      <td>                                           [10265]</td>\n",
        "    </tr>\n",
        "    <tr>\n",
        "      <th>2015-12-01</th>\n",
        "      <td>                                    YELLOW APPLES</td>\n",
        "      <td>                                    [10316, 10203]</td>\n",
        "    </tr>\n",
        "    <tr>\n",
        "      <th>2015-12-01</th>\n",
        "      <td>                                   YELLOW CARROTS</td>\n",
        "      <td>                             [10085, 10082, 10065]</td>\n",
        "    </tr>\n",
        "    <tr>\n",
        "      <th>2015-12-01</th>\n",
        "      <td>                                YELLOW GRAPEFRUIT</td>\n",
        "      <td>                                           [10204]</td>\n",
        "    </tr>\n",
        "    <tr>\n",
        "      <th>2015-12-01</th>\n",
        "      <td>                                   YELLOW MUSTARD</td>\n",
        "      <td>                                    [10218, 10142]</td>\n",
        "    </tr>\n",
        "    <tr>\n",
        "      <th>2015-12-01</th>\n",
        "      <td>                         ZUCCHINI (CHEMICAL FREE)</td>\n",
        "      <td> [10355, 10351, 10320, 10316, 10295, 10292, 102...</td>\n",
        "    </tr>\n",
        "    <tr>\n",
        "      <th>2015-12-01</th>\n",
        "      <td>                               ZUCCHINI (ORGANIC)</td>\n",
        "      <td>                      [10321, 10306, 10218, 10213]</td>\n",
        "    </tr>\n",
        "  </tbody>\n",
        "</table>\n",
        "<p>10087 rows \u00d7 2 columns</p>\n",
        "</div>"
       ],
       "metadata": {},
       "output_type": "pyout",
       "prompt_number": 13,
       "text": [
        "                                                     Product  \\\n",
        "Date                                                           \n",
        "2012-05-01                                      BED TIME TEA   \n",
        "2012-05-01                                    BLACK SEED OIL   \n",
        "2012-05-01                                      BREATHE WELL   \n",
        "2012-05-01                                        BROWN RICE   \n",
        "2012-05-01                                       COCONUT OIL   \n",
        "2012-05-01                            DRIED PRUNES WITH PITS   \n",
        "2012-05-01                     FACE & NECK ANTIWRINKLE CREAM   \n",
        "2012-05-01                                  GOLDEN FLAXSEEDS   \n",
        "2012-05-01            GREEN TEA WITH ECHINACEA & BLACK SEEDS   \n",
        "2012-05-01                     ICED TEA WITH CRANBERRY JUICE   \n",
        "2012-05-01                        ICED TEA WITH LEMON FLAVOR   \n",
        "2012-05-01                        ICED TEA WITH PEACH FLAVOR   \n",
        "2012-05-01                                LIVER WELLNESS TEA   \n",
        "2012-05-01                                  MOTHER TO BE TEA   \n",
        "2012-05-01                                       NEW MOM TEA   \n",
        "2012-05-01                                     OLD GHAR SOAP   \n",
        "2012-05-01                                ORGANIC FLAX SEEDS   \n",
        "2012-05-01                     ORGANIC SUN-DRIED MANGO CHIPS   \n",
        "2012-05-01                          POWER PROTEIN BAR PEANUT   \n",
        "2012-05-01                                     PUMPKIN SEEDS   \n",
        "2012-05-01  RAVIOLI FIRE ROASTED TOMATO, MOZARELLA AND BASIL   \n",
        "2012-05-01                         RAW ALMONDS WITHOUT SHELL   \n",
        "2012-05-01                                    RAW BEE POLLEN   \n",
        "2012-05-01                                        RAW CASHEW   \n",
        "2012-05-01                                         RAW PECAN   \n",
        "2012-05-01                              RAW PISTACHIO KERNEL   \n",
        "2012-05-01                              RAW SLIVERED ALMONDS   \n",
        "2012-05-01                          RAW WALNUT WITHOUT SHELL   \n",
        "2012-05-01                             SOY MILK CALCIUM PLUS   \n",
        "2012-05-01                  STIR FRY VEGETABLES - DRAGON MIX   \n",
        "...                                                      ...   \n",
        "2015-12-01                  WHEAT FLOUR (SPROUTED) - NATURAL   \n",
        "2015-12-01                               WHEY PROTEIN (PURE)   \n",
        "2015-12-01                  WHITE BEANS (ORGANIC) - EGYPTIAN   \n",
        "2015-12-01                                       WHITE ONION   \n",
        "2015-12-01                              WHITE SAUCE (FROZEN)   \n",
        "2015-12-01                              WHITE TEA WITH PEACH   \n",
        "2015-12-01                            WHOLE CHICKEN (FROZEN)   \n",
        "2015-12-01             WHOLE CHICKEN - HORMONE FREE (FROZEN)   \n",
        "2015-12-01                                  WHOLE MEAL FLOUR   \n",
        "2015-12-01                        WHOLE WHEAT SPINACH PASTRY   \n",
        "2015-12-01                               WHOLE WHEAT WAFFLES   \n",
        "2015-12-01               WILD & BROWN RICE MIX (GLUTEN FREE)   \n",
        "2015-12-01                       WILD GROUPER FILLET (WA2AR)   \n",
        "2015-12-01                        WILD HABAQ (CHEMICAL FREE)   \n",
        "2015-12-01                                      WILD LOBSTER   \n",
        "2015-12-01                                       WILD MORGAN   \n",
        "2015-12-01                         WILD RED MULLET (BARBOUN)   \n",
        "2015-12-01                        WILD RICE ( ORGANIC ) 227G   \n",
        "2015-12-01           WILD RICE CAKES (ORGANIC) - GLUTEN FREE   \n",
        "2015-12-01                         WILD ROYAL DORAD (DENEES)   \n",
        "2015-12-01                                     WILD SARDINES   \n",
        "2015-12-01                              WILD SHRIMP (MEDIUM)   \n",
        "2015-12-01                               WILD SHRIMP (SMALL)   \n",
        "2015-12-01                         WILD YELLOW FINTUNA STEAK   \n",
        "2015-12-01                                     YELLOW APPLES   \n",
        "2015-12-01                                    YELLOW CARROTS   \n",
        "2015-12-01                                 YELLOW GRAPEFRUIT   \n",
        "2015-12-01                                    YELLOW MUSTARD   \n",
        "2015-12-01                          ZUCCHINI (CHEMICAL FREE)   \n",
        "2015-12-01                                ZUCCHINI (ORGANIC)   \n",
        "\n",
        "                                                         Name  \n",
        "Date                                                           \n",
        "2012-05-01                                             [1017]  \n",
        "2012-05-01                                       [1016, 1007]  \n",
        "2012-05-01                                             [1017]  \n",
        "2012-05-01                           [1017, 1012, 1010, 1005]  \n",
        "2012-05-01                                             [1013]  \n",
        "2012-05-01                                             [1013]  \n",
        "2012-05-01                                             [1014]  \n",
        "2012-05-01                                             [1011]  \n",
        "2012-05-01                                             [1010]  \n",
        "2012-05-01                                             [1017]  \n",
        "2012-05-01                                             [1017]  \n",
        "2012-05-01                                             [1017]  \n",
        "2012-05-01                                             [1005]  \n",
        "2012-05-01                                             [1017]  \n",
        "2012-05-01                                             [1017]  \n",
        "2012-05-01                                       [1016, 1013]  \n",
        "2012-05-01                                             [1010]  \n",
        "2012-05-01                                             [1008]  \n",
        "2012-05-01                                       [1009, 1006]  \n",
        "2012-05-01                                 [1016, 1010, 1005]  \n",
        "2012-05-01                                             [1010]  \n",
        "2012-05-01                                 [1012, 1008, 1007]  \n",
        "2012-05-01                                             [1007]  \n",
        "2012-05-01                                       [1008, 1006]  \n",
        "2012-05-01                                       [1008, 1006]  \n",
        "2012-05-01                                             [1006]  \n",
        "2012-05-01                                             [1016]  \n",
        "2012-05-01                           [1008, 1007, 1006, 1005]  \n",
        "2012-05-01                                             [1015]  \n",
        "2012-05-01                                             [1010]  \n",
        "...                                                       ...  \n",
        "2015-12-01                                            [10184]  \n",
        "2015-12-01                                            [10104]  \n",
        "2015-12-01                                     [10321, 10167]  \n",
        "2015-12-01                                            [10291]  \n",
        "2015-12-01                                            [10151]  \n",
        "2015-12-01                                            [10151]  \n",
        "2015-12-01                       [10066, 10055, 10054, 10048]  \n",
        "2015-12-01  [10366, 10361, 10343, 10317, 10316, 10293, 102...  \n",
        "2015-12-01  [10296, 10282, 10256, 10253, 10252, 10249, 102...  \n",
        "2015-12-01                       [10195, 10138, 10136, 10104]  \n",
        "2015-12-01                              [10142, 10136, 10115]  \n",
        "2015-12-01                                            [10218]  \n",
        "2015-12-01                              [10257, 10212, 10198]  \n",
        "2015-12-01                                            [10188]  \n",
        "2015-12-01                                            [10198]  \n",
        "2015-12-01                                            [10360]  \n",
        "2015-12-01                                            [10262]  \n",
        "2015-12-01                                            [10321]  \n",
        "2015-12-01                                     [10298, 10191]  \n",
        "2015-12-01                       [10360, 10263, 10112, 10055]  \n",
        "2015-12-01                       [10351, 10250, 10212, 10055]  \n",
        "2015-12-01                [10303, 10263, 10260, 10232, 10198]  \n",
        "2015-12-01                [10362, 10329, 10261, 10143, 10094]  \n",
        "2015-12-01                                            [10265]  \n",
        "2015-12-01                                     [10316, 10203]  \n",
        "2015-12-01                              [10085, 10082, 10065]  \n",
        "2015-12-01                                            [10204]  \n",
        "2015-12-01                                     [10218, 10142]  \n",
        "2015-12-01  [10355, 10351, 10320, 10316, 10295, 10292, 102...  \n",
        "2015-12-01                       [10321, 10306, 10218, 10213]  \n",
        "\n",
        "[10087 rows x 2 columns]"
       ]
      }
     ],
     "prompt_number": 13
    },
    {
     "cell_type": "code",
     "collapsed": false,
     "input": [
      "pr1 = []\n",
      "pr2 = []\n",
      "dat = []\n",
      "for i in d: #traverse through all months\n",
      "    p1 = []\n",
      "    p2 = []\n",
      "    leng =  len(df.loc[i,'Product']) #count the products in each month\n",
      "    e = df.loc[i,'Product'].tolist() #make a list of all products in a month\n",
      "    for j in range(0, leng): #iterate through the length\n",
      "        p1 = p1 + e #add list of product 'leng' number of times\n",
      "    for k in e: \n",
      "        for j in range(0, leng):\n",
      "            p2.append(k) #add each product 'leng' number of times\n",
      "            dat.append(i) #add each date 'leng' number of times\n",
      "    pr1 = pr1 + p1\n",
      "    pr2 = pr2 + p2\n",
      "df1['Date'] = pd.Series(dat) #update date column in new df\n",
      "df1['Product1'] = pd.Series(pr1) #update product1 column in new df\n",
      "df1['Product2'] = pd.Series(pr2) #update product2 column in new df\n",
      "df1"
     ],
     "language": "python",
     "metadata": {},
     "outputs": [
      {
       "html": [
        "<div style=\"max-height:1000px;max-width:1500px;overflow:auto;\">\n",
        "<table border=\"1\" class=\"dataframe\">\n",
        "  <thead>\n",
        "    <tr style=\"text-align: right;\">\n",
        "      <th></th>\n",
        "      <th>Date</th>\n",
        "      <th>Product1</th>\n",
        "      <th>Product2</th>\n",
        "      <th>Name</th>\n",
        "      <th>Count</th>\n",
        "    </tr>\n",
        "  </thead>\n",
        "  <tbody>\n",
        "    <tr>\n",
        "      <th>0      </th>\n",
        "      <td> 2012-05-01</td>\n",
        "      <td>                                     BED TIME TEA</td>\n",
        "      <td>       BED TIME TEA</td>\n",
        "      <td> NaN</td>\n",
        "      <td> NaN</td>\n",
        "    </tr>\n",
        "    <tr>\n",
        "      <th>1      </th>\n",
        "      <td> 2012-05-01</td>\n",
        "      <td>                                   BLACK SEED OIL</td>\n",
        "      <td>       BED TIME TEA</td>\n",
        "      <td> NaN</td>\n",
        "      <td> NaN</td>\n",
        "    </tr>\n",
        "    <tr>\n",
        "      <th>2      </th>\n",
        "      <td> 2012-05-01</td>\n",
        "      <td>                                     BREATHE WELL</td>\n",
        "      <td>       BED TIME TEA</td>\n",
        "      <td> NaN</td>\n",
        "      <td> NaN</td>\n",
        "    </tr>\n",
        "    <tr>\n",
        "      <th>3      </th>\n",
        "      <td> 2012-05-01</td>\n",
        "      <td>                                       BROWN RICE</td>\n",
        "      <td>       BED TIME TEA</td>\n",
        "      <td> NaN</td>\n",
        "      <td> NaN</td>\n",
        "    </tr>\n",
        "    <tr>\n",
        "      <th>4      </th>\n",
        "      <td> 2012-05-01</td>\n",
        "      <td>                                      COCONUT OIL</td>\n",
        "      <td>       BED TIME TEA</td>\n",
        "      <td> NaN</td>\n",
        "      <td> NaN</td>\n",
        "    </tr>\n",
        "    <tr>\n",
        "      <th>5      </th>\n",
        "      <td> 2012-05-01</td>\n",
        "      <td>                           DRIED PRUNES WITH PITS</td>\n",
        "      <td>       BED TIME TEA</td>\n",
        "      <td> NaN</td>\n",
        "      <td> NaN</td>\n",
        "    </tr>\n",
        "    <tr>\n",
        "      <th>6      </th>\n",
        "      <td> 2012-05-01</td>\n",
        "      <td>                    FACE &amp; NECK ANTIWRINKLE CREAM</td>\n",
        "      <td>       BED TIME TEA</td>\n",
        "      <td> NaN</td>\n",
        "      <td> NaN</td>\n",
        "    </tr>\n",
        "    <tr>\n",
        "      <th>7      </th>\n",
        "      <td> 2012-05-01</td>\n",
        "      <td>                                 GOLDEN FLAXSEEDS</td>\n",
        "      <td>       BED TIME TEA</td>\n",
        "      <td> NaN</td>\n",
        "      <td> NaN</td>\n",
        "    </tr>\n",
        "    <tr>\n",
        "      <th>8      </th>\n",
        "      <td> 2012-05-01</td>\n",
        "      <td>           GREEN TEA WITH ECHINACEA &amp; BLACK SEEDS</td>\n",
        "      <td>       BED TIME TEA</td>\n",
        "      <td> NaN</td>\n",
        "      <td> NaN</td>\n",
        "    </tr>\n",
        "    <tr>\n",
        "      <th>9      </th>\n",
        "      <td> 2012-05-01</td>\n",
        "      <td>                    ICED TEA WITH CRANBERRY JUICE</td>\n",
        "      <td>       BED TIME TEA</td>\n",
        "      <td> NaN</td>\n",
        "      <td> NaN</td>\n",
        "    </tr>\n",
        "    <tr>\n",
        "      <th>10     </th>\n",
        "      <td> 2012-05-01</td>\n",
        "      <td>                       ICED TEA WITH LEMON FLAVOR</td>\n",
        "      <td>       BED TIME TEA</td>\n",
        "      <td> NaN</td>\n",
        "      <td> NaN</td>\n",
        "    </tr>\n",
        "    <tr>\n",
        "      <th>11     </th>\n",
        "      <td> 2012-05-01</td>\n",
        "      <td>                       ICED TEA WITH PEACH FLAVOR</td>\n",
        "      <td>       BED TIME TEA</td>\n",
        "      <td> NaN</td>\n",
        "      <td> NaN</td>\n",
        "    </tr>\n",
        "    <tr>\n",
        "      <th>12     </th>\n",
        "      <td> 2012-05-01</td>\n",
        "      <td>                               LIVER WELLNESS TEA</td>\n",
        "      <td>       BED TIME TEA</td>\n",
        "      <td> NaN</td>\n",
        "      <td> NaN</td>\n",
        "    </tr>\n",
        "    <tr>\n",
        "      <th>13     </th>\n",
        "      <td> 2012-05-01</td>\n",
        "      <td>                                 MOTHER TO BE TEA</td>\n",
        "      <td>       BED TIME TEA</td>\n",
        "      <td> NaN</td>\n",
        "      <td> NaN</td>\n",
        "    </tr>\n",
        "    <tr>\n",
        "      <th>14     </th>\n",
        "      <td> 2012-05-01</td>\n",
        "      <td>                                      NEW MOM TEA</td>\n",
        "      <td>       BED TIME TEA</td>\n",
        "      <td> NaN</td>\n",
        "      <td> NaN</td>\n",
        "    </tr>\n",
        "    <tr>\n",
        "      <th>15     </th>\n",
        "      <td> 2012-05-01</td>\n",
        "      <td>                                    OLD GHAR SOAP</td>\n",
        "      <td>       BED TIME TEA</td>\n",
        "      <td> NaN</td>\n",
        "      <td> NaN</td>\n",
        "    </tr>\n",
        "    <tr>\n",
        "      <th>16     </th>\n",
        "      <td> 2012-05-01</td>\n",
        "      <td>                               ORGANIC FLAX SEEDS</td>\n",
        "      <td>       BED TIME TEA</td>\n",
        "      <td> NaN</td>\n",
        "      <td> NaN</td>\n",
        "    </tr>\n",
        "    <tr>\n",
        "      <th>17     </th>\n",
        "      <td> 2012-05-01</td>\n",
        "      <td>                    ORGANIC SUN-DRIED MANGO CHIPS</td>\n",
        "      <td>       BED TIME TEA</td>\n",
        "      <td> NaN</td>\n",
        "      <td> NaN</td>\n",
        "    </tr>\n",
        "    <tr>\n",
        "      <th>18     </th>\n",
        "      <td> 2012-05-01</td>\n",
        "      <td>                         POWER PROTEIN BAR PEANUT</td>\n",
        "      <td>       BED TIME TEA</td>\n",
        "      <td> NaN</td>\n",
        "      <td> NaN</td>\n",
        "    </tr>\n",
        "    <tr>\n",
        "      <th>19     </th>\n",
        "      <td> 2012-05-01</td>\n",
        "      <td>                                    PUMPKIN SEEDS</td>\n",
        "      <td>       BED TIME TEA</td>\n",
        "      <td> NaN</td>\n",
        "      <td> NaN</td>\n",
        "    </tr>\n",
        "    <tr>\n",
        "      <th>20     </th>\n",
        "      <td> 2012-05-01</td>\n",
        "      <td> RAVIOLI FIRE ROASTED TOMATO, MOZARELLA AND BASIL</td>\n",
        "      <td>       BED TIME TEA</td>\n",
        "      <td> NaN</td>\n",
        "      <td> NaN</td>\n",
        "    </tr>\n",
        "    <tr>\n",
        "      <th>21     </th>\n",
        "      <td> 2012-05-01</td>\n",
        "      <td>                        RAW ALMONDS WITHOUT SHELL</td>\n",
        "      <td>       BED TIME TEA</td>\n",
        "      <td> NaN</td>\n",
        "      <td> NaN</td>\n",
        "    </tr>\n",
        "    <tr>\n",
        "      <th>22     </th>\n",
        "      <td> 2012-05-01</td>\n",
        "      <td>                                   RAW BEE POLLEN</td>\n",
        "      <td>       BED TIME TEA</td>\n",
        "      <td> NaN</td>\n",
        "      <td> NaN</td>\n",
        "    </tr>\n",
        "    <tr>\n",
        "      <th>23     </th>\n",
        "      <td> 2012-05-01</td>\n",
        "      <td>                                       RAW CASHEW</td>\n",
        "      <td>       BED TIME TEA</td>\n",
        "      <td> NaN</td>\n",
        "      <td> NaN</td>\n",
        "    </tr>\n",
        "    <tr>\n",
        "      <th>24     </th>\n",
        "      <td> 2012-05-01</td>\n",
        "      <td>                                        RAW PECAN</td>\n",
        "      <td>       BED TIME TEA</td>\n",
        "      <td> NaN</td>\n",
        "      <td> NaN</td>\n",
        "    </tr>\n",
        "    <tr>\n",
        "      <th>25     </th>\n",
        "      <td> 2012-05-01</td>\n",
        "      <td>                             RAW PISTACHIO KERNEL</td>\n",
        "      <td>       BED TIME TEA</td>\n",
        "      <td> NaN</td>\n",
        "      <td> NaN</td>\n",
        "    </tr>\n",
        "    <tr>\n",
        "      <th>26     </th>\n",
        "      <td> 2012-05-01</td>\n",
        "      <td>                             RAW SLIVERED ALMONDS</td>\n",
        "      <td>       BED TIME TEA</td>\n",
        "      <td> NaN</td>\n",
        "      <td> NaN</td>\n",
        "    </tr>\n",
        "    <tr>\n",
        "      <th>27     </th>\n",
        "      <td> 2012-05-01</td>\n",
        "      <td>                         RAW WALNUT WITHOUT SHELL</td>\n",
        "      <td>       BED TIME TEA</td>\n",
        "      <td> NaN</td>\n",
        "      <td> NaN</td>\n",
        "    </tr>\n",
        "    <tr>\n",
        "      <th>28     </th>\n",
        "      <td> 2012-05-01</td>\n",
        "      <td>                            SOY MILK CALCIUM PLUS</td>\n",
        "      <td>       BED TIME TEA</td>\n",
        "      <td> NaN</td>\n",
        "      <td> NaN</td>\n",
        "    </tr>\n",
        "    <tr>\n",
        "      <th>29     </th>\n",
        "      <td> 2012-05-01</td>\n",
        "      <td>                 STIR FRY VEGETABLES - DRAGON MIX</td>\n",
        "      <td>       BED TIME TEA</td>\n",
        "      <td> NaN</td>\n",
        "      <td> NaN</td>\n",
        "    </tr>\n",
        "    <tr>\n",
        "      <th>...</th>\n",
        "      <td>...</td>\n",
        "      <td>...</td>\n",
        "      <td>...</td>\n",
        "      <td>...</td>\n",
        "      <td>...</td>\n",
        "    </tr>\n",
        "    <tr>\n",
        "      <th>2771959</th>\n",
        "      <td> 2015-12-01</td>\n",
        "      <td>                 WHEAT FLOUR (SPROUTED) - NATURAL</td>\n",
        "      <td> ZUCCHINI (ORGANIC)</td>\n",
        "      <td> NaN</td>\n",
        "      <td> NaN</td>\n",
        "    </tr>\n",
        "    <tr>\n",
        "      <th>2771960</th>\n",
        "      <td> 2015-12-01</td>\n",
        "      <td>                              WHEY PROTEIN (PURE)</td>\n",
        "      <td> ZUCCHINI (ORGANIC)</td>\n",
        "      <td> NaN</td>\n",
        "      <td> NaN</td>\n",
        "    </tr>\n",
        "    <tr>\n",
        "      <th>2771961</th>\n",
        "      <td> 2015-12-01</td>\n",
        "      <td>                 WHITE BEANS (ORGANIC) - EGYPTIAN</td>\n",
        "      <td> ZUCCHINI (ORGANIC)</td>\n",
        "      <td> NaN</td>\n",
        "      <td> NaN</td>\n",
        "    </tr>\n",
        "    <tr>\n",
        "      <th>2771962</th>\n",
        "      <td> 2015-12-01</td>\n",
        "      <td>                                      WHITE ONION</td>\n",
        "      <td> ZUCCHINI (ORGANIC)</td>\n",
        "      <td> NaN</td>\n",
        "      <td> NaN</td>\n",
        "    </tr>\n",
        "    <tr>\n",
        "      <th>2771963</th>\n",
        "      <td> 2015-12-01</td>\n",
        "      <td>                             WHITE SAUCE (FROZEN)</td>\n",
        "      <td> ZUCCHINI (ORGANIC)</td>\n",
        "      <td> NaN</td>\n",
        "      <td> NaN</td>\n",
        "    </tr>\n",
        "    <tr>\n",
        "      <th>2771964</th>\n",
        "      <td> 2015-12-01</td>\n",
        "      <td>                             WHITE TEA WITH PEACH</td>\n",
        "      <td> ZUCCHINI (ORGANIC)</td>\n",
        "      <td> NaN</td>\n",
        "      <td> NaN</td>\n",
        "    </tr>\n",
        "    <tr>\n",
        "      <th>2771965</th>\n",
        "      <td> 2015-12-01</td>\n",
        "      <td>                           WHOLE CHICKEN (FROZEN)</td>\n",
        "      <td> ZUCCHINI (ORGANIC)</td>\n",
        "      <td> NaN</td>\n",
        "      <td> NaN</td>\n",
        "    </tr>\n",
        "    <tr>\n",
        "      <th>2771966</th>\n",
        "      <td> 2015-12-01</td>\n",
        "      <td>            WHOLE CHICKEN - HORMONE FREE (FROZEN)</td>\n",
        "      <td> ZUCCHINI (ORGANIC)</td>\n",
        "      <td> NaN</td>\n",
        "      <td> NaN</td>\n",
        "    </tr>\n",
        "    <tr>\n",
        "      <th>2771967</th>\n",
        "      <td> 2015-12-01</td>\n",
        "      <td>                                 WHOLE MEAL FLOUR</td>\n",
        "      <td> ZUCCHINI (ORGANIC)</td>\n",
        "      <td> NaN</td>\n",
        "      <td> NaN</td>\n",
        "    </tr>\n",
        "    <tr>\n",
        "      <th>2771968</th>\n",
        "      <td> 2015-12-01</td>\n",
        "      <td>                       WHOLE WHEAT SPINACH PASTRY</td>\n",
        "      <td> ZUCCHINI (ORGANIC)</td>\n",
        "      <td> NaN</td>\n",
        "      <td> NaN</td>\n",
        "    </tr>\n",
        "    <tr>\n",
        "      <th>2771969</th>\n",
        "      <td> 2015-12-01</td>\n",
        "      <td>                              WHOLE WHEAT WAFFLES</td>\n",
        "      <td> ZUCCHINI (ORGANIC)</td>\n",
        "      <td> NaN</td>\n",
        "      <td> NaN</td>\n",
        "    </tr>\n",
        "    <tr>\n",
        "      <th>2771970</th>\n",
        "      <td> 2015-12-01</td>\n",
        "      <td>              WILD &amp; BROWN RICE MIX (GLUTEN FREE)</td>\n",
        "      <td> ZUCCHINI (ORGANIC)</td>\n",
        "      <td> NaN</td>\n",
        "      <td> NaN</td>\n",
        "    </tr>\n",
        "    <tr>\n",
        "      <th>2771971</th>\n",
        "      <td> 2015-12-01</td>\n",
        "      <td>                      WILD GROUPER FILLET (WA2AR)</td>\n",
        "      <td> ZUCCHINI (ORGANIC)</td>\n",
        "      <td> NaN</td>\n",
        "      <td> NaN</td>\n",
        "    </tr>\n",
        "    <tr>\n",
        "      <th>2771972</th>\n",
        "      <td> 2015-12-01</td>\n",
        "      <td>                       WILD HABAQ (CHEMICAL FREE)</td>\n",
        "      <td> ZUCCHINI (ORGANIC)</td>\n",
        "      <td> NaN</td>\n",
        "      <td> NaN</td>\n",
        "    </tr>\n",
        "    <tr>\n",
        "      <th>2771973</th>\n",
        "      <td> 2015-12-01</td>\n",
        "      <td>                                     WILD LOBSTER</td>\n",
        "      <td> ZUCCHINI (ORGANIC)</td>\n",
        "      <td> NaN</td>\n",
        "      <td> NaN</td>\n",
        "    </tr>\n",
        "    <tr>\n",
        "      <th>2771974</th>\n",
        "      <td> 2015-12-01</td>\n",
        "      <td>                                      WILD MORGAN</td>\n",
        "      <td> ZUCCHINI (ORGANIC)</td>\n",
        "      <td> NaN</td>\n",
        "      <td> NaN</td>\n",
        "    </tr>\n",
        "    <tr>\n",
        "      <th>2771975</th>\n",
        "      <td> 2015-12-01</td>\n",
        "      <td>                        WILD RED MULLET (BARBOUN)</td>\n",
        "      <td> ZUCCHINI (ORGANIC)</td>\n",
        "      <td> NaN</td>\n",
        "      <td> NaN</td>\n",
        "    </tr>\n",
        "    <tr>\n",
        "      <th>2771976</th>\n",
        "      <td> 2015-12-01</td>\n",
        "      <td>                       WILD RICE ( ORGANIC ) 227G</td>\n",
        "      <td> ZUCCHINI (ORGANIC)</td>\n",
        "      <td> NaN</td>\n",
        "      <td> NaN</td>\n",
        "    </tr>\n",
        "    <tr>\n",
        "      <th>2771977</th>\n",
        "      <td> 2015-12-01</td>\n",
        "      <td>          WILD RICE CAKES (ORGANIC) - GLUTEN FREE</td>\n",
        "      <td> ZUCCHINI (ORGANIC)</td>\n",
        "      <td> NaN</td>\n",
        "      <td> NaN</td>\n",
        "    </tr>\n",
        "    <tr>\n",
        "      <th>2771978</th>\n",
        "      <td> 2015-12-01</td>\n",
        "      <td>                        WILD ROYAL DORAD (DENEES)</td>\n",
        "      <td> ZUCCHINI (ORGANIC)</td>\n",
        "      <td> NaN</td>\n",
        "      <td> NaN</td>\n",
        "    </tr>\n",
        "    <tr>\n",
        "      <th>2771979</th>\n",
        "      <td> 2015-12-01</td>\n",
        "      <td>                                    WILD SARDINES</td>\n",
        "      <td> ZUCCHINI (ORGANIC)</td>\n",
        "      <td> NaN</td>\n",
        "      <td> NaN</td>\n",
        "    </tr>\n",
        "    <tr>\n",
        "      <th>2771980</th>\n",
        "      <td> 2015-12-01</td>\n",
        "      <td>                             WILD SHRIMP (MEDIUM)</td>\n",
        "      <td> ZUCCHINI (ORGANIC)</td>\n",
        "      <td> NaN</td>\n",
        "      <td> NaN</td>\n",
        "    </tr>\n",
        "    <tr>\n",
        "      <th>2771981</th>\n",
        "      <td> 2015-12-01</td>\n",
        "      <td>                              WILD SHRIMP (SMALL)</td>\n",
        "      <td> ZUCCHINI (ORGANIC)</td>\n",
        "      <td> NaN</td>\n",
        "      <td> NaN</td>\n",
        "    </tr>\n",
        "    <tr>\n",
        "      <th>2771982</th>\n",
        "      <td> 2015-12-01</td>\n",
        "      <td>                        WILD YELLOW FINTUNA STEAK</td>\n",
        "      <td> ZUCCHINI (ORGANIC)</td>\n",
        "      <td> NaN</td>\n",
        "      <td> NaN</td>\n",
        "    </tr>\n",
        "    <tr>\n",
        "      <th>2771983</th>\n",
        "      <td> 2015-12-01</td>\n",
        "      <td>                                    YELLOW APPLES</td>\n",
        "      <td> ZUCCHINI (ORGANIC)</td>\n",
        "      <td> NaN</td>\n",
        "      <td> NaN</td>\n",
        "    </tr>\n",
        "    <tr>\n",
        "      <th>2771984</th>\n",
        "      <td> 2015-12-01</td>\n",
        "      <td>                                   YELLOW CARROTS</td>\n",
        "      <td> ZUCCHINI (ORGANIC)</td>\n",
        "      <td> NaN</td>\n",
        "      <td> NaN</td>\n",
        "    </tr>\n",
        "    <tr>\n",
        "      <th>2771985</th>\n",
        "      <td> 2015-12-01</td>\n",
        "      <td>                                YELLOW GRAPEFRUIT</td>\n",
        "      <td> ZUCCHINI (ORGANIC)</td>\n",
        "      <td> NaN</td>\n",
        "      <td> NaN</td>\n",
        "    </tr>\n",
        "    <tr>\n",
        "      <th>2771986</th>\n",
        "      <td> 2015-12-01</td>\n",
        "      <td>                                   YELLOW MUSTARD</td>\n",
        "      <td> ZUCCHINI (ORGANIC)</td>\n",
        "      <td> NaN</td>\n",
        "      <td> NaN</td>\n",
        "    </tr>\n",
        "    <tr>\n",
        "      <th>2771987</th>\n",
        "      <td> 2015-12-01</td>\n",
        "      <td>                         ZUCCHINI (CHEMICAL FREE)</td>\n",
        "      <td> ZUCCHINI (ORGANIC)</td>\n",
        "      <td> NaN</td>\n",
        "      <td> NaN</td>\n",
        "    </tr>\n",
        "    <tr>\n",
        "      <th>2771988</th>\n",
        "      <td> 2015-12-01</td>\n",
        "      <td>                               ZUCCHINI (ORGANIC)</td>\n",
        "      <td> ZUCCHINI (ORGANIC)</td>\n",
        "      <td> NaN</td>\n",
        "      <td> NaN</td>\n",
        "    </tr>\n",
        "  </tbody>\n",
        "</table>\n",
        "<p>2771989 rows \u00d7 5 columns</p>\n",
        "</div>"
       ],
       "metadata": {},
       "output_type": "pyout",
       "prompt_number": 14,
       "text": [
        "               Date                                          Product1  \\\n",
        "0        2012-05-01                                      BED TIME TEA   \n",
        "1        2012-05-01                                    BLACK SEED OIL   \n",
        "2        2012-05-01                                      BREATHE WELL   \n",
        "3        2012-05-01                                        BROWN RICE   \n",
        "4        2012-05-01                                       COCONUT OIL   \n",
        "5        2012-05-01                            DRIED PRUNES WITH PITS   \n",
        "6        2012-05-01                     FACE & NECK ANTIWRINKLE CREAM   \n",
        "7        2012-05-01                                  GOLDEN FLAXSEEDS   \n",
        "8        2012-05-01            GREEN TEA WITH ECHINACEA & BLACK SEEDS   \n",
        "9        2012-05-01                     ICED TEA WITH CRANBERRY JUICE   \n",
        "10       2012-05-01                        ICED TEA WITH LEMON FLAVOR   \n",
        "11       2012-05-01                        ICED TEA WITH PEACH FLAVOR   \n",
        "12       2012-05-01                                LIVER WELLNESS TEA   \n",
        "13       2012-05-01                                  MOTHER TO BE TEA   \n",
        "14       2012-05-01                                       NEW MOM TEA   \n",
        "15       2012-05-01                                     OLD GHAR SOAP   \n",
        "16       2012-05-01                                ORGANIC FLAX SEEDS   \n",
        "17       2012-05-01                     ORGANIC SUN-DRIED MANGO CHIPS   \n",
        "18       2012-05-01                          POWER PROTEIN BAR PEANUT   \n",
        "19       2012-05-01                                     PUMPKIN SEEDS   \n",
        "20       2012-05-01  RAVIOLI FIRE ROASTED TOMATO, MOZARELLA AND BASIL   \n",
        "21       2012-05-01                         RAW ALMONDS WITHOUT SHELL   \n",
        "22       2012-05-01                                    RAW BEE POLLEN   \n",
        "23       2012-05-01                                        RAW CASHEW   \n",
        "24       2012-05-01                                         RAW PECAN   \n",
        "25       2012-05-01                              RAW PISTACHIO KERNEL   \n",
        "26       2012-05-01                              RAW SLIVERED ALMONDS   \n",
        "27       2012-05-01                          RAW WALNUT WITHOUT SHELL   \n",
        "28       2012-05-01                             SOY MILK CALCIUM PLUS   \n",
        "29       2012-05-01                  STIR FRY VEGETABLES - DRAGON MIX   \n",
        "...             ...                                               ...   \n",
        "2771959  2015-12-01                  WHEAT FLOUR (SPROUTED) - NATURAL   \n",
        "2771960  2015-12-01                               WHEY PROTEIN (PURE)   \n",
        "2771961  2015-12-01                  WHITE BEANS (ORGANIC) - EGYPTIAN   \n",
        "2771962  2015-12-01                                       WHITE ONION   \n",
        "2771963  2015-12-01                              WHITE SAUCE (FROZEN)   \n",
        "2771964  2015-12-01                              WHITE TEA WITH PEACH   \n",
        "2771965  2015-12-01                            WHOLE CHICKEN (FROZEN)   \n",
        "2771966  2015-12-01             WHOLE CHICKEN - HORMONE FREE (FROZEN)   \n",
        "2771967  2015-12-01                                  WHOLE MEAL FLOUR   \n",
        "2771968  2015-12-01                        WHOLE WHEAT SPINACH PASTRY   \n",
        "2771969  2015-12-01                               WHOLE WHEAT WAFFLES   \n",
        "2771970  2015-12-01               WILD & BROWN RICE MIX (GLUTEN FREE)   \n",
        "2771971  2015-12-01                       WILD GROUPER FILLET (WA2AR)   \n",
        "2771972  2015-12-01                        WILD HABAQ (CHEMICAL FREE)   \n",
        "2771973  2015-12-01                                      WILD LOBSTER   \n",
        "2771974  2015-12-01                                       WILD MORGAN   \n",
        "2771975  2015-12-01                         WILD RED MULLET (BARBOUN)   \n",
        "2771976  2015-12-01                        WILD RICE ( ORGANIC ) 227G   \n",
        "2771977  2015-12-01           WILD RICE CAKES (ORGANIC) - GLUTEN FREE   \n",
        "2771978  2015-12-01                         WILD ROYAL DORAD (DENEES)   \n",
        "2771979  2015-12-01                                     WILD SARDINES   \n",
        "2771980  2015-12-01                              WILD SHRIMP (MEDIUM)   \n",
        "2771981  2015-12-01                               WILD SHRIMP (SMALL)   \n",
        "2771982  2015-12-01                         WILD YELLOW FINTUNA STEAK   \n",
        "2771983  2015-12-01                                     YELLOW APPLES   \n",
        "2771984  2015-12-01                                    YELLOW CARROTS   \n",
        "2771985  2015-12-01                                 YELLOW GRAPEFRUIT   \n",
        "2771986  2015-12-01                                    YELLOW MUSTARD   \n",
        "2771987  2015-12-01                          ZUCCHINI (CHEMICAL FREE)   \n",
        "2771988  2015-12-01                                ZUCCHINI (ORGANIC)   \n",
        "\n",
        "                   Product2 Name Count  \n",
        "0              BED TIME TEA  NaN   NaN  \n",
        "1              BED TIME TEA  NaN   NaN  \n",
        "2              BED TIME TEA  NaN   NaN  \n",
        "3              BED TIME TEA  NaN   NaN  \n",
        "4              BED TIME TEA  NaN   NaN  \n",
        "5              BED TIME TEA  NaN   NaN  \n",
        "6              BED TIME TEA  NaN   NaN  \n",
        "7              BED TIME TEA  NaN   NaN  \n",
        "8              BED TIME TEA  NaN   NaN  \n",
        "9              BED TIME TEA  NaN   NaN  \n",
        "10             BED TIME TEA  NaN   NaN  \n",
        "11             BED TIME TEA  NaN   NaN  \n",
        "12             BED TIME TEA  NaN   NaN  \n",
        "13             BED TIME TEA  NaN   NaN  \n",
        "14             BED TIME TEA  NaN   NaN  \n",
        "15             BED TIME TEA  NaN   NaN  \n",
        "16             BED TIME TEA  NaN   NaN  \n",
        "17             BED TIME TEA  NaN   NaN  \n",
        "18             BED TIME TEA  NaN   NaN  \n",
        "19             BED TIME TEA  NaN   NaN  \n",
        "20             BED TIME TEA  NaN   NaN  \n",
        "21             BED TIME TEA  NaN   NaN  \n",
        "22             BED TIME TEA  NaN   NaN  \n",
        "23             BED TIME TEA  NaN   NaN  \n",
        "24             BED TIME TEA  NaN   NaN  \n",
        "25             BED TIME TEA  NaN   NaN  \n",
        "26             BED TIME TEA  NaN   NaN  \n",
        "27             BED TIME TEA  NaN   NaN  \n",
        "28             BED TIME TEA  NaN   NaN  \n",
        "29             BED TIME TEA  NaN   NaN  \n",
        "...                     ...  ...   ...  \n",
        "2771959  ZUCCHINI (ORGANIC)  NaN   NaN  \n",
        "2771960  ZUCCHINI (ORGANIC)  NaN   NaN  \n",
        "2771961  ZUCCHINI (ORGANIC)  NaN   NaN  \n",
        "2771962  ZUCCHINI (ORGANIC)  NaN   NaN  \n",
        "2771963  ZUCCHINI (ORGANIC)  NaN   NaN  \n",
        "2771964  ZUCCHINI (ORGANIC)  NaN   NaN  \n",
        "2771965  ZUCCHINI (ORGANIC)  NaN   NaN  \n",
        "2771966  ZUCCHINI (ORGANIC)  NaN   NaN  \n",
        "2771967  ZUCCHINI (ORGANIC)  NaN   NaN  \n",
        "2771968  ZUCCHINI (ORGANIC)  NaN   NaN  \n",
        "2771969  ZUCCHINI (ORGANIC)  NaN   NaN  \n",
        "2771970  ZUCCHINI (ORGANIC)  NaN   NaN  \n",
        "2771971  ZUCCHINI (ORGANIC)  NaN   NaN  \n",
        "2771972  ZUCCHINI (ORGANIC)  NaN   NaN  \n",
        "2771973  ZUCCHINI (ORGANIC)  NaN   NaN  \n",
        "2771974  ZUCCHINI (ORGANIC)  NaN   NaN  \n",
        "2771975  ZUCCHINI (ORGANIC)  NaN   NaN  \n",
        "2771976  ZUCCHINI (ORGANIC)  NaN   NaN  \n",
        "2771977  ZUCCHINI (ORGANIC)  NaN   NaN  \n",
        "2771978  ZUCCHINI (ORGANIC)  NaN   NaN  \n",
        "2771979  ZUCCHINI (ORGANIC)  NaN   NaN  \n",
        "2771980  ZUCCHINI (ORGANIC)  NaN   NaN  \n",
        "2771981  ZUCCHINI (ORGANIC)  NaN   NaN  \n",
        "2771982  ZUCCHINI (ORGANIC)  NaN   NaN  \n",
        "2771983  ZUCCHINI (ORGANIC)  NaN   NaN  \n",
        "2771984  ZUCCHINI (ORGANIC)  NaN   NaN  \n",
        "2771985  ZUCCHINI (ORGANIC)  NaN   NaN  \n",
        "2771986  ZUCCHINI (ORGANIC)  NaN   NaN  \n",
        "2771987  ZUCCHINI (ORGANIC)  NaN   NaN  \n",
        "2771988  ZUCCHINI (ORGANIC)  NaN   NaN  \n",
        "\n",
        "[2771989 rows x 5 columns]"
       ]
      }
     ],
     "prompt_number": 14
    },
    {
     "cell_type": "code",
     "collapsed": false,
     "input": [
      "na = []\n",
      "for i in d:\n",
      "    #create a list of lists having orders for each product. \n",
      "    e = df.loc[i,'Name'].tolist()\n",
      "    #add each list of orders for a product with all the list o orders of one product\n",
      "    for k in e:\n",
      "        for j in e:\n",
      "             p = k + j\n",
      "             na.append(p)\n",
      "df1['Name'] = pd.Series(na) #create a series for list 'na' and add to name column\n",
      "df1"
     ],
     "language": "python",
     "metadata": {},
     "outputs": [
      {
       "html": [
        "<div style=\"max-height:1000px;max-width:1500px;overflow:auto;\">\n",
        "<table border=\"1\" class=\"dataframe\">\n",
        "  <thead>\n",
        "    <tr style=\"text-align: right;\">\n",
        "      <th></th>\n",
        "      <th>Date</th>\n",
        "      <th>Product1</th>\n",
        "      <th>Product2</th>\n",
        "      <th>Name</th>\n",
        "      <th>Count</th>\n",
        "    </tr>\n",
        "  </thead>\n",
        "  <tbody>\n",
        "    <tr>\n",
        "      <th>0      </th>\n",
        "      <td> 2012-05-01</td>\n",
        "      <td>                                     BED TIME TEA</td>\n",
        "      <td>       BED TIME TEA</td>\n",
        "      <td>                                      [1017, 1017]</td>\n",
        "      <td> NaN</td>\n",
        "    </tr>\n",
        "    <tr>\n",
        "      <th>1      </th>\n",
        "      <td> 2012-05-01</td>\n",
        "      <td>                                   BLACK SEED OIL</td>\n",
        "      <td>       BED TIME TEA</td>\n",
        "      <td>                                [1017, 1016, 1007]</td>\n",
        "      <td> NaN</td>\n",
        "    </tr>\n",
        "    <tr>\n",
        "      <th>2      </th>\n",
        "      <td> 2012-05-01</td>\n",
        "      <td>                                     BREATHE WELL</td>\n",
        "      <td>       BED TIME TEA</td>\n",
        "      <td>                                      [1017, 1017]</td>\n",
        "      <td> NaN</td>\n",
        "    </tr>\n",
        "    <tr>\n",
        "      <th>3      </th>\n",
        "      <td> 2012-05-01</td>\n",
        "      <td>                                       BROWN RICE</td>\n",
        "      <td>       BED TIME TEA</td>\n",
        "      <td>                    [1017, 1017, 1012, 1010, 1005]</td>\n",
        "      <td> NaN</td>\n",
        "    </tr>\n",
        "    <tr>\n",
        "      <th>4      </th>\n",
        "      <td> 2012-05-01</td>\n",
        "      <td>                                      COCONUT OIL</td>\n",
        "      <td>       BED TIME TEA</td>\n",
        "      <td>                                      [1017, 1013]</td>\n",
        "      <td> NaN</td>\n",
        "    </tr>\n",
        "    <tr>\n",
        "      <th>5      </th>\n",
        "      <td> 2012-05-01</td>\n",
        "      <td>                           DRIED PRUNES WITH PITS</td>\n",
        "      <td>       BED TIME TEA</td>\n",
        "      <td>                                      [1017, 1013]</td>\n",
        "      <td> NaN</td>\n",
        "    </tr>\n",
        "    <tr>\n",
        "      <th>6      </th>\n",
        "      <td> 2012-05-01</td>\n",
        "      <td>                    FACE &amp; NECK ANTIWRINKLE CREAM</td>\n",
        "      <td>       BED TIME TEA</td>\n",
        "      <td>                                      [1017, 1014]</td>\n",
        "      <td> NaN</td>\n",
        "    </tr>\n",
        "    <tr>\n",
        "      <th>7      </th>\n",
        "      <td> 2012-05-01</td>\n",
        "      <td>                                 GOLDEN FLAXSEEDS</td>\n",
        "      <td>       BED TIME TEA</td>\n",
        "      <td>                                      [1017, 1011]</td>\n",
        "      <td> NaN</td>\n",
        "    </tr>\n",
        "    <tr>\n",
        "      <th>8      </th>\n",
        "      <td> 2012-05-01</td>\n",
        "      <td>           GREEN TEA WITH ECHINACEA &amp; BLACK SEEDS</td>\n",
        "      <td>       BED TIME TEA</td>\n",
        "      <td>                                      [1017, 1010]</td>\n",
        "      <td> NaN</td>\n",
        "    </tr>\n",
        "    <tr>\n",
        "      <th>9      </th>\n",
        "      <td> 2012-05-01</td>\n",
        "      <td>                    ICED TEA WITH CRANBERRY JUICE</td>\n",
        "      <td>       BED TIME TEA</td>\n",
        "      <td>                                      [1017, 1017]</td>\n",
        "      <td> NaN</td>\n",
        "    </tr>\n",
        "    <tr>\n",
        "      <th>10     </th>\n",
        "      <td> 2012-05-01</td>\n",
        "      <td>                       ICED TEA WITH LEMON FLAVOR</td>\n",
        "      <td>       BED TIME TEA</td>\n",
        "      <td>                                      [1017, 1017]</td>\n",
        "      <td> NaN</td>\n",
        "    </tr>\n",
        "    <tr>\n",
        "      <th>11     </th>\n",
        "      <td> 2012-05-01</td>\n",
        "      <td>                       ICED TEA WITH PEACH FLAVOR</td>\n",
        "      <td>       BED TIME TEA</td>\n",
        "      <td>                                      [1017, 1017]</td>\n",
        "      <td> NaN</td>\n",
        "    </tr>\n",
        "    <tr>\n",
        "      <th>12     </th>\n",
        "      <td> 2012-05-01</td>\n",
        "      <td>                               LIVER WELLNESS TEA</td>\n",
        "      <td>       BED TIME TEA</td>\n",
        "      <td>                                      [1017, 1005]</td>\n",
        "      <td> NaN</td>\n",
        "    </tr>\n",
        "    <tr>\n",
        "      <th>13     </th>\n",
        "      <td> 2012-05-01</td>\n",
        "      <td>                                 MOTHER TO BE TEA</td>\n",
        "      <td>       BED TIME TEA</td>\n",
        "      <td>                                      [1017, 1017]</td>\n",
        "      <td> NaN</td>\n",
        "    </tr>\n",
        "    <tr>\n",
        "      <th>14     </th>\n",
        "      <td> 2012-05-01</td>\n",
        "      <td>                                      NEW MOM TEA</td>\n",
        "      <td>       BED TIME TEA</td>\n",
        "      <td>                                      [1017, 1017]</td>\n",
        "      <td> NaN</td>\n",
        "    </tr>\n",
        "    <tr>\n",
        "      <th>15     </th>\n",
        "      <td> 2012-05-01</td>\n",
        "      <td>                                    OLD GHAR SOAP</td>\n",
        "      <td>       BED TIME TEA</td>\n",
        "      <td>                                [1017, 1016, 1013]</td>\n",
        "      <td> NaN</td>\n",
        "    </tr>\n",
        "    <tr>\n",
        "      <th>16     </th>\n",
        "      <td> 2012-05-01</td>\n",
        "      <td>                               ORGANIC FLAX SEEDS</td>\n",
        "      <td>       BED TIME TEA</td>\n",
        "      <td>                                      [1017, 1010]</td>\n",
        "      <td> NaN</td>\n",
        "    </tr>\n",
        "    <tr>\n",
        "      <th>17     </th>\n",
        "      <td> 2012-05-01</td>\n",
        "      <td>                    ORGANIC SUN-DRIED MANGO CHIPS</td>\n",
        "      <td>       BED TIME TEA</td>\n",
        "      <td>                                      [1017, 1008]</td>\n",
        "      <td> NaN</td>\n",
        "    </tr>\n",
        "    <tr>\n",
        "      <th>18     </th>\n",
        "      <td> 2012-05-01</td>\n",
        "      <td>                         POWER PROTEIN BAR PEANUT</td>\n",
        "      <td>       BED TIME TEA</td>\n",
        "      <td>                                [1017, 1009, 1006]</td>\n",
        "      <td> NaN</td>\n",
        "    </tr>\n",
        "    <tr>\n",
        "      <th>19     </th>\n",
        "      <td> 2012-05-01</td>\n",
        "      <td>                                    PUMPKIN SEEDS</td>\n",
        "      <td>       BED TIME TEA</td>\n",
        "      <td>                          [1017, 1016, 1010, 1005]</td>\n",
        "      <td> NaN</td>\n",
        "    </tr>\n",
        "    <tr>\n",
        "      <th>20     </th>\n",
        "      <td> 2012-05-01</td>\n",
        "      <td> RAVIOLI FIRE ROASTED TOMATO, MOZARELLA AND BASIL</td>\n",
        "      <td>       BED TIME TEA</td>\n",
        "      <td>                                      [1017, 1010]</td>\n",
        "      <td> NaN</td>\n",
        "    </tr>\n",
        "    <tr>\n",
        "      <th>21     </th>\n",
        "      <td> 2012-05-01</td>\n",
        "      <td>                        RAW ALMONDS WITHOUT SHELL</td>\n",
        "      <td>       BED TIME TEA</td>\n",
        "      <td>                          [1017, 1012, 1008, 1007]</td>\n",
        "      <td> NaN</td>\n",
        "    </tr>\n",
        "    <tr>\n",
        "      <th>22     </th>\n",
        "      <td> 2012-05-01</td>\n",
        "      <td>                                   RAW BEE POLLEN</td>\n",
        "      <td>       BED TIME TEA</td>\n",
        "      <td>                                      [1017, 1007]</td>\n",
        "      <td> NaN</td>\n",
        "    </tr>\n",
        "    <tr>\n",
        "      <th>23     </th>\n",
        "      <td> 2012-05-01</td>\n",
        "      <td>                                       RAW CASHEW</td>\n",
        "      <td>       BED TIME TEA</td>\n",
        "      <td>                                [1017, 1008, 1006]</td>\n",
        "      <td> NaN</td>\n",
        "    </tr>\n",
        "    <tr>\n",
        "      <th>24     </th>\n",
        "      <td> 2012-05-01</td>\n",
        "      <td>                                        RAW PECAN</td>\n",
        "      <td>       BED TIME TEA</td>\n",
        "      <td>                                [1017, 1008, 1006]</td>\n",
        "      <td> NaN</td>\n",
        "    </tr>\n",
        "    <tr>\n",
        "      <th>25     </th>\n",
        "      <td> 2012-05-01</td>\n",
        "      <td>                             RAW PISTACHIO KERNEL</td>\n",
        "      <td>       BED TIME TEA</td>\n",
        "      <td>                                      [1017, 1006]</td>\n",
        "      <td> NaN</td>\n",
        "    </tr>\n",
        "    <tr>\n",
        "      <th>26     </th>\n",
        "      <td> 2012-05-01</td>\n",
        "      <td>                             RAW SLIVERED ALMONDS</td>\n",
        "      <td>       BED TIME TEA</td>\n",
        "      <td>                                      [1017, 1016]</td>\n",
        "      <td> NaN</td>\n",
        "    </tr>\n",
        "    <tr>\n",
        "      <th>27     </th>\n",
        "      <td> 2012-05-01</td>\n",
        "      <td>                         RAW WALNUT WITHOUT SHELL</td>\n",
        "      <td>       BED TIME TEA</td>\n",
        "      <td>                    [1017, 1008, 1007, 1006, 1005]</td>\n",
        "      <td> NaN</td>\n",
        "    </tr>\n",
        "    <tr>\n",
        "      <th>28     </th>\n",
        "      <td> 2012-05-01</td>\n",
        "      <td>                            SOY MILK CALCIUM PLUS</td>\n",
        "      <td>       BED TIME TEA</td>\n",
        "      <td>                                      [1017, 1015]</td>\n",
        "      <td> NaN</td>\n",
        "    </tr>\n",
        "    <tr>\n",
        "      <th>29     </th>\n",
        "      <td> 2012-05-01</td>\n",
        "      <td>                 STIR FRY VEGETABLES - DRAGON MIX</td>\n",
        "      <td>       BED TIME TEA</td>\n",
        "      <td>                                      [1017, 1010]</td>\n",
        "      <td> NaN</td>\n",
        "    </tr>\n",
        "    <tr>\n",
        "      <th>...</th>\n",
        "      <td>...</td>\n",
        "      <td>...</td>\n",
        "      <td>...</td>\n",
        "      <td>...</td>\n",
        "      <td>...</td>\n",
        "    </tr>\n",
        "    <tr>\n",
        "      <th>2771959</th>\n",
        "      <td> 2015-12-01</td>\n",
        "      <td>                 WHEAT FLOUR (SPROUTED) - NATURAL</td>\n",
        "      <td> ZUCCHINI (ORGANIC)</td>\n",
        "      <td>               [10321, 10306, 10218, 10213, 10184]</td>\n",
        "      <td> NaN</td>\n",
        "    </tr>\n",
        "    <tr>\n",
        "      <th>2771960</th>\n",
        "      <td> 2015-12-01</td>\n",
        "      <td>                              WHEY PROTEIN (PURE)</td>\n",
        "      <td> ZUCCHINI (ORGANIC)</td>\n",
        "      <td>               [10321, 10306, 10218, 10213, 10104]</td>\n",
        "      <td> NaN</td>\n",
        "    </tr>\n",
        "    <tr>\n",
        "      <th>2771961</th>\n",
        "      <td> 2015-12-01</td>\n",
        "      <td>                 WHITE BEANS (ORGANIC) - EGYPTIAN</td>\n",
        "      <td> ZUCCHINI (ORGANIC)</td>\n",
        "      <td>        [10321, 10306, 10218, 10213, 10321, 10167]</td>\n",
        "      <td> NaN</td>\n",
        "    </tr>\n",
        "    <tr>\n",
        "      <th>2771962</th>\n",
        "      <td> 2015-12-01</td>\n",
        "      <td>                                      WHITE ONION</td>\n",
        "      <td> ZUCCHINI (ORGANIC)</td>\n",
        "      <td>               [10321, 10306, 10218, 10213, 10291]</td>\n",
        "      <td> NaN</td>\n",
        "    </tr>\n",
        "    <tr>\n",
        "      <th>2771963</th>\n",
        "      <td> 2015-12-01</td>\n",
        "      <td>                             WHITE SAUCE (FROZEN)</td>\n",
        "      <td> ZUCCHINI (ORGANIC)</td>\n",
        "      <td>               [10321, 10306, 10218, 10213, 10151]</td>\n",
        "      <td> NaN</td>\n",
        "    </tr>\n",
        "    <tr>\n",
        "      <th>2771964</th>\n",
        "      <td> 2015-12-01</td>\n",
        "      <td>                             WHITE TEA WITH PEACH</td>\n",
        "      <td> ZUCCHINI (ORGANIC)</td>\n",
        "      <td>               [10321, 10306, 10218, 10213, 10151]</td>\n",
        "      <td> NaN</td>\n",
        "    </tr>\n",
        "    <tr>\n",
        "      <th>2771965</th>\n",
        "      <td> 2015-12-01</td>\n",
        "      <td>                           WHOLE CHICKEN (FROZEN)</td>\n",
        "      <td> ZUCCHINI (ORGANIC)</td>\n",
        "      <td> [10321, 10306, 10218, 10213, 10066, 10055, 100...</td>\n",
        "      <td> NaN</td>\n",
        "    </tr>\n",
        "    <tr>\n",
        "      <th>2771966</th>\n",
        "      <td> 2015-12-01</td>\n",
        "      <td>            WHOLE CHICKEN - HORMONE FREE (FROZEN)</td>\n",
        "      <td> ZUCCHINI (ORGANIC)</td>\n",
        "      <td> [10321, 10306, 10218, 10213, 10366, 10361, 103...</td>\n",
        "      <td> NaN</td>\n",
        "    </tr>\n",
        "    <tr>\n",
        "      <th>2771967</th>\n",
        "      <td> 2015-12-01</td>\n",
        "      <td>                                 WHOLE MEAL FLOUR</td>\n",
        "      <td> ZUCCHINI (ORGANIC)</td>\n",
        "      <td> [10321, 10306, 10218, 10213, 10296, 10282, 102...</td>\n",
        "      <td> NaN</td>\n",
        "    </tr>\n",
        "    <tr>\n",
        "      <th>2771968</th>\n",
        "      <td> 2015-12-01</td>\n",
        "      <td>                       WHOLE WHEAT SPINACH PASTRY</td>\n",
        "      <td> ZUCCHINI (ORGANIC)</td>\n",
        "      <td> [10321, 10306, 10218, 10213, 10195, 10138, 101...</td>\n",
        "      <td> NaN</td>\n",
        "    </tr>\n",
        "    <tr>\n",
        "      <th>2771969</th>\n",
        "      <td> 2015-12-01</td>\n",
        "      <td>                              WHOLE WHEAT WAFFLES</td>\n",
        "      <td> ZUCCHINI (ORGANIC)</td>\n",
        "      <td> [10321, 10306, 10218, 10213, 10142, 10136, 10115]</td>\n",
        "      <td> NaN</td>\n",
        "    </tr>\n",
        "    <tr>\n",
        "      <th>2771970</th>\n",
        "      <td> 2015-12-01</td>\n",
        "      <td>              WILD &amp; BROWN RICE MIX (GLUTEN FREE)</td>\n",
        "      <td> ZUCCHINI (ORGANIC)</td>\n",
        "      <td>               [10321, 10306, 10218, 10213, 10218]</td>\n",
        "      <td> NaN</td>\n",
        "    </tr>\n",
        "    <tr>\n",
        "      <th>2771971</th>\n",
        "      <td> 2015-12-01</td>\n",
        "      <td>                      WILD GROUPER FILLET (WA2AR)</td>\n",
        "      <td> ZUCCHINI (ORGANIC)</td>\n",
        "      <td> [10321, 10306, 10218, 10213, 10257, 10212, 10198]</td>\n",
        "      <td> NaN</td>\n",
        "    </tr>\n",
        "    <tr>\n",
        "      <th>2771972</th>\n",
        "      <td> 2015-12-01</td>\n",
        "      <td>                       WILD HABAQ (CHEMICAL FREE)</td>\n",
        "      <td> ZUCCHINI (ORGANIC)</td>\n",
        "      <td>               [10321, 10306, 10218, 10213, 10188]</td>\n",
        "      <td> NaN</td>\n",
        "    </tr>\n",
        "    <tr>\n",
        "      <th>2771973</th>\n",
        "      <td> 2015-12-01</td>\n",
        "      <td>                                     WILD LOBSTER</td>\n",
        "      <td> ZUCCHINI (ORGANIC)</td>\n",
        "      <td>               [10321, 10306, 10218, 10213, 10198]</td>\n",
        "      <td> NaN</td>\n",
        "    </tr>\n",
        "    <tr>\n",
        "      <th>2771974</th>\n",
        "      <td> 2015-12-01</td>\n",
        "      <td>                                      WILD MORGAN</td>\n",
        "      <td> ZUCCHINI (ORGANIC)</td>\n",
        "      <td>               [10321, 10306, 10218, 10213, 10360]</td>\n",
        "      <td> NaN</td>\n",
        "    </tr>\n",
        "    <tr>\n",
        "      <th>2771975</th>\n",
        "      <td> 2015-12-01</td>\n",
        "      <td>                        WILD RED MULLET (BARBOUN)</td>\n",
        "      <td> ZUCCHINI (ORGANIC)</td>\n",
        "      <td>               [10321, 10306, 10218, 10213, 10262]</td>\n",
        "      <td> NaN</td>\n",
        "    </tr>\n",
        "    <tr>\n",
        "      <th>2771976</th>\n",
        "      <td> 2015-12-01</td>\n",
        "      <td>                       WILD RICE ( ORGANIC ) 227G</td>\n",
        "      <td> ZUCCHINI (ORGANIC)</td>\n",
        "      <td>               [10321, 10306, 10218, 10213, 10321]</td>\n",
        "      <td> NaN</td>\n",
        "    </tr>\n",
        "    <tr>\n",
        "      <th>2771977</th>\n",
        "      <td> 2015-12-01</td>\n",
        "      <td>          WILD RICE CAKES (ORGANIC) - GLUTEN FREE</td>\n",
        "      <td> ZUCCHINI (ORGANIC)</td>\n",
        "      <td>        [10321, 10306, 10218, 10213, 10298, 10191]</td>\n",
        "      <td> NaN</td>\n",
        "    </tr>\n",
        "    <tr>\n",
        "      <th>2771978</th>\n",
        "      <td> 2015-12-01</td>\n",
        "      <td>                        WILD ROYAL DORAD (DENEES)</td>\n",
        "      <td> ZUCCHINI (ORGANIC)</td>\n",
        "      <td> [10321, 10306, 10218, 10213, 10360, 10263, 101...</td>\n",
        "      <td> NaN</td>\n",
        "    </tr>\n",
        "    <tr>\n",
        "      <th>2771979</th>\n",
        "      <td> 2015-12-01</td>\n",
        "      <td>                                    WILD SARDINES</td>\n",
        "      <td> ZUCCHINI (ORGANIC)</td>\n",
        "      <td> [10321, 10306, 10218, 10213, 10351, 10250, 102...</td>\n",
        "      <td> NaN</td>\n",
        "    </tr>\n",
        "    <tr>\n",
        "      <th>2771980</th>\n",
        "      <td> 2015-12-01</td>\n",
        "      <td>                             WILD SHRIMP (MEDIUM)</td>\n",
        "      <td> ZUCCHINI (ORGANIC)</td>\n",
        "      <td> [10321, 10306, 10218, 10213, 10303, 10263, 102...</td>\n",
        "      <td> NaN</td>\n",
        "    </tr>\n",
        "    <tr>\n",
        "      <th>2771981</th>\n",
        "      <td> 2015-12-01</td>\n",
        "      <td>                              WILD SHRIMP (SMALL)</td>\n",
        "      <td> ZUCCHINI (ORGANIC)</td>\n",
        "      <td> [10321, 10306, 10218, 10213, 10362, 10329, 102...</td>\n",
        "      <td> NaN</td>\n",
        "    </tr>\n",
        "    <tr>\n",
        "      <th>2771982</th>\n",
        "      <td> 2015-12-01</td>\n",
        "      <td>                        WILD YELLOW FINTUNA STEAK</td>\n",
        "      <td> ZUCCHINI (ORGANIC)</td>\n",
        "      <td>               [10321, 10306, 10218, 10213, 10265]</td>\n",
        "      <td> NaN</td>\n",
        "    </tr>\n",
        "    <tr>\n",
        "      <th>2771983</th>\n",
        "      <td> 2015-12-01</td>\n",
        "      <td>                                    YELLOW APPLES</td>\n",
        "      <td> ZUCCHINI (ORGANIC)</td>\n",
        "      <td>        [10321, 10306, 10218, 10213, 10316, 10203]</td>\n",
        "      <td> NaN</td>\n",
        "    </tr>\n",
        "    <tr>\n",
        "      <th>2771984</th>\n",
        "      <td> 2015-12-01</td>\n",
        "      <td>                                   YELLOW CARROTS</td>\n",
        "      <td> ZUCCHINI (ORGANIC)</td>\n",
        "      <td> [10321, 10306, 10218, 10213, 10085, 10082, 10065]</td>\n",
        "      <td> NaN</td>\n",
        "    </tr>\n",
        "    <tr>\n",
        "      <th>2771985</th>\n",
        "      <td> 2015-12-01</td>\n",
        "      <td>                                YELLOW GRAPEFRUIT</td>\n",
        "      <td> ZUCCHINI (ORGANIC)</td>\n",
        "      <td>               [10321, 10306, 10218, 10213, 10204]</td>\n",
        "      <td> NaN</td>\n",
        "    </tr>\n",
        "    <tr>\n",
        "      <th>2771986</th>\n",
        "      <td> 2015-12-01</td>\n",
        "      <td>                                   YELLOW MUSTARD</td>\n",
        "      <td> ZUCCHINI (ORGANIC)</td>\n",
        "      <td>        [10321, 10306, 10218, 10213, 10218, 10142]</td>\n",
        "      <td> NaN</td>\n",
        "    </tr>\n",
        "    <tr>\n",
        "      <th>2771987</th>\n",
        "      <td> 2015-12-01</td>\n",
        "      <td>                         ZUCCHINI (CHEMICAL FREE)</td>\n",
        "      <td> ZUCCHINI (ORGANIC)</td>\n",
        "      <td> [10321, 10306, 10218, 10213, 10355, 10351, 103...</td>\n",
        "      <td> NaN</td>\n",
        "    </tr>\n",
        "    <tr>\n",
        "      <th>2771988</th>\n",
        "      <td> 2015-12-01</td>\n",
        "      <td>                               ZUCCHINI (ORGANIC)</td>\n",
        "      <td> ZUCCHINI (ORGANIC)</td>\n",
        "      <td> [10321, 10306, 10218, 10213, 10321, 10306, 102...</td>\n",
        "      <td> NaN</td>\n",
        "    </tr>\n",
        "  </tbody>\n",
        "</table>\n",
        "<p>2771989 rows \u00d7 5 columns</p>\n",
        "</div>"
       ],
       "metadata": {},
       "output_type": "pyout",
       "prompt_number": 15,
       "text": [
        "               Date                                          Product1  \\\n",
        "0        2012-05-01                                      BED TIME TEA   \n",
        "1        2012-05-01                                    BLACK SEED OIL   \n",
        "2        2012-05-01                                      BREATHE WELL   \n",
        "3        2012-05-01                                        BROWN RICE   \n",
        "4        2012-05-01                                       COCONUT OIL   \n",
        "5        2012-05-01                            DRIED PRUNES WITH PITS   \n",
        "6        2012-05-01                     FACE & NECK ANTIWRINKLE CREAM   \n",
        "7        2012-05-01                                  GOLDEN FLAXSEEDS   \n",
        "8        2012-05-01            GREEN TEA WITH ECHINACEA & BLACK SEEDS   \n",
        "9        2012-05-01                     ICED TEA WITH CRANBERRY JUICE   \n",
        "10       2012-05-01                        ICED TEA WITH LEMON FLAVOR   \n",
        "11       2012-05-01                        ICED TEA WITH PEACH FLAVOR   \n",
        "12       2012-05-01                                LIVER WELLNESS TEA   \n",
        "13       2012-05-01                                  MOTHER TO BE TEA   \n",
        "14       2012-05-01                                       NEW MOM TEA   \n",
        "15       2012-05-01                                     OLD GHAR SOAP   \n",
        "16       2012-05-01                                ORGANIC FLAX SEEDS   \n",
        "17       2012-05-01                     ORGANIC SUN-DRIED MANGO CHIPS   \n",
        "18       2012-05-01                          POWER PROTEIN BAR PEANUT   \n",
        "19       2012-05-01                                     PUMPKIN SEEDS   \n",
        "20       2012-05-01  RAVIOLI FIRE ROASTED TOMATO, MOZARELLA AND BASIL   \n",
        "21       2012-05-01                         RAW ALMONDS WITHOUT SHELL   \n",
        "22       2012-05-01                                    RAW BEE POLLEN   \n",
        "23       2012-05-01                                        RAW CASHEW   \n",
        "24       2012-05-01                                         RAW PECAN   \n",
        "25       2012-05-01                              RAW PISTACHIO KERNEL   \n",
        "26       2012-05-01                              RAW SLIVERED ALMONDS   \n",
        "27       2012-05-01                          RAW WALNUT WITHOUT SHELL   \n",
        "28       2012-05-01                             SOY MILK CALCIUM PLUS   \n",
        "29       2012-05-01                  STIR FRY VEGETABLES - DRAGON MIX   \n",
        "...             ...                                               ...   \n",
        "2771959  2015-12-01                  WHEAT FLOUR (SPROUTED) - NATURAL   \n",
        "2771960  2015-12-01                               WHEY PROTEIN (PURE)   \n",
        "2771961  2015-12-01                  WHITE BEANS (ORGANIC) - EGYPTIAN   \n",
        "2771962  2015-12-01                                       WHITE ONION   \n",
        "2771963  2015-12-01                              WHITE SAUCE (FROZEN)   \n",
        "2771964  2015-12-01                              WHITE TEA WITH PEACH   \n",
        "2771965  2015-12-01                            WHOLE CHICKEN (FROZEN)   \n",
        "2771966  2015-12-01             WHOLE CHICKEN - HORMONE FREE (FROZEN)   \n",
        "2771967  2015-12-01                                  WHOLE MEAL FLOUR   \n",
        "2771968  2015-12-01                        WHOLE WHEAT SPINACH PASTRY   \n",
        "2771969  2015-12-01                               WHOLE WHEAT WAFFLES   \n",
        "2771970  2015-12-01               WILD & BROWN RICE MIX (GLUTEN FREE)   \n",
        "2771971  2015-12-01                       WILD GROUPER FILLET (WA2AR)   \n",
        "2771972  2015-12-01                        WILD HABAQ (CHEMICAL FREE)   \n",
        "2771973  2015-12-01                                      WILD LOBSTER   \n",
        "2771974  2015-12-01                                       WILD MORGAN   \n",
        "2771975  2015-12-01                         WILD RED MULLET (BARBOUN)   \n",
        "2771976  2015-12-01                        WILD RICE ( ORGANIC ) 227G   \n",
        "2771977  2015-12-01           WILD RICE CAKES (ORGANIC) - GLUTEN FREE   \n",
        "2771978  2015-12-01                         WILD ROYAL DORAD (DENEES)   \n",
        "2771979  2015-12-01                                     WILD SARDINES   \n",
        "2771980  2015-12-01                              WILD SHRIMP (MEDIUM)   \n",
        "2771981  2015-12-01                               WILD SHRIMP (SMALL)   \n",
        "2771982  2015-12-01                         WILD YELLOW FINTUNA STEAK   \n",
        "2771983  2015-12-01                                     YELLOW APPLES   \n",
        "2771984  2015-12-01                                    YELLOW CARROTS   \n",
        "2771985  2015-12-01                                 YELLOW GRAPEFRUIT   \n",
        "2771986  2015-12-01                                    YELLOW MUSTARD   \n",
        "2771987  2015-12-01                          ZUCCHINI (CHEMICAL FREE)   \n",
        "2771988  2015-12-01                                ZUCCHINI (ORGANIC)   \n",
        "\n",
        "                   Product2  \\\n",
        "0              BED TIME TEA   \n",
        "1              BED TIME TEA   \n",
        "2              BED TIME TEA   \n",
        "3              BED TIME TEA   \n",
        "4              BED TIME TEA   \n",
        "5              BED TIME TEA   \n",
        "6              BED TIME TEA   \n",
        "7              BED TIME TEA   \n",
        "8              BED TIME TEA   \n",
        "9              BED TIME TEA   \n",
        "10             BED TIME TEA   \n",
        "11             BED TIME TEA   \n",
        "12             BED TIME TEA   \n",
        "13             BED TIME TEA   \n",
        "14             BED TIME TEA   \n",
        "15             BED TIME TEA   \n",
        "16             BED TIME TEA   \n",
        "17             BED TIME TEA   \n",
        "18             BED TIME TEA   \n",
        "19             BED TIME TEA   \n",
        "20             BED TIME TEA   \n",
        "21             BED TIME TEA   \n",
        "22             BED TIME TEA   \n",
        "23             BED TIME TEA   \n",
        "24             BED TIME TEA   \n",
        "25             BED TIME TEA   \n",
        "26             BED TIME TEA   \n",
        "27             BED TIME TEA   \n",
        "28             BED TIME TEA   \n",
        "29             BED TIME TEA   \n",
        "...                     ...   \n",
        "2771959  ZUCCHINI (ORGANIC)   \n",
        "2771960  ZUCCHINI (ORGANIC)   \n",
        "2771961  ZUCCHINI (ORGANIC)   \n",
        "2771962  ZUCCHINI (ORGANIC)   \n",
        "2771963  ZUCCHINI (ORGANIC)   \n",
        "2771964  ZUCCHINI (ORGANIC)   \n",
        "2771965  ZUCCHINI (ORGANIC)   \n",
        "2771966  ZUCCHINI (ORGANIC)   \n",
        "2771967  ZUCCHINI (ORGANIC)   \n",
        "2771968  ZUCCHINI (ORGANIC)   \n",
        "2771969  ZUCCHINI (ORGANIC)   \n",
        "2771970  ZUCCHINI (ORGANIC)   \n",
        "2771971  ZUCCHINI (ORGANIC)   \n",
        "2771972  ZUCCHINI (ORGANIC)   \n",
        "2771973  ZUCCHINI (ORGANIC)   \n",
        "2771974  ZUCCHINI (ORGANIC)   \n",
        "2771975  ZUCCHINI (ORGANIC)   \n",
        "2771976  ZUCCHINI (ORGANIC)   \n",
        "2771977  ZUCCHINI (ORGANIC)   \n",
        "2771978  ZUCCHINI (ORGANIC)   \n",
        "2771979  ZUCCHINI (ORGANIC)   \n",
        "2771980  ZUCCHINI (ORGANIC)   \n",
        "2771981  ZUCCHINI (ORGANIC)   \n",
        "2771982  ZUCCHINI (ORGANIC)   \n",
        "2771983  ZUCCHINI (ORGANIC)   \n",
        "2771984  ZUCCHINI (ORGANIC)   \n",
        "2771985  ZUCCHINI (ORGANIC)   \n",
        "2771986  ZUCCHINI (ORGANIC)   \n",
        "2771987  ZUCCHINI (ORGANIC)   \n",
        "2771988  ZUCCHINI (ORGANIC)   \n",
        "\n",
        "                                                      Name Count  \n",
        "0                                             [1017, 1017]   NaN  \n",
        "1                                       [1017, 1016, 1007]   NaN  \n",
        "2                                             [1017, 1017]   NaN  \n",
        "3                           [1017, 1017, 1012, 1010, 1005]   NaN  \n",
        "4                                             [1017, 1013]   NaN  \n",
        "5                                             [1017, 1013]   NaN  \n",
        "6                                             [1017, 1014]   NaN  \n",
        "7                                             [1017, 1011]   NaN  \n",
        "8                                             [1017, 1010]   NaN  \n",
        "9                                             [1017, 1017]   NaN  \n",
        "10                                            [1017, 1017]   NaN  \n",
        "11                                            [1017, 1017]   NaN  \n",
        "12                                            [1017, 1005]   NaN  \n",
        "13                                            [1017, 1017]   NaN  \n",
        "14                                            [1017, 1017]   NaN  \n",
        "15                                      [1017, 1016, 1013]   NaN  \n",
        "16                                            [1017, 1010]   NaN  \n",
        "17                                            [1017, 1008]   NaN  \n",
        "18                                      [1017, 1009, 1006]   NaN  \n",
        "19                                [1017, 1016, 1010, 1005]   NaN  \n",
        "20                                            [1017, 1010]   NaN  \n",
        "21                                [1017, 1012, 1008, 1007]   NaN  \n",
        "22                                            [1017, 1007]   NaN  \n",
        "23                                      [1017, 1008, 1006]   NaN  \n",
        "24                                      [1017, 1008, 1006]   NaN  \n",
        "25                                            [1017, 1006]   NaN  \n",
        "26                                            [1017, 1016]   NaN  \n",
        "27                          [1017, 1008, 1007, 1006, 1005]   NaN  \n",
        "28                                            [1017, 1015]   NaN  \n",
        "29                                            [1017, 1010]   NaN  \n",
        "...                                                    ...   ...  \n",
        "2771959                [10321, 10306, 10218, 10213, 10184]   NaN  \n",
        "2771960                [10321, 10306, 10218, 10213, 10104]   NaN  \n",
        "2771961         [10321, 10306, 10218, 10213, 10321, 10167]   NaN  \n",
        "2771962                [10321, 10306, 10218, 10213, 10291]   NaN  \n",
        "2771963                [10321, 10306, 10218, 10213, 10151]   NaN  \n",
        "2771964                [10321, 10306, 10218, 10213, 10151]   NaN  \n",
        "2771965  [10321, 10306, 10218, 10213, 10066, 10055, 100...   NaN  \n",
        "2771966  [10321, 10306, 10218, 10213, 10366, 10361, 103...   NaN  \n",
        "2771967  [10321, 10306, 10218, 10213, 10296, 10282, 102...   NaN  \n",
        "2771968  [10321, 10306, 10218, 10213, 10195, 10138, 101...   NaN  \n",
        "2771969  [10321, 10306, 10218, 10213, 10142, 10136, 10115]   NaN  \n",
        "2771970                [10321, 10306, 10218, 10213, 10218]   NaN  \n",
        "2771971  [10321, 10306, 10218, 10213, 10257, 10212, 10198]   NaN  \n",
        "2771972                [10321, 10306, 10218, 10213, 10188]   NaN  \n",
        "2771973                [10321, 10306, 10218, 10213, 10198]   NaN  \n",
        "2771974                [10321, 10306, 10218, 10213, 10360]   NaN  \n",
        "2771975                [10321, 10306, 10218, 10213, 10262]   NaN  \n",
        "2771976                [10321, 10306, 10218, 10213, 10321]   NaN  \n",
        "2771977         [10321, 10306, 10218, 10213, 10298, 10191]   NaN  \n",
        "2771978  [10321, 10306, 10218, 10213, 10360, 10263, 101...   NaN  \n",
        "2771979  [10321, 10306, 10218, 10213, 10351, 10250, 102...   NaN  \n",
        "2771980  [10321, 10306, 10218, 10213, 10303, 10263, 102...   NaN  \n",
        "2771981  [10321, 10306, 10218, 10213, 10362, 10329, 102...   NaN  \n",
        "2771982                [10321, 10306, 10218, 10213, 10265]   NaN  \n",
        "2771983         [10321, 10306, 10218, 10213, 10316, 10203]   NaN  \n",
        "2771984  [10321, 10306, 10218, 10213, 10085, 10082, 10065]   NaN  \n",
        "2771985                [10321, 10306, 10218, 10213, 10204]   NaN  \n",
        "2771986         [10321, 10306, 10218, 10213, 10218, 10142]   NaN  \n",
        "2771987  [10321, 10306, 10218, 10213, 10355, 10351, 103...   NaN  \n",
        "2771988  [10321, 10306, 10218, 10213, 10321, 10306, 102...   NaN  \n",
        "\n",
        "[2771989 rows x 5 columns]"
       ]
      }
     ],
     "prompt_number": 15
    },
    {
     "cell_type": "code",
     "collapsed": false,
     "input": [
      "df1 = df1[df1.Product1 != df1.Product2] #remove the rows whose product1 and product2 rows are same\n",
      "df1"
     ],
     "language": "python",
     "metadata": {},
     "outputs": [
      {
       "html": [
        "<div style=\"max-height:1000px;max-width:1500px;overflow:auto;\">\n",
        "<table border=\"1\" class=\"dataframe\">\n",
        "  <thead>\n",
        "    <tr style=\"text-align: right;\">\n",
        "      <th></th>\n",
        "      <th>Date</th>\n",
        "      <th>Product1</th>\n",
        "      <th>Product2</th>\n",
        "      <th>Name</th>\n",
        "      <th>Count</th>\n",
        "    </tr>\n",
        "  </thead>\n",
        "  <tbody>\n",
        "    <tr>\n",
        "      <th>1      </th>\n",
        "      <td> 2012-05-01</td>\n",
        "      <td>                                   BLACK SEED OIL</td>\n",
        "      <td>       BED TIME TEA</td>\n",
        "      <td>                                [1017, 1016, 1007]</td>\n",
        "      <td> NaN</td>\n",
        "    </tr>\n",
        "    <tr>\n",
        "      <th>2      </th>\n",
        "      <td> 2012-05-01</td>\n",
        "      <td>                                     BREATHE WELL</td>\n",
        "      <td>       BED TIME TEA</td>\n",
        "      <td>                                      [1017, 1017]</td>\n",
        "      <td> NaN</td>\n",
        "    </tr>\n",
        "    <tr>\n",
        "      <th>3      </th>\n",
        "      <td> 2012-05-01</td>\n",
        "      <td>                                       BROWN RICE</td>\n",
        "      <td>       BED TIME TEA</td>\n",
        "      <td>                    [1017, 1017, 1012, 1010, 1005]</td>\n",
        "      <td> NaN</td>\n",
        "    </tr>\n",
        "    <tr>\n",
        "      <th>4      </th>\n",
        "      <td> 2012-05-01</td>\n",
        "      <td>                                      COCONUT OIL</td>\n",
        "      <td>       BED TIME TEA</td>\n",
        "      <td>                                      [1017, 1013]</td>\n",
        "      <td> NaN</td>\n",
        "    </tr>\n",
        "    <tr>\n",
        "      <th>5      </th>\n",
        "      <td> 2012-05-01</td>\n",
        "      <td>                           DRIED PRUNES WITH PITS</td>\n",
        "      <td>       BED TIME TEA</td>\n",
        "      <td>                                      [1017, 1013]</td>\n",
        "      <td> NaN</td>\n",
        "    </tr>\n",
        "    <tr>\n",
        "      <th>6      </th>\n",
        "      <td> 2012-05-01</td>\n",
        "      <td>                    FACE &amp; NECK ANTIWRINKLE CREAM</td>\n",
        "      <td>       BED TIME TEA</td>\n",
        "      <td>                                      [1017, 1014]</td>\n",
        "      <td> NaN</td>\n",
        "    </tr>\n",
        "    <tr>\n",
        "      <th>7      </th>\n",
        "      <td> 2012-05-01</td>\n",
        "      <td>                                 GOLDEN FLAXSEEDS</td>\n",
        "      <td>       BED TIME TEA</td>\n",
        "      <td>                                      [1017, 1011]</td>\n",
        "      <td> NaN</td>\n",
        "    </tr>\n",
        "    <tr>\n",
        "      <th>8      </th>\n",
        "      <td> 2012-05-01</td>\n",
        "      <td>           GREEN TEA WITH ECHINACEA &amp; BLACK SEEDS</td>\n",
        "      <td>       BED TIME TEA</td>\n",
        "      <td>                                      [1017, 1010]</td>\n",
        "      <td> NaN</td>\n",
        "    </tr>\n",
        "    <tr>\n",
        "      <th>9      </th>\n",
        "      <td> 2012-05-01</td>\n",
        "      <td>                    ICED TEA WITH CRANBERRY JUICE</td>\n",
        "      <td>       BED TIME TEA</td>\n",
        "      <td>                                      [1017, 1017]</td>\n",
        "      <td> NaN</td>\n",
        "    </tr>\n",
        "    <tr>\n",
        "      <th>10     </th>\n",
        "      <td> 2012-05-01</td>\n",
        "      <td>                       ICED TEA WITH LEMON FLAVOR</td>\n",
        "      <td>       BED TIME TEA</td>\n",
        "      <td>                                      [1017, 1017]</td>\n",
        "      <td> NaN</td>\n",
        "    </tr>\n",
        "    <tr>\n",
        "      <th>11     </th>\n",
        "      <td> 2012-05-01</td>\n",
        "      <td>                       ICED TEA WITH PEACH FLAVOR</td>\n",
        "      <td>       BED TIME TEA</td>\n",
        "      <td>                                      [1017, 1017]</td>\n",
        "      <td> NaN</td>\n",
        "    </tr>\n",
        "    <tr>\n",
        "      <th>12     </th>\n",
        "      <td> 2012-05-01</td>\n",
        "      <td>                               LIVER WELLNESS TEA</td>\n",
        "      <td>       BED TIME TEA</td>\n",
        "      <td>                                      [1017, 1005]</td>\n",
        "      <td> NaN</td>\n",
        "    </tr>\n",
        "    <tr>\n",
        "      <th>13     </th>\n",
        "      <td> 2012-05-01</td>\n",
        "      <td>                                 MOTHER TO BE TEA</td>\n",
        "      <td>       BED TIME TEA</td>\n",
        "      <td>                                      [1017, 1017]</td>\n",
        "      <td> NaN</td>\n",
        "    </tr>\n",
        "    <tr>\n",
        "      <th>14     </th>\n",
        "      <td> 2012-05-01</td>\n",
        "      <td>                                      NEW MOM TEA</td>\n",
        "      <td>       BED TIME TEA</td>\n",
        "      <td>                                      [1017, 1017]</td>\n",
        "      <td> NaN</td>\n",
        "    </tr>\n",
        "    <tr>\n",
        "      <th>15     </th>\n",
        "      <td> 2012-05-01</td>\n",
        "      <td>                                    OLD GHAR SOAP</td>\n",
        "      <td>       BED TIME TEA</td>\n",
        "      <td>                                [1017, 1016, 1013]</td>\n",
        "      <td> NaN</td>\n",
        "    </tr>\n",
        "    <tr>\n",
        "      <th>16     </th>\n",
        "      <td> 2012-05-01</td>\n",
        "      <td>                               ORGANIC FLAX SEEDS</td>\n",
        "      <td>       BED TIME TEA</td>\n",
        "      <td>                                      [1017, 1010]</td>\n",
        "      <td> NaN</td>\n",
        "    </tr>\n",
        "    <tr>\n",
        "      <th>17     </th>\n",
        "      <td> 2012-05-01</td>\n",
        "      <td>                    ORGANIC SUN-DRIED MANGO CHIPS</td>\n",
        "      <td>       BED TIME TEA</td>\n",
        "      <td>                                      [1017, 1008]</td>\n",
        "      <td> NaN</td>\n",
        "    </tr>\n",
        "    <tr>\n",
        "      <th>18     </th>\n",
        "      <td> 2012-05-01</td>\n",
        "      <td>                         POWER PROTEIN BAR PEANUT</td>\n",
        "      <td>       BED TIME TEA</td>\n",
        "      <td>                                [1017, 1009, 1006]</td>\n",
        "      <td> NaN</td>\n",
        "    </tr>\n",
        "    <tr>\n",
        "      <th>19     </th>\n",
        "      <td> 2012-05-01</td>\n",
        "      <td>                                    PUMPKIN SEEDS</td>\n",
        "      <td>       BED TIME TEA</td>\n",
        "      <td>                          [1017, 1016, 1010, 1005]</td>\n",
        "      <td> NaN</td>\n",
        "    </tr>\n",
        "    <tr>\n",
        "      <th>20     </th>\n",
        "      <td> 2012-05-01</td>\n",
        "      <td> RAVIOLI FIRE ROASTED TOMATO, MOZARELLA AND BASIL</td>\n",
        "      <td>       BED TIME TEA</td>\n",
        "      <td>                                      [1017, 1010]</td>\n",
        "      <td> NaN</td>\n",
        "    </tr>\n",
        "    <tr>\n",
        "      <th>21     </th>\n",
        "      <td> 2012-05-01</td>\n",
        "      <td>                        RAW ALMONDS WITHOUT SHELL</td>\n",
        "      <td>       BED TIME TEA</td>\n",
        "      <td>                          [1017, 1012, 1008, 1007]</td>\n",
        "      <td> NaN</td>\n",
        "    </tr>\n",
        "    <tr>\n",
        "      <th>22     </th>\n",
        "      <td> 2012-05-01</td>\n",
        "      <td>                                   RAW BEE POLLEN</td>\n",
        "      <td>       BED TIME TEA</td>\n",
        "      <td>                                      [1017, 1007]</td>\n",
        "      <td> NaN</td>\n",
        "    </tr>\n",
        "    <tr>\n",
        "      <th>23     </th>\n",
        "      <td> 2012-05-01</td>\n",
        "      <td>                                       RAW CASHEW</td>\n",
        "      <td>       BED TIME TEA</td>\n",
        "      <td>                                [1017, 1008, 1006]</td>\n",
        "      <td> NaN</td>\n",
        "    </tr>\n",
        "    <tr>\n",
        "      <th>24     </th>\n",
        "      <td> 2012-05-01</td>\n",
        "      <td>                                        RAW PECAN</td>\n",
        "      <td>       BED TIME TEA</td>\n",
        "      <td>                                [1017, 1008, 1006]</td>\n",
        "      <td> NaN</td>\n",
        "    </tr>\n",
        "    <tr>\n",
        "      <th>25     </th>\n",
        "      <td> 2012-05-01</td>\n",
        "      <td>                             RAW PISTACHIO KERNEL</td>\n",
        "      <td>       BED TIME TEA</td>\n",
        "      <td>                                      [1017, 1006]</td>\n",
        "      <td> NaN</td>\n",
        "    </tr>\n",
        "    <tr>\n",
        "      <th>26     </th>\n",
        "      <td> 2012-05-01</td>\n",
        "      <td>                             RAW SLIVERED ALMONDS</td>\n",
        "      <td>       BED TIME TEA</td>\n",
        "      <td>                                      [1017, 1016]</td>\n",
        "      <td> NaN</td>\n",
        "    </tr>\n",
        "    <tr>\n",
        "      <th>27     </th>\n",
        "      <td> 2012-05-01</td>\n",
        "      <td>                         RAW WALNUT WITHOUT SHELL</td>\n",
        "      <td>       BED TIME TEA</td>\n",
        "      <td>                    [1017, 1008, 1007, 1006, 1005]</td>\n",
        "      <td> NaN</td>\n",
        "    </tr>\n",
        "    <tr>\n",
        "      <th>28     </th>\n",
        "      <td> 2012-05-01</td>\n",
        "      <td>                            SOY MILK CALCIUM PLUS</td>\n",
        "      <td>       BED TIME TEA</td>\n",
        "      <td>                                      [1017, 1015]</td>\n",
        "      <td> NaN</td>\n",
        "    </tr>\n",
        "    <tr>\n",
        "      <th>29     </th>\n",
        "      <td> 2012-05-01</td>\n",
        "      <td>                 STIR FRY VEGETABLES - DRAGON MIX</td>\n",
        "      <td>       BED TIME TEA</td>\n",
        "      <td>                                      [1017, 1010]</td>\n",
        "      <td> NaN</td>\n",
        "    </tr>\n",
        "    <tr>\n",
        "      <th>30     </th>\n",
        "      <td> 2012-05-01</td>\n",
        "      <td>                        TEA TREE ANTISEPTIC CREAM</td>\n",
        "      <td>       BED TIME TEA</td>\n",
        "      <td>                                      [1017, 1010]</td>\n",
        "      <td> NaN</td>\n",
        "    </tr>\n",
        "    <tr>\n",
        "      <th>...</th>\n",
        "      <td>...</td>\n",
        "      <td>...</td>\n",
        "      <td>...</td>\n",
        "      <td>...</td>\n",
        "      <td>...</td>\n",
        "    </tr>\n",
        "    <tr>\n",
        "      <th>2771958</th>\n",
        "      <td> 2015-12-01</td>\n",
        "      <td>                       WATERCRESS (CHEMICAL FREE)</td>\n",
        "      <td> ZUCCHINI (ORGANIC)</td>\n",
        "      <td> [10321, 10306, 10218, 10213, 10365, 10353, 10321]</td>\n",
        "      <td> NaN</td>\n",
        "    </tr>\n",
        "    <tr>\n",
        "      <th>2771959</th>\n",
        "      <td> 2015-12-01</td>\n",
        "      <td>                 WHEAT FLOUR (SPROUTED) - NATURAL</td>\n",
        "      <td> ZUCCHINI (ORGANIC)</td>\n",
        "      <td>               [10321, 10306, 10218, 10213, 10184]</td>\n",
        "      <td> NaN</td>\n",
        "    </tr>\n",
        "    <tr>\n",
        "      <th>2771960</th>\n",
        "      <td> 2015-12-01</td>\n",
        "      <td>                              WHEY PROTEIN (PURE)</td>\n",
        "      <td> ZUCCHINI (ORGANIC)</td>\n",
        "      <td>               [10321, 10306, 10218, 10213, 10104]</td>\n",
        "      <td> NaN</td>\n",
        "    </tr>\n",
        "    <tr>\n",
        "      <th>2771961</th>\n",
        "      <td> 2015-12-01</td>\n",
        "      <td>                 WHITE BEANS (ORGANIC) - EGYPTIAN</td>\n",
        "      <td> ZUCCHINI (ORGANIC)</td>\n",
        "      <td>        [10321, 10306, 10218, 10213, 10321, 10167]</td>\n",
        "      <td> NaN</td>\n",
        "    </tr>\n",
        "    <tr>\n",
        "      <th>2771962</th>\n",
        "      <td> 2015-12-01</td>\n",
        "      <td>                                      WHITE ONION</td>\n",
        "      <td> ZUCCHINI (ORGANIC)</td>\n",
        "      <td>               [10321, 10306, 10218, 10213, 10291]</td>\n",
        "      <td> NaN</td>\n",
        "    </tr>\n",
        "    <tr>\n",
        "      <th>2771963</th>\n",
        "      <td> 2015-12-01</td>\n",
        "      <td>                             WHITE SAUCE (FROZEN)</td>\n",
        "      <td> ZUCCHINI (ORGANIC)</td>\n",
        "      <td>               [10321, 10306, 10218, 10213, 10151]</td>\n",
        "      <td> NaN</td>\n",
        "    </tr>\n",
        "    <tr>\n",
        "      <th>2771964</th>\n",
        "      <td> 2015-12-01</td>\n",
        "      <td>                             WHITE TEA WITH PEACH</td>\n",
        "      <td> ZUCCHINI (ORGANIC)</td>\n",
        "      <td>               [10321, 10306, 10218, 10213, 10151]</td>\n",
        "      <td> NaN</td>\n",
        "    </tr>\n",
        "    <tr>\n",
        "      <th>2771965</th>\n",
        "      <td> 2015-12-01</td>\n",
        "      <td>                           WHOLE CHICKEN (FROZEN)</td>\n",
        "      <td> ZUCCHINI (ORGANIC)</td>\n",
        "      <td> [10321, 10306, 10218, 10213, 10066, 10055, 100...</td>\n",
        "      <td> NaN</td>\n",
        "    </tr>\n",
        "    <tr>\n",
        "      <th>2771966</th>\n",
        "      <td> 2015-12-01</td>\n",
        "      <td>            WHOLE CHICKEN - HORMONE FREE (FROZEN)</td>\n",
        "      <td> ZUCCHINI (ORGANIC)</td>\n",
        "      <td> [10321, 10306, 10218, 10213, 10366, 10361, 103...</td>\n",
        "      <td> NaN</td>\n",
        "    </tr>\n",
        "    <tr>\n",
        "      <th>2771967</th>\n",
        "      <td> 2015-12-01</td>\n",
        "      <td>                                 WHOLE MEAL FLOUR</td>\n",
        "      <td> ZUCCHINI (ORGANIC)</td>\n",
        "      <td> [10321, 10306, 10218, 10213, 10296, 10282, 102...</td>\n",
        "      <td> NaN</td>\n",
        "    </tr>\n",
        "    <tr>\n",
        "      <th>2771968</th>\n",
        "      <td> 2015-12-01</td>\n",
        "      <td>                       WHOLE WHEAT SPINACH PASTRY</td>\n",
        "      <td> ZUCCHINI (ORGANIC)</td>\n",
        "      <td> [10321, 10306, 10218, 10213, 10195, 10138, 101...</td>\n",
        "      <td> NaN</td>\n",
        "    </tr>\n",
        "    <tr>\n",
        "      <th>2771969</th>\n",
        "      <td> 2015-12-01</td>\n",
        "      <td>                              WHOLE WHEAT WAFFLES</td>\n",
        "      <td> ZUCCHINI (ORGANIC)</td>\n",
        "      <td> [10321, 10306, 10218, 10213, 10142, 10136, 10115]</td>\n",
        "      <td> NaN</td>\n",
        "    </tr>\n",
        "    <tr>\n",
        "      <th>2771970</th>\n",
        "      <td> 2015-12-01</td>\n",
        "      <td>              WILD &amp; BROWN RICE MIX (GLUTEN FREE)</td>\n",
        "      <td> ZUCCHINI (ORGANIC)</td>\n",
        "      <td>               [10321, 10306, 10218, 10213, 10218]</td>\n",
        "      <td> NaN</td>\n",
        "    </tr>\n",
        "    <tr>\n",
        "      <th>2771971</th>\n",
        "      <td> 2015-12-01</td>\n",
        "      <td>                      WILD GROUPER FILLET (WA2AR)</td>\n",
        "      <td> ZUCCHINI (ORGANIC)</td>\n",
        "      <td> [10321, 10306, 10218, 10213, 10257, 10212, 10198]</td>\n",
        "      <td> NaN</td>\n",
        "    </tr>\n",
        "    <tr>\n",
        "      <th>2771972</th>\n",
        "      <td> 2015-12-01</td>\n",
        "      <td>                       WILD HABAQ (CHEMICAL FREE)</td>\n",
        "      <td> ZUCCHINI (ORGANIC)</td>\n",
        "      <td>               [10321, 10306, 10218, 10213, 10188]</td>\n",
        "      <td> NaN</td>\n",
        "    </tr>\n",
        "    <tr>\n",
        "      <th>2771973</th>\n",
        "      <td> 2015-12-01</td>\n",
        "      <td>                                     WILD LOBSTER</td>\n",
        "      <td> ZUCCHINI (ORGANIC)</td>\n",
        "      <td>               [10321, 10306, 10218, 10213, 10198]</td>\n",
        "      <td> NaN</td>\n",
        "    </tr>\n",
        "    <tr>\n",
        "      <th>2771974</th>\n",
        "      <td> 2015-12-01</td>\n",
        "      <td>                                      WILD MORGAN</td>\n",
        "      <td> ZUCCHINI (ORGANIC)</td>\n",
        "      <td>               [10321, 10306, 10218, 10213, 10360]</td>\n",
        "      <td> NaN</td>\n",
        "    </tr>\n",
        "    <tr>\n",
        "      <th>2771975</th>\n",
        "      <td> 2015-12-01</td>\n",
        "      <td>                        WILD RED MULLET (BARBOUN)</td>\n",
        "      <td> ZUCCHINI (ORGANIC)</td>\n",
        "      <td>               [10321, 10306, 10218, 10213, 10262]</td>\n",
        "      <td> NaN</td>\n",
        "    </tr>\n",
        "    <tr>\n",
        "      <th>2771976</th>\n",
        "      <td> 2015-12-01</td>\n",
        "      <td>                       WILD RICE ( ORGANIC ) 227G</td>\n",
        "      <td> ZUCCHINI (ORGANIC)</td>\n",
        "      <td>               [10321, 10306, 10218, 10213, 10321]</td>\n",
        "      <td> NaN</td>\n",
        "    </tr>\n",
        "    <tr>\n",
        "      <th>2771977</th>\n",
        "      <td> 2015-12-01</td>\n",
        "      <td>          WILD RICE CAKES (ORGANIC) - GLUTEN FREE</td>\n",
        "      <td> ZUCCHINI (ORGANIC)</td>\n",
        "      <td>        [10321, 10306, 10218, 10213, 10298, 10191]</td>\n",
        "      <td> NaN</td>\n",
        "    </tr>\n",
        "    <tr>\n",
        "      <th>2771978</th>\n",
        "      <td> 2015-12-01</td>\n",
        "      <td>                        WILD ROYAL DORAD (DENEES)</td>\n",
        "      <td> ZUCCHINI (ORGANIC)</td>\n",
        "      <td> [10321, 10306, 10218, 10213, 10360, 10263, 101...</td>\n",
        "      <td> NaN</td>\n",
        "    </tr>\n",
        "    <tr>\n",
        "      <th>2771979</th>\n",
        "      <td> 2015-12-01</td>\n",
        "      <td>                                    WILD SARDINES</td>\n",
        "      <td> ZUCCHINI (ORGANIC)</td>\n",
        "      <td> [10321, 10306, 10218, 10213, 10351, 10250, 102...</td>\n",
        "      <td> NaN</td>\n",
        "    </tr>\n",
        "    <tr>\n",
        "      <th>2771980</th>\n",
        "      <td> 2015-12-01</td>\n",
        "      <td>                             WILD SHRIMP (MEDIUM)</td>\n",
        "      <td> ZUCCHINI (ORGANIC)</td>\n",
        "      <td> [10321, 10306, 10218, 10213, 10303, 10263, 102...</td>\n",
        "      <td> NaN</td>\n",
        "    </tr>\n",
        "    <tr>\n",
        "      <th>2771981</th>\n",
        "      <td> 2015-12-01</td>\n",
        "      <td>                              WILD SHRIMP (SMALL)</td>\n",
        "      <td> ZUCCHINI (ORGANIC)</td>\n",
        "      <td> [10321, 10306, 10218, 10213, 10362, 10329, 102...</td>\n",
        "      <td> NaN</td>\n",
        "    </tr>\n",
        "    <tr>\n",
        "      <th>2771982</th>\n",
        "      <td> 2015-12-01</td>\n",
        "      <td>                        WILD YELLOW FINTUNA STEAK</td>\n",
        "      <td> ZUCCHINI (ORGANIC)</td>\n",
        "      <td>               [10321, 10306, 10218, 10213, 10265]</td>\n",
        "      <td> NaN</td>\n",
        "    </tr>\n",
        "    <tr>\n",
        "      <th>2771983</th>\n",
        "      <td> 2015-12-01</td>\n",
        "      <td>                                    YELLOW APPLES</td>\n",
        "      <td> ZUCCHINI (ORGANIC)</td>\n",
        "      <td>        [10321, 10306, 10218, 10213, 10316, 10203]</td>\n",
        "      <td> NaN</td>\n",
        "    </tr>\n",
        "    <tr>\n",
        "      <th>2771984</th>\n",
        "      <td> 2015-12-01</td>\n",
        "      <td>                                   YELLOW CARROTS</td>\n",
        "      <td> ZUCCHINI (ORGANIC)</td>\n",
        "      <td> [10321, 10306, 10218, 10213, 10085, 10082, 10065]</td>\n",
        "      <td> NaN</td>\n",
        "    </tr>\n",
        "    <tr>\n",
        "      <th>2771985</th>\n",
        "      <td> 2015-12-01</td>\n",
        "      <td>                                YELLOW GRAPEFRUIT</td>\n",
        "      <td> ZUCCHINI (ORGANIC)</td>\n",
        "      <td>               [10321, 10306, 10218, 10213, 10204]</td>\n",
        "      <td> NaN</td>\n",
        "    </tr>\n",
        "    <tr>\n",
        "      <th>2771986</th>\n",
        "      <td> 2015-12-01</td>\n",
        "      <td>                                   YELLOW MUSTARD</td>\n",
        "      <td> ZUCCHINI (ORGANIC)</td>\n",
        "      <td>        [10321, 10306, 10218, 10213, 10218, 10142]</td>\n",
        "      <td> NaN</td>\n",
        "    </tr>\n",
        "    <tr>\n",
        "      <th>2771987</th>\n",
        "      <td> 2015-12-01</td>\n",
        "      <td>                         ZUCCHINI (CHEMICAL FREE)</td>\n",
        "      <td> ZUCCHINI (ORGANIC)</td>\n",
        "      <td> [10321, 10306, 10218, 10213, 10355, 10351, 103...</td>\n",
        "      <td> NaN</td>\n",
        "    </tr>\n",
        "  </tbody>\n",
        "</table>\n",
        "<p>2761902 rows \u00d7 5 columns</p>\n",
        "</div>"
       ],
       "metadata": {},
       "output_type": "pyout",
       "prompt_number": 16,
       "text": [
        "               Date                                          Product1  \\\n",
        "1        2012-05-01                                    BLACK SEED OIL   \n",
        "2        2012-05-01                                      BREATHE WELL   \n",
        "3        2012-05-01                                        BROWN RICE   \n",
        "4        2012-05-01                                       COCONUT OIL   \n",
        "5        2012-05-01                            DRIED PRUNES WITH PITS   \n",
        "6        2012-05-01                     FACE & NECK ANTIWRINKLE CREAM   \n",
        "7        2012-05-01                                  GOLDEN FLAXSEEDS   \n",
        "8        2012-05-01            GREEN TEA WITH ECHINACEA & BLACK SEEDS   \n",
        "9        2012-05-01                     ICED TEA WITH CRANBERRY JUICE   \n",
        "10       2012-05-01                        ICED TEA WITH LEMON FLAVOR   \n",
        "11       2012-05-01                        ICED TEA WITH PEACH FLAVOR   \n",
        "12       2012-05-01                                LIVER WELLNESS TEA   \n",
        "13       2012-05-01                                  MOTHER TO BE TEA   \n",
        "14       2012-05-01                                       NEW MOM TEA   \n",
        "15       2012-05-01                                     OLD GHAR SOAP   \n",
        "16       2012-05-01                                ORGANIC FLAX SEEDS   \n",
        "17       2012-05-01                     ORGANIC SUN-DRIED MANGO CHIPS   \n",
        "18       2012-05-01                          POWER PROTEIN BAR PEANUT   \n",
        "19       2012-05-01                                     PUMPKIN SEEDS   \n",
        "20       2012-05-01  RAVIOLI FIRE ROASTED TOMATO, MOZARELLA AND BASIL   \n",
        "21       2012-05-01                         RAW ALMONDS WITHOUT SHELL   \n",
        "22       2012-05-01                                    RAW BEE POLLEN   \n",
        "23       2012-05-01                                        RAW CASHEW   \n",
        "24       2012-05-01                                         RAW PECAN   \n",
        "25       2012-05-01                              RAW PISTACHIO KERNEL   \n",
        "26       2012-05-01                              RAW SLIVERED ALMONDS   \n",
        "27       2012-05-01                          RAW WALNUT WITHOUT SHELL   \n",
        "28       2012-05-01                             SOY MILK CALCIUM PLUS   \n",
        "29       2012-05-01                  STIR FRY VEGETABLES - DRAGON MIX   \n",
        "30       2012-05-01                         TEA TREE ANTISEPTIC CREAM   \n",
        "...             ...                                               ...   \n",
        "2771958  2015-12-01                        WATERCRESS (CHEMICAL FREE)   \n",
        "2771959  2015-12-01                  WHEAT FLOUR (SPROUTED) - NATURAL   \n",
        "2771960  2015-12-01                               WHEY PROTEIN (PURE)   \n",
        "2771961  2015-12-01                  WHITE BEANS (ORGANIC) - EGYPTIAN   \n",
        "2771962  2015-12-01                                       WHITE ONION   \n",
        "2771963  2015-12-01                              WHITE SAUCE (FROZEN)   \n",
        "2771964  2015-12-01                              WHITE TEA WITH PEACH   \n",
        "2771965  2015-12-01                            WHOLE CHICKEN (FROZEN)   \n",
        "2771966  2015-12-01             WHOLE CHICKEN - HORMONE FREE (FROZEN)   \n",
        "2771967  2015-12-01                                  WHOLE MEAL FLOUR   \n",
        "2771968  2015-12-01                        WHOLE WHEAT SPINACH PASTRY   \n",
        "2771969  2015-12-01                               WHOLE WHEAT WAFFLES   \n",
        "2771970  2015-12-01               WILD & BROWN RICE MIX (GLUTEN FREE)   \n",
        "2771971  2015-12-01                       WILD GROUPER FILLET (WA2AR)   \n",
        "2771972  2015-12-01                        WILD HABAQ (CHEMICAL FREE)   \n",
        "2771973  2015-12-01                                      WILD LOBSTER   \n",
        "2771974  2015-12-01                                       WILD MORGAN   \n",
        "2771975  2015-12-01                         WILD RED MULLET (BARBOUN)   \n",
        "2771976  2015-12-01                        WILD RICE ( ORGANIC ) 227G   \n",
        "2771977  2015-12-01           WILD RICE CAKES (ORGANIC) - GLUTEN FREE   \n",
        "2771978  2015-12-01                         WILD ROYAL DORAD (DENEES)   \n",
        "2771979  2015-12-01                                     WILD SARDINES   \n",
        "2771980  2015-12-01                              WILD SHRIMP (MEDIUM)   \n",
        "2771981  2015-12-01                               WILD SHRIMP (SMALL)   \n",
        "2771982  2015-12-01                         WILD YELLOW FINTUNA STEAK   \n",
        "2771983  2015-12-01                                     YELLOW APPLES   \n",
        "2771984  2015-12-01                                    YELLOW CARROTS   \n",
        "2771985  2015-12-01                                 YELLOW GRAPEFRUIT   \n",
        "2771986  2015-12-01                                    YELLOW MUSTARD   \n",
        "2771987  2015-12-01                          ZUCCHINI (CHEMICAL FREE)   \n",
        "\n",
        "                   Product2  \\\n",
        "1              BED TIME TEA   \n",
        "2              BED TIME TEA   \n",
        "3              BED TIME TEA   \n",
        "4              BED TIME TEA   \n",
        "5              BED TIME TEA   \n",
        "6              BED TIME TEA   \n",
        "7              BED TIME TEA   \n",
        "8              BED TIME TEA   \n",
        "9              BED TIME TEA   \n",
        "10             BED TIME TEA   \n",
        "11             BED TIME TEA   \n",
        "12             BED TIME TEA   \n",
        "13             BED TIME TEA   \n",
        "14             BED TIME TEA   \n",
        "15             BED TIME TEA   \n",
        "16             BED TIME TEA   \n",
        "17             BED TIME TEA   \n",
        "18             BED TIME TEA   \n",
        "19             BED TIME TEA   \n",
        "20             BED TIME TEA   \n",
        "21             BED TIME TEA   \n",
        "22             BED TIME TEA   \n",
        "23             BED TIME TEA   \n",
        "24             BED TIME TEA   \n",
        "25             BED TIME TEA   \n",
        "26             BED TIME TEA   \n",
        "27             BED TIME TEA   \n",
        "28             BED TIME TEA   \n",
        "29             BED TIME TEA   \n",
        "30             BED TIME TEA   \n",
        "...                     ...   \n",
        "2771958  ZUCCHINI (ORGANIC)   \n",
        "2771959  ZUCCHINI (ORGANIC)   \n",
        "2771960  ZUCCHINI (ORGANIC)   \n",
        "2771961  ZUCCHINI (ORGANIC)   \n",
        "2771962  ZUCCHINI (ORGANIC)   \n",
        "2771963  ZUCCHINI (ORGANIC)   \n",
        "2771964  ZUCCHINI (ORGANIC)   \n",
        "2771965  ZUCCHINI (ORGANIC)   \n",
        "2771966  ZUCCHINI (ORGANIC)   \n",
        "2771967  ZUCCHINI (ORGANIC)   \n",
        "2771968  ZUCCHINI (ORGANIC)   \n",
        "2771969  ZUCCHINI (ORGANIC)   \n",
        "2771970  ZUCCHINI (ORGANIC)   \n",
        "2771971  ZUCCHINI (ORGANIC)   \n",
        "2771972  ZUCCHINI (ORGANIC)   \n",
        "2771973  ZUCCHINI (ORGANIC)   \n",
        "2771974  ZUCCHINI (ORGANIC)   \n",
        "2771975  ZUCCHINI (ORGANIC)   \n",
        "2771976  ZUCCHINI (ORGANIC)   \n",
        "2771977  ZUCCHINI (ORGANIC)   \n",
        "2771978  ZUCCHINI (ORGANIC)   \n",
        "2771979  ZUCCHINI (ORGANIC)   \n",
        "2771980  ZUCCHINI (ORGANIC)   \n",
        "2771981  ZUCCHINI (ORGANIC)   \n",
        "2771982  ZUCCHINI (ORGANIC)   \n",
        "2771983  ZUCCHINI (ORGANIC)   \n",
        "2771984  ZUCCHINI (ORGANIC)   \n",
        "2771985  ZUCCHINI (ORGANIC)   \n",
        "2771986  ZUCCHINI (ORGANIC)   \n",
        "2771987  ZUCCHINI (ORGANIC)   \n",
        "\n",
        "                                                      Name Count  \n",
        "1                                       [1017, 1016, 1007]   NaN  \n",
        "2                                             [1017, 1017]   NaN  \n",
        "3                           [1017, 1017, 1012, 1010, 1005]   NaN  \n",
        "4                                             [1017, 1013]   NaN  \n",
        "5                                             [1017, 1013]   NaN  \n",
        "6                                             [1017, 1014]   NaN  \n",
        "7                                             [1017, 1011]   NaN  \n",
        "8                                             [1017, 1010]   NaN  \n",
        "9                                             [1017, 1017]   NaN  \n",
        "10                                            [1017, 1017]   NaN  \n",
        "11                                            [1017, 1017]   NaN  \n",
        "12                                            [1017, 1005]   NaN  \n",
        "13                                            [1017, 1017]   NaN  \n",
        "14                                            [1017, 1017]   NaN  \n",
        "15                                      [1017, 1016, 1013]   NaN  \n",
        "16                                            [1017, 1010]   NaN  \n",
        "17                                            [1017, 1008]   NaN  \n",
        "18                                      [1017, 1009, 1006]   NaN  \n",
        "19                                [1017, 1016, 1010, 1005]   NaN  \n",
        "20                                            [1017, 1010]   NaN  \n",
        "21                                [1017, 1012, 1008, 1007]   NaN  \n",
        "22                                            [1017, 1007]   NaN  \n",
        "23                                      [1017, 1008, 1006]   NaN  \n",
        "24                                      [1017, 1008, 1006]   NaN  \n",
        "25                                            [1017, 1006]   NaN  \n",
        "26                                            [1017, 1016]   NaN  \n",
        "27                          [1017, 1008, 1007, 1006, 1005]   NaN  \n",
        "28                                            [1017, 1015]   NaN  \n",
        "29                                            [1017, 1010]   NaN  \n",
        "30                                            [1017, 1010]   NaN  \n",
        "...                                                    ...   ...  \n",
        "2771958  [10321, 10306, 10218, 10213, 10365, 10353, 10321]   NaN  \n",
        "2771959                [10321, 10306, 10218, 10213, 10184]   NaN  \n",
        "2771960                [10321, 10306, 10218, 10213, 10104]   NaN  \n",
        "2771961         [10321, 10306, 10218, 10213, 10321, 10167]   NaN  \n",
        "2771962                [10321, 10306, 10218, 10213, 10291]   NaN  \n",
        "2771963                [10321, 10306, 10218, 10213, 10151]   NaN  \n",
        "2771964                [10321, 10306, 10218, 10213, 10151]   NaN  \n",
        "2771965  [10321, 10306, 10218, 10213, 10066, 10055, 100...   NaN  \n",
        "2771966  [10321, 10306, 10218, 10213, 10366, 10361, 103...   NaN  \n",
        "2771967  [10321, 10306, 10218, 10213, 10296, 10282, 102...   NaN  \n",
        "2771968  [10321, 10306, 10218, 10213, 10195, 10138, 101...   NaN  \n",
        "2771969  [10321, 10306, 10218, 10213, 10142, 10136, 10115]   NaN  \n",
        "2771970                [10321, 10306, 10218, 10213, 10218]   NaN  \n",
        "2771971  [10321, 10306, 10218, 10213, 10257, 10212, 10198]   NaN  \n",
        "2771972                [10321, 10306, 10218, 10213, 10188]   NaN  \n",
        "2771973                [10321, 10306, 10218, 10213, 10198]   NaN  \n",
        "2771974                [10321, 10306, 10218, 10213, 10360]   NaN  \n",
        "2771975                [10321, 10306, 10218, 10213, 10262]   NaN  \n",
        "2771976                [10321, 10306, 10218, 10213, 10321]   NaN  \n",
        "2771977         [10321, 10306, 10218, 10213, 10298, 10191]   NaN  \n",
        "2771978  [10321, 10306, 10218, 10213, 10360, 10263, 101...   NaN  \n",
        "2771979  [10321, 10306, 10218, 10213, 10351, 10250, 102...   NaN  \n",
        "2771980  [10321, 10306, 10218, 10213, 10303, 10263, 102...   NaN  \n",
        "2771981  [10321, 10306, 10218, 10213, 10362, 10329, 102...   NaN  \n",
        "2771982                [10321, 10306, 10218, 10213, 10265]   NaN  \n",
        "2771983         [10321, 10306, 10218, 10213, 10316, 10203]   NaN  \n",
        "2771984  [10321, 10306, 10218, 10213, 10085, 10082, 10065]   NaN  \n",
        "2771985                [10321, 10306, 10218, 10213, 10204]   NaN  \n",
        "2771986         [10321, 10306, 10218, 10213, 10218, 10142]   NaN  \n",
        "2771987  [10321, 10306, 10218, 10213, 10355, 10351, 103...   NaN  \n",
        "\n",
        "[2761902 rows x 5 columns]"
       ]
      }
     ],
     "prompt_number": 16
    },
    {
     "cell_type": "code",
     "collapsed": false,
     "input": [
      "df1['Count'] = df1.Name.apply(getUnique)\n",
      "df1 = df1[df1.Count != 0] #remove rows with 0 count\n",
      "df1"
     ],
     "language": "python",
     "metadata": {},
     "outputs": [
      {
       "output_type": "stream",
       "stream": "stderr",
       "text": [
        "-c:1: SettingWithCopyWarning: \n",
        "A value is trying to be set on a copy of a slice from a DataFrame.\n",
        "Try using .loc[row_indexer,col_indexer] = value instead\n",
        "\n",
        "See the the caveats in the documentation: http://pandas.pydata.org/pandas-docs/stable/indexing.html#indexing-view-versus-copy\n"
       ]
      },
      {
       "html": [
        "<div style=\"max-height:1000px;max-width:1500px;overflow:auto;\">\n",
        "<table border=\"1\" class=\"dataframe\">\n",
        "  <thead>\n",
        "    <tr style=\"text-align: right;\">\n",
        "      <th></th>\n",
        "      <th>Date</th>\n",
        "      <th>Product1</th>\n",
        "      <th>Product2</th>\n",
        "      <th>Name</th>\n",
        "      <th>Count</th>\n",
        "    </tr>\n",
        "  </thead>\n",
        "  <tbody>\n",
        "    <tr>\n",
        "      <th>2      </th>\n",
        "      <td> 2012-05-01</td>\n",
        "      <td>                           BREATHE WELL</td>\n",
        "      <td>       BED TIME TEA</td>\n",
        "      <td>                                      [1017, 1017]</td>\n",
        "      <td> 1</td>\n",
        "    </tr>\n",
        "    <tr>\n",
        "      <th>3      </th>\n",
        "      <td> 2012-05-01</td>\n",
        "      <td>                             BROWN RICE</td>\n",
        "      <td>       BED TIME TEA</td>\n",
        "      <td>                    [1017, 1017, 1012, 1010, 1005]</td>\n",
        "      <td> 1</td>\n",
        "    </tr>\n",
        "    <tr>\n",
        "      <th>9      </th>\n",
        "      <td> 2012-05-01</td>\n",
        "      <td>          ICED TEA WITH CRANBERRY JUICE</td>\n",
        "      <td>       BED TIME TEA</td>\n",
        "      <td>                                      [1017, 1017]</td>\n",
        "      <td> 1</td>\n",
        "    </tr>\n",
        "    <tr>\n",
        "      <th>10     </th>\n",
        "      <td> 2012-05-01</td>\n",
        "      <td>             ICED TEA WITH LEMON FLAVOR</td>\n",
        "      <td>       BED TIME TEA</td>\n",
        "      <td>                                      [1017, 1017]</td>\n",
        "      <td> 1</td>\n",
        "    </tr>\n",
        "    <tr>\n",
        "      <th>11     </th>\n",
        "      <td> 2012-05-01</td>\n",
        "      <td>             ICED TEA WITH PEACH FLAVOR</td>\n",
        "      <td>       BED TIME TEA</td>\n",
        "      <td>                                      [1017, 1017]</td>\n",
        "      <td> 1</td>\n",
        "    </tr>\n",
        "    <tr>\n",
        "      <th>13     </th>\n",
        "      <td> 2012-05-01</td>\n",
        "      <td>                       MOTHER TO BE TEA</td>\n",
        "      <td>       BED TIME TEA</td>\n",
        "      <td>                                      [1017, 1017]</td>\n",
        "      <td> 1</td>\n",
        "    </tr>\n",
        "    <tr>\n",
        "      <th>14     </th>\n",
        "      <td> 2012-05-01</td>\n",
        "      <td>                            NEW MOM TEA</td>\n",
        "      <td>       BED TIME TEA</td>\n",
        "      <td>                                      [1017, 1017]</td>\n",
        "      <td> 1</td>\n",
        "    </tr>\n",
        "    <tr>\n",
        "      <th>46     </th>\n",
        "      <td> 2012-05-01</td>\n",
        "      <td>                          OLD GHAR SOAP</td>\n",
        "      <td>     BLACK SEED OIL</td>\n",
        "      <td>                          [1016, 1007, 1016, 1013]</td>\n",
        "      <td> 1</td>\n",
        "    </tr>\n",
        "    <tr>\n",
        "      <th>50     </th>\n",
        "      <td> 2012-05-01</td>\n",
        "      <td>                          PUMPKIN SEEDS</td>\n",
        "      <td>     BLACK SEED OIL</td>\n",
        "      <td>                    [1016, 1007, 1016, 1010, 1005]</td>\n",
        "      <td> 1</td>\n",
        "    </tr>\n",
        "    <tr>\n",
        "      <th>52     </th>\n",
        "      <td> 2012-05-01</td>\n",
        "      <td>              RAW ALMONDS WITHOUT SHELL</td>\n",
        "      <td>     BLACK SEED OIL</td>\n",
        "      <td>                    [1016, 1007, 1012, 1008, 1007]</td>\n",
        "      <td> 1</td>\n",
        "    </tr>\n",
        "    <tr>\n",
        "      <th>53     </th>\n",
        "      <td> 2012-05-01</td>\n",
        "      <td>                         RAW BEE POLLEN</td>\n",
        "      <td>     BLACK SEED OIL</td>\n",
        "      <td>                                [1016, 1007, 1007]</td>\n",
        "      <td> 1</td>\n",
        "    </tr>\n",
        "    <tr>\n",
        "      <th>57     </th>\n",
        "      <td> 2012-05-01</td>\n",
        "      <td>                   RAW SLIVERED ALMONDS</td>\n",
        "      <td>     BLACK SEED OIL</td>\n",
        "      <td>                                [1016, 1007, 1016]</td>\n",
        "      <td> 1</td>\n",
        "    </tr>\n",
        "    <tr>\n",
        "      <th>58     </th>\n",
        "      <td> 2012-05-01</td>\n",
        "      <td>               RAW WALNUT WITHOUT SHELL</td>\n",
        "      <td>     BLACK SEED OIL</td>\n",
        "      <td>              [1016, 1007, 1008, 1007, 1006, 1005]</td>\n",
        "      <td> 1</td>\n",
        "    </tr>\n",
        "    <tr>\n",
        "      <th>62     </th>\n",
        "      <td> 2012-05-01</td>\n",
        "      <td>                           BED TIME TEA</td>\n",
        "      <td>       BREATHE WELL</td>\n",
        "      <td>                                      [1017, 1017]</td>\n",
        "      <td> 1</td>\n",
        "    </tr>\n",
        "    <tr>\n",
        "      <th>65     </th>\n",
        "      <td> 2012-05-01</td>\n",
        "      <td>                             BROWN RICE</td>\n",
        "      <td>       BREATHE WELL</td>\n",
        "      <td>                    [1017, 1017, 1012, 1010, 1005]</td>\n",
        "      <td> 1</td>\n",
        "    </tr>\n",
        "    <tr>\n",
        "      <th>71     </th>\n",
        "      <td> 2012-05-01</td>\n",
        "      <td>          ICED TEA WITH CRANBERRY JUICE</td>\n",
        "      <td>       BREATHE WELL</td>\n",
        "      <td>                                      [1017, 1017]</td>\n",
        "      <td> 1</td>\n",
        "    </tr>\n",
        "    <tr>\n",
        "      <th>72     </th>\n",
        "      <td> 2012-05-01</td>\n",
        "      <td>             ICED TEA WITH LEMON FLAVOR</td>\n",
        "      <td>       BREATHE WELL</td>\n",
        "      <td>                                      [1017, 1017]</td>\n",
        "      <td> 1</td>\n",
        "    </tr>\n",
        "    <tr>\n",
        "      <th>73     </th>\n",
        "      <td> 2012-05-01</td>\n",
        "      <td>             ICED TEA WITH PEACH FLAVOR</td>\n",
        "      <td>       BREATHE WELL</td>\n",
        "      <td>                                      [1017, 1017]</td>\n",
        "      <td> 1</td>\n",
        "    </tr>\n",
        "    <tr>\n",
        "      <th>75     </th>\n",
        "      <td> 2012-05-01</td>\n",
        "      <td>                       MOTHER TO BE TEA</td>\n",
        "      <td>       BREATHE WELL</td>\n",
        "      <td>                                      [1017, 1017]</td>\n",
        "      <td> 1</td>\n",
        "    </tr>\n",
        "    <tr>\n",
        "      <th>76     </th>\n",
        "      <td> 2012-05-01</td>\n",
        "      <td>                            NEW MOM TEA</td>\n",
        "      <td>       BREATHE WELL</td>\n",
        "      <td>                                      [1017, 1017]</td>\n",
        "      <td> 1</td>\n",
        "    </tr>\n",
        "    <tr>\n",
        "      <th>93     </th>\n",
        "      <td> 2012-05-01</td>\n",
        "      <td>                           BED TIME TEA</td>\n",
        "      <td>         BROWN RICE</td>\n",
        "      <td>                    [1017, 1012, 1010, 1005, 1017]</td>\n",
        "      <td> 1</td>\n",
        "    </tr>\n",
        "    <tr>\n",
        "      <th>95     </th>\n",
        "      <td> 2012-05-01</td>\n",
        "      <td>                           BREATHE WELL</td>\n",
        "      <td>         BROWN RICE</td>\n",
        "      <td>                    [1017, 1012, 1010, 1005, 1017]</td>\n",
        "      <td> 1</td>\n",
        "    </tr>\n",
        "    <tr>\n",
        "      <th>101    </th>\n",
        "      <td> 2012-05-01</td>\n",
        "      <td> GREEN TEA WITH ECHINACEA &amp; BLACK SEEDS</td>\n",
        "      <td>         BROWN RICE</td>\n",
        "      <td>                    [1017, 1012, 1010, 1005, 1010]</td>\n",
        "      <td> 1</td>\n",
        "    </tr>\n",
        "    <tr>\n",
        "      <th>102    </th>\n",
        "      <td> 2012-05-01</td>\n",
        "      <td>          ICED TEA WITH CRANBERRY JUICE</td>\n",
        "      <td>         BROWN RICE</td>\n",
        "      <td>                    [1017, 1012, 1010, 1005, 1017]</td>\n",
        "      <td> 1</td>\n",
        "    </tr>\n",
        "    <tr>\n",
        "      <th>103    </th>\n",
        "      <td> 2012-05-01</td>\n",
        "      <td>             ICED TEA WITH LEMON FLAVOR</td>\n",
        "      <td>         BROWN RICE</td>\n",
        "      <td>                    [1017, 1012, 1010, 1005, 1017]</td>\n",
        "      <td> 1</td>\n",
        "    </tr>\n",
        "    <tr>\n",
        "      <th>104    </th>\n",
        "      <td> 2012-05-01</td>\n",
        "      <td>             ICED TEA WITH PEACH FLAVOR</td>\n",
        "      <td>         BROWN RICE</td>\n",
        "      <td>                    [1017, 1012, 1010, 1005, 1017]</td>\n",
        "      <td> 1</td>\n",
        "    </tr>\n",
        "    <tr>\n",
        "      <th>105    </th>\n",
        "      <td> 2012-05-01</td>\n",
        "      <td>                     LIVER WELLNESS TEA</td>\n",
        "      <td>         BROWN RICE</td>\n",
        "      <td>                    [1017, 1012, 1010, 1005, 1005]</td>\n",
        "      <td> 1</td>\n",
        "    </tr>\n",
        "    <tr>\n",
        "      <th>106    </th>\n",
        "      <td> 2012-05-01</td>\n",
        "      <td>                       MOTHER TO BE TEA</td>\n",
        "      <td>         BROWN RICE</td>\n",
        "      <td>                    [1017, 1012, 1010, 1005, 1017]</td>\n",
        "      <td> 1</td>\n",
        "    </tr>\n",
        "    <tr>\n",
        "      <th>107    </th>\n",
        "      <td> 2012-05-01</td>\n",
        "      <td>                            NEW MOM TEA</td>\n",
        "      <td>         BROWN RICE</td>\n",
        "      <td>                    [1017, 1012, 1010, 1005, 1017]</td>\n",
        "      <td> 1</td>\n",
        "    </tr>\n",
        "    <tr>\n",
        "      <th>109    </th>\n",
        "      <td> 2012-05-01</td>\n",
        "      <td>                     ORGANIC FLAX SEEDS</td>\n",
        "      <td>         BROWN RICE</td>\n",
        "      <td>                    [1017, 1012, 1010, 1005, 1010]</td>\n",
        "      <td> 1</td>\n",
        "    </tr>\n",
        "    <tr>\n",
        "      <th>...</th>\n",
        "      <td>...</td>\n",
        "      <td>...</td>\n",
        "      <td>...</td>\n",
        "      <td>...</td>\n",
        "      <td>...</td>\n",
        "    </tr>\n",
        "    <tr>\n",
        "      <th>2771706</th>\n",
        "      <td> 2015-12-01</td>\n",
        "      <td>                 CELERY (CHEMICAL FREE)</td>\n",
        "      <td> ZUCCHINI (ORGANIC)</td>\n",
        "      <td> [10321, 10306, 10218, 10213, 10306, 10291, 102...</td>\n",
        "      <td> 2</td>\n",
        "    </tr>\n",
        "    <tr>\n",
        "      <th>2771710</th>\n",
        "      <td> 2015-12-01</td>\n",
        "      <td> CHICKEN BREAST - HORMONE FREE (FROZEN)</td>\n",
        "      <td> ZUCCHINI (ORGANIC)</td>\n",
        "      <td> [10321, 10306, 10218, 10213, 10367, 10365, 103...</td>\n",
        "      <td> 1</td>\n",
        "    </tr>\n",
        "    <tr>\n",
        "      <th>2771723</th>\n",
        "      <td> 2015-12-01</td>\n",
        "      <td>                 CHIVES (CHEMICAL FREE)</td>\n",
        "      <td> ZUCCHINI (ORGANIC)</td>\n",
        "      <td> [10321, 10306, 10218, 10213, 10351, 10312, 103...</td>\n",
        "      <td> 2</td>\n",
        "    </tr>\n",
        "    <tr>\n",
        "      <th>2771741</th>\n",
        "      <td> 2015-12-01</td>\n",
        "      <td>             CREAMY BUCKWHEAT (ORGANIC)</td>\n",
        "      <td> ZUCCHINI (ORGANIC)</td>\n",
        "      <td>               [10321, 10306, 10218, 10213, 10321]</td>\n",
        "      <td> 1</td>\n",
        "    </tr>\n",
        "    <tr>\n",
        "      <th>2771743</th>\n",
        "      <td> 2015-12-01</td>\n",
        "      <td>                     CUCUMBER (ORGANIC)</td>\n",
        "      <td> ZUCCHINI (ORGANIC)</td>\n",
        "      <td> [10321, 10306, 10218, 10213, 10306, 10265, 102...</td>\n",
        "      <td> 2</td>\n",
        "    </tr>\n",
        "    <tr>\n",
        "      <th>2771755</th>\n",
        "      <td> 2015-12-01</td>\n",
        "      <td>                     DRIED GOJI BERRIES</td>\n",
        "      <td> ZUCCHINI (ORGANIC)</td>\n",
        "      <td> [10321, 10306, 10218, 10213, 10351, 10321, 103...</td>\n",
        "      <td> 1</td>\n",
        "    </tr>\n",
        "    <tr>\n",
        "      <th>2771774</th>\n",
        "      <td> 2015-12-01</td>\n",
        "      <td>            FREEKEH (CRACKED) - ORGANIC</td>\n",
        "      <td> ZUCCHINI (ORGANIC)</td>\n",
        "      <td>               [10321, 10306, 10218, 10213, 10321]</td>\n",
        "      <td> 1</td>\n",
        "    </tr>\n",
        "    <tr>\n",
        "      <th>2771784</th>\n",
        "      <td> 2015-12-01</td>\n",
        "      <td>                 GRANOLA NATURAL CEREAL</td>\n",
        "      <td> ZUCCHINI (ORGANIC)</td>\n",
        "      <td>        [10321, 10306, 10218, 10213, 10321, 10297]</td>\n",
        "      <td> 1</td>\n",
        "    </tr>\n",
        "    <tr>\n",
        "      <th>2771805</th>\n",
        "      <td> 2015-12-01</td>\n",
        "      <td>                   KALE (CHEMICAL FREE)</td>\n",
        "      <td> ZUCCHINI (ORGANIC)</td>\n",
        "      <td> [10321, 10306, 10218, 10213, 10360, 10351, 103...</td>\n",
        "      <td> 2</td>\n",
        "    </tr>\n",
        "    <tr>\n",
        "      <th>2771809</th>\n",
        "      <td> 2015-12-01</td>\n",
        "      <td>            LENTIL (ORGANIC) - EGYPTIAN</td>\n",
        "      <td> ZUCCHINI (ORGANIC)</td>\n",
        "      <td> [10321, 10306, 10218, 10213, 10342, 10321, 103...</td>\n",
        "      <td> 1</td>\n",
        "    </tr>\n",
        "    <tr>\n",
        "      <th>2771817</th>\n",
        "      <td> 2015-12-01</td>\n",
        "      <td>               LOW CARB BREAD MIX FLOUR</td>\n",
        "      <td> ZUCCHINI (ORGANIC)</td>\n",
        "      <td>               [10321, 10306, 10218, 10213, 10321]</td>\n",
        "      <td> 1</td>\n",
        "    </tr>\n",
        "    <tr>\n",
        "      <th>2771833</th>\n",
        "      <td> 2015-12-01</td>\n",
        "      <td>                    MOLOKHEYA (ORGANIC)</td>\n",
        "      <td> ZUCCHINI (ORGANIC)</td>\n",
        "      <td> [10321, 10306, 10218, 10213, 10351, 10321, 102...</td>\n",
        "      <td> 1</td>\n",
        "    </tr>\n",
        "    <tr>\n",
        "      <th>2771851</th>\n",
        "      <td> 2015-12-01</td>\n",
        "      <td>       NGS QUINOA LOCAL (CHEMICAL FREE)</td>\n",
        "      <td> ZUCCHINI (ORGANIC)</td>\n",
        "      <td> [10321, 10306, 10218, 10213, 10321, 10201, 10129]</td>\n",
        "      <td> 1</td>\n",
        "    </tr>\n",
        "    <tr>\n",
        "      <th>2771862</th>\n",
        "      <td> 2015-12-01</td>\n",
        "      <td>     ORGANIC QUINOA FLOUR (GLUTEN FREE)</td>\n",
        "      <td> ZUCCHINI (ORGANIC)</td>\n",
        "      <td>        [10321, 10306, 10218, 10213, 10321, 10158]</td>\n",
        "      <td> 1</td>\n",
        "    </tr>\n",
        "    <tr>\n",
        "      <th>2771864</th>\n",
        "      <td> 2015-12-01</td>\n",
        "      <td>                                 PAPAYA</td>\n",
        "      <td> ZUCCHINI (ORGANIC)</td>\n",
        "      <td> [10321, 10306, 10218, 10213, 10308, 10292, 102...</td>\n",
        "      <td> 1</td>\n",
        "    </tr>\n",
        "    <tr>\n",
        "      <th>2771871</th>\n",
        "      <td> 2015-12-01</td>\n",
        "      <td>               POTATOES (CHEMICAL FREE)</td>\n",
        "      <td> ZUCCHINI (ORGANIC)</td>\n",
        "      <td> [10321, 10306, 10218, 10213, 10361, 10355, 103...</td>\n",
        "      <td> 1</td>\n",
        "    </tr>\n",
        "    <tr>\n",
        "      <th>2771877</th>\n",
        "      <td> 2015-12-01</td>\n",
        "      <td>         QUINOA (CHEMICAL FREE) - LOCAL</td>\n",
        "      <td> ZUCCHINI (ORGANIC)</td>\n",
        "      <td> [10321, 10306, 10218, 10213, 10350, 10322, 103...</td>\n",
        "      <td> 1</td>\n",
        "    </tr>\n",
        "    <tr>\n",
        "      <th>2771887</th>\n",
        "      <td> 2015-12-01</td>\n",
        "      <td>                    RAW HONEY (ORGANIC)</td>\n",
        "      <td> ZUCCHINI (ORGANIC)</td>\n",
        "      <td> [10321, 10306, 10218, 10213, 10354, 10352, 102...</td>\n",
        "      <td> 1</td>\n",
        "    </tr>\n",
        "    <tr>\n",
        "      <th>2771901</th>\n",
        "      <td> 2015-12-01</td>\n",
        "      <td>            RED ROMAINE (CHEMICAL FREE)</td>\n",
        "      <td> ZUCCHINI (ORGANIC)</td>\n",
        "      <td> [10321, 10306, 10218, 10213, 10277, 10266, 102...</td>\n",
        "      <td> 1</td>\n",
        "    </tr>\n",
        "    <tr>\n",
        "      <th>2771910</th>\n",
        "      <td> 2015-12-01</td>\n",
        "      <td>                        SALAD SEASONING</td>\n",
        "      <td> ZUCCHINI (ORGANIC)</td>\n",
        "      <td>        [10321, 10306, 10218, 10213, 10218, 10151]</td>\n",
        "      <td> 1</td>\n",
        "    </tr>\n",
        "    <tr>\n",
        "      <th>2771911</th>\n",
        "      <td> 2015-12-01</td>\n",
        "      <td>                  SALMON STEAK (FROZEN)</td>\n",
        "      <td> ZUCCHINI (ORGANIC)</td>\n",
        "      <td> [10321, 10306, 10218, 10213, 10360, 10359, 103...</td>\n",
        "      <td> 1</td>\n",
        "    </tr>\n",
        "    <tr>\n",
        "      <th>2771923</th>\n",
        "      <td> 2015-12-01</td>\n",
        "      <td>       SPELT FLAKES - TOASTED (ORGANIC)</td>\n",
        "      <td> ZUCCHINI (ORGANIC)</td>\n",
        "      <td>               [10321, 10306, 10218, 10213, 10321]</td>\n",
        "      <td> 1</td>\n",
        "    </tr>\n",
        "    <tr>\n",
        "      <th>2771930</th>\n",
        "      <td> 2015-12-01</td>\n",
        "      <td>         SWEET POTATOES (CHEMICAL FREE)</td>\n",
        "      <td> ZUCCHINI (ORGANIC)</td>\n",
        "      <td> [10321, 10306, 10218, 10213, 10361, 10352, 103...</td>\n",
        "      <td> 1</td>\n",
        "    </tr>\n",
        "    <tr>\n",
        "      <th>2771934</th>\n",
        "      <td> 2015-12-01</td>\n",
        "      <td>                   TEXTURED SOY PROTEIN</td>\n",
        "      <td> ZUCCHINI (ORGANIC)</td>\n",
        "      <td>        [10321, 10306, 10218, 10213, 10321, 10179]</td>\n",
        "      <td> 1</td>\n",
        "    </tr>\n",
        "    <tr>\n",
        "      <th>2771937</th>\n",
        "      <td> 2015-12-01</td>\n",
        "      <td>                         TOFU (ORGANIC)</td>\n",
        "      <td> ZUCCHINI (ORGANIC)</td>\n",
        "      <td> [10321, 10306, 10218, 10213, 10359, 10332, 103...</td>\n",
        "      <td> 1</td>\n",
        "    </tr>\n",
        "    <tr>\n",
        "      <th>2771958</th>\n",
        "      <td> 2015-12-01</td>\n",
        "      <td>             WATERCRESS (CHEMICAL FREE)</td>\n",
        "      <td> ZUCCHINI (ORGANIC)</td>\n",
        "      <td> [10321, 10306, 10218, 10213, 10365, 10353, 10321]</td>\n",
        "      <td> 1</td>\n",
        "    </tr>\n",
        "    <tr>\n",
        "      <th>2771961</th>\n",
        "      <td> 2015-12-01</td>\n",
        "      <td>       WHITE BEANS (ORGANIC) - EGYPTIAN</td>\n",
        "      <td> ZUCCHINI (ORGANIC)</td>\n",
        "      <td>        [10321, 10306, 10218, 10213, 10321, 10167]</td>\n",
        "      <td> 1</td>\n",
        "    </tr>\n",
        "    <tr>\n",
        "      <th>2771970</th>\n",
        "      <td> 2015-12-01</td>\n",
        "      <td>    WILD &amp; BROWN RICE MIX (GLUTEN FREE)</td>\n",
        "      <td> ZUCCHINI (ORGANIC)</td>\n",
        "      <td>               [10321, 10306, 10218, 10213, 10218]</td>\n",
        "      <td> 1</td>\n",
        "    </tr>\n",
        "    <tr>\n",
        "      <th>2771976</th>\n",
        "      <td> 2015-12-01</td>\n",
        "      <td>             WILD RICE ( ORGANIC ) 227G</td>\n",
        "      <td> ZUCCHINI (ORGANIC)</td>\n",
        "      <td>               [10321, 10306, 10218, 10213, 10321]</td>\n",
        "      <td> 1</td>\n",
        "    </tr>\n",
        "    <tr>\n",
        "      <th>2771986</th>\n",
        "      <td> 2015-12-01</td>\n",
        "      <td>                         YELLOW MUSTARD</td>\n",
        "      <td> ZUCCHINI (ORGANIC)</td>\n",
        "      <td>        [10321, 10306, 10218, 10213, 10218, 10142]</td>\n",
        "      <td> 1</td>\n",
        "    </tr>\n",
        "  </tbody>\n",
        "</table>\n",
        "<p>384986 rows \u00d7 5 columns</p>\n",
        "</div>"
       ],
       "metadata": {},
       "output_type": "pyout",
       "prompt_number": 17,
       "text": [
        "               Date                                Product1  \\\n",
        "2        2012-05-01                            BREATHE WELL   \n",
        "3        2012-05-01                              BROWN RICE   \n",
        "9        2012-05-01           ICED TEA WITH CRANBERRY JUICE   \n",
        "10       2012-05-01              ICED TEA WITH LEMON FLAVOR   \n",
        "11       2012-05-01              ICED TEA WITH PEACH FLAVOR   \n",
        "13       2012-05-01                        MOTHER TO BE TEA   \n",
        "14       2012-05-01                             NEW MOM TEA   \n",
        "46       2012-05-01                           OLD GHAR SOAP   \n",
        "50       2012-05-01                           PUMPKIN SEEDS   \n",
        "52       2012-05-01               RAW ALMONDS WITHOUT SHELL   \n",
        "53       2012-05-01                          RAW BEE POLLEN   \n",
        "57       2012-05-01                    RAW SLIVERED ALMONDS   \n",
        "58       2012-05-01                RAW WALNUT WITHOUT SHELL   \n",
        "62       2012-05-01                            BED TIME TEA   \n",
        "65       2012-05-01                              BROWN RICE   \n",
        "71       2012-05-01           ICED TEA WITH CRANBERRY JUICE   \n",
        "72       2012-05-01              ICED TEA WITH LEMON FLAVOR   \n",
        "73       2012-05-01              ICED TEA WITH PEACH FLAVOR   \n",
        "75       2012-05-01                        MOTHER TO BE TEA   \n",
        "76       2012-05-01                             NEW MOM TEA   \n",
        "93       2012-05-01                            BED TIME TEA   \n",
        "95       2012-05-01                            BREATHE WELL   \n",
        "101      2012-05-01  GREEN TEA WITH ECHINACEA & BLACK SEEDS   \n",
        "102      2012-05-01           ICED TEA WITH CRANBERRY JUICE   \n",
        "103      2012-05-01              ICED TEA WITH LEMON FLAVOR   \n",
        "104      2012-05-01              ICED TEA WITH PEACH FLAVOR   \n",
        "105      2012-05-01                      LIVER WELLNESS TEA   \n",
        "106      2012-05-01                        MOTHER TO BE TEA   \n",
        "107      2012-05-01                             NEW MOM TEA   \n",
        "109      2012-05-01                      ORGANIC FLAX SEEDS   \n",
        "...             ...                                     ...   \n",
        "2771706  2015-12-01                  CELERY (CHEMICAL FREE)   \n",
        "2771710  2015-12-01  CHICKEN BREAST - HORMONE FREE (FROZEN)   \n",
        "2771723  2015-12-01                  CHIVES (CHEMICAL FREE)   \n",
        "2771741  2015-12-01              CREAMY BUCKWHEAT (ORGANIC)   \n",
        "2771743  2015-12-01                      CUCUMBER (ORGANIC)   \n",
        "2771755  2015-12-01                      DRIED GOJI BERRIES   \n",
        "2771774  2015-12-01             FREEKEH (CRACKED) - ORGANIC   \n",
        "2771784  2015-12-01                  GRANOLA NATURAL CEREAL   \n",
        "2771805  2015-12-01                    KALE (CHEMICAL FREE)   \n",
        "2771809  2015-12-01             LENTIL (ORGANIC) - EGYPTIAN   \n",
        "2771817  2015-12-01                LOW CARB BREAD MIX FLOUR   \n",
        "2771833  2015-12-01                     MOLOKHEYA (ORGANIC)   \n",
        "2771851  2015-12-01        NGS QUINOA LOCAL (CHEMICAL FREE)   \n",
        "2771862  2015-12-01      ORGANIC QUINOA FLOUR (GLUTEN FREE)   \n",
        "2771864  2015-12-01                                  PAPAYA   \n",
        "2771871  2015-12-01                POTATOES (CHEMICAL FREE)   \n",
        "2771877  2015-12-01          QUINOA (CHEMICAL FREE) - LOCAL   \n",
        "2771887  2015-12-01                     RAW HONEY (ORGANIC)   \n",
        "2771901  2015-12-01             RED ROMAINE (CHEMICAL FREE)   \n",
        "2771910  2015-12-01                         SALAD SEASONING   \n",
        "2771911  2015-12-01                   SALMON STEAK (FROZEN)   \n",
        "2771923  2015-12-01        SPELT FLAKES - TOASTED (ORGANIC)   \n",
        "2771930  2015-12-01          SWEET POTATOES (CHEMICAL FREE)   \n",
        "2771934  2015-12-01                    TEXTURED SOY PROTEIN   \n",
        "2771937  2015-12-01                          TOFU (ORGANIC)   \n",
        "2771958  2015-12-01              WATERCRESS (CHEMICAL FREE)   \n",
        "2771961  2015-12-01        WHITE BEANS (ORGANIC) - EGYPTIAN   \n",
        "2771970  2015-12-01     WILD & BROWN RICE MIX (GLUTEN FREE)   \n",
        "2771976  2015-12-01              WILD RICE ( ORGANIC ) 227G   \n",
        "2771986  2015-12-01                          YELLOW MUSTARD   \n",
        "\n",
        "                   Product2  \\\n",
        "2              BED TIME TEA   \n",
        "3              BED TIME TEA   \n",
        "9              BED TIME TEA   \n",
        "10             BED TIME TEA   \n",
        "11             BED TIME TEA   \n",
        "13             BED TIME TEA   \n",
        "14             BED TIME TEA   \n",
        "46           BLACK SEED OIL   \n",
        "50           BLACK SEED OIL   \n",
        "52           BLACK SEED OIL   \n",
        "53           BLACK SEED OIL   \n",
        "57           BLACK SEED OIL   \n",
        "58           BLACK SEED OIL   \n",
        "62             BREATHE WELL   \n",
        "65             BREATHE WELL   \n",
        "71             BREATHE WELL   \n",
        "72             BREATHE WELL   \n",
        "73             BREATHE WELL   \n",
        "75             BREATHE WELL   \n",
        "76             BREATHE WELL   \n",
        "93               BROWN RICE   \n",
        "95               BROWN RICE   \n",
        "101              BROWN RICE   \n",
        "102              BROWN RICE   \n",
        "103              BROWN RICE   \n",
        "104              BROWN RICE   \n",
        "105              BROWN RICE   \n",
        "106              BROWN RICE   \n",
        "107              BROWN RICE   \n",
        "109              BROWN RICE   \n",
        "...                     ...   \n",
        "2771706  ZUCCHINI (ORGANIC)   \n",
        "2771710  ZUCCHINI (ORGANIC)   \n",
        "2771723  ZUCCHINI (ORGANIC)   \n",
        "2771741  ZUCCHINI (ORGANIC)   \n",
        "2771743  ZUCCHINI (ORGANIC)   \n",
        "2771755  ZUCCHINI (ORGANIC)   \n",
        "2771774  ZUCCHINI (ORGANIC)   \n",
        "2771784  ZUCCHINI (ORGANIC)   \n",
        "2771805  ZUCCHINI (ORGANIC)   \n",
        "2771809  ZUCCHINI (ORGANIC)   \n",
        "2771817  ZUCCHINI (ORGANIC)   \n",
        "2771833  ZUCCHINI (ORGANIC)   \n",
        "2771851  ZUCCHINI (ORGANIC)   \n",
        "2771862  ZUCCHINI (ORGANIC)   \n",
        "2771864  ZUCCHINI (ORGANIC)   \n",
        "2771871  ZUCCHINI (ORGANIC)   \n",
        "2771877  ZUCCHINI (ORGANIC)   \n",
        "2771887  ZUCCHINI (ORGANIC)   \n",
        "2771901  ZUCCHINI (ORGANIC)   \n",
        "2771910  ZUCCHINI (ORGANIC)   \n",
        "2771911  ZUCCHINI (ORGANIC)   \n",
        "2771923  ZUCCHINI (ORGANIC)   \n",
        "2771930  ZUCCHINI (ORGANIC)   \n",
        "2771934  ZUCCHINI (ORGANIC)   \n",
        "2771937  ZUCCHINI (ORGANIC)   \n",
        "2771958  ZUCCHINI (ORGANIC)   \n",
        "2771961  ZUCCHINI (ORGANIC)   \n",
        "2771970  ZUCCHINI (ORGANIC)   \n",
        "2771976  ZUCCHINI (ORGANIC)   \n",
        "2771986  ZUCCHINI (ORGANIC)   \n",
        "\n",
        "                                                      Name  Count  \n",
        "2                                             [1017, 1017]      1  \n",
        "3                           [1017, 1017, 1012, 1010, 1005]      1  \n",
        "9                                             [1017, 1017]      1  \n",
        "10                                            [1017, 1017]      1  \n",
        "11                                            [1017, 1017]      1  \n",
        "13                                            [1017, 1017]      1  \n",
        "14                                            [1017, 1017]      1  \n",
        "46                                [1016, 1007, 1016, 1013]      1  \n",
        "50                          [1016, 1007, 1016, 1010, 1005]      1  \n",
        "52                          [1016, 1007, 1012, 1008, 1007]      1  \n",
        "53                                      [1016, 1007, 1007]      1  \n",
        "57                                      [1016, 1007, 1016]      1  \n",
        "58                    [1016, 1007, 1008, 1007, 1006, 1005]      1  \n",
        "62                                            [1017, 1017]      1  \n",
        "65                          [1017, 1017, 1012, 1010, 1005]      1  \n",
        "71                                            [1017, 1017]      1  \n",
        "72                                            [1017, 1017]      1  \n",
        "73                                            [1017, 1017]      1  \n",
        "75                                            [1017, 1017]      1  \n",
        "76                                            [1017, 1017]      1  \n",
        "93                          [1017, 1012, 1010, 1005, 1017]      1  \n",
        "95                          [1017, 1012, 1010, 1005, 1017]      1  \n",
        "101                         [1017, 1012, 1010, 1005, 1010]      1  \n",
        "102                         [1017, 1012, 1010, 1005, 1017]      1  \n",
        "103                         [1017, 1012, 1010, 1005, 1017]      1  \n",
        "104                         [1017, 1012, 1010, 1005, 1017]      1  \n",
        "105                         [1017, 1012, 1010, 1005, 1005]      1  \n",
        "106                         [1017, 1012, 1010, 1005, 1017]      1  \n",
        "107                         [1017, 1012, 1010, 1005, 1017]      1  \n",
        "109                         [1017, 1012, 1010, 1005, 1010]      1  \n",
        "...                                                    ...    ...  \n",
        "2771706  [10321, 10306, 10218, 10213, 10306, 10291, 102...      2  \n",
        "2771710  [10321, 10306, 10218, 10213, 10367, 10365, 103...      1  \n",
        "2771723  [10321, 10306, 10218, 10213, 10351, 10312, 103...      2  \n",
        "2771741                [10321, 10306, 10218, 10213, 10321]      1  \n",
        "2771743  [10321, 10306, 10218, 10213, 10306, 10265, 102...      2  \n",
        "2771755  [10321, 10306, 10218, 10213, 10351, 10321, 103...      1  \n",
        "2771774                [10321, 10306, 10218, 10213, 10321]      1  \n",
        "2771784         [10321, 10306, 10218, 10213, 10321, 10297]      1  \n",
        "2771805  [10321, 10306, 10218, 10213, 10360, 10351, 103...      2  \n",
        "2771809  [10321, 10306, 10218, 10213, 10342, 10321, 103...      1  \n",
        "2771817                [10321, 10306, 10218, 10213, 10321]      1  \n",
        "2771833  [10321, 10306, 10218, 10213, 10351, 10321, 102...      1  \n",
        "2771851  [10321, 10306, 10218, 10213, 10321, 10201, 10129]      1  \n",
        "2771862         [10321, 10306, 10218, 10213, 10321, 10158]      1  \n",
        "2771864  [10321, 10306, 10218, 10213, 10308, 10292, 102...      1  \n",
        "2771871  [10321, 10306, 10218, 10213, 10361, 10355, 103...      1  \n",
        "2771877  [10321, 10306, 10218, 10213, 10350, 10322, 103...      1  \n",
        "2771887  [10321, 10306, 10218, 10213, 10354, 10352, 102...      1  \n",
        "2771901  [10321, 10306, 10218, 10213, 10277, 10266, 102...      1  \n",
        "2771910         [10321, 10306, 10218, 10213, 10218, 10151]      1  \n",
        "2771911  [10321, 10306, 10218, 10213, 10360, 10359, 103...      1  \n",
        "2771923                [10321, 10306, 10218, 10213, 10321]      1  \n",
        "2771930  [10321, 10306, 10218, 10213, 10361, 10352, 103...      1  \n",
        "2771934         [10321, 10306, 10218, 10213, 10321, 10179]      1  \n",
        "2771937  [10321, 10306, 10218, 10213, 10359, 10332, 103...      1  \n",
        "2771958  [10321, 10306, 10218, 10213, 10365, 10353, 10321]      1  \n",
        "2771961         [10321, 10306, 10218, 10213, 10321, 10167]      1  \n",
        "2771970                [10321, 10306, 10218, 10213, 10218]      1  \n",
        "2771976                [10321, 10306, 10218, 10213, 10321]      1  \n",
        "2771986         [10321, 10306, 10218, 10213, 10218, 10142]      1  \n",
        "\n",
        "[384986 rows x 5 columns]"
       ]
      }
     ],
     "prompt_number": 17
    },
    {
     "cell_type": "code",
     "collapsed": false,
     "input": [
      "df1['newcol'] = df1.apply(lambda x: combineProds(str(x['Date']),x['Product1'], x['Product2'],str(x['Count'])), axis=1)\n",
      "df1 = df1.drop_duplicates('newcol').reset_index().drop('index',1)\n",
      "\n",
      "#get required products\n",
      "df1 = df1[['Date', 'Product1', 'Product2', 'Count']]\n",
      "df1"
     ],
     "language": "python",
     "metadata": {},
     "outputs": [
      {
       "html": [
        "<div style=\"max-height:1000px;max-width:1500px;overflow:auto;\">\n",
        "<table border=\"1\" class=\"dataframe\">\n",
        "  <thead>\n",
        "    <tr style=\"text-align: right;\">\n",
        "      <th></th>\n",
        "      <th>Date</th>\n",
        "      <th>Product1</th>\n",
        "      <th>Product2</th>\n",
        "      <th>Count</th>\n",
        "    </tr>\n",
        "  </thead>\n",
        "  <tbody>\n",
        "    <tr>\n",
        "      <th>0     </th>\n",
        "      <td> 2012-05-01</td>\n",
        "      <td>                                     BREATHE WELL</td>\n",
        "      <td>                          BED TIME TEA</td>\n",
        "      <td> 1</td>\n",
        "    </tr>\n",
        "    <tr>\n",
        "      <th>1     </th>\n",
        "      <td> 2012-05-01</td>\n",
        "      <td>                                       BROWN RICE</td>\n",
        "      <td>                          BED TIME TEA</td>\n",
        "      <td> 1</td>\n",
        "    </tr>\n",
        "    <tr>\n",
        "      <th>2     </th>\n",
        "      <td> 2012-05-01</td>\n",
        "      <td>                    ICED TEA WITH CRANBERRY JUICE</td>\n",
        "      <td>                          BED TIME TEA</td>\n",
        "      <td> 1</td>\n",
        "    </tr>\n",
        "    <tr>\n",
        "      <th>3     </th>\n",
        "      <td> 2012-05-01</td>\n",
        "      <td>                       ICED TEA WITH LEMON FLAVOR</td>\n",
        "      <td>                          BED TIME TEA</td>\n",
        "      <td> 1</td>\n",
        "    </tr>\n",
        "    <tr>\n",
        "      <th>4     </th>\n",
        "      <td> 2012-05-01</td>\n",
        "      <td>                       ICED TEA WITH PEACH FLAVOR</td>\n",
        "      <td>                          BED TIME TEA</td>\n",
        "      <td> 1</td>\n",
        "    </tr>\n",
        "    <tr>\n",
        "      <th>5     </th>\n",
        "      <td> 2012-05-01</td>\n",
        "      <td>                                 MOTHER TO BE TEA</td>\n",
        "      <td>                          BED TIME TEA</td>\n",
        "      <td> 1</td>\n",
        "    </tr>\n",
        "    <tr>\n",
        "      <th>6     </th>\n",
        "      <td> 2012-05-01</td>\n",
        "      <td>                                      NEW MOM TEA</td>\n",
        "      <td>                          BED TIME TEA</td>\n",
        "      <td> 1</td>\n",
        "    </tr>\n",
        "    <tr>\n",
        "      <th>7     </th>\n",
        "      <td> 2012-05-01</td>\n",
        "      <td>                                    OLD GHAR SOAP</td>\n",
        "      <td>                        BLACK SEED OIL</td>\n",
        "      <td> 1</td>\n",
        "    </tr>\n",
        "    <tr>\n",
        "      <th>8     </th>\n",
        "      <td> 2012-05-01</td>\n",
        "      <td>                                    PUMPKIN SEEDS</td>\n",
        "      <td>                        BLACK SEED OIL</td>\n",
        "      <td> 1</td>\n",
        "    </tr>\n",
        "    <tr>\n",
        "      <th>9     </th>\n",
        "      <td> 2012-05-01</td>\n",
        "      <td>                        RAW ALMONDS WITHOUT SHELL</td>\n",
        "      <td>                        BLACK SEED OIL</td>\n",
        "      <td> 1</td>\n",
        "    </tr>\n",
        "    <tr>\n",
        "      <th>10    </th>\n",
        "      <td> 2012-05-01</td>\n",
        "      <td>                                   RAW BEE POLLEN</td>\n",
        "      <td>                        BLACK SEED OIL</td>\n",
        "      <td> 1</td>\n",
        "    </tr>\n",
        "    <tr>\n",
        "      <th>11    </th>\n",
        "      <td> 2012-05-01</td>\n",
        "      <td>                             RAW SLIVERED ALMONDS</td>\n",
        "      <td>                        BLACK SEED OIL</td>\n",
        "      <td> 1</td>\n",
        "    </tr>\n",
        "    <tr>\n",
        "      <th>12    </th>\n",
        "      <td> 2012-05-01</td>\n",
        "      <td>                         RAW WALNUT WITHOUT SHELL</td>\n",
        "      <td>                        BLACK SEED OIL</td>\n",
        "      <td> 1</td>\n",
        "    </tr>\n",
        "    <tr>\n",
        "      <th>13    </th>\n",
        "      <td> 2012-05-01</td>\n",
        "      <td>                                       BROWN RICE</td>\n",
        "      <td>                          BREATHE WELL</td>\n",
        "      <td> 1</td>\n",
        "    </tr>\n",
        "    <tr>\n",
        "      <th>14    </th>\n",
        "      <td> 2012-05-01</td>\n",
        "      <td>                    ICED TEA WITH CRANBERRY JUICE</td>\n",
        "      <td>                          BREATHE WELL</td>\n",
        "      <td> 1</td>\n",
        "    </tr>\n",
        "    <tr>\n",
        "      <th>15    </th>\n",
        "      <td> 2012-05-01</td>\n",
        "      <td>                       ICED TEA WITH LEMON FLAVOR</td>\n",
        "      <td>                          BREATHE WELL</td>\n",
        "      <td> 1</td>\n",
        "    </tr>\n",
        "    <tr>\n",
        "      <th>16    </th>\n",
        "      <td> 2012-05-01</td>\n",
        "      <td>                       ICED TEA WITH PEACH FLAVOR</td>\n",
        "      <td>                          BREATHE WELL</td>\n",
        "      <td> 1</td>\n",
        "    </tr>\n",
        "    <tr>\n",
        "      <th>17    </th>\n",
        "      <td> 2012-05-01</td>\n",
        "      <td>                                 MOTHER TO BE TEA</td>\n",
        "      <td>                          BREATHE WELL</td>\n",
        "      <td> 1</td>\n",
        "    </tr>\n",
        "    <tr>\n",
        "      <th>18    </th>\n",
        "      <td> 2012-05-01</td>\n",
        "      <td>                                      NEW MOM TEA</td>\n",
        "      <td>                          BREATHE WELL</td>\n",
        "      <td> 1</td>\n",
        "    </tr>\n",
        "    <tr>\n",
        "      <th>19    </th>\n",
        "      <td> 2012-05-01</td>\n",
        "      <td>           GREEN TEA WITH ECHINACEA &amp; BLACK SEEDS</td>\n",
        "      <td>                            BROWN RICE</td>\n",
        "      <td> 1</td>\n",
        "    </tr>\n",
        "    <tr>\n",
        "      <th>20    </th>\n",
        "      <td> 2012-05-01</td>\n",
        "      <td>                    ICED TEA WITH CRANBERRY JUICE</td>\n",
        "      <td>                            BROWN RICE</td>\n",
        "      <td> 1</td>\n",
        "    </tr>\n",
        "    <tr>\n",
        "      <th>21    </th>\n",
        "      <td> 2012-05-01</td>\n",
        "      <td>                       ICED TEA WITH LEMON FLAVOR</td>\n",
        "      <td>                            BROWN RICE</td>\n",
        "      <td> 1</td>\n",
        "    </tr>\n",
        "    <tr>\n",
        "      <th>22    </th>\n",
        "      <td> 2012-05-01</td>\n",
        "      <td>                       ICED TEA WITH PEACH FLAVOR</td>\n",
        "      <td>                            BROWN RICE</td>\n",
        "      <td> 1</td>\n",
        "    </tr>\n",
        "    <tr>\n",
        "      <th>23    </th>\n",
        "      <td> 2012-05-01</td>\n",
        "      <td>                               LIVER WELLNESS TEA</td>\n",
        "      <td>                            BROWN RICE</td>\n",
        "      <td> 1</td>\n",
        "    </tr>\n",
        "    <tr>\n",
        "      <th>24    </th>\n",
        "      <td> 2012-05-01</td>\n",
        "      <td>                                 MOTHER TO BE TEA</td>\n",
        "      <td>                            BROWN RICE</td>\n",
        "      <td> 1</td>\n",
        "    </tr>\n",
        "    <tr>\n",
        "      <th>25    </th>\n",
        "      <td> 2012-05-01</td>\n",
        "      <td>                                      NEW MOM TEA</td>\n",
        "      <td>                            BROWN RICE</td>\n",
        "      <td> 1</td>\n",
        "    </tr>\n",
        "    <tr>\n",
        "      <th>26    </th>\n",
        "      <td> 2012-05-01</td>\n",
        "      <td>                               ORGANIC FLAX SEEDS</td>\n",
        "      <td>                            BROWN RICE</td>\n",
        "      <td> 1</td>\n",
        "    </tr>\n",
        "    <tr>\n",
        "      <th>27    </th>\n",
        "      <td> 2012-05-01</td>\n",
        "      <td>                                    PUMPKIN SEEDS</td>\n",
        "      <td>                            BROWN RICE</td>\n",
        "      <td> 2</td>\n",
        "    </tr>\n",
        "    <tr>\n",
        "      <th>28    </th>\n",
        "      <td> 2012-05-01</td>\n",
        "      <td> RAVIOLI FIRE ROASTED TOMATO, MOZARELLA AND BASIL</td>\n",
        "      <td>                            BROWN RICE</td>\n",
        "      <td> 1</td>\n",
        "    </tr>\n",
        "    <tr>\n",
        "      <th>29    </th>\n",
        "      <td> 2012-05-01</td>\n",
        "      <td>                        RAW ALMONDS WITHOUT SHELL</td>\n",
        "      <td>                            BROWN RICE</td>\n",
        "      <td> 1</td>\n",
        "    </tr>\n",
        "    <tr>\n",
        "      <th>...</th>\n",
        "      <td>...</td>\n",
        "      <td>...</td>\n",
        "      <td>...</td>\n",
        "      <td>...</td>\n",
        "    </tr>\n",
        "    <tr>\n",
        "      <th>192463</th>\n",
        "      <td> 2015-12-01</td>\n",
        "      <td>                       WHOLE WHEAT SPINACH PASTRY</td>\n",
        "      <td>                   WHEY PROTEIN (PURE)</td>\n",
        "      <td> 1</td>\n",
        "    </tr>\n",
        "    <tr>\n",
        "      <th>192464</th>\n",
        "      <td> 2015-12-01</td>\n",
        "      <td>                       WILD RICE ( ORGANIC ) 227G</td>\n",
        "      <td>      WHITE BEANS (ORGANIC) - EGYPTIAN</td>\n",
        "      <td> 1</td>\n",
        "    </tr>\n",
        "    <tr>\n",
        "      <th>192465</th>\n",
        "      <td> 2015-12-01</td>\n",
        "      <td>                               ZUCCHINI (ORGANIC)</td>\n",
        "      <td>      WHITE BEANS (ORGANIC) - EGYPTIAN</td>\n",
        "      <td> 1</td>\n",
        "    </tr>\n",
        "    <tr>\n",
        "      <th>192466</th>\n",
        "      <td> 2015-12-01</td>\n",
        "      <td>                         ZUCCHINI (CHEMICAL FREE)</td>\n",
        "      <td>                           WHITE ONION</td>\n",
        "      <td> 1</td>\n",
        "    </tr>\n",
        "    <tr>\n",
        "      <th>192467</th>\n",
        "      <td> 2015-12-01</td>\n",
        "      <td>                             WHITE TEA WITH PEACH</td>\n",
        "      <td>                  WHITE SAUCE (FROZEN)</td>\n",
        "      <td> 1</td>\n",
        "    </tr>\n",
        "    <tr>\n",
        "      <th>192468</th>\n",
        "      <td> 2015-12-01</td>\n",
        "      <td>                        WILD ROYAL DORAD (DENEES)</td>\n",
        "      <td>                WHOLE CHICKEN (FROZEN)</td>\n",
        "      <td> 1</td>\n",
        "    </tr>\n",
        "    <tr>\n",
        "      <th>192469</th>\n",
        "      <td> 2015-12-01</td>\n",
        "      <td>                                    WILD SARDINES</td>\n",
        "      <td>                WHOLE CHICKEN (FROZEN)</td>\n",
        "      <td> 1</td>\n",
        "    </tr>\n",
        "    <tr>\n",
        "      <th>192470</th>\n",
        "      <td> 2015-12-01</td>\n",
        "      <td>                                 WHOLE MEAL FLOUR</td>\n",
        "      <td> WHOLE CHICKEN - HORMONE FREE (FROZEN)</td>\n",
        "      <td> 1</td>\n",
        "    </tr>\n",
        "    <tr>\n",
        "      <th>192471</th>\n",
        "      <td> 2015-12-01</td>\n",
        "      <td>                                    YELLOW APPLES</td>\n",
        "      <td> WHOLE CHICKEN - HORMONE FREE (FROZEN)</td>\n",
        "      <td> 1</td>\n",
        "    </tr>\n",
        "    <tr>\n",
        "      <th>192472</th>\n",
        "      <td> 2015-12-01</td>\n",
        "      <td>                         ZUCCHINI (CHEMICAL FREE)</td>\n",
        "      <td> WHOLE CHICKEN - HORMONE FREE (FROZEN)</td>\n",
        "      <td> 1</td>\n",
        "    </tr>\n",
        "    <tr>\n",
        "      <th>192473</th>\n",
        "      <td> 2015-12-01</td>\n",
        "      <td>                                YELLOW GRAPEFRUIT</td>\n",
        "      <td>                      WHOLE MEAL FLOUR</td>\n",
        "      <td> 1</td>\n",
        "    </tr>\n",
        "    <tr>\n",
        "      <th>192474</th>\n",
        "      <td> 2015-12-01</td>\n",
        "      <td>                              WHOLE WHEAT WAFFLES</td>\n",
        "      <td>            WHOLE WHEAT SPINACH PASTRY</td>\n",
        "      <td> 1</td>\n",
        "    </tr>\n",
        "    <tr>\n",
        "      <th>192475</th>\n",
        "      <td> 2015-12-01</td>\n",
        "      <td>                                   YELLOW MUSTARD</td>\n",
        "      <td>                   WHOLE WHEAT WAFFLES</td>\n",
        "      <td> 1</td>\n",
        "    </tr>\n",
        "    <tr>\n",
        "      <th>192476</th>\n",
        "      <td> 2015-12-01</td>\n",
        "      <td>                                   YELLOW MUSTARD</td>\n",
        "      <td>   WILD &amp; BROWN RICE MIX (GLUTEN FREE)</td>\n",
        "      <td> 1</td>\n",
        "    </tr>\n",
        "    <tr>\n",
        "      <th>192477</th>\n",
        "      <td> 2015-12-01</td>\n",
        "      <td>                               ZUCCHINI (ORGANIC)</td>\n",
        "      <td>   WILD &amp; BROWN RICE MIX (GLUTEN FREE)</td>\n",
        "      <td> 1</td>\n",
        "    </tr>\n",
        "    <tr>\n",
        "      <th>192478</th>\n",
        "      <td> 2015-12-01</td>\n",
        "      <td>                                     WILD LOBSTER</td>\n",
        "      <td>           WILD GROUPER FILLET (WA2AR)</td>\n",
        "      <td> 1</td>\n",
        "    </tr>\n",
        "    <tr>\n",
        "      <th>192479</th>\n",
        "      <td> 2015-12-01</td>\n",
        "      <td>                                    WILD SARDINES</td>\n",
        "      <td>           WILD GROUPER FILLET (WA2AR)</td>\n",
        "      <td> 1</td>\n",
        "    </tr>\n",
        "    <tr>\n",
        "      <th>192480</th>\n",
        "      <td> 2015-12-01</td>\n",
        "      <td>                             WILD SHRIMP (MEDIUM)</td>\n",
        "      <td>           WILD GROUPER FILLET (WA2AR)</td>\n",
        "      <td> 1</td>\n",
        "    </tr>\n",
        "    <tr>\n",
        "      <th>192481</th>\n",
        "      <td> 2015-12-01</td>\n",
        "      <td>                         ZUCCHINI (CHEMICAL FREE)</td>\n",
        "      <td>           WILD GROUPER FILLET (WA2AR)</td>\n",
        "      <td> 1</td>\n",
        "    </tr>\n",
        "    <tr>\n",
        "      <th>192482</th>\n",
        "      <td> 2015-12-01</td>\n",
        "      <td>                         ZUCCHINI (CHEMICAL FREE)</td>\n",
        "      <td>            WILD HABAQ (CHEMICAL FREE)</td>\n",
        "      <td> 1</td>\n",
        "    </tr>\n",
        "    <tr>\n",
        "      <th>192483</th>\n",
        "      <td> 2015-12-01</td>\n",
        "      <td>                             WILD SHRIMP (MEDIUM)</td>\n",
        "      <td>                          WILD LOBSTER</td>\n",
        "      <td> 1</td>\n",
        "    </tr>\n",
        "    <tr>\n",
        "      <th>192484</th>\n",
        "      <td> 2015-12-01</td>\n",
        "      <td>                         ZUCCHINI (CHEMICAL FREE)</td>\n",
        "      <td>                          WILD LOBSTER</td>\n",
        "      <td> 1</td>\n",
        "    </tr>\n",
        "    <tr>\n",
        "      <th>192485</th>\n",
        "      <td> 2015-12-01</td>\n",
        "      <td>                        WILD ROYAL DORAD (DENEES)</td>\n",
        "      <td>                           WILD MORGAN</td>\n",
        "      <td> 1</td>\n",
        "    </tr>\n",
        "    <tr>\n",
        "      <th>192486</th>\n",
        "      <td> 2015-12-01</td>\n",
        "      <td>                               ZUCCHINI (ORGANIC)</td>\n",
        "      <td>            WILD RICE ( ORGANIC ) 227G</td>\n",
        "      <td> 1</td>\n",
        "    </tr>\n",
        "    <tr>\n",
        "      <th>192487</th>\n",
        "      <td> 2015-12-01</td>\n",
        "      <td>                                    WILD SARDINES</td>\n",
        "      <td>             WILD ROYAL DORAD (DENEES)</td>\n",
        "      <td> 1</td>\n",
        "    </tr>\n",
        "    <tr>\n",
        "      <th>192488</th>\n",
        "      <td> 2015-12-01</td>\n",
        "      <td>                             WILD SHRIMP (MEDIUM)</td>\n",
        "      <td>             WILD ROYAL DORAD (DENEES)</td>\n",
        "      <td> 1</td>\n",
        "    </tr>\n",
        "    <tr>\n",
        "      <th>192489</th>\n",
        "      <td> 2015-12-01</td>\n",
        "      <td>                         ZUCCHINI (CHEMICAL FREE)</td>\n",
        "      <td>                         WILD SARDINES</td>\n",
        "      <td> 1</td>\n",
        "    </tr>\n",
        "    <tr>\n",
        "      <th>192490</th>\n",
        "      <td> 2015-12-01</td>\n",
        "      <td>                         ZUCCHINI (CHEMICAL FREE)</td>\n",
        "      <td>                  WILD SHRIMP (MEDIUM)</td>\n",
        "      <td> 1</td>\n",
        "    </tr>\n",
        "    <tr>\n",
        "      <th>192491</th>\n",
        "      <td> 2015-12-01</td>\n",
        "      <td>                         ZUCCHINI (CHEMICAL FREE)</td>\n",
        "      <td>                         YELLOW APPLES</td>\n",
        "      <td> 1</td>\n",
        "    </tr>\n",
        "    <tr>\n",
        "      <th>192492</th>\n",
        "      <td> 2015-12-01</td>\n",
        "      <td>                               ZUCCHINI (ORGANIC)</td>\n",
        "      <td>                        YELLOW MUSTARD</td>\n",
        "      <td> 1</td>\n",
        "    </tr>\n",
        "  </tbody>\n",
        "</table>\n",
        "<p>192493 rows \u00d7 4 columns</p>\n",
        "</div>"
       ],
       "metadata": {},
       "output_type": "pyout",
       "prompt_number": 18,
       "text": [
        "              Date                                          Product1  \\\n",
        "0       2012-05-01                                      BREATHE WELL   \n",
        "1       2012-05-01                                        BROWN RICE   \n",
        "2       2012-05-01                     ICED TEA WITH CRANBERRY JUICE   \n",
        "3       2012-05-01                        ICED TEA WITH LEMON FLAVOR   \n",
        "4       2012-05-01                        ICED TEA WITH PEACH FLAVOR   \n",
        "5       2012-05-01                                  MOTHER TO BE TEA   \n",
        "6       2012-05-01                                       NEW MOM TEA   \n",
        "7       2012-05-01                                     OLD GHAR SOAP   \n",
        "8       2012-05-01                                     PUMPKIN SEEDS   \n",
        "9       2012-05-01                         RAW ALMONDS WITHOUT SHELL   \n",
        "10      2012-05-01                                    RAW BEE POLLEN   \n",
        "11      2012-05-01                              RAW SLIVERED ALMONDS   \n",
        "12      2012-05-01                          RAW WALNUT WITHOUT SHELL   \n",
        "13      2012-05-01                                        BROWN RICE   \n",
        "14      2012-05-01                     ICED TEA WITH CRANBERRY JUICE   \n",
        "15      2012-05-01                        ICED TEA WITH LEMON FLAVOR   \n",
        "16      2012-05-01                        ICED TEA WITH PEACH FLAVOR   \n",
        "17      2012-05-01                                  MOTHER TO BE TEA   \n",
        "18      2012-05-01                                       NEW MOM TEA   \n",
        "19      2012-05-01            GREEN TEA WITH ECHINACEA & BLACK SEEDS   \n",
        "20      2012-05-01                     ICED TEA WITH CRANBERRY JUICE   \n",
        "21      2012-05-01                        ICED TEA WITH LEMON FLAVOR   \n",
        "22      2012-05-01                        ICED TEA WITH PEACH FLAVOR   \n",
        "23      2012-05-01                                LIVER WELLNESS TEA   \n",
        "24      2012-05-01                                  MOTHER TO BE TEA   \n",
        "25      2012-05-01                                       NEW MOM TEA   \n",
        "26      2012-05-01                                ORGANIC FLAX SEEDS   \n",
        "27      2012-05-01                                     PUMPKIN SEEDS   \n",
        "28      2012-05-01  RAVIOLI FIRE ROASTED TOMATO, MOZARELLA AND BASIL   \n",
        "29      2012-05-01                         RAW ALMONDS WITHOUT SHELL   \n",
        "...            ...                                               ...   \n",
        "192463  2015-12-01                        WHOLE WHEAT SPINACH PASTRY   \n",
        "192464  2015-12-01                        WILD RICE ( ORGANIC ) 227G   \n",
        "192465  2015-12-01                                ZUCCHINI (ORGANIC)   \n",
        "192466  2015-12-01                          ZUCCHINI (CHEMICAL FREE)   \n",
        "192467  2015-12-01                              WHITE TEA WITH PEACH   \n",
        "192468  2015-12-01                         WILD ROYAL DORAD (DENEES)   \n",
        "192469  2015-12-01                                     WILD SARDINES   \n",
        "192470  2015-12-01                                  WHOLE MEAL FLOUR   \n",
        "192471  2015-12-01                                     YELLOW APPLES   \n",
        "192472  2015-12-01                          ZUCCHINI (CHEMICAL FREE)   \n",
        "192473  2015-12-01                                 YELLOW GRAPEFRUIT   \n",
        "192474  2015-12-01                               WHOLE WHEAT WAFFLES   \n",
        "192475  2015-12-01                                    YELLOW MUSTARD   \n",
        "192476  2015-12-01                                    YELLOW MUSTARD   \n",
        "192477  2015-12-01                                ZUCCHINI (ORGANIC)   \n",
        "192478  2015-12-01                                      WILD LOBSTER   \n",
        "192479  2015-12-01                                     WILD SARDINES   \n",
        "192480  2015-12-01                              WILD SHRIMP (MEDIUM)   \n",
        "192481  2015-12-01                          ZUCCHINI (CHEMICAL FREE)   \n",
        "192482  2015-12-01                          ZUCCHINI (CHEMICAL FREE)   \n",
        "192483  2015-12-01                              WILD SHRIMP (MEDIUM)   \n",
        "192484  2015-12-01                          ZUCCHINI (CHEMICAL FREE)   \n",
        "192485  2015-12-01                         WILD ROYAL DORAD (DENEES)   \n",
        "192486  2015-12-01                                ZUCCHINI (ORGANIC)   \n",
        "192487  2015-12-01                                     WILD SARDINES   \n",
        "192488  2015-12-01                              WILD SHRIMP (MEDIUM)   \n",
        "192489  2015-12-01                          ZUCCHINI (CHEMICAL FREE)   \n",
        "192490  2015-12-01                          ZUCCHINI (CHEMICAL FREE)   \n",
        "192491  2015-12-01                          ZUCCHINI (CHEMICAL FREE)   \n",
        "192492  2015-12-01                                ZUCCHINI (ORGANIC)   \n",
        "\n",
        "                                     Product2  Count  \n",
        "0                                BED TIME TEA      1  \n",
        "1                                BED TIME TEA      1  \n",
        "2                                BED TIME TEA      1  \n",
        "3                                BED TIME TEA      1  \n",
        "4                                BED TIME TEA      1  \n",
        "5                                BED TIME TEA      1  \n",
        "6                                BED TIME TEA      1  \n",
        "7                              BLACK SEED OIL      1  \n",
        "8                              BLACK SEED OIL      1  \n",
        "9                              BLACK SEED OIL      1  \n",
        "10                             BLACK SEED OIL      1  \n",
        "11                             BLACK SEED OIL      1  \n",
        "12                             BLACK SEED OIL      1  \n",
        "13                               BREATHE WELL      1  \n",
        "14                               BREATHE WELL      1  \n",
        "15                               BREATHE WELL      1  \n",
        "16                               BREATHE WELL      1  \n",
        "17                               BREATHE WELL      1  \n",
        "18                               BREATHE WELL      1  \n",
        "19                                 BROWN RICE      1  \n",
        "20                                 BROWN RICE      1  \n",
        "21                                 BROWN RICE      1  \n",
        "22                                 BROWN RICE      1  \n",
        "23                                 BROWN RICE      1  \n",
        "24                                 BROWN RICE      1  \n",
        "25                                 BROWN RICE      1  \n",
        "26                                 BROWN RICE      1  \n",
        "27                                 BROWN RICE      2  \n",
        "28                                 BROWN RICE      1  \n",
        "29                                 BROWN RICE      1  \n",
        "...                                       ...    ...  \n",
        "192463                    WHEY PROTEIN (PURE)      1  \n",
        "192464       WHITE BEANS (ORGANIC) - EGYPTIAN      1  \n",
        "192465       WHITE BEANS (ORGANIC) - EGYPTIAN      1  \n",
        "192466                            WHITE ONION      1  \n",
        "192467                   WHITE SAUCE (FROZEN)      1  \n",
        "192468                 WHOLE CHICKEN (FROZEN)      1  \n",
        "192469                 WHOLE CHICKEN (FROZEN)      1  \n",
        "192470  WHOLE CHICKEN - HORMONE FREE (FROZEN)      1  \n",
        "192471  WHOLE CHICKEN - HORMONE FREE (FROZEN)      1  \n",
        "192472  WHOLE CHICKEN - HORMONE FREE (FROZEN)      1  \n",
        "192473                       WHOLE MEAL FLOUR      1  \n",
        "192474             WHOLE WHEAT SPINACH PASTRY      1  \n",
        "192475                    WHOLE WHEAT WAFFLES      1  \n",
        "192476    WILD & BROWN RICE MIX (GLUTEN FREE)      1  \n",
        "192477    WILD & BROWN RICE MIX (GLUTEN FREE)      1  \n",
        "192478            WILD GROUPER FILLET (WA2AR)      1  \n",
        "192479            WILD GROUPER FILLET (WA2AR)      1  \n",
        "192480            WILD GROUPER FILLET (WA2AR)      1  \n",
        "192481            WILD GROUPER FILLET (WA2AR)      1  \n",
        "192482             WILD HABAQ (CHEMICAL FREE)      1  \n",
        "192483                           WILD LOBSTER      1  \n",
        "192484                           WILD LOBSTER      1  \n",
        "192485                            WILD MORGAN      1  \n",
        "192486             WILD RICE ( ORGANIC ) 227G      1  \n",
        "192487              WILD ROYAL DORAD (DENEES)      1  \n",
        "192488              WILD ROYAL DORAD (DENEES)      1  \n",
        "192489                          WILD SARDINES      1  \n",
        "192490                   WILD SHRIMP (MEDIUM)      1  \n",
        "192491                          YELLOW APPLES      1  \n",
        "192492                         YELLOW MUSTARD      1  \n",
        "\n",
        "[192493 rows x 4 columns]"
       ]
      }
     ],
     "prompt_number": 18
    },
    {
     "cell_type": "code",
     "collapsed": false,
     "input": [
      "#change the date format to datetime\n",
      "df1['Date'] = df1.Date.apply(lambda x: pd.to_datetime(datetime.strptime(x, '%Y-%m-%d')).date())\n",
      "\n",
      "#sort based on count in descending order\n",
      "df1 = df1.sort(['Count'], ascending = False)\n",
      "df1 = df1.reset_index().drop('index', 1)\n",
      "df1"
     ],
     "language": "python",
     "metadata": {},
     "outputs": [
      {
       "html": [
        "<div style=\"max-height:1000px;max-width:1500px;overflow:auto;\">\n",
        "<table border=\"1\" class=\"dataframe\">\n",
        "  <thead>\n",
        "    <tr style=\"text-align: right;\">\n",
        "      <th></th>\n",
        "      <th>Date</th>\n",
        "      <th>Product1</th>\n",
        "      <th>Product2</th>\n",
        "      <th>Count</th>\n",
        "    </tr>\n",
        "  </thead>\n",
        "  <tbody>\n",
        "    <tr>\n",
        "      <th>0     </th>\n",
        "      <td> 2015-03-01</td>\n",
        "      <td>                          TOMATO ( CHEMICAL FREE )</td>\n",
        "      <td>          CUCUMBER ( CHEMICAL FREE )</td>\n",
        "      <td> 64</td>\n",
        "    </tr>\n",
        "    <tr>\n",
        "      <th>1     </th>\n",
        "      <td> 2015-01-01</td>\n",
        "      <td>                          TOMATO ( CHEMICAL FREE )</td>\n",
        "      <td>          CUCUMBER ( CHEMICAL FREE )</td>\n",
        "      <td> 49</td>\n",
        "    </tr>\n",
        "    <tr>\n",
        "      <th>2     </th>\n",
        "      <td> 2015-01-01</td>\n",
        "      <td>                   YELLOW CARROT ( CHEMICAL FREE )</td>\n",
        "      <td>          CUCUMBER ( CHEMICAL FREE )</td>\n",
        "      <td> 48</td>\n",
        "    </tr>\n",
        "    <tr>\n",
        "      <th>3     </th>\n",
        "      <td> 2015-04-01</td>\n",
        "      <td>                          TOMATO ( CHEMICAL FREE )</td>\n",
        "      <td>          CUCUMBER ( CHEMICAL FREE )</td>\n",
        "      <td> 45</td>\n",
        "    </tr>\n",
        "    <tr>\n",
        "      <th>4     </th>\n",
        "      <td> 2015-03-01</td>\n",
        "      <td>                         CHICKEN BREASTS 1KG - 1KG</td>\n",
        "      <td> BALADY WHOLE CHICKEN(CHEMICAL FREE)</td>\n",
        "      <td> 43</td>\n",
        "    </tr>\n",
        "    <tr>\n",
        "      <th>5     </th>\n",
        "      <td> 2015-03-01</td>\n",
        "      <td>                        CUCUMBER ( CHEMICAL FREE )</td>\n",
        "      <td>             BANANAS (CHEMICAL FREE)</td>\n",
        "      <td> 42</td>\n",
        "    </tr>\n",
        "    <tr>\n",
        "      <th>6     </th>\n",
        "      <td> 2015-03-01</td>\n",
        "      <td>                          TOMATO ( CHEMICAL FREE )</td>\n",
        "      <td>             BANANAS (CHEMICAL FREE)</td>\n",
        "      <td> 40</td>\n",
        "    </tr>\n",
        "    <tr>\n",
        "      <th>7     </th>\n",
        "      <td> 2015-02-01</td>\n",
        "      <td>                   YELLOW CARROT ( CHEMICAL FREE )</td>\n",
        "      <td>          CUCUMBER ( CHEMICAL FREE )</td>\n",
        "      <td> 38</td>\n",
        "    </tr>\n",
        "    <tr>\n",
        "      <th>8     </th>\n",
        "      <td> 2015-03-01</td>\n",
        "      <td>                   YELLOW CARROT ( CHEMICAL FREE )</td>\n",
        "      <td>            TOMATO ( CHEMICAL FREE )</td>\n",
        "      <td> 38</td>\n",
        "    </tr>\n",
        "    <tr>\n",
        "      <th>9     </th>\n",
        "      <td> 2015-03-01</td>\n",
        "      <td>                        CUCUMBER ( CHEMICAL FREE )</td>\n",
        "      <td>       BALADY EGGS ( CHEMICAL FREE )</td>\n",
        "      <td> 38</td>\n",
        "    </tr>\n",
        "    <tr>\n",
        "      <th>10    </th>\n",
        "      <td> 2015-01-01</td>\n",
        "      <td>                   YELLOW CARROT ( CHEMICAL FREE )</td>\n",
        "      <td>            TOMATO ( CHEMICAL FREE )</td>\n",
        "      <td> 37</td>\n",
        "    </tr>\n",
        "    <tr>\n",
        "      <th>11    </th>\n",
        "      <td> 2015-03-01</td>\n",
        "      <td>               BALADY WHOLE CHICKEN(CHEMICAL FREE)</td>\n",
        "      <td>       BALADY EGGS ( CHEMICAL FREE )</td>\n",
        "      <td> 37</td>\n",
        "    </tr>\n",
        "    <tr>\n",
        "      <th>12    </th>\n",
        "      <td> 2015-03-01</td>\n",
        "      <td>                   YELLOW CARROT ( CHEMICAL FREE )</td>\n",
        "      <td>          CUCUMBER ( CHEMICAL FREE )</td>\n",
        "      <td> 37</td>\n",
        "    </tr>\n",
        "    <tr>\n",
        "      <th>13    </th>\n",
        "      <td> 2015-03-01</td>\n",
        "      <td>                        CUCUMBER ( CHEMICAL FREE )</td>\n",
        "      <td> BALADY WHOLE CHICKEN(CHEMICAL FREE)</td>\n",
        "      <td> 37</td>\n",
        "    </tr>\n",
        "    <tr>\n",
        "      <th>14    </th>\n",
        "      <td> 2015-02-01</td>\n",
        "      <td>                   YELLOW CARROT ( CHEMICAL FREE )</td>\n",
        "      <td>            POTATOES( CHEMICAL FREE)</td>\n",
        "      <td> 37</td>\n",
        "    </tr>\n",
        "    <tr>\n",
        "      <th>15    </th>\n",
        "      <td> 2015-01-01</td>\n",
        "      <td>                   YELLOW CARROT ( CHEMICAL FREE )</td>\n",
        "      <td>            POTATOES( CHEMICAL FREE)</td>\n",
        "      <td> 36</td>\n",
        "    </tr>\n",
        "    <tr>\n",
        "      <th>16    </th>\n",
        "      <td> 2015-03-01</td>\n",
        "      <td>                          TOMATO ( CHEMICAL FREE )</td>\n",
        "      <td>       BALADY EGGS ( CHEMICAL FREE )</td>\n",
        "      <td> 35</td>\n",
        "    </tr>\n",
        "    <tr>\n",
        "      <th>17    </th>\n",
        "      <td> 2015-04-01</td>\n",
        "      <td>                              KALE (CHEMICAL FREE)</td>\n",
        "      <td>         BABY SPINACH(CHEMICAL FREE)</td>\n",
        "      <td> 33</td>\n",
        "    </tr>\n",
        "    <tr>\n",
        "      <th>18    </th>\n",
        "      <td> 2015-10-01</td>\n",
        "      <td>                             BALADY EGGS (ORGANIC)</td>\n",
        "      <td>        BABY SPINACH (CHEMICAL FREE)</td>\n",
        "      <td> 33</td>\n",
        "    </tr>\n",
        "    <tr>\n",
        "      <th>19    </th>\n",
        "      <td> 2015-01-01</td>\n",
        "      <td>                        ZUCCHINI ( CHEMICAL FREE )</td>\n",
        "      <td>     YELLOW CARROT ( CHEMICAL FREE )</td>\n",
        "      <td> 33</td>\n",
        "    </tr>\n",
        "    <tr>\n",
        "      <th>20    </th>\n",
        "      <td> 2015-03-01</td>\n",
        "      <td>                        CUCUMBER ( CHEMICAL FREE )</td>\n",
        "      <td>             BEETROOT(CHEMICAL FREE)</td>\n",
        "      <td> 32</td>\n",
        "    </tr>\n",
        "    <tr>\n",
        "      <th>21    </th>\n",
        "      <td> 2015-05-01</td>\n",
        "      <td>                                 WHOLE CHICKEN 1KG</td>\n",
        "      <td>                 CHICKEN BREASTS 1KG</td>\n",
        "      <td> 32</td>\n",
        "    </tr>\n",
        "    <tr>\n",
        "      <th>22    </th>\n",
        "      <td> 2014-10-01</td>\n",
        "      <td>                          TOMATO ( CHEMICAL FREE )</td>\n",
        "      <td>          CUCUMBER ( CHEMICAL FREE )</td>\n",
        "      <td> 31</td>\n",
        "    </tr>\n",
        "    <tr>\n",
        "      <th>23    </th>\n",
        "      <td> 2015-03-01</td>\n",
        "      <td>                                      BABY SPINACH</td>\n",
        "      <td>                 AVOCADOS (IMPORTED)</td>\n",
        "      <td> 30</td>\n",
        "    </tr>\n",
        "    <tr>\n",
        "      <th>24    </th>\n",
        "      <td> 2015-01-01</td>\n",
        "      <td>                          TOMATO ( CHEMICAL FREE )</td>\n",
        "      <td>            POTATOES( CHEMICAL FREE)</td>\n",
        "      <td> 30</td>\n",
        "    </tr>\n",
        "    <tr>\n",
        "      <th>25    </th>\n",
        "      <td> 2015-04-01</td>\n",
        "      <td>                       BABY SPINACH(CHEMICAL FREE)</td>\n",
        "      <td>                 AVOCADOS (IMPORTED)</td>\n",
        "      <td> 29</td>\n",
        "    </tr>\n",
        "    <tr>\n",
        "      <th>26    </th>\n",
        "      <td> 2015-03-01</td>\n",
        "      <td>                   YELLOW CARROT ( CHEMICAL FREE )</td>\n",
        "      <td>             BANANAS (CHEMICAL FREE)</td>\n",
        "      <td> 29</td>\n",
        "    </tr>\n",
        "    <tr>\n",
        "      <th>27    </th>\n",
        "      <td> 2015-03-01</td>\n",
        "      <td>                          TOMATO ( CHEMICAL FREE )</td>\n",
        "      <td>             BEETROOT(CHEMICAL FREE)</td>\n",
        "      <td> 29</td>\n",
        "    </tr>\n",
        "    <tr>\n",
        "      <th>28    </th>\n",
        "      <td> 2015-01-01</td>\n",
        "      <td>                          POTATOES( CHEMICAL FREE)</td>\n",
        "      <td>          CUCUMBER ( CHEMICAL FREE )</td>\n",
        "      <td> 28</td>\n",
        "    </tr>\n",
        "    <tr>\n",
        "      <th>29    </th>\n",
        "      <td> 2015-01-01</td>\n",
        "      <td>                        ZUCCHINI ( CHEMICAL FREE )</td>\n",
        "      <td>            TOMATO ( CHEMICAL FREE )</td>\n",
        "      <td> 28</td>\n",
        "    </tr>\n",
        "    <tr>\n",
        "      <th>...</th>\n",
        "      <td>...</td>\n",
        "      <td>...</td>\n",
        "      <td>...</td>\n",
        "      <td>...</td>\n",
        "    </tr>\n",
        "    <tr>\n",
        "      <th>192463</th>\n",
        "      <td> 2014-08-01</td>\n",
        "      <td>                             GREEN ICEBERG LETTUCE</td>\n",
        "      <td>                              CHIVES</td>\n",
        "      <td>  1</td>\n",
        "    </tr>\n",
        "    <tr>\n",
        "      <th>192464</th>\n",
        "      <td> 2014-08-01</td>\n",
        "      <td>                                        JOJOBA OIL</td>\n",
        "      <td>                              CHIVES</td>\n",
        "      <td>  1</td>\n",
        "    </tr>\n",
        "    <tr>\n",
        "      <th>192465</th>\n",
        "      <td> 2014-08-01</td>\n",
        "      <td> MUESLI WITH BRANBERRY AND STRAWBERRIES ( ORGAN...</td>\n",
        "      <td> CHICKEN CUTLETS (SHISHTAWOOK) - 1KG</td>\n",
        "      <td>  1</td>\n",
        "    </tr>\n",
        "    <tr>\n",
        "      <th>192466</th>\n",
        "      <td> 2014-08-01</td>\n",
        "      <td>                                              KIWI</td>\n",
        "      <td>                              CHIVES</td>\n",
        "      <td>  1</td>\n",
        "    </tr>\n",
        "    <tr>\n",
        "      <th>192467</th>\n",
        "      <td> 2014-08-01</td>\n",
        "      <td>                                       LEMON GRASS</td>\n",
        "      <td>                              CHIVES</td>\n",
        "      <td>  1</td>\n",
        "    </tr>\n",
        "    <tr>\n",
        "      <th>192468</th>\n",
        "      <td> 2014-08-01</td>\n",
        "      <td>                            LIME ( CHEMICAL FREE )</td>\n",
        "      <td>                              CHIVES</td>\n",
        "      <td>  1</td>\n",
        "    </tr>\n",
        "    <tr>\n",
        "      <th>192469</th>\n",
        "      <td> 2014-08-01</td>\n",
        "      <td>                         MORINGA POWDER (ORGANIC )</td>\n",
        "      <td>                              CHIVES</td>\n",
        "      <td>  1</td>\n",
        "    </tr>\n",
        "    <tr>\n",
        "      <th>192470</th>\n",
        "      <td> 2014-08-01</td>\n",
        "      <td>                                          MUSHROOM</td>\n",
        "      <td>                              CHIVES</td>\n",
        "      <td>  1</td>\n",
        "    </tr>\n",
        "    <tr>\n",
        "      <th>192471</th>\n",
        "      <td> 2014-08-01</td>\n",
        "      <td>                            RASPBERRIES ( FROZEN )</td>\n",
        "      <td>                              CHIVES</td>\n",
        "      <td>  1</td>\n",
        "    </tr>\n",
        "    <tr>\n",
        "      <th>192472</th>\n",
        "      <td> 2014-08-01</td>\n",
        "      <td>                                       RED CABBAGE</td>\n",
        "      <td>                              CHIVES</td>\n",
        "      <td>  1</td>\n",
        "    </tr>\n",
        "    <tr>\n",
        "      <th>192473</th>\n",
        "      <td> 2014-08-01</td>\n",
        "      <td>                        CUCUMBER ( CHEMICAL FREE )</td>\n",
        "      <td>                              CHIVES</td>\n",
        "      <td>  1</td>\n",
        "    </tr>\n",
        "    <tr>\n",
        "      <th>192474</th>\n",
        "      <td> 2014-08-01</td>\n",
        "      <td>                               WHOLE CHICKEN - 1KG</td>\n",
        "      <td> CHICKEN CUTLETS (SHISHTAWOOK) - 1KG</td>\n",
        "      <td>  1</td>\n",
        "    </tr>\n",
        "    <tr>\n",
        "      <th>192475</th>\n",
        "      <td> 2014-08-01</td>\n",
        "      <td>                          TOMATO ( CHEMICAL FREE )</td>\n",
        "      <td> CHICKEN CUTLETS (SHISHTAWOOK) - 1KG</td>\n",
        "      <td>  1</td>\n",
        "    </tr>\n",
        "    <tr>\n",
        "      <th>192476</th>\n",
        "      <td> 2014-08-01</td>\n",
        "      <td>                                      SWEET ONIONS</td>\n",
        "      <td> CHICKEN CUTLETS (SHISHTAWOOK) - 1KG</td>\n",
        "      <td>  1</td>\n",
        "    </tr>\n",
        "    <tr>\n",
        "      <th>192477</th>\n",
        "      <td> 2014-08-01</td>\n",
        "      <td>    MUESLI WITH FRUITS, NUTS AND SEEDS ( ORGANIC )</td>\n",
        "      <td> CHICKEN CUTLETS (SHISHTAWOOK) - 1KG</td>\n",
        "      <td>  1</td>\n",
        "    </tr>\n",
        "    <tr>\n",
        "      <th>192478</th>\n",
        "      <td> 2014-08-01</td>\n",
        "      <td>          OATS WITH APPLE AND CINNAMON ( ORGANIC )</td>\n",
        "      <td> CHICKEN CUTLETS (SHISHTAWOOK) - 1KG</td>\n",
        "      <td>  1</td>\n",
        "    </tr>\n",
        "    <tr>\n",
        "      <th>192479</th>\n",
        "      <td> 2014-08-01</td>\n",
        "      <td>                   OLD COUNTRY STYLE MUESLI - 510G</td>\n",
        "      <td> CHICKEN CUTLETS (SHISHTAWOOK) - 1KG</td>\n",
        "      <td>  1</td>\n",
        "    </tr>\n",
        "    <tr>\n",
        "      <th>192480</th>\n",
        "      <td> 2014-08-01</td>\n",
        "      <td>                PANCAKE MIX ( GLUTEN FREE ) - 623G</td>\n",
        "      <td> CHICKEN CUTLETS (SHISHTAWOOK) - 1KG</td>\n",
        "      <td>  1</td>\n",
        "    </tr>\n",
        "    <tr>\n",
        "      <th>192481</th>\n",
        "      <td> 2014-08-01</td>\n",
        "      <td>                           RAISINS (CHEMICAL FREE)</td>\n",
        "      <td> CHICKEN CUTLETS (SHISHTAWOOK) - 1KG</td>\n",
        "      <td>  1</td>\n",
        "    </tr>\n",
        "    <tr>\n",
        "      <th>192482</th>\n",
        "      <td> 2014-08-01</td>\n",
        "      <td>                      RAW ALMONDS - SHELLED - 250G</td>\n",
        "      <td> CHICKEN CUTLETS (SHISHTAWOOK) - 1KG</td>\n",
        "      <td>  1</td>\n",
        "    </tr>\n",
        "    <tr>\n",
        "      <th>192483</th>\n",
        "      <td> 2014-08-01</td>\n",
        "      <td>                             RAW CASHEW NUT - 250G</td>\n",
        "      <td> CHICKEN CUTLETS (SHISHTAWOOK) - 1KG</td>\n",
        "      <td>  1</td>\n",
        "    </tr>\n",
        "    <tr>\n",
        "      <th>192484</th>\n",
        "      <td> 2014-08-01</td>\n",
        "      <td>              RED GRAPES - SEEDLESS(CHEMICAL FREE)</td>\n",
        "      <td> CHICKEN CUTLETS (SHISHTAWOOK) - 1KG</td>\n",
        "      <td>  1</td>\n",
        "    </tr>\n",
        "    <tr>\n",
        "      <th>192485</th>\n",
        "      <td> 2014-08-01</td>\n",
        "      <td>                       RED ONION ( CHEMICAL FREE )</td>\n",
        "      <td> CHICKEN CUTLETS (SHISHTAWOOK) - 1KG</td>\n",
        "      <td>  1</td>\n",
        "    </tr>\n",
        "    <tr>\n",
        "      <th>192486</th>\n",
        "      <td> 2014-08-01</td>\n",
        "      <td>                                          ROSEMARY</td>\n",
        "      <td> CHICKEN CUTLETS (SHISHTAWOOK) - 1KG</td>\n",
        "      <td>  1</td>\n",
        "    </tr>\n",
        "    <tr>\n",
        "      <th>192487</th>\n",
        "      <td> 2014-08-01</td>\n",
        "      <td>                                     SALAD FLOWERS</td>\n",
        "      <td> CHICKEN CUTLETS (SHISHTAWOOK) - 1KG</td>\n",
        "      <td>  1</td>\n",
        "    </tr>\n",
        "    <tr>\n",
        "      <th>192488</th>\n",
        "      <td> 2014-08-01</td>\n",
        "      <td>                           SALMON STEAK ( FROZEN )</td>\n",
        "      <td> CHICKEN CUTLETS (SHISHTAWOOK) - 1KG</td>\n",
        "      <td>  1</td>\n",
        "    </tr>\n",
        "    <tr>\n",
        "      <th>192489</th>\n",
        "      <td> 2014-08-01</td>\n",
        "      <td>                  SOY MILK (ORGANIC) - UNSWEETENED</td>\n",
        "      <td> CHICKEN CUTLETS (SHISHTAWOOK) - 1KG</td>\n",
        "      <td>  1</td>\n",
        "    </tr>\n",
        "    <tr>\n",
        "      <th>192490</th>\n",
        "      <td> 2014-08-01</td>\n",
        "      <td>                                SOY MILK (VANILLA)</td>\n",
        "      <td> CHICKEN CUTLETS (SHISHTAWOOK) - 1KG</td>\n",
        "      <td>  1</td>\n",
        "    </tr>\n",
        "    <tr>\n",
        "      <th>192491</th>\n",
        "      <td> 2014-08-01</td>\n",
        "      <td>                                   SUCRINE LETTUCE</td>\n",
        "      <td> CHICKEN CUTLETS (SHISHTAWOOK) - 1KG</td>\n",
        "      <td>  1</td>\n",
        "    </tr>\n",
        "    <tr>\n",
        "      <th>192492</th>\n",
        "      <td> 2015-12-01</td>\n",
        "      <td>                                ZUCCHINI (ORGANIC)</td>\n",
        "      <td>                      YELLOW MUSTARD</td>\n",
        "      <td>  1</td>\n",
        "    </tr>\n",
        "  </tbody>\n",
        "</table>\n",
        "<p>192493 rows \u00d7 4 columns</p>\n",
        "</div>"
       ],
       "metadata": {},
       "output_type": "pyout",
       "prompt_number": 19,
       "text": [
        "              Date                                           Product1  \\\n",
        "0       2015-03-01                           TOMATO ( CHEMICAL FREE )   \n",
        "1       2015-01-01                           TOMATO ( CHEMICAL FREE )   \n",
        "2       2015-01-01                    YELLOW CARROT ( CHEMICAL FREE )   \n",
        "3       2015-04-01                           TOMATO ( CHEMICAL FREE )   \n",
        "4       2015-03-01                          CHICKEN BREASTS 1KG - 1KG   \n",
        "5       2015-03-01                         CUCUMBER ( CHEMICAL FREE )   \n",
        "6       2015-03-01                           TOMATO ( CHEMICAL FREE )   \n",
        "7       2015-02-01                    YELLOW CARROT ( CHEMICAL FREE )   \n",
        "8       2015-03-01                    YELLOW CARROT ( CHEMICAL FREE )   \n",
        "9       2015-03-01                         CUCUMBER ( CHEMICAL FREE )   \n",
        "10      2015-01-01                    YELLOW CARROT ( CHEMICAL FREE )   \n",
        "11      2015-03-01                BALADY WHOLE CHICKEN(CHEMICAL FREE)   \n",
        "12      2015-03-01                    YELLOW CARROT ( CHEMICAL FREE )   \n",
        "13      2015-03-01                         CUCUMBER ( CHEMICAL FREE )   \n",
        "14      2015-02-01                    YELLOW CARROT ( CHEMICAL FREE )   \n",
        "15      2015-01-01                    YELLOW CARROT ( CHEMICAL FREE )   \n",
        "16      2015-03-01                           TOMATO ( CHEMICAL FREE )   \n",
        "17      2015-04-01                               KALE (CHEMICAL FREE)   \n",
        "18      2015-10-01                              BALADY EGGS (ORGANIC)   \n",
        "19      2015-01-01                         ZUCCHINI ( CHEMICAL FREE )   \n",
        "20      2015-03-01                         CUCUMBER ( CHEMICAL FREE )   \n",
        "21      2015-05-01                                  WHOLE CHICKEN 1KG   \n",
        "22      2014-10-01                           TOMATO ( CHEMICAL FREE )   \n",
        "23      2015-03-01                                       BABY SPINACH   \n",
        "24      2015-01-01                           TOMATO ( CHEMICAL FREE )   \n",
        "25      2015-04-01                        BABY SPINACH(CHEMICAL FREE)   \n",
        "26      2015-03-01                    YELLOW CARROT ( CHEMICAL FREE )   \n",
        "27      2015-03-01                           TOMATO ( CHEMICAL FREE )   \n",
        "28      2015-01-01                           POTATOES( CHEMICAL FREE)   \n",
        "29      2015-01-01                         ZUCCHINI ( CHEMICAL FREE )   \n",
        "...            ...                                                ...   \n",
        "192463  2014-08-01                              GREEN ICEBERG LETTUCE   \n",
        "192464  2014-08-01                                         JOJOBA OIL   \n",
        "192465  2014-08-01  MUESLI WITH BRANBERRY AND STRAWBERRIES ( ORGAN...   \n",
        "192466  2014-08-01                                               KIWI   \n",
        "192467  2014-08-01                                        LEMON GRASS   \n",
        "192468  2014-08-01                             LIME ( CHEMICAL FREE )   \n",
        "192469  2014-08-01                          MORINGA POWDER (ORGANIC )   \n",
        "192470  2014-08-01                                           MUSHROOM   \n",
        "192471  2014-08-01                             RASPBERRIES ( FROZEN )   \n",
        "192472  2014-08-01                                        RED CABBAGE   \n",
        "192473  2014-08-01                         CUCUMBER ( CHEMICAL FREE )   \n",
        "192474  2014-08-01                                WHOLE CHICKEN - 1KG   \n",
        "192475  2014-08-01                           TOMATO ( CHEMICAL FREE )   \n",
        "192476  2014-08-01                                       SWEET ONIONS   \n",
        "192477  2014-08-01     MUESLI WITH FRUITS, NUTS AND SEEDS ( ORGANIC )   \n",
        "192478  2014-08-01           OATS WITH APPLE AND CINNAMON ( ORGANIC )   \n",
        "192479  2014-08-01                    OLD COUNTRY STYLE MUESLI - 510G   \n",
        "192480  2014-08-01                 PANCAKE MIX ( GLUTEN FREE ) - 623G   \n",
        "192481  2014-08-01                            RAISINS (CHEMICAL FREE)   \n",
        "192482  2014-08-01                       RAW ALMONDS - SHELLED - 250G   \n",
        "192483  2014-08-01                              RAW CASHEW NUT - 250G   \n",
        "192484  2014-08-01               RED GRAPES - SEEDLESS(CHEMICAL FREE)   \n",
        "192485  2014-08-01                        RED ONION ( CHEMICAL FREE )   \n",
        "192486  2014-08-01                                           ROSEMARY   \n",
        "192487  2014-08-01                                      SALAD FLOWERS   \n",
        "192488  2014-08-01                            SALMON STEAK ( FROZEN )   \n",
        "192489  2014-08-01                   SOY MILK (ORGANIC) - UNSWEETENED   \n",
        "192490  2014-08-01                                 SOY MILK (VANILLA)   \n",
        "192491  2014-08-01                                    SUCRINE LETTUCE   \n",
        "192492  2015-12-01                                 ZUCCHINI (ORGANIC)   \n",
        "\n",
        "                                   Product2  Count  \n",
        "0                CUCUMBER ( CHEMICAL FREE )     64  \n",
        "1                CUCUMBER ( CHEMICAL FREE )     49  \n",
        "2                CUCUMBER ( CHEMICAL FREE )     48  \n",
        "3                CUCUMBER ( CHEMICAL FREE )     45  \n",
        "4       BALADY WHOLE CHICKEN(CHEMICAL FREE)     43  \n",
        "5                   BANANAS (CHEMICAL FREE)     42  \n",
        "6                   BANANAS (CHEMICAL FREE)     40  \n",
        "7                CUCUMBER ( CHEMICAL FREE )     38  \n",
        "8                  TOMATO ( CHEMICAL FREE )     38  \n",
        "9             BALADY EGGS ( CHEMICAL FREE )     38  \n",
        "10                 TOMATO ( CHEMICAL FREE )     37  \n",
        "11            BALADY EGGS ( CHEMICAL FREE )     37  \n",
        "12               CUCUMBER ( CHEMICAL FREE )     37  \n",
        "13      BALADY WHOLE CHICKEN(CHEMICAL FREE)     37  \n",
        "14                 POTATOES( CHEMICAL FREE)     37  \n",
        "15                 POTATOES( CHEMICAL FREE)     36  \n",
        "16            BALADY EGGS ( CHEMICAL FREE )     35  \n",
        "17              BABY SPINACH(CHEMICAL FREE)     33  \n",
        "18             BABY SPINACH (CHEMICAL FREE)     33  \n",
        "19          YELLOW CARROT ( CHEMICAL FREE )     33  \n",
        "20                  BEETROOT(CHEMICAL FREE)     32  \n",
        "21                      CHICKEN BREASTS 1KG     32  \n",
        "22               CUCUMBER ( CHEMICAL FREE )     31  \n",
        "23                      AVOCADOS (IMPORTED)     30  \n",
        "24                 POTATOES( CHEMICAL FREE)     30  \n",
        "25                      AVOCADOS (IMPORTED)     29  \n",
        "26                  BANANAS (CHEMICAL FREE)     29  \n",
        "27                  BEETROOT(CHEMICAL FREE)     29  \n",
        "28               CUCUMBER ( CHEMICAL FREE )     28  \n",
        "29                 TOMATO ( CHEMICAL FREE )     28  \n",
        "...                                     ...    ...  \n",
        "192463                               CHIVES      1  \n",
        "192464                               CHIVES      1  \n",
        "192465  CHICKEN CUTLETS (SHISHTAWOOK) - 1KG      1  \n",
        "192466                               CHIVES      1  \n",
        "192467                               CHIVES      1  \n",
        "192468                               CHIVES      1  \n",
        "192469                               CHIVES      1  \n",
        "192470                               CHIVES      1  \n",
        "192471                               CHIVES      1  \n",
        "192472                               CHIVES      1  \n",
        "192473                               CHIVES      1  \n",
        "192474  CHICKEN CUTLETS (SHISHTAWOOK) - 1KG      1  \n",
        "192475  CHICKEN CUTLETS (SHISHTAWOOK) - 1KG      1  \n",
        "192476  CHICKEN CUTLETS (SHISHTAWOOK) - 1KG      1  \n",
        "192477  CHICKEN CUTLETS (SHISHTAWOOK) - 1KG      1  \n",
        "192478  CHICKEN CUTLETS (SHISHTAWOOK) - 1KG      1  \n",
        "192479  CHICKEN CUTLETS (SHISHTAWOOK) - 1KG      1  \n",
        "192480  CHICKEN CUTLETS (SHISHTAWOOK) - 1KG      1  \n",
        "192481  CHICKEN CUTLETS (SHISHTAWOOK) - 1KG      1  \n",
        "192482  CHICKEN CUTLETS (SHISHTAWOOK) - 1KG      1  \n",
        "192483  CHICKEN CUTLETS (SHISHTAWOOK) - 1KG      1  \n",
        "192484  CHICKEN CUTLETS (SHISHTAWOOK) - 1KG      1  \n",
        "192485  CHICKEN CUTLETS (SHISHTAWOOK) - 1KG      1  \n",
        "192486  CHICKEN CUTLETS (SHISHTAWOOK) - 1KG      1  \n",
        "192487  CHICKEN CUTLETS (SHISHTAWOOK) - 1KG      1  \n",
        "192488  CHICKEN CUTLETS (SHISHTAWOOK) - 1KG      1  \n",
        "192489  CHICKEN CUTLETS (SHISHTAWOOK) - 1KG      1  \n",
        "192490  CHICKEN CUTLETS (SHISHTAWOOK) - 1KG      1  \n",
        "192491  CHICKEN CUTLETS (SHISHTAWOOK) - 1KG      1  \n",
        "192492                       YELLOW MUSTARD      1  \n",
        "\n",
        "[192493 rows x 4 columns]"
       ]
      }
     ],
     "prompt_number": 19
    },
    {
     "cell_type": "code",
     "collapsed": false,
     "input": [],
     "language": "python",
     "metadata": {},
     "outputs": []
    }
   ],
   "metadata": {}
  }
 ]
}
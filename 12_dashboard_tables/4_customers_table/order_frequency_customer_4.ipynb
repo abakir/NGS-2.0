{
 "metadata": {
  "name": "",
  "signature": "sha256:2bf3d2c26f709ba603c389068e96b17aa865e17e0fb6080fc5f8bc4d355e486b"
 },
 "nbformat": 3,
 "nbformat_minor": 0,
 "worksheets": [
  {
   "cells": [
    {
     "cell_type": "code",
     "collapsed": false,
     "input": [
      "import pandas as pd\n",
      "#import yaml\n",
      "\n",
      "#with open(\"config.yaml\", 'r') as ymlfile:\n",
      "#        cfg = yaml.load(ymlfile)\n",
      "\n",
      "#df = pd.read_csv(cfg['root']+cfg['dir_data_shopify']+cfg[\"ip_orders\"], low_memory=False)\n",
      "df = pd.read_csv('C:\\Users\\saisree849\\Documents\\GitHub\\NGS-2.0\\\\12_dashboard_tables\\data_input\\shopify\\orders_export.csv', low_memory=False)\n",
      "df"
     ],
     "language": "python",
     "metadata": {},
     "outputs": [
      {
       "html": [
        "<div style=\"max-height:1000px;max-width:1500px;overflow:auto;\">\n",
        "<table border=\"1\" class=\"dataframe\">\n",
        "  <thead>\n",
        "    <tr style=\"text-align: right;\">\n",
        "      <th></th>\n",
        "      <th>Name</th>\n",
        "      <th>Email</th>\n",
        "      <th>Financial Status</th>\n",
        "      <th>Paid at</th>\n",
        "      <th>Fulfillment Status</th>\n",
        "      <th>Fulfilled at</th>\n",
        "      <th>Accepts Marketing</th>\n",
        "      <th>Currency</th>\n",
        "      <th>Subtotal</th>\n",
        "      <th>Shipping</th>\n",
        "      <th>...</th>\n",
        "      <th>Tax 1 Name</th>\n",
        "      <th>Tax 1 Value</th>\n",
        "      <th>Tax 2 Name</th>\n",
        "      <th>Tax 2 Value</th>\n",
        "      <th>Tax 3 Name</th>\n",
        "      <th>Tax 3 Value</th>\n",
        "      <th>Tax 4 Name</th>\n",
        "      <th>Tax 4 Value</th>\n",
        "      <th>Tax 5 Name</th>\n",
        "      <th>Tax 5 Value</th>\n",
        "    </tr>\n",
        "  </thead>\n",
        "  <tbody>\n",
        "    <tr>\n",
        "      <th>0    </th>\n",
        "      <td> #10367</td>\n",
        "      <td>  rehabmansour@gmail.com</td>\n",
        "      <td> pending</td>\n",
        "      <td>                       NaN</td>\n",
        "      <td> unfulfilled</td>\n",
        "      <td>                       NaN</td>\n",
        "      <td>  no</td>\n",
        "      <td> EGP</td>\n",
        "      <td> 375.30</td>\n",
        "      <td> 10</td>\n",
        "      <td>...</td>\n",
        "      <td>NaN</td>\n",
        "      <td>NaN</td>\n",
        "      <td>NaN</td>\n",
        "      <td>NaN</td>\n",
        "      <td>NaN</td>\n",
        "      <td>NaN</td>\n",
        "      <td>NaN</td>\n",
        "      <td>NaN</td>\n",
        "      <td>NaN</td>\n",
        "      <td>NaN</td>\n",
        "    </tr>\n",
        "    <tr>\n",
        "      <th>1    </th>\n",
        "      <td> #10367</td>\n",
        "      <td>  rehabmansour@gmail.com</td>\n",
        "      <td>     NaN</td>\n",
        "      <td>                       NaN</td>\n",
        "      <td>         NaN</td>\n",
        "      <td>                       NaN</td>\n",
        "      <td> NaN</td>\n",
        "      <td> NaN</td>\n",
        "      <td>    NaN</td>\n",
        "      <td>NaN</td>\n",
        "      <td>...</td>\n",
        "      <td>NaN</td>\n",
        "      <td>NaN</td>\n",
        "      <td>NaN</td>\n",
        "      <td>NaN</td>\n",
        "      <td>NaN</td>\n",
        "      <td>NaN</td>\n",
        "      <td>NaN</td>\n",
        "      <td>NaN</td>\n",
        "      <td>NaN</td>\n",
        "      <td>NaN</td>\n",
        "    </tr>\n",
        "    <tr>\n",
        "      <th>2    </th>\n",
        "      <td> #10367</td>\n",
        "      <td>  rehabmansour@gmail.com</td>\n",
        "      <td>     NaN</td>\n",
        "      <td>                       NaN</td>\n",
        "      <td>         NaN</td>\n",
        "      <td>                       NaN</td>\n",
        "      <td> NaN</td>\n",
        "      <td> NaN</td>\n",
        "      <td>    NaN</td>\n",
        "      <td>NaN</td>\n",
        "      <td>...</td>\n",
        "      <td>NaN</td>\n",
        "      <td>NaN</td>\n",
        "      <td>NaN</td>\n",
        "      <td>NaN</td>\n",
        "      <td>NaN</td>\n",
        "      <td>NaN</td>\n",
        "      <td>NaN</td>\n",
        "      <td>NaN</td>\n",
        "      <td>NaN</td>\n",
        "      <td>NaN</td>\n",
        "    </tr>\n",
        "    <tr>\n",
        "      <th>3    </th>\n",
        "      <td> #10366</td>\n",
        "      <td>     nabouheif@yahoo.com</td>\n",
        "      <td> pending</td>\n",
        "      <td>                       NaN</td>\n",
        "      <td> unfulfilled</td>\n",
        "      <td>                       NaN</td>\n",
        "      <td>  no</td>\n",
        "      <td> EGP</td>\n",
        "      <td> 162.90</td>\n",
        "      <td> 10</td>\n",
        "      <td>...</td>\n",
        "      <td>NaN</td>\n",
        "      <td>NaN</td>\n",
        "      <td>NaN</td>\n",
        "      <td>NaN</td>\n",
        "      <td>NaN</td>\n",
        "      <td>NaN</td>\n",
        "      <td>NaN</td>\n",
        "      <td>NaN</td>\n",
        "      <td>NaN</td>\n",
        "      <td>NaN</td>\n",
        "    </tr>\n",
        "    <tr>\n",
        "      <th>4    </th>\n",
        "      <td> #10366</td>\n",
        "      <td>     nabouheif@yahoo.com</td>\n",
        "      <td>     NaN</td>\n",
        "      <td>                       NaN</td>\n",
        "      <td>         NaN</td>\n",
        "      <td>                       NaN</td>\n",
        "      <td> NaN</td>\n",
        "      <td> NaN</td>\n",
        "      <td>    NaN</td>\n",
        "      <td>NaN</td>\n",
        "      <td>...</td>\n",
        "      <td>NaN</td>\n",
        "      <td>NaN</td>\n",
        "      <td>NaN</td>\n",
        "      <td>NaN</td>\n",
        "      <td>NaN</td>\n",
        "      <td>NaN</td>\n",
        "      <td>NaN</td>\n",
        "      <td>NaN</td>\n",
        "      <td>NaN</td>\n",
        "      <td>NaN</td>\n",
        "    </tr>\n",
        "    <tr>\n",
        "      <th>5    </th>\n",
        "      <td> #10366</td>\n",
        "      <td>     nabouheif@yahoo.com</td>\n",
        "      <td>     NaN</td>\n",
        "      <td>                       NaN</td>\n",
        "      <td>         NaN</td>\n",
        "      <td>                       NaN</td>\n",
        "      <td> NaN</td>\n",
        "      <td> NaN</td>\n",
        "      <td>    NaN</td>\n",
        "      <td>NaN</td>\n",
        "      <td>...</td>\n",
        "      <td>NaN</td>\n",
        "      <td>NaN</td>\n",
        "      <td>NaN</td>\n",
        "      <td>NaN</td>\n",
        "      <td>NaN</td>\n",
        "      <td>NaN</td>\n",
        "      <td>NaN</td>\n",
        "      <td>NaN</td>\n",
        "      <td>NaN</td>\n",
        "      <td>NaN</td>\n",
        "    </tr>\n",
        "    <tr>\n",
        "      <th>6    </th>\n",
        "      <td> #10365</td>\n",
        "      <td>  fracicardi@hotmail.com</td>\n",
        "      <td> pending</td>\n",
        "      <td>                       NaN</td>\n",
        "      <td> unfulfilled</td>\n",
        "      <td>                       NaN</td>\n",
        "      <td>  no</td>\n",
        "      <td> EGP</td>\n",
        "      <td> 129.00</td>\n",
        "      <td> 15</td>\n",
        "      <td>...</td>\n",
        "      <td>NaN</td>\n",
        "      <td>NaN</td>\n",
        "      <td>NaN</td>\n",
        "      <td>NaN</td>\n",
        "      <td>NaN</td>\n",
        "      <td>NaN</td>\n",
        "      <td>NaN</td>\n",
        "      <td>NaN</td>\n",
        "      <td>NaN</td>\n",
        "      <td>NaN</td>\n",
        "    </tr>\n",
        "    <tr>\n",
        "      <th>7    </th>\n",
        "      <td> #10365</td>\n",
        "      <td>  fracicardi@hotmail.com</td>\n",
        "      <td>     NaN</td>\n",
        "      <td>                       NaN</td>\n",
        "      <td>         NaN</td>\n",
        "      <td>                       NaN</td>\n",
        "      <td> NaN</td>\n",
        "      <td> NaN</td>\n",
        "      <td>    NaN</td>\n",
        "      <td>NaN</td>\n",
        "      <td>...</td>\n",
        "      <td>NaN</td>\n",
        "      <td>NaN</td>\n",
        "      <td>NaN</td>\n",
        "      <td>NaN</td>\n",
        "      <td>NaN</td>\n",
        "      <td>NaN</td>\n",
        "      <td>NaN</td>\n",
        "      <td>NaN</td>\n",
        "      <td>NaN</td>\n",
        "      <td>NaN</td>\n",
        "    </tr>\n",
        "    <tr>\n",
        "      <th>8    </th>\n",
        "      <td> #10365</td>\n",
        "      <td>  fracicardi@hotmail.com</td>\n",
        "      <td>     NaN</td>\n",
        "      <td>                       NaN</td>\n",
        "      <td>         NaN</td>\n",
        "      <td>                       NaN</td>\n",
        "      <td> NaN</td>\n",
        "      <td> NaN</td>\n",
        "      <td>    NaN</td>\n",
        "      <td>NaN</td>\n",
        "      <td>...</td>\n",
        "      <td>NaN</td>\n",
        "      <td>NaN</td>\n",
        "      <td>NaN</td>\n",
        "      <td>NaN</td>\n",
        "      <td>NaN</td>\n",
        "      <td>NaN</td>\n",
        "      <td>NaN</td>\n",
        "      <td>NaN</td>\n",
        "      <td>NaN</td>\n",
        "      <td>NaN</td>\n",
        "    </tr>\n",
        "    <tr>\n",
        "      <th>9    </th>\n",
        "      <td> #10365</td>\n",
        "      <td>  fracicardi@hotmail.com</td>\n",
        "      <td>     NaN</td>\n",
        "      <td>                       NaN</td>\n",
        "      <td>         NaN</td>\n",
        "      <td>                       NaN</td>\n",
        "      <td> NaN</td>\n",
        "      <td> NaN</td>\n",
        "      <td>    NaN</td>\n",
        "      <td>NaN</td>\n",
        "      <td>...</td>\n",
        "      <td>NaN</td>\n",
        "      <td>NaN</td>\n",
        "      <td>NaN</td>\n",
        "      <td>NaN</td>\n",
        "      <td>NaN</td>\n",
        "      <td>NaN</td>\n",
        "      <td>NaN</td>\n",
        "      <td>NaN</td>\n",
        "      <td>NaN</td>\n",
        "      <td>NaN</td>\n",
        "    </tr>\n",
        "    <tr>\n",
        "      <th>10   </th>\n",
        "      <td> #10365</td>\n",
        "      <td>  fracicardi@hotmail.com</td>\n",
        "      <td>     NaN</td>\n",
        "      <td>                       NaN</td>\n",
        "      <td>         NaN</td>\n",
        "      <td>                       NaN</td>\n",
        "      <td> NaN</td>\n",
        "      <td> NaN</td>\n",
        "      <td>    NaN</td>\n",
        "      <td>NaN</td>\n",
        "      <td>...</td>\n",
        "      <td>NaN</td>\n",
        "      <td>NaN</td>\n",
        "      <td>NaN</td>\n",
        "      <td>NaN</td>\n",
        "      <td>NaN</td>\n",
        "      <td>NaN</td>\n",
        "      <td>NaN</td>\n",
        "      <td>NaN</td>\n",
        "      <td>NaN</td>\n",
        "      <td>NaN</td>\n",
        "    </tr>\n",
        "    <tr>\n",
        "      <th>11   </th>\n",
        "      <td> #10365</td>\n",
        "      <td>  fracicardi@hotmail.com</td>\n",
        "      <td>     NaN</td>\n",
        "      <td>                       NaN</td>\n",
        "      <td>         NaN</td>\n",
        "      <td>                       NaN</td>\n",
        "      <td> NaN</td>\n",
        "      <td> NaN</td>\n",
        "      <td>    NaN</td>\n",
        "      <td>NaN</td>\n",
        "      <td>...</td>\n",
        "      <td>NaN</td>\n",
        "      <td>NaN</td>\n",
        "      <td>NaN</td>\n",
        "      <td>NaN</td>\n",
        "      <td>NaN</td>\n",
        "      <td>NaN</td>\n",
        "      <td>NaN</td>\n",
        "      <td>NaN</td>\n",
        "      <td>NaN</td>\n",
        "      <td>NaN</td>\n",
        "    </tr>\n",
        "    <tr>\n",
        "      <th>12   </th>\n",
        "      <td> #10364</td>\n",
        "      <td>  ahmed.fakhry@gmail.com</td>\n",
        "      <td> pending</td>\n",
        "      <td>                       NaN</td>\n",
        "      <td> unfulfilled</td>\n",
        "      <td>                       NaN</td>\n",
        "      <td>  no</td>\n",
        "      <td> EGP</td>\n",
        "      <td> 660.10</td>\n",
        "      <td> 10</td>\n",
        "      <td>...</td>\n",
        "      <td>NaN</td>\n",
        "      <td>NaN</td>\n",
        "      <td>NaN</td>\n",
        "      <td>NaN</td>\n",
        "      <td>NaN</td>\n",
        "      <td>NaN</td>\n",
        "      <td>NaN</td>\n",
        "      <td>NaN</td>\n",
        "      <td>NaN</td>\n",
        "      <td>NaN</td>\n",
        "    </tr>\n",
        "    <tr>\n",
        "      <th>13   </th>\n",
        "      <td> #10364</td>\n",
        "      <td>  ahmed.fakhry@gmail.com</td>\n",
        "      <td>     NaN</td>\n",
        "      <td>                       NaN</td>\n",
        "      <td>         NaN</td>\n",
        "      <td>                       NaN</td>\n",
        "      <td> NaN</td>\n",
        "      <td> NaN</td>\n",
        "      <td>    NaN</td>\n",
        "      <td>NaN</td>\n",
        "      <td>...</td>\n",
        "      <td>NaN</td>\n",
        "      <td>NaN</td>\n",
        "      <td>NaN</td>\n",
        "      <td>NaN</td>\n",
        "      <td>NaN</td>\n",
        "      <td>NaN</td>\n",
        "      <td>NaN</td>\n",
        "      <td>NaN</td>\n",
        "      <td>NaN</td>\n",
        "      <td>NaN</td>\n",
        "    </tr>\n",
        "    <tr>\n",
        "      <th>14   </th>\n",
        "      <td> #10364</td>\n",
        "      <td>  ahmed.fakhry@gmail.com</td>\n",
        "      <td>     NaN</td>\n",
        "      <td>                       NaN</td>\n",
        "      <td>         NaN</td>\n",
        "      <td>                       NaN</td>\n",
        "      <td> NaN</td>\n",
        "      <td> NaN</td>\n",
        "      <td>    NaN</td>\n",
        "      <td>NaN</td>\n",
        "      <td>...</td>\n",
        "      <td>NaN</td>\n",
        "      <td>NaN</td>\n",
        "      <td>NaN</td>\n",
        "      <td>NaN</td>\n",
        "      <td>NaN</td>\n",
        "      <td>NaN</td>\n",
        "      <td>NaN</td>\n",
        "      <td>NaN</td>\n",
        "      <td>NaN</td>\n",
        "      <td>NaN</td>\n",
        "    </tr>\n",
        "    <tr>\n",
        "      <th>15   </th>\n",
        "      <td> #10364</td>\n",
        "      <td>  ahmed.fakhry@gmail.com</td>\n",
        "      <td>     NaN</td>\n",
        "      <td>                       NaN</td>\n",
        "      <td>         NaN</td>\n",
        "      <td>                       NaN</td>\n",
        "      <td> NaN</td>\n",
        "      <td> NaN</td>\n",
        "      <td>    NaN</td>\n",
        "      <td>NaN</td>\n",
        "      <td>...</td>\n",
        "      <td>NaN</td>\n",
        "      <td>NaN</td>\n",
        "      <td>NaN</td>\n",
        "      <td>NaN</td>\n",
        "      <td>NaN</td>\n",
        "      <td>NaN</td>\n",
        "      <td>NaN</td>\n",
        "      <td>NaN</td>\n",
        "      <td>NaN</td>\n",
        "      <td>NaN</td>\n",
        "    </tr>\n",
        "    <tr>\n",
        "      <th>16   </th>\n",
        "      <td> #10364</td>\n",
        "      <td>  ahmed.fakhry@gmail.com</td>\n",
        "      <td>     NaN</td>\n",
        "      <td>                       NaN</td>\n",
        "      <td>         NaN</td>\n",
        "      <td>                       NaN</td>\n",
        "      <td> NaN</td>\n",
        "      <td> NaN</td>\n",
        "      <td>    NaN</td>\n",
        "      <td>NaN</td>\n",
        "      <td>...</td>\n",
        "      <td>NaN</td>\n",
        "      <td>NaN</td>\n",
        "      <td>NaN</td>\n",
        "      <td>NaN</td>\n",
        "      <td>NaN</td>\n",
        "      <td>NaN</td>\n",
        "      <td>NaN</td>\n",
        "      <td>NaN</td>\n",
        "      <td>NaN</td>\n",
        "      <td>NaN</td>\n",
        "    </tr>\n",
        "    <tr>\n",
        "      <th>17   </th>\n",
        "      <td> #10364</td>\n",
        "      <td>  ahmed.fakhry@gmail.com</td>\n",
        "      <td>     NaN</td>\n",
        "      <td>                       NaN</td>\n",
        "      <td>         NaN</td>\n",
        "      <td>                       NaN</td>\n",
        "      <td> NaN</td>\n",
        "      <td> NaN</td>\n",
        "      <td>    NaN</td>\n",
        "      <td>NaN</td>\n",
        "      <td>...</td>\n",
        "      <td>NaN</td>\n",
        "      <td>NaN</td>\n",
        "      <td>NaN</td>\n",
        "      <td>NaN</td>\n",
        "      <td>NaN</td>\n",
        "      <td>NaN</td>\n",
        "      <td>NaN</td>\n",
        "      <td>NaN</td>\n",
        "      <td>NaN</td>\n",
        "      <td>NaN</td>\n",
        "    </tr>\n",
        "    <tr>\n",
        "      <th>18   </th>\n",
        "      <td> #10364</td>\n",
        "      <td>  ahmed.fakhry@gmail.com</td>\n",
        "      <td>     NaN</td>\n",
        "      <td>                       NaN</td>\n",
        "      <td>         NaN</td>\n",
        "      <td>                       NaN</td>\n",
        "      <td> NaN</td>\n",
        "      <td> NaN</td>\n",
        "      <td>    NaN</td>\n",
        "      <td>NaN</td>\n",
        "      <td>...</td>\n",
        "      <td>NaN</td>\n",
        "      <td>NaN</td>\n",
        "      <td>NaN</td>\n",
        "      <td>NaN</td>\n",
        "      <td>NaN</td>\n",
        "      <td>NaN</td>\n",
        "      <td>NaN</td>\n",
        "      <td>NaN</td>\n",
        "      <td>NaN</td>\n",
        "      <td>NaN</td>\n",
        "    </tr>\n",
        "    <tr>\n",
        "      <th>19   </th>\n",
        "      <td> #10364</td>\n",
        "      <td>  ahmed.fakhry@gmail.com</td>\n",
        "      <td>     NaN</td>\n",
        "      <td>                       NaN</td>\n",
        "      <td>         NaN</td>\n",
        "      <td>                       NaN</td>\n",
        "      <td> NaN</td>\n",
        "      <td> NaN</td>\n",
        "      <td>    NaN</td>\n",
        "      <td>NaN</td>\n",
        "      <td>...</td>\n",
        "      <td>NaN</td>\n",
        "      <td>NaN</td>\n",
        "      <td>NaN</td>\n",
        "      <td>NaN</td>\n",
        "      <td>NaN</td>\n",
        "      <td>NaN</td>\n",
        "      <td>NaN</td>\n",
        "      <td>NaN</td>\n",
        "      <td>NaN</td>\n",
        "      <td>NaN</td>\n",
        "    </tr>\n",
        "    <tr>\n",
        "      <th>20   </th>\n",
        "      <td> #10364</td>\n",
        "      <td>  ahmed.fakhry@gmail.com</td>\n",
        "      <td>     NaN</td>\n",
        "      <td>                       NaN</td>\n",
        "      <td>         NaN</td>\n",
        "      <td>                       NaN</td>\n",
        "      <td> NaN</td>\n",
        "      <td> NaN</td>\n",
        "      <td>    NaN</td>\n",
        "      <td>NaN</td>\n",
        "      <td>...</td>\n",
        "      <td>NaN</td>\n",
        "      <td>NaN</td>\n",
        "      <td>NaN</td>\n",
        "      <td>NaN</td>\n",
        "      <td>NaN</td>\n",
        "      <td>NaN</td>\n",
        "      <td>NaN</td>\n",
        "      <td>NaN</td>\n",
        "      <td>NaN</td>\n",
        "      <td>NaN</td>\n",
        "    </tr>\n",
        "    <tr>\n",
        "      <th>21   </th>\n",
        "      <td> #10363</td>\n",
        "      <td>  ahmed.fakhry@gmail.com</td>\n",
        "      <td> pending</td>\n",
        "      <td>                       NaN</td>\n",
        "      <td> unfulfilled</td>\n",
        "      <td>                       NaN</td>\n",
        "      <td>  no</td>\n",
        "      <td> EGP</td>\n",
        "      <td> 592.00</td>\n",
        "      <td> 10</td>\n",
        "      <td>...</td>\n",
        "      <td>NaN</td>\n",
        "      <td>NaN</td>\n",
        "      <td>NaN</td>\n",
        "      <td>NaN</td>\n",
        "      <td>NaN</td>\n",
        "      <td>NaN</td>\n",
        "      <td>NaN</td>\n",
        "      <td>NaN</td>\n",
        "      <td>NaN</td>\n",
        "      <td>NaN</td>\n",
        "    </tr>\n",
        "    <tr>\n",
        "      <th>22   </th>\n",
        "      <td> #10362</td>\n",
        "      <td>    Missilou11@yahoo.com</td>\n",
        "      <td> pending</td>\n",
        "      <td>                       NaN</td>\n",
        "      <td> unfulfilled</td>\n",
        "      <td>                       NaN</td>\n",
        "      <td>  no</td>\n",
        "      <td> EGP</td>\n",
        "      <td>  70.20</td>\n",
        "      <td> 15</td>\n",
        "      <td>...</td>\n",
        "      <td>NaN</td>\n",
        "      <td>NaN</td>\n",
        "      <td>NaN</td>\n",
        "      <td>NaN</td>\n",
        "      <td>NaN</td>\n",
        "      <td>NaN</td>\n",
        "      <td>NaN</td>\n",
        "      <td>NaN</td>\n",
        "      <td>NaN</td>\n",
        "      <td>NaN</td>\n",
        "    </tr>\n",
        "    <tr>\n",
        "      <th>23   </th>\n",
        "      <td> #10361</td>\n",
        "      <td> sallysalem123@gmail.com</td>\n",
        "      <td> pending</td>\n",
        "      <td>                       NaN</td>\n",
        "      <td> unfulfilled</td>\n",
        "      <td>                       NaN</td>\n",
        "      <td>  no</td>\n",
        "      <td> EGP</td>\n",
        "      <td> 432.00</td>\n",
        "      <td> 10</td>\n",
        "      <td>...</td>\n",
        "      <td>NaN</td>\n",
        "      <td>NaN</td>\n",
        "      <td>NaN</td>\n",
        "      <td>NaN</td>\n",
        "      <td>NaN</td>\n",
        "      <td>NaN</td>\n",
        "      <td>NaN</td>\n",
        "      <td>NaN</td>\n",
        "      <td>NaN</td>\n",
        "      <td>NaN</td>\n",
        "    </tr>\n",
        "    <tr>\n",
        "      <th>24   </th>\n",
        "      <td> #10361</td>\n",
        "      <td> sallysalem123@gmail.com</td>\n",
        "      <td>     NaN</td>\n",
        "      <td>                       NaN</td>\n",
        "      <td>         NaN</td>\n",
        "      <td>                       NaN</td>\n",
        "      <td> NaN</td>\n",
        "      <td> NaN</td>\n",
        "      <td>    NaN</td>\n",
        "      <td>NaN</td>\n",
        "      <td>...</td>\n",
        "      <td>NaN</td>\n",
        "      <td>NaN</td>\n",
        "      <td>NaN</td>\n",
        "      <td>NaN</td>\n",
        "      <td>NaN</td>\n",
        "      <td>NaN</td>\n",
        "      <td>NaN</td>\n",
        "      <td>NaN</td>\n",
        "      <td>NaN</td>\n",
        "      <td>NaN</td>\n",
        "    </tr>\n",
        "    <tr>\n",
        "      <th>25   </th>\n",
        "      <td> #10361</td>\n",
        "      <td> sallysalem123@gmail.com</td>\n",
        "      <td>     NaN</td>\n",
        "      <td>                       NaN</td>\n",
        "      <td>         NaN</td>\n",
        "      <td>                       NaN</td>\n",
        "      <td> NaN</td>\n",
        "      <td> NaN</td>\n",
        "      <td>    NaN</td>\n",
        "      <td>NaN</td>\n",
        "      <td>...</td>\n",
        "      <td>NaN</td>\n",
        "      <td>NaN</td>\n",
        "      <td>NaN</td>\n",
        "      <td>NaN</td>\n",
        "      <td>NaN</td>\n",
        "      <td>NaN</td>\n",
        "      <td>NaN</td>\n",
        "      <td>NaN</td>\n",
        "      <td>NaN</td>\n",
        "      <td>NaN</td>\n",
        "    </tr>\n",
        "    <tr>\n",
        "      <th>26   </th>\n",
        "      <td> #10361</td>\n",
        "      <td> sallysalem123@gmail.com</td>\n",
        "      <td>     NaN</td>\n",
        "      <td>                       NaN</td>\n",
        "      <td>         NaN</td>\n",
        "      <td>                       NaN</td>\n",
        "      <td> NaN</td>\n",
        "      <td> NaN</td>\n",
        "      <td>    NaN</td>\n",
        "      <td>NaN</td>\n",
        "      <td>...</td>\n",
        "      <td>NaN</td>\n",
        "      <td>NaN</td>\n",
        "      <td>NaN</td>\n",
        "      <td>NaN</td>\n",
        "      <td>NaN</td>\n",
        "      <td>NaN</td>\n",
        "      <td>NaN</td>\n",
        "      <td>NaN</td>\n",
        "      <td>NaN</td>\n",
        "      <td>NaN</td>\n",
        "    </tr>\n",
        "    <tr>\n",
        "      <th>27   </th>\n",
        "      <td> #10361</td>\n",
        "      <td> sallysalem123@gmail.com</td>\n",
        "      <td>     NaN</td>\n",
        "      <td>                       NaN</td>\n",
        "      <td>         NaN</td>\n",
        "      <td>                       NaN</td>\n",
        "      <td> NaN</td>\n",
        "      <td> NaN</td>\n",
        "      <td>    NaN</td>\n",
        "      <td>NaN</td>\n",
        "      <td>...</td>\n",
        "      <td>NaN</td>\n",
        "      <td>NaN</td>\n",
        "      <td>NaN</td>\n",
        "      <td>NaN</td>\n",
        "      <td>NaN</td>\n",
        "      <td>NaN</td>\n",
        "      <td>NaN</td>\n",
        "      <td>NaN</td>\n",
        "      <td>NaN</td>\n",
        "      <td>NaN</td>\n",
        "    </tr>\n",
        "    <tr>\n",
        "      <th>28   </th>\n",
        "      <td> #10361</td>\n",
        "      <td> sallysalem123@gmail.com</td>\n",
        "      <td>     NaN</td>\n",
        "      <td>                       NaN</td>\n",
        "      <td>         NaN</td>\n",
        "      <td>                       NaN</td>\n",
        "      <td> NaN</td>\n",
        "      <td> NaN</td>\n",
        "      <td>    NaN</td>\n",
        "      <td>NaN</td>\n",
        "      <td>...</td>\n",
        "      <td>NaN</td>\n",
        "      <td>NaN</td>\n",
        "      <td>NaN</td>\n",
        "      <td>NaN</td>\n",
        "      <td>NaN</td>\n",
        "      <td>NaN</td>\n",
        "      <td>NaN</td>\n",
        "      <td>NaN</td>\n",
        "      <td>NaN</td>\n",
        "      <td>NaN</td>\n",
        "    </tr>\n",
        "    <tr>\n",
        "      <th>29   </th>\n",
        "      <td> #10361</td>\n",
        "      <td> sallysalem123@gmail.com</td>\n",
        "      <td>     NaN</td>\n",
        "      <td>                       NaN</td>\n",
        "      <td>         NaN</td>\n",
        "      <td>                       NaN</td>\n",
        "      <td> NaN</td>\n",
        "      <td> NaN</td>\n",
        "      <td>    NaN</td>\n",
        "      <td>NaN</td>\n",
        "      <td>...</td>\n",
        "      <td>NaN</td>\n",
        "      <td>NaN</td>\n",
        "      <td>NaN</td>\n",
        "      <td>NaN</td>\n",
        "      <td>NaN</td>\n",
        "      <td>NaN</td>\n",
        "      <td>NaN</td>\n",
        "      <td>NaN</td>\n",
        "      <td>NaN</td>\n",
        "      <td>NaN</td>\n",
        "    </tr>\n",
        "    <tr>\n",
        "      <th>...</th>\n",
        "      <td>...</td>\n",
        "      <td>...</td>\n",
        "      <td>...</td>\n",
        "      <td>...</td>\n",
        "      <td>...</td>\n",
        "      <td>...</td>\n",
        "      <td>...</td>\n",
        "      <td>...</td>\n",
        "      <td>...</td>\n",
        "      <td>...</td>\n",
        "      <td>...</td>\n",
        "      <td>...</td>\n",
        "      <td>...</td>\n",
        "      <td>...</td>\n",
        "      <td>...</td>\n",
        "      <td>...</td>\n",
        "      <td>...</td>\n",
        "      <td>...</td>\n",
        "      <td>...</td>\n",
        "      <td>...</td>\n",
        "      <td>...</td>\n",
        "    </tr>\n",
        "    <tr>\n",
        "      <th>60742</th>\n",
        "      <td>  #1013</td>\n",
        "      <td>  lik-novikova@yandex.ru</td>\n",
        "      <td>     NaN</td>\n",
        "      <td>                       NaN</td>\n",
        "      <td>         NaN</td>\n",
        "      <td>                       NaN</td>\n",
        "      <td> NaN</td>\n",
        "      <td> NaN</td>\n",
        "      <td>    NaN</td>\n",
        "      <td>NaN</td>\n",
        "      <td>...</td>\n",
        "      <td>NaN</td>\n",
        "      <td>NaN</td>\n",
        "      <td>NaN</td>\n",
        "      <td>NaN</td>\n",
        "      <td>NaN</td>\n",
        "      <td>NaN</td>\n",
        "      <td>NaN</td>\n",
        "      <td>NaN</td>\n",
        "      <td>NaN</td>\n",
        "      <td>NaN</td>\n",
        "    </tr>\n",
        "    <tr>\n",
        "      <th>60743</th>\n",
        "      <td>  #1012</td>\n",
        "      <td>     bettyhedrich@gmx.de</td>\n",
        "      <td>    paid</td>\n",
        "      <td> 2012-05-27 13:15:42 +0200</td>\n",
        "      <td>   fulfilled</td>\n",
        "      <td> 2012-05-27 13:15:14 +0200</td>\n",
        "      <td>  no</td>\n",
        "      <td> EGP</td>\n",
        "      <td>  41.93</td>\n",
        "      <td>  5</td>\n",
        "      <td>...</td>\n",
        "      <td>NaN</td>\n",
        "      <td>NaN</td>\n",
        "      <td>NaN</td>\n",
        "      <td>NaN</td>\n",
        "      <td>NaN</td>\n",
        "      <td>NaN</td>\n",
        "      <td>NaN</td>\n",
        "      <td>NaN</td>\n",
        "      <td>NaN</td>\n",
        "      <td>NaN</td>\n",
        "    </tr>\n",
        "    <tr>\n",
        "      <th>60744</th>\n",
        "      <td>  #1012</td>\n",
        "      <td>     bettyhedrich@gmx.de</td>\n",
        "      <td>     NaN</td>\n",
        "      <td>                       NaN</td>\n",
        "      <td>         NaN</td>\n",
        "      <td>                       NaN</td>\n",
        "      <td> NaN</td>\n",
        "      <td> NaN</td>\n",
        "      <td>    NaN</td>\n",
        "      <td>NaN</td>\n",
        "      <td>...</td>\n",
        "      <td>NaN</td>\n",
        "      <td>NaN</td>\n",
        "      <td>NaN</td>\n",
        "      <td>NaN</td>\n",
        "      <td>NaN</td>\n",
        "      <td>NaN</td>\n",
        "      <td>NaN</td>\n",
        "      <td>NaN</td>\n",
        "      <td>NaN</td>\n",
        "      <td>NaN</td>\n",
        "    </tr>\n",
        "    <tr>\n",
        "      <th>60745</th>\n",
        "      <td>  #1011</td>\n",
        "      <td>           rulah@msn.com</td>\n",
        "      <td>    paid</td>\n",
        "      <td> 2012-05-21 18:33:13 +0200</td>\n",
        "      <td>   fulfilled</td>\n",
        "      <td> 2012-05-21 18:33:43 +0200</td>\n",
        "      <td> yes</td>\n",
        "      <td> EGP</td>\n",
        "      <td> 222.30</td>\n",
        "      <td>  5</td>\n",
        "      <td>...</td>\n",
        "      <td>NaN</td>\n",
        "      <td>NaN</td>\n",
        "      <td>NaN</td>\n",
        "      <td>NaN</td>\n",
        "      <td>NaN</td>\n",
        "      <td>NaN</td>\n",
        "      <td>NaN</td>\n",
        "      <td>NaN</td>\n",
        "      <td>NaN</td>\n",
        "      <td>NaN</td>\n",
        "    </tr>\n",
        "    <tr>\n",
        "      <th>60746</th>\n",
        "      <td>  #1010</td>\n",
        "      <td>     milda_b@hotmail.com</td>\n",
        "      <td>    paid</td>\n",
        "      <td> 2012-05-09 11:09:12 +0200</td>\n",
        "      <td>   fulfilled</td>\n",
        "      <td> 2012-05-09 11:09:06 +0200</td>\n",
        "      <td> yes</td>\n",
        "      <td> EGP</td>\n",
        "      <td> 155.55</td>\n",
        "      <td>  5</td>\n",
        "      <td>...</td>\n",
        "      <td>NaN</td>\n",
        "      <td>NaN</td>\n",
        "      <td>NaN</td>\n",
        "      <td>NaN</td>\n",
        "      <td>NaN</td>\n",
        "      <td>NaN</td>\n",
        "      <td>NaN</td>\n",
        "      <td>NaN</td>\n",
        "      <td>NaN</td>\n",
        "      <td>NaN</td>\n",
        "    </tr>\n",
        "    <tr>\n",
        "      <th>60747</th>\n",
        "      <td>  #1010</td>\n",
        "      <td>     milda_b@hotmail.com</td>\n",
        "      <td>     NaN</td>\n",
        "      <td>                       NaN</td>\n",
        "      <td>         NaN</td>\n",
        "      <td>                       NaN</td>\n",
        "      <td> NaN</td>\n",
        "      <td> NaN</td>\n",
        "      <td>    NaN</td>\n",
        "      <td>NaN</td>\n",
        "      <td>...</td>\n",
        "      <td>NaN</td>\n",
        "      <td>NaN</td>\n",
        "      <td>NaN</td>\n",
        "      <td>NaN</td>\n",
        "      <td>NaN</td>\n",
        "      <td>NaN</td>\n",
        "      <td>NaN</td>\n",
        "      <td>NaN</td>\n",
        "      <td>NaN</td>\n",
        "      <td>NaN</td>\n",
        "    </tr>\n",
        "    <tr>\n",
        "      <th>60748</th>\n",
        "      <td>  #1010</td>\n",
        "      <td>     milda_b@hotmail.com</td>\n",
        "      <td>     NaN</td>\n",
        "      <td>                       NaN</td>\n",
        "      <td>         NaN</td>\n",
        "      <td>                       NaN</td>\n",
        "      <td> NaN</td>\n",
        "      <td> NaN</td>\n",
        "      <td>    NaN</td>\n",
        "      <td>NaN</td>\n",
        "      <td>...</td>\n",
        "      <td>NaN</td>\n",
        "      <td>NaN</td>\n",
        "      <td>NaN</td>\n",
        "      <td>NaN</td>\n",
        "      <td>NaN</td>\n",
        "      <td>NaN</td>\n",
        "      <td>NaN</td>\n",
        "      <td>NaN</td>\n",
        "      <td>NaN</td>\n",
        "      <td>NaN</td>\n",
        "    </tr>\n",
        "    <tr>\n",
        "      <th>60749</th>\n",
        "      <td>  #1010</td>\n",
        "      <td>     milda_b@hotmail.com</td>\n",
        "      <td>     NaN</td>\n",
        "      <td>                       NaN</td>\n",
        "      <td>         NaN</td>\n",
        "      <td>                       NaN</td>\n",
        "      <td> NaN</td>\n",
        "      <td> NaN</td>\n",
        "      <td>    NaN</td>\n",
        "      <td>NaN</td>\n",
        "      <td>...</td>\n",
        "      <td>NaN</td>\n",
        "      <td>NaN</td>\n",
        "      <td>NaN</td>\n",
        "      <td>NaN</td>\n",
        "      <td>NaN</td>\n",
        "      <td>NaN</td>\n",
        "      <td>NaN</td>\n",
        "      <td>NaN</td>\n",
        "      <td>NaN</td>\n",
        "      <td>NaN</td>\n",
        "    </tr>\n",
        "    <tr>\n",
        "      <th>60750</th>\n",
        "      <td>  #1010</td>\n",
        "      <td>     milda_b@hotmail.com</td>\n",
        "      <td>     NaN</td>\n",
        "      <td>                       NaN</td>\n",
        "      <td>         NaN</td>\n",
        "      <td>                       NaN</td>\n",
        "      <td> NaN</td>\n",
        "      <td> NaN</td>\n",
        "      <td>    NaN</td>\n",
        "      <td>NaN</td>\n",
        "      <td>...</td>\n",
        "      <td>NaN</td>\n",
        "      <td>NaN</td>\n",
        "      <td>NaN</td>\n",
        "      <td>NaN</td>\n",
        "      <td>NaN</td>\n",
        "      <td>NaN</td>\n",
        "      <td>NaN</td>\n",
        "      <td>NaN</td>\n",
        "      <td>NaN</td>\n",
        "      <td>NaN</td>\n",
        "    </tr>\n",
        "    <tr>\n",
        "      <th>60751</th>\n",
        "      <td>  #1010</td>\n",
        "      <td>     milda_b@hotmail.com</td>\n",
        "      <td>     NaN</td>\n",
        "      <td>                       NaN</td>\n",
        "      <td>         NaN</td>\n",
        "      <td>                       NaN</td>\n",
        "      <td> NaN</td>\n",
        "      <td> NaN</td>\n",
        "      <td>    NaN</td>\n",
        "      <td>NaN</td>\n",
        "      <td>...</td>\n",
        "      <td>NaN</td>\n",
        "      <td>NaN</td>\n",
        "      <td>NaN</td>\n",
        "      <td>NaN</td>\n",
        "      <td>NaN</td>\n",
        "      <td>NaN</td>\n",
        "      <td>NaN</td>\n",
        "      <td>NaN</td>\n",
        "      <td>NaN</td>\n",
        "      <td>NaN</td>\n",
        "    </tr>\n",
        "    <tr>\n",
        "      <th>60752</th>\n",
        "      <td>  #1010</td>\n",
        "      <td>     milda_b@hotmail.com</td>\n",
        "      <td>     NaN</td>\n",
        "      <td>                       NaN</td>\n",
        "      <td>         NaN</td>\n",
        "      <td>                       NaN</td>\n",
        "      <td> NaN</td>\n",
        "      <td> NaN</td>\n",
        "      <td>    NaN</td>\n",
        "      <td>NaN</td>\n",
        "      <td>...</td>\n",
        "      <td>NaN</td>\n",
        "      <td>NaN</td>\n",
        "      <td>NaN</td>\n",
        "      <td>NaN</td>\n",
        "      <td>NaN</td>\n",
        "      <td>NaN</td>\n",
        "      <td>NaN</td>\n",
        "      <td>NaN</td>\n",
        "      <td>NaN</td>\n",
        "      <td>NaN</td>\n",
        "    </tr>\n",
        "    <tr>\n",
        "      <th>60753</th>\n",
        "      <td>  #1009</td>\n",
        "      <td>     bente.ring@yahoo.no</td>\n",
        "      <td>    paid</td>\n",
        "      <td> 2012-05-10 19:12:35 +0200</td>\n",
        "      <td>   fulfilled</td>\n",
        "      <td> 2012-05-10 19:12:32 +0200</td>\n",
        "      <td> yes</td>\n",
        "      <td> EGP</td>\n",
        "      <td>  45.50</td>\n",
        "      <td>  5</td>\n",
        "      <td>...</td>\n",
        "      <td>NaN</td>\n",
        "      <td>NaN</td>\n",
        "      <td>NaN</td>\n",
        "      <td>NaN</td>\n",
        "      <td>NaN</td>\n",
        "      <td>NaN</td>\n",
        "      <td>NaN</td>\n",
        "      <td>NaN</td>\n",
        "      <td>NaN</td>\n",
        "      <td>NaN</td>\n",
        "    </tr>\n",
        "    <tr>\n",
        "      <th>60754</th>\n",
        "      <td>  #1008</td>\n",
        "      <td>     bente.ring@yahoo.no</td>\n",
        "      <td>    paid</td>\n",
        "      <td> 2012-05-10 19:13:35 +0200</td>\n",
        "      <td>   fulfilled</td>\n",
        "      <td> 2012-05-10 19:13:32 +0200</td>\n",
        "      <td> yes</td>\n",
        "      <td> EGP</td>\n",
        "      <td> 357.53</td>\n",
        "      <td>  5</td>\n",
        "      <td>...</td>\n",
        "      <td>NaN</td>\n",
        "      <td>NaN</td>\n",
        "      <td>NaN</td>\n",
        "      <td>NaN</td>\n",
        "      <td>NaN</td>\n",
        "      <td>NaN</td>\n",
        "      <td>NaN</td>\n",
        "      <td>NaN</td>\n",
        "      <td>NaN</td>\n",
        "      <td>NaN</td>\n",
        "    </tr>\n",
        "    <tr>\n",
        "      <th>60755</th>\n",
        "      <td>  #1008</td>\n",
        "      <td>     bente.ring@yahoo.no</td>\n",
        "      <td>     NaN</td>\n",
        "      <td>                       NaN</td>\n",
        "      <td>         NaN</td>\n",
        "      <td>                       NaN</td>\n",
        "      <td> NaN</td>\n",
        "      <td> NaN</td>\n",
        "      <td>    NaN</td>\n",
        "      <td>NaN</td>\n",
        "      <td>...</td>\n",
        "      <td>NaN</td>\n",
        "      <td>NaN</td>\n",
        "      <td>NaN</td>\n",
        "      <td>NaN</td>\n",
        "      <td>NaN</td>\n",
        "      <td>NaN</td>\n",
        "      <td>NaN</td>\n",
        "      <td>NaN</td>\n",
        "      <td>NaN</td>\n",
        "      <td>NaN</td>\n",
        "    </tr>\n",
        "    <tr>\n",
        "      <th>60756</th>\n",
        "      <td>  #1008</td>\n",
        "      <td>     bente.ring@yahoo.no</td>\n",
        "      <td>     NaN</td>\n",
        "      <td>                       NaN</td>\n",
        "      <td>         NaN</td>\n",
        "      <td>                       NaN</td>\n",
        "      <td> NaN</td>\n",
        "      <td> NaN</td>\n",
        "      <td>    NaN</td>\n",
        "      <td>NaN</td>\n",
        "      <td>...</td>\n",
        "      <td>NaN</td>\n",
        "      <td>NaN</td>\n",
        "      <td>NaN</td>\n",
        "      <td>NaN</td>\n",
        "      <td>NaN</td>\n",
        "      <td>NaN</td>\n",
        "      <td>NaN</td>\n",
        "      <td>NaN</td>\n",
        "      <td>NaN</td>\n",
        "      <td>NaN</td>\n",
        "    </tr>\n",
        "    <tr>\n",
        "      <th>60757</th>\n",
        "      <td>  #1008</td>\n",
        "      <td>     bente.ring@yahoo.no</td>\n",
        "      <td>     NaN</td>\n",
        "      <td>                       NaN</td>\n",
        "      <td>         NaN</td>\n",
        "      <td>                       NaN</td>\n",
        "      <td> NaN</td>\n",
        "      <td> NaN</td>\n",
        "      <td>    NaN</td>\n",
        "      <td>NaN</td>\n",
        "      <td>...</td>\n",
        "      <td>NaN</td>\n",
        "      <td>NaN</td>\n",
        "      <td>NaN</td>\n",
        "      <td>NaN</td>\n",
        "      <td>NaN</td>\n",
        "      <td>NaN</td>\n",
        "      <td>NaN</td>\n",
        "      <td>NaN</td>\n",
        "      <td>NaN</td>\n",
        "      <td>NaN</td>\n",
        "    </tr>\n",
        "    <tr>\n",
        "      <th>60758</th>\n",
        "      <td>  #1008</td>\n",
        "      <td>     bente.ring@yahoo.no</td>\n",
        "      <td>     NaN</td>\n",
        "      <td>                       NaN</td>\n",
        "      <td>         NaN</td>\n",
        "      <td>                       NaN</td>\n",
        "      <td> NaN</td>\n",
        "      <td> NaN</td>\n",
        "      <td>    NaN</td>\n",
        "      <td>NaN</td>\n",
        "      <td>...</td>\n",
        "      <td>NaN</td>\n",
        "      <td>NaN</td>\n",
        "      <td>NaN</td>\n",
        "      <td>NaN</td>\n",
        "      <td>NaN</td>\n",
        "      <td>NaN</td>\n",
        "      <td>NaN</td>\n",
        "      <td>NaN</td>\n",
        "      <td>NaN</td>\n",
        "      <td>NaN</td>\n",
        "    </tr>\n",
        "    <tr>\n",
        "      <th>60759</th>\n",
        "      <td>  #1007</td>\n",
        "      <td>  lik-novikova@yandex.ru</td>\n",
        "      <td>    paid</td>\n",
        "      <td> 2012-05-04 18:36:50 +0200</td>\n",
        "      <td>   fulfilled</td>\n",
        "      <td> 2012-05-04 18:33:47 +0200</td>\n",
        "      <td> yes</td>\n",
        "      <td> EGP</td>\n",
        "      <td> 110.83</td>\n",
        "      <td>  5</td>\n",
        "      <td>...</td>\n",
        "      <td>NaN</td>\n",
        "      <td>NaN</td>\n",
        "      <td>NaN</td>\n",
        "      <td>NaN</td>\n",
        "      <td>NaN</td>\n",
        "      <td>NaN</td>\n",
        "      <td>NaN</td>\n",
        "      <td>NaN</td>\n",
        "      <td>NaN</td>\n",
        "      <td>NaN</td>\n",
        "    </tr>\n",
        "    <tr>\n",
        "      <th>60760</th>\n",
        "      <td>  #1007</td>\n",
        "      <td>  lik-novikova@yandex.ru</td>\n",
        "      <td>     NaN</td>\n",
        "      <td>                       NaN</td>\n",
        "      <td>         NaN</td>\n",
        "      <td>                       NaN</td>\n",
        "      <td> NaN</td>\n",
        "      <td> NaN</td>\n",
        "      <td>    NaN</td>\n",
        "      <td>NaN</td>\n",
        "      <td>...</td>\n",
        "      <td>NaN</td>\n",
        "      <td>NaN</td>\n",
        "      <td>NaN</td>\n",
        "      <td>NaN</td>\n",
        "      <td>NaN</td>\n",
        "      <td>NaN</td>\n",
        "      <td>NaN</td>\n",
        "      <td>NaN</td>\n",
        "      <td>NaN</td>\n",
        "      <td>NaN</td>\n",
        "    </tr>\n",
        "    <tr>\n",
        "      <th>60761</th>\n",
        "      <td>  #1007</td>\n",
        "      <td>  lik-novikova@yandex.ru</td>\n",
        "      <td>     NaN</td>\n",
        "      <td>                       NaN</td>\n",
        "      <td>         NaN</td>\n",
        "      <td>                       NaN</td>\n",
        "      <td> NaN</td>\n",
        "      <td> NaN</td>\n",
        "      <td>    NaN</td>\n",
        "      <td>NaN</td>\n",
        "      <td>...</td>\n",
        "      <td>NaN</td>\n",
        "      <td>NaN</td>\n",
        "      <td>NaN</td>\n",
        "      <td>NaN</td>\n",
        "      <td>NaN</td>\n",
        "      <td>NaN</td>\n",
        "      <td>NaN</td>\n",
        "      <td>NaN</td>\n",
        "      <td>NaN</td>\n",
        "      <td>NaN</td>\n",
        "    </tr>\n",
        "    <tr>\n",
        "      <th>60762</th>\n",
        "      <td>  #1007</td>\n",
        "      <td>  lik-novikova@yandex.ru</td>\n",
        "      <td>     NaN</td>\n",
        "      <td>                       NaN</td>\n",
        "      <td>         NaN</td>\n",
        "      <td>                       NaN</td>\n",
        "      <td> NaN</td>\n",
        "      <td> NaN</td>\n",
        "      <td>    NaN</td>\n",
        "      <td>NaN</td>\n",
        "      <td>...</td>\n",
        "      <td>NaN</td>\n",
        "      <td>NaN</td>\n",
        "      <td>NaN</td>\n",
        "      <td>NaN</td>\n",
        "      <td>NaN</td>\n",
        "      <td>NaN</td>\n",
        "      <td>NaN</td>\n",
        "      <td>NaN</td>\n",
        "      <td>NaN</td>\n",
        "      <td>NaN</td>\n",
        "    </tr>\n",
        "    <tr>\n",
        "      <th>60763</th>\n",
        "      <td>  #1006</td>\n",
        "      <td>     bente.ring@yahoo.no</td>\n",
        "      <td>    paid</td>\n",
        "      <td> 2012-05-04 18:37:13 +0200</td>\n",
        "      <td>   fulfilled</td>\n",
        "      <td> 2012-05-03 10:57:23 +0200</td>\n",
        "      <td> yes</td>\n",
        "      <td> EGP</td>\n",
        "      <td> 201.51</td>\n",
        "      <td>  5</td>\n",
        "      <td>...</td>\n",
        "      <td>NaN</td>\n",
        "      <td>NaN</td>\n",
        "      <td>NaN</td>\n",
        "      <td>NaN</td>\n",
        "      <td>NaN</td>\n",
        "      <td>NaN</td>\n",
        "      <td>NaN</td>\n",
        "      <td>NaN</td>\n",
        "      <td>NaN</td>\n",
        "      <td>NaN</td>\n",
        "    </tr>\n",
        "    <tr>\n",
        "      <th>60764</th>\n",
        "      <td>  #1006</td>\n",
        "      <td>     bente.ring@yahoo.no</td>\n",
        "      <td>     NaN</td>\n",
        "      <td>                       NaN</td>\n",
        "      <td>         NaN</td>\n",
        "      <td>                       NaN</td>\n",
        "      <td> NaN</td>\n",
        "      <td> NaN</td>\n",
        "      <td>    NaN</td>\n",
        "      <td>NaN</td>\n",
        "      <td>...</td>\n",
        "      <td>NaN</td>\n",
        "      <td>NaN</td>\n",
        "      <td>NaN</td>\n",
        "      <td>NaN</td>\n",
        "      <td>NaN</td>\n",
        "      <td>NaN</td>\n",
        "      <td>NaN</td>\n",
        "      <td>NaN</td>\n",
        "      <td>NaN</td>\n",
        "      <td>NaN</td>\n",
        "    </tr>\n",
        "    <tr>\n",
        "      <th>60765</th>\n",
        "      <td>  #1006</td>\n",
        "      <td>     bente.ring@yahoo.no</td>\n",
        "      <td>     NaN</td>\n",
        "      <td>                       NaN</td>\n",
        "      <td>         NaN</td>\n",
        "      <td>                       NaN</td>\n",
        "      <td> NaN</td>\n",
        "      <td> NaN</td>\n",
        "      <td>    NaN</td>\n",
        "      <td>NaN</td>\n",
        "      <td>...</td>\n",
        "      <td>NaN</td>\n",
        "      <td>NaN</td>\n",
        "      <td>NaN</td>\n",
        "      <td>NaN</td>\n",
        "      <td>NaN</td>\n",
        "      <td>NaN</td>\n",
        "      <td>NaN</td>\n",
        "      <td>NaN</td>\n",
        "      <td>NaN</td>\n",
        "      <td>NaN</td>\n",
        "    </tr>\n",
        "    <tr>\n",
        "      <th>60766</th>\n",
        "      <td>  #1006</td>\n",
        "      <td>     bente.ring@yahoo.no</td>\n",
        "      <td>     NaN</td>\n",
        "      <td>                       NaN</td>\n",
        "      <td>         NaN</td>\n",
        "      <td>                       NaN</td>\n",
        "      <td> NaN</td>\n",
        "      <td> NaN</td>\n",
        "      <td>    NaN</td>\n",
        "      <td>NaN</td>\n",
        "      <td>...</td>\n",
        "      <td>NaN</td>\n",
        "      <td>NaN</td>\n",
        "      <td>NaN</td>\n",
        "      <td>NaN</td>\n",
        "      <td>NaN</td>\n",
        "      <td>NaN</td>\n",
        "      <td>NaN</td>\n",
        "      <td>NaN</td>\n",
        "      <td>NaN</td>\n",
        "      <td>NaN</td>\n",
        "    </tr>\n",
        "    <tr>\n",
        "      <th>60767</th>\n",
        "      <td>  #1006</td>\n",
        "      <td>     bente.ring@yahoo.no</td>\n",
        "      <td>     NaN</td>\n",
        "      <td>                       NaN</td>\n",
        "      <td>         NaN</td>\n",
        "      <td>                       NaN</td>\n",
        "      <td> NaN</td>\n",
        "      <td> NaN</td>\n",
        "      <td>    NaN</td>\n",
        "      <td>NaN</td>\n",
        "      <td>...</td>\n",
        "      <td>NaN</td>\n",
        "      <td>NaN</td>\n",
        "      <td>NaN</td>\n",
        "      <td>NaN</td>\n",
        "      <td>NaN</td>\n",
        "      <td>NaN</td>\n",
        "      <td>NaN</td>\n",
        "      <td>NaN</td>\n",
        "      <td>NaN</td>\n",
        "      <td>NaN</td>\n",
        "    </tr>\n",
        "    <tr>\n",
        "      <th>60768</th>\n",
        "      <td>  #1005</td>\n",
        "      <td>    cathypod@hotmail.com</td>\n",
        "      <td>    paid</td>\n",
        "      <td> 2012-05-04 18:37:35 +0200</td>\n",
        "      <td>   fulfilled</td>\n",
        "      <td> 2012-05-03 11:03:44 +0200</td>\n",
        "      <td> yes</td>\n",
        "      <td> EGP</td>\n",
        "      <td>  54.60</td>\n",
        "      <td>  5</td>\n",
        "      <td>...</td>\n",
        "      <td>NaN</td>\n",
        "      <td>NaN</td>\n",
        "      <td>NaN</td>\n",
        "      <td>NaN</td>\n",
        "      <td>NaN</td>\n",
        "      <td>NaN</td>\n",
        "      <td>NaN</td>\n",
        "      <td>NaN</td>\n",
        "      <td>NaN</td>\n",
        "      <td>NaN</td>\n",
        "    </tr>\n",
        "    <tr>\n",
        "      <th>60769</th>\n",
        "      <td>  #1005</td>\n",
        "      <td>    cathypod@hotmail.com</td>\n",
        "      <td>     NaN</td>\n",
        "      <td>                       NaN</td>\n",
        "      <td>         NaN</td>\n",
        "      <td>                       NaN</td>\n",
        "      <td> NaN</td>\n",
        "      <td> NaN</td>\n",
        "      <td>    NaN</td>\n",
        "      <td>NaN</td>\n",
        "      <td>...</td>\n",
        "      <td>NaN</td>\n",
        "      <td>NaN</td>\n",
        "      <td>NaN</td>\n",
        "      <td>NaN</td>\n",
        "      <td>NaN</td>\n",
        "      <td>NaN</td>\n",
        "      <td>NaN</td>\n",
        "      <td>NaN</td>\n",
        "      <td>NaN</td>\n",
        "      <td>NaN</td>\n",
        "    </tr>\n",
        "    <tr>\n",
        "      <th>60770</th>\n",
        "      <td>  #1005</td>\n",
        "      <td>    cathypod@hotmail.com</td>\n",
        "      <td>     NaN</td>\n",
        "      <td>                       NaN</td>\n",
        "      <td>         NaN</td>\n",
        "      <td>                       NaN</td>\n",
        "      <td> NaN</td>\n",
        "      <td> NaN</td>\n",
        "      <td>    NaN</td>\n",
        "      <td>NaN</td>\n",
        "      <td>...</td>\n",
        "      <td>NaN</td>\n",
        "      <td>NaN</td>\n",
        "      <td>NaN</td>\n",
        "      <td>NaN</td>\n",
        "      <td>NaN</td>\n",
        "      <td>NaN</td>\n",
        "      <td>NaN</td>\n",
        "      <td>NaN</td>\n",
        "      <td>NaN</td>\n",
        "      <td>NaN</td>\n",
        "    </tr>\n",
        "    <tr>\n",
        "      <th>60771</th>\n",
        "      <td>  #1005</td>\n",
        "      <td>    cathypod@hotmail.com</td>\n",
        "      <td>     NaN</td>\n",
        "      <td>                       NaN</td>\n",
        "      <td>         NaN</td>\n",
        "      <td>                       NaN</td>\n",
        "      <td> NaN</td>\n",
        "      <td> NaN</td>\n",
        "      <td>    NaN</td>\n",
        "      <td>NaN</td>\n",
        "      <td>...</td>\n",
        "      <td>NaN</td>\n",
        "      <td>NaN</td>\n",
        "      <td>NaN</td>\n",
        "      <td>NaN</td>\n",
        "      <td>NaN</td>\n",
        "      <td>NaN</td>\n",
        "      <td>NaN</td>\n",
        "      <td>NaN</td>\n",
        "      <td>NaN</td>\n",
        "      <td>NaN</td>\n",
        "    </tr>\n",
        "  </tbody>\n",
        "</table>\n",
        "<p>60772 rows \u00d7 66 columns</p>\n",
        "</div>"
       ],
       "metadata": {},
       "output_type": "pyout",
       "prompt_number": 1,
       "text": [
        "         Name                    Email Financial Status  \\\n",
        "0      #10367   rehabmansour@gmail.com          pending   \n",
        "1      #10367   rehabmansour@gmail.com              NaN   \n",
        "2      #10367   rehabmansour@gmail.com              NaN   \n",
        "3      #10366      nabouheif@yahoo.com          pending   \n",
        "4      #10366      nabouheif@yahoo.com              NaN   \n",
        "5      #10366      nabouheif@yahoo.com              NaN   \n",
        "6      #10365   fracicardi@hotmail.com          pending   \n",
        "7      #10365   fracicardi@hotmail.com              NaN   \n",
        "8      #10365   fracicardi@hotmail.com              NaN   \n",
        "9      #10365   fracicardi@hotmail.com              NaN   \n",
        "10     #10365   fracicardi@hotmail.com              NaN   \n",
        "11     #10365   fracicardi@hotmail.com              NaN   \n",
        "12     #10364   ahmed.fakhry@gmail.com          pending   \n",
        "13     #10364   ahmed.fakhry@gmail.com              NaN   \n",
        "14     #10364   ahmed.fakhry@gmail.com              NaN   \n",
        "15     #10364   ahmed.fakhry@gmail.com              NaN   \n",
        "16     #10364   ahmed.fakhry@gmail.com              NaN   \n",
        "17     #10364   ahmed.fakhry@gmail.com              NaN   \n",
        "18     #10364   ahmed.fakhry@gmail.com              NaN   \n",
        "19     #10364   ahmed.fakhry@gmail.com              NaN   \n",
        "20     #10364   ahmed.fakhry@gmail.com              NaN   \n",
        "21     #10363   ahmed.fakhry@gmail.com          pending   \n",
        "22     #10362     Missilou11@yahoo.com          pending   \n",
        "23     #10361  sallysalem123@gmail.com          pending   \n",
        "24     #10361  sallysalem123@gmail.com              NaN   \n",
        "25     #10361  sallysalem123@gmail.com              NaN   \n",
        "26     #10361  sallysalem123@gmail.com              NaN   \n",
        "27     #10361  sallysalem123@gmail.com              NaN   \n",
        "28     #10361  sallysalem123@gmail.com              NaN   \n",
        "29     #10361  sallysalem123@gmail.com              NaN   \n",
        "...       ...                      ...              ...   \n",
        "60742   #1013   lik-novikova@yandex.ru              NaN   \n",
        "60743   #1012      bettyhedrich@gmx.de             paid   \n",
        "60744   #1012      bettyhedrich@gmx.de              NaN   \n",
        "60745   #1011            rulah@msn.com             paid   \n",
        "60746   #1010      milda_b@hotmail.com             paid   \n",
        "60747   #1010      milda_b@hotmail.com              NaN   \n",
        "60748   #1010      milda_b@hotmail.com              NaN   \n",
        "60749   #1010      milda_b@hotmail.com              NaN   \n",
        "60750   #1010      milda_b@hotmail.com              NaN   \n",
        "60751   #1010      milda_b@hotmail.com              NaN   \n",
        "60752   #1010      milda_b@hotmail.com              NaN   \n",
        "60753   #1009      bente.ring@yahoo.no             paid   \n",
        "60754   #1008      bente.ring@yahoo.no             paid   \n",
        "60755   #1008      bente.ring@yahoo.no              NaN   \n",
        "60756   #1008      bente.ring@yahoo.no              NaN   \n",
        "60757   #1008      bente.ring@yahoo.no              NaN   \n",
        "60758   #1008      bente.ring@yahoo.no              NaN   \n",
        "60759   #1007   lik-novikova@yandex.ru             paid   \n",
        "60760   #1007   lik-novikova@yandex.ru              NaN   \n",
        "60761   #1007   lik-novikova@yandex.ru              NaN   \n",
        "60762   #1007   lik-novikova@yandex.ru              NaN   \n",
        "60763   #1006      bente.ring@yahoo.no             paid   \n",
        "60764   #1006      bente.ring@yahoo.no              NaN   \n",
        "60765   #1006      bente.ring@yahoo.no              NaN   \n",
        "60766   #1006      bente.ring@yahoo.no              NaN   \n",
        "60767   #1006      bente.ring@yahoo.no              NaN   \n",
        "60768   #1005     cathypod@hotmail.com             paid   \n",
        "60769   #1005     cathypod@hotmail.com              NaN   \n",
        "60770   #1005     cathypod@hotmail.com              NaN   \n",
        "60771   #1005     cathypod@hotmail.com              NaN   \n",
        "\n",
        "                         Paid at Fulfillment Status  \\\n",
        "0                            NaN        unfulfilled   \n",
        "1                            NaN                NaN   \n",
        "2                            NaN                NaN   \n",
        "3                            NaN        unfulfilled   \n",
        "4                            NaN                NaN   \n",
        "5                            NaN                NaN   \n",
        "6                            NaN        unfulfilled   \n",
        "7                            NaN                NaN   \n",
        "8                            NaN                NaN   \n",
        "9                            NaN                NaN   \n",
        "10                           NaN                NaN   \n",
        "11                           NaN                NaN   \n",
        "12                           NaN        unfulfilled   \n",
        "13                           NaN                NaN   \n",
        "14                           NaN                NaN   \n",
        "15                           NaN                NaN   \n",
        "16                           NaN                NaN   \n",
        "17                           NaN                NaN   \n",
        "18                           NaN                NaN   \n",
        "19                           NaN                NaN   \n",
        "20                           NaN                NaN   \n",
        "21                           NaN        unfulfilled   \n",
        "22                           NaN        unfulfilled   \n",
        "23                           NaN        unfulfilled   \n",
        "24                           NaN                NaN   \n",
        "25                           NaN                NaN   \n",
        "26                           NaN                NaN   \n",
        "27                           NaN                NaN   \n",
        "28                           NaN                NaN   \n",
        "29                           NaN                NaN   \n",
        "...                          ...                ...   \n",
        "60742                        NaN                NaN   \n",
        "60743  2012-05-27 13:15:42 +0200          fulfilled   \n",
        "60744                        NaN                NaN   \n",
        "60745  2012-05-21 18:33:13 +0200          fulfilled   \n",
        "60746  2012-05-09 11:09:12 +0200          fulfilled   \n",
        "60747                        NaN                NaN   \n",
        "60748                        NaN                NaN   \n",
        "60749                        NaN                NaN   \n",
        "60750                        NaN                NaN   \n",
        "60751                        NaN                NaN   \n",
        "60752                        NaN                NaN   \n",
        "60753  2012-05-10 19:12:35 +0200          fulfilled   \n",
        "60754  2012-05-10 19:13:35 +0200          fulfilled   \n",
        "60755                        NaN                NaN   \n",
        "60756                        NaN                NaN   \n",
        "60757                        NaN                NaN   \n",
        "60758                        NaN                NaN   \n",
        "60759  2012-05-04 18:36:50 +0200          fulfilled   \n",
        "60760                        NaN                NaN   \n",
        "60761                        NaN                NaN   \n",
        "60762                        NaN                NaN   \n",
        "60763  2012-05-04 18:37:13 +0200          fulfilled   \n",
        "60764                        NaN                NaN   \n",
        "60765                        NaN                NaN   \n",
        "60766                        NaN                NaN   \n",
        "60767                        NaN                NaN   \n",
        "60768  2012-05-04 18:37:35 +0200          fulfilled   \n",
        "60769                        NaN                NaN   \n",
        "60770                        NaN                NaN   \n",
        "60771                        NaN                NaN   \n",
        "\n",
        "                    Fulfilled at Accepts Marketing Currency  Subtotal  \\\n",
        "0                            NaN                no      EGP    375.30   \n",
        "1                            NaN               NaN      NaN       NaN   \n",
        "2                            NaN               NaN      NaN       NaN   \n",
        "3                            NaN                no      EGP    162.90   \n",
        "4                            NaN               NaN      NaN       NaN   \n",
        "5                            NaN               NaN      NaN       NaN   \n",
        "6                            NaN                no      EGP    129.00   \n",
        "7                            NaN               NaN      NaN       NaN   \n",
        "8                            NaN               NaN      NaN       NaN   \n",
        "9                            NaN               NaN      NaN       NaN   \n",
        "10                           NaN               NaN      NaN       NaN   \n",
        "11                           NaN               NaN      NaN       NaN   \n",
        "12                           NaN                no      EGP    660.10   \n",
        "13                           NaN               NaN      NaN       NaN   \n",
        "14                           NaN               NaN      NaN       NaN   \n",
        "15                           NaN               NaN      NaN       NaN   \n",
        "16                           NaN               NaN      NaN       NaN   \n",
        "17                           NaN               NaN      NaN       NaN   \n",
        "18                           NaN               NaN      NaN       NaN   \n",
        "19                           NaN               NaN      NaN       NaN   \n",
        "20                           NaN               NaN      NaN       NaN   \n",
        "21                           NaN                no      EGP    592.00   \n",
        "22                           NaN                no      EGP     70.20   \n",
        "23                           NaN                no      EGP    432.00   \n",
        "24                           NaN               NaN      NaN       NaN   \n",
        "25                           NaN               NaN      NaN       NaN   \n",
        "26                           NaN               NaN      NaN       NaN   \n",
        "27                           NaN               NaN      NaN       NaN   \n",
        "28                           NaN               NaN      NaN       NaN   \n",
        "29                           NaN               NaN      NaN       NaN   \n",
        "...                          ...               ...      ...       ...   \n",
        "60742                        NaN               NaN      NaN       NaN   \n",
        "60743  2012-05-27 13:15:14 +0200                no      EGP     41.93   \n",
        "60744                        NaN               NaN      NaN       NaN   \n",
        "60745  2012-05-21 18:33:43 +0200               yes      EGP    222.30   \n",
        "60746  2012-05-09 11:09:06 +0200               yes      EGP    155.55   \n",
        "60747                        NaN               NaN      NaN       NaN   \n",
        "60748                        NaN               NaN      NaN       NaN   \n",
        "60749                        NaN               NaN      NaN       NaN   \n",
        "60750                        NaN               NaN      NaN       NaN   \n",
        "60751                        NaN               NaN      NaN       NaN   \n",
        "60752                        NaN               NaN      NaN       NaN   \n",
        "60753  2012-05-10 19:12:32 +0200               yes      EGP     45.50   \n",
        "60754  2012-05-10 19:13:32 +0200               yes      EGP    357.53   \n",
        "60755                        NaN               NaN      NaN       NaN   \n",
        "60756                        NaN               NaN      NaN       NaN   \n",
        "60757                        NaN               NaN      NaN       NaN   \n",
        "60758                        NaN               NaN      NaN       NaN   \n",
        "60759  2012-05-04 18:33:47 +0200               yes      EGP    110.83   \n",
        "60760                        NaN               NaN      NaN       NaN   \n",
        "60761                        NaN               NaN      NaN       NaN   \n",
        "60762                        NaN               NaN      NaN       NaN   \n",
        "60763  2012-05-03 10:57:23 +0200               yes      EGP    201.51   \n",
        "60764                        NaN               NaN      NaN       NaN   \n",
        "60765                        NaN               NaN      NaN       NaN   \n",
        "60766                        NaN               NaN      NaN       NaN   \n",
        "60767                        NaN               NaN      NaN       NaN   \n",
        "60768  2012-05-03 11:03:44 +0200               yes      EGP     54.60   \n",
        "60769                        NaN               NaN      NaN       NaN   \n",
        "60770                        NaN               NaN      NaN       NaN   \n",
        "60771                        NaN               NaN      NaN       NaN   \n",
        "\n",
        "       Shipping     ...       Tax 1 Name  Tax 1 Value Tax 2 Name  Tax 2 Value  \\\n",
        "0            10     ...              NaN          NaN        NaN          NaN   \n",
        "1           NaN     ...              NaN          NaN        NaN          NaN   \n",
        "2           NaN     ...              NaN          NaN        NaN          NaN   \n",
        "3            10     ...              NaN          NaN        NaN          NaN   \n",
        "4           NaN     ...              NaN          NaN        NaN          NaN   \n",
        "5           NaN     ...              NaN          NaN        NaN          NaN   \n",
        "6            15     ...              NaN          NaN        NaN          NaN   \n",
        "7           NaN     ...              NaN          NaN        NaN          NaN   \n",
        "8           NaN     ...              NaN          NaN        NaN          NaN   \n",
        "9           NaN     ...              NaN          NaN        NaN          NaN   \n",
        "10          NaN     ...              NaN          NaN        NaN          NaN   \n",
        "11          NaN     ...              NaN          NaN        NaN          NaN   \n",
        "12           10     ...              NaN          NaN        NaN          NaN   \n",
        "13          NaN     ...              NaN          NaN        NaN          NaN   \n",
        "14          NaN     ...              NaN          NaN        NaN          NaN   \n",
        "15          NaN     ...              NaN          NaN        NaN          NaN   \n",
        "16          NaN     ...              NaN          NaN        NaN          NaN   \n",
        "17          NaN     ...              NaN          NaN        NaN          NaN   \n",
        "18          NaN     ...              NaN          NaN        NaN          NaN   \n",
        "19          NaN     ...              NaN          NaN        NaN          NaN   \n",
        "20          NaN     ...              NaN          NaN        NaN          NaN   \n",
        "21           10     ...              NaN          NaN        NaN          NaN   \n",
        "22           15     ...              NaN          NaN        NaN          NaN   \n",
        "23           10     ...              NaN          NaN        NaN          NaN   \n",
        "24          NaN     ...              NaN          NaN        NaN          NaN   \n",
        "25          NaN     ...              NaN          NaN        NaN          NaN   \n",
        "26          NaN     ...              NaN          NaN        NaN          NaN   \n",
        "27          NaN     ...              NaN          NaN        NaN          NaN   \n",
        "28          NaN     ...              NaN          NaN        NaN          NaN   \n",
        "29          NaN     ...              NaN          NaN        NaN          NaN   \n",
        "...         ...     ...              ...          ...        ...          ...   \n",
        "60742       NaN     ...              NaN          NaN        NaN          NaN   \n",
        "60743         5     ...              NaN          NaN        NaN          NaN   \n",
        "60744       NaN     ...              NaN          NaN        NaN          NaN   \n",
        "60745         5     ...              NaN          NaN        NaN          NaN   \n",
        "60746         5     ...              NaN          NaN        NaN          NaN   \n",
        "60747       NaN     ...              NaN          NaN        NaN          NaN   \n",
        "60748       NaN     ...              NaN          NaN        NaN          NaN   \n",
        "60749       NaN     ...              NaN          NaN        NaN          NaN   \n",
        "60750       NaN     ...              NaN          NaN        NaN          NaN   \n",
        "60751       NaN     ...              NaN          NaN        NaN          NaN   \n",
        "60752       NaN     ...              NaN          NaN        NaN          NaN   \n",
        "60753         5     ...              NaN          NaN        NaN          NaN   \n",
        "60754         5     ...              NaN          NaN        NaN          NaN   \n",
        "60755       NaN     ...              NaN          NaN        NaN          NaN   \n",
        "60756       NaN     ...              NaN          NaN        NaN          NaN   \n",
        "60757       NaN     ...              NaN          NaN        NaN          NaN   \n",
        "60758       NaN     ...              NaN          NaN        NaN          NaN   \n",
        "60759         5     ...              NaN          NaN        NaN          NaN   \n",
        "60760       NaN     ...              NaN          NaN        NaN          NaN   \n",
        "60761       NaN     ...              NaN          NaN        NaN          NaN   \n",
        "60762       NaN     ...              NaN          NaN        NaN          NaN   \n",
        "60763         5     ...              NaN          NaN        NaN          NaN   \n",
        "60764       NaN     ...              NaN          NaN        NaN          NaN   \n",
        "60765       NaN     ...              NaN          NaN        NaN          NaN   \n",
        "60766       NaN     ...              NaN          NaN        NaN          NaN   \n",
        "60767       NaN     ...              NaN          NaN        NaN          NaN   \n",
        "60768         5     ...              NaN          NaN        NaN          NaN   \n",
        "60769       NaN     ...              NaN          NaN        NaN          NaN   \n",
        "60770       NaN     ...              NaN          NaN        NaN          NaN   \n",
        "60771       NaN     ...              NaN          NaN        NaN          NaN   \n",
        "\n",
        "      Tax 3 Name Tax 3 Value  Tax 4 Name Tax 4 Value  Tax 5 Name  Tax 5 Value  \n",
        "0            NaN         NaN         NaN         NaN         NaN          NaN  \n",
        "1            NaN         NaN         NaN         NaN         NaN          NaN  \n",
        "2            NaN         NaN         NaN         NaN         NaN          NaN  \n",
        "3            NaN         NaN         NaN         NaN         NaN          NaN  \n",
        "4            NaN         NaN         NaN         NaN         NaN          NaN  \n",
        "5            NaN         NaN         NaN         NaN         NaN          NaN  \n",
        "6            NaN         NaN         NaN         NaN         NaN          NaN  \n",
        "7            NaN         NaN         NaN         NaN         NaN          NaN  \n",
        "8            NaN         NaN         NaN         NaN         NaN          NaN  \n",
        "9            NaN         NaN         NaN         NaN         NaN          NaN  \n",
        "10           NaN         NaN         NaN         NaN         NaN          NaN  \n",
        "11           NaN         NaN         NaN         NaN         NaN          NaN  \n",
        "12           NaN         NaN         NaN         NaN         NaN          NaN  \n",
        "13           NaN         NaN         NaN         NaN         NaN          NaN  \n",
        "14           NaN         NaN         NaN         NaN         NaN          NaN  \n",
        "15           NaN         NaN         NaN         NaN         NaN          NaN  \n",
        "16           NaN         NaN         NaN         NaN         NaN          NaN  \n",
        "17           NaN         NaN         NaN         NaN         NaN          NaN  \n",
        "18           NaN         NaN         NaN         NaN         NaN          NaN  \n",
        "19           NaN         NaN         NaN         NaN         NaN          NaN  \n",
        "20           NaN         NaN         NaN         NaN         NaN          NaN  \n",
        "21           NaN         NaN         NaN         NaN         NaN          NaN  \n",
        "22           NaN         NaN         NaN         NaN         NaN          NaN  \n",
        "23           NaN         NaN         NaN         NaN         NaN          NaN  \n",
        "24           NaN         NaN         NaN         NaN         NaN          NaN  \n",
        "25           NaN         NaN         NaN         NaN         NaN          NaN  \n",
        "26           NaN         NaN         NaN         NaN         NaN          NaN  \n",
        "27           NaN         NaN         NaN         NaN         NaN          NaN  \n",
        "28           NaN         NaN         NaN         NaN         NaN          NaN  \n",
        "29           NaN         NaN         NaN         NaN         NaN          NaN  \n",
        "...          ...         ...         ...         ...         ...          ...  \n",
        "60742        NaN         NaN         NaN         NaN         NaN          NaN  \n",
        "60743        NaN         NaN         NaN         NaN         NaN          NaN  \n",
        "60744        NaN         NaN         NaN         NaN         NaN          NaN  \n",
        "60745        NaN         NaN         NaN         NaN         NaN          NaN  \n",
        "60746        NaN         NaN         NaN         NaN         NaN          NaN  \n",
        "60747        NaN         NaN         NaN         NaN         NaN          NaN  \n",
        "60748        NaN         NaN         NaN         NaN         NaN          NaN  \n",
        "60749        NaN         NaN         NaN         NaN         NaN          NaN  \n",
        "60750        NaN         NaN         NaN         NaN         NaN          NaN  \n",
        "60751        NaN         NaN         NaN         NaN         NaN          NaN  \n",
        "60752        NaN         NaN         NaN         NaN         NaN          NaN  \n",
        "60753        NaN         NaN         NaN         NaN         NaN          NaN  \n",
        "60754        NaN         NaN         NaN         NaN         NaN          NaN  \n",
        "60755        NaN         NaN         NaN         NaN         NaN          NaN  \n",
        "60756        NaN         NaN         NaN         NaN         NaN          NaN  \n",
        "60757        NaN         NaN         NaN         NaN         NaN          NaN  \n",
        "60758        NaN         NaN         NaN         NaN         NaN          NaN  \n",
        "60759        NaN         NaN         NaN         NaN         NaN          NaN  \n",
        "60760        NaN         NaN         NaN         NaN         NaN          NaN  \n",
        "60761        NaN         NaN         NaN         NaN         NaN          NaN  \n",
        "60762        NaN         NaN         NaN         NaN         NaN          NaN  \n",
        "60763        NaN         NaN         NaN         NaN         NaN          NaN  \n",
        "60764        NaN         NaN         NaN         NaN         NaN          NaN  \n",
        "60765        NaN         NaN         NaN         NaN         NaN          NaN  \n",
        "60766        NaN         NaN         NaN         NaN         NaN          NaN  \n",
        "60767        NaN         NaN         NaN         NaN         NaN          NaN  \n",
        "60768        NaN         NaN         NaN         NaN         NaN          NaN  \n",
        "60769        NaN         NaN         NaN         NaN         NaN          NaN  \n",
        "60770        NaN         NaN         NaN         NaN         NaN          NaN  \n",
        "60771        NaN         NaN         NaN         NaN         NaN          NaN  \n",
        "\n",
        "[60772 rows x 66 columns]"
       ]
      }
     ],
     "prompt_number": 1
    },
    {
     "cell_type": "code",
     "collapsed": false,
     "input": [
      "# take required fields\n",
      "df1=df[['Name','Email', 'Created at' ]]\n",
      "\n",
      "df1=df1.drop_duplicates().reset_index().drop('index',1)\n",
      "df1"
     ],
     "language": "python",
     "metadata": {},
     "outputs": [
      {
       "html": [
        "<div style=\"max-height:1000px;max-width:1500px;overflow:auto;\">\n",
        "<table border=\"1\" class=\"dataframe\">\n",
        "  <thead>\n",
        "    <tr style=\"text-align: right;\">\n",
        "      <th></th>\n",
        "      <th>Name</th>\n",
        "      <th>Email</th>\n",
        "      <th>Created at</th>\n",
        "    </tr>\n",
        "  </thead>\n",
        "  <tbody>\n",
        "    <tr>\n",
        "      <th>0   </th>\n",
        "      <td> #10367</td>\n",
        "      <td>       rehabmansour@gmail.com</td>\n",
        "      <td> 2015-12-23 20:33:51 +0200</td>\n",
        "    </tr>\n",
        "    <tr>\n",
        "      <th>1   </th>\n",
        "      <td> #10366</td>\n",
        "      <td>          nabouheif@yahoo.com</td>\n",
        "      <td> 2015-12-23 20:00:17 +0200</td>\n",
        "    </tr>\n",
        "    <tr>\n",
        "      <th>2   </th>\n",
        "      <td> #10365</td>\n",
        "      <td>       fracicardi@hotmail.com</td>\n",
        "      <td> 2015-12-23 18:36:17 +0200</td>\n",
        "    </tr>\n",
        "    <tr>\n",
        "      <th>3   </th>\n",
        "      <td> #10364</td>\n",
        "      <td>       ahmed.fakhry@gmail.com</td>\n",
        "      <td> 2015-12-23 16:06:49 +0200</td>\n",
        "    </tr>\n",
        "    <tr>\n",
        "      <th>4   </th>\n",
        "      <td> #10363</td>\n",
        "      <td>       ahmed.fakhry@gmail.com</td>\n",
        "      <td> 2015-12-23 16:01:32 +0200</td>\n",
        "    </tr>\n",
        "    <tr>\n",
        "      <th>5   </th>\n",
        "      <td> #10362</td>\n",
        "      <td>         Missilou11@yahoo.com</td>\n",
        "      <td> 2015-12-23 14:25:09 +0200</td>\n",
        "    </tr>\n",
        "    <tr>\n",
        "      <th>6   </th>\n",
        "      <td> #10361</td>\n",
        "      <td>      sallysalem123@gmail.com</td>\n",
        "      <td> 2015-12-23 13:13:34 +0200</td>\n",
        "    </tr>\n",
        "    <tr>\n",
        "      <th>7   </th>\n",
        "      <td> #10360</td>\n",
        "      <td>     nayera_fadel@hotmail.com</td>\n",
        "      <td> 2015-12-23 13:11:55 +0200</td>\n",
        "    </tr>\n",
        "    <tr>\n",
        "      <th>8   </th>\n",
        "      <td> #10359</td>\n",
        "      <td>        raoufzdn553@gmail.com</td>\n",
        "      <td> 2015-12-23 13:03:10 +0200</td>\n",
        "    </tr>\n",
        "    <tr>\n",
        "      <th>9   </th>\n",
        "      <td> #10358</td>\n",
        "      <td>       gaylynmbogho@yahoo.com</td>\n",
        "      <td> 2015-12-23 12:45:22 +0200</td>\n",
        "    </tr>\n",
        "    <tr>\n",
        "      <th>10  </th>\n",
        "      <td> #10357</td>\n",
        "      <td>         oshahavi13@gmail.com</td>\n",
        "      <td> 2015-12-23 12:01:41 +0200</td>\n",
        "    </tr>\n",
        "    <tr>\n",
        "      <th>11  </th>\n",
        "      <td> #10356</td>\n",
        "      <td>         Daiieldeeb@gmail.com</td>\n",
        "      <td> 2015-12-23 11:58:37 +0200</td>\n",
        "    </tr>\n",
        "    <tr>\n",
        "      <th>12  </th>\n",
        "      <td> #10355</td>\n",
        "      <td>          yara.azam@gmail.com</td>\n",
        "      <td> 2015-12-23 11:33:07 +0200</td>\n",
        "    </tr>\n",
        "    <tr>\n",
        "      <th>13  </th>\n",
        "      <td> #10354</td>\n",
        "      <td>        dalia_allam@yahoo.com</td>\n",
        "      <td> 2015-12-23 07:51:44 +0200</td>\n",
        "    </tr>\n",
        "    <tr>\n",
        "      <th>14  </th>\n",
        "      <td> #10353</td>\n",
        "      <td>        elhanem52@hotmail.com</td>\n",
        "      <td> 2015-12-23 06:30:43 +0200</td>\n",
        "    </tr>\n",
        "    <tr>\n",
        "      <th>15  </th>\n",
        "      <td> #10352</td>\n",
        "      <td>     tarek_seddik@hotmail.com</td>\n",
        "      <td> 2015-12-23 03:30:00 +0200</td>\n",
        "    </tr>\n",
        "    <tr>\n",
        "      <th>16  </th>\n",
        "      <td> #10351</td>\n",
        "      <td>      maie.nomrossy@gmail.com</td>\n",
        "      <td> 2015-12-23 01:58:32 +0200</td>\n",
        "    </tr>\n",
        "    <tr>\n",
        "      <th>17  </th>\n",
        "      <td> #10350</td>\n",
        "      <td>        hazem.shamy@gmail.com</td>\n",
        "      <td> 2015-12-23 00:08:22 +0200</td>\n",
        "    </tr>\n",
        "    <tr>\n",
        "      <th>18  </th>\n",
        "      <td> #10349</td>\n",
        "      <td>       maya.p.nawal@gmail.com</td>\n",
        "      <td> 2015-12-22 20:00:23 +0200</td>\n",
        "    </tr>\n",
        "    <tr>\n",
        "      <th>19  </th>\n",
        "      <td> #10348</td>\n",
        "      <td>    jamesmorgan0091@gmail.com</td>\n",
        "      <td> 2015-12-22 19:27:38 +0200</td>\n",
        "    </tr>\n",
        "    <tr>\n",
        "      <th>20  </th>\n",
        "      <td> #10347</td>\n",
        "      <td>         israa_s@aucegypt.edu</td>\n",
        "      <td> 2015-12-22 17:46:30 +0200</td>\n",
        "    </tr>\n",
        "    <tr>\n",
        "      <th>21  </th>\n",
        "      <td> #10346</td>\n",
        "      <td>       RODY.DOVE123@GMAIL.COM</td>\n",
        "      <td> 2015-12-22 16:53:06 +0200</td>\n",
        "    </tr>\n",
        "    <tr>\n",
        "      <th>22  </th>\n",
        "      <td> #10345</td>\n",
        "      <td>       amaghraby@mediawave.me</td>\n",
        "      <td> 2015-12-22 16:22:45 +0200</td>\n",
        "    </tr>\n",
        "    <tr>\n",
        "      <th>23  </th>\n",
        "      <td> #10344</td>\n",
        "      <td>       RODY.DOVE123@GMAIL.COM</td>\n",
        "      <td> 2015-12-22 16:04:49 +0200</td>\n",
        "    </tr>\n",
        "    <tr>\n",
        "      <th>24  </th>\n",
        "      <td> #10343</td>\n",
        "      <td>          hibba_b@hotmail.com</td>\n",
        "      <td> 2015-12-22 15:25:38 +0200</td>\n",
        "    </tr>\n",
        "    <tr>\n",
        "      <th>25  </th>\n",
        "      <td> #10342</td>\n",
        "      <td>       pascalenader@gmail.com</td>\n",
        "      <td> 2015-12-22 15:04:15 +0200</td>\n",
        "    </tr>\n",
        "    <tr>\n",
        "      <th>26  </th>\n",
        "      <td> #10341</td>\n",
        "      <td>       doaa.khattab@gmail.com</td>\n",
        "      <td> 2015-12-22 14:08:12 +0200</td>\n",
        "    </tr>\n",
        "    <tr>\n",
        "      <th>27  </th>\n",
        "      <td> #10340</td>\n",
        "      <td>       sunset_456@hotmail.com</td>\n",
        "      <td> 2015-12-22 13:26:21 +0200</td>\n",
        "    </tr>\n",
        "    <tr>\n",
        "      <th>28  </th>\n",
        "      <td> #10339</td>\n",
        "      <td>   colleen_lovely@hotmail.com</td>\n",
        "      <td> 2015-12-22 13:05:56 +0200</td>\n",
        "    </tr>\n",
        "    <tr>\n",
        "      <th>29  </th>\n",
        "      <td> #10338</td>\n",
        "      <td>             imrhazi@yahoo.fr</td>\n",
        "      <td> 2015-12-22 12:33:47 +0200</td>\n",
        "    </tr>\n",
        "    <tr>\n",
        "      <th>...</th>\n",
        "      <td>...</td>\n",
        "      <td>...</td>\n",
        "      <td>...</td>\n",
        "    </tr>\n",
        "    <tr>\n",
        "      <th>9308</th>\n",
        "      <td>  #1035</td>\n",
        "      <td>       mireilleamin@yahoo.com</td>\n",
        "      <td> 2012-07-09 19:47:33 +0200</td>\n",
        "    </tr>\n",
        "    <tr>\n",
        "      <th>9309</th>\n",
        "      <td>  #1034</td>\n",
        "      <td>   Ihab.derias@laroche.com.eg</td>\n",
        "      <td> 2012-07-09 19:35:28 +0200</td>\n",
        "    </tr>\n",
        "    <tr>\n",
        "      <th>9310</th>\n",
        "      <td>  #1033</td>\n",
        "      <td>         Adhamada@hotmail.com</td>\n",
        "      <td> 2012-07-09 19:13:13 +0200</td>\n",
        "    </tr>\n",
        "    <tr>\n",
        "      <th>9311</th>\n",
        "      <td>  #1032</td>\n",
        "      <td>     houssam.elokda@gmail.com</td>\n",
        "      <td> 2012-07-09 18:37:57 +0200</td>\n",
        "    </tr>\n",
        "    <tr>\n",
        "      <th>9312</th>\n",
        "      <td>  #1031</td>\n",
        "      <td>          Hania7894@gmail.com</td>\n",
        "      <td> 2012-07-09 15:44:37 +0200</td>\n",
        "    </tr>\n",
        "    <tr>\n",
        "      <th>9313</th>\n",
        "      <td>  #1030</td>\n",
        "      <td>          Hania7894@gmail.com</td>\n",
        "      <td> 2012-07-09 13:00:57 +0200</td>\n",
        "    </tr>\n",
        "    <tr>\n",
        "      <th>9314</th>\n",
        "      <td>  #1029</td>\n",
        "      <td>            Mamazzz@gmail.com</td>\n",
        "      <td> 2012-07-08 20:09:22 +0200</td>\n",
        "    </tr>\n",
        "    <tr>\n",
        "      <th>9315</th>\n",
        "      <td>  #1028</td>\n",
        "      <td>            asony11@yahoo.com</td>\n",
        "      <td> 2012-07-08 19:54:07 +0200</td>\n",
        "    </tr>\n",
        "    <tr>\n",
        "      <th>9316</th>\n",
        "      <td>  #1027</td>\n",
        "      <td>      salwa_saiid@hotmail.com</td>\n",
        "      <td> 2012-07-08 16:48:00 +0200</td>\n",
        "    </tr>\n",
        "    <tr>\n",
        "      <th>9317</th>\n",
        "      <td>  #1026</td>\n",
        "      <td> djamila.benderbous@gmail.com</td>\n",
        "      <td> 2012-07-07 19:24:42 +0200</td>\n",
        "    </tr>\n",
        "    <tr>\n",
        "      <th>9318</th>\n",
        "      <td>  #1025</td>\n",
        "      <td>      milomilogindi@yahoo.com</td>\n",
        "      <td> 2012-07-05 16:16:06 +0200</td>\n",
        "    </tr>\n",
        "    <tr>\n",
        "      <th>9319</th>\n",
        "      <td>  #1024</td>\n",
        "      <td>     raghebelgammal@yahoo.com</td>\n",
        "      <td> 2012-07-05 14:51:21 +0200</td>\n",
        "    </tr>\n",
        "    <tr>\n",
        "      <th>9320</th>\n",
        "      <td>  #1023</td>\n",
        "      <td>      t_el_gammal@hotmail.com</td>\n",
        "      <td> 2012-07-04 14:23:49 +0200</td>\n",
        "    </tr>\n",
        "    <tr>\n",
        "      <th>9321</th>\n",
        "      <td>  #1022</td>\n",
        "      <td>       lik-novikova@yandex.ru</td>\n",
        "      <td> 2012-07-01 15:43:57 +0200</td>\n",
        "    </tr>\n",
        "    <tr>\n",
        "      <th>9322</th>\n",
        "      <td>  #1021</td>\n",
        "      <td>        fairymaid82@yahoo.com</td>\n",
        "      <td> 2012-06-13 07:49:54 +0200</td>\n",
        "    </tr>\n",
        "    <tr>\n",
        "      <th>9323</th>\n",
        "      <td>  #1020</td>\n",
        "      <td>      milomilogindi@yahoo.com</td>\n",
        "      <td> 2012-06-06 22:01:30 +0200</td>\n",
        "    </tr>\n",
        "    <tr>\n",
        "      <th>9324</th>\n",
        "      <td>  #1019</td>\n",
        "      <td>      t_el_gammal@hotmail.com</td>\n",
        "      <td> 2012-06-06 20:58:05 +0200</td>\n",
        "    </tr>\n",
        "    <tr>\n",
        "      <th>9325</th>\n",
        "      <td>  #1017</td>\n",
        "      <td>      t_el_gammal@hotmail.com</td>\n",
        "      <td> 2012-05-29 02:03:55 +0200</td>\n",
        "    </tr>\n",
        "    <tr>\n",
        "      <th>9326</th>\n",
        "      <td>  #1016</td>\n",
        "      <td>       lik-novikova@yandex.ru</td>\n",
        "      <td> 2012-05-27 19:51:45 +0200</td>\n",
        "    </tr>\n",
        "    <tr>\n",
        "      <th>9327</th>\n",
        "      <td>  #1015</td>\n",
        "      <td>             Biro5s@yahoo.com</td>\n",
        "      <td> 2012-05-25 19:04:29 +0200</td>\n",
        "    </tr>\n",
        "    <tr>\n",
        "      <th>9328</th>\n",
        "      <td>  #1014</td>\n",
        "      <td>         nini.etoile@voila.fr</td>\n",
        "      <td> 2012-05-21 16:11:42 +0200</td>\n",
        "    </tr>\n",
        "    <tr>\n",
        "      <th>9329</th>\n",
        "      <td>  #1013</td>\n",
        "      <td>       lik-novikova@yandex.ru</td>\n",
        "      <td> 2012-05-21 16:11:25 +0200</td>\n",
        "    </tr>\n",
        "    <tr>\n",
        "      <th>9330</th>\n",
        "      <td>  #1012</td>\n",
        "      <td>          bettyhedrich@gmx.de</td>\n",
        "      <td> 2012-05-18 18:08:41 +0200</td>\n",
        "    </tr>\n",
        "    <tr>\n",
        "      <th>9331</th>\n",
        "      <td>  #1011</td>\n",
        "      <td>                rulah@msn.com</td>\n",
        "      <td> 2012-05-10 19:36:02 +0200</td>\n",
        "    </tr>\n",
        "    <tr>\n",
        "      <th>9332</th>\n",
        "      <td>  #1010</td>\n",
        "      <td>          milda_b@hotmail.com</td>\n",
        "      <td> 2012-05-08 13:52:24 +0200</td>\n",
        "    </tr>\n",
        "    <tr>\n",
        "      <th>9333</th>\n",
        "      <td>  #1009</td>\n",
        "      <td>          bente.ring@yahoo.no</td>\n",
        "      <td> 2012-05-08 13:20:05 +0200</td>\n",
        "    </tr>\n",
        "    <tr>\n",
        "      <th>9334</th>\n",
        "      <td>  #1008</td>\n",
        "      <td>          bente.ring@yahoo.no</td>\n",
        "      <td> 2012-05-07 10:49:42 +0200</td>\n",
        "    </tr>\n",
        "    <tr>\n",
        "      <th>9335</th>\n",
        "      <td>  #1007</td>\n",
        "      <td>       lik-novikova@yandex.ru</td>\n",
        "      <td> 2012-05-03 11:34:14 +0200</td>\n",
        "    </tr>\n",
        "    <tr>\n",
        "      <th>9336</th>\n",
        "      <td>  #1006</td>\n",
        "      <td>          bente.ring@yahoo.no</td>\n",
        "      <td> 2012-05-02 17:38:40 +0200</td>\n",
        "    </tr>\n",
        "    <tr>\n",
        "      <th>9337</th>\n",
        "      <td>  #1005</td>\n",
        "      <td>         cathypod@hotmail.com</td>\n",
        "      <td> 2012-05-01 22:08:45 +0200</td>\n",
        "    </tr>\n",
        "  </tbody>\n",
        "</table>\n",
        "<p>9338 rows \u00d7 3 columns</p>\n",
        "</div>"
       ],
       "metadata": {},
       "output_type": "pyout",
       "prompt_number": 2,
       "text": [
        "        Name                         Email                 Created at\n",
        "0     #10367        rehabmansour@gmail.com  2015-12-23 20:33:51 +0200\n",
        "1     #10366           nabouheif@yahoo.com  2015-12-23 20:00:17 +0200\n",
        "2     #10365        fracicardi@hotmail.com  2015-12-23 18:36:17 +0200\n",
        "3     #10364        ahmed.fakhry@gmail.com  2015-12-23 16:06:49 +0200\n",
        "4     #10363        ahmed.fakhry@gmail.com  2015-12-23 16:01:32 +0200\n",
        "5     #10362          Missilou11@yahoo.com  2015-12-23 14:25:09 +0200\n",
        "6     #10361       sallysalem123@gmail.com  2015-12-23 13:13:34 +0200\n",
        "7     #10360      nayera_fadel@hotmail.com  2015-12-23 13:11:55 +0200\n",
        "8     #10359         raoufzdn553@gmail.com  2015-12-23 13:03:10 +0200\n",
        "9     #10358        gaylynmbogho@yahoo.com  2015-12-23 12:45:22 +0200\n",
        "10    #10357          oshahavi13@gmail.com  2015-12-23 12:01:41 +0200\n",
        "11    #10356          Daiieldeeb@gmail.com  2015-12-23 11:58:37 +0200\n",
        "12    #10355           yara.azam@gmail.com  2015-12-23 11:33:07 +0200\n",
        "13    #10354         dalia_allam@yahoo.com  2015-12-23 07:51:44 +0200\n",
        "14    #10353         elhanem52@hotmail.com  2015-12-23 06:30:43 +0200\n",
        "15    #10352      tarek_seddik@hotmail.com  2015-12-23 03:30:00 +0200\n",
        "16    #10351       maie.nomrossy@gmail.com  2015-12-23 01:58:32 +0200\n",
        "17    #10350         hazem.shamy@gmail.com  2015-12-23 00:08:22 +0200\n",
        "18    #10349        maya.p.nawal@gmail.com  2015-12-22 20:00:23 +0200\n",
        "19    #10348     jamesmorgan0091@gmail.com  2015-12-22 19:27:38 +0200\n",
        "20    #10347          israa_s@aucegypt.edu  2015-12-22 17:46:30 +0200\n",
        "21    #10346        RODY.DOVE123@GMAIL.COM  2015-12-22 16:53:06 +0200\n",
        "22    #10345        amaghraby@mediawave.me  2015-12-22 16:22:45 +0200\n",
        "23    #10344        RODY.DOVE123@GMAIL.COM  2015-12-22 16:04:49 +0200\n",
        "24    #10343           hibba_b@hotmail.com  2015-12-22 15:25:38 +0200\n",
        "25    #10342        pascalenader@gmail.com  2015-12-22 15:04:15 +0200\n",
        "26    #10341        doaa.khattab@gmail.com  2015-12-22 14:08:12 +0200\n",
        "27    #10340        sunset_456@hotmail.com  2015-12-22 13:26:21 +0200\n",
        "28    #10339    colleen_lovely@hotmail.com  2015-12-22 13:05:56 +0200\n",
        "29    #10338              imrhazi@yahoo.fr  2015-12-22 12:33:47 +0200\n",
        "...      ...                           ...                        ...\n",
        "9308   #1035        mireilleamin@yahoo.com  2012-07-09 19:47:33 +0200\n",
        "9309   #1034    Ihab.derias@laroche.com.eg  2012-07-09 19:35:28 +0200\n",
        "9310   #1033          Adhamada@hotmail.com  2012-07-09 19:13:13 +0200\n",
        "9311   #1032      houssam.elokda@gmail.com  2012-07-09 18:37:57 +0200\n",
        "9312   #1031           Hania7894@gmail.com  2012-07-09 15:44:37 +0200\n",
        "9313   #1030           Hania7894@gmail.com  2012-07-09 13:00:57 +0200\n",
        "9314   #1029             Mamazzz@gmail.com  2012-07-08 20:09:22 +0200\n",
        "9315   #1028             asony11@yahoo.com  2012-07-08 19:54:07 +0200\n",
        "9316   #1027       salwa_saiid@hotmail.com  2012-07-08 16:48:00 +0200\n",
        "9317   #1026  djamila.benderbous@gmail.com  2012-07-07 19:24:42 +0200\n",
        "9318   #1025       milomilogindi@yahoo.com  2012-07-05 16:16:06 +0200\n",
        "9319   #1024      raghebelgammal@yahoo.com  2012-07-05 14:51:21 +0200\n",
        "9320   #1023       t_el_gammal@hotmail.com  2012-07-04 14:23:49 +0200\n",
        "9321   #1022        lik-novikova@yandex.ru  2012-07-01 15:43:57 +0200\n",
        "9322   #1021         fairymaid82@yahoo.com  2012-06-13 07:49:54 +0200\n",
        "9323   #1020       milomilogindi@yahoo.com  2012-06-06 22:01:30 +0200\n",
        "9324   #1019       t_el_gammal@hotmail.com  2012-06-06 20:58:05 +0200\n",
        "9325   #1017       t_el_gammal@hotmail.com  2012-05-29 02:03:55 +0200\n",
        "9326   #1016        lik-novikova@yandex.ru  2012-05-27 19:51:45 +0200\n",
        "9327   #1015              Biro5s@yahoo.com  2012-05-25 19:04:29 +0200\n",
        "9328   #1014          nini.etoile@voila.fr  2012-05-21 16:11:42 +0200\n",
        "9329   #1013        lik-novikova@yandex.ru  2012-05-21 16:11:25 +0200\n",
        "9330   #1012           bettyhedrich@gmx.de  2012-05-18 18:08:41 +0200\n",
        "9331   #1011                 rulah@msn.com  2012-05-10 19:36:02 +0200\n",
        "9332   #1010           milda_b@hotmail.com  2012-05-08 13:52:24 +0200\n",
        "9333   #1009           bente.ring@yahoo.no  2012-05-08 13:20:05 +0200\n",
        "9334   #1008           bente.ring@yahoo.no  2012-05-07 10:49:42 +0200\n",
        "9335   #1007        lik-novikova@yandex.ru  2012-05-03 11:34:14 +0200\n",
        "9336   #1006           bente.ring@yahoo.no  2012-05-02 17:38:40 +0200\n",
        "9337   #1005          cathypod@hotmail.com  2012-05-01 22:08:45 +0200\n",
        "\n",
        "[9338 rows x 3 columns]"
       ]
      }
     ],
     "prompt_number": 2
    },
    {
     "cell_type": "code",
     "collapsed": false,
     "input": [
      "#getting only date from created at field\n",
      "df1['Created at'] = df1.apply(lambda x: x['Created at'][:10], axis = 1)\n",
      "    \n",
      "df1=df1.drop_duplicates().reset_index().drop('index',1)\n",
      "df1"
     ],
     "language": "python",
     "metadata": {},
     "outputs": [
      {
       "html": [
        "<div style=\"max-height:1000px;max-width:1500px;overflow:auto;\">\n",
        "<table border=\"1\" class=\"dataframe\">\n",
        "  <thead>\n",
        "    <tr style=\"text-align: right;\">\n",
        "      <th></th>\n",
        "      <th>Name</th>\n",
        "      <th>Email</th>\n",
        "      <th>Created at</th>\n",
        "    </tr>\n",
        "  </thead>\n",
        "  <tbody>\n",
        "    <tr>\n",
        "      <th>0   </th>\n",
        "      <td> #10367</td>\n",
        "      <td>       rehabmansour@gmail.com</td>\n",
        "      <td> 2015-12-23</td>\n",
        "    </tr>\n",
        "    <tr>\n",
        "      <th>1   </th>\n",
        "      <td> #10366</td>\n",
        "      <td>          nabouheif@yahoo.com</td>\n",
        "      <td> 2015-12-23</td>\n",
        "    </tr>\n",
        "    <tr>\n",
        "      <th>2   </th>\n",
        "      <td> #10365</td>\n",
        "      <td>       fracicardi@hotmail.com</td>\n",
        "      <td> 2015-12-23</td>\n",
        "    </tr>\n",
        "    <tr>\n",
        "      <th>3   </th>\n",
        "      <td> #10364</td>\n",
        "      <td>       ahmed.fakhry@gmail.com</td>\n",
        "      <td> 2015-12-23</td>\n",
        "    </tr>\n",
        "    <tr>\n",
        "      <th>4   </th>\n",
        "      <td> #10363</td>\n",
        "      <td>       ahmed.fakhry@gmail.com</td>\n",
        "      <td> 2015-12-23</td>\n",
        "    </tr>\n",
        "    <tr>\n",
        "      <th>5   </th>\n",
        "      <td> #10362</td>\n",
        "      <td>         Missilou11@yahoo.com</td>\n",
        "      <td> 2015-12-23</td>\n",
        "    </tr>\n",
        "    <tr>\n",
        "      <th>6   </th>\n",
        "      <td> #10361</td>\n",
        "      <td>      sallysalem123@gmail.com</td>\n",
        "      <td> 2015-12-23</td>\n",
        "    </tr>\n",
        "    <tr>\n",
        "      <th>7   </th>\n",
        "      <td> #10360</td>\n",
        "      <td>     nayera_fadel@hotmail.com</td>\n",
        "      <td> 2015-12-23</td>\n",
        "    </tr>\n",
        "    <tr>\n",
        "      <th>8   </th>\n",
        "      <td> #10359</td>\n",
        "      <td>        raoufzdn553@gmail.com</td>\n",
        "      <td> 2015-12-23</td>\n",
        "    </tr>\n",
        "    <tr>\n",
        "      <th>9   </th>\n",
        "      <td> #10358</td>\n",
        "      <td>       gaylynmbogho@yahoo.com</td>\n",
        "      <td> 2015-12-23</td>\n",
        "    </tr>\n",
        "    <tr>\n",
        "      <th>10  </th>\n",
        "      <td> #10357</td>\n",
        "      <td>         oshahavi13@gmail.com</td>\n",
        "      <td> 2015-12-23</td>\n",
        "    </tr>\n",
        "    <tr>\n",
        "      <th>11  </th>\n",
        "      <td> #10356</td>\n",
        "      <td>         Daiieldeeb@gmail.com</td>\n",
        "      <td> 2015-12-23</td>\n",
        "    </tr>\n",
        "    <tr>\n",
        "      <th>12  </th>\n",
        "      <td> #10355</td>\n",
        "      <td>          yara.azam@gmail.com</td>\n",
        "      <td> 2015-12-23</td>\n",
        "    </tr>\n",
        "    <tr>\n",
        "      <th>13  </th>\n",
        "      <td> #10354</td>\n",
        "      <td>        dalia_allam@yahoo.com</td>\n",
        "      <td> 2015-12-23</td>\n",
        "    </tr>\n",
        "    <tr>\n",
        "      <th>14  </th>\n",
        "      <td> #10353</td>\n",
        "      <td>        elhanem52@hotmail.com</td>\n",
        "      <td> 2015-12-23</td>\n",
        "    </tr>\n",
        "    <tr>\n",
        "      <th>15  </th>\n",
        "      <td> #10352</td>\n",
        "      <td>     tarek_seddik@hotmail.com</td>\n",
        "      <td> 2015-12-23</td>\n",
        "    </tr>\n",
        "    <tr>\n",
        "      <th>16  </th>\n",
        "      <td> #10351</td>\n",
        "      <td>      maie.nomrossy@gmail.com</td>\n",
        "      <td> 2015-12-23</td>\n",
        "    </tr>\n",
        "    <tr>\n",
        "      <th>17  </th>\n",
        "      <td> #10350</td>\n",
        "      <td>        hazem.shamy@gmail.com</td>\n",
        "      <td> 2015-12-23</td>\n",
        "    </tr>\n",
        "    <tr>\n",
        "      <th>18  </th>\n",
        "      <td> #10349</td>\n",
        "      <td>       maya.p.nawal@gmail.com</td>\n",
        "      <td> 2015-12-22</td>\n",
        "    </tr>\n",
        "    <tr>\n",
        "      <th>19  </th>\n",
        "      <td> #10348</td>\n",
        "      <td>    jamesmorgan0091@gmail.com</td>\n",
        "      <td> 2015-12-22</td>\n",
        "    </tr>\n",
        "    <tr>\n",
        "      <th>20  </th>\n",
        "      <td> #10347</td>\n",
        "      <td>         israa_s@aucegypt.edu</td>\n",
        "      <td> 2015-12-22</td>\n",
        "    </tr>\n",
        "    <tr>\n",
        "      <th>21  </th>\n",
        "      <td> #10346</td>\n",
        "      <td>       RODY.DOVE123@GMAIL.COM</td>\n",
        "      <td> 2015-12-22</td>\n",
        "    </tr>\n",
        "    <tr>\n",
        "      <th>22  </th>\n",
        "      <td> #10345</td>\n",
        "      <td>       amaghraby@mediawave.me</td>\n",
        "      <td> 2015-12-22</td>\n",
        "    </tr>\n",
        "    <tr>\n",
        "      <th>23  </th>\n",
        "      <td> #10344</td>\n",
        "      <td>       RODY.DOVE123@GMAIL.COM</td>\n",
        "      <td> 2015-12-22</td>\n",
        "    </tr>\n",
        "    <tr>\n",
        "      <th>24  </th>\n",
        "      <td> #10343</td>\n",
        "      <td>          hibba_b@hotmail.com</td>\n",
        "      <td> 2015-12-22</td>\n",
        "    </tr>\n",
        "    <tr>\n",
        "      <th>25  </th>\n",
        "      <td> #10342</td>\n",
        "      <td>       pascalenader@gmail.com</td>\n",
        "      <td> 2015-12-22</td>\n",
        "    </tr>\n",
        "    <tr>\n",
        "      <th>26  </th>\n",
        "      <td> #10341</td>\n",
        "      <td>       doaa.khattab@gmail.com</td>\n",
        "      <td> 2015-12-22</td>\n",
        "    </tr>\n",
        "    <tr>\n",
        "      <th>27  </th>\n",
        "      <td> #10340</td>\n",
        "      <td>       sunset_456@hotmail.com</td>\n",
        "      <td> 2015-12-22</td>\n",
        "    </tr>\n",
        "    <tr>\n",
        "      <th>28  </th>\n",
        "      <td> #10339</td>\n",
        "      <td>   colleen_lovely@hotmail.com</td>\n",
        "      <td> 2015-12-22</td>\n",
        "    </tr>\n",
        "    <tr>\n",
        "      <th>29  </th>\n",
        "      <td> #10338</td>\n",
        "      <td>             imrhazi@yahoo.fr</td>\n",
        "      <td> 2015-12-22</td>\n",
        "    </tr>\n",
        "    <tr>\n",
        "      <th>...</th>\n",
        "      <td>...</td>\n",
        "      <td>...</td>\n",
        "      <td>...</td>\n",
        "    </tr>\n",
        "    <tr>\n",
        "      <th>9287</th>\n",
        "      <td>  #1035</td>\n",
        "      <td>       mireilleamin@yahoo.com</td>\n",
        "      <td> 2012-07-09</td>\n",
        "    </tr>\n",
        "    <tr>\n",
        "      <th>9288</th>\n",
        "      <td>  #1034</td>\n",
        "      <td>   Ihab.derias@laroche.com.eg</td>\n",
        "      <td> 2012-07-09</td>\n",
        "    </tr>\n",
        "    <tr>\n",
        "      <th>9289</th>\n",
        "      <td>  #1033</td>\n",
        "      <td>         Adhamada@hotmail.com</td>\n",
        "      <td> 2012-07-09</td>\n",
        "    </tr>\n",
        "    <tr>\n",
        "      <th>9290</th>\n",
        "      <td>  #1032</td>\n",
        "      <td>     houssam.elokda@gmail.com</td>\n",
        "      <td> 2012-07-09</td>\n",
        "    </tr>\n",
        "    <tr>\n",
        "      <th>9291</th>\n",
        "      <td>  #1031</td>\n",
        "      <td>          Hania7894@gmail.com</td>\n",
        "      <td> 2012-07-09</td>\n",
        "    </tr>\n",
        "    <tr>\n",
        "      <th>9292</th>\n",
        "      <td>  #1030</td>\n",
        "      <td>          Hania7894@gmail.com</td>\n",
        "      <td> 2012-07-09</td>\n",
        "    </tr>\n",
        "    <tr>\n",
        "      <th>9293</th>\n",
        "      <td>  #1029</td>\n",
        "      <td>            Mamazzz@gmail.com</td>\n",
        "      <td> 2012-07-08</td>\n",
        "    </tr>\n",
        "    <tr>\n",
        "      <th>9294</th>\n",
        "      <td>  #1028</td>\n",
        "      <td>            asony11@yahoo.com</td>\n",
        "      <td> 2012-07-08</td>\n",
        "    </tr>\n",
        "    <tr>\n",
        "      <th>9295</th>\n",
        "      <td>  #1027</td>\n",
        "      <td>      salwa_saiid@hotmail.com</td>\n",
        "      <td> 2012-07-08</td>\n",
        "    </tr>\n",
        "    <tr>\n",
        "      <th>9296</th>\n",
        "      <td>  #1026</td>\n",
        "      <td> djamila.benderbous@gmail.com</td>\n",
        "      <td> 2012-07-07</td>\n",
        "    </tr>\n",
        "    <tr>\n",
        "      <th>9297</th>\n",
        "      <td>  #1025</td>\n",
        "      <td>      milomilogindi@yahoo.com</td>\n",
        "      <td> 2012-07-05</td>\n",
        "    </tr>\n",
        "    <tr>\n",
        "      <th>9298</th>\n",
        "      <td>  #1024</td>\n",
        "      <td>     raghebelgammal@yahoo.com</td>\n",
        "      <td> 2012-07-05</td>\n",
        "    </tr>\n",
        "    <tr>\n",
        "      <th>9299</th>\n",
        "      <td>  #1023</td>\n",
        "      <td>      t_el_gammal@hotmail.com</td>\n",
        "      <td> 2012-07-04</td>\n",
        "    </tr>\n",
        "    <tr>\n",
        "      <th>9300</th>\n",
        "      <td>  #1022</td>\n",
        "      <td>       lik-novikova@yandex.ru</td>\n",
        "      <td> 2012-07-01</td>\n",
        "    </tr>\n",
        "    <tr>\n",
        "      <th>9301</th>\n",
        "      <td>  #1021</td>\n",
        "      <td>        fairymaid82@yahoo.com</td>\n",
        "      <td> 2012-06-13</td>\n",
        "    </tr>\n",
        "    <tr>\n",
        "      <th>9302</th>\n",
        "      <td>  #1020</td>\n",
        "      <td>      milomilogindi@yahoo.com</td>\n",
        "      <td> 2012-06-06</td>\n",
        "    </tr>\n",
        "    <tr>\n",
        "      <th>9303</th>\n",
        "      <td>  #1019</td>\n",
        "      <td>      t_el_gammal@hotmail.com</td>\n",
        "      <td> 2012-06-06</td>\n",
        "    </tr>\n",
        "    <tr>\n",
        "      <th>9304</th>\n",
        "      <td>  #1017</td>\n",
        "      <td>      t_el_gammal@hotmail.com</td>\n",
        "      <td> 2012-05-29</td>\n",
        "    </tr>\n",
        "    <tr>\n",
        "      <th>9305</th>\n",
        "      <td>  #1016</td>\n",
        "      <td>       lik-novikova@yandex.ru</td>\n",
        "      <td> 2012-05-27</td>\n",
        "    </tr>\n",
        "    <tr>\n",
        "      <th>9306</th>\n",
        "      <td>  #1015</td>\n",
        "      <td>             Biro5s@yahoo.com</td>\n",
        "      <td> 2012-05-25</td>\n",
        "    </tr>\n",
        "    <tr>\n",
        "      <th>9307</th>\n",
        "      <td>  #1014</td>\n",
        "      <td>         nini.etoile@voila.fr</td>\n",
        "      <td> 2012-05-21</td>\n",
        "    </tr>\n",
        "    <tr>\n",
        "      <th>9308</th>\n",
        "      <td>  #1013</td>\n",
        "      <td>       lik-novikova@yandex.ru</td>\n",
        "      <td> 2012-05-21</td>\n",
        "    </tr>\n",
        "    <tr>\n",
        "      <th>9309</th>\n",
        "      <td>  #1012</td>\n",
        "      <td>          bettyhedrich@gmx.de</td>\n",
        "      <td> 2012-05-18</td>\n",
        "    </tr>\n",
        "    <tr>\n",
        "      <th>9310</th>\n",
        "      <td>  #1011</td>\n",
        "      <td>                rulah@msn.com</td>\n",
        "      <td> 2012-05-10</td>\n",
        "    </tr>\n",
        "    <tr>\n",
        "      <th>9311</th>\n",
        "      <td>  #1010</td>\n",
        "      <td>          milda_b@hotmail.com</td>\n",
        "      <td> 2012-05-08</td>\n",
        "    </tr>\n",
        "    <tr>\n",
        "      <th>9312</th>\n",
        "      <td>  #1009</td>\n",
        "      <td>          bente.ring@yahoo.no</td>\n",
        "      <td> 2012-05-08</td>\n",
        "    </tr>\n",
        "    <tr>\n",
        "      <th>9313</th>\n",
        "      <td>  #1008</td>\n",
        "      <td>          bente.ring@yahoo.no</td>\n",
        "      <td> 2012-05-07</td>\n",
        "    </tr>\n",
        "    <tr>\n",
        "      <th>9314</th>\n",
        "      <td>  #1007</td>\n",
        "      <td>       lik-novikova@yandex.ru</td>\n",
        "      <td> 2012-05-03</td>\n",
        "    </tr>\n",
        "    <tr>\n",
        "      <th>9315</th>\n",
        "      <td>  #1006</td>\n",
        "      <td>          bente.ring@yahoo.no</td>\n",
        "      <td> 2012-05-02</td>\n",
        "    </tr>\n",
        "    <tr>\n",
        "      <th>9316</th>\n",
        "      <td>  #1005</td>\n",
        "      <td>         cathypod@hotmail.com</td>\n",
        "      <td> 2012-05-01</td>\n",
        "    </tr>\n",
        "  </tbody>\n",
        "</table>\n",
        "<p>9317 rows \u00d7 3 columns</p>\n",
        "</div>"
       ],
       "metadata": {},
       "output_type": "pyout",
       "prompt_number": 3,
       "text": [
        "        Name                         Email  Created at\n",
        "0     #10367        rehabmansour@gmail.com  2015-12-23\n",
        "1     #10366           nabouheif@yahoo.com  2015-12-23\n",
        "2     #10365        fracicardi@hotmail.com  2015-12-23\n",
        "3     #10364        ahmed.fakhry@gmail.com  2015-12-23\n",
        "4     #10363        ahmed.fakhry@gmail.com  2015-12-23\n",
        "5     #10362          Missilou11@yahoo.com  2015-12-23\n",
        "6     #10361       sallysalem123@gmail.com  2015-12-23\n",
        "7     #10360      nayera_fadel@hotmail.com  2015-12-23\n",
        "8     #10359         raoufzdn553@gmail.com  2015-12-23\n",
        "9     #10358        gaylynmbogho@yahoo.com  2015-12-23\n",
        "10    #10357          oshahavi13@gmail.com  2015-12-23\n",
        "11    #10356          Daiieldeeb@gmail.com  2015-12-23\n",
        "12    #10355           yara.azam@gmail.com  2015-12-23\n",
        "13    #10354         dalia_allam@yahoo.com  2015-12-23\n",
        "14    #10353         elhanem52@hotmail.com  2015-12-23\n",
        "15    #10352      tarek_seddik@hotmail.com  2015-12-23\n",
        "16    #10351       maie.nomrossy@gmail.com  2015-12-23\n",
        "17    #10350         hazem.shamy@gmail.com  2015-12-23\n",
        "18    #10349        maya.p.nawal@gmail.com  2015-12-22\n",
        "19    #10348     jamesmorgan0091@gmail.com  2015-12-22\n",
        "20    #10347          israa_s@aucegypt.edu  2015-12-22\n",
        "21    #10346        RODY.DOVE123@GMAIL.COM  2015-12-22\n",
        "22    #10345        amaghraby@mediawave.me  2015-12-22\n",
        "23    #10344        RODY.DOVE123@GMAIL.COM  2015-12-22\n",
        "24    #10343           hibba_b@hotmail.com  2015-12-22\n",
        "25    #10342        pascalenader@gmail.com  2015-12-22\n",
        "26    #10341        doaa.khattab@gmail.com  2015-12-22\n",
        "27    #10340        sunset_456@hotmail.com  2015-12-22\n",
        "28    #10339    colleen_lovely@hotmail.com  2015-12-22\n",
        "29    #10338              imrhazi@yahoo.fr  2015-12-22\n",
        "...      ...                           ...         ...\n",
        "9287   #1035        mireilleamin@yahoo.com  2012-07-09\n",
        "9288   #1034    Ihab.derias@laroche.com.eg  2012-07-09\n",
        "9289   #1033          Adhamada@hotmail.com  2012-07-09\n",
        "9290   #1032      houssam.elokda@gmail.com  2012-07-09\n",
        "9291   #1031           Hania7894@gmail.com  2012-07-09\n",
        "9292   #1030           Hania7894@gmail.com  2012-07-09\n",
        "9293   #1029             Mamazzz@gmail.com  2012-07-08\n",
        "9294   #1028             asony11@yahoo.com  2012-07-08\n",
        "9295   #1027       salwa_saiid@hotmail.com  2012-07-08\n",
        "9296   #1026  djamila.benderbous@gmail.com  2012-07-07\n",
        "9297   #1025       milomilogindi@yahoo.com  2012-07-05\n",
        "9298   #1024      raghebelgammal@yahoo.com  2012-07-05\n",
        "9299   #1023       t_el_gammal@hotmail.com  2012-07-04\n",
        "9300   #1022        lik-novikova@yandex.ru  2012-07-01\n",
        "9301   #1021         fairymaid82@yahoo.com  2012-06-13\n",
        "9302   #1020       milomilogindi@yahoo.com  2012-06-06\n",
        "9303   #1019       t_el_gammal@hotmail.com  2012-06-06\n",
        "9304   #1017       t_el_gammal@hotmail.com  2012-05-29\n",
        "9305   #1016        lik-novikova@yandex.ru  2012-05-27\n",
        "9306   #1015              Biro5s@yahoo.com  2012-05-25\n",
        "9307   #1014          nini.etoile@voila.fr  2012-05-21\n",
        "9308   #1013        lik-novikova@yandex.ru  2012-05-21\n",
        "9309   #1012           bettyhedrich@gmx.de  2012-05-18\n",
        "9310   #1011                 rulah@msn.com  2012-05-10\n",
        "9311   #1010           milda_b@hotmail.com  2012-05-08\n",
        "9312   #1009           bente.ring@yahoo.no  2012-05-08\n",
        "9313   #1008           bente.ring@yahoo.no  2012-05-07\n",
        "9314   #1007        lik-novikova@yandex.ru  2012-05-03\n",
        "9315   #1006           bente.ring@yahoo.no  2012-05-02\n",
        "9316   #1005          cathypod@hotmail.com  2012-05-01\n",
        "\n",
        "[9317 rows x 3 columns]"
       ]
      }
     ],
     "prompt_number": 3
    },
    {
     "cell_type": "code",
     "collapsed": false,
     "input": [
      "df1.columns=['Name','Email', 'Date']\n",
      "df1['Difference'] = 0\n",
      "df1['Total orders'] = 0\n",
      "\n",
      "df1['Date'] =pd.to_datetime(df1.Date)\n",
      "df1=df1.sort(['Email', 'Date']).reset_index().drop('index',1)\n",
      "df1"
     ],
     "language": "python",
     "metadata": {},
     "outputs": [
      {
       "html": [
        "<div style=\"max-height:1000px;max-width:1500px;overflow:auto;\">\n",
        "<table border=\"1\" class=\"dataframe\">\n",
        "  <thead>\n",
        "    <tr style=\"text-align: right;\">\n",
        "      <th></th>\n",
        "      <th>Name</th>\n",
        "      <th>Email</th>\n",
        "      <th>Date</th>\n",
        "      <th>Difference</th>\n",
        "      <th>Total orders</th>\n",
        "    </tr>\n",
        "  </thead>\n",
        "  <tbody>\n",
        "    <tr>\n",
        "      <th>0   </th>\n",
        "      <td>  #2121</td>\n",
        "      <td>        11435mail@mkallenberger.de</td>\n",
        "      <td>2013-05-26</td>\n",
        "      <td> 0</td>\n",
        "      <td> 0</td>\n",
        "    </tr>\n",
        "    <tr>\n",
        "      <th>1   </th>\n",
        "      <td>  #5068</td>\n",
        "      <td>                     1@gargour.com</td>\n",
        "      <td>2015-01-03</td>\n",
        "      <td> 0</td>\n",
        "      <td> 0</td>\n",
        "    </tr>\n",
        "    <tr>\n",
        "      <th>2   </th>\n",
        "      <td>  #6680</td>\n",
        "      <td>                     1@gargour.com</td>\n",
        "      <td>2015-04-07</td>\n",
        "      <td> 0</td>\n",
        "      <td> 0</td>\n",
        "    </tr>\n",
        "    <tr>\n",
        "      <th>3   </th>\n",
        "      <td>  #8424</td>\n",
        "      <td>                 1kttate@gmail.com</td>\n",
        "      <td>2015-08-09</td>\n",
        "      <td> 0</td>\n",
        "      <td> 0</td>\n",
        "    </tr>\n",
        "    <tr>\n",
        "      <th>4   </th>\n",
        "      <td>  #8467</td>\n",
        "      <td>                 1kttate@gmail.com</td>\n",
        "      <td>2015-08-13</td>\n",
        "      <td> 0</td>\n",
        "      <td> 0</td>\n",
        "    </tr>\n",
        "    <tr>\n",
        "      <th>5   </th>\n",
        "      <td>  #8500</td>\n",
        "      <td>                 1kttate@gmail.com</td>\n",
        "      <td>2015-08-17</td>\n",
        "      <td> 0</td>\n",
        "      <td> 0</td>\n",
        "    </tr>\n",
        "    <tr>\n",
        "      <th>6   </th>\n",
        "      <td>  #8652</td>\n",
        "      <td>                 1kttate@gmail.com</td>\n",
        "      <td>2015-08-31</td>\n",
        "      <td> 0</td>\n",
        "      <td> 0</td>\n",
        "    </tr>\n",
        "    <tr>\n",
        "      <th>7   </th>\n",
        "      <td>  #4653</td>\n",
        "      <td>         1youniqueflower@gmail.com</td>\n",
        "      <td>2014-11-20</td>\n",
        "      <td> 0</td>\n",
        "      <td> 0</td>\n",
        "    </tr>\n",
        "    <tr>\n",
        "      <th>8   </th>\n",
        "      <td>  #8677</td>\n",
        "      <td>         1youniqueflower@gmail.com</td>\n",
        "      <td>2015-09-01</td>\n",
        "      <td> 0</td>\n",
        "      <td> 0</td>\n",
        "    </tr>\n",
        "    <tr>\n",
        "      <th>9   </th>\n",
        "      <td> #10026</td>\n",
        "      <td>         1youniqueflower@gmail.com</td>\n",
        "      <td>2015-11-30</td>\n",
        "      <td> 0</td>\n",
        "      <td> 0</td>\n",
        "    </tr>\n",
        "    <tr>\n",
        "      <th>10  </th>\n",
        "      <td>  #6197</td>\n",
        "      <td>                3aliaa.h@gmail.com</td>\n",
        "      <td>2015-03-13</td>\n",
        "      <td> 0</td>\n",
        "      <td> 0</td>\n",
        "    </tr>\n",
        "    <tr>\n",
        "      <th>11  </th>\n",
        "      <td> #6197A</td>\n",
        "      <td>                3aliaa.h@gmail.com</td>\n",
        "      <td>2015-03-15</td>\n",
        "      <td> 0</td>\n",
        "      <td> 0</td>\n",
        "    </tr>\n",
        "    <tr>\n",
        "      <th>12  </th>\n",
        "      <td>  #6611</td>\n",
        "      <td>                3aliaa.h@gmail.com</td>\n",
        "      <td>2015-04-04</td>\n",
        "      <td> 0</td>\n",
        "      <td> 0</td>\n",
        "    </tr>\n",
        "    <tr>\n",
        "      <th>13  </th>\n",
        "      <td>  #9760</td>\n",
        "      <td>          777nadiateirah@gmail.com</td>\n",
        "      <td>2015-11-16</td>\n",
        "      <td> 0</td>\n",
        "      <td> 0</td>\n",
        "    </tr>\n",
        "    <tr>\n",
        "      <th>14  </th>\n",
        "      <td>  #9848</td>\n",
        "      <td>          777nadiateirah@gmail.com</td>\n",
        "      <td>2015-11-21</td>\n",
        "      <td> 0</td>\n",
        "      <td> 0</td>\n",
        "    </tr>\n",
        "    <tr>\n",
        "      <th>15  </th>\n",
        "      <td>  #8803</td>\n",
        "      <td>                         A2@ed.com</td>\n",
        "      <td>2015-09-12</td>\n",
        "      <td> 0</td>\n",
        "      <td> 0</td>\n",
        "    </tr>\n",
        "    <tr>\n",
        "      <th>16  </th>\n",
        "      <td>  #1244</td>\n",
        "      <td>           ASHRAF.M.ZAKI@GMAIL.COM</td>\n",
        "      <td>2012-10-05</td>\n",
        "      <td> 0</td>\n",
        "      <td> 0</td>\n",
        "    </tr>\n",
        "    <tr>\n",
        "      <th>17  </th>\n",
        "      <td>  #1033</td>\n",
        "      <td>              Adhamada@hotmail.com</td>\n",
        "      <td>2012-07-09</td>\n",
        "      <td> 0</td>\n",
        "      <td> 0</td>\n",
        "    </tr>\n",
        "    <tr>\n",
        "      <th>18  </th>\n",
        "      <td>  #6621</td>\n",
        "      <td>       Ahmed.Habash@moevenpick.com</td>\n",
        "      <td>2015-04-04</td>\n",
        "      <td> 0</td>\n",
        "      <td> 0</td>\n",
        "    </tr>\n",
        "    <tr>\n",
        "      <th>19  </th>\n",
        "      <td>  #8563</td>\n",
        "      <td> Ahmed.adel.abdelmonam@hotmail.com</td>\n",
        "      <td>2015-08-24</td>\n",
        "      <td> 0</td>\n",
        "      <td> 0</td>\n",
        "    </tr>\n",
        "    <tr>\n",
        "      <th>20  </th>\n",
        "      <td>  #4337</td>\n",
        "      <td>           Aliamossallam@gmail.com</td>\n",
        "      <td>2014-10-19</td>\n",
        "      <td> 0</td>\n",
        "      <td> 0</td>\n",
        "    </tr>\n",
        "    <tr>\n",
        "      <th>21  </th>\n",
        "      <td>  #4342</td>\n",
        "      <td>           Aliamossallam@gmail.com</td>\n",
        "      <td>2014-10-20</td>\n",
        "      <td> 0</td>\n",
        "      <td> 0</td>\n",
        "    </tr>\n",
        "    <tr>\n",
        "      <th>22  </th>\n",
        "      <td>  #4384</td>\n",
        "      <td>           Aliamossallam@gmail.com</td>\n",
        "      <td>2014-10-24</td>\n",
        "      <td> 0</td>\n",
        "      <td> 0</td>\n",
        "    </tr>\n",
        "    <tr>\n",
        "      <th>23  </th>\n",
        "      <td>  #4383</td>\n",
        "      <td>           Aliamossallam@gmail.com</td>\n",
        "      <td>2014-10-24</td>\n",
        "      <td> 0</td>\n",
        "      <td> 0</td>\n",
        "    </tr>\n",
        "    <tr>\n",
        "      <th>24  </th>\n",
        "      <td>  #4400</td>\n",
        "      <td>           Aliamossallam@gmail.com</td>\n",
        "      <td>2014-10-26</td>\n",
        "      <td> 0</td>\n",
        "      <td> 0</td>\n",
        "    </tr>\n",
        "    <tr>\n",
        "      <th>25  </th>\n",
        "      <td>  #4690</td>\n",
        "      <td>           Aliamossallam@gmail.com</td>\n",
        "      <td>2014-11-23</td>\n",
        "      <td> 0</td>\n",
        "      <td> 0</td>\n",
        "    </tr>\n",
        "    <tr>\n",
        "      <th>26  </th>\n",
        "      <td>  #4924</td>\n",
        "      <td>           Aliamossallam@gmail.com</td>\n",
        "      <td>2014-12-15</td>\n",
        "      <td> 0</td>\n",
        "      <td> 0</td>\n",
        "    </tr>\n",
        "    <tr>\n",
        "      <th>27  </th>\n",
        "      <td>  #4917</td>\n",
        "      <td>           Aliamossallam@gmail.com</td>\n",
        "      <td>2014-12-15</td>\n",
        "      <td> 0</td>\n",
        "      <td> 0</td>\n",
        "    </tr>\n",
        "    <tr>\n",
        "      <th>28  </th>\n",
        "      <td>  #5178</td>\n",
        "      <td>           Aliamossallam@gmail.com</td>\n",
        "      <td>2015-01-12</td>\n",
        "      <td> 0</td>\n",
        "      <td> 0</td>\n",
        "    </tr>\n",
        "    <tr>\n",
        "      <th>29  </th>\n",
        "      <td>  #5534</td>\n",
        "      <td>           Aliamossallam@gmail.com</td>\n",
        "      <td>2015-02-04</td>\n",
        "      <td> 0</td>\n",
        "      <td> 0</td>\n",
        "    </tr>\n",
        "    <tr>\n",
        "      <th>...</th>\n",
        "      <td>...</td>\n",
        "      <td>...</td>\n",
        "      <td>...</td>\n",
        "      <td>...</td>\n",
        "      <td>...</td>\n",
        "    </tr>\n",
        "    <tr>\n",
        "      <th>9287</th>\n",
        "      <td>  #8099</td>\n",
        "      <td>      zeinabkhalil2010@hotmail.com</td>\n",
        "      <td>2015-06-24</td>\n",
        "      <td> 0</td>\n",
        "      <td> 0</td>\n",
        "    </tr>\n",
        "    <tr>\n",
        "      <th>9288</th>\n",
        "      <td>  #4464</td>\n",
        "      <td>              zeinabnour@gmail.com</td>\n",
        "      <td>2014-11-01</td>\n",
        "      <td> 0</td>\n",
        "      <td> 0</td>\n",
        "    </tr>\n",
        "    <tr>\n",
        "      <th>9289</th>\n",
        "      <td>  #4467</td>\n",
        "      <td>              zeinabnour@gmail.com</td>\n",
        "      <td>2014-11-02</td>\n",
        "      <td> 0</td>\n",
        "      <td> 0</td>\n",
        "    </tr>\n",
        "    <tr>\n",
        "      <th>9290</th>\n",
        "      <td> #6373A</td>\n",
        "      <td>              zeinahodroj@live.com</td>\n",
        "      <td>2015-03-22</td>\n",
        "      <td> 0</td>\n",
        "      <td> 0</td>\n",
        "    </tr>\n",
        "    <tr>\n",
        "      <th>9291</th>\n",
        "      <td>  #6373</td>\n",
        "      <td>              zeinahodroj@live.com</td>\n",
        "      <td>2015-03-22</td>\n",
        "      <td> 0</td>\n",
        "      <td> 0</td>\n",
        "    </tr>\n",
        "    <tr>\n",
        "      <th>9292</th>\n",
        "      <td>  #2480</td>\n",
        "      <td>              zeinasabry@gmail.com</td>\n",
        "      <td>2013-09-20</td>\n",
        "      <td> 0</td>\n",
        "      <td> 0</td>\n",
        "    </tr>\n",
        "    <tr>\n",
        "      <th>9293</th>\n",
        "      <td>  #2479</td>\n",
        "      <td>              zeinasabry@gmail.com</td>\n",
        "      <td>2013-09-20</td>\n",
        "      <td> 0</td>\n",
        "      <td> 0</td>\n",
        "    </tr>\n",
        "    <tr>\n",
        "      <th>9294</th>\n",
        "      <td>  #2598</td>\n",
        "      <td>              zeinasabry@gmail.com</td>\n",
        "      <td>2013-10-23</td>\n",
        "      <td> 0</td>\n",
        "      <td> 0</td>\n",
        "    </tr>\n",
        "    <tr>\n",
        "      <th>9295</th>\n",
        "      <td>  #2819</td>\n",
        "      <td>              zeinasabry@gmail.com</td>\n",
        "      <td>2014-01-05</td>\n",
        "      <td> 0</td>\n",
        "      <td> 0</td>\n",
        "    </tr>\n",
        "    <tr>\n",
        "      <th>9296</th>\n",
        "      <td>  #2826</td>\n",
        "      <td>              zeinasabry@gmail.com</td>\n",
        "      <td>2014-01-06</td>\n",
        "      <td> 0</td>\n",
        "      <td> 0</td>\n",
        "    </tr>\n",
        "    <tr>\n",
        "      <th>9297</th>\n",
        "      <td>  #2986</td>\n",
        "      <td>              zeinasabry@gmail.com</td>\n",
        "      <td>2014-03-02</td>\n",
        "      <td> 0</td>\n",
        "      <td> 0</td>\n",
        "    </tr>\n",
        "    <tr>\n",
        "      <th>9298</th>\n",
        "      <td>  #3328</td>\n",
        "      <td>              zeinasabry@gmail.com</td>\n",
        "      <td>2014-05-28</td>\n",
        "      <td> 0</td>\n",
        "      <td> 0</td>\n",
        "    </tr>\n",
        "    <tr>\n",
        "      <th>9299</th>\n",
        "      <td>  #8828</td>\n",
        "      <td>               zeinriham@gmail.com</td>\n",
        "      <td>2015-09-14</td>\n",
        "      <td> 0</td>\n",
        "      <td> 0</td>\n",
        "    </tr>\n",
        "    <tr>\n",
        "      <th>9300</th>\n",
        "      <td>  #9913</td>\n",
        "      <td>               zeinriham@gmail.com</td>\n",
        "      <td>2015-11-24</td>\n",
        "      <td> 0</td>\n",
        "      <td> 0</td>\n",
        "    </tr>\n",
        "    <tr>\n",
        "      <th>9301</th>\n",
        "      <td>  #3256</td>\n",
        "      <td>           zenaabdelbaky@gmail.com</td>\n",
        "      <td>2014-05-16</td>\n",
        "      <td> 0</td>\n",
        "      <td> 0</td>\n",
        "    </tr>\n",
        "    <tr>\n",
        "      <th>9302</th>\n",
        "      <td>  #8332</td>\n",
        "      <td>           zenaabdelbaky@gmail.com</td>\n",
        "      <td>2015-07-28</td>\n",
        "      <td> 0</td>\n",
        "      <td> 0</td>\n",
        "    </tr>\n",
        "    <tr>\n",
        "      <th>9303</th>\n",
        "      <td>  #7359</td>\n",
        "      <td>            zeyadattalla@yahoo.com</td>\n",
        "      <td>2015-05-12</td>\n",
        "      <td> 0</td>\n",
        "      <td> 0</td>\n",
        "    </tr>\n",
        "    <tr>\n",
        "      <th>9304</th>\n",
        "      <td>  #6887</td>\n",
        "      <td>                ziadihab@gmail.com</td>\n",
        "      <td>2015-04-20</td>\n",
        "      <td> 0</td>\n",
        "      <td> 0</td>\n",
        "    </tr>\n",
        "    <tr>\n",
        "      <th>9305</th>\n",
        "      <td> #10091</td>\n",
        "      <td>               ziadusama@ymail.com</td>\n",
        "      <td>2015-12-05</td>\n",
        "      <td> 0</td>\n",
        "      <td> 0</td>\n",
        "    </tr>\n",
        "    <tr>\n",
        "      <th>9306</th>\n",
        "      <td>  #2548</td>\n",
        "      <td>               zinelhini@yahoo.com</td>\n",
        "      <td>2013-10-07</td>\n",
        "      <td> 0</td>\n",
        "      <td> 0</td>\n",
        "    </tr>\n",
        "    <tr>\n",
        "      <th>9307</th>\n",
        "      <td>  #1627</td>\n",
        "      <td>                zleseman@gmail.com</td>\n",
        "      <td>2013-02-09</td>\n",
        "      <td> 0</td>\n",
        "      <td> 0</td>\n",
        "    </tr>\n",
        "    <tr>\n",
        "      <th>9308</th>\n",
        "      <td>  #1964</td>\n",
        "      <td>                zleseman@gmail.com</td>\n",
        "      <td>2013-04-21</td>\n",
        "      <td> 0</td>\n",
        "      <td> 0</td>\n",
        "    </tr>\n",
        "    <tr>\n",
        "      <th>9309</th>\n",
        "      <td>  #4889</td>\n",
        "      <td>           zolaykha1st@hotmail.com</td>\n",
        "      <td>2014-12-13</td>\n",
        "      <td> 0</td>\n",
        "      <td> 0</td>\n",
        "    </tr>\n",
        "    <tr>\n",
        "      <th>9310</th>\n",
        "      <td>  #5026</td>\n",
        "      <td>               zshafei@outlook.com</td>\n",
        "      <td>2014-12-28</td>\n",
        "      <td> 0</td>\n",
        "      <td> 0</td>\n",
        "    </tr>\n",
        "    <tr>\n",
        "      <th>9311</th>\n",
        "      <td>  #5271</td>\n",
        "      <td>               zshafei@outlook.com</td>\n",
        "      <td>2015-01-20</td>\n",
        "      <td> 0</td>\n",
        "      <td> 0</td>\n",
        "    </tr>\n",
        "    <tr>\n",
        "      <th>9312</th>\n",
        "      <td> #5271A</td>\n",
        "      <td>               zshafei@outlook.com</td>\n",
        "      <td>2015-01-21</td>\n",
        "      <td> 0</td>\n",
        "      <td> 0</td>\n",
        "    </tr>\n",
        "    <tr>\n",
        "      <th>9313</th>\n",
        "      <td>  #9526</td>\n",
        "      <td>               zshafei@outlook.com</td>\n",
        "      <td>2015-11-02</td>\n",
        "      <td> 0</td>\n",
        "      <td> 0</td>\n",
        "    </tr>\n",
        "    <tr>\n",
        "      <th>9314</th>\n",
        "      <td>  #9534</td>\n",
        "      <td>               zshafei@outlook.com</td>\n",
        "      <td>2015-11-03</td>\n",
        "      <td> 0</td>\n",
        "      <td> 0</td>\n",
        "    </tr>\n",
        "    <tr>\n",
        "      <th>9315</th>\n",
        "      <td>  #9725</td>\n",
        "      <td>               zshafei@outlook.com</td>\n",
        "      <td>2015-11-15</td>\n",
        "      <td> 0</td>\n",
        "      <td> 0</td>\n",
        "    </tr>\n",
        "    <tr>\n",
        "      <th>9316</th>\n",
        "      <td> #10066</td>\n",
        "      <td>               zshafei@outlook.com</td>\n",
        "      <td>2015-12-03</td>\n",
        "      <td> 0</td>\n",
        "      <td> 0</td>\n",
        "    </tr>\n",
        "  </tbody>\n",
        "</table>\n",
        "<p>9317 rows \u00d7 5 columns</p>\n",
        "</div>"
       ],
       "metadata": {},
       "output_type": "pyout",
       "prompt_number": 4,
       "text": [
        "        Name                              Email       Date  Difference  \\\n",
        "0      #2121         11435mail@mkallenberger.de 2013-05-26           0   \n",
        "1      #5068                      1@gargour.com 2015-01-03           0   \n",
        "2      #6680                      1@gargour.com 2015-04-07           0   \n",
        "3      #8424                  1kttate@gmail.com 2015-08-09           0   \n",
        "4      #8467                  1kttate@gmail.com 2015-08-13           0   \n",
        "5      #8500                  1kttate@gmail.com 2015-08-17           0   \n",
        "6      #8652                  1kttate@gmail.com 2015-08-31           0   \n",
        "7      #4653          1youniqueflower@gmail.com 2014-11-20           0   \n",
        "8      #8677          1youniqueflower@gmail.com 2015-09-01           0   \n",
        "9     #10026          1youniqueflower@gmail.com 2015-11-30           0   \n",
        "10     #6197                 3aliaa.h@gmail.com 2015-03-13           0   \n",
        "11    #6197A                 3aliaa.h@gmail.com 2015-03-15           0   \n",
        "12     #6611                 3aliaa.h@gmail.com 2015-04-04           0   \n",
        "13     #9760           777nadiateirah@gmail.com 2015-11-16           0   \n",
        "14     #9848           777nadiateirah@gmail.com 2015-11-21           0   \n",
        "15     #8803                          A2@ed.com 2015-09-12           0   \n",
        "16     #1244            ASHRAF.M.ZAKI@GMAIL.COM 2012-10-05           0   \n",
        "17     #1033               Adhamada@hotmail.com 2012-07-09           0   \n",
        "18     #6621        Ahmed.Habash@moevenpick.com 2015-04-04           0   \n",
        "19     #8563  Ahmed.adel.abdelmonam@hotmail.com 2015-08-24           0   \n",
        "20     #4337            Aliamossallam@gmail.com 2014-10-19           0   \n",
        "21     #4342            Aliamossallam@gmail.com 2014-10-20           0   \n",
        "22     #4384            Aliamossallam@gmail.com 2014-10-24           0   \n",
        "23     #4383            Aliamossallam@gmail.com 2014-10-24           0   \n",
        "24     #4400            Aliamossallam@gmail.com 2014-10-26           0   \n",
        "25     #4690            Aliamossallam@gmail.com 2014-11-23           0   \n",
        "26     #4924            Aliamossallam@gmail.com 2014-12-15           0   \n",
        "27     #4917            Aliamossallam@gmail.com 2014-12-15           0   \n",
        "28     #5178            Aliamossallam@gmail.com 2015-01-12           0   \n",
        "29     #5534            Aliamossallam@gmail.com 2015-02-04           0   \n",
        "...      ...                                ...        ...         ...   \n",
        "9287   #8099       zeinabkhalil2010@hotmail.com 2015-06-24           0   \n",
        "9288   #4464               zeinabnour@gmail.com 2014-11-01           0   \n",
        "9289   #4467               zeinabnour@gmail.com 2014-11-02           0   \n",
        "9290  #6373A               zeinahodroj@live.com 2015-03-22           0   \n",
        "9291   #6373               zeinahodroj@live.com 2015-03-22           0   \n",
        "9292   #2480               zeinasabry@gmail.com 2013-09-20           0   \n",
        "9293   #2479               zeinasabry@gmail.com 2013-09-20           0   \n",
        "9294   #2598               zeinasabry@gmail.com 2013-10-23           0   \n",
        "9295   #2819               zeinasabry@gmail.com 2014-01-05           0   \n",
        "9296   #2826               zeinasabry@gmail.com 2014-01-06           0   \n",
        "9297   #2986               zeinasabry@gmail.com 2014-03-02           0   \n",
        "9298   #3328               zeinasabry@gmail.com 2014-05-28           0   \n",
        "9299   #8828                zeinriham@gmail.com 2015-09-14           0   \n",
        "9300   #9913                zeinriham@gmail.com 2015-11-24           0   \n",
        "9301   #3256            zenaabdelbaky@gmail.com 2014-05-16           0   \n",
        "9302   #8332            zenaabdelbaky@gmail.com 2015-07-28           0   \n",
        "9303   #7359             zeyadattalla@yahoo.com 2015-05-12           0   \n",
        "9304   #6887                 ziadihab@gmail.com 2015-04-20           0   \n",
        "9305  #10091                ziadusama@ymail.com 2015-12-05           0   \n",
        "9306   #2548                zinelhini@yahoo.com 2013-10-07           0   \n",
        "9307   #1627                 zleseman@gmail.com 2013-02-09           0   \n",
        "9308   #1964                 zleseman@gmail.com 2013-04-21           0   \n",
        "9309   #4889            zolaykha1st@hotmail.com 2014-12-13           0   \n",
        "9310   #5026                zshafei@outlook.com 2014-12-28           0   \n",
        "9311   #5271                zshafei@outlook.com 2015-01-20           0   \n",
        "9312  #5271A                zshafei@outlook.com 2015-01-21           0   \n",
        "9313   #9526                zshafei@outlook.com 2015-11-02           0   \n",
        "9314   #9534                zshafei@outlook.com 2015-11-03           0   \n",
        "9315   #9725                zshafei@outlook.com 2015-11-15           0   \n",
        "9316  #10066                zshafei@outlook.com 2015-12-03           0   \n",
        "\n",
        "      Total orders  \n",
        "0                0  \n",
        "1                0  \n",
        "2                0  \n",
        "3                0  \n",
        "4                0  \n",
        "5                0  \n",
        "6                0  \n",
        "7                0  \n",
        "8                0  \n",
        "9                0  \n",
        "10               0  \n",
        "11               0  \n",
        "12               0  \n",
        "13               0  \n",
        "14               0  \n",
        "15               0  \n",
        "16               0  \n",
        "17               0  \n",
        "18               0  \n",
        "19               0  \n",
        "20               0  \n",
        "21               0  \n",
        "22               0  \n",
        "23               0  \n",
        "24               0  \n",
        "25               0  \n",
        "26               0  \n",
        "27               0  \n",
        "28               0  \n",
        "29               0  \n",
        "...            ...  \n",
        "9287             0  \n",
        "9288             0  \n",
        "9289             0  \n",
        "9290             0  \n",
        "9291             0  \n",
        "9292             0  \n",
        "9293             0  \n",
        "9294             0  \n",
        "9295             0  \n",
        "9296             0  \n",
        "9297             0  \n",
        "9298             0  \n",
        "9299             0  \n",
        "9300             0  \n",
        "9301             0  \n",
        "9302             0  \n",
        "9303             0  \n",
        "9304             0  \n",
        "9305             0  \n",
        "9306             0  \n",
        "9307             0  \n",
        "9308             0  \n",
        "9309             0  \n",
        "9310             0  \n",
        "9311             0  \n",
        "9312             0  \n",
        "9313             0  \n",
        "9314             0  \n",
        "9315             0  \n",
        "9316             0  \n",
        "\n",
        "[9317 rows x 5 columns]"
       ]
      }
     ],
     "prompt_number": 4
    },
    {
     "cell_type": "code",
     "collapsed": false,
     "input": [
      "n = 1\n",
      "for i in range(0,max(df1.index)):\n",
      "    if(df1.iloc[i,1]==df1.iloc[i+1,1]):\n",
      "        n = n + 1 #count total orders\n",
      "        df1.iloc[i+1,3]=(df1.iloc[i+1,2]-df1.iloc[i,2]).days #count days between two orders\n",
      "        if (i == max(df1.index) - 1):\n",
      "            df1.iloc[i + 1,4] = n\n",
      "    else:\n",
      "        df1.iloc[i,4] = n\n",
      "        n = 1\n",
      "df1"
     ],
     "language": "python",
     "metadata": {},
     "outputs": [
      {
       "html": [
        "<div style=\"max-height:1000px;max-width:1500px;overflow:auto;\">\n",
        "<table border=\"1\" class=\"dataframe\">\n",
        "  <thead>\n",
        "    <tr style=\"text-align: right;\">\n",
        "      <th></th>\n",
        "      <th>Name</th>\n",
        "      <th>Email</th>\n",
        "      <th>Date</th>\n",
        "      <th>Difference</th>\n",
        "      <th>Total orders</th>\n",
        "    </tr>\n",
        "  </thead>\n",
        "  <tbody>\n",
        "    <tr>\n",
        "      <th>0   </th>\n",
        "      <td>  #2121</td>\n",
        "      <td>        11435mail@mkallenberger.de</td>\n",
        "      <td>2013-05-26</td>\n",
        "      <td>   0</td>\n",
        "      <td> 1</td>\n",
        "    </tr>\n",
        "    <tr>\n",
        "      <th>1   </th>\n",
        "      <td>  #5068</td>\n",
        "      <td>                     1@gargour.com</td>\n",
        "      <td>2015-01-03</td>\n",
        "      <td>   0</td>\n",
        "      <td> 0</td>\n",
        "    </tr>\n",
        "    <tr>\n",
        "      <th>2   </th>\n",
        "      <td>  #6680</td>\n",
        "      <td>                     1@gargour.com</td>\n",
        "      <td>2015-04-07</td>\n",
        "      <td>  94</td>\n",
        "      <td> 2</td>\n",
        "    </tr>\n",
        "    <tr>\n",
        "      <th>3   </th>\n",
        "      <td>  #8424</td>\n",
        "      <td>                 1kttate@gmail.com</td>\n",
        "      <td>2015-08-09</td>\n",
        "      <td>   0</td>\n",
        "      <td> 0</td>\n",
        "    </tr>\n",
        "    <tr>\n",
        "      <th>4   </th>\n",
        "      <td>  #8467</td>\n",
        "      <td>                 1kttate@gmail.com</td>\n",
        "      <td>2015-08-13</td>\n",
        "      <td>   4</td>\n",
        "      <td> 0</td>\n",
        "    </tr>\n",
        "    <tr>\n",
        "      <th>5   </th>\n",
        "      <td>  #8500</td>\n",
        "      <td>                 1kttate@gmail.com</td>\n",
        "      <td>2015-08-17</td>\n",
        "      <td>   4</td>\n",
        "      <td> 0</td>\n",
        "    </tr>\n",
        "    <tr>\n",
        "      <th>6   </th>\n",
        "      <td>  #8652</td>\n",
        "      <td>                 1kttate@gmail.com</td>\n",
        "      <td>2015-08-31</td>\n",
        "      <td>  14</td>\n",
        "      <td> 4</td>\n",
        "    </tr>\n",
        "    <tr>\n",
        "      <th>7   </th>\n",
        "      <td>  #4653</td>\n",
        "      <td>         1youniqueflower@gmail.com</td>\n",
        "      <td>2014-11-20</td>\n",
        "      <td>   0</td>\n",
        "      <td> 0</td>\n",
        "    </tr>\n",
        "    <tr>\n",
        "      <th>8   </th>\n",
        "      <td>  #8677</td>\n",
        "      <td>         1youniqueflower@gmail.com</td>\n",
        "      <td>2015-09-01</td>\n",
        "      <td> 285</td>\n",
        "      <td> 0</td>\n",
        "    </tr>\n",
        "    <tr>\n",
        "      <th>9   </th>\n",
        "      <td> #10026</td>\n",
        "      <td>         1youniqueflower@gmail.com</td>\n",
        "      <td>2015-11-30</td>\n",
        "      <td>  90</td>\n",
        "      <td> 3</td>\n",
        "    </tr>\n",
        "    <tr>\n",
        "      <th>10  </th>\n",
        "      <td>  #6197</td>\n",
        "      <td>                3aliaa.h@gmail.com</td>\n",
        "      <td>2015-03-13</td>\n",
        "      <td>   0</td>\n",
        "      <td> 0</td>\n",
        "    </tr>\n",
        "    <tr>\n",
        "      <th>11  </th>\n",
        "      <td> #6197A</td>\n",
        "      <td>                3aliaa.h@gmail.com</td>\n",
        "      <td>2015-03-15</td>\n",
        "      <td>   2</td>\n",
        "      <td> 0</td>\n",
        "    </tr>\n",
        "    <tr>\n",
        "      <th>12  </th>\n",
        "      <td>  #6611</td>\n",
        "      <td>                3aliaa.h@gmail.com</td>\n",
        "      <td>2015-04-04</td>\n",
        "      <td>  20</td>\n",
        "      <td> 3</td>\n",
        "    </tr>\n",
        "    <tr>\n",
        "      <th>13  </th>\n",
        "      <td>  #9760</td>\n",
        "      <td>          777nadiateirah@gmail.com</td>\n",
        "      <td>2015-11-16</td>\n",
        "      <td>   0</td>\n",
        "      <td> 0</td>\n",
        "    </tr>\n",
        "    <tr>\n",
        "      <th>14  </th>\n",
        "      <td>  #9848</td>\n",
        "      <td>          777nadiateirah@gmail.com</td>\n",
        "      <td>2015-11-21</td>\n",
        "      <td>   5</td>\n",
        "      <td> 2</td>\n",
        "    </tr>\n",
        "    <tr>\n",
        "      <th>15  </th>\n",
        "      <td>  #8803</td>\n",
        "      <td>                         A2@ed.com</td>\n",
        "      <td>2015-09-12</td>\n",
        "      <td>   0</td>\n",
        "      <td> 1</td>\n",
        "    </tr>\n",
        "    <tr>\n",
        "      <th>16  </th>\n",
        "      <td>  #1244</td>\n",
        "      <td>           ASHRAF.M.ZAKI@GMAIL.COM</td>\n",
        "      <td>2012-10-05</td>\n",
        "      <td>   0</td>\n",
        "      <td> 1</td>\n",
        "    </tr>\n",
        "    <tr>\n",
        "      <th>17  </th>\n",
        "      <td>  #1033</td>\n",
        "      <td>              Adhamada@hotmail.com</td>\n",
        "      <td>2012-07-09</td>\n",
        "      <td>   0</td>\n",
        "      <td> 1</td>\n",
        "    </tr>\n",
        "    <tr>\n",
        "      <th>18  </th>\n",
        "      <td>  #6621</td>\n",
        "      <td>       Ahmed.Habash@moevenpick.com</td>\n",
        "      <td>2015-04-04</td>\n",
        "      <td>   0</td>\n",
        "      <td> 1</td>\n",
        "    </tr>\n",
        "    <tr>\n",
        "      <th>19  </th>\n",
        "      <td>  #8563</td>\n",
        "      <td> Ahmed.adel.abdelmonam@hotmail.com</td>\n",
        "      <td>2015-08-24</td>\n",
        "      <td>   0</td>\n",
        "      <td> 1</td>\n",
        "    </tr>\n",
        "    <tr>\n",
        "      <th>20  </th>\n",
        "      <td>  #4337</td>\n",
        "      <td>           Aliamossallam@gmail.com</td>\n",
        "      <td>2014-10-19</td>\n",
        "      <td>   0</td>\n",
        "      <td> 0</td>\n",
        "    </tr>\n",
        "    <tr>\n",
        "      <th>21  </th>\n",
        "      <td>  #4342</td>\n",
        "      <td>           Aliamossallam@gmail.com</td>\n",
        "      <td>2014-10-20</td>\n",
        "      <td>   1</td>\n",
        "      <td> 0</td>\n",
        "    </tr>\n",
        "    <tr>\n",
        "      <th>22  </th>\n",
        "      <td>  #4384</td>\n",
        "      <td>           Aliamossallam@gmail.com</td>\n",
        "      <td>2014-10-24</td>\n",
        "      <td>   4</td>\n",
        "      <td> 0</td>\n",
        "    </tr>\n",
        "    <tr>\n",
        "      <th>23  </th>\n",
        "      <td>  #4383</td>\n",
        "      <td>           Aliamossallam@gmail.com</td>\n",
        "      <td>2014-10-24</td>\n",
        "      <td>   0</td>\n",
        "      <td> 0</td>\n",
        "    </tr>\n",
        "    <tr>\n",
        "      <th>24  </th>\n",
        "      <td>  #4400</td>\n",
        "      <td>           Aliamossallam@gmail.com</td>\n",
        "      <td>2014-10-26</td>\n",
        "      <td>   2</td>\n",
        "      <td> 0</td>\n",
        "    </tr>\n",
        "    <tr>\n",
        "      <th>25  </th>\n",
        "      <td>  #4690</td>\n",
        "      <td>           Aliamossallam@gmail.com</td>\n",
        "      <td>2014-11-23</td>\n",
        "      <td>  28</td>\n",
        "      <td> 0</td>\n",
        "    </tr>\n",
        "    <tr>\n",
        "      <th>26  </th>\n",
        "      <td>  #4924</td>\n",
        "      <td>           Aliamossallam@gmail.com</td>\n",
        "      <td>2014-12-15</td>\n",
        "      <td>  22</td>\n",
        "      <td> 0</td>\n",
        "    </tr>\n",
        "    <tr>\n",
        "      <th>27  </th>\n",
        "      <td>  #4917</td>\n",
        "      <td>           Aliamossallam@gmail.com</td>\n",
        "      <td>2014-12-15</td>\n",
        "      <td>   0</td>\n",
        "      <td> 0</td>\n",
        "    </tr>\n",
        "    <tr>\n",
        "      <th>28  </th>\n",
        "      <td>  #5178</td>\n",
        "      <td>           Aliamossallam@gmail.com</td>\n",
        "      <td>2015-01-12</td>\n",
        "      <td>  28</td>\n",
        "      <td> 0</td>\n",
        "    </tr>\n",
        "    <tr>\n",
        "      <th>29  </th>\n",
        "      <td>  #5534</td>\n",
        "      <td>           Aliamossallam@gmail.com</td>\n",
        "      <td>2015-02-04</td>\n",
        "      <td>  23</td>\n",
        "      <td> 0</td>\n",
        "    </tr>\n",
        "    <tr>\n",
        "      <th>...</th>\n",
        "      <td>...</td>\n",
        "      <td>...</td>\n",
        "      <td>...</td>\n",
        "      <td>...</td>\n",
        "      <td>...</td>\n",
        "    </tr>\n",
        "    <tr>\n",
        "      <th>9287</th>\n",
        "      <td>  #8099</td>\n",
        "      <td>      zeinabkhalil2010@hotmail.com</td>\n",
        "      <td>2015-06-24</td>\n",
        "      <td>  25</td>\n",
        "      <td> 3</td>\n",
        "    </tr>\n",
        "    <tr>\n",
        "      <th>9288</th>\n",
        "      <td>  #4464</td>\n",
        "      <td>              zeinabnour@gmail.com</td>\n",
        "      <td>2014-11-01</td>\n",
        "      <td>   0</td>\n",
        "      <td> 0</td>\n",
        "    </tr>\n",
        "    <tr>\n",
        "      <th>9289</th>\n",
        "      <td>  #4467</td>\n",
        "      <td>              zeinabnour@gmail.com</td>\n",
        "      <td>2014-11-02</td>\n",
        "      <td>   1</td>\n",
        "      <td> 2</td>\n",
        "    </tr>\n",
        "    <tr>\n",
        "      <th>9290</th>\n",
        "      <td> #6373A</td>\n",
        "      <td>              zeinahodroj@live.com</td>\n",
        "      <td>2015-03-22</td>\n",
        "      <td>   0</td>\n",
        "      <td> 0</td>\n",
        "    </tr>\n",
        "    <tr>\n",
        "      <th>9291</th>\n",
        "      <td>  #6373</td>\n",
        "      <td>              zeinahodroj@live.com</td>\n",
        "      <td>2015-03-22</td>\n",
        "      <td>   0</td>\n",
        "      <td> 2</td>\n",
        "    </tr>\n",
        "    <tr>\n",
        "      <th>9292</th>\n",
        "      <td>  #2480</td>\n",
        "      <td>              zeinasabry@gmail.com</td>\n",
        "      <td>2013-09-20</td>\n",
        "      <td>   0</td>\n",
        "      <td> 0</td>\n",
        "    </tr>\n",
        "    <tr>\n",
        "      <th>9293</th>\n",
        "      <td>  #2479</td>\n",
        "      <td>              zeinasabry@gmail.com</td>\n",
        "      <td>2013-09-20</td>\n",
        "      <td>   0</td>\n",
        "      <td> 0</td>\n",
        "    </tr>\n",
        "    <tr>\n",
        "      <th>9294</th>\n",
        "      <td>  #2598</td>\n",
        "      <td>              zeinasabry@gmail.com</td>\n",
        "      <td>2013-10-23</td>\n",
        "      <td>  33</td>\n",
        "      <td> 0</td>\n",
        "    </tr>\n",
        "    <tr>\n",
        "      <th>9295</th>\n",
        "      <td>  #2819</td>\n",
        "      <td>              zeinasabry@gmail.com</td>\n",
        "      <td>2014-01-05</td>\n",
        "      <td>  74</td>\n",
        "      <td> 0</td>\n",
        "    </tr>\n",
        "    <tr>\n",
        "      <th>9296</th>\n",
        "      <td>  #2826</td>\n",
        "      <td>              zeinasabry@gmail.com</td>\n",
        "      <td>2014-01-06</td>\n",
        "      <td>   1</td>\n",
        "      <td> 0</td>\n",
        "    </tr>\n",
        "    <tr>\n",
        "      <th>9297</th>\n",
        "      <td>  #2986</td>\n",
        "      <td>              zeinasabry@gmail.com</td>\n",
        "      <td>2014-03-02</td>\n",
        "      <td>  55</td>\n",
        "      <td> 0</td>\n",
        "    </tr>\n",
        "    <tr>\n",
        "      <th>9298</th>\n",
        "      <td>  #3328</td>\n",
        "      <td>              zeinasabry@gmail.com</td>\n",
        "      <td>2014-05-28</td>\n",
        "      <td>  87</td>\n",
        "      <td> 7</td>\n",
        "    </tr>\n",
        "    <tr>\n",
        "      <th>9299</th>\n",
        "      <td>  #8828</td>\n",
        "      <td>               zeinriham@gmail.com</td>\n",
        "      <td>2015-09-14</td>\n",
        "      <td>   0</td>\n",
        "      <td> 0</td>\n",
        "    </tr>\n",
        "    <tr>\n",
        "      <th>9300</th>\n",
        "      <td>  #9913</td>\n",
        "      <td>               zeinriham@gmail.com</td>\n",
        "      <td>2015-11-24</td>\n",
        "      <td>  71</td>\n",
        "      <td> 2</td>\n",
        "    </tr>\n",
        "    <tr>\n",
        "      <th>9301</th>\n",
        "      <td>  #3256</td>\n",
        "      <td>           zenaabdelbaky@gmail.com</td>\n",
        "      <td>2014-05-16</td>\n",
        "      <td>   0</td>\n",
        "      <td> 0</td>\n",
        "    </tr>\n",
        "    <tr>\n",
        "      <th>9302</th>\n",
        "      <td>  #8332</td>\n",
        "      <td>           zenaabdelbaky@gmail.com</td>\n",
        "      <td>2015-07-28</td>\n",
        "      <td> 438</td>\n",
        "      <td> 2</td>\n",
        "    </tr>\n",
        "    <tr>\n",
        "      <th>9303</th>\n",
        "      <td>  #7359</td>\n",
        "      <td>            zeyadattalla@yahoo.com</td>\n",
        "      <td>2015-05-12</td>\n",
        "      <td>   0</td>\n",
        "      <td> 1</td>\n",
        "    </tr>\n",
        "    <tr>\n",
        "      <th>9304</th>\n",
        "      <td>  #6887</td>\n",
        "      <td>                ziadihab@gmail.com</td>\n",
        "      <td>2015-04-20</td>\n",
        "      <td>   0</td>\n",
        "      <td> 1</td>\n",
        "    </tr>\n",
        "    <tr>\n",
        "      <th>9305</th>\n",
        "      <td> #10091</td>\n",
        "      <td>               ziadusama@ymail.com</td>\n",
        "      <td>2015-12-05</td>\n",
        "      <td>   0</td>\n",
        "      <td> 1</td>\n",
        "    </tr>\n",
        "    <tr>\n",
        "      <th>9306</th>\n",
        "      <td>  #2548</td>\n",
        "      <td>               zinelhini@yahoo.com</td>\n",
        "      <td>2013-10-07</td>\n",
        "      <td>   0</td>\n",
        "      <td> 1</td>\n",
        "    </tr>\n",
        "    <tr>\n",
        "      <th>9307</th>\n",
        "      <td>  #1627</td>\n",
        "      <td>                zleseman@gmail.com</td>\n",
        "      <td>2013-02-09</td>\n",
        "      <td>   0</td>\n",
        "      <td> 0</td>\n",
        "    </tr>\n",
        "    <tr>\n",
        "      <th>9308</th>\n",
        "      <td>  #1964</td>\n",
        "      <td>                zleseman@gmail.com</td>\n",
        "      <td>2013-04-21</td>\n",
        "      <td>  71</td>\n",
        "      <td> 2</td>\n",
        "    </tr>\n",
        "    <tr>\n",
        "      <th>9309</th>\n",
        "      <td>  #4889</td>\n",
        "      <td>           zolaykha1st@hotmail.com</td>\n",
        "      <td>2014-12-13</td>\n",
        "      <td>   0</td>\n",
        "      <td> 1</td>\n",
        "    </tr>\n",
        "    <tr>\n",
        "      <th>9310</th>\n",
        "      <td>  #5026</td>\n",
        "      <td>               zshafei@outlook.com</td>\n",
        "      <td>2014-12-28</td>\n",
        "      <td>   0</td>\n",
        "      <td> 0</td>\n",
        "    </tr>\n",
        "    <tr>\n",
        "      <th>9311</th>\n",
        "      <td>  #5271</td>\n",
        "      <td>               zshafei@outlook.com</td>\n",
        "      <td>2015-01-20</td>\n",
        "      <td>  23</td>\n",
        "      <td> 0</td>\n",
        "    </tr>\n",
        "    <tr>\n",
        "      <th>9312</th>\n",
        "      <td> #5271A</td>\n",
        "      <td>               zshafei@outlook.com</td>\n",
        "      <td>2015-01-21</td>\n",
        "      <td>   1</td>\n",
        "      <td> 0</td>\n",
        "    </tr>\n",
        "    <tr>\n",
        "      <th>9313</th>\n",
        "      <td>  #9526</td>\n",
        "      <td>               zshafei@outlook.com</td>\n",
        "      <td>2015-11-02</td>\n",
        "      <td> 285</td>\n",
        "      <td> 0</td>\n",
        "    </tr>\n",
        "    <tr>\n",
        "      <th>9314</th>\n",
        "      <td>  #9534</td>\n",
        "      <td>               zshafei@outlook.com</td>\n",
        "      <td>2015-11-03</td>\n",
        "      <td>   1</td>\n",
        "      <td> 0</td>\n",
        "    </tr>\n",
        "    <tr>\n",
        "      <th>9315</th>\n",
        "      <td>  #9725</td>\n",
        "      <td>               zshafei@outlook.com</td>\n",
        "      <td>2015-11-15</td>\n",
        "      <td>  12</td>\n",
        "      <td> 0</td>\n",
        "    </tr>\n",
        "    <tr>\n",
        "      <th>9316</th>\n",
        "      <td> #10066</td>\n",
        "      <td>               zshafei@outlook.com</td>\n",
        "      <td>2015-12-03</td>\n",
        "      <td>  18</td>\n",
        "      <td> 7</td>\n",
        "    </tr>\n",
        "  </tbody>\n",
        "</table>\n",
        "<p>9317 rows \u00d7 5 columns</p>\n",
        "</div>"
       ],
       "metadata": {},
       "output_type": "pyout",
       "prompt_number": 5,
       "text": [
        "        Name                              Email       Date  Difference  \\\n",
        "0      #2121         11435mail@mkallenberger.de 2013-05-26           0   \n",
        "1      #5068                      1@gargour.com 2015-01-03           0   \n",
        "2      #6680                      1@gargour.com 2015-04-07          94   \n",
        "3      #8424                  1kttate@gmail.com 2015-08-09           0   \n",
        "4      #8467                  1kttate@gmail.com 2015-08-13           4   \n",
        "5      #8500                  1kttate@gmail.com 2015-08-17           4   \n",
        "6      #8652                  1kttate@gmail.com 2015-08-31          14   \n",
        "7      #4653          1youniqueflower@gmail.com 2014-11-20           0   \n",
        "8      #8677          1youniqueflower@gmail.com 2015-09-01         285   \n",
        "9     #10026          1youniqueflower@gmail.com 2015-11-30          90   \n",
        "10     #6197                 3aliaa.h@gmail.com 2015-03-13           0   \n",
        "11    #6197A                 3aliaa.h@gmail.com 2015-03-15           2   \n",
        "12     #6611                 3aliaa.h@gmail.com 2015-04-04          20   \n",
        "13     #9760           777nadiateirah@gmail.com 2015-11-16           0   \n",
        "14     #9848           777nadiateirah@gmail.com 2015-11-21           5   \n",
        "15     #8803                          A2@ed.com 2015-09-12           0   \n",
        "16     #1244            ASHRAF.M.ZAKI@GMAIL.COM 2012-10-05           0   \n",
        "17     #1033               Adhamada@hotmail.com 2012-07-09           0   \n",
        "18     #6621        Ahmed.Habash@moevenpick.com 2015-04-04           0   \n",
        "19     #8563  Ahmed.adel.abdelmonam@hotmail.com 2015-08-24           0   \n",
        "20     #4337            Aliamossallam@gmail.com 2014-10-19           0   \n",
        "21     #4342            Aliamossallam@gmail.com 2014-10-20           1   \n",
        "22     #4384            Aliamossallam@gmail.com 2014-10-24           4   \n",
        "23     #4383            Aliamossallam@gmail.com 2014-10-24           0   \n",
        "24     #4400            Aliamossallam@gmail.com 2014-10-26           2   \n",
        "25     #4690            Aliamossallam@gmail.com 2014-11-23          28   \n",
        "26     #4924            Aliamossallam@gmail.com 2014-12-15          22   \n",
        "27     #4917            Aliamossallam@gmail.com 2014-12-15           0   \n",
        "28     #5178            Aliamossallam@gmail.com 2015-01-12          28   \n",
        "29     #5534            Aliamossallam@gmail.com 2015-02-04          23   \n",
        "...      ...                                ...        ...         ...   \n",
        "9287   #8099       zeinabkhalil2010@hotmail.com 2015-06-24          25   \n",
        "9288   #4464               zeinabnour@gmail.com 2014-11-01           0   \n",
        "9289   #4467               zeinabnour@gmail.com 2014-11-02           1   \n",
        "9290  #6373A               zeinahodroj@live.com 2015-03-22           0   \n",
        "9291   #6373               zeinahodroj@live.com 2015-03-22           0   \n",
        "9292   #2480               zeinasabry@gmail.com 2013-09-20           0   \n",
        "9293   #2479               zeinasabry@gmail.com 2013-09-20           0   \n",
        "9294   #2598               zeinasabry@gmail.com 2013-10-23          33   \n",
        "9295   #2819               zeinasabry@gmail.com 2014-01-05          74   \n",
        "9296   #2826               zeinasabry@gmail.com 2014-01-06           1   \n",
        "9297   #2986               zeinasabry@gmail.com 2014-03-02          55   \n",
        "9298   #3328               zeinasabry@gmail.com 2014-05-28          87   \n",
        "9299   #8828                zeinriham@gmail.com 2015-09-14           0   \n",
        "9300   #9913                zeinriham@gmail.com 2015-11-24          71   \n",
        "9301   #3256            zenaabdelbaky@gmail.com 2014-05-16           0   \n",
        "9302   #8332            zenaabdelbaky@gmail.com 2015-07-28         438   \n",
        "9303   #7359             zeyadattalla@yahoo.com 2015-05-12           0   \n",
        "9304   #6887                 ziadihab@gmail.com 2015-04-20           0   \n",
        "9305  #10091                ziadusama@ymail.com 2015-12-05           0   \n",
        "9306   #2548                zinelhini@yahoo.com 2013-10-07           0   \n",
        "9307   #1627                 zleseman@gmail.com 2013-02-09           0   \n",
        "9308   #1964                 zleseman@gmail.com 2013-04-21          71   \n",
        "9309   #4889            zolaykha1st@hotmail.com 2014-12-13           0   \n",
        "9310   #5026                zshafei@outlook.com 2014-12-28           0   \n",
        "9311   #5271                zshafei@outlook.com 2015-01-20          23   \n",
        "9312  #5271A                zshafei@outlook.com 2015-01-21           1   \n",
        "9313   #9526                zshafei@outlook.com 2015-11-02         285   \n",
        "9314   #9534                zshafei@outlook.com 2015-11-03           1   \n",
        "9315   #9725                zshafei@outlook.com 2015-11-15          12   \n",
        "9316  #10066                zshafei@outlook.com 2015-12-03          18   \n",
        "\n",
        "      Total orders  \n",
        "0                1  \n",
        "1                0  \n",
        "2                2  \n",
        "3                0  \n",
        "4                0  \n",
        "5                0  \n",
        "6                4  \n",
        "7                0  \n",
        "8                0  \n",
        "9                3  \n",
        "10               0  \n",
        "11               0  \n",
        "12               3  \n",
        "13               0  \n",
        "14               2  \n",
        "15               1  \n",
        "16               1  \n",
        "17               1  \n",
        "18               1  \n",
        "19               1  \n",
        "20               0  \n",
        "21               0  \n",
        "22               0  \n",
        "23               0  \n",
        "24               0  \n",
        "25               0  \n",
        "26               0  \n",
        "27               0  \n",
        "28               0  \n",
        "29               0  \n",
        "...            ...  \n",
        "9287             3  \n",
        "9288             0  \n",
        "9289             2  \n",
        "9290             0  \n",
        "9291             2  \n",
        "9292             0  \n",
        "9293             0  \n",
        "9294             0  \n",
        "9295             0  \n",
        "9296             0  \n",
        "9297             0  \n",
        "9298             7  \n",
        "9299             0  \n",
        "9300             2  \n",
        "9301             0  \n",
        "9302             2  \n",
        "9303             1  \n",
        "9304             1  \n",
        "9305             1  \n",
        "9306             1  \n",
        "9307             0  \n",
        "9308             2  \n",
        "9309             1  \n",
        "9310             0  \n",
        "9311             0  \n",
        "9312             0  \n",
        "9313             0  \n",
        "9314             0  \n",
        "9315             0  \n",
        "9316             7  \n",
        "\n",
        "[9317 rows x 5 columns]"
       ]
      }
     ],
     "prompt_number": 5
    },
    {
     "cell_type": "code",
     "collapsed": false,
     "input": [
      "#calculate total orders, days between orders for each customer\n",
      "df1 = df1.groupby('Email', axis=0, as_index=False).sum()\n",
      "df1"
     ],
     "language": "python",
     "metadata": {},
     "outputs": [
      {
       "html": [
        "<div style=\"max-height:1000px;max-width:1500px;overflow:auto;\">\n",
        "<table border=\"1\" class=\"dataframe\">\n",
        "  <thead>\n",
        "    <tr style=\"text-align: right;\">\n",
        "      <th></th>\n",
        "      <th>Email</th>\n",
        "      <th>Difference</th>\n",
        "      <th>Total orders</th>\n",
        "    </tr>\n",
        "  </thead>\n",
        "  <tbody>\n",
        "    <tr>\n",
        "      <th>0   </th>\n",
        "      <td>        11435mail@mkallenberger.de</td>\n",
        "      <td>    0</td>\n",
        "      <td>  1</td>\n",
        "    </tr>\n",
        "    <tr>\n",
        "      <th>1   </th>\n",
        "      <td>                     1@gargour.com</td>\n",
        "      <td>   94</td>\n",
        "      <td>  2</td>\n",
        "    </tr>\n",
        "    <tr>\n",
        "      <th>2   </th>\n",
        "      <td>                 1kttate@gmail.com</td>\n",
        "      <td>   22</td>\n",
        "      <td>  4</td>\n",
        "    </tr>\n",
        "    <tr>\n",
        "      <th>3   </th>\n",
        "      <td>         1youniqueflower@gmail.com</td>\n",
        "      <td>  375</td>\n",
        "      <td>  3</td>\n",
        "    </tr>\n",
        "    <tr>\n",
        "      <th>4   </th>\n",
        "      <td>                3aliaa.h@gmail.com</td>\n",
        "      <td>   22</td>\n",
        "      <td>  3</td>\n",
        "    </tr>\n",
        "    <tr>\n",
        "      <th>5   </th>\n",
        "      <td>          777nadiateirah@gmail.com</td>\n",
        "      <td>    5</td>\n",
        "      <td>  2</td>\n",
        "    </tr>\n",
        "    <tr>\n",
        "      <th>6   </th>\n",
        "      <td>                         A2@ed.com</td>\n",
        "      <td>    0</td>\n",
        "      <td>  1</td>\n",
        "    </tr>\n",
        "    <tr>\n",
        "      <th>7   </th>\n",
        "      <td>           ASHRAF.M.ZAKI@GMAIL.COM</td>\n",
        "      <td>    0</td>\n",
        "      <td>  1</td>\n",
        "    </tr>\n",
        "    <tr>\n",
        "      <th>8   </th>\n",
        "      <td>              Adhamada@hotmail.com</td>\n",
        "      <td>    0</td>\n",
        "      <td>  1</td>\n",
        "    </tr>\n",
        "    <tr>\n",
        "      <th>9   </th>\n",
        "      <td>       Ahmed.Habash@moevenpick.com</td>\n",
        "      <td>    0</td>\n",
        "      <td>  1</td>\n",
        "    </tr>\n",
        "    <tr>\n",
        "      <th>10  </th>\n",
        "      <td> Ahmed.adel.abdelmonam@hotmail.com</td>\n",
        "      <td>    0</td>\n",
        "      <td>  1</td>\n",
        "    </tr>\n",
        "    <tr>\n",
        "      <th>11  </th>\n",
        "      <td>           Aliamossallam@gmail.com</td>\n",
        "      <td>  421</td>\n",
        "      <td> 23</td>\n",
        "    </tr>\n",
        "    <tr>\n",
        "      <th>12  </th>\n",
        "      <td>       Andrea.Heilman@aucegypt.edu</td>\n",
        "      <td>   11</td>\n",
        "      <td>  4</td>\n",
        "    </tr>\n",
        "    <tr>\n",
        "      <th>13  </th>\n",
        "      <td>           Asmaa.ahmed@hotmail.com</td>\n",
        "      <td>   16</td>\n",
        "      <td>  4</td>\n",
        "    </tr>\n",
        "    <tr>\n",
        "      <th>14  </th>\n",
        "      <td>            Attia.nevien@gmail.com</td>\n",
        "      <td>    2</td>\n",
        "      <td>  3</td>\n",
        "    </tr>\n",
        "    <tr>\n",
        "      <th>15  </th>\n",
        "      <td>             Ayatheone@hotmail.com</td>\n",
        "      <td>    0</td>\n",
        "      <td>  1</td>\n",
        "    </tr>\n",
        "    <tr>\n",
        "      <th>16  </th>\n",
        "      <td>             Azzassallam@gmail.com</td>\n",
        "      <td>    0</td>\n",
        "      <td>  1</td>\n",
        "    </tr>\n",
        "    <tr>\n",
        "      <th>17  </th>\n",
        "      <td>                 BAGBOUG@yahoo.com</td>\n",
        "      <td>    0</td>\n",
        "      <td>  1</td>\n",
        "    </tr>\n",
        "    <tr>\n",
        "      <th>18  </th>\n",
        "      <td>                 Bakryna@gmail.com</td>\n",
        "      <td>    0</td>\n",
        "      <td>  1</td>\n",
        "    </tr>\n",
        "    <tr>\n",
        "      <th>19  </th>\n",
        "      <td>           Basmaha2010@hotmail.com</td>\n",
        "      <td>    0</td>\n",
        "      <td>  1</td>\n",
        "    </tr>\n",
        "    <tr>\n",
        "      <th>20  </th>\n",
        "      <td>                  Bebi84@gmail.com</td>\n",
        "      <td>   21</td>\n",
        "      <td>  3</td>\n",
        "    </tr>\n",
        "    <tr>\n",
        "      <th>21  </th>\n",
        "      <td>                  Biro5s@yahoo.com</td>\n",
        "      <td>    0</td>\n",
        "      <td>  1</td>\n",
        "    </tr>\n",
        "    <tr>\n",
        "      <th>22  </th>\n",
        "      <td>       Bouchra_erraiss@hotmail.com</td>\n",
        "      <td>    0</td>\n",
        "      <td>  1</td>\n",
        "    </tr>\n",
        "    <tr>\n",
        "      <th>23  </th>\n",
        "      <td>                 Bunny_Chan@web.de</td>\n",
        "      <td>  266</td>\n",
        "      <td>  3</td>\n",
        "    </tr>\n",
        "    <tr>\n",
        "      <th>24  </th>\n",
        "      <td>            Buty_Heart@hotmail.com</td>\n",
        "      <td>    0</td>\n",
        "      <td>  1</td>\n",
        "    </tr>\n",
        "    <tr>\n",
        "      <th>25  </th>\n",
        "      <td>       Camillia.Marmoush@gmail.com</td>\n",
        "      <td>   14</td>\n",
        "      <td>  5</td>\n",
        "    </tr>\n",
        "    <tr>\n",
        "      <th>26  </th>\n",
        "      <td>           Carinesabbagh@gmail.com</td>\n",
        "      <td> 1020</td>\n",
        "      <td> 37</td>\n",
        "    </tr>\n",
        "    <tr>\n",
        "      <th>27  </th>\n",
        "      <td>             Christine@baramki.com</td>\n",
        "      <td>    7</td>\n",
        "      <td>  2</td>\n",
        "    </tr>\n",
        "    <tr>\n",
        "      <th>28  </th>\n",
        "      <td>              DINA_KADRY@YAHOO.COM</td>\n",
        "      <td>    0</td>\n",
        "      <td>  1</td>\n",
        "    </tr>\n",
        "    <tr>\n",
        "      <th>29  </th>\n",
        "      <td>              Daiieldeeb@gmail.com</td>\n",
        "      <td>    0</td>\n",
        "      <td>  1</td>\n",
        "    </tr>\n",
        "    <tr>\n",
        "      <th>...</th>\n",
        "      <td>...</td>\n",
        "      <td>...</td>\n",
        "      <td>...</td>\n",
        "    </tr>\n",
        "    <tr>\n",
        "      <th>2379</th>\n",
        "      <td>              youssefkhalil@me.com</td>\n",
        "      <td>  299</td>\n",
        "      <td>  3</td>\n",
        "    </tr>\n",
        "    <tr>\n",
        "      <th>2380</th>\n",
        "      <td>          youssra.resaie@gmail.com</td>\n",
        "      <td>    0</td>\n",
        "      <td>  1</td>\n",
        "    </tr>\n",
        "    <tr>\n",
        "      <th>2381</th>\n",
        "      <td>                 youssra@gmail.com</td>\n",
        "      <td>    0</td>\n",
        "      <td>  1</td>\n",
        "    </tr>\n",
        "    <tr>\n",
        "      <th>2382</th>\n",
        "      <td>           youssra_kamal@yahoo.com</td>\n",
        "      <td>   64</td>\n",
        "      <td>  3</td>\n",
        "    </tr>\n",
        "    <tr>\n",
        "      <th>2383</th>\n",
        "      <td>         youssraaashmawi@gmail.com</td>\n",
        "      <td>    0</td>\n",
        "      <td>  1</td>\n",
        "    </tr>\n",
        "    <tr>\n",
        "      <th>2384</th>\n",
        "      <td>           yoyothetricky@gmail.com</td>\n",
        "      <td>   10</td>\n",
        "      <td>  2</td>\n",
        "    </tr>\n",
        "    <tr>\n",
        "      <th>2385</th>\n",
        "      <td>               yrelraheb@gmail.com</td>\n",
        "      <td>    0</td>\n",
        "      <td>  1</td>\n",
        "    </tr>\n",
        "    <tr>\n",
        "      <th>2386</th>\n",
        "      <td>               yulbiba@hotmail.com</td>\n",
        "      <td>   63</td>\n",
        "      <td>  4</td>\n",
        "    </tr>\n",
        "    <tr>\n",
        "      <th>2387</th>\n",
        "      <td>             yumnakassim@gmail.com</td>\n",
        "      <td>  299</td>\n",
        "      <td>  2</td>\n",
        "    </tr>\n",
        "    <tr>\n",
        "      <th>2388</th>\n",
        "      <td>              z72addas@hotmail.com</td>\n",
        "      <td>    0</td>\n",
        "      <td>  1</td>\n",
        "    </tr>\n",
        "    <tr>\n",
        "      <th>2389</th>\n",
        "      <td>             zaki.farida@gmail.com</td>\n",
        "      <td>  157</td>\n",
        "      <td>  5</td>\n",
        "    </tr>\n",
        "    <tr>\n",
        "      <th>2390</th>\n",
        "      <td>               zedesem65@gmail.com</td>\n",
        "      <td>    0</td>\n",
        "      <td>  1</td>\n",
        "    </tr>\n",
        "    <tr>\n",
        "      <th>2391</th>\n",
        "      <td>                 zee.nap@gmail.com</td>\n",
        "      <td>    0</td>\n",
        "      <td>  1</td>\n",
        "    </tr>\n",
        "    <tr>\n",
        "      <th>2392</th>\n",
        "      <td>            zeina.kassas@gmail.com</td>\n",
        "      <td>  331</td>\n",
        "      <td>  6</td>\n",
        "    </tr>\n",
        "    <tr>\n",
        "      <th>2393</th>\n",
        "      <td>         zeina_ahmed95@hotmail.com</td>\n",
        "      <td>    0</td>\n",
        "      <td>  1</td>\n",
        "    </tr>\n",
        "    <tr>\n",
        "      <th>2394</th>\n",
        "      <td>            zeina_naim@hotmail.com</td>\n",
        "      <td>    0</td>\n",
        "      <td>  1</td>\n",
        "    </tr>\n",
        "    <tr>\n",
        "      <th>2395</th>\n",
        "      <td>         zeinabahmedtaha@yahoo.com</td>\n",
        "      <td>    0</td>\n",
        "      <td>  1</td>\n",
        "    </tr>\n",
        "    <tr>\n",
        "      <th>2396</th>\n",
        "      <td>      zeinabkhalil2010@hotmail.com</td>\n",
        "      <td>   25</td>\n",
        "      <td>  3</td>\n",
        "    </tr>\n",
        "    <tr>\n",
        "      <th>2397</th>\n",
        "      <td>              zeinabnour@gmail.com</td>\n",
        "      <td>    1</td>\n",
        "      <td>  2</td>\n",
        "    </tr>\n",
        "    <tr>\n",
        "      <th>2398</th>\n",
        "      <td>              zeinahodroj@live.com</td>\n",
        "      <td>    0</td>\n",
        "      <td>  2</td>\n",
        "    </tr>\n",
        "    <tr>\n",
        "      <th>2399</th>\n",
        "      <td>              zeinasabry@gmail.com</td>\n",
        "      <td>  250</td>\n",
        "      <td>  7</td>\n",
        "    </tr>\n",
        "    <tr>\n",
        "      <th>2400</th>\n",
        "      <td>               zeinriham@gmail.com</td>\n",
        "      <td>   71</td>\n",
        "      <td>  2</td>\n",
        "    </tr>\n",
        "    <tr>\n",
        "      <th>2401</th>\n",
        "      <td>           zenaabdelbaky@gmail.com</td>\n",
        "      <td>  438</td>\n",
        "      <td>  2</td>\n",
        "    </tr>\n",
        "    <tr>\n",
        "      <th>2402</th>\n",
        "      <td>            zeyadattalla@yahoo.com</td>\n",
        "      <td>    0</td>\n",
        "      <td>  1</td>\n",
        "    </tr>\n",
        "    <tr>\n",
        "      <th>2403</th>\n",
        "      <td>                ziadihab@gmail.com</td>\n",
        "      <td>    0</td>\n",
        "      <td>  1</td>\n",
        "    </tr>\n",
        "    <tr>\n",
        "      <th>2404</th>\n",
        "      <td>               ziadusama@ymail.com</td>\n",
        "      <td>    0</td>\n",
        "      <td>  1</td>\n",
        "    </tr>\n",
        "    <tr>\n",
        "      <th>2405</th>\n",
        "      <td>               zinelhini@yahoo.com</td>\n",
        "      <td>    0</td>\n",
        "      <td>  1</td>\n",
        "    </tr>\n",
        "    <tr>\n",
        "      <th>2406</th>\n",
        "      <td>                zleseman@gmail.com</td>\n",
        "      <td>   71</td>\n",
        "      <td>  2</td>\n",
        "    </tr>\n",
        "    <tr>\n",
        "      <th>2407</th>\n",
        "      <td>           zolaykha1st@hotmail.com</td>\n",
        "      <td>    0</td>\n",
        "      <td>  1</td>\n",
        "    </tr>\n",
        "    <tr>\n",
        "      <th>2408</th>\n",
        "      <td>               zshafei@outlook.com</td>\n",
        "      <td>  340</td>\n",
        "      <td>  7</td>\n",
        "    </tr>\n",
        "  </tbody>\n",
        "</table>\n",
        "<p>2409 rows \u00d7 3 columns</p>\n",
        "</div>"
       ],
       "metadata": {},
       "output_type": "pyout",
       "prompt_number": 6,
       "text": [
        "                                  Email  Difference  Total orders\n",
        "0            11435mail@mkallenberger.de           0             1\n",
        "1                         1@gargour.com          94             2\n",
        "2                     1kttate@gmail.com          22             4\n",
        "3             1youniqueflower@gmail.com         375             3\n",
        "4                    3aliaa.h@gmail.com          22             3\n",
        "5              777nadiateirah@gmail.com           5             2\n",
        "6                             A2@ed.com           0             1\n",
        "7               ASHRAF.M.ZAKI@GMAIL.COM           0             1\n",
        "8                  Adhamada@hotmail.com           0             1\n",
        "9           Ahmed.Habash@moevenpick.com           0             1\n",
        "10    Ahmed.adel.abdelmonam@hotmail.com           0             1\n",
        "11              Aliamossallam@gmail.com         421            23\n",
        "12          Andrea.Heilman@aucegypt.edu          11             4\n",
        "13              Asmaa.ahmed@hotmail.com          16             4\n",
        "14               Attia.nevien@gmail.com           2             3\n",
        "15                Ayatheone@hotmail.com           0             1\n",
        "16                Azzassallam@gmail.com           0             1\n",
        "17                    BAGBOUG@yahoo.com           0             1\n",
        "18                    Bakryna@gmail.com           0             1\n",
        "19              Basmaha2010@hotmail.com           0             1\n",
        "20                     Bebi84@gmail.com          21             3\n",
        "21                     Biro5s@yahoo.com           0             1\n",
        "22          Bouchra_erraiss@hotmail.com           0             1\n",
        "23                    Bunny_Chan@web.de         266             3\n",
        "24               Buty_Heart@hotmail.com           0             1\n",
        "25          Camillia.Marmoush@gmail.com          14             5\n",
        "26              Carinesabbagh@gmail.com        1020            37\n",
        "27                Christine@baramki.com           7             2\n",
        "28                 DINA_KADRY@YAHOO.COM           0             1\n",
        "29                 Daiieldeeb@gmail.com           0             1\n",
        "...                                 ...         ...           ...\n",
        "2379               youssefkhalil@me.com         299             3\n",
        "2380           youssra.resaie@gmail.com           0             1\n",
        "2381                  youssra@gmail.com           0             1\n",
        "2382            youssra_kamal@yahoo.com          64             3\n",
        "2383          youssraaashmawi@gmail.com           0             1\n",
        "2384            yoyothetricky@gmail.com          10             2\n",
        "2385                yrelraheb@gmail.com           0             1\n",
        "2386                yulbiba@hotmail.com          63             4\n",
        "2387              yumnakassim@gmail.com         299             2\n",
        "2388               z72addas@hotmail.com           0             1\n",
        "2389              zaki.farida@gmail.com         157             5\n",
        "2390                zedesem65@gmail.com           0             1\n",
        "2391                  zee.nap@gmail.com           0             1\n",
        "2392             zeina.kassas@gmail.com         331             6\n",
        "2393          zeina_ahmed95@hotmail.com           0             1\n",
        "2394             zeina_naim@hotmail.com           0             1\n",
        "2395          zeinabahmedtaha@yahoo.com           0             1\n",
        "2396       zeinabkhalil2010@hotmail.com          25             3\n",
        "2397               zeinabnour@gmail.com           1             2\n",
        "2398               zeinahodroj@live.com           0             2\n",
        "2399               zeinasabry@gmail.com         250             7\n",
        "2400                zeinriham@gmail.com          71             2\n",
        "2401            zenaabdelbaky@gmail.com         438             2\n",
        "2402             zeyadattalla@yahoo.com           0             1\n",
        "2403                 ziadihab@gmail.com           0             1\n",
        "2404                ziadusama@ymail.com           0             1\n",
        "2405                zinelhini@yahoo.com           0             1\n",
        "2406                 zleseman@gmail.com          71             2\n",
        "2407            zolaykha1st@hotmail.com           0             1\n",
        "2408                zshafei@outlook.com         340             7\n",
        "\n",
        "[2409 rows x 3 columns]"
       ]
      }
     ],
     "prompt_number": 6
    },
    {
     "cell_type": "code",
     "collapsed": false,
     "input": [
      "#calculate average days between orders\n",
      "df1['Average days between orders'] = df1.apply(lambda x: x['Difference']/float(x['Total orders']), axis = 1)\n",
      "df2 = df1[['Email', 'Total orders', 'Average days between orders']]\n",
      "df2"
     ],
     "language": "python",
     "metadata": {},
     "outputs": [
      {
       "html": [
        "<div style=\"max-height:1000px;max-width:1500px;overflow:auto;\">\n",
        "<table border=\"1\" class=\"dataframe\">\n",
        "  <thead>\n",
        "    <tr style=\"text-align: right;\">\n",
        "      <th></th>\n",
        "      <th>Email</th>\n",
        "      <th>Total orders</th>\n",
        "      <th>Average days between orders</th>\n",
        "    </tr>\n",
        "  </thead>\n",
        "  <tbody>\n",
        "    <tr>\n",
        "      <th>0   </th>\n",
        "      <td>        11435mail@mkallenberger.de</td>\n",
        "      <td>  1</td>\n",
        "      <td>   0.000000</td>\n",
        "    </tr>\n",
        "    <tr>\n",
        "      <th>1   </th>\n",
        "      <td>                     1@gargour.com</td>\n",
        "      <td>  2</td>\n",
        "      <td>  47.000000</td>\n",
        "    </tr>\n",
        "    <tr>\n",
        "      <th>2   </th>\n",
        "      <td>                 1kttate@gmail.com</td>\n",
        "      <td>  4</td>\n",
        "      <td>   5.500000</td>\n",
        "    </tr>\n",
        "    <tr>\n",
        "      <th>3   </th>\n",
        "      <td>         1youniqueflower@gmail.com</td>\n",
        "      <td>  3</td>\n",
        "      <td> 125.000000</td>\n",
        "    </tr>\n",
        "    <tr>\n",
        "      <th>4   </th>\n",
        "      <td>                3aliaa.h@gmail.com</td>\n",
        "      <td>  3</td>\n",
        "      <td>   7.333333</td>\n",
        "    </tr>\n",
        "    <tr>\n",
        "      <th>5   </th>\n",
        "      <td>          777nadiateirah@gmail.com</td>\n",
        "      <td>  2</td>\n",
        "      <td>   2.500000</td>\n",
        "    </tr>\n",
        "    <tr>\n",
        "      <th>6   </th>\n",
        "      <td>                         A2@ed.com</td>\n",
        "      <td>  1</td>\n",
        "      <td>   0.000000</td>\n",
        "    </tr>\n",
        "    <tr>\n",
        "      <th>7   </th>\n",
        "      <td>           ASHRAF.M.ZAKI@GMAIL.COM</td>\n",
        "      <td>  1</td>\n",
        "      <td>   0.000000</td>\n",
        "    </tr>\n",
        "    <tr>\n",
        "      <th>8   </th>\n",
        "      <td>              Adhamada@hotmail.com</td>\n",
        "      <td>  1</td>\n",
        "      <td>   0.000000</td>\n",
        "    </tr>\n",
        "    <tr>\n",
        "      <th>9   </th>\n",
        "      <td>       Ahmed.Habash@moevenpick.com</td>\n",
        "      <td>  1</td>\n",
        "      <td>   0.000000</td>\n",
        "    </tr>\n",
        "    <tr>\n",
        "      <th>10  </th>\n",
        "      <td> Ahmed.adel.abdelmonam@hotmail.com</td>\n",
        "      <td>  1</td>\n",
        "      <td>   0.000000</td>\n",
        "    </tr>\n",
        "    <tr>\n",
        "      <th>11  </th>\n",
        "      <td>           Aliamossallam@gmail.com</td>\n",
        "      <td> 23</td>\n",
        "      <td>  18.304348</td>\n",
        "    </tr>\n",
        "    <tr>\n",
        "      <th>12  </th>\n",
        "      <td>       Andrea.Heilman@aucegypt.edu</td>\n",
        "      <td>  4</td>\n",
        "      <td>   2.750000</td>\n",
        "    </tr>\n",
        "    <tr>\n",
        "      <th>13  </th>\n",
        "      <td>           Asmaa.ahmed@hotmail.com</td>\n",
        "      <td>  4</td>\n",
        "      <td>   4.000000</td>\n",
        "    </tr>\n",
        "    <tr>\n",
        "      <th>14  </th>\n",
        "      <td>            Attia.nevien@gmail.com</td>\n",
        "      <td>  3</td>\n",
        "      <td>   0.666667</td>\n",
        "    </tr>\n",
        "    <tr>\n",
        "      <th>15  </th>\n",
        "      <td>             Ayatheone@hotmail.com</td>\n",
        "      <td>  1</td>\n",
        "      <td>   0.000000</td>\n",
        "    </tr>\n",
        "    <tr>\n",
        "      <th>16  </th>\n",
        "      <td>             Azzassallam@gmail.com</td>\n",
        "      <td>  1</td>\n",
        "      <td>   0.000000</td>\n",
        "    </tr>\n",
        "    <tr>\n",
        "      <th>17  </th>\n",
        "      <td>                 BAGBOUG@yahoo.com</td>\n",
        "      <td>  1</td>\n",
        "      <td>   0.000000</td>\n",
        "    </tr>\n",
        "    <tr>\n",
        "      <th>18  </th>\n",
        "      <td>                 Bakryna@gmail.com</td>\n",
        "      <td>  1</td>\n",
        "      <td>   0.000000</td>\n",
        "    </tr>\n",
        "    <tr>\n",
        "      <th>19  </th>\n",
        "      <td>           Basmaha2010@hotmail.com</td>\n",
        "      <td>  1</td>\n",
        "      <td>   0.000000</td>\n",
        "    </tr>\n",
        "    <tr>\n",
        "      <th>20  </th>\n",
        "      <td>                  Bebi84@gmail.com</td>\n",
        "      <td>  3</td>\n",
        "      <td>   7.000000</td>\n",
        "    </tr>\n",
        "    <tr>\n",
        "      <th>21  </th>\n",
        "      <td>                  Biro5s@yahoo.com</td>\n",
        "      <td>  1</td>\n",
        "      <td>   0.000000</td>\n",
        "    </tr>\n",
        "    <tr>\n",
        "      <th>22  </th>\n",
        "      <td>       Bouchra_erraiss@hotmail.com</td>\n",
        "      <td>  1</td>\n",
        "      <td>   0.000000</td>\n",
        "    </tr>\n",
        "    <tr>\n",
        "      <th>23  </th>\n",
        "      <td>                 Bunny_Chan@web.de</td>\n",
        "      <td>  3</td>\n",
        "      <td>  88.666667</td>\n",
        "    </tr>\n",
        "    <tr>\n",
        "      <th>24  </th>\n",
        "      <td>            Buty_Heart@hotmail.com</td>\n",
        "      <td>  1</td>\n",
        "      <td>   0.000000</td>\n",
        "    </tr>\n",
        "    <tr>\n",
        "      <th>25  </th>\n",
        "      <td>       Camillia.Marmoush@gmail.com</td>\n",
        "      <td>  5</td>\n",
        "      <td>   2.800000</td>\n",
        "    </tr>\n",
        "    <tr>\n",
        "      <th>26  </th>\n",
        "      <td>           Carinesabbagh@gmail.com</td>\n",
        "      <td> 37</td>\n",
        "      <td>  27.567568</td>\n",
        "    </tr>\n",
        "    <tr>\n",
        "      <th>27  </th>\n",
        "      <td>             Christine@baramki.com</td>\n",
        "      <td>  2</td>\n",
        "      <td>   3.500000</td>\n",
        "    </tr>\n",
        "    <tr>\n",
        "      <th>28  </th>\n",
        "      <td>              DINA_KADRY@YAHOO.COM</td>\n",
        "      <td>  1</td>\n",
        "      <td>   0.000000</td>\n",
        "    </tr>\n",
        "    <tr>\n",
        "      <th>29  </th>\n",
        "      <td>              Daiieldeeb@gmail.com</td>\n",
        "      <td>  1</td>\n",
        "      <td>   0.000000</td>\n",
        "    </tr>\n",
        "    <tr>\n",
        "      <th>...</th>\n",
        "      <td>...</td>\n",
        "      <td>...</td>\n",
        "      <td>...</td>\n",
        "    </tr>\n",
        "    <tr>\n",
        "      <th>2379</th>\n",
        "      <td>              youssefkhalil@me.com</td>\n",
        "      <td>  3</td>\n",
        "      <td>  99.666667</td>\n",
        "    </tr>\n",
        "    <tr>\n",
        "      <th>2380</th>\n",
        "      <td>          youssra.resaie@gmail.com</td>\n",
        "      <td>  1</td>\n",
        "      <td>   0.000000</td>\n",
        "    </tr>\n",
        "    <tr>\n",
        "      <th>2381</th>\n",
        "      <td>                 youssra@gmail.com</td>\n",
        "      <td>  1</td>\n",
        "      <td>   0.000000</td>\n",
        "    </tr>\n",
        "    <tr>\n",
        "      <th>2382</th>\n",
        "      <td>           youssra_kamal@yahoo.com</td>\n",
        "      <td>  3</td>\n",
        "      <td>  21.333333</td>\n",
        "    </tr>\n",
        "    <tr>\n",
        "      <th>2383</th>\n",
        "      <td>         youssraaashmawi@gmail.com</td>\n",
        "      <td>  1</td>\n",
        "      <td>   0.000000</td>\n",
        "    </tr>\n",
        "    <tr>\n",
        "      <th>2384</th>\n",
        "      <td>           yoyothetricky@gmail.com</td>\n",
        "      <td>  2</td>\n",
        "      <td>   5.000000</td>\n",
        "    </tr>\n",
        "    <tr>\n",
        "      <th>2385</th>\n",
        "      <td>               yrelraheb@gmail.com</td>\n",
        "      <td>  1</td>\n",
        "      <td>   0.000000</td>\n",
        "    </tr>\n",
        "    <tr>\n",
        "      <th>2386</th>\n",
        "      <td>               yulbiba@hotmail.com</td>\n",
        "      <td>  4</td>\n",
        "      <td>  15.750000</td>\n",
        "    </tr>\n",
        "    <tr>\n",
        "      <th>2387</th>\n",
        "      <td>             yumnakassim@gmail.com</td>\n",
        "      <td>  2</td>\n",
        "      <td> 149.500000</td>\n",
        "    </tr>\n",
        "    <tr>\n",
        "      <th>2388</th>\n",
        "      <td>              z72addas@hotmail.com</td>\n",
        "      <td>  1</td>\n",
        "      <td>   0.000000</td>\n",
        "    </tr>\n",
        "    <tr>\n",
        "      <th>2389</th>\n",
        "      <td>             zaki.farida@gmail.com</td>\n",
        "      <td>  5</td>\n",
        "      <td>  31.400000</td>\n",
        "    </tr>\n",
        "    <tr>\n",
        "      <th>2390</th>\n",
        "      <td>               zedesem65@gmail.com</td>\n",
        "      <td>  1</td>\n",
        "      <td>   0.000000</td>\n",
        "    </tr>\n",
        "    <tr>\n",
        "      <th>2391</th>\n",
        "      <td>                 zee.nap@gmail.com</td>\n",
        "      <td>  1</td>\n",
        "      <td>   0.000000</td>\n",
        "    </tr>\n",
        "    <tr>\n",
        "      <th>2392</th>\n",
        "      <td>            zeina.kassas@gmail.com</td>\n",
        "      <td>  6</td>\n",
        "      <td>  55.166667</td>\n",
        "    </tr>\n",
        "    <tr>\n",
        "      <th>2393</th>\n",
        "      <td>         zeina_ahmed95@hotmail.com</td>\n",
        "      <td>  1</td>\n",
        "      <td>   0.000000</td>\n",
        "    </tr>\n",
        "    <tr>\n",
        "      <th>2394</th>\n",
        "      <td>            zeina_naim@hotmail.com</td>\n",
        "      <td>  1</td>\n",
        "      <td>   0.000000</td>\n",
        "    </tr>\n",
        "    <tr>\n",
        "      <th>2395</th>\n",
        "      <td>         zeinabahmedtaha@yahoo.com</td>\n",
        "      <td>  1</td>\n",
        "      <td>   0.000000</td>\n",
        "    </tr>\n",
        "    <tr>\n",
        "      <th>2396</th>\n",
        "      <td>      zeinabkhalil2010@hotmail.com</td>\n",
        "      <td>  3</td>\n",
        "      <td>   8.333333</td>\n",
        "    </tr>\n",
        "    <tr>\n",
        "      <th>2397</th>\n",
        "      <td>              zeinabnour@gmail.com</td>\n",
        "      <td>  2</td>\n",
        "      <td>   0.500000</td>\n",
        "    </tr>\n",
        "    <tr>\n",
        "      <th>2398</th>\n",
        "      <td>              zeinahodroj@live.com</td>\n",
        "      <td>  2</td>\n",
        "      <td>   0.000000</td>\n",
        "    </tr>\n",
        "    <tr>\n",
        "      <th>2399</th>\n",
        "      <td>              zeinasabry@gmail.com</td>\n",
        "      <td>  7</td>\n",
        "      <td>  35.714286</td>\n",
        "    </tr>\n",
        "    <tr>\n",
        "      <th>2400</th>\n",
        "      <td>               zeinriham@gmail.com</td>\n",
        "      <td>  2</td>\n",
        "      <td>  35.500000</td>\n",
        "    </tr>\n",
        "    <tr>\n",
        "      <th>2401</th>\n",
        "      <td>           zenaabdelbaky@gmail.com</td>\n",
        "      <td>  2</td>\n",
        "      <td> 219.000000</td>\n",
        "    </tr>\n",
        "    <tr>\n",
        "      <th>2402</th>\n",
        "      <td>            zeyadattalla@yahoo.com</td>\n",
        "      <td>  1</td>\n",
        "      <td>   0.000000</td>\n",
        "    </tr>\n",
        "    <tr>\n",
        "      <th>2403</th>\n",
        "      <td>                ziadihab@gmail.com</td>\n",
        "      <td>  1</td>\n",
        "      <td>   0.000000</td>\n",
        "    </tr>\n",
        "    <tr>\n",
        "      <th>2404</th>\n",
        "      <td>               ziadusama@ymail.com</td>\n",
        "      <td>  1</td>\n",
        "      <td>   0.000000</td>\n",
        "    </tr>\n",
        "    <tr>\n",
        "      <th>2405</th>\n",
        "      <td>               zinelhini@yahoo.com</td>\n",
        "      <td>  1</td>\n",
        "      <td>   0.000000</td>\n",
        "    </tr>\n",
        "    <tr>\n",
        "      <th>2406</th>\n",
        "      <td>                zleseman@gmail.com</td>\n",
        "      <td>  2</td>\n",
        "      <td>  35.500000</td>\n",
        "    </tr>\n",
        "    <tr>\n",
        "      <th>2407</th>\n",
        "      <td>           zolaykha1st@hotmail.com</td>\n",
        "      <td>  1</td>\n",
        "      <td>   0.000000</td>\n",
        "    </tr>\n",
        "    <tr>\n",
        "      <th>2408</th>\n",
        "      <td>               zshafei@outlook.com</td>\n",
        "      <td>  7</td>\n",
        "      <td>  48.571429</td>\n",
        "    </tr>\n",
        "  </tbody>\n",
        "</table>\n",
        "<p>2409 rows \u00d7 3 columns</p>\n",
        "</div>"
       ],
       "metadata": {},
       "output_type": "pyout",
       "prompt_number": 7,
       "text": [
        "                                  Email  Total orders  \\\n",
        "0            11435mail@mkallenberger.de             1   \n",
        "1                         1@gargour.com             2   \n",
        "2                     1kttate@gmail.com             4   \n",
        "3             1youniqueflower@gmail.com             3   \n",
        "4                    3aliaa.h@gmail.com             3   \n",
        "5              777nadiateirah@gmail.com             2   \n",
        "6                             A2@ed.com             1   \n",
        "7               ASHRAF.M.ZAKI@GMAIL.COM             1   \n",
        "8                  Adhamada@hotmail.com             1   \n",
        "9           Ahmed.Habash@moevenpick.com             1   \n",
        "10    Ahmed.adel.abdelmonam@hotmail.com             1   \n",
        "11              Aliamossallam@gmail.com            23   \n",
        "12          Andrea.Heilman@aucegypt.edu             4   \n",
        "13              Asmaa.ahmed@hotmail.com             4   \n",
        "14               Attia.nevien@gmail.com             3   \n",
        "15                Ayatheone@hotmail.com             1   \n",
        "16                Azzassallam@gmail.com             1   \n",
        "17                    BAGBOUG@yahoo.com             1   \n",
        "18                    Bakryna@gmail.com             1   \n",
        "19              Basmaha2010@hotmail.com             1   \n",
        "20                     Bebi84@gmail.com             3   \n",
        "21                     Biro5s@yahoo.com             1   \n",
        "22          Bouchra_erraiss@hotmail.com             1   \n",
        "23                    Bunny_Chan@web.de             3   \n",
        "24               Buty_Heart@hotmail.com             1   \n",
        "25          Camillia.Marmoush@gmail.com             5   \n",
        "26              Carinesabbagh@gmail.com            37   \n",
        "27                Christine@baramki.com             2   \n",
        "28                 DINA_KADRY@YAHOO.COM             1   \n",
        "29                 Daiieldeeb@gmail.com             1   \n",
        "...                                 ...           ...   \n",
        "2379               youssefkhalil@me.com             3   \n",
        "2380           youssra.resaie@gmail.com             1   \n",
        "2381                  youssra@gmail.com             1   \n",
        "2382            youssra_kamal@yahoo.com             3   \n",
        "2383          youssraaashmawi@gmail.com             1   \n",
        "2384            yoyothetricky@gmail.com             2   \n",
        "2385                yrelraheb@gmail.com             1   \n",
        "2386                yulbiba@hotmail.com             4   \n",
        "2387              yumnakassim@gmail.com             2   \n",
        "2388               z72addas@hotmail.com             1   \n",
        "2389              zaki.farida@gmail.com             5   \n",
        "2390                zedesem65@gmail.com             1   \n",
        "2391                  zee.nap@gmail.com             1   \n",
        "2392             zeina.kassas@gmail.com             6   \n",
        "2393          zeina_ahmed95@hotmail.com             1   \n",
        "2394             zeina_naim@hotmail.com             1   \n",
        "2395          zeinabahmedtaha@yahoo.com             1   \n",
        "2396       zeinabkhalil2010@hotmail.com             3   \n",
        "2397               zeinabnour@gmail.com             2   \n",
        "2398               zeinahodroj@live.com             2   \n",
        "2399               zeinasabry@gmail.com             7   \n",
        "2400                zeinriham@gmail.com             2   \n",
        "2401            zenaabdelbaky@gmail.com             2   \n",
        "2402             zeyadattalla@yahoo.com             1   \n",
        "2403                 ziadihab@gmail.com             1   \n",
        "2404                ziadusama@ymail.com             1   \n",
        "2405                zinelhini@yahoo.com             1   \n",
        "2406                 zleseman@gmail.com             2   \n",
        "2407            zolaykha1st@hotmail.com             1   \n",
        "2408                zshafei@outlook.com             7   \n",
        "\n",
        "      Average days between orders  \n",
        "0                        0.000000  \n",
        "1                       47.000000  \n",
        "2                        5.500000  \n",
        "3                      125.000000  \n",
        "4                        7.333333  \n",
        "5                        2.500000  \n",
        "6                        0.000000  \n",
        "7                        0.000000  \n",
        "8                        0.000000  \n",
        "9                        0.000000  \n",
        "10                       0.000000  \n",
        "11                      18.304348  \n",
        "12                       2.750000  \n",
        "13                       4.000000  \n",
        "14                       0.666667  \n",
        "15                       0.000000  \n",
        "16                       0.000000  \n",
        "17                       0.000000  \n",
        "18                       0.000000  \n",
        "19                       0.000000  \n",
        "20                       7.000000  \n",
        "21                       0.000000  \n",
        "22                       0.000000  \n",
        "23                      88.666667  \n",
        "24                       0.000000  \n",
        "25                       2.800000  \n",
        "26                      27.567568  \n",
        "27                       3.500000  \n",
        "28                       0.000000  \n",
        "29                       0.000000  \n",
        "...                           ...  \n",
        "2379                    99.666667  \n",
        "2380                     0.000000  \n",
        "2381                     0.000000  \n",
        "2382                    21.333333  \n",
        "2383                     0.000000  \n",
        "2384                     5.000000  \n",
        "2385                     0.000000  \n",
        "2386                    15.750000  \n",
        "2387                   149.500000  \n",
        "2388                     0.000000  \n",
        "2389                    31.400000  \n",
        "2390                     0.000000  \n",
        "2391                     0.000000  \n",
        "2392                    55.166667  \n",
        "2393                     0.000000  \n",
        "2394                     0.000000  \n",
        "2395                     0.000000  \n",
        "2396                     8.333333  \n",
        "2397                     0.500000  \n",
        "2398                     0.000000  \n",
        "2399                    35.714286  \n",
        "2400                    35.500000  \n",
        "2401                   219.000000  \n",
        "2402                     0.000000  \n",
        "2403                     0.000000  \n",
        "2404                     0.000000  \n",
        "2405                     0.000000  \n",
        "2406                    35.500000  \n",
        "2407                     0.000000  \n",
        "2408                    48.571429  \n",
        "\n",
        "[2409 rows x 3 columns]"
       ]
      }
     ],
     "prompt_number": 7
    },
    {
     "cell_type": "code",
     "collapsed": false,
     "input": [],
     "language": "python",
     "metadata": {},
     "outputs": []
    }
   ],
   "metadata": {}
  }
 ]
}
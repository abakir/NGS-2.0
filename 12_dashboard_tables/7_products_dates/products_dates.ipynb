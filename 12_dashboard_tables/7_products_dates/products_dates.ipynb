{
 "metadata": {
  "name": "",
  "signature": "sha256:1b8a9f5ef6293c8f2650c75ed7f4f8e11694393a334eb9ab78baf38cfc7c4dff"
 },
 "nbformat": 3,
 "nbformat_minor": 0,
 "worksheets": [
  {
   "cells": [
    {
     "cell_type": "code",
     "collapsed": false,
     "input": [
      "import pandas as pd\n",
      "from datetime import datetime\n",
      "#import yaml\n",
      "\n",
      "#with open(\"config.yaml\", 'r') as ymlfile:\n",
      "#        cfg = yaml.load(ymlfile)\n",
      "\n",
      "#df = pd.read_csv(cfg['root']+cfg['dir_data_vend']+cfg[\"ip_total_revenue_prod\"])\n",
      "df = pd.read_csv(\"C:\\Users\\saisree849\\Documents\\GitHub\\NGS-2.0\\\\12_dashboard_tables\\data_input\\\\vend\\\\vend-total_revenue-for-product_variant-by-month.csv\")\n",
      "df"
     ],
     "language": "python",
     "metadata": {},
     "outputs": [
      {
       "html": [
        "<div style=\"max-height:1000px;max-width:1500px;overflow:auto;\">\n",
        "<table border=\"1\" class=\"dataframe\">\n",
        "  <thead>\n",
        "    <tr style=\"text-align: right;\">\n",
        "      <th></th>\n",
        "      <th>Product</th>\n",
        "      <th>SKU</th>\n",
        "      <th>Supplier Code</th>\n",
        "      <th>Brand</th>\n",
        "      <th>Supplier</th>\n",
        "      <th>Type</th>\n",
        "      <th>Tag</th>\n",
        "      <th>May 2012</th>\n",
        "      <th>Jun 2012</th>\n",
        "      <th>Jul 2012</th>\n",
        "      <th>...</th>\n",
        "      <th>Aug 2015</th>\n",
        "      <th>Sep 2015</th>\n",
        "      <th>Oct 2015</th>\n",
        "      <th>Nov 2015</th>\n",
        "      <th>Dec 2015</th>\n",
        "      <th>Revenue</th>\n",
        "      <th>Cost of Goods</th>\n",
        "      <th>Gross Profit</th>\n",
        "      <th>Margin</th>\n",
        "      <th>Tax</th>\n",
        "    </tr>\n",
        "  </thead>\n",
        "  <tbody>\n",
        "    <tr>\n",
        "      <th>0   </th>\n",
        "      <td>                 Quinoa ( white ) - organic / 454g</td>\n",
        "      <td>                           106900</td>\n",
        "      <td>NaN</td>\n",
        "      <td> Eden Foods, Inc.</td>\n",
        "      <td>                Hv</td>\n",
        "      <td>               Grains</td>\n",
        "      <td>                                               NaN</td>\n",
        "      <td>    0.000000</td>\n",
        "      <td>    0.000000</td>\n",
        "      <td>     0.00000</td>\n",
        "      <td>...</td>\n",
        "      <td>      0.000000</td>\n",
        "      <td>      0.000000</td>\n",
        "      <td>      0.000000</td>\n",
        "      <td>      0.000000</td>\n",
        "      <td>      0.000000</td>\n",
        "      <td> 62300.960000</td>\n",
        "      <td> 51333.7400</td>\n",
        "      <td> 10967.220000</td>\n",
        "      <td> 0.176036</td>\n",
        "      <td>  0</td>\n",
        "    </tr>\n",
        "    <tr>\n",
        "      <th>1   </th>\n",
        "      <td>                             Chicken Breasts / 1kg</td>\n",
        "      <td>                   ChickenBreasts</td>\n",
        "      <td>NaN</td>\n",
        "      <td>              NGS</td>\n",
        "      <td>             Shahd</td>\n",
        "      <td>        Fresh poultry</td>\n",
        "      <td>                                               NaN</td>\n",
        "      <td>    0.000000</td>\n",
        "      <td>    0.000000</td>\n",
        "      <td>     0.00000</td>\n",
        "      <td>...</td>\n",
        "      <td>      0.000000</td>\n",
        "      <td>      0.000000</td>\n",
        "      <td>      0.000000</td>\n",
        "      <td>      0.000000</td>\n",
        "      <td>      0.000000</td>\n",
        "      <td> 59336.960000</td>\n",
        "      <td> 45182.0000</td>\n",
        "      <td> 14154.960000</td>\n",
        "      <td> 0.238552</td>\n",
        "      <td>  0</td>\n",
        "    </tr>\n",
        "    <tr>\n",
        "      <th>2   </th>\n",
        "      <td>            Chicken breast - Hormone free (frozen)</td>\n",
        "      <td>                            80001</td>\n",
        "      <td>NaN</td>\n",
        "      <td>              NGS</td>\n",
        "      <td>             Shahd</td>\n",
        "      <td>              Poultry</td>\n",
        "      <td>                                            Frozen</td>\n",
        "      <td>    0.000000</td>\n",
        "      <td>    0.000000</td>\n",
        "      <td>     0.00000</td>\n",
        "      <td>...</td>\n",
        "      <td>   4686.945289</td>\n",
        "      <td>   5240.381685</td>\n",
        "      <td>   7792.745465</td>\n",
        "      <td>   7767.317151</td>\n",
        "      <td>   7137.251022</td>\n",
        "      <td> 49308.067962</td>\n",
        "      <td> 35058.6400</td>\n",
        "      <td> 14249.427962</td>\n",
        "      <td> 0.288988</td>\n",
        "      <td>  0</td>\n",
        "    </tr>\n",
        "    <tr>\n",
        "      <th>3   </th>\n",
        "      <td>               Coconut oil (organic) - for cooking</td>\n",
        "      <td>                           101001</td>\n",
        "      <td>NaN</td>\n",
        "      <td>              NaN</td>\n",
        "      <td>    Divine coconut</td>\n",
        "      <td>                  Oil</td>\n",
        "      <td>                      Super food, Weight loss, Oil</td>\n",
        "      <td>    0.000000</td>\n",
        "      <td>    0.000000</td>\n",
        "      <td>     0.00000</td>\n",
        "      <td>...</td>\n",
        "      <td>   4417.800000</td>\n",
        "      <td>   3537.665409</td>\n",
        "      <td>   4277.338577</td>\n",
        "      <td>   8850.907080</td>\n",
        "      <td>   4732.163715</td>\n",
        "      <td> 41089.779935</td>\n",
        "      <td> 31472.0000</td>\n",
        "      <td>  9617.779935</td>\n",
        "      <td> 0.234067</td>\n",
        "      <td>  0</td>\n",
        "    </tr>\n",
        "    <tr>\n",
        "      <th>4   </th>\n",
        "      <td>                               Whole Chicken / 1kg</td>\n",
        "      <td>                     WholeChicken</td>\n",
        "      <td>NaN</td>\n",
        "      <td>              NGS</td>\n",
        "      <td>             Shahd</td>\n",
        "      <td>        Fresh poultry</td>\n",
        "      <td>                                               NaN</td>\n",
        "      <td>    0.000000</td>\n",
        "      <td>    0.000000</td>\n",
        "      <td>     0.00000</td>\n",
        "      <td>...</td>\n",
        "      <td>      0.000000</td>\n",
        "      <td>      0.000000</td>\n",
        "      <td>      0.000000</td>\n",
        "      <td>      0.000000</td>\n",
        "      <td>      0.000000</td>\n",
        "      <td> 40680.500000</td>\n",
        "      <td> 31340.3000</td>\n",
        "      <td>  9340.200000</td>\n",
        "      <td> 0.229599</td>\n",
        "      <td>  0</td>\n",
        "    </tr>\n",
        "    <tr>\n",
        "      <th>5   </th>\n",
        "      <td>                                 Beef Fillet / 1kg</td>\n",
        "      <td>                       BeefFillet</td>\n",
        "      <td>NaN</td>\n",
        "      <td>              NGS</td>\n",
        "      <td>             Shahd</td>\n",
        "      <td>           Fresh beef</td>\n",
        "      <td>                                               NaN</td>\n",
        "      <td>    0.000000</td>\n",
        "      <td>    0.000000</td>\n",
        "      <td>     0.00000</td>\n",
        "      <td>...</td>\n",
        "      <td>      0.000000</td>\n",
        "      <td>      0.000000</td>\n",
        "      <td>      0.000000</td>\n",
        "      <td>      0.000000</td>\n",
        "      <td>      0.000000</td>\n",
        "      <td> 25178.217820</td>\n",
        "      <td> 17442.5000</td>\n",
        "      <td>  7735.717820</td>\n",
        "      <td> 0.307238</td>\n",
        "      <td>  0</td>\n",
        "    </tr>\n",
        "    <tr>\n",
        "      <th>6   </th>\n",
        "      <td>                               Beef fillet (whole)</td>\n",
        "      <td>                           151017</td>\n",
        "      <td>NaN</td>\n",
        "      <td>              NGS</td>\n",
        "      <td>         El rancho</td>\n",
        "      <td>                 Beef</td>\n",
        "      <td>                                         Wholesale</td>\n",
        "      <td>    0.000000</td>\n",
        "      <td>    0.000000</td>\n",
        "      <td>     0.00000</td>\n",
        "      <td>...</td>\n",
        "      <td>      0.000000</td>\n",
        "      <td>      0.000000</td>\n",
        "      <td>      0.000000</td>\n",
        "      <td>      0.000000</td>\n",
        "      <td>      0.000000</td>\n",
        "      <td> 23672.175800</td>\n",
        "      <td> 20129.1750</td>\n",
        "      <td>  3543.000800</td>\n",
        "      <td> 0.149669</td>\n",
        "      <td>  0</td>\n",
        "    </tr>\n",
        "    <tr>\n",
        "      <th>7   </th>\n",
        "      <td>             Whole chicken - Hormone free (frozen)</td>\n",
        "      <td>                            80005</td>\n",
        "      <td>NaN</td>\n",
        "      <td>              NGS</td>\n",
        "      <td>             Shahd</td>\n",
        "      <td>              Poultry</td>\n",
        "      <td>                                            Frozen</td>\n",
        "      <td>    0.000000</td>\n",
        "      <td>    0.000000</td>\n",
        "      <td>     0.00000</td>\n",
        "      <td>...</td>\n",
        "      <td>   1620.000000</td>\n",
        "      <td>   1980.000000</td>\n",
        "      <td>   4080.421348</td>\n",
        "      <td>   2629.084098</td>\n",
        "      <td>   2763.917338</td>\n",
        "      <td> 23442.922784</td>\n",
        "      <td> 16012.0300</td>\n",
        "      <td>  7430.892784</td>\n",
        "      <td> 0.316978</td>\n",
        "      <td>  0</td>\n",
        "    </tr>\n",
        "    <tr>\n",
        "      <th>8   </th>\n",
        "      <td>      Beef mince - no fat (chemical free) - frozen</td>\n",
        "      <td>                           151006</td>\n",
        "      <td>NaN</td>\n",
        "      <td>              NGS</td>\n",
        "      <td>         El rancho</td>\n",
        "      <td>                 Beef</td>\n",
        "      <td>                       Frozen, Chemical free, Beef</td>\n",
        "      <td>    0.000000</td>\n",
        "      <td>    0.000000</td>\n",
        "      <td>     0.00000</td>\n",
        "      <td>...</td>\n",
        "      <td>   3038.000000</td>\n",
        "      <td>   1550.000000</td>\n",
        "      <td>    973.594969</td>\n",
        "      <td>   2503.863746</td>\n",
        "      <td>   2558.649903</td>\n",
        "      <td> 22389.239270</td>\n",
        "      <td> 15856.7200</td>\n",
        "      <td>  6532.519270</td>\n",
        "      <td> 0.291770</td>\n",
        "      <td>  0</td>\n",
        "    </tr>\n",
        "    <tr>\n",
        "      <th>9   </th>\n",
        "      <td>               Coconut oil (organic) - for cooking</td>\n",
        "      <td>     Coconutoilorganic-forcooking</td>\n",
        "      <td>NaN</td>\n",
        "      <td>   Divine coconut</td>\n",
        "      <td>    Divine coconut</td>\n",
        "      <td>                  Oil</td>\n",
        "      <td>                                               NaN</td>\n",
        "      <td>    0.000000</td>\n",
        "      <td>    0.000000</td>\n",
        "      <td>     0.00000</td>\n",
        "      <td>...</td>\n",
        "      <td>      0.000000</td>\n",
        "      <td>      0.000000</td>\n",
        "      <td>      0.000000</td>\n",
        "      <td>      0.000000</td>\n",
        "      <td>      0.000000</td>\n",
        "      <td> 20635.000000</td>\n",
        "      <td> 15696.2500</td>\n",
        "      <td>  4938.750000</td>\n",
        "      <td> 0.239339</td>\n",
        "      <td>  0</td>\n",
        "    </tr>\n",
        "    <tr>\n",
        "      <th>10  </th>\n",
        "      <td>                             Salmon steak (frozen)</td>\n",
        "      <td>                           451001</td>\n",
        "      <td>NaN</td>\n",
        "      <td>              NaN</td>\n",
        "      <td>         Red Coral</td>\n",
        "      <td>             Sea Food</td>\n",
        "      <td>                                            Frozen</td>\n",
        "      <td>    0.000000</td>\n",
        "      <td>    0.000000</td>\n",
        "      <td>     0.00000</td>\n",
        "      <td>...</td>\n",
        "      <td>   1588.043537</td>\n",
        "      <td>   2963.600000</td>\n",
        "      <td>   2759.000000</td>\n",
        "      <td>   3388.875700</td>\n",
        "      <td>   2576.113136</td>\n",
        "      <td> 19233.832374</td>\n",
        "      <td> 12720.0000</td>\n",
        "      <td>  6513.832374</td>\n",
        "      <td> 0.338665</td>\n",
        "      <td>  0</td>\n",
        "    </tr>\n",
        "    <tr>\n",
        "      <th>11  </th>\n",
        "      <td>                        Cairo above 150 L.E orders</td>\n",
        "      <td>            Cairoabove150LEorders</td>\n",
        "      <td>NaN</td>\n",
        "      <td>          Freight</td>\n",
        "      <td>           Freight</td>\n",
        "      <td>              General</td>\n",
        "      <td>                                               NaN</td>\n",
        "      <td>    0.000000</td>\n",
        "      <td>    0.000000</td>\n",
        "      <td>     0.00000</td>\n",
        "      <td>...</td>\n",
        "      <td>   2020.670198</td>\n",
        "      <td>   1848.049762</td>\n",
        "      <td>   2586.345982</td>\n",
        "      <td>   2991.765426</td>\n",
        "      <td>   1699.753162</td>\n",
        "      <td> 19054.634183</td>\n",
        "      <td>     0.0000</td>\n",
        "      <td> 19054.634183</td>\n",
        "      <td> 1.000000</td>\n",
        "      <td>  0</td>\n",
        "    </tr>\n",
        "    <tr>\n",
        "      <th>12  </th>\n",
        "      <td>              Beef fillet (chemical free) - frozen</td>\n",
        "      <td>                           151003</td>\n",
        "      <td>NaN</td>\n",
        "      <td>              NGS</td>\n",
        "      <td>         El rancho</td>\n",
        "      <td>                 Beef</td>\n",
        "      <td>                       Frozen, Chemical free, Beef</td>\n",
        "      <td>    0.000000</td>\n",
        "      <td>    0.000000</td>\n",
        "      <td>     0.00000</td>\n",
        "      <td>...</td>\n",
        "      <td>   1640.310680</td>\n",
        "      <td>   1862.000000</td>\n",
        "      <td>   2833.115336</td>\n",
        "      <td>   1625.576253</td>\n",
        "      <td>   3942.408042</td>\n",
        "      <td> 18928.772120</td>\n",
        "      <td> 14141.3500</td>\n",
        "      <td>  4787.422120</td>\n",
        "      <td> 0.252918</td>\n",
        "      <td>  0</td>\n",
        "    </tr>\n",
        "    <tr>\n",
        "      <th>13  </th>\n",
        "      <td>                         Inside Cairo delivery fee</td>\n",
        "      <td>           InsideCairodeliveryfee</td>\n",
        "      <td>NaN</td>\n",
        "      <td>          Freight</td>\n",
        "      <td>           Freight</td>\n",
        "      <td>             Delivery</td>\n",
        "      <td>                                               NaN</td>\n",
        "      <td>    0.000000</td>\n",
        "      <td>    0.000000</td>\n",
        "      <td>     0.00000</td>\n",
        "      <td>...</td>\n",
        "      <td>      0.000000</td>\n",
        "      <td>      0.000000</td>\n",
        "      <td>      0.000000</td>\n",
        "      <td>      0.000000</td>\n",
        "      <td>      0.000000</td>\n",
        "      <td> 18207.761412</td>\n",
        "      <td>  2200.0000</td>\n",
        "      <td> 16007.761412</td>\n",
        "      <td> 0.879172</td>\n",
        "      <td>  0</td>\n",
        "    </tr>\n",
        "    <tr>\n",
        "      <th>14  </th>\n",
        "      <td>                            Dried cranberry / 200g</td>\n",
        "      <td>                   DriedCranberry</td>\n",
        "      <td>NaN</td>\n",
        "      <td>              NGS</td>\n",
        "      <td>               Auf</td>\n",
        "      <td>         Dried fruits</td>\n",
        "      <td>                                               NaN</td>\n",
        "      <td>    0.000000</td>\n",
        "      <td>    0.000000</td>\n",
        "      <td>     0.00000</td>\n",
        "      <td>...</td>\n",
        "      <td>      0.000000</td>\n",
        "      <td>      0.000000</td>\n",
        "      <td>      0.000000</td>\n",
        "      <td>      0.000000</td>\n",
        "      <td>      0.000000</td>\n",
        "      <td> 17477.037000</td>\n",
        "      <td>  7520.0075</td>\n",
        "      <td>  9957.029500</td>\n",
        "      <td> 0.569721</td>\n",
        "      <td>  0</td>\n",
        "    </tr>\n",
        "    <tr>\n",
        "      <th>15  </th>\n",
        "      <td>                      Veal Escalope (Biftek) / 1kg</td>\n",
        "      <td>                     VealEscalope</td>\n",
        "      <td>NaN</td>\n",
        "      <td>              NGS</td>\n",
        "      <td>             Shahd</td>\n",
        "      <td>           Fresh veal</td>\n",
        "      <td>                                               NaN</td>\n",
        "      <td>    0.000000</td>\n",
        "      <td>    0.000000</td>\n",
        "      <td>     0.00000</td>\n",
        "      <td>...</td>\n",
        "      <td>      0.000000</td>\n",
        "      <td>      0.000000</td>\n",
        "      <td>      0.000000</td>\n",
        "      <td>      0.000000</td>\n",
        "      <td>      0.000000</td>\n",
        "      <td> 14144.000000</td>\n",
        "      <td> 10845.0000</td>\n",
        "      <td>  3299.000000</td>\n",
        "      <td> 0.233244</td>\n",
        "      <td>  0</td>\n",
        "    </tr>\n",
        "    <tr>\n",
        "      <th>16  </th>\n",
        "      <td>                             Maple syrup (organic)</td>\n",
        "      <td>                           281102</td>\n",
        "      <td>NaN</td>\n",
        "      <td>              NaN</td>\n",
        "      <td>                Hv</td>\n",
        "      <td>           Sweeteners</td>\n",
        "      <td>                               Organic, Sweeteners</td>\n",
        "      <td>    0.000000</td>\n",
        "      <td>    0.000000</td>\n",
        "      <td>     0.00000</td>\n",
        "      <td>...</td>\n",
        "      <td>   1536.000000</td>\n",
        "      <td>   1056.000000</td>\n",
        "      <td>   1905.600000</td>\n",
        "      <td>   1769.074793</td>\n",
        "      <td>   1045.000000</td>\n",
        "      <td> 13998.773205</td>\n",
        "      <td> 10578.2500</td>\n",
        "      <td>  3420.523205</td>\n",
        "      <td> 0.244344</td>\n",
        "      <td>  0</td>\n",
        "    </tr>\n",
        "    <tr>\n",
        "      <th>17  </th>\n",
        "      <td>     Balady Whole Chicken(chemical free) / Default</td>\n",
        "      <td> BaladyWholeChicken(Chemicalfree)</td>\n",
        "      <td>NaN</td>\n",
        "      <td>              NaN</td>\n",
        "      <td>            Tabiey</td>\n",
        "      <td>              Poultry</td>\n",
        "      <td>                             Frozen, Chemical free</td>\n",
        "      <td>    0.000000</td>\n",
        "      <td>    0.000000</td>\n",
        "      <td>     0.00000</td>\n",
        "      <td>...</td>\n",
        "      <td>   2100.000000</td>\n",
        "      <td>   2740.943396</td>\n",
        "      <td>   2200.000000</td>\n",
        "      <td>   1880.229340</td>\n",
        "      <td>   2112.243645</td>\n",
        "      <td> 13683.416381</td>\n",
        "      <td> 11080.0000</td>\n",
        "      <td>  2603.416381</td>\n",
        "      <td> 0.190261</td>\n",
        "      <td>  0</td>\n",
        "    </tr>\n",
        "    <tr>\n",
        "      <th>18  </th>\n",
        "      <td> Muesli with mixed berries, oat flakes, and see...</td>\n",
        "      <td>                           221008</td>\n",
        "      <td>NaN</td>\n",
        "      <td>              NaN</td>\n",
        "      <td>         Good life</td>\n",
        "      <td>               Cereal</td>\n",
        "      <td>                                           Organic</td>\n",
        "      <td>    0.000000</td>\n",
        "      <td>    0.000000</td>\n",
        "      <td>     0.00000</td>\n",
        "      <td>...</td>\n",
        "      <td>    443.520000</td>\n",
        "      <td>   2100.800000</td>\n",
        "      <td>      0.000000</td>\n",
        "      <td>      0.000000</td>\n",
        "      <td>      0.000000</td>\n",
        "      <td> 13160.394745</td>\n",
        "      <td>  9057.6000</td>\n",
        "      <td>  4102.794745</td>\n",
        "      <td> 0.311753</td>\n",
        "      <td>  0</td>\n",
        "    </tr>\n",
        "    <tr>\n",
        "      <th>19  </th>\n",
        "      <td> Bench press oats with apple and cinnamon ( wit...</td>\n",
        "      <td>                           221001</td>\n",
        "      <td>NaN</td>\n",
        "      <td>              NaN</td>\n",
        "      <td>         Good life</td>\n",
        "      <td>               Cereal</td>\n",
        "      <td>                                  High performance</td>\n",
        "      <td>    0.000000</td>\n",
        "      <td>    0.000000</td>\n",
        "      <td>     0.00000</td>\n",
        "      <td>...</td>\n",
        "      <td>    915.000000</td>\n",
        "      <td>    312.000000</td>\n",
        "      <td>      0.000000</td>\n",
        "      <td>      0.000000</td>\n",
        "      <td>      0.000000</td>\n",
        "      <td> 12951.959594</td>\n",
        "      <td>  7935.4800</td>\n",
        "      <td>  5016.479594</td>\n",
        "      <td> 0.387314</td>\n",
        "      <td>  0</td>\n",
        "    </tr>\n",
        "    <tr>\n",
        "      <th>20  </th>\n",
        "      <td>               Beef cubes (chemical free) - frozen</td>\n",
        "      <td>                           151001</td>\n",
        "      <td>NaN</td>\n",
        "      <td>              NGS</td>\n",
        "      <td>         El rancho</td>\n",
        "      <td>                 Beef</td>\n",
        "      <td>                       Frozen, Chemical free, Beef</td>\n",
        "      <td>    0.000000</td>\n",
        "      <td>    0.000000</td>\n",
        "      <td>     0.00000</td>\n",
        "      <td>...</td>\n",
        "      <td>    682.000000</td>\n",
        "      <td>   1736.000000</td>\n",
        "      <td>    868.000000</td>\n",
        "      <td>   1642.134626</td>\n",
        "      <td>   2241.968114</td>\n",
        "      <td> 12883.277837</td>\n",
        "      <td>  9354.0300</td>\n",
        "      <td>  3529.247837</td>\n",
        "      <td> 0.273940</td>\n",
        "      <td>  0</td>\n",
        "    </tr>\n",
        "    <tr>\n",
        "      <th>21  </th>\n",
        "      <td> Muesli with quinoa, amaranth, apple, seeds and...</td>\n",
        "      <td>                           221009</td>\n",
        "      <td>NaN</td>\n",
        "      <td>              NaN</td>\n",
        "      <td>         Good life</td>\n",
        "      <td>               Cereal</td>\n",
        "      <td>                     High performance, gluten free</td>\n",
        "      <td>    0.000000</td>\n",
        "      <td>    0.000000</td>\n",
        "      <td>     0.00000</td>\n",
        "      <td>...</td>\n",
        "      <td>   1301.120000</td>\n",
        "      <td>   2074.400000</td>\n",
        "      <td>      0.000000</td>\n",
        "      <td>      0.000000</td>\n",
        "      <td>      0.000000</td>\n",
        "      <td> 12819.304745</td>\n",
        "      <td>  9605.5200</td>\n",
        "      <td>  3213.784745</td>\n",
        "      <td> 0.250699</td>\n",
        "      <td>  0</td>\n",
        "    </tr>\n",
        "    <tr>\n",
        "      <th>22  </th>\n",
        "      <td>                                 Almond meal flour</td>\n",
        "      <td>                           281082</td>\n",
        "      <td>NaN</td>\n",
        "      <td>              NaN</td>\n",
        "      <td>                Hv</td>\n",
        "      <td>      Baking products</td>\n",
        "      <td>  Weight loss, gluten free, Vegan, Baking Products</td>\n",
        "      <td>    0.000000</td>\n",
        "      <td>    0.000000</td>\n",
        "      <td>     0.00000</td>\n",
        "      <td>...</td>\n",
        "      <td>   3168.000000</td>\n",
        "      <td>   2296.800000</td>\n",
        "      <td>   1716.000000</td>\n",
        "      <td>   3892.412286</td>\n",
        "      <td>    -15.575221</td>\n",
        "      <td> 12723.237064</td>\n",
        "      <td> 10092.7700</td>\n",
        "      <td>  2630.467064</td>\n",
        "      <td> 0.206745</td>\n",
        "      <td>  0</td>\n",
        "    </tr>\n",
        "    <tr>\n",
        "      <th>23  </th>\n",
        "      <td>                                             Cairo</td>\n",
        "      <td>                            Cairo</td>\n",
        "      <td>NaN</td>\n",
        "      <td>          Freight</td>\n",
        "      <td>           Freight</td>\n",
        "      <td>              General</td>\n",
        "      <td>                                               NaN</td>\n",
        "      <td>    0.000000</td>\n",
        "      <td>    0.000000</td>\n",
        "      <td>     0.00000</td>\n",
        "      <td>...</td>\n",
        "      <td>    987.374904</td>\n",
        "      <td>   1698.236995</td>\n",
        "      <td>   1903.656250</td>\n",
        "      <td>   2165.138042</td>\n",
        "      <td>   1520.730987</td>\n",
        "      <td> 12565.137179</td>\n",
        "      <td>     0.0000</td>\n",
        "      <td> 12565.137179</td>\n",
        "      <td> 1.000000</td>\n",
        "      <td>  0</td>\n",
        "    </tr>\n",
        "    <tr>\n",
        "      <th>24  </th>\n",
        "      <td>                              Chia seeds (organic)</td>\n",
        "      <td>                           221002</td>\n",
        "      <td>NaN</td>\n",
        "      <td>              NaN</td>\n",
        "      <td>         Good life</td>\n",
        "      <td>                Seeds</td>\n",
        "      <td>                  Super food, Weight loss, Organic</td>\n",
        "      <td>    0.000000</td>\n",
        "      <td>    0.000000</td>\n",
        "      <td>     0.00000</td>\n",
        "      <td>...</td>\n",
        "      <td>    490.000000</td>\n",
        "      <td>    490.000000</td>\n",
        "      <td>    392.000000</td>\n",
        "      <td>     98.000000</td>\n",
        "      <td>      0.000000</td>\n",
        "      <td> 12487.056000</td>\n",
        "      <td>  6761.6400</td>\n",
        "      <td>  5725.416000</td>\n",
        "      <td> 0.458508</td>\n",
        "      <td>  0</td>\n",
        "    </tr>\n",
        "    <tr>\n",
        "      <th>25  </th>\n",
        "      <td>                              Manuka honey (large)</td>\n",
        "      <td>                           281113</td>\n",
        "      <td>NaN</td>\n",
        "      <td>              NaN</td>\n",
        "      <td>                Hv</td>\n",
        "      <td>                Honey</td>\n",
        "      <td> Organic, gluten free, Vegetarian, Honey &amp; Swee...</td>\n",
        "      <td>    0.000000</td>\n",
        "      <td>    0.000000</td>\n",
        "      <td>     0.00000</td>\n",
        "      <td>...</td>\n",
        "      <td>   3280.000000</td>\n",
        "      <td>   1640.000000</td>\n",
        "      <td>   4592.000000</td>\n",
        "      <td>   1968.000000</td>\n",
        "      <td>    656.000000</td>\n",
        "      <td> 12136.000000</td>\n",
        "      <td>  9111.8400</td>\n",
        "      <td>  3024.160000</td>\n",
        "      <td> 0.249189</td>\n",
        "      <td>  0</td>\n",
        "    </tr>\n",
        "    <tr>\n",
        "      <th>26  </th>\n",
        "      <td>                                           Avocado</td>\n",
        "      <td>                          Avocado</td>\n",
        "      <td>NaN</td>\n",
        "      <td>       Kheir Misr</td>\n",
        "      <td>             Rafic</td>\n",
        "      <td>         Fresh fruits</td>\n",
        "      <td>                                               NaN</td>\n",
        "      <td>    0.000000</td>\n",
        "      <td>    0.000000</td>\n",
        "      <td>     0.00000</td>\n",
        "      <td>...</td>\n",
        "      <td>      0.000000</td>\n",
        "      <td>      0.000000</td>\n",
        "      <td>      0.000000</td>\n",
        "      <td>      0.000000</td>\n",
        "      <td>      0.000000</td>\n",
        "      <td> 12049.565673</td>\n",
        "      <td> 10095.1100</td>\n",
        "      <td>  1954.455673</td>\n",
        "      <td> 0.162201</td>\n",
        "      <td>  0</td>\n",
        "    </tr>\n",
        "    <tr>\n",
        "      <th>27  </th>\n",
        "      <td>                               Avocados (imported)</td>\n",
        "      <td>                            20002</td>\n",
        "      <td>NaN</td>\n",
        "      <td>              NGS</td>\n",
        "      <td>          Agrovate</td>\n",
        "      <td>               Fruits</td>\n",
        "      <td>                                             Fresh</td>\n",
        "      <td>    0.000000</td>\n",
        "      <td>    0.000000</td>\n",
        "      <td>     0.00000</td>\n",
        "      <td>...</td>\n",
        "      <td>   1153.000000</td>\n",
        "      <td>   1972.000000</td>\n",
        "      <td>   1713.832082</td>\n",
        "      <td>   1748.572824</td>\n",
        "      <td>   1488.005413</td>\n",
        "      <td> 12025.410318</td>\n",
        "      <td>  8511.1900</td>\n",
        "      <td>  3514.220318</td>\n",
        "      <td> 0.292233</td>\n",
        "      <td>  0</td>\n",
        "    </tr>\n",
        "    <tr>\n",
        "      <th>28  </th>\n",
        "      <td>                                  Beef Mince / 1kg</td>\n",
        "      <td>                        BeefMince</td>\n",
        "      <td>NaN</td>\n",
        "      <td>              NGS</td>\n",
        "      <td>             Shahd</td>\n",
        "      <td>           Fresh beef</td>\n",
        "      <td>                                               NaN</td>\n",
        "      <td>    0.000000</td>\n",
        "      <td>    0.000000</td>\n",
        "      <td>     0.00000</td>\n",
        "      <td>...</td>\n",
        "      <td>      0.000000</td>\n",
        "      <td>      0.000000</td>\n",
        "      <td>      0.000000</td>\n",
        "      <td>      0.000000</td>\n",
        "      <td>      0.000000</td>\n",
        "      <td> 11978.320000</td>\n",
        "      <td>  9229.8600</td>\n",
        "      <td>  2748.460000</td>\n",
        "      <td> 0.229453</td>\n",
        "      <td>  0</td>\n",
        "    </tr>\n",
        "    <tr>\n",
        "      <th>29  </th>\n",
        "      <td>                             Balady eggs (organic)</td>\n",
        "      <td>                           461002</td>\n",
        "      <td>NaN</td>\n",
        "      <td>              NaN</td>\n",
        "      <td>         Sara nour</td>\n",
        "      <td>                 Eggs</td>\n",
        "      <td>                                     Organic, Eggs</td>\n",
        "      <td>    0.000000</td>\n",
        "      <td>    0.000000</td>\n",
        "      <td>     0.00000</td>\n",
        "      <td>...</td>\n",
        "      <td>   1272.000000</td>\n",
        "      <td>   1296.000000</td>\n",
        "      <td>   1776.000000</td>\n",
        "      <td>   2019.300135</td>\n",
        "      <td>    987.540126</td>\n",
        "      <td> 11724.840261</td>\n",
        "      <td>  8785.0000</td>\n",
        "      <td>  2939.840261</td>\n",
        "      <td> 0.250736</td>\n",
        "      <td>  0</td>\n",
        "    </tr>\n",
        "    <tr>\n",
        "      <th>...</th>\n",
        "      <td>...</td>\n",
        "      <td>...</td>\n",
        "      <td>...</td>\n",
        "      <td>...</td>\n",
        "      <td>...</td>\n",
        "      <td>...</td>\n",
        "      <td>...</td>\n",
        "      <td>...</td>\n",
        "      <td>...</td>\n",
        "      <td>...</td>\n",
        "      <td>...</td>\n",
        "      <td>...</td>\n",
        "      <td>...</td>\n",
        "      <td>...</td>\n",
        "      <td>...</td>\n",
        "      <td>...</td>\n",
        "      <td>...</td>\n",
        "      <td>...</td>\n",
        "      <td>...</td>\n",
        "      <td>...</td>\n",
        "      <td>...</td>\n",
        "    </tr>\n",
        "    <tr>\n",
        "      <th>1949</th>\n",
        "      <td>                                Sage ( aquaponic )</td>\n",
        "      <td>                             Sage</td>\n",
        "      <td>NaN</td>\n",
        "      <td>           Bustan</td>\n",
        "      <td> Bustan aquaponics</td>\n",
        "      <td> Aquaponic vegetables</td>\n",
        "      <td>                                               NaN</td>\n",
        "      <td>    0.000000</td>\n",
        "      <td>    0.000000</td>\n",
        "      <td>     0.00000</td>\n",
        "      <td>...</td>\n",
        "      <td>      0.000000</td>\n",
        "      <td>      0.000000</td>\n",
        "      <td>      0.000000</td>\n",
        "      <td>      0.000000</td>\n",
        "      <td>      0.000000</td>\n",
        "      <td>     5.000000</td>\n",
        "      <td>     3.5000</td>\n",
        "      <td>     1.500000</td>\n",
        "      <td> 0.300000</td>\n",
        "      <td>  0</td>\n",
        "    </tr>\n",
        "    <tr>\n",
        "      <th>1950</th>\n",
        "      <td>                                          Zucchini</td>\n",
        "      <td>                         Zucchini</td>\n",
        "      <td>NaN</td>\n",
        "      <td>              NGS</td>\n",
        "      <td>          Agrovate</td>\n",
        "      <td>     Fresh vegetables</td>\n",
        "      <td>                                               NaN</td>\n",
        "      <td>    0.000000</td>\n",
        "      <td>    0.000000</td>\n",
        "      <td>     0.00000</td>\n",
        "      <td>...</td>\n",
        "      <td>      0.000000</td>\n",
        "      <td>      0.000000</td>\n",
        "      <td>      0.000000</td>\n",
        "      <td>      0.000000</td>\n",
        "      <td>      0.000000</td>\n",
        "      <td>     5.000000</td>\n",
        "      <td>     3.7500</td>\n",
        "      <td>     1.250000</td>\n",
        "      <td> 0.250000</td>\n",
        "      <td>  0</td>\n",
        "    </tr>\n",
        "    <tr>\n",
        "      <th>1951</th>\n",
        "      <td>                                 Mini French Brown</td>\n",
        "      <td>                  MiniFrenchBrown</td>\n",
        "      <td>NaN</td>\n",
        "      <td>              NGS</td>\n",
        "      <td>          Favorito</td>\n",
        "      <td>          Bread&amp;Bakry</td>\n",
        "      <td>                                               NaN</td>\n",
        "      <td>    0.000000</td>\n",
        "      <td>    0.000000</td>\n",
        "      <td>     0.00000</td>\n",
        "      <td>...</td>\n",
        "      <td>      0.000000</td>\n",
        "      <td>      0.000000</td>\n",
        "      <td>      0.000000</td>\n",
        "      <td>      0.000000</td>\n",
        "      <td>      0.000000</td>\n",
        "      <td>     4.500000</td>\n",
        "      <td>     0.0000</td>\n",
        "      <td>     4.500000</td>\n",
        "      <td> 1.000000</td>\n",
        "      <td>  0</td>\n",
        "    </tr>\n",
        "    <tr>\n",
        "      <th>1952</th>\n",
        "      <td>                              Spring Onions / 200g</td>\n",
        "      <td>                     SpringOnions</td>\n",
        "      <td>NaN</td>\n",
        "      <td>              NGS</td>\n",
        "      <td>             Offah</td>\n",
        "      <td>        Fresh Produce</td>\n",
        "      <td>                                               NaN</td>\n",
        "      <td>    0.000000</td>\n",
        "      <td>    0.000000</td>\n",
        "      <td>     3.25000</td>\n",
        "      <td>...</td>\n",
        "      <td>      0.000000</td>\n",
        "      <td>      0.000000</td>\n",
        "      <td>      0.000000</td>\n",
        "      <td>      0.000000</td>\n",
        "      <td>      0.000000</td>\n",
        "      <td>     3.250000</td>\n",
        "      <td>     2.5000</td>\n",
        "      <td>     0.750000</td>\n",
        "      <td> 0.230769</td>\n",
        "      <td>  0</td>\n",
        "    </tr>\n",
        "    <tr>\n",
        "      <th>1953</th>\n",
        "      <td>                                       Honey Spoon</td>\n",
        "      <td>                           291009</td>\n",
        "      <td>NaN</td>\n",
        "      <td>              NaN</td>\n",
        "      <td>               IMN</td>\n",
        "      <td>       Home appliance</td>\n",
        "      <td>                                 Kitchen equipment</td>\n",
        "      <td>    0.000000</td>\n",
        "      <td>    0.000000</td>\n",
        "      <td>     0.00000</td>\n",
        "      <td>...</td>\n",
        "      <td>      0.000000</td>\n",
        "      <td>      0.000000</td>\n",
        "      <td>      0.000000</td>\n",
        "      <td>      0.000000</td>\n",
        "      <td>      0.000000</td>\n",
        "      <td>     3.000000</td>\n",
        "      <td>     1.3500</td>\n",
        "      <td>     1.650000</td>\n",
        "      <td> 0.550000</td>\n",
        "      <td>  0</td>\n",
        "    </tr>\n",
        "    <tr>\n",
        "      <th>1954</th>\n",
        "      <td>                                           Hot Dog</td>\n",
        "      <td>                           HotDog</td>\n",
        "      <td>NaN</td>\n",
        "      <td>              NGS</td>\n",
        "      <td>          Favorito</td>\n",
        "      <td>          Bread&amp;Bakry</td>\n",
        "      <td>                                               NaN</td>\n",
        "      <td>    0.000000</td>\n",
        "      <td>    0.000000</td>\n",
        "      <td>     0.00000</td>\n",
        "      <td>...</td>\n",
        "      <td>      0.000000</td>\n",
        "      <td>      0.000000</td>\n",
        "      <td>      0.000000</td>\n",
        "      <td>      0.000000</td>\n",
        "      <td>      0.000000</td>\n",
        "      <td>     2.500000</td>\n",
        "      <td>     0.0000</td>\n",
        "      <td>     2.500000</td>\n",
        "      <td> 1.000000</td>\n",
        "      <td>  0</td>\n",
        "    </tr>\n",
        "    <tr>\n",
        "      <th>1955</th>\n",
        "      <td>                  Oak leaf lettuce (chemical free)</td>\n",
        "      <td>                           341028</td>\n",
        "      <td>NaN</td>\n",
        "      <td>              NaN</td>\n",
        "      <td>             MAKAR</td>\n",
        "      <td>           Vegetables</td>\n",
        "      <td>                             Chemical free, Greens</td>\n",
        "      <td>    0.000000</td>\n",
        "      <td>    0.000000</td>\n",
        "      <td>     0.00000</td>\n",
        "      <td>...</td>\n",
        "      <td>      0.000000</td>\n",
        "      <td>      0.000000</td>\n",
        "      <td>      0.000000</td>\n",
        "      <td>      0.000000</td>\n",
        "      <td>      0.000000</td>\n",
        "      <td>     0.000000</td>\n",
        "      <td>     0.0000</td>\n",
        "      <td>     0.000000</td>\n",
        "      <td> 0.000000</td>\n",
        "      <td>  0</td>\n",
        "    </tr>\n",
        "    <tr>\n",
        "      <th>1956</th>\n",
        "      <td>                         Spearmint (chemical free)</td>\n",
        "      <td>                           461027</td>\n",
        "      <td>NaN</td>\n",
        "      <td>              NaN</td>\n",
        "      <td>         Sara nour</td>\n",
        "      <td>            Beverages</td>\n",
        "      <td>                                Chemical free, Tea</td>\n",
        "      <td>    0.000000</td>\n",
        "      <td>    0.000000</td>\n",
        "      <td>     0.00000</td>\n",
        "      <td>...</td>\n",
        "      <td>      0.000000</td>\n",
        "      <td>      0.000000</td>\n",
        "      <td>      0.000000</td>\n",
        "      <td>      0.000000</td>\n",
        "      <td>      0.000000</td>\n",
        "      <td>     0.000000</td>\n",
        "      <td>     0.0000</td>\n",
        "      <td>     0.000000</td>\n",
        "      <td> 0.000000</td>\n",
        "      <td>  0</td>\n",
        "    </tr>\n",
        "    <tr>\n",
        "      <th>1957</th>\n",
        "      <td>                           Rosemary(chemical free)</td>\n",
        "      <td>                           501032</td>\n",
        "      <td>NaN</td>\n",
        "      <td>              NaN</td>\n",
        "      <td>            Tabiey</td>\n",
        "      <td>                Herbs</td>\n",
        "      <td>                              Fresh, Chemical free</td>\n",
        "      <td>    0.000000</td>\n",
        "      <td>    0.000000</td>\n",
        "      <td>     0.00000</td>\n",
        "      <td>...</td>\n",
        "      <td>      0.000000</td>\n",
        "      <td>      0.000000</td>\n",
        "      <td>      0.000000</td>\n",
        "      <td>      0.000000</td>\n",
        "      <td>      0.000000</td>\n",
        "      <td>     0.000000</td>\n",
        "      <td>     0.0000</td>\n",
        "      <td>     0.000000</td>\n",
        "      <td> 0.000000</td>\n",
        "      <td>  0</td>\n",
        "    </tr>\n",
        "    <tr>\n",
        "      <th>1958</th>\n",
        "      <td>                           Oregano (chemical free)</td>\n",
        "      <td>                           501027</td>\n",
        "      <td>NaN</td>\n",
        "      <td>              NaN</td>\n",
        "      <td>            Tabiey</td>\n",
        "      <td>                Herbs</td>\n",
        "      <td>                              Fresh, Chemical free</td>\n",
        "      <td>    0.000000</td>\n",
        "      <td>    0.000000</td>\n",
        "      <td>     0.00000</td>\n",
        "      <td>...</td>\n",
        "      <td>      0.000000</td>\n",
        "      <td>      0.000000</td>\n",
        "      <td>      0.000000</td>\n",
        "      <td>      0.000000</td>\n",
        "      <td>      0.000000</td>\n",
        "      <td>     0.000000</td>\n",
        "      <td>     0.0000</td>\n",
        "      <td>     0.000000</td>\n",
        "      <td> 0.000000</td>\n",
        "      <td>  0</td>\n",
        "    </tr>\n",
        "    <tr>\n",
        "      <th>1959</th>\n",
        "      <td>                        Mango aweys(chemical free)</td>\n",
        "      <td>                           461015</td>\n",
        "      <td>NaN</td>\n",
        "      <td>              NaN</td>\n",
        "      <td>         Sara nour</td>\n",
        "      <td>               Fruits</td>\n",
        "      <td>                              Fresh, Chemical free</td>\n",
        "      <td>    0.000000</td>\n",
        "      <td>    0.000000</td>\n",
        "      <td>     0.00000</td>\n",
        "      <td>...</td>\n",
        "      <td>      0.000000</td>\n",
        "      <td>      0.000000</td>\n",
        "      <td>      0.000000</td>\n",
        "      <td>      0.000000</td>\n",
        "      <td>      0.000000</td>\n",
        "      <td>     0.000000</td>\n",
        "      <td>     0.0000</td>\n",
        "      <td>     0.000000</td>\n",
        "      <td> 0.000000</td>\n",
        "      <td>  0</td>\n",
        "    </tr>\n",
        "    <tr>\n",
        "      <th>1960</th>\n",
        "      <td>                             Oat milk ( Original )</td>\n",
        "      <td>                           161002</td>\n",
        "      <td>NaN</td>\n",
        "      <td>              NaN</td>\n",
        "      <td>         El_Ansary</td>\n",
        "      <td>       Non-dairy milk</td>\n",
        "      <td>                                           Organic</td>\n",
        "      <td>    0.000000</td>\n",
        "      <td>    0.000000</td>\n",
        "      <td>     0.00000</td>\n",
        "      <td>...</td>\n",
        "      <td>      0.000000</td>\n",
        "      <td>      0.000000</td>\n",
        "      <td>      0.000000</td>\n",
        "      <td>      0.000000</td>\n",
        "      <td>      0.000000</td>\n",
        "      <td>     0.000000</td>\n",
        "      <td>     0.0000</td>\n",
        "      <td>     0.000000</td>\n",
        "      <td> 0.000000</td>\n",
        "      <td>  0</td>\n",
        "    </tr>\n",
        "    <tr>\n",
        "      <th>1961</th>\n",
        "      <td>                                        Kaki Fruit</td>\n",
        "      <td>                           701021</td>\n",
        "      <td>NaN</td>\n",
        "      <td>              NGS</td>\n",
        "      <td>              Farm</td>\n",
        "      <td>               Fruits</td>\n",
        "      <td>                                 Fresh, High grade</td>\n",
        "      <td>    0.000000</td>\n",
        "      <td>    0.000000</td>\n",
        "      <td>     0.00000</td>\n",
        "      <td>...</td>\n",
        "      <td>      0.000000</td>\n",
        "      <td>      0.000000</td>\n",
        "      <td>      0.000000</td>\n",
        "      <td>      0.000000</td>\n",
        "      <td>      0.000000</td>\n",
        "      <td>     0.000000</td>\n",
        "      <td>     0.0000</td>\n",
        "      <td>     0.000000</td>\n",
        "      <td> 0.000000</td>\n",
        "      <td>  0</td>\n",
        "    </tr>\n",
        "    <tr>\n",
        "      <th>1962</th>\n",
        "      <td>                Broccoli Romanesco (chemical free)</td>\n",
        "      <td>                           341008</td>\n",
        "      <td>NaN</td>\n",
        "      <td>              NaN</td>\n",
        "      <td>             MAKAR</td>\n",
        "      <td>           Vegetables</td>\n",
        "      <td>                              Fresh, Chemical free</td>\n",
        "      <td>    0.000000</td>\n",
        "      <td>    0.000000</td>\n",
        "      <td>     0.00000</td>\n",
        "      <td>...</td>\n",
        "      <td>      0.000000</td>\n",
        "      <td>      0.000000</td>\n",
        "      <td>      0.000000</td>\n",
        "      <td>      0.000000</td>\n",
        "      <td>      0.000000</td>\n",
        "      <td>     0.000000</td>\n",
        "      <td>     0.0000</td>\n",
        "      <td>     0.000000</td>\n",
        "      <td> 0.000000</td>\n",
        "      <td>  0</td>\n",
        "    </tr>\n",
        "    <tr>\n",
        "      <th>1963</th>\n",
        "      <td>                                     White cabbage</td>\n",
        "      <td>                            20039</td>\n",
        "      <td>NaN</td>\n",
        "      <td>              NaN</td>\n",
        "      <td>          Agrovate</td>\n",
        "      <td>           Vegetables</td>\n",
        "      <td>                                             Fresh</td>\n",
        "      <td>    0.000000</td>\n",
        "      <td>    0.000000</td>\n",
        "      <td>     0.00000</td>\n",
        "      <td>...</td>\n",
        "      <td>      0.000000</td>\n",
        "      <td>      0.000000</td>\n",
        "      <td>      0.000000</td>\n",
        "      <td>      0.000000</td>\n",
        "      <td>      0.000000</td>\n",
        "      <td>     0.000000</td>\n",
        "      <td>     0.0000</td>\n",
        "      <td>     0.000000</td>\n",
        "      <td> 0.000000</td>\n",
        "      <td>  0</td>\n",
        "    </tr>\n",
        "    <tr>\n",
        "      <th>1964</th>\n",
        "      <td>                                    Chinese garlic</td>\n",
        "      <td>                            20034</td>\n",
        "      <td>NaN</td>\n",
        "      <td>              NaN</td>\n",
        "      <td>          Agrovate</td>\n",
        "      <td>           Vegetables</td>\n",
        "      <td>                                             Fresh</td>\n",
        "      <td>    0.000000</td>\n",
        "      <td>    0.000000</td>\n",
        "      <td>     0.00000</td>\n",
        "      <td>...</td>\n",
        "      <td>      0.000000</td>\n",
        "      <td>      0.000000</td>\n",
        "      <td>      0.000000</td>\n",
        "      <td>      0.000000</td>\n",
        "      <td>      0.000000</td>\n",
        "      <td>     0.000000</td>\n",
        "      <td>     0.0000</td>\n",
        "      <td>     0.000000</td>\n",
        "      <td> 0.000000</td>\n",
        "      <td>  0</td>\n",
        "    </tr>\n",
        "    <tr>\n",
        "      <th>1965</th>\n",
        "      <td>                  Spelt Flakes - toasted (organic)</td>\n",
        "      <td>                           281179</td>\n",
        "      <td>NaN</td>\n",
        "      <td>              NaN</td>\n",
        "      <td>                Hv</td>\n",
        "      <td>               Cereal</td>\n",
        "      <td>                                       Whole grain</td>\n",
        "      <td>    0.000000</td>\n",
        "      <td>    0.000000</td>\n",
        "      <td>     0.00000</td>\n",
        "      <td>...</td>\n",
        "      <td>      0.000000</td>\n",
        "      <td>      0.000000</td>\n",
        "      <td>      0.000000</td>\n",
        "      <td>      0.000000</td>\n",
        "      <td>      0.000000</td>\n",
        "      <td>     0.000000</td>\n",
        "      <td>     0.0000</td>\n",
        "      <td>     0.000000</td>\n",
        "      <td> 0.000000</td>\n",
        "      <td>  0</td>\n",
        "    </tr>\n",
        "    <tr>\n",
        "      <th>1966</th>\n",
        "      <td>                              Rice milk (original)</td>\n",
        "      <td>                           161003</td>\n",
        "      <td>NaN</td>\n",
        "      <td>              NaN</td>\n",
        "      <td>         El_Ansary</td>\n",
        "      <td>       Non-dairy milk</td>\n",
        "      <td>                                           Organic</td>\n",
        "      <td>    0.000000</td>\n",
        "      <td>    0.000000</td>\n",
        "      <td>     0.00000</td>\n",
        "      <td>...</td>\n",
        "      <td>      0.000000</td>\n",
        "      <td>      0.000000</td>\n",
        "      <td>      0.000000</td>\n",
        "      <td>      0.000000</td>\n",
        "      <td>      0.000000</td>\n",
        "      <td>     0.000000</td>\n",
        "      <td>     0.0000</td>\n",
        "      <td>     0.000000</td>\n",
        "      <td> 0.000000</td>\n",
        "      <td>  0</td>\n",
        "    </tr>\n",
        "    <tr>\n",
        "      <th>1967</th>\n",
        "      <td>                  Peanuts in shell (chemical free)</td>\n",
        "      <td>                           461022</td>\n",
        "      <td>NaN</td>\n",
        "      <td>              NaN</td>\n",
        "      <td>         Sara nour</td>\n",
        "      <td>                 Nuts</td>\n",
        "      <td>                               Nuts, Chemical free</td>\n",
        "      <td>    0.000000</td>\n",
        "      <td>    0.000000</td>\n",
        "      <td>     0.00000</td>\n",
        "      <td>...</td>\n",
        "      <td>      0.000000</td>\n",
        "      <td>      0.000000</td>\n",
        "      <td>      0.000000</td>\n",
        "      <td>      0.000000</td>\n",
        "      <td>      0.000000</td>\n",
        "      <td>     0.000000</td>\n",
        "      <td>     0.0000</td>\n",
        "      <td>     0.000000</td>\n",
        "      <td> 0.000000</td>\n",
        "      <td>  0</td>\n",
        "    </tr>\n",
        "    <tr>\n",
        "      <th>1968</th>\n",
        "      <td>                 Red curly batavia (chemical free)</td>\n",
        "      <td>                           341031</td>\n",
        "      <td>NaN</td>\n",
        "      <td>              NaN</td>\n",
        "      <td>             MAKAR</td>\n",
        "      <td>           Vegetables</td>\n",
        "      <td>                             Chemical free, Greens</td>\n",
        "      <td>    0.000000</td>\n",
        "      <td>    0.000000</td>\n",
        "      <td>     0.00000</td>\n",
        "      <td>...</td>\n",
        "      <td>      0.000000</td>\n",
        "      <td>      0.000000</td>\n",
        "      <td>      0.000000</td>\n",
        "      <td>      0.000000</td>\n",
        "      <td>      0.000000</td>\n",
        "      <td>     0.000000</td>\n",
        "      <td>     0.0000</td>\n",
        "      <td>     0.000000</td>\n",
        "      <td> 0.000000</td>\n",
        "      <td>  0</td>\n",
        "    </tr>\n",
        "    <tr>\n",
        "      <th>1969</th>\n",
        "      <td>                      Guiltless oatmeal cookie mix</td>\n",
        "      <td>                           561001</td>\n",
        "      <td>NaN</td>\n",
        "      <td>              NaN</td>\n",
        "      <td>         Signature</td>\n",
        "      <td>      Baking products</td>\n",
        "      <td>                                Whole grain, Flour</td>\n",
        "      <td>    0.000000</td>\n",
        "      <td>    0.000000</td>\n",
        "      <td>     0.00000</td>\n",
        "      <td>...</td>\n",
        "      <td>      0.000000</td>\n",
        "      <td>      0.000000</td>\n",
        "      <td>      0.000000</td>\n",
        "      <td>      0.000000</td>\n",
        "      <td>      0.000000</td>\n",
        "      <td>     0.000000</td>\n",
        "      <td>   -40.0000</td>\n",
        "      <td>    40.000000</td>\n",
        "      <td> 0.000000</td>\n",
        "      <td>  0</td>\n",
        "    </tr>\n",
        "    <tr>\n",
        "      <th>1970</th>\n",
        "      <td>                              Traditional crackers</td>\n",
        "      <td>                           201009</td>\n",
        "      <td>NaN</td>\n",
        "      <td>              NaN</td>\n",
        "      <td>       Food stores</td>\n",
        "      <td>               Snacks</td>\n",
        "      <td>                             Whole grain, Crackers</td>\n",
        "      <td>    0.000000</td>\n",
        "      <td>    0.000000</td>\n",
        "      <td>     0.00000</td>\n",
        "      <td>...</td>\n",
        "      <td>     33.000000</td>\n",
        "      <td>      0.000000</td>\n",
        "      <td>      0.000000</td>\n",
        "      <td>      0.000000</td>\n",
        "      <td>      0.000000</td>\n",
        "      <td>     0.000000</td>\n",
        "      <td>     0.0000</td>\n",
        "      <td>     0.000000</td>\n",
        "      <td> 0.000000</td>\n",
        "      <td>  0</td>\n",
        "    </tr>\n",
        "    <tr>\n",
        "      <th>1971</th>\n",
        "      <td>                         Moringa ( chemical free )</td>\n",
        "      <td>                           461020</td>\n",
        "      <td>NaN</td>\n",
        "      <td>              NaN</td>\n",
        "      <td>         Sara nour</td>\n",
        "      <td>     Food supplements</td>\n",
        "      <td>                      Super food, High performance</td>\n",
        "      <td>    0.000000</td>\n",
        "      <td>    0.000000</td>\n",
        "      <td>     0.00000</td>\n",
        "      <td>...</td>\n",
        "      <td>      0.000000</td>\n",
        "      <td>      0.000000</td>\n",
        "      <td>      0.000000</td>\n",
        "      <td>      0.000000</td>\n",
        "      <td>      0.000000</td>\n",
        "      <td>     0.000000</td>\n",
        "      <td>     0.0000</td>\n",
        "      <td>     0.000000</td>\n",
        "      <td> 0.000000</td>\n",
        "      <td>  0</td>\n",
        "    </tr>\n",
        "    <tr>\n",
        "      <th>1972</th>\n",
        "      <td>                   Mango alfonse ( Chemical free )</td>\n",
        "      <td>                           461014</td>\n",
        "      <td>NaN</td>\n",
        "      <td>              NaN</td>\n",
        "      <td>         Sara nour</td>\n",
        "      <td>               Fruits</td>\n",
        "      <td>                              Fresh, Chemical free</td>\n",
        "      <td>    0.000000</td>\n",
        "      <td>    0.000000</td>\n",
        "      <td>     0.00000</td>\n",
        "      <td>...</td>\n",
        "      <td>      0.000000</td>\n",
        "      <td>      0.000000</td>\n",
        "      <td>      0.000000</td>\n",
        "      <td>      0.000000</td>\n",
        "      <td>      0.000000</td>\n",
        "      <td>     0.000000</td>\n",
        "      <td>     0.0000</td>\n",
        "      <td>     0.000000</td>\n",
        "      <td> 0.000000</td>\n",
        "      <td>  0</td>\n",
        "    </tr>\n",
        "    <tr>\n",
        "      <th>1973</th>\n",
        "      <td>                                       Wild Morgan</td>\n",
        "      <td>                            10004</td>\n",
        "      <td>NaN</td>\n",
        "      <td>              NGS</td>\n",
        "      <td>               ABO</td>\n",
        "      <td>             Sea Food</td>\n",
        "      <td>                               Local, Frozen, Fish</td>\n",
        "      <td>    0.000000</td>\n",
        "      <td>    0.000000</td>\n",
        "      <td>     0.00000</td>\n",
        "      <td>...</td>\n",
        "      <td>      0.000000</td>\n",
        "      <td>      0.000000</td>\n",
        "      <td>      0.000000</td>\n",
        "      <td>      0.000000</td>\n",
        "      <td>      0.000000</td>\n",
        "      <td>     0.000000</td>\n",
        "      <td>     0.0000</td>\n",
        "      <td>     0.000000</td>\n",
        "      <td> 0.000000</td>\n",
        "      <td>  0</td>\n",
        "    </tr>\n",
        "    <tr>\n",
        "      <th>1974</th>\n",
        "      <td>                                           Revenue</td>\n",
        "      <td>                              NaN</td>\n",
        "      <td>NaN</td>\n",
        "      <td>              NaN</td>\n",
        "      <td>               NaN</td>\n",
        "      <td>                  NaN</td>\n",
        "      <td>                                               NaN</td>\n",
        "      <td> 4693.535000</td>\n",
        "      <td> 1595.625000</td>\n",
        "      <td> 28398.75000</td>\n",
        "      <td>...</td>\n",
        "      <td> 108992.550000</td>\n",
        "      <td> 133722.645000</td>\n",
        "      <td> 149446.600000</td>\n",
        "      <td> 187747.050000</td>\n",
        "      <td> 126114.640000</td>\n",
        "      <td>          NaN</td>\n",
        "      <td>        NaN</td>\n",
        "      <td>          NaN</td>\n",
        "      <td>      NaN</td>\n",
        "      <td>NaN</td>\n",
        "    </tr>\n",
        "    <tr>\n",
        "      <th>1975</th>\n",
        "      <td>                                     Cost of Goods</td>\n",
        "      <td>                              NaN</td>\n",
        "      <td>NaN</td>\n",
        "      <td>              NaN</td>\n",
        "      <td>               NaN</td>\n",
        "      <td>                  NaN</td>\n",
        "      <td>                                               NaN</td>\n",
        "      <td> 3735.205000</td>\n",
        "      <td> 1322.500000</td>\n",
        "      <td> 20474.92600</td>\n",
        "      <td>...</td>\n",
        "      <td>  76465.040000</td>\n",
        "      <td>  96111.280000</td>\n",
        "      <td> 104147.750000</td>\n",
        "      <td> 133516.110000</td>\n",
        "      <td>  90883.050000</td>\n",
        "      <td>          NaN</td>\n",
        "      <td>        NaN</td>\n",
        "      <td>          NaN</td>\n",
        "      <td>      NaN</td>\n",
        "      <td>NaN</td>\n",
        "    </tr>\n",
        "    <tr>\n",
        "      <th>1976</th>\n",
        "      <td>                                      Gross Profit</td>\n",
        "      <td>                              NaN</td>\n",
        "      <td>NaN</td>\n",
        "      <td>              NaN</td>\n",
        "      <td>               NaN</td>\n",
        "      <td>                  NaN</td>\n",
        "      <td>                                               NaN</td>\n",
        "      <td>  958.330000</td>\n",
        "      <td>  273.125000</td>\n",
        "      <td>  7923.82400</td>\n",
        "      <td>...</td>\n",
        "      <td>  32527.510000</td>\n",
        "      <td>  37611.365000</td>\n",
        "      <td>  45298.850000</td>\n",
        "      <td>  54230.940000</td>\n",
        "      <td>  35231.590000</td>\n",
        "      <td>          NaN</td>\n",
        "      <td>        NaN</td>\n",
        "      <td>          NaN</td>\n",
        "      <td>      NaN</td>\n",
        "      <td>NaN</td>\n",
        "    </tr>\n",
        "    <tr>\n",
        "      <th>1977</th>\n",
        "      <td>                                            Margin</td>\n",
        "      <td>                              NaN</td>\n",
        "      <td>NaN</td>\n",
        "      <td>              NaN</td>\n",
        "      <td>               NaN</td>\n",
        "      <td>                  NaN</td>\n",
        "      <td>                                               NaN</td>\n",
        "      <td>    0.204181</td>\n",
        "      <td>    0.171171</td>\n",
        "      <td>     0.27902</td>\n",
        "      <td>...</td>\n",
        "      <td>      0.298438</td>\n",
        "      <td>      0.281264</td>\n",
        "      <td>      0.303111</td>\n",
        "      <td>      0.288851</td>\n",
        "      <td>      0.279362</td>\n",
        "      <td>          NaN</td>\n",
        "      <td>        NaN</td>\n",
        "      <td>          NaN</td>\n",
        "      <td>      NaN</td>\n",
        "      <td>NaN</td>\n",
        "    </tr>\n",
        "    <tr>\n",
        "      <th>1978</th>\n",
        "      <td>                                               Tax</td>\n",
        "      <td>                              NaN</td>\n",
        "      <td>NaN</td>\n",
        "      <td>              NaN</td>\n",
        "      <td>               NaN</td>\n",
        "      <td>                  NaN</td>\n",
        "      <td>                                               NaN</td>\n",
        "      <td>    0.000000</td>\n",
        "      <td>    0.000000</td>\n",
        "      <td>     0.00000</td>\n",
        "      <td>...</td>\n",
        "      <td>      0.000000</td>\n",
        "      <td>      0.000000</td>\n",
        "      <td>      0.000000</td>\n",
        "      <td>      0.000000</td>\n",
        "      <td>      0.000000</td>\n",
        "      <td>          NaN</td>\n",
        "      <td>        NaN</td>\n",
        "      <td>          NaN</td>\n",
        "      <td>      NaN</td>\n",
        "      <td>NaN</td>\n",
        "    </tr>\n",
        "  </tbody>\n",
        "</table>\n",
        "<p>1979 rows \u00d7 56 columns</p>\n",
        "</div>"
       ],
       "metadata": {},
       "output_type": "pyout",
       "prompt_number": 1,
       "text": [
        "                                                Product  \\\n",
        "0                     Quinoa ( white ) - organic / 454g   \n",
        "1                                 Chicken Breasts / 1kg   \n",
        "2                Chicken breast - Hormone free (frozen)   \n",
        "3                   Coconut oil (organic) - for cooking   \n",
        "4                                   Whole Chicken / 1kg   \n",
        "5                                     Beef Fillet / 1kg   \n",
        "6                                   Beef fillet (whole)   \n",
        "7                 Whole chicken - Hormone free (frozen)   \n",
        "8          Beef mince - no fat (chemical free) - frozen   \n",
        "9                   Coconut oil (organic) - for cooking   \n",
        "10                                Salmon steak (frozen)   \n",
        "11                           Cairo above 150 L.E orders   \n",
        "12                 Beef fillet (chemical free) - frozen   \n",
        "13                            Inside Cairo delivery fee   \n",
        "14                               Dried cranberry / 200g   \n",
        "15                         Veal Escalope (Biftek) / 1kg   \n",
        "16                                Maple syrup (organic)   \n",
        "17        Balady Whole Chicken(chemical free) / Default   \n",
        "18    Muesli with mixed berries, oat flakes, and see...   \n",
        "19    Bench press oats with apple and cinnamon ( wit...   \n",
        "20                  Beef cubes (chemical free) - frozen   \n",
        "21    Muesli with quinoa, amaranth, apple, seeds and...   \n",
        "22                                    Almond meal flour   \n",
        "23                                                Cairo   \n",
        "24                                 Chia seeds (organic)   \n",
        "25                                 Manuka honey (large)   \n",
        "26                                              Avocado   \n",
        "27                                  Avocados (imported)   \n",
        "28                                     Beef Mince / 1kg   \n",
        "29                                Balady eggs (organic)   \n",
        "...                                                 ...   \n",
        "1949                                 Sage ( aquaponic )   \n",
        "1950                                           Zucchini   \n",
        "1951                                  Mini French Brown   \n",
        "1952                               Spring Onions / 200g   \n",
        "1953                                        Honey Spoon   \n",
        "1954                                            Hot Dog   \n",
        "1955                   Oak leaf lettuce (chemical free)   \n",
        "1956                          Spearmint (chemical free)   \n",
        "1957                            Rosemary(chemical free)   \n",
        "1958                            Oregano (chemical free)   \n",
        "1959                         Mango aweys(chemical free)   \n",
        "1960                              Oat milk ( Original )   \n",
        "1961                                         Kaki Fruit   \n",
        "1962                 Broccoli Romanesco (chemical free)   \n",
        "1963                                      White cabbage   \n",
        "1964                                     Chinese garlic   \n",
        "1965                   Spelt Flakes - toasted (organic)   \n",
        "1966                               Rice milk (original)   \n",
        "1967                   Peanuts in shell (chemical free)   \n",
        "1968                  Red curly batavia (chemical free)   \n",
        "1969                       Guiltless oatmeal cookie mix   \n",
        "1970                               Traditional crackers   \n",
        "1971                          Moringa ( chemical free )   \n",
        "1972                    Mango alfonse ( Chemical free )   \n",
        "1973                                        Wild Morgan   \n",
        "1974                                            Revenue   \n",
        "1975                                      Cost of Goods   \n",
        "1976                                       Gross Profit   \n",
        "1977                                             Margin   \n",
        "1978                                                Tax   \n",
        "\n",
        "                                   SKU  Supplier Code             Brand  \\\n",
        "0                               106900            NaN  Eden Foods, Inc.   \n",
        "1                       ChickenBreasts            NaN               NGS   \n",
        "2                                80001            NaN               NGS   \n",
        "3                               101001            NaN               NaN   \n",
        "4                         WholeChicken            NaN               NGS   \n",
        "5                           BeefFillet            NaN               NGS   \n",
        "6                               151017            NaN               NGS   \n",
        "7                                80005            NaN               NGS   \n",
        "8                               151006            NaN               NGS   \n",
        "9         Coconutoilorganic-forcooking            NaN    Divine coconut   \n",
        "10                              451001            NaN               NaN   \n",
        "11               Cairoabove150LEorders            NaN           Freight   \n",
        "12                              151003            NaN               NGS   \n",
        "13              InsideCairodeliveryfee            NaN           Freight   \n",
        "14                      DriedCranberry            NaN               NGS   \n",
        "15                        VealEscalope            NaN               NGS   \n",
        "16                              281102            NaN               NaN   \n",
        "17    BaladyWholeChicken(Chemicalfree)            NaN               NaN   \n",
        "18                              221008            NaN               NaN   \n",
        "19                              221001            NaN               NaN   \n",
        "20                              151001            NaN               NGS   \n",
        "21                              221009            NaN               NaN   \n",
        "22                              281082            NaN               NaN   \n",
        "23                               Cairo            NaN           Freight   \n",
        "24                              221002            NaN               NaN   \n",
        "25                              281113            NaN               NaN   \n",
        "26                             Avocado            NaN        Kheir Misr   \n",
        "27                               20002            NaN               NGS   \n",
        "28                           BeefMince            NaN               NGS   \n",
        "29                              461002            NaN               NaN   \n",
        "...                                ...            ...               ...   \n",
        "1949                              Sage            NaN            Bustan   \n",
        "1950                          Zucchini            NaN               NGS   \n",
        "1951                   MiniFrenchBrown            NaN               NGS   \n",
        "1952                      SpringOnions            NaN               NGS   \n",
        "1953                            291009            NaN               NaN   \n",
        "1954                            HotDog            NaN               NGS   \n",
        "1955                            341028            NaN               NaN   \n",
        "1956                            461027            NaN               NaN   \n",
        "1957                            501032            NaN               NaN   \n",
        "1958                            501027            NaN               NaN   \n",
        "1959                            461015            NaN               NaN   \n",
        "1960                            161002            NaN               NaN   \n",
        "1961                            701021            NaN               NGS   \n",
        "1962                            341008            NaN               NaN   \n",
        "1963                             20039            NaN               NaN   \n",
        "1964                             20034            NaN               NaN   \n",
        "1965                            281179            NaN               NaN   \n",
        "1966                            161003            NaN               NaN   \n",
        "1967                            461022            NaN               NaN   \n",
        "1968                            341031            NaN               NaN   \n",
        "1969                            561001            NaN               NaN   \n",
        "1970                            201009            NaN               NaN   \n",
        "1971                            461020            NaN               NaN   \n",
        "1972                            461014            NaN               NaN   \n",
        "1973                             10004            NaN               NGS   \n",
        "1974                               NaN            NaN               NaN   \n",
        "1975                               NaN            NaN               NaN   \n",
        "1976                               NaN            NaN               NaN   \n",
        "1977                               NaN            NaN               NaN   \n",
        "1978                               NaN            NaN               NaN   \n",
        "\n",
        "               Supplier                  Type  \\\n",
        "0                    Hv                Grains   \n",
        "1                 Shahd         Fresh poultry   \n",
        "2                 Shahd               Poultry   \n",
        "3        Divine coconut                   Oil   \n",
        "4                 Shahd         Fresh poultry   \n",
        "5                 Shahd            Fresh beef   \n",
        "6             El rancho                  Beef   \n",
        "7                 Shahd               Poultry   \n",
        "8             El rancho                  Beef   \n",
        "9        Divine coconut                   Oil   \n",
        "10            Red Coral              Sea Food   \n",
        "11              Freight               General   \n",
        "12            El rancho                  Beef   \n",
        "13              Freight              Delivery   \n",
        "14                  Auf          Dried fruits   \n",
        "15                Shahd            Fresh veal   \n",
        "16                   Hv            Sweeteners   \n",
        "17               Tabiey               Poultry   \n",
        "18            Good life                Cereal   \n",
        "19            Good life                Cereal   \n",
        "20            El rancho                  Beef   \n",
        "21            Good life                Cereal   \n",
        "22                   Hv       Baking products   \n",
        "23              Freight               General   \n",
        "24            Good life                 Seeds   \n",
        "25                   Hv                 Honey   \n",
        "26                Rafic          Fresh fruits   \n",
        "27             Agrovate                Fruits   \n",
        "28                Shahd            Fresh beef   \n",
        "29            Sara nour                  Eggs   \n",
        "...                 ...                   ...   \n",
        "1949  Bustan aquaponics  Aquaponic vegetables   \n",
        "1950           Agrovate      Fresh vegetables   \n",
        "1951           Favorito           Bread&Bakry   \n",
        "1952              Offah         Fresh Produce   \n",
        "1953                IMN        Home appliance   \n",
        "1954           Favorito           Bread&Bakry   \n",
        "1955              MAKAR            Vegetables   \n",
        "1956          Sara nour             Beverages   \n",
        "1957             Tabiey                 Herbs   \n",
        "1958             Tabiey                 Herbs   \n",
        "1959          Sara nour                Fruits   \n",
        "1960          El_Ansary        Non-dairy milk   \n",
        "1961               Farm                Fruits   \n",
        "1962              MAKAR            Vegetables   \n",
        "1963           Agrovate            Vegetables   \n",
        "1964           Agrovate            Vegetables   \n",
        "1965                 Hv                Cereal   \n",
        "1966          El_Ansary        Non-dairy milk   \n",
        "1967          Sara nour                  Nuts   \n",
        "1968              MAKAR            Vegetables   \n",
        "1969          Signature       Baking products   \n",
        "1970        Food stores                Snacks   \n",
        "1971          Sara nour      Food supplements   \n",
        "1972          Sara nour                Fruits   \n",
        "1973                ABO              Sea Food   \n",
        "1974                NaN                   NaN   \n",
        "1975                NaN                   NaN   \n",
        "1976                NaN                   NaN   \n",
        "1977                NaN                   NaN   \n",
        "1978                NaN                   NaN   \n",
        "\n",
        "                                                    Tag     May 2012  \\\n",
        "0                                                   NaN     0.000000   \n",
        "1                                                   NaN     0.000000   \n",
        "2                                                Frozen     0.000000   \n",
        "3                          Super food, Weight loss, Oil     0.000000   \n",
        "4                                                   NaN     0.000000   \n",
        "5                                                   NaN     0.000000   \n",
        "6                                             Wholesale     0.000000   \n",
        "7                                                Frozen     0.000000   \n",
        "8                           Frozen, Chemical free, Beef     0.000000   \n",
        "9                                                   NaN     0.000000   \n",
        "10                                               Frozen     0.000000   \n",
        "11                                                  NaN     0.000000   \n",
        "12                          Frozen, Chemical free, Beef     0.000000   \n",
        "13                                                  NaN     0.000000   \n",
        "14                                                  NaN     0.000000   \n",
        "15                                                  NaN     0.000000   \n",
        "16                                  Organic, Sweeteners     0.000000   \n",
        "17                                Frozen, Chemical free     0.000000   \n",
        "18                                              Organic     0.000000   \n",
        "19                                     High performance     0.000000   \n",
        "20                          Frozen, Chemical free, Beef     0.000000   \n",
        "21                        High performance, gluten free     0.000000   \n",
        "22     Weight loss, gluten free, Vegan, Baking Products     0.000000   \n",
        "23                                                  NaN     0.000000   \n",
        "24                     Super food, Weight loss, Organic     0.000000   \n",
        "25    Organic, gluten free, Vegetarian, Honey & Swee...     0.000000   \n",
        "26                                                  NaN     0.000000   \n",
        "27                                                Fresh     0.000000   \n",
        "28                                                  NaN     0.000000   \n",
        "29                                        Organic, Eggs     0.000000   \n",
        "...                                                 ...          ...   \n",
        "1949                                                NaN     0.000000   \n",
        "1950                                                NaN     0.000000   \n",
        "1951                                                NaN     0.000000   \n",
        "1952                                                NaN     0.000000   \n",
        "1953                                  Kitchen equipment     0.000000   \n",
        "1954                                                NaN     0.000000   \n",
        "1955                              Chemical free, Greens     0.000000   \n",
        "1956                                 Chemical free, Tea     0.000000   \n",
        "1957                               Fresh, Chemical free     0.000000   \n",
        "1958                               Fresh, Chemical free     0.000000   \n",
        "1959                               Fresh, Chemical free     0.000000   \n",
        "1960                                            Organic     0.000000   \n",
        "1961                                  Fresh, High grade     0.000000   \n",
        "1962                               Fresh, Chemical free     0.000000   \n",
        "1963                                              Fresh     0.000000   \n",
        "1964                                              Fresh     0.000000   \n",
        "1965                                        Whole grain     0.000000   \n",
        "1966                                            Organic     0.000000   \n",
        "1967                                Nuts, Chemical free     0.000000   \n",
        "1968                              Chemical free, Greens     0.000000   \n",
        "1969                                 Whole grain, Flour     0.000000   \n",
        "1970                              Whole grain, Crackers     0.000000   \n",
        "1971                       Super food, High performance     0.000000   \n",
        "1972                               Fresh, Chemical free     0.000000   \n",
        "1973                                Local, Frozen, Fish     0.000000   \n",
        "1974                                                NaN  4693.535000   \n",
        "1975                                                NaN  3735.205000   \n",
        "1976                                                NaN   958.330000   \n",
        "1977                                                NaN     0.204181   \n",
        "1978                                                NaN     0.000000   \n",
        "\n",
        "         Jun 2012     Jul 2012 ...        Aug 2015       Sep 2015  \\\n",
        "0        0.000000      0.00000 ...        0.000000       0.000000   \n",
        "1        0.000000      0.00000 ...        0.000000       0.000000   \n",
        "2        0.000000      0.00000 ...     4686.945289    5240.381685   \n",
        "3        0.000000      0.00000 ...     4417.800000    3537.665409   \n",
        "4        0.000000      0.00000 ...        0.000000       0.000000   \n",
        "5        0.000000      0.00000 ...        0.000000       0.000000   \n",
        "6        0.000000      0.00000 ...        0.000000       0.000000   \n",
        "7        0.000000      0.00000 ...     1620.000000    1980.000000   \n",
        "8        0.000000      0.00000 ...     3038.000000    1550.000000   \n",
        "9        0.000000      0.00000 ...        0.000000       0.000000   \n",
        "10       0.000000      0.00000 ...     1588.043537    2963.600000   \n",
        "11       0.000000      0.00000 ...     2020.670198    1848.049762   \n",
        "12       0.000000      0.00000 ...     1640.310680    1862.000000   \n",
        "13       0.000000      0.00000 ...        0.000000       0.000000   \n",
        "14       0.000000      0.00000 ...        0.000000       0.000000   \n",
        "15       0.000000      0.00000 ...        0.000000       0.000000   \n",
        "16       0.000000      0.00000 ...     1536.000000    1056.000000   \n",
        "17       0.000000      0.00000 ...     2100.000000    2740.943396   \n",
        "18       0.000000      0.00000 ...      443.520000    2100.800000   \n",
        "19       0.000000      0.00000 ...      915.000000     312.000000   \n",
        "20       0.000000      0.00000 ...      682.000000    1736.000000   \n",
        "21       0.000000      0.00000 ...     1301.120000    2074.400000   \n",
        "22       0.000000      0.00000 ...     3168.000000    2296.800000   \n",
        "23       0.000000      0.00000 ...      987.374904    1698.236995   \n",
        "24       0.000000      0.00000 ...      490.000000     490.000000   \n",
        "25       0.000000      0.00000 ...     3280.000000    1640.000000   \n",
        "26       0.000000      0.00000 ...        0.000000       0.000000   \n",
        "27       0.000000      0.00000 ...     1153.000000    1972.000000   \n",
        "28       0.000000      0.00000 ...        0.000000       0.000000   \n",
        "29       0.000000      0.00000 ...     1272.000000    1296.000000   \n",
        "...           ...          ... ...             ...            ...   \n",
        "1949     0.000000      0.00000 ...        0.000000       0.000000   \n",
        "1950     0.000000      0.00000 ...        0.000000       0.000000   \n",
        "1951     0.000000      0.00000 ...        0.000000       0.000000   \n",
        "1952     0.000000      3.25000 ...        0.000000       0.000000   \n",
        "1953     0.000000      0.00000 ...        0.000000       0.000000   \n",
        "1954     0.000000      0.00000 ...        0.000000       0.000000   \n",
        "1955     0.000000      0.00000 ...        0.000000       0.000000   \n",
        "1956     0.000000      0.00000 ...        0.000000       0.000000   \n",
        "1957     0.000000      0.00000 ...        0.000000       0.000000   \n",
        "1958     0.000000      0.00000 ...        0.000000       0.000000   \n",
        "1959     0.000000      0.00000 ...        0.000000       0.000000   \n",
        "1960     0.000000      0.00000 ...        0.000000       0.000000   \n",
        "1961     0.000000      0.00000 ...        0.000000       0.000000   \n",
        "1962     0.000000      0.00000 ...        0.000000       0.000000   \n",
        "1963     0.000000      0.00000 ...        0.000000       0.000000   \n",
        "1964     0.000000      0.00000 ...        0.000000       0.000000   \n",
        "1965     0.000000      0.00000 ...        0.000000       0.000000   \n",
        "1966     0.000000      0.00000 ...        0.000000       0.000000   \n",
        "1967     0.000000      0.00000 ...        0.000000       0.000000   \n",
        "1968     0.000000      0.00000 ...        0.000000       0.000000   \n",
        "1969     0.000000      0.00000 ...        0.000000       0.000000   \n",
        "1970     0.000000      0.00000 ...       33.000000       0.000000   \n",
        "1971     0.000000      0.00000 ...        0.000000       0.000000   \n",
        "1972     0.000000      0.00000 ...        0.000000       0.000000   \n",
        "1973     0.000000      0.00000 ...        0.000000       0.000000   \n",
        "1974  1595.625000  28398.75000 ...   108992.550000  133722.645000   \n",
        "1975  1322.500000  20474.92600 ...    76465.040000   96111.280000   \n",
        "1976   273.125000   7923.82400 ...    32527.510000   37611.365000   \n",
        "1977     0.171171      0.27902 ...        0.298438       0.281264   \n",
        "1978     0.000000      0.00000 ...        0.000000       0.000000   \n",
        "\n",
        "           Oct 2015       Nov 2015       Dec 2015       Revenue  \\\n",
        "0          0.000000       0.000000       0.000000  62300.960000   \n",
        "1          0.000000       0.000000       0.000000  59336.960000   \n",
        "2       7792.745465    7767.317151    7137.251022  49308.067962   \n",
        "3       4277.338577    8850.907080    4732.163715  41089.779935   \n",
        "4          0.000000       0.000000       0.000000  40680.500000   \n",
        "5          0.000000       0.000000       0.000000  25178.217820   \n",
        "6          0.000000       0.000000       0.000000  23672.175800   \n",
        "7       4080.421348    2629.084098    2763.917338  23442.922784   \n",
        "8        973.594969    2503.863746    2558.649903  22389.239270   \n",
        "9          0.000000       0.000000       0.000000  20635.000000   \n",
        "10      2759.000000    3388.875700    2576.113136  19233.832374   \n",
        "11      2586.345982    2991.765426    1699.753162  19054.634183   \n",
        "12      2833.115336    1625.576253    3942.408042  18928.772120   \n",
        "13         0.000000       0.000000       0.000000  18207.761412   \n",
        "14         0.000000       0.000000       0.000000  17477.037000   \n",
        "15         0.000000       0.000000       0.000000  14144.000000   \n",
        "16      1905.600000    1769.074793    1045.000000  13998.773205   \n",
        "17      2200.000000    1880.229340    2112.243645  13683.416381   \n",
        "18         0.000000       0.000000       0.000000  13160.394745   \n",
        "19         0.000000       0.000000       0.000000  12951.959594   \n",
        "20       868.000000    1642.134626    2241.968114  12883.277837   \n",
        "21         0.000000       0.000000       0.000000  12819.304745   \n",
        "22      1716.000000    3892.412286     -15.575221  12723.237064   \n",
        "23      1903.656250    2165.138042    1520.730987  12565.137179   \n",
        "24       392.000000      98.000000       0.000000  12487.056000   \n",
        "25      4592.000000    1968.000000     656.000000  12136.000000   \n",
        "26         0.000000       0.000000       0.000000  12049.565673   \n",
        "27      1713.832082    1748.572824    1488.005413  12025.410318   \n",
        "28         0.000000       0.000000       0.000000  11978.320000   \n",
        "29      1776.000000    2019.300135     987.540126  11724.840261   \n",
        "...             ...            ...            ...           ...   \n",
        "1949       0.000000       0.000000       0.000000      5.000000   \n",
        "1950       0.000000       0.000000       0.000000      5.000000   \n",
        "1951       0.000000       0.000000       0.000000      4.500000   \n",
        "1952       0.000000       0.000000       0.000000      3.250000   \n",
        "1953       0.000000       0.000000       0.000000      3.000000   \n",
        "1954       0.000000       0.000000       0.000000      2.500000   \n",
        "1955       0.000000       0.000000       0.000000      0.000000   \n",
        "1956       0.000000       0.000000       0.000000      0.000000   \n",
        "1957       0.000000       0.000000       0.000000      0.000000   \n",
        "1958       0.000000       0.000000       0.000000      0.000000   \n",
        "1959       0.000000       0.000000       0.000000      0.000000   \n",
        "1960       0.000000       0.000000       0.000000      0.000000   \n",
        "1961       0.000000       0.000000       0.000000      0.000000   \n",
        "1962       0.000000       0.000000       0.000000      0.000000   \n",
        "1963       0.000000       0.000000       0.000000      0.000000   \n",
        "1964       0.000000       0.000000       0.000000      0.000000   \n",
        "1965       0.000000       0.000000       0.000000      0.000000   \n",
        "1966       0.000000       0.000000       0.000000      0.000000   \n",
        "1967       0.000000       0.000000       0.000000      0.000000   \n",
        "1968       0.000000       0.000000       0.000000      0.000000   \n",
        "1969       0.000000       0.000000       0.000000      0.000000   \n",
        "1970       0.000000       0.000000       0.000000      0.000000   \n",
        "1971       0.000000       0.000000       0.000000      0.000000   \n",
        "1972       0.000000       0.000000       0.000000      0.000000   \n",
        "1973       0.000000       0.000000       0.000000      0.000000   \n",
        "1974  149446.600000  187747.050000  126114.640000           NaN   \n",
        "1975  104147.750000  133516.110000   90883.050000           NaN   \n",
        "1976   45298.850000   54230.940000   35231.590000           NaN   \n",
        "1977       0.303111       0.288851       0.279362           NaN   \n",
        "1978       0.000000       0.000000       0.000000           NaN   \n",
        "\n",
        "      Cost of Goods  Gross Profit    Margin  Tax  \n",
        "0        51333.7400  10967.220000  0.176036    0  \n",
        "1        45182.0000  14154.960000  0.238552    0  \n",
        "2        35058.6400  14249.427962  0.288988    0  \n",
        "3        31472.0000   9617.779935  0.234067    0  \n",
        "4        31340.3000   9340.200000  0.229599    0  \n",
        "5        17442.5000   7735.717820  0.307238    0  \n",
        "6        20129.1750   3543.000800  0.149669    0  \n",
        "7        16012.0300   7430.892784  0.316978    0  \n",
        "8        15856.7200   6532.519270  0.291770    0  \n",
        "9        15696.2500   4938.750000  0.239339    0  \n",
        "10       12720.0000   6513.832374  0.338665    0  \n",
        "11           0.0000  19054.634183  1.000000    0  \n",
        "12       14141.3500   4787.422120  0.252918    0  \n",
        "13        2200.0000  16007.761412  0.879172    0  \n",
        "14        7520.0075   9957.029500  0.569721    0  \n",
        "15       10845.0000   3299.000000  0.233244    0  \n",
        "16       10578.2500   3420.523205  0.244344    0  \n",
        "17       11080.0000   2603.416381  0.190261    0  \n",
        "18        9057.6000   4102.794745  0.311753    0  \n",
        "19        7935.4800   5016.479594  0.387314    0  \n",
        "20        9354.0300   3529.247837  0.273940    0  \n",
        "21        9605.5200   3213.784745  0.250699    0  \n",
        "22       10092.7700   2630.467064  0.206745    0  \n",
        "23           0.0000  12565.137179  1.000000    0  \n",
        "24        6761.6400   5725.416000  0.458508    0  \n",
        "25        9111.8400   3024.160000  0.249189    0  \n",
        "26       10095.1100   1954.455673  0.162201    0  \n",
        "27        8511.1900   3514.220318  0.292233    0  \n",
        "28        9229.8600   2748.460000  0.229453    0  \n",
        "29        8785.0000   2939.840261  0.250736    0  \n",
        "...             ...           ...       ...  ...  \n",
        "1949         3.5000      1.500000  0.300000    0  \n",
        "1950         3.7500      1.250000  0.250000    0  \n",
        "1951         0.0000      4.500000  1.000000    0  \n",
        "1952         2.5000      0.750000  0.230769    0  \n",
        "1953         1.3500      1.650000  0.550000    0  \n",
        "1954         0.0000      2.500000  1.000000    0  \n",
        "1955         0.0000      0.000000  0.000000    0  \n",
        "1956         0.0000      0.000000  0.000000    0  \n",
        "1957         0.0000      0.000000  0.000000    0  \n",
        "1958         0.0000      0.000000  0.000000    0  \n",
        "1959         0.0000      0.000000  0.000000    0  \n",
        "1960         0.0000      0.000000  0.000000    0  \n",
        "1961         0.0000      0.000000  0.000000    0  \n",
        "1962         0.0000      0.000000  0.000000    0  \n",
        "1963         0.0000      0.000000  0.000000    0  \n",
        "1964         0.0000      0.000000  0.000000    0  \n",
        "1965         0.0000      0.000000  0.000000    0  \n",
        "1966         0.0000      0.000000  0.000000    0  \n",
        "1967         0.0000      0.000000  0.000000    0  \n",
        "1968         0.0000      0.000000  0.000000    0  \n",
        "1969       -40.0000     40.000000  0.000000    0  \n",
        "1970         0.0000      0.000000  0.000000    0  \n",
        "1971         0.0000      0.000000  0.000000    0  \n",
        "1972         0.0000      0.000000  0.000000    0  \n",
        "1973         0.0000      0.000000  0.000000    0  \n",
        "1974            NaN           NaN       NaN  NaN  \n",
        "1975            NaN           NaN       NaN  NaN  \n",
        "1976            NaN           NaN       NaN  NaN  \n",
        "1977            NaN           NaN       NaN  NaN  \n",
        "1978            NaN           NaN       NaN  NaN  \n",
        "\n",
        "[1979 rows x 56 columns]"
       ]
      }
     ],
     "prompt_number": 1
    },
    {
     "cell_type": "code",
     "collapsed": false,
     "input": [
      "df = df[[0,3,5]+range(7,len(df.columns)-5)]#reqd columns\n",
      "df = df[:max(df.index)-4] #reqd rows\n",
      "\n",
      "#remove null products, change to upper case\n",
      "df = df[pd.notnull(df['Product'])]\n",
      "df['Product'] = df['Product'].apply(lambda x: x.upper())\n",
      "df"
     ],
     "language": "python",
     "metadata": {},
     "outputs": [
      {
       "html": [
        "<div style=\"max-height:1000px;max-width:1500px;overflow:auto;\">\n",
        "<table border=\"1\" class=\"dataframe\">\n",
        "  <thead>\n",
        "    <tr style=\"text-align: right;\">\n",
        "      <th></th>\n",
        "      <th>Product</th>\n",
        "      <th>Brand</th>\n",
        "      <th>Type</th>\n",
        "      <th>May 2012</th>\n",
        "      <th>Jun 2012</th>\n",
        "      <th>Jul 2012</th>\n",
        "      <th>Aug 2012</th>\n",
        "      <th>Sep 2012</th>\n",
        "      <th>Oct 2012</th>\n",
        "      <th>Nov 2012</th>\n",
        "      <th>...</th>\n",
        "      <th>Mar 2015</th>\n",
        "      <th>Apr 2015</th>\n",
        "      <th>May 2015</th>\n",
        "      <th>Jun 2015</th>\n",
        "      <th>Jul 2015</th>\n",
        "      <th>Aug 2015</th>\n",
        "      <th>Sep 2015</th>\n",
        "      <th>Oct 2015</th>\n",
        "      <th>Nov 2015</th>\n",
        "      <th>Dec 2015</th>\n",
        "    </tr>\n",
        "  </thead>\n",
        "  <tbody>\n",
        "    <tr>\n",
        "      <th>0   </th>\n",
        "      <td>                 QUINOA ( WHITE ) - ORGANIC / 454G</td>\n",
        "      <td> Eden Foods, Inc.</td>\n",
        "      <td>                   Grains</td>\n",
        "      <td> 0</td>\n",
        "      <td> 0</td>\n",
        "      <td> 0.00</td>\n",
        "      <td> 0</td>\n",
        "      <td> 0</td>\n",
        "      <td> 0</td>\n",
        "      <td> 0</td>\n",
        "      <td>...</td>\n",
        "      <td> 0</td>\n",
        "      <td>   0.0</td>\n",
        "      <td>     0.000</td>\n",
        "      <td>    0.000000</td>\n",
        "      <td>    0.000000</td>\n",
        "      <td>    0.000000</td>\n",
        "      <td>    0.000000</td>\n",
        "      <td>    0.000000</td>\n",
        "      <td>    0.000000</td>\n",
        "      <td>    0.000000</td>\n",
        "    </tr>\n",
        "    <tr>\n",
        "      <th>1   </th>\n",
        "      <td>                             CHICKEN BREASTS / 1KG</td>\n",
        "      <td>              NGS</td>\n",
        "      <td>            Fresh poultry</td>\n",
        "      <td> 0</td>\n",
        "      <td> 0</td>\n",
        "      <td> 0.00</td>\n",
        "      <td> 0</td>\n",
        "      <td> 0</td>\n",
        "      <td> 0</td>\n",
        "      <td> 0</td>\n",
        "      <td>...</td>\n",
        "      <td> 0</td>\n",
        "      <td>   0.0</td>\n",
        "      <td>     0.000</td>\n",
        "      <td>    0.000000</td>\n",
        "      <td>    0.000000</td>\n",
        "      <td>    0.000000</td>\n",
        "      <td>    0.000000</td>\n",
        "      <td>    0.000000</td>\n",
        "      <td>    0.000000</td>\n",
        "      <td>    0.000000</td>\n",
        "    </tr>\n",
        "    <tr>\n",
        "      <th>2   </th>\n",
        "      <td>            CHICKEN BREAST - HORMONE FREE (FROZEN)</td>\n",
        "      <td>              NGS</td>\n",
        "      <td>                  Poultry</td>\n",
        "      <td> 0</td>\n",
        "      <td> 0</td>\n",
        "      <td> 0.00</td>\n",
        "      <td> 0</td>\n",
        "      <td> 0</td>\n",
        "      <td> 0</td>\n",
        "      <td> 0</td>\n",
        "      <td>...</td>\n",
        "      <td> 0</td>\n",
        "      <td>  56.0</td>\n",
        "      <td> 10976.000</td>\n",
        "      <td> 3862.427350</td>\n",
        "      <td> 1789.000000</td>\n",
        "      <td> 4686.945289</td>\n",
        "      <td> 5240.381685</td>\n",
        "      <td> 7792.745465</td>\n",
        "      <td> 7767.317151</td>\n",
        "      <td> 7137.251022</td>\n",
        "    </tr>\n",
        "    <tr>\n",
        "      <th>3   </th>\n",
        "      <td>               COCONUT OIL (ORGANIC) - FOR COOKING</td>\n",
        "      <td>              NaN</td>\n",
        "      <td>                      Oil</td>\n",
        "      <td> 0</td>\n",
        "      <td> 0</td>\n",
        "      <td> 0.00</td>\n",
        "      <td> 0</td>\n",
        "      <td> 0</td>\n",
        "      <td> 0</td>\n",
        "      <td> 0</td>\n",
        "      <td>...</td>\n",
        "      <td> 0</td>\n",
        "      <td> 592.0</td>\n",
        "      <td>  9916.000</td>\n",
        "      <td> 2560.400000</td>\n",
        "      <td> 2205.505155</td>\n",
        "      <td> 4417.800000</td>\n",
        "      <td> 3537.665409</td>\n",
        "      <td> 4277.338577</td>\n",
        "      <td> 8850.907080</td>\n",
        "      <td> 4732.163715</td>\n",
        "    </tr>\n",
        "    <tr>\n",
        "      <th>4   </th>\n",
        "      <td>                               WHOLE CHICKEN / 1KG</td>\n",
        "      <td>              NGS</td>\n",
        "      <td>            Fresh poultry</td>\n",
        "      <td> 0</td>\n",
        "      <td> 0</td>\n",
        "      <td> 0.00</td>\n",
        "      <td> 0</td>\n",
        "      <td> 0</td>\n",
        "      <td> 0</td>\n",
        "      <td> 0</td>\n",
        "      <td>...</td>\n",
        "      <td> 0</td>\n",
        "      <td>   0.0</td>\n",
        "      <td>     0.000</td>\n",
        "      <td>    0.000000</td>\n",
        "      <td>    0.000000</td>\n",
        "      <td>    0.000000</td>\n",
        "      <td>    0.000000</td>\n",
        "      <td>    0.000000</td>\n",
        "      <td>    0.000000</td>\n",
        "      <td>    0.000000</td>\n",
        "    </tr>\n",
        "    <tr>\n",
        "      <th>5   </th>\n",
        "      <td>                                 BEEF FILLET / 1KG</td>\n",
        "      <td>              NGS</td>\n",
        "      <td>               Fresh beef</td>\n",
        "      <td> 0</td>\n",
        "      <td> 0</td>\n",
        "      <td> 0.00</td>\n",
        "      <td> 0</td>\n",
        "      <td> 0</td>\n",
        "      <td> 0</td>\n",
        "      <td> 0</td>\n",
        "      <td>...</td>\n",
        "      <td> 0</td>\n",
        "      <td>   0.0</td>\n",
        "      <td>     0.000</td>\n",
        "      <td>    0.000000</td>\n",
        "      <td>    0.000000</td>\n",
        "      <td>    0.000000</td>\n",
        "      <td>    0.000000</td>\n",
        "      <td>    0.000000</td>\n",
        "      <td>    0.000000</td>\n",
        "      <td>    0.000000</td>\n",
        "    </tr>\n",
        "    <tr>\n",
        "      <th>6   </th>\n",
        "      <td>                               BEEF FILLET (WHOLE)</td>\n",
        "      <td>              NGS</td>\n",
        "      <td>                     Beef</td>\n",
        "      <td> 0</td>\n",
        "      <td> 0</td>\n",
        "      <td> 0.00</td>\n",
        "      <td> 0</td>\n",
        "      <td> 0</td>\n",
        "      <td> 0</td>\n",
        "      <td> 0</td>\n",
        "      <td>...</td>\n",
        "      <td> 0</td>\n",
        "      <td>   0.0</td>\n",
        "      <td> 21314.990</td>\n",
        "      <td> 2357.185800</td>\n",
        "      <td>    0.000000</td>\n",
        "      <td>    0.000000</td>\n",
        "      <td>    0.000000</td>\n",
        "      <td>    0.000000</td>\n",
        "      <td>    0.000000</td>\n",
        "      <td>    0.000000</td>\n",
        "    </tr>\n",
        "    <tr>\n",
        "      <th>7   </th>\n",
        "      <td>             WHOLE CHICKEN - HORMONE FREE (FROZEN)</td>\n",
        "      <td>              NGS</td>\n",
        "      <td>                  Poultry</td>\n",
        "      <td> 0</td>\n",
        "      <td> 0</td>\n",
        "      <td> 0.00</td>\n",
        "      <td> 0</td>\n",
        "      <td> 0</td>\n",
        "      <td> 0</td>\n",
        "      <td> 0</td>\n",
        "      <td>...</td>\n",
        "      <td> 0</td>\n",
        "      <td>   0.0</td>\n",
        "      <td>  6132.000</td>\n",
        "      <td> 2977.500000</td>\n",
        "      <td> 1260.000000</td>\n",
        "      <td> 1620.000000</td>\n",
        "      <td> 1980.000000</td>\n",
        "      <td> 4080.421348</td>\n",
        "      <td> 2629.084098</td>\n",
        "      <td> 2763.917338</td>\n",
        "    </tr>\n",
        "    <tr>\n",
        "      <th>8   </th>\n",
        "      <td>      BEEF MINCE - NO FAT (CHEMICAL FREE) - FROZEN</td>\n",
        "      <td>              NGS</td>\n",
        "      <td>                     Beef</td>\n",
        "      <td> 0</td>\n",
        "      <td> 0</td>\n",
        "      <td> 0.00</td>\n",
        "      <td> 0</td>\n",
        "      <td> 0</td>\n",
        "      <td> 0</td>\n",
        "      <td> 0</td>\n",
        "      <td>...</td>\n",
        "      <td> 0</td>\n",
        "      <td>   0.0</td>\n",
        "      <td>  5684.000</td>\n",
        "      <td> 3491.400000</td>\n",
        "      <td> 2589.730653</td>\n",
        "      <td> 3038.000000</td>\n",
        "      <td> 1550.000000</td>\n",
        "      <td>  973.594969</td>\n",
        "      <td> 2503.863746</td>\n",
        "      <td> 2558.649903</td>\n",
        "    </tr>\n",
        "    <tr>\n",
        "      <th>9   </th>\n",
        "      <td>               COCONUT OIL (ORGANIC) - FOR COOKING</td>\n",
        "      <td>   Divine coconut</td>\n",
        "      <td>                      Oil</td>\n",
        "      <td> 0</td>\n",
        "      <td> 0</td>\n",
        "      <td> 0.00</td>\n",
        "      <td> 0</td>\n",
        "      <td> 0</td>\n",
        "      <td> 0</td>\n",
        "      <td> 0</td>\n",
        "      <td>...</td>\n",
        "      <td> 0</td>\n",
        "      <td>   0.0</td>\n",
        "      <td>     0.000</td>\n",
        "      <td>    0.000000</td>\n",
        "      <td>    0.000000</td>\n",
        "      <td>    0.000000</td>\n",
        "      <td>    0.000000</td>\n",
        "      <td>    0.000000</td>\n",
        "      <td>    0.000000</td>\n",
        "      <td>    0.000000</td>\n",
        "    </tr>\n",
        "    <tr>\n",
        "      <th>10  </th>\n",
        "      <td>                             SALMON STEAK (FROZEN)</td>\n",
        "      <td>              NaN</td>\n",
        "      <td>                 Sea Food</td>\n",
        "      <td> 0</td>\n",
        "      <td> 0</td>\n",
        "      <td> 0.00</td>\n",
        "      <td> 0</td>\n",
        "      <td> 0</td>\n",
        "      <td> 0</td>\n",
        "      <td> 0</td>\n",
        "      <td>...</td>\n",
        "      <td> 0</td>\n",
        "      <td>   0.0</td>\n",
        "      <td>  3038.000</td>\n",
        "      <td> 1556.200000</td>\n",
        "      <td> 1364.000000</td>\n",
        "      <td> 1588.043537</td>\n",
        "      <td> 2963.600000</td>\n",
        "      <td> 2759.000000</td>\n",
        "      <td> 3388.875700</td>\n",
        "      <td> 2576.113136</td>\n",
        "    </tr>\n",
        "    <tr>\n",
        "      <th>11  </th>\n",
        "      <td>                        CAIRO ABOVE 150 L.E ORDERS</td>\n",
        "      <td>          Freight</td>\n",
        "      <td>                  General</td>\n",
        "      <td> 0</td>\n",
        "      <td> 0</td>\n",
        "      <td> 0.00</td>\n",
        "      <td> 0</td>\n",
        "      <td> 0</td>\n",
        "      <td> 0</td>\n",
        "      <td> 0</td>\n",
        "      <td>...</td>\n",
        "      <td> 0</td>\n",
        "      <td> 185.0</td>\n",
        "      <td>  4660.000</td>\n",
        "      <td> 2082.624782</td>\n",
        "      <td>  980.424870</td>\n",
        "      <td> 2020.670198</td>\n",
        "      <td> 1848.049762</td>\n",
        "      <td> 2586.345982</td>\n",
        "      <td> 2991.765426</td>\n",
        "      <td> 1699.753162</td>\n",
        "    </tr>\n",
        "    <tr>\n",
        "      <th>12  </th>\n",
        "      <td>              BEEF FILLET (CHEMICAL FREE) - FROZEN</td>\n",
        "      <td>              NGS</td>\n",
        "      <td>                     Beef</td>\n",
        "      <td> 0</td>\n",
        "      <td> 0</td>\n",
        "      <td> 0.00</td>\n",
        "      <td> 0</td>\n",
        "      <td> 0</td>\n",
        "      <td> 0</td>\n",
        "      <td> 0</td>\n",
        "      <td>...</td>\n",
        "      <td> 0</td>\n",
        "      <td> 178.8</td>\n",
        "      <td>  2342.600</td>\n",
        "      <td> 1587.600000</td>\n",
        "      <td> 2916.361809</td>\n",
        "      <td> 1640.310680</td>\n",
        "      <td> 1862.000000</td>\n",
        "      <td> 2833.115336</td>\n",
        "      <td> 1625.576253</td>\n",
        "      <td> 3942.408042</td>\n",
        "    </tr>\n",
        "    <tr>\n",
        "      <th>13  </th>\n",
        "      <td>                         INSIDE CAIRO DELIVERY FEE</td>\n",
        "      <td>          Freight</td>\n",
        "      <td>                 Delivery</td>\n",
        "      <td> 0</td>\n",
        "      <td> 0</td>\n",
        "      <td> 0.00</td>\n",
        "      <td> 0</td>\n",
        "      <td> 0</td>\n",
        "      <td> 0</td>\n",
        "      <td> 0</td>\n",
        "      <td>...</td>\n",
        "      <td> 0</td>\n",
        "      <td>   0.0</td>\n",
        "      <td>     0.000</td>\n",
        "      <td>    0.000000</td>\n",
        "      <td>    0.000000</td>\n",
        "      <td>    0.000000</td>\n",
        "      <td>    0.000000</td>\n",
        "      <td>    0.000000</td>\n",
        "      <td>    0.000000</td>\n",
        "      <td>    0.000000</td>\n",
        "    </tr>\n",
        "    <tr>\n",
        "      <th>14  </th>\n",
        "      <td>                            DRIED CRANBERRY / 200G</td>\n",
        "      <td>              NGS</td>\n",
        "      <td>             Dried fruits</td>\n",
        "      <td> 0</td>\n",
        "      <td> 0</td>\n",
        "      <td> 0.00</td>\n",
        "      <td> 0</td>\n",
        "      <td> 0</td>\n",
        "      <td> 0</td>\n",
        "      <td> 0</td>\n",
        "      <td>...</td>\n",
        "      <td> 0</td>\n",
        "      <td>   0.0</td>\n",
        "      <td>     0.000</td>\n",
        "      <td>    0.000000</td>\n",
        "      <td>    0.000000</td>\n",
        "      <td>    0.000000</td>\n",
        "      <td>    0.000000</td>\n",
        "      <td>    0.000000</td>\n",
        "      <td>    0.000000</td>\n",
        "      <td>    0.000000</td>\n",
        "    </tr>\n",
        "    <tr>\n",
        "      <th>15  </th>\n",
        "      <td>                      VEAL ESCALOPE (BIFTEK) / 1KG</td>\n",
        "      <td>              NGS</td>\n",
        "      <td>               Fresh veal</td>\n",
        "      <td> 0</td>\n",
        "      <td> 0</td>\n",
        "      <td> 0.00</td>\n",
        "      <td> 0</td>\n",
        "      <td> 0</td>\n",
        "      <td> 0</td>\n",
        "      <td> 0</td>\n",
        "      <td>...</td>\n",
        "      <td> 0</td>\n",
        "      <td>   0.0</td>\n",
        "      <td>     0.000</td>\n",
        "      <td>    0.000000</td>\n",
        "      <td>    0.000000</td>\n",
        "      <td>    0.000000</td>\n",
        "      <td>    0.000000</td>\n",
        "      <td>    0.000000</td>\n",
        "      <td>    0.000000</td>\n",
        "      <td>    0.000000</td>\n",
        "    </tr>\n",
        "    <tr>\n",
        "      <th>16  </th>\n",
        "      <td>                             MAPLE SYRUP (ORGANIC)</td>\n",
        "      <td>              NaN</td>\n",
        "      <td>               Sweeteners</td>\n",
        "      <td> 0</td>\n",
        "      <td> 0</td>\n",
        "      <td> 0.00</td>\n",
        "      <td> 0</td>\n",
        "      <td> 0</td>\n",
        "      <td> 0</td>\n",
        "      <td> 0</td>\n",
        "      <td>...</td>\n",
        "      <td> 0</td>\n",
        "      <td>  96.0</td>\n",
        "      <td>  4416.000</td>\n",
        "      <td> 1896.500474</td>\n",
        "      <td>  278.597938</td>\n",
        "      <td> 1536.000000</td>\n",
        "      <td> 1056.000000</td>\n",
        "      <td> 1905.600000</td>\n",
        "      <td> 1769.074793</td>\n",
        "      <td> 1045.000000</td>\n",
        "    </tr>\n",
        "    <tr>\n",
        "      <th>17  </th>\n",
        "      <td>     BALADY WHOLE CHICKEN(CHEMICAL FREE) / DEFAULT</td>\n",
        "      <td>              NaN</td>\n",
        "      <td>                  Poultry</td>\n",
        "      <td> 0</td>\n",
        "      <td> 0</td>\n",
        "      <td> 0.00</td>\n",
        "      <td> 0</td>\n",
        "      <td> 0</td>\n",
        "      <td> 0</td>\n",
        "      <td> 0</td>\n",
        "      <td>...</td>\n",
        "      <td> 0</td>\n",
        "      <td>   0.0</td>\n",
        "      <td>  1850.000</td>\n",
        "      <td>  -50.000000</td>\n",
        "      <td>  850.000000</td>\n",
        "      <td> 2100.000000</td>\n",
        "      <td> 2740.943396</td>\n",
        "      <td> 2200.000000</td>\n",
        "      <td> 1880.229340</td>\n",
        "      <td> 2112.243645</td>\n",
        "    </tr>\n",
        "    <tr>\n",
        "      <th>18  </th>\n",
        "      <td> MUESLI WITH MIXED BERRIES, OAT FLAKES, AND SEE...</td>\n",
        "      <td>              NaN</td>\n",
        "      <td>                   Cereal</td>\n",
        "      <td> 0</td>\n",
        "      <td> 0</td>\n",
        "      <td> 0.00</td>\n",
        "      <td> 0</td>\n",
        "      <td> 0</td>\n",
        "      <td> 0</td>\n",
        "      <td> 0</td>\n",
        "      <td>...</td>\n",
        "      <td> 0</td>\n",
        "      <td> 136.0</td>\n",
        "      <td>  3649.225</td>\n",
        "      <td> 5540.825000</td>\n",
        "      <td> 1290.024745</td>\n",
        "      <td>  443.520000</td>\n",
        "      <td> 2100.800000</td>\n",
        "      <td>    0.000000</td>\n",
        "      <td>    0.000000</td>\n",
        "      <td>    0.000000</td>\n",
        "    </tr>\n",
        "    <tr>\n",
        "      <th>19  </th>\n",
        "      <td> BENCH PRESS OATS WITH APPLE AND CINNAMON ( WIT...</td>\n",
        "      <td>              NaN</td>\n",
        "      <td>                   Cereal</td>\n",
        "      <td> 0</td>\n",
        "      <td> 0</td>\n",
        "      <td> 0.00</td>\n",
        "      <td> 0</td>\n",
        "      <td> 0</td>\n",
        "      <td> 0</td>\n",
        "      <td> 0</td>\n",
        "      <td>...</td>\n",
        "      <td> 0</td>\n",
        "      <td>  96.0</td>\n",
        "      <td>  4021.120</td>\n",
        "      <td> 5845.440000</td>\n",
        "      <td> 1762.399594</td>\n",
        "      <td>  915.000000</td>\n",
        "      <td>  312.000000</td>\n",
        "      <td>    0.000000</td>\n",
        "      <td>    0.000000</td>\n",
        "      <td>    0.000000</td>\n",
        "    </tr>\n",
        "    <tr>\n",
        "      <th>20  </th>\n",
        "      <td>               BEEF CUBES (CHEMICAL FREE) - FROZEN</td>\n",
        "      <td>              NGS</td>\n",
        "      <td>                     Beef</td>\n",
        "      <td> 0</td>\n",
        "      <td> 0</td>\n",
        "      <td> 0.00</td>\n",
        "      <td> 0</td>\n",
        "      <td> 0</td>\n",
        "      <td> 0</td>\n",
        "      <td> 0</td>\n",
        "      <td>...</td>\n",
        "      <td> 0</td>\n",
        "      <td>   0.0</td>\n",
        "      <td>  2494.000</td>\n",
        "      <td> 2790.000000</td>\n",
        "      <td>  429.175097</td>\n",
        "      <td>  682.000000</td>\n",
        "      <td> 1736.000000</td>\n",
        "      <td>  868.000000</td>\n",
        "      <td> 1642.134626</td>\n",
        "      <td> 2241.968114</td>\n",
        "    </tr>\n",
        "    <tr>\n",
        "      <th>21  </th>\n",
        "      <td> MUESLI WITH QUINOA, AMARANTH, APPLE, SEEDS AND...</td>\n",
        "      <td>              NaN</td>\n",
        "      <td>                   Cereal</td>\n",
        "      <td> 0</td>\n",
        "      <td> 0</td>\n",
        "      <td> 0.00</td>\n",
        "      <td> 0</td>\n",
        "      <td> 0</td>\n",
        "      <td> 0</td>\n",
        "      <td> 0</td>\n",
        "      <td>...</td>\n",
        "      <td> 0</td>\n",
        "      <td>   0.0</td>\n",
        "      <td>  3382.285</td>\n",
        "      <td> 4682.125000</td>\n",
        "      <td> 1379.374745</td>\n",
        "      <td> 1301.120000</td>\n",
        "      <td> 2074.400000</td>\n",
        "      <td>    0.000000</td>\n",
        "      <td>    0.000000</td>\n",
        "      <td>    0.000000</td>\n",
        "    </tr>\n",
        "    <tr>\n",
        "      <th>22  </th>\n",
        "      <td>                                 ALMOND MEAL FLOUR</td>\n",
        "      <td>              NaN</td>\n",
        "      <td>          Baking products</td>\n",
        "      <td> 0</td>\n",
        "      <td> 0</td>\n",
        "      <td> 0.00</td>\n",
        "      <td> 0</td>\n",
        "      <td> 0</td>\n",
        "      <td> 0</td>\n",
        "      <td> 0</td>\n",
        "      <td>...</td>\n",
        "      <td> 0</td>\n",
        "      <td>   0.0</td>\n",
        "      <td>   504.000</td>\n",
        "      <td>    0.000000</td>\n",
        "      <td> 1161.600000</td>\n",
        "      <td> 3168.000000</td>\n",
        "      <td> 2296.800000</td>\n",
        "      <td> 1716.000000</td>\n",
        "      <td> 3892.412286</td>\n",
        "      <td>  -15.575221</td>\n",
        "    </tr>\n",
        "    <tr>\n",
        "      <th>23  </th>\n",
        "      <td>                                             CAIRO</td>\n",
        "      <td>          Freight</td>\n",
        "      <td>                  General</td>\n",
        "      <td> 0</td>\n",
        "      <td> 0</td>\n",
        "      <td> 0.00</td>\n",
        "      <td> 0</td>\n",
        "      <td> 0</td>\n",
        "      <td> 0</td>\n",
        "      <td> 0</td>\n",
        "      <td>...</td>\n",
        "      <td> 0</td>\n",
        "      <td>  90.0</td>\n",
        "      <td>  2445.000</td>\n",
        "      <td> 1050.000000</td>\n",
        "      <td>  705.000000</td>\n",
        "      <td>  987.374904</td>\n",
        "      <td> 1698.236995</td>\n",
        "      <td> 1903.656250</td>\n",
        "      <td> 2165.138042</td>\n",
        "      <td> 1520.730987</td>\n",
        "    </tr>\n",
        "    <tr>\n",
        "      <th>24  </th>\n",
        "      <td>                              CHIA SEEDS (ORGANIC)</td>\n",
        "      <td>              NaN</td>\n",
        "      <td>                    Seeds</td>\n",
        "      <td> 0</td>\n",
        "      <td> 0</td>\n",
        "      <td> 0.00</td>\n",
        "      <td> 0</td>\n",
        "      <td> 0</td>\n",
        "      <td> 0</td>\n",
        "      <td> 0</td>\n",
        "      <td>...</td>\n",
        "      <td> 0</td>\n",
        "      <td>   0.0</td>\n",
        "      <td>  5567.952</td>\n",
        "      <td> 4763.104000</td>\n",
        "      <td>  686.000000</td>\n",
        "      <td>  490.000000</td>\n",
        "      <td>  490.000000</td>\n",
        "      <td>  392.000000</td>\n",
        "      <td>   98.000000</td>\n",
        "      <td>    0.000000</td>\n",
        "    </tr>\n",
        "    <tr>\n",
        "      <th>25  </th>\n",
        "      <td>                              MANUKA HONEY (LARGE)</td>\n",
        "      <td>              NaN</td>\n",
        "      <td>                    Honey</td>\n",
        "      <td> 0</td>\n",
        "      <td> 0</td>\n",
        "      <td> 0.00</td>\n",
        "      <td> 0</td>\n",
        "      <td> 0</td>\n",
        "      <td> 0</td>\n",
        "      <td> 0</td>\n",
        "      <td>...</td>\n",
        "      <td> 0</td>\n",
        "      <td>   0.0</td>\n",
        "      <td>     0.000</td>\n",
        "      <td>    0.000000</td>\n",
        "      <td>    0.000000</td>\n",
        "      <td> 3280.000000</td>\n",
        "      <td> 1640.000000</td>\n",
        "      <td> 4592.000000</td>\n",
        "      <td> 1968.000000</td>\n",
        "      <td>  656.000000</td>\n",
        "    </tr>\n",
        "    <tr>\n",
        "      <th>26  </th>\n",
        "      <td>                                           AVOCADO</td>\n",
        "      <td>       Kheir Misr</td>\n",
        "      <td>             Fresh fruits</td>\n",
        "      <td> 0</td>\n",
        "      <td> 0</td>\n",
        "      <td> 0.00</td>\n",
        "      <td> 0</td>\n",
        "      <td> 0</td>\n",
        "      <td> 0</td>\n",
        "      <td> 0</td>\n",
        "      <td>...</td>\n",
        "      <td> 0</td>\n",
        "      <td>   0.0</td>\n",
        "      <td>     0.000</td>\n",
        "      <td>    0.000000</td>\n",
        "      <td>    0.000000</td>\n",
        "      <td>    0.000000</td>\n",
        "      <td>    0.000000</td>\n",
        "      <td>    0.000000</td>\n",
        "      <td>    0.000000</td>\n",
        "      <td>    0.000000</td>\n",
        "    </tr>\n",
        "    <tr>\n",
        "      <th>27  </th>\n",
        "      <td>                               AVOCADOS (IMPORTED)</td>\n",
        "      <td>              NGS</td>\n",
        "      <td>                   Fruits</td>\n",
        "      <td> 0</td>\n",
        "      <td> 0</td>\n",
        "      <td> 0.00</td>\n",
        "      <td> 0</td>\n",
        "      <td> 0</td>\n",
        "      <td> 0</td>\n",
        "      <td> 0</td>\n",
        "      <td>...</td>\n",
        "      <td> 0</td>\n",
        "      <td>   0.0</td>\n",
        "      <td>  2640.000</td>\n",
        "      <td>  990.000000</td>\n",
        "      <td>  320.000000</td>\n",
        "      <td> 1153.000000</td>\n",
        "      <td> 1972.000000</td>\n",
        "      <td> 1713.832082</td>\n",
        "      <td> 1748.572824</td>\n",
        "      <td> 1488.005413</td>\n",
        "    </tr>\n",
        "    <tr>\n",
        "      <th>28  </th>\n",
        "      <td>                                  BEEF MINCE / 1KG</td>\n",
        "      <td>              NGS</td>\n",
        "      <td>               Fresh beef</td>\n",
        "      <td> 0</td>\n",
        "      <td> 0</td>\n",
        "      <td> 0.00</td>\n",
        "      <td> 0</td>\n",
        "      <td> 0</td>\n",
        "      <td> 0</td>\n",
        "      <td> 0</td>\n",
        "      <td>...</td>\n",
        "      <td> 0</td>\n",
        "      <td>   0.0</td>\n",
        "      <td>     0.000</td>\n",
        "      <td>    0.000000</td>\n",
        "      <td>    0.000000</td>\n",
        "      <td>    0.000000</td>\n",
        "      <td>    0.000000</td>\n",
        "      <td>    0.000000</td>\n",
        "      <td>    0.000000</td>\n",
        "      <td>    0.000000</td>\n",
        "    </tr>\n",
        "    <tr>\n",
        "      <th>29  </th>\n",
        "      <td>                             BALADY EGGS (ORGANIC)</td>\n",
        "      <td>              NaN</td>\n",
        "      <td>                     Eggs</td>\n",
        "      <td> 0</td>\n",
        "      <td> 0</td>\n",
        "      <td> 0.00</td>\n",
        "      <td> 0</td>\n",
        "      <td> 0</td>\n",
        "      <td> 0</td>\n",
        "      <td> 0</td>\n",
        "      <td>...</td>\n",
        "      <td> 0</td>\n",
        "      <td>  44.0</td>\n",
        "      <td>  2024.000</td>\n",
        "      <td> 1658.000000</td>\n",
        "      <td>  648.000000</td>\n",
        "      <td> 1272.000000</td>\n",
        "      <td> 1296.000000</td>\n",
        "      <td> 1776.000000</td>\n",
        "      <td> 2019.300135</td>\n",
        "      <td>  987.540126</td>\n",
        "    </tr>\n",
        "    <tr>\n",
        "      <th>...</th>\n",
        "      <td>...</td>\n",
        "      <td>...</td>\n",
        "      <td>...</td>\n",
        "      <td>...</td>\n",
        "      <td>...</td>\n",
        "      <td>...</td>\n",
        "      <td>...</td>\n",
        "      <td>...</td>\n",
        "      <td>...</td>\n",
        "      <td>...</td>\n",
        "      <td>...</td>\n",
        "      <td>...</td>\n",
        "      <td>...</td>\n",
        "      <td>...</td>\n",
        "      <td>...</td>\n",
        "      <td>...</td>\n",
        "      <td>...</td>\n",
        "      <td>...</td>\n",
        "      <td>...</td>\n",
        "      <td>...</td>\n",
        "      <td>...</td>\n",
        "    </tr>\n",
        "    <tr>\n",
        "      <th>1944</th>\n",
        "      <td>                     SARIS LETTUCE (CHEMICAL FREE)</td>\n",
        "      <td>              NaN</td>\n",
        "      <td> Chemical free vegetables</td>\n",
        "      <td> 0</td>\n",
        "      <td> 0</td>\n",
        "      <td> 0.00</td>\n",
        "      <td> 0</td>\n",
        "      <td> 0</td>\n",
        "      <td> 0</td>\n",
        "      <td> 0</td>\n",
        "      <td>...</td>\n",
        "      <td> 0</td>\n",
        "      <td>   0.0</td>\n",
        "      <td>     0.000</td>\n",
        "      <td>    0.000000</td>\n",
        "      <td>    0.000000</td>\n",
        "      <td>    0.000000</td>\n",
        "      <td>    0.000000</td>\n",
        "      <td>    0.000000</td>\n",
        "      <td>    0.000000</td>\n",
        "      <td>    0.000000</td>\n",
        "    </tr>\n",
        "    <tr>\n",
        "      <th>1945</th>\n",
        "      <td>                         RED RADISH(CHEMICAL FREE)</td>\n",
        "      <td>              NaN</td>\n",
        "      <td>               Vegetables</td>\n",
        "      <td> 0</td>\n",
        "      <td> 0</td>\n",
        "      <td> 0.00</td>\n",
        "      <td> 0</td>\n",
        "      <td> 0</td>\n",
        "      <td> 0</td>\n",
        "      <td> 0</td>\n",
        "      <td>...</td>\n",
        "      <td> 0</td>\n",
        "      <td>   5.5</td>\n",
        "      <td>     0.000</td>\n",
        "      <td>    0.000000</td>\n",
        "      <td>    0.000000</td>\n",
        "      <td>    0.000000</td>\n",
        "      <td>    0.000000</td>\n",
        "      <td>    0.000000</td>\n",
        "      <td>    0.000000</td>\n",
        "      <td>    0.000000</td>\n",
        "    </tr>\n",
        "    <tr>\n",
        "      <th>1946</th>\n",
        "      <td>                    ICEBERG LETTUCE(CHEMICAL FREE)</td>\n",
        "      <td>              NaN</td>\n",
        "      <td>               Vegetables</td>\n",
        "      <td> 0</td>\n",
        "      <td> 0</td>\n",
        "      <td> 0.00</td>\n",
        "      <td> 0</td>\n",
        "      <td> 0</td>\n",
        "      <td> 0</td>\n",
        "      <td> 0</td>\n",
        "      <td>...</td>\n",
        "      <td> 0</td>\n",
        "      <td>   5.5</td>\n",
        "      <td>     0.000</td>\n",
        "      <td>    0.000000</td>\n",
        "      <td>    0.000000</td>\n",
        "      <td>    0.000000</td>\n",
        "      <td>    0.000000</td>\n",
        "      <td>    0.000000</td>\n",
        "      <td>    0.000000</td>\n",
        "      <td>    0.000000</td>\n",
        "    </tr>\n",
        "    <tr>\n",
        "      <th>1947</th>\n",
        "      <td>                       LEMON GRASS (CHEMICAL FREE)</td>\n",
        "      <td>              NaN</td>\n",
        "      <td>                Beverages</td>\n",
        "      <td> 0</td>\n",
        "      <td> 0</td>\n",
        "      <td> 0.00</td>\n",
        "      <td> 0</td>\n",
        "      <td> 0</td>\n",
        "      <td> 0</td>\n",
        "      <td> 0</td>\n",
        "      <td>...</td>\n",
        "      <td> 0</td>\n",
        "      <td>   0.0</td>\n",
        "      <td>     5.500</td>\n",
        "      <td>    0.000000</td>\n",
        "      <td>    0.000000</td>\n",
        "      <td>    0.000000</td>\n",
        "      <td>    0.000000</td>\n",
        "      <td>    0.000000</td>\n",
        "      <td>    0.000000</td>\n",
        "      <td>    0.000000</td>\n",
        "    </tr>\n",
        "    <tr>\n",
        "      <th>1948</th>\n",
        "      <td>                                          CUCUMBER</td>\n",
        "      <td>              NGS</td>\n",
        "      <td>         Fresh vegetables</td>\n",
        "      <td> 0</td>\n",
        "      <td> 0</td>\n",
        "      <td> 0.00</td>\n",
        "      <td> 0</td>\n",
        "      <td> 0</td>\n",
        "      <td> 0</td>\n",
        "      <td> 0</td>\n",
        "      <td>...</td>\n",
        "      <td> 0</td>\n",
        "      <td>   0.0</td>\n",
        "      <td>     0.000</td>\n",
        "      <td>    0.000000</td>\n",
        "      <td>    0.000000</td>\n",
        "      <td>    0.000000</td>\n",
        "      <td>    0.000000</td>\n",
        "      <td>    0.000000</td>\n",
        "      <td>    0.000000</td>\n",
        "      <td>    0.000000</td>\n",
        "    </tr>\n",
        "    <tr>\n",
        "      <th>1949</th>\n",
        "      <td>                                SAGE ( AQUAPONIC )</td>\n",
        "      <td>           Bustan</td>\n",
        "      <td>     Aquaponic vegetables</td>\n",
        "      <td> 0</td>\n",
        "      <td> 0</td>\n",
        "      <td> 0.00</td>\n",
        "      <td> 0</td>\n",
        "      <td> 0</td>\n",
        "      <td> 0</td>\n",
        "      <td> 0</td>\n",
        "      <td>...</td>\n",
        "      <td> 0</td>\n",
        "      <td>   0.0</td>\n",
        "      <td>     0.000</td>\n",
        "      <td>    0.000000</td>\n",
        "      <td>    0.000000</td>\n",
        "      <td>    0.000000</td>\n",
        "      <td>    0.000000</td>\n",
        "      <td>    0.000000</td>\n",
        "      <td>    0.000000</td>\n",
        "      <td>    0.000000</td>\n",
        "    </tr>\n",
        "    <tr>\n",
        "      <th>1950</th>\n",
        "      <td>                                          ZUCCHINI</td>\n",
        "      <td>              NGS</td>\n",
        "      <td>         Fresh vegetables</td>\n",
        "      <td> 0</td>\n",
        "      <td> 0</td>\n",
        "      <td> 0.00</td>\n",
        "      <td> 0</td>\n",
        "      <td> 0</td>\n",
        "      <td> 0</td>\n",
        "      <td> 0</td>\n",
        "      <td>...</td>\n",
        "      <td> 0</td>\n",
        "      <td>   0.0</td>\n",
        "      <td>     0.000</td>\n",
        "      <td>    0.000000</td>\n",
        "      <td>    0.000000</td>\n",
        "      <td>    0.000000</td>\n",
        "      <td>    0.000000</td>\n",
        "      <td>    0.000000</td>\n",
        "      <td>    0.000000</td>\n",
        "      <td>    0.000000</td>\n",
        "    </tr>\n",
        "    <tr>\n",
        "      <th>1951</th>\n",
        "      <td>                                 MINI FRENCH BROWN</td>\n",
        "      <td>              NGS</td>\n",
        "      <td>              Bread&amp;Bakry</td>\n",
        "      <td> 0</td>\n",
        "      <td> 0</td>\n",
        "      <td> 0.00</td>\n",
        "      <td> 0</td>\n",
        "      <td> 0</td>\n",
        "      <td> 0</td>\n",
        "      <td> 0</td>\n",
        "      <td>...</td>\n",
        "      <td> 0</td>\n",
        "      <td>   0.0</td>\n",
        "      <td>     0.000</td>\n",
        "      <td>    0.000000</td>\n",
        "      <td>    0.000000</td>\n",
        "      <td>    0.000000</td>\n",
        "      <td>    0.000000</td>\n",
        "      <td>    0.000000</td>\n",
        "      <td>    0.000000</td>\n",
        "      <td>    0.000000</td>\n",
        "    </tr>\n",
        "    <tr>\n",
        "      <th>1952</th>\n",
        "      <td>                              SPRING ONIONS / 200G</td>\n",
        "      <td>              NGS</td>\n",
        "      <td>            Fresh Produce</td>\n",
        "      <td> 0</td>\n",
        "      <td> 0</td>\n",
        "      <td> 3.25</td>\n",
        "      <td> 0</td>\n",
        "      <td> 0</td>\n",
        "      <td> 0</td>\n",
        "      <td> 0</td>\n",
        "      <td>...</td>\n",
        "      <td> 0</td>\n",
        "      <td>   0.0</td>\n",
        "      <td>     0.000</td>\n",
        "      <td>    0.000000</td>\n",
        "      <td>    0.000000</td>\n",
        "      <td>    0.000000</td>\n",
        "      <td>    0.000000</td>\n",
        "      <td>    0.000000</td>\n",
        "      <td>    0.000000</td>\n",
        "      <td>    0.000000</td>\n",
        "    </tr>\n",
        "    <tr>\n",
        "      <th>1953</th>\n",
        "      <td>                                       HONEY SPOON</td>\n",
        "      <td>              NaN</td>\n",
        "      <td>           Home appliance</td>\n",
        "      <td> 0</td>\n",
        "      <td> 0</td>\n",
        "      <td> 0.00</td>\n",
        "      <td> 0</td>\n",
        "      <td> 0</td>\n",
        "      <td> 0</td>\n",
        "      <td> 0</td>\n",
        "      <td>...</td>\n",
        "      <td> 0</td>\n",
        "      <td>   0.0</td>\n",
        "      <td>     3.000</td>\n",
        "      <td>    0.000000</td>\n",
        "      <td>    0.000000</td>\n",
        "      <td>    0.000000</td>\n",
        "      <td>    0.000000</td>\n",
        "      <td>    0.000000</td>\n",
        "      <td>    0.000000</td>\n",
        "      <td>    0.000000</td>\n",
        "    </tr>\n",
        "    <tr>\n",
        "      <th>1954</th>\n",
        "      <td>                                           HOT DOG</td>\n",
        "      <td>              NGS</td>\n",
        "      <td>              Bread&amp;Bakry</td>\n",
        "      <td> 0</td>\n",
        "      <td> 0</td>\n",
        "      <td> 0.00</td>\n",
        "      <td> 0</td>\n",
        "      <td> 0</td>\n",
        "      <td> 0</td>\n",
        "      <td> 0</td>\n",
        "      <td>...</td>\n",
        "      <td> 0</td>\n",
        "      <td>   0.0</td>\n",
        "      <td>     0.000</td>\n",
        "      <td>    0.000000</td>\n",
        "      <td>    0.000000</td>\n",
        "      <td>    0.000000</td>\n",
        "      <td>    0.000000</td>\n",
        "      <td>    0.000000</td>\n",
        "      <td>    0.000000</td>\n",
        "      <td>    0.000000</td>\n",
        "    </tr>\n",
        "    <tr>\n",
        "      <th>1955</th>\n",
        "      <td>                  OAK LEAF LETTUCE (CHEMICAL FREE)</td>\n",
        "      <td>              NaN</td>\n",
        "      <td>               Vegetables</td>\n",
        "      <td> 0</td>\n",
        "      <td> 0</td>\n",
        "      <td> 0.00</td>\n",
        "      <td> 0</td>\n",
        "      <td> 0</td>\n",
        "      <td> 0</td>\n",
        "      <td> 0</td>\n",
        "      <td>...</td>\n",
        "      <td> 0</td>\n",
        "      <td>   0.0</td>\n",
        "      <td>     0.000</td>\n",
        "      <td>    0.000000</td>\n",
        "      <td>    0.000000</td>\n",
        "      <td>    0.000000</td>\n",
        "      <td>    0.000000</td>\n",
        "      <td>    0.000000</td>\n",
        "      <td>    0.000000</td>\n",
        "      <td>    0.000000</td>\n",
        "    </tr>\n",
        "    <tr>\n",
        "      <th>1956</th>\n",
        "      <td>                         SPEARMINT (CHEMICAL FREE)</td>\n",
        "      <td>              NaN</td>\n",
        "      <td>                Beverages</td>\n",
        "      <td> 0</td>\n",
        "      <td> 0</td>\n",
        "      <td> 0.00</td>\n",
        "      <td> 0</td>\n",
        "      <td> 0</td>\n",
        "      <td> 0</td>\n",
        "      <td> 0</td>\n",
        "      <td>...</td>\n",
        "      <td> 0</td>\n",
        "      <td>   0.0</td>\n",
        "      <td>     0.000</td>\n",
        "      <td>    0.000000</td>\n",
        "      <td>    0.000000</td>\n",
        "      <td>    0.000000</td>\n",
        "      <td>    0.000000</td>\n",
        "      <td>    0.000000</td>\n",
        "      <td>    0.000000</td>\n",
        "      <td>    0.000000</td>\n",
        "    </tr>\n",
        "    <tr>\n",
        "      <th>1957</th>\n",
        "      <td>                           ROSEMARY(CHEMICAL FREE)</td>\n",
        "      <td>              NaN</td>\n",
        "      <td>                    Herbs</td>\n",
        "      <td> 0</td>\n",
        "      <td> 0</td>\n",
        "      <td> 0.00</td>\n",
        "      <td> 0</td>\n",
        "      <td> 0</td>\n",
        "      <td> 0</td>\n",
        "      <td> 0</td>\n",
        "      <td>...</td>\n",
        "      <td> 0</td>\n",
        "      <td>   0.0</td>\n",
        "      <td>     0.000</td>\n",
        "      <td>    0.000000</td>\n",
        "      <td>    0.000000</td>\n",
        "      <td>    0.000000</td>\n",
        "      <td>    0.000000</td>\n",
        "      <td>    0.000000</td>\n",
        "      <td>    0.000000</td>\n",
        "      <td>    0.000000</td>\n",
        "    </tr>\n",
        "    <tr>\n",
        "      <th>1958</th>\n",
        "      <td>                           OREGANO (CHEMICAL FREE)</td>\n",
        "      <td>              NaN</td>\n",
        "      <td>                    Herbs</td>\n",
        "      <td> 0</td>\n",
        "      <td> 0</td>\n",
        "      <td> 0.00</td>\n",
        "      <td> 0</td>\n",
        "      <td> 0</td>\n",
        "      <td> 0</td>\n",
        "      <td> 0</td>\n",
        "      <td>...</td>\n",
        "      <td> 0</td>\n",
        "      <td>   0.0</td>\n",
        "      <td>     0.000</td>\n",
        "      <td>    0.000000</td>\n",
        "      <td>    0.000000</td>\n",
        "      <td>    0.000000</td>\n",
        "      <td>    0.000000</td>\n",
        "      <td>    0.000000</td>\n",
        "      <td>    0.000000</td>\n",
        "      <td>    0.000000</td>\n",
        "    </tr>\n",
        "    <tr>\n",
        "      <th>1959</th>\n",
        "      <td>                        MANGO AWEYS(CHEMICAL FREE)</td>\n",
        "      <td>              NaN</td>\n",
        "      <td>                   Fruits</td>\n",
        "      <td> 0</td>\n",
        "      <td> 0</td>\n",
        "      <td> 0.00</td>\n",
        "      <td> 0</td>\n",
        "      <td> 0</td>\n",
        "      <td> 0</td>\n",
        "      <td> 0</td>\n",
        "      <td>...</td>\n",
        "      <td> 0</td>\n",
        "      <td>   0.0</td>\n",
        "      <td>     0.000</td>\n",
        "      <td>    0.000000</td>\n",
        "      <td>    0.000000</td>\n",
        "      <td>    0.000000</td>\n",
        "      <td>    0.000000</td>\n",
        "      <td>    0.000000</td>\n",
        "      <td>    0.000000</td>\n",
        "      <td>    0.000000</td>\n",
        "    </tr>\n",
        "    <tr>\n",
        "      <th>1960</th>\n",
        "      <td>                             OAT MILK ( ORIGINAL )</td>\n",
        "      <td>              NaN</td>\n",
        "      <td>           Non-dairy milk</td>\n",
        "      <td> 0</td>\n",
        "      <td> 0</td>\n",
        "      <td> 0.00</td>\n",
        "      <td> 0</td>\n",
        "      <td> 0</td>\n",
        "      <td> 0</td>\n",
        "      <td> 0</td>\n",
        "      <td>...</td>\n",
        "      <td> 0</td>\n",
        "      <td>   0.0</td>\n",
        "      <td>     0.000</td>\n",
        "      <td>    0.000000</td>\n",
        "      <td>    0.000000</td>\n",
        "      <td>    0.000000</td>\n",
        "      <td>    0.000000</td>\n",
        "      <td>    0.000000</td>\n",
        "      <td>    0.000000</td>\n",
        "      <td>    0.000000</td>\n",
        "    </tr>\n",
        "    <tr>\n",
        "      <th>1961</th>\n",
        "      <td>                                        KAKI FRUIT</td>\n",
        "      <td>              NGS</td>\n",
        "      <td>                   Fruits</td>\n",
        "      <td> 0</td>\n",
        "      <td> 0</td>\n",
        "      <td> 0.00</td>\n",
        "      <td> 0</td>\n",
        "      <td> 0</td>\n",
        "      <td> 0</td>\n",
        "      <td> 0</td>\n",
        "      <td>...</td>\n",
        "      <td> 0</td>\n",
        "      <td>   0.0</td>\n",
        "      <td>     0.000</td>\n",
        "      <td>    0.000000</td>\n",
        "      <td>    0.000000</td>\n",
        "      <td>    0.000000</td>\n",
        "      <td>    0.000000</td>\n",
        "      <td>    0.000000</td>\n",
        "      <td>    0.000000</td>\n",
        "      <td>    0.000000</td>\n",
        "    </tr>\n",
        "    <tr>\n",
        "      <th>1962</th>\n",
        "      <td>                BROCCOLI ROMANESCO (CHEMICAL FREE)</td>\n",
        "      <td>              NaN</td>\n",
        "      <td>               Vegetables</td>\n",
        "      <td> 0</td>\n",
        "      <td> 0</td>\n",
        "      <td> 0.00</td>\n",
        "      <td> 0</td>\n",
        "      <td> 0</td>\n",
        "      <td> 0</td>\n",
        "      <td> 0</td>\n",
        "      <td>...</td>\n",
        "      <td> 0</td>\n",
        "      <td>   0.0</td>\n",
        "      <td>     0.000</td>\n",
        "      <td>    0.000000</td>\n",
        "      <td>    0.000000</td>\n",
        "      <td>    0.000000</td>\n",
        "      <td>    0.000000</td>\n",
        "      <td>    0.000000</td>\n",
        "      <td>    0.000000</td>\n",
        "      <td>    0.000000</td>\n",
        "    </tr>\n",
        "    <tr>\n",
        "      <th>1963</th>\n",
        "      <td>                                     WHITE CABBAGE</td>\n",
        "      <td>              NaN</td>\n",
        "      <td>               Vegetables</td>\n",
        "      <td> 0</td>\n",
        "      <td> 0</td>\n",
        "      <td> 0.00</td>\n",
        "      <td> 0</td>\n",
        "      <td> 0</td>\n",
        "      <td> 0</td>\n",
        "      <td> 0</td>\n",
        "      <td>...</td>\n",
        "      <td> 0</td>\n",
        "      <td>   0.0</td>\n",
        "      <td>     0.000</td>\n",
        "      <td>    0.000000</td>\n",
        "      <td>    0.000000</td>\n",
        "      <td>    0.000000</td>\n",
        "      <td>    0.000000</td>\n",
        "      <td>    0.000000</td>\n",
        "      <td>    0.000000</td>\n",
        "      <td>    0.000000</td>\n",
        "    </tr>\n",
        "    <tr>\n",
        "      <th>1964</th>\n",
        "      <td>                                    CHINESE GARLIC</td>\n",
        "      <td>              NaN</td>\n",
        "      <td>               Vegetables</td>\n",
        "      <td> 0</td>\n",
        "      <td> 0</td>\n",
        "      <td> 0.00</td>\n",
        "      <td> 0</td>\n",
        "      <td> 0</td>\n",
        "      <td> 0</td>\n",
        "      <td> 0</td>\n",
        "      <td>...</td>\n",
        "      <td> 0</td>\n",
        "      <td>   0.0</td>\n",
        "      <td>     0.000</td>\n",
        "      <td>    0.000000</td>\n",
        "      <td>    0.000000</td>\n",
        "      <td>    0.000000</td>\n",
        "      <td>    0.000000</td>\n",
        "      <td>    0.000000</td>\n",
        "      <td>    0.000000</td>\n",
        "      <td>    0.000000</td>\n",
        "    </tr>\n",
        "    <tr>\n",
        "      <th>1965</th>\n",
        "      <td>                  SPELT FLAKES - TOASTED (ORGANIC)</td>\n",
        "      <td>              NaN</td>\n",
        "      <td>                   Cereal</td>\n",
        "      <td> 0</td>\n",
        "      <td> 0</td>\n",
        "      <td> 0.00</td>\n",
        "      <td> 0</td>\n",
        "      <td> 0</td>\n",
        "      <td> 0</td>\n",
        "      <td> 0</td>\n",
        "      <td>...</td>\n",
        "      <td> 0</td>\n",
        "      <td>   0.0</td>\n",
        "      <td>     0.000</td>\n",
        "      <td>    0.000000</td>\n",
        "      <td>    0.000000</td>\n",
        "      <td>    0.000000</td>\n",
        "      <td>    0.000000</td>\n",
        "      <td>    0.000000</td>\n",
        "      <td>    0.000000</td>\n",
        "      <td>    0.000000</td>\n",
        "    </tr>\n",
        "    <tr>\n",
        "      <th>1966</th>\n",
        "      <td>                              RICE MILK (ORIGINAL)</td>\n",
        "      <td>              NaN</td>\n",
        "      <td>           Non-dairy milk</td>\n",
        "      <td> 0</td>\n",
        "      <td> 0</td>\n",
        "      <td> 0.00</td>\n",
        "      <td> 0</td>\n",
        "      <td> 0</td>\n",
        "      <td> 0</td>\n",
        "      <td> 0</td>\n",
        "      <td>...</td>\n",
        "      <td> 0</td>\n",
        "      <td>   0.0</td>\n",
        "      <td>     0.000</td>\n",
        "      <td>    0.000000</td>\n",
        "      <td>    0.000000</td>\n",
        "      <td>    0.000000</td>\n",
        "      <td>    0.000000</td>\n",
        "      <td>    0.000000</td>\n",
        "      <td>    0.000000</td>\n",
        "      <td>    0.000000</td>\n",
        "    </tr>\n",
        "    <tr>\n",
        "      <th>1967</th>\n",
        "      <td>                  PEANUTS IN SHELL (CHEMICAL FREE)</td>\n",
        "      <td>              NaN</td>\n",
        "      <td>                     Nuts</td>\n",
        "      <td> 0</td>\n",
        "      <td> 0</td>\n",
        "      <td> 0.00</td>\n",
        "      <td> 0</td>\n",
        "      <td> 0</td>\n",
        "      <td> 0</td>\n",
        "      <td> 0</td>\n",
        "      <td>...</td>\n",
        "      <td> 0</td>\n",
        "      <td>   0.0</td>\n",
        "      <td>     0.000</td>\n",
        "      <td>    0.000000</td>\n",
        "      <td>    0.000000</td>\n",
        "      <td>    0.000000</td>\n",
        "      <td>    0.000000</td>\n",
        "      <td>    0.000000</td>\n",
        "      <td>    0.000000</td>\n",
        "      <td>    0.000000</td>\n",
        "    </tr>\n",
        "    <tr>\n",
        "      <th>1968</th>\n",
        "      <td>                 RED CURLY BATAVIA (CHEMICAL FREE)</td>\n",
        "      <td>              NaN</td>\n",
        "      <td>               Vegetables</td>\n",
        "      <td> 0</td>\n",
        "      <td> 0</td>\n",
        "      <td> 0.00</td>\n",
        "      <td> 0</td>\n",
        "      <td> 0</td>\n",
        "      <td> 0</td>\n",
        "      <td> 0</td>\n",
        "      <td>...</td>\n",
        "      <td> 0</td>\n",
        "      <td>   0.0</td>\n",
        "      <td>     0.000</td>\n",
        "      <td>    0.000000</td>\n",
        "      <td>    0.000000</td>\n",
        "      <td>    0.000000</td>\n",
        "      <td>    0.000000</td>\n",
        "      <td>    0.000000</td>\n",
        "      <td>    0.000000</td>\n",
        "      <td>    0.000000</td>\n",
        "    </tr>\n",
        "    <tr>\n",
        "      <th>1969</th>\n",
        "      <td>                      GUILTLESS OATMEAL COOKIE MIX</td>\n",
        "      <td>              NaN</td>\n",
        "      <td>          Baking products</td>\n",
        "      <td> 0</td>\n",
        "      <td> 0</td>\n",
        "      <td> 0.00</td>\n",
        "      <td> 0</td>\n",
        "      <td> 0</td>\n",
        "      <td> 0</td>\n",
        "      <td> 0</td>\n",
        "      <td>...</td>\n",
        "      <td> 0</td>\n",
        "      <td>   0.0</td>\n",
        "      <td>     0.000</td>\n",
        "      <td>    0.000000</td>\n",
        "      <td>    0.000000</td>\n",
        "      <td>    0.000000</td>\n",
        "      <td>    0.000000</td>\n",
        "      <td>    0.000000</td>\n",
        "      <td>    0.000000</td>\n",
        "      <td>    0.000000</td>\n",
        "    </tr>\n",
        "    <tr>\n",
        "      <th>1970</th>\n",
        "      <td>                              TRADITIONAL CRACKERS</td>\n",
        "      <td>              NaN</td>\n",
        "      <td>                   Snacks</td>\n",
        "      <td> 0</td>\n",
        "      <td> 0</td>\n",
        "      <td> 0.00</td>\n",
        "      <td> 0</td>\n",
        "      <td> 0</td>\n",
        "      <td> 0</td>\n",
        "      <td> 0</td>\n",
        "      <td>...</td>\n",
        "      <td> 0</td>\n",
        "      <td>   0.0</td>\n",
        "      <td>     0.000</td>\n",
        "      <td>  -33.000000</td>\n",
        "      <td>    0.000000</td>\n",
        "      <td>   33.000000</td>\n",
        "      <td>    0.000000</td>\n",
        "      <td>    0.000000</td>\n",
        "      <td>    0.000000</td>\n",
        "      <td>    0.000000</td>\n",
        "    </tr>\n",
        "    <tr>\n",
        "      <th>1971</th>\n",
        "      <td>                         MORINGA ( CHEMICAL FREE )</td>\n",
        "      <td>              NaN</td>\n",
        "      <td>         Food supplements</td>\n",
        "      <td> 0</td>\n",
        "      <td> 0</td>\n",
        "      <td> 0.00</td>\n",
        "      <td> 0</td>\n",
        "      <td> 0</td>\n",
        "      <td> 0</td>\n",
        "      <td> 0</td>\n",
        "      <td>...</td>\n",
        "      <td> 0</td>\n",
        "      <td>   0.0</td>\n",
        "      <td>     0.000</td>\n",
        "      <td>    0.000000</td>\n",
        "      <td>    0.000000</td>\n",
        "      <td>    0.000000</td>\n",
        "      <td>    0.000000</td>\n",
        "      <td>    0.000000</td>\n",
        "      <td>    0.000000</td>\n",
        "      <td>    0.000000</td>\n",
        "    </tr>\n",
        "    <tr>\n",
        "      <th>1972</th>\n",
        "      <td>                   MANGO ALFONSE ( CHEMICAL FREE )</td>\n",
        "      <td>              NaN</td>\n",
        "      <td>                   Fruits</td>\n",
        "      <td> 0</td>\n",
        "      <td> 0</td>\n",
        "      <td> 0.00</td>\n",
        "      <td> 0</td>\n",
        "      <td> 0</td>\n",
        "      <td> 0</td>\n",
        "      <td> 0</td>\n",
        "      <td>...</td>\n",
        "      <td> 0</td>\n",
        "      <td>   0.0</td>\n",
        "      <td>     0.000</td>\n",
        "      <td>    0.000000</td>\n",
        "      <td>    0.000000</td>\n",
        "      <td>    0.000000</td>\n",
        "      <td>    0.000000</td>\n",
        "      <td>    0.000000</td>\n",
        "      <td>    0.000000</td>\n",
        "      <td>    0.000000</td>\n",
        "    </tr>\n",
        "    <tr>\n",
        "      <th>1973</th>\n",
        "      <td>                                       WILD MORGAN</td>\n",
        "      <td>              NGS</td>\n",
        "      <td>                 Sea Food</td>\n",
        "      <td> 0</td>\n",
        "      <td> 0</td>\n",
        "      <td> 0.00</td>\n",
        "      <td> 0</td>\n",
        "      <td> 0</td>\n",
        "      <td> 0</td>\n",
        "      <td> 0</td>\n",
        "      <td>...</td>\n",
        "      <td> 0</td>\n",
        "      <td>   0.0</td>\n",
        "      <td>     0.000</td>\n",
        "      <td>    0.000000</td>\n",
        "      <td>    0.000000</td>\n",
        "      <td>    0.000000</td>\n",
        "      <td>    0.000000</td>\n",
        "      <td>    0.000000</td>\n",
        "      <td>    0.000000</td>\n",
        "      <td>    0.000000</td>\n",
        "    </tr>\n",
        "  </tbody>\n",
        "</table>\n",
        "<p>1974 rows \u00d7 47 columns</p>\n",
        "</div>"
       ],
       "metadata": {},
       "output_type": "pyout",
       "prompt_number": 2,
       "text": [
        "                                                Product             Brand  \\\n",
        "0                     QUINOA ( WHITE ) - ORGANIC / 454G  Eden Foods, Inc.   \n",
        "1                                 CHICKEN BREASTS / 1KG               NGS   \n",
        "2                CHICKEN BREAST - HORMONE FREE (FROZEN)               NGS   \n",
        "3                   COCONUT OIL (ORGANIC) - FOR COOKING               NaN   \n",
        "4                                   WHOLE CHICKEN / 1KG               NGS   \n",
        "5                                     BEEF FILLET / 1KG               NGS   \n",
        "6                                   BEEF FILLET (WHOLE)               NGS   \n",
        "7                 WHOLE CHICKEN - HORMONE FREE (FROZEN)               NGS   \n",
        "8          BEEF MINCE - NO FAT (CHEMICAL FREE) - FROZEN               NGS   \n",
        "9                   COCONUT OIL (ORGANIC) - FOR COOKING    Divine coconut   \n",
        "10                                SALMON STEAK (FROZEN)               NaN   \n",
        "11                           CAIRO ABOVE 150 L.E ORDERS           Freight   \n",
        "12                 BEEF FILLET (CHEMICAL FREE) - FROZEN               NGS   \n",
        "13                            INSIDE CAIRO DELIVERY FEE           Freight   \n",
        "14                               DRIED CRANBERRY / 200G               NGS   \n",
        "15                         VEAL ESCALOPE (BIFTEK) / 1KG               NGS   \n",
        "16                                MAPLE SYRUP (ORGANIC)               NaN   \n",
        "17        BALADY WHOLE CHICKEN(CHEMICAL FREE) / DEFAULT               NaN   \n",
        "18    MUESLI WITH MIXED BERRIES, OAT FLAKES, AND SEE...               NaN   \n",
        "19    BENCH PRESS OATS WITH APPLE AND CINNAMON ( WIT...               NaN   \n",
        "20                  BEEF CUBES (CHEMICAL FREE) - FROZEN               NGS   \n",
        "21    MUESLI WITH QUINOA, AMARANTH, APPLE, SEEDS AND...               NaN   \n",
        "22                                    ALMOND MEAL FLOUR               NaN   \n",
        "23                                                CAIRO           Freight   \n",
        "24                                 CHIA SEEDS (ORGANIC)               NaN   \n",
        "25                                 MANUKA HONEY (LARGE)               NaN   \n",
        "26                                              AVOCADO        Kheir Misr   \n",
        "27                                  AVOCADOS (IMPORTED)               NGS   \n",
        "28                                     BEEF MINCE / 1KG               NGS   \n",
        "29                                BALADY EGGS (ORGANIC)               NaN   \n",
        "...                                                 ...               ...   \n",
        "1944                      SARIS LETTUCE (CHEMICAL FREE)               NaN   \n",
        "1945                          RED RADISH(CHEMICAL FREE)               NaN   \n",
        "1946                     ICEBERG LETTUCE(CHEMICAL FREE)               NaN   \n",
        "1947                        LEMON GRASS (CHEMICAL FREE)               NaN   \n",
        "1948                                           CUCUMBER               NGS   \n",
        "1949                                 SAGE ( AQUAPONIC )            Bustan   \n",
        "1950                                           ZUCCHINI               NGS   \n",
        "1951                                  MINI FRENCH BROWN               NGS   \n",
        "1952                               SPRING ONIONS / 200G               NGS   \n",
        "1953                                        HONEY SPOON               NaN   \n",
        "1954                                            HOT DOG               NGS   \n",
        "1955                   OAK LEAF LETTUCE (CHEMICAL FREE)               NaN   \n",
        "1956                          SPEARMINT (CHEMICAL FREE)               NaN   \n",
        "1957                            ROSEMARY(CHEMICAL FREE)               NaN   \n",
        "1958                            OREGANO (CHEMICAL FREE)               NaN   \n",
        "1959                         MANGO AWEYS(CHEMICAL FREE)               NaN   \n",
        "1960                              OAT MILK ( ORIGINAL )               NaN   \n",
        "1961                                         KAKI FRUIT               NGS   \n",
        "1962                 BROCCOLI ROMANESCO (CHEMICAL FREE)               NaN   \n",
        "1963                                      WHITE CABBAGE               NaN   \n",
        "1964                                     CHINESE GARLIC               NaN   \n",
        "1965                   SPELT FLAKES - TOASTED (ORGANIC)               NaN   \n",
        "1966                               RICE MILK (ORIGINAL)               NaN   \n",
        "1967                   PEANUTS IN SHELL (CHEMICAL FREE)               NaN   \n",
        "1968                  RED CURLY BATAVIA (CHEMICAL FREE)               NaN   \n",
        "1969                       GUILTLESS OATMEAL COOKIE MIX               NaN   \n",
        "1970                               TRADITIONAL CRACKERS               NaN   \n",
        "1971                          MORINGA ( CHEMICAL FREE )               NaN   \n",
        "1972                    MANGO ALFONSE ( CHEMICAL FREE )               NaN   \n",
        "1973                                        WILD MORGAN               NGS   \n",
        "\n",
        "                          Type  May 2012  Jun 2012  Jul 2012  Aug 2012  \\\n",
        "0                       Grains         0         0      0.00         0   \n",
        "1                Fresh poultry         0         0      0.00         0   \n",
        "2                      Poultry         0         0      0.00         0   \n",
        "3                          Oil         0         0      0.00         0   \n",
        "4                Fresh poultry         0         0      0.00         0   \n",
        "5                   Fresh beef         0         0      0.00         0   \n",
        "6                         Beef         0         0      0.00         0   \n",
        "7                      Poultry         0         0      0.00         0   \n",
        "8                         Beef         0         0      0.00         0   \n",
        "9                          Oil         0         0      0.00         0   \n",
        "10                    Sea Food         0         0      0.00         0   \n",
        "11                     General         0         0      0.00         0   \n",
        "12                        Beef         0         0      0.00         0   \n",
        "13                    Delivery         0         0      0.00         0   \n",
        "14                Dried fruits         0         0      0.00         0   \n",
        "15                  Fresh veal         0         0      0.00         0   \n",
        "16                  Sweeteners         0         0      0.00         0   \n",
        "17                     Poultry         0         0      0.00         0   \n",
        "18                      Cereal         0         0      0.00         0   \n",
        "19                      Cereal         0         0      0.00         0   \n",
        "20                        Beef         0         0      0.00         0   \n",
        "21                      Cereal         0         0      0.00         0   \n",
        "22             Baking products         0         0      0.00         0   \n",
        "23                     General         0         0      0.00         0   \n",
        "24                       Seeds         0         0      0.00         0   \n",
        "25                       Honey         0         0      0.00         0   \n",
        "26                Fresh fruits         0         0      0.00         0   \n",
        "27                      Fruits         0         0      0.00         0   \n",
        "28                  Fresh beef         0         0      0.00         0   \n",
        "29                        Eggs         0         0      0.00         0   \n",
        "...                        ...       ...       ...       ...       ...   \n",
        "1944  Chemical free vegetables         0         0      0.00         0   \n",
        "1945                Vegetables         0         0      0.00         0   \n",
        "1946                Vegetables         0         0      0.00         0   \n",
        "1947                 Beverages         0         0      0.00         0   \n",
        "1948          Fresh vegetables         0         0      0.00         0   \n",
        "1949      Aquaponic vegetables         0         0      0.00         0   \n",
        "1950          Fresh vegetables         0         0      0.00         0   \n",
        "1951               Bread&Bakry         0         0      0.00         0   \n",
        "1952             Fresh Produce         0         0      3.25         0   \n",
        "1953            Home appliance         0         0      0.00         0   \n",
        "1954               Bread&Bakry         0         0      0.00         0   \n",
        "1955                Vegetables         0         0      0.00         0   \n",
        "1956                 Beverages         0         0      0.00         0   \n",
        "1957                     Herbs         0         0      0.00         0   \n",
        "1958                     Herbs         0         0      0.00         0   \n",
        "1959                    Fruits         0         0      0.00         0   \n",
        "1960            Non-dairy milk         0         0      0.00         0   \n",
        "1961                    Fruits         0         0      0.00         0   \n",
        "1962                Vegetables         0         0      0.00         0   \n",
        "1963                Vegetables         0         0      0.00         0   \n",
        "1964                Vegetables         0         0      0.00         0   \n",
        "1965                    Cereal         0         0      0.00         0   \n",
        "1966            Non-dairy milk         0         0      0.00         0   \n",
        "1967                      Nuts         0         0      0.00         0   \n",
        "1968                Vegetables         0         0      0.00         0   \n",
        "1969           Baking products         0         0      0.00         0   \n",
        "1970                    Snacks         0         0      0.00         0   \n",
        "1971          Food supplements         0         0      0.00         0   \n",
        "1972                    Fruits         0         0      0.00         0   \n",
        "1973                  Sea Food         0         0      0.00         0   \n",
        "\n",
        "      Sep 2012  Oct 2012  Nov 2012     ...       Mar 2015  Apr 2015  \\\n",
        "0            0         0         0     ...              0       0.0   \n",
        "1            0         0         0     ...              0       0.0   \n",
        "2            0         0         0     ...              0      56.0   \n",
        "3            0         0         0     ...              0     592.0   \n",
        "4            0         0         0     ...              0       0.0   \n",
        "5            0         0         0     ...              0       0.0   \n",
        "6            0         0         0     ...              0       0.0   \n",
        "7            0         0         0     ...              0       0.0   \n",
        "8            0         0         0     ...              0       0.0   \n",
        "9            0         0         0     ...              0       0.0   \n",
        "10           0         0         0     ...              0       0.0   \n",
        "11           0         0         0     ...              0     185.0   \n",
        "12           0         0         0     ...              0     178.8   \n",
        "13           0         0         0     ...              0       0.0   \n",
        "14           0         0         0     ...              0       0.0   \n",
        "15           0         0         0     ...              0       0.0   \n",
        "16           0         0         0     ...              0      96.0   \n",
        "17           0         0         0     ...              0       0.0   \n",
        "18           0         0         0     ...              0     136.0   \n",
        "19           0         0         0     ...              0      96.0   \n",
        "20           0         0         0     ...              0       0.0   \n",
        "21           0         0         0     ...              0       0.0   \n",
        "22           0         0         0     ...              0       0.0   \n",
        "23           0         0         0     ...              0      90.0   \n",
        "24           0         0         0     ...              0       0.0   \n",
        "25           0         0         0     ...              0       0.0   \n",
        "26           0         0         0     ...              0       0.0   \n",
        "27           0         0         0     ...              0       0.0   \n",
        "28           0         0         0     ...              0       0.0   \n",
        "29           0         0         0     ...              0      44.0   \n",
        "...        ...       ...       ...     ...            ...       ...   \n",
        "1944         0         0         0     ...              0       0.0   \n",
        "1945         0         0         0     ...              0       5.5   \n",
        "1946         0         0         0     ...              0       5.5   \n",
        "1947         0         0         0     ...              0       0.0   \n",
        "1948         0         0         0     ...              0       0.0   \n",
        "1949         0         0         0     ...              0       0.0   \n",
        "1950         0         0         0     ...              0       0.0   \n",
        "1951         0         0         0     ...              0       0.0   \n",
        "1952         0         0         0     ...              0       0.0   \n",
        "1953         0         0         0     ...              0       0.0   \n",
        "1954         0         0         0     ...              0       0.0   \n",
        "1955         0         0         0     ...              0       0.0   \n",
        "1956         0         0         0     ...              0       0.0   \n",
        "1957         0         0         0     ...              0       0.0   \n",
        "1958         0         0         0     ...              0       0.0   \n",
        "1959         0         0         0     ...              0       0.0   \n",
        "1960         0         0         0     ...              0       0.0   \n",
        "1961         0         0         0     ...              0       0.0   \n",
        "1962         0         0         0     ...              0       0.0   \n",
        "1963         0         0         0     ...              0       0.0   \n",
        "1964         0         0         0     ...              0       0.0   \n",
        "1965         0         0         0     ...              0       0.0   \n",
        "1966         0         0         0     ...              0       0.0   \n",
        "1967         0         0         0     ...              0       0.0   \n",
        "1968         0         0         0     ...              0       0.0   \n",
        "1969         0         0         0     ...              0       0.0   \n",
        "1970         0         0         0     ...              0       0.0   \n",
        "1971         0         0         0     ...              0       0.0   \n",
        "1972         0         0         0     ...              0       0.0   \n",
        "1973         0         0         0     ...              0       0.0   \n",
        "\n",
        "       May 2015     Jun 2015     Jul 2015     Aug 2015     Sep 2015  \\\n",
        "0         0.000     0.000000     0.000000     0.000000     0.000000   \n",
        "1         0.000     0.000000     0.000000     0.000000     0.000000   \n",
        "2     10976.000  3862.427350  1789.000000  4686.945289  5240.381685   \n",
        "3      9916.000  2560.400000  2205.505155  4417.800000  3537.665409   \n",
        "4         0.000     0.000000     0.000000     0.000000     0.000000   \n",
        "5         0.000     0.000000     0.000000     0.000000     0.000000   \n",
        "6     21314.990  2357.185800     0.000000     0.000000     0.000000   \n",
        "7      6132.000  2977.500000  1260.000000  1620.000000  1980.000000   \n",
        "8      5684.000  3491.400000  2589.730653  3038.000000  1550.000000   \n",
        "9         0.000     0.000000     0.000000     0.000000     0.000000   \n",
        "10     3038.000  1556.200000  1364.000000  1588.043537  2963.600000   \n",
        "11     4660.000  2082.624782   980.424870  2020.670198  1848.049762   \n",
        "12     2342.600  1587.600000  2916.361809  1640.310680  1862.000000   \n",
        "13        0.000     0.000000     0.000000     0.000000     0.000000   \n",
        "14        0.000     0.000000     0.000000     0.000000     0.000000   \n",
        "15        0.000     0.000000     0.000000     0.000000     0.000000   \n",
        "16     4416.000  1896.500474   278.597938  1536.000000  1056.000000   \n",
        "17     1850.000   -50.000000   850.000000  2100.000000  2740.943396   \n",
        "18     3649.225  5540.825000  1290.024745   443.520000  2100.800000   \n",
        "19     4021.120  5845.440000  1762.399594   915.000000   312.000000   \n",
        "20     2494.000  2790.000000   429.175097   682.000000  1736.000000   \n",
        "21     3382.285  4682.125000  1379.374745  1301.120000  2074.400000   \n",
        "22      504.000     0.000000  1161.600000  3168.000000  2296.800000   \n",
        "23     2445.000  1050.000000   705.000000   987.374904  1698.236995   \n",
        "24     5567.952  4763.104000   686.000000   490.000000   490.000000   \n",
        "25        0.000     0.000000     0.000000  3280.000000  1640.000000   \n",
        "26        0.000     0.000000     0.000000     0.000000     0.000000   \n",
        "27     2640.000   990.000000   320.000000  1153.000000  1972.000000   \n",
        "28        0.000     0.000000     0.000000     0.000000     0.000000   \n",
        "29     2024.000  1658.000000   648.000000  1272.000000  1296.000000   \n",
        "...         ...          ...          ...          ...          ...   \n",
        "1944      0.000     0.000000     0.000000     0.000000     0.000000   \n",
        "1945      0.000     0.000000     0.000000     0.000000     0.000000   \n",
        "1946      0.000     0.000000     0.000000     0.000000     0.000000   \n",
        "1947      5.500     0.000000     0.000000     0.000000     0.000000   \n",
        "1948      0.000     0.000000     0.000000     0.000000     0.000000   \n",
        "1949      0.000     0.000000     0.000000     0.000000     0.000000   \n",
        "1950      0.000     0.000000     0.000000     0.000000     0.000000   \n",
        "1951      0.000     0.000000     0.000000     0.000000     0.000000   \n",
        "1952      0.000     0.000000     0.000000     0.000000     0.000000   \n",
        "1953      3.000     0.000000     0.000000     0.000000     0.000000   \n",
        "1954      0.000     0.000000     0.000000     0.000000     0.000000   \n",
        "1955      0.000     0.000000     0.000000     0.000000     0.000000   \n",
        "1956      0.000     0.000000     0.000000     0.000000     0.000000   \n",
        "1957      0.000     0.000000     0.000000     0.000000     0.000000   \n",
        "1958      0.000     0.000000     0.000000     0.000000     0.000000   \n",
        "1959      0.000     0.000000     0.000000     0.000000     0.000000   \n",
        "1960      0.000     0.000000     0.000000     0.000000     0.000000   \n",
        "1961      0.000     0.000000     0.000000     0.000000     0.000000   \n",
        "1962      0.000     0.000000     0.000000     0.000000     0.000000   \n",
        "1963      0.000     0.000000     0.000000     0.000000     0.000000   \n",
        "1964      0.000     0.000000     0.000000     0.000000     0.000000   \n",
        "1965      0.000     0.000000     0.000000     0.000000     0.000000   \n",
        "1966      0.000     0.000000     0.000000     0.000000     0.000000   \n",
        "1967      0.000     0.000000     0.000000     0.000000     0.000000   \n",
        "1968      0.000     0.000000     0.000000     0.000000     0.000000   \n",
        "1969      0.000     0.000000     0.000000     0.000000     0.000000   \n",
        "1970      0.000   -33.000000     0.000000    33.000000     0.000000   \n",
        "1971      0.000     0.000000     0.000000     0.000000     0.000000   \n",
        "1972      0.000     0.000000     0.000000     0.000000     0.000000   \n",
        "1973      0.000     0.000000     0.000000     0.000000     0.000000   \n",
        "\n",
        "         Oct 2015     Nov 2015     Dec 2015  \n",
        "0        0.000000     0.000000     0.000000  \n",
        "1        0.000000     0.000000     0.000000  \n",
        "2     7792.745465  7767.317151  7137.251022  \n",
        "3     4277.338577  8850.907080  4732.163715  \n",
        "4        0.000000     0.000000     0.000000  \n",
        "5        0.000000     0.000000     0.000000  \n",
        "6        0.000000     0.000000     0.000000  \n",
        "7     4080.421348  2629.084098  2763.917338  \n",
        "8      973.594969  2503.863746  2558.649903  \n",
        "9        0.000000     0.000000     0.000000  \n",
        "10    2759.000000  3388.875700  2576.113136  \n",
        "11    2586.345982  2991.765426  1699.753162  \n",
        "12    2833.115336  1625.576253  3942.408042  \n",
        "13       0.000000     0.000000     0.000000  \n",
        "14       0.000000     0.000000     0.000000  \n",
        "15       0.000000     0.000000     0.000000  \n",
        "16    1905.600000  1769.074793  1045.000000  \n",
        "17    2200.000000  1880.229340  2112.243645  \n",
        "18       0.000000     0.000000     0.000000  \n",
        "19       0.000000     0.000000     0.000000  \n",
        "20     868.000000  1642.134626  2241.968114  \n",
        "21       0.000000     0.000000     0.000000  \n",
        "22    1716.000000  3892.412286   -15.575221  \n",
        "23    1903.656250  2165.138042  1520.730987  \n",
        "24     392.000000    98.000000     0.000000  \n",
        "25    4592.000000  1968.000000   656.000000  \n",
        "26       0.000000     0.000000     0.000000  \n",
        "27    1713.832082  1748.572824  1488.005413  \n",
        "28       0.000000     0.000000     0.000000  \n",
        "29    1776.000000  2019.300135   987.540126  \n",
        "...           ...          ...          ...  \n",
        "1944     0.000000     0.000000     0.000000  \n",
        "1945     0.000000     0.000000     0.000000  \n",
        "1946     0.000000     0.000000     0.000000  \n",
        "1947     0.000000     0.000000     0.000000  \n",
        "1948     0.000000     0.000000     0.000000  \n",
        "1949     0.000000     0.000000     0.000000  \n",
        "1950     0.000000     0.000000     0.000000  \n",
        "1951     0.000000     0.000000     0.000000  \n",
        "1952     0.000000     0.000000     0.000000  \n",
        "1953     0.000000     0.000000     0.000000  \n",
        "1954     0.000000     0.000000     0.000000  \n",
        "1955     0.000000     0.000000     0.000000  \n",
        "1956     0.000000     0.000000     0.000000  \n",
        "1957     0.000000     0.000000     0.000000  \n",
        "1958     0.000000     0.000000     0.000000  \n",
        "1959     0.000000     0.000000     0.000000  \n",
        "1960     0.000000     0.000000     0.000000  \n",
        "1961     0.000000     0.000000     0.000000  \n",
        "1962     0.000000     0.000000     0.000000  \n",
        "1963     0.000000     0.000000     0.000000  \n",
        "1964     0.000000     0.000000     0.000000  \n",
        "1965     0.000000     0.000000     0.000000  \n",
        "1966     0.000000     0.000000     0.000000  \n",
        "1967     0.000000     0.000000     0.000000  \n",
        "1968     0.000000     0.000000     0.000000  \n",
        "1969     0.000000     0.000000     0.000000  \n",
        "1970     0.000000     0.000000     0.000000  \n",
        "1971     0.000000     0.000000     0.000000  \n",
        "1972     0.000000     0.000000     0.000000  \n",
        "1973     0.000000     0.000000     0.000000  \n",
        "\n",
        "[1974 rows x 47 columns]"
       ]
      }
     ],
     "prompt_number": 2
    },
    {
     "cell_type": "code",
     "collapsed": false,
     "input": [
      "df = df.sort('Product')\n",
      "df.fillna(0, inplace=True) #replace na values with 0\n",
      "df = df[~df['Product'].str.contains(\"CAIRO\")] #remove unnecessary rows\n",
      "df = df.reset_index().drop('index',1)\n",
      "df = df.groupby(['Product', 'Brand', 'Type'], axis=0, as_index=False).sum()\n",
      "df"
     ],
     "language": "python",
     "metadata": {},
     "outputs": [
      {
       "html": [
        "<div style=\"max-height:1000px;max-width:1500px;overflow:auto;\">\n",
        "<table border=\"1\" class=\"dataframe\">\n",
        "  <thead>\n",
        "    <tr style=\"text-align: right;\">\n",
        "      <th></th>\n",
        "      <th>Product</th>\n",
        "      <th>Brand</th>\n",
        "      <th>Type</th>\n",
        "      <th>May 2012</th>\n",
        "      <th>Jun 2012</th>\n",
        "      <th>Jul 2012</th>\n",
        "      <th>Aug 2012</th>\n",
        "      <th>Sep 2012</th>\n",
        "      <th>Oct 2012</th>\n",
        "      <th>Nov 2012</th>\n",
        "      <th>...</th>\n",
        "      <th>Mar 2015</th>\n",
        "      <th>Apr 2015</th>\n",
        "      <th>May 2015</th>\n",
        "      <th>Jun 2015</th>\n",
        "      <th>Jul 2015</th>\n",
        "      <th>Aug 2015</th>\n",
        "      <th>Sep 2015</th>\n",
        "      <th>Oct 2015</th>\n",
        "      <th>Nov 2015</th>\n",
        "      <th>Dec 2015</th>\n",
        "    </tr>\n",
        "  </thead>\n",
        "  <tbody>\n",
        "    <tr>\n",
        "      <th>0   </th>\n",
        "      <td>                             7 GRAIN MILK / 946ML</td>\n",
        "      <td> Pacific Natural Foods</td>\n",
        "      <td>                     Milk</td>\n",
        "      <td> 0</td>\n",
        "      <td> 0</td>\n",
        "      <td>  0.00</td>\n",
        "      <td>  0.00</td>\n",
        "      <td>  0.00</td>\n",
        "      <td>  0.0</td>\n",
        "      <td>  0.00</td>\n",
        "      <td>...</td>\n",
        "      <td> 0</td>\n",
        "      <td>  0</td>\n",
        "      <td>    0.00</td>\n",
        "      <td>   0</td>\n",
        "      <td>    0.0</td>\n",
        "      <td>    0.000000</td>\n",
        "      <td>    0.0</td>\n",
        "      <td>    0.000000</td>\n",
        "      <td>    0.000000</td>\n",
        "      <td>    0.000000</td>\n",
        "    </tr>\n",
        "    <tr>\n",
        "      <th>1   </th>\n",
        "      <td>                                 ACAI BERRY JUICE</td>\n",
        "      <td>                     0</td>\n",
        "      <td>                Beverages</td>\n",
        "      <td> 0</td>\n",
        "      <td> 0</td>\n",
        "      <td>  0.00</td>\n",
        "      <td>  0.00</td>\n",
        "      <td>  0.00</td>\n",
        "      <td>  0.0</td>\n",
        "      <td>  0.00</td>\n",
        "      <td>...</td>\n",
        "      <td> 0</td>\n",
        "      <td>  0</td>\n",
        "      <td>    0.00</td>\n",
        "      <td>   0</td>\n",
        "      <td>    0.0</td>\n",
        "      <td>    0.000000</td>\n",
        "      <td>    0.0</td>\n",
        "      <td>    0.000000</td>\n",
        "      <td>    0.000000</td>\n",
        "      <td>   60.000000</td>\n",
        "    </tr>\n",
        "    <tr>\n",
        "      <th>2   </th>\n",
        "      <td>                                 ACAI BERRY JUICE</td>\n",
        "      <td>         Berry company</td>\n",
        "      <td>                   Juices</td>\n",
        "      <td> 0</td>\n",
        "      <td> 0</td>\n",
        "      <td>  0.00</td>\n",
        "      <td>  0.00</td>\n",
        "      <td>  0.00</td>\n",
        "      <td>  0.0</td>\n",
        "      <td>  0.00</td>\n",
        "      <td>...</td>\n",
        "      <td> 0</td>\n",
        "      <td>  0</td>\n",
        "      <td>    0.00</td>\n",
        "      <td>   0</td>\n",
        "      <td>    0.0</td>\n",
        "      <td>    0.000000</td>\n",
        "      <td>    0.0</td>\n",
        "      <td>    0.000000</td>\n",
        "      <td>    0.000000</td>\n",
        "      <td>    0.000000</td>\n",
        "    </tr>\n",
        "    <tr>\n",
        "      <th>3   </th>\n",
        "      <td>                                 ACNE FACIAL SOAP</td>\n",
        "      <td>         Healing Herbs</td>\n",
        "      <td>                Cosmetics</td>\n",
        "      <td> 0</td>\n",
        "      <td> 0</td>\n",
        "      <td>  0.00</td>\n",
        "      <td>  0.00</td>\n",
        "      <td>  0.00</td>\n",
        "      <td>  0.0</td>\n",
        "      <td>  0.00</td>\n",
        "      <td>...</td>\n",
        "      <td> 0</td>\n",
        "      <td>  0</td>\n",
        "      <td>    0.00</td>\n",
        "      <td>   0</td>\n",
        "      <td>    0.0</td>\n",
        "      <td>    0.000000</td>\n",
        "      <td>    0.0</td>\n",
        "      <td>    0.000000</td>\n",
        "      <td>    0.000000</td>\n",
        "      <td>    0.000000</td>\n",
        "    </tr>\n",
        "    <tr>\n",
        "      <th>4   </th>\n",
        "      <td>                          ACQUA PANA WATER 1000ML</td>\n",
        "      <td>                   NGS</td>\n",
        "      <td>                Beverages</td>\n",
        "      <td> 0</td>\n",
        "      <td> 0</td>\n",
        "      <td>  0.00</td>\n",
        "      <td>  0.00</td>\n",
        "      <td>  0.00</td>\n",
        "      <td>  0.0</td>\n",
        "      <td>  0.00</td>\n",
        "      <td>...</td>\n",
        "      <td> 0</td>\n",
        "      <td>  0</td>\n",
        "      <td>    0.00</td>\n",
        "      <td>   0</td>\n",
        "      <td>    0.0</td>\n",
        "      <td>    0.000000</td>\n",
        "      <td>    0.0</td>\n",
        "      <td>    0.000000</td>\n",
        "      <td>    0.000000</td>\n",
        "      <td>    0.000000</td>\n",
        "    </tr>\n",
        "    <tr>\n",
        "      <th>5   </th>\n",
        "      <td>                           ACQUA PANA WATER 500ML</td>\n",
        "      <td>                   NGS</td>\n",
        "      <td>                Beverages</td>\n",
        "      <td> 0</td>\n",
        "      <td> 0</td>\n",
        "      <td>  0.00</td>\n",
        "      <td>  0.00</td>\n",
        "      <td>  0.00</td>\n",
        "      <td>  0.0</td>\n",
        "      <td>  0.00</td>\n",
        "      <td>...</td>\n",
        "      <td> 0</td>\n",
        "      <td>  0</td>\n",
        "      <td>    0.00</td>\n",
        "      <td>   0</td>\n",
        "      <td>    0.0</td>\n",
        "      <td>    0.000000</td>\n",
        "      <td>    0.0</td>\n",
        "      <td>    0.000000</td>\n",
        "      <td>    0.000000</td>\n",
        "      <td>    0.000000</td>\n",
        "    </tr>\n",
        "    <tr>\n",
        "      <th>6   </th>\n",
        "      <td>                     ACQUA PANA WATER 500ML GLASS</td>\n",
        "      <td>                   NGS</td>\n",
        "      <td>                Beverages</td>\n",
        "      <td> 0</td>\n",
        "      <td> 0</td>\n",
        "      <td>  0.00</td>\n",
        "      <td>  0.00</td>\n",
        "      <td>  0.00</td>\n",
        "      <td>  0.0</td>\n",
        "      <td>  0.00</td>\n",
        "      <td>...</td>\n",
        "      <td> 0</td>\n",
        "      <td>  0</td>\n",
        "      <td>    0.00</td>\n",
        "      <td>   0</td>\n",
        "      <td>    0.0</td>\n",
        "      <td>    0.000000</td>\n",
        "      <td>    0.0</td>\n",
        "      <td>    0.000000</td>\n",
        "      <td>    0.000000</td>\n",
        "      <td>    0.000000</td>\n",
        "    </tr>\n",
        "    <tr>\n",
        "      <th>7   </th>\n",
        "      <td>            ACTIBIF CHEESE (FOR BETTER DIGESTION)</td>\n",
        "      <td>                     0</td>\n",
        "      <td>                   cheese</td>\n",
        "      <td> 0</td>\n",
        "      <td> 0</td>\n",
        "      <td>  0.00</td>\n",
        "      <td>  0.00</td>\n",
        "      <td>  0.00</td>\n",
        "      <td>  0.0</td>\n",
        "      <td>  0.00</td>\n",
        "      <td>...</td>\n",
        "      <td> 0</td>\n",
        "      <td>  0</td>\n",
        "      <td>    0.00</td>\n",
        "      <td>   0</td>\n",
        "      <td>    0.0</td>\n",
        "      <td>   68.000000</td>\n",
        "      <td>  204.0</td>\n",
        "      <td>   68.000000</td>\n",
        "      <td>    0.000000</td>\n",
        "      <td>    0.000000</td>\n",
        "    </tr>\n",
        "    <tr>\n",
        "      <th>8   </th>\n",
        "      <td>         AGAR AGAR FLAKES (HAND HARVESTED) - WILD</td>\n",
        "      <td>                     0</td>\n",
        "      <td>         Food supplements</td>\n",
        "      <td> 0</td>\n",
        "      <td> 0</td>\n",
        "      <td>  0.00</td>\n",
        "      <td>  0.00</td>\n",
        "      <td>  0.00</td>\n",
        "      <td>  0.0</td>\n",
        "      <td>  0.00</td>\n",
        "      <td>...</td>\n",
        "      <td> 0</td>\n",
        "      <td>  0</td>\n",
        "      <td>   86.00</td>\n",
        "      <td>   0</td>\n",
        "      <td>  172.0</td>\n",
        "      <td>   86.000000</td>\n",
        "      <td>    0.0</td>\n",
        "      <td>   86.000000</td>\n",
        "      <td>    0.000000</td>\n",
        "      <td>  258.000000</td>\n",
        "    </tr>\n",
        "    <tr>\n",
        "      <th>9   </th>\n",
        "      <td>                  AGAVE SYRUP ( ORGANIC ) / 473ML</td>\n",
        "      <td> Suzanne's Specialties</td>\n",
        "      <td>               Sweeteners</td>\n",
        "      <td> 0</td>\n",
        "      <td> 0</td>\n",
        "      <td>  0.00</td>\n",
        "      <td>  0.00</td>\n",
        "      <td>  0.00</td>\n",
        "      <td>  0.0</td>\n",
        "      <td>  0.00</td>\n",
        "      <td>...</td>\n",
        "      <td> 0</td>\n",
        "      <td>  0</td>\n",
        "      <td>    0.00</td>\n",
        "      <td>   0</td>\n",
        "      <td>    0.0</td>\n",
        "      <td>    0.000000</td>\n",
        "      <td>    0.0</td>\n",
        "      <td>    0.000000</td>\n",
        "      <td>    0.000000</td>\n",
        "      <td>    0.000000</td>\n",
        "    </tr>\n",
        "    <tr>\n",
        "      <th>10  </th>\n",
        "      <td>         ALL PURPOSE BAKING FLOUR ( GLUTEN FREE )</td>\n",
        "      <td>                   NGS</td>\n",
        "      <td>                    Flour</td>\n",
        "      <td> 0</td>\n",
        "      <td> 0</td>\n",
        "      <td>  0.00</td>\n",
        "      <td>  0.00</td>\n",
        "      <td>  0.00</td>\n",
        "      <td>  0.0</td>\n",
        "      <td>  0.00</td>\n",
        "      <td>...</td>\n",
        "      <td> 0</td>\n",
        "      <td>  0</td>\n",
        "      <td>    0.00</td>\n",
        "      <td>   0</td>\n",
        "      <td>    0.0</td>\n",
        "      <td>    0.000000</td>\n",
        "      <td>    0.0</td>\n",
        "      <td>    0.000000</td>\n",
        "      <td>    0.000000</td>\n",
        "      <td>    0.000000</td>\n",
        "    </tr>\n",
        "    <tr>\n",
        "      <th>11  </th>\n",
        "      <td>  ALL PURPOSE BAKING FLOUR ( GLUTEN FREE ) / 623G</td>\n",
        "      <td>        Bob's Red Mill</td>\n",
        "      <td>                    Flour</td>\n",
        "      <td> 0</td>\n",
        "      <td> 0</td>\n",
        "      <td>  0.00</td>\n",
        "      <td>  0.00</td>\n",
        "      <td>  0.00</td>\n",
        "      <td>  0.0</td>\n",
        "      <td>  0.00</td>\n",
        "      <td>...</td>\n",
        "      <td> 0</td>\n",
        "      <td>  0</td>\n",
        "      <td>    0.00</td>\n",
        "      <td>   0</td>\n",
        "      <td>    0.0</td>\n",
        "      <td>    0.000000</td>\n",
        "      <td>    0.0</td>\n",
        "      <td>    0.000000</td>\n",
        "      <td>    0.000000</td>\n",
        "      <td>    0.000000</td>\n",
        "    </tr>\n",
        "    <tr>\n",
        "      <th>12  </th>\n",
        "      <td>           ALL PURPOSE BAKING FLOUR (GLUTEN FREE)</td>\n",
        "      <td>                     0</td>\n",
        "      <td>          Baking products</td>\n",
        "      <td> 0</td>\n",
        "      <td> 0</td>\n",
        "      <td>  0.00</td>\n",
        "      <td>  0.00</td>\n",
        "      <td>  0.00</td>\n",
        "      <td>  0.0</td>\n",
        "      <td>  0.00</td>\n",
        "      <td>...</td>\n",
        "      <td> 0</td>\n",
        "      <td>  0</td>\n",
        "      <td>    0.00</td>\n",
        "      <td>   0</td>\n",
        "      <td>  696.0</td>\n",
        "      <td> 1747.200000</td>\n",
        "      <td> 1046.4</td>\n",
        "      <td>  192.000000</td>\n",
        "      <td>    0.000000</td>\n",
        "      <td>  495.000000</td>\n",
        "    </tr>\n",
        "    <tr>\n",
        "      <th>13  </th>\n",
        "      <td>           ALL PURPOSE BAKING FLOUR (GLUTEN FREE)</td>\n",
        "      <td>                     0</td>\n",
        "      <td>                  General</td>\n",
        "      <td> 0</td>\n",
        "      <td> 0</td>\n",
        "      <td>  0.00</td>\n",
        "      <td>  0.00</td>\n",
        "      <td>  0.00</td>\n",
        "      <td>  0.0</td>\n",
        "      <td>  0.00</td>\n",
        "      <td>...</td>\n",
        "      <td> 0</td>\n",
        "      <td>  0</td>\n",
        "      <td>   43.75</td>\n",
        "      <td> 516</td>\n",
        "      <td>    0.0</td>\n",
        "      <td>    0.000000</td>\n",
        "      <td>   48.0</td>\n",
        "      <td>  528.000000</td>\n",
        "      <td>  240.000000</td>\n",
        "      <td>    0.000000</td>\n",
        "    </tr>\n",
        "    <tr>\n",
        "      <th>14  </th>\n",
        "      <td> ALMOND BISCUITS (GLUTEN FREE - TRACES OF GLUTEN)</td>\n",
        "      <td>                     0</td>\n",
        "      <td>                   Snacks</td>\n",
        "      <td> 0</td>\n",
        "      <td> 0</td>\n",
        "      <td>  0.00</td>\n",
        "      <td>  0.00</td>\n",
        "      <td>  0.00</td>\n",
        "      <td>  0.0</td>\n",
        "      <td>  0.00</td>\n",
        "      <td>...</td>\n",
        "      <td> 0</td>\n",
        "      <td> 36</td>\n",
        "      <td>   18.00</td>\n",
        "      <td>   0</td>\n",
        "      <td>    0.0</td>\n",
        "      <td>    0.000000</td>\n",
        "      <td>    0.0</td>\n",
        "      <td>    0.000000</td>\n",
        "      <td>    0.000000</td>\n",
        "      <td>    0.000000</td>\n",
        "    </tr>\n",
        "    <tr>\n",
        "      <th>15  </th>\n",
        "      <td>                       ALMOND BREAD (GLUTEN FREE)</td>\n",
        "      <td>                     0</td>\n",
        "      <td>                    Bread</td>\n",
        "      <td> 0</td>\n",
        "      <td> 0</td>\n",
        "      <td>  0.00</td>\n",
        "      <td>  0.00</td>\n",
        "      <td>  0.00</td>\n",
        "      <td>  0.0</td>\n",
        "      <td>  0.00</td>\n",
        "      <td>...</td>\n",
        "      <td> 0</td>\n",
        "      <td>  0</td>\n",
        "      <td>    0.00</td>\n",
        "      <td>   0</td>\n",
        "      <td>    0.0</td>\n",
        "      <td>    0.000000</td>\n",
        "      <td>  180.0</td>\n",
        "      <td>    0.000000</td>\n",
        "      <td>    0.000000</td>\n",
        "      <td>    0.000000</td>\n",
        "    </tr>\n",
        "    <tr>\n",
        "      <th>16  </th>\n",
        "      <td>                                    ALMOND BUTTER</td>\n",
        "      <td>                     0</td>\n",
        "      <td>               Nut butter</td>\n",
        "      <td> 0</td>\n",
        "      <td> 0</td>\n",
        "      <td>  0.00</td>\n",
        "      <td>  0.00</td>\n",
        "      <td>  0.00</td>\n",
        "      <td>  0.0</td>\n",
        "      <td>  0.00</td>\n",
        "      <td>...</td>\n",
        "      <td> 0</td>\n",
        "      <td>  0</td>\n",
        "      <td>    0.00</td>\n",
        "      <td>   0</td>\n",
        "      <td>   65.0</td>\n",
        "      <td> 1046.000000</td>\n",
        "      <td>  715.0</td>\n",
        "      <td> 1683.722222</td>\n",
        "      <td> 1755.000000</td>\n",
        "      <td> 2648.345747</td>\n",
        "    </tr>\n",
        "    <tr>\n",
        "      <th>17  </th>\n",
        "      <td>                        ALMOND BUTTER (HOME-MADE)</td>\n",
        "      <td>             Signature</td>\n",
        "      <td>                  spreads</td>\n",
        "      <td> 0</td>\n",
        "      <td> 0</td>\n",
        "      <td>  0.00</td>\n",
        "      <td>  0.00</td>\n",
        "      <td>  0.00</td>\n",
        "      <td>  0.0</td>\n",
        "      <td>  0.00</td>\n",
        "      <td>...</td>\n",
        "      <td> 0</td>\n",
        "      <td>  0</td>\n",
        "      <td>    0.00</td>\n",
        "      <td>   0</td>\n",
        "      <td>    0.0</td>\n",
        "      <td>    0.000000</td>\n",
        "      <td>    0.0</td>\n",
        "      <td>    0.000000</td>\n",
        "      <td>    0.000000</td>\n",
        "      <td>    0.000000</td>\n",
        "    </tr>\n",
        "    <tr>\n",
        "      <th>18  </th>\n",
        "      <td>                          ALMOND BUTTER (NATURAL)</td>\n",
        "      <td>                     0</td>\n",
        "      <td>               Nut butter</td>\n",
        "      <td> 0</td>\n",
        "      <td> 0</td>\n",
        "      <td>  0.00</td>\n",
        "      <td>  0.00</td>\n",
        "      <td>  0.00</td>\n",
        "      <td>  0.0</td>\n",
        "      <td>  0.00</td>\n",
        "      <td>...</td>\n",
        "      <td> 0</td>\n",
        "      <td>  0</td>\n",
        "      <td>    0.00</td>\n",
        "      <td>   0</td>\n",
        "      <td>    0.0</td>\n",
        "      <td>  130.000000</td>\n",
        "      <td>  325.0</td>\n",
        "      <td>  715.000000</td>\n",
        "      <td>  780.000000</td>\n",
        "      <td>  650.000000</td>\n",
        "    </tr>\n",
        "    <tr>\n",
        "      <th>19  </th>\n",
        "      <td>                                ALMOND MEAL FLOUR</td>\n",
        "      <td>                     0</td>\n",
        "      <td>          Baking products</td>\n",
        "      <td> 0</td>\n",
        "      <td> 0</td>\n",
        "      <td>  0.00</td>\n",
        "      <td>  0.00</td>\n",
        "      <td>  0.00</td>\n",
        "      <td>  0.0</td>\n",
        "      <td>  0.00</td>\n",
        "      <td>...</td>\n",
        "      <td> 0</td>\n",
        "      <td>  0</td>\n",
        "      <td>  504.00</td>\n",
        "      <td>   0</td>\n",
        "      <td> 1161.6</td>\n",
        "      <td> 3168.000000</td>\n",
        "      <td> 2296.8</td>\n",
        "      <td> 1716.000000</td>\n",
        "      <td> 3892.412286</td>\n",
        "      <td>  -15.575221</td>\n",
        "    </tr>\n",
        "    <tr>\n",
        "      <th>20  </th>\n",
        "      <td>                          ALMOND MILK ( ORGANIC )</td>\n",
        "      <td>                 Alpro</td>\n",
        "      <td>           Non-dairy milk</td>\n",
        "      <td> 0</td>\n",
        "      <td> 0</td>\n",
        "      <td>  0.00</td>\n",
        "      <td>  0.00</td>\n",
        "      <td>  0.00</td>\n",
        "      <td>  0.0</td>\n",
        "      <td>  0.00</td>\n",
        "      <td>...</td>\n",
        "      <td> 0</td>\n",
        "      <td>  0</td>\n",
        "      <td>    0.00</td>\n",
        "      <td>   0</td>\n",
        "      <td>    0.0</td>\n",
        "      <td>    0.000000</td>\n",
        "      <td>    0.0</td>\n",
        "      <td>    0.000000</td>\n",
        "      <td>    0.000000</td>\n",
        "      <td>    0.000000</td>\n",
        "    </tr>\n",
        "    <tr>\n",
        "      <th>21  </th>\n",
        "      <td>                  ALMOND MILK ( ORGANIC ) / 946ML</td>\n",
        "      <td> Pacific Natural Foods</td>\n",
        "      <td>           Non-dairy milk</td>\n",
        "      <td> 0</td>\n",
        "      <td> 0</td>\n",
        "      <td>  0.00</td>\n",
        "      <td>  0.00</td>\n",
        "      <td>  0.00</td>\n",
        "      <td>  0.0</td>\n",
        "      <td>  0.00</td>\n",
        "      <td>...</td>\n",
        "      <td> 0</td>\n",
        "      <td>  0</td>\n",
        "      <td>    0.00</td>\n",
        "      <td>   0</td>\n",
        "      <td>    0.0</td>\n",
        "      <td>    0.000000</td>\n",
        "      <td>    0.0</td>\n",
        "      <td>    0.000000</td>\n",
        "      <td>    0.000000</td>\n",
        "      <td>    0.000000</td>\n",
        "    </tr>\n",
        "    <tr>\n",
        "      <th>22  </th>\n",
        "      <td>                    ALMOND MILK ( ORGANIC ) 946ML</td>\n",
        "      <td>                     0</td>\n",
        "      <td>           Non-dairy milk</td>\n",
        "      <td> 0</td>\n",
        "      <td> 0</td>\n",
        "      <td>  0.00</td>\n",
        "      <td>  0.00</td>\n",
        "      <td>  0.00</td>\n",
        "      <td>  0.0</td>\n",
        "      <td>  0.00</td>\n",
        "      <td>...</td>\n",
        "      <td> 0</td>\n",
        "      <td>  0</td>\n",
        "      <td>  102.00</td>\n",
        "      <td>   0</td>\n",
        "      <td>    0.0</td>\n",
        "      <td>    0.000000</td>\n",
        "      <td>    0.0</td>\n",
        "      <td>    0.000000</td>\n",
        "      <td>    0.000000</td>\n",
        "      <td>    0.000000</td>\n",
        "    </tr>\n",
        "    <tr>\n",
        "      <th>23  </th>\n",
        "      <td>                         ALMOND MILK ( ORIGINAL )</td>\n",
        "      <td>                   NGS</td>\n",
        "      <td>           Non-dairy milk</td>\n",
        "      <td> 0</td>\n",
        "      <td> 0</td>\n",
        "      <td>  0.00</td>\n",
        "      <td>  0.00</td>\n",
        "      <td>  0.00</td>\n",
        "      <td>  0.0</td>\n",
        "      <td>  0.00</td>\n",
        "      <td>...</td>\n",
        "      <td> 0</td>\n",
        "      <td>  0</td>\n",
        "      <td>    0.00</td>\n",
        "      <td>   0</td>\n",
        "      <td>    0.0</td>\n",
        "      <td>    0.000000</td>\n",
        "      <td>    0.0</td>\n",
        "      <td>    0.000000</td>\n",
        "      <td>    0.000000</td>\n",
        "      <td>    0.000000</td>\n",
        "    </tr>\n",
        "    <tr>\n",
        "      <th>24  </th>\n",
        "      <td>               ALMOND MILK (ORGANIC) - SUGAR-FREE</td>\n",
        "      <td>                     0</td>\n",
        "      <td>           Non-dairy milk</td>\n",
        "      <td> 0</td>\n",
        "      <td> 0</td>\n",
        "      <td>  0.00</td>\n",
        "      <td>  0.00</td>\n",
        "      <td>  0.00</td>\n",
        "      <td>  0.0</td>\n",
        "      <td>  0.00</td>\n",
        "      <td>...</td>\n",
        "      <td> 0</td>\n",
        "      <td>  0</td>\n",
        "      <td>    0.00</td>\n",
        "      <td>   0</td>\n",
        "      <td>    0.0</td>\n",
        "      <td>    0.000000</td>\n",
        "      <td>    0.0</td>\n",
        "      <td>    0.000000</td>\n",
        "      <td> 2521.720515</td>\n",
        "      <td> 2530.000000</td>\n",
        "    </tr>\n",
        "    <tr>\n",
        "      <th>25  </th>\n",
        "      <td>                        ALMOND MILK (UNSWEETENED)</td>\n",
        "      <td>                     0</td>\n",
        "      <td>           Non-dairy milk</td>\n",
        "      <td> 0</td>\n",
        "      <td> 0</td>\n",
        "      <td>  0.00</td>\n",
        "      <td>  0.00</td>\n",
        "      <td>  0.00</td>\n",
        "      <td>  0.0</td>\n",
        "      <td>  0.00</td>\n",
        "      <td>...</td>\n",
        "      <td> 0</td>\n",
        "      <td>  0</td>\n",
        "      <td>    0.00</td>\n",
        "      <td>   0</td>\n",
        "      <td>    0.0</td>\n",
        "      <td>    0.000000</td>\n",
        "      <td>    0.0</td>\n",
        "      <td>    0.000000</td>\n",
        "      <td>    0.000000</td>\n",
        "      <td>    0.000000</td>\n",
        "    </tr>\n",
        "    <tr>\n",
        "      <th>26  </th>\n",
        "      <td>                  ALMOND MILK WITH DARK CHOCOLATE</td>\n",
        "      <td>           Pure almond</td>\n",
        "      <td>           Non-dairy milk</td>\n",
        "      <td> 0</td>\n",
        "      <td> 0</td>\n",
        "      <td>  0.00</td>\n",
        "      <td>  0.00</td>\n",
        "      <td>  0.00</td>\n",
        "      <td>  0.0</td>\n",
        "      <td>  0.00</td>\n",
        "      <td>...</td>\n",
        "      <td> 0</td>\n",
        "      <td>  0</td>\n",
        "      <td>    0.00</td>\n",
        "      <td>   0</td>\n",
        "      <td>    0.0</td>\n",
        "      <td>    0.000000</td>\n",
        "      <td>    0.0</td>\n",
        "      <td>    0.000000</td>\n",
        "      <td>    0.000000</td>\n",
        "      <td>    0.000000</td>\n",
        "    </tr>\n",
        "    <tr>\n",
        "      <th>27  </th>\n",
        "      <td>                         ALMOND MILK WITH VANILLA</td>\n",
        "      <td>           Pure almond</td>\n",
        "      <td>           Non-dairy milk</td>\n",
        "      <td> 0</td>\n",
        "      <td> 0</td>\n",
        "      <td>  0.00</td>\n",
        "      <td>  0.00</td>\n",
        "      <td>  0.00</td>\n",
        "      <td>  0.0</td>\n",
        "      <td>  0.00</td>\n",
        "      <td>...</td>\n",
        "      <td> 0</td>\n",
        "      <td>  0</td>\n",
        "      <td>    0.00</td>\n",
        "      <td>   0</td>\n",
        "      <td>    0.0</td>\n",
        "      <td>    0.000000</td>\n",
        "      <td>    0.0</td>\n",
        "      <td>    0.000000</td>\n",
        "      <td>    0.000000</td>\n",
        "      <td>    0.000000</td>\n",
        "    </tr>\n",
        "    <tr>\n",
        "      <th>28  </th>\n",
        "      <td>                       ALMOND ORIGINAL (ORIGINAL)</td>\n",
        "      <td>                     0</td>\n",
        "      <td>           Non-dairy milk</td>\n",
        "      <td> 0</td>\n",
        "      <td> 0</td>\n",
        "      <td>  0.00</td>\n",
        "      <td>  0.00</td>\n",
        "      <td>  0.00</td>\n",
        "      <td>  0.0</td>\n",
        "      <td>  0.00</td>\n",
        "      <td>...</td>\n",
        "      <td> 0</td>\n",
        "      <td>  0</td>\n",
        "      <td>    0.00</td>\n",
        "      <td>   0</td>\n",
        "      <td>    0.0</td>\n",
        "      <td>    0.000000</td>\n",
        "      <td>    0.0</td>\n",
        "      <td>    0.000000</td>\n",
        "      <td>    0.000000</td>\n",
        "      <td>    0.000000</td>\n",
        "    </tr>\n",
        "    <tr>\n",
        "      <th>29  </th>\n",
        "      <td>                     ALMOND'S AND OATS BODY SCRUB</td>\n",
        "      <td>                     0</td>\n",
        "      <td>                Cosmetics</td>\n",
        "      <td> 0</td>\n",
        "      <td> 0</td>\n",
        "      <td>  0.00</td>\n",
        "      <td>  0.00</td>\n",
        "      <td>  0.00</td>\n",
        "      <td>  0.0</td>\n",
        "      <td>  0.00</td>\n",
        "      <td>...</td>\n",
        "      <td> 0</td>\n",
        "      <td>  0</td>\n",
        "      <td>    0.00</td>\n",
        "      <td>   0</td>\n",
        "      <td>    0.0</td>\n",
        "      <td>    0.000000</td>\n",
        "      <td>    0.0</td>\n",
        "      <td>    0.000000</td>\n",
        "      <td>    0.000000</td>\n",
        "      <td>    0.000000</td>\n",
        "    </tr>\n",
        "    <tr>\n",
        "      <th>...</th>\n",
        "      <td>...</td>\n",
        "      <td>...</td>\n",
        "      <td>...</td>\n",
        "      <td>...</td>\n",
        "      <td>...</td>\n",
        "      <td>...</td>\n",
        "      <td>...</td>\n",
        "      <td>...</td>\n",
        "      <td>...</td>\n",
        "      <td>...</td>\n",
        "      <td>...</td>\n",
        "      <td>...</td>\n",
        "      <td>...</td>\n",
        "      <td>...</td>\n",
        "      <td>...</td>\n",
        "      <td>...</td>\n",
        "      <td>...</td>\n",
        "      <td>...</td>\n",
        "      <td>...</td>\n",
        "      <td>...</td>\n",
        "      <td>...</td>\n",
        "    </tr>\n",
        "    <tr>\n",
        "      <th>1837</th>\n",
        "      <td>                        XANTHAN GUM (GLUTEN FREE)</td>\n",
        "      <td>                     0</td>\n",
        "      <td>          Baking products</td>\n",
        "      <td> 0</td>\n",
        "      <td> 0</td>\n",
        "      <td>  0.00</td>\n",
        "      <td>  0.00</td>\n",
        "      <td>  0.00</td>\n",
        "      <td>  0.0</td>\n",
        "      <td>  0.00</td>\n",
        "      <td>...</td>\n",
        "      <td> 0</td>\n",
        "      <td>  0</td>\n",
        "      <td>    0.00</td>\n",
        "      <td>   0</td>\n",
        "      <td>    0.0</td>\n",
        "      <td>  660.000000</td>\n",
        "      <td>  264.0</td>\n",
        "      <td>  396.000000</td>\n",
        "      <td> 1596.000000</td>\n",
        "      <td>    0.000000</td>\n",
        "    </tr>\n",
        "    <tr>\n",
        "      <th>1838</th>\n",
        "      <td>                                 YAKI NORI SHEETS</td>\n",
        "      <td>                   NGS</td>\n",
        "      <td>         Japanese cuisine</td>\n",
        "      <td> 0</td>\n",
        "      <td> 0</td>\n",
        "      <td>  0.00</td>\n",
        "      <td>  0.00</td>\n",
        "      <td>  0.00</td>\n",
        "      <td>  0.0</td>\n",
        "      <td>  0.00</td>\n",
        "      <td>...</td>\n",
        "      <td> 0</td>\n",
        "      <td>  0</td>\n",
        "      <td>    0.00</td>\n",
        "      <td>   0</td>\n",
        "      <td>    0.0</td>\n",
        "      <td>    0.000000</td>\n",
        "      <td>    0.0</td>\n",
        "      <td>    0.000000</td>\n",
        "      <td>    0.000000</td>\n",
        "      <td>    0.000000</td>\n",
        "    </tr>\n",
        "    <tr>\n",
        "      <th>1839</th>\n",
        "      <td>                                    YELLOW APPLES</td>\n",
        "      <td>                   NGS</td>\n",
        "      <td>                   Fruits</td>\n",
        "      <td> 0</td>\n",
        "      <td> 0</td>\n",
        "      <td>  0.00</td>\n",
        "      <td>  0.00</td>\n",
        "      <td>  0.00</td>\n",
        "      <td>  0.0</td>\n",
        "      <td>  0.00</td>\n",
        "      <td>...</td>\n",
        "      <td> 0</td>\n",
        "      <td>  0</td>\n",
        "      <td>    0.00</td>\n",
        "      <td> 130</td>\n",
        "      <td>   78.0</td>\n",
        "      <td>  156.000000</td>\n",
        "      <td>  305.0</td>\n",
        "      <td>  413.408990</td>\n",
        "      <td>  504.000000</td>\n",
        "      <td>   75.400000</td>\n",
        "    </tr>\n",
        "    <tr>\n",
        "      <th>1840</th>\n",
        "      <td>                                  YELLOW BROCCOLI</td>\n",
        "      <td>                   NGS</td>\n",
        "      <td>         Fresh vegetables</td>\n",
        "      <td> 0</td>\n",
        "      <td> 0</td>\n",
        "      <td>  0.00</td>\n",
        "      <td>  0.00</td>\n",
        "      <td>  0.00</td>\n",
        "      <td>  0.0</td>\n",
        "      <td>  0.00</td>\n",
        "      <td>...</td>\n",
        "      <td> 0</td>\n",
        "      <td>  0</td>\n",
        "      <td>    0.00</td>\n",
        "      <td>   0</td>\n",
        "      <td>    0.0</td>\n",
        "      <td>    0.000000</td>\n",
        "      <td>    0.0</td>\n",
        "      <td>    0.000000</td>\n",
        "      <td>    0.000000</td>\n",
        "      <td>    0.000000</td>\n",
        "    </tr>\n",
        "    <tr>\n",
        "      <th>1841</th>\n",
        "      <td>                YELLOW CAPSICUM ( CHEMICAL FREE )</td>\n",
        "      <td>                   NGS</td>\n",
        "      <td> Chemical free vegetables</td>\n",
        "      <td> 0</td>\n",
        "      <td> 0</td>\n",
        "      <td>  0.00</td>\n",
        "      <td>  0.00</td>\n",
        "      <td>  0.00</td>\n",
        "      <td>  0.0</td>\n",
        "      <td>  0.00</td>\n",
        "      <td>...</td>\n",
        "      <td> 0</td>\n",
        "      <td>  0</td>\n",
        "      <td>    0.00</td>\n",
        "      <td>   0</td>\n",
        "      <td>    0.0</td>\n",
        "      <td>    0.000000</td>\n",
        "      <td>    0.0</td>\n",
        "      <td>    0.000000</td>\n",
        "      <td>    0.000000</td>\n",
        "      <td>    0.000000</td>\n",
        "    </tr>\n",
        "    <tr>\n",
        "      <th>1842</th>\n",
        "      <td>                  YELLOW CARROT ( CHEMICAL FREE )</td>\n",
        "      <td>                     0</td>\n",
        "      <td>               Vegetables</td>\n",
        "      <td> 0</td>\n",
        "      <td> 0</td>\n",
        "      <td>  0.00</td>\n",
        "      <td>  0.00</td>\n",
        "      <td>  0.00</td>\n",
        "      <td>  0.0</td>\n",
        "      <td>  0.00</td>\n",
        "      <td>...</td>\n",
        "      <td> 0</td>\n",
        "      <td> 14</td>\n",
        "      <td> 1098.00</td>\n",
        "      <td> 210</td>\n",
        "      <td>    0.0</td>\n",
        "      <td>   30.000000</td>\n",
        "      <td>    0.0</td>\n",
        "      <td>    0.000000</td>\n",
        "      <td>    0.000000</td>\n",
        "      <td>    0.000000</td>\n",
        "    </tr>\n",
        "    <tr>\n",
        "      <th>1843</th>\n",
        "      <td>                  YELLOW CARROT ( CHEMICAL FREE )</td>\n",
        "      <td>                   NGS</td>\n",
        "      <td>         Fresh vegetables</td>\n",
        "      <td> 0</td>\n",
        "      <td> 0</td>\n",
        "      <td>  0.00</td>\n",
        "      <td>  0.00</td>\n",
        "      <td>  0.00</td>\n",
        "      <td>  0.0</td>\n",
        "      <td>  0.00</td>\n",
        "      <td>...</td>\n",
        "      <td> 0</td>\n",
        "      <td>  0</td>\n",
        "      <td>    0.00</td>\n",
        "      <td>   0</td>\n",
        "      <td>    0.0</td>\n",
        "      <td>    0.000000</td>\n",
        "      <td>    0.0</td>\n",
        "      <td>    0.000000</td>\n",
        "      <td>    0.000000</td>\n",
        "      <td>    0.000000</td>\n",
        "    </tr>\n",
        "    <tr>\n",
        "      <th>1844</th>\n",
        "      <td>                                   YELLOW CARROTS</td>\n",
        "      <td>                   NGS</td>\n",
        "      <td>         Fresh vegetables</td>\n",
        "      <td> 0</td>\n",
        "      <td> 0</td>\n",
        "      <td>  0.00</td>\n",
        "      <td>  0.00</td>\n",
        "      <td>  0.00</td>\n",
        "      <td>  0.0</td>\n",
        "      <td>  0.00</td>\n",
        "      <td>...</td>\n",
        "      <td> 0</td>\n",
        "      <td>  0</td>\n",
        "      <td>    0.00</td>\n",
        "      <td>   0</td>\n",
        "      <td>    0.0</td>\n",
        "      <td>    0.000000</td>\n",
        "      <td>    0.0</td>\n",
        "      <td>    0.000000</td>\n",
        "      <td>    0.000000</td>\n",
        "      <td>    0.000000</td>\n",
        "    </tr>\n",
        "    <tr>\n",
        "      <th>1845</th>\n",
        "      <td>                           YELLOW CHERRY TOMATOES</td>\n",
        "      <td>            Kheir Misr</td>\n",
        "      <td>         Fresh vegetables</td>\n",
        "      <td> 0</td>\n",
        "      <td> 0</td>\n",
        "      <td>  0.00</td>\n",
        "      <td>  0.00</td>\n",
        "      <td>  0.00</td>\n",
        "      <td>  0.0</td>\n",
        "      <td>  0.00</td>\n",
        "      <td>...</td>\n",
        "      <td> 0</td>\n",
        "      <td>  0</td>\n",
        "      <td>    0.00</td>\n",
        "      <td>   0</td>\n",
        "      <td>    0.0</td>\n",
        "      <td>    0.000000</td>\n",
        "      <td>    0.0</td>\n",
        "      <td>    0.000000</td>\n",
        "      <td>    0.000000</td>\n",
        "      <td>    0.000000</td>\n",
        "    </tr>\n",
        "    <tr>\n",
        "      <th>1846</th>\n",
        "      <td>                                YELLOW GRAPEFRUIT</td>\n",
        "      <td>                     0</td>\n",
        "      <td>             Fresh fruits</td>\n",
        "      <td> 0</td>\n",
        "      <td> 0</td>\n",
        "      <td>  0.00</td>\n",
        "      <td>  0.00</td>\n",
        "      <td>  0.00</td>\n",
        "      <td>  0.0</td>\n",
        "      <td>  0.00</td>\n",
        "      <td>...</td>\n",
        "      <td> 0</td>\n",
        "      <td>  0</td>\n",
        "      <td>    0.00</td>\n",
        "      <td>   0</td>\n",
        "      <td>    0.0</td>\n",
        "      <td>    0.000000</td>\n",
        "      <td>    0.0</td>\n",
        "      <td>    0.000000</td>\n",
        "      <td>    0.000000</td>\n",
        "      <td>    0.000000</td>\n",
        "    </tr>\n",
        "    <tr>\n",
        "      <th>1847</th>\n",
        "      <td>                                YELLOW GRAPEFRUIT</td>\n",
        "      <td>                   NGS</td>\n",
        "      <td>                   Fruits</td>\n",
        "      <td> 0</td>\n",
        "      <td> 0</td>\n",
        "      <td>  0.00</td>\n",
        "      <td>  0.00</td>\n",
        "      <td>  0.00</td>\n",
        "      <td>  0.0</td>\n",
        "      <td>  0.00</td>\n",
        "      <td>...</td>\n",
        "      <td> 0</td>\n",
        "      <td>  0</td>\n",
        "      <td>  218.00</td>\n",
        "      <td>  58</td>\n",
        "      <td>   84.0</td>\n",
        "      <td>  140.846479</td>\n",
        "      <td>   99.0</td>\n",
        "      <td>   87.755294</td>\n",
        "      <td>   41.899052</td>\n",
        "      <td>    9.000000</td>\n",
        "    </tr>\n",
        "    <tr>\n",
        "      <th>1848</th>\n",
        "      <td>                                   YELLOW MUSTARD</td>\n",
        "      <td>      Eden Foods, Inc.</td>\n",
        "      <td>                   Spices</td>\n",
        "      <td> 0</td>\n",
        "      <td> 0</td>\n",
        "      <td>  0.00</td>\n",
        "      <td>  0.00</td>\n",
        "      <td>  0.00</td>\n",
        "      <td>  0.0</td>\n",
        "      <td>  0.00</td>\n",
        "      <td>...</td>\n",
        "      <td> 0</td>\n",
        "      <td>  0</td>\n",
        "      <td>    0.00</td>\n",
        "      <td>   0</td>\n",
        "      <td>    0.0</td>\n",
        "      <td>    0.000000</td>\n",
        "      <td>    0.0</td>\n",
        "      <td>    0.000000</td>\n",
        "      <td>   69.189577</td>\n",
        "      <td>   49.505758</td>\n",
        "    </tr>\n",
        "    <tr>\n",
        "      <th>1849</th>\n",
        "      <td>                  YELLOW ONIONS ( CHEMICAL FREE )</td>\n",
        "      <td>                   NGS</td>\n",
        "      <td>         Fresh vegetables</td>\n",
        "      <td> 0</td>\n",
        "      <td> 0</td>\n",
        "      <td>  0.00</td>\n",
        "      <td>  0.00</td>\n",
        "      <td>  0.00</td>\n",
        "      <td>  0.0</td>\n",
        "      <td>  0.00</td>\n",
        "      <td>...</td>\n",
        "      <td> 0</td>\n",
        "      <td>  0</td>\n",
        "      <td>    0.00</td>\n",
        "      <td>   0</td>\n",
        "      <td>    0.0</td>\n",
        "      <td>    0.000000</td>\n",
        "      <td>    0.0</td>\n",
        "      <td>    0.000000</td>\n",
        "      <td>    0.000000</td>\n",
        "      <td>    0.000000</td>\n",
        "    </tr>\n",
        "    <tr>\n",
        "      <th>1850</th>\n",
        "      <td>                         YELLOW SPLIT PEAS / 822G</td>\n",
        "      <td>        Bob's Red Mill</td>\n",
        "      <td>                   Grains</td>\n",
        "      <td> 0</td>\n",
        "      <td> 0</td>\n",
        "      <td>  0.00</td>\n",
        "      <td>  0.00</td>\n",
        "      <td>  0.00</td>\n",
        "      <td>  0.0</td>\n",
        "      <td>  0.00</td>\n",
        "      <td>...</td>\n",
        "      <td> 0</td>\n",
        "      <td>  0</td>\n",
        "      <td>    0.00</td>\n",
        "      <td>   0</td>\n",
        "      <td>    0.0</td>\n",
        "      <td>    0.000000</td>\n",
        "      <td>    0.0</td>\n",
        "      <td>    0.000000</td>\n",
        "      <td>    0.000000</td>\n",
        "      <td>    0.000000</td>\n",
        "    </tr>\n",
        "    <tr>\n",
        "      <th>1851</th>\n",
        "      <td>                                YELLOW WATERMELON</td>\n",
        "      <td>                   NGS</td>\n",
        "      <td>                   Fruits</td>\n",
        "      <td> 0</td>\n",
        "      <td> 0</td>\n",
        "      <td>  0.00</td>\n",
        "      <td>  0.00</td>\n",
        "      <td>  0.00</td>\n",
        "      <td>  0.0</td>\n",
        "      <td>  0.00</td>\n",
        "      <td>...</td>\n",
        "      <td> 0</td>\n",
        "      <td>  0</td>\n",
        "      <td>    0.00</td>\n",
        "      <td>   0</td>\n",
        "      <td>    0.0</td>\n",
        "      <td>   65.000000</td>\n",
        "      <td>   65.0</td>\n",
        "      <td>    0.000000</td>\n",
        "      <td>    0.000000</td>\n",
        "      <td>    0.000000</td>\n",
        "    </tr>\n",
        "    <tr>\n",
        "      <th>1852</th>\n",
        "      <td>                       YING/YANG FACIAL ACNE SOAP</td>\n",
        "      <td>                     0</td>\n",
        "      <td>                Cosmetics</td>\n",
        "      <td> 0</td>\n",
        "      <td> 0</td>\n",
        "      <td>  0.00</td>\n",
        "      <td>  0.00</td>\n",
        "      <td>  0.00</td>\n",
        "      <td>  0.0</td>\n",
        "      <td>  0.00</td>\n",
        "      <td>...</td>\n",
        "      <td> 0</td>\n",
        "      <td>  0</td>\n",
        "      <td>    0.00</td>\n",
        "      <td>   0</td>\n",
        "      <td>    0.0</td>\n",
        "      <td>    0.000000</td>\n",
        "      <td>    0.0</td>\n",
        "      <td>    0.000000</td>\n",
        "      <td>    0.000000</td>\n",
        "      <td>    0.000000</td>\n",
        "    </tr>\n",
        "    <tr>\n",
        "      <th>1853</th>\n",
        "      <td>                              YOUSSFI (TANGERINE)</td>\n",
        "      <td>                   NGS</td>\n",
        "      <td>                   Fruits</td>\n",
        "      <td> 0</td>\n",
        "      <td> 0</td>\n",
        "      <td>  0.00</td>\n",
        "      <td>  0.00</td>\n",
        "      <td>  0.00</td>\n",
        "      <td>  0.0</td>\n",
        "      <td>  0.00</td>\n",
        "      <td>...</td>\n",
        "      <td> 0</td>\n",
        "      <td>  0</td>\n",
        "      <td>    0.00</td>\n",
        "      <td>   0</td>\n",
        "      <td>    0.0</td>\n",
        "      <td>    0.000000</td>\n",
        "      <td>    0.0</td>\n",
        "      <td>    0.000000</td>\n",
        "      <td>   25.000000</td>\n",
        "      <td>    0.000000</td>\n",
        "    </tr>\n",
        "    <tr>\n",
        "      <th>1854</th>\n",
        "      <td>                     ZARDA EXTRA VIRGIN OLIVE OIL</td>\n",
        "      <td>                   NGS</td>\n",
        "      <td>          Oil &amp; Vinegar  </td>\n",
        "      <td> 0</td>\n",
        "      <td> 0</td>\n",
        "      <td>  0.00</td>\n",
        "      <td>  0.00</td>\n",
        "      <td>  0.00</td>\n",
        "      <td>  0.0</td>\n",
        "      <td>  0.00</td>\n",
        "      <td>...</td>\n",
        "      <td> 0</td>\n",
        "      <td>  0</td>\n",
        "      <td>    0.00</td>\n",
        "      <td>   0</td>\n",
        "      <td>    0.0</td>\n",
        "      <td>    0.000000</td>\n",
        "      <td>    0.0</td>\n",
        "      <td>    0.000000</td>\n",
        "      <td>    0.000000</td>\n",
        "      <td>    0.000000</td>\n",
        "    </tr>\n",
        "    <tr>\n",
        "      <th>1855</th>\n",
        "      <td>                                         ZUCCHINI</td>\n",
        "      <td>            Kheir Misr</td>\n",
        "      <td>         Fresh vegetables</td>\n",
        "      <td> 0</td>\n",
        "      <td> 0</td>\n",
        "      <td>  0.00</td>\n",
        "      <td>  0.00</td>\n",
        "      <td>  0.00</td>\n",
        "      <td>  0.0</td>\n",
        "      <td>  0.00</td>\n",
        "      <td>...</td>\n",
        "      <td> 0</td>\n",
        "      <td>  0</td>\n",
        "      <td>    0.00</td>\n",
        "      <td>   0</td>\n",
        "      <td>    0.0</td>\n",
        "      <td>    0.000000</td>\n",
        "      <td>    0.0</td>\n",
        "      <td>    0.000000</td>\n",
        "      <td>    0.000000</td>\n",
        "      <td>    0.000000</td>\n",
        "    </tr>\n",
        "    <tr>\n",
        "      <th>1856</th>\n",
        "      <td>                                         ZUCCHINI</td>\n",
        "      <td>                   NGS</td>\n",
        "      <td>         Fresh vegetables</td>\n",
        "      <td> 0</td>\n",
        "      <td> 0</td>\n",
        "      <td>  0.00</td>\n",
        "      <td>  0.00</td>\n",
        "      <td>  0.00</td>\n",
        "      <td>  0.0</td>\n",
        "      <td>  0.00</td>\n",
        "      <td>...</td>\n",
        "      <td> 0</td>\n",
        "      <td>  0</td>\n",
        "      <td>    0.00</td>\n",
        "      <td>   0</td>\n",
        "      <td>    0.0</td>\n",
        "      <td>    0.000000</td>\n",
        "      <td>    0.0</td>\n",
        "      <td>    0.000000</td>\n",
        "      <td>    0.000000</td>\n",
        "      <td>    0.000000</td>\n",
        "    </tr>\n",
        "    <tr>\n",
        "      <th>1857</th>\n",
        "      <td>                                         ZUCCHINI</td>\n",
        "      <td>                   NGS</td>\n",
        "      <td>                  General</td>\n",
        "      <td> 0</td>\n",
        "      <td> 0</td>\n",
        "      <td>  0.00</td>\n",
        "      <td>  0.00</td>\n",
        "      <td>  0.00</td>\n",
        "      <td>  0.0</td>\n",
        "      <td>  0.00</td>\n",
        "      <td>...</td>\n",
        "      <td> 0</td>\n",
        "      <td>  0</td>\n",
        "      <td>    0.00</td>\n",
        "      <td>   0</td>\n",
        "      <td>    0.0</td>\n",
        "      <td>    0.000000</td>\n",
        "      <td>    0.0</td>\n",
        "      <td>    0.000000</td>\n",
        "      <td>   69.871046</td>\n",
        "      <td>    0.000000</td>\n",
        "    </tr>\n",
        "    <tr>\n",
        "      <th>1858</th>\n",
        "      <td>                       ZUCCHINI ( CHEMICAL FREE )</td>\n",
        "      <td>                     0</td>\n",
        "      <td>               Vegetables</td>\n",
        "      <td> 0</td>\n",
        "      <td> 0</td>\n",
        "      <td>  0.00</td>\n",
        "      <td>  0.00</td>\n",
        "      <td>  0.00</td>\n",
        "      <td>  0.0</td>\n",
        "      <td>  0.00</td>\n",
        "      <td>...</td>\n",
        "      <td> 0</td>\n",
        "      <td> 55</td>\n",
        "      <td>    0.00</td>\n",
        "      <td>   0</td>\n",
        "      <td>    0.0</td>\n",
        "      <td>    0.000000</td>\n",
        "      <td>    0.0</td>\n",
        "      <td>    0.000000</td>\n",
        "      <td>    0.000000</td>\n",
        "      <td>    0.000000</td>\n",
        "    </tr>\n",
        "    <tr>\n",
        "      <th>1859</th>\n",
        "      <td>                       ZUCCHINI ( CHEMICAL FREE )</td>\n",
        "      <td>                   NGS</td>\n",
        "      <td>         Fresh vegetables</td>\n",
        "      <td> 0</td>\n",
        "      <td> 0</td>\n",
        "      <td>  0.00</td>\n",
        "      <td>  0.00</td>\n",
        "      <td>  0.00</td>\n",
        "      <td>  0.0</td>\n",
        "      <td>  0.00</td>\n",
        "      <td>...</td>\n",
        "      <td> 0</td>\n",
        "      <td>  0</td>\n",
        "      <td>    0.00</td>\n",
        "      <td>   0</td>\n",
        "      <td>    0.0</td>\n",
        "      <td>    0.000000</td>\n",
        "      <td>    0.0</td>\n",
        "      <td>    0.000000</td>\n",
        "      <td>    0.000000</td>\n",
        "      <td>    0.000000</td>\n",
        "    </tr>\n",
        "    <tr>\n",
        "      <th>1860</th>\n",
        "      <td>                         ZUCCHINI (CHEMICAL FREE)</td>\n",
        "      <td>                     0</td>\n",
        "      <td> Chemical free vegetables</td>\n",
        "      <td> 0</td>\n",
        "      <td> 0</td>\n",
        "      <td>  0.00</td>\n",
        "      <td>  0.00</td>\n",
        "      <td>  0.00</td>\n",
        "      <td>  0.0</td>\n",
        "      <td>  0.00</td>\n",
        "      <td>...</td>\n",
        "      <td> 0</td>\n",
        "      <td>  0</td>\n",
        "      <td>    0.00</td>\n",
        "      <td>   0</td>\n",
        "      <td>    0.0</td>\n",
        "      <td>    0.000000</td>\n",
        "      <td>    0.0</td>\n",
        "      <td>    0.000000</td>\n",
        "      <td>    0.000000</td>\n",
        "      <td>    0.000000</td>\n",
        "    </tr>\n",
        "    <tr>\n",
        "      <th>1861</th>\n",
        "      <td>                         ZUCCHINI (CHEMICAL FREE)</td>\n",
        "      <td>                     0</td>\n",
        "      <td>               Vegetables</td>\n",
        "      <td> 0</td>\n",
        "      <td> 0</td>\n",
        "      <td>  0.00</td>\n",
        "      <td>  0.00</td>\n",
        "      <td>  0.00</td>\n",
        "      <td>  0.0</td>\n",
        "      <td>  0.00</td>\n",
        "      <td>...</td>\n",
        "      <td> 0</td>\n",
        "      <td>  0</td>\n",
        "      <td>  766.60</td>\n",
        "      <td> 210</td>\n",
        "      <td>    7.5</td>\n",
        "      <td>  150.000000</td>\n",
        "      <td>  330.0</td>\n",
        "      <td>  318.076923</td>\n",
        "      <td>  695.681924</td>\n",
        "      <td>  212.509227</td>\n",
        "    </tr>\n",
        "    <tr>\n",
        "      <th>1862</th>\n",
        "      <td>                               ZUCCHINI (ORGANIC)</td>\n",
        "      <td>                     0</td>\n",
        "      <td>               Vegetables</td>\n",
        "      <td> 0</td>\n",
        "      <td> 0</td>\n",
        "      <td>  0.00</td>\n",
        "      <td>  0.00</td>\n",
        "      <td>  0.00</td>\n",
        "      <td>  0.0</td>\n",
        "      <td>  0.00</td>\n",
        "      <td>...</td>\n",
        "      <td> 0</td>\n",
        "      <td>  0</td>\n",
        "      <td>    0.00</td>\n",
        "      <td> 244</td>\n",
        "      <td>  403.2</td>\n",
        "      <td>  342.794118</td>\n",
        "      <td>   56.0</td>\n",
        "      <td>  280.000000</td>\n",
        "      <td>    0.000000</td>\n",
        "      <td>  181.734738</td>\n",
        "    </tr>\n",
        "    <tr>\n",
        "      <th>1863</th>\n",
        "      <td>                                  ZUCCHINI / 500G</td>\n",
        "      <td>                   NGS</td>\n",
        "      <td>            Fresh Produce</td>\n",
        "      <td> 0</td>\n",
        "      <td> 0</td>\n",
        "      <td> 30.78</td>\n",
        "      <td> 27.36</td>\n",
        "      <td> 23.94</td>\n",
        "      <td> 34.2</td>\n",
        "      <td> 78.66</td>\n",
        "      <td>...</td>\n",
        "      <td> 0</td>\n",
        "      <td>  0</td>\n",
        "      <td>    0.00</td>\n",
        "      <td>   0</td>\n",
        "      <td>    0.0</td>\n",
        "      <td>    0.000000</td>\n",
        "      <td>    0.0</td>\n",
        "      <td>    0.000000</td>\n",
        "      <td>    0.000000</td>\n",
        "      <td>    0.000000</td>\n",
        "    </tr>\n",
        "    <tr>\n",
        "      <th>1864</th>\n",
        "      <td>                                 ZUCCHINI FLOWERS</td>\n",
        "      <td>                   NGS</td>\n",
        "      <td>         Fresh vegetables</td>\n",
        "      <td> 0</td>\n",
        "      <td> 0</td>\n",
        "      <td>  0.00</td>\n",
        "      <td>  0.00</td>\n",
        "      <td>  0.00</td>\n",
        "      <td>  0.0</td>\n",
        "      <td>  0.00</td>\n",
        "      <td>...</td>\n",
        "      <td> 0</td>\n",
        "      <td>  0</td>\n",
        "      <td>    0.00</td>\n",
        "      <td>   0</td>\n",
        "      <td>    0.0</td>\n",
        "      <td>    0.000000</td>\n",
        "      <td>    0.0</td>\n",
        "      <td>    0.000000</td>\n",
        "      <td>    0.000000</td>\n",
        "      <td>    0.000000</td>\n",
        "    </tr>\n",
        "    <tr>\n",
        "      <th>1865</th>\n",
        "      <td>                 ZUCCHINI FLOWERS (CHEMICAL FREE)</td>\n",
        "      <td>                     0</td>\n",
        "      <td>               Vegetables</td>\n",
        "      <td> 0</td>\n",
        "      <td> 0</td>\n",
        "      <td>  0.00</td>\n",
        "      <td>  0.00</td>\n",
        "      <td>  0.00</td>\n",
        "      <td>  0.0</td>\n",
        "      <td>  0.00</td>\n",
        "      <td>...</td>\n",
        "      <td> 0</td>\n",
        "      <td>  0</td>\n",
        "      <td>   19.00</td>\n",
        "      <td> 157</td>\n",
        "      <td>   44.0</td>\n",
        "      <td>    0.000000</td>\n",
        "      <td>    0.0</td>\n",
        "      <td>    0.000000</td>\n",
        "      <td>    0.000000</td>\n",
        "      <td>    0.000000</td>\n",
        "    </tr>\n",
        "    <tr>\n",
        "      <th>1866</th>\n",
        "      <td>   ZUCCHINI JAM WITH PISTACHIO &amp; MASTIC (NATURAL)</td>\n",
        "      <td>                     0</td>\n",
        "      <td>                      Jam</td>\n",
        "      <td> 0</td>\n",
        "      <td> 0</td>\n",
        "      <td>  0.00</td>\n",
        "      <td>  0.00</td>\n",
        "      <td>  0.00</td>\n",
        "      <td>  0.0</td>\n",
        "      <td>  0.00</td>\n",
        "      <td>...</td>\n",
        "      <td> 0</td>\n",
        "      <td>  0</td>\n",
        "      <td>    0.00</td>\n",
        "      <td>   0</td>\n",
        "      <td>    0.0</td>\n",
        "      <td>    0.000000</td>\n",
        "      <td>  200.0</td>\n",
        "      <td>    0.000000</td>\n",
        "      <td>    0.000000</td>\n",
        "      <td>    0.000000</td>\n",
        "    </tr>\n",
        "  </tbody>\n",
        "</table>\n",
        "<p>1867 rows \u00d7 47 columns</p>\n",
        "</div>"
       ],
       "metadata": {},
       "output_type": "pyout",
       "prompt_number": 3,
       "text": [
        "                                               Product                  Brand  \\\n",
        "0                                 7 GRAIN MILK / 946ML  Pacific Natural Foods   \n",
        "1                                     ACAI BERRY JUICE                      0   \n",
        "2                                     ACAI BERRY JUICE          Berry company   \n",
        "3                                     ACNE FACIAL SOAP          Healing Herbs   \n",
        "4                              ACQUA PANA WATER 1000ML                    NGS   \n",
        "5                               ACQUA PANA WATER 500ML                    NGS   \n",
        "6                         ACQUA PANA WATER 500ML GLASS                    NGS   \n",
        "7                ACTIBIF CHEESE (FOR BETTER DIGESTION)                      0   \n",
        "8             AGAR AGAR FLAKES (HAND HARVESTED) - WILD                      0   \n",
        "9                      AGAVE SYRUP ( ORGANIC ) / 473ML  Suzanne's Specialties   \n",
        "10            ALL PURPOSE BAKING FLOUR ( GLUTEN FREE )                    NGS   \n",
        "11     ALL PURPOSE BAKING FLOUR ( GLUTEN FREE ) / 623G         Bob's Red Mill   \n",
        "12              ALL PURPOSE BAKING FLOUR (GLUTEN FREE)                      0   \n",
        "13              ALL PURPOSE BAKING FLOUR (GLUTEN FREE)                      0   \n",
        "14    ALMOND BISCUITS (GLUTEN FREE - TRACES OF GLUTEN)                      0   \n",
        "15                          ALMOND BREAD (GLUTEN FREE)                      0   \n",
        "16                                       ALMOND BUTTER                      0   \n",
        "17                           ALMOND BUTTER (HOME-MADE)              Signature   \n",
        "18                             ALMOND BUTTER (NATURAL)                      0   \n",
        "19                                   ALMOND MEAL FLOUR                      0   \n",
        "20                             ALMOND MILK ( ORGANIC )                  Alpro   \n",
        "21                     ALMOND MILK ( ORGANIC ) / 946ML  Pacific Natural Foods   \n",
        "22                       ALMOND MILK ( ORGANIC ) 946ML                      0   \n",
        "23                            ALMOND MILK ( ORIGINAL )                    NGS   \n",
        "24                  ALMOND MILK (ORGANIC) - SUGAR-FREE                      0   \n",
        "25                           ALMOND MILK (UNSWEETENED)                      0   \n",
        "26                     ALMOND MILK WITH DARK CHOCOLATE            Pure almond   \n",
        "27                            ALMOND MILK WITH VANILLA            Pure almond   \n",
        "28                          ALMOND ORIGINAL (ORIGINAL)                      0   \n",
        "29                        ALMOND'S AND OATS BODY SCRUB                      0   \n",
        "...                                                ...                    ...   \n",
        "1837                         XANTHAN GUM (GLUTEN FREE)                      0   \n",
        "1838                                  YAKI NORI SHEETS                    NGS   \n",
        "1839                                     YELLOW APPLES                    NGS   \n",
        "1840                                   YELLOW BROCCOLI                    NGS   \n",
        "1841                 YELLOW CAPSICUM ( CHEMICAL FREE )                    NGS   \n",
        "1842                   YELLOW CARROT ( CHEMICAL FREE )                      0   \n",
        "1843                   YELLOW CARROT ( CHEMICAL FREE )                    NGS   \n",
        "1844                                    YELLOW CARROTS                    NGS   \n",
        "1845                            YELLOW CHERRY TOMATOES             Kheir Misr   \n",
        "1846                                 YELLOW GRAPEFRUIT                      0   \n",
        "1847                                 YELLOW GRAPEFRUIT                    NGS   \n",
        "1848                                    YELLOW MUSTARD       Eden Foods, Inc.   \n",
        "1849                   YELLOW ONIONS ( CHEMICAL FREE )                    NGS   \n",
        "1850                          YELLOW SPLIT PEAS / 822G         Bob's Red Mill   \n",
        "1851                                 YELLOW WATERMELON                    NGS   \n",
        "1852                        YING/YANG FACIAL ACNE SOAP                      0   \n",
        "1853                               YOUSSFI (TANGERINE)                    NGS   \n",
        "1854                      ZARDA EXTRA VIRGIN OLIVE OIL                    NGS   \n",
        "1855                                          ZUCCHINI             Kheir Misr   \n",
        "1856                                          ZUCCHINI                    NGS   \n",
        "1857                                          ZUCCHINI                    NGS   \n",
        "1858                        ZUCCHINI ( CHEMICAL FREE )                      0   \n",
        "1859                        ZUCCHINI ( CHEMICAL FREE )                    NGS   \n",
        "1860                          ZUCCHINI (CHEMICAL FREE)                      0   \n",
        "1861                          ZUCCHINI (CHEMICAL FREE)                      0   \n",
        "1862                                ZUCCHINI (ORGANIC)                      0   \n",
        "1863                                   ZUCCHINI / 500G                    NGS   \n",
        "1864                                  ZUCCHINI FLOWERS                    NGS   \n",
        "1865                  ZUCCHINI FLOWERS (CHEMICAL FREE)                      0   \n",
        "1866    ZUCCHINI JAM WITH PISTACHIO & MASTIC (NATURAL)                      0   \n",
        "\n",
        "                          Type  May 2012  Jun 2012  Jul 2012  Aug 2012  \\\n",
        "0                         Milk         0         0      0.00      0.00   \n",
        "1                    Beverages         0         0      0.00      0.00   \n",
        "2                       Juices         0         0      0.00      0.00   \n",
        "3                    Cosmetics         0         0      0.00      0.00   \n",
        "4                    Beverages         0         0      0.00      0.00   \n",
        "5                    Beverages         0         0      0.00      0.00   \n",
        "6                    Beverages         0         0      0.00      0.00   \n",
        "7                       cheese         0         0      0.00      0.00   \n",
        "8             Food supplements         0         0      0.00      0.00   \n",
        "9                   Sweeteners         0         0      0.00      0.00   \n",
        "10                       Flour         0         0      0.00      0.00   \n",
        "11                       Flour         0         0      0.00      0.00   \n",
        "12             Baking products         0         0      0.00      0.00   \n",
        "13                     General         0         0      0.00      0.00   \n",
        "14                      Snacks         0         0      0.00      0.00   \n",
        "15                       Bread         0         0      0.00      0.00   \n",
        "16                  Nut butter         0         0      0.00      0.00   \n",
        "17                     spreads         0         0      0.00      0.00   \n",
        "18                  Nut butter         0         0      0.00      0.00   \n",
        "19             Baking products         0         0      0.00      0.00   \n",
        "20              Non-dairy milk         0         0      0.00      0.00   \n",
        "21              Non-dairy milk         0         0      0.00      0.00   \n",
        "22              Non-dairy milk         0         0      0.00      0.00   \n",
        "23              Non-dairy milk         0         0      0.00      0.00   \n",
        "24              Non-dairy milk         0         0      0.00      0.00   \n",
        "25              Non-dairy milk         0         0      0.00      0.00   \n",
        "26              Non-dairy milk         0         0      0.00      0.00   \n",
        "27              Non-dairy milk         0         0      0.00      0.00   \n",
        "28              Non-dairy milk         0         0      0.00      0.00   \n",
        "29                   Cosmetics         0         0      0.00      0.00   \n",
        "...                        ...       ...       ...       ...       ...   \n",
        "1837           Baking products         0         0      0.00      0.00   \n",
        "1838          Japanese cuisine         0         0      0.00      0.00   \n",
        "1839                    Fruits         0         0      0.00      0.00   \n",
        "1840          Fresh vegetables         0         0      0.00      0.00   \n",
        "1841  Chemical free vegetables         0         0      0.00      0.00   \n",
        "1842                Vegetables         0         0      0.00      0.00   \n",
        "1843          Fresh vegetables         0         0      0.00      0.00   \n",
        "1844          Fresh vegetables         0         0      0.00      0.00   \n",
        "1845          Fresh vegetables         0         0      0.00      0.00   \n",
        "1846              Fresh fruits         0         0      0.00      0.00   \n",
        "1847                    Fruits         0         0      0.00      0.00   \n",
        "1848                    Spices         0         0      0.00      0.00   \n",
        "1849          Fresh vegetables         0         0      0.00      0.00   \n",
        "1850                    Grains         0         0      0.00      0.00   \n",
        "1851                    Fruits         0         0      0.00      0.00   \n",
        "1852                 Cosmetics         0         0      0.00      0.00   \n",
        "1853                    Fruits         0         0      0.00      0.00   \n",
        "1854           Oil & Vinegar           0         0      0.00      0.00   \n",
        "1855          Fresh vegetables         0         0      0.00      0.00   \n",
        "1856          Fresh vegetables         0         0      0.00      0.00   \n",
        "1857                   General         0         0      0.00      0.00   \n",
        "1858                Vegetables         0         0      0.00      0.00   \n",
        "1859          Fresh vegetables         0         0      0.00      0.00   \n",
        "1860  Chemical free vegetables         0         0      0.00      0.00   \n",
        "1861                Vegetables         0         0      0.00      0.00   \n",
        "1862                Vegetables         0         0      0.00      0.00   \n",
        "1863             Fresh Produce         0         0     30.78     27.36   \n",
        "1864          Fresh vegetables         0         0      0.00      0.00   \n",
        "1865                Vegetables         0         0      0.00      0.00   \n",
        "1866                       Jam         0         0      0.00      0.00   \n",
        "\n",
        "      Sep 2012  Oct 2012  Nov 2012     ...       Mar 2015  Apr 2015  May 2015  \\\n",
        "0         0.00       0.0      0.00     ...              0         0      0.00   \n",
        "1         0.00       0.0      0.00     ...              0         0      0.00   \n",
        "2         0.00       0.0      0.00     ...              0         0      0.00   \n",
        "3         0.00       0.0      0.00     ...              0         0      0.00   \n",
        "4         0.00       0.0      0.00     ...              0         0      0.00   \n",
        "5         0.00       0.0      0.00     ...              0         0      0.00   \n",
        "6         0.00       0.0      0.00     ...              0         0      0.00   \n",
        "7         0.00       0.0      0.00     ...              0         0      0.00   \n",
        "8         0.00       0.0      0.00     ...              0         0     86.00   \n",
        "9         0.00       0.0      0.00     ...              0         0      0.00   \n",
        "10        0.00       0.0      0.00     ...              0         0      0.00   \n",
        "11        0.00       0.0      0.00     ...              0         0      0.00   \n",
        "12        0.00       0.0      0.00     ...              0         0      0.00   \n",
        "13        0.00       0.0      0.00     ...              0         0     43.75   \n",
        "14        0.00       0.0      0.00     ...              0        36     18.00   \n",
        "15        0.00       0.0      0.00     ...              0         0      0.00   \n",
        "16        0.00       0.0      0.00     ...              0         0      0.00   \n",
        "17        0.00       0.0      0.00     ...              0         0      0.00   \n",
        "18        0.00       0.0      0.00     ...              0         0      0.00   \n",
        "19        0.00       0.0      0.00     ...              0         0    504.00   \n",
        "20        0.00       0.0      0.00     ...              0         0      0.00   \n",
        "21        0.00       0.0      0.00     ...              0         0      0.00   \n",
        "22        0.00       0.0      0.00     ...              0         0    102.00   \n",
        "23        0.00       0.0      0.00     ...              0         0      0.00   \n",
        "24        0.00       0.0      0.00     ...              0         0      0.00   \n",
        "25        0.00       0.0      0.00     ...              0         0      0.00   \n",
        "26        0.00       0.0      0.00     ...              0         0      0.00   \n",
        "27        0.00       0.0      0.00     ...              0         0      0.00   \n",
        "28        0.00       0.0      0.00     ...              0         0      0.00   \n",
        "29        0.00       0.0      0.00     ...              0         0      0.00   \n",
        "...        ...       ...       ...     ...            ...       ...       ...   \n",
        "1837      0.00       0.0      0.00     ...              0         0      0.00   \n",
        "1838      0.00       0.0      0.00     ...              0         0      0.00   \n",
        "1839      0.00       0.0      0.00     ...              0         0      0.00   \n",
        "1840      0.00       0.0      0.00     ...              0         0      0.00   \n",
        "1841      0.00       0.0      0.00     ...              0         0      0.00   \n",
        "1842      0.00       0.0      0.00     ...              0        14   1098.00   \n",
        "1843      0.00       0.0      0.00     ...              0         0      0.00   \n",
        "1844      0.00       0.0      0.00     ...              0         0      0.00   \n",
        "1845      0.00       0.0      0.00     ...              0         0      0.00   \n",
        "1846      0.00       0.0      0.00     ...              0         0      0.00   \n",
        "1847      0.00       0.0      0.00     ...              0         0    218.00   \n",
        "1848      0.00       0.0      0.00     ...              0         0      0.00   \n",
        "1849      0.00       0.0      0.00     ...              0         0      0.00   \n",
        "1850      0.00       0.0      0.00     ...              0         0      0.00   \n",
        "1851      0.00       0.0      0.00     ...              0         0      0.00   \n",
        "1852      0.00       0.0      0.00     ...              0         0      0.00   \n",
        "1853      0.00       0.0      0.00     ...              0         0      0.00   \n",
        "1854      0.00       0.0      0.00     ...              0         0      0.00   \n",
        "1855      0.00       0.0      0.00     ...              0         0      0.00   \n",
        "1856      0.00       0.0      0.00     ...              0         0      0.00   \n",
        "1857      0.00       0.0      0.00     ...              0         0      0.00   \n",
        "1858      0.00       0.0      0.00     ...              0        55      0.00   \n",
        "1859      0.00       0.0      0.00     ...              0         0      0.00   \n",
        "1860      0.00       0.0      0.00     ...              0         0      0.00   \n",
        "1861      0.00       0.0      0.00     ...              0         0    766.60   \n",
        "1862      0.00       0.0      0.00     ...              0         0      0.00   \n",
        "1863     23.94      34.2     78.66     ...              0         0      0.00   \n",
        "1864      0.00       0.0      0.00     ...              0         0      0.00   \n",
        "1865      0.00       0.0      0.00     ...              0         0     19.00   \n",
        "1866      0.00       0.0      0.00     ...              0         0      0.00   \n",
        "\n",
        "      Jun 2015  Jul 2015     Aug 2015  Sep 2015     Oct 2015     Nov 2015  \\\n",
        "0            0       0.0     0.000000       0.0     0.000000     0.000000   \n",
        "1            0       0.0     0.000000       0.0     0.000000     0.000000   \n",
        "2            0       0.0     0.000000       0.0     0.000000     0.000000   \n",
        "3            0       0.0     0.000000       0.0     0.000000     0.000000   \n",
        "4            0       0.0     0.000000       0.0     0.000000     0.000000   \n",
        "5            0       0.0     0.000000       0.0     0.000000     0.000000   \n",
        "6            0       0.0     0.000000       0.0     0.000000     0.000000   \n",
        "7            0       0.0    68.000000     204.0    68.000000     0.000000   \n",
        "8            0     172.0    86.000000       0.0    86.000000     0.000000   \n",
        "9            0       0.0     0.000000       0.0     0.000000     0.000000   \n",
        "10           0       0.0     0.000000       0.0     0.000000     0.000000   \n",
        "11           0       0.0     0.000000       0.0     0.000000     0.000000   \n",
        "12           0     696.0  1747.200000    1046.4   192.000000     0.000000   \n",
        "13         516       0.0     0.000000      48.0   528.000000   240.000000   \n",
        "14           0       0.0     0.000000       0.0     0.000000     0.000000   \n",
        "15           0       0.0     0.000000     180.0     0.000000     0.000000   \n",
        "16           0      65.0  1046.000000     715.0  1683.722222  1755.000000   \n",
        "17           0       0.0     0.000000       0.0     0.000000     0.000000   \n",
        "18           0       0.0   130.000000     325.0   715.000000   780.000000   \n",
        "19           0    1161.6  3168.000000    2296.8  1716.000000  3892.412286   \n",
        "20           0       0.0     0.000000       0.0     0.000000     0.000000   \n",
        "21           0       0.0     0.000000       0.0     0.000000     0.000000   \n",
        "22           0       0.0     0.000000       0.0     0.000000     0.000000   \n",
        "23           0       0.0     0.000000       0.0     0.000000     0.000000   \n",
        "24           0       0.0     0.000000       0.0     0.000000  2521.720515   \n",
        "25           0       0.0     0.000000       0.0     0.000000     0.000000   \n",
        "26           0       0.0     0.000000       0.0     0.000000     0.000000   \n",
        "27           0       0.0     0.000000       0.0     0.000000     0.000000   \n",
        "28           0       0.0     0.000000       0.0     0.000000     0.000000   \n",
        "29           0       0.0     0.000000       0.0     0.000000     0.000000   \n",
        "...        ...       ...          ...       ...          ...          ...   \n",
        "1837         0       0.0   660.000000     264.0   396.000000  1596.000000   \n",
        "1838         0       0.0     0.000000       0.0     0.000000     0.000000   \n",
        "1839       130      78.0   156.000000     305.0   413.408990   504.000000   \n",
        "1840         0       0.0     0.000000       0.0     0.000000     0.000000   \n",
        "1841         0       0.0     0.000000       0.0     0.000000     0.000000   \n",
        "1842       210       0.0    30.000000       0.0     0.000000     0.000000   \n",
        "1843         0       0.0     0.000000       0.0     0.000000     0.000000   \n",
        "1844         0       0.0     0.000000       0.0     0.000000     0.000000   \n",
        "1845         0       0.0     0.000000       0.0     0.000000     0.000000   \n",
        "1846         0       0.0     0.000000       0.0     0.000000     0.000000   \n",
        "1847        58      84.0   140.846479      99.0    87.755294    41.899052   \n",
        "1848         0       0.0     0.000000       0.0     0.000000    69.189577   \n",
        "1849         0       0.0     0.000000       0.0     0.000000     0.000000   \n",
        "1850         0       0.0     0.000000       0.0     0.000000     0.000000   \n",
        "1851         0       0.0    65.000000      65.0     0.000000     0.000000   \n",
        "1852         0       0.0     0.000000       0.0     0.000000     0.000000   \n",
        "1853         0       0.0     0.000000       0.0     0.000000    25.000000   \n",
        "1854         0       0.0     0.000000       0.0     0.000000     0.000000   \n",
        "1855         0       0.0     0.000000       0.0     0.000000     0.000000   \n",
        "1856         0       0.0     0.000000       0.0     0.000000     0.000000   \n",
        "1857         0       0.0     0.000000       0.0     0.000000    69.871046   \n",
        "1858         0       0.0     0.000000       0.0     0.000000     0.000000   \n",
        "1859         0       0.0     0.000000       0.0     0.000000     0.000000   \n",
        "1860         0       0.0     0.000000       0.0     0.000000     0.000000   \n",
        "1861       210       7.5   150.000000     330.0   318.076923   695.681924   \n",
        "1862       244     403.2   342.794118      56.0   280.000000     0.000000   \n",
        "1863         0       0.0     0.000000       0.0     0.000000     0.000000   \n",
        "1864         0       0.0     0.000000       0.0     0.000000     0.000000   \n",
        "1865       157      44.0     0.000000       0.0     0.000000     0.000000   \n",
        "1866         0       0.0     0.000000     200.0     0.000000     0.000000   \n",
        "\n",
        "         Dec 2015  \n",
        "0        0.000000  \n",
        "1       60.000000  \n",
        "2        0.000000  \n",
        "3        0.000000  \n",
        "4        0.000000  \n",
        "5        0.000000  \n",
        "6        0.000000  \n",
        "7        0.000000  \n",
        "8      258.000000  \n",
        "9        0.000000  \n",
        "10       0.000000  \n",
        "11       0.000000  \n",
        "12     495.000000  \n",
        "13       0.000000  \n",
        "14       0.000000  \n",
        "15       0.000000  \n",
        "16    2648.345747  \n",
        "17       0.000000  \n",
        "18     650.000000  \n",
        "19     -15.575221  \n",
        "20       0.000000  \n",
        "21       0.000000  \n",
        "22       0.000000  \n",
        "23       0.000000  \n",
        "24    2530.000000  \n",
        "25       0.000000  \n",
        "26       0.000000  \n",
        "27       0.000000  \n",
        "28       0.000000  \n",
        "29       0.000000  \n",
        "...           ...  \n",
        "1837     0.000000  \n",
        "1838     0.000000  \n",
        "1839    75.400000  \n",
        "1840     0.000000  \n",
        "1841     0.000000  \n",
        "1842     0.000000  \n",
        "1843     0.000000  \n",
        "1844     0.000000  \n",
        "1845     0.000000  \n",
        "1846     0.000000  \n",
        "1847     9.000000  \n",
        "1848    49.505758  \n",
        "1849     0.000000  \n",
        "1850     0.000000  \n",
        "1851     0.000000  \n",
        "1852     0.000000  \n",
        "1853     0.000000  \n",
        "1854     0.000000  \n",
        "1855     0.000000  \n",
        "1856     0.000000  \n",
        "1857     0.000000  \n",
        "1858     0.000000  \n",
        "1859     0.000000  \n",
        "1860     0.000000  \n",
        "1861   212.509227  \n",
        "1862   181.734738  \n",
        "1863     0.000000  \n",
        "1864     0.000000  \n",
        "1865     0.000000  \n",
        "1866     0.000000  \n",
        "\n",
        "[1867 rows x 47 columns]"
       ]
      }
     ],
     "prompt_number": 3
    },
    {
     "cell_type": "code",
     "collapsed": false,
     "input": [
      "prods = df['Product'].tolist()\n",
      "new_prods = []\n",
      "for i in prods:\n",
      "    for j in range(0, len(df.columns)-3):\n",
      "        new_prods.append(i) #add each product total products number of times\n",
      "        \n",
      "brands = df['Brand'].tolist()\n",
      "new_brands = []\n",
      "for i in brands:\n",
      "    for j in range(0, len(df.columns)-3):\n",
      "        new_brands.append(i) #add each brand total products number of times\n",
      "        \n",
      "types = df['Type'].tolist()\n",
      "new_types = []\n",
      "for i in types:\n",
      "    for j in range(0, len(df.columns)-3):\n",
      "        new_types.append(i) #add each type total products number of times\n",
      "        \n",
      "df1 = df[range(3,len(df.columns))]\n",
      "dates = df1.columns.tolist()\n",
      "new_dates = []\n",
      "for i in range(0, max(df.index)+1):\n",
      "    new_dates = new_dates + dates #add all dates total products number of times\n",
      "    \n",
      "#create new df and initialize columns\n",
      "df2 = pd.DataFrame(columns=['Product', 'Brand', 'Type', 'Date'])\n",
      "df2['Product'] = new_prods\n",
      "df2['Brand'] = new_brands\n",
      "df2['Type'] = new_types\n",
      "df2['Date'] = new_dates\n",
      "df2"
     ],
     "language": "python",
     "metadata": {},
     "outputs": [
      {
       "html": [
        "<div style=\"max-height:1000px;max-width:1500px;overflow:auto;\">\n",
        "<table border=\"1\" class=\"dataframe\">\n",
        "  <thead>\n",
        "    <tr style=\"text-align: right;\">\n",
        "      <th></th>\n",
        "      <th>Product</th>\n",
        "      <th>Brand</th>\n",
        "      <th>Type</th>\n",
        "      <th>Date</th>\n",
        "    </tr>\n",
        "  </thead>\n",
        "  <tbody>\n",
        "    <tr>\n",
        "      <th>0    </th>\n",
        "      <td>                           7 GRAIN MILK / 946ML</td>\n",
        "      <td> Pacific Natural Foods</td>\n",
        "      <td> Milk</td>\n",
        "      <td> May 2012</td>\n",
        "    </tr>\n",
        "    <tr>\n",
        "      <th>1    </th>\n",
        "      <td>                           7 GRAIN MILK / 946ML</td>\n",
        "      <td> Pacific Natural Foods</td>\n",
        "      <td> Milk</td>\n",
        "      <td> Jun 2012</td>\n",
        "    </tr>\n",
        "    <tr>\n",
        "      <th>2    </th>\n",
        "      <td>                           7 GRAIN MILK / 946ML</td>\n",
        "      <td> Pacific Natural Foods</td>\n",
        "      <td> Milk</td>\n",
        "      <td> Jul 2012</td>\n",
        "    </tr>\n",
        "    <tr>\n",
        "      <th>3    </th>\n",
        "      <td>                           7 GRAIN MILK / 946ML</td>\n",
        "      <td> Pacific Natural Foods</td>\n",
        "      <td> Milk</td>\n",
        "      <td> Aug 2012</td>\n",
        "    </tr>\n",
        "    <tr>\n",
        "      <th>4    </th>\n",
        "      <td>                           7 GRAIN MILK / 946ML</td>\n",
        "      <td> Pacific Natural Foods</td>\n",
        "      <td> Milk</td>\n",
        "      <td> Sep 2012</td>\n",
        "    </tr>\n",
        "    <tr>\n",
        "      <th>5    </th>\n",
        "      <td>                           7 GRAIN MILK / 946ML</td>\n",
        "      <td> Pacific Natural Foods</td>\n",
        "      <td> Milk</td>\n",
        "      <td> Oct 2012</td>\n",
        "    </tr>\n",
        "    <tr>\n",
        "      <th>6    </th>\n",
        "      <td>                           7 GRAIN MILK / 946ML</td>\n",
        "      <td> Pacific Natural Foods</td>\n",
        "      <td> Milk</td>\n",
        "      <td> Nov 2012</td>\n",
        "    </tr>\n",
        "    <tr>\n",
        "      <th>7    </th>\n",
        "      <td>                           7 GRAIN MILK / 946ML</td>\n",
        "      <td> Pacific Natural Foods</td>\n",
        "      <td> Milk</td>\n",
        "      <td> Dec 2012</td>\n",
        "    </tr>\n",
        "    <tr>\n",
        "      <th>8    </th>\n",
        "      <td>                           7 GRAIN MILK / 946ML</td>\n",
        "      <td> Pacific Natural Foods</td>\n",
        "      <td> Milk</td>\n",
        "      <td> Jan 2013</td>\n",
        "    </tr>\n",
        "    <tr>\n",
        "      <th>9    </th>\n",
        "      <td>                           7 GRAIN MILK / 946ML</td>\n",
        "      <td> Pacific Natural Foods</td>\n",
        "      <td> Milk</td>\n",
        "      <td> Feb 2013</td>\n",
        "    </tr>\n",
        "    <tr>\n",
        "      <th>10   </th>\n",
        "      <td>                           7 GRAIN MILK / 946ML</td>\n",
        "      <td> Pacific Natural Foods</td>\n",
        "      <td> Milk</td>\n",
        "      <td> Mar 2013</td>\n",
        "    </tr>\n",
        "    <tr>\n",
        "      <th>11   </th>\n",
        "      <td>                           7 GRAIN MILK / 946ML</td>\n",
        "      <td> Pacific Natural Foods</td>\n",
        "      <td> Milk</td>\n",
        "      <td> Apr 2013</td>\n",
        "    </tr>\n",
        "    <tr>\n",
        "      <th>12   </th>\n",
        "      <td>                           7 GRAIN MILK / 946ML</td>\n",
        "      <td> Pacific Natural Foods</td>\n",
        "      <td> Milk</td>\n",
        "      <td> May 2013</td>\n",
        "    </tr>\n",
        "    <tr>\n",
        "      <th>13   </th>\n",
        "      <td>                           7 GRAIN MILK / 946ML</td>\n",
        "      <td> Pacific Natural Foods</td>\n",
        "      <td> Milk</td>\n",
        "      <td> Jun 2013</td>\n",
        "    </tr>\n",
        "    <tr>\n",
        "      <th>14   </th>\n",
        "      <td>                           7 GRAIN MILK / 946ML</td>\n",
        "      <td> Pacific Natural Foods</td>\n",
        "      <td> Milk</td>\n",
        "      <td> Jul 2013</td>\n",
        "    </tr>\n",
        "    <tr>\n",
        "      <th>15   </th>\n",
        "      <td>                           7 GRAIN MILK / 946ML</td>\n",
        "      <td> Pacific Natural Foods</td>\n",
        "      <td> Milk</td>\n",
        "      <td> Aug 2013</td>\n",
        "    </tr>\n",
        "    <tr>\n",
        "      <th>16   </th>\n",
        "      <td>                           7 GRAIN MILK / 946ML</td>\n",
        "      <td> Pacific Natural Foods</td>\n",
        "      <td> Milk</td>\n",
        "      <td> Sep 2013</td>\n",
        "    </tr>\n",
        "    <tr>\n",
        "      <th>17   </th>\n",
        "      <td>                           7 GRAIN MILK / 946ML</td>\n",
        "      <td> Pacific Natural Foods</td>\n",
        "      <td> Milk</td>\n",
        "      <td> Oct 2013</td>\n",
        "    </tr>\n",
        "    <tr>\n",
        "      <th>18   </th>\n",
        "      <td>                           7 GRAIN MILK / 946ML</td>\n",
        "      <td> Pacific Natural Foods</td>\n",
        "      <td> Milk</td>\n",
        "      <td> Nov 2013</td>\n",
        "    </tr>\n",
        "    <tr>\n",
        "      <th>19   </th>\n",
        "      <td>                           7 GRAIN MILK / 946ML</td>\n",
        "      <td> Pacific Natural Foods</td>\n",
        "      <td> Milk</td>\n",
        "      <td> Dec 2013</td>\n",
        "    </tr>\n",
        "    <tr>\n",
        "      <th>20   </th>\n",
        "      <td>                           7 GRAIN MILK / 946ML</td>\n",
        "      <td> Pacific Natural Foods</td>\n",
        "      <td> Milk</td>\n",
        "      <td> Jan 2014</td>\n",
        "    </tr>\n",
        "    <tr>\n",
        "      <th>21   </th>\n",
        "      <td>                           7 GRAIN MILK / 946ML</td>\n",
        "      <td> Pacific Natural Foods</td>\n",
        "      <td> Milk</td>\n",
        "      <td> Feb 2014</td>\n",
        "    </tr>\n",
        "    <tr>\n",
        "      <th>22   </th>\n",
        "      <td>                           7 GRAIN MILK / 946ML</td>\n",
        "      <td> Pacific Natural Foods</td>\n",
        "      <td> Milk</td>\n",
        "      <td> Mar 2014</td>\n",
        "    </tr>\n",
        "    <tr>\n",
        "      <th>23   </th>\n",
        "      <td>                           7 GRAIN MILK / 946ML</td>\n",
        "      <td> Pacific Natural Foods</td>\n",
        "      <td> Milk</td>\n",
        "      <td> Apr 2014</td>\n",
        "    </tr>\n",
        "    <tr>\n",
        "      <th>24   </th>\n",
        "      <td>                           7 GRAIN MILK / 946ML</td>\n",
        "      <td> Pacific Natural Foods</td>\n",
        "      <td> Milk</td>\n",
        "      <td> May 2014</td>\n",
        "    </tr>\n",
        "    <tr>\n",
        "      <th>25   </th>\n",
        "      <td>                           7 GRAIN MILK / 946ML</td>\n",
        "      <td> Pacific Natural Foods</td>\n",
        "      <td> Milk</td>\n",
        "      <td> Jun 2014</td>\n",
        "    </tr>\n",
        "    <tr>\n",
        "      <th>26   </th>\n",
        "      <td>                           7 GRAIN MILK / 946ML</td>\n",
        "      <td> Pacific Natural Foods</td>\n",
        "      <td> Milk</td>\n",
        "      <td> Jul 2014</td>\n",
        "    </tr>\n",
        "    <tr>\n",
        "      <th>27   </th>\n",
        "      <td>                           7 GRAIN MILK / 946ML</td>\n",
        "      <td> Pacific Natural Foods</td>\n",
        "      <td> Milk</td>\n",
        "      <td> Aug 2014</td>\n",
        "    </tr>\n",
        "    <tr>\n",
        "      <th>28   </th>\n",
        "      <td>                           7 GRAIN MILK / 946ML</td>\n",
        "      <td> Pacific Natural Foods</td>\n",
        "      <td> Milk</td>\n",
        "      <td> Sep 2014</td>\n",
        "    </tr>\n",
        "    <tr>\n",
        "      <th>29   </th>\n",
        "      <td>                           7 GRAIN MILK / 946ML</td>\n",
        "      <td> Pacific Natural Foods</td>\n",
        "      <td> Milk</td>\n",
        "      <td> Oct 2014</td>\n",
        "    </tr>\n",
        "    <tr>\n",
        "      <th>...</th>\n",
        "      <td>...</td>\n",
        "      <td>...</td>\n",
        "      <td>...</td>\n",
        "      <td>...</td>\n",
        "    </tr>\n",
        "    <tr>\n",
        "      <th>82118</th>\n",
        "      <td> ZUCCHINI JAM WITH PISTACHIO &amp; MASTIC (NATURAL)</td>\n",
        "      <td>                     0</td>\n",
        "      <td>  Jam</td>\n",
        "      <td> Jul 2013</td>\n",
        "    </tr>\n",
        "    <tr>\n",
        "      <th>82119</th>\n",
        "      <td> ZUCCHINI JAM WITH PISTACHIO &amp; MASTIC (NATURAL)</td>\n",
        "      <td>                     0</td>\n",
        "      <td>  Jam</td>\n",
        "      <td> Aug 2013</td>\n",
        "    </tr>\n",
        "    <tr>\n",
        "      <th>82120</th>\n",
        "      <td> ZUCCHINI JAM WITH PISTACHIO &amp; MASTIC (NATURAL)</td>\n",
        "      <td>                     0</td>\n",
        "      <td>  Jam</td>\n",
        "      <td> Sep 2013</td>\n",
        "    </tr>\n",
        "    <tr>\n",
        "      <th>82121</th>\n",
        "      <td> ZUCCHINI JAM WITH PISTACHIO &amp; MASTIC (NATURAL)</td>\n",
        "      <td>                     0</td>\n",
        "      <td>  Jam</td>\n",
        "      <td> Oct 2013</td>\n",
        "    </tr>\n",
        "    <tr>\n",
        "      <th>82122</th>\n",
        "      <td> ZUCCHINI JAM WITH PISTACHIO &amp; MASTIC (NATURAL)</td>\n",
        "      <td>                     0</td>\n",
        "      <td>  Jam</td>\n",
        "      <td> Nov 2013</td>\n",
        "    </tr>\n",
        "    <tr>\n",
        "      <th>82123</th>\n",
        "      <td> ZUCCHINI JAM WITH PISTACHIO &amp; MASTIC (NATURAL)</td>\n",
        "      <td>                     0</td>\n",
        "      <td>  Jam</td>\n",
        "      <td> Dec 2013</td>\n",
        "    </tr>\n",
        "    <tr>\n",
        "      <th>82124</th>\n",
        "      <td> ZUCCHINI JAM WITH PISTACHIO &amp; MASTIC (NATURAL)</td>\n",
        "      <td>                     0</td>\n",
        "      <td>  Jam</td>\n",
        "      <td> Jan 2014</td>\n",
        "    </tr>\n",
        "    <tr>\n",
        "      <th>82125</th>\n",
        "      <td> ZUCCHINI JAM WITH PISTACHIO &amp; MASTIC (NATURAL)</td>\n",
        "      <td>                     0</td>\n",
        "      <td>  Jam</td>\n",
        "      <td> Feb 2014</td>\n",
        "    </tr>\n",
        "    <tr>\n",
        "      <th>82126</th>\n",
        "      <td> ZUCCHINI JAM WITH PISTACHIO &amp; MASTIC (NATURAL)</td>\n",
        "      <td>                     0</td>\n",
        "      <td>  Jam</td>\n",
        "      <td> Mar 2014</td>\n",
        "    </tr>\n",
        "    <tr>\n",
        "      <th>82127</th>\n",
        "      <td> ZUCCHINI JAM WITH PISTACHIO &amp; MASTIC (NATURAL)</td>\n",
        "      <td>                     0</td>\n",
        "      <td>  Jam</td>\n",
        "      <td> Apr 2014</td>\n",
        "    </tr>\n",
        "    <tr>\n",
        "      <th>82128</th>\n",
        "      <td> ZUCCHINI JAM WITH PISTACHIO &amp; MASTIC (NATURAL)</td>\n",
        "      <td>                     0</td>\n",
        "      <td>  Jam</td>\n",
        "      <td> May 2014</td>\n",
        "    </tr>\n",
        "    <tr>\n",
        "      <th>82129</th>\n",
        "      <td> ZUCCHINI JAM WITH PISTACHIO &amp; MASTIC (NATURAL)</td>\n",
        "      <td>                     0</td>\n",
        "      <td>  Jam</td>\n",
        "      <td> Jun 2014</td>\n",
        "    </tr>\n",
        "    <tr>\n",
        "      <th>82130</th>\n",
        "      <td> ZUCCHINI JAM WITH PISTACHIO &amp; MASTIC (NATURAL)</td>\n",
        "      <td>                     0</td>\n",
        "      <td>  Jam</td>\n",
        "      <td> Jul 2014</td>\n",
        "    </tr>\n",
        "    <tr>\n",
        "      <th>82131</th>\n",
        "      <td> ZUCCHINI JAM WITH PISTACHIO &amp; MASTIC (NATURAL)</td>\n",
        "      <td>                     0</td>\n",
        "      <td>  Jam</td>\n",
        "      <td> Aug 2014</td>\n",
        "    </tr>\n",
        "    <tr>\n",
        "      <th>82132</th>\n",
        "      <td> ZUCCHINI JAM WITH PISTACHIO &amp; MASTIC (NATURAL)</td>\n",
        "      <td>                     0</td>\n",
        "      <td>  Jam</td>\n",
        "      <td> Sep 2014</td>\n",
        "    </tr>\n",
        "    <tr>\n",
        "      <th>82133</th>\n",
        "      <td> ZUCCHINI JAM WITH PISTACHIO &amp; MASTIC (NATURAL)</td>\n",
        "      <td>                     0</td>\n",
        "      <td>  Jam</td>\n",
        "      <td> Oct 2014</td>\n",
        "    </tr>\n",
        "    <tr>\n",
        "      <th>82134</th>\n",
        "      <td> ZUCCHINI JAM WITH PISTACHIO &amp; MASTIC (NATURAL)</td>\n",
        "      <td>                     0</td>\n",
        "      <td>  Jam</td>\n",
        "      <td> Nov 2014</td>\n",
        "    </tr>\n",
        "    <tr>\n",
        "      <th>82135</th>\n",
        "      <td> ZUCCHINI JAM WITH PISTACHIO &amp; MASTIC (NATURAL)</td>\n",
        "      <td>                     0</td>\n",
        "      <td>  Jam</td>\n",
        "      <td> Dec 2014</td>\n",
        "    </tr>\n",
        "    <tr>\n",
        "      <th>82136</th>\n",
        "      <td> ZUCCHINI JAM WITH PISTACHIO &amp; MASTIC (NATURAL)</td>\n",
        "      <td>                     0</td>\n",
        "      <td>  Jam</td>\n",
        "      <td> Jan 2015</td>\n",
        "    </tr>\n",
        "    <tr>\n",
        "      <th>82137</th>\n",
        "      <td> ZUCCHINI JAM WITH PISTACHIO &amp; MASTIC (NATURAL)</td>\n",
        "      <td>                     0</td>\n",
        "      <td>  Jam</td>\n",
        "      <td> Feb 2015</td>\n",
        "    </tr>\n",
        "    <tr>\n",
        "      <th>82138</th>\n",
        "      <td> ZUCCHINI JAM WITH PISTACHIO &amp; MASTIC (NATURAL)</td>\n",
        "      <td>                     0</td>\n",
        "      <td>  Jam</td>\n",
        "      <td> Mar 2015</td>\n",
        "    </tr>\n",
        "    <tr>\n",
        "      <th>82139</th>\n",
        "      <td> ZUCCHINI JAM WITH PISTACHIO &amp; MASTIC (NATURAL)</td>\n",
        "      <td>                     0</td>\n",
        "      <td>  Jam</td>\n",
        "      <td> Apr 2015</td>\n",
        "    </tr>\n",
        "    <tr>\n",
        "      <th>82140</th>\n",
        "      <td> ZUCCHINI JAM WITH PISTACHIO &amp; MASTIC (NATURAL)</td>\n",
        "      <td>                     0</td>\n",
        "      <td>  Jam</td>\n",
        "      <td> May 2015</td>\n",
        "    </tr>\n",
        "    <tr>\n",
        "      <th>82141</th>\n",
        "      <td> ZUCCHINI JAM WITH PISTACHIO &amp; MASTIC (NATURAL)</td>\n",
        "      <td>                     0</td>\n",
        "      <td>  Jam</td>\n",
        "      <td> Jun 2015</td>\n",
        "    </tr>\n",
        "    <tr>\n",
        "      <th>82142</th>\n",
        "      <td> ZUCCHINI JAM WITH PISTACHIO &amp; MASTIC (NATURAL)</td>\n",
        "      <td>                     0</td>\n",
        "      <td>  Jam</td>\n",
        "      <td> Jul 2015</td>\n",
        "    </tr>\n",
        "    <tr>\n",
        "      <th>82143</th>\n",
        "      <td> ZUCCHINI JAM WITH PISTACHIO &amp; MASTIC (NATURAL)</td>\n",
        "      <td>                     0</td>\n",
        "      <td>  Jam</td>\n",
        "      <td> Aug 2015</td>\n",
        "    </tr>\n",
        "    <tr>\n",
        "      <th>82144</th>\n",
        "      <td> ZUCCHINI JAM WITH PISTACHIO &amp; MASTIC (NATURAL)</td>\n",
        "      <td>                     0</td>\n",
        "      <td>  Jam</td>\n",
        "      <td> Sep 2015</td>\n",
        "    </tr>\n",
        "    <tr>\n",
        "      <th>82145</th>\n",
        "      <td> ZUCCHINI JAM WITH PISTACHIO &amp; MASTIC (NATURAL)</td>\n",
        "      <td>                     0</td>\n",
        "      <td>  Jam</td>\n",
        "      <td> Oct 2015</td>\n",
        "    </tr>\n",
        "    <tr>\n",
        "      <th>82146</th>\n",
        "      <td> ZUCCHINI JAM WITH PISTACHIO &amp; MASTIC (NATURAL)</td>\n",
        "      <td>                     0</td>\n",
        "      <td>  Jam</td>\n",
        "      <td> Nov 2015</td>\n",
        "    </tr>\n",
        "    <tr>\n",
        "      <th>82147</th>\n",
        "      <td> ZUCCHINI JAM WITH PISTACHIO &amp; MASTIC (NATURAL)</td>\n",
        "      <td>                     0</td>\n",
        "      <td>  Jam</td>\n",
        "      <td> Dec 2015</td>\n",
        "    </tr>\n",
        "  </tbody>\n",
        "</table>\n",
        "<p>82148 rows \u00d7 4 columns</p>\n",
        "</div>"
       ],
       "metadata": {},
       "output_type": "pyout",
       "prompt_number": 6,
       "text": [
        "                                              Product                  Brand  \\\n",
        "0                                7 GRAIN MILK / 946ML  Pacific Natural Foods   \n",
        "1                                7 GRAIN MILK / 946ML  Pacific Natural Foods   \n",
        "2                                7 GRAIN MILK / 946ML  Pacific Natural Foods   \n",
        "3                                7 GRAIN MILK / 946ML  Pacific Natural Foods   \n",
        "4                                7 GRAIN MILK / 946ML  Pacific Natural Foods   \n",
        "5                                7 GRAIN MILK / 946ML  Pacific Natural Foods   \n",
        "6                                7 GRAIN MILK / 946ML  Pacific Natural Foods   \n",
        "7                                7 GRAIN MILK / 946ML  Pacific Natural Foods   \n",
        "8                                7 GRAIN MILK / 946ML  Pacific Natural Foods   \n",
        "9                                7 GRAIN MILK / 946ML  Pacific Natural Foods   \n",
        "10                               7 GRAIN MILK / 946ML  Pacific Natural Foods   \n",
        "11                               7 GRAIN MILK / 946ML  Pacific Natural Foods   \n",
        "12                               7 GRAIN MILK / 946ML  Pacific Natural Foods   \n",
        "13                               7 GRAIN MILK / 946ML  Pacific Natural Foods   \n",
        "14                               7 GRAIN MILK / 946ML  Pacific Natural Foods   \n",
        "15                               7 GRAIN MILK / 946ML  Pacific Natural Foods   \n",
        "16                               7 GRAIN MILK / 946ML  Pacific Natural Foods   \n",
        "17                               7 GRAIN MILK / 946ML  Pacific Natural Foods   \n",
        "18                               7 GRAIN MILK / 946ML  Pacific Natural Foods   \n",
        "19                               7 GRAIN MILK / 946ML  Pacific Natural Foods   \n",
        "20                               7 GRAIN MILK / 946ML  Pacific Natural Foods   \n",
        "21                               7 GRAIN MILK / 946ML  Pacific Natural Foods   \n",
        "22                               7 GRAIN MILK / 946ML  Pacific Natural Foods   \n",
        "23                               7 GRAIN MILK / 946ML  Pacific Natural Foods   \n",
        "24                               7 GRAIN MILK / 946ML  Pacific Natural Foods   \n",
        "25                               7 GRAIN MILK / 946ML  Pacific Natural Foods   \n",
        "26                               7 GRAIN MILK / 946ML  Pacific Natural Foods   \n",
        "27                               7 GRAIN MILK / 946ML  Pacific Natural Foods   \n",
        "28                               7 GRAIN MILK / 946ML  Pacific Natural Foods   \n",
        "29                               7 GRAIN MILK / 946ML  Pacific Natural Foods   \n",
        "...                                               ...                    ...   \n",
        "82118  ZUCCHINI JAM WITH PISTACHIO & MASTIC (NATURAL)                      0   \n",
        "82119  ZUCCHINI JAM WITH PISTACHIO & MASTIC (NATURAL)                      0   \n",
        "82120  ZUCCHINI JAM WITH PISTACHIO & MASTIC (NATURAL)                      0   \n",
        "82121  ZUCCHINI JAM WITH PISTACHIO & MASTIC (NATURAL)                      0   \n",
        "82122  ZUCCHINI JAM WITH PISTACHIO & MASTIC (NATURAL)                      0   \n",
        "82123  ZUCCHINI JAM WITH PISTACHIO & MASTIC (NATURAL)                      0   \n",
        "82124  ZUCCHINI JAM WITH PISTACHIO & MASTIC (NATURAL)                      0   \n",
        "82125  ZUCCHINI JAM WITH PISTACHIO & MASTIC (NATURAL)                      0   \n",
        "82126  ZUCCHINI JAM WITH PISTACHIO & MASTIC (NATURAL)                      0   \n",
        "82127  ZUCCHINI JAM WITH PISTACHIO & MASTIC (NATURAL)                      0   \n",
        "82128  ZUCCHINI JAM WITH PISTACHIO & MASTIC (NATURAL)                      0   \n",
        "82129  ZUCCHINI JAM WITH PISTACHIO & MASTIC (NATURAL)                      0   \n",
        "82130  ZUCCHINI JAM WITH PISTACHIO & MASTIC (NATURAL)                      0   \n",
        "82131  ZUCCHINI JAM WITH PISTACHIO & MASTIC (NATURAL)                      0   \n",
        "82132  ZUCCHINI JAM WITH PISTACHIO & MASTIC (NATURAL)                      0   \n",
        "82133  ZUCCHINI JAM WITH PISTACHIO & MASTIC (NATURAL)                      0   \n",
        "82134  ZUCCHINI JAM WITH PISTACHIO & MASTIC (NATURAL)                      0   \n",
        "82135  ZUCCHINI JAM WITH PISTACHIO & MASTIC (NATURAL)                      0   \n",
        "82136  ZUCCHINI JAM WITH PISTACHIO & MASTIC (NATURAL)                      0   \n",
        "82137  ZUCCHINI JAM WITH PISTACHIO & MASTIC (NATURAL)                      0   \n",
        "82138  ZUCCHINI JAM WITH PISTACHIO & MASTIC (NATURAL)                      0   \n",
        "82139  ZUCCHINI JAM WITH PISTACHIO & MASTIC (NATURAL)                      0   \n",
        "82140  ZUCCHINI JAM WITH PISTACHIO & MASTIC (NATURAL)                      0   \n",
        "82141  ZUCCHINI JAM WITH PISTACHIO & MASTIC (NATURAL)                      0   \n",
        "82142  ZUCCHINI JAM WITH PISTACHIO & MASTIC (NATURAL)                      0   \n",
        "82143  ZUCCHINI JAM WITH PISTACHIO & MASTIC (NATURAL)                      0   \n",
        "82144  ZUCCHINI JAM WITH PISTACHIO & MASTIC (NATURAL)                      0   \n",
        "82145  ZUCCHINI JAM WITH PISTACHIO & MASTIC (NATURAL)                      0   \n",
        "82146  ZUCCHINI JAM WITH PISTACHIO & MASTIC (NATURAL)                      0   \n",
        "82147  ZUCCHINI JAM WITH PISTACHIO & MASTIC (NATURAL)                      0   \n",
        "\n",
        "       Type      Date  \n",
        "0      Milk  May 2012  \n",
        "1      Milk  Jun 2012  \n",
        "2      Milk  Jul 2012  \n",
        "3      Milk  Aug 2012  \n",
        "4      Milk  Sep 2012  \n",
        "5      Milk  Oct 2012  \n",
        "6      Milk  Nov 2012  \n",
        "7      Milk  Dec 2012  \n",
        "8      Milk  Jan 2013  \n",
        "9      Milk  Feb 2013  \n",
        "10     Milk  Mar 2013  \n",
        "11     Milk  Apr 2013  \n",
        "12     Milk  May 2013  \n",
        "13     Milk  Jun 2013  \n",
        "14     Milk  Jul 2013  \n",
        "15     Milk  Aug 2013  \n",
        "16     Milk  Sep 2013  \n",
        "17     Milk  Oct 2013  \n",
        "18     Milk  Nov 2013  \n",
        "19     Milk  Dec 2013  \n",
        "20     Milk  Jan 2014  \n",
        "21     Milk  Feb 2014  \n",
        "22     Milk  Mar 2014  \n",
        "23     Milk  Apr 2014  \n",
        "24     Milk  May 2014  \n",
        "25     Milk  Jun 2014  \n",
        "26     Milk  Jul 2014  \n",
        "27     Milk  Aug 2014  \n",
        "28     Milk  Sep 2014  \n",
        "29     Milk  Oct 2014  \n",
        "...     ...       ...  \n",
        "82118   Jam  Jul 2013  \n",
        "82119   Jam  Aug 2013  \n",
        "82120   Jam  Sep 2013  \n",
        "82121   Jam  Oct 2013  \n",
        "82122   Jam  Nov 2013  \n",
        "82123   Jam  Dec 2013  \n",
        "82124   Jam  Jan 2014  \n",
        "82125   Jam  Feb 2014  \n",
        "82126   Jam  Mar 2014  \n",
        "82127   Jam  Apr 2014  \n",
        "82128   Jam  May 2014  \n",
        "82129   Jam  Jun 2014  \n",
        "82130   Jam  Jul 2014  \n",
        "82131   Jam  Aug 2014  \n",
        "82132   Jam  Sep 2014  \n",
        "82133   Jam  Oct 2014  \n",
        "82134   Jam  Nov 2014  \n",
        "82135   Jam  Dec 2014  \n",
        "82136   Jam  Jan 2015  \n",
        "82137   Jam  Feb 2015  \n",
        "82138   Jam  Mar 2015  \n",
        "82139   Jam  Apr 2015  \n",
        "82140   Jam  May 2015  \n",
        "82141   Jam  Jun 2015  \n",
        "82142   Jam  Jul 2015  \n",
        "82143   Jam  Aug 2015  \n",
        "82144   Jam  Sep 2015  \n",
        "82145   Jam  Oct 2015  \n",
        "82146   Jam  Nov 2015  \n",
        "82147   Jam  Dec 2015  \n",
        "\n",
        "[82148 rows x 4 columns]"
       ]
      }
     ],
     "prompt_number": 6
    },
    {
     "cell_type": "code",
     "collapsed": false,
     "input": [
      "#create a concatenated column and make index\n",
      "df2['New name'] = df2.apply(lambda x: str(x['Product']) +\",\"+ str(x['Brand']) +\",\"+ str(x['Type']), axis=1)\n",
      "df['New name'] = df.apply(lambda x: str(x['Product']) +\",\"+ str(x['Brand']) +\",\"+ str(x['Type']), axis=1)\n",
      "df = df.set_index('New name')\n",
      "df.index.name = None\n",
      "df"
     ],
     "language": "python",
     "metadata": {},
     "outputs": [
      {
       "html": [
        "<div style=\"max-height:1000px;max-width:1500px;overflow:auto;\">\n",
        "<table border=\"1\" class=\"dataframe\">\n",
        "  <thead>\n",
        "    <tr style=\"text-align: right;\">\n",
        "      <th></th>\n",
        "      <th>Product</th>\n",
        "      <th>Brand</th>\n",
        "      <th>Type</th>\n",
        "      <th>May 2012</th>\n",
        "      <th>Jun 2012</th>\n",
        "      <th>Jul 2012</th>\n",
        "      <th>Aug 2012</th>\n",
        "      <th>Sep 2012</th>\n",
        "      <th>Oct 2012</th>\n",
        "      <th>Nov 2012</th>\n",
        "      <th>...</th>\n",
        "      <th>Mar 2015</th>\n",
        "      <th>Apr 2015</th>\n",
        "      <th>May 2015</th>\n",
        "      <th>Jun 2015</th>\n",
        "      <th>Jul 2015</th>\n",
        "      <th>Aug 2015</th>\n",
        "      <th>Sep 2015</th>\n",
        "      <th>Oct 2015</th>\n",
        "      <th>Nov 2015</th>\n",
        "      <th>Dec 2015</th>\n",
        "    </tr>\n",
        "  </thead>\n",
        "  <tbody>\n",
        "    <tr>\n",
        "      <th>7 GRAIN MILK / 946ML,Pacific Natural Foods,Milk</th>\n",
        "      <td>                             7 GRAIN MILK / 946ML</td>\n",
        "      <td> Pacific Natural Foods</td>\n",
        "      <td>                     Milk</td>\n",
        "      <td> 0</td>\n",
        "      <td> 0</td>\n",
        "      <td>  0.00</td>\n",
        "      <td>  0.00</td>\n",
        "      <td>  0.00</td>\n",
        "      <td>  0.0</td>\n",
        "      <td>  0.00</td>\n",
        "      <td>...</td>\n",
        "      <td> 0</td>\n",
        "      <td>  0</td>\n",
        "      <td>    0.00</td>\n",
        "      <td>   0</td>\n",
        "      <td>    0.0</td>\n",
        "      <td>    0.000000</td>\n",
        "      <td>    0.0</td>\n",
        "      <td>    0.000000</td>\n",
        "      <td>    0.000000</td>\n",
        "      <td>    0.000000</td>\n",
        "    </tr>\n",
        "    <tr>\n",
        "      <th>ACAI BERRY JUICE,0,Beverages</th>\n",
        "      <td>                                 ACAI BERRY JUICE</td>\n",
        "      <td>                     0</td>\n",
        "      <td>                Beverages</td>\n",
        "      <td> 0</td>\n",
        "      <td> 0</td>\n",
        "      <td>  0.00</td>\n",
        "      <td>  0.00</td>\n",
        "      <td>  0.00</td>\n",
        "      <td>  0.0</td>\n",
        "      <td>  0.00</td>\n",
        "      <td>...</td>\n",
        "      <td> 0</td>\n",
        "      <td>  0</td>\n",
        "      <td>    0.00</td>\n",
        "      <td>   0</td>\n",
        "      <td>    0.0</td>\n",
        "      <td>    0.000000</td>\n",
        "      <td>    0.0</td>\n",
        "      <td>    0.000000</td>\n",
        "      <td>    0.000000</td>\n",
        "      <td>   60.000000</td>\n",
        "    </tr>\n",
        "    <tr>\n",
        "      <th>ACAI BERRY JUICE,Berry company,Juices</th>\n",
        "      <td>                                 ACAI BERRY JUICE</td>\n",
        "      <td>         Berry company</td>\n",
        "      <td>                   Juices</td>\n",
        "      <td> 0</td>\n",
        "      <td> 0</td>\n",
        "      <td>  0.00</td>\n",
        "      <td>  0.00</td>\n",
        "      <td>  0.00</td>\n",
        "      <td>  0.0</td>\n",
        "      <td>  0.00</td>\n",
        "      <td>...</td>\n",
        "      <td> 0</td>\n",
        "      <td>  0</td>\n",
        "      <td>    0.00</td>\n",
        "      <td>   0</td>\n",
        "      <td>    0.0</td>\n",
        "      <td>    0.000000</td>\n",
        "      <td>    0.0</td>\n",
        "      <td>    0.000000</td>\n",
        "      <td>    0.000000</td>\n",
        "      <td>    0.000000</td>\n",
        "    </tr>\n",
        "    <tr>\n",
        "      <th>ACNE FACIAL SOAP,Healing Herbs,Cosmetics</th>\n",
        "      <td>                                 ACNE FACIAL SOAP</td>\n",
        "      <td>         Healing Herbs</td>\n",
        "      <td>                Cosmetics</td>\n",
        "      <td> 0</td>\n",
        "      <td> 0</td>\n",
        "      <td>  0.00</td>\n",
        "      <td>  0.00</td>\n",
        "      <td>  0.00</td>\n",
        "      <td>  0.0</td>\n",
        "      <td>  0.00</td>\n",
        "      <td>...</td>\n",
        "      <td> 0</td>\n",
        "      <td>  0</td>\n",
        "      <td>    0.00</td>\n",
        "      <td>   0</td>\n",
        "      <td>    0.0</td>\n",
        "      <td>    0.000000</td>\n",
        "      <td>    0.0</td>\n",
        "      <td>    0.000000</td>\n",
        "      <td>    0.000000</td>\n",
        "      <td>    0.000000</td>\n",
        "    </tr>\n",
        "    <tr>\n",
        "      <th>ACQUA PANA WATER 1000ML,NGS,Beverages</th>\n",
        "      <td>                          ACQUA PANA WATER 1000ML</td>\n",
        "      <td>                   NGS</td>\n",
        "      <td>                Beverages</td>\n",
        "      <td> 0</td>\n",
        "      <td> 0</td>\n",
        "      <td>  0.00</td>\n",
        "      <td>  0.00</td>\n",
        "      <td>  0.00</td>\n",
        "      <td>  0.0</td>\n",
        "      <td>  0.00</td>\n",
        "      <td>...</td>\n",
        "      <td> 0</td>\n",
        "      <td>  0</td>\n",
        "      <td>    0.00</td>\n",
        "      <td>   0</td>\n",
        "      <td>    0.0</td>\n",
        "      <td>    0.000000</td>\n",
        "      <td>    0.0</td>\n",
        "      <td>    0.000000</td>\n",
        "      <td>    0.000000</td>\n",
        "      <td>    0.000000</td>\n",
        "    </tr>\n",
        "    <tr>\n",
        "      <th>ACQUA PANA WATER 500ML,NGS,Beverages</th>\n",
        "      <td>                           ACQUA PANA WATER 500ML</td>\n",
        "      <td>                   NGS</td>\n",
        "      <td>                Beverages</td>\n",
        "      <td> 0</td>\n",
        "      <td> 0</td>\n",
        "      <td>  0.00</td>\n",
        "      <td>  0.00</td>\n",
        "      <td>  0.00</td>\n",
        "      <td>  0.0</td>\n",
        "      <td>  0.00</td>\n",
        "      <td>...</td>\n",
        "      <td> 0</td>\n",
        "      <td>  0</td>\n",
        "      <td>    0.00</td>\n",
        "      <td>   0</td>\n",
        "      <td>    0.0</td>\n",
        "      <td>    0.000000</td>\n",
        "      <td>    0.0</td>\n",
        "      <td>    0.000000</td>\n",
        "      <td>    0.000000</td>\n",
        "      <td>    0.000000</td>\n",
        "    </tr>\n",
        "    <tr>\n",
        "      <th>ACQUA PANA WATER 500ML GLASS,NGS,Beverages</th>\n",
        "      <td>                     ACQUA PANA WATER 500ML GLASS</td>\n",
        "      <td>                   NGS</td>\n",
        "      <td>                Beverages</td>\n",
        "      <td> 0</td>\n",
        "      <td> 0</td>\n",
        "      <td>  0.00</td>\n",
        "      <td>  0.00</td>\n",
        "      <td>  0.00</td>\n",
        "      <td>  0.0</td>\n",
        "      <td>  0.00</td>\n",
        "      <td>...</td>\n",
        "      <td> 0</td>\n",
        "      <td>  0</td>\n",
        "      <td>    0.00</td>\n",
        "      <td>   0</td>\n",
        "      <td>    0.0</td>\n",
        "      <td>    0.000000</td>\n",
        "      <td>    0.0</td>\n",
        "      <td>    0.000000</td>\n",
        "      <td>    0.000000</td>\n",
        "      <td>    0.000000</td>\n",
        "    </tr>\n",
        "    <tr>\n",
        "      <th>ACTIBIF CHEESE (FOR BETTER DIGESTION),0,cheese</th>\n",
        "      <td>            ACTIBIF CHEESE (FOR BETTER DIGESTION)</td>\n",
        "      <td>                     0</td>\n",
        "      <td>                   cheese</td>\n",
        "      <td> 0</td>\n",
        "      <td> 0</td>\n",
        "      <td>  0.00</td>\n",
        "      <td>  0.00</td>\n",
        "      <td>  0.00</td>\n",
        "      <td>  0.0</td>\n",
        "      <td>  0.00</td>\n",
        "      <td>...</td>\n",
        "      <td> 0</td>\n",
        "      <td>  0</td>\n",
        "      <td>    0.00</td>\n",
        "      <td>   0</td>\n",
        "      <td>    0.0</td>\n",
        "      <td>   68.000000</td>\n",
        "      <td>  204.0</td>\n",
        "      <td>   68.000000</td>\n",
        "      <td>    0.000000</td>\n",
        "      <td>    0.000000</td>\n",
        "    </tr>\n",
        "    <tr>\n",
        "      <th>AGAR AGAR FLAKES (HAND HARVESTED) - WILD,0,Food supplements</th>\n",
        "      <td>         AGAR AGAR FLAKES (HAND HARVESTED) - WILD</td>\n",
        "      <td>                     0</td>\n",
        "      <td>         Food supplements</td>\n",
        "      <td> 0</td>\n",
        "      <td> 0</td>\n",
        "      <td>  0.00</td>\n",
        "      <td>  0.00</td>\n",
        "      <td>  0.00</td>\n",
        "      <td>  0.0</td>\n",
        "      <td>  0.00</td>\n",
        "      <td>...</td>\n",
        "      <td> 0</td>\n",
        "      <td>  0</td>\n",
        "      <td>   86.00</td>\n",
        "      <td>   0</td>\n",
        "      <td>  172.0</td>\n",
        "      <td>   86.000000</td>\n",
        "      <td>    0.0</td>\n",
        "      <td>   86.000000</td>\n",
        "      <td>    0.000000</td>\n",
        "      <td>  258.000000</td>\n",
        "    </tr>\n",
        "    <tr>\n",
        "      <th>AGAVE SYRUP ( ORGANIC ) / 473ML,Suzanne's Specialties,Sweeteners</th>\n",
        "      <td>                  AGAVE SYRUP ( ORGANIC ) / 473ML</td>\n",
        "      <td> Suzanne's Specialties</td>\n",
        "      <td>               Sweeteners</td>\n",
        "      <td> 0</td>\n",
        "      <td> 0</td>\n",
        "      <td>  0.00</td>\n",
        "      <td>  0.00</td>\n",
        "      <td>  0.00</td>\n",
        "      <td>  0.0</td>\n",
        "      <td>  0.00</td>\n",
        "      <td>...</td>\n",
        "      <td> 0</td>\n",
        "      <td>  0</td>\n",
        "      <td>    0.00</td>\n",
        "      <td>   0</td>\n",
        "      <td>    0.0</td>\n",
        "      <td>    0.000000</td>\n",
        "      <td>    0.0</td>\n",
        "      <td>    0.000000</td>\n",
        "      <td>    0.000000</td>\n",
        "      <td>    0.000000</td>\n",
        "    </tr>\n",
        "    <tr>\n",
        "      <th>ALL PURPOSE BAKING FLOUR ( GLUTEN FREE ),NGS,Flour</th>\n",
        "      <td>         ALL PURPOSE BAKING FLOUR ( GLUTEN FREE )</td>\n",
        "      <td>                   NGS</td>\n",
        "      <td>                    Flour</td>\n",
        "      <td> 0</td>\n",
        "      <td> 0</td>\n",
        "      <td>  0.00</td>\n",
        "      <td>  0.00</td>\n",
        "      <td>  0.00</td>\n",
        "      <td>  0.0</td>\n",
        "      <td>  0.00</td>\n",
        "      <td>...</td>\n",
        "      <td> 0</td>\n",
        "      <td>  0</td>\n",
        "      <td>    0.00</td>\n",
        "      <td>   0</td>\n",
        "      <td>    0.0</td>\n",
        "      <td>    0.000000</td>\n",
        "      <td>    0.0</td>\n",
        "      <td>    0.000000</td>\n",
        "      <td>    0.000000</td>\n",
        "      <td>    0.000000</td>\n",
        "    </tr>\n",
        "    <tr>\n",
        "      <th>ALL PURPOSE BAKING FLOUR ( GLUTEN FREE ) / 623G,Bob's Red Mill,Flour</th>\n",
        "      <td>  ALL PURPOSE BAKING FLOUR ( GLUTEN FREE ) / 623G</td>\n",
        "      <td>        Bob's Red Mill</td>\n",
        "      <td>                    Flour</td>\n",
        "      <td> 0</td>\n",
        "      <td> 0</td>\n",
        "      <td>  0.00</td>\n",
        "      <td>  0.00</td>\n",
        "      <td>  0.00</td>\n",
        "      <td>  0.0</td>\n",
        "      <td>  0.00</td>\n",
        "      <td>...</td>\n",
        "      <td> 0</td>\n",
        "      <td>  0</td>\n",
        "      <td>    0.00</td>\n",
        "      <td>   0</td>\n",
        "      <td>    0.0</td>\n",
        "      <td>    0.000000</td>\n",
        "      <td>    0.0</td>\n",
        "      <td>    0.000000</td>\n",
        "      <td>    0.000000</td>\n",
        "      <td>    0.000000</td>\n",
        "    </tr>\n",
        "    <tr>\n",
        "      <th>ALL PURPOSE BAKING FLOUR (GLUTEN FREE),0,Baking products</th>\n",
        "      <td>           ALL PURPOSE BAKING FLOUR (GLUTEN FREE)</td>\n",
        "      <td>                     0</td>\n",
        "      <td>          Baking products</td>\n",
        "      <td> 0</td>\n",
        "      <td> 0</td>\n",
        "      <td>  0.00</td>\n",
        "      <td>  0.00</td>\n",
        "      <td>  0.00</td>\n",
        "      <td>  0.0</td>\n",
        "      <td>  0.00</td>\n",
        "      <td>...</td>\n",
        "      <td> 0</td>\n",
        "      <td>  0</td>\n",
        "      <td>    0.00</td>\n",
        "      <td>   0</td>\n",
        "      <td>  696.0</td>\n",
        "      <td> 1747.200000</td>\n",
        "      <td> 1046.4</td>\n",
        "      <td>  192.000000</td>\n",
        "      <td>    0.000000</td>\n",
        "      <td>  495.000000</td>\n",
        "    </tr>\n",
        "    <tr>\n",
        "      <th>ALL PURPOSE BAKING FLOUR (GLUTEN FREE),0,General</th>\n",
        "      <td>           ALL PURPOSE BAKING FLOUR (GLUTEN FREE)</td>\n",
        "      <td>                     0</td>\n",
        "      <td>                  General</td>\n",
        "      <td> 0</td>\n",
        "      <td> 0</td>\n",
        "      <td>  0.00</td>\n",
        "      <td>  0.00</td>\n",
        "      <td>  0.00</td>\n",
        "      <td>  0.0</td>\n",
        "      <td>  0.00</td>\n",
        "      <td>...</td>\n",
        "      <td> 0</td>\n",
        "      <td>  0</td>\n",
        "      <td>   43.75</td>\n",
        "      <td> 516</td>\n",
        "      <td>    0.0</td>\n",
        "      <td>    0.000000</td>\n",
        "      <td>   48.0</td>\n",
        "      <td>  528.000000</td>\n",
        "      <td>  240.000000</td>\n",
        "      <td>    0.000000</td>\n",
        "    </tr>\n",
        "    <tr>\n",
        "      <th>ALMOND BISCUITS (GLUTEN FREE - TRACES OF GLUTEN),0,Snacks</th>\n",
        "      <td> ALMOND BISCUITS (GLUTEN FREE - TRACES OF GLUTEN)</td>\n",
        "      <td>                     0</td>\n",
        "      <td>                   Snacks</td>\n",
        "      <td> 0</td>\n",
        "      <td> 0</td>\n",
        "      <td>  0.00</td>\n",
        "      <td>  0.00</td>\n",
        "      <td>  0.00</td>\n",
        "      <td>  0.0</td>\n",
        "      <td>  0.00</td>\n",
        "      <td>...</td>\n",
        "      <td> 0</td>\n",
        "      <td> 36</td>\n",
        "      <td>   18.00</td>\n",
        "      <td>   0</td>\n",
        "      <td>    0.0</td>\n",
        "      <td>    0.000000</td>\n",
        "      <td>    0.0</td>\n",
        "      <td>    0.000000</td>\n",
        "      <td>    0.000000</td>\n",
        "      <td>    0.000000</td>\n",
        "    </tr>\n",
        "    <tr>\n",
        "      <th>ALMOND BREAD (GLUTEN FREE),0,Bread</th>\n",
        "      <td>                       ALMOND BREAD (GLUTEN FREE)</td>\n",
        "      <td>                     0</td>\n",
        "      <td>                    Bread</td>\n",
        "      <td> 0</td>\n",
        "      <td> 0</td>\n",
        "      <td>  0.00</td>\n",
        "      <td>  0.00</td>\n",
        "      <td>  0.00</td>\n",
        "      <td>  0.0</td>\n",
        "      <td>  0.00</td>\n",
        "      <td>...</td>\n",
        "      <td> 0</td>\n",
        "      <td>  0</td>\n",
        "      <td>    0.00</td>\n",
        "      <td>   0</td>\n",
        "      <td>    0.0</td>\n",
        "      <td>    0.000000</td>\n",
        "      <td>  180.0</td>\n",
        "      <td>    0.000000</td>\n",
        "      <td>    0.000000</td>\n",
        "      <td>    0.000000</td>\n",
        "    </tr>\n",
        "    <tr>\n",
        "      <th>ALMOND BUTTER,0,Nut butter</th>\n",
        "      <td>                                    ALMOND BUTTER</td>\n",
        "      <td>                     0</td>\n",
        "      <td>               Nut butter</td>\n",
        "      <td> 0</td>\n",
        "      <td> 0</td>\n",
        "      <td>  0.00</td>\n",
        "      <td>  0.00</td>\n",
        "      <td>  0.00</td>\n",
        "      <td>  0.0</td>\n",
        "      <td>  0.00</td>\n",
        "      <td>...</td>\n",
        "      <td> 0</td>\n",
        "      <td>  0</td>\n",
        "      <td>    0.00</td>\n",
        "      <td>   0</td>\n",
        "      <td>   65.0</td>\n",
        "      <td> 1046.000000</td>\n",
        "      <td>  715.0</td>\n",
        "      <td> 1683.722222</td>\n",
        "      <td> 1755.000000</td>\n",
        "      <td> 2648.345747</td>\n",
        "    </tr>\n",
        "    <tr>\n",
        "      <th>ALMOND BUTTER (HOME-MADE),Signature,spreads</th>\n",
        "      <td>                        ALMOND BUTTER (HOME-MADE)</td>\n",
        "      <td>             Signature</td>\n",
        "      <td>                  spreads</td>\n",
        "      <td> 0</td>\n",
        "      <td> 0</td>\n",
        "      <td>  0.00</td>\n",
        "      <td>  0.00</td>\n",
        "      <td>  0.00</td>\n",
        "      <td>  0.0</td>\n",
        "      <td>  0.00</td>\n",
        "      <td>...</td>\n",
        "      <td> 0</td>\n",
        "      <td>  0</td>\n",
        "      <td>    0.00</td>\n",
        "      <td>   0</td>\n",
        "      <td>    0.0</td>\n",
        "      <td>    0.000000</td>\n",
        "      <td>    0.0</td>\n",
        "      <td>    0.000000</td>\n",
        "      <td>    0.000000</td>\n",
        "      <td>    0.000000</td>\n",
        "    </tr>\n",
        "    <tr>\n",
        "      <th>ALMOND BUTTER (NATURAL),0,Nut butter</th>\n",
        "      <td>                          ALMOND BUTTER (NATURAL)</td>\n",
        "      <td>                     0</td>\n",
        "      <td>               Nut butter</td>\n",
        "      <td> 0</td>\n",
        "      <td> 0</td>\n",
        "      <td>  0.00</td>\n",
        "      <td>  0.00</td>\n",
        "      <td>  0.00</td>\n",
        "      <td>  0.0</td>\n",
        "      <td>  0.00</td>\n",
        "      <td>...</td>\n",
        "      <td> 0</td>\n",
        "      <td>  0</td>\n",
        "      <td>    0.00</td>\n",
        "      <td>   0</td>\n",
        "      <td>    0.0</td>\n",
        "      <td>  130.000000</td>\n",
        "      <td>  325.0</td>\n",
        "      <td>  715.000000</td>\n",
        "      <td>  780.000000</td>\n",
        "      <td>  650.000000</td>\n",
        "    </tr>\n",
        "    <tr>\n",
        "      <th>ALMOND MEAL FLOUR,0,Baking products</th>\n",
        "      <td>                                ALMOND MEAL FLOUR</td>\n",
        "      <td>                     0</td>\n",
        "      <td>          Baking products</td>\n",
        "      <td> 0</td>\n",
        "      <td> 0</td>\n",
        "      <td>  0.00</td>\n",
        "      <td>  0.00</td>\n",
        "      <td>  0.00</td>\n",
        "      <td>  0.0</td>\n",
        "      <td>  0.00</td>\n",
        "      <td>...</td>\n",
        "      <td> 0</td>\n",
        "      <td>  0</td>\n",
        "      <td>  504.00</td>\n",
        "      <td>   0</td>\n",
        "      <td> 1161.6</td>\n",
        "      <td> 3168.000000</td>\n",
        "      <td> 2296.8</td>\n",
        "      <td> 1716.000000</td>\n",
        "      <td> 3892.412286</td>\n",
        "      <td>  -15.575221</td>\n",
        "    </tr>\n",
        "    <tr>\n",
        "      <th>ALMOND MILK ( ORGANIC ),Alpro,Non-dairy milk</th>\n",
        "      <td>                          ALMOND MILK ( ORGANIC )</td>\n",
        "      <td>                 Alpro</td>\n",
        "      <td>           Non-dairy milk</td>\n",
        "      <td> 0</td>\n",
        "      <td> 0</td>\n",
        "      <td>  0.00</td>\n",
        "      <td>  0.00</td>\n",
        "      <td>  0.00</td>\n",
        "      <td>  0.0</td>\n",
        "      <td>  0.00</td>\n",
        "      <td>...</td>\n",
        "      <td> 0</td>\n",
        "      <td>  0</td>\n",
        "      <td>    0.00</td>\n",
        "      <td>   0</td>\n",
        "      <td>    0.0</td>\n",
        "      <td>    0.000000</td>\n",
        "      <td>    0.0</td>\n",
        "      <td>    0.000000</td>\n",
        "      <td>    0.000000</td>\n",
        "      <td>    0.000000</td>\n",
        "    </tr>\n",
        "    <tr>\n",
        "      <th>ALMOND MILK ( ORGANIC ) / 946ML,Pacific Natural Foods,Non-dairy milk</th>\n",
        "      <td>                  ALMOND MILK ( ORGANIC ) / 946ML</td>\n",
        "      <td> Pacific Natural Foods</td>\n",
        "      <td>           Non-dairy milk</td>\n",
        "      <td> 0</td>\n",
        "      <td> 0</td>\n",
        "      <td>  0.00</td>\n",
        "      <td>  0.00</td>\n",
        "      <td>  0.00</td>\n",
        "      <td>  0.0</td>\n",
        "      <td>  0.00</td>\n",
        "      <td>...</td>\n",
        "      <td> 0</td>\n",
        "      <td>  0</td>\n",
        "      <td>    0.00</td>\n",
        "      <td>   0</td>\n",
        "      <td>    0.0</td>\n",
        "      <td>    0.000000</td>\n",
        "      <td>    0.0</td>\n",
        "      <td>    0.000000</td>\n",
        "      <td>    0.000000</td>\n",
        "      <td>    0.000000</td>\n",
        "    </tr>\n",
        "    <tr>\n",
        "      <th>ALMOND MILK ( ORGANIC ) 946ML,0,Non-dairy milk</th>\n",
        "      <td>                    ALMOND MILK ( ORGANIC ) 946ML</td>\n",
        "      <td>                     0</td>\n",
        "      <td>           Non-dairy milk</td>\n",
        "      <td> 0</td>\n",
        "      <td> 0</td>\n",
        "      <td>  0.00</td>\n",
        "      <td>  0.00</td>\n",
        "      <td>  0.00</td>\n",
        "      <td>  0.0</td>\n",
        "      <td>  0.00</td>\n",
        "      <td>...</td>\n",
        "      <td> 0</td>\n",
        "      <td>  0</td>\n",
        "      <td>  102.00</td>\n",
        "      <td>   0</td>\n",
        "      <td>    0.0</td>\n",
        "      <td>    0.000000</td>\n",
        "      <td>    0.0</td>\n",
        "      <td>    0.000000</td>\n",
        "      <td>    0.000000</td>\n",
        "      <td>    0.000000</td>\n",
        "    </tr>\n",
        "    <tr>\n",
        "      <th>ALMOND MILK ( ORIGINAL ),NGS,Non-dairy milk</th>\n",
        "      <td>                         ALMOND MILK ( ORIGINAL )</td>\n",
        "      <td>                   NGS</td>\n",
        "      <td>           Non-dairy milk</td>\n",
        "      <td> 0</td>\n",
        "      <td> 0</td>\n",
        "      <td>  0.00</td>\n",
        "      <td>  0.00</td>\n",
        "      <td>  0.00</td>\n",
        "      <td>  0.0</td>\n",
        "      <td>  0.00</td>\n",
        "      <td>...</td>\n",
        "      <td> 0</td>\n",
        "      <td>  0</td>\n",
        "      <td>    0.00</td>\n",
        "      <td>   0</td>\n",
        "      <td>    0.0</td>\n",
        "      <td>    0.000000</td>\n",
        "      <td>    0.0</td>\n",
        "      <td>    0.000000</td>\n",
        "      <td>    0.000000</td>\n",
        "      <td>    0.000000</td>\n",
        "    </tr>\n",
        "    <tr>\n",
        "      <th>ALMOND MILK (ORGANIC) - SUGAR-FREE,0,Non-dairy milk</th>\n",
        "      <td>               ALMOND MILK (ORGANIC) - SUGAR-FREE</td>\n",
        "      <td>                     0</td>\n",
        "      <td>           Non-dairy milk</td>\n",
        "      <td> 0</td>\n",
        "      <td> 0</td>\n",
        "      <td>  0.00</td>\n",
        "      <td>  0.00</td>\n",
        "      <td>  0.00</td>\n",
        "      <td>  0.0</td>\n",
        "      <td>  0.00</td>\n",
        "      <td>...</td>\n",
        "      <td> 0</td>\n",
        "      <td>  0</td>\n",
        "      <td>    0.00</td>\n",
        "      <td>   0</td>\n",
        "      <td>    0.0</td>\n",
        "      <td>    0.000000</td>\n",
        "      <td>    0.0</td>\n",
        "      <td>    0.000000</td>\n",
        "      <td> 2521.720515</td>\n",
        "      <td> 2530.000000</td>\n",
        "    </tr>\n",
        "    <tr>\n",
        "      <th>ALMOND MILK (UNSWEETENED),0,Non-dairy milk</th>\n",
        "      <td>                        ALMOND MILK (UNSWEETENED)</td>\n",
        "      <td>                     0</td>\n",
        "      <td>           Non-dairy milk</td>\n",
        "      <td> 0</td>\n",
        "      <td> 0</td>\n",
        "      <td>  0.00</td>\n",
        "      <td>  0.00</td>\n",
        "      <td>  0.00</td>\n",
        "      <td>  0.0</td>\n",
        "      <td>  0.00</td>\n",
        "      <td>...</td>\n",
        "      <td> 0</td>\n",
        "      <td>  0</td>\n",
        "      <td>    0.00</td>\n",
        "      <td>   0</td>\n",
        "      <td>    0.0</td>\n",
        "      <td>    0.000000</td>\n",
        "      <td>    0.0</td>\n",
        "      <td>    0.000000</td>\n",
        "      <td>    0.000000</td>\n",
        "      <td>    0.000000</td>\n",
        "    </tr>\n",
        "    <tr>\n",
        "      <th>ALMOND MILK WITH DARK CHOCOLATE,Pure almond,Non-dairy milk</th>\n",
        "      <td>                  ALMOND MILK WITH DARK CHOCOLATE</td>\n",
        "      <td>           Pure almond</td>\n",
        "      <td>           Non-dairy milk</td>\n",
        "      <td> 0</td>\n",
        "      <td> 0</td>\n",
        "      <td>  0.00</td>\n",
        "      <td>  0.00</td>\n",
        "      <td>  0.00</td>\n",
        "      <td>  0.0</td>\n",
        "      <td>  0.00</td>\n",
        "      <td>...</td>\n",
        "      <td> 0</td>\n",
        "      <td>  0</td>\n",
        "      <td>    0.00</td>\n",
        "      <td>   0</td>\n",
        "      <td>    0.0</td>\n",
        "      <td>    0.000000</td>\n",
        "      <td>    0.0</td>\n",
        "      <td>    0.000000</td>\n",
        "      <td>    0.000000</td>\n",
        "      <td>    0.000000</td>\n",
        "    </tr>\n",
        "    <tr>\n",
        "      <th>ALMOND MILK WITH VANILLA,Pure almond,Non-dairy milk</th>\n",
        "      <td>                         ALMOND MILK WITH VANILLA</td>\n",
        "      <td>           Pure almond</td>\n",
        "      <td>           Non-dairy milk</td>\n",
        "      <td> 0</td>\n",
        "      <td> 0</td>\n",
        "      <td>  0.00</td>\n",
        "      <td>  0.00</td>\n",
        "      <td>  0.00</td>\n",
        "      <td>  0.0</td>\n",
        "      <td>  0.00</td>\n",
        "      <td>...</td>\n",
        "      <td> 0</td>\n",
        "      <td>  0</td>\n",
        "      <td>    0.00</td>\n",
        "      <td>   0</td>\n",
        "      <td>    0.0</td>\n",
        "      <td>    0.000000</td>\n",
        "      <td>    0.0</td>\n",
        "      <td>    0.000000</td>\n",
        "      <td>    0.000000</td>\n",
        "      <td>    0.000000</td>\n",
        "    </tr>\n",
        "    <tr>\n",
        "      <th>ALMOND ORIGINAL (ORIGINAL),0,Non-dairy milk</th>\n",
        "      <td>                       ALMOND ORIGINAL (ORIGINAL)</td>\n",
        "      <td>                     0</td>\n",
        "      <td>           Non-dairy milk</td>\n",
        "      <td> 0</td>\n",
        "      <td> 0</td>\n",
        "      <td>  0.00</td>\n",
        "      <td>  0.00</td>\n",
        "      <td>  0.00</td>\n",
        "      <td>  0.0</td>\n",
        "      <td>  0.00</td>\n",
        "      <td>...</td>\n",
        "      <td> 0</td>\n",
        "      <td>  0</td>\n",
        "      <td>    0.00</td>\n",
        "      <td>   0</td>\n",
        "      <td>    0.0</td>\n",
        "      <td>    0.000000</td>\n",
        "      <td>    0.0</td>\n",
        "      <td>    0.000000</td>\n",
        "      <td>    0.000000</td>\n",
        "      <td>    0.000000</td>\n",
        "    </tr>\n",
        "    <tr>\n",
        "      <th>ALMOND'S AND OATS BODY SCRUB,0,Cosmetics</th>\n",
        "      <td>                     ALMOND'S AND OATS BODY SCRUB</td>\n",
        "      <td>                     0</td>\n",
        "      <td>                Cosmetics</td>\n",
        "      <td> 0</td>\n",
        "      <td> 0</td>\n",
        "      <td>  0.00</td>\n",
        "      <td>  0.00</td>\n",
        "      <td>  0.00</td>\n",
        "      <td>  0.0</td>\n",
        "      <td>  0.00</td>\n",
        "      <td>...</td>\n",
        "      <td> 0</td>\n",
        "      <td>  0</td>\n",
        "      <td>    0.00</td>\n",
        "      <td>   0</td>\n",
        "      <td>    0.0</td>\n",
        "      <td>    0.000000</td>\n",
        "      <td>    0.0</td>\n",
        "      <td>    0.000000</td>\n",
        "      <td>    0.000000</td>\n",
        "      <td>    0.000000</td>\n",
        "    </tr>\n",
        "    <tr>\n",
        "      <th>...</th>\n",
        "      <td>...</td>\n",
        "      <td>...</td>\n",
        "      <td>...</td>\n",
        "      <td>...</td>\n",
        "      <td>...</td>\n",
        "      <td>...</td>\n",
        "      <td>...</td>\n",
        "      <td>...</td>\n",
        "      <td>...</td>\n",
        "      <td>...</td>\n",
        "      <td>...</td>\n",
        "      <td>...</td>\n",
        "      <td>...</td>\n",
        "      <td>...</td>\n",
        "      <td>...</td>\n",
        "      <td>...</td>\n",
        "      <td>...</td>\n",
        "      <td>...</td>\n",
        "      <td>...</td>\n",
        "      <td>...</td>\n",
        "      <td>...</td>\n",
        "    </tr>\n",
        "    <tr>\n",
        "      <th>XANTHAN GUM (GLUTEN FREE),0,Baking products</th>\n",
        "      <td>                        XANTHAN GUM (GLUTEN FREE)</td>\n",
        "      <td>                     0</td>\n",
        "      <td>          Baking products</td>\n",
        "      <td> 0</td>\n",
        "      <td> 0</td>\n",
        "      <td>  0.00</td>\n",
        "      <td>  0.00</td>\n",
        "      <td>  0.00</td>\n",
        "      <td>  0.0</td>\n",
        "      <td>  0.00</td>\n",
        "      <td>...</td>\n",
        "      <td> 0</td>\n",
        "      <td>  0</td>\n",
        "      <td>    0.00</td>\n",
        "      <td>   0</td>\n",
        "      <td>    0.0</td>\n",
        "      <td>  660.000000</td>\n",
        "      <td>  264.0</td>\n",
        "      <td>  396.000000</td>\n",
        "      <td> 1596.000000</td>\n",
        "      <td>    0.000000</td>\n",
        "    </tr>\n",
        "    <tr>\n",
        "      <th>YAKI NORI SHEETS,NGS,Japanese cuisine</th>\n",
        "      <td>                                 YAKI NORI SHEETS</td>\n",
        "      <td>                   NGS</td>\n",
        "      <td>         Japanese cuisine</td>\n",
        "      <td> 0</td>\n",
        "      <td> 0</td>\n",
        "      <td>  0.00</td>\n",
        "      <td>  0.00</td>\n",
        "      <td>  0.00</td>\n",
        "      <td>  0.0</td>\n",
        "      <td>  0.00</td>\n",
        "      <td>...</td>\n",
        "      <td> 0</td>\n",
        "      <td>  0</td>\n",
        "      <td>    0.00</td>\n",
        "      <td>   0</td>\n",
        "      <td>    0.0</td>\n",
        "      <td>    0.000000</td>\n",
        "      <td>    0.0</td>\n",
        "      <td>    0.000000</td>\n",
        "      <td>    0.000000</td>\n",
        "      <td>    0.000000</td>\n",
        "    </tr>\n",
        "    <tr>\n",
        "      <th>YELLOW APPLES,NGS,Fruits</th>\n",
        "      <td>                                    YELLOW APPLES</td>\n",
        "      <td>                   NGS</td>\n",
        "      <td>                   Fruits</td>\n",
        "      <td> 0</td>\n",
        "      <td> 0</td>\n",
        "      <td>  0.00</td>\n",
        "      <td>  0.00</td>\n",
        "      <td>  0.00</td>\n",
        "      <td>  0.0</td>\n",
        "      <td>  0.00</td>\n",
        "      <td>...</td>\n",
        "      <td> 0</td>\n",
        "      <td>  0</td>\n",
        "      <td>    0.00</td>\n",
        "      <td> 130</td>\n",
        "      <td>   78.0</td>\n",
        "      <td>  156.000000</td>\n",
        "      <td>  305.0</td>\n",
        "      <td>  413.408990</td>\n",
        "      <td>  504.000000</td>\n",
        "      <td>   75.400000</td>\n",
        "    </tr>\n",
        "    <tr>\n",
        "      <th>YELLOW BROCCOLI,NGS,Fresh vegetables</th>\n",
        "      <td>                                  YELLOW BROCCOLI</td>\n",
        "      <td>                   NGS</td>\n",
        "      <td>         Fresh vegetables</td>\n",
        "      <td> 0</td>\n",
        "      <td> 0</td>\n",
        "      <td>  0.00</td>\n",
        "      <td>  0.00</td>\n",
        "      <td>  0.00</td>\n",
        "      <td>  0.0</td>\n",
        "      <td>  0.00</td>\n",
        "      <td>...</td>\n",
        "      <td> 0</td>\n",
        "      <td>  0</td>\n",
        "      <td>    0.00</td>\n",
        "      <td>   0</td>\n",
        "      <td>    0.0</td>\n",
        "      <td>    0.000000</td>\n",
        "      <td>    0.0</td>\n",
        "      <td>    0.000000</td>\n",
        "      <td>    0.000000</td>\n",
        "      <td>    0.000000</td>\n",
        "    </tr>\n",
        "    <tr>\n",
        "      <th>YELLOW CAPSICUM ( CHEMICAL FREE ),NGS,Chemical free vegetables</th>\n",
        "      <td>                YELLOW CAPSICUM ( CHEMICAL FREE )</td>\n",
        "      <td>                   NGS</td>\n",
        "      <td> Chemical free vegetables</td>\n",
        "      <td> 0</td>\n",
        "      <td> 0</td>\n",
        "      <td>  0.00</td>\n",
        "      <td>  0.00</td>\n",
        "      <td>  0.00</td>\n",
        "      <td>  0.0</td>\n",
        "      <td>  0.00</td>\n",
        "      <td>...</td>\n",
        "      <td> 0</td>\n",
        "      <td>  0</td>\n",
        "      <td>    0.00</td>\n",
        "      <td>   0</td>\n",
        "      <td>    0.0</td>\n",
        "      <td>    0.000000</td>\n",
        "      <td>    0.0</td>\n",
        "      <td>    0.000000</td>\n",
        "      <td>    0.000000</td>\n",
        "      <td>    0.000000</td>\n",
        "    </tr>\n",
        "    <tr>\n",
        "      <th>YELLOW CARROT ( CHEMICAL FREE ),0,Vegetables</th>\n",
        "      <td>                  YELLOW CARROT ( CHEMICAL FREE )</td>\n",
        "      <td>                     0</td>\n",
        "      <td>               Vegetables</td>\n",
        "      <td> 0</td>\n",
        "      <td> 0</td>\n",
        "      <td>  0.00</td>\n",
        "      <td>  0.00</td>\n",
        "      <td>  0.00</td>\n",
        "      <td>  0.0</td>\n",
        "      <td>  0.00</td>\n",
        "      <td>...</td>\n",
        "      <td> 0</td>\n",
        "      <td> 14</td>\n",
        "      <td> 1098.00</td>\n",
        "      <td> 210</td>\n",
        "      <td>    0.0</td>\n",
        "      <td>   30.000000</td>\n",
        "      <td>    0.0</td>\n",
        "      <td>    0.000000</td>\n",
        "      <td>    0.000000</td>\n",
        "      <td>    0.000000</td>\n",
        "    </tr>\n",
        "    <tr>\n",
        "      <th>YELLOW CARROT ( CHEMICAL FREE ),NGS,Fresh vegetables</th>\n",
        "      <td>                  YELLOW CARROT ( CHEMICAL FREE )</td>\n",
        "      <td>                   NGS</td>\n",
        "      <td>         Fresh vegetables</td>\n",
        "      <td> 0</td>\n",
        "      <td> 0</td>\n",
        "      <td>  0.00</td>\n",
        "      <td>  0.00</td>\n",
        "      <td>  0.00</td>\n",
        "      <td>  0.0</td>\n",
        "      <td>  0.00</td>\n",
        "      <td>...</td>\n",
        "      <td> 0</td>\n",
        "      <td>  0</td>\n",
        "      <td>    0.00</td>\n",
        "      <td>   0</td>\n",
        "      <td>    0.0</td>\n",
        "      <td>    0.000000</td>\n",
        "      <td>    0.0</td>\n",
        "      <td>    0.000000</td>\n",
        "      <td>    0.000000</td>\n",
        "      <td>    0.000000</td>\n",
        "    </tr>\n",
        "    <tr>\n",
        "      <th>YELLOW CARROTS,NGS,Fresh vegetables</th>\n",
        "      <td>                                   YELLOW CARROTS</td>\n",
        "      <td>                   NGS</td>\n",
        "      <td>         Fresh vegetables</td>\n",
        "      <td> 0</td>\n",
        "      <td> 0</td>\n",
        "      <td>  0.00</td>\n",
        "      <td>  0.00</td>\n",
        "      <td>  0.00</td>\n",
        "      <td>  0.0</td>\n",
        "      <td>  0.00</td>\n",
        "      <td>...</td>\n",
        "      <td> 0</td>\n",
        "      <td>  0</td>\n",
        "      <td>    0.00</td>\n",
        "      <td>   0</td>\n",
        "      <td>    0.0</td>\n",
        "      <td>    0.000000</td>\n",
        "      <td>    0.0</td>\n",
        "      <td>    0.000000</td>\n",
        "      <td>    0.000000</td>\n",
        "      <td>    0.000000</td>\n",
        "    </tr>\n",
        "    <tr>\n",
        "      <th>YELLOW CHERRY TOMATOES,Kheir Misr,Fresh vegetables</th>\n",
        "      <td>                           YELLOW CHERRY TOMATOES</td>\n",
        "      <td>            Kheir Misr</td>\n",
        "      <td>         Fresh vegetables</td>\n",
        "      <td> 0</td>\n",
        "      <td> 0</td>\n",
        "      <td>  0.00</td>\n",
        "      <td>  0.00</td>\n",
        "      <td>  0.00</td>\n",
        "      <td>  0.0</td>\n",
        "      <td>  0.00</td>\n",
        "      <td>...</td>\n",
        "      <td> 0</td>\n",
        "      <td>  0</td>\n",
        "      <td>    0.00</td>\n",
        "      <td>   0</td>\n",
        "      <td>    0.0</td>\n",
        "      <td>    0.000000</td>\n",
        "      <td>    0.0</td>\n",
        "      <td>    0.000000</td>\n",
        "      <td>    0.000000</td>\n",
        "      <td>    0.000000</td>\n",
        "    </tr>\n",
        "    <tr>\n",
        "      <th>YELLOW GRAPEFRUIT,0,Fresh fruits</th>\n",
        "      <td>                                YELLOW GRAPEFRUIT</td>\n",
        "      <td>                     0</td>\n",
        "      <td>             Fresh fruits</td>\n",
        "      <td> 0</td>\n",
        "      <td> 0</td>\n",
        "      <td>  0.00</td>\n",
        "      <td>  0.00</td>\n",
        "      <td>  0.00</td>\n",
        "      <td>  0.0</td>\n",
        "      <td>  0.00</td>\n",
        "      <td>...</td>\n",
        "      <td> 0</td>\n",
        "      <td>  0</td>\n",
        "      <td>    0.00</td>\n",
        "      <td>   0</td>\n",
        "      <td>    0.0</td>\n",
        "      <td>    0.000000</td>\n",
        "      <td>    0.0</td>\n",
        "      <td>    0.000000</td>\n",
        "      <td>    0.000000</td>\n",
        "      <td>    0.000000</td>\n",
        "    </tr>\n",
        "    <tr>\n",
        "      <th>YELLOW GRAPEFRUIT,NGS,Fruits</th>\n",
        "      <td>                                YELLOW GRAPEFRUIT</td>\n",
        "      <td>                   NGS</td>\n",
        "      <td>                   Fruits</td>\n",
        "      <td> 0</td>\n",
        "      <td> 0</td>\n",
        "      <td>  0.00</td>\n",
        "      <td>  0.00</td>\n",
        "      <td>  0.00</td>\n",
        "      <td>  0.0</td>\n",
        "      <td>  0.00</td>\n",
        "      <td>...</td>\n",
        "      <td> 0</td>\n",
        "      <td>  0</td>\n",
        "      <td>  218.00</td>\n",
        "      <td>  58</td>\n",
        "      <td>   84.0</td>\n",
        "      <td>  140.846479</td>\n",
        "      <td>   99.0</td>\n",
        "      <td>   87.755294</td>\n",
        "      <td>   41.899052</td>\n",
        "      <td>    9.000000</td>\n",
        "    </tr>\n",
        "    <tr>\n",
        "      <th>YELLOW MUSTARD,Eden Foods, Inc.,Spices</th>\n",
        "      <td>                                   YELLOW MUSTARD</td>\n",
        "      <td>      Eden Foods, Inc.</td>\n",
        "      <td>                   Spices</td>\n",
        "      <td> 0</td>\n",
        "      <td> 0</td>\n",
        "      <td>  0.00</td>\n",
        "      <td>  0.00</td>\n",
        "      <td>  0.00</td>\n",
        "      <td>  0.0</td>\n",
        "      <td>  0.00</td>\n",
        "      <td>...</td>\n",
        "      <td> 0</td>\n",
        "      <td>  0</td>\n",
        "      <td>    0.00</td>\n",
        "      <td>   0</td>\n",
        "      <td>    0.0</td>\n",
        "      <td>    0.000000</td>\n",
        "      <td>    0.0</td>\n",
        "      <td>    0.000000</td>\n",
        "      <td>   69.189577</td>\n",
        "      <td>   49.505758</td>\n",
        "    </tr>\n",
        "    <tr>\n",
        "      <th>YELLOW ONIONS ( CHEMICAL FREE ),NGS,Fresh vegetables</th>\n",
        "      <td>                  YELLOW ONIONS ( CHEMICAL FREE )</td>\n",
        "      <td>                   NGS</td>\n",
        "      <td>         Fresh vegetables</td>\n",
        "      <td> 0</td>\n",
        "      <td> 0</td>\n",
        "      <td>  0.00</td>\n",
        "      <td>  0.00</td>\n",
        "      <td>  0.00</td>\n",
        "      <td>  0.0</td>\n",
        "      <td>  0.00</td>\n",
        "      <td>...</td>\n",
        "      <td> 0</td>\n",
        "      <td>  0</td>\n",
        "      <td>    0.00</td>\n",
        "      <td>   0</td>\n",
        "      <td>    0.0</td>\n",
        "      <td>    0.000000</td>\n",
        "      <td>    0.0</td>\n",
        "      <td>    0.000000</td>\n",
        "      <td>    0.000000</td>\n",
        "      <td>    0.000000</td>\n",
        "    </tr>\n",
        "    <tr>\n",
        "      <th>YELLOW SPLIT PEAS / 822G,Bob's Red Mill,Grains</th>\n",
        "      <td>                         YELLOW SPLIT PEAS / 822G</td>\n",
        "      <td>        Bob's Red Mill</td>\n",
        "      <td>                   Grains</td>\n",
        "      <td> 0</td>\n",
        "      <td> 0</td>\n",
        "      <td>  0.00</td>\n",
        "      <td>  0.00</td>\n",
        "      <td>  0.00</td>\n",
        "      <td>  0.0</td>\n",
        "      <td>  0.00</td>\n",
        "      <td>...</td>\n",
        "      <td> 0</td>\n",
        "      <td>  0</td>\n",
        "      <td>    0.00</td>\n",
        "      <td>   0</td>\n",
        "      <td>    0.0</td>\n",
        "      <td>    0.000000</td>\n",
        "      <td>    0.0</td>\n",
        "      <td>    0.000000</td>\n",
        "      <td>    0.000000</td>\n",
        "      <td>    0.000000</td>\n",
        "    </tr>\n",
        "    <tr>\n",
        "      <th>YELLOW WATERMELON,NGS,Fruits</th>\n",
        "      <td>                                YELLOW WATERMELON</td>\n",
        "      <td>                   NGS</td>\n",
        "      <td>                   Fruits</td>\n",
        "      <td> 0</td>\n",
        "      <td> 0</td>\n",
        "      <td>  0.00</td>\n",
        "      <td>  0.00</td>\n",
        "      <td>  0.00</td>\n",
        "      <td>  0.0</td>\n",
        "      <td>  0.00</td>\n",
        "      <td>...</td>\n",
        "      <td> 0</td>\n",
        "      <td>  0</td>\n",
        "      <td>    0.00</td>\n",
        "      <td>   0</td>\n",
        "      <td>    0.0</td>\n",
        "      <td>   65.000000</td>\n",
        "      <td>   65.0</td>\n",
        "      <td>    0.000000</td>\n",
        "      <td>    0.000000</td>\n",
        "      <td>    0.000000</td>\n",
        "    </tr>\n",
        "    <tr>\n",
        "      <th>YING/YANG FACIAL ACNE SOAP,0,Cosmetics</th>\n",
        "      <td>                       YING/YANG FACIAL ACNE SOAP</td>\n",
        "      <td>                     0</td>\n",
        "      <td>                Cosmetics</td>\n",
        "      <td> 0</td>\n",
        "      <td> 0</td>\n",
        "      <td>  0.00</td>\n",
        "      <td>  0.00</td>\n",
        "      <td>  0.00</td>\n",
        "      <td>  0.0</td>\n",
        "      <td>  0.00</td>\n",
        "      <td>...</td>\n",
        "      <td> 0</td>\n",
        "      <td>  0</td>\n",
        "      <td>    0.00</td>\n",
        "      <td>   0</td>\n",
        "      <td>    0.0</td>\n",
        "      <td>    0.000000</td>\n",
        "      <td>    0.0</td>\n",
        "      <td>    0.000000</td>\n",
        "      <td>    0.000000</td>\n",
        "      <td>    0.000000</td>\n",
        "    </tr>\n",
        "    <tr>\n",
        "      <th>YOUSSFI (TANGERINE),NGS,Fruits</th>\n",
        "      <td>                              YOUSSFI (TANGERINE)</td>\n",
        "      <td>                   NGS</td>\n",
        "      <td>                   Fruits</td>\n",
        "      <td> 0</td>\n",
        "      <td> 0</td>\n",
        "      <td>  0.00</td>\n",
        "      <td>  0.00</td>\n",
        "      <td>  0.00</td>\n",
        "      <td>  0.0</td>\n",
        "      <td>  0.00</td>\n",
        "      <td>...</td>\n",
        "      <td> 0</td>\n",
        "      <td>  0</td>\n",
        "      <td>    0.00</td>\n",
        "      <td>   0</td>\n",
        "      <td>    0.0</td>\n",
        "      <td>    0.000000</td>\n",
        "      <td>    0.0</td>\n",
        "      <td>    0.000000</td>\n",
        "      <td>   25.000000</td>\n",
        "      <td>    0.000000</td>\n",
        "    </tr>\n",
        "    <tr>\n",
        "      <th>ZARDA EXTRA VIRGIN OLIVE OIL,NGS,Oil &amp; Vinegar  </th>\n",
        "      <td>                     ZARDA EXTRA VIRGIN OLIVE OIL</td>\n",
        "      <td>                   NGS</td>\n",
        "      <td>          Oil &amp; Vinegar  </td>\n",
        "      <td> 0</td>\n",
        "      <td> 0</td>\n",
        "      <td>  0.00</td>\n",
        "      <td>  0.00</td>\n",
        "      <td>  0.00</td>\n",
        "      <td>  0.0</td>\n",
        "      <td>  0.00</td>\n",
        "      <td>...</td>\n",
        "      <td> 0</td>\n",
        "      <td>  0</td>\n",
        "      <td>    0.00</td>\n",
        "      <td>   0</td>\n",
        "      <td>    0.0</td>\n",
        "      <td>    0.000000</td>\n",
        "      <td>    0.0</td>\n",
        "      <td>    0.000000</td>\n",
        "      <td>    0.000000</td>\n",
        "      <td>    0.000000</td>\n",
        "    </tr>\n",
        "    <tr>\n",
        "      <th>ZUCCHINI,Kheir Misr,Fresh vegetables</th>\n",
        "      <td>                                         ZUCCHINI</td>\n",
        "      <td>            Kheir Misr</td>\n",
        "      <td>         Fresh vegetables</td>\n",
        "      <td> 0</td>\n",
        "      <td> 0</td>\n",
        "      <td>  0.00</td>\n",
        "      <td>  0.00</td>\n",
        "      <td>  0.00</td>\n",
        "      <td>  0.0</td>\n",
        "      <td>  0.00</td>\n",
        "      <td>...</td>\n",
        "      <td> 0</td>\n",
        "      <td>  0</td>\n",
        "      <td>    0.00</td>\n",
        "      <td>   0</td>\n",
        "      <td>    0.0</td>\n",
        "      <td>    0.000000</td>\n",
        "      <td>    0.0</td>\n",
        "      <td>    0.000000</td>\n",
        "      <td>    0.000000</td>\n",
        "      <td>    0.000000</td>\n",
        "    </tr>\n",
        "    <tr>\n",
        "      <th>ZUCCHINI,NGS,Fresh vegetables</th>\n",
        "      <td>                                         ZUCCHINI</td>\n",
        "      <td>                   NGS</td>\n",
        "      <td>         Fresh vegetables</td>\n",
        "      <td> 0</td>\n",
        "      <td> 0</td>\n",
        "      <td>  0.00</td>\n",
        "      <td>  0.00</td>\n",
        "      <td>  0.00</td>\n",
        "      <td>  0.0</td>\n",
        "      <td>  0.00</td>\n",
        "      <td>...</td>\n",
        "      <td> 0</td>\n",
        "      <td>  0</td>\n",
        "      <td>    0.00</td>\n",
        "      <td>   0</td>\n",
        "      <td>    0.0</td>\n",
        "      <td>    0.000000</td>\n",
        "      <td>    0.0</td>\n",
        "      <td>    0.000000</td>\n",
        "      <td>    0.000000</td>\n",
        "      <td>    0.000000</td>\n",
        "    </tr>\n",
        "    <tr>\n",
        "      <th>ZUCCHINI,NGS,General</th>\n",
        "      <td>                                         ZUCCHINI</td>\n",
        "      <td>                   NGS</td>\n",
        "      <td>                  General</td>\n",
        "      <td> 0</td>\n",
        "      <td> 0</td>\n",
        "      <td>  0.00</td>\n",
        "      <td>  0.00</td>\n",
        "      <td>  0.00</td>\n",
        "      <td>  0.0</td>\n",
        "      <td>  0.00</td>\n",
        "      <td>...</td>\n",
        "      <td> 0</td>\n",
        "      <td>  0</td>\n",
        "      <td>    0.00</td>\n",
        "      <td>   0</td>\n",
        "      <td>    0.0</td>\n",
        "      <td>    0.000000</td>\n",
        "      <td>    0.0</td>\n",
        "      <td>    0.000000</td>\n",
        "      <td>   69.871046</td>\n",
        "      <td>    0.000000</td>\n",
        "    </tr>\n",
        "    <tr>\n",
        "      <th>ZUCCHINI ( CHEMICAL FREE ),0,Vegetables</th>\n",
        "      <td>                       ZUCCHINI ( CHEMICAL FREE )</td>\n",
        "      <td>                     0</td>\n",
        "      <td>               Vegetables</td>\n",
        "      <td> 0</td>\n",
        "      <td> 0</td>\n",
        "      <td>  0.00</td>\n",
        "      <td>  0.00</td>\n",
        "      <td>  0.00</td>\n",
        "      <td>  0.0</td>\n",
        "      <td>  0.00</td>\n",
        "      <td>...</td>\n",
        "      <td> 0</td>\n",
        "      <td> 55</td>\n",
        "      <td>    0.00</td>\n",
        "      <td>   0</td>\n",
        "      <td>    0.0</td>\n",
        "      <td>    0.000000</td>\n",
        "      <td>    0.0</td>\n",
        "      <td>    0.000000</td>\n",
        "      <td>    0.000000</td>\n",
        "      <td>    0.000000</td>\n",
        "    </tr>\n",
        "    <tr>\n",
        "      <th>ZUCCHINI ( CHEMICAL FREE ),NGS,Fresh vegetables</th>\n",
        "      <td>                       ZUCCHINI ( CHEMICAL FREE )</td>\n",
        "      <td>                   NGS</td>\n",
        "      <td>         Fresh vegetables</td>\n",
        "      <td> 0</td>\n",
        "      <td> 0</td>\n",
        "      <td>  0.00</td>\n",
        "      <td>  0.00</td>\n",
        "      <td>  0.00</td>\n",
        "      <td>  0.0</td>\n",
        "      <td>  0.00</td>\n",
        "      <td>...</td>\n",
        "      <td> 0</td>\n",
        "      <td>  0</td>\n",
        "      <td>    0.00</td>\n",
        "      <td>   0</td>\n",
        "      <td>    0.0</td>\n",
        "      <td>    0.000000</td>\n",
        "      <td>    0.0</td>\n",
        "      <td>    0.000000</td>\n",
        "      <td>    0.000000</td>\n",
        "      <td>    0.000000</td>\n",
        "    </tr>\n",
        "    <tr>\n",
        "      <th>ZUCCHINI (CHEMICAL FREE),0,Chemical free vegetables</th>\n",
        "      <td>                         ZUCCHINI (CHEMICAL FREE)</td>\n",
        "      <td>                     0</td>\n",
        "      <td> Chemical free vegetables</td>\n",
        "      <td> 0</td>\n",
        "      <td> 0</td>\n",
        "      <td>  0.00</td>\n",
        "      <td>  0.00</td>\n",
        "      <td>  0.00</td>\n",
        "      <td>  0.0</td>\n",
        "      <td>  0.00</td>\n",
        "      <td>...</td>\n",
        "      <td> 0</td>\n",
        "      <td>  0</td>\n",
        "      <td>    0.00</td>\n",
        "      <td>   0</td>\n",
        "      <td>    0.0</td>\n",
        "      <td>    0.000000</td>\n",
        "      <td>    0.0</td>\n",
        "      <td>    0.000000</td>\n",
        "      <td>    0.000000</td>\n",
        "      <td>    0.000000</td>\n",
        "    </tr>\n",
        "    <tr>\n",
        "      <th>ZUCCHINI (CHEMICAL FREE),0,Vegetables</th>\n",
        "      <td>                         ZUCCHINI (CHEMICAL FREE)</td>\n",
        "      <td>                     0</td>\n",
        "      <td>               Vegetables</td>\n",
        "      <td> 0</td>\n",
        "      <td> 0</td>\n",
        "      <td>  0.00</td>\n",
        "      <td>  0.00</td>\n",
        "      <td>  0.00</td>\n",
        "      <td>  0.0</td>\n",
        "      <td>  0.00</td>\n",
        "      <td>...</td>\n",
        "      <td> 0</td>\n",
        "      <td>  0</td>\n",
        "      <td>  766.60</td>\n",
        "      <td> 210</td>\n",
        "      <td>    7.5</td>\n",
        "      <td>  150.000000</td>\n",
        "      <td>  330.0</td>\n",
        "      <td>  318.076923</td>\n",
        "      <td>  695.681924</td>\n",
        "      <td>  212.509227</td>\n",
        "    </tr>\n",
        "    <tr>\n",
        "      <th>ZUCCHINI (ORGANIC),0,Vegetables</th>\n",
        "      <td>                               ZUCCHINI (ORGANIC)</td>\n",
        "      <td>                     0</td>\n",
        "      <td>               Vegetables</td>\n",
        "      <td> 0</td>\n",
        "      <td> 0</td>\n",
        "      <td>  0.00</td>\n",
        "      <td>  0.00</td>\n",
        "      <td>  0.00</td>\n",
        "      <td>  0.0</td>\n",
        "      <td>  0.00</td>\n",
        "      <td>...</td>\n",
        "      <td> 0</td>\n",
        "      <td>  0</td>\n",
        "      <td>    0.00</td>\n",
        "      <td> 244</td>\n",
        "      <td>  403.2</td>\n",
        "      <td>  342.794118</td>\n",
        "      <td>   56.0</td>\n",
        "      <td>  280.000000</td>\n",
        "      <td>    0.000000</td>\n",
        "      <td>  181.734738</td>\n",
        "    </tr>\n",
        "    <tr>\n",
        "      <th>ZUCCHINI / 500G,NGS,Fresh Produce</th>\n",
        "      <td>                                  ZUCCHINI / 500G</td>\n",
        "      <td>                   NGS</td>\n",
        "      <td>            Fresh Produce</td>\n",
        "      <td> 0</td>\n",
        "      <td> 0</td>\n",
        "      <td> 30.78</td>\n",
        "      <td> 27.36</td>\n",
        "      <td> 23.94</td>\n",
        "      <td> 34.2</td>\n",
        "      <td> 78.66</td>\n",
        "      <td>...</td>\n",
        "      <td> 0</td>\n",
        "      <td>  0</td>\n",
        "      <td>    0.00</td>\n",
        "      <td>   0</td>\n",
        "      <td>    0.0</td>\n",
        "      <td>    0.000000</td>\n",
        "      <td>    0.0</td>\n",
        "      <td>    0.000000</td>\n",
        "      <td>    0.000000</td>\n",
        "      <td>    0.000000</td>\n",
        "    </tr>\n",
        "    <tr>\n",
        "      <th>ZUCCHINI FLOWERS,NGS,Fresh vegetables</th>\n",
        "      <td>                                 ZUCCHINI FLOWERS</td>\n",
        "      <td>                   NGS</td>\n",
        "      <td>         Fresh vegetables</td>\n",
        "      <td> 0</td>\n",
        "      <td> 0</td>\n",
        "      <td>  0.00</td>\n",
        "      <td>  0.00</td>\n",
        "      <td>  0.00</td>\n",
        "      <td>  0.0</td>\n",
        "      <td>  0.00</td>\n",
        "      <td>...</td>\n",
        "      <td> 0</td>\n",
        "      <td>  0</td>\n",
        "      <td>    0.00</td>\n",
        "      <td>   0</td>\n",
        "      <td>    0.0</td>\n",
        "      <td>    0.000000</td>\n",
        "      <td>    0.0</td>\n",
        "      <td>    0.000000</td>\n",
        "      <td>    0.000000</td>\n",
        "      <td>    0.000000</td>\n",
        "    </tr>\n",
        "    <tr>\n",
        "      <th>ZUCCHINI FLOWERS (CHEMICAL FREE),0,Vegetables</th>\n",
        "      <td>                 ZUCCHINI FLOWERS (CHEMICAL FREE)</td>\n",
        "      <td>                     0</td>\n",
        "      <td>               Vegetables</td>\n",
        "      <td> 0</td>\n",
        "      <td> 0</td>\n",
        "      <td>  0.00</td>\n",
        "      <td>  0.00</td>\n",
        "      <td>  0.00</td>\n",
        "      <td>  0.0</td>\n",
        "      <td>  0.00</td>\n",
        "      <td>...</td>\n",
        "      <td> 0</td>\n",
        "      <td>  0</td>\n",
        "      <td>   19.00</td>\n",
        "      <td> 157</td>\n",
        "      <td>   44.0</td>\n",
        "      <td>    0.000000</td>\n",
        "      <td>    0.0</td>\n",
        "      <td>    0.000000</td>\n",
        "      <td>    0.000000</td>\n",
        "      <td>    0.000000</td>\n",
        "    </tr>\n",
        "    <tr>\n",
        "      <th>ZUCCHINI JAM WITH PISTACHIO &amp; MASTIC (NATURAL),0,Jam</th>\n",
        "      <td>   ZUCCHINI JAM WITH PISTACHIO &amp; MASTIC (NATURAL)</td>\n",
        "      <td>                     0</td>\n",
        "      <td>                      Jam</td>\n",
        "      <td> 0</td>\n",
        "      <td> 0</td>\n",
        "      <td>  0.00</td>\n",
        "      <td>  0.00</td>\n",
        "      <td>  0.00</td>\n",
        "      <td>  0.0</td>\n",
        "      <td>  0.00</td>\n",
        "      <td>...</td>\n",
        "      <td> 0</td>\n",
        "      <td>  0</td>\n",
        "      <td>    0.00</td>\n",
        "      <td>   0</td>\n",
        "      <td>    0.0</td>\n",
        "      <td>    0.000000</td>\n",
        "      <td>  200.0</td>\n",
        "      <td>    0.000000</td>\n",
        "      <td>    0.000000</td>\n",
        "      <td>    0.000000</td>\n",
        "    </tr>\n",
        "  </tbody>\n",
        "</table>\n",
        "<p>1867 rows \u00d7 47 columns</p>\n",
        "</div>"
       ],
       "metadata": {},
       "output_type": "pyout",
       "prompt_number": 7,
       "text": [
        "                                                                                                               Product  \\\n",
        "7 GRAIN MILK / 946ML,Pacific Natural Foods,Milk                                                   7 GRAIN MILK / 946ML   \n",
        "ACAI BERRY JUICE,0,Beverages                                                                          ACAI BERRY JUICE   \n",
        "ACAI BERRY JUICE,Berry company,Juices                                                                 ACAI BERRY JUICE   \n",
        "ACNE FACIAL SOAP,Healing Herbs,Cosmetics                                                              ACNE FACIAL SOAP   \n",
        "ACQUA PANA WATER 1000ML,NGS,Beverages                                                          ACQUA PANA WATER 1000ML   \n",
        "ACQUA PANA WATER 500ML,NGS,Beverages                                                            ACQUA PANA WATER 500ML   \n",
        "ACQUA PANA WATER 500ML GLASS,NGS,Beverages                                                ACQUA PANA WATER 500ML GLASS   \n",
        "ACTIBIF CHEESE (FOR BETTER DIGESTION),0,cheese                                   ACTIBIF CHEESE (FOR BETTER DIGESTION)   \n",
        "AGAR AGAR FLAKES (HAND HARVESTED) - WILD,0,Food supplements                   AGAR AGAR FLAKES (HAND HARVESTED) - WILD   \n",
        "AGAVE SYRUP ( ORGANIC ) / 473ML,Suzanne's Specialties,Sweeteners                       AGAVE SYRUP ( ORGANIC ) / 473ML   \n",
        "ALL PURPOSE BAKING FLOUR ( GLUTEN FREE ),NGS,Flour                            ALL PURPOSE BAKING FLOUR ( GLUTEN FREE )   \n",
        "ALL PURPOSE BAKING FLOUR ( GLUTEN FREE ) / 623G,Bob's Red Mill,Flour   ALL PURPOSE BAKING FLOUR ( GLUTEN FREE ) / 623G   \n",
        "ALL PURPOSE BAKING FLOUR (GLUTEN FREE),0,Baking products                        ALL PURPOSE BAKING FLOUR (GLUTEN FREE)   \n",
        "ALL PURPOSE BAKING FLOUR (GLUTEN FREE),0,General                                ALL PURPOSE BAKING FLOUR (GLUTEN FREE)   \n",
        "ALMOND BISCUITS (GLUTEN FREE - TRACES OF GLUTEN),0,Snacks             ALMOND BISCUITS (GLUTEN FREE - TRACES OF GLUTEN)   \n",
        "ALMOND BREAD (GLUTEN FREE),0,Bread                                                          ALMOND BREAD (GLUTEN FREE)   \n",
        "ALMOND BUTTER,0,Nut butter                                                                               ALMOND BUTTER   \n",
        "ALMOND BUTTER (HOME-MADE),Signature,spreads                                                  ALMOND BUTTER (HOME-MADE)   \n",
        "ALMOND BUTTER (NATURAL),0,Nut butter                                                           ALMOND BUTTER (NATURAL)   \n",
        "ALMOND MEAL FLOUR,0,Baking products                                                                  ALMOND MEAL FLOUR   \n",
        "ALMOND MILK ( ORGANIC ),Alpro,Non-dairy milk                                                   ALMOND MILK ( ORGANIC )   \n",
        "ALMOND MILK ( ORGANIC ) / 946ML,Pacific Natural Foods,Non-dairy milk                   ALMOND MILK ( ORGANIC ) / 946ML   \n",
        "ALMOND MILK ( ORGANIC ) 946ML,0,Non-dairy milk                                           ALMOND MILK ( ORGANIC ) 946ML   \n",
        "ALMOND MILK ( ORIGINAL ),NGS,Non-dairy milk                                                   ALMOND MILK ( ORIGINAL )   \n",
        "ALMOND MILK (ORGANIC) - SUGAR-FREE,0,Non-dairy milk                                 ALMOND MILK (ORGANIC) - SUGAR-FREE   \n",
        "ALMOND MILK (UNSWEETENED),0,Non-dairy milk                                                   ALMOND MILK (UNSWEETENED)   \n",
        "ALMOND MILK WITH DARK CHOCOLATE,Pure almond,Non-dairy milk                             ALMOND MILK WITH DARK CHOCOLATE   \n",
        "ALMOND MILK WITH VANILLA,Pure almond,Non-dairy milk                                           ALMOND MILK WITH VANILLA   \n",
        "ALMOND ORIGINAL (ORIGINAL),0,Non-dairy milk                                                 ALMOND ORIGINAL (ORIGINAL)   \n",
        "ALMOND'S AND OATS BODY SCRUB,0,Cosmetics                                                  ALMOND'S AND OATS BODY SCRUB   \n",
        "...                                                                                                                ...   \n",
        "XANTHAN GUM (GLUTEN FREE),0,Baking products                                                  XANTHAN GUM (GLUTEN FREE)   \n",
        "YAKI NORI SHEETS,NGS,Japanese cuisine                                                                 YAKI NORI SHEETS   \n",
        "YELLOW APPLES,NGS,Fruits                                                                                 YELLOW APPLES   \n",
        "YELLOW BROCCOLI,NGS,Fresh vegetables                                                                   YELLOW BROCCOLI   \n",
        "YELLOW CAPSICUM ( CHEMICAL FREE ),NGS,Chemical free vegetables                       YELLOW CAPSICUM ( CHEMICAL FREE )   \n",
        "YELLOW CARROT ( CHEMICAL FREE ),0,Vegetables                                           YELLOW CARROT ( CHEMICAL FREE )   \n",
        "YELLOW CARROT ( CHEMICAL FREE ),NGS,Fresh vegetables                                   YELLOW CARROT ( CHEMICAL FREE )   \n",
        "YELLOW CARROTS,NGS,Fresh vegetables                                                                     YELLOW CARROTS   \n",
        "YELLOW CHERRY TOMATOES,Kheir Misr,Fresh vegetables                                              YELLOW CHERRY TOMATOES   \n",
        "YELLOW GRAPEFRUIT,0,Fresh fruits                                                                     YELLOW GRAPEFRUIT   \n",
        "YELLOW GRAPEFRUIT,NGS,Fruits                                                                         YELLOW GRAPEFRUIT   \n",
        "YELLOW MUSTARD,Eden Foods, Inc.,Spices                                                                  YELLOW MUSTARD   \n",
        "YELLOW ONIONS ( CHEMICAL FREE ),NGS,Fresh vegetables                                   YELLOW ONIONS ( CHEMICAL FREE )   \n",
        "YELLOW SPLIT PEAS / 822G,Bob's Red Mill,Grains                                                YELLOW SPLIT PEAS / 822G   \n",
        "YELLOW WATERMELON,NGS,Fruits                                                                         YELLOW WATERMELON   \n",
        "YING/YANG FACIAL ACNE SOAP,0,Cosmetics                                                      YING/YANG FACIAL ACNE SOAP   \n",
        "YOUSSFI (TANGERINE),NGS,Fruits                                                                     YOUSSFI (TANGERINE)   \n",
        "ZARDA EXTRA VIRGIN OLIVE OIL,NGS,Oil & Vinegar                                            ZARDA EXTRA VIRGIN OLIVE OIL   \n",
        "ZUCCHINI,Kheir Misr,Fresh vegetables                                                                          ZUCCHINI   \n",
        "ZUCCHINI,NGS,Fresh vegetables                                                                                 ZUCCHINI   \n",
        "ZUCCHINI,NGS,General                                                                                          ZUCCHINI   \n",
        "ZUCCHINI ( CHEMICAL FREE ),0,Vegetables                                                     ZUCCHINI ( CHEMICAL FREE )   \n",
        "ZUCCHINI ( CHEMICAL FREE ),NGS,Fresh vegetables                                             ZUCCHINI ( CHEMICAL FREE )   \n",
        "ZUCCHINI (CHEMICAL FREE),0,Chemical free vegetables                                           ZUCCHINI (CHEMICAL FREE)   \n",
        "ZUCCHINI (CHEMICAL FREE),0,Vegetables                                                         ZUCCHINI (CHEMICAL FREE)   \n",
        "ZUCCHINI (ORGANIC),0,Vegetables                                                                     ZUCCHINI (ORGANIC)   \n",
        "ZUCCHINI / 500G,NGS,Fresh Produce                                                                      ZUCCHINI / 500G   \n",
        "ZUCCHINI FLOWERS,NGS,Fresh vegetables                                                                 ZUCCHINI FLOWERS   \n",
        "ZUCCHINI FLOWERS (CHEMICAL FREE),0,Vegetables                                         ZUCCHINI FLOWERS (CHEMICAL FREE)   \n",
        "ZUCCHINI JAM WITH PISTACHIO & MASTIC (NATURAL),0,Jam                    ZUCCHINI JAM WITH PISTACHIO & MASTIC (NATURAL)   \n",
        "\n",
        "                                                                                      Brand  \\\n",
        "7 GRAIN MILK / 946ML,Pacific Natural Foods,Milk                       Pacific Natural Foods   \n",
        "ACAI BERRY JUICE,0,Beverages                                                              0   \n",
        "ACAI BERRY JUICE,Berry company,Juices                                         Berry company   \n",
        "ACNE FACIAL SOAP,Healing Herbs,Cosmetics                                      Healing Herbs   \n",
        "ACQUA PANA WATER 1000ML,NGS,Beverages                                                   NGS   \n",
        "ACQUA PANA WATER 500ML,NGS,Beverages                                                    NGS   \n",
        "ACQUA PANA WATER 500ML GLASS,NGS,Beverages                                              NGS   \n",
        "ACTIBIF CHEESE (FOR BETTER DIGESTION),0,cheese                                            0   \n",
        "AGAR AGAR FLAKES (HAND HARVESTED) - WILD,0,Food supplements                               0   \n",
        "AGAVE SYRUP ( ORGANIC ) / 473ML,Suzanne's Specialties,Sweeteners      Suzanne's Specialties   \n",
        "ALL PURPOSE BAKING FLOUR ( GLUTEN FREE ),NGS,Flour                                      NGS   \n",
        "ALL PURPOSE BAKING FLOUR ( GLUTEN FREE ) / 623G,Bob's Red Mill,Flour         Bob's Red Mill   \n",
        "ALL PURPOSE BAKING FLOUR (GLUTEN FREE),0,Baking products                                  0   \n",
        "ALL PURPOSE BAKING FLOUR (GLUTEN FREE),0,General                                          0   \n",
        "ALMOND BISCUITS (GLUTEN FREE - TRACES OF GLUTEN),0,Snacks                                 0   \n",
        "ALMOND BREAD (GLUTEN FREE),0,Bread                                                        0   \n",
        "ALMOND BUTTER,0,Nut butter                                                                0   \n",
        "ALMOND BUTTER (HOME-MADE),Signature,spreads                                       Signature   \n",
        "ALMOND BUTTER (NATURAL),0,Nut butter                                                      0   \n",
        "ALMOND MEAL FLOUR,0,Baking products                                                       0   \n",
        "ALMOND MILK ( ORGANIC ),Alpro,Non-dairy milk                                          Alpro   \n",
        "ALMOND MILK ( ORGANIC ) / 946ML,Pacific Natural Foods,Non-dairy milk  Pacific Natural Foods   \n",
        "ALMOND MILK ( ORGANIC ) 946ML,0,Non-dairy milk                                            0   \n",
        "ALMOND MILK ( ORIGINAL ),NGS,Non-dairy milk                                             NGS   \n",
        "ALMOND MILK (ORGANIC) - SUGAR-FREE,0,Non-dairy milk                                       0   \n",
        "ALMOND MILK (UNSWEETENED),0,Non-dairy milk                                                0   \n",
        "ALMOND MILK WITH DARK CHOCOLATE,Pure almond,Non-dairy milk                      Pure almond   \n",
        "ALMOND MILK WITH VANILLA,Pure almond,Non-dairy milk                             Pure almond   \n",
        "ALMOND ORIGINAL (ORIGINAL),0,Non-dairy milk                                               0   \n",
        "ALMOND'S AND OATS BODY SCRUB,0,Cosmetics                                                  0   \n",
        "...                                                                                     ...   \n",
        "XANTHAN GUM (GLUTEN FREE),0,Baking products                                               0   \n",
        "YAKI NORI SHEETS,NGS,Japanese cuisine                                                   NGS   \n",
        "YELLOW APPLES,NGS,Fruits                                                                NGS   \n",
        "YELLOW BROCCOLI,NGS,Fresh vegetables                                                    NGS   \n",
        "YELLOW CAPSICUM ( CHEMICAL FREE ),NGS,Chemical free vegetables                          NGS   \n",
        "YELLOW CARROT ( CHEMICAL FREE ),0,Vegetables                                              0   \n",
        "YELLOW CARROT ( CHEMICAL FREE ),NGS,Fresh vegetables                                    NGS   \n",
        "YELLOW CARROTS,NGS,Fresh vegetables                                                     NGS   \n",
        "YELLOW CHERRY TOMATOES,Kheir Misr,Fresh vegetables                               Kheir Misr   \n",
        "YELLOW GRAPEFRUIT,0,Fresh fruits                                                          0   \n",
        "YELLOW GRAPEFRUIT,NGS,Fruits                                                            NGS   \n",
        "YELLOW MUSTARD,Eden Foods, Inc.,Spices                                     Eden Foods, Inc.   \n",
        "YELLOW ONIONS ( CHEMICAL FREE ),NGS,Fresh vegetables                                    NGS   \n",
        "YELLOW SPLIT PEAS / 822G,Bob's Red Mill,Grains                               Bob's Red Mill   \n",
        "YELLOW WATERMELON,NGS,Fruits                                                            NGS   \n",
        "YING/YANG FACIAL ACNE SOAP,0,Cosmetics                                                    0   \n",
        "YOUSSFI (TANGERINE),NGS,Fruits                                                          NGS   \n",
        "ZARDA EXTRA VIRGIN OLIVE OIL,NGS,Oil & Vinegar                                          NGS   \n",
        "ZUCCHINI,Kheir Misr,Fresh vegetables                                             Kheir Misr   \n",
        "ZUCCHINI,NGS,Fresh vegetables                                                           NGS   \n",
        "ZUCCHINI,NGS,General                                                                    NGS   \n",
        "ZUCCHINI ( CHEMICAL FREE ),0,Vegetables                                                   0   \n",
        "ZUCCHINI ( CHEMICAL FREE ),NGS,Fresh vegetables                                         NGS   \n",
        "ZUCCHINI (CHEMICAL FREE),0,Chemical free vegetables                                       0   \n",
        "ZUCCHINI (CHEMICAL FREE),0,Vegetables                                                     0   \n",
        "ZUCCHINI (ORGANIC),0,Vegetables                                                           0   \n",
        "ZUCCHINI / 500G,NGS,Fresh Produce                                                       NGS   \n",
        "ZUCCHINI FLOWERS,NGS,Fresh vegetables                                                   NGS   \n",
        "ZUCCHINI FLOWERS (CHEMICAL FREE),0,Vegetables                                             0   \n",
        "ZUCCHINI JAM WITH PISTACHIO & MASTIC (NATURAL),0,Jam                                      0   \n",
        "\n",
        "                                                                                          Type  \\\n",
        "7 GRAIN MILK / 946ML,Pacific Natural Foods,Milk                                           Milk   \n",
        "ACAI BERRY JUICE,0,Beverages                                                         Beverages   \n",
        "ACAI BERRY JUICE,Berry company,Juices                                                   Juices   \n",
        "ACNE FACIAL SOAP,Healing Herbs,Cosmetics                                             Cosmetics   \n",
        "ACQUA PANA WATER 1000ML,NGS,Beverages                                                Beverages   \n",
        "ACQUA PANA WATER 500ML,NGS,Beverages                                                 Beverages   \n",
        "ACQUA PANA WATER 500ML GLASS,NGS,Beverages                                           Beverages   \n",
        "ACTIBIF CHEESE (FOR BETTER DIGESTION),0,cheese                                          cheese   \n",
        "AGAR AGAR FLAKES (HAND HARVESTED) - WILD,0,Food supplements                   Food supplements   \n",
        "AGAVE SYRUP ( ORGANIC ) / 473ML,Suzanne's Specialties,Sweeteners                    Sweeteners   \n",
        "ALL PURPOSE BAKING FLOUR ( GLUTEN FREE ),NGS,Flour                                       Flour   \n",
        "ALL PURPOSE BAKING FLOUR ( GLUTEN FREE ) / 623G,Bob's Red Mill,Flour                     Flour   \n",
        "ALL PURPOSE BAKING FLOUR (GLUTEN FREE),0,Baking products                       Baking products   \n",
        "ALL PURPOSE BAKING FLOUR (GLUTEN FREE),0,General                                       General   \n",
        "ALMOND BISCUITS (GLUTEN FREE - TRACES OF GLUTEN),0,Snacks                               Snacks   \n",
        "ALMOND BREAD (GLUTEN FREE),0,Bread                                                       Bread   \n",
        "ALMOND BUTTER,0,Nut butter                                                          Nut butter   \n",
        "ALMOND BUTTER (HOME-MADE),Signature,spreads                                            spreads   \n",
        "ALMOND BUTTER (NATURAL),0,Nut butter                                                Nut butter   \n",
        "ALMOND MEAL FLOUR,0,Baking products                                            Baking products   \n",
        "ALMOND MILK ( ORGANIC ),Alpro,Non-dairy milk                                    Non-dairy milk   \n",
        "ALMOND MILK ( ORGANIC ) / 946ML,Pacific Natural Foods,Non-dairy milk            Non-dairy milk   \n",
        "ALMOND MILK ( ORGANIC ) 946ML,0,Non-dairy milk                                  Non-dairy milk   \n",
        "ALMOND MILK ( ORIGINAL ),NGS,Non-dairy milk                                     Non-dairy milk   \n",
        "ALMOND MILK (ORGANIC) - SUGAR-FREE,0,Non-dairy milk                             Non-dairy milk   \n",
        "ALMOND MILK (UNSWEETENED),0,Non-dairy milk                                      Non-dairy milk   \n",
        "ALMOND MILK WITH DARK CHOCOLATE,Pure almond,Non-dairy milk                      Non-dairy milk   \n",
        "ALMOND MILK WITH VANILLA,Pure almond,Non-dairy milk                             Non-dairy milk   \n",
        "ALMOND ORIGINAL (ORIGINAL),0,Non-dairy milk                                     Non-dairy milk   \n",
        "ALMOND'S AND OATS BODY SCRUB,0,Cosmetics                                             Cosmetics   \n",
        "...                                                                                        ...   \n",
        "XANTHAN GUM (GLUTEN FREE),0,Baking products                                    Baking products   \n",
        "YAKI NORI SHEETS,NGS,Japanese cuisine                                         Japanese cuisine   \n",
        "YELLOW APPLES,NGS,Fruits                                                                Fruits   \n",
        "YELLOW BROCCOLI,NGS,Fresh vegetables                                          Fresh vegetables   \n",
        "YELLOW CAPSICUM ( CHEMICAL FREE ),NGS,Chemical free vegetables        Chemical free vegetables   \n",
        "YELLOW CARROT ( CHEMICAL FREE ),0,Vegetables                                        Vegetables   \n",
        "YELLOW CARROT ( CHEMICAL FREE ),NGS,Fresh vegetables                          Fresh vegetables   \n",
        "YELLOW CARROTS,NGS,Fresh vegetables                                           Fresh vegetables   \n",
        "YELLOW CHERRY TOMATOES,Kheir Misr,Fresh vegetables                            Fresh vegetables   \n",
        "YELLOW GRAPEFRUIT,0,Fresh fruits                                                  Fresh fruits   \n",
        "YELLOW GRAPEFRUIT,NGS,Fruits                                                            Fruits   \n",
        "YELLOW MUSTARD,Eden Foods, Inc.,Spices                                                  Spices   \n",
        "YELLOW ONIONS ( CHEMICAL FREE ),NGS,Fresh vegetables                          Fresh vegetables   \n",
        "YELLOW SPLIT PEAS / 822G,Bob's Red Mill,Grains                                          Grains   \n",
        "YELLOW WATERMELON,NGS,Fruits                                                            Fruits   \n",
        "YING/YANG FACIAL ACNE SOAP,0,Cosmetics                                               Cosmetics   \n",
        "YOUSSFI (TANGERINE),NGS,Fruits                                                          Fruits   \n",
        "ZARDA EXTRA VIRGIN OLIVE OIL,NGS,Oil & Vinegar                                 Oil & Vinegar     \n",
        "ZUCCHINI,Kheir Misr,Fresh vegetables                                          Fresh vegetables   \n",
        "ZUCCHINI,NGS,Fresh vegetables                                                 Fresh vegetables   \n",
        "ZUCCHINI,NGS,General                                                                   General   \n",
        "ZUCCHINI ( CHEMICAL FREE ),0,Vegetables                                             Vegetables   \n",
        "ZUCCHINI ( CHEMICAL FREE ),NGS,Fresh vegetables                               Fresh vegetables   \n",
        "ZUCCHINI (CHEMICAL FREE),0,Chemical free vegetables                   Chemical free vegetables   \n",
        "ZUCCHINI (CHEMICAL FREE),0,Vegetables                                               Vegetables   \n",
        "ZUCCHINI (ORGANIC),0,Vegetables                                                     Vegetables   \n",
        "ZUCCHINI / 500G,NGS,Fresh Produce                                                Fresh Produce   \n",
        "ZUCCHINI FLOWERS,NGS,Fresh vegetables                                         Fresh vegetables   \n",
        "ZUCCHINI FLOWERS (CHEMICAL FREE),0,Vegetables                                       Vegetables   \n",
        "ZUCCHINI JAM WITH PISTACHIO & MASTIC (NATURAL),0,Jam                                       Jam   \n",
        "\n",
        "                                                                      May 2012  \\\n",
        "7 GRAIN MILK / 946ML,Pacific Natural Foods,Milk                              0   \n",
        "ACAI BERRY JUICE,0,Beverages                                                 0   \n",
        "ACAI BERRY JUICE,Berry company,Juices                                        0   \n",
        "ACNE FACIAL SOAP,Healing Herbs,Cosmetics                                     0   \n",
        "ACQUA PANA WATER 1000ML,NGS,Beverages                                        0   \n",
        "ACQUA PANA WATER 500ML,NGS,Beverages                                         0   \n",
        "ACQUA PANA WATER 500ML GLASS,NGS,Beverages                                   0   \n",
        "ACTIBIF CHEESE (FOR BETTER DIGESTION),0,cheese                               0   \n",
        "AGAR AGAR FLAKES (HAND HARVESTED) - WILD,0,Food supplements                  0   \n",
        "AGAVE SYRUP ( ORGANIC ) / 473ML,Suzanne's Specialties,Sweeteners             0   \n",
        "ALL PURPOSE BAKING FLOUR ( GLUTEN FREE ),NGS,Flour                           0   \n",
        "ALL PURPOSE BAKING FLOUR ( GLUTEN FREE ) / 623G,Bob's Red Mill,Flour         0   \n",
        "ALL PURPOSE BAKING FLOUR (GLUTEN FREE),0,Baking products                     0   \n",
        "ALL PURPOSE BAKING FLOUR (GLUTEN FREE),0,General                             0   \n",
        "ALMOND BISCUITS (GLUTEN FREE - TRACES OF GLUTEN),0,Snacks                    0   \n",
        "ALMOND BREAD (GLUTEN FREE),0,Bread                                           0   \n",
        "ALMOND BUTTER,0,Nut butter                                                   0   \n",
        "ALMOND BUTTER (HOME-MADE),Signature,spreads                                  0   \n",
        "ALMOND BUTTER (NATURAL),0,Nut butter                                         0   \n",
        "ALMOND MEAL FLOUR,0,Baking products                                          0   \n",
        "ALMOND MILK ( ORGANIC ),Alpro,Non-dairy milk                                 0   \n",
        "ALMOND MILK ( ORGANIC ) / 946ML,Pacific Natural Foods,Non-dairy milk         0   \n",
        "ALMOND MILK ( ORGANIC ) 946ML,0,Non-dairy milk                               0   \n",
        "ALMOND MILK ( ORIGINAL ),NGS,Non-dairy milk                                  0   \n",
        "ALMOND MILK (ORGANIC) - SUGAR-FREE,0,Non-dairy milk                          0   \n",
        "ALMOND MILK (UNSWEETENED),0,Non-dairy milk                                   0   \n",
        "ALMOND MILK WITH DARK CHOCOLATE,Pure almond,Non-dairy milk                   0   \n",
        "ALMOND MILK WITH VANILLA,Pure almond,Non-dairy milk                          0   \n",
        "ALMOND ORIGINAL (ORIGINAL),0,Non-dairy milk                                  0   \n",
        "ALMOND'S AND OATS BODY SCRUB,0,Cosmetics                                     0   \n",
        "...                                                                        ...   \n",
        "XANTHAN GUM (GLUTEN FREE),0,Baking products                                  0   \n",
        "YAKI NORI SHEETS,NGS,Japanese cuisine                                        0   \n",
        "YELLOW APPLES,NGS,Fruits                                                     0   \n",
        "YELLOW BROCCOLI,NGS,Fresh vegetables                                         0   \n",
        "YELLOW CAPSICUM ( CHEMICAL FREE ),NGS,Chemical free vegetables               0   \n",
        "YELLOW CARROT ( CHEMICAL FREE ),0,Vegetables                                 0   \n",
        "YELLOW CARROT ( CHEMICAL FREE ),NGS,Fresh vegetables                         0   \n",
        "YELLOW CARROTS,NGS,Fresh vegetables                                          0   \n",
        "YELLOW CHERRY TOMATOES,Kheir Misr,Fresh vegetables                           0   \n",
        "YELLOW GRAPEFRUIT,0,Fresh fruits                                             0   \n",
        "YELLOW GRAPEFRUIT,NGS,Fruits                                                 0   \n",
        "YELLOW MUSTARD,Eden Foods, Inc.,Spices                                       0   \n",
        "YELLOW ONIONS ( CHEMICAL FREE ),NGS,Fresh vegetables                         0   \n",
        "YELLOW SPLIT PEAS / 822G,Bob's Red Mill,Grains                               0   \n",
        "YELLOW WATERMELON,NGS,Fruits                                                 0   \n",
        "YING/YANG FACIAL ACNE SOAP,0,Cosmetics                                       0   \n",
        "YOUSSFI (TANGERINE),NGS,Fruits                                               0   \n",
        "ZARDA EXTRA VIRGIN OLIVE OIL,NGS,Oil & Vinegar                               0   \n",
        "ZUCCHINI,Kheir Misr,Fresh vegetables                                         0   \n",
        "ZUCCHINI,NGS,Fresh vegetables                                                0   \n",
        "ZUCCHINI,NGS,General                                                         0   \n",
        "ZUCCHINI ( CHEMICAL FREE ),0,Vegetables                                      0   \n",
        "ZUCCHINI ( CHEMICAL FREE ),NGS,Fresh vegetables                              0   \n",
        "ZUCCHINI (CHEMICAL FREE),0,Chemical free vegetables                          0   \n",
        "ZUCCHINI (CHEMICAL FREE),0,Vegetables                                        0   \n",
        "ZUCCHINI (ORGANIC),0,Vegetables                                              0   \n",
        "ZUCCHINI / 500G,NGS,Fresh Produce                                            0   \n",
        "ZUCCHINI FLOWERS,NGS,Fresh vegetables                                        0   \n",
        "ZUCCHINI FLOWERS (CHEMICAL FREE),0,Vegetables                                0   \n",
        "ZUCCHINI JAM WITH PISTACHIO & MASTIC (NATURAL),0,Jam                         0   \n",
        "\n",
        "                                                                      Jun 2012  \\\n",
        "7 GRAIN MILK / 946ML,Pacific Natural Foods,Milk                              0   \n",
        "ACAI BERRY JUICE,0,Beverages                                                 0   \n",
        "ACAI BERRY JUICE,Berry company,Juices                                        0   \n",
        "ACNE FACIAL SOAP,Healing Herbs,Cosmetics                                     0   \n",
        "ACQUA PANA WATER 1000ML,NGS,Beverages                                        0   \n",
        "ACQUA PANA WATER 500ML,NGS,Beverages                                         0   \n",
        "ACQUA PANA WATER 500ML GLASS,NGS,Beverages                                   0   \n",
        "ACTIBIF CHEESE (FOR BETTER DIGESTION),0,cheese                               0   \n",
        "AGAR AGAR FLAKES (HAND HARVESTED) - WILD,0,Food supplements                  0   \n",
        "AGAVE SYRUP ( ORGANIC ) / 473ML,Suzanne's Specialties,Sweeteners             0   \n",
        "ALL PURPOSE BAKING FLOUR ( GLUTEN FREE ),NGS,Flour                           0   \n",
        "ALL PURPOSE BAKING FLOUR ( GLUTEN FREE ) / 623G,Bob's Red Mill,Flour         0   \n",
        "ALL PURPOSE BAKING FLOUR (GLUTEN FREE),0,Baking products                     0   \n",
        "ALL PURPOSE BAKING FLOUR (GLUTEN FREE),0,General                             0   \n",
        "ALMOND BISCUITS (GLUTEN FREE - TRACES OF GLUTEN),0,Snacks                    0   \n",
        "ALMOND BREAD (GLUTEN FREE),0,Bread                                           0   \n",
        "ALMOND BUTTER,0,Nut butter                                                   0   \n",
        "ALMOND BUTTER (HOME-MADE),Signature,spreads                                  0   \n",
        "ALMOND BUTTER (NATURAL),0,Nut butter                                         0   \n",
        "ALMOND MEAL FLOUR,0,Baking products                                          0   \n",
        "ALMOND MILK ( ORGANIC ),Alpro,Non-dairy milk                                 0   \n",
        "ALMOND MILK ( ORGANIC ) / 946ML,Pacific Natural Foods,Non-dairy milk         0   \n",
        "ALMOND MILK ( ORGANIC ) 946ML,0,Non-dairy milk                               0   \n",
        "ALMOND MILK ( ORIGINAL ),NGS,Non-dairy milk                                  0   \n",
        "ALMOND MILK (ORGANIC) - SUGAR-FREE,0,Non-dairy milk                          0   \n",
        "ALMOND MILK (UNSWEETENED),0,Non-dairy milk                                   0   \n",
        "ALMOND MILK WITH DARK CHOCOLATE,Pure almond,Non-dairy milk                   0   \n",
        "ALMOND MILK WITH VANILLA,Pure almond,Non-dairy milk                          0   \n",
        "ALMOND ORIGINAL (ORIGINAL),0,Non-dairy milk                                  0   \n",
        "ALMOND'S AND OATS BODY SCRUB,0,Cosmetics                                     0   \n",
        "...                                                                        ...   \n",
        "XANTHAN GUM (GLUTEN FREE),0,Baking products                                  0   \n",
        "YAKI NORI SHEETS,NGS,Japanese cuisine                                        0   \n",
        "YELLOW APPLES,NGS,Fruits                                                     0   \n",
        "YELLOW BROCCOLI,NGS,Fresh vegetables                                         0   \n",
        "YELLOW CAPSICUM ( CHEMICAL FREE ),NGS,Chemical free vegetables               0   \n",
        "YELLOW CARROT ( CHEMICAL FREE ),0,Vegetables                                 0   \n",
        "YELLOW CARROT ( CHEMICAL FREE ),NGS,Fresh vegetables                         0   \n",
        "YELLOW CARROTS,NGS,Fresh vegetables                                          0   \n",
        "YELLOW CHERRY TOMATOES,Kheir Misr,Fresh vegetables                           0   \n",
        "YELLOW GRAPEFRUIT,0,Fresh fruits                                             0   \n",
        "YELLOW GRAPEFRUIT,NGS,Fruits                                                 0   \n",
        "YELLOW MUSTARD,Eden Foods, Inc.,Spices                                       0   \n",
        "YELLOW ONIONS ( CHEMICAL FREE ),NGS,Fresh vegetables                         0   \n",
        "YELLOW SPLIT PEAS / 822G,Bob's Red Mill,Grains                               0   \n",
        "YELLOW WATERMELON,NGS,Fruits                                                 0   \n",
        "YING/YANG FACIAL ACNE SOAP,0,Cosmetics                                       0   \n",
        "YOUSSFI (TANGERINE),NGS,Fruits                                               0   \n",
        "ZARDA EXTRA VIRGIN OLIVE OIL,NGS,Oil & Vinegar                               0   \n",
        "ZUCCHINI,Kheir Misr,Fresh vegetables                                         0   \n",
        "ZUCCHINI,NGS,Fresh vegetables                                                0   \n",
        "ZUCCHINI,NGS,General                                                         0   \n",
        "ZUCCHINI ( CHEMICAL FREE ),0,Vegetables                                      0   \n",
        "ZUCCHINI ( CHEMICAL FREE ),NGS,Fresh vegetables                              0   \n",
        "ZUCCHINI (CHEMICAL FREE),0,Chemical free vegetables                          0   \n",
        "ZUCCHINI (CHEMICAL FREE),0,Vegetables                                        0   \n",
        "ZUCCHINI (ORGANIC),0,Vegetables                                              0   \n",
        "ZUCCHINI / 500G,NGS,Fresh Produce                                            0   \n",
        "ZUCCHINI FLOWERS,NGS,Fresh vegetables                                        0   \n",
        "ZUCCHINI FLOWERS (CHEMICAL FREE),0,Vegetables                                0   \n",
        "ZUCCHINI JAM WITH PISTACHIO & MASTIC (NATURAL),0,Jam                         0   \n",
        "\n",
        "                                                                      Jul 2012  \\\n",
        "7 GRAIN MILK / 946ML,Pacific Natural Foods,Milk                           0.00   \n",
        "ACAI BERRY JUICE,0,Beverages                                              0.00   \n",
        "ACAI BERRY JUICE,Berry company,Juices                                     0.00   \n",
        "ACNE FACIAL SOAP,Healing Herbs,Cosmetics                                  0.00   \n",
        "ACQUA PANA WATER 1000ML,NGS,Beverages                                     0.00   \n",
        "ACQUA PANA WATER 500ML,NGS,Beverages                                      0.00   \n",
        "ACQUA PANA WATER 500ML GLASS,NGS,Beverages                                0.00   \n",
        "ACTIBIF CHEESE (FOR BETTER DIGESTION),0,cheese                            0.00   \n",
        "AGAR AGAR FLAKES (HAND HARVESTED) - WILD,0,Food supplements               0.00   \n",
        "AGAVE SYRUP ( ORGANIC ) / 473ML,Suzanne's Specialties,Sweeteners          0.00   \n",
        "ALL PURPOSE BAKING FLOUR ( GLUTEN FREE ),NGS,Flour                        0.00   \n",
        "ALL PURPOSE BAKING FLOUR ( GLUTEN FREE ) / 623G,Bob's Red Mill,Flour      0.00   \n",
        "ALL PURPOSE BAKING FLOUR (GLUTEN FREE),0,Baking products                  0.00   \n",
        "ALL PURPOSE BAKING FLOUR (GLUTEN FREE),0,General                          0.00   \n",
        "ALMOND BISCUITS (GLUTEN FREE - TRACES OF GLUTEN),0,Snacks                 0.00   \n",
        "ALMOND BREAD (GLUTEN FREE),0,Bread                                        0.00   \n",
        "ALMOND BUTTER,0,Nut butter                                                0.00   \n",
        "ALMOND BUTTER (HOME-MADE),Signature,spreads                               0.00   \n",
        "ALMOND BUTTER (NATURAL),0,Nut butter                                      0.00   \n",
        "ALMOND MEAL FLOUR,0,Baking products                                       0.00   \n",
        "ALMOND MILK ( ORGANIC ),Alpro,Non-dairy milk                              0.00   \n",
        "ALMOND MILK ( ORGANIC ) / 946ML,Pacific Natural Foods,Non-dairy milk      0.00   \n",
        "ALMOND MILK ( ORGANIC ) 946ML,0,Non-dairy milk                            0.00   \n",
        "ALMOND MILK ( ORIGINAL ),NGS,Non-dairy milk                               0.00   \n",
        "ALMOND MILK (ORGANIC) - SUGAR-FREE,0,Non-dairy milk                       0.00   \n",
        "ALMOND MILK (UNSWEETENED),0,Non-dairy milk                                0.00   \n",
        "ALMOND MILK WITH DARK CHOCOLATE,Pure almond,Non-dairy milk                0.00   \n",
        "ALMOND MILK WITH VANILLA,Pure almond,Non-dairy milk                       0.00   \n",
        "ALMOND ORIGINAL (ORIGINAL),0,Non-dairy milk                               0.00   \n",
        "ALMOND'S AND OATS BODY SCRUB,0,Cosmetics                                  0.00   \n",
        "...                                                                        ...   \n",
        "XANTHAN GUM (GLUTEN FREE),0,Baking products                               0.00   \n",
        "YAKI NORI SHEETS,NGS,Japanese cuisine                                     0.00   \n",
        "YELLOW APPLES,NGS,Fruits                                                  0.00   \n",
        "YELLOW BROCCOLI,NGS,Fresh vegetables                                      0.00   \n",
        "YELLOW CAPSICUM ( CHEMICAL FREE ),NGS,Chemical free vegetables            0.00   \n",
        "YELLOW CARROT ( CHEMICAL FREE ),0,Vegetables                              0.00   \n",
        "YELLOW CARROT ( CHEMICAL FREE ),NGS,Fresh vegetables                      0.00   \n",
        "YELLOW CARROTS,NGS,Fresh vegetables                                       0.00   \n",
        "YELLOW CHERRY TOMATOES,Kheir Misr,Fresh vegetables                        0.00   \n",
        "YELLOW GRAPEFRUIT,0,Fresh fruits                                          0.00   \n",
        "YELLOW GRAPEFRUIT,NGS,Fruits                                              0.00   \n",
        "YELLOW MUSTARD,Eden Foods, Inc.,Spices                                    0.00   \n",
        "YELLOW ONIONS ( CHEMICAL FREE ),NGS,Fresh vegetables                      0.00   \n",
        "YELLOW SPLIT PEAS / 822G,Bob's Red Mill,Grains                            0.00   \n",
        "YELLOW WATERMELON,NGS,Fruits                                              0.00   \n",
        "YING/YANG FACIAL ACNE SOAP,0,Cosmetics                                    0.00   \n",
        "YOUSSFI (TANGERINE),NGS,Fruits                                            0.00   \n",
        "ZARDA EXTRA VIRGIN OLIVE OIL,NGS,Oil & Vinegar                            0.00   \n",
        "ZUCCHINI,Kheir Misr,Fresh vegetables                                      0.00   \n",
        "ZUCCHINI,NGS,Fresh vegetables                                             0.00   \n",
        "ZUCCHINI,NGS,General                                                      0.00   \n",
        "ZUCCHINI ( CHEMICAL FREE ),0,Vegetables                                   0.00   \n",
        "ZUCCHINI ( CHEMICAL FREE ),NGS,Fresh vegetables                           0.00   \n",
        "ZUCCHINI (CHEMICAL FREE),0,Chemical free vegetables                       0.00   \n",
        "ZUCCHINI (CHEMICAL FREE),0,Vegetables                                     0.00   \n",
        "ZUCCHINI (ORGANIC),0,Vegetables                                           0.00   \n",
        "ZUCCHINI / 500G,NGS,Fresh Produce                                        30.78   \n",
        "ZUCCHINI FLOWERS,NGS,Fresh vegetables                                     0.00   \n",
        "ZUCCHINI FLOWERS (CHEMICAL FREE),0,Vegetables                             0.00   \n",
        "ZUCCHINI JAM WITH PISTACHIO & MASTIC (NATURAL),0,Jam                      0.00   \n",
        "\n",
        "                                                                      Aug 2012  \\\n",
        "7 GRAIN MILK / 946ML,Pacific Natural Foods,Milk                           0.00   \n",
        "ACAI BERRY JUICE,0,Beverages                                              0.00   \n",
        "ACAI BERRY JUICE,Berry company,Juices                                     0.00   \n",
        "ACNE FACIAL SOAP,Healing Herbs,Cosmetics                                  0.00   \n",
        "ACQUA PANA WATER 1000ML,NGS,Beverages                                     0.00   \n",
        "ACQUA PANA WATER 500ML,NGS,Beverages                                      0.00   \n",
        "ACQUA PANA WATER 500ML GLASS,NGS,Beverages                                0.00   \n",
        "ACTIBIF CHEESE (FOR BETTER DIGESTION),0,cheese                            0.00   \n",
        "AGAR AGAR FLAKES (HAND HARVESTED) - WILD,0,Food supplements               0.00   \n",
        "AGAVE SYRUP ( ORGANIC ) / 473ML,Suzanne's Specialties,Sweeteners          0.00   \n",
        "ALL PURPOSE BAKING FLOUR ( GLUTEN FREE ),NGS,Flour                        0.00   \n",
        "ALL PURPOSE BAKING FLOUR ( GLUTEN FREE ) / 623G,Bob's Red Mill,Flour      0.00   \n",
        "ALL PURPOSE BAKING FLOUR (GLUTEN FREE),0,Baking products                  0.00   \n",
        "ALL PURPOSE BAKING FLOUR (GLUTEN FREE),0,General                          0.00   \n",
        "ALMOND BISCUITS (GLUTEN FREE - TRACES OF GLUTEN),0,Snacks                 0.00   \n",
        "ALMOND BREAD (GLUTEN FREE),0,Bread                                        0.00   \n",
        "ALMOND BUTTER,0,Nut butter                                                0.00   \n",
        "ALMOND BUTTER (HOME-MADE),Signature,spreads                               0.00   \n",
        "ALMOND BUTTER (NATURAL),0,Nut butter                                      0.00   \n",
        "ALMOND MEAL FLOUR,0,Baking products                                       0.00   \n",
        "ALMOND MILK ( ORGANIC ),Alpro,Non-dairy milk                              0.00   \n",
        "ALMOND MILK ( ORGANIC ) / 946ML,Pacific Natural Foods,Non-dairy milk      0.00   \n",
        "ALMOND MILK ( ORGANIC ) 946ML,0,Non-dairy milk                            0.00   \n",
        "ALMOND MILK ( ORIGINAL ),NGS,Non-dairy milk                               0.00   \n",
        "ALMOND MILK (ORGANIC) - SUGAR-FREE,0,Non-dairy milk                       0.00   \n",
        "ALMOND MILK (UNSWEETENED),0,Non-dairy milk                                0.00   \n",
        "ALMOND MILK WITH DARK CHOCOLATE,Pure almond,Non-dairy milk                0.00   \n",
        "ALMOND MILK WITH VANILLA,Pure almond,Non-dairy milk                       0.00   \n",
        "ALMOND ORIGINAL (ORIGINAL),0,Non-dairy milk                               0.00   \n",
        "ALMOND'S AND OATS BODY SCRUB,0,Cosmetics                                  0.00   \n",
        "...                                                                        ...   \n",
        "XANTHAN GUM (GLUTEN FREE),0,Baking products                               0.00   \n",
        "YAKI NORI SHEETS,NGS,Japanese cuisine                                     0.00   \n",
        "YELLOW APPLES,NGS,Fruits                                                  0.00   \n",
        "YELLOW BROCCOLI,NGS,Fresh vegetables                                      0.00   \n",
        "YELLOW CAPSICUM ( CHEMICAL FREE ),NGS,Chemical free vegetables            0.00   \n",
        "YELLOW CARROT ( CHEMICAL FREE ),0,Vegetables                              0.00   \n",
        "YELLOW CARROT ( CHEMICAL FREE ),NGS,Fresh vegetables                      0.00   \n",
        "YELLOW CARROTS,NGS,Fresh vegetables                                       0.00   \n",
        "YELLOW CHERRY TOMATOES,Kheir Misr,Fresh vegetables                        0.00   \n",
        "YELLOW GRAPEFRUIT,0,Fresh fruits                                          0.00   \n",
        "YELLOW GRAPEFRUIT,NGS,Fruits                                              0.00   \n",
        "YELLOW MUSTARD,Eden Foods, Inc.,Spices                                    0.00   \n",
        "YELLOW ONIONS ( CHEMICAL FREE ),NGS,Fresh vegetables                      0.00   \n",
        "YELLOW SPLIT PEAS / 822G,Bob's Red Mill,Grains                            0.00   \n",
        "YELLOW WATERMELON,NGS,Fruits                                              0.00   \n",
        "YING/YANG FACIAL ACNE SOAP,0,Cosmetics                                    0.00   \n",
        "YOUSSFI (TANGERINE),NGS,Fruits                                            0.00   \n",
        "ZARDA EXTRA VIRGIN OLIVE OIL,NGS,Oil & Vinegar                            0.00   \n",
        "ZUCCHINI,Kheir Misr,Fresh vegetables                                      0.00   \n",
        "ZUCCHINI,NGS,Fresh vegetables                                             0.00   \n",
        "ZUCCHINI,NGS,General                                                      0.00   \n",
        "ZUCCHINI ( CHEMICAL FREE ),0,Vegetables                                   0.00   \n",
        "ZUCCHINI ( CHEMICAL FREE ),NGS,Fresh vegetables                           0.00   \n",
        "ZUCCHINI (CHEMICAL FREE),0,Chemical free vegetables                       0.00   \n",
        "ZUCCHINI (CHEMICAL FREE),0,Vegetables                                     0.00   \n",
        "ZUCCHINI (ORGANIC),0,Vegetables                                           0.00   \n",
        "ZUCCHINI / 500G,NGS,Fresh Produce                                        27.36   \n",
        "ZUCCHINI FLOWERS,NGS,Fresh vegetables                                     0.00   \n",
        "ZUCCHINI FLOWERS (CHEMICAL FREE),0,Vegetables                             0.00   \n",
        "ZUCCHINI JAM WITH PISTACHIO & MASTIC (NATURAL),0,Jam                      0.00   \n",
        "\n",
        "                                                                      Sep 2012  \\\n",
        "7 GRAIN MILK / 946ML,Pacific Natural Foods,Milk                           0.00   \n",
        "ACAI BERRY JUICE,0,Beverages                                              0.00   \n",
        "ACAI BERRY JUICE,Berry company,Juices                                     0.00   \n",
        "ACNE FACIAL SOAP,Healing Herbs,Cosmetics                                  0.00   \n",
        "ACQUA PANA WATER 1000ML,NGS,Beverages                                     0.00   \n",
        "ACQUA PANA WATER 500ML,NGS,Beverages                                      0.00   \n",
        "ACQUA PANA WATER 500ML GLASS,NGS,Beverages                                0.00   \n",
        "ACTIBIF CHEESE (FOR BETTER DIGESTION),0,cheese                            0.00   \n",
        "AGAR AGAR FLAKES (HAND HARVESTED) - WILD,0,Food supplements               0.00   \n",
        "AGAVE SYRUP ( ORGANIC ) / 473ML,Suzanne's Specialties,Sweeteners          0.00   \n",
        "ALL PURPOSE BAKING FLOUR ( GLUTEN FREE ),NGS,Flour                        0.00   \n",
        "ALL PURPOSE BAKING FLOUR ( GLUTEN FREE ) / 623G,Bob's Red Mill,Flour      0.00   \n",
        "ALL PURPOSE BAKING FLOUR (GLUTEN FREE),0,Baking products                  0.00   \n",
        "ALL PURPOSE BAKING FLOUR (GLUTEN FREE),0,General                          0.00   \n",
        "ALMOND BISCUITS (GLUTEN FREE - TRACES OF GLUTEN),0,Snacks                 0.00   \n",
        "ALMOND BREAD (GLUTEN FREE),0,Bread                                        0.00   \n",
        "ALMOND BUTTER,0,Nut butter                                                0.00   \n",
        "ALMOND BUTTER (HOME-MADE),Signature,spreads                               0.00   \n",
        "ALMOND BUTTER (NATURAL),0,Nut butter                                      0.00   \n",
        "ALMOND MEAL FLOUR,0,Baking products                                       0.00   \n",
        "ALMOND MILK ( ORGANIC ),Alpro,Non-dairy milk                              0.00   \n",
        "ALMOND MILK ( ORGANIC ) / 946ML,Pacific Natural Foods,Non-dairy milk      0.00   \n",
        "ALMOND MILK ( ORGANIC ) 946ML,0,Non-dairy milk                            0.00   \n",
        "ALMOND MILK ( ORIGINAL ),NGS,Non-dairy milk                               0.00   \n",
        "ALMOND MILK (ORGANIC) - SUGAR-FREE,0,Non-dairy milk                       0.00   \n",
        "ALMOND MILK (UNSWEETENED),0,Non-dairy milk                                0.00   \n",
        "ALMOND MILK WITH DARK CHOCOLATE,Pure almond,Non-dairy milk                0.00   \n",
        "ALMOND MILK WITH VANILLA,Pure almond,Non-dairy milk                       0.00   \n",
        "ALMOND ORIGINAL (ORIGINAL),0,Non-dairy milk                               0.00   \n",
        "ALMOND'S AND OATS BODY SCRUB,0,Cosmetics                                  0.00   \n",
        "...                                                                        ...   \n",
        "XANTHAN GUM (GLUTEN FREE),0,Baking products                               0.00   \n",
        "YAKI NORI SHEETS,NGS,Japanese cuisine                                     0.00   \n",
        "YELLOW APPLES,NGS,Fruits                                                  0.00   \n",
        "YELLOW BROCCOLI,NGS,Fresh vegetables                                      0.00   \n",
        "YELLOW CAPSICUM ( CHEMICAL FREE ),NGS,Chemical free vegetables            0.00   \n",
        "YELLOW CARROT ( CHEMICAL FREE ),0,Vegetables                              0.00   \n",
        "YELLOW CARROT ( CHEMICAL FREE ),NGS,Fresh vegetables                      0.00   \n",
        "YELLOW CARROTS,NGS,Fresh vegetables                                       0.00   \n",
        "YELLOW CHERRY TOMATOES,Kheir Misr,Fresh vegetables                        0.00   \n",
        "YELLOW GRAPEFRUIT,0,Fresh fruits                                          0.00   \n",
        "YELLOW GRAPEFRUIT,NGS,Fruits                                              0.00   \n",
        "YELLOW MUSTARD,Eden Foods, Inc.,Spices                                    0.00   \n",
        "YELLOW ONIONS ( CHEMICAL FREE ),NGS,Fresh vegetables                      0.00   \n",
        "YELLOW SPLIT PEAS / 822G,Bob's Red Mill,Grains                            0.00   \n",
        "YELLOW WATERMELON,NGS,Fruits                                              0.00   \n",
        "YING/YANG FACIAL ACNE SOAP,0,Cosmetics                                    0.00   \n",
        "YOUSSFI (TANGERINE),NGS,Fruits                                            0.00   \n",
        "ZARDA EXTRA VIRGIN OLIVE OIL,NGS,Oil & Vinegar                            0.00   \n",
        "ZUCCHINI,Kheir Misr,Fresh vegetables                                      0.00   \n",
        "ZUCCHINI,NGS,Fresh vegetables                                             0.00   \n",
        "ZUCCHINI,NGS,General                                                      0.00   \n",
        "ZUCCHINI ( CHEMICAL FREE ),0,Vegetables                                   0.00   \n",
        "ZUCCHINI ( CHEMICAL FREE ),NGS,Fresh vegetables                           0.00   \n",
        "ZUCCHINI (CHEMICAL FREE),0,Chemical free vegetables                       0.00   \n",
        "ZUCCHINI (CHEMICAL FREE),0,Vegetables                                     0.00   \n",
        "ZUCCHINI (ORGANIC),0,Vegetables                                           0.00   \n",
        "ZUCCHINI / 500G,NGS,Fresh Produce                                        23.94   \n",
        "ZUCCHINI FLOWERS,NGS,Fresh vegetables                                     0.00   \n",
        "ZUCCHINI FLOWERS (CHEMICAL FREE),0,Vegetables                             0.00   \n",
        "ZUCCHINI JAM WITH PISTACHIO & MASTIC (NATURAL),0,Jam                      0.00   \n",
        "\n",
        "                                                                      Oct 2012  \\\n",
        "7 GRAIN MILK / 946ML,Pacific Natural Foods,Milk                            0.0   \n",
        "ACAI BERRY JUICE,0,Beverages                                               0.0   \n",
        "ACAI BERRY JUICE,Berry company,Juices                                      0.0   \n",
        "ACNE FACIAL SOAP,Healing Herbs,Cosmetics                                   0.0   \n",
        "ACQUA PANA WATER 1000ML,NGS,Beverages                                      0.0   \n",
        "ACQUA PANA WATER 500ML,NGS,Beverages                                       0.0   \n",
        "ACQUA PANA WATER 500ML GLASS,NGS,Beverages                                 0.0   \n",
        "ACTIBIF CHEESE (FOR BETTER DIGESTION),0,cheese                             0.0   \n",
        "AGAR AGAR FLAKES (HAND HARVESTED) - WILD,0,Food supplements                0.0   \n",
        "AGAVE SYRUP ( ORGANIC ) / 473ML,Suzanne's Specialties,Sweeteners           0.0   \n",
        "ALL PURPOSE BAKING FLOUR ( GLUTEN FREE ),NGS,Flour                         0.0   \n",
        "ALL PURPOSE BAKING FLOUR ( GLUTEN FREE ) / 623G,Bob's Red Mill,Flour       0.0   \n",
        "ALL PURPOSE BAKING FLOUR (GLUTEN FREE),0,Baking products                   0.0   \n",
        "ALL PURPOSE BAKING FLOUR (GLUTEN FREE),0,General                           0.0   \n",
        "ALMOND BISCUITS (GLUTEN FREE - TRACES OF GLUTEN),0,Snacks                  0.0   \n",
        "ALMOND BREAD (GLUTEN FREE),0,Bread                                         0.0   \n",
        "ALMOND BUTTER,0,Nut butter                                                 0.0   \n",
        "ALMOND BUTTER (HOME-MADE),Signature,spreads                                0.0   \n",
        "ALMOND BUTTER (NATURAL),0,Nut butter                                       0.0   \n",
        "ALMOND MEAL FLOUR,0,Baking products                                        0.0   \n",
        "ALMOND MILK ( ORGANIC ),Alpro,Non-dairy milk                               0.0   \n",
        "ALMOND MILK ( ORGANIC ) / 946ML,Pacific Natural Foods,Non-dairy milk       0.0   \n",
        "ALMOND MILK ( ORGANIC ) 946ML,0,Non-dairy milk                             0.0   \n",
        "ALMOND MILK ( ORIGINAL ),NGS,Non-dairy milk                                0.0   \n",
        "ALMOND MILK (ORGANIC) - SUGAR-FREE,0,Non-dairy milk                        0.0   \n",
        "ALMOND MILK (UNSWEETENED),0,Non-dairy milk                                 0.0   \n",
        "ALMOND MILK WITH DARK CHOCOLATE,Pure almond,Non-dairy milk                 0.0   \n",
        "ALMOND MILK WITH VANILLA,Pure almond,Non-dairy milk                        0.0   \n",
        "ALMOND ORIGINAL (ORIGINAL),0,Non-dairy milk                                0.0   \n",
        "ALMOND'S AND OATS BODY SCRUB,0,Cosmetics                                   0.0   \n",
        "...                                                                        ...   \n",
        "XANTHAN GUM (GLUTEN FREE),0,Baking products                                0.0   \n",
        "YAKI NORI SHEETS,NGS,Japanese cuisine                                      0.0   \n",
        "YELLOW APPLES,NGS,Fruits                                                   0.0   \n",
        "YELLOW BROCCOLI,NGS,Fresh vegetables                                       0.0   \n",
        "YELLOW CAPSICUM ( CHEMICAL FREE ),NGS,Chemical free vegetables             0.0   \n",
        "YELLOW CARROT ( CHEMICAL FREE ),0,Vegetables                               0.0   \n",
        "YELLOW CARROT ( CHEMICAL FREE ),NGS,Fresh vegetables                       0.0   \n",
        "YELLOW CARROTS,NGS,Fresh vegetables                                        0.0   \n",
        "YELLOW CHERRY TOMATOES,Kheir Misr,Fresh vegetables                         0.0   \n",
        "YELLOW GRAPEFRUIT,0,Fresh fruits                                           0.0   \n",
        "YELLOW GRAPEFRUIT,NGS,Fruits                                               0.0   \n",
        "YELLOW MUSTARD,Eden Foods, Inc.,Spices                                     0.0   \n",
        "YELLOW ONIONS ( CHEMICAL FREE ),NGS,Fresh vegetables                       0.0   \n",
        "YELLOW SPLIT PEAS / 822G,Bob's Red Mill,Grains                             0.0   \n",
        "YELLOW WATERMELON,NGS,Fruits                                               0.0   \n",
        "YING/YANG FACIAL ACNE SOAP,0,Cosmetics                                     0.0   \n",
        "YOUSSFI (TANGERINE),NGS,Fruits                                             0.0   \n",
        "ZARDA EXTRA VIRGIN OLIVE OIL,NGS,Oil & Vinegar                             0.0   \n",
        "ZUCCHINI,Kheir Misr,Fresh vegetables                                       0.0   \n",
        "ZUCCHINI,NGS,Fresh vegetables                                              0.0   \n",
        "ZUCCHINI,NGS,General                                                       0.0   \n",
        "ZUCCHINI ( CHEMICAL FREE ),0,Vegetables                                    0.0   \n",
        "ZUCCHINI ( CHEMICAL FREE ),NGS,Fresh vegetables                            0.0   \n",
        "ZUCCHINI (CHEMICAL FREE),0,Chemical free vegetables                        0.0   \n",
        "ZUCCHINI (CHEMICAL FREE),0,Vegetables                                      0.0   \n",
        "ZUCCHINI (ORGANIC),0,Vegetables                                            0.0   \n",
        "ZUCCHINI / 500G,NGS,Fresh Produce                                         34.2   \n",
        "ZUCCHINI FLOWERS,NGS,Fresh vegetables                                      0.0   \n",
        "ZUCCHINI FLOWERS (CHEMICAL FREE),0,Vegetables                              0.0   \n",
        "ZUCCHINI JAM WITH PISTACHIO & MASTIC (NATURAL),0,Jam                       0.0   \n",
        "\n",
        "                                                                      Nov 2012  \\\n",
        "7 GRAIN MILK / 946ML,Pacific Natural Foods,Milk                           0.00   \n",
        "ACAI BERRY JUICE,0,Beverages                                              0.00   \n",
        "ACAI BERRY JUICE,Berry company,Juices                                     0.00   \n",
        "ACNE FACIAL SOAP,Healing Herbs,Cosmetics                                  0.00   \n",
        "ACQUA PANA WATER 1000ML,NGS,Beverages                                     0.00   \n",
        "ACQUA PANA WATER 500ML,NGS,Beverages                                      0.00   \n",
        "ACQUA PANA WATER 500ML GLASS,NGS,Beverages                                0.00   \n",
        "ACTIBIF CHEESE (FOR BETTER DIGESTION),0,cheese                            0.00   \n",
        "AGAR AGAR FLAKES (HAND HARVESTED) - WILD,0,Food supplements               0.00   \n",
        "AGAVE SYRUP ( ORGANIC ) / 473ML,Suzanne's Specialties,Sweeteners          0.00   \n",
        "ALL PURPOSE BAKING FLOUR ( GLUTEN FREE ),NGS,Flour                        0.00   \n",
        "ALL PURPOSE BAKING FLOUR ( GLUTEN FREE ) / 623G,Bob's Red Mill,Flour      0.00   \n",
        "ALL PURPOSE BAKING FLOUR (GLUTEN FREE),0,Baking products                  0.00   \n",
        "ALL PURPOSE BAKING FLOUR (GLUTEN FREE),0,General                          0.00   \n",
        "ALMOND BISCUITS (GLUTEN FREE - TRACES OF GLUTEN),0,Snacks                 0.00   \n",
        "ALMOND BREAD (GLUTEN FREE),0,Bread                                        0.00   \n",
        "ALMOND BUTTER,0,Nut butter                                                0.00   \n",
        "ALMOND BUTTER (HOME-MADE),Signature,spreads                               0.00   \n",
        "ALMOND BUTTER (NATURAL),0,Nut butter                                      0.00   \n",
        "ALMOND MEAL FLOUR,0,Baking products                                       0.00   \n",
        "ALMOND MILK ( ORGANIC ),Alpro,Non-dairy milk                              0.00   \n",
        "ALMOND MILK ( ORGANIC ) / 946ML,Pacific Natural Foods,Non-dairy milk      0.00   \n",
        "ALMOND MILK ( ORGANIC ) 946ML,0,Non-dairy milk                            0.00   \n",
        "ALMOND MILK ( ORIGINAL ),NGS,Non-dairy milk                               0.00   \n",
        "ALMOND MILK (ORGANIC) - SUGAR-FREE,0,Non-dairy milk                       0.00   \n",
        "ALMOND MILK (UNSWEETENED),0,Non-dairy milk                                0.00   \n",
        "ALMOND MILK WITH DARK CHOCOLATE,Pure almond,Non-dairy milk                0.00   \n",
        "ALMOND MILK WITH VANILLA,Pure almond,Non-dairy milk                       0.00   \n",
        "ALMOND ORIGINAL (ORIGINAL),0,Non-dairy milk                               0.00   \n",
        "ALMOND'S AND OATS BODY SCRUB,0,Cosmetics                                  0.00   \n",
        "...                                                                        ...   \n",
        "XANTHAN GUM (GLUTEN FREE),0,Baking products                               0.00   \n",
        "YAKI NORI SHEETS,NGS,Japanese cuisine                                     0.00   \n",
        "YELLOW APPLES,NGS,Fruits                                                  0.00   \n",
        "YELLOW BROCCOLI,NGS,Fresh vegetables                                      0.00   \n",
        "YELLOW CAPSICUM ( CHEMICAL FREE ),NGS,Chemical free vegetables            0.00   \n",
        "YELLOW CARROT ( CHEMICAL FREE ),0,Vegetables                              0.00   \n",
        "YELLOW CARROT ( CHEMICAL FREE ),NGS,Fresh vegetables                      0.00   \n",
        "YELLOW CARROTS,NGS,Fresh vegetables                                       0.00   \n",
        "YELLOW CHERRY TOMATOES,Kheir Misr,Fresh vegetables                        0.00   \n",
        "YELLOW GRAPEFRUIT,0,Fresh fruits                                          0.00   \n",
        "YELLOW GRAPEFRUIT,NGS,Fruits                                              0.00   \n",
        "YELLOW MUSTARD,Eden Foods, Inc.,Spices                                    0.00   \n",
        "YELLOW ONIONS ( CHEMICAL FREE ),NGS,Fresh vegetables                      0.00   \n",
        "YELLOW SPLIT PEAS / 822G,Bob's Red Mill,Grains                            0.00   \n",
        "YELLOW WATERMELON,NGS,Fruits                                              0.00   \n",
        "YING/YANG FACIAL ACNE SOAP,0,Cosmetics                                    0.00   \n",
        "YOUSSFI (TANGERINE),NGS,Fruits                                            0.00   \n",
        "ZARDA EXTRA VIRGIN OLIVE OIL,NGS,Oil & Vinegar                            0.00   \n",
        "ZUCCHINI,Kheir Misr,Fresh vegetables                                      0.00   \n",
        "ZUCCHINI,NGS,Fresh vegetables                                             0.00   \n",
        "ZUCCHINI,NGS,General                                                      0.00   \n",
        "ZUCCHINI ( CHEMICAL FREE ),0,Vegetables                                   0.00   \n",
        "ZUCCHINI ( CHEMICAL FREE ),NGS,Fresh vegetables                           0.00   \n",
        "ZUCCHINI (CHEMICAL FREE),0,Chemical free vegetables                       0.00   \n",
        "ZUCCHINI (CHEMICAL FREE),0,Vegetables                                     0.00   \n",
        "ZUCCHINI (ORGANIC),0,Vegetables                                           0.00   \n",
        "ZUCCHINI / 500G,NGS,Fresh Produce                                        78.66   \n",
        "ZUCCHINI FLOWERS,NGS,Fresh vegetables                                     0.00   \n",
        "ZUCCHINI FLOWERS (CHEMICAL FREE),0,Vegetables                             0.00   \n",
        "ZUCCHINI JAM WITH PISTACHIO & MASTIC (NATURAL),0,Jam                      0.00   \n",
        "\n",
        "                                                                         ...       \\\n",
        "7 GRAIN MILK / 946ML,Pacific Natural Foods,Milk                          ...        \n",
        "ACAI BERRY JUICE,0,Beverages                                             ...        \n",
        "ACAI BERRY JUICE,Berry company,Juices                                    ...        \n",
        "ACNE FACIAL SOAP,Healing Herbs,Cosmetics                                 ...        \n",
        "ACQUA PANA WATER 1000ML,NGS,Beverages                                    ...        \n",
        "ACQUA PANA WATER 500ML,NGS,Beverages                                     ...        \n",
        "ACQUA PANA WATER 500ML GLASS,NGS,Beverages                               ...        \n",
        "ACTIBIF CHEESE (FOR BETTER DIGESTION),0,cheese                           ...        \n",
        "AGAR AGAR FLAKES (HAND HARVESTED) - WILD,0,Food supplements              ...        \n",
        "AGAVE SYRUP ( ORGANIC ) / 473ML,Suzanne's Specialties,Sweeteners         ...        \n",
        "ALL PURPOSE BAKING FLOUR ( GLUTEN FREE ),NGS,Flour                       ...        \n",
        "ALL PURPOSE BAKING FLOUR ( GLUTEN FREE ) / 623G,Bob's Red Mill,Flour     ...        \n",
        "ALL PURPOSE BAKING FLOUR (GLUTEN FREE),0,Baking products                 ...        \n",
        "ALL PURPOSE BAKING FLOUR (GLUTEN FREE),0,General                         ...        \n",
        "ALMOND BISCUITS (GLUTEN FREE - TRACES OF GLUTEN),0,Snacks                ...        \n",
        "ALMOND BREAD (GLUTEN FREE),0,Bread                                       ...        \n",
        "ALMOND BUTTER,0,Nut butter                                               ...        \n",
        "ALMOND BUTTER (HOME-MADE),Signature,spreads                              ...        \n",
        "ALMOND BUTTER (NATURAL),0,Nut butter                                     ...        \n",
        "ALMOND MEAL FLOUR,0,Baking products                                      ...        \n",
        "ALMOND MILK ( ORGANIC ),Alpro,Non-dairy milk                             ...        \n",
        "ALMOND MILK ( ORGANIC ) / 946ML,Pacific Natural Foods,Non-dairy milk     ...        \n",
        "ALMOND MILK ( ORGANIC ) 946ML,0,Non-dairy milk                           ...        \n",
        "ALMOND MILK ( ORIGINAL ),NGS,Non-dairy milk                              ...        \n",
        "ALMOND MILK (ORGANIC) - SUGAR-FREE,0,Non-dairy milk                      ...        \n",
        "ALMOND MILK (UNSWEETENED),0,Non-dairy milk                               ...        \n",
        "ALMOND MILK WITH DARK CHOCOLATE,Pure almond,Non-dairy milk               ...        \n",
        "ALMOND MILK WITH VANILLA,Pure almond,Non-dairy milk                      ...        \n",
        "ALMOND ORIGINAL (ORIGINAL),0,Non-dairy milk                              ...        \n",
        "ALMOND'S AND OATS BODY SCRUB,0,Cosmetics                                 ...        \n",
        "...                                                                      ...        \n",
        "XANTHAN GUM (GLUTEN FREE),0,Baking products                              ...        \n",
        "YAKI NORI SHEETS,NGS,Japanese cuisine                                    ...        \n",
        "YELLOW APPLES,NGS,Fruits                                                 ...        \n",
        "YELLOW BROCCOLI,NGS,Fresh vegetables                                     ...        \n",
        "YELLOW CAPSICUM ( CHEMICAL FREE ),NGS,Chemical free vegetables           ...        \n",
        "YELLOW CARROT ( CHEMICAL FREE ),0,Vegetables                             ...        \n",
        "YELLOW CARROT ( CHEMICAL FREE ),NGS,Fresh vegetables                     ...        \n",
        "YELLOW CARROTS,NGS,Fresh vegetables                                      ...        \n",
        "YELLOW CHERRY TOMATOES,Kheir Misr,Fresh vegetables                       ...        \n",
        "YELLOW GRAPEFRUIT,0,Fresh fruits                                         ...        \n",
        "YELLOW GRAPEFRUIT,NGS,Fruits                                             ...        \n",
        "YELLOW MUSTARD,Eden Foods, Inc.,Spices                                   ...        \n",
        "YELLOW ONIONS ( CHEMICAL FREE ),NGS,Fresh vegetables                     ...        \n",
        "YELLOW SPLIT PEAS / 822G,Bob's Red Mill,Grains                           ...        \n",
        "YELLOW WATERMELON,NGS,Fruits                                             ...        \n",
        "YING/YANG FACIAL ACNE SOAP,0,Cosmetics                                   ...        \n",
        "YOUSSFI (TANGERINE),NGS,Fruits                                           ...        \n",
        "ZARDA EXTRA VIRGIN OLIVE OIL,NGS,Oil & Vinegar                           ...        \n",
        "ZUCCHINI,Kheir Misr,Fresh vegetables                                     ...        \n",
        "ZUCCHINI,NGS,Fresh vegetables                                            ...        \n",
        "ZUCCHINI,NGS,General                                                     ...        \n",
        "ZUCCHINI ( CHEMICAL FREE ),0,Vegetables                                  ...        \n",
        "ZUCCHINI ( CHEMICAL FREE ),NGS,Fresh vegetables                          ...        \n",
        "ZUCCHINI (CHEMICAL FREE),0,Chemical free vegetables                      ...        \n",
        "ZUCCHINI (CHEMICAL FREE),0,Vegetables                                    ...        \n",
        "ZUCCHINI (ORGANIC),0,Vegetables                                          ...        \n",
        "ZUCCHINI / 500G,NGS,Fresh Produce                                        ...        \n",
        "ZUCCHINI FLOWERS,NGS,Fresh vegetables                                    ...        \n",
        "ZUCCHINI FLOWERS (CHEMICAL FREE),0,Vegetables                            ...        \n",
        "ZUCCHINI JAM WITH PISTACHIO & MASTIC (NATURAL),0,Jam                     ...        \n",
        "\n",
        "                                                                      Mar 2015  \\\n",
        "7 GRAIN MILK / 946ML,Pacific Natural Foods,Milk                              0   \n",
        "ACAI BERRY JUICE,0,Beverages                                                 0   \n",
        "ACAI BERRY JUICE,Berry company,Juices                                        0   \n",
        "ACNE FACIAL SOAP,Healing Herbs,Cosmetics                                     0   \n",
        "ACQUA PANA WATER 1000ML,NGS,Beverages                                        0   \n",
        "ACQUA PANA WATER 500ML,NGS,Beverages                                         0   \n",
        "ACQUA PANA WATER 500ML GLASS,NGS,Beverages                                   0   \n",
        "ACTIBIF CHEESE (FOR BETTER DIGESTION),0,cheese                               0   \n",
        "AGAR AGAR FLAKES (HAND HARVESTED) - WILD,0,Food supplements                  0   \n",
        "AGAVE SYRUP ( ORGANIC ) / 473ML,Suzanne's Specialties,Sweeteners             0   \n",
        "ALL PURPOSE BAKING FLOUR ( GLUTEN FREE ),NGS,Flour                           0   \n",
        "ALL PURPOSE BAKING FLOUR ( GLUTEN FREE ) / 623G,Bob's Red Mill,Flour         0   \n",
        "ALL PURPOSE BAKING FLOUR (GLUTEN FREE),0,Baking products                     0   \n",
        "ALL PURPOSE BAKING FLOUR (GLUTEN FREE),0,General                             0   \n",
        "ALMOND BISCUITS (GLUTEN FREE - TRACES OF GLUTEN),0,Snacks                    0   \n",
        "ALMOND BREAD (GLUTEN FREE),0,Bread                                           0   \n",
        "ALMOND BUTTER,0,Nut butter                                                   0   \n",
        "ALMOND BUTTER (HOME-MADE),Signature,spreads                                  0   \n",
        "ALMOND BUTTER (NATURAL),0,Nut butter                                         0   \n",
        "ALMOND MEAL FLOUR,0,Baking products                                          0   \n",
        "ALMOND MILK ( ORGANIC ),Alpro,Non-dairy milk                                 0   \n",
        "ALMOND MILK ( ORGANIC ) / 946ML,Pacific Natural Foods,Non-dairy milk         0   \n",
        "ALMOND MILK ( ORGANIC ) 946ML,0,Non-dairy milk                               0   \n",
        "ALMOND MILK ( ORIGINAL ),NGS,Non-dairy milk                                  0   \n",
        "ALMOND MILK (ORGANIC) - SUGAR-FREE,0,Non-dairy milk                          0   \n",
        "ALMOND MILK (UNSWEETENED),0,Non-dairy milk                                   0   \n",
        "ALMOND MILK WITH DARK CHOCOLATE,Pure almond,Non-dairy milk                   0   \n",
        "ALMOND MILK WITH VANILLA,Pure almond,Non-dairy milk                          0   \n",
        "ALMOND ORIGINAL (ORIGINAL),0,Non-dairy milk                                  0   \n",
        "ALMOND'S AND OATS BODY SCRUB,0,Cosmetics                                     0   \n",
        "...                                                                        ...   \n",
        "XANTHAN GUM (GLUTEN FREE),0,Baking products                                  0   \n",
        "YAKI NORI SHEETS,NGS,Japanese cuisine                                        0   \n",
        "YELLOW APPLES,NGS,Fruits                                                     0   \n",
        "YELLOW BROCCOLI,NGS,Fresh vegetables                                         0   \n",
        "YELLOW CAPSICUM ( CHEMICAL FREE ),NGS,Chemical free vegetables               0   \n",
        "YELLOW CARROT ( CHEMICAL FREE ),0,Vegetables                                 0   \n",
        "YELLOW CARROT ( CHEMICAL FREE ),NGS,Fresh vegetables                         0   \n",
        "YELLOW CARROTS,NGS,Fresh vegetables                                          0   \n",
        "YELLOW CHERRY TOMATOES,Kheir Misr,Fresh vegetables                           0   \n",
        "YELLOW GRAPEFRUIT,0,Fresh fruits                                             0   \n",
        "YELLOW GRAPEFRUIT,NGS,Fruits                                                 0   \n",
        "YELLOW MUSTARD,Eden Foods, Inc.,Spices                                       0   \n",
        "YELLOW ONIONS ( CHEMICAL FREE ),NGS,Fresh vegetables                         0   \n",
        "YELLOW SPLIT PEAS / 822G,Bob's Red Mill,Grains                               0   \n",
        "YELLOW WATERMELON,NGS,Fruits                                                 0   \n",
        "YING/YANG FACIAL ACNE SOAP,0,Cosmetics                                       0   \n",
        "YOUSSFI (TANGERINE),NGS,Fruits                                               0   \n",
        "ZARDA EXTRA VIRGIN OLIVE OIL,NGS,Oil & Vinegar                               0   \n",
        "ZUCCHINI,Kheir Misr,Fresh vegetables                                         0   \n",
        "ZUCCHINI,NGS,Fresh vegetables                                                0   \n",
        "ZUCCHINI,NGS,General                                                         0   \n",
        "ZUCCHINI ( CHEMICAL FREE ),0,Vegetables                                      0   \n",
        "ZUCCHINI ( CHEMICAL FREE ),NGS,Fresh vegetables                              0   \n",
        "ZUCCHINI (CHEMICAL FREE),0,Chemical free vegetables                          0   \n",
        "ZUCCHINI (CHEMICAL FREE),0,Vegetables                                        0   \n",
        "ZUCCHINI (ORGANIC),0,Vegetables                                              0   \n",
        "ZUCCHINI / 500G,NGS,Fresh Produce                                            0   \n",
        "ZUCCHINI FLOWERS,NGS,Fresh vegetables                                        0   \n",
        "ZUCCHINI FLOWERS (CHEMICAL FREE),0,Vegetables                                0   \n",
        "ZUCCHINI JAM WITH PISTACHIO & MASTIC (NATURAL),0,Jam                         0   \n",
        "\n",
        "                                                                      Apr 2015  \\\n",
        "7 GRAIN MILK / 946ML,Pacific Natural Foods,Milk                              0   \n",
        "ACAI BERRY JUICE,0,Beverages                                                 0   \n",
        "ACAI BERRY JUICE,Berry company,Juices                                        0   \n",
        "ACNE FACIAL SOAP,Healing Herbs,Cosmetics                                     0   \n",
        "ACQUA PANA WATER 1000ML,NGS,Beverages                                        0   \n",
        "ACQUA PANA WATER 500ML,NGS,Beverages                                         0   \n",
        "ACQUA PANA WATER 500ML GLASS,NGS,Beverages                                   0   \n",
        "ACTIBIF CHEESE (FOR BETTER DIGESTION),0,cheese                               0   \n",
        "AGAR AGAR FLAKES (HAND HARVESTED) - WILD,0,Food supplements                  0   \n",
        "AGAVE SYRUP ( ORGANIC ) / 473ML,Suzanne's Specialties,Sweeteners             0   \n",
        "ALL PURPOSE BAKING FLOUR ( GLUTEN FREE ),NGS,Flour                           0   \n",
        "ALL PURPOSE BAKING FLOUR ( GLUTEN FREE ) / 623G,Bob's Red Mill,Flour         0   \n",
        "ALL PURPOSE BAKING FLOUR (GLUTEN FREE),0,Baking products                     0   \n",
        "ALL PURPOSE BAKING FLOUR (GLUTEN FREE),0,General                             0   \n",
        "ALMOND BISCUITS (GLUTEN FREE - TRACES OF GLUTEN),0,Snacks                   36   \n",
        "ALMOND BREAD (GLUTEN FREE),0,Bread                                           0   \n",
        "ALMOND BUTTER,0,Nut butter                                                   0   \n",
        "ALMOND BUTTER (HOME-MADE),Signature,spreads                                  0   \n",
        "ALMOND BUTTER (NATURAL),0,Nut butter                                         0   \n",
        "ALMOND MEAL FLOUR,0,Baking products                                          0   \n",
        "ALMOND MILK ( ORGANIC ),Alpro,Non-dairy milk                                 0   \n",
        "ALMOND MILK ( ORGANIC ) / 946ML,Pacific Natural Foods,Non-dairy milk         0   \n",
        "ALMOND MILK ( ORGANIC ) 946ML,0,Non-dairy milk                               0   \n",
        "ALMOND MILK ( ORIGINAL ),NGS,Non-dairy milk                                  0   \n",
        "ALMOND MILK (ORGANIC) - SUGAR-FREE,0,Non-dairy milk                          0   \n",
        "ALMOND MILK (UNSWEETENED),0,Non-dairy milk                                   0   \n",
        "ALMOND MILK WITH DARK CHOCOLATE,Pure almond,Non-dairy milk                   0   \n",
        "ALMOND MILK WITH VANILLA,Pure almond,Non-dairy milk                          0   \n",
        "ALMOND ORIGINAL (ORIGINAL),0,Non-dairy milk                                  0   \n",
        "ALMOND'S AND OATS BODY SCRUB,0,Cosmetics                                     0   \n",
        "...                                                                        ...   \n",
        "XANTHAN GUM (GLUTEN FREE),0,Baking products                                  0   \n",
        "YAKI NORI SHEETS,NGS,Japanese cuisine                                        0   \n",
        "YELLOW APPLES,NGS,Fruits                                                     0   \n",
        "YELLOW BROCCOLI,NGS,Fresh vegetables                                         0   \n",
        "YELLOW CAPSICUM ( CHEMICAL FREE ),NGS,Chemical free vegetables               0   \n",
        "YELLOW CARROT ( CHEMICAL FREE ),0,Vegetables                                14   \n",
        "YELLOW CARROT ( CHEMICAL FREE ),NGS,Fresh vegetables                         0   \n",
        "YELLOW CARROTS,NGS,Fresh vegetables                                          0   \n",
        "YELLOW CHERRY TOMATOES,Kheir Misr,Fresh vegetables                           0   \n",
        "YELLOW GRAPEFRUIT,0,Fresh fruits                                             0   \n",
        "YELLOW GRAPEFRUIT,NGS,Fruits                                                 0   \n",
        "YELLOW MUSTARD,Eden Foods, Inc.,Spices                                       0   \n",
        "YELLOW ONIONS ( CHEMICAL FREE ),NGS,Fresh vegetables                         0   \n",
        "YELLOW SPLIT PEAS / 822G,Bob's Red Mill,Grains                               0   \n",
        "YELLOW WATERMELON,NGS,Fruits                                                 0   \n",
        "YING/YANG FACIAL ACNE SOAP,0,Cosmetics                                       0   \n",
        "YOUSSFI (TANGERINE),NGS,Fruits                                               0   \n",
        "ZARDA EXTRA VIRGIN OLIVE OIL,NGS,Oil & Vinegar                               0   \n",
        "ZUCCHINI,Kheir Misr,Fresh vegetables                                         0   \n",
        "ZUCCHINI,NGS,Fresh vegetables                                                0   \n",
        "ZUCCHINI,NGS,General                                                         0   \n",
        "ZUCCHINI ( CHEMICAL FREE ),0,Vegetables                                     55   \n",
        "ZUCCHINI ( CHEMICAL FREE ),NGS,Fresh vegetables                              0   \n",
        "ZUCCHINI (CHEMICAL FREE),0,Chemical free vegetables                          0   \n",
        "ZUCCHINI (CHEMICAL FREE),0,Vegetables                                        0   \n",
        "ZUCCHINI (ORGANIC),0,Vegetables                                              0   \n",
        "ZUCCHINI / 500G,NGS,Fresh Produce                                            0   \n",
        "ZUCCHINI FLOWERS,NGS,Fresh vegetables                                        0   \n",
        "ZUCCHINI FLOWERS (CHEMICAL FREE),0,Vegetables                                0   \n",
        "ZUCCHINI JAM WITH PISTACHIO & MASTIC (NATURAL),0,Jam                         0   \n",
        "\n",
        "                                                                      May 2015  \\\n",
        "7 GRAIN MILK / 946ML,Pacific Natural Foods,Milk                           0.00   \n",
        "ACAI BERRY JUICE,0,Beverages                                              0.00   \n",
        "ACAI BERRY JUICE,Berry company,Juices                                     0.00   \n",
        "ACNE FACIAL SOAP,Healing Herbs,Cosmetics                                  0.00   \n",
        "ACQUA PANA WATER 1000ML,NGS,Beverages                                     0.00   \n",
        "ACQUA PANA WATER 500ML,NGS,Beverages                                      0.00   \n",
        "ACQUA PANA WATER 500ML GLASS,NGS,Beverages                                0.00   \n",
        "ACTIBIF CHEESE (FOR BETTER DIGESTION),0,cheese                            0.00   \n",
        "AGAR AGAR FLAKES (HAND HARVESTED) - WILD,0,Food supplements              86.00   \n",
        "AGAVE SYRUP ( ORGANIC ) / 473ML,Suzanne's Specialties,Sweeteners          0.00   \n",
        "ALL PURPOSE BAKING FLOUR ( GLUTEN FREE ),NGS,Flour                        0.00   \n",
        "ALL PURPOSE BAKING FLOUR ( GLUTEN FREE ) / 623G,Bob's Red Mill,Flour      0.00   \n",
        "ALL PURPOSE BAKING FLOUR (GLUTEN FREE),0,Baking products                  0.00   \n",
        "ALL PURPOSE BAKING FLOUR (GLUTEN FREE),0,General                         43.75   \n",
        "ALMOND BISCUITS (GLUTEN FREE - TRACES OF GLUTEN),0,Snacks                18.00   \n",
        "ALMOND BREAD (GLUTEN FREE),0,Bread                                        0.00   \n",
        "ALMOND BUTTER,0,Nut butter                                                0.00   \n",
        "ALMOND BUTTER (HOME-MADE),Signature,spreads                               0.00   \n",
        "ALMOND BUTTER (NATURAL),0,Nut butter                                      0.00   \n",
        "ALMOND MEAL FLOUR,0,Baking products                                     504.00   \n",
        "ALMOND MILK ( ORGANIC ),Alpro,Non-dairy milk                              0.00   \n",
        "ALMOND MILK ( ORGANIC ) / 946ML,Pacific Natural Foods,Non-dairy milk      0.00   \n",
        "ALMOND MILK ( ORGANIC ) 946ML,0,Non-dairy milk                          102.00   \n",
        "ALMOND MILK ( ORIGINAL ),NGS,Non-dairy milk                               0.00   \n",
        "ALMOND MILK (ORGANIC) - SUGAR-FREE,0,Non-dairy milk                       0.00   \n",
        "ALMOND MILK (UNSWEETENED),0,Non-dairy milk                                0.00   \n",
        "ALMOND MILK WITH DARK CHOCOLATE,Pure almond,Non-dairy milk                0.00   \n",
        "ALMOND MILK WITH VANILLA,Pure almond,Non-dairy milk                       0.00   \n",
        "ALMOND ORIGINAL (ORIGINAL),0,Non-dairy milk                               0.00   \n",
        "ALMOND'S AND OATS BODY SCRUB,0,Cosmetics                                  0.00   \n",
        "...                                                                        ...   \n",
        "XANTHAN GUM (GLUTEN FREE),0,Baking products                               0.00   \n",
        "YAKI NORI SHEETS,NGS,Japanese cuisine                                     0.00   \n",
        "YELLOW APPLES,NGS,Fruits                                                  0.00   \n",
        "YELLOW BROCCOLI,NGS,Fresh vegetables                                      0.00   \n",
        "YELLOW CAPSICUM ( CHEMICAL FREE ),NGS,Chemical free vegetables            0.00   \n",
        "YELLOW CARROT ( CHEMICAL FREE ),0,Vegetables                           1098.00   \n",
        "YELLOW CARROT ( CHEMICAL FREE ),NGS,Fresh vegetables                      0.00   \n",
        "YELLOW CARROTS,NGS,Fresh vegetables                                       0.00   \n",
        "YELLOW CHERRY TOMATOES,Kheir Misr,Fresh vegetables                        0.00   \n",
        "YELLOW GRAPEFRUIT,0,Fresh fruits                                          0.00   \n",
        "YELLOW GRAPEFRUIT,NGS,Fruits                                            218.00   \n",
        "YELLOW MUSTARD,Eden Foods, Inc.,Spices                                    0.00   \n",
        "YELLOW ONIONS ( CHEMICAL FREE ),NGS,Fresh vegetables                      0.00   \n",
        "YELLOW SPLIT PEAS / 822G,Bob's Red Mill,Grains                            0.00   \n",
        "YELLOW WATERMELON,NGS,Fruits                                              0.00   \n",
        "YING/YANG FACIAL ACNE SOAP,0,Cosmetics                                    0.00   \n",
        "YOUSSFI (TANGERINE),NGS,Fruits                                            0.00   \n",
        "ZARDA EXTRA VIRGIN OLIVE OIL,NGS,Oil & Vinegar                            0.00   \n",
        "ZUCCHINI,Kheir Misr,Fresh vegetables                                      0.00   \n",
        "ZUCCHINI,NGS,Fresh vegetables                                             0.00   \n",
        "ZUCCHINI,NGS,General                                                      0.00   \n",
        "ZUCCHINI ( CHEMICAL FREE ),0,Vegetables                                   0.00   \n",
        "ZUCCHINI ( CHEMICAL FREE ),NGS,Fresh vegetables                           0.00   \n",
        "ZUCCHINI (CHEMICAL FREE),0,Chemical free vegetables                       0.00   \n",
        "ZUCCHINI (CHEMICAL FREE),0,Vegetables                                   766.60   \n",
        "ZUCCHINI (ORGANIC),0,Vegetables                                           0.00   \n",
        "ZUCCHINI / 500G,NGS,Fresh Produce                                         0.00   \n",
        "ZUCCHINI FLOWERS,NGS,Fresh vegetables                                     0.00   \n",
        "ZUCCHINI FLOWERS (CHEMICAL FREE),0,Vegetables                            19.00   \n",
        "ZUCCHINI JAM WITH PISTACHIO & MASTIC (NATURAL),0,Jam                      0.00   \n",
        "\n",
        "                                                                      Jun 2015  \\\n",
        "7 GRAIN MILK / 946ML,Pacific Natural Foods,Milk                              0   \n",
        "ACAI BERRY JUICE,0,Beverages                                                 0   \n",
        "ACAI BERRY JUICE,Berry company,Juices                                        0   \n",
        "ACNE FACIAL SOAP,Healing Herbs,Cosmetics                                     0   \n",
        "ACQUA PANA WATER 1000ML,NGS,Beverages                                        0   \n",
        "ACQUA PANA WATER 500ML,NGS,Beverages                                         0   \n",
        "ACQUA PANA WATER 500ML GLASS,NGS,Beverages                                   0   \n",
        "ACTIBIF CHEESE (FOR BETTER DIGESTION),0,cheese                               0   \n",
        "AGAR AGAR FLAKES (HAND HARVESTED) - WILD,0,Food supplements                  0   \n",
        "AGAVE SYRUP ( ORGANIC ) / 473ML,Suzanne's Specialties,Sweeteners             0   \n",
        "ALL PURPOSE BAKING FLOUR ( GLUTEN FREE ),NGS,Flour                           0   \n",
        "ALL PURPOSE BAKING FLOUR ( GLUTEN FREE ) / 623G,Bob's Red Mill,Flour         0   \n",
        "ALL PURPOSE BAKING FLOUR (GLUTEN FREE),0,Baking products                     0   \n",
        "ALL PURPOSE BAKING FLOUR (GLUTEN FREE),0,General                           516   \n",
        "ALMOND BISCUITS (GLUTEN FREE - TRACES OF GLUTEN),0,Snacks                    0   \n",
        "ALMOND BREAD (GLUTEN FREE),0,Bread                                           0   \n",
        "ALMOND BUTTER,0,Nut butter                                                   0   \n",
        "ALMOND BUTTER (HOME-MADE),Signature,spreads                                  0   \n",
        "ALMOND BUTTER (NATURAL),0,Nut butter                                         0   \n",
        "ALMOND MEAL FLOUR,0,Baking products                                          0   \n",
        "ALMOND MILK ( ORGANIC ),Alpro,Non-dairy milk                                 0   \n",
        "ALMOND MILK ( ORGANIC ) / 946ML,Pacific Natural Foods,Non-dairy milk         0   \n",
        "ALMOND MILK ( ORGANIC ) 946ML,0,Non-dairy milk                               0   \n",
        "ALMOND MILK ( ORIGINAL ),NGS,Non-dairy milk                                  0   \n",
        "ALMOND MILK (ORGANIC) - SUGAR-FREE,0,Non-dairy milk                          0   \n",
        "ALMOND MILK (UNSWEETENED),0,Non-dairy milk                                   0   \n",
        "ALMOND MILK WITH DARK CHOCOLATE,Pure almond,Non-dairy milk                   0   \n",
        "ALMOND MILK WITH VANILLA,Pure almond,Non-dairy milk                          0   \n",
        "ALMOND ORIGINAL (ORIGINAL),0,Non-dairy milk                                  0   \n",
        "ALMOND'S AND OATS BODY SCRUB,0,Cosmetics                                     0   \n",
        "...                                                                        ...   \n",
        "XANTHAN GUM (GLUTEN FREE),0,Baking products                                  0   \n",
        "YAKI NORI SHEETS,NGS,Japanese cuisine                                        0   \n",
        "YELLOW APPLES,NGS,Fruits                                                   130   \n",
        "YELLOW BROCCOLI,NGS,Fresh vegetables                                         0   \n",
        "YELLOW CAPSICUM ( CHEMICAL FREE ),NGS,Chemical free vegetables               0   \n",
        "YELLOW CARROT ( CHEMICAL FREE ),0,Vegetables                               210   \n",
        "YELLOW CARROT ( CHEMICAL FREE ),NGS,Fresh vegetables                         0   \n",
        "YELLOW CARROTS,NGS,Fresh vegetables                                          0   \n",
        "YELLOW CHERRY TOMATOES,Kheir Misr,Fresh vegetables                           0   \n",
        "YELLOW GRAPEFRUIT,0,Fresh fruits                                             0   \n",
        "YELLOW GRAPEFRUIT,NGS,Fruits                                                58   \n",
        "YELLOW MUSTARD,Eden Foods, Inc.,Spices                                       0   \n",
        "YELLOW ONIONS ( CHEMICAL FREE ),NGS,Fresh vegetables                         0   \n",
        "YELLOW SPLIT PEAS / 822G,Bob's Red Mill,Grains                               0   \n",
        "YELLOW WATERMELON,NGS,Fruits                                                 0   \n",
        "YING/YANG FACIAL ACNE SOAP,0,Cosmetics                                       0   \n",
        "YOUSSFI (TANGERINE),NGS,Fruits                                               0   \n",
        "ZARDA EXTRA VIRGIN OLIVE OIL,NGS,Oil & Vinegar                               0   \n",
        "ZUCCHINI,Kheir Misr,Fresh vegetables                                         0   \n",
        "ZUCCHINI,NGS,Fresh vegetables                                                0   \n",
        "ZUCCHINI,NGS,General                                                         0   \n",
        "ZUCCHINI ( CHEMICAL FREE ),0,Vegetables                                      0   \n",
        "ZUCCHINI ( CHEMICAL FREE ),NGS,Fresh vegetables                              0   \n",
        "ZUCCHINI (CHEMICAL FREE),0,Chemical free vegetables                          0   \n",
        "ZUCCHINI (CHEMICAL FREE),0,Vegetables                                      210   \n",
        "ZUCCHINI (ORGANIC),0,Vegetables                                            244   \n",
        "ZUCCHINI / 500G,NGS,Fresh Produce                                            0   \n",
        "ZUCCHINI FLOWERS,NGS,Fresh vegetables                                        0   \n",
        "ZUCCHINI FLOWERS (CHEMICAL FREE),0,Vegetables                              157   \n",
        "ZUCCHINI JAM WITH PISTACHIO & MASTIC (NATURAL),0,Jam                         0   \n",
        "\n",
        "                                                                      Jul 2015  \\\n",
        "7 GRAIN MILK / 946ML,Pacific Natural Foods,Milk                            0.0   \n",
        "ACAI BERRY JUICE,0,Beverages                                               0.0   \n",
        "ACAI BERRY JUICE,Berry company,Juices                                      0.0   \n",
        "ACNE FACIAL SOAP,Healing Herbs,Cosmetics                                   0.0   \n",
        "ACQUA PANA WATER 1000ML,NGS,Beverages                                      0.0   \n",
        "ACQUA PANA WATER 500ML,NGS,Beverages                                       0.0   \n",
        "ACQUA PANA WATER 500ML GLASS,NGS,Beverages                                 0.0   \n",
        "ACTIBIF CHEESE (FOR BETTER DIGESTION),0,cheese                             0.0   \n",
        "AGAR AGAR FLAKES (HAND HARVESTED) - WILD,0,Food supplements              172.0   \n",
        "AGAVE SYRUP ( ORGANIC ) / 473ML,Suzanne's Specialties,Sweeteners           0.0   \n",
        "ALL PURPOSE BAKING FLOUR ( GLUTEN FREE ),NGS,Flour                         0.0   \n",
        "ALL PURPOSE BAKING FLOUR ( GLUTEN FREE ) / 623G,Bob's Red Mill,Flour       0.0   \n",
        "ALL PURPOSE BAKING FLOUR (GLUTEN FREE),0,Baking products                 696.0   \n",
        "ALL PURPOSE BAKING FLOUR (GLUTEN FREE),0,General                           0.0   \n",
        "ALMOND BISCUITS (GLUTEN FREE - TRACES OF GLUTEN),0,Snacks                  0.0   \n",
        "ALMOND BREAD (GLUTEN FREE),0,Bread                                         0.0   \n",
        "ALMOND BUTTER,0,Nut butter                                                65.0   \n",
        "ALMOND BUTTER (HOME-MADE),Signature,spreads                                0.0   \n",
        "ALMOND BUTTER (NATURAL),0,Nut butter                                       0.0   \n",
        "ALMOND MEAL FLOUR,0,Baking products                                     1161.6   \n",
        "ALMOND MILK ( ORGANIC ),Alpro,Non-dairy milk                               0.0   \n",
        "ALMOND MILK ( ORGANIC ) / 946ML,Pacific Natural Foods,Non-dairy milk       0.0   \n",
        "ALMOND MILK ( ORGANIC ) 946ML,0,Non-dairy milk                             0.0   \n",
        "ALMOND MILK ( ORIGINAL ),NGS,Non-dairy milk                                0.0   \n",
        "ALMOND MILK (ORGANIC) - SUGAR-FREE,0,Non-dairy milk                        0.0   \n",
        "ALMOND MILK (UNSWEETENED),0,Non-dairy milk                                 0.0   \n",
        "ALMOND MILK WITH DARK CHOCOLATE,Pure almond,Non-dairy milk                 0.0   \n",
        "ALMOND MILK WITH VANILLA,Pure almond,Non-dairy milk                        0.0   \n",
        "ALMOND ORIGINAL (ORIGINAL),0,Non-dairy milk                                0.0   \n",
        "ALMOND'S AND OATS BODY SCRUB,0,Cosmetics                                   0.0   \n",
        "...                                                                        ...   \n",
        "XANTHAN GUM (GLUTEN FREE),0,Baking products                                0.0   \n",
        "YAKI NORI SHEETS,NGS,Japanese cuisine                                      0.0   \n",
        "YELLOW APPLES,NGS,Fruits                                                  78.0   \n",
        "YELLOW BROCCOLI,NGS,Fresh vegetables                                       0.0   \n",
        "YELLOW CAPSICUM ( CHEMICAL FREE ),NGS,Chemical free vegetables             0.0   \n",
        "YELLOW CARROT ( CHEMICAL FREE ),0,Vegetables                               0.0   \n",
        "YELLOW CARROT ( CHEMICAL FREE ),NGS,Fresh vegetables                       0.0   \n",
        "YELLOW CARROTS,NGS,Fresh vegetables                                        0.0   \n",
        "YELLOW CHERRY TOMATOES,Kheir Misr,Fresh vegetables                         0.0   \n",
        "YELLOW GRAPEFRUIT,0,Fresh fruits                                           0.0   \n",
        "YELLOW GRAPEFRUIT,NGS,Fruits                                              84.0   \n",
        "YELLOW MUSTARD,Eden Foods, Inc.,Spices                                     0.0   \n",
        "YELLOW ONIONS ( CHEMICAL FREE ),NGS,Fresh vegetables                       0.0   \n",
        "YELLOW SPLIT PEAS / 822G,Bob's Red Mill,Grains                             0.0   \n",
        "YELLOW WATERMELON,NGS,Fruits                                               0.0   \n",
        "YING/YANG FACIAL ACNE SOAP,0,Cosmetics                                     0.0   \n",
        "YOUSSFI (TANGERINE),NGS,Fruits                                             0.0   \n",
        "ZARDA EXTRA VIRGIN OLIVE OIL,NGS,Oil & Vinegar                             0.0   \n",
        "ZUCCHINI,Kheir Misr,Fresh vegetables                                       0.0   \n",
        "ZUCCHINI,NGS,Fresh vegetables                                              0.0   \n",
        "ZUCCHINI,NGS,General                                                       0.0   \n",
        "ZUCCHINI ( CHEMICAL FREE ),0,Vegetables                                    0.0   \n",
        "ZUCCHINI ( CHEMICAL FREE ),NGS,Fresh vegetables                            0.0   \n",
        "ZUCCHINI (CHEMICAL FREE),0,Chemical free vegetables                        0.0   \n",
        "ZUCCHINI (CHEMICAL FREE),0,Vegetables                                      7.5   \n",
        "ZUCCHINI (ORGANIC),0,Vegetables                                          403.2   \n",
        "ZUCCHINI / 500G,NGS,Fresh Produce                                          0.0   \n",
        "ZUCCHINI FLOWERS,NGS,Fresh vegetables                                      0.0   \n",
        "ZUCCHINI FLOWERS (CHEMICAL FREE),0,Vegetables                             44.0   \n",
        "ZUCCHINI JAM WITH PISTACHIO & MASTIC (NATURAL),0,Jam                       0.0   \n",
        "\n",
        "                                                                         Aug 2015  \\\n",
        "7 GRAIN MILK / 946ML,Pacific Natural Foods,Milk                          0.000000   \n",
        "ACAI BERRY JUICE,0,Beverages                                             0.000000   \n",
        "ACAI BERRY JUICE,Berry company,Juices                                    0.000000   \n",
        "ACNE FACIAL SOAP,Healing Herbs,Cosmetics                                 0.000000   \n",
        "ACQUA PANA WATER 1000ML,NGS,Beverages                                    0.000000   \n",
        "ACQUA PANA WATER 500ML,NGS,Beverages                                     0.000000   \n",
        "ACQUA PANA WATER 500ML GLASS,NGS,Beverages                               0.000000   \n",
        "ACTIBIF CHEESE (FOR BETTER DIGESTION),0,cheese                          68.000000   \n",
        "AGAR AGAR FLAKES (HAND HARVESTED) - WILD,0,Food supplements             86.000000   \n",
        "AGAVE SYRUP ( ORGANIC ) / 473ML,Suzanne's Specialties,Sweeteners         0.000000   \n",
        "ALL PURPOSE BAKING FLOUR ( GLUTEN FREE ),NGS,Flour                       0.000000   \n",
        "ALL PURPOSE BAKING FLOUR ( GLUTEN FREE ) / 623G,Bob's Red Mill,Flour     0.000000   \n",
        "ALL PURPOSE BAKING FLOUR (GLUTEN FREE),0,Baking products              1747.200000   \n",
        "ALL PURPOSE BAKING FLOUR (GLUTEN FREE),0,General                         0.000000   \n",
        "ALMOND BISCUITS (GLUTEN FREE - TRACES OF GLUTEN),0,Snacks                0.000000   \n",
        "ALMOND BREAD (GLUTEN FREE),0,Bread                                       0.000000   \n",
        "ALMOND BUTTER,0,Nut butter                                            1046.000000   \n",
        "ALMOND BUTTER (HOME-MADE),Signature,spreads                              0.000000   \n",
        "ALMOND BUTTER (NATURAL),0,Nut butter                                   130.000000   \n",
        "ALMOND MEAL FLOUR,0,Baking products                                   3168.000000   \n",
        "ALMOND MILK ( ORGANIC ),Alpro,Non-dairy milk                             0.000000   \n",
        "ALMOND MILK ( ORGANIC ) / 946ML,Pacific Natural Foods,Non-dairy milk     0.000000   \n",
        "ALMOND MILK ( ORGANIC ) 946ML,0,Non-dairy milk                           0.000000   \n",
        "ALMOND MILK ( ORIGINAL ),NGS,Non-dairy milk                              0.000000   \n",
        "ALMOND MILK (ORGANIC) - SUGAR-FREE,0,Non-dairy milk                      0.000000   \n",
        "ALMOND MILK (UNSWEETENED),0,Non-dairy milk                               0.000000   \n",
        "ALMOND MILK WITH DARK CHOCOLATE,Pure almond,Non-dairy milk               0.000000   \n",
        "ALMOND MILK WITH VANILLA,Pure almond,Non-dairy milk                      0.000000   \n",
        "ALMOND ORIGINAL (ORIGINAL),0,Non-dairy milk                              0.000000   \n",
        "ALMOND'S AND OATS BODY SCRUB,0,Cosmetics                                 0.000000   \n",
        "...                                                                           ...   \n",
        "XANTHAN GUM (GLUTEN FREE),0,Baking products                            660.000000   \n",
        "YAKI NORI SHEETS,NGS,Japanese cuisine                                    0.000000   \n",
        "YELLOW APPLES,NGS,Fruits                                               156.000000   \n",
        "YELLOW BROCCOLI,NGS,Fresh vegetables                                     0.000000   \n",
        "YELLOW CAPSICUM ( CHEMICAL FREE ),NGS,Chemical free vegetables           0.000000   \n",
        "YELLOW CARROT ( CHEMICAL FREE ),0,Vegetables                            30.000000   \n",
        "YELLOW CARROT ( CHEMICAL FREE ),NGS,Fresh vegetables                     0.000000   \n",
        "YELLOW CARROTS,NGS,Fresh vegetables                                      0.000000   \n",
        "YELLOW CHERRY TOMATOES,Kheir Misr,Fresh vegetables                       0.000000   \n",
        "YELLOW GRAPEFRUIT,0,Fresh fruits                                         0.000000   \n",
        "YELLOW GRAPEFRUIT,NGS,Fruits                                           140.846479   \n",
        "YELLOW MUSTARD,Eden Foods, Inc.,Spices                                   0.000000   \n",
        "YELLOW ONIONS ( CHEMICAL FREE ),NGS,Fresh vegetables                     0.000000   \n",
        "YELLOW SPLIT PEAS / 822G,Bob's Red Mill,Grains                           0.000000   \n",
        "YELLOW WATERMELON,NGS,Fruits                                            65.000000   \n",
        "YING/YANG FACIAL ACNE SOAP,0,Cosmetics                                   0.000000   \n",
        "YOUSSFI (TANGERINE),NGS,Fruits                                           0.000000   \n",
        "ZARDA EXTRA VIRGIN OLIVE OIL,NGS,Oil & Vinegar                           0.000000   \n",
        "ZUCCHINI,Kheir Misr,Fresh vegetables                                     0.000000   \n",
        "ZUCCHINI,NGS,Fresh vegetables                                            0.000000   \n",
        "ZUCCHINI,NGS,General                                                     0.000000   \n",
        "ZUCCHINI ( CHEMICAL FREE ),0,Vegetables                                  0.000000   \n",
        "ZUCCHINI ( CHEMICAL FREE ),NGS,Fresh vegetables                          0.000000   \n",
        "ZUCCHINI (CHEMICAL FREE),0,Chemical free vegetables                      0.000000   \n",
        "ZUCCHINI (CHEMICAL FREE),0,Vegetables                                  150.000000   \n",
        "ZUCCHINI (ORGANIC),0,Vegetables                                        342.794118   \n",
        "ZUCCHINI / 500G,NGS,Fresh Produce                                        0.000000   \n",
        "ZUCCHINI FLOWERS,NGS,Fresh vegetables                                    0.000000   \n",
        "ZUCCHINI FLOWERS (CHEMICAL FREE),0,Vegetables                            0.000000   \n",
        "ZUCCHINI JAM WITH PISTACHIO & MASTIC (NATURAL),0,Jam                     0.000000   \n",
        "\n",
        "                                                                      Sep 2015  \\\n",
        "7 GRAIN MILK / 946ML,Pacific Natural Foods,Milk                            0.0   \n",
        "ACAI BERRY JUICE,0,Beverages                                               0.0   \n",
        "ACAI BERRY JUICE,Berry company,Juices                                      0.0   \n",
        "ACNE FACIAL SOAP,Healing Herbs,Cosmetics                                   0.0   \n",
        "ACQUA PANA WATER 1000ML,NGS,Beverages                                      0.0   \n",
        "ACQUA PANA WATER 500ML,NGS,Beverages                                       0.0   \n",
        "ACQUA PANA WATER 500ML GLASS,NGS,Beverages                                 0.0   \n",
        "ACTIBIF CHEESE (FOR BETTER DIGESTION),0,cheese                           204.0   \n",
        "AGAR AGAR FLAKES (HAND HARVESTED) - WILD,0,Food supplements                0.0   \n",
        "AGAVE SYRUP ( ORGANIC ) / 473ML,Suzanne's Specialties,Sweeteners           0.0   \n",
        "ALL PURPOSE BAKING FLOUR ( GLUTEN FREE ),NGS,Flour                         0.0   \n",
        "ALL PURPOSE BAKING FLOUR ( GLUTEN FREE ) / 623G,Bob's Red Mill,Flour       0.0   \n",
        "ALL PURPOSE BAKING FLOUR (GLUTEN FREE),0,Baking products                1046.4   \n",
        "ALL PURPOSE BAKING FLOUR (GLUTEN FREE),0,General                          48.0   \n",
        "ALMOND BISCUITS (GLUTEN FREE - TRACES OF GLUTEN),0,Snacks                  0.0   \n",
        "ALMOND BREAD (GLUTEN FREE),0,Bread                                       180.0   \n",
        "ALMOND BUTTER,0,Nut butter                                               715.0   \n",
        "ALMOND BUTTER (HOME-MADE),Signature,spreads                                0.0   \n",
        "ALMOND BUTTER (NATURAL),0,Nut butter                                     325.0   \n",
        "ALMOND MEAL FLOUR,0,Baking products                                     2296.8   \n",
        "ALMOND MILK ( ORGANIC ),Alpro,Non-dairy milk                               0.0   \n",
        "ALMOND MILK ( ORGANIC ) / 946ML,Pacific Natural Foods,Non-dairy milk       0.0   \n",
        "ALMOND MILK ( ORGANIC ) 946ML,0,Non-dairy milk                             0.0   \n",
        "ALMOND MILK ( ORIGINAL ),NGS,Non-dairy milk                                0.0   \n",
        "ALMOND MILK (ORGANIC) - SUGAR-FREE,0,Non-dairy milk                        0.0   \n",
        "ALMOND MILK (UNSWEETENED),0,Non-dairy milk                                 0.0   \n",
        "ALMOND MILK WITH DARK CHOCOLATE,Pure almond,Non-dairy milk                 0.0   \n",
        "ALMOND MILK WITH VANILLA,Pure almond,Non-dairy milk                        0.0   \n",
        "ALMOND ORIGINAL (ORIGINAL),0,Non-dairy milk                                0.0   \n",
        "ALMOND'S AND OATS BODY SCRUB,0,Cosmetics                                   0.0   \n",
        "...                                                                        ...   \n",
        "XANTHAN GUM (GLUTEN FREE),0,Baking products                              264.0   \n",
        "YAKI NORI SHEETS,NGS,Japanese cuisine                                      0.0   \n",
        "YELLOW APPLES,NGS,Fruits                                                 305.0   \n",
        "YELLOW BROCCOLI,NGS,Fresh vegetables                                       0.0   \n",
        "YELLOW CAPSICUM ( CHEMICAL FREE ),NGS,Chemical free vegetables             0.0   \n",
        "YELLOW CARROT ( CHEMICAL FREE ),0,Vegetables                               0.0   \n",
        "YELLOW CARROT ( CHEMICAL FREE ),NGS,Fresh vegetables                       0.0   \n",
        "YELLOW CARROTS,NGS,Fresh vegetables                                        0.0   \n",
        "YELLOW CHERRY TOMATOES,Kheir Misr,Fresh vegetables                         0.0   \n",
        "YELLOW GRAPEFRUIT,0,Fresh fruits                                           0.0   \n",
        "YELLOW GRAPEFRUIT,NGS,Fruits                                              99.0   \n",
        "YELLOW MUSTARD,Eden Foods, Inc.,Spices                                     0.0   \n",
        "YELLOW ONIONS ( CHEMICAL FREE ),NGS,Fresh vegetables                       0.0   \n",
        "YELLOW SPLIT PEAS / 822G,Bob's Red Mill,Grains                             0.0   \n",
        "YELLOW WATERMELON,NGS,Fruits                                              65.0   \n",
        "YING/YANG FACIAL ACNE SOAP,0,Cosmetics                                     0.0   \n",
        "YOUSSFI (TANGERINE),NGS,Fruits                                             0.0   \n",
        "ZARDA EXTRA VIRGIN OLIVE OIL,NGS,Oil & Vinegar                             0.0   \n",
        "ZUCCHINI,Kheir Misr,Fresh vegetables                                       0.0   \n",
        "ZUCCHINI,NGS,Fresh vegetables                                              0.0   \n",
        "ZUCCHINI,NGS,General                                                       0.0   \n",
        "ZUCCHINI ( CHEMICAL FREE ),0,Vegetables                                    0.0   \n",
        "ZUCCHINI ( CHEMICAL FREE ),NGS,Fresh vegetables                            0.0   \n",
        "ZUCCHINI (CHEMICAL FREE),0,Chemical free vegetables                        0.0   \n",
        "ZUCCHINI (CHEMICAL FREE),0,Vegetables                                    330.0   \n",
        "ZUCCHINI (ORGANIC),0,Vegetables                                           56.0   \n",
        "ZUCCHINI / 500G,NGS,Fresh Produce                                          0.0   \n",
        "ZUCCHINI FLOWERS,NGS,Fresh vegetables                                      0.0   \n",
        "ZUCCHINI FLOWERS (CHEMICAL FREE),0,Vegetables                              0.0   \n",
        "ZUCCHINI JAM WITH PISTACHIO & MASTIC (NATURAL),0,Jam                     200.0   \n",
        "\n",
        "                                                                         Oct 2015  \\\n",
        "7 GRAIN MILK / 946ML,Pacific Natural Foods,Milk                          0.000000   \n",
        "ACAI BERRY JUICE,0,Beverages                                             0.000000   \n",
        "ACAI BERRY JUICE,Berry company,Juices                                    0.000000   \n",
        "ACNE FACIAL SOAP,Healing Herbs,Cosmetics                                 0.000000   \n",
        "ACQUA PANA WATER 1000ML,NGS,Beverages                                    0.000000   \n",
        "ACQUA PANA WATER 500ML,NGS,Beverages                                     0.000000   \n",
        "ACQUA PANA WATER 500ML GLASS,NGS,Beverages                               0.000000   \n",
        "ACTIBIF CHEESE (FOR BETTER DIGESTION),0,cheese                          68.000000   \n",
        "AGAR AGAR FLAKES (HAND HARVESTED) - WILD,0,Food supplements             86.000000   \n",
        "AGAVE SYRUP ( ORGANIC ) / 473ML,Suzanne's Specialties,Sweeteners         0.000000   \n",
        "ALL PURPOSE BAKING FLOUR ( GLUTEN FREE ),NGS,Flour                       0.000000   \n",
        "ALL PURPOSE BAKING FLOUR ( GLUTEN FREE ) / 623G,Bob's Red Mill,Flour     0.000000   \n",
        "ALL PURPOSE BAKING FLOUR (GLUTEN FREE),0,Baking products               192.000000   \n",
        "ALL PURPOSE BAKING FLOUR (GLUTEN FREE),0,General                       528.000000   \n",
        "ALMOND BISCUITS (GLUTEN FREE - TRACES OF GLUTEN),0,Snacks                0.000000   \n",
        "ALMOND BREAD (GLUTEN FREE),0,Bread                                       0.000000   \n",
        "ALMOND BUTTER,0,Nut butter                                            1683.722222   \n",
        "ALMOND BUTTER (HOME-MADE),Signature,spreads                              0.000000   \n",
        "ALMOND BUTTER (NATURAL),0,Nut butter                                   715.000000   \n",
        "ALMOND MEAL FLOUR,0,Baking products                                   1716.000000   \n",
        "ALMOND MILK ( ORGANIC ),Alpro,Non-dairy milk                             0.000000   \n",
        "ALMOND MILK ( ORGANIC ) / 946ML,Pacific Natural Foods,Non-dairy milk     0.000000   \n",
        "ALMOND MILK ( ORGANIC ) 946ML,0,Non-dairy milk                           0.000000   \n",
        "ALMOND MILK ( ORIGINAL ),NGS,Non-dairy milk                              0.000000   \n",
        "ALMOND MILK (ORGANIC) - SUGAR-FREE,0,Non-dairy milk                      0.000000   \n",
        "ALMOND MILK (UNSWEETENED),0,Non-dairy milk                               0.000000   \n",
        "ALMOND MILK WITH DARK CHOCOLATE,Pure almond,Non-dairy milk               0.000000   \n",
        "ALMOND MILK WITH VANILLA,Pure almond,Non-dairy milk                      0.000000   \n",
        "ALMOND ORIGINAL (ORIGINAL),0,Non-dairy milk                              0.000000   \n",
        "ALMOND'S AND OATS BODY SCRUB,0,Cosmetics                                 0.000000   \n",
        "...                                                                           ...   \n",
        "XANTHAN GUM (GLUTEN FREE),0,Baking products                            396.000000   \n",
        "YAKI NORI SHEETS,NGS,Japanese cuisine                                    0.000000   \n",
        "YELLOW APPLES,NGS,Fruits                                               413.408990   \n",
        "YELLOW BROCCOLI,NGS,Fresh vegetables                                     0.000000   \n",
        "YELLOW CAPSICUM ( CHEMICAL FREE ),NGS,Chemical free vegetables           0.000000   \n",
        "YELLOW CARROT ( CHEMICAL FREE ),0,Vegetables                             0.000000   \n",
        "YELLOW CARROT ( CHEMICAL FREE ),NGS,Fresh vegetables                     0.000000   \n",
        "YELLOW CARROTS,NGS,Fresh vegetables                                      0.000000   \n",
        "YELLOW CHERRY TOMATOES,Kheir Misr,Fresh vegetables                       0.000000   \n",
        "YELLOW GRAPEFRUIT,0,Fresh fruits                                         0.000000   \n",
        "YELLOW GRAPEFRUIT,NGS,Fruits                                            87.755294   \n",
        "YELLOW MUSTARD,Eden Foods, Inc.,Spices                                   0.000000   \n",
        "YELLOW ONIONS ( CHEMICAL FREE ),NGS,Fresh vegetables                     0.000000   \n",
        "YELLOW SPLIT PEAS / 822G,Bob's Red Mill,Grains                           0.000000   \n",
        "YELLOW WATERMELON,NGS,Fruits                                             0.000000   \n",
        "YING/YANG FACIAL ACNE SOAP,0,Cosmetics                                   0.000000   \n",
        "YOUSSFI (TANGERINE),NGS,Fruits                                           0.000000   \n",
        "ZARDA EXTRA VIRGIN OLIVE OIL,NGS,Oil & Vinegar                           0.000000   \n",
        "ZUCCHINI,Kheir Misr,Fresh vegetables                                     0.000000   \n",
        "ZUCCHINI,NGS,Fresh vegetables                                            0.000000   \n",
        "ZUCCHINI,NGS,General                                                     0.000000   \n",
        "ZUCCHINI ( CHEMICAL FREE ),0,Vegetables                                  0.000000   \n",
        "ZUCCHINI ( CHEMICAL FREE ),NGS,Fresh vegetables                          0.000000   \n",
        "ZUCCHINI (CHEMICAL FREE),0,Chemical free vegetables                      0.000000   \n",
        "ZUCCHINI (CHEMICAL FREE),0,Vegetables                                  318.076923   \n",
        "ZUCCHINI (ORGANIC),0,Vegetables                                        280.000000   \n",
        "ZUCCHINI / 500G,NGS,Fresh Produce                                        0.000000   \n",
        "ZUCCHINI FLOWERS,NGS,Fresh vegetables                                    0.000000   \n",
        "ZUCCHINI FLOWERS (CHEMICAL FREE),0,Vegetables                            0.000000   \n",
        "ZUCCHINI JAM WITH PISTACHIO & MASTIC (NATURAL),0,Jam                     0.000000   \n",
        "\n",
        "                                                                         Nov 2015  \\\n",
        "7 GRAIN MILK / 946ML,Pacific Natural Foods,Milk                          0.000000   \n",
        "ACAI BERRY JUICE,0,Beverages                                             0.000000   \n",
        "ACAI BERRY JUICE,Berry company,Juices                                    0.000000   \n",
        "ACNE FACIAL SOAP,Healing Herbs,Cosmetics                                 0.000000   \n",
        "ACQUA PANA WATER 1000ML,NGS,Beverages                                    0.000000   \n",
        "ACQUA PANA WATER 500ML,NGS,Beverages                                     0.000000   \n",
        "ACQUA PANA WATER 500ML GLASS,NGS,Beverages                               0.000000   \n",
        "ACTIBIF CHEESE (FOR BETTER DIGESTION),0,cheese                           0.000000   \n",
        "AGAR AGAR FLAKES (HAND HARVESTED) - WILD,0,Food supplements              0.000000   \n",
        "AGAVE SYRUP ( ORGANIC ) / 473ML,Suzanne's Specialties,Sweeteners         0.000000   \n",
        "ALL PURPOSE BAKING FLOUR ( GLUTEN FREE ),NGS,Flour                       0.000000   \n",
        "ALL PURPOSE BAKING FLOUR ( GLUTEN FREE ) / 623G,Bob's Red Mill,Flour     0.000000   \n",
        "ALL PURPOSE BAKING FLOUR (GLUTEN FREE),0,Baking products                 0.000000   \n",
        "ALL PURPOSE BAKING FLOUR (GLUTEN FREE),0,General                       240.000000   \n",
        "ALMOND BISCUITS (GLUTEN FREE - TRACES OF GLUTEN),0,Snacks                0.000000   \n",
        "ALMOND BREAD (GLUTEN FREE),0,Bread                                       0.000000   \n",
        "ALMOND BUTTER,0,Nut butter                                            1755.000000   \n",
        "ALMOND BUTTER (HOME-MADE),Signature,spreads                              0.000000   \n",
        "ALMOND BUTTER (NATURAL),0,Nut butter                                   780.000000   \n",
        "ALMOND MEAL FLOUR,0,Baking products                                   3892.412286   \n",
        "ALMOND MILK ( ORGANIC ),Alpro,Non-dairy milk                             0.000000   \n",
        "ALMOND MILK ( ORGANIC ) / 946ML,Pacific Natural Foods,Non-dairy milk     0.000000   \n",
        "ALMOND MILK ( ORGANIC ) 946ML,0,Non-dairy milk                           0.000000   \n",
        "ALMOND MILK ( ORIGINAL ),NGS,Non-dairy milk                              0.000000   \n",
        "ALMOND MILK (ORGANIC) - SUGAR-FREE,0,Non-dairy milk                   2521.720515   \n",
        "ALMOND MILK (UNSWEETENED),0,Non-dairy milk                               0.000000   \n",
        "ALMOND MILK WITH DARK CHOCOLATE,Pure almond,Non-dairy milk               0.000000   \n",
        "ALMOND MILK WITH VANILLA,Pure almond,Non-dairy milk                      0.000000   \n",
        "ALMOND ORIGINAL (ORIGINAL),0,Non-dairy milk                              0.000000   \n",
        "ALMOND'S AND OATS BODY SCRUB,0,Cosmetics                                 0.000000   \n",
        "...                                                                           ...   \n",
        "XANTHAN GUM (GLUTEN FREE),0,Baking products                           1596.000000   \n",
        "YAKI NORI SHEETS,NGS,Japanese cuisine                                    0.000000   \n",
        "YELLOW APPLES,NGS,Fruits                                               504.000000   \n",
        "YELLOW BROCCOLI,NGS,Fresh vegetables                                     0.000000   \n",
        "YELLOW CAPSICUM ( CHEMICAL FREE ),NGS,Chemical free vegetables           0.000000   \n",
        "YELLOW CARROT ( CHEMICAL FREE ),0,Vegetables                             0.000000   \n",
        "YELLOW CARROT ( CHEMICAL FREE ),NGS,Fresh vegetables                     0.000000   \n",
        "YELLOW CARROTS,NGS,Fresh vegetables                                      0.000000   \n",
        "YELLOW CHERRY TOMATOES,Kheir Misr,Fresh vegetables                       0.000000   \n",
        "YELLOW GRAPEFRUIT,0,Fresh fruits                                         0.000000   \n",
        "YELLOW GRAPEFRUIT,NGS,Fruits                                            41.899052   \n",
        "YELLOW MUSTARD,Eden Foods, Inc.,Spices                                  69.189577   \n",
        "YELLOW ONIONS ( CHEMICAL FREE ),NGS,Fresh vegetables                     0.000000   \n",
        "YELLOW SPLIT PEAS / 822G,Bob's Red Mill,Grains                           0.000000   \n",
        "YELLOW WATERMELON,NGS,Fruits                                             0.000000   \n",
        "YING/YANG FACIAL ACNE SOAP,0,Cosmetics                                   0.000000   \n",
        "YOUSSFI (TANGERINE),NGS,Fruits                                          25.000000   \n",
        "ZARDA EXTRA VIRGIN OLIVE OIL,NGS,Oil & Vinegar                           0.000000   \n",
        "ZUCCHINI,Kheir Misr,Fresh vegetables                                     0.000000   \n",
        "ZUCCHINI,NGS,Fresh vegetables                                            0.000000   \n",
        "ZUCCHINI,NGS,General                                                    69.871046   \n",
        "ZUCCHINI ( CHEMICAL FREE ),0,Vegetables                                  0.000000   \n",
        "ZUCCHINI ( CHEMICAL FREE ),NGS,Fresh vegetables                          0.000000   \n",
        "ZUCCHINI (CHEMICAL FREE),0,Chemical free vegetables                      0.000000   \n",
        "ZUCCHINI (CHEMICAL FREE),0,Vegetables                                  695.681924   \n",
        "ZUCCHINI (ORGANIC),0,Vegetables                                          0.000000   \n",
        "ZUCCHINI / 500G,NGS,Fresh Produce                                        0.000000   \n",
        "ZUCCHINI FLOWERS,NGS,Fresh vegetables                                    0.000000   \n",
        "ZUCCHINI FLOWERS (CHEMICAL FREE),0,Vegetables                            0.000000   \n",
        "ZUCCHINI JAM WITH PISTACHIO & MASTIC (NATURAL),0,Jam                     0.000000   \n",
        "\n",
        "                                                                         Dec 2015  \n",
        "7 GRAIN MILK / 946ML,Pacific Natural Foods,Milk                          0.000000  \n",
        "ACAI BERRY JUICE,0,Beverages                                            60.000000  \n",
        "ACAI BERRY JUICE,Berry company,Juices                                    0.000000  \n",
        "ACNE FACIAL SOAP,Healing Herbs,Cosmetics                                 0.000000  \n",
        "ACQUA PANA WATER 1000ML,NGS,Beverages                                    0.000000  \n",
        "ACQUA PANA WATER 500ML,NGS,Beverages                                     0.000000  \n",
        "ACQUA PANA WATER 500ML GLASS,NGS,Beverages                               0.000000  \n",
        "ACTIBIF CHEESE (FOR BETTER DIGESTION),0,cheese                           0.000000  \n",
        "AGAR AGAR FLAKES (HAND HARVESTED) - WILD,0,Food supplements            258.000000  \n",
        "AGAVE SYRUP ( ORGANIC ) / 473ML,Suzanne's Specialties,Sweeteners         0.000000  \n",
        "ALL PURPOSE BAKING FLOUR ( GLUTEN FREE ),NGS,Flour                       0.000000  \n",
        "ALL PURPOSE BAKING FLOUR ( GLUTEN FREE ) / 623G,Bob's Red Mill,Flour     0.000000  \n",
        "ALL PURPOSE BAKING FLOUR (GLUTEN FREE),0,Baking products               495.000000  \n",
        "ALL PURPOSE BAKING FLOUR (GLUTEN FREE),0,General                         0.000000  \n",
        "ALMOND BISCUITS (GLUTEN FREE - TRACES OF GLUTEN),0,Snacks                0.000000  \n",
        "ALMOND BREAD (GLUTEN FREE),0,Bread                                       0.000000  \n",
        "ALMOND BUTTER,0,Nut butter                                            2648.345747  \n",
        "ALMOND BUTTER (HOME-MADE),Signature,spreads                              0.000000  \n",
        "ALMOND BUTTER (NATURAL),0,Nut butter                                   650.000000  \n",
        "ALMOND MEAL FLOUR,0,Baking products                                    -15.575221  \n",
        "ALMOND MILK ( ORGANIC ),Alpro,Non-dairy milk                             0.000000  \n",
        "ALMOND MILK ( ORGANIC ) / 946ML,Pacific Natural Foods,Non-dairy milk     0.000000  \n",
        "ALMOND MILK ( ORGANIC ) 946ML,0,Non-dairy milk                           0.000000  \n",
        "ALMOND MILK ( ORIGINAL ),NGS,Non-dairy milk                              0.000000  \n",
        "ALMOND MILK (ORGANIC) - SUGAR-FREE,0,Non-dairy milk                   2530.000000  \n",
        "ALMOND MILK (UNSWEETENED),0,Non-dairy milk                               0.000000  \n",
        "ALMOND MILK WITH DARK CHOCOLATE,Pure almond,Non-dairy milk               0.000000  \n",
        "ALMOND MILK WITH VANILLA,Pure almond,Non-dairy milk                      0.000000  \n",
        "ALMOND ORIGINAL (ORIGINAL),0,Non-dairy milk                              0.000000  \n",
        "ALMOND'S AND OATS BODY SCRUB,0,Cosmetics                                 0.000000  \n",
        "...                                                                           ...  \n",
        "XANTHAN GUM (GLUTEN FREE),0,Baking products                              0.000000  \n",
        "YAKI NORI SHEETS,NGS,Japanese cuisine                                    0.000000  \n",
        "YELLOW APPLES,NGS,Fruits                                                75.400000  \n",
        "YELLOW BROCCOLI,NGS,Fresh vegetables                                     0.000000  \n",
        "YELLOW CAPSICUM ( CHEMICAL FREE ),NGS,Chemical free vegetables           0.000000  \n",
        "YELLOW CARROT ( CHEMICAL FREE ),0,Vegetables                             0.000000  \n",
        "YELLOW CARROT ( CHEMICAL FREE ),NGS,Fresh vegetables                     0.000000  \n",
        "YELLOW CARROTS,NGS,Fresh vegetables                                      0.000000  \n",
        "YELLOW CHERRY TOMATOES,Kheir Misr,Fresh vegetables                       0.000000  \n",
        "YELLOW GRAPEFRUIT,0,Fresh fruits                                         0.000000  \n",
        "YELLOW GRAPEFRUIT,NGS,Fruits                                             9.000000  \n",
        "YELLOW MUSTARD,Eden Foods, Inc.,Spices                                  49.505758  \n",
        "YELLOW ONIONS ( CHEMICAL FREE ),NGS,Fresh vegetables                     0.000000  \n",
        "YELLOW SPLIT PEAS / 822G,Bob's Red Mill,Grains                           0.000000  \n",
        "YELLOW WATERMELON,NGS,Fruits                                             0.000000  \n",
        "YING/YANG FACIAL ACNE SOAP,0,Cosmetics                                   0.000000  \n",
        "YOUSSFI (TANGERINE),NGS,Fruits                                           0.000000  \n",
        "ZARDA EXTRA VIRGIN OLIVE OIL,NGS,Oil & Vinegar                           0.000000  \n",
        "ZUCCHINI,Kheir Misr,Fresh vegetables                                     0.000000  \n",
        "ZUCCHINI,NGS,Fresh vegetables                                            0.000000  \n",
        "ZUCCHINI,NGS,General                                                     0.000000  \n",
        "ZUCCHINI ( CHEMICAL FREE ),0,Vegetables                                  0.000000  \n",
        "ZUCCHINI ( CHEMICAL FREE ),NGS,Fresh vegetables                          0.000000  \n",
        "ZUCCHINI (CHEMICAL FREE),0,Chemical free vegetables                      0.000000  \n",
        "ZUCCHINI (CHEMICAL FREE),0,Vegetables                                  212.509227  \n",
        "ZUCCHINI (ORGANIC),0,Vegetables                                        181.734738  \n",
        "ZUCCHINI / 500G,NGS,Fresh Produce                                        0.000000  \n",
        "ZUCCHINI FLOWERS,NGS,Fresh vegetables                                    0.000000  \n",
        "ZUCCHINI FLOWERS (CHEMICAL FREE),0,Vegetables                            0.000000  \n",
        "ZUCCHINI JAM WITH PISTACHIO & MASTIC (NATURAL),0,Jam                     0.000000  \n",
        "\n",
        "[1867 rows x 47 columns]"
       ]
      }
     ],
     "prompt_number": 7
    },
    {
     "cell_type": "code",
     "collapsed": false,
     "input": [
      "#retrieve revenue for each product date combination from old df\n",
      "for i in range(0, max(df2.index)+1):\n",
      "    df2.loc[i, 'Revenue'] = df.loc[df2.loc[i, 'New name'], df2.loc[i, 'Date']]\n",
      "df2"
     ],
     "language": "python",
     "metadata": {},
     "outputs": [
      {
       "html": [
        "<div style=\"max-height:1000px;max-width:1500px;overflow:auto;\">\n",
        "<table border=\"1\" class=\"dataframe\">\n",
        "  <thead>\n",
        "    <tr style=\"text-align: right;\">\n",
        "      <th></th>\n",
        "      <th>Product</th>\n",
        "      <th>Brand</th>\n",
        "      <th>Type</th>\n",
        "      <th>Date</th>\n",
        "      <th>New name</th>\n",
        "      <th>Revenue</th>\n",
        "    </tr>\n",
        "  </thead>\n",
        "  <tbody>\n",
        "    <tr>\n",
        "      <th>0    </th>\n",
        "      <td>                           7 GRAIN MILK / 946ML</td>\n",
        "      <td> Pacific Natural Foods</td>\n",
        "      <td> Milk</td>\n",
        "      <td> May 2012</td>\n",
        "      <td>   7 GRAIN MILK / 946ML,Pacific Natural Foods,Milk</td>\n",
        "      <td>   0.0</td>\n",
        "    </tr>\n",
        "    <tr>\n",
        "      <th>1    </th>\n",
        "      <td>                           7 GRAIN MILK / 946ML</td>\n",
        "      <td> Pacific Natural Foods</td>\n",
        "      <td> Milk</td>\n",
        "      <td> Jun 2012</td>\n",
        "      <td>   7 GRAIN MILK / 946ML,Pacific Natural Foods,Milk</td>\n",
        "      <td>   0.0</td>\n",
        "    </tr>\n",
        "    <tr>\n",
        "      <th>2    </th>\n",
        "      <td>                           7 GRAIN MILK / 946ML</td>\n",
        "      <td> Pacific Natural Foods</td>\n",
        "      <td> Milk</td>\n",
        "      <td> Jul 2012</td>\n",
        "      <td>   7 GRAIN MILK / 946ML,Pacific Natural Foods,Milk</td>\n",
        "      <td>   0.0</td>\n",
        "    </tr>\n",
        "    <tr>\n",
        "      <th>3    </th>\n",
        "      <td>                           7 GRAIN MILK / 946ML</td>\n",
        "      <td> Pacific Natural Foods</td>\n",
        "      <td> Milk</td>\n",
        "      <td> Aug 2012</td>\n",
        "      <td>   7 GRAIN MILK / 946ML,Pacific Natural Foods,Milk</td>\n",
        "      <td>   0.0</td>\n",
        "    </tr>\n",
        "    <tr>\n",
        "      <th>4    </th>\n",
        "      <td>                           7 GRAIN MILK / 946ML</td>\n",
        "      <td> Pacific Natural Foods</td>\n",
        "      <td> Milk</td>\n",
        "      <td> Sep 2012</td>\n",
        "      <td>   7 GRAIN MILK / 946ML,Pacific Natural Foods,Milk</td>\n",
        "      <td>   0.0</td>\n",
        "    </tr>\n",
        "    <tr>\n",
        "      <th>5    </th>\n",
        "      <td>                           7 GRAIN MILK / 946ML</td>\n",
        "      <td> Pacific Natural Foods</td>\n",
        "      <td> Milk</td>\n",
        "      <td> Oct 2012</td>\n",
        "      <td>   7 GRAIN MILK / 946ML,Pacific Natural Foods,Milk</td>\n",
        "      <td>   0.0</td>\n",
        "    </tr>\n",
        "    <tr>\n",
        "      <th>6    </th>\n",
        "      <td>                           7 GRAIN MILK / 946ML</td>\n",
        "      <td> Pacific Natural Foods</td>\n",
        "      <td> Milk</td>\n",
        "      <td> Nov 2012</td>\n",
        "      <td>   7 GRAIN MILK / 946ML,Pacific Natural Foods,Milk</td>\n",
        "      <td>   0.0</td>\n",
        "    </tr>\n",
        "    <tr>\n",
        "      <th>7    </th>\n",
        "      <td>                           7 GRAIN MILK / 946ML</td>\n",
        "      <td> Pacific Natural Foods</td>\n",
        "      <td> Milk</td>\n",
        "      <td> Dec 2012</td>\n",
        "      <td>   7 GRAIN MILK / 946ML,Pacific Natural Foods,Milk</td>\n",
        "      <td>  31.9</td>\n",
        "    </tr>\n",
        "    <tr>\n",
        "      <th>8    </th>\n",
        "      <td>                           7 GRAIN MILK / 946ML</td>\n",
        "      <td> Pacific Natural Foods</td>\n",
        "      <td> Milk</td>\n",
        "      <td> Jan 2013</td>\n",
        "      <td>   7 GRAIN MILK / 946ML,Pacific Natural Foods,Milk</td>\n",
        "      <td> 127.6</td>\n",
        "    </tr>\n",
        "    <tr>\n",
        "      <th>9    </th>\n",
        "      <td>                           7 GRAIN MILK / 946ML</td>\n",
        "      <td> Pacific Natural Foods</td>\n",
        "      <td> Milk</td>\n",
        "      <td> Feb 2013</td>\n",
        "      <td>   7 GRAIN MILK / 946ML,Pacific Natural Foods,Milk</td>\n",
        "      <td>  31.9</td>\n",
        "    </tr>\n",
        "    <tr>\n",
        "      <th>10   </th>\n",
        "      <td>                           7 GRAIN MILK / 946ML</td>\n",
        "      <td> Pacific Natural Foods</td>\n",
        "      <td> Milk</td>\n",
        "      <td> Mar 2013</td>\n",
        "      <td>   7 GRAIN MILK / 946ML,Pacific Natural Foods,Milk</td>\n",
        "      <td> 255.2</td>\n",
        "    </tr>\n",
        "    <tr>\n",
        "      <th>11   </th>\n",
        "      <td>                           7 GRAIN MILK / 946ML</td>\n",
        "      <td> Pacific Natural Foods</td>\n",
        "      <td> Milk</td>\n",
        "      <td> Apr 2013</td>\n",
        "      <td>   7 GRAIN MILK / 946ML,Pacific Natural Foods,Milk</td>\n",
        "      <td> 382.8</td>\n",
        "    </tr>\n",
        "    <tr>\n",
        "      <th>12   </th>\n",
        "      <td>                           7 GRAIN MILK / 946ML</td>\n",
        "      <td> Pacific Natural Foods</td>\n",
        "      <td> Milk</td>\n",
        "      <td> May 2013</td>\n",
        "      <td>   7 GRAIN MILK / 946ML,Pacific Natural Foods,Milk</td>\n",
        "      <td>  31.9</td>\n",
        "    </tr>\n",
        "    <tr>\n",
        "      <th>13   </th>\n",
        "      <td>                           7 GRAIN MILK / 946ML</td>\n",
        "      <td> Pacific Natural Foods</td>\n",
        "      <td> Milk</td>\n",
        "      <td> Jun 2013</td>\n",
        "      <td>   7 GRAIN MILK / 946ML,Pacific Natural Foods,Milk</td>\n",
        "      <td>  95.7</td>\n",
        "    </tr>\n",
        "    <tr>\n",
        "      <th>14   </th>\n",
        "      <td>                           7 GRAIN MILK / 946ML</td>\n",
        "      <td> Pacific Natural Foods</td>\n",
        "      <td> Milk</td>\n",
        "      <td> Jul 2013</td>\n",
        "      <td>   7 GRAIN MILK / 946ML,Pacific Natural Foods,Milk</td>\n",
        "      <td>   0.0</td>\n",
        "    </tr>\n",
        "    <tr>\n",
        "      <th>15   </th>\n",
        "      <td>                           7 GRAIN MILK / 946ML</td>\n",
        "      <td> Pacific Natural Foods</td>\n",
        "      <td> Milk</td>\n",
        "      <td> Aug 2013</td>\n",
        "      <td>   7 GRAIN MILK / 946ML,Pacific Natural Foods,Milk</td>\n",
        "      <td>  31.9</td>\n",
        "    </tr>\n",
        "    <tr>\n",
        "      <th>16   </th>\n",
        "      <td>                           7 GRAIN MILK / 946ML</td>\n",
        "      <td> Pacific Natural Foods</td>\n",
        "      <td> Milk</td>\n",
        "      <td> Sep 2013</td>\n",
        "      <td>   7 GRAIN MILK / 946ML,Pacific Natural Foods,Milk</td>\n",
        "      <td> 302.4</td>\n",
        "    </tr>\n",
        "    <tr>\n",
        "      <th>17   </th>\n",
        "      <td>                           7 GRAIN MILK / 946ML</td>\n",
        "      <td> Pacific Natural Foods</td>\n",
        "      <td> Milk</td>\n",
        "      <td> Oct 2013</td>\n",
        "      <td>   7 GRAIN MILK / 946ML,Pacific Natural Foods,Milk</td>\n",
        "      <td> 134.4</td>\n",
        "    </tr>\n",
        "    <tr>\n",
        "      <th>18   </th>\n",
        "      <td>                           7 GRAIN MILK / 946ML</td>\n",
        "      <td> Pacific Natural Foods</td>\n",
        "      <td> Milk</td>\n",
        "      <td> Nov 2013</td>\n",
        "      <td>   7 GRAIN MILK / 946ML,Pacific Natural Foods,Milk</td>\n",
        "      <td>  67.2</td>\n",
        "    </tr>\n",
        "    <tr>\n",
        "      <th>19   </th>\n",
        "      <td>                           7 GRAIN MILK / 946ML</td>\n",
        "      <td> Pacific Natural Foods</td>\n",
        "      <td> Milk</td>\n",
        "      <td> Dec 2013</td>\n",
        "      <td>   7 GRAIN MILK / 946ML,Pacific Natural Foods,Milk</td>\n",
        "      <td>   0.0</td>\n",
        "    </tr>\n",
        "    <tr>\n",
        "      <th>20   </th>\n",
        "      <td>                           7 GRAIN MILK / 946ML</td>\n",
        "      <td> Pacific Natural Foods</td>\n",
        "      <td> Milk</td>\n",
        "      <td> Jan 2014</td>\n",
        "      <td>   7 GRAIN MILK / 946ML,Pacific Natural Foods,Milk</td>\n",
        "      <td>   0.0</td>\n",
        "    </tr>\n",
        "    <tr>\n",
        "      <th>21   </th>\n",
        "      <td>                           7 GRAIN MILK / 946ML</td>\n",
        "      <td> Pacific Natural Foods</td>\n",
        "      <td> Milk</td>\n",
        "      <td> Feb 2014</td>\n",
        "      <td>   7 GRAIN MILK / 946ML,Pacific Natural Foods,Milk</td>\n",
        "      <td>   0.0</td>\n",
        "    </tr>\n",
        "    <tr>\n",
        "      <th>22   </th>\n",
        "      <td>                           7 GRAIN MILK / 946ML</td>\n",
        "      <td> Pacific Natural Foods</td>\n",
        "      <td> Milk</td>\n",
        "      <td> Mar 2014</td>\n",
        "      <td>   7 GRAIN MILK / 946ML,Pacific Natural Foods,Milk</td>\n",
        "      <td>   0.0</td>\n",
        "    </tr>\n",
        "    <tr>\n",
        "      <th>23   </th>\n",
        "      <td>                           7 GRAIN MILK / 946ML</td>\n",
        "      <td> Pacific Natural Foods</td>\n",
        "      <td> Milk</td>\n",
        "      <td> Apr 2014</td>\n",
        "      <td>   7 GRAIN MILK / 946ML,Pacific Natural Foods,Milk</td>\n",
        "      <td>   0.0</td>\n",
        "    </tr>\n",
        "    <tr>\n",
        "      <th>24   </th>\n",
        "      <td>                           7 GRAIN MILK / 946ML</td>\n",
        "      <td> Pacific Natural Foods</td>\n",
        "      <td> Milk</td>\n",
        "      <td> May 2014</td>\n",
        "      <td>   7 GRAIN MILK / 946ML,Pacific Natural Foods,Milk</td>\n",
        "      <td>   0.0</td>\n",
        "    </tr>\n",
        "    <tr>\n",
        "      <th>25   </th>\n",
        "      <td>                           7 GRAIN MILK / 946ML</td>\n",
        "      <td> Pacific Natural Foods</td>\n",
        "      <td> Milk</td>\n",
        "      <td> Jun 2014</td>\n",
        "      <td>   7 GRAIN MILK / 946ML,Pacific Natural Foods,Milk</td>\n",
        "      <td>   0.0</td>\n",
        "    </tr>\n",
        "    <tr>\n",
        "      <th>26   </th>\n",
        "      <td>                           7 GRAIN MILK / 946ML</td>\n",
        "      <td> Pacific Natural Foods</td>\n",
        "      <td> Milk</td>\n",
        "      <td> Jul 2014</td>\n",
        "      <td>   7 GRAIN MILK / 946ML,Pacific Natural Foods,Milk</td>\n",
        "      <td>   0.0</td>\n",
        "    </tr>\n",
        "    <tr>\n",
        "      <th>27   </th>\n",
        "      <td>                           7 GRAIN MILK / 946ML</td>\n",
        "      <td> Pacific Natural Foods</td>\n",
        "      <td> Milk</td>\n",
        "      <td> Aug 2014</td>\n",
        "      <td>   7 GRAIN MILK / 946ML,Pacific Natural Foods,Milk</td>\n",
        "      <td>   0.0</td>\n",
        "    </tr>\n",
        "    <tr>\n",
        "      <th>28   </th>\n",
        "      <td>                           7 GRAIN MILK / 946ML</td>\n",
        "      <td> Pacific Natural Foods</td>\n",
        "      <td> Milk</td>\n",
        "      <td> Sep 2014</td>\n",
        "      <td>   7 GRAIN MILK / 946ML,Pacific Natural Foods,Milk</td>\n",
        "      <td>   0.0</td>\n",
        "    </tr>\n",
        "    <tr>\n",
        "      <th>29   </th>\n",
        "      <td>                           7 GRAIN MILK / 946ML</td>\n",
        "      <td> Pacific Natural Foods</td>\n",
        "      <td> Milk</td>\n",
        "      <td> Oct 2014</td>\n",
        "      <td>   7 GRAIN MILK / 946ML,Pacific Natural Foods,Milk</td>\n",
        "      <td>   0.0</td>\n",
        "    </tr>\n",
        "    <tr>\n",
        "      <th>...</th>\n",
        "      <td>...</td>\n",
        "      <td>...</td>\n",
        "      <td>...</td>\n",
        "      <td>...</td>\n",
        "      <td>...</td>\n",
        "      <td>...</td>\n",
        "    </tr>\n",
        "    <tr>\n",
        "      <th>82118</th>\n",
        "      <td> ZUCCHINI JAM WITH PISTACHIO &amp; MASTIC (NATURAL)</td>\n",
        "      <td>                     0</td>\n",
        "      <td>  Jam</td>\n",
        "      <td> Jul 2013</td>\n",
        "      <td> ZUCCHINI JAM WITH PISTACHIO &amp; MASTIC (NATURAL)...</td>\n",
        "      <td>   0.0</td>\n",
        "    </tr>\n",
        "    <tr>\n",
        "      <th>82119</th>\n",
        "      <td> ZUCCHINI JAM WITH PISTACHIO &amp; MASTIC (NATURAL)</td>\n",
        "      <td>                     0</td>\n",
        "      <td>  Jam</td>\n",
        "      <td> Aug 2013</td>\n",
        "      <td> ZUCCHINI JAM WITH PISTACHIO &amp; MASTIC (NATURAL)...</td>\n",
        "      <td>   0.0</td>\n",
        "    </tr>\n",
        "    <tr>\n",
        "      <th>82120</th>\n",
        "      <td> ZUCCHINI JAM WITH PISTACHIO &amp; MASTIC (NATURAL)</td>\n",
        "      <td>                     0</td>\n",
        "      <td>  Jam</td>\n",
        "      <td> Sep 2013</td>\n",
        "      <td> ZUCCHINI JAM WITH PISTACHIO &amp; MASTIC (NATURAL)...</td>\n",
        "      <td>   0.0</td>\n",
        "    </tr>\n",
        "    <tr>\n",
        "      <th>82121</th>\n",
        "      <td> ZUCCHINI JAM WITH PISTACHIO &amp; MASTIC (NATURAL)</td>\n",
        "      <td>                     0</td>\n",
        "      <td>  Jam</td>\n",
        "      <td> Oct 2013</td>\n",
        "      <td> ZUCCHINI JAM WITH PISTACHIO &amp; MASTIC (NATURAL)...</td>\n",
        "      <td>   0.0</td>\n",
        "    </tr>\n",
        "    <tr>\n",
        "      <th>82122</th>\n",
        "      <td> ZUCCHINI JAM WITH PISTACHIO &amp; MASTIC (NATURAL)</td>\n",
        "      <td>                     0</td>\n",
        "      <td>  Jam</td>\n",
        "      <td> Nov 2013</td>\n",
        "      <td> ZUCCHINI JAM WITH PISTACHIO &amp; MASTIC (NATURAL)...</td>\n",
        "      <td>   0.0</td>\n",
        "    </tr>\n",
        "    <tr>\n",
        "      <th>82123</th>\n",
        "      <td> ZUCCHINI JAM WITH PISTACHIO &amp; MASTIC (NATURAL)</td>\n",
        "      <td>                     0</td>\n",
        "      <td>  Jam</td>\n",
        "      <td> Dec 2013</td>\n",
        "      <td> ZUCCHINI JAM WITH PISTACHIO &amp; MASTIC (NATURAL)...</td>\n",
        "      <td>   0.0</td>\n",
        "    </tr>\n",
        "    <tr>\n",
        "      <th>82124</th>\n",
        "      <td> ZUCCHINI JAM WITH PISTACHIO &amp; MASTIC (NATURAL)</td>\n",
        "      <td>                     0</td>\n",
        "      <td>  Jam</td>\n",
        "      <td> Jan 2014</td>\n",
        "      <td> ZUCCHINI JAM WITH PISTACHIO &amp; MASTIC (NATURAL)...</td>\n",
        "      <td>   0.0</td>\n",
        "    </tr>\n",
        "    <tr>\n",
        "      <th>82125</th>\n",
        "      <td> ZUCCHINI JAM WITH PISTACHIO &amp; MASTIC (NATURAL)</td>\n",
        "      <td>                     0</td>\n",
        "      <td>  Jam</td>\n",
        "      <td> Feb 2014</td>\n",
        "      <td> ZUCCHINI JAM WITH PISTACHIO &amp; MASTIC (NATURAL)...</td>\n",
        "      <td>   0.0</td>\n",
        "    </tr>\n",
        "    <tr>\n",
        "      <th>82126</th>\n",
        "      <td> ZUCCHINI JAM WITH PISTACHIO &amp; MASTIC (NATURAL)</td>\n",
        "      <td>                     0</td>\n",
        "      <td>  Jam</td>\n",
        "      <td> Mar 2014</td>\n",
        "      <td> ZUCCHINI JAM WITH PISTACHIO &amp; MASTIC (NATURAL)...</td>\n",
        "      <td>   0.0</td>\n",
        "    </tr>\n",
        "    <tr>\n",
        "      <th>82127</th>\n",
        "      <td> ZUCCHINI JAM WITH PISTACHIO &amp; MASTIC (NATURAL)</td>\n",
        "      <td>                     0</td>\n",
        "      <td>  Jam</td>\n",
        "      <td> Apr 2014</td>\n",
        "      <td> ZUCCHINI JAM WITH PISTACHIO &amp; MASTIC (NATURAL)...</td>\n",
        "      <td>   0.0</td>\n",
        "    </tr>\n",
        "    <tr>\n",
        "      <th>82128</th>\n",
        "      <td> ZUCCHINI JAM WITH PISTACHIO &amp; MASTIC (NATURAL)</td>\n",
        "      <td>                     0</td>\n",
        "      <td>  Jam</td>\n",
        "      <td> May 2014</td>\n",
        "      <td> ZUCCHINI JAM WITH PISTACHIO &amp; MASTIC (NATURAL)...</td>\n",
        "      <td>   0.0</td>\n",
        "    </tr>\n",
        "    <tr>\n",
        "      <th>82129</th>\n",
        "      <td> ZUCCHINI JAM WITH PISTACHIO &amp; MASTIC (NATURAL)</td>\n",
        "      <td>                     0</td>\n",
        "      <td>  Jam</td>\n",
        "      <td> Jun 2014</td>\n",
        "      <td> ZUCCHINI JAM WITH PISTACHIO &amp; MASTIC (NATURAL)...</td>\n",
        "      <td>   0.0</td>\n",
        "    </tr>\n",
        "    <tr>\n",
        "      <th>82130</th>\n",
        "      <td> ZUCCHINI JAM WITH PISTACHIO &amp; MASTIC (NATURAL)</td>\n",
        "      <td>                     0</td>\n",
        "      <td>  Jam</td>\n",
        "      <td> Jul 2014</td>\n",
        "      <td> ZUCCHINI JAM WITH PISTACHIO &amp; MASTIC (NATURAL)...</td>\n",
        "      <td>   0.0</td>\n",
        "    </tr>\n",
        "    <tr>\n",
        "      <th>82131</th>\n",
        "      <td> ZUCCHINI JAM WITH PISTACHIO &amp; MASTIC (NATURAL)</td>\n",
        "      <td>                     0</td>\n",
        "      <td>  Jam</td>\n",
        "      <td> Aug 2014</td>\n",
        "      <td> ZUCCHINI JAM WITH PISTACHIO &amp; MASTIC (NATURAL)...</td>\n",
        "      <td>   0.0</td>\n",
        "    </tr>\n",
        "    <tr>\n",
        "      <th>82132</th>\n",
        "      <td> ZUCCHINI JAM WITH PISTACHIO &amp; MASTIC (NATURAL)</td>\n",
        "      <td>                     0</td>\n",
        "      <td>  Jam</td>\n",
        "      <td> Sep 2014</td>\n",
        "      <td> ZUCCHINI JAM WITH PISTACHIO &amp; MASTIC (NATURAL)...</td>\n",
        "      <td>   0.0</td>\n",
        "    </tr>\n",
        "    <tr>\n",
        "      <th>82133</th>\n",
        "      <td> ZUCCHINI JAM WITH PISTACHIO &amp; MASTIC (NATURAL)</td>\n",
        "      <td>                     0</td>\n",
        "      <td>  Jam</td>\n",
        "      <td> Oct 2014</td>\n",
        "      <td> ZUCCHINI JAM WITH PISTACHIO &amp; MASTIC (NATURAL)...</td>\n",
        "      <td>   0.0</td>\n",
        "    </tr>\n",
        "    <tr>\n",
        "      <th>82134</th>\n",
        "      <td> ZUCCHINI JAM WITH PISTACHIO &amp; MASTIC (NATURAL)</td>\n",
        "      <td>                     0</td>\n",
        "      <td>  Jam</td>\n",
        "      <td> Nov 2014</td>\n",
        "      <td> ZUCCHINI JAM WITH PISTACHIO &amp; MASTIC (NATURAL)...</td>\n",
        "      <td>   0.0</td>\n",
        "    </tr>\n",
        "    <tr>\n",
        "      <th>82135</th>\n",
        "      <td> ZUCCHINI JAM WITH PISTACHIO &amp; MASTIC (NATURAL)</td>\n",
        "      <td>                     0</td>\n",
        "      <td>  Jam</td>\n",
        "      <td> Dec 2014</td>\n",
        "      <td> ZUCCHINI JAM WITH PISTACHIO &amp; MASTIC (NATURAL)...</td>\n",
        "      <td>   0.0</td>\n",
        "    </tr>\n",
        "    <tr>\n",
        "      <th>82136</th>\n",
        "      <td> ZUCCHINI JAM WITH PISTACHIO &amp; MASTIC (NATURAL)</td>\n",
        "      <td>                     0</td>\n",
        "      <td>  Jam</td>\n",
        "      <td> Jan 2015</td>\n",
        "      <td> ZUCCHINI JAM WITH PISTACHIO &amp; MASTIC (NATURAL)...</td>\n",
        "      <td>   0.0</td>\n",
        "    </tr>\n",
        "    <tr>\n",
        "      <th>82137</th>\n",
        "      <td> ZUCCHINI JAM WITH PISTACHIO &amp; MASTIC (NATURAL)</td>\n",
        "      <td>                     0</td>\n",
        "      <td>  Jam</td>\n",
        "      <td> Feb 2015</td>\n",
        "      <td> ZUCCHINI JAM WITH PISTACHIO &amp; MASTIC (NATURAL)...</td>\n",
        "      <td>   0.0</td>\n",
        "    </tr>\n",
        "    <tr>\n",
        "      <th>82138</th>\n",
        "      <td> ZUCCHINI JAM WITH PISTACHIO &amp; MASTIC (NATURAL)</td>\n",
        "      <td>                     0</td>\n",
        "      <td>  Jam</td>\n",
        "      <td> Mar 2015</td>\n",
        "      <td> ZUCCHINI JAM WITH PISTACHIO &amp; MASTIC (NATURAL)...</td>\n",
        "      <td>   0.0</td>\n",
        "    </tr>\n",
        "    <tr>\n",
        "      <th>82139</th>\n",
        "      <td> ZUCCHINI JAM WITH PISTACHIO &amp; MASTIC (NATURAL)</td>\n",
        "      <td>                     0</td>\n",
        "      <td>  Jam</td>\n",
        "      <td> Apr 2015</td>\n",
        "      <td> ZUCCHINI JAM WITH PISTACHIO &amp; MASTIC (NATURAL)...</td>\n",
        "      <td>   0.0</td>\n",
        "    </tr>\n",
        "    <tr>\n",
        "      <th>82140</th>\n",
        "      <td> ZUCCHINI JAM WITH PISTACHIO &amp; MASTIC (NATURAL)</td>\n",
        "      <td>                     0</td>\n",
        "      <td>  Jam</td>\n",
        "      <td> May 2015</td>\n",
        "      <td> ZUCCHINI JAM WITH PISTACHIO &amp; MASTIC (NATURAL)...</td>\n",
        "      <td>   0.0</td>\n",
        "    </tr>\n",
        "    <tr>\n",
        "      <th>82141</th>\n",
        "      <td> ZUCCHINI JAM WITH PISTACHIO &amp; MASTIC (NATURAL)</td>\n",
        "      <td>                     0</td>\n",
        "      <td>  Jam</td>\n",
        "      <td> Jun 2015</td>\n",
        "      <td> ZUCCHINI JAM WITH PISTACHIO &amp; MASTIC (NATURAL)...</td>\n",
        "      <td>   0.0</td>\n",
        "    </tr>\n",
        "    <tr>\n",
        "      <th>82142</th>\n",
        "      <td> ZUCCHINI JAM WITH PISTACHIO &amp; MASTIC (NATURAL)</td>\n",
        "      <td>                     0</td>\n",
        "      <td>  Jam</td>\n",
        "      <td> Jul 2015</td>\n",
        "      <td> ZUCCHINI JAM WITH PISTACHIO &amp; MASTIC (NATURAL)...</td>\n",
        "      <td>   0.0</td>\n",
        "    </tr>\n",
        "    <tr>\n",
        "      <th>82143</th>\n",
        "      <td> ZUCCHINI JAM WITH PISTACHIO &amp; MASTIC (NATURAL)</td>\n",
        "      <td>                     0</td>\n",
        "      <td>  Jam</td>\n",
        "      <td> Aug 2015</td>\n",
        "      <td> ZUCCHINI JAM WITH PISTACHIO &amp; MASTIC (NATURAL)...</td>\n",
        "      <td>   0.0</td>\n",
        "    </tr>\n",
        "    <tr>\n",
        "      <th>82144</th>\n",
        "      <td> ZUCCHINI JAM WITH PISTACHIO &amp; MASTIC (NATURAL)</td>\n",
        "      <td>                     0</td>\n",
        "      <td>  Jam</td>\n",
        "      <td> Sep 2015</td>\n",
        "      <td> ZUCCHINI JAM WITH PISTACHIO &amp; MASTIC (NATURAL)...</td>\n",
        "      <td> 200.0</td>\n",
        "    </tr>\n",
        "    <tr>\n",
        "      <th>82145</th>\n",
        "      <td> ZUCCHINI JAM WITH PISTACHIO &amp; MASTIC (NATURAL)</td>\n",
        "      <td>                     0</td>\n",
        "      <td>  Jam</td>\n",
        "      <td> Oct 2015</td>\n",
        "      <td> ZUCCHINI JAM WITH PISTACHIO &amp; MASTIC (NATURAL)...</td>\n",
        "      <td>   0.0</td>\n",
        "    </tr>\n",
        "    <tr>\n",
        "      <th>82146</th>\n",
        "      <td> ZUCCHINI JAM WITH PISTACHIO &amp; MASTIC (NATURAL)</td>\n",
        "      <td>                     0</td>\n",
        "      <td>  Jam</td>\n",
        "      <td> Nov 2015</td>\n",
        "      <td> ZUCCHINI JAM WITH PISTACHIO &amp; MASTIC (NATURAL)...</td>\n",
        "      <td>   0.0</td>\n",
        "    </tr>\n",
        "    <tr>\n",
        "      <th>82147</th>\n",
        "      <td> ZUCCHINI JAM WITH PISTACHIO &amp; MASTIC (NATURAL)</td>\n",
        "      <td>                     0</td>\n",
        "      <td>  Jam</td>\n",
        "      <td> Dec 2015</td>\n",
        "      <td> ZUCCHINI JAM WITH PISTACHIO &amp; MASTIC (NATURAL)...</td>\n",
        "      <td>   0.0</td>\n",
        "    </tr>\n",
        "  </tbody>\n",
        "</table>\n",
        "<p>82148 rows \u00d7 6 columns</p>\n",
        "</div>"
       ],
       "metadata": {},
       "output_type": "pyout",
       "prompt_number": 8,
       "text": [
        "                                              Product                  Brand  \\\n",
        "0                                7 GRAIN MILK / 946ML  Pacific Natural Foods   \n",
        "1                                7 GRAIN MILK / 946ML  Pacific Natural Foods   \n",
        "2                                7 GRAIN MILK / 946ML  Pacific Natural Foods   \n",
        "3                                7 GRAIN MILK / 946ML  Pacific Natural Foods   \n",
        "4                                7 GRAIN MILK / 946ML  Pacific Natural Foods   \n",
        "5                                7 GRAIN MILK / 946ML  Pacific Natural Foods   \n",
        "6                                7 GRAIN MILK / 946ML  Pacific Natural Foods   \n",
        "7                                7 GRAIN MILK / 946ML  Pacific Natural Foods   \n",
        "8                                7 GRAIN MILK / 946ML  Pacific Natural Foods   \n",
        "9                                7 GRAIN MILK / 946ML  Pacific Natural Foods   \n",
        "10                               7 GRAIN MILK / 946ML  Pacific Natural Foods   \n",
        "11                               7 GRAIN MILK / 946ML  Pacific Natural Foods   \n",
        "12                               7 GRAIN MILK / 946ML  Pacific Natural Foods   \n",
        "13                               7 GRAIN MILK / 946ML  Pacific Natural Foods   \n",
        "14                               7 GRAIN MILK / 946ML  Pacific Natural Foods   \n",
        "15                               7 GRAIN MILK / 946ML  Pacific Natural Foods   \n",
        "16                               7 GRAIN MILK / 946ML  Pacific Natural Foods   \n",
        "17                               7 GRAIN MILK / 946ML  Pacific Natural Foods   \n",
        "18                               7 GRAIN MILK / 946ML  Pacific Natural Foods   \n",
        "19                               7 GRAIN MILK / 946ML  Pacific Natural Foods   \n",
        "20                               7 GRAIN MILK / 946ML  Pacific Natural Foods   \n",
        "21                               7 GRAIN MILK / 946ML  Pacific Natural Foods   \n",
        "22                               7 GRAIN MILK / 946ML  Pacific Natural Foods   \n",
        "23                               7 GRAIN MILK / 946ML  Pacific Natural Foods   \n",
        "24                               7 GRAIN MILK / 946ML  Pacific Natural Foods   \n",
        "25                               7 GRAIN MILK / 946ML  Pacific Natural Foods   \n",
        "26                               7 GRAIN MILK / 946ML  Pacific Natural Foods   \n",
        "27                               7 GRAIN MILK / 946ML  Pacific Natural Foods   \n",
        "28                               7 GRAIN MILK / 946ML  Pacific Natural Foods   \n",
        "29                               7 GRAIN MILK / 946ML  Pacific Natural Foods   \n",
        "...                                               ...                    ...   \n",
        "82118  ZUCCHINI JAM WITH PISTACHIO & MASTIC (NATURAL)                      0   \n",
        "82119  ZUCCHINI JAM WITH PISTACHIO & MASTIC (NATURAL)                      0   \n",
        "82120  ZUCCHINI JAM WITH PISTACHIO & MASTIC (NATURAL)                      0   \n",
        "82121  ZUCCHINI JAM WITH PISTACHIO & MASTIC (NATURAL)                      0   \n",
        "82122  ZUCCHINI JAM WITH PISTACHIO & MASTIC (NATURAL)                      0   \n",
        "82123  ZUCCHINI JAM WITH PISTACHIO & MASTIC (NATURAL)                      0   \n",
        "82124  ZUCCHINI JAM WITH PISTACHIO & MASTIC (NATURAL)                      0   \n",
        "82125  ZUCCHINI JAM WITH PISTACHIO & MASTIC (NATURAL)                      0   \n",
        "82126  ZUCCHINI JAM WITH PISTACHIO & MASTIC (NATURAL)                      0   \n",
        "82127  ZUCCHINI JAM WITH PISTACHIO & MASTIC (NATURAL)                      0   \n",
        "82128  ZUCCHINI JAM WITH PISTACHIO & MASTIC (NATURAL)                      0   \n",
        "82129  ZUCCHINI JAM WITH PISTACHIO & MASTIC (NATURAL)                      0   \n",
        "82130  ZUCCHINI JAM WITH PISTACHIO & MASTIC (NATURAL)                      0   \n",
        "82131  ZUCCHINI JAM WITH PISTACHIO & MASTIC (NATURAL)                      0   \n",
        "82132  ZUCCHINI JAM WITH PISTACHIO & MASTIC (NATURAL)                      0   \n",
        "82133  ZUCCHINI JAM WITH PISTACHIO & MASTIC (NATURAL)                      0   \n",
        "82134  ZUCCHINI JAM WITH PISTACHIO & MASTIC (NATURAL)                      0   \n",
        "82135  ZUCCHINI JAM WITH PISTACHIO & MASTIC (NATURAL)                      0   \n",
        "82136  ZUCCHINI JAM WITH PISTACHIO & MASTIC (NATURAL)                      0   \n",
        "82137  ZUCCHINI JAM WITH PISTACHIO & MASTIC (NATURAL)                      0   \n",
        "82138  ZUCCHINI JAM WITH PISTACHIO & MASTIC (NATURAL)                      0   \n",
        "82139  ZUCCHINI JAM WITH PISTACHIO & MASTIC (NATURAL)                      0   \n",
        "82140  ZUCCHINI JAM WITH PISTACHIO & MASTIC (NATURAL)                      0   \n",
        "82141  ZUCCHINI JAM WITH PISTACHIO & MASTIC (NATURAL)                      0   \n",
        "82142  ZUCCHINI JAM WITH PISTACHIO & MASTIC (NATURAL)                      0   \n",
        "82143  ZUCCHINI JAM WITH PISTACHIO & MASTIC (NATURAL)                      0   \n",
        "82144  ZUCCHINI JAM WITH PISTACHIO & MASTIC (NATURAL)                      0   \n",
        "82145  ZUCCHINI JAM WITH PISTACHIO & MASTIC (NATURAL)                      0   \n",
        "82146  ZUCCHINI JAM WITH PISTACHIO & MASTIC (NATURAL)                      0   \n",
        "82147  ZUCCHINI JAM WITH PISTACHIO & MASTIC (NATURAL)                      0   \n",
        "\n",
        "       Type      Date                                           New name  \\\n",
        "0      Milk  May 2012    7 GRAIN MILK / 946ML,Pacific Natural Foods,Milk   \n",
        "1      Milk  Jun 2012    7 GRAIN MILK / 946ML,Pacific Natural Foods,Milk   \n",
        "2      Milk  Jul 2012    7 GRAIN MILK / 946ML,Pacific Natural Foods,Milk   \n",
        "3      Milk  Aug 2012    7 GRAIN MILK / 946ML,Pacific Natural Foods,Milk   \n",
        "4      Milk  Sep 2012    7 GRAIN MILK / 946ML,Pacific Natural Foods,Milk   \n",
        "5      Milk  Oct 2012    7 GRAIN MILK / 946ML,Pacific Natural Foods,Milk   \n",
        "6      Milk  Nov 2012    7 GRAIN MILK / 946ML,Pacific Natural Foods,Milk   \n",
        "7      Milk  Dec 2012    7 GRAIN MILK / 946ML,Pacific Natural Foods,Milk   \n",
        "8      Milk  Jan 2013    7 GRAIN MILK / 946ML,Pacific Natural Foods,Milk   \n",
        "9      Milk  Feb 2013    7 GRAIN MILK / 946ML,Pacific Natural Foods,Milk   \n",
        "10     Milk  Mar 2013    7 GRAIN MILK / 946ML,Pacific Natural Foods,Milk   \n",
        "11     Milk  Apr 2013    7 GRAIN MILK / 946ML,Pacific Natural Foods,Milk   \n",
        "12     Milk  May 2013    7 GRAIN MILK / 946ML,Pacific Natural Foods,Milk   \n",
        "13     Milk  Jun 2013    7 GRAIN MILK / 946ML,Pacific Natural Foods,Milk   \n",
        "14     Milk  Jul 2013    7 GRAIN MILK / 946ML,Pacific Natural Foods,Milk   \n",
        "15     Milk  Aug 2013    7 GRAIN MILK / 946ML,Pacific Natural Foods,Milk   \n",
        "16     Milk  Sep 2013    7 GRAIN MILK / 946ML,Pacific Natural Foods,Milk   \n",
        "17     Milk  Oct 2013    7 GRAIN MILK / 946ML,Pacific Natural Foods,Milk   \n",
        "18     Milk  Nov 2013    7 GRAIN MILK / 946ML,Pacific Natural Foods,Milk   \n",
        "19     Milk  Dec 2013    7 GRAIN MILK / 946ML,Pacific Natural Foods,Milk   \n",
        "20     Milk  Jan 2014    7 GRAIN MILK / 946ML,Pacific Natural Foods,Milk   \n",
        "21     Milk  Feb 2014    7 GRAIN MILK / 946ML,Pacific Natural Foods,Milk   \n",
        "22     Milk  Mar 2014    7 GRAIN MILK / 946ML,Pacific Natural Foods,Milk   \n",
        "23     Milk  Apr 2014    7 GRAIN MILK / 946ML,Pacific Natural Foods,Milk   \n",
        "24     Milk  May 2014    7 GRAIN MILK / 946ML,Pacific Natural Foods,Milk   \n",
        "25     Milk  Jun 2014    7 GRAIN MILK / 946ML,Pacific Natural Foods,Milk   \n",
        "26     Milk  Jul 2014    7 GRAIN MILK / 946ML,Pacific Natural Foods,Milk   \n",
        "27     Milk  Aug 2014    7 GRAIN MILK / 946ML,Pacific Natural Foods,Milk   \n",
        "28     Milk  Sep 2014    7 GRAIN MILK / 946ML,Pacific Natural Foods,Milk   \n",
        "29     Milk  Oct 2014    7 GRAIN MILK / 946ML,Pacific Natural Foods,Milk   \n",
        "...     ...       ...                                                ...   \n",
        "82118   Jam  Jul 2013  ZUCCHINI JAM WITH PISTACHIO & MASTIC (NATURAL)...   \n",
        "82119   Jam  Aug 2013  ZUCCHINI JAM WITH PISTACHIO & MASTIC (NATURAL)...   \n",
        "82120   Jam  Sep 2013  ZUCCHINI JAM WITH PISTACHIO & MASTIC (NATURAL)...   \n",
        "82121   Jam  Oct 2013  ZUCCHINI JAM WITH PISTACHIO & MASTIC (NATURAL)...   \n",
        "82122   Jam  Nov 2013  ZUCCHINI JAM WITH PISTACHIO & MASTIC (NATURAL)...   \n",
        "82123   Jam  Dec 2013  ZUCCHINI JAM WITH PISTACHIO & MASTIC (NATURAL)...   \n",
        "82124   Jam  Jan 2014  ZUCCHINI JAM WITH PISTACHIO & MASTIC (NATURAL)...   \n",
        "82125   Jam  Feb 2014  ZUCCHINI JAM WITH PISTACHIO & MASTIC (NATURAL)...   \n",
        "82126   Jam  Mar 2014  ZUCCHINI JAM WITH PISTACHIO & MASTIC (NATURAL)...   \n",
        "82127   Jam  Apr 2014  ZUCCHINI JAM WITH PISTACHIO & MASTIC (NATURAL)...   \n",
        "82128   Jam  May 2014  ZUCCHINI JAM WITH PISTACHIO & MASTIC (NATURAL)...   \n",
        "82129   Jam  Jun 2014  ZUCCHINI JAM WITH PISTACHIO & MASTIC (NATURAL)...   \n",
        "82130   Jam  Jul 2014  ZUCCHINI JAM WITH PISTACHIO & MASTIC (NATURAL)...   \n",
        "82131   Jam  Aug 2014  ZUCCHINI JAM WITH PISTACHIO & MASTIC (NATURAL)...   \n",
        "82132   Jam  Sep 2014  ZUCCHINI JAM WITH PISTACHIO & MASTIC (NATURAL)...   \n",
        "82133   Jam  Oct 2014  ZUCCHINI JAM WITH PISTACHIO & MASTIC (NATURAL)...   \n",
        "82134   Jam  Nov 2014  ZUCCHINI JAM WITH PISTACHIO & MASTIC (NATURAL)...   \n",
        "82135   Jam  Dec 2014  ZUCCHINI JAM WITH PISTACHIO & MASTIC (NATURAL)...   \n",
        "82136   Jam  Jan 2015  ZUCCHINI JAM WITH PISTACHIO & MASTIC (NATURAL)...   \n",
        "82137   Jam  Feb 2015  ZUCCHINI JAM WITH PISTACHIO & MASTIC (NATURAL)...   \n",
        "82138   Jam  Mar 2015  ZUCCHINI JAM WITH PISTACHIO & MASTIC (NATURAL)...   \n",
        "82139   Jam  Apr 2015  ZUCCHINI JAM WITH PISTACHIO & MASTIC (NATURAL)...   \n",
        "82140   Jam  May 2015  ZUCCHINI JAM WITH PISTACHIO & MASTIC (NATURAL)...   \n",
        "82141   Jam  Jun 2015  ZUCCHINI JAM WITH PISTACHIO & MASTIC (NATURAL)...   \n",
        "82142   Jam  Jul 2015  ZUCCHINI JAM WITH PISTACHIO & MASTIC (NATURAL)...   \n",
        "82143   Jam  Aug 2015  ZUCCHINI JAM WITH PISTACHIO & MASTIC (NATURAL)...   \n",
        "82144   Jam  Sep 2015  ZUCCHINI JAM WITH PISTACHIO & MASTIC (NATURAL)...   \n",
        "82145   Jam  Oct 2015  ZUCCHINI JAM WITH PISTACHIO & MASTIC (NATURAL)...   \n",
        "82146   Jam  Nov 2015  ZUCCHINI JAM WITH PISTACHIO & MASTIC (NATURAL)...   \n",
        "82147   Jam  Dec 2015  ZUCCHINI JAM WITH PISTACHIO & MASTIC (NATURAL)...   \n",
        "\n",
        "       Revenue  \n",
        "0          0.0  \n",
        "1          0.0  \n",
        "2          0.0  \n",
        "3          0.0  \n",
        "4          0.0  \n",
        "5          0.0  \n",
        "6          0.0  \n",
        "7         31.9  \n",
        "8        127.6  \n",
        "9         31.9  \n",
        "10       255.2  \n",
        "11       382.8  \n",
        "12        31.9  \n",
        "13        95.7  \n",
        "14         0.0  \n",
        "15        31.9  \n",
        "16       302.4  \n",
        "17       134.4  \n",
        "18        67.2  \n",
        "19         0.0  \n",
        "20         0.0  \n",
        "21         0.0  \n",
        "22         0.0  \n",
        "23         0.0  \n",
        "24         0.0  \n",
        "25         0.0  \n",
        "26         0.0  \n",
        "27         0.0  \n",
        "28         0.0  \n",
        "29         0.0  \n",
        "...        ...  \n",
        "82118      0.0  \n",
        "82119      0.0  \n",
        "82120      0.0  \n",
        "82121      0.0  \n",
        "82122      0.0  \n",
        "82123      0.0  \n",
        "82124      0.0  \n",
        "82125      0.0  \n",
        "82126      0.0  \n",
        "82127      0.0  \n",
        "82128      0.0  \n",
        "82129      0.0  \n",
        "82130      0.0  \n",
        "82131      0.0  \n",
        "82132      0.0  \n",
        "82133      0.0  \n",
        "82134      0.0  \n",
        "82135      0.0  \n",
        "82136      0.0  \n",
        "82137      0.0  \n",
        "82138      0.0  \n",
        "82139      0.0  \n",
        "82140      0.0  \n",
        "82141      0.0  \n",
        "82142      0.0  \n",
        "82143      0.0  \n",
        "82144    200.0  \n",
        "82145      0.0  \n",
        "82146      0.0  \n",
        "82147      0.0  \n",
        "\n",
        "[82148 rows x 6 columns]"
       ]
      }
     ],
     "prompt_number": 8
    },
    {
     "cell_type": "code",
     "collapsed": false,
     "input": [
      "#df = pd.read_csv(cfg['root']+cfg['dir_data_vend']+cfg[\"ip_gross_profit_prod\"])\n",
      "df = pd.read_csv(\"C:\\Users\\saisree849\\Documents\\GitHub\\NGS-2.0\\\\12_dashboard_tables\\data_input\\\\vend\\\\vend-gross_profit-for-product_variant-by-month.csv\")\n",
      "\n",
      "df = df[[0,3,5]+range(7,len(df.columns)-5)]#reqd columns\n",
      "df = df[:max(df.index)-4] #reqd rows\n",
      "\n",
      "#remove null products, change to upper case\n",
      "df = df[pd.notnull(df['Product'])]\n",
      "df['Product'] = df['Product'].apply(lambda x: x.upper())\n",
      "\n",
      "df = df.sort('Product')\n",
      "df.fillna(0, inplace=True) #replace na values with 0\n",
      "df = df[~df['Product'].str.contains(\"CAIRO\")] #remove unnecessary rows\n",
      "df = df.reset_index().drop('index',1)\n",
      "df = df.groupby(['Product', 'Brand', 'Type'], axis=0, as_index=False).sum()\n",
      "\n",
      "#create a concatenated column and make index\n",
      "df['New name'] = df.apply(lambda x: str(x['Product']) +\",\"+ str(x['Brand']) +\",\"+ str(x['Type']), axis=1)\n",
      "df = df.set_index('New name')\n",
      "df.index.name = None\n",
      "\n",
      "#retrieve gross profit for each product date combination from old df\n",
      "for i in range(0, max(df2.index)+1):\n",
      "    df2.loc[i, 'Gross Profit'] = df.loc[df2.loc[i, 'New name'], df2.loc[i, 'Date']]\n",
      "df2"
     ],
     "language": "python",
     "metadata": {},
     "outputs": [
      {
       "html": [
        "<div style=\"max-height:1000px;max-width:1500px;overflow:auto;\">\n",
        "<table border=\"1\" class=\"dataframe\">\n",
        "  <thead>\n",
        "    <tr style=\"text-align: right;\">\n",
        "      <th></th>\n",
        "      <th>Product</th>\n",
        "      <th>Brand</th>\n",
        "      <th>Type</th>\n",
        "      <th>Date</th>\n",
        "      <th>New name</th>\n",
        "      <th>Revenue</th>\n",
        "      <th>Gross Profit</th>\n",
        "    </tr>\n",
        "  </thead>\n",
        "  <tbody>\n",
        "    <tr>\n",
        "      <th>0    </th>\n",
        "      <td>                           7 GRAIN MILK / 946ML</td>\n",
        "      <td> Pacific Natural Foods</td>\n",
        "      <td> Milk</td>\n",
        "      <td> May 2012</td>\n",
        "      <td>   7 GRAIN MILK / 946ML,Pacific Natural Foods,Milk</td>\n",
        "      <td>   0.0</td>\n",
        "      <td>  0.0</td>\n",
        "    </tr>\n",
        "    <tr>\n",
        "      <th>1    </th>\n",
        "      <td>                           7 GRAIN MILK / 946ML</td>\n",
        "      <td> Pacific Natural Foods</td>\n",
        "      <td> Milk</td>\n",
        "      <td> Jun 2012</td>\n",
        "      <td>   7 GRAIN MILK / 946ML,Pacific Natural Foods,Milk</td>\n",
        "      <td>   0.0</td>\n",
        "      <td>  0.0</td>\n",
        "    </tr>\n",
        "    <tr>\n",
        "      <th>2    </th>\n",
        "      <td>                           7 GRAIN MILK / 946ML</td>\n",
        "      <td> Pacific Natural Foods</td>\n",
        "      <td> Milk</td>\n",
        "      <td> Jul 2012</td>\n",
        "      <td>   7 GRAIN MILK / 946ML,Pacific Natural Foods,Milk</td>\n",
        "      <td>   0.0</td>\n",
        "      <td>  0.0</td>\n",
        "    </tr>\n",
        "    <tr>\n",
        "      <th>3    </th>\n",
        "      <td>                           7 GRAIN MILK / 946ML</td>\n",
        "      <td> Pacific Natural Foods</td>\n",
        "      <td> Milk</td>\n",
        "      <td> Aug 2012</td>\n",
        "      <td>   7 GRAIN MILK / 946ML,Pacific Natural Foods,Milk</td>\n",
        "      <td>   0.0</td>\n",
        "      <td>  0.0</td>\n",
        "    </tr>\n",
        "    <tr>\n",
        "      <th>4    </th>\n",
        "      <td>                           7 GRAIN MILK / 946ML</td>\n",
        "      <td> Pacific Natural Foods</td>\n",
        "      <td> Milk</td>\n",
        "      <td> Sep 2012</td>\n",
        "      <td>   7 GRAIN MILK / 946ML,Pacific Natural Foods,Milk</td>\n",
        "      <td>   0.0</td>\n",
        "      <td>  0.0</td>\n",
        "    </tr>\n",
        "    <tr>\n",
        "      <th>5    </th>\n",
        "      <td>                           7 GRAIN MILK / 946ML</td>\n",
        "      <td> Pacific Natural Foods</td>\n",
        "      <td> Milk</td>\n",
        "      <td> Oct 2012</td>\n",
        "      <td>   7 GRAIN MILK / 946ML,Pacific Natural Foods,Milk</td>\n",
        "      <td>   0.0</td>\n",
        "      <td>  0.0</td>\n",
        "    </tr>\n",
        "    <tr>\n",
        "      <th>6    </th>\n",
        "      <td>                           7 GRAIN MILK / 946ML</td>\n",
        "      <td> Pacific Natural Foods</td>\n",
        "      <td> Milk</td>\n",
        "      <td> Nov 2012</td>\n",
        "      <td>   7 GRAIN MILK / 946ML,Pacific Natural Foods,Milk</td>\n",
        "      <td>   0.0</td>\n",
        "      <td>  0.0</td>\n",
        "    </tr>\n",
        "    <tr>\n",
        "      <th>7    </th>\n",
        "      <td>                           7 GRAIN MILK / 946ML</td>\n",
        "      <td> Pacific Natural Foods</td>\n",
        "      <td> Milk</td>\n",
        "      <td> Dec 2012</td>\n",
        "      <td>   7 GRAIN MILK / 946ML,Pacific Natural Foods,Milk</td>\n",
        "      <td>  31.9</td>\n",
        "      <td>  4.9</td>\n",
        "    </tr>\n",
        "    <tr>\n",
        "      <th>8    </th>\n",
        "      <td>                           7 GRAIN MILK / 946ML</td>\n",
        "      <td> Pacific Natural Foods</td>\n",
        "      <td> Milk</td>\n",
        "      <td> Jan 2013</td>\n",
        "      <td>   7 GRAIN MILK / 946ML,Pacific Natural Foods,Milk</td>\n",
        "      <td> 127.6</td>\n",
        "      <td> 19.6</td>\n",
        "    </tr>\n",
        "    <tr>\n",
        "      <th>9    </th>\n",
        "      <td>                           7 GRAIN MILK / 946ML</td>\n",
        "      <td> Pacific Natural Foods</td>\n",
        "      <td> Milk</td>\n",
        "      <td> Feb 2013</td>\n",
        "      <td>   7 GRAIN MILK / 946ML,Pacific Natural Foods,Milk</td>\n",
        "      <td>  31.9</td>\n",
        "      <td>  4.9</td>\n",
        "    </tr>\n",
        "    <tr>\n",
        "      <th>10   </th>\n",
        "      <td>                           7 GRAIN MILK / 946ML</td>\n",
        "      <td> Pacific Natural Foods</td>\n",
        "      <td> Milk</td>\n",
        "      <td> Mar 2013</td>\n",
        "      <td>   7 GRAIN MILK / 946ML,Pacific Natural Foods,Milk</td>\n",
        "      <td> 255.2</td>\n",
        "      <td> 39.2</td>\n",
        "    </tr>\n",
        "    <tr>\n",
        "      <th>11   </th>\n",
        "      <td>                           7 GRAIN MILK / 946ML</td>\n",
        "      <td> Pacific Natural Foods</td>\n",
        "      <td> Milk</td>\n",
        "      <td> Apr 2013</td>\n",
        "      <td>   7 GRAIN MILK / 946ML,Pacific Natural Foods,Milk</td>\n",
        "      <td> 382.8</td>\n",
        "      <td> 58.8</td>\n",
        "    </tr>\n",
        "    <tr>\n",
        "      <th>12   </th>\n",
        "      <td>                           7 GRAIN MILK / 946ML</td>\n",
        "      <td> Pacific Natural Foods</td>\n",
        "      <td> Milk</td>\n",
        "      <td> May 2013</td>\n",
        "      <td>   7 GRAIN MILK / 946ML,Pacific Natural Foods,Milk</td>\n",
        "      <td>  31.9</td>\n",
        "      <td>  4.9</td>\n",
        "    </tr>\n",
        "    <tr>\n",
        "      <th>13   </th>\n",
        "      <td>                           7 GRAIN MILK / 946ML</td>\n",
        "      <td> Pacific Natural Foods</td>\n",
        "      <td> Milk</td>\n",
        "      <td> Jun 2013</td>\n",
        "      <td>   7 GRAIN MILK / 946ML,Pacific Natural Foods,Milk</td>\n",
        "      <td>  95.7</td>\n",
        "      <td> 14.7</td>\n",
        "    </tr>\n",
        "    <tr>\n",
        "      <th>14   </th>\n",
        "      <td>                           7 GRAIN MILK / 946ML</td>\n",
        "      <td> Pacific Natural Foods</td>\n",
        "      <td> Milk</td>\n",
        "      <td> Jul 2013</td>\n",
        "      <td>   7 GRAIN MILK / 946ML,Pacific Natural Foods,Milk</td>\n",
        "      <td>   0.0</td>\n",
        "      <td>  0.0</td>\n",
        "    </tr>\n",
        "    <tr>\n",
        "      <th>15   </th>\n",
        "      <td>                           7 GRAIN MILK / 946ML</td>\n",
        "      <td> Pacific Natural Foods</td>\n",
        "      <td> Milk</td>\n",
        "      <td> Aug 2013</td>\n",
        "      <td>   7 GRAIN MILK / 946ML,Pacific Natural Foods,Milk</td>\n",
        "      <td>  31.9</td>\n",
        "      <td>  4.9</td>\n",
        "    </tr>\n",
        "    <tr>\n",
        "      <th>16   </th>\n",
        "      <td>                           7 GRAIN MILK / 946ML</td>\n",
        "      <td> Pacific Natural Foods</td>\n",
        "      <td> Milk</td>\n",
        "      <td> Sep 2013</td>\n",
        "      <td>   7 GRAIN MILK / 946ML,Pacific Natural Foods,Milk</td>\n",
        "      <td> 302.4</td>\n",
        "      <td> 72.0</td>\n",
        "    </tr>\n",
        "    <tr>\n",
        "      <th>17   </th>\n",
        "      <td>                           7 GRAIN MILK / 946ML</td>\n",
        "      <td> Pacific Natural Foods</td>\n",
        "      <td> Milk</td>\n",
        "      <td> Oct 2013</td>\n",
        "      <td>   7 GRAIN MILK / 946ML,Pacific Natural Foods,Milk</td>\n",
        "      <td> 134.4</td>\n",
        "      <td> 32.0</td>\n",
        "    </tr>\n",
        "    <tr>\n",
        "      <th>18   </th>\n",
        "      <td>                           7 GRAIN MILK / 946ML</td>\n",
        "      <td> Pacific Natural Foods</td>\n",
        "      <td> Milk</td>\n",
        "      <td> Nov 2013</td>\n",
        "      <td>   7 GRAIN MILK / 946ML,Pacific Natural Foods,Milk</td>\n",
        "      <td>  67.2</td>\n",
        "      <td> 16.0</td>\n",
        "    </tr>\n",
        "    <tr>\n",
        "      <th>19   </th>\n",
        "      <td>                           7 GRAIN MILK / 946ML</td>\n",
        "      <td> Pacific Natural Foods</td>\n",
        "      <td> Milk</td>\n",
        "      <td> Dec 2013</td>\n",
        "      <td>   7 GRAIN MILK / 946ML,Pacific Natural Foods,Milk</td>\n",
        "      <td>   0.0</td>\n",
        "      <td>  0.0</td>\n",
        "    </tr>\n",
        "    <tr>\n",
        "      <th>20   </th>\n",
        "      <td>                           7 GRAIN MILK / 946ML</td>\n",
        "      <td> Pacific Natural Foods</td>\n",
        "      <td> Milk</td>\n",
        "      <td> Jan 2014</td>\n",
        "      <td>   7 GRAIN MILK / 946ML,Pacific Natural Foods,Milk</td>\n",
        "      <td>   0.0</td>\n",
        "      <td>  0.0</td>\n",
        "    </tr>\n",
        "    <tr>\n",
        "      <th>21   </th>\n",
        "      <td>                           7 GRAIN MILK / 946ML</td>\n",
        "      <td> Pacific Natural Foods</td>\n",
        "      <td> Milk</td>\n",
        "      <td> Feb 2014</td>\n",
        "      <td>   7 GRAIN MILK / 946ML,Pacific Natural Foods,Milk</td>\n",
        "      <td>   0.0</td>\n",
        "      <td>  0.0</td>\n",
        "    </tr>\n",
        "    <tr>\n",
        "      <th>22   </th>\n",
        "      <td>                           7 GRAIN MILK / 946ML</td>\n",
        "      <td> Pacific Natural Foods</td>\n",
        "      <td> Milk</td>\n",
        "      <td> Mar 2014</td>\n",
        "      <td>   7 GRAIN MILK / 946ML,Pacific Natural Foods,Milk</td>\n",
        "      <td>   0.0</td>\n",
        "      <td>  0.0</td>\n",
        "    </tr>\n",
        "    <tr>\n",
        "      <th>23   </th>\n",
        "      <td>                           7 GRAIN MILK / 946ML</td>\n",
        "      <td> Pacific Natural Foods</td>\n",
        "      <td> Milk</td>\n",
        "      <td> Apr 2014</td>\n",
        "      <td>   7 GRAIN MILK / 946ML,Pacific Natural Foods,Milk</td>\n",
        "      <td>   0.0</td>\n",
        "      <td>  0.0</td>\n",
        "    </tr>\n",
        "    <tr>\n",
        "      <th>24   </th>\n",
        "      <td>                           7 GRAIN MILK / 946ML</td>\n",
        "      <td> Pacific Natural Foods</td>\n",
        "      <td> Milk</td>\n",
        "      <td> May 2014</td>\n",
        "      <td>   7 GRAIN MILK / 946ML,Pacific Natural Foods,Milk</td>\n",
        "      <td>   0.0</td>\n",
        "      <td>  0.0</td>\n",
        "    </tr>\n",
        "    <tr>\n",
        "      <th>25   </th>\n",
        "      <td>                           7 GRAIN MILK / 946ML</td>\n",
        "      <td> Pacific Natural Foods</td>\n",
        "      <td> Milk</td>\n",
        "      <td> Jun 2014</td>\n",
        "      <td>   7 GRAIN MILK / 946ML,Pacific Natural Foods,Milk</td>\n",
        "      <td>   0.0</td>\n",
        "      <td>  0.0</td>\n",
        "    </tr>\n",
        "    <tr>\n",
        "      <th>26   </th>\n",
        "      <td>                           7 GRAIN MILK / 946ML</td>\n",
        "      <td> Pacific Natural Foods</td>\n",
        "      <td> Milk</td>\n",
        "      <td> Jul 2014</td>\n",
        "      <td>   7 GRAIN MILK / 946ML,Pacific Natural Foods,Milk</td>\n",
        "      <td>   0.0</td>\n",
        "      <td>  0.0</td>\n",
        "    </tr>\n",
        "    <tr>\n",
        "      <th>27   </th>\n",
        "      <td>                           7 GRAIN MILK / 946ML</td>\n",
        "      <td> Pacific Natural Foods</td>\n",
        "      <td> Milk</td>\n",
        "      <td> Aug 2014</td>\n",
        "      <td>   7 GRAIN MILK / 946ML,Pacific Natural Foods,Milk</td>\n",
        "      <td>   0.0</td>\n",
        "      <td>  0.0</td>\n",
        "    </tr>\n",
        "    <tr>\n",
        "      <th>28   </th>\n",
        "      <td>                           7 GRAIN MILK / 946ML</td>\n",
        "      <td> Pacific Natural Foods</td>\n",
        "      <td> Milk</td>\n",
        "      <td> Sep 2014</td>\n",
        "      <td>   7 GRAIN MILK / 946ML,Pacific Natural Foods,Milk</td>\n",
        "      <td>   0.0</td>\n",
        "      <td>  0.0</td>\n",
        "    </tr>\n",
        "    <tr>\n",
        "      <th>29   </th>\n",
        "      <td>                           7 GRAIN MILK / 946ML</td>\n",
        "      <td> Pacific Natural Foods</td>\n",
        "      <td> Milk</td>\n",
        "      <td> Oct 2014</td>\n",
        "      <td>   7 GRAIN MILK / 946ML,Pacific Natural Foods,Milk</td>\n",
        "      <td>   0.0</td>\n",
        "      <td>  0.0</td>\n",
        "    </tr>\n",
        "    <tr>\n",
        "      <th>...</th>\n",
        "      <td>...</td>\n",
        "      <td>...</td>\n",
        "      <td>...</td>\n",
        "      <td>...</td>\n",
        "      <td>...</td>\n",
        "      <td>...</td>\n",
        "      <td>...</td>\n",
        "    </tr>\n",
        "    <tr>\n",
        "      <th>82118</th>\n",
        "      <td> ZUCCHINI JAM WITH PISTACHIO &amp; MASTIC (NATURAL)</td>\n",
        "      <td>                     0</td>\n",
        "      <td>  Jam</td>\n",
        "      <td> Jul 2013</td>\n",
        "      <td> ZUCCHINI JAM WITH PISTACHIO &amp; MASTIC (NATURAL)...</td>\n",
        "      <td>   0.0</td>\n",
        "      <td>  0.0</td>\n",
        "    </tr>\n",
        "    <tr>\n",
        "      <th>82119</th>\n",
        "      <td> ZUCCHINI JAM WITH PISTACHIO &amp; MASTIC (NATURAL)</td>\n",
        "      <td>                     0</td>\n",
        "      <td>  Jam</td>\n",
        "      <td> Aug 2013</td>\n",
        "      <td> ZUCCHINI JAM WITH PISTACHIO &amp; MASTIC (NATURAL)...</td>\n",
        "      <td>   0.0</td>\n",
        "      <td>  0.0</td>\n",
        "    </tr>\n",
        "    <tr>\n",
        "      <th>82120</th>\n",
        "      <td> ZUCCHINI JAM WITH PISTACHIO &amp; MASTIC (NATURAL)</td>\n",
        "      <td>                     0</td>\n",
        "      <td>  Jam</td>\n",
        "      <td> Sep 2013</td>\n",
        "      <td> ZUCCHINI JAM WITH PISTACHIO &amp; MASTIC (NATURAL)...</td>\n",
        "      <td>   0.0</td>\n",
        "      <td>  0.0</td>\n",
        "    </tr>\n",
        "    <tr>\n",
        "      <th>82121</th>\n",
        "      <td> ZUCCHINI JAM WITH PISTACHIO &amp; MASTIC (NATURAL)</td>\n",
        "      <td>                     0</td>\n",
        "      <td>  Jam</td>\n",
        "      <td> Oct 2013</td>\n",
        "      <td> ZUCCHINI JAM WITH PISTACHIO &amp; MASTIC (NATURAL)...</td>\n",
        "      <td>   0.0</td>\n",
        "      <td>  0.0</td>\n",
        "    </tr>\n",
        "    <tr>\n",
        "      <th>82122</th>\n",
        "      <td> ZUCCHINI JAM WITH PISTACHIO &amp; MASTIC (NATURAL)</td>\n",
        "      <td>                     0</td>\n",
        "      <td>  Jam</td>\n",
        "      <td> Nov 2013</td>\n",
        "      <td> ZUCCHINI JAM WITH PISTACHIO &amp; MASTIC (NATURAL)...</td>\n",
        "      <td>   0.0</td>\n",
        "      <td>  0.0</td>\n",
        "    </tr>\n",
        "    <tr>\n",
        "      <th>82123</th>\n",
        "      <td> ZUCCHINI JAM WITH PISTACHIO &amp; MASTIC (NATURAL)</td>\n",
        "      <td>                     0</td>\n",
        "      <td>  Jam</td>\n",
        "      <td> Dec 2013</td>\n",
        "      <td> ZUCCHINI JAM WITH PISTACHIO &amp; MASTIC (NATURAL)...</td>\n",
        "      <td>   0.0</td>\n",
        "      <td>  0.0</td>\n",
        "    </tr>\n",
        "    <tr>\n",
        "      <th>82124</th>\n",
        "      <td> ZUCCHINI JAM WITH PISTACHIO &amp; MASTIC (NATURAL)</td>\n",
        "      <td>                     0</td>\n",
        "      <td>  Jam</td>\n",
        "      <td> Jan 2014</td>\n",
        "      <td> ZUCCHINI JAM WITH PISTACHIO &amp; MASTIC (NATURAL)...</td>\n",
        "      <td>   0.0</td>\n",
        "      <td>  0.0</td>\n",
        "    </tr>\n",
        "    <tr>\n",
        "      <th>82125</th>\n",
        "      <td> ZUCCHINI JAM WITH PISTACHIO &amp; MASTIC (NATURAL)</td>\n",
        "      <td>                     0</td>\n",
        "      <td>  Jam</td>\n",
        "      <td> Feb 2014</td>\n",
        "      <td> ZUCCHINI JAM WITH PISTACHIO &amp; MASTIC (NATURAL)...</td>\n",
        "      <td>   0.0</td>\n",
        "      <td>  0.0</td>\n",
        "    </tr>\n",
        "    <tr>\n",
        "      <th>82126</th>\n",
        "      <td> ZUCCHINI JAM WITH PISTACHIO &amp; MASTIC (NATURAL)</td>\n",
        "      <td>                     0</td>\n",
        "      <td>  Jam</td>\n",
        "      <td> Mar 2014</td>\n",
        "      <td> ZUCCHINI JAM WITH PISTACHIO &amp; MASTIC (NATURAL)...</td>\n",
        "      <td>   0.0</td>\n",
        "      <td>  0.0</td>\n",
        "    </tr>\n",
        "    <tr>\n",
        "      <th>82127</th>\n",
        "      <td> ZUCCHINI JAM WITH PISTACHIO &amp; MASTIC (NATURAL)</td>\n",
        "      <td>                     0</td>\n",
        "      <td>  Jam</td>\n",
        "      <td> Apr 2014</td>\n",
        "      <td> ZUCCHINI JAM WITH PISTACHIO &amp; MASTIC (NATURAL)...</td>\n",
        "      <td>   0.0</td>\n",
        "      <td>  0.0</td>\n",
        "    </tr>\n",
        "    <tr>\n",
        "      <th>82128</th>\n",
        "      <td> ZUCCHINI JAM WITH PISTACHIO &amp; MASTIC (NATURAL)</td>\n",
        "      <td>                     0</td>\n",
        "      <td>  Jam</td>\n",
        "      <td> May 2014</td>\n",
        "      <td> ZUCCHINI JAM WITH PISTACHIO &amp; MASTIC (NATURAL)...</td>\n",
        "      <td>   0.0</td>\n",
        "      <td>  0.0</td>\n",
        "    </tr>\n",
        "    <tr>\n",
        "      <th>82129</th>\n",
        "      <td> ZUCCHINI JAM WITH PISTACHIO &amp; MASTIC (NATURAL)</td>\n",
        "      <td>                     0</td>\n",
        "      <td>  Jam</td>\n",
        "      <td> Jun 2014</td>\n",
        "      <td> ZUCCHINI JAM WITH PISTACHIO &amp; MASTIC (NATURAL)...</td>\n",
        "      <td>   0.0</td>\n",
        "      <td>  0.0</td>\n",
        "    </tr>\n",
        "    <tr>\n",
        "      <th>82130</th>\n",
        "      <td> ZUCCHINI JAM WITH PISTACHIO &amp; MASTIC (NATURAL)</td>\n",
        "      <td>                     0</td>\n",
        "      <td>  Jam</td>\n",
        "      <td> Jul 2014</td>\n",
        "      <td> ZUCCHINI JAM WITH PISTACHIO &amp; MASTIC (NATURAL)...</td>\n",
        "      <td>   0.0</td>\n",
        "      <td>  0.0</td>\n",
        "    </tr>\n",
        "    <tr>\n",
        "      <th>82131</th>\n",
        "      <td> ZUCCHINI JAM WITH PISTACHIO &amp; MASTIC (NATURAL)</td>\n",
        "      <td>                     0</td>\n",
        "      <td>  Jam</td>\n",
        "      <td> Aug 2014</td>\n",
        "      <td> ZUCCHINI JAM WITH PISTACHIO &amp; MASTIC (NATURAL)...</td>\n",
        "      <td>   0.0</td>\n",
        "      <td>  0.0</td>\n",
        "    </tr>\n",
        "    <tr>\n",
        "      <th>82132</th>\n",
        "      <td> ZUCCHINI JAM WITH PISTACHIO &amp; MASTIC (NATURAL)</td>\n",
        "      <td>                     0</td>\n",
        "      <td>  Jam</td>\n",
        "      <td> Sep 2014</td>\n",
        "      <td> ZUCCHINI JAM WITH PISTACHIO &amp; MASTIC (NATURAL)...</td>\n",
        "      <td>   0.0</td>\n",
        "      <td>  0.0</td>\n",
        "    </tr>\n",
        "    <tr>\n",
        "      <th>82133</th>\n",
        "      <td> ZUCCHINI JAM WITH PISTACHIO &amp; MASTIC (NATURAL)</td>\n",
        "      <td>                     0</td>\n",
        "      <td>  Jam</td>\n",
        "      <td> Oct 2014</td>\n",
        "      <td> ZUCCHINI JAM WITH PISTACHIO &amp; MASTIC (NATURAL)...</td>\n",
        "      <td>   0.0</td>\n",
        "      <td>  0.0</td>\n",
        "    </tr>\n",
        "    <tr>\n",
        "      <th>82134</th>\n",
        "      <td> ZUCCHINI JAM WITH PISTACHIO &amp; MASTIC (NATURAL)</td>\n",
        "      <td>                     0</td>\n",
        "      <td>  Jam</td>\n",
        "      <td> Nov 2014</td>\n",
        "      <td> ZUCCHINI JAM WITH PISTACHIO &amp; MASTIC (NATURAL)...</td>\n",
        "      <td>   0.0</td>\n",
        "      <td>  0.0</td>\n",
        "    </tr>\n",
        "    <tr>\n",
        "      <th>82135</th>\n",
        "      <td> ZUCCHINI JAM WITH PISTACHIO &amp; MASTIC (NATURAL)</td>\n",
        "      <td>                     0</td>\n",
        "      <td>  Jam</td>\n",
        "      <td> Dec 2014</td>\n",
        "      <td> ZUCCHINI JAM WITH PISTACHIO &amp; MASTIC (NATURAL)...</td>\n",
        "      <td>   0.0</td>\n",
        "      <td>  0.0</td>\n",
        "    </tr>\n",
        "    <tr>\n",
        "      <th>82136</th>\n",
        "      <td> ZUCCHINI JAM WITH PISTACHIO &amp; MASTIC (NATURAL)</td>\n",
        "      <td>                     0</td>\n",
        "      <td>  Jam</td>\n",
        "      <td> Jan 2015</td>\n",
        "      <td> ZUCCHINI JAM WITH PISTACHIO &amp; MASTIC (NATURAL)...</td>\n",
        "      <td>   0.0</td>\n",
        "      <td>  0.0</td>\n",
        "    </tr>\n",
        "    <tr>\n",
        "      <th>82137</th>\n",
        "      <td> ZUCCHINI JAM WITH PISTACHIO &amp; MASTIC (NATURAL)</td>\n",
        "      <td>                     0</td>\n",
        "      <td>  Jam</td>\n",
        "      <td> Feb 2015</td>\n",
        "      <td> ZUCCHINI JAM WITH PISTACHIO &amp; MASTIC (NATURAL)...</td>\n",
        "      <td>   0.0</td>\n",
        "      <td>  0.0</td>\n",
        "    </tr>\n",
        "    <tr>\n",
        "      <th>82138</th>\n",
        "      <td> ZUCCHINI JAM WITH PISTACHIO &amp; MASTIC (NATURAL)</td>\n",
        "      <td>                     0</td>\n",
        "      <td>  Jam</td>\n",
        "      <td> Mar 2015</td>\n",
        "      <td> ZUCCHINI JAM WITH PISTACHIO &amp; MASTIC (NATURAL)...</td>\n",
        "      <td>   0.0</td>\n",
        "      <td>  0.0</td>\n",
        "    </tr>\n",
        "    <tr>\n",
        "      <th>82139</th>\n",
        "      <td> ZUCCHINI JAM WITH PISTACHIO &amp; MASTIC (NATURAL)</td>\n",
        "      <td>                     0</td>\n",
        "      <td>  Jam</td>\n",
        "      <td> Apr 2015</td>\n",
        "      <td> ZUCCHINI JAM WITH PISTACHIO &amp; MASTIC (NATURAL)...</td>\n",
        "      <td>   0.0</td>\n",
        "      <td>  0.0</td>\n",
        "    </tr>\n",
        "    <tr>\n",
        "      <th>82140</th>\n",
        "      <td> ZUCCHINI JAM WITH PISTACHIO &amp; MASTIC (NATURAL)</td>\n",
        "      <td>                     0</td>\n",
        "      <td>  Jam</td>\n",
        "      <td> May 2015</td>\n",
        "      <td> ZUCCHINI JAM WITH PISTACHIO &amp; MASTIC (NATURAL)...</td>\n",
        "      <td>   0.0</td>\n",
        "      <td>  0.0</td>\n",
        "    </tr>\n",
        "    <tr>\n",
        "      <th>82141</th>\n",
        "      <td> ZUCCHINI JAM WITH PISTACHIO &amp; MASTIC (NATURAL)</td>\n",
        "      <td>                     0</td>\n",
        "      <td>  Jam</td>\n",
        "      <td> Jun 2015</td>\n",
        "      <td> ZUCCHINI JAM WITH PISTACHIO &amp; MASTIC (NATURAL)...</td>\n",
        "      <td>   0.0</td>\n",
        "      <td>  0.0</td>\n",
        "    </tr>\n",
        "    <tr>\n",
        "      <th>82142</th>\n",
        "      <td> ZUCCHINI JAM WITH PISTACHIO &amp; MASTIC (NATURAL)</td>\n",
        "      <td>                     0</td>\n",
        "      <td>  Jam</td>\n",
        "      <td> Jul 2015</td>\n",
        "      <td> ZUCCHINI JAM WITH PISTACHIO &amp; MASTIC (NATURAL)...</td>\n",
        "      <td>   0.0</td>\n",
        "      <td>  0.0</td>\n",
        "    </tr>\n",
        "    <tr>\n",
        "      <th>82143</th>\n",
        "      <td> ZUCCHINI JAM WITH PISTACHIO &amp; MASTIC (NATURAL)</td>\n",
        "      <td>                     0</td>\n",
        "      <td>  Jam</td>\n",
        "      <td> Aug 2015</td>\n",
        "      <td> ZUCCHINI JAM WITH PISTACHIO &amp; MASTIC (NATURAL)...</td>\n",
        "      <td>   0.0</td>\n",
        "      <td>  0.0</td>\n",
        "    </tr>\n",
        "    <tr>\n",
        "      <th>82144</th>\n",
        "      <td> ZUCCHINI JAM WITH PISTACHIO &amp; MASTIC (NATURAL)</td>\n",
        "      <td>                     0</td>\n",
        "      <td>  Jam</td>\n",
        "      <td> Sep 2015</td>\n",
        "      <td> ZUCCHINI JAM WITH PISTACHIO &amp; MASTIC (NATURAL)...</td>\n",
        "      <td> 200.0</td>\n",
        "      <td> 50.0</td>\n",
        "    </tr>\n",
        "    <tr>\n",
        "      <th>82145</th>\n",
        "      <td> ZUCCHINI JAM WITH PISTACHIO &amp; MASTIC (NATURAL)</td>\n",
        "      <td>                     0</td>\n",
        "      <td>  Jam</td>\n",
        "      <td> Oct 2015</td>\n",
        "      <td> ZUCCHINI JAM WITH PISTACHIO &amp; MASTIC (NATURAL)...</td>\n",
        "      <td>   0.0</td>\n",
        "      <td>  0.0</td>\n",
        "    </tr>\n",
        "    <tr>\n",
        "      <th>82146</th>\n",
        "      <td> ZUCCHINI JAM WITH PISTACHIO &amp; MASTIC (NATURAL)</td>\n",
        "      <td>                     0</td>\n",
        "      <td>  Jam</td>\n",
        "      <td> Nov 2015</td>\n",
        "      <td> ZUCCHINI JAM WITH PISTACHIO &amp; MASTIC (NATURAL)...</td>\n",
        "      <td>   0.0</td>\n",
        "      <td>  0.0</td>\n",
        "    </tr>\n",
        "    <tr>\n",
        "      <th>82147</th>\n",
        "      <td> ZUCCHINI JAM WITH PISTACHIO &amp; MASTIC (NATURAL)</td>\n",
        "      <td>                     0</td>\n",
        "      <td>  Jam</td>\n",
        "      <td> Dec 2015</td>\n",
        "      <td> ZUCCHINI JAM WITH PISTACHIO &amp; MASTIC (NATURAL)...</td>\n",
        "      <td>   0.0</td>\n",
        "      <td>  0.0</td>\n",
        "    </tr>\n",
        "  </tbody>\n",
        "</table>\n",
        "<p>82148 rows \u00d7 7 columns</p>\n",
        "</div>"
       ],
       "metadata": {},
       "output_type": "pyout",
       "prompt_number": 9,
       "text": [
        "                                              Product                  Brand  \\\n",
        "0                                7 GRAIN MILK / 946ML  Pacific Natural Foods   \n",
        "1                                7 GRAIN MILK / 946ML  Pacific Natural Foods   \n",
        "2                                7 GRAIN MILK / 946ML  Pacific Natural Foods   \n",
        "3                                7 GRAIN MILK / 946ML  Pacific Natural Foods   \n",
        "4                                7 GRAIN MILK / 946ML  Pacific Natural Foods   \n",
        "5                                7 GRAIN MILK / 946ML  Pacific Natural Foods   \n",
        "6                                7 GRAIN MILK / 946ML  Pacific Natural Foods   \n",
        "7                                7 GRAIN MILK / 946ML  Pacific Natural Foods   \n",
        "8                                7 GRAIN MILK / 946ML  Pacific Natural Foods   \n",
        "9                                7 GRAIN MILK / 946ML  Pacific Natural Foods   \n",
        "10                               7 GRAIN MILK / 946ML  Pacific Natural Foods   \n",
        "11                               7 GRAIN MILK / 946ML  Pacific Natural Foods   \n",
        "12                               7 GRAIN MILK / 946ML  Pacific Natural Foods   \n",
        "13                               7 GRAIN MILK / 946ML  Pacific Natural Foods   \n",
        "14                               7 GRAIN MILK / 946ML  Pacific Natural Foods   \n",
        "15                               7 GRAIN MILK / 946ML  Pacific Natural Foods   \n",
        "16                               7 GRAIN MILK / 946ML  Pacific Natural Foods   \n",
        "17                               7 GRAIN MILK / 946ML  Pacific Natural Foods   \n",
        "18                               7 GRAIN MILK / 946ML  Pacific Natural Foods   \n",
        "19                               7 GRAIN MILK / 946ML  Pacific Natural Foods   \n",
        "20                               7 GRAIN MILK / 946ML  Pacific Natural Foods   \n",
        "21                               7 GRAIN MILK / 946ML  Pacific Natural Foods   \n",
        "22                               7 GRAIN MILK / 946ML  Pacific Natural Foods   \n",
        "23                               7 GRAIN MILK / 946ML  Pacific Natural Foods   \n",
        "24                               7 GRAIN MILK / 946ML  Pacific Natural Foods   \n",
        "25                               7 GRAIN MILK / 946ML  Pacific Natural Foods   \n",
        "26                               7 GRAIN MILK / 946ML  Pacific Natural Foods   \n",
        "27                               7 GRAIN MILK / 946ML  Pacific Natural Foods   \n",
        "28                               7 GRAIN MILK / 946ML  Pacific Natural Foods   \n",
        "29                               7 GRAIN MILK / 946ML  Pacific Natural Foods   \n",
        "...                                               ...                    ...   \n",
        "82118  ZUCCHINI JAM WITH PISTACHIO & MASTIC (NATURAL)                      0   \n",
        "82119  ZUCCHINI JAM WITH PISTACHIO & MASTIC (NATURAL)                      0   \n",
        "82120  ZUCCHINI JAM WITH PISTACHIO & MASTIC (NATURAL)                      0   \n",
        "82121  ZUCCHINI JAM WITH PISTACHIO & MASTIC (NATURAL)                      0   \n",
        "82122  ZUCCHINI JAM WITH PISTACHIO & MASTIC (NATURAL)                      0   \n",
        "82123  ZUCCHINI JAM WITH PISTACHIO & MASTIC (NATURAL)                      0   \n",
        "82124  ZUCCHINI JAM WITH PISTACHIO & MASTIC (NATURAL)                      0   \n",
        "82125  ZUCCHINI JAM WITH PISTACHIO & MASTIC (NATURAL)                      0   \n",
        "82126  ZUCCHINI JAM WITH PISTACHIO & MASTIC (NATURAL)                      0   \n",
        "82127  ZUCCHINI JAM WITH PISTACHIO & MASTIC (NATURAL)                      0   \n",
        "82128  ZUCCHINI JAM WITH PISTACHIO & MASTIC (NATURAL)                      0   \n",
        "82129  ZUCCHINI JAM WITH PISTACHIO & MASTIC (NATURAL)                      0   \n",
        "82130  ZUCCHINI JAM WITH PISTACHIO & MASTIC (NATURAL)                      0   \n",
        "82131  ZUCCHINI JAM WITH PISTACHIO & MASTIC (NATURAL)                      0   \n",
        "82132  ZUCCHINI JAM WITH PISTACHIO & MASTIC (NATURAL)                      0   \n",
        "82133  ZUCCHINI JAM WITH PISTACHIO & MASTIC (NATURAL)                      0   \n",
        "82134  ZUCCHINI JAM WITH PISTACHIO & MASTIC (NATURAL)                      0   \n",
        "82135  ZUCCHINI JAM WITH PISTACHIO & MASTIC (NATURAL)                      0   \n",
        "82136  ZUCCHINI JAM WITH PISTACHIO & MASTIC (NATURAL)                      0   \n",
        "82137  ZUCCHINI JAM WITH PISTACHIO & MASTIC (NATURAL)                      0   \n",
        "82138  ZUCCHINI JAM WITH PISTACHIO & MASTIC (NATURAL)                      0   \n",
        "82139  ZUCCHINI JAM WITH PISTACHIO & MASTIC (NATURAL)                      0   \n",
        "82140  ZUCCHINI JAM WITH PISTACHIO & MASTIC (NATURAL)                      0   \n",
        "82141  ZUCCHINI JAM WITH PISTACHIO & MASTIC (NATURAL)                      0   \n",
        "82142  ZUCCHINI JAM WITH PISTACHIO & MASTIC (NATURAL)                      0   \n",
        "82143  ZUCCHINI JAM WITH PISTACHIO & MASTIC (NATURAL)                      0   \n",
        "82144  ZUCCHINI JAM WITH PISTACHIO & MASTIC (NATURAL)                      0   \n",
        "82145  ZUCCHINI JAM WITH PISTACHIO & MASTIC (NATURAL)                      0   \n",
        "82146  ZUCCHINI JAM WITH PISTACHIO & MASTIC (NATURAL)                      0   \n",
        "82147  ZUCCHINI JAM WITH PISTACHIO & MASTIC (NATURAL)                      0   \n",
        "\n",
        "       Type      Date                                           New name  \\\n",
        "0      Milk  May 2012    7 GRAIN MILK / 946ML,Pacific Natural Foods,Milk   \n",
        "1      Milk  Jun 2012    7 GRAIN MILK / 946ML,Pacific Natural Foods,Milk   \n",
        "2      Milk  Jul 2012    7 GRAIN MILK / 946ML,Pacific Natural Foods,Milk   \n",
        "3      Milk  Aug 2012    7 GRAIN MILK / 946ML,Pacific Natural Foods,Milk   \n",
        "4      Milk  Sep 2012    7 GRAIN MILK / 946ML,Pacific Natural Foods,Milk   \n",
        "5      Milk  Oct 2012    7 GRAIN MILK / 946ML,Pacific Natural Foods,Milk   \n",
        "6      Milk  Nov 2012    7 GRAIN MILK / 946ML,Pacific Natural Foods,Milk   \n",
        "7      Milk  Dec 2012    7 GRAIN MILK / 946ML,Pacific Natural Foods,Milk   \n",
        "8      Milk  Jan 2013    7 GRAIN MILK / 946ML,Pacific Natural Foods,Milk   \n",
        "9      Milk  Feb 2013    7 GRAIN MILK / 946ML,Pacific Natural Foods,Milk   \n",
        "10     Milk  Mar 2013    7 GRAIN MILK / 946ML,Pacific Natural Foods,Milk   \n",
        "11     Milk  Apr 2013    7 GRAIN MILK / 946ML,Pacific Natural Foods,Milk   \n",
        "12     Milk  May 2013    7 GRAIN MILK / 946ML,Pacific Natural Foods,Milk   \n",
        "13     Milk  Jun 2013    7 GRAIN MILK / 946ML,Pacific Natural Foods,Milk   \n",
        "14     Milk  Jul 2013    7 GRAIN MILK / 946ML,Pacific Natural Foods,Milk   \n",
        "15     Milk  Aug 2013    7 GRAIN MILK / 946ML,Pacific Natural Foods,Milk   \n",
        "16     Milk  Sep 2013    7 GRAIN MILK / 946ML,Pacific Natural Foods,Milk   \n",
        "17     Milk  Oct 2013    7 GRAIN MILK / 946ML,Pacific Natural Foods,Milk   \n",
        "18     Milk  Nov 2013    7 GRAIN MILK / 946ML,Pacific Natural Foods,Milk   \n",
        "19     Milk  Dec 2013    7 GRAIN MILK / 946ML,Pacific Natural Foods,Milk   \n",
        "20     Milk  Jan 2014    7 GRAIN MILK / 946ML,Pacific Natural Foods,Milk   \n",
        "21     Milk  Feb 2014    7 GRAIN MILK / 946ML,Pacific Natural Foods,Milk   \n",
        "22     Milk  Mar 2014    7 GRAIN MILK / 946ML,Pacific Natural Foods,Milk   \n",
        "23     Milk  Apr 2014    7 GRAIN MILK / 946ML,Pacific Natural Foods,Milk   \n",
        "24     Milk  May 2014    7 GRAIN MILK / 946ML,Pacific Natural Foods,Milk   \n",
        "25     Milk  Jun 2014    7 GRAIN MILK / 946ML,Pacific Natural Foods,Milk   \n",
        "26     Milk  Jul 2014    7 GRAIN MILK / 946ML,Pacific Natural Foods,Milk   \n",
        "27     Milk  Aug 2014    7 GRAIN MILK / 946ML,Pacific Natural Foods,Milk   \n",
        "28     Milk  Sep 2014    7 GRAIN MILK / 946ML,Pacific Natural Foods,Milk   \n",
        "29     Milk  Oct 2014    7 GRAIN MILK / 946ML,Pacific Natural Foods,Milk   \n",
        "...     ...       ...                                                ...   \n",
        "82118   Jam  Jul 2013  ZUCCHINI JAM WITH PISTACHIO & MASTIC (NATURAL)...   \n",
        "82119   Jam  Aug 2013  ZUCCHINI JAM WITH PISTACHIO & MASTIC (NATURAL)...   \n",
        "82120   Jam  Sep 2013  ZUCCHINI JAM WITH PISTACHIO & MASTIC (NATURAL)...   \n",
        "82121   Jam  Oct 2013  ZUCCHINI JAM WITH PISTACHIO & MASTIC (NATURAL)...   \n",
        "82122   Jam  Nov 2013  ZUCCHINI JAM WITH PISTACHIO & MASTIC (NATURAL)...   \n",
        "82123   Jam  Dec 2013  ZUCCHINI JAM WITH PISTACHIO & MASTIC (NATURAL)...   \n",
        "82124   Jam  Jan 2014  ZUCCHINI JAM WITH PISTACHIO & MASTIC (NATURAL)...   \n",
        "82125   Jam  Feb 2014  ZUCCHINI JAM WITH PISTACHIO & MASTIC (NATURAL)...   \n",
        "82126   Jam  Mar 2014  ZUCCHINI JAM WITH PISTACHIO & MASTIC (NATURAL)...   \n",
        "82127   Jam  Apr 2014  ZUCCHINI JAM WITH PISTACHIO & MASTIC (NATURAL)...   \n",
        "82128   Jam  May 2014  ZUCCHINI JAM WITH PISTACHIO & MASTIC (NATURAL)...   \n",
        "82129   Jam  Jun 2014  ZUCCHINI JAM WITH PISTACHIO & MASTIC (NATURAL)...   \n",
        "82130   Jam  Jul 2014  ZUCCHINI JAM WITH PISTACHIO & MASTIC (NATURAL)...   \n",
        "82131   Jam  Aug 2014  ZUCCHINI JAM WITH PISTACHIO & MASTIC (NATURAL)...   \n",
        "82132   Jam  Sep 2014  ZUCCHINI JAM WITH PISTACHIO & MASTIC (NATURAL)...   \n",
        "82133   Jam  Oct 2014  ZUCCHINI JAM WITH PISTACHIO & MASTIC (NATURAL)...   \n",
        "82134   Jam  Nov 2014  ZUCCHINI JAM WITH PISTACHIO & MASTIC (NATURAL)...   \n",
        "82135   Jam  Dec 2014  ZUCCHINI JAM WITH PISTACHIO & MASTIC (NATURAL)...   \n",
        "82136   Jam  Jan 2015  ZUCCHINI JAM WITH PISTACHIO & MASTIC (NATURAL)...   \n",
        "82137   Jam  Feb 2015  ZUCCHINI JAM WITH PISTACHIO & MASTIC (NATURAL)...   \n",
        "82138   Jam  Mar 2015  ZUCCHINI JAM WITH PISTACHIO & MASTIC (NATURAL)...   \n",
        "82139   Jam  Apr 2015  ZUCCHINI JAM WITH PISTACHIO & MASTIC (NATURAL)...   \n",
        "82140   Jam  May 2015  ZUCCHINI JAM WITH PISTACHIO & MASTIC (NATURAL)...   \n",
        "82141   Jam  Jun 2015  ZUCCHINI JAM WITH PISTACHIO & MASTIC (NATURAL)...   \n",
        "82142   Jam  Jul 2015  ZUCCHINI JAM WITH PISTACHIO & MASTIC (NATURAL)...   \n",
        "82143   Jam  Aug 2015  ZUCCHINI JAM WITH PISTACHIO & MASTIC (NATURAL)...   \n",
        "82144   Jam  Sep 2015  ZUCCHINI JAM WITH PISTACHIO & MASTIC (NATURAL)...   \n",
        "82145   Jam  Oct 2015  ZUCCHINI JAM WITH PISTACHIO & MASTIC (NATURAL)...   \n",
        "82146   Jam  Nov 2015  ZUCCHINI JAM WITH PISTACHIO & MASTIC (NATURAL)...   \n",
        "82147   Jam  Dec 2015  ZUCCHINI JAM WITH PISTACHIO & MASTIC (NATURAL)...   \n",
        "\n",
        "       Revenue  Gross Profit  \n",
        "0          0.0           0.0  \n",
        "1          0.0           0.0  \n",
        "2          0.0           0.0  \n",
        "3          0.0           0.0  \n",
        "4          0.0           0.0  \n",
        "5          0.0           0.0  \n",
        "6          0.0           0.0  \n",
        "7         31.9           4.9  \n",
        "8        127.6          19.6  \n",
        "9         31.9           4.9  \n",
        "10       255.2          39.2  \n",
        "11       382.8          58.8  \n",
        "12        31.9           4.9  \n",
        "13        95.7          14.7  \n",
        "14         0.0           0.0  \n",
        "15        31.9           4.9  \n",
        "16       302.4          72.0  \n",
        "17       134.4          32.0  \n",
        "18        67.2          16.0  \n",
        "19         0.0           0.0  \n",
        "20         0.0           0.0  \n",
        "21         0.0           0.0  \n",
        "22         0.0           0.0  \n",
        "23         0.0           0.0  \n",
        "24         0.0           0.0  \n",
        "25         0.0           0.0  \n",
        "26         0.0           0.0  \n",
        "27         0.0           0.0  \n",
        "28         0.0           0.0  \n",
        "29         0.0           0.0  \n",
        "...        ...           ...  \n",
        "82118      0.0           0.0  \n",
        "82119      0.0           0.0  \n",
        "82120      0.0           0.0  \n",
        "82121      0.0           0.0  \n",
        "82122      0.0           0.0  \n",
        "82123      0.0           0.0  \n",
        "82124      0.0           0.0  \n",
        "82125      0.0           0.0  \n",
        "82126      0.0           0.0  \n",
        "82127      0.0           0.0  \n",
        "82128      0.0           0.0  \n",
        "82129      0.0           0.0  \n",
        "82130      0.0           0.0  \n",
        "82131      0.0           0.0  \n",
        "82132      0.0           0.0  \n",
        "82133      0.0           0.0  \n",
        "82134      0.0           0.0  \n",
        "82135      0.0           0.0  \n",
        "82136      0.0           0.0  \n",
        "82137      0.0           0.0  \n",
        "82138      0.0           0.0  \n",
        "82139      0.0           0.0  \n",
        "82140      0.0           0.0  \n",
        "82141      0.0           0.0  \n",
        "82142      0.0           0.0  \n",
        "82143      0.0           0.0  \n",
        "82144    200.0          50.0  \n",
        "82145      0.0           0.0  \n",
        "82146      0.0           0.0  \n",
        "82147      0.0           0.0  \n",
        "\n",
        "[82148 rows x 7 columns]"
       ]
      }
     ],
     "prompt_number": 9
    },
    {
     "cell_type": "code",
     "collapsed": false,
     "input": [
      "df2 = df2[['Product', 'Brand', 'Type', 'Date', 'Revenue', 'Gross Profit']]\n",
      "df2['Date'] = df2.Date.apply(lambda x: pd.to_datetime(datetime.strptime(x, '%b %Y')).date())\n",
      "df2"
     ],
     "language": "python",
     "metadata": {},
     "outputs": [
      {
       "output_type": "stream",
       "stream": "stderr",
       "text": [
        "-c:2: SettingWithCopyWarning: \n",
        "A value is trying to be set on a copy of a slice from a DataFrame.\n",
        "Try using .loc[row_indexer,col_indexer] = value instead\n",
        "\n",
        "See the the caveats in the documentation: http://pandas.pydata.org/pandas-docs/stable/indexing.html#indexing-view-versus-copy\n"
       ]
      },
      {
       "html": [
        "<div style=\"max-height:1000px;max-width:1500px;overflow:auto;\">\n",
        "<table border=\"1\" class=\"dataframe\">\n",
        "  <thead>\n",
        "    <tr style=\"text-align: right;\">\n",
        "      <th></th>\n",
        "      <th>Product</th>\n",
        "      <th>Brand</th>\n",
        "      <th>Type</th>\n",
        "      <th>Date</th>\n",
        "      <th>Revenue</th>\n",
        "      <th>Gross Profit</th>\n",
        "    </tr>\n",
        "  </thead>\n",
        "  <tbody>\n",
        "    <tr>\n",
        "      <th>0    </th>\n",
        "      <td>                           7 GRAIN MILK / 946ML</td>\n",
        "      <td> Pacific Natural Foods</td>\n",
        "      <td> Milk</td>\n",
        "      <td> 2012-05-01</td>\n",
        "      <td>   0.0</td>\n",
        "      <td>  0.0</td>\n",
        "    </tr>\n",
        "    <tr>\n",
        "      <th>1    </th>\n",
        "      <td>                           7 GRAIN MILK / 946ML</td>\n",
        "      <td> Pacific Natural Foods</td>\n",
        "      <td> Milk</td>\n",
        "      <td> 2012-06-01</td>\n",
        "      <td>   0.0</td>\n",
        "      <td>  0.0</td>\n",
        "    </tr>\n",
        "    <tr>\n",
        "      <th>2    </th>\n",
        "      <td>                           7 GRAIN MILK / 946ML</td>\n",
        "      <td> Pacific Natural Foods</td>\n",
        "      <td> Milk</td>\n",
        "      <td> 2012-07-01</td>\n",
        "      <td>   0.0</td>\n",
        "      <td>  0.0</td>\n",
        "    </tr>\n",
        "    <tr>\n",
        "      <th>3    </th>\n",
        "      <td>                           7 GRAIN MILK / 946ML</td>\n",
        "      <td> Pacific Natural Foods</td>\n",
        "      <td> Milk</td>\n",
        "      <td> 2012-08-01</td>\n",
        "      <td>   0.0</td>\n",
        "      <td>  0.0</td>\n",
        "    </tr>\n",
        "    <tr>\n",
        "      <th>4    </th>\n",
        "      <td>                           7 GRAIN MILK / 946ML</td>\n",
        "      <td> Pacific Natural Foods</td>\n",
        "      <td> Milk</td>\n",
        "      <td> 2012-09-01</td>\n",
        "      <td>   0.0</td>\n",
        "      <td>  0.0</td>\n",
        "    </tr>\n",
        "    <tr>\n",
        "      <th>5    </th>\n",
        "      <td>                           7 GRAIN MILK / 946ML</td>\n",
        "      <td> Pacific Natural Foods</td>\n",
        "      <td> Milk</td>\n",
        "      <td> 2012-10-01</td>\n",
        "      <td>   0.0</td>\n",
        "      <td>  0.0</td>\n",
        "    </tr>\n",
        "    <tr>\n",
        "      <th>6    </th>\n",
        "      <td>                           7 GRAIN MILK / 946ML</td>\n",
        "      <td> Pacific Natural Foods</td>\n",
        "      <td> Milk</td>\n",
        "      <td> 2012-11-01</td>\n",
        "      <td>   0.0</td>\n",
        "      <td>  0.0</td>\n",
        "    </tr>\n",
        "    <tr>\n",
        "      <th>7    </th>\n",
        "      <td>                           7 GRAIN MILK / 946ML</td>\n",
        "      <td> Pacific Natural Foods</td>\n",
        "      <td> Milk</td>\n",
        "      <td> 2012-12-01</td>\n",
        "      <td>  31.9</td>\n",
        "      <td>  4.9</td>\n",
        "    </tr>\n",
        "    <tr>\n",
        "      <th>8    </th>\n",
        "      <td>                           7 GRAIN MILK / 946ML</td>\n",
        "      <td> Pacific Natural Foods</td>\n",
        "      <td> Milk</td>\n",
        "      <td> 2013-01-01</td>\n",
        "      <td> 127.6</td>\n",
        "      <td> 19.6</td>\n",
        "    </tr>\n",
        "    <tr>\n",
        "      <th>9    </th>\n",
        "      <td>                           7 GRAIN MILK / 946ML</td>\n",
        "      <td> Pacific Natural Foods</td>\n",
        "      <td> Milk</td>\n",
        "      <td> 2013-02-01</td>\n",
        "      <td>  31.9</td>\n",
        "      <td>  4.9</td>\n",
        "    </tr>\n",
        "    <tr>\n",
        "      <th>10   </th>\n",
        "      <td>                           7 GRAIN MILK / 946ML</td>\n",
        "      <td> Pacific Natural Foods</td>\n",
        "      <td> Milk</td>\n",
        "      <td> 2013-03-01</td>\n",
        "      <td> 255.2</td>\n",
        "      <td> 39.2</td>\n",
        "    </tr>\n",
        "    <tr>\n",
        "      <th>11   </th>\n",
        "      <td>                           7 GRAIN MILK / 946ML</td>\n",
        "      <td> Pacific Natural Foods</td>\n",
        "      <td> Milk</td>\n",
        "      <td> 2013-04-01</td>\n",
        "      <td> 382.8</td>\n",
        "      <td> 58.8</td>\n",
        "    </tr>\n",
        "    <tr>\n",
        "      <th>12   </th>\n",
        "      <td>                           7 GRAIN MILK / 946ML</td>\n",
        "      <td> Pacific Natural Foods</td>\n",
        "      <td> Milk</td>\n",
        "      <td> 2013-05-01</td>\n",
        "      <td>  31.9</td>\n",
        "      <td>  4.9</td>\n",
        "    </tr>\n",
        "    <tr>\n",
        "      <th>13   </th>\n",
        "      <td>                           7 GRAIN MILK / 946ML</td>\n",
        "      <td> Pacific Natural Foods</td>\n",
        "      <td> Milk</td>\n",
        "      <td> 2013-06-01</td>\n",
        "      <td>  95.7</td>\n",
        "      <td> 14.7</td>\n",
        "    </tr>\n",
        "    <tr>\n",
        "      <th>14   </th>\n",
        "      <td>                           7 GRAIN MILK / 946ML</td>\n",
        "      <td> Pacific Natural Foods</td>\n",
        "      <td> Milk</td>\n",
        "      <td> 2013-07-01</td>\n",
        "      <td>   0.0</td>\n",
        "      <td>  0.0</td>\n",
        "    </tr>\n",
        "    <tr>\n",
        "      <th>15   </th>\n",
        "      <td>                           7 GRAIN MILK / 946ML</td>\n",
        "      <td> Pacific Natural Foods</td>\n",
        "      <td> Milk</td>\n",
        "      <td> 2013-08-01</td>\n",
        "      <td>  31.9</td>\n",
        "      <td>  4.9</td>\n",
        "    </tr>\n",
        "    <tr>\n",
        "      <th>16   </th>\n",
        "      <td>                           7 GRAIN MILK / 946ML</td>\n",
        "      <td> Pacific Natural Foods</td>\n",
        "      <td> Milk</td>\n",
        "      <td> 2013-09-01</td>\n",
        "      <td> 302.4</td>\n",
        "      <td> 72.0</td>\n",
        "    </tr>\n",
        "    <tr>\n",
        "      <th>17   </th>\n",
        "      <td>                           7 GRAIN MILK / 946ML</td>\n",
        "      <td> Pacific Natural Foods</td>\n",
        "      <td> Milk</td>\n",
        "      <td> 2013-10-01</td>\n",
        "      <td> 134.4</td>\n",
        "      <td> 32.0</td>\n",
        "    </tr>\n",
        "    <tr>\n",
        "      <th>18   </th>\n",
        "      <td>                           7 GRAIN MILK / 946ML</td>\n",
        "      <td> Pacific Natural Foods</td>\n",
        "      <td> Milk</td>\n",
        "      <td> 2013-11-01</td>\n",
        "      <td>  67.2</td>\n",
        "      <td> 16.0</td>\n",
        "    </tr>\n",
        "    <tr>\n",
        "      <th>19   </th>\n",
        "      <td>                           7 GRAIN MILK / 946ML</td>\n",
        "      <td> Pacific Natural Foods</td>\n",
        "      <td> Milk</td>\n",
        "      <td> 2013-12-01</td>\n",
        "      <td>   0.0</td>\n",
        "      <td>  0.0</td>\n",
        "    </tr>\n",
        "    <tr>\n",
        "      <th>20   </th>\n",
        "      <td>                           7 GRAIN MILK / 946ML</td>\n",
        "      <td> Pacific Natural Foods</td>\n",
        "      <td> Milk</td>\n",
        "      <td> 2014-01-01</td>\n",
        "      <td>   0.0</td>\n",
        "      <td>  0.0</td>\n",
        "    </tr>\n",
        "    <tr>\n",
        "      <th>21   </th>\n",
        "      <td>                           7 GRAIN MILK / 946ML</td>\n",
        "      <td> Pacific Natural Foods</td>\n",
        "      <td> Milk</td>\n",
        "      <td> 2014-02-01</td>\n",
        "      <td>   0.0</td>\n",
        "      <td>  0.0</td>\n",
        "    </tr>\n",
        "    <tr>\n",
        "      <th>22   </th>\n",
        "      <td>                           7 GRAIN MILK / 946ML</td>\n",
        "      <td> Pacific Natural Foods</td>\n",
        "      <td> Milk</td>\n",
        "      <td> 2014-03-01</td>\n",
        "      <td>   0.0</td>\n",
        "      <td>  0.0</td>\n",
        "    </tr>\n",
        "    <tr>\n",
        "      <th>23   </th>\n",
        "      <td>                           7 GRAIN MILK / 946ML</td>\n",
        "      <td> Pacific Natural Foods</td>\n",
        "      <td> Milk</td>\n",
        "      <td> 2014-04-01</td>\n",
        "      <td>   0.0</td>\n",
        "      <td>  0.0</td>\n",
        "    </tr>\n",
        "    <tr>\n",
        "      <th>24   </th>\n",
        "      <td>                           7 GRAIN MILK / 946ML</td>\n",
        "      <td> Pacific Natural Foods</td>\n",
        "      <td> Milk</td>\n",
        "      <td> 2014-05-01</td>\n",
        "      <td>   0.0</td>\n",
        "      <td>  0.0</td>\n",
        "    </tr>\n",
        "    <tr>\n",
        "      <th>25   </th>\n",
        "      <td>                           7 GRAIN MILK / 946ML</td>\n",
        "      <td> Pacific Natural Foods</td>\n",
        "      <td> Milk</td>\n",
        "      <td> 2014-06-01</td>\n",
        "      <td>   0.0</td>\n",
        "      <td>  0.0</td>\n",
        "    </tr>\n",
        "    <tr>\n",
        "      <th>26   </th>\n",
        "      <td>                           7 GRAIN MILK / 946ML</td>\n",
        "      <td> Pacific Natural Foods</td>\n",
        "      <td> Milk</td>\n",
        "      <td> 2014-07-01</td>\n",
        "      <td>   0.0</td>\n",
        "      <td>  0.0</td>\n",
        "    </tr>\n",
        "    <tr>\n",
        "      <th>27   </th>\n",
        "      <td>                           7 GRAIN MILK / 946ML</td>\n",
        "      <td> Pacific Natural Foods</td>\n",
        "      <td> Milk</td>\n",
        "      <td> 2014-08-01</td>\n",
        "      <td>   0.0</td>\n",
        "      <td>  0.0</td>\n",
        "    </tr>\n",
        "    <tr>\n",
        "      <th>28   </th>\n",
        "      <td>                           7 GRAIN MILK / 946ML</td>\n",
        "      <td> Pacific Natural Foods</td>\n",
        "      <td> Milk</td>\n",
        "      <td> 2014-09-01</td>\n",
        "      <td>   0.0</td>\n",
        "      <td>  0.0</td>\n",
        "    </tr>\n",
        "    <tr>\n",
        "      <th>29   </th>\n",
        "      <td>                           7 GRAIN MILK / 946ML</td>\n",
        "      <td> Pacific Natural Foods</td>\n",
        "      <td> Milk</td>\n",
        "      <td> 2014-10-01</td>\n",
        "      <td>   0.0</td>\n",
        "      <td>  0.0</td>\n",
        "    </tr>\n",
        "    <tr>\n",
        "      <th>...</th>\n",
        "      <td>...</td>\n",
        "      <td>...</td>\n",
        "      <td>...</td>\n",
        "      <td>...</td>\n",
        "      <td>...</td>\n",
        "      <td>...</td>\n",
        "    </tr>\n",
        "    <tr>\n",
        "      <th>82118</th>\n",
        "      <td> ZUCCHINI JAM WITH PISTACHIO &amp; MASTIC (NATURAL)</td>\n",
        "      <td>                     0</td>\n",
        "      <td>  Jam</td>\n",
        "      <td> 2013-07-01</td>\n",
        "      <td>   0.0</td>\n",
        "      <td>  0.0</td>\n",
        "    </tr>\n",
        "    <tr>\n",
        "      <th>82119</th>\n",
        "      <td> ZUCCHINI JAM WITH PISTACHIO &amp; MASTIC (NATURAL)</td>\n",
        "      <td>                     0</td>\n",
        "      <td>  Jam</td>\n",
        "      <td> 2013-08-01</td>\n",
        "      <td>   0.0</td>\n",
        "      <td>  0.0</td>\n",
        "    </tr>\n",
        "    <tr>\n",
        "      <th>82120</th>\n",
        "      <td> ZUCCHINI JAM WITH PISTACHIO &amp; MASTIC (NATURAL)</td>\n",
        "      <td>                     0</td>\n",
        "      <td>  Jam</td>\n",
        "      <td> 2013-09-01</td>\n",
        "      <td>   0.0</td>\n",
        "      <td>  0.0</td>\n",
        "    </tr>\n",
        "    <tr>\n",
        "      <th>82121</th>\n",
        "      <td> ZUCCHINI JAM WITH PISTACHIO &amp; MASTIC (NATURAL)</td>\n",
        "      <td>                     0</td>\n",
        "      <td>  Jam</td>\n",
        "      <td> 2013-10-01</td>\n",
        "      <td>   0.0</td>\n",
        "      <td>  0.0</td>\n",
        "    </tr>\n",
        "    <tr>\n",
        "      <th>82122</th>\n",
        "      <td> ZUCCHINI JAM WITH PISTACHIO &amp; MASTIC (NATURAL)</td>\n",
        "      <td>                     0</td>\n",
        "      <td>  Jam</td>\n",
        "      <td> 2013-11-01</td>\n",
        "      <td>   0.0</td>\n",
        "      <td>  0.0</td>\n",
        "    </tr>\n",
        "    <tr>\n",
        "      <th>82123</th>\n",
        "      <td> ZUCCHINI JAM WITH PISTACHIO &amp; MASTIC (NATURAL)</td>\n",
        "      <td>                     0</td>\n",
        "      <td>  Jam</td>\n",
        "      <td> 2013-12-01</td>\n",
        "      <td>   0.0</td>\n",
        "      <td>  0.0</td>\n",
        "    </tr>\n",
        "    <tr>\n",
        "      <th>82124</th>\n",
        "      <td> ZUCCHINI JAM WITH PISTACHIO &amp; MASTIC (NATURAL)</td>\n",
        "      <td>                     0</td>\n",
        "      <td>  Jam</td>\n",
        "      <td> 2014-01-01</td>\n",
        "      <td>   0.0</td>\n",
        "      <td>  0.0</td>\n",
        "    </tr>\n",
        "    <tr>\n",
        "      <th>82125</th>\n",
        "      <td> ZUCCHINI JAM WITH PISTACHIO &amp; MASTIC (NATURAL)</td>\n",
        "      <td>                     0</td>\n",
        "      <td>  Jam</td>\n",
        "      <td> 2014-02-01</td>\n",
        "      <td>   0.0</td>\n",
        "      <td>  0.0</td>\n",
        "    </tr>\n",
        "    <tr>\n",
        "      <th>82126</th>\n",
        "      <td> ZUCCHINI JAM WITH PISTACHIO &amp; MASTIC (NATURAL)</td>\n",
        "      <td>                     0</td>\n",
        "      <td>  Jam</td>\n",
        "      <td> 2014-03-01</td>\n",
        "      <td>   0.0</td>\n",
        "      <td>  0.0</td>\n",
        "    </tr>\n",
        "    <tr>\n",
        "      <th>82127</th>\n",
        "      <td> ZUCCHINI JAM WITH PISTACHIO &amp; MASTIC (NATURAL)</td>\n",
        "      <td>                     0</td>\n",
        "      <td>  Jam</td>\n",
        "      <td> 2014-04-01</td>\n",
        "      <td>   0.0</td>\n",
        "      <td>  0.0</td>\n",
        "    </tr>\n",
        "    <tr>\n",
        "      <th>82128</th>\n",
        "      <td> ZUCCHINI JAM WITH PISTACHIO &amp; MASTIC (NATURAL)</td>\n",
        "      <td>                     0</td>\n",
        "      <td>  Jam</td>\n",
        "      <td> 2014-05-01</td>\n",
        "      <td>   0.0</td>\n",
        "      <td>  0.0</td>\n",
        "    </tr>\n",
        "    <tr>\n",
        "      <th>82129</th>\n",
        "      <td> ZUCCHINI JAM WITH PISTACHIO &amp; MASTIC (NATURAL)</td>\n",
        "      <td>                     0</td>\n",
        "      <td>  Jam</td>\n",
        "      <td> 2014-06-01</td>\n",
        "      <td>   0.0</td>\n",
        "      <td>  0.0</td>\n",
        "    </tr>\n",
        "    <tr>\n",
        "      <th>82130</th>\n",
        "      <td> ZUCCHINI JAM WITH PISTACHIO &amp; MASTIC (NATURAL)</td>\n",
        "      <td>                     0</td>\n",
        "      <td>  Jam</td>\n",
        "      <td> 2014-07-01</td>\n",
        "      <td>   0.0</td>\n",
        "      <td>  0.0</td>\n",
        "    </tr>\n",
        "    <tr>\n",
        "      <th>82131</th>\n",
        "      <td> ZUCCHINI JAM WITH PISTACHIO &amp; MASTIC (NATURAL)</td>\n",
        "      <td>                     0</td>\n",
        "      <td>  Jam</td>\n",
        "      <td> 2014-08-01</td>\n",
        "      <td>   0.0</td>\n",
        "      <td>  0.0</td>\n",
        "    </tr>\n",
        "    <tr>\n",
        "      <th>82132</th>\n",
        "      <td> ZUCCHINI JAM WITH PISTACHIO &amp; MASTIC (NATURAL)</td>\n",
        "      <td>                     0</td>\n",
        "      <td>  Jam</td>\n",
        "      <td> 2014-09-01</td>\n",
        "      <td>   0.0</td>\n",
        "      <td>  0.0</td>\n",
        "    </tr>\n",
        "    <tr>\n",
        "      <th>82133</th>\n",
        "      <td> ZUCCHINI JAM WITH PISTACHIO &amp; MASTIC (NATURAL)</td>\n",
        "      <td>                     0</td>\n",
        "      <td>  Jam</td>\n",
        "      <td> 2014-10-01</td>\n",
        "      <td>   0.0</td>\n",
        "      <td>  0.0</td>\n",
        "    </tr>\n",
        "    <tr>\n",
        "      <th>82134</th>\n",
        "      <td> ZUCCHINI JAM WITH PISTACHIO &amp; MASTIC (NATURAL)</td>\n",
        "      <td>                     0</td>\n",
        "      <td>  Jam</td>\n",
        "      <td> 2014-11-01</td>\n",
        "      <td>   0.0</td>\n",
        "      <td>  0.0</td>\n",
        "    </tr>\n",
        "    <tr>\n",
        "      <th>82135</th>\n",
        "      <td> ZUCCHINI JAM WITH PISTACHIO &amp; MASTIC (NATURAL)</td>\n",
        "      <td>                     0</td>\n",
        "      <td>  Jam</td>\n",
        "      <td> 2014-12-01</td>\n",
        "      <td>   0.0</td>\n",
        "      <td>  0.0</td>\n",
        "    </tr>\n",
        "    <tr>\n",
        "      <th>82136</th>\n",
        "      <td> ZUCCHINI JAM WITH PISTACHIO &amp; MASTIC (NATURAL)</td>\n",
        "      <td>                     0</td>\n",
        "      <td>  Jam</td>\n",
        "      <td> 2015-01-01</td>\n",
        "      <td>   0.0</td>\n",
        "      <td>  0.0</td>\n",
        "    </tr>\n",
        "    <tr>\n",
        "      <th>82137</th>\n",
        "      <td> ZUCCHINI JAM WITH PISTACHIO &amp; MASTIC (NATURAL)</td>\n",
        "      <td>                     0</td>\n",
        "      <td>  Jam</td>\n",
        "      <td> 2015-02-01</td>\n",
        "      <td>   0.0</td>\n",
        "      <td>  0.0</td>\n",
        "    </tr>\n",
        "    <tr>\n",
        "      <th>82138</th>\n",
        "      <td> ZUCCHINI JAM WITH PISTACHIO &amp; MASTIC (NATURAL)</td>\n",
        "      <td>                     0</td>\n",
        "      <td>  Jam</td>\n",
        "      <td> 2015-03-01</td>\n",
        "      <td>   0.0</td>\n",
        "      <td>  0.0</td>\n",
        "    </tr>\n",
        "    <tr>\n",
        "      <th>82139</th>\n",
        "      <td> ZUCCHINI JAM WITH PISTACHIO &amp; MASTIC (NATURAL)</td>\n",
        "      <td>                     0</td>\n",
        "      <td>  Jam</td>\n",
        "      <td> 2015-04-01</td>\n",
        "      <td>   0.0</td>\n",
        "      <td>  0.0</td>\n",
        "    </tr>\n",
        "    <tr>\n",
        "      <th>82140</th>\n",
        "      <td> ZUCCHINI JAM WITH PISTACHIO &amp; MASTIC (NATURAL)</td>\n",
        "      <td>                     0</td>\n",
        "      <td>  Jam</td>\n",
        "      <td> 2015-05-01</td>\n",
        "      <td>   0.0</td>\n",
        "      <td>  0.0</td>\n",
        "    </tr>\n",
        "    <tr>\n",
        "      <th>82141</th>\n",
        "      <td> ZUCCHINI JAM WITH PISTACHIO &amp; MASTIC (NATURAL)</td>\n",
        "      <td>                     0</td>\n",
        "      <td>  Jam</td>\n",
        "      <td> 2015-06-01</td>\n",
        "      <td>   0.0</td>\n",
        "      <td>  0.0</td>\n",
        "    </tr>\n",
        "    <tr>\n",
        "      <th>82142</th>\n",
        "      <td> ZUCCHINI JAM WITH PISTACHIO &amp; MASTIC (NATURAL)</td>\n",
        "      <td>                     0</td>\n",
        "      <td>  Jam</td>\n",
        "      <td> 2015-07-01</td>\n",
        "      <td>   0.0</td>\n",
        "      <td>  0.0</td>\n",
        "    </tr>\n",
        "    <tr>\n",
        "      <th>82143</th>\n",
        "      <td> ZUCCHINI JAM WITH PISTACHIO &amp; MASTIC (NATURAL)</td>\n",
        "      <td>                     0</td>\n",
        "      <td>  Jam</td>\n",
        "      <td> 2015-08-01</td>\n",
        "      <td>   0.0</td>\n",
        "      <td>  0.0</td>\n",
        "    </tr>\n",
        "    <tr>\n",
        "      <th>82144</th>\n",
        "      <td> ZUCCHINI JAM WITH PISTACHIO &amp; MASTIC (NATURAL)</td>\n",
        "      <td>                     0</td>\n",
        "      <td>  Jam</td>\n",
        "      <td> 2015-09-01</td>\n",
        "      <td> 200.0</td>\n",
        "      <td> 50.0</td>\n",
        "    </tr>\n",
        "    <tr>\n",
        "      <th>82145</th>\n",
        "      <td> ZUCCHINI JAM WITH PISTACHIO &amp; MASTIC (NATURAL)</td>\n",
        "      <td>                     0</td>\n",
        "      <td>  Jam</td>\n",
        "      <td> 2015-10-01</td>\n",
        "      <td>   0.0</td>\n",
        "      <td>  0.0</td>\n",
        "    </tr>\n",
        "    <tr>\n",
        "      <th>82146</th>\n",
        "      <td> ZUCCHINI JAM WITH PISTACHIO &amp; MASTIC (NATURAL)</td>\n",
        "      <td>                     0</td>\n",
        "      <td>  Jam</td>\n",
        "      <td> 2015-11-01</td>\n",
        "      <td>   0.0</td>\n",
        "      <td>  0.0</td>\n",
        "    </tr>\n",
        "    <tr>\n",
        "      <th>82147</th>\n",
        "      <td> ZUCCHINI JAM WITH PISTACHIO &amp; MASTIC (NATURAL)</td>\n",
        "      <td>                     0</td>\n",
        "      <td>  Jam</td>\n",
        "      <td> 2015-12-01</td>\n",
        "      <td>   0.0</td>\n",
        "      <td>  0.0</td>\n",
        "    </tr>\n",
        "  </tbody>\n",
        "</table>\n",
        "<p>82148 rows \u00d7 6 columns</p>\n",
        "</div>"
       ],
       "metadata": {},
       "output_type": "pyout",
       "prompt_number": 10,
       "text": [
        "                                              Product                  Brand  \\\n",
        "0                                7 GRAIN MILK / 946ML  Pacific Natural Foods   \n",
        "1                                7 GRAIN MILK / 946ML  Pacific Natural Foods   \n",
        "2                                7 GRAIN MILK / 946ML  Pacific Natural Foods   \n",
        "3                                7 GRAIN MILK / 946ML  Pacific Natural Foods   \n",
        "4                                7 GRAIN MILK / 946ML  Pacific Natural Foods   \n",
        "5                                7 GRAIN MILK / 946ML  Pacific Natural Foods   \n",
        "6                                7 GRAIN MILK / 946ML  Pacific Natural Foods   \n",
        "7                                7 GRAIN MILK / 946ML  Pacific Natural Foods   \n",
        "8                                7 GRAIN MILK / 946ML  Pacific Natural Foods   \n",
        "9                                7 GRAIN MILK / 946ML  Pacific Natural Foods   \n",
        "10                               7 GRAIN MILK / 946ML  Pacific Natural Foods   \n",
        "11                               7 GRAIN MILK / 946ML  Pacific Natural Foods   \n",
        "12                               7 GRAIN MILK / 946ML  Pacific Natural Foods   \n",
        "13                               7 GRAIN MILK / 946ML  Pacific Natural Foods   \n",
        "14                               7 GRAIN MILK / 946ML  Pacific Natural Foods   \n",
        "15                               7 GRAIN MILK / 946ML  Pacific Natural Foods   \n",
        "16                               7 GRAIN MILK / 946ML  Pacific Natural Foods   \n",
        "17                               7 GRAIN MILK / 946ML  Pacific Natural Foods   \n",
        "18                               7 GRAIN MILK / 946ML  Pacific Natural Foods   \n",
        "19                               7 GRAIN MILK / 946ML  Pacific Natural Foods   \n",
        "20                               7 GRAIN MILK / 946ML  Pacific Natural Foods   \n",
        "21                               7 GRAIN MILK / 946ML  Pacific Natural Foods   \n",
        "22                               7 GRAIN MILK / 946ML  Pacific Natural Foods   \n",
        "23                               7 GRAIN MILK / 946ML  Pacific Natural Foods   \n",
        "24                               7 GRAIN MILK / 946ML  Pacific Natural Foods   \n",
        "25                               7 GRAIN MILK / 946ML  Pacific Natural Foods   \n",
        "26                               7 GRAIN MILK / 946ML  Pacific Natural Foods   \n",
        "27                               7 GRAIN MILK / 946ML  Pacific Natural Foods   \n",
        "28                               7 GRAIN MILK / 946ML  Pacific Natural Foods   \n",
        "29                               7 GRAIN MILK / 946ML  Pacific Natural Foods   \n",
        "...                                               ...                    ...   \n",
        "82118  ZUCCHINI JAM WITH PISTACHIO & MASTIC (NATURAL)                      0   \n",
        "82119  ZUCCHINI JAM WITH PISTACHIO & MASTIC (NATURAL)                      0   \n",
        "82120  ZUCCHINI JAM WITH PISTACHIO & MASTIC (NATURAL)                      0   \n",
        "82121  ZUCCHINI JAM WITH PISTACHIO & MASTIC (NATURAL)                      0   \n",
        "82122  ZUCCHINI JAM WITH PISTACHIO & MASTIC (NATURAL)                      0   \n",
        "82123  ZUCCHINI JAM WITH PISTACHIO & MASTIC (NATURAL)                      0   \n",
        "82124  ZUCCHINI JAM WITH PISTACHIO & MASTIC (NATURAL)                      0   \n",
        "82125  ZUCCHINI JAM WITH PISTACHIO & MASTIC (NATURAL)                      0   \n",
        "82126  ZUCCHINI JAM WITH PISTACHIO & MASTIC (NATURAL)                      0   \n",
        "82127  ZUCCHINI JAM WITH PISTACHIO & MASTIC (NATURAL)                      0   \n",
        "82128  ZUCCHINI JAM WITH PISTACHIO & MASTIC (NATURAL)                      0   \n",
        "82129  ZUCCHINI JAM WITH PISTACHIO & MASTIC (NATURAL)                      0   \n",
        "82130  ZUCCHINI JAM WITH PISTACHIO & MASTIC (NATURAL)                      0   \n",
        "82131  ZUCCHINI JAM WITH PISTACHIO & MASTIC (NATURAL)                      0   \n",
        "82132  ZUCCHINI JAM WITH PISTACHIO & MASTIC (NATURAL)                      0   \n",
        "82133  ZUCCHINI JAM WITH PISTACHIO & MASTIC (NATURAL)                      0   \n",
        "82134  ZUCCHINI JAM WITH PISTACHIO & MASTIC (NATURAL)                      0   \n",
        "82135  ZUCCHINI JAM WITH PISTACHIO & MASTIC (NATURAL)                      0   \n",
        "82136  ZUCCHINI JAM WITH PISTACHIO & MASTIC (NATURAL)                      0   \n",
        "82137  ZUCCHINI JAM WITH PISTACHIO & MASTIC (NATURAL)                      0   \n",
        "82138  ZUCCHINI JAM WITH PISTACHIO & MASTIC (NATURAL)                      0   \n",
        "82139  ZUCCHINI JAM WITH PISTACHIO & MASTIC (NATURAL)                      0   \n",
        "82140  ZUCCHINI JAM WITH PISTACHIO & MASTIC (NATURAL)                      0   \n",
        "82141  ZUCCHINI JAM WITH PISTACHIO & MASTIC (NATURAL)                      0   \n",
        "82142  ZUCCHINI JAM WITH PISTACHIO & MASTIC (NATURAL)                      0   \n",
        "82143  ZUCCHINI JAM WITH PISTACHIO & MASTIC (NATURAL)                      0   \n",
        "82144  ZUCCHINI JAM WITH PISTACHIO & MASTIC (NATURAL)                      0   \n",
        "82145  ZUCCHINI JAM WITH PISTACHIO & MASTIC (NATURAL)                      0   \n",
        "82146  ZUCCHINI JAM WITH PISTACHIO & MASTIC (NATURAL)                      0   \n",
        "82147  ZUCCHINI JAM WITH PISTACHIO & MASTIC (NATURAL)                      0   \n",
        "\n",
        "       Type        Date  Revenue  Gross Profit  \n",
        "0      Milk  2012-05-01      0.0           0.0  \n",
        "1      Milk  2012-06-01      0.0           0.0  \n",
        "2      Milk  2012-07-01      0.0           0.0  \n",
        "3      Milk  2012-08-01      0.0           0.0  \n",
        "4      Milk  2012-09-01      0.0           0.0  \n",
        "5      Milk  2012-10-01      0.0           0.0  \n",
        "6      Milk  2012-11-01      0.0           0.0  \n",
        "7      Milk  2012-12-01     31.9           4.9  \n",
        "8      Milk  2013-01-01    127.6          19.6  \n",
        "9      Milk  2013-02-01     31.9           4.9  \n",
        "10     Milk  2013-03-01    255.2          39.2  \n",
        "11     Milk  2013-04-01    382.8          58.8  \n",
        "12     Milk  2013-05-01     31.9           4.9  \n",
        "13     Milk  2013-06-01     95.7          14.7  \n",
        "14     Milk  2013-07-01      0.0           0.0  \n",
        "15     Milk  2013-08-01     31.9           4.9  \n",
        "16     Milk  2013-09-01    302.4          72.0  \n",
        "17     Milk  2013-10-01    134.4          32.0  \n",
        "18     Milk  2013-11-01     67.2          16.0  \n",
        "19     Milk  2013-12-01      0.0           0.0  \n",
        "20     Milk  2014-01-01      0.0           0.0  \n",
        "21     Milk  2014-02-01      0.0           0.0  \n",
        "22     Milk  2014-03-01      0.0           0.0  \n",
        "23     Milk  2014-04-01      0.0           0.0  \n",
        "24     Milk  2014-05-01      0.0           0.0  \n",
        "25     Milk  2014-06-01      0.0           0.0  \n",
        "26     Milk  2014-07-01      0.0           0.0  \n",
        "27     Milk  2014-08-01      0.0           0.0  \n",
        "28     Milk  2014-09-01      0.0           0.0  \n",
        "29     Milk  2014-10-01      0.0           0.0  \n",
        "...     ...         ...      ...           ...  \n",
        "82118   Jam  2013-07-01      0.0           0.0  \n",
        "82119   Jam  2013-08-01      0.0           0.0  \n",
        "82120   Jam  2013-09-01      0.0           0.0  \n",
        "82121   Jam  2013-10-01      0.0           0.0  \n",
        "82122   Jam  2013-11-01      0.0           0.0  \n",
        "82123   Jam  2013-12-01      0.0           0.0  \n",
        "82124   Jam  2014-01-01      0.0           0.0  \n",
        "82125   Jam  2014-02-01      0.0           0.0  \n",
        "82126   Jam  2014-03-01      0.0           0.0  \n",
        "82127   Jam  2014-04-01      0.0           0.0  \n",
        "82128   Jam  2014-05-01      0.0           0.0  \n",
        "82129   Jam  2014-06-01      0.0           0.0  \n",
        "82130   Jam  2014-07-01      0.0           0.0  \n",
        "82131   Jam  2014-08-01      0.0           0.0  \n",
        "82132   Jam  2014-09-01      0.0           0.0  \n",
        "82133   Jam  2014-10-01      0.0           0.0  \n",
        "82134   Jam  2014-11-01      0.0           0.0  \n",
        "82135   Jam  2014-12-01      0.0           0.0  \n",
        "82136   Jam  2015-01-01      0.0           0.0  \n",
        "82137   Jam  2015-02-01      0.0           0.0  \n",
        "82138   Jam  2015-03-01      0.0           0.0  \n",
        "82139   Jam  2015-04-01      0.0           0.0  \n",
        "82140   Jam  2015-05-01      0.0           0.0  \n",
        "82141   Jam  2015-06-01      0.0           0.0  \n",
        "82142   Jam  2015-07-01      0.0           0.0  \n",
        "82143   Jam  2015-08-01      0.0           0.0  \n",
        "82144   Jam  2015-09-01    200.0          50.0  \n",
        "82145   Jam  2015-10-01      0.0           0.0  \n",
        "82146   Jam  2015-11-01      0.0           0.0  \n",
        "82147   Jam  2015-12-01      0.0           0.0  \n",
        "\n",
        "[82148 rows x 6 columns]"
       ]
      }
     ],
     "prompt_number": 10
    },
    {
     "cell_type": "code",
     "collapsed": false,
     "input": [
      "gprofit = df2[['Product', 'Brand', 'Type', 'Date', 'Revenue' , 'Gross Profit']]\n",
      "\n",
      "total = gprofit['Revenue'].sum() #total revenue\n",
      "totalgp = gprofit['Gross Profit'].sum() #total gross profit\n",
      "gprofit['%Total Revenue'] = gprofit['Revenue'].apply(lambda x: x*100/total) #%total revenue\n",
      "totprods = max(gprofit.index) + 1\n",
      "temp = total/totprods #total revenue / total products\n",
      "gprofit['Average Revenue'] = temp #avg revenue\n",
      "gprofit['Average Gross Profit'] = totalgp/totprods #avg gross profit\n",
      "\n",
      "gprofit['% Variation from Average'] = gprofit['Revenue'].apply(lambda x: (x-temp)*100/temp)\n",
      "total = gprofit['Gross Profit'].sum()\n",
      "gprofit['%Total Gross Profit'] = gprofit['Gross Profit'].apply(lambda x: x*100/total)\n",
      "gprofit"
     ],
     "language": "python",
     "metadata": {},
     "outputs": [
      {
       "html": [
        "<div style=\"max-height:1000px;max-width:1500px;overflow:auto;\">\n",
        "<table border=\"1\" class=\"dataframe\">\n",
        "  <thead>\n",
        "    <tr style=\"text-align: right;\">\n",
        "      <th></th>\n",
        "      <th>Product</th>\n",
        "      <th>Brand</th>\n",
        "      <th>Type</th>\n",
        "      <th>Date</th>\n",
        "      <th>Revenue</th>\n",
        "      <th>Gross Profit</th>\n",
        "      <th>%Total Revenue</th>\n",
        "      <th>Average Revenue</th>\n",
        "      <th>Average Gross Profit</th>\n",
        "      <th>% Variation from Average</th>\n",
        "      <th>%Total Gross Profit</th>\n",
        "    </tr>\n",
        "  </thead>\n",
        "  <tbody>\n",
        "    <tr>\n",
        "      <th>0    </th>\n",
        "      <td>                           7 GRAIN MILK / 946ML</td>\n",
        "      <td> Pacific Natural Foods</td>\n",
        "      <td> Milk</td>\n",
        "      <td> 2012-05-01</td>\n",
        "      <td>   0.0</td>\n",
        "      <td>  0.0</td>\n",
        "      <td> 0.000000</td>\n",
        "      <td> 28.327224</td>\n",
        "      <td> 7.212516</td>\n",
        "      <td> -100.000000</td>\n",
        "      <td> 0.000000</td>\n",
        "    </tr>\n",
        "    <tr>\n",
        "      <th>1    </th>\n",
        "      <td>                           7 GRAIN MILK / 946ML</td>\n",
        "      <td> Pacific Natural Foods</td>\n",
        "      <td> Milk</td>\n",
        "      <td> 2012-06-01</td>\n",
        "      <td>   0.0</td>\n",
        "      <td>  0.0</td>\n",
        "      <td> 0.000000</td>\n",
        "      <td> 28.327224</td>\n",
        "      <td> 7.212516</td>\n",
        "      <td> -100.000000</td>\n",
        "      <td> 0.000000</td>\n",
        "    </tr>\n",
        "    <tr>\n",
        "      <th>2    </th>\n",
        "      <td>                           7 GRAIN MILK / 946ML</td>\n",
        "      <td> Pacific Natural Foods</td>\n",
        "      <td> Milk</td>\n",
        "      <td> 2012-07-01</td>\n",
        "      <td>   0.0</td>\n",
        "      <td>  0.0</td>\n",
        "      <td> 0.000000</td>\n",
        "      <td> 28.327224</td>\n",
        "      <td> 7.212516</td>\n",
        "      <td> -100.000000</td>\n",
        "      <td> 0.000000</td>\n",
        "    </tr>\n",
        "    <tr>\n",
        "      <th>3    </th>\n",
        "      <td>                           7 GRAIN MILK / 946ML</td>\n",
        "      <td> Pacific Natural Foods</td>\n",
        "      <td> Milk</td>\n",
        "      <td> 2012-08-01</td>\n",
        "      <td>   0.0</td>\n",
        "      <td>  0.0</td>\n",
        "      <td> 0.000000</td>\n",
        "      <td> 28.327224</td>\n",
        "      <td> 7.212516</td>\n",
        "      <td> -100.000000</td>\n",
        "      <td> 0.000000</td>\n",
        "    </tr>\n",
        "    <tr>\n",
        "      <th>4    </th>\n",
        "      <td>                           7 GRAIN MILK / 946ML</td>\n",
        "      <td> Pacific Natural Foods</td>\n",
        "      <td> Milk</td>\n",
        "      <td> 2012-09-01</td>\n",
        "      <td>   0.0</td>\n",
        "      <td>  0.0</td>\n",
        "      <td> 0.000000</td>\n",
        "      <td> 28.327224</td>\n",
        "      <td> 7.212516</td>\n",
        "      <td> -100.000000</td>\n",
        "      <td> 0.000000</td>\n",
        "    </tr>\n",
        "    <tr>\n",
        "      <th>5    </th>\n",
        "      <td>                           7 GRAIN MILK / 946ML</td>\n",
        "      <td> Pacific Natural Foods</td>\n",
        "      <td> Milk</td>\n",
        "      <td> 2012-10-01</td>\n",
        "      <td>   0.0</td>\n",
        "      <td>  0.0</td>\n",
        "      <td> 0.000000</td>\n",
        "      <td> 28.327224</td>\n",
        "      <td> 7.212516</td>\n",
        "      <td> -100.000000</td>\n",
        "      <td> 0.000000</td>\n",
        "    </tr>\n",
        "    <tr>\n",
        "      <th>6    </th>\n",
        "      <td>                           7 GRAIN MILK / 946ML</td>\n",
        "      <td> Pacific Natural Foods</td>\n",
        "      <td> Milk</td>\n",
        "      <td> 2012-11-01</td>\n",
        "      <td>   0.0</td>\n",
        "      <td>  0.0</td>\n",
        "      <td> 0.000000</td>\n",
        "      <td> 28.327224</td>\n",
        "      <td> 7.212516</td>\n",
        "      <td> -100.000000</td>\n",
        "      <td> 0.000000</td>\n",
        "    </tr>\n",
        "    <tr>\n",
        "      <th>7    </th>\n",
        "      <td>                           7 GRAIN MILK / 946ML</td>\n",
        "      <td> Pacific Natural Foods</td>\n",
        "      <td> Milk</td>\n",
        "      <td> 2012-12-01</td>\n",
        "      <td>  31.9</td>\n",
        "      <td>  4.9</td>\n",
        "      <td> 0.001371</td>\n",
        "      <td> 28.327224</td>\n",
        "      <td> 7.212516</td>\n",
        "      <td>   12.612519</td>\n",
        "      <td> 0.000827</td>\n",
        "    </tr>\n",
        "    <tr>\n",
        "      <th>8    </th>\n",
        "      <td>                           7 GRAIN MILK / 946ML</td>\n",
        "      <td> Pacific Natural Foods</td>\n",
        "      <td> Milk</td>\n",
        "      <td> 2013-01-01</td>\n",
        "      <td> 127.6</td>\n",
        "      <td> 19.6</td>\n",
        "      <td> 0.005483</td>\n",
        "      <td> 28.327224</td>\n",
        "      <td> 7.212516</td>\n",
        "      <td>  350.450076</td>\n",
        "      <td> 0.003308</td>\n",
        "    </tr>\n",
        "    <tr>\n",
        "      <th>9    </th>\n",
        "      <td>                           7 GRAIN MILK / 946ML</td>\n",
        "      <td> Pacific Natural Foods</td>\n",
        "      <td> Milk</td>\n",
        "      <td> 2013-02-01</td>\n",
        "      <td>  31.9</td>\n",
        "      <td>  4.9</td>\n",
        "      <td> 0.001371</td>\n",
        "      <td> 28.327224</td>\n",
        "      <td> 7.212516</td>\n",
        "      <td>   12.612519</td>\n",
        "      <td> 0.000827</td>\n",
        "    </tr>\n",
        "    <tr>\n",
        "      <th>10   </th>\n",
        "      <td>                           7 GRAIN MILK / 946ML</td>\n",
        "      <td> Pacific Natural Foods</td>\n",
        "      <td> Milk</td>\n",
        "      <td> 2013-03-01</td>\n",
        "      <td> 255.2</td>\n",
        "      <td> 39.2</td>\n",
        "      <td> 0.010967</td>\n",
        "      <td> 28.327224</td>\n",
        "      <td> 7.212516</td>\n",
        "      <td>  800.900151</td>\n",
        "      <td> 0.006616</td>\n",
        "    </tr>\n",
        "    <tr>\n",
        "      <th>11   </th>\n",
        "      <td>                           7 GRAIN MILK / 946ML</td>\n",
        "      <td> Pacific Natural Foods</td>\n",
        "      <td> Milk</td>\n",
        "      <td> 2013-04-01</td>\n",
        "      <td> 382.8</td>\n",
        "      <td> 58.8</td>\n",
        "      <td> 0.016450</td>\n",
        "      <td> 28.327224</td>\n",
        "      <td> 7.212516</td>\n",
        "      <td> 1251.350227</td>\n",
        "      <td> 0.009924</td>\n",
        "    </tr>\n",
        "    <tr>\n",
        "      <th>12   </th>\n",
        "      <td>                           7 GRAIN MILK / 946ML</td>\n",
        "      <td> Pacific Natural Foods</td>\n",
        "      <td> Milk</td>\n",
        "      <td> 2013-05-01</td>\n",
        "      <td>  31.9</td>\n",
        "      <td>  4.9</td>\n",
        "      <td> 0.001371</td>\n",
        "      <td> 28.327224</td>\n",
        "      <td> 7.212516</td>\n",
        "      <td>   12.612519</td>\n",
        "      <td> 0.000827</td>\n",
        "    </tr>\n",
        "    <tr>\n",
        "      <th>13   </th>\n",
        "      <td>                           7 GRAIN MILK / 946ML</td>\n",
        "      <td> Pacific Natural Foods</td>\n",
        "      <td> Milk</td>\n",
        "      <td> 2013-06-01</td>\n",
        "      <td>  95.7</td>\n",
        "      <td> 14.7</td>\n",
        "      <td> 0.004113</td>\n",
        "      <td> 28.327224</td>\n",
        "      <td> 7.212516</td>\n",
        "      <td>  237.837557</td>\n",
        "      <td> 0.002481</td>\n",
        "    </tr>\n",
        "    <tr>\n",
        "      <th>14   </th>\n",
        "      <td>                           7 GRAIN MILK / 946ML</td>\n",
        "      <td> Pacific Natural Foods</td>\n",
        "      <td> Milk</td>\n",
        "      <td> 2013-07-01</td>\n",
        "      <td>   0.0</td>\n",
        "      <td>  0.0</td>\n",
        "      <td> 0.000000</td>\n",
        "      <td> 28.327224</td>\n",
        "      <td> 7.212516</td>\n",
        "      <td> -100.000000</td>\n",
        "      <td> 0.000000</td>\n",
        "    </tr>\n",
        "    <tr>\n",
        "      <th>15   </th>\n",
        "      <td>                           7 GRAIN MILK / 946ML</td>\n",
        "      <td> Pacific Natural Foods</td>\n",
        "      <td> Milk</td>\n",
        "      <td> 2013-08-01</td>\n",
        "      <td>  31.9</td>\n",
        "      <td>  4.9</td>\n",
        "      <td> 0.001371</td>\n",
        "      <td> 28.327224</td>\n",
        "      <td> 7.212516</td>\n",
        "      <td>   12.612519</td>\n",
        "      <td> 0.000827</td>\n",
        "    </tr>\n",
        "    <tr>\n",
        "      <th>16   </th>\n",
        "      <td>                           7 GRAIN MILK / 946ML</td>\n",
        "      <td> Pacific Natural Foods</td>\n",
        "      <td> Milk</td>\n",
        "      <td> 2013-09-01</td>\n",
        "      <td> 302.4</td>\n",
        "      <td> 72.0</td>\n",
        "      <td> 0.012995</td>\n",
        "      <td> 28.327224</td>\n",
        "      <td> 7.212516</td>\n",
        "      <td>  967.524317</td>\n",
        "      <td> 0.012152</td>\n",
        "    </tr>\n",
        "    <tr>\n",
        "      <th>17   </th>\n",
        "      <td>                           7 GRAIN MILK / 946ML</td>\n",
        "      <td> Pacific Natural Foods</td>\n",
        "      <td> Milk</td>\n",
        "      <td> 2013-10-01</td>\n",
        "      <td> 134.4</td>\n",
        "      <td> 32.0</td>\n",
        "      <td> 0.005776</td>\n",
        "      <td> 28.327224</td>\n",
        "      <td> 7.212516</td>\n",
        "      <td>  374.455252</td>\n",
        "      <td> 0.005401</td>\n",
        "    </tr>\n",
        "    <tr>\n",
        "      <th>18   </th>\n",
        "      <td>                           7 GRAIN MILK / 946ML</td>\n",
        "      <td> Pacific Natural Foods</td>\n",
        "      <td> Milk</td>\n",
        "      <td> 2013-11-01</td>\n",
        "      <td>  67.2</td>\n",
        "      <td> 16.0</td>\n",
        "      <td> 0.002888</td>\n",
        "      <td> 28.327224</td>\n",
        "      <td> 7.212516</td>\n",
        "      <td>  137.227626</td>\n",
        "      <td> 0.002700</td>\n",
        "    </tr>\n",
        "    <tr>\n",
        "      <th>19   </th>\n",
        "      <td>                           7 GRAIN MILK / 946ML</td>\n",
        "      <td> Pacific Natural Foods</td>\n",
        "      <td> Milk</td>\n",
        "      <td> 2013-12-01</td>\n",
        "      <td>   0.0</td>\n",
        "      <td>  0.0</td>\n",
        "      <td> 0.000000</td>\n",
        "      <td> 28.327224</td>\n",
        "      <td> 7.212516</td>\n",
        "      <td> -100.000000</td>\n",
        "      <td> 0.000000</td>\n",
        "    </tr>\n",
        "    <tr>\n",
        "      <th>20   </th>\n",
        "      <td>                           7 GRAIN MILK / 946ML</td>\n",
        "      <td> Pacific Natural Foods</td>\n",
        "      <td> Milk</td>\n",
        "      <td> 2014-01-01</td>\n",
        "      <td>   0.0</td>\n",
        "      <td>  0.0</td>\n",
        "      <td> 0.000000</td>\n",
        "      <td> 28.327224</td>\n",
        "      <td> 7.212516</td>\n",
        "      <td> -100.000000</td>\n",
        "      <td> 0.000000</td>\n",
        "    </tr>\n",
        "    <tr>\n",
        "      <th>21   </th>\n",
        "      <td>                           7 GRAIN MILK / 946ML</td>\n",
        "      <td> Pacific Natural Foods</td>\n",
        "      <td> Milk</td>\n",
        "      <td> 2014-02-01</td>\n",
        "      <td>   0.0</td>\n",
        "      <td>  0.0</td>\n",
        "      <td> 0.000000</td>\n",
        "      <td> 28.327224</td>\n",
        "      <td> 7.212516</td>\n",
        "      <td> -100.000000</td>\n",
        "      <td> 0.000000</td>\n",
        "    </tr>\n",
        "    <tr>\n",
        "      <th>22   </th>\n",
        "      <td>                           7 GRAIN MILK / 946ML</td>\n",
        "      <td> Pacific Natural Foods</td>\n",
        "      <td> Milk</td>\n",
        "      <td> 2014-03-01</td>\n",
        "      <td>   0.0</td>\n",
        "      <td>  0.0</td>\n",
        "      <td> 0.000000</td>\n",
        "      <td> 28.327224</td>\n",
        "      <td> 7.212516</td>\n",
        "      <td> -100.000000</td>\n",
        "      <td> 0.000000</td>\n",
        "    </tr>\n",
        "    <tr>\n",
        "      <th>23   </th>\n",
        "      <td>                           7 GRAIN MILK / 946ML</td>\n",
        "      <td> Pacific Natural Foods</td>\n",
        "      <td> Milk</td>\n",
        "      <td> 2014-04-01</td>\n",
        "      <td>   0.0</td>\n",
        "      <td>  0.0</td>\n",
        "      <td> 0.000000</td>\n",
        "      <td> 28.327224</td>\n",
        "      <td> 7.212516</td>\n",
        "      <td> -100.000000</td>\n",
        "      <td> 0.000000</td>\n",
        "    </tr>\n",
        "    <tr>\n",
        "      <th>24   </th>\n",
        "      <td>                           7 GRAIN MILK / 946ML</td>\n",
        "      <td> Pacific Natural Foods</td>\n",
        "      <td> Milk</td>\n",
        "      <td> 2014-05-01</td>\n",
        "      <td>   0.0</td>\n",
        "      <td>  0.0</td>\n",
        "      <td> 0.000000</td>\n",
        "      <td> 28.327224</td>\n",
        "      <td> 7.212516</td>\n",
        "      <td> -100.000000</td>\n",
        "      <td> 0.000000</td>\n",
        "    </tr>\n",
        "    <tr>\n",
        "      <th>25   </th>\n",
        "      <td>                           7 GRAIN MILK / 946ML</td>\n",
        "      <td> Pacific Natural Foods</td>\n",
        "      <td> Milk</td>\n",
        "      <td> 2014-06-01</td>\n",
        "      <td>   0.0</td>\n",
        "      <td>  0.0</td>\n",
        "      <td> 0.000000</td>\n",
        "      <td> 28.327224</td>\n",
        "      <td> 7.212516</td>\n",
        "      <td> -100.000000</td>\n",
        "      <td> 0.000000</td>\n",
        "    </tr>\n",
        "    <tr>\n",
        "      <th>26   </th>\n",
        "      <td>                           7 GRAIN MILK / 946ML</td>\n",
        "      <td> Pacific Natural Foods</td>\n",
        "      <td> Milk</td>\n",
        "      <td> 2014-07-01</td>\n",
        "      <td>   0.0</td>\n",
        "      <td>  0.0</td>\n",
        "      <td> 0.000000</td>\n",
        "      <td> 28.327224</td>\n",
        "      <td> 7.212516</td>\n",
        "      <td> -100.000000</td>\n",
        "      <td> 0.000000</td>\n",
        "    </tr>\n",
        "    <tr>\n",
        "      <th>27   </th>\n",
        "      <td>                           7 GRAIN MILK / 946ML</td>\n",
        "      <td> Pacific Natural Foods</td>\n",
        "      <td> Milk</td>\n",
        "      <td> 2014-08-01</td>\n",
        "      <td>   0.0</td>\n",
        "      <td>  0.0</td>\n",
        "      <td> 0.000000</td>\n",
        "      <td> 28.327224</td>\n",
        "      <td> 7.212516</td>\n",
        "      <td> -100.000000</td>\n",
        "      <td> 0.000000</td>\n",
        "    </tr>\n",
        "    <tr>\n",
        "      <th>28   </th>\n",
        "      <td>                           7 GRAIN MILK / 946ML</td>\n",
        "      <td> Pacific Natural Foods</td>\n",
        "      <td> Milk</td>\n",
        "      <td> 2014-09-01</td>\n",
        "      <td>   0.0</td>\n",
        "      <td>  0.0</td>\n",
        "      <td> 0.000000</td>\n",
        "      <td> 28.327224</td>\n",
        "      <td> 7.212516</td>\n",
        "      <td> -100.000000</td>\n",
        "      <td> 0.000000</td>\n",
        "    </tr>\n",
        "    <tr>\n",
        "      <th>29   </th>\n",
        "      <td>                           7 GRAIN MILK / 946ML</td>\n",
        "      <td> Pacific Natural Foods</td>\n",
        "      <td> Milk</td>\n",
        "      <td> 2014-10-01</td>\n",
        "      <td>   0.0</td>\n",
        "      <td>  0.0</td>\n",
        "      <td> 0.000000</td>\n",
        "      <td> 28.327224</td>\n",
        "      <td> 7.212516</td>\n",
        "      <td> -100.000000</td>\n",
        "      <td> 0.000000</td>\n",
        "    </tr>\n",
        "    <tr>\n",
        "      <th>...</th>\n",
        "      <td>...</td>\n",
        "      <td>...</td>\n",
        "      <td>...</td>\n",
        "      <td>...</td>\n",
        "      <td>...</td>\n",
        "      <td>...</td>\n",
        "      <td>...</td>\n",
        "      <td>...</td>\n",
        "      <td>...</td>\n",
        "      <td>...</td>\n",
        "      <td>...</td>\n",
        "    </tr>\n",
        "    <tr>\n",
        "      <th>82118</th>\n",
        "      <td> ZUCCHINI JAM WITH PISTACHIO &amp; MASTIC (NATURAL)</td>\n",
        "      <td>                     0</td>\n",
        "      <td>  Jam</td>\n",
        "      <td> 2013-07-01</td>\n",
        "      <td>   0.0</td>\n",
        "      <td>  0.0</td>\n",
        "      <td> 0.000000</td>\n",
        "      <td> 28.327224</td>\n",
        "      <td> 7.212516</td>\n",
        "      <td> -100.000000</td>\n",
        "      <td> 0.000000</td>\n",
        "    </tr>\n",
        "    <tr>\n",
        "      <th>82119</th>\n",
        "      <td> ZUCCHINI JAM WITH PISTACHIO &amp; MASTIC (NATURAL)</td>\n",
        "      <td>                     0</td>\n",
        "      <td>  Jam</td>\n",
        "      <td> 2013-08-01</td>\n",
        "      <td>   0.0</td>\n",
        "      <td>  0.0</td>\n",
        "      <td> 0.000000</td>\n",
        "      <td> 28.327224</td>\n",
        "      <td> 7.212516</td>\n",
        "      <td> -100.000000</td>\n",
        "      <td> 0.000000</td>\n",
        "    </tr>\n",
        "    <tr>\n",
        "      <th>82120</th>\n",
        "      <td> ZUCCHINI JAM WITH PISTACHIO &amp; MASTIC (NATURAL)</td>\n",
        "      <td>                     0</td>\n",
        "      <td>  Jam</td>\n",
        "      <td> 2013-09-01</td>\n",
        "      <td>   0.0</td>\n",
        "      <td>  0.0</td>\n",
        "      <td> 0.000000</td>\n",
        "      <td> 28.327224</td>\n",
        "      <td> 7.212516</td>\n",
        "      <td> -100.000000</td>\n",
        "      <td> 0.000000</td>\n",
        "    </tr>\n",
        "    <tr>\n",
        "      <th>82121</th>\n",
        "      <td> ZUCCHINI JAM WITH PISTACHIO &amp; MASTIC (NATURAL)</td>\n",
        "      <td>                     0</td>\n",
        "      <td>  Jam</td>\n",
        "      <td> 2013-10-01</td>\n",
        "      <td>   0.0</td>\n",
        "      <td>  0.0</td>\n",
        "      <td> 0.000000</td>\n",
        "      <td> 28.327224</td>\n",
        "      <td> 7.212516</td>\n",
        "      <td> -100.000000</td>\n",
        "      <td> 0.000000</td>\n",
        "    </tr>\n",
        "    <tr>\n",
        "      <th>82122</th>\n",
        "      <td> ZUCCHINI JAM WITH PISTACHIO &amp; MASTIC (NATURAL)</td>\n",
        "      <td>                     0</td>\n",
        "      <td>  Jam</td>\n",
        "      <td> 2013-11-01</td>\n",
        "      <td>   0.0</td>\n",
        "      <td>  0.0</td>\n",
        "      <td> 0.000000</td>\n",
        "      <td> 28.327224</td>\n",
        "      <td> 7.212516</td>\n",
        "      <td> -100.000000</td>\n",
        "      <td> 0.000000</td>\n",
        "    </tr>\n",
        "    <tr>\n",
        "      <th>82123</th>\n",
        "      <td> ZUCCHINI JAM WITH PISTACHIO &amp; MASTIC (NATURAL)</td>\n",
        "      <td>                     0</td>\n",
        "      <td>  Jam</td>\n",
        "      <td> 2013-12-01</td>\n",
        "      <td>   0.0</td>\n",
        "      <td>  0.0</td>\n",
        "      <td> 0.000000</td>\n",
        "      <td> 28.327224</td>\n",
        "      <td> 7.212516</td>\n",
        "      <td> -100.000000</td>\n",
        "      <td> 0.000000</td>\n",
        "    </tr>\n",
        "    <tr>\n",
        "      <th>82124</th>\n",
        "      <td> ZUCCHINI JAM WITH PISTACHIO &amp; MASTIC (NATURAL)</td>\n",
        "      <td>                     0</td>\n",
        "      <td>  Jam</td>\n",
        "      <td> 2014-01-01</td>\n",
        "      <td>   0.0</td>\n",
        "      <td>  0.0</td>\n",
        "      <td> 0.000000</td>\n",
        "      <td> 28.327224</td>\n",
        "      <td> 7.212516</td>\n",
        "      <td> -100.000000</td>\n",
        "      <td> 0.000000</td>\n",
        "    </tr>\n",
        "    <tr>\n",
        "      <th>82125</th>\n",
        "      <td> ZUCCHINI JAM WITH PISTACHIO &amp; MASTIC (NATURAL)</td>\n",
        "      <td>                     0</td>\n",
        "      <td>  Jam</td>\n",
        "      <td> 2014-02-01</td>\n",
        "      <td>   0.0</td>\n",
        "      <td>  0.0</td>\n",
        "      <td> 0.000000</td>\n",
        "      <td> 28.327224</td>\n",
        "      <td> 7.212516</td>\n",
        "      <td> -100.000000</td>\n",
        "      <td> 0.000000</td>\n",
        "    </tr>\n",
        "    <tr>\n",
        "      <th>82126</th>\n",
        "      <td> ZUCCHINI JAM WITH PISTACHIO &amp; MASTIC (NATURAL)</td>\n",
        "      <td>                     0</td>\n",
        "      <td>  Jam</td>\n",
        "      <td> 2014-03-01</td>\n",
        "      <td>   0.0</td>\n",
        "      <td>  0.0</td>\n",
        "      <td> 0.000000</td>\n",
        "      <td> 28.327224</td>\n",
        "      <td> 7.212516</td>\n",
        "      <td> -100.000000</td>\n",
        "      <td> 0.000000</td>\n",
        "    </tr>\n",
        "    <tr>\n",
        "      <th>82127</th>\n",
        "      <td> ZUCCHINI JAM WITH PISTACHIO &amp; MASTIC (NATURAL)</td>\n",
        "      <td>                     0</td>\n",
        "      <td>  Jam</td>\n",
        "      <td> 2014-04-01</td>\n",
        "      <td>   0.0</td>\n",
        "      <td>  0.0</td>\n",
        "      <td> 0.000000</td>\n",
        "      <td> 28.327224</td>\n",
        "      <td> 7.212516</td>\n",
        "      <td> -100.000000</td>\n",
        "      <td> 0.000000</td>\n",
        "    </tr>\n",
        "    <tr>\n",
        "      <th>82128</th>\n",
        "      <td> ZUCCHINI JAM WITH PISTACHIO &amp; MASTIC (NATURAL)</td>\n",
        "      <td>                     0</td>\n",
        "      <td>  Jam</td>\n",
        "      <td> 2014-05-01</td>\n",
        "      <td>   0.0</td>\n",
        "      <td>  0.0</td>\n",
        "      <td> 0.000000</td>\n",
        "      <td> 28.327224</td>\n",
        "      <td> 7.212516</td>\n",
        "      <td> -100.000000</td>\n",
        "      <td> 0.000000</td>\n",
        "    </tr>\n",
        "    <tr>\n",
        "      <th>82129</th>\n",
        "      <td> ZUCCHINI JAM WITH PISTACHIO &amp; MASTIC (NATURAL)</td>\n",
        "      <td>                     0</td>\n",
        "      <td>  Jam</td>\n",
        "      <td> 2014-06-01</td>\n",
        "      <td>   0.0</td>\n",
        "      <td>  0.0</td>\n",
        "      <td> 0.000000</td>\n",
        "      <td> 28.327224</td>\n",
        "      <td> 7.212516</td>\n",
        "      <td> -100.000000</td>\n",
        "      <td> 0.000000</td>\n",
        "    </tr>\n",
        "    <tr>\n",
        "      <th>82130</th>\n",
        "      <td> ZUCCHINI JAM WITH PISTACHIO &amp; MASTIC (NATURAL)</td>\n",
        "      <td>                     0</td>\n",
        "      <td>  Jam</td>\n",
        "      <td> 2014-07-01</td>\n",
        "      <td>   0.0</td>\n",
        "      <td>  0.0</td>\n",
        "      <td> 0.000000</td>\n",
        "      <td> 28.327224</td>\n",
        "      <td> 7.212516</td>\n",
        "      <td> -100.000000</td>\n",
        "      <td> 0.000000</td>\n",
        "    </tr>\n",
        "    <tr>\n",
        "      <th>82131</th>\n",
        "      <td> ZUCCHINI JAM WITH PISTACHIO &amp; MASTIC (NATURAL)</td>\n",
        "      <td>                     0</td>\n",
        "      <td>  Jam</td>\n",
        "      <td> 2014-08-01</td>\n",
        "      <td>   0.0</td>\n",
        "      <td>  0.0</td>\n",
        "      <td> 0.000000</td>\n",
        "      <td> 28.327224</td>\n",
        "      <td> 7.212516</td>\n",
        "      <td> -100.000000</td>\n",
        "      <td> 0.000000</td>\n",
        "    </tr>\n",
        "    <tr>\n",
        "      <th>82132</th>\n",
        "      <td> ZUCCHINI JAM WITH PISTACHIO &amp; MASTIC (NATURAL)</td>\n",
        "      <td>                     0</td>\n",
        "      <td>  Jam</td>\n",
        "      <td> 2014-09-01</td>\n",
        "      <td>   0.0</td>\n",
        "      <td>  0.0</td>\n",
        "      <td> 0.000000</td>\n",
        "      <td> 28.327224</td>\n",
        "      <td> 7.212516</td>\n",
        "      <td> -100.000000</td>\n",
        "      <td> 0.000000</td>\n",
        "    </tr>\n",
        "    <tr>\n",
        "      <th>82133</th>\n",
        "      <td> ZUCCHINI JAM WITH PISTACHIO &amp; MASTIC (NATURAL)</td>\n",
        "      <td>                     0</td>\n",
        "      <td>  Jam</td>\n",
        "      <td> 2014-10-01</td>\n",
        "      <td>   0.0</td>\n",
        "      <td>  0.0</td>\n",
        "      <td> 0.000000</td>\n",
        "      <td> 28.327224</td>\n",
        "      <td> 7.212516</td>\n",
        "      <td> -100.000000</td>\n",
        "      <td> 0.000000</td>\n",
        "    </tr>\n",
        "    <tr>\n",
        "      <th>82134</th>\n",
        "      <td> ZUCCHINI JAM WITH PISTACHIO &amp; MASTIC (NATURAL)</td>\n",
        "      <td>                     0</td>\n",
        "      <td>  Jam</td>\n",
        "      <td> 2014-11-01</td>\n",
        "      <td>   0.0</td>\n",
        "      <td>  0.0</td>\n",
        "      <td> 0.000000</td>\n",
        "      <td> 28.327224</td>\n",
        "      <td> 7.212516</td>\n",
        "      <td> -100.000000</td>\n",
        "      <td> 0.000000</td>\n",
        "    </tr>\n",
        "    <tr>\n",
        "      <th>82135</th>\n",
        "      <td> ZUCCHINI JAM WITH PISTACHIO &amp; MASTIC (NATURAL)</td>\n",
        "      <td>                     0</td>\n",
        "      <td>  Jam</td>\n",
        "      <td> 2014-12-01</td>\n",
        "      <td>   0.0</td>\n",
        "      <td>  0.0</td>\n",
        "      <td> 0.000000</td>\n",
        "      <td> 28.327224</td>\n",
        "      <td> 7.212516</td>\n",
        "      <td> -100.000000</td>\n",
        "      <td> 0.000000</td>\n",
        "    </tr>\n",
        "    <tr>\n",
        "      <th>82136</th>\n",
        "      <td> ZUCCHINI JAM WITH PISTACHIO &amp; MASTIC (NATURAL)</td>\n",
        "      <td>                     0</td>\n",
        "      <td>  Jam</td>\n",
        "      <td> 2015-01-01</td>\n",
        "      <td>   0.0</td>\n",
        "      <td>  0.0</td>\n",
        "      <td> 0.000000</td>\n",
        "      <td> 28.327224</td>\n",
        "      <td> 7.212516</td>\n",
        "      <td> -100.000000</td>\n",
        "      <td> 0.000000</td>\n",
        "    </tr>\n",
        "    <tr>\n",
        "      <th>82137</th>\n",
        "      <td> ZUCCHINI JAM WITH PISTACHIO &amp; MASTIC (NATURAL)</td>\n",
        "      <td>                     0</td>\n",
        "      <td>  Jam</td>\n",
        "      <td> 2015-02-01</td>\n",
        "      <td>   0.0</td>\n",
        "      <td>  0.0</td>\n",
        "      <td> 0.000000</td>\n",
        "      <td> 28.327224</td>\n",
        "      <td> 7.212516</td>\n",
        "      <td> -100.000000</td>\n",
        "      <td> 0.000000</td>\n",
        "    </tr>\n",
        "    <tr>\n",
        "      <th>82138</th>\n",
        "      <td> ZUCCHINI JAM WITH PISTACHIO &amp; MASTIC (NATURAL)</td>\n",
        "      <td>                     0</td>\n",
        "      <td>  Jam</td>\n",
        "      <td> 2015-03-01</td>\n",
        "      <td>   0.0</td>\n",
        "      <td>  0.0</td>\n",
        "      <td> 0.000000</td>\n",
        "      <td> 28.327224</td>\n",
        "      <td> 7.212516</td>\n",
        "      <td> -100.000000</td>\n",
        "      <td> 0.000000</td>\n",
        "    </tr>\n",
        "    <tr>\n",
        "      <th>82139</th>\n",
        "      <td> ZUCCHINI JAM WITH PISTACHIO &amp; MASTIC (NATURAL)</td>\n",
        "      <td>                     0</td>\n",
        "      <td>  Jam</td>\n",
        "      <td> 2015-04-01</td>\n",
        "      <td>   0.0</td>\n",
        "      <td>  0.0</td>\n",
        "      <td> 0.000000</td>\n",
        "      <td> 28.327224</td>\n",
        "      <td> 7.212516</td>\n",
        "      <td> -100.000000</td>\n",
        "      <td> 0.000000</td>\n",
        "    </tr>\n",
        "    <tr>\n",
        "      <th>82140</th>\n",
        "      <td> ZUCCHINI JAM WITH PISTACHIO &amp; MASTIC (NATURAL)</td>\n",
        "      <td>                     0</td>\n",
        "      <td>  Jam</td>\n",
        "      <td> 2015-05-01</td>\n",
        "      <td>   0.0</td>\n",
        "      <td>  0.0</td>\n",
        "      <td> 0.000000</td>\n",
        "      <td> 28.327224</td>\n",
        "      <td> 7.212516</td>\n",
        "      <td> -100.000000</td>\n",
        "      <td> 0.000000</td>\n",
        "    </tr>\n",
        "    <tr>\n",
        "      <th>82141</th>\n",
        "      <td> ZUCCHINI JAM WITH PISTACHIO &amp; MASTIC (NATURAL)</td>\n",
        "      <td>                     0</td>\n",
        "      <td>  Jam</td>\n",
        "      <td> 2015-06-01</td>\n",
        "      <td>   0.0</td>\n",
        "      <td>  0.0</td>\n",
        "      <td> 0.000000</td>\n",
        "      <td> 28.327224</td>\n",
        "      <td> 7.212516</td>\n",
        "      <td> -100.000000</td>\n",
        "      <td> 0.000000</td>\n",
        "    </tr>\n",
        "    <tr>\n",
        "      <th>82142</th>\n",
        "      <td> ZUCCHINI JAM WITH PISTACHIO &amp; MASTIC (NATURAL)</td>\n",
        "      <td>                     0</td>\n",
        "      <td>  Jam</td>\n",
        "      <td> 2015-07-01</td>\n",
        "      <td>   0.0</td>\n",
        "      <td>  0.0</td>\n",
        "      <td> 0.000000</td>\n",
        "      <td> 28.327224</td>\n",
        "      <td> 7.212516</td>\n",
        "      <td> -100.000000</td>\n",
        "      <td> 0.000000</td>\n",
        "    </tr>\n",
        "    <tr>\n",
        "      <th>82143</th>\n",
        "      <td> ZUCCHINI JAM WITH PISTACHIO &amp; MASTIC (NATURAL)</td>\n",
        "      <td>                     0</td>\n",
        "      <td>  Jam</td>\n",
        "      <td> 2015-08-01</td>\n",
        "      <td>   0.0</td>\n",
        "      <td>  0.0</td>\n",
        "      <td> 0.000000</td>\n",
        "      <td> 28.327224</td>\n",
        "      <td> 7.212516</td>\n",
        "      <td> -100.000000</td>\n",
        "      <td> 0.000000</td>\n",
        "    </tr>\n",
        "    <tr>\n",
        "      <th>82144</th>\n",
        "      <td> ZUCCHINI JAM WITH PISTACHIO &amp; MASTIC (NATURAL)</td>\n",
        "      <td>                     0</td>\n",
        "      <td>  Jam</td>\n",
        "      <td> 2015-09-01</td>\n",
        "      <td> 200.0</td>\n",
        "      <td> 50.0</td>\n",
        "      <td> 0.008595</td>\n",
        "      <td> 28.327224</td>\n",
        "      <td> 7.212516</td>\n",
        "      <td>  606.034601</td>\n",
        "      <td> 0.008439</td>\n",
        "    </tr>\n",
        "    <tr>\n",
        "      <th>82145</th>\n",
        "      <td> ZUCCHINI JAM WITH PISTACHIO &amp; MASTIC (NATURAL)</td>\n",
        "      <td>                     0</td>\n",
        "      <td>  Jam</td>\n",
        "      <td> 2015-10-01</td>\n",
        "      <td>   0.0</td>\n",
        "      <td>  0.0</td>\n",
        "      <td> 0.000000</td>\n",
        "      <td> 28.327224</td>\n",
        "      <td> 7.212516</td>\n",
        "      <td> -100.000000</td>\n",
        "      <td> 0.000000</td>\n",
        "    </tr>\n",
        "    <tr>\n",
        "      <th>82146</th>\n",
        "      <td> ZUCCHINI JAM WITH PISTACHIO &amp; MASTIC (NATURAL)</td>\n",
        "      <td>                     0</td>\n",
        "      <td>  Jam</td>\n",
        "      <td> 2015-11-01</td>\n",
        "      <td>   0.0</td>\n",
        "      <td>  0.0</td>\n",
        "      <td> 0.000000</td>\n",
        "      <td> 28.327224</td>\n",
        "      <td> 7.212516</td>\n",
        "      <td> -100.000000</td>\n",
        "      <td> 0.000000</td>\n",
        "    </tr>\n",
        "    <tr>\n",
        "      <th>82147</th>\n",
        "      <td> ZUCCHINI JAM WITH PISTACHIO &amp; MASTIC (NATURAL)</td>\n",
        "      <td>                     0</td>\n",
        "      <td>  Jam</td>\n",
        "      <td> 2015-12-01</td>\n",
        "      <td>   0.0</td>\n",
        "      <td>  0.0</td>\n",
        "      <td> 0.000000</td>\n",
        "      <td> 28.327224</td>\n",
        "      <td> 7.212516</td>\n",
        "      <td> -100.000000</td>\n",
        "      <td> 0.000000</td>\n",
        "    </tr>\n",
        "  </tbody>\n",
        "</table>\n",
        "<p>82148 rows \u00d7 11 columns</p>\n",
        "</div>"
       ],
       "metadata": {},
       "output_type": "pyout",
       "prompt_number": 11,
       "text": [
        "                                              Product                  Brand  \\\n",
        "0                                7 GRAIN MILK / 946ML  Pacific Natural Foods   \n",
        "1                                7 GRAIN MILK / 946ML  Pacific Natural Foods   \n",
        "2                                7 GRAIN MILK / 946ML  Pacific Natural Foods   \n",
        "3                                7 GRAIN MILK / 946ML  Pacific Natural Foods   \n",
        "4                                7 GRAIN MILK / 946ML  Pacific Natural Foods   \n",
        "5                                7 GRAIN MILK / 946ML  Pacific Natural Foods   \n",
        "6                                7 GRAIN MILK / 946ML  Pacific Natural Foods   \n",
        "7                                7 GRAIN MILK / 946ML  Pacific Natural Foods   \n",
        "8                                7 GRAIN MILK / 946ML  Pacific Natural Foods   \n",
        "9                                7 GRAIN MILK / 946ML  Pacific Natural Foods   \n",
        "10                               7 GRAIN MILK / 946ML  Pacific Natural Foods   \n",
        "11                               7 GRAIN MILK / 946ML  Pacific Natural Foods   \n",
        "12                               7 GRAIN MILK / 946ML  Pacific Natural Foods   \n",
        "13                               7 GRAIN MILK / 946ML  Pacific Natural Foods   \n",
        "14                               7 GRAIN MILK / 946ML  Pacific Natural Foods   \n",
        "15                               7 GRAIN MILK / 946ML  Pacific Natural Foods   \n",
        "16                               7 GRAIN MILK / 946ML  Pacific Natural Foods   \n",
        "17                               7 GRAIN MILK / 946ML  Pacific Natural Foods   \n",
        "18                               7 GRAIN MILK / 946ML  Pacific Natural Foods   \n",
        "19                               7 GRAIN MILK / 946ML  Pacific Natural Foods   \n",
        "20                               7 GRAIN MILK / 946ML  Pacific Natural Foods   \n",
        "21                               7 GRAIN MILK / 946ML  Pacific Natural Foods   \n",
        "22                               7 GRAIN MILK / 946ML  Pacific Natural Foods   \n",
        "23                               7 GRAIN MILK / 946ML  Pacific Natural Foods   \n",
        "24                               7 GRAIN MILK / 946ML  Pacific Natural Foods   \n",
        "25                               7 GRAIN MILK / 946ML  Pacific Natural Foods   \n",
        "26                               7 GRAIN MILK / 946ML  Pacific Natural Foods   \n",
        "27                               7 GRAIN MILK / 946ML  Pacific Natural Foods   \n",
        "28                               7 GRAIN MILK / 946ML  Pacific Natural Foods   \n",
        "29                               7 GRAIN MILK / 946ML  Pacific Natural Foods   \n",
        "...                                               ...                    ...   \n",
        "82118  ZUCCHINI JAM WITH PISTACHIO & MASTIC (NATURAL)                      0   \n",
        "82119  ZUCCHINI JAM WITH PISTACHIO & MASTIC (NATURAL)                      0   \n",
        "82120  ZUCCHINI JAM WITH PISTACHIO & MASTIC (NATURAL)                      0   \n",
        "82121  ZUCCHINI JAM WITH PISTACHIO & MASTIC (NATURAL)                      0   \n",
        "82122  ZUCCHINI JAM WITH PISTACHIO & MASTIC (NATURAL)                      0   \n",
        "82123  ZUCCHINI JAM WITH PISTACHIO & MASTIC (NATURAL)                      0   \n",
        "82124  ZUCCHINI JAM WITH PISTACHIO & MASTIC (NATURAL)                      0   \n",
        "82125  ZUCCHINI JAM WITH PISTACHIO & MASTIC (NATURAL)                      0   \n",
        "82126  ZUCCHINI JAM WITH PISTACHIO & MASTIC (NATURAL)                      0   \n",
        "82127  ZUCCHINI JAM WITH PISTACHIO & MASTIC (NATURAL)                      0   \n",
        "82128  ZUCCHINI JAM WITH PISTACHIO & MASTIC (NATURAL)                      0   \n",
        "82129  ZUCCHINI JAM WITH PISTACHIO & MASTIC (NATURAL)                      0   \n",
        "82130  ZUCCHINI JAM WITH PISTACHIO & MASTIC (NATURAL)                      0   \n",
        "82131  ZUCCHINI JAM WITH PISTACHIO & MASTIC (NATURAL)                      0   \n",
        "82132  ZUCCHINI JAM WITH PISTACHIO & MASTIC (NATURAL)                      0   \n",
        "82133  ZUCCHINI JAM WITH PISTACHIO & MASTIC (NATURAL)                      0   \n",
        "82134  ZUCCHINI JAM WITH PISTACHIO & MASTIC (NATURAL)                      0   \n",
        "82135  ZUCCHINI JAM WITH PISTACHIO & MASTIC (NATURAL)                      0   \n",
        "82136  ZUCCHINI JAM WITH PISTACHIO & MASTIC (NATURAL)                      0   \n",
        "82137  ZUCCHINI JAM WITH PISTACHIO & MASTIC (NATURAL)                      0   \n",
        "82138  ZUCCHINI JAM WITH PISTACHIO & MASTIC (NATURAL)                      0   \n",
        "82139  ZUCCHINI JAM WITH PISTACHIO & MASTIC (NATURAL)                      0   \n",
        "82140  ZUCCHINI JAM WITH PISTACHIO & MASTIC (NATURAL)                      0   \n",
        "82141  ZUCCHINI JAM WITH PISTACHIO & MASTIC (NATURAL)                      0   \n",
        "82142  ZUCCHINI JAM WITH PISTACHIO & MASTIC (NATURAL)                      0   \n",
        "82143  ZUCCHINI JAM WITH PISTACHIO & MASTIC (NATURAL)                      0   \n",
        "82144  ZUCCHINI JAM WITH PISTACHIO & MASTIC (NATURAL)                      0   \n",
        "82145  ZUCCHINI JAM WITH PISTACHIO & MASTIC (NATURAL)                      0   \n",
        "82146  ZUCCHINI JAM WITH PISTACHIO & MASTIC (NATURAL)                      0   \n",
        "82147  ZUCCHINI JAM WITH PISTACHIO & MASTIC (NATURAL)                      0   \n",
        "\n",
        "       Type        Date  Revenue  Gross Profit  %Total Revenue  \\\n",
        "0      Milk  2012-05-01      0.0           0.0        0.000000   \n",
        "1      Milk  2012-06-01      0.0           0.0        0.000000   \n",
        "2      Milk  2012-07-01      0.0           0.0        0.000000   \n",
        "3      Milk  2012-08-01      0.0           0.0        0.000000   \n",
        "4      Milk  2012-09-01      0.0           0.0        0.000000   \n",
        "5      Milk  2012-10-01      0.0           0.0        0.000000   \n",
        "6      Milk  2012-11-01      0.0           0.0        0.000000   \n",
        "7      Milk  2012-12-01     31.9           4.9        0.001371   \n",
        "8      Milk  2013-01-01    127.6          19.6        0.005483   \n",
        "9      Milk  2013-02-01     31.9           4.9        0.001371   \n",
        "10     Milk  2013-03-01    255.2          39.2        0.010967   \n",
        "11     Milk  2013-04-01    382.8          58.8        0.016450   \n",
        "12     Milk  2013-05-01     31.9           4.9        0.001371   \n",
        "13     Milk  2013-06-01     95.7          14.7        0.004113   \n",
        "14     Milk  2013-07-01      0.0           0.0        0.000000   \n",
        "15     Milk  2013-08-01     31.9           4.9        0.001371   \n",
        "16     Milk  2013-09-01    302.4          72.0        0.012995   \n",
        "17     Milk  2013-10-01    134.4          32.0        0.005776   \n",
        "18     Milk  2013-11-01     67.2          16.0        0.002888   \n",
        "19     Milk  2013-12-01      0.0           0.0        0.000000   \n",
        "20     Milk  2014-01-01      0.0           0.0        0.000000   \n",
        "21     Milk  2014-02-01      0.0           0.0        0.000000   \n",
        "22     Milk  2014-03-01      0.0           0.0        0.000000   \n",
        "23     Milk  2014-04-01      0.0           0.0        0.000000   \n",
        "24     Milk  2014-05-01      0.0           0.0        0.000000   \n",
        "25     Milk  2014-06-01      0.0           0.0        0.000000   \n",
        "26     Milk  2014-07-01      0.0           0.0        0.000000   \n",
        "27     Milk  2014-08-01      0.0           0.0        0.000000   \n",
        "28     Milk  2014-09-01      0.0           0.0        0.000000   \n",
        "29     Milk  2014-10-01      0.0           0.0        0.000000   \n",
        "...     ...         ...      ...           ...             ...   \n",
        "82118   Jam  2013-07-01      0.0           0.0        0.000000   \n",
        "82119   Jam  2013-08-01      0.0           0.0        0.000000   \n",
        "82120   Jam  2013-09-01      0.0           0.0        0.000000   \n",
        "82121   Jam  2013-10-01      0.0           0.0        0.000000   \n",
        "82122   Jam  2013-11-01      0.0           0.0        0.000000   \n",
        "82123   Jam  2013-12-01      0.0           0.0        0.000000   \n",
        "82124   Jam  2014-01-01      0.0           0.0        0.000000   \n",
        "82125   Jam  2014-02-01      0.0           0.0        0.000000   \n",
        "82126   Jam  2014-03-01      0.0           0.0        0.000000   \n",
        "82127   Jam  2014-04-01      0.0           0.0        0.000000   \n",
        "82128   Jam  2014-05-01      0.0           0.0        0.000000   \n",
        "82129   Jam  2014-06-01      0.0           0.0        0.000000   \n",
        "82130   Jam  2014-07-01      0.0           0.0        0.000000   \n",
        "82131   Jam  2014-08-01      0.0           0.0        0.000000   \n",
        "82132   Jam  2014-09-01      0.0           0.0        0.000000   \n",
        "82133   Jam  2014-10-01      0.0           0.0        0.000000   \n",
        "82134   Jam  2014-11-01      0.0           0.0        0.000000   \n",
        "82135   Jam  2014-12-01      0.0           0.0        0.000000   \n",
        "82136   Jam  2015-01-01      0.0           0.0        0.000000   \n",
        "82137   Jam  2015-02-01      0.0           0.0        0.000000   \n",
        "82138   Jam  2015-03-01      0.0           0.0        0.000000   \n",
        "82139   Jam  2015-04-01      0.0           0.0        0.000000   \n",
        "82140   Jam  2015-05-01      0.0           0.0        0.000000   \n",
        "82141   Jam  2015-06-01      0.0           0.0        0.000000   \n",
        "82142   Jam  2015-07-01      0.0           0.0        0.000000   \n",
        "82143   Jam  2015-08-01      0.0           0.0        0.000000   \n",
        "82144   Jam  2015-09-01    200.0          50.0        0.008595   \n",
        "82145   Jam  2015-10-01      0.0           0.0        0.000000   \n",
        "82146   Jam  2015-11-01      0.0           0.0        0.000000   \n",
        "82147   Jam  2015-12-01      0.0           0.0        0.000000   \n",
        "\n",
        "       Average Revenue  Average Gross Profit  % Variation from Average  \\\n",
        "0            28.327224              7.212516               -100.000000   \n",
        "1            28.327224              7.212516               -100.000000   \n",
        "2            28.327224              7.212516               -100.000000   \n",
        "3            28.327224              7.212516               -100.000000   \n",
        "4            28.327224              7.212516               -100.000000   \n",
        "5            28.327224              7.212516               -100.000000   \n",
        "6            28.327224              7.212516               -100.000000   \n",
        "7            28.327224              7.212516                 12.612519   \n",
        "8            28.327224              7.212516                350.450076   \n",
        "9            28.327224              7.212516                 12.612519   \n",
        "10           28.327224              7.212516                800.900151   \n",
        "11           28.327224              7.212516               1251.350227   \n",
        "12           28.327224              7.212516                 12.612519   \n",
        "13           28.327224              7.212516                237.837557   \n",
        "14           28.327224              7.212516               -100.000000   \n",
        "15           28.327224              7.212516                 12.612519   \n",
        "16           28.327224              7.212516                967.524317   \n",
        "17           28.327224              7.212516                374.455252   \n",
        "18           28.327224              7.212516                137.227626   \n",
        "19           28.327224              7.212516               -100.000000   \n",
        "20           28.327224              7.212516               -100.000000   \n",
        "21           28.327224              7.212516               -100.000000   \n",
        "22           28.327224              7.212516               -100.000000   \n",
        "23           28.327224              7.212516               -100.000000   \n",
        "24           28.327224              7.212516               -100.000000   \n",
        "25           28.327224              7.212516               -100.000000   \n",
        "26           28.327224              7.212516               -100.000000   \n",
        "27           28.327224              7.212516               -100.000000   \n",
        "28           28.327224              7.212516               -100.000000   \n",
        "29           28.327224              7.212516               -100.000000   \n",
        "...                ...                   ...                       ...   \n",
        "82118        28.327224              7.212516               -100.000000   \n",
        "82119        28.327224              7.212516               -100.000000   \n",
        "82120        28.327224              7.212516               -100.000000   \n",
        "82121        28.327224              7.212516               -100.000000   \n",
        "82122        28.327224              7.212516               -100.000000   \n",
        "82123        28.327224              7.212516               -100.000000   \n",
        "82124        28.327224              7.212516               -100.000000   \n",
        "82125        28.327224              7.212516               -100.000000   \n",
        "82126        28.327224              7.212516               -100.000000   \n",
        "82127        28.327224              7.212516               -100.000000   \n",
        "82128        28.327224              7.212516               -100.000000   \n",
        "82129        28.327224              7.212516               -100.000000   \n",
        "82130        28.327224              7.212516               -100.000000   \n",
        "82131        28.327224              7.212516               -100.000000   \n",
        "82132        28.327224              7.212516               -100.000000   \n",
        "82133        28.327224              7.212516               -100.000000   \n",
        "82134        28.327224              7.212516               -100.000000   \n",
        "82135        28.327224              7.212516               -100.000000   \n",
        "82136        28.327224              7.212516               -100.000000   \n",
        "82137        28.327224              7.212516               -100.000000   \n",
        "82138        28.327224              7.212516               -100.000000   \n",
        "82139        28.327224              7.212516               -100.000000   \n",
        "82140        28.327224              7.212516               -100.000000   \n",
        "82141        28.327224              7.212516               -100.000000   \n",
        "82142        28.327224              7.212516               -100.000000   \n",
        "82143        28.327224              7.212516               -100.000000   \n",
        "82144        28.327224              7.212516                606.034601   \n",
        "82145        28.327224              7.212516               -100.000000   \n",
        "82146        28.327224              7.212516               -100.000000   \n",
        "82147        28.327224              7.212516               -100.000000   \n",
        "\n",
        "       %Total Gross Profit  \n",
        "0                 0.000000  \n",
        "1                 0.000000  \n",
        "2                 0.000000  \n",
        "3                 0.000000  \n",
        "4                 0.000000  \n",
        "5                 0.000000  \n",
        "6                 0.000000  \n",
        "7                 0.000827  \n",
        "8                 0.003308  \n",
        "9                 0.000827  \n",
        "10                0.006616  \n",
        "11                0.009924  \n",
        "12                0.000827  \n",
        "13                0.002481  \n",
        "14                0.000000  \n",
        "15                0.000827  \n",
        "16                0.012152  \n",
        "17                0.005401  \n",
        "18                0.002700  \n",
        "19                0.000000  \n",
        "20                0.000000  \n",
        "21                0.000000  \n",
        "22                0.000000  \n",
        "23                0.000000  \n",
        "24                0.000000  \n",
        "25                0.000000  \n",
        "26                0.000000  \n",
        "27                0.000000  \n",
        "28                0.000000  \n",
        "29                0.000000  \n",
        "...                    ...  \n",
        "82118             0.000000  \n",
        "82119             0.000000  \n",
        "82120             0.000000  \n",
        "82121             0.000000  \n",
        "82122             0.000000  \n",
        "82123             0.000000  \n",
        "82124             0.000000  \n",
        "82125             0.000000  \n",
        "82126             0.000000  \n",
        "82127             0.000000  \n",
        "82128             0.000000  \n",
        "82129             0.000000  \n",
        "82130             0.000000  \n",
        "82131             0.000000  \n",
        "82132             0.000000  \n",
        "82133             0.000000  \n",
        "82134             0.000000  \n",
        "82135             0.000000  \n",
        "82136             0.000000  \n",
        "82137             0.000000  \n",
        "82138             0.000000  \n",
        "82139             0.000000  \n",
        "82140             0.000000  \n",
        "82141             0.000000  \n",
        "82142             0.000000  \n",
        "82143             0.000000  \n",
        "82144             0.008439  \n",
        "82145             0.000000  \n",
        "82146             0.000000  \n",
        "82147             0.000000  \n",
        "\n",
        "[82148 rows x 11 columns]"
       ]
      }
     ],
     "prompt_number": 11
    },
    {
     "cell_type": "code",
     "collapsed": false,
     "input": [
      "#df1 = pd.read_csv(cfg['root']+cfg['dir_data_output']+cfg['op_products'])\n",
      "df1 = pd.read_csv(\"C:\\Users\\saisree849\\Documents\\GitHub\\NGS-2.0\\\\12_dashboard_tables\\data_output\\products.csv\")\n",
      "df1 = df1[['Product', 'Brand', 'Type', 'CMGR']]\n",
      "df1['Product'] = df1.apply(lambda x: str(x['Product']) +\",\"+ str(x['Brand']) +\",\"+ str(x['Type']), axis=1)\n",
      "df1 = df1[['Product', 'CMGR']]\n",
      "df1 = df1.set_index('Product')\n",
      "df1.index.name = None\n",
      "df1"
     ],
     "language": "python",
     "metadata": {},
     "outputs": [
      {
       "html": [
        "<div style=\"max-height:1000px;max-width:1500px;overflow:auto;\">\n",
        "<table border=\"1\" class=\"dataframe\">\n",
        "  <thead>\n",
        "    <tr style=\"text-align: right;\">\n",
        "      <th></th>\n",
        "      <th>CMGR</th>\n",
        "    </tr>\n",
        "  </thead>\n",
        "  <tbody>\n",
        "    <tr>\n",
        "      <th>7 GRAIN MILK / 946ML,Pacific Natural Foods,Milk</th>\n",
        "      <td> 10.650578</td>\n",
        "    </tr>\n",
        "    <tr>\n",
        "      <th>ACAI BERRY JUICE,0,Beverages</th>\n",
        "      <td>  0.000000</td>\n",
        "    </tr>\n",
        "    <tr>\n",
        "      <th>ACAI BERRY JUICE,Berry company,Juices</th>\n",
        "      <td>  9.232890</td>\n",
        "    </tr>\n",
        "    <tr>\n",
        "      <th>ACNE FACIAL SOAP,Healing Herbs,Cosmetics</th>\n",
        "      <td>  3.355778</td>\n",
        "    </tr>\n",
        "    <tr>\n",
        "      <th>ACQUA PANA WATER 1000ML,NGS,Beverages</th>\n",
        "      <td>  0.000000</td>\n",
        "    </tr>\n",
        "    <tr>\n",
        "      <th>ACQUA PANA WATER 500ML,NGS,Beverages</th>\n",
        "      <td>  0.000000</td>\n",
        "    </tr>\n",
        "    <tr>\n",
        "      <th>ACQUA PANA WATER 500ML GLASS,NGS,Beverages</th>\n",
        "      <td>  0.000000</td>\n",
        "    </tr>\n",
        "    <tr>\n",
        "      <th>ACTIBIF CHEESE (FOR BETTER DIGESTION),0,cheese</th>\n",
        "      <td> 22.284454</td>\n",
        "    </tr>\n",
        "    <tr>\n",
        "      <th>AGAR AGAR FLAKES (HAND HARVESTED) - WILD,0,Food supplements</th>\n",
        "      <td> 20.808944</td>\n",
        "    </tr>\n",
        "    <tr>\n",
        "      <th>AGAVE SYRUP ( ORGANIC ) / 473ML,Suzanne's Specialties,Sweeteners</th>\n",
        "      <td>  5.795637</td>\n",
        "    </tr>\n",
        "    <tr>\n",
        "      <th>ALL PURPOSE BAKING FLOUR ( GLUTEN FREE ),NGS,Flour</th>\n",
        "      <td> 10.582302</td>\n",
        "    </tr>\n",
        "    <tr>\n",
        "      <th>ALL PURPOSE BAKING FLOUR ( GLUTEN FREE ) / 623G,Bob's Red Mill,Flour</th>\n",
        "      <td> 12.200928</td>\n",
        "    </tr>\n",
        "    <tr>\n",
        "      <th>ALL PURPOSE BAKING FLOUR (GLUTEN FREE),0,Baking products</th>\n",
        "      <td> 22.030442</td>\n",
        "    </tr>\n",
        "    <tr>\n",
        "      <th>ALL PURPOSE BAKING FLOUR (GLUTEN FREE),0,General</th>\n",
        "      <td> 36.817595</td>\n",
        "    </tr>\n",
        "    <tr>\n",
        "      <th>ALMOND BISCUITS (GLUTEN FREE - TRACES OF GLUTEN),0,Snacks</th>\n",
        "      <td>  3.436608</td>\n",
        "    </tr>\n",
        "    <tr>\n",
        "      <th>ALMOND BREAD (GLUTEN FREE),0,Bread</th>\n",
        "      <td>  0.000000</td>\n",
        "    </tr>\n",
        "    <tr>\n",
        "      <th>ALMOND BUTTER,0,Nut butter</th>\n",
        "      <td> 70.496165</td>\n",
        "    </tr>\n",
        "    <tr>\n",
        "      <th>ALMOND BUTTER (HOME-MADE),Signature,spreads</th>\n",
        "      <td> 21.533637</td>\n",
        "    </tr>\n",
        "    <tr>\n",
        "      <th>ALMOND BUTTER (NATURAL),0,Nut butter</th>\n",
        "      <td> 45.421543</td>\n",
        "    </tr>\n",
        "    <tr>\n",
        "      <th>ALMOND MEAL FLOUR,0,Baking products</th>\n",
        "      <td> 34.112647</td>\n",
        "    </tr>\n",
        "    <tr>\n",
        "      <th>ALMOND MILK ( ORGANIC ),Alpro,Non-dairy milk</th>\n",
        "      <td>  2.266912</td>\n",
        "    </tr>\n",
        "    <tr>\n",
        "      <th>ALMOND MILK ( ORGANIC ) / 946ML,Pacific Natural Foods,Non-dairy milk</th>\n",
        "      <td> 12.157194</td>\n",
        "    </tr>\n",
        "    <tr>\n",
        "      <th>ALMOND MILK ( ORGANIC ) 946ML,0,Non-dairy milk</th>\n",
        "      <td>  0.000000</td>\n",
        "    </tr>\n",
        "    <tr>\n",
        "      <th>ALMOND MILK ( ORIGINAL ),NGS,Non-dairy milk</th>\n",
        "      <td>  8.046970</td>\n",
        "    </tr>\n",
        "    <tr>\n",
        "      <th>ALMOND MILK (ORGANIC) - SUGAR-FREE,0,Non-dairy milk</th>\n",
        "      <td> 14.907526</td>\n",
        "    </tr>\n",
        "    <tr>\n",
        "      <th>ALMOND MILK (UNSWEETENED),0,Non-dairy milk</th>\n",
        "      <td>  0.000000</td>\n",
        "    </tr>\n",
        "    <tr>\n",
        "      <th>ALMOND MILK WITH DARK CHOCOLATE,Pure almond,Non-dairy milk</th>\n",
        "      <td>  0.000000</td>\n",
        "    </tr>\n",
        "    <tr>\n",
        "      <th>ALMOND MILK WITH VANILLA,Pure almond,Non-dairy milk</th>\n",
        "      <td>  5.946309</td>\n",
        "    </tr>\n",
        "    <tr>\n",
        "      <th>ALMOND ORIGINAL (ORIGINAL),0,Non-dairy milk</th>\n",
        "      <td> 13.011578</td>\n",
        "    </tr>\n",
        "    <tr>\n",
        "      <th>ALMOND'S AND OATS BODY SCRUB,0,Cosmetics</th>\n",
        "      <td>  0.000000</td>\n",
        "    </tr>\n",
        "    <tr>\n",
        "      <th>...</th>\n",
        "      <td>...</td>\n",
        "    </tr>\n",
        "    <tr>\n",
        "      <th>XANTHAN GUM (GLUTEN FREE),0,Baking products</th>\n",
        "      <td> 20.408029</td>\n",
        "    </tr>\n",
        "    <tr>\n",
        "      <th>YAKI NORI SHEETS,NGS,Japanese cuisine</th>\n",
        "      <td>  0.000000</td>\n",
        "    </tr>\n",
        "    <tr>\n",
        "      <th>YELLOW APPLES,NGS,Fruits</th>\n",
        "      <td> 29.022002</td>\n",
        "    </tr>\n",
        "    <tr>\n",
        "      <th>YELLOW BROCCOLI,NGS,Fresh vegetables</th>\n",
        "      <td>  1.793188</td>\n",
        "    </tr>\n",
        "    <tr>\n",
        "      <th>YELLOW CAPSICUM ( CHEMICAL FREE ),NGS,Chemical free vegetables</th>\n",
        "      <td>  4.537148</td>\n",
        "    </tr>\n",
        "    <tr>\n",
        "      <th>YELLOW CARROT ( CHEMICAL FREE ),0,Vegetables</th>\n",
        "      <td> 46.353817</td>\n",
        "    </tr>\n",
        "    <tr>\n",
        "      <th>YELLOW CARROT ( CHEMICAL FREE ),NGS,Fresh vegetables</th>\n",
        "      <td> 14.790381</td>\n",
        "    </tr>\n",
        "    <tr>\n",
        "      <th>YELLOW CARROTS,NGS,Fresh vegetables</th>\n",
        "      <td> 12.365277</td>\n",
        "    </tr>\n",
        "    <tr>\n",
        "      <th>YELLOW CHERRY TOMATOES,Kheir Misr,Fresh vegetables</th>\n",
        "      <td>  7.402517</td>\n",
        "    </tr>\n",
        "    <tr>\n",
        "      <th>YELLOW GRAPEFRUIT,0,Fresh fruits</th>\n",
        "      <td>  8.005974</td>\n",
        "    </tr>\n",
        "    <tr>\n",
        "      <th>YELLOW GRAPEFRUIT,NGS,Fruits</th>\n",
        "      <td> 11.730625</td>\n",
        "    </tr>\n",
        "    <tr>\n",
        "      <th>YELLOW MUSTARD,Eden Foods, Inc.,Spices</th>\n",
        "      <td> 11.398308</td>\n",
        "    </tr>\n",
        "    <tr>\n",
        "      <th>YELLOW ONIONS ( CHEMICAL FREE ),NGS,Fresh vegetables</th>\n",
        "      <td>  0.964206</td>\n",
        "    </tr>\n",
        "    <tr>\n",
        "      <th>YELLOW SPLIT PEAS / 822G,Bob's Red Mill,Grains</th>\n",
        "      <td>  3.264361</td>\n",
        "    </tr>\n",
        "    <tr>\n",
        "      <th>YELLOW WATERMELON,NGS,Fruits</th>\n",
        "      <td>  9.050773</td>\n",
        "    </tr>\n",
        "    <tr>\n",
        "      <th>YING/YANG FACIAL ACNE SOAP,0,Cosmetics</th>\n",
        "      <td>  0.000000</td>\n",
        "    </tr>\n",
        "    <tr>\n",
        "      <th>YOUSSFI (TANGERINE),NGS,Fruits</th>\n",
        "      <td>  0.000000</td>\n",
        "    </tr>\n",
        "    <tr>\n",
        "      <th>ZARDA EXTRA VIRGIN OLIVE OIL,NGS,Oil &amp; Vinegar  </th>\n",
        "      <td>  0.000000</td>\n",
        "    </tr>\n",
        "    <tr>\n",
        "      <th>ZUCCHINI,Kheir Misr,Fresh vegetables</th>\n",
        "      <td> 11.888222</td>\n",
        "    </tr>\n",
        "    <tr>\n",
        "      <th>ZUCCHINI,NGS,Fresh vegetables</th>\n",
        "      <td>  0.000000</td>\n",
        "    </tr>\n",
        "    <tr>\n",
        "      <th>ZUCCHINI,NGS,General</th>\n",
        "      <td>  0.000000</td>\n",
        "    </tr>\n",
        "    <tr>\n",
        "      <th>ZUCCHINI ( CHEMICAL FREE ),0,Vegetables</th>\n",
        "      <td>  0.000000</td>\n",
        "    </tr>\n",
        "    <tr>\n",
        "      <th>ZUCCHINI ( CHEMICAL FREE ),NGS,Fresh vegetables</th>\n",
        "      <td> 24.206725</td>\n",
        "    </tr>\n",
        "    <tr>\n",
        "      <th>ZUCCHINI (CHEMICAL FREE),0,Chemical free vegetables</th>\n",
        "      <td>  4.710685</td>\n",
        "    </tr>\n",
        "    <tr>\n",
        "      <th>ZUCCHINI (CHEMICAL FREE),0,Vegetables</th>\n",
        "      <td> 12.090172</td>\n",
        "    </tr>\n",
        "    <tr>\n",
        "      <th>ZUCCHINI (ORGANIC),0,Vegetables</th>\n",
        "      <td> 19.975714</td>\n",
        "    </tr>\n",
        "    <tr>\n",
        "      <th>ZUCCHINI / 500G,NGS,Fresh Produce</th>\n",
        "      <td>  4.227399</td>\n",
        "    </tr>\n",
        "    <tr>\n",
        "      <th>ZUCCHINI FLOWERS,NGS,Fresh vegetables</th>\n",
        "      <td> 12.158361</td>\n",
        "    </tr>\n",
        "    <tr>\n",
        "      <th>ZUCCHINI FLOWERS (CHEMICAL FREE),0,Vegetables</th>\n",
        "      <td> 24.938759</td>\n",
        "    </tr>\n",
        "    <tr>\n",
        "      <th>ZUCCHINI JAM WITH PISTACHIO &amp; MASTIC (NATURAL),0,Jam</th>\n",
        "      <td>  0.000000</td>\n",
        "    </tr>\n",
        "  </tbody>\n",
        "</table>\n",
        "<p>1867 rows \u00d7 1 columns</p>\n",
        "</div>"
       ],
       "metadata": {},
       "output_type": "pyout",
       "prompt_number": 13,
       "text": [
        "                                                                           CMGR\n",
        "7 GRAIN MILK / 946ML,Pacific Natural Foods,Milk                       10.650578\n",
        "ACAI BERRY JUICE,0,Beverages                                           0.000000\n",
        "ACAI BERRY JUICE,Berry company,Juices                                  9.232890\n",
        "ACNE FACIAL SOAP,Healing Herbs,Cosmetics                               3.355778\n",
        "ACQUA PANA WATER 1000ML,NGS,Beverages                                  0.000000\n",
        "ACQUA PANA WATER 500ML,NGS,Beverages                                   0.000000\n",
        "ACQUA PANA WATER 500ML GLASS,NGS,Beverages                             0.000000\n",
        "ACTIBIF CHEESE (FOR BETTER DIGESTION),0,cheese                        22.284454\n",
        "AGAR AGAR FLAKES (HAND HARVESTED) - WILD,0,Food supplements           20.808944\n",
        "AGAVE SYRUP ( ORGANIC ) / 473ML,Suzanne's Specialties,Sweeteners       5.795637\n",
        "ALL PURPOSE BAKING FLOUR ( GLUTEN FREE ),NGS,Flour                    10.582302\n",
        "ALL PURPOSE BAKING FLOUR ( GLUTEN FREE ) / 623G,Bob's Red Mill,Flour  12.200928\n",
        "ALL PURPOSE BAKING FLOUR (GLUTEN FREE),0,Baking products              22.030442\n",
        "ALL PURPOSE BAKING FLOUR (GLUTEN FREE),0,General                      36.817595\n",
        "ALMOND BISCUITS (GLUTEN FREE - TRACES OF GLUTEN),0,Snacks              3.436608\n",
        "ALMOND BREAD (GLUTEN FREE),0,Bread                                     0.000000\n",
        "ALMOND BUTTER,0,Nut butter                                            70.496165\n",
        "ALMOND BUTTER (HOME-MADE),Signature,spreads                           21.533637\n",
        "ALMOND BUTTER (NATURAL),0,Nut butter                                  45.421543\n",
        "ALMOND MEAL FLOUR,0,Baking products                                   34.112647\n",
        "ALMOND MILK ( ORGANIC ),Alpro,Non-dairy milk                           2.266912\n",
        "ALMOND MILK ( ORGANIC ) / 946ML,Pacific Natural Foods,Non-dairy milk  12.157194\n",
        "ALMOND MILK ( ORGANIC ) 946ML,0,Non-dairy milk                         0.000000\n",
        "ALMOND MILK ( ORIGINAL ),NGS,Non-dairy milk                            8.046970\n",
        "ALMOND MILK (ORGANIC) - SUGAR-FREE,0,Non-dairy milk                   14.907526\n",
        "ALMOND MILK (UNSWEETENED),0,Non-dairy milk                             0.000000\n",
        "ALMOND MILK WITH DARK CHOCOLATE,Pure almond,Non-dairy milk             0.000000\n",
        "ALMOND MILK WITH VANILLA,Pure almond,Non-dairy milk                    5.946309\n",
        "ALMOND ORIGINAL (ORIGINAL),0,Non-dairy milk                           13.011578\n",
        "ALMOND'S AND OATS BODY SCRUB,0,Cosmetics                               0.000000\n",
        "...                                                                         ...\n",
        "XANTHAN GUM (GLUTEN FREE),0,Baking products                           20.408029\n",
        "YAKI NORI SHEETS,NGS,Japanese cuisine                                  0.000000\n",
        "YELLOW APPLES,NGS,Fruits                                              29.022002\n",
        "YELLOW BROCCOLI,NGS,Fresh vegetables                                   1.793188\n",
        "YELLOW CAPSICUM ( CHEMICAL FREE ),NGS,Chemical free vegetables         4.537148\n",
        "YELLOW CARROT ( CHEMICAL FREE ),0,Vegetables                          46.353817\n",
        "YELLOW CARROT ( CHEMICAL FREE ),NGS,Fresh vegetables                  14.790381\n",
        "YELLOW CARROTS,NGS,Fresh vegetables                                   12.365277\n",
        "YELLOW CHERRY TOMATOES,Kheir Misr,Fresh vegetables                     7.402517\n",
        "YELLOW GRAPEFRUIT,0,Fresh fruits                                       8.005974\n",
        "YELLOW GRAPEFRUIT,NGS,Fruits                                          11.730625\n",
        "YELLOW MUSTARD,Eden Foods, Inc.,Spices                                11.398308\n",
        "YELLOW ONIONS ( CHEMICAL FREE ),NGS,Fresh vegetables                   0.964206\n",
        "YELLOW SPLIT PEAS / 822G,Bob's Red Mill,Grains                         3.264361\n",
        "YELLOW WATERMELON,NGS,Fruits                                           9.050773\n",
        "YING/YANG FACIAL ACNE SOAP,0,Cosmetics                                 0.000000\n",
        "YOUSSFI (TANGERINE),NGS,Fruits                                         0.000000\n",
        "ZARDA EXTRA VIRGIN OLIVE OIL,NGS,Oil & Vinegar                         0.000000\n",
        "ZUCCHINI,Kheir Misr,Fresh vegetables                                  11.888222\n",
        "ZUCCHINI,NGS,Fresh vegetables                                          0.000000\n",
        "ZUCCHINI,NGS,General                                                   0.000000\n",
        "ZUCCHINI ( CHEMICAL FREE ),0,Vegetables                                0.000000\n",
        "ZUCCHINI ( CHEMICAL FREE ),NGS,Fresh vegetables                       24.206725\n",
        "ZUCCHINI (CHEMICAL FREE),0,Chemical free vegetables                    4.710685\n",
        "ZUCCHINI (CHEMICAL FREE),0,Vegetables                                 12.090172\n",
        "ZUCCHINI (ORGANIC),0,Vegetables                                       19.975714\n",
        "ZUCCHINI / 500G,NGS,Fresh Produce                                      4.227399\n",
        "ZUCCHINI FLOWERS,NGS,Fresh vegetables                                 12.158361\n",
        "ZUCCHINI FLOWERS (CHEMICAL FREE),0,Vegetables                         24.938759\n",
        "ZUCCHINI JAM WITH PISTACHIO & MASTIC (NATURAL),0,Jam                   0.000000\n",
        "\n",
        "[1867 rows x 1 columns]"
       ]
      }
     ],
     "prompt_number": 13
    },
    {
     "cell_type": "code",
     "collapsed": false,
     "input": [
      "# get CGMR for each product from products table                                                                                                                                                                                                                                                                                                                                                                                                                                                                                                                                                                                                                                                                                                                                                                                                                                                                                                                                                                                \n",
      "gprofit['Newname'] = gprofit.apply(lambda x: str(x['Product']) +\",\"+ str(x['Brand']) +\",\"+ str(x['Type']), axis=1)\n",
      "for i in range(0, max(gprofit.index)+1):\n",
      "    gprofit.loc[i,'CMGR'] = df1.loc[gprofit.loc[i,'Newname'],'CMGR']\n",
      "    \n",
      "gprofit = gprofit[['Product', 'Brand', 'Type', 'Date', 'Revenue', 'Gross Profit', 'CMGR', 'Average Revenue', 'Average Gross Profit', '%Total Revenue', '% Variation from Average', '%Total Gross Profit']]\n",
      "gprofit=gprofit[gprofit['Revenue'] != 0] #remove products with zero revenue\n",
      "gprofit"
     ],
     "language": "python",
     "metadata": {},
     "outputs": [
      {
       "html": [
        "<div style=\"max-height:1000px;max-width:1500px;overflow:auto;\">\n",
        "<table border=\"1\" class=\"dataframe\">\n",
        "  <thead>\n",
        "    <tr style=\"text-align: right;\">\n",
        "      <th></th>\n",
        "      <th>Product</th>\n",
        "      <th>Brand</th>\n",
        "      <th>Type</th>\n",
        "      <th>Date</th>\n",
        "      <th>Revenue</th>\n",
        "      <th>Gross Profit</th>\n",
        "      <th>CMGR</th>\n",
        "      <th>Average Revenue</th>\n",
        "      <th>Average Gross Profit</th>\n",
        "      <th>%Total Revenue</th>\n",
        "      <th>% Variation from Average</th>\n",
        "      <th>%Total Gross Profit</th>\n",
        "    </tr>\n",
        "  </thead>\n",
        "  <tbody>\n",
        "    <tr>\n",
        "      <th>7    </th>\n",
        "      <td>                           7 GRAIN MILK / 946ML</td>\n",
        "      <td> Pacific Natural Foods</td>\n",
        "      <td>             Milk</td>\n",
        "      <td> 2012-12-01</td>\n",
        "      <td>  31.900000</td>\n",
        "      <td>   4.900000</td>\n",
        "      <td> 10.650578</td>\n",
        "      <td> 28.327224</td>\n",
        "      <td> 7.212516</td>\n",
        "      <td> 0.001371</td>\n",
        "      <td>   12.612519</td>\n",
        "      <td> 0.000827</td>\n",
        "    </tr>\n",
        "    <tr>\n",
        "      <th>8    </th>\n",
        "      <td>                           7 GRAIN MILK / 946ML</td>\n",
        "      <td> Pacific Natural Foods</td>\n",
        "      <td>             Milk</td>\n",
        "      <td> 2013-01-01</td>\n",
        "      <td> 127.600000</td>\n",
        "      <td>  19.600000</td>\n",
        "      <td> 10.650578</td>\n",
        "      <td> 28.327224</td>\n",
        "      <td> 7.212516</td>\n",
        "      <td> 0.005483</td>\n",
        "      <td>  350.450076</td>\n",
        "      <td> 0.003308</td>\n",
        "    </tr>\n",
        "    <tr>\n",
        "      <th>9    </th>\n",
        "      <td>                           7 GRAIN MILK / 946ML</td>\n",
        "      <td> Pacific Natural Foods</td>\n",
        "      <td>             Milk</td>\n",
        "      <td> 2013-02-01</td>\n",
        "      <td>  31.900000</td>\n",
        "      <td>   4.900000</td>\n",
        "      <td> 10.650578</td>\n",
        "      <td> 28.327224</td>\n",
        "      <td> 7.212516</td>\n",
        "      <td> 0.001371</td>\n",
        "      <td>   12.612519</td>\n",
        "      <td> 0.000827</td>\n",
        "    </tr>\n",
        "    <tr>\n",
        "      <th>10   </th>\n",
        "      <td>                           7 GRAIN MILK / 946ML</td>\n",
        "      <td> Pacific Natural Foods</td>\n",
        "      <td>             Milk</td>\n",
        "      <td> 2013-03-01</td>\n",
        "      <td> 255.200000</td>\n",
        "      <td>  39.200000</td>\n",
        "      <td> 10.650578</td>\n",
        "      <td> 28.327224</td>\n",
        "      <td> 7.212516</td>\n",
        "      <td> 0.010967</td>\n",
        "      <td>  800.900151</td>\n",
        "      <td> 0.006616</td>\n",
        "    </tr>\n",
        "    <tr>\n",
        "      <th>11   </th>\n",
        "      <td>                           7 GRAIN MILK / 946ML</td>\n",
        "      <td> Pacific Natural Foods</td>\n",
        "      <td>             Milk</td>\n",
        "      <td> 2013-04-01</td>\n",
        "      <td> 382.800000</td>\n",
        "      <td>  58.800000</td>\n",
        "      <td> 10.650578</td>\n",
        "      <td> 28.327224</td>\n",
        "      <td> 7.212516</td>\n",
        "      <td> 0.016450</td>\n",
        "      <td> 1251.350227</td>\n",
        "      <td> 0.009924</td>\n",
        "    </tr>\n",
        "    <tr>\n",
        "      <th>12   </th>\n",
        "      <td>                           7 GRAIN MILK / 946ML</td>\n",
        "      <td> Pacific Natural Foods</td>\n",
        "      <td>             Milk</td>\n",
        "      <td> 2013-05-01</td>\n",
        "      <td>  31.900000</td>\n",
        "      <td>   4.900000</td>\n",
        "      <td> 10.650578</td>\n",
        "      <td> 28.327224</td>\n",
        "      <td> 7.212516</td>\n",
        "      <td> 0.001371</td>\n",
        "      <td>   12.612519</td>\n",
        "      <td> 0.000827</td>\n",
        "    </tr>\n",
        "    <tr>\n",
        "      <th>13   </th>\n",
        "      <td>                           7 GRAIN MILK / 946ML</td>\n",
        "      <td> Pacific Natural Foods</td>\n",
        "      <td>             Milk</td>\n",
        "      <td> 2013-06-01</td>\n",
        "      <td>  95.700000</td>\n",
        "      <td>  14.700000</td>\n",
        "      <td> 10.650578</td>\n",
        "      <td> 28.327224</td>\n",
        "      <td> 7.212516</td>\n",
        "      <td> 0.004113</td>\n",
        "      <td>  237.837557</td>\n",
        "      <td> 0.002481</td>\n",
        "    </tr>\n",
        "    <tr>\n",
        "      <th>15   </th>\n",
        "      <td>                           7 GRAIN MILK / 946ML</td>\n",
        "      <td> Pacific Natural Foods</td>\n",
        "      <td>             Milk</td>\n",
        "      <td> 2013-08-01</td>\n",
        "      <td>  31.900000</td>\n",
        "      <td>   4.900000</td>\n",
        "      <td> 10.650578</td>\n",
        "      <td> 28.327224</td>\n",
        "      <td> 7.212516</td>\n",
        "      <td> 0.001371</td>\n",
        "      <td>   12.612519</td>\n",
        "      <td> 0.000827</td>\n",
        "    </tr>\n",
        "    <tr>\n",
        "      <th>16   </th>\n",
        "      <td>                           7 GRAIN MILK / 946ML</td>\n",
        "      <td> Pacific Natural Foods</td>\n",
        "      <td>             Milk</td>\n",
        "      <td> 2013-09-01</td>\n",
        "      <td> 302.400000</td>\n",
        "      <td>  72.000000</td>\n",
        "      <td> 10.650578</td>\n",
        "      <td> 28.327224</td>\n",
        "      <td> 7.212516</td>\n",
        "      <td> 0.012995</td>\n",
        "      <td>  967.524317</td>\n",
        "      <td> 0.012152</td>\n",
        "    </tr>\n",
        "    <tr>\n",
        "      <th>17   </th>\n",
        "      <td>                           7 GRAIN MILK / 946ML</td>\n",
        "      <td> Pacific Natural Foods</td>\n",
        "      <td>             Milk</td>\n",
        "      <td> 2013-10-01</td>\n",
        "      <td> 134.400000</td>\n",
        "      <td>  32.000000</td>\n",
        "      <td> 10.650578</td>\n",
        "      <td> 28.327224</td>\n",
        "      <td> 7.212516</td>\n",
        "      <td> 0.005776</td>\n",
        "      <td>  374.455252</td>\n",
        "      <td> 0.005401</td>\n",
        "    </tr>\n",
        "    <tr>\n",
        "      <th>18   </th>\n",
        "      <td>                           7 GRAIN MILK / 946ML</td>\n",
        "      <td> Pacific Natural Foods</td>\n",
        "      <td>             Milk</td>\n",
        "      <td> 2013-11-01</td>\n",
        "      <td>  67.200000</td>\n",
        "      <td>  16.000000</td>\n",
        "      <td> 10.650578</td>\n",
        "      <td> 28.327224</td>\n",
        "      <td> 7.212516</td>\n",
        "      <td> 0.002888</td>\n",
        "      <td>  137.227626</td>\n",
        "      <td> 0.002700</td>\n",
        "    </tr>\n",
        "    <tr>\n",
        "      <th>87   </th>\n",
        "      <td>                               ACAI BERRY JUICE</td>\n",
        "      <td>                     0</td>\n",
        "      <td>        Beverages</td>\n",
        "      <td> 2015-12-01</td>\n",
        "      <td>  60.000000</td>\n",
        "      <td>  12.000000</td>\n",
        "      <td>  0.000000</td>\n",
        "      <td> 28.327224</td>\n",
        "      <td> 7.212516</td>\n",
        "      <td> 0.002578</td>\n",
        "      <td>  111.810380</td>\n",
        "      <td> 0.002025</td>\n",
        "    </tr>\n",
        "    <tr>\n",
        "      <th>109  </th>\n",
        "      <td>                               ACAI BERRY JUICE</td>\n",
        "      <td>         Berry company</td>\n",
        "      <td>           Juices</td>\n",
        "      <td> 2014-02-01</td>\n",
        "      <td>  31.000000</td>\n",
        "      <td>   8.000000</td>\n",
        "      <td>  9.232890</td>\n",
        "      <td> 28.327224</td>\n",
        "      <td> 7.212516</td>\n",
        "      <td> 0.001332</td>\n",
        "      <td>    9.435363</td>\n",
        "      <td> 0.001350</td>\n",
        "    </tr>\n",
        "    <tr>\n",
        "      <th>110  </th>\n",
        "      <td>                               ACAI BERRY JUICE</td>\n",
        "      <td>         Berry company</td>\n",
        "      <td>           Juices</td>\n",
        "      <td> 2014-03-01</td>\n",
        "      <td>  62.000000</td>\n",
        "      <td>  16.000000</td>\n",
        "      <td>  9.232890</td>\n",
        "      <td> 28.327224</td>\n",
        "      <td> 7.212516</td>\n",
        "      <td> 0.002664</td>\n",
        "      <td>  118.870726</td>\n",
        "      <td> 0.002700</td>\n",
        "    </tr>\n",
        "    <tr>\n",
        "      <th>111  </th>\n",
        "      <td>                               ACAI BERRY JUICE</td>\n",
        "      <td>         Berry company</td>\n",
        "      <td>           Juices</td>\n",
        "      <td> 2014-04-01</td>\n",
        "      <td> 124.000000</td>\n",
        "      <td>  32.000000</td>\n",
        "      <td>  9.232890</td>\n",
        "      <td> 28.327224</td>\n",
        "      <td> 7.212516</td>\n",
        "      <td> 0.005329</td>\n",
        "      <td>  337.741453</td>\n",
        "      <td> 0.005401</td>\n",
        "    </tr>\n",
        "    <tr>\n",
        "      <th>112  </th>\n",
        "      <td>                               ACAI BERRY JUICE</td>\n",
        "      <td>         Berry company</td>\n",
        "      <td>           Juices</td>\n",
        "      <td> 2014-05-01</td>\n",
        "      <td>  62.000000</td>\n",
        "      <td>  16.000000</td>\n",
        "      <td>  9.232890</td>\n",
        "      <td> 28.327224</td>\n",
        "      <td> 7.212516</td>\n",
        "      <td> 0.002664</td>\n",
        "      <td>  118.870726</td>\n",
        "      <td> 0.002700</td>\n",
        "    </tr>\n",
        "    <tr>\n",
        "      <th>113  </th>\n",
        "      <td>                               ACAI BERRY JUICE</td>\n",
        "      <td>         Berry company</td>\n",
        "      <td>           Juices</td>\n",
        "      <td> 2014-06-01</td>\n",
        "      <td>  29.000000</td>\n",
        "      <td>   6.000000</td>\n",
        "      <td>  9.232890</td>\n",
        "      <td> 28.327224</td>\n",
        "      <td> 7.212516</td>\n",
        "      <td> 0.001246</td>\n",
        "      <td>    2.375017</td>\n",
        "      <td> 0.001013</td>\n",
        "    </tr>\n",
        "    <tr>\n",
        "      <th>158  </th>\n",
        "      <td>                               ACNE FACIAL SOAP</td>\n",
        "      <td>         Healing Herbs</td>\n",
        "      <td>        Cosmetics</td>\n",
        "      <td> 2014-07-01</td>\n",
        "      <td>  55.000000</td>\n",
        "      <td>  11.000000</td>\n",
        "      <td>  3.355778</td>\n",
        "      <td> 28.327224</td>\n",
        "      <td> 7.212516</td>\n",
        "      <td> 0.002364</td>\n",
        "      <td>   94.159515</td>\n",
        "      <td> 0.001857</td>\n",
        "    </tr>\n",
        "    <tr>\n",
        "      <th>160  </th>\n",
        "      <td>                               ACNE FACIAL SOAP</td>\n",
        "      <td>         Healing Herbs</td>\n",
        "      <td>        Cosmetics</td>\n",
        "      <td> 2014-09-01</td>\n",
        "      <td>  55.000000</td>\n",
        "      <td>  11.000000</td>\n",
        "      <td>  3.355778</td>\n",
        "      <td> 28.327224</td>\n",
        "      <td> 7.212516</td>\n",
        "      <td> 0.002364</td>\n",
        "      <td>   94.159515</td>\n",
        "      <td> 0.001857</td>\n",
        "    </tr>\n",
        "    <tr>\n",
        "      <th>199  </th>\n",
        "      <td>                        ACQUA PANA WATER 1000ML</td>\n",
        "      <td>                   NGS</td>\n",
        "      <td>        Beverages</td>\n",
        "      <td> 2014-04-01</td>\n",
        "      <td>  10.000000</td>\n",
        "      <td>  10.000000</td>\n",
        "      <td>  0.000000</td>\n",
        "      <td> 28.327224</td>\n",
        "      <td> 7.212516</td>\n",
        "      <td> 0.000430</td>\n",
        "      <td>  -64.698270</td>\n",
        "      <td> 0.001688</td>\n",
        "    </tr>\n",
        "    <tr>\n",
        "      <th>243  </th>\n",
        "      <td>                         ACQUA PANA WATER 500ML</td>\n",
        "      <td>                   NGS</td>\n",
        "      <td>        Beverages</td>\n",
        "      <td> 2014-04-01</td>\n",
        "      <td>   6.500000</td>\n",
        "      <td>   6.500000</td>\n",
        "      <td>  0.000000</td>\n",
        "      <td> 28.327224</td>\n",
        "      <td> 7.212516</td>\n",
        "      <td> 0.000279</td>\n",
        "      <td>  -77.053875</td>\n",
        "      <td> 0.001097</td>\n",
        "    </tr>\n",
        "    <tr>\n",
        "      <th>287  </th>\n",
        "      <td>                   ACQUA PANA WATER 500ML GLASS</td>\n",
        "      <td>                   NGS</td>\n",
        "      <td>        Beverages</td>\n",
        "      <td> 2014-04-01</td>\n",
        "      <td>   9.000000</td>\n",
        "      <td>   9.000000</td>\n",
        "      <td>  0.000000</td>\n",
        "      <td> 28.327224</td>\n",
        "      <td> 7.212516</td>\n",
        "      <td> 0.000387</td>\n",
        "      <td>  -68.228443</td>\n",
        "      <td> 0.001519</td>\n",
        "    </tr>\n",
        "    <tr>\n",
        "      <th>347  </th>\n",
        "      <td>          ACTIBIF CHEESE (FOR BETTER DIGESTION)</td>\n",
        "      <td>                     0</td>\n",
        "      <td>           cheese</td>\n",
        "      <td> 2015-08-01</td>\n",
        "      <td>  68.000000</td>\n",
        "      <td>  16.000000</td>\n",
        "      <td> 22.284454</td>\n",
        "      <td> 28.327224</td>\n",
        "      <td> 7.212516</td>\n",
        "      <td> 0.002922</td>\n",
        "      <td>  140.051764</td>\n",
        "      <td> 0.002700</td>\n",
        "    </tr>\n",
        "    <tr>\n",
        "      <th>348  </th>\n",
        "      <td>          ACTIBIF CHEESE (FOR BETTER DIGESTION)</td>\n",
        "      <td>                     0</td>\n",
        "      <td>           cheese</td>\n",
        "      <td> 2015-09-01</td>\n",
        "      <td> 204.000000</td>\n",
        "      <td>  48.000000</td>\n",
        "      <td> 22.284454</td>\n",
        "      <td> 28.327224</td>\n",
        "      <td> 7.212516</td>\n",
        "      <td> 0.008767</td>\n",
        "      <td>  620.155293</td>\n",
        "      <td> 0.008101</td>\n",
        "    </tr>\n",
        "    <tr>\n",
        "      <th>349  </th>\n",
        "      <td>          ACTIBIF CHEESE (FOR BETTER DIGESTION)</td>\n",
        "      <td>                     0</td>\n",
        "      <td>           cheese</td>\n",
        "      <td> 2015-10-01</td>\n",
        "      <td>  68.000000</td>\n",
        "      <td>  16.000000</td>\n",
        "      <td> 22.284454</td>\n",
        "      <td> 28.327224</td>\n",
        "      <td> 7.212516</td>\n",
        "      <td> 0.002922</td>\n",
        "      <td>  140.051764</td>\n",
        "      <td> 0.002700</td>\n",
        "    </tr>\n",
        "    <tr>\n",
        "      <th>388  </th>\n",
        "      <td>       AGAR AGAR FLAKES (HAND HARVESTED) - WILD</td>\n",
        "      <td>                     0</td>\n",
        "      <td> Food supplements</td>\n",
        "      <td> 2015-05-01</td>\n",
        "      <td>  86.000000</td>\n",
        "      <td>  22.250000</td>\n",
        "      <td> 20.808944</td>\n",
        "      <td> 28.327224</td>\n",
        "      <td> 7.212516</td>\n",
        "      <td> 0.003696</td>\n",
        "      <td>  203.594878</td>\n",
        "      <td> 0.003755</td>\n",
        "    </tr>\n",
        "    <tr>\n",
        "      <th>390  </th>\n",
        "      <td>       AGAR AGAR FLAKES (HAND HARVESTED) - WILD</td>\n",
        "      <td>                     0</td>\n",
        "      <td> Food supplements</td>\n",
        "      <td> 2015-07-01</td>\n",
        "      <td> 172.000000</td>\n",
        "      <td>  44.500000</td>\n",
        "      <td> 20.808944</td>\n",
        "      <td> 28.327224</td>\n",
        "      <td> 7.212516</td>\n",
        "      <td> 0.007391</td>\n",
        "      <td>  507.189757</td>\n",
        "      <td> 0.007511</td>\n",
        "    </tr>\n",
        "    <tr>\n",
        "      <th>391  </th>\n",
        "      <td>       AGAR AGAR FLAKES (HAND HARVESTED) - WILD</td>\n",
        "      <td>                     0</td>\n",
        "      <td> Food supplements</td>\n",
        "      <td> 2015-08-01</td>\n",
        "      <td>  86.000000</td>\n",
        "      <td>  22.250000</td>\n",
        "      <td> 20.808944</td>\n",
        "      <td> 28.327224</td>\n",
        "      <td> 7.212516</td>\n",
        "      <td> 0.003696</td>\n",
        "      <td>  203.594878</td>\n",
        "      <td> 0.003755</td>\n",
        "    </tr>\n",
        "    <tr>\n",
        "      <th>393  </th>\n",
        "      <td>       AGAR AGAR FLAKES (HAND HARVESTED) - WILD</td>\n",
        "      <td>                     0</td>\n",
        "      <td> Food supplements</td>\n",
        "      <td> 2015-10-01</td>\n",
        "      <td>  86.000000</td>\n",
        "      <td>  22.250000</td>\n",
        "      <td> 20.808944</td>\n",
        "      <td> 28.327224</td>\n",
        "      <td> 7.212516</td>\n",
        "      <td> 0.003696</td>\n",
        "      <td>  203.594878</td>\n",
        "      <td> 0.003755</td>\n",
        "    </tr>\n",
        "    <tr>\n",
        "      <th>395  </th>\n",
        "      <td>       AGAR AGAR FLAKES (HAND HARVESTED) - WILD</td>\n",
        "      <td>                     0</td>\n",
        "      <td> Food supplements</td>\n",
        "      <td> 2015-12-01</td>\n",
        "      <td> 258.000000</td>\n",
        "      <td>  66.750000</td>\n",
        "      <td> 20.808944</td>\n",
        "      <td> 28.327224</td>\n",
        "      <td> 7.212516</td>\n",
        "      <td> 0.011087</td>\n",
        "      <td>  810.784635</td>\n",
        "      <td> 0.011266</td>\n",
        "    </tr>\n",
        "    <tr>\n",
        "      <th>...</th>\n",
        "      <td>...</td>\n",
        "      <td>...</td>\n",
        "      <td>...</td>\n",
        "      <td>...</td>\n",
        "      <td>...</td>\n",
        "      <td>...</td>\n",
        "      <td>...</td>\n",
        "      <td>...</td>\n",
        "      <td>...</td>\n",
        "      <td>...</td>\n",
        "      <td>...</td>\n",
        "      <td>...</td>\n",
        "    </tr>\n",
        "    <tr>\n",
        "      <th>81920</th>\n",
        "      <td>                       ZUCCHINI (CHEMICAL FREE)</td>\n",
        "      <td>                     0</td>\n",
        "      <td>       Vegetables</td>\n",
        "      <td> 2015-05-01</td>\n",
        "      <td> 766.600000</td>\n",
        "      <td> 244.100000</td>\n",
        "      <td> 12.090172</td>\n",
        "      <td> 28.327224</td>\n",
        "      <td> 7.212516</td>\n",
        "      <td> 0.032943</td>\n",
        "      <td> 2606.230626</td>\n",
        "      <td> 0.041199</td>\n",
        "    </tr>\n",
        "    <tr>\n",
        "      <th>81921</th>\n",
        "      <td>                       ZUCCHINI (CHEMICAL FREE)</td>\n",
        "      <td>                     0</td>\n",
        "      <td>       Vegetables</td>\n",
        "      <td> 2015-06-01</td>\n",
        "      <td> 210.000000</td>\n",
        "      <td>  70.000000</td>\n",
        "      <td> 12.090172</td>\n",
        "      <td> 28.327224</td>\n",
        "      <td> 7.212516</td>\n",
        "      <td> 0.009024</td>\n",
        "      <td>  641.336331</td>\n",
        "      <td> 0.011814</td>\n",
        "    </tr>\n",
        "    <tr>\n",
        "      <th>81922</th>\n",
        "      <td>                       ZUCCHINI (CHEMICAL FREE)</td>\n",
        "      <td>                     0</td>\n",
        "      <td>       Vegetables</td>\n",
        "      <td> 2015-07-01</td>\n",
        "      <td>   7.500000</td>\n",
        "      <td>   2.500000</td>\n",
        "      <td> 12.090172</td>\n",
        "      <td> 28.327224</td>\n",
        "      <td> 7.212516</td>\n",
        "      <td> 0.000322</td>\n",
        "      <td>  -73.523702</td>\n",
        "      <td> 0.000422</td>\n",
        "    </tr>\n",
        "    <tr>\n",
        "      <th>81923</th>\n",
        "      <td>                       ZUCCHINI (CHEMICAL FREE)</td>\n",
        "      <td>                     0</td>\n",
        "      <td>       Vegetables</td>\n",
        "      <td> 2015-08-01</td>\n",
        "      <td> 150.000000</td>\n",
        "      <td>  50.000000</td>\n",
        "      <td> 12.090172</td>\n",
        "      <td> 28.327224</td>\n",
        "      <td> 7.212516</td>\n",
        "      <td> 0.006446</td>\n",
        "      <td>  429.525951</td>\n",
        "      <td> 0.008439</td>\n",
        "    </tr>\n",
        "    <tr>\n",
        "      <th>81924</th>\n",
        "      <td>                       ZUCCHINI (CHEMICAL FREE)</td>\n",
        "      <td>                     0</td>\n",
        "      <td>       Vegetables</td>\n",
        "      <td> 2015-09-01</td>\n",
        "      <td> 330.000000</td>\n",
        "      <td> 110.000000</td>\n",
        "      <td> 12.090172</td>\n",
        "      <td> 28.327224</td>\n",
        "      <td> 7.212516</td>\n",
        "      <td> 0.014181</td>\n",
        "      <td> 1064.957092</td>\n",
        "      <td> 0.018566</td>\n",
        "    </tr>\n",
        "    <tr>\n",
        "      <th>81925</th>\n",
        "      <td>                       ZUCCHINI (CHEMICAL FREE)</td>\n",
        "      <td>                     0</td>\n",
        "      <td>       Vegetables</td>\n",
        "      <td> 2015-10-01</td>\n",
        "      <td> 318.076923</td>\n",
        "      <td> 103.076923</td>\n",
        "      <td> 12.090172</td>\n",
        "      <td> 28.327224</td>\n",
        "      <td> 7.212516</td>\n",
        "      <td> 0.013669</td>\n",
        "      <td> 1022.866567</td>\n",
        "      <td> 0.017397</td>\n",
        "    </tr>\n",
        "    <tr>\n",
        "      <th>81926</th>\n",
        "      <td>                       ZUCCHINI (CHEMICAL FREE)</td>\n",
        "      <td>                     0</td>\n",
        "      <td>       Vegetables</td>\n",
        "      <td> 2015-11-01</td>\n",
        "      <td> 695.681924</td>\n",
        "      <td> 240.681924</td>\n",
        "      <td> 12.090172</td>\n",
        "      <td> 28.327224</td>\n",
        "      <td> 7.212516</td>\n",
        "      <td> 0.029896</td>\n",
        "      <td> 2355.877549</td>\n",
        "      <td> 0.040622</td>\n",
        "    </tr>\n",
        "    <tr>\n",
        "      <th>81927</th>\n",
        "      <td>                       ZUCCHINI (CHEMICAL FREE)</td>\n",
        "      <td>                     0</td>\n",
        "      <td>       Vegetables</td>\n",
        "      <td> 2015-12-01</td>\n",
        "      <td> 212.509227</td>\n",
        "      <td>  67.509227</td>\n",
        "      <td> 12.090172</td>\n",
        "      <td> 28.327224</td>\n",
        "      <td> 7.212516</td>\n",
        "      <td> 0.009132</td>\n",
        "      <td>  650.194337</td>\n",
        "      <td> 0.011394</td>\n",
        "    </tr>\n",
        "    <tr>\n",
        "      <th>81965</th>\n",
        "      <td>                             ZUCCHINI (ORGANIC)</td>\n",
        "      <td>                     0</td>\n",
        "      <td>       Vegetables</td>\n",
        "      <td> 2015-06-01</td>\n",
        "      <td> 244.000000</td>\n",
        "      <td>  91.000000</td>\n",
        "      <td> 19.975714</td>\n",
        "      <td> 28.327224</td>\n",
        "      <td> 7.212516</td>\n",
        "      <td> 0.010485</td>\n",
        "      <td>  761.362213</td>\n",
        "      <td> 0.015359</td>\n",
        "    </tr>\n",
        "    <tr>\n",
        "      <th>81966</th>\n",
        "      <td>                             ZUCCHINI (ORGANIC)</td>\n",
        "      <td>                     0</td>\n",
        "      <td>       Vegetables</td>\n",
        "      <td> 2015-07-01</td>\n",
        "      <td> 403.200000</td>\n",
        "      <td> 156.700000</td>\n",
        "      <td> 19.975714</td>\n",
        "      <td> 28.327224</td>\n",
        "      <td> 7.212516</td>\n",
        "      <td> 0.017327</td>\n",
        "      <td> 1323.365756</td>\n",
        "      <td> 0.026448</td>\n",
        "    </tr>\n",
        "    <tr>\n",
        "      <th>81967</th>\n",
        "      <td>                             ZUCCHINI (ORGANIC)</td>\n",
        "      <td>                     0</td>\n",
        "      <td>       Vegetables</td>\n",
        "      <td> 2015-08-01</td>\n",
        "      <td> 342.794118</td>\n",
        "      <td> 130.294118</td>\n",
        "      <td> 19.975714</td>\n",
        "      <td> 28.327224</td>\n",
        "      <td> 7.212516</td>\n",
        "      <td> 0.014731</td>\n",
        "      <td> 1110.122542</td>\n",
        "      <td> 0.021991</td>\n",
        "    </tr>\n",
        "    <tr>\n",
        "      <th>81968</th>\n",
        "      <td>                             ZUCCHINI (ORGANIC)</td>\n",
        "      <td>                     0</td>\n",
        "      <td>       Vegetables</td>\n",
        "      <td> 2015-09-01</td>\n",
        "      <td>  56.000000</td>\n",
        "      <td>  22.000000</td>\n",
        "      <td> 19.975714</td>\n",
        "      <td> 28.327224</td>\n",
        "      <td> 7.212516</td>\n",
        "      <td> 0.002407</td>\n",
        "      <td>   97.689688</td>\n",
        "      <td> 0.003713</td>\n",
        "    </tr>\n",
        "    <tr>\n",
        "      <th>81969</th>\n",
        "      <td>                             ZUCCHINI (ORGANIC)</td>\n",
        "      <td>                     0</td>\n",
        "      <td>       Vegetables</td>\n",
        "      <td> 2015-10-01</td>\n",
        "      <td> 280.000000</td>\n",
        "      <td> 110.000000</td>\n",
        "      <td> 19.975714</td>\n",
        "      <td> 28.327224</td>\n",
        "      <td> 7.212516</td>\n",
        "      <td> 0.012033</td>\n",
        "      <td>  888.448442</td>\n",
        "      <td> 0.018566</td>\n",
        "    </tr>\n",
        "    <tr>\n",
        "      <th>81971</th>\n",
        "      <td>                             ZUCCHINI (ORGANIC)</td>\n",
        "      <td>                     0</td>\n",
        "      <td>       Vegetables</td>\n",
        "      <td> 2015-12-01</td>\n",
        "      <td> 181.734738</td>\n",
        "      <td>  62.734738</td>\n",
        "      <td> 19.975714</td>\n",
        "      <td> 28.327224</td>\n",
        "      <td> 7.212516</td>\n",
        "      <td> 0.007810</td>\n",
        "      <td>  541.555066</td>\n",
        "      <td> 0.010588</td>\n",
        "    </tr>\n",
        "    <tr>\n",
        "      <th>81974</th>\n",
        "      <td>                                ZUCCHINI / 500G</td>\n",
        "      <td>                   NGS</td>\n",
        "      <td>    Fresh Produce</td>\n",
        "      <td> 2012-07-01</td>\n",
        "      <td>  30.780000</td>\n",
        "      <td>   7.110000</td>\n",
        "      <td>  4.227399</td>\n",
        "      <td> 28.327224</td>\n",
        "      <td> 7.212516</td>\n",
        "      <td> 0.001323</td>\n",
        "      <td>    8.658725</td>\n",
        "      <td> 0.001200</td>\n",
        "    </tr>\n",
        "    <tr>\n",
        "      <th>81975</th>\n",
        "      <td>                                ZUCCHINI / 500G</td>\n",
        "      <td>                   NGS</td>\n",
        "      <td>    Fresh Produce</td>\n",
        "      <td> 2012-08-01</td>\n",
        "      <td>  27.360000</td>\n",
        "      <td>   6.320000</td>\n",
        "      <td>  4.227399</td>\n",
        "      <td> 28.327224</td>\n",
        "      <td> 7.212516</td>\n",
        "      <td> 0.001176</td>\n",
        "      <td>   -3.414467</td>\n",
        "      <td> 0.001067</td>\n",
        "    </tr>\n",
        "    <tr>\n",
        "      <th>81976</th>\n",
        "      <td>                                ZUCCHINI / 500G</td>\n",
        "      <td>                   NGS</td>\n",
        "      <td>    Fresh Produce</td>\n",
        "      <td> 2012-09-01</td>\n",
        "      <td>  23.940000</td>\n",
        "      <td>   5.530000</td>\n",
        "      <td>  4.227399</td>\n",
        "      <td> 28.327224</td>\n",
        "      <td> 7.212516</td>\n",
        "      <td> 0.001029</td>\n",
        "      <td>  -15.487658</td>\n",
        "      <td> 0.000933</td>\n",
        "    </tr>\n",
        "    <tr>\n",
        "      <th>81977</th>\n",
        "      <td>                                ZUCCHINI / 500G</td>\n",
        "      <td>                   NGS</td>\n",
        "      <td>    Fresh Produce</td>\n",
        "      <td> 2012-10-01</td>\n",
        "      <td>  34.200000</td>\n",
        "      <td>   7.900000</td>\n",
        "      <td>  4.227399</td>\n",
        "      <td> 28.327224</td>\n",
        "      <td> 7.212516</td>\n",
        "      <td> 0.001470</td>\n",
        "      <td>   20.731917</td>\n",
        "      <td> 0.001333</td>\n",
        "    </tr>\n",
        "    <tr>\n",
        "      <th>81978</th>\n",
        "      <td>                                ZUCCHINI / 500G</td>\n",
        "      <td>                   NGS</td>\n",
        "      <td>    Fresh Produce</td>\n",
        "      <td> 2012-11-01</td>\n",
        "      <td>  78.660000</td>\n",
        "      <td>  18.170000</td>\n",
        "      <td>  4.227399</td>\n",
        "      <td> 28.327224</td>\n",
        "      <td> 7.212516</td>\n",
        "      <td> 0.003380</td>\n",
        "      <td>  177.683409</td>\n",
        "      <td> 0.003067</td>\n",
        "    </tr>\n",
        "    <tr>\n",
        "      <th>81979</th>\n",
        "      <td>                                ZUCCHINI / 500G</td>\n",
        "      <td>                   NGS</td>\n",
        "      <td>    Fresh Produce</td>\n",
        "      <td> 2012-12-01</td>\n",
        "      <td>   3.420000</td>\n",
        "      <td>   0.790000</td>\n",
        "      <td>  4.227399</td>\n",
        "      <td> 28.327224</td>\n",
        "      <td> 7.212516</td>\n",
        "      <td> 0.000147</td>\n",
        "      <td>  -87.926808</td>\n",
        "      <td> 0.000133</td>\n",
        "    </tr>\n",
        "    <tr>\n",
        "      <th>82040</th>\n",
        "      <td>                               ZUCCHINI FLOWERS</td>\n",
        "      <td>                   NGS</td>\n",
        "      <td> Fresh vegetables</td>\n",
        "      <td> 2014-05-01</td>\n",
        "      <td>  19.000000</td>\n",
        "      <td>   4.000000</td>\n",
        "      <td> 12.158361</td>\n",
        "      <td> 28.327224</td>\n",
        "      <td> 7.212516</td>\n",
        "      <td> 0.000816</td>\n",
        "      <td>  -32.926713</td>\n",
        "      <td> 0.000675</td>\n",
        "    </tr>\n",
        "    <tr>\n",
        "      <th>82041</th>\n",
        "      <td>                               ZUCCHINI FLOWERS</td>\n",
        "      <td>                   NGS</td>\n",
        "      <td> Fresh vegetables</td>\n",
        "      <td> 2014-06-01</td>\n",
        "      <td>  38.000000</td>\n",
        "      <td>   8.000000</td>\n",
        "      <td> 12.158361</td>\n",
        "      <td> 28.327224</td>\n",
        "      <td> 7.212516</td>\n",
        "      <td> 0.001633</td>\n",
        "      <td>   34.146574</td>\n",
        "      <td> 0.001350</td>\n",
        "    </tr>\n",
        "    <tr>\n",
        "      <th>82042</th>\n",
        "      <td>                               ZUCCHINI FLOWERS</td>\n",
        "      <td>                   NGS</td>\n",
        "      <td> Fresh vegetables</td>\n",
        "      <td> 2014-07-01</td>\n",
        "      <td>  19.000000</td>\n",
        "      <td>   4.000000</td>\n",
        "      <td> 12.158361</td>\n",
        "      <td> 28.327224</td>\n",
        "      <td> 7.212516</td>\n",
        "      <td> 0.000816</td>\n",
        "      <td>  -32.926713</td>\n",
        "      <td> 0.000675</td>\n",
        "    </tr>\n",
        "    <tr>\n",
        "      <th>82043</th>\n",
        "      <td>                               ZUCCHINI FLOWERS</td>\n",
        "      <td>                   NGS</td>\n",
        "      <td> Fresh vegetables</td>\n",
        "      <td> 2014-08-01</td>\n",
        "      <td> 114.000000</td>\n",
        "      <td>  24.000000</td>\n",
        "      <td> 12.158361</td>\n",
        "      <td> 28.327224</td>\n",
        "      <td> 7.212516</td>\n",
        "      <td> 0.004899</td>\n",
        "      <td>  302.439723</td>\n",
        "      <td> 0.004051</td>\n",
        "    </tr>\n",
        "    <tr>\n",
        "      <th>82044</th>\n",
        "      <td>                               ZUCCHINI FLOWERS</td>\n",
        "      <td>                   NGS</td>\n",
        "      <td> Fresh vegetables</td>\n",
        "      <td> 2014-09-01</td>\n",
        "      <td>  57.000000</td>\n",
        "      <td>  12.000000</td>\n",
        "      <td> 12.158361</td>\n",
        "      <td> 28.327224</td>\n",
        "      <td> 7.212516</td>\n",
        "      <td> 0.002449</td>\n",
        "      <td>  101.219861</td>\n",
        "      <td> 0.002025</td>\n",
        "    </tr>\n",
        "    <tr>\n",
        "      <th>82046</th>\n",
        "      <td>                               ZUCCHINI FLOWERS</td>\n",
        "      <td>                   NGS</td>\n",
        "      <td> Fresh vegetables</td>\n",
        "      <td> 2014-11-01</td>\n",
        "      <td>  19.000000</td>\n",
        "      <td>   4.000000</td>\n",
        "      <td> 12.158361</td>\n",
        "      <td> 28.327224</td>\n",
        "      <td> 7.212516</td>\n",
        "      <td> 0.000816</td>\n",
        "      <td>  -32.926713</td>\n",
        "      <td> 0.000675</td>\n",
        "    </tr>\n",
        "    <tr>\n",
        "      <th>82096</th>\n",
        "      <td>               ZUCCHINI FLOWERS (CHEMICAL FREE)</td>\n",
        "      <td>                     0</td>\n",
        "      <td>       Vegetables</td>\n",
        "      <td> 2015-05-01</td>\n",
        "      <td>  19.000000</td>\n",
        "      <td>   4.000000</td>\n",
        "      <td> 24.938759</td>\n",
        "      <td> 28.327224</td>\n",
        "      <td> 7.212516</td>\n",
        "      <td> 0.000816</td>\n",
        "      <td>  -32.926713</td>\n",
        "      <td> 0.000675</td>\n",
        "    </tr>\n",
        "    <tr>\n",
        "      <th>82097</th>\n",
        "      <td>               ZUCCHINI FLOWERS (CHEMICAL FREE)</td>\n",
        "      <td>                     0</td>\n",
        "      <td>       Vegetables</td>\n",
        "      <td> 2015-06-01</td>\n",
        "      <td> 157.000000</td>\n",
        "      <td>  52.000000</td>\n",
        "      <td> 24.938759</td>\n",
        "      <td> 28.327224</td>\n",
        "      <td> 7.212516</td>\n",
        "      <td> 0.006747</td>\n",
        "      <td>  454.237162</td>\n",
        "      <td> 0.008776</td>\n",
        "    </tr>\n",
        "    <tr>\n",
        "      <th>82098</th>\n",
        "      <td>               ZUCCHINI FLOWERS (CHEMICAL FREE)</td>\n",
        "      <td>                     0</td>\n",
        "      <td>       Vegetables</td>\n",
        "      <td> 2015-07-01</td>\n",
        "      <td>  44.000000</td>\n",
        "      <td>  14.000000</td>\n",
        "      <td> 24.938759</td>\n",
        "      <td> 28.327224</td>\n",
        "      <td> 7.212516</td>\n",
        "      <td> 0.001891</td>\n",
        "      <td>   55.327612</td>\n",
        "      <td> 0.002363</td>\n",
        "    </tr>\n",
        "    <tr>\n",
        "      <th>82144</th>\n",
        "      <td> ZUCCHINI JAM WITH PISTACHIO &amp; MASTIC (NATURAL)</td>\n",
        "      <td>                     0</td>\n",
        "      <td>              Jam</td>\n",
        "      <td> 2015-09-01</td>\n",
        "      <td> 200.000000</td>\n",
        "      <td>  50.000000</td>\n",
        "      <td>  0.000000</td>\n",
        "      <td> 28.327224</td>\n",
        "      <td> 7.212516</td>\n",
        "      <td> 0.008595</td>\n",
        "      <td>  606.034601</td>\n",
        "      <td> 0.008439</td>\n",
        "    </tr>\n",
        "  </tbody>\n",
        "</table>\n",
        "<p>8943 rows \u00d7 12 columns</p>\n",
        "</div>"
       ],
       "metadata": {},
       "output_type": "pyout",
       "prompt_number": 14,
       "text": [
        "                                              Product                  Brand  \\\n",
        "7                                7 GRAIN MILK / 946ML  Pacific Natural Foods   \n",
        "8                                7 GRAIN MILK / 946ML  Pacific Natural Foods   \n",
        "9                                7 GRAIN MILK / 946ML  Pacific Natural Foods   \n",
        "10                               7 GRAIN MILK / 946ML  Pacific Natural Foods   \n",
        "11                               7 GRAIN MILK / 946ML  Pacific Natural Foods   \n",
        "12                               7 GRAIN MILK / 946ML  Pacific Natural Foods   \n",
        "13                               7 GRAIN MILK / 946ML  Pacific Natural Foods   \n",
        "15                               7 GRAIN MILK / 946ML  Pacific Natural Foods   \n",
        "16                               7 GRAIN MILK / 946ML  Pacific Natural Foods   \n",
        "17                               7 GRAIN MILK / 946ML  Pacific Natural Foods   \n",
        "18                               7 GRAIN MILK / 946ML  Pacific Natural Foods   \n",
        "87                                   ACAI BERRY JUICE                      0   \n",
        "109                                  ACAI BERRY JUICE          Berry company   \n",
        "110                                  ACAI BERRY JUICE          Berry company   \n",
        "111                                  ACAI BERRY JUICE          Berry company   \n",
        "112                                  ACAI BERRY JUICE          Berry company   \n",
        "113                                  ACAI BERRY JUICE          Berry company   \n",
        "158                                  ACNE FACIAL SOAP          Healing Herbs   \n",
        "160                                  ACNE FACIAL SOAP          Healing Herbs   \n",
        "199                           ACQUA PANA WATER 1000ML                    NGS   \n",
        "243                            ACQUA PANA WATER 500ML                    NGS   \n",
        "287                      ACQUA PANA WATER 500ML GLASS                    NGS   \n",
        "347             ACTIBIF CHEESE (FOR BETTER DIGESTION)                      0   \n",
        "348             ACTIBIF CHEESE (FOR BETTER DIGESTION)                      0   \n",
        "349             ACTIBIF CHEESE (FOR BETTER DIGESTION)                      0   \n",
        "388          AGAR AGAR FLAKES (HAND HARVESTED) - WILD                      0   \n",
        "390          AGAR AGAR FLAKES (HAND HARVESTED) - WILD                      0   \n",
        "391          AGAR AGAR FLAKES (HAND HARVESTED) - WILD                      0   \n",
        "393          AGAR AGAR FLAKES (HAND HARVESTED) - WILD                      0   \n",
        "395          AGAR AGAR FLAKES (HAND HARVESTED) - WILD                      0   \n",
        "...                                               ...                    ...   \n",
        "81920                        ZUCCHINI (CHEMICAL FREE)                      0   \n",
        "81921                        ZUCCHINI (CHEMICAL FREE)                      0   \n",
        "81922                        ZUCCHINI (CHEMICAL FREE)                      0   \n",
        "81923                        ZUCCHINI (CHEMICAL FREE)                      0   \n",
        "81924                        ZUCCHINI (CHEMICAL FREE)                      0   \n",
        "81925                        ZUCCHINI (CHEMICAL FREE)                      0   \n",
        "81926                        ZUCCHINI (CHEMICAL FREE)                      0   \n",
        "81927                        ZUCCHINI (CHEMICAL FREE)                      0   \n",
        "81965                              ZUCCHINI (ORGANIC)                      0   \n",
        "81966                              ZUCCHINI (ORGANIC)                      0   \n",
        "81967                              ZUCCHINI (ORGANIC)                      0   \n",
        "81968                              ZUCCHINI (ORGANIC)                      0   \n",
        "81969                              ZUCCHINI (ORGANIC)                      0   \n",
        "81971                              ZUCCHINI (ORGANIC)                      0   \n",
        "81974                                 ZUCCHINI / 500G                    NGS   \n",
        "81975                                 ZUCCHINI / 500G                    NGS   \n",
        "81976                                 ZUCCHINI / 500G                    NGS   \n",
        "81977                                 ZUCCHINI / 500G                    NGS   \n",
        "81978                                 ZUCCHINI / 500G                    NGS   \n",
        "81979                                 ZUCCHINI / 500G                    NGS   \n",
        "82040                                ZUCCHINI FLOWERS                    NGS   \n",
        "82041                                ZUCCHINI FLOWERS                    NGS   \n",
        "82042                                ZUCCHINI FLOWERS                    NGS   \n",
        "82043                                ZUCCHINI FLOWERS                    NGS   \n",
        "82044                                ZUCCHINI FLOWERS                    NGS   \n",
        "82046                                ZUCCHINI FLOWERS                    NGS   \n",
        "82096                ZUCCHINI FLOWERS (CHEMICAL FREE)                      0   \n",
        "82097                ZUCCHINI FLOWERS (CHEMICAL FREE)                      0   \n",
        "82098                ZUCCHINI FLOWERS (CHEMICAL FREE)                      0   \n",
        "82144  ZUCCHINI JAM WITH PISTACHIO & MASTIC (NATURAL)                      0   \n",
        "\n",
        "                   Type        Date     Revenue  Gross Profit       CMGR  \\\n",
        "7                  Milk  2012-12-01   31.900000      4.900000  10.650578   \n",
        "8                  Milk  2013-01-01  127.600000     19.600000  10.650578   \n",
        "9                  Milk  2013-02-01   31.900000      4.900000  10.650578   \n",
        "10                 Milk  2013-03-01  255.200000     39.200000  10.650578   \n",
        "11                 Milk  2013-04-01  382.800000     58.800000  10.650578   \n",
        "12                 Milk  2013-05-01   31.900000      4.900000  10.650578   \n",
        "13                 Milk  2013-06-01   95.700000     14.700000  10.650578   \n",
        "15                 Milk  2013-08-01   31.900000      4.900000  10.650578   \n",
        "16                 Milk  2013-09-01  302.400000     72.000000  10.650578   \n",
        "17                 Milk  2013-10-01  134.400000     32.000000  10.650578   \n",
        "18                 Milk  2013-11-01   67.200000     16.000000  10.650578   \n",
        "87            Beverages  2015-12-01   60.000000     12.000000   0.000000   \n",
        "109              Juices  2014-02-01   31.000000      8.000000   9.232890   \n",
        "110              Juices  2014-03-01   62.000000     16.000000   9.232890   \n",
        "111              Juices  2014-04-01  124.000000     32.000000   9.232890   \n",
        "112              Juices  2014-05-01   62.000000     16.000000   9.232890   \n",
        "113              Juices  2014-06-01   29.000000      6.000000   9.232890   \n",
        "158           Cosmetics  2014-07-01   55.000000     11.000000   3.355778   \n",
        "160           Cosmetics  2014-09-01   55.000000     11.000000   3.355778   \n",
        "199           Beverages  2014-04-01   10.000000     10.000000   0.000000   \n",
        "243           Beverages  2014-04-01    6.500000      6.500000   0.000000   \n",
        "287           Beverages  2014-04-01    9.000000      9.000000   0.000000   \n",
        "347              cheese  2015-08-01   68.000000     16.000000  22.284454   \n",
        "348              cheese  2015-09-01  204.000000     48.000000  22.284454   \n",
        "349              cheese  2015-10-01   68.000000     16.000000  22.284454   \n",
        "388    Food supplements  2015-05-01   86.000000     22.250000  20.808944   \n",
        "390    Food supplements  2015-07-01  172.000000     44.500000  20.808944   \n",
        "391    Food supplements  2015-08-01   86.000000     22.250000  20.808944   \n",
        "393    Food supplements  2015-10-01   86.000000     22.250000  20.808944   \n",
        "395    Food supplements  2015-12-01  258.000000     66.750000  20.808944   \n",
        "...                 ...         ...         ...           ...        ...   \n",
        "81920        Vegetables  2015-05-01  766.600000    244.100000  12.090172   \n",
        "81921        Vegetables  2015-06-01  210.000000     70.000000  12.090172   \n",
        "81922        Vegetables  2015-07-01    7.500000      2.500000  12.090172   \n",
        "81923        Vegetables  2015-08-01  150.000000     50.000000  12.090172   \n",
        "81924        Vegetables  2015-09-01  330.000000    110.000000  12.090172   \n",
        "81925        Vegetables  2015-10-01  318.076923    103.076923  12.090172   \n",
        "81926        Vegetables  2015-11-01  695.681924    240.681924  12.090172   \n",
        "81927        Vegetables  2015-12-01  212.509227     67.509227  12.090172   \n",
        "81965        Vegetables  2015-06-01  244.000000     91.000000  19.975714   \n",
        "81966        Vegetables  2015-07-01  403.200000    156.700000  19.975714   \n",
        "81967        Vegetables  2015-08-01  342.794118    130.294118  19.975714   \n",
        "81968        Vegetables  2015-09-01   56.000000     22.000000  19.975714   \n",
        "81969        Vegetables  2015-10-01  280.000000    110.000000  19.975714   \n",
        "81971        Vegetables  2015-12-01  181.734738     62.734738  19.975714   \n",
        "81974     Fresh Produce  2012-07-01   30.780000      7.110000   4.227399   \n",
        "81975     Fresh Produce  2012-08-01   27.360000      6.320000   4.227399   \n",
        "81976     Fresh Produce  2012-09-01   23.940000      5.530000   4.227399   \n",
        "81977     Fresh Produce  2012-10-01   34.200000      7.900000   4.227399   \n",
        "81978     Fresh Produce  2012-11-01   78.660000     18.170000   4.227399   \n",
        "81979     Fresh Produce  2012-12-01    3.420000      0.790000   4.227399   \n",
        "82040  Fresh vegetables  2014-05-01   19.000000      4.000000  12.158361   \n",
        "82041  Fresh vegetables  2014-06-01   38.000000      8.000000  12.158361   \n",
        "82042  Fresh vegetables  2014-07-01   19.000000      4.000000  12.158361   \n",
        "82043  Fresh vegetables  2014-08-01  114.000000     24.000000  12.158361   \n",
        "82044  Fresh vegetables  2014-09-01   57.000000     12.000000  12.158361   \n",
        "82046  Fresh vegetables  2014-11-01   19.000000      4.000000  12.158361   \n",
        "82096        Vegetables  2015-05-01   19.000000      4.000000  24.938759   \n",
        "82097        Vegetables  2015-06-01  157.000000     52.000000  24.938759   \n",
        "82098        Vegetables  2015-07-01   44.000000     14.000000  24.938759   \n",
        "82144               Jam  2015-09-01  200.000000     50.000000   0.000000   \n",
        "\n",
        "       Average Revenue  Average Gross Profit  %Total Revenue  \\\n",
        "7            28.327224              7.212516        0.001371   \n",
        "8            28.327224              7.212516        0.005483   \n",
        "9            28.327224              7.212516        0.001371   \n",
        "10           28.327224              7.212516        0.010967   \n",
        "11           28.327224              7.212516        0.016450   \n",
        "12           28.327224              7.212516        0.001371   \n",
        "13           28.327224              7.212516        0.004113   \n",
        "15           28.327224              7.212516        0.001371   \n",
        "16           28.327224              7.212516        0.012995   \n",
        "17           28.327224              7.212516        0.005776   \n",
        "18           28.327224              7.212516        0.002888   \n",
        "87           28.327224              7.212516        0.002578   \n",
        "109          28.327224              7.212516        0.001332   \n",
        "110          28.327224              7.212516        0.002664   \n",
        "111          28.327224              7.212516        0.005329   \n",
        "112          28.327224              7.212516        0.002664   \n",
        "113          28.327224              7.212516        0.001246   \n",
        "158          28.327224              7.212516        0.002364   \n",
        "160          28.327224              7.212516        0.002364   \n",
        "199          28.327224              7.212516        0.000430   \n",
        "243          28.327224              7.212516        0.000279   \n",
        "287          28.327224              7.212516        0.000387   \n",
        "347          28.327224              7.212516        0.002922   \n",
        "348          28.327224              7.212516        0.008767   \n",
        "349          28.327224              7.212516        0.002922   \n",
        "388          28.327224              7.212516        0.003696   \n",
        "390          28.327224              7.212516        0.007391   \n",
        "391          28.327224              7.212516        0.003696   \n",
        "393          28.327224              7.212516        0.003696   \n",
        "395          28.327224              7.212516        0.011087   \n",
        "...                ...                   ...             ...   \n",
        "81920        28.327224              7.212516        0.032943   \n",
        "81921        28.327224              7.212516        0.009024   \n",
        "81922        28.327224              7.212516        0.000322   \n",
        "81923        28.327224              7.212516        0.006446   \n",
        "81924        28.327224              7.212516        0.014181   \n",
        "81925        28.327224              7.212516        0.013669   \n",
        "81926        28.327224              7.212516        0.029896   \n",
        "81927        28.327224              7.212516        0.009132   \n",
        "81965        28.327224              7.212516        0.010485   \n",
        "81966        28.327224              7.212516        0.017327   \n",
        "81967        28.327224              7.212516        0.014731   \n",
        "81968        28.327224              7.212516        0.002407   \n",
        "81969        28.327224              7.212516        0.012033   \n",
        "81971        28.327224              7.212516        0.007810   \n",
        "81974        28.327224              7.212516        0.001323   \n",
        "81975        28.327224              7.212516        0.001176   \n",
        "81976        28.327224              7.212516        0.001029   \n",
        "81977        28.327224              7.212516        0.001470   \n",
        "81978        28.327224              7.212516        0.003380   \n",
        "81979        28.327224              7.212516        0.000147   \n",
        "82040        28.327224              7.212516        0.000816   \n",
        "82041        28.327224              7.212516        0.001633   \n",
        "82042        28.327224              7.212516        0.000816   \n",
        "82043        28.327224              7.212516        0.004899   \n",
        "82044        28.327224              7.212516        0.002449   \n",
        "82046        28.327224              7.212516        0.000816   \n",
        "82096        28.327224              7.212516        0.000816   \n",
        "82097        28.327224              7.212516        0.006747   \n",
        "82098        28.327224              7.212516        0.001891   \n",
        "82144        28.327224              7.212516        0.008595   \n",
        "\n",
        "       % Variation from Average  %Total Gross Profit  \n",
        "7                     12.612519             0.000827  \n",
        "8                    350.450076             0.003308  \n",
        "9                     12.612519             0.000827  \n",
        "10                   800.900151             0.006616  \n",
        "11                  1251.350227             0.009924  \n",
        "12                    12.612519             0.000827  \n",
        "13                   237.837557             0.002481  \n",
        "15                    12.612519             0.000827  \n",
        "16                   967.524317             0.012152  \n",
        "17                   374.455252             0.005401  \n",
        "18                   137.227626             0.002700  \n",
        "87                   111.810380             0.002025  \n",
        "109                    9.435363             0.001350  \n",
        "110                  118.870726             0.002700  \n",
        "111                  337.741453             0.005401  \n",
        "112                  118.870726             0.002700  \n",
        "113                    2.375017             0.001013  \n",
        "158                   94.159515             0.001857  \n",
        "160                   94.159515             0.001857  \n",
        "199                  -64.698270             0.001688  \n",
        "243                  -77.053875             0.001097  \n",
        "287                  -68.228443             0.001519  \n",
        "347                  140.051764             0.002700  \n",
        "348                  620.155293             0.008101  \n",
        "349                  140.051764             0.002700  \n",
        "388                  203.594878             0.003755  \n",
        "390                  507.189757             0.007511  \n",
        "391                  203.594878             0.003755  \n",
        "393                  203.594878             0.003755  \n",
        "395                  810.784635             0.011266  \n",
        "...                         ...                  ...  \n",
        "81920               2606.230626             0.041199  \n",
        "81921                641.336331             0.011814  \n",
        "81922                -73.523702             0.000422  \n",
        "81923                429.525951             0.008439  \n",
        "81924               1064.957092             0.018566  \n",
        "81925               1022.866567             0.017397  \n",
        "81926               2355.877549             0.040622  \n",
        "81927                650.194337             0.011394  \n",
        "81965                761.362213             0.015359  \n",
        "81966               1323.365756             0.026448  \n",
        "81967               1110.122542             0.021991  \n",
        "81968                 97.689688             0.003713  \n",
        "81969                888.448442             0.018566  \n",
        "81971                541.555066             0.010588  \n",
        "81974                  8.658725             0.001200  \n",
        "81975                 -3.414467             0.001067  \n",
        "81976                -15.487658             0.000933  \n",
        "81977                 20.731917             0.001333  \n",
        "81978                177.683409             0.003067  \n",
        "81979                -87.926808             0.000133  \n",
        "82040                -32.926713             0.000675  \n",
        "82041                 34.146574             0.001350  \n",
        "82042                -32.926713             0.000675  \n",
        "82043                302.439723             0.004051  \n",
        "82044                101.219861             0.002025  \n",
        "82046                -32.926713             0.000675  \n",
        "82096                -32.926713             0.000675  \n",
        "82097                454.237162             0.008776  \n",
        "82098                 55.327612             0.002363  \n",
        "82144                606.034601             0.008439  \n",
        "\n",
        "[8943 rows x 12 columns]"
       ]
      }
     ],
     "prompt_number": 14
    },
    {
     "cell_type": "code",
     "collapsed": false,
     "input": [],
     "language": "python",
     "metadata": {},
     "outputs": []
    }
   ],
   "metadata": {}
  }
 ]
}
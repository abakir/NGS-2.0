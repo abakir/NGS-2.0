{
 "metadata": {
  "name": "",
  "signature": "sha256:c375eae6c5879075760b76c41c6986892d0317f6f239eefe1c54d843c5d29564"
 },
 "nbformat": 3,
 "nbformat_minor": 0,
 "worksheets": [
  {
   "cells": [
    {
     "cell_type": "code",
     "collapsed": false,
     "input": [
      "import pandas as pd\n",
      "import re\n",
      "from datetime import datetime\n",
      "import datetime as DT\n",
      "\n",
      "df1 = pd.read_csv('C:\\Users\\saisree849\\Downloads\\\\vend-total_revenue-for-product_variant-by-day.csv')\n",
      "\n",
      "df1 = df1[[0,3,5]+range(7,len(df1.columns)-5)]#reqd columns\n",
      "df1 = df1[:max(df1.index)-4] #reqd rows\n",
      "\n",
      "#remove null products, change to upper case\n",
      "df1 = df1[pd.notnull(df1['Product'])]\n",
      "df1['Product'] = df1['Product'].apply(lambda x: x.upper())\n",
      "\n",
      "df1 = df1.sort('Product')\n",
      "df1.fillna(0, inplace=True) #replace na values with 0\n",
      "df1 = df1[~df1['Product'].str.contains(\"CAIRO\")] #remove unnecessary rows\n",
      "df1 = df1.reset_index().drop('index',1)\n",
      "df1 = df1.groupby(['Product', 'Brand', 'Type'], axis=0, as_index=False).sum()\n",
      "\n",
      "\n",
      "df2 = pd.read_csv('C:\\Users\\saisree849\\Downloads\\\\vend-total_revenue-for-product_variant-by-day (1).csv')\n",
      "\n",
      "df2 = df2[[0,3,5]+range(7,len(df2.columns)-5)]#reqd columns\n",
      "df2 = df2[:max(df2.index)-4] #reqd rows\n",
      "\n",
      "#remove null products, change to upper case\n",
      "df2 = df2[pd.notnull(df2['Product'])]\n",
      "df2['Product'] = df2['Product'].apply(lambda x: x.upper())\n",
      "\n",
      "df2 = df2.sort('Product')\n",
      "df2.fillna(0, inplace=True) #replace na values with 0\n",
      "df2 = df2[~df2['Product'].str.contains(\"CAIRO\")] #remove unnecessary rows\n",
      "df2 = df2.reset_index().drop('index',1)\n",
      "df2 = df2.groupby(['Product', 'Brand', 'Type'], axis=0, as_index=False).sum()\n",
      "\n",
      "\n",
      "df3 = pd.read_csv('C:\\Users\\saisree849\\Downloads\\\\vend-total_revenue-for-product_variant-by-day (2).csv')\n",
      "\n",
      "df3 = df3[[0,3,5]+range(7,len(df3.columns)-5)]#reqd columns\n",
      "df3 = df3[:max(df3.index)-4] #reqd rows\n",
      "\n",
      "#remove null products, change to upper case\n",
      "df3 = df3[pd.notnull(df3['Product'])]\n",
      "df3['Product'] = df3['Product'].apply(lambda x: x.upper())\n",
      "\n",
      "df3 = df3.sort('Product')\n",
      "df3.fillna(0, inplace=True) #replace na values with 0\n",
      "df3 = df3[~df3['Product'].str.contains(\"CAIRO\")] #remove unnecessary rows\n",
      "df3 = df3.reset_index().drop('index',1)\n",
      "df3 = df3.groupby(['Product', 'Brand', 'Type'], axis=0, as_index=False).sum()\n",
      "\n",
      "\n",
      "df4 = pd.read_csv('C:\\Users\\saisree849\\Downloads\\\\vend-total_revenue-for-product_variant-by-day (3).csv')\n",
      "\n",
      "df4 = df4[[0,3,5]+range(7,len(df4.columns)-5)]#reqd columns\n",
      "df4 = df4[:max(df4.index)-4] #reqd rows\n",
      "\n",
      "#remove null products, change to upper case\n",
      "df4 = df4[pd.notnull(df4['Product'])]\n",
      "df4['Product'] = df4['Product'].apply(lambda x: x.upper())\n",
      "\n",
      "df4 = df4.sort('Product')\n",
      "df4.fillna(0, inplace=True) #replace na values with 0\n",
      "df4 = df4[~df4['Product'].str.contains(\"CAIRO\")] #remove unnecessary rows\n",
      "df4 = df4.reset_index().drop('index',1)\n",
      "df4 = df4.groupby(['Product', 'Brand', 'Type'], axis=0, as_index=False).sum()\n",
      "\n",
      "\n",
      "df = df1.merge(df2, on = ['Product', 'Brand', 'Type'], how = 'outer')\n",
      "df = df.merge(df3, on = ['Product', 'Brand', 'Type'], how = 'outer')\n",
      "df = df.merge(df4, on = ['Product', 'Brand', 'Type'], how = 'outer')\n",
      "df.fillna(0, inplace=True)"
     ],
     "language": "python",
     "metadata": {},
     "outputs": [],
     "prompt_number": 41
    },
    {
     "cell_type": "code",
     "collapsed": false,
     "input": [
      "df = df.transpose()\n",
      "df = df.reset_index()\n",
      "df1 = df[0:3]\n",
      "df = df[3:]\n",
      "ls = ['Index']\n",
      "ls = ls + range(0,1867)\n",
      "df.columns = ls\n",
      "df1.columns = ls"
     ],
     "language": "python",
     "metadata": {},
     "outputs": [],
     "prompt_number": 42
    },
    {
     "cell_type": "code",
     "collapsed": false,
     "input": [
      "def changeDate(data):\n",
      "    matchobj = re.match(r'(.*) (.*) (.*) (.*).*',data)\n",
      "    if (matchobj.group(1) == 'Wed'):\n",
      "        data = matchobj.group(2)[:-2] + \" \" + matchobj.group(3) + \" \" + matchobj.group(4)\n",
      "        return datetime.strptime(data, '%d %b %Y').date() - DT.timedelta(days=6)\n",
      "    if (matchobj.group(1) == 'Tue'):\n",
      "        data = matchobj.group(2)[:-2] + \" \" + matchobj.group(3) + \" \" + matchobj.group(4)\n",
      "        return datetime.strptime(data, '%d %b %Y').date() - DT.timedelta(days=5)\n",
      "    if (matchobj.group(1) == 'Mon'):\n",
      "        data = matchobj.group(2)[:-2] + \" \" + matchobj.group(3) + \" \" + matchobj.group(4)\n",
      "        return datetime.strptime(data, '%d %b %Y').date() - DT.timedelta(days=4)\n",
      "    if (matchobj.group(1) == 'Sun'):\n",
      "        data = matchobj.group(2)[:-2] + \" \" + matchobj.group(3) + \" \" + matchobj.group(4)\n",
      "        return datetime.strptime(data, '%d %b %Y').date() - DT.timedelta(days=3)\n",
      "    if (matchobj.group(1) == 'Sat'):\n",
      "        data = matchobj.group(2)[:-2] + \" \" + matchobj.group(3) + \" \" + matchobj.group(4)\n",
      "        return datetime.strptime(data, '%d %b %Y').date() - DT.timedelta(days=2)\n",
      "    if (matchobj.group(1) == 'Fri'):\n",
      "        data = matchobj.group(2)[:-2] + \" \" + matchobj.group(3) + \" \" + matchobj.group(4)\n",
      "        return datetime.strptime(data, '%d %b %Y').date() - DT.timedelta(days=1)\n",
      "    if (matchobj.group(1) == 'Thu'):\n",
      "        data = matchobj.group(2)[:-2] + \" \" + matchobj.group(3) + \" \" + matchobj.group(4)\n",
      "        return datetime.strptime(data, '%d %b %Y').date()\n",
      "    \n",
      "df['Index'] = df.Index.apply(changeDate)"
     ],
     "language": "python",
     "metadata": {},
     "outputs": [],
     "prompt_number": 43
    },
    {
     "cell_type": "code",
     "collapsed": false,
     "input": [
      "df = df.groupby(['Index'], axis=0, as_index=False).sum()\n",
      "df = df1.append(df)\n",
      "df = df.set_index('Index')\n",
      "df = df.transpose()"
     ],
     "language": "python",
     "metadata": {},
     "outputs": [],
     "prompt_number": 44
    },
    {
     "cell_type": "code",
     "collapsed": false,
     "input": [
      "prods = df['Product'].tolist()\n",
      "new_prods = []\n",
      "for j in range(0, len(df.columns)-3):\n",
      "    new_prods = new_prods + prods\n",
      "    \n",
      "brands = df['Brand'].tolist()\n",
      "new_brands = []\n",
      "for j in range(0, len(df.columns)-3):\n",
      "    new_brands = new_brands + brands\n",
      "    \n",
      "types = df['Type'].tolist()\n",
      "new_types = []\n",
      "for j in range(0, len(df.columns)-3):\n",
      "    new_types = new_types + types\n",
      "    \n",
      "df1 = df[range(3,len(df.columns))]\n",
      "dates = df1.columns.tolist()\n",
      "new_dates = []\n",
      "rev = []\n",
      "for i in dates:\n",
      "    rev = rev + df[i].tolist()\n",
      "    for j in range(0, max(df.index)+1):\n",
      "        new_dates.append(i)\n",
      "    \n",
      "\n",
      "#create new df and initialize columns\n",
      "df2 = pd.DataFrame(columns=['Product', 'Brand', 'Type', 'Date'])\n",
      "df2['Product'] = new_prods\n",
      "df2['Brand'] = new_brands\n",
      "df2['Type'] = new_types\n",
      "df2['Date'] = new_dates\n",
      "df2['Revenue'] = rev"
     ],
     "language": "python",
     "metadata": {},
     "outputs": [],
     "prompt_number": 45
    },
    {
     "cell_type": "code",
     "collapsed": false,
     "input": [
      "revdf = df2"
     ],
     "language": "python",
     "metadata": {},
     "outputs": [],
     "prompt_number": 47
    },
    {
     "cell_type": "code",
     "collapsed": false,
     "input": [
      "import pandas as pd\n",
      "import re\n",
      "from datetime import datetime\n",
      "import datetime as DT\n",
      "\n",
      "df1 = pd.read_csv('C:\\Users\\saisree849\\Downloads\\\\vend-gross_profit-for-product_variant-by-day.csv')\n",
      "\n",
      "df1 = df1[[0,3,5]+range(7,len(df1.columns)-5)]#reqd columns\n",
      "df1 = df1[:max(df1.index)-4] #reqd rows\n",
      "\n",
      "#remove null products, change to upper case\n",
      "df1 = df1[pd.notnull(df1['Product'])]\n",
      "df1['Product'] = df1['Product'].apply(lambda x: x.upper())\n",
      "\n",
      "df1 = df1.sort('Product')\n",
      "df1.fillna(0, inplace=True) #replace na values with 0\n",
      "df1 = df1[~df1['Product'].str.contains(\"CAIRO\")] #remove unnecessary rows\n",
      "df1 = df1.reset_index().drop('index',1)\n",
      "df1 = df1.groupby(['Product', 'Brand', 'Type'], axis=0, as_index=False).sum()\n",
      "\n",
      "\n",
      "df2 = pd.read_csv('C:\\Users\\saisree849\\Downloads\\\\vend-gross_profit-for-product_variant-by-day (1).csv')\n",
      "\n",
      "df2 = df2[[0,3,5]+range(7,len(df2.columns)-5)]#reqd columns\n",
      "df2 = df2[:max(df2.index)-4] #reqd rows\n",
      "\n",
      "#remove null products, change to upper case\n",
      "df2 = df2[pd.notnull(df2['Product'])]\n",
      "df2['Product'] = df2['Product'].apply(lambda x: x.upper())\n",
      "\n",
      "df2 = df2.sort('Product')\n",
      "df2.fillna(0, inplace=True) #replace na values with 0\n",
      "df2 = df2[~df2['Product'].str.contains(\"CAIRO\")] #remove unnecessary rows\n",
      "df2 = df2.reset_index().drop('index',1)\n",
      "df2 = df2.groupby(['Product', 'Brand', 'Type'], axis=0, as_index=False).sum()\n",
      "\n",
      "\n",
      "df3 = pd.read_csv('C:\\Users\\saisree849\\Downloads\\\\vend-gross_profit-for-product_variant-by-day (2).csv')\n",
      "\n",
      "df3 = df3[[0,3,5]+range(7,len(df3.columns)-5)]#reqd columns\n",
      "df3 = df3[:max(df3.index)-4] #reqd rows\n",
      "\n",
      "#remove null products, change to upper case\n",
      "df3 = df3[pd.notnull(df3['Product'])]\n",
      "df3['Product'] = df3['Product'].apply(lambda x: x.upper())\n",
      "\n",
      "df3 = df3.sort('Product')\n",
      "df3.fillna(0, inplace=True) #replace na values with 0\n",
      "df3 = df3[~df3['Product'].str.contains(\"CAIRO\")] #remove unnecessary rows\n",
      "df3 = df3.reset_index().drop('index',1)\n",
      "df3 = df3.groupby(['Product', 'Brand', 'Type'], axis=0, as_index=False).sum()\n",
      "\n",
      "\n",
      "df4 = pd.read_csv('C:\\Users\\saisree849\\Downloads\\\\vend-gross_profit-for-product_variant-by-day (3).csv')\n",
      "\n",
      "df4 = df4[[0,3,5]+range(7,len(df4.columns)-5)]#reqd columns\n",
      "df4 = df4[:max(df4.index)-4] #reqd rows\n",
      "\n",
      "#remove null products, change to upper case\n",
      "df4 = df4[pd.notnull(df4['Product'])]\n",
      "df4['Product'] = df4['Product'].apply(lambda x: x.upper())\n",
      "\n",
      "df4 = df4.sort('Product')\n",
      "df4.fillna(0, inplace=True) #replace na values with 0\n",
      "df4 = df4[~df4['Product'].str.contains(\"CAIRO\")] #remove unnecessary rows\n",
      "df4 = df4.reset_index().drop('index',1)\n",
      "df4 = df4.groupby(['Product', 'Brand', 'Type'], axis=0, as_index=False).sum()\n",
      "\n",
      "\n",
      "df = df1.merge(df2, on = ['Product', 'Brand', 'Type'], how = 'outer')\n",
      "df = df.merge(df3, on = ['Product', 'Brand', 'Type'], how = 'outer')\n",
      "df = df.merge(df4, on = ['Product', 'Brand', 'Type'], how = 'outer')\n",
      "df.fillna(0, inplace=True)"
     ],
     "language": "python",
     "metadata": {},
     "outputs": [],
     "prompt_number": 49
    },
    {
     "cell_type": "code",
     "collapsed": false,
     "input": [
      "df = df.transpose()\n",
      "df = df.reset_index()\n",
      "df1 = df[0:3]\n",
      "df = df[3:]\n",
      "ls = ['Index']\n",
      "ls = ls + range(0,1867)\n",
      "df.columns = ls\n",
      "df1.columns = ls"
     ],
     "language": "python",
     "metadata": {},
     "outputs": [],
     "prompt_number": 50
    },
    {
     "cell_type": "code",
     "collapsed": false,
     "input": [
      "def changeDate(data):\n",
      "    matchobj = re.match(r'(.*) (.*) (.*) (.*).*',data)\n",
      "    if (matchobj.group(1) == 'Wed'):\n",
      "        data = matchobj.group(2)[:-2] + \" \" + matchobj.group(3) + \" \" + matchobj.group(4)\n",
      "        return datetime.strptime(data, '%d %b %Y').date() - DT.timedelta(days=6)\n",
      "    if (matchobj.group(1) == 'Tue'):\n",
      "        data = matchobj.group(2)[:-2] + \" \" + matchobj.group(3) + \" \" + matchobj.group(4)\n",
      "        return datetime.strptime(data, '%d %b %Y').date() - DT.timedelta(days=5)\n",
      "    if (matchobj.group(1) == 'Mon'):\n",
      "        data = matchobj.group(2)[:-2] + \" \" + matchobj.group(3) + \" \" + matchobj.group(4)\n",
      "        return datetime.strptime(data, '%d %b %Y').date() - DT.timedelta(days=4)\n",
      "    if (matchobj.group(1) == 'Sun'):\n",
      "        data = matchobj.group(2)[:-2] + \" \" + matchobj.group(3) + \" \" + matchobj.group(4)\n",
      "        return datetime.strptime(data, '%d %b %Y').date() - DT.timedelta(days=3)\n",
      "    if (matchobj.group(1) == 'Sat'):\n",
      "        data = matchobj.group(2)[:-2] + \" \" + matchobj.group(3) + \" \" + matchobj.group(4)\n",
      "        return datetime.strptime(data, '%d %b %Y').date() - DT.timedelta(days=2)\n",
      "    if (matchobj.group(1) == 'Fri'):\n",
      "        data = matchobj.group(2)[:-2] + \" \" + matchobj.group(3) + \" \" + matchobj.group(4)\n",
      "        return datetime.strptime(data, '%d %b %Y').date() - DT.timedelta(days=1)\n",
      "    if (matchobj.group(1) == 'Thu'):\n",
      "        data = matchobj.group(2)[:-2] + \" \" + matchobj.group(3) + \" \" + matchobj.group(4)\n",
      "        return datetime.strptime(data, '%d %b %Y').date()\n",
      "    \n",
      "df['Index'] = df.Index.apply(changeDate)"
     ],
     "language": "python",
     "metadata": {},
     "outputs": [],
     "prompt_number": 51
    },
    {
     "cell_type": "code",
     "collapsed": false,
     "input": [
      "df = df.groupby(['Index'], axis=0, as_index=False).sum()\n",
      "df = df1.append(df)\n",
      "df = df.set_index('Index')\n",
      "df = df.transpose()"
     ],
     "language": "python",
     "metadata": {},
     "outputs": [],
     "prompt_number": 52
    },
    {
     "cell_type": "code",
     "collapsed": false,
     "input": [
      "df1 = df[range(3,len(df.columns))]\n",
      "dates = df1.columns.tolist()\n",
      "new_dates = []\n",
      "rev = []\n",
      "for i in dates:\n",
      "    rev = rev + df[i].tolist()\n",
      "\n",
      "revdf['Gross Profit'] = rev"
     ],
     "language": "python",
     "metadata": {},
     "outputs": [],
     "prompt_number": 54
    },
    {
     "cell_type": "code",
     "collapsed": false,
     "input": [
      "gprofit = revdf[['Product', 'Brand', 'Type', 'Date', 'Revenue' , 'Gross Profit']]\n",
      "\n",
      "total = gprofit['Revenue'].sum(1) #total revenue\n",
      "totalgp = gprofit['Gross Profit'].sum(1) #total gross profit\n",
      "gprofit['%Total Revenue'] = gprofit['Revenue'].apply(lambda x: x*100/total) #%total revenue\n",
      "totprods = max(gprofit.index) + 1\n",
      "temp = total/totprods #total revenue / total products\n",
      "gprofit['Average Revenue'] = temp #avg revenue\n",
      "gprofit['Average Gross Profit'] = totalgp/totprods #avg gross profit\n",
      "\n",
      "gprofit['% Variation from Average'] = gprofit['Revenue'].apply(lambda x: (x-temp)*100/temp)\n",
      "total = gprofit['Gross Profit'].sum(1)\n",
      "gprofit['%Total Gross Profit'] = gprofit['Gross Profit'].apply(lambda x: x*100/total)\n",
      "gprofit=gprofit[gprofit['Revenue'] != 0] \n",
      "gprofit = gprofit.reset_index().drop('index',1)"
     ],
     "language": "python",
     "metadata": {},
     "outputs": [],
     "prompt_number": 56
    },
    {
     "cell_type": "code",
     "collapsed": false,
     "input": [
      "df1 = pd.read_csv('C:\\Users\\saisree849\\Documents\\GitHub\\NGS-2.0\\\\12_dashboard_tables\\data_output\\\\products.csv')\n",
      "df1 = df1[['Product', 'Brand', 'Type', 'CMGR']]\n",
      "df1['Product'] = df1.apply(lambda x: str(x['Product']) +\",\"+ str(x['Brand']) +\",\"+ str(x['Type']), axis=1)\n",
      "df1 = df1[['Product', 'CMGR']]\n",
      "df1 = df1.set_index('Product')\n",
      "df1.index.name = None\n",
      "                                           \n",
      "# get CGMR for each product from products table                            \n",
      "gprofit['Newname'] = gprofit.apply(lambda x: str(x['Product']) +\",\"+ str(x['Brand']) +\",\"+ str(x['Type']), axis=1)\n",
      "for i in range(0, max(gprofit.index)+1):\n",
      "    gprofit.loc[i,'CMGR'] = df1.loc[gprofit.loc[i,'Newname'],'CMGR']"
     ],
     "language": "python",
     "metadata": {},
     "outputs": [],
     "prompt_number": 62
    },
    {
     "cell_type": "code",
     "collapsed": false,
     "input": [
      "gprofit = gprofit[['Product', 'Brand', 'Type', 'Date', 'Revenue', 'Gross Profit', 'CMGR', 'Average Revenue', 'Average Gross Profit', '%Total Revenue', '% Variation from Average', '%Total Gross Profit']]\n",
      "gprofit.to_csv('C:\\Users\\saisree849\\Documents\\GitHub\\NGS-2.0\\\\12_dashboard_tables\\data_output\\products_dates.csv', index=False)                                                                                                                                                                                                                                                                                                                                                                                                                                                                                                                                                                                                                                                                                                                                                                                                                                                                                                                                                                                                                                                                                                                                                                                                                                                                                                                                                                                                                                                                                                                                                                                                                                                                                                                                                                                                                                                                                                                                                                    "
     ],
     "language": "python",
     "metadata": {},
     "outputs": [],
     "prompt_number": 64
    },
    {
     "cell_type": "code",
     "collapsed": false,
     "input": [],
     "language": "python",
     "metadata": {},
     "outputs": []
    }
   ],
   "metadata": {}
  }
 ]
}
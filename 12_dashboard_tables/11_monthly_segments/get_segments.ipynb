{
 "metadata": {
  "name": "",
  "signature": "sha256:d66b83d1889cba4dc928e6cfea761e7ab4c7fed55332a19c64692231619b000b"
 },
 "nbformat": 3,
 "nbformat_minor": 0,
 "worksheets": [
  {
   "cells": [
    {
     "cell_type": "code",
     "collapsed": false,
     "input": [
      "import pandas as pd\n",
      "\n",
      "df = pd.read_csv(os.path.abspath(os.getcwd()))[0]+'\\data_input\\enodos\\segment_number.csv',names=['Cluster', 'Segment'])\n",
      "df1 = pd.read_csv(os.path.abspath(os.getcwd()))[0]+'\\data_input\\enodos\\cust_type_membership.csv',skiprows=1)\n",
      "df1 = df1.set_index('Case Number')\n",
      "df1.index.name = None\n",
      "df1 = df1.reset_index().drop('index',1)"
     ],
     "language": "python",
     "metadata": {},
     "outputs": [],
     "prompt_number": 1
    },
    {
     "cell_type": "code",
     "collapsed": false,
     "input": [
      "df2 = df1.merge(df, on=['Cluster'], how = 'outer')\n",
      "df2 = df2[['Customer', 'Segment', 'Distance']]\n",
      "df2.columns = ['Email', 'Segment', 'Score']"
     ],
     "language": "python",
     "metadata": {},
     "outputs": [],
     "prompt_number": 2
    },
    {
     "cell_type": "code",
     "collapsed": false,
     "input": [
      "df2.to_csv(os.path.abspath(os.getcwd()))[0]+'\\data_input\\enodos\\segments.csv', index=False)"
     ],
     "language": "python",
     "metadata": {},
     "outputs": [],
     "prompt_number": 3
    },
    {
     "cell_type": "code",
     "collapsed": false,
     "input": [],
     "language": "python",
     "metadata": {},
     "outputs": []
    }
   ],
   "metadata": {}
  }
 ]
}